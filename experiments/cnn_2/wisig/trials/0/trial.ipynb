{
 "cells": [
  {
   "cell_type": "code",
   "execution_count": 1,
   "id": "2324682e",
   "metadata": {
    "execution": {
     "iopub.execute_input": "2022-03-26T10:56:39.099864Z",
     "iopub.status.busy": "2022-03-26T10:56:39.098950Z",
     "iopub.status.idle": "2022-03-26T10:56:40.398913Z",
     "shell.execute_reply": "2022-03-26T10:56:40.398000Z"
    },
    "papermill": {
     "duration": 1.336413,
     "end_time": "2022-03-26T10:56:40.399115",
     "exception": false,
     "start_time": "2022-03-26T10:56:39.062702",
     "status": "completed"
    },
    "tags": []
   },
   "outputs": [],
   "source": [
    "import os, json, sys, time, random\n",
    "import numpy as np\n",
    "import torch\n",
    "from  easydict import EasyDict\n",
    "from math import floor\n",
    "from easydict import EasyDict\n",
    "\n",
    "from steves_utils.vanilla_train_eval_test_jig import  Vanilla_Train_Eval_Test_Jig\n",
    "\n",
    "from steves_utils.torch_utils import get_dataset_metrics, independent_accuracy_assesment\n",
    "from steves_models.configurable_vanilla import Configurable_Vanilla\n",
    "from steves_utils.torch_sequential_builder import build_sequential\n",
    "from steves_utils.lazy_map import Lazy_Map\n",
    "from steves_utils.sequence_aggregator import Sequence_Aggregator\n",
    "\n",
    "from steves_utils.stratified_dataset.traditional_accessor import Traditional_Accessor_Factory\n",
    "\n",
    "from steves_utils.cnn_do_report import (\n",
    "    get_loss_curve,\n",
    "    get_results_table,\n",
    "    get_parameters_table,\n",
    "    get_domain_accuracies,\n",
    ")\n",
    "\n",
    "from steves_utils.torch_utils import (\n",
    "    confusion_by_domain_over_dataloader,\n",
    "    independent_accuracy_assesment\n",
    ")\n",
    "\n",
    "from steves_utils.utils_v2 import (\n",
    "    per_domain_accuracy_from_confusion,\n",
    "    get_datasets_base_path\n",
    ")\n",
    "\n",
    "# from steves_utils.ptn_do_report import TBD"
   ]
  },
  {
   "cell_type": "code",
   "execution_count": 2,
   "id": "1b29e3fe",
   "metadata": {
    "execution": {
     "iopub.execute_input": "2022-03-26T10:56:40.438085Z",
     "iopub.status.busy": "2022-03-26T10:56:40.437495Z",
     "iopub.status.idle": "2022-03-26T10:56:40.440467Z",
     "shell.execute_reply": "2022-03-26T10:56:40.439903Z"
    },
    "papermill": {
     "duration": 0.022551,
     "end_time": "2022-03-26T10:56:40.440572",
     "exception": false,
     "start_time": "2022-03-26T10:56:40.418021",
     "status": "completed"
    },
    "tags": []
   },
   "outputs": [],
   "source": [
    "required_parameters = {\n",
    "    \"experiment_name\",\n",
    "    \"lr\",\n",
    "    \"device\",\n",
    "    \"dataset_seed\",\n",
    "    \"seed\",\n",
    "    \"labels\",\n",
    "    \"domains_target\",\n",
    "    \"domains_source\",\n",
    "    \"num_examples_per_domain_per_label_source\",\n",
    "    \"num_examples_per_domain_per_label_target\",\n",
    "    \"batch_size\",\n",
    "    \"n_epoch\",\n",
    "    \"patience\",\n",
    "    \"criteria_for_best\",\n",
    "    \"normalize_source\",\n",
    "    \"normalize_target\",\n",
    "    \"x_net\",\n",
    "    \"NUM_LOGS_PER_EPOCH\",\n",
    "    \"BEST_MODEL_PATH\",\n",
    "    \"pickle_name_source\",\n",
    "    \"pickle_name_target\",\n",
    "    \"torch_default_dtype\",\n",
    "}"
   ]
  },
  {
   "cell_type": "code",
   "execution_count": 3,
   "id": "670b5fb8",
   "metadata": {
    "execution": {
     "iopub.execute_input": "2022-03-26T10:56:40.485159Z",
     "iopub.status.busy": "2022-03-26T10:56:40.484543Z",
     "iopub.status.idle": "2022-03-26T10:56:40.492324Z",
     "shell.execute_reply": "2022-03-26T10:56:40.491488Z"
    },
    "papermill": {
     "duration": 0.033184,
     "end_time": "2022-03-26T10:56:40.492477",
     "exception": false,
     "start_time": "2022-03-26T10:56:40.459293",
     "status": "completed"
    },
    "tags": [
     "parameters"
    ]
   },
   "outputs": [],
   "source": [
    "from steves_utils.ORACLE.utils_v2 import (\n",
    "    ALL_SERIAL_NUMBERS,\n",
    "    ALL_DISTANCES_FEET_NARROWED,\n",
    ")\n",
    "\n",
    "standalone_parameters = {}\n",
    "standalone_parameters[\"experiment_name\"] = \"MANUAL CORES CNN\"\n",
    "standalone_parameters[\"lr\"] = 0.0001\n",
    "standalone_parameters[\"device\"] = \"cuda\"\n",
    "\n",
    "standalone_parameters[\"dataset_seed\"] = 1337\n",
    "standalone_parameters[\"seed\"] = 1337\n",
    "standalone_parameters[\"labels\"] = ALL_SERIAL_NUMBERS\n",
    "\n",
    "standalone_parameters[\"domains_source\"] = [8,32,50]\n",
    "standalone_parameters[\"domains_target\"] = [14,20,26,38,44,]\n",
    "\n",
    "standalone_parameters[\"num_examples_per_domain_per_label_source\"]=-1\n",
    "standalone_parameters[\"num_examples_per_domain_per_label_target\"]=-1\n",
    "\n",
    "standalone_parameters[\"pickle_name_source\"] = \"oracle.Run1_framed_2000Examples_stratified_ds.2022A.pkl\"\n",
    "standalone_parameters[\"pickle_name_target\"] = \"oracle.Run2_framed_2000Examples_stratified_ds.2022A.pkl\"\n",
    "\n",
    "standalone_parameters[\"torch_default_dtype\"] = \"torch.float32\" \n",
    "\n",
    "standalone_parameters[\"batch_size\"]=128\n",
    "\n",
    "standalone_parameters[\"n_epoch\"] = 3\n",
    "\n",
    "standalone_parameters[\"patience\"] = 10\n",
    "\n",
    "standalone_parameters[\"criteria_for_best\"] = \"target_accuracy\"\n",
    "standalone_parameters[\"normalize_source\"] = False\n",
    "standalone_parameters[\"normalize_target\"] = False\n",
    "\n",
    "standalone_parameters[\"x_net\"] =     [\n",
    "    {\"class\": \"nnReshape\", \"kargs\": {\"shape\":[-1, 1, 2, 256]}},\n",
    "    {\"class\": \"Conv2d\", \"kargs\": { \"in_channels\":1, \"out_channels\":256, \"kernel_size\":(1,7), \"bias\":False, \"padding\":(0,3), },},\n",
    "    {\"class\": \"ReLU\", \"kargs\": {\"inplace\": True}},\n",
    "    {\"class\": \"BatchNorm2d\", \"kargs\": {\"num_features\":256}},\n",
    "\n",
    "    {\"class\": \"Conv2d\", \"kargs\": { \"in_channels\":256, \"out_channels\":80, \"kernel_size\":(2,7), \"bias\":True, \"padding\":(0,3), },},\n",
    "    {\"class\": \"ReLU\", \"kargs\": {\"inplace\": True}},\n",
    "    {\"class\": \"BatchNorm2d\", \"kargs\": {\"num_features\":80}},\n",
    "    {\"class\": \"Flatten\", \"kargs\": {}},\n",
    "\n",
    "    {\"class\": \"Linear\", \"kargs\": {\"in_features\": 80*256, \"out_features\": 256}}, # 80 units per IQ pair\n",
    "    {\"class\": \"ReLU\", \"kargs\": {\"inplace\": True}},\n",
    "    {\"class\": \"BatchNorm1d\", \"kargs\": {\"num_features\":256}},\n",
    "\n",
    "    {\"class\": \"Linear\", \"kargs\": {\"in_features\": 256, \"out_features\": len(standalone_parameters[\"labels\"])}},\n",
    "]\n",
    "\n",
    "standalone_parameters[\"NUM_LOGS_PER_EPOCH\"] = 10\n",
    "standalone_parameters[\"BEST_MODEL_PATH\"] = \"./best_model.pth\""
   ]
  },
  {
   "cell_type": "code",
   "execution_count": 4,
   "id": "7a7d1c46",
   "metadata": {
    "execution": {
     "iopub.execute_input": "2022-03-26T10:56:40.545730Z",
     "iopub.status.busy": "2022-03-26T10:56:40.544742Z",
     "iopub.status.idle": "2022-03-26T10:56:40.547508Z",
     "shell.execute_reply": "2022-03-26T10:56:40.546686Z"
    },
    "papermill": {
     "duration": 0.035827,
     "end_time": "2022-03-26T10:56:40.547697",
     "exception": false,
     "start_time": "2022-03-26T10:56:40.511870",
     "status": "completed"
    },
    "tags": [
     "injected-parameters"
    ]
   },
   "outputs": [],
   "source": [
    "# Parameters\n",
    "parameters = {\n",
    "    \"experiment_name\": \"cnn_2:wisig\",\n",
    "    \"labels\": [\n",
    "        \"1-10\",\n",
    "        \"1-12\",\n",
    "        \"1-14\",\n",
    "        \"1-16\",\n",
    "        \"1-18\",\n",
    "        \"1-19\",\n",
    "        \"1-8\",\n",
    "        \"10-11\",\n",
    "        \"10-17\",\n",
    "        \"10-4\",\n",
    "        \"10-7\",\n",
    "        \"11-1\",\n",
    "        \"11-10\",\n",
    "        \"11-19\",\n",
    "        \"11-20\",\n",
    "        \"11-4\",\n",
    "        \"11-7\",\n",
    "        \"12-19\",\n",
    "        \"12-20\",\n",
    "        \"12-7\",\n",
    "        \"13-14\",\n",
    "        \"13-18\",\n",
    "        \"13-19\",\n",
    "        \"13-20\",\n",
    "        \"13-3\",\n",
    "        \"13-7\",\n",
    "        \"14-10\",\n",
    "        \"14-11\",\n",
    "        \"14-12\",\n",
    "        \"14-13\",\n",
    "        \"14-14\",\n",
    "        \"14-19\",\n",
    "        \"14-20\",\n",
    "        \"14-7\",\n",
    "        \"14-8\",\n",
    "        \"14-9\",\n",
    "        \"15-1\",\n",
    "        \"15-19\",\n",
    "        \"15-6\",\n",
    "        \"16-1\",\n",
    "        \"16-16\",\n",
    "        \"16-19\",\n",
    "        \"16-20\",\n",
    "        \"17-10\",\n",
    "        \"17-11\",\n",
    "        \"18-1\",\n",
    "        \"18-10\",\n",
    "        \"18-11\",\n",
    "        \"18-12\",\n",
    "        \"18-13\",\n",
    "        \"18-14\",\n",
    "        \"18-15\",\n",
    "        \"18-16\",\n",
    "        \"18-17\",\n",
    "        \"18-19\",\n",
    "        \"18-2\",\n",
    "        \"18-20\",\n",
    "        \"18-4\",\n",
    "        \"18-5\",\n",
    "        \"18-7\",\n",
    "        \"18-8\",\n",
    "        \"18-9\",\n",
    "        \"19-1\",\n",
    "        \"19-10\",\n",
    "        \"19-11\",\n",
    "        \"19-12\",\n",
    "        \"19-13\",\n",
    "        \"19-14\",\n",
    "        \"19-15\",\n",
    "        \"19-19\",\n",
    "        \"19-2\",\n",
    "        \"19-20\",\n",
    "        \"19-3\",\n",
    "        \"19-4\",\n",
    "        \"19-6\",\n",
    "        \"19-7\",\n",
    "        \"19-8\",\n",
    "        \"19-9\",\n",
    "        \"2-1\",\n",
    "        \"2-13\",\n",
    "        \"2-15\",\n",
    "        \"2-3\",\n",
    "        \"2-4\",\n",
    "        \"2-5\",\n",
    "        \"2-6\",\n",
    "        \"2-7\",\n",
    "        \"2-8\",\n",
    "        \"20-1\",\n",
    "        \"20-12\",\n",
    "        \"20-14\",\n",
    "        \"20-15\",\n",
    "        \"20-16\",\n",
    "        \"20-18\",\n",
    "        \"20-19\",\n",
    "        \"20-20\",\n",
    "        \"20-3\",\n",
    "        \"20-4\",\n",
    "        \"20-5\",\n",
    "        \"20-7\",\n",
    "        \"20-8\",\n",
    "        \"3-1\",\n",
    "        \"3-13\",\n",
    "        \"3-18\",\n",
    "        \"3-2\",\n",
    "        \"3-8\",\n",
    "        \"4-1\",\n",
    "        \"4-10\",\n",
    "        \"4-11\",\n",
    "        \"5-1\",\n",
    "        \"5-5\",\n",
    "        \"6-1\",\n",
    "        \"6-15\",\n",
    "        \"6-6\",\n",
    "        \"7-10\",\n",
    "        \"7-11\",\n",
    "        \"7-12\",\n",
    "        \"7-13\",\n",
    "        \"7-14\",\n",
    "        \"7-7\",\n",
    "        \"7-8\",\n",
    "        \"7-9\",\n",
    "        \"8-1\",\n",
    "        \"8-13\",\n",
    "        \"8-14\",\n",
    "        \"8-18\",\n",
    "        \"8-20\",\n",
    "        \"8-3\",\n",
    "        \"8-8\",\n",
    "        \"9-1\",\n",
    "        \"9-7\",\n",
    "    ],\n",
    "    \"domains_source\": [1, 2, 3, 4],\n",
    "    \"domains_target\": [1, 2, 3, 4],\n",
    "    \"pickle_name_target\": \"wisig.node3-19.stratified_ds.2022A.pkl\",\n",
    "    \"pickle_name_source\": \"wisig.node3-19.stratified_ds.2022A.pkl\",\n",
    "    \"device\": \"cuda\",\n",
    "    \"lr\": 0.0001,\n",
    "    \"batch_size\": 128,\n",
    "    \"normalize_source\": False,\n",
    "    \"normalize_target\": False,\n",
    "    \"num_examples_per_domain_per_label_source\": -1,\n",
    "    \"num_examples_per_domain_per_label_target\": -1,\n",
    "    \"torch_default_dtype\": \"torch.float32\",\n",
    "    \"n_epoch\": 50,\n",
    "    \"patience\": 3,\n",
    "    \"criteria_for_best\": \"target_accuracy\",\n",
    "    \"x_net\": [\n",
    "        {\"class\": \"nnReshape\", \"kargs\": {\"shape\": [-1, 1, 2, 256]}},\n",
    "        {\n",
    "            \"class\": \"Conv2d\",\n",
    "            \"kargs\": {\n",
    "                \"in_channels\": 1,\n",
    "                \"out_channels\": 256,\n",
    "                \"kernel_size\": [1, 7],\n",
    "                \"bias\": False,\n",
    "                \"padding\": [0, 3],\n",
    "            },\n",
    "        },\n",
    "        {\"class\": \"ReLU\", \"kargs\": {\"inplace\": True}},\n",
    "        {\"class\": \"BatchNorm2d\", \"kargs\": {\"num_features\": 256}},\n",
    "        {\n",
    "            \"class\": \"Conv2d\",\n",
    "            \"kargs\": {\n",
    "                \"in_channels\": 256,\n",
    "                \"out_channels\": 80,\n",
    "                \"kernel_size\": [2, 7],\n",
    "                \"bias\": True,\n",
    "                \"padding\": [0, 3],\n",
    "            },\n",
    "        },\n",
    "        {\"class\": \"ReLU\", \"kargs\": {\"inplace\": True}},\n",
    "        {\"class\": \"BatchNorm2d\", \"kargs\": {\"num_features\": 80}},\n",
    "        {\"class\": \"Flatten\", \"kargs\": {}},\n",
    "        {\"class\": \"Linear\", \"kargs\": {\"in_features\": 20480, \"out_features\": 256}},\n",
    "        {\"class\": \"ReLU\", \"kargs\": {\"inplace\": True}},\n",
    "        {\"class\": \"BatchNorm1d\", \"kargs\": {\"num_features\": 256}},\n",
    "        {\"class\": \"Linear\", \"kargs\": {\"in_features\": 256, \"out_features\": 130}},\n",
    "    ],\n",
    "    \"NUM_LOGS_PER_EPOCH\": 10,\n",
    "    \"BEST_MODEL_PATH\": \"./best_model.pth\",\n",
    "    \"dataset_seed\": 154325,\n",
    "    \"seed\": 154325,\n",
    "}\n"
   ]
  },
  {
   "cell_type": "code",
   "execution_count": 5,
   "id": "759b56ec",
   "metadata": {
    "execution": {
     "iopub.execute_input": "2022-03-26T10:56:40.587685Z",
     "iopub.status.busy": "2022-03-26T10:56:40.587290Z",
     "iopub.status.idle": "2022-03-26T10:56:40.589467Z",
     "shell.execute_reply": "2022-03-26T10:56:40.589773Z"
    },
    "papermill": {
     "duration": 0.024003,
     "end_time": "2022-03-26T10:56:40.589853",
     "exception": false,
     "start_time": "2022-03-26T10:56:40.565850",
     "status": "completed"
    },
    "tags": []
   },
   "outputs": [],
   "source": [
    "# Set this to True if you want to run this template directly\n",
    "STANDALONE = False\n",
    "if STANDALONE:\n",
    "    print(\"parameters not injected, running with standalone_parameters\")\n",
    "    parameters = standalone_parameters\n",
    "\n",
    "if not 'parameters' in locals() and not 'parameters' in globals():\n",
    "    raise Exception(\"Parameter injection failed\")\n",
    "\n",
    "#Use an easy dict for all the parameters\n",
    "p = EasyDict(parameters)\n",
    "\n",
    "supplied_keys = set(p.keys())\n",
    "\n",
    "if  supplied_keys != required_parameters:\n",
    "    print(\"Parameters are incorrect\")\n",
    "    if len(supplied_keys - required_parameters)>0: print(\"Shouldn't have:\", str(supplied_keys - required_parameters))\n",
    "    if len(required_parameters - supplied_keys)>0: print(\"Need to have:\", str(required_parameters - supplied_keys))\n",
    "    raise RuntimeError(\"Parameters are incorrect\")\n",
    "\n"
   ]
  },
  {
   "cell_type": "code",
   "execution_count": 6,
   "id": "d5c66a71",
   "metadata": {
    "execution": {
     "iopub.execute_input": "2022-03-26T10:56:40.626273Z",
     "iopub.status.busy": "2022-03-26T10:56:40.625903Z",
     "iopub.status.idle": "2022-03-26T10:56:40.628768Z",
     "shell.execute_reply": "2022-03-26T10:56:40.629074Z"
    },
    "papermill": {
     "duration": 0.02029,
     "end_time": "2022-03-26T10:56:40.629153",
     "exception": false,
     "start_time": "2022-03-26T10:56:40.608863",
     "status": "completed"
    },
    "tags": []
   },
   "outputs": [],
   "source": [
    "###################################\n",
    "# Set the RNGs and make it all deterministic\n",
    "###################################\n",
    "np.random.seed(p.seed)\n",
    "random.seed(p.seed)\n",
    "torch.manual_seed(p.seed)\n",
    "\n",
    "torch.use_deterministic_algorithms(True) "
   ]
  },
  {
   "cell_type": "code",
   "execution_count": 7,
   "id": "92a65876",
   "metadata": {
    "execution": {
     "iopub.execute_input": "2022-03-26T10:56:40.662923Z",
     "iopub.status.busy": "2022-03-26T10:56:40.662550Z",
     "iopub.status.idle": "2022-03-26T10:56:40.665319Z",
     "shell.execute_reply": "2022-03-26T10:56:40.665625Z"
    },
    "papermill": {
     "duration": 0.020188,
     "end_time": "2022-03-26T10:56:40.665704",
     "exception": false,
     "start_time": "2022-03-26T10:56:40.645516",
     "status": "completed"
    },
    "tags": []
   },
   "outputs": [],
   "source": [
    "torch.set_default_dtype(eval(p.torch_default_dtype))"
   ]
  },
  {
   "cell_type": "code",
   "execution_count": 8,
   "id": "f1a32f01",
   "metadata": {
    "execution": {
     "iopub.execute_input": "2022-03-26T10:56:40.701608Z",
     "iopub.status.busy": "2022-03-26T10:56:40.701040Z",
     "iopub.status.idle": "2022-03-26T10:56:40.742614Z",
     "shell.execute_reply": "2022-03-26T10:56:40.741894Z"
    },
    "papermill": {
     "duration": 0.059171,
     "end_time": "2022-03-26T10:56:40.742767",
     "exception": false,
     "start_time": "2022-03-26T10:56:40.683596",
     "status": "completed"
    },
    "tags": []
   },
   "outputs": [],
   "source": [
    "###################################\n",
    "# Build the network(s)\n",
    "# Note: It's critical to do this AFTER setting the RNG\n",
    "###################################\n",
    "x_net = build_sequential(p.x_net)"
   ]
  },
  {
   "cell_type": "code",
   "execution_count": 9,
   "id": "a276cd83",
   "metadata": {
    "execution": {
     "iopub.execute_input": "2022-03-26T10:56:40.778679Z",
     "iopub.status.busy": "2022-03-26T10:56:40.778310Z",
     "iopub.status.idle": "2022-03-26T10:56:40.780077Z",
     "shell.execute_reply": "2022-03-26T10:56:40.780384Z"
    },
    "papermill": {
     "duration": 0.018404,
     "end_time": "2022-03-26T10:56:40.780462",
     "exception": false,
     "start_time": "2022-03-26T10:56:40.762058",
     "status": "completed"
    },
    "tags": []
   },
   "outputs": [],
   "source": [
    "start_time_secs = time.time()"
   ]
  },
  {
   "cell_type": "code",
   "execution_count": 10,
   "id": "de702e48",
   "metadata": {
    "execution": {
     "iopub.execute_input": "2022-03-26T10:56:40.828308Z",
     "iopub.status.busy": "2022-03-26T10:56:40.827393Z",
     "iopub.status.idle": "2022-03-26T10:56:48.278381Z",
     "shell.execute_reply": "2022-03-26T10:56:48.277618Z"
    },
    "papermill": {
     "duration": 7.480025,
     "end_time": "2022-03-26T10:56:48.278569",
     "exception": false,
     "start_time": "2022-03-26T10:56:40.798544",
     "status": "completed"
    },
    "tags": []
   },
   "outputs": [],
   "source": [
    "def wrap_in_dataloader(p, ds):\n",
    "    return torch.utils.data.DataLoader(\n",
    "        ds,\n",
    "        batch_size=p.batch_size,\n",
    "        shuffle=True,\n",
    "        num_workers=1,\n",
    "        persistent_workers=True,\n",
    "        prefetch_factor=50,\n",
    "        pin_memory=True\n",
    "    )\n",
    "\n",
    "taf_source = Traditional_Accessor_Factory(\n",
    "    labels=p.labels,\n",
    "    domains=p.domains_source,\n",
    "    num_examples_per_domain_per_label=p.num_examples_per_domain_per_label_source,\n",
    "    pickle_path=os.path.join(get_datasets_base_path(), p.pickle_name_source),\n",
    "    seed=p.dataset_seed\n",
    ")\n",
    "train_original_source, val_original_source, test_original_source = \\\n",
    "    taf_source.get_train(), taf_source.get_val(), taf_source.get_test()\n",
    "\n",
    "\n",
    "taf_target = Traditional_Accessor_Factory(\n",
    "    labels=p.labels,\n",
    "    domains=p.domains_target,\n",
    "    num_examples_per_domain_per_label=p.num_examples_per_domain_per_label_source,\n",
    "    pickle_path=os.path.join(get_datasets_base_path(), p.pickle_name_target),\n",
    "    seed=p.dataset_seed\n",
    ")\n",
    "train_original_target, val_original_target, test_original_target = \\\n",
    "    taf_target.get_train(), taf_target.get_val(), taf_target.get_test()\n",
    "\n",
    "\n",
    "# For CNN We only use X and Y. And we only train on the source.\n",
    "# Properly form the data using a transform lambda and Lazy_Map. Finally wrap them in a dataloader\n",
    "\n",
    "transform_lambda = lambda ex: ex[:2] # Strip the tuple to just (x,y)\n",
    "\n",
    "\n",
    "train_processed_source = wrap_in_dataloader(\n",
    "    p,\n",
    "    Lazy_Map(train_original_source, transform_lambda)\n",
    ")\n",
    "val_processed_source = wrap_in_dataloader(\n",
    "    p,\n",
    "    Lazy_Map(val_original_source, transform_lambda)\n",
    ")\n",
    "test_processed_source = wrap_in_dataloader(\n",
    "    p,\n",
    "    Lazy_Map(test_original_source, transform_lambda)\n",
    ")\n",
    "\n",
    "train_processed_target = wrap_in_dataloader(\n",
    "    p,\n",
    "    Lazy_Map(train_original_target, transform_lambda)\n",
    ")\n",
    "val_processed_target = wrap_in_dataloader(\n",
    "    p,\n",
    "    Lazy_Map(val_original_target, transform_lambda)\n",
    ")\n",
    "test_processed_target  = wrap_in_dataloader(\n",
    "    p,\n",
    "    Lazy_Map(test_original_target, transform_lambda)\n",
    ")\n",
    "\n",
    "\n",
    "\n",
    "datasets = EasyDict({\n",
    "    \"source\": {\n",
    "        \"original\": {\"train\":train_original_source, \"val\":val_original_source, \"test\":test_original_source},\n",
    "        \"processed\": {\"train\":train_processed_source, \"val\":val_processed_source, \"test\":test_processed_source}\n",
    "    },\n",
    "    \"target\": {\n",
    "        \"original\": {\"train\":train_original_target, \"val\":val_original_target, \"test\":test_original_target},\n",
    "        \"processed\": {\"train\":train_processed_target, \"val\":val_processed_target, \"test\":test_processed_target}\n",
    "    },\n",
    "})"
   ]
  },
  {
   "cell_type": "code",
   "execution_count": 11,
   "id": "a11b26bd",
   "metadata": {
    "execution": {
     "iopub.execute_input": "2022-03-26T10:56:48.359316Z",
     "iopub.status.busy": "2022-03-26T10:56:48.358472Z",
     "iopub.status.idle": "2022-03-26T10:56:53.433800Z",
     "shell.execute_reply": "2022-03-26T10:56:53.434560Z"
    },
    "papermill": {
     "duration": 5.136468,
     "end_time": "2022-03-26T10:56:53.434773",
     "exception": false,
     "start_time": "2022-03-26T10:56:48.298305",
     "status": "completed"
    },
    "tags": []
   },
   "outputs": [
    {
     "data": {
      "text/plain": [
       "torch.float32"
      ]
     },
     "execution_count": 11,
     "metadata": {},
     "output_type": "execute_result"
    }
   ],
   "source": [
    "ep = next(iter(test_processed_target))\n",
    "ep[0].dtype"
   ]
  },
  {
   "cell_type": "code",
   "execution_count": 12,
   "id": "19425fad",
   "metadata": {
    "execution": {
     "iopub.execute_input": "2022-03-26T10:56:53.474941Z",
     "iopub.status.busy": "2022-03-26T10:56:53.474265Z",
     "iopub.status.idle": "2022-03-26T10:56:53.521255Z",
     "shell.execute_reply": "2022-03-26T10:56:53.520155Z"
    },
    "papermill": {
     "duration": 0.067707,
     "end_time": "2022-03-26T10:56:53.521512",
     "exception": false,
     "start_time": "2022-03-26T10:56:53.453805",
     "status": "completed"
    },
    "tags": []
   },
   "outputs": [],
   "source": [
    "model = Configurable_Vanilla(\n",
    "    x_net=x_net,\n",
    "    label_loss_object=torch.nn.NLLLoss(),\n",
    "    learning_rate=p.lr\n",
    ")"
   ]
  },
  {
   "cell_type": "code",
   "execution_count": 13,
   "id": "7f6d4f2c",
   "metadata": {
    "execution": {
     "iopub.execute_input": "2022-03-26T10:56:53.561693Z",
     "iopub.status.busy": "2022-03-26T10:56:53.561028Z",
     "iopub.status.idle": "2022-03-26T11:02:14.409700Z",
     "shell.execute_reply": "2022-03-26T11:02:14.410231Z"
    },
    "papermill": {
     "duration": 320.869417,
     "end_time": "2022-03-26T11:02:14.410414",
     "exception": false,
     "start_time": "2022-03-26T10:56:53.540997",
     "status": "completed"
    },
    "tags": []
   },
   "outputs": [
    {
     "name": "stdout",
     "output_type": "stream",
     "text": [
      "epoch: 1, [batch: 1 / 1479], examples_per_second: 634.0247, train_label_loss: 4.8376, \n"
     ]
    },
    {
     "name": "stdout",
     "output_type": "stream",
     "text": [
      "epoch: 1, [batch: 148 / 1479], examples_per_second: 12910.6051, train_label_loss: 2.9683, \n"
     ]
    },
    {
     "name": "stdout",
     "output_type": "stream",
     "text": [
      "epoch: 1, [batch: 296 / 1479], examples_per_second: 12788.5413, train_label_loss: 2.1700, \n"
     ]
    },
    {
     "name": "stdout",
     "output_type": "stream",
     "text": [
      "epoch: 1, [batch: 444 / 1479], examples_per_second: 12853.5774, train_label_loss: 1.6567, \n"
     ]
    },
    {
     "name": "stdout",
     "output_type": "stream",
     "text": [
      "epoch: 1, [batch: 592 / 1479], examples_per_second: 12765.2774, train_label_loss: 1.4248, \n"
     ]
    },
    {
     "name": "stdout",
     "output_type": "stream",
     "text": [
      "epoch: 1, [batch: 740 / 1479], examples_per_second: 12866.0007, train_label_loss: 0.8768, \n"
     ]
    },
    {
     "name": "stdout",
     "output_type": "stream",
     "text": [
      "epoch: 1, [batch: 887 / 1479], examples_per_second: 12870.4471, train_label_loss: 0.8178, \n"
     ]
    },
    {
     "name": "stdout",
     "output_type": "stream",
     "text": [
      "epoch: 1, [batch: 1035 / 1479], examples_per_second: 12839.6923, train_label_loss: 0.6955, \n"
     ]
    },
    {
     "name": "stdout",
     "output_type": "stream",
     "text": [
      "epoch: 1, [batch: 1183 / 1479], examples_per_second: 12719.4772, train_label_loss: 0.6159, \n"
     ]
    },
    {
     "name": "stdout",
     "output_type": "stream",
     "text": [
      "epoch: 1, [batch: 1331 / 1479], examples_per_second: 12816.0478, train_label_loss: 0.5186, \n"
     ]
    },
    {
     "name": "stdout",
     "output_type": "stream",
     "text": [
      "=============================================================\n",
      "epoch: 1, source_val_acc_label: 0.8369, source_val_label_loss: 0.6663, target_val_acc_label: 0.8369, target_val_label_loss: 0.6667, \n",
      "=============================================================\n"
     ]
    },
    {
     "name": "stdout",
     "output_type": "stream",
     "text": [
      "New best\n",
      "epoch: 2, [batch: 1 / 1479], examples_per_second: 59.4987, train_label_loss: 0.6841, \n"
     ]
    },
    {
     "name": "stdout",
     "output_type": "stream",
     "text": [
      "epoch: 2, [batch: 148 / 1479], examples_per_second: 12655.1403, train_label_loss: 0.4429, \n"
     ]
    },
    {
     "name": "stdout",
     "output_type": "stream",
     "text": [
      "epoch: 2, [batch: 296 / 1479], examples_per_second: 12706.4186, train_label_loss: 0.3578, \n"
     ]
    },
    {
     "name": "stdout",
     "output_type": "stream",
     "text": [
      "epoch: 2, [batch: 444 / 1479], examples_per_second: 12699.6923, train_label_loss: 0.3361, \n"
     ]
    },
    {
     "name": "stdout",
     "output_type": "stream",
     "text": [
      "epoch: 2, [batch: 592 / 1479], examples_per_second: 12639.1952, train_label_loss: 0.3186, \n"
     ]
    },
    {
     "name": "stdout",
     "output_type": "stream",
     "text": [
      "epoch: 2, [batch: 740 / 1479], examples_per_second: 12689.8959, train_label_loss: 0.4833, \n"
     ]
    },
    {
     "name": "stdout",
     "output_type": "stream",
     "text": [
      "epoch: 2, [batch: 887 / 1479], examples_per_second: 12707.2780, train_label_loss: 0.2639, \n"
     ]
    },
    {
     "name": "stdout",
     "output_type": "stream",
     "text": [
      "epoch: 2, [batch: 1035 / 1479], examples_per_second: 12787.0451, train_label_loss: 0.4673, \n"
     ]
    },
    {
     "name": "stdout",
     "output_type": "stream",
     "text": [
      "epoch: 2, [batch: 1183 / 1479], examples_per_second: 12641.9663, train_label_loss: 0.1877, \n"
     ]
    },
    {
     "name": "stdout",
     "output_type": "stream",
     "text": [
      "epoch: 2, [batch: 1331 / 1479], examples_per_second: 12618.8495, train_label_loss: 0.3048, \n"
     ]
    },
    {
     "name": "stdout",
     "output_type": "stream",
     "text": [
      "=============================================================\n",
      "epoch: 2, source_val_acc_label: 0.9257, source_val_label_loss: 0.3197, target_val_acc_label: 0.9257, target_val_label_loss: 0.3197, \n",
      "=============================================================\n"
     ]
    },
    {
     "name": "stdout",
     "output_type": "stream",
     "text": [
      "New best\n",
      "epoch: 3, [batch: 1 / 1479], examples_per_second: 67.4516, train_label_loss: 0.3029, \n"
     ]
    },
    {
     "name": "stdout",
     "output_type": "stream",
     "text": [
      "epoch: 3, [batch: 148 / 1479], examples_per_second: 12662.9661, train_label_loss: 0.2766, \n"
     ]
    },
    {
     "name": "stdout",
     "output_type": "stream",
     "text": [
      "epoch: 3, [batch: 296 / 1479], examples_per_second: 12756.2643, train_label_loss: 0.2026, \n"
     ]
    },
    {
     "name": "stdout",
     "output_type": "stream",
     "text": [
      "epoch: 3, [batch: 444 / 1479], examples_per_second: 12696.9141, train_label_loss: 0.1805, \n"
     ]
    },
    {
     "name": "stdout",
     "output_type": "stream",
     "text": [
      "epoch: 3, [batch: 592 / 1479], examples_per_second: 12654.8665, train_label_loss: 0.2630, \n"
     ]
    },
    {
     "name": "stdout",
     "output_type": "stream",
     "text": [
      "epoch: 3, [batch: 740 / 1479], examples_per_second: 12830.8245, train_label_loss: 0.0951, \n"
     ]
    },
    {
     "name": "stdout",
     "output_type": "stream",
     "text": [
      "epoch: 3, [batch: 887 / 1479], examples_per_second: 12739.5175, train_label_loss: 0.1914, \n"
     ]
    },
    {
     "name": "stdout",
     "output_type": "stream",
     "text": [
      "epoch: 3, [batch: 1035 / 1479], examples_per_second: 12814.7436, train_label_loss: 0.2293, \n"
     ]
    },
    {
     "name": "stdout",
     "output_type": "stream",
     "text": [
      "epoch: 3, [batch: 1183 / 1479], examples_per_second: 12770.1418, train_label_loss: 0.2328, \n"
     ]
    },
    {
     "name": "stdout",
     "output_type": "stream",
     "text": [
      "epoch: 3, [batch: 1331 / 1479], examples_per_second: 12770.8787, train_label_loss: 0.1776, \n"
     ]
    },
    {
     "name": "stdout",
     "output_type": "stream",
     "text": [
      "=============================================================\n",
      "epoch: 3, source_val_acc_label: 0.9385, source_val_label_loss: 0.2979, target_val_acc_label: 0.9385, target_val_label_loss: 0.2971, \n",
      "=============================================================\n"
     ]
    },
    {
     "name": "stdout",
     "output_type": "stream",
     "text": [
      "New best\n",
      "epoch: 4, [batch: 1 / 1479], examples_per_second: 68.1475, train_label_loss: 0.0792, \n"
     ]
    },
    {
     "name": "stdout",
     "output_type": "stream",
     "text": [
      "epoch: 4, [batch: 148 / 1479], examples_per_second: 12710.6139, train_label_loss: 0.1989, \n"
     ]
    },
    {
     "name": "stdout",
     "output_type": "stream",
     "text": [
      "epoch: 4, [batch: 296 / 1479], examples_per_second: 12726.2611, train_label_loss: 0.1126, \n"
     ]
    },
    {
     "name": "stdout",
     "output_type": "stream",
     "text": [
      "epoch: 4, [batch: 444 / 1479], examples_per_second: 12748.8367, train_label_loss: 0.0879, \n"
     ]
    },
    {
     "name": "stdout",
     "output_type": "stream",
     "text": [
      "epoch: 4, [batch: 592 / 1479], examples_per_second: 12704.1310, train_label_loss: 0.0652, \n"
     ]
    },
    {
     "name": "stdout",
     "output_type": "stream",
     "text": [
      "epoch: 4, [batch: 740 / 1479], examples_per_second: 12716.2589, train_label_loss: 0.1017, \n"
     ]
    },
    {
     "name": "stdout",
     "output_type": "stream",
     "text": [
      "epoch: 4, [batch: 887 / 1479], examples_per_second: 12775.2020, train_label_loss: 0.1856, \n"
     ]
    },
    {
     "name": "stdout",
     "output_type": "stream",
     "text": [
      "epoch: 4, [batch: 1035 / 1479], examples_per_second: 13802.4116, train_label_loss: 0.2539, \n"
     ]
    },
    {
     "name": "stdout",
     "output_type": "stream",
     "text": [
      "epoch: 4, [batch: 1183 / 1479], examples_per_second: 13812.7915, train_label_loss: 0.3466, \n"
     ]
    },
    {
     "name": "stdout",
     "output_type": "stream",
     "text": [
      "epoch: 4, [batch: 1331 / 1479], examples_per_second: 13876.8248, train_label_loss: 0.0968, \n"
     ]
    },
    {
     "name": "stdout",
     "output_type": "stream",
     "text": [
      "=============================================================\n",
      "epoch: 4, source_val_acc_label: 0.9213, source_val_label_loss: 0.3497, target_val_acc_label: 0.9213, target_val_label_loss: 0.3507, \n",
      "=============================================================\n"
     ]
    },
    {
     "name": "stdout",
     "output_type": "stream",
     "text": [
      "epoch: 5, [batch: 1 / 1479], examples_per_second: 75.9331, train_label_loss: 0.2303, \n"
     ]
    },
    {
     "name": "stdout",
     "output_type": "stream",
     "text": [
      "epoch: 5, [batch: 148 / 1479], examples_per_second: 13721.8448, train_label_loss: 0.1223, \n"
     ]
    },
    {
     "name": "stdout",
     "output_type": "stream",
     "text": [
      "epoch: 5, [batch: 296 / 1479], examples_per_second: 13515.6495, train_label_loss: 0.0562, \n"
     ]
    },
    {
     "name": "stdout",
     "output_type": "stream",
     "text": [
      "epoch: 5, [batch: 444 / 1479], examples_per_second: 12723.6424, train_label_loss: 0.1006, \n"
     ]
    },
    {
     "name": "stdout",
     "output_type": "stream",
     "text": [
      "epoch: 5, [batch: 592 / 1479], examples_per_second: 11589.5864, train_label_loss: 0.1269, \n"
     ]
    },
    {
     "name": "stdout",
     "output_type": "stream",
     "text": [
      "epoch: 5, [batch: 740 / 1479], examples_per_second: 11669.9069, train_label_loss: 0.0598, \n"
     ]
    },
    {
     "name": "stdout",
     "output_type": "stream",
     "text": [
      "epoch: 5, [batch: 887 / 1479], examples_per_second: 11692.9260, train_label_loss: 0.1380, \n"
     ]
    },
    {
     "name": "stdout",
     "output_type": "stream",
     "text": [
      "epoch: 5, [batch: 1035 / 1479], examples_per_second: 11764.5231, train_label_loss: 0.2587, \n"
     ]
    },
    {
     "name": "stdout",
     "output_type": "stream",
     "text": [
      "epoch: 5, [batch: 1183 / 1479], examples_per_second: 11718.9137, train_label_loss: 0.0320, \n"
     ]
    },
    {
     "name": "stdout",
     "output_type": "stream",
     "text": [
      "epoch: 5, [batch: 1331 / 1479], examples_per_second: 11672.5556, train_label_loss: 0.0723, \n"
     ]
    },
    {
     "name": "stdout",
     "output_type": "stream",
     "text": [
      "=============================================================\n",
      "epoch: 5, source_val_acc_label: 0.9342, source_val_label_loss: 0.2584, target_val_acc_label: 0.9342, target_val_label_loss: 0.2587, \n",
      "=============================================================\n"
     ]
    },
    {
     "name": "stdout",
     "output_type": "stream",
     "text": [
      "epoch: 6, [batch: 1 / 1479], examples_per_second: 61.8980, train_label_loss: 0.2131, \n"
     ]
    },
    {
     "name": "stdout",
     "output_type": "stream",
     "text": [
      "epoch: 6, [batch: 148 / 1479], examples_per_second: 11628.6027, train_label_loss: 0.1155, \n"
     ]
    },
    {
     "name": "stdout",
     "output_type": "stream",
     "text": [
      "epoch: 6, [batch: 296 / 1479], examples_per_second: 11760.4520, train_label_loss: 0.1684, \n"
     ]
    },
    {
     "name": "stdout",
     "output_type": "stream",
     "text": [
      "epoch: 6, [batch: 444 / 1479], examples_per_second: 11695.5613, train_label_loss: 0.0823, \n"
     ]
    },
    {
     "name": "stdout",
     "output_type": "stream",
     "text": [
      "epoch: 6, [batch: 592 / 1479], examples_per_second: 11677.7295, train_label_loss: 0.1051, \n"
     ]
    },
    {
     "name": "stdout",
     "output_type": "stream",
     "text": [
      "epoch: 6, [batch: 740 / 1479], examples_per_second: 11678.2565, train_label_loss: 0.1728, \n"
     ]
    },
    {
     "name": "stdout",
     "output_type": "stream",
     "text": [
      "epoch: 6, [batch: 887 / 1479], examples_per_second: 11670.8496, train_label_loss: 0.0946, \n"
     ]
    },
    {
     "name": "stdout",
     "output_type": "stream",
     "text": [
      "epoch: 6, [batch: 1035 / 1479], examples_per_second: 11587.3419, train_label_loss: 0.1264, \n"
     ]
    },
    {
     "name": "stdout",
     "output_type": "stream",
     "text": [
      "epoch: 6, [batch: 1183 / 1479], examples_per_second: 11620.8391, train_label_loss: 0.0912, \n"
     ]
    },
    {
     "name": "stdout",
     "output_type": "stream",
     "text": [
      "epoch: 6, [batch: 1331 / 1479], examples_per_second: 11643.5850, train_label_loss: 0.1194, \n"
     ]
    },
    {
     "name": "stdout",
     "output_type": "stream",
     "text": [
      "=============================================================\n",
      "epoch: 6, source_val_acc_label: 0.8820, source_val_label_loss: 0.5664, target_val_acc_label: 0.8820, target_val_label_loss: 0.5659, \n",
      "=============================================================\n"
     ]
    },
    {
     "name": "stdout",
     "output_type": "stream",
     "text": [
      "epoch: 7, [batch: 1 / 1479], examples_per_second: 62.2105, train_label_loss: 0.1395, \n"
     ]
    },
    {
     "name": "stdout",
     "output_type": "stream",
     "text": [
      "epoch: 7, [batch: 148 / 1479], examples_per_second: 11608.6190, train_label_loss: 0.0955, \n"
     ]
    },
    {
     "name": "stdout",
     "output_type": "stream",
     "text": [
      "epoch: 7, [batch: 296 / 1479], examples_per_second: 11595.6516, train_label_loss: 0.2013, \n"
     ]
    },
    {
     "name": "stdout",
     "output_type": "stream",
     "text": [
      "epoch: 7, [batch: 444 / 1479], examples_per_second: 11761.4251, train_label_loss: 0.1452, \n"
     ]
    },
    {
     "name": "stdout",
     "output_type": "stream",
     "text": [
      "epoch: 7, [batch: 592 / 1479], examples_per_second: 11710.2177, train_label_loss: 0.1022, \n"
     ]
    },
    {
     "name": "stdout",
     "output_type": "stream",
     "text": [
      "epoch: 7, [batch: 740 / 1479], examples_per_second: 11632.2290, train_label_loss: 0.0946, \n"
     ]
    },
    {
     "name": "stdout",
     "output_type": "stream",
     "text": [
      "epoch: 7, [batch: 887 / 1479], examples_per_second: 11650.2511, train_label_loss: 0.1607, \n"
     ]
    },
    {
     "name": "stdout",
     "output_type": "stream",
     "text": [
      "epoch: 7, [batch: 1035 / 1479], examples_per_second: 11627.0834, train_label_loss: 0.0941, \n"
     ]
    },
    {
     "name": "stdout",
     "output_type": "stream",
     "text": [
      "epoch: 7, [batch: 1183 / 1479], examples_per_second: 11707.2310, train_label_loss: 0.1061, \n"
     ]
    },
    {
     "name": "stdout",
     "output_type": "stream",
     "text": [
      "epoch: 7, [batch: 1331 / 1479], examples_per_second: 11713.2991, train_label_loss: 0.1364, \n"
     ]
    },
    {
     "name": "stdout",
     "output_type": "stream",
     "text": [
      "=============================================================\n",
      "epoch: 7, source_val_acc_label: 0.9485, source_val_label_loss: 0.2316, target_val_acc_label: 0.9485, target_val_label_loss: 0.2311, \n",
      "=============================================================\n"
     ]
    },
    {
     "name": "stdout",
     "output_type": "stream",
     "text": [
      "New best\n",
      "epoch: 8, [batch: 1 / 1479], examples_per_second: 60.8822, train_label_loss: 0.1465, \n"
     ]
    },
    {
     "name": "stdout",
     "output_type": "stream",
     "text": [
      "epoch: 8, [batch: 148 / 1479], examples_per_second: 11588.2479, train_label_loss: 0.1123, \n"
     ]
    },
    {
     "name": "stdout",
     "output_type": "stream",
     "text": [
      "epoch: 8, [batch: 296 / 1479], examples_per_second: 11678.8263, train_label_loss: 0.1794, \n"
     ]
    },
    {
     "name": "stdout",
     "output_type": "stream",
     "text": [
      "epoch: 8, [batch: 444 / 1479], examples_per_second: 11749.5794, train_label_loss: 0.1179, \n"
     ]
    },
    {
     "name": "stdout",
     "output_type": "stream",
     "text": [
      "epoch: 8, [batch: 592 / 1479], examples_per_second: 11702.7479, train_label_loss: 0.0207, \n"
     ]
    },
    {
     "name": "stdout",
     "output_type": "stream",
     "text": [
      "epoch: 8, [batch: 740 / 1479], examples_per_second: 11611.8502, train_label_loss: 0.0070, \n"
     ]
    },
    {
     "name": "stdout",
     "output_type": "stream",
     "text": [
      "epoch: 8, [batch: 887 / 1479], examples_per_second: 11708.1236, train_label_loss: 0.1610, \n"
     ]
    },
    {
     "name": "stdout",
     "output_type": "stream",
     "text": [
      "epoch: 8, [batch: 1035 / 1479], examples_per_second: 11604.8121, train_label_loss: 0.0887, \n"
     ]
    },
    {
     "name": "stdout",
     "output_type": "stream",
     "text": [
      "epoch: 8, [batch: 1183 / 1479], examples_per_second: 11656.3600, train_label_loss: 0.0655, \n"
     ]
    },
    {
     "name": "stdout",
     "output_type": "stream",
     "text": [
      "epoch: 8, [batch: 1331 / 1479], examples_per_second: 11669.8760, train_label_loss: 0.3776, \n"
     ]
    },
    {
     "name": "stdout",
     "output_type": "stream",
     "text": [
      "=============================================================\n",
      "epoch: 8, source_val_acc_label: 0.9359, source_val_label_loss: 0.2994, target_val_acc_label: 0.9359, target_val_label_loss: 0.3001, \n",
      "=============================================================\n"
     ]
    },
    {
     "name": "stdout",
     "output_type": "stream",
     "text": [
      "epoch: 9, [batch: 1 / 1479], examples_per_second: 61.4493, train_label_loss: 0.0504, \n"
     ]
    },
    {
     "name": "stdout",
     "output_type": "stream",
     "text": [
      "epoch: 9, [batch: 148 / 1479], examples_per_second: 11603.3007, train_label_loss: 0.0583, \n"
     ]
    },
    {
     "name": "stdout",
     "output_type": "stream",
     "text": [
      "epoch: 9, [batch: 296 / 1479], examples_per_second: 11689.3069, train_label_loss: 0.0670, \n"
     ]
    },
    {
     "name": "stdout",
     "output_type": "stream",
     "text": [
      "epoch: 9, [batch: 444 / 1479], examples_per_second: 11676.3550, train_label_loss: 0.1611, \n"
     ]
    },
    {
     "name": "stdout",
     "output_type": "stream",
     "text": [
      "epoch: 9, [batch: 592 / 1479], examples_per_second: 11573.6370, train_label_loss: 0.0886, \n"
     ]
    },
    {
     "name": "stdout",
     "output_type": "stream",
     "text": [
      "epoch: 9, [batch: 740 / 1479], examples_per_second: 11699.0467, train_label_loss: 0.1277, \n"
     ]
    },
    {
     "name": "stdout",
     "output_type": "stream",
     "text": [
      "epoch: 9, [batch: 887 / 1479], examples_per_second: 11640.0220, train_label_loss: 0.1527, \n"
     ]
    },
    {
     "name": "stdout",
     "output_type": "stream",
     "text": [
      "epoch: 9, [batch: 1035 / 1479], examples_per_second: 11638.1650, train_label_loss: 0.0587, \n"
     ]
    },
    {
     "name": "stdout",
     "output_type": "stream",
     "text": [
      "epoch: 9, [batch: 1183 / 1479], examples_per_second: 11642.5903, train_label_loss: 0.0961, \n"
     ]
    },
    {
     "name": "stdout",
     "output_type": "stream",
     "text": [
      "epoch: 9, [batch: 1331 / 1479], examples_per_second: 11635.4825, train_label_loss: 0.0322, \n"
     ]
    },
    {
     "name": "stdout",
     "output_type": "stream",
     "text": [
      "=============================================================\n",
      "epoch: 9, source_val_acc_label: 0.9504, source_val_label_loss: 0.2326, target_val_acc_label: 0.9504, target_val_label_loss: 0.2322, \n",
      "=============================================================\n"
     ]
    },
    {
     "name": "stdout",
     "output_type": "stream",
     "text": [
      "New best\n",
      "epoch: 10, [batch: 1 / 1479], examples_per_second: 60.5008, train_label_loss: 0.2422, \n"
     ]
    },
    {
     "name": "stdout",
     "output_type": "stream",
     "text": [
      "epoch: 10, [batch: 148 / 1479], examples_per_second: 11623.2096, train_label_loss: 0.0154, \n"
     ]
    },
    {
     "name": "stdout",
     "output_type": "stream",
     "text": [
      "epoch: 10, [batch: 296 / 1479], examples_per_second: 11632.1933, train_label_loss: 0.1256, \n"
     ]
    },
    {
     "name": "stdout",
     "output_type": "stream",
     "text": [
      "epoch: 10, [batch: 444 / 1479], examples_per_second: 11624.4417, train_label_loss: 0.1547, \n"
     ]
    },
    {
     "name": "stdout",
     "output_type": "stream",
     "text": [
      "epoch: 10, [batch: 592 / 1479], examples_per_second: 11608.5115, train_label_loss: 0.0756, \n"
     ]
    },
    {
     "name": "stdout",
     "output_type": "stream",
     "text": [
      "epoch: 10, [batch: 740 / 1479], examples_per_second: 11613.7901, train_label_loss: 0.0869, \n"
     ]
    },
    {
     "name": "stdout",
     "output_type": "stream",
     "text": [
      "epoch: 10, [batch: 887 / 1479], examples_per_second: 11635.3661, train_label_loss: 0.1470, \n"
     ]
    },
    {
     "name": "stdout",
     "output_type": "stream",
     "text": [
      "epoch: 10, [batch: 1035 / 1479], examples_per_second: 11679.3173, train_label_loss: 0.1633, \n"
     ]
    },
    {
     "name": "stdout",
     "output_type": "stream",
     "text": [
      "epoch: 10, [batch: 1183 / 1479], examples_per_second: 11662.6356, train_label_loss: 0.1146, \n"
     ]
    },
    {
     "name": "stdout",
     "output_type": "stream",
     "text": [
      "epoch: 10, [batch: 1331 / 1479], examples_per_second: 11580.5208, train_label_loss: 0.0768, \n"
     ]
    },
    {
     "name": "stdout",
     "output_type": "stream",
     "text": [
      "=============================================================\n",
      "epoch: 10, source_val_acc_label: 0.8842, source_val_label_loss: 0.5143, target_val_acc_label: 0.8842, target_val_label_loss: 0.5140, \n",
      "=============================================================\n"
     ]
    },
    {
     "name": "stdout",
     "output_type": "stream",
     "text": [
      "epoch: 11, [batch: 1 / 1479], examples_per_second: 65.3698, train_label_loss: 0.3071, \n"
     ]
    },
    {
     "name": "stdout",
     "output_type": "stream",
     "text": [
      "epoch: 11, [batch: 148 / 1479], examples_per_second: 12280.9422, train_label_loss: 0.0375, \n"
     ]
    },
    {
     "name": "stdout",
     "output_type": "stream",
     "text": [
      "epoch: 11, [batch: 296 / 1479], examples_per_second: 12291.6966, train_label_loss: 0.0881, \n"
     ]
    },
    {
     "name": "stdout",
     "output_type": "stream",
     "text": [
      "epoch: 11, [batch: 444 / 1479], examples_per_second: 12253.2628, train_label_loss: 0.1623, \n"
     ]
    },
    {
     "name": "stdout",
     "output_type": "stream",
     "text": [
      "epoch: 11, [batch: 592 / 1479], examples_per_second: 12258.5881, train_label_loss: 0.0850, \n"
     ]
    },
    {
     "name": "stdout",
     "output_type": "stream",
     "text": [
      "epoch: 11, [batch: 740 / 1479], examples_per_second: 12440.6042, train_label_loss: 0.1661, \n"
     ]
    },
    {
     "name": "stdout",
     "output_type": "stream",
     "text": [
      "epoch: 11, [batch: 887 / 1479], examples_per_second: 12430.6328, train_label_loss: 0.0567, \n"
     ]
    },
    {
     "name": "stdout",
     "output_type": "stream",
     "text": [
      "epoch: 11, [batch: 1035 / 1479], examples_per_second: 12209.6645, train_label_loss: 0.1222, \n"
     ]
    },
    {
     "name": "stdout",
     "output_type": "stream",
     "text": [
      "epoch: 11, [batch: 1183 / 1479], examples_per_second: 12445.8695, train_label_loss: 0.0345, \n"
     ]
    },
    {
     "name": "stdout",
     "output_type": "stream",
     "text": [
      "epoch: 11, [batch: 1331 / 1479], examples_per_second: 12465.3029, train_label_loss: 0.1190, \n"
     ]
    },
    {
     "name": "stdout",
     "output_type": "stream",
     "text": [
      "=============================================================\n",
      "epoch: 11, source_val_acc_label: 0.9354, source_val_label_loss: 0.3069, target_val_acc_label: 0.9354, target_val_label_loss: 0.3062, \n",
      "=============================================================\n"
     ]
    },
    {
     "name": "stdout",
     "output_type": "stream",
     "text": [
      "epoch: 12, [batch: 1 / 1479], examples_per_second: 67.3312, train_label_loss: 0.1463, \n"
     ]
    },
    {
     "name": "stdout",
     "output_type": "stream",
     "text": [
      "epoch: 12, [batch: 148 / 1479], examples_per_second: 12245.1854, train_label_loss: 0.0889, \n"
     ]
    },
    {
     "name": "stdout",
     "output_type": "stream",
     "text": [
      "epoch: 12, [batch: 296 / 1479], examples_per_second: 12436.8207, train_label_loss: 0.0993, \n"
     ]
    },
    {
     "name": "stdout",
     "output_type": "stream",
     "text": [
      "epoch: 12, [batch: 444 / 1479], examples_per_second: 12470.5950, train_label_loss: 0.0606, \n"
     ]
    },
    {
     "name": "stdout",
     "output_type": "stream",
     "text": [
      "epoch: 12, [batch: 592 / 1479], examples_per_second: 12490.6595, train_label_loss: 0.1120, \n"
     ]
    },
    {
     "name": "stdout",
     "output_type": "stream",
     "text": [
      "epoch: 12, [batch: 740 / 1479], examples_per_second: 12748.5032, train_label_loss: 0.1617, \n"
     ]
    },
    {
     "name": "stdout",
     "output_type": "stream",
     "text": [
      "epoch: 12, [batch: 887 / 1479], examples_per_second: 12402.0832, train_label_loss: 0.0276, \n"
     ]
    },
    {
     "name": "stdout",
     "output_type": "stream",
     "text": [
      "epoch: 12, [batch: 1035 / 1479], examples_per_second: 12386.9344, train_label_loss: 0.1252, \n"
     ]
    },
    {
     "name": "stdout",
     "output_type": "stream",
     "text": [
      "epoch: 12, [batch: 1183 / 1479], examples_per_second: 12453.2312, train_label_loss: 0.0600, \n"
     ]
    },
    {
     "name": "stdout",
     "output_type": "stream",
     "text": [
      "epoch: 12, [batch: 1331 / 1479], examples_per_second: 12463.8951, train_label_loss: 0.0608, \n"
     ]
    },
    {
     "name": "stdout",
     "output_type": "stream",
     "text": [
      "=============================================================\n",
      "epoch: 12, source_val_acc_label: 0.9612, source_val_label_loss: 0.2052, target_val_acc_label: 0.9612, target_val_label_loss: 0.2041, \n",
      "=============================================================\n"
     ]
    },
    {
     "name": "stdout",
     "output_type": "stream",
     "text": [
      "New best\n",
      "epoch: 13, [batch: 1 / 1479], examples_per_second: 66.5145, train_label_loss: 0.0723, \n"
     ]
    },
    {
     "name": "stdout",
     "output_type": "stream",
     "text": [
      "epoch: 13, [batch: 148 / 1479], examples_per_second: 12480.4774, train_label_loss: 0.0707, \n"
     ]
    },
    {
     "name": "stdout",
     "output_type": "stream",
     "text": [
      "epoch: 13, [batch: 296 / 1479], examples_per_second: 12613.2126, train_label_loss: 0.0850, \n"
     ]
    },
    {
     "name": "stdout",
     "output_type": "stream",
     "text": [
      "epoch: 13, [batch: 444 / 1479], examples_per_second: 12617.9878, train_label_loss: 0.1334, \n"
     ]
    },
    {
     "name": "stdout",
     "output_type": "stream",
     "text": [
      "epoch: 13, [batch: 592 / 1479], examples_per_second: 12582.4650, train_label_loss: 0.1382, \n"
     ]
    },
    {
     "name": "stdout",
     "output_type": "stream",
     "text": [
      "epoch: 13, [batch: 740 / 1479], examples_per_second: 12516.0387, train_label_loss: 0.0937, \n"
     ]
    },
    {
     "name": "stdout",
     "output_type": "stream",
     "text": [
      "epoch: 13, [batch: 887 / 1479], examples_per_second: 12518.4337, train_label_loss: 0.1222, \n"
     ]
    },
    {
     "name": "stdout",
     "output_type": "stream",
     "text": [
      "epoch: 13, [batch: 1035 / 1479], examples_per_second: 12540.2346, train_label_loss: 0.0587, \n"
     ]
    },
    {
     "name": "stdout",
     "output_type": "stream",
     "text": [
      "epoch: 13, [batch: 1183 / 1479], examples_per_second: 12482.0593, train_label_loss: 0.0410, \n"
     ]
    },
    {
     "name": "stdout",
     "output_type": "stream",
     "text": [
      "epoch: 13, [batch: 1331 / 1479], examples_per_second: 12536.6711, train_label_loss: 0.1020, \n"
     ]
    },
    {
     "name": "stdout",
     "output_type": "stream",
     "text": [
      "=============================================================\n",
      "epoch: 13, source_val_acc_label: 0.9282, source_val_label_loss: 0.4154, target_val_acc_label: 0.9282, target_val_label_loss: 0.4159, \n",
      "=============================================================\n"
     ]
    },
    {
     "name": "stdout",
     "output_type": "stream",
     "text": [
      "epoch: 14, [batch: 1 / 1479], examples_per_second: 66.5577, train_label_loss: 0.0732, \n"
     ]
    },
    {
     "name": "stdout",
     "output_type": "stream",
     "text": [
      "epoch: 14, [batch: 148 / 1479], examples_per_second: 12890.3000, train_label_loss: 0.0559, \n"
     ]
    },
    {
     "name": "stdout",
     "output_type": "stream",
     "text": [
      "epoch: 14, [batch: 296 / 1479], examples_per_second: 12436.5132, train_label_loss: 0.0384, \n"
     ]
    },
    {
     "name": "stdout",
     "output_type": "stream",
     "text": [
      "epoch: 14, [batch: 444 / 1479], examples_per_second: 12387.6721, train_label_loss: 0.0828, \n"
     ]
    },
    {
     "name": "stdout",
     "output_type": "stream",
     "text": [
      "epoch: 14, [batch: 592 / 1479], examples_per_second: 12505.9624, train_label_loss: 0.0740, \n"
     ]
    },
    {
     "name": "stdout",
     "output_type": "stream",
     "text": [
      "epoch: 14, [batch: 740 / 1479], examples_per_second: 12459.1127, train_label_loss: 0.1364, \n"
     ]
    },
    {
     "name": "stdout",
     "output_type": "stream",
     "text": [
      "epoch: 14, [batch: 887 / 1479], examples_per_second: 12454.2119, train_label_loss: 0.0193, \n"
     ]
    },
    {
     "name": "stdout",
     "output_type": "stream",
     "text": [
      "epoch: 14, [batch: 1035 / 1479], examples_per_second: 12560.2678, train_label_loss: 0.0730, \n"
     ]
    },
    {
     "name": "stdout",
     "output_type": "stream",
     "text": [
      "epoch: 14, [batch: 1183 / 1479], examples_per_second: 12505.0807, train_label_loss: 0.0362, \n"
     ]
    },
    {
     "name": "stdout",
     "output_type": "stream",
     "text": [
      "epoch: 14, [batch: 1331 / 1479], examples_per_second: 12570.1614, train_label_loss: 0.0499, \n"
     ]
    },
    {
     "name": "stdout",
     "output_type": "stream",
     "text": [
      "=============================================================\n",
      "epoch: 14, source_val_acc_label: 0.9654, source_val_label_loss: 0.1979, target_val_acc_label: 0.9654, target_val_label_loss: 0.1977, \n",
      "=============================================================\n"
     ]
    },
    {
     "name": "stdout",
     "output_type": "stream",
     "text": [
      "New best\n",
      "epoch: 15, [batch: 1 / 1479], examples_per_second: 65.6576, train_label_loss: 0.0265, \n"
     ]
    },
    {
     "name": "stdout",
     "output_type": "stream",
     "text": [
      "epoch: 15, [batch: 148 / 1479], examples_per_second: 12494.9592, train_label_loss: 0.1253, \n"
     ]
    },
    {
     "name": "stdout",
     "output_type": "stream",
     "text": [
      "epoch: 15, [batch: 296 / 1479], examples_per_second: 12495.0692, train_label_loss: 0.0349, \n"
     ]
    },
    {
     "name": "stdout",
     "output_type": "stream",
     "text": [
      "epoch: 15, [batch: 444 / 1479], examples_per_second: 12482.6848, train_label_loss: 0.0186, \n"
     ]
    },
    {
     "name": "stdout",
     "output_type": "stream",
     "text": [
      "epoch: 15, [batch: 592 / 1479], examples_per_second: 12433.1718, train_label_loss: 0.1919, \n"
     ]
    },
    {
     "name": "stdout",
     "output_type": "stream",
     "text": [
      "epoch: 15, [batch: 740 / 1479], examples_per_second: 12381.6591, train_label_loss: 0.1060, \n"
     ]
    },
    {
     "name": "stdout",
     "output_type": "stream",
     "text": [
      "epoch: 15, [batch: 887 / 1479], examples_per_second: 12462.5349, train_label_loss: 0.1380, \n"
     ]
    },
    {
     "name": "stdout",
     "output_type": "stream",
     "text": [
      "epoch: 15, [batch: 1035 / 1479], examples_per_second: 12474.4148, train_label_loss: 0.1426, \n"
     ]
    },
    {
     "name": "stdout",
     "output_type": "stream",
     "text": [
      "epoch: 15, [batch: 1183 / 1479], examples_per_second: 12518.1959, train_label_loss: 0.0832, \n"
     ]
    },
    {
     "name": "stdout",
     "output_type": "stream",
     "text": [
      "epoch: 15, [batch: 1331 / 1479], examples_per_second: 12485.8233, train_label_loss: 0.0842, \n"
     ]
    },
    {
     "name": "stdout",
     "output_type": "stream",
     "text": [
      "=============================================================\n",
      "epoch: 15, source_val_acc_label: 0.9433, source_val_label_loss: 0.2993, target_val_acc_label: 0.9433, target_val_label_loss: 0.3002, \n",
      "=============================================================\n"
     ]
    },
    {
     "name": "stdout",
     "output_type": "stream",
     "text": [
      "epoch: 16, [batch: 1 / 1479], examples_per_second: 67.4812, train_label_loss: 0.0896, \n"
     ]
    },
    {
     "name": "stdout",
     "output_type": "stream",
     "text": [
      "epoch: 16, [batch: 148 / 1479], examples_per_second: 12294.8016, train_label_loss: 0.0085, \n"
     ]
    },
    {
     "name": "stdout",
     "output_type": "stream",
     "text": [
      "epoch: 16, [batch: 296 / 1479], examples_per_second: 12441.0620, train_label_loss: 0.0878, \n"
     ]
    },
    {
     "name": "stdout",
     "output_type": "stream",
     "text": [
      "epoch: 16, [batch: 444 / 1479], examples_per_second: 12277.3363, train_label_loss: 0.0347, \n"
     ]
    },
    {
     "name": "stdout",
     "output_type": "stream",
     "text": [
      "epoch: 16, [batch: 592 / 1479], examples_per_second: 12378.8447, train_label_loss: 0.1138, \n"
     ]
    },
    {
     "name": "stdout",
     "output_type": "stream",
     "text": [
      "epoch: 16, [batch: 740 / 1479], examples_per_second: 12289.0979, train_label_loss: 0.0971, \n"
     ]
    },
    {
     "name": "stdout",
     "output_type": "stream",
     "text": [
      "epoch: 16, [batch: 887 / 1479], examples_per_second: 12319.6444, train_label_loss: 0.0320, \n"
     ]
    },
    {
     "name": "stdout",
     "output_type": "stream",
     "text": [
      "epoch: 16, [batch: 1035 / 1479], examples_per_second: 12029.4148, train_label_loss: 0.0626, \n"
     ]
    },
    {
     "name": "stdout",
     "output_type": "stream",
     "text": [
      "epoch: 16, [batch: 1183 / 1479], examples_per_second: 12150.8847, train_label_loss: 0.0489, \n"
     ]
    },
    {
     "name": "stdout",
     "output_type": "stream",
     "text": [
      "epoch: 16, [batch: 1331 / 1479], examples_per_second: 12259.5432, train_label_loss: 0.1079, \n"
     ]
    },
    {
     "name": "stdout",
     "output_type": "stream",
     "text": [
      "=============================================================\n",
      "epoch: 16, source_val_acc_label: 0.9557, source_val_label_loss: 0.2461, target_val_acc_label: 0.9557, target_val_label_loss: 0.2460, \n",
      "=============================================================\n"
     ]
    },
    {
     "name": "stdout",
     "output_type": "stream",
     "text": [
      "epoch: 17, [batch: 1 / 1479], examples_per_second: 66.4829, train_label_loss: 0.0795, \n"
     ]
    },
    {
     "name": "stdout",
     "output_type": "stream",
     "text": [
      "epoch: 17, [batch: 148 / 1479], examples_per_second: 12138.2835, train_label_loss: 0.0576, \n"
     ]
    },
    {
     "name": "stdout",
     "output_type": "stream",
     "text": [
      "epoch: 17, [batch: 296 / 1479], examples_per_second: 12557.1931, train_label_loss: 0.0651, \n"
     ]
    },
    {
     "name": "stdout",
     "output_type": "stream",
     "text": [
      "epoch: 17, [batch: 444 / 1479], examples_per_second: 12416.6046, train_label_loss: 0.0329, \n"
     ]
    },
    {
     "name": "stdout",
     "output_type": "stream",
     "text": [
      "epoch: 17, [batch: 592 / 1479], examples_per_second: 12507.3030, train_label_loss: 0.0357, \n"
     ]
    },
    {
     "name": "stdout",
     "output_type": "stream",
     "text": [
      "epoch: 17, [batch: 740 / 1479], examples_per_second: 12186.3413, train_label_loss: 0.0689, \n"
     ]
    },
    {
     "name": "stdout",
     "output_type": "stream",
     "text": [
      "epoch: 17, [batch: 887 / 1479], examples_per_second: 12372.3648, train_label_loss: 0.1078, \n"
     ]
    },
    {
     "name": "stdout",
     "output_type": "stream",
     "text": [
      "epoch: 17, [batch: 1035 / 1479], examples_per_second: 12327.8261, train_label_loss: 0.0687, \n"
     ]
    },
    {
     "name": "stdout",
     "output_type": "stream",
     "text": [
      "epoch: 17, [batch: 1183 / 1479], examples_per_second: 12395.2648, train_label_loss: 0.0513, \n"
     ]
    },
    {
     "name": "stdout",
     "output_type": "stream",
     "text": [
      "epoch: 17, [batch: 1331 / 1479], examples_per_second: 12257.5423, train_label_loss: 0.0987, \n"
     ]
    },
    {
     "name": "stdout",
     "output_type": "stream",
     "text": [
      "=============================================================\n",
      "epoch: 17, source_val_acc_label: 0.9500, source_val_label_loss: 0.2848, target_val_acc_label: 0.9500, target_val_label_loss: 0.2843, \n",
      "=============================================================\n"
     ]
    },
    {
     "name": "stdout",
     "output_type": "stream",
     "text": [
      "epoch: 18, [batch: 1 / 1479], examples_per_second: 67.2175, train_label_loss: 0.0438, \n"
     ]
    },
    {
     "name": "stdout",
     "output_type": "stream",
     "text": [
      "epoch: 18, [batch: 148 / 1479], examples_per_second: 12492.9753, train_label_loss: 0.1078, \n"
     ]
    },
    {
     "name": "stdout",
     "output_type": "stream",
     "text": [
      "epoch: 18, [batch: 296 / 1479], examples_per_second: 12684.1995, train_label_loss: 0.1069, \n"
     ]
    },
    {
     "name": "stdout",
     "output_type": "stream",
     "text": [
      "epoch: 18, [batch: 444 / 1479], examples_per_second: 12937.2762, train_label_loss: 0.0926, \n"
     ]
    },
    {
     "name": "stdout",
     "output_type": "stream",
     "text": [
      "epoch: 18, [batch: 592 / 1479], examples_per_second: 12350.4447, train_label_loss: 0.1325, \n"
     ]
    },
    {
     "name": "stdout",
     "output_type": "stream",
     "text": [
      "epoch: 18, [batch: 740 / 1479], examples_per_second: 12232.6893, train_label_loss: 0.0224, \n"
     ]
    },
    {
     "name": "stdout",
     "output_type": "stream",
     "text": [
      "epoch: 18, [batch: 887 / 1479], examples_per_second: 12355.3950, train_label_loss: 0.0608, \n"
     ]
    },
    {
     "name": "stdout",
     "output_type": "stream",
     "text": [
      "epoch: 18, [batch: 1035 / 1479], examples_per_second: 12430.8921, train_label_loss: 0.1109, \n"
     ]
    },
    {
     "name": "stdout",
     "output_type": "stream",
     "text": [
      "epoch: 18, [batch: 1183 / 1479], examples_per_second: 12412.2792, train_label_loss: 0.0549, \n"
     ]
    },
    {
     "name": "stdout",
     "output_type": "stream",
     "text": [
      "epoch: 18, [batch: 1331 / 1479], examples_per_second: 12270.5563, train_label_loss: 0.0809, \n"
     ]
    },
    {
     "name": "stdout",
     "output_type": "stream",
     "text": [
      "=============================================================\n",
      "epoch: 18, source_val_acc_label: 0.9436, source_val_label_loss: 0.2961, target_val_acc_label: 0.9436, target_val_label_loss: 0.2960, \n",
      "=============================================================\n"
     ]
    },
    {
     "name": "stdout",
     "output_type": "stream",
     "text": [
      "Patience (3) exhausted\n"
     ]
    }
   ],
   "source": [
    "jig = Vanilla_Train_Eval_Test_Jig(\n",
    "    model=model,\n",
    "    path_to_best_model=p.BEST_MODEL_PATH,\n",
    "    device=p.device,\n",
    "    label_loss_object=torch.nn.NLLLoss(),\n",
    ")\n",
    "\n",
    "jig.train(\n",
    "    train_iterable=datasets.source.processed.train,\n",
    "    source_val_iterable=datasets.source.processed.val,\n",
    "    target_val_iterable=datasets.target.processed.val,\n",
    "    patience=p.patience,\n",
    "    num_epochs=p.n_epoch,\n",
    "    num_logs_per_epoch=p.NUM_LOGS_PER_EPOCH,\n",
    "    criteria_for_best=p.criteria_for_best\n",
    ")"
   ]
  },
  {
   "cell_type": "code",
   "execution_count": 14,
   "id": "4bc2ac17",
   "metadata": {
    "execution": {
     "iopub.execute_input": "2022-03-26T11:02:14.552265Z",
     "iopub.status.busy": "2022-03-26T11:02:14.551697Z",
     "iopub.status.idle": "2022-03-26T11:02:14.553950Z",
     "shell.execute_reply": "2022-03-26T11:02:14.554469Z"
    },
    "papermill": {
     "duration": 0.074401,
     "end_time": "2022-03-26T11:02:14.554605",
     "exception": false,
     "start_time": "2022-03-26T11:02:14.480204",
     "status": "completed"
    },
    "tags": []
   },
   "outputs": [],
   "source": [
    "total_experiment_time_secs = time.time() - start_time_secs"
   ]
  },
  {
   "cell_type": "code",
   "execution_count": 15,
   "id": "cae88f23",
   "metadata": {
    "execution": {
     "iopub.execute_input": "2022-03-26T11:02:14.705254Z",
     "iopub.status.busy": "2022-03-26T11:02:14.704348Z",
     "iopub.status.idle": "2022-03-26T11:02:37.045647Z",
     "shell.execute_reply": "2022-03-26T11:02:37.044788Z"
    },
    "papermill": {
     "duration": 22.420217,
     "end_time": "2022-03-26T11:02:37.045851",
     "exception": false,
     "start_time": "2022-03-26T11:02:14.625634",
     "status": "completed"
    },
    "tags": []
   },
   "outputs": [],
   "source": [
    "source_test_label_accuracy, source_test_label_loss = jig.test(datasets.source.processed.test)\n",
    "target_test_label_accuracy, target_test_label_loss = jig.test(datasets.target.processed.test)\n",
    "\n",
    "source_val_label_accuracy, source_val_label_loss = jig.test(datasets.source.processed.val)\n",
    "target_val_label_accuracy, target_val_label_loss = jig.test(datasets.target.processed.val)\n",
    "\n",
    "history = jig.get_history()\n",
    "\n",
    "total_epochs_trained = len(history[\"epoch_indices\"])\n",
    "\n",
    "val_dl = wrap_in_dataloader(p, Sequence_Aggregator((datasets.source.original.val, datasets.target.original.val)))\n",
    "\n",
    "confusion = confusion_by_domain_over_dataloader(model, p.device, val_dl, forward_uses_domain=False)\n",
    "per_domain_accuracy = per_domain_accuracy_from_confusion(confusion)\n",
    "\n",
    "# Add a key to per_domain_accuracy for if it was a source domain\n",
    "for domain, accuracy in per_domain_accuracy.items():\n",
    "    per_domain_accuracy[domain] = {\n",
    "        \"accuracy\": accuracy,\n",
    "        \"source?\": domain in p.domains_source\n",
    "    }\n",
    "\n",
    "# Do an independent accuracy assesment JUST TO BE SURE!\n",
    "# _source_test_label_accuracy = independent_accuracy_assesment(model, datasets.source.processed.test, p.device)\n",
    "# _target_test_label_accuracy = independent_accuracy_assesment(model, datasets.target.processed.test, p.device)\n",
    "# _source_val_label_accuracy = independent_accuracy_assesment(model, datasets.source.processed.val, p.device)\n",
    "# _target_val_label_accuracy = independent_accuracy_assesment(model, datasets.target.processed.val, p.device)\n",
    "\n",
    "# assert(_source_test_label_accuracy == source_test_label_accuracy)\n",
    "# assert(_target_test_label_accuracy == target_test_label_accuracy)\n",
    "# assert(_source_val_label_accuracy == source_val_label_accuracy)\n",
    "# assert(_target_val_label_accuracy == target_val_label_accuracy)\n",
    "\n",
    "###################################\n",
    "# Write out the results\n",
    "###################################\n",
    "\n",
    "experiment = {\n",
    "    \"experiment_name\": p.experiment_name,\n",
    "    \"parameters\": p,\n",
    "    \"results\": {\n",
    "        \"source_test_label_accuracy\": source_test_label_accuracy,\n",
    "        \"source_test_label_loss\": source_test_label_loss,\n",
    "        \"target_test_label_accuracy\": target_test_label_accuracy,\n",
    "        \"target_test_label_loss\": target_test_label_loss,\n",
    "        \"source_val_label_accuracy\": source_val_label_accuracy,\n",
    "        \"source_val_label_loss\": source_val_label_loss,\n",
    "        \"target_val_label_accuracy\": target_val_label_accuracy,\n",
    "        \"target_val_label_loss\": target_val_label_loss,\n",
    "        \"total_epochs_trained\": total_epochs_trained,\n",
    "        \"total_experiment_time_secs\": total_experiment_time_secs,\n",
    "        \"confusion\": confusion,\n",
    "        \"per_domain_accuracy\": per_domain_accuracy,\n",
    "    },\n",
    "    \"history\": history,\n",
    "    \"dataset_metrics\": get_dataset_metrics(datasets, \"cnn\"),\n",
    "}"
   ]
  },
  {
   "cell_type": "code",
   "execution_count": 16,
   "id": "74c318cf",
   "metadata": {
    "execution": {
     "iopub.execute_input": "2022-03-26T11:02:37.209794Z",
     "iopub.status.busy": "2022-03-26T11:02:37.204830Z",
     "iopub.status.idle": "2022-03-26T11:02:37.393709Z",
     "shell.execute_reply": "2022-03-26T11:02:37.394315Z"
    },
    "papermill": {
     "duration": 0.276654,
     "end_time": "2022-03-26T11:02:37.394540",
     "exception": false,
     "start_time": "2022-03-26T11:02:37.117886",
     "status": "completed"
    },
    "tags": []
   },
   "outputs": [
    {
     "data": {
      "text/plain": [
       "<AxesSubplot:title={'center':'Source Train Label Loss vs Source Val Label Loss'}, xlabel='Epoch'>"
      ]
     },
     "execution_count": 16,
     "metadata": {},
     "output_type": "execute_result"
    },
    {
     "data": {
      "image/png": "[encoded data removed]",
      "text/plain": [
       "<Figure size 1080x504 with 1 Axes>"
      ]
     },
     "metadata": {
      "needs_background": "light"
     },
     "output_type": "display_data"
    }
   ],
   "source": [
    "get_loss_curve(experiment)"
   ]
  },
  {
   "cell_type": "code",
   "execution_count": 17,
   "id": "59376601",
   "metadata": {
    "execution": {
     "iopub.execute_input": "2022-03-26T11:02:37.545912Z",
     "iopub.status.busy": "2022-03-26T11:02:37.545442Z",
     "iopub.status.idle": "2022-03-26T11:02:37.855395Z",
     "shell.execute_reply": "2022-03-26T11:02:37.855717Z"
    },
    "papermill": {
     "duration": 0.382063,
     "end_time": "2022-03-26T11:02:37.855809",
     "exception": false,
     "start_time": "2022-03-26T11:02:37.473746",
     "status": "completed"
    },
    "tags": []
   },
   "outputs": [
    {
     "data": {
      "text/plain": [
       "<AxesSubplot:title={'center':'Results'}>"
      ]
     },
     "execution_count": 17,
     "metadata": {},
     "output_type": "execute_result"
    },
    {
     "data": {
      "image/png": "[encoded data removed]",
      "text/plain": [
       "<Figure size 1080x504 with 1 Axes>"
      ]
     },
     "metadata": {
      "needs_background": "light"
     },
     "output_type": "display_data"
    }
   ],
   "source": [
    "get_results_table(experiment)"
   ]
  },
  {
   "cell_type": "code",
   "execution_count": 18,
   "id": "e80c5c98",
   "metadata": {
    "execution": {
     "iopub.execute_input": "2022-03-26T11:02:38.005356Z",
     "iopub.status.busy": "2022-03-26T11:02:38.002631Z",
     "iopub.status.idle": "2022-03-26T11:02:38.158771Z",
     "shell.execute_reply": "2022-03-26T11:02:38.158451Z"
    },
    "papermill": {
     "duration": 0.232912,
     "end_time": "2022-03-26T11:02:38.158842",
     "exception": false,
     "start_time": "2022-03-26T11:02:37.925930",
     "status": "completed"
    },
    "tags": []
   },
   "outputs": [
    {
     "data": {
      "text/plain": [
       "<AxesSubplot:title={'center':'Per Domain Accuracy'}, xlabel='domain'>"
      ]
     },
     "execution_count": 18,
     "metadata": {},
     "output_type": "execute_result"
    },
    {
     "data": {
      "image/png": "[encoded data removed]",
      "text/plain": [
       "<Figure size 1080x504 with 1 Axes>"
      ]
     },
     "metadata": {
      "needs_background": "light"
     },
     "output_type": "display_data"
    }
   ],
   "source": [
    "get_domain_accuracies(experiment)"
   ]
  },
  {
   "cell_type": "code",
   "execution_count": 19,
   "id": "086fdd10",
   "metadata": {
    "execution": {
     "iopub.execute_input": "2022-03-26T11:02:38.304632Z",
     "iopub.status.busy": "2022-03-26T11:02:38.302863Z",
     "iopub.status.idle": "2022-03-26T11:02:38.307360Z",
     "shell.execute_reply": "2022-03-26T11:02:38.306992Z"
    },
    "papermill": {
     "duration": 0.077346,
     "end_time": "2022-03-26T11:02:38.307430",
     "exception": false,
     "start_time": "2022-03-26T11:02:38.230084",
     "status": "completed"
    },
    "tags": []
   },
   "outputs": [
    {
     "name": "stdout",
     "output_type": "stream",
     "text": [
      "Source Test Label Accuracy: 0.9646222395364126 Target Test Label Accuracy: 0.9646222395364126\n",
      "Source Val Label Accuracy: 0.9653583110318168 Target Val Label Accuracy: 0.9653583110318168\n"
     ]
    }
   ],
   "source": [
    "print(\"Source Test Label Accuracy:\", experiment[\"results\"][\"source_test_label_accuracy\"], \"Target Test Label Accuracy:\", experiment[\"results\"][\"target_test_label_accuracy\"])\n",
    "print(\"Source Val Label Accuracy:\", experiment[\"results\"][\"source_val_label_accuracy\"], \"Target Val Label Accuracy:\", experiment[\"results\"][\"target_val_label_accuracy\"])"
   ]
  },
  {
   "cell_type": "code",
   "execution_count": 20,
   "id": "9f450536",
   "metadata": {
    "execution": {
     "iopub.execute_input": "2022-03-26T11:02:38.461478Z",
     "iopub.status.busy": "2022-03-26T11:02:38.460655Z",
     "iopub.status.idle": "2022-03-26T11:02:38.464979Z",
     "shell.execute_reply": "2022-03-26T11:02:38.465657Z"
    },
    "papermill": {
     "duration": 0.083578,
     "end_time": "2022-03-26T11:02:38.465833",
     "exception": false,
     "start_time": "2022-03-26T11:02:38.382255",
     "status": "completed"
    },
    "tags": [
     "experiment_json"
    ]
   },
   "outputs": [
    {
     "data": {
      "text/plain": [
       "'{\"experiment_name\": \"cnn_2:wisig\", \"parameters\": {\"experiment_name\": \"cnn_2:wisig\", \"labels\": [\"1-10\", \"1-12\", \"1-14\", \"1-16\", \"1-18\", \"1-19\", \"1-8\", \"10-11\", \"10-17\", \"10-4\", \"10-7\", \"11-1\", \"11-10\", \"11-19\", \"11-20\", \"11-4\", \"11-7\", \"12-19\", \"12-20\", \"12-7\", \"13-14\", \"13-18\", \"13-19\", \"13-20\", \"13-3\", \"13-7\", \"14-10\", \"14-11\", \"14-12\", \"14-13\", \"14-14\", \"14-19\", \"14-20\", \"14-7\", \"14-8\", \"14-9\", \"15-1\", \"15-19\", \"15-6\", \"16-1\", \"16-16\", \"16-19\", \"16-20\", \"17-10\", \"17-11\", \"18-1\", \"18-10\", \"18-11\", \"18-12\", \"18-13\", \"18-14\", \"18-15\", \"18-16\", \"18-17\", \"18-19\", \"18-2\", \"18-20\", \"18-4\", \"18-5\", \"18-7\", \"18-8\", \"18-9\", \"19-1\", \"19-10\", \"19-11\", \"19-12\", \"19-13\", \"19-14\", \"19-15\", \"19-19\", \"19-2\", \"19-20\", \"19-3\", \"19-4\", \"19-6\", \"19-7\", \"19-8\", \"19-9\", \"2-1\", \"2-13\", \"2-15\", \"2-3\", \"2-4\", \"2-5\", \"2-6\", \"2-7\", \"2-8\", \"20-1\", \"20-12\", \"20-14\", \"20-15\", \"20-16\", \"20-18\", \"20-19\", \"20-20\", \"20-3\", \"20-4\", \"20-5\", \"20-7\", \"20-8\", \"3-1\", \"3-13\", \"3-18\", \"3-2\", \"3-8\", \"4-1\", \"4-10\", \"4-11\", \"5-1\", \"5-5\", \"6-1\", \"6-15\", \"6-6\", \"7-10\", \"7-11\", \"7-12\", \"7-13\", \"7-14\", \"7-7\", \"7-8\", \"7-9\", \"8-1\", \"8-13\", \"8-14\", \"8-18\", \"8-20\", \"8-3\", \"8-8\", \"9-1\", \"9-7\"], \"domains_source\": [1, 2, 3, 4], \"domains_target\": [1, 2, 3, 4], \"pickle_name_target\": \"wisig.node3-19.stratified_ds.2022A.pkl\", \"pickle_name_source\": \"wisig.node3-19.stratified_ds.2022A.pkl\", \"device\": \"cuda\", \"lr\": 0.0001, \"batch_size\": 128, \"normalize_source\": false, \"normalize_target\": false, \"num_examples_per_domain_per_label_source\": -1, \"num_examples_per_domain_per_label_target\": -1, \"torch_default_dtype\": \"torch.float32\", \"n_epoch\": 50, \"patience\": 3, \"criteria_for_best\": \"target_accuracy\", \"x_net\": [{\"class\": \"nnReshape\", \"kargs\": {\"shape\": [-1, 1, 2, 256]}}, {\"class\": \"Conv2d\", \"kargs\": {\"in_channels\": 1, \"out_channels\": 256, \"kernel_size\": [1, 7], \"bias\": false, \"padding\": [0, 3]}}, {\"class\": \"ReLU\", \"kargs\": {\"inplace\": true}}, {\"class\": \"BatchNorm2d\", \"kargs\": {\"num_features\": 256}}, {\"class\": \"Conv2d\", \"kargs\": {\"in_channels\": 256, \"out_channels\": 80, \"kernel_size\": [2, 7], \"bias\": true, \"padding\": [0, 3]}}, {\"class\": \"ReLU\", \"kargs\": {\"inplace\": true}}, {\"class\": \"BatchNorm2d\", \"kargs\": {\"num_features\": 80}}, {\"class\": \"Flatten\", \"kargs\": {}}, {\"class\": \"Linear\", \"kargs\": {\"in_features\": 20480, \"out_features\": 256}}, {\"class\": \"ReLU\", \"kargs\": {\"inplace\": true}}, {\"class\": \"BatchNorm1d\", \"kargs\": {\"num_features\": 256}}, {\"class\": \"Linear\", \"kargs\": {\"in_features\": 256, \"out_features\": 130}}], \"NUM_LOGS_PER_EPOCH\": 10, \"BEST_MODEL_PATH\": \"./best_model.pth\", \"dataset_seed\": 154325, \"seed\": 154325}, \"results\": {\"source_test_label_accuracy\": 0.9646222395364126, \"source_test_label_loss\": 0.20490526327735678, \"target_test_label_accuracy\": 0.9646222395364126, \"target_test_label_loss\": 0.20492752009097523, \"source_val_label_accuracy\": 0.9653583110318168, \"source_val_label_loss\": 0.19814327015921684, \"target_val_label_accuracy\": 0.9653583110318168, \"target_val_label_loss\": 0.19738372156685335, \"total_epochs_trained\": 18, \"total_experiment_time_secs\": 333.7732698917389, \"confusion\": {\"1\": {\"98\": {\"98\": 272}, \"11\": {\"11\": 336, \"23\": 2, \"39\": 4, \"84\": 2, \"105\": 2}, \"102\": {\"102\": 300, \"108\": 2, \"39\": 2, \"70\": 2, \"27\": 2}, \"12\": {\"12\": 264}, \"113\": {\"113\": 308, \"84\": 2}, \"87\": {\"87\": 268, \"12\": 2, \"11\": 2}, \"60\": {\"60\": 44, \"30\": 2}, \"31\": {\"31\": 46}, \"106\": {\"106\": 338, \"94\": 2, \"62\": 2, \"108\": 2, \"12\": 2, \"11\": 2}, \"109\": {\"109\": 256, \"108\": 34, \"70\": 20, \"126\": 2, \"111\": 2, \"39\": 2}, \"37\": {\"37\": 44}, \"120\": {\"120\": 50}, \"68\": {\"68\": 46}, \"111\": {\"111\": 302, \"88\": 2}, \"90\": {\"90\": 462, \"77\": 2}, \"62\": {\"62\": 298, \"88\": 2, \"65\": 2}, \"107\": {\"107\": 308, \"88\": 2}, \"116\": {\"116\": 88}, \"71\": {\"71\": 272}, \"8\": {\"8\": 366}, \"92\": {\"92\": 78}, \"124\": {\"124\": 324, \"12\": 2}, \"69\": {\"69\": 274, \"106\": 2}, \"2\": {\"2\": 80, \"62\": 2}, \"14\": {\"14\": 240, \"69\": 2, \"94\": 2}, \"125\": {\"125\": 438}, \"18\": {\"18\": 314}, \"84\": {\"84\": 336, \"110\": 2, \"108\": 2}, \"1\": {\"1\": 338, \"126\": 2, \"27\": 2}, \"33\": {\"33\": 390, \"95\": 2, \"70\": 2}, \"16\": {\"16\": 276}, \"44\": {\"44\": 190}, \"117\": {\"117\": 360}, \"19\": {\"19\": 76}, \"123\": {\"123\": 44, \"97\": 2}, \"89\": {\"89\": 92}, \"108\": {\"108\": 306, \"95\": 2, \"100\": 2, \"88\": 2}, \"3\": {\"3\": 216, \"98\": 2, \"10\": 2, \"15\": 2}, \"110\": {\"110\": 326, \"126\": 2}, \"93\": {\"93\": 388, \"27\": 2, \"87\": 4, \"11\": 2, \"43\": 4, \"122\": 2}, \"36\": {\"36\": 340, \"39\": 2}, \"49\": {\"49\": 48, \"108\": 2}, \"47\": {\"47\": 34}, \"24\": {\"24\": 182, \"108\": 24, \"94\": 2, \"27\": 20, \"12\": 2, \"126\": 2}, \"6\": {\"6\": 80}, \"70\": {\"70\": 298, \"88\": 16, \"78\": 2, \"108\": 6}, \"103\": {\"103\": 42, \"94\": 2}, \"72\": {\"72\": 80}, \"100\": {\"100\": 44, \"20\": 2}, \"30\": {\"30\": 132, \"0\": 2, \"39\": 2}, \"75\": {\"75\": 44}, \"118\": {\"118\": 202, \"22\": 2, \"69\": 4, \"109\": 2}, \"94\": {\"94\": 232, \"30\": 2, \"39\": 2}, \"88\": {\"108\": 10, \"88\": 296, \"27\": 18, \"24\": 24, \"70\": 2}, \"114\": {\"114\": 356, \"39\": 2, \"0\": 2}, \"105\": {\"105\": 210, \"27\": 2, \"101\": 2, \"39\": 2}, \"7\": {\"7\": 364, \"0\": 2}, \"26\": {\"26\": 336, \"107\": 2, \"2\": 2, \"118\": 2, \"84\": 2}, \"4\": {\"4\": 248, \"39\": 2, \"78\": 2, \"122\": 2}, \"126\": {\"126\": 334, \"70\": 4, \"94\": 2}, \"5\": {\"5\": 220, \"108\": 2, \"99\": 2, \"70\": 2, \"39\": 2}, \"43\": {\"43\": 316, \"107\": 2, \"78\": 2, \"84\": 2, \"114\": 2}, \"81\": {\"81\": 76}, \"40\": {\"40\": 358, \"126\": 2}, \"53\": {\"53\": 50}, \"82\": {\"82\": 96}, \"21\": {\"21\": 78, \"126\": 2, \"88\": 4, \"78\": 10, \"70\": 6, \"69\": 2}, \"50\": {\"50\": 36, \"126\": 2, \"2\": 2, \"30\": 2}, \"66\": {\"66\": 48}, \"59\": {\"59\": 34, \"93\": 2, \"43\": 2}, \"10\": {\"10\": 300, \"15\": 2, \"114\": 2}, \"52\": {\"52\": 54}, \"23\": {\"23\": 56, \"60\": 2, \"39\": 2}, \"39\": {\"39\": 262, \"126\": 2}, \"77\": {\"77\": 38, \"88\": 2}, \"25\": {\"25\": 36, \"94\": 2, \"0\": 2, \"11\": 2}, \"101\": {\"101\": 314, \"94\": 2}, \"86\": {\"86\": 92, \"108\": 4}, \"27\": {\"27\": 226, \"12\": 2, \"62\": 2, \"108\": 2, \"78\": 2, \"39\": 2, \"36\": 2}, \"122\": {\"122\": 224}, \"22\": {\"78\": 2, \"22\": 42, \"127\": 2, \"70\": 2}, \"9\": {\"9\": 80}, \"0\": {\"0\": 206, \"98\": 2, \"10\": 2, \"88\": 2}, \"64\": {\"64\": 46}, \"95\": {\"95\": 94}, \"127\": {\"127\": 268, \"94\": 2, \"49\": 2}, \"48\": {\"48\": 36}, \"29\": {\"29\": 74}, \"15\": {\"15\": 258, \"69\": 4, \"39\": 4}, \"99\": {\"25\": 2, \"99\": 62}, \"85\": {\"85\": 84}, \"79\": {\"79\": 36}, \"96\": {\"96\": 50, \"107\": 2, \"126\": 2, \"89\": 2}, \"17\": {\"17\": 42, \"46\": 2}, \"38\": {\"38\": 40}, \"80\": {\"80\": 42, \"107\": 2}, \"56\": {\"56\": 34, \"129\": 2}, \"42\": {\"42\": 72}, \"61\": {\"61\": 36, \"55\": 2}, \"51\": {\"51\": 42, \"48\": 2}, \"67\": {\"67\": 44}, \"34\": {\"34\": 76, \"52\": 2, \"60\": 2}, \"104\": {\"104\": 46}, \"91\": {\"91\": 76, \"62\": 2}, \"35\": {\"35\": 32, \"101\": 2}, \"83\": {\"83\": 74, \"24\": 2, \"15\": 2}, \"121\": {\"121\": 80, \"42\": 2}, \"58\": {\"58\": 38}, \"41\": {\"41\": 48}, \"28\": {\"28\": 42, \"49\": 2, \"73\": 2, \"109\": 2, \"57\": 2}, \"128\": {\"128\": 68}, \"20\": {\"20\": 46, \"14\": 2}, \"76\": {\"76\": 48}, \"13\": {\"13\": 46}, \"74\": {\"74\": 44}, \"73\": {\"73\": 52, \"78\": 4, \"10\": 2}, \"55\": {\"55\": 34}, \"78\": {\"78\": 34, \"70\": 8, \"8\": 2, \"43\": 2, \"39\": 2}, \"32\": {\"32\": 82}, \"119\": {\"119\": 48}, \"129\": {\"129\": 76, \"96\": 2}, \"46\": {\"46\": 34, \"124\": 2}, \"112\": {\"112\": 42, \"77\": 2, \"83\": 2}, \"54\": {\"54\": 42, \"73\": 2, \"42\": 2}, \"65\": {\"65\": 34, \"16\": 2, \"119\": 2}, \"97\": {\"97\": 30, \"27\": 18, \"39\": 2, \"108\": 4}, \"45\": {\"45\": 24, \"109\": 2, \"70\": 2, \"124\": 2}, \"115\": {\"115\": 36}, \"63\": {\"63\": 44}, \"57\": {\"57\": 38}}, \"4\": {\"18\": {\"18\": 306, \"69\": 2}, \"78\": {\"78\": 78, \"39\": 2, \"88\": 2, \"108\": 2, \"30\": 2, \"21\": 2, \"87\": 2, \"70\": 4, \"106\": 2}, \"39\": {\"39\": 252, \"62\": 4}, \"36\": {\"36\": 308, \"27\": 8, \"118\": 2, \"69\": 2, \"62\": 2, \"39\": 2, \"24\": 2, \"113\": 2}, \"102\": {\"102\": 332, \"62\": 2, \"33\": 2, \"87\": 2, \"70\": 2}, \"25\": {\"25\": 48}, \"16\": {\"16\": 308, \"88\": 2, \"108\": 2, \"118\": 4, \"39\": 2}, \"114\": {\"114\": 318, \"101\": 2, \"39\": 2, \"12\": 2}, \"87\": {\"87\": 312, \"43\": 16, \"62\": 2, \"11\": 2, \"122\": 4, \"39\": 2}, \"26\": {\"26\": 312, \"21\": 4, \"62\": 4, \"24\": 2}, \"8\": {\"8\": 346, \"87\": 2, \"78\": 4, \"107\": 2, \"113\": 2, \"27\": 6, \"39\": 2, \"11\": 2, \"43\": 2}, \"101\": {\"101\": 326, \"21\": 2, \"44\": 2, \"90\": 2, \"0\": 2}, \"53\": {\"53\": 48}, \"43\": {\"43\": 288, \"39\": 4, \"87\": 6, \"70\": 2, \"78\": 2, \"126\": 2, \"113\": 2}, \"113\": {\"113\": 308, \"11\": 8, \"126\": 2, \"122\": 2, \"3\": 2, \"69\": 2}, \"129\": {\"129\": 74}, \"121\": {\"121\": 80, \"0\": 2}, \"97\": {\"24\": 12, \"97\": 36, \"27\": 4, \"10\": 2, \"88\": 2}, \"10\": {\"10\": 292, \"70\": 2, \"11\": 2, \"39\": 2, \"24\": 8, \"18\": 2, \"62\": 2}, \"126\": {\"126\": 304, \"39\": 4, \"0\": 2, \"109\": 2, \"87\": 2, \"27\": 2, \"70\": 2}, \"40\": {\"40\": 332, \"78\": 2, \"108\": 4, \"24\": 2, \"39\": 2, \"126\": 2}, \"127\": {\"127\": 262, \"11\": 4, \"3\": 2, \"113\": 2}, \"88\": {\"88\": 302, \"87\": 2, \"0\": 2, \"70\": 22, \"62\": 2, \"1\": 2, \"108\": 2}, \"24\": {\"24\": 278, \"88\": 4, \"10\": 4, \"106\": 2, \"27\": 6, \"62\": 2, \"39\": 4, \"97\": 2}, \"30\": {\"30\": 178, \"69\": 2, \"78\": 4, \"27\": 2, \"10\": 2, \"122\": 2, \"97\": 2}, \"11\": {\"11\": 390, \"96\": 2}, \"2\": {\"2\": 74, \"44\": 2}, \"107\": {\"107\": 360, \"110\": 2}, \"103\": {\"31\": 2, \"103\": 44, \"113\": 2}, \"117\": {\"117\": 310, \"3\": 2, \"102\": 2, \"61\": 2}, \"110\": {\"110\": 306, \"126\": 4, \"59\": 2, \"109\": 2, \"62\": 2, \"39\": 2, \"96\": 2, \"122\": 4, \"71\": 2, \"21\": 2}, \"109\": {\"27\": 2, \"109\": 292, \"39\": 2}, \"91\": {\"91\": 64}, \"69\": {\"69\": 320, \"62\": 2, \"88\": 2, \"114\": 2, \"78\": 2}, \"22\": {\"22\": 42, \"43\": 2, \"24\": 2}, \"105\": {\"105\": 242, \"88\": 2, \"0\": 2, \"109\": 2, \"62\": 2, \"39\": 2, \"108\": 2}, \"33\": {\"33\": 388, \"2\": 2}, \"84\": {\"84\": 312, \"10\": 2, \"70\": 6, \"8\": 2, \"123\": 2, \"113\": 6, \"12\": 2, \"0\": 2, \"108\": 2}, \"73\": {\"73\": 60}, \"118\": {\"118\": 262, \"109\": 2, \"69\": 2, \"39\": 2, \"30\": 2, \"94\": 2, \"4\": 2, \"18\": 2, \"62\": 2, \"113\": 2}, \"90\": {\"90\": 450}, \"111\": {\"111\": 348, \"12\": 2, \"27\": 4, \"98\": 2, \"62\": 2}, \"62\": {\"62\": 150, \"122\": 4, \"114\": 2}, \"51\": {\"5\": 2, \"89\": 2, \"108\": 2, \"51\": 26, \"27\": 2, \"69\": 2, \"71\": 2, \"91\": 2}, \"95\": {\"95\": 82, \"127\": 4}, \"45\": {\"45\": 44}, \"93\": {\"93\": 414, \"70\": 2, \"27\": 2}, \"99\": {\"99\": 94, \"72\": 2, \"55\": 2, \"0\": 2, \"104\": 2}, \"98\": {\"98\": 300, \"18\": 2, \"69\": 2}, \"70\": {\"70\": 264, \"108\": 30, \"94\": 2, \"93\": 2, \"88\": 6, \"100\": 2, \"36\": 2, \"84\": 2}, \"29\": {\"29\": 80}, \"44\": {\"44\": 168}, \"3\": {\"3\": 318, \"11\": 2, \"113\": 2, \"61\": 2, \"87\": 2, \"39\": 2, \"122\": 2, \"12\": 2, \"60\": 2, \"94\": 2, \"108\": 4, \"62\": 2}, \"7\": {\"7\": 302, \"87\": 2, \"40\": 2, \"62\": 2, \"90\": 2, \"88\": 2, \"21\": 2, \"4\": 2}, \"71\": {\"71\": 252, \"60\": 4, \"35\": 2, \"3\": 2}, \"1\": {\"1\": 248, \"4\": 2, \"108\": 2, \"75\": 2, \"88\": 6, \"85\": 2, \"109\": 2, \"78\": 2, \"21\": 2, \"100\": 2}, \"31\": {\"31\": 46, \"32\": 2}, \"5\": {\"5\": 330, \"62\": 2, \"108\": 4, \"44\": 2, \"1\": 2, \"107\": 2, \"12\": 2}, \"100\": {\"100\": 50}, \"32\": {\"32\": 70, \"0\": 2}, \"85\": {\"85\": 76}, \"125\": {\"125\": 378, \"62\": 2}, \"124\": {\"124\": 302, \"125\": 2}, \"0\": {\"0\": 294, \"30\": 2, \"113\": 2}, \"20\": {\"20\": 48}, \"108\": {\"118\": 2, \"108\": 204, \"27\": 4, \"78\": 2, \"84\": 2, \"88\": 2, \"94\": 2, \"126\": 4, \"125\": 2, \"39\": 2, \"30\": 2, \"70\": 2, \"62\": 2, \"107\": 2, \"2\": 2}, \"94\": {\"94\": 210, \"21\": 2, \"98\": 4, \"11\": 2, \"108\": 2}, \"14\": {\"14\": 274, \"3\": 2, \"69\": 2, \"27\": 2, \"62\": 2}, \"27\": {\"27\": 234, \"108\": 8, \"21\": 2, \"39\": 2, \"8\": 2, \"24\": 4, \"62\": 2}, \"15\": {\"15\": 316, \"39\": 2, \"69\": 2, \"107\": 2, \"12\": 2, \"14\": 2, \"114\": 2}, \"74\": {\"74\": 40, \"71\": 2, \"128\": 2}, \"38\": {\"38\": 42}, \"19\": {\"19\": 74}, \"81\": {\"81\": 92, \"39\": 2, \"4\": 2}, \"128\": {\"128\": 62, \"21\": 2, \"3\": 2}, \"76\": {\"76\": 44}, \"65\": {\"65\": 38}, \"46\": {\"46\": 50}, \"116\": {\"116\": 74}, \"37\": {\"37\": 48}, \"12\": {\"12\": 250, \"70\": 2, \"74\": 2, \"62\": 2}, \"75\": {\"75\": 40}, \"21\": {\"21\": 90, \"11\": 2, \"62\": 2, \"39\": 2, \"27\": 2, \"108\": 2, \"70\": 4, \"107\": 2}, \"104\": {\"104\": 46}, \"72\": {\"72\": 76, \"88\": 2, \"62\": 2}, \"50\": {\"50\": 42, \"118\": 2, \"3\": 2, \"62\": 2}, \"122\": {\"122\": 198, \"70\": 2, \"39\": 2, \"87\": 2, \"43\": 2, \"118\": 2, \"11\": 2, \"109\": 2}, \"83\": {\"83\": 70, \"90\": 2, \"19\": 2}, \"106\": {\"106\": 284, \"12\": 4, \"78\": 2, \"24\": 2, \"69\": 2, \"71\": 2}, \"86\": {\"86\": 72}, \"112\": {\"112\": 48}, \"41\": {\"41\": 48}, \"61\": {\"61\": 42, \"21\": 2, \"11\": 2}, \"4\": {\"16\": 2, \"4\": 244, \"27\": 2, \"39\": 2, \"62\": 2, \"24\": 2, \"97\": 2, \"30\": 2, \"113\": 2}, \"60\": {\"60\": 74, \"11\": 2, \"110\": 2, \"23\": 2}, \"123\": {\"123\": 44}, \"56\": {\"56\": 30, \"35\": 2, \"89\": 2}, \"23\": {\"23\": 26, \"62\": 6, \"83\": 2, \"71\": 2, \"39\": 2, \"126\": 2}, \"6\": {\"6\": 64, \"98\": 2}, \"92\": {\"92\": 66, \"63\": 2, \"11\": 2, \"69\": 2}, \"82\": {\"82\": 74, \"101\": 2, \"39\": 2, \"29\": 2, \"71\": 2, \"78\": 2, \"35\": 2}, \"96\": {\"96\": 54, \"110\": 2, \"74\": 2}, \"120\": {\"64\": 2, \"120\": 46, \"32\": 2, \"61\": 2}, \"68\": {\"68\": 46}, \"79\": {\"79\": 42, \"107\": 2}, \"115\": {\"115\": 40}, \"13\": {\"13\": 44}, \"55\": {\"55\": 44}, \"58\": {\"58\": 40, \"88\": 2, \"12\": 2, \"62\": 2}, \"57\": {\"57\": 46}, \"48\": {\"48\": 46}, \"34\": {\"34\": 82}, \"42\": {\"42\": 76}, \"119\": {\"119\": 40, \"97\": 2, \"100\": 2}, \"28\": {\"28\": 52}, \"52\": {\"108\": 2, \"52\": 50}, \"47\": {\"47\": 38}, \"63\": {\"63\": 46, \"120\": 2}, \"54\": {\"54\": 46}, \"89\": {\"89\": 78, \"90\": 2, \"21\": 2}, \"9\": {\"9\": 70, \"83\": 2}, \"66\": {\"66\": 42, \"111\": 2, \"100\": 2}, \"59\": {\"59\": 38}, \"49\": {\"49\": 80}, \"67\": {\"67\": 46}, \"17\": {\"17\": 48, \"109\": 2, \"24\": 2}, \"77\": {\"77\": 34, \"46\": 2}, \"35\": {\"35\": 34}, \"80\": {\"80\": 38, \"46\": 2}, \"64\": {\"64\": 46}}, \"2\": {\"7\": {\"7\": 332, \"87\": 2, \"122\": 2}, \"43\": {\"43\": 286, \"71\": 2, \"87\": 10, \"39\": 2, \"49\": 2, \"86\": 2, \"69\": 2, \"88\": 2, \"24\": 2, \"70\": 2}, \"101\": {\"101\": 398, \"0\": 2}, \"71\": {\"71\": 240, \"3\": 4, \"88\": 4, \"126\": 2, \"11\": 4, \"40\": 2, \"18\": 2}, \"106\": {\"106\": 296, \"88\": 2, \"24\": 2, \"94\": 2, \"87\": 2}, \"4\": {\"4\": 224, \"103\": 2, \"122\": 2}, \"82\": {\"82\": 84, \"0\": 2, \"12\": 2, \"126\": 2}, \"62\": {\"62\": 342, \"101\": 2, \"24\": 2, \"87\": 2, \"109\": 2}, \"107\": {\"107\": 150, \"62\": 2, \"113\": 2, \"103\": 2, \"118\": 2, \"108\": 2, \"66\": 2, \"39\": 2, \"21\": 2, \"70\": 2}, \"33\": {\"71\": 2, \"33\": 364, \"27\": 2, \"88\": 2}, \"84\": {\"84\": 232, \"70\": 2, \"94\": 2}, \"21\": {\"21\": 108, \"122\": 2, \"113\": 2, \"39\": 6, \"108\": 2, \"88\": 2, \"12\": 2}, \"26\": {\"26\": 338, \"21\": 2, \"114\": 2, \"113\": 4, \"62\": 2, \"12\": 2, \"94\": 2, \"39\": 4, \"27\": 2}, \"5\": {\"5\": 276, \"113\": 2, \"12\": 2, \"88\": 2, \"69\": 2}, \"27\": {\"27\": 148, \"70\": 4, \"36\": 14, \"24\": 4, \"113\": 2, \"62\": 2, \"88\": 4}, \"69\": {\"69\": 342, \"88\": 2, \"106\": 4, \"62\": 2, \"70\": 2, \"12\": 4}, \"12\": {\"12\": 206, \"105\": 2, \"62\": 6, \"94\": 2, \"113\": 2, \"122\": 2, \"4\": 2}, \"118\": {\"118\": 164, \"69\": 2, \"60\": 2, \"94\": 2, \"78\": 2}, \"24\": {\"24\": 252, \"88\": 8, \"113\": 2, \"69\": 4, \"94\": 2, \"118\": 2, \"84\": 2, \"10\": 2, \"27\": 4, \"62\": 2}, \"29\": {\"29\": 84, \"125\": 2, \"67\": 2}, \"100\": {\"100\": 46, \"113\": 2}, \"70\": {\"70\": 286, \"87\": 2, \"91\": 2, \"12\": 4, \"39\": 2, \"88\": 6, \"94\": 2, \"78\": 2, \"69\": 4, \"36\": 2}, \"66\": {\"66\": 50}, \"116\": {\"116\": 72, \"66\": 2}, \"105\": {\"105\": 326, \"87\": 2, \"3\": 2}, \"76\": {\"76\": 48}, \"8\": {\"8\": 314, \"36\": 2, \"61\": 2, \"27\": 2, \"4\": 2}, \"83\": {\"83\": 98, \"19\": 2}, \"97\": {\"33\": 2, \"97\": 50, \"15\": 4}, \"30\": {\"30\": 262, \"31\": 2, \"12\": 2, \"39\": 2, \"24\": 4, \"110\": 2, \"40\": 2, \"58\": 2, \"109\": 2, \"88\": 2}, \"3\": {\"3\": 336, \"88\": 2, \"113\": 2, \"27\": 2, \"39\": 2, \"62\": 2}, \"81\": {\"81\": 62, \"60\": 2, \"62\": 2}, \"88\": {\"88\": 284, \"108\": 14, \"24\": 6, \"94\": 2, \"12\": 2, \"0\": 2, \"39\": 2}, \"18\": {\"18\": 310, \"69\": 4, \"62\": 4, \"40\": 2, \"87\": 2}, \"10\": {\"10\": 148, \"84\": 2, \"88\": 2, \"11\": 2, \"0\": 2}, \"20\": {\"20\": 46, \"93\": 2}, \"36\": {\"36\": 310, \"114\": 2, \"71\": 2, \"12\": 2, \"108\": 2, \"39\": 2, \"94\": 2, \"0\": 2}, \"111\": {\"111\": 354, \"0\": 2, \"62\": 2, \"4\": 2}, \"16\": {\"16\": 286, \"39\": 6, \"62\": 4, \"122\": 2, \"96\": 4, \"25\": 2, \"5\": 2, \"108\": 2, \"110\": 2}, \"40\": {\"40\": 346, \"39\": 2, \"10\": 2, \"108\": 2, \"24\": 2, \"11\": 2}, \"39\": {\"39\": 278, \"11\": 2, \"62\": 4, \"114\": 2, \"40\": 2}, \"98\": {\"98\": 300, \"21\": 2, \"62\": 2, \"4\": 2}, \"87\": {\"87\": 246, \"11\": 2, \"118\": 2, \"88\": 2, \"43\": 8, \"40\": 4, \"114\": 2, \"70\": 4, \"23\": 2, \"108\": 2, \"30\": 2, \"39\": 2, \"101\": 2, \"113\": 2, \"62\": 2, \"24\": 2}, \"93\": {\"93\": 412, \"106\": 2, \"110\": 2, \"71\": 2}, \"11\": {\"11\": 200, \"27\": 2, \"71\": 2, \"62\": 2}, \"114\": {\"114\": 288, \"94\": 2, \"71\": 2, \"62\": 2}, \"121\": {\"121\": 82, \"12\": 2, \"62\": 2, \"88\": 2, \"21\": 2}, \"90\": {\"90\": 472, \"98\": 2, \"125\": 2}, \"77\": {\"77\": 44, \"0\": 2, \"21\": 2}, \"14\": {\"14\": 108, \"71\": 2, \"26\": 2, \"122\": 2, \"70\": 2, \"24\": 4, \"126\": 2, \"94\": 2}, \"126\": {\"126\": 294, \"108\": 2, \"113\": 2, \"24\": 2}, \"44\": {\"44\": 256, \"49\": 2}, \"108\": {\"108\": 350, \"94\": 2}, \"1\": {\"1\": 308, \"3\": 2, \"61\": 2, \"122\": 2}, \"50\": {\"50\": 44}, \"25\": {\"25\": 42}, \"127\": {\"127\": 302, \"99\": 2, \"21\": 2, \"97\": 2, \"27\": 2, \"0\": 2}, \"15\": {\"15\": 292, \"113\": 2, \"39\": 2, \"108\": 2, \"27\": 2, \"4\": 2}, \"129\": {\"129\": 80}, \"104\": {\"104\": 54, \"0\": 2}, \"122\": {\"122\": 338, \"0\": 2, \"62\": 2, \"70\": 2, \"93\": 4, \"94\": 2, \"71\": 2, \"113\": 2}, \"117\": {\"117\": 294, \"3\": 2, \"21\": 2, \"69\": 2, \"24\": 2}, \"38\": {\"38\": 42, \"35\": 2}, \"96\": {\"96\": 46, \"93\": 6, \"65\": 2, \"125\": 2}, \"109\": {\"21\": 4, \"109\": 230, \"70\": 2, \"62\": 4, \"108\": 4, \"39\": 2, \"10\": 2, \"54\": 2}, \"74\": {\"74\": 44, \"71\": 2, \"24\": 2}, \"0\": {\"0\": 286, \"88\": 2, \"93\": 2, \"39\": 2, \"30\": 2, \"62\": 2}, \"125\": {\"125\": 410, \"121\": 2}, \"102\": {\"102\": 308, \"24\": 2, \"93\": 2, \"82\": 2}, \"85\": {\"85\": 86}, \"51\": {\"51\": 46, \"54\": 2, \"24\": 2}, \"56\": {\"56\": 34}, \"91\": {\"91\": 68, \"57\": 2}, \"124\": {\"124\": 308, \"105\": 2, \"90\": 2, \"39\": 2}, \"78\": {\"78\": 112, \"70\": 8, \"21\": 4, \"39\": 2}, \"22\": {\"22\": 50}, \"95\": {\"95\": 90, \"21\": 2}, \"60\": {\"113\": 2, \"60\": 74, \"49\": 2}, \"92\": {\"62\": 2, \"36\": 2, \"92\": 60, \"96\": 2, \"108\": 2, \"114\": 2, \"24\": 2}, \"128\": {\"128\": 64}, \"55\": {\"55\": 48}, \"28\": {\"28\": 50, \"107\": 2, \"86\": 2}, \"113\": {\"113\": 186, \"39\": 2}, \"35\": {\"62\": 2, \"35\": 34}, \"103\": {\"103\": 48}, \"52\": {\"52\": 48, \"121\": 2, \"59\": 2}, \"32\": {\"32\": 90, \"114\": 2}, \"34\": {\"34\": 80, \"90\": 4}, \"13\": {\"13\": 40, \"8\": 2, \"54\": 2, \"109\": 2}, \"48\": {\"48\": 50}, \"42\": {\"42\": 68, \"21\": 2, \"108\": 2}, \"54\": {\"54\": 52, \"12\": 2}, \"9\": {\"9\": 88}, \"23\": {\"23\": 106, \"27\": 2, \"103\": 2, \"108\": 2, \"88\": 2, \"97\": 2, \"12\": 2}, \"119\": {\"119\": 54}, \"86\": {\"86\": 86}, \"2\": {\"2\": 78, \"15\": 2}, \"6\": {\"6\": 84}, \"99\": {\"99\": 82}, \"63\": {\"63\": 48, \"89\": 2, \"114\": 2}, \"37\": {\"37\": 48}, \"94\": {\"94\": 148, \"106\": 2, \"0\": 2, \"78\": 2, \"69\": 2, \"108\": 4, \"114\": 2}, \"89\": {\"89\": 94, \"108\": 2, \"58\": 2}, \"41\": {\"41\": 48, \"24\": 2}, \"80\": {\"80\": 40}, \"73\": {\"73\": 68, \"69\": 2, \"23\": 2, \"95\": 2}, \"61\": {\"61\": 44, \"69\": 4, \"38\": 2}, \"67\": {\"67\": 42, \"21\": 2, \"84\": 2, \"57\": 2}, \"110\": {\"110\": 102, \"2\": 2, \"54\": 2, \"1\": 2}, \"79\": {\"79\": 36, \"86\": 2, \"112\": 2}, \"123\": {\"123\": 46}, \"53\": {\"53\": 48}, \"120\": {\"120\": 48, \"121\": 2}, \"115\": {\"115\": 38}, \"19\": {\"19\": 78}, \"112\": {\"112\": 48}, \"49\": {\"108\": 2, \"49\": 56, \"113\": 2, \"22\": 2}, \"72\": {\"72\": 74, \"108\": 2, \"71\": 2}, \"64\": {\"64\": 44, \"70\": 2, \"90\": 2}, \"58\": {\"58\": 50, \"49\": 2, \"70\": 2}, \"59\": {\"59\": 36, \"88\": 2, \"21\": 2}, \"65\": {\"65\": 50, \"90\": 2, \"2\": 2}, \"75\": {\"75\": 44, \"0\": 2, \"46\": 2}, \"68\": {\"68\": 42, \"35\": 2, \"21\": 2}, \"47\": {\"47\": 34, \"94\": 2, \"62\": 2}, \"46\": {\"46\": 48}, \"17\": {\"17\": 48}, \"31\": {\"31\": 52}, \"57\": {\"57\": 50}, \"45\": {\"45\": 46, \"71\": 2}}, \"3\": {\"20\": {\"20\": 44, \"100\": 2}, \"1\": {\"1\": 274, \"62\": 2}, \"110\": {\"110\": 232, \"107\": 2, \"61\": 2}, \"114\": {\"114\": 320, \"33\": 2, \"109\": 2, \"3\": 2, \"46\": 2}, \"19\": {\"19\": 78, \"90\": 2}, \"102\": {\"102\": 316, \"125\": 2}, \"90\": {\"90\": 462, \"111\": 2, \"62\": 2, \"114\": 2}, \"34\": {\"34\": 80}, \"68\": {\"68\": 36, \"113\": 2, \"42\": 2}, \"93\": {\"93\": 410, \"102\": 2, \"96\": 2}, \"14\": {\"14\": 204, \"21\": 2}, \"36\": {\"36\": 306, \"27\": 18, \"24\": 2, \"70\": 2}, \"2\": {\"2\": 74}, \"18\": {\"18\": 328, \"53\": 2}, \"24\": {\"24\": 106, \"73\": 2, \"27\": 10, \"88\": 2, \"126\": 2, \"36\": 4}, \"125\": {\"125\": 314, \"103\": 2, \"0\": 2, \"60\": 2}, \"74\": {\"74\": 42, \"120\": 2}, \"26\": {\"26\": 332, \"69\": 2}, \"40\": {\"40\": 318, \"39\": 2, \"107\": 2, \"94\": 2}, \"126\": {\"126\": 306, \"21\": 2, \"62\": 2, \"39\": 4, \"27\": 2, \"49\": 2}, \"17\": {\"17\": 36, \"109\": 4, \"87\": 2}, \"89\": {\"89\": 78}, \"7\": {\"7\": 284, \"121\": 2}, \"84\": {\"84\": 268, \"0\": 2}, \"98\": {\"98\": 322, \"62\": 2, \"69\": 2, \"109\": 2}, \"111\": {\"111\": 330, \"48\": 2, \"108\": 2}, \"33\": {\"33\": 392}, \"73\": {\"73\": 102, \"46\": 2}, \"127\": {\"127\": 318, \"27\": 2, \"1\": 2}, \"8\": {\"8\": 338, \"27\": 2, \"62\": 2, \"78\": 2}, \"11\": {\"11\": 378, \"122\": 2, \"39\": 2}, \"78\": {\"78\": 32, \"84\": 2, \"70\": 6, \"62\": 2, \"126\": 2, \"28\": 2, \"109\": 2}, \"62\": {\"62\": 312, \"46\": 2, \"90\": 2, \"36\": 2}, \"43\": {\"43\": 126, \"21\": 2, \"8\": 4, \"39\": 6, \"27\": 2}, \"101\": {\"101\": 122, \"10\": 2, \"62\": 4, \"70\": 2, \"39\": 2, \"8\": 2, \"71\": 2}, \"106\": {\"106\": 252, \"94\": 2, \"74\": 2, \"11\": 2}, \"109\": {\"109\": 316, \"39\": 2, \"77\": 2, \"122\": 2}, \"51\": {\"51\": 46, \"24\": 2}, \"15\": {\"15\": 260, \"36\": 2}, \"108\": {\"108\": 350, \"62\": 2, \"27\": 2, \"39\": 2, \"88\": 2}, \"27\": {\"27\": 210, \"24\": 12, \"115\": 2, \"36\": 12, \"39\": 2, \"104\": 2, \"94\": 2, \"88\": 2}, \"129\": {\"129\": 82, \"95\": 2}, \"94\": {\"94\": 208, \"39\": 2, \"122\": 2}, \"71\": {\"71\": 164, \"106\": 2, \"126\": 2, \"40\": 2, \"46\": 2}, \"9\": {\"9\": 80}, \"6\": {\"6\": 86}, \"112\": {\"112\": 42, \"46\": 2, \"3\": 2, \"21\": 2}, \"88\": {\"88\": 274, \"108\": 4, \"39\": 2, \"24\": 2}, \"10\": {\"10\": 322, \"21\": 2}, \"16\": {\"16\": 288, \"70\": 2, \"24\": 2, \"5\": 2, \"18\": 2, \"78\": 2}, \"65\": {\"65\": 32, \"90\": 2, \"22\": 2}, \"105\": {\"105\": 310, \"69\": 2, \"73\": 2}, \"13\": {\"13\": 34, \"39\": 2, \"70\": 4}, \"12\": {\"12\": 260, \"23\": 2}, \"107\": {\"107\": 366}, \"47\": {\"47\": 32}, \"25\": {\"25\": 42, \"49\": 2}, \"124\": {\"124\": 308, \"107\": 2, \"125\": 2}, \"4\": {\"110\": 2, \"4\": 242, \"61\": 2}, \"104\": {\"104\": 44}, \"44\": {\"44\": 182}, \"113\": {\"113\": 296, \"122\": 2, \"126\": 2}, \"49\": {\"49\": 58, \"97\": 2, \"8\": 2, \"11\": 2}, \"0\": {\"0\": 284, \"122\": 2, \"78\": 2, \"30\": 2}, \"87\": {\"87\": 300, \"21\": 2, \"8\": 2, \"39\": 2}, \"70\": {\"70\": 174, \"114\": 2, \"15\": 2, \"69\": 2, \"108\": 2, \"78\": 2, \"110\": 2, \"88\": 2}, \"116\": {\"116\": 76}, \"29\": {\"29\": 84}, \"3\": {\"3\": 290, \"126\": 2, \"108\": 2, \"21\": 2, \"94\": 2}, \"69\": {\"69\": 204, \"113\": 2, \"80\": 2, \"39\": 2, \"3\": 2, \"29\": 2, \"8\": 4}, \"48\": {\"48\": 44}, \"123\": {\"123\": 42}, \"37\": {\"37\": 46, \"41\": 2}, \"32\": {\"32\": 82}, \"30\": {\"30\": 206, \"10\": 2, \"102\": 2, \"27\": 2, \"118\": 2, \"63\": 2}, \"72\": {\"72\": 74, \"32\": 2}, \"118\": {\"118\": 254}, \"91\": {\"91\": 62, \"60\": 2, \"126\": 2}, \"39\": {\"39\": 264, \"88\": 2, \"10\": 2, \"37\": 2, \"126\": 2}, \"99\": {\"99\": 94, \"21\": 2, \"126\": 2}, \"95\": {\"95\": 80}, \"5\": {\"5\": 280, \"122\": 2, \"113\": 2}, \"67\": {\"67\": 40, \"63\": 2, \"123\": 2}, \"77\": {\"77\": 46, \"1\": 2}, \"42\": {\"42\": 74}, \"92\": {\"92\": 84}, \"63\": {\"63\": 40, \"83\": 2}, \"76\": {\"76\": 42, \"120\": 2}, \"122\": {\"122\": 140, \"78\": 4, \"39\": 4, \"23\": 2, \"124\": 2, \"11\": 2}, \"41\": {\"41\": 44}, \"45\": {\"45\": 42, \"1\": 2}, \"38\": {\"38\": 44}, \"79\": {\"79\": 38}, \"119\": {\"119\": 42, \"113\": 2, \"33\": 2, \"80\": 2}, \"97\": {\"97\": 54, \"15\": 2}, \"60\": {\"60\": 70, \"11\": 2, \"99\": 2}, \"31\": {\"31\": 50}, \"103\": {\"103\": 48}, \"128\": {\"128\": 76, \"102\": 2, \"61\": 2}, \"83\": {\"83\": 66, \"49\": 2}, \"85\": {\"85\": 90, \"124\": 2}, \"50\": {\"50\": 48}, \"55\": {\"55\": 48}, \"59\": {\"59\": 34}, \"66\": {\"66\": 48}, \"121\": {\"121\": 72, \"90\": 2, \"108\": 2, \"21\": 2, \"11\": 2}, \"64\": {\"64\": 48, \"84\": 2}, \"28\": {\"28\": 46, \"91\": 2}, \"86\": {\"86\": 76, \"41\": 2}, \"58\": {\"58\": 44, \"1\": 2}, \"56\": {\"56\": 30, \"84\": 2, \"28\": 2}, \"115\": {\"115\": 42}, \"117\": {\"117\": 286}, \"100\": {\"100\": 48}, \"22\": {\"22\": 46, \"88\": 2}, \"21\": {\"21\": 108, \"126\": 2, \"69\": 2, \"24\": 2, \"39\": 2, \"61\": 2, \"84\": 2, \"114\": 2, \"108\": 2, \"78\": 2, \"70\": 2}, \"61\": {\"61\": 48}, \"52\": {\"52\": 48}, \"53\": {\"53\": 48, \"46\": 2}, \"80\": {\"80\": 40}, \"96\": {\"96\": 54}, \"57\": {\"57\": 50, \"74\": 2}, \"82\": {\"82\": 70, \"73\": 2, \"62\": 2}, \"35\": {\"35\": 34}, \"75\": {\"75\": 44}, \"81\": {\"81\": 86}, \"54\": {\"54\": 44, \"0\": 2, \"90\": 2}, \"120\": {\"120\": 46, \"90\": 2, \"92\": 4}, \"46\": {\"46\": 46}, \"23\": {\"23\": 84, \"97\": 2}}}, \"per_domain_accuracy\": {\"1\": {\"accuracy\": 0.9722249678758526, \"source?\": true}, \"4\": {\"accuracy\": 0.9576115358559953, \"source?\": true}, \"2\": {\"accuracy\": 0.9585226150503654, \"source?\": true}, \"3\": {\"accuracy\": 0.9735173824130879, \"source?\": true}}}, \"history\": {\"epoch_indices\": [1, 2, 3, 4, 5, 6, 7, 8, 9, 10, 11, 12, 13, 14, 15, 16, 17, 18], \"train_label_loss\": [1.3543594120079154, 0.32415776840329896, 0.2220453491750563, 0.1813688679239974, 0.15846142524814308, 0.14151483423758532, 0.13528563805016425, 0.12011144031279992, 0.11307820970786986, 0.10690558211187794, 0.12646798349846408, 0.09475154937178834, 0.09069323646955625, 0.08625087133474003, 0.07902131523109565, 0.07361863938560413, 0.06501958794933395, 0.09674882617536013], \"source_val_label_loss\": [0.6662922609078733, 0.31972669713387764, 0.29787140089688424, 0.34970451767638894, 0.25843969117142734, 0.5663647708259051, 0.23162768875496298, 0.2993833171122684, 0.23262505554535154, 0.514345825190031, 0.3069390870300652, 0.20520912661494192, 0.415371193562316, 0.19786814327905827, 0.2992707738252003, 0.24609509268716637, 0.2848257044141617, 0.29611381684441734], \"target_val_label_loss\": [0.666652298897882, 0.3196972594891168, 0.2971266882046114, 0.35065796457325354, 0.2586592327614751, 0.5658789886326729, 0.23107107028459448, 0.30011964473236774, 0.23218707278182235, 0.5140220274842238, 0.3062063127378874, 0.20414474953475845, 0.4158663773036833, 0.19774979915870708, 0.30016778001585337, 0.24600100618067988, 0.2842975315354953, 0.296025981089171], \"source_val_acc_label\": [0.8369263554366141, 0.9256863911190405, 0.9384725939141639, 0.9212508672811973, 0.9342353057785707, 0.8820497571612648, 0.9485082763405689, 0.9359203092476955, 0.9504162949747249, 0.8842303498860145, 0.9354494994548518, 0.9612449202101299, 0.9281643373971652, 0.9653583110318168, 0.9433293686192883, 0.9556695410843493, 0.9500446030330062, 0.9436267221726633], \"target_val_acc_label\": [0.8369263554366141, 0.9256863911190405, 0.9384725939141639, 0.9212508672811973, 0.9342353057785707, 0.8820497571612648, 0.9485082763405689, 0.9359203092476955, 0.9504162949747249, 0.8842303498860145, 0.9354494994548518, 0.9612449202101299, 0.9281643373971652, 0.9653583110318168, 0.9433293686192883, 0.9556695410843493, 0.9500446030330062, 0.9436267221726633]}, \"dataset_metrics\": {\"source\": {\"train\": {\"n_unique_x\": 189189, \"n_unique_y\": 130, \"n_batch/episode\": 1479}, \"val\": {\"n_unique_x\": 40356, \"n_unique_y\": 130, \"n_batch/episode\": 316}, \"test\": {\"n_unique_x\": 41071, \"n_unique_y\": 130, \"n_batch/episode\": 321}}, \"target\": {\"train\": {\"n_unique_x\": 189189, \"n_unique_y\": 130, \"n_batch/episode\": 1479}, \"val\": {\"n_unique_x\": 40356, \"n_unique_y\": 130, \"n_batch/episode\": 316}, \"test\": {\"n_unique_x\": 41071, \"n_unique_y\": 130, \"n_batch/episode\": 321}}}}'"
      ]
     },
     "execution_count": 20,
     "metadata": {},
     "output_type": "execute_result"
    }
   ],
   "source": [
    "json.dumps(experiment)"
   ]
  }
 ],
 "metadata": {
  "celltoolbar": "Tags",
  "kernelspec": {
   "display_name": "Python 3 (ipykernel)",
   "language": "python",
   "name": "python3"
  },
  "language_info": {
   "codemirror_mode": {
    "name": "ipython",
    "version": 3
   },
   "file_extension": ".py",
   "mimetype": "text/x-python",
   "name": "python",
   "nbconvert_exporter": "python",
   "pygments_lexer": "ipython3",
   "version": "3.8.12"
  },
  "papermill": {
   "default_parameters": {},
   "duration": 363.47456,
   "end_time": "2022-03-26T11:02:41.252818",
   "environment_variables": {},
   "exception": null,
   "input_path": "/root/csc500-main/csc500-notebooks/templates/cnn_template.ipynb",
   "output_path": "trial.ipynb",
   "parameters": {
    "parameters": {
     "BEST_MODEL_PATH": "./best_model.pth",
     "NUM_LOGS_PER_EPOCH": 10,
     "batch_size": 128,
     "criteria_for_best": "target_accuracy",
     "dataset_seed": 154325,
     "device": "cuda",
     "domains_source": [
      1,
      2,
      3,
      4
     ],
     "domains_target": [
      1,
      2,
      3,
      4
     ],
     "experiment_name": "cnn_2:wisig",
     "labels": [
      "1-10",
      "1-12",
      "1-14",
      "1-16",
      "1-18",
      "1-19",
      "1-8",
      "10-11",
      "10-17",
      "10-4",
      "10-7",
      "11-1",
      "11-10",
      "11-19",
      "11-20",
      "11-4",
      "11-7",
      "12-19",
      "12-20",
      "12-7",
      "13-14",
      "13-18",
      "13-19",
      "13-20",
      "13-3",
      "13-7",
      "14-10",
      "14-11",
      "14-12",
      "14-13",
      "14-14",
      "14-19",
      "14-20",
      "14-7",
      "14-8",
      "14-9",
      "15-1",
      "15-19",
      "15-6",
      "16-1",
      "16-16",
      "16-19",
      "16-20",
      "17-10",
      "17-11",
      "18-1",
      "18-10",
      "18-11",
      "18-12",
      "18-13",
      "18-14",
      "18-15",
      "18-16",
      "18-17",
      "18-19",
      "18-2",
      "18-20",
      "18-4",
      "18-5",
      "18-7",
      "18-8",
      "18-9",
      "19-1",
      "19-10",
      "19-11",
      "19-12",
      "19-13",
      "19-14",
      "19-15",
      "19-19",
      "19-2",
      "19-20",
      "19-3",
      "19-4",
      "19-6",
      "19-7",
      "19-8",
      "19-9",
      "2-1",
      "2-13",
      "2-15",
      "2-3",
      "2-4",
      "2-5",
      "2-6",
      "2-7",
      "2-8",
      "20-1",
      "20-12",
      "20-14",
      "20-15",
      "20-16",
      "20-18",
      "20-19",
      "20-20",
      "20-3",
      "20-4",
      "20-5",
      "20-7",
      "20-8",
      "3-1",
      "3-13",
      "3-18",
      "3-2",
      "3-8",
      "4-1",
      "4-10",
      "4-11",
      "5-1",
      "5-5",
      "6-1",
      "6-15",
      "6-6",
      "7-10",
      "7-11",
      "7-12",
      "7-13",
      "7-14",
      "7-7",
      "7-8",
      "7-9",
      "8-1",
      "8-13",
      "8-14",
      "8-18",
      "8-20",
      "8-3",
      "8-8",
      "9-1",
      "9-7"
     ],
     "lr": 0.0001,
     "n_epoch": 50,
     "normalize_source": false,
     "normalize_target": false,
     "num_examples_per_domain_per_label_source": -1,
     "num_examples_per_domain_per_label_target": -1,
     "patience": 3,
     "pickle_name_source": "wisig.node3-19.stratified_ds.2022A.pkl",
     "pickle_name_target": "wisig.node3-19.stratified_ds.2022A.pkl",
     "seed": 154325,
     "torch_default_dtype": "torch.float32",
     "x_net": [
      {
       "class": "nnReshape",
       "kargs": {
        "shape": [
         -1,
         1,
         2,
         256
        ]
       }
      },
      {
       "class": "Conv2d",
       "kargs": {
        "bias": false,
        "in_channels": 1,
        "kernel_size": [
         1,
         7
        ],
        "out_channels": 256,
        "padding": [
         0,
         3
        ]
       }
      },
      {
       "class": "ReLU",
       "kargs": {
        "inplace": true
       }
      },
      {
       "class": "BatchNorm2d",
       "kargs": {
        "num_features": 256
       }
      },
      {
       "class": "Conv2d",
       "kargs": {
        "bias": true,
        "in_channels": 256,
        "kernel_size": [
         2,
         7
        ],
        "out_channels": 80,
        "padding": [
         0,
         3
        ]
       }
      },
      {
       "class": "ReLU",
       "kargs": {
        "inplace": true
       }
      },
      {
       "class": "BatchNorm2d",
       "kargs": {
        "num_features": 80
       }
      },
      {
       "class": "Flatten",
       "kargs": {}
      },
      {
       "class": "Linear",
       "kargs": {
        "in_features": 20480,
        "out_features": 256
       }
      },
      {
       "class": "ReLU",
       "kargs": {
        "inplace": true
       }
      },
      {
       "class": "BatchNorm1d",
       "kargs": {
        "num_features": 256
       }
      },
      {
       "class": "Linear",
       "kargs": {
        "in_features": 256,
        "out_features": 130
       }
      }
     ]
    }
   },
   "start_time": "2022-03-26T10:56:37.778258",
   "version": "2.3.4"
  }
 },
 "nbformat": 4,
 "nbformat_minor": 5
}