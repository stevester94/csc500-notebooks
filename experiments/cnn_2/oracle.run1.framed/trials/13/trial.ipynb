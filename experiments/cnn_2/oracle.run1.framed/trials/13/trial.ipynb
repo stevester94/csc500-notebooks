{
 "cells": [
  {
   "cell_type": "code",
   "execution_count": 1,
   "id": "2324682e",
   "metadata": {
    "execution": {
     "iopub.execute_input": "2022-03-26T06:17:28.660139Z",
     "iopub.status.busy": "2022-03-26T06:17:28.659265Z",
     "iopub.status.idle": "2022-03-26T06:17:30.018567Z",
     "shell.execute_reply": "2022-03-26T06:17:30.017919Z"
    },
    "papermill": {
     "duration": 1.397426,
     "end_time": "2022-03-26T06:17:30.018728",
     "exception": false,
     "start_time": "2022-03-26T06:17:28.621302",
     "status": "completed"
    },
    "tags": []
   },
   "outputs": [],
   "source": [
    "import os, json, sys, time, random\n",
    "import numpy as np\n",
    "import torch\n",
    "from  easydict import EasyDict\n",
    "from math import floor\n",
    "from easydict import EasyDict\n",
    "\n",
    "from steves_utils.vanilla_train_eval_test_jig import  Vanilla_Train_Eval_Test_Jig\n",
    "\n",
    "from steves_utils.torch_utils import get_dataset_metrics, independent_accuracy_assesment\n",
    "from steves_models.configurable_vanilla import Configurable_Vanilla\n",
    "from steves_utils.torch_sequential_builder import build_sequential\n",
    "from steves_utils.lazy_map import Lazy_Map\n",
    "from steves_utils.sequence_aggregator import Sequence_Aggregator\n",
    "\n",
    "from steves_utils.stratified_dataset.traditional_accessor import Traditional_Accessor_Factory\n",
    "\n",
    "from steves_utils.cnn_do_report import (\n",
    "    get_loss_curve,\n",
    "    get_results_table,\n",
    "    get_parameters_table,\n",
    "    get_domain_accuracies,\n",
    ")\n",
    "\n",
    "from steves_utils.torch_utils import (\n",
    "    confusion_by_domain_over_dataloader,\n",
    "    independent_accuracy_assesment\n",
    ")\n",
    "\n",
    "from steves_utils.utils_v2 import (\n",
    "    per_domain_accuracy_from_confusion,\n",
    "    get_datasets_base_path\n",
    ")\n",
    "\n",
    "# from steves_utils.ptn_do_report import TBD"
   ]
  },
  {
   "cell_type": "code",
   "execution_count": 2,
   "id": "1b29e3fe",
   "metadata": {
    "execution": {
     "iopub.execute_input": "2022-03-26T06:17:30.070134Z",
     "iopub.status.busy": "2022-03-26T06:17:30.069738Z",
     "iopub.status.idle": "2022-03-26T06:17:30.072549Z",
     "shell.execute_reply": "2022-03-26T06:17:30.072219Z"
    },
    "papermill": {
     "duration": 0.032647,
     "end_time": "2022-03-26T06:17:30.072634",
     "exception": false,
     "start_time": "2022-03-26T06:17:30.039987",
     "status": "completed"
    },
    "tags": []
   },
   "outputs": [],
   "source": [
    "required_parameters = {\n",
    "    \"experiment_name\",\n",
    "    \"lr\",\n",
    "    \"device\",\n",
    "    \"dataset_seed\",\n",
    "    \"seed\",\n",
    "    \"labels\",\n",
    "    \"domains_target\",\n",
    "    \"domains_source\",\n",
    "    \"num_examples_per_domain_per_label_source\",\n",
    "    \"num_examples_per_domain_per_label_target\",\n",
    "    \"batch_size\",\n",
    "    \"n_epoch\",\n",
    "    \"patience\",\n",
    "    \"criteria_for_best\",\n",
    "    \"normalize_source\",\n",
    "    \"normalize_target\",\n",
    "    \"x_net\",\n",
    "    \"NUM_LOGS_PER_EPOCH\",\n",
    "    \"BEST_MODEL_PATH\",\n",
    "    \"pickle_name_source\",\n",
    "    \"pickle_name_target\",\n",
    "    \"torch_default_dtype\",\n",
    "}"
   ]
  },
  {
   "cell_type": "code",
   "execution_count": 3,
   "id": "670b5fb8",
   "metadata": {
    "execution": {
     "iopub.execute_input": "2022-03-26T06:17:30.117739Z",
     "iopub.status.busy": "2022-03-26T06:17:30.117031Z",
     "iopub.status.idle": "2022-03-26T06:17:30.124470Z",
     "shell.execute_reply": "2022-03-26T06:17:30.123757Z"
    },
    "papermill": {
     "duration": 0.033323,
     "end_time": "2022-03-26T06:17:30.124635",
     "exception": false,
     "start_time": "2022-03-26T06:17:30.091312",
     "status": "completed"
    },
    "tags": [
     "parameters"
    ]
   },
   "outputs": [],
   "source": [
    "from steves_utils.ORACLE.utils_v2 import (\n",
    "    ALL_SERIAL_NUMBERS,\n",
    "    ALL_DISTANCES_FEET_NARROWED,\n",
    ")\n",
    "\n",
    "standalone_parameters = {}\n",
    "standalone_parameters[\"experiment_name\"] = \"MANUAL CORES CNN\"\n",
    "standalone_parameters[\"lr\"] = 0.0001\n",
    "standalone_parameters[\"device\"] = \"cuda\"\n",
    "\n",
    "standalone_parameters[\"dataset_seed\"] = 1337\n",
    "standalone_parameters[\"seed\"] = 1337\n",
    "standalone_parameters[\"labels\"] = ALL_SERIAL_NUMBERS\n",
    "\n",
    "standalone_parameters[\"domains_source\"] = [8,32,50]\n",
    "standalone_parameters[\"domains_target\"] = [14,20,26,38,44,]\n",
    "\n",
    "standalone_parameters[\"num_examples_per_domain_per_label_source\"]=-1\n",
    "standalone_parameters[\"num_examples_per_domain_per_label_target\"]=-1\n",
    "\n",
    "standalone_parameters[\"pickle_name_source\"] = \"oracle.Run1_framed_2000Examples_stratified_ds.2022A.pkl\"\n",
    "standalone_parameters[\"pickle_name_target\"] = \"oracle.Run2_framed_2000Examples_stratified_ds.2022A.pkl\"\n",
    "\n",
    "standalone_parameters[\"torch_default_dtype\"] = \"torch.float32\" \n",
    "\n",
    "standalone_parameters[\"batch_size\"]=128\n",
    "\n",
    "standalone_parameters[\"n_epoch\"] = 3\n",
    "\n",
    "standalone_parameters[\"patience\"] = 10\n",
    "\n",
    "standalone_parameters[\"criteria_for_best\"] = \"target_accuracy\"\n",
    "standalone_parameters[\"normalize_source\"] = False\n",
    "standalone_parameters[\"normalize_target\"] = False\n",
    "\n",
    "standalone_parameters[\"x_net\"] =     [\n",
    "    {\"class\": \"nnReshape\", \"kargs\": {\"shape\":[-1, 1, 2, 256]}},\n",
    "    {\"class\": \"Conv2d\", \"kargs\": { \"in_channels\":1, \"out_channels\":256, \"kernel_size\":(1,7), \"bias\":False, \"padding\":(0,3), },},\n",
    "    {\"class\": \"ReLU\", \"kargs\": {\"inplace\": True}},\n",
    "    {\"class\": \"BatchNorm2d\", \"kargs\": {\"num_features\":256}},\n",
    "\n",
    "    {\"class\": \"Conv2d\", \"kargs\": { \"in_channels\":256, \"out_channels\":80, \"kernel_size\":(2,7), \"bias\":True, \"padding\":(0,3), },},\n",
    "    {\"class\": \"ReLU\", \"kargs\": {\"inplace\": True}},\n",
    "    {\"class\": \"BatchNorm2d\", \"kargs\": {\"num_features\":80}},\n",
    "    {\"class\": \"Flatten\", \"kargs\": {}},\n",
    "\n",
    "    {\"class\": \"Linear\", \"kargs\": {\"in_features\": 80*256, \"out_features\": 256}}, # 80 units per IQ pair\n",
    "    {\"class\": \"ReLU\", \"kargs\": {\"inplace\": True}},\n",
    "    {\"class\": \"BatchNorm1d\", \"kargs\": {\"num_features\":256}},\n",
    "\n",
    "    {\"class\": \"Linear\", \"kargs\": {\"in_features\": 256, \"out_features\": len(standalone_parameters[\"labels\"])}},\n",
    "]\n",
    "\n",
    "standalone_parameters[\"NUM_LOGS_PER_EPOCH\"] = 10\n",
    "standalone_parameters[\"BEST_MODEL_PATH\"] = \"./best_model.pth\""
   ]
  },
  {
   "cell_type": "code",
   "execution_count": 4,
   "id": "10c3c62c",
   "metadata": {
    "execution": {
     "iopub.execute_input": "2022-03-26T06:17:30.173422Z",
     "iopub.status.busy": "2022-03-26T06:17:30.172518Z",
     "iopub.status.idle": "2022-03-26T06:17:30.175384Z",
     "shell.execute_reply": "2022-03-26T06:17:30.174675Z"
    },
    "papermill": {
     "duration": 0.02981,
     "end_time": "2022-03-26T06:17:30.175580",
     "exception": false,
     "start_time": "2022-03-26T06:17:30.145770",
     "status": "completed"
    },
    "tags": [
     "injected-parameters"
    ]
   },
   "outputs": [],
   "source": [
    "# Parameters\n",
    "parameters = {\n",
    "    \"experiment_name\": \"cnn_2:oracle.run1.framed\",\n",
    "    \"labels\": [\n",
    "        \"3123D52\",\n",
    "        \"3123D65\",\n",
    "        \"3123D79\",\n",
    "        \"3123D80\",\n",
    "        \"3123D54\",\n",
    "        \"3123D70\",\n",
    "        \"3123D7B\",\n",
    "        \"3123D89\",\n",
    "        \"3123D58\",\n",
    "        \"3123D76\",\n",
    "        \"3123D7D\",\n",
    "        \"3123EFE\",\n",
    "        \"3123D64\",\n",
    "        \"3123D78\",\n",
    "        \"3123D7E\",\n",
    "        \"3124E4A\",\n",
    "    ],\n",
    "    \"domains_source\": [8, 32, 50, 14, 20, 26, 38, 44],\n",
    "    \"domains_target\": [8, 32, 50, 14, 20, 26, 38, 44],\n",
    "    \"pickle_name_source\": \"oracle.Run1_framed_2000Examples_stratified_ds.2022A.pkl\",\n",
    "    \"pickle_name_target\": \"oracle.Run1_framed_2000Examples_stratified_ds.2022A.pkl\",\n",
    "    \"device\": \"cuda\",\n",
    "    \"lr\": 0.0001,\n",
    "    \"batch_size\": 128,\n",
    "    \"normalize_source\": False,\n",
    "    \"normalize_target\": False,\n",
    "    \"num_examples_per_domain_per_label_source\": -1,\n",
    "    \"num_examples_per_domain_per_label_target\": -1,\n",
    "    \"torch_default_dtype\": \"torch.float32\",\n",
    "    \"n_epoch\": 50,\n",
    "    \"patience\": 3,\n",
    "    \"criteria_for_best\": \"target_accuracy\",\n",
    "    \"x_net\": [\n",
    "        {\"class\": \"nnReshape\", \"kargs\": {\"shape\": [-1, 1, 2, 256]}},\n",
    "        {\n",
    "            \"class\": \"Conv2d\",\n",
    "            \"kargs\": {\n",
    "                \"in_channels\": 1,\n",
    "                \"out_channels\": 256,\n",
    "                \"kernel_size\": [1, 7],\n",
    "                \"bias\": False,\n",
    "                \"padding\": [0, 3],\n",
    "            },\n",
    "        },\n",
    "        {\"class\": \"ReLU\", \"kargs\": {\"inplace\": True}},\n",
    "        {\"class\": \"BatchNorm2d\", \"kargs\": {\"num_features\": 256}},\n",
    "        {\n",
    "            \"class\": \"Conv2d\",\n",
    "            \"kargs\": {\n",
    "                \"in_channels\": 256,\n",
    "                \"out_channels\": 80,\n",
    "                \"kernel_size\": [2, 7],\n",
    "                \"bias\": True,\n",
    "                \"padding\": [0, 3],\n",
    "            },\n",
    "        },\n",
    "        {\"class\": \"ReLU\", \"kargs\": {\"inplace\": True}},\n",
    "        {\"class\": \"BatchNorm2d\", \"kargs\": {\"num_features\": 80}},\n",
    "        {\"class\": \"Flatten\", \"kargs\": {}},\n",
    "        {\"class\": \"Linear\", \"kargs\": {\"in_features\": 20480, \"out_features\": 256}},\n",
    "        {\"class\": \"ReLU\", \"kargs\": {\"inplace\": True}},\n",
    "        {\"class\": \"BatchNorm1d\", \"kargs\": {\"num_features\": 256}},\n",
    "        {\"class\": \"Linear\", \"kargs\": {\"in_features\": 256, \"out_features\": 16}},\n",
    "    ],\n",
    "    \"NUM_LOGS_PER_EPOCH\": 10,\n",
    "    \"BEST_MODEL_PATH\": \"./best_model.pth\",\n",
    "    \"dataset_seed\": 154325,\n",
    "    \"seed\": 154325,\n",
    "}\n"
   ]
  },
  {
   "cell_type": "code",
   "execution_count": 5,
   "id": "759b56ec",
   "metadata": {
    "execution": {
     "iopub.execute_input": "2022-03-26T06:17:30.213598Z",
     "iopub.status.busy": "2022-03-26T06:17:30.213213Z",
     "iopub.status.idle": "2022-03-26T06:17:30.215061Z",
     "shell.execute_reply": "2022-03-26T06:17:30.214689Z"
    },
    "papermill": {
     "duration": 0.02015,
     "end_time": "2022-03-26T06:17:30.215141",
     "exception": false,
     "start_time": "2022-03-26T06:17:30.194991",
     "status": "completed"
    },
    "tags": []
   },
   "outputs": [],
   "source": [
    "# Set this to True if you want to run this template directly\n",
    "STANDALONE = False\n",
    "if STANDALONE:\n",
    "    print(\"parameters not injected, running with standalone_parameters\")\n",
    "    parameters = standalone_parameters\n",
    "\n",
    "if not 'parameters' in locals() and not 'parameters' in globals():\n",
    "    raise Exception(\"Parameter injection failed\")\n",
    "\n",
    "#Use an easy dict for all the parameters\n",
    "p = EasyDict(parameters)\n",
    "\n",
    "supplied_keys = set(p.keys())\n",
    "\n",
    "if  supplied_keys != required_parameters:\n",
    "    print(\"Parameters are incorrect\")\n",
    "    if len(supplied_keys - required_parameters)>0: print(\"Shouldn't have:\", str(supplied_keys - required_parameters))\n",
    "    if len(required_parameters - supplied_keys)>0: print(\"Need to have:\", str(required_parameters - supplied_keys))\n",
    "    raise RuntimeError(\"Parameters are incorrect\")\n",
    "\n"
   ]
  },
  {
   "cell_type": "code",
   "execution_count": 6,
   "id": "d5c66a71",
   "metadata": {
    "execution": {
     "iopub.execute_input": "2022-03-26T06:17:30.252090Z",
     "iopub.status.busy": "2022-03-26T06:17:30.251712Z",
     "iopub.status.idle": "2022-03-26T06:17:30.255588Z",
     "shell.execute_reply": "2022-03-26T06:17:30.255025Z"
    },
    "papermill": {
     "duration": 0.021468,
     "end_time": "2022-03-26T06:17:30.255715",
     "exception": false,
     "start_time": "2022-03-26T06:17:30.234247",
     "status": "completed"
    },
    "tags": []
   },
   "outputs": [],
   "source": [
    "###################################\n",
    "# Set the RNGs and make it all deterministic\n",
    "###################################\n",
    "np.random.seed(p.seed)\n",
    "random.seed(p.seed)\n",
    "torch.manual_seed(p.seed)\n",
    "\n",
    "torch.use_deterministic_algorithms(True) "
   ]
  },
  {
   "cell_type": "code",
   "execution_count": 7,
   "id": "92a65876",
   "metadata": {
    "execution": {
     "iopub.execute_input": "2022-03-26T06:17:30.298088Z",
     "iopub.status.busy": "2022-03-26T06:17:30.297466Z",
     "iopub.status.idle": "2022-03-26T06:17:30.300221Z",
     "shell.execute_reply": "2022-03-26T06:17:30.299593Z"
    },
    "papermill": {
     "duration": 0.021605,
     "end_time": "2022-03-26T06:17:30.300345",
     "exception": false,
     "start_time": "2022-03-26T06:17:30.278740",
     "status": "completed"
    },
    "tags": []
   },
   "outputs": [],
   "source": [
    "torch.set_default_dtype(eval(p.torch_default_dtype))"
   ]
  },
  {
   "cell_type": "code",
   "execution_count": 8,
   "id": "f1a32f01",
   "metadata": {
    "execution": {
     "iopub.execute_input": "2022-03-26T06:17:30.342708Z",
     "iopub.status.busy": "2022-03-26T06:17:30.342077Z",
     "iopub.status.idle": "2022-03-26T06:17:30.380541Z",
     "shell.execute_reply": "2022-03-26T06:17:30.379799Z"
    },
    "papermill": {
     "duration": 0.057756,
     "end_time": "2022-03-26T06:17:30.380714",
     "exception": false,
     "start_time": "2022-03-26T06:17:30.322958",
     "status": "completed"
    },
    "tags": []
   },
   "outputs": [],
   "source": [
    "###################################\n",
    "# Build the network(s)\n",
    "# Note: It's critical to do this AFTER setting the RNG\n",
    "###################################\n",
    "x_net = build_sequential(p.x_net)"
   ]
  },
  {
   "cell_type": "code",
   "execution_count": 9,
   "id": "a276cd83",
   "metadata": {
    "execution": {
     "iopub.execute_input": "2022-03-26T06:17:30.417947Z",
     "iopub.status.busy": "2022-03-26T06:17:30.416265Z",
     "iopub.status.idle": "2022-03-26T06:17:30.420136Z",
     "shell.execute_reply": "2022-03-26T06:17:30.420525Z"
    },
    "papermill": {
     "duration": 0.021261,
     "end_time": "2022-03-26T06:17:30.420676",
     "exception": false,
     "start_time": "2022-03-26T06:17:30.399415",
     "status": "completed"
    },
    "tags": []
   },
   "outputs": [],
   "source": [
    "start_time_secs = time.time()"
   ]
  },
  {
   "cell_type": "code",
   "execution_count": 10,
   "id": "de702e48",
   "metadata": {
    "execution": {
     "iopub.execute_input": "2022-03-26T06:17:30.467163Z",
     "iopub.status.busy": "2022-03-26T06:17:30.466294Z",
     "iopub.status.idle": "2022-03-26T06:17:37.313498Z",
     "shell.execute_reply": "2022-03-26T06:17:37.314170Z"
    },
    "papermill": {
     "duration": 6.87451,
     "end_time": "2022-03-26T06:17:37.314402",
     "exception": false,
     "start_time": "2022-03-26T06:17:30.439892",
     "status": "completed"
    },
    "tags": []
   },
   "outputs": [],
   "source": [
    "def wrap_in_dataloader(p, ds):\n",
    "    return torch.utils.data.DataLoader(\n",
    "        ds,\n",
    "        batch_size=p.batch_size,\n",
    "        shuffle=True,\n",
    "        num_workers=1,\n",
    "        persistent_workers=True,\n",
    "        prefetch_factor=50,\n",
    "        pin_memory=True\n",
    "    )\n",
    "\n",
    "taf_source = Traditional_Accessor_Factory(\n",
    "    labels=p.labels,\n",
    "    domains=p.domains_source,\n",
    "    num_examples_per_domain_per_label=p.num_examples_per_domain_per_label_source,\n",
    "    pickle_path=os.path.join(get_datasets_base_path(), p.pickle_name_source),\n",
    "    seed=p.dataset_seed\n",
    ")\n",
    "train_original_source, val_original_source, test_original_source = \\\n",
    "    taf_source.get_train(), taf_source.get_val(), taf_source.get_test()\n",
    "\n",
    "\n",
    "taf_target = Traditional_Accessor_Factory(\n",
    "    labels=p.labels,\n",
    "    domains=p.domains_target,\n",
    "    num_examples_per_domain_per_label=p.num_examples_per_domain_per_label_source,\n",
    "    pickle_path=os.path.join(get_datasets_base_path(), p.pickle_name_target),\n",
    "    seed=p.dataset_seed\n",
    ")\n",
    "train_original_target, val_original_target, test_original_target = \\\n",
    "    taf_target.get_train(), taf_target.get_val(), taf_target.get_test()\n",
    "\n",
    "\n",
    "# For CNN We only use X and Y. And we only train on the source.\n",
    "# Properly form the data using a transform lambda and Lazy_Map. Finally wrap them in a dataloader\n",
    "\n",
    "transform_lambda = lambda ex: ex[:2] # Strip the tuple to just (x,y)\n",
    "\n",
    "\n",
    "train_processed_source = wrap_in_dataloader(\n",
    "    p,\n",
    "    Lazy_Map(train_original_source, transform_lambda)\n",
    ")\n",
    "val_processed_source = wrap_in_dataloader(\n",
    "    p,\n",
    "    Lazy_Map(val_original_source, transform_lambda)\n",
    ")\n",
    "test_processed_source = wrap_in_dataloader(\n",
    "    p,\n",
    "    Lazy_Map(test_original_source, transform_lambda)\n",
    ")\n",
    "\n",
    "train_processed_target = wrap_in_dataloader(\n",
    "    p,\n",
    "    Lazy_Map(train_original_target, transform_lambda)\n",
    ")\n",
    "val_processed_target = wrap_in_dataloader(\n",
    "    p,\n",
    "    Lazy_Map(val_original_target, transform_lambda)\n",
    ")\n",
    "test_processed_target  = wrap_in_dataloader(\n",
    "    p,\n",
    "    Lazy_Map(test_original_target, transform_lambda)\n",
    ")\n",
    "\n",
    "\n",
    "\n",
    "datasets = EasyDict({\n",
    "    \"source\": {\n",
    "        \"original\": {\"train\":train_original_source, \"val\":val_original_source, \"test\":test_original_source},\n",
    "        \"processed\": {\"train\":train_processed_source, \"val\":val_processed_source, \"test\":test_processed_source}\n",
    "    },\n",
    "    \"target\": {\n",
    "        \"original\": {\"train\":train_original_target, \"val\":val_original_target, \"test\":test_original_target},\n",
    "        \"processed\": {\"train\":train_processed_target, \"val\":val_processed_target, \"test\":test_processed_target}\n",
    "    },\n",
    "})"
   ]
  },
  {
   "cell_type": "code",
   "execution_count": 11,
   "id": "a11b26bd",
   "metadata": {
    "execution": {
     "iopub.execute_input": "2022-03-26T06:17:37.470111Z",
     "iopub.status.busy": "2022-03-26T06:17:37.469262Z",
     "iopub.status.idle": "2022-03-26T06:17:43.052634Z",
     "shell.execute_reply": "2022-03-26T06:17:43.051774Z"
    },
    "papermill": {
     "duration": 5.717984,
     "end_time": "2022-03-26T06:17:43.052807",
     "exception": false,
     "start_time": "2022-03-26T06:17:37.334823",
     "status": "completed"
    },
    "tags": []
   },
   "outputs": [
    {
     "data": {
      "text/plain": [
       "torch.float32"
      ]
     },
     "execution_count": 11,
     "metadata": {},
     "output_type": "execute_result"
    }
   ],
   "source": [
    "ep = next(iter(test_processed_target))\n",
    "ep[0].dtype"
   ]
  },
  {
   "cell_type": "code",
   "execution_count": 12,
   "id": "19425fad",
   "metadata": {
    "execution": {
     "iopub.execute_input": "2022-03-26T06:17:43.094560Z",
     "iopub.status.busy": "2022-03-26T06:17:43.094185Z",
     "iopub.status.idle": "2022-03-26T06:17:43.138202Z",
     "shell.execute_reply": "2022-03-26T06:17:43.137481Z"
    },
    "papermill": {
     "duration": 0.063477,
     "end_time": "2022-03-26T06:17:43.138370",
     "exception": false,
     "start_time": "2022-03-26T06:17:43.074893",
     "status": "completed"
    },
    "tags": []
   },
   "outputs": [],
   "source": [
    "model = Configurable_Vanilla(\n",
    "    x_net=x_net,\n",
    "    label_loss_object=torch.nn.NLLLoss(),\n",
    "    learning_rate=p.lr\n",
    ")"
   ]
  },
  {
   "cell_type": "code",
   "execution_count": 13,
   "id": "7f6d4f2c",
   "metadata": {
    "execution": {
     "iopub.execute_input": "2022-03-26T06:17:43.180889Z",
     "iopub.status.busy": "2022-03-26T06:17:43.180436Z",
     "iopub.status.idle": "2022-03-26T06:31:42.570466Z",
     "shell.execute_reply": "2022-03-26T06:31:42.571131Z"
    },
    "papermill": {
     "duration": 839.412517,
     "end_time": "2022-03-26T06:31:42.571337",
     "exception": false,
     "start_time": "2022-03-26T06:17:43.158820",
     "status": "completed"
    },
    "tags": []
   },
   "outputs": [
    {
     "name": "stdout",
     "output_type": "stream",
     "text": [
      "epoch: 1, [batch: 1 / 1400], examples_per_second: 731.3575, train_label_loss: 2.8174, \n"
     ]
    },
    {
     "name": "stdout",
     "output_type": "stream",
     "text": [
      "epoch: 1, [batch: 140 / 1400], examples_per_second: 10665.5005, train_label_loss: 2.6664, \n"
     ]
    },
    {
     "name": "stdout",
     "output_type": "stream",
     "text": [
      "epoch: 1, [batch: 280 / 1400], examples_per_second: 10687.2310, train_label_loss: 2.6441, \n"
     ]
    },
    {
     "name": "stdout",
     "output_type": "stream",
     "text": [
      "epoch: 1, [batch: 420 / 1400], examples_per_second: 10592.4052, train_label_loss: 2.4772, \n"
     ]
    },
    {
     "name": "stdout",
     "output_type": "stream",
     "text": [
      "epoch: 1, [batch: 560 / 1400], examples_per_second: 10698.8169, train_label_loss: 2.3638, \n"
     ]
    },
    {
     "name": "stdout",
     "output_type": "stream",
     "text": [
      "epoch: 1, [batch: 700 / 1400], examples_per_second: 10601.7791, train_label_loss: 2.2743, \n"
     ]
    },
    {
     "name": "stdout",
     "output_type": "stream",
     "text": [
      "epoch: 1, [batch: 840 / 1400], examples_per_second: 10669.3236, train_label_loss: 2.1296, \n"
     ]
    },
    {
     "name": "stdout",
     "output_type": "stream",
     "text": [
      "epoch: 1, [batch: 980 / 1400], examples_per_second: 10658.9425, train_label_loss: 1.8910, \n"
     ]
    },
    {
     "name": "stdout",
     "output_type": "stream",
     "text": [
      "epoch: 1, [batch: 1120 / 1400], examples_per_second: 10701.6792, train_label_loss: 1.7669, \n"
     ]
    },
    {
     "name": "stdout",
     "output_type": "stream",
     "text": [
      "epoch: 1, [batch: 1260 / 1400], examples_per_second: 10648.3871, train_label_loss: 1.6328, \n"
     ]
    },
    {
     "name": "stdout",
     "output_type": "stream",
     "text": [
      "=============================================================\n",
      "epoch: 1, source_val_acc_label: 0.5788, source_val_label_loss: 1.4578, target_val_acc_label: 0.5788, target_val_label_loss: 1.4578, \n",
      "=============================================================\n"
     ]
    },
    {
     "name": "stdout",
     "output_type": "stream",
     "text": [
      "New best\n",
      "epoch: 2, [batch: 1 / 1400], examples_per_second: 50.6411, train_label_loss: 1.6356, \n"
     ]
    },
    {
     "name": "stdout",
     "output_type": "stream",
     "text": [
      "epoch: 2, [batch: 140 / 1400], examples_per_second: 10621.0664, train_label_loss: 1.2942, \n"
     ]
    },
    {
     "name": "stdout",
     "output_type": "stream",
     "text": [
      "epoch: 2, [batch: 280 / 1400], examples_per_second: 10558.5073, train_label_loss: 1.3902, \n"
     ]
    },
    {
     "name": "stdout",
     "output_type": "stream",
     "text": [
      "epoch: 2, [batch: 420 / 1400], examples_per_second: 10557.7020, train_label_loss: 1.3572, \n"
     ]
    },
    {
     "name": "stdout",
     "output_type": "stream",
     "text": [
      "epoch: 2, [batch: 560 / 1400], examples_per_second: 10604.1109, train_label_loss: 1.1235, \n"
     ]
    },
    {
     "name": "stdout",
     "output_type": "stream",
     "text": [
      "epoch: 2, [batch: 700 / 1400], examples_per_second: 10702.5128, train_label_loss: 0.9907, \n"
     ]
    },
    {
     "name": "stdout",
     "output_type": "stream",
     "text": [
      "epoch: 2, [batch: 840 / 1400], examples_per_second: 10623.1571, train_label_loss: 1.0573, \n"
     ]
    },
    {
     "name": "stdout",
     "output_type": "stream",
     "text": [
      "epoch: 2, [batch: 980 / 1400], examples_per_second: 10673.8069, train_label_loss: 0.8958, \n"
     ]
    },
    {
     "name": "stdout",
     "output_type": "stream",
     "text": [
      "epoch: 2, [batch: 1120 / 1400], examples_per_second: 10710.4035, train_label_loss: 0.8719, \n"
     ]
    },
    {
     "name": "stdout",
     "output_type": "stream",
     "text": [
      "epoch: 2, [batch: 1260 / 1400], examples_per_second: 10692.9006, train_label_loss: 0.7316, \n"
     ]
    },
    {
     "name": "stdout",
     "output_type": "stream",
     "text": [
      "=============================================================\n",
      "epoch: 2, source_val_acc_label: 0.8067, source_val_label_loss: 0.7057, target_val_acc_label: 0.8067, target_val_label_loss: 0.7057, \n",
      "=============================================================\n"
     ]
    },
    {
     "name": "stdout",
     "output_type": "stream",
     "text": [
      "New best\n",
      "epoch: 3, [batch: 1 / 1400], examples_per_second: 56.6908, train_label_loss: 0.5882, \n"
     ]
    },
    {
     "name": "stdout",
     "output_type": "stream",
     "text": [
      "epoch: 3, [batch: 140 / 1400], examples_per_second: 10526.4352, train_label_loss: 0.6370, \n"
     ]
    },
    {
     "name": "stdout",
     "output_type": "stream",
     "text": [
      "epoch: 3, [batch: 280 / 1400], examples_per_second: 10563.0376, train_label_loss: 0.6446, \n"
     ]
    },
    {
     "name": "stdout",
     "output_type": "stream",
     "text": [
      "epoch: 3, [batch: 420 / 1400], examples_per_second: 10634.5216, train_label_loss: 0.5146, \n"
     ]
    },
    {
     "name": "stdout",
     "output_type": "stream",
     "text": [
      "epoch: 3, [batch: 560 / 1400], examples_per_second: 10604.7229, train_label_loss: 0.4999, \n"
     ]
    },
    {
     "name": "stdout",
     "output_type": "stream",
     "text": [
      "epoch: 3, [batch: 700 / 1400], examples_per_second: 10631.5899, train_label_loss: 0.5472, \n"
     ]
    },
    {
     "name": "stdout",
     "output_type": "stream",
     "text": [
      "epoch: 3, [batch: 840 / 1400], examples_per_second: 10665.0604, train_label_loss: 0.4903, \n"
     ]
    },
    {
     "name": "stdout",
     "output_type": "stream",
     "text": [
      "epoch: 3, [batch: 980 / 1400], examples_per_second: 10705.1331, train_label_loss: 0.5118, \n"
     ]
    },
    {
     "name": "stdout",
     "output_type": "stream",
     "text": [
      "epoch: 3, [batch: 1120 / 1400], examples_per_second: 10683.7188, train_label_loss: 0.4893, \n"
     ]
    },
    {
     "name": "stdout",
     "output_type": "stream",
     "text": [
      "epoch: 3, [batch: 1260 / 1400], examples_per_second: 10692.1127, train_label_loss: 0.3724, \n"
     ]
    },
    {
     "name": "stdout",
     "output_type": "stream",
     "text": [
      "=============================================================\n",
      "epoch: 3, source_val_acc_label: 0.9075, source_val_label_loss: 0.3814, target_val_acc_label: 0.9075, target_val_label_loss: 0.3814, \n",
      "=============================================================\n"
     ]
    },
    {
     "name": "stdout",
     "output_type": "stream",
     "text": [
      "New best\n",
      "epoch: 4, [batch: 1 / 1400], examples_per_second: 57.2363, train_label_loss: 0.4178, \n"
     ]
    },
    {
     "name": "stdout",
     "output_type": "stream",
     "text": [
      "epoch: 4, [batch: 140 / 1400], examples_per_second: 10655.1330, train_label_loss: 0.3936, \n"
     ]
    },
    {
     "name": "stdout",
     "output_type": "stream",
     "text": [
      "epoch: 4, [batch: 280 / 1400], examples_per_second: 10620.2586, train_label_loss: 0.3644, \n"
     ]
    },
    {
     "name": "stdout",
     "output_type": "stream",
     "text": [
      "epoch: 4, [batch: 420 / 1400], examples_per_second: 10620.5932, train_label_loss: 0.3963, \n"
     ]
    },
    {
     "name": "stdout",
     "output_type": "stream",
     "text": [
      "epoch: 4, [batch: 560 / 1400], examples_per_second: 10646.2875, train_label_loss: 0.3687, \n"
     ]
    },
    {
     "name": "stdout",
     "output_type": "stream",
     "text": [
      "epoch: 4, [batch: 700 / 1400], examples_per_second: 10685.2057, train_label_loss: 0.3404, \n"
     ]
    },
    {
     "name": "stdout",
     "output_type": "stream",
     "text": [
      "epoch: 4, [batch: 840 / 1400], examples_per_second: 10647.9089, train_label_loss: 0.3432, \n"
     ]
    },
    {
     "name": "stdout",
     "output_type": "stream",
     "text": [
      "epoch: 4, [batch: 980 / 1400], examples_per_second: 10614.8756, train_label_loss: 0.3695, \n"
     ]
    },
    {
     "name": "stdout",
     "output_type": "stream",
     "text": [
      "epoch: 4, [batch: 1120 / 1400], examples_per_second: 10624.2202, train_label_loss: 0.2674, \n"
     ]
    },
    {
     "name": "stdout",
     "output_type": "stream",
     "text": [
      "epoch: 4, [batch: 1260 / 1400], examples_per_second: 10636.5443, train_label_loss: 0.3175, \n"
     ]
    },
    {
     "name": "stdout",
     "output_type": "stream",
     "text": [
      "=============================================================\n",
      "epoch: 4, source_val_acc_label: 0.9019, source_val_label_loss: 0.3411, target_val_acc_label: 0.9019, target_val_label_loss: 0.3411, \n",
      "=============================================================\n"
     ]
    },
    {
     "name": "stdout",
     "output_type": "stream",
     "text": [
      "epoch: 5, [batch: 1 / 1400], examples_per_second: 57.6073, train_label_loss: 0.2437, \n"
     ]
    },
    {
     "name": "stdout",
     "output_type": "stream",
     "text": [
      "epoch: 5, [batch: 140 / 1400], examples_per_second: 10665.0295, train_label_loss: 0.3203, \n"
     ]
    },
    {
     "name": "stdout",
     "output_type": "stream",
     "text": [
      "epoch: 5, [batch: 280 / 1400], examples_per_second: 10688.5015, train_label_loss: 0.2092, \n"
     ]
    },
    {
     "name": "stdout",
     "output_type": "stream",
     "text": [
      "epoch: 5, [batch: 420 / 1400], examples_per_second: 10649.3210, train_label_loss: 0.2653, \n"
     ]
    },
    {
     "name": "stdout",
     "output_type": "stream",
     "text": [
      "epoch: 5, [batch: 560 / 1400], examples_per_second: 10714.7153, train_label_loss: 0.2410, \n"
     ]
    },
    {
     "name": "stdout",
     "output_type": "stream",
     "text": [
      "epoch: 5, [batch: 700 / 1400], examples_per_second: 10701.6366, train_label_loss: 0.3191, \n"
     ]
    },
    {
     "name": "stdout",
     "output_type": "stream",
     "text": [
      "epoch: 5, [batch: 840 / 1400], examples_per_second: 10643.3357, train_label_loss: 0.1791, \n"
     ]
    },
    {
     "name": "stdout",
     "output_type": "stream",
     "text": [
      "epoch: 5, [batch: 980 / 1400], examples_per_second: 10684.3491, train_label_loss: 0.2231, \n"
     ]
    },
    {
     "name": "stdout",
     "output_type": "stream",
     "text": [
      "epoch: 5, [batch: 1120 / 1400], examples_per_second: 10723.5083, train_label_loss: 0.2393, \n"
     ]
    },
    {
     "name": "stdout",
     "output_type": "stream",
     "text": [
      "epoch: 5, [batch: 1260 / 1400], examples_per_second: 10724.1219, train_label_loss: 0.2356, \n"
     ]
    },
    {
     "name": "stdout",
     "output_type": "stream",
     "text": [
      "=============================================================\n",
      "epoch: 5, source_val_acc_label: 0.9267, source_val_label_loss: 0.2644, target_val_acc_label: 0.9267, target_val_label_loss: 0.2644, \n",
      "=============================================================\n"
     ]
    },
    {
     "name": "stdout",
     "output_type": "stream",
     "text": [
      "New best\n",
      "epoch: 6, [batch: 1 / 1400], examples_per_second: 56.9781, train_label_loss: 0.2665, \n"
     ]
    },
    {
     "name": "stdout",
     "output_type": "stream",
     "text": [
      "epoch: 6, [batch: 140 / 1400], examples_per_second: 10593.6690, train_label_loss: 0.2407, \n"
     ]
    },
    {
     "name": "stdout",
     "output_type": "stream",
     "text": [
      "epoch: 6, [batch: 280 / 1400], examples_per_second: 10666.6708, train_label_loss: 0.1934, \n"
     ]
    },
    {
     "name": "stdout",
     "output_type": "stream",
     "text": [
      "epoch: 6, [batch: 420 / 1400], examples_per_second: 10674.0570, train_label_loss: 0.2436, \n"
     ]
    },
    {
     "name": "stdout",
     "output_type": "stream",
     "text": [
      "epoch: 6, [batch: 560 / 1400], examples_per_second: 10689.3361, train_label_loss: 0.2708, \n"
     ]
    },
    {
     "name": "stdout",
     "output_type": "stream",
     "text": [
      "epoch: 6, [batch: 700 / 1400], examples_per_second: 10679.6474, train_label_loss: 0.3063, \n"
     ]
    },
    {
     "name": "stdout",
     "output_type": "stream",
     "text": [
      "epoch: 6, [batch: 840 / 1400], examples_per_second: 10640.8766, train_label_loss: 0.2065, \n"
     ]
    },
    {
     "name": "stdout",
     "output_type": "stream",
     "text": [
      "epoch: 6, [batch: 980 / 1400], examples_per_second: 10696.4402, train_label_loss: 0.4229, \n"
     ]
    },
    {
     "name": "stdout",
     "output_type": "stream",
     "text": [
      "epoch: 6, [batch: 1120 / 1400], examples_per_second: 10640.9610, train_label_loss: 0.1654, \n"
     ]
    },
    {
     "name": "stdout",
     "output_type": "stream",
     "text": [
      "epoch: 6, [batch: 1260 / 1400], examples_per_second: 10663.0027, train_label_loss: 0.2186, \n"
     ]
    },
    {
     "name": "stdout",
     "output_type": "stream",
     "text": [
      "=============================================================\n",
      "epoch: 6, source_val_acc_label: 0.9424, source_val_label_loss: 0.2195, target_val_acc_label: 0.9424, target_val_label_loss: 0.2195, \n",
      "=============================================================\n"
     ]
    },
    {
     "name": "stdout",
     "output_type": "stream",
     "text": [
      "New best\n",
      "epoch: 7, [batch: 1 / 1400], examples_per_second: 55.8077, train_label_loss: 0.2528, \n"
     ]
    },
    {
     "name": "stdout",
     "output_type": "stream",
     "text": [
      "epoch: 7, [batch: 140 / 1400], examples_per_second: 10583.2305, train_label_loss: 0.1647, \n"
     ]
    },
    {
     "name": "stdout",
     "output_type": "stream",
     "text": [
      "epoch: 7, [batch: 280 / 1400], examples_per_second: 10680.9329, train_label_loss: 0.3114, \n"
     ]
    },
    {
     "name": "stdout",
     "output_type": "stream",
     "text": [
      "epoch: 7, [batch: 420 / 1400], examples_per_second: 10707.6464, train_label_loss: 0.1873, \n"
     ]
    },
    {
     "name": "stdout",
     "output_type": "stream",
     "text": [
      "epoch: 7, [batch: 560 / 1400], examples_per_second: 10746.6711, train_label_loss: 0.1591, \n"
     ]
    },
    {
     "name": "stdout",
     "output_type": "stream",
     "text": [
      "epoch: 7, [batch: 700 / 1400], examples_per_second: 10683.3437, train_label_loss: 0.2103, \n"
     ]
    },
    {
     "name": "stdout",
     "output_type": "stream",
     "text": [
      "epoch: 7, [batch: 840 / 1400], examples_per_second: 10684.9581, train_label_loss: 0.1475, \n"
     ]
    },
    {
     "name": "stdout",
     "output_type": "stream",
     "text": [
      "epoch: 7, [batch: 980 / 1400], examples_per_second: 10591.3201, train_label_loss: 0.2650, \n"
     ]
    },
    {
     "name": "stdout",
     "output_type": "stream",
     "text": [
      "epoch: 7, [batch: 1120 / 1400], examples_per_second: 11302.0951, train_label_loss: 0.1907, \n"
     ]
    },
    {
     "name": "stdout",
     "output_type": "stream",
     "text": [
      "epoch: 7, [batch: 1260 / 1400], examples_per_second: 11797.0013, train_label_loss: 0.1953, \n"
     ]
    },
    {
     "name": "stdout",
     "output_type": "stream",
     "text": [
      "=============================================================\n",
      "epoch: 7, source_val_acc_label: 0.9441, source_val_label_loss: 0.1925, target_val_acc_label: 0.9441, target_val_label_loss: 0.1925, \n",
      "=============================================================\n"
     ]
    },
    {
     "name": "stdout",
     "output_type": "stream",
     "text": [
      "New best\n",
      "epoch: 8, [batch: 1 / 1400], examples_per_second: 64.0703, train_label_loss: 0.1634, \n"
     ]
    },
    {
     "name": "stdout",
     "output_type": "stream",
     "text": [
      "epoch: 8, [batch: 140 / 1400], examples_per_second: 11610.7089, train_label_loss: 0.2016, \n"
     ]
    },
    {
     "name": "stdout",
     "output_type": "stream",
     "text": [
      "epoch: 8, [batch: 280 / 1400], examples_per_second: 11619.5891, train_label_loss: 0.2847, \n"
     ]
    },
    {
     "name": "stdout",
     "output_type": "stream",
     "text": [
      "epoch: 8, [batch: 420 / 1400], examples_per_second: 11651.8216, train_label_loss: 0.1625, \n"
     ]
    },
    {
     "name": "stdout",
     "output_type": "stream",
     "text": [
      "epoch: 8, [batch: 560 / 1400], examples_per_second: 11691.4725, train_label_loss: 0.1385, \n"
     ]
    },
    {
     "name": "stdout",
     "output_type": "stream",
     "text": [
      "epoch: 8, [batch: 700 / 1400], examples_per_second: 11696.8671, train_label_loss: 0.1663, \n"
     ]
    },
    {
     "name": "stdout",
     "output_type": "stream",
     "text": [
      "epoch: 8, [batch: 840 / 1400], examples_per_second: 11735.0134, train_label_loss: 0.1364, \n"
     ]
    },
    {
     "name": "stdout",
     "output_type": "stream",
     "text": [
      "epoch: 8, [batch: 980 / 1400], examples_per_second: 11698.1142, train_label_loss: 0.1952, \n"
     ]
    },
    {
     "name": "stdout",
     "output_type": "stream",
     "text": [
      "epoch: 8, [batch: 1120 / 1400], examples_per_second: 11695.8424, train_label_loss: 0.1700, \n"
     ]
    },
    {
     "name": "stdout",
     "output_type": "stream",
     "text": [
      "epoch: 8, [batch: 1260 / 1400], examples_per_second: 11708.7128, train_label_loss: 0.1699, \n"
     ]
    },
    {
     "name": "stdout",
     "output_type": "stream",
     "text": [
      "=============================================================\n",
      "epoch: 8, source_val_acc_label: 0.9382, source_val_label_loss: 0.5102, target_val_acc_label: 0.9382, target_val_label_loss: 0.5102, \n",
      "=============================================================\n"
     ]
    },
    {
     "name": "stdout",
     "output_type": "stream",
     "text": [
      "epoch: 9, [batch: 1 / 1400], examples_per_second: 64.6696, train_label_loss: 0.1804, \n"
     ]
    },
    {
     "name": "stdout",
     "output_type": "stream",
     "text": [
      "epoch: 9, [batch: 140 / 1400], examples_per_second: 11636.7135, train_label_loss: 0.2342, \n"
     ]
    },
    {
     "name": "stdout",
     "output_type": "stream",
     "text": [
      "epoch: 9, [batch: 280 / 1400], examples_per_second: 11684.9709, train_label_loss: 0.2204, \n"
     ]
    },
    {
     "name": "stdout",
     "output_type": "stream",
     "text": [
      "epoch: 9, [batch: 420 / 1400], examples_per_second: 11760.9981, train_label_loss: 0.1641, \n"
     ]
    },
    {
     "name": "stdout",
     "output_type": "stream",
     "text": [
      "epoch: 9, [batch: 560 / 1400], examples_per_second: 11708.5852, train_label_loss: 0.1514, \n"
     ]
    },
    {
     "name": "stdout",
     "output_type": "stream",
     "text": [
      "epoch: 9, [batch: 700 / 1400], examples_per_second: 11719.5628, train_label_loss: 0.1928, \n"
     ]
    },
    {
     "name": "stdout",
     "output_type": "stream",
     "text": [
      "epoch: 9, [batch: 840 / 1400], examples_per_second: 11762.7595, train_label_loss: 0.2033, \n"
     ]
    },
    {
     "name": "stdout",
     "output_type": "stream",
     "text": [
      "epoch: 9, [batch: 980 / 1400], examples_per_second: 11726.6682, train_label_loss: 0.3592, \n"
     ]
    },
    {
     "name": "stdout",
     "output_type": "stream",
     "text": [
      "epoch: 9, [batch: 1120 / 1400], examples_per_second: 11703.1851, train_label_loss: 0.1524, \n"
     ]
    },
    {
     "name": "stdout",
     "output_type": "stream",
     "text": [
      "epoch: 9, [batch: 1260 / 1400], examples_per_second: 11725.1883, train_label_loss: 0.1681, \n"
     ]
    },
    {
     "name": "stdout",
     "output_type": "stream",
     "text": [
      "=============================================================\n",
      "epoch: 9, source_val_acc_label: 0.9395, source_val_label_loss: 0.2438, target_val_acc_label: 0.9395, target_val_label_loss: 0.2438, \n",
      "=============================================================\n"
     ]
    },
    {
     "name": "stdout",
     "output_type": "stream",
     "text": [
      "epoch: 10, [batch: 1 / 1400], examples_per_second: 63.6125, train_label_loss: 0.2121, \n"
     ]
    },
    {
     "name": "stdout",
     "output_type": "stream",
     "text": [
      "epoch: 10, [batch: 140 / 1400], examples_per_second: 11744.8824, train_label_loss: 0.1396, \n"
     ]
    },
    {
     "name": "stdout",
     "output_type": "stream",
     "text": [
      "epoch: 10, [batch: 280 / 1400], examples_per_second: 11703.6845, train_label_loss: 0.1848, \n"
     ]
    },
    {
     "name": "stdout",
     "output_type": "stream",
     "text": [
      "epoch: 10, [batch: 420 / 1400], examples_per_second: 11695.3911, train_label_loss: 0.1354, \n"
     ]
    },
    {
     "name": "stdout",
     "output_type": "stream",
     "text": [
      "epoch: 10, [batch: 560 / 1400], examples_per_second: 11693.9863, train_label_loss: 0.1264, \n"
     ]
    },
    {
     "name": "stdout",
     "output_type": "stream",
     "text": [
      "epoch: 10, [batch: 700 / 1400], examples_per_second: 11682.9839, train_label_loss: 0.1497, \n"
     ]
    },
    {
     "name": "stdout",
     "output_type": "stream",
     "text": [
      "epoch: 10, [batch: 840 / 1400], examples_per_second: 11694.9689, train_label_loss: 0.0700, \n"
     ]
    },
    {
     "name": "stdout",
     "output_type": "stream",
     "text": [
      "epoch: 10, [batch: 980 / 1400], examples_per_second: 11660.8908, train_label_loss: 0.1530, \n"
     ]
    },
    {
     "name": "stdout",
     "output_type": "stream",
     "text": [
      "epoch: 10, [batch: 1120 / 1400], examples_per_second: 11669.2459, train_label_loss: 0.2516, \n"
     ]
    },
    {
     "name": "stdout",
     "output_type": "stream",
     "text": [
      "epoch: 10, [batch: 1260 / 1400], examples_per_second: 11748.8884, train_label_loss: 0.1709, \n"
     ]
    },
    {
     "name": "stdout",
     "output_type": "stream",
     "text": [
      "=============================================================\n",
      "epoch: 10, source_val_acc_label: 0.9524, source_val_label_loss: 0.1516, target_val_acc_label: 0.9524, target_val_label_loss: 0.1516, \n",
      "=============================================================\n"
     ]
    },
    {
     "name": "stdout",
     "output_type": "stream",
     "text": [
      "New best\n",
      "epoch: 11, [batch: 1 / 1400], examples_per_second: 62.9433, train_label_loss: 0.1249, \n"
     ]
    },
    {
     "name": "stdout",
     "output_type": "stream",
     "text": [
      "epoch: 11, [batch: 140 / 1400], examples_per_second: 11686.3663, train_label_loss: 0.1314, \n"
     ]
    },
    {
     "name": "stdout",
     "output_type": "stream",
     "text": [
      "epoch: 11, [batch: 280 / 1400], examples_per_second: 11710.6229, train_label_loss: 0.1332, \n"
     ]
    },
    {
     "name": "stdout",
     "output_type": "stream",
     "text": [
      "epoch: 11, [batch: 420 / 1400], examples_per_second: 11656.2306, train_label_loss: 0.2633, \n"
     ]
    },
    {
     "name": "stdout",
     "output_type": "stream",
     "text": [
      "epoch: 11, [batch: 560 / 1400], examples_per_second: 11784.4350, train_label_loss: 0.1609, \n"
     ]
    },
    {
     "name": "stdout",
     "output_type": "stream",
     "text": [
      "epoch: 11, [batch: 700 / 1400], examples_per_second: 11716.2069, train_label_loss: 0.1495, \n"
     ]
    },
    {
     "name": "stdout",
     "output_type": "stream",
     "text": [
      "epoch: 11, [batch: 840 / 1400], examples_per_second: 11746.8686, train_label_loss: 0.1378, \n"
     ]
    },
    {
     "name": "stdout",
     "output_type": "stream",
     "text": [
      "epoch: 11, [batch: 980 / 1400], examples_per_second: 12289.3810, train_label_loss: 0.1026, \n"
     ]
    },
    {
     "name": "stdout",
     "output_type": "stream",
     "text": [
      "epoch: 11, [batch: 1120 / 1400], examples_per_second: 12859.0845, train_label_loss: 0.1650, \n"
     ]
    },
    {
     "name": "stdout",
     "output_type": "stream",
     "text": [
      "epoch: 11, [batch: 1260 / 1400], examples_per_second: 13039.6980, train_label_loss: 0.0946, \n"
     ]
    },
    {
     "name": "stdout",
     "output_type": "stream",
     "text": [
      "=============================================================\n",
      "epoch: 11, source_val_acc_label: 0.9570, source_val_label_loss: 0.3312, target_val_acc_label: 0.9570, target_val_label_loss: 0.3312, \n",
      "=============================================================\n"
     ]
    },
    {
     "name": "stdout",
     "output_type": "stream",
     "text": [
      "New best\n",
      "epoch: 12, [batch: 1 / 1400], examples_per_second: 72.0231, train_label_loss: 0.1032, \n"
     ]
    },
    {
     "name": "stdout",
     "output_type": "stream",
     "text": [
      "epoch: 12, [batch: 140 / 1400], examples_per_second: 13027.8013, train_label_loss: 0.2257, \n"
     ]
    },
    {
     "name": "stdout",
     "output_type": "stream",
     "text": [
      "epoch: 12, [batch: 280 / 1400], examples_per_second: 12977.4145, train_label_loss: 0.1735, \n"
     ]
    },
    {
     "name": "stdout",
     "output_type": "stream",
     "text": [
      "epoch: 12, [batch: 420 / 1400], examples_per_second: 12975.6379, train_label_loss: 0.1793, \n"
     ]
    },
    {
     "name": "stdout",
     "output_type": "stream",
     "text": [
      "epoch: 12, [batch: 560 / 1400], examples_per_second: 12940.6665, train_label_loss: 0.1954, \n"
     ]
    },
    {
     "name": "stdout",
     "output_type": "stream",
     "text": [
      "epoch: 12, [batch: 700 / 1400], examples_per_second: 12940.2744, train_label_loss: 0.1412, \n"
     ]
    },
    {
     "name": "stdout",
     "output_type": "stream",
     "text": [
      "epoch: 12, [batch: 840 / 1400], examples_per_second: 12931.0866, train_label_loss: 0.1045, \n"
     ]
    },
    {
     "name": "stdout",
     "output_type": "stream",
     "text": [
      "epoch: 12, [batch: 980 / 1400], examples_per_second: 12828.8311, train_label_loss: 0.1065, \n"
     ]
    },
    {
     "name": "stdout",
     "output_type": "stream",
     "text": [
      "epoch: 12, [batch: 1120 / 1400], examples_per_second: 12954.8611, train_label_loss: 0.1031, \n"
     ]
    },
    {
     "name": "stdout",
     "output_type": "stream",
     "text": [
      "epoch: 12, [batch: 1260 / 1400], examples_per_second: 12876.4991, train_label_loss: 0.0640, \n"
     ]
    },
    {
     "name": "stdout",
     "output_type": "stream",
     "text": [
      "=============================================================\n",
      "epoch: 12, source_val_acc_label: 0.9484, source_val_label_loss: 0.2119, target_val_acc_label: 0.9484, target_val_label_loss: 0.2119, \n",
      "=============================================================\n"
     ]
    },
    {
     "name": "stdout",
     "output_type": "stream",
     "text": [
      "epoch: 13, [batch: 1 / 1400], examples_per_second: 72.9496, train_label_loss: 0.1342, \n"
     ]
    },
    {
     "name": "stdout",
     "output_type": "stream",
     "text": [
      "epoch: 13, [batch: 140 / 1400], examples_per_second: 12876.0861, train_label_loss: 0.0743, \n"
     ]
    },
    {
     "name": "stdout",
     "output_type": "stream",
     "text": [
      "epoch: 13, [batch: 280 / 1400], examples_per_second: 13021.4673, train_label_loss: 0.1232, \n"
     ]
    },
    {
     "name": "stdout",
     "output_type": "stream",
     "text": [
      "epoch: 13, [batch: 420 / 1400], examples_per_second: 13048.7645, train_label_loss: 0.1410, \n"
     ]
    },
    {
     "name": "stdout",
     "output_type": "stream",
     "text": [
      "epoch: 13, [batch: 560 / 1400], examples_per_second: 13059.4772, train_label_loss: 0.1195, \n"
     ]
    },
    {
     "name": "stdout",
     "output_type": "stream",
     "text": [
      "epoch: 13, [batch: 700 / 1400], examples_per_second: 13013.4412, train_label_loss: 0.0675, \n"
     ]
    },
    {
     "name": "stdout",
     "output_type": "stream",
     "text": [
      "epoch: 13, [batch: 840 / 1400], examples_per_second: 13063.1837, train_label_loss: 0.1483, \n"
     ]
    },
    {
     "name": "stdout",
     "output_type": "stream",
     "text": [
      "epoch: 13, [batch: 980 / 1400], examples_per_second: 13051.4178, train_label_loss: 0.1031, \n"
     ]
    },
    {
     "name": "stdout",
     "output_type": "stream",
     "text": [
      "epoch: 13, [batch: 1120 / 1400], examples_per_second: 12787.7667, train_label_loss: 0.0938, \n"
     ]
    },
    {
     "name": "stdout",
     "output_type": "stream",
     "text": [
      "epoch: 13, [batch: 1260 / 1400], examples_per_second: 13027.6898, train_label_loss: 0.2134, \n"
     ]
    },
    {
     "name": "stdout",
     "output_type": "stream",
     "text": [
      "=============================================================\n",
      "epoch: 13, source_val_acc_label: 0.9483, source_val_label_loss: 0.2563, target_val_acc_label: 0.9483, target_val_label_loss: 0.2563, \n",
      "=============================================================\n"
     ]
    },
    {
     "name": "stdout",
     "output_type": "stream",
     "text": [
      "epoch: 14, [batch: 1 / 1400], examples_per_second: 72.8355, train_label_loss: 0.1528, \n"
     ]
    },
    {
     "name": "stdout",
     "output_type": "stream",
     "text": [
      "epoch: 14, [batch: 140 / 1400], examples_per_second: 12941.7525, train_label_loss: 0.0896, \n"
     ]
    },
    {
     "name": "stdout",
     "output_type": "stream",
     "text": [
      "epoch: 14, [batch: 280 / 1400], examples_per_second: 13049.8044, train_label_loss: 0.0908, \n"
     ]
    },
    {
     "name": "stdout",
     "output_type": "stream",
     "text": [
      "epoch: 14, [batch: 420 / 1400], examples_per_second: 12974.7218, train_label_loss: 0.0844, \n"
     ]
    },
    {
     "name": "stdout",
     "output_type": "stream",
     "text": [
      "epoch: 14, [batch: 560 / 1400], examples_per_second: 12947.4098, train_label_loss: 0.1057, \n"
     ]
    },
    {
     "name": "stdout",
     "output_type": "stream",
     "text": [
      "epoch: 14, [batch: 700 / 1400], examples_per_second: 12975.5326, train_label_loss: 0.0752, \n"
     ]
    },
    {
     "name": "stdout",
     "output_type": "stream",
     "text": [
      "epoch: 14, [batch: 840 / 1400], examples_per_second: 12982.5343, train_label_loss: 0.0695, \n"
     ]
    },
    {
     "name": "stdout",
     "output_type": "stream",
     "text": [
      "epoch: 14, [batch: 980 / 1400], examples_per_second: 12953.7135, train_label_loss: 0.1263, \n"
     ]
    },
    {
     "name": "stdout",
     "output_type": "stream",
     "text": [
      "epoch: 14, [batch: 1120 / 1400], examples_per_second: 12946.9882, train_label_loss: 0.1345, \n"
     ]
    },
    {
     "name": "stdout",
     "output_type": "stream",
     "text": [
      "epoch: 14, [batch: 1260 / 1400], examples_per_second: 13005.1595, train_label_loss: 0.1204, \n"
     ]
    },
    {
     "name": "stdout",
     "output_type": "stream",
     "text": [
      "=============================================================\n",
      "epoch: 14, source_val_acc_label: 0.9581, source_val_label_loss: 0.1766, target_val_acc_label: 0.9581, target_val_label_loss: 0.1766, \n",
      "=============================================================\n"
     ]
    },
    {
     "name": "stdout",
     "output_type": "stream",
     "text": [
      "New best\n",
      "epoch: 15, [batch: 1 / 1400], examples_per_second: 72.9919, train_label_loss: 0.1865, \n"
     ]
    },
    {
     "name": "stdout",
     "output_type": "stream",
     "text": [
      "epoch: 15, [batch: 140 / 1400], examples_per_second: 12975.2424, train_label_loss: 0.0787, \n"
     ]
    },
    {
     "name": "stdout",
     "output_type": "stream",
     "text": [
      "epoch: 15, [batch: 280 / 1400], examples_per_second: 13072.0443, train_label_loss: 0.0969, \n"
     ]
    },
    {
     "name": "stdout",
     "output_type": "stream",
     "text": [
      "epoch: 15, [batch: 420 / 1400], examples_per_second: 13022.4510, train_label_loss: 0.0505, \n"
     ]
    },
    {
     "name": "stdout",
     "output_type": "stream",
     "text": [
      "epoch: 15, [batch: 560 / 1400], examples_per_second: 12934.2353, train_label_loss: 0.1129, \n"
     ]
    },
    {
     "name": "stdout",
     "output_type": "stream",
     "text": [
      "epoch: 15, [batch: 700 / 1400], examples_per_second: 13014.1690, train_label_loss: 0.0881, \n"
     ]
    },
    {
     "name": "stdout",
     "output_type": "stream",
     "text": [
      "epoch: 15, [batch: 840 / 1400], examples_per_second: 12811.6915, train_label_loss: 0.0554, \n"
     ]
    },
    {
     "name": "stdout",
     "output_type": "stream",
     "text": [
      "epoch: 15, [batch: 980 / 1400], examples_per_second: 13253.4469, train_label_loss: 0.1034, \n"
     ]
    },
    {
     "name": "stdout",
     "output_type": "stream",
     "text": [
      "epoch: 15, [batch: 1120 / 1400], examples_per_second: 14133.0089, train_label_loss: 0.0851, \n"
     ]
    },
    {
     "name": "stdout",
     "output_type": "stream",
     "text": [
      "epoch: 15, [batch: 1260 / 1400], examples_per_second: 12998.1155, train_label_loss: 0.0715, \n"
     ]
    },
    {
     "name": "stdout",
     "output_type": "stream",
     "text": [
      "=============================================================\n",
      "epoch: 15, source_val_acc_label: 0.9597, source_val_label_loss: 0.3291, target_val_acc_label: 0.9597, target_val_label_loss: 0.3291, \n",
      "=============================================================\n"
     ]
    },
    {
     "name": "stdout",
     "output_type": "stream",
     "text": [
      "New best\n",
      "epoch: 16, [batch: 1 / 1400], examples_per_second: 70.7586, train_label_loss: 0.0632, \n"
     ]
    },
    {
     "name": "stdout",
     "output_type": "stream",
     "text": [
      "epoch: 16, [batch: 140 / 1400], examples_per_second: 12870.2457, train_label_loss: 0.0669, \n"
     ]
    },
    {
     "name": "stdout",
     "output_type": "stream",
     "text": [
      "epoch: 16, [batch: 280 / 1400], examples_per_second: 12789.2007, train_label_loss: 0.1376, \n"
     ]
    },
    {
     "name": "stdout",
     "output_type": "stream",
     "text": [
      "epoch: 16, [batch: 420 / 1400], examples_per_second: 12789.8013, train_label_loss: 0.1323, \n"
     ]
    },
    {
     "name": "stdout",
     "output_type": "stream",
     "text": [
      "epoch: 16, [batch: 560 / 1400], examples_per_second: 12853.8858, train_label_loss: 0.1781, \n"
     ]
    },
    {
     "name": "stdout",
     "output_type": "stream",
     "text": [
      "epoch: 16, [batch: 700 / 1400], examples_per_second: 12846.2889, train_label_loss: 0.1436, \n"
     ]
    },
    {
     "name": "stdout",
     "output_type": "stream",
     "text": [
      "epoch: 16, [batch: 840 / 1400], examples_per_second: 12849.7347, train_label_loss: 0.0504, \n"
     ]
    },
    {
     "name": "stdout",
     "output_type": "stream",
     "text": [
      "epoch: 16, [batch: 980 / 1400], examples_per_second: 12988.4099, train_label_loss: 0.0492, \n"
     ]
    },
    {
     "name": "stdout",
     "output_type": "stream",
     "text": [
      "epoch: 16, [batch: 1120 / 1400], examples_per_second: 12975.0488, train_label_loss: 0.1376, \n"
     ]
    },
    {
     "name": "stdout",
     "output_type": "stream",
     "text": [
      "epoch: 16, [batch: 1260 / 1400], examples_per_second: 12989.4895, train_label_loss: 0.1387, \n"
     ]
    },
    {
     "name": "stdout",
     "output_type": "stream",
     "text": [
      "=============================================================\n",
      "epoch: 16, source_val_acc_label: 0.9548, source_val_label_loss: 0.2216, target_val_acc_label: 0.9548, target_val_label_loss: 0.2216, \n",
      "=============================================================\n"
     ]
    },
    {
     "name": "stdout",
     "output_type": "stream",
     "text": [
      "epoch: 17, [batch: 1 / 1400], examples_per_second: 71.1976, train_label_loss: 0.1259, \n"
     ]
    },
    {
     "name": "stdout",
     "output_type": "stream",
     "text": [
      "epoch: 17, [batch: 140 / 1400], examples_per_second: 12933.0187, train_label_loss: 0.1332, \n"
     ]
    },
    {
     "name": "stdout",
     "output_type": "stream",
     "text": [
      "epoch: 17, [batch: 280 / 1400], examples_per_second: 12948.7771, train_label_loss: 0.0595, \n"
     ]
    },
    {
     "name": "stdout",
     "output_type": "stream",
     "text": [
      "epoch: 17, [batch: 420 / 1400], examples_per_second: 12995.0165, train_label_loss: 0.1194, \n"
     ]
    },
    {
     "name": "stdout",
     "output_type": "stream",
     "text": [
      "epoch: 17, [batch: 560 / 1400], examples_per_second: 13031.7963, train_label_loss: 0.0610, \n"
     ]
    },
    {
     "name": "stdout",
     "output_type": "stream",
     "text": [
      "epoch: 17, [batch: 700 / 1400], examples_per_second: 12968.2992, train_label_loss: 0.0605, \n"
     ]
    },
    {
     "name": "stdout",
     "output_type": "stream",
     "text": [
      "epoch: 17, [batch: 840 / 1400], examples_per_second: 12930.9775, train_label_loss: 0.0544, \n"
     ]
    },
    {
     "name": "stdout",
     "output_type": "stream",
     "text": [
      "epoch: 17, [batch: 980 / 1400], examples_per_second: 12944.4352, train_label_loss: 0.1494, \n"
     ]
    },
    {
     "name": "stdout",
     "output_type": "stream",
     "text": [
      "epoch: 17, [batch: 1120 / 1400], examples_per_second: 13004.3022, train_label_loss: 0.0859, \n"
     ]
    },
    {
     "name": "stdout",
     "output_type": "stream",
     "text": [
      "epoch: 17, [batch: 1260 / 1400], examples_per_second: 12980.2675, train_label_loss: 0.1474, \n"
     ]
    },
    {
     "name": "stdout",
     "output_type": "stream",
     "text": [
      "=============================================================\n",
      "epoch: 17, source_val_acc_label: 0.9542, source_val_label_loss: 0.1465, target_val_acc_label: 0.9542, target_val_label_loss: 0.1465, \n",
      "=============================================================\n"
     ]
    },
    {
     "name": "stdout",
     "output_type": "stream",
     "text": [
      "epoch: 18, [batch: 1 / 1400], examples_per_second: 71.7697, train_label_loss: 0.0588, \n"
     ]
    },
    {
     "name": "stdout",
     "output_type": "stream",
     "text": [
      "epoch: 18, [batch: 140 / 1400], examples_per_second: 13603.4201, train_label_loss: 0.0537, \n"
     ]
    },
    {
     "name": "stdout",
     "output_type": "stream",
     "text": [
      "epoch: 18, [batch: 280 / 1400], examples_per_second: 13944.8956, train_label_loss: 0.0348, \n"
     ]
    },
    {
     "name": "stdout",
     "output_type": "stream",
     "text": [
      "epoch: 18, [batch: 420 / 1400], examples_per_second: 13944.2954, train_label_loss: 0.1234, \n"
     ]
    },
    {
     "name": "stdout",
     "output_type": "stream",
     "text": [
      "epoch: 18, [batch: 560 / 1400], examples_per_second: 13855.8519, train_label_loss: 0.0716, \n"
     ]
    },
    {
     "name": "stdout",
     "output_type": "stream",
     "text": [
      "epoch: 18, [batch: 700 / 1400], examples_per_second: 13949.0856, train_label_loss: 0.0548, \n"
     ]
    },
    {
     "name": "stdout",
     "output_type": "stream",
     "text": [
      "epoch: 18, [batch: 840 / 1400], examples_per_second: 13935.5905, train_label_loss: 0.0549, \n"
     ]
    },
    {
     "name": "stdout",
     "output_type": "stream",
     "text": [
      "epoch: 18, [batch: 980 / 1400], examples_per_second: 13937.0479, train_label_loss: 0.0578, \n"
     ]
    },
    {
     "name": "stdout",
     "output_type": "stream",
     "text": [
      "epoch: 18, [batch: 1120 / 1400], examples_per_second: 14043.0420, train_label_loss: 0.1404, \n"
     ]
    },
    {
     "name": "stdout",
     "output_type": "stream",
     "text": [
      "epoch: 18, [batch: 1260 / 1400], examples_per_second: 13486.2322, train_label_loss: 0.1108, \n"
     ]
    },
    {
     "name": "stdout",
     "output_type": "stream",
     "text": [
      "=============================================================\n",
      "epoch: 18, source_val_acc_label: 0.9584, source_val_label_loss: 0.2806, target_val_acc_label: 0.9584, target_val_label_loss: 0.2806, \n",
      "=============================================================\n"
     ]
    },
    {
     "name": "stdout",
     "output_type": "stream",
     "text": [
      "epoch: 19, [batch: 1 / 1400], examples_per_second: 65.0104, train_label_loss: 0.0552, \n"
     ]
    },
    {
     "name": "stdout",
     "output_type": "stream",
     "text": [
      "epoch: 19, [batch: 140 / 1400], examples_per_second: 11709.8754, train_label_loss: 0.0584, \n"
     ]
    },
    {
     "name": "stdout",
     "output_type": "stream",
     "text": [
      "epoch: 19, [batch: 280 / 1400], examples_per_second: 11787.0740, train_label_loss: 0.0818, \n"
     ]
    },
    {
     "name": "stdout",
     "output_type": "stream",
     "text": [
      "epoch: 19, [batch: 420 / 1400], examples_per_second: 11792.3316, train_label_loss: 0.0609, \n"
     ]
    },
    {
     "name": "stdout",
     "output_type": "stream",
     "text": [
      "epoch: 19, [batch: 560 / 1400], examples_per_second: 11739.8652, train_label_loss: 0.0777, \n"
     ]
    },
    {
     "name": "stdout",
     "output_type": "stream",
     "text": [
      "epoch: 19, [batch: 700 / 1400], examples_per_second: 11740.4318, train_label_loss: 0.0855, \n"
     ]
    },
    {
     "name": "stdout",
     "output_type": "stream",
     "text": [
      "epoch: 19, [batch: 840 / 1400], examples_per_second: 11710.0481, train_label_loss: 0.0839, \n"
     ]
    },
    {
     "name": "stdout",
     "output_type": "stream",
     "text": [
      "epoch: 19, [batch: 980 / 1400], examples_per_second: 11731.4014, train_label_loss: 0.0908, \n"
     ]
    },
    {
     "name": "stdout",
     "output_type": "stream",
     "text": [
      "epoch: 19, [batch: 1120 / 1400], examples_per_second: 11696.6778, train_label_loss: 0.1158, \n"
     ]
    },
    {
     "name": "stdout",
     "output_type": "stream",
     "text": [
      "epoch: 19, [batch: 1260 / 1400], examples_per_second: 11670.6175, train_label_loss: 0.0656, \n"
     ]
    },
    {
     "name": "stdout",
     "output_type": "stream",
     "text": [
      "=============================================================\n",
      "epoch: 19, source_val_acc_label: 0.9616, source_val_label_loss: 0.1556, target_val_acc_label: 0.9616, target_val_label_loss: 0.1556, \n",
      "=============================================================\n"
     ]
    },
    {
     "name": "stdout",
     "output_type": "stream",
     "text": [
      "New best\n",
      "epoch: 20, [batch: 1 / 1400], examples_per_second: 64.7818, train_label_loss: 0.1687, \n"
     ]
    },
    {
     "name": "stdout",
     "output_type": "stream",
     "text": [
      "epoch: 20, [batch: 140 / 1400], examples_per_second: 11742.3432, train_label_loss: 0.0751, \n"
     ]
    },
    {
     "name": "stdout",
     "output_type": "stream",
     "text": [
      "epoch: 20, [batch: 280 / 1400], examples_per_second: 11729.4645, train_label_loss: 0.0662, \n"
     ]
    },
    {
     "name": "stdout",
     "output_type": "stream",
     "text": [
      "epoch: 20, [batch: 420 / 1400], examples_per_second: 11820.8238, train_label_loss: 0.0730, \n"
     ]
    },
    {
     "name": "stdout",
     "output_type": "stream",
     "text": [
      "epoch: 20, [batch: 560 / 1400], examples_per_second: 11732.6632, train_label_loss: 0.0924, \n"
     ]
    },
    {
     "name": "stdout",
     "output_type": "stream",
     "text": [
      "epoch: 20, [batch: 700 / 1400], examples_per_second: 11760.7533, train_label_loss: 0.0710, \n"
     ]
    },
    {
     "name": "stdout",
     "output_type": "stream",
     "text": [
      "epoch: 20, [batch: 840 / 1400], examples_per_second: 11749.3366, train_label_loss: 0.1565, \n"
     ]
    },
    {
     "name": "stdout",
     "output_type": "stream",
     "text": [
      "epoch: 20, [batch: 980 / 1400], examples_per_second: 11770.6473, train_label_loss: 0.0676, \n"
     ]
    },
    {
     "name": "stdout",
     "output_type": "stream",
     "text": [
      "epoch: 20, [batch: 1120 / 1400], examples_per_second: 11779.7715, train_label_loss: 0.0454, \n"
     ]
    },
    {
     "name": "stdout",
     "output_type": "stream",
     "text": [
      "epoch: 20, [batch: 1260 / 1400], examples_per_second: 11709.7453, train_label_loss: 0.0565, \n"
     ]
    },
    {
     "name": "stdout",
     "output_type": "stream",
     "text": [
      "=============================================================\n",
      "epoch: 20, source_val_acc_label: 0.9621, source_val_label_loss: 0.2631, target_val_acc_label: 0.9621, target_val_label_loss: 0.2631, \n",
      "=============================================================\n"
     ]
    },
    {
     "name": "stdout",
     "output_type": "stream",
     "text": [
      "New best\n",
      "epoch: 21, [batch: 1 / 1400], examples_per_second: 65.2587, train_label_loss: 0.0860, \n"
     ]
    },
    {
     "name": "stdout",
     "output_type": "stream",
     "text": [
      "epoch: 21, [batch: 140 / 1400], examples_per_second: 11704.2664, train_label_loss: 0.0616, \n"
     ]
    },
    {
     "name": "stdout",
     "output_type": "stream",
     "text": [
      "epoch: 21, [batch: 280 / 1400], examples_per_second: 11720.4967, train_label_loss: 0.0963, \n"
     ]
    },
    {
     "name": "stdout",
     "output_type": "stream",
     "text": [
      "epoch: 21, [batch: 420 / 1400], examples_per_second: 11797.0235, train_label_loss: 0.0806, \n"
     ]
    },
    {
     "name": "stdout",
     "output_type": "stream",
     "text": [
      "epoch: 21, [batch: 560 / 1400], examples_per_second: 11767.3929, train_label_loss: 0.0801, \n"
     ]
    },
    {
     "name": "stdout",
     "output_type": "stream",
     "text": [
      "epoch: 21, [batch: 700 / 1400], examples_per_second: 11775.6892, train_label_loss: 0.1130, \n"
     ]
    },
    {
     "name": "stdout",
     "output_type": "stream",
     "text": [
      "epoch: 21, [batch: 840 / 1400], examples_per_second: 11743.0439, train_label_loss: 0.0574, \n"
     ]
    },
    {
     "name": "stdout",
     "output_type": "stream",
     "text": [
      "epoch: 21, [batch: 980 / 1400], examples_per_second: 11706.6083, train_label_loss: 0.0969, \n"
     ]
    },
    {
     "name": "stdout",
     "output_type": "stream",
     "text": [
      "epoch: 21, [batch: 1120 / 1400], examples_per_second: 11742.6586, train_label_loss: 0.0818, \n"
     ]
    },
    {
     "name": "stdout",
     "output_type": "stream",
     "text": [
      "epoch: 21, [batch: 1260 / 1400], examples_per_second: 11761.4729, train_label_loss: 0.1011, \n"
     ]
    },
    {
     "name": "stdout",
     "output_type": "stream",
     "text": [
      "=============================================================\n",
      "epoch: 21, source_val_acc_label: 0.9458, source_val_label_loss: 0.2650, target_val_acc_label: 0.9458, target_val_label_loss: 0.2650, \n",
      "=============================================================\n"
     ]
    },
    {
     "name": "stdout",
     "output_type": "stream",
     "text": [
      "epoch: 22, [batch: 1 / 1400], examples_per_second: 67.7545, train_label_loss: 0.0343, \n"
     ]
    },
    {
     "name": "stdout",
     "output_type": "stream",
     "text": [
      "epoch: 22, [batch: 140 / 1400], examples_per_second: 12416.6722, train_label_loss: 0.0477, \n"
     ]
    },
    {
     "name": "stdout",
     "output_type": "stream",
     "text": [
      "epoch: 22, [batch: 280 / 1400], examples_per_second: 12503.1299, train_label_loss: 0.0986, \n"
     ]
    },
    {
     "name": "stdout",
     "output_type": "stream",
     "text": [
      "epoch: 22, [batch: 420 / 1400], examples_per_second: 12424.9501, train_label_loss: 0.0558, \n"
     ]
    },
    {
     "name": "stdout",
     "output_type": "stream",
     "text": [
      "epoch: 22, [batch: 560 / 1400], examples_per_second: 12397.9787, train_label_loss: 0.0472, \n"
     ]
    },
    {
     "name": "stdout",
     "output_type": "stream",
     "text": [
      "epoch: 22, [batch: 700 / 1400], examples_per_second: 12552.5680, train_label_loss: 0.0508, \n"
     ]
    },
    {
     "name": "stdout",
     "output_type": "stream",
     "text": [
      "epoch: 22, [batch: 840 / 1400], examples_per_second: 12475.5388, train_label_loss: 0.0342, \n"
     ]
    },
    {
     "name": "stdout",
     "output_type": "stream",
     "text": [
      "epoch: 22, [batch: 980 / 1400], examples_per_second: 11993.2216, train_label_loss: 0.0700, \n"
     ]
    },
    {
     "name": "stdout",
     "output_type": "stream",
     "text": [
      "epoch: 22, [batch: 1120 / 1400], examples_per_second: 10724.5105, train_label_loss: 0.1005, \n"
     ]
    },
    {
     "name": "stdout",
     "output_type": "stream",
     "text": [
      "epoch: 22, [batch: 1260 / 1400], examples_per_second: 10712.6246, train_label_loss: 0.0590, \n"
     ]
    },
    {
     "name": "stdout",
     "output_type": "stream",
     "text": [
      "=============================================================\n",
      "epoch: 22, source_val_acc_label: 0.9658, source_val_label_loss: 0.1119, target_val_acc_label: 0.9658, target_val_label_loss: 0.1119, \n",
      "=============================================================\n"
     ]
    },
    {
     "name": "stdout",
     "output_type": "stream",
     "text": [
      "New best\n",
      "epoch: 23, [batch: 1 / 1400], examples_per_second: 56.7872, train_label_loss: 0.0329, \n"
     ]
    },
    {
     "name": "stdout",
     "output_type": "stream",
     "text": [
      "epoch: 23, [batch: 140 / 1400], examples_per_second: 10647.1488, train_label_loss: 0.0290, \n"
     ]
    },
    {
     "name": "stdout",
     "output_type": "stream",
     "text": [
      "epoch: 23, [batch: 280 / 1400], examples_per_second: 10683.2298, train_label_loss: 0.1319, \n"
     ]
    },
    {
     "name": "stdout",
     "output_type": "stream",
     "text": [
      "epoch: 23, [batch: 420 / 1400], examples_per_second: 10713.3835, train_label_loss: 0.0524, \n"
     ]
    },
    {
     "name": "stdout",
     "output_type": "stream",
     "text": [
      "epoch: 23, [batch: 560 / 1400], examples_per_second: 10706.4689, train_label_loss: 0.0673, \n"
     ]
    },
    {
     "name": "stdout",
     "output_type": "stream",
     "text": [
      "epoch: 23, [batch: 700 / 1400], examples_per_second: 10704.4424, train_label_loss: 0.0601, \n"
     ]
    },
    {
     "name": "stdout",
     "output_type": "stream",
     "text": [
      "epoch: 23, [batch: 840 / 1400], examples_per_second: 10694.1254, train_label_loss: 0.1077, \n"
     ]
    },
    {
     "name": "stdout",
     "output_type": "stream",
     "text": [
      "epoch: 23, [batch: 980 / 1400], examples_per_second: 10652.7940, train_label_loss: 0.0386, \n"
     ]
    },
    {
     "name": "stdout",
     "output_type": "stream",
     "text": [
      "epoch: 23, [batch: 1120 / 1400], examples_per_second: 10713.3912, train_label_loss: 0.0724, \n"
     ]
    },
    {
     "name": "stdout",
     "output_type": "stream",
     "text": [
      "epoch: 23, [batch: 1260 / 1400], examples_per_second: 10719.1207, train_label_loss: 0.0580, \n"
     ]
    },
    {
     "name": "stdout",
     "output_type": "stream",
     "text": [
      "=============================================================\n",
      "epoch: 23, source_val_acc_label: 0.9624, source_val_label_loss: 0.1997, target_val_acc_label: 0.9624, target_val_label_loss: 0.1997, \n",
      "=============================================================\n"
     ]
    },
    {
     "name": "stdout",
     "output_type": "stream",
     "text": [
      "epoch: 24, [batch: 1 / 1400], examples_per_second: 55.6456, train_label_loss: 0.0233, \n"
     ]
    },
    {
     "name": "stdout",
     "output_type": "stream",
     "text": [
      "epoch: 24, [batch: 140 / 1400], examples_per_second: 10707.4528, train_label_loss: 0.0342, \n"
     ]
    },
    {
     "name": "stdout",
     "output_type": "stream",
     "text": [
      "epoch: 24, [batch: 280 / 1400], examples_per_second: 10681.5082, train_label_loss: 0.0447, \n"
     ]
    },
    {
     "name": "stdout",
     "output_type": "stream",
     "text": [
      "epoch: 24, [batch: 420 / 1400], examples_per_second: 10815.8937, train_label_loss: 0.0491, \n"
     ]
    },
    {
     "name": "stdout",
     "output_type": "stream",
     "text": [
      "epoch: 24, [batch: 560 / 1400], examples_per_second: 10641.4039, train_label_loss: 0.1116, \n"
     ]
    },
    {
     "name": "stdout",
     "output_type": "stream",
     "text": [
      "epoch: 24, [batch: 700 / 1400], examples_per_second: 10723.9597, train_label_loss: 0.0950, \n"
     ]
    },
    {
     "name": "stdout",
     "output_type": "stream",
     "text": [
      "epoch: 24, [batch: 840 / 1400], examples_per_second: 10699.2753, train_label_loss: 0.1276, \n"
     ]
    },
    {
     "name": "stdout",
     "output_type": "stream",
     "text": [
      "epoch: 24, [batch: 980 / 1400], examples_per_second: 10708.1300, train_label_loss: 0.0625, \n"
     ]
    },
    {
     "name": "stdout",
     "output_type": "stream",
     "text": [
      "epoch: 24, [batch: 1120 / 1400], examples_per_second: 10647.6645, train_label_loss: 0.0555, \n"
     ]
    },
    {
     "name": "stdout",
     "output_type": "stream",
     "text": [
      "epoch: 24, [batch: 1260 / 1400], examples_per_second: 10663.5760, train_label_loss: 0.0656, \n"
     ]
    },
    {
     "name": "stdout",
     "output_type": "stream",
     "text": [
      "=============================================================\n",
      "epoch: 24, source_val_acc_label: 0.9649, source_val_label_loss: 0.1083, target_val_acc_label: 0.9649, target_val_label_loss: 0.1083, \n",
      "=============================================================\n"
     ]
    },
    {
     "name": "stdout",
     "output_type": "stream",
     "text": [
      "epoch: 25, [batch: 1 / 1400], examples_per_second: 56.4345, train_label_loss: 0.0636, \n"
     ]
    },
    {
     "name": "stdout",
     "output_type": "stream",
     "text": [
      "epoch: 25, [batch: 140 / 1400], examples_per_second: 10637.7600, train_label_loss: 0.0374, \n"
     ]
    },
    {
     "name": "stdout",
     "output_type": "stream",
     "text": [
      "epoch: 25, [batch: 280 / 1400], examples_per_second: 10633.5046, train_label_loss: 0.0493, \n"
     ]
    },
    {
     "name": "stdout",
     "output_type": "stream",
     "text": [
      "epoch: 25, [batch: 420 / 1400], examples_per_second: 10600.7832, train_label_loss: 0.0365, \n"
     ]
    },
    {
     "name": "stdout",
     "output_type": "stream",
     "text": [
      "epoch: 25, [batch: 560 / 1400], examples_per_second: 10684.3734, train_label_loss: 0.0575, \n"
     ]
    },
    {
     "name": "stdout",
     "output_type": "stream",
     "text": [
      "epoch: 25, [batch: 700 / 1400], examples_per_second: 10665.6097, train_label_loss: 0.1304, \n"
     ]
    },
    {
     "name": "stdout",
     "output_type": "stream",
     "text": [
      "epoch: 25, [batch: 840 / 1400], examples_per_second: 10653.9038, train_label_loss: 0.0366, \n"
     ]
    },
    {
     "name": "stdout",
     "output_type": "stream",
     "text": [
      "epoch: 25, [batch: 980 / 1400], examples_per_second: 10741.0610, train_label_loss: 0.0878, \n"
     ]
    },
    {
     "name": "stdout",
     "output_type": "stream",
     "text": [
      "epoch: 25, [batch: 1120 / 1400], examples_per_second: 10616.4139, train_label_loss: 0.0726, \n"
     ]
    },
    {
     "name": "stdout",
     "output_type": "stream",
     "text": [
      "epoch: 25, [batch: 1260 / 1400], examples_per_second: 10728.9592, train_label_loss: 0.0292, \n"
     ]
    },
    {
     "name": "stdout",
     "output_type": "stream",
     "text": [
      "=============================================================\n",
      "epoch: 25, source_val_acc_label: 0.9660, source_val_label_loss: 0.1408, target_val_acc_label: 0.9660, target_val_label_loss: 0.1408, \n",
      "=============================================================\n"
     ]
    },
    {
     "name": "stdout",
     "output_type": "stream",
     "text": [
      "New best\n",
      "epoch: 26, [batch: 1 / 1400], examples_per_second: 55.7118, train_label_loss: 0.0464, \n"
     ]
    },
    {
     "name": "stdout",
     "output_type": "stream",
     "text": [
      "epoch: 26, [batch: 140 / 1400], examples_per_second: 10665.3679, train_label_loss: 0.0221, \n"
     ]
    },
    {
     "name": "stdout",
     "output_type": "stream",
     "text": [
      "epoch: 26, [batch: 280 / 1400], examples_per_second: 10651.1228, train_label_loss: 0.0275, \n"
     ]
    },
    {
     "name": "stdout",
     "output_type": "stream",
     "text": [
      "epoch: 26, [batch: 420 / 1400], examples_per_second: 10750.3970, train_label_loss: 0.0340, \n"
     ]
    },
    {
     "name": "stdout",
     "output_type": "stream",
     "text": [
      "epoch: 26, [batch: 560 / 1400], examples_per_second: 10763.2516, train_label_loss: 0.0459, \n"
     ]
    },
    {
     "name": "stdout",
     "output_type": "stream",
     "text": [
      "epoch: 26, [batch: 700 / 1400], examples_per_second: 10774.7512, train_label_loss: 0.0840, \n"
     ]
    },
    {
     "name": "stdout",
     "output_type": "stream",
     "text": [
      "epoch: 26, [batch: 840 / 1400], examples_per_second: 10762.8771, train_label_loss: 0.0424, \n"
     ]
    },
    {
     "name": "stdout",
     "output_type": "stream",
     "text": [
      "epoch: 26, [batch: 980 / 1400], examples_per_second: 10699.5784, train_label_loss: 0.0672, \n"
     ]
    },
    {
     "name": "stdout",
     "output_type": "stream",
     "text": [
      "epoch: 26, [batch: 1120 / 1400], examples_per_second: 10691.4161, train_label_loss: 0.0132, \n"
     ]
    },
    {
     "name": "stdout",
     "output_type": "stream",
     "text": [
      "epoch: 26, [batch: 1260 / 1400], examples_per_second: 10697.4449, train_label_loss: 0.1126, \n"
     ]
    },
    {
     "name": "stdout",
     "output_type": "stream",
     "text": [
      "=============================================================\n",
      "epoch: 26, source_val_acc_label: 0.9642, source_val_label_loss: 0.1309, target_val_acc_label: 0.9642, target_val_label_loss: 0.1309, \n",
      "=============================================================\n"
     ]
    },
    {
     "name": "stdout",
     "output_type": "stream",
     "text": [
      "epoch: 27, [batch: 1 / 1400], examples_per_second: 57.4720, train_label_loss: 0.0261, \n"
     ]
    },
    {
     "name": "stdout",
     "output_type": "stream",
     "text": [
      "epoch: 27, [batch: 140 / 1400], examples_per_second: 10531.3835, train_label_loss: 0.0417, \n"
     ]
    },
    {
     "name": "stdout",
     "output_type": "stream",
     "text": [
      "epoch: 27, [batch: 280 / 1400], examples_per_second: 10658.8745, train_label_loss: 0.0259, \n"
     ]
    },
    {
     "name": "stdout",
     "output_type": "stream",
     "text": [
      "epoch: 27, [batch: 420 / 1400], examples_per_second: 10679.4745, train_label_loss: 0.0176, \n"
     ]
    },
    {
     "name": "stdout",
     "output_type": "stream",
     "text": [
      "epoch: 27, [batch: 560 / 1400], examples_per_second: 10683.7507, train_label_loss: 0.0402, \n"
     ]
    },
    {
     "name": "stdout",
     "output_type": "stream",
     "text": [
      "epoch: 27, [batch: 700 / 1400], examples_per_second: 10696.1236, train_label_loss: 0.1490, \n"
     ]
    },
    {
     "name": "stdout",
     "output_type": "stream",
     "text": [
      "epoch: 27, [batch: 840 / 1400], examples_per_second: 10651.1787, train_label_loss: 0.0900, \n"
     ]
    },
    {
     "name": "stdout",
     "output_type": "stream",
     "text": [
      "epoch: 27, [batch: 980 / 1400], examples_per_second: 10693.3357, train_label_loss: 0.0480, \n"
     ]
    },
    {
     "name": "stdout",
     "output_type": "stream",
     "text": [
      "epoch: 27, [batch: 1120 / 1400], examples_per_second: 10681.6463, train_label_loss: 0.0427, \n"
     ]
    },
    {
     "name": "stdout",
     "output_type": "stream",
     "text": [
      "epoch: 27, [batch: 1260 / 1400], examples_per_second: 10683.5396, train_label_loss: 0.1130, \n"
     ]
    },
    {
     "name": "stdout",
     "output_type": "stream",
     "text": [
      "=============================================================\n",
      "epoch: 27, source_val_acc_label: 0.9653, source_val_label_loss: 0.1034, target_val_acc_label: 0.9653, target_val_label_loss: 0.1034, \n",
      "=============================================================\n"
     ]
    },
    {
     "name": "stdout",
     "output_type": "stream",
     "text": [
      "epoch: 28, [batch: 1 / 1400], examples_per_second: 57.5324, train_label_loss: 0.0351, \n"
     ]
    },
    {
     "name": "stdout",
     "output_type": "stream",
     "text": [
      "epoch: 28, [batch: 140 / 1400], examples_per_second: 10625.7213, train_label_loss: 0.0494, \n"
     ]
    },
    {
     "name": "stdout",
     "output_type": "stream",
     "text": [
      "epoch: 28, [batch: 280 / 1400], examples_per_second: 10772.4564, train_label_loss: 0.0385, \n"
     ]
    },
    {
     "name": "stdout",
     "output_type": "stream",
     "text": [
      "epoch: 28, [batch: 420 / 1400], examples_per_second: 10730.4205, train_label_loss: 0.0462, \n"
     ]
    },
    {
     "name": "stdout",
     "output_type": "stream",
     "text": [
      "epoch: 28, [batch: 560 / 1400], examples_per_second: 10790.2829, train_label_loss: 0.0396, \n"
     ]
    },
    {
     "name": "stdout",
     "output_type": "stream",
     "text": [
      "epoch: 28, [batch: 700 / 1400], examples_per_second: 10801.4058, train_label_loss: 0.0565, \n"
     ]
    },
    {
     "name": "stdout",
     "output_type": "stream",
     "text": [
      "epoch: 28, [batch: 840 / 1400], examples_per_second: 10749.5545, train_label_loss: 0.0323, \n"
     ]
    },
    {
     "name": "stdout",
     "output_type": "stream",
     "text": [
      "epoch: 28, [batch: 980 / 1400], examples_per_second: 10729.0955, train_label_loss: 0.0736, \n"
     ]
    },
    {
     "name": "stdout",
     "output_type": "stream",
     "text": [
      "epoch: 28, [batch: 1120 / 1400], examples_per_second: 10711.1972, train_label_loss: 0.1159, \n"
     ]
    },
    {
     "name": "stdout",
     "output_type": "stream",
     "text": [
      "epoch: 28, [batch: 1260 / 1400], examples_per_second: 10693.5350, train_label_loss: 0.0288, \n"
     ]
    },
    {
     "name": "stdout",
     "output_type": "stream",
     "text": [
      "=============================================================\n",
      "epoch: 28, source_val_acc_label: 0.9674, source_val_label_loss: 0.1464, target_val_acc_label: 0.9674, target_val_label_loss: 0.1464, \n",
      "=============================================================\n"
     ]
    },
    {
     "name": "stdout",
     "output_type": "stream",
     "text": [
      "New best\n",
      "epoch: 29, [batch: 1 / 1400], examples_per_second: 57.5919, train_label_loss: 0.0495, \n"
     ]
    },
    {
     "name": "stdout",
     "output_type": "stream",
     "text": [
      "epoch: 29, [batch: 140 / 1400], examples_per_second: 10665.5341, train_label_loss: 0.0342, \n"
     ]
    },
    {
     "name": "stdout",
     "output_type": "stream",
     "text": [
      "epoch: 29, [batch: 280 / 1400], examples_per_second: 10692.5614, train_label_loss: 0.0243, \n"
     ]
    },
    {
     "name": "stdout",
     "output_type": "stream",
     "text": [
      "epoch: 29, [batch: 420 / 1400], examples_per_second: 10610.7876, train_label_loss: 0.0514, \n"
     ]
    },
    {
     "name": "stdout",
     "output_type": "stream",
     "text": [
      "epoch: 29, [batch: 560 / 1400], examples_per_second: 10587.9870, train_label_loss: 0.0414, \n"
     ]
    },
    {
     "name": "stdout",
     "output_type": "stream",
     "text": [
      "epoch: 29, [batch: 700 / 1400], examples_per_second: 10700.7544, train_label_loss: 0.0348, \n"
     ]
    },
    {
     "name": "stdout",
     "output_type": "stream",
     "text": [
      "epoch: 29, [batch: 840 / 1400], examples_per_second: 10611.7344, train_label_loss: 0.0503, \n"
     ]
    },
    {
     "name": "stdout",
     "output_type": "stream",
     "text": [
      "epoch: 29, [batch: 980 / 1400], examples_per_second: 10713.4858, train_label_loss: 0.0571, \n"
     ]
    },
    {
     "name": "stdout",
     "output_type": "stream",
     "text": [
      "epoch: 29, [batch: 1120 / 1400], examples_per_second: 10684.3157, train_label_loss: 0.0619, \n"
     ]
    },
    {
     "name": "stdout",
     "output_type": "stream",
     "text": [
      "epoch: 29, [batch: 1260 / 1400], examples_per_second: 10658.3969, train_label_loss: 0.0590, \n"
     ]
    },
    {
     "name": "stdout",
     "output_type": "stream",
     "text": [
      "=============================================================\n",
      "epoch: 29, source_val_acc_label: 0.9571, source_val_label_loss: 0.1848, target_val_acc_label: 0.9571, target_val_label_loss: 0.1848, \n",
      "=============================================================\n"
     ]
    },
    {
     "name": "stdout",
     "output_type": "stream",
     "text": [
      "epoch: 30, [batch: 1 / 1400], examples_per_second: 57.6398, train_label_loss: 0.0784, \n"
     ]
    },
    {
     "name": "stdout",
     "output_type": "stream",
     "text": [
      "epoch: 30, [batch: 140 / 1400], examples_per_second: 10497.6637, train_label_loss: 0.0527, \n"
     ]
    },
    {
     "name": "stdout",
     "output_type": "stream",
     "text": [
      "epoch: 30, [batch: 280 / 1400], examples_per_second: 10665.6551, train_label_loss: 0.0308, \n"
     ]
    },
    {
     "name": "stdout",
     "output_type": "stream",
     "text": [
      "epoch: 30, [batch: 420 / 1400], examples_per_second: 10672.8354, train_label_loss: 0.0779, \n"
     ]
    },
    {
     "name": "stdout",
     "output_type": "stream",
     "text": [
      "epoch: 30, [batch: 560 / 1400], examples_per_second: 10600.3287, train_label_loss: 0.0281, \n"
     ]
    },
    {
     "name": "stdout",
     "output_type": "stream",
     "text": [
      "epoch: 30, [batch: 700 / 1400], examples_per_second: 10686.3299, train_label_loss: 0.0793, \n"
     ]
    },
    {
     "name": "stdout",
     "output_type": "stream",
     "text": [
      "epoch: 30, [batch: 840 / 1400], examples_per_second: 10658.6841, train_label_loss: 0.0256, \n"
     ]
    },
    {
     "name": "stdout",
     "output_type": "stream",
     "text": [
      "epoch: 30, [batch: 980 / 1400], examples_per_second: 10695.7400, train_label_loss: 0.0856, \n"
     ]
    },
    {
     "name": "stdout",
     "output_type": "stream",
     "text": [
      "epoch: 30, [batch: 1120 / 1400], examples_per_second: 10703.9744, train_label_loss: 0.0465, \n"
     ]
    },
    {
     "name": "stdout",
     "output_type": "stream",
     "text": [
      "epoch: 30, [batch: 1260 / 1400], examples_per_second: 10677.2474, train_label_loss: 0.0279, \n"
     ]
    },
    {
     "name": "stdout",
     "output_type": "stream",
     "text": [
      "=============================================================\n",
      "epoch: 30, source_val_acc_label: 0.9648, source_val_label_loss: 0.5625, target_val_acc_label: 0.9648, target_val_label_loss: 0.5625, \n",
      "=============================================================\n"
     ]
    },
    {
     "name": "stdout",
     "output_type": "stream",
     "text": [
      "epoch: 31, [batch: 1 / 1400], examples_per_second: 57.3313, train_label_loss: 0.0448, \n"
     ]
    },
    {
     "name": "stdout",
     "output_type": "stream",
     "text": [
      "epoch: 31, [batch: 140 / 1400], examples_per_second: 10720.7648, train_label_loss: 0.0483, \n"
     ]
    },
    {
     "name": "stdout",
     "output_type": "stream",
     "text": [
      "epoch: 31, [batch: 280 / 1400], examples_per_second: 10728.2456, train_label_loss: 0.0504, \n"
     ]
    },
    {
     "name": "stdout",
     "output_type": "stream",
     "text": [
      "epoch: 31, [batch: 420 / 1400], examples_per_second: 10719.0565, train_label_loss: 0.0335, \n"
     ]
    },
    {
     "name": "stdout",
     "output_type": "stream",
     "text": [
      "epoch: 31, [batch: 560 / 1400], examples_per_second: 10623.3598, train_label_loss: 0.0252, \n"
     ]
    },
    {
     "name": "stdout",
     "output_type": "stream",
     "text": [
      "epoch: 31, [batch: 700 / 1400], examples_per_second: 10714.7687, train_label_loss: 0.0471, \n"
     ]
    },
    {
     "name": "stdout",
     "output_type": "stream",
     "text": [
      "epoch: 31, [batch: 840 / 1400], examples_per_second: 10687.7538, train_label_loss: 0.0706, \n"
     ]
    },
    {
     "name": "stdout",
     "output_type": "stream",
     "text": [
      "epoch: 31, [batch: 980 / 1400], examples_per_second: 10739.5477, train_label_loss: 0.0561, \n"
     ]
    },
    {
     "name": "stdout",
     "output_type": "stream",
     "text": [
      "epoch: 31, [batch: 1120 / 1400], examples_per_second: 10785.0264, train_label_loss: 0.0559, \n"
     ]
    },
    {
     "name": "stdout",
     "output_type": "stream",
     "text": [
      "epoch: 31, [batch: 1260 / 1400], examples_per_second: 10676.1842, train_label_loss: 0.0509, \n"
     ]
    },
    {
     "name": "stdout",
     "output_type": "stream",
     "text": [
      "=============================================================\n",
      "epoch: 31, source_val_acc_label: 0.9678, source_val_label_loss: 0.1205, target_val_acc_label: 0.9678, target_val_label_loss: 0.1205, \n",
      "=============================================================\n"
     ]
    },
    {
     "name": "stdout",
     "output_type": "stream",
     "text": [
      "New best\n",
      "epoch: 32, [batch: 1 / 1400], examples_per_second: 56.2680, train_label_loss: 0.0544, \n"
     ]
    },
    {
     "name": "stdout",
     "output_type": "stream",
     "text": [
      "epoch: 32, [batch: 140 / 1400], examples_per_second: 10719.3049, train_label_loss: 0.0401, \n"
     ]
    },
    {
     "name": "stdout",
     "output_type": "stream",
     "text": [
      "epoch: 32, [batch: 280 / 1400], examples_per_second: 10934.8071, train_label_loss: 0.0529, \n"
     ]
    },
    {
     "name": "stdout",
     "output_type": "stream",
     "text": [
      "epoch: 32, [batch: 420 / 1400], examples_per_second: 10710.5119, train_label_loss: 0.0305, \n"
     ]
    },
    {
     "name": "stdout",
     "output_type": "stream",
     "text": [
      "epoch: 32, [batch: 560 / 1400], examples_per_second: 10666.1592, train_label_loss: 0.0657, \n"
     ]
    },
    {
     "name": "stdout",
     "output_type": "stream",
     "text": [
      "epoch: 32, [batch: 700 / 1400], examples_per_second: 10687.5015, train_label_loss: 0.0470, \n"
     ]
    },
    {
     "name": "stdout",
     "output_type": "stream",
     "text": [
      "epoch: 32, [batch: 840 / 1400], examples_per_second: 10697.7434, train_label_loss: 0.0380, \n"
     ]
    },
    {
     "name": "stdout",
     "output_type": "stream",
     "text": [
      "epoch: 32, [batch: 980 / 1400], examples_per_second: 10734.8281, train_label_loss: 0.0676, \n"
     ]
    },
    {
     "name": "stdout",
     "output_type": "stream",
     "text": [
      "epoch: 32, [batch: 1120 / 1400], examples_per_second: 10761.1712, train_label_loss: 0.0587, \n"
     ]
    },
    {
     "name": "stdout",
     "output_type": "stream",
     "text": [
      "epoch: 32, [batch: 1260 / 1400], examples_per_second: 10692.4032, train_label_loss: 0.0959, \n"
     ]
    },
    {
     "name": "stdout",
     "output_type": "stream",
     "text": [
      "=============================================================\n",
      "epoch: 32, source_val_acc_label: 0.9679, source_val_label_loss: 0.1207, target_val_acc_label: 0.9679, target_val_label_loss: 0.1207, \n",
      "=============================================================\n"
     ]
    },
    {
     "name": "stdout",
     "output_type": "stream",
     "text": [
      "New best\n",
      "epoch: 33, [batch: 1 / 1400], examples_per_second: 57.6924, train_label_loss: 0.0325, \n"
     ]
    },
    {
     "name": "stdout",
     "output_type": "stream",
     "text": [
      "epoch: 33, [batch: 140 / 1400], examples_per_second: 10668.8658, train_label_loss: 0.0367, \n"
     ]
    },
    {
     "name": "stdout",
     "output_type": "stream",
     "text": [
      "epoch: 33, [batch: 280 / 1400], examples_per_second: 10703.3617, train_label_loss: 0.0233, \n"
     ]
    },
    {
     "name": "stdout",
     "output_type": "stream",
     "text": [
      "epoch: 33, [batch: 420 / 1400], examples_per_second: 10627.8211, train_label_loss: 0.0416, \n"
     ]
    },
    {
     "name": "stdout",
     "output_type": "stream",
     "text": [
      "epoch: 33, [batch: 560 / 1400], examples_per_second: 10694.4632, train_label_loss: 0.0455, \n"
     ]
    },
    {
     "name": "stdout",
     "output_type": "stream",
     "text": [
      "epoch: 33, [batch: 700 / 1400], examples_per_second: 10720.1634, train_label_loss: 0.0883, \n"
     ]
    },
    {
     "name": "stdout",
     "output_type": "stream",
     "text": [
      "epoch: 33, [batch: 840 / 1400], examples_per_second: 10756.1000, train_label_loss: 0.0361, \n"
     ]
    },
    {
     "name": "stdout",
     "output_type": "stream",
     "text": [
      "epoch: 33, [batch: 980 / 1400], examples_per_second: 10746.3592, train_label_loss: 0.0452, \n"
     ]
    },
    {
     "name": "stdout",
     "output_type": "stream",
     "text": [
      "epoch: 33, [batch: 1120 / 1400], examples_per_second: 10610.4491, train_label_loss: 0.0815, \n"
     ]
    },
    {
     "name": "stdout",
     "output_type": "stream",
     "text": [
      "epoch: 33, [batch: 1260 / 1400], examples_per_second: 10703.1833, train_label_loss: 0.0426, \n"
     ]
    },
    {
     "name": "stdout",
     "output_type": "stream",
     "text": [
      "=============================================================\n",
      "epoch: 33, source_val_acc_label: 0.9653, source_val_label_loss: 0.2686, target_val_acc_label: 0.9653, target_val_label_loss: 0.2686, \n",
      "=============================================================\n"
     ]
    },
    {
     "name": "stdout",
     "output_type": "stream",
     "text": [
      "epoch: 34, [batch: 1 / 1400], examples_per_second: 57.5210, train_label_loss: 0.0157, \n"
     ]
    },
    {
     "name": "stdout",
     "output_type": "stream",
     "text": [
      "epoch: 34, [batch: 140 / 1400], examples_per_second: 10677.8818, train_label_loss: 0.0307, \n"
     ]
    },
    {
     "name": "stdout",
     "output_type": "stream",
     "text": [
      "epoch: 34, [batch: 280 / 1400], examples_per_second: 10690.8702, train_label_loss: 0.0797, \n"
     ]
    },
    {
     "name": "stdout",
     "output_type": "stream",
     "text": [
      "epoch: 34, [batch: 420 / 1400], examples_per_second: 10721.2475, train_label_loss: 0.0345, \n"
     ]
    },
    {
     "name": "stdout",
     "output_type": "stream",
     "text": [
      "epoch: 34, [batch: 560 / 1400], examples_per_second: 10698.8946, train_label_loss: 0.0154, \n"
     ]
    },
    {
     "name": "stdout",
     "output_type": "stream",
     "text": [
      "epoch: 34, [batch: 700 / 1400], examples_per_second: 10713.8386, train_label_loss: 0.0811, \n"
     ]
    },
    {
     "name": "stdout",
     "output_type": "stream",
     "text": [
      "epoch: 34, [batch: 840 / 1400], examples_per_second: 10656.9189, train_label_loss: 0.0199, \n"
     ]
    },
    {
     "name": "stdout",
     "output_type": "stream",
     "text": [
      "epoch: 34, [batch: 980 / 1400], examples_per_second: 10677.3141, train_label_loss: 0.0548, \n"
     ]
    },
    {
     "name": "stdout",
     "output_type": "stream",
     "text": [
      "epoch: 34, [batch: 1120 / 1400], examples_per_second: 10662.1375, train_label_loss: 0.0411, \n"
     ]
    },
    {
     "name": "stdout",
     "output_type": "stream",
     "text": [
      "epoch: 34, [batch: 1260 / 1400], examples_per_second: 10620.4912, train_label_loss: 0.0351, \n"
     ]
    },
    {
     "name": "stdout",
     "output_type": "stream",
     "text": [
      "=============================================================\n",
      "epoch: 34, source_val_acc_label: 0.9660, source_val_label_loss: 0.2008, target_val_acc_label: 0.9660, target_val_label_loss: 0.2008, \n",
      "=============================================================\n"
     ]
    },
    {
     "name": "stdout",
     "output_type": "stream",
     "text": [
      "epoch: 35, [batch: 1 / 1400], examples_per_second: 57.7648, train_label_loss: 0.0334, \n"
     ]
    },
    {
     "name": "stdout",
     "output_type": "stream",
     "text": [
      "epoch: 35, [batch: 140 / 1400], examples_per_second: 10641.3521, train_label_loss: 0.0536, \n"
     ]
    },
    {
     "name": "stdout",
     "output_type": "stream",
     "text": [
      "epoch: 35, [batch: 280 / 1400], examples_per_second: 10694.0812, train_label_loss: 0.0516, \n"
     ]
    },
    {
     "name": "stdout",
     "output_type": "stream",
     "text": [
      "epoch: 35, [batch: 420 / 1400], examples_per_second: 10742.3858, train_label_loss: 0.0295, \n"
     ]
    },
    {
     "name": "stdout",
     "output_type": "stream",
     "text": [
      "epoch: 35, [batch: 560 / 1400], examples_per_second: 10725.5711, train_label_loss: 0.0803, \n"
     ]
    },
    {
     "name": "stdout",
     "output_type": "stream",
     "text": [
      "epoch: 35, [batch: 700 / 1400], examples_per_second: 10766.5433, train_label_loss: 0.0838, \n"
     ]
    },
    {
     "name": "stdout",
     "output_type": "stream",
     "text": [
      "epoch: 35, [batch: 840 / 1400], examples_per_second: 10626.0947, train_label_loss: 0.0435, \n"
     ]
    },
    {
     "name": "stdout",
     "output_type": "stream",
     "text": [
      "epoch: 35, [batch: 980 / 1400], examples_per_second: 10701.0454, train_label_loss: 0.0510, \n"
     ]
    },
    {
     "name": "stdout",
     "output_type": "stream",
     "text": [
      "epoch: 35, [batch: 1120 / 1400], examples_per_second: 10740.4363, train_label_loss: 0.0650, \n"
     ]
    },
    {
     "name": "stdout",
     "output_type": "stream",
     "text": [
      "epoch: 35, [batch: 1260 / 1400], examples_per_second: 10724.6039, train_label_loss: 0.0513, \n"
     ]
    },
    {
     "name": "stdout",
     "output_type": "stream",
     "text": [
      "=============================================================\n",
      "epoch: 35, source_val_acc_label: 0.9681, source_val_label_loss: 0.1131, target_val_acc_label: 0.9681, target_val_label_loss: 0.1131, \n",
      "=============================================================\n"
     ]
    },
    {
     "name": "stdout",
     "output_type": "stream",
     "text": [
      "New best\n",
      "epoch: 36, [batch: 1 / 1400], examples_per_second: 57.0879, train_label_loss: 0.0241, \n"
     ]
    },
    {
     "name": "stdout",
     "output_type": "stream",
     "text": [
      "epoch: 36, [batch: 140 / 1400], examples_per_second: 10602.5839, train_label_loss: 0.0186, \n"
     ]
    },
    {
     "name": "stdout",
     "output_type": "stream",
     "text": [
      "epoch: 36, [batch: 280 / 1400], examples_per_second: 10745.2838, train_label_loss: 0.0317, \n"
     ]
    },
    {
     "name": "stdout",
     "output_type": "stream",
     "text": [
      "epoch: 36, [batch: 420 / 1400], examples_per_second: 10705.4777, train_label_loss: 0.0374, \n"
     ]
    },
    {
     "name": "stdout",
     "output_type": "stream",
     "text": [
      "epoch: 36, [batch: 560 / 1400], examples_per_second: 10716.4187, train_label_loss: 0.0347, \n"
     ]
    },
    {
     "name": "stdout",
     "output_type": "stream",
     "text": [
      "epoch: 36, [batch: 700 / 1400], examples_per_second: 10668.3574, train_label_loss: 0.0739, \n"
     ]
    },
    {
     "name": "stdout",
     "output_type": "stream",
     "text": [
      "epoch: 36, [batch: 840 / 1400], examples_per_second: 10706.3820, train_label_loss: 0.0394, \n"
     ]
    },
    {
     "name": "stdout",
     "output_type": "stream",
     "text": [
      "epoch: 36, [batch: 980 / 1400], examples_per_second: 10679.2544, train_label_loss: 0.0525, \n"
     ]
    },
    {
     "name": "stdout",
     "output_type": "stream",
     "text": [
      "epoch: 36, [batch: 1120 / 1400], examples_per_second: 10750.3448, train_label_loss: 0.0471, \n"
     ]
    },
    {
     "name": "stdout",
     "output_type": "stream",
     "text": [
      "epoch: 36, [batch: 1260 / 1400], examples_per_second: 10765.8138, train_label_loss: 0.0146, \n"
     ]
    },
    {
     "name": "stdout",
     "output_type": "stream",
     "text": [
      "=============================================================\n",
      "epoch: 36, source_val_acc_label: 0.9612, source_val_label_loss: 0.1233, target_val_acc_label: 0.9612, target_val_label_loss: 0.1233, \n",
      "=============================================================\n"
     ]
    },
    {
     "name": "stdout",
     "output_type": "stream",
     "text": [
      "epoch: 37, [batch: 1 / 1400], examples_per_second: 58.2230, train_label_loss: 0.0226, \n"
     ]
    },
    {
     "name": "stdout",
     "output_type": "stream",
     "text": [
      "epoch: 37, [batch: 140 / 1400], examples_per_second: 10686.1478, train_label_loss: 0.0226, \n"
     ]
    },
    {
     "name": "stdout",
     "output_type": "stream",
     "text": [
      "epoch: 37, [batch: 280 / 1400], examples_per_second: 10751.0229, train_label_loss: 0.0529, \n"
     ]
    },
    {
     "name": "stdout",
     "output_type": "stream",
     "text": [
      "epoch: 37, [batch: 420 / 1400], examples_per_second: 10726.8217, train_label_loss: 0.0223, \n"
     ]
    },
    {
     "name": "stdout",
     "output_type": "stream",
     "text": [
      "epoch: 37, [batch: 560 / 1400], examples_per_second: 10752.9593, train_label_loss: 0.0371, \n"
     ]
    },
    {
     "name": "stdout",
     "output_type": "stream",
     "text": [
      "epoch: 37, [batch: 700 / 1400], examples_per_second: 10695.9333, train_label_loss: 0.0327, \n"
     ]
    },
    {
     "name": "stdout",
     "output_type": "stream",
     "text": [
      "epoch: 37, [batch: 840 / 1400], examples_per_second: 10701.6137, train_label_loss: 0.0233, \n"
     ]
    },
    {
     "name": "stdout",
     "output_type": "stream",
     "text": [
      "epoch: 37, [batch: 980 / 1400], examples_per_second: 10707.5625, train_label_loss: 0.0244, \n"
     ]
    },
    {
     "name": "stdout",
     "output_type": "stream",
     "text": [
      "epoch: 37, [batch: 1120 / 1400], examples_per_second: 10720.1389, train_label_loss: 0.0643, \n"
     ]
    },
    {
     "name": "stdout",
     "output_type": "stream",
     "text": [
      "epoch: 37, [batch: 1260 / 1400], examples_per_second: 10740.2874, train_label_loss: 0.0570, \n"
     ]
    },
    {
     "name": "stdout",
     "output_type": "stream",
     "text": [
      "=============================================================\n",
      "epoch: 37, source_val_acc_label: 0.9632, source_val_label_loss: 0.1208, target_val_acc_label: 0.9632, target_val_label_loss: 0.1208, \n",
      "=============================================================\n"
     ]
    },
    {
     "name": "stdout",
     "output_type": "stream",
     "text": [
      "epoch: 38, [batch: 1 / 1400], examples_per_second: 56.3601, train_label_loss: 0.0167, \n"
     ]
    },
    {
     "name": "stdout",
     "output_type": "stream",
     "text": [
      "epoch: 38, [batch: 140 / 1400], examples_per_second: 10881.8985, train_label_loss: 0.0682, \n"
     ]
    },
    {
     "name": "stdout",
     "output_type": "stream",
     "text": [
      "epoch: 38, [batch: 280 / 1400], examples_per_second: 10613.8758, train_label_loss: 0.0256, \n"
     ]
    },
    {
     "name": "stdout",
     "output_type": "stream",
     "text": [
      "epoch: 38, [batch: 420 / 1400], examples_per_second: 10751.4596, train_label_loss: 0.0485, \n"
     ]
    },
    {
     "name": "stdout",
     "output_type": "stream",
     "text": [
      "epoch: 38, [batch: 560 / 1400], examples_per_second: 10715.4424, train_label_loss: 0.0170, \n"
     ]
    },
    {
     "name": "stdout",
     "output_type": "stream",
     "text": [
      "epoch: 38, [batch: 700 / 1400], examples_per_second: 10738.5197, train_label_loss: 0.0359, \n"
     ]
    },
    {
     "name": "stdout",
     "output_type": "stream",
     "text": [
      "epoch: 38, [batch: 840 / 1400], examples_per_second: 10805.0144, train_label_loss: 0.0050, \n"
     ]
    },
    {
     "name": "stdout",
     "output_type": "stream",
     "text": [
      "epoch: 38, [batch: 980 / 1400], examples_per_second: 10751.5735, train_label_loss: 0.0172, \n"
     ]
    },
    {
     "name": "stdout",
     "output_type": "stream",
     "text": [
      "epoch: 38, [batch: 1120 / 1400], examples_per_second: 10718.3579, train_label_loss: 0.0830, \n"
     ]
    },
    {
     "name": "stdout",
     "output_type": "stream",
     "text": [
      "epoch: 38, [batch: 1260 / 1400], examples_per_second: 10625.6591, train_label_loss: 0.0266, \n"
     ]
    },
    {
     "name": "stdout",
     "output_type": "stream",
     "text": [
      "=============================================================\n",
      "epoch: 38, source_val_acc_label: 0.9601, source_val_label_loss: 0.5007, target_val_acc_label: 0.9601, target_val_label_loss: 0.5007, \n",
      "=============================================================\n"
     ]
    },
    {
     "name": "stdout",
     "output_type": "stream",
     "text": [
      "epoch: 39, [batch: 1 / 1400], examples_per_second: 57.4854, train_label_loss: 0.0290, \n"
     ]
    },
    {
     "name": "stdout",
     "output_type": "stream",
     "text": [
      "epoch: 39, [batch: 140 / 1400], examples_per_second: 10630.4227, train_label_loss: 0.0428, \n"
     ]
    },
    {
     "name": "stdout",
     "output_type": "stream",
     "text": [
      "epoch: 39, [batch: 280 / 1400], examples_per_second: 10747.6623, train_label_loss: 0.0102, \n"
     ]
    },
    {
     "name": "stdout",
     "output_type": "stream",
     "text": [
      "epoch: 39, [batch: 420 / 1400], examples_per_second: 10713.5317, train_label_loss: 0.0281, \n"
     ]
    },
    {
     "name": "stdout",
     "output_type": "stream",
     "text": [
      "epoch: 39, [batch: 560 / 1400], examples_per_second: 10632.8171, train_label_loss: 0.0192, \n"
     ]
    },
    {
     "name": "stdout",
     "output_type": "stream",
     "text": [
      "epoch: 39, [batch: 700 / 1400], examples_per_second: 10698.3509, train_label_loss: 0.0104, \n"
     ]
    },
    {
     "name": "stdout",
     "output_type": "stream",
     "text": [
      "epoch: 39, [batch: 840 / 1400], examples_per_second: 10731.0762, train_label_loss: 0.0200, \n"
     ]
    },
    {
     "name": "stdout",
     "output_type": "stream",
     "text": [
      "epoch: 39, [batch: 980 / 1400], examples_per_second: 10685.7131, train_label_loss: 0.0250, \n"
     ]
    },
    {
     "name": "stdout",
     "output_type": "stream",
     "text": [
      "epoch: 39, [batch: 1120 / 1400], examples_per_second: 10776.1523, train_label_loss: 0.0102, \n"
     ]
    },
    {
     "name": "stdout",
     "output_type": "stream",
     "text": [
      "epoch: 39, [batch: 1260 / 1400], examples_per_second: 10708.5007, train_label_loss: 0.0222, \n"
     ]
    },
    {
     "name": "stdout",
     "output_type": "stream",
     "text": [
      "=============================================================\n",
      "epoch: 39, source_val_acc_label: 0.9690, source_val_label_loss: 0.0943, target_val_acc_label: 0.9690, target_val_label_loss: 0.0943, \n",
      "=============================================================\n"
     ]
    },
    {
     "name": "stdout",
     "output_type": "stream",
     "text": [
      "New best\n",
      "epoch: 40, [batch: 1 / 1400], examples_per_second: 57.0448, train_label_loss: 0.0825, \n"
     ]
    },
    {
     "name": "stdout",
     "output_type": "stream",
     "text": [
      "epoch: 40, [batch: 140 / 1400], examples_per_second: 10760.2408, train_label_loss: 0.0226, \n"
     ]
    },
    {
     "name": "stdout",
     "output_type": "stream",
     "text": [
      "epoch: 40, [batch: 280 / 1400], examples_per_second: 10712.6552, train_label_loss: 0.0192, \n"
     ]
    },
    {
     "name": "stdout",
     "output_type": "stream",
     "text": [
      "epoch: 40, [batch: 420 / 1400], examples_per_second: 10724.8028, train_label_loss: 0.0236, \n"
     ]
    },
    {
     "name": "stdout",
     "output_type": "stream",
     "text": [
      "epoch: 40, [batch: 560 / 1400], examples_per_second: 10717.7145, train_label_loss: 0.0653, \n"
     ]
    },
    {
     "name": "stdout",
     "output_type": "stream",
     "text": [
      "epoch: 40, [batch: 700 / 1400], examples_per_second: 10688.9576, train_label_loss: 0.0533, \n"
     ]
    },
    {
     "name": "stdout",
     "output_type": "stream",
     "text": [
      "epoch: 40, [batch: 840 / 1400], examples_per_second: 10724.1708, train_label_loss: 0.0234, \n"
     ]
    },
    {
     "name": "stdout",
     "output_type": "stream",
     "text": [
      "epoch: 40, [batch: 980 / 1400], examples_per_second: 10693.3783, train_label_loss: 0.0075, \n"
     ]
    },
    {
     "name": "stdout",
     "output_type": "stream",
     "text": [
      "epoch: 40, [batch: 1120 / 1400], examples_per_second: 10701.3684, train_label_loss: 0.0364, \n"
     ]
    },
    {
     "name": "stdout",
     "output_type": "stream",
     "text": [
      "epoch: 40, [batch: 1260 / 1400], examples_per_second: 10595.4916, train_label_loss: 0.0335, \n"
     ]
    },
    {
     "name": "stdout",
     "output_type": "stream",
     "text": [
      "=============================================================\n",
      "epoch: 40, source_val_acc_label: 0.9650, source_val_label_loss: 0.4537, target_val_acc_label: 0.9650, target_val_label_loss: 0.4537, \n",
      "=============================================================\n"
     ]
    },
    {
     "name": "stdout",
     "output_type": "stream",
     "text": [
      "epoch: 41, [batch: 1 / 1400], examples_per_second: 57.8476, train_label_loss: 0.0182, \n"
     ]
    },
    {
     "name": "stdout",
     "output_type": "stream",
     "text": [
      "epoch: 41, [batch: 140 / 1400], examples_per_second: 10688.3763, train_label_loss: 0.0222, \n"
     ]
    },
    {
     "name": "stdout",
     "output_type": "stream",
     "text": [
      "epoch: 41, [batch: 280 / 1400], examples_per_second: 10614.6132, train_label_loss: 0.0723, \n"
     ]
    },
    {
     "name": "stdout",
     "output_type": "stream",
     "text": [
      "epoch: 41, [batch: 420 / 1400], examples_per_second: 10702.2034, train_label_loss: 0.0274, \n"
     ]
    },
    {
     "name": "stdout",
     "output_type": "stream",
     "text": [
      "epoch: 41, [batch: 560 / 1400], examples_per_second: 10714.3258, train_label_loss: 0.0046, \n"
     ]
    },
    {
     "name": "stdout",
     "output_type": "stream",
     "text": [
      "epoch: 41, [batch: 700 / 1400], examples_per_second: 10711.0537, train_label_loss: 0.0270, \n"
     ]
    },
    {
     "name": "stdout",
     "output_type": "stream",
     "text": [
      "epoch: 41, [batch: 840 / 1400], examples_per_second: 10708.1330, train_label_loss: 0.0822, \n"
     ]
    },
    {
     "name": "stdout",
     "output_type": "stream",
     "text": [
      "epoch: 41, [batch: 980 / 1400], examples_per_second: 10769.8462, train_label_loss: 0.0125, \n"
     ]
    },
    {
     "name": "stdout",
     "output_type": "stream",
     "text": [
      "epoch: 41, [batch: 1120 / 1400], examples_per_second: 10659.8148, train_label_loss: 0.0171, \n"
     ]
    },
    {
     "name": "stdout",
     "output_type": "stream",
     "text": [
      "epoch: 41, [batch: 1260 / 1400], examples_per_second: 10741.7241, train_label_loss: 0.0216, \n"
     ]
    },
    {
     "name": "stdout",
     "output_type": "stream",
     "text": [
      "=============================================================\n",
      "epoch: 41, source_val_acc_label: 0.9704, source_val_label_loss: 0.4671, target_val_acc_label: 0.9704, target_val_label_loss: 0.4671, \n",
      "=============================================================\n"
     ]
    },
    {
     "name": "stdout",
     "output_type": "stream",
     "text": [
      "New best\n",
      "epoch: 42, [batch: 1 / 1400], examples_per_second: 57.5525, train_label_loss: 0.0174, \n"
     ]
    },
    {
     "name": "stdout",
     "output_type": "stream",
     "text": [
      "epoch: 42, [batch: 140 / 1400], examples_per_second: 10577.8135, train_label_loss: 0.0119, \n"
     ]
    },
    {
     "name": "stdout",
     "output_type": "stream",
     "text": [
      "epoch: 42, [batch: 280 / 1400], examples_per_second: 10648.6963, train_label_loss: 0.3055, \n"
     ]
    },
    {
     "name": "stdout",
     "output_type": "stream",
     "text": [
      "epoch: 42, [batch: 420 / 1400], examples_per_second: 10700.4924, train_label_loss: 0.0216, \n"
     ]
    },
    {
     "name": "stdout",
     "output_type": "stream",
     "text": [
      "epoch: 42, [batch: 560 / 1400], examples_per_second: 10708.0903, train_label_loss: 0.0233, \n"
     ]
    },
    {
     "name": "stdout",
     "output_type": "stream",
     "text": [
      "epoch: 42, [batch: 700 / 1400], examples_per_second: 10700.7422, train_label_loss: 0.0455, \n"
     ]
    },
    {
     "name": "stdout",
     "output_type": "stream",
     "text": [
      "epoch: 42, [batch: 840 / 1400], examples_per_second: 10711.6216, train_label_loss: 0.0089, \n"
     ]
    },
    {
     "name": "stdout",
     "output_type": "stream",
     "text": [
      "epoch: 42, [batch: 980 / 1400], examples_per_second: 10700.3278, train_label_loss: 0.0506, \n"
     ]
    },
    {
     "name": "stdout",
     "output_type": "stream",
     "text": [
      "epoch: 42, [batch: 1120 / 1400], examples_per_second: 10585.7084, train_label_loss: 0.0435, \n"
     ]
    },
    {
     "name": "stdout",
     "output_type": "stream",
     "text": [
      "epoch: 42, [batch: 1260 / 1400], examples_per_second: 10671.5428, train_label_loss: 0.0117, \n"
     ]
    },
    {
     "name": "stdout",
     "output_type": "stream",
     "text": [
      "=============================================================\n",
      "epoch: 42, source_val_acc_label: 0.9683, source_val_label_loss: 0.6003, target_val_acc_label: 0.9683, target_val_label_loss: 0.6003, \n",
      "=============================================================\n"
     ]
    },
    {
     "name": "stdout",
     "output_type": "stream",
     "text": [
      "epoch: 43, [batch: 1 / 1400], examples_per_second: 57.1754, train_label_loss: 0.0168, \n"
     ]
    },
    {
     "name": "stdout",
     "output_type": "stream",
     "text": [
      "epoch: 43, [batch: 140 / 1400], examples_per_second: 10660.8183, train_label_loss: 0.0157, \n"
     ]
    },
    {
     "name": "stdout",
     "output_type": "stream",
     "text": [
      "epoch: 43, [batch: 280 / 1400], examples_per_second: 10786.2337, train_label_loss: 0.0478, \n"
     ]
    },
    {
     "name": "stdout",
     "output_type": "stream",
     "text": [
      "epoch: 43, [batch: 420 / 1400], examples_per_second: 10757.0206, train_label_loss: 0.0241, \n"
     ]
    },
    {
     "name": "stdout",
     "output_type": "stream",
     "text": [
      "epoch: 43, [batch: 560 / 1400], examples_per_second: 10676.8212, train_label_loss: 0.0367, \n"
     ]
    },
    {
     "name": "stdout",
     "output_type": "stream",
     "text": [
      "epoch: 43, [batch: 700 / 1400], examples_per_second: 10703.4165, train_label_loss: 0.0123, \n"
     ]
    },
    {
     "name": "stdout",
     "output_type": "stream",
     "text": [
      "epoch: 43, [batch: 840 / 1400], examples_per_second: 10717.4791, train_label_loss: 0.0277, \n"
     ]
    },
    {
     "name": "stdout",
     "output_type": "stream",
     "text": [
      "epoch: 43, [batch: 980 / 1400], examples_per_second: 10780.3997, train_label_loss: 0.0286, \n"
     ]
    },
    {
     "name": "stdout",
     "output_type": "stream",
     "text": [
      "epoch: 43, [batch: 1120 / 1400], examples_per_second: 10728.1537, train_label_loss: 0.1065, \n"
     ]
    },
    {
     "name": "stdout",
     "output_type": "stream",
     "text": [
      "epoch: 43, [batch: 1260 / 1400], examples_per_second: 10708.1956, train_label_loss: 0.0600, \n"
     ]
    },
    {
     "name": "stdout",
     "output_type": "stream",
     "text": [
      "=============================================================\n",
      "epoch: 43, source_val_acc_label: 0.9639, source_val_label_loss: 0.5725, target_val_acc_label: 0.9639, target_val_label_loss: 0.5725, \n",
      "=============================================================\n"
     ]
    },
    {
     "name": "stdout",
     "output_type": "stream",
     "text": [
      "epoch: 44, [batch: 1 / 1400], examples_per_second: 57.3553, train_label_loss: 0.0638, \n"
     ]
    },
    {
     "name": "stdout",
     "output_type": "stream",
     "text": [
      "epoch: 44, [batch: 140 / 1400], examples_per_second: 10663.1186, train_label_loss: 0.1127, \n"
     ]
    },
    {
     "name": "stdout",
     "output_type": "stream",
     "text": [
      "epoch: 44, [batch: 280 / 1400], examples_per_second: 10722.6440, train_label_loss: 0.1278, \n"
     ]
    },
    {
     "name": "stdout",
     "output_type": "stream",
     "text": [
      "epoch: 44, [batch: 420 / 1400], examples_per_second: 10622.4154, train_label_loss: 0.0074, \n"
     ]
    },
    {
     "name": "stdout",
     "output_type": "stream",
     "text": [
      "epoch: 44, [batch: 560 / 1400], examples_per_second: 10747.8759, train_label_loss: 0.0093, \n"
     ]
    },
    {
     "name": "stdout",
     "output_type": "stream",
     "text": [
      "epoch: 44, [batch: 700 / 1400], examples_per_second: 10746.8294, train_label_loss: 0.0344, \n"
     ]
    },
    {
     "name": "stdout",
     "output_type": "stream",
     "text": [
      "epoch: 44, [batch: 840 / 1400], examples_per_second: 10787.5805, train_label_loss: 0.0384, \n"
     ]
    },
    {
     "name": "stdout",
     "output_type": "stream",
     "text": [
      "epoch: 44, [batch: 980 / 1400], examples_per_second: 10738.5458, train_label_loss: 0.0308, \n"
     ]
    },
    {
     "name": "stdout",
     "output_type": "stream",
     "text": [
      "epoch: 44, [batch: 1120 / 1400], examples_per_second: 10714.2510, train_label_loss: 0.0130, \n"
     ]
    },
    {
     "name": "stdout",
     "output_type": "stream",
     "text": [
      "epoch: 44, [batch: 1260 / 1400], examples_per_second: 10734.4923, train_label_loss: 0.0062, \n"
     ]
    },
    {
     "name": "stdout",
     "output_type": "stream",
     "text": [
      "=============================================================\n",
      "epoch: 44, source_val_acc_label: 0.9602, source_val_label_loss: 0.1937, target_val_acc_label: 0.9602, target_val_label_loss: 0.1937, \n",
      "=============================================================\n"
     ]
    },
    {
     "name": "stdout",
     "output_type": "stream",
     "text": [
      "epoch: 45, [batch: 1 / 1400], examples_per_second: 57.2461, train_label_loss: 0.0361, \n"
     ]
    },
    {
     "name": "stdout",
     "output_type": "stream",
     "text": [
      "epoch: 45, [batch: 140 / 1400], examples_per_second: 10633.5794, train_label_loss: 0.0167, \n"
     ]
    },
    {
     "name": "stdout",
     "output_type": "stream",
     "text": [
      "epoch: 45, [batch: 280 / 1400], examples_per_second: 10703.0279, train_label_loss: 0.0144, \n"
     ]
    },
    {
     "name": "stdout",
     "output_type": "stream",
     "text": [
      "epoch: 45, [batch: 420 / 1400], examples_per_second: 10772.0427, train_label_loss: 0.0108, \n"
     ]
    },
    {
     "name": "stdout",
     "output_type": "stream",
     "text": [
      "epoch: 45, [batch: 560 / 1400], examples_per_second: 10732.2530, train_label_loss: 0.0275, \n"
     ]
    },
    {
     "name": "stdout",
     "output_type": "stream",
     "text": [
      "epoch: 45, [batch: 700 / 1400], examples_per_second: 10723.2666, train_label_loss: 0.0107, \n"
     ]
    },
    {
     "name": "stdout",
     "output_type": "stream",
     "text": [
      "epoch: 45, [batch: 840 / 1400], examples_per_second: 10727.1922, train_label_loss: 0.0200, \n"
     ]
    },
    {
     "name": "stdout",
     "output_type": "stream",
     "text": [
      "epoch: 45, [batch: 980 / 1400], examples_per_second: 10695.4204, train_label_loss: 0.0074, \n"
     ]
    },
    {
     "name": "stdout",
     "output_type": "stream",
     "text": [
      "epoch: 45, [batch: 1120 / 1400], examples_per_second: 10615.3748, train_label_loss: 0.0131, \n"
     ]
    },
    {
     "name": "stdout",
     "output_type": "stream",
     "text": [
      "epoch: 45, [batch: 1260 / 1400], examples_per_second: 10804.0421, train_label_loss: 0.0787, \n"
     ]
    },
    {
     "name": "stdout",
     "output_type": "stream",
     "text": [
      "=============================================================\n",
      "epoch: 45, source_val_acc_label: 0.9690, source_val_label_loss: 0.0997, target_val_acc_label: 0.9690, target_val_label_loss: 0.0997, \n",
      "=============================================================\n"
     ]
    },
    {
     "name": "stdout",
     "output_type": "stream",
     "text": [
      "Patience (3) exhausted\n"
     ]
    }
   ],
   "source": [
    "jig = Vanilla_Train_Eval_Test_Jig(\n",
    "    model=model,\n",
    "    path_to_best_model=p.BEST_MODEL_PATH,\n",
    "    device=p.device,\n",
    "    label_loss_object=torch.nn.NLLLoss(),\n",
    ")\n",
    "\n",
    "jig.train(\n",
    "    train_iterable=datasets.source.processed.train,\n",
    "    source_val_iterable=datasets.source.processed.val,\n",
    "    target_val_iterable=datasets.target.processed.val,\n",
    "    patience=p.patience,\n",
    "    num_epochs=p.n_epoch,\n",
    "    num_logs_per_epoch=p.NUM_LOGS_PER_EPOCH,\n",
    "    criteria_for_best=p.criteria_for_best\n",
    ")"
   ]
  },
  {
   "cell_type": "code",
   "execution_count": 14,
   "id": "4bc2ac17",
   "metadata": {
    "execution": {
     "iopub.execute_input": "2022-03-26T06:31:42.874266Z",
     "iopub.status.busy": "2022-03-26T06:31:42.873905Z",
     "iopub.status.idle": "2022-03-26T06:31:42.876391Z",
     "shell.execute_reply": "2022-03-26T06:31:42.876692Z"
    },
    "papermill": {
     "duration": 0.150862,
     "end_time": "2022-03-26T06:31:42.876773",
     "exception": false,
     "start_time": "2022-03-26T06:31:42.725911",
     "status": "completed"
    },
    "tags": []
   },
   "outputs": [],
   "source": [
    "total_experiment_time_secs = time.time() - start_time_secs"
   ]
  },
  {
   "cell_type": "code",
   "execution_count": 15,
   "id": "cae88f23",
   "metadata": {
    "execution": {
     "iopub.execute_input": "2022-03-26T06:31:43.200704Z",
     "iopub.status.busy": "2022-03-26T06:31:43.199836Z",
     "iopub.status.idle": "2022-03-26T06:32:06.175016Z",
     "shell.execute_reply": "2022-03-26T06:32:06.175742Z"
    },
    "papermill": {
     "duration": 23.154502,
     "end_time": "2022-03-26T06:32:06.175965",
     "exception": false,
     "start_time": "2022-03-26T06:31:43.021463",
     "status": "completed"
    },
    "tags": []
   },
   "outputs": [],
   "source": [
    "source_test_label_accuracy, source_test_label_loss = jig.test(datasets.source.processed.test)\n",
    "target_test_label_accuracy, target_test_label_loss = jig.test(datasets.target.processed.test)\n",
    "\n",
    "source_val_label_accuracy, source_val_label_loss = jig.test(datasets.source.processed.val)\n",
    "target_val_label_accuracy, target_val_label_loss = jig.test(datasets.target.processed.val)\n",
    "\n",
    "history = jig.get_history()\n",
    "\n",
    "total_epochs_trained = len(history[\"epoch_indices\"])\n",
    "\n",
    "val_dl = wrap_in_dataloader(p, Sequence_Aggregator((datasets.source.original.val, datasets.target.original.val)))\n",
    "\n",
    "confusion = confusion_by_domain_over_dataloader(model, p.device, val_dl, forward_uses_domain=False)\n",
    "per_domain_accuracy = per_domain_accuracy_from_confusion(confusion)\n",
    "\n",
    "# Add a key to per_domain_accuracy for if it was a source domain\n",
    "for domain, accuracy in per_domain_accuracy.items():\n",
    "    per_domain_accuracy[domain] = {\n",
    "        \"accuracy\": accuracy,\n",
    "        \"source?\": domain in p.domains_source\n",
    "    }\n",
    "\n",
    "# Do an independent accuracy assesment JUST TO BE SURE!\n",
    "# _source_test_label_accuracy = independent_accuracy_assesment(model, datasets.source.processed.test, p.device)\n",
    "# _target_test_label_accuracy = independent_accuracy_assesment(model, datasets.target.processed.test, p.device)\n",
    "# _source_val_label_accuracy = independent_accuracy_assesment(model, datasets.source.processed.val, p.device)\n",
    "# _target_val_label_accuracy = independent_accuracy_assesment(model, datasets.target.processed.val, p.device)\n",
    "\n",
    "# assert(_source_test_label_accuracy == source_test_label_accuracy)\n",
    "# assert(_target_test_label_accuracy == target_test_label_accuracy)\n",
    "# assert(_source_val_label_accuracy == source_val_label_accuracy)\n",
    "# assert(_target_val_label_accuracy == target_val_label_accuracy)\n",
    "\n",
    "###################################\n",
    "# Write out the results\n",
    "###################################\n",
    "\n",
    "experiment = {\n",
    "    \"experiment_name\": p.experiment_name,\n",
    "    \"parameters\": p,\n",
    "    \"results\": {\n",
    "        \"source_test_label_accuracy\": source_test_label_accuracy,\n",
    "        \"source_test_label_loss\": source_test_label_loss,\n",
    "        \"target_test_label_accuracy\": target_test_label_accuracy,\n",
    "        \"target_test_label_loss\": target_test_label_loss,\n",
    "        \"source_val_label_accuracy\": source_val_label_accuracy,\n",
    "        \"source_val_label_loss\": source_val_label_loss,\n",
    "        \"target_val_label_accuracy\": target_val_label_accuracy,\n",
    "        \"target_val_label_loss\": target_val_label_loss,\n",
    "        \"total_epochs_trained\": total_epochs_trained,\n",
    "        \"total_experiment_time_secs\": total_experiment_time_secs,\n",
    "        \"confusion\": confusion,\n",
    "        \"per_domain_accuracy\": per_domain_accuracy,\n",
    "    },\n",
    "    \"history\": history,\n",
    "    \"dataset_metrics\": get_dataset_metrics(datasets, \"cnn\"),\n",
    "}"
   ]
  },
  {
   "cell_type": "code",
   "execution_count": 16,
   "id": "74c318cf",
   "metadata": {
    "execution": {
     "iopub.execute_input": "2022-03-26T06:32:06.519334Z",
     "iopub.status.busy": "2022-03-26T06:32:06.510397Z",
     "iopub.status.idle": "2022-03-26T06:32:06.694319Z",
     "shell.execute_reply": "2022-03-26T06:32:06.693633Z"
    },
    "papermill": {
     "duration": 0.360325,
     "end_time": "2022-03-26T06:32:06.694482",
     "exception": false,
     "start_time": "2022-03-26T06:32:06.334157",
     "status": "completed"
    },
    "tags": []
   },
   "outputs": [
    {
     "data": {
      "text/plain": [
       "<AxesSubplot:title={'center':'Source Train Label Loss vs Source Val Label Loss'}, xlabel='Epoch'>"
      ]
     },
     "execution_count": 16,
     "metadata": {},
     "output_type": "execute_result"
    },
    {
     "data": {
      "image/png": "[encoded data removed]",
      "text/plain": [
       "<Figure size 1080x504 with 1 Axes>"
      ]
     },
     "metadata": {
      "needs_background": "light"
     },
     "output_type": "display_data"
    }
   ],
   "source": [
    "get_loss_curve(experiment)"
   ]
  },
  {
   "cell_type": "code",
   "execution_count": 17,
   "id": "59376601",
   "metadata": {
    "execution": {
     "iopub.execute_input": "2022-03-26T06:32:07.020507Z",
     "iopub.status.busy": "2022-03-26T06:32:07.012016Z",
     "iopub.status.idle": "2022-03-26T06:32:07.374671Z",
     "shell.execute_reply": "2022-03-26T06:32:07.374981Z"
    },
    "papermill": {
     "duration": 0.527684,
     "end_time": "2022-03-26T06:32:07.375068",
     "exception": false,
     "start_time": "2022-03-26T06:32:06.847384",
     "status": "completed"
    },
    "tags": []
   },
   "outputs": [
    {
     "data": {
      "text/plain": [
       "<AxesSubplot:title={'center':'Results'}>"
      ]
     },
     "execution_count": 17,
     "metadata": {},
     "output_type": "execute_result"
    },
    {
     "data": {
      "image/png": "[encoded data removed]",
      "text/plain": [
       "<Figure size 1080x504 with 1 Axes>"
      ]
     },
     "metadata": {
      "needs_background": "light"
     },
     "output_type": "display_data"
    }
   ],
   "source": [
    "get_results_table(experiment)"
   ]
  },
  {
   "cell_type": "code",
   "execution_count": 18,
   "id": "e80c5c98",
   "metadata": {
    "execution": {
     "iopub.execute_input": "2022-03-26T06:32:07.702917Z",
     "iopub.status.busy": "2022-03-26T06:32:07.701585Z",
     "iopub.status.idle": "2022-03-26T06:32:07.862753Z",
     "shell.execute_reply": "2022-03-26T06:32:07.862385Z"
    },
    "papermill": {
     "duration": 0.337489,
     "end_time": "2022-03-26T06:32:07.862824",
     "exception": false,
     "start_time": "2022-03-26T06:32:07.525335",
     "status": "completed"
    },
    "tags": []
   },
   "outputs": [
    {
     "data": {
      "text/plain": [
       "<AxesSubplot:title={'center':'Per Domain Accuracy'}, xlabel='domain'>"
      ]
     },
     "execution_count": 18,
     "metadata": {},
     "output_type": "execute_result"
    },
    {
     "data": {
      "image/png": "[encoded data removed]",
      "text/plain": [
       "<Figure size 1080x504 with 1 Axes>"
      ]
     },
     "metadata": {
      "needs_background": "light"
     },
     "output_type": "display_data"
    }
   ],
   "source": [
    "get_domain_accuracies(experiment)"
   ]
  },
  {
   "cell_type": "code",
   "execution_count": 19,
   "id": "086fdd10",
   "metadata": {
    "execution": {
     "iopub.execute_input": "2022-03-26T06:32:08.167709Z",
     "iopub.status.busy": "2022-03-26T06:32:08.166762Z",
     "iopub.status.idle": "2022-03-26T06:32:08.172784Z",
     "shell.execute_reply": "2022-03-26T06:32:08.171968Z"
    },
    "papermill": {
     "duration": 0.158663,
     "end_time": "2022-03-26T06:32:08.172942",
     "exception": false,
     "start_time": "2022-03-26T06:32:08.014279",
     "status": "completed"
    },
    "tags": []
   },
   "outputs": [
    {
     "name": "stdout",
     "output_type": "stream",
     "text": [
      "Source Test Label Accuracy: 0.971953125 Target Test Label Accuracy: 0.971953125\n",
      "Source Val Label Accuracy: 0.9704166666666667 Target Val Label Accuracy: 0.9704166666666667\n"
     ]
    }
   ],
   "source": [
    "print(\"Source Test Label Accuracy:\", experiment[\"results\"][\"source_test_label_accuracy\"], \"Target Test Label Accuracy:\", experiment[\"results\"][\"target_test_label_accuracy\"])\n",
    "print(\"Source Val Label Accuracy:\", experiment[\"results\"][\"source_val_label_accuracy\"], \"Target Val Label Accuracy:\", experiment[\"results\"][\"target_val_label_accuracy\"])"
   ]
  },
  {
   "cell_type": "code",
   "execution_count": 20,
   "id": "9f450536",
   "metadata": {
    "execution": {
     "iopub.execute_input": "2022-03-26T06:32:08.488968Z",
     "iopub.status.busy": "2022-03-26T06:32:08.488604Z",
     "iopub.status.idle": "2022-03-26T06:32:08.492129Z",
     "shell.execute_reply": "2022-03-26T06:32:08.491759Z"
    },
    "papermill": {
     "duration": 0.162504,
     "end_time": "2022-03-26T06:32:08.492200",
     "exception": false,
     "start_time": "2022-03-26T06:32:08.329696",
     "status": "completed"
    },
    "tags": [
     "experiment_json"
    ]
   },
   "outputs": [
    {
     "data": {
      "text/plain": [
       "'{\"experiment_name\": \"cnn_2:oracle.run1.framed\", \"parameters\": {\"experiment_name\": \"cnn_2:oracle.run1.framed\", \"labels\": [\"3123D52\", \"3123D65\", \"3123D79\", \"3123D80\", \"3123D54\", \"3123D70\", \"3123D7B\", \"3123D89\", \"3123D58\", \"3123D76\", \"3123D7D\", \"3123EFE\", \"3123D64\", \"3123D78\", \"3123D7E\", \"3124E4A\"], \"domains_source\": [8, 32, 50, 14, 20, 26, 38, 44], \"domains_target\": [8, 32, 50, 14, 20, 26, 38, 44], \"pickle_name_source\": \"oracle.Run1_framed_2000Examples_stratified_ds.2022A.pkl\", \"pickle_name_target\": \"oracle.Run1_framed_2000Examples_stratified_ds.2022A.pkl\", \"device\": \"cuda\", \"lr\": 0.0001, \"batch_size\": 128, \"normalize_source\": false, \"normalize_target\": false, \"num_examples_per_domain_per_label_source\": -1, \"num_examples_per_domain_per_label_target\": -1, \"torch_default_dtype\": \"torch.float32\", \"n_epoch\": 50, \"patience\": 3, \"criteria_for_best\": \"target_accuracy\", \"x_net\": [{\"class\": \"nnReshape\", \"kargs\": {\"shape\": [-1, 1, 2, 256]}}, {\"class\": \"Conv2d\", \"kargs\": {\"in_channels\": 1, \"out_channels\": 256, \"kernel_size\": [1, 7], \"bias\": false, \"padding\": [0, 3]}}, {\"class\": \"ReLU\", \"kargs\": {\"inplace\": true}}, {\"class\": \"BatchNorm2d\", \"kargs\": {\"num_features\": 256}}, {\"class\": \"Conv2d\", \"kargs\": {\"in_channels\": 256, \"out_channels\": 80, \"kernel_size\": [2, 7], \"bias\": true, \"padding\": [0, 3]}}, {\"class\": \"ReLU\", \"kargs\": {\"inplace\": true}}, {\"class\": \"BatchNorm2d\", \"kargs\": {\"num_features\": 80}}, {\"class\": \"Flatten\", \"kargs\": {}}, {\"class\": \"Linear\", \"kargs\": {\"in_features\": 20480, \"out_features\": 256}}, {\"class\": \"ReLU\", \"kargs\": {\"inplace\": true}}, {\"class\": \"BatchNorm1d\", \"kargs\": {\"num_features\": 256}}, {\"class\": \"Linear\", \"kargs\": {\"in_features\": 256, \"out_features\": 16}}], \"NUM_LOGS_PER_EPOCH\": 10, \"BEST_MODEL_PATH\": \"./best_model.pth\", \"dataset_seed\": 154325, \"seed\": 154325}, \"results\": {\"source_test_label_accuracy\": 0.971953125, \"source_test_label_loss\": 0.7344557551946491, \"target_test_label_accuracy\": 0.971953125, \"target_test_label_loss\": 0.7344557308157285, \"source_val_label_accuracy\": 0.9704166666666667, \"source_val_label_loss\": 0.46710210873745384, \"target_val_label_accuracy\": 0.9704166666666667, \"target_val_label_loss\": 0.46710211765021087, \"total_epochs_trained\": 45, \"total_experiment_time_secs\": 852.4553368091583, \"confusion\": {\"8\": {\"1\": {\"1\": 592, \"11\": 8}, \"10\": {\"10\": 592, \"13\": 8}, \"15\": {\"15\": 594, \"12\": 4, \"1\": 2}, \"3\": {\"3\": 598, \"2\": 2}, \"0\": {\"0\": 600}, \"7\": {\"7\": 596, \"6\": 4}, \"12\": {\"12\": 554, \"15\": 22, \"4\": 20, \"10\": 4}, \"2\": {\"2\": 566, \"12\": 4, \"1\": 4, \"3\": 20, \"9\": 6}, \"11\": {\"11\": 598, \"1\": 2}, \"13\": {\"13\": 550, \"10\": 50}, \"14\": {\"14\": 600}, \"6\": {\"6\": 522, \"7\": 74, \"4\": 2, \"13\": 2}, \"9\": {\"9\": 600}, \"4\": {\"4\": 600}, \"5\": {\"5\": 600}, \"8\": {\"8\": 600}}, \"26\": {\"11\": {\"11\": 600}, \"2\": {\"2\": 552, \"3\": 34, \"13\": 4, \"7\": 8, \"9\": 2}, \"7\": {\"7\": 538, \"2\": 14, \"3\": 26, \"8\": 22}, \"3\": {\"3\": 574, \"7\": 14, \"2\": 12}, \"9\": {\"9\": 592, \"8\": 4, \"13\": 2, \"15\": 2}, \"8\": {\"8\": 558, \"9\": 2, \"7\": 18, \"0\": 14, \"10\": 4, \"2\": 4}, \"15\": {\"15\": 572, \"6\": 22, \"10\": 4, \"9\": 2}, \"5\": {\"5\": 600}, \"12\": {\"12\": 600}, \"6\": {\"6\": 586, \"15\": 10, \"10\": 4}, \"0\": {\"0\": 494, \"10\": 102, \"15\": 4}, \"14\": {\"14\": 600}, \"10\": {\"10\": 564, \"6\": 2, \"0\": 32, \"15\": 2}, \"4\": {\"4\": 600}, \"13\": {\"13\": 584, \"2\": 14, \"0\": 2}, \"1\": {\"1\": 596, \"0\": 2, \"10\": 2}}, \"38\": {\"0\": {\"0\": 526, \"4\": 38, \"15\": 2, \"7\": 8, \"11\": 4, \"13\": 16, \"10\": 2, \"8\": 4}, \"2\": {\"2\": 590, \"7\": 8, \"13\": 2}, \"8\": {\"8\": 574, \"7\": 10, \"4\": 6, \"15\": 8, \"1\": 2}, \"10\": {\"10\": 590, \"4\": 2, \"0\": 8}, \"6\": {\"6\": 600}, \"15\": {\"15\": 596, \"1\": 4}, \"1\": {\"1\": 598, \"15\": 2}, \"13\": {\"13\": 544, \"7\": 2, \"10\": 28, \"2\": 8, \"4\": 10, \"0\": 4, \"11\": 2, \"8\": 2}, \"3\": {\"3\": 592, \"0\": 6, \"10\": 2}, \"4\": {\"4\": 600}, \"9\": {\"9\": 598, \"7\": 2}, \"12\": {\"12\": 600}, \"5\": {\"5\": 600}, \"14\": {\"14\": 598, \"2\": 2}, \"7\": {\"7\": 598, \"0\": 2}, \"11\": {\"11\": 576, \"4\": 10, \"0\": 8, \"10\": 6}}, \"44\": {\"8\": {\"0\": 106, \"8\": 476, \"15\": 14, \"6\": 4}, \"4\": {\"15\": 28, \"4\": 570, \"0\": 2}, \"13\": {\"13\": 488, \"6\": 102, \"9\": 6, \"11\": 2, \"0\": 2}, \"11\": {\"11\": 600}, \"10\": {\"10\": 594, \"1\": 2, \"2\": 4}, \"9\": {\"7\": 134, \"9\": 362, \"6\": 70, \"13\": 32, \"2\": 2}, \"0\": {\"0\": 584, \"8\": 14, \"13\": 2}, \"7\": {\"7\": 570, \"9\": 22, \"2\": 8}, \"1\": {\"1\": 584, \"2\": 10, \"10\": 2, \"7\": 4}, \"3\": {\"3\": 592, \"13\": 4, \"2\": 2, \"4\": 2}, \"12\": {\"12\": 592, \"13\": 2, \"3\": 6}, \"2\": {\"2\": 598, \"1\": 2}, \"5\": {\"5\": 598, \"7\": 2}, \"15\": {\"15\": 570, \"4\": 10, \"8\": 4, \"0\": 8, \"6\": 8}, \"14\": {\"14\": 600}, \"6\": {\"6\": 566, \"13\": 26, \"7\": 2, \"9\": 6}}, \"50\": {\"8\": {\"8\": 600}, \"9\": {\"9\": 586, \"12\": 6, \"0\": 2, \"7\": 2, \"11\": 4}, \"11\": {\"11\": 580, \"9\": 14, \"15\": 2, \"8\": 4}, \"15\": {\"15\": 584, \"4\": 12, \"8\": 2, \"6\": 2}, \"6\": {\"6\": 584, \"15\": 14, \"13\": 2}, \"7\": {\"7\": 584, \"2\": 14, \"4\": 2}, \"2\": {\"2\": 566, \"0\": 34}, \"0\": {\"0\": 586, \"10\": 10, \"2\": 4}, \"12\": {\"12\": 590, \"9\": 8, \"11\": 2}, \"1\": {\"1\": 574, \"15\": 26}, \"10\": {\"10\": 596, \"8\": 2, \"0\": 2}, \"14\": {\"14\": 600}, \"13\": {\"13\": 596, \"6\": 2, \"14\": 2}, \"4\": {\"4\": 538, \"8\": 2, \"10\": 2, \"7\": 6, \"15\": 14, \"0\": 30, \"13\": 8}, \"5\": {\"5\": 594, \"14\": 6}, \"3\": {\"3\": 600}}, \"32\": {\"2\": {\"2\": 596, \"4\": 4}, \"13\": {\"13\": 586, \"4\": 2, \"3\": 10, \"12\": 2}, \"3\": {\"3\": 590, \"13\": 8, \"8\": 2}, \"7\": {\"7\": 584, \"0\": 10, \"3\": 2, \"1\": 4}, \"4\": {\"4\": 598, \"3\": 2}, \"10\": {\"10\": 600}, \"6\": {\"6\": 600}, \"9\": {\"9\": 598, \"1\": 2}, \"8\": {\"8\": 576, \"0\": 20, \"1\": 4}, \"15\": {\"15\": 600}, \"1\": {\"1\": 598, \"3\": 2}, \"5\": {\"5\": 600}, \"14\": {\"14\": 598, \"8\": 2}, \"12\": {\"12\": 600}, \"0\": {\"0\": 584, \"8\": 16}, \"11\": {\"11\": 592, \"13\": 6, \"15\": 2}}, \"14\": {\"8\": {\"8\": 596, \"11\": 4}, \"4\": {\"4\": 600}, \"3\": {\"3\": 600}, \"6\": {\"6\": 502, \"13\": 98}, \"15\": {\"15\": 600}, \"13\": {\"13\": 560, \"6\": 32, \"4\": 2, \"2\": 4, \"3\": 2}, \"1\": {\"1\": 600}, \"10\": {\"10\": 600}, \"7\": {\"7\": 600}, \"0\": {\"0\": 598, \"9\": 2}, \"14\": {\"14\": 600}, \"5\": {\"5\": 600}, \"9\": {\"9\": 600}, \"11\": {\"11\": 600}, \"2\": {\"2\": 576, \"3\": 8, \"13\": 10, \"6\": 4, \"4\": 2}, \"12\": {\"12\": 600}}, \"20\": {\"2\": {\"2\": 578, \"9\": 20, \"7\": 2}, \"5\": {\"5\": 600}, \"12\": {\"12\": 560, \"9\": 8, \"2\": 2, \"1\": 26, \"3\": 4}, \"11\": {\"11\": 600}, \"8\": {\"8\": 600}, \"15\": {\"15\": 582, \"1\": 16, \"12\": 2}, \"6\": {\"6\": 596, \"10\": 4}, \"1\": {\"1\": 594, \"12\": 6}, \"4\": {\"4\": 592, \"12\": 8}, \"7\": {\"7\": 580, \"2\": 18, \"3\": 2}, \"14\": {\"14\": 600}, \"3\": {\"3\": 512, \"2\": 48, \"9\": 34, \"1\": 4, \"12\": 2}, \"0\": {\"0\": 598, \"15\": 2}, \"13\": {\"13\": 590, \"2\": 10}, \"10\": {\"10\": 600}, \"9\": {\"9\": 560, \"2\": 36, \"3\": 4}}}, \"per_domain_accuracy\": {\"8\": {\"accuracy\": 0.9752083333333333, \"source?\": true}, \"26\": {\"accuracy\": 0.959375, \"source?\": true}, \"38\": {\"accuracy\": 0.9770833333333333, \"source?\": true}, \"44\": {\"accuracy\": 0.9316666666666666, \"source?\": true}, \"50\": {\"accuracy\": 0.9747916666666666, \"source?\": true}, \"32\": {\"accuracy\": 0.9895833333333334, \"source?\": true}, \"14\": {\"accuracy\": 0.9825, \"source?\": true}, \"20\": {\"accuracy\": 0.973125, \"source?\": true}}}, \"history\": {\"epoch_indices\": [1, 2, 3, 4, 5, 6, 7, 8, 9, 10, 11, 12, 13, 14, 15, 16, 17, 18, 19, 20, 21, 22, 23, 24, 25, 26, 27, 28, 29, 30, 31, 32, 33, 34, 35, 36, 37, 38, 39, 40, 41, 42, 43, 44, 45], \"train_label_loss\": [2.1897289051328386, 1.0136564188769885, 0.5446812534970896, 0.37751163045210495, 0.28828102447092535, 0.2379933023239885, 0.21034996903368405, 0.18240954758333308, 0.17017091297677586, 0.15372854829366717, 0.14318907275529844, 0.1401346141978034, 0.118448860855507, 0.11264546687448664, 0.10576452582542385, 0.0970235371882362, 0.0941575042743768, 0.08800973941838103, 0.08601149734442255, 0.08435274256260267, 0.07860635719927293, 0.0711094446846151, 0.07830741562481437, 0.06703287262269961, 0.05904962886523987, 0.06105019758521978, 0.06063112106107708, 0.055209093101189606, 0.052521980810644374, 0.053847169071169834, 0.05085689812566021, 0.04812093298250277, 0.047600496024824676, 0.04294400515101318, 0.04762575549206564, 0.03926231352712161, 0.040699954108401604, 0.03831748176199783, 0.03712697917811705, 0.03546541230320664, 0.033074015059974045, 0.032997550131985916, 0.035353724229914535, 0.033727540636734506, 0.030118114989184375], \"source_val_label_loss\": [1.457848655382792, 0.7057370338837305, 0.38142120391130446, 0.341148929198583, 0.2644145814081033, 0.21952842764556407, 0.19248248100280763, 0.5102487153063218, 0.2437586567054192, 0.15163075568775336, 0.3312270014236371, 0.21190208315849304, 0.2563195097694794, 0.17663471199572087, 0.3291348651672403, 0.22160912348578374, 0.14648423860470453, 0.28060526203364133, 0.15557864421357712, 0.2631020260726412, 0.2650091816609104, 0.11190530210733414, 0.19966404523700476, 0.1082943241732816, 0.1408458163154622, 0.13085077631597716, 0.10335612401366234, 0.14640974518532554, 0.18482036020606757, 0.5625446661251287, 0.12045659574990471, 0.12072964902967215, 0.26857135134438676, 0.20079800464212894, 0.11313166509382427, 0.1232588919562598, 0.12080184426779549, 0.5006501644166808, 0.09425013828712205, 0.4537054667559763, 0.46710209295153615, 0.6003044273518026, 0.5725402108828227, 0.19365004543835918, 0.09966583324906726], \"target_val_label_loss\": [1.457848664522171, 0.7057370307048162, 0.3814212029178937, 0.3411489314834277, 0.2644145801663399, 0.2195284220824639, 0.1924824776252111, 0.5102487118045489, 0.2437586495280266, 0.151630755191048, 0.33122699802120525, 0.21190208124617735, 0.2563195041939616, 0.1766347104931871, 0.3291348805775245, 0.2216091367105643, 0.14648423726360002, 0.2806052680934469, 0.15557864526907603, 0.26310202036052943, 0.26500917572528127, 0.11190530159821113, 0.1996640411267678, 0.10829432453339298, 0.14084581738958757, 0.1308507744098703, 0.10335612283398708, 0.1464097484946251, 0.18482036381959915, 0.5625446546481302, 0.12045659585545461, 0.12072964848329623, 0.26857134321083626, 0.20079800374805928, 0.11313166728243232, 0.12325889488992592, 0.12080184344823162, 0.5006501583382488, 0.09425013915325205, 0.453705485984683, 0.46710212347408137, 0.6003044004521022, 0.5725402277645966, 0.1936500465683639, 0.09966583424558242], \"source_val_acc_label\": [0.5787760416666666, 0.8066666666666666, 0.9075, 0.9019270833333334, 0.9266666666666666, 0.942421875, 0.944140625, 0.938203125, 0.9395052083333333, 0.9523697916666667, 0.95703125, 0.9484375, 0.9483072916666667, 0.9580989583333334, 0.9597135416666667, 0.95484375, 0.95421875, 0.9584375, 0.9615625, 0.9621354166666667, 0.9458072916666667, 0.9657552083333333, 0.962421875, 0.964921875, 0.9659895833333333, 0.9641666666666666, 0.9653385416666667, 0.9674479166666666, 0.9571354166666667, 0.964765625, 0.9677604166666667, 0.9678645833333334, 0.9653125, 0.9659635416666666, 0.968125, 0.9611979166666667, 0.9631510416666667, 0.9601302083333333, 0.9690104166666667, 0.9650260416666666, 0.9704166666666667, 0.9683333333333334, 0.9639322916666667, 0.960234375, 0.9689583333333334], \"target_val_acc_label\": [0.5787760416666666, 0.8066666666666666, 0.9075, 0.9019270833333334, 0.9266666666666666, 0.942421875, 0.944140625, 0.938203125, 0.9395052083333333, 0.9523697916666667, 0.95703125, 0.9484375, 0.9483072916666667, 0.9580989583333334, 0.9597135416666667, 0.95484375, 0.95421875, 0.9584375, 0.9615625, 0.9621354166666667, 0.9458072916666667, 0.9657552083333333, 0.962421875, 0.964921875, 0.9659895833333333, 0.9641666666666666, 0.9653385416666667, 0.9674479166666666, 0.9571354166666667, 0.964765625, 0.9677604166666667, 0.9678645833333334, 0.9653125, 0.9659635416666666, 0.968125, 0.9611979166666667, 0.9631510416666667, 0.9601302083333333, 0.9690104166666667, 0.9650260416666666, 0.9704166666666667, 0.9683333333333334, 0.9639322916666667, 0.960234375, 0.9689583333333334]}, \"dataset_metrics\": {\"source\": {\"train\": {\"n_unique_x\": 179200, \"n_unique_y\": 16, \"n_batch/episode\": 1400}, \"val\": {\"n_unique_x\": 38400, \"n_unique_y\": 16, \"n_batch/episode\": 300}, \"test\": {\"n_unique_x\": 38400, \"n_unique_y\": 16, \"n_batch/episode\": 300}}, \"target\": {\"train\": {\"n_unique_x\": 179200, \"n_unique_y\": 16, \"n_batch/episode\": 1400}, \"val\": {\"n_unique_x\": 38400, \"n_unique_y\": 16, \"n_batch/episode\": 300}, \"test\": {\"n_unique_x\": 38400, \"n_unique_y\": 16, \"n_batch/episode\": 300}}}}'"
      ]
     },
     "execution_count": 20,
     "metadata": {},
     "output_type": "execute_result"
    }
   ],
   "source": [
    "json.dumps(experiment)"
   ]
  }
 ],
 "metadata": {
  "celltoolbar": "Tags",
  "kernelspec": {
   "display_name": "Python 3 (ipykernel)",
   "language": "python",
   "name": "python3"
  },
  "language_info": {
   "codemirror_mode": {
    "name": "ipython",
    "version": 3
   },
   "file_extension": ".py",
   "mimetype": "text/x-python",
   "name": "python",
   "nbconvert_exporter": "python",
   "pygments_lexer": "ipython3",
   "version": "3.8.12"
  },
  "papermill": {
   "default_parameters": {},
   "duration": 883.417146,
   "end_time": "2022-03-26T06:32:11.261973",
   "environment_variables": {},
   "exception": null,
   "input_path": "/root/csc500-main/csc500-notebooks/templates/cnn_template.ipynb",
   "output_path": "trial.ipynb",
   "parameters": {
    "parameters": {
     "BEST_MODEL_PATH": "./best_model.pth",
     "NUM_LOGS_PER_EPOCH": 10,
     "batch_size": 128,
     "criteria_for_best": "target_accuracy",
     "dataset_seed": 154325,
     "device": "cuda",
     "domains_source": [
      8,
      32,
      50,
      14,
      20,
      26,
      38,
      44
     ],
     "domains_target": [
      8,
      32,
      50,
      14,
      20,
      26,
      38,
      44
     ],
     "experiment_name": "cnn_2:oracle.run1.framed",
     "labels": [
      "3123D52",
      "3123D65",
      "3123D79",
      "3123D80",
      "3123D54",
      "3123D70",
      "3123D7B",
      "3123D89",
      "3123D58",
      "3123D76",
      "3123D7D",
      "3123EFE",
      "3123D64",
      "3123D78",
      "3123D7E",
      "3124E4A"
     ],
     "lr": 0.0001,
     "n_epoch": 50,
     "normalize_source": false,
     "normalize_target": false,
     "num_examples_per_domain_per_label_source": -1,
     "num_examples_per_domain_per_label_target": -1,
     "patience": 3,
     "pickle_name_source": "oracle.Run1_framed_2000Examples_stratified_ds.2022A.pkl",
     "pickle_name_target": "oracle.Run1_framed_2000Examples_stratified_ds.2022A.pkl",
     "seed": 154325,
     "torch_default_dtype": "torch.float32",
     "x_net": [
      {
       "class": "nnReshape",
       "kargs": {
        "shape": [
         -1,
         1,
         2,
         256
        ]
       }
      },
      {
       "class": "Conv2d",
       "kargs": {
        "bias": false,
        "in_channels": 1,
        "kernel_size": [
         1,
         7
        ],
        "out_channels": 256,
        "padding": [
         0,
         3
        ]
       }
      },
      {
       "class": "ReLU",
       "kargs": {
        "inplace": true
       }
      },
      {
       "class": "BatchNorm2d",
       "kargs": {
        "num_features": 256
       }
      },
      {
       "class": "Conv2d",
       "kargs": {
        "bias": true,
        "in_channels": 256,
        "kernel_size": [
         2,
         7
        ],
        "out_channels": 80,
        "padding": [
         0,
         3
        ]
       }
      },
      {
       "class": "ReLU",
       "kargs": {
        "inplace": true
       }
      },
      {
       "class": "BatchNorm2d",
       "kargs": {
        "num_features": 80
       }
      },
      {
       "class": "Flatten",
       "kargs": {}
      },
      {
       "class": "Linear",
       "kargs": {
        "in_features": 20480,
        "out_features": 256
       }
      },
      {
       "class": "ReLU",
       "kargs": {
        "inplace": true
       }
      },
      {
       "class": "BatchNorm1d",
       "kargs": {
        "num_features": 256
       }
      },
      {
       "class": "Linear",
       "kargs": {
        "in_features": 256,
        "out_features": 16
       }
      }
     ]
    }
   },
   "start_time": "2022-03-26T06:17:27.844827",
   "version": "2.3.4"
  }
 },
 "nbformat": 4,
 "nbformat_minor": 5
}