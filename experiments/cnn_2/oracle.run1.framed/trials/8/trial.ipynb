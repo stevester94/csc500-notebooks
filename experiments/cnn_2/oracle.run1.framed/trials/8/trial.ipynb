{
 "cells": [
  {
   "cell_type": "code",
   "execution_count": 1,
   "id": "2324682e",
   "metadata": {
    "execution": {
     "iopub.execute_input": "2022-03-26T05:46:47.871957Z",
     "iopub.status.busy": "2022-03-26T05:46:47.871060Z",
     "iopub.status.idle": "2022-03-26T05:46:49.178940Z",
     "shell.execute_reply": "2022-03-26T05:46:49.178071Z"
    },
    "papermill": {
     "duration": 1.345723,
     "end_time": "2022-03-26T05:46:49.179132",
     "exception": false,
     "start_time": "2022-03-26T05:46:47.833409",
     "status": "completed"
    },
    "tags": []
   },
   "outputs": [],
   "source": [
    "import os, json, sys, time, random\n",
    "import numpy as np\n",
    "import torch\n",
    "from  easydict import EasyDict\n",
    "from math import floor\n",
    "from easydict import EasyDict\n",
    "\n",
    "from steves_utils.vanilla_train_eval_test_jig import  Vanilla_Train_Eval_Test_Jig\n",
    "\n",
    "from steves_utils.torch_utils import get_dataset_metrics, independent_accuracy_assesment\n",
    "from steves_models.configurable_vanilla import Configurable_Vanilla\n",
    "from steves_utils.torch_sequential_builder import build_sequential\n",
    "from steves_utils.lazy_map import Lazy_Map\n",
    "from steves_utils.sequence_aggregator import Sequence_Aggregator\n",
    "\n",
    "from steves_utils.stratified_dataset.traditional_accessor import Traditional_Accessor_Factory\n",
    "\n",
    "from steves_utils.cnn_do_report import (\n",
    "    get_loss_curve,\n",
    "    get_results_table,\n",
    "    get_parameters_table,\n",
    "    get_domain_accuracies,\n",
    ")\n",
    "\n",
    "from steves_utils.torch_utils import (\n",
    "    confusion_by_domain_over_dataloader,\n",
    "    independent_accuracy_assesment\n",
    ")\n",
    "\n",
    "from steves_utils.utils_v2 import (\n",
    "    per_domain_accuracy_from_confusion,\n",
    "    get_datasets_base_path\n",
    ")\n",
    "\n",
    "# from steves_utils.ptn_do_report import TBD"
   ]
  },
  {
   "cell_type": "code",
   "execution_count": 2,
   "id": "1b29e3fe",
   "metadata": {
    "execution": {
     "iopub.execute_input": "2022-03-26T05:46:49.216979Z",
     "iopub.status.busy": "2022-03-26T05:46:49.216593Z",
     "iopub.status.idle": "2022-03-26T05:46:49.219005Z",
     "shell.execute_reply": "2022-03-26T05:46:49.219311Z"
    },
    "papermill": {
     "duration": 0.021442,
     "end_time": "2022-03-26T05:46:49.219408",
     "exception": false,
     "start_time": "2022-03-26T05:46:49.197966",
     "status": "completed"
    },
    "tags": []
   },
   "outputs": [],
   "source": [
    "required_parameters = {\n",
    "    \"experiment_name\",\n",
    "    \"lr\",\n",
    "    \"device\",\n",
    "    \"dataset_seed\",\n",
    "    \"seed\",\n",
    "    \"labels\",\n",
    "    \"domains_target\",\n",
    "    \"domains_source\",\n",
    "    \"num_examples_per_domain_per_label_source\",\n",
    "    \"num_examples_per_domain_per_label_target\",\n",
    "    \"batch_size\",\n",
    "    \"n_epoch\",\n",
    "    \"patience\",\n",
    "    \"criteria_for_best\",\n",
    "    \"normalize_source\",\n",
    "    \"normalize_target\",\n",
    "    \"x_net\",\n",
    "    \"NUM_LOGS_PER_EPOCH\",\n",
    "    \"BEST_MODEL_PATH\",\n",
    "    \"pickle_name_source\",\n",
    "    \"pickle_name_target\",\n",
    "    \"torch_default_dtype\",\n",
    "}"
   ]
  },
  {
   "cell_type": "code",
   "execution_count": 3,
   "id": "670b5fb8",
   "metadata": {
    "execution": {
     "iopub.execute_input": "2022-03-26T05:46:49.263635Z",
     "iopub.status.busy": "2022-03-26T05:46:49.262736Z",
     "iopub.status.idle": "2022-03-26T05:46:49.269816Z",
     "shell.execute_reply": "2022-03-26T05:46:49.269016Z"
    },
    "papermill": {
     "duration": 0.032843,
     "end_time": "2022-03-26T05:46:49.269971",
     "exception": false,
     "start_time": "2022-03-26T05:46:49.237128",
     "status": "completed"
    },
    "tags": [
     "parameters"
    ]
   },
   "outputs": [],
   "source": [
    "from steves_utils.ORACLE.utils_v2 import (\n",
    "    ALL_SERIAL_NUMBERS,\n",
    "    ALL_DISTANCES_FEET_NARROWED,\n",
    ")\n",
    "\n",
    "standalone_parameters = {}\n",
    "standalone_parameters[\"experiment_name\"] = \"MANUAL CORES CNN\"\n",
    "standalone_parameters[\"lr\"] = 0.0001\n",
    "standalone_parameters[\"device\"] = \"cuda\"\n",
    "\n",
    "standalone_parameters[\"dataset_seed\"] = 1337\n",
    "standalone_parameters[\"seed\"] = 1337\n",
    "standalone_parameters[\"labels\"] = ALL_SERIAL_NUMBERS\n",
    "\n",
    "standalone_parameters[\"domains_source\"] = [8,32,50]\n",
    "standalone_parameters[\"domains_target\"] = [14,20,26,38,44,]\n",
    "\n",
    "standalone_parameters[\"num_examples_per_domain_per_label_source\"]=-1\n",
    "standalone_parameters[\"num_examples_per_domain_per_label_target\"]=-1\n",
    "\n",
    "standalone_parameters[\"pickle_name_source\"] = \"oracle.Run1_framed_2000Examples_stratified_ds.2022A.pkl\"\n",
    "standalone_parameters[\"pickle_name_target\"] = \"oracle.Run2_framed_2000Examples_stratified_ds.2022A.pkl\"\n",
    "\n",
    "standalone_parameters[\"torch_default_dtype\"] = \"torch.float32\" \n",
    "\n",
    "standalone_parameters[\"batch_size\"]=128\n",
    "\n",
    "standalone_parameters[\"n_epoch\"] = 3\n",
    "\n",
    "standalone_parameters[\"patience\"] = 10\n",
    "\n",
    "standalone_parameters[\"criteria_for_best\"] = \"target_accuracy\"\n",
    "standalone_parameters[\"normalize_source\"] = False\n",
    "standalone_parameters[\"normalize_target\"] = False\n",
    "\n",
    "standalone_parameters[\"x_net\"] =     [\n",
    "    {\"class\": \"nnReshape\", \"kargs\": {\"shape\":[-1, 1, 2, 256]}},\n",
    "    {\"class\": \"Conv2d\", \"kargs\": { \"in_channels\":1, \"out_channels\":256, \"kernel_size\":(1,7), \"bias\":False, \"padding\":(0,3), },},\n",
    "    {\"class\": \"ReLU\", \"kargs\": {\"inplace\": True}},\n",
    "    {\"class\": \"BatchNorm2d\", \"kargs\": {\"num_features\":256}},\n",
    "\n",
    "    {\"class\": \"Conv2d\", \"kargs\": { \"in_channels\":256, \"out_channels\":80, \"kernel_size\":(2,7), \"bias\":True, \"padding\":(0,3), },},\n",
    "    {\"class\": \"ReLU\", \"kargs\": {\"inplace\": True}},\n",
    "    {\"class\": \"BatchNorm2d\", \"kargs\": {\"num_features\":80}},\n",
    "    {\"class\": \"Flatten\", \"kargs\": {}},\n",
    "\n",
    "    {\"class\": \"Linear\", \"kargs\": {\"in_features\": 80*256, \"out_features\": 256}}, # 80 units per IQ pair\n",
    "    {\"class\": \"ReLU\", \"kargs\": {\"inplace\": True}},\n",
    "    {\"class\": \"BatchNorm1d\", \"kargs\": {\"num_features\":256}},\n",
    "\n",
    "    {\"class\": \"Linear\", \"kargs\": {\"in_features\": 256, \"out_features\": len(standalone_parameters[\"labels\"])}},\n",
    "]\n",
    "\n",
    "standalone_parameters[\"NUM_LOGS_PER_EPOCH\"] = 10\n",
    "standalone_parameters[\"BEST_MODEL_PATH\"] = \"./best_model.pth\""
   ]
  },
  {
   "cell_type": "code",
   "execution_count": 4,
   "id": "48019045",
   "metadata": {
    "execution": {
     "iopub.execute_input": "2022-03-26T05:46:49.316984Z",
     "iopub.status.busy": "2022-03-26T05:46:49.316090Z",
     "iopub.status.idle": "2022-03-26T05:46:49.318761Z",
     "shell.execute_reply": "2022-03-26T05:46:49.317960Z"
    },
    "papermill": {
     "duration": 0.029761,
     "end_time": "2022-03-26T05:46:49.318915",
     "exception": false,
     "start_time": "2022-03-26T05:46:49.289154",
     "status": "completed"
    },
    "tags": [
     "injected-parameters"
    ]
   },
   "outputs": [],
   "source": [
    "# Parameters\n",
    "parameters = {\n",
    "    \"experiment_name\": \"cnn_2:oracle.run1.framed\",\n",
    "    \"labels\": [\n",
    "        \"3123D52\",\n",
    "        \"3123D65\",\n",
    "        \"3123D79\",\n",
    "        \"3123D80\",\n",
    "        \"3123D54\",\n",
    "        \"3123D70\",\n",
    "        \"3123D7B\",\n",
    "        \"3123D89\",\n",
    "        \"3123D58\",\n",
    "        \"3123D76\",\n",
    "        \"3123D7D\",\n",
    "        \"3123EFE\",\n",
    "        \"3123D64\",\n",
    "        \"3123D78\",\n",
    "        \"3123D7E\",\n",
    "        \"3124E4A\",\n",
    "    ],\n",
    "    \"domains_source\": [8, 32, 50, 14, 20, 26, 38, 44],\n",
    "    \"domains_target\": [8, 32, 50, 14, 20, 26, 38, 44],\n",
    "    \"pickle_name_source\": \"oracle.Run1_framed_2000Examples_stratified_ds.2022A.pkl\",\n",
    "    \"pickle_name_target\": \"oracle.Run1_framed_2000Examples_stratified_ds.2022A.pkl\",\n",
    "    \"device\": \"cuda\",\n",
    "    \"lr\": 0.0001,\n",
    "    \"batch_size\": 128,\n",
    "    \"normalize_source\": False,\n",
    "    \"normalize_target\": False,\n",
    "    \"num_examples_per_domain_per_label_source\": -1,\n",
    "    \"num_examples_per_domain_per_label_target\": -1,\n",
    "    \"torch_default_dtype\": \"torch.float32\",\n",
    "    \"n_epoch\": 50,\n",
    "    \"patience\": 3,\n",
    "    \"criteria_for_best\": \"target_accuracy\",\n",
    "    \"x_net\": [\n",
    "        {\"class\": \"nnReshape\", \"kargs\": {\"shape\": [-1, 1, 2, 256]}},\n",
    "        {\n",
    "            \"class\": \"Conv2d\",\n",
    "            \"kargs\": {\n",
    "                \"in_channels\": 1,\n",
    "                \"out_channels\": 256,\n",
    "                \"kernel_size\": [1, 7],\n",
    "                \"bias\": False,\n",
    "                \"padding\": [0, 3],\n",
    "            },\n",
    "        },\n",
    "        {\"class\": \"ReLU\", \"kargs\": {\"inplace\": True}},\n",
    "        {\"class\": \"BatchNorm2d\", \"kargs\": {\"num_features\": 256}},\n",
    "        {\n",
    "            \"class\": \"Conv2d\",\n",
    "            \"kargs\": {\n",
    "                \"in_channels\": 256,\n",
    "                \"out_channels\": 80,\n",
    "                \"kernel_size\": [2, 7],\n",
    "                \"bias\": True,\n",
    "                \"padding\": [0, 3],\n",
    "            },\n",
    "        },\n",
    "        {\"class\": \"ReLU\", \"kargs\": {\"inplace\": True}},\n",
    "        {\"class\": \"BatchNorm2d\", \"kargs\": {\"num_features\": 80}},\n",
    "        {\"class\": \"Flatten\", \"kargs\": {}},\n",
    "        {\"class\": \"Linear\", \"kargs\": {\"in_features\": 20480, \"out_features\": 256}},\n",
    "        {\"class\": \"ReLU\", \"kargs\": {\"inplace\": True}},\n",
    "        {\"class\": \"BatchNorm1d\", \"kargs\": {\"num_features\": 256}},\n",
    "        {\"class\": \"Linear\", \"kargs\": {\"in_features\": 256, \"out_features\": 16}},\n",
    "    ],\n",
    "    \"NUM_LOGS_PER_EPOCH\": 10,\n",
    "    \"BEST_MODEL_PATH\": \"./best_model.pth\",\n",
    "    \"dataset_seed\": 1337,\n",
    "    \"seed\": 1337,\n",
    "}\n"
   ]
  },
  {
   "cell_type": "code",
   "execution_count": 5,
   "id": "759b56ec",
   "metadata": {
    "execution": {
     "iopub.execute_input": "2022-03-26T05:46:49.364279Z",
     "iopub.status.busy": "2022-03-26T05:46:49.363886Z",
     "iopub.status.idle": "2022-03-26T05:46:49.366274Z",
     "shell.execute_reply": "2022-03-26T05:46:49.365707Z"
    },
    "papermill": {
     "duration": 0.020413,
     "end_time": "2022-03-26T05:46:49.366392",
     "exception": false,
     "start_time": "2022-03-26T05:46:49.345979",
     "status": "completed"
    },
    "tags": []
   },
   "outputs": [],
   "source": [
    "# Set this to True if you want to run this template directly\n",
    "STANDALONE = False\n",
    "if STANDALONE:\n",
    "    print(\"parameters not injected, running with standalone_parameters\")\n",
    "    parameters = standalone_parameters\n",
    "\n",
    "if not 'parameters' in locals() and not 'parameters' in globals():\n",
    "    raise Exception(\"Parameter injection failed\")\n",
    "\n",
    "#Use an easy dict for all the parameters\n",
    "p = EasyDict(parameters)\n",
    "\n",
    "supplied_keys = set(p.keys())\n",
    "\n",
    "if  supplied_keys != required_parameters:\n",
    "    print(\"Parameters are incorrect\")\n",
    "    if len(supplied_keys - required_parameters)>0: print(\"Shouldn't have:\", str(supplied_keys - required_parameters))\n",
    "    if len(required_parameters - supplied_keys)>0: print(\"Need to have:\", str(required_parameters - supplied_keys))\n",
    "    raise RuntimeError(\"Parameters are incorrect\")\n",
    "\n"
   ]
  },
  {
   "cell_type": "code",
   "execution_count": 6,
   "id": "d5c66a71",
   "metadata": {
    "execution": {
     "iopub.execute_input": "2022-03-26T05:46:49.402439Z",
     "iopub.status.busy": "2022-03-26T05:46:49.402069Z",
     "iopub.status.idle": "2022-03-26T05:46:49.405544Z",
     "shell.execute_reply": "2022-03-26T05:46:49.405850Z"
    },
    "papermill": {
     "duration": 0.022256,
     "end_time": "2022-03-26T05:46:49.405929",
     "exception": false,
     "start_time": "2022-03-26T05:46:49.383673",
     "status": "completed"
    },
    "tags": []
   },
   "outputs": [],
   "source": [
    "###################################\n",
    "# Set the RNGs and make it all deterministic\n",
    "###################################\n",
    "np.random.seed(p.seed)\n",
    "random.seed(p.seed)\n",
    "torch.manual_seed(p.seed)\n",
    "\n",
    "torch.use_deterministic_algorithms(True) "
   ]
  },
  {
   "cell_type": "code",
   "execution_count": 7,
   "id": "92a65876",
   "metadata": {
    "execution": {
     "iopub.execute_input": "2022-03-26T05:46:49.442242Z",
     "iopub.status.busy": "2022-03-26T05:46:49.441878Z",
     "iopub.status.idle": "2022-03-26T05:46:49.444342Z",
     "shell.execute_reply": "2022-03-26T05:46:49.444648Z"
    },
    "papermill": {
     "duration": 0.020608,
     "end_time": "2022-03-26T05:46:49.444728",
     "exception": false,
     "start_time": "2022-03-26T05:46:49.424120",
     "status": "completed"
    },
    "tags": []
   },
   "outputs": [],
   "source": [
    "torch.set_default_dtype(eval(p.torch_default_dtype))"
   ]
  },
  {
   "cell_type": "code",
   "execution_count": 8,
   "id": "f1a32f01",
   "metadata": {
    "execution": {
     "iopub.execute_input": "2022-03-26T05:46:49.479574Z",
     "iopub.status.busy": "2022-03-26T05:46:49.479194Z",
     "iopub.status.idle": "2022-03-26T05:46:49.521963Z",
     "shell.execute_reply": "2022-03-26T05:46:49.521147Z"
    },
    "papermill": {
     "duration": 0.0606,
     "end_time": "2022-03-26T05:46:49.522118",
     "exception": false,
     "start_time": "2022-03-26T05:46:49.461518",
     "status": "completed"
    },
    "tags": []
   },
   "outputs": [],
   "source": [
    "###################################\n",
    "# Build the network(s)\n",
    "# Note: It's critical to do this AFTER setting the RNG\n",
    "###################################\n",
    "x_net = build_sequential(p.x_net)"
   ]
  },
  {
   "cell_type": "code",
   "execution_count": 9,
   "id": "a276cd83",
   "metadata": {
    "execution": {
     "iopub.execute_input": "2022-03-26T05:46:49.561351Z",
     "iopub.status.busy": "2022-03-26T05:46:49.560796Z",
     "iopub.status.idle": "2022-03-26T05:46:49.563329Z",
     "shell.execute_reply": "2022-03-26T05:46:49.562769Z"
    },
    "papermill": {
     "duration": 0.019633,
     "end_time": "2022-03-26T05:46:49.563434",
     "exception": false,
     "start_time": "2022-03-26T05:46:49.543801",
     "status": "completed"
    },
    "tags": []
   },
   "outputs": [],
   "source": [
    "start_time_secs = time.time()"
   ]
  },
  {
   "cell_type": "code",
   "execution_count": 10,
   "id": "de702e48",
   "metadata": {
    "execution": {
     "iopub.execute_input": "2022-03-26T05:46:49.608207Z",
     "iopub.status.busy": "2022-03-26T05:46:49.607612Z",
     "iopub.status.idle": "2022-03-26T05:46:56.299858Z",
     "shell.execute_reply": "2022-03-26T05:46:56.299073Z"
    },
    "papermill": {
     "duration": 6.719138,
     "end_time": "2022-03-26T05:46:56.300047",
     "exception": false,
     "start_time": "2022-03-26T05:46:49.580909",
     "status": "completed"
    },
    "tags": []
   },
   "outputs": [],
   "source": [
    "def wrap_in_dataloader(p, ds):\n",
    "    return torch.utils.data.DataLoader(\n",
    "        ds,\n",
    "        batch_size=p.batch_size,\n",
    "        shuffle=True,\n",
    "        num_workers=1,\n",
    "        persistent_workers=True,\n",
    "        prefetch_factor=50,\n",
    "        pin_memory=True\n",
    "    )\n",
    "\n",
    "taf_source = Traditional_Accessor_Factory(\n",
    "    labels=p.labels,\n",
    "    domains=p.domains_source,\n",
    "    num_examples_per_domain_per_label=p.num_examples_per_domain_per_label_source,\n",
    "    pickle_path=os.path.join(get_datasets_base_path(), p.pickle_name_source),\n",
    "    seed=p.dataset_seed\n",
    ")\n",
    "train_original_source, val_original_source, test_original_source = \\\n",
    "    taf_source.get_train(), taf_source.get_val(), taf_source.get_test()\n",
    "\n",
    "\n",
    "taf_target = Traditional_Accessor_Factory(\n",
    "    labels=p.labels,\n",
    "    domains=p.domains_target,\n",
    "    num_examples_per_domain_per_label=p.num_examples_per_domain_per_label_source,\n",
    "    pickle_path=os.path.join(get_datasets_base_path(), p.pickle_name_target),\n",
    "    seed=p.dataset_seed\n",
    ")\n",
    "train_original_target, val_original_target, test_original_target = \\\n",
    "    taf_target.get_train(), taf_target.get_val(), taf_target.get_test()\n",
    "\n",
    "\n",
    "# For CNN We only use X and Y. And we only train on the source.\n",
    "# Properly form the data using a transform lambda and Lazy_Map. Finally wrap them in a dataloader\n",
    "\n",
    "transform_lambda = lambda ex: ex[:2] # Strip the tuple to just (x,y)\n",
    "\n",
    "\n",
    "train_processed_source = wrap_in_dataloader(\n",
    "    p,\n",
    "    Lazy_Map(train_original_source, transform_lambda)\n",
    ")\n",
    "val_processed_source = wrap_in_dataloader(\n",
    "    p,\n",
    "    Lazy_Map(val_original_source, transform_lambda)\n",
    ")\n",
    "test_processed_source = wrap_in_dataloader(\n",
    "    p,\n",
    "    Lazy_Map(test_original_source, transform_lambda)\n",
    ")\n",
    "\n",
    "train_processed_target = wrap_in_dataloader(\n",
    "    p,\n",
    "    Lazy_Map(train_original_target, transform_lambda)\n",
    ")\n",
    "val_processed_target = wrap_in_dataloader(\n",
    "    p,\n",
    "    Lazy_Map(val_original_target, transform_lambda)\n",
    ")\n",
    "test_processed_target  = wrap_in_dataloader(\n",
    "    p,\n",
    "    Lazy_Map(test_original_target, transform_lambda)\n",
    ")\n",
    "\n",
    "\n",
    "\n",
    "datasets = EasyDict({\n",
    "    \"source\": {\n",
    "        \"original\": {\"train\":train_original_source, \"val\":val_original_source, \"test\":test_original_source},\n",
    "        \"processed\": {\"train\":train_processed_source, \"val\":val_processed_source, \"test\":test_processed_source}\n",
    "    },\n",
    "    \"target\": {\n",
    "        \"original\": {\"train\":train_original_target, \"val\":val_original_target, \"test\":test_original_target},\n",
    "        \"processed\": {\"train\":train_processed_target, \"val\":val_processed_target, \"test\":test_processed_target}\n",
    "    },\n",
    "})"
   ]
  },
  {
   "cell_type": "code",
   "execution_count": 11,
   "id": "a11b26bd",
   "metadata": {
    "execution": {
     "iopub.execute_input": "2022-03-26T05:46:56.376521Z",
     "iopub.status.busy": "2022-03-26T05:46:56.375688Z",
     "iopub.status.idle": "2022-03-26T05:47:02.126960Z",
     "shell.execute_reply": "2022-03-26T05:47:02.128008Z"
    },
    "papermill": {
     "duration": 5.809622,
     "end_time": "2022-03-26T05:47:02.128352",
     "exception": false,
     "start_time": "2022-03-26T05:46:56.318730",
     "status": "completed"
    },
    "tags": []
   },
   "outputs": [
    {
     "data": {
      "text/plain": [
       "torch.float32"
      ]
     },
     "execution_count": 11,
     "metadata": {},
     "output_type": "execute_result"
    }
   ],
   "source": [
    "ep = next(iter(test_processed_target))\n",
    "ep[0].dtype"
   ]
  },
  {
   "cell_type": "code",
   "execution_count": 12,
   "id": "19425fad",
   "metadata": {
    "execution": {
     "iopub.execute_input": "2022-03-26T05:47:02.166747Z",
     "iopub.status.busy": "2022-03-26T05:47:02.166175Z",
     "iopub.status.idle": "2022-03-26T05:47:02.214703Z",
     "shell.execute_reply": "2022-03-26T05:47:02.213955Z"
    },
    "papermill": {
     "duration": 0.069148,
     "end_time": "2022-03-26T05:47:02.214889",
     "exception": false,
     "start_time": "2022-03-26T05:47:02.145741",
     "status": "completed"
    },
    "tags": []
   },
   "outputs": [],
   "source": [
    "model = Configurable_Vanilla(\n",
    "    x_net=x_net,\n",
    "    label_loss_object=torch.nn.NLLLoss(),\n",
    "    learning_rate=p.lr\n",
    ")"
   ]
  },
  {
   "cell_type": "code",
   "execution_count": 13,
   "id": "7f6d4f2c",
   "metadata": {
    "execution": {
     "iopub.execute_input": "2022-03-26T05:47:02.253525Z",
     "iopub.status.busy": "2022-03-26T05:47:02.253158Z",
     "iopub.status.idle": "2022-03-26T05:51:51.502613Z",
     "shell.execute_reply": "2022-03-26T05:51:51.503299Z"
    },
    "papermill": {
     "duration": 289.268684,
     "end_time": "2022-03-26T05:51:51.503507",
     "exception": false,
     "start_time": "2022-03-26T05:47:02.234823",
     "status": "completed"
    },
    "tags": []
   },
   "outputs": [
    {
     "name": "stdout",
     "output_type": "stream",
     "text": [
      "epoch: 1, [batch: 1 / 1400], examples_per_second: 747.8305, train_label_loss: 2.8071, \n"
     ]
    },
    {
     "name": "stdout",
     "output_type": "stream",
     "text": [
      "epoch: 1, [batch: 140 / 1400], examples_per_second: 10603.6339, train_label_loss: 2.6686, \n"
     ]
    },
    {
     "name": "stdout",
     "output_type": "stream",
     "text": [
      "epoch: 1, [batch: 280 / 1400], examples_per_second: 10671.2307, train_label_loss: 2.6543, \n"
     ]
    },
    {
     "name": "stdout",
     "output_type": "stream",
     "text": [
      "epoch: 1, [batch: 420 / 1400], examples_per_second: 10714.8436, train_label_loss: 2.3586, \n"
     ]
    },
    {
     "name": "stdout",
     "output_type": "stream",
     "text": [
      "epoch: 1, [batch: 560 / 1400], examples_per_second: 10651.4383, train_label_loss: 2.3414, \n"
     ]
    },
    {
     "name": "stdout",
     "output_type": "stream",
     "text": [
      "epoch: 1, [batch: 700 / 1400], examples_per_second: 10693.7617, train_label_loss: 2.1506, \n"
     ]
    },
    {
     "name": "stdout",
     "output_type": "stream",
     "text": [
      "epoch: 1, [batch: 840 / 1400], examples_per_second: 10703.1376, train_label_loss: 2.0807, \n"
     ]
    },
    {
     "name": "stdout",
     "output_type": "stream",
     "text": [
      "epoch: 1, [batch: 980 / 1400], examples_per_second: 10673.2522, train_label_loss: 2.0326, \n"
     ]
    },
    {
     "name": "stdout",
     "output_type": "stream",
     "text": [
      "epoch: 1, [batch: 1120 / 1400], examples_per_second: 10603.0683, train_label_loss: 1.8375, \n"
     ]
    },
    {
     "name": "stdout",
     "output_type": "stream",
     "text": [
      "epoch: 1, [batch: 1260 / 1400], examples_per_second: 10669.6431, train_label_loss: 1.7466, \n"
     ]
    },
    {
     "name": "stdout",
     "output_type": "stream",
     "text": [
      "=============================================================\n",
      "epoch: 1, source_val_acc_label: 0.5363, source_val_label_loss: 1.6287, target_val_acc_label: 0.5363, target_val_label_loss: 1.6287, \n",
      "=============================================================\n"
     ]
    },
    {
     "name": "stdout",
     "output_type": "stream",
     "text": [
      "New best\n",
      "epoch: 2, [batch: 1 / 1400], examples_per_second: 50.6839, train_label_loss: 1.4859, \n"
     ]
    },
    {
     "name": "stdout",
     "output_type": "stream",
     "text": [
      "epoch: 2, [batch: 140 / 1400], examples_per_second: 10647.8567, train_label_loss: 1.4072, \n"
     ]
    },
    {
     "name": "stdout",
     "output_type": "stream",
     "text": [
      "epoch: 2, [batch: 280 / 1400], examples_per_second: 10598.9789, train_label_loss: 1.3189, \n"
     ]
    },
    {
     "name": "stdout",
     "output_type": "stream",
     "text": [
      "epoch: 2, [batch: 420 / 1400], examples_per_second: 10612.2018, train_label_loss: 1.2831, \n"
     ]
    },
    {
     "name": "stdout",
     "output_type": "stream",
     "text": [
      "epoch: 2, [batch: 560 / 1400], examples_per_second: 10683.8388, train_label_loss: 1.3837, \n"
     ]
    },
    {
     "name": "stdout",
     "output_type": "stream",
     "text": [
      "epoch: 2, [batch: 700 / 1400], examples_per_second: 10703.4577, train_label_loss: 0.9988, \n"
     ]
    },
    {
     "name": "stdout",
     "output_type": "stream",
     "text": [
      "epoch: 2, [batch: 840 / 1400], examples_per_second: 10547.8833, train_label_loss: 1.0475, \n"
     ]
    },
    {
     "name": "stdout",
     "output_type": "stream",
     "text": [
      "epoch: 2, [batch: 980 / 1400], examples_per_second: 10649.3044, train_label_loss: 0.9300, \n"
     ]
    },
    {
     "name": "stdout",
     "output_type": "stream",
     "text": [
      "epoch: 2, [batch: 1120 / 1400], examples_per_second: 10663.8014, train_label_loss: 0.9556, \n"
     ]
    },
    {
     "name": "stdout",
     "output_type": "stream",
     "text": [
      "epoch: 2, [batch: 1260 / 1400], examples_per_second: 10662.5670, train_label_loss: 0.7619, \n"
     ]
    },
    {
     "name": "stdout",
     "output_type": "stream",
     "text": [
      "=============================================================\n",
      "epoch: 2, source_val_acc_label: 0.8281, source_val_label_loss: 0.7250, target_val_acc_label: 0.8281, target_val_label_loss: 0.7250, \n",
      "=============================================================\n"
     ]
    },
    {
     "name": "stdout",
     "output_type": "stream",
     "text": [
      "New best\n",
      "epoch: 3, [batch: 1 / 1400], examples_per_second: 56.3810, train_label_loss: 0.8217, \n"
     ]
    },
    {
     "name": "stdout",
     "output_type": "stream",
     "text": [
      "epoch: 3, [batch: 140 / 1400], examples_per_second: 10583.7753, train_label_loss: 0.7972, \n"
     ]
    },
    {
     "name": "stdout",
     "output_type": "stream",
     "text": [
      "epoch: 3, [batch: 280 / 1400], examples_per_second: 10592.4410, train_label_loss: 0.6595, \n"
     ]
    },
    {
     "name": "stdout",
     "output_type": "stream",
     "text": [
      "epoch: 3, [batch: 420 / 1400], examples_per_second: 10681.3807, train_label_loss: 0.7801, \n"
     ]
    },
    {
     "name": "stdout",
     "output_type": "stream",
     "text": [
      "epoch: 3, [batch: 560 / 1400], examples_per_second: 10823.0736, train_label_loss: 0.5922, \n"
     ]
    },
    {
     "name": "stdout",
     "output_type": "stream",
     "text": [
      "epoch: 3, [batch: 700 / 1400], examples_per_second: 10707.1659, train_label_loss: 0.6400, \n"
     ]
    },
    {
     "name": "stdout",
     "output_type": "stream",
     "text": [
      "epoch: 3, [batch: 840 / 1400], examples_per_second: 10749.6390, train_label_loss: 0.5769, \n"
     ]
    },
    {
     "name": "stdout",
     "output_type": "stream",
     "text": [
      "epoch: 3, [batch: 980 / 1400], examples_per_second: 10656.1015, train_label_loss: 0.5364, \n"
     ]
    },
    {
     "name": "stdout",
     "output_type": "stream",
     "text": [
      "epoch: 3, [batch: 1120 / 1400], examples_per_second: 10694.7919, train_label_loss: 0.5597, \n"
     ]
    },
    {
     "name": "stdout",
     "output_type": "stream",
     "text": [
      "epoch: 3, [batch: 1260 / 1400], examples_per_second: 10592.9426, train_label_loss: 0.4795, \n"
     ]
    },
    {
     "name": "stdout",
     "output_type": "stream",
     "text": [
      "=============================================================\n",
      "epoch: 3, source_val_acc_label: 0.9024, source_val_label_loss: 0.4804, target_val_acc_label: 0.9024, target_val_label_loss: 0.4804, \n",
      "=============================================================\n"
     ]
    },
    {
     "name": "stdout",
     "output_type": "stream",
     "text": [
      "New best\n",
      "epoch: 4, [batch: 1 / 1400], examples_per_second: 56.2347, train_label_loss: 0.3784, \n"
     ]
    },
    {
     "name": "stdout",
     "output_type": "stream",
     "text": [
      "epoch: 4, [batch: 140 / 1400], examples_per_second: 10627.0196, train_label_loss: 0.5744, \n"
     ]
    },
    {
     "name": "stdout",
     "output_type": "stream",
     "text": [
      "epoch: 4, [batch: 280 / 1400], examples_per_second: 10593.6100, train_label_loss: 0.5427, \n"
     ]
    },
    {
     "name": "stdout",
     "output_type": "stream",
     "text": [
      "epoch: 4, [batch: 420 / 1400], examples_per_second: 10587.3859, train_label_loss: 0.4739, \n"
     ]
    },
    {
     "name": "stdout",
     "output_type": "stream",
     "text": [
      "epoch: 4, [batch: 560 / 1400], examples_per_second: 10686.4637, train_label_loss: 0.3700, \n"
     ]
    },
    {
     "name": "stdout",
     "output_type": "stream",
     "text": [
      "epoch: 4, [batch: 700 / 1400], examples_per_second: 10618.2181, train_label_loss: 0.3285, \n"
     ]
    },
    {
     "name": "stdout",
     "output_type": "stream",
     "text": [
      "epoch: 4, [batch: 840 / 1400], examples_per_second: 10662.8726, train_label_loss: 0.4279, \n"
     ]
    },
    {
     "name": "stdout",
     "output_type": "stream",
     "text": [
      "epoch: 4, [batch: 980 / 1400], examples_per_second: 10529.6118, train_label_loss: 0.4635, \n"
     ]
    },
    {
     "name": "stdout",
     "output_type": "stream",
     "text": [
      "epoch: 4, [batch: 1120 / 1400], examples_per_second: 10629.1272, train_label_loss: 0.3826, \n"
     ]
    },
    {
     "name": "stdout",
     "output_type": "stream",
     "text": [
      "epoch: 4, [batch: 1260 / 1400], examples_per_second: 10643.3010, train_label_loss: 0.2992, \n"
     ]
    },
    {
     "name": "stdout",
     "output_type": "stream",
     "text": [
      "=============================================================\n",
      "epoch: 4, source_val_acc_label: 0.9138, source_val_label_loss: 0.3753, target_val_acc_label: 0.9138, target_val_label_loss: 0.3753, \n",
      "=============================================================\n"
     ]
    },
    {
     "name": "stdout",
     "output_type": "stream",
     "text": [
      "New best\n",
      "epoch: 5, [batch: 1 / 1400], examples_per_second: 56.6030, train_label_loss: 0.3597, \n"
     ]
    },
    {
     "name": "stdout",
     "output_type": "stream",
     "text": [
      "epoch: 5, [batch: 140 / 1400], examples_per_second: 10619.7952, train_label_loss: 0.3018, \n"
     ]
    },
    {
     "name": "stdout",
     "output_type": "stream",
     "text": [
      "epoch: 5, [batch: 280 / 1400], examples_per_second: 10725.1303, train_label_loss: 0.3129, \n"
     ]
    },
    {
     "name": "stdout",
     "output_type": "stream",
     "text": [
      "epoch: 5, [batch: 420 / 1400], examples_per_second: 10679.8705, train_label_loss: 0.2830, \n"
     ]
    },
    {
     "name": "stdout",
     "output_type": "stream",
     "text": [
      "epoch: 5, [batch: 560 / 1400], examples_per_second: 10715.5417, train_label_loss: 0.2190, \n"
     ]
    },
    {
     "name": "stdout",
     "output_type": "stream",
     "text": [
      "epoch: 5, [batch: 700 / 1400], examples_per_second: 10706.0007, train_label_loss: 0.3281, \n"
     ]
    },
    {
     "name": "stdout",
     "output_type": "stream",
     "text": [
      "epoch: 5, [batch: 840 / 1400], examples_per_second: 10653.8736, train_label_loss: 0.2635, \n"
     ]
    },
    {
     "name": "stdout",
     "output_type": "stream",
     "text": [
      "epoch: 5, [batch: 980 / 1400], examples_per_second: 10681.8968, train_label_loss: 0.2802, \n"
     ]
    },
    {
     "name": "stdout",
     "output_type": "stream",
     "text": [
      "epoch: 5, [batch: 1120 / 1400], examples_per_second: 10710.4234, train_label_loss: 0.3023, \n"
     ]
    },
    {
     "name": "stdout",
     "output_type": "stream",
     "text": [
      "epoch: 5, [batch: 1260 / 1400], examples_per_second: 10677.0456, train_label_loss: 0.5163, \n"
     ]
    },
    {
     "name": "stdout",
     "output_type": "stream",
     "text": [
      "=============================================================\n",
      "epoch: 5, source_val_acc_label: 0.9277, source_val_label_loss: 0.3004, target_val_acc_label: 0.9277, target_val_label_loss: 0.3004, \n",
      "=============================================================\n"
     ]
    },
    {
     "name": "stdout",
     "output_type": "stream",
     "text": [
      "New best\n",
      "epoch: 6, [batch: 1 / 1400], examples_per_second: 56.8860, train_label_loss: 0.2224, \n"
     ]
    },
    {
     "name": "stdout",
     "output_type": "stream",
     "text": [
      "epoch: 6, [batch: 140 / 1400], examples_per_second: 10700.6066, train_label_loss: 0.2514, \n"
     ]
    },
    {
     "name": "stdout",
     "output_type": "stream",
     "text": [
      "epoch: 6, [batch: 280 / 1400], examples_per_second: 10763.1206, train_label_loss: 0.2385, \n"
     ]
    },
    {
     "name": "stdout",
     "output_type": "stream",
     "text": [
      "epoch: 6, [batch: 420 / 1400], examples_per_second: 10694.7919, train_label_loss: 0.2340, \n"
     ]
    },
    {
     "name": "stdout",
     "output_type": "stream",
     "text": [
      "epoch: 6, [batch: 560 / 1400], examples_per_second: 10641.6163, train_label_loss: 0.2708, \n"
     ]
    },
    {
     "name": "stdout",
     "output_type": "stream",
     "text": [
      "epoch: 6, [batch: 700 / 1400], examples_per_second: 10694.9212, train_label_loss: 0.1937, \n"
     ]
    },
    {
     "name": "stdout",
     "output_type": "stream",
     "text": [
      "epoch: 6, [batch: 840 / 1400], examples_per_second: 10701.9047, train_label_loss: 0.2055, \n"
     ]
    },
    {
     "name": "stdout",
     "output_type": "stream",
     "text": [
      "epoch: 6, [batch: 980 / 1400], examples_per_second: 10651.1198, train_label_loss: 0.1807, \n"
     ]
    },
    {
     "name": "stdout",
     "output_type": "stream",
     "text": [
      "epoch: 6, [batch: 1120 / 1400], examples_per_second: 10628.4583, train_label_loss: 0.2265, \n"
     ]
    },
    {
     "name": "stdout",
     "output_type": "stream",
     "text": [
      "epoch: 6, [batch: 1260 / 1400], examples_per_second: 10736.4136, train_label_loss: 0.2868, \n"
     ]
    },
    {
     "name": "stdout",
     "output_type": "stream",
     "text": [
      "=============================================================\n",
      "epoch: 6, source_val_acc_label: 0.9370, source_val_label_loss: 0.2705, target_val_acc_label: 0.9370, target_val_label_loss: 0.2705, \n",
      "=============================================================\n"
     ]
    },
    {
     "name": "stdout",
     "output_type": "stream",
     "text": [
      "New best\n",
      "epoch: 7, [batch: 1 / 1400], examples_per_second: 56.6742, train_label_loss: 0.1634, \n"
     ]
    },
    {
     "name": "stdout",
     "output_type": "stream",
     "text": [
      "epoch: 7, [batch: 140 / 1400], examples_per_second: 10659.9655, train_label_loss: 0.2054, \n"
     ]
    },
    {
     "name": "stdout",
     "output_type": "stream",
     "text": [
      "epoch: 7, [batch: 280 / 1400], examples_per_second: 10691.1363, train_label_loss: 0.2268, \n"
     ]
    },
    {
     "name": "stdout",
     "output_type": "stream",
     "text": [
      "epoch: 7, [batch: 420 / 1400], examples_per_second: 10585.1523, train_label_loss: 0.1492, \n"
     ]
    },
    {
     "name": "stdout",
     "output_type": "stream",
     "text": [
      "epoch: 7, [batch: 560 / 1400], examples_per_second: 10727.5810, train_label_loss: 0.3960, \n"
     ]
    },
    {
     "name": "stdout",
     "output_type": "stream",
     "text": [
      "epoch: 7, [batch: 700 / 1400], examples_per_second: 10728.1981, train_label_loss: 0.1622, \n"
     ]
    },
    {
     "name": "stdout",
     "output_type": "stream",
     "text": [
      "epoch: 7, [batch: 840 / 1400], examples_per_second: 10655.5849, train_label_loss: 0.1254, \n"
     ]
    },
    {
     "name": "stdout",
     "output_type": "stream",
     "text": [
      "epoch: 7, [batch: 980 / 1400], examples_per_second: 10703.3617, train_label_loss: 0.2772, \n"
     ]
    },
    {
     "name": "stdout",
     "output_type": "stream",
     "text": [
      "epoch: 7, [batch: 1120 / 1400], examples_per_second: 10674.2374, train_label_loss: 0.2056, \n"
     ]
    },
    {
     "name": "stdout",
     "output_type": "stream",
     "text": [
      "epoch: 7, [batch: 1260 / 1400], examples_per_second: 10705.4975, train_label_loss: 0.1775, \n"
     ]
    },
    {
     "name": "stdout",
     "output_type": "stream",
     "text": [
      "=============================================================\n",
      "epoch: 7, source_val_acc_label: 0.9320, source_val_label_loss: 0.2552, target_val_acc_label: 0.9320, target_val_label_loss: 0.2552, \n",
      "=============================================================\n"
     ]
    },
    {
     "name": "stdout",
     "output_type": "stream",
     "text": [
      "epoch: 8, [batch: 1 / 1400], examples_per_second: 56.9629, train_label_loss: 0.1689, \n"
     ]
    },
    {
     "name": "stdout",
     "output_type": "stream",
     "text": [
      "epoch: 8, [batch: 140 / 1400], examples_per_second: 10668.3991, train_label_loss: 0.1789, \n"
     ]
    },
    {
     "name": "stdout",
     "output_type": "stream",
     "text": [
      "epoch: 8, [batch: 280 / 1400], examples_per_second: 10715.9496, train_label_loss: 0.1833, \n"
     ]
    },
    {
     "name": "stdout",
     "output_type": "stream",
     "text": [
      "epoch: 8, [batch: 420 / 1400], examples_per_second: 10718.6438, train_label_loss: 0.2125, \n"
     ]
    },
    {
     "name": "stdout",
     "output_type": "stream",
     "text": [
      "epoch: 8, [batch: 560 / 1400], examples_per_second: 10682.8290, train_label_loss: 0.1239, \n"
     ]
    },
    {
     "name": "stdout",
     "output_type": "stream",
     "text": [
      "epoch: 8, [batch: 700 / 1400], examples_per_second: 10687.8009, train_label_loss: 0.2427, \n"
     ]
    },
    {
     "name": "stdout",
     "output_type": "stream",
     "text": [
      "epoch: 8, [batch: 840 / 1400], examples_per_second: 10710.0281, train_label_loss: 0.1409, \n"
     ]
    },
    {
     "name": "stdout",
     "output_type": "stream",
     "text": [
      "epoch: 8, [batch: 980 / 1400], examples_per_second: 10628.6973, train_label_loss: 0.2362, \n"
     ]
    },
    {
     "name": "stdout",
     "output_type": "stream",
     "text": [
      "epoch: 8, [batch: 1120 / 1400], examples_per_second: 10703.8342, train_label_loss: 0.1107, \n"
     ]
    },
    {
     "name": "stdout",
     "output_type": "stream",
     "text": [
      "epoch: 8, [batch: 1260 / 1400], examples_per_second: 10689.0184, train_label_loss: 0.1706, \n"
     ]
    },
    {
     "name": "stdout",
     "output_type": "stream",
     "text": [
      "=============================================================\n",
      "epoch: 8, source_val_acc_label: 0.9407, source_val_label_loss: 0.3856, target_val_acc_label: 0.9407, target_val_label_loss: 0.3856, \n",
      "=============================================================\n"
     ]
    },
    {
     "name": "stdout",
     "output_type": "stream",
     "text": [
      "New best\n",
      "epoch: 9, [batch: 1 / 1400], examples_per_second: 56.8699, train_label_loss: 0.1791, \n"
     ]
    },
    {
     "name": "stdout",
     "output_type": "stream",
     "text": [
      "epoch: 9, [batch: 140 / 1400], examples_per_second: 10673.8344, train_label_loss: 0.4597, \n"
     ]
    },
    {
     "name": "stdout",
     "output_type": "stream",
     "text": [
      "epoch: 9, [batch: 280 / 1400], examples_per_second: 10684.5541, train_label_loss: 0.1916, \n"
     ]
    },
    {
     "name": "stdout",
     "output_type": "stream",
     "text": [
      "epoch: 9, [batch: 420 / 1400], examples_per_second: 10732.4598, train_label_loss: 0.1370, \n"
     ]
    },
    {
     "name": "stdout",
     "output_type": "stream",
     "text": [
      "epoch: 9, [batch: 560 / 1400], examples_per_second: 10704.9425, train_label_loss: 0.2212, \n"
     ]
    },
    {
     "name": "stdout",
     "output_type": "stream",
     "text": [
      "epoch: 9, [batch: 700 / 1400], examples_per_second: 10690.7166, train_label_loss: 0.1310, \n"
     ]
    },
    {
     "name": "stdout",
     "output_type": "stream",
     "text": [
      "epoch: 9, [batch: 840 / 1400], examples_per_second: 10716.7151, train_label_loss: 0.1516, \n"
     ]
    },
    {
     "name": "stdout",
     "output_type": "stream",
     "text": [
      "epoch: 9, [batch: 980 / 1400], examples_per_second: 10653.8600, train_label_loss: 0.1431, \n"
     ]
    },
    {
     "name": "stdout",
     "output_type": "stream",
     "text": [
      "epoch: 9, [batch: 1120 / 1400], examples_per_second: 10891.0410, train_label_loss: 0.1655, \n"
     ]
    },
    {
     "name": "stdout",
     "output_type": "stream",
     "text": [
      "epoch: 9, [batch: 1260 / 1400], examples_per_second: 10684.8336, train_label_loss: 0.2678, \n"
     ]
    },
    {
     "name": "stdout",
     "output_type": "stream",
     "text": [
      "=============================================================\n",
      "epoch: 9, source_val_acc_label: 0.9473, source_val_label_loss: 0.2884, target_val_acc_label: 0.9473, target_val_label_loss: 0.2884, \n",
      "=============================================================\n"
     ]
    },
    {
     "name": "stdout",
     "output_type": "stream",
     "text": [
      "New best\n",
      "epoch: 10, [batch: 1 / 1400], examples_per_second: 57.0243, train_label_loss: 0.1354, \n"
     ]
    },
    {
     "name": "stdout",
     "output_type": "stream",
     "text": [
      "epoch: 10, [batch: 140 / 1400], examples_per_second: 10547.8991, train_label_loss: 0.1211, \n"
     ]
    },
    {
     "name": "stdout",
     "output_type": "stream",
     "text": [
      "epoch: 10, [batch: 280 / 1400], examples_per_second: 10664.9968, train_label_loss: 0.1363, \n"
     ]
    },
    {
     "name": "stdout",
     "output_type": "stream",
     "text": [
      "epoch: 10, [batch: 420 / 1400], examples_per_second: 10633.3135, train_label_loss: 0.1341, \n"
     ]
    },
    {
     "name": "stdout",
     "output_type": "stream",
     "text": [
      "epoch: 10, [batch: 560 / 1400], examples_per_second: 10711.1942, train_label_loss: 0.0936, \n"
     ]
    },
    {
     "name": "stdout",
     "output_type": "stream",
     "text": [
      "epoch: 10, [batch: 700 / 1400], examples_per_second: 10706.5558, train_label_loss: 0.1000, \n"
     ]
    },
    {
     "name": "stdout",
     "output_type": "stream",
     "text": [
      "epoch: 10, [batch: 840 / 1400], examples_per_second: 10680.1164, train_label_loss: 0.1108, \n"
     ]
    },
    {
     "name": "stdout",
     "output_type": "stream",
     "text": [
      "epoch: 10, [batch: 980 / 1400], examples_per_second: 10708.7189, train_label_loss: 0.2823, \n"
     ]
    },
    {
     "name": "stdout",
     "output_type": "stream",
     "text": [
      "epoch: 10, [batch: 1120 / 1400], examples_per_second: 10681.0634, train_label_loss: 0.1814, \n"
     ]
    },
    {
     "name": "stdout",
     "output_type": "stream",
     "text": [
      "epoch: 10, [batch: 1260 / 1400], examples_per_second: 10690.1738, train_label_loss: 0.1694, \n"
     ]
    },
    {
     "name": "stdout",
     "output_type": "stream",
     "text": [
      "=============================================================\n",
      "epoch: 10, source_val_acc_label: 0.9503, source_val_label_loss: 0.2828, target_val_acc_label: 0.9503, target_val_label_loss: 0.2828, \n",
      "=============================================================\n"
     ]
    },
    {
     "name": "stdout",
     "output_type": "stream",
     "text": [
      "New best\n",
      "epoch: 11, [batch: 1 / 1400], examples_per_second: 56.7616, train_label_loss: 0.1566, \n"
     ]
    },
    {
     "name": "stdout",
     "output_type": "stream",
     "text": [
      "epoch: 11, [batch: 140 / 1400], examples_per_second: 10636.2135, train_label_loss: 0.1515, \n"
     ]
    },
    {
     "name": "stdout",
     "output_type": "stream",
     "text": [
      "epoch: 11, [batch: 280 / 1400], examples_per_second: 10737.5532, train_label_loss: 0.1635, \n"
     ]
    },
    {
     "name": "stdout",
     "output_type": "stream",
     "text": [
      "epoch: 11, [batch: 420 / 1400], examples_per_second: 10719.4295, train_label_loss: 0.0898, \n"
     ]
    },
    {
     "name": "stdout",
     "output_type": "stream",
     "text": [
      "epoch: 11, [batch: 560 / 1400], examples_per_second: 10689.5976, train_label_loss: 0.1438, \n"
     ]
    },
    {
     "name": "stdout",
     "output_type": "stream",
     "text": [
      "epoch: 11, [batch: 700 / 1400], examples_per_second: 10642.5596, train_label_loss: 0.1160, \n"
     ]
    },
    {
     "name": "stdout",
     "output_type": "stream",
     "text": [
      "epoch: 11, [batch: 840 / 1400], examples_per_second: 10644.5476, train_label_loss: 0.1374, \n"
     ]
    },
    {
     "name": "stdout",
     "output_type": "stream",
     "text": [
      "epoch: 11, [batch: 980 / 1400], examples_per_second: 10670.2399, train_label_loss: 0.1327, \n"
     ]
    },
    {
     "name": "stdout",
     "output_type": "stream",
     "text": [
      "epoch: 11, [batch: 1120 / 1400], examples_per_second: 10649.3934, train_label_loss: 0.1487, \n"
     ]
    },
    {
     "name": "stdout",
     "output_type": "stream",
     "text": [
      "epoch: 11, [batch: 1260 / 1400], examples_per_second: 10684.7987, train_label_loss: 0.1072, \n"
     ]
    },
    {
     "name": "stdout",
     "output_type": "stream",
     "text": [
      "=============================================================\n",
      "epoch: 11, source_val_acc_label: 0.9608, source_val_label_loss: 0.2395, target_val_acc_label: 0.9608, target_val_label_loss: 0.2395, \n",
      "=============================================================\n"
     ]
    },
    {
     "name": "stdout",
     "output_type": "stream",
     "text": [
      "New best\n",
      "epoch: 12, [batch: 1 / 1400], examples_per_second: 55.5390, train_label_loss: 0.1102, \n"
     ]
    },
    {
     "name": "stdout",
     "output_type": "stream",
     "text": [
      "epoch: 12, [batch: 140 / 1400], examples_per_second: 10595.2829, train_label_loss: 0.0785, \n"
     ]
    },
    {
     "name": "stdout",
     "output_type": "stream",
     "text": [
      "epoch: 12, [batch: 280 / 1400], examples_per_second: 10648.3916, train_label_loss: 0.1271, \n"
     ]
    },
    {
     "name": "stdout",
     "output_type": "stream",
     "text": [
      "epoch: 12, [batch: 420 / 1400], examples_per_second: 10585.1270, train_label_loss: 0.1069, \n"
     ]
    },
    {
     "name": "stdout",
     "output_type": "stream",
     "text": [
      "epoch: 12, [batch: 560 / 1400], examples_per_second: 10623.5174, train_label_loss: 0.1426, \n"
     ]
    },
    {
     "name": "stdout",
     "output_type": "stream",
     "text": [
      "epoch: 12, [batch: 700 / 1400], examples_per_second: 10735.3095, train_label_loss: 0.1291, \n"
     ]
    },
    {
     "name": "stdout",
     "output_type": "stream",
     "text": [
      "epoch: 12, [batch: 840 / 1400], examples_per_second: 10705.8574, train_label_loss: 0.1325, \n"
     ]
    },
    {
     "name": "stdout",
     "output_type": "stream",
     "text": [
      "epoch: 12, [batch: 980 / 1400], examples_per_second: 10671.0489, train_label_loss: 0.1743, \n"
     ]
    },
    {
     "name": "stdout",
     "output_type": "stream",
     "text": [
      "epoch: 12, [batch: 1120 / 1400], examples_per_second: 10670.9580, train_label_loss: 0.1295, \n"
     ]
    },
    {
     "name": "stdout",
     "output_type": "stream",
     "text": [
      "epoch: 12, [batch: 1260 / 1400], examples_per_second: 10662.9270, train_label_loss: 0.1345, \n"
     ]
    },
    {
     "name": "stdout",
     "output_type": "stream",
     "text": [
      "=============================================================\n",
      "epoch: 12, source_val_acc_label: 0.9376, source_val_label_loss: 0.3144, target_val_acc_label: 0.9376, target_val_label_loss: 0.3144, \n",
      "=============================================================\n"
     ]
    },
    {
     "name": "stdout",
     "output_type": "stream",
     "text": [
      "epoch: 13, [batch: 1 / 1400], examples_per_second: 60.0013, train_label_loss: 0.1745, \n"
     ]
    },
    {
     "name": "stdout",
     "output_type": "stream",
     "text": [
      "epoch: 13, [batch: 140 / 1400], examples_per_second: 11660.9395, train_label_loss: 0.1310, \n"
     ]
    },
    {
     "name": "stdout",
     "output_type": "stream",
     "text": [
      "epoch: 13, [batch: 280 / 1400], examples_per_second: 11655.8510, train_label_loss: 0.1477, \n"
     ]
    },
    {
     "name": "stdout",
     "output_type": "stream",
     "text": [
      "epoch: 13, [batch: 420 / 1400], examples_per_second: 11670.1917, train_label_loss: 0.1030, \n"
     ]
    },
    {
     "name": "stdout",
     "output_type": "stream",
     "text": [
      "epoch: 13, [batch: 560 / 1400], examples_per_second: 11689.3360, train_label_loss: 0.0963, \n"
     ]
    },
    {
     "name": "stdout",
     "output_type": "stream",
     "text": [
      "epoch: 13, [batch: 700 / 1400], examples_per_second: 11672.0221, train_label_loss: 0.1170, \n"
     ]
    },
    {
     "name": "stdout",
     "output_type": "stream",
     "text": [
      "epoch: 13, [batch: 840 / 1400], examples_per_second: 11636.8576, train_label_loss: 0.1663, \n"
     ]
    },
    {
     "name": "stdout",
     "output_type": "stream",
     "text": [
      "epoch: 13, [batch: 980 / 1400], examples_per_second: 11723.5295, train_label_loss: 0.1336, \n"
     ]
    },
    {
     "name": "stdout",
     "output_type": "stream",
     "text": [
      "epoch: 13, [batch: 1120 / 1400], examples_per_second: 11679.2678, train_label_loss: 0.1777, \n"
     ]
    },
    {
     "name": "stdout",
     "output_type": "stream",
     "text": [
      "epoch: 13, [batch: 1260 / 1400], examples_per_second: 11757.4271, train_label_loss: 0.1802, \n"
     ]
    },
    {
     "name": "stdout",
     "output_type": "stream",
     "text": [
      "=============================================================\n",
      "epoch: 13, source_val_acc_label: 0.9534, source_val_label_loss: 0.2689, target_val_acc_label: 0.9534, target_val_label_loss: 0.2689, \n",
      "=============================================================\n"
     ]
    },
    {
     "name": "stdout",
     "output_type": "stream",
     "text": [
      "epoch: 14, [batch: 1 / 1400], examples_per_second: 64.1500, train_label_loss: 0.1436, \n"
     ]
    },
    {
     "name": "stdout",
     "output_type": "stream",
     "text": [
      "epoch: 14, [batch: 140 / 1400], examples_per_second: 11694.4774, train_label_loss: 0.1103, \n"
     ]
    },
    {
     "name": "stdout",
     "output_type": "stream",
     "text": [
      "epoch: 14, [batch: 280 / 1400], examples_per_second: 11735.3817, train_label_loss: 0.0828, \n"
     ]
    },
    {
     "name": "stdout",
     "output_type": "stream",
     "text": [
      "epoch: 14, [batch: 420 / 1400], examples_per_second: 11724.7877, train_label_loss: 0.0737, \n"
     ]
    },
    {
     "name": "stdout",
     "output_type": "stream",
     "text": [
      "epoch: 14, [batch: 560 / 1400], examples_per_second: 11757.2101, train_label_loss: 0.1169, \n"
     ]
    },
    {
     "name": "stdout",
     "output_type": "stream",
     "text": [
      "epoch: 14, [batch: 700 / 1400], examples_per_second: 11716.2160, train_label_loss: 0.1161, \n"
     ]
    },
    {
     "name": "stdout",
     "output_type": "stream",
     "text": [
      "epoch: 14, [batch: 840 / 1400], examples_per_second: 11704.7762, train_label_loss: 0.1606, \n"
     ]
    },
    {
     "name": "stdout",
     "output_type": "stream",
     "text": [
      "epoch: 14, [batch: 980 / 1400], examples_per_second: 11755.7316, train_label_loss: 0.1465, \n"
     ]
    },
    {
     "name": "stdout",
     "output_type": "stream",
     "text": [
      "epoch: 14, [batch: 1120 / 1400], examples_per_second: 11713.3731, train_label_loss: 0.0853, \n"
     ]
    },
    {
     "name": "stdout",
     "output_type": "stream",
     "text": [
      "epoch: 14, [batch: 1260 / 1400], examples_per_second: 11753.4668, train_label_loss: 0.1277, \n"
     ]
    },
    {
     "name": "stdout",
     "output_type": "stream",
     "text": [
      "=============================================================\n",
      "epoch: 14, source_val_acc_label: 0.9480, source_val_label_loss: 0.3495, target_val_acc_label: 0.9480, target_val_label_loss: 0.3495, \n",
      "=============================================================\n"
     ]
    },
    {
     "name": "stdout",
     "output_type": "stream",
     "text": [
      "epoch: 15, [batch: 1 / 1400], examples_per_second: 65.0234, train_label_loss: 0.1067, \n"
     ]
    },
    {
     "name": "stdout",
     "output_type": "stream",
     "text": [
      "epoch: 15, [batch: 140 / 1400], examples_per_second: 11749.7200, train_label_loss: 0.1111, \n"
     ]
    },
    {
     "name": "stdout",
     "output_type": "stream",
     "text": [
      "epoch: 15, [batch: 280 / 1400], examples_per_second: 11763.8291, train_label_loss: 0.0686, \n"
     ]
    },
    {
     "name": "stdout",
     "output_type": "stream",
     "text": [
      "epoch: 15, [batch: 420 / 1400], examples_per_second: 11761.6901, train_label_loss: 0.1211, \n"
     ]
    },
    {
     "name": "stdout",
     "output_type": "stream",
     "text": [
      "epoch: 15, [batch: 560 / 1400], examples_per_second: 11696.9563, train_label_loss: 0.1372, \n"
     ]
    },
    {
     "name": "stdout",
     "output_type": "stream",
     "text": [
      "epoch: 15, [batch: 700 / 1400], examples_per_second: 11729.1991, train_label_loss: 0.1018, \n"
     ]
    },
    {
     "name": "stdout",
     "output_type": "stream",
     "text": [
      "epoch: 15, [batch: 840 / 1400], examples_per_second: 11692.9112, train_label_loss: 0.0474, \n"
     ]
    },
    {
     "name": "stdout",
     "output_type": "stream",
     "text": [
      "epoch: 15, [batch: 980 / 1400], examples_per_second: 11704.7233, train_label_loss: 0.2392, \n"
     ]
    },
    {
     "name": "stdout",
     "output_type": "stream",
     "text": [
      "epoch: 15, [batch: 1120 / 1400], examples_per_second: 11779.3691, train_label_loss: 0.1018, \n"
     ]
    },
    {
     "name": "stdout",
     "output_type": "stream",
     "text": [
      "epoch: 15, [batch: 1260 / 1400], examples_per_second: 11664.6079, train_label_loss: 0.0903, \n"
     ]
    },
    {
     "name": "stdout",
     "output_type": "stream",
     "text": [
      "=============================================================\n",
      "epoch: 15, source_val_acc_label: 0.9602, source_val_label_loss: 0.1456, target_val_acc_label: 0.9602, target_val_label_loss: 0.1456, \n",
      "=============================================================\n"
     ]
    },
    {
     "name": "stdout",
     "output_type": "stream",
     "text": [
      "Patience (3) exhausted\n"
     ]
    }
   ],
   "source": [
    "jig = Vanilla_Train_Eval_Test_Jig(\n",
    "    model=model,\n",
    "    path_to_best_model=p.BEST_MODEL_PATH,\n",
    "    device=p.device,\n",
    "    label_loss_object=torch.nn.NLLLoss(),\n",
    ")\n",
    "\n",
    "jig.train(\n",
    "    train_iterable=datasets.source.processed.train,\n",
    "    source_val_iterable=datasets.source.processed.val,\n",
    "    target_val_iterable=datasets.target.processed.val,\n",
    "    patience=p.patience,\n",
    "    num_epochs=p.n_epoch,\n",
    "    num_logs_per_epoch=p.NUM_LOGS_PER_EPOCH,\n",
    "    criteria_for_best=p.criteria_for_best\n",
    ")"
   ]
  },
  {
   "cell_type": "code",
   "execution_count": 14,
   "id": "4bc2ac17",
   "metadata": {
    "execution": {
     "iopub.execute_input": "2022-03-26T05:51:51.631590Z",
     "iopub.status.busy": "2022-03-26T05:51:51.630952Z",
     "iopub.status.idle": "2022-03-26T05:51:51.633210Z",
     "shell.execute_reply": "2022-03-26T05:51:51.632666Z"
    },
    "papermill": {
     "duration": 0.066656,
     "end_time": "2022-03-26T05:51:51.633339",
     "exception": false,
     "start_time": "2022-03-26T05:51:51.566683",
     "status": "completed"
    },
    "tags": []
   },
   "outputs": [],
   "source": [
    "total_experiment_time_secs = time.time() - start_time_secs"
   ]
  },
  {
   "cell_type": "code",
   "execution_count": 15,
   "id": "cae88f23",
   "metadata": {
    "execution": {
     "iopub.execute_input": "2022-03-26T05:51:51.806787Z",
     "iopub.status.busy": "2022-03-26T05:51:51.805891Z",
     "iopub.status.idle": "2022-03-26T05:52:13.490972Z",
     "shell.execute_reply": "2022-03-26T05:52:13.490231Z"
    },
    "papermill": {
     "duration": 21.793287,
     "end_time": "2022-03-26T05:52:13.491155",
     "exception": false,
     "start_time": "2022-03-26T05:51:51.697868",
     "status": "completed"
    },
    "tags": []
   },
   "outputs": [],
   "source": [
    "source_test_label_accuracy, source_test_label_loss = jig.test(datasets.source.processed.test)\n",
    "target_test_label_accuracy, target_test_label_loss = jig.test(datasets.target.processed.test)\n",
    "\n",
    "source_val_label_accuracy, source_val_label_loss = jig.test(datasets.source.processed.val)\n",
    "target_val_label_accuracy, target_val_label_loss = jig.test(datasets.target.processed.val)\n",
    "\n",
    "history = jig.get_history()\n",
    "\n",
    "total_epochs_trained = len(history[\"epoch_indices\"])\n",
    "\n",
    "val_dl = wrap_in_dataloader(p, Sequence_Aggregator((datasets.source.original.val, datasets.target.original.val)))\n",
    "\n",
    "confusion = confusion_by_domain_over_dataloader(model, p.device, val_dl, forward_uses_domain=False)\n",
    "per_domain_accuracy = per_domain_accuracy_from_confusion(confusion)\n",
    "\n",
    "# Add a key to per_domain_accuracy for if it was a source domain\n",
    "for domain, accuracy in per_domain_accuracy.items():\n",
    "    per_domain_accuracy[domain] = {\n",
    "        \"accuracy\": accuracy,\n",
    "        \"source?\": domain in p.domains_source\n",
    "    }\n",
    "\n",
    "# Do an independent accuracy assesment JUST TO BE SURE!\n",
    "# _source_test_label_accuracy = independent_accuracy_assesment(model, datasets.source.processed.test, p.device)\n",
    "# _target_test_label_accuracy = independent_accuracy_assesment(model, datasets.target.processed.test, p.device)\n",
    "# _source_val_label_accuracy = independent_accuracy_assesment(model, datasets.source.processed.val, p.device)\n",
    "# _target_val_label_accuracy = independent_accuracy_assesment(model, datasets.target.processed.val, p.device)\n",
    "\n",
    "# assert(_source_test_label_accuracy == source_test_label_accuracy)\n",
    "# assert(_target_test_label_accuracy == target_test_label_accuracy)\n",
    "# assert(_source_val_label_accuracy == source_val_label_accuracy)\n",
    "# assert(_target_val_label_accuracy == target_val_label_accuracy)\n",
    "\n",
    "###################################\n",
    "# Write out the results\n",
    "###################################\n",
    "\n",
    "experiment = {\n",
    "    \"experiment_name\": p.experiment_name,\n",
    "    \"parameters\": p,\n",
    "    \"results\": {\n",
    "        \"source_test_label_accuracy\": source_test_label_accuracy,\n",
    "        \"source_test_label_loss\": source_test_label_loss,\n",
    "        \"target_test_label_accuracy\": target_test_label_accuracy,\n",
    "        \"target_test_label_loss\": target_test_label_loss,\n",
    "        \"source_val_label_accuracy\": source_val_label_accuracy,\n",
    "        \"source_val_label_loss\": source_val_label_loss,\n",
    "        \"target_val_label_accuracy\": target_val_label_accuracy,\n",
    "        \"target_val_label_loss\": target_val_label_loss,\n",
    "        \"total_epochs_trained\": total_epochs_trained,\n",
    "        \"total_experiment_time_secs\": total_experiment_time_secs,\n",
    "        \"confusion\": confusion,\n",
    "        \"per_domain_accuracy\": per_domain_accuracy,\n",
    "    },\n",
    "    \"history\": history,\n",
    "    \"dataset_metrics\": get_dataset_metrics(datasets, \"cnn\"),\n",
    "}"
   ]
  },
  {
   "cell_type": "code",
   "execution_count": 16,
   "id": "74c318cf",
   "metadata": {
    "execution": {
     "iopub.execute_input": "2022-03-26T05:52:13.640835Z",
     "iopub.status.busy": "2022-03-26T05:52:13.636152Z",
     "iopub.status.idle": "2022-03-26T05:52:13.842728Z",
     "shell.execute_reply": "2022-03-26T05:52:13.843143Z"
    },
    "papermill": {
     "duration": 0.281845,
     "end_time": "2022-03-26T05:52:13.843313",
     "exception": false,
     "start_time": "2022-03-26T05:52:13.561468",
     "status": "completed"
    },
    "tags": []
   },
   "outputs": [
    {
     "data": {
      "text/plain": [
       "<AxesSubplot:title={'center':'Source Train Label Loss vs Source Val Label Loss'}, xlabel='Epoch'>"
      ]
     },
     "execution_count": 16,
     "metadata": {},
     "output_type": "execute_result"
    },
    {
     "data": {
      "image/png": "[encoded data removed]",
      "text/plain": [
       "<Figure size 1080x504 with 1 Axes>"
      ]
     },
     "metadata": {
      "needs_background": "light"
     },
     "output_type": "display_data"
    }
   ],
   "source": [
    "get_loss_curve(experiment)"
   ]
  },
  {
   "cell_type": "code",
   "execution_count": 17,
   "id": "59376601",
   "metadata": {
    "execution": {
     "iopub.execute_input": "2022-03-26T05:52:14.000720Z",
     "iopub.status.busy": "2022-03-26T05:52:13.994000Z",
     "iopub.status.idle": "2022-03-26T05:52:14.260529Z",
     "shell.execute_reply": "2022-03-26T05:52:14.261083Z"
    },
    "papermill": {
     "duration": 0.347079,
     "end_time": "2022-03-26T05:52:14.261339",
     "exception": false,
     "start_time": "2022-03-26T05:52:13.914260",
     "status": "completed"
    },
    "tags": []
   },
   "outputs": [
    {
     "data": {
      "text/plain": [
       "<AxesSubplot:title={'center':'Results'}>"
      ]
     },
     "execution_count": 17,
     "metadata": {},
     "output_type": "execute_result"
    },
    {
     "data": {
      "image/png": "[encoded data removed]",
      "text/plain": [
       "<Figure size 1080x504 with 1 Axes>"
      ]
     },
     "metadata": {
      "needs_background": "light"
     },
     "output_type": "display_data"
    }
   ],
   "source": [
    "get_results_table(experiment)"
   ]
  },
  {
   "cell_type": "code",
   "execution_count": 18,
   "id": "e80c5c98",
   "metadata": {
    "execution": {
     "iopub.execute_input": "2022-03-26T05:52:14.407969Z",
     "iopub.status.busy": "2022-03-26T05:52:14.407189Z",
     "iopub.status.idle": "2022-03-26T05:52:14.581813Z",
     "shell.execute_reply": "2022-03-26T05:52:14.580979Z"
    },
    "papermill": {
     "duration": 0.25099,
     "end_time": "2022-03-26T05:52:14.582000",
     "exception": false,
     "start_time": "2022-03-26T05:52:14.331010",
     "status": "completed"
    },
    "tags": []
   },
   "outputs": [
    {
     "data": {
      "text/plain": [
       "<AxesSubplot:title={'center':'Per Domain Accuracy'}, xlabel='domain'>"
      ]
     },
     "execution_count": 18,
     "metadata": {},
     "output_type": "execute_result"
    },
    {
     "data": {
      "image/png": "[encoded data removed]",
      "text/plain": [
       "<Figure size 1080x504 with 1 Axes>"
      ]
     },
     "metadata": {
      "needs_background": "light"
     },
     "output_type": "display_data"
    }
   ],
   "source": [
    "get_domain_accuracies(experiment)"
   ]
  },
  {
   "cell_type": "code",
   "execution_count": 19,
   "id": "086fdd10",
   "metadata": {
    "execution": {
     "iopub.execute_input": "2022-03-26T05:52:14.722528Z",
     "iopub.status.busy": "2022-03-26T05:52:14.721665Z",
     "iopub.status.idle": "2022-03-26T05:52:14.727162Z",
     "shell.execute_reply": "2022-03-26T05:52:14.726516Z"
    },
    "papermill": {
     "duration": 0.076891,
     "end_time": "2022-03-26T05:52:14.727300",
     "exception": false,
     "start_time": "2022-03-26T05:52:14.650409",
     "status": "completed"
    },
    "tags": []
   },
   "outputs": [
    {
     "name": "stdout",
     "output_type": "stream",
     "text": [
      "Source Test Label Accuracy: 0.96203125 Target Test Label Accuracy: 0.96203125\n",
      "Source Val Label Accuracy: 0.9608072916666667 Target Val Label Accuracy: 0.9608072916666667\n"
     ]
    }
   ],
   "source": [
    "print(\"Source Test Label Accuracy:\", experiment[\"results\"][\"source_test_label_accuracy\"], \"Target Test Label Accuracy:\", experiment[\"results\"][\"target_test_label_accuracy\"])\n",
    "print(\"Source Val Label Accuracy:\", experiment[\"results\"][\"source_val_label_accuracy\"], \"Target Val Label Accuracy:\", experiment[\"results\"][\"target_val_label_accuracy\"])"
   ]
  },
  {
   "cell_type": "code",
   "execution_count": 20,
   "id": "9f450536",
   "metadata": {
    "execution": {
     "iopub.execute_input": "2022-03-26T05:52:14.869285Z",
     "iopub.status.busy": "2022-03-26T05:52:14.868907Z",
     "iopub.status.idle": "2022-03-26T05:52:14.872836Z",
     "shell.execute_reply": "2022-03-26T05:52:14.872294Z"
    },
    "papermill": {
     "duration": 0.074926,
     "end_time": "2022-03-26T05:52:14.873007",
     "exception": false,
     "start_time": "2022-03-26T05:52:14.798081",
     "status": "completed"
    },
    "tags": [
     "experiment_json"
    ]
   },
   "outputs": [
    {
     "data": {
      "text/plain": [
       "'{\"experiment_name\": \"cnn_2:oracle.run1.framed\", \"parameters\": {\"experiment_name\": \"cnn_2:oracle.run1.framed\", \"labels\": [\"3123D52\", \"3123D65\", \"3123D79\", \"3123D80\", \"3123D54\", \"3123D70\", \"3123D7B\", \"3123D89\", \"3123D58\", \"3123D76\", \"3123D7D\", \"3123EFE\", \"3123D64\", \"3123D78\", \"3123D7E\", \"3124E4A\"], \"domains_source\": [8, 32, 50, 14, 20, 26, 38, 44], \"domains_target\": [8, 32, 50, 14, 20, 26, 38, 44], \"pickle_name_source\": \"oracle.Run1_framed_2000Examples_stratified_ds.2022A.pkl\", \"pickle_name_target\": \"oracle.Run1_framed_2000Examples_stratified_ds.2022A.pkl\", \"device\": \"cuda\", \"lr\": 0.0001, \"batch_size\": 128, \"normalize_source\": false, \"normalize_target\": false, \"num_examples_per_domain_per_label_source\": -1, \"num_examples_per_domain_per_label_target\": -1, \"torch_default_dtype\": \"torch.float32\", \"n_epoch\": 50, \"patience\": 3, \"criteria_for_best\": \"target_accuracy\", \"x_net\": [{\"class\": \"nnReshape\", \"kargs\": {\"shape\": [-1, 1, 2, 256]}}, {\"class\": \"Conv2d\", \"kargs\": {\"in_channels\": 1, \"out_channels\": 256, \"kernel_size\": [1, 7], \"bias\": false, \"padding\": [0, 3]}}, {\"class\": \"ReLU\", \"kargs\": {\"inplace\": true}}, {\"class\": \"BatchNorm2d\", \"kargs\": {\"num_features\": 256}}, {\"class\": \"Conv2d\", \"kargs\": {\"in_channels\": 256, \"out_channels\": 80, \"kernel_size\": [2, 7], \"bias\": true, \"padding\": [0, 3]}}, {\"class\": \"ReLU\", \"kargs\": {\"inplace\": true}}, {\"class\": \"BatchNorm2d\", \"kargs\": {\"num_features\": 80}}, {\"class\": \"Flatten\", \"kargs\": {}}, {\"class\": \"Linear\", \"kargs\": {\"in_features\": 20480, \"out_features\": 256}}, {\"class\": \"ReLU\", \"kargs\": {\"inplace\": true}}, {\"class\": \"BatchNorm1d\", \"kargs\": {\"num_features\": 256}}, {\"class\": \"Linear\", \"kargs\": {\"in_features\": 256, \"out_features\": 16}}], \"NUM_LOGS_PER_EPOCH\": 10, \"BEST_MODEL_PATH\": \"./best_model.pth\", \"dataset_seed\": 1337, \"seed\": 1337}, \"results\": {\"source_test_label_accuracy\": 0.96203125, \"source_test_label_loss\": 0.1326352179174622, \"target_test_label_accuracy\": 0.96203125, \"target_test_label_loss\": 0.13263521920889615, \"source_val_label_accuracy\": 0.9608072916666667, \"source_val_label_loss\": 0.23947906433294217, \"target_val_label_accuracy\": 0.9608072916666667, \"target_val_label_loss\": 0.23947904213021198, \"total_epochs_trained\": 15, \"total_experiment_time_secs\": 302.0694987773895, \"confusion\": {\"44\": {\"3\": {\"3\": 570, \"4\": 16, \"7\": 6, \"2\": 6, \"12\": 2}, \"15\": {\"15\": 590, \"6\": 4, \"4\": 6}, \"11\": {\"11\": 598, \"4\": 2}, \"5\": {\"5\": 600}, \"4\": {\"4\": 570, \"15\": 30}, \"10\": {\"10\": 564, \"1\": 28, \"2\": 6, \"7\": 2}, \"7\": {\"7\": 494, \"2\": 6, \"9\": 98, \"6\": 2}, \"12\": {\"12\": 582, \"3\": 16, \"13\": 2}, \"2\": {\"2\": 574, \"7\": 18, \"1\": 8}, \"1\": {\"1\": 588, \"2\": 6, \"7\": 4, \"10\": 2}, \"14\": {\"14\": 598, \"11\": 2}, \"13\": {\"13\": 542, \"6\": 18, \"9\": 34, \"7\": 4, \"0\": 2}, \"6\": {\"6\": 406, \"9\": 88, \"13\": 92, \"7\": 14}, \"8\": {\"8\": 510, \"15\": 14, \"0\": 74, \"14\": 2}, \"9\": {\"9\": 466, \"7\": 84, \"6\": 12, \"13\": 38}, \"0\": {\"0\": 574, \"8\": 24, \"15\": 2}}, \"32\": {\"11\": {\"11\": 588, \"13\": 12}, \"1\": {\"1\": 598, \"9\": 2}, \"2\": {\"2\": 594, \"4\": 6}, \"10\": {\"10\": 600}, \"9\": {\"9\": 594, \"1\": 2, \"2\": 4}, \"4\": {\"4\": 584, \"3\": 8, \"2\": 8}, \"15\": {\"15\": 594, \"8\": 6}, \"13\": {\"13\": 586, \"4\": 4, \"3\": 6, \"12\": 4}, \"5\": {\"5\": 600}, \"6\": {\"6\": 600}, \"0\": {\"0\": 574, \"8\": 24, \"9\": 2}, \"12\": {\"12\": 600}, \"14\": {\"14\": 598, \"7\": 2}, \"3\": {\"3\": 564, \"13\": 26, \"12\": 10}, \"8\": {\"8\": 570, \"0\": 22, \"1\": 6, \"7\": 2}, \"7\": {\"7\": 594, \"0\": 2, \"1\": 2, \"2\": 2}}, \"8\": {\"3\": {\"3\": 598, \"4\": 2}, \"5\": {\"5\": 600}, \"7\": {\"7\": 510, \"6\": 90}, \"10\": {\"10\": 594, \"4\": 2, \"13\": 4}, \"0\": {\"0\": 600}, \"2\": {\"2\": 440, \"3\": 128, \"9\": 22, \"1\": 8, \"7\": 2}, \"9\": {\"9\": 600}, \"6\": {\"6\": 554, \"4\": 34, \"7\": 12}, \"13\": {\"13\": 524, \"10\": 56, \"4\": 6, \"6\": 12, \"7\": 2}, \"15\": {\"15\": 562, \"12\": 38}, \"4\": {\"4\": 600}, \"1\": {\"1\": 596, \"4\": 2, \"11\": 2}, \"12\": {\"12\": 562, \"15\": 18, \"4\": 20}, \"8\": {\"8\": 600}, \"14\": {\"14\": 600}, \"11\": {\"11\": 596, \"1\": 4}}, \"20\": {\"15\": {\"15\": 592, \"1\": 4, \"0\": 2, \"13\": 2}, \"8\": {\"8\": 592, \"7\": 4, \"3\": 2, \"4\": 2}, \"13\": {\"13\": 588, \"9\": 2, \"7\": 4, \"15\": 4, \"2\": 2}, \"2\": {\"2\": 478, \"7\": 18, \"9\": 94, \"3\": 6, \"13\": 4}, \"10\": {\"10\": 598, \"12\": 2}, \"3\": {\"3\": 552, \"2\": 24, \"9\": 20, \"1\": 2, \"15\": 2}, \"4\": {\"4\": 596, \"12\": 4}, \"14\": {\"14\": 600}, \"5\": {\"5\": 600}, \"11\": {\"11\": 600}, \"6\": {\"6\": 600}, \"7\": {\"7\": 578, \"4\": 4, \"2\": 8, \"8\": 4, \"3\": 2, \"6\": 4}, \"1\": {\"1\": 544, \"15\": 16, \"12\": 24, \"2\": 4, \"9\": 2, \"3\": 10}, \"0\": {\"0\": 596, \"15\": 4}, \"9\": {\"3\": 34, \"9\": 534, \"2\": 32}, \"12\": {\"12\": 580, \"7\": 2, \"1\": 4, \"4\": 8, \"3\": 4, \"15\": 2}}, \"26\": {\"2\": {\"2\": 490, \"3\": 84, \"10\": 2, \"8\": 8, \"7\": 10, \"9\": 2, \"15\": 2, \"13\": 2}, \"4\": {\"4\": 600}, \"9\": {\"9\": 588, \"13\": 8, \"15\": 2, \"8\": 2}, \"1\": {\"1\": 588, \"10\": 8, \"0\": 4}, \"7\": {\"7\": 530, \"2\": 22, \"3\": 30, \"4\": 2, \"8\": 16}, \"8\": {\"8\": 522, \"7\": 46, \"2\": 4, \"10\": 10, \"9\": 2, \"0\": 16}, \"10\": {\"10\": 526, \"0\": 36, \"8\": 18, \"6\": 18, \"15\": 2}, \"14\": {\"14\": 600}, \"12\": {\"12\": 600}, \"11\": {\"11\": 600}, \"13\": {\"13\": 588, \"2\": 12}, \"3\": {\"3\": 590, \"2\": 4, \"7\": 6}, \"6\": {\"6\": 584, \"15\": 10, \"10\": 4, \"9\": 2}, \"15\": {\"15\": 572, \"6\": 22, \"10\": 2, \"9\": 4}, \"5\": {\"5\": 600}, \"0\": {\"0\": 544, \"6\": 8, \"15\": 2, \"10\": 24, \"8\": 22}}, \"14\": {\"5\": {\"5\": 600}, \"2\": {\"2\": 580, \"6\": 6, \"13\": 6, \"3\": 8}, \"4\": {\"4\": 600}, \"8\": {\"8\": 600}, \"13\": {\"13\": 516, \"6\": 62, \"2\": 16, \"5\": 2, \"3\": 2, \"15\": 2}, \"6\": {\"13\": 54, \"6\": 542, \"2\": 4}, \"3\": {\"3\": 600}, \"7\": {\"7\": 600}, \"14\": {\"14\": 598, \"2\": 2}, \"12\": {\"12\": 600}, \"11\": {\"11\": 594, \"8\": 6}, \"10\": {\"10\": 598, \"3\": 2}, \"9\": {\"9\": 600}, \"15\": {\"15\": 600}, \"0\": {\"0\": 594, \"4\": 4, \"13\": 2}, \"1\": {\"1\": 600}}, \"50\": {\"9\": {\"9\": 588, \"12\": 4, \"11\": 6, \"7\": 2}, \"6\": {\"6\": 568, \"15\": 22, \"4\": 6, \"8\": 2, \"7\": 2}, \"4\": {\"4\": 524, \"13\": 16, \"15\": 18, \"7\": 20, \"0\": 20, \"8\": 2}, \"10\": {\"10\": 576, \"0\": 18, \"8\": 6}, \"8\": {\"8\": 592, \"10\": 8}, \"14\": {\"14\": 596, \"9\": 4}, \"13\": {\"13\": 590, \"6\": 4, \"0\": 2, \"8\": 2, \"15\": 2}, \"7\": {\"7\": 570, \"6\": 4, \"4\": 2, \"2\": 20, \"13\": 2, \"14\": 2}, \"0\": {\"0\": 588, \"10\": 6, \"2\": 6}, \"12\": {\"12\": 598, \"9\": 2}, \"11\": {\"11\": 598, \"8\": 2}, \"15\": {\"15\": 532, \"11\": 6, \"6\": 6, \"4\": 50, \"8\": 4, \"0\": 2}, \"1\": {\"1\": 594, \"15\": 6}, \"5\": {\"5\": 600}, \"2\": {\"2\": 588, \"0\": 12}, \"3\": {\"3\": 598, \"8\": 2}}, \"38\": {\"12\": {\"12\": 600}, \"15\": {\"15\": 570, \"1\": 28, \"8\": 2}, \"10\": {\"10\": 590, \"13\": 8, \"0\": 2}, \"9\": {\"9\": 600}, \"8\": {\"8\": 562, \"15\": 8, \"7\": 22, \"11\": 6, \"4\": 2}, \"6\": {\"6\": 600}, \"0\": {\"0\": 490, \"10\": 28, \"13\": 22, \"3\": 12, \"4\": 38, \"14\": 2, \"7\": 6, \"8\": 2}, \"3\": {\"3\": 596, \"4\": 2, \"11\": 2}, \"11\": {\"11\": 576, \"6\": 10, \"4\": 2, \"12\": 6, \"3\": 6}, \"2\": {\"2\": 570, \"7\": 22, \"13\": 8}, \"4\": {\"4\": 600}, \"14\": {\"14\": 592, \"7\": 6, \"2\": 2}, \"13\": {\"13\": 582, \"8\": 2, \"10\": 12, \"4\": 4}, \"1\": {\"1\": 594, \"9\": 6}, \"5\": {\"5\": 600}, \"7\": {\"7\": 596, \"8\": 4}}}, \"per_domain_accuracy\": {\"44\": {\"accuracy\": 0.919375, \"source?\": true}, \"32\": {\"accuracy\": 0.983125, \"source?\": true}, \"8\": {\"accuracy\": 0.9516666666666667, \"source?\": true}, \"20\": {\"accuracy\": 0.96125, \"source?\": true}, \"26\": {\"accuracy\": 0.9502083333333333, \"source?\": true}, \"14\": {\"accuracy\": 0.9814583333333333, \"source?\": true}, \"50\": {\"accuracy\": 0.96875, \"source?\": true}, \"38\": {\"accuracy\": 0.970625, \"source?\": true}}}, \"history\": {\"epoch_indices\": [1, 2, 3, 4, 5, 6, 7, 8, 9, 10, 11, 12, 13, 14, 15], \"train_label_loss\": [2.2298289196831838, 1.1435979098933085, 0.6039343068429402, 0.38607704961938516, 0.2943615405687264, 0.2454808826691338, 0.21278199348066534, 0.18957505670509167, 0.17890024845621416, 0.15652435423008032, 0.14648004974105527, 0.13909445300964374, 0.12588962588725344, 0.11981452331479106, 0.10926914703367012], \"source_val_label_loss\": [1.6286560535430907, 0.7250311466058096, 0.48041515201330187, 0.37526715978980063, 0.3004078076283137, 0.27053359312315783, 0.25524956864615284, 0.3855922946333885, 0.28838753782212734, 0.2827698934574922, 0.2394790792092681, 0.3144111367315054, 0.26891168576975666, 0.349548774920404, 0.14559788670390844], \"target_val_label_loss\": [1.6286560599009197, 0.7250311474005381, 0.48041515072186786, 0.3752671530842781, 0.30040780613819756, 0.27053359245260555, 0.25524957177539664, 0.3855923292040825, 0.2883875334262848, 0.2827698915203412, 0.23947905401388805, 0.3144111087669929, 0.26891167687873047, 0.34954873626430827, 0.14559788290411235], \"source_val_acc_label\": [0.5363020833333333, 0.828125, 0.902421875, 0.913828125, 0.9277083333333334, 0.9370052083333333, 0.931953125, 0.9407291666666666, 0.9473177083333333, 0.9503385416666666, 0.9608072916666667, 0.9376041666666667, 0.953359375, 0.9480208333333333, 0.9602083333333333], \"target_val_acc_label\": [0.5363020833333333, 0.828125, 0.902421875, 0.913828125, 0.9277083333333334, 0.9370052083333333, 0.931953125, 0.9407291666666666, 0.9473177083333333, 0.9503385416666666, 0.9608072916666667, 0.9376041666666667, 0.953359375, 0.9480208333333333, 0.9602083333333333]}, \"dataset_metrics\": {\"source\": {\"train\": {\"n_unique_x\": 179200, \"n_unique_y\": 16, \"n_batch/episode\": 1400}, \"val\": {\"n_unique_x\": 38400, \"n_unique_y\": 16, \"n_batch/episode\": 300}, \"test\": {\"n_unique_x\": 38400, \"n_unique_y\": 16, \"n_batch/episode\": 300}}, \"target\": {\"train\": {\"n_unique_x\": 179200, \"n_unique_y\": 16, \"n_batch/episode\": 1400}, \"val\": {\"n_unique_x\": 38400, \"n_unique_y\": 16, \"n_batch/episode\": 300}, \"test\": {\"n_unique_x\": 38400, \"n_unique_y\": 16, \"n_batch/episode\": 300}}}}'"
      ]
     },
     "execution_count": 20,
     "metadata": {},
     "output_type": "execute_result"
    }
   ],
   "source": [
    "json.dumps(experiment)"
   ]
  }
 ],
 "metadata": {
  "celltoolbar": "Tags",
  "kernelspec": {
   "display_name": "Python 3 (ipykernel)",
   "language": "python",
   "name": "python3"
  },
  "language_info": {
   "codemirror_mode": {
    "name": "ipython",
    "version": 3
   },
   "file_extension": ".py",
   "mimetype": "text/x-python",
   "name": "python",
   "nbconvert_exporter": "python",
   "pygments_lexer": "ipython3",
   "version": "3.8.12"
  },
  "papermill": {
   "default_parameters": {},
   "duration": 330.824006,
   "end_time": "2022-03-26T05:52:17.653846",
   "environment_variables": {},
   "exception": null,
   "input_path": "/root/csc500-main/csc500-notebooks/templates/cnn_template.ipynb",
   "output_path": "trial.ipynb",
   "parameters": {
    "parameters": {
     "BEST_MODEL_PATH": "./best_model.pth",
     "NUM_LOGS_PER_EPOCH": 10,
     "batch_size": 128,
     "criteria_for_best": "target_accuracy",
     "dataset_seed": 1337,
     "device": "cuda",
     "domains_source": [
      8,
      32,
      50,
      14,
      20,
      26,
      38,
      44
     ],
     "domains_target": [
      8,
      32,
      50,
      14,
      20,
      26,
      38,
      44
     ],
     "experiment_name": "cnn_2:oracle.run1.framed",
     "labels": [
      "3123D52",
      "3123D65",
      "3123D79",
      "3123D80",
      "3123D54",
      "3123D70",
      "3123D7B",
      "3123D89",
      "3123D58",
      "3123D76",
      "3123D7D",
      "3123EFE",
      "3123D64",
      "3123D78",
      "3123D7E",
      "3124E4A"
     ],
     "lr": 0.0001,
     "n_epoch": 50,
     "normalize_source": false,
     "normalize_target": false,
     "num_examples_per_domain_per_label_source": -1,
     "num_examples_per_domain_per_label_target": -1,
     "patience": 3,
     "pickle_name_source": "oracle.Run1_framed_2000Examples_stratified_ds.2022A.pkl",
     "pickle_name_target": "oracle.Run1_framed_2000Examples_stratified_ds.2022A.pkl",
     "seed": 1337,
     "torch_default_dtype": "torch.float32",
     "x_net": [
      {
       "class": "nnReshape",
       "kargs": {
        "shape": [
         -1,
         1,
         2,
         256
        ]
       }
      },
      {
       "class": "Conv2d",
       "kargs": {
        "bias": false,
        "in_channels": 1,
        "kernel_size": [
         1,
         7
        ],
        "out_channels": 256,
        "padding": [
         0,
         3
        ]
       }
      },
      {
       "class": "ReLU",
       "kargs": {
        "inplace": true
       }
      },
      {
       "class": "BatchNorm2d",
       "kargs": {
        "num_features": 256
       }
      },
      {
       "class": "Conv2d",
       "kargs": {
        "bias": true,
        "in_channels": 256,
        "kernel_size": [
         2,
         7
        ],
        "out_channels": 80,
        "padding": [
         0,
         3
        ]
       }
      },
      {
       "class": "ReLU",
       "kargs": {
        "inplace": true
       }
      },
      {
       "class": "BatchNorm2d",
       "kargs": {
        "num_features": 80
       }
      },
      {
       "class": "Flatten",
       "kargs": {}
      },
      {
       "class": "Linear",
       "kargs": {
        "in_features": 20480,
        "out_features": 256
       }
      },
      {
       "class": "ReLU",
       "kargs": {
        "inplace": true
       }
      },
      {
       "class": "BatchNorm1d",
       "kargs": {
        "num_features": 256
       }
      },
      {
       "class": "Linear",
       "kargs": {
        "in_features": 256,
        "out_features": 16
       }
      }
     ]
    }
   },
   "start_time": "2022-03-26T05:46:46.829840",
   "version": "2.3.4"
  }
 },
 "nbformat": 4,
 "nbformat_minor": 5
}