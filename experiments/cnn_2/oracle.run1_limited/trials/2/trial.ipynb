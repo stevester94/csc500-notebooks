{
 "cells": [
  {
   "cell_type": "code",
   "execution_count": 1,
   "id": "2324682e",
   "metadata": {
    "execution": {
     "iopub.execute_input": "2022-03-26T07:04:55.255600Z",
     "iopub.status.busy": "2022-03-26T07:04:55.254721Z",
     "iopub.status.idle": "2022-03-26T07:04:56.681243Z",
     "shell.execute_reply": "2022-03-26T07:04:56.680336Z"
    },
    "papermill": {
     "duration": 1.462567,
     "end_time": "2022-03-26T07:04:56.681434",
     "exception": false,
     "start_time": "2022-03-26T07:04:55.218867",
     "status": "completed"
    },
    "tags": []
   },
   "outputs": [],
   "source": [
    "import os, json, sys, time, random\n",
    "import numpy as np\n",
    "import torch\n",
    "from  easydict import EasyDict\n",
    "from math import floor\n",
    "from easydict import EasyDict\n",
    "\n",
    "from steves_utils.vanilla_train_eval_test_jig import  Vanilla_Train_Eval_Test_Jig\n",
    "\n",
    "from steves_utils.torch_utils import get_dataset_metrics, independent_accuracy_assesment\n",
    "from steves_models.configurable_vanilla import Configurable_Vanilla\n",
    "from steves_utils.torch_sequential_builder import build_sequential\n",
    "from steves_utils.lazy_map import Lazy_Map\n",
    "from steves_utils.sequence_aggregator import Sequence_Aggregator\n",
    "\n",
    "from steves_utils.stratified_dataset.traditional_accessor import Traditional_Accessor_Factory\n",
    "\n",
    "from steves_utils.cnn_do_report import (\n",
    "    get_loss_curve,\n",
    "    get_results_table,\n",
    "    get_parameters_table,\n",
    "    get_domain_accuracies,\n",
    ")\n",
    "\n",
    "from steves_utils.torch_utils import (\n",
    "    confusion_by_domain_over_dataloader,\n",
    "    independent_accuracy_assesment\n",
    ")\n",
    "\n",
    "from steves_utils.utils_v2 import (\n",
    "    per_domain_accuracy_from_confusion,\n",
    "    get_datasets_base_path\n",
    ")\n",
    "\n",
    "# from steves_utils.ptn_do_report import TBD"
   ]
  },
  {
   "cell_type": "code",
   "execution_count": 2,
   "id": "1b29e3fe",
   "metadata": {
    "execution": {
     "iopub.execute_input": "2022-03-26T07:04:56.718407Z",
     "iopub.status.busy": "2022-03-26T07:04:56.714970Z",
     "iopub.status.idle": "2022-03-26T07:04:56.721139Z",
     "shell.execute_reply": "2022-03-26T07:04:56.721847Z"
    },
    "papermill": {
     "duration": 0.022994,
     "end_time": "2022-03-26T07:04:56.722039",
     "exception": false,
     "start_time": "2022-03-26T07:04:56.699045",
     "status": "completed"
    },
    "tags": []
   },
   "outputs": [],
   "source": [
    "required_parameters = {\n",
    "    \"experiment_name\",\n",
    "    \"lr\",\n",
    "    \"device\",\n",
    "    \"dataset_seed\",\n",
    "    \"seed\",\n",
    "    \"labels\",\n",
    "    \"domains_target\",\n",
    "    \"domains_source\",\n",
    "    \"num_examples_per_domain_per_label_source\",\n",
    "    \"num_examples_per_domain_per_label_target\",\n",
    "    \"batch_size\",\n",
    "    \"n_epoch\",\n",
    "    \"patience\",\n",
    "    \"criteria_for_best\",\n",
    "    \"normalize_source\",\n",
    "    \"normalize_target\",\n",
    "    \"x_net\",\n",
    "    \"NUM_LOGS_PER_EPOCH\",\n",
    "    \"BEST_MODEL_PATH\",\n",
    "    \"pickle_name_source\",\n",
    "    \"pickle_name_target\",\n",
    "    \"torch_default_dtype\",\n",
    "}"
   ]
  },
  {
   "cell_type": "code",
   "execution_count": 3,
   "id": "670b5fb8",
   "metadata": {
    "execution": {
     "iopub.execute_input": "2022-03-26T07:04:56.767559Z",
     "iopub.status.busy": "2022-03-26T07:04:56.766646Z",
     "iopub.status.idle": "2022-03-26T07:04:56.774428Z",
     "shell.execute_reply": "2022-03-26T07:04:56.773595Z"
    },
    "papermill": {
     "duration": 0.033363,
     "end_time": "2022-03-26T07:04:56.774596",
     "exception": false,
     "start_time": "2022-03-26T07:04:56.741233",
     "status": "completed"
    },
    "tags": [
     "parameters"
    ]
   },
   "outputs": [],
   "source": [
    "from steves_utils.ORACLE.utils_v2 import (\n",
    "    ALL_SERIAL_NUMBERS,\n",
    "    ALL_DISTANCES_FEET_NARROWED,\n",
    ")\n",
    "\n",
    "standalone_parameters = {}\n",
    "standalone_parameters[\"experiment_name\"] = \"MANUAL CORES CNN\"\n",
    "standalone_parameters[\"lr\"] = 0.0001\n",
    "standalone_parameters[\"device\"] = \"cuda\"\n",
    "\n",
    "standalone_parameters[\"dataset_seed\"] = 1337\n",
    "standalone_parameters[\"seed\"] = 1337\n",
    "standalone_parameters[\"labels\"] = ALL_SERIAL_NUMBERS\n",
    "\n",
    "standalone_parameters[\"domains_source\"] = [8,32,50]\n",
    "standalone_parameters[\"domains_target\"] = [14,20,26,38,44,]\n",
    "\n",
    "standalone_parameters[\"num_examples_per_domain_per_label_source\"]=-1\n",
    "standalone_parameters[\"num_examples_per_domain_per_label_target\"]=-1\n",
    "\n",
    "standalone_parameters[\"pickle_name_source\"] = \"oracle.Run1_framed_2000Examples_stratified_ds.2022A.pkl\"\n",
    "standalone_parameters[\"pickle_name_target\"] = \"oracle.Run2_framed_2000Examples_stratified_ds.2022A.pkl\"\n",
    "\n",
    "standalone_parameters[\"torch_default_dtype\"] = \"torch.float32\" \n",
    "\n",
    "standalone_parameters[\"batch_size\"]=128\n",
    "\n",
    "standalone_parameters[\"n_epoch\"] = 3\n",
    "\n",
    "standalone_parameters[\"patience\"] = 10\n",
    "\n",
    "standalone_parameters[\"criteria_for_best\"] = \"target_accuracy\"\n",
    "standalone_parameters[\"normalize_source\"] = False\n",
    "standalone_parameters[\"normalize_target\"] = False\n",
    "\n",
    "standalone_parameters[\"x_net\"] =     [\n",
    "    {\"class\": \"nnReshape\", \"kargs\": {\"shape\":[-1, 1, 2, 256]}},\n",
    "    {\"class\": \"Conv2d\", \"kargs\": { \"in_channels\":1, \"out_channels\":256, \"kernel_size\":(1,7), \"bias\":False, \"padding\":(0,3), },},\n",
    "    {\"class\": \"ReLU\", \"kargs\": {\"inplace\": True}},\n",
    "    {\"class\": \"BatchNorm2d\", \"kargs\": {\"num_features\":256}},\n",
    "\n",
    "    {\"class\": \"Conv2d\", \"kargs\": { \"in_channels\":256, \"out_channels\":80, \"kernel_size\":(2,7), \"bias\":True, \"padding\":(0,3), },},\n",
    "    {\"class\": \"ReLU\", \"kargs\": {\"inplace\": True}},\n",
    "    {\"class\": \"BatchNorm2d\", \"kargs\": {\"num_features\":80}},\n",
    "    {\"class\": \"Flatten\", \"kargs\": {}},\n",
    "\n",
    "    {\"class\": \"Linear\", \"kargs\": {\"in_features\": 80*256, \"out_features\": 256}}, # 80 units per IQ pair\n",
    "    {\"class\": \"ReLU\", \"kargs\": {\"inplace\": True}},\n",
    "    {\"class\": \"BatchNorm1d\", \"kargs\": {\"num_features\":256}},\n",
    "\n",
    "    {\"class\": \"Linear\", \"kargs\": {\"in_features\": 256, \"out_features\": len(standalone_parameters[\"labels\"])}},\n",
    "]\n",
    "\n",
    "standalone_parameters[\"NUM_LOGS_PER_EPOCH\"] = 10\n",
    "standalone_parameters[\"BEST_MODEL_PATH\"] = \"./best_model.pth\""
   ]
  },
  {
   "cell_type": "code",
   "execution_count": 4,
   "id": "eb902853",
   "metadata": {
    "execution": {
     "iopub.execute_input": "2022-03-26T07:04:56.821382Z",
     "iopub.status.busy": "2022-03-26T07:04:56.820478Z",
     "iopub.status.idle": "2022-03-26T07:04:56.823206Z",
     "shell.execute_reply": "2022-03-26T07:04:56.822396Z"
    },
    "papermill": {
     "duration": 0.029794,
     "end_time": "2022-03-26T07:04:56.823366",
     "exception": false,
     "start_time": "2022-03-26T07:04:56.793572",
     "status": "completed"
    },
    "tags": [
     "injected-parameters"
    ]
   },
   "outputs": [],
   "source": [
    "# Parameters\n",
    "parameters = {\n",
    "    \"experiment_name\": \"cnn_2:oracle.run1_limited\",\n",
    "    \"labels\": [\n",
    "        \"3123D52\",\n",
    "        \"3123D65\",\n",
    "        \"3123D79\",\n",
    "        \"3123D80\",\n",
    "        \"3123D54\",\n",
    "        \"3123D70\",\n",
    "        \"3123D7B\",\n",
    "        \"3123D89\",\n",
    "        \"3123D58\",\n",
    "        \"3123D76\",\n",
    "        \"3123D7D\",\n",
    "        \"3123EFE\",\n",
    "        \"3123D64\",\n",
    "        \"3123D78\",\n",
    "        \"3123D7E\",\n",
    "        \"3124E4A\",\n",
    "    ],\n",
    "    \"domains_source\": [8, 32, 50, 14, 20, 26, 38, 44],\n",
    "    \"domains_target\": [8, 32, 50, 14, 20, 26, 38, 44],\n",
    "    \"pickle_name_source\": \"oracle.Run1_10kExamples_stratified_ds.2022A.pkl\",\n",
    "    \"pickle_name_target\": \"oracle.Run1_10kExamples_stratified_ds.2022A.pkl\",\n",
    "    \"device\": \"cuda\",\n",
    "    \"lr\": 0.0001,\n",
    "    \"batch_size\": 128,\n",
    "    \"normalize_source\": False,\n",
    "    \"normalize_target\": False,\n",
    "    \"num_examples_per_domain_per_label_source\": 2000,\n",
    "    \"num_examples_per_domain_per_label_target\": 2000,\n",
    "    \"torch_default_dtype\": \"torch.float32\",\n",
    "    \"n_epoch\": 50,\n",
    "    \"patience\": 3,\n",
    "    \"criteria_for_best\": \"target_accuracy\",\n",
    "    \"x_net\": [\n",
    "        {\"class\": \"nnReshape\", \"kargs\": {\"shape\": [-1, 1, 2, 256]}},\n",
    "        {\n",
    "            \"class\": \"Conv2d\",\n",
    "            \"kargs\": {\n",
    "                \"in_channels\": 1,\n",
    "                \"out_channels\": 256,\n",
    "                \"kernel_size\": [1, 7],\n",
    "                \"bias\": False,\n",
    "                \"padding\": [0, 3],\n",
    "            },\n",
    "        },\n",
    "        {\"class\": \"ReLU\", \"kargs\": {\"inplace\": True}},\n",
    "        {\"class\": \"BatchNorm2d\", \"kargs\": {\"num_features\": 256}},\n",
    "        {\n",
    "            \"class\": \"Conv2d\",\n",
    "            \"kargs\": {\n",
    "                \"in_channels\": 256,\n",
    "                \"out_channels\": 80,\n",
    "                \"kernel_size\": [2, 7],\n",
    "                \"bias\": True,\n",
    "                \"padding\": [0, 3],\n",
    "            },\n",
    "        },\n",
    "        {\"class\": \"ReLU\", \"kargs\": {\"inplace\": True}},\n",
    "        {\"class\": \"BatchNorm2d\", \"kargs\": {\"num_features\": 80}},\n",
    "        {\"class\": \"Flatten\", \"kargs\": {}},\n",
    "        {\"class\": \"Linear\", \"kargs\": {\"in_features\": 20480, \"out_features\": 256}},\n",
    "        {\"class\": \"ReLU\", \"kargs\": {\"inplace\": True}},\n",
    "        {\"class\": \"BatchNorm1d\", \"kargs\": {\"num_features\": 256}},\n",
    "        {\"class\": \"Linear\", \"kargs\": {\"in_features\": 256, \"out_features\": 16}},\n",
    "    ],\n",
    "    \"NUM_LOGS_PER_EPOCH\": 10,\n",
    "    \"BEST_MODEL_PATH\": \"./best_model.pth\",\n",
    "    \"dataset_seed\": 1337,\n",
    "    \"seed\": 1337,\n",
    "}\n"
   ]
  },
  {
   "cell_type": "code",
   "execution_count": 5,
   "id": "759b56ec",
   "metadata": {
    "execution": {
     "iopub.execute_input": "2022-03-26T07:04:56.860774Z",
     "iopub.status.busy": "2022-03-26T07:04:56.860386Z",
     "iopub.status.idle": "2022-03-26T07:04:56.862565Z",
     "shell.execute_reply": "2022-03-26T07:04:56.862243Z"
    },
    "papermill": {
     "duration": 0.020348,
     "end_time": "2022-03-26T07:04:56.862639",
     "exception": false,
     "start_time": "2022-03-26T07:04:56.842291",
     "status": "completed"
    },
    "tags": []
   },
   "outputs": [],
   "source": [
    "# Set this to True if you want to run this template directly\n",
    "STANDALONE = False\n",
    "if STANDALONE:\n",
    "    print(\"parameters not injected, running with standalone_parameters\")\n",
    "    parameters = standalone_parameters\n",
    "\n",
    "if not 'parameters' in locals() and not 'parameters' in globals():\n",
    "    raise Exception(\"Parameter injection failed\")\n",
    "\n",
    "#Use an easy dict for all the parameters\n",
    "p = EasyDict(parameters)\n",
    "\n",
    "supplied_keys = set(p.keys())\n",
    "\n",
    "if  supplied_keys != required_parameters:\n",
    "    print(\"Parameters are incorrect\")\n",
    "    if len(supplied_keys - required_parameters)>0: print(\"Shouldn't have:\", str(supplied_keys - required_parameters))\n",
    "    if len(required_parameters - supplied_keys)>0: print(\"Need to have:\", str(required_parameters - supplied_keys))\n",
    "    raise RuntimeError(\"Parameters are incorrect\")\n",
    "\n"
   ]
  },
  {
   "cell_type": "code",
   "execution_count": 6,
   "id": "d5c66a71",
   "metadata": {
    "execution": {
     "iopub.execute_input": "2022-03-26T07:04:56.898876Z",
     "iopub.status.busy": "2022-03-26T07:04:56.898306Z",
     "iopub.status.idle": "2022-03-26T07:04:56.902359Z",
     "shell.execute_reply": "2022-03-26T07:04:56.901868Z"
    },
    "papermill": {
     "duration": 0.022912,
     "end_time": "2022-03-26T07:04:56.902473",
     "exception": false,
     "start_time": "2022-03-26T07:04:56.879561",
     "status": "completed"
    },
    "tags": []
   },
   "outputs": [],
   "source": [
    "###################################\n",
    "# Set the RNGs and make it all deterministic\n",
    "###################################\n",
    "np.random.seed(p.seed)\n",
    "random.seed(p.seed)\n",
    "torch.manual_seed(p.seed)\n",
    "\n",
    "torch.use_deterministic_algorithms(True) "
   ]
  },
  {
   "cell_type": "code",
   "execution_count": 7,
   "id": "92a65876",
   "metadata": {
    "execution": {
     "iopub.execute_input": "2022-03-26T07:04:56.940165Z",
     "iopub.status.busy": "2022-03-26T07:04:56.939794Z",
     "iopub.status.idle": "2022-03-26T07:04:56.942061Z",
     "shell.execute_reply": "2022-03-26T07:04:56.942363Z"
    },
    "papermill": {
     "duration": 0.020666,
     "end_time": "2022-03-26T07:04:56.942460",
     "exception": false,
     "start_time": "2022-03-26T07:04:56.921794",
     "status": "completed"
    },
    "tags": []
   },
   "outputs": [],
   "source": [
    "torch.set_default_dtype(eval(p.torch_default_dtype))"
   ]
  },
  {
   "cell_type": "code",
   "execution_count": 8,
   "id": "f1a32f01",
   "metadata": {
    "execution": {
     "iopub.execute_input": "2022-03-26T07:04:56.977262Z",
     "iopub.status.busy": "2022-03-26T07:04:56.976810Z",
     "iopub.status.idle": "2022-03-26T07:04:57.016178Z",
     "shell.execute_reply": "2022-03-26T07:04:57.015402Z"
    },
    "papermill": {
     "duration": 0.056493,
     "end_time": "2022-03-26T07:04:57.016341",
     "exception": false,
     "start_time": "2022-03-26T07:04:56.959848",
     "status": "completed"
    },
    "tags": []
   },
   "outputs": [],
   "source": [
    "###################################\n",
    "# Build the network(s)\n",
    "# Note: It's critical to do this AFTER setting the RNG\n",
    "###################################\n",
    "x_net = build_sequential(p.x_net)"
   ]
  },
  {
   "cell_type": "code",
   "execution_count": 9,
   "id": "a276cd83",
   "metadata": {
    "execution": {
     "iopub.execute_input": "2022-03-26T07:04:57.053505Z",
     "iopub.status.busy": "2022-03-26T07:04:57.053127Z",
     "iopub.status.idle": "2022-03-26T07:04:57.055387Z",
     "shell.execute_reply": "2022-03-26T07:04:57.055716Z"
    },
    "papermill": {
     "duration": 0.020893,
     "end_time": "2022-03-26T07:04:57.055808",
     "exception": false,
     "start_time": "2022-03-26T07:04:57.034915",
     "status": "completed"
    },
    "tags": []
   },
   "outputs": [],
   "source": [
    "start_time_secs = time.time()"
   ]
  },
  {
   "cell_type": "code",
   "execution_count": 10,
   "id": "de702e48",
   "metadata": {
    "execution": {
     "iopub.execute_input": "2022-03-26T07:04:57.101846Z",
     "iopub.status.busy": "2022-03-26T07:04:57.100953Z",
     "iopub.status.idle": "2022-03-26T07:05:09.772316Z",
     "shell.execute_reply": "2022-03-26T07:05:09.771510Z"
    },
    "papermill": {
     "duration": 12.697846,
     "end_time": "2022-03-26T07:05:09.772498",
     "exception": false,
     "start_time": "2022-03-26T07:04:57.074652",
     "status": "completed"
    },
    "tags": []
   },
   "outputs": [],
   "source": [
    "def wrap_in_dataloader(p, ds):\n",
    "    return torch.utils.data.DataLoader(\n",
    "        ds,\n",
    "        batch_size=p.batch_size,\n",
    "        shuffle=True,\n",
    "        num_workers=1,\n",
    "        persistent_workers=True,\n",
    "        prefetch_factor=50,\n",
    "        pin_memory=True\n",
    "    )\n",
    "\n",
    "taf_source = Traditional_Accessor_Factory(\n",
    "    labels=p.labels,\n",
    "    domains=p.domains_source,\n",
    "    num_examples_per_domain_per_label=p.num_examples_per_domain_per_label_source,\n",
    "    pickle_path=os.path.join(get_datasets_base_path(), p.pickle_name_source),\n",
    "    seed=p.dataset_seed\n",
    ")\n",
    "train_original_source, val_original_source, test_original_source = \\\n",
    "    taf_source.get_train(), taf_source.get_val(), taf_source.get_test()\n",
    "\n",
    "\n",
    "taf_target = Traditional_Accessor_Factory(\n",
    "    labels=p.labels,\n",
    "    domains=p.domains_target,\n",
    "    num_examples_per_domain_per_label=p.num_examples_per_domain_per_label_source,\n",
    "    pickle_path=os.path.join(get_datasets_base_path(), p.pickle_name_target),\n",
    "    seed=p.dataset_seed\n",
    ")\n",
    "train_original_target, val_original_target, test_original_target = \\\n",
    "    taf_target.get_train(), taf_target.get_val(), taf_target.get_test()\n",
    "\n",
    "\n",
    "# For CNN We only use X and Y. And we only train on the source.\n",
    "# Properly form the data using a transform lambda and Lazy_Map. Finally wrap them in a dataloader\n",
    "\n",
    "transform_lambda = lambda ex: ex[:2] # Strip the tuple to just (x,y)\n",
    "\n",
    "\n",
    "train_processed_source = wrap_in_dataloader(\n",
    "    p,\n",
    "    Lazy_Map(train_original_source, transform_lambda)\n",
    ")\n",
    "val_processed_source = wrap_in_dataloader(\n",
    "    p,\n",
    "    Lazy_Map(val_original_source, transform_lambda)\n",
    ")\n",
    "test_processed_source = wrap_in_dataloader(\n",
    "    p,\n",
    "    Lazy_Map(test_original_source, transform_lambda)\n",
    ")\n",
    "\n",
    "train_processed_target = wrap_in_dataloader(\n",
    "    p,\n",
    "    Lazy_Map(train_original_target, transform_lambda)\n",
    ")\n",
    "val_processed_target = wrap_in_dataloader(\n",
    "    p,\n",
    "    Lazy_Map(val_original_target, transform_lambda)\n",
    ")\n",
    "test_processed_target  = wrap_in_dataloader(\n",
    "    p,\n",
    "    Lazy_Map(test_original_target, transform_lambda)\n",
    ")\n",
    "\n",
    "\n",
    "\n",
    "datasets = EasyDict({\n",
    "    \"source\": {\n",
    "        \"original\": {\"train\":train_original_source, \"val\":val_original_source, \"test\":test_original_source},\n",
    "        \"processed\": {\"train\":train_processed_source, \"val\":val_processed_source, \"test\":test_processed_source}\n",
    "    },\n",
    "    \"target\": {\n",
    "        \"original\": {\"train\":train_original_target, \"val\":val_original_target, \"test\":test_original_target},\n",
    "        \"processed\": {\"train\":train_processed_target, \"val\":val_processed_target, \"test\":test_processed_target}\n",
    "    },\n",
    "})"
   ]
  },
  {
   "cell_type": "code",
   "execution_count": 11,
   "id": "a11b26bd",
   "metadata": {
    "execution": {
     "iopub.execute_input": "2022-03-26T07:05:09.851181Z",
     "iopub.status.busy": "2022-03-26T07:05:09.850339Z",
     "iopub.status.idle": "2022-03-26T07:05:15.199386Z",
     "shell.execute_reply": "2022-03-26T07:05:15.198611Z"
    },
    "papermill": {
     "duration": 5.408398,
     "end_time": "2022-03-26T07:05:15.199571",
     "exception": false,
     "start_time": "2022-03-26T07:05:09.791173",
     "status": "completed"
    },
    "tags": []
   },
   "outputs": [
    {
     "data": {
      "text/plain": [
       "torch.float32"
      ]
     },
     "execution_count": 11,
     "metadata": {},
     "output_type": "execute_result"
    }
   ],
   "source": [
    "ep = next(iter(test_processed_target))\n",
    "ep[0].dtype"
   ]
  },
  {
   "cell_type": "code",
   "execution_count": 12,
   "id": "19425fad",
   "metadata": {
    "execution": {
     "iopub.execute_input": "2022-03-26T07:05:15.238121Z",
     "iopub.status.busy": "2022-03-26T07:05:15.237309Z",
     "iopub.status.idle": "2022-03-26T07:05:15.285861Z",
     "shell.execute_reply": "2022-03-26T07:05:15.285148Z"
    },
    "papermill": {
     "duration": 0.069241,
     "end_time": "2022-03-26T07:05:15.286015",
     "exception": false,
     "start_time": "2022-03-26T07:05:15.216774",
     "status": "completed"
    },
    "tags": []
   },
   "outputs": [],
   "source": [
    "model = Configurable_Vanilla(\n",
    "    x_net=x_net,\n",
    "    label_loss_object=torch.nn.NLLLoss(),\n",
    "    learning_rate=p.lr\n",
    ")"
   ]
  },
  {
   "cell_type": "code",
   "execution_count": 13,
   "id": "7f6d4f2c",
   "metadata": {
    "execution": {
     "iopub.execute_input": "2022-03-26T07:05:15.325676Z",
     "iopub.status.busy": "2022-03-26T07:05:15.325117Z",
     "iopub.status.idle": "2022-03-26T07:08:52.758385Z",
     "shell.execute_reply": "2022-03-26T07:08:52.759072Z"
    },
    "papermill": {
     "duration": 217.453807,
     "end_time": "2022-03-26T07:08:52.759271",
     "exception": false,
     "start_time": "2022-03-26T07:05:15.305464",
     "status": "completed"
    },
    "tags": []
   },
   "outputs": [
    {
     "name": "stdout",
     "output_type": "stream",
     "text": [
      "epoch: 1, [batch: 1 / 1400], examples_per_second: 650.5303, train_label_loss: 2.7673, \n"
     ]
    },
    {
     "name": "stdout",
     "output_type": "stream",
     "text": [
      "epoch: 1, [batch: 140 / 1400], examples_per_second: 10640.8544, train_label_loss: 2.7089, \n"
     ]
    },
    {
     "name": "stdout",
     "output_type": "stream",
     "text": [
      "epoch: 1, [batch: 280 / 1400], examples_per_second: 10512.7782, train_label_loss: 2.7274, \n"
     ]
    },
    {
     "name": "stdout",
     "output_type": "stream",
     "text": [
      "epoch: 1, [batch: 420 / 1400], examples_per_second: 10677.8572, train_label_loss: 2.5429, \n"
     ]
    },
    {
     "name": "stdout",
     "output_type": "stream",
     "text": [
      "epoch: 1, [batch: 560 / 1400], examples_per_second: 10569.7696, train_label_loss: 2.6076, \n"
     ]
    },
    {
     "name": "stdout",
     "output_type": "stream",
     "text": [
      "epoch: 1, [batch: 700 / 1400], examples_per_second: 10597.6085, train_label_loss: 2.5662, \n"
     ]
    },
    {
     "name": "stdout",
     "output_type": "stream",
     "text": [
      "epoch: 1, [batch: 840 / 1400], examples_per_second: 10656.8403, train_label_loss: 2.6221, \n"
     ]
    },
    {
     "name": "stdout",
     "output_type": "stream",
     "text": [
      "epoch: 1, [batch: 980 / 1400], examples_per_second: 10692.5994, train_label_loss: 2.6382, \n"
     ]
    },
    {
     "name": "stdout",
     "output_type": "stream",
     "text": [
      "epoch: 1, [batch: 1120 / 1400], examples_per_second: 10591.1783, train_label_loss: 2.5447, \n"
     ]
    },
    {
     "name": "stdout",
     "output_type": "stream",
     "text": [
      "epoch: 1, [batch: 1260 / 1400], examples_per_second: 10676.8454, train_label_loss: 2.4446, \n"
     ]
    },
    {
     "name": "stdout",
     "output_type": "stream",
     "text": [
      "=============================================================\n",
      "epoch: 1, source_val_acc_label: 0.1587, source_val_label_loss: 2.5453, target_val_acc_label: 0.1587, target_val_label_loss: 2.5453, \n",
      "=============================================================\n"
     ]
    },
    {
     "name": "stdout",
     "output_type": "stream",
     "text": [
      "New best\n",
      "epoch: 2, [batch: 1 / 1400], examples_per_second: 49.7282, train_label_loss: 2.4337, \n"
     ]
    },
    {
     "name": "stdout",
     "output_type": "stream",
     "text": [
      "epoch: 2, [batch: 140 / 1400], examples_per_second: 10541.5978, train_label_loss: 2.3624, \n"
     ]
    },
    {
     "name": "stdout",
     "output_type": "stream",
     "text": [
      "epoch: 2, [batch: 280 / 1400], examples_per_second: 10559.5442, train_label_loss: 2.2971, \n"
     ]
    },
    {
     "name": "stdout",
     "output_type": "stream",
     "text": [
      "epoch: 2, [batch: 420 / 1400], examples_per_second: 10621.8060, train_label_loss: 2.2697, \n"
     ]
    },
    {
     "name": "stdout",
     "output_type": "stream",
     "text": [
      "epoch: 2, [batch: 560 / 1400], examples_per_second: 10699.7871, train_label_loss: 2.3207, \n"
     ]
    },
    {
     "name": "stdout",
     "output_type": "stream",
     "text": [
      "epoch: 2, [batch: 700 / 1400], examples_per_second: 10573.5181, train_label_loss: 2.2484, \n"
     ]
    },
    {
     "name": "stdout",
     "output_type": "stream",
     "text": [
      "epoch: 2, [batch: 840 / 1400], examples_per_second: 10580.1042, train_label_loss: 2.2859, \n"
     ]
    },
    {
     "name": "stdout",
     "output_type": "stream",
     "text": [
      "epoch: 2, [batch: 980 / 1400], examples_per_second: 10641.1975, train_label_loss: 2.3439, \n"
     ]
    },
    {
     "name": "stdout",
     "output_type": "stream",
     "text": [
      "epoch: 2, [batch: 1120 / 1400], examples_per_second: 10720.2154, train_label_loss: 2.2483, \n"
     ]
    },
    {
     "name": "stdout",
     "output_type": "stream",
     "text": [
      "epoch: 2, [batch: 1260 / 1400], examples_per_second: 10515.0490, train_label_loss: 2.0763, \n"
     ]
    },
    {
     "name": "stdout",
     "output_type": "stream",
     "text": [
      "=============================================================\n",
      "epoch: 2, source_val_acc_label: 0.3217, source_val_label_loss: 2.0784, target_val_acc_label: 0.3217, target_val_label_loss: 2.0784, \n",
      "=============================================================\n"
     ]
    },
    {
     "name": "stdout",
     "output_type": "stream",
     "text": [
      "New best\n",
      "epoch: 3, [batch: 1 / 1400], examples_per_second: 56.6294, train_label_loss: 2.0304, \n"
     ]
    },
    {
     "name": "stdout",
     "output_type": "stream",
     "text": [
      "epoch: 3, [batch: 140 / 1400], examples_per_second: 10571.3657, train_label_loss: 2.0187, \n"
     ]
    },
    {
     "name": "stdout",
     "output_type": "stream",
     "text": [
      "epoch: 3, [batch: 280 / 1400], examples_per_second: 10622.4980, train_label_loss: 1.9043, \n"
     ]
    },
    {
     "name": "stdout",
     "output_type": "stream",
     "text": [
      "epoch: 3, [batch: 420 / 1400], examples_per_second: 10575.9968, train_label_loss: 2.0658, \n"
     ]
    },
    {
     "name": "stdout",
     "output_type": "stream",
     "text": [
      "epoch: 3, [batch: 560 / 1400], examples_per_second: 10523.8841, train_label_loss: 1.9018, \n"
     ]
    },
    {
     "name": "stdout",
     "output_type": "stream",
     "text": [
      "epoch: 3, [batch: 700 / 1400], examples_per_second: 10522.1501, train_label_loss: 2.0039, \n"
     ]
    },
    {
     "name": "stdout",
     "output_type": "stream",
     "text": [
      "epoch: 3, [batch: 840 / 1400], examples_per_second: 10598.6262, train_label_loss: 1.8181, \n"
     ]
    },
    {
     "name": "stdout",
     "output_type": "stream",
     "text": [
      "epoch: 3, [batch: 980 / 1400], examples_per_second: 10707.5442, train_label_loss: 1.6925, \n"
     ]
    },
    {
     "name": "stdout",
     "output_type": "stream",
     "text": [
      "epoch: 3, [batch: 1120 / 1400], examples_per_second: 10595.1451, train_label_loss: 1.7908, \n"
     ]
    },
    {
     "name": "stdout",
     "output_type": "stream",
     "text": [
      "epoch: 3, [batch: 1260 / 1400], examples_per_second: 10693.1167, train_label_loss: 1.6524, \n"
     ]
    },
    {
     "name": "stdout",
     "output_type": "stream",
     "text": [
      "=============================================================\n",
      "epoch: 3, source_val_acc_label: 0.4166, source_val_label_loss: 1.7233, target_val_acc_label: 0.4166, target_val_label_loss: 1.7233, \n",
      "=============================================================\n"
     ]
    },
    {
     "name": "stdout",
     "output_type": "stream",
     "text": [
      "New best\n",
      "epoch: 4, [batch: 1 / 1400], examples_per_second: 56.8526, train_label_loss: 1.5212, \n"
     ]
    },
    {
     "name": "stdout",
     "output_type": "stream",
     "text": [
      "epoch: 4, [batch: 140 / 1400], examples_per_second: 10555.4768, train_label_loss: 1.5438, \n"
     ]
    },
    {
     "name": "stdout",
     "output_type": "stream",
     "text": [
      "epoch: 4, [batch: 280 / 1400], examples_per_second: 10628.6507, train_label_loss: 1.7313, \n"
     ]
    },
    {
     "name": "stdout",
     "output_type": "stream",
     "text": [
      "epoch: 4, [batch: 420 / 1400], examples_per_second: 10688.3450, train_label_loss: 1.5730, \n"
     ]
    },
    {
     "name": "stdout",
     "output_type": "stream",
     "text": [
      "epoch: 4, [batch: 560 / 1400], examples_per_second: 10488.7875, train_label_loss: 1.5470, \n"
     ]
    },
    {
     "name": "stdout",
     "output_type": "stream",
     "text": [
      "epoch: 4, [batch: 700 / 1400], examples_per_second: 10608.6804, train_label_loss: 1.4051, \n"
     ]
    },
    {
     "name": "stdout",
     "output_type": "stream",
     "text": [
      "epoch: 4, [batch: 840 / 1400], examples_per_second: 10509.8206, train_label_loss: 1.5000, \n"
     ]
    },
    {
     "name": "stdout",
     "output_type": "stream",
     "text": [
      "epoch: 4, [batch: 980 / 1400], examples_per_second: 10493.7123, train_label_loss: 1.6851, \n"
     ]
    },
    {
     "name": "stdout",
     "output_type": "stream",
     "text": [
      "epoch: 4, [batch: 1120 / 1400], examples_per_second: 10570.0357, train_label_loss: 1.4009, \n"
     ]
    },
    {
     "name": "stdout",
     "output_type": "stream",
     "text": [
      "epoch: 4, [batch: 1260 / 1400], examples_per_second: 10652.1040, train_label_loss: 1.3768, \n"
     ]
    },
    {
     "name": "stdout",
     "output_type": "stream",
     "text": [
      "=============================================================\n",
      "epoch: 4, source_val_acc_label: 0.4561, source_val_label_loss: 1.5717, target_val_acc_label: 0.4561, target_val_label_loss: 1.5717, \n",
      "=============================================================\n"
     ]
    },
    {
     "name": "stdout",
     "output_type": "stream",
     "text": [
      "New best\n",
      "epoch: 5, [batch: 1 / 1400], examples_per_second: 56.0025, train_label_loss: 1.1763, \n"
     ]
    },
    {
     "name": "stdout",
     "output_type": "stream",
     "text": [
      "epoch: 5, [batch: 140 / 1400], examples_per_second: 10629.2401, train_label_loss: 1.2965, \n"
     ]
    },
    {
     "name": "stdout",
     "output_type": "stream",
     "text": [
      "epoch: 5, [batch: 280 / 1400], examples_per_second: 10623.6060, train_label_loss: 1.2349, \n"
     ]
    },
    {
     "name": "stdout",
     "output_type": "stream",
     "text": [
      "epoch: 5, [batch: 420 / 1400], examples_per_second: 10653.1246, train_label_loss: 1.3203, \n"
     ]
    },
    {
     "name": "stdout",
     "output_type": "stream",
     "text": [
      "epoch: 5, [batch: 560 / 1400], examples_per_second: 10630.5493, train_label_loss: 1.1654, \n"
     ]
    },
    {
     "name": "stdout",
     "output_type": "stream",
     "text": [
      "epoch: 5, [batch: 700 / 1400], examples_per_second: 10699.6165, train_label_loss: 1.2428, \n"
     ]
    },
    {
     "name": "stdout",
     "output_type": "stream",
     "text": [
      "epoch: 5, [batch: 840 / 1400], examples_per_second: 10613.5460, train_label_loss: 1.1925, \n"
     ]
    },
    {
     "name": "stdout",
     "output_type": "stream",
     "text": [
      "epoch: 5, [batch: 980 / 1400], examples_per_second: 10574.2217, train_label_loss: 1.2894, \n"
     ]
    },
    {
     "name": "stdout",
     "output_type": "stream",
     "text": [
      "epoch: 5, [batch: 1120 / 1400], examples_per_second: 10688.6703, train_label_loss: 1.2839, \n"
     ]
    },
    {
     "name": "stdout",
     "output_type": "stream",
     "text": [
      "epoch: 5, [batch: 1260 / 1400], examples_per_second: 10690.5858, train_label_loss: 1.5960, \n"
     ]
    },
    {
     "name": "stdout",
     "output_type": "stream",
     "text": [
      "=============================================================\n",
      "epoch: 5, source_val_acc_label: 0.4889, source_val_label_loss: 1.4332, target_val_acc_label: 0.4889, target_val_label_loss: 1.4332, \n",
      "=============================================================\n"
     ]
    },
    {
     "name": "stdout",
     "output_type": "stream",
     "text": [
      "New best\n",
      "epoch: 6, [batch: 1 / 1400], examples_per_second: 56.7510, train_label_loss: 1.0517, \n"
     ]
    },
    {
     "name": "stdout",
     "output_type": "stream",
     "text": [
      "epoch: 6, [batch: 140 / 1400], examples_per_second: 10647.0379, train_label_loss: 0.8233, \n"
     ]
    },
    {
     "name": "stdout",
     "output_type": "stream",
     "text": [
      "epoch: 6, [batch: 280 / 1400], examples_per_second: 10614.6012, train_label_loss: 0.9605, \n"
     ]
    },
    {
     "name": "stdout",
     "output_type": "stream",
     "text": [
      "epoch: 6, [batch: 420 / 1400], examples_per_second: 10715.1323, train_label_loss: 0.9645, \n"
     ]
    },
    {
     "name": "stdout",
     "output_type": "stream",
     "text": [
      "epoch: 6, [batch: 560 / 1400], examples_per_second: 10638.4969, train_label_loss: 1.1202, \n"
     ]
    },
    {
     "name": "stdout",
     "output_type": "stream",
     "text": [
      "epoch: 6, [batch: 700 / 1400], examples_per_second: 10614.6117, train_label_loss: 1.0955, \n"
     ]
    },
    {
     "name": "stdout",
     "output_type": "stream",
     "text": [
      "epoch: 6, [batch: 840 / 1400], examples_per_second: 10689.1385, train_label_loss: 1.0418, \n"
     ]
    },
    {
     "name": "stdout",
     "output_type": "stream",
     "text": [
      "epoch: 6, [batch: 980 / 1400], examples_per_second: 10685.5141, train_label_loss: 0.8750, \n"
     ]
    },
    {
     "name": "stdout",
     "output_type": "stream",
     "text": [
      "epoch: 6, [batch: 1120 / 1400], examples_per_second: 10638.6746, train_label_loss: 1.0710, \n"
     ]
    },
    {
     "name": "stdout",
     "output_type": "stream",
     "text": [
      "epoch: 6, [batch: 1260 / 1400], examples_per_second: 10623.2592, train_label_loss: 1.0456, \n"
     ]
    },
    {
     "name": "stdout",
     "output_type": "stream",
     "text": [
      "=============================================================\n",
      "epoch: 6, source_val_acc_label: 0.4925, source_val_label_loss: 1.4331, target_val_acc_label: 0.4925, target_val_label_loss: 1.4331, \n",
      "=============================================================\n"
     ]
    },
    {
     "name": "stdout",
     "output_type": "stream",
     "text": [
      "New best\n",
      "epoch: 7, [batch: 1 / 1400], examples_per_second: 55.8717, train_label_loss: 0.7279, \n"
     ]
    },
    {
     "name": "stdout",
     "output_type": "stream",
     "text": [
      "epoch: 7, [batch: 140 / 1400], examples_per_second: 10569.7486, train_label_loss: 0.6704, \n"
     ]
    },
    {
     "name": "stdout",
     "output_type": "stream",
     "text": [
      "epoch: 7, [batch: 280 / 1400], examples_per_second: 10730.4220, train_label_loss: 0.7313, \n"
     ]
    },
    {
     "name": "stdout",
     "output_type": "stream",
     "text": [
      "epoch: 7, [batch: 420 / 1400], examples_per_second: 10668.5800, train_label_loss: 0.7228, \n"
     ]
    },
    {
     "name": "stdout",
     "output_type": "stream",
     "text": [
      "epoch: 7, [batch: 560 / 1400], examples_per_second: 10665.9412, train_label_loss: 0.8905, \n"
     ]
    },
    {
     "name": "stdout",
     "output_type": "stream",
     "text": [
      "epoch: 7, [batch: 700 / 1400], examples_per_second: 10659.2116, train_label_loss: 0.6576, \n"
     ]
    },
    {
     "name": "stdout",
     "output_type": "stream",
     "text": [
      "epoch: 7, [batch: 840 / 1400], examples_per_second: 10644.1496, train_label_loss: 0.7224, \n"
     ]
    },
    {
     "name": "stdout",
     "output_type": "stream",
     "text": [
      "epoch: 7, [batch: 980 / 1400], examples_per_second: 10682.2065, train_label_loss: 1.0592, \n"
     ]
    },
    {
     "name": "stdout",
     "output_type": "stream",
     "text": [
      "epoch: 7, [batch: 1120 / 1400], examples_per_second: 10653.1971, train_label_loss: 0.7931, \n"
     ]
    },
    {
     "name": "stdout",
     "output_type": "stream",
     "text": [
      "epoch: 7, [batch: 1260 / 1400], examples_per_second: 10588.7014, train_label_loss: 0.8552, \n"
     ]
    },
    {
     "name": "stdout",
     "output_type": "stream",
     "text": [
      "=============================================================\n",
      "epoch: 7, source_val_acc_label: 0.4930, source_val_label_loss: 1.4949, target_val_acc_label: 0.4930, target_val_label_loss: 1.4949, \n",
      "=============================================================\n"
     ]
    },
    {
     "name": "stdout",
     "output_type": "stream",
     "text": [
      "New best\n",
      "epoch: 8, [batch: 1 / 1400], examples_per_second: 55.7773, train_label_loss: 0.6242, \n"
     ]
    },
    {
     "name": "stdout",
     "output_type": "stream",
     "text": [
      "epoch: 8, [batch: 140 / 1400], examples_per_second: 10572.2298, train_label_loss: 0.5762, \n"
     ]
    },
    {
     "name": "stdout",
     "output_type": "stream",
     "text": [
      "epoch: 8, [batch: 280 / 1400], examples_per_second: 10886.9489, train_label_loss: 0.5410, \n"
     ]
    },
    {
     "name": "stdout",
     "output_type": "stream",
     "text": [
      "epoch: 8, [batch: 420 / 1400], examples_per_second: 10663.8181, train_label_loss: 0.6747, \n"
     ]
    },
    {
     "name": "stdout",
     "output_type": "stream",
     "text": [
      "epoch: 8, [batch: 560 / 1400], examples_per_second: 10708.9249, train_label_loss: 0.4691, \n"
     ]
    },
    {
     "name": "stdout",
     "output_type": "stream",
     "text": [
      "epoch: 8, [batch: 700 / 1400], examples_per_second: 10697.6718, train_label_loss: 0.6523, \n"
     ]
    },
    {
     "name": "stdout",
     "output_type": "stream",
     "text": [
      "epoch: 8, [batch: 840 / 1400], examples_per_second: 10734.5230, train_label_loss: 0.4494, \n"
     ]
    },
    {
     "name": "stdout",
     "output_type": "stream",
     "text": [
      "epoch: 8, [batch: 980 / 1400], examples_per_second: 10602.9606, train_label_loss: 0.6496, \n"
     ]
    },
    {
     "name": "stdout",
     "output_type": "stream",
     "text": [
      "epoch: 8, [batch: 1120 / 1400], examples_per_second: 10757.1284, train_label_loss: 0.5476, \n"
     ]
    },
    {
     "name": "stdout",
     "output_type": "stream",
     "text": [
      "epoch: 8, [batch: 1260 / 1400], examples_per_second: 10648.2543, train_label_loss: 0.6462, \n"
     ]
    },
    {
     "name": "stdout",
     "output_type": "stream",
     "text": [
      "=============================================================\n",
      "epoch: 8, source_val_acc_label: 0.4854, source_val_label_loss: 1.5853, target_val_acc_label: 0.4854, target_val_label_loss: 1.5853, \n",
      "=============================================================\n"
     ]
    },
    {
     "name": "stdout",
     "output_type": "stream",
     "text": [
      "epoch: 9, [batch: 1 / 1400], examples_per_second: 57.2298, train_label_loss: 0.3830, \n"
     ]
    },
    {
     "name": "stdout",
     "output_type": "stream",
     "text": [
      "epoch: 9, [batch: 140 / 1400], examples_per_second: 10629.1508, train_label_loss: 0.6943, \n"
     ]
    },
    {
     "name": "stdout",
     "output_type": "stream",
     "text": [
      "epoch: 9, [batch: 280 / 1400], examples_per_second: 10695.7019, train_label_loss: 0.5479, \n"
     ]
    },
    {
     "name": "stdout",
     "output_type": "stream",
     "text": [
      "epoch: 9, [batch: 420 / 1400], examples_per_second: 10663.6381, train_label_loss: 0.4995, \n"
     ]
    },
    {
     "name": "stdout",
     "output_type": "stream",
     "text": [
      "epoch: 9, [batch: 560 / 1400], examples_per_second: 10697.8484, train_label_loss: 0.5501, \n"
     ]
    },
    {
     "name": "stdout",
     "output_type": "stream",
     "text": [
      "epoch: 9, [batch: 700 / 1400], examples_per_second: 10692.5797, train_label_loss: 0.5012, \n"
     ]
    },
    {
     "name": "stdout",
     "output_type": "stream",
     "text": [
      "epoch: 9, [batch: 840 / 1400], examples_per_second: 10607.5425, train_label_loss: 0.4455, \n"
     ]
    },
    {
     "name": "stdout",
     "output_type": "stream",
     "text": [
      "epoch: 9, [batch: 980 / 1400], examples_per_second: 10723.8250, train_label_loss: 0.5162, \n"
     ]
    },
    {
     "name": "stdout",
     "output_type": "stream",
     "text": [
      "epoch: 9, [batch: 1120 / 1400], examples_per_second: 10690.2011, train_label_loss: 0.3961, \n"
     ]
    },
    {
     "name": "stdout",
     "output_type": "stream",
     "text": [
      "epoch: 9, [batch: 1260 / 1400], examples_per_second: 10684.5648, train_label_loss: 0.5158, \n"
     ]
    },
    {
     "name": "stdout",
     "output_type": "stream",
     "text": [
      "=============================================================\n",
      "epoch: 9, source_val_acc_label: 0.4723, source_val_label_loss: 1.6910, target_val_acc_label: 0.4723, target_val_label_loss: 1.6910, \n",
      "=============================================================\n"
     ]
    },
    {
     "name": "stdout",
     "output_type": "stream",
     "text": [
      "epoch: 10, [batch: 1 / 1400], examples_per_second: 55.9314, train_label_loss: 0.3154, \n"
     ]
    },
    {
     "name": "stdout",
     "output_type": "stream",
     "text": [
      "epoch: 10, [batch: 140 / 1400], examples_per_second: 10557.0312, train_label_loss: 0.2607, \n"
     ]
    },
    {
     "name": "stdout",
     "output_type": "stream",
     "text": [
      "epoch: 10, [batch: 280 / 1400], examples_per_second: 10637.2458, train_label_loss: 0.2985, \n"
     ]
    },
    {
     "name": "stdout",
     "output_type": "stream",
     "text": [
      "epoch: 10, [batch: 420 / 1400], examples_per_second: 10656.0109, train_label_loss: 0.5133, \n"
     ]
    },
    {
     "name": "stdout",
     "output_type": "stream",
     "text": [
      "epoch: 10, [batch: 560 / 1400], examples_per_second: 10888.6476, train_label_loss: 0.3192, \n"
     ]
    },
    {
     "name": "stdout",
     "output_type": "stream",
     "text": [
      "epoch: 10, [batch: 700 / 1400], examples_per_second: 10707.1110, train_label_loss: 0.3515, \n"
     ]
    },
    {
     "name": "stdout",
     "output_type": "stream",
     "text": [
      "epoch: 10, [batch: 840 / 1400], examples_per_second: 10664.5307, train_label_loss: 0.3176, \n"
     ]
    },
    {
     "name": "stdout",
     "output_type": "stream",
     "text": [
      "epoch: 10, [batch: 980 / 1400], examples_per_second: 10678.2091, train_label_loss: 0.8149, \n"
     ]
    },
    {
     "name": "stdout",
     "output_type": "stream",
     "text": [
      "epoch: 10, [batch: 1120 / 1400], examples_per_second: 10405.9717, train_label_loss: 0.5020, \n"
     ]
    },
    {
     "name": "stdout",
     "output_type": "stream",
     "text": [
      "epoch: 10, [batch: 1260 / 1400], examples_per_second: 10706.5513, train_label_loss: 0.3955, \n"
     ]
    },
    {
     "name": "stdout",
     "output_type": "stream",
     "text": [
      "=============================================================\n",
      "epoch: 10, source_val_acc_label: 0.4725, source_val_label_loss: 1.7751, target_val_acc_label: 0.4725, target_val_label_loss: 1.7751, \n",
      "=============================================================\n"
     ]
    },
    {
     "name": "stdout",
     "output_type": "stream",
     "text": [
      "epoch: 11, [batch: 1 / 1400], examples_per_second: 57.2451, train_label_loss: 0.2775, \n"
     ]
    },
    {
     "name": "stdout",
     "output_type": "stream",
     "text": [
      "epoch: 11, [batch: 140 / 1400], examples_per_second: 10674.0482, train_label_loss: 0.2172, \n"
     ]
    },
    {
     "name": "stdout",
     "output_type": "stream",
     "text": [
      "epoch: 11, [batch: 280 / 1400], examples_per_second: 10736.4060, train_label_loss: 0.4873, \n"
     ]
    },
    {
     "name": "stdout",
     "output_type": "stream",
     "text": [
      "epoch: 11, [batch: 420 / 1400], examples_per_second: 10688.4088, train_label_loss: 0.2597, \n"
     ]
    },
    {
     "name": "stdout",
     "output_type": "stream",
     "text": [
      "epoch: 11, [batch: 560 / 1400], examples_per_second: 10661.1393, train_label_loss: 0.3482, \n"
     ]
    },
    {
     "name": "stdout",
     "output_type": "stream",
     "text": [
      "epoch: 11, [batch: 700 / 1400], examples_per_second: 10672.7354, train_label_loss: 0.1759, \n"
     ]
    },
    {
     "name": "stdout",
     "output_type": "stream",
     "text": [
      "epoch: 11, [batch: 840 / 1400], examples_per_second: 10675.2274, train_label_loss: 0.3748, \n"
     ]
    },
    {
     "name": "stdout",
     "output_type": "stream",
     "text": [
      "epoch: 11, [batch: 980 / 1400], examples_per_second: 10613.7184, train_label_loss: 0.4024, \n"
     ]
    },
    {
     "name": "stdout",
     "output_type": "stream",
     "text": [
      "epoch: 11, [batch: 1120 / 1400], examples_per_second: 10687.8662, train_label_loss: 0.3659, \n"
     ]
    },
    {
     "name": "stdout",
     "output_type": "stream",
     "text": [
      "epoch: 11, [batch: 1260 / 1400], examples_per_second: 10713.1194, train_label_loss: 0.3827, \n"
     ]
    },
    {
     "name": "stdout",
     "output_type": "stream",
     "text": [
      "=============================================================\n",
      "epoch: 11, source_val_acc_label: 0.4522, source_val_label_loss: 1.8958, target_val_acc_label: 0.4522, target_val_label_loss: 1.8958, \n",
      "=============================================================\n"
     ]
    },
    {
     "name": "stdout",
     "output_type": "stream",
     "text": [
      "Patience (3) exhausted\n"
     ]
    }
   ],
   "source": [
    "jig = Vanilla_Train_Eval_Test_Jig(\n",
    "    model=model,\n",
    "    path_to_best_model=p.BEST_MODEL_PATH,\n",
    "    device=p.device,\n",
    "    label_loss_object=torch.nn.NLLLoss(),\n",
    ")\n",
    "\n",
    "jig.train(\n",
    "    train_iterable=datasets.source.processed.train,\n",
    "    source_val_iterable=datasets.source.processed.val,\n",
    "    target_val_iterable=datasets.target.processed.val,\n",
    "    patience=p.patience,\n",
    "    num_epochs=p.n_epoch,\n",
    "    num_logs_per_epoch=p.NUM_LOGS_PER_EPOCH,\n",
    "    criteria_for_best=p.criteria_for_best\n",
    ")"
   ]
  },
  {
   "cell_type": "code",
   "execution_count": 14,
   "id": "4bc2ac17",
   "metadata": {
    "execution": {
     "iopub.execute_input": "2022-03-26T07:08:52.863849Z",
     "iopub.status.busy": "2022-03-26T07:08:52.863459Z",
     "iopub.status.idle": "2022-03-26T07:08:52.866150Z",
     "shell.execute_reply": "2022-03-26T07:08:52.866828Z"
    },
    "papermill": {
     "duration": 0.057446,
     "end_time": "2022-03-26T07:08:52.867005",
     "exception": false,
     "start_time": "2022-03-26T07:08:52.809559",
     "status": "completed"
    },
    "tags": []
   },
   "outputs": [],
   "source": [
    "total_experiment_time_secs = time.time() - start_time_secs"
   ]
  },
  {
   "cell_type": "code",
   "execution_count": 15,
   "id": "cae88f23",
   "metadata": {
    "execution": {
     "iopub.execute_input": "2022-03-26T07:08:52.979087Z",
     "iopub.status.busy": "2022-03-26T07:08:52.973496Z",
     "iopub.status.idle": "2022-03-26T07:09:16.137601Z",
     "shell.execute_reply": "2022-03-26T07:09:16.138304Z"
    },
    "papermill": {
     "duration": 23.21975,
     "end_time": "2022-03-26T07:09:16.138547",
     "exception": false,
     "start_time": "2022-03-26T07:08:52.918797",
     "status": "completed"
    },
    "tags": []
   },
   "outputs": [],
   "source": [
    "source_test_label_accuracy, source_test_label_loss = jig.test(datasets.source.processed.test)\n",
    "target_test_label_accuracy, target_test_label_loss = jig.test(datasets.target.processed.test)\n",
    "\n",
    "source_val_label_accuracy, source_val_label_loss = jig.test(datasets.source.processed.val)\n",
    "target_val_label_accuracy, target_val_label_loss = jig.test(datasets.target.processed.val)\n",
    "\n",
    "history = jig.get_history()\n",
    "\n",
    "total_epochs_trained = len(history[\"epoch_indices\"])\n",
    "\n",
    "val_dl = wrap_in_dataloader(p, Sequence_Aggregator((datasets.source.original.val, datasets.target.original.val)))\n",
    "\n",
    "confusion = confusion_by_domain_over_dataloader(model, p.device, val_dl, forward_uses_domain=False)\n",
    "per_domain_accuracy = per_domain_accuracy_from_confusion(confusion)\n",
    "\n",
    "# Add a key to per_domain_accuracy for if it was a source domain\n",
    "for domain, accuracy in per_domain_accuracy.items():\n",
    "    per_domain_accuracy[domain] = {\n",
    "        \"accuracy\": accuracy,\n",
    "        \"source?\": domain in p.domains_source\n",
    "    }\n",
    "\n",
    "# Do an independent accuracy assesment JUST TO BE SURE!\n",
    "# _source_test_label_accuracy = independent_accuracy_assesment(model, datasets.source.processed.test, p.device)\n",
    "# _target_test_label_accuracy = independent_accuracy_assesment(model, datasets.target.processed.test, p.device)\n",
    "# _source_val_label_accuracy = independent_accuracy_assesment(model, datasets.source.processed.val, p.device)\n",
    "# _target_val_label_accuracy = independent_accuracy_assesment(model, datasets.target.processed.val, p.device)\n",
    "\n",
    "# assert(_source_test_label_accuracy == source_test_label_accuracy)\n",
    "# assert(_target_test_label_accuracy == target_test_label_accuracy)\n",
    "# assert(_source_val_label_accuracy == source_val_label_accuracy)\n",
    "# assert(_target_val_label_accuracy == target_val_label_accuracy)\n",
    "\n",
    "###################################\n",
    "# Write out the results\n",
    "###################################\n",
    "\n",
    "experiment = {\n",
    "    \"experiment_name\": p.experiment_name,\n",
    "    \"parameters\": p,\n",
    "    \"results\": {\n",
    "        \"source_test_label_accuracy\": source_test_label_accuracy,\n",
    "        \"source_test_label_loss\": source_test_label_loss,\n",
    "        \"target_test_label_accuracy\": target_test_label_accuracy,\n",
    "        \"target_test_label_loss\": target_test_label_loss,\n",
    "        \"source_val_label_accuracy\": source_val_label_accuracy,\n",
    "        \"source_val_label_loss\": source_val_label_loss,\n",
    "        \"target_val_label_accuracy\": target_val_label_accuracy,\n",
    "        \"target_val_label_loss\": target_val_label_loss,\n",
    "        \"total_epochs_trained\": total_epochs_trained,\n",
    "        \"total_experiment_time_secs\": total_experiment_time_secs,\n",
    "        \"confusion\": confusion,\n",
    "        \"per_domain_accuracy\": per_domain_accuracy,\n",
    "    },\n",
    "    \"history\": history,\n",
    "    \"dataset_metrics\": get_dataset_metrics(datasets, \"cnn\"),\n",
    "}"
   ]
  },
  {
   "cell_type": "code",
   "execution_count": 16,
   "id": "74c318cf",
   "metadata": {
    "execution": {
     "iopub.execute_input": "2022-03-26T07:09:16.262367Z",
     "iopub.status.busy": "2022-03-26T07:09:16.253184Z",
     "iopub.status.idle": "2022-03-26T07:09:16.443501Z",
     "shell.execute_reply": "2022-03-26T07:09:16.444221Z"
    },
    "papermill": {
     "duration": 0.25249,
     "end_time": "2022-03-26T07:09:16.444452",
     "exception": false,
     "start_time": "2022-03-26T07:09:16.191962",
     "status": "completed"
    },
    "tags": []
   },
   "outputs": [
    {
     "data": {
      "text/plain": [
       "<AxesSubplot:title={'center':'Source Train Label Loss vs Source Val Label Loss'}, xlabel='Epoch'>"
      ]
     },
     "execution_count": 16,
     "metadata": {},
     "output_type": "execute_result"
    },
    {
     "data": {
      "image/png": "[encoded data removed]",
      "text/plain": [
       "<Figure size 1080x504 with 1 Axes>"
      ]
     },
     "metadata": {
      "needs_background": "light"
     },
     "output_type": "display_data"
    }
   ],
   "source": [
    "get_loss_curve(experiment)"
   ]
  },
  {
   "cell_type": "code",
   "execution_count": 17,
   "id": "59376601",
   "metadata": {
    "execution": {
     "iopub.execute_input": "2022-03-26T07:09:16.558742Z",
     "iopub.status.busy": "2022-03-26T07:09:16.554496Z",
     "iopub.status.idle": "2022-03-26T07:09:16.849590Z",
     "shell.execute_reply": "2022-03-26T07:09:16.850271Z"
    },
    "papermill": {
     "duration": 0.350162,
     "end_time": "2022-03-26T07:09:16.850484",
     "exception": false,
     "start_time": "2022-03-26T07:09:16.500322",
     "status": "completed"
    },
    "tags": []
   },
   "outputs": [
    {
     "data": {
      "text/plain": [
       "<AxesSubplot:title={'center':'Results'}>"
      ]
     },
     "execution_count": 17,
     "metadata": {},
     "output_type": "execute_result"
    },
    {
     "data": {
      "image/png": "[encoded data removed]",
      "text/plain": [
       "<Figure size 1080x504 with 1 Axes>"
      ]
     },
     "metadata": {
      "needs_background": "light"
     },
     "output_type": "display_data"
    }
   ],
   "source": [
    "get_results_table(experiment)"
   ]
  },
  {
   "cell_type": "code",
   "execution_count": 18,
   "id": "e80c5c98",
   "metadata": {
    "execution": {
     "iopub.execute_input": "2022-03-26T07:09:16.979849Z",
     "iopub.status.busy": "2022-03-26T07:09:16.971518Z",
     "iopub.status.idle": "2022-03-26T07:09:17.136832Z",
     "shell.execute_reply": "2022-03-26T07:09:17.137515Z"
    },
    "papermill": {
     "duration": 0.230375,
     "end_time": "2022-03-26T07:09:17.137731",
     "exception": false,
     "start_time": "2022-03-26T07:09:16.907356",
     "status": "completed"
    },
    "tags": []
   },
   "outputs": [
    {
     "data": {
      "text/plain": [
       "<AxesSubplot:title={'center':'Per Domain Accuracy'}, xlabel='domain'>"
      ]
     },
     "execution_count": 18,
     "metadata": {},
     "output_type": "execute_result"
    },
    {
     "data": {
      "image/png": "[encoded data removed]",
      "text/plain": [
       "<Figure size 1080x504 with 1 Axes>"
      ]
     },
     "metadata": {
      "needs_background": "light"
     },
     "output_type": "display_data"
    }
   ],
   "source": [
    "get_domain_accuracies(experiment)"
   ]
  },
  {
   "cell_type": "code",
   "execution_count": 19,
   "id": "086fdd10",
   "metadata": {
    "execution": {
     "iopub.execute_input": "2022-03-26T07:09:17.254152Z",
     "iopub.status.busy": "2022-03-26T07:09:17.253758Z",
     "iopub.status.idle": "2022-03-26T07:09:17.257261Z",
     "shell.execute_reply": "2022-03-26T07:09:17.257578Z"
    },
    "papermill": {
     "duration": 0.061581,
     "end_time": "2022-03-26T07:09:17.257672",
     "exception": false,
     "start_time": "2022-03-26T07:09:17.196091",
     "status": "completed"
    },
    "tags": []
   },
   "outputs": [
    {
     "name": "stdout",
     "output_type": "stream",
     "text": [
      "Source Test Label Accuracy: 0.49856770833333336 Target Test Label Accuracy: 0.49856770833333336\n",
      "Source Val Label Accuracy: 0.49296875 Target Val Label Accuracy: 0.49296875\n"
     ]
    }
   ],
   "source": [
    "print(\"Source Test Label Accuracy:\", experiment[\"results\"][\"source_test_label_accuracy\"], \"Target Test Label Accuracy:\", experiment[\"results\"][\"target_test_label_accuracy\"])\n",
    "print(\"Source Val Label Accuracy:\", experiment[\"results\"][\"source_val_label_accuracy\"], \"Target Val Label Accuracy:\", experiment[\"results\"][\"target_val_label_accuracy\"])"
   ]
  },
  {
   "cell_type": "code",
   "execution_count": 20,
   "id": "9f450536",
   "metadata": {
    "execution": {
     "iopub.execute_input": "2022-03-26T07:09:17.371656Z",
     "iopub.status.busy": "2022-03-26T07:09:17.371268Z",
     "iopub.status.idle": "2022-03-26T07:09:17.374948Z",
     "shell.execute_reply": "2022-03-26T07:09:17.375412Z"
    },
    "papermill": {
     "duration": 0.062577,
     "end_time": "2022-03-26T07:09:17.375550",
     "exception": false,
     "start_time": "2022-03-26T07:09:17.312973",
     "status": "completed"
    },
    "tags": [
     "experiment_json"
    ]
   },
   "outputs": [
    {
     "data": {
      "text/plain": [
       "'{\"experiment_name\": \"cnn_2:oracle.run1_limited\", \"parameters\": {\"experiment_name\": \"cnn_2:oracle.run1_limited\", \"labels\": [\"3123D52\", \"3123D65\", \"3123D79\", \"3123D80\", \"3123D54\", \"3123D70\", \"3123D7B\", \"3123D89\", \"3123D58\", \"3123D76\", \"3123D7D\", \"3123EFE\", \"3123D64\", \"3123D78\", \"3123D7E\", \"3124E4A\"], \"domains_source\": [8, 32, 50, 14, 20, 26, 38, 44], \"domains_target\": [8, 32, 50, 14, 20, 26, 38, 44], \"pickle_name_source\": \"oracle.Run1_10kExamples_stratified_ds.2022A.pkl\", \"pickle_name_target\": \"oracle.Run1_10kExamples_stratified_ds.2022A.pkl\", \"device\": \"cuda\", \"lr\": 0.0001, \"batch_size\": 128, \"normalize_source\": false, \"normalize_target\": false, \"num_examples_per_domain_per_label_source\": 2000, \"num_examples_per_domain_per_label_target\": 2000, \"torch_default_dtype\": \"torch.float32\", \"n_epoch\": 50, \"patience\": 3, \"criteria_for_best\": \"target_accuracy\", \"x_net\": [{\"class\": \"nnReshape\", \"kargs\": {\"shape\": [-1, 1, 2, 256]}}, {\"class\": \"Conv2d\", \"kargs\": {\"in_channels\": 1, \"out_channels\": 256, \"kernel_size\": [1, 7], \"bias\": false, \"padding\": [0, 3]}}, {\"class\": \"ReLU\", \"kargs\": {\"inplace\": true}}, {\"class\": \"BatchNorm2d\", \"kargs\": {\"num_features\": 256}}, {\"class\": \"Conv2d\", \"kargs\": {\"in_channels\": 256, \"out_channels\": 80, \"kernel_size\": [2, 7], \"bias\": true, \"padding\": [0, 3]}}, {\"class\": \"ReLU\", \"kargs\": {\"inplace\": true}}, {\"class\": \"BatchNorm2d\", \"kargs\": {\"num_features\": 80}}, {\"class\": \"Flatten\", \"kargs\": {}}, {\"class\": \"Linear\", \"kargs\": {\"in_features\": 20480, \"out_features\": 256}}, {\"class\": \"ReLU\", \"kargs\": {\"inplace\": true}}, {\"class\": \"BatchNorm1d\", \"kargs\": {\"num_features\": 256}}, {\"class\": \"Linear\", \"kargs\": {\"in_features\": 256, \"out_features\": 16}}], \"NUM_LOGS_PER_EPOCH\": 10, \"BEST_MODEL_PATH\": \"./best_model.pth\", \"dataset_seed\": 1337, \"seed\": 1337}, \"results\": {\"source_test_label_accuracy\": 0.49856770833333336, \"source_test_label_loss\": 1.4810554218292236, \"target_test_label_accuracy\": 0.49856770833333336, \"target_test_label_loss\": 1.4810553963979085, \"source_val_label_accuracy\": 0.49296875, \"source_val_label_loss\": 1.4948764379819235, \"target_val_label_accuracy\": 0.49296875, \"target_val_label_loss\": 1.4948764375845591, \"total_epochs_trained\": 11, \"total_experiment_time_secs\": 235.8103060722351, \"confusion\": {\"8\": {\"7\": {\"4\": 56, \"7\": 152, \"10\": 22, \"6\": 110, \"13\": 230, \"11\": 16, \"12\": 4, \"2\": 4, \"15\": 2, \"9\": 2, \"1\": 2}, \"8\": {\"11\": 230, \"4\": 106, \"8\": 192, \"6\": 40, \"10\": 4, \"14\": 6, \"7\": 16, \"12\": 4, \"1\": 2}, \"15\": {\"12\": 120, \"3\": 60, \"15\": 310, \"8\": 10, \"4\": 18, \"10\": 10, \"1\": 14, \"5\": 36, \"2\": 8, \"0\": 12, \"9\": 2}, \"5\": {\"5\": 446, \"10\": 92, \"13\": 22, \"1\": 30, \"11\": 4, \"6\": 6}, \"11\": {\"6\": 42, \"11\": 358, \"1\": 88, \"5\": 16, \"10\": 26, \"4\": 40, \"14\": 10, \"8\": 10, \"7\": 2, \"13\": 8}, \"9\": {\"9\": 584, \"12\": 14, \"13\": 2}, \"12\": {\"15\": 222, \"6\": 8, \"10\": 42, \"5\": 14, \"8\": 28, \"12\": 170, \"4\": 40, \"3\": 26, \"2\": 24, \"14\": 10, \"1\": 16}, \"2\": {\"5\": 88, \"3\": 102, \"1\": 50, \"10\": 12, \"0\": 110, \"2\": 98, \"15\": 54, \"9\": 42, \"11\": 8, \"12\": 24, \"7\": 2, \"4\": 4, \"13\": 6}, \"10\": {\"1\": 30, \"5\": 138, \"13\": 212, \"10\": 190, \"6\": 12, \"15\": 4, \"9\": 2, \"7\": 4, \"4\": 8}, \"1\": {\"11\": 134, \"1\": 158, \"6\": 46, \"5\": 110, \"10\": 88, \"4\": 40, \"13\": 14, \"12\": 2, \"14\": 6, \"7\": 2}, \"13\": {\"5\": 70, \"10\": 90, \"13\": 382, \"6\": 8, \"9\": 2, \"1\": 28, \"4\": 2, \"7\": 4, \"15\": 14}, \"3\": {\"2\": 26, \"0\": 160, \"4\": 50, \"3\": 272, \"15\": 6, \"10\": 46, \"12\": 10, \"1\": 2, \"5\": 14, \"8\": 6, \"13\": 4, \"14\": 2, \"9\": 2}, \"14\": {\"14\": 294, \"10\": 22, \"0\": 14, \"4\": 150, \"6\": 76, \"11\": 36, \"7\": 4, \"13\": 2, \"1\": 2}, \"0\": {\"0\": 576, \"11\": 4, \"14\": 18, \"4\": 2}, \"4\": {\"14\": 72, \"4\": 178, \"10\": 60, \"6\": 148, \"7\": 58, \"13\": 54, \"11\": 20, \"5\": 2, \"0\": 4, \"3\": 2, \"1\": 2}, \"6\": {\"6\": 130, \"13\": 160, \"7\": 120, \"4\": 104, \"10\": 42, \"14\": 8, \"11\": 26, \"12\": 2, \"1\": 6, \"5\": 2}}, \"38\": {\"13\": {\"13\": 418, \"7\": 106, \"2\": 4, \"4\": 2, \"0\": 14, \"10\": 38, \"5\": 18}, \"9\": {\"9\": 502, \"12\": 32, \"11\": 6, \"5\": 26, \"14\": 2, \"7\": 8, \"15\": 18, \"8\": 4, \"0\": 2}, \"7\": {\"9\": 34, \"7\": 494, \"4\": 30, \"5\": 10, \"6\": 6, \"0\": 6, \"15\": 6, \"8\": 8, \"11\": 2, \"13\": 4}, \"1\": {\"0\": 112, \"2\": 94, \"1\": 276, \"9\": 46, \"6\": 54, \"10\": 6, \"13\": 6, \"14\": 4, \"11\": 2}, \"3\": {\"3\": 600}, \"0\": {\"0\": 214, \"4\": 42, \"7\": 126, \"13\": 130, \"9\": 14, \"3\": 30, \"11\": 42, \"5\": 2}, \"14\": {\"14\": 430, \"7\": 94, \"5\": 44, \"13\": 4, \"4\": 16, \"2\": 10, \"10\": 2}, \"11\": {\"11\": 600}, \"5\": {\"15\": 244, \"5\": 150, \"11\": 36, \"4\": 20, \"7\": 24, \"9\": 62, \"6\": 8, \"8\": 34, \"0\": 10, \"1\": 12}, \"2\": {\"2\": 266, \"13\": 6, \"5\": 234, \"8\": 10, \"14\": 38, \"7\": 40, \"3\": 6}, \"6\": {\"6\": 248, \"2\": 54, \"1\": 116, \"9\": 70, \"4\": 12, \"14\": 52, \"15\": 4, \"0\": 28, \"13\": 14, \"11\": 2}, \"4\": {\"4\": 596, \"11\": 4}, \"12\": {\"12\": 600}, \"15\": {\"1\": 174, \"8\": 66, \"15\": 216, \"13\": 78, \"5\": 18, \"11\": 4, \"0\": 30, \"10\": 10, \"6\": 4}, \"8\": {\"5\": 160, \"15\": 220, \"8\": 62, \"11\": 14, \"7\": 74, \"6\": 18, \"13\": 8, \"4\": 28, \"1\": 10, \"14\": 2, \"9\": 2, \"0\": 2}, \"10\": {\"7\": 26, \"10\": 356, \"13\": 126, \"4\": 6, \"0\": 64, \"11\": 20, \"14\": 2}}, \"20\": {\"1\": {\"15\": 198, \"9\": 108, \"13\": 14, \"1\": 84, \"2\": 80, \"5\": 58, \"12\": 36, \"0\": 4, \"3\": 14, \"10\": 4}, \"9\": {\"9\": 110, \"1\": 94, \"0\": 8, \"3\": 16, \"4\": 4, \"5\": 48, \"2\": 158, \"15\": 84, \"12\": 26, \"13\": 28, \"10\": 6, \"7\": 14, \"11\": 4}, \"11\": {\"3\": 12, \"0\": 34, \"11\": 312, \"5\": 36, \"1\": 70, \"4\": 56, \"2\": 24, \"8\": 22, \"9\": 24, \"13\": 4, \"10\": 6}, \"3\": {\"1\": 76, \"5\": 60, \"9\": 58, \"2\": 150, \"8\": 2, \"3\": 46, \"12\": 18, \"15\": 110, \"10\": 30, \"0\": 22, \"4\": 8, \"11\": 2, \"13\": 10, \"7\": 8}, \"6\": {\"6\": 208, \"7\": 64, \"10\": 106, \"4\": 54, \"13\": 4, \"11\": 48, \"2\": 78, \"8\": 4, \"14\": 20, \"1\": 14}, \"7\": {\"4\": 24, \"12\": 20, \"8\": 14, \"7\": 102, \"13\": 34, \"2\": 206, \"9\": 34, \"15\": 24, \"10\": 30, \"1\": 66, \"5\": 16, \"6\": 12, \"3\": 2, \"11\": 14, \"14\": 2}, \"5\": {\"9\": 66, \"15\": 174, \"12\": 52, \"5\": 126, \"7\": 2, \"2\": 80, \"1\": 80, \"0\": 16, \"10\": 2, \"8\": 2}, \"13\": {\"13\": 402, \"11\": 6, \"7\": 22, \"15\": 36, \"1\": 34, \"12\": 8, \"9\": 54, \"2\": 38}, \"15\": {\"15\": 188, \"13\": 96, \"9\": 158, \"7\": 4, \"1\": 48, \"2\": 44, \"12\": 36, \"5\": 22, \"10\": 2, \"11\": 2}, \"12\": {\"7\": 36, \"13\": 56, \"9\": 54, \"12\": 56, \"5\": 18, \"15\": 152, \"2\": 116, \"1\": 94, \"4\": 2, \"3\": 6, \"10\": 8, \"6\": 2}, \"14\": {\"6\": 50, \"14\": 230, \"10\": 112, \"8\": 34, \"12\": 14, \"4\": 66, \"2\": 64, \"15\": 8, \"1\": 2, \"5\": 10, \"3\": 6, \"7\": 4}, \"10\": {\"6\": 160, \"11\": 12, \"8\": 20, \"10\": 186, \"4\": 108, \"14\": 8, \"2\": 18, \"12\": 46, \"7\": 34, \"13\": 2, \"1\": 2, \"15\": 4}, \"2\": {\"7\": 58, \"15\": 74, \"2\": 136, \"13\": 78, \"1\": 84, \"5\": 14, \"10\": 14, \"9\": 86, \"12\": 26, \"3\": 6, \"4\": 10, \"11\": 10, \"6\": 4}, \"8\": {\"12\": 40, \"3\": 40, \"1\": 16, \"5\": 40, \"4\": 94, \"10\": 50, \"15\": 40, \"8\": 54, \"14\": 62, \"9\": 2, \"2\": 112, \"0\": 32, \"7\": 4, \"11\": 8, \"6\": 6}, \"4\": {\"12\": 130, \"4\": 84, \"15\": 84, \"1\": 30, \"2\": 52, \"11\": 14, \"7\": 50, \"6\": 20, \"10\": 68, \"3\": 12, \"8\": 24, \"9\": 6, \"5\": 14, \"14\": 6, \"13\": 6}, \"0\": {\"0\": 338, \"3\": 44, \"9\": 58, \"5\": 70, \"10\": 6, \"15\": 20, \"1\": 12, \"2\": 22, \"12\": 28, \"8\": 2}}, \"14\": {\"5\": {\"5\": 376, \"4\": 74, \"2\": 64, \"3\": 8, \"7\": 44, \"8\": 6, \"10\": 4, \"11\": 18, \"1\": 2, \"0\": 2, \"13\": 2}, \"7\": {\"7\": 450, \"5\": 140, \"2\": 8, \"13\": 2}, \"12\": {\"12\": 528, \"9\": 48, \"0\": 18, \"13\": 6}, \"4\": {\"5\": 200, \"4\": 222, \"11\": 74, \"1\": 32, \"2\": 44, \"10\": 20, \"6\": 2, \"3\": 2, \"0\": 2, \"14\": 2}, \"13\": {\"6\": 208, \"7\": 24, \"2\": 66, \"14\": 96, \"13\": 112, \"3\": 34, \"4\": 32, \"8\": 2, \"15\": 20, \"10\": 6}, \"10\": {\"2\": 158, \"0\": 50, \"4\": 54, \"3\": 138, \"10\": 84, \"5\": 72, \"1\": 14, \"9\": 8, \"11\": 12, \"8\": 8, \"14\": 2}, \"15\": {\"15\": 570, \"13\": 12, \"5\": 4, \"11\": 4, \"3\": 10}, \"14\": {\"13\": 64, \"2\": 136, \"14\": 196, \"4\": 68, \"6\": 92, \"3\": 34, \"5\": 4, \"10\": 4, \"8\": 2}, \"9\": {\"9\": 494, \"12\": 52, \"0\": 10, \"13\": 10, \"15\": 6, \"1\": 16, \"11\": 6, \"2\": 2, \"5\": 2, \"8\": 2}, \"2\": {\"14\": 80, \"2\": 190, \"4\": 68, \"13\": 38, \"5\": 86, \"6\": 80, \"3\": 24, \"10\": 10, \"7\": 22, \"11\": 2}, \"6\": {\"6\": 232, \"2\": 110, \"3\": 46, \"13\": 106, \"14\": 88, \"7\": 6, \"4\": 10, \"10\": 2}, \"0\": {\"0\": 236, \"9\": 52, \"3\": 174, \"8\": 38, \"2\": 28, \"4\": 24, \"14\": 2, \"13\": 24, \"11\": 4, \"10\": 2, \"7\": 4, \"5\": 12}, \"3\": {\"7\": 28, \"3\": 322, \"13\": 24, \"0\": 28, \"6\": 2, \"2\": 132, \"5\": 32, \"4\": 16, \"8\": 12, \"9\": 4}, \"11\": {\"11\": 350, \"13\": 90, \"6\": 66, \"7\": 68, \"4\": 18, \"10\": 4, \"9\": 2, \"12\": 2}, \"1\": {\"1\": 544, \"11\": 46, \"4\": 4, \"14\": 2, \"7\": 2, \"5\": 2}, \"8\": {\"8\": 566, \"11\": 14, \"9\": 12, \"13\": 6, \"3\": 2}}, \"32\": {\"12\": {\"10\": 94, \"12\": 442, \"6\": 18, \"1\": 16, \"0\": 10, \"9\": 16, \"11\": 2, \"15\": 2}, \"7\": {\"7\": 298, \"14\": 136, \"0\": 12, \"5\": 62, \"1\": 42, \"12\": 34, \"3\": 12, \"8\": 4}, \"6\": {\"6\": 526, \"11\": 66, \"12\": 2, \"10\": 4, \"9\": 2}, \"14\": {\"7\": 214, \"8\": 6, \"14\": 228, \"12\": 30, \"3\": 46, \"0\": 16, \"9\": 2, \"5\": 22, \"1\": 20, \"11\": 6, \"2\": 4, \"4\": 6}, \"10\": {\"10\": 582, \"12\": 16, \"0\": 2}, \"13\": {\"13\": 206, \"3\": 310, \"4\": 36, \"12\": 16, \"15\": 2, \"2\": 4, \"11\": 12, \"14\": 14}, \"8\": {\"8\": 292, \"12\": 28, \"13\": 6, \"14\": 8, \"3\": 86, \"1\": 60, \"5\": 38, \"0\": 30, \"7\": 14, \"11\": 6, \"15\": 22, \"2\": 6, \"4\": 4}, \"9\": {\"9\": 220, \"6\": 116, \"2\": 82, \"1\": 42, \"0\": 14, \"14\": 106, \"12\": 10, \"11\": 4, \"15\": 2, \"10\": 2, \"13\": 2}, \"15\": {\"15\": 586, \"10\": 2, \"1\": 6, \"2\": 2, \"8\": 4}, \"1\": {\"1\": 552, \"8\": 38, \"10\": 10}, \"4\": {\"4\": 238, \"3\": 144, \"14\": 76, \"2\": 46, \"11\": 10, \"13\": 60, \"12\": 20, \"8\": 4, \"6\": 2}, \"3\": {\"3\": 416, \"13\": 92, \"12\": 92}, \"5\": {\"5\": 140, \"8\": 14, \"7\": 184, \"1\": 150, \"3\": 24, \"2\": 14, \"4\": 2, \"12\": 30, \"14\": 24, \"9\": 4, \"0\": 14}, \"2\": {\"4\": 234, \"14\": 192, \"3\": 46, \"6\": 6, \"2\": 96, \"11\": 6, \"13\": 2, \"0\": 10, \"7\": 4, \"8\": 4}, \"0\": {\"8\": 154, \"2\": 2, \"7\": 48, \"0\": 128, \"11\": 12, \"3\": 12, \"1\": 42, \"12\": 16, \"5\": 96, \"14\": 76, \"9\": 4, \"13\": 2, \"4\": 4, \"6\": 2, \"15\": 2}, \"11\": {\"13\": 80, \"11\": 438, \"3\": 64, \"4\": 10, \"14\": 4, \"15\": 4}}, \"44\": {\"1\": {\"1\": 352, \"2\": 46, \"5\": 48, \"7\": 130, \"12\": 14, \"10\": 2, \"3\": 4, \"8\": 4}, \"14\": {\"15\": 140, \"7\": 32, \"5\": 270, \"4\": 92, \"14\": 18, \"6\": 18, \"9\": 20, \"8\": 8, \"11\": 2}, \"5\": {\"5\": 440, \"15\": 32, \"0\": 2, \"4\": 28, \"6\": 30, \"7\": 18, \"14\": 20, \"2\": 4, \"8\": 22, \"13\": 4}, \"6\": {\"6\": 420, \"13\": 90, \"9\": 50, \"7\": 36, \"11\": 2, \"0\": 2}, \"11\": {\"11\": 580, \"3\": 20}, \"13\": {\"6\": 144, \"0\": 64, \"9\": 44, \"13\": 244, \"11\": 44, \"7\": 48, \"4\": 6, \"3\": 4, \"10\": 2}, \"0\": {\"0\": 216, \"8\": 256, \"15\": 106, \"5\": 8, \"1\": 4, \"13\": 6, \"4\": 2, \"11\": 2}, \"9\": {\"9\": 188, \"7\": 248, \"13\": 38, \"6\": 66, \"15\": 30, \"0\": 12, \"10\": 2, \"8\": 6, \"5\": 2, \"4\": 4, \"2\": 2, \"3\": 2}, \"12\": {\"3\": 346, \"12\": 238, \"8\": 4, \"14\": 2, \"11\": 2, \"13\": 6, \"4\": 2}, \"3\": {\"3\": 342, \"14\": 56, \"4\": 76, \"12\": 72, \"0\": 2, \"8\": 10, \"11\": 4, \"7\": 12, \"1\": 2, \"2\": 10, \"13\": 14}, \"4\": {\"15\": 84, \"4\": 254, \"6\": 16, \"7\": 98, \"9\": 48, \"0\": 24, \"5\": 60, \"8\": 10, \"14\": 2, \"12\": 2, \"11\": 2}, \"2\": {\"1\": 188, \"2\": 232, \"15\": 84, \"7\": 36, \"8\": 12, \"10\": 24, \"9\": 8, \"5\": 16}, \"7\": {\"7\": 372, \"9\": 172, \"15\": 14, \"6\": 28, \"10\": 10, \"2\": 4}, \"15\": {\"15\": 282, \"8\": 100, \"4\": 32, \"5\": 126, \"0\": 34, \"14\": 6, \"11\": 4, \"6\": 2, \"7\": 2, \"12\": 4, \"9\": 8}, \"8\": {\"0\": 80, \"8\": 414, \"5\": 40, \"15\": 62, \"2\": 2, \"1\": 2}, \"10\": {\"10\": 450, \"1\": 52, \"7\": 76, \"2\": 18, \"6\": 2, \"9\": 2}}, \"26\": {\"7\": {\"14\": 16, \"7\": 160, \"0\": 72, \"3\": 152, \"9\": 24, \"15\": 6, \"2\": 74, \"6\": 16, \"13\": 18, \"8\": 40, \"1\": 6, \"4\": 10, \"5\": 4, \"10\": 2}, \"13\": {\"13\": 302, \"9\": 164, \"3\": 34, \"2\": 10, \"12\": 2, \"8\": 60, \"5\": 14, \"6\": 2, \"0\": 4, \"15\": 8}, \"9\": {\"12\": 6, \"2\": 40, \"0\": 88, \"3\": 42, \"13\": 70, \"7\": 26, \"9\": 208, \"6\": 30, \"8\": 58, \"15\": 12, \"5\": 14, \"4\": 4, \"10\": 2}, \"3\": {\"7\": 70, \"2\": 124, \"3\": 314, \"8\": 16, \"6\": 8, \"9\": 10, \"0\": 18, \"13\": 24, \"15\": 2, \"4\": 10, \"14\": 2, \"5\": 2}, \"11\": {\"11\": 308, \"6\": 222, \"9\": 6, \"10\": 14, \"12\": 28, \"2\": 22}, \"15\": {\"15\": 166, \"10\": 16, \"5\": 104, \"7\": 2, \"9\": 60, \"2\": 40, \"6\": 148, \"0\": 30, \"11\": 6, \"8\": 8, \"14\": 16, \"13\": 2, \"1\": 2}, \"2\": {\"2\": 148, \"6\": 22, \"7\": 104, \"13\": 44, \"3\": 116, \"5\": 40, \"9\": 38, \"15\": 34, \"8\": 30, \"0\": 14, \"14\": 2, \"10\": 8}, \"14\": {\"10\": 86, \"0\": 80, \"1\": 98, \"6\": 64, \"14\": 226, \"15\": 14, \"8\": 6, \"4\": 2, \"7\": 14, \"9\": 8, \"5\": 2}, \"5\": {\"15\": 204, \"5\": 272, \"2\": 32, \"0\": 4, \"13\": 2, \"9\": 30, \"14\": 4, \"7\": 2, \"6\": 46, \"11\": 2, \"10\": 2}, \"0\": {\"0\": 176, \"5\": 4, \"10\": 84, \"14\": 110, \"2\": 10, \"6\": 84, \"1\": 22, \"7\": 40, \"8\": 34, \"13\": 2, \"15\": 12, \"4\": 2, \"9\": 18, \"3\": 2}, \"6\": {\"10\": 64, \"0\": 84, \"6\": 194, \"15\": 74, \"9\": 58, \"2\": 4, \"14\": 36, \"5\": 34, \"1\": 12, \"12\": 36, \"11\": 2, \"8\": 2}, \"8\": {\"7\": 92, \"0\": 146, \"9\": 72, \"6\": 30, \"15\": 10, \"4\": 12, \"8\": 68, \"14\": 14, \"10\": 38, \"2\": 44, \"3\": 50, \"13\": 22, \"5\": 2}, \"4\": {\"4\": 252, \"0\": 102, \"3\": 164, \"14\": 18, \"5\": 2, \"2\": 18, \"8\": 14, \"6\": 6, \"9\": 4, \"10\": 8, \"13\": 8, \"7\": 4}, \"1\": {\"1\": 340, \"15\": 14, \"14\": 130, \"8\": 4, \"10\": 62, \"6\": 22, \"0\": 26, \"9\": 2}, \"12\": {\"12\": 590, \"9\": 2, \"6\": 6, \"10\": 2}, \"10\": {\"10\": 126, \"6\": 144, \"9\": 20, \"1\": 44, \"0\": 122, \"14\": 70, \"7\": 10, \"15\": 38, \"2\": 10, \"5\": 2, \"8\": 14}}, \"50\": {\"1\": {\"12\": 14, \"1\": 340, \"15\": 100, \"13\": 98, \"0\": 14, \"8\": 18, \"6\": 10, \"11\": 4, \"10\": 2}, \"12\": {\"12\": 376, \"15\": 10, \"5\": 34, \"9\": 144, \"14\": 8, \"0\": 26, \"11\": 2}, \"4\": {\"13\": 44, \"7\": 342, \"4\": 104, \"5\": 68, \"14\": 26, \"15\": 8, \"8\": 4, \"0\": 4}, \"11\": {\"8\": 74, \"15\": 242, \"9\": 116, \"5\": 54, \"0\": 26, \"11\": 78, \"1\": 2, \"6\": 4, \"12\": 2, \"7\": 2}, \"14\": {\"2\": 110, \"9\": 200, \"14\": 230, \"6\": 36, \"0\": 4, \"4\": 8, \"11\": 4, \"1\": 6, \"13\": 2}, \"7\": {\"5\": 162, \"7\": 272, \"2\": 54, \"4\": 18, \"14\": 72, \"8\": 4, \"13\": 18}, \"13\": {\"1\": 50, \"13\": 416, \"8\": 58, \"15\": 44, \"6\": 16, \"12\": 14, \"5\": 2}, \"10\": {\"10\": 368, \"0\": 48, \"8\": 30, \"1\": 138, \"13\": 14, \"2\": 2}, \"8\": {\"8\": 426, \"10\": 58, \"1\": 100, \"13\": 14, \"0\": 2}, \"5\": {\"7\": 102, \"5\": 344, \"14\": 44, \"13\": 12, \"15\": 32, \"8\": 22, \"1\": 4, \"2\": 16, \"6\": 16, \"4\": 4, \"10\": 2, \"12\": 2}, \"2\": {\"1\": 28, \"2\": 352, \"0\": 106, \"9\": 76, \"10\": 2, \"6\": 20, \"12\": 6, \"11\": 2, \"14\": 8}, \"6\": {\"5\": 326, \"6\": 120, \"4\": 22, \"15\": 70, \"8\": 32, \"7\": 14, \"14\": 8, \"2\": 2, \"0\": 2, \"13\": 2, \"12\": 2}, \"15\": {\"7\": 46, \"4\": 56, \"6\": 64, \"15\": 208, \"5\": 156, \"11\": 4, \"8\": 58, \"9\": 4, \"14\": 4}, \"9\": {\"9\": 486, \"7\": 16, \"11\": 12, \"12\": 18, \"8\": 4, \"5\": 32, \"15\": 20, \"0\": 10, \"4\": 2}, \"0\": {\"0\": 208, \"1\": 142, \"2\": 94, \"10\": 110, \"6\": 8, \"12\": 18, \"15\": 2, \"9\": 14, \"14\": 2, \"8\": 2}, \"3\": {\"3\": 600}}}, \"per_domain_accuracy\": {\"8\": {\"accuracy\": 0.46770833333333334, \"source?\": true}, \"38\": {\"accuracy\": 0.6279166666666667, \"source?\": true}, \"20\": {\"accuracy\": 0.27729166666666666, \"source?\": true}, \"14\": {\"accuracy\": 0.57, \"source?\": true}, \"32\": {\"accuracy\": 0.56125, \"source?\": true}, \"44\": {\"accuracy\": 0.5252083333333334, \"source?\": true}, \"26\": {\"accuracy\": 0.4010416666666667, \"source?\": true}, \"50\": {\"accuracy\": 0.5133333333333333, \"source?\": true}}}, \"history\": {\"epoch_indices\": [1, 2, 3, 4, 5, 6, 7, 8, 9, 10, 11], \"train_label_loss\": [2.6218986863749367, 2.3053398868015833, 1.876447970526559, 1.5344360694714956, 1.2513531495417867, 1.0112477989281927, 0.795425634256431, 0.6152834905896868, 0.4766056524642876, 0.37423123969563415, 0.3010086243067469], \"source_val_label_loss\": [2.5452738110224407, 2.0784329048792523, 1.7233143119017282, 1.5716871774196626, 1.4332445573806762, 1.433105411529541, 1.494876441558202, 1.5853075297673542, 1.6910016918182373, 1.775084782044093, 1.8957910815874734], \"target_val_label_loss\": [2.545273806254069, 2.0784328945477806, 1.723314320643743, 1.5716871658960978, 1.4332445641358693, 1.4331054198741913, 1.494876450697581, 1.5853075110912322, 1.69100168744723, 1.7750847701231638, 1.8957910823822022], \"source_val_acc_label\": [0.15869791666666666, 0.32171875, 0.41661458333333334, 0.4560677083333333, 0.4889322916666667, 0.49247395833333335, 0.49296875, 0.485390625, 0.4723177083333333, 0.47247395833333333, 0.4521614583333333], \"target_val_acc_label\": [0.15869791666666666, 0.32171875, 0.41661458333333334, 0.4560677083333333, 0.4889322916666667, 0.49247395833333335, 0.49296875, 0.485390625, 0.4723177083333333, 0.47247395833333333, 0.4521614583333333]}, \"dataset_metrics\": {\"source\": {\"train\": {\"n_unique_x\": 179200, \"n_unique_y\": 16, \"n_batch/episode\": 1400}, \"val\": {\"n_unique_x\": 38400, \"n_unique_y\": 16, \"n_batch/episode\": 300}, \"test\": {\"n_unique_x\": 38400, \"n_unique_y\": 16, \"n_batch/episode\": 300}}, \"target\": {\"train\": {\"n_unique_x\": 179200, \"n_unique_y\": 16, \"n_batch/episode\": 1400}, \"val\": {\"n_unique_x\": 38400, \"n_unique_y\": 16, \"n_batch/episode\": 300}, \"test\": {\"n_unique_x\": 38400, \"n_unique_y\": 16, \"n_batch/episode\": 300}}}}'"
      ]
     },
     "execution_count": 20,
     "metadata": {},
     "output_type": "execute_result"
    }
   ],
   "source": [
    "json.dumps(experiment)"
   ]
  }
 ],
 "metadata": {
  "celltoolbar": "Tags",
  "kernelspec": {
   "display_name": "Python 3 (ipykernel)",
   "language": "python",
   "name": "python3"
  },
  "language_info": {
   "codemirror_mode": {
    "name": "ipython",
    "version": 3
   },
   "file_extension": ".py",
   "mimetype": "text/x-python",
   "name": "python",
   "nbconvert_exporter": "python",
   "pygments_lexer": "ipython3",
   "version": "3.8.12"
  },
  "papermill": {
   "default_parameters": {},
   "duration": 265.761898,
   "end_time": "2022-03-26T07:09:20.139244",
   "environment_variables": {},
   "exception": null,
   "input_path": "/root/csc500-main/csc500-notebooks/templates/cnn_template.ipynb",
   "output_path": "trial.ipynb",
   "parameters": {
    "parameters": {
     "BEST_MODEL_PATH": "./best_model.pth",
     "NUM_LOGS_PER_EPOCH": 10,
     "batch_size": 128,
     "criteria_for_best": "target_accuracy",
     "dataset_seed": 1337,
     "device": "cuda",
     "domains_source": [
      8,
      32,
      50,
      14,
      20,
      26,
      38,
      44
     ],
     "domains_target": [
      8,
      32,
      50,
      14,
      20,
      26,
      38,
      44
     ],
     "experiment_name": "cnn_2:oracle.run1_limited",
     "labels": [
      "3123D52",
      "3123D65",
      "3123D79",
      "3123D80",
      "3123D54",
      "3123D70",
      "3123D7B",
      "3123D89",
      "3123D58",
      "3123D76",
      "3123D7D",
      "3123EFE",
      "3123D64",
      "3123D78",
      "3123D7E",
      "3124E4A"
     ],
     "lr": 0.0001,
     "n_epoch": 50,
     "normalize_source": false,
     "normalize_target": false,
     "num_examples_per_domain_per_label_source": 2000,
     "num_examples_per_domain_per_label_target": 2000,
     "patience": 3,
     "pickle_name_source": "oracle.Run1_10kExamples_stratified_ds.2022A.pkl",
     "pickle_name_target": "oracle.Run1_10kExamples_stratified_ds.2022A.pkl",
     "seed": 1337,
     "torch_default_dtype": "torch.float32",
     "x_net": [
      {
       "class": "nnReshape",
       "kargs": {
        "shape": [
         -1,
         1,
         2,
         256
        ]
       }
      },
      {
       "class": "Conv2d",
       "kargs": {
        "bias": false,
        "in_channels": 1,
        "kernel_size": [
         1,
         7
        ],
        "out_channels": 256,
        "padding": [
         0,
         3
        ]
       }
      },
      {
       "class": "ReLU",
       "kargs": {
        "inplace": true
       }
      },
      {
       "class": "BatchNorm2d",
       "kargs": {
        "num_features": 256
       }
      },
      {
       "class": "Conv2d",
       "kargs": {
        "bias": true,
        "in_channels": 256,
        "kernel_size": [
         2,
         7
        ],
        "out_channels": 80,
        "padding": [
         0,
         3
        ]
       }
      },
      {
       "class": "ReLU",
       "kargs": {
        "inplace": true
       }
      },
      {
       "class": "BatchNorm2d",
       "kargs": {
        "num_features": 80
       }
      },
      {
       "class": "Flatten",
       "kargs": {}
      },
      {
       "class": "Linear",
       "kargs": {
        "in_features": 20480,
        "out_features": 256
       }
      },
      {
       "class": "ReLU",
       "kargs": {
        "inplace": true
       }
      },
      {
       "class": "BatchNorm1d",
       "kargs": {
        "num_features": 256
       }
      },
      {
       "class": "Linear",
       "kargs": {
        "in_features": 256,
        "out_features": 16
       }
      }
     ]
    }
   },
   "start_time": "2022-03-26T07:04:54.377346",
   "version": "2.3.4"
  }
 },
 "nbformat": 4,
 "nbformat_minor": 5
}