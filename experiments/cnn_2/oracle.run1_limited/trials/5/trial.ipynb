{
 "cells": [
  {
   "cell_type": "code",
   "execution_count": 1,
   "id": "2324682e",
   "metadata": {
    "execution": {
     "iopub.execute_input": "2022-03-26T07:16:44.797201Z",
     "iopub.status.busy": "2022-03-26T07:16:44.796340Z",
     "iopub.status.idle": "2022-03-26T07:16:46.053553Z",
     "shell.execute_reply": "2022-03-26T07:16:46.052721Z"
    },
    "papermill": {
     "duration": 1.297254,
     "end_time": "2022-03-26T07:16:46.053757",
     "exception": false,
     "start_time": "2022-03-26T07:16:44.756503",
     "status": "completed"
    },
    "tags": []
   },
   "outputs": [],
   "source": [
    "import os, json, sys, time, random\n",
    "import numpy as np\n",
    "import torch\n",
    "from  easydict import EasyDict\n",
    "from math import floor\n",
    "from easydict import EasyDict\n",
    "\n",
    "from steves_utils.vanilla_train_eval_test_jig import  Vanilla_Train_Eval_Test_Jig\n",
    "\n",
    "from steves_utils.torch_utils import get_dataset_metrics, independent_accuracy_assesment\n",
    "from steves_models.configurable_vanilla import Configurable_Vanilla\n",
    "from steves_utils.torch_sequential_builder import build_sequential\n",
    "from steves_utils.lazy_map import Lazy_Map\n",
    "from steves_utils.sequence_aggregator import Sequence_Aggregator\n",
    "\n",
    "from steves_utils.stratified_dataset.traditional_accessor import Traditional_Accessor_Factory\n",
    "\n",
    "from steves_utils.cnn_do_report import (\n",
    "    get_loss_curve,\n",
    "    get_results_table,\n",
    "    get_parameters_table,\n",
    "    get_domain_accuracies,\n",
    ")\n",
    "\n",
    "from steves_utils.torch_utils import (\n",
    "    confusion_by_domain_over_dataloader,\n",
    "    independent_accuracy_assesment\n",
    ")\n",
    "\n",
    "from steves_utils.utils_v2 import (\n",
    "    per_domain_accuracy_from_confusion,\n",
    "    get_datasets_base_path\n",
    ")\n",
    "\n",
    "# from steves_utils.ptn_do_report import TBD"
   ]
  },
  {
   "cell_type": "code",
   "execution_count": 2,
   "id": "1b29e3fe",
   "metadata": {
    "execution": {
     "iopub.execute_input": "2022-03-26T07:16:46.090526Z",
     "iopub.status.busy": "2022-03-26T07:16:46.090134Z",
     "iopub.status.idle": "2022-03-26T07:16:46.092293Z",
     "shell.execute_reply": "2022-03-26T07:16:46.092582Z"
    },
    "papermill": {
     "duration": 0.021576,
     "end_time": "2022-03-26T07:16:46.092683",
     "exception": false,
     "start_time": "2022-03-26T07:16:46.071107",
     "status": "completed"
    },
    "tags": []
   },
   "outputs": [],
   "source": [
    "required_parameters = {\n",
    "    \"experiment_name\",\n",
    "    \"lr\",\n",
    "    \"device\",\n",
    "    \"dataset_seed\",\n",
    "    \"seed\",\n",
    "    \"labels\",\n",
    "    \"domains_target\",\n",
    "    \"domains_source\",\n",
    "    \"num_examples_per_domain_per_label_source\",\n",
    "    \"num_examples_per_domain_per_label_target\",\n",
    "    \"batch_size\",\n",
    "    \"n_epoch\",\n",
    "    \"patience\",\n",
    "    \"criteria_for_best\",\n",
    "    \"normalize_source\",\n",
    "    \"normalize_target\",\n",
    "    \"x_net\",\n",
    "    \"NUM_LOGS_PER_EPOCH\",\n",
    "    \"BEST_MODEL_PATH\",\n",
    "    \"pickle_name_source\",\n",
    "    \"pickle_name_target\",\n",
    "    \"torch_default_dtype\",\n",
    "}"
   ]
  },
  {
   "cell_type": "code",
   "execution_count": 3,
   "id": "670b5fb8",
   "metadata": {
    "execution": {
     "iopub.execute_input": "2022-03-26T07:16:46.140114Z",
     "iopub.status.busy": "2022-03-26T07:16:46.138896Z",
     "iopub.status.idle": "2022-03-26T07:16:46.148795Z",
     "shell.execute_reply": "2022-03-26T07:16:46.147977Z"
    },
    "papermill": {
     "duration": 0.03664,
     "end_time": "2022-03-26T07:16:46.148953",
     "exception": false,
     "start_time": "2022-03-26T07:16:46.112313",
     "status": "completed"
    },
    "tags": [
     "parameters"
    ]
   },
   "outputs": [],
   "source": [
    "from steves_utils.ORACLE.utils_v2 import (\n",
    "    ALL_SERIAL_NUMBERS,\n",
    "    ALL_DISTANCES_FEET_NARROWED,\n",
    ")\n",
    "\n",
    "standalone_parameters = {}\n",
    "standalone_parameters[\"experiment_name\"] = \"MANUAL CORES CNN\"\n",
    "standalone_parameters[\"lr\"] = 0.0001\n",
    "standalone_parameters[\"device\"] = \"cuda\"\n",
    "\n",
    "standalone_parameters[\"dataset_seed\"] = 1337\n",
    "standalone_parameters[\"seed\"] = 1337\n",
    "standalone_parameters[\"labels\"] = ALL_SERIAL_NUMBERS\n",
    "\n",
    "standalone_parameters[\"domains_source\"] = [8,32,50]\n",
    "standalone_parameters[\"domains_target\"] = [14,20,26,38,44,]\n",
    "\n",
    "standalone_parameters[\"num_examples_per_domain_per_label_source\"]=-1\n",
    "standalone_parameters[\"num_examples_per_domain_per_label_target\"]=-1\n",
    "\n",
    "standalone_parameters[\"pickle_name_source\"] = \"oracle.Run1_framed_2000Examples_stratified_ds.2022A.pkl\"\n",
    "standalone_parameters[\"pickle_name_target\"] = \"oracle.Run2_framed_2000Examples_stratified_ds.2022A.pkl\"\n",
    "\n",
    "standalone_parameters[\"torch_default_dtype\"] = \"torch.float32\" \n",
    "\n",
    "standalone_parameters[\"batch_size\"]=128\n",
    "\n",
    "standalone_parameters[\"n_epoch\"] = 3\n",
    "\n",
    "standalone_parameters[\"patience\"] = 10\n",
    "\n",
    "standalone_parameters[\"criteria_for_best\"] = \"target_accuracy\"\n",
    "standalone_parameters[\"normalize_source\"] = False\n",
    "standalone_parameters[\"normalize_target\"] = False\n",
    "\n",
    "standalone_parameters[\"x_net\"] =     [\n",
    "    {\"class\": \"nnReshape\", \"kargs\": {\"shape\":[-1, 1, 2, 256]}},\n",
    "    {\"class\": \"Conv2d\", \"kargs\": { \"in_channels\":1, \"out_channels\":256, \"kernel_size\":(1,7), \"bias\":False, \"padding\":(0,3), },},\n",
    "    {\"class\": \"ReLU\", \"kargs\": {\"inplace\": True}},\n",
    "    {\"class\": \"BatchNorm2d\", \"kargs\": {\"num_features\":256}},\n",
    "\n",
    "    {\"class\": \"Conv2d\", \"kargs\": { \"in_channels\":256, \"out_channels\":80, \"kernel_size\":(2,7), \"bias\":True, \"padding\":(0,3), },},\n",
    "    {\"class\": \"ReLU\", \"kargs\": {\"inplace\": True}},\n",
    "    {\"class\": \"BatchNorm2d\", \"kargs\": {\"num_features\":80}},\n",
    "    {\"class\": \"Flatten\", \"kargs\": {}},\n",
    "\n",
    "    {\"class\": \"Linear\", \"kargs\": {\"in_features\": 80*256, \"out_features\": 256}}, # 80 units per IQ pair\n",
    "    {\"class\": \"ReLU\", \"kargs\": {\"inplace\": True}},\n",
    "    {\"class\": \"BatchNorm1d\", \"kargs\": {\"num_features\":256}},\n",
    "\n",
    "    {\"class\": \"Linear\", \"kargs\": {\"in_features\": 256, \"out_features\": len(standalone_parameters[\"labels\"])}},\n",
    "]\n",
    "\n",
    "standalone_parameters[\"NUM_LOGS_PER_EPOCH\"] = 10\n",
    "standalone_parameters[\"BEST_MODEL_PATH\"] = \"./best_model.pth\""
   ]
  },
  {
   "cell_type": "code",
   "execution_count": 4,
   "id": "05bf0990",
   "metadata": {
    "execution": {
     "iopub.execute_input": "2022-03-26T07:16:46.196858Z",
     "iopub.status.busy": "2022-03-26T07:16:46.196238Z",
     "iopub.status.idle": "2022-03-26T07:16:46.199268Z",
     "shell.execute_reply": "2022-03-26T07:16:46.198431Z"
    },
    "papermill": {
     "duration": 0.028987,
     "end_time": "2022-03-26T07:16:46.199422",
     "exception": false,
     "start_time": "2022-03-26T07:16:46.170435",
     "status": "completed"
    },
    "tags": [
     "injected-parameters"
    ]
   },
   "outputs": [],
   "source": [
    "# Parameters\n",
    "parameters = {\n",
    "    \"experiment_name\": \"cnn_2:oracle.run1_limited\",\n",
    "    \"labels\": [\n",
    "        \"3123D52\",\n",
    "        \"3123D65\",\n",
    "        \"3123D79\",\n",
    "        \"3123D80\",\n",
    "        \"3123D54\",\n",
    "        \"3123D70\",\n",
    "        \"3123D7B\",\n",
    "        \"3123D89\",\n",
    "        \"3123D58\",\n",
    "        \"3123D76\",\n",
    "        \"3123D7D\",\n",
    "        \"3123EFE\",\n",
    "        \"3123D64\",\n",
    "        \"3123D78\",\n",
    "        \"3123D7E\",\n",
    "        \"3124E4A\",\n",
    "    ],\n",
    "    \"domains_source\": [8, 32, 50, 14, 20, 26, 38, 44],\n",
    "    \"domains_target\": [8, 32, 50, 14, 20, 26, 38, 44],\n",
    "    \"pickle_name_source\": \"oracle.Run1_10kExamples_stratified_ds.2022A.pkl\",\n",
    "    \"pickle_name_target\": \"oracle.Run1_10kExamples_stratified_ds.2022A.pkl\",\n",
    "    \"device\": \"cuda\",\n",
    "    \"lr\": 0.0001,\n",
    "    \"batch_size\": 128,\n",
    "    \"normalize_source\": False,\n",
    "    \"normalize_target\": False,\n",
    "    \"num_examples_per_domain_per_label_source\": 2000,\n",
    "    \"num_examples_per_domain_per_label_target\": 2000,\n",
    "    \"torch_default_dtype\": \"torch.float32\",\n",
    "    \"n_epoch\": 50,\n",
    "    \"patience\": 3,\n",
    "    \"criteria_for_best\": \"target_accuracy\",\n",
    "    \"x_net\": [\n",
    "        {\"class\": \"nnReshape\", \"kargs\": {\"shape\": [-1, 1, 2, 256]}},\n",
    "        {\n",
    "            \"class\": \"Conv2d\",\n",
    "            \"kargs\": {\n",
    "                \"in_channels\": 1,\n",
    "                \"out_channels\": 256,\n",
    "                \"kernel_size\": [1, 7],\n",
    "                \"bias\": False,\n",
    "                \"padding\": [0, 3],\n",
    "            },\n",
    "        },\n",
    "        {\"class\": \"ReLU\", \"kargs\": {\"inplace\": True}},\n",
    "        {\"class\": \"BatchNorm2d\", \"kargs\": {\"num_features\": 256}},\n",
    "        {\n",
    "            \"class\": \"Conv2d\",\n",
    "            \"kargs\": {\n",
    "                \"in_channels\": 256,\n",
    "                \"out_channels\": 80,\n",
    "                \"kernel_size\": [2, 7],\n",
    "                \"bias\": True,\n",
    "                \"padding\": [0, 3],\n",
    "            },\n",
    "        },\n",
    "        {\"class\": \"ReLU\", \"kargs\": {\"inplace\": True}},\n",
    "        {\"class\": \"BatchNorm2d\", \"kargs\": {\"num_features\": 80}},\n",
    "        {\"class\": \"Flatten\", \"kargs\": {}},\n",
    "        {\"class\": \"Linear\", \"kargs\": {\"in_features\": 20480, \"out_features\": 256}},\n",
    "        {\"class\": \"ReLU\", \"kargs\": {\"inplace\": True}},\n",
    "        {\"class\": \"BatchNorm1d\", \"kargs\": {\"num_features\": 256}},\n",
    "        {\"class\": \"Linear\", \"kargs\": {\"in_features\": 256, \"out_features\": 16}},\n",
    "    ],\n",
    "    \"NUM_LOGS_PER_EPOCH\": 10,\n",
    "    \"BEST_MODEL_PATH\": \"./best_model.pth\",\n",
    "    \"dataset_seed\": 154325,\n",
    "    \"seed\": 154325,\n",
    "}\n"
   ]
  },
  {
   "cell_type": "code",
   "execution_count": 5,
   "id": "759b56ec",
   "metadata": {
    "execution": {
     "iopub.execute_input": "2022-03-26T07:16:46.236046Z",
     "iopub.status.busy": "2022-03-26T07:16:46.235675Z",
     "iopub.status.idle": "2022-03-26T07:16:46.238129Z",
     "shell.execute_reply": "2022-03-26T07:16:46.237762Z"
    },
    "papermill": {
     "duration": 0.020344,
     "end_time": "2022-03-26T07:16:46.238209",
     "exception": false,
     "start_time": "2022-03-26T07:16:46.217865",
     "status": "completed"
    },
    "tags": []
   },
   "outputs": [],
   "source": [
    "# Set this to True if you want to run this template directly\n",
    "STANDALONE = False\n",
    "if STANDALONE:\n",
    "    print(\"parameters not injected, running with standalone_parameters\")\n",
    "    parameters = standalone_parameters\n",
    "\n",
    "if not 'parameters' in locals() and not 'parameters' in globals():\n",
    "    raise Exception(\"Parameter injection failed\")\n",
    "\n",
    "#Use an easy dict for all the parameters\n",
    "p = EasyDict(parameters)\n",
    "\n",
    "supplied_keys = set(p.keys())\n",
    "\n",
    "if  supplied_keys != required_parameters:\n",
    "    print(\"Parameters are incorrect\")\n",
    "    if len(supplied_keys - required_parameters)>0: print(\"Shouldn't have:\", str(supplied_keys - required_parameters))\n",
    "    if len(required_parameters - supplied_keys)>0: print(\"Need to have:\", str(required_parameters - supplied_keys))\n",
    "    raise RuntimeError(\"Parameters are incorrect\")\n",
    "\n"
   ]
  },
  {
   "cell_type": "code",
   "execution_count": 6,
   "id": "d5c66a71",
   "metadata": {
    "execution": {
     "iopub.execute_input": "2022-03-26T07:16:46.270795Z",
     "iopub.status.busy": "2022-03-26T07:16:46.270112Z",
     "iopub.status.idle": "2022-03-26T07:16:46.277456Z",
     "shell.execute_reply": "2022-03-26T07:16:46.278115Z"
    },
    "papermill": {
     "duration": 0.023493,
     "end_time": "2022-03-26T07:16:46.278295",
     "exception": false,
     "start_time": "2022-03-26T07:16:46.254802",
     "status": "completed"
    },
    "tags": []
   },
   "outputs": [],
   "source": [
    "###################################\n",
    "# Set the RNGs and make it all deterministic\n",
    "###################################\n",
    "np.random.seed(p.seed)\n",
    "random.seed(p.seed)\n",
    "torch.manual_seed(p.seed)\n",
    "\n",
    "torch.use_deterministic_algorithms(True) "
   ]
  },
  {
   "cell_type": "code",
   "execution_count": 7,
   "id": "92a65876",
   "metadata": {
    "execution": {
     "iopub.execute_input": "2022-03-26T07:16:46.314757Z",
     "iopub.status.busy": "2022-03-26T07:16:46.314400Z",
     "iopub.status.idle": "2022-03-26T07:16:46.317150Z",
     "shell.execute_reply": "2022-03-26T07:16:46.316793Z"
    },
    "papermill": {
     "duration": 0.020391,
     "end_time": "2022-03-26T07:16:46.317218",
     "exception": false,
     "start_time": "2022-03-26T07:16:46.296827",
     "status": "completed"
    },
    "tags": []
   },
   "outputs": [],
   "source": [
    "torch.set_default_dtype(eval(p.torch_default_dtype))"
   ]
  },
  {
   "cell_type": "code",
   "execution_count": 8,
   "id": "f1a32f01",
   "metadata": {
    "execution": {
     "iopub.execute_input": "2022-03-26T07:16:46.351527Z",
     "iopub.status.busy": "2022-03-26T07:16:46.351168Z",
     "iopub.status.idle": "2022-03-26T07:16:46.389717Z",
     "shell.execute_reply": "2022-03-26T07:16:46.388911Z"
    },
    "papermill": {
     "duration": 0.056332,
     "end_time": "2022-03-26T07:16:46.389871",
     "exception": false,
     "start_time": "2022-03-26T07:16:46.333539",
     "status": "completed"
    },
    "tags": []
   },
   "outputs": [],
   "source": [
    "###################################\n",
    "# Build the network(s)\n",
    "# Note: It's critical to do this AFTER setting the RNG\n",
    "###################################\n",
    "x_net = build_sequential(p.x_net)"
   ]
  },
  {
   "cell_type": "code",
   "execution_count": 9,
   "id": "a276cd83",
   "metadata": {
    "execution": {
     "iopub.execute_input": "2022-03-26T07:16:46.427677Z",
     "iopub.status.busy": "2022-03-26T07:16:46.427284Z",
     "iopub.status.idle": "2022-03-26T07:16:46.429853Z",
     "shell.execute_reply": "2022-03-26T07:16:46.429307Z"
    },
    "papermill": {
     "duration": 0.019051,
     "end_time": "2022-03-26T07:16:46.429958",
     "exception": false,
     "start_time": "2022-03-26T07:16:46.410907",
     "status": "completed"
    },
    "tags": []
   },
   "outputs": [],
   "source": [
    "start_time_secs = time.time()"
   ]
  },
  {
   "cell_type": "code",
   "execution_count": 10,
   "id": "de702e48",
   "metadata": {
    "execution": {
     "iopub.execute_input": "2022-03-26T07:16:46.474904Z",
     "iopub.status.busy": "2022-03-26T07:16:46.473987Z",
     "iopub.status.idle": "2022-03-26T07:16:59.276992Z",
     "shell.execute_reply": "2022-03-26T07:16:59.276195Z"
    },
    "papermill": {
     "duration": 12.830032,
     "end_time": "2022-03-26T07:16:59.277176",
     "exception": false,
     "start_time": "2022-03-26T07:16:46.447144",
     "status": "completed"
    },
    "tags": []
   },
   "outputs": [],
   "source": [
    "def wrap_in_dataloader(p, ds):\n",
    "    return torch.utils.data.DataLoader(\n",
    "        ds,\n",
    "        batch_size=p.batch_size,\n",
    "        shuffle=True,\n",
    "        num_workers=1,\n",
    "        persistent_workers=True,\n",
    "        prefetch_factor=50,\n",
    "        pin_memory=True\n",
    "    )\n",
    "\n",
    "taf_source = Traditional_Accessor_Factory(\n",
    "    labels=p.labels,\n",
    "    domains=p.domains_source,\n",
    "    num_examples_per_domain_per_label=p.num_examples_per_domain_per_label_source,\n",
    "    pickle_path=os.path.join(get_datasets_base_path(), p.pickle_name_source),\n",
    "    seed=p.dataset_seed\n",
    ")\n",
    "train_original_source, val_original_source, test_original_source = \\\n",
    "    taf_source.get_train(), taf_source.get_val(), taf_source.get_test()\n",
    "\n",
    "\n",
    "taf_target = Traditional_Accessor_Factory(\n",
    "    labels=p.labels,\n",
    "    domains=p.domains_target,\n",
    "    num_examples_per_domain_per_label=p.num_examples_per_domain_per_label_source,\n",
    "    pickle_path=os.path.join(get_datasets_base_path(), p.pickle_name_target),\n",
    "    seed=p.dataset_seed\n",
    ")\n",
    "train_original_target, val_original_target, test_original_target = \\\n",
    "    taf_target.get_train(), taf_target.get_val(), taf_target.get_test()\n",
    "\n",
    "\n",
    "# For CNN We only use X and Y. And we only train on the source.\n",
    "# Properly form the data using a transform lambda and Lazy_Map. Finally wrap them in a dataloader\n",
    "\n",
    "transform_lambda = lambda ex: ex[:2] # Strip the tuple to just (x,y)\n",
    "\n",
    "\n",
    "train_processed_source = wrap_in_dataloader(\n",
    "    p,\n",
    "    Lazy_Map(train_original_source, transform_lambda)\n",
    ")\n",
    "val_processed_source = wrap_in_dataloader(\n",
    "    p,\n",
    "    Lazy_Map(val_original_source, transform_lambda)\n",
    ")\n",
    "test_processed_source = wrap_in_dataloader(\n",
    "    p,\n",
    "    Lazy_Map(test_original_source, transform_lambda)\n",
    ")\n",
    "\n",
    "train_processed_target = wrap_in_dataloader(\n",
    "    p,\n",
    "    Lazy_Map(train_original_target, transform_lambda)\n",
    ")\n",
    "val_processed_target = wrap_in_dataloader(\n",
    "    p,\n",
    "    Lazy_Map(val_original_target, transform_lambda)\n",
    ")\n",
    "test_processed_target  = wrap_in_dataloader(\n",
    "    p,\n",
    "    Lazy_Map(test_original_target, transform_lambda)\n",
    ")\n",
    "\n",
    "\n",
    "\n",
    "datasets = EasyDict({\n",
    "    \"source\": {\n",
    "        \"original\": {\"train\":train_original_source, \"val\":val_original_source, \"test\":test_original_source},\n",
    "        \"processed\": {\"train\":train_processed_source, \"val\":val_processed_source, \"test\":test_processed_source}\n",
    "    },\n",
    "    \"target\": {\n",
    "        \"original\": {\"train\":train_original_target, \"val\":val_original_target, \"test\":test_original_target},\n",
    "        \"processed\": {\"train\":train_processed_target, \"val\":val_processed_target, \"test\":test_processed_target}\n",
    "    },\n",
    "})"
   ]
  },
  {
   "cell_type": "code",
   "execution_count": 11,
   "id": "a11b26bd",
   "metadata": {
    "execution": {
     "iopub.execute_input": "2022-03-26T07:16:59.353014Z",
     "iopub.status.busy": "2022-03-26T07:16:59.352206Z",
     "iopub.status.idle": "2022-03-26T07:17:05.160977Z",
     "shell.execute_reply": "2022-03-26T07:17:05.160269Z"
    },
    "papermill": {
     "duration": 5.865205,
     "end_time": "2022-03-26T07:17:05.161157",
     "exception": false,
     "start_time": "2022-03-26T07:16:59.295952",
     "status": "completed"
    },
    "tags": []
   },
   "outputs": [
    {
     "data": {
      "text/plain": [
       "torch.float32"
      ]
     },
     "execution_count": 11,
     "metadata": {},
     "output_type": "execute_result"
    }
   ],
   "source": [
    "ep = next(iter(test_processed_target))\n",
    "ep[0].dtype"
   ]
  },
  {
   "cell_type": "code",
   "execution_count": 12,
   "id": "19425fad",
   "metadata": {
    "execution": {
     "iopub.execute_input": "2022-03-26T07:17:05.203520Z",
     "iopub.status.busy": "2022-03-26T07:17:05.202873Z",
     "iopub.status.idle": "2022-03-26T07:17:05.248761Z",
     "shell.execute_reply": "2022-03-26T07:17:05.248056Z"
    },
    "papermill": {
     "duration": 0.068399,
     "end_time": "2022-03-26T07:17:05.248920",
     "exception": false,
     "start_time": "2022-03-26T07:17:05.180521",
     "status": "completed"
    },
    "tags": []
   },
   "outputs": [],
   "source": [
    "model = Configurable_Vanilla(\n",
    "    x_net=x_net,\n",
    "    label_loss_object=torch.nn.NLLLoss(),\n",
    "    learning_rate=p.lr\n",
    ")"
   ]
  },
  {
   "cell_type": "code",
   "execution_count": 13,
   "id": "7f6d4f2c",
   "metadata": {
    "execution": {
     "iopub.execute_input": "2022-03-26T07:17:05.287292Z",
     "iopub.status.busy": "2022-03-26T07:17:05.286924Z",
     "iopub.status.idle": "2022-03-26T07:20:22.190297Z",
     "shell.execute_reply": "2022-03-26T07:20:22.189444Z"
    },
    "papermill": {
     "duration": 196.922697,
     "end_time": "2022-03-26T07:20:22.190471",
     "exception": false,
     "start_time": "2022-03-26T07:17:05.267774",
     "status": "completed"
    },
    "tags": []
   },
   "outputs": [
    {
     "name": "stdout",
     "output_type": "stream",
     "text": [
      "epoch: 1, [batch: 1 / 1400], examples_per_second: 663.1683, train_label_loss: 2.7730, \n"
     ]
    },
    {
     "name": "stdout",
     "output_type": "stream",
     "text": [
      "epoch: 1, [batch: 140 / 1400], examples_per_second: 10617.2040, train_label_loss: 2.7041, \n"
     ]
    },
    {
     "name": "stdout",
     "output_type": "stream",
     "text": [
      "epoch: 1, [batch: 280 / 1400], examples_per_second: 10710.8004, train_label_loss: 2.6746, \n"
     ]
    },
    {
     "name": "stdout",
     "output_type": "stream",
     "text": [
      "epoch: 1, [batch: 420 / 1400], examples_per_second: 10627.0938, train_label_loss: 2.6168, \n"
     ]
    },
    {
     "name": "stdout",
     "output_type": "stream",
     "text": [
      "epoch: 1, [batch: 560 / 1400], examples_per_second: 10704.8434, train_label_loss: 2.5979, \n"
     ]
    },
    {
     "name": "stdout",
     "output_type": "stream",
     "text": [
      "epoch: 1, [batch: 700 / 1400], examples_per_second: 10600.3631, train_label_loss: 2.6026, \n"
     ]
    },
    {
     "name": "stdout",
     "output_type": "stream",
     "text": [
      "epoch: 1, [batch: 840 / 1400], examples_per_second: 10704.9059, train_label_loss: 2.5980, \n"
     ]
    },
    {
     "name": "stdout",
     "output_type": "stream",
     "text": [
      "epoch: 1, [batch: 980 / 1400], examples_per_second: 10728.8306, train_label_loss: 2.4740, \n"
     ]
    },
    {
     "name": "stdout",
     "output_type": "stream",
     "text": [
      "epoch: 1, [batch: 1120 / 1400], examples_per_second: 10663.6577, train_label_loss: 2.5858, \n"
     ]
    },
    {
     "name": "stdout",
     "output_type": "stream",
     "text": [
      "epoch: 1, [batch: 1260 / 1400], examples_per_second: 10652.6249, train_label_loss: 2.5599, \n"
     ]
    },
    {
     "name": "stdout",
     "output_type": "stream",
     "text": [
      "=============================================================\n",
      "epoch: 1, source_val_acc_label: 0.1366, source_val_label_loss: 2.5947, target_val_acc_label: 0.1366, target_val_label_loss: 2.5947, \n",
      "=============================================================\n"
     ]
    },
    {
     "name": "stdout",
     "output_type": "stream",
     "text": [
      "New best\n",
      "epoch: 2, [batch: 1 / 1400], examples_per_second: 50.1725, train_label_loss: 2.6131, \n"
     ]
    },
    {
     "name": "stdout",
     "output_type": "stream",
     "text": [
      "epoch: 2, [batch: 140 / 1400], examples_per_second: 10580.8056, train_label_loss: 2.4645, \n"
     ]
    },
    {
     "name": "stdout",
     "output_type": "stream",
     "text": [
      "epoch: 2, [batch: 280 / 1400], examples_per_second: 10626.1683, train_label_loss: 2.4437, \n"
     ]
    },
    {
     "name": "stdout",
     "output_type": "stream",
     "text": [
      "epoch: 2, [batch: 420 / 1400], examples_per_second: 10789.0794, train_label_loss: 2.5021, \n"
     ]
    },
    {
     "name": "stdout",
     "output_type": "stream",
     "text": [
      "epoch: 2, [batch: 560 / 1400], examples_per_second: 10674.8514, train_label_loss: 2.4964, \n"
     ]
    },
    {
     "name": "stdout",
     "output_type": "stream",
     "text": [
      "epoch: 2, [batch: 700 / 1400], examples_per_second: 10680.2803, train_label_loss: 2.2185, \n"
     ]
    },
    {
     "name": "stdout",
     "output_type": "stream",
     "text": [
      "epoch: 2, [batch: 840 / 1400], examples_per_second: 10611.8707, train_label_loss: 2.3809, \n"
     ]
    },
    {
     "name": "stdout",
     "output_type": "stream",
     "text": [
      "epoch: 2, [batch: 980 / 1400], examples_per_second: 10607.4602, train_label_loss: 2.1582, \n"
     ]
    },
    {
     "name": "stdout",
     "output_type": "stream",
     "text": [
      "epoch: 2, [batch: 1120 / 1400], examples_per_second: 10703.9348, train_label_loss: 2.1978, \n"
     ]
    },
    {
     "name": "stdout",
     "output_type": "stream",
     "text": [
      "epoch: 2, [batch: 1260 / 1400], examples_per_second: 10626.2495, train_label_loss: 2.1122, \n"
     ]
    },
    {
     "name": "stdout",
     "output_type": "stream",
     "text": [
      "=============================================================\n",
      "epoch: 2, source_val_acc_label: 0.2843, source_val_label_loss: 2.1320, target_val_acc_label: 0.2843, target_val_label_loss: 2.1320, \n",
      "=============================================================\n"
     ]
    },
    {
     "name": "stdout",
     "output_type": "stream",
     "text": [
      "New best\n",
      "epoch: 3, [batch: 1 / 1400], examples_per_second: 57.3283, train_label_loss: 1.9190, \n"
     ]
    },
    {
     "name": "stdout",
     "output_type": "stream",
     "text": [
      "epoch: 3, [batch: 140 / 1400], examples_per_second: 10611.1652, train_label_loss: 1.9893, \n"
     ]
    },
    {
     "name": "stdout",
     "output_type": "stream",
     "text": [
      "epoch: 3, [batch: 280 / 1400], examples_per_second: 10619.3133, train_label_loss: 1.9422, \n"
     ]
    },
    {
     "name": "stdout",
     "output_type": "stream",
     "text": [
      "epoch: 3, [batch: 420 / 1400], examples_per_second: 10726.7543, train_label_loss: 1.8106, \n"
     ]
    },
    {
     "name": "stdout",
     "output_type": "stream",
     "text": [
      "epoch: 3, [batch: 560 / 1400], examples_per_second: 10644.2356, train_label_loss: 1.7793, \n"
     ]
    },
    {
     "name": "stdout",
     "output_type": "stream",
     "text": [
      "epoch: 3, [batch: 700 / 1400], examples_per_second: 10616.6388, train_label_loss: 1.9182, \n"
     ]
    },
    {
     "name": "stdout",
     "output_type": "stream",
     "text": [
      "epoch: 3, [batch: 840 / 1400], examples_per_second: 10701.6107, train_label_loss: 1.9192, \n"
     ]
    },
    {
     "name": "stdout",
     "output_type": "stream",
     "text": [
      "epoch: 3, [batch: 980 / 1400], examples_per_second: 10703.2397, train_label_loss: 1.8569, \n"
     ]
    },
    {
     "name": "stdout",
     "output_type": "stream",
     "text": [
      "epoch: 3, [batch: 1120 / 1400], examples_per_second: 10650.6369, train_label_loss: 1.8812, \n"
     ]
    },
    {
     "name": "stdout",
     "output_type": "stream",
     "text": [
      "epoch: 3, [batch: 1260 / 1400], examples_per_second: 10588.3106, train_label_loss: 1.7554, \n"
     ]
    },
    {
     "name": "stdout",
     "output_type": "stream",
     "text": [
      "=============================================================\n",
      "epoch: 3, source_val_acc_label: 0.4100, source_val_label_loss: 1.7370, target_val_acc_label: 0.4100, target_val_label_loss: 1.7370, \n",
      "=============================================================\n"
     ]
    },
    {
     "name": "stdout",
     "output_type": "stream",
     "text": [
      "New best\n",
      "epoch: 4, [batch: 1 / 1400], examples_per_second: 56.2184, train_label_loss: 1.7041, \n"
     ]
    },
    {
     "name": "stdout",
     "output_type": "stream",
     "text": [
      "epoch: 4, [batch: 140 / 1400], examples_per_second: 10339.5838, train_label_loss: 1.4686, \n"
     ]
    },
    {
     "name": "stdout",
     "output_type": "stream",
     "text": [
      "epoch: 4, [batch: 280 / 1400], examples_per_second: 10686.4029, train_label_loss: 1.5670, \n"
     ]
    },
    {
     "name": "stdout",
     "output_type": "stream",
     "text": [
      "epoch: 4, [batch: 420 / 1400], examples_per_second: 10623.4664, train_label_loss: 1.5484, \n"
     ]
    },
    {
     "name": "stdout",
     "output_type": "stream",
     "text": [
      "epoch: 4, [batch: 560 / 1400], examples_per_second: 10662.5640, train_label_loss: 1.4618, \n"
     ]
    },
    {
     "name": "stdout",
     "output_type": "stream",
     "text": [
      "epoch: 4, [batch: 700 / 1400], examples_per_second: 10632.2411, train_label_loss: 1.5886, \n"
     ]
    },
    {
     "name": "stdout",
     "output_type": "stream",
     "text": [
      "epoch: 4, [batch: 840 / 1400], examples_per_second: 10687.5638, train_label_loss: 1.5001, \n"
     ]
    },
    {
     "name": "stdout",
     "output_type": "stream",
     "text": [
      "epoch: 4, [batch: 980 / 1400], examples_per_second: 10687.3647, train_label_loss: 1.7300, \n"
     ]
    },
    {
     "name": "stdout",
     "output_type": "stream",
     "text": [
      "epoch: 4, [batch: 1120 / 1400], examples_per_second: 10650.6550, train_label_loss: 1.4693, \n"
     ]
    },
    {
     "name": "stdout",
     "output_type": "stream",
     "text": [
      "epoch: 4, [batch: 1260 / 1400], examples_per_second: 10626.7693, train_label_loss: 1.4037, \n"
     ]
    },
    {
     "name": "stdout",
     "output_type": "stream",
     "text": [
      "=============================================================\n",
      "epoch: 4, source_val_acc_label: 0.3970, source_val_label_loss: 1.7721, target_val_acc_label: 0.3970, target_val_label_loss: 1.7721, \n",
      "=============================================================\n"
     ]
    },
    {
     "name": "stdout",
     "output_type": "stream",
     "text": [
      "epoch: 5, [batch: 1 / 1400], examples_per_second: 56.8298, train_label_loss: 1.3006, \n"
     ]
    },
    {
     "name": "stdout",
     "output_type": "stream",
     "text": [
      "epoch: 5, [batch: 140 / 1400], examples_per_second: 10625.8468, train_label_loss: 1.2873, \n"
     ]
    },
    {
     "name": "stdout",
     "output_type": "stream",
     "text": [
      "epoch: 5, [batch: 280 / 1400], examples_per_second: 10715.1094, train_label_loss: 1.1167, \n"
     ]
    },
    {
     "name": "stdout",
     "output_type": "stream",
     "text": [
      "epoch: 5, [batch: 420 / 1400], examples_per_second: 10710.6142, train_label_loss: 1.1548, \n"
     ]
    },
    {
     "name": "stdout",
     "output_type": "stream",
     "text": [
      "epoch: 5, [batch: 560 / 1400], examples_per_second: 10648.4172, train_label_loss: 1.3243, \n"
     ]
    },
    {
     "name": "stdout",
     "output_type": "stream",
     "text": [
      "epoch: 5, [batch: 700 / 1400], examples_per_second: 10734.4647, train_label_loss: 1.1144, \n"
     ]
    },
    {
     "name": "stdout",
     "output_type": "stream",
     "text": [
      "epoch: 5, [batch: 840 / 1400], examples_per_second: 10710.6020, train_label_loss: 1.1121, \n"
     ]
    },
    {
     "name": "stdout",
     "output_type": "stream",
     "text": [
      "epoch: 5, [batch: 980 / 1400], examples_per_second: 10750.8076, train_label_loss: 1.1931, \n"
     ]
    },
    {
     "name": "stdout",
     "output_type": "stream",
     "text": [
      "epoch: 5, [batch: 1120 / 1400], examples_per_second: 10738.3770, train_label_loss: 1.2031, \n"
     ]
    },
    {
     "name": "stdout",
     "output_type": "stream",
     "text": [
      "epoch: 5, [batch: 1260 / 1400], examples_per_second: 10613.8533, train_label_loss: 1.1736, \n"
     ]
    },
    {
     "name": "stdout",
     "output_type": "stream",
     "text": [
      "=============================================================\n",
      "epoch: 5, source_val_acc_label: 0.4848, source_val_label_loss: 1.4596, target_val_acc_label: 0.4848, target_val_label_loss: 1.4596, \n",
      "=============================================================\n"
     ]
    },
    {
     "name": "stdout",
     "output_type": "stream",
     "text": [
      "New best\n",
      "epoch: 6, [batch: 1 / 1400], examples_per_second: 57.3028, train_label_loss: 0.9358, \n"
     ]
    },
    {
     "name": "stdout",
     "output_type": "stream",
     "text": [
      "epoch: 6, [batch: 140 / 1400], examples_per_second: 10571.8629, train_label_loss: 1.0482, \n"
     ]
    },
    {
     "name": "stdout",
     "output_type": "stream",
     "text": [
      "epoch: 6, [batch: 280 / 1400], examples_per_second: 10732.1901, train_label_loss: 0.7998, \n"
     ]
    },
    {
     "name": "stdout",
     "output_type": "stream",
     "text": [
      "epoch: 6, [batch: 420 / 1400], examples_per_second: 10781.2223, train_label_loss: 1.0239, \n"
     ]
    },
    {
     "name": "stdout",
     "output_type": "stream",
     "text": [
      "epoch: 6, [batch: 560 / 1400], examples_per_second: 10724.8043, train_label_loss: 1.0891, \n"
     ]
    },
    {
     "name": "stdout",
     "output_type": "stream",
     "text": [
      "epoch: 6, [batch: 700 / 1400], examples_per_second: 10671.7216, train_label_loss: 1.1518, \n"
     ]
    },
    {
     "name": "stdout",
     "output_type": "stream",
     "text": [
      "epoch: 6, [batch: 840 / 1400], examples_per_second: 10678.8251, train_label_loss: 0.9558, \n"
     ]
    },
    {
     "name": "stdout",
     "output_type": "stream",
     "text": [
      "epoch: 6, [batch: 980 / 1400], examples_per_second: 10680.3577, train_label_loss: 1.5835, \n"
     ]
    },
    {
     "name": "stdout",
     "output_type": "stream",
     "text": [
      "epoch: 6, [batch: 1120 / 1400], examples_per_second: 10732.7664, train_label_loss: 0.9057, \n"
     ]
    },
    {
     "name": "stdout",
     "output_type": "stream",
     "text": [
      "epoch: 6, [batch: 1260 / 1400], examples_per_second: 10651.9485, train_label_loss: 0.9726, \n"
     ]
    },
    {
     "name": "stdout",
     "output_type": "stream",
     "text": [
      "=============================================================\n",
      "epoch: 6, source_val_acc_label: 0.4910, source_val_label_loss: 1.4451, target_val_acc_label: 0.4910, target_val_label_loss: 1.4451, \n",
      "=============================================================\n"
     ]
    },
    {
     "name": "stdout",
     "output_type": "stream",
     "text": [
      "New best\n",
      "epoch: 7, [batch: 1 / 1400], examples_per_second: 56.7844, train_label_loss: 0.7917, \n"
     ]
    },
    {
     "name": "stdout",
     "output_type": "stream",
     "text": [
      "epoch: 7, [batch: 140 / 1400], examples_per_second: 10637.7236, train_label_loss: 0.7588, \n"
     ]
    },
    {
     "name": "stdout",
     "output_type": "stream",
     "text": [
      "epoch: 7, [batch: 280 / 1400], examples_per_second: 10679.8827, train_label_loss: 0.7639, \n"
     ]
    },
    {
     "name": "stdout",
     "output_type": "stream",
     "text": [
      "epoch: 7, [batch: 420 / 1400], examples_per_second: 10620.3591, train_label_loss: 0.7806, \n"
     ]
    },
    {
     "name": "stdout",
     "output_type": "stream",
     "text": [
      "epoch: 7, [batch: 560 / 1400], examples_per_second: 10698.6403, train_label_loss: 0.5790, \n"
     ]
    },
    {
     "name": "stdout",
     "output_type": "stream",
     "text": [
      "epoch: 7, [batch: 700 / 1400], examples_per_second: 10612.8327, train_label_loss: 0.7386, \n"
     ]
    },
    {
     "name": "stdout",
     "output_type": "stream",
     "text": [
      "epoch: 7, [batch: 840 / 1400], examples_per_second: 10731.1313, train_label_loss: 0.7731, \n"
     ]
    },
    {
     "name": "stdout",
     "output_type": "stream",
     "text": [
      "epoch: 7, [batch: 980 / 1400], examples_per_second: 10755.7984, train_label_loss: 0.8981, \n"
     ]
    },
    {
     "name": "stdout",
     "output_type": "stream",
     "text": [
      "epoch: 7, [batch: 1120 / 1400], examples_per_second: 10697.1572, train_label_loss: 0.7392, \n"
     ]
    },
    {
     "name": "stdout",
     "output_type": "stream",
     "text": [
      "epoch: 7, [batch: 1260 / 1400], examples_per_second: 10697.8713, train_label_loss: 0.8373, \n"
     ]
    },
    {
     "name": "stdout",
     "output_type": "stream",
     "text": [
      "=============================================================\n",
      "epoch: 7, source_val_acc_label: 0.4558, source_val_label_loss: 1.6170, target_val_acc_label: 0.4558, target_val_label_loss: 1.6170, \n",
      "=============================================================\n"
     ]
    },
    {
     "name": "stdout",
     "output_type": "stream",
     "text": [
      "epoch: 8, [batch: 1 / 1400], examples_per_second: 56.8468, train_label_loss: 0.5404, \n"
     ]
    },
    {
     "name": "stdout",
     "output_type": "stream",
     "text": [
      "epoch: 8, [batch: 140 / 1400], examples_per_second: 10653.6986, train_label_loss: 0.5848, \n"
     ]
    },
    {
     "name": "stdout",
     "output_type": "stream",
     "text": [
      "epoch: 8, [batch: 280 / 1400], examples_per_second: 10726.8783, train_label_loss: 0.7633, \n"
     ]
    },
    {
     "name": "stdout",
     "output_type": "stream",
     "text": [
      "epoch: 8, [batch: 420 / 1400], examples_per_second: 10723.7531, train_label_loss: 0.5046, \n"
     ]
    },
    {
     "name": "stdout",
     "output_type": "stream",
     "text": [
      "epoch: 8, [batch: 560 / 1400], examples_per_second: 10756.1939, train_label_loss: 0.4735, \n"
     ]
    },
    {
     "name": "stdout",
     "output_type": "stream",
     "text": [
      "epoch: 8, [batch: 700 / 1400], examples_per_second: 10675.7627, train_label_loss: 0.5285, \n"
     ]
    },
    {
     "name": "stdout",
     "output_type": "stream",
     "text": [
      "epoch: 8, [batch: 840 / 1400], examples_per_second: 10718.2081, train_label_loss: 0.5135, \n"
     ]
    },
    {
     "name": "stdout",
     "output_type": "stream",
     "text": [
      "epoch: 8, [batch: 980 / 1400], examples_per_second: 10659.1300, train_label_loss: 0.6640, \n"
     ]
    },
    {
     "name": "stdout",
     "output_type": "stream",
     "text": [
      "epoch: 8, [batch: 1120 / 1400], examples_per_second: 10727.4218, train_label_loss: 0.6610, \n"
     ]
    },
    {
     "name": "stdout",
     "output_type": "stream",
     "text": [
      "epoch: 8, [batch: 1260 / 1400], examples_per_second: 10690.4870, train_label_loss: 0.6537, \n"
     ]
    },
    {
     "name": "stdout",
     "output_type": "stream",
     "text": [
      "=============================================================\n",
      "epoch: 8, source_val_acc_label: 0.4858, source_val_label_loss: 1.5991, target_val_acc_label: 0.4858, target_val_label_loss: 1.5991, \n",
      "=============================================================\n"
     ]
    },
    {
     "name": "stdout",
     "output_type": "stream",
     "text": [
      "epoch: 9, [batch: 1 / 1400], examples_per_second: 57.2745, train_label_loss: 0.3895, \n"
     ]
    },
    {
     "name": "stdout",
     "output_type": "stream",
     "text": [
      "epoch: 9, [batch: 140 / 1400], examples_per_second: 10593.2419, train_label_loss: 0.3763, \n"
     ]
    },
    {
     "name": "stdout",
     "output_type": "stream",
     "text": [
      "epoch: 9, [batch: 280 / 1400], examples_per_second: 10683.2997, train_label_loss: 0.3770, \n"
     ]
    },
    {
     "name": "stdout",
     "output_type": "stream",
     "text": [
      "epoch: 9, [batch: 420 / 1400], examples_per_second: 10711.8949, train_label_loss: 0.4996, \n"
     ]
    },
    {
     "name": "stdout",
     "output_type": "stream",
     "text": [
      "epoch: 9, [batch: 560 / 1400], examples_per_second: 10693.2262, train_label_loss: 0.4190, \n"
     ]
    },
    {
     "name": "stdout",
     "output_type": "stream",
     "text": [
      "epoch: 9, [batch: 700 / 1400], examples_per_second: 10697.4267, train_label_loss: 0.4206, \n"
     ]
    },
    {
     "name": "stdout",
     "output_type": "stream",
     "text": [
      "epoch: 9, [batch: 840 / 1400], examples_per_second: 10704.2412, train_label_loss: 0.4786, \n"
     ]
    },
    {
     "name": "stdout",
     "output_type": "stream",
     "text": [
      "epoch: 9, [batch: 980 / 1400], examples_per_second: 10733.1081, train_label_loss: 0.7935, \n"
     ]
    },
    {
     "name": "stdout",
     "output_type": "stream",
     "text": [
      "epoch: 9, [batch: 1120 / 1400], examples_per_second: 10761.8322, train_label_loss: 0.4476, \n"
     ]
    },
    {
     "name": "stdout",
     "output_type": "stream",
     "text": [
      "epoch: 9, [batch: 1260 / 1400], examples_per_second: 10713.0567, train_label_loss: 0.4191, \n"
     ]
    },
    {
     "name": "stdout",
     "output_type": "stream",
     "text": [
      "=============================================================\n",
      "epoch: 9, source_val_acc_label: 0.4572, source_val_label_loss: 1.7154, target_val_acc_label: 0.4572, target_val_label_loss: 1.7154, \n",
      "=============================================================\n"
     ]
    },
    {
     "name": "stdout",
     "output_type": "stream",
     "text": [
      "epoch: 10, [batch: 1 / 1400], examples_per_second: 57.2280, train_label_loss: 0.3040, \n"
     ]
    },
    {
     "name": "stdout",
     "output_type": "stream",
     "text": [
      "epoch: 10, [batch: 140 / 1400], examples_per_second: 10611.5666, train_label_loss: 0.2518, \n"
     ]
    },
    {
     "name": "stdout",
     "output_type": "stream",
     "text": [
      "epoch: 10, [batch: 280 / 1400], examples_per_second: 10693.6613, train_label_loss: 0.3135, \n"
     ]
    },
    {
     "name": "stdout",
     "output_type": "stream",
     "text": [
      "epoch: 10, [batch: 420 / 1400], examples_per_second: 10686.8648, train_label_loss: 0.3259, \n"
     ]
    },
    {
     "name": "stdout",
     "output_type": "stream",
     "text": [
      "epoch: 10, [batch: 560 / 1400], examples_per_second: 10677.6357, train_label_loss: 0.3523, \n"
     ]
    },
    {
     "name": "stdout",
     "output_type": "stream",
     "text": [
      "epoch: 10, [batch: 700 / 1400], examples_per_second: 10673.5538, train_label_loss: 0.3588, \n"
     ]
    },
    {
     "name": "stdout",
     "output_type": "stream",
     "text": [
      "epoch: 10, [batch: 840 / 1400], examples_per_second: 10635.6277, train_label_loss: 0.3312, \n"
     ]
    },
    {
     "name": "stdout",
     "output_type": "stream",
     "text": [
      "epoch: 10, [batch: 980 / 1400], examples_per_second: 10685.3880, train_label_loss: 0.3971, \n"
     ]
    },
    {
     "name": "stdout",
     "output_type": "stream",
     "text": [
      "epoch: 10, [batch: 1120 / 1400], examples_per_second: 10683.8479, train_label_loss: 0.3980, \n"
     ]
    },
    {
     "name": "stdout",
     "output_type": "stream",
     "text": [
      "epoch: 10, [batch: 1260 / 1400], examples_per_second: 10706.3057, train_label_loss: 0.3593, \n"
     ]
    },
    {
     "name": "stdout",
     "output_type": "stream",
     "text": [
      "=============================================================\n",
      "epoch: 10, source_val_acc_label: 0.4520, source_val_label_loss: 1.8371, target_val_acc_label: 0.4520, target_val_label_loss: 1.8371, \n",
      "=============================================================\n"
     ]
    },
    {
     "name": "stdout",
     "output_type": "stream",
     "text": [
      "Patience (3) exhausted\n"
     ]
    }
   ],
   "source": [
    "jig = Vanilla_Train_Eval_Test_Jig(\n",
    "    model=model,\n",
    "    path_to_best_model=p.BEST_MODEL_PATH,\n",
    "    device=p.device,\n",
    "    label_loss_object=torch.nn.NLLLoss(),\n",
    ")\n",
    "\n",
    "jig.train(\n",
    "    train_iterable=datasets.source.processed.train,\n",
    "    source_val_iterable=datasets.source.processed.val,\n",
    "    target_val_iterable=datasets.target.processed.val,\n",
    "    patience=p.patience,\n",
    "    num_epochs=p.n_epoch,\n",
    "    num_logs_per_epoch=p.NUM_LOGS_PER_EPOCH,\n",
    "    criteria_for_best=p.criteria_for_best\n",
    ")"
   ]
  },
  {
   "cell_type": "code",
   "execution_count": 14,
   "id": "4bc2ac17",
   "metadata": {
    "execution": {
     "iopub.execute_input": "2022-03-26T07:20:22.288348Z",
     "iopub.status.busy": "2022-03-26T07:20:22.287793Z",
     "iopub.status.idle": "2022-03-26T07:20:22.290227Z",
     "shell.execute_reply": "2022-03-26T07:20:22.290680Z"
    },
    "papermill": {
     "duration": 0.053799,
     "end_time": "2022-03-26T07:20:22.290804",
     "exception": false,
     "start_time": "2022-03-26T07:20:22.237005",
     "status": "completed"
    },
    "tags": []
   },
   "outputs": [],
   "source": [
    "total_experiment_time_secs = time.time() - start_time_secs"
   ]
  },
  {
   "cell_type": "code",
   "execution_count": 15,
   "id": "cae88f23",
   "metadata": {
    "execution": {
     "iopub.execute_input": "2022-03-26T07:20:22.395895Z",
     "iopub.status.busy": "2022-03-26T07:20:22.394808Z",
     "iopub.status.idle": "2022-03-26T07:20:45.104028Z",
     "shell.execute_reply": "2022-03-26T07:20:45.103656Z"
    },
    "papermill": {
     "duration": 22.764955,
     "end_time": "2022-03-26T07:20:45.104133",
     "exception": false,
     "start_time": "2022-03-26T07:20:22.339178",
     "status": "completed"
    },
    "tags": []
   },
   "outputs": [],
   "source": [
    "source_test_label_accuracy, source_test_label_loss = jig.test(datasets.source.processed.test)\n",
    "target_test_label_accuracy, target_test_label_loss = jig.test(datasets.target.processed.test)\n",
    "\n",
    "source_val_label_accuracy, source_val_label_loss = jig.test(datasets.source.processed.val)\n",
    "target_val_label_accuracy, target_val_label_loss = jig.test(datasets.target.processed.val)\n",
    "\n",
    "history = jig.get_history()\n",
    "\n",
    "total_epochs_trained = len(history[\"epoch_indices\"])\n",
    "\n",
    "val_dl = wrap_in_dataloader(p, Sequence_Aggregator((datasets.source.original.val, datasets.target.original.val)))\n",
    "\n",
    "confusion = confusion_by_domain_over_dataloader(model, p.device, val_dl, forward_uses_domain=False)\n",
    "per_domain_accuracy = per_domain_accuracy_from_confusion(confusion)\n",
    "\n",
    "# Add a key to per_domain_accuracy for if it was a source domain\n",
    "for domain, accuracy in per_domain_accuracy.items():\n",
    "    per_domain_accuracy[domain] = {\n",
    "        \"accuracy\": accuracy,\n",
    "        \"source?\": domain in p.domains_source\n",
    "    }\n",
    "\n",
    "# Do an independent accuracy assesment JUST TO BE SURE!\n",
    "# _source_test_label_accuracy = independent_accuracy_assesment(model, datasets.source.processed.test, p.device)\n",
    "# _target_test_label_accuracy = independent_accuracy_assesment(model, datasets.target.processed.test, p.device)\n",
    "# _source_val_label_accuracy = independent_accuracy_assesment(model, datasets.source.processed.val, p.device)\n",
    "# _target_val_label_accuracy = independent_accuracy_assesment(model, datasets.target.processed.val, p.device)\n",
    "\n",
    "# assert(_source_test_label_accuracy == source_test_label_accuracy)\n",
    "# assert(_target_test_label_accuracy == target_test_label_accuracy)\n",
    "# assert(_source_val_label_accuracy == source_val_label_accuracy)\n",
    "# assert(_target_val_label_accuracy == target_val_label_accuracy)\n",
    "\n",
    "###################################\n",
    "# Write out the results\n",
    "###################################\n",
    "\n",
    "experiment = {\n",
    "    \"experiment_name\": p.experiment_name,\n",
    "    \"parameters\": p,\n",
    "    \"results\": {\n",
    "        \"source_test_label_accuracy\": source_test_label_accuracy,\n",
    "        \"source_test_label_loss\": source_test_label_loss,\n",
    "        \"target_test_label_accuracy\": target_test_label_accuracy,\n",
    "        \"target_test_label_loss\": target_test_label_loss,\n",
    "        \"source_val_label_accuracy\": source_val_label_accuracy,\n",
    "        \"source_val_label_loss\": source_val_label_loss,\n",
    "        \"target_val_label_accuracy\": target_val_label_accuracy,\n",
    "        \"target_val_label_loss\": target_val_label_loss,\n",
    "        \"total_epochs_trained\": total_epochs_trained,\n",
    "        \"total_experiment_time_secs\": total_experiment_time_secs,\n",
    "        \"confusion\": confusion,\n",
    "        \"per_domain_accuracy\": per_domain_accuracy,\n",
    "    },\n",
    "    \"history\": history,\n",
    "    \"dataset_metrics\": get_dataset_metrics(datasets, \"cnn\"),\n",
    "}"
   ]
  },
  {
   "cell_type": "code",
   "execution_count": 16,
   "id": "74c318cf",
   "metadata": {
    "execution": {
     "iopub.execute_input": "2022-03-26T07:20:45.225890Z",
     "iopub.status.busy": "2022-03-26T07:20:45.223011Z",
     "iopub.status.idle": "2022-03-26T07:20:45.399776Z",
     "shell.execute_reply": "2022-03-26T07:20:45.400456Z"
    },
    "papermill": {
     "duration": 0.249973,
     "end_time": "2022-03-26T07:20:45.400682",
     "exception": false,
     "start_time": "2022-03-26T07:20:45.150709",
     "status": "completed"
    },
    "tags": []
   },
   "outputs": [
    {
     "data": {
      "text/plain": [
       "<AxesSubplot:title={'center':'Source Train Label Loss vs Source Val Label Loss'}, xlabel='Epoch'>"
      ]
     },
     "execution_count": 16,
     "metadata": {},
     "output_type": "execute_result"
    },
    {
     "data": {
      "image/png": "[encoded data removed]",
      "text/plain": [
       "<Figure size 1080x504 with 1 Axes>"
      ]
     },
     "metadata": {
      "needs_background": "light"
     },
     "output_type": "display_data"
    }
   ],
   "source": [
    "get_loss_curve(experiment)"
   ]
  },
  {
   "cell_type": "code",
   "execution_count": 17,
   "id": "59376601",
   "metadata": {
    "execution": {
     "iopub.execute_input": "2022-03-26T07:20:45.528335Z",
     "iopub.status.busy": "2022-03-26T07:20:45.519932Z",
     "iopub.status.idle": "2022-03-26T07:20:45.852483Z",
     "shell.execute_reply": "2022-03-26T07:20:45.853167Z"
    },
    "papermill": {
     "duration": 0.397777,
     "end_time": "2022-03-26T07:20:45.853385",
     "exception": false,
     "start_time": "2022-03-26T07:20:45.455608",
     "status": "completed"
    },
    "tags": []
   },
   "outputs": [
    {
     "data": {
      "text/plain": [
       "<AxesSubplot:title={'center':'Results'}>"
      ]
     },
     "execution_count": 17,
     "metadata": {},
     "output_type": "execute_result"
    },
    {
     "data": {
      "image/png": "[encoded data removed]",
      "text/plain": [
       "<Figure size 1080x504 with 1 Axes>"
      ]
     },
     "metadata": {
      "needs_background": "light"
     },
     "output_type": "display_data"
    }
   ],
   "source": [
    "get_results_table(experiment)"
   ]
  },
  {
   "cell_type": "code",
   "execution_count": 18,
   "id": "e80c5c98",
   "metadata": {
    "execution": {
     "iopub.execute_input": "2022-03-26T07:20:45.980573Z",
     "iopub.status.busy": "2022-03-26T07:20:45.979499Z",
     "iopub.status.idle": "2022-03-26T07:20:46.138729Z",
     "shell.execute_reply": "2022-03-26T07:20:46.139267Z"
    },
    "papermill": {
     "duration": 0.232495,
     "end_time": "2022-03-26T07:20:46.139439",
     "exception": false,
     "start_time": "2022-03-26T07:20:45.906944",
     "status": "completed"
    },
    "tags": []
   },
   "outputs": [
    {
     "data": {
      "text/plain": [
       "<AxesSubplot:title={'center':'Per Domain Accuracy'}, xlabel='domain'>"
      ]
     },
     "execution_count": 18,
     "metadata": {},
     "output_type": "execute_result"
    },
    {
     "data": {
      "image/png": "[encoded data removed]",
      "text/plain": [
       "<Figure size 1080x504 with 1 Axes>"
      ]
     },
     "metadata": {
      "needs_background": "light"
     },
     "output_type": "display_data"
    }
   ],
   "source": [
    "get_domain_accuracies(experiment)"
   ]
  },
  {
   "cell_type": "code",
   "execution_count": 19,
   "id": "086fdd10",
   "metadata": {
    "execution": {
     "iopub.execute_input": "2022-03-26T07:20:46.249651Z",
     "iopub.status.busy": "2022-03-26T07:20:46.249009Z",
     "iopub.status.idle": "2022-03-26T07:20:46.253349Z",
     "shell.execute_reply": "2022-03-26T07:20:46.252726Z"
    },
    "papermill": {
     "duration": 0.060504,
     "end_time": "2022-03-26T07:20:46.253478",
     "exception": false,
     "start_time": "2022-03-26T07:20:46.192974",
     "status": "completed"
    },
    "tags": []
   },
   "outputs": [
    {
     "name": "stdout",
     "output_type": "stream",
     "text": [
      "Source Test Label Accuracy: 0.49604166666666666 Target Test Label Accuracy: 0.49604166666666666\n",
      "Source Val Label Accuracy: 0.49096354166666667 Target Val Label Accuracy: 0.49096354166666667\n"
     ]
    }
   ],
   "source": [
    "print(\"Source Test Label Accuracy:\", experiment[\"results\"][\"source_test_label_accuracy\"], \"Target Test Label Accuracy:\", experiment[\"results\"][\"target_test_label_accuracy\"])\n",
    "print(\"Source Val Label Accuracy:\", experiment[\"results\"][\"source_val_label_accuracy\"], \"Target Val Label Accuracy:\", experiment[\"results\"][\"target_val_label_accuracy\"])"
   ]
  },
  {
   "cell_type": "code",
   "execution_count": 20,
   "id": "9f450536",
   "metadata": {
    "execution": {
     "iopub.execute_input": "2022-03-26T07:20:46.368554Z",
     "iopub.status.busy": "2022-03-26T07:20:46.367924Z",
     "iopub.status.idle": "2022-03-26T07:20:46.371437Z",
     "shell.execute_reply": "2022-03-26T07:20:46.371984Z"
    },
    "papermill": {
     "duration": 0.062767,
     "end_time": "2022-03-26T07:20:46.372147",
     "exception": false,
     "start_time": "2022-03-26T07:20:46.309380",
     "status": "completed"
    },
    "tags": [
     "experiment_json"
    ]
   },
   "outputs": [
    {
     "data": {
      "text/plain": [
       "'{\"experiment_name\": \"cnn_2:oracle.run1_limited\", \"parameters\": {\"experiment_name\": \"cnn_2:oracle.run1_limited\", \"labels\": [\"3123D52\", \"3123D65\", \"3123D79\", \"3123D80\", \"3123D54\", \"3123D70\", \"3123D7B\", \"3123D89\", \"3123D58\", \"3123D76\", \"3123D7D\", \"3123EFE\", \"3123D64\", \"3123D78\", \"3123D7E\", \"3124E4A\"], \"domains_source\": [8, 32, 50, 14, 20, 26, 38, 44], \"domains_target\": [8, 32, 50, 14, 20, 26, 38, 44], \"pickle_name_source\": \"oracle.Run1_10kExamples_stratified_ds.2022A.pkl\", \"pickle_name_target\": \"oracle.Run1_10kExamples_stratified_ds.2022A.pkl\", \"device\": \"cuda\", \"lr\": 0.0001, \"batch_size\": 128, \"normalize_source\": false, \"normalize_target\": false, \"num_examples_per_domain_per_label_source\": 2000, \"num_examples_per_domain_per_label_target\": 2000, \"torch_default_dtype\": \"torch.float32\", \"n_epoch\": 50, \"patience\": 3, \"criteria_for_best\": \"target_accuracy\", \"x_net\": [{\"class\": \"nnReshape\", \"kargs\": {\"shape\": [-1, 1, 2, 256]}}, {\"class\": \"Conv2d\", \"kargs\": {\"in_channels\": 1, \"out_channels\": 256, \"kernel_size\": [1, 7], \"bias\": false, \"padding\": [0, 3]}}, {\"class\": \"ReLU\", \"kargs\": {\"inplace\": true}}, {\"class\": \"BatchNorm2d\", \"kargs\": {\"num_features\": 256}}, {\"class\": \"Conv2d\", \"kargs\": {\"in_channels\": 256, \"out_channels\": 80, \"kernel_size\": [2, 7], \"bias\": true, \"padding\": [0, 3]}}, {\"class\": \"ReLU\", \"kargs\": {\"inplace\": true}}, {\"class\": \"BatchNorm2d\", \"kargs\": {\"num_features\": 80}}, {\"class\": \"Flatten\", \"kargs\": {}}, {\"class\": \"Linear\", \"kargs\": {\"in_features\": 20480, \"out_features\": 256}}, {\"class\": \"ReLU\", \"kargs\": {\"inplace\": true}}, {\"class\": \"BatchNorm1d\", \"kargs\": {\"num_features\": 256}}, {\"class\": \"Linear\", \"kargs\": {\"in_features\": 256, \"out_features\": 16}}], \"NUM_LOGS_PER_EPOCH\": 10, \"BEST_MODEL_PATH\": \"./best_model.pth\", \"dataset_seed\": 154325, \"seed\": 154325}, \"results\": {\"source_test_label_accuracy\": 0.49604166666666666, \"source_test_label_loss\": 1.4321511336167654, \"target_test_label_accuracy\": 0.49604166666666666, \"target_test_label_loss\": 1.4321511312325796, \"source_val_label_accuracy\": 0.49096354166666667, \"source_val_label_loss\": 1.4450777260462444, \"target_val_label_accuracy\": 0.49096354166666667, \"target_val_label_loss\": 1.445077721675237, \"total_epochs_trained\": 10, \"total_experiment_time_secs\": 215.8597650527954, \"confusion\": {\"44\": {\"14\": {\"4\": 76, \"5\": 182, \"9\": 186, \"15\": 32, \"14\": 86, \"7\": 36, \"11\": 2}, \"12\": {\"3\": 418, \"12\": 122, \"2\": 14, \"14\": 8, \"1\": 28, \"13\": 2, \"7\": 4, \"8\": 4}, \"5\": {\"5\": 314, \"14\": 172, \"7\": 8, \"15\": 56, \"4\": 36, \"6\": 8, \"8\": 2, \"9\": 4}, \"15\": {\"15\": 308, \"9\": 112, \"5\": 104, \"14\": 28, \"8\": 6, \"12\": 30, \"6\": 2, \"4\": 6, \"11\": 2, \"0\": 2}, \"7\": {\"10\": 124, \"6\": 82, \"9\": 342, \"7\": 50, \"2\": 2}, \"10\": {\"10\": 554, \"2\": 14, \"1\": 16, \"9\": 12, \"7\": 2, \"6\": 2}, \"2\": {\"2\": 384, \"1\": 134, \"15\": 10, \"7\": 36, \"9\": 14, \"5\": 20, \"10\": 2}, \"11\": {\"11\": 598, \"10\": 2}, \"4\": {\"9\": 246, \"5\": 94, \"4\": 126, \"14\": 16, \"15\": 34, \"7\": 48, \"13\": 8, \"6\": 8, \"0\": 18, \"8\": 2}, \"6\": {\"6\": 438, \"13\": 128, \"9\": 32, \"10\": 2}, \"9\": {\"13\": 88, \"9\": 322, \"6\": 106, \"15\": 22, \"7\": 24, \"10\": 22, \"0\": 2, \"2\": 14}, \"0\": {\"15\": 224, \"0\": 150, \"8\": 178, \"6\": 18, \"5\": 24, \"1\": 4, \"11\": 2}, \"8\": {\"8\": 352, \"5\": 26, \"15\": 188, \"0\": 24, \"14\": 8, \"6\": 2}, \"3\": {\"3\": 282, \"7\": 30, \"8\": 22, \"2\": 94, \"4\": 48, \"14\": 52, \"5\": 20, \"1\": 16, \"6\": 2, \"13\": 8, \"12\": 14, \"0\": 6, \"11\": 2, \"15\": 4}, \"13\": {\"13\": 434, \"6\": 114, \"11\": 18, \"0\": 20, \"9\": 12, \"10\": 2}, \"1\": {\"5\": 64, \"1\": 410, \"2\": 66, \"7\": 44, \"10\": 10, \"9\": 4, \"14\": 2}}, \"38\": {\"0\": {\"0\": 192, \"13\": 214, \"4\": 40, \"11\": 64, \"7\": 14, \"3\": 10, \"10\": 34, \"6\": 4, \"9\": 26, \"14\": 2}, \"8\": {\"5\": 212, \"4\": 92, \"7\": 56, \"15\": 166, \"0\": 4, \"14\": 22, \"11\": 2, \"8\": 10, \"9\": 22, \"12\": 4, \"13\": 2, \"6\": 8}, \"11\": {\"11\": 600}, \"1\": {\"6\": 70, \"15\": 6, \"1\": 220, \"2\": 102, \"0\": 190, \"9\": 12}, \"15\": {\"15\": 258, \"5\": 88, \"1\": 174, \"8\": 16, \"13\": 14, \"6\": 16, \"0\": 18, \"10\": 4, \"11\": 10, \"12\": 2}, \"13\": {\"13\": 472, \"10\": 82, \"0\": 26, \"7\": 12, \"4\": 4, \"14\": 4}, \"9\": {\"9\": 578, \"15\": 4, \"5\": 6, \"12\": 12}, \"14\": {\"14\": 538, \"2\": 4, \"4\": 26, \"7\": 24, \"13\": 2, \"5\": 6}, \"3\": {\"3\": 580, \"11\": 20}, \"6\": {\"6\": 240, \"1\": 152, \"9\": 38, \"14\": 30, \"2\": 72, \"0\": 46, \"4\": 10, \"13\": 4, \"15\": 4, \"5\": 4}, \"2\": {\"5\": 116, \"14\": 258, \"2\": 124, \"7\": 76, \"3\": 2, \"4\": 4, \"13\": 18, \"8\": 2}, \"4\": {\"4\": 588, \"13\": 2, \"11\": 6, \"10\": 4}, \"5\": {\"5\": 292, \"15\": 168, \"9\": 76, \"1\": 2, \"11\": 8, \"4\": 16, \"6\": 2, \"0\": 4, \"14\": 4, \"7\": 24, \"8\": 4}, \"10\": {\"11\": 20, \"13\": 54, \"0\": 24, \"10\": 502}, \"12\": {\"12\": 582, \"15\": 14, \"14\": 4}, \"7\": {\"9\": 114, \"7\": 322, \"14\": 14, \"6\": 44, \"4\": 84, \"13\": 10, \"0\": 8, \"5\": 4}}, \"26\": {\"5\": {\"5\": 252, \"15\": 232, \"9\": 16, \"6\": 60, \"10\": 4, \"14\": 4, \"11\": 12, \"2\": 18, \"0\": 2}, \"1\": {\"1\": 304, \"15\": 18, \"10\": 114, \"6\": 28, \"14\": 104, \"2\": 2, \"4\": 2, \"0\": 22, \"12\": 4, \"8\": 2}, \"13\": {\"15\": 8, \"13\": 322, \"0\": 34, \"3\": 28, \"9\": 86, \"8\": 88, \"12\": 10, \"7\": 6, \"2\": 18}, \"2\": {\"0\": 54, \"2\": 130, \"7\": 140, \"3\": 74, \"13\": 48, \"15\": 44, \"5\": 20, \"8\": 44, \"9\": 8, \"6\": 28, \"10\": 4, \"4\": 2, \"14\": 4}, \"0\": {\"0\": 192, \"1\": 32, \"14\": 102, \"8\": 50, \"10\": 116, \"6\": 60, \"7\": 24, \"4\": 10, \"2\": 8, \"12\": 4, \"9\": 2}, \"3\": {\"0\": 74, \"7\": 112, \"9\": 4, \"3\": 230, \"2\": 60, \"13\": 42, \"8\": 38, \"4\": 22, \"6\": 14, \"14\": 4}, \"7\": {\"3\": 102, \"2\": 52, \"8\": 70, \"0\": 142, \"7\": 148, \"10\": 10, \"14\": 16, \"13\": 18, \"6\": 16, \"4\": 18, \"9\": 8}, \"10\": {\"10\": 152, \"8\": 24, \"1\": 40, \"14\": 94, \"0\": 134, \"6\": 96, \"12\": 8, \"15\": 26, \"7\": 10, \"9\": 6, \"5\": 4, \"2\": 6}, \"11\": {\"11\": 358, \"6\": 218, \"10\": 4, \"2\": 12, \"12\": 8}, \"4\": {\"0\": 142, \"4\": 226, \"8\": 26, \"14\": 36, \"3\": 148, \"2\": 6, \"7\": 2, \"13\": 8, \"10\": 4, \"6\": 2}, \"9\": {\"13\": 84, \"0\": 172, \"9\": 102, \"8\": 124, \"2\": 36, \"7\": 38, \"3\": 24, \"6\": 16, \"14\": 2, \"12\": 2}, \"6\": {\"0\": 52, \"10\": 68, \"8\": 8, \"6\": 302, \"15\": 44, \"14\": 40, \"12\": 22, \"1\": 16, \"5\": 30, \"11\": 6, \"9\": 10, \"7\": 2}, \"14\": {\"1\": 110, \"15\": 18, \"14\": 158, \"10\": 112, \"0\": 98, \"6\": 72, \"2\": 2, \"8\": 16, \"7\": 8, \"12\": 2, \"4\": 2, \"9\": 2}, \"12\": {\"12\": 582, \"6\": 6, \"10\": 6, \"9\": 4, \"0\": 2}, \"8\": {\"3\": 36, \"4\": 20, \"7\": 66, \"10\": 42, \"8\": 134, \"13\": 24, \"0\": 198, \"6\": 16, \"2\": 34, \"9\": 20, \"14\": 8, \"1\": 2}, \"15\": {\"5\": 128, \"15\": 180, \"0\": 18, \"6\": 174, \"10\": 22, \"2\": 26, \"14\": 14, \"9\": 18, \"11\": 4, \"8\": 6, \"13\": 4, \"12\": 2, \"1\": 2, \"7\": 2}}, \"50\": {\"12\": {\"9\": 268, \"12\": 312, \"15\": 10, \"5\": 10}, \"7\": {\"13\": 52, \"7\": 156, \"14\": 302, \"4\": 72, \"2\": 10, \"10\": 4, \"5\": 4}, \"10\": {\"8\": 42, \"1\": 220, \"10\": 244, \"0\": 88, \"15\": 2, \"12\": 2, \"13\": 2}, \"15\": {\"7\": 88, \"5\": 272, \"15\": 100, \"4\": 34, \"14\": 42, \"6\": 30, \"9\": 32, \"8\": 2}, \"11\": {\"15\": 188, \"9\": 134, \"5\": 220, \"11\": 40, \"6\": 4, \"8\": 8, \"14\": 2, \"0\": 4}, \"3\": {\"3\": 556, \"2\": 32, \"5\": 10, \"8\": 2}, \"5\": {\"14\": 258, \"7\": 62, \"5\": 186, \"4\": 34, \"15\": 34, \"13\": 10, \"6\": 10, \"8\": 4, \"2\": 2}, \"1\": {\"15\": 188, \"1\": 314, \"12\": 8, \"13\": 32, \"8\": 16, \"5\": 8, \"6\": 12, \"0\": 22}, \"14\": {\"14\": 252, \"9\": 134, \"2\": 126, \"6\": 64, \"1\": 10, \"0\": 12, \"5\": 2}, \"4\": {\"4\": 230, \"0\": 48, \"13\": 96, \"7\": 118, \"9\": 10, \"14\": 76, \"5\": 14, \"10\": 8}, \"0\": {\"2\": 64, \"0\": 372, \"1\": 86, \"10\": 62, \"6\": 6, \"12\": 10}, \"2\": {\"2\": 360, \"1\": 10, \"9\": 48, \"6\": 38, \"0\": 136, \"15\": 2, \"14\": 4, \"10\": 2}, \"9\": {\"9\": 552, \"15\": 16, \"5\": 28, \"8\": 2, \"12\": 2}, \"13\": {\"13\": 220, \"15\": 154, \"8\": 30, \"12\": 36, \"1\": 92, \"6\": 6, \"5\": 48, \"0\": 12, \"11\": 2}, \"6\": {\"14\": 94, \"5\": 406, \"6\": 30, \"15\": 30, \"4\": 24, \"7\": 16}, \"8\": {\"1\": 122, \"8\": 424, \"10\": 44, \"0\": 10}}, \"32\": {\"4\": {\"8\": 2, \"4\": 220, \"2\": 138, \"1\": 14, \"6\": 22, \"14\": 66, \"3\": 88, \"13\": 24, \"11\": 8, \"0\": 8, \"5\": 2, \"12\": 4, \"7\": 4}, \"9\": {\"1\": 62, \"14\": 110, \"9\": 174, \"2\": 106, \"6\": 94, \"12\": 2, \"5\": 10, \"0\": 34, \"11\": 8}, \"15\": {\"15\": 550, \"8\": 10, \"2\": 28, \"1\": 12}, \"1\": {\"1\": 524, \"8\": 74, \"10\": 2}, \"8\": {\"5\": 108, \"1\": 90, \"0\": 28, \"2\": 54, \"15\": 24, \"8\": 242, \"3\": 24, \"7\": 8, \"14\": 8, \"4\": 6, \"13\": 4, \"6\": 2, \"12\": 2}, \"11\": {\"11\": 466, \"3\": 38, \"13\": 74, \"2\": 6, \"15\": 10, \"4\": 4, \"14\": 2}, \"7\": {\"14\": 96, \"7\": 166, \"5\": 184, \"1\": 96, \"12\": 40, \"8\": 4, \"0\": 8, \"11\": 2, \"2\": 4}, \"13\": {\"13\": 192, \"4\": 94, \"3\": 270, \"12\": 8, \"2\": 6, \"14\": 10, \"11\": 16, \"15\": 2, \"6\": 2}, \"6\": {\"6\": 520, \"11\": 76, \"12\": 4}, \"5\": {\"7\": 82, \"1\": 176, \"5\": 232, \"14\": 20, \"12\": 32, \"2\": 16, \"8\": 30, \"0\": 6, \"10\": 2, \"9\": 4}, \"12\": {\"12\": 464, \"6\": 38, \"1\": 10, \"11\": 12, \"0\": 18, \"9\": 8, \"10\": 44, \"14\": 4, \"2\": 2}, \"0\": {\"14\": 48, \"11\": 20, \"5\": 228, \"8\": 94, \"9\": 16, \"7\": 16, \"0\": 128, \"12\": 12, \"1\": 18, \"4\": 4, \"2\": 10, \"15\": 6}, \"10\": {\"10\": 590, \"12\": 10}, \"2\": {\"14\": 110, \"0\": 52, \"2\": 294, \"5\": 4, \"4\": 100, \"3\": 6, \"6\": 20, \"1\": 10, \"7\": 2, \"11\": 2}, \"3\": {\"13\": 100, \"3\": 448, \"12\": 50, \"4\": 2}, \"14\": {\"7\": 146, \"2\": 20, \"14\": 260, \"11\": 2, \"1\": 36, \"5\": 84, \"12\": 26, \"3\": 8, \"0\": 16, \"4\": 2}}, \"8\": {\"5\": {\"5\": 404, \"10\": 102, \"1\": 74, \"6\": 6, \"13\": 10, \"11\": 2, \"14\": 2}, \"0\": {\"0\": 574, \"14\": 26}, \"4\": {\"14\": 44, \"10\": 94, \"1\": 16, \"4\": 198, \"6\": 76, \"7\": 94, \"5\": 2, \"13\": 36, \"11\": 40}, \"11\": {\"1\": 224, \"11\": 196, \"8\": 78, \"4\": 50, \"10\": 20, \"14\": 16, \"6\": 4, \"5\": 8, \"7\": 4}, \"14\": {\"14\": 322, \"4\": 136, \"11\": 18, \"10\": 46, \"7\": 12, \"1\": 18, \"8\": 12, \"6\": 24, \"13\": 8, \"0\": 2, \"5\": 2}, \"1\": {\"1\": 376, \"6\": 10, \"11\": 42, \"10\": 78, \"5\": 48, \"14\": 4, \"4\": 18, \"12\": 4, \"13\": 8, \"8\": 6, \"7\": 6}, \"12\": {\"15\": 132, \"12\": 226, \"10\": 72, \"8\": 64, \"14\": 30, \"3\": 36, \"5\": 6, \"2\": 4, \"4\": 22, \"9\": 2, \"6\": 6}, \"2\": {\"15\": 46, \"0\": 140, \"3\": 162, \"5\": 66, \"10\": 30, \"9\": 36, \"12\": 38, \"7\": 10, \"2\": 54, \"1\": 8, \"8\": 4, \"4\": 4, \"13\": 2}, \"3\": {\"3\": 290, \"4\": 58, \"8\": 6, \"0\": 184, \"10\": 48, \"12\": 8, \"14\": 4, \"2\": 2}, \"9\": {\"9\": 588, \"12\": 12}, \"7\": {\"7\": 236, \"13\": 122, \"4\": 84, \"10\": 62, \"1\": 14, \"6\": 50, \"15\": 4, \"11\": 18, \"3\": 2, \"2\": 2, \"9\": 2, \"12\": 4}, \"8\": {\"11\": 56, \"8\": 444, \"6\": 14, \"4\": 58, \"10\": 4, \"7\": 20, \"12\": 2, \"14\": 2}, \"10\": {\"13\": 170, \"10\": 204, \"1\": 48, \"5\": 124, \"7\": 22, \"6\": 10, \"4\": 6, \"15\": 4, \"9\": 2, \"2\": 4, \"14\": 2, \"11\": 2, \"12\": 2}, \"6\": {\"7\": 198, \"10\": 58, \"4\": 122, \"13\": 102, \"6\": 84, \"1\": 20, \"11\": 16}, \"13\": {\"13\": 304, \"10\": 128, \"5\": 40, \"1\": 40, \"7\": 42, \"12\": 6, \"2\": 4, \"6\": 6, \"15\": 26, \"9\": 2, \"11\": 2}, \"15\": {\"15\": 248, \"3\": 74, \"12\": 196, \"5\": 10, \"10\": 20, \"8\": 26, \"1\": 6, \"2\": 2, \"14\": 8, \"4\": 8, \"0\": 2}}, \"20\": {\"14\": {\"2\": 20, \"6\": 56, \"14\": 372, \"10\": 74, \"4\": 26, \"3\": 2, \"8\": 36, \"12\": 8, \"7\": 2, \"15\": 2, \"13\": 2}, \"0\": {\"0\": 394, \"3\": 106, \"9\": 18, \"12\": 24, \"2\": 14, \"5\": 24, \"1\": 4, \"15\": 8, \"10\": 6, \"8\": 2}, \"9\": {\"15\": 58, \"2\": 148, \"9\": 84, \"7\": 18, \"12\": 64, \"5\": 38, \"3\": 54, \"1\": 54, \"10\": 32, \"8\": 8, \"0\": 16, \"13\": 14, \"11\": 6, \"4\": 6}, \"8\": {\"8\": 96, \"14\": 120, \"2\": 68, \"12\": 42, \"10\": 84, \"4\": 58, \"3\": 72, \"0\": 20, \"6\": 2, \"15\": 18, \"5\": 10, \"13\": 6, \"11\": 4}, \"6\": {\"6\": 236, \"4\": 38, \"10\": 112, \"7\": 54, \"8\": 14, \"2\": 46, \"11\": 8, \"14\": 88, \"13\": 4}, \"5\": {\"15\": 114, \"1\": 46, \"12\": 76, \"2\": 70, \"3\": 86, \"5\": 80, \"9\": 60, \"0\": 52, \"14\": 2, \"10\": 8, \"13\": 4, \"7\": 2}, \"3\": {\"2\": 154, \"3\": 106, \"0\": 44, \"10\": 26, \"15\": 62, \"9\": 22, \"5\": 54, \"1\": 40, \"12\": 38, \"4\": 14, \"8\": 12, \"13\": 10, \"11\": 8, \"7\": 6, \"14\": 4}, \"2\": {\"13\": 50, \"7\": 116, \"2\": 184, \"12\": 42, \"11\": 16, \"10\": 22, \"9\": 60, \"1\": 40, \"15\": 32, \"5\": 6, \"4\": 12, \"0\": 4, \"3\": 12, \"8\": 4}, \"10\": {\"7\": 36, \"10\": 242, \"4\": 52, \"6\": 116, \"14\": 32, \"8\": 32, \"12\": 88, \"13\": 2}, \"1\": {\"3\": 44, \"1\": 56, \"12\": 74, \"15\": 140, \"0\": 26, \"9\": 94, \"13\": 16, \"5\": 60, \"2\": 74, \"10\": 10, \"11\": 2, \"7\": 2, \"4\": 2}, \"11\": {\"9\": 8, \"8\": 24, \"4\": 126, \"0\": 56, \"5\": 24, \"11\": 310, \"2\": 22, \"3\": 16, \"1\": 8, \"13\": 2, \"10\": 4}, \"12\": {\"13\": 42, \"2\": 148, \"12\": 98, \"10\": 18, \"4\": 8, \"15\": 110, \"1\": 24, \"9\": 44, \"3\": 30, \"5\": 28, \"7\": 40, \"11\": 4, \"0\": 2, \"8\": 4}, \"4\": {\"10\": 98, \"12\": 196, \"8\": 56, \"11\": 4, \"4\": 80, \"7\": 70, \"14\": 22, \"15\": 30, \"3\": 14, \"2\": 14, \"1\": 2, \"6\": 12, \"5\": 2}, \"15\": {\"15\": 112, \"9\": 144, \"2\": 58, \"5\": 24, \"12\": 98, \"13\": 68, \"7\": 10, \"1\": 52, \"10\": 6, \"0\": 10, \"11\": 8, \"3\": 8, \"4\": 2}, \"7\": {\"7\": 156, \"2\": 178, \"4\": 52, \"15\": 14, \"10\": 46, \"3\": 28, \"13\": 16, \"12\": 38, \"5\": 8, \"11\": 22, \"1\": 18, \"8\": 2, \"6\": 6, \"9\": 12, \"14\": 4}, \"13\": {\"7\": 68, \"11\": 16, \"1\": 30, \"15\": 22, \"2\": 42, \"13\": 300, \"12\": 22, \"9\": 90, \"10\": 2, \"4\": 2, \"8\": 2, \"5\": 4}}, \"14\": {\"5\": {\"7\": 160, \"5\": 184, \"4\": 130, \"6\": 2, \"3\": 24, \"2\": 64, \"11\": 10, \"14\": 6, \"13\": 6, \"8\": 12, \"0\": 2}, \"1\": {\"1\": 494, \"11\": 72, \"4\": 14, \"2\": 4, \"7\": 14, \"6\": 2}, \"2\": {\"6\": 74, \"7\": 32, \"13\": 44, \"5\": 24, \"4\": 134, \"2\": 142, \"14\": 128, \"3\": 20, \"8\": 2}, \"4\": {\"4\": 370, \"7\": 14, \"2\": 50, \"5\": 74, \"11\": 64, \"8\": 8, \"0\": 4, \"14\": 4, \"13\": 2, \"10\": 6, \"1\": 2, \"3\": 2}, \"13\": {\"3\": 28, \"6\": 148, \"7\": 24, \"2\": 46, \"13\": 112, \"14\": 202, \"4\": 22, \"15\": 18}, \"9\": {\"11\": 42, \"9\": 382, \"12\": 80, \"13\": 6, \"1\": 14, \"0\": 64, \"2\": 2, \"5\": 8, \"15\": 2}, \"12\": {\"12\": 560, \"9\": 36, \"0\": 2, \"13\": 2}, \"11\": {\"11\": 330, \"4\": 18, \"6\": 40, \"7\": 144, \"13\": 38, \"10\": 20, \"8\": 4, \"12\": 4, \"14\": 2}, \"7\": {\"7\": 516, \"11\": 4, \"5\": 66, \"4\": 4, \"13\": 4, \"6\": 4, \"2\": 2}, \"10\": {\"3\": 202, \"10\": 74, \"5\": 18, \"0\": 94, \"4\": 56, \"2\": 108, \"8\": 12, \"13\": 4, \"14\": 16, \"11\": 10, \"6\": 4, \"1\": 2}, \"3\": {\"3\": 350, \"0\": 44, \"8\": 20, \"7\": 58, \"2\": 66, \"6\": 6, \"13\": 54, \"4\": 2}, \"14\": {\"14\": 236, \"6\": 70, \"3\": 38, \"2\": 86, \"4\": 52, \"8\": 2, \"13\": 104, \"10\": 2, \"0\": 6, \"7\": 4}, \"15\": {\"15\": 576, \"13\": 8, \"11\": 6, \"5\": 2, \"3\": 6, \"2\": 2}, \"8\": {\"8\": 556, \"11\": 34, \"12\": 2, \"13\": 4, \"9\": 4}, \"6\": {\"7\": 10, \"13\": 130, \"6\": 220, \"14\": 120, \"3\": 28, \"2\": 78, \"4\": 12, \"0\": 2}, \"0\": {\"0\": 332, \"3\": 162, \"8\": 22, \"13\": 44, \"4\": 16, \"9\": 8, \"2\": 6, \"14\": 2, \"5\": 4, \"10\": 2, \"11\": 2}}}, \"per_domain_accuracy\": {\"44\": {\"accuracy\": 0.5135416666666667, \"source?\": true}, \"38\": {\"accuracy\": 0.6352083333333334, \"source?\": true}, \"26\": {\"accuracy\": 0.3929166666666667, \"source?\": true}, \"50\": {\"accuracy\": 0.4529166666666667, \"source?\": true}, \"32\": {\"accuracy\": 0.5697916666666667, \"source?\": true}, \"8\": {\"accuracy\": 0.4945833333333333, \"source?\": true}, \"20\": {\"accuracy\": 0.30270833333333336, \"source?\": true}, \"14\": {\"accuracy\": 0.5660416666666667, \"source?\": true}}}, \"history\": {\"epoch_indices\": [1, 2, 3, 4, 5, 6, 7, 8, 9, 10], \"train_label_loss\": [2.61483564887728, 2.2925700373308997, 1.8724293779475347, 1.5351383267981666, 1.2494951784610748, 1.002356716649873, 0.779590371123382, 0.6039016034134796, 0.4727069272526673, 0.37254844629338807], \"source_val_label_loss\": [2.5947204486529034, 2.1319542078177136, 1.7370358868439992, 1.7720709311962128, 1.4595665411154428, 1.4450777300198874, 1.616965908606847, 1.5990612204869588, 1.7154235351085663, 1.8370770927270252], \"target_val_label_loss\": [2.59472047328949, 2.1319542078177136, 1.7370358788967133, 1.7720709113279978, 1.4595665450890858, 1.4450777280330658, 1.6169658994674683, 1.5990612272421518, 1.7154235279560088, 1.8370770891507466], \"source_val_acc_label\": [0.13658854166666667, 0.28432291666666665, 0.40997395833333333, 0.39697916666666666, 0.4847916666666667, 0.49096354166666667, 0.4558333333333333, 0.48580729166666664, 0.4572395833333333, 0.45203125], \"target_val_acc_label\": [0.13658854166666667, 0.28432291666666665, 0.40997395833333333, 0.39697916666666666, 0.4847916666666667, 0.49096354166666667, 0.4558333333333333, 0.48580729166666664, 0.4572395833333333, 0.45203125]}, \"dataset_metrics\": {\"source\": {\"train\": {\"n_unique_x\": 179200, \"n_unique_y\": 16, \"n_batch/episode\": 1400}, \"val\": {\"n_unique_x\": 38400, \"n_unique_y\": 16, \"n_batch/episode\": 300}, \"test\": {\"n_unique_x\": 38400, \"n_unique_y\": 16, \"n_batch/episode\": 300}}, \"target\": {\"train\": {\"n_unique_x\": 179200, \"n_unique_y\": 16, \"n_batch/episode\": 1400}, \"val\": {\"n_unique_x\": 38400, \"n_unique_y\": 16, \"n_batch/episode\": 300}, \"test\": {\"n_unique_x\": 38400, \"n_unique_y\": 16, \"n_batch/episode\": 300}}}}'"
      ]
     },
     "execution_count": 20,
     "metadata": {},
     "output_type": "execute_result"
    }
   ],
   "source": [
    "json.dumps(experiment)"
   ]
  }
 ],
 "metadata": {
  "celltoolbar": "Tags",
  "kernelspec": {
   "display_name": "Python 3 (ipykernel)",
   "language": "python",
   "name": "python3"
  },
  "language_info": {
   "codemirror_mode": {
    "name": "ipython",
    "version": 3
   },
   "file_extension": ".py",
   "mimetype": "text/x-python",
   "name": "python",
   "nbconvert_exporter": "python",
   "pygments_lexer": "ipython3",
   "version": "3.8.12"
  },
  "papermill": {
   "default_parameters": {},
   "duration": 246.137849,
   "end_time": "2022-03-26T07:20:49.958225",
   "environment_variables": {},
   "exception": null,
   "input_path": "/root/csc500-main/csc500-notebooks/templates/cnn_template.ipynb",
   "output_path": "trial.ipynb",
   "parameters": {
    "parameters": {
     "BEST_MODEL_PATH": "./best_model.pth",
     "NUM_LOGS_PER_EPOCH": 10,
     "batch_size": 128,
     "criteria_for_best": "target_accuracy",
     "dataset_seed": 154325,
     "device": "cuda",
     "domains_source": [
      8,
      32,
      50,
      14,
      20,
      26,
      38,
      44
     ],
     "domains_target": [
      8,
      32,
      50,
      14,
      20,
      26,
      38,
      44
     ],
     "experiment_name": "cnn_2:oracle.run1_limited",
     "labels": [
      "3123D52",
      "3123D65",
      "3123D79",
      "3123D80",
      "3123D54",
      "3123D70",
      "3123D7B",
      "3123D89",
      "3123D58",
      "3123D76",
      "3123D7D",
      "3123EFE",
      "3123D64",
      "3123D78",
      "3123D7E",
      "3124E4A"
     ],
     "lr": 0.0001,
     "n_epoch": 50,
     "normalize_source": false,
     "normalize_target": false,
     "num_examples_per_domain_per_label_source": 2000,
     "num_examples_per_domain_per_label_target": 2000,
     "patience": 3,
     "pickle_name_source": "oracle.Run1_10kExamples_stratified_ds.2022A.pkl",
     "pickle_name_target": "oracle.Run1_10kExamples_stratified_ds.2022A.pkl",
     "seed": 154325,
     "torch_default_dtype": "torch.float32",
     "x_net": [
      {
       "class": "nnReshape",
       "kargs": {
        "shape": [
         -1,
         1,
         2,
         256
        ]
       }
      },
      {
       "class": "Conv2d",
       "kargs": {
        "bias": false,
        "in_channels": 1,
        "kernel_size": [
         1,
         7
        ],
        "out_channels": 256,
        "padding": [
         0,
         3
        ]
       }
      },
      {
       "class": "ReLU",
       "kargs": {
        "inplace": true
       }
      },
      {
       "class": "BatchNorm2d",
       "kargs": {
        "num_features": 256
       }
      },
      {
       "class": "Conv2d",
       "kargs": {
        "bias": true,
        "in_channels": 256,
        "kernel_size": [
         2,
         7
        ],
        "out_channels": 80,
        "padding": [
         0,
         3
        ]
       }
      },
      {
       "class": "ReLU",
       "kargs": {
        "inplace": true
       }
      },
      {
       "class": "BatchNorm2d",
       "kargs": {
        "num_features": 80
       }
      },
      {
       "class": "Flatten",
       "kargs": {}
      },
      {
       "class": "Linear",
       "kargs": {
        "in_features": 20480,
        "out_features": 256
       }
      },
      {
       "class": "ReLU",
       "kargs": {
        "inplace": true
       }
      },
      {
       "class": "BatchNorm1d",
       "kargs": {
        "num_features": 256
       }
      },
      {
       "class": "Linear",
       "kargs": {
        "in_features": 256,
        "out_features": 16
       }
      }
     ]
    }
   },
   "start_time": "2022-03-26T07:16:43.820376",
   "version": "2.3.4"
  }
 },
 "nbformat": 4,
 "nbformat_minor": 5
}