{
 "cells": [
  {
   "cell_type": "code",
   "execution_count": 1,
   "id": "2324682e",
   "metadata": {
    "execution": {
     "iopub.execute_input": "2022-03-26T07:32:32.035667Z",
     "iopub.status.busy": "2022-03-26T07:32:32.034778Z",
     "iopub.status.idle": "2022-03-26T07:32:33.385850Z",
     "shell.execute_reply": "2022-03-26T07:32:33.384972Z"
    },
    "papermill": {
     "duration": 1.38893,
     "end_time": "2022-03-26T07:32:33.386048",
     "exception": false,
     "start_time": "2022-03-26T07:32:31.997118",
     "status": "completed"
    },
    "tags": []
   },
   "outputs": [],
   "source": [
    "import os, json, sys, time, random\n",
    "import numpy as np\n",
    "import torch\n",
    "from  easydict import EasyDict\n",
    "from math import floor\n",
    "from easydict import EasyDict\n",
    "\n",
    "from steves_utils.vanilla_train_eval_test_jig import  Vanilla_Train_Eval_Test_Jig\n",
    "\n",
    "from steves_utils.torch_utils import get_dataset_metrics, independent_accuracy_assesment\n",
    "from steves_models.configurable_vanilla import Configurable_Vanilla\n",
    "from steves_utils.torch_sequential_builder import build_sequential\n",
    "from steves_utils.lazy_map import Lazy_Map\n",
    "from steves_utils.sequence_aggregator import Sequence_Aggregator\n",
    "\n",
    "from steves_utils.stratified_dataset.traditional_accessor import Traditional_Accessor_Factory\n",
    "\n",
    "from steves_utils.cnn_do_report import (\n",
    "    get_loss_curve,\n",
    "    get_results_table,\n",
    "    get_parameters_table,\n",
    "    get_domain_accuracies,\n",
    ")\n",
    "\n",
    "from steves_utils.torch_utils import (\n",
    "    confusion_by_domain_over_dataloader,\n",
    "    independent_accuracy_assesment\n",
    ")\n",
    "\n",
    "from steves_utils.utils_v2 import (\n",
    "    per_domain_accuracy_from_confusion,\n",
    "    get_datasets_base_path\n",
    ")\n",
    "\n",
    "# from steves_utils.ptn_do_report import TBD"
   ]
  },
  {
   "cell_type": "code",
   "execution_count": 2,
   "id": "1b29e3fe",
   "metadata": {
    "execution": {
     "iopub.execute_input": "2022-03-26T07:32:33.424569Z",
     "iopub.status.busy": "2022-03-26T07:32:33.424068Z",
     "iopub.status.idle": "2022-03-26T07:32:33.427746Z",
     "shell.execute_reply": "2022-03-26T07:32:33.426844Z"
    },
    "papermill": {
     "duration": 0.022772,
     "end_time": "2022-03-26T07:32:33.427956",
     "exception": false,
     "start_time": "2022-03-26T07:32:33.405184",
     "status": "completed"
    },
    "tags": []
   },
   "outputs": [],
   "source": [
    "required_parameters = {\n",
    "    \"experiment_name\",\n",
    "    \"lr\",\n",
    "    \"device\",\n",
    "    \"dataset_seed\",\n",
    "    \"seed\",\n",
    "    \"labels\",\n",
    "    \"domains_target\",\n",
    "    \"domains_source\",\n",
    "    \"num_examples_per_domain_per_label_source\",\n",
    "    \"num_examples_per_domain_per_label_target\",\n",
    "    \"batch_size\",\n",
    "    \"n_epoch\",\n",
    "    \"patience\",\n",
    "    \"criteria_for_best\",\n",
    "    \"normalize_source\",\n",
    "    \"normalize_target\",\n",
    "    \"x_net\",\n",
    "    \"NUM_LOGS_PER_EPOCH\",\n",
    "    \"BEST_MODEL_PATH\",\n",
    "    \"pickle_name_source\",\n",
    "    \"pickle_name_target\",\n",
    "    \"torch_default_dtype\",\n",
    "}"
   ]
  },
  {
   "cell_type": "code",
   "execution_count": 3,
   "id": "670b5fb8",
   "metadata": {
    "execution": {
     "iopub.execute_input": "2022-03-26T07:32:33.473946Z",
     "iopub.status.busy": "2022-03-26T07:32:33.473043Z",
     "iopub.status.idle": "2022-03-26T07:32:33.480299Z",
     "shell.execute_reply": "2022-03-26T07:32:33.479577Z"
    },
    "papermill": {
     "duration": 0.034256,
     "end_time": "2022-03-26T07:32:33.480459",
     "exception": false,
     "start_time": "2022-03-26T07:32:33.446203",
     "status": "completed"
    },
    "tags": [
     "parameters"
    ]
   },
   "outputs": [],
   "source": [
    "from steves_utils.ORACLE.utils_v2 import (\n",
    "    ALL_SERIAL_NUMBERS,\n",
    "    ALL_DISTANCES_FEET_NARROWED,\n",
    ")\n",
    "\n",
    "standalone_parameters = {}\n",
    "standalone_parameters[\"experiment_name\"] = \"MANUAL CORES CNN\"\n",
    "standalone_parameters[\"lr\"] = 0.0001\n",
    "standalone_parameters[\"device\"] = \"cuda\"\n",
    "\n",
    "standalone_parameters[\"dataset_seed\"] = 1337\n",
    "standalone_parameters[\"seed\"] = 1337\n",
    "standalone_parameters[\"labels\"] = ALL_SERIAL_NUMBERS\n",
    "\n",
    "standalone_parameters[\"domains_source\"] = [8,32,50]\n",
    "standalone_parameters[\"domains_target\"] = [14,20,26,38,44,]\n",
    "\n",
    "standalone_parameters[\"num_examples_per_domain_per_label_source\"]=-1\n",
    "standalone_parameters[\"num_examples_per_domain_per_label_target\"]=-1\n",
    "\n",
    "standalone_parameters[\"pickle_name_source\"] = \"oracle.Run1_framed_2000Examples_stratified_ds.2022A.pkl\"\n",
    "standalone_parameters[\"pickle_name_target\"] = \"oracle.Run2_framed_2000Examples_stratified_ds.2022A.pkl\"\n",
    "\n",
    "standalone_parameters[\"torch_default_dtype\"] = \"torch.float32\" \n",
    "\n",
    "standalone_parameters[\"batch_size\"]=128\n",
    "\n",
    "standalone_parameters[\"n_epoch\"] = 3\n",
    "\n",
    "standalone_parameters[\"patience\"] = 10\n",
    "\n",
    "standalone_parameters[\"criteria_for_best\"] = \"target_accuracy\"\n",
    "standalone_parameters[\"normalize_source\"] = False\n",
    "standalone_parameters[\"normalize_target\"] = False\n",
    "\n",
    "standalone_parameters[\"x_net\"] =     [\n",
    "    {\"class\": \"nnReshape\", \"kargs\": {\"shape\":[-1, 1, 2, 256]}},\n",
    "    {\"class\": \"Conv2d\", \"kargs\": { \"in_channels\":1, \"out_channels\":256, \"kernel_size\":(1,7), \"bias\":False, \"padding\":(0,3), },},\n",
    "    {\"class\": \"ReLU\", \"kargs\": {\"inplace\": True}},\n",
    "    {\"class\": \"BatchNorm2d\", \"kargs\": {\"num_features\":256}},\n",
    "\n",
    "    {\"class\": \"Conv2d\", \"kargs\": { \"in_channels\":256, \"out_channels\":80, \"kernel_size\":(2,7), \"bias\":True, \"padding\":(0,3), },},\n",
    "    {\"class\": \"ReLU\", \"kargs\": {\"inplace\": True}},\n",
    "    {\"class\": \"BatchNorm2d\", \"kargs\": {\"num_features\":80}},\n",
    "    {\"class\": \"Flatten\", \"kargs\": {}},\n",
    "\n",
    "    {\"class\": \"Linear\", \"kargs\": {\"in_features\": 80*256, \"out_features\": 256}}, # 80 units per IQ pair\n",
    "    {\"class\": \"ReLU\", \"kargs\": {\"inplace\": True}},\n",
    "    {\"class\": \"BatchNorm1d\", \"kargs\": {\"num_features\":256}},\n",
    "\n",
    "    {\"class\": \"Linear\", \"kargs\": {\"in_features\": 256, \"out_features\": len(standalone_parameters[\"labels\"])}},\n",
    "]\n",
    "\n",
    "standalone_parameters[\"NUM_LOGS_PER_EPOCH\"] = 10\n",
    "standalone_parameters[\"BEST_MODEL_PATH\"] = \"./best_model.pth\""
   ]
  },
  {
   "cell_type": "code",
   "execution_count": 4,
   "id": "169b0ee4",
   "metadata": {
    "execution": {
     "iopub.execute_input": "2022-03-26T07:32:33.531027Z",
     "iopub.status.busy": "2022-03-26T07:32:33.530139Z",
     "iopub.status.idle": "2022-03-26T07:32:33.532958Z",
     "shell.execute_reply": "2022-03-26T07:32:33.532246Z"
    },
    "papermill": {
     "duration": 0.030897,
     "end_time": "2022-03-26T07:32:33.533110",
     "exception": false,
     "start_time": "2022-03-26T07:32:33.502213",
     "status": "completed"
    },
    "tags": [
     "injected-parameters"
    ]
   },
   "outputs": [],
   "source": [
    "# Parameters\n",
    "parameters = {\n",
    "    \"experiment_name\": \"cnn_2:oracle.run1_limited\",\n",
    "    \"labels\": [\n",
    "        \"3123D52\",\n",
    "        \"3123D65\",\n",
    "        \"3123D79\",\n",
    "        \"3123D80\",\n",
    "        \"3123D54\",\n",
    "        \"3123D70\",\n",
    "        \"3123D7B\",\n",
    "        \"3123D89\",\n",
    "        \"3123D58\",\n",
    "        \"3123D76\",\n",
    "        \"3123D7D\",\n",
    "        \"3123EFE\",\n",
    "        \"3123D64\",\n",
    "        \"3123D78\",\n",
    "        \"3123D7E\",\n",
    "        \"3124E4A\",\n",
    "    ],\n",
    "    \"domains_source\": [8, 32, 50, 14, 20, 26, 38, 44],\n",
    "    \"domains_target\": [8, 32, 50, 14, 20, 26, 38, 44],\n",
    "    \"pickle_name_source\": \"oracle.Run1_10kExamples_stratified_ds.2022A.pkl\",\n",
    "    \"pickle_name_target\": \"oracle.Run1_10kExamples_stratified_ds.2022A.pkl\",\n",
    "    \"device\": \"cuda\",\n",
    "    \"lr\": 0.0001,\n",
    "    \"batch_size\": 128,\n",
    "    \"normalize_source\": False,\n",
    "    \"normalize_target\": False,\n",
    "    \"num_examples_per_domain_per_label_source\": 2000,\n",
    "    \"num_examples_per_domain_per_label_target\": 2000,\n",
    "    \"torch_default_dtype\": \"torch.float32\",\n",
    "    \"n_epoch\": 50,\n",
    "    \"patience\": 3,\n",
    "    \"criteria_for_best\": \"target_accuracy\",\n",
    "    \"x_net\": [\n",
    "        {\"class\": \"nnReshape\", \"kargs\": {\"shape\": [-1, 1, 2, 256]}},\n",
    "        {\n",
    "            \"class\": \"Conv2d\",\n",
    "            \"kargs\": {\n",
    "                \"in_channels\": 1,\n",
    "                \"out_channels\": 256,\n",
    "                \"kernel_size\": [1, 7],\n",
    "                \"bias\": False,\n",
    "                \"padding\": [0, 3],\n",
    "            },\n",
    "        },\n",
    "        {\"class\": \"ReLU\", \"kargs\": {\"inplace\": True}},\n",
    "        {\"class\": \"BatchNorm2d\", \"kargs\": {\"num_features\": 256}},\n",
    "        {\n",
    "            \"class\": \"Conv2d\",\n",
    "            \"kargs\": {\n",
    "                \"in_channels\": 256,\n",
    "                \"out_channels\": 80,\n",
    "                \"kernel_size\": [2, 7],\n",
    "                \"bias\": True,\n",
    "                \"padding\": [0, 3],\n",
    "            },\n",
    "        },\n",
    "        {\"class\": \"ReLU\", \"kargs\": {\"inplace\": True}},\n",
    "        {\"class\": \"BatchNorm2d\", \"kargs\": {\"num_features\": 80}},\n",
    "        {\"class\": \"Flatten\", \"kargs\": {}},\n",
    "        {\"class\": \"Linear\", \"kargs\": {\"in_features\": 20480, \"out_features\": 256}},\n",
    "        {\"class\": \"ReLU\", \"kargs\": {\"inplace\": True}},\n",
    "        {\"class\": \"BatchNorm1d\", \"kargs\": {\"num_features\": 256}},\n",
    "        {\"class\": \"Linear\", \"kargs\": {\"in_features\": 256, \"out_features\": 16}},\n",
    "    ],\n",
    "    \"NUM_LOGS_PER_EPOCH\": 10,\n",
    "    \"BEST_MODEL_PATH\": \"./best_model.pth\",\n",
    "    \"dataset_seed\": 7,\n",
    "    \"seed\": 7,\n",
    "}\n"
   ]
  },
  {
   "cell_type": "code",
   "execution_count": 5,
   "id": "759b56ec",
   "metadata": {
    "execution": {
     "iopub.execute_input": "2022-03-26T07:32:33.576553Z",
     "iopub.status.busy": "2022-03-26T07:32:33.575994Z",
     "iopub.status.idle": "2022-03-26T07:32:33.578736Z",
     "shell.execute_reply": "2022-03-26T07:32:33.578186Z"
    },
    "papermill": {
     "duration": 0.024353,
     "end_time": "2022-03-26T07:32:33.578852",
     "exception": false,
     "start_time": "2022-03-26T07:32:33.554499",
     "status": "completed"
    },
    "tags": []
   },
   "outputs": [],
   "source": [
    "# Set this to True if you want to run this template directly\n",
    "STANDALONE = False\n",
    "if STANDALONE:\n",
    "    print(\"parameters not injected, running with standalone_parameters\")\n",
    "    parameters = standalone_parameters\n",
    "\n",
    "if not 'parameters' in locals() and not 'parameters' in globals():\n",
    "    raise Exception(\"Parameter injection failed\")\n",
    "\n",
    "#Use an easy dict for all the parameters\n",
    "p = EasyDict(parameters)\n",
    "\n",
    "supplied_keys = set(p.keys())\n",
    "\n",
    "if  supplied_keys != required_parameters:\n",
    "    print(\"Parameters are incorrect\")\n",
    "    if len(supplied_keys - required_parameters)>0: print(\"Shouldn't have:\", str(supplied_keys - required_parameters))\n",
    "    if len(required_parameters - supplied_keys)>0: print(\"Need to have:\", str(required_parameters - supplied_keys))\n",
    "    raise RuntimeError(\"Parameters are incorrect\")\n",
    "\n"
   ]
  },
  {
   "cell_type": "code",
   "execution_count": 6,
   "id": "d5c66a71",
   "metadata": {
    "execution": {
     "iopub.execute_input": "2022-03-26T07:32:33.614224Z",
     "iopub.status.busy": "2022-03-26T07:32:33.613674Z",
     "iopub.status.idle": "2022-03-26T07:32:33.617460Z",
     "shell.execute_reply": "2022-03-26T07:32:33.616982Z"
    },
    "papermill": {
     "duration": 0.020836,
     "end_time": "2022-03-26T07:32:33.617564",
     "exception": false,
     "start_time": "2022-03-26T07:32:33.596728",
     "status": "completed"
    },
    "tags": []
   },
   "outputs": [],
   "source": [
    "###################################\n",
    "# Set the RNGs and make it all deterministic\n",
    "###################################\n",
    "np.random.seed(p.seed)\n",
    "random.seed(p.seed)\n",
    "torch.manual_seed(p.seed)\n",
    "\n",
    "torch.use_deterministic_algorithms(True) "
   ]
  },
  {
   "cell_type": "code",
   "execution_count": 7,
   "id": "92a65876",
   "metadata": {
    "execution": {
     "iopub.execute_input": "2022-03-26T07:32:33.654024Z",
     "iopub.status.busy": "2022-03-26T07:32:33.653481Z",
     "iopub.status.idle": "2022-03-26T07:32:33.655849Z",
     "shell.execute_reply": "2022-03-26T07:32:33.656300Z"
    },
    "papermill": {
     "duration": 0.020492,
     "end_time": "2022-03-26T07:32:33.656422",
     "exception": false,
     "start_time": "2022-03-26T07:32:33.635930",
     "status": "completed"
    },
    "tags": []
   },
   "outputs": [],
   "source": [
    "torch.set_default_dtype(eval(p.torch_default_dtype))"
   ]
  },
  {
   "cell_type": "code",
   "execution_count": 8,
   "id": "f1a32f01",
   "metadata": {
    "execution": {
     "iopub.execute_input": "2022-03-26T07:32:33.693912Z",
     "iopub.status.busy": "2022-03-26T07:32:33.693405Z",
     "iopub.status.idle": "2022-03-26T07:32:33.732831Z",
     "shell.execute_reply": "2022-03-26T07:32:33.732025Z"
    },
    "papermill": {
     "duration": 0.056168,
     "end_time": "2022-03-26T07:32:33.732984",
     "exception": false,
     "start_time": "2022-03-26T07:32:33.676816",
     "status": "completed"
    },
    "tags": []
   },
   "outputs": [],
   "source": [
    "###################################\n",
    "# Build the network(s)\n",
    "# Note: It's critical to do this AFTER setting the RNG\n",
    "###################################\n",
    "x_net = build_sequential(p.x_net)"
   ]
  },
  {
   "cell_type": "code",
   "execution_count": 9,
   "id": "a276cd83",
   "metadata": {
    "execution": {
     "iopub.execute_input": "2022-03-26T07:32:33.767558Z",
     "iopub.status.busy": "2022-03-26T07:32:33.767181Z",
     "iopub.status.idle": "2022-03-26T07:32:33.770100Z",
     "shell.execute_reply": "2022-03-26T07:32:33.769623Z"
    },
    "papermill": {
     "duration": 0.019844,
     "end_time": "2022-03-26T07:32:33.770204",
     "exception": false,
     "start_time": "2022-03-26T07:32:33.750360",
     "status": "completed"
    },
    "tags": []
   },
   "outputs": [],
   "source": [
    "start_time_secs = time.time()"
   ]
  },
  {
   "cell_type": "code",
   "execution_count": 10,
   "id": "de702e48",
   "metadata": {
    "execution": {
     "iopub.execute_input": "2022-03-26T07:32:33.815121Z",
     "iopub.status.busy": "2022-03-26T07:32:33.803117Z",
     "iopub.status.idle": "2022-03-26T07:32:46.687513Z",
     "shell.execute_reply": "2022-03-26T07:32:46.686697Z"
    },
    "papermill": {
     "duration": 12.900434,
     "end_time": "2022-03-26T07:32:46.687733",
     "exception": false,
     "start_time": "2022-03-26T07:32:33.787299",
     "status": "completed"
    },
    "tags": []
   },
   "outputs": [],
   "source": [
    "def wrap_in_dataloader(p, ds):\n",
    "    return torch.utils.data.DataLoader(\n",
    "        ds,\n",
    "        batch_size=p.batch_size,\n",
    "        shuffle=True,\n",
    "        num_workers=1,\n",
    "        persistent_workers=True,\n",
    "        prefetch_factor=50,\n",
    "        pin_memory=True\n",
    "    )\n",
    "\n",
    "taf_source = Traditional_Accessor_Factory(\n",
    "    labels=p.labels,\n",
    "    domains=p.domains_source,\n",
    "    num_examples_per_domain_per_label=p.num_examples_per_domain_per_label_source,\n",
    "    pickle_path=os.path.join(get_datasets_base_path(), p.pickle_name_source),\n",
    "    seed=p.dataset_seed\n",
    ")\n",
    "train_original_source, val_original_source, test_original_source = \\\n",
    "    taf_source.get_train(), taf_source.get_val(), taf_source.get_test()\n",
    "\n",
    "\n",
    "taf_target = Traditional_Accessor_Factory(\n",
    "    labels=p.labels,\n",
    "    domains=p.domains_target,\n",
    "    num_examples_per_domain_per_label=p.num_examples_per_domain_per_label_source,\n",
    "    pickle_path=os.path.join(get_datasets_base_path(), p.pickle_name_target),\n",
    "    seed=p.dataset_seed\n",
    ")\n",
    "train_original_target, val_original_target, test_original_target = \\\n",
    "    taf_target.get_train(), taf_target.get_val(), taf_target.get_test()\n",
    "\n",
    "\n",
    "# For CNN We only use X and Y. And we only train on the source.\n",
    "# Properly form the data using a transform lambda and Lazy_Map. Finally wrap them in a dataloader\n",
    "\n",
    "transform_lambda = lambda ex: ex[:2] # Strip the tuple to just (x,y)\n",
    "\n",
    "\n",
    "train_processed_source = wrap_in_dataloader(\n",
    "    p,\n",
    "    Lazy_Map(train_original_source, transform_lambda)\n",
    ")\n",
    "val_processed_source = wrap_in_dataloader(\n",
    "    p,\n",
    "    Lazy_Map(val_original_source, transform_lambda)\n",
    ")\n",
    "test_processed_source = wrap_in_dataloader(\n",
    "    p,\n",
    "    Lazy_Map(test_original_source, transform_lambda)\n",
    ")\n",
    "\n",
    "train_processed_target = wrap_in_dataloader(\n",
    "    p,\n",
    "    Lazy_Map(train_original_target, transform_lambda)\n",
    ")\n",
    "val_processed_target = wrap_in_dataloader(\n",
    "    p,\n",
    "    Lazy_Map(val_original_target, transform_lambda)\n",
    ")\n",
    "test_processed_target  = wrap_in_dataloader(\n",
    "    p,\n",
    "    Lazy_Map(test_original_target, transform_lambda)\n",
    ")\n",
    "\n",
    "\n",
    "\n",
    "datasets = EasyDict({\n",
    "    \"source\": {\n",
    "        \"original\": {\"train\":train_original_source, \"val\":val_original_source, \"test\":test_original_source},\n",
    "        \"processed\": {\"train\":train_processed_source, \"val\":val_processed_source, \"test\":test_processed_source}\n",
    "    },\n",
    "    \"target\": {\n",
    "        \"original\": {\"train\":train_original_target, \"val\":val_original_target, \"test\":test_original_target},\n",
    "        \"processed\": {\"train\":train_processed_target, \"val\":val_processed_target, \"test\":test_processed_target}\n",
    "    },\n",
    "})"
   ]
  },
  {
   "cell_type": "code",
   "execution_count": 11,
   "id": "a11b26bd",
   "metadata": {
    "execution": {
     "iopub.execute_input": "2022-03-26T07:32:46.765937Z",
     "iopub.status.busy": "2022-03-26T07:32:46.765061Z",
     "iopub.status.idle": "2022-03-26T07:32:52.174609Z",
     "shell.execute_reply": "2022-03-26T07:32:52.173765Z"
    },
    "papermill": {
     "duration": 5.466867,
     "end_time": "2022-03-26T07:32:52.174780",
     "exception": false,
     "start_time": "2022-03-26T07:32:46.707913",
     "status": "completed"
    },
    "tags": []
   },
   "outputs": [
    {
     "data": {
      "text/plain": [
       "torch.float32"
      ]
     },
     "execution_count": 11,
     "metadata": {},
     "output_type": "execute_result"
    }
   ],
   "source": [
    "ep = next(iter(test_processed_target))\n",
    "ep[0].dtype"
   ]
  },
  {
   "cell_type": "code",
   "execution_count": 12,
   "id": "19425fad",
   "metadata": {
    "execution": {
     "iopub.execute_input": "2022-03-26T07:32:52.215250Z",
     "iopub.status.busy": "2022-03-26T07:32:52.214608Z",
     "iopub.status.idle": "2022-03-26T07:32:52.260091Z",
     "shell.execute_reply": "2022-03-26T07:32:52.259341Z"
    },
    "papermill": {
     "duration": 0.067175,
     "end_time": "2022-03-26T07:32:52.260264",
     "exception": false,
     "start_time": "2022-03-26T07:32:52.193089",
     "status": "completed"
    },
    "tags": []
   },
   "outputs": [],
   "source": [
    "model = Configurable_Vanilla(\n",
    "    x_net=x_net,\n",
    "    label_loss_object=torch.nn.NLLLoss(),\n",
    "    learning_rate=p.lr\n",
    ")"
   ]
  },
  {
   "cell_type": "code",
   "execution_count": 13,
   "id": "7f6d4f2c",
   "metadata": {
    "execution": {
     "iopub.execute_input": "2022-03-26T07:32:52.302304Z",
     "iopub.status.busy": "2022-03-26T07:32:52.301667Z",
     "iopub.status.idle": "2022-03-26T07:36:17.753873Z",
     "shell.execute_reply": "2022-03-26T07:36:17.753042Z"
    },
    "papermill": {
     "duration": 205.474109,
     "end_time": "2022-03-26T07:36:17.754055",
     "exception": false,
     "start_time": "2022-03-26T07:32:52.279946",
     "status": "completed"
    },
    "tags": []
   },
   "outputs": [
    {
     "name": "stdout",
     "output_type": "stream",
     "text": [
      "epoch: 1, [batch: 1 / 1400], examples_per_second: 640.0781, train_label_loss: 2.7887, \n"
     ]
    },
    {
     "name": "stdout",
     "output_type": "stream",
     "text": [
      "epoch: 1, [batch: 140 / 1400], examples_per_second: 11510.3223, train_label_loss: 2.7257, \n"
     ]
    },
    {
     "name": "stdout",
     "output_type": "stream",
     "text": [
      "epoch: 1, [batch: 280 / 1400], examples_per_second: 11664.7781, train_label_loss: 2.6534, \n"
     ]
    },
    {
     "name": "stdout",
     "output_type": "stream",
     "text": [
      "epoch: 1, [batch: 420 / 1400], examples_per_second: 11739.6158, train_label_loss: 2.6436, \n"
     ]
    },
    {
     "name": "stdout",
     "output_type": "stream",
     "text": [
      "epoch: 1, [batch: 560 / 1400], examples_per_second: 11706.7706, train_label_loss: 2.6112, \n"
     ]
    },
    {
     "name": "stdout",
     "output_type": "stream",
     "text": [
      "epoch: 1, [batch: 700 / 1400], examples_per_second: 11593.1894, train_label_loss: 2.5288, \n"
     ]
    },
    {
     "name": "stdout",
     "output_type": "stream",
     "text": [
      "epoch: 1, [batch: 840 / 1400], examples_per_second: 11702.7369, train_label_loss: 2.5586, \n"
     ]
    },
    {
     "name": "stdout",
     "output_type": "stream",
     "text": [
      "epoch: 1, [batch: 980 / 1400], examples_per_second: 11643.2534, train_label_loss: 2.6283, \n"
     ]
    },
    {
     "name": "stdout",
     "output_type": "stream",
     "text": [
      "epoch: 1, [batch: 1120 / 1400], examples_per_second: 11630.9781, train_label_loss: 2.5488, \n"
     ]
    },
    {
     "name": "stdout",
     "output_type": "stream",
     "text": [
      "epoch: 1, [batch: 1260 / 1400], examples_per_second: 11698.3909, train_label_loss: 2.5093, \n"
     ]
    },
    {
     "name": "stdout",
     "output_type": "stream",
     "text": [
      "=============================================================\n",
      "epoch: 1, source_val_acc_label: 0.1982, source_val_label_loss: 2.4690, target_val_acc_label: 0.1982, target_val_label_loss: 2.4690, \n",
      "=============================================================\n"
     ]
    },
    {
     "name": "stdout",
     "output_type": "stream",
     "text": [
      "New best\n",
      "epoch: 2, [batch: 1 / 1400], examples_per_second: 54.3479, train_label_loss: 2.4459, \n"
     ]
    },
    {
     "name": "stdout",
     "output_type": "stream",
     "text": [
      "epoch: 2, [batch: 140 / 1400], examples_per_second: 11611.7207, train_label_loss: 2.4585, \n"
     ]
    },
    {
     "name": "stdout",
     "output_type": "stream",
     "text": [
      "epoch: 2, [batch: 280 / 1400], examples_per_second: 11598.2467, train_label_loss: 2.4023, \n"
     ]
    },
    {
     "name": "stdout",
     "output_type": "stream",
     "text": [
      "epoch: 2, [batch: 420 / 1400], examples_per_second: 11668.7368, train_label_loss: 2.3705, \n"
     ]
    },
    {
     "name": "stdout",
     "output_type": "stream",
     "text": [
      "epoch: 2, [batch: 560 / 1400], examples_per_second: 11754.1506, train_label_loss: 2.2967, \n"
     ]
    },
    {
     "name": "stdout",
     "output_type": "stream",
     "text": [
      "epoch: 2, [batch: 700 / 1400], examples_per_second: 11761.1619, train_label_loss: 2.2791, \n"
     ]
    },
    {
     "name": "stdout",
     "output_type": "stream",
     "text": [
      "epoch: 2, [batch: 840 / 1400], examples_per_second: 11633.7415, train_label_loss: 2.2771, \n"
     ]
    },
    {
     "name": "stdout",
     "output_type": "stream",
     "text": [
      "epoch: 2, [batch: 980 / 1400], examples_per_second: 11752.1179, train_label_loss: 2.2616, \n"
     ]
    },
    {
     "name": "stdout",
     "output_type": "stream",
     "text": [
      "epoch: 2, [batch: 1120 / 1400], examples_per_second: 11585.6679, train_label_loss: 2.1099, \n"
     ]
    },
    {
     "name": "stdout",
     "output_type": "stream",
     "text": [
      "epoch: 2, [batch: 1260 / 1400], examples_per_second: 11707.3906, train_label_loss: 2.1866, \n"
     ]
    },
    {
     "name": "stdout",
     "output_type": "stream",
     "text": [
      "=============================================================\n",
      "epoch: 2, source_val_acc_label: 0.3128, source_val_label_loss: 2.0780, target_val_acc_label: 0.3128, target_val_label_loss: 2.0780, \n",
      "=============================================================\n"
     ]
    },
    {
     "name": "stdout",
     "output_type": "stream",
     "text": [
      "New best\n",
      "epoch: 3, [batch: 1 / 1400], examples_per_second: 63.6530, train_label_loss: 2.0084, \n"
     ]
    },
    {
     "name": "stdout",
     "output_type": "stream",
     "text": [
      "epoch: 3, [batch: 140 / 1400], examples_per_second: 11645.7571, train_label_loss: 1.9372, \n"
     ]
    },
    {
     "name": "stdout",
     "output_type": "stream",
     "text": [
      "epoch: 3, [batch: 280 / 1400], examples_per_second: 11699.5399, train_label_loss: 2.0561, \n"
     ]
    },
    {
     "name": "stdout",
     "output_type": "stream",
     "text": [
      "epoch: 3, [batch: 420 / 1400], examples_per_second: 11689.5741, train_label_loss: 1.8430, \n"
     ]
    },
    {
     "name": "stdout",
     "output_type": "stream",
     "text": [
      "epoch: 3, [batch: 560 / 1400], examples_per_second: 11767.4316, train_label_loss: 1.7889, \n"
     ]
    },
    {
     "name": "stdout",
     "output_type": "stream",
     "text": [
      "epoch: 3, [batch: 700 / 1400], examples_per_second: 11713.6013, train_label_loss: 1.8639, \n"
     ]
    },
    {
     "name": "stdout",
     "output_type": "stream",
     "text": [
      "epoch: 3, [batch: 840 / 1400], examples_per_second: 11713.5283, train_label_loss: 1.7022, \n"
     ]
    },
    {
     "name": "stdout",
     "output_type": "stream",
     "text": [
      "epoch: 3, [batch: 980 / 1400], examples_per_second: 11641.8251, train_label_loss: 1.7356, \n"
     ]
    },
    {
     "name": "stdout",
     "output_type": "stream",
     "text": [
      "epoch: 3, [batch: 1120 / 1400], examples_per_second: 11685.2252, train_label_loss: 1.7407, \n"
     ]
    },
    {
     "name": "stdout",
     "output_type": "stream",
     "text": [
      "epoch: 3, [batch: 1260 / 1400], examples_per_second: 11842.8334, train_label_loss: 1.6974, \n"
     ]
    },
    {
     "name": "stdout",
     "output_type": "stream",
     "text": [
      "=============================================================\n",
      "epoch: 3, source_val_acc_label: 0.4337, source_val_label_loss: 1.6681, target_val_acc_label: 0.4337, target_val_label_loss: 1.6681, \n",
      "=============================================================\n"
     ]
    },
    {
     "name": "stdout",
     "output_type": "stream",
     "text": [
      "New best\n",
      "epoch: 4, [batch: 1 / 1400], examples_per_second: 64.3151, train_label_loss: 1.4646, \n"
     ]
    },
    {
     "name": "stdout",
     "output_type": "stream",
     "text": [
      "epoch: 4, [batch: 140 / 1400], examples_per_second: 11561.9643, train_label_loss: 1.5737, \n"
     ]
    },
    {
     "name": "stdout",
     "output_type": "stream",
     "text": [
      "epoch: 4, [batch: 280 / 1400], examples_per_second: 11763.9985, train_label_loss: 1.5865, \n"
     ]
    },
    {
     "name": "stdout",
     "output_type": "stream",
     "text": [
      "epoch: 4, [batch: 420 / 1400], examples_per_second: 11640.1159, train_label_loss: 1.3984, \n"
     ]
    },
    {
     "name": "stdout",
     "output_type": "stream",
     "text": [
      "epoch: 4, [batch: 560 / 1400], examples_per_second: 11797.3587, train_label_loss: 1.3229, \n"
     ]
    },
    {
     "name": "stdout",
     "output_type": "stream",
     "text": [
      "epoch: 4, [batch: 700 / 1400], examples_per_second: 11679.4855, train_label_loss: 1.6752, \n"
     ]
    },
    {
     "name": "stdout",
     "output_type": "stream",
     "text": [
      "epoch: 4, [batch: 840 / 1400], examples_per_second: 11645.2413, train_label_loss: 1.4932, \n"
     ]
    },
    {
     "name": "stdout",
     "output_type": "stream",
     "text": [
      "epoch: 4, [batch: 980 / 1400], examples_per_second: 11702.4089, train_label_loss: 1.3471, \n"
     ]
    },
    {
     "name": "stdout",
     "output_type": "stream",
     "text": [
      "epoch: 4, [batch: 1120 / 1400], examples_per_second: 11674.4732, train_label_loss: 1.4540, \n"
     ]
    },
    {
     "name": "stdout",
     "output_type": "stream",
     "text": [
      "epoch: 4, [batch: 1260 / 1400], examples_per_second: 11558.2487, train_label_loss: 1.5827, \n"
     ]
    },
    {
     "name": "stdout",
     "output_type": "stream",
     "text": [
      "=============================================================\n",
      "epoch: 4, source_val_acc_label: 0.4616, source_val_label_loss: 1.5316, target_val_acc_label: 0.4616, target_val_label_loss: 1.5316, \n",
      "=============================================================\n"
     ]
    },
    {
     "name": "stdout",
     "output_type": "stream",
     "text": [
      "New best\n",
      "epoch: 5, [batch: 1 / 1400], examples_per_second: 63.6532, train_label_loss: 1.3417, \n"
     ]
    },
    {
     "name": "stdout",
     "output_type": "stream",
     "text": [
      "epoch: 5, [batch: 140 / 1400], examples_per_second: 11752.1644, train_label_loss: 1.1941, \n"
     ]
    },
    {
     "name": "stdout",
     "output_type": "stream",
     "text": [
      "epoch: 5, [batch: 280 / 1400], examples_per_second: 11760.7073, train_label_loss: 1.1795, \n"
     ]
    },
    {
     "name": "stdout",
     "output_type": "stream",
     "text": [
      "epoch: 5, [batch: 420 / 1400], examples_per_second: 11778.2209, train_label_loss: 1.1425, \n"
     ]
    },
    {
     "name": "stdout",
     "output_type": "stream",
     "text": [
      "epoch: 5, [batch: 560 / 1400], examples_per_second: 11740.7931, train_label_loss: 0.9964, \n"
     ]
    },
    {
     "name": "stdout",
     "output_type": "stream",
     "text": [
      "epoch: 5, [batch: 700 / 1400], examples_per_second: 11729.9167, train_label_loss: 1.3208, \n"
     ]
    },
    {
     "name": "stdout",
     "output_type": "stream",
     "text": [
      "epoch: 5, [batch: 840 / 1400], examples_per_second: 11745.8865, train_label_loss: 1.0553, \n"
     ]
    },
    {
     "name": "stdout",
     "output_type": "stream",
     "text": [
      "epoch: 5, [batch: 980 / 1400], examples_per_second: 11768.8172, train_label_loss: 1.0475, \n"
     ]
    },
    {
     "name": "stdout",
     "output_type": "stream",
     "text": [
      "epoch: 5, [batch: 1120 / 1400], examples_per_second: 11766.8771, train_label_loss: 1.1677, \n"
     ]
    },
    {
     "name": "stdout",
     "output_type": "stream",
     "text": [
      "epoch: 5, [batch: 1260 / 1400], examples_per_second: 11757.9954, train_label_loss: 1.0602, \n"
     ]
    },
    {
     "name": "stdout",
     "output_type": "stream",
     "text": [
      "=============================================================\n",
      "epoch: 5, source_val_acc_label: 0.4877, source_val_label_loss: 1.4519, target_val_acc_label: 0.4877, target_val_label_loss: 1.4519, \n",
      "=============================================================\n"
     ]
    },
    {
     "name": "stdout",
     "output_type": "stream",
     "text": [
      "New best\n",
      "epoch: 6, [batch: 1 / 1400], examples_per_second: 67.1581, train_label_loss: 0.8290, \n"
     ]
    },
    {
     "name": "stdout",
     "output_type": "stream",
     "text": [
      "epoch: 6, [batch: 140 / 1400], examples_per_second: 12284.6273, train_label_loss: 0.7786, \n"
     ]
    },
    {
     "name": "stdout",
     "output_type": "stream",
     "text": [
      "epoch: 6, [batch: 280 / 1400], examples_per_second: 12435.9094, train_label_loss: 1.0017, \n"
     ]
    },
    {
     "name": "stdout",
     "output_type": "stream",
     "text": [
      "epoch: 6, [batch: 420 / 1400], examples_per_second: 12501.8467, train_label_loss: 0.9107, \n"
     ]
    },
    {
     "name": "stdout",
     "output_type": "stream",
     "text": [
      "epoch: 6, [batch: 560 / 1400], examples_per_second: 12539.5714, train_label_loss: 0.8942, \n"
     ]
    },
    {
     "name": "stdout",
     "output_type": "stream",
     "text": [
      "epoch: 6, [batch: 700 / 1400], examples_per_second: 12470.4987, train_label_loss: 0.9231, \n"
     ]
    },
    {
     "name": "stdout",
     "output_type": "stream",
     "text": [
      "epoch: 6, [batch: 840 / 1400], examples_per_second: 12533.1877, train_label_loss: 0.9216, \n"
     ]
    },
    {
     "name": "stdout",
     "output_type": "stream",
     "text": [
      "epoch: 6, [batch: 980 / 1400], examples_per_second: 12465.8368, train_label_loss: 0.7967, \n"
     ]
    },
    {
     "name": "stdout",
     "output_type": "stream",
     "text": [
      "epoch: 6, [batch: 1120 / 1400], examples_per_second: 10916.4829, train_label_loss: 1.2708, \n"
     ]
    },
    {
     "name": "stdout",
     "output_type": "stream",
     "text": [
      "epoch: 6, [batch: 1260 / 1400], examples_per_second: 10714.5320, train_label_loss: 0.8666, \n"
     ]
    },
    {
     "name": "stdout",
     "output_type": "stream",
     "text": [
      "=============================================================\n",
      "epoch: 6, source_val_acc_label: 0.4872, source_val_label_loss: 1.4620, target_val_acc_label: 0.4872, target_val_label_loss: 1.4620, \n",
      "=============================================================\n"
     ]
    },
    {
     "name": "stdout",
     "output_type": "stream",
     "text": [
      "epoch: 7, [batch: 1 / 1400], examples_per_second: 57.4256, train_label_loss: 0.5973, \n"
     ]
    },
    {
     "name": "stdout",
     "output_type": "stream",
     "text": [
      "epoch: 7, [batch: 140 / 1400], examples_per_second: 10746.8631, train_label_loss: 0.7432, \n"
     ]
    },
    {
     "name": "stdout",
     "output_type": "stream",
     "text": [
      "epoch: 7, [batch: 280 / 1400], examples_per_second: 10672.7869, train_label_loss: 0.6330, \n"
     ]
    },
    {
     "name": "stdout",
     "output_type": "stream",
     "text": [
      "epoch: 7, [batch: 420 / 1400], examples_per_second: 10717.4073, train_label_loss: 0.6190, \n"
     ]
    },
    {
     "name": "stdout",
     "output_type": "stream",
     "text": [
      "epoch: 7, [batch: 560 / 1400], examples_per_second: 10751.3120, train_label_loss: 0.6267, \n"
     ]
    },
    {
     "name": "stdout",
     "output_type": "stream",
     "text": [
      "epoch: 7, [batch: 700 / 1400], examples_per_second: 10788.1813, train_label_loss: 0.6615, \n"
     ]
    },
    {
     "name": "stdout",
     "output_type": "stream",
     "text": [
      "epoch: 7, [batch: 840 / 1400], examples_per_second: 10702.1379, train_label_loss: 0.6594, \n"
     ]
    },
    {
     "name": "stdout",
     "output_type": "stream",
     "text": [
      "epoch: 7, [batch: 980 / 1400], examples_per_second: 10716.2063, train_label_loss: 0.9229, \n"
     ]
    },
    {
     "name": "stdout",
     "output_type": "stream",
     "text": [
      "epoch: 7, [batch: 1120 / 1400], examples_per_second: 10887.7706, train_label_loss: 0.7678, \n"
     ]
    },
    {
     "name": "stdout",
     "output_type": "stream",
     "text": [
      "epoch: 7, [batch: 1260 / 1400], examples_per_second: 10723.7975, train_label_loss: 0.8453, \n"
     ]
    },
    {
     "name": "stdout",
     "output_type": "stream",
     "text": [
      "=============================================================\n",
      "epoch: 7, source_val_acc_label: 0.4882, source_val_label_loss: 1.4876, target_val_acc_label: 0.4882, target_val_label_loss: 1.4876, \n",
      "=============================================================\n"
     ]
    },
    {
     "name": "stdout",
     "output_type": "stream",
     "text": [
      "New best\n",
      "epoch: 8, [batch: 1 / 1400], examples_per_second: 56.6819, train_label_loss: 0.5264, \n"
     ]
    },
    {
     "name": "stdout",
     "output_type": "stream",
     "text": [
      "epoch: 8, [batch: 140 / 1400], examples_per_second: 10600.5281, train_label_loss: 0.4245, \n"
     ]
    },
    {
     "name": "stdout",
     "output_type": "stream",
     "text": [
      "epoch: 8, [batch: 280 / 1400], examples_per_second: 10729.8261, train_label_loss: 0.4878, \n"
     ]
    },
    {
     "name": "stdout",
     "output_type": "stream",
     "text": [
      "epoch: 8, [batch: 420 / 1400], examples_per_second: 10699.0651, train_label_loss: 0.4570, \n"
     ]
    },
    {
     "name": "stdout",
     "output_type": "stream",
     "text": [
      "epoch: 8, [batch: 560 / 1400], examples_per_second: 10714.9780, train_label_loss: 0.4638, \n"
     ]
    },
    {
     "name": "stdout",
     "output_type": "stream",
     "text": [
      "epoch: 8, [batch: 700 / 1400], examples_per_second: 10706.1913, train_label_loss: 0.8719, \n"
     ]
    },
    {
     "name": "stdout",
     "output_type": "stream",
     "text": [
      "epoch: 8, [batch: 840 / 1400], examples_per_second: 10664.8803, train_label_loss: 0.5153, \n"
     ]
    },
    {
     "name": "stdout",
     "output_type": "stream",
     "text": [
      "epoch: 8, [batch: 980 / 1400], examples_per_second: 10674.4239, train_label_loss: 0.4951, \n"
     ]
    },
    {
     "name": "stdout",
     "output_type": "stream",
     "text": [
      "epoch: 8, [batch: 1120 / 1400], examples_per_second: 10700.5746, train_label_loss: 0.5326, \n"
     ]
    },
    {
     "name": "stdout",
     "output_type": "stream",
     "text": [
      "epoch: 8, [batch: 1260 / 1400], examples_per_second: 10686.9241, train_label_loss: 0.5054, \n"
     ]
    },
    {
     "name": "stdout",
     "output_type": "stream",
     "text": [
      "=============================================================\n",
      "epoch: 8, source_val_acc_label: 0.4841, source_val_label_loss: 1.6052, target_val_acc_label: 0.4841, target_val_label_loss: 1.6052, \n",
      "=============================================================\n"
     ]
    },
    {
     "name": "stdout",
     "output_type": "stream",
     "text": [
      "epoch: 9, [batch: 1 / 1400], examples_per_second: 56.7255, train_label_loss: 0.4175, \n"
     ]
    },
    {
     "name": "stdout",
     "output_type": "stream",
     "text": [
      "epoch: 9, [batch: 140 / 1400], examples_per_second: 10742.9922, train_label_loss: 0.4648, \n"
     ]
    },
    {
     "name": "stdout",
     "output_type": "stream",
     "text": [
      "epoch: 9, [batch: 280 / 1400], examples_per_second: 10691.8161, train_label_loss: 0.3355, \n"
     ]
    },
    {
     "name": "stdout",
     "output_type": "stream",
     "text": [
      "epoch: 9, [batch: 420 / 1400], examples_per_second: 10637.8329, train_label_loss: 0.4682, \n"
     ]
    },
    {
     "name": "stdout",
     "output_type": "stream",
     "text": [
      "epoch: 9, [batch: 560 / 1400], examples_per_second: 10703.0767, train_label_loss: 0.4070, \n"
     ]
    },
    {
     "name": "stdout",
     "output_type": "stream",
     "text": [
      "epoch: 9, [batch: 700 / 1400], examples_per_second: 10650.5886, train_label_loss: 0.7039, \n"
     ]
    },
    {
     "name": "stdout",
     "output_type": "stream",
     "text": [
      "epoch: 9, [batch: 840 / 1400], examples_per_second: 10660.5450, train_label_loss: 0.4514, \n"
     ]
    },
    {
     "name": "stdout",
     "output_type": "stream",
     "text": [
      "epoch: 9, [batch: 980 / 1400], examples_per_second: 10720.5884, train_label_loss: 0.3840, \n"
     ]
    },
    {
     "name": "stdout",
     "output_type": "stream",
     "text": [
      "epoch: 9, [batch: 1120 / 1400], examples_per_second: 10624.9816, train_label_loss: 0.4734, \n"
     ]
    },
    {
     "name": "stdout",
     "output_type": "stream",
     "text": [
      "epoch: 9, [batch: 1260 / 1400], examples_per_second: 10690.2027, train_label_loss: 0.3996, \n"
     ]
    },
    {
     "name": "stdout",
     "output_type": "stream",
     "text": [
      "=============================================================\n",
      "epoch: 9, source_val_acc_label: 0.4676, source_val_label_loss: 1.7217, target_val_acc_label: 0.4676, target_val_label_loss: 1.7217, \n",
      "=============================================================\n"
     ]
    },
    {
     "name": "stdout",
     "output_type": "stream",
     "text": [
      "epoch: 10, [batch: 1 / 1400], examples_per_second: 57.3181, train_label_loss: 0.2960, \n"
     ]
    },
    {
     "name": "stdout",
     "output_type": "stream",
     "text": [
      "epoch: 10, [batch: 140 / 1400], examples_per_second: 10663.7159, train_label_loss: 0.1978, \n"
     ]
    },
    {
     "name": "stdout",
     "output_type": "stream",
     "text": [
      "epoch: 10, [batch: 280 / 1400], examples_per_second: 10715.0590, train_label_loss: 0.3759, \n"
     ]
    },
    {
     "name": "stdout",
     "output_type": "stream",
     "text": [
      "epoch: 10, [batch: 420 / 1400], examples_per_second: 10764.2350, train_label_loss: 0.2786, \n"
     ]
    },
    {
     "name": "stdout",
     "output_type": "stream",
     "text": [
      "epoch: 10, [batch: 560 / 1400], examples_per_second: 10752.1241, train_label_loss: 0.3249, \n"
     ]
    },
    {
     "name": "stdout",
     "output_type": "stream",
     "text": [
      "epoch: 10, [batch: 700 / 1400], examples_per_second: 10701.4370, train_label_loss: 0.2969, \n"
     ]
    },
    {
     "name": "stdout",
     "output_type": "stream",
     "text": [
      "epoch: 10, [batch: 840 / 1400], examples_per_second: 10650.7561, train_label_loss: 0.4766, \n"
     ]
    },
    {
     "name": "stdout",
     "output_type": "stream",
     "text": [
      "epoch: 10, [batch: 980 / 1400], examples_per_second: 10657.9994, train_label_loss: 0.3410, \n"
     ]
    },
    {
     "name": "stdout",
     "output_type": "stream",
     "text": [
      "epoch: 10, [batch: 1120 / 1400], examples_per_second: 10707.4878, train_label_loss: 0.2848, \n"
     ]
    },
    {
     "name": "stdout",
     "output_type": "stream",
     "text": [
      "epoch: 10, [batch: 1260 / 1400], examples_per_second: 10676.7711, train_label_loss: 0.2981, \n"
     ]
    },
    {
     "name": "stdout",
     "output_type": "stream",
     "text": [
      "=============================================================\n",
      "epoch: 10, source_val_acc_label: 0.4652, source_val_label_loss: 1.7926, target_val_acc_label: 0.4652, target_val_label_loss: 1.7926, \n",
      "=============================================================\n"
     ]
    },
    {
     "name": "stdout",
     "output_type": "stream",
     "text": [
      "epoch: 11, [batch: 1 / 1400], examples_per_second: 57.3208, train_label_loss: 0.2364, \n"
     ]
    },
    {
     "name": "stdout",
     "output_type": "stream",
     "text": [
      "epoch: 11, [batch: 140 / 1400], examples_per_second: 10468.8581, train_label_loss: 0.2327, \n"
     ]
    },
    {
     "name": "stdout",
     "output_type": "stream",
     "text": [
      "epoch: 11, [batch: 280 / 1400], examples_per_second: 10742.0189, train_label_loss: 0.2582, \n"
     ]
    },
    {
     "name": "stdout",
     "output_type": "stream",
     "text": [
      "epoch: 11, [batch: 420 / 1400], examples_per_second: 10671.8822, train_label_loss: 0.2611, \n"
     ]
    },
    {
     "name": "stdout",
     "output_type": "stream",
     "text": [
      "epoch: 11, [batch: 560 / 1400], examples_per_second: 10698.3342, train_label_loss: 0.3782, \n"
     ]
    },
    {
     "name": "stdout",
     "output_type": "stream",
     "text": [
      "epoch: 11, [batch: 700 / 1400], examples_per_second: 10717.0421, train_label_loss: 0.2318, \n"
     ]
    },
    {
     "name": "stdout",
     "output_type": "stream",
     "text": [
      "epoch: 11, [batch: 840 / 1400], examples_per_second: 10776.6916, train_label_loss: 0.3260, \n"
     ]
    },
    {
     "name": "stdout",
     "output_type": "stream",
     "text": [
      "epoch: 11, [batch: 980 / 1400], examples_per_second: 10643.2121, train_label_loss: 0.3711, \n"
     ]
    },
    {
     "name": "stdout",
     "output_type": "stream",
     "text": [
      "epoch: 11, [batch: 1120 / 1400], examples_per_second: 10588.3852, train_label_loss: 0.4175, \n"
     ]
    },
    {
     "name": "stdout",
     "output_type": "stream",
     "text": [
      "epoch: 11, [batch: 1260 / 1400], examples_per_second: 10761.4208, train_label_loss: 0.5398, \n"
     ]
    },
    {
     "name": "stdout",
     "output_type": "stream",
     "text": [
      "=============================================================\n",
      "epoch: 11, source_val_acc_label: 0.4520, source_val_label_loss: 1.9387, target_val_acc_label: 0.4520, target_val_label_loss: 1.9387, \n",
      "=============================================================\n"
     ]
    },
    {
     "name": "stdout",
     "output_type": "stream",
     "text": [
      "Patience (3) exhausted\n"
     ]
    }
   ],
   "source": [
    "jig = Vanilla_Train_Eval_Test_Jig(\n",
    "    model=model,\n",
    "    path_to_best_model=p.BEST_MODEL_PATH,\n",
    "    device=p.device,\n",
    "    label_loss_object=torch.nn.NLLLoss(),\n",
    ")\n",
    "\n",
    "jig.train(\n",
    "    train_iterable=datasets.source.processed.train,\n",
    "    source_val_iterable=datasets.source.processed.val,\n",
    "    target_val_iterable=datasets.target.processed.val,\n",
    "    patience=p.patience,\n",
    "    num_epochs=p.n_epoch,\n",
    "    num_logs_per_epoch=p.NUM_LOGS_PER_EPOCH,\n",
    "    criteria_for_best=p.criteria_for_best\n",
    ")"
   ]
  },
  {
   "cell_type": "code",
   "execution_count": 14,
   "id": "4bc2ac17",
   "metadata": {
    "execution": {
     "iopub.execute_input": "2022-03-26T07:36:17.876917Z",
     "iopub.status.busy": "2022-03-26T07:36:17.876317Z",
     "iopub.status.idle": "2022-03-26T07:36:17.879419Z",
     "shell.execute_reply": "2022-03-26T07:36:17.878866Z"
    },
    "papermill": {
     "duration": 0.059864,
     "end_time": "2022-03-26T07:36:17.879565",
     "exception": false,
     "start_time": "2022-03-26T07:36:17.819701",
     "status": "completed"
    },
    "tags": []
   },
   "outputs": [],
   "source": [
    "total_experiment_time_secs = time.time() - start_time_secs"
   ]
  },
  {
   "cell_type": "code",
   "execution_count": 15,
   "id": "cae88f23",
   "metadata": {
    "execution": {
     "iopub.execute_input": "2022-03-26T07:36:18.068005Z",
     "iopub.status.busy": "2022-03-26T07:36:18.067083Z",
     "iopub.status.idle": "2022-03-26T07:36:41.107665Z",
     "shell.execute_reply": "2022-03-26T07:36:41.106823Z"
    },
    "papermill": {
     "duration": 23.178529,
     "end_time": "2022-03-26T07:36:41.107871",
     "exception": false,
     "start_time": "2022-03-26T07:36:17.929342",
     "status": "completed"
    },
    "tags": []
   },
   "outputs": [],
   "source": [
    "source_test_label_accuracy, source_test_label_loss = jig.test(datasets.source.processed.test)\n",
    "target_test_label_accuracy, target_test_label_loss = jig.test(datasets.target.processed.test)\n",
    "\n",
    "source_val_label_accuracy, source_val_label_loss = jig.test(datasets.source.processed.val)\n",
    "target_val_label_accuracy, target_val_label_loss = jig.test(datasets.target.processed.val)\n",
    "\n",
    "history = jig.get_history()\n",
    "\n",
    "total_epochs_trained = len(history[\"epoch_indices\"])\n",
    "\n",
    "val_dl = wrap_in_dataloader(p, Sequence_Aggregator((datasets.source.original.val, datasets.target.original.val)))\n",
    "\n",
    "confusion = confusion_by_domain_over_dataloader(model, p.device, val_dl, forward_uses_domain=False)\n",
    "per_domain_accuracy = per_domain_accuracy_from_confusion(confusion)\n",
    "\n",
    "# Add a key to per_domain_accuracy for if it was a source domain\n",
    "for domain, accuracy in per_domain_accuracy.items():\n",
    "    per_domain_accuracy[domain] = {\n",
    "        \"accuracy\": accuracy,\n",
    "        \"source?\": domain in p.domains_source\n",
    "    }\n",
    "\n",
    "# Do an independent accuracy assesment JUST TO BE SURE!\n",
    "# _source_test_label_accuracy = independent_accuracy_assesment(model, datasets.source.processed.test, p.device)\n",
    "# _target_test_label_accuracy = independent_accuracy_assesment(model, datasets.target.processed.test, p.device)\n",
    "# _source_val_label_accuracy = independent_accuracy_assesment(model, datasets.source.processed.val, p.device)\n",
    "# _target_val_label_accuracy = independent_accuracy_assesment(model, datasets.target.processed.val, p.device)\n",
    "\n",
    "# assert(_source_test_label_accuracy == source_test_label_accuracy)\n",
    "# assert(_target_test_label_accuracy == target_test_label_accuracy)\n",
    "# assert(_source_val_label_accuracy == source_val_label_accuracy)\n",
    "# assert(_target_val_label_accuracy == target_val_label_accuracy)\n",
    "\n",
    "###################################\n",
    "# Write out the results\n",
    "###################################\n",
    "\n",
    "experiment = {\n",
    "    \"experiment_name\": p.experiment_name,\n",
    "    \"parameters\": p,\n",
    "    \"results\": {\n",
    "        \"source_test_label_accuracy\": source_test_label_accuracy,\n",
    "        \"source_test_label_loss\": source_test_label_loss,\n",
    "        \"target_test_label_accuracy\": target_test_label_accuracy,\n",
    "        \"target_test_label_loss\": target_test_label_loss,\n",
    "        \"source_val_label_accuracy\": source_val_label_accuracy,\n",
    "        \"source_val_label_loss\": source_val_label_loss,\n",
    "        \"target_val_label_accuracy\": target_val_label_accuracy,\n",
    "        \"target_val_label_loss\": target_val_label_loss,\n",
    "        \"total_epochs_trained\": total_epochs_trained,\n",
    "        \"total_experiment_time_secs\": total_experiment_time_secs,\n",
    "        \"confusion\": confusion,\n",
    "        \"per_domain_accuracy\": per_domain_accuracy,\n",
    "    },\n",
    "    \"history\": history,\n",
    "    \"dataset_metrics\": get_dataset_metrics(datasets, \"cnn\"),\n",
    "}"
   ]
  },
  {
   "cell_type": "code",
   "execution_count": 16,
   "id": "74c318cf",
   "metadata": {
    "execution": {
     "iopub.execute_input": "2022-03-26T07:36:41.225329Z",
     "iopub.status.busy": "2022-03-26T07:36:41.220128Z",
     "iopub.status.idle": "2022-03-26T07:36:41.417585Z",
     "shell.execute_reply": "2022-03-26T07:36:41.418284Z"
    },
    "papermill": {
     "duration": 0.259554,
     "end_time": "2022-03-26T07:36:41.418519",
     "exception": false,
     "start_time": "2022-03-26T07:36:41.158965",
     "status": "completed"
    },
    "tags": []
   },
   "outputs": [
    {
     "data": {
      "text/plain": [
       "<AxesSubplot:title={'center':'Source Train Label Loss vs Source Val Label Loss'}, xlabel='Epoch'>"
      ]
     },
     "execution_count": 16,
     "metadata": {},
     "output_type": "execute_result"
    },
    {
     "data": {
      "image/png": "[encoded data removed]",
      "text/plain": [
       "<Figure size 1080x504 with 1 Axes>"
      ]
     },
     "metadata": {
      "needs_background": "light"
     },
     "output_type": "display_data"
    }
   ],
   "source": [
    "get_loss_curve(experiment)"
   ]
  },
  {
   "cell_type": "code",
   "execution_count": 17,
   "id": "59376601",
   "metadata": {
    "execution": {
     "iopub.execute_input": "2022-03-26T07:36:41.532872Z",
     "iopub.status.busy": "2022-03-26T07:36:41.532050Z",
     "iopub.status.idle": "2022-03-26T07:36:41.848221Z",
     "shell.execute_reply": "2022-03-26T07:36:41.848701Z"
    },
    "papermill": {
     "duration": 0.372785,
     "end_time": "2022-03-26T07:36:41.848880",
     "exception": false,
     "start_time": "2022-03-26T07:36:41.476095",
     "status": "completed"
    },
    "tags": []
   },
   "outputs": [
    {
     "data": {
      "text/plain": [
       "<AxesSubplot:title={'center':'Results'}>"
      ]
     },
     "execution_count": 17,
     "metadata": {},
     "output_type": "execute_result"
    },
    {
     "data": {
      "image/png": "[encoded data removed]",
      "text/plain": [
       "<Figure size 1080x504 with 1 Axes>"
      ]
     },
     "metadata": {
      "needs_background": "light"
     },
     "output_type": "display_data"
    }
   ],
   "source": [
    "get_results_table(experiment)"
   ]
  },
  {
   "cell_type": "code",
   "execution_count": 18,
   "id": "e80c5c98",
   "metadata": {
    "execution": {
     "iopub.execute_input": "2022-03-26T07:36:41.987605Z",
     "iopub.status.busy": "2022-03-26T07:36:41.976220Z",
     "iopub.status.idle": "2022-03-26T07:36:42.145067Z",
     "shell.execute_reply": "2022-03-26T07:36:42.145784Z"
    },
    "papermill": {
     "duration": 0.241971,
     "end_time": "2022-03-26T07:36:42.146013",
     "exception": false,
     "start_time": "2022-03-26T07:36:41.904042",
     "status": "completed"
    },
    "tags": []
   },
   "outputs": [
    {
     "data": {
      "text/plain": [
       "<AxesSubplot:title={'center':'Per Domain Accuracy'}, xlabel='domain'>"
      ]
     },
     "execution_count": 18,
     "metadata": {},
     "output_type": "execute_result"
    },
    {
     "data": {
      "image/png": "[encoded data removed]",
      "text/plain": [
       "<Figure size 1080x504 with 1 Axes>"
      ]
     },
     "metadata": {
      "needs_background": "light"
     },
     "output_type": "display_data"
    }
   ],
   "source": [
    "get_domain_accuracies(experiment)"
   ]
  },
  {
   "cell_type": "code",
   "execution_count": 19,
   "id": "086fdd10",
   "metadata": {
    "execution": {
     "iopub.execute_input": "2022-03-26T07:36:42.260505Z",
     "iopub.status.busy": "2022-03-26T07:36:42.259853Z",
     "iopub.status.idle": "2022-03-26T07:36:42.264283Z",
     "shell.execute_reply": "2022-03-26T07:36:42.263643Z"
    },
    "papermill": {
     "duration": 0.063027,
     "end_time": "2022-03-26T07:36:42.264418",
     "exception": false,
     "start_time": "2022-03-26T07:36:42.201391",
     "status": "completed"
    },
    "tags": []
   },
   "outputs": [
    {
     "name": "stdout",
     "output_type": "stream",
     "text": [
      "Source Test Label Accuracy: 0.4891666666666667 Target Test Label Accuracy: 0.4891666666666667\n",
      "Source Val Label Accuracy: 0.4881770833333333 Target Val Label Accuracy: 0.4881770833333333\n"
     ]
    }
   ],
   "source": [
    "print(\"Source Test Label Accuracy:\", experiment[\"results\"][\"source_test_label_accuracy\"], \"Target Test Label Accuracy:\", experiment[\"results\"][\"target_test_label_accuracy\"])\n",
    "print(\"Source Val Label Accuracy:\", experiment[\"results\"][\"source_val_label_accuracy\"], \"Target Val Label Accuracy:\", experiment[\"results\"][\"target_val_label_accuracy\"])"
   ]
  },
  {
   "cell_type": "code",
   "execution_count": 20,
   "id": "9f450536",
   "metadata": {
    "execution": {
     "iopub.execute_input": "2022-03-26T07:36:42.381348Z",
     "iopub.status.busy": "2022-03-26T07:36:42.380957Z",
     "iopub.status.idle": "2022-03-26T07:36:42.384091Z",
     "shell.execute_reply": "2022-03-26T07:36:42.384825Z"
    },
    "papermill": {
     "duration": 0.062909,
     "end_time": "2022-03-26T07:36:42.385042",
     "exception": false,
     "start_time": "2022-03-26T07:36:42.322133",
     "status": "completed"
    },
    "tags": [
     "experiment_json"
    ]
   },
   "outputs": [
    {
     "data": {
      "text/plain": [
       "'{\"experiment_name\": \"cnn_2:oracle.run1_limited\", \"parameters\": {\"experiment_name\": \"cnn_2:oracle.run1_limited\", \"labels\": [\"3123D52\", \"3123D65\", \"3123D79\", \"3123D80\", \"3123D54\", \"3123D70\", \"3123D7B\", \"3123D89\", \"3123D58\", \"3123D76\", \"3123D7D\", \"3123EFE\", \"3123D64\", \"3123D78\", \"3123D7E\", \"3124E4A\"], \"domains_source\": [8, 32, 50, 14, 20, 26, 38, 44], \"domains_target\": [8, 32, 50, 14, 20, 26, 38, 44], \"pickle_name_source\": \"oracle.Run1_10kExamples_stratified_ds.2022A.pkl\", \"pickle_name_target\": \"oracle.Run1_10kExamples_stratified_ds.2022A.pkl\", \"device\": \"cuda\", \"lr\": 0.0001, \"batch_size\": 128, \"normalize_source\": false, \"normalize_target\": false, \"num_examples_per_domain_per_label_source\": 2000, \"num_examples_per_domain_per_label_target\": 2000, \"torch_default_dtype\": \"torch.float32\", \"n_epoch\": 50, \"patience\": 3, \"criteria_for_best\": \"target_accuracy\", \"x_net\": [{\"class\": \"nnReshape\", \"kargs\": {\"shape\": [-1, 1, 2, 256]}}, {\"class\": \"Conv2d\", \"kargs\": {\"in_channels\": 1, \"out_channels\": 256, \"kernel_size\": [1, 7], \"bias\": false, \"padding\": [0, 3]}}, {\"class\": \"ReLU\", \"kargs\": {\"inplace\": true}}, {\"class\": \"BatchNorm2d\", \"kargs\": {\"num_features\": 256}}, {\"class\": \"Conv2d\", \"kargs\": {\"in_channels\": 256, \"out_channels\": 80, \"kernel_size\": [2, 7], \"bias\": true, \"padding\": [0, 3]}}, {\"class\": \"ReLU\", \"kargs\": {\"inplace\": true}}, {\"class\": \"BatchNorm2d\", \"kargs\": {\"num_features\": 80}}, {\"class\": \"Flatten\", \"kargs\": {}}, {\"class\": \"Linear\", \"kargs\": {\"in_features\": 20480, \"out_features\": 256}}, {\"class\": \"ReLU\", \"kargs\": {\"inplace\": true}}, {\"class\": \"BatchNorm1d\", \"kargs\": {\"num_features\": 256}}, {\"class\": \"Linear\", \"kargs\": {\"in_features\": 256, \"out_features\": 16}}], \"NUM_LOGS_PER_EPOCH\": 10, \"BEST_MODEL_PATH\": \"./best_model.pth\", \"dataset_seed\": 7, \"seed\": 7}, \"results\": {\"source_test_label_accuracy\": 0.4891666666666667, \"source_test_label_loss\": 1.4839271024862926, \"target_test_label_accuracy\": 0.4891666666666667, \"target_test_label_loss\": 1.4839271001021068, \"source_val_label_accuracy\": 0.4881770833333333, \"source_val_label_loss\": 1.4875638250509897, \"target_val_label_accuracy\": 0.4881770833333333, \"target_val_label_loss\": 1.4875638167063394, \"total_epochs_trained\": 11, \"total_experiment_time_secs\": 224.10887718200684, \"confusion\": {\"14\": {\"2\": {\"2\": 158, \"7\": 32, \"3\": 66, \"4\": 64, \"13\": 70, \"14\": 114, \"5\": 24, \"6\": 58, \"10\": 10, \"0\": 2, \"8\": 2}, \"9\": {\"9\": 496, \"0\": 24, \"12\": 30, \"13\": 14, \"11\": 24, \"8\": 2, \"5\": 4, \"2\": 2, \"1\": 4}, \"12\": {\"12\": 558, \"9\": 26, \"0\": 12, \"13\": 4}, \"14\": {\"14\": 190, \"13\": 114, \"4\": 42, \"3\": 96, \"6\": 74, \"2\": 72, \"0\": 2, \"7\": 4, \"10\": 2, \"8\": 4}, \"3\": {\"3\": 350, \"13\": 48, \"7\": 68, \"2\": 66, \"4\": 12, \"8\": 18, \"0\": 26, \"9\": 6, \"5\": 4, \"14\": 2}, \"13\": {\"14\": 158, \"6\": 138, \"13\": 144, \"15\": 40, \"10\": 12, \"3\": 36, \"7\": 20, \"4\": 8, \"2\": 42, \"0\": 2}, \"6\": {\"7\": 46, \"6\": 176, \"13\": 188, \"14\": 72, \"3\": 68, \"2\": 48, \"8\": 2}, \"15\": {\"3\": 6, \"15\": 556, \"5\": 8, \"11\": 24, \"13\": 6}, \"7\": {\"7\": 550, \"5\": 26, \"2\": 16, \"13\": 4, \"8\": 2, \"3\": 2}, \"0\": {\"0\": 222, \"9\": 54, \"2\": 30, \"8\": 58, \"3\": 184, \"13\": 32, \"4\": 14, \"7\": 2, \"10\": 2, \"11\": 2}, \"8\": {\"8\": 538, \"11\": 10, \"5\": 4, \"13\": 40, \"9\": 6, \"3\": 2}, \"5\": {\"13\": 16, \"5\": 198, \"3\": 38, \"4\": 82, \"7\": 126, \"2\": 102, \"8\": 20, \"14\": 2, \"11\": 12, \"6\": 2, \"0\": 2}, \"4\": {\"2\": 88, \"4\": 294, \"8\": 14, \"11\": 68, \"3\": 10, \"5\": 74, \"7\": 12, \"14\": 16, \"10\": 16, \"13\": 4, \"1\": 4}, \"10\": {\"2\": 96, \"10\": 98, \"3\": 190, \"4\": 86, \"1\": 4, \"0\": 44, \"8\": 30, \"11\": 10, \"14\": 4, \"5\": 22, \"9\": 14, \"12\": 2}, \"11\": {\"13\": 32, \"7\": 114, \"11\": 356, \"6\": 82, \"4\": 6, \"8\": 10}, \"1\": {\"4\": 24, \"1\": 500, \"11\": 64, \"2\": 4, \"7\": 4, \"10\": 2, \"13\": 2}}, \"50\": {\"14\": {\"14\": 318, \"2\": 122, \"9\": 140, \"6\": 14, \"1\": 6}, \"12\": {\"12\": 440, \"9\": 132, \"11\": 6, \"5\": 8, \"0\": 4, \"14\": 6, \"15\": 4}, \"5\": {\"5\": 464, \"7\": 14, \"2\": 14, \"15\": 52, \"14\": 2, \"13\": 10, \"6\": 10, \"4\": 32, \"9\": 2}, \"2\": {\"2\": 408, \"9\": 56, \"1\": 48, \"0\": 72, \"14\": 14, \"6\": 2}, \"10\": {\"0\": 62, \"1\": 158, \"10\": 350, \"8\": 28, \"13\": 2}, \"0\": {\"0\": 252, \"2\": 102, \"12\": 8, \"1\": 188, \"10\": 40, \"6\": 2, \"9\": 6, \"14\": 2}, \"7\": {\"5\": 288, \"7\": 124, \"13\": 10, \"4\": 52, \"2\": 112, \"14\": 8, \"15\": 2, \"6\": 4}, \"8\": {\"8\": 454, \"0\": 14, \"1\": 60, \"10\": 62, \"13\": 10}, \"11\": {\"5\": 144, \"11\": 188, \"9\": 76, \"15\": 112, \"0\": 54, \"8\": 18, \"6\": 6, \"12\": 2}, \"1\": {\"15\": 112, \"1\": 346, \"13\": 78, \"12\": 12, \"8\": 18, \"6\": 16, \"0\": 16, \"2\": 2}, \"4\": {\"5\": 90, \"4\": 366, \"6\": 18, \"7\": 102, \"15\": 10, \"9\": 8, \"13\": 2, \"14\": 2, \"2\": 2}, \"6\": {\"6\": 130, \"5\": 340, \"15\": 116, \"8\": 4, \"4\": 6, \"9\": 2, \"14\": 2}, \"15\": {\"15\": 190, \"5\": 252, \"4\": 24, \"6\": 96, \"7\": 6, \"11\": 10, \"9\": 20, \"12\": 2}, \"13\": {\"15\": 122, \"13\": 376, \"8\": 34, \"1\": 34, \"12\": 8, \"0\": 10, \"10\": 2, \"6\": 8, \"5\": 6}, \"3\": {\"3\": 582, \"5\": 4, \"2\": 14}, \"9\": {\"9\": 498, \"5\": 26, \"12\": 44, \"0\": 4, \"7\": 6, \"11\": 12, \"15\": 6, \"10\": 2, \"8\": 2}}, \"8\": {\"12\": {\"12\": 254, \"4\": 42, \"10\": 36, \"8\": 70, \"15\": 138, \"3\": 28, \"6\": 2, \"14\": 10, \"5\": 8, \"7\": 2, \"1\": 2, \"2\": 8}, \"11\": {\"11\": 268, \"1\": 164, \"14\": 30, \"8\": 38, \"10\": 20, \"4\": 22, \"5\": 34, \"7\": 6, \"6\": 16, \"13\": 2}, \"14\": {\"6\": 56, \"14\": 392, \"0\": 14, \"10\": 24, \"1\": 10, \"4\": 58, \"11\": 30, \"13\": 6, \"8\": 10}, \"8\": {\"8\": 388, \"11\": 140, \"6\": 12, \"7\": 8, \"14\": 14, \"4\": 28, \"10\": 4, \"1\": 6}, \"13\": {\"7\": 18, \"13\": 292, \"5\": 80, \"6\": 48, \"10\": 100, \"4\": 10, \"1\": 32, \"12\": 10, \"2\": 4, \"15\": 2, \"11\": 2, \"9\": 2}, \"4\": {\"6\": 154, \"4\": 144, \"10\": 34, \"1\": 12, \"11\": 36, \"7\": 48, \"5\": 6, \"8\": 10, \"14\": 116, \"13\": 32, \"0\": 8}, \"0\": {\"0\": 592, \"14\": 8}, \"10\": {\"10\": 184, \"13\": 162, \"7\": 6, \"5\": 146, \"1\": 26, \"4\": 6, \"6\": 56, \"11\": 6, \"14\": 6, \"9\": 2}, \"5\": {\"5\": 432, \"10\": 84, \"1\": 52, \"13\": 20, \"14\": 4, \"6\": 8}, \"15\": {\"12\": 232, \"1\": 28, \"4\": 10, \"15\": 204, \"5\": 4, \"3\": 68, \"10\": 12, \"0\": 4, \"2\": 18, \"9\": 4, \"8\": 12, \"7\": 2, \"14\": 2}, \"2\": {\"0\": 124, \"3\": 150, \"2\": 88, \"5\": 36, \"15\": 30, \"1\": 38, \"12\": 50, \"4\": 18, \"8\": 12, \"10\": 26, \"9\": 26, \"7\": 2}, \"1\": {\"11\": 146, \"10\": 72, \"1\": 200, \"5\": 100, \"6\": 34, \"4\": 28, \"14\": 14, \"13\": 2, \"7\": 2, \"8\": 2}, \"3\": {\"0\": 148, \"3\": 308, \"14\": 6, \"8\": 20, \"4\": 54, \"2\": 30, \"10\": 24, \"12\": 4, \"9\": 2, \"1\": 2, \"13\": 2}, \"7\": {\"6\": 126, \"11\": 24, \"7\": 234, \"13\": 100, \"12\": 2, \"4\": 56, \"1\": 10, \"15\": 4, \"10\": 36, \"3\": 2, \"14\": 4, \"8\": 2}, \"9\": {\"9\": 584, \"12\": 16}, \"6\": {\"4\": 104, \"6\": 208, \"7\": 126, \"10\": 48, \"13\": 54, \"14\": 8, \"1\": 12, \"8\": 8, \"2\": 2, \"11\": 24, \"5\": 4, \"15\": 2}}, \"26\": {\"8\": {\"10\": 30, \"6\": 34, \"0\": 136, \"7\": 96, \"9\": 78, \"8\": 86, \"14\": 26, \"2\": 52, \"13\": 12, \"15\": 18, \"3\": 18, \"5\": 12, \"1\": 2}, \"5\": {\"5\": 290, \"15\": 204, \"14\": 10, \"1\": 4, \"6\": 32, \"9\": 28, \"11\": 18, \"2\": 12, \"10\": 2}, \"7\": {\"7\": 204, \"2\": 66, \"3\": 88, \"0\": 74, \"6\": 22, \"13\": 16, \"15\": 8, \"1\": 2, \"14\": 20, \"9\": 28, \"8\": 42, \"10\": 14, \"4\": 12, \"5\": 4}, \"1\": {\"1\": 300, \"14\": 128, \"10\": 106, \"15\": 28, \"0\": 14, \"6\": 16, \"5\": 2, \"8\": 4, \"2\": 2}, \"9\": {\"13\": 68, \"6\": 36, \"9\": 196, \"0\": 72, \"7\": 48, \"2\": 60, \"8\": 70, \"14\": 2, \"15\": 28, \"10\": 6, \"3\": 10, \"4\": 2, \"5\": 2}, \"11\": {\"11\": 404, \"6\": 132, \"10\": 4, \"9\": 18, \"12\": 18, \"2\": 20, \"5\": 2, \"15\": 2}, \"6\": {\"10\": 112, \"9\": 50, \"15\": 106, \"1\": 18, \"5\": 50, \"6\": 158, \"0\": 28, \"12\": 14, \"14\": 52, \"8\": 4, \"11\": 6, \"2\": 2}, \"4\": {\"3\": 162, \"14\": 16, \"4\": 244, \"8\": 38, \"0\": 92, \"10\": 22, \"13\": 6, \"2\": 10, \"6\": 2, \"7\": 6, \"9\": 2}, \"10\": {\"14\": 114, \"6\": 82, \"10\": 164, \"5\": 14, \"1\": 78, \"15\": 64, \"9\": 8, \"0\": 60, \"12\": 4, \"8\": 8, \"7\": 2, \"2\": 2}, \"15\": {\"15\": 238, \"5\": 162, \"6\": 88, \"14\": 28, \"9\": 36, \"8\": 6, \"1\": 4, \"11\": 10, \"2\": 10, \"10\": 12, \"0\": 6}, \"3\": {\"3\": 250, \"7\": 178, \"13\": 26, \"2\": 68, \"4\": 6, \"14\": 4, \"0\": 36, \"6\": 8, \"9\": 10, \"8\": 12, \"10\": 2}, \"13\": {\"9\": 136, \"3\": 20, \"13\": 316, \"2\": 32, \"8\": 62, \"5\": 12, \"15\": 6, \"12\": 4, \"0\": 8, \"7\": 4}, \"2\": {\"5\": 46, \"7\": 144, \"15\": 70, \"2\": 146, \"6\": 36, \"13\": 28, \"14\": 12, \"3\": 44, \"0\": 12, \"9\": 36, \"8\": 22, \"10\": 4}, \"12\": {\"12\": 596, \"9\": 2, \"0\": 2}, \"0\": {\"14\": 142, \"6\": 48, \"0\": 152, \"7\": 24, \"10\": 112, \"9\": 16, \"15\": 30, \"8\": 16, \"1\": 44, \"3\": 2, \"5\": 6, \"2\": 4, \"13\": 2, \"12\": 2}, \"14\": {\"14\": 240, \"10\": 112, \"1\": 112, \"6\": 46, \"15\": 28, \"0\": 52, \"8\": 4, \"2\": 2, \"7\": 2, \"9\": 2}}, \"38\": {\"2\": {\"5\": 360, \"2\": 218, \"7\": 14, \"13\": 6, \"14\": 2}, \"4\": {\"4\": 596, \"7\": 4}, \"1\": {\"0\": 92, \"1\": 322, \"2\": 132, \"6\": 26, \"9\": 22, \"14\": 2, \"13\": 2, \"8\": 2}, \"11\": {\"11\": 474, \"10\": 74, \"3\": 52}, \"15\": {\"15\": 280, \"1\": 140, \"8\": 30, \"0\": 60, \"13\": 48, \"6\": 10, \"5\": 26, \"2\": 4, \"11\": 2}, \"8\": {\"8\": 26, \"13\": 6, \"5\": 188, \"15\": 228, \"6\": 46, \"4\": 42, \"9\": 28, \"7\": 18, \"11\": 8, \"12\": 2, \"0\": 6, \"14\": 2}, \"14\": {\"5\": 178, \"4\": 36, \"14\": 252, \"7\": 86, \"2\": 48}, \"9\": {\"9\": 530, \"12\": 50, \"5\": 14, \"15\": 4, \"11\": 2}, \"3\": {\"3\": 598, \"0\": 2}, \"6\": {\"2\": 94, \"1\": 138, \"6\": 236, \"9\": 50, \"14\": 52, \"0\": 8, \"13\": 6, \"4\": 14, \"15\": 2}, \"0\": {\"9\": 102, \"4\": 224, \"7\": 22, \"13\": 180, \"10\": 30, \"0\": 38, \"3\": 4}, \"5\": {\"9\": 76, \"7\": 6, \"5\": 236, \"4\": 10, \"11\": 34, \"15\": 178, \"0\": 12, \"8\": 26, \"6\": 18, \"1\": 4}, \"13\": {\"7\": 42, \"13\": 380, \"4\": 134, \"10\": 12, \"5\": 16, \"2\": 10, \"0\": 2, \"9\": 4}, \"12\": {\"12\": 576, \"15\": 18, \"13\": 6}, \"7\": {\"7\": 262, \"4\": 116, \"15\": 26, \"9\": 138, \"6\": 30, \"5\": 26, \"8\": 2}, \"10\": {\"7\": 30, \"10\": 158, \"13\": 346, \"4\": 66}}, \"20\": {\"0\": {\"12\": 54, \"3\": 88, \"0\": 330, \"9\": 34, \"5\": 16, \"2\": 38, \"1\": 12, \"11\": 4, \"15\": 10, \"4\": 2, \"14\": 2, \"10\": 8, \"8\": 2}, \"12\": {\"15\": 62, \"3\": 22, \"9\": 68, \"12\": 122, \"13\": 26, \"2\": 142, \"7\": 58, \"1\": 52, \"5\": 18, \"11\": 4, \"4\": 8, \"10\": 14, \"8\": 4}, \"13\": {\"7\": 72, \"2\": 58, \"13\": 250, \"15\": 18, \"1\": 34, \"9\": 132, \"12\": 20, \"4\": 6, \"11\": 8, \"5\": 2}, \"9\": {\"12\": 54, \"2\": 188, \"5\": 36, \"7\": 20, \"9\": 128, \"3\": 24, \"15\": 36, \"1\": 60, \"10\": 24, \"6\": 2, \"4\": 8, \"13\": 6, \"0\": 6, \"8\": 6, \"11\": 2}, \"4\": {\"7\": 64, \"4\": 94, \"10\": 108, \"12\": 182, \"8\": 72, \"1\": 8, \"14\": 14, \"15\": 20, \"6\": 16, \"2\": 12, \"5\": 2, \"13\": 2, \"9\": 4, \"3\": 2}, \"7\": {\"2\": 140, \"9\": 36, \"4\": 66, \"7\": 122, \"11\": 34, \"12\": 62, \"0\": 2, \"10\": 28, \"1\": 26, \"13\": 16, \"3\": 14, \"5\": 8, \"6\": 16, \"8\": 14, \"15\": 16}, \"14\": {\"8\": 68, \"14\": 342, \"6\": 40, \"4\": 58, \"10\": 48, \"12\": 22, \"2\": 10, \"3\": 10, \"7\": 2}, \"1\": {\"15\": 86, \"2\": 132, \"9\": 108, \"5\": 74, \"12\": 78, \"1\": 76, \"10\": 10, \"3\": 28, \"13\": 6, \"0\": 2}, \"5\": {\"15\": 88, \"2\": 122, \"12\": 96, \"3\": 44, \"9\": 68, \"5\": 70, \"10\": 8, \"13\": 4, \"7\": 2, \"1\": 62, \"0\": 32, \"4\": 2, \"8\": 2}, \"6\": {\"6\": 244, \"10\": 104, \"4\": 82, \"14\": 36, \"2\": 32, \"7\": 40, \"8\": 34, \"12\": 12, \"5\": 2, \"11\": 8, \"13\": 2, \"3\": 4}, \"8\": {\"12\": 62, \"8\": 138, \"3\": 42, \"10\": 50, \"2\": 72, \"4\": 66, \"14\": 84, \"0\": 12, \"6\": 8, \"15\": 32, \"7\": 4, \"5\": 12, \"1\": 8, \"11\": 6, \"9\": 4}, \"15\": {\"5\": 42, \"1\": 64, \"2\": 86, \"3\": 12, \"13\": 66, \"9\": 144, \"12\": 74, \"15\": 96, \"7\": 8, \"0\": 2, \"10\": 2, \"11\": 2, \"4\": 2}, \"3\": {\"2\": 146, \"5\": 56, \"3\": 82, \"12\": 72, \"15\": 38, \"9\": 70, \"8\": 16, \"0\": 18, \"1\": 40, \"4\": 20, \"11\": 4, \"7\": 4, \"10\": 32, \"13\": 2}, \"10\": {\"14\": 18, \"10\": 238, \"4\": 78, \"6\": 128, \"8\": 62, \"1\": 2, \"12\": 44, \"7\": 30}, \"2\": {\"15\": 30, \"7\": 76, \"13\": 58, \"2\": 142, \"12\": 56, \"9\": 108, \"11\": 18, \"5\": 8, \"10\": 20, \"1\": 52, \"4\": 18, \"3\": 8, \"6\": 4, \"8\": 2}, \"11\": {\"9\": 20, \"11\": 250, \"4\": 130, \"10\": 16, \"3\": 10, \"2\": 26, \"8\": 50, \"5\": 28, \"0\": 60, \"1\": 8, \"13\": 2}}, \"44\": {\"4\": {\"4\": 230, \"6\": 40, \"9\": 140, \"5\": 86, \"15\": 46, \"7\": 28, \"12\": 12, \"2\": 2, \"11\": 10, \"14\": 4, \"8\": 2}, \"14\": {\"9\": 78, \"6\": 24, \"5\": 306, \"15\": 90, \"4\": 50, \"12\": 18, \"11\": 6, \"14\": 26, \"8\": 2}, \"5\": {\"6\": 34, \"15\": 100, \"5\": 440, \"4\": 22, \"2\": 4}, \"0\": {\"0\": 376, \"8\": 74, \"5\": 6, \"15\": 132, \"11\": 4, \"6\": 2, \"2\": 4, \"13\": 2}, \"2\": {\"1\": 112, \"5\": 62, \"2\": 346, \"10\": 52, \"7\": 14, \"9\": 8, \"12\": 2, \"8\": 2, \"15\": 2}, \"1\": {\"5\": 132, \"1\": 308, \"2\": 50, \"10\": 46, \"7\": 58, \"12\": 4, \"14\": 2}, \"6\": {\"10\": 24, \"6\": 292, \"9\": 174, \"7\": 104, \"13\": 6}, \"12\": {\"3\": 354, \"12\": 232, \"4\": 6, \"2\": 2, \"13\": 2, \"7\": 2, \"14\": 2}, \"11\": {\"13\": 254, \"10\": 52, \"11\": 150, \"0\": 124, \"9\": 6, \"3\": 12, \"4\": 2}, \"7\": {\"7\": 214, \"2\": 32, \"9\": 208, \"10\": 132, \"6\": 14}, \"13\": {\"9\": 218, \"13\": 104, \"6\": 126, \"7\": 82, \"4\": 36, \"10\": 32, \"0\": 2}, \"10\": {\"10\": 566, \"9\": 4, \"7\": 12, \"2\": 8, \"5\": 2, \"1\": 8}, \"15\": {\"0\": 50, \"5\": 74, \"15\": 350, \"8\": 10, \"11\": 4, \"9\": 20, \"12\": 58, \"14\": 16, \"4\": 8, \"6\": 8, \"2\": 2}, \"9\": {\"9\": 290, \"7\": 166, \"10\": 48, \"2\": 42, \"6\": 30, \"15\": 18, \"5\": 2, \"4\": 2, \"13\": 2}, \"3\": {\"3\": 270, \"4\": 102, \"12\": 80, \"2\": 52, \"14\": 64, \"11\": 6, \"8\": 8, \"7\": 6, \"1\": 4, \"13\": 8}, \"8\": {\"15\": 128, \"0\": 190, \"8\": 268, \"5\": 12, \"12\": 2}}, \"32\": {\"4\": {\"2\": 104, \"3\": 68, \"4\": 280, \"13\": 44, \"14\": 82, \"12\": 12, \"6\": 4, \"11\": 4, \"0\": 2}, \"7\": {\"7\": 178, \"14\": 244, \"1\": 64, \"12\": 28, \"0\": 14, \"5\": 66, \"2\": 4, \"3\": 2}, \"2\": {\"2\": 270, \"14\": 166, \"4\": 124, \"6\": 10, \"3\": 16, \"0\": 4, \"12\": 6, \"13\": 2, \"11\": 2}, \"0\": {\"0\": 262, \"5\": 66, \"8\": 68, \"14\": 80, \"1\": 14, \"4\": 2, \"7\": 18, \"3\": 18, \"2\": 24, \"11\": 26, \"12\": 14, \"6\": 2, \"9\": 6}, \"12\": {\"12\": 434, \"10\": 40, \"14\": 16, \"11\": 22, \"0\": 14, \"9\": 36, \"2\": 4, \"6\": 10, \"1\": 24}, \"3\": {\"12\": 152, \"3\": 342, \"13\": 98, \"11\": 2, \"4\": 4, \"14\": 2}, \"14\": {\"3\": 42, \"7\": 156, \"1\": 34, \"2\": 20, \"14\": 298, \"4\": 8, \"0\": 10, \"5\": 10, \"12\": 20, \"8\": 2}, \"6\": {\"6\": 482, \"11\": 114, \"9\": 2, \"12\": 2}, \"15\": {\"15\": 494, \"8\": 28, \"2\": 52, \"1\": 18, \"9\": 2, \"10\": 4, \"12\": 2}, \"5\": {\"2\": 20, \"5\": 192, \"1\": 120, \"10\": 6, \"7\": 80, \"8\": 10, \"3\": 32, \"14\": 62, \"9\": 6, \"12\": 50, \"0\": 20, \"11\": 2}, \"8\": {\"8\": 270, \"13\": 16, \"0\": 70, \"5\": 46, \"1\": 68, \"12\": 28, \"4\": 6, \"2\": 18, \"3\": 60, \"11\": 4, \"15\": 4, \"14\": 6, \"7\": 4}, \"1\": {\"1\": 512, \"8\": 84, \"10\": 4}, \"9\": {\"9\": 184, \"14\": 168, \"1\": 76, \"6\": 44, \"2\": 98, \"11\": 14, \"5\": 2, \"12\": 6, \"0\": 6, \"15\": 2}, \"13\": {\"3\": 168, \"14\": 10, \"13\": 214, \"12\": 66, \"11\": 20, \"4\": 112, \"2\": 8, \"8\": 2}, \"11\": {\"11\": 490, \"14\": 8, \"13\": 64, \"4\": 16, \"3\": 16, \"2\": 4, \"7\": 2}, \"10\": {\"10\": 596, \"1\": 2, \"12\": 2}}}, \"per_domain_accuracy\": {\"14\": {\"accuracy\": 0.5608333333333333, \"source?\": true}, \"50\": {\"accuracy\": 0.5714583333333333, \"source?\": true}, \"8\": {\"accuracy\": 0.4970833333333333, \"source?\": true}, \"26\": {\"accuracy\": 0.415, \"source?\": true}, \"38\": {\"accuracy\": 0.5397916666666667, \"source?\": true}, \"20\": {\"accuracy\": 0.28375, \"source?\": true}, \"44\": {\"accuracy\": 0.46479166666666666, \"source?\": true}, \"32\": {\"accuracy\": 0.5727083333333334, \"source?\": true}}}, \"history\": {\"epoch_indices\": [1, 2, 3, 4, 5, 6, 7, 8, 9, 10, 11], \"train_label_loss\": [2.612038893529347, 2.2666406638281686, 1.8177745818240303, 1.4777489282403673, 1.1812338414788246, 0.93096151722329, 0.7222991557206426, 0.5497824666968414, 0.42530613766184877, 0.3426284693926573, 0.26312629346336636], \"source_val_label_loss\": [2.4689648763338723, 2.078008180856705, 1.6681359644730887, 1.5316447472572328, 1.4519082434972128, 1.4620205235481263, 1.4875638131300608, 1.6052470699946086, 1.7216798679033916, 1.7925824423631032, 1.9386695845921835], \"target_val_label_loss\": [2.4689648739496866, 2.0780081967512767, 1.6681359688440958, 1.5316447468598684, 1.4519082446893057, 1.4620205239454904, 1.4875638246536256, 1.6052470791339875, 1.7216798651218415, 1.7925824594497681, 1.9386696112155914], \"source_val_acc_label\": [0.19822916666666668, 0.3128125, 0.433671875, 0.4615885416666667, 0.48768229166666666, 0.48716145833333335, 0.4881770833333333, 0.48411458333333335, 0.46760416666666665, 0.465234375, 0.45197916666666665], \"target_val_acc_label\": [0.19822916666666668, 0.3128125, 0.433671875, 0.4615885416666667, 0.48768229166666666, 0.48716145833333335, 0.4881770833333333, 0.48411458333333335, 0.46760416666666665, 0.465234375, 0.45197916666666665]}, \"dataset_metrics\": {\"source\": {\"train\": {\"n_unique_x\": 179200, \"n_unique_y\": 16, \"n_batch/episode\": 1400}, \"val\": {\"n_unique_x\": 38400, \"n_unique_y\": 16, \"n_batch/episode\": 300}, \"test\": {\"n_unique_x\": 38400, \"n_unique_y\": 16, \"n_batch/episode\": 300}}, \"target\": {\"train\": {\"n_unique_x\": 179200, \"n_unique_y\": 16, \"n_batch/episode\": 1400}, \"val\": {\"n_unique_x\": 38400, \"n_unique_y\": 16, \"n_batch/episode\": 300}, \"test\": {\"n_unique_x\": 38400, \"n_unique_y\": 16, \"n_batch/episode\": 300}}}}'"
      ]
     },
     "execution_count": 20,
     "metadata": {},
     "output_type": "execute_result"
    }
   ],
   "source": [
    "json.dumps(experiment)"
   ]
  }
 ],
 "metadata": {
  "celltoolbar": "Tags",
  "kernelspec": {
   "display_name": "Python 3 (ipykernel)",
   "language": "python",
   "name": "python3"
  },
  "language_info": {
   "codemirror_mode": {
    "name": "ipython",
    "version": 3
   },
   "file_extension": ".py",
   "mimetype": "text/x-python",
   "name": "python",
   "nbconvert_exporter": "python",
   "pygments_lexer": "ipython3",
   "version": "3.8.12"
  },
  "papermill": {
   "default_parameters": {},
   "duration": 255.154056,
   "end_time": "2022-03-26T07:36:46.131738",
   "environment_variables": {},
   "exception": null,
   "input_path": "/root/csc500-main/csc500-notebooks/templates/cnn_template.ipynb",
   "output_path": "trial.ipynb",
   "parameters": {
    "parameters": {
     "BEST_MODEL_PATH": "./best_model.pth",
     "NUM_LOGS_PER_EPOCH": 10,
     "batch_size": 128,
     "criteria_for_best": "target_accuracy",
     "dataset_seed": 7,
     "device": "cuda",
     "domains_source": [
      8,
      32,
      50,
      14,
      20,
      26,
      38,
      44
     ],
     "domains_target": [
      8,
      32,
      50,
      14,
      20,
      26,
      38,
      44
     ],
     "experiment_name": "cnn_2:oracle.run1_limited",
     "labels": [
      "3123D52",
      "3123D65",
      "3123D79",
      "3123D80",
      "3123D54",
      "3123D70",
      "3123D7B",
      "3123D89",
      "3123D58",
      "3123D76",
      "3123D7D",
      "3123EFE",
      "3123D64",
      "3123D78",
      "3123D7E",
      "3124E4A"
     ],
     "lr": 0.0001,
     "n_epoch": 50,
     "normalize_source": false,
     "normalize_target": false,
     "num_examples_per_domain_per_label_source": 2000,
     "num_examples_per_domain_per_label_target": 2000,
     "patience": 3,
     "pickle_name_source": "oracle.Run1_10kExamples_stratified_ds.2022A.pkl",
     "pickle_name_target": "oracle.Run1_10kExamples_stratified_ds.2022A.pkl",
     "seed": 7,
     "torch_default_dtype": "torch.float32",
     "x_net": [
      {
       "class": "nnReshape",
       "kargs": {
        "shape": [
         -1,
         1,
         2,
         256
        ]
       }
      },
      {
       "class": "Conv2d",
       "kargs": {
        "bias": false,
        "in_channels": 1,
        "kernel_size": [
         1,
         7
        ],
        "out_channels": 256,
        "padding": [
         0,
         3
        ]
       }
      },
      {
       "class": "ReLU",
       "kargs": {
        "inplace": true
       }
      },
      {
       "class": "BatchNorm2d",
       "kargs": {
        "num_features": 256
       }
      },
      {
       "class": "Conv2d",
       "kargs": {
        "bias": true,
        "in_channels": 256,
        "kernel_size": [
         2,
         7
        ],
        "out_channels": 80,
        "padding": [
         0,
         3
        ]
       }
      },
      {
       "class": "ReLU",
       "kargs": {
        "inplace": true
       }
      },
      {
       "class": "BatchNorm2d",
       "kargs": {
        "num_features": 80
       }
      },
      {
       "class": "Flatten",
       "kargs": {}
      },
      {
       "class": "Linear",
       "kargs": {
        "in_features": 20480,
        "out_features": 256
       }
      },
      {
       "class": "ReLU",
       "kargs": {
        "inplace": true
       }
      },
      {
       "class": "BatchNorm1d",
       "kargs": {
        "num_features": 256
       }
      },
      {
       "class": "Linear",
       "kargs": {
        "in_features": 256,
        "out_features": 16
       }
      }
     ]
    }
   },
   "start_time": "2022-03-26T07:32:30.977682",
   "version": "2.3.4"
  }
 },
 "nbformat": 4,
 "nbformat_minor": 5
}