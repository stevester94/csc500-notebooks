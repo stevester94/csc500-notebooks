{
 "cells": [
  {
   "cell_type": "code",
   "execution_count": 1,
   "id": "2324682e",
   "metadata": {
    "execution": {
     "iopub.execute_input": "2022-03-26T07:20:50.862847Z",
     "iopub.status.busy": "2022-03-26T07:20:50.856683Z",
     "iopub.status.idle": "2022-03-26T07:20:52.211437Z",
     "shell.execute_reply": "2022-03-26T07:20:52.210928Z"
    },
    "papermill": {
     "duration": 1.385099,
     "end_time": "2022-03-26T07:20:52.211594",
     "exception": false,
     "start_time": "2022-03-26T07:20:50.826495",
     "status": "completed"
    },
    "tags": []
   },
   "outputs": [],
   "source": [
    "import os, json, sys, time, random\n",
    "import numpy as np\n",
    "import torch\n",
    "from  easydict import EasyDict\n",
    "from math import floor\n",
    "from easydict import EasyDict\n",
    "\n",
    "from steves_utils.vanilla_train_eval_test_jig import  Vanilla_Train_Eval_Test_Jig\n",
    "\n",
    "from steves_utils.torch_utils import get_dataset_metrics, independent_accuracy_assesment\n",
    "from steves_models.configurable_vanilla import Configurable_Vanilla\n",
    "from steves_utils.torch_sequential_builder import build_sequential\n",
    "from steves_utils.lazy_map import Lazy_Map\n",
    "from steves_utils.sequence_aggregator import Sequence_Aggregator\n",
    "\n",
    "from steves_utils.stratified_dataset.traditional_accessor import Traditional_Accessor_Factory\n",
    "\n",
    "from steves_utils.cnn_do_report import (\n",
    "    get_loss_curve,\n",
    "    get_results_table,\n",
    "    get_parameters_table,\n",
    "    get_domain_accuracies,\n",
    ")\n",
    "\n",
    "from steves_utils.torch_utils import (\n",
    "    confusion_by_domain_over_dataloader,\n",
    "    independent_accuracy_assesment\n",
    ")\n",
    "\n",
    "from steves_utils.utils_v2 import (\n",
    "    per_domain_accuracy_from_confusion,\n",
    "    get_datasets_base_path\n",
    ")\n",
    "\n",
    "# from steves_utils.ptn_do_report import TBD"
   ]
  },
  {
   "cell_type": "code",
   "execution_count": 2,
   "id": "1b29e3fe",
   "metadata": {
    "execution": {
     "iopub.execute_input": "2022-03-26T07:20:52.245858Z",
     "iopub.status.busy": "2022-03-26T07:20:52.245453Z",
     "iopub.status.idle": "2022-03-26T07:20:52.247860Z",
     "shell.execute_reply": "2022-03-26T07:20:52.247509Z"
    },
    "papermill": {
     "duration": 0.019498,
     "end_time": "2022-03-26T07:20:52.247933",
     "exception": false,
     "start_time": "2022-03-26T07:20:52.228435",
     "status": "completed"
    },
    "tags": []
   },
   "outputs": [],
   "source": [
    "required_parameters = {\n",
    "    \"experiment_name\",\n",
    "    \"lr\",\n",
    "    \"device\",\n",
    "    \"dataset_seed\",\n",
    "    \"seed\",\n",
    "    \"labels\",\n",
    "    \"domains_target\",\n",
    "    \"domains_source\",\n",
    "    \"num_examples_per_domain_per_label_source\",\n",
    "    \"num_examples_per_domain_per_label_target\",\n",
    "    \"batch_size\",\n",
    "    \"n_epoch\",\n",
    "    \"patience\",\n",
    "    \"criteria_for_best\",\n",
    "    \"normalize_source\",\n",
    "    \"normalize_target\",\n",
    "    \"x_net\",\n",
    "    \"NUM_LOGS_PER_EPOCH\",\n",
    "    \"BEST_MODEL_PATH\",\n",
    "    \"pickle_name_source\",\n",
    "    \"pickle_name_target\",\n",
    "    \"torch_default_dtype\",\n",
    "}"
   ]
  },
  {
   "cell_type": "code",
   "execution_count": 3,
   "id": "670b5fb8",
   "metadata": {
    "execution": {
     "iopub.execute_input": "2022-03-26T07:20:52.285838Z",
     "iopub.status.busy": "2022-03-26T07:20:52.285247Z",
     "iopub.status.idle": "2022-03-26T07:20:52.292260Z",
     "shell.execute_reply": "2022-03-26T07:20:52.292575Z"
    },
    "papermill": {
     "duration": 0.029049,
     "end_time": "2022-03-26T07:20:52.292662",
     "exception": false,
     "start_time": "2022-03-26T07:20:52.263613",
     "status": "completed"
    },
    "tags": [
     "parameters"
    ]
   },
   "outputs": [],
   "source": [
    "from steves_utils.ORACLE.utils_v2 import (\n",
    "    ALL_SERIAL_NUMBERS,\n",
    "    ALL_DISTANCES_FEET_NARROWED,\n",
    ")\n",
    "\n",
    "standalone_parameters = {}\n",
    "standalone_parameters[\"experiment_name\"] = \"MANUAL CORES CNN\"\n",
    "standalone_parameters[\"lr\"] = 0.0001\n",
    "standalone_parameters[\"device\"] = \"cuda\"\n",
    "\n",
    "standalone_parameters[\"dataset_seed\"] = 1337\n",
    "standalone_parameters[\"seed\"] = 1337\n",
    "standalone_parameters[\"labels\"] = ALL_SERIAL_NUMBERS\n",
    "\n",
    "standalone_parameters[\"domains_source\"] = [8,32,50]\n",
    "standalone_parameters[\"domains_target\"] = [14,20,26,38,44,]\n",
    "\n",
    "standalone_parameters[\"num_examples_per_domain_per_label_source\"]=-1\n",
    "standalone_parameters[\"num_examples_per_domain_per_label_target\"]=-1\n",
    "\n",
    "standalone_parameters[\"pickle_name_source\"] = \"oracle.Run1_framed_2000Examples_stratified_ds.2022A.pkl\"\n",
    "standalone_parameters[\"pickle_name_target\"] = \"oracle.Run2_framed_2000Examples_stratified_ds.2022A.pkl\"\n",
    "\n",
    "standalone_parameters[\"torch_default_dtype\"] = \"torch.float32\" \n",
    "\n",
    "standalone_parameters[\"batch_size\"]=128\n",
    "\n",
    "standalone_parameters[\"n_epoch\"] = 3\n",
    "\n",
    "standalone_parameters[\"patience\"] = 10\n",
    "\n",
    "standalone_parameters[\"criteria_for_best\"] = \"target_accuracy\"\n",
    "standalone_parameters[\"normalize_source\"] = False\n",
    "standalone_parameters[\"normalize_target\"] = False\n",
    "\n",
    "standalone_parameters[\"x_net\"] =     [\n",
    "    {\"class\": \"nnReshape\", \"kargs\": {\"shape\":[-1, 1, 2, 256]}},\n",
    "    {\"class\": \"Conv2d\", \"kargs\": { \"in_channels\":1, \"out_channels\":256, \"kernel_size\":(1,7), \"bias\":False, \"padding\":(0,3), },},\n",
    "    {\"class\": \"ReLU\", \"kargs\": {\"inplace\": True}},\n",
    "    {\"class\": \"BatchNorm2d\", \"kargs\": {\"num_features\":256}},\n",
    "\n",
    "    {\"class\": \"Conv2d\", \"kargs\": { \"in_channels\":256, \"out_channels\":80, \"kernel_size\":(2,7), \"bias\":True, \"padding\":(0,3), },},\n",
    "    {\"class\": \"ReLU\", \"kargs\": {\"inplace\": True}},\n",
    "    {\"class\": \"BatchNorm2d\", \"kargs\": {\"num_features\":80}},\n",
    "    {\"class\": \"Flatten\", \"kargs\": {}},\n",
    "\n",
    "    {\"class\": \"Linear\", \"kargs\": {\"in_features\": 80*256, \"out_features\": 256}}, # 80 units per IQ pair\n",
    "    {\"class\": \"ReLU\", \"kargs\": {\"inplace\": True}},\n",
    "    {\"class\": \"BatchNorm1d\", \"kargs\": {\"num_features\":256}},\n",
    "\n",
    "    {\"class\": \"Linear\", \"kargs\": {\"in_features\": 256, \"out_features\": len(standalone_parameters[\"labels\"])}},\n",
    "]\n",
    "\n",
    "standalone_parameters[\"NUM_LOGS_PER_EPOCH\"] = 10\n",
    "standalone_parameters[\"BEST_MODEL_PATH\"] = \"./best_model.pth\""
   ]
  },
  {
   "cell_type": "code",
   "execution_count": 4,
   "id": "39671b2d",
   "metadata": {
    "execution": {
     "iopub.execute_input": "2022-03-26T07:20:52.333382Z",
     "iopub.status.busy": "2022-03-26T07:20:52.332619Z",
     "iopub.status.idle": "2022-03-26T07:20:52.334954Z",
     "shell.execute_reply": "2022-03-26T07:20:52.335393Z"
    },
    "papermill": {
     "duration": 0.025604,
     "end_time": "2022-03-26T07:20:52.335523",
     "exception": false,
     "start_time": "2022-03-26T07:20:52.309919",
     "status": "completed"
    },
    "tags": [
     "injected-parameters"
    ]
   },
   "outputs": [],
   "source": [
    "# Parameters\n",
    "parameters = {\n",
    "    \"experiment_name\": \"cnn_2:oracle.run1_limited\",\n",
    "    \"labels\": [\n",
    "        \"3123D52\",\n",
    "        \"3123D65\",\n",
    "        \"3123D79\",\n",
    "        \"3123D80\",\n",
    "        \"3123D54\",\n",
    "        \"3123D70\",\n",
    "        \"3123D7B\",\n",
    "        \"3123D89\",\n",
    "        \"3123D58\",\n",
    "        \"3123D76\",\n",
    "        \"3123D7D\",\n",
    "        \"3123EFE\",\n",
    "        \"3123D64\",\n",
    "        \"3123D78\",\n",
    "        \"3123D7E\",\n",
    "        \"3124E4A\",\n",
    "    ],\n",
    "    \"domains_source\": [8, 32, 50, 14, 20, 26, 38, 44],\n",
    "    \"domains_target\": [8, 32, 50, 14, 20, 26, 38, 44],\n",
    "    \"pickle_name_source\": \"oracle.Run1_10kExamples_stratified_ds.2022A.pkl\",\n",
    "    \"pickle_name_target\": \"oracle.Run1_10kExamples_stratified_ds.2022A.pkl\",\n",
    "    \"device\": \"cuda\",\n",
    "    \"lr\": 0.0001,\n",
    "    \"batch_size\": 128,\n",
    "    \"normalize_source\": False,\n",
    "    \"normalize_target\": False,\n",
    "    \"num_examples_per_domain_per_label_source\": 2000,\n",
    "    \"num_examples_per_domain_per_label_target\": 2000,\n",
    "    \"torch_default_dtype\": \"torch.float32\",\n",
    "    \"n_epoch\": 50,\n",
    "    \"patience\": 3,\n",
    "    \"criteria_for_best\": \"target_accuracy\",\n",
    "    \"x_net\": [\n",
    "        {\"class\": \"nnReshape\", \"kargs\": {\"shape\": [-1, 1, 2, 256]}},\n",
    "        {\n",
    "            \"class\": \"Conv2d\",\n",
    "            \"kargs\": {\n",
    "                \"in_channels\": 1,\n",
    "                \"out_channels\": 256,\n",
    "                \"kernel_size\": [1, 7],\n",
    "                \"bias\": False,\n",
    "                \"padding\": [0, 3],\n",
    "            },\n",
    "        },\n",
    "        {\"class\": \"ReLU\", \"kargs\": {\"inplace\": True}},\n",
    "        {\"class\": \"BatchNorm2d\", \"kargs\": {\"num_features\": 256}},\n",
    "        {\n",
    "            \"class\": \"Conv2d\",\n",
    "            \"kargs\": {\n",
    "                \"in_channels\": 256,\n",
    "                \"out_channels\": 80,\n",
    "                \"kernel_size\": [2, 7],\n",
    "                \"bias\": True,\n",
    "                \"padding\": [0, 3],\n",
    "            },\n",
    "        },\n",
    "        {\"class\": \"ReLU\", \"kargs\": {\"inplace\": True}},\n",
    "        {\"class\": \"BatchNorm2d\", \"kargs\": {\"num_features\": 80}},\n",
    "        {\"class\": \"Flatten\", \"kargs\": {}},\n",
    "        {\"class\": \"Linear\", \"kargs\": {\"in_features\": 20480, \"out_features\": 256}},\n",
    "        {\"class\": \"ReLU\", \"kargs\": {\"inplace\": True}},\n",
    "        {\"class\": \"BatchNorm1d\", \"kargs\": {\"num_features\": 256}},\n",
    "        {\"class\": \"Linear\", \"kargs\": {\"in_features\": 256, \"out_features\": 16}},\n",
    "    ],\n",
    "    \"NUM_LOGS_PER_EPOCH\": 10,\n",
    "    \"BEST_MODEL_PATH\": \"./best_model.pth\",\n",
    "    \"dataset_seed\": 420,\n",
    "    \"seed\": 420,\n",
    "}\n"
   ]
  },
  {
   "cell_type": "code",
   "execution_count": 5,
   "id": "759b56ec",
   "metadata": {
    "execution": {
     "iopub.execute_input": "2022-03-26T07:20:52.372825Z",
     "iopub.status.busy": "2022-03-26T07:20:52.372175Z",
     "iopub.status.idle": "2022-03-26T07:20:52.374546Z",
     "shell.execute_reply": "2022-03-26T07:20:52.374985Z"
    },
    "papermill": {
     "duration": 0.020707,
     "end_time": "2022-03-26T07:20:52.375113",
     "exception": false,
     "start_time": "2022-03-26T07:20:52.354406",
     "status": "completed"
    },
    "tags": []
   },
   "outputs": [],
   "source": [
    "# Set this to True if you want to run this template directly\n",
    "STANDALONE = False\n",
    "if STANDALONE:\n",
    "    print(\"parameters not injected, running with standalone_parameters\")\n",
    "    parameters = standalone_parameters\n",
    "\n",
    "if not 'parameters' in locals() and not 'parameters' in globals():\n",
    "    raise Exception(\"Parameter injection failed\")\n",
    "\n",
    "#Use an easy dict for all the parameters\n",
    "p = EasyDict(parameters)\n",
    "\n",
    "supplied_keys = set(p.keys())\n",
    "\n",
    "if  supplied_keys != required_parameters:\n",
    "    print(\"Parameters are incorrect\")\n",
    "    if len(supplied_keys - required_parameters)>0: print(\"Shouldn't have:\", str(supplied_keys - required_parameters))\n",
    "    if len(required_parameters - supplied_keys)>0: print(\"Need to have:\", str(required_parameters - supplied_keys))\n",
    "    raise RuntimeError(\"Parameters are incorrect\")\n",
    "\n"
   ]
  },
  {
   "cell_type": "code",
   "execution_count": 6,
   "id": "d5c66a71",
   "metadata": {
    "execution": {
     "iopub.execute_input": "2022-03-26T07:20:52.407842Z",
     "iopub.status.busy": "2022-03-26T07:20:52.407336Z",
     "iopub.status.idle": "2022-03-26T07:20:52.410406Z",
     "shell.execute_reply": "2022-03-26T07:20:52.410029Z"
    },
    "papermill": {
     "duration": 0.019246,
     "end_time": "2022-03-26T07:20:52.410477",
     "exception": false,
     "start_time": "2022-03-26T07:20:52.391231",
     "status": "completed"
    },
    "tags": []
   },
   "outputs": [],
   "source": [
    "###################################\n",
    "# Set the RNGs and make it all deterministic\n",
    "###################################\n",
    "np.random.seed(p.seed)\n",
    "random.seed(p.seed)\n",
    "torch.manual_seed(p.seed)\n",
    "\n",
    "torch.use_deterministic_algorithms(True) "
   ]
  },
  {
   "cell_type": "code",
   "execution_count": 7,
   "id": "92a65876",
   "metadata": {
    "execution": {
     "iopub.execute_input": "2022-03-26T07:20:52.444562Z",
     "iopub.status.busy": "2022-03-26T07:20:52.444180Z",
     "iopub.status.idle": "2022-03-26T07:20:52.446516Z",
     "shell.execute_reply": "2022-03-26T07:20:52.446191Z"
    },
    "papermill": {
     "duration": 0.018609,
     "end_time": "2022-03-26T07:20:52.446588",
     "exception": false,
     "start_time": "2022-03-26T07:20:52.427979",
     "status": "completed"
    },
    "tags": []
   },
   "outputs": [],
   "source": [
    "torch.set_default_dtype(eval(p.torch_default_dtype))"
   ]
  },
  {
   "cell_type": "code",
   "execution_count": 8,
   "id": "f1a32f01",
   "metadata": {
    "execution": {
     "iopub.execute_input": "2022-03-26T07:20:52.481368Z",
     "iopub.status.busy": "2022-03-26T07:20:52.480662Z",
     "iopub.status.idle": "2022-03-26T07:20:52.522771Z",
     "shell.execute_reply": "2022-03-26T07:20:52.522364Z"
    },
    "papermill": {
     "duration": 0.058716,
     "end_time": "2022-03-26T07:20:52.522893",
     "exception": false,
     "start_time": "2022-03-26T07:20:52.464177",
     "status": "completed"
    },
    "tags": []
   },
   "outputs": [],
   "source": [
    "###################################\n",
    "# Build the network(s)\n",
    "# Note: It's critical to do this AFTER setting the RNG\n",
    "###################################\n",
    "x_net = build_sequential(p.x_net)"
   ]
  },
  {
   "cell_type": "code",
   "execution_count": 9,
   "id": "a276cd83",
   "metadata": {
    "execution": {
     "iopub.execute_input": "2022-03-26T07:20:52.553474Z",
     "iopub.status.busy": "2022-03-26T07:20:52.553075Z",
     "iopub.status.idle": "2022-03-26T07:20:52.555770Z",
     "shell.execute_reply": "2022-03-26T07:20:52.555385Z"
    },
    "papermill": {
     "duration": 0.018922,
     "end_time": "2022-03-26T07:20:52.555841",
     "exception": false,
     "start_time": "2022-03-26T07:20:52.536919",
     "status": "completed"
    },
    "tags": []
   },
   "outputs": [],
   "source": [
    "start_time_secs = time.time()"
   ]
  },
  {
   "cell_type": "code",
   "execution_count": 10,
   "id": "de702e48",
   "metadata": {
    "execution": {
     "iopub.execute_input": "2022-03-26T07:20:52.597175Z",
     "iopub.status.busy": "2022-03-26T07:20:52.596663Z",
     "iopub.status.idle": "2022-03-26T07:21:05.148735Z",
     "shell.execute_reply": "2022-03-26T07:21:05.149195Z"
    },
    "papermill": {
     "duration": 12.577144,
     "end_time": "2022-03-26T07:21:05.149372",
     "exception": false,
     "start_time": "2022-03-26T07:20:52.572228",
     "status": "completed"
    },
    "tags": []
   },
   "outputs": [],
   "source": [
    "def wrap_in_dataloader(p, ds):\n",
    "    return torch.utils.data.DataLoader(\n",
    "        ds,\n",
    "        batch_size=p.batch_size,\n",
    "        shuffle=True,\n",
    "        num_workers=1,\n",
    "        persistent_workers=True,\n",
    "        prefetch_factor=50,\n",
    "        pin_memory=True\n",
    "    )\n",
    "\n",
    "taf_source = Traditional_Accessor_Factory(\n",
    "    labels=p.labels,\n",
    "    domains=p.domains_source,\n",
    "    num_examples_per_domain_per_label=p.num_examples_per_domain_per_label_source,\n",
    "    pickle_path=os.path.join(get_datasets_base_path(), p.pickle_name_source),\n",
    "    seed=p.dataset_seed\n",
    ")\n",
    "train_original_source, val_original_source, test_original_source = \\\n",
    "    taf_source.get_train(), taf_source.get_val(), taf_source.get_test()\n",
    "\n",
    "\n",
    "taf_target = Traditional_Accessor_Factory(\n",
    "    labels=p.labels,\n",
    "    domains=p.domains_target,\n",
    "    num_examples_per_domain_per_label=p.num_examples_per_domain_per_label_source,\n",
    "    pickle_path=os.path.join(get_datasets_base_path(), p.pickle_name_target),\n",
    "    seed=p.dataset_seed\n",
    ")\n",
    "train_original_target, val_original_target, test_original_target = \\\n",
    "    taf_target.get_train(), taf_target.get_val(), taf_target.get_test()\n",
    "\n",
    "\n",
    "# For CNN We only use X and Y. And we only train on the source.\n",
    "# Properly form the data using a transform lambda and Lazy_Map. Finally wrap them in a dataloader\n",
    "\n",
    "transform_lambda = lambda ex: ex[:2] # Strip the tuple to just (x,y)\n",
    "\n",
    "\n",
    "train_processed_source = wrap_in_dataloader(\n",
    "    p,\n",
    "    Lazy_Map(train_original_source, transform_lambda)\n",
    ")\n",
    "val_processed_source = wrap_in_dataloader(\n",
    "    p,\n",
    "    Lazy_Map(val_original_source, transform_lambda)\n",
    ")\n",
    "test_processed_source = wrap_in_dataloader(\n",
    "    p,\n",
    "    Lazy_Map(test_original_source, transform_lambda)\n",
    ")\n",
    "\n",
    "train_processed_target = wrap_in_dataloader(\n",
    "    p,\n",
    "    Lazy_Map(train_original_target, transform_lambda)\n",
    ")\n",
    "val_processed_target = wrap_in_dataloader(\n",
    "    p,\n",
    "    Lazy_Map(val_original_target, transform_lambda)\n",
    ")\n",
    "test_processed_target  = wrap_in_dataloader(\n",
    "    p,\n",
    "    Lazy_Map(test_original_target, transform_lambda)\n",
    ")\n",
    "\n",
    "\n",
    "\n",
    "datasets = EasyDict({\n",
    "    \"source\": {\n",
    "        \"original\": {\"train\":train_original_source, \"val\":val_original_source, \"test\":test_original_source},\n",
    "        \"processed\": {\"train\":train_processed_source, \"val\":val_processed_source, \"test\":test_processed_source}\n",
    "    },\n",
    "    \"target\": {\n",
    "        \"original\": {\"train\":train_original_target, \"val\":val_original_target, \"test\":test_original_target},\n",
    "        \"processed\": {\"train\":train_processed_target, \"val\":val_processed_target, \"test\":test_processed_target}\n",
    "    },\n",
    "})"
   ]
  },
  {
   "cell_type": "code",
   "execution_count": 11,
   "id": "a11b26bd",
   "metadata": {
    "execution": {
     "iopub.execute_input": "2022-03-26T07:21:05.293045Z",
     "iopub.status.busy": "2022-03-26T07:21:05.292192Z",
     "iopub.status.idle": "2022-03-26T07:21:10.772660Z",
     "shell.execute_reply": "2022-03-26T07:21:10.771882Z"
    },
    "papermill": {
     "duration": 5.602693,
     "end_time": "2022-03-26T07:21:10.772844",
     "exception": false,
     "start_time": "2022-03-26T07:21:05.170151",
     "status": "completed"
    },
    "tags": []
   },
   "outputs": [
    {
     "data": {
      "text/plain": [
       "torch.float32"
      ]
     },
     "execution_count": 11,
     "metadata": {},
     "output_type": "execute_result"
    }
   ],
   "source": [
    "ep = next(iter(test_processed_target))\n",
    "ep[0].dtype"
   ]
  },
  {
   "cell_type": "code",
   "execution_count": 12,
   "id": "19425fad",
   "metadata": {
    "execution": {
     "iopub.execute_input": "2022-03-26T07:21:10.814343Z",
     "iopub.status.busy": "2022-03-26T07:21:10.813780Z",
     "iopub.status.idle": "2022-03-26T07:21:10.864150Z",
     "shell.execute_reply": "2022-03-26T07:21:10.862975Z"
    },
    "papermill": {
     "duration": 0.071697,
     "end_time": "2022-03-26T07:21:10.864343",
     "exception": false,
     "start_time": "2022-03-26T07:21:10.792646",
     "status": "completed"
    },
    "tags": []
   },
   "outputs": [],
   "source": [
    "model = Configurable_Vanilla(\n",
    "    x_net=x_net,\n",
    "    label_loss_object=torch.nn.NLLLoss(),\n",
    "    learning_rate=p.lr\n",
    ")"
   ]
  },
  {
   "cell_type": "code",
   "execution_count": 13,
   "id": "7f6d4f2c",
   "metadata": {
    "execution": {
     "iopub.execute_input": "2022-03-26T07:21:10.908357Z",
     "iopub.status.busy": "2022-03-26T07:21:10.907789Z",
     "iopub.status.idle": "2022-03-26T07:24:09.907215Z",
     "shell.execute_reply": "2022-03-26T07:24:09.906373Z"
    },
    "papermill": {
     "duration": 179.021826,
     "end_time": "2022-03-26T07:24:09.907388",
     "exception": false,
     "start_time": "2022-03-26T07:21:10.885562",
     "status": "completed"
    },
    "tags": []
   },
   "outputs": [
    {
     "name": "stdout",
     "output_type": "stream",
     "text": [
      "epoch: 1, [batch: 1 / 1400], examples_per_second: 628.3234, train_label_loss: 2.7965, \n"
     ]
    },
    {
     "name": "stdout",
     "output_type": "stream",
     "text": [
      "epoch: 1, [batch: 140 / 1400], examples_per_second: 11610.1472, train_label_loss: 2.7123, \n"
     ]
    },
    {
     "name": "stdout",
     "output_type": "stream",
     "text": [
      "epoch: 1, [batch: 280 / 1400], examples_per_second: 11687.8255, train_label_loss: 2.6793, \n"
     ]
    },
    {
     "name": "stdout",
     "output_type": "stream",
     "text": [
      "epoch: 1, [batch: 420 / 1400], examples_per_second: 11559.5108, train_label_loss: 2.6953, \n"
     ]
    },
    {
     "name": "stdout",
     "output_type": "stream",
     "text": [
      "epoch: 1, [batch: 560 / 1400], examples_per_second: 11589.0245, train_label_loss: 2.6111, \n"
     ]
    },
    {
     "name": "stdout",
     "output_type": "stream",
     "text": [
      "epoch: 1, [batch: 700 / 1400], examples_per_second: 11688.3107, train_label_loss: 2.6393, \n"
     ]
    },
    {
     "name": "stdout",
     "output_type": "stream",
     "text": [
      "epoch: 1, [batch: 840 / 1400], examples_per_second: 11583.9609, train_label_loss: 2.5778, \n"
     ]
    },
    {
     "name": "stdout",
     "output_type": "stream",
     "text": [
      "epoch: 1, [batch: 980 / 1400], examples_per_second: 11691.9453, train_label_loss: 2.5934, \n"
     ]
    },
    {
     "name": "stdout",
     "output_type": "stream",
     "text": [
      "epoch: 1, [batch: 1120 / 1400], examples_per_second: 11553.4180, train_label_loss: 2.5178, \n"
     ]
    },
    {
     "name": "stdout",
     "output_type": "stream",
     "text": [
      "epoch: 1, [batch: 1260 / 1400], examples_per_second: 11642.5518, train_label_loss: 2.4621, \n"
     ]
    },
    {
     "name": "stdout",
     "output_type": "stream",
     "text": [
      "=============================================================\n",
      "epoch: 1, source_val_acc_label: 0.1845, source_val_label_loss: 2.4855, target_val_acc_label: 0.1845, target_val_label_loss: 2.4855, \n",
      "=============================================================\n"
     ]
    },
    {
     "name": "stdout",
     "output_type": "stream",
     "text": [
      "New best\n",
      "epoch: 2, [batch: 1 / 1400], examples_per_second: 54.2581, train_label_loss: 2.4727, \n"
     ]
    },
    {
     "name": "stdout",
     "output_type": "stream",
     "text": [
      "epoch: 2, [batch: 140 / 1400], examples_per_second: 11671.7731, train_label_loss: 2.5646, \n"
     ]
    },
    {
     "name": "stdout",
     "output_type": "stream",
     "text": [
      "epoch: 2, [batch: 280 / 1400], examples_per_second: 11646.5875, train_label_loss: 2.3426, \n"
     ]
    },
    {
     "name": "stdout",
     "output_type": "stream",
     "text": [
      "epoch: 2, [batch: 420 / 1400], examples_per_second: 11698.3563, train_label_loss: 2.2822, \n"
     ]
    },
    {
     "name": "stdout",
     "output_type": "stream",
     "text": [
      "epoch: 2, [batch: 560 / 1400], examples_per_second: 11658.6534, train_label_loss: 2.3858, \n"
     ]
    },
    {
     "name": "stdout",
     "output_type": "stream",
     "text": [
      "epoch: 2, [batch: 700 / 1400], examples_per_second: 11588.4259, train_label_loss: 2.2219, \n"
     ]
    },
    {
     "name": "stdout",
     "output_type": "stream",
     "text": [
      "epoch: 2, [batch: 840 / 1400], examples_per_second: 11705.4105, train_label_loss: 2.2090, \n"
     ]
    },
    {
     "name": "stdout",
     "output_type": "stream",
     "text": [
      "epoch: 2, [batch: 980 / 1400], examples_per_second: 11541.1098, train_label_loss: 2.1158, \n"
     ]
    },
    {
     "name": "stdout",
     "output_type": "stream",
     "text": [
      "epoch: 2, [batch: 1120 / 1400], examples_per_second: 11607.7598, train_label_loss: 2.0670, \n"
     ]
    },
    {
     "name": "stdout",
     "output_type": "stream",
     "text": [
      "epoch: 2, [batch: 1260 / 1400], examples_per_second: 11699.4416, train_label_loss: 2.0482, \n"
     ]
    },
    {
     "name": "stdout",
     "output_type": "stream",
     "text": [
      "=============================================================\n",
      "epoch: 2, source_val_acc_label: 0.3361, source_val_label_loss: 2.0000, target_val_acc_label: 0.3361, target_val_label_loss: 2.0000, \n",
      "=============================================================\n"
     ]
    },
    {
     "name": "stdout",
     "output_type": "stream",
     "text": [
      "New best\n",
      "epoch: 3, [batch: 1 / 1400], examples_per_second: 63.6815, train_label_loss: 1.9406, \n"
     ]
    },
    {
     "name": "stdout",
     "output_type": "stream",
     "text": [
      "epoch: 3, [batch: 140 / 1400], examples_per_second: 11631.6385, train_label_loss: 1.9257, \n"
     ]
    },
    {
     "name": "stdout",
     "output_type": "stream",
     "text": [
      "epoch: 3, [batch: 280 / 1400], examples_per_second: 11584.7268, train_label_loss: 1.8524, \n"
     ]
    },
    {
     "name": "stdout",
     "output_type": "stream",
     "text": [
      "epoch: 3, [batch: 420 / 1400], examples_per_second: 11483.2083, train_label_loss: 1.7991, \n"
     ]
    },
    {
     "name": "stdout",
     "output_type": "stream",
     "text": [
      "epoch: 3, [batch: 560 / 1400], examples_per_second: 11741.0022, train_label_loss: 1.8137, \n"
     ]
    },
    {
     "name": "stdout",
     "output_type": "stream",
     "text": [
      "epoch: 3, [batch: 700 / 1400], examples_per_second: 11702.6986, train_label_loss: 1.7289, \n"
     ]
    },
    {
     "name": "stdout",
     "output_type": "stream",
     "text": [
      "epoch: 3, [batch: 840 / 1400], examples_per_second: 11666.7354, train_label_loss: 1.8605, \n"
     ]
    },
    {
     "name": "stdout",
     "output_type": "stream",
     "text": [
      "epoch: 3, [batch: 980 / 1400], examples_per_second: 11673.2674, train_label_loss: 1.7232, \n"
     ]
    },
    {
     "name": "stdout",
     "output_type": "stream",
     "text": [
      "epoch: 3, [batch: 1120 / 1400], examples_per_second: 11696.6651, train_label_loss: 1.7473, \n"
     ]
    },
    {
     "name": "stdout",
     "output_type": "stream",
     "text": [
      "epoch: 3, [batch: 1260 / 1400], examples_per_second: 11749.6359, train_label_loss: 1.6441, \n"
     ]
    },
    {
     "name": "stdout",
     "output_type": "stream",
     "text": [
      "=============================================================\n",
      "epoch: 3, source_val_acc_label: 0.4260, source_val_label_loss: 1.6941, target_val_acc_label: 0.4260, target_val_label_loss: 1.6941, \n",
      "=============================================================\n"
     ]
    },
    {
     "name": "stdout",
     "output_type": "stream",
     "text": [
      "New best\n",
      "epoch: 4, [batch: 1 / 1400], examples_per_second: 66.1602, train_label_loss: 1.4130, \n"
     ]
    },
    {
     "name": "stdout",
     "output_type": "stream",
     "text": [
      "epoch: 4, [batch: 140 / 1400], examples_per_second: 12425.5581, train_label_loss: 1.4336, \n"
     ]
    },
    {
     "name": "stdout",
     "output_type": "stream",
     "text": [
      "epoch: 4, [batch: 280 / 1400], examples_per_second: 12189.1020, train_label_loss: 1.5236, \n"
     ]
    },
    {
     "name": "stdout",
     "output_type": "stream",
     "text": [
      "epoch: 4, [batch: 420 / 1400], examples_per_second: 12413.7415, train_label_loss: 1.3730, \n"
     ]
    },
    {
     "name": "stdout",
     "output_type": "stream",
     "text": [
      "epoch: 4, [batch: 560 / 1400], examples_per_second: 12524.4705, train_label_loss: 1.9490, \n"
     ]
    },
    {
     "name": "stdout",
     "output_type": "stream",
     "text": [
      "epoch: 4, [batch: 700 / 1400], examples_per_second: 12586.1555, train_label_loss: 1.4022, \n"
     ]
    },
    {
     "name": "stdout",
     "output_type": "stream",
     "text": [
      "epoch: 4, [batch: 840 / 1400], examples_per_second: 12350.9864, train_label_loss: 1.7884, \n"
     ]
    },
    {
     "name": "stdout",
     "output_type": "stream",
     "text": [
      "epoch: 4, [batch: 980 / 1400], examples_per_second: 11766.1403, train_label_loss: 1.5401, \n"
     ]
    },
    {
     "name": "stdout",
     "output_type": "stream",
     "text": [
      "epoch: 4, [batch: 1120 / 1400], examples_per_second: 10731.1972, train_label_loss: 1.3960, \n"
     ]
    },
    {
     "name": "stdout",
     "output_type": "stream",
     "text": [
      "epoch: 4, [batch: 1260 / 1400], examples_per_second: 10718.7768, train_label_loss: 1.5749, \n"
     ]
    },
    {
     "name": "stdout",
     "output_type": "stream",
     "text": [
      "=============================================================\n",
      "epoch: 4, source_val_acc_label: 0.4620, source_val_label_loss: 1.5266, target_val_acc_label: 0.4620, target_val_label_loss: 1.5266, \n",
      "=============================================================\n"
     ]
    },
    {
     "name": "stdout",
     "output_type": "stream",
     "text": [
      "New best\n",
      "epoch: 5, [batch: 1 / 1400], examples_per_second: 55.9600, train_label_loss: 1.2829, \n"
     ]
    },
    {
     "name": "stdout",
     "output_type": "stream",
     "text": [
      "epoch: 5, [batch: 140 / 1400], examples_per_second: 10635.0812, train_label_loss: 1.1123, \n"
     ]
    },
    {
     "name": "stdout",
     "output_type": "stream",
     "text": [
      "epoch: 5, [batch: 280 / 1400], examples_per_second: 10683.7522, train_label_loss: 1.3849, \n"
     ]
    },
    {
     "name": "stdout",
     "output_type": "stream",
     "text": [
      "epoch: 5, [batch: 420 / 1400], examples_per_second: 11401.5850, train_label_loss: 1.3506, \n"
     ]
    },
    {
     "name": "stdout",
     "output_type": "stream",
     "text": [
      "epoch: 5, [batch: 560 / 1400], examples_per_second: 11810.4072, train_label_loss: 1.2850, \n"
     ]
    },
    {
     "name": "stdout",
     "output_type": "stream",
     "text": [
      "epoch: 5, [batch: 700 / 1400], examples_per_second: 11802.5198, train_label_loss: 1.2405, \n"
     ]
    },
    {
     "name": "stdout",
     "output_type": "stream",
     "text": [
      "epoch: 5, [batch: 840 / 1400], examples_per_second: 11693.0403, train_label_loss: 1.1367, \n"
     ]
    },
    {
     "name": "stdout",
     "output_type": "stream",
     "text": [
      "epoch: 5, [batch: 980 / 1400], examples_per_second: 11754.2609, train_label_loss: 1.1018, \n"
     ]
    },
    {
     "name": "stdout",
     "output_type": "stream",
     "text": [
      "epoch: 5, [batch: 1120 / 1400], examples_per_second: 11715.7686, train_label_loss: 1.1971, \n"
     ]
    },
    {
     "name": "stdout",
     "output_type": "stream",
     "text": [
      "epoch: 5, [batch: 1260 / 1400], examples_per_second: 11768.0967, train_label_loss: 1.2129, \n"
     ]
    },
    {
     "name": "stdout",
     "output_type": "stream",
     "text": [
      "=============================================================\n",
      "epoch: 5, source_val_acc_label: 0.4811, source_val_label_loss: 1.4556, target_val_acc_label: 0.4811, target_val_label_loss: 1.4556, \n",
      "=============================================================\n"
     ]
    },
    {
     "name": "stdout",
     "output_type": "stream",
     "text": [
      "New best\n",
      "epoch: 6, [batch: 1 / 1400], examples_per_second: 64.2325, train_label_loss: 1.1063, \n"
     ]
    },
    {
     "name": "stdout",
     "output_type": "stream",
     "text": [
      "epoch: 6, [batch: 140 / 1400], examples_per_second: 11725.8316, train_label_loss: 1.0413, \n"
     ]
    },
    {
     "name": "stdout",
     "output_type": "stream",
     "text": [
      "epoch: 6, [batch: 280 / 1400], examples_per_second: 11812.4397, train_label_loss: 0.7680, \n"
     ]
    },
    {
     "name": "stdout",
     "output_type": "stream",
     "text": [
      "epoch: 6, [batch: 420 / 1400], examples_per_second: 11767.8001, train_label_loss: 0.9965, \n"
     ]
    },
    {
     "name": "stdout",
     "output_type": "stream",
     "text": [
      "epoch: 6, [batch: 560 / 1400], examples_per_second: 11791.9135, train_label_loss: 0.8613, \n"
     ]
    },
    {
     "name": "stdout",
     "output_type": "stream",
     "text": [
      "epoch: 6, [batch: 700 / 1400], examples_per_second: 11751.5355, train_label_loss: 0.8079, \n"
     ]
    },
    {
     "name": "stdout",
     "output_type": "stream",
     "text": [
      "epoch: 6, [batch: 840 / 1400], examples_per_second: 11776.0582, train_label_loss: 0.9776, \n"
     ]
    },
    {
     "name": "stdout",
     "output_type": "stream",
     "text": [
      "epoch: 6, [batch: 980 / 1400], examples_per_second: 11707.5055, train_label_loss: 1.2781, \n"
     ]
    },
    {
     "name": "stdout",
     "output_type": "stream",
     "text": [
      "epoch: 6, [batch: 1120 / 1400], examples_per_second: 11715.4527, train_label_loss: 0.9143, \n"
     ]
    },
    {
     "name": "stdout",
     "output_type": "stream",
     "text": [
      "epoch: 6, [batch: 1260 / 1400], examples_per_second: 11800.0480, train_label_loss: 0.9781, \n"
     ]
    },
    {
     "name": "stdout",
     "output_type": "stream",
     "text": [
      "=============================================================\n",
      "epoch: 6, source_val_acc_label: 0.4942, source_val_label_loss: 1.4415, target_val_acc_label: 0.4942, target_val_label_loss: 1.4415, \n",
      "=============================================================\n"
     ]
    },
    {
     "name": "stdout",
     "output_type": "stream",
     "text": [
      "New best\n",
      "epoch: 7, [batch: 1 / 1400], examples_per_second: 63.7069, train_label_loss: 0.7799, \n"
     ]
    },
    {
     "name": "stdout",
     "output_type": "stream",
     "text": [
      "epoch: 7, [batch: 140 / 1400], examples_per_second: 11614.9557, train_label_loss: 0.6398, \n"
     ]
    },
    {
     "name": "stdout",
     "output_type": "stream",
     "text": [
      "epoch: 7, [batch: 280 / 1400], examples_per_second: 11823.2392, train_label_loss: 0.6055, \n"
     ]
    },
    {
     "name": "stdout",
     "output_type": "stream",
     "text": [
      "epoch: 7, [batch: 420 / 1400], examples_per_second: 11752.5792, train_label_loss: 0.6697, \n"
     ]
    },
    {
     "name": "stdout",
     "output_type": "stream",
     "text": [
      "epoch: 7, [batch: 560 / 1400], examples_per_second: 11763.9967, train_label_loss: 0.7473, \n"
     ]
    },
    {
     "name": "stdout",
     "output_type": "stream",
     "text": [
      "epoch: 7, [batch: 700 / 1400], examples_per_second: 11760.5141, train_label_loss: 0.7477, \n"
     ]
    },
    {
     "name": "stdout",
     "output_type": "stream",
     "text": [
      "epoch: 7, [batch: 840 / 1400], examples_per_second: 11811.5097, train_label_loss: 0.6833, \n"
     ]
    },
    {
     "name": "stdout",
     "output_type": "stream",
     "text": [
      "epoch: 7, [batch: 980 / 1400], examples_per_second: 11811.8679, train_label_loss: 0.6634, \n"
     ]
    },
    {
     "name": "stdout",
     "output_type": "stream",
     "text": [
      "epoch: 7, [batch: 1120 / 1400], examples_per_second: 11846.2660, train_label_loss: 0.7280, \n"
     ]
    },
    {
     "name": "stdout",
     "output_type": "stream",
     "text": [
      "epoch: 7, [batch: 1260 / 1400], examples_per_second: 11734.2293, train_label_loss: 0.9638, \n"
     ]
    },
    {
     "name": "stdout",
     "output_type": "stream",
     "text": [
      "=============================================================\n",
      "epoch: 7, source_val_acc_label: 0.4831, source_val_label_loss: 1.4948, target_val_acc_label: 0.4831, target_val_label_loss: 1.4948, \n",
      "=============================================================\n"
     ]
    },
    {
     "name": "stdout",
     "output_type": "stream",
     "text": [
      "epoch: 8, [batch: 1 / 1400], examples_per_second: 65.1949, train_label_loss: 0.4298, \n"
     ]
    },
    {
     "name": "stdout",
     "output_type": "stream",
     "text": [
      "epoch: 8, [batch: 140 / 1400], examples_per_second: 11780.7447, train_label_loss: 0.5608, \n"
     ]
    },
    {
     "name": "stdout",
     "output_type": "stream",
     "text": [
      "epoch: 8, [batch: 280 / 1400], examples_per_second: 11732.6504, train_label_loss: 0.6237, \n"
     ]
    },
    {
     "name": "stdout",
     "output_type": "stream",
     "text": [
      "epoch: 8, [batch: 420 / 1400], examples_per_second: 11711.4641, train_label_loss: 0.5726, \n"
     ]
    },
    {
     "name": "stdout",
     "output_type": "stream",
     "text": [
      "epoch: 8, [batch: 560 / 1400], examples_per_second: 11755.2683, train_label_loss: 0.4585, \n"
     ]
    },
    {
     "name": "stdout",
     "output_type": "stream",
     "text": [
      "epoch: 8, [batch: 700 / 1400], examples_per_second: 11718.9598, train_label_loss: 0.5895, \n"
     ]
    },
    {
     "name": "stdout",
     "output_type": "stream",
     "text": [
      "epoch: 8, [batch: 840 / 1400], examples_per_second: 11789.8862, train_label_loss: 0.5710, \n"
     ]
    },
    {
     "name": "stdout",
     "output_type": "stream",
     "text": [
      "epoch: 8, [batch: 980 / 1400], examples_per_second: 11784.1911, train_label_loss: 0.5387, \n"
     ]
    },
    {
     "name": "stdout",
     "output_type": "stream",
     "text": [
      "epoch: 8, [batch: 1120 / 1400], examples_per_second: 11695.5640, train_label_loss: 0.6141, \n"
     ]
    },
    {
     "name": "stdout",
     "output_type": "stream",
     "text": [
      "epoch: 8, [batch: 1260 / 1400], examples_per_second: 11700.9551, train_label_loss: 0.7969, \n"
     ]
    },
    {
     "name": "stdout",
     "output_type": "stream",
     "text": [
      "=============================================================\n",
      "epoch: 8, source_val_acc_label: 0.4758, source_val_label_loss: 1.6372, target_val_acc_label: 0.4758, target_val_label_loss: 1.6372, \n",
      "=============================================================\n"
     ]
    },
    {
     "name": "stdout",
     "output_type": "stream",
     "text": [
      "epoch: 9, [batch: 1 / 1400], examples_per_second: 64.9056, train_label_loss: 0.7668, \n"
     ]
    },
    {
     "name": "stdout",
     "output_type": "stream",
     "text": [
      "epoch: 9, [batch: 140 / 1400], examples_per_second: 11714.0884, train_label_loss: 0.3508, \n"
     ]
    },
    {
     "name": "stdout",
     "output_type": "stream",
     "text": [
      "epoch: 9, [batch: 280 / 1400], examples_per_second: 12392.0223, train_label_loss: 0.5045, \n"
     ]
    },
    {
     "name": "stdout",
     "output_type": "stream",
     "text": [
      "epoch: 9, [batch: 420 / 1400], examples_per_second: 11804.1769, train_label_loss: 0.4413, \n"
     ]
    },
    {
     "name": "stdout",
     "output_type": "stream",
     "text": [
      "epoch: 9, [batch: 560 / 1400], examples_per_second: 11744.2604, train_label_loss: 0.4041, \n"
     ]
    },
    {
     "name": "stdout",
     "output_type": "stream",
     "text": [
      "epoch: 9, [batch: 700 / 1400], examples_per_second: 11685.1943, train_label_loss: 0.3428, \n"
     ]
    },
    {
     "name": "stdout",
     "output_type": "stream",
     "text": [
      "epoch: 9, [batch: 840 / 1400], examples_per_second: 11649.0478, train_label_loss: 0.8122, \n"
     ]
    },
    {
     "name": "stdout",
     "output_type": "stream",
     "text": [
      "epoch: 9, [batch: 980 / 1400], examples_per_second: 11692.2727, train_label_loss: 0.3750, \n"
     ]
    },
    {
     "name": "stdout",
     "output_type": "stream",
     "text": [
      "epoch: 9, [batch: 1120 / 1400], examples_per_second: 11695.4511, train_label_loss: 0.4975, \n"
     ]
    },
    {
     "name": "stdout",
     "output_type": "stream",
     "text": [
      "epoch: 9, [batch: 1260 / 1400], examples_per_second: 11719.3326, train_label_loss: 0.4778, \n"
     ]
    },
    {
     "name": "stdout",
     "output_type": "stream",
     "text": [
      "=============================================================\n",
      "epoch: 9, source_val_acc_label: 0.4749, source_val_label_loss: 1.6989, target_val_acc_label: 0.4749, target_val_label_loss: 1.6989, \n",
      "=============================================================\n"
     ]
    },
    {
     "name": "stdout",
     "output_type": "stream",
     "text": [
      "epoch: 10, [batch: 1 / 1400], examples_per_second: 65.1804, train_label_loss: 0.4120, \n"
     ]
    },
    {
     "name": "stdout",
     "output_type": "stream",
     "text": [
      "epoch: 10, [batch: 140 / 1400], examples_per_second: 11665.0499, train_label_loss: 0.4523, \n"
     ]
    },
    {
     "name": "stdout",
     "output_type": "stream",
     "text": [
      "epoch: 10, [batch: 280 / 1400], examples_per_second: 11760.5822, train_label_loss: 0.2526, \n"
     ]
    },
    {
     "name": "stdout",
     "output_type": "stream",
     "text": [
      "epoch: 10, [batch: 420 / 1400], examples_per_second: 11690.1359, train_label_loss: 0.2736, \n"
     ]
    },
    {
     "name": "stdout",
     "output_type": "stream",
     "text": [
      "epoch: 10, [batch: 560 / 1400], examples_per_second: 11594.6165, train_label_loss: 0.3251, \n"
     ]
    },
    {
     "name": "stdout",
     "output_type": "stream",
     "text": [
      "epoch: 10, [batch: 700 / 1400], examples_per_second: 11694.7942, train_label_loss: 0.2464, \n"
     ]
    },
    {
     "name": "stdout",
     "output_type": "stream",
     "text": [
      "epoch: 10, [batch: 840 / 1400], examples_per_second: 11625.6980, train_label_loss: 0.2865, \n"
     ]
    },
    {
     "name": "stdout",
     "output_type": "stream",
     "text": [
      "epoch: 10, [batch: 980 / 1400], examples_per_second: 11754.4190, train_label_loss: 0.2781, \n"
     ]
    },
    {
     "name": "stdout",
     "output_type": "stream",
     "text": [
      "epoch: 10, [batch: 1120 / 1400], examples_per_second: 11680.1498, train_label_loss: 0.3988, \n"
     ]
    },
    {
     "name": "stdout",
     "output_type": "stream",
     "text": [
      "epoch: 10, [batch: 1260 / 1400], examples_per_second: 11754.6616, train_label_loss: 0.3910, \n"
     ]
    },
    {
     "name": "stdout",
     "output_type": "stream",
     "text": [
      "=============================================================\n",
      "epoch: 10, source_val_acc_label: 0.4725, source_val_label_loss: 1.7301, target_val_acc_label: 0.4725, target_val_label_loss: 1.7301, \n",
      "=============================================================\n"
     ]
    },
    {
     "name": "stdout",
     "output_type": "stream",
     "text": [
      "Patience (3) exhausted\n"
     ]
    }
   ],
   "source": [
    "jig = Vanilla_Train_Eval_Test_Jig(\n",
    "    model=model,\n",
    "    path_to_best_model=p.BEST_MODEL_PATH,\n",
    "    device=p.device,\n",
    "    label_loss_object=torch.nn.NLLLoss(),\n",
    ")\n",
    "\n",
    "jig.train(\n",
    "    train_iterable=datasets.source.processed.train,\n",
    "    source_val_iterable=datasets.source.processed.val,\n",
    "    target_val_iterable=datasets.target.processed.val,\n",
    "    patience=p.patience,\n",
    "    num_epochs=p.n_epoch,\n",
    "    num_logs_per_epoch=p.NUM_LOGS_PER_EPOCH,\n",
    "    criteria_for_best=p.criteria_for_best\n",
    ")"
   ]
  },
  {
   "cell_type": "code",
   "execution_count": 14,
   "id": "4bc2ac17",
   "metadata": {
    "execution": {
     "iopub.execute_input": "2022-03-26T07:24:10.008862Z",
     "iopub.status.busy": "2022-03-26T07:24:10.008484Z",
     "iopub.status.idle": "2022-03-26T07:24:10.010816Z",
     "shell.execute_reply": "2022-03-26T07:24:10.011116Z"
    },
    "papermill": {
     "duration": 0.054288,
     "end_time": "2022-03-26T07:24:10.011221",
     "exception": false,
     "start_time": "2022-03-26T07:24:09.956933",
     "status": "completed"
    },
    "tags": []
   },
   "outputs": [],
   "source": [
    "total_experiment_time_secs = time.time() - start_time_secs"
   ]
  },
  {
   "cell_type": "code",
   "execution_count": 15,
   "id": "cae88f23",
   "metadata": {
    "execution": {
     "iopub.execute_input": "2022-03-26T07:24:10.149357Z",
     "iopub.status.busy": "2022-03-26T07:24:10.148391Z",
     "iopub.status.idle": "2022-03-26T07:24:31.965888Z",
     "shell.execute_reply": "2022-03-26T07:24:31.965021Z"
    },
    "papermill": {
     "duration": 21.90277,
     "end_time": "2022-03-26T07:24:31.966066",
     "exception": false,
     "start_time": "2022-03-26T07:24:10.063296",
     "status": "completed"
    },
    "tags": []
   },
   "outputs": [],
   "source": [
    "source_test_label_accuracy, source_test_label_loss = jig.test(datasets.source.processed.test)\n",
    "target_test_label_accuracy, target_test_label_loss = jig.test(datasets.target.processed.test)\n",
    "\n",
    "source_val_label_accuracy, source_val_label_loss = jig.test(datasets.source.processed.val)\n",
    "target_val_label_accuracy, target_val_label_loss = jig.test(datasets.target.processed.val)\n",
    "\n",
    "history = jig.get_history()\n",
    "\n",
    "total_epochs_trained = len(history[\"epoch_indices\"])\n",
    "\n",
    "val_dl = wrap_in_dataloader(p, Sequence_Aggregator((datasets.source.original.val, datasets.target.original.val)))\n",
    "\n",
    "confusion = confusion_by_domain_over_dataloader(model, p.device, val_dl, forward_uses_domain=False)\n",
    "per_domain_accuracy = per_domain_accuracy_from_confusion(confusion)\n",
    "\n",
    "# Add a key to per_domain_accuracy for if it was a source domain\n",
    "for domain, accuracy in per_domain_accuracy.items():\n",
    "    per_domain_accuracy[domain] = {\n",
    "        \"accuracy\": accuracy,\n",
    "        \"source?\": domain in p.domains_source\n",
    "    }\n",
    "\n",
    "# Do an independent accuracy assesment JUST TO BE SURE!\n",
    "# _source_test_label_accuracy = independent_accuracy_assesment(model, datasets.source.processed.test, p.device)\n",
    "# _target_test_label_accuracy = independent_accuracy_assesment(model, datasets.target.processed.test, p.device)\n",
    "# _source_val_label_accuracy = independent_accuracy_assesment(model, datasets.source.processed.val, p.device)\n",
    "# _target_val_label_accuracy = independent_accuracy_assesment(model, datasets.target.processed.val, p.device)\n",
    "\n",
    "# assert(_source_test_label_accuracy == source_test_label_accuracy)\n",
    "# assert(_target_test_label_accuracy == target_test_label_accuracy)\n",
    "# assert(_source_val_label_accuracy == source_val_label_accuracy)\n",
    "# assert(_target_val_label_accuracy == target_val_label_accuracy)\n",
    "\n",
    "###################################\n",
    "# Write out the results\n",
    "###################################\n",
    "\n",
    "experiment = {\n",
    "    \"experiment_name\": p.experiment_name,\n",
    "    \"parameters\": p,\n",
    "    \"results\": {\n",
    "        \"source_test_label_accuracy\": source_test_label_accuracy,\n",
    "        \"source_test_label_loss\": source_test_label_loss,\n",
    "        \"target_test_label_accuracy\": target_test_label_accuracy,\n",
    "        \"target_test_label_loss\": target_test_label_loss,\n",
    "        \"source_val_label_accuracy\": source_val_label_accuracy,\n",
    "        \"source_val_label_loss\": source_val_label_loss,\n",
    "        \"target_val_label_accuracy\": target_val_label_accuracy,\n",
    "        \"target_val_label_loss\": target_val_label_loss,\n",
    "        \"total_epochs_trained\": total_epochs_trained,\n",
    "        \"total_experiment_time_secs\": total_experiment_time_secs,\n",
    "        \"confusion\": confusion,\n",
    "        \"per_domain_accuracy\": per_domain_accuracy,\n",
    "    },\n",
    "    \"history\": history,\n",
    "    \"dataset_metrics\": get_dataset_metrics(datasets, \"cnn\"),\n",
    "}"
   ]
  },
  {
   "cell_type": "code",
   "execution_count": 16,
   "id": "74c318cf",
   "metadata": {
    "execution": {
     "iopub.execute_input": "2022-03-26T07:24:32.104962Z",
     "iopub.status.busy": "2022-03-26T07:24:32.089777Z",
     "iopub.status.idle": "2022-03-26T07:24:32.281954Z",
     "shell.execute_reply": "2022-03-26T07:24:32.282628Z"
    },
    "papermill": {
     "duration": 0.262824,
     "end_time": "2022-03-26T07:24:32.282837",
     "exception": false,
     "start_time": "2022-03-26T07:24:32.020013",
     "status": "completed"
    },
    "tags": []
   },
   "outputs": [
    {
     "data": {
      "text/plain": [
       "<AxesSubplot:title={'center':'Source Train Label Loss vs Source Val Label Loss'}, xlabel='Epoch'>"
      ]
     },
     "execution_count": 16,
     "metadata": {},
     "output_type": "execute_result"
    },
    {
     "data": {
      "image/png": "[encoded data removed]",
      "text/plain": [
       "<Figure size 1080x504 with 1 Axes>"
      ]
     },
     "metadata": {
      "needs_background": "light"
     },
     "output_type": "display_data"
    }
   ],
   "source": [
    "get_loss_curve(experiment)"
   ]
  },
  {
   "cell_type": "code",
   "execution_count": 17,
   "id": "59376601",
   "metadata": {
    "execution": {
     "iopub.execute_input": "2022-03-26T07:24:32.402838Z",
     "iopub.status.busy": "2022-03-26T07:24:32.402029Z",
     "iopub.status.idle": "2022-03-26T07:24:32.660377Z",
     "shell.execute_reply": "2022-03-26T07:24:32.659993Z"
    },
    "papermill": {
     "duration": 0.32725,
     "end_time": "2022-03-26T07:24:32.660464",
     "exception": false,
     "start_time": "2022-03-26T07:24:32.333214",
     "status": "completed"
    },
    "tags": []
   },
   "outputs": [
    {
     "data": {
      "text/plain": [
       "<AxesSubplot:title={'center':'Results'}>"
      ]
     },
     "execution_count": 17,
     "metadata": {},
     "output_type": "execute_result"
    },
    {
     "data": {
      "image/png": "[encoded data removed]",
      "text/plain": [
       "<Figure size 1080x504 with 1 Axes>"
      ]
     },
     "metadata": {
      "needs_background": "light"
     },
     "output_type": "display_data"
    }
   ],
   "source": [
    "get_results_table(experiment)"
   ]
  },
  {
   "cell_type": "code",
   "execution_count": 18,
   "id": "e80c5c98",
   "metadata": {
    "execution": {
     "iopub.execute_input": "2022-03-26T07:24:32.784913Z",
     "iopub.status.busy": "2022-03-26T07:24:32.784105Z",
     "iopub.status.idle": "2022-03-26T07:24:32.943038Z",
     "shell.execute_reply": "2022-03-26T07:24:32.942226Z"
    },
    "papermill": {
     "duration": 0.233704,
     "end_time": "2022-03-26T07:24:32.943196",
     "exception": false,
     "start_time": "2022-03-26T07:24:32.709492",
     "status": "completed"
    },
    "tags": []
   },
   "outputs": [
    {
     "data": {
      "text/plain": [
       "<AxesSubplot:title={'center':'Per Domain Accuracy'}, xlabel='domain'>"
      ]
     },
     "execution_count": 18,
     "metadata": {},
     "output_type": "execute_result"
    },
    {
     "data": {
      "image/png": "[encoded data removed]",
      "text/plain": [
       "<Figure size 1080x504 with 1 Axes>"
      ]
     },
     "metadata": {
      "needs_background": "light"
     },
     "output_type": "display_data"
    }
   ],
   "source": [
    "get_domain_accuracies(experiment)"
   ]
  },
  {
   "cell_type": "code",
   "execution_count": 19,
   "id": "086fdd10",
   "metadata": {
    "execution": {
     "iopub.execute_input": "2022-03-26T07:24:33.052860Z",
     "iopub.status.busy": "2022-03-26T07:24:33.052472Z",
     "iopub.status.idle": "2022-03-26T07:24:33.056922Z",
     "shell.execute_reply": "2022-03-26T07:24:33.056118Z"
    },
    "papermill": {
     "duration": 0.059772,
     "end_time": "2022-03-26T07:24:33.057080",
     "exception": false,
     "start_time": "2022-03-26T07:24:32.997308",
     "status": "completed"
    },
    "tags": []
   },
   "outputs": [
    {
     "name": "stdout",
     "output_type": "stream",
     "text": [
      "Source Test Label Accuracy: 0.499921875 Target Test Label Accuracy: 0.499921875\n",
      "Source Val Label Accuracy: 0.4942447916666667 Target Val Label Accuracy: 0.4942447916666667\n"
     ]
    }
   ],
   "source": [
    "print(\"Source Test Label Accuracy:\", experiment[\"results\"][\"source_test_label_accuracy\"], \"Target Test Label Accuracy:\", experiment[\"results\"][\"target_test_label_accuracy\"])\n",
    "print(\"Source Val Label Accuracy:\", experiment[\"results\"][\"source_val_label_accuracy\"], \"Target Val Label Accuracy:\", experiment[\"results\"][\"target_val_label_accuracy\"])"
   ]
  },
  {
   "cell_type": "code",
   "execution_count": 20,
   "id": "9f450536",
   "metadata": {
    "execution": {
     "iopub.execute_input": "2022-03-26T07:24:33.166118Z",
     "iopub.status.busy": "2022-03-26T07:24:33.165756Z",
     "iopub.status.idle": "2022-03-26T07:24:33.170752Z",
     "shell.execute_reply": "2022-03-26T07:24:33.170031Z"
    },
    "papermill": {
     "duration": 0.060167,
     "end_time": "2022-03-26T07:24:33.170908",
     "exception": false,
     "start_time": "2022-03-26T07:24:33.110741",
     "status": "completed"
    },
    "tags": [
     "experiment_json"
    ]
   },
   "outputs": [
    {
     "data": {
      "text/plain": [
       "'{\"experiment_name\": \"cnn_2:oracle.run1_limited\", \"parameters\": {\"experiment_name\": \"cnn_2:oracle.run1_limited\", \"labels\": [\"3123D52\", \"3123D65\", \"3123D79\", \"3123D80\", \"3123D54\", \"3123D70\", \"3123D7B\", \"3123D89\", \"3123D58\", \"3123D76\", \"3123D7D\", \"3123EFE\", \"3123D64\", \"3123D78\", \"3123D7E\", \"3124E4A\"], \"domains_source\": [8, 32, 50, 14, 20, 26, 38, 44], \"domains_target\": [8, 32, 50, 14, 20, 26, 38, 44], \"pickle_name_source\": \"oracle.Run1_10kExamples_stratified_ds.2022A.pkl\", \"pickle_name_target\": \"oracle.Run1_10kExamples_stratified_ds.2022A.pkl\", \"device\": \"cuda\", \"lr\": 0.0001, \"batch_size\": 128, \"normalize_source\": false, \"normalize_target\": false, \"num_examples_per_domain_per_label_source\": 2000, \"num_examples_per_domain_per_label_target\": 2000, \"torch_default_dtype\": \"torch.float32\", \"n_epoch\": 50, \"patience\": 3, \"criteria_for_best\": \"target_accuracy\", \"x_net\": [{\"class\": \"nnReshape\", \"kargs\": {\"shape\": [-1, 1, 2, 256]}}, {\"class\": \"Conv2d\", \"kargs\": {\"in_channels\": 1, \"out_channels\": 256, \"kernel_size\": [1, 7], \"bias\": false, \"padding\": [0, 3]}}, {\"class\": \"ReLU\", \"kargs\": {\"inplace\": true}}, {\"class\": \"BatchNorm2d\", \"kargs\": {\"num_features\": 256}}, {\"class\": \"Conv2d\", \"kargs\": {\"in_channels\": 256, \"out_channels\": 80, \"kernel_size\": [2, 7], \"bias\": true, \"padding\": [0, 3]}}, {\"class\": \"ReLU\", \"kargs\": {\"inplace\": true}}, {\"class\": \"BatchNorm2d\", \"kargs\": {\"num_features\": 80}}, {\"class\": \"Flatten\", \"kargs\": {}}, {\"class\": \"Linear\", \"kargs\": {\"in_features\": 20480, \"out_features\": 256}}, {\"class\": \"ReLU\", \"kargs\": {\"inplace\": true}}, {\"class\": \"BatchNorm1d\", \"kargs\": {\"num_features\": 256}}, {\"class\": \"Linear\", \"kargs\": {\"in_features\": 256, \"out_features\": 16}}], \"NUM_LOGS_PER_EPOCH\": 10, \"BEST_MODEL_PATH\": \"./best_model.pth\", \"dataset_seed\": 420, \"seed\": 420}, \"results\": {\"source_test_label_accuracy\": 0.499921875, \"source_test_label_loss\": 1.4408252664407095, \"target_test_label_accuracy\": 0.499921875, \"target_test_label_loss\": 1.4408252580960592, \"source_val_label_accuracy\": 0.4942447916666667, \"source_val_label_loss\": 1.4414792788028716, \"target_val_label_accuracy\": 0.4942447916666667, \"target_val_label_loss\": 1.4414792799949645, \"total_epochs_trained\": 10, \"total_experiment_time_secs\": 197.45475006103516, \"confusion\": {\"14\": {\"12\": {\"12\": 508, \"9\": 86, \"0\": 6}, \"1\": {\"1\": 596, \"11\": 2, \"4\": 2}, \"14\": {\"14\": 248, \"2\": 126, \"4\": 100, \"3\": 40, \"13\": 46, \"6\": 32, \"8\": 4, \"5\": 2, \"0\": 2}, \"15\": {\"15\": 550, \"11\": 30, \"5\": 10, \"13\": 6, \"3\": 4}, \"3\": {\"3\": 342, \"7\": 60, \"2\": 58, \"13\": 34, \"5\": 34, \"8\": 34, \"0\": 20, \"4\": 14, \"9\": 4}, \"11\": {\"11\": 498, \"7\": 34, \"6\": 34, \"13\": 32, \"10\": 2}, \"6\": {\"2\": 84, \"3\": 68, \"4\": 8, \"13\": 128, \"7\": 24, \"14\": 152, \"6\": 134, \"5\": 2}, \"2\": {\"14\": 116, \"2\": 154, \"4\": 112, \"5\": 64, \"6\": 42, \"7\": 40, \"10\": 12, \"3\": 38, \"13\": 12, \"8\": 2, \"11\": 6, \"1\": 2}, \"13\": {\"2\": 68, \"4\": 40, \"14\": 220, \"15\": 32, \"6\": 110, \"13\": 80, \"3\": 34, \"7\": 12, \"10\": 4}, \"10\": {\"2\": 116, \"0\": 76, \"14\": 10, \"3\": 88, \"4\": 120, \"1\": 22, \"5\": 34, \"10\": 88, \"11\": 36, \"9\": 8, \"7\": 2}, \"0\": {\"3\": 192, \"8\": 40, \"0\": 240, \"4\": 36, \"5\": 4, \"2\": 18, \"9\": 30, \"13\": 34, \"11\": 6}, \"5\": {\"5\": 310, \"11\": 24, \"4\": 132, \"7\": 94, \"2\": 18, \"8\": 18, \"1\": 4}, \"4\": {\"4\": 308, \"11\": 116, \"5\": 92, \"1\": 54, \"7\": 6, \"2\": 14, \"3\": 2, \"10\": 4, \"13\": 2, \"8\": 2}, \"7\": {\"7\": 512, \"5\": 84, \"14\": 2, \"4\": 2}, \"8\": {\"8\": 580, \"11\": 14, \"3\": 2, \"5\": 2, \"0\": 2}, \"9\": {\"9\": 512, \"5\": 2, \"11\": 26, \"0\": 8, \"1\": 26, \"12\": 12, \"13\": 10, \"2\": 4}}, \"38\": {\"8\": {\"4\": 8, \"5\": 158, \"15\": 376, \"7\": 14, \"8\": 10, \"0\": 6, \"6\": 20, \"9\": 8}, \"3\": {\"3\": 596, \"11\": 4}, \"13\": {\"0\": 110, \"7\": 136, \"2\": 60, \"13\": 206, \"4\": 8, \"5\": 38, \"15\": 4, \"10\": 28, \"14\": 4, \"8\": 2, \"3\": 4}, \"11\": {\"11\": 598, \"3\": 2}, \"10\": {\"0\": 54, \"13\": 66, \"10\": 402, \"3\": 2, \"7\": 40, \"4\": 30, \"11\": 4, \"14\": 2}, \"5\": {\"15\": 334, \"5\": 182, \"1\": 8, \"9\": 20, \"14\": 8, \"8\": 14, \"0\": 12, \"7\": 6, \"11\": 6, \"6\": 10}, \"1\": {\"1\": 338, \"9\": 14, \"6\": 42, \"0\": 156, \"2\": 42, \"13\": 2, \"14\": 4, \"8\": 2}, \"4\": {\"4\": 588, \"14\": 6, \"12\": 6}, \"14\": {\"14\": 390, \"5\": 116, \"7\": 66, \"2\": 26, \"13\": 2}, \"6\": {\"2\": 98, \"0\": 40, \"6\": 226, \"14\": 36, \"9\": 40, \"1\": 156, \"15\": 2, \"11\": 2}, \"12\": {\"12\": 568, \"15\": 30, \"13\": 2}, \"0\": {\"7\": 98, \"0\": 282, \"4\": 98, \"10\": 12, \"3\": 18, \"11\": 20, \"9\": 36, \"13\": 32, \"14\": 2, \"5\": 2}, \"9\": {\"5\": 20, \"15\": 36, \"9\": 458, \"12\": 82, \"14\": 2, \"7\": 2}, \"7\": {\"8\": 4, \"7\": 402, \"15\": 84, \"4\": 24, \"9\": 30, \"5\": 36, \"6\": 12, \"0\": 4, \"11\": 4}, \"15\": {\"0\": 40, \"15\": 272, \"8\": 38, \"1\": 200, \"11\": 2, \"13\": 32, \"5\": 12, \"6\": 4}, \"2\": {\"14\": 26, \"2\": 318, \"8\": 22, \"5\": 204, \"7\": 28, \"13\": 2}}, \"20\": {\"4\": {\"12\": 120, \"2\": 28, \"6\": 60, \"15\": 22, \"4\": 82, \"11\": 18, \"8\": 62, \"7\": 94, \"10\": 86, \"14\": 14, \"9\": 4, \"1\": 4, \"3\": 6}, \"14\": {\"10\": 50, \"6\": 98, \"14\": 362, \"4\": 20, \"8\": 40, \"7\": 8, \"3\": 2, \"2\": 12, \"11\": 2, \"12\": 6}, \"11\": {\"11\": 420, \"4\": 80, \"1\": 50, \"0\": 4, \"9\": 8, \"2\": 10, \"8\": 18, \"5\": 6, \"7\": 2, \"3\": 2}, \"9\": {\"12\": 32, \"9\": 104, \"2\": 158, \"5\": 10, \"1\": 190, \"15\": 20, \"10\": 10, \"3\": 14, \"4\": 6, \"11\": 12, \"13\": 22, \"0\": 2, \"7\": 20}, \"5\": {\"3\": 36, \"1\": 126, \"13\": 4, \"15\": 100, \"5\": 50, \"0\": 26, \"12\": 40, \"2\": 90, \"9\": 110, \"7\": 14, \"4\": 2, \"11\": 2}, \"0\": {\"9\": 76, \"0\": 296, \"5\": 32, \"15\": 14, \"1\": 18, \"3\": 90, \"12\": 36, \"4\": 10, \"2\": 22, \"8\": 2, \"11\": 4}, \"12\": {\"13\": 84, \"1\": 102, \"7\": 110, \"4\": 22, \"9\": 66, \"2\": 92, \"12\": 54, \"15\": 48, \"10\": 12, \"3\": 6, \"11\": 2, \"6\": 2}, \"13\": {\"11\": 30, \"13\": 394, \"1\": 68, \"7\": 38, \"9\": 62, \"12\": 6, \"2\": 2}, \"7\": {\"13\": 68, \"11\": 72, \"8\": 6, \"1\": 78, \"7\": 130, \"2\": 74, \"6\": 24, \"9\": 48, \"4\": 50, \"12\": 18, \"15\": 6, \"10\": 12, \"3\": 8, \"14\": 6}, \"15\": {\"13\": 138, \"15\": 68, \"2\": 46, \"1\": 118, \"9\": 174, \"12\": 30, \"5\": 8, \"7\": 8, \"11\": 2, \"0\": 2, \"3\": 2, \"4\": 2, \"10\": 2}, \"1\": {\"1\": 140, \"9\": 176, \"13\": 36, \"12\": 36, \"5\": 30, \"15\": 72, \"2\": 78, \"3\": 14, \"4\": 6, \"10\": 2, \"7\": 8, \"0\": 2}, \"2\": {\"1\": 114, \"13\": 112, \"10\": 8, \"7\": 86, \"12\": 18, \"9\": 88, \"2\": 104, \"11\": 32, \"15\": 14, \"3\": 2, \"6\": 8, \"4\": 14}, \"3\": {\"1\": 120, \"3\": 44, \"2\": 144, \"4\": 26, \"9\": 80, \"5\": 30, \"8\": 14, \"0\": 22, \"15\": 36, \"7\": 14, \"13\": 4, \"12\": 42, \"11\": 12, \"10\": 12}, \"8\": {\"10\": 62, \"3\": 26, \"2\": 100, \"14\": 86, \"4\": 86, \"8\": 106, \"0\": 18, \"11\": 10, \"6\": 18, \"7\": 14, \"1\": 10, \"9\": 8, \"15\": 8, \"5\": 8, \"12\": 40}, \"6\": {\"6\": 346, \"11\": 46, \"10\": 104, \"13\": 4, \"8\": 6, \"4\": 8, \"14\": 16, \"2\": 16, \"12\": 4, \"7\": 40, \"1\": 8, \"3\": 2}, \"10\": {\"10\": 224, \"7\": 46, \"6\": 240, \"8\": 28, \"11\": 22, \"4\": 18, \"12\": 18, \"14\": 2, \"2\": 2}}, \"50\": {\"10\": {\"8\": 38, \"1\": 294, \"10\": 222, \"13\": 6, \"0\": 40}, \"9\": {\"9\": 434, \"12\": 50, \"7\": 6, \"11\": 6, \"15\": 38, \"5\": 50, \"8\": 4, \"14\": 4, \"0\": 8}, \"3\": {\"3\": 588, \"2\": 10, \"8\": 2}, \"2\": {\"0\": 104, \"2\": 404, \"12\": 2, \"1\": 30, \"9\": 48, \"6\": 8, \"14\": 2, \"11\": 2}, \"6\": {\"6\": 94, \"15\": 180, \"5\": 318, \"14\": 2, \"8\": 2, \"0\": 2, \"13\": 2}, \"12\": {\"12\": 464, \"9\": 108, \"0\": 10, \"5\": 4, \"15\": 8, \"14\": 6}, \"8\": {\"8\": 464, \"1\": 104, \"10\": 16, \"13\": 12, \"0\": 4}, \"4\": {\"7\": 272, \"15\": 16, \"14\": 24, \"5\": 160, \"4\": 86, \"0\": 10, \"6\": 12, \"9\": 10, \"13\": 6, \"2\": 2, \"8\": 2}, \"1\": {\"1\": 376, \"0\": 36, \"13\": 46, \"15\": 118, \"8\": 10, \"11\": 2, \"6\": 10, \"10\": 2}, \"11\": {\"15\": 302, \"5\": 100, \"9\": 60, \"8\": 34, \"0\": 72, \"11\": 26, \"6\": 2, \"1\": 4}, \"0\": {\"0\": 298, \"1\": 206, \"10\": 42, \"2\": 44, \"6\": 8, \"9\": 2}, \"14\": {\"2\": 190, \"9\": 184, \"14\": 160, \"6\": 54, \"1\": 6, \"0\": 4, \"5\": 2}, \"5\": {\"5\": 350, \"15\": 102, \"14\": 38, \"7\": 34, \"0\": 2, \"8\": 10, \"2\": 22, \"13\": 20, \"12\": 2, \"6\": 20}, \"15\": {\"5\": 184, \"15\": 348, \"6\": 46, \"14\": 6, \"4\": 6, \"11\": 2, \"9\": 2, \"8\": 4, \"7\": 2}, \"13\": {\"13\": 382, \"1\": 52, \"15\": 108, \"8\": 34, \"5\": 4, \"12\": 8, \"6\": 8, \"0\": 4}, \"7\": {\"7\": 150, \"5\": 196, \"14\": 98, \"2\": 128, \"6\": 6, \"13\": 6, \"8\": 10, \"15\": 2, \"4\": 4}}, \"32\": {\"6\": {\"6\": 464, \"11\": 130, \"12\": 4, \"2\": 2}, \"11\": {\"3\": 40, \"11\": 514, \"13\": 28, \"12\": 2, \"4\": 8, \"2\": 4, \"14\": 4}, \"12\": {\"10\": 68, \"1\": 22, \"12\": 416, \"9\": 32, \"6\": 22, \"0\": 36, \"14\": 2, \"11\": 2}, \"2\": {\"14\": 136, \"2\": 258, \"4\": 120, \"3\": 22, \"0\": 34, \"1\": 4, \"6\": 10, \"8\": 4, \"7\": 8, \"9\": 2, \"13\": 2}, \"14\": {\"14\": 366, \"5\": 34, \"3\": 18, \"7\": 116, \"12\": 18, \"2\": 14, \"0\": 12, \"1\": 20, \"11\": 2}, \"9\": {\"14\": 66, \"2\": 134, \"6\": 88, \"9\": 228, \"1\": 60, \"11\": 2, \"12\": 2, \"0\": 18, \"5\": 2}, \"15\": {\"15\": 570, \"8\": 14, \"9\": 2, \"1\": 6, \"2\": 8}, \"1\": {\"1\": 538, \"8\": 62}, \"0\": {\"14\": 144, \"0\": 216, \"8\": 66, \"5\": 102, \"7\": 30, \"1\": 20, \"9\": 2, \"11\": 10, \"12\": 6, \"15\": 2, \"3\": 2}, \"4\": {\"0\": 6, \"4\": 244, \"3\": 126, \"14\": 96, \"2\": 96, \"13\": 22, \"12\": 4, \"7\": 2, \"1\": 2, \"6\": 2}, \"8\": {\"13\": 2, \"5\": 76, \"8\": 380, \"12\": 14, \"1\": 24, \"0\": 46, \"3\": 28, \"14\": 14, \"15\": 4, \"7\": 10, \"2\": 2}, \"7\": {\"14\": 294, \"5\": 72, \"7\": 166, \"12\": 34, \"0\": 16, \"3\": 2, \"8\": 2, \"1\": 14}, \"3\": {\"3\": 418, \"13\": 52, \"2\": 2, \"12\": 116, \"14\": 2, \"11\": 6, \"4\": 4}, \"5\": {\"12\": 54, \"3\": 2, \"5\": 212, \"1\": 62, \"7\": 120, \"8\": 44, \"0\": 18, \"14\": 76, \"9\": 6, \"2\": 6}, \"10\": {\"10\": 598, \"12\": 2}, \"13\": {\"3\": 264, \"12\": 28, \"4\": 126, \"13\": 166, \"2\": 4, \"11\": 10, \"14\": 2}}, \"8\": {\"8\": {\"11\": 230, \"8\": 314, \"4\": 34, \"6\": 10, \"14\": 8, \"7\": 4}, \"9\": {\"9\": 574, \"12\": 26}, \"11\": {\"11\": 376, \"8\": 48, \"6\": 20, \"4\": 38, \"14\": 50, \"1\": 32, \"7\": 10, \"10\": 22, \"13\": 2, \"0\": 2}, \"13\": {\"1\": 4, \"13\": 410, \"7\": 74, \"4\": 12, \"10\": 58, \"11\": 4, \"6\": 16, \"12\": 2, \"9\": 2, \"5\": 12, \"15\": 6}, \"1\": {\"10\": 108, \"1\": 92, \"7\": 14, \"11\": 214, \"8\": 4, \"4\": 82, \"14\": 28, \"6\": 32, \"5\": 22, \"13\": 2, \"9\": 2}, \"2\": {\"3\": 114, \"9\": 66, \"6\": 2, \"4\": 10, \"0\": 116, \"8\": 4, \"2\": 80, \"12\": 24, \"1\": 76, \"5\": 56, \"15\": 26, \"7\": 10, \"13\": 6, \"11\": 4, \"10\": 4, \"14\": 2}, \"7\": {\"13\": 146, \"6\": 54, \"7\": 274, \"11\": 56, \"4\": 60, \"10\": 10}, \"5\": {\"5\": 304, \"13\": 106, \"11\": 6, \"1\": 26, \"10\": 142, \"14\": 8, \"4\": 4, \"7\": 4}, \"0\": {\"0\": 600}, \"3\": {\"0\": 198, \"3\": 286, \"2\": 14, \"10\": 24, \"4\": 64, \"1\": 2, \"14\": 4, \"9\": 2, \"8\": 4, \"12\": 2}, \"6\": {\"7\": 230, \"4\": 126, \"11\": 52, \"6\": 104, \"13\": 68, \"0\": 2, \"10\": 12, \"14\": 4, \"8\": 2}, \"15\": {\"1\": 14, \"2\": 10, \"12\": 174, \"5\": 6, \"4\": 22, \"15\": 226, \"3\": 82, \"10\": 4, \"8\": 42, \"14\": 12, \"7\": 4, \"11\": 2, \"0\": 2}, \"4\": {\"4\": 232, \"7\": 94, \"11\": 52, \"14\": 74, \"0\": 26, \"6\": 54, \"10\": 22, \"13\": 38, \"1\": 2, \"8\": 6}, \"14\": {\"14\": 282, \"4\": 138, \"0\": 118, \"11\": 26, \"6\": 18, \"13\": 8, \"7\": 6, \"1\": 2, \"8\": 2}, \"12\": {\"4\": 62, \"14\": 38, \"8\": 64, \"15\": 100, \"12\": 222, \"3\": 28, \"10\": 40, \"2\": 18, \"5\": 2, \"0\": 2, \"7\": 12, \"6\": 4, \"1\": 6, \"11\": 2}, \"10\": {\"7\": 54, \"10\": 114, \"13\": 312, \"4\": 22, \"6\": 30, \"1\": 10, \"14\": 10, \"5\": 36, \"11\": 6, \"15\": 4, \"9\": 2}}, \"44\": {\"5\": {\"15\": 186, \"14\": 8, \"5\": 346, \"8\": 46, \"6\": 10, \"0\": 4}, \"4\": {\"5\": 108, \"4\": 102, \"6\": 6, \"15\": 168, \"7\": 88, \"9\": 100, \"0\": 16, \"12\": 6, \"14\": 6}, \"14\": {\"15\": 192, \"5\": 292, \"6\": 12, \"9\": 34, \"14\": 36, \"12\": 14, \"4\": 10, \"7\": 10}, \"11\": {\"11\": 574, \"0\": 10, \"13\": 6, \"3\": 8, \"10\": 2}, \"1\": {\"2\": 44, \"1\": 162, \"5\": 166, \"7\": 182, \"12\": 22, \"8\": 6, \"14\": 14, \"10\": 4}, \"7\": {\"7\": 424, \"9\": 122, \"15\": 10, \"10\": 16, \"2\": 14, \"5\": 4, \"6\": 10}, \"10\": {\"7\": 204, \"10\": 350, \"2\": 26, \"1\": 10, \"5\": 4, \"9\": 4, \"12\": 2}, \"13\": {\"6\": 200, \"7\": 156, \"0\": 114, \"4\": 22, \"9\": 60, \"13\": 32, \"11\": 16}, \"0\": {\"0\": 292, \"8\": 228, \"15\": 62, \"5\": 8, \"6\": 6, \"13\": 2, \"1\": 2}, \"8\": {\"8\": 462, \"0\": 60, \"15\": 74, \"5\": 4}, \"12\": {\"12\": 240, \"3\": 344, \"8\": 6, \"14\": 4, \"7\": 6}, \"3\": {\"8\": 44, \"3\": 282, \"14\": 90, \"7\": 16, \"12\": 66, \"4\": 40, \"0\": 10, \"2\": 34, \"13\": 4, \"1\": 8, \"5\": 6}, \"6\": {\"6\": 394, \"9\": 64, \"7\": 134, \"0\": 6, \"10\": 2}, \"15\": {\"15\": 380, \"8\": 88, \"0\": 56, \"5\": 34, \"9\": 12, \"12\": 24, \"14\": 4, \"6\": 2}, \"9\": {\"9\": 184, \"7\": 312, \"0\": 20, \"6\": 28, \"15\": 34, \"10\": 8, \"13\": 2, \"8\": 2, \"2\": 8, \"5\": 2}, \"2\": {\"2\": 304, \"15\": 50, \"5\": 72, \"1\": 52, \"10\": 6, \"8\": 28, \"9\": 10, \"7\": 74, \"12\": 4}}, \"26\": {\"12\": {\"12\": 584, \"10\": 4, \"8\": 2, \"9\": 8, \"13\": 2}, \"7\": {\"0\": 66, \"8\": 90, \"2\": 50, \"3\": 160, \"7\": 154, \"9\": 38, \"13\": 16, \"15\": 6, \"4\": 16, \"14\": 2, \"5\": 2}, \"3\": {\"3\": 338, \"0\": 26, \"8\": 38, \"9\": 20, \"2\": 66, \"13\": 24, \"7\": 72, \"4\": 12, \"5\": 4}, \"5\": {\"5\": 384, \"9\": 48, \"11\": 14, \"15\": 134, \"6\": 14, \"14\": 2, \"10\": 2, \"2\": 2}, \"8\": {\"2\": 24, \"8\": 170, \"7\": 76, \"0\": 134, \"9\": 104, \"3\": 16, \"5\": 8, \"4\": 20, \"13\": 16, \"15\": 2, \"10\": 16, \"6\": 12, \"12\": 2}, \"11\": {\"11\": 358, \"6\": 164, \"9\": 12, \"12\": 48, \"2\": 16, \"5\": 2}, \"15\": {\"5\": 258, \"6\": 76, \"15\": 116, \"9\": 100, \"0\": 4, \"14\": 24, \"2\": 4, \"3\": 4, \"11\": 2, \"10\": 2, \"7\": 4, \"1\": 6}, \"13\": {\"8\": 70, \"13\": 328, \"15\": 20, \"9\": 124, \"3\": 20, \"2\": 12, \"5\": 10, \"0\": 10, \"12\": 4, \"7\": 2}, \"2\": {\"3\": 82, \"13\": 48, \"2\": 96, \"7\": 98, \"9\": 54, \"6\": 24, \"8\": 56, \"5\": 72, \"15\": 52, \"14\": 6, \"0\": 12}, \"0\": {\"0\": 162, \"8\": 54, \"10\": 88, \"7\": 14, \"14\": 116, \"15\": 18, \"1\": 46, \"12\": 12, \"6\": 44, \"9\": 24, \"5\": 10, \"3\": 4, \"4\": 4, \"2\": 2, \"13\": 2}, \"9\": {\"13\": 102, \"9\": 174, \"8\": 136, \"5\": 6, \"3\": 32, \"2\": 20, \"6\": 16, \"0\": 78, \"7\": 14, \"15\": 12, \"4\": 4, \"14\": 2, \"10\": 2, \"12\": 2}, \"6\": {\"12\": 50, \"6\": 142, \"14\": 26, \"10\": 56, \"1\": 12, \"5\": 134, \"9\": 120, \"15\": 32, \"0\": 18, \"8\": 4, \"11\": 6}, \"14\": {\"10\": 98, \"14\": 206, \"0\": 94, \"1\": 100, \"6\": 36, \"5\": 6, \"7\": 10, \"8\": 16, \"4\": 4, \"15\": 14, \"9\": 16}, \"10\": {\"10\": 114, \"0\": 86, \"9\": 34, \"6\": 88, \"8\": 34, \"15\": 32, \"5\": 32, \"14\": 82, \"1\": 66, \"2\": 6, \"7\": 12, \"12\": 14}, \"1\": {\"1\": 328, \"10\": 84, \"14\": 114, \"15\": 22, \"9\": 10, \"0\": 18, \"6\": 22, \"5\": 2}, \"4\": {\"3\": 156, \"14\": 22, \"4\": 230, \"0\": 150, \"13\": 6, \"8\": 26, \"9\": 2, \"10\": 2, \"7\": 2, \"2\": 4}}}, \"per_domain_accuracy\": {\"14\": {\"accuracy\": 0.5895833333333333, \"source?\": true}, \"38\": {\"accuracy\": 0.6079166666666667, \"source?\": true}, \"20\": {\"accuracy\": 0.3045833333333333, \"source?\": true}, \"50\": {\"accuracy\": 0.5047916666666666, \"source?\": true}, \"32\": {\"accuracy\": 0.599375, \"source?\": true}, \"8\": {\"accuracy\": 0.46770833333333334, \"source?\": true}, \"44\": {\"accuracy\": 0.47541666666666665, \"source?\": true}, \"26\": {\"accuracy\": 0.40458333333333335, \"source?\": true}}}, \"history\": {\"epoch_indices\": [1, 2, 3, 4, 5, 6, 7, 8, 9, 10], \"train_label_loss\": [2.6115071638992853, 2.256900651710374, 1.8163097590208053, 1.4761048436164856, 1.1982263106107711, 0.9488617765051978, 0.7446677049142973, 0.5734923344637667, 0.44105858238680024, 0.34650302489953383], \"source_val_label_loss\": [2.485470660527547, 2.0000219408671063, 1.6940916736920675, 1.5265854072570801, 1.4556340996424357, 1.4414792923132578, 1.4947969472408296, 1.6372128582000733, 1.6988798586527507, 1.7300569021701813], \"target_val_label_loss\": [2.485470669269562, 2.0000219400723775, 1.694091676870982, 1.5265854374567667, 1.455634086529414, 1.44147927125295, 1.4947969643274943, 1.6372128637631733, 1.6988798622290293, 1.7300568970044454], \"source_val_acc_label\": [0.18453125, 0.33611979166666667, 0.42604166666666665, 0.461953125, 0.48109375, 0.4942447916666667, 0.4830729166666667, 0.47583333333333333, 0.47489583333333335, 0.4725], \"target_val_acc_label\": [0.18453125, 0.33611979166666667, 0.42604166666666665, 0.461953125, 0.48109375, 0.4942447916666667, 0.4830729166666667, 0.47583333333333333, 0.47489583333333335, 0.4725]}, \"dataset_metrics\": {\"source\": {\"train\": {\"n_unique_x\": 179200, \"n_unique_y\": 16, \"n_batch/episode\": 1400}, \"val\": {\"n_unique_x\": 38400, \"n_unique_y\": 16, \"n_batch/episode\": 300}, \"test\": {\"n_unique_x\": 38400, \"n_unique_y\": 16, \"n_batch/episode\": 300}}, \"target\": {\"train\": {\"n_unique_x\": 179200, \"n_unique_y\": 16, \"n_batch/episode\": 1400}, \"val\": {\"n_unique_x\": 38400, \"n_unique_y\": 16, \"n_batch/episode\": 300}, \"test\": {\"n_unique_x\": 38400, \"n_unique_y\": 16, \"n_batch/episode\": 300}}}}'"
      ]
     },
     "execution_count": 20,
     "metadata": {},
     "output_type": "execute_result"
    }
   ],
   "source": [
    "json.dumps(experiment)"
   ]
  }
 ],
 "metadata": {
  "celltoolbar": "Tags",
  "kernelspec": {
   "display_name": "Python 3 (ipykernel)",
   "language": "python",
   "name": "python3"
  },
  "language_info": {
   "codemirror_mode": {
    "name": "ipython",
    "version": 3
   },
   "file_extension": ".py",
   "mimetype": "text/x-python",
   "name": "python",
   "nbconvert_exporter": "python",
   "pygments_lexer": "ipython3",
   "version": "3.8.12"
  },
  "papermill": {
   "default_parameters": {},
   "duration": 225.830353,
   "end_time": "2022-03-26T07:24:35.936452",
   "environment_variables": {},
   "exception": null,
   "input_path": "/root/csc500-main/csc500-notebooks/templates/cnn_template.ipynb",
   "output_path": "trial.ipynb",
   "parameters": {
    "parameters": {
     "BEST_MODEL_PATH": "./best_model.pth",
     "NUM_LOGS_PER_EPOCH": 10,
     "batch_size": 128,
     "criteria_for_best": "target_accuracy",
     "dataset_seed": 420,
     "device": "cuda",
     "domains_source": [
      8,
      32,
      50,
      14,
      20,
      26,
      38,
      44
     ],
     "domains_target": [
      8,
      32,
      50,
      14,
      20,
      26,
      38,
      44
     ],
     "experiment_name": "cnn_2:oracle.run1_limited",
     "labels": [
      "3123D52",
      "3123D65",
      "3123D79",
      "3123D80",
      "3123D54",
      "3123D70",
      "3123D7B",
      "3123D89",
      "3123D58",
      "3123D76",
      "3123D7D",
      "3123EFE",
      "3123D64",
      "3123D78",
      "3123D7E",
      "3124E4A"
     ],
     "lr": 0.0001,
     "n_epoch": 50,
     "normalize_source": false,
     "normalize_target": false,
     "num_examples_per_domain_per_label_source": 2000,
     "num_examples_per_domain_per_label_target": 2000,
     "patience": 3,
     "pickle_name_source": "oracle.Run1_10kExamples_stratified_ds.2022A.pkl",
     "pickle_name_target": "oracle.Run1_10kExamples_stratified_ds.2022A.pkl",
     "seed": 420,
     "torch_default_dtype": "torch.float32",
     "x_net": [
      {
       "class": "nnReshape",
       "kargs": {
        "shape": [
         -1,
         1,
         2,
         256
        ]
       }
      },
      {
       "class": "Conv2d",
       "kargs": {
        "bias": false,
        "in_channels": 1,
        "kernel_size": [
         1,
         7
        ],
        "out_channels": 256,
        "padding": [
         0,
         3
        ]
       }
      },
      {
       "class": "ReLU",
       "kargs": {
        "inplace": true
       }
      },
      {
       "class": "BatchNorm2d",
       "kargs": {
        "num_features": 256
       }
      },
      {
       "class": "Conv2d",
       "kargs": {
        "bias": true,
        "in_channels": 256,
        "kernel_size": [
         2,
         7
        ],
        "out_channels": 80,
        "padding": [
         0,
         3
        ]
       }
      },
      {
       "class": "ReLU",
       "kargs": {
        "inplace": true
       }
      },
      {
       "class": "BatchNorm2d",
       "kargs": {
        "num_features": 80
       }
      },
      {
       "class": "Flatten",
       "kargs": {}
      },
      {
       "class": "Linear",
       "kargs": {
        "in_features": 20480,
        "out_features": 256
       }
      },
      {
       "class": "ReLU",
       "kargs": {
        "inplace": true
       }
      },
      {
       "class": "BatchNorm1d",
       "kargs": {
        "num_features": 256
       }
      },
      {
       "class": "Linear",
       "kargs": {
        "in_features": 256,
        "out_features": 16
       }
      }
     ]
    }
   },
   "start_time": "2022-03-26T07:20:50.106099",
   "version": "2.3.4"
  }
 },
 "nbformat": 4,
 "nbformat_minor": 5
}