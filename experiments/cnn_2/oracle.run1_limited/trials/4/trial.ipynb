{
 "cells": [
  {
   "cell_type": "code",
   "execution_count": 1,
   "id": "2324682e",
   "metadata": {
    "execution": {
     "iopub.execute_input": "2022-03-26T07:13:08.287096Z",
     "iopub.status.busy": "2022-03-26T07:13:08.275343Z",
     "iopub.status.idle": "2022-03-26T07:13:09.636258Z",
     "shell.execute_reply": "2022-03-26T07:13:09.636962Z"
    },
    "papermill": {
     "duration": 1.387166,
     "end_time": "2022-03-26T07:13:09.637409",
     "exception": false,
     "start_time": "2022-03-26T07:13:08.250243",
     "status": "completed"
    },
    "tags": []
   },
   "outputs": [],
   "source": [
    "import os, json, sys, time, random\n",
    "import numpy as np\n",
    "import torch\n",
    "from  easydict import EasyDict\n",
    "from math import floor\n",
    "from easydict import EasyDict\n",
    "\n",
    "from steves_utils.vanilla_train_eval_test_jig import  Vanilla_Train_Eval_Test_Jig\n",
    "\n",
    "from steves_utils.torch_utils import get_dataset_metrics, independent_accuracy_assesment\n",
    "from steves_models.configurable_vanilla import Configurable_Vanilla\n",
    "from steves_utils.torch_sequential_builder import build_sequential\n",
    "from steves_utils.lazy_map import Lazy_Map\n",
    "from steves_utils.sequence_aggregator import Sequence_Aggregator\n",
    "\n",
    "from steves_utils.stratified_dataset.traditional_accessor import Traditional_Accessor_Factory\n",
    "\n",
    "from steves_utils.cnn_do_report import (\n",
    "    get_loss_curve,\n",
    "    get_results_table,\n",
    "    get_parameters_table,\n",
    "    get_domain_accuracies,\n",
    ")\n",
    "\n",
    "from steves_utils.torch_utils import (\n",
    "    confusion_by_domain_over_dataloader,\n",
    "    independent_accuracy_assesment\n",
    ")\n",
    "\n",
    "from steves_utils.utils_v2 import (\n",
    "    per_domain_accuracy_from_confusion,\n",
    "    get_datasets_base_path\n",
    ")\n",
    "\n",
    "# from steves_utils.ptn_do_report import TBD"
   ]
  },
  {
   "cell_type": "code",
   "execution_count": 2,
   "id": "1b29e3fe",
   "metadata": {
    "execution": {
     "iopub.execute_input": "2022-03-26T07:13:09.676240Z",
     "iopub.status.busy": "2022-03-26T07:13:09.673018Z",
     "iopub.status.idle": "2022-03-26T07:13:09.678244Z",
     "shell.execute_reply": "2022-03-26T07:13:09.678852Z"
    },
    "papermill": {
     "duration": 0.02353,
     "end_time": "2022-03-26T07:13:09.679048",
     "exception": false,
     "start_time": "2022-03-26T07:13:09.655518",
     "status": "completed"
    },
    "tags": []
   },
   "outputs": [],
   "source": [
    "required_parameters = {\n",
    "    \"experiment_name\",\n",
    "    \"lr\",\n",
    "    \"device\",\n",
    "    \"dataset_seed\",\n",
    "    \"seed\",\n",
    "    \"labels\",\n",
    "    \"domains_target\",\n",
    "    \"domains_source\",\n",
    "    \"num_examples_per_domain_per_label_source\",\n",
    "    \"num_examples_per_domain_per_label_target\",\n",
    "    \"batch_size\",\n",
    "    \"n_epoch\",\n",
    "    \"patience\",\n",
    "    \"criteria_for_best\",\n",
    "    \"normalize_source\",\n",
    "    \"normalize_target\",\n",
    "    \"x_net\",\n",
    "    \"NUM_LOGS_PER_EPOCH\",\n",
    "    \"BEST_MODEL_PATH\",\n",
    "    \"pickle_name_source\",\n",
    "    \"pickle_name_target\",\n",
    "    \"torch_default_dtype\",\n",
    "}"
   ]
  },
  {
   "cell_type": "code",
   "execution_count": 3,
   "id": "670b5fb8",
   "metadata": {
    "execution": {
     "iopub.execute_input": "2022-03-26T07:13:09.726214Z",
     "iopub.status.busy": "2022-03-26T07:13:09.725267Z",
     "iopub.status.idle": "2022-03-26T07:13:09.732198Z",
     "shell.execute_reply": "2022-03-26T07:13:09.732912Z"
    },
    "papermill": {
     "duration": 0.035057,
     "end_time": "2022-03-26T07:13:09.733133",
     "exception": false,
     "start_time": "2022-03-26T07:13:09.698076",
     "status": "completed"
    },
    "tags": [
     "parameters"
    ]
   },
   "outputs": [],
   "source": [
    "from steves_utils.ORACLE.utils_v2 import (\n",
    "    ALL_SERIAL_NUMBERS,\n",
    "    ALL_DISTANCES_FEET_NARROWED,\n",
    ")\n",
    "\n",
    "standalone_parameters = {}\n",
    "standalone_parameters[\"experiment_name\"] = \"MANUAL CORES CNN\"\n",
    "standalone_parameters[\"lr\"] = 0.0001\n",
    "standalone_parameters[\"device\"] = \"cuda\"\n",
    "\n",
    "standalone_parameters[\"dataset_seed\"] = 1337\n",
    "standalone_parameters[\"seed\"] = 1337\n",
    "standalone_parameters[\"labels\"] = ALL_SERIAL_NUMBERS\n",
    "\n",
    "standalone_parameters[\"domains_source\"] = [8,32,50]\n",
    "standalone_parameters[\"domains_target\"] = [14,20,26,38,44,]\n",
    "\n",
    "standalone_parameters[\"num_examples_per_domain_per_label_source\"]=-1\n",
    "standalone_parameters[\"num_examples_per_domain_per_label_target\"]=-1\n",
    "\n",
    "standalone_parameters[\"pickle_name_source\"] = \"oracle.Run1_framed_2000Examples_stratified_ds.2022A.pkl\"\n",
    "standalone_parameters[\"pickle_name_target\"] = \"oracle.Run2_framed_2000Examples_stratified_ds.2022A.pkl\"\n",
    "\n",
    "standalone_parameters[\"torch_default_dtype\"] = \"torch.float32\" \n",
    "\n",
    "standalone_parameters[\"batch_size\"]=128\n",
    "\n",
    "standalone_parameters[\"n_epoch\"] = 3\n",
    "\n",
    "standalone_parameters[\"patience\"] = 10\n",
    "\n",
    "standalone_parameters[\"criteria_for_best\"] = \"target_accuracy\"\n",
    "standalone_parameters[\"normalize_source\"] = False\n",
    "standalone_parameters[\"normalize_target\"] = False\n",
    "\n",
    "standalone_parameters[\"x_net\"] =     [\n",
    "    {\"class\": \"nnReshape\", \"kargs\": {\"shape\":[-1, 1, 2, 256]}},\n",
    "    {\"class\": \"Conv2d\", \"kargs\": { \"in_channels\":1, \"out_channels\":256, \"kernel_size\":(1,7), \"bias\":False, \"padding\":(0,3), },},\n",
    "    {\"class\": \"ReLU\", \"kargs\": {\"inplace\": True}},\n",
    "    {\"class\": \"BatchNorm2d\", \"kargs\": {\"num_features\":256}},\n",
    "\n",
    "    {\"class\": \"Conv2d\", \"kargs\": { \"in_channels\":256, \"out_channels\":80, \"kernel_size\":(2,7), \"bias\":True, \"padding\":(0,3), },},\n",
    "    {\"class\": \"ReLU\", \"kargs\": {\"inplace\": True}},\n",
    "    {\"class\": \"BatchNorm2d\", \"kargs\": {\"num_features\":80}},\n",
    "    {\"class\": \"Flatten\", \"kargs\": {}},\n",
    "\n",
    "    {\"class\": \"Linear\", \"kargs\": {\"in_features\": 80*256, \"out_features\": 256}}, # 80 units per IQ pair\n",
    "    {\"class\": \"ReLU\", \"kargs\": {\"inplace\": True}},\n",
    "    {\"class\": \"BatchNorm1d\", \"kargs\": {\"num_features\":256}},\n",
    "\n",
    "    {\"class\": \"Linear\", \"kargs\": {\"in_features\": 256, \"out_features\": len(standalone_parameters[\"labels\"])}},\n",
    "]\n",
    "\n",
    "standalone_parameters[\"NUM_LOGS_PER_EPOCH\"] = 10\n",
    "standalone_parameters[\"BEST_MODEL_PATH\"] = \"./best_model.pth\""
   ]
  },
  {
   "cell_type": "code",
   "execution_count": 4,
   "id": "548da6fe",
   "metadata": {
    "execution": {
     "iopub.execute_input": "2022-03-26T07:13:09.784611Z",
     "iopub.status.busy": "2022-03-26T07:13:09.773667Z",
     "iopub.status.idle": "2022-03-26T07:13:09.786855Z",
     "shell.execute_reply": "2022-03-26T07:13:09.786128Z"
    },
    "papermill": {
     "duration": 0.030484,
     "end_time": "2022-03-26T07:13:09.787030",
     "exception": false,
     "start_time": "2022-03-26T07:13:09.756546",
     "status": "completed"
    },
    "tags": [
     "injected-parameters"
    ]
   },
   "outputs": [],
   "source": [
    "# Parameters\n",
    "parameters = {\n",
    "    \"experiment_name\": \"cnn_2:oracle.run1_limited\",\n",
    "    \"labels\": [\n",
    "        \"3123D52\",\n",
    "        \"3123D65\",\n",
    "        \"3123D79\",\n",
    "        \"3123D80\",\n",
    "        \"3123D54\",\n",
    "        \"3123D70\",\n",
    "        \"3123D7B\",\n",
    "        \"3123D89\",\n",
    "        \"3123D58\",\n",
    "        \"3123D76\",\n",
    "        \"3123D7D\",\n",
    "        \"3123EFE\",\n",
    "        \"3123D64\",\n",
    "        \"3123D78\",\n",
    "        \"3123D7E\",\n",
    "        \"3124E4A\",\n",
    "    ],\n",
    "    \"domains_source\": [8, 32, 50, 14, 20, 26, 38, 44],\n",
    "    \"domains_target\": [8, 32, 50, 14, 20, 26, 38, 44],\n",
    "    \"pickle_name_source\": \"oracle.Run1_10kExamples_stratified_ds.2022A.pkl\",\n",
    "    \"pickle_name_target\": \"oracle.Run1_10kExamples_stratified_ds.2022A.pkl\",\n",
    "    \"device\": \"cuda\",\n",
    "    \"lr\": 0.0001,\n",
    "    \"batch_size\": 128,\n",
    "    \"normalize_source\": False,\n",
    "    \"normalize_target\": False,\n",
    "    \"num_examples_per_domain_per_label_source\": 2000,\n",
    "    \"num_examples_per_domain_per_label_target\": 2000,\n",
    "    \"torch_default_dtype\": \"torch.float32\",\n",
    "    \"n_epoch\": 50,\n",
    "    \"patience\": 3,\n",
    "    \"criteria_for_best\": \"target_accuracy\",\n",
    "    \"x_net\": [\n",
    "        {\"class\": \"nnReshape\", \"kargs\": {\"shape\": [-1, 1, 2, 256]}},\n",
    "        {\n",
    "            \"class\": \"Conv2d\",\n",
    "            \"kargs\": {\n",
    "                \"in_channels\": 1,\n",
    "                \"out_channels\": 256,\n",
    "                \"kernel_size\": [1, 7],\n",
    "                \"bias\": False,\n",
    "                \"padding\": [0, 3],\n",
    "            },\n",
    "        },\n",
    "        {\"class\": \"ReLU\", \"kargs\": {\"inplace\": True}},\n",
    "        {\"class\": \"BatchNorm2d\", \"kargs\": {\"num_features\": 256}},\n",
    "        {\n",
    "            \"class\": \"Conv2d\",\n",
    "            \"kargs\": {\n",
    "                \"in_channels\": 256,\n",
    "                \"out_channels\": 80,\n",
    "                \"kernel_size\": [2, 7],\n",
    "                \"bias\": True,\n",
    "                \"padding\": [0, 3],\n",
    "            },\n",
    "        },\n",
    "        {\"class\": \"ReLU\", \"kargs\": {\"inplace\": True}},\n",
    "        {\"class\": \"BatchNorm2d\", \"kargs\": {\"num_features\": 80}},\n",
    "        {\"class\": \"Flatten\", \"kargs\": {}},\n",
    "        {\"class\": \"Linear\", \"kargs\": {\"in_features\": 20480, \"out_features\": 256}},\n",
    "        {\"class\": \"ReLU\", \"kargs\": {\"inplace\": True}},\n",
    "        {\"class\": \"BatchNorm1d\", \"kargs\": {\"num_features\": 256}},\n",
    "        {\"class\": \"Linear\", \"kargs\": {\"in_features\": 256, \"out_features\": 16}},\n",
    "    ],\n",
    "    \"NUM_LOGS_PER_EPOCH\": 10,\n",
    "    \"BEST_MODEL_PATH\": \"./best_model.pth\",\n",
    "    \"dataset_seed\": 500,\n",
    "    \"seed\": 500,\n",
    "}\n"
   ]
  },
  {
   "cell_type": "code",
   "execution_count": 5,
   "id": "759b56ec",
   "metadata": {
    "execution": {
     "iopub.execute_input": "2022-03-26T07:13:09.826668Z",
     "iopub.status.busy": "2022-03-26T07:13:09.826270Z",
     "iopub.status.idle": "2022-03-26T07:13:09.827779Z",
     "shell.execute_reply": "2022-03-26T07:13:09.828093Z"
    },
    "papermill": {
     "duration": 0.021367,
     "end_time": "2022-03-26T07:13:09.828197",
     "exception": false,
     "start_time": "2022-03-26T07:13:09.806830",
     "status": "completed"
    },
    "tags": []
   },
   "outputs": [],
   "source": [
    "# Set this to True if you want to run this template directly\n",
    "STANDALONE = False\n",
    "if STANDALONE:\n",
    "    print(\"parameters not injected, running with standalone_parameters\")\n",
    "    parameters = standalone_parameters\n",
    "\n",
    "if not 'parameters' in locals() and not 'parameters' in globals():\n",
    "    raise Exception(\"Parameter injection failed\")\n",
    "\n",
    "#Use an easy dict for all the parameters\n",
    "p = EasyDict(parameters)\n",
    "\n",
    "supplied_keys = set(p.keys())\n",
    "\n",
    "if  supplied_keys != required_parameters:\n",
    "    print(\"Parameters are incorrect\")\n",
    "    if len(supplied_keys - required_parameters)>0: print(\"Shouldn't have:\", str(supplied_keys - required_parameters))\n",
    "    if len(required_parameters - supplied_keys)>0: print(\"Need to have:\", str(required_parameters - supplied_keys))\n",
    "    raise RuntimeError(\"Parameters are incorrect\")\n",
    "\n"
   ]
  },
  {
   "cell_type": "code",
   "execution_count": 6,
   "id": "d5c66a71",
   "metadata": {
    "execution": {
     "iopub.execute_input": "2022-03-26T07:13:09.866139Z",
     "iopub.status.busy": "2022-03-26T07:13:09.865755Z",
     "iopub.status.idle": "2022-03-26T07:13:09.868247Z",
     "shell.execute_reply": "2022-03-26T07:13:09.868566Z"
    },
    "papermill": {
     "duration": 0.021653,
     "end_time": "2022-03-26T07:13:09.868716",
     "exception": false,
     "start_time": "2022-03-26T07:13:09.847063",
     "status": "completed"
    },
    "tags": []
   },
   "outputs": [],
   "source": [
    "###################################\n",
    "# Set the RNGs and make it all deterministic\n",
    "###################################\n",
    "np.random.seed(p.seed)\n",
    "random.seed(p.seed)\n",
    "torch.manual_seed(p.seed)\n",
    "\n",
    "torch.use_deterministic_algorithms(True) "
   ]
  },
  {
   "cell_type": "code",
   "execution_count": 7,
   "id": "92a65876",
   "metadata": {
    "execution": {
     "iopub.execute_input": "2022-03-26T07:13:09.907083Z",
     "iopub.status.busy": "2022-03-26T07:13:09.906703Z",
     "iopub.status.idle": "2022-03-26T07:13:09.908705Z",
     "shell.execute_reply": "2022-03-26T07:13:09.909176Z"
    },
    "papermill": {
     "duration": 0.02181,
     "end_time": "2022-03-26T07:13:09.909322",
     "exception": false,
     "start_time": "2022-03-26T07:13:09.887512",
     "status": "completed"
    },
    "tags": []
   },
   "outputs": [],
   "source": [
    "torch.set_default_dtype(eval(p.torch_default_dtype))"
   ]
  },
  {
   "cell_type": "code",
   "execution_count": 8,
   "id": "f1a32f01",
   "metadata": {
    "execution": {
     "iopub.execute_input": "2022-03-26T07:13:09.947124Z",
     "iopub.status.busy": "2022-03-26T07:13:09.946738Z",
     "iopub.status.idle": "2022-03-26T07:13:09.986505Z",
     "shell.execute_reply": "2022-03-26T07:13:09.985533Z"
    },
    "papermill": {
     "duration": 0.058339,
     "end_time": "2022-03-26T07:13:09.986757",
     "exception": false,
     "start_time": "2022-03-26T07:13:09.928418",
     "status": "completed"
    },
    "tags": []
   },
   "outputs": [],
   "source": [
    "###################################\n",
    "# Build the network(s)\n",
    "# Note: It's critical to do this AFTER setting the RNG\n",
    "###################################\n",
    "x_net = build_sequential(p.x_net)"
   ]
  },
  {
   "cell_type": "code",
   "execution_count": 9,
   "id": "a276cd83",
   "metadata": {
    "execution": {
     "iopub.execute_input": "2022-03-26T07:13:10.025443Z",
     "iopub.status.busy": "2022-03-26T07:13:10.025062Z",
     "iopub.status.idle": "2022-03-26T07:13:10.027150Z",
     "shell.execute_reply": "2022-03-26T07:13:10.026663Z"
    },
    "papermill": {
     "duration": 0.019707,
     "end_time": "2022-03-26T07:13:10.027268",
     "exception": false,
     "start_time": "2022-03-26T07:13:10.007561",
     "status": "completed"
    },
    "tags": []
   },
   "outputs": [],
   "source": [
    "start_time_secs = time.time()"
   ]
  },
  {
   "cell_type": "code",
   "execution_count": 10,
   "id": "de702e48",
   "metadata": {
    "execution": {
     "iopub.execute_input": "2022-03-26T07:13:10.076106Z",
     "iopub.status.busy": "2022-03-26T07:13:10.075209Z",
     "iopub.status.idle": "2022-03-26T07:13:22.825644Z",
     "shell.execute_reply": "2022-03-26T07:13:22.824818Z"
    },
    "papermill": {
     "duration": 12.779667,
     "end_time": "2022-03-26T07:13:22.825848",
     "exception": false,
     "start_time": "2022-03-26T07:13:10.046181",
     "status": "completed"
    },
    "tags": []
   },
   "outputs": [],
   "source": [
    "def wrap_in_dataloader(p, ds):\n",
    "    return torch.utils.data.DataLoader(\n",
    "        ds,\n",
    "        batch_size=p.batch_size,\n",
    "        shuffle=True,\n",
    "        num_workers=1,\n",
    "        persistent_workers=True,\n",
    "        prefetch_factor=50,\n",
    "        pin_memory=True\n",
    "    )\n",
    "\n",
    "taf_source = Traditional_Accessor_Factory(\n",
    "    labels=p.labels,\n",
    "    domains=p.domains_source,\n",
    "    num_examples_per_domain_per_label=p.num_examples_per_domain_per_label_source,\n",
    "    pickle_path=os.path.join(get_datasets_base_path(), p.pickle_name_source),\n",
    "    seed=p.dataset_seed\n",
    ")\n",
    "train_original_source, val_original_source, test_original_source = \\\n",
    "    taf_source.get_train(), taf_source.get_val(), taf_source.get_test()\n",
    "\n",
    "\n",
    "taf_target = Traditional_Accessor_Factory(\n",
    "    labels=p.labels,\n",
    "    domains=p.domains_target,\n",
    "    num_examples_per_domain_per_label=p.num_examples_per_domain_per_label_source,\n",
    "    pickle_path=os.path.join(get_datasets_base_path(), p.pickle_name_target),\n",
    "    seed=p.dataset_seed\n",
    ")\n",
    "train_original_target, val_original_target, test_original_target = \\\n",
    "    taf_target.get_train(), taf_target.get_val(), taf_target.get_test()\n",
    "\n",
    "\n",
    "# For CNN We only use X and Y. And we only train on the source.\n",
    "# Properly form the data using a transform lambda and Lazy_Map. Finally wrap them in a dataloader\n",
    "\n",
    "transform_lambda = lambda ex: ex[:2] # Strip the tuple to just (x,y)\n",
    "\n",
    "\n",
    "train_processed_source = wrap_in_dataloader(\n",
    "    p,\n",
    "    Lazy_Map(train_original_source, transform_lambda)\n",
    ")\n",
    "val_processed_source = wrap_in_dataloader(\n",
    "    p,\n",
    "    Lazy_Map(val_original_source, transform_lambda)\n",
    ")\n",
    "test_processed_source = wrap_in_dataloader(\n",
    "    p,\n",
    "    Lazy_Map(test_original_source, transform_lambda)\n",
    ")\n",
    "\n",
    "train_processed_target = wrap_in_dataloader(\n",
    "    p,\n",
    "    Lazy_Map(train_original_target, transform_lambda)\n",
    ")\n",
    "val_processed_target = wrap_in_dataloader(\n",
    "    p,\n",
    "    Lazy_Map(val_original_target, transform_lambda)\n",
    ")\n",
    "test_processed_target  = wrap_in_dataloader(\n",
    "    p,\n",
    "    Lazy_Map(test_original_target, transform_lambda)\n",
    ")\n",
    "\n",
    "\n",
    "\n",
    "datasets = EasyDict({\n",
    "    \"source\": {\n",
    "        \"original\": {\"train\":train_original_source, \"val\":val_original_source, \"test\":test_original_source},\n",
    "        \"processed\": {\"train\":train_processed_source, \"val\":val_processed_source, \"test\":test_processed_source}\n",
    "    },\n",
    "    \"target\": {\n",
    "        \"original\": {\"train\":train_original_target, \"val\":val_original_target, \"test\":test_original_target},\n",
    "        \"processed\": {\"train\":train_processed_target, \"val\":val_processed_target, \"test\":test_processed_target}\n",
    "    },\n",
    "})"
   ]
  },
  {
   "cell_type": "code",
   "execution_count": 11,
   "id": "a11b26bd",
   "metadata": {
    "execution": {
     "iopub.execute_input": "2022-03-26T07:13:22.907772Z",
     "iopub.status.busy": "2022-03-26T07:13:22.906861Z",
     "iopub.status.idle": "2022-03-26T07:13:28.439907Z",
     "shell.execute_reply": "2022-03-26T07:13:28.439292Z"
    },
    "papermill": {
     "duration": 5.593572,
     "end_time": "2022-03-26T07:13:28.440058",
     "exception": false,
     "start_time": "2022-03-26T07:13:22.846486",
     "status": "completed"
    },
    "tags": []
   },
   "outputs": [
    {
     "data": {
      "text/plain": [
       "torch.float32"
      ]
     },
     "execution_count": 11,
     "metadata": {},
     "output_type": "execute_result"
    }
   ],
   "source": [
    "ep = next(iter(test_processed_target))\n",
    "ep[0].dtype"
   ]
  },
  {
   "cell_type": "code",
   "execution_count": 12,
   "id": "19425fad",
   "metadata": {
    "execution": {
     "iopub.execute_input": "2022-03-26T07:13:28.479970Z",
     "iopub.status.busy": "2022-03-26T07:13:28.479582Z",
     "iopub.status.idle": "2022-03-26T07:13:28.528494Z",
     "shell.execute_reply": "2022-03-26T07:13:28.527670Z"
    },
    "papermill": {
     "duration": 0.07038,
     "end_time": "2022-03-26T07:13:28.528687",
     "exception": false,
     "start_time": "2022-03-26T07:13:28.458307",
     "status": "completed"
    },
    "tags": []
   },
   "outputs": [],
   "source": [
    "model = Configurable_Vanilla(\n",
    "    x_net=x_net,\n",
    "    label_loss_object=torch.nn.NLLLoss(),\n",
    "    learning_rate=p.lr\n",
    ")"
   ]
  },
  {
   "cell_type": "code",
   "execution_count": 13,
   "id": "7f6d4f2c",
   "metadata": {
    "execution": {
     "iopub.execute_input": "2022-03-26T07:13:28.572045Z",
     "iopub.status.busy": "2022-03-26T07:13:28.571649Z",
     "iopub.status.idle": "2022-03-26T07:16:15.448946Z",
     "shell.execute_reply": "2022-03-26T07:16:15.449634Z"
    },
    "papermill": {
     "duration": 166.898926,
     "end_time": "2022-03-26T07:16:15.449839",
     "exception": false,
     "start_time": "2022-03-26T07:13:28.550913",
     "status": "completed"
    },
    "tags": []
   },
   "outputs": [
    {
     "name": "stdout",
     "output_type": "stream",
     "text": [
      "epoch: 1, [batch: 1 / 1400], examples_per_second: 624.1165, train_label_loss: 2.7776, \n"
     ]
    },
    {
     "name": "stdout",
     "output_type": "stream",
     "text": [
      "epoch: 1, [batch: 140 / 1400], examples_per_second: 11624.5341, train_label_loss: 2.7215, \n"
     ]
    },
    {
     "name": "stdout",
     "output_type": "stream",
     "text": [
      "epoch: 1, [batch: 280 / 1400], examples_per_second: 11687.3239, train_label_loss: 2.6795, \n"
     ]
    },
    {
     "name": "stdout",
     "output_type": "stream",
     "text": [
      "epoch: 1, [batch: 420 / 1400], examples_per_second: 11691.1087, train_label_loss: 2.6665, \n"
     ]
    },
    {
     "name": "stdout",
     "output_type": "stream",
     "text": [
      "epoch: 1, [batch: 560 / 1400], examples_per_second: 11725.0987, train_label_loss: 2.6275, \n"
     ]
    },
    {
     "name": "stdout",
     "output_type": "stream",
     "text": [
      "epoch: 1, [batch: 700 / 1400], examples_per_second: 11720.9883, train_label_loss: 2.6005, \n"
     ]
    },
    {
     "name": "stdout",
     "output_type": "stream",
     "text": [
      "epoch: 1, [batch: 840 / 1400], examples_per_second: 11632.8953, train_label_loss: 2.5212, \n"
     ]
    },
    {
     "name": "stdout",
     "output_type": "stream",
     "text": [
      "epoch: 1, [batch: 980 / 1400], examples_per_second: 11732.6577, train_label_loss: 2.5801, \n"
     ]
    },
    {
     "name": "stdout",
     "output_type": "stream",
     "text": [
      "epoch: 1, [batch: 1120 / 1400], examples_per_second: 11638.6559, train_label_loss: 2.5713, \n"
     ]
    },
    {
     "name": "stdout",
     "output_type": "stream",
     "text": [
      "epoch: 1, [batch: 1260 / 1400], examples_per_second: 11603.5880, train_label_loss: 2.5063, \n"
     ]
    },
    {
     "name": "stdout",
     "output_type": "stream",
     "text": [
      "=============================================================\n",
      "epoch: 1, source_val_acc_label: 0.1923, source_val_label_loss: 2.4778, target_val_acc_label: 0.1923, target_val_label_loss: 2.4778, \n",
      "=============================================================\n"
     ]
    },
    {
     "name": "stdout",
     "output_type": "stream",
     "text": [
      "New best\n",
      "epoch: 2, [batch: 1 / 1400], examples_per_second: 54.7467, train_label_loss: 2.4195, \n"
     ]
    },
    {
     "name": "stdout",
     "output_type": "stream",
     "text": [
      "epoch: 2, [batch: 140 / 1400], examples_per_second: 11644.0527, train_label_loss: 2.4267, \n"
     ]
    },
    {
     "name": "stdout",
     "output_type": "stream",
     "text": [
      "epoch: 2, [batch: 280 / 1400], examples_per_second: 11650.8679, train_label_loss: 2.3998, \n"
     ]
    },
    {
     "name": "stdout",
     "output_type": "stream",
     "text": [
      "epoch: 2, [batch: 420 / 1400], examples_per_second: 11553.7998, train_label_loss: 2.3703, \n"
     ]
    },
    {
     "name": "stdout",
     "output_type": "stream",
     "text": [
      "epoch: 2, [batch: 560 / 1400], examples_per_second: 11684.9800, train_label_loss: 2.3649, \n"
     ]
    },
    {
     "name": "stdout",
     "output_type": "stream",
     "text": [
      "epoch: 2, [batch: 700 / 1400], examples_per_second: 11641.3076, train_label_loss: 2.3984, \n"
     ]
    },
    {
     "name": "stdout",
     "output_type": "stream",
     "text": [
      "epoch: 2, [batch: 840 / 1400], examples_per_second: 11628.7503, train_label_loss: 2.2763, \n"
     ]
    },
    {
     "name": "stdout",
     "output_type": "stream",
     "text": [
      "epoch: 2, [batch: 980 / 1400], examples_per_second: 11514.3278, train_label_loss: 2.1837, \n"
     ]
    },
    {
     "name": "stdout",
     "output_type": "stream",
     "text": [
      "epoch: 2, [batch: 1120 / 1400], examples_per_second: 11533.8522, train_label_loss: 2.0849, \n"
     ]
    },
    {
     "name": "stdout",
     "output_type": "stream",
     "text": [
      "epoch: 2, [batch: 1260 / 1400], examples_per_second: 11584.8786, train_label_loss: 2.1081, \n"
     ]
    },
    {
     "name": "stdout",
     "output_type": "stream",
     "text": [
      "=============================================================\n",
      "epoch: 2, source_val_acc_label: 0.3022, source_val_label_loss: 2.0839, target_val_acc_label: 0.3022, target_val_label_loss: 2.0839, \n",
      "=============================================================\n"
     ]
    },
    {
     "name": "stdout",
     "output_type": "stream",
     "text": [
      "New best\n",
      "epoch: 3, [batch: 1 / 1400], examples_per_second: 63.0261, train_label_loss: 1.9505, \n"
     ]
    },
    {
     "name": "stdout",
     "output_type": "stream",
     "text": [
      "epoch: 3, [batch: 140 / 1400], examples_per_second: 11523.8132, train_label_loss: 1.8749, \n"
     ]
    },
    {
     "name": "stdout",
     "output_type": "stream",
     "text": [
      "epoch: 3, [batch: 280 / 1400], examples_per_second: 11581.4156, train_label_loss: 1.8680, \n"
     ]
    },
    {
     "name": "stdout",
     "output_type": "stream",
     "text": [
      "epoch: 3, [batch: 420 / 1400], examples_per_second: 11547.8053, train_label_loss: 1.8470, \n"
     ]
    },
    {
     "name": "stdout",
     "output_type": "stream",
     "text": [
      "epoch: 3, [batch: 560 / 1400], examples_per_second: 11433.6682, train_label_loss: 1.9445, \n"
     ]
    },
    {
     "name": "stdout",
     "output_type": "stream",
     "text": [
      "epoch: 3, [batch: 700 / 1400], examples_per_second: 11576.6243, train_label_loss: 1.8516, \n"
     ]
    },
    {
     "name": "stdout",
     "output_type": "stream",
     "text": [
      "epoch: 3, [batch: 840 / 1400], examples_per_second: 11577.2074, train_label_loss: 2.0242, \n"
     ]
    },
    {
     "name": "stdout",
     "output_type": "stream",
     "text": [
      "epoch: 3, [batch: 980 / 1400], examples_per_second: 11549.8229, train_label_loss: 1.9561, \n"
     ]
    },
    {
     "name": "stdout",
     "output_type": "stream",
     "text": [
      "epoch: 3, [batch: 1120 / 1400], examples_per_second: 11694.5649, train_label_loss: 1.7177, \n"
     ]
    },
    {
     "name": "stdout",
     "output_type": "stream",
     "text": [
      "epoch: 3, [batch: 1260 / 1400], examples_per_second: 11641.7006, train_label_loss: 1.6582, \n"
     ]
    },
    {
     "name": "stdout",
     "output_type": "stream",
     "text": [
      "=============================================================\n",
      "epoch: 3, source_val_acc_label: 0.4051, source_val_label_loss: 1.7225, target_val_acc_label: 0.4051, target_val_label_loss: 1.7225, \n",
      "=============================================================\n"
     ]
    },
    {
     "name": "stdout",
     "output_type": "stream",
     "text": [
      "New best\n",
      "epoch: 4, [batch: 1 / 1400], examples_per_second: 62.9618, train_label_loss: 1.6219, \n"
     ]
    },
    {
     "name": "stdout",
     "output_type": "stream",
     "text": [
      "epoch: 4, [batch: 140 / 1400], examples_per_second: 11540.6080, train_label_loss: 1.5317, \n"
     ]
    },
    {
     "name": "stdout",
     "output_type": "stream",
     "text": [
      "epoch: 4, [batch: 280 / 1400], examples_per_second: 11607.4246, train_label_loss: 1.7919, \n"
     ]
    },
    {
     "name": "stdout",
     "output_type": "stream",
     "text": [
      "epoch: 4, [batch: 420 / 1400], examples_per_second: 11723.7764, train_label_loss: 1.6723, \n"
     ]
    },
    {
     "name": "stdout",
     "output_type": "stream",
     "text": [
      "epoch: 4, [batch: 560 / 1400], examples_per_second: 11672.1544, train_label_loss: 1.4848, \n"
     ]
    },
    {
     "name": "stdout",
     "output_type": "stream",
     "text": [
      "epoch: 4, [batch: 700 / 1400], examples_per_second: 11684.5059, train_label_loss: 1.5181, \n"
     ]
    },
    {
     "name": "stdout",
     "output_type": "stream",
     "text": [
      "epoch: 4, [batch: 840 / 1400], examples_per_second: 11690.1759, train_label_loss: 1.8614, \n"
     ]
    },
    {
     "name": "stdout",
     "output_type": "stream",
     "text": [
      "epoch: 4, [batch: 980 / 1400], examples_per_second: 11729.4004, train_label_loss: 1.4907, \n"
     ]
    },
    {
     "name": "stdout",
     "output_type": "stream",
     "text": [
      "epoch: 4, [batch: 1120 / 1400], examples_per_second: 11666.2283, train_label_loss: 1.3626, \n"
     ]
    },
    {
     "name": "stdout",
     "output_type": "stream",
     "text": [
      "epoch: 4, [batch: 1260 / 1400], examples_per_second: 11681.0956, train_label_loss: 1.5490, \n"
     ]
    },
    {
     "name": "stdout",
     "output_type": "stream",
     "text": [
      "=============================================================\n",
      "epoch: 4, source_val_acc_label: 0.4738, source_val_label_loss: 1.5273, target_val_acc_label: 0.4738, target_val_label_loss: 1.5273, \n",
      "=============================================================\n"
     ]
    },
    {
     "name": "stdout",
     "output_type": "stream",
     "text": [
      "New best\n",
      "epoch: 5, [batch: 1 / 1400], examples_per_second: 64.1978, train_label_loss: 1.2583, \n"
     ]
    },
    {
     "name": "stdout",
     "output_type": "stream",
     "text": [
      "epoch: 5, [batch: 140 / 1400], examples_per_second: 11689.6175, train_label_loss: 1.2277, \n"
     ]
    },
    {
     "name": "stdout",
     "output_type": "stream",
     "text": [
      "epoch: 5, [batch: 280 / 1400], examples_per_second: 11679.8304, train_label_loss: 1.2517, \n"
     ]
    },
    {
     "name": "stdout",
     "output_type": "stream",
     "text": [
      "epoch: 5, [batch: 420 / 1400], examples_per_second: 11718.7223, train_label_loss: 1.1299, \n"
     ]
    },
    {
     "name": "stdout",
     "output_type": "stream",
     "text": [
      "epoch: 5, [batch: 560 / 1400], examples_per_second: 11714.7771, train_label_loss: 1.1656, \n"
     ]
    },
    {
     "name": "stdout",
     "output_type": "stream",
     "text": [
      "epoch: 5, [batch: 700 / 1400], examples_per_second: 11673.5231, train_label_loss: 1.1094, \n"
     ]
    },
    {
     "name": "stdout",
     "output_type": "stream",
     "text": [
      "epoch: 5, [batch: 840 / 1400], examples_per_second: 11729.3785, train_label_loss: 1.3158, \n"
     ]
    },
    {
     "name": "stdout",
     "output_type": "stream",
     "text": [
      "epoch: 5, [batch: 980 / 1400], examples_per_second: 11791.8561, train_label_loss: 1.2354, \n"
     ]
    },
    {
     "name": "stdout",
     "output_type": "stream",
     "text": [
      "epoch: 5, [batch: 1120 / 1400], examples_per_second: 11692.3746, train_label_loss: 1.0057, \n"
     ]
    },
    {
     "name": "stdout",
     "output_type": "stream",
     "text": [
      "epoch: 5, [batch: 1260 / 1400], examples_per_second: 11712.6394, train_label_loss: 1.1594, \n"
     ]
    },
    {
     "name": "stdout",
     "output_type": "stream",
     "text": [
      "=============================================================\n",
      "epoch: 5, source_val_acc_label: 0.5090, source_val_label_loss: 1.4099, target_val_acc_label: 0.5090, target_val_label_loss: 1.4099, \n",
      "=============================================================\n"
     ]
    },
    {
     "name": "stdout",
     "output_type": "stream",
     "text": [
      "New best\n",
      "epoch: 6, [batch: 1 / 1400], examples_per_second: 66.6623, train_label_loss: 0.8952, \n"
     ]
    },
    {
     "name": "stdout",
     "output_type": "stream",
     "text": [
      "epoch: 6, [batch: 140 / 1400], examples_per_second: 12530.3405, train_label_loss: 0.8701, \n"
     ]
    },
    {
     "name": "stdout",
     "output_type": "stream",
     "text": [
      "epoch: 6, [batch: 280 / 1400], examples_per_second: 12451.1975, train_label_loss: 0.9851, \n"
     ]
    },
    {
     "name": "stdout",
     "output_type": "stream",
     "text": [
      "epoch: 6, [batch: 420 / 1400], examples_per_second: 12421.8843, train_label_loss: 0.8326, \n"
     ]
    },
    {
     "name": "stdout",
     "output_type": "stream",
     "text": [
      "epoch: 6, [batch: 560 / 1400], examples_per_second: 12631.5010, train_label_loss: 0.9058, \n"
     ]
    },
    {
     "name": "stdout",
     "output_type": "stream",
     "text": [
      "epoch: 6, [batch: 700 / 1400], examples_per_second: 12588.8980, train_label_loss: 1.2640, \n"
     ]
    },
    {
     "name": "stdout",
     "output_type": "stream",
     "text": [
      "epoch: 6, [batch: 840 / 1400], examples_per_second: 12611.0003, train_label_loss: 0.9513, \n"
     ]
    },
    {
     "name": "stdout",
     "output_type": "stream",
     "text": [
      "epoch: 6, [batch: 980 / 1400], examples_per_second: 11080.4451, train_label_loss: 1.1482, \n"
     ]
    },
    {
     "name": "stdout",
     "output_type": "stream",
     "text": [
      "epoch: 6, [batch: 1120 / 1400], examples_per_second: 10675.4973, train_label_loss: 0.8990, \n"
     ]
    },
    {
     "name": "stdout",
     "output_type": "stream",
     "text": [
      "epoch: 6, [batch: 1260 / 1400], examples_per_second: 10687.9650, train_label_loss: 0.9525, \n"
     ]
    },
    {
     "name": "stdout",
     "output_type": "stream",
     "text": [
      "=============================================================\n",
      "epoch: 6, source_val_acc_label: 0.4913, source_val_label_loss: 1.4523, target_val_acc_label: 0.4913, target_val_label_loss: 1.4523, \n",
      "=============================================================\n"
     ]
    },
    {
     "name": "stdout",
     "output_type": "stream",
     "text": [
      "epoch: 7, [batch: 1 / 1400], examples_per_second: 57.8733, train_label_loss: 0.7645, \n"
     ]
    },
    {
     "name": "stdout",
     "output_type": "stream",
     "text": [
      "epoch: 7, [batch: 140 / 1400], examples_per_second: 10603.1353, train_label_loss: 0.6868, \n"
     ]
    },
    {
     "name": "stdout",
     "output_type": "stream",
     "text": [
      "epoch: 7, [batch: 280 / 1400], examples_per_second: 10568.9655, train_label_loss: 0.7816, \n"
     ]
    },
    {
     "name": "stdout",
     "output_type": "stream",
     "text": [
      "epoch: 7, [batch: 420 / 1400], examples_per_second: 10671.6671, train_label_loss: 0.8248, \n"
     ]
    },
    {
     "name": "stdout",
     "output_type": "stream",
     "text": [
      "epoch: 7, [batch: 560 / 1400], examples_per_second: 10687.2295, train_label_loss: 0.7449, \n"
     ]
    },
    {
     "name": "stdout",
     "output_type": "stream",
     "text": [
      "epoch: 7, [batch: 700 / 1400], examples_per_second: 10690.2300, train_label_loss: 0.8037, \n"
     ]
    },
    {
     "name": "stdout",
     "output_type": "stream",
     "text": [
      "epoch: 7, [batch: 840 / 1400], examples_per_second: 10711.2445, train_label_loss: 0.9505, \n"
     ]
    },
    {
     "name": "stdout",
     "output_type": "stream",
     "text": [
      "epoch: 7, [batch: 980 / 1400], examples_per_second: 10721.2766, train_label_loss: 0.6748, \n"
     ]
    },
    {
     "name": "stdout",
     "output_type": "stream",
     "text": [
      "epoch: 7, [batch: 1120 / 1400], examples_per_second: 10772.7668, train_label_loss: 0.7002, \n"
     ]
    },
    {
     "name": "stdout",
     "output_type": "stream",
     "text": [
      "epoch: 7, [batch: 1260 / 1400], examples_per_second: 10698.4027, train_label_loss: 0.5930, \n"
     ]
    },
    {
     "name": "stdout",
     "output_type": "stream",
     "text": [
      "=============================================================\n",
      "epoch: 7, source_val_acc_label: 0.5002, source_val_label_loss: 1.4711, target_val_acc_label: 0.5002, target_val_label_loss: 1.4711, \n",
      "=============================================================\n"
     ]
    },
    {
     "name": "stdout",
     "output_type": "stream",
     "text": [
      "epoch: 8, [batch: 1 / 1400], examples_per_second: 57.4748, train_label_loss: 0.5667, \n"
     ]
    },
    {
     "name": "stdout",
     "output_type": "stream",
     "text": [
      "epoch: 8, [batch: 140 / 1400], examples_per_second: 10626.8788, train_label_loss: 0.7900, \n"
     ]
    },
    {
     "name": "stdout",
     "output_type": "stream",
     "text": [
      "epoch: 8, [batch: 280 / 1400], examples_per_second: 10651.7991, train_label_loss: 0.8238, \n"
     ]
    },
    {
     "name": "stdout",
     "output_type": "stream",
     "text": [
      "epoch: 8, [batch: 420 / 1400], examples_per_second: 10710.3715, train_label_loss: 0.7644, \n"
     ]
    },
    {
     "name": "stdout",
     "output_type": "stream",
     "text": [
      "epoch: 8, [batch: 560 / 1400], examples_per_second: 10728.6483, train_label_loss: 0.5562, \n"
     ]
    },
    {
     "name": "stdout",
     "output_type": "stream",
     "text": [
      "epoch: 8, [batch: 700 / 1400], examples_per_second: 10693.6278, train_label_loss: 0.6020, \n"
     ]
    },
    {
     "name": "stdout",
     "output_type": "stream",
     "text": [
      "epoch: 8, [batch: 840 / 1400], examples_per_second: 10737.5118, train_label_loss: 0.9834, \n"
     ]
    },
    {
     "name": "stdout",
     "output_type": "stream",
     "text": [
      "epoch: 8, [batch: 980 / 1400], examples_per_second: 10669.9173, train_label_loss: 0.6382, \n"
     ]
    },
    {
     "name": "stdout",
     "output_type": "stream",
     "text": [
      "epoch: 8, [batch: 1120 / 1400], examples_per_second: 10633.1556, train_label_loss: 0.5948, \n"
     ]
    },
    {
     "name": "stdout",
     "output_type": "stream",
     "text": [
      "epoch: 8, [batch: 1260 / 1400], examples_per_second: 10673.1749, train_label_loss: 0.5462, \n"
     ]
    },
    {
     "name": "stdout",
     "output_type": "stream",
     "text": [
      "=============================================================\n",
      "epoch: 8, source_val_acc_label: 0.4738, source_val_label_loss: 1.5937, target_val_acc_label: 0.4738, target_val_label_loss: 1.5937, \n",
      "=============================================================\n"
     ]
    },
    {
     "name": "stdout",
     "output_type": "stream",
     "text": [
      "epoch: 9, [batch: 1 / 1400], examples_per_second: 57.1568, train_label_loss: 0.3582, \n"
     ]
    },
    {
     "name": "stdout",
     "output_type": "stream",
     "text": [
      "epoch: 9, [batch: 140 / 1400], examples_per_second: 10587.1508, train_label_loss: 0.4140, \n"
     ]
    },
    {
     "name": "stdout",
     "output_type": "stream",
     "text": [
      "epoch: 9, [batch: 280 / 1400], examples_per_second: 10696.1662, train_label_loss: 0.4500, \n"
     ]
    },
    {
     "name": "stdout",
     "output_type": "stream",
     "text": [
      "epoch: 9, [batch: 420 / 1400], examples_per_second: 10683.4166, train_label_loss: 0.4437, \n"
     ]
    },
    {
     "name": "stdout",
     "output_type": "stream",
     "text": [
      "epoch: 9, [batch: 560 / 1400], examples_per_second: 10666.0123, train_label_loss: 0.5036, \n"
     ]
    },
    {
     "name": "stdout",
     "output_type": "stream",
     "text": [
      "epoch: 9, [batch: 700 / 1400], examples_per_second: 10697.4556, train_label_loss: 0.4541, \n"
     ]
    },
    {
     "name": "stdout",
     "output_type": "stream",
     "text": [
      "epoch: 9, [batch: 840 / 1400], examples_per_second: 10765.6396, train_label_loss: 0.4573, \n"
     ]
    },
    {
     "name": "stdout",
     "output_type": "stream",
     "text": [
      "epoch: 9, [batch: 980 / 1400], examples_per_second: 10674.6892, train_label_loss: 0.4225, \n"
     ]
    },
    {
     "name": "stdout",
     "output_type": "stream",
     "text": [
      "epoch: 9, [batch: 1120 / 1400], examples_per_second: 10689.7420, train_label_loss: 0.5065, \n"
     ]
    },
    {
     "name": "stdout",
     "output_type": "stream",
     "text": [
      "epoch: 9, [batch: 1260 / 1400], examples_per_second: 10717.4547, train_label_loss: 0.4134, \n"
     ]
    },
    {
     "name": "stdout",
     "output_type": "stream",
     "text": [
      "=============================================================\n",
      "epoch: 9, source_val_acc_label: 0.4917, source_val_label_loss: 1.6059, target_val_acc_label: 0.4917, target_val_label_loss: 1.6059, \n",
      "=============================================================\n"
     ]
    },
    {
     "name": "stdout",
     "output_type": "stream",
     "text": [
      "Patience (3) exhausted\n"
     ]
    }
   ],
   "source": [
    "jig = Vanilla_Train_Eval_Test_Jig(\n",
    "    model=model,\n",
    "    path_to_best_model=p.BEST_MODEL_PATH,\n",
    "    device=p.device,\n",
    "    label_loss_object=torch.nn.NLLLoss(),\n",
    ")\n",
    "\n",
    "jig.train(\n",
    "    train_iterable=datasets.source.processed.train,\n",
    "    source_val_iterable=datasets.source.processed.val,\n",
    "    target_val_iterable=datasets.target.processed.val,\n",
    "    patience=p.patience,\n",
    "    num_epochs=p.n_epoch,\n",
    "    num_logs_per_epoch=p.NUM_LOGS_PER_EPOCH,\n",
    "    criteria_for_best=p.criteria_for_best\n",
    ")"
   ]
  },
  {
   "cell_type": "code",
   "execution_count": 14,
   "id": "4bc2ac17",
   "metadata": {
    "execution": {
     "iopub.execute_input": "2022-03-26T07:16:15.565040Z",
     "iopub.status.busy": "2022-03-26T07:16:15.564650Z",
     "iopub.status.idle": "2022-03-26T07:16:15.567093Z",
     "shell.execute_reply": "2022-03-26T07:16:15.566757Z"
    },
    "papermill": {
     "duration": 0.062682,
     "end_time": "2022-03-26T07:16:15.567180",
     "exception": false,
     "start_time": "2022-03-26T07:16:15.504498",
     "status": "completed"
    },
    "tags": []
   },
   "outputs": [],
   "source": [
    "total_experiment_time_secs = time.time() - start_time_secs"
   ]
  },
  {
   "cell_type": "code",
   "execution_count": 15,
   "id": "cae88f23",
   "metadata": {
    "execution": {
     "iopub.execute_input": "2022-03-26T07:16:15.666597Z",
     "iopub.status.busy": "2022-03-26T07:16:15.661124Z",
     "iopub.status.idle": "2022-03-26T07:16:38.670742Z",
     "shell.execute_reply": "2022-03-26T07:16:38.669967Z"
    },
    "papermill": {
     "duration": 23.060057,
     "end_time": "2022-03-26T07:16:38.670930",
     "exception": false,
     "start_time": "2022-03-26T07:16:15.610873",
     "status": "completed"
    },
    "tags": []
   },
   "outputs": [],
   "source": [
    "source_test_label_accuracy, source_test_label_loss = jig.test(datasets.source.processed.test)\n",
    "target_test_label_accuracy, target_test_label_loss = jig.test(datasets.target.processed.test)\n",
    "\n",
    "source_val_label_accuracy, source_val_label_loss = jig.test(datasets.source.processed.val)\n",
    "target_val_label_accuracy, target_val_label_loss = jig.test(datasets.target.processed.val)\n",
    "\n",
    "history = jig.get_history()\n",
    "\n",
    "total_epochs_trained = len(history[\"epoch_indices\"])\n",
    "\n",
    "val_dl = wrap_in_dataloader(p, Sequence_Aggregator((datasets.source.original.val, datasets.target.original.val)))\n",
    "\n",
    "confusion = confusion_by_domain_over_dataloader(model, p.device, val_dl, forward_uses_domain=False)\n",
    "per_domain_accuracy = per_domain_accuracy_from_confusion(confusion)\n",
    "\n",
    "# Add a key to per_domain_accuracy for if it was a source domain\n",
    "for domain, accuracy in per_domain_accuracy.items():\n",
    "    per_domain_accuracy[domain] = {\n",
    "        \"accuracy\": accuracy,\n",
    "        \"source?\": domain in p.domains_source\n",
    "    }\n",
    "\n",
    "# Do an independent accuracy assesment JUST TO BE SURE!\n",
    "# _source_test_label_accuracy = independent_accuracy_assesment(model, datasets.source.processed.test, p.device)\n",
    "# _target_test_label_accuracy = independent_accuracy_assesment(model, datasets.target.processed.test, p.device)\n",
    "# _source_val_label_accuracy = independent_accuracy_assesment(model, datasets.source.processed.val, p.device)\n",
    "# _target_val_label_accuracy = independent_accuracy_assesment(model, datasets.target.processed.val, p.device)\n",
    "\n",
    "# assert(_source_test_label_accuracy == source_test_label_accuracy)\n",
    "# assert(_target_test_label_accuracy == target_test_label_accuracy)\n",
    "# assert(_source_val_label_accuracy == source_val_label_accuracy)\n",
    "# assert(_target_val_label_accuracy == target_val_label_accuracy)\n",
    "\n",
    "###################################\n",
    "# Write out the results\n",
    "###################################\n",
    "\n",
    "experiment = {\n",
    "    \"experiment_name\": p.experiment_name,\n",
    "    \"parameters\": p,\n",
    "    \"results\": {\n",
    "        \"source_test_label_accuracy\": source_test_label_accuracy,\n",
    "        \"source_test_label_loss\": source_test_label_loss,\n",
    "        \"target_test_label_accuracy\": target_test_label_accuracy,\n",
    "        \"target_test_label_loss\": target_test_label_loss,\n",
    "        \"source_val_label_accuracy\": source_val_label_accuracy,\n",
    "        \"source_val_label_loss\": source_val_label_loss,\n",
    "        \"target_val_label_accuracy\": target_val_label_accuracy,\n",
    "        \"target_val_label_loss\": target_val_label_loss,\n",
    "        \"total_epochs_trained\": total_epochs_trained,\n",
    "        \"total_experiment_time_secs\": total_experiment_time_secs,\n",
    "        \"confusion\": confusion,\n",
    "        \"per_domain_accuracy\": per_domain_accuracy,\n",
    "    },\n",
    "    \"history\": history,\n",
    "    \"dataset_metrics\": get_dataset_metrics(datasets, \"cnn\"),\n",
    "}"
   ]
  },
  {
   "cell_type": "code",
   "execution_count": 16,
   "id": "74c318cf",
   "metadata": {
    "execution": {
     "iopub.execute_input": "2022-03-26T07:16:38.790137Z",
     "iopub.status.busy": "2022-03-26T07:16:38.784029Z",
     "iopub.status.idle": "2022-03-26T07:16:38.978914Z",
     "shell.execute_reply": "2022-03-26T07:16:38.979624Z"
    },
    "papermill": {
     "duration": 0.259305,
     "end_time": "2022-03-26T07:16:38.979858",
     "exception": false,
     "start_time": "2022-03-26T07:16:38.720553",
     "status": "completed"
    },
    "tags": []
   },
   "outputs": [
    {
     "data": {
      "text/plain": [
       "<AxesSubplot:title={'center':'Source Train Label Loss vs Source Val Label Loss'}, xlabel='Epoch'>"
      ]
     },
     "execution_count": 16,
     "metadata": {},
     "output_type": "execute_result"
    },
    {
     "data": {
      "image/png": "[encoded data removed]",
      "text/plain": [
       "<Figure size 1080x504 with 1 Axes>"
      ]
     },
     "metadata": {
      "needs_background": "light"
     },
     "output_type": "display_data"
    }
   ],
   "source": [
    "get_loss_curve(experiment)"
   ]
  },
  {
   "cell_type": "code",
   "execution_count": 17,
   "id": "59376601",
   "metadata": {
    "execution": {
     "iopub.execute_input": "2022-03-26T07:16:39.101665Z",
     "iopub.status.busy": "2022-03-26T07:16:39.100863Z",
     "iopub.status.idle": "2022-03-26T07:16:39.364694Z",
     "shell.execute_reply": "2022-03-26T07:16:39.365371Z"
    },
    "papermill": {
     "duration": 0.337402,
     "end_time": "2022-03-26T07:16:39.365583",
     "exception": false,
     "start_time": "2022-03-26T07:16:39.028181",
     "status": "completed"
    },
    "tags": []
   },
   "outputs": [
    {
     "data": {
      "text/plain": [
       "<AxesSubplot:title={'center':'Results'}>"
      ]
     },
     "execution_count": 17,
     "metadata": {},
     "output_type": "execute_result"
    },
    {
     "data": {
      "image/png": "[encoded data removed]",
      "text/plain": [
       "<Figure size 1080x504 with 1 Axes>"
      ]
     },
     "metadata": {
      "needs_background": "light"
     },
     "output_type": "display_data"
    }
   ],
   "source": [
    "get_results_table(experiment)"
   ]
  },
  {
   "cell_type": "code",
   "execution_count": 18,
   "id": "e80c5c98",
   "metadata": {
    "execution": {
     "iopub.execute_input": "2022-03-26T07:16:39.488559Z",
     "iopub.status.busy": "2022-03-26T07:16:39.479307Z",
     "iopub.status.idle": "2022-03-26T07:16:39.648609Z",
     "shell.execute_reply": "2022-03-26T07:16:39.647872Z"
    },
    "papermill": {
     "duration": 0.233184,
     "end_time": "2022-03-26T07:16:39.648785",
     "exception": false,
     "start_time": "2022-03-26T07:16:39.415601",
     "status": "completed"
    },
    "tags": []
   },
   "outputs": [
    {
     "data": {
      "text/plain": [
       "<AxesSubplot:title={'center':'Per Domain Accuracy'}, xlabel='domain'>"
      ]
     },
     "execution_count": 18,
     "metadata": {},
     "output_type": "execute_result"
    },
    {
     "data": {
      "image/png": "[encoded data removed]",
      "text/plain": [
       "<Figure size 1080x504 with 1 Axes>"
      ]
     },
     "metadata": {
      "needs_background": "light"
     },
     "output_type": "display_data"
    }
   ],
   "source": [
    "get_domain_accuracies(experiment)"
   ]
  },
  {
   "cell_type": "code",
   "execution_count": 19,
   "id": "086fdd10",
   "metadata": {
    "execution": {
     "iopub.execute_input": "2022-03-26T07:16:39.750933Z",
     "iopub.status.busy": "2022-03-26T07:16:39.750565Z",
     "iopub.status.idle": "2022-03-26T07:16:39.754709Z",
     "shell.execute_reply": "2022-03-26T07:16:39.754388Z"
    },
    "papermill": {
     "duration": 0.055536,
     "end_time": "2022-03-26T07:16:39.754787",
     "exception": false,
     "start_time": "2022-03-26T07:16:39.699251",
     "status": "completed"
    },
    "tags": []
   },
   "outputs": [
    {
     "name": "stdout",
     "output_type": "stream",
     "text": [
      "Source Test Label Accuracy: 0.5059895833333333 Target Test Label Accuracy: 0.5059895833333333\n",
      "Source Val Label Accuracy: 0.508984375 Target Val Label Accuracy: 0.508984375\n"
     ]
    }
   ],
   "source": [
    "print(\"Source Test Label Accuracy:\", experiment[\"results\"][\"source_test_label_accuracy\"], \"Target Test Label Accuracy:\", experiment[\"results\"][\"target_test_label_accuracy\"])\n",
    "print(\"Source Val Label Accuracy:\", experiment[\"results\"][\"source_val_label_accuracy\"], \"Target Val Label Accuracy:\", experiment[\"results\"][\"target_val_label_accuracy\"])"
   ]
  },
  {
   "cell_type": "code",
   "execution_count": 20,
   "id": "9f450536",
   "metadata": {
    "execution": {
     "iopub.execute_input": "2022-03-26T07:16:39.857117Z",
     "iopub.status.busy": "2022-03-26T07:16:39.856757Z",
     "iopub.status.idle": "2022-03-26T07:16:39.862023Z",
     "shell.execute_reply": "2022-03-26T07:16:39.861209Z"
    },
    "papermill": {
     "duration": 0.057126,
     "end_time": "2022-03-26T07:16:39.862185",
     "exception": false,
     "start_time": "2022-03-26T07:16:39.805059",
     "status": "completed"
    },
    "tags": [
     "experiment_json"
    ]
   },
   "outputs": [
    {
     "data": {
      "text/plain": [
       "'{\"experiment_name\": \"cnn_2:oracle.run1_limited\", \"parameters\": {\"experiment_name\": \"cnn_2:oracle.run1_limited\", \"labels\": [\"3123D52\", \"3123D65\", \"3123D79\", \"3123D80\", \"3123D54\", \"3123D70\", \"3123D7B\", \"3123D89\", \"3123D58\", \"3123D76\", \"3123D7D\", \"3123EFE\", \"3123D64\", \"3123D78\", \"3123D7E\", \"3124E4A\"], \"domains_source\": [8, 32, 50, 14, 20, 26, 38, 44], \"domains_target\": [8, 32, 50, 14, 20, 26, 38, 44], \"pickle_name_source\": \"oracle.Run1_10kExamples_stratified_ds.2022A.pkl\", \"pickle_name_target\": \"oracle.Run1_10kExamples_stratified_ds.2022A.pkl\", \"device\": \"cuda\", \"lr\": 0.0001, \"batch_size\": 128, \"normalize_source\": false, \"normalize_target\": false, \"num_examples_per_domain_per_label_source\": 2000, \"num_examples_per_domain_per_label_target\": 2000, \"torch_default_dtype\": \"torch.float32\", \"n_epoch\": 50, \"patience\": 3, \"criteria_for_best\": \"target_accuracy\", \"x_net\": [{\"class\": \"nnReshape\", \"kargs\": {\"shape\": [-1, 1, 2, 256]}}, {\"class\": \"Conv2d\", \"kargs\": {\"in_channels\": 1, \"out_channels\": 256, \"kernel_size\": [1, 7], \"bias\": false, \"padding\": [0, 3]}}, {\"class\": \"ReLU\", \"kargs\": {\"inplace\": true}}, {\"class\": \"BatchNorm2d\", \"kargs\": {\"num_features\": 256}}, {\"class\": \"Conv2d\", \"kargs\": {\"in_channels\": 256, \"out_channels\": 80, \"kernel_size\": [2, 7], \"bias\": true, \"padding\": [0, 3]}}, {\"class\": \"ReLU\", \"kargs\": {\"inplace\": true}}, {\"class\": \"BatchNorm2d\", \"kargs\": {\"num_features\": 80}}, {\"class\": \"Flatten\", \"kargs\": {}}, {\"class\": \"Linear\", \"kargs\": {\"in_features\": 20480, \"out_features\": 256}}, {\"class\": \"ReLU\", \"kargs\": {\"inplace\": true}}, {\"class\": \"BatchNorm1d\", \"kargs\": {\"num_features\": 256}}, {\"class\": \"Linear\", \"kargs\": {\"in_features\": 256, \"out_features\": 16}}], \"NUM_LOGS_PER_EPOCH\": 10, \"BEST_MODEL_PATH\": \"./best_model.pth\", \"dataset_seed\": 500, \"seed\": 500}, \"results\": {\"source_test_label_accuracy\": 0.5059895833333333, \"source_test_label_loss\": 1.41217582821846, \"target_test_label_accuracy\": 0.5059895833333333, \"target_test_label_loss\": 1.4121758361657462, \"source_val_label_accuracy\": 0.508984375, \"source_val_label_loss\": 1.4099415715535482, \"target_val_label_accuracy\": 0.508984375, \"target_val_label_loss\": 1.4099415663878123, \"total_epochs_trained\": 9, \"total_experiment_time_secs\": 185.5397503376007, \"confusion\": {\"8\": {\"10\": {\"1\": 140, \"13\": 136, \"5\": 112, \"7\": 60, \"15\": 12, \"11\": 18, \"10\": 90, \"6\": 24, \"4\": 4, \"14\": 2, \"12\": 2}, \"6\": {\"7\": 286, \"8\": 36, \"6\": 96, \"11\": 106, \"4\": 38, \"13\": 18, \"10\": 10, \"1\": 6, \"14\": 4}, \"1\": {\"11\": 114, \"1\": 394, \"10\": 22, \"8\": 16, \"5\": 24, \"7\": 8, \"13\": 2, \"4\": 12, \"6\": 8}, \"9\": {\"9\": 594, \"12\": 6}, \"12\": {\"12\": 206, \"10\": 40, \"15\": 156, \"3\": 24, \"14\": 86, \"7\": 6, \"8\": 40, \"4\": 30, \"6\": 6, \"2\": 6}, \"4\": {\"7\": 106, \"14\": 70, \"11\": 148, \"8\": 56, \"13\": 12, \"6\": 118, \"4\": 64, \"10\": 16, \"1\": 10}, \"15\": {\"15\": 298, \"8\": 26, \"3\": 82, \"12\": 156, \"14\": 22, \"10\": 4, \"5\": 6, \"4\": 4, \"0\": 2}, \"3\": {\"3\": 398, \"0\": 92, \"4\": 78, \"10\": 10, \"12\": 4, \"14\": 2, \"2\": 12, \"15\": 2, \"8\": 2}, \"2\": {\"15\": 44, \"2\": 48, \"5\": 54, \"0\": 82, \"3\": 252, \"10\": 22, \"7\": 8, \"12\": 40, \"8\": 6, \"9\": 32, \"4\": 12}, \"5\": {\"5\": 396, \"1\": 150, \"4\": 2, \"10\": 22, \"7\": 4, \"6\": 4, \"13\": 14, \"12\": 2, \"11\": 6}, \"7\": {\"7\": 424, \"11\": 44, \"6\": 46, \"10\": 12, \"13\": 26, \"12\": 6, \"8\": 26, \"4\": 14, \"1\": 2}, \"8\": {\"8\": 528, \"11\": 58, \"6\": 2, \"4\": 8, \"1\": 2, \"7\": 2}, \"14\": {\"8\": 92, \"14\": 258, \"6\": 36, \"11\": 162, \"4\": 34, \"7\": 8, \"1\": 6, \"10\": 2, \"13\": 2}, \"0\": {\"14\": 16, \"0\": 572, \"8\": 12}, \"13\": {\"13\": 238, \"7\": 150, \"4\": 6, \"1\": 54, \"15\": 32, \"10\": 54, \"5\": 44, \"9\": 2, \"6\": 12, \"3\": 2, \"12\": 2, \"11\": 4}, \"11\": {\"11\": 304, \"1\": 142, \"8\": 132, \"14\": 10, \"3\": 2, \"4\": 2, \"6\": 6, \"10\": 2}}, \"26\": {\"7\": {\"3\": 194, \"7\": 200, \"2\": 68, \"8\": 16, \"0\": 72, \"14\": 12, \"4\": 10, \"13\": 14, \"9\": 8, \"10\": 2, \"6\": 4}, \"3\": {\"3\": 396, \"7\": 86, \"2\": 66, \"4\": 8, \"14\": 6, \"0\": 12, \"9\": 2, \"13\": 20, \"6\": 4}, \"1\": {\"1\": 400, \"10\": 52, \"14\": 94, \"0\": 14, \"15\": 26, \"6\": 12, \"9\": 2}, \"13\": {\"5\": 14, \"13\": 236, \"9\": 198, \"8\": 46, \"3\": 54, \"0\": 14, \"2\": 26, \"7\": 4, \"15\": 8}, \"5\": {\"5\": 320, \"15\": 204, \"6\": 54, \"11\": 8, \"14\": 4, \"9\": 8, \"1\": 2}, \"6\": {\"6\": 260, \"5\": 78, \"14\": 44, \"12\": 18, \"15\": 58, \"10\": 58, \"1\": 22, \"0\": 26, \"9\": 32, \"11\": 4}, \"15\": {\"5\": 164, \"6\": 148, \"14\": 22, \"15\": 194, \"9\": 42, \"2\": 4, \"1\": 6, \"11\": 4, \"0\": 8, \"10\": 8}, \"9\": {\"9\": 216, \"13\": 82, \"3\": 66, \"2\": 36, \"7\": 36, \"0\": 96, \"6\": 24, \"15\": 12, \"8\": 22, \"5\": 4, \"10\": 2, \"4\": 2, \"14\": 2}, \"8\": {\"7\": 112, \"9\": 82, \"0\": 164, \"5\": 2, \"2\": 56, \"3\": 66, \"10\": 24, \"13\": 18, \"8\": 20, \"4\": 10, \"14\": 12, \"6\": 24, \"12\": 2, \"1\": 2, \"15\": 6}, \"4\": {\"3\": 246, \"4\": 270, \"14\": 12, \"0\": 58, \"10\": 2, \"8\": 4, \"2\": 4, \"13\": 4}, \"10\": {\"1\": 70, \"9\": 26, \"6\": 116, \"14\": 128, \"15\": 38, \"10\": 144, \"0\": 64, \"5\": 10, \"7\": 2, \"2\": 2}, \"0\": {\"7\": 24, \"9\": 10, \"0\": 136, \"10\": 136, \"6\": 66, \"14\": 144, \"8\": 10, \"15\": 12, \"5\": 8, \"13\": 2, \"2\": 8, \"1\": 42, \"4\": 2}, \"12\": {\"12\": 590, \"10\": 2, \"0\": 8}, \"2\": {\"3\": 132, \"15\": 56, \"5\": 32, \"13\": 26, \"9\": 42, \"7\": 138, \"2\": 98, \"0\": 28, \"6\": 32, \"10\": 6, \"8\": 6, \"14\": 2, \"4\": 2}, \"11\": {\"6\": 230, \"11\": 302, \"12\": 52, \"2\": 16}, \"14\": {\"10\": 78, \"1\": 116, \"14\": 262, \"0\": 64, \"15\": 28, \"6\": 40, \"9\": 2, \"8\": 2, \"5\": 4, \"4\": 2, \"2\": 2}}, \"50\": {\"15\": {\"5\": 318, \"4\": 96, \"15\": 122, \"12\": 2, \"6\": 40, \"9\": 12, \"7\": 6, \"13\": 2, \"14\": 2}, \"7\": {\"14\": 170, \"7\": 156, \"2\": 152, \"4\": 46, \"13\": 44, \"10\": 20, \"5\": 12}, \"14\": {\"2\": 146, \"9\": 132, \"14\": 246, \"6\": 56, \"1\": 10, \"0\": 8, \"12\": 2}, \"12\": {\"12\": 348, \"9\": 232, \"0\": 6, \"5\": 6, \"15\": 4, \"8\": 4}, \"10\": {\"10\": 264, \"1\": 184, \"0\": 98, \"13\": 4, \"8\": 50}, \"11\": {\"15\": 362, \"8\": 24, \"9\": 86, \"0\": 32, \"5\": 72, \"11\": 24}, \"4\": {\"4\": 352, \"9\": 2, \"13\": 94, \"7\": 64, \"5\": 28, \"10\": 22, \"14\": 32, \"0\": 4, \"2\": 2}, \"9\": {\"9\": 510, \"15\": 40, \"5\": 18, \"12\": 18, \"0\": 2, \"8\": 2, \"11\": 2, \"7\": 6, \"4\": 2}, \"5\": {\"14\": 158, \"4\": 60, \"13\": 38, \"15\": 36, \"5\": 200, \"2\": 68, \"7\": 32, \"8\": 4, \"12\": 2, \"10\": 2}, \"13\": {\"13\": 436, \"1\": 50, \"15\": 40, \"8\": 40, \"5\": 8, \"12\": 26}, \"8\": {\"8\": 440, \"1\": 118, \"10\": 34, \"13\": 2, \"0\": 6}, \"0\": {\"0\": 378, \"1\": 118, \"10\": 66, \"2\": 36, \"12\": 2}, \"2\": {\"2\": 396, \"0\": 144, \"9\": 8, \"1\": 24, \"6\": 16, \"14\": 6, \"10\": 4, \"12\": 2}, \"6\": {\"5\": 488, \"13\": 34, \"15\": 26, \"4\": 12, \"6\": 28, \"7\": 2, \"14\": 8, \"8\": 2}, \"3\": {\"3\": 578, \"2\": 20, \"1\": 2}, \"1\": {\"1\": 352, \"13\": 126, \"15\": 78, \"0\": 22, \"5\": 2, \"12\": 6, \"8\": 14}}, \"20\": {\"12\": {\"3\": 50, \"7\": 120, \"15\": 116, \"13\": 18, \"2\": 84, \"9\": 46, \"10\": 14, \"12\": 120, \"8\": 8, \"5\": 8, \"1\": 12, \"4\": 4}, \"10\": {\"10\": 230, \"7\": 26, \"8\": 116, \"6\": 114, \"4\": 30, \"12\": 16, \"14\": 64, \"11\": 2, \"15\": 2}, \"11\": {\"2\": 34, \"4\": 250, \"11\": 152, \"9\": 10, \"5\": 64, \"8\": 10, \"0\": 30, \"3\": 22, \"1\": 16, \"14\": 4, \"10\": 6, \"7\": 2}, \"5\": {\"15\": 152, \"12\": 64, \"9\": 54, \"3\": 110, \"2\": 98, \"5\": 84, \"0\": 16, \"1\": 8, \"8\": 4, \"7\": 2, \"4\": 2, \"10\": 6}, \"8\": {\"8\": 104, \"2\": 52, \"10\": 46, \"14\": 240, \"4\": 46, \"0\": 8, \"15\": 14, \"12\": 18, \"3\": 48, \"5\": 10, \"6\": 6, \"11\": 4, \"1\": 2, \"13\": 2}, \"7\": {\"2\": 152, \"12\": 26, \"6\": 34, \"15\": 12, \"7\": 176, \"10\": 48, \"8\": 22, \"14\": 36, \"11\": 14, \"4\": 36, \"3\": 20, \"9\": 14, \"13\": 2, \"1\": 4, \"5\": 4}, \"1\": {\"3\": 94, \"1\": 14, \"2\": 100, \"5\": 52, \"15\": 158, \"12\": 96, \"9\": 76, \"7\": 4, \"10\": 4, \"4\": 2}, \"6\": {\"10\": 94, \"6\": 298, \"8\": 16, \"14\": 138, \"7\": 24, \"4\": 14, \"1\": 2, \"2\": 10, \"12\": 4}, \"2\": {\"7\": 178, \"15\": 42, \"3\": 36, \"12\": 42, \"2\": 146, \"10\": 30, \"9\": 32, \"13\": 34, \"6\": 12, \"5\": 4, \"1\": 22, \"4\": 14, \"11\": 2, \"8\": 4, \"14\": 2}, \"9\": {\"2\": 156, \"15\": 76, \"3\": 72, \"12\": 38, \"10\": 32, \"9\": 84, \"5\": 42, \"4\": 18, \"14\": 4, \"7\": 32, \"1\": 22, \"8\": 12, \"13\": 10, \"6\": 2}, \"14\": {\"14\": 498, \"8\": 20, \"10\": 40, \"4\": 12, \"3\": 2, \"6\": 26, \"2\": 2}, \"3\": {\"10\": 28, \"6\": 6, \"3\": 170, \"2\": 112, \"9\": 24, \"4\": 16, \"15\": 88, \"5\": 46, \"0\": 14, \"7\": 14, \"12\": 48, \"8\": 18, \"1\": 8, \"14\": 6, \"11\": 2}, \"13\": {\"7\": 166, \"9\": 106, \"12\": 16, \"13\": 220, \"4\": 2, \"15\": 16, \"11\": 12, \"2\": 44, \"1\": 8, \"10\": 4, \"3\": 4, \"6\": 2}, \"4\": {\"10\": 72, \"12\": 156, \"4\": 58, \"15\": 38, \"14\": 78, \"7\": 56, \"8\": 98, \"6\": 28, \"3\": 8, \"2\": 6, \"1\": 2}, \"0\": {\"0\": 300, \"3\": 182, \"9\": 42, \"2\": 14, \"15\": 16, \"12\": 10, \"8\": 2, \"5\": 26, \"4\": 8}, \"15\": {\"2\": 62, \"1\": 22, \"7\": 30, \"12\": 70, \"15\": 210, \"9\": 140, \"5\": 24, \"13\": 18, \"3\": 22, \"8\": 2}}, \"32\": {\"4\": {\"2\": 90, \"14\": 46, \"4\": 256, \"3\": 100, \"13\": 80, \"0\": 8, \"12\": 2, \"8\": 12, \"1\": 2, \"6\": 2, \"11\": 2}, \"8\": {\"8\": 408, \"1\": 42, \"5\": 14, \"13\": 12, \"0\": 66, \"15\": 8, \"3\": 34, \"12\": 6, \"14\": 4, \"7\": 4, \"2\": 2}, \"12\": {\"12\": 488, \"10\": 42, \"14\": 6, \"6\": 30, \"1\": 10, \"9\": 8, \"0\": 14, \"11\": 2}, \"2\": {\"2\": 210, \"14\": 126, \"4\": 170, \"0\": 70, \"8\": 2, \"3\": 14, \"13\": 4, \"1\": 4}, \"10\": {\"10\": 592, \"12\": 8}, \"7\": {\"14\": 172, \"1\": 74, \"12\": 142, \"5\": 50, \"7\": 64, \"0\": 84, \"8\": 14}, \"3\": {\"13\": 110, \"3\": 476, \"4\": 4, \"12\": 10}, \"6\": {\"6\": 540, \"11\": 50, \"12\": 8, \"10\": 2}, \"9\": {\"0\": 28, \"1\": 94, \"6\": 90, \"14\": 108, \"2\": 74, \"9\": 180, \"5\": 6, \"15\": 2, \"11\": 16, \"12\": 2}, \"5\": {\"8\": 60, \"5\": 118, \"1\": 198, \"14\": 22, \"0\": 58, \"9\": 6, \"7\": 42, \"12\": 88, \"2\": 6, \"3\": 2}, \"1\": {\"1\": 590, \"8\": 10}, \"0\": {\"8\": 172, \"0\": 308, \"5\": 34, \"12\": 10, \"14\": 40, \"3\": 4, \"1\": 14, \"7\": 2, \"11\": 4, \"9\": 6, \"4\": 2, \"15\": 4}, \"11\": {\"11\": 526, \"3\": 20, \"13\": 36, \"4\": 12, \"6\": 2, \"15\": 4}, \"13\": {\"3\": 246, \"13\": 244, \"4\": 80, \"11\": 12, \"14\": 4, \"8\": 2, \"6\": 2, \"12\": 2, \"2\": 8}, \"15\": {\"15\": 572, \"1\": 12, \"2\": 6, \"8\": 10}, \"14\": {\"12\": 70, \"14\": 306, \"0\": 56, \"7\": 74, \"3\": 28, \"4\": 6, \"1\": 28, \"5\": 18, \"2\": 6, \"8\": 8}}, \"14\": {\"15\": {\"15\": 590, \"13\": 4, \"14\": 2, \"11\": 4}, \"6\": {\"14\": 96, \"13\": 124, \"7\": 12, \"6\": 220, \"2\": 92, \"3\": 54, \"4\": 2}, \"12\": {\"12\": 524, \"9\": 66, \"0\": 10}, \"9\": {\"9\": 514, \"0\": 48, \"3\": 6, \"11\": 10, \"12\": 10, \"5\": 4, \"1\": 6, \"8\": 2}, \"2\": {\"7\": 34, \"4\": 62, \"6\": 134, \"2\": 182, \"14\": 126, \"5\": 26, \"13\": 20, \"10\": 2, \"3\": 14}, \"7\": {\"7\": 566, \"5\": 28, \"6\": 2, \"2\": 4}, \"3\": {\"2\": 96, \"3\": 382, \"7\": 64, \"13\": 30, \"8\": 4, \"4\": 12, \"5\": 8, \"14\": 2, \"0\": 2}, \"13\": {\"6\": 176, \"14\": 178, \"13\": 106, \"4\": 16, \"3\": 30, \"2\": 56, \"7\": 10, \"15\": 22, \"10\": 6}, \"4\": {\"14\": 38, \"2\": 50, \"4\": 358, \"5\": 120, \"3\": 2, \"11\": 22, \"1\": 6, \"7\": 2, \"10\": 2}, \"14\": {\"2\": 114, \"3\": 44, \"4\": 58, \"14\": 236, \"6\": 94, \"13\": 44, \"8\": 2, \"5\": 2, \"7\": 6}, \"0\": {\"0\": 146, \"3\": 292, \"8\": 12, \"4\": 84, \"9\": 22, \"10\": 2, \"2\": 18, \"13\": 22, \"5\": 2}, \"10\": {\"4\": 152, \"10\": 48, \"14\": 36, \"3\": 200, \"2\": 98, \"0\": 26, \"8\": 12, \"5\": 22, \"15\": 2, \"9\": 2, \"11\": 2}, \"8\": {\"8\": 554, \"11\": 16, \"3\": 6, \"5\": 8, \"9\": 4, \"13\": 6, \"4\": 4, \"7\": 2}, \"5\": {\"5\": 240, \"7\": 138, \"4\": 96, \"14\": 14, \"8\": 2, \"2\": 78, \"3\": 24, \"11\": 2, \"6\": 6}, \"1\": {\"1\": 544, \"4\": 14, \"11\": 30, \"5\": 4, \"7\": 4, \"6\": 2, \"2\": 2}, \"11\": {\"11\": 438, \"7\": 72, \"8\": 24, \"6\": 54, \"13\": 6, \"10\": 4, \"14\": 2}}, \"44\": {\"5\": {\"5\": 460, \"4\": 36, \"6\": 6, \"14\": 32, \"2\": 16, \"13\": 6, \"8\": 10, \"15\": 28, \"0\": 2, \"7\": 4}, \"10\": {\"10\": 498, \"2\": 24, \"1\": 16, \"7\": 30, \"9\": 32}, \"1\": {\"8\": 8, \"1\": 386, \"2\": 52, \"12\": 34, \"5\": 52, \"7\": 62, \"10\": 4, \"14\": 2}, \"4\": {\"15\": 56, \"9\": 88, \"0\": 18, \"4\": 296, \"5\": 78, \"12\": 2, \"6\": 10, \"13\": 26, \"14\": 8, \"7\": 18}, \"6\": {\"6\": 308, \"13\": 236, \"4\": 26, \"10\": 20, \"9\": 8, \"0\": 2}, \"0\": {\"8\": 332, \"0\": 216, \"15\": 44, \"1\": 2, \"5\": 2, \"13\": 4}, \"9\": {\"13\": 88, \"7\": 80, \"9\": 276, \"6\": 50, \"10\": 40, \"15\": 34, \"4\": 24, \"1\": 2, \"2\": 4, \"0\": 2}, \"2\": {\"7\": 22, \"2\": 362, \"15\": 80, \"9\": 18, \"1\": 94, \"5\": 18, \"8\": 6}, \"8\": {\"8\": 510, \"15\": 22, \"0\": 46, \"5\": 22}, \"3\": {\"3\": 286, \"14\": 74, \"4\": 86, \"0\": 18, \"8\": 58, \"12\": 38, \"13\": 16, \"2\": 8, \"7\": 4, \"1\": 8, \"5\": 2, \"11\": 2}, \"15\": {\"5\": 82, \"15\": 296, \"8\": 104, \"0\": 28, \"4\": 8, \"9\": 56, \"14\": 12, \"12\": 14}, \"13\": {\"13\": 450, \"6\": 36, \"10\": 48, \"4\": 42, \"7\": 4, \"0\": 14, \"11\": 6}, \"12\": {\"3\": 458, \"12\": 114, \"13\": 12, \"8\": 4, \"1\": 6, \"2\": 2, \"4\": 2, \"7\": 2}, \"11\": {\"11\": 528, \"10\": 70, \"0\": 2}, \"7\": {\"9\": 400, \"7\": 134, \"10\": 28, \"6\": 34, \"4\": 2, \"2\": 2}, \"14\": {\"5\": 332, \"4\": 128, \"9\": 64, \"15\": 34, \"7\": 10, \"6\": 2, \"14\": 22, \"13\": 2, \"0\": 4, \"8\": 2}}, \"38\": {\"12\": {\"12\": 594, \"13\": 6}, \"10\": {\"10\": 572, \"13\": 28}, \"9\": {\"9\": 542, \"12\": 38, \"15\": 8, \"5\": 10, \"4\": 2}, \"13\": {\"13\": 352, \"10\": 220, \"4\": 4, \"2\": 4, \"7\": 18, \"14\": 2}, \"14\": {\"10\": 8, \"4\": 38, \"14\": 514, \"7\": 20, \"3\": 2, \"2\": 18}, \"5\": {\"15\": 232, \"7\": 16, \"4\": 48, \"5\": 222, \"6\": 2, \"9\": 48, \"0\": 8, \"8\": 14, \"11\": 2, \"1\": 6, \"13\": 2}, \"6\": {\"6\": 146, \"0\": 70, \"1\": 186, \"2\": 106, \"14\": 46, \"9\": 38, \"13\": 6, \"15\": 2}, \"3\": {\"3\": 532, \"11\": 66, \"10\": 2}, \"2\": {\"14\": 112, \"2\": 426, \"7\": 18, \"5\": 32, \"4\": 4, \"10\": 4, \"13\": 4}, \"15\": {\"15\": 224, \"1\": 182, \"0\": 28, \"8\": 64, \"13\": 86, \"5\": 14, \"12\": 2}, \"0\": {\"9\": 12, \"11\": 12, \"10\": 166, \"4\": 88, \"13\": 266, \"0\": 42, \"7\": 10, \"3\": 4}, \"7\": {\"4\": 444, \"7\": 114, \"9\": 26, \"13\": 6, \"0\": 6, \"5\": 2, \"15\": 2}, \"11\": {\"11\": 600}, \"1\": {\"6\": 12, \"0\": 218, \"1\": 288, \"9\": 2, \"2\": 76, \"13\": 2, \"14\": 2}, \"8\": {\"5\": 188, \"4\": 108, \"1\": 4, \"15\": 230, \"6\": 8, \"7\": 26, \"13\": 16, \"9\": 2, \"8\": 8, \"0\": 4, \"14\": 2, \"12\": 4}, \"4\": {\"4\": 600}}}, \"per_domain_accuracy\": {\"8\": {\"accuracy\": 0.51125, \"source?\": true}, \"26\": {\"accuracy\": 0.42125, \"source?\": true}, \"50\": {\"accuracy\": 0.503125, \"source?\": true}, \"20\": {\"accuracy\": 0.29833333333333334, \"source?\": true}, \"32\": {\"accuracy\": 0.6122916666666667, \"source?\": true}, \"14\": {\"accuracy\": 0.5883333333333334, \"source?\": true}, \"44\": {\"accuracy\": 0.535625, \"source?\": true}, \"38\": {\"accuracy\": 0.6016666666666667, \"source?\": true}}}, \"history\": {\"epoch_indices\": [1, 2, 3, 4, 5, 6, 7, 8, 9], \"train_label_loss\": [2.612206817184176, 2.300021141086306, 1.8695306363276072, 1.5333522871562413, 1.2498522936872074, 1.0022358442630086, 0.7920779703344618, 0.6326122109379088, 0.5019288090297154], \"source_val_label_loss\": [2.4777638920148215, 2.0839152546723683, 1.722488490740458, 1.5272827490170797, 1.409941569964091, 1.4522668623924255, 1.471050264040629, 1.5936669866243998, 1.6058671152591706], \"target_val_label_loss\": [2.4777639134724936, 2.0839152455329897, 1.7224884895483652, 1.5272827450434368, 1.4099415691693624, 1.4522668619950612, 1.4710502743721008, 1.5936669739087423, 1.6058671061197918], \"source_val_acc_label\": [0.192265625, 0.30223958333333334, 0.40510416666666665, 0.473828125, 0.508984375, 0.49125, 0.5002083333333334, 0.47377604166666665, 0.4917447916666667], \"target_val_acc_label\": [0.192265625, 0.30223958333333334, 0.40510416666666665, 0.473828125, 0.508984375, 0.49125, 0.5002083333333334, 0.47377604166666665, 0.4917447916666667]}, \"dataset_metrics\": {\"source\": {\"train\": {\"n_unique_x\": 179200, \"n_unique_y\": 16, \"n_batch/episode\": 1400}, \"val\": {\"n_unique_x\": 38400, \"n_unique_y\": 16, \"n_batch/episode\": 300}, \"test\": {\"n_unique_x\": 38400, \"n_unique_y\": 16, \"n_batch/episode\": 300}}, \"target\": {\"train\": {\"n_unique_x\": 179200, \"n_unique_y\": 16, \"n_batch/episode\": 1400}, \"val\": {\"n_unique_x\": 38400, \"n_unique_y\": 16, \"n_batch/episode\": 300}, \"test\": {\"n_unique_x\": 38400, \"n_unique_y\": 16, \"n_batch/episode\": 300}}}}'"
      ]
     },
     "execution_count": 20,
     "metadata": {},
     "output_type": "execute_result"
    }
   ],
   "source": [
    "json.dumps(experiment)"
   ]
  }
 ],
 "metadata": {
  "celltoolbar": "Tags",
  "kernelspec": {
   "display_name": "Python 3 (ipykernel)",
   "language": "python",
   "name": "python3"
  },
  "language_info": {
   "codemirror_mode": {
    "name": "ipython",
    "version": 3
   },
   "file_extension": ".py",
   "mimetype": "text/x-python",
   "name": "python",
   "nbconvert_exporter": "python",
   "pygments_lexer": "ipython3",
   "version": "3.8.12"
  },
  "papermill": {
   "default_parameters": {},
   "duration": 216.161558,
   "end_time": "2022-03-26T07:16:43.683961",
   "environment_variables": {},
   "exception": null,
   "input_path": "/root/csc500-main/csc500-notebooks/templates/cnn_template.ipynb",
   "output_path": "trial.ipynb",
   "parameters": {
    "parameters": {
     "BEST_MODEL_PATH": "./best_model.pth",
     "NUM_LOGS_PER_EPOCH": 10,
     "batch_size": 128,
     "criteria_for_best": "target_accuracy",
     "dataset_seed": 500,
     "device": "cuda",
     "domains_source": [
      8,
      32,
      50,
      14,
      20,
      26,
      38,
      44
     ],
     "domains_target": [
      8,
      32,
      50,
      14,
      20,
      26,
      38,
      44
     ],
     "experiment_name": "cnn_2:oracle.run1_limited",
     "labels": [
      "3123D52",
      "3123D65",
      "3123D79",
      "3123D80",
      "3123D54",
      "3123D70",
      "3123D7B",
      "3123D89",
      "3123D58",
      "3123D76",
      "3123D7D",
      "3123EFE",
      "3123D64",
      "3123D78",
      "3123D7E",
      "3124E4A"
     ],
     "lr": 0.0001,
     "n_epoch": 50,
     "normalize_source": false,
     "normalize_target": false,
     "num_examples_per_domain_per_label_source": 2000,
     "num_examples_per_domain_per_label_target": 2000,
     "patience": 3,
     "pickle_name_source": "oracle.Run1_10kExamples_stratified_ds.2022A.pkl",
     "pickle_name_target": "oracle.Run1_10kExamples_stratified_ds.2022A.pkl",
     "seed": 500,
     "torch_default_dtype": "torch.float32",
     "x_net": [
      {
       "class": "nnReshape",
       "kargs": {
        "shape": [
         -1,
         1,
         2,
         256
        ]
       }
      },
      {
       "class": "Conv2d",
       "kargs": {
        "bias": false,
        "in_channels": 1,
        "kernel_size": [
         1,
         7
        ],
        "out_channels": 256,
        "padding": [
         0,
         3
        ]
       }
      },
      {
       "class": "ReLU",
       "kargs": {
        "inplace": true
       }
      },
      {
       "class": "BatchNorm2d",
       "kargs": {
        "num_features": 256
       }
      },
      {
       "class": "Conv2d",
       "kargs": {
        "bias": true,
        "in_channels": 256,
        "kernel_size": [
         2,
         7
        ],
        "out_channels": 80,
        "padding": [
         0,
         3
        ]
       }
      },
      {
       "class": "ReLU",
       "kargs": {
        "inplace": true
       }
      },
      {
       "class": "BatchNorm2d",
       "kargs": {
        "num_features": 80
       }
      },
      {
       "class": "Flatten",
       "kargs": {}
      },
      {
       "class": "Linear",
       "kargs": {
        "in_features": 20480,
        "out_features": 256
       }
      },
      {
       "class": "ReLU",
       "kargs": {
        "inplace": true
       }
      },
      {
       "class": "BatchNorm1d",
       "kargs": {
        "num_features": 256
       }
      },
      {
       "class": "Linear",
       "kargs": {
        "in_features": 256,
        "out_features": 16
       }
      }
     ]
    }
   },
   "start_time": "2022-03-26T07:13:07.522403",
   "version": "2.3.4"
  }
 },
 "nbformat": 4,
 "nbformat_minor": 5
}