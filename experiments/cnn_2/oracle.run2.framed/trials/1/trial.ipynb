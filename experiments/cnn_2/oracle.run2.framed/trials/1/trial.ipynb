{
 "cells": [
  {
   "cell_type": "code",
   "execution_count": 1,
   "id": "2324682e",
   "metadata": {
    "execution": {
     "iopub.execute_input": "2022-03-26T08:03:37.064672Z",
     "iopub.status.busy": "2022-03-26T08:03:37.063786Z",
     "iopub.status.idle": "2022-03-26T08:03:38.333867Z",
     "shell.execute_reply": "2022-03-26T08:03:38.332999Z"
    },
    "papermill": {
     "duration": 1.308609,
     "end_time": "2022-03-26T08:03:38.334059",
     "exception": false,
     "start_time": "2022-03-26T08:03:37.025450",
     "status": "completed"
    },
    "tags": []
   },
   "outputs": [],
   "source": [
    "import os, json, sys, time, random\n",
    "import numpy as np\n",
    "import torch\n",
    "from  easydict import EasyDict\n",
    "from math import floor\n",
    "from easydict import EasyDict\n",
    "\n",
    "from steves_utils.vanilla_train_eval_test_jig import  Vanilla_Train_Eval_Test_Jig\n",
    "\n",
    "from steves_utils.torch_utils import get_dataset_metrics, independent_accuracy_assesment\n",
    "from steves_models.configurable_vanilla import Configurable_Vanilla\n",
    "from steves_utils.torch_sequential_builder import build_sequential\n",
    "from steves_utils.lazy_map import Lazy_Map\n",
    "from steves_utils.sequence_aggregator import Sequence_Aggregator\n",
    "\n",
    "from steves_utils.stratified_dataset.traditional_accessor import Traditional_Accessor_Factory\n",
    "\n",
    "from steves_utils.cnn_do_report import (\n",
    "    get_loss_curve,\n",
    "    get_results_table,\n",
    "    get_parameters_table,\n",
    "    get_domain_accuracies,\n",
    ")\n",
    "\n",
    "from steves_utils.torch_utils import (\n",
    "    confusion_by_domain_over_dataloader,\n",
    "    independent_accuracy_assesment\n",
    ")\n",
    "\n",
    "from steves_utils.utils_v2 import (\n",
    "    per_domain_accuracy_from_confusion,\n",
    "    get_datasets_base_path\n",
    ")\n",
    "\n",
    "# from steves_utils.ptn_do_report import TBD"
   ]
  },
  {
   "cell_type": "code",
   "execution_count": 2,
   "id": "1b29e3fe",
   "metadata": {
    "execution": {
     "iopub.execute_input": "2022-03-26T08:03:38.370835Z",
     "iopub.status.busy": "2022-03-26T08:03:38.370445Z",
     "iopub.status.idle": "2022-03-26T08:03:38.372741Z",
     "shell.execute_reply": "2022-03-26T08:03:38.372364Z"
    },
    "papermill": {
     "duration": 0.019368,
     "end_time": "2022-03-26T08:03:38.372812",
     "exception": false,
     "start_time": "2022-03-26T08:03:38.353444",
     "status": "completed"
    },
    "tags": []
   },
   "outputs": [],
   "source": [
    "required_parameters = {\n",
    "    \"experiment_name\",\n",
    "    \"lr\",\n",
    "    \"device\",\n",
    "    \"dataset_seed\",\n",
    "    \"seed\",\n",
    "    \"labels\",\n",
    "    \"domains_target\",\n",
    "    \"domains_source\",\n",
    "    \"num_examples_per_domain_per_label_source\",\n",
    "    \"num_examples_per_domain_per_label_target\",\n",
    "    \"batch_size\",\n",
    "    \"n_epoch\",\n",
    "    \"patience\",\n",
    "    \"criteria_for_best\",\n",
    "    \"normalize_source\",\n",
    "    \"normalize_target\",\n",
    "    \"x_net\",\n",
    "    \"NUM_LOGS_PER_EPOCH\",\n",
    "    \"BEST_MODEL_PATH\",\n",
    "    \"pickle_name_source\",\n",
    "    \"pickle_name_target\",\n",
    "    \"torch_default_dtype\",\n",
    "}"
   ]
  },
  {
   "cell_type": "code",
   "execution_count": 3,
   "id": "670b5fb8",
   "metadata": {
    "execution": {
     "iopub.execute_input": "2022-03-26T08:03:38.412030Z",
     "iopub.status.busy": "2022-03-26T08:03:38.411330Z",
     "iopub.status.idle": "2022-03-26T08:03:38.418432Z",
     "shell.execute_reply": "2022-03-26T08:03:38.417732Z"
    },
    "papermill": {
     "duration": 0.029143,
     "end_time": "2022-03-26T08:03:38.418583",
     "exception": false,
     "start_time": "2022-03-26T08:03:38.389440",
     "status": "completed"
    },
    "tags": [
     "parameters"
    ]
   },
   "outputs": [],
   "source": [
    "from steves_utils.ORACLE.utils_v2 import (\n",
    "    ALL_SERIAL_NUMBERS,\n",
    "    ALL_DISTANCES_FEET_NARROWED,\n",
    ")\n",
    "\n",
    "standalone_parameters = {}\n",
    "standalone_parameters[\"experiment_name\"] = \"MANUAL CORES CNN\"\n",
    "standalone_parameters[\"lr\"] = 0.0001\n",
    "standalone_parameters[\"device\"] = \"cuda\"\n",
    "\n",
    "standalone_parameters[\"dataset_seed\"] = 1337\n",
    "standalone_parameters[\"seed\"] = 1337\n",
    "standalone_parameters[\"labels\"] = ALL_SERIAL_NUMBERS\n",
    "\n",
    "standalone_parameters[\"domains_source\"] = [8,32,50]\n",
    "standalone_parameters[\"domains_target\"] = [14,20,26,38,44,]\n",
    "\n",
    "standalone_parameters[\"num_examples_per_domain_per_label_source\"]=-1\n",
    "standalone_parameters[\"num_examples_per_domain_per_label_target\"]=-1\n",
    "\n",
    "standalone_parameters[\"pickle_name_source\"] = \"oracle.Run1_framed_2000Examples_stratified_ds.2022A.pkl\"\n",
    "standalone_parameters[\"pickle_name_target\"] = \"oracle.Run2_framed_2000Examples_stratified_ds.2022A.pkl\"\n",
    "\n",
    "standalone_parameters[\"torch_default_dtype\"] = \"torch.float32\" \n",
    "\n",
    "standalone_parameters[\"batch_size\"]=128\n",
    "\n",
    "standalone_parameters[\"n_epoch\"] = 3\n",
    "\n",
    "standalone_parameters[\"patience\"] = 10\n",
    "\n",
    "standalone_parameters[\"criteria_for_best\"] = \"target_accuracy\"\n",
    "standalone_parameters[\"normalize_source\"] = False\n",
    "standalone_parameters[\"normalize_target\"] = False\n",
    "\n",
    "standalone_parameters[\"x_net\"] =     [\n",
    "    {\"class\": \"nnReshape\", \"kargs\": {\"shape\":[-1, 1, 2, 256]}},\n",
    "    {\"class\": \"Conv2d\", \"kargs\": { \"in_channels\":1, \"out_channels\":256, \"kernel_size\":(1,7), \"bias\":False, \"padding\":(0,3), },},\n",
    "    {\"class\": \"ReLU\", \"kargs\": {\"inplace\": True}},\n",
    "    {\"class\": \"BatchNorm2d\", \"kargs\": {\"num_features\":256}},\n",
    "\n",
    "    {\"class\": \"Conv2d\", \"kargs\": { \"in_channels\":256, \"out_channels\":80, \"kernel_size\":(2,7), \"bias\":True, \"padding\":(0,3), },},\n",
    "    {\"class\": \"ReLU\", \"kargs\": {\"inplace\": True}},\n",
    "    {\"class\": \"BatchNorm2d\", \"kargs\": {\"num_features\":80}},\n",
    "    {\"class\": \"Flatten\", \"kargs\": {}},\n",
    "\n",
    "    {\"class\": \"Linear\", \"kargs\": {\"in_features\": 80*256, \"out_features\": 256}}, # 80 units per IQ pair\n",
    "    {\"class\": \"ReLU\", \"kargs\": {\"inplace\": True}},\n",
    "    {\"class\": \"BatchNorm1d\", \"kargs\": {\"num_features\":256}},\n",
    "\n",
    "    {\"class\": \"Linear\", \"kargs\": {\"in_features\": 256, \"out_features\": len(standalone_parameters[\"labels\"])}},\n",
    "]\n",
    "\n",
    "standalone_parameters[\"NUM_LOGS_PER_EPOCH\"] = 10\n",
    "standalone_parameters[\"BEST_MODEL_PATH\"] = \"./best_model.pth\""
   ]
  },
  {
   "cell_type": "code",
   "execution_count": 4,
   "id": "2e801e06",
   "metadata": {
    "execution": {
     "iopub.execute_input": "2022-03-26T08:03:38.464359Z",
     "iopub.status.busy": "2022-03-26T08:03:38.458638Z",
     "iopub.status.idle": "2022-03-26T08:03:38.466781Z",
     "shell.execute_reply": "2022-03-26T08:03:38.466044Z"
    },
    "papermill": {
     "duration": 0.029515,
     "end_time": "2022-03-26T08:03:38.466929",
     "exception": false,
     "start_time": "2022-03-26T08:03:38.437414",
     "status": "completed"
    },
    "tags": [
     "injected-parameters"
    ]
   },
   "outputs": [],
   "source": [
    "# Parameters\n",
    "parameters = {\n",
    "    \"experiment_name\": \"cnn_2:oracle.run2.framed\",\n",
    "    \"labels\": [\n",
    "        \"3123D52\",\n",
    "        \"3123D65\",\n",
    "        \"3123D79\",\n",
    "        \"3123D80\",\n",
    "        \"3123D54\",\n",
    "        \"3123D70\",\n",
    "        \"3123D7B\",\n",
    "        \"3123D89\",\n",
    "        \"3123D58\",\n",
    "        \"3123D76\",\n",
    "        \"3123D7D\",\n",
    "        \"3123EFE\",\n",
    "        \"3123D64\",\n",
    "        \"3123D78\",\n",
    "        \"3123D7E\",\n",
    "        \"3124E4A\",\n",
    "    ],\n",
    "    \"domains_source\": [8, 32, 50, 14, 20, 26, 38, 44],\n",
    "    \"domains_target\": [8, 32, 50, 14, 20, 26, 38, 44],\n",
    "    \"pickle_name_source\": \"oracle.Run2_framed_2000Examples_stratified_ds.2022A.pkl\",\n",
    "    \"pickle_name_target\": \"oracle.Run2_framed_2000Examples_stratified_ds.2022A.pkl\",\n",
    "    \"device\": \"cuda\",\n",
    "    \"lr\": 0.0001,\n",
    "    \"batch_size\": 128,\n",
    "    \"normalize_source\": False,\n",
    "    \"normalize_target\": False,\n",
    "    \"num_examples_per_domain_per_label_source\": -1,\n",
    "    \"num_examples_per_domain_per_label_target\": -1,\n",
    "    \"torch_default_dtype\": \"torch.float32\",\n",
    "    \"n_epoch\": 50,\n",
    "    \"patience\": 3,\n",
    "    \"criteria_for_best\": \"target_accuracy\",\n",
    "    \"x_net\": [\n",
    "        {\"class\": \"nnReshape\", \"kargs\": {\"shape\": [-1, 1, 2, 256]}},\n",
    "        {\n",
    "            \"class\": \"Conv2d\",\n",
    "            \"kargs\": {\n",
    "                \"in_channels\": 1,\n",
    "                \"out_channels\": 256,\n",
    "                \"kernel_size\": [1, 7],\n",
    "                \"bias\": False,\n",
    "                \"padding\": [0, 3],\n",
    "            },\n",
    "        },\n",
    "        {\"class\": \"ReLU\", \"kargs\": {\"inplace\": True}},\n",
    "        {\"class\": \"BatchNorm2d\", \"kargs\": {\"num_features\": 256}},\n",
    "        {\n",
    "            \"class\": \"Conv2d\",\n",
    "            \"kargs\": {\n",
    "                \"in_channels\": 256,\n",
    "                \"out_channels\": 80,\n",
    "                \"kernel_size\": [2, 7],\n",
    "                \"bias\": True,\n",
    "                \"padding\": [0, 3],\n",
    "            },\n",
    "        },\n",
    "        {\"class\": \"ReLU\", \"kargs\": {\"inplace\": True}},\n",
    "        {\"class\": \"BatchNorm2d\", \"kargs\": {\"num_features\": 80}},\n",
    "        {\"class\": \"Flatten\", \"kargs\": {}},\n",
    "        {\"class\": \"Linear\", \"kargs\": {\"in_features\": 20480, \"out_features\": 256}},\n",
    "        {\"class\": \"ReLU\", \"kargs\": {\"inplace\": True}},\n",
    "        {\"class\": \"BatchNorm1d\", \"kargs\": {\"num_features\": 256}},\n",
    "        {\"class\": \"Linear\", \"kargs\": {\"in_features\": 256, \"out_features\": 16}},\n",
    "    ],\n",
    "    \"NUM_LOGS_PER_EPOCH\": 10,\n",
    "    \"BEST_MODEL_PATH\": \"./best_model.pth\",\n",
    "    \"dataset_seed\": 1337,\n",
    "    \"seed\": 1337,\n",
    "}\n"
   ]
  },
  {
   "cell_type": "code",
   "execution_count": 5,
   "id": "759b56ec",
   "metadata": {
    "execution": {
     "iopub.execute_input": "2022-03-26T08:03:38.507592Z",
     "iopub.status.busy": "2022-03-26T08:03:38.507196Z",
     "iopub.status.idle": "2022-03-26T08:03:38.509614Z",
     "shell.execute_reply": "2022-03-26T08:03:38.510292Z"
    },
    "papermill": {
     "duration": 0.024556,
     "end_time": "2022-03-26T08:03:38.510468",
     "exception": false,
     "start_time": "2022-03-26T08:03:38.485912",
     "status": "completed"
    },
    "tags": []
   },
   "outputs": [],
   "source": [
    "# Set this to True if you want to run this template directly\n",
    "STANDALONE = False\n",
    "if STANDALONE:\n",
    "    print(\"parameters not injected, running with standalone_parameters\")\n",
    "    parameters = standalone_parameters\n",
    "\n",
    "if not 'parameters' in locals() and not 'parameters' in globals():\n",
    "    raise Exception(\"Parameter injection failed\")\n",
    "\n",
    "#Use an easy dict for all the parameters\n",
    "p = EasyDict(parameters)\n",
    "\n",
    "supplied_keys = set(p.keys())\n",
    "\n",
    "if  supplied_keys != required_parameters:\n",
    "    print(\"Parameters are incorrect\")\n",
    "    if len(supplied_keys - required_parameters)>0: print(\"Shouldn't have:\", str(supplied_keys - required_parameters))\n",
    "    if len(required_parameters - supplied_keys)>0: print(\"Need to have:\", str(required_parameters - supplied_keys))\n",
    "    raise RuntimeError(\"Parameters are incorrect\")\n",
    "\n"
   ]
  },
  {
   "cell_type": "code",
   "execution_count": 6,
   "id": "d5c66a71",
   "metadata": {
    "execution": {
     "iopub.execute_input": "2022-03-26T08:03:38.545598Z",
     "iopub.status.busy": "2022-03-26T08:03:38.545230Z",
     "iopub.status.idle": "2022-03-26T08:03:38.549113Z",
     "shell.execute_reply": "2022-03-26T08:03:38.549798Z"
    },
    "papermill": {
     "duration": 0.022578,
     "end_time": "2022-03-26T08:03:38.549974",
     "exception": false,
     "start_time": "2022-03-26T08:03:38.527396",
     "status": "completed"
    },
    "tags": []
   },
   "outputs": [],
   "source": [
    "###################################\n",
    "# Set the RNGs and make it all deterministic\n",
    "###################################\n",
    "np.random.seed(p.seed)\n",
    "random.seed(p.seed)\n",
    "torch.manual_seed(p.seed)\n",
    "\n",
    "torch.use_deterministic_algorithms(True) "
   ]
  },
  {
   "cell_type": "code",
   "execution_count": 7,
   "id": "92a65876",
   "metadata": {
    "execution": {
     "iopub.execute_input": "2022-03-26T08:03:38.587307Z",
     "iopub.status.busy": "2022-03-26T08:03:38.585627Z",
     "iopub.status.idle": "2022-03-26T08:03:38.589178Z",
     "shell.execute_reply": "2022-03-26T08:03:38.589500Z"
    },
    "papermill": {
     "duration": 0.020005,
     "end_time": "2022-03-26T08:03:38.589579",
     "exception": false,
     "start_time": "2022-03-26T08:03:38.569574",
     "status": "completed"
    },
    "tags": []
   },
   "outputs": [],
   "source": [
    "torch.set_default_dtype(eval(p.torch_default_dtype))"
   ]
  },
  {
   "cell_type": "code",
   "execution_count": 8,
   "id": "f1a32f01",
   "metadata": {
    "execution": {
     "iopub.execute_input": "2022-03-26T08:03:38.623878Z",
     "iopub.status.busy": "2022-03-26T08:03:38.623500Z",
     "iopub.status.idle": "2022-03-26T08:03:38.664952Z",
     "shell.execute_reply": "2022-03-26T08:03:38.664190Z"
    },
    "papermill": {
     "duration": 0.058944,
     "end_time": "2022-03-26T08:03:38.665133",
     "exception": false,
     "start_time": "2022-03-26T08:03:38.606189",
     "status": "completed"
    },
    "tags": []
   },
   "outputs": [],
   "source": [
    "###################################\n",
    "# Build the network(s)\n",
    "# Note: It's critical to do this AFTER setting the RNG\n",
    "###################################\n",
    "x_net = build_sequential(p.x_net)"
   ]
  },
  {
   "cell_type": "code",
   "execution_count": 9,
   "id": "a276cd83",
   "metadata": {
    "execution": {
     "iopub.execute_input": "2022-03-26T08:03:38.705773Z",
     "iopub.status.busy": "2022-03-26T08:03:38.705411Z",
     "iopub.status.idle": "2022-03-26T08:03:38.707386Z",
     "shell.execute_reply": "2022-03-26T08:03:38.707701Z"
    },
    "papermill": {
     "duration": 0.019661,
     "end_time": "2022-03-26T08:03:38.707779",
     "exception": false,
     "start_time": "2022-03-26T08:03:38.688118",
     "status": "completed"
    },
    "tags": []
   },
   "outputs": [],
   "source": [
    "start_time_secs = time.time()"
   ]
  },
  {
   "cell_type": "code",
   "execution_count": 10,
   "id": "de702e48",
   "metadata": {
    "execution": {
     "iopub.execute_input": "2022-03-26T08:03:38.751891Z",
     "iopub.status.busy": "2022-03-26T08:03:38.740503Z",
     "iopub.status.idle": "2022-03-26T08:03:45.703094Z",
     "shell.execute_reply": "2022-03-26T08:03:45.703802Z"
    },
    "papermill": {
     "duration": 6.97964,
     "end_time": "2022-03-26T08:03:45.704029",
     "exception": false,
     "start_time": "2022-03-26T08:03:38.724389",
     "status": "completed"
    },
    "tags": []
   },
   "outputs": [],
   "source": [
    "def wrap_in_dataloader(p, ds):\n",
    "    return torch.utils.data.DataLoader(\n",
    "        ds,\n",
    "        batch_size=p.batch_size,\n",
    "        shuffle=True,\n",
    "        num_workers=1,\n",
    "        persistent_workers=True,\n",
    "        prefetch_factor=50,\n",
    "        pin_memory=True\n",
    "    )\n",
    "\n",
    "taf_source = Traditional_Accessor_Factory(\n",
    "    labels=p.labels,\n",
    "    domains=p.domains_source,\n",
    "    num_examples_per_domain_per_label=p.num_examples_per_domain_per_label_source,\n",
    "    pickle_path=os.path.join(get_datasets_base_path(), p.pickle_name_source),\n",
    "    seed=p.dataset_seed\n",
    ")\n",
    "train_original_source, val_original_source, test_original_source = \\\n",
    "    taf_source.get_train(), taf_source.get_val(), taf_source.get_test()\n",
    "\n",
    "\n",
    "taf_target = Traditional_Accessor_Factory(\n",
    "    labels=p.labels,\n",
    "    domains=p.domains_target,\n",
    "    num_examples_per_domain_per_label=p.num_examples_per_domain_per_label_source,\n",
    "    pickle_path=os.path.join(get_datasets_base_path(), p.pickle_name_target),\n",
    "    seed=p.dataset_seed\n",
    ")\n",
    "train_original_target, val_original_target, test_original_target = \\\n",
    "    taf_target.get_train(), taf_target.get_val(), taf_target.get_test()\n",
    "\n",
    "\n",
    "# For CNN We only use X and Y. And we only train on the source.\n",
    "# Properly form the data using a transform lambda and Lazy_Map. Finally wrap them in a dataloader\n",
    "\n",
    "transform_lambda = lambda ex: ex[:2] # Strip the tuple to just (x,y)\n",
    "\n",
    "\n",
    "train_processed_source = wrap_in_dataloader(\n",
    "    p,\n",
    "    Lazy_Map(train_original_source, transform_lambda)\n",
    ")\n",
    "val_processed_source = wrap_in_dataloader(\n",
    "    p,\n",
    "    Lazy_Map(val_original_source, transform_lambda)\n",
    ")\n",
    "test_processed_source = wrap_in_dataloader(\n",
    "    p,\n",
    "    Lazy_Map(test_original_source, transform_lambda)\n",
    ")\n",
    "\n",
    "train_processed_target = wrap_in_dataloader(\n",
    "    p,\n",
    "    Lazy_Map(train_original_target, transform_lambda)\n",
    ")\n",
    "val_processed_target = wrap_in_dataloader(\n",
    "    p,\n",
    "    Lazy_Map(val_original_target, transform_lambda)\n",
    ")\n",
    "test_processed_target  = wrap_in_dataloader(\n",
    "    p,\n",
    "    Lazy_Map(test_original_target, transform_lambda)\n",
    ")\n",
    "\n",
    "\n",
    "\n",
    "datasets = EasyDict({\n",
    "    \"source\": {\n",
    "        \"original\": {\"train\":train_original_source, \"val\":val_original_source, \"test\":test_original_source},\n",
    "        \"processed\": {\"train\":train_processed_source, \"val\":val_processed_source, \"test\":test_processed_source}\n",
    "    },\n",
    "    \"target\": {\n",
    "        \"original\": {\"train\":train_original_target, \"val\":val_original_target, \"test\":test_original_target},\n",
    "        \"processed\": {\"train\":train_processed_target, \"val\":val_processed_target, \"test\":test_processed_target}\n",
    "    },\n",
    "})"
   ]
  },
  {
   "cell_type": "code",
   "execution_count": 11,
   "id": "a11b26bd",
   "metadata": {
    "execution": {
     "iopub.execute_input": "2022-03-26T08:03:45.783837Z",
     "iopub.status.busy": "2022-03-26T08:03:45.782994Z",
     "iopub.status.idle": "2022-03-26T08:03:50.919500Z",
     "shell.execute_reply": "2022-03-26T08:03:50.918905Z"
    },
    "papermill": {
     "duration": 5.196417,
     "end_time": "2022-03-26T08:03:50.919653",
     "exception": false,
     "start_time": "2022-03-26T08:03:45.723236",
     "status": "completed"
    },
    "tags": []
   },
   "outputs": [
    {
     "data": {
      "text/plain": [
       "torch.float32"
      ]
     },
     "execution_count": 11,
     "metadata": {},
     "output_type": "execute_result"
    }
   ],
   "source": [
    "ep = next(iter(test_processed_target))\n",
    "ep[0].dtype"
   ]
  },
  {
   "cell_type": "code",
   "execution_count": 12,
   "id": "19425fad",
   "metadata": {
    "execution": {
     "iopub.execute_input": "2022-03-26T08:03:50.960368Z",
     "iopub.status.busy": "2022-03-26T08:03:50.959997Z",
     "iopub.status.idle": "2022-03-26T08:03:51.007744Z",
     "shell.execute_reply": "2022-03-26T08:03:51.006988Z"
    },
    "papermill": {
     "duration": 0.068905,
     "end_time": "2022-03-26T08:03:51.007936",
     "exception": false,
     "start_time": "2022-03-26T08:03:50.939031",
     "status": "completed"
    },
    "tags": []
   },
   "outputs": [],
   "source": [
    "model = Configurable_Vanilla(\n",
    "    x_net=x_net,\n",
    "    label_loss_object=torch.nn.NLLLoss(),\n",
    "    learning_rate=p.lr\n",
    ")"
   ]
  },
  {
   "cell_type": "code",
   "execution_count": 13,
   "id": "7f6d4f2c",
   "metadata": {
    "execution": {
     "iopub.execute_input": "2022-03-26T08:03:51.047227Z",
     "iopub.status.busy": "2022-03-26T08:03:51.046598Z",
     "iopub.status.idle": "2022-03-26T08:09:45.534024Z",
     "shell.execute_reply": "2022-03-26T08:09:45.533173Z"
    },
    "papermill": {
     "duration": 354.506067,
     "end_time": "2022-03-26T08:09:45.534194",
     "exception": false,
     "start_time": "2022-03-26T08:03:51.028127",
     "status": "completed"
    },
    "tags": []
   },
   "outputs": [
    {
     "name": "stdout",
     "output_type": "stream",
     "text": [
      "epoch: 1, [batch: 1 / 1400], examples_per_second: 739.5889, train_label_loss: 2.8028, \n"
     ]
    },
    {
     "name": "stdout",
     "output_type": "stream",
     "text": [
      "epoch: 1, [batch: 140 / 1400], examples_per_second: 11611.0829, train_label_loss: 2.6679, \n"
     ]
    },
    {
     "name": "stdout",
     "output_type": "stream",
     "text": [
      "epoch: 1, [batch: 280 / 1400], examples_per_second: 11700.5252, train_label_loss: 2.6505, \n"
     ]
    },
    {
     "name": "stdout",
     "output_type": "stream",
     "text": [
      "epoch: 1, [batch: 420 / 1400], examples_per_second: 11697.1020, train_label_loss: 2.3399, \n"
     ]
    },
    {
     "name": "stdout",
     "output_type": "stream",
     "text": [
      "epoch: 1, [batch: 560 / 1400], examples_per_second: 11716.7786, train_label_loss: 2.3173, \n"
     ]
    },
    {
     "name": "stdout",
     "output_type": "stream",
     "text": [
      "epoch: 1, [batch: 700 / 1400], examples_per_second: 11701.4579, train_label_loss: 2.0973, \n"
     ]
    },
    {
     "name": "stdout",
     "output_type": "stream",
     "text": [
      "epoch: 1, [batch: 840 / 1400], examples_per_second: 11715.1788, train_label_loss: 2.0246, \n"
     ]
    },
    {
     "name": "stdout",
     "output_type": "stream",
     "text": [
      "epoch: 1, [batch: 980 / 1400], examples_per_second: 11723.6740, train_label_loss: 2.0467, \n"
     ]
    },
    {
     "name": "stdout",
     "output_type": "stream",
     "text": [
      "epoch: 1, [batch: 1120 / 1400], examples_per_second: 11654.3780, train_label_loss: 1.7483, \n"
     ]
    },
    {
     "name": "stdout",
     "output_type": "stream",
     "text": [
      "epoch: 1, [batch: 1260 / 1400], examples_per_second: 11718.6583, train_label_loss: 1.6216, \n"
     ]
    },
    {
     "name": "stdout",
     "output_type": "stream",
     "text": [
      "=============================================================\n",
      "epoch: 1, source_val_acc_label: 0.5417, source_val_label_loss: 1.5608, target_val_acc_label: 0.5417, target_val_label_loss: 1.5608, \n",
      "=============================================================\n"
     ]
    },
    {
     "name": "stdout",
     "output_type": "stream",
     "text": [
      "New best\n",
      "epoch: 2, [batch: 1 / 1400], examples_per_second: 54.2257, train_label_loss: 1.4618, \n"
     ]
    },
    {
     "name": "stdout",
     "output_type": "stream",
     "text": [
      "epoch: 2, [batch: 140 / 1400], examples_per_second: 11725.7616, train_label_loss: 1.3508, \n"
     ]
    },
    {
     "name": "stdout",
     "output_type": "stream",
     "text": [
      "epoch: 2, [batch: 280 / 1400], examples_per_second: 11694.7669, train_label_loss: 1.3269, \n"
     ]
    },
    {
     "name": "stdout",
     "output_type": "stream",
     "text": [
      "epoch: 2, [batch: 420 / 1400], examples_per_second: 11685.5141, train_label_loss: 1.1724, \n"
     ]
    },
    {
     "name": "stdout",
     "output_type": "stream",
     "text": [
      "epoch: 2, [batch: 560 / 1400], examples_per_second: 11714.4010, train_label_loss: 1.2889, \n"
     ]
    },
    {
     "name": "stdout",
     "output_type": "stream",
     "text": [
      "epoch: 2, [batch: 700 / 1400], examples_per_second: 11719.9118, train_label_loss: 0.9930, \n"
     ]
    },
    {
     "name": "stdout",
     "output_type": "stream",
     "text": [
      "epoch: 2, [batch: 840 / 1400], examples_per_second: 11580.3503, train_label_loss: 1.0746, \n"
     ]
    },
    {
     "name": "stdout",
     "output_type": "stream",
     "text": [
      "epoch: 2, [batch: 980 / 1400], examples_per_second: 11750.8042, train_label_loss: 0.9321, \n"
     ]
    },
    {
     "name": "stdout",
     "output_type": "stream",
     "text": [
      "epoch: 2, [batch: 1120 / 1400], examples_per_second: 11764.6725, train_label_loss: 0.8931, \n"
     ]
    },
    {
     "name": "stdout",
     "output_type": "stream",
     "text": [
      "epoch: 2, [batch: 1260 / 1400], examples_per_second: 11560.8923, train_label_loss: 0.6550, \n"
     ]
    },
    {
     "name": "stdout",
     "output_type": "stream",
     "text": [
      "=============================================================\n",
      "epoch: 2, source_val_acc_label: 0.8443, source_val_label_loss: 0.6819, target_val_acc_label: 0.8443, target_val_label_loss: 0.6819, \n",
      "=============================================================\n"
     ]
    },
    {
     "name": "stdout",
     "output_type": "stream",
     "text": [
      "New best\n",
      "epoch: 3, [batch: 1 / 1400], examples_per_second: 64.1451, train_label_loss: 0.6952, \n"
     ]
    },
    {
     "name": "stdout",
     "output_type": "stream",
     "text": [
      "epoch: 3, [batch: 140 / 1400], examples_per_second: 11554.9053, train_label_loss: 0.6959, \n"
     ]
    },
    {
     "name": "stdout",
     "output_type": "stream",
     "text": [
      "epoch: 3, [batch: 280 / 1400], examples_per_second: 11637.4125, train_label_loss: 0.6651, \n"
     ]
    },
    {
     "name": "stdout",
     "output_type": "stream",
     "text": [
      "epoch: 3, [batch: 420 / 1400], examples_per_second: 11785.1612, train_label_loss: 0.7667, \n"
     ]
    },
    {
     "name": "stdout",
     "output_type": "stream",
     "text": [
      "epoch: 3, [batch: 560 / 1400], examples_per_second: 11712.0042, train_label_loss: 0.5426, \n"
     ]
    },
    {
     "name": "stdout",
     "output_type": "stream",
     "text": [
      "epoch: 3, [batch: 700 / 1400], examples_per_second: 11697.0710, train_label_loss: 0.6817, \n"
     ]
    },
    {
     "name": "stdout",
     "output_type": "stream",
     "text": [
      "epoch: 3, [batch: 840 / 1400], examples_per_second: 11671.0415, train_label_loss: 0.5184, \n"
     ]
    },
    {
     "name": "stdout",
     "output_type": "stream",
     "text": [
      "epoch: 3, [batch: 980 / 1400], examples_per_second: 11728.5988, train_label_loss: 0.5242, \n"
     ]
    },
    {
     "name": "stdout",
     "output_type": "stream",
     "text": [
      "epoch: 3, [batch: 1120 / 1400], examples_per_second: 11675.7535, train_label_loss: 0.4795, \n"
     ]
    },
    {
     "name": "stdout",
     "output_type": "stream",
     "text": [
      "epoch: 3, [batch: 1260 / 1400], examples_per_second: 11670.0304, train_label_loss: 0.4744, \n"
     ]
    },
    {
     "name": "stdout",
     "output_type": "stream",
     "text": [
      "=============================================================\n",
      "epoch: 3, source_val_acc_label: 0.9005, source_val_label_loss: 0.4005, target_val_acc_label: 0.9005, target_val_label_loss: 0.4005, \n",
      "=============================================================\n"
     ]
    },
    {
     "name": "stdout",
     "output_type": "stream",
     "text": [
      "New best\n",
      "epoch: 4, [batch: 1 / 1400], examples_per_second: 64.2235, train_label_loss: 0.3014, \n"
     ]
    },
    {
     "name": "stdout",
     "output_type": "stream",
     "text": [
      "epoch: 4, [batch: 140 / 1400], examples_per_second: 11621.3932, train_label_loss: 0.4541, \n"
     ]
    },
    {
     "name": "stdout",
     "output_type": "stream",
     "text": [
      "epoch: 4, [batch: 280 / 1400], examples_per_second: 11641.1327, train_label_loss: 0.5059, \n"
     ]
    },
    {
     "name": "stdout",
     "output_type": "stream",
     "text": [
      "epoch: 4, [batch: 420 / 1400], examples_per_second: 11731.8135, train_label_loss: 0.4858, \n"
     ]
    },
    {
     "name": "stdout",
     "output_type": "stream",
     "text": [
      "epoch: 4, [batch: 560 / 1400], examples_per_second: 11729.8343, train_label_loss: 0.3455, \n"
     ]
    },
    {
     "name": "stdout",
     "output_type": "stream",
     "text": [
      "epoch: 4, [batch: 700 / 1400], examples_per_second: 11620.7783, train_label_loss: 0.2989, \n"
     ]
    },
    {
     "name": "stdout",
     "output_type": "stream",
     "text": [
      "epoch: 4, [batch: 840 / 1400], examples_per_second: 11664.9302, train_label_loss: 0.3836, \n"
     ]
    },
    {
     "name": "stdout",
     "output_type": "stream",
     "text": [
      "epoch: 4, [batch: 980 / 1400], examples_per_second: 11661.5186, train_label_loss: 0.4454, \n"
     ]
    },
    {
     "name": "stdout",
     "output_type": "stream",
     "text": [
      "epoch: 4, [batch: 1120 / 1400], examples_per_second: 12138.8247, train_label_loss: 0.3105, \n"
     ]
    },
    {
     "name": "stdout",
     "output_type": "stream",
     "text": [
      "epoch: 4, [batch: 1260 / 1400], examples_per_second: 11907.2626, train_label_loss: 0.3046, \n"
     ]
    },
    {
     "name": "stdout",
     "output_type": "stream",
     "text": [
      "=============================================================\n",
      "epoch: 4, source_val_acc_label: 0.9295, source_val_label_loss: 0.2749, target_val_acc_label: 0.9295, target_val_label_loss: 0.2749, \n",
      "=============================================================\n"
     ]
    },
    {
     "name": "stdout",
     "output_type": "stream",
     "text": [
      "New best\n",
      "epoch: 5, [batch: 1 / 1400], examples_per_second: 63.8206, train_label_loss: 0.2087, \n"
     ]
    },
    {
     "name": "stdout",
     "output_type": "stream",
     "text": [
      "epoch: 5, [batch: 140 / 1400], examples_per_second: 11724.3541, train_label_loss: 0.3186, \n"
     ]
    },
    {
     "name": "stdout",
     "output_type": "stream",
     "text": [
      "epoch: 5, [batch: 280 / 1400], examples_per_second: 11825.5942, train_label_loss: 0.2642, \n"
     ]
    },
    {
     "name": "stdout",
     "output_type": "stream",
     "text": [
      "epoch: 5, [batch: 420 / 1400], examples_per_second: 11897.2280, train_label_loss: 0.2286, \n"
     ]
    },
    {
     "name": "stdout",
     "output_type": "stream",
     "text": [
      "epoch: 5, [batch: 560 / 1400], examples_per_second: 11601.7288, train_label_loss: 0.2934, \n"
     ]
    },
    {
     "name": "stdout",
     "output_type": "stream",
     "text": [
      "epoch: 5, [batch: 700 / 1400], examples_per_second: 11739.4471, train_label_loss: 0.3208, \n"
     ]
    },
    {
     "name": "stdout",
     "output_type": "stream",
     "text": [
      "epoch: 5, [batch: 840 / 1400], examples_per_second: 11678.3895, train_label_loss: 0.2950, \n"
     ]
    },
    {
     "name": "stdout",
     "output_type": "stream",
     "text": [
      "epoch: 5, [batch: 980 / 1400], examples_per_second: 11704.6103, train_label_loss: 0.2577, \n"
     ]
    },
    {
     "name": "stdout",
     "output_type": "stream",
     "text": [
      "epoch: 5, [batch: 1120 / 1400], examples_per_second: 11761.1287, train_label_loss: 0.3868, \n"
     ]
    },
    {
     "name": "stdout",
     "output_type": "stream",
     "text": [
      "epoch: 5, [batch: 1260 / 1400], examples_per_second: 11761.7029, train_label_loss: 0.5160, \n"
     ]
    },
    {
     "name": "stdout",
     "output_type": "stream",
     "text": [
      "=============================================================\n",
      "epoch: 5, source_val_acc_label: 0.9395, source_val_label_loss: 0.2193, target_val_acc_label: 0.9395, target_val_label_loss: 0.2193, \n",
      "=============================================================\n"
     ]
    },
    {
     "name": "stdout",
     "output_type": "stream",
     "text": [
      "New best\n",
      "epoch: 6, [batch: 1 / 1400], examples_per_second: 64.8650, train_label_loss: 0.2336, \n"
     ]
    },
    {
     "name": "stdout",
     "output_type": "stream",
     "text": [
      "epoch: 6, [batch: 140 / 1400], examples_per_second: 11748.2901, train_label_loss: 0.2437, \n"
     ]
    },
    {
     "name": "stdout",
     "output_type": "stream",
     "text": [
      "epoch: 6, [batch: 280 / 1400], examples_per_second: 11703.3273, train_label_loss: 0.2882, \n"
     ]
    },
    {
     "name": "stdout",
     "output_type": "stream",
     "text": [
      "epoch: 6, [batch: 420 / 1400], examples_per_second: 11787.7136, train_label_loss: 0.3030, \n"
     ]
    },
    {
     "name": "stdout",
     "output_type": "stream",
     "text": [
      "epoch: 6, [batch: 560 / 1400], examples_per_second: 11748.6203, train_label_loss: 0.3607, \n"
     ]
    },
    {
     "name": "stdout",
     "output_type": "stream",
     "text": [
      "epoch: 6, [batch: 700 / 1400], examples_per_second: 11753.2095, train_label_loss: 0.2127, \n"
     ]
    },
    {
     "name": "stdout",
     "output_type": "stream",
     "text": [
      "epoch: 6, [batch: 840 / 1400], examples_per_second: 11730.1363, train_label_loss: 0.1837, \n"
     ]
    },
    {
     "name": "stdout",
     "output_type": "stream",
     "text": [
      "epoch: 6, [batch: 980 / 1400], examples_per_second: 11700.1191, train_label_loss: 0.2677, \n"
     ]
    },
    {
     "name": "stdout",
     "output_type": "stream",
     "text": [
      "epoch: 6, [batch: 1120 / 1400], examples_per_second: 11771.3423, train_label_loss: 0.2755, \n"
     ]
    },
    {
     "name": "stdout",
     "output_type": "stream",
     "text": [
      "epoch: 6, [batch: 1260 / 1400], examples_per_second: 11786.4714, train_label_loss: 0.1840, \n"
     ]
    },
    {
     "name": "stdout",
     "output_type": "stream",
     "text": [
      "=============================================================\n",
      "epoch: 6, source_val_acc_label: 0.9420, source_val_label_loss: 0.2209, target_val_acc_label: 0.9420, target_val_label_loss: 0.2209, \n",
      "=============================================================\n"
     ]
    },
    {
     "name": "stdout",
     "output_type": "stream",
     "text": [
      "New best\n",
      "epoch: 7, [batch: 1 / 1400], examples_per_second: 64.7928, train_label_loss: 0.2085, \n"
     ]
    },
    {
     "name": "stdout",
     "output_type": "stream",
     "text": [
      "epoch: 7, [batch: 140 / 1400], examples_per_second: 11761.9538, train_label_loss: 0.1145, \n"
     ]
    },
    {
     "name": "stdout",
     "output_type": "stream",
     "text": [
      "epoch: 7, [batch: 280 / 1400], examples_per_second: 11790.0860, train_label_loss: 0.1425, \n"
     ]
    },
    {
     "name": "stdout",
     "output_type": "stream",
     "text": [
      "epoch: 7, [batch: 420 / 1400], examples_per_second: 11732.7712, train_label_loss: 0.2739, \n"
     ]
    },
    {
     "name": "stdout",
     "output_type": "stream",
     "text": [
      "epoch: 7, [batch: 560 / 1400], examples_per_second: 11798.1494, train_label_loss: 0.2859, \n"
     ]
    },
    {
     "name": "stdout",
     "output_type": "stream",
     "text": [
      "epoch: 7, [batch: 700 / 1400], examples_per_second: 11730.3542, train_label_loss: 0.1210, \n"
     ]
    },
    {
     "name": "stdout",
     "output_type": "stream",
     "text": [
      "epoch: 7, [batch: 840 / 1400], examples_per_second: 11823.3582, train_label_loss: 0.1758, \n"
     ]
    },
    {
     "name": "stdout",
     "output_type": "stream",
     "text": [
      "epoch: 7, [batch: 980 / 1400], examples_per_second: 11786.8430, train_label_loss: 0.3157, \n"
     ]
    },
    {
     "name": "stdout",
     "output_type": "stream",
     "text": [
      "epoch: 7, [batch: 1120 / 1400], examples_per_second: 11756.9545, train_label_loss: 0.1965, \n"
     ]
    },
    {
     "name": "stdout",
     "output_type": "stream",
     "text": [
      "epoch: 7, [batch: 1260 / 1400], examples_per_second: 11779.9414, train_label_loss: 0.1797, \n"
     ]
    },
    {
     "name": "stdout",
     "output_type": "stream",
     "text": [
      "=============================================================\n",
      "epoch: 7, source_val_acc_label: 0.9447, source_val_label_loss: 0.1817, target_val_acc_label: 0.9447, target_val_label_loss: 0.1817, \n",
      "=============================================================\n"
     ]
    },
    {
     "name": "stdout",
     "output_type": "stream",
     "text": [
      "New best\n",
      "epoch: 8, [batch: 1 / 1400], examples_per_second: 64.6559, train_label_loss: 0.1202, \n"
     ]
    },
    {
     "name": "stdout",
     "output_type": "stream",
     "text": [
      "epoch: 8, [batch: 140 / 1400], examples_per_second: 11710.5681, train_label_loss: 0.2052, \n"
     ]
    },
    {
     "name": "stdout",
     "output_type": "stream",
     "text": [
      "epoch: 8, [batch: 280 / 1400], examples_per_second: 11870.4080, train_label_loss: 0.1904, \n"
     ]
    },
    {
     "name": "stdout",
     "output_type": "stream",
     "text": [
      "epoch: 8, [batch: 420 / 1400], examples_per_second: 11774.5749, train_label_loss: 0.2016, \n"
     ]
    },
    {
     "name": "stdout",
     "output_type": "stream",
     "text": [
      "epoch: 8, [batch: 560 / 1400], examples_per_second: 11730.8064, train_label_loss: 0.1155, \n"
     ]
    },
    {
     "name": "stdout",
     "output_type": "stream",
     "text": [
      "epoch: 8, [batch: 700 / 1400], examples_per_second: 11745.0789, train_label_loss: 0.1712, \n"
     ]
    },
    {
     "name": "stdout",
     "output_type": "stream",
     "text": [
      "epoch: 8, [batch: 840 / 1400], examples_per_second: 11652.9687, train_label_loss: 0.2206, \n"
     ]
    },
    {
     "name": "stdout",
     "output_type": "stream",
     "text": [
      "epoch: 8, [batch: 980 / 1400], examples_per_second: 11719.0548, train_label_loss: 0.1772, \n"
     ]
    },
    {
     "name": "stdout",
     "output_type": "stream",
     "text": [
      "epoch: 8, [batch: 1120 / 1400], examples_per_second: 11782.2921, train_label_loss: 0.1033, \n"
     ]
    },
    {
     "name": "stdout",
     "output_type": "stream",
     "text": [
      "epoch: 8, [batch: 1260 / 1400], examples_per_second: 11831.2307, train_label_loss: 0.1784, \n"
     ]
    },
    {
     "name": "stdout",
     "output_type": "stream",
     "text": [
      "=============================================================\n",
      "epoch: 8, source_val_acc_label: 0.9541, source_val_label_loss: 0.2902, target_val_acc_label: 0.9541, target_val_label_loss: 0.2902, \n",
      "=============================================================\n"
     ]
    },
    {
     "name": "stdout",
     "output_type": "stream",
     "text": [
      "New best\n",
      "epoch: 9, [batch: 1 / 1400], examples_per_second: 64.0302, train_label_loss: 0.1501, \n"
     ]
    },
    {
     "name": "stdout",
     "output_type": "stream",
     "text": [
      "epoch: 9, [batch: 140 / 1400], examples_per_second: 11724.9583, train_label_loss: 0.2478, \n"
     ]
    },
    {
     "name": "stdout",
     "output_type": "stream",
     "text": [
      "epoch: 9, [batch: 280 / 1400], examples_per_second: 11783.0771, train_label_loss: 0.2087, \n"
     ]
    },
    {
     "name": "stdout",
     "output_type": "stream",
     "text": [
      "epoch: 9, [batch: 420 / 1400], examples_per_second: 11792.5185, train_label_loss: 0.1243, \n"
     ]
    },
    {
     "name": "stdout",
     "output_type": "stream",
     "text": [
      "epoch: 9, [batch: 560 / 1400], examples_per_second: 11757.6166, train_label_loss: 0.2411, \n"
     ]
    },
    {
     "name": "stdout",
     "output_type": "stream",
     "text": [
      "epoch: 9, [batch: 700 / 1400], examples_per_second: 11851.3840, train_label_loss: 0.1718, \n"
     ]
    },
    {
     "name": "stdout",
     "output_type": "stream",
     "text": [
      "epoch: 9, [batch: 840 / 1400], examples_per_second: 11741.8881, train_label_loss: 0.1613, \n"
     ]
    },
    {
     "name": "stdout",
     "output_type": "stream",
     "text": [
      "epoch: 9, [batch: 980 / 1400], examples_per_second: 11851.6531, train_label_loss: 0.1380, \n"
     ]
    },
    {
     "name": "stdout",
     "output_type": "stream",
     "text": [
      "epoch: 9, [batch: 1120 / 1400], examples_per_second: 11710.6812, train_label_loss: 0.1592, \n"
     ]
    },
    {
     "name": "stdout",
     "output_type": "stream",
     "text": [
      "epoch: 9, [batch: 1260 / 1400], examples_per_second: 11756.5719, train_label_loss: 0.1335, \n"
     ]
    },
    {
     "name": "stdout",
     "output_type": "stream",
     "text": [
      "=============================================================\n",
      "epoch: 9, source_val_acc_label: 0.9487, source_val_label_loss: 0.1644, target_val_acc_label: 0.9487, target_val_label_loss: 0.1644, \n",
      "=============================================================\n"
     ]
    },
    {
     "name": "stdout",
     "output_type": "stream",
     "text": [
      "epoch: 10, [batch: 1 / 1400], examples_per_second: 65.4579, train_label_loss: 0.1214, \n"
     ]
    },
    {
     "name": "stdout",
     "output_type": "stream",
     "text": [
      "epoch: 10, [batch: 140 / 1400], examples_per_second: 11692.4729, train_label_loss: 0.0704, \n"
     ]
    },
    {
     "name": "stdout",
     "output_type": "stream",
     "text": [
      "epoch: 10, [batch: 280 / 1400], examples_per_second: 11703.6097, train_label_loss: 0.0971, \n"
     ]
    },
    {
     "name": "stdout",
     "output_type": "stream",
     "text": [
      "epoch: 10, [batch: 420 / 1400], examples_per_second: 11761.1287, train_label_loss: 0.1471, \n"
     ]
    },
    {
     "name": "stdout",
     "output_type": "stream",
     "text": [
      "epoch: 10, [batch: 560 / 1400], examples_per_second: 11798.6143, train_label_loss: 0.1172, \n"
     ]
    },
    {
     "name": "stdout",
     "output_type": "stream",
     "text": [
      "epoch: 10, [batch: 700 / 1400], examples_per_second: 11761.6183, train_label_loss: 0.0831, \n"
     ]
    },
    {
     "name": "stdout",
     "output_type": "stream",
     "text": [
      "epoch: 10, [batch: 840 / 1400], examples_per_second: 11761.9993, train_label_loss: 0.0864, \n"
     ]
    },
    {
     "name": "stdout",
     "output_type": "stream",
     "text": [
      "epoch: 10, [batch: 980 / 1400], examples_per_second: 11740.8500, train_label_loss: 0.1733, \n"
     ]
    },
    {
     "name": "stdout",
     "output_type": "stream",
     "text": [
      "epoch: 10, [batch: 1120 / 1400], examples_per_second: 11849.6931, train_label_loss: 0.2301, \n"
     ]
    },
    {
     "name": "stdout",
     "output_type": "stream",
     "text": [
      "epoch: 10, [batch: 1260 / 1400], examples_per_second: 11797.6605, train_label_loss: 0.1512, \n"
     ]
    },
    {
     "name": "stdout",
     "output_type": "stream",
     "text": [
      "=============================================================\n",
      "epoch: 10, source_val_acc_label: 0.9598, source_val_label_loss: 0.1376, target_val_acc_label: 0.9598, target_val_label_loss: 0.1376, \n",
      "=============================================================\n"
     ]
    },
    {
     "name": "stdout",
     "output_type": "stream",
     "text": [
      "New best\n",
      "epoch: 11, [batch: 1 / 1400], examples_per_second: 63.7724, train_label_loss: 0.1432, \n"
     ]
    },
    {
     "name": "stdout",
     "output_type": "stream",
     "text": [
      "epoch: 11, [batch: 140 / 1400], examples_per_second: 11664.5703, train_label_loss: 0.1328, \n"
     ]
    },
    {
     "name": "stdout",
     "output_type": "stream",
     "text": [
      "epoch: 11, [batch: 280 / 1400], examples_per_second: 11826.8800, train_label_loss: 0.1534, \n"
     ]
    },
    {
     "name": "stdout",
     "output_type": "stream",
     "text": [
      "epoch: 11, [batch: 420 / 1400], examples_per_second: 12056.2497, train_label_loss: 0.2101, \n"
     ]
    },
    {
     "name": "stdout",
     "output_type": "stream",
     "text": [
      "epoch: 11, [batch: 560 / 1400], examples_per_second: 12781.2148, train_label_loss: 0.1003, \n"
     ]
    },
    {
     "name": "stdout",
     "output_type": "stream",
     "text": [
      "epoch: 11, [batch: 700 / 1400], examples_per_second: 12148.5446, train_label_loss: 0.1564, \n"
     ]
    },
    {
     "name": "stdout",
     "output_type": "stream",
     "text": [
      "epoch: 11, [batch: 840 / 1400], examples_per_second: 11768.8356, train_label_loss: 0.1717, \n"
     ]
    },
    {
     "name": "stdout",
     "output_type": "stream",
     "text": [
      "epoch: 11, [batch: 980 / 1400], examples_per_second: 11694.5558, train_label_loss: 0.1706, \n"
     ]
    },
    {
     "name": "stdout",
     "output_type": "stream",
     "text": [
      "epoch: 11, [batch: 1120 / 1400], examples_per_second: 11779.4023, train_label_loss: 0.1463, \n"
     ]
    },
    {
     "name": "stdout",
     "output_type": "stream",
     "text": [
      "epoch: 11, [batch: 1260 / 1400], examples_per_second: 11764.8143, train_label_loss: 0.2577, \n"
     ]
    },
    {
     "name": "stdout",
     "output_type": "stream",
     "text": [
      "=============================================================\n",
      "epoch: 11, source_val_acc_label: 0.9516, source_val_label_loss: 0.1520, target_val_acc_label: 0.9516, target_val_label_loss: 0.1520, \n",
      "=============================================================\n"
     ]
    },
    {
     "name": "stdout",
     "output_type": "stream",
     "text": [
      "epoch: 12, [batch: 1 / 1400], examples_per_second: 64.7449, train_label_loss: 0.1883, \n"
     ]
    },
    {
     "name": "stdout",
     "output_type": "stream",
     "text": [
      "epoch: 12, [batch: 140 / 1400], examples_per_second: 11679.1474, train_label_loss: 0.0902, \n"
     ]
    },
    {
     "name": "stdout",
     "output_type": "stream",
     "text": [
      "epoch: 12, [batch: 280 / 1400], examples_per_second: 11736.4299, train_label_loss: 0.1145, \n"
     ]
    },
    {
     "name": "stdout",
     "output_type": "stream",
     "text": [
      "epoch: 12, [batch: 420 / 1400], examples_per_second: 11773.8409, train_label_loss: 0.2124, \n"
     ]
    },
    {
     "name": "stdout",
     "output_type": "stream",
     "text": [
      "epoch: 12, [batch: 560 / 1400], examples_per_second: 11743.7282, train_label_loss: 0.1663, \n"
     ]
    },
    {
     "name": "stdout",
     "output_type": "stream",
     "text": [
      "epoch: 12, [batch: 700 / 1400], examples_per_second: 11788.9838, train_label_loss: 0.1838, \n"
     ]
    },
    {
     "name": "stdout",
     "output_type": "stream",
     "text": [
      "epoch: 12, [batch: 840 / 1400], examples_per_second: 11730.1473, train_label_loss: 0.1144, \n"
     ]
    },
    {
     "name": "stdout",
     "output_type": "stream",
     "text": [
      "epoch: 12, [batch: 980 / 1400], examples_per_second: 11708.6563, train_label_loss: 0.1323, \n"
     ]
    },
    {
     "name": "stdout",
     "output_type": "stream",
     "text": [
      "epoch: 12, [batch: 1120 / 1400], examples_per_second: 11740.6446, train_label_loss: 0.0704, \n"
     ]
    },
    {
     "name": "stdout",
     "output_type": "stream",
     "text": [
      "epoch: 12, [batch: 1260 / 1400], examples_per_second: 11702.7205, train_label_loss: 0.2196, \n"
     ]
    },
    {
     "name": "stdout",
     "output_type": "stream",
     "text": [
      "=============================================================\n",
      "epoch: 12, source_val_acc_label: 0.9591, source_val_label_loss: 0.1319, target_val_acc_label: 0.9591, target_val_label_loss: 0.1319, \n",
      "=============================================================\n"
     ]
    },
    {
     "name": "stdout",
     "output_type": "stream",
     "text": [
      "epoch: 13, [batch: 1 / 1400], examples_per_second: 64.4628, train_label_loss: 0.1015, \n"
     ]
    },
    {
     "name": "stdout",
     "output_type": "stream",
     "text": [
      "epoch: 13, [batch: 140 / 1400], examples_per_second: 11712.9650, train_label_loss: 0.1386, \n"
     ]
    },
    {
     "name": "stdout",
     "output_type": "stream",
     "text": [
      "epoch: 13, [batch: 280 / 1400], examples_per_second: 11745.8388, train_label_loss: 0.1002, \n"
     ]
    },
    {
     "name": "stdout",
     "output_type": "stream",
     "text": [
      "epoch: 13, [batch: 420 / 1400], examples_per_second: 11758.4627, train_label_loss: 0.2108, \n"
     ]
    },
    {
     "name": "stdout",
     "output_type": "stream",
     "text": [
      "epoch: 13, [batch: 560 / 1400], examples_per_second: 11834.1703, train_label_loss: 0.1476, \n"
     ]
    },
    {
     "name": "stdout",
     "output_type": "stream",
     "text": [
      "epoch: 13, [batch: 700 / 1400], examples_per_second: 11695.6094, train_label_loss: 0.0726, \n"
     ]
    },
    {
     "name": "stdout",
     "output_type": "stream",
     "text": [
      "epoch: 13, [batch: 840 / 1400], examples_per_second: 11766.2711, train_label_loss: 0.1311, \n"
     ]
    },
    {
     "name": "stdout",
     "output_type": "stream",
     "text": [
      "epoch: 13, [batch: 980 / 1400], examples_per_second: 11793.8563, train_label_loss: 0.0512, \n"
     ]
    },
    {
     "name": "stdout",
     "output_type": "stream",
     "text": [
      "epoch: 13, [batch: 1120 / 1400], examples_per_second: 11687.5256, train_label_loss: 0.1080, \n"
     ]
    },
    {
     "name": "stdout",
     "output_type": "stream",
     "text": [
      "epoch: 13, [batch: 1260 / 1400], examples_per_second: 11735.0739, train_label_loss: 0.1627, \n"
     ]
    },
    {
     "name": "stdout",
     "output_type": "stream",
     "text": [
      "=============================================================\n",
      "epoch: 13, source_val_acc_label: 0.9540, source_val_label_loss: 0.1576, target_val_acc_label: 0.9540, target_val_label_loss: 0.1576, \n",
      "=============================================================\n"
     ]
    },
    {
     "name": "stdout",
     "output_type": "stream",
     "text": [
      "epoch: 14, [batch: 1 / 1400], examples_per_second: 65.2530, train_label_loss: 0.1286, \n"
     ]
    },
    {
     "name": "stdout",
     "output_type": "stream",
     "text": [
      "epoch: 14, [batch: 140 / 1400], examples_per_second: 11631.4590, train_label_loss: 0.1145, \n"
     ]
    },
    {
     "name": "stdout",
     "output_type": "stream",
     "text": [
      "epoch: 14, [batch: 280 / 1400], examples_per_second: 11684.4732, train_label_loss: 0.1182, \n"
     ]
    },
    {
     "name": "stdout",
     "output_type": "stream",
     "text": [
      "epoch: 14, [batch: 420 / 1400], examples_per_second: 11778.6639, train_label_loss: 0.1182, \n"
     ]
    },
    {
     "name": "stdout",
     "output_type": "stream",
     "text": [
      "epoch: 14, [batch: 560 / 1400], examples_per_second: 11780.9126, train_label_loss: 0.1365, \n"
     ]
    },
    {
     "name": "stdout",
     "output_type": "stream",
     "text": [
      "epoch: 14, [batch: 700 / 1400], examples_per_second: 11718.7680, train_label_loss: 0.0589, \n"
     ]
    },
    {
     "name": "stdout",
     "output_type": "stream",
     "text": [
      "epoch: 14, [batch: 840 / 1400], examples_per_second: 11707.8064, train_label_loss: 0.1218, \n"
     ]
    },
    {
     "name": "stdout",
     "output_type": "stream",
     "text": [
      "epoch: 14, [batch: 980 / 1400], examples_per_second: 11791.4306, train_label_loss: 0.0914, \n"
     ]
    },
    {
     "name": "stdout",
     "output_type": "stream",
     "text": [
      "epoch: 14, [batch: 1120 / 1400], examples_per_second: 11752.7262, train_label_loss: 0.1247, \n"
     ]
    },
    {
     "name": "stdout",
     "output_type": "stream",
     "text": [
      "epoch: 14, [batch: 1260 / 1400], examples_per_second: 11791.1883, train_label_loss: 0.1304, \n"
     ]
    },
    {
     "name": "stdout",
     "output_type": "stream",
     "text": [
      "=============================================================\n",
      "epoch: 14, source_val_acc_label: 0.9679, source_val_label_loss: 0.1098, target_val_acc_label: 0.9679, target_val_label_loss: 0.1098, \n",
      "=============================================================\n"
     ]
    },
    {
     "name": "stdout",
     "output_type": "stream",
     "text": [
      "New best\n",
      "epoch: 15, [batch: 1 / 1400], examples_per_second: 63.5141, train_label_loss: 0.1720, \n"
     ]
    },
    {
     "name": "stdout",
     "output_type": "stream",
     "text": [
      "epoch: 15, [batch: 140 / 1400], examples_per_second: 11870.3671, train_label_loss: 0.1081, \n"
     ]
    },
    {
     "name": "stdout",
     "output_type": "stream",
     "text": [
      "epoch: 15, [batch: 280 / 1400], examples_per_second: 11765.1807, train_label_loss: 0.0806, \n"
     ]
    },
    {
     "name": "stdout",
     "output_type": "stream",
     "text": [
      "epoch: 15, [batch: 420 / 1400], examples_per_second: 11712.0517, train_label_loss: 0.1387, \n"
     ]
    },
    {
     "name": "stdout",
     "output_type": "stream",
     "text": [
      "epoch: 15, [batch: 560 / 1400], examples_per_second: 12032.9684, train_label_loss: 0.1231, \n"
     ]
    },
    {
     "name": "stdout",
     "output_type": "stream",
     "text": [
      "epoch: 15, [batch: 700 / 1400], examples_per_second: 12338.8067, train_label_loss: 0.1268, \n"
     ]
    },
    {
     "name": "stdout",
     "output_type": "stream",
     "text": [
      "epoch: 15, [batch: 840 / 1400], examples_per_second: 11756.7908, train_label_loss: 0.0865, \n"
     ]
    },
    {
     "name": "stdout",
     "output_type": "stream",
     "text": [
      "epoch: 15, [batch: 980 / 1400], examples_per_second: 11757.6699, train_label_loss: 0.1542, \n"
     ]
    },
    {
     "name": "stdout",
     "output_type": "stream",
     "text": [
      "epoch: 15, [batch: 1120 / 1400], examples_per_second: 11764.2489, train_label_loss: 0.0548, \n"
     ]
    },
    {
     "name": "stdout",
     "output_type": "stream",
     "text": [
      "epoch: 15, [batch: 1260 / 1400], examples_per_second: 11767.0374, train_label_loss: 0.1511, \n"
     ]
    },
    {
     "name": "stdout",
     "output_type": "stream",
     "text": [
      "=============================================================\n",
      "epoch: 15, source_val_acc_label: 0.9572, source_val_label_loss: 0.1663, target_val_acc_label: 0.9572, target_val_label_loss: 0.1663, \n",
      "=============================================================\n"
     ]
    },
    {
     "name": "stdout",
     "output_type": "stream",
     "text": [
      "epoch: 16, [batch: 1 / 1400], examples_per_second: 64.8736, train_label_loss: 0.0686, \n"
     ]
    },
    {
     "name": "stdout",
     "output_type": "stream",
     "text": [
      "epoch: 16, [batch: 140 / 1400], examples_per_second: 11702.0750, train_label_loss: 0.1132, \n"
     ]
    },
    {
     "name": "stdout",
     "output_type": "stream",
     "text": [
      "epoch: 16, [batch: 280 / 1400], examples_per_second: 11765.9985, train_label_loss: 0.1062, \n"
     ]
    },
    {
     "name": "stdout",
     "output_type": "stream",
     "text": [
      "epoch: 16, [batch: 420 / 1400], examples_per_second: 11712.2305, train_label_loss: 0.1121, \n"
     ]
    },
    {
     "name": "stdout",
     "output_type": "stream",
     "text": [
      "epoch: 16, [batch: 560 / 1400], examples_per_second: 11807.5147, train_label_loss: 0.0705, \n"
     ]
    },
    {
     "name": "stdout",
     "output_type": "stream",
     "text": [
      "epoch: 16, [batch: 700 / 1400], examples_per_second: 11779.6035, train_label_loss: 0.1304, \n"
     ]
    },
    {
     "name": "stdout",
     "output_type": "stream",
     "text": [
      "epoch: 16, [batch: 840 / 1400], examples_per_second: 11802.2918, train_label_loss: 0.0575, \n"
     ]
    },
    {
     "name": "stdout",
     "output_type": "stream",
     "text": [
      "epoch: 16, [batch: 980 / 1400], examples_per_second: 11857.3762, train_label_loss: 0.1240, \n"
     ]
    },
    {
     "name": "stdout",
     "output_type": "stream",
     "text": [
      "epoch: 16, [batch: 1120 / 1400], examples_per_second: 11795.0426, train_label_loss: 0.0913, \n"
     ]
    },
    {
     "name": "stdout",
     "output_type": "stream",
     "text": [
      "epoch: 16, [batch: 1260 / 1400], examples_per_second: 11789.8233, train_label_loss: 0.1697, \n"
     ]
    },
    {
     "name": "stdout",
     "output_type": "stream",
     "text": [
      "=============================================================\n",
      "epoch: 16, source_val_acc_label: 0.9720, source_val_label_loss: 0.0950, target_val_acc_label: 0.9720, target_val_label_loss: 0.0950, \n",
      "=============================================================\n"
     ]
    },
    {
     "name": "stdout",
     "output_type": "stream",
     "text": [
      "New best\n",
      "epoch: 17, [batch: 1 / 1400], examples_per_second: 63.0565, train_label_loss: 0.0587, \n"
     ]
    },
    {
     "name": "stdout",
     "output_type": "stream",
     "text": [
      "epoch: 17, [batch: 140 / 1400], examples_per_second: 11671.8990, train_label_loss: 0.0666, \n"
     ]
    },
    {
     "name": "stdout",
     "output_type": "stream",
     "text": [
      "epoch: 17, [batch: 280 / 1400], examples_per_second: 11785.1519, train_label_loss: 0.1050, \n"
     ]
    },
    {
     "name": "stdout",
     "output_type": "stream",
     "text": [
      "epoch: 17, [batch: 420 / 1400], examples_per_second: 11749.9464, train_label_loss: 0.1341, \n"
     ]
    },
    {
     "name": "stdout",
     "output_type": "stream",
     "text": [
      "epoch: 17, [batch: 560 / 1400], examples_per_second: 11810.3182, train_label_loss: 0.0359, \n"
     ]
    },
    {
     "name": "stdout",
     "output_type": "stream",
     "text": [
      "epoch: 17, [batch: 700 / 1400], examples_per_second: 11780.1685, train_label_loss: 0.0723, \n"
     ]
    },
    {
     "name": "stdout",
     "output_type": "stream",
     "text": [
      "epoch: 17, [batch: 840 / 1400], examples_per_second: 11766.4903, train_label_loss: 0.0568, \n"
     ]
    },
    {
     "name": "stdout",
     "output_type": "stream",
     "text": [
      "epoch: 17, [batch: 980 / 1400], examples_per_second: 11782.1702, train_label_loss: 0.0403, \n"
     ]
    },
    {
     "name": "stdout",
     "output_type": "stream",
     "text": [
      "epoch: 17, [batch: 1120 / 1400], examples_per_second: 11802.7348, train_label_loss: 0.0890, \n"
     ]
    },
    {
     "name": "stdout",
     "output_type": "stream",
     "text": [
      "epoch: 17, [batch: 1260 / 1400], examples_per_second: 11713.7967, train_label_loss: 0.0661, \n"
     ]
    },
    {
     "name": "stdout",
     "output_type": "stream",
     "text": [
      "=============================================================\n",
      "epoch: 17, source_val_acc_label: 0.9704, source_val_label_loss: 0.0925, target_val_acc_label: 0.9704, target_val_label_loss: 0.0925, \n",
      "=============================================================\n"
     ]
    },
    {
     "name": "stdout",
     "output_type": "stream",
     "text": [
      "epoch: 18, [batch: 1 / 1400], examples_per_second: 65.3744, train_label_loss: 0.0915, \n"
     ]
    },
    {
     "name": "stdout",
     "output_type": "stream",
     "text": [
      "epoch: 18, [batch: 140 / 1400], examples_per_second: 11569.2166, train_label_loss: 0.1151, \n"
     ]
    },
    {
     "name": "stdout",
     "output_type": "stream",
     "text": [
      "epoch: 18, [batch: 280 / 1400], examples_per_second: 11794.7298, train_label_loss: 0.0869, \n"
     ]
    },
    {
     "name": "stdout",
     "output_type": "stream",
     "text": [
      "epoch: 18, [batch: 420 / 1400], examples_per_second: 11832.4880, train_label_loss: 0.0723, \n"
     ]
    },
    {
     "name": "stdout",
     "output_type": "stream",
     "text": [
      "epoch: 18, [batch: 560 / 1400], examples_per_second: 11777.8776, train_label_loss: 0.1408, \n"
     ]
    },
    {
     "name": "stdout",
     "output_type": "stream",
     "text": [
      "epoch: 18, [batch: 700 / 1400], examples_per_second: 11743.3961, train_label_loss: 0.0477, \n"
     ]
    },
    {
     "name": "stdout",
     "output_type": "stream",
     "text": [
      "epoch: 18, [batch: 840 / 1400], examples_per_second: 11772.9354, train_label_loss: 0.0950, \n"
     ]
    },
    {
     "name": "stdout",
     "output_type": "stream",
     "text": [
      "epoch: 18, [batch: 980 / 1400], examples_per_second: 11775.9641, train_label_loss: 0.0788, \n"
     ]
    },
    {
     "name": "stdout",
     "output_type": "stream",
     "text": [
      "epoch: 18, [batch: 1120 / 1400], examples_per_second: 11830.5100, train_label_loss: 0.0855, \n"
     ]
    },
    {
     "name": "stdout",
     "output_type": "stream",
     "text": [
      "epoch: 18, [batch: 1260 / 1400], examples_per_second: 11791.8931, train_label_loss: 0.1379, \n"
     ]
    },
    {
     "name": "stdout",
     "output_type": "stream",
     "text": [
      "=============================================================\n",
      "epoch: 18, source_val_acc_label: 0.9618, source_val_label_loss: 0.1766, target_val_acc_label: 0.9618, target_val_label_loss: 0.1766, \n",
      "=============================================================\n"
     ]
    },
    {
     "name": "stdout",
     "output_type": "stream",
     "text": [
      "epoch: 19, [batch: 1 / 1400], examples_per_second: 65.4962, train_label_loss: 0.0904, \n"
     ]
    },
    {
     "name": "stdout",
     "output_type": "stream",
     "text": [
      "epoch: 19, [batch: 140 / 1400], examples_per_second: 11707.8343, train_label_loss: 0.0836, \n"
     ]
    },
    {
     "name": "stdout",
     "output_type": "stream",
     "text": [
      "epoch: 19, [batch: 280 / 1400], examples_per_second: 11752.6563, train_label_loss: 0.0541, \n"
     ]
    },
    {
     "name": "stdout",
     "output_type": "stream",
     "text": [
      "epoch: 19, [batch: 420 / 1400], examples_per_second: 11677.6274, train_label_loss: 0.0729, \n"
     ]
    },
    {
     "name": "stdout",
     "output_type": "stream",
     "text": [
      "epoch: 19, [batch: 560 / 1400], examples_per_second: 11778.2025, train_label_loss: 0.1126, \n"
     ]
    },
    {
     "name": "stdout",
     "output_type": "stream",
     "text": [
      "epoch: 19, [batch: 700 / 1400], examples_per_second: 11797.2439, train_label_loss: 0.0901, \n"
     ]
    },
    {
     "name": "stdout",
     "output_type": "stream",
     "text": [
      "epoch: 19, [batch: 840 / 1400], examples_per_second: 11786.9206, train_label_loss: 0.0565, \n"
     ]
    },
    {
     "name": "stdout",
     "output_type": "stream",
     "text": [
      "epoch: 19, [batch: 980 / 1400], examples_per_second: 11818.3331, train_label_loss: 0.0652, \n"
     ]
    },
    {
     "name": "stdout",
     "output_type": "stream",
     "text": [
      "epoch: 19, [batch: 1120 / 1400], examples_per_second: 11777.4772, train_label_loss: 0.0612, \n"
     ]
    },
    {
     "name": "stdout",
     "output_type": "stream",
     "text": [
      "epoch: 19, [batch: 1260 / 1400], examples_per_second: 11727.1659, train_label_loss: 0.0657, \n"
     ]
    },
    {
     "name": "stdout",
     "output_type": "stream",
     "text": [
      "=============================================================\n",
      "epoch: 19, source_val_acc_label: 0.9704, source_val_label_loss: 0.0953, target_val_acc_label: 0.9704, target_val_label_loss: 0.0953, \n",
      "=============================================================\n"
     ]
    },
    {
     "name": "stdout",
     "output_type": "stream",
     "text": [
      "epoch: 20, [batch: 1 / 1400], examples_per_second: 65.3395, train_label_loss: 0.0540, \n"
     ]
    },
    {
     "name": "stdout",
     "output_type": "stream",
     "text": [
      "epoch: 20, [batch: 140 / 1400], examples_per_second: 11780.3784, train_label_loss: 0.0688, \n"
     ]
    },
    {
     "name": "stdout",
     "output_type": "stream",
     "text": [
      "epoch: 20, [batch: 280 / 1400], examples_per_second: 11730.6526, train_label_loss: 0.0481, \n"
     ]
    },
    {
     "name": "stdout",
     "output_type": "stream",
     "text": [
      "epoch: 20, [batch: 420 / 1400], examples_per_second: 11791.6563, train_label_loss: 0.4443, \n"
     ]
    },
    {
     "name": "stdout",
     "output_type": "stream",
     "text": [
      "epoch: 20, [batch: 560 / 1400], examples_per_second: 11811.4911, train_label_loss: 0.0742, \n"
     ]
    },
    {
     "name": "stdout",
     "output_type": "stream",
     "text": [
      "epoch: 20, [batch: 700 / 1400], examples_per_second: 11705.0186, train_label_loss: 0.1139, \n"
     ]
    },
    {
     "name": "stdout",
     "output_type": "stream",
     "text": [
      "epoch: 20, [batch: 840 / 1400], examples_per_second: 11720.3029, train_label_loss: 0.1441, \n"
     ]
    },
    {
     "name": "stdout",
     "output_type": "stream",
     "text": [
      "epoch: 20, [batch: 980 / 1400], examples_per_second: 11800.9058, train_label_loss: 0.1427, \n"
     ]
    },
    {
     "name": "stdout",
     "output_type": "stream",
     "text": [
      "epoch: 20, [batch: 1120 / 1400], examples_per_second: 11752.6122, train_label_loss: 0.1087, \n"
     ]
    },
    {
     "name": "stdout",
     "output_type": "stream",
     "text": [
      "epoch: 20, [batch: 1260 / 1400], examples_per_second: 11694.4903, train_label_loss: 0.0534, \n"
     ]
    },
    {
     "name": "stdout",
     "output_type": "stream",
     "text": [
      "=============================================================\n",
      "epoch: 20, source_val_acc_label: 0.9671, source_val_label_loss: 0.1061, target_val_acc_label: 0.9671, target_val_label_loss: 0.1061, \n",
      "=============================================================\n"
     ]
    },
    {
     "name": "stdout",
     "output_type": "stream",
     "text": [
      "Patience (3) exhausted\n"
     ]
    }
   ],
   "source": [
    "jig = Vanilla_Train_Eval_Test_Jig(\n",
    "    model=model,\n",
    "    path_to_best_model=p.BEST_MODEL_PATH,\n",
    "    device=p.device,\n",
    "    label_loss_object=torch.nn.NLLLoss(),\n",
    ")\n",
    "\n",
    "jig.train(\n",
    "    train_iterable=datasets.source.processed.train,\n",
    "    source_val_iterable=datasets.source.processed.val,\n",
    "    target_val_iterable=datasets.target.processed.val,\n",
    "    patience=p.patience,\n",
    "    num_epochs=p.n_epoch,\n",
    "    num_logs_per_epoch=p.NUM_LOGS_PER_EPOCH,\n",
    "    criteria_for_best=p.criteria_for_best\n",
    ")"
   ]
  },
  {
   "cell_type": "code",
   "execution_count": 14,
   "id": "4bc2ac17",
   "metadata": {
    "execution": {
     "iopub.execute_input": "2022-03-26T08:09:45.689033Z",
     "iopub.status.busy": "2022-03-26T08:09:45.688668Z",
     "iopub.status.idle": "2022-03-26T08:09:45.691124Z",
     "shell.execute_reply": "2022-03-26T08:09:45.691428Z"
    },
    "papermill": {
     "duration": 0.081628,
     "end_time": "2022-03-26T08:09:45.691513",
     "exception": false,
     "start_time": "2022-03-26T08:09:45.609885",
     "status": "completed"
    },
    "tags": []
   },
   "outputs": [],
   "source": [
    "total_experiment_time_secs = time.time() - start_time_secs"
   ]
  },
  {
   "cell_type": "code",
   "execution_count": 15,
   "id": "cae88f23",
   "metadata": {
    "execution": {
     "iopub.execute_input": "2022-03-26T08:09:45.879121Z",
     "iopub.status.busy": "2022-03-26T08:09:45.878168Z",
     "iopub.status.idle": "2022-03-26T08:10:07.481203Z",
     "shell.execute_reply": "2022-03-26T08:10:07.480833Z"
    },
    "papermill": {
     "duration": 21.713477,
     "end_time": "2022-03-26T08:10:07.481303",
     "exception": false,
     "start_time": "2022-03-26T08:09:45.767826",
     "status": "completed"
    },
    "tags": []
   },
   "outputs": [],
   "source": [
    "source_test_label_accuracy, source_test_label_loss = jig.test(datasets.source.processed.test)\n",
    "target_test_label_accuracy, target_test_label_loss = jig.test(datasets.target.processed.test)\n",
    "\n",
    "source_val_label_accuracy, source_val_label_loss = jig.test(datasets.source.processed.val)\n",
    "target_val_label_accuracy, target_val_label_loss = jig.test(datasets.target.processed.val)\n",
    "\n",
    "history = jig.get_history()\n",
    "\n",
    "total_epochs_trained = len(history[\"epoch_indices\"])\n",
    "\n",
    "val_dl = wrap_in_dataloader(p, Sequence_Aggregator((datasets.source.original.val, datasets.target.original.val)))\n",
    "\n",
    "confusion = confusion_by_domain_over_dataloader(model, p.device, val_dl, forward_uses_domain=False)\n",
    "per_domain_accuracy = per_domain_accuracy_from_confusion(confusion)\n",
    "\n",
    "# Add a key to per_domain_accuracy for if it was a source domain\n",
    "for domain, accuracy in per_domain_accuracy.items():\n",
    "    per_domain_accuracy[domain] = {\n",
    "        \"accuracy\": accuracy,\n",
    "        \"source?\": domain in p.domains_source\n",
    "    }\n",
    "\n",
    "# Do an independent accuracy assesment JUST TO BE SURE!\n",
    "# _source_test_label_accuracy = independent_accuracy_assesment(model, datasets.source.processed.test, p.device)\n",
    "# _target_test_label_accuracy = independent_accuracy_assesment(model, datasets.target.processed.test, p.device)\n",
    "# _source_val_label_accuracy = independent_accuracy_assesment(model, datasets.source.processed.val, p.device)\n",
    "# _target_val_label_accuracy = independent_accuracy_assesment(model, datasets.target.processed.val, p.device)\n",
    "\n",
    "# assert(_source_test_label_accuracy == source_test_label_accuracy)\n",
    "# assert(_target_test_label_accuracy == target_test_label_accuracy)\n",
    "# assert(_source_val_label_accuracy == source_val_label_accuracy)\n",
    "# assert(_target_val_label_accuracy == target_val_label_accuracy)\n",
    "\n",
    "###################################\n",
    "# Write out the results\n",
    "###################################\n",
    "\n",
    "experiment = {\n",
    "    \"experiment_name\": p.experiment_name,\n",
    "    \"parameters\": p,\n",
    "    \"results\": {\n",
    "        \"source_test_label_accuracy\": source_test_label_accuracy,\n",
    "        \"source_test_label_loss\": source_test_label_loss,\n",
    "        \"target_test_label_accuracy\": target_test_label_accuracy,\n",
    "        \"target_test_label_loss\": target_test_label_loss,\n",
    "        \"source_val_label_accuracy\": source_val_label_accuracy,\n",
    "        \"source_val_label_loss\": source_val_label_loss,\n",
    "        \"target_val_label_accuracy\": target_val_label_accuracy,\n",
    "        \"target_val_label_loss\": target_val_label_loss,\n",
    "        \"total_epochs_trained\": total_epochs_trained,\n",
    "        \"total_experiment_time_secs\": total_experiment_time_secs,\n",
    "        \"confusion\": confusion,\n",
    "        \"per_domain_accuracy\": per_domain_accuracy,\n",
    "    },\n",
    "    \"history\": history,\n",
    "    \"dataset_metrics\": get_dataset_metrics(datasets, \"cnn\"),\n",
    "}"
   ]
  },
  {
   "cell_type": "code",
   "execution_count": 16,
   "id": "74c318cf",
   "metadata": {
    "execution": {
     "iopub.execute_input": "2022-03-26T08:10:07.654086Z",
     "iopub.status.busy": "2022-03-26T08:10:07.641955Z",
     "iopub.status.idle": "2022-03-26T08:10:07.828223Z",
     "shell.execute_reply": "2022-03-26T08:10:07.828892Z"
    },
    "papermill": {
     "duration": 0.273307,
     "end_time": "2022-03-26T08:10:07.829099",
     "exception": false,
     "start_time": "2022-03-26T08:10:07.555792",
     "status": "completed"
    },
    "tags": []
   },
   "outputs": [
    {
     "data": {
      "text/plain": [
       "<AxesSubplot:title={'center':'Source Train Label Loss vs Source Val Label Loss'}, xlabel='Epoch'>"
      ]
     },
     "execution_count": 16,
     "metadata": {},
     "output_type": "execute_result"
    },
    {
     "data": {
      "image/png": "[encoded data removed]",
      "text/plain": [
       "<Figure size 1080x504 with 1 Axes>"
      ]
     },
     "metadata": {
      "needs_background": "light"
     },
     "output_type": "display_data"
    }
   ],
   "source": [
    "get_loss_curve(experiment)"
   ]
  },
  {
   "cell_type": "code",
   "execution_count": 17,
   "id": "59376601",
   "metadata": {
    "execution": {
     "iopub.execute_input": "2022-03-26T08:10:08.009336Z",
     "iopub.status.busy": "2022-03-26T08:10:08.008524Z",
     "iopub.status.idle": "2022-03-26T08:10:08.290450Z",
     "shell.execute_reply": "2022-03-26T08:10:08.291129Z"
    },
    "papermill": {
     "duration": 0.378738,
     "end_time": "2022-03-26T08:10:08.291342",
     "exception": false,
     "start_time": "2022-03-26T08:10:07.912604",
     "status": "completed"
    },
    "tags": []
   },
   "outputs": [
    {
     "data": {
      "text/plain": [
       "<AxesSubplot:title={'center':'Results'}>"
      ]
     },
     "execution_count": 17,
     "metadata": {},
     "output_type": "execute_result"
    },
    {
     "data": {
      "image/png": "[encoded data removed]",
      "text/plain": [
       "<Figure size 1080x504 with 1 Axes>"
      ]
     },
     "metadata": {
      "needs_background": "light"
     },
     "output_type": "display_data"
    }
   ],
   "source": [
    "get_results_table(experiment)"
   ]
  },
  {
   "cell_type": "code",
   "execution_count": 18,
   "id": "e80c5c98",
   "metadata": {
    "execution": {
     "iopub.execute_input": "2022-03-26T08:10:08.469721Z",
     "iopub.status.busy": "2022-03-26T08:10:08.468904Z",
     "iopub.status.idle": "2022-03-26T08:10:08.628500Z",
     "shell.execute_reply": "2022-03-26T08:10:08.627766Z"
    },
    "papermill": {
     "duration": 0.256484,
     "end_time": "2022-03-26T08:10:08.628677",
     "exception": false,
     "start_time": "2022-03-26T08:10:08.372193",
     "status": "completed"
    },
    "tags": []
   },
   "outputs": [
    {
     "data": {
      "text/plain": [
       "<AxesSubplot:title={'center':'Per Domain Accuracy'}, xlabel='domain'>"
      ]
     },
     "execution_count": 18,
     "metadata": {},
     "output_type": "execute_result"
    },
    {
     "data": {
      "image/png": "[encoded data removed]",
      "text/plain": [
       "<Figure size 1080x504 with 1 Axes>"
      ]
     },
     "metadata": {
      "needs_background": "light"
     },
     "output_type": "display_data"
    }
   ],
   "source": [
    "get_domain_accuracies(experiment)"
   ]
  },
  {
   "cell_type": "code",
   "execution_count": 19,
   "id": "086fdd10",
   "metadata": {
    "execution": {
     "iopub.execute_input": "2022-03-26T08:10:08.801010Z",
     "iopub.status.busy": "2022-03-26T08:10:08.800631Z",
     "iopub.status.idle": "2022-03-26T08:10:08.804405Z",
     "shell.execute_reply": "2022-03-26T08:10:08.804033Z"
    },
    "papermill": {
     "duration": 0.091962,
     "end_time": "2022-03-26T08:10:08.804484",
     "exception": false,
     "start_time": "2022-03-26T08:10:08.712522",
     "status": "completed"
    },
    "tags": []
   },
   "outputs": [
    {
     "name": "stdout",
     "output_type": "stream",
     "text": [
      "Source Test Label Accuracy: 0.969375 Target Test Label Accuracy: 0.969375\n",
      "Source Val Label Accuracy: 0.97203125 Target Val Label Accuracy: 0.97203125\n"
     ]
    }
   ],
   "source": [
    "print(\"Source Test Label Accuracy:\", experiment[\"results\"][\"source_test_label_accuracy\"], \"Target Test Label Accuracy:\", experiment[\"results\"][\"target_test_label_accuracy\"])\n",
    "print(\"Source Val Label Accuracy:\", experiment[\"results\"][\"source_val_label_accuracy\"], \"Target Val Label Accuracy:\", experiment[\"results\"][\"target_val_label_accuracy\"])"
   ]
  },
  {
   "cell_type": "code",
   "execution_count": 20,
   "id": "9f450536",
   "metadata": {
    "execution": {
     "iopub.execute_input": "2022-03-26T08:10:08.967658Z",
     "iopub.status.busy": "2022-03-26T08:10:08.967282Z",
     "iopub.status.idle": "2022-03-26T08:10:08.970552Z",
     "shell.execute_reply": "2022-03-26T08:10:08.970184Z"
    },
    "papermill": {
     "duration": 0.085547,
     "end_time": "2022-03-26T08:10:08.970625",
     "exception": false,
     "start_time": "2022-03-26T08:10:08.885078",
     "status": "completed"
    },
    "tags": [
     "experiment_json"
    ]
   },
   "outputs": [
    {
     "data": {
      "text/plain": [
       "'{\"experiment_name\": \"cnn_2:oracle.run2.framed\", \"parameters\": {\"experiment_name\": \"cnn_2:oracle.run2.framed\", \"labels\": [\"3123D52\", \"3123D65\", \"3123D79\", \"3123D80\", \"3123D54\", \"3123D70\", \"3123D7B\", \"3123D89\", \"3123D58\", \"3123D76\", \"3123D7D\", \"3123EFE\", \"3123D64\", \"3123D78\", \"3123D7E\", \"3124E4A\"], \"domains_source\": [8, 32, 50, 14, 20, 26, 38, 44], \"domains_target\": [8, 32, 50, 14, 20, 26, 38, 44], \"pickle_name_source\": \"oracle.Run2_framed_2000Examples_stratified_ds.2022A.pkl\", \"pickle_name_target\": \"oracle.Run2_framed_2000Examples_stratified_ds.2022A.pkl\", \"device\": \"cuda\", \"lr\": 0.0001, \"batch_size\": 128, \"normalize_source\": false, \"normalize_target\": false, \"num_examples_per_domain_per_label_source\": -1, \"num_examples_per_domain_per_label_target\": -1, \"torch_default_dtype\": \"torch.float32\", \"n_epoch\": 50, \"patience\": 3, \"criteria_for_best\": \"target_accuracy\", \"x_net\": [{\"class\": \"nnReshape\", \"kargs\": {\"shape\": [-1, 1, 2, 256]}}, {\"class\": \"Conv2d\", \"kargs\": {\"in_channels\": 1, \"out_channels\": 256, \"kernel_size\": [1, 7], \"bias\": false, \"padding\": [0, 3]}}, {\"class\": \"ReLU\", \"kargs\": {\"inplace\": true}}, {\"class\": \"BatchNorm2d\", \"kargs\": {\"num_features\": 256}}, {\"class\": \"Conv2d\", \"kargs\": {\"in_channels\": 256, \"out_channels\": 80, \"kernel_size\": [2, 7], \"bias\": true, \"padding\": [0, 3]}}, {\"class\": \"ReLU\", \"kargs\": {\"inplace\": true}}, {\"class\": \"BatchNorm2d\", \"kargs\": {\"num_features\": 80}}, {\"class\": \"Flatten\", \"kargs\": {}}, {\"class\": \"Linear\", \"kargs\": {\"in_features\": 20480, \"out_features\": 256}}, {\"class\": \"ReLU\", \"kargs\": {\"inplace\": true}}, {\"class\": \"BatchNorm1d\", \"kargs\": {\"num_features\": 256}}, {\"class\": \"Linear\", \"kargs\": {\"in_features\": 256, \"out_features\": 16}}], \"NUM_LOGS_PER_EPOCH\": 10, \"BEST_MODEL_PATH\": \"./best_model.pth\", \"dataset_seed\": 1337, \"seed\": 1337}, \"results\": {\"source_test_label_accuracy\": 0.969375, \"source_test_label_loss\": 0.1445815514276425, \"target_test_label_accuracy\": 0.969375, \"target_test_label_loss\": 0.14458155167599518, \"source_val_label_accuracy\": 0.97203125, \"source_val_label_loss\": 0.09500070416678985, \"target_val_label_accuracy\": 0.97203125, \"target_val_label_loss\": 0.0950007041171193, \"total_epochs_trained\": 20, \"total_experiment_time_secs\": 366.98278069496155, \"confusion\": {\"26\": {\"3\": {\"3\": 582, \"7\": 16, \"2\": 2}, \"15\": {\"15\": 590, \"2\": 2, \"0\": 8}, \"14\": {\"14\": 600}, \"8\": {\"8\": 538, \"10\": 26, \"2\": 30, \"7\": 4, \"9\": 2}, \"11\": {\"11\": 600}, \"13\": {\"13\": 586, \"9\": 12, \"7\": 2}, \"4\": {\"4\": 600}, \"6\": {\"6\": 582, \"9\": 6, \"10\": 6, \"12\": 2, \"0\": 4}, \"0\": {\"0\": 530, \"10\": 60, \"8\": 6, \"15\": 4}, \"2\": {\"3\": 22, \"2\": 460, \"7\": 76, \"8\": 38, \"10\": 2, \"15\": 2}, \"9\": {\"9\": 592, \"6\": 4, \"13\": 4}, \"12\": {\"12\": 600}, \"10\": {\"10\": 544, \"1\": 4, \"0\": 32, \"8\": 14, \"2\": 6}, \"1\": {\"1\": 598, \"10\": 2}, \"7\": {\"7\": 512, \"3\": 24, \"8\": 12, \"2\": 52}, \"5\": {\"5\": 600}}, \"32\": {\"1\": {\"1\": 600}, \"11\": {\"11\": 578, \"4\": 2, \"13\": 12, \"8\": 2, \"0\": 6}, \"3\": {\"3\": 598, \"12\": 2}, \"15\": {\"8\": 2, \"15\": 598}, \"2\": {\"2\": 600}, \"13\": {\"13\": 594, \"3\": 4, \"4\": 2}, \"8\": {\"8\": 596, \"0\": 4}, \"9\": {\"9\": 592, \"2\": 6, \"12\": 2}, \"14\": {\"14\": 600}, \"6\": {\"6\": 600}, \"4\": {\"4\": 592, \"3\": 2, \"13\": 6}, \"10\": {\"10\": 600}, \"0\": {\"0\": 572, \"8\": 24, \"11\": 4}, \"12\": {\"12\": 598, \"10\": 2}, \"5\": {\"5\": 600}, \"7\": {\"7\": 580, \"2\": 6, \"3\": 10, \"11\": 2, \"4\": 2}}, \"20\": {\"9\": {\"9\": 560, \"3\": 28, \"2\": 10, \"12\": 2}, \"4\": {\"4\": 578, \"12\": 22}, \"10\": {\"10\": 596, \"3\": 2, \"12\": 2}, \"1\": {\"1\": 598, \"2\": 2}, \"5\": {\"5\": 600}, \"2\": {\"2\": 484, \"3\": 68, \"9\": 40, \"1\": 4, \"12\": 2, \"13\": 2}, \"11\": {\"11\": 600}, \"14\": {\"14\": 600}, \"7\": {\"7\": 562, \"3\": 36, \"8\": 2}, \"0\": {\"0\": 598, \"8\": 2}, \"13\": {\"13\": 592, \"2\": 6, \"15\": 2}, \"12\": {\"12\": 564, \"15\": 6, \"4\": 12, \"7\": 10, \"3\": 4, \"9\": 4}, \"15\": {\"15\": 580, \"13\": 10, \"12\": 8, \"9\": 2}, \"6\": {\"6\": 600}, \"3\": {\"3\": 518, \"9\": 54, \"2\": 12, \"12\": 2, \"7\": 14}, \"8\": {\"8\": 598, \"0\": 2}}, \"44\": {\"6\": {\"6\": 590, \"0\": 4, \"13\": 2, \"7\": 4}, \"10\": {\"10\": 600}, \"2\": {\"2\": 600}, \"5\": {\"5\": 600}, \"9\": {\"7\": 136, \"9\": 464}, \"11\": {\"11\": 600}, \"8\": {\"0\": 50, \"8\": 548, \"6\": 2}, \"3\": {\"3\": 584, \"7\": 6, \"12\": 8, \"2\": 2}, \"7\": {\"7\": 538, \"9\": 54, \"6\": 8}, \"13\": {\"13\": 590, \"6\": 4, \"10\": 2, \"0\": 4}, \"14\": {\"14\": 600}, \"1\": {\"1\": 592, \"8\": 4, \"12\": 2, \"7\": 2}, \"0\": {\"0\": 540, \"8\": 60}, \"12\": {\"12\": 578, \"3\": 22}, \"15\": {\"15\": 578, \"1\": 8, \"4\": 4, \"8\": 6, \"6\": 2, \"11\": 2}, \"4\": {\"4\": 580, \"15\": 20}}, \"14\": {\"9\": {\"9\": 600}, \"11\": {\"11\": 600}, \"13\": {\"13\": 576, \"6\": 24}, \"7\": {\"7\": 600}, \"15\": {\"15\": 600}, \"12\": {\"7\": 8, \"12\": 564, \"0\": 26, \"14\": 2}, \"4\": {\"4\": 594, \"1\": 6}, \"1\": {\"1\": 598, \"4\": 2}, \"10\": {\"3\": 68, \"10\": 530, \"12\": 2}, \"6\": {\"6\": 552, \"3\": 2, \"13\": 46}, \"8\": {\"8\": 600}, \"5\": {\"5\": 600}, \"14\": {\"14\": 600}, \"2\": {\"2\": 584, \"3\": 16}, \"0\": {\"0\": 600}, \"3\": {\"3\": 596, \"2\": 4}}, \"8\": {\"14\": {\"14\": 600}, \"1\": {\"1\": 600}, \"7\": {\"7\": 594, \"4\": 6}, \"6\": {\"6\": 584, \"7\": 14, \"4\": 2}, \"13\": {\"13\": 596, \"10\": 4}, \"5\": {\"5\": 600}, \"4\": {\"4\": 570, \"6\": 12, \"7\": 18}, \"12\": {\"12\": 576, \"4\": 14, \"15\": 8, \"10\": 2}, \"11\": {\"11\": 590, \"8\": 10}, \"3\": {\"3\": 590, \"10\": 10}, \"9\": {\"9\": 600}, \"15\": {\"15\": 598, \"12\": 2}, \"10\": {\"10\": 600}, \"0\": {\"0\": 600}, \"2\": {\"2\": 594, \"1\": 4, \"9\": 2}, \"8\": {\"8\": 600}}, \"50\": {\"1\": {\"1\": 596, \"15\": 4}, \"0\": {\"0\": 550, \"2\": 26, \"10\": 14, \"12\": 10}, \"12\": {\"12\": 598, \"9\": 2}, \"11\": {\"11\": 598, \"12\": 2}, \"10\": {\"10\": 598, \"13\": 2}, \"6\": {\"6\": 588, \"1\": 2, \"4\": 8, \"8\": 2}, \"14\": {\"14\": 600}, \"3\": {\"3\": 600}, \"9\": {\"9\": 600}, \"13\": {\"13\": 594, \"10\": 6}, \"8\": {\"8\": 596, \"13\": 4}, \"15\": {\"15\": 540, \"4\": 42, \"11\": 4, \"8\": 8, \"0\": 4, \"14\": 2}, \"4\": {\"4\": 598, \"2\": 2}, \"2\": {\"2\": 594, \"12\": 2, \"9\": 2, \"0\": 2}, \"7\": {\"7\": 588, \"2\": 10, \"14\": 2}, \"5\": {\"5\": 598, \"13\": 2}}, \"38\": {\"8\": {\"8\": 586, \"7\": 6, \"0\": 2, \"4\": 2, \"15\": 4}, \"13\": {\"13\": 534, \"3\": 56, \"10\": 8, \"7\": 2}, \"3\": {\"13\": 106, \"3\": 490, \"10\": 4}, \"15\": {\"15\": 546, \"1\": 52, \"11\": 2}, \"6\": {\"6\": 600}, \"2\": {\"2\": 600}, \"9\": {\"9\": 600}, \"12\": {\"12\": 600}, \"11\": {\"11\": 598, \"12\": 2}, \"1\": {\"1\": 584, \"15\": 16}, \"14\": {\"14\": 594, \"2\": 4, \"11\": 2}, \"7\": {\"7\": 590, \"8\": 4, \"0\": 6}, \"0\": {\"0\": 588, \"3\": 2, \"9\": 4, \"13\": 6}, \"4\": {\"4\": 600}, \"5\": {\"5\": 600}, \"10\": {\"10\": 598, \"7\": 2}}}, \"per_domain_accuracy\": {\"26\": {\"accuracy\": 0.949375, \"source?\": true}, \"32\": {\"accuracy\": 0.989375, \"source?\": true}, \"20\": {\"accuracy\": 0.96125, \"source?\": true}, \"44\": {\"accuracy\": 0.9564583333333333, \"source?\": true}, \"14\": {\"accuracy\": 0.9785416666666666, \"source?\": true}, \"8\": {\"accuracy\": 0.98875, \"source?\": true}, \"50\": {\"accuracy\": 0.9829166666666667, \"source?\": true}, \"38\": {\"accuracy\": 0.9695833333333334, \"source?\": true}}}, \"history\": {\"epoch_indices\": [1, 2, 3, 4, 5, 6, 7, 8, 9, 10, 11, 12, 13, 14, 15, 16, 17, 18, 19, 20], \"train_label_loss\": [2.176066553081785, 1.0911222328458514, 0.5687213435981955, 0.37013786984341485, 0.28501080608793666, 0.23751346777060203, 0.20088761193943874, 0.18369942811982973, 0.16067594293771045, 0.14913889459999544, 0.14935700273141264, 0.12944635554349848, 0.12000225001413907, 0.1115293255528169, 0.10330191594415478, 0.10066832360412394, 0.09413698642913784, 0.08998776555593525, 0.08922714600672148, 0.07928195590419429], \"source_val_label_loss\": [1.5608149715264639, 0.6818954586982727, 0.40046929359436034, 0.27493492916226386, 0.21929870083928107, 0.2209156815210978, 0.18167348305384318, 0.2901833324631055, 0.16438400958975155, 0.13764201919237773, 0.15204689977069696, 0.1319148543352882, 0.15758774753659963, 0.10979394306739171, 0.1663464545086026, 0.0950007041109105, 0.09248503430436054, 0.1765906015659372, 0.09534159406398733, 0.10613804825892051], \"target_val_label_loss\": [1.560814970334371, 0.6818954664468765, 0.4004692867398262, 0.2749349274734656, 0.21929870113730432, 0.22091568080087504, 0.1816734812160333, 0.29018332886199155, 0.16438400896886984, 0.1376420200119416, 0.15204689842959246, 0.13191485511759918, 0.15758775076518455, 0.10979394197463989, 0.16634645404915016, 0.09500070365766684, 0.092485034322987, 0.17659060115615527, 0.09534159319475294, 0.10613804915299019], \"source_val_acc_label\": [0.5417447916666667, 0.8443489583333333, 0.900546875, 0.929453125, 0.93953125, 0.9420052083333333, 0.9447135416666667, 0.9540885416666667, 0.9487239583333333, 0.95984375, 0.9515885416666666, 0.959140625, 0.9540104166666666, 0.967890625, 0.9572135416666666, 0.97203125, 0.9704427083333333, 0.9618229166666666, 0.9704427083333333, 0.9670572916666667], \"target_val_acc_label\": [0.5417447916666667, 0.8443489583333333, 0.900546875, 0.929453125, 0.93953125, 0.9420052083333333, 0.9447135416666667, 0.9540885416666667, 0.9487239583333333, 0.95984375, 0.9515885416666666, 0.959140625, 0.9540104166666666, 0.967890625, 0.9572135416666666, 0.97203125, 0.9704427083333333, 0.9618229166666666, 0.9704427083333333, 0.9670572916666667]}, \"dataset_metrics\": {\"source\": {\"train\": {\"n_unique_x\": 179200, \"n_unique_y\": 16, \"n_batch/episode\": 1400}, \"val\": {\"n_unique_x\": 38400, \"n_unique_y\": 16, \"n_batch/episode\": 300}, \"test\": {\"n_unique_x\": 38400, \"n_unique_y\": 16, \"n_batch/episode\": 300}}, \"target\": {\"train\": {\"n_unique_x\": 179200, \"n_unique_y\": 16, \"n_batch/episode\": 1400}, \"val\": {\"n_unique_x\": 38400, \"n_unique_y\": 16, \"n_batch/episode\": 300}, \"test\": {\"n_unique_x\": 38400, \"n_unique_y\": 16, \"n_batch/episode\": 300}}}}'"
      ]
     },
     "execution_count": 20,
     "metadata": {},
     "output_type": "execute_result"
    }
   ],
   "source": [
    "json.dumps(experiment)"
   ]
  }
 ],
 "metadata": {
  "celltoolbar": "Tags",
  "kernelspec": {
   "display_name": "Python 3 (ipykernel)",
   "language": "python",
   "name": "python3"
  },
  "language_info": {
   "codemirror_mode": {
    "name": "ipython",
    "version": 3
   },
   "file_extension": ".py",
   "mimetype": "text/x-python",
   "name": "python",
   "nbconvert_exporter": "python",
   "pygments_lexer": "ipython3",
   "version": "3.8.12"
  },
  "papermill": {
   "default_parameters": {},
   "duration": 395.804071,
   "end_time": "2022-03-26T08:10:11.860226",
   "environment_variables": {},
   "exception": null,
   "input_path": "/root/csc500-main/csc500-notebooks/templates/cnn_template.ipynb",
   "output_path": "trial.ipynb",
   "parameters": {
    "parameters": {
     "BEST_MODEL_PATH": "./best_model.pth",
     "NUM_LOGS_PER_EPOCH": 10,
     "batch_size": 128,
     "criteria_for_best": "target_accuracy",
     "dataset_seed": 1337,
     "device": "cuda",
     "domains_source": [
      8,
      32,
      50,
      14,
      20,
      26,
      38,
      44
     ],
     "domains_target": [
      8,
      32,
      50,
      14,
      20,
      26,
      38,
      44
     ],
     "experiment_name": "cnn_2:oracle.run2.framed",
     "labels": [
      "3123D52",
      "3123D65",
      "3123D79",
      "3123D80",
      "3123D54",
      "3123D70",
      "3123D7B",
      "3123D89",
      "3123D58",
      "3123D76",
      "3123D7D",
      "3123EFE",
      "3123D64",
      "3123D78",
      "3123D7E",
      "3124E4A"
     ],
     "lr": 0.0001,
     "n_epoch": 50,
     "normalize_source": false,
     "normalize_target": false,
     "num_examples_per_domain_per_label_source": -1,
     "num_examples_per_domain_per_label_target": -1,
     "patience": 3,
     "pickle_name_source": "oracle.Run2_framed_2000Examples_stratified_ds.2022A.pkl",
     "pickle_name_target": "oracle.Run2_framed_2000Examples_stratified_ds.2022A.pkl",
     "seed": 1337,
     "torch_default_dtype": "torch.float32",
     "x_net": [
      {
       "class": "nnReshape",
       "kargs": {
        "shape": [
         -1,
         1,
         2,
         256
        ]
       }
      },
      {
       "class": "Conv2d",
       "kargs": {
        "bias": false,
        "in_channels": 1,
        "kernel_size": [
         1,
         7
        ],
        "out_channels": 256,
        "padding": [
         0,
         3
        ]
       }
      },
      {
       "class": "ReLU",
       "kargs": {
        "inplace": true
       }
      },
      {
       "class": "BatchNorm2d",
       "kargs": {
        "num_features": 256
       }
      },
      {
       "class": "Conv2d",
       "kargs": {
        "bias": true,
        "in_channels": 256,
        "kernel_size": [
         2,
         7
        ],
        "out_channels": 80,
        "padding": [
         0,
         3
        ]
       }
      },
      {
       "class": "ReLU",
       "kargs": {
        "inplace": true
       }
      },
      {
       "class": "BatchNorm2d",
       "kargs": {
        "num_features": 80
       }
      },
      {
       "class": "Flatten",
       "kargs": {}
      },
      {
       "class": "Linear",
       "kargs": {
        "in_features": 20480,
        "out_features": 256
       }
      },
      {
       "class": "ReLU",
       "kargs": {
        "inplace": true
       }
      },
      {
       "class": "BatchNorm1d",
       "kargs": {
        "num_features": 256
       }
      },
      {
       "class": "Linear",
       "kargs": {
        "in_features": 256,
        "out_features": 16
       }
      }
     ]
    }
   },
   "start_time": "2022-03-26T08:03:36.056155",
   "version": "2.3.4"
  }
 },
 "nbformat": 4,
 "nbformat_minor": 5
}