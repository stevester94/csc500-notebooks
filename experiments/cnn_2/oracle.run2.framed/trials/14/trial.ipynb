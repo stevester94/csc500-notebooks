{
 "cells": [
  {
   "cell_type": "code",
   "execution_count": 1,
   "id": "2324682e",
   "metadata": {
    "execution": {
     "iopub.execute_input": "2022-03-26T09:33:45.416639Z",
     "iopub.status.busy": "2022-03-26T09:33:45.415781Z",
     "iopub.status.idle": "2022-03-26T09:33:46.702866Z",
     "shell.execute_reply": "2022-03-26T09:33:46.702081Z"
    },
    "papermill": {
     "duration": 1.328259,
     "end_time": "2022-03-26T09:33:46.703050",
     "exception": false,
     "start_time": "2022-03-26T09:33:45.374791",
     "status": "completed"
    },
    "tags": []
   },
   "outputs": [],
   "source": [
    "import os, json, sys, time, random\n",
    "import numpy as np\n",
    "import torch\n",
    "from  easydict import EasyDict\n",
    "from math import floor\n",
    "from easydict import EasyDict\n",
    "\n",
    "from steves_utils.vanilla_train_eval_test_jig import  Vanilla_Train_Eval_Test_Jig\n",
    "\n",
    "from steves_utils.torch_utils import get_dataset_metrics, independent_accuracy_assesment\n",
    "from steves_models.configurable_vanilla import Configurable_Vanilla\n",
    "from steves_utils.torch_sequential_builder import build_sequential\n",
    "from steves_utils.lazy_map import Lazy_Map\n",
    "from steves_utils.sequence_aggregator import Sequence_Aggregator\n",
    "\n",
    "from steves_utils.stratified_dataset.traditional_accessor import Traditional_Accessor_Factory\n",
    "\n",
    "from steves_utils.cnn_do_report import (\n",
    "    get_loss_curve,\n",
    "    get_results_table,\n",
    "    get_parameters_table,\n",
    "    get_domain_accuracies,\n",
    ")\n",
    "\n",
    "from steves_utils.torch_utils import (\n",
    "    confusion_by_domain_over_dataloader,\n",
    "    independent_accuracy_assesment\n",
    ")\n",
    "\n",
    "from steves_utils.utils_v2 import (\n",
    "    per_domain_accuracy_from_confusion,\n",
    "    get_datasets_base_path\n",
    ")\n",
    "\n",
    "# from steves_utils.ptn_do_report import TBD"
   ]
  },
  {
   "cell_type": "code",
   "execution_count": 2,
   "id": "1b29e3fe",
   "metadata": {
    "execution": {
     "iopub.execute_input": "2022-03-26T09:33:46.741159Z",
     "iopub.status.busy": "2022-03-26T09:33:46.740578Z",
     "iopub.status.idle": "2022-03-26T09:33:46.743420Z",
     "shell.execute_reply": "2022-03-26T09:33:46.742935Z"
    },
    "papermill": {
     "duration": 0.022021,
     "end_time": "2022-03-26T09:33:46.743526",
     "exception": false,
     "start_time": "2022-03-26T09:33:46.721505",
     "status": "completed"
    },
    "tags": []
   },
   "outputs": [],
   "source": [
    "required_parameters = {\n",
    "    \"experiment_name\",\n",
    "    \"lr\",\n",
    "    \"device\",\n",
    "    \"dataset_seed\",\n",
    "    \"seed\",\n",
    "    \"labels\",\n",
    "    \"domains_target\",\n",
    "    \"domains_source\",\n",
    "    \"num_examples_per_domain_per_label_source\",\n",
    "    \"num_examples_per_domain_per_label_target\",\n",
    "    \"batch_size\",\n",
    "    \"n_epoch\",\n",
    "    \"patience\",\n",
    "    \"criteria_for_best\",\n",
    "    \"normalize_source\",\n",
    "    \"normalize_target\",\n",
    "    \"x_net\",\n",
    "    \"NUM_LOGS_PER_EPOCH\",\n",
    "    \"BEST_MODEL_PATH\",\n",
    "    \"pickle_name_source\",\n",
    "    \"pickle_name_target\",\n",
    "    \"torch_default_dtype\",\n",
    "}"
   ]
  },
  {
   "cell_type": "code",
   "execution_count": 3,
   "id": "670b5fb8",
   "metadata": {
    "execution": {
     "iopub.execute_input": "2022-03-26T09:33:46.789467Z",
     "iopub.status.busy": "2022-03-26T09:33:46.788579Z",
     "iopub.status.idle": "2022-03-26T09:33:46.796333Z",
     "shell.execute_reply": "2022-03-26T09:33:46.795492Z"
    },
    "papermill": {
     "duration": 0.036829,
     "end_time": "2022-03-26T09:33:46.796485",
     "exception": false,
     "start_time": "2022-03-26T09:33:46.759656",
     "status": "completed"
    },
    "tags": [
     "parameters"
    ]
   },
   "outputs": [],
   "source": [
    "from steves_utils.ORACLE.utils_v2 import (\n",
    "    ALL_SERIAL_NUMBERS,\n",
    "    ALL_DISTANCES_FEET_NARROWED,\n",
    ")\n",
    "\n",
    "standalone_parameters = {}\n",
    "standalone_parameters[\"experiment_name\"] = \"MANUAL CORES CNN\"\n",
    "standalone_parameters[\"lr\"] = 0.0001\n",
    "standalone_parameters[\"device\"] = \"cuda\"\n",
    "\n",
    "standalone_parameters[\"dataset_seed\"] = 1337\n",
    "standalone_parameters[\"seed\"] = 1337\n",
    "standalone_parameters[\"labels\"] = ALL_SERIAL_NUMBERS\n",
    "\n",
    "standalone_parameters[\"domains_source\"] = [8,32,50]\n",
    "standalone_parameters[\"domains_target\"] = [14,20,26,38,44,]\n",
    "\n",
    "standalone_parameters[\"num_examples_per_domain_per_label_source\"]=-1\n",
    "standalone_parameters[\"num_examples_per_domain_per_label_target\"]=-1\n",
    "\n",
    "standalone_parameters[\"pickle_name_source\"] = \"oracle.Run1_framed_2000Examples_stratified_ds.2022A.pkl\"\n",
    "standalone_parameters[\"pickle_name_target\"] = \"oracle.Run2_framed_2000Examples_stratified_ds.2022A.pkl\"\n",
    "\n",
    "standalone_parameters[\"torch_default_dtype\"] = \"torch.float32\" \n",
    "\n",
    "standalone_parameters[\"batch_size\"]=128\n",
    "\n",
    "standalone_parameters[\"n_epoch\"] = 3\n",
    "\n",
    "standalone_parameters[\"patience\"] = 10\n",
    "\n",
    "standalone_parameters[\"criteria_for_best\"] = \"target_accuracy\"\n",
    "standalone_parameters[\"normalize_source\"] = False\n",
    "standalone_parameters[\"normalize_target\"] = False\n",
    "\n",
    "standalone_parameters[\"x_net\"] =     [\n",
    "    {\"class\": \"nnReshape\", \"kargs\": {\"shape\":[-1, 1, 2, 256]}},\n",
    "    {\"class\": \"Conv2d\", \"kargs\": { \"in_channels\":1, \"out_channels\":256, \"kernel_size\":(1,7), \"bias\":False, \"padding\":(0,3), },},\n",
    "    {\"class\": \"ReLU\", \"kargs\": {\"inplace\": True}},\n",
    "    {\"class\": \"BatchNorm2d\", \"kargs\": {\"num_features\":256}},\n",
    "\n",
    "    {\"class\": \"Conv2d\", \"kargs\": { \"in_channels\":256, \"out_channels\":80, \"kernel_size\":(2,7), \"bias\":True, \"padding\":(0,3), },},\n",
    "    {\"class\": \"ReLU\", \"kargs\": {\"inplace\": True}},\n",
    "    {\"class\": \"BatchNorm2d\", \"kargs\": {\"num_features\":80}},\n",
    "    {\"class\": \"Flatten\", \"kargs\": {}},\n",
    "\n",
    "    {\"class\": \"Linear\", \"kargs\": {\"in_features\": 80*256, \"out_features\": 256}}, # 80 units per IQ pair\n",
    "    {\"class\": \"ReLU\", \"kargs\": {\"inplace\": True}},\n",
    "    {\"class\": \"BatchNorm1d\", \"kargs\": {\"num_features\":256}},\n",
    "\n",
    "    {\"class\": \"Linear\", \"kargs\": {\"in_features\": 256, \"out_features\": len(standalone_parameters[\"labels\"])}},\n",
    "]\n",
    "\n",
    "standalone_parameters[\"NUM_LOGS_PER_EPOCH\"] = 10\n",
    "standalone_parameters[\"BEST_MODEL_PATH\"] = \"./best_model.pth\""
   ]
  },
  {
   "cell_type": "code",
   "execution_count": 4,
   "id": "c6059432",
   "metadata": {
    "execution": {
     "iopub.execute_input": "2022-03-26T09:33:46.844165Z",
     "iopub.status.busy": "2022-03-26T09:33:46.843247Z",
     "iopub.status.idle": "2022-03-26T09:33:46.846128Z",
     "shell.execute_reply": "2022-03-26T09:33:46.845327Z"
    },
    "papermill": {
     "duration": 0.030069,
     "end_time": "2022-03-26T09:33:46.846281",
     "exception": false,
     "start_time": "2022-03-26T09:33:46.816212",
     "status": "completed"
    },
    "tags": [
     "injected-parameters"
    ]
   },
   "outputs": [],
   "source": [
    "# Parameters\n",
    "parameters = {\n",
    "    \"experiment_name\": \"cnn_2:oracle.run2.framed\",\n",
    "    \"labels\": [\n",
    "        \"3123D52\",\n",
    "        \"3123D65\",\n",
    "        \"3123D79\",\n",
    "        \"3123D80\",\n",
    "        \"3123D54\",\n",
    "        \"3123D70\",\n",
    "        \"3123D7B\",\n",
    "        \"3123D89\",\n",
    "        \"3123D58\",\n",
    "        \"3123D76\",\n",
    "        \"3123D7D\",\n",
    "        \"3123EFE\",\n",
    "        \"3123D64\",\n",
    "        \"3123D78\",\n",
    "        \"3123D7E\",\n",
    "        \"3124E4A\",\n",
    "    ],\n",
    "    \"domains_source\": [8, 32, 50, 14, 20, 26, 38, 44],\n",
    "    \"domains_target\": [8, 32, 50, 14, 20, 26, 38, 44],\n",
    "    \"pickle_name_source\": \"oracle.Run2_framed_2000Examples_stratified_ds.2022A.pkl\",\n",
    "    \"pickle_name_target\": \"oracle.Run2_framed_2000Examples_stratified_ds.2022A.pkl\",\n",
    "    \"device\": \"cuda\",\n",
    "    \"lr\": 0.0001,\n",
    "    \"batch_size\": 128,\n",
    "    \"normalize_source\": False,\n",
    "    \"normalize_target\": False,\n",
    "    \"num_examples_per_domain_per_label_source\": -1,\n",
    "    \"num_examples_per_domain_per_label_target\": -1,\n",
    "    \"torch_default_dtype\": \"torch.float32\",\n",
    "    \"n_epoch\": 50,\n",
    "    \"patience\": 3,\n",
    "    \"criteria_for_best\": \"target_accuracy\",\n",
    "    \"x_net\": [\n",
    "        {\"class\": \"nnReshape\", \"kargs\": {\"shape\": [-1, 1, 2, 256]}},\n",
    "        {\n",
    "            \"class\": \"Conv2d\",\n",
    "            \"kargs\": {\n",
    "                \"in_channels\": 1,\n",
    "                \"out_channels\": 256,\n",
    "                \"kernel_size\": [1, 7],\n",
    "                \"bias\": False,\n",
    "                \"padding\": [0, 3],\n",
    "            },\n",
    "        },\n",
    "        {\"class\": \"ReLU\", \"kargs\": {\"inplace\": True}},\n",
    "        {\"class\": \"BatchNorm2d\", \"kargs\": {\"num_features\": 256}},\n",
    "        {\n",
    "            \"class\": \"Conv2d\",\n",
    "            \"kargs\": {\n",
    "                \"in_channels\": 256,\n",
    "                \"out_channels\": 80,\n",
    "                \"kernel_size\": [2, 7],\n",
    "                \"bias\": True,\n",
    "                \"padding\": [0, 3],\n",
    "            },\n",
    "        },\n",
    "        {\"class\": \"ReLU\", \"kargs\": {\"inplace\": True}},\n",
    "        {\"class\": \"BatchNorm2d\", \"kargs\": {\"num_features\": 80}},\n",
    "        {\"class\": \"Flatten\", \"kargs\": {}},\n",
    "        {\"class\": \"Linear\", \"kargs\": {\"in_features\": 20480, \"out_features\": 256}},\n",
    "        {\"class\": \"ReLU\", \"kargs\": {\"inplace\": True}},\n",
    "        {\"class\": \"BatchNorm1d\", \"kargs\": {\"num_features\": 256}},\n",
    "        {\"class\": \"Linear\", \"kargs\": {\"in_features\": 256, \"out_features\": 16}},\n",
    "    ],\n",
    "    \"NUM_LOGS_PER_EPOCH\": 10,\n",
    "    \"BEST_MODEL_PATH\": \"./best_model.pth\",\n",
    "    \"dataset_seed\": 7,\n",
    "    \"seed\": 7,\n",
    "}\n"
   ]
  },
  {
   "cell_type": "code",
   "execution_count": 5,
   "id": "759b56ec",
   "metadata": {
    "execution": {
     "iopub.execute_input": "2022-03-26T09:33:46.884710Z",
     "iopub.status.busy": "2022-03-26T09:33:46.884342Z",
     "iopub.status.idle": "2022-03-26T09:33:46.886748Z",
     "shell.execute_reply": "2022-03-26T09:33:46.886434Z"
    },
    "papermill": {
     "duration": 0.021784,
     "end_time": "2022-03-26T09:33:46.886816",
     "exception": false,
     "start_time": "2022-03-26T09:33:46.865032",
     "status": "completed"
    },
    "tags": []
   },
   "outputs": [],
   "source": [
    "# Set this to True if you want to run this template directly\n",
    "STANDALONE = False\n",
    "if STANDALONE:\n",
    "    print(\"parameters not injected, running with standalone_parameters\")\n",
    "    parameters = standalone_parameters\n",
    "\n",
    "if not 'parameters' in locals() and not 'parameters' in globals():\n",
    "    raise Exception(\"Parameter injection failed\")\n",
    "\n",
    "#Use an easy dict for all the parameters\n",
    "p = EasyDict(parameters)\n",
    "\n",
    "supplied_keys = set(p.keys())\n",
    "\n",
    "if  supplied_keys != required_parameters:\n",
    "    print(\"Parameters are incorrect\")\n",
    "    if len(supplied_keys - required_parameters)>0: print(\"Shouldn't have:\", str(supplied_keys - required_parameters))\n",
    "    if len(required_parameters - supplied_keys)>0: print(\"Need to have:\", str(required_parameters - supplied_keys))\n",
    "    raise RuntimeError(\"Parameters are incorrect\")\n",
    "\n"
   ]
  },
  {
   "cell_type": "code",
   "execution_count": 6,
   "id": "d5c66a71",
   "metadata": {
    "execution": {
     "iopub.execute_input": "2022-03-26T09:33:46.925345Z",
     "iopub.status.busy": "2022-03-26T09:33:46.924980Z",
     "iopub.status.idle": "2022-03-26T09:33:46.929826Z",
     "shell.execute_reply": "2022-03-26T09:33:46.929125Z"
    },
    "papermill": {
     "duration": 0.02284,
     "end_time": "2022-03-26T09:33:46.929982",
     "exception": false,
     "start_time": "2022-03-26T09:33:46.907142",
     "status": "completed"
    },
    "tags": []
   },
   "outputs": [],
   "source": [
    "###################################\n",
    "# Set the RNGs and make it all deterministic\n",
    "###################################\n",
    "np.random.seed(p.seed)\n",
    "random.seed(p.seed)\n",
    "torch.manual_seed(p.seed)\n",
    "\n",
    "torch.use_deterministic_algorithms(True) "
   ]
  },
  {
   "cell_type": "code",
   "execution_count": 7,
   "id": "92a65876",
   "metadata": {
    "execution": {
     "iopub.execute_input": "2022-03-26T09:33:46.966869Z",
     "iopub.status.busy": "2022-03-26T09:33:46.966508Z",
     "iopub.status.idle": "2022-03-26T09:33:46.968864Z",
     "shell.execute_reply": "2022-03-26T09:33:46.969164Z"
    },
    "papermill": {
     "duration": 0.020103,
     "end_time": "2022-03-26T09:33:46.969243",
     "exception": false,
     "start_time": "2022-03-26T09:33:46.949140",
     "status": "completed"
    },
    "tags": []
   },
   "outputs": [],
   "source": [
    "torch.set_default_dtype(eval(p.torch_default_dtype))"
   ]
  },
  {
   "cell_type": "code",
   "execution_count": 8,
   "id": "f1a32f01",
   "metadata": {
    "execution": {
     "iopub.execute_input": "2022-03-26T09:33:47.004245Z",
     "iopub.status.busy": "2022-03-26T09:33:47.003843Z",
     "iopub.status.idle": "2022-03-26T09:33:47.044167Z",
     "shell.execute_reply": "2022-03-26T09:33:47.043340Z"
    },
    "papermill": {
     "duration": 0.058256,
     "end_time": "2022-03-26T09:33:47.044322",
     "exception": false,
     "start_time": "2022-03-26T09:33:46.986066",
     "status": "completed"
    },
    "tags": []
   },
   "outputs": [],
   "source": [
    "###################################\n",
    "# Build the network(s)\n",
    "# Note: It's critical to do this AFTER setting the RNG\n",
    "###################################\n",
    "x_net = build_sequential(p.x_net)"
   ]
  },
  {
   "cell_type": "code",
   "execution_count": 9,
   "id": "a276cd83",
   "metadata": {
    "execution": {
     "iopub.execute_input": "2022-03-26T09:33:47.084608Z",
     "iopub.status.busy": "2022-03-26T09:33:47.084063Z",
     "iopub.status.idle": "2022-03-26T09:33:47.087145Z",
     "shell.execute_reply": "2022-03-26T09:33:47.086601Z"
    },
    "papermill": {
     "duration": 0.020597,
     "end_time": "2022-03-26T09:33:47.087248",
     "exception": false,
     "start_time": "2022-03-26T09:33:47.066651",
     "status": "completed"
    },
    "tags": []
   },
   "outputs": [],
   "source": [
    "start_time_secs = time.time()"
   ]
  },
  {
   "cell_type": "code",
   "execution_count": 10,
   "id": "de702e48",
   "metadata": {
    "execution": {
     "iopub.execute_input": "2022-03-26T09:33:47.133212Z",
     "iopub.status.busy": "2022-03-26T09:33:47.132345Z",
     "iopub.status.idle": "2022-03-26T09:33:53.979189Z",
     "shell.execute_reply": "2022-03-26T09:33:53.978397Z"
    },
    "papermill": {
     "duration": 6.874993,
     "end_time": "2022-03-26T09:33:53.979384",
     "exception": false,
     "start_time": "2022-03-26T09:33:47.104391",
     "status": "completed"
    },
    "tags": []
   },
   "outputs": [],
   "source": [
    "def wrap_in_dataloader(p, ds):\n",
    "    return torch.utils.data.DataLoader(\n",
    "        ds,\n",
    "        batch_size=p.batch_size,\n",
    "        shuffle=True,\n",
    "        num_workers=1,\n",
    "        persistent_workers=True,\n",
    "        prefetch_factor=50,\n",
    "        pin_memory=True\n",
    "    )\n",
    "\n",
    "taf_source = Traditional_Accessor_Factory(\n",
    "    labels=p.labels,\n",
    "    domains=p.domains_source,\n",
    "    num_examples_per_domain_per_label=p.num_examples_per_domain_per_label_source,\n",
    "    pickle_path=os.path.join(get_datasets_base_path(), p.pickle_name_source),\n",
    "    seed=p.dataset_seed\n",
    ")\n",
    "train_original_source, val_original_source, test_original_source = \\\n",
    "    taf_source.get_train(), taf_source.get_val(), taf_source.get_test()\n",
    "\n",
    "\n",
    "taf_target = Traditional_Accessor_Factory(\n",
    "    labels=p.labels,\n",
    "    domains=p.domains_target,\n",
    "    num_examples_per_domain_per_label=p.num_examples_per_domain_per_label_source,\n",
    "    pickle_path=os.path.join(get_datasets_base_path(), p.pickle_name_target),\n",
    "    seed=p.dataset_seed\n",
    ")\n",
    "train_original_target, val_original_target, test_original_target = \\\n",
    "    taf_target.get_train(), taf_target.get_val(), taf_target.get_test()\n",
    "\n",
    "\n",
    "# For CNN We only use X and Y. And we only train on the source.\n",
    "# Properly form the data using a transform lambda and Lazy_Map. Finally wrap them in a dataloader\n",
    "\n",
    "transform_lambda = lambda ex: ex[:2] # Strip the tuple to just (x,y)\n",
    "\n",
    "\n",
    "train_processed_source = wrap_in_dataloader(\n",
    "    p,\n",
    "    Lazy_Map(train_original_source, transform_lambda)\n",
    ")\n",
    "val_processed_source = wrap_in_dataloader(\n",
    "    p,\n",
    "    Lazy_Map(val_original_source, transform_lambda)\n",
    ")\n",
    "test_processed_source = wrap_in_dataloader(\n",
    "    p,\n",
    "    Lazy_Map(test_original_source, transform_lambda)\n",
    ")\n",
    "\n",
    "train_processed_target = wrap_in_dataloader(\n",
    "    p,\n",
    "    Lazy_Map(train_original_target, transform_lambda)\n",
    ")\n",
    "val_processed_target = wrap_in_dataloader(\n",
    "    p,\n",
    "    Lazy_Map(val_original_target, transform_lambda)\n",
    ")\n",
    "test_processed_target  = wrap_in_dataloader(\n",
    "    p,\n",
    "    Lazy_Map(test_original_target, transform_lambda)\n",
    ")\n",
    "\n",
    "\n",
    "\n",
    "datasets = EasyDict({\n",
    "    \"source\": {\n",
    "        \"original\": {\"train\":train_original_source, \"val\":val_original_source, \"test\":test_original_source},\n",
    "        \"processed\": {\"train\":train_processed_source, \"val\":val_processed_source, \"test\":test_processed_source}\n",
    "    },\n",
    "    \"target\": {\n",
    "        \"original\": {\"train\":train_original_target, \"val\":val_original_target, \"test\":test_original_target},\n",
    "        \"processed\": {\"train\":train_processed_target, \"val\":val_processed_target, \"test\":test_processed_target}\n",
    "    },\n",
    "})"
   ]
  },
  {
   "cell_type": "code",
   "execution_count": 11,
   "id": "a11b26bd",
   "metadata": {
    "execution": {
     "iopub.execute_input": "2022-03-26T09:33:54.057235Z",
     "iopub.status.busy": "2022-03-26T09:33:54.056399Z",
     "iopub.status.idle": "2022-03-26T09:33:59.825476Z",
     "shell.execute_reply": "2022-03-26T09:33:59.826276Z"
    },
    "papermill": {
     "duration": 5.827666,
     "end_time": "2022-03-26T09:33:59.826479",
     "exception": false,
     "start_time": "2022-03-26T09:33:53.998813",
     "status": "completed"
    },
    "tags": []
   },
   "outputs": [
    {
     "data": {
      "text/plain": [
       "torch.float32"
      ]
     },
     "execution_count": 11,
     "metadata": {},
     "output_type": "execute_result"
    }
   ],
   "source": [
    "ep = next(iter(test_processed_target))\n",
    "ep[0].dtype"
   ]
  },
  {
   "cell_type": "code",
   "execution_count": 12,
   "id": "19425fad",
   "metadata": {
    "execution": {
     "iopub.execute_input": "2022-03-26T09:33:59.866113Z",
     "iopub.status.busy": "2022-03-26T09:33:59.865562Z",
     "iopub.status.idle": "2022-03-26T09:33:59.914499Z",
     "shell.execute_reply": "2022-03-26T09:33:59.913799Z"
    },
    "papermill": {
     "duration": 0.070081,
     "end_time": "2022-03-26T09:33:59.914650",
     "exception": false,
     "start_time": "2022-03-26T09:33:59.844569",
     "status": "completed"
    },
    "tags": []
   },
   "outputs": [],
   "source": [
    "model = Configurable_Vanilla(\n",
    "    x_net=x_net,\n",
    "    label_loss_object=torch.nn.NLLLoss(),\n",
    "    learning_rate=p.lr\n",
    ")"
   ]
  },
  {
   "cell_type": "code",
   "execution_count": 13,
   "id": "7f6d4f2c",
   "metadata": {
    "execution": {
     "iopub.execute_input": "2022-03-26T09:33:59.957079Z",
     "iopub.status.busy": "2022-03-26T09:33:59.956716Z",
     "iopub.status.idle": "2022-03-26T09:42:03.957938Z",
     "shell.execute_reply": "2022-03-26T09:42:03.957093Z"
    },
    "papermill": {
     "duration": 484.022029,
     "end_time": "2022-03-26T09:42:03.958106",
     "exception": false,
     "start_time": "2022-03-26T09:33:59.936077",
     "status": "completed"
    },
    "tags": []
   },
   "outputs": [
    {
     "name": "stdout",
     "output_type": "stream",
     "text": [
      "epoch: 1, [batch: 1 / 1400], examples_per_second: 640.4847, train_label_loss: 2.7842, \n"
     ]
    },
    {
     "name": "stdout",
     "output_type": "stream",
     "text": [
      "epoch: 1, [batch: 140 / 1400], examples_per_second: 10609.1649, train_label_loss: 2.6928, \n"
     ]
    },
    {
     "name": "stdout",
     "output_type": "stream",
     "text": [
      "epoch: 1, [batch: 280 / 1400], examples_per_second: 10679.6641, train_label_loss: 2.5385, \n"
     ]
    },
    {
     "name": "stdout",
     "output_type": "stream",
     "text": [
      "epoch: 1, [batch: 420 / 1400], examples_per_second: 10749.9834, train_label_loss: 2.4882, \n"
     ]
    },
    {
     "name": "stdout",
     "output_type": "stream",
     "text": [
      "epoch: 1, [batch: 560 / 1400], examples_per_second: 10734.7300, train_label_loss: 2.3535, \n"
     ]
    },
    {
     "name": "stdout",
     "output_type": "stream",
     "text": [
      "epoch: 1, [batch: 700 / 1400], examples_per_second: 10695.6502, train_label_loss: 2.1767, \n"
     ]
    },
    {
     "name": "stdout",
     "output_type": "stream",
     "text": [
      "epoch: 1, [batch: 840 / 1400], examples_per_second: 10729.2257, train_label_loss: 2.0464, \n"
     ]
    },
    {
     "name": "stdout",
     "output_type": "stream",
     "text": [
      "epoch: 1, [batch: 980 / 1400], examples_per_second: 10724.5779, train_label_loss: 1.8494, \n"
     ]
    },
    {
     "name": "stdout",
     "output_type": "stream",
     "text": [
      "epoch: 1, [batch: 1120 / 1400], examples_per_second: 10635.1401, train_label_loss: 1.7225, \n"
     ]
    },
    {
     "name": "stdout",
     "output_type": "stream",
     "text": [
      "epoch: 1, [batch: 1260 / 1400], examples_per_second: 10656.9476, train_label_loss: 1.5277, \n"
     ]
    },
    {
     "name": "stdout",
     "output_type": "stream",
     "text": [
      "=============================================================\n",
      "epoch: 1, source_val_acc_label: 0.6068, source_val_label_loss: 1.4541, target_val_acc_label: 0.6068, target_val_label_loss: 1.4541, \n",
      "=============================================================\n"
     ]
    },
    {
     "name": "stdout",
     "output_type": "stream",
     "text": [
      "New best\n",
      "epoch: 2, [batch: 1 / 1400], examples_per_second: 48.8281, train_label_loss: 1.4054, \n"
     ]
    },
    {
     "name": "stdout",
     "output_type": "stream",
     "text": [
      "epoch: 2, [batch: 140 / 1400], examples_per_second: 10487.4620, train_label_loss: 1.3586, \n"
     ]
    },
    {
     "name": "stdout",
     "output_type": "stream",
     "text": [
      "epoch: 2, [batch: 280 / 1400], examples_per_second: 10597.5712, train_label_loss: 1.1903, \n"
     ]
    },
    {
     "name": "stdout",
     "output_type": "stream",
     "text": [
      "epoch: 2, [batch: 420 / 1400], examples_per_second: 10635.0498, train_label_loss: 1.3894, \n"
     ]
    },
    {
     "name": "stdout",
     "output_type": "stream",
     "text": [
      "epoch: 2, [batch: 560 / 1400], examples_per_second: 10604.7543, train_label_loss: 1.0540, \n"
     ]
    },
    {
     "name": "stdout",
     "output_type": "stream",
     "text": [
      "epoch: 2, [batch: 700 / 1400], examples_per_second: 10627.2441, train_label_loss: 0.9069, \n"
     ]
    },
    {
     "name": "stdout",
     "output_type": "stream",
     "text": [
      "epoch: 2, [batch: 840 / 1400], examples_per_second: 10697.5820, train_label_loss: 1.2140, \n"
     ]
    },
    {
     "name": "stdout",
     "output_type": "stream",
     "text": [
      "epoch: 2, [batch: 980 / 1400], examples_per_second: 10535.3163, train_label_loss: 0.8390, \n"
     ]
    },
    {
     "name": "stdout",
     "output_type": "stream",
     "text": [
      "epoch: 2, [batch: 1120 / 1400], examples_per_second: 10650.8180, train_label_loss: 0.7149, \n"
     ]
    },
    {
     "name": "stdout",
     "output_type": "stream",
     "text": [
      "epoch: 2, [batch: 1260 / 1400], examples_per_second: 10649.2893, train_label_loss: 0.7443, \n"
     ]
    },
    {
     "name": "stdout",
     "output_type": "stream",
     "text": [
      "=============================================================\n",
      "epoch: 2, source_val_acc_label: 0.8495, source_val_label_loss: 0.6134, target_val_acc_label: 0.8495, target_val_label_loss: 0.6134, \n",
      "=============================================================\n"
     ]
    },
    {
     "name": "stdout",
     "output_type": "stream",
     "text": [
      "New best\n",
      "epoch: 3, [batch: 1 / 1400], examples_per_second: 56.6594, train_label_loss: 0.7328, \n"
     ]
    },
    {
     "name": "stdout",
     "output_type": "stream",
     "text": [
      "epoch: 3, [batch: 140 / 1400], examples_per_second: 10499.0771, train_label_loss: 0.6351, \n"
     ]
    },
    {
     "name": "stdout",
     "output_type": "stream",
     "text": [
      "epoch: 3, [batch: 280 / 1400], examples_per_second: 10607.2057, train_label_loss: 1.0078, \n"
     ]
    },
    {
     "name": "stdout",
     "output_type": "stream",
     "text": [
      "epoch: 3, [batch: 420 / 1400], examples_per_second: 10666.7480, train_label_loss: 0.4803, \n"
     ]
    },
    {
     "name": "stdout",
     "output_type": "stream",
     "text": [
      "epoch: 3, [batch: 560 / 1400], examples_per_second: 10634.8075, train_label_loss: 0.4985, \n"
     ]
    },
    {
     "name": "stdout",
     "output_type": "stream",
     "text": [
      "epoch: 3, [batch: 700 / 1400], examples_per_second: 10685.9213, train_label_loss: 0.5520, \n"
     ]
    },
    {
     "name": "stdout",
     "output_type": "stream",
     "text": [
      "epoch: 3, [batch: 840 / 1400], examples_per_second: 10632.8412, train_label_loss: 0.5405, \n"
     ]
    },
    {
     "name": "stdout",
     "output_type": "stream",
     "text": [
      "epoch: 3, [batch: 980 / 1400], examples_per_second: 10672.0837, train_label_loss: 0.4272, \n"
     ]
    },
    {
     "name": "stdout",
     "output_type": "stream",
     "text": [
      "epoch: 3, [batch: 1120 / 1400], examples_per_second: 10690.2103, train_label_loss: 0.4702, \n"
     ]
    },
    {
     "name": "stdout",
     "output_type": "stream",
     "text": [
      "epoch: 3, [batch: 1260 / 1400], examples_per_second: 10578.5019, train_label_loss: 0.4758, \n"
     ]
    },
    {
     "name": "stdout",
     "output_type": "stream",
     "text": [
      "=============================================================\n",
      "epoch: 3, source_val_acc_label: 0.9163, source_val_label_loss: 0.4116, target_val_acc_label: 0.9163, target_val_label_loss: 0.4116, \n",
      "=============================================================\n"
     ]
    },
    {
     "name": "stdout",
     "output_type": "stream",
     "text": [
      "New best\n",
      "epoch: 4, [batch: 1 / 1400], examples_per_second: 56.4942, train_label_loss: 0.2820, \n"
     ]
    },
    {
     "name": "stdout",
     "output_type": "stream",
     "text": [
      "epoch: 4, [batch: 140 / 1400], examples_per_second: 10626.9424, train_label_loss: 0.3968, \n"
     ]
    },
    {
     "name": "stdout",
     "output_type": "stream",
     "text": [
      "epoch: 4, [batch: 280 / 1400], examples_per_second: 10669.7401, train_label_loss: 0.3952, \n"
     ]
    },
    {
     "name": "stdout",
     "output_type": "stream",
     "text": [
      "epoch: 4, [batch: 420 / 1400], examples_per_second: 10620.1640, train_label_loss: 0.3188, \n"
     ]
    },
    {
     "name": "stdout",
     "output_type": "stream",
     "text": [
      "epoch: 4, [batch: 560 / 1400], examples_per_second: 10613.1594, train_label_loss: 0.3126, \n"
     ]
    },
    {
     "name": "stdout",
     "output_type": "stream",
     "text": [
      "epoch: 4, [batch: 700 / 1400], examples_per_second: 10581.9930, train_label_loss: 0.3707, \n"
     ]
    },
    {
     "name": "stdout",
     "output_type": "stream",
     "text": [
      "epoch: 4, [batch: 840 / 1400], examples_per_second: 10603.2194, train_label_loss: 0.2743, \n"
     ]
    },
    {
     "name": "stdout",
     "output_type": "stream",
     "text": [
      "epoch: 4, [batch: 980 / 1400], examples_per_second: 10612.0205, train_label_loss: 0.2897, \n"
     ]
    },
    {
     "name": "stdout",
     "output_type": "stream",
     "text": [
      "epoch: 4, [batch: 1120 / 1400], examples_per_second: 10565.4891, train_label_loss: 0.3473, \n"
     ]
    },
    {
     "name": "stdout",
     "output_type": "stream",
     "text": [
      "epoch: 4, [batch: 1260 / 1400], examples_per_second: 10526.8688, train_label_loss: 0.3960, \n"
     ]
    },
    {
     "name": "stdout",
     "output_type": "stream",
     "text": [
      "=============================================================\n",
      "epoch: 4, source_val_acc_label: 0.9356, source_val_label_loss: 0.2770, target_val_acc_label: 0.9356, target_val_label_loss: 0.2770, \n",
      "=============================================================\n"
     ]
    },
    {
     "name": "stdout",
     "output_type": "stream",
     "text": [
      "New best\n",
      "epoch: 5, [batch: 1 / 1400], examples_per_second: 57.1814, train_label_loss: 0.3189, \n"
     ]
    },
    {
     "name": "stdout",
     "output_type": "stream",
     "text": [
      "epoch: 5, [batch: 140 / 1400], examples_per_second: 10619.1152, train_label_loss: 0.2609, \n"
     ]
    },
    {
     "name": "stdout",
     "output_type": "stream",
     "text": [
      "epoch: 5, [batch: 280 / 1400], examples_per_second: 10643.8919, train_label_loss: 0.2817, \n"
     ]
    },
    {
     "name": "stdout",
     "output_type": "stream",
     "text": [
      "epoch: 5, [batch: 420 / 1400], examples_per_second: 10612.8567, train_label_loss: 0.2754, \n"
     ]
    },
    {
     "name": "stdout",
     "output_type": "stream",
     "text": [
      "epoch: 5, [batch: 560 / 1400], examples_per_second: 10597.1065, train_label_loss: 0.2525, \n"
     ]
    },
    {
     "name": "stdout",
     "output_type": "stream",
     "text": [
      "epoch: 5, [batch: 700 / 1400], examples_per_second: 10676.3571, train_label_loss: 0.2718, \n"
     ]
    },
    {
     "name": "stdout",
     "output_type": "stream",
     "text": [
      "epoch: 5, [batch: 840 / 1400], examples_per_second: 10621.9786, train_label_loss: 0.1864, \n"
     ]
    },
    {
     "name": "stdout",
     "output_type": "stream",
     "text": [
      "epoch: 5, [batch: 980 / 1400], examples_per_second: 10684.9035, train_label_loss: 0.2776, \n"
     ]
    },
    {
     "name": "stdout",
     "output_type": "stream",
     "text": [
      "epoch: 5, [batch: 1120 / 1400], examples_per_second: 10671.3928, train_label_loss: 0.3077, \n"
     ]
    },
    {
     "name": "stdout",
     "output_type": "stream",
     "text": [
      "epoch: 5, [batch: 1260 / 1400], examples_per_second: 10691.8998, train_label_loss: 0.2253, \n"
     ]
    },
    {
     "name": "stdout",
     "output_type": "stream",
     "text": [
      "=============================================================\n",
      "epoch: 5, source_val_acc_label: 0.9311, source_val_label_loss: 0.2764, target_val_acc_label: 0.9311, target_val_label_loss: 0.2764, \n",
      "=============================================================\n"
     ]
    },
    {
     "name": "stdout",
     "output_type": "stream",
     "text": [
      "epoch: 6, [batch: 1 / 1400], examples_per_second: 57.4950, train_label_loss: 0.2243, \n"
     ]
    },
    {
     "name": "stdout",
     "output_type": "stream",
     "text": [
      "epoch: 6, [batch: 140 / 1400], examples_per_second: 10583.4106, train_label_loss: 0.2253, \n"
     ]
    },
    {
     "name": "stdout",
     "output_type": "stream",
     "text": [
      "epoch: 6, [batch: 280 / 1400], examples_per_second: 10650.0558, train_label_loss: 0.2664, \n"
     ]
    },
    {
     "name": "stdout",
     "output_type": "stream",
     "text": [
      "epoch: 6, [batch: 420 / 1400], examples_per_second: 10630.8982, train_label_loss: 0.2452, \n"
     ]
    },
    {
     "name": "stdout",
     "output_type": "stream",
     "text": [
      "epoch: 6, [batch: 560 / 1400], examples_per_second: 10683.4591, train_label_loss: 0.1873, \n"
     ]
    },
    {
     "name": "stdout",
     "output_type": "stream",
     "text": [
      "epoch: 6, [batch: 700 / 1400], examples_per_second: 10662.8741, train_label_loss: 0.2809, \n"
     ]
    },
    {
     "name": "stdout",
     "output_type": "stream",
     "text": [
      "epoch: 6, [batch: 840 / 1400], examples_per_second: 10579.0737, train_label_loss: 0.2743, \n"
     ]
    },
    {
     "name": "stdout",
     "output_type": "stream",
     "text": [
      "epoch: 6, [batch: 980 / 1400], examples_per_second: 10599.6306, train_label_loss: 0.1916, \n"
     ]
    },
    {
     "name": "stdout",
     "output_type": "stream",
     "text": [
      "epoch: 6, [batch: 1120 / 1400], examples_per_second: 10656.0698, train_label_loss: 0.2468, \n"
     ]
    },
    {
     "name": "stdout",
     "output_type": "stream",
     "text": [
      "epoch: 6, [batch: 1260 / 1400], examples_per_second: 10588.5269, train_label_loss: 0.1624, \n"
     ]
    },
    {
     "name": "stdout",
     "output_type": "stream",
     "text": [
      "=============================================================\n",
      "epoch: 6, source_val_acc_label: 0.9308, source_val_label_loss: 0.2870, target_val_acc_label: 0.9308, target_val_label_loss: 0.2870, \n",
      "=============================================================\n"
     ]
    },
    {
     "name": "stdout",
     "output_type": "stream",
     "text": [
      "epoch: 7, [batch: 1 / 1400], examples_per_second: 57.0867, train_label_loss: 0.3154, \n"
     ]
    },
    {
     "name": "stdout",
     "output_type": "stream",
     "text": [
      "epoch: 7, [batch: 140 / 1400], examples_per_second: 10675.3232, train_label_loss: 0.1717, \n"
     ]
    },
    {
     "name": "stdout",
     "output_type": "stream",
     "text": [
      "epoch: 7, [batch: 280 / 1400], examples_per_second: 10684.8078, train_label_loss: 0.2245, \n"
     ]
    },
    {
     "name": "stdout",
     "output_type": "stream",
     "text": [
      "epoch: 7, [batch: 420 / 1400], examples_per_second: 10670.2611, train_label_loss: 0.1857, \n"
     ]
    },
    {
     "name": "stdout",
     "output_type": "stream",
     "text": [
      "epoch: 7, [batch: 560 / 1400], examples_per_second: 10607.0440, train_label_loss: 0.1623, \n"
     ]
    },
    {
     "name": "stdout",
     "output_type": "stream",
     "text": [
      "epoch: 7, [batch: 700 / 1400], examples_per_second: 10358.7997, train_label_loss: 0.2470, \n"
     ]
    },
    {
     "name": "stdout",
     "output_type": "stream",
     "text": [
      "epoch: 7, [batch: 840 / 1400], examples_per_second: 10681.4900, train_label_loss: 0.1946, \n"
     ]
    },
    {
     "name": "stdout",
     "output_type": "stream",
     "text": [
      "epoch: 7, [batch: 980 / 1400], examples_per_second: 10708.3191, train_label_loss: 0.1793, \n"
     ]
    },
    {
     "name": "stdout",
     "output_type": "stream",
     "text": [
      "epoch: 7, [batch: 1120 / 1400], examples_per_second: 10677.5492, train_label_loss: 0.2407, \n"
     ]
    },
    {
     "name": "stdout",
     "output_type": "stream",
     "text": [
      "epoch: 7, [batch: 1260 / 1400], examples_per_second: 10677.1427, train_label_loss: 0.2081, \n"
     ]
    },
    {
     "name": "stdout",
     "output_type": "stream",
     "text": [
      "=============================================================\n",
      "epoch: 7, source_val_acc_label: 0.9506, source_val_label_loss: 0.2740, target_val_acc_label: 0.9506, target_val_label_loss: 0.2740, \n",
      "=============================================================\n"
     ]
    },
    {
     "name": "stdout",
     "output_type": "stream",
     "text": [
      "New best\n",
      "epoch: 8, [batch: 1 / 1400], examples_per_second: 56.2697, train_label_loss: 0.1824, \n"
     ]
    },
    {
     "name": "stdout",
     "output_type": "stream",
     "text": [
      "epoch: 8, [batch: 140 / 1400], examples_per_second: 10614.9492, train_label_loss: 0.1708, \n"
     ]
    },
    {
     "name": "stdout",
     "output_type": "stream",
     "text": [
      "epoch: 8, [batch: 280 / 1400], examples_per_second: 10578.8221, train_label_loss: 0.1105, \n"
     ]
    },
    {
     "name": "stdout",
     "output_type": "stream",
     "text": [
      "epoch: 8, [batch: 420 / 1400], examples_per_second: 10674.0070, train_label_loss: 0.1813, \n"
     ]
    },
    {
     "name": "stdout",
     "output_type": "stream",
     "text": [
      "epoch: 8, [batch: 560 / 1400], examples_per_second: 10655.4096, train_label_loss: 0.1591, \n"
     ]
    },
    {
     "name": "stdout",
     "output_type": "stream",
     "text": [
      "epoch: 8, [batch: 700 / 1400], examples_per_second: 10638.6550, train_label_loss: 0.3167, \n"
     ]
    },
    {
     "name": "stdout",
     "output_type": "stream",
     "text": [
      "epoch: 8, [batch: 840 / 1400], examples_per_second: 10643.6567, train_label_loss: 0.1444, \n"
     ]
    },
    {
     "name": "stdout",
     "output_type": "stream",
     "text": [
      "epoch: 8, [batch: 980 / 1400], examples_per_second: 10656.7527, train_label_loss: 0.1615, \n"
     ]
    },
    {
     "name": "stdout",
     "output_type": "stream",
     "text": [
      "epoch: 8, [batch: 1120 / 1400], examples_per_second: 10641.0574, train_label_loss: 0.2022, \n"
     ]
    },
    {
     "name": "stdout",
     "output_type": "stream",
     "text": [
      "epoch: 8, [batch: 1260 / 1400], examples_per_second: 10640.3946, train_label_loss: 0.1760, \n"
     ]
    },
    {
     "name": "stdout",
     "output_type": "stream",
     "text": [
      "=============================================================\n",
      "epoch: 8, source_val_acc_label: 0.9473, source_val_label_loss: 0.2054, target_val_acc_label: 0.9473, target_val_label_loss: 0.2054, \n",
      "=============================================================\n"
     ]
    },
    {
     "name": "stdout",
     "output_type": "stream",
     "text": [
      "epoch: 9, [batch: 1 / 1400], examples_per_second: 56.3765, train_label_loss: 0.1829, \n"
     ]
    },
    {
     "name": "stdout",
     "output_type": "stream",
     "text": [
      "epoch: 9, [batch: 140 / 1400], examples_per_second: 10607.6312, train_label_loss: 0.1449, \n"
     ]
    },
    {
     "name": "stdout",
     "output_type": "stream",
     "text": [
      "epoch: 9, [batch: 280 / 1400], examples_per_second: 10642.3803, train_label_loss: 0.1540, \n"
     ]
    },
    {
     "name": "stdout",
     "output_type": "stream",
     "text": [
      "epoch: 9, [batch: 420 / 1400], examples_per_second: 10614.4588, train_label_loss: 0.1257, \n"
     ]
    },
    {
     "name": "stdout",
     "output_type": "stream",
     "text": [
      "epoch: 9, [batch: 560 / 1400], examples_per_second: 10661.2437, train_label_loss: 0.1317, \n"
     ]
    },
    {
     "name": "stdout",
     "output_type": "stream",
     "text": [
      "epoch: 9, [batch: 700 / 1400], examples_per_second: 10531.6804, train_label_loss: 0.1887, \n"
     ]
    },
    {
     "name": "stdout",
     "output_type": "stream",
     "text": [
      "epoch: 9, [batch: 840 / 1400], examples_per_second: 10701.7813, train_label_loss: 0.1134, \n"
     ]
    },
    {
     "name": "stdout",
     "output_type": "stream",
     "text": [
      "epoch: 9, [batch: 980 / 1400], examples_per_second: 10833.1555, train_label_loss: 0.0992, \n"
     ]
    },
    {
     "name": "stdout",
     "output_type": "stream",
     "text": [
      "epoch: 9, [batch: 1120 / 1400], examples_per_second: 10653.8283, train_label_loss: 0.1965, \n"
     ]
    },
    {
     "name": "stdout",
     "output_type": "stream",
     "text": [
      "epoch: 9, [batch: 1260 / 1400], examples_per_second: 10685.0614, train_label_loss: 0.1826, \n"
     ]
    },
    {
     "name": "stdout",
     "output_type": "stream",
     "text": [
      "=============================================================\n",
      "epoch: 9, source_val_acc_label: 0.9586, source_val_label_loss: 0.1688, target_val_acc_label: 0.9586, target_val_label_loss: 0.1688, \n",
      "=============================================================\n"
     ]
    },
    {
     "name": "stdout",
     "output_type": "stream",
     "text": [
      "New best\n",
      "epoch: 10, [batch: 1 / 1400], examples_per_second: 56.6082, train_label_loss: 0.0984, \n"
     ]
    },
    {
     "name": "stdout",
     "output_type": "stream",
     "text": [
      "epoch: 10, [batch: 140 / 1400], examples_per_second: 10605.4800, train_label_loss: 0.1159, \n"
     ]
    },
    {
     "name": "stdout",
     "output_type": "stream",
     "text": [
      "epoch: 10, [batch: 280 / 1400], examples_per_second: 10631.1929, train_label_loss: 0.1243, \n"
     ]
    },
    {
     "name": "stdout",
     "output_type": "stream",
     "text": [
      "epoch: 10, [batch: 420 / 1400], examples_per_second: 10666.1395, train_label_loss: 0.0846, \n"
     ]
    },
    {
     "name": "stdout",
     "output_type": "stream",
     "text": [
      "epoch: 10, [batch: 560 / 1400], examples_per_second: 10634.3351, train_label_loss: 0.1236, \n"
     ]
    },
    {
     "name": "stdout",
     "output_type": "stream",
     "text": [
      "epoch: 10, [batch: 700 / 1400], examples_per_second: 10594.4208, train_label_loss: 0.0961, \n"
     ]
    },
    {
     "name": "stdout",
     "output_type": "stream",
     "text": [
      "epoch: 10, [batch: 840 / 1400], examples_per_second: 10627.2877, train_label_loss: 0.1757, \n"
     ]
    },
    {
     "name": "stdout",
     "output_type": "stream",
     "text": [
      "epoch: 10, [batch: 980 / 1400], examples_per_second: 10644.3139, train_label_loss: 0.0987, \n"
     ]
    },
    {
     "name": "stdout",
     "output_type": "stream",
     "text": [
      "epoch: 10, [batch: 1120 / 1400], examples_per_second: 10618.8272, train_label_loss: 0.0939, \n"
     ]
    },
    {
     "name": "stdout",
     "output_type": "stream",
     "text": [
      "epoch: 10, [batch: 1260 / 1400], examples_per_second: 10721.9358, train_label_loss: 0.2071, \n"
     ]
    },
    {
     "name": "stdout",
     "output_type": "stream",
     "text": [
      "=============================================================\n",
      "epoch: 10, source_val_acc_label: 0.9576, source_val_label_loss: 0.1667, target_val_acc_label: 0.9576, target_val_label_loss: 0.1667, \n",
      "=============================================================\n"
     ]
    },
    {
     "name": "stdout",
     "output_type": "stream",
     "text": [
      "epoch: 11, [batch: 1 / 1400], examples_per_second: 56.7681, train_label_loss: 0.1147, \n"
     ]
    },
    {
     "name": "stdout",
     "output_type": "stream",
     "text": [
      "epoch: 11, [batch: 140 / 1400], examples_per_second: 10642.0502, train_label_loss: 0.1012, \n"
     ]
    },
    {
     "name": "stdout",
     "output_type": "stream",
     "text": [
      "epoch: 11, [batch: 280 / 1400], examples_per_second: 10641.7203, train_label_loss: 0.1257, \n"
     ]
    },
    {
     "name": "stdout",
     "output_type": "stream",
     "text": [
      "epoch: 11, [batch: 420 / 1400], examples_per_second: 10710.9194, train_label_loss: 0.1241, \n"
     ]
    },
    {
     "name": "stdout",
     "output_type": "stream",
     "text": [
      "epoch: 11, [batch: 560 / 1400], examples_per_second: 10695.9896, train_label_loss: 0.1708, \n"
     ]
    },
    {
     "name": "stdout",
     "output_type": "stream",
     "text": [
      "epoch: 11, [batch: 700 / 1400], examples_per_second: 10567.5123, train_label_loss: 0.1128, \n"
     ]
    },
    {
     "name": "stdout",
     "output_type": "stream",
     "text": [
      "epoch: 11, [batch: 840 / 1400], examples_per_second: 10687.0563, train_label_loss: 0.1471, \n"
     ]
    },
    {
     "name": "stdout",
     "output_type": "stream",
     "text": [
      "epoch: 11, [batch: 980 / 1400], examples_per_second: 10717.0253, train_label_loss: 0.0778, \n"
     ]
    },
    {
     "name": "stdout",
     "output_type": "stream",
     "text": [
      "epoch: 11, [batch: 1120 / 1400], examples_per_second: 10680.9420, train_label_loss: 0.2131, \n"
     ]
    },
    {
     "name": "stdout",
     "output_type": "stream",
     "text": [
      "epoch: 11, [batch: 1260 / 1400], examples_per_second: 10710.8767, train_label_loss: 0.2303, \n"
     ]
    },
    {
     "name": "stdout",
     "output_type": "stream",
     "text": [
      "=============================================================\n",
      "epoch: 11, source_val_acc_label: 0.9577, source_val_label_loss: 0.1335, target_val_acc_label: 0.9577, target_val_label_loss: 0.1335, \n",
      "=============================================================\n"
     ]
    },
    {
     "name": "stdout",
     "output_type": "stream",
     "text": [
      "epoch: 12, [batch: 1 / 1400], examples_per_second: 57.6417, train_label_loss: 0.1060, \n"
     ]
    },
    {
     "name": "stdout",
     "output_type": "stream",
     "text": [
      "epoch: 12, [batch: 140 / 1400], examples_per_second: 10627.0362, train_label_loss: 0.0807, \n"
     ]
    },
    {
     "name": "stdout",
     "output_type": "stream",
     "text": [
      "epoch: 12, [batch: 280 / 1400], examples_per_second: 10671.9065, train_label_loss: 0.1762, \n"
     ]
    },
    {
     "name": "stdout",
     "output_type": "stream",
     "text": [
      "epoch: 12, [batch: 420 / 1400], examples_per_second: 10627.1314, train_label_loss: 0.0731, \n"
     ]
    },
    {
     "name": "stdout",
     "output_type": "stream",
     "text": [
      "epoch: 12, [batch: 560 / 1400], examples_per_second: 10650.4618, train_label_loss: 0.1258, \n"
     ]
    },
    {
     "name": "stdout",
     "output_type": "stream",
     "text": [
      "epoch: 12, [batch: 700 / 1400], examples_per_second: 10655.3900, train_label_loss: 0.0679, \n"
     ]
    },
    {
     "name": "stdout",
     "output_type": "stream",
     "text": [
      "epoch: 12, [batch: 840 / 1400], examples_per_second: 10841.8094, train_label_loss: 0.0959, \n"
     ]
    },
    {
     "name": "stdout",
     "output_type": "stream",
     "text": [
      "epoch: 12, [batch: 980 / 1400], examples_per_second: 10691.8420, train_label_loss: 0.1123, \n"
     ]
    },
    {
     "name": "stdout",
     "output_type": "stream",
     "text": [
      "epoch: 12, [batch: 1120 / 1400], examples_per_second: 10648.2619, train_label_loss: 0.1192, \n"
     ]
    },
    {
     "name": "stdout",
     "output_type": "stream",
     "text": [
      "epoch: 12, [batch: 1260 / 1400], examples_per_second: 10677.3930, train_label_loss: 0.1190, \n"
     ]
    },
    {
     "name": "stdout",
     "output_type": "stream",
     "text": [
      "=============================================================\n",
      "epoch: 12, source_val_acc_label: 0.9538, source_val_label_loss: 0.1864, target_val_acc_label: 0.9538, target_val_label_loss: 0.1864, \n",
      "=============================================================\n"
     ]
    },
    {
     "name": "stdout",
     "output_type": "stream",
     "text": [
      "epoch: 13, [batch: 1 / 1400], examples_per_second: 57.4109, train_label_loss: 0.0586, \n"
     ]
    },
    {
     "name": "stdout",
     "output_type": "stream",
     "text": [
      "epoch: 13, [batch: 140 / 1400], examples_per_second: 10602.9153, train_label_loss: 0.1609, \n"
     ]
    },
    {
     "name": "stdout",
     "output_type": "stream",
     "text": [
      "epoch: 13, [batch: 280 / 1400], examples_per_second: 10702.6545, train_label_loss: 0.1099, \n"
     ]
    },
    {
     "name": "stdout",
     "output_type": "stream",
     "text": [
      "epoch: 13, [batch: 420 / 1400], examples_per_second: 10677.7646, train_label_loss: 0.1004, \n"
     ]
    },
    {
     "name": "stdout",
     "output_type": "stream",
     "text": [
      "epoch: 13, [batch: 560 / 1400], examples_per_second: 10623.4424, train_label_loss: 0.0952, \n"
     ]
    },
    {
     "name": "stdout",
     "output_type": "stream",
     "text": [
      "epoch: 13, [batch: 700 / 1400], examples_per_second: 10655.3583, train_label_loss: 0.1265, \n"
     ]
    },
    {
     "name": "stdout",
     "output_type": "stream",
     "text": [
      "epoch: 13, [batch: 840 / 1400], examples_per_second: 10730.9766, train_label_loss: 0.1216, \n"
     ]
    },
    {
     "name": "stdout",
     "output_type": "stream",
     "text": [
      "epoch: 13, [batch: 980 / 1400], examples_per_second: 10630.6846, train_label_loss: 0.1498, \n"
     ]
    },
    {
     "name": "stdout",
     "output_type": "stream",
     "text": [
      "epoch: 13, [batch: 1120 / 1400], examples_per_second: 10636.7144, train_label_loss: 0.1210, \n"
     ]
    },
    {
     "name": "stdout",
     "output_type": "stream",
     "text": [
      "epoch: 13, [batch: 1260 / 1400], examples_per_second: 10677.9542, train_label_loss: 0.1697, \n"
     ]
    },
    {
     "name": "stdout",
     "output_type": "stream",
     "text": [
      "=============================================================\n",
      "epoch: 13, source_val_acc_label: 0.9645, source_val_label_loss: 0.1317, target_val_acc_label: 0.9645, target_val_label_loss: 0.1317, \n",
      "=============================================================\n"
     ]
    },
    {
     "name": "stdout",
     "output_type": "stream",
     "text": [
      "New best\n",
      "epoch: 14, [batch: 1 / 1400], examples_per_second: 56.7952, train_label_loss: 0.0932, \n"
     ]
    },
    {
     "name": "stdout",
     "output_type": "stream",
     "text": [
      "epoch: 14, [batch: 140 / 1400], examples_per_second: 10578.3488, train_label_loss: 0.0518, \n"
     ]
    },
    {
     "name": "stdout",
     "output_type": "stream",
     "text": [
      "epoch: 14, [batch: 280 / 1400], examples_per_second: 10684.1258, train_label_loss: 0.1280, \n"
     ]
    },
    {
     "name": "stdout",
     "output_type": "stream",
     "text": [
      "epoch: 14, [batch: 420 / 1400], examples_per_second: 10645.1672, train_label_loss: 0.0559, \n"
     ]
    },
    {
     "name": "stdout",
     "output_type": "stream",
     "text": [
      "epoch: 14, [batch: 560 / 1400], examples_per_second: 10703.2992, train_label_loss: 0.0736, \n"
     ]
    },
    {
     "name": "stdout",
     "output_type": "stream",
     "text": [
      "epoch: 14, [batch: 700 / 1400], examples_per_second: 10570.2483, train_label_loss: 0.0764, \n"
     ]
    },
    {
     "name": "stdout",
     "output_type": "stream",
     "text": [
      "epoch: 14, [batch: 840 / 1400], examples_per_second: 10669.4750, train_label_loss: 0.0984, \n"
     ]
    },
    {
     "name": "stdout",
     "output_type": "stream",
     "text": [
      "epoch: 14, [batch: 980 / 1400], examples_per_second: 10710.9973, train_label_loss: 0.0767, \n"
     ]
    },
    {
     "name": "stdout",
     "output_type": "stream",
     "text": [
      "epoch: 14, [batch: 1120 / 1400], examples_per_second: 10710.9286, train_label_loss: 0.0739, \n"
     ]
    },
    {
     "name": "stdout",
     "output_type": "stream",
     "text": [
      "epoch: 14, [batch: 1260 / 1400], examples_per_second: 10612.1899, train_label_loss: 0.1052, \n"
     ]
    },
    {
     "name": "stdout",
     "output_type": "stream",
     "text": [
      "=============================================================\n",
      "epoch: 14, source_val_acc_label: 0.9616, source_val_label_loss: 0.1212, target_val_acc_label: 0.9616, target_val_label_loss: 0.1212, \n",
      "=============================================================\n"
     ]
    },
    {
     "name": "stdout",
     "output_type": "stream",
     "text": [
      "epoch: 15, [batch: 1 / 1400], examples_per_second: 57.9132, train_label_loss: 0.0722, \n"
     ]
    },
    {
     "name": "stdout",
     "output_type": "stream",
     "text": [
      "epoch: 15, [batch: 140 / 1400], examples_per_second: 10664.3909, train_label_loss: 0.1145, \n"
     ]
    },
    {
     "name": "stdout",
     "output_type": "stream",
     "text": [
      "epoch: 15, [batch: 280 / 1400], examples_per_second: 10699.6134, train_label_loss: 0.1022, \n"
     ]
    },
    {
     "name": "stdout",
     "output_type": "stream",
     "text": [
      "epoch: 15, [batch: 420 / 1400], examples_per_second: 10623.4844, train_label_loss: 0.0908, \n"
     ]
    },
    {
     "name": "stdout",
     "output_type": "stream",
     "text": [
      "epoch: 15, [batch: 560 / 1400], examples_per_second: 10693.0512, train_label_loss: 0.0919, \n"
     ]
    },
    {
     "name": "stdout",
     "output_type": "stream",
     "text": [
      "epoch: 15, [batch: 700 / 1400], examples_per_second: 10706.0251, train_label_loss: 0.3221, \n"
     ]
    },
    {
     "name": "stdout",
     "output_type": "stream",
     "text": [
      "epoch: 15, [batch: 840 / 1400], examples_per_second: 10695.9668, train_label_loss: 0.0774, \n"
     ]
    },
    {
     "name": "stdout",
     "output_type": "stream",
     "text": [
      "epoch: 15, [batch: 980 / 1400], examples_per_second: 10695.9394, train_label_loss: 0.0747, \n"
     ]
    },
    {
     "name": "stdout",
     "output_type": "stream",
     "text": [
      "epoch: 15, [batch: 1120 / 1400], examples_per_second: 10715.2728, train_label_loss: 0.1352, \n"
     ]
    },
    {
     "name": "stdout",
     "output_type": "stream",
     "text": [
      "epoch: 15, [batch: 1260 / 1400], examples_per_second: 10714.7581, train_label_loss: 0.1168, \n"
     ]
    },
    {
     "name": "stdout",
     "output_type": "stream",
     "text": [
      "=============================================================\n",
      "epoch: 15, source_val_acc_label: 0.9616, source_val_label_loss: 0.3001, target_val_acc_label: 0.9616, target_val_label_loss: 0.3001, \n",
      "=============================================================\n"
     ]
    },
    {
     "name": "stdout",
     "output_type": "stream",
     "text": [
      "epoch: 16, [batch: 1 / 1400], examples_per_second: 56.4069, train_label_loss: 0.0616, \n"
     ]
    },
    {
     "name": "stdout",
     "output_type": "stream",
     "text": [
      "epoch: 16, [batch: 140 / 1400], examples_per_second: 10703.6762, train_label_loss: 0.0863, \n"
     ]
    },
    {
     "name": "stdout",
     "output_type": "stream",
     "text": [
      "epoch: 16, [batch: 280 / 1400], examples_per_second: 10647.0521, train_label_loss: 0.1751, \n"
     ]
    },
    {
     "name": "stdout",
     "output_type": "stream",
     "text": [
      "epoch: 16, [batch: 420 / 1400], examples_per_second: 10707.3017, train_label_loss: 0.0918, \n"
     ]
    },
    {
     "name": "stdout",
     "output_type": "stream",
     "text": [
      "epoch: 16, [batch: 560 / 1400], examples_per_second: 10637.2337, train_label_loss: 0.0820, \n"
     ]
    },
    {
     "name": "stdout",
     "output_type": "stream",
     "text": [
      "epoch: 16, [batch: 700 / 1400], examples_per_second: 10741.6290, train_label_loss: 0.1540, \n"
     ]
    },
    {
     "name": "stdout",
     "output_type": "stream",
     "text": [
      "epoch: 16, [batch: 840 / 1400], examples_per_second: 10686.2236, train_label_loss: 0.0486, \n"
     ]
    },
    {
     "name": "stdout",
     "output_type": "stream",
     "text": [
      "epoch: 16, [batch: 980 / 1400], examples_per_second: 10744.5234, train_label_loss: 0.0474, \n"
     ]
    },
    {
     "name": "stdout",
     "output_type": "stream",
     "text": [
      "epoch: 16, [batch: 1120 / 1400], examples_per_second: 10600.3512, train_label_loss: 0.1069, \n"
     ]
    },
    {
     "name": "stdout",
     "output_type": "stream",
     "text": [
      "epoch: 16, [batch: 1260 / 1400], examples_per_second: 10701.7813, train_label_loss: 0.0793, \n"
     ]
    },
    {
     "name": "stdout",
     "output_type": "stream",
     "text": [
      "=============================================================\n",
      "epoch: 16, source_val_acc_label: 0.9649, source_val_label_loss: 0.2464, target_val_acc_label: 0.9649, target_val_label_loss: 0.2464, \n",
      "=============================================================\n"
     ]
    },
    {
     "name": "stdout",
     "output_type": "stream",
     "text": [
      "New best\n",
      "epoch: 17, [batch: 1 / 1400], examples_per_second: 57.0849, train_label_loss: 0.1079, \n"
     ]
    },
    {
     "name": "stdout",
     "output_type": "stream",
     "text": [
      "epoch: 17, [batch: 140 / 1400], examples_per_second: 10599.6864, train_label_loss: 0.0974, \n"
     ]
    },
    {
     "name": "stdout",
     "output_type": "stream",
     "text": [
      "epoch: 17, [batch: 280 / 1400], examples_per_second: 10696.9699, train_label_loss: 0.1041, \n"
     ]
    },
    {
     "name": "stdout",
     "output_type": "stream",
     "text": [
      "epoch: 17, [batch: 420 / 1400], examples_per_second: 10687.2052, train_label_loss: 0.1023, \n"
     ]
    },
    {
     "name": "stdout",
     "output_type": "stream",
     "text": [
      "epoch: 17, [batch: 560 / 1400], examples_per_second: 10707.8035, train_label_loss: 0.0882, \n"
     ]
    },
    {
     "name": "stdout",
     "output_type": "stream",
     "text": [
      "epoch: 17, [batch: 700 / 1400], examples_per_second: 10696.9288, train_label_loss: 0.0718, \n"
     ]
    },
    {
     "name": "stdout",
     "output_type": "stream",
     "text": [
      "epoch: 17, [batch: 840 / 1400], examples_per_second: 10660.3818, train_label_loss: 0.0797, \n"
     ]
    },
    {
     "name": "stdout",
     "output_type": "stream",
     "text": [
      "epoch: 17, [batch: 980 / 1400], examples_per_second: 10712.8018, train_label_loss: 0.0543, \n"
     ]
    },
    {
     "name": "stdout",
     "output_type": "stream",
     "text": [
      "epoch: 17, [batch: 1120 / 1400], examples_per_second: 10728.9684, train_label_loss: 0.0774, \n"
     ]
    },
    {
     "name": "stdout",
     "output_type": "stream",
     "text": [
      "epoch: 17, [batch: 1260 / 1400], examples_per_second: 10752.5378, train_label_loss: 0.0569, \n"
     ]
    },
    {
     "name": "stdout",
     "output_type": "stream",
     "text": [
      "=============================================================\n",
      "epoch: 17, source_val_acc_label: 0.9668, source_val_label_loss: 0.2296, target_val_acc_label: 0.9668, target_val_label_loss: 0.2296, \n",
      "=============================================================\n"
     ]
    },
    {
     "name": "stdout",
     "output_type": "stream",
     "text": [
      "New best\n",
      "epoch: 18, [batch: 1 / 1400], examples_per_second: 56.6862, train_label_loss: 0.1215, \n"
     ]
    },
    {
     "name": "stdout",
     "output_type": "stream",
     "text": [
      "epoch: 18, [batch: 140 / 1400], examples_per_second: 10652.5929, train_label_loss: 0.0682, \n"
     ]
    },
    {
     "name": "stdout",
     "output_type": "stream",
     "text": [
      "epoch: 18, [batch: 280 / 1400], examples_per_second: 10738.1285, train_label_loss: 0.1404, \n"
     ]
    },
    {
     "name": "stdout",
     "output_type": "stream",
     "text": [
      "epoch: 18, [batch: 420 / 1400], examples_per_second: 10689.0062, train_label_loss: 0.0804, \n"
     ]
    },
    {
     "name": "stdout",
     "output_type": "stream",
     "text": [
      "epoch: 18, [batch: 560 / 1400], examples_per_second: 10670.0385, train_label_loss: 0.0886, \n"
     ]
    },
    {
     "name": "stdout",
     "output_type": "stream",
     "text": [
      "epoch: 18, [batch: 700 / 1400], examples_per_second: 10658.9471, train_label_loss: 0.0864, \n"
     ]
    },
    {
     "name": "stdout",
     "output_type": "stream",
     "text": [
      "epoch: 18, [batch: 840 / 1400], examples_per_second: 10732.6943, train_label_loss: 0.0849, \n"
     ]
    },
    {
     "name": "stdout",
     "output_type": "stream",
     "text": [
      "epoch: 18, [batch: 980 / 1400], examples_per_second: 10724.8916, train_label_loss: 0.0732, \n"
     ]
    },
    {
     "name": "stdout",
     "output_type": "stream",
     "text": [
      "epoch: 18, [batch: 1120 / 1400], examples_per_second: 10723.2819, train_label_loss: 0.1166, \n"
     ]
    },
    {
     "name": "stdout",
     "output_type": "stream",
     "text": [
      "epoch: 18, [batch: 1260 / 1400], examples_per_second: 10606.6743, train_label_loss: 0.0631, \n"
     ]
    },
    {
     "name": "stdout",
     "output_type": "stream",
     "text": [
      "=============================================================\n",
      "epoch: 18, source_val_acc_label: 0.9603, source_val_label_loss: 0.1456, target_val_acc_label: 0.9603, target_val_label_loss: 0.1456, \n",
      "=============================================================\n"
     ]
    },
    {
     "name": "stdout",
     "output_type": "stream",
     "text": [
      "epoch: 19, [batch: 1 / 1400], examples_per_second: 56.4798, train_label_loss: 0.0432, \n"
     ]
    },
    {
     "name": "stdout",
     "output_type": "stream",
     "text": [
      "epoch: 19, [batch: 140 / 1400], examples_per_second: 10687.5129, train_label_loss: 0.0687, \n"
     ]
    },
    {
     "name": "stdout",
     "output_type": "stream",
     "text": [
      "epoch: 19, [batch: 280 / 1400], examples_per_second: 10661.0047, train_label_loss: 0.0590, \n"
     ]
    },
    {
     "name": "stdout",
     "output_type": "stream",
     "text": [
      "epoch: 19, [batch: 420 / 1400], examples_per_second: 10829.2316, train_label_loss: 0.0919, \n"
     ]
    },
    {
     "name": "stdout",
     "output_type": "stream",
     "text": [
      "epoch: 19, [batch: 560 / 1400], examples_per_second: 10729.3972, train_label_loss: 0.0639, \n"
     ]
    },
    {
     "name": "stdout",
     "output_type": "stream",
     "text": [
      "epoch: 19, [batch: 700 / 1400], examples_per_second: 10687.4118, train_label_loss: 0.1722, \n"
     ]
    },
    {
     "name": "stdout",
     "output_type": "stream",
     "text": [
      "epoch: 19, [batch: 840 / 1400], examples_per_second: 10704.3388, train_label_loss: 0.0679, \n"
     ]
    },
    {
     "name": "stdout",
     "output_type": "stream",
     "text": [
      "epoch: 19, [batch: 980 / 1400], examples_per_second: 10688.6672, train_label_loss: 0.0393, \n"
     ]
    },
    {
     "name": "stdout",
     "output_type": "stream",
     "text": [
      "epoch: 19, [batch: 1120 / 1400], examples_per_second: 10689.6629, train_label_loss: 0.0784, \n"
     ]
    },
    {
     "name": "stdout",
     "output_type": "stream",
     "text": [
      "epoch: 19, [batch: 1260 / 1400], examples_per_second: 10727.2764, train_label_loss: 0.3035, \n"
     ]
    },
    {
     "name": "stdout",
     "output_type": "stream",
     "text": [
      "=============================================================\n",
      "epoch: 19, source_val_acc_label: 0.9491, source_val_label_loss: 0.1978, target_val_acc_label: 0.9491, target_val_label_loss: 0.1978, \n",
      "=============================================================\n"
     ]
    },
    {
     "name": "stdout",
     "output_type": "stream",
     "text": [
      "epoch: 20, [batch: 1 / 1400], examples_per_second: 56.1333, train_label_loss: 0.0950, \n"
     ]
    },
    {
     "name": "stdout",
     "output_type": "stream",
     "text": [
      "epoch: 20, [batch: 140 / 1400], examples_per_second: 10602.5056, train_label_loss: 0.0538, \n"
     ]
    },
    {
     "name": "stdout",
     "output_type": "stream",
     "text": [
      "epoch: 20, [batch: 280 / 1400], examples_per_second: 10693.0665, train_label_loss: 0.0514, \n"
     ]
    },
    {
     "name": "stdout",
     "output_type": "stream",
     "text": [
      "epoch: 20, [batch: 420 / 1400], examples_per_second: 10652.8076, train_label_loss: 0.0533, \n"
     ]
    },
    {
     "name": "stdout",
     "output_type": "stream",
     "text": [
      "epoch: 20, [batch: 560 / 1400], examples_per_second: 10697.9961, train_label_loss: 0.1108, \n"
     ]
    },
    {
     "name": "stdout",
     "output_type": "stream",
     "text": [
      "epoch: 20, [batch: 700 / 1400], examples_per_second: 10699.0591, train_label_loss: 0.1148, \n"
     ]
    },
    {
     "name": "stdout",
     "output_type": "stream",
     "text": [
      "epoch: 20, [batch: 840 / 1400], examples_per_second: 10687.0958, train_label_loss: 0.0713, \n"
     ]
    },
    {
     "name": "stdout",
     "output_type": "stream",
     "text": [
      "epoch: 20, [batch: 980 / 1400], examples_per_second: 10741.1777, train_label_loss: 0.0512, \n"
     ]
    },
    {
     "name": "stdout",
     "output_type": "stream",
     "text": [
      "epoch: 20, [batch: 1120 / 1400], examples_per_second: 10653.6093, train_label_loss: 0.0475, \n"
     ]
    },
    {
     "name": "stdout",
     "output_type": "stream",
     "text": [
      "epoch: 20, [batch: 1260 / 1400], examples_per_second: 10756.6019, train_label_loss: 0.0315, \n"
     ]
    },
    {
     "name": "stdout",
     "output_type": "stream",
     "text": [
      "=============================================================\n",
      "epoch: 20, source_val_acc_label: 0.9661, source_val_label_loss: 0.1338, target_val_acc_label: 0.9661, target_val_label_loss: 0.1338, \n",
      "=============================================================\n"
     ]
    },
    {
     "name": "stdout",
     "output_type": "stream",
     "text": [
      "epoch: 21, [batch: 1 / 1400], examples_per_second: 57.7611, train_label_loss: 0.0667, \n"
     ]
    },
    {
     "name": "stdout",
     "output_type": "stream",
     "text": [
      "epoch: 21, [batch: 140 / 1400], examples_per_second: 10660.6280, train_label_loss: 0.0207, \n"
     ]
    },
    {
     "name": "stdout",
     "output_type": "stream",
     "text": [
      "epoch: 21, [batch: 280 / 1400], examples_per_second: 10493.0896, train_label_loss: 0.0873, \n"
     ]
    },
    {
     "name": "stdout",
     "output_type": "stream",
     "text": [
      "epoch: 21, [batch: 420 / 1400], examples_per_second: 10510.2409, train_label_loss: 0.0719, \n"
     ]
    },
    {
     "name": "stdout",
     "output_type": "stream",
     "text": [
      "epoch: 21, [batch: 560 / 1400], examples_per_second: 10616.1035, train_label_loss: 0.0986, \n"
     ]
    },
    {
     "name": "stdout",
     "output_type": "stream",
     "text": [
      "epoch: 21, [batch: 700 / 1400], examples_per_second: 10684.7349, train_label_loss: 0.0359, \n"
     ]
    },
    {
     "name": "stdout",
     "output_type": "stream",
     "text": [
      "epoch: 21, [batch: 840 / 1400], examples_per_second: 10649.6620, train_label_loss: 0.1189, \n"
     ]
    },
    {
     "name": "stdout",
     "output_type": "stream",
     "text": [
      "epoch: 21, [batch: 980 / 1400], examples_per_second: 10665.2889, train_label_loss: 0.0480, \n"
     ]
    },
    {
     "name": "stdout",
     "output_type": "stream",
     "text": [
      "epoch: 21, [batch: 1120 / 1400], examples_per_second: 10560.2059, train_label_loss: 0.0613, \n"
     ]
    },
    {
     "name": "stdout",
     "output_type": "stream",
     "text": [
      "epoch: 21, [batch: 1260 / 1400], examples_per_second: 10684.3962, train_label_loss: 0.0488, \n"
     ]
    },
    {
     "name": "stdout",
     "output_type": "stream",
     "text": [
      "=============================================================\n",
      "epoch: 21, source_val_acc_label: 0.9688, source_val_label_loss: 0.2247, target_val_acc_label: 0.9688, target_val_label_loss: 0.2247, \n",
      "=============================================================\n"
     ]
    },
    {
     "name": "stdout",
     "output_type": "stream",
     "text": [
      "New best\n",
      "epoch: 22, [batch: 1 / 1400], examples_per_second: 57.7400, train_label_loss: 0.0438, \n"
     ]
    },
    {
     "name": "stdout",
     "output_type": "stream",
     "text": [
      "epoch: 22, [batch: 140 / 1400], examples_per_second: 10610.1499, train_label_loss: 0.0777, \n"
     ]
    },
    {
     "name": "stdout",
     "output_type": "stream",
     "text": [
      "epoch: 22, [batch: 280 / 1400], examples_per_second: 11298.7040, train_label_loss: 0.0680, \n"
     ]
    },
    {
     "name": "stdout",
     "output_type": "stream",
     "text": [
      "epoch: 22, [batch: 420 / 1400], examples_per_second: 11777.7245, train_label_loss: 0.1740, \n"
     ]
    },
    {
     "name": "stdout",
     "output_type": "stream",
     "text": [
      "epoch: 22, [batch: 560 / 1400], examples_per_second: 11780.9754, train_label_loss: 0.1036, \n"
     ]
    },
    {
     "name": "stdout",
     "output_type": "stream",
     "text": [
      "epoch: 22, [batch: 700 / 1400], examples_per_second: 11698.5548, train_label_loss: 0.0683, \n"
     ]
    },
    {
     "name": "stdout",
     "output_type": "stream",
     "text": [
      "epoch: 22, [batch: 840 / 1400], examples_per_second: 11722.5147, train_label_loss: 0.0874, \n"
     ]
    },
    {
     "name": "stdout",
     "output_type": "stream",
     "text": [
      "epoch: 22, [batch: 980 / 1400], examples_per_second: 11745.4588, train_label_loss: 0.0424, \n"
     ]
    },
    {
     "name": "stdout",
     "output_type": "stream",
     "text": [
      "epoch: 22, [batch: 1120 / 1400], examples_per_second: 11691.5979, train_label_loss: 0.0263, \n"
     ]
    },
    {
     "name": "stdout",
     "output_type": "stream",
     "text": [
      "epoch: 22, [batch: 1260 / 1400], examples_per_second: 11746.6428, train_label_loss: 0.0364, \n"
     ]
    },
    {
     "name": "stdout",
     "output_type": "stream",
     "text": [
      "=============================================================\n",
      "epoch: 22, source_val_acc_label: 0.9596, source_val_label_loss: 0.1468, target_val_acc_label: 0.9596, target_val_label_loss: 0.1468, \n",
      "=============================================================\n"
     ]
    },
    {
     "name": "stdout",
     "output_type": "stream",
     "text": [
      "epoch: 23, [batch: 1 / 1400], examples_per_second: 65.5555, train_label_loss: 0.0502, \n"
     ]
    },
    {
     "name": "stdout",
     "output_type": "stream",
     "text": [
      "epoch: 23, [batch: 140 / 1400], examples_per_second: 11659.3563, train_label_loss: 0.0711, \n"
     ]
    },
    {
     "name": "stdout",
     "output_type": "stream",
     "text": [
      "epoch: 23, [batch: 280 / 1400], examples_per_second: 11778.4498, train_label_loss: 0.0411, \n"
     ]
    },
    {
     "name": "stdout",
     "output_type": "stream",
     "text": [
      "epoch: 23, [batch: 420 / 1400], examples_per_second: 11709.7198, train_label_loss: 0.0630, \n"
     ]
    },
    {
     "name": "stdout",
     "output_type": "stream",
     "text": [
      "epoch: 23, [batch: 560 / 1400], examples_per_second: 11741.2975, train_label_loss: 0.0890, \n"
     ]
    },
    {
     "name": "stdout",
     "output_type": "stream",
     "text": [
      "epoch: 23, [batch: 700 / 1400], examples_per_second: 11677.3643, train_label_loss: 0.0498, \n"
     ]
    },
    {
     "name": "stdout",
     "output_type": "stream",
     "text": [
      "epoch: 23, [batch: 840 / 1400], examples_per_second: 11785.3848, train_label_loss: 0.0587, \n"
     ]
    },
    {
     "name": "stdout",
     "output_type": "stream",
     "text": [
      "epoch: 23, [batch: 980 / 1400], examples_per_second: 11779.7198, train_label_loss: 0.0858, \n"
     ]
    },
    {
     "name": "stdout",
     "output_type": "stream",
     "text": [
      "epoch: 23, [batch: 1120 / 1400], examples_per_second: 11729.6201, train_label_loss: 0.1671, \n"
     ]
    },
    {
     "name": "stdout",
     "output_type": "stream",
     "text": [
      "epoch: 23, [batch: 1260 / 1400], examples_per_second: 11596.1174, train_label_loss: 0.1044, \n"
     ]
    },
    {
     "name": "stdout",
     "output_type": "stream",
     "text": [
      "=============================================================\n",
      "epoch: 23, source_val_acc_label: 0.9679, source_val_label_loss: 0.1534, target_val_acc_label: 0.9679, target_val_label_loss: 0.1534, \n",
      "=============================================================\n"
     ]
    },
    {
     "name": "stdout",
     "output_type": "stream",
     "text": [
      "epoch: 24, [batch: 1 / 1400], examples_per_second: 65.0312, train_label_loss: 0.0578, \n"
     ]
    },
    {
     "name": "stdout",
     "output_type": "stream",
     "text": [
      "epoch: 24, [batch: 140 / 1400], examples_per_second: 11690.8738, train_label_loss: 0.0957, \n"
     ]
    },
    {
     "name": "stdout",
     "output_type": "stream",
     "text": [
      "epoch: 24, [batch: 280 / 1400], examples_per_second: 11788.4328, train_label_loss: 0.0262, \n"
     ]
    },
    {
     "name": "stdout",
     "output_type": "stream",
     "text": [
      "epoch: 24, [batch: 420 / 1400], examples_per_second: 11741.1104, train_label_loss: 0.0482, \n"
     ]
    },
    {
     "name": "stdout",
     "output_type": "stream",
     "text": [
      "epoch: 24, [batch: 560 / 1400], examples_per_second: 11785.8024, train_label_loss: 0.0471, \n"
     ]
    },
    {
     "name": "stdout",
     "output_type": "stream",
     "text": [
      "epoch: 24, [batch: 700 / 1400], examples_per_second: 11703.7719, train_label_loss: 0.0281, \n"
     ]
    },
    {
     "name": "stdout",
     "output_type": "stream",
     "text": [
      "epoch: 24, [batch: 840 / 1400], examples_per_second: 11650.5230, train_label_loss: 0.0628, \n"
     ]
    },
    {
     "name": "stdout",
     "output_type": "stream",
     "text": [
      "epoch: 24, [batch: 980 / 1400], examples_per_second: 11714.9724, train_label_loss: 0.0404, \n"
     ]
    },
    {
     "name": "stdout",
     "output_type": "stream",
     "text": [
      "epoch: 24, [batch: 1120 / 1400], examples_per_second: 11737.7862, train_label_loss: 0.0467, \n"
     ]
    },
    {
     "name": "stdout",
     "output_type": "stream",
     "text": [
      "epoch: 24, [batch: 1260 / 1400], examples_per_second: 11786.8411, train_label_loss: 0.0585, \n"
     ]
    },
    {
     "name": "stdout",
     "output_type": "stream",
     "text": [
      "=============================================================\n",
      "epoch: 24, source_val_acc_label: 0.9667, source_val_label_loss: 0.2376, target_val_acc_label: 0.9667, target_val_label_loss: 0.2376, \n",
      "=============================================================\n"
     ]
    },
    {
     "name": "stdout",
     "output_type": "stream",
     "text": [
      "epoch: 25, [batch: 1 / 1400], examples_per_second: 65.0936, train_label_loss: 0.0362, \n"
     ]
    },
    {
     "name": "stdout",
     "output_type": "stream",
     "text": [
      "epoch: 25, [batch: 140 / 1400], examples_per_second: 11678.6722, train_label_loss: 0.0561, \n"
     ]
    },
    {
     "name": "stdout",
     "output_type": "stream",
     "text": [
      "epoch: 25, [batch: 280 / 1400], examples_per_second: 11767.1221, train_label_loss: 0.0429, \n"
     ]
    },
    {
     "name": "stdout",
     "output_type": "stream",
     "text": [
      "epoch: 25, [batch: 420 / 1400], examples_per_second: 11793.4658, train_label_loss: 0.0454, \n"
     ]
    },
    {
     "name": "stdout",
     "output_type": "stream",
     "text": [
      "epoch: 25, [batch: 560 / 1400], examples_per_second: 11719.3728, train_label_loss: 0.0509, \n"
     ]
    },
    {
     "name": "stdout",
     "output_type": "stream",
     "text": [
      "epoch: 25, [batch: 700 / 1400], examples_per_second: 11678.5165, train_label_loss: 0.0541, \n"
     ]
    },
    {
     "name": "stdout",
     "output_type": "stream",
     "text": [
      "epoch: 25, [batch: 840 / 1400], examples_per_second: 11751.0100, train_label_loss: 0.0372, \n"
     ]
    },
    {
     "name": "stdout",
     "output_type": "stream",
     "text": [
      "epoch: 25, [batch: 980 / 1400], examples_per_second: 11744.1466, train_label_loss: 0.0403, \n"
     ]
    },
    {
     "name": "stdout",
     "output_type": "stream",
     "text": [
      "epoch: 25, [batch: 1120 / 1400], examples_per_second: 11775.6855, train_label_loss: 0.0561, \n"
     ]
    },
    {
     "name": "stdout",
     "output_type": "stream",
     "text": [
      "epoch: 25, [batch: 1260 / 1400], examples_per_second: 11720.0050, train_label_loss: 0.0501, \n"
     ]
    },
    {
     "name": "stdout",
     "output_type": "stream",
     "text": [
      "=============================================================\n",
      "epoch: 25, source_val_acc_label: 0.9676, source_val_label_loss: 0.2992, target_val_acc_label: 0.9676, target_val_label_loss: 0.2992, \n",
      "=============================================================\n"
     ]
    },
    {
     "name": "stdout",
     "output_type": "stream",
     "text": [
      "Patience (3) exhausted\n"
     ]
    }
   ],
   "source": [
    "jig = Vanilla_Train_Eval_Test_Jig(\n",
    "    model=model,\n",
    "    path_to_best_model=p.BEST_MODEL_PATH,\n",
    "    device=p.device,\n",
    "    label_loss_object=torch.nn.NLLLoss(),\n",
    ")\n",
    "\n",
    "jig.train(\n",
    "    train_iterable=datasets.source.processed.train,\n",
    "    source_val_iterable=datasets.source.processed.val,\n",
    "    target_val_iterable=datasets.target.processed.val,\n",
    "    patience=p.patience,\n",
    "    num_epochs=p.n_epoch,\n",
    "    num_logs_per_epoch=p.NUM_LOGS_PER_EPOCH,\n",
    "    criteria_for_best=p.criteria_for_best\n",
    ")"
   ]
  },
  {
   "cell_type": "code",
   "execution_count": 14,
   "id": "4bc2ac17",
   "metadata": {
    "execution": {
     "iopub.execute_input": "2022-03-26T09:42:04.144455Z",
     "iopub.status.busy": "2022-03-26T09:42:04.144085Z",
     "iopub.status.idle": "2022-03-26T09:42:04.146575Z",
     "shell.execute_reply": "2022-03-26T09:42:04.146251Z"
    },
    "papermill": {
     "duration": 0.094846,
     "end_time": "2022-03-26T09:42:04.146653",
     "exception": false,
     "start_time": "2022-03-26T09:42:04.051807",
     "status": "completed"
    },
    "tags": []
   },
   "outputs": [],
   "source": [
    "total_experiment_time_secs = time.time() - start_time_secs"
   ]
  },
  {
   "cell_type": "code",
   "execution_count": 15,
   "id": "cae88f23",
   "metadata": {
    "execution": {
     "iopub.execute_input": "2022-03-26T09:42:04.363227Z",
     "iopub.status.busy": "2022-03-26T09:42:04.362367Z",
     "iopub.status.idle": "2022-03-26T09:42:26.101438Z",
     "shell.execute_reply": "2022-03-26T09:42:26.102116Z"
    },
    "papermill": {
     "duration": 21.864386,
     "end_time": "2022-03-26T09:42:26.102357",
     "exception": false,
     "start_time": "2022-03-26T09:42:04.237971",
     "status": "completed"
    },
    "tags": []
   },
   "outputs": [],
   "source": [
    "source_test_label_accuracy, source_test_label_loss = jig.test(datasets.source.processed.test)\n",
    "target_test_label_accuracy, target_test_label_loss = jig.test(datasets.target.processed.test)\n",
    "\n",
    "source_val_label_accuracy, source_val_label_loss = jig.test(datasets.source.processed.val)\n",
    "target_val_label_accuracy, target_val_label_loss = jig.test(datasets.target.processed.val)\n",
    "\n",
    "history = jig.get_history()\n",
    "\n",
    "total_epochs_trained = len(history[\"epoch_indices\"])\n",
    "\n",
    "val_dl = wrap_in_dataloader(p, Sequence_Aggregator((datasets.source.original.val, datasets.target.original.val)))\n",
    "\n",
    "confusion = confusion_by_domain_over_dataloader(model, p.device, val_dl, forward_uses_domain=False)\n",
    "per_domain_accuracy = per_domain_accuracy_from_confusion(confusion)\n",
    "\n",
    "# Add a key to per_domain_accuracy for if it was a source domain\n",
    "for domain, accuracy in per_domain_accuracy.items():\n",
    "    per_domain_accuracy[domain] = {\n",
    "        \"accuracy\": accuracy,\n",
    "        \"source?\": domain in p.domains_source\n",
    "    }\n",
    "\n",
    "# Do an independent accuracy assesment JUST TO BE SURE!\n",
    "# _source_test_label_accuracy = independent_accuracy_assesment(model, datasets.source.processed.test, p.device)\n",
    "# _target_test_label_accuracy = independent_accuracy_assesment(model, datasets.target.processed.test, p.device)\n",
    "# _source_val_label_accuracy = independent_accuracy_assesment(model, datasets.source.processed.val, p.device)\n",
    "# _target_val_label_accuracy = independent_accuracy_assesment(model, datasets.target.processed.val, p.device)\n",
    "\n",
    "# assert(_source_test_label_accuracy == source_test_label_accuracy)\n",
    "# assert(_target_test_label_accuracy == target_test_label_accuracy)\n",
    "# assert(_source_val_label_accuracy == source_val_label_accuracy)\n",
    "# assert(_target_val_label_accuracy == target_val_label_accuracy)\n",
    "\n",
    "###################################\n",
    "# Write out the results\n",
    "###################################\n",
    "\n",
    "experiment = {\n",
    "    \"experiment_name\": p.experiment_name,\n",
    "    \"parameters\": p,\n",
    "    \"results\": {\n",
    "        \"source_test_label_accuracy\": source_test_label_accuracy,\n",
    "        \"source_test_label_loss\": source_test_label_loss,\n",
    "        \"target_test_label_accuracy\": target_test_label_accuracy,\n",
    "        \"target_test_label_loss\": target_test_label_loss,\n",
    "        \"source_val_label_accuracy\": source_val_label_accuracy,\n",
    "        \"source_val_label_loss\": source_val_label_loss,\n",
    "        \"target_val_label_accuracy\": target_val_label_accuracy,\n",
    "        \"target_val_label_loss\": target_val_label_loss,\n",
    "        \"total_epochs_trained\": total_epochs_trained,\n",
    "        \"total_experiment_time_secs\": total_experiment_time_secs,\n",
    "        \"confusion\": confusion,\n",
    "        \"per_domain_accuracy\": per_domain_accuracy,\n",
    "    },\n",
    "    \"history\": history,\n",
    "    \"dataset_metrics\": get_dataset_metrics(datasets, \"cnn\"),\n",
    "}"
   ]
  },
  {
   "cell_type": "code",
   "execution_count": 16,
   "id": "74c318cf",
   "metadata": {
    "execution": {
     "iopub.execute_input": "2022-03-26T09:42:26.311732Z",
     "iopub.status.busy": "2022-03-26T09:42:26.310452Z",
     "iopub.status.idle": "2022-03-26T09:42:26.490629Z",
     "shell.execute_reply": "2022-03-26T09:42:26.489916Z"
    },
    "papermill": {
     "duration": 0.295835,
     "end_time": "2022-03-26T09:42:26.490796",
     "exception": false,
     "start_time": "2022-03-26T09:42:26.194961",
     "status": "completed"
    },
    "tags": []
   },
   "outputs": [
    {
     "data": {
      "text/plain": [
       "<AxesSubplot:title={'center':'Source Train Label Loss vs Source Val Label Loss'}, xlabel='Epoch'>"
      ]
     },
     "execution_count": 16,
     "metadata": {},
     "output_type": "execute_result"
    },
    {
     "data": {
      "image/png": "[encoded data removed]",
      "text/plain": [
       "<Figure size 1080x504 with 1 Axes>"
      ]
     },
     "metadata": {
      "needs_background": "light"
     },
     "output_type": "display_data"
    }
   ],
   "source": [
    "get_loss_curve(experiment)"
   ]
  },
  {
   "cell_type": "code",
   "execution_count": 17,
   "id": "59376601",
   "metadata": {
    "execution": {
     "iopub.execute_input": "2022-03-26T09:42:26.696328Z",
     "iopub.status.busy": "2022-03-26T09:42:26.687812Z",
     "iopub.status.idle": "2022-03-26T09:42:26.964524Z",
     "shell.execute_reply": "2022-03-26T09:42:26.964142Z"
    },
    "papermill": {
     "duration": 0.382047,
     "end_time": "2022-03-26T09:42:26.964599",
     "exception": false,
     "start_time": "2022-03-26T09:42:26.582552",
     "status": "completed"
    },
    "tags": []
   },
   "outputs": [
    {
     "data": {
      "text/plain": [
       "<AxesSubplot:title={'center':'Results'}>"
      ]
     },
     "execution_count": 17,
     "metadata": {},
     "output_type": "execute_result"
    },
    {
     "data": {
      "image/png": "[encoded data removed]",
      "text/plain": [
       "<Figure size 1080x504 with 1 Axes>"
      ]
     },
     "metadata": {
      "needs_background": "light"
     },
     "output_type": "display_data"
    }
   ],
   "source": [
    "get_results_table(experiment)"
   ]
  },
  {
   "cell_type": "code",
   "execution_count": 18,
   "id": "e80c5c98",
   "metadata": {
    "execution": {
     "iopub.execute_input": "2022-03-26T09:42:27.175210Z",
     "iopub.status.busy": "2022-03-26T09:42:27.174844Z",
     "iopub.status.idle": "2022-03-26T09:42:27.336809Z",
     "shell.execute_reply": "2022-03-26T09:42:27.336442Z"
    },
    "papermill": {
     "duration": 0.279807,
     "end_time": "2022-03-26T09:42:27.336880",
     "exception": false,
     "start_time": "2022-03-26T09:42:27.057073",
     "status": "completed"
    },
    "tags": []
   },
   "outputs": [
    {
     "data": {
      "text/plain": [
       "<AxesSubplot:title={'center':'Per Domain Accuracy'}, xlabel='domain'>"
      ]
     },
     "execution_count": 18,
     "metadata": {},
     "output_type": "execute_result"
    },
    {
     "data": {
      "image/png": "[encoded data removed]",
      "text/plain": [
       "<Figure size 1080x504 with 1 Axes>"
      ]
     },
     "metadata": {
      "needs_background": "light"
     },
     "output_type": "display_data"
    }
   ],
   "source": [
    "get_domain_accuracies(experiment)"
   ]
  },
  {
   "cell_type": "code",
   "execution_count": 19,
   "id": "086fdd10",
   "metadata": {
    "execution": {
     "iopub.execute_input": "2022-03-26T09:42:27.530078Z",
     "iopub.status.busy": "2022-03-26T09:42:27.529705Z",
     "iopub.status.idle": "2022-03-26T09:42:27.533479Z",
     "shell.execute_reply": "2022-03-26T09:42:27.533834Z"
    },
    "papermill": {
     "duration": 0.103367,
     "end_time": "2022-03-26T09:42:27.533914",
     "exception": false,
     "start_time": "2022-03-26T09:42:27.430547",
     "status": "completed"
    },
    "tags": []
   },
   "outputs": [
    {
     "name": "stdout",
     "output_type": "stream",
     "text": [
      "Source Test Label Accuracy: 0.9702864583333334 Target Test Label Accuracy: 0.9702864583333334\n",
      "Source Val Label Accuracy: 0.968828125 Target Val Label Accuracy: 0.968828125\n"
     ]
    }
   ],
   "source": [
    "print(\"Source Test Label Accuracy:\", experiment[\"results\"][\"source_test_label_accuracy\"], \"Target Test Label Accuracy:\", experiment[\"results\"][\"target_test_label_accuracy\"])\n",
    "print(\"Source Val Label Accuracy:\", experiment[\"results\"][\"source_val_label_accuracy\"], \"Target Val Label Accuracy:\", experiment[\"results\"][\"target_val_label_accuracy\"])"
   ]
  },
  {
   "cell_type": "code",
   "execution_count": 20,
   "id": "9f450536",
   "metadata": {
    "execution": {
     "iopub.execute_input": "2022-03-26T09:42:27.726059Z",
     "iopub.status.busy": "2022-03-26T09:42:27.725692Z",
     "iopub.status.idle": "2022-03-26T09:42:27.729174Z",
     "shell.execute_reply": "2022-03-26T09:42:27.728800Z"
    },
    "papermill": {
     "duration": 0.101814,
     "end_time": "2022-03-26T09:42:27.729244",
     "exception": false,
     "start_time": "2022-03-26T09:42:27.627430",
     "status": "completed"
    },
    "tags": [
     "experiment_json"
    ]
   },
   "outputs": [
    {
     "data": {
      "text/plain": [
       "'{\"experiment_name\": \"cnn_2:oracle.run2.framed\", \"parameters\": {\"experiment_name\": \"cnn_2:oracle.run2.framed\", \"labels\": [\"3123D52\", \"3123D65\", \"3123D79\", \"3123D80\", \"3123D54\", \"3123D70\", \"3123D7B\", \"3123D89\", \"3123D58\", \"3123D76\", \"3123D7D\", \"3123EFE\", \"3123D64\", \"3123D78\", \"3123D7E\", \"3124E4A\"], \"domains_source\": [8, 32, 50, 14, 20, 26, 38, 44], \"domains_target\": [8, 32, 50, 14, 20, 26, 38, 44], \"pickle_name_source\": \"oracle.Run2_framed_2000Examples_stratified_ds.2022A.pkl\", \"pickle_name_target\": \"oracle.Run2_framed_2000Examples_stratified_ds.2022A.pkl\", \"device\": \"cuda\", \"lr\": 0.0001, \"batch_size\": 128, \"normalize_source\": false, \"normalize_target\": false, \"num_examples_per_domain_per_label_source\": -1, \"num_examples_per_domain_per_label_target\": -1, \"torch_default_dtype\": \"torch.float32\", \"n_epoch\": 50, \"patience\": 3, \"criteria_for_best\": \"target_accuracy\", \"x_net\": [{\"class\": \"nnReshape\", \"kargs\": {\"shape\": [-1, 1, 2, 256]}}, {\"class\": \"Conv2d\", \"kargs\": {\"in_channels\": 1, \"out_channels\": 256, \"kernel_size\": [1, 7], \"bias\": false, \"padding\": [0, 3]}}, {\"class\": \"ReLU\", \"kargs\": {\"inplace\": true}}, {\"class\": \"BatchNorm2d\", \"kargs\": {\"num_features\": 256}}, {\"class\": \"Conv2d\", \"kargs\": {\"in_channels\": 256, \"out_channels\": 80, \"kernel_size\": [2, 7], \"bias\": true, \"padding\": [0, 3]}}, {\"class\": \"ReLU\", \"kargs\": {\"inplace\": true}}, {\"class\": \"BatchNorm2d\", \"kargs\": {\"num_features\": 80}}, {\"class\": \"Flatten\", \"kargs\": {}}, {\"class\": \"Linear\", \"kargs\": {\"in_features\": 20480, \"out_features\": 256}}, {\"class\": \"ReLU\", \"kargs\": {\"inplace\": true}}, {\"class\": \"BatchNorm1d\", \"kargs\": {\"num_features\": 256}}, {\"class\": \"Linear\", \"kargs\": {\"in_features\": 256, \"out_features\": 16}}], \"NUM_LOGS_PER_EPOCH\": 10, \"BEST_MODEL_PATH\": \"./best_model.pth\", \"dataset_seed\": 7, \"seed\": 7}, \"results\": {\"source_test_label_accuracy\": 0.9702864583333334, \"source_test_label_loss\": 0.18262715651964148, \"target_test_label_accuracy\": 0.9702864583333334, \"target_test_label_loss\": 0.18262715318550665, \"source_val_label_accuracy\": 0.968828125, \"source_val_label_loss\": 0.22466073968137304, \"target_val_label_accuracy\": 0.968828125, \"target_val_label_loss\": 0.22466074536244074, \"total_epochs_trained\": 25, \"total_experiment_time_secs\": 497.05919003486633, \"confusion\": {\"8\": {\"7\": {\"7\": 594, \"6\": 6}, \"14\": {\"14\": 600}, \"1\": {\"1\": 600}, \"10\": {\"10\": 600}, \"11\": {\"11\": 600}, \"15\": {\"15\": 590, \"12\": 10}, \"6\": {\"6\": 600}, \"2\": {\"2\": 596, \"1\": 4}, \"12\": {\"12\": 598, \"4\": 2}, \"4\": {\"4\": 522, \"6\": 76, \"7\": 2}, \"8\": {\"8\": 594, \"11\": 6}, \"9\": {\"9\": 600}, \"13\": {\"13\": 594, \"10\": 4, \"7\": 2}, \"3\": {\"3\": 576, \"10\": 24}, \"0\": {\"0\": 592, \"3\": 4, \"1\": 4}, \"5\": {\"5\": 600}}, \"38\": {\"15\": {\"15\": 546, \"1\": 52, \"11\": 2}, \"9\": {\"9\": 600}, \"0\": {\"0\": 584, \"7\": 10, \"6\": 2, \"13\": 2, \"9\": 2}, \"10\": {\"10\": 600}, \"6\": {\"6\": 600}, \"4\": {\"4\": 600}, \"2\": {\"2\": 592, \"7\": 6, \"14\": 2}, \"8\": {\"8\": 564, \"7\": 36}, \"3\": {\"3\": 540, \"10\": 8, \"11\": 4, \"13\": 48}, \"14\": {\"14\": 588, \"5\": 6, \"7\": 2, \"2\": 4}, \"12\": {\"12\": 600}, \"11\": {\"11\": 586, \"13\": 4, \"15\": 4, \"2\": 2, \"1\": 2, \"10\": 2}, \"13\": {\"3\": 144, \"13\": 448, \"10\": 8}, \"5\": {\"5\": 600}, \"1\": {\"1\": 590, \"15\": 10}, \"7\": {\"7\": 600}}, \"44\": {\"12\": {\"12\": 580, \"3\": 18, \"1\": 2}, \"5\": {\"5\": 600}, \"11\": {\"11\": 596, \"4\": 2, \"15\": 2}, \"3\": {\"3\": 574, \"12\": 16, \"1\": 4, \"8\": 2, \"4\": 2, \"2\": 2}, \"14\": {\"14\": 596, \"5\": 4}, \"8\": {\"8\": 600}, \"4\": {\"4\": 568, \"15\": 24, \"13\": 6, \"3\": 2}, \"7\": {\"7\": 538, \"9\": 60, \"6\": 2}, \"15\": {\"15\": 584, \"8\": 10, \"4\": 2, \"6\": 4}, \"1\": {\"1\": 600}, \"13\": {\"13\": 582, \"10\": 6, \"3\": 4, \"6\": 6, \"11\": 2}, \"10\": {\"10\": 600}, \"2\": {\"2\": 600}, \"9\": {\"9\": 434, \"7\": 156, \"6\": 8, \"0\": 2}, \"0\": {\"8\": 260, \"0\": 338, \"15\": 2}, \"6\": {\"6\": 594, \"13\": 2, \"9\": 2, \"7\": 2}}, \"14\": {\"10\": {\"10\": 582, \"3\": 16, \"8\": 2}, \"1\": {\"1\": 600}, \"7\": {\"7\": 600}, \"11\": {\"11\": 600}, \"4\": {\"4\": 600}, \"9\": {\"9\": 600}, \"15\": {\"15\": 600}, \"8\": {\"8\": 600}, \"12\": {\"12\": 556, \"0\": 18, \"9\": 12, \"2\": 4, \"11\": 2, \"3\": 2, \"13\": 2, \"7\": 4}, \"6\": {\"6\": 506, \"13\": 92, \"2\": 2}, \"0\": {\"0\": 600}, \"5\": {\"5\": 600}, \"2\": {\"2\": 590, \"3\": 10}, \"3\": {\"2\": 8, \"3\": 592}, \"14\": {\"14\": 600}, \"13\": {\"13\": 592, \"2\": 2, \"6\": 6}}, \"50\": {\"10\": {\"10\": 574, \"13\": 20, \"0\": 6}, \"11\": {\"11\": 596, \"0\": 2, \"15\": 2}, \"15\": {\"15\": 568, \"4\": 22, \"0\": 2, \"8\": 4, \"6\": 4}, \"14\": {\"14\": 600}, \"6\": {\"6\": 592, \"15\": 2, \"4\": 6}, \"12\": {\"12\": 582, \"9\": 16, \"4\": 2}, \"4\": {\"4\": 590, \"7\": 10}, \"13\": {\"13\": 596, \"8\": 2, \"2\": 2}, \"2\": {\"2\": 594, \"0\": 6}, \"3\": {\"3\": 596, \"13\": 4}, \"7\": {\"7\": 590, \"2\": 4, \"13\": 2, \"4\": 4}, \"0\": {\"0\": 582, \"10\": 10, \"2\": 8}, \"8\": {\"8\": 600}, \"5\": {\"14\": 12, \"5\": 588}, \"9\": {\"9\": 598, \"0\": 2}, \"1\": {\"1\": 594, \"15\": 6}}, \"32\": {\"6\": {\"6\": 600}, \"2\": {\"2\": 598, \"11\": 2}, \"11\": {\"11\": 590, \"7\": 2, \"0\": 6, \"13\": 2}, \"1\": {\"1\": 598, \"13\": 2}, \"4\": {\"4\": 588, \"13\": 6, \"0\": 2, \"12\": 2, \"3\": 2}, \"8\": {\"8\": 600}, \"0\": {\"0\": 566, \"8\": 34}, \"14\": {\"14\": 594, \"5\": 6}, \"7\": {\"7\": 572, \"1\": 10, \"8\": 2, \"11\": 4, \"3\": 8, \"0\": 2, \"2\": 2}, \"10\": {\"10\": 598, \"3\": 2}, \"9\": {\"9\": 598, \"1\": 2}, \"15\": {\"15\": 600}, \"5\": {\"5\": 600}, \"3\": {\"3\": 594, \"12\": 6}, \"12\": {\"12\": 596, \"0\": 2, \"10\": 2}, \"13\": {\"13\": 588, \"12\": 2, \"3\": 6, \"4\": 4}}, \"20\": {\"6\": {\"6\": 600}, \"2\": {\"3\": 36, \"2\": 514, \"9\": 48, \"7\": 2}, \"1\": {\"1\": 580, \"2\": 14, \"15\": 2, \"9\": 4}, \"12\": {\"12\": 600}, \"15\": {\"15\": 580, \"13\": 12, \"12\": 6, \"2\": 2}, \"5\": {\"5\": 600}, \"4\": {\"4\": 576, \"12\": 24}, \"14\": {\"14\": 600}, \"7\": {\"7\": 586, \"3\": 14}, \"0\": {\"0\": 600}, \"11\": {\"11\": 600}, \"10\": {\"10\": 600}, \"13\": {\"13\": 600}, \"8\": {\"8\": 600}, \"3\": {\"3\": 544, \"2\": 28, \"9\": 24, \"7\": 4}, \"9\": {\"9\": 566, \"3\": 18, \"2\": 16}}, \"26\": {\"5\": {\"5\": 600}, \"2\": {\"2\": 526, \"3\": 2, \"7\": 38, \"8\": 28, \"10\": 4, \"15\": 2}, \"3\": {\"3\": 540, \"7\": 40, \"2\": 20}, \"8\": {\"8\": 562, \"2\": 22, \"10\": 10, \"7\": 2, \"0\": 4}, \"15\": {\"15\": 592, \"8\": 4, \"0\": 2, \"2\": 2}, \"10\": {\"10\": 426, \"2\": 8, \"0\": 128, \"8\": 24, \"1\": 4, \"6\": 6, \"14\": 2, \"15\": 2}, \"7\": {\"7\": 464, \"2\": 100, \"8\": 24, \"13\": 2, \"3\": 8, \"15\": 2}, \"13\": {\"13\": 598, \"9\": 2}, \"0\": {\"0\": 558, \"10\": 24, \"8\": 14, \"15\": 2, \"1\": 2}, \"12\": {\"12\": 600}, \"11\": {\"11\": 600}, \"1\": {\"1\": 600}, \"6\": {\"6\": 598, \"10\": 2}, \"4\": {\"4\": 600}, \"9\": {\"9\": 580, \"8\": 10, \"13\": 10}, \"14\": {\"14\": 600}}}, \"per_domain_accuracy\": {\"8\": {\"accuracy\": 0.985, \"source?\": true}, \"38\": {\"accuracy\": 0.9622916666666667, \"source?\": true}, \"44\": {\"accuracy\": 0.9358333333333333, \"source?\": true}, \"14\": {\"accuracy\": 0.9810416666666667, \"source?\": true}, \"50\": {\"accuracy\": 0.9833333333333333, \"source?\": true}, \"32\": {\"accuracy\": 0.9875, \"source?\": true}, \"20\": {\"accuracy\": 0.9735416666666666, \"source?\": true}, \"26\": {\"accuracy\": 0.9420833333333334, \"source?\": true}}}, \"history\": {\"epoch_indices\": [1, 2, 3, 4, 5, 6, 7, 8, 9, 10, 11, 12, 13, 14, 15, 16, 17, 18, 19, 20, 21, 22, 23, 24, 25], \"train_label_loss\": [2.1766967211450847, 0.9953029817768506, 0.5221610942270074, 0.3454686638606446, 0.2644668822629111, 0.21365985101887158, 0.20499020649918487, 0.16960140862103018, 0.14527971826759833, 0.14004672717835223, 0.1232188061332064, 0.12092137248388359, 0.10965634067409805, 0.0994438082884465, 0.10253773357985276, 0.08998954034809556, 0.08362350594651487, 0.07913604305791003, 0.08655939142352768, 0.07171725759814893, 0.06718557397635387, 0.06353993185396706, 0.06015964765500809, 0.05904100508229541, 0.05700073547195643], \"source_val_label_loss\": [1.4540785976250967, 0.6133559689919154, 0.41162583301464717, 0.2770055657128493, 0.27636069610714914, 0.2869598254064719, 0.27401375234127046, 0.2053878062715133, 0.16882925175130367, 0.16665082156658173, 0.13349363731841246, 0.18640853263437748, 0.13169111646711826, 0.1212402697155873, 0.30012524540225666, 0.24635858143369357, 0.2295620542143782, 0.14556093523899713, 0.19779901490857205, 0.13377416661630073, 0.2246607400663197, 0.14683535024523736, 0.1533556232601404, 0.23758859880268574, 0.29915150109057626], \"target_val_label_loss\": [1.4540786015987397, 0.6133559639255206, 0.41162583301464717, 0.27700556521614395, 0.27636069923639295, 0.2869598393390576, 0.2740137428045273, 0.2053878063460191, 0.16882925432175397, 0.1666508201509714, 0.13349363873402278, 0.18640852087487778, 0.1316911206021905, 0.12124026899536451, 0.3001252295821905, 0.24635858353227377, 0.22956206144144137, 0.1455609310294191, 0.19779901390274365, 0.13377416729927064, 0.22466074186687668, 0.1468353487861653, 0.15335562044133744, 0.23758859063188234, 0.29915150546158353], \"source_val_acc_label\": [0.6067708333333334, 0.849453125, 0.916328125, 0.9355989583333333, 0.9311458333333333, 0.93078125, 0.9505989583333333, 0.94734375, 0.9586458333333333, 0.9576041666666667, 0.957734375, 0.9537760416666666, 0.964453125, 0.9615885416666666, 0.9615625, 0.9649479166666667, 0.966796875, 0.9602604166666666, 0.9490625, 0.9661458333333334, 0.968828125, 0.9596354166666666, 0.9679166666666666, 0.9666927083333333, 0.9675520833333333], \"target_val_acc_label\": [0.6067708333333334, 0.849453125, 0.916328125, 0.9355989583333333, 0.9311458333333333, 0.93078125, 0.9505989583333333, 0.94734375, 0.9586458333333333, 0.9576041666666667, 0.957734375, 0.9537760416666666, 0.964453125, 0.9615885416666666, 0.9615625, 0.9649479166666667, 0.966796875, 0.9602604166666666, 0.9490625, 0.9661458333333334, 0.968828125, 0.9596354166666666, 0.9679166666666666, 0.9666927083333333, 0.9675520833333333]}, \"dataset_metrics\": {\"source\": {\"train\": {\"n_unique_x\": 179200, \"n_unique_y\": 16, \"n_batch/episode\": 1400}, \"val\": {\"n_unique_x\": 38400, \"n_unique_y\": 16, \"n_batch/episode\": 300}, \"test\": {\"n_unique_x\": 38400, \"n_unique_y\": 16, \"n_batch/episode\": 300}}, \"target\": {\"train\": {\"n_unique_x\": 179200, \"n_unique_y\": 16, \"n_batch/episode\": 1400}, \"val\": {\"n_unique_x\": 38400, \"n_unique_y\": 16, \"n_batch/episode\": 300}, \"test\": {\"n_unique_x\": 38400, \"n_unique_y\": 16, \"n_batch/episode\": 300}}}}'"
      ]
     },
     "execution_count": 20,
     "metadata": {},
     "output_type": "execute_result"
    }
   ],
   "source": [
    "json.dumps(experiment)"
   ]
  }
 ],
 "metadata": {
  "celltoolbar": "Tags",
  "kernelspec": {
   "display_name": "Python 3 (ipykernel)",
   "language": "python",
   "name": "python3"
  },
  "language_info": {
   "codemirror_mode": {
    "name": "ipython",
    "version": 3
   },
   "file_extension": ".py",
   "mimetype": "text/x-python",
   "name": "python",
   "nbconvert_exporter": "python",
   "pygments_lexer": "ipython3",
   "version": "3.8.12"
  },
  "papermill": {
   "default_parameters": {},
   "duration": 526.092386,
   "end_time": "2022-03-26T09:42:30.534124",
   "environment_variables": {},
   "exception": null,
   "input_path": "/root/csc500-main/csc500-notebooks/templates/cnn_template.ipynb",
   "output_path": "trial.ipynb",
   "parameters": {
    "parameters": {
     "BEST_MODEL_PATH": "./best_model.pth",
     "NUM_LOGS_PER_EPOCH": 10,
     "batch_size": 128,
     "criteria_for_best": "target_accuracy",
     "dataset_seed": 7,
     "device": "cuda",
     "domains_source": [
      8,
      32,
      50,
      14,
      20,
      26,
      38,
      44
     ],
     "domains_target": [
      8,
      32,
      50,
      14,
      20,
      26,
      38,
      44
     ],
     "experiment_name": "cnn_2:oracle.run2.framed",
     "labels": [
      "3123D52",
      "3123D65",
      "3123D79",
      "3123D80",
      "3123D54",
      "3123D70",
      "3123D7B",
      "3123D89",
      "3123D58",
      "3123D76",
      "3123D7D",
      "3123EFE",
      "3123D64",
      "3123D78",
      "3123D7E",
      "3124E4A"
     ],
     "lr": 0.0001,
     "n_epoch": 50,
     "normalize_source": false,
     "normalize_target": false,
     "num_examples_per_domain_per_label_source": -1,
     "num_examples_per_domain_per_label_target": -1,
     "patience": 3,
     "pickle_name_source": "oracle.Run2_framed_2000Examples_stratified_ds.2022A.pkl",
     "pickle_name_target": "oracle.Run2_framed_2000Examples_stratified_ds.2022A.pkl",
     "seed": 7,
     "torch_default_dtype": "torch.float32",
     "x_net": [
      {
       "class": "nnReshape",
       "kargs": {
        "shape": [
         -1,
         1,
         2,
         256
        ]
       }
      },
      {
       "class": "Conv2d",
       "kargs": {
        "bias": false,
        "in_channels": 1,
        "kernel_size": [
         1,
         7
        ],
        "out_channels": 256,
        "padding": [
         0,
         3
        ]
       }
      },
      {
       "class": "ReLU",
       "kargs": {
        "inplace": true
       }
      },
      {
       "class": "BatchNorm2d",
       "kargs": {
        "num_features": 256
       }
      },
      {
       "class": "Conv2d",
       "kargs": {
        "bias": true,
        "in_channels": 256,
        "kernel_size": [
         2,
         7
        ],
        "out_channels": 80,
        "padding": [
         0,
         3
        ]
       }
      },
      {
       "class": "ReLU",
       "kargs": {
        "inplace": true
       }
      },
      {
       "class": "BatchNorm2d",
       "kargs": {
        "num_features": 80
       }
      },
      {
       "class": "Flatten",
       "kargs": {}
      },
      {
       "class": "Linear",
       "kargs": {
        "in_features": 20480,
        "out_features": 256
       }
      },
      {
       "class": "ReLU",
       "kargs": {
        "inplace": true
       }
      },
      {
       "class": "BatchNorm1d",
       "kargs": {
        "num_features": 256
       }
      },
      {
       "class": "Linear",
       "kargs": {
        "in_features": 256,
        "out_features": 16
       }
      }
     ]
    }
   },
   "start_time": "2022-03-26T09:33:44.441738",
   "version": "2.3.4"
  }
 },
 "nbformat": 4,
 "nbformat_minor": 5
}