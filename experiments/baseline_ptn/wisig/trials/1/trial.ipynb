{
 "cells": [
  {
   "cell_type": "markdown",
   "id": "9fea5f46",
   "metadata": {
    "papermill": {
     "duration": 0.013173,
     "end_time": "2022-03-02T13:58:15.977503",
     "exception": false,
     "start_time": "2022-03-02T13:58:15.964330",
     "status": "completed"
    },
    "tags": []
   },
   "source": [
    "# PTN Template\n",
    "This notebook serves as a template for single dataset PTN experiments  \n",
    "It can be run on its own by setting STANDALONE to True (do a find for \"STANDALONE\" to see where)  \n",
    "But it is intended to be executed as part of a *papermill.py script. See any of the   \n",
    "experimentes with a papermill script to get started with that workflow.  "
   ]
  },
  {
   "cell_type": "code",
   "execution_count": 1,
   "id": "0902182a",
   "metadata": {
    "execution": {
     "iopub.execute_input": "2022-03-02T13:58:16.004993Z",
     "iopub.status.busy": "2022-03-02T13:58:16.004590Z",
     "iopub.status.idle": "2022-03-02T13:58:16.728825Z",
     "shell.execute_reply": "2022-03-02T13:58:16.728293Z"
    },
    "papermill": {
     "duration": 0.742148,
     "end_time": "2022-03-02T13:58:16.728939",
     "exception": false,
     "start_time": "2022-03-02T13:58:15.986791",
     "status": "completed"
    },
    "tags": []
   },
   "outputs": [],
   "source": [
    "%load_ext autoreload\n",
    "%autoreload 2\n",
    "%matplotlib inline\n",
    "\n",
    "    \n",
    "import os, json, sys, time, random\n",
    "import numpy as np\n",
    "import torch\n",
    "from torch.optim import Adam\n",
    "from  easydict import EasyDict\n",
    "import matplotlib.pyplot as plt\n",
    "\n",
    "from steves_models.steves_ptn import Steves_Prototypical_Network\n",
    "\n",
    "from steves_utils.lazy_iterable_wrapper import Lazy_Iterable_Wrapper\n",
    "from steves_utils.iterable_aggregator import Iterable_Aggregator\n",
    "from steves_utils.ptn_train_eval_test_jig import  PTN_Train_Eval_Test_Jig\n",
    "from steves_utils.torch_sequential_builder import build_sequential\n",
    "from steves_utils.torch_utils import get_dataset_metrics, ptn_confusion_by_domain_over_dataloader\n",
    "from steves_utils.utils_v2 import (per_domain_accuracy_from_confusion, get_datasets_base_path)\n",
    "from steves_utils.PTN.utils import independent_accuracy_assesment\n",
    "\n",
    "from steves_utils.stratified_dataset.episodic_accessor import Episodic_Accessor_Factory\n",
    "\n",
    "from steves_utils.ptn_do_report import (\n",
    "    get_loss_curve,\n",
    "    get_results_table,\n",
    "    get_parameters_table,\n",
    "    get_domain_accuracies,\n",
    ")\n",
    "\n",
    "from steves_utils.transforms import get_chained_transform"
   ]
  },
  {
   "cell_type": "markdown",
   "id": "41c840b4",
   "metadata": {
    "papermill": {
     "duration": 0.009142,
     "end_time": "2022-03-02T13:58:16.751538",
     "exception": false,
     "start_time": "2022-03-02T13:58:16.742396",
     "status": "completed"
    },
    "tags": []
   },
   "source": [
    "# Required Parameters\n",
    "These are allowed parameters, not defaults\n",
    "Each of these values need to be present in the injected parameters (the notebook will raise an exception if they are not present)\n",
    "\n",
    "Papermill uses the cell tag \"parameters\" to inject the real parameters below this cell.\n",
    "Enable tags to see what I mean"
   ]
  },
  {
   "cell_type": "code",
   "execution_count": 2,
   "id": "fd44eb83",
   "metadata": {
    "execution": {
     "iopub.execute_input": "2022-03-02T13:58:16.773339Z",
     "iopub.status.busy": "2022-03-02T13:58:16.773084Z",
     "iopub.status.idle": "2022-03-02T13:58:16.786097Z",
     "shell.execute_reply": "2022-03-02T13:58:16.785621Z"
    },
    "papermill": {
     "duration": 0.025493,
     "end_time": "2022-03-02T13:58:16.786195",
     "exception": false,
     "start_time": "2022-03-02T13:58:16.760702",
     "status": "completed"
    },
    "tags": []
   },
   "outputs": [],
   "source": [
    "required_parameters = {\n",
    "    \"experiment_name\",\n",
    "    \"lr\",\n",
    "    \"device\",\n",
    "    \"seed\",\n",
    "    \"dataset_seed\",\n",
    "    \"labels_source\",\n",
    "    \"labels_target\",\n",
    "    \"domains_source\",\n",
    "    \"domains_target\",\n",
    "    \"num_examples_per_domain_per_label_source\",\n",
    "    \"num_examples_per_domain_per_label_target\",\n",
    "    \"n_shot\",\n",
    "    \"n_way\",\n",
    "    \"n_query\",\n",
    "    \"train_k_factor\",\n",
    "    \"val_k_factor\",\n",
    "    \"test_k_factor\",\n",
    "    \"n_epoch\",\n",
    "    \"patience\",\n",
    "    \"criteria_for_best\",\n",
    "    \"x_transforms_source\",\n",
    "    \"x_transforms_target\",\n",
    "    \"episode_transforms_source\",\n",
    "    \"episode_transforms_target\",\n",
    "    \"pickle_name\",\n",
    "    \"x_net\",\n",
    "    \"NUM_LOGS_PER_EPOCH\",\n",
    "    \"BEST_MODEL_PATH\",\n",
    "    \"torch_default_dtype\"\n",
    "}"
   ]
  },
  {
   "cell_type": "code",
   "execution_count": 3,
   "id": "fa3f0049",
   "metadata": {
    "execution": {
     "iopub.execute_input": "2022-03-02T13:58:16.816723Z",
     "iopub.status.busy": "2022-03-02T13:58:16.816394Z",
     "iopub.status.idle": "2022-03-02T13:58:16.827805Z",
     "shell.execute_reply": "2022-03-02T13:58:16.827434Z"
    },
    "papermill": {
     "duration": 0.027207,
     "end_time": "2022-03-02T13:58:16.827911",
     "exception": false,
     "start_time": "2022-03-02T13:58:16.800704",
     "status": "completed"
    },
    "tags": [
     "parameters"
    ]
   },
   "outputs": [],
   "source": [
    "\n",
    "\n",
    "standalone_parameters = {}\n",
    "standalone_parameters[\"experiment_name\"] = \"STANDALONE PTN\"\n",
    "standalone_parameters[\"lr\"] = 0.0001\n",
    "standalone_parameters[\"device\"] = \"cuda\"\n",
    "\n",
    "standalone_parameters[\"seed\"] = 1337\n",
    "standalone_parameters[\"dataset_seed\"] = 1337\n",
    "\n",
    "\n",
    "standalone_parameters[\"num_examples_per_domain_per_label_source\"]=100\n",
    "standalone_parameters[\"num_examples_per_domain_per_label_target\"]=100\n",
    "\n",
    "standalone_parameters[\"n_shot\"] = 3\n",
    "standalone_parameters[\"n_query\"]  = 2\n",
    "standalone_parameters[\"train_k_factor\"] = 1\n",
    "standalone_parameters[\"val_k_factor\"] = 2\n",
    "standalone_parameters[\"test_k_factor\"] = 2\n",
    "\n",
    "\n",
    "standalone_parameters[\"n_epoch\"] = 100\n",
    "\n",
    "standalone_parameters[\"patience\"] = 10\n",
    "standalone_parameters[\"criteria_for_best\"] = \"target_accuracy\"\n",
    "\n",
    "standalone_parameters[\"x_transforms_source\"] = [\"unit_power\"]\n",
    "standalone_parameters[\"x_transforms_target\"] = [\"unit_power\"]\n",
    "standalone_parameters[\"episode_transforms_source\"] = []\n",
    "standalone_parameters[\"episode_transforms_target\"] = []\n",
    "\n",
    "standalone_parameters[\"torch_default_dtype\"] = \"torch.float32\" \n",
    "\n",
    "\n",
    "\n",
    "standalone_parameters[\"x_net\"] =     [\n",
    "    {\"class\": \"nnReshape\", \"kargs\": {\"shape\":[-1, 1, 2, 256]}},\n",
    "    {\"class\": \"Conv2d\", \"kargs\": { \"in_channels\":1, \"out_channels\":256, \"kernel_size\":(1,7), \"bias\":False, \"padding\":(0,3), },},\n",
    "    {\"class\": \"ReLU\", \"kargs\": {\"inplace\": True}},\n",
    "    {\"class\": \"BatchNorm2d\", \"kargs\": {\"num_features\":256}},\n",
    "\n",
    "    {\"class\": \"Conv2d\", \"kargs\": { \"in_channels\":256, \"out_channels\":80, \"kernel_size\":(2,7), \"bias\":True, \"padding\":(0,3), },},\n",
    "    {\"class\": \"ReLU\", \"kargs\": {\"inplace\": True}},\n",
    "    {\"class\": \"BatchNorm2d\", \"kargs\": {\"num_features\":80}},\n",
    "    {\"class\": \"Flatten\", \"kargs\": {}},\n",
    "\n",
    "    {\"class\": \"Linear\", \"kargs\": {\"in_features\": 80*256, \"out_features\": 256}}, # 80 units per IQ pair\n",
    "    {\"class\": \"ReLU\", \"kargs\": {\"inplace\": True}},\n",
    "    {\"class\": \"BatchNorm1d\", \"kargs\": {\"num_features\":256}},\n",
    "\n",
    "    {\"class\": \"Linear\", \"kargs\": {\"in_features\": 256, \"out_features\": 256}},\n",
    "]\n",
    "\n",
    "# Parameters relevant to results\n",
    "# These parameters will basically never need to change\n",
    "standalone_parameters[\"NUM_LOGS_PER_EPOCH\"] = 10\n",
    "standalone_parameters[\"BEST_MODEL_PATH\"] = \"./best_model.pth\"\n",
    "\n",
    "# uncomment for CORES dataset\n",
    "from steves_utils.CORES.utils import (\n",
    "    ALL_NODES,\n",
    "    ALL_NODES_MINIMUM_1000_EXAMPLES,\n",
    "    ALL_DAYS\n",
    ")\n",
    "\n",
    "\n",
    "standalone_parameters[\"labels_source\"] = ALL_NODES\n",
    "standalone_parameters[\"labels_target\"] = ALL_NODES\n",
    "\n",
    "standalone_parameters[\"domains_source\"] = [1]\n",
    "standalone_parameters[\"domains_target\"] = [2,3,4,5]\n",
    "\n",
    "standalone_parameters[\"pickle_name\"] = \"cores.stratified_ds.2022A.pkl\"\n",
    "\n",
    "\n",
    "# Uncomment these for ORACLE dataset\n",
    "# from steves_utils.ORACLE.utils_v2 import (\n",
    "#     ALL_DISTANCES_FEET,\n",
    "#     ALL_RUNS,\n",
    "#     ALL_SERIAL_NUMBERS,\n",
    "# )\n",
    "# standalone_parameters[\"labels_source\"] = ALL_SERIAL_NUMBERS\n",
    "# standalone_parameters[\"labels_target\"] = ALL_SERIAL_NUMBERS\n",
    "# standalone_parameters[\"domains_source\"] = [8,20, 38,50]\n",
    "# standalone_parameters[\"domains_target\"] = [14, 26, 32, 44, 56]\n",
    "# standalone_parameters[\"pickle_name\"] = \"oracle.frame_indexed.stratified_ds.2022A.pkl\"\n",
    "# standalone_parameters[\"num_examples_per_domain_per_label_source\"]=1000\n",
    "# standalone_parameters[\"num_examples_per_domain_per_label_target\"]=1000\n",
    "\n",
    "# Uncomment these for Metahan dataset\n",
    "# standalone_parameters[\"labels_source\"] = list(range(19))\n",
    "# standalone_parameters[\"labels_target\"] = list(range(19))\n",
    "# standalone_parameters[\"domains_source\"] = [0]\n",
    "# standalone_parameters[\"domains_target\"] = [1]\n",
    "# standalone_parameters[\"pickle_name\"] = \"metehan.stratified_ds.2022A.pkl\"\n",
    "# standalone_parameters[\"n_way\"]  = len(standalone_parameters[\"labels_source\"])\n",
    "# standalone_parameters[\"num_examples_per_domain_per_label_source\"]=200\n",
    "# standalone_parameters[\"num_examples_per_domain_per_label_target\"]=100\n",
    "\n",
    "\n",
    "standalone_parameters[\"n_way\"]  = len(standalone_parameters[\"labels_source\"])"
   ]
  },
  {
   "cell_type": "code",
   "execution_count": 4,
   "id": "9a7ae4ca",
   "metadata": {
    "execution": {
     "iopub.execute_input": "2022-03-02T13:58:16.861081Z",
     "iopub.status.busy": "2022-03-02T13:58:16.860549Z",
     "iopub.status.idle": "2022-03-02T13:58:16.870758Z",
     "shell.execute_reply": "2022-03-02T13:58:16.871162Z"
    },
    "papermill": {
     "duration": 0.029525,
     "end_time": "2022-03-02T13:58:16.871281",
     "exception": false,
     "start_time": "2022-03-02T13:58:16.841756",
     "status": "completed"
    },
    "tags": [
     "injected-parameters"
    ]
   },
   "outputs": [],
   "source": [
    "# Parameters\n",
    "parameters = {\n",
    "    \"experiment_name\": \"baseline_ptn_wisig\",\n",
    "    \"lr\": 0.001,\n",
    "    \"device\": \"cuda\",\n",
    "    \"seed\": 1337,\n",
    "    \"dataset_seed\": 1337,\n",
    "    \"labels_source\": [\n",
    "        \"1-10\",\n",
    "        \"1-12\",\n",
    "        \"1-14\",\n",
    "        \"1-16\",\n",
    "        \"1-18\",\n",
    "        \"1-19\",\n",
    "        \"1-8\",\n",
    "        \"10-11\",\n",
    "        \"10-17\",\n",
    "        \"10-4\",\n",
    "        \"10-7\",\n",
    "        \"11-1\",\n",
    "        \"11-10\",\n",
    "        \"11-19\",\n",
    "        \"11-20\",\n",
    "        \"11-4\",\n",
    "        \"11-7\",\n",
    "        \"12-19\",\n",
    "        \"12-20\",\n",
    "        \"12-7\",\n",
    "        \"13-14\",\n",
    "        \"13-18\",\n",
    "        \"13-19\",\n",
    "        \"13-20\",\n",
    "        \"13-3\",\n",
    "        \"13-7\",\n",
    "        \"14-10\",\n",
    "        \"14-11\",\n",
    "        \"14-12\",\n",
    "        \"14-13\",\n",
    "        \"14-14\",\n",
    "        \"14-19\",\n",
    "        \"14-20\",\n",
    "        \"14-7\",\n",
    "        \"14-8\",\n",
    "        \"14-9\",\n",
    "        \"15-1\",\n",
    "        \"15-19\",\n",
    "        \"15-6\",\n",
    "        \"16-1\",\n",
    "        \"16-16\",\n",
    "        \"16-19\",\n",
    "        \"16-20\",\n",
    "        \"17-10\",\n",
    "        \"17-11\",\n",
    "        \"18-1\",\n",
    "        \"18-10\",\n",
    "        \"18-11\",\n",
    "        \"18-12\",\n",
    "        \"18-13\",\n",
    "        \"18-14\",\n",
    "        \"18-15\",\n",
    "        \"18-16\",\n",
    "        \"18-17\",\n",
    "        \"18-19\",\n",
    "        \"18-2\",\n",
    "        \"18-20\",\n",
    "        \"18-4\",\n",
    "        \"18-5\",\n",
    "        \"18-7\",\n",
    "        \"18-8\",\n",
    "        \"18-9\",\n",
    "        \"19-1\",\n",
    "        \"19-10\",\n",
    "        \"19-11\",\n",
    "        \"19-12\",\n",
    "        \"19-13\",\n",
    "        \"19-14\",\n",
    "        \"19-15\",\n",
    "        \"19-19\",\n",
    "        \"19-2\",\n",
    "        \"19-20\",\n",
    "        \"19-3\",\n",
    "        \"19-4\",\n",
    "        \"19-6\",\n",
    "        \"19-7\",\n",
    "        \"19-8\",\n",
    "        \"19-9\",\n",
    "        \"2-1\",\n",
    "        \"2-13\",\n",
    "        \"2-15\",\n",
    "        \"2-3\",\n",
    "        \"2-4\",\n",
    "        \"2-5\",\n",
    "        \"2-6\",\n",
    "        \"2-7\",\n",
    "        \"2-8\",\n",
    "        \"20-1\",\n",
    "        \"20-12\",\n",
    "        \"20-14\",\n",
    "        \"20-15\",\n",
    "        \"20-16\",\n",
    "        \"20-18\",\n",
    "        \"20-19\",\n",
    "        \"20-20\",\n",
    "        \"20-3\",\n",
    "        \"20-4\",\n",
    "        \"20-5\",\n",
    "        \"20-7\",\n",
    "        \"20-8\",\n",
    "        \"3-1\",\n",
    "        \"3-13\",\n",
    "        \"3-18\",\n",
    "        \"3-2\",\n",
    "        \"3-8\",\n",
    "        \"4-1\",\n",
    "        \"4-10\",\n",
    "        \"4-11\",\n",
    "        \"5-1\",\n",
    "        \"5-5\",\n",
    "        \"6-1\",\n",
    "        \"6-15\",\n",
    "        \"6-6\",\n",
    "        \"7-10\",\n",
    "        \"7-11\",\n",
    "        \"7-12\",\n",
    "        \"7-13\",\n",
    "        \"7-14\",\n",
    "        \"7-7\",\n",
    "        \"7-8\",\n",
    "        \"7-9\",\n",
    "        \"8-1\",\n",
    "        \"8-13\",\n",
    "        \"8-14\",\n",
    "        \"8-18\",\n",
    "        \"8-20\",\n",
    "        \"8-3\",\n",
    "        \"8-8\",\n",
    "        \"9-1\",\n",
    "        \"9-7\",\n",
    "    ],\n",
    "    \"labels_target\": [\n",
    "        \"1-10\",\n",
    "        \"1-12\",\n",
    "        \"1-14\",\n",
    "        \"1-16\",\n",
    "        \"1-18\",\n",
    "        \"1-19\",\n",
    "        \"1-8\",\n",
    "        \"10-11\",\n",
    "        \"10-17\",\n",
    "        \"10-4\",\n",
    "        \"10-7\",\n",
    "        \"11-1\",\n",
    "        \"11-10\",\n",
    "        \"11-19\",\n",
    "        \"11-20\",\n",
    "        \"11-4\",\n",
    "        \"11-7\",\n",
    "        \"12-19\",\n",
    "        \"12-20\",\n",
    "        \"12-7\",\n",
    "        \"13-14\",\n",
    "        \"13-18\",\n",
    "        \"13-19\",\n",
    "        \"13-20\",\n",
    "        \"13-3\",\n",
    "        \"13-7\",\n",
    "        \"14-10\",\n",
    "        \"14-11\",\n",
    "        \"14-12\",\n",
    "        \"14-13\",\n",
    "        \"14-14\",\n",
    "        \"14-19\",\n",
    "        \"14-20\",\n",
    "        \"14-7\",\n",
    "        \"14-8\",\n",
    "        \"14-9\",\n",
    "        \"15-1\",\n",
    "        \"15-19\",\n",
    "        \"15-6\",\n",
    "        \"16-1\",\n",
    "        \"16-16\",\n",
    "        \"16-19\",\n",
    "        \"16-20\",\n",
    "        \"17-10\",\n",
    "        \"17-11\",\n",
    "        \"18-1\",\n",
    "        \"18-10\",\n",
    "        \"18-11\",\n",
    "        \"18-12\",\n",
    "        \"18-13\",\n",
    "        \"18-14\",\n",
    "        \"18-15\",\n",
    "        \"18-16\",\n",
    "        \"18-17\",\n",
    "        \"18-19\",\n",
    "        \"18-2\",\n",
    "        \"18-20\",\n",
    "        \"18-4\",\n",
    "        \"18-5\",\n",
    "        \"18-7\",\n",
    "        \"18-8\",\n",
    "        \"18-9\",\n",
    "        \"19-1\",\n",
    "        \"19-10\",\n",
    "        \"19-11\",\n",
    "        \"19-12\",\n",
    "        \"19-13\",\n",
    "        \"19-14\",\n",
    "        \"19-15\",\n",
    "        \"19-19\",\n",
    "        \"19-2\",\n",
    "        \"19-20\",\n",
    "        \"19-3\",\n",
    "        \"19-4\",\n",
    "        \"19-6\",\n",
    "        \"19-7\",\n",
    "        \"19-8\",\n",
    "        \"19-9\",\n",
    "        \"2-1\",\n",
    "        \"2-13\",\n",
    "        \"2-15\",\n",
    "        \"2-3\",\n",
    "        \"2-4\",\n",
    "        \"2-5\",\n",
    "        \"2-6\",\n",
    "        \"2-7\",\n",
    "        \"2-8\",\n",
    "        \"20-1\",\n",
    "        \"20-12\",\n",
    "        \"20-14\",\n",
    "        \"20-15\",\n",
    "        \"20-16\",\n",
    "        \"20-18\",\n",
    "        \"20-19\",\n",
    "        \"20-20\",\n",
    "        \"20-3\",\n",
    "        \"20-4\",\n",
    "        \"20-5\",\n",
    "        \"20-7\",\n",
    "        \"20-8\",\n",
    "        \"3-1\",\n",
    "        \"3-13\",\n",
    "        \"3-18\",\n",
    "        \"3-2\",\n",
    "        \"3-8\",\n",
    "        \"4-1\",\n",
    "        \"4-10\",\n",
    "        \"4-11\",\n",
    "        \"5-1\",\n",
    "        \"5-5\",\n",
    "        \"6-1\",\n",
    "        \"6-15\",\n",
    "        \"6-6\",\n",
    "        \"7-10\",\n",
    "        \"7-11\",\n",
    "        \"7-12\",\n",
    "        \"7-13\",\n",
    "        \"7-14\",\n",
    "        \"7-7\",\n",
    "        \"7-8\",\n",
    "        \"7-9\",\n",
    "        \"8-1\",\n",
    "        \"8-13\",\n",
    "        \"8-14\",\n",
    "        \"8-18\",\n",
    "        \"8-20\",\n",
    "        \"8-3\",\n",
    "        \"8-8\",\n",
    "        \"9-1\",\n",
    "        \"9-7\",\n",
    "    ],\n",
    "    \"x_transforms_source\": [],\n",
    "    \"x_transforms_target\": [],\n",
    "    \"episode_transforms_source\": [],\n",
    "    \"episode_transforms_target\": [],\n",
    "    \"num_examples_per_domain_per_label_source\": 100,\n",
    "    \"num_examples_per_domain_per_label_target\": 100,\n",
    "    \"n_shot\": 3,\n",
    "    \"n_way\": 130,\n",
    "    \"n_query\": 2,\n",
    "    \"train_k_factor\": 1,\n",
    "    \"val_k_factor\": 2,\n",
    "    \"test_k_factor\": 2,\n",
    "    \"torch_default_dtype\": \"torch.float64\",\n",
    "    \"n_epoch\": 50,\n",
    "    \"patience\": 3,\n",
    "    \"criteria_for_best\": \"target_loss\",\n",
    "    \"x_net\": [\n",
    "        {\"class\": \"nnReshape\", \"kargs\": {\"shape\": [-1, 1, 2, 256]}},\n",
    "        {\n",
    "            \"class\": \"Conv2d\",\n",
    "            \"kargs\": {\n",
    "                \"in_channels\": 1,\n",
    "                \"out_channels\": 256,\n",
    "                \"kernel_size\": [1, 7],\n",
    "                \"bias\": False,\n",
    "                \"padding\": [0, 3],\n",
    "            },\n",
    "        },\n",
    "        {\"class\": \"ReLU\", \"kargs\": {\"inplace\": True}},\n",
    "        {\"class\": \"BatchNorm2d\", \"kargs\": {\"num_features\": 256}},\n",
    "        {\n",
    "            \"class\": \"Conv2d\",\n",
    "            \"kargs\": {\n",
    "                \"in_channels\": 256,\n",
    "                \"out_channels\": 80,\n",
    "                \"kernel_size\": [2, 7],\n",
    "                \"bias\": True,\n",
    "                \"padding\": [0, 3],\n",
    "            },\n",
    "        },\n",
    "        {\"class\": \"ReLU\", \"kargs\": {\"inplace\": True}},\n",
    "        {\"class\": \"BatchNorm2d\", \"kargs\": {\"num_features\": 80}},\n",
    "        {\"class\": \"Flatten\", \"kargs\": {}},\n",
    "        {\"class\": \"Linear\", \"kargs\": {\"in_features\": 20480, \"out_features\": 256}},\n",
    "        {\"class\": \"ReLU\", \"kargs\": {\"inplace\": True}},\n",
    "        {\"class\": \"BatchNorm1d\", \"kargs\": {\"num_features\": 256}},\n",
    "        {\"class\": \"Linear\", \"kargs\": {\"in_features\": 256, \"out_features\": 256}},\n",
    "    ],\n",
    "    \"NUM_LOGS_PER_EPOCH\": 10,\n",
    "    \"BEST_MODEL_PATH\": \"./best_model.pth\",\n",
    "    \"pickle_name\": \"wisig.node3-19.stratified_ds.2022A.pkl\",\n",
    "    \"domains_source\": [3],\n",
    "    \"domains_target\": [1, 2, 4],\n",
    "}\n"
   ]
  },
  {
   "cell_type": "code",
   "execution_count": 5,
   "id": "8fa1cc33",
   "metadata": {
    "execution": {
     "iopub.execute_input": "2022-03-02T13:58:16.899646Z",
     "iopub.status.busy": "2022-03-02T13:58:16.899372Z",
     "iopub.status.idle": "2022-03-02T13:58:16.912463Z",
     "shell.execute_reply": "2022-03-02T13:58:16.912669Z"
    },
    "papermill": {
     "duration": 0.026618,
     "end_time": "2022-03-02T13:58:16.912735",
     "exception": false,
     "start_time": "2022-03-02T13:58:16.886117",
     "status": "completed"
    },
    "tags": []
   },
   "outputs": [],
   "source": [
    "# Set this to True if you want to run this template directly\n",
    "STANDALONE = False\n",
    "if STANDALONE:\n",
    "    print(\"parameters not injected, running with standalone_parameters\")\n",
    "    parameters = standalone_parameters\n",
    "\n",
    "if not 'parameters' in locals() and not 'parameters' in globals():\n",
    "    raise Exception(\"Parameter injection failed\")\n",
    "\n",
    "#Use an easy dict for all the parameters\n",
    "p = EasyDict(parameters)\n",
    "\n",
    "supplied_keys = set(p.keys())\n",
    "\n",
    "if  supplied_keys != required_parameters:\n",
    "    print(\"Parameters are incorrect\")\n",
    "    if len(supplied_keys - required_parameters)>0: print(\"Shouldn't have:\", str(supplied_keys - required_parameters))\n",
    "    if len(required_parameters - supplied_keys)>0: print(\"Need to have:\", str(required_parameters - supplied_keys))\n",
    "    raise RuntimeError(\"Parameters are incorrect\")\n",
    "\n"
   ]
  },
  {
   "cell_type": "code",
   "execution_count": 6,
   "id": "3a028d58",
   "metadata": {
    "execution": {
     "iopub.execute_input": "2022-03-02T13:58:16.939979Z",
     "iopub.status.busy": "2022-03-02T13:58:16.939021Z",
     "iopub.status.idle": "2022-03-02T13:58:16.951907Z",
     "shell.execute_reply": "2022-03-02T13:58:16.951412Z"
    },
    "papermill": {
     "duration": 0.025384,
     "end_time": "2022-03-02T13:58:16.952008",
     "exception": false,
     "start_time": "2022-03-02T13:58:16.926624",
     "status": "completed"
    },
    "tags": []
   },
   "outputs": [],
   "source": [
    "###################################\n",
    "# Set the RNGs and make it all deterministic\n",
    "###################################\n",
    "np.random.seed(p.seed)\n",
    "random.seed(p.seed)\n",
    "torch.manual_seed(p.seed)\n",
    "\n",
    "torch.use_deterministic_algorithms(True) "
   ]
  },
  {
   "cell_type": "code",
   "execution_count": 7,
   "id": "b691acf6",
   "metadata": {
    "execution": {
     "iopub.execute_input": "2022-03-02T13:58:16.980590Z",
     "iopub.status.busy": "2022-03-02T13:58:16.977718Z",
     "iopub.status.idle": "2022-03-02T13:58:16.989603Z",
     "shell.execute_reply": "2022-03-02T13:58:16.989885Z"
    },
    "papermill": {
     "duration": 0.024434,
     "end_time": "2022-03-02T13:58:16.989976",
     "exception": false,
     "start_time": "2022-03-02T13:58:16.965542",
     "status": "completed"
    },
    "tags": []
   },
   "outputs": [],
   "source": [
    "###########################################\n",
    "# The stratified datasets honor this\n",
    "###########################################\n",
    "torch.set_default_dtype(eval(p.torch_default_dtype))"
   ]
  },
  {
   "cell_type": "code",
   "execution_count": 8,
   "id": "b5fba671",
   "metadata": {
    "execution": {
     "iopub.execute_input": "2022-03-02T13:58:17.024727Z",
     "iopub.status.busy": "2022-03-02T13:58:17.016536Z",
     "iopub.status.idle": "2022-03-02T13:58:17.070978Z",
     "shell.execute_reply": "2022-03-02T13:58:17.071365Z"
    },
    "papermill": {
     "duration": 0.066724,
     "end_time": "2022-03-02T13:58:17.071498",
     "exception": false,
     "start_time": "2022-03-02T13:58:17.004774",
     "status": "completed"
    },
    "tags": []
   },
   "outputs": [],
   "source": [
    "###################################\n",
    "# Build the network(s)\n",
    "# Note: It's critical to do this AFTER setting the RNG\n",
    "# (This is due to the randomized initial weights)\n",
    "###################################\n",
    "x_net = build_sequential(p.x_net)"
   ]
  },
  {
   "cell_type": "code",
   "execution_count": 9,
   "id": "5d7e61cc",
   "metadata": {
    "execution": {
     "iopub.execute_input": "2022-03-02T13:58:17.100647Z",
     "iopub.status.busy": "2022-03-02T13:58:17.098517Z",
     "iopub.status.idle": "2022-03-02T13:58:17.111822Z",
     "shell.execute_reply": "2022-03-02T13:58:17.111564Z"
    },
    "papermill": {
     "duration": 0.025954,
     "end_time": "2022-03-02T13:58:17.111873",
     "exception": false,
     "start_time": "2022-03-02T13:58:17.085919",
     "status": "completed"
    },
    "tags": []
   },
   "outputs": [],
   "source": [
    "start_time_secs = time.time()"
   ]
  },
  {
   "cell_type": "code",
   "execution_count": 10,
   "id": "fd5442bc",
   "metadata": {
    "execution": {
     "iopub.execute_input": "2022-03-02T13:58:17.140843Z",
     "iopub.status.busy": "2022-03-02T13:58:17.140577Z",
     "iopub.status.idle": "2022-03-02T13:58:17.876931Z",
     "shell.execute_reply": "2022-03-02T13:58:17.876494Z"
    },
    "papermill": {
     "duration": 0.751258,
     "end_time": "2022-03-02T13:58:17.877044",
     "exception": false,
     "start_time": "2022-03-02T13:58:17.125786",
     "status": "completed"
    },
    "tags": []
   },
   "outputs": [],
   "source": [
    "###################################\n",
    "# Build the dataset\n",
    "###################################\n",
    "\n",
    "if p.x_transforms_source == []: x_transform_source = None\n",
    "else: x_transform_source = get_chained_transform(p.x_transforms_source) \n",
    "\n",
    "if p.x_transforms_target == []: x_transform_target = None\n",
    "else: x_transform_target = get_chained_transform(p.x_transforms_target)\n",
    "\n",
    "if p.episode_transforms_source == []: episode_transform_source = None\n",
    "else: raise Exception(\"episode_transform_source not implemented\")\n",
    "\n",
    "if p.episode_transforms_target == []: episode_transform_target = None\n",
    "else: raise Exception(\"episode_transform_target not implemented\")\n",
    "\n",
    "\n",
    "eaf_source = Episodic_Accessor_Factory(\n",
    "    labels=p.labels_source,\n",
    "    domains=p.domains_source,\n",
    "    num_examples_per_domain_per_label=p.num_examples_per_domain_per_label_source,\n",
    "    iterator_seed=p.seed,\n",
    "    dataset_seed=p.dataset_seed,\n",
    "    n_shot=p.n_shot,\n",
    "    n_way=p.n_way,\n",
    "    n_query=p.n_query,\n",
    "    train_val_test_k_factors=(p.train_k_factor,p.val_k_factor,p.test_k_factor),\n",
    "    pickle_path=os.path.join(get_datasets_base_path(), p.pickle_name),\n",
    "    x_transform_func=x_transform_source,\n",
    "    example_transform_func=episode_transform_source,\n",
    "    \n",
    ")\n",
    "train_original_source, val_original_source, test_original_source = eaf_source.get_train(), eaf_source.get_val(), eaf_source.get_test()\n",
    "\n",
    "\n",
    "eaf_target = Episodic_Accessor_Factory(\n",
    "    labels=p.labels_target,\n",
    "    domains=p.domains_target,\n",
    "    num_examples_per_domain_per_label=p.num_examples_per_domain_per_label_target,\n",
    "    iterator_seed=p.seed,\n",
    "    dataset_seed=p.dataset_seed,\n",
    "    n_shot=p.n_shot,\n",
    "    n_way=p.n_way,\n",
    "    n_query=p.n_query,\n",
    "    train_val_test_k_factors=(p.train_k_factor,p.val_k_factor,p.test_k_factor),\n",
    "    pickle_path=os.path.join(get_datasets_base_path(), p.pickle_name),\n",
    "    x_transform_func=x_transform_target,\n",
    "    example_transform_func=episode_transform_target,\n",
    ")\n",
    "train_original_target, val_original_target, test_original_target = eaf_target.get_train(), eaf_target.get_val(), eaf_target.get_test()\n",
    "\n",
    "\n",
    "transform_lambda = lambda ex: ex[1] # Original is (<domain>, <episode>) so we strip down to episode only\n",
    "\n",
    "train_processed_source = Lazy_Iterable_Wrapper(train_original_source, transform_lambda)\n",
    "val_processed_source   = Lazy_Iterable_Wrapper(val_original_source, transform_lambda)\n",
    "test_processed_source  = Lazy_Iterable_Wrapper(test_original_source, transform_lambda)\n",
    "\n",
    "train_processed_target = Lazy_Iterable_Wrapper(train_original_target, transform_lambda)\n",
    "val_processed_target   = Lazy_Iterable_Wrapper(val_original_target, transform_lambda)\n",
    "test_processed_target  = Lazy_Iterable_Wrapper(test_original_target, transform_lambda)\n",
    "\n",
    "datasets = EasyDict({\n",
    "    \"source\": {\n",
    "        \"original\": {\"train\":train_original_source, \"val\":val_original_source, \"test\":test_original_source},\n",
    "        \"processed\": {\"train\":train_processed_source, \"val\":val_processed_source, \"test\":test_processed_source}\n",
    "    },\n",
    "    \"target\": {\n",
    "        \"original\": {\"train\":train_original_target, \"val\":val_original_target, \"test\":test_original_target},\n",
    "        \"processed\": {\"train\":train_processed_target, \"val\":val_processed_target, \"test\":test_processed_target}\n",
    "    },\n",
    "})"
   ]
  },
  {
   "cell_type": "code",
   "execution_count": 11,
   "id": "296189d9",
   "metadata": {
    "execution": {
     "iopub.execute_input": "2022-03-02T13:58:17.912230Z",
     "iopub.status.busy": "2022-03-02T13:58:17.907899Z",
     "iopub.status.idle": "2022-03-02T13:58:20.192851Z",
     "shell.execute_reply": "2022-03-02T13:58:20.192395Z"
    },
    "papermill": {
     "duration": 2.299789,
     "end_time": "2022-03-02T13:58:20.192956",
     "exception": false,
     "start_time": "2022-03-02T13:58:17.893167",
     "status": "completed"
    },
    "tags": []
   },
   "outputs": [
    {
     "name": "stdout",
     "output_type": "stream",
     "text": [
      "Visually inspect these to see if they line up with expected values given the transforms\n",
      "x_transforms_source []\n",
      "x_transforms_target []\n",
      "Average magnitude, source: 0.07199795071703695\n",
      "Average power, source: 0.006306497542264809\n"
     ]
    },
    {
     "name": "stdout",
     "output_type": "stream",
     "text": [
      "Average magnitude, target: 0.006358301294446141\n",
      "Average power, target: 5.045497693681136e-05\n"
     ]
    }
   ],
   "source": [
    "# Some quick unit tests on the data\n",
    "from steves_utils.transforms import get_average_power, get_average_magnitude\n",
    "\n",
    "q_x, q_y, s_x, s_y, truth = next(iter(train_processed_source))\n",
    "\n",
    "assert q_x.dtype == eval(p.torch_default_dtype)\n",
    "assert s_x.dtype == eval(p.torch_default_dtype)\n",
    "\n",
    "print(\"Visually inspect these to see if they line up with expected values given the transforms\")\n",
    "print('x_transforms_source', p.x_transforms_source)\n",
    "print('x_transforms_target', p.x_transforms_target)\n",
    "print(\"Average magnitude, source:\", get_average_magnitude(q_x[0].numpy()))\n",
    "print(\"Average power, source:\", get_average_power(q_x[0].numpy()))\n",
    "\n",
    "q_x, q_y, s_x, s_y, truth = next(iter(train_processed_target))\n",
    "print(\"Average magnitude, target:\", get_average_magnitude(q_x[0].numpy()))\n",
    "print(\"Average power, target:\", get_average_power(q_x[0].numpy()))\n"
   ]
  },
  {
   "cell_type": "code",
   "execution_count": 12,
   "id": "bbdacba1",
   "metadata": {
    "execution": {
     "iopub.execute_input": "2022-03-02T13:58:20.229047Z",
     "iopub.status.busy": "2022-03-02T13:58:20.228178Z",
     "iopub.status.idle": "2022-03-02T13:58:20.381726Z",
     "shell.execute_reply": "2022-03-02T13:58:20.381234Z"
    },
    "papermill": {
     "duration": 0.17279,
     "end_time": "2022-03-02T13:58:20.381829",
     "exception": false,
     "start_time": "2022-03-02T13:58:20.209039",
     "status": "completed"
    },
    "tags": []
   },
   "outputs": [
    {
     "name": "stdout",
     "output_type": "stream",
     "text": [
      "(2, 256)\n"
     ]
    }
   ],
   "source": [
    "###################################\n",
    "# Build the model\n",
    "###################################\n",
    "model = Steves_Prototypical_Network(x_net, device=p.device, x_shape=(2,256))\n",
    "optimizer = Adam(params=model.parameters(), lr=p.lr)"
   ]
  },
  {
   "cell_type": "code",
   "execution_count": 13,
   "id": "22b39ac5",
   "metadata": {
    "execution": {
     "iopub.execute_input": "2022-03-02T13:58:20.408932Z",
     "iopub.status.busy": "2022-03-02T13:58:20.408437Z",
     "iopub.status.idle": "2022-03-02T14:13:02.457538Z",
     "shell.execute_reply": "2022-03-02T14:13:02.457310Z"
    },
    "papermill": {
     "duration": 882.06163,
     "end_time": "2022-03-02T14:13:02.457595",
     "exception": false,
     "start_time": "2022-03-02T13:58:20.395965",
     "status": "completed"
    },
    "tags": []
   },
   "outputs": [
    {
     "name": "stdout",
     "output_type": "stream",
     "text": [
      "epoch: 1, [batch: 1 / 14], examples_per_second: 283.3100, train_label_loss: 3.5532, \n"
     ]
    },
    {
     "name": "stdout",
     "output_type": "stream",
     "text": [
      "epoch: 1, [batch: 2 / 14], examples_per_second: 365.2321, train_label_loss: 3.3990, \n"
     ]
    },
    {
     "name": "stdout",
     "output_type": "stream",
     "text": [
      "epoch: 1, [batch: 3 / 14], examples_per_second: 366.1147, train_label_loss: 3.1366, \n"
     ]
    },
    {
     "name": "stdout",
     "output_type": "stream",
     "text": [
      "epoch: 1, [batch: 4 / 14], examples_per_second: 368.0331, train_label_loss: 2.8263, \n"
     ]
    },
    {
     "name": "stdout",
     "output_type": "stream",
     "text": [
      "epoch: 1, [batch: 6 / 14], examples_per_second: 367.8316, train_label_loss: 2.8556, \n"
     ]
    },
    {
     "name": "stdout",
     "output_type": "stream",
     "text": [
      "epoch: 1, [batch: 7 / 14], examples_per_second: 367.8683, train_label_loss: 2.8571, \n"
     ]
    },
    {
     "name": "stdout",
     "output_type": "stream",
     "text": [
      "epoch: 1, [batch: 8 / 14], examples_per_second: 368.1829, train_label_loss: 2.5092, \n"
     ]
    },
    {
     "name": "stdout",
     "output_type": "stream",
     "text": [
      "epoch: 1, [batch: 10 / 14], examples_per_second: 368.1415, train_label_loss: 2.4343, \n"
     ]
    },
    {
     "name": "stdout",
     "output_type": "stream",
     "text": [
      "epoch: 1, [batch: 11 / 14], examples_per_second: 368.0874, train_label_loss: 2.1494, \n"
     ]
    },
    {
     "name": "stdout",
     "output_type": "stream",
     "text": [
      "epoch: 1, [batch: 12 / 14], examples_per_second: 367.8929, train_label_loss: 2.0789, \n"
     ]
    },
    {
     "name": "stdout",
     "output_type": "stream",
     "text": [
      "=============================================================\n",
      "epoch: 1, source_val_acc_label: 0.6564, target_val_acc_label: 0.6248, source_val_label_loss: 3.7390, target_val_label_loss: 3.8076, \n",
      "=============================================================\n"
     ]
    },
    {
     "name": "stdout",
     "output_type": "stream",
     "text": [
      "New best\n"
     ]
    },
    {
     "name": "stdout",
     "output_type": "stream",
     "text": [
      "epoch: 2, [batch: 1 / 14], examples_per_second: 68.4618, train_label_loss: 3.5648, \n"
     ]
    },
    {
     "name": "stdout",
     "output_type": "stream",
     "text": [
      "epoch: 2, [batch: 2 / 14], examples_per_second: 366.8552, train_label_loss: 3.3207, \n"
     ]
    },
    {
     "name": "stdout",
     "output_type": "stream",
     "text": [
      "epoch: 2, [batch: 3 / 14], examples_per_second: 368.5403, train_label_loss: 2.9429, \n"
     ]
    },
    {
     "name": "stdout",
     "output_type": "stream",
     "text": [
      "epoch: 2, [batch: 4 / 14], examples_per_second: 370.2973, train_label_loss: 2.7522, \n"
     ]
    },
    {
     "name": "stdout",
     "output_type": "stream",
     "text": [
      "epoch: 2, [batch: 6 / 14], examples_per_second: 370.7380, train_label_loss: 2.2650, \n"
     ]
    },
    {
     "name": "stdout",
     "output_type": "stream",
     "text": [
      "epoch: 2, [batch: 7 / 14], examples_per_second: 370.5337, train_label_loss: 2.1407, \n"
     ]
    },
    {
     "name": "stdout",
     "output_type": "stream",
     "text": [
      "epoch: 2, [batch: 8 / 14], examples_per_second: 370.4632, train_label_loss: 2.0139, \n"
     ]
    },
    {
     "name": "stdout",
     "output_type": "stream",
     "text": [
      "epoch: 2, [batch: 10 / 14], examples_per_second: 370.4233, train_label_loss: 1.8318, \n"
     ]
    },
    {
     "name": "stdout",
     "output_type": "stream",
     "text": [
      "epoch: 2, [batch: 11 / 14], examples_per_second: 370.7730, train_label_loss: 1.7324, \n"
     ]
    },
    {
     "name": "stdout",
     "output_type": "stream",
     "text": [
      "epoch: 2, [batch: 12 / 14], examples_per_second: 370.5144, train_label_loss: 2.2480, \n"
     ]
    },
    {
     "name": "stdout",
     "output_type": "stream",
     "text": [
      "=============================================================\n",
      "epoch: 2, source_val_acc_label: 0.6801, target_val_acc_label: 0.6556, source_val_label_loss: 1.9763, target_val_label_loss: 2.1228, \n",
      "=============================================================\n"
     ]
    },
    {
     "name": "stdout",
     "output_type": "stream",
     "text": [
      "New best\n"
     ]
    },
    {
     "name": "stdout",
     "output_type": "stream",
     "text": [
      "epoch: 3, [batch: 1 / 14], examples_per_second: 68.2267, train_label_loss: 1.7725, \n"
     ]
    },
    {
     "name": "stdout",
     "output_type": "stream",
     "text": [
      "epoch: 3, [batch: 2 / 14], examples_per_second: 367.6344, train_label_loss: 2.0208, \n"
     ]
    },
    {
     "name": "stdout",
     "output_type": "stream",
     "text": [
      "epoch: 3, [batch: 3 / 14], examples_per_second: 368.4142, train_label_loss: 2.1713, \n"
     ]
    },
    {
     "name": "stdout",
     "output_type": "stream",
     "text": [
      "epoch: 3, [batch: 4 / 14], examples_per_second: 370.1872, train_label_loss: 1.6219, \n"
     ]
    },
    {
     "name": "stdout",
     "output_type": "stream",
     "text": [
      "epoch: 3, [batch: 6 / 14], examples_per_second: 370.3975, train_label_loss: 1.7396, \n"
     ]
    },
    {
     "name": "stdout",
     "output_type": "stream",
     "text": [
      "epoch: 3, [batch: 7 / 14], examples_per_second: 370.7008, train_label_loss: 1.7250, \n"
     ]
    },
    {
     "name": "stdout",
     "output_type": "stream",
     "text": [
      "epoch: 3, [batch: 8 / 14], examples_per_second: 370.6881, train_label_loss: 1.3869, \n"
     ]
    },
    {
     "name": "stdout",
     "output_type": "stream",
     "text": [
      "epoch: 3, [batch: 10 / 14], examples_per_second: 370.6735, train_label_loss: 1.7561, \n"
     ]
    },
    {
     "name": "stdout",
     "output_type": "stream",
     "text": [
      "epoch: 3, [batch: 11 / 14], examples_per_second: 370.2976, train_label_loss: 1.4938, \n"
     ]
    },
    {
     "name": "stdout",
     "output_type": "stream",
     "text": [
      "epoch: 3, [batch: 12 / 14], examples_per_second: 370.1698, train_label_loss: 1.2262, \n"
     ]
    },
    {
     "name": "stdout",
     "output_type": "stream",
     "text": [
      "=============================================================\n",
      "epoch: 3, source_val_acc_label: 0.7231, target_val_acc_label: 0.7004, source_val_label_loss: 1.4887, target_val_label_loss: 1.6907, \n",
      "=============================================================\n"
     ]
    },
    {
     "name": "stdout",
     "output_type": "stream",
     "text": [
      "New best\n"
     ]
    },
    {
     "name": "stdout",
     "output_type": "stream",
     "text": [
      "epoch: 4, [batch: 1 / 14], examples_per_second: 68.2358, train_label_loss: 1.4013, \n"
     ]
    },
    {
     "name": "stdout",
     "output_type": "stream",
     "text": [
      "epoch: 4, [batch: 2 / 14], examples_per_second: 367.3045, train_label_loss: 1.5244, \n"
     ]
    },
    {
     "name": "stdout",
     "output_type": "stream",
     "text": [
      "epoch: 4, [batch: 3 / 14], examples_per_second: 368.9322, train_label_loss: 1.4294, \n"
     ]
    },
    {
     "name": "stdout",
     "output_type": "stream",
     "text": [
      "epoch: 4, [batch: 4 / 14], examples_per_second: 370.7848, train_label_loss: 1.3793, \n"
     ]
    },
    {
     "name": "stdout",
     "output_type": "stream",
     "text": [
      "epoch: 4, [batch: 6 / 14], examples_per_second: 370.8373, train_label_loss: 1.2618, \n"
     ]
    },
    {
     "name": "stdout",
     "output_type": "stream",
     "text": [
      "epoch: 4, [batch: 7 / 14], examples_per_second: 370.7030, train_label_loss: 1.2102, \n"
     ]
    },
    {
     "name": "stdout",
     "output_type": "stream",
     "text": [
      "epoch: 4, [batch: 8 / 14], examples_per_second: 370.6019, train_label_loss: 1.3756, \n"
     ]
    },
    {
     "name": "stdout",
     "output_type": "stream",
     "text": [
      "epoch: 4, [batch: 10 / 14], examples_per_second: 370.8145, train_label_loss: 1.2806, \n"
     ]
    },
    {
     "name": "stdout",
     "output_type": "stream",
     "text": [
      "epoch: 4, [batch: 11 / 14], examples_per_second: 370.4490, train_label_loss: 1.4262, \n"
     ]
    },
    {
     "name": "stdout",
     "output_type": "stream",
     "text": [
      "epoch: 4, [batch: 12 / 14], examples_per_second: 370.6102, train_label_loss: 1.3051, \n"
     ]
    },
    {
     "name": "stdout",
     "output_type": "stream",
     "text": [
      "=============================================================\n",
      "epoch: 4, source_val_acc_label: 0.7904, target_val_acc_label: 0.7415, source_val_label_loss: 1.2911, target_val_label_loss: 1.4862, \n",
      "=============================================================\n"
     ]
    },
    {
     "name": "stdout",
     "output_type": "stream",
     "text": [
      "New best\n"
     ]
    },
    {
     "name": "stdout",
     "output_type": "stream",
     "text": [
      "epoch: 5, [batch: 1 / 14], examples_per_second: 68.2973, train_label_loss: 1.0570, \n"
     ]
    },
    {
     "name": "stdout",
     "output_type": "stream",
     "text": [
      "epoch: 5, [batch: 2 / 14], examples_per_second: 367.1337, train_label_loss: 1.2597, \n"
     ]
    },
    {
     "name": "stdout",
     "output_type": "stream",
     "text": [
      "epoch: 5, [batch: 3 / 14], examples_per_second: 368.5505, train_label_loss: 1.2157, \n"
     ]
    },
    {
     "name": "stdout",
     "output_type": "stream",
     "text": [
      "epoch: 5, [batch: 4 / 14], examples_per_second: 370.4461, train_label_loss: 1.5776, \n"
     ]
    },
    {
     "name": "stdout",
     "output_type": "stream",
     "text": [
      "epoch: 5, [batch: 6 / 14], examples_per_second: 370.7722, train_label_loss: 1.2292, \n"
     ]
    },
    {
     "name": "stdout",
     "output_type": "stream",
     "text": [
      "epoch: 5, [batch: 7 / 14], examples_per_second: 370.4639, train_label_loss: 1.2573, \n"
     ]
    },
    {
     "name": "stdout",
     "output_type": "stream",
     "text": [
      "epoch: 5, [batch: 8 / 14], examples_per_second: 370.3875, train_label_loss: 1.5316, \n"
     ]
    },
    {
     "name": "stdout",
     "output_type": "stream",
     "text": [
      "epoch: 5, [batch: 10 / 14], examples_per_second: 370.5866, train_label_loss: 1.1229, \n"
     ]
    },
    {
     "name": "stdout",
     "output_type": "stream",
     "text": [
      "epoch: 5, [batch: 11 / 14], examples_per_second: 370.3527, train_label_loss: 1.0661, \n"
     ]
    },
    {
     "name": "stdout",
     "output_type": "stream",
     "text": [
      "epoch: 5, [batch: 12 / 14], examples_per_second: 370.5491, train_label_loss: 1.0445, \n"
     ]
    },
    {
     "name": "stdout",
     "output_type": "stream",
     "text": [
      "=============================================================\n",
      "epoch: 5, source_val_acc_label: 0.8167, target_val_acc_label: 0.7682, source_val_label_loss: 1.1208, target_val_label_loss: 1.3236, \n",
      "=============================================================\n"
     ]
    },
    {
     "name": "stdout",
     "output_type": "stream",
     "text": [
      "New best\n"
     ]
    },
    {
     "name": "stdout",
     "output_type": "stream",
     "text": [
      "epoch: 6, [batch: 1 / 14], examples_per_second: 68.0863, train_label_loss: 1.0132, \n"
     ]
    },
    {
     "name": "stdout",
     "output_type": "stream",
     "text": [
      "epoch: 6, [batch: 2 / 14], examples_per_second: 367.9515, train_label_loss: 0.9662, \n"
     ]
    },
    {
     "name": "stdout",
     "output_type": "stream",
     "text": [
      "epoch: 6, [batch: 3 / 14], examples_per_second: 368.8115, train_label_loss: 0.9514, \n"
     ]
    },
    {
     "name": "stdout",
     "output_type": "stream",
     "text": [
      "epoch: 6, [batch: 4 / 14], examples_per_second: 370.9464, train_label_loss: 1.0360, \n"
     ]
    },
    {
     "name": "stdout",
     "output_type": "stream",
     "text": [
      "epoch: 6, [batch: 6 / 14], examples_per_second: 370.6723, train_label_loss: 0.9718, \n"
     ]
    },
    {
     "name": "stdout",
     "output_type": "stream",
     "text": [
      "epoch: 6, [batch: 7 / 14], examples_per_second: 370.5657, train_label_loss: 0.9677, \n"
     ]
    },
    {
     "name": "stdout",
     "output_type": "stream",
     "text": [
      "epoch: 6, [batch: 8 / 14], examples_per_second: 370.4880, train_label_loss: 1.1054, \n"
     ]
    },
    {
     "name": "stdout",
     "output_type": "stream",
     "text": [
      "epoch: 6, [batch: 10 / 14], examples_per_second: 370.8307, train_label_loss: 1.3025, \n"
     ]
    },
    {
     "name": "stdout",
     "output_type": "stream",
     "text": [
      "epoch: 6, [batch: 11 / 14], examples_per_second: 370.2963, train_label_loss: 1.1307, \n"
     ]
    },
    {
     "name": "stdout",
     "output_type": "stream",
     "text": [
      "epoch: 6, [batch: 12 / 14], examples_per_second: 370.4545, train_label_loss: 0.7397, \n"
     ]
    },
    {
     "name": "stdout",
     "output_type": "stream",
     "text": [
      "=============================================================\n",
      "epoch: 6, source_val_acc_label: 0.8397, target_val_acc_label: 0.7891, source_val_label_loss: 0.9555, target_val_label_loss: 1.1869, \n",
      "=============================================================\n"
     ]
    },
    {
     "name": "stdout",
     "output_type": "stream",
     "text": [
      "New best\n"
     ]
    },
    {
     "name": "stdout",
     "output_type": "stream",
     "text": [
      "epoch: 7, [batch: 1 / 14], examples_per_second: 68.1376, train_label_loss: 0.9570, \n"
     ]
    },
    {
     "name": "stdout",
     "output_type": "stream",
     "text": [
      "epoch: 7, [batch: 2 / 14], examples_per_second: 367.8618, train_label_loss: 0.8165, \n"
     ]
    },
    {
     "name": "stdout",
     "output_type": "stream",
     "text": [
      "epoch: 7, [batch: 3 / 14], examples_per_second: 368.7843, train_label_loss: 0.8839, \n"
     ]
    },
    {
     "name": "stdout",
     "output_type": "stream",
     "text": [
      "epoch: 7, [batch: 4 / 14], examples_per_second: 370.5827, train_label_loss: 0.8381, \n"
     ]
    },
    {
     "name": "stdout",
     "output_type": "stream",
     "text": [
      "epoch: 7, [batch: 6 / 14], examples_per_second: 370.6075, train_label_loss: 0.7797, \n"
     ]
    },
    {
     "name": "stdout",
     "output_type": "stream",
     "text": [
      "epoch: 7, [batch: 7 / 14], examples_per_second: 370.6191, train_label_loss: 0.8452, \n"
     ]
    },
    {
     "name": "stdout",
     "output_type": "stream",
     "text": [
      "epoch: 7, [batch: 8 / 14], examples_per_second: 370.5724, train_label_loss: 0.7688, \n"
     ]
    },
    {
     "name": "stdout",
     "output_type": "stream",
     "text": [
      "epoch: 7, [batch: 10 / 14], examples_per_second: 370.5995, train_label_loss: 0.8329, \n"
     ]
    },
    {
     "name": "stdout",
     "output_type": "stream",
     "text": [
      "epoch: 7, [batch: 11 / 14], examples_per_second: 370.5458, train_label_loss: 0.8241, \n"
     ]
    },
    {
     "name": "stdout",
     "output_type": "stream",
     "text": [
      "epoch: 7, [batch: 12 / 14], examples_per_second: 370.5252, train_label_loss: 0.7594, \n"
     ]
    },
    {
     "name": "stdout",
     "output_type": "stream",
     "text": [
      "=============================================================\n",
      "epoch: 7, source_val_acc_label: 0.8526, target_val_acc_label: 0.8047, source_val_label_loss: 0.8831, target_val_label_loss: 1.1509, \n",
      "=============================================================\n"
     ]
    },
    {
     "name": "stdout",
     "output_type": "stream",
     "text": [
      "New best\n"
     ]
    },
    {
     "name": "stdout",
     "output_type": "stream",
     "text": [
      "epoch: 8, [batch: 1 / 14], examples_per_second: 68.1871, train_label_loss: 0.7500, \n"
     ]
    },
    {
     "name": "stdout",
     "output_type": "stream",
     "text": [
      "epoch: 8, [batch: 2 / 14], examples_per_second: 368.0652, train_label_loss: 0.8291, \n"
     ]
    },
    {
     "name": "stdout",
     "output_type": "stream",
     "text": [
      "epoch: 8, [batch: 3 / 14], examples_per_second: 368.6703, train_label_loss: 0.7666, \n"
     ]
    },
    {
     "name": "stdout",
     "output_type": "stream",
     "text": [
      "epoch: 8, [batch: 4 / 14], examples_per_second: 370.4665, train_label_loss: 0.8516, \n"
     ]
    },
    {
     "name": "stdout",
     "output_type": "stream",
     "text": [
      "epoch: 8, [batch: 6 / 14], examples_per_second: 370.3119, train_label_loss: 0.9019, \n"
     ]
    },
    {
     "name": "stdout",
     "output_type": "stream",
     "text": [
      "epoch: 8, [batch: 7 / 14], examples_per_second: 370.5402, train_label_loss: 0.8001, \n"
     ]
    },
    {
     "name": "stdout",
     "output_type": "stream",
     "text": [
      "epoch: 8, [batch: 8 / 14], examples_per_second: 370.6497, train_label_loss: 0.8482, \n"
     ]
    },
    {
     "name": "stdout",
     "output_type": "stream",
     "text": [
      "epoch: 8, [batch: 10 / 14], examples_per_second: 370.7023, train_label_loss: 0.7543, \n"
     ]
    },
    {
     "name": "stdout",
     "output_type": "stream",
     "text": [
      "epoch: 8, [batch: 11 / 14], examples_per_second: 370.3277, train_label_loss: 0.8413, \n"
     ]
    },
    {
     "name": "stdout",
     "output_type": "stream",
     "text": [
      "epoch: 8, [batch: 12 / 14], examples_per_second: 370.4772, train_label_loss: 0.8192, \n"
     ]
    },
    {
     "name": "stdout",
     "output_type": "stream",
     "text": [
      "=============================================================\n",
      "epoch: 8, source_val_acc_label: 0.8603, target_val_acc_label: 0.8028, source_val_label_loss: 0.8405, target_val_label_loss: 1.0586, \n",
      "=============================================================\n"
     ]
    },
    {
     "name": "stdout",
     "output_type": "stream",
     "text": [
      "New best\n"
     ]
    },
    {
     "name": "stdout",
     "output_type": "stream",
     "text": [
      "epoch: 9, [batch: 1 / 14], examples_per_second: 68.1942, train_label_loss: 0.7106, \n"
     ]
    },
    {
     "name": "stdout",
     "output_type": "stream",
     "text": [
      "epoch: 9, [batch: 2 / 14], examples_per_second: 367.7967, train_label_loss: 0.6193, \n"
     ]
    },
    {
     "name": "stdout",
     "output_type": "stream",
     "text": [
      "epoch: 9, [batch: 3 / 14], examples_per_second: 368.7020, train_label_loss: 0.9098, \n"
     ]
    },
    {
     "name": "stdout",
     "output_type": "stream",
     "text": [
      "epoch: 9, [batch: 4 / 14], examples_per_second: 370.6342, train_label_loss: 0.7318, \n"
     ]
    },
    {
     "name": "stdout",
     "output_type": "stream",
     "text": [
      "epoch: 9, [batch: 6 / 14], examples_per_second: 370.7311, train_label_loss: 0.6842, \n"
     ]
    },
    {
     "name": "stdout",
     "output_type": "stream",
     "text": [
      "epoch: 9, [batch: 7 / 14], examples_per_second: 370.5591, train_label_loss: 0.8425, \n"
     ]
    },
    {
     "name": "stdout",
     "output_type": "stream",
     "text": [
      "epoch: 9, [batch: 8 / 14], examples_per_second: 370.6219, train_label_loss: 0.6203, \n"
     ]
    },
    {
     "name": "stdout",
     "output_type": "stream",
     "text": [
      "epoch: 9, [batch: 10 / 14], examples_per_second: 370.7166, train_label_loss: 0.7254, \n"
     ]
    },
    {
     "name": "stdout",
     "output_type": "stream",
     "text": [
      "epoch: 9, [batch: 11 / 14], examples_per_second: 370.5432, train_label_loss: 0.6406, \n"
     ]
    },
    {
     "name": "stdout",
     "output_type": "stream",
     "text": [
      "epoch: 9, [batch: 12 / 14], examples_per_second: 370.5376, train_label_loss: 0.8053, \n"
     ]
    },
    {
     "name": "stdout",
     "output_type": "stream",
     "text": [
      "=============================================================\n",
      "epoch: 9, source_val_acc_label: 0.8641, target_val_acc_label: 0.8064, source_val_label_loss: 0.8025, target_val_label_loss: 1.0529, \n",
      "=============================================================\n"
     ]
    },
    {
     "name": "stdout",
     "output_type": "stream",
     "text": [
      "New best\n"
     ]
    },
    {
     "name": "stdout",
     "output_type": "stream",
     "text": [
      "epoch: 10, [batch: 1 / 14], examples_per_second: 68.1745, train_label_loss: 0.6537, \n"
     ]
    },
    {
     "name": "stdout",
     "output_type": "stream",
     "text": [
      "epoch: 10, [batch: 2 / 14], examples_per_second: 367.6854, train_label_loss: 0.6217, \n"
     ]
    },
    {
     "name": "stdout",
     "output_type": "stream",
     "text": [
      "epoch: 10, [batch: 3 / 14], examples_per_second: 368.7239, train_label_loss: 0.5578, \n"
     ]
    },
    {
     "name": "stdout",
     "output_type": "stream",
     "text": [
      "epoch: 10, [batch: 4 / 14], examples_per_second: 370.1465, train_label_loss: 1.3248, \n"
     ]
    },
    {
     "name": "stdout",
     "output_type": "stream",
     "text": [
      "epoch: 10, [batch: 6 / 14], examples_per_second: 370.5547, train_label_loss: 0.6395, \n"
     ]
    },
    {
     "name": "stdout",
     "output_type": "stream",
     "text": [
      "epoch: 10, [batch: 7 / 14], examples_per_second: 370.6369, train_label_loss: 0.5900, \n"
     ]
    },
    {
     "name": "stdout",
     "output_type": "stream",
     "text": [
      "epoch: 10, [batch: 8 / 14], examples_per_second: 370.5672, train_label_loss: 0.4894, \n"
     ]
    },
    {
     "name": "stdout",
     "output_type": "stream",
     "text": [
      "epoch: 10, [batch: 10 / 14], examples_per_second: 370.7830, train_label_loss: 0.7073, \n"
     ]
    },
    {
     "name": "stdout",
     "output_type": "stream",
     "text": [
      "epoch: 10, [batch: 11 / 14], examples_per_second: 370.6644, train_label_loss: 0.5153, \n"
     ]
    },
    {
     "name": "stdout",
     "output_type": "stream",
     "text": [
      "epoch: 10, [batch: 12 / 14], examples_per_second: 370.4487, train_label_loss: 0.7379, \n"
     ]
    },
    {
     "name": "stdout",
     "output_type": "stream",
     "text": [
      "=============================================================\n",
      "epoch: 10, source_val_acc_label: 0.8776, target_val_acc_label: 0.8218, source_val_label_loss: 0.7245, target_val_label_loss: 0.9936, \n",
      "=============================================================\n"
     ]
    },
    {
     "name": "stdout",
     "output_type": "stream",
     "text": [
      "New best\n"
     ]
    },
    {
     "name": "stdout",
     "output_type": "stream",
     "text": [
      "epoch: 11, [batch: 1 / 14], examples_per_second: 68.3257, train_label_loss: 0.6143, \n"
     ]
    },
    {
     "name": "stdout",
     "output_type": "stream",
     "text": [
      "epoch: 11, [batch: 2 / 14], examples_per_second: 367.9619, train_label_loss: 0.5865, \n"
     ]
    },
    {
     "name": "stdout",
     "output_type": "stream",
     "text": [
      "epoch: 11, [batch: 3 / 14], examples_per_second: 368.7033, train_label_loss: 0.6832, \n"
     ]
    },
    {
     "name": "stdout",
     "output_type": "stream",
     "text": [
      "epoch: 11, [batch: 4 / 14], examples_per_second: 370.4623, train_label_loss: 0.5611, \n"
     ]
    },
    {
     "name": "stdout",
     "output_type": "stream",
     "text": [
      "epoch: 11, [batch: 6 / 14], examples_per_second: 370.5214, train_label_loss: 0.6387, \n"
     ]
    },
    {
     "name": "stdout",
     "output_type": "stream",
     "text": [
      "epoch: 11, [batch: 7 / 14], examples_per_second: 370.8408, train_label_loss: 0.7934, \n"
     ]
    },
    {
     "name": "stdout",
     "output_type": "stream",
     "text": [
      "epoch: 11, [batch: 8 / 14], examples_per_second: 370.1392, train_label_loss: 0.5663, \n"
     ]
    },
    {
     "name": "stdout",
     "output_type": "stream",
     "text": [
      "epoch: 11, [batch: 10 / 14], examples_per_second: 370.5889, train_label_loss: 0.6856, \n"
     ]
    },
    {
     "name": "stdout",
     "output_type": "stream",
     "text": [
      "epoch: 11, [batch: 11 / 14], examples_per_second: 370.7351, train_label_loss: 0.7296, \n"
     ]
    },
    {
     "name": "stdout",
     "output_type": "stream",
     "text": [
      "epoch: 11, [batch: 12 / 14], examples_per_second: 370.4768, train_label_loss: 0.5299, \n"
     ]
    },
    {
     "name": "stdout",
     "output_type": "stream",
     "text": [
      "=============================================================\n",
      "epoch: 11, source_val_acc_label: 0.8814, target_val_acc_label: 0.8190, source_val_label_loss: 0.6851, target_val_label_loss: 0.9633, \n",
      "=============================================================\n"
     ]
    },
    {
     "name": "stdout",
     "output_type": "stream",
     "text": [
      "New best\n"
     ]
    },
    {
     "name": "stdout",
     "output_type": "stream",
     "text": [
      "epoch: 12, [batch: 1 / 14], examples_per_second: 68.2797, train_label_loss: 0.7839, \n"
     ]
    },
    {
     "name": "stdout",
     "output_type": "stream",
     "text": [
      "epoch: 12, [batch: 2 / 14], examples_per_second: 367.4325, train_label_loss: 0.5127, \n"
     ]
    },
    {
     "name": "stdout",
     "output_type": "stream",
     "text": [
      "epoch: 12, [batch: 3 / 14], examples_per_second: 368.5885, train_label_loss: 0.4452, \n"
     ]
    },
    {
     "name": "stdout",
     "output_type": "stream",
     "text": [
      "epoch: 12, [batch: 4 / 14], examples_per_second: 370.5936, train_label_loss: 0.6004, \n"
     ]
    },
    {
     "name": "stdout",
     "output_type": "stream",
     "text": [
      "epoch: 12, [batch: 6 / 14], examples_per_second: 370.7842, train_label_loss: 0.5162, \n"
     ]
    },
    {
     "name": "stdout",
     "output_type": "stream",
     "text": [
      "epoch: 12, [batch: 7 / 14], examples_per_second: 370.8805, train_label_loss: 0.6472, \n"
     ]
    },
    {
     "name": "stdout",
     "output_type": "stream",
     "text": [
      "epoch: 12, [batch: 8 / 14], examples_per_second: 370.5850, train_label_loss: 0.5204, \n"
     ]
    },
    {
     "name": "stdout",
     "output_type": "stream",
     "text": [
      "epoch: 12, [batch: 10 / 14], examples_per_second: 370.5591, train_label_loss: 0.5405, \n"
     ]
    },
    {
     "name": "stdout",
     "output_type": "stream",
     "text": [
      "epoch: 12, [batch: 11 / 14], examples_per_second: 370.6470, train_label_loss: 0.5986, \n"
     ]
    },
    {
     "name": "stdout",
     "output_type": "stream",
     "text": [
      "epoch: 12, [batch: 12 / 14], examples_per_second: 370.7155, train_label_loss: 0.4522, \n"
     ]
    },
    {
     "name": "stdout",
     "output_type": "stream",
     "text": [
      "=============================================================\n",
      "epoch: 12, source_val_acc_label: 0.8853, target_val_acc_label: 0.8259, source_val_label_loss: 0.6618, target_val_label_loss: 0.9614, \n",
      "=============================================================\n"
     ]
    },
    {
     "name": "stdout",
     "output_type": "stream",
     "text": [
      "New best\n"
     ]
    },
    {
     "name": "stdout",
     "output_type": "stream",
     "text": [
      "epoch: 13, [batch: 1 / 14], examples_per_second: 68.3675, train_label_loss: 0.5861, \n"
     ]
    },
    {
     "name": "stdout",
     "output_type": "stream",
     "text": [
      "epoch: 13, [batch: 2 / 14], examples_per_second: 367.7233, train_label_loss: 0.6808, \n"
     ]
    },
    {
     "name": "stdout",
     "output_type": "stream",
     "text": [
      "epoch: 13, [batch: 3 / 14], examples_per_second: 368.7582, train_label_loss: 0.5149, \n"
     ]
    },
    {
     "name": "stdout",
     "output_type": "stream",
     "text": [
      "epoch: 13, [batch: 4 / 14], examples_per_second: 370.7623, train_label_loss: 0.4728, \n"
     ]
    },
    {
     "name": "stdout",
     "output_type": "stream",
     "text": [
      "epoch: 13, [batch: 6 / 14], examples_per_second: 370.6201, train_label_loss: 0.5411, \n"
     ]
    },
    {
     "name": "stdout",
     "output_type": "stream",
     "text": [
      "epoch: 13, [batch: 7 / 14], examples_per_second: 370.3873, train_label_loss: 0.3865, \n"
     ]
    },
    {
     "name": "stdout",
     "output_type": "stream",
     "text": [
      "epoch: 13, [batch: 8 / 14], examples_per_second: 370.6503, train_label_loss: 0.5839, \n"
     ]
    },
    {
     "name": "stdout",
     "output_type": "stream",
     "text": [
      "epoch: 13, [batch: 10 / 14], examples_per_second: 370.5878, train_label_loss: 0.3134, \n"
     ]
    },
    {
     "name": "stdout",
     "output_type": "stream",
     "text": [
      "epoch: 13, [batch: 11 / 14], examples_per_second: 370.2738, train_label_loss: 0.5776, \n"
     ]
    },
    {
     "name": "stdout",
     "output_type": "stream",
     "text": [
      "epoch: 13, [batch: 12 / 14], examples_per_second: 370.7947, train_label_loss: 0.5874, \n"
     ]
    },
    {
     "name": "stdout",
     "output_type": "stream",
     "text": [
      "=============================================================\n",
      "epoch: 13, source_val_acc_label: 0.8917, target_val_acc_label: 0.8327, source_val_label_loss: 0.6381, target_val_label_loss: 0.9471, \n",
      "=============================================================\n"
     ]
    },
    {
     "name": "stdout",
     "output_type": "stream",
     "text": [
      "New best\n"
     ]
    },
    {
     "name": "stdout",
     "output_type": "stream",
     "text": [
      "epoch: 14, [batch: 1 / 14], examples_per_second: 68.1751, train_label_loss: 0.5344, \n"
     ]
    },
    {
     "name": "stdout",
     "output_type": "stream",
     "text": [
      "epoch: 14, [batch: 2 / 14], examples_per_second: 367.7646, train_label_loss: 0.6934, \n"
     ]
    },
    {
     "name": "stdout",
     "output_type": "stream",
     "text": [
      "epoch: 14, [batch: 3 / 14], examples_per_second: 368.7824, train_label_loss: 0.4486, \n"
     ]
    },
    {
     "name": "stdout",
     "output_type": "stream",
     "text": [
      "epoch: 14, [batch: 4 / 14], examples_per_second: 370.2961, train_label_loss: 0.6005, \n"
     ]
    },
    {
     "name": "stdout",
     "output_type": "stream",
     "text": [
      "epoch: 14, [batch: 6 / 14], examples_per_second: 370.9202, train_label_loss: 0.7378, \n"
     ]
    },
    {
     "name": "stdout",
     "output_type": "stream",
     "text": [
      "epoch: 14, [batch: 7 / 14], examples_per_second: 371.0190, train_label_loss: 0.4585, \n"
     ]
    },
    {
     "name": "stdout",
     "output_type": "stream",
     "text": [
      "epoch: 14, [batch: 8 / 14], examples_per_second: 370.4429, train_label_loss: 0.4824, \n"
     ]
    },
    {
     "name": "stdout",
     "output_type": "stream",
     "text": [
      "epoch: 14, [batch: 10 / 14], examples_per_second: 370.6272, train_label_loss: 0.5775, \n"
     ]
    },
    {
     "name": "stdout",
     "output_type": "stream",
     "text": [
      "epoch: 14, [batch: 11 / 14], examples_per_second: 370.4361, train_label_loss: 0.4236, \n"
     ]
    },
    {
     "name": "stdout",
     "output_type": "stream",
     "text": [
      "epoch: 14, [batch: 12 / 14], examples_per_second: 370.6803, train_label_loss: 0.4852, \n"
     ]
    },
    {
     "name": "stdout",
     "output_type": "stream",
     "text": [
      "=============================================================\n",
      "epoch: 14, source_val_acc_label: 0.8994, target_val_acc_label: 0.8312, source_val_label_loss: 0.5987, target_val_label_loss: 0.9074, \n",
      "=============================================================\n"
     ]
    },
    {
     "name": "stdout",
     "output_type": "stream",
     "text": [
      "New best\n"
     ]
    },
    {
     "name": "stdout",
     "output_type": "stream",
     "text": [
      "epoch: 15, [batch: 1 / 14], examples_per_second: 68.1740, train_label_loss: 0.6759, \n"
     ]
    },
    {
     "name": "stdout",
     "output_type": "stream",
     "text": [
      "epoch: 15, [batch: 2 / 14], examples_per_second: 367.8943, train_label_loss: 0.4140, \n"
     ]
    },
    {
     "name": "stdout",
     "output_type": "stream",
     "text": [
      "epoch: 15, [batch: 3 / 14], examples_per_second: 369.0605, train_label_loss: 0.3303, \n"
     ]
    },
    {
     "name": "stdout",
     "output_type": "stream",
     "text": [
      "epoch: 15, [batch: 4 / 14], examples_per_second: 370.4606, train_label_loss: 0.5011, \n"
     ]
    },
    {
     "name": "stdout",
     "output_type": "stream",
     "text": [
      "epoch: 15, [batch: 6 / 14], examples_per_second: 370.8570, train_label_loss: 0.3530, \n"
     ]
    },
    {
     "name": "stdout",
     "output_type": "stream",
     "text": [
      "epoch: 15, [batch: 7 / 14], examples_per_second: 370.6472, train_label_loss: 0.4214, \n"
     ]
    },
    {
     "name": "stdout",
     "output_type": "stream",
     "text": [
      "epoch: 15, [batch: 8 / 14], examples_per_second: 370.7042, train_label_loss: 0.6128, \n"
     ]
    },
    {
     "name": "stdout",
     "output_type": "stream",
     "text": [
      "epoch: 15, [batch: 10 / 14], examples_per_second: 370.6430, train_label_loss: 0.5797, \n"
     ]
    },
    {
     "name": "stdout",
     "output_type": "stream",
     "text": [
      "epoch: 15, [batch: 11 / 14], examples_per_second: 370.5375, train_label_loss: 0.4116, \n"
     ]
    },
    {
     "name": "stdout",
     "output_type": "stream",
     "text": [
      "epoch: 15, [batch: 12 / 14], examples_per_second: 370.6148, train_label_loss: 0.5100, \n"
     ]
    },
    {
     "name": "stdout",
     "output_type": "stream",
     "text": [
      "=============================================================\n",
      "epoch: 15, source_val_acc_label: 0.9045, target_val_acc_label: 0.8368, source_val_label_loss: 0.6085, target_val_label_loss: 0.8971, \n",
      "=============================================================\n"
     ]
    },
    {
     "name": "stdout",
     "output_type": "stream",
     "text": [
      "New best\n"
     ]
    },
    {
     "name": "stdout",
     "output_type": "stream",
     "text": [
      "epoch: 16, [batch: 1 / 14], examples_per_second: 68.1226, train_label_loss: 0.5669, \n"
     ]
    },
    {
     "name": "stdout",
     "output_type": "stream",
     "text": [
      "epoch: 16, [batch: 2 / 14], examples_per_second: 367.5500, train_label_loss: 0.6372, \n"
     ]
    },
    {
     "name": "stdout",
     "output_type": "stream",
     "text": [
      "epoch: 16, [batch: 3 / 14], examples_per_second: 368.6572, train_label_loss: 0.4327, \n"
     ]
    },
    {
     "name": "stdout",
     "output_type": "stream",
     "text": [
      "epoch: 16, [batch: 4 / 14], examples_per_second: 370.5888, train_label_loss: 0.5164, \n"
     ]
    },
    {
     "name": "stdout",
     "output_type": "stream",
     "text": [
      "epoch: 16, [batch: 6 / 14], examples_per_second: 370.4084, train_label_loss: 0.5054, \n"
     ]
    },
    {
     "name": "stdout",
     "output_type": "stream",
     "text": [
      "epoch: 16, [batch: 7 / 14], examples_per_second: 370.4437, train_label_loss: 0.6659, \n"
     ]
    },
    {
     "name": "stdout",
     "output_type": "stream",
     "text": [
      "epoch: 16, [batch: 8 / 14], examples_per_second: 370.8201, train_label_loss: 0.5793, \n"
     ]
    },
    {
     "name": "stdout",
     "output_type": "stream",
     "text": [
      "epoch: 16, [batch: 10 / 14], examples_per_second: 370.7474, train_label_loss: 0.5797, \n"
     ]
    },
    {
     "name": "stdout",
     "output_type": "stream",
     "text": [
      "epoch: 16, [batch: 11 / 14], examples_per_second: 370.7841, train_label_loss: 0.4325, \n"
     ]
    },
    {
     "name": "stdout",
     "output_type": "stream",
     "text": [
      "epoch: 16, [batch: 12 / 14], examples_per_second: 370.4161, train_label_loss: 0.4767, \n"
     ]
    },
    {
     "name": "stdout",
     "output_type": "stream",
     "text": [
      "=============================================================\n",
      "epoch: 16, source_val_acc_label: 0.9026, target_val_acc_label: 0.8408, source_val_label_loss: 0.5842, target_val_label_loss: 0.8608, \n",
      "=============================================================\n"
     ]
    },
    {
     "name": "stdout",
     "output_type": "stream",
     "text": [
      "New best\n"
     ]
    },
    {
     "name": "stdout",
     "output_type": "stream",
     "text": [
      "epoch: 17, [batch: 1 / 14], examples_per_second: 68.2574, train_label_loss: 0.4266, \n"
     ]
    },
    {
     "name": "stdout",
     "output_type": "stream",
     "text": [
      "epoch: 17, [batch: 2 / 14], examples_per_second: 367.5442, train_label_loss: 0.5021, \n"
     ]
    },
    {
     "name": "stdout",
     "output_type": "stream",
     "text": [
      "epoch: 17, [batch: 3 / 14], examples_per_second: 368.9083, train_label_loss: 0.4293, \n"
     ]
    },
    {
     "name": "stdout",
     "output_type": "stream",
     "text": [
      "epoch: 17, [batch: 4 / 14], examples_per_second: 370.3835, train_label_loss: 0.4411, \n"
     ]
    },
    {
     "name": "stdout",
     "output_type": "stream",
     "text": [
      "epoch: 17, [batch: 6 / 14], examples_per_second: 370.4883, train_label_loss: 0.3280, \n"
     ]
    },
    {
     "name": "stdout",
     "output_type": "stream",
     "text": [
      "epoch: 17, [batch: 7 / 14], examples_per_second: 370.6689, train_label_loss: 0.2828, \n"
     ]
    },
    {
     "name": "stdout",
     "output_type": "stream",
     "text": [
      "epoch: 17, [batch: 8 / 14], examples_per_second: 370.3518, train_label_loss: 0.7520, \n"
     ]
    },
    {
     "name": "stdout",
     "output_type": "stream",
     "text": [
      "epoch: 17, [batch: 10 / 14], examples_per_second: 370.4794, train_label_loss: 0.4192, \n"
     ]
    },
    {
     "name": "stdout",
     "output_type": "stream",
     "text": [
      "epoch: 17, [batch: 11 / 14], examples_per_second: 370.5591, train_label_loss: 0.3085, \n"
     ]
    },
    {
     "name": "stdout",
     "output_type": "stream",
     "text": [
      "epoch: 17, [batch: 12 / 14], examples_per_second: 370.2696, train_label_loss: 0.5366, \n"
     ]
    },
    {
     "name": "stdout",
     "output_type": "stream",
     "text": [
      "=============================================================\n",
      "epoch: 17, source_val_acc_label: 0.9090, target_val_acc_label: 0.8415, source_val_label_loss: 0.5461, target_val_label_loss: 0.8478, \n",
      "=============================================================\n"
     ]
    },
    {
     "name": "stdout",
     "output_type": "stream",
     "text": [
      "New best\n"
     ]
    },
    {
     "name": "stdout",
     "output_type": "stream",
     "text": [
      "epoch: 18, [batch: 1 / 14], examples_per_second: 68.2271, train_label_loss: 0.3286, \n"
     ]
    },
    {
     "name": "stdout",
     "output_type": "stream",
     "text": [
      "epoch: 18, [batch: 2 / 14], examples_per_second: 367.7622, train_label_loss: 0.4314, \n"
     ]
    },
    {
     "name": "stdout",
     "output_type": "stream",
     "text": [
      "epoch: 18, [batch: 3 / 14], examples_per_second: 368.5938, train_label_loss: 0.3696, \n"
     ]
    },
    {
     "name": "stdout",
     "output_type": "stream",
     "text": [
      "epoch: 18, [batch: 4 / 14], examples_per_second: 370.6661, train_label_loss: 0.4396, \n"
     ]
    },
    {
     "name": "stdout",
     "output_type": "stream",
     "text": [
      "epoch: 18, [batch: 6 / 14], examples_per_second: 370.7809, train_label_loss: 0.3973, \n"
     ]
    },
    {
     "name": "stdout",
     "output_type": "stream",
     "text": [
      "epoch: 18, [batch: 7 / 14], examples_per_second: 370.5068, train_label_loss: 0.6510, \n"
     ]
    },
    {
     "name": "stdout",
     "output_type": "stream",
     "text": [
      "epoch: 18, [batch: 8 / 14], examples_per_second: 370.6945, train_label_loss: 0.3030, \n"
     ]
    },
    {
     "name": "stdout",
     "output_type": "stream",
     "text": [
      "epoch: 18, [batch: 10 / 14], examples_per_second: 370.7246, train_label_loss: 0.4093, \n"
     ]
    },
    {
     "name": "stdout",
     "output_type": "stream",
     "text": [
      "epoch: 18, [batch: 11 / 14], examples_per_second: 370.4684, train_label_loss: 0.4783, \n"
     ]
    },
    {
     "name": "stdout",
     "output_type": "stream",
     "text": [
      "epoch: 18, [batch: 12 / 14], examples_per_second: 370.3215, train_label_loss: 0.4476, \n"
     ]
    },
    {
     "name": "stdout",
     "output_type": "stream",
     "text": [
      "=============================================================\n",
      "epoch: 18, source_val_acc_label: 0.9045, target_val_acc_label: 0.8423, source_val_label_loss: 0.5755, target_val_label_loss: 0.8513, \n",
      "=============================================================\n"
     ]
    },
    {
     "name": "stdout",
     "output_type": "stream",
     "text": [
      "epoch: 19, [batch: 1 / 14], examples_per_second: 68.7158, train_label_loss: 0.4940, \n"
     ]
    },
    {
     "name": "stdout",
     "output_type": "stream",
     "text": [
      "epoch: 19, [batch: 2 / 14], examples_per_second: 367.8213, train_label_loss: 0.4475, \n"
     ]
    },
    {
     "name": "stdout",
     "output_type": "stream",
     "text": [
      "epoch: 19, [batch: 3 / 14], examples_per_second: 367.8759, train_label_loss: 0.3910, \n"
     ]
    },
    {
     "name": "stdout",
     "output_type": "stream",
     "text": [
      "epoch: 19, [batch: 4 / 14], examples_per_second: 370.0526, train_label_loss: 0.4119, \n"
     ]
    },
    {
     "name": "stdout",
     "output_type": "stream",
     "text": [
      "epoch: 19, [batch: 6 / 14], examples_per_second: 370.5678, train_label_loss: 0.4320, \n"
     ]
    },
    {
     "name": "stdout",
     "output_type": "stream",
     "text": [
      "epoch: 19, [batch: 7 / 14], examples_per_second: 370.5055, train_label_loss: 0.4334, \n"
     ]
    },
    {
     "name": "stdout",
     "output_type": "stream",
     "text": [
      "epoch: 19, [batch: 8 / 14], examples_per_second: 370.4868, train_label_loss: 0.2867, \n"
     ]
    },
    {
     "name": "stdout",
     "output_type": "stream",
     "text": [
      "epoch: 19, [batch: 10 / 14], examples_per_second: 370.4779, train_label_loss: 0.3137, \n"
     ]
    },
    {
     "name": "stdout",
     "output_type": "stream",
     "text": [
      "epoch: 19, [batch: 11 / 14], examples_per_second: 370.4357, train_label_loss: 0.5151, \n"
     ]
    },
    {
     "name": "stdout",
     "output_type": "stream",
     "text": [
      "epoch: 19, [batch: 12 / 14], examples_per_second: 370.7503, train_label_loss: 0.3223, \n"
     ]
    },
    {
     "name": "stdout",
     "output_type": "stream",
     "text": [
      "=============================================================\n",
      "epoch: 19, source_val_acc_label: 0.9109, target_val_acc_label: 0.8470, source_val_label_loss: 0.5408, target_val_label_loss: 0.8197, \n",
      "=============================================================\n"
     ]
    },
    {
     "name": "stdout",
     "output_type": "stream",
     "text": [
      "New best\n"
     ]
    },
    {
     "name": "stdout",
     "output_type": "stream",
     "text": [
      "epoch: 20, [batch: 1 / 14], examples_per_second: 68.1659, train_label_loss: 0.3715, \n"
     ]
    },
    {
     "name": "stdout",
     "output_type": "stream",
     "text": [
      "epoch: 20, [batch: 2 / 14], examples_per_second: 367.3014, train_label_loss: 0.4133, \n"
     ]
    },
    {
     "name": "stdout",
     "output_type": "stream",
     "text": [
      "epoch: 20, [batch: 3 / 14], examples_per_second: 368.6898, train_label_loss: 0.4404, \n"
     ]
    },
    {
     "name": "stdout",
     "output_type": "stream",
     "text": [
      "epoch: 20, [batch: 4 / 14], examples_per_second: 370.4235, train_label_loss: 0.5275, \n"
     ]
    },
    {
     "name": "stdout",
     "output_type": "stream",
     "text": [
      "epoch: 20, [batch: 6 / 14], examples_per_second: 370.6147, train_label_loss: 0.4062, \n"
     ]
    },
    {
     "name": "stdout",
     "output_type": "stream",
     "text": [
      "epoch: 20, [batch: 7 / 14], examples_per_second: 370.8103, train_label_loss: 0.3687, \n"
     ]
    },
    {
     "name": "stdout",
     "output_type": "stream",
     "text": [
      "epoch: 20, [batch: 8 / 14], examples_per_second: 370.2824, train_label_loss: 0.5773, \n"
     ]
    },
    {
     "name": "stdout",
     "output_type": "stream",
     "text": [
      "epoch: 20, [batch: 10 / 14], examples_per_second: 370.4281, train_label_loss: 0.3139, \n"
     ]
    },
    {
     "name": "stdout",
     "output_type": "stream",
     "text": [
      "epoch: 20, [batch: 11 / 14], examples_per_second: 370.4090, train_label_loss: 0.5900, \n"
     ]
    },
    {
     "name": "stdout",
     "output_type": "stream",
     "text": [
      "epoch: 20, [batch: 12 / 14], examples_per_second: 370.3027, train_label_loss: 0.3966, \n"
     ]
    },
    {
     "name": "stdout",
     "output_type": "stream",
     "text": [
      "=============================================================\n",
      "epoch: 20, source_val_acc_label: 0.9006, target_val_acc_label: 0.8359, source_val_label_loss: 0.5782, target_val_label_loss: 0.8995, \n",
      "=============================================================\n"
     ]
    },
    {
     "name": "stdout",
     "output_type": "stream",
     "text": [
      "epoch: 21, [batch: 1 / 14], examples_per_second: 68.8230, train_label_loss: 0.3709, \n"
     ]
    },
    {
     "name": "stdout",
     "output_type": "stream",
     "text": [
      "epoch: 21, [batch: 2 / 14], examples_per_second: 367.7541, train_label_loss: 0.5871, \n"
     ]
    },
    {
     "name": "stdout",
     "output_type": "stream",
     "text": [
      "epoch: 21, [batch: 3 / 14], examples_per_second: 368.7917, train_label_loss: 0.2930, \n"
     ]
    },
    {
     "name": "stdout",
     "output_type": "stream",
     "text": [
      "epoch: 21, [batch: 4 / 14], examples_per_second: 370.4284, train_label_loss: 0.4725, \n"
     ]
    },
    {
     "name": "stdout",
     "output_type": "stream",
     "text": [
      "epoch: 21, [batch: 6 / 14], examples_per_second: 370.3761, train_label_loss: 0.4882, \n"
     ]
    },
    {
     "name": "stdout",
     "output_type": "stream",
     "text": [
      "epoch: 21, [batch: 7 / 14], examples_per_second: 370.5976, train_label_loss: 0.5756, \n"
     ]
    },
    {
     "name": "stdout",
     "output_type": "stream",
     "text": [
      "epoch: 21, [batch: 8 / 14], examples_per_second: 370.4504, train_label_loss: 0.3351, \n"
     ]
    },
    {
     "name": "stdout",
     "output_type": "stream",
     "text": [
      "epoch: 21, [batch: 10 / 14], examples_per_second: 370.5737, train_label_loss: 0.4474, \n"
     ]
    },
    {
     "name": "stdout",
     "output_type": "stream",
     "text": [
      "epoch: 21, [batch: 11 / 14], examples_per_second: 370.3640, train_label_loss: 0.4471, \n"
     ]
    },
    {
     "name": "stdout",
     "output_type": "stream",
     "text": [
      "epoch: 21, [batch: 12 / 14], examples_per_second: 370.4751, train_label_loss: 0.3938, \n"
     ]
    },
    {
     "name": "stdout",
     "output_type": "stream",
     "text": [
      "=============================================================\n",
      "epoch: 21, source_val_acc_label: 0.9032, target_val_acc_label: 0.8365, source_val_label_loss: 0.5593, target_val_label_loss: 0.8556, \n",
      "=============================================================\n"
     ]
    },
    {
     "name": "stdout",
     "output_type": "stream",
     "text": [
      "epoch: 22, [batch: 1 / 14], examples_per_second: 68.6218, train_label_loss: 0.3668, \n"
     ]
    },
    {
     "name": "stdout",
     "output_type": "stream",
     "text": [
      "epoch: 22, [batch: 2 / 14], examples_per_second: 367.6000, train_label_loss: 0.4587, \n"
     ]
    },
    {
     "name": "stdout",
     "output_type": "stream",
     "text": [
      "epoch: 22, [batch: 3 / 14], examples_per_second: 368.6812, train_label_loss: 0.4337, \n"
     ]
    },
    {
     "name": "stdout",
     "output_type": "stream",
     "text": [
      "epoch: 22, [batch: 4 / 14], examples_per_second: 370.6108, train_label_loss: 0.4693, \n"
     ]
    },
    {
     "name": "stdout",
     "output_type": "stream",
     "text": [
      "epoch: 22, [batch: 6 / 14], examples_per_second: 370.5297, train_label_loss: 0.4068, \n"
     ]
    },
    {
     "name": "stdout",
     "output_type": "stream",
     "text": [
      "epoch: 22, [batch: 7 / 14], examples_per_second: 370.2665, train_label_loss: 0.4146, \n"
     ]
    },
    {
     "name": "stdout",
     "output_type": "stream",
     "text": [
      "epoch: 22, [batch: 8 / 14], examples_per_second: 370.5786, train_label_loss: 0.4823, \n"
     ]
    },
    {
     "name": "stdout",
     "output_type": "stream",
     "text": [
      "epoch: 22, [batch: 10 / 14], examples_per_second: 370.5382, train_label_loss: 0.5255, \n"
     ]
    },
    {
     "name": "stdout",
     "output_type": "stream",
     "text": [
      "epoch: 22, [batch: 11 / 14], examples_per_second: 370.7429, train_label_loss: 0.3184, \n"
     ]
    },
    {
     "name": "stdout",
     "output_type": "stream",
     "text": [
      "epoch: 22, [batch: 12 / 14], examples_per_second: 370.6193, train_label_loss: 0.5299, \n"
     ]
    },
    {
     "name": "stdout",
     "output_type": "stream",
     "text": [
      "=============================================================\n",
      "epoch: 22, source_val_acc_label: 0.9096, target_val_acc_label: 0.8436, source_val_label_loss: 0.5429, target_val_label_loss: 0.8740, \n",
      "=============================================================\n"
     ]
    },
    {
     "name": "stdout",
     "output_type": "stream",
     "text": [
      "epoch: 23, [batch: 1 / 14], examples_per_second: 68.7722, train_label_loss: 0.4570, \n"
     ]
    },
    {
     "name": "stdout",
     "output_type": "stream",
     "text": [
      "epoch: 23, [batch: 2 / 14], examples_per_second: 367.7419, train_label_loss: 0.4421, \n"
     ]
    },
    {
     "name": "stdout",
     "output_type": "stream",
     "text": [
      "epoch: 23, [batch: 3 / 14], examples_per_second: 368.7847, train_label_loss: 0.4342, \n"
     ]
    },
    {
     "name": "stdout",
     "output_type": "stream",
     "text": [
      "epoch: 23, [batch: 4 / 14], examples_per_second: 370.8607, train_label_loss: 0.5099, \n"
     ]
    },
    {
     "name": "stdout",
     "output_type": "stream",
     "text": [
      "epoch: 23, [batch: 6 / 14], examples_per_second: 370.8403, train_label_loss: 0.3574, \n"
     ]
    },
    {
     "name": "stdout",
     "output_type": "stream",
     "text": [
      "epoch: 23, [batch: 7 / 14], examples_per_second: 370.6575, train_label_loss: 0.4231, \n"
     ]
    },
    {
     "name": "stdout",
     "output_type": "stream",
     "text": [
      "epoch: 23, [batch: 8 / 14], examples_per_second: 370.8997, train_label_loss: 0.2511, \n"
     ]
    },
    {
     "name": "stdout",
     "output_type": "stream",
     "text": [
      "epoch: 23, [batch: 10 / 14], examples_per_second: 370.4794, train_label_loss: 0.4130, \n"
     ]
    },
    {
     "name": "stdout",
     "output_type": "stream",
     "text": [
      "epoch: 23, [batch: 11 / 14], examples_per_second: 369.8025, train_label_loss: 0.3359, \n"
     ]
    },
    {
     "name": "stdout",
     "output_type": "stream",
     "text": [
      "epoch: 23, [batch: 12 / 14], examples_per_second: 370.6533, train_label_loss: 0.2722, \n"
     ]
    },
    {
     "name": "stdout",
     "output_type": "stream",
     "text": [
      "=============================================================\n",
      "epoch: 23, source_val_acc_label: 0.9141, target_val_acc_label: 0.8455, source_val_label_loss: 0.5295, target_val_label_loss: 0.8465, \n",
      "=============================================================\n"
     ]
    },
    {
     "name": "stdout",
     "output_type": "stream",
     "text": [
      "Patience (3) exhausted\n"
     ]
    }
   ],
   "source": [
    "###################################\n",
    "# train\n",
    "###################################\n",
    "jig = PTN_Train_Eval_Test_Jig(model, p.BEST_MODEL_PATH, p.device)\n",
    "\n",
    "jig.train(\n",
    "    train_iterable=datasets.source.processed.train,\n",
    "    source_val_iterable=datasets.source.processed.val,\n",
    "    target_val_iterable=datasets.target.processed.val,\n",
    "    num_epochs=p.n_epoch,\n",
    "    num_logs_per_epoch=p.NUM_LOGS_PER_EPOCH,\n",
    "    patience=p.patience,\n",
    "    optimizer=optimizer,\n",
    "    criteria_for_best=p.criteria_for_best,\n",
    ")"
   ]
  },
  {
   "cell_type": "code",
   "execution_count": 14,
   "id": "31e8fabf",
   "metadata": {
    "execution": {
     "iopub.execute_input": "2022-03-02T14:13:02.575221Z",
     "iopub.status.busy": "2022-03-02T14:13:02.574946Z",
     "iopub.status.idle": "2022-03-02T14:13:02.590674Z",
     "shell.execute_reply": "2022-03-02T14:13:02.591048Z"
    },
    "papermill": {
     "duration": 0.076349,
     "end_time": "2022-03-02T14:13:02.591156",
     "exception": false,
     "start_time": "2022-03-02T14:13:02.514807",
     "status": "completed"
    },
    "tags": []
   },
   "outputs": [],
   "source": [
    "total_experiment_time_secs = time.time() - start_time_secs"
   ]
  },
  {
   "cell_type": "code",
   "execution_count": 15,
   "id": "87b9595b",
   "metadata": {
    "execution": {
     "iopub.execute_input": "2022-03-02T14:13:02.715756Z",
     "iopub.status.busy": "2022-03-02T14:13:02.715455Z",
     "iopub.status.idle": "2022-03-02T14:13:55.547370Z",
     "shell.execute_reply": "2022-03-02T14:13:55.547813Z"
    },
    "papermill": {
     "duration": 52.895703,
     "end_time": "2022-03-02T14:13:55.547950",
     "exception": false,
     "start_time": "2022-03-02T14:13:02.652247",
     "status": "completed"
    },
    "tags": []
   },
   "outputs": [],
   "source": [
    "###################################\n",
    "# Evaluate the model\n",
    "###################################\n",
    "source_test_label_accuracy, source_test_label_loss = jig.test(datasets.source.processed.test)\n",
    "target_test_label_accuracy, target_test_label_loss = jig.test(datasets.target.processed.test)\n",
    "\n",
    "source_val_label_accuracy, source_val_label_loss = jig.test(datasets.source.processed.val)\n",
    "target_val_label_accuracy, target_val_label_loss = jig.test(datasets.target.processed.val)\n",
    "\n",
    "history = jig.get_history()\n",
    "\n",
    "total_epochs_trained = len(history[\"epoch_indices\"])\n",
    "\n",
    "val_dl = Iterable_Aggregator((datasets.source.original.val,datasets.target.original.val))\n",
    "\n",
    "confusion = ptn_confusion_by_domain_over_dataloader(model, p.device, val_dl)\n",
    "per_domain_accuracy = per_domain_accuracy_from_confusion(confusion)\n",
    "\n",
    "# Add a key to per_domain_accuracy for if it was a source domain\n",
    "for domain, accuracy in per_domain_accuracy.items():\n",
    "    per_domain_accuracy[domain] = {\n",
    "        \"accuracy\": accuracy,\n",
    "        \"source?\": domain in p.domains_source\n",
    "    }\n",
    "\n",
    "# Do an independent accuracy assesment JUST TO BE SURE!\n",
    "# _source_test_label_accuracy = independent_accuracy_assesment(model, datasets.source.processed.test, p.device)\n",
    "# _target_test_label_accuracy = independent_accuracy_assesment(model, datasets.target.processed.test, p.device)\n",
    "# _source_val_label_accuracy = independent_accuracy_assesment(model, datasets.source.processed.val, p.device)\n",
    "# _target_val_label_accuracy = independent_accuracy_assesment(model, datasets.target.processed.val, p.device)\n",
    "\n",
    "# assert(_source_test_label_accuracy == source_test_label_accuracy)\n",
    "# assert(_target_test_label_accuracy == target_test_label_accuracy)\n",
    "# assert(_source_val_label_accuracy == source_val_label_accuracy)\n",
    "# assert(_target_val_label_accuracy == target_val_label_accuracy)\n",
    "\n",
    "experiment = {\n",
    "    \"experiment_name\": p.experiment_name,\n",
    "    \"parameters\": dict(p),\n",
    "    \"results\": {\n",
    "        \"source_test_label_accuracy\": source_test_label_accuracy,\n",
    "        \"source_test_label_loss\": source_test_label_loss,\n",
    "        \"target_test_label_accuracy\": target_test_label_accuracy,\n",
    "        \"target_test_label_loss\": target_test_label_loss,\n",
    "        \"source_val_label_accuracy\": source_val_label_accuracy,\n",
    "        \"source_val_label_loss\": source_val_label_loss,\n",
    "        \"target_val_label_accuracy\": target_val_label_accuracy,\n",
    "        \"target_val_label_loss\": target_val_label_loss,\n",
    "        \"total_epochs_trained\": total_epochs_trained,\n",
    "        \"total_experiment_time_secs\": total_experiment_time_secs,\n",
    "        \"confusion\": confusion,\n",
    "        \"per_domain_accuracy\": per_domain_accuracy,\n",
    "    },\n",
    "    \"history\": history,\n",
    "    \"dataset_metrics\": get_dataset_metrics(datasets, \"ptn\"),\n",
    "}"
   ]
  },
  {
   "cell_type": "code",
   "execution_count": 16,
   "id": "54a21829",
   "metadata": {
    "execution": {
     "iopub.execute_input": "2022-03-02T14:13:55.671801Z",
     "iopub.status.busy": "2022-03-02T14:13:55.671526Z",
     "iopub.status.idle": "2022-03-02T14:13:55.843267Z",
     "shell.execute_reply": "2022-03-02T14:13:55.842868Z"
    },
    "papermill": {
     "duration": 0.23195,
     "end_time": "2022-03-02T14:13:55.843364",
     "exception": false,
     "start_time": "2022-03-02T14:13:55.611414",
     "status": "completed"
    },
    "tags": []
   },
   "outputs": [
    {
     "data": {
      "image/png": "[encoded data removed]",
      "text/plain": [
       "<Figure size 1080x504 with 1 Axes>"
      ]
     },
     "metadata": {
      "needs_background": "light"
     },
     "output_type": "display_data"
    }
   ],
   "source": [
    "ax = get_loss_curve(experiment)\n",
    "plt.show()"
   ]
  },
  {
   "cell_type": "code",
   "execution_count": 17,
   "id": "fd8a0f60",
   "metadata": {
    "execution": {
     "iopub.execute_input": "2022-03-02T14:13:55.966194Z",
     "iopub.status.busy": "2022-03-02T14:13:55.965938Z",
     "iopub.status.idle": "2022-03-02T14:13:56.138000Z",
     "shell.execute_reply": "2022-03-02T14:13:56.138209Z"
    },
    "papermill": {
     "duration": 0.232788,
     "end_time": "2022-03-02T14:13:56.138276",
     "exception": false,
     "start_time": "2022-03-02T14:13:55.905488",
     "status": "completed"
    },
    "tags": []
   },
   "outputs": [
    {
     "data": {
      "text/plain": [
       "<matplotlib.axes._subplots.AxesSubplot at 0x7fe8b4cc06d0>"
      ]
     },
     "execution_count": 17,
     "metadata": {},
     "output_type": "execute_result"
    },
    {
     "data": {
      "image/png": "[encoded data removed]",
      "text/plain": [
       "<Figure size 1080x504 with 1 Axes>"
      ]
     },
     "metadata": {
      "needs_background": "light"
     },
     "output_type": "display_data"
    }
   ],
   "source": [
    "get_results_table(experiment)"
   ]
  },
  {
   "cell_type": "code",
   "execution_count": 18,
   "id": "cf8dc689",
   "metadata": {
    "execution": {
     "iopub.execute_input": "2022-03-02T14:13:56.286253Z",
     "iopub.status.busy": "2022-03-02T14:13:56.285992Z",
     "iopub.status.idle": "2022-03-02T14:13:56.451430Z",
     "shell.execute_reply": "2022-03-02T14:13:56.450939Z"
    },
    "papermill": {
     "duration": 0.227657,
     "end_time": "2022-03-02T14:13:56.451534",
     "exception": false,
     "start_time": "2022-03-02T14:13:56.223877",
     "status": "completed"
    },
    "tags": []
   },
   "outputs": [
    {
     "data": {
      "text/plain": [
       "<matplotlib.axes._subplots.AxesSubplot at 0x7fe8d4029280>"
      ]
     },
     "execution_count": 18,
     "metadata": {},
     "output_type": "execute_result"
    },
    {
     "data": {
      "image/png": "[encoded data removed]",
      "text/plain": [
       "<Figure size 1080x504 with 1 Axes>"
      ]
     },
     "metadata": {
      "needs_background": "light"
     },
     "output_type": "display_data"
    }
   ],
   "source": [
    "get_domain_accuracies(experiment)"
   ]
  },
  {
   "cell_type": "code",
   "execution_count": 19,
   "id": "a74ae082",
   "metadata": {
    "execution": {
     "iopub.execute_input": "2022-03-02T14:13:56.580136Z",
     "iopub.status.busy": "2022-03-02T14:13:56.579879Z",
     "iopub.status.idle": "2022-03-02T14:13:56.594523Z",
     "shell.execute_reply": "2022-03-02T14:13:56.594045Z"
    },
    "papermill": {
     "duration": 0.078056,
     "end_time": "2022-03-02T14:13:56.594624",
     "exception": false,
     "start_time": "2022-03-02T14:13:56.516568",
     "status": "completed"
    },
    "tags": []
   },
   "outputs": [
    {
     "name": "stdout",
     "output_type": "stream",
     "text": [
      "Source Test Label Accuracy: 0.9141025641025641 Target Test Label Accuracy: 0.8427350427350427\n",
      "Source Val Label Accuracy: 0.9108974358974359 Target Val Label Accuracy: 0.847008547008547\n"
     ]
    }
   ],
   "source": [
    "print(\"Source Test Label Accuracy:\", experiment[\"results\"][\"source_test_label_accuracy\"], \"Target Test Label Accuracy:\", experiment[\"results\"][\"target_test_label_accuracy\"])\n",
    "print(\"Source Val Label Accuracy:\", experiment[\"results\"][\"source_val_label_accuracy\"], \"Target Val Label Accuracy:\", experiment[\"results\"][\"target_val_label_accuracy\"])"
   ]
  },
  {
   "cell_type": "code",
   "execution_count": 20,
   "id": "dacca602",
   "metadata": {
    "execution": {
     "iopub.execute_input": "2022-03-02T14:13:56.730209Z",
     "iopub.status.busy": "2022-03-02T14:13:56.724758Z",
     "iopub.status.idle": "2022-03-02T14:13:56.739723Z",
     "shell.execute_reply": "2022-03-02T14:13:56.739395Z"
    },
    "papermill": {
     "duration": 0.079389,
     "end_time": "2022-03-02T14:13:56.739802",
     "exception": false,
     "start_time": "2022-03-02T14:13:56.660413",
     "status": "completed"
    },
    "tags": [
     "experiment_json"
    ]
   },
   "outputs": [
    {
     "data": {
      "text/plain": [
       "'{\"experiment_name\": \"baseline_ptn_wisig\", \"parameters\": {\"experiment_name\": \"baseline_ptn_wisig\", \"lr\": 0.001, \"device\": \"cuda\", \"seed\": 1337, \"dataset_seed\": 1337, \"labels_source\": [\"1-10\", \"1-12\", \"1-14\", \"1-16\", \"1-18\", \"1-19\", \"1-8\", \"10-11\", \"10-17\", \"10-4\", \"10-7\", \"11-1\", \"11-10\", \"11-19\", \"11-20\", \"11-4\", \"11-7\", \"12-19\", \"12-20\", \"12-7\", \"13-14\", \"13-18\", \"13-19\", \"13-20\", \"13-3\", \"13-7\", \"14-10\", \"14-11\", \"14-12\", \"14-13\", \"14-14\", \"14-19\", \"14-20\", \"14-7\", \"14-8\", \"14-9\", \"15-1\", \"15-19\", \"15-6\", \"16-1\", \"16-16\", \"16-19\", \"16-20\", \"17-10\", \"17-11\", \"18-1\", \"18-10\", \"18-11\", \"18-12\", \"18-13\", \"18-14\", \"18-15\", \"18-16\", \"18-17\", \"18-19\", \"18-2\", \"18-20\", \"18-4\", \"18-5\", \"18-7\", \"18-8\", \"18-9\", \"19-1\", \"19-10\", \"19-11\", \"19-12\", \"19-13\", \"19-14\", \"19-15\", \"19-19\", \"19-2\", \"19-20\", \"19-3\", \"19-4\", \"19-6\", \"19-7\", \"19-8\", \"19-9\", \"2-1\", \"2-13\", \"2-15\", \"2-3\", \"2-4\", \"2-5\", \"2-6\", \"2-7\", \"2-8\", \"20-1\", \"20-12\", \"20-14\", \"20-15\", \"20-16\", \"20-18\", \"20-19\", \"20-20\", \"20-3\", \"20-4\", \"20-5\", \"20-7\", \"20-8\", \"3-1\", \"3-13\", \"3-18\", \"3-2\", \"3-8\", \"4-1\", \"4-10\", \"4-11\", \"5-1\", \"5-5\", \"6-1\", \"6-15\", \"6-6\", \"7-10\", \"7-11\", \"7-12\", \"7-13\", \"7-14\", \"7-7\", \"7-8\", \"7-9\", \"8-1\", \"8-13\", \"8-14\", \"8-18\", \"8-20\", \"8-3\", \"8-8\", \"9-1\", \"9-7\"], \"labels_target\": [\"1-10\", \"1-12\", \"1-14\", \"1-16\", \"1-18\", \"1-19\", \"1-8\", \"10-11\", \"10-17\", \"10-4\", \"10-7\", \"11-1\", \"11-10\", \"11-19\", \"11-20\", \"11-4\", \"11-7\", \"12-19\", \"12-20\", \"12-7\", \"13-14\", \"13-18\", \"13-19\", \"13-20\", \"13-3\", \"13-7\", \"14-10\", \"14-11\", \"14-12\", \"14-13\", \"14-14\", \"14-19\", \"14-20\", \"14-7\", \"14-8\", \"14-9\", \"15-1\", \"15-19\", \"15-6\", \"16-1\", \"16-16\", \"16-19\", \"16-20\", \"17-10\", \"17-11\", \"18-1\", \"18-10\", \"18-11\", \"18-12\", \"18-13\", \"18-14\", \"18-15\", \"18-16\", \"18-17\", \"18-19\", \"18-2\", \"18-20\", \"18-4\", \"18-5\", \"18-7\", \"18-8\", \"18-9\", \"19-1\", \"19-10\", \"19-11\", \"19-12\", \"19-13\", \"19-14\", \"19-15\", \"19-19\", \"19-2\", \"19-20\", \"19-3\", \"19-4\", \"19-6\", \"19-7\", \"19-8\", \"19-9\", \"2-1\", \"2-13\", \"2-15\", \"2-3\", \"2-4\", \"2-5\", \"2-6\", \"2-7\", \"2-8\", \"20-1\", \"20-12\", \"20-14\", \"20-15\", \"20-16\", \"20-18\", \"20-19\", \"20-20\", \"20-3\", \"20-4\", \"20-5\", \"20-7\", \"20-8\", \"3-1\", \"3-13\", \"3-18\", \"3-2\", \"3-8\", \"4-1\", \"4-10\", \"4-11\", \"5-1\", \"5-5\", \"6-1\", \"6-15\", \"6-6\", \"7-10\", \"7-11\", \"7-12\", \"7-13\", \"7-14\", \"7-7\", \"7-8\", \"7-9\", \"8-1\", \"8-13\", \"8-14\", \"8-18\", \"8-20\", \"8-3\", \"8-8\", \"9-1\", \"9-7\"], \"x_transforms_source\": [], \"x_transforms_target\": [], \"episode_transforms_source\": [], \"episode_transforms_target\": [], \"num_examples_per_domain_per_label_source\": 100, \"num_examples_per_domain_per_label_target\": 100, \"n_shot\": 3, \"n_way\": 130, \"n_query\": 2, \"train_k_factor\": 1, \"val_k_factor\": 2, \"test_k_factor\": 2, \"torch_default_dtype\": \"torch.float64\", \"n_epoch\": 50, \"patience\": 3, \"criteria_for_best\": \"target_loss\", \"x_net\": [{\"class\": \"nnReshape\", \"kargs\": {\"shape\": [-1, 1, 2, 256]}}, {\"class\": \"Conv2d\", \"kargs\": {\"in_channels\": 1, \"out_channels\": 256, \"kernel_size\": [1, 7], \"bias\": false, \"padding\": [0, 3]}}, {\"class\": \"ReLU\", \"kargs\": {\"inplace\": true}}, {\"class\": \"BatchNorm2d\", \"kargs\": {\"num_features\": 256}}, {\"class\": \"Conv2d\", \"kargs\": {\"in_channels\": 256, \"out_channels\": 80, \"kernel_size\": [2, 7], \"bias\": true, \"padding\": [0, 3]}}, {\"class\": \"ReLU\", \"kargs\": {\"inplace\": true}}, {\"class\": \"BatchNorm2d\", \"kargs\": {\"num_features\": 80}}, {\"class\": \"Flatten\", \"kargs\": {}}, {\"class\": \"Linear\", \"kargs\": {\"in_features\": 20480, \"out_features\": 256}}, {\"class\": \"ReLU\", \"kargs\": {\"inplace\": true}}, {\"class\": \"BatchNorm1d\", \"kargs\": {\"num_features\": 256}}, {\"class\": \"Linear\", \"kargs\": {\"in_features\": 256, \"out_features\": 256}}], \"NUM_LOGS_PER_EPOCH\": 10, \"BEST_MODEL_PATH\": \"./best_model.pth\", \"pickle_name\": \"wisig.node3-19.stratified_ds.2022A.pkl\", \"domains_source\": [3], \"domains_target\": [1, 2, 4]}, \"results\": {\"source_test_label_accuracy\": 0.9141025641025641, \"source_test_label_loss\": 0.4529686060138586, \"target_test_label_accuracy\": 0.8427350427350427, \"target_test_label_loss\": 0.8434952221503411, \"source_val_label_accuracy\": 0.9108974358974359, \"source_val_label_loss\": 0.5408389713483399, \"target_val_label_accuracy\": 0.847008547008547, \"target_val_label_loss\": 0.8197395739300135, \"total_epochs_trained\": 23, \"total_experiment_time_secs\": 885.4786715507507, \"confusion\": {\"3\": {\"29\": {\"29\": 11, \"88\": 1}, \"123\": {\"123\": 11, \"80\": 1}, \"116\": {\"116\": 11, \"48\": 1}, \"25\": {\"25\": 12}, \"60\": {\"60\": 9, \"23\": 2, \"16\": 1}, \"88\": {\"88\": 12}, \"0\": {\"0\": 12}, \"77\": {\"77\": 11, \"126\": 1}, \"96\": {\"96\": 12}, \"3\": {\"3\": 9, \"71\": 1, \"78\": 1, \"99\": 1}, \"5\": {\"5\": 10, \"78\": 1, \"85\": 1}, \"89\": {\"89\": 12}, \"117\": {\"117\": 12}, \"78\": {\"78\": 9, \"21\": 2, \"70\": 1}, \"57\": {\"57\": 12}, \"90\": {\"90\": 12}, \"43\": {\"78\": 2, \"43\": 10}, \"50\": {\"50\": 10, \"102\": 2}, \"49\": {\"89\": 1, \"8\": 4, \"49\": 4, \"97\": 3}, \"61\": {\"61\": 12}, \"4\": {\"4\": 12}, \"67\": {\"67\": 12}, \"59\": {\"59\": 12}, \"118\": {\"118\": 12}, \"80\": {\"80\": 12}, \"75\": {\"75\": 12}, \"99\": {\"99\": 8, \"35\": 4}, \"111\": {\"111\": 11, \"39\": 1}, \"11\": {\"11\": 12}, \"76\": {\"76\": 9, \"28\": 1, \"89\": 2}, \"102\": {\"102\": 12}, \"44\": {\"44\": 12}, \"30\": {\"30\": 12}, \"6\": {\"6\": 11, \"29\": 1}, \"16\": {\"16\": 12}, \"79\": {\"79\": 12}, \"39\": {\"39\": 12}, \"101\": {\"101\": 12}, \"9\": {\"9\": 10, \"35\": 2}, \"109\": {\"109\": 9, \"35\": 1, \"118\": 2}, \"91\": {\"91\": 6, \"98\": 1, \"41\": 2, \"77\": 3}, \"129\": {\"129\": 12}, \"33\": {\"33\": 12}, \"113\": {\"113\": 12}, \"7\": {\"7\": 12}, \"82\": {\"82\": 11, \"28\": 1}, \"52\": {\"52\": 12}, \"93\": {\"93\": 11, \"23\": 1}, \"24\": {\"24\": 11, \"27\": 1}, \"26\": {\"26\": 12}, \"28\": {\"28\": 12}, \"85\": {\"85\": 12}, \"110\": {\"110\": 12}, \"119\": {\"119\": 12}, \"108\": {\"108\": 12}, \"53\": {\"53\": 12}, \"105\": {\"105\": 12}, \"103\": {\"103\": 11, \"37\": 1}, \"69\": {\"69\": 11, \"0\": 1}, \"23\": {\"23\": 5, \"110\": 4, \"60\": 2, \"113\": 1}, \"2\": {\"2\": 12}, \"66\": {\"66\": 12}, \"71\": {\"71\": 12}, \"122\": {\"122\": 12}, \"87\": {\"87\": 11, \"122\": 1}, \"8\": {\"8\": 12}, \"127\": {\"127\": 12}, \"40\": {\"40\": 12}, \"126\": {\"126\": 9, \"43\": 1, \"21\": 1, \"109\": 1}, \"12\": {\"12\": 12}, \"83\": {\"83\": 12}, \"81\": {\"81\": 10, \"88\": 1, \"80\": 1}, \"19\": {\"19\": 12}, \"125\": {\"125\": 12}, \"128\": {\"128\": 12}, \"22\": {\"22\": 12}, \"21\": {\"21\": 12}, \"42\": {\"42\": 12}, \"38\": {\"38\": 12}, \"72\": {\"72\": 12}, \"86\": {\"86\": 12}, \"1\": {\"1\": 12}, \"58\": {\"58\": 9, \"56\": 2, \"91\": 1}, \"46\": {\"46\": 12}, \"48\": {\"116\": 1, \"48\": 11}, \"34\": {\"34\": 6, \"75\": 1, \"74\": 1, \"57\": 1, \"99\": 1, \"47\": 1, \"89\": 1}, \"55\": {\"55\": 11, \"50\": 1}, \"94\": {\"94\": 12}, \"114\": {\"114\": 10, \"128\": 1, \"71\": 1}, \"97\": {\"97\": 11, \"15\": 1}, \"107\": {\"107\": 12}, \"68\": {\"68\": 10, \"5\": 2}, \"64\": {\"64\": 11, \"76\": 1}, \"13\": {\"13\": 5, \"21\": 2, \"122\": 1, \"60\": 1, \"63\": 1, \"78\": 1, \"17\": 1}, \"115\": {\"115\": 11, \"89\": 1}, \"62\": {\"62\": 12}, \"51\": {\"51\": 12}, \"98\": {\"98\": 12}, \"45\": {\"45\": 8, \"124\": 2, \"78\": 1, \"115\": 1}, \"74\": {\"74\": 9, \"57\": 2, \"25\": 1}, \"112\": {\"13\": 2, \"112\": 9, \"53\": 1}, \"41\": {\"41\": 12}, \"32\": {\"32\": 8, \"65\": 1, \"107\": 1, \"50\": 1, \"28\": 1}, \"104\": {\"115\": 1, \"104\": 11}, \"65\": {\"121\": 2, \"65\": 10}, \"54\": {\"54\": 12}, \"20\": {\"20\": 12}, \"124\": {\"124\": 9, \"86\": 1, \"77\": 1, \"5\": 1}, \"121\": {\"121\": 7, \"120\": 3, \"88\": 1, \"115\": 1}, \"106\": {\"106\": 10, \"97\": 2}, \"18\": {\"18\": 12}, \"17\": {\"21\": 1, \"4\": 1, \"78\": 2, \"17\": 6, \"102\": 1, \"115\": 1}, \"73\": {\"73\": 12}, \"70\": {\"70\": 12}, \"92\": {\"92\": 10, \"21\": 2}, \"15\": {\"15\": 12}, \"14\": {\"14\": 12}, \"84\": {\"84\": 12}, \"37\": {\"37\": 12}, \"120\": {\"120\": 12}, \"27\": {\"27\": 5, \"24\": 3, \"36\": 4}, \"35\": {\"35\": 9, \"34\": 1, \"9\": 1, \"99\": 1}, \"95\": {\"95\": 12}, \"31\": {\"31\": 12}, \"63\": {\"63\": 12}, \"47\": {\"47\": 12}, \"100\": {\"100\": 11, \"31\": 1}, \"56\": {\"56\": 11, \"58\": 1}, \"36\": {\"36\": 10, \"24\": 1, \"27\": 1}, \"10\": {\"10\": 12}}, \"2\": {\"117\": {\"117\": 11, \"2\": 1}, \"78\": {\"70\": 4, \"78\": 7, \"39\": 1}, \"88\": {\"88\": 12}, \"5\": {\"5\": 12}, \"89\": {\"89\": 11, \"92\": 1}, \"25\": {\"28\": 2, \"25\": 10}, \"61\": {\"61\": 9, \"21\": 1, \"24\": 1, \"88\": 1}, \"0\": {\"0\": 12}, \"103\": {\"103\": 9, \"59\": 3}, \"28\": {\"29\": 2, \"28\": 7, \"17\": 1, \"56\": 1, \"51\": 1}, \"3\": {\"3\": 11, \"88\": 1}, \"43\": {\"43\": 10, \"21\": 1, \"118\": 1}, \"30\": {\"0\": 3, \"122\": 1, \"30\": 8}, \"59\": {\"59\": 12}, \"79\": {\"79\": 7, \"124\": 3, \"86\": 2}, \"83\": {\"83\": 9, \"123\": 1, \"44\": 2}, \"115\": {\"115\": 12}, \"62\": {\"62\": 12}, \"26\": {\"26\": 12}, \"50\": {\"50\": 8, \"55\": 4}, \"40\": {\"40\": 12}, \"4\": {\"4\": 12}, \"68\": {\"68\": 12}, \"49\": {\"49\": 8, \"17\": 1, \"47\": 1, \"98\": 1, \"88\": 1}, \"51\": {\"51\": 4, \"21\": 1, \"106\": 2, \"75\": 3, \"98\": 1, \"9\": 1}, \"44\": {\"44\": 12}, \"76\": {\"76\": 12}, \"127\": {\"127\": 12}, \"97\": {\"97\": 9, \"0\": 2, \"110\": 1}, \"119\": {\"119\": 11, \"129\": 1}, \"77\": {\"77\": 11, \"52\": 1}, \"33\": {\"33\": 12}, \"99\": {\"99\": 11, \"20\": 1}, \"124\": {\"79\": 1, \"124\": 11}, \"6\": {\"6\": 12}, \"112\": {\"112\": 5, \"46\": 4, \"128\": 2, \"19\": 1}, \"53\": {\"44\": 3, \"53\": 7, \"24\": 1, \"21\": 1}, \"110\": {\"110\": 10, \"122\": 2}, \"11\": {\"11\": 12}, \"9\": {\"9\": 12}, \"20\": {\"20\": 8, \"99\": 2, \"100\": 2}, \"114\": {\"114\": 12}, \"10\": {\"10\": 12}, \"86\": {\"86\": 12}, \"118\": {\"118\": 8, \"10\": 1, \"26\": 1, \"84\": 2}, \"7\": {\"7\": 12}, \"92\": {\"89\": 5, \"76\": 1, \"92\": 4, \"21\": 1, \"121\": 1}, \"18\": {\"18\": 12}, \"94\": {\"94\": 10, \"88\": 2}, \"60\": {\"60\": 9, \"23\": 2, \"8\": 1}, \"81\": {\"81\": 11, \"117\": 1}, \"29\": {\"29\": 9, \"121\": 1, \"52\": 1, \"91\": 1}, \"109\": {\"39\": 2, \"109\": 7, \"78\": 3}, \"80\": {\"80\": 12}, \"120\": {\"120\": 11, \"121\": 1}, \"122\": {\"122\": 12}, \"106\": {\"106\": 12}, \"55\": {\"55\": 10, \"35\": 1, \"76\": 1}, \"104\": {\"104\": 12}, \"70\": {\"70\": 11, \"78\": 1}, \"24\": {\"24\": 11, \"78\": 1}, \"2\": {\"2\": 11, \"119\": 1}, \"67\": {\"65\": 1, \"67\": 7, \"80\": 2, \"1\": 1, \"61\": 1}, \"72\": {\"72\": 12}, \"91\": {\"91\": 4, \"29\": 3, \"103\": 5}, \"116\": {\"48\": 1, \"116\": 10, \"22\": 1}, \"8\": {\"8\": 9, \"113\": 1, \"23\": 2}, \"128\": {\"51\": 1, \"128\": 7, \"75\": 1, \"114\": 1, \"19\": 1, \"98\": 1}, \"41\": {\"41\": 9, \"29\": 1, \"125\": 1, \"88\": 1}, \"113\": {\"113\": 9, \"78\": 3}, \"12\": {\"12\": 7, \"0\": 1, \"101\": 1, \"97\": 2, \"24\": 1}, \"90\": {\"90\": 12}, \"82\": {\"82\": 10, \"45\": 1, \"29\": 1}, \"111\": {\"111\": 12}, \"85\": {\"85\": 10, \"112\": 1, \"5\": 1}, \"37\": {\"37\": 12}, \"23\": {\"110\": 2, \"23\": 4, \"113\": 2, \"93\": 3, \"16\": 1}, \"22\": {\"22\": 11, \"66\": 1}, \"102\": {\"102\": 12}, \"39\": {\"39\": 10, \"109\": 2}, \"101\": {\"101\": 12}, \"87\": {\"87\": 12}, \"1\": {\"1\": 12}, \"58\": {\"6\": 1, \"58\": 11}, \"47\": {\"47\": 10, \"77\": 1, \"6\": 1}, \"126\": {\"126\": 12}, \"34\": {\"52\": 1, \"34\": 8, \"56\": 3}, \"56\": {\"34\": 2, \"56\": 7, \"66\": 1, \"58\": 1, \"9\": 1}, \"95\": {\"95\": 9, \"40\": 2, \"88\": 1}, \"65\": {\"65\": 10, \"121\": 1, \"28\": 1}, \"98\": {\"98\": 12}, \"123\": {\"123\": 12}, \"69\": {\"69\": 10, \"84\": 2}, \"108\": {\"108\": 12}, \"13\": {\"13\": 11, \"45\": 1}, \"15\": {\"15\": 12}, \"125\": {\"125\": 12}, \"52\": {\"52\": 10, \"34\": 2}, \"46\": {\"46\": 12}, \"45\": {\"45\": 12}, \"75\": {\"75\": 10, \"17\": 1, \"9\": 1}, \"73\": {\"73\": 12}, \"42\": {\"42\": 11, \"21\": 1}, \"32\": {\"32\": 6, \"74\": 1, \"17\": 1, \"107\": 2, \"88\": 1, \"92\": 1}, \"105\": {\"105\": 12}, \"66\": {\"66\": 11, \"80\": 1}, \"54\": {\"54\": 12}, \"21\": {\"21\": 12}, \"64\": {\"64\": 12}, \"35\": {\"35\": 12}, \"107\": {\"107\": 12}, \"19\": {\"95\": 1, \"19\": 6, \"52\": 1, \"73\": 3, \"85\": 1}, \"17\": {\"17\": 6, \"4\": 2, \"86\": 1, \"21\": 1, \"28\": 1, \"78\": 1}, \"74\": {\"74\": 8, \"76\": 4}, \"71\": {\"21\": 1, \"71\": 5, \"3\": 6}, \"93\": {\"93\": 12}, \"16\": {\"96\": 1, \"21\": 1, \"16\": 8, \"93\": 2}, \"14\": {\"14\": 10, \"78\": 1, \"21\": 1}, \"84\": {\"21\": 1, \"84\": 10, \"118\": 1}, \"38\": {\"38\": 12}, \"121\": {\"121\": 9, \"88\": 1, \"120\": 2}, \"27\": {\"27\": 10, \"36\": 2}, \"129\": {\"129\": 11, \"5\": 1}, \"96\": {\"96\": 11, \"16\": 1}, \"31\": {\"31\": 11, \"61\": 1}, \"63\": {\"63\": 12}, \"48\": {\"48\": 12}, \"100\": {\"100\": 12}, \"57\": {\"90\": 1, \"57\": 8, \"121\": 2, \"88\": 1}, \"36\": {\"36\": 12}}, \"4\": {\"73\": {\"73\": 9, \"5\": 2, \"88\": 1}, \"29\": {\"29\": 12}, \"60\": {\"60\": 11, \"12\": 1}, \"50\": {\"50\": 8, \"100\": 1, \"115\": 1, \"86\": 1, \"1\": 1}, \"96\": {\"96\": 7, \"122\": 4, \"87\": 1}, \"64\": {\"64\": 12}, \"99\": {\"96\": 1, \"99\": 8, \"84\": 2, \"76\": 1}, \"0\": {\"0\": 11, \"87\": 1}, \"20\": {\"20\": 12}, \"51\": {\"53\": 3, \"98\": 2, \"34\": 3, \"21\": 1, \"51\": 2, \"78\": 1}, \"123\": {\"123\": 12}, \"83\": {\"83\": 9, \"5\": 2, \"88\": 1}, \"57\": {\"57\": 12}, \"33\": {\"33\": 8, \"65\": 1, \"19\": 3}, \"17\": {\"17\": 8, \"115\": 2, \"13\": 1, \"55\": 1}, \"62\": {\"62\": 9, \"78\": 1, \"118\": 2}, \"4\": {\"4\": 12}, \"18\": {\"18\": 12}, \"10\": {\"10\": 12}, \"102\": {\"102\": 12}, \"110\": {\"110\": 12}, \"68\": {\"68\": 12}, \"70\": {\"70\": 11, \"108\": 1}, \"86\": {\"86\": 12}, \"107\": {\"107\": 12}, \"21\": {\"78\": 3, \"21\": 8, \"51\": 1}, \"119\": {\"119\": 12}, \"85\": {\"85\": 10, \"19\": 1, \"33\": 1}, \"66\": {\"82\": 1, \"90\": 2, \"66\": 7, \"48\": 1, \"121\": 1}, \"124\": {\"124\": 9, \"129\": 1, \"48\": 1, \"41\": 1}, \"116\": {\"116\": 7, \"48\": 3, \"22\": 1, \"66\": 1}, \"71\": {\"71\": 10, \"21\": 1, \"88\": 1}, \"129\": {\"129\": 12}, \"105\": {\"105\": 10, \"40\": 1, \"21\": 1}, \"93\": {\"93\": 10, \"110\": 1, \"11\": 1}, \"48\": {\"116\": 2, \"48\": 9, \"100\": 1}, \"30\": {\"8\": 2, \"106\": 1, \"30\": 8, \"21\": 1}, \"36\": {\"36\": 12}, \"103\": {\"58\": 3, \"2\": 1, \"103\": 6, \"91\": 1, \"127\": 1}, \"67\": {\"67\": 2, \"97\": 1, \"64\": 1, \"2\": 1, \"13\": 2, \"63\": 2, \"24\": 1, \"120\": 1, \"45\": 1}, \"42\": {\"42\": 12}, \"100\": {\"3\": 3, \"100\": 7, \"114\": 2}, \"28\": {\"28\": 12}, \"23\": {\"93\": 3, \"88\": 2, \"78\": 1, \"60\": 4, \"12\": 1, \"113\": 1}, \"49\": {\"53\": 4, \"49\": 4, \"20\": 3, \"5\": 1}, \"38\": {\"38\": 12}, \"128\": {\"128\": 8, \"52\": 1, \"74\": 2, \"85\": 1}, \"118\": {\"118\": 12}, \"101\": {\"101\": 12}, \"79\": {\"79\": 11, \"119\": 1}, \"52\": {\"52\": 8, \"41\": 1, \"88\": 1, \"103\": 1, \"91\": 1}, \"6\": {\"6\": 10, \"91\": 2}, \"95\": {\"95\": 9, \"127\": 2, \"43\": 1}, \"54\": {\"54\": 10, \"59\": 1, \"6\": 1}, \"26\": {\"26\": 12}, \"69\": {\"69\": 12}, \"114\": {\"114\": 12}, \"97\": {\"97\": 6, \"24\": 5, \"10\": 1}, \"87\": {\"87\": 12}, \"1\": {\"114\": 3, \"1\": 6, \"57\": 2, \"72\": 1}, \"34\": {\"34\": 9, \"103\": 1, \"75\": 2}, \"19\": {\"19\": 12}, \"27\": {\"27\": 12}, \"5\": {\"5\": 12}, \"24\": {\"97\": 6, \"24\": 4, \"0\": 1, \"23\": 1}, \"126\": {\"126\": 10, \"113\": 2}, \"56\": {\"56\": 11, \"33\": 1}, \"59\": {\"59\": 9, \"65\": 1, \"6\": 2}, \"127\": {\"127\": 11, \"88\": 1}, \"44\": {\"44\": 12}, \"77\": {\"77\": 12}, \"80\": {\"80\": 12}, \"98\": {\"98\": 11, \"59\": 1}, \"122\": {\"88\": 1, \"122\": 8, \"87\": 3}, \"108\": {\"108\": 4, \"88\": 3, \"70\": 5}, \"61\": {\"61\": 10, \"88\": 2}, \"22\": {\"22\": 8, \"116\": 3, \"92\": 1}, \"63\": {\"63\": 11, \"113\": 1}, \"39\": {\"39\": 10, \"21\": 1, \"0\": 1}, \"25\": {\"25\": 12}, \"3\": {\"3\": 12}, \"78\": {\"78\": 4, \"88\": 3, \"21\": 4, \"108\": 1}, \"31\": {\"31\": 12}, \"35\": {\"35\": 12}, \"91\": {\"91\": 6, \"29\": 4, \"103\": 2}, \"37\": {\"37\": 11, \"97\": 1}, \"13\": {\"13\": 9, \"17\": 1, \"67\": 2}, \"53\": {\"53\": 12}, \"82\": {\"40\": 1, \"82\": 7, \"104\": 1, \"32\": 3}, \"92\": {\"92\": 11, \"22\": 1}, \"90\": {\"90\": 12}, \"8\": {\"15\": 2, \"8\": 9, \"88\": 1}, \"88\": {\"88\": 9, \"108\": 2, \"10\": 1}, \"16\": {\"16\": 12}, \"45\": {\"45\": 12}, \"89\": {\"89\": 12}, \"43\": {\"43\": 12}, \"65\": {\"65\": 12}, \"117\": {\"117\": 10, \"120\": 1, \"67\": 1}, \"40\": {\"40\": 12}, \"12\": {\"12\": 12}, \"7\": {\"7\": 11, \"96\": 1}, \"75\": {\"75\": 12}, \"41\": {\"41\": 9, \"77\": 2, \"128\": 1}, \"76\": {\"76\": 12}, \"9\": {\"9\": 11, \"25\": 1}, \"125\": {\"125\": 12}, \"120\": {\"64\": 2, \"45\": 1, \"120\": 9}, \"11\": {\"11\": 8, \"93\": 3, \"88\": 1}, \"115\": {\"102\": 1, \"115\": 6, \"17\": 2, \"24\": 2, \"86\": 1}, \"2\": {\"2\": 12}, \"113\": {\"113\": 10, \"78\": 2}, \"112\": {\"112\": 11, \"83\": 1}, \"94\": {\"94\": 8, \"15\": 3, \"36\": 1}, \"109\": {\"109\": 12}, \"74\": {\"38\": 1, \"74\": 10, \"55\": 1}, \"111\": {\"111\": 12}, \"55\": {\"55\": 12}, \"15\": {\"15\": 11, \"94\": 1}, \"14\": {\"14\": 10, \"105\": 2}, \"104\": {\"104\": 12}, \"47\": {\"47\": 12}, \"58\": {\"58\": 12}, \"106\": {\"12\": 6, \"106\": 3, \"88\": 2, \"15\": 1}, \"121\": {\"121\": 10, \"48\": 1, \"81\": 1}, \"81\": {\"81\": 11, \"18\": 1}, \"84\": {\"84\": 12}, \"32\": {\"107\": 2, \"67\": 1, \"32\": 9}, \"72\": {\"72\": 9, \"110\": 1, \"33\": 1, \"71\": 1}, \"46\": {\"46\": 11, \"50\": 1}}, \"1\": {\"49\": {\"31\": 4, \"49\": 5, \"72\": 1, \"53\": 1, \"3\": 1}, \"1\": {\"1\": 11, \"31\": 1}, \"119\": {\"119\": 12}, \"28\": {\"28\": 12}, \"20\": {\"20\": 12}, \"17\": {\"17\": 11, \"55\": 1}, \"103\": {\"47\": 3, \"103\": 7, \"61\": 2}, \"85\": {\"85\": 12}, \"87\": {\"93\": 1, \"43\": 3, \"87\": 8}, \"84\": {\"84\": 12}, \"34\": {\"38\": 1, \"34\": 4, \"52\": 2, \"35\": 1, \"98\": 1, \"105\": 2, \"49\": 1}, \"16\": {\"16\": 8, \"118\": 2, \"26\": 2}, \"6\": {\"6\": 11, \"112\": 1}, \"31\": {\"71\": 1, \"31\": 8, \"49\": 2, \"15\": 1}, \"92\": {\"92\": 12}, \"96\": {\"96\": 11, \"97\": 1}, \"64\": {\"64\": 11, \"45\": 1}, \"40\": {\"105\": 3, \"40\": 9}, \"69\": {\"69\": 12}, \"99\": {\"99\": 12}, \"3\": {\"103\": 1, \"3\": 9, \"23\": 2}, \"50\": {\"39\": 1, \"50\": 10, \"62\": 1}, \"21\": {\"21\": 11, \"70\": 1}, \"7\": {\"7\": 12}, \"0\": {\"0\": 12}, \"44\": {\"44\": 12}, \"19\": {\"19\": 10, \"128\": 2}, \"22\": {\"22\": 12}, \"32\": {\"32\": 12}, \"125\": {\"125\": 12}, \"82\": {\"82\": 11, \"129\": 1}, \"33\": {\"33\": 12}, \"45\": {\"45\": 2, \"104\": 2, \"57\": 6, \"25\": 1, \"64\": 1}, \"109\": {\"109\": 12}, \"105\": {\"105\": 8, \"119\": 1, \"40\": 3}, \"76\": {\"76\": 11, \"50\": 1}, \"59\": {\"6\": 4, \"112\": 1, \"95\": 1, \"59\": 6}, \"120\": {\"120\": 12}, \"41\": {\"41\": 12}, \"26\": {\"26\": 9, \"69\": 2, \"70\": 1}, \"42\": {\"25\": 3, \"42\": 5, \"83\": 4}, \"79\": {\"79\": 12}, \"97\": {\"27\": 5, \"97\": 6, \"126\": 1}, \"110\": {\"110\": 12}, \"128\": {\"128\": 4, \"19\": 7, \"49\": 1}, \"55\": {\"55\": 12}, \"23\": {\"23\": 4, \"84\": 2, \"87\": 2, \"44\": 1, \"93\": 2, \"110\": 1}, \"4\": {\"4\": 12}, \"14\": {\"14\": 12}, \"126\": {\"126\": 11, \"108\": 1}, \"111\": {\"111\": 12}, \"39\": {\"39\": 12}, \"35\": {\"35\": 12}, \"102\": {\"102\": 12}, \"113\": {\"113\": 12}, \"89\": {\"89\": 11, \"29\": 1}, \"46\": {\"124\": 4, \"59\": 1, \"88\": 2, \"46\": 3, \"45\": 1, \"17\": 1}, \"91\": {\"91\": 6, \"54\": 5, \"68\": 1}, \"83\": {\"83\": 5, \"52\": 1, \"91\": 1, \"42\": 3, \"119\": 1, \"36\": 1}, \"81\": {\"81\": 8, \"14\": 2, \"33\": 2}, \"88\": {\"27\": 1, \"88\": 10, \"24\": 1}, \"95\": {\"95\": 11, \"121\": 1}, \"53\": {\"53\": 12}, \"75\": {\"127\": 2, \"75\": 9, \"56\": 1}, \"122\": {\"122\": 12}, \"107\": {\"107\": 12}, \"104\": {\"104\": 12}, \"12\": {\"12\": 9, \"70\": 1, \"106\": 2}, \"112\": {\"112\": 11, \"68\": 1}, \"63\": {\"63\": 11, \"123\": 1}, \"30\": {\"30\": 12}, \"9\": {\"9\": 7, \"47\": 3, \"15\": 1, \"49\": 1}, \"78\": {\"78\": 8, \"21\": 4}, \"18\": {\"18\": 12}, \"116\": {\"116\": 8, \"22\": 4}, \"36\": {\"36\": 12}, \"100\": {\"100\": 12}, \"74\": {\"124\": 2, \"74\": 10}, \"61\": {\"66\": 1, \"61\": 11}, \"8\": {\"8\": 12}, \"70\": {\"70\": 12}, \"108\": {\"108\": 12}, \"77\": {\"77\": 12}, \"93\": {\"87\": 1, \"93\": 11}, \"37\": {\"37\": 10, \"75\": 2}, \"118\": {\"118\": 12}, \"80\": {\"57\": 3, \"80\": 8, \"67\": 1}, \"106\": {\"106\": 12}, \"58\": {\"58\": 12}, \"56\": {\"56\": 12}, \"86\": {\"86\": 12}, \"90\": {\"90\": 12}, \"123\": {\"123\": 10, \"119\": 1, \"63\": 1}, \"94\": {\"94\": 10, \"21\": 2}, \"52\": {\"52\": 12}, \"47\": {\"103\": 8, \"47\": 4}, \"117\": {\"117\": 12}, \"124\": {\"124\": 12}, \"71\": {\"71\": 12}, \"67\": {\"67\": 12}, \"15\": {\"94\": 3, \"8\": 1, \"15\": 7, \"106\": 1}, \"5\": {\"5\": 12}, \"24\": {\"24\": 10, \"88\": 2}, \"62\": {\"62\": 12}, \"13\": {\"13\": 12}, \"101\": {\"101\": 12}, \"51\": {\"51\": 12}, \"129\": {\"129\": 10, \"55\": 1, \"5\": 1}, \"65\": {\"65\": 12}, \"121\": {\"121\": 12}, \"43\": {\"43\": 12}, \"73\": {\"73\": 11, \"49\": 1}, \"68\": {\"68\": 12}, \"66\": {\"61\": 5, \"66\": 6, \"9\": 1}, \"60\": {\"60\": 3, \"15\": 2, \"18\": 2, \"23\": 1, \"84\": 1, \"110\": 1, \"87\": 2}, \"115\": {\"115\": 12}, \"38\": {\"120\": 1, \"38\": 11}, \"2\": {\"2\": 6, \"82\": 1, \"129\": 3, \"45\": 1, \"119\": 1}, \"127\": {\"127\": 12}, \"54\": {\"54\": 11, \"91\": 1}, \"72\": {\"72\": 12}, \"27\": {\"27\": 8, \"97\": 4}, \"57\": {\"57\": 12}, \"48\": {\"48\": 10, \"70\": 1, \"63\": 1}, \"114\": {\"114\": 12}, \"25\": {\"25\": 11, \"45\": 1}, \"11\": {\"11\": 12}, \"29\": {\"29\": 12}, \"98\": {\"34\": 1, \"98\": 11}, \"10\": {\"10\": 10, \"21\": 1, \"122\": 1}}}, \"per_domain_accuracy\": {\"3\": {\"accuracy\": 0.9108974358974359, \"source?\": true}, \"2\": {\"accuracy\": 0.8512820512820513, \"source?\": false}, \"4\": {\"accuracy\": 0.8301282051282052, \"source?\": false}, \"1\": {\"accuracy\": 0.8596153846153847, \"source?\": false}}}, \"history\": {\"epoch_indices\": [1, 2, 3, 4, 5, 6, 7, 8, 9, 10, 11, 12, 13, 14, 15, 16, 17, 18, 19, 20, 21, 22, 23], \"train_label_loss\": [2.829600180476322, 2.5380560605474707, 1.692733389499199, 1.3411339738403893, 1.2209764515176957, 1.0123743437732637, 0.8403994617218766, 0.7807536779454933, 0.7018108489931238, 0.6902302942582114, 0.6278757980982063, 0.5618185533146335, 0.5552885948378941, 0.540010208996971, 0.48096474025551617, 0.53410508217491, 0.47375737947537677, 0.44188872769155074, 0.40271068599843673, 0.4473289512866824, 0.4207001195374092, 0.4458982263787304, 0.3692032415218947], \"source_val_label_loss\": [3.738959196845279, 1.976342424817164, 1.4886915239608127, 1.2911062671936275, 1.1207523930800123, 0.955541805602513, 0.8830501204623731, 0.8405241414037881, 0.8024643007071736, 0.7245080126979584, 0.6850918059213562, 0.6617731383573804, 0.63806715487096, 0.5987392666158353, 0.6084610685329253, 0.5841835102847469, 0.5461292481425127, 0.5754509658096613, 0.5408389713483399, 0.5782277128640302, 0.5593496062072987, 0.5428794576403393, 0.5295395375524101], \"target_val_label_loss\": [3.8075737664440075, 2.1227619574240806, 1.6907406005759638, 1.486163589293374, 1.323564703593915, 1.1868559718792842, 1.1509453533323133, 1.0585949608466905, 1.0528775069624758, 0.9935513877522917, 0.9632501568850254, 0.9614413550379987, 0.9470578012971508, 0.9074496479840862, 0.89705558999679, 0.8607903845571586, 0.8478428823918573, 0.8512554835867769, 0.8197395739300135, 0.8995382115127276, 0.8556004155357739, 0.8739827206349129, 0.8464535759246474], \"source_val_acc_label\": [0.6564102564102564, 0.6801282051282052, 0.7230769230769231, 0.7903846153846154, 0.8166666666666667, 0.8397435897435898, 0.8525641025641025, 0.8602564102564103, 0.8641025641025641, 0.8775641025641026, 0.8814102564102564, 0.8852564102564102, 0.8916666666666667, 0.8993589743589744, 0.9044871794871795, 0.9025641025641026, 0.908974358974359, 0.9044871794871795, 0.9108974358974359, 0.9006410256410257, 0.9032051282051282, 0.9096153846153846, 0.9141025641025641], \"target_val_acc_label\": [0.6247863247863248, 0.6555555555555556, 0.7004273504273504, 0.7414529914529915, 0.7681623931623932, 0.7891025641025641, 0.8047008547008547, 0.8027777777777778, 0.8064102564102564, 0.8217948717948718, 0.819017094017094, 0.8258547008547008, 0.8326923076923077, 0.8311965811965812, 0.8367521367521368, 0.8408119658119658, 0.8414529914529915, 0.8423076923076923, 0.847008547008547, 0.8358974358974359, 0.8365384615384616, 0.8435897435897436, 0.8455128205128205]}, \"dataset_metrics\": {\"source\": {\"train\": {\"n_unique_x\": 9100, \"n_unique_y\": 130, \"n_batch/episode\": 14}, \"val\": {\"n_unique_x\": 1950, \"n_unique_y\": 130, \"n_batch/episode\": 6}, \"test\": {\"n_unique_x\": 1950, \"n_unique_y\": 130, \"n_batch/episode\": 6}}, \"target\": {\"train\": {\"n_unique_x\": 27300, \"n_unique_y\": 130, \"n_batch/episode\": 42}, \"val\": {\"n_unique_x\": 5850, \"n_unique_y\": 130, \"n_batch/episode\": 18}, \"test\": {\"n_unique_x\": 5850, \"n_unique_y\": 130, \"n_batch/episode\": 18}}}}'"
      ]
     },
     "execution_count": 20,
     "metadata": {},
     "output_type": "execute_result"
    }
   ],
   "source": [
    "json.dumps(experiment)"
   ]
  }
 ],
 "metadata": {
  "celltoolbar": "Tags",
  "kernelspec": {
   "display_name": "Python 3 (ipykernel)",
   "language": "python",
   "name": "python3"
  },
  "language_info": {
   "codemirror_mode": {
    "name": "ipython",
    "version": 3
   },
   "file_extension": ".py",
   "mimetype": "text/x-python",
   "name": "python",
   "nbconvert_exporter": "python",
   "pygments_lexer": "ipython3",
   "version": "3.8.10"
  },
  "papermill": {
   "default_parameters": {},
   "duration": 941.951106,
   "end_time": "2022-03-02T14:13:57.316701",
   "environment_variables": {},
   "exception": null,
   "input_path": "/mnt/wd500GB/CSC500/csc500-main/csc500-notebooks/templates/ptn_template.ipynb",
   "output_path": "trial.ipynb",
   "parameters": {
    "parameters": {
     "BEST_MODEL_PATH": "./best_model.pth",
     "NUM_LOGS_PER_EPOCH": 10,
     "criteria_for_best": "target_loss",
     "dataset_seed": 1337,
     "device": "cuda",
     "domains_source": [
      3
     ],
     "domains_target": [
      1,
      2,
      4
     ],
     "episode_transforms_source": [],
     "episode_transforms_target": [],
     "experiment_name": "baseline_ptn_wisig",
     "labels_source": [
      "1-10",
      "1-12",
      "1-14",
      "1-16",
      "1-18",
      "1-19",
      "1-8",
      "10-11",
      "10-17",
      "10-4",
      "10-7",
      "11-1",
      "11-10",
      "11-19",
      "11-20",
      "11-4",
      "11-7",
      "12-19",
      "12-20",
      "12-7",
      "13-14",
      "13-18",
      "13-19",
      "13-20",
      "13-3",
      "13-7",
      "14-10",
      "14-11",
      "14-12",
      "14-13",
      "14-14",
      "14-19",
      "14-20",
      "14-7",
      "14-8",
      "14-9",
      "15-1",
      "15-19",
      "15-6",
      "16-1",
      "16-16",
      "16-19",
      "16-20",
      "17-10",
      "17-11",
      "18-1",
      "18-10",
      "18-11",
      "18-12",
      "18-13",
      "18-14",
      "18-15",
      "18-16",
      "18-17",
      "18-19",
      "18-2",
      "18-20",
      "18-4",
      "18-5",
      "18-7",
      "18-8",
      "18-9",
      "19-1",
      "19-10",
      "19-11",
      "19-12",
      "19-13",
      "19-14",
      "19-15",
      "19-19",
      "19-2",
      "19-20",
      "19-3",
      "19-4",
      "19-6",
      "19-7",
      "19-8",
      "19-9",
      "2-1",
      "2-13",
      "2-15",
      "2-3",
      "2-4",
      "2-5",
      "2-6",
      "2-7",
      "2-8",
      "20-1",
      "20-12",
      "20-14",
      "20-15",
      "20-16",
      "20-18",
      "20-19",
      "20-20",
      "20-3",
      "20-4",
      "20-5",
      "20-7",
      "20-8",
      "3-1",
      "3-13",
      "3-18",
      "3-2",
      "3-8",
      "4-1",
      "4-10",
      "4-11",
      "5-1",
      "5-5",
      "6-1",
      "6-15",
      "6-6",
      "7-10",
      "7-11",
      "7-12",
      "7-13",
      "7-14",
      "7-7",
      "7-8",
      "7-9",
      "8-1",
      "8-13",
      "8-14",
      "8-18",
      "8-20",
      "8-3",
      "8-8",
      "9-1",
      "9-7"
     ],
     "labels_target": [
      "1-10",
      "1-12",
      "1-14",
      "1-16",
      "1-18",
      "1-19",
      "1-8",
      "10-11",
      "10-17",
      "10-4",
      "10-7",
      "11-1",
      "11-10",
      "11-19",
      "11-20",
      "11-4",
      "11-7",
      "12-19",
      "12-20",
      "12-7",
      "13-14",
      "13-18",
      "13-19",
      "13-20",
      "13-3",
      "13-7",
      "14-10",
      "14-11",
      "14-12",
      "14-13",
      "14-14",
      "14-19",
      "14-20",
      "14-7",
      "14-8",
      "14-9",
      "15-1",
      "15-19",
      "15-6",
      "16-1",
      "16-16",
      "16-19",
      "16-20",
      "17-10",
      "17-11",
      "18-1",
      "18-10",
      "18-11",
      "18-12",
      "18-13",
      "18-14",
      "18-15",
      "18-16",
      "18-17",
      "18-19",
      "18-2",
      "18-20",
      "18-4",
      "18-5",
      "18-7",
      "18-8",
      "18-9",
      "19-1",
      "19-10",
      "19-11",
      "19-12",
      "19-13",
      "19-14",
      "19-15",
      "19-19",
      "19-2",
      "19-20",
      "19-3",
      "19-4",
      "19-6",
      "19-7",
      "19-8",
      "19-9",
      "2-1",
      "2-13",
      "2-15",
      "2-3",
      "2-4",
      "2-5",
      "2-6",
      "2-7",
      "2-8",
      "20-1",
      "20-12",
      "20-14",
      "20-15",
      "20-16",
      "20-18",
      "20-19",
      "20-20",
      "20-3",
      "20-4",
      "20-5",
      "20-7",
      "20-8",
      "3-1",
      "3-13",
      "3-18",
      "3-2",
      "3-8",
      "4-1",
      "4-10",
      "4-11",
      "5-1",
      "5-5",
      "6-1",
      "6-15",
      "6-6",
      "7-10",
      "7-11",
      "7-12",
      "7-13",
      "7-14",
      "7-7",
      "7-8",
      "7-9",
      "8-1",
      "8-13",
      "8-14",
      "8-18",
      "8-20",
      "8-3",
      "8-8",
      "9-1",
      "9-7"
     ],
     "lr": 0.001,
     "n_epoch": 50,
     "n_query": 2,
     "n_shot": 3,
     "n_way": 130,
     "num_examples_per_domain_per_label_source": 100,
     "num_examples_per_domain_per_label_target": 100,
     "patience": 3,
     "pickle_name": "wisig.node3-19.stratified_ds.2022A.pkl",
     "seed": 1337,
     "test_k_factor": 2,
     "torch_default_dtype": "torch.float64",
     "train_k_factor": 1,
     "val_k_factor": 2,
     "x_net": [
      {
       "class": "nnReshape",
       "kargs": {
        "shape": [
         -1,
         1,
         2,
         256
        ]
       }
      },
      {
       "class": "Conv2d",
       "kargs": {
        "bias": false,
        "in_channels": 1,
        "kernel_size": [
         1,
         7
        ],
        "out_channels": 256,
        "padding": [
         0,
         3
        ]
       }
      },
      {
       "class": "ReLU",
       "kargs": {
        "inplace": true
       }
      },
      {
       "class": "BatchNorm2d",
       "kargs": {
        "num_features": 256
       }
      },
      {
       "class": "Conv2d",
       "kargs": {
        "bias": true,
        "in_channels": 256,
        "kernel_size": [
         2,
         7
        ],
        "out_channels": 80,
        "padding": [
         0,
         3
        ]
       }
      },
      {
       "class": "ReLU",
       "kargs": {
        "inplace": true
       }
      },
      {
       "class": "BatchNorm2d",
       "kargs": {
        "num_features": 80
       }
      },
      {
       "class": "Flatten",
       "kargs": {}
      },
      {
       "class": "Linear",
       "kargs": {
        "in_features": 20480,
        "out_features": 256
       }
      },
      {
       "class": "ReLU",
       "kargs": {
        "inplace": true
       }
      },
      {
       "class": "BatchNorm1d",
       "kargs": {
        "num_features": 256
       }
      },
      {
       "class": "Linear",
       "kargs": {
        "in_features": 256,
        "out_features": 256
       }
      }
     ],
     "x_transforms_source": [],
     "x_transforms_target": []
    }
   },
   "start_time": "2022-03-02T13:58:15.365595",
   "version": "2.3.4"
  }
 },
 "nbformat": 4,
 "nbformat_minor": 5
}