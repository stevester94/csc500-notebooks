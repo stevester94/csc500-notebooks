{
 "cells": [
  {
   "cell_type": "markdown",
   "id": "9fea5f46",
   "metadata": {
    "papermill": {
     "duration": 0.014572,
     "end_time": "2022-03-02T05:17:31.773619",
     "exception": false,
     "start_time": "2022-03-02T05:17:31.759047",
     "status": "completed"
    },
    "tags": []
   },
   "source": [
    "# PTN Template\n",
    "This notebook serves as a template for single dataset PTN experiments  \n",
    "It can be run on its own by setting STANDALONE to True (do a find for \"STANDALONE\" to see where)  \n",
    "But it is intended to be executed as part of a *papermill.py script. See any of the   \n",
    "experimentes with a papermill script to get started with that workflow.  "
   ]
  },
  {
   "cell_type": "code",
   "execution_count": 1,
   "id": "0902182a",
   "metadata": {
    "execution": {
     "iopub.execute_input": "2022-03-02T05:17:31.808304Z",
     "iopub.status.busy": "2022-03-02T05:17:31.807821Z",
     "iopub.status.idle": "2022-03-02T05:17:32.529921Z",
     "shell.execute_reply": "2022-03-02T05:17:32.530304Z"
    },
    "papermill": {
     "duration": 0.747527,
     "end_time": "2022-03-02T05:17:32.530506",
     "exception": false,
     "start_time": "2022-03-02T05:17:31.782979",
     "status": "completed"
    },
    "tags": []
   },
   "outputs": [],
   "source": [
    "%load_ext autoreload\n",
    "%autoreload 2\n",
    "%matplotlib inline\n",
    "\n",
    "    \n",
    "import os, json, sys, time, random\n",
    "import numpy as np\n",
    "import torch\n",
    "from torch.optim import Adam\n",
    "from  easydict import EasyDict\n",
    "import matplotlib.pyplot as plt\n",
    "\n",
    "from steves_models.steves_ptn import Steves_Prototypical_Network\n",
    "\n",
    "from steves_utils.lazy_iterable_wrapper import Lazy_Iterable_Wrapper\n",
    "from steves_utils.iterable_aggregator import Iterable_Aggregator\n",
    "from steves_utils.ptn_train_eval_test_jig import  PTN_Train_Eval_Test_Jig\n",
    "from steves_utils.torch_sequential_builder import build_sequential\n",
    "from steves_utils.torch_utils import get_dataset_metrics, ptn_confusion_by_domain_over_dataloader\n",
    "from steves_utils.utils_v2 import (per_domain_accuracy_from_confusion, get_datasets_base_path)\n",
    "from steves_utils.PTN.utils import independent_accuracy_assesment\n",
    "\n",
    "from steves_utils.stratified_dataset.episodic_accessor import Episodic_Accessor_Factory\n",
    "\n",
    "from steves_utils.ptn_do_report import (\n",
    "    get_loss_curve,\n",
    "    get_results_table,\n",
    "    get_parameters_table,\n",
    "    get_domain_accuracies,\n",
    ")\n",
    "\n",
    "from steves_utils.transforms import get_chained_transform"
   ]
  },
  {
   "cell_type": "markdown",
   "id": "41c840b4",
   "metadata": {
    "papermill": {
     "duration": 0.009133,
     "end_time": "2022-03-02T05:17:32.555376",
     "exception": false,
     "start_time": "2022-03-02T05:17:32.546243",
     "status": "completed"
    },
    "tags": []
   },
   "source": [
    "# Required Parameters\n",
    "These are allowed parameters, not defaults\n",
    "Each of these values need to be present in the injected parameters (the notebook will raise an exception if they are not present)\n",
    "\n",
    "Papermill uses the cell tag \"parameters\" to inject the real parameters below this cell.\n",
    "Enable tags to see what I mean"
   ]
  },
  {
   "cell_type": "code",
   "execution_count": 2,
   "id": "fd44eb83",
   "metadata": {
    "execution": {
     "iopub.execute_input": "2022-03-02T05:17:32.577721Z",
     "iopub.status.busy": "2022-03-02T05:17:32.575711Z",
     "iopub.status.idle": "2022-03-02T05:17:32.588867Z",
     "shell.execute_reply": "2022-03-02T05:17:32.589166Z"
    },
    "papermill": {
     "duration": 0.024479,
     "end_time": "2022-03-02T05:17:32.589253",
     "exception": false,
     "start_time": "2022-03-02T05:17:32.564774",
     "status": "completed"
    },
    "tags": []
   },
   "outputs": [],
   "source": [
    "required_parameters = {\n",
    "    \"experiment_name\",\n",
    "    \"lr\",\n",
    "    \"device\",\n",
    "    \"seed\",\n",
    "    \"dataset_seed\",\n",
    "    \"labels_source\",\n",
    "    \"labels_target\",\n",
    "    \"domains_source\",\n",
    "    \"domains_target\",\n",
    "    \"num_examples_per_domain_per_label_source\",\n",
    "    \"num_examples_per_domain_per_label_target\",\n",
    "    \"n_shot\",\n",
    "    \"n_way\",\n",
    "    \"n_query\",\n",
    "    \"train_k_factor\",\n",
    "    \"val_k_factor\",\n",
    "    \"test_k_factor\",\n",
    "    \"n_epoch\",\n",
    "    \"patience\",\n",
    "    \"criteria_for_best\",\n",
    "    \"x_transforms_source\",\n",
    "    \"x_transforms_target\",\n",
    "    \"episode_transforms_source\",\n",
    "    \"episode_transforms_target\",\n",
    "    \"pickle_name\",\n",
    "    \"x_net\",\n",
    "    \"NUM_LOGS_PER_EPOCH\",\n",
    "    \"BEST_MODEL_PATH\",\n",
    "    \"torch_default_dtype\"\n",
    "}"
   ]
  },
  {
   "cell_type": "code",
   "execution_count": 3,
   "id": "fa3f0049",
   "metadata": {
    "execution": {
     "iopub.execute_input": "2022-03-02T05:17:32.622164Z",
     "iopub.status.busy": "2022-03-02T05:17:32.613787Z",
     "iopub.status.idle": "2022-03-02T05:17:32.631996Z",
     "shell.execute_reply": "2022-03-02T05:17:32.632346Z"
    },
    "papermill": {
     "duration": 0.030279,
     "end_time": "2022-03-02T05:17:32.632452",
     "exception": false,
     "start_time": "2022-03-02T05:17:32.602173",
     "status": "completed"
    },
    "tags": [
     "parameters"
    ]
   },
   "outputs": [],
   "source": [
    "\n",
    "\n",
    "standalone_parameters = {}\n",
    "standalone_parameters[\"experiment_name\"] = \"STANDALONE PTN\"\n",
    "standalone_parameters[\"lr\"] = 0.0001\n",
    "standalone_parameters[\"device\"] = \"cuda\"\n",
    "\n",
    "standalone_parameters[\"seed\"] = 1337\n",
    "standalone_parameters[\"dataset_seed\"] = 1337\n",
    "\n",
    "\n",
    "standalone_parameters[\"num_examples_per_domain_per_label_source\"]=100\n",
    "standalone_parameters[\"num_examples_per_domain_per_label_target\"]=100\n",
    "\n",
    "standalone_parameters[\"n_shot\"] = 3\n",
    "standalone_parameters[\"n_query\"]  = 2\n",
    "standalone_parameters[\"train_k_factor\"] = 1\n",
    "standalone_parameters[\"val_k_factor\"] = 2\n",
    "standalone_parameters[\"test_k_factor\"] = 2\n",
    "\n",
    "\n",
    "standalone_parameters[\"n_epoch\"] = 100\n",
    "\n",
    "standalone_parameters[\"patience\"] = 10\n",
    "standalone_parameters[\"criteria_for_best\"] = \"target_accuracy\"\n",
    "\n",
    "standalone_parameters[\"x_transforms_source\"] = [\"unit_power\"]\n",
    "standalone_parameters[\"x_transforms_target\"] = [\"unit_power\"]\n",
    "standalone_parameters[\"episode_transforms_source\"] = []\n",
    "standalone_parameters[\"episode_transforms_target\"] = []\n",
    "\n",
    "standalone_parameters[\"torch_default_dtype\"] = \"torch.float32\" \n",
    "\n",
    "\n",
    "\n",
    "standalone_parameters[\"x_net\"] =     [\n",
    "    {\"class\": \"nnReshape\", \"kargs\": {\"shape\":[-1, 1, 2, 256]}},\n",
    "    {\"class\": \"Conv2d\", \"kargs\": { \"in_channels\":1, \"out_channels\":256, \"kernel_size\":(1,7), \"bias\":False, \"padding\":(0,3), },},\n",
    "    {\"class\": \"ReLU\", \"kargs\": {\"inplace\": True}},\n",
    "    {\"class\": \"BatchNorm2d\", \"kargs\": {\"num_features\":256}},\n",
    "\n",
    "    {\"class\": \"Conv2d\", \"kargs\": { \"in_channels\":256, \"out_channels\":80, \"kernel_size\":(2,7), \"bias\":True, \"padding\":(0,3), },},\n",
    "    {\"class\": \"ReLU\", \"kargs\": {\"inplace\": True}},\n",
    "    {\"class\": \"BatchNorm2d\", \"kargs\": {\"num_features\":80}},\n",
    "    {\"class\": \"Flatten\", \"kargs\": {}},\n",
    "\n",
    "    {\"class\": \"Linear\", \"kargs\": {\"in_features\": 80*256, \"out_features\": 256}}, # 80 units per IQ pair\n",
    "    {\"class\": \"ReLU\", \"kargs\": {\"inplace\": True}},\n",
    "    {\"class\": \"BatchNorm1d\", \"kargs\": {\"num_features\":256}},\n",
    "\n",
    "    {\"class\": \"Linear\", \"kargs\": {\"in_features\": 256, \"out_features\": 256}},\n",
    "]\n",
    "\n",
    "# Parameters relevant to results\n",
    "# These parameters will basically never need to change\n",
    "standalone_parameters[\"NUM_LOGS_PER_EPOCH\"] = 10\n",
    "standalone_parameters[\"BEST_MODEL_PATH\"] = \"./best_model.pth\"\n",
    "\n",
    "# uncomment for CORES dataset\n",
    "from steves_utils.CORES.utils import (\n",
    "    ALL_NODES,\n",
    "    ALL_NODES_MINIMUM_1000_EXAMPLES,\n",
    "    ALL_DAYS\n",
    ")\n",
    "\n",
    "\n",
    "standalone_parameters[\"labels_source\"] = ALL_NODES\n",
    "standalone_parameters[\"labels_target\"] = ALL_NODES\n",
    "\n",
    "standalone_parameters[\"domains_source\"] = [1]\n",
    "standalone_parameters[\"domains_target\"] = [2,3,4,5]\n",
    "\n",
    "standalone_parameters[\"pickle_name\"] = \"cores.stratified_ds.2022A.pkl\"\n",
    "\n",
    "\n",
    "# Uncomment these for ORACLE dataset\n",
    "# from steves_utils.ORACLE.utils_v2 import (\n",
    "#     ALL_DISTANCES_FEET,\n",
    "#     ALL_RUNS,\n",
    "#     ALL_SERIAL_NUMBERS,\n",
    "# )\n",
    "# standalone_parameters[\"labels_source\"] = ALL_SERIAL_NUMBERS\n",
    "# standalone_parameters[\"labels_target\"] = ALL_SERIAL_NUMBERS\n",
    "# standalone_parameters[\"domains_source\"] = [8,20, 38,50]\n",
    "# standalone_parameters[\"domains_target\"] = [14, 26, 32, 44, 56]\n",
    "# standalone_parameters[\"pickle_name\"] = \"oracle.frame_indexed.stratified_ds.2022A.pkl\"\n",
    "# standalone_parameters[\"num_examples_per_domain_per_label_source\"]=1000\n",
    "# standalone_parameters[\"num_examples_per_domain_per_label_target\"]=1000\n",
    "\n",
    "# Uncomment these for Metahan dataset\n",
    "# standalone_parameters[\"labels_source\"] = list(range(19))\n",
    "# standalone_parameters[\"labels_target\"] = list(range(19))\n",
    "# standalone_parameters[\"domains_source\"] = [0]\n",
    "# standalone_parameters[\"domains_target\"] = [1]\n",
    "# standalone_parameters[\"pickle_name\"] = \"metehan.stratified_ds.2022A.pkl\"\n",
    "# standalone_parameters[\"n_way\"]  = len(standalone_parameters[\"labels_source\"])\n",
    "# standalone_parameters[\"num_examples_per_domain_per_label_source\"]=200\n",
    "# standalone_parameters[\"num_examples_per_domain_per_label_target\"]=100\n",
    "\n",
    "\n",
    "standalone_parameters[\"n_way\"]  = len(standalone_parameters[\"labels_source\"])"
   ]
  },
  {
   "cell_type": "code",
   "execution_count": 4,
   "id": "3287ebf1",
   "metadata": {
    "execution": {
     "iopub.execute_input": "2022-03-02T05:17:32.664638Z",
     "iopub.status.busy": "2022-03-02T05:17:32.664126Z",
     "iopub.status.idle": "2022-03-02T05:17:32.676303Z",
     "shell.execute_reply": "2022-03-02T05:17:32.676707Z"
    },
    "papermill": {
     "duration": 0.029831,
     "end_time": "2022-03-02T05:17:32.676830",
     "exception": false,
     "start_time": "2022-03-02T05:17:32.646999",
     "status": "completed"
    },
    "tags": [
     "injected-parameters"
    ]
   },
   "outputs": [],
   "source": [
    "# Parameters\n",
    "parameters = {\n",
    "    \"experiment_name\": \"baseline_ptn_oracle.run1\",\n",
    "    \"lr\": 0.001,\n",
    "    \"device\": \"cuda\",\n",
    "    \"seed\": 1337,\n",
    "    \"dataset_seed\": 1337,\n",
    "    \"labels_source\": [\n",
    "        \"3123D52\",\n",
    "        \"3123D65\",\n",
    "        \"3123D79\",\n",
    "        \"3123D80\",\n",
    "        \"3123D54\",\n",
    "        \"3123D70\",\n",
    "        \"3123D7B\",\n",
    "        \"3123D89\",\n",
    "        \"3123D58\",\n",
    "        \"3123D76\",\n",
    "        \"3123D7D\",\n",
    "        \"3123EFE\",\n",
    "        \"3123D64\",\n",
    "        \"3123D78\",\n",
    "        \"3123D7E\",\n",
    "        \"3124E4A\",\n",
    "    ],\n",
    "    \"labels_target\": [\n",
    "        \"3123D52\",\n",
    "        \"3123D65\",\n",
    "        \"3123D79\",\n",
    "        \"3123D80\",\n",
    "        \"3123D54\",\n",
    "        \"3123D70\",\n",
    "        \"3123D7B\",\n",
    "        \"3123D89\",\n",
    "        \"3123D58\",\n",
    "        \"3123D76\",\n",
    "        \"3123D7D\",\n",
    "        \"3123EFE\",\n",
    "        \"3123D64\",\n",
    "        \"3123D78\",\n",
    "        \"3123D7E\",\n",
    "        \"3124E4A\",\n",
    "    ],\n",
    "    \"x_transforms_source\": [],\n",
    "    \"x_transforms_target\": [],\n",
    "    \"episode_transforms_source\": [],\n",
    "    \"episode_transforms_target\": [],\n",
    "    \"num_examples_per_domain_per_label_source\": 1000,\n",
    "    \"num_examples_per_domain_per_label_target\": 1000,\n",
    "    \"n_shot\": 3,\n",
    "    \"n_way\": 16,\n",
    "    \"n_query\": 2,\n",
    "    \"train_k_factor\": 1,\n",
    "    \"val_k_factor\": 2,\n",
    "    \"test_k_factor\": 2,\n",
    "    \"torch_default_dtype\": \"torch.float64\",\n",
    "    \"n_epoch\": 50,\n",
    "    \"patience\": 3,\n",
    "    \"criteria_for_best\": \"target_loss\",\n",
    "    \"x_net\": [\n",
    "        {\"class\": \"nnReshape\", \"kargs\": {\"shape\": [-1, 1, 2, 256]}},\n",
    "        {\n",
    "            \"class\": \"Conv2d\",\n",
    "            \"kargs\": {\n",
    "                \"in_channels\": 1,\n",
    "                \"out_channels\": 256,\n",
    "                \"kernel_size\": [1, 7],\n",
    "                \"bias\": False,\n",
    "                \"padding\": [0, 3],\n",
    "            },\n",
    "        },\n",
    "        {\"class\": \"ReLU\", \"kargs\": {\"inplace\": True}},\n",
    "        {\"class\": \"BatchNorm2d\", \"kargs\": {\"num_features\": 256}},\n",
    "        {\n",
    "            \"class\": \"Conv2d\",\n",
    "            \"kargs\": {\n",
    "                \"in_channels\": 256,\n",
    "                \"out_channels\": 80,\n",
    "                \"kernel_size\": [2, 7],\n",
    "                \"bias\": True,\n",
    "                \"padding\": [0, 3],\n",
    "            },\n",
    "        },\n",
    "        {\"class\": \"ReLU\", \"kargs\": {\"inplace\": True}},\n",
    "        {\"class\": \"BatchNorm2d\", \"kargs\": {\"num_features\": 80}},\n",
    "        {\"class\": \"Flatten\", \"kargs\": {}},\n",
    "        {\"class\": \"Linear\", \"kargs\": {\"in_features\": 20480, \"out_features\": 256}},\n",
    "        {\"class\": \"ReLU\", \"kargs\": {\"inplace\": True}},\n",
    "        {\"class\": \"BatchNorm1d\", \"kargs\": {\"num_features\": 256}},\n",
    "        {\"class\": \"Linear\", \"kargs\": {\"in_features\": 256, \"out_features\": 256}},\n",
    "    ],\n",
    "    \"NUM_LOGS_PER_EPOCH\": 10,\n",
    "    \"BEST_MODEL_PATH\": \"./best_model.pth\",\n",
    "    \"pickle_name\": \"oracle.Run1_10kExamples_stratified_ds.2022A.pkl\",\n",
    "    \"domains_source\": [8, 32, 50],\n",
    "    \"domains_target\": [14, 20, 26, 38, 44],\n",
    "}\n"
   ]
  },
  {
   "cell_type": "code",
   "execution_count": 5,
   "id": "8fa1cc33",
   "metadata": {
    "execution": {
     "iopub.execute_input": "2022-03-02T05:17:32.703168Z",
     "iopub.status.busy": "2022-03-02T05:17:32.702888Z",
     "iopub.status.idle": "2022-03-02T05:17:32.714231Z",
     "shell.execute_reply": "2022-03-02T05:17:32.714581Z"
    },
    "papermill": {
     "duration": 0.024731,
     "end_time": "2022-03-02T05:17:32.714687",
     "exception": false,
     "start_time": "2022-03-02T05:17:32.689956",
     "status": "completed"
    },
    "tags": []
   },
   "outputs": [],
   "source": [
    "# Set this to True if you want to run this template directly\n",
    "STANDALONE = False\n",
    "if STANDALONE:\n",
    "    print(\"parameters not injected, running with standalone_parameters\")\n",
    "    parameters = standalone_parameters\n",
    "\n",
    "if not 'parameters' in locals() and not 'parameters' in globals():\n",
    "    raise Exception(\"Parameter injection failed\")\n",
    "\n",
    "#Use an easy dict for all the parameters\n",
    "p = EasyDict(parameters)\n",
    "\n",
    "supplied_keys = set(p.keys())\n",
    "\n",
    "if  supplied_keys != required_parameters:\n",
    "    print(\"Parameters are incorrect\")\n",
    "    if len(supplied_keys - required_parameters)>0: print(\"Shouldn't have:\", str(supplied_keys - required_parameters))\n",
    "    if len(required_parameters - supplied_keys)>0: print(\"Need to have:\", str(required_parameters - supplied_keys))\n",
    "    raise RuntimeError(\"Parameters are incorrect\")\n",
    "\n"
   ]
  },
  {
   "cell_type": "code",
   "execution_count": 6,
   "id": "3a028d58",
   "metadata": {
    "execution": {
     "iopub.execute_input": "2022-03-02T05:17:32.740381Z",
     "iopub.status.busy": "2022-03-02T05:17:32.740128Z",
     "iopub.status.idle": "2022-03-02T05:17:32.752123Z",
     "shell.execute_reply": "2022-03-02T05:17:32.752412Z"
    },
    "papermill": {
     "duration": 0.024312,
     "end_time": "2022-03-02T05:17:32.752494",
     "exception": false,
     "start_time": "2022-03-02T05:17:32.728182",
     "status": "completed"
    },
    "tags": []
   },
   "outputs": [],
   "source": [
    "###################################\n",
    "# Set the RNGs and make it all deterministic\n",
    "###################################\n",
    "np.random.seed(p.seed)\n",
    "random.seed(p.seed)\n",
    "torch.manual_seed(p.seed)\n",
    "\n",
    "torch.use_deterministic_algorithms(True) "
   ]
  },
  {
   "cell_type": "code",
   "execution_count": 7,
   "id": "b691acf6",
   "metadata": {
    "execution": {
     "iopub.execute_input": "2022-03-02T05:17:32.778974Z",
     "iopub.status.busy": "2022-03-02T05:17:32.778542Z",
     "iopub.status.idle": "2022-03-02T05:17:32.791225Z",
     "shell.execute_reply": "2022-03-02T05:17:32.790970Z"
    },
    "papermill": {
     "duration": 0.025093,
     "end_time": "2022-03-02T05:17:32.791274",
     "exception": false,
     "start_time": "2022-03-02T05:17:32.766181",
     "status": "completed"
    },
    "tags": []
   },
   "outputs": [],
   "source": [
    "###########################################\n",
    "# The stratified datasets honor this\n",
    "###########################################\n",
    "torch.set_default_dtype(eval(p.torch_default_dtype))"
   ]
  },
  {
   "cell_type": "code",
   "execution_count": 8,
   "id": "b5fba671",
   "metadata": {
    "execution": {
     "iopub.execute_input": "2022-03-02T05:17:32.815799Z",
     "iopub.status.busy": "2022-03-02T05:17:32.815542Z",
     "iopub.status.idle": "2022-03-02T05:17:32.868886Z",
     "shell.execute_reply": "2022-03-02T05:17:32.868493Z"
    },
    "papermill": {
     "duration": 0.064353,
     "end_time": "2022-03-02T05:17:32.868975",
     "exception": false,
     "start_time": "2022-03-02T05:17:32.804622",
     "status": "completed"
    },
    "tags": []
   },
   "outputs": [],
   "source": [
    "###################################\n",
    "# Build the network(s)\n",
    "# Note: It's critical to do this AFTER setting the RNG\n",
    "# (This is due to the randomized initial weights)\n",
    "###################################\n",
    "x_net = build_sequential(p.x_net)"
   ]
  },
  {
   "cell_type": "code",
   "execution_count": 9,
   "id": "5d7e61cc",
   "metadata": {
    "execution": {
     "iopub.execute_input": "2022-03-02T05:17:32.895080Z",
     "iopub.status.busy": "2022-03-02T05:17:32.894830Z",
     "iopub.status.idle": "2022-03-02T05:17:32.906625Z",
     "shell.execute_reply": "2022-03-02T05:17:32.906383Z"
    },
    "papermill": {
     "duration": 0.022935,
     "end_time": "2022-03-02T05:17:32.906674",
     "exception": false,
     "start_time": "2022-03-02T05:17:32.883739",
     "status": "completed"
    },
    "tags": []
   },
   "outputs": [],
   "source": [
    "start_time_secs = time.time()"
   ]
  },
  {
   "cell_type": "code",
   "execution_count": 10,
   "id": "fd5442bc",
   "metadata": {
    "execution": {
     "iopub.execute_input": "2022-03-02T05:17:32.937372Z",
     "iopub.status.busy": "2022-03-02T05:17:32.936995Z",
     "iopub.status.idle": "2022-03-02T05:17:36.197180Z",
     "shell.execute_reply": "2022-03-02T05:17:36.196752Z"
    },
    "papermill": {
     "duration": 3.276693,
     "end_time": "2022-03-02T05:17:36.197281",
     "exception": false,
     "start_time": "2022-03-02T05:17:32.920588",
     "status": "completed"
    },
    "tags": []
   },
   "outputs": [],
   "source": [
    "###################################\n",
    "# Build the dataset\n",
    "###################################\n",
    "\n",
    "if p.x_transforms_source == []: x_transform_source = None\n",
    "else: x_transform_source = get_chained_transform(p.x_transforms_source) \n",
    "\n",
    "if p.x_transforms_target == []: x_transform_target = None\n",
    "else: x_transform_target = get_chained_transform(p.x_transforms_target)\n",
    "\n",
    "if p.episode_transforms_source == []: episode_transform_source = None\n",
    "else: raise Exception(\"episode_transform_source not implemented\")\n",
    "\n",
    "if p.episode_transforms_target == []: episode_transform_target = None\n",
    "else: raise Exception(\"episode_transform_target not implemented\")\n",
    "\n",
    "\n",
    "eaf_source = Episodic_Accessor_Factory(\n",
    "    labels=p.labels_source,\n",
    "    domains=p.domains_source,\n",
    "    num_examples_per_domain_per_label=p.num_examples_per_domain_per_label_source,\n",
    "    iterator_seed=p.seed,\n",
    "    dataset_seed=p.dataset_seed,\n",
    "    n_shot=p.n_shot,\n",
    "    n_way=p.n_way,\n",
    "    n_query=p.n_query,\n",
    "    train_val_test_k_factors=(p.train_k_factor,p.val_k_factor,p.test_k_factor),\n",
    "    pickle_path=os.path.join(get_datasets_base_path(), p.pickle_name),\n",
    "    x_transform_func=x_transform_source,\n",
    "    example_transform_func=episode_transform_source,\n",
    "    \n",
    ")\n",
    "train_original_source, val_original_source, test_original_source = eaf_source.get_train(), eaf_source.get_val(), eaf_source.get_test()\n",
    "\n",
    "\n",
    "eaf_target = Episodic_Accessor_Factory(\n",
    "    labels=p.labels_target,\n",
    "    domains=p.domains_target,\n",
    "    num_examples_per_domain_per_label=p.num_examples_per_domain_per_label_target,\n",
    "    iterator_seed=p.seed,\n",
    "    dataset_seed=p.dataset_seed,\n",
    "    n_shot=p.n_shot,\n",
    "    n_way=p.n_way,\n",
    "    n_query=p.n_query,\n",
    "    train_val_test_k_factors=(p.train_k_factor,p.val_k_factor,p.test_k_factor),\n",
    "    pickle_path=os.path.join(get_datasets_base_path(), p.pickle_name),\n",
    "    x_transform_func=x_transform_target,\n",
    "    example_transform_func=episode_transform_target,\n",
    ")\n",
    "train_original_target, val_original_target, test_original_target = eaf_target.get_train(), eaf_target.get_val(), eaf_target.get_test()\n",
    "\n",
    "\n",
    "transform_lambda = lambda ex: ex[1] # Original is (<domain>, <episode>) so we strip down to episode only\n",
    "\n",
    "train_processed_source = Lazy_Iterable_Wrapper(train_original_source, transform_lambda)\n",
    "val_processed_source   = Lazy_Iterable_Wrapper(val_original_source, transform_lambda)\n",
    "test_processed_source  = Lazy_Iterable_Wrapper(test_original_source, transform_lambda)\n",
    "\n",
    "train_processed_target = Lazy_Iterable_Wrapper(train_original_target, transform_lambda)\n",
    "val_processed_target   = Lazy_Iterable_Wrapper(val_original_target, transform_lambda)\n",
    "test_processed_target  = Lazy_Iterable_Wrapper(test_original_target, transform_lambda)\n",
    "\n",
    "datasets = EasyDict({\n",
    "    \"source\": {\n",
    "        \"original\": {\"train\":train_original_source, \"val\":val_original_source, \"test\":test_original_source},\n",
    "        \"processed\": {\"train\":train_processed_source, \"val\":val_processed_source, \"test\":test_processed_source}\n",
    "    },\n",
    "    \"target\": {\n",
    "        \"original\": {\"train\":train_original_target, \"val\":val_original_target, \"test\":test_original_target},\n",
    "        \"processed\": {\"train\":train_processed_target, \"val\":val_processed_target, \"test\":test_processed_target}\n",
    "    },\n",
    "})"
   ]
  },
  {
   "cell_type": "code",
   "execution_count": 11,
   "id": "296189d9",
   "metadata": {
    "execution": {
     "iopub.execute_input": "2022-03-02T05:17:36.227954Z",
     "iopub.status.busy": "2022-03-02T05:17:36.227697Z",
     "iopub.status.idle": "2022-03-02T05:17:38.750817Z",
     "shell.execute_reply": "2022-03-02T05:17:38.751187Z"
    },
    "papermill": {
     "duration": 2.537494,
     "end_time": "2022-03-02T05:17:38.751314",
     "exception": false,
     "start_time": "2022-03-02T05:17:36.213820",
     "status": "completed"
    },
    "tags": []
   },
   "outputs": [
    {
     "name": "stdout",
     "output_type": "stream",
     "text": [
      "Visually inspect these to see if they line up with expected values given the transforms\n",
      "x_transforms_source []\n",
      "x_transforms_target []\n",
      "Average magnitude, source: 0.004977051690105284\n",
      "Average power, source: 3.101638992976868e-05\n"
     ]
    },
    {
     "name": "stdout",
     "output_type": "stream",
     "text": [
      "Average magnitude, target: 0.0029651736465959332\n",
      "Average power, target: 1.1286619517289292e-05\n"
     ]
    }
   ],
   "source": [
    "# Some quick unit tests on the data\n",
    "from steves_utils.transforms import get_average_power, get_average_magnitude\n",
    "\n",
    "q_x, q_y, s_x, s_y, truth = next(iter(train_processed_source))\n",
    "\n",
    "assert q_x.dtype == eval(p.torch_default_dtype)\n",
    "assert s_x.dtype == eval(p.torch_default_dtype)\n",
    "\n",
    "print(\"Visually inspect these to see if they line up with expected values given the transforms\")\n",
    "print('x_transforms_source', p.x_transforms_source)\n",
    "print('x_transforms_target', p.x_transforms_target)\n",
    "print(\"Average magnitude, source:\", get_average_magnitude(q_x[0].numpy()))\n",
    "print(\"Average power, source:\", get_average_power(q_x[0].numpy()))\n",
    "\n",
    "q_x, q_y, s_x, s_y, truth = next(iter(train_processed_target))\n",
    "print(\"Average magnitude, target:\", get_average_magnitude(q_x[0].numpy()))\n",
    "print(\"Average power, target:\", get_average_power(q_x[0].numpy()))\n"
   ]
  },
  {
   "cell_type": "code",
   "execution_count": 12,
   "id": "bbdacba1",
   "metadata": {
    "execution": {
     "iopub.execute_input": "2022-03-02T05:17:38.779212Z",
     "iopub.status.busy": "2022-03-02T05:17:38.778961Z",
     "iopub.status.idle": "2022-03-02T05:17:38.939838Z",
     "shell.execute_reply": "2022-03-02T05:17:38.939421Z"
    },
    "papermill": {
     "duration": 0.173703,
     "end_time": "2022-03-02T05:17:38.939932",
     "exception": false,
     "start_time": "2022-03-02T05:17:38.766229",
     "status": "completed"
    },
    "tags": []
   },
   "outputs": [
    {
     "name": "stdout",
     "output_type": "stream",
     "text": [
      "(2, 256)\n"
     ]
    }
   ],
   "source": [
    "###################################\n",
    "# Build the model\n",
    "###################################\n",
    "model = Steves_Prototypical_Network(x_net, device=p.device, x_shape=(2,256))\n",
    "optimizer = Adam(params=model.parameters(), lr=p.lr)"
   ]
  },
  {
   "cell_type": "code",
   "execution_count": 13,
   "id": "22b39ac5",
   "metadata": {
    "execution": {
     "iopub.execute_input": "2022-03-02T05:17:38.967255Z",
     "iopub.status.busy": "2022-03-02T05:17:38.966997Z",
     "iopub.status.idle": "2022-03-02T05:51:31.956343Z",
     "shell.execute_reply": "2022-03-02T05:51:31.956110Z"
    },
    "papermill": {
     "duration": 2033.002478,
     "end_time": "2022-03-02T05:51:31.956403",
     "exception": false,
     "start_time": "2022-03-02T05:17:38.953925",
     "status": "completed"
    },
    "tags": []
   },
   "outputs": [
    {
     "name": "stdout",
     "output_type": "stream",
     "text": [
      "epoch: 1, [batch: 1 / 420], examples_per_second: 9.2408, train_label_loss: 2.2608, \n"
     ]
    },
    {
     "name": "stdout",
     "output_type": "stream",
     "text": [
      "epoch: 1, [batch: 42 / 420], examples_per_second: 268.5246, train_label_loss: 1.5101, \n"
     ]
    },
    {
     "name": "stdout",
     "output_type": "stream",
     "text": [
      "epoch: 1, [batch: 84 / 420], examples_per_second: 275.6695, train_label_loss: 1.5106, \n"
     ]
    },
    {
     "name": "stdout",
     "output_type": "stream",
     "text": [
      "epoch: 1, [batch: 126 / 420], examples_per_second: 281.2234, train_label_loss: 1.2842, \n"
     ]
    },
    {
     "name": "stdout",
     "output_type": "stream",
     "text": [
      "epoch: 1, [batch: 168 / 420], examples_per_second: 290.6126, train_label_loss: 1.3559, \n"
     ]
    },
    {
     "name": "stdout",
     "output_type": "stream",
     "text": [
      "epoch: 1, [batch: 210 / 420], examples_per_second: 297.2066, train_label_loss: 1.2672, \n"
     ]
    },
    {
     "name": "stdout",
     "output_type": "stream",
     "text": [
      "epoch: 1, [batch: 252 / 420], examples_per_second: 305.2837, train_label_loss: 1.3842, \n"
     ]
    },
    {
     "name": "stdout",
     "output_type": "stream",
     "text": [
      "epoch: 1, [batch: 294 / 420], examples_per_second: 310.1521, train_label_loss: 1.2614, \n"
     ]
    },
    {
     "name": "stdout",
     "output_type": "stream",
     "text": [
      "epoch: 1, [batch: 336 / 420], examples_per_second: 319.2951, train_label_loss: 1.3048, \n"
     ]
    },
    {
     "name": "stdout",
     "output_type": "stream",
     "text": [
      "epoch: 1, [batch: 378 / 420], examples_per_second: 329.3335, train_label_loss: 1.3481, \n"
     ]
    },
    {
     "name": "stdout",
     "output_type": "stream",
     "text": [
      "=============================================================\n",
      "epoch: 1, source_val_acc_label: 0.4477, target_val_acc_label: 0.3923, source_val_label_loss: 1.6740, target_val_label_loss: 1.7448, \n",
      "=============================================================\n"
     ]
    },
    {
     "name": "stdout",
     "output_type": "stream",
     "text": [
      "New best\n"
     ]
    },
    {
     "name": "stdout",
     "output_type": "stream",
     "text": [
      "epoch: 2, [batch: 1 / 420], examples_per_second: 2.3807, train_label_loss: 1.4709, \n"
     ]
    },
    {
     "name": "stdout",
     "output_type": "stream",
     "text": [
      "epoch: 2, [batch: 42 / 420], examples_per_second: 266.9216, train_label_loss: 1.3323, \n"
     ]
    },
    {
     "name": "stdout",
     "output_type": "stream",
     "text": [
      "epoch: 2, [batch: 84 / 420], examples_per_second: 273.9766, train_label_loss: 1.6143, \n"
     ]
    },
    {
     "name": "stdout",
     "output_type": "stream",
     "text": [
      "epoch: 2, [batch: 126 / 420], examples_per_second: 281.6599, train_label_loss: 1.1384, \n"
     ]
    },
    {
     "name": "stdout",
     "output_type": "stream",
     "text": [
      "epoch: 2, [batch: 168 / 420], examples_per_second: 288.1397, train_label_loss: 1.1385, \n"
     ]
    },
    {
     "name": "stdout",
     "output_type": "stream",
     "text": [
      "epoch: 2, [batch: 210 / 420], examples_per_second: 296.9476, train_label_loss: 1.3862, \n"
     ]
    },
    {
     "name": "stdout",
     "output_type": "stream",
     "text": [
      "epoch: 2, [batch: 252 / 420], examples_per_second: 304.6862, train_label_loss: 1.3330, \n"
     ]
    },
    {
     "name": "stdout",
     "output_type": "stream",
     "text": [
      "epoch: 2, [batch: 294 / 420], examples_per_second: 311.7591, train_label_loss: 1.3333, \n"
     ]
    },
    {
     "name": "stdout",
     "output_type": "stream",
     "text": [
      "epoch: 2, [batch: 336 / 420], examples_per_second: 322.4649, train_label_loss: 1.4976, \n"
     ]
    },
    {
     "name": "stdout",
     "output_type": "stream",
     "text": [
      "epoch: 2, [batch: 378 / 420], examples_per_second: 331.6773, train_label_loss: 1.3076, \n"
     ]
    },
    {
     "name": "stdout",
     "output_type": "stream",
     "text": [
      "=============================================================\n",
      "epoch: 2, source_val_acc_label: 0.4674, target_val_acc_label: 0.3867, source_val_label_loss: 1.2886, target_val_label_loss: 1.6856, \n",
      "=============================================================\n"
     ]
    },
    {
     "name": "stdout",
     "output_type": "stream",
     "text": [
      "New best\n"
     ]
    },
    {
     "name": "stdout",
     "output_type": "stream",
     "text": [
      "epoch: 3, [batch: 1 / 420], examples_per_second: 2.3592, train_label_loss: 1.3502, \n"
     ]
    },
    {
     "name": "stdout",
     "output_type": "stream",
     "text": [
      "epoch: 3, [batch: 42 / 420], examples_per_second: 266.4345, train_label_loss: 1.2738, \n"
     ]
    },
    {
     "name": "stdout",
     "output_type": "stream",
     "text": [
      "epoch: 3, [batch: 84 / 420], examples_per_second: 274.5334, train_label_loss: 1.4448, \n"
     ]
    },
    {
     "name": "stdout",
     "output_type": "stream",
     "text": [
      "epoch: 3, [batch: 126 / 420], examples_per_second: 279.4802, train_label_loss: 1.2463, \n"
     ]
    },
    {
     "name": "stdout",
     "output_type": "stream",
     "text": [
      "epoch: 3, [batch: 168 / 420], examples_per_second: 287.7198, train_label_loss: 1.1391, \n"
     ]
    },
    {
     "name": "stdout",
     "output_type": "stream",
     "text": [
      "epoch: 3, [batch: 210 / 420], examples_per_second: 294.3105, train_label_loss: 1.1514, \n"
     ]
    },
    {
     "name": "stdout",
     "output_type": "stream",
     "text": [
      "epoch: 3, [batch: 252 / 420], examples_per_second: 303.6797, train_label_loss: 1.1258, \n"
     ]
    },
    {
     "name": "stdout",
     "output_type": "stream",
     "text": [
      "epoch: 3, [batch: 294 / 420], examples_per_second: 312.9085, train_label_loss: 1.0391, \n"
     ]
    },
    {
     "name": "stdout",
     "output_type": "stream",
     "text": [
      "epoch: 3, [batch: 336 / 420], examples_per_second: 322.7959, train_label_loss: 1.3377, \n"
     ]
    },
    {
     "name": "stdout",
     "output_type": "stream",
     "text": [
      "epoch: 3, [batch: 378 / 420], examples_per_second: 332.0918, train_label_loss: 1.0045, \n"
     ]
    },
    {
     "name": "stdout",
     "output_type": "stream",
     "text": [
      "=============================================================\n",
      "epoch: 3, source_val_acc_label: 0.5873, target_val_acc_label: 0.4775, source_val_label_loss: 1.0734, target_val_label_loss: 1.5326, \n",
      "=============================================================\n"
     ]
    },
    {
     "name": "stdout",
     "output_type": "stream",
     "text": [
      "New best\n"
     ]
    },
    {
     "name": "stdout",
     "output_type": "stream",
     "text": [
      "epoch: 4, [batch: 1 / 420], examples_per_second: 2.3812, train_label_loss: 1.1247, \n"
     ]
    },
    {
     "name": "stdout",
     "output_type": "stream",
     "text": [
      "epoch: 4, [batch: 42 / 420], examples_per_second: 266.7801, train_label_loss: 1.5610, \n"
     ]
    },
    {
     "name": "stdout",
     "output_type": "stream",
     "text": [
      "epoch: 4, [batch: 84 / 420], examples_per_second: 272.9970, train_label_loss: 0.8471, \n"
     ]
    },
    {
     "name": "stdout",
     "output_type": "stream",
     "text": [
      "epoch: 4, [batch: 126 / 420], examples_per_second: 281.2170, train_label_loss: 1.2337, \n"
     ]
    },
    {
     "name": "stdout",
     "output_type": "stream",
     "text": [
      "epoch: 4, [batch: 168 / 420], examples_per_second: 287.1302, train_label_loss: 1.1330, \n"
     ]
    },
    {
     "name": "stdout",
     "output_type": "stream",
     "text": [
      "epoch: 4, [batch: 210 / 420], examples_per_second: 295.9074, train_label_loss: 0.6488, \n"
     ]
    },
    {
     "name": "stdout",
     "output_type": "stream",
     "text": [
      "epoch: 4, [batch: 252 / 420], examples_per_second: 304.9420, train_label_loss: 1.1560, \n"
     ]
    },
    {
     "name": "stdout",
     "output_type": "stream",
     "text": [
      "epoch: 4, [batch: 294 / 420], examples_per_second: 312.6748, train_label_loss: 1.3595, \n"
     ]
    },
    {
     "name": "stdout",
     "output_type": "stream",
     "text": [
      "epoch: 4, [batch: 336 / 420], examples_per_second: 323.3491, train_label_loss: 1.4133, \n"
     ]
    },
    {
     "name": "stdout",
     "output_type": "stream",
     "text": [
      "epoch: 4, [batch: 378 / 420], examples_per_second: 332.7064, train_label_loss: 0.7969, \n"
     ]
    },
    {
     "name": "stdout",
     "output_type": "stream",
     "text": [
      "=============================================================\n",
      "epoch: 4, source_val_acc_label: 0.6677, target_val_acc_label: 0.5445, source_val_label_loss: 0.8760, target_val_label_loss: 1.2958, \n",
      "=============================================================\n"
     ]
    },
    {
     "name": "stdout",
     "output_type": "stream",
     "text": [
      "New best\n"
     ]
    },
    {
     "name": "stdout",
     "output_type": "stream",
     "text": [
      "epoch: 5, [batch: 1 / 420], examples_per_second: 2.3693, train_label_loss: 0.7194, \n"
     ]
    },
    {
     "name": "stdout",
     "output_type": "stream",
     "text": [
      "epoch: 5, [batch: 42 / 420], examples_per_second: 265.0361, train_label_loss: 0.7905, \n"
     ]
    },
    {
     "name": "stdout",
     "output_type": "stream",
     "text": [
      "epoch: 5, [batch: 84 / 420], examples_per_second: 272.8631, train_label_loss: 0.5714, \n"
     ]
    },
    {
     "name": "stdout",
     "output_type": "stream",
     "text": [
      "epoch: 5, [batch: 126 / 420], examples_per_second: 279.6716, train_label_loss: 0.6321, \n"
     ]
    },
    {
     "name": "stdout",
     "output_type": "stream",
     "text": [
      "epoch: 5, [batch: 168 / 420], examples_per_second: 287.0375, train_label_loss: 0.7645, \n"
     ]
    },
    {
     "name": "stdout",
     "output_type": "stream",
     "text": [
      "epoch: 5, [batch: 210 / 420], examples_per_second: 294.9809, train_label_loss: 1.1243, \n"
     ]
    },
    {
     "name": "stdout",
     "output_type": "stream",
     "text": [
      "epoch: 5, [batch: 252 / 420], examples_per_second: 304.1478, train_label_loss: 0.6062, \n"
     ]
    },
    {
     "name": "stdout",
     "output_type": "stream",
     "text": [
      "epoch: 5, [batch: 294 / 420], examples_per_second: 312.7068, train_label_loss: 0.9994, \n"
     ]
    },
    {
     "name": "stdout",
     "output_type": "stream",
     "text": [
      "epoch: 5, [batch: 336 / 420], examples_per_second: 322.2642, train_label_loss: 1.0165, \n"
     ]
    },
    {
     "name": "stdout",
     "output_type": "stream",
     "text": [
      "epoch: 5, [batch: 378 / 420], examples_per_second: 333.9352, train_label_loss: 1.1752, \n"
     ]
    },
    {
     "name": "stdout",
     "output_type": "stream",
     "text": [
      "=============================================================\n",
      "epoch: 5, source_val_acc_label: 0.6757, target_val_acc_label: 0.5848, source_val_label_loss: 0.8473, target_val_label_loss: 1.1881, \n",
      "=============================================================\n"
     ]
    },
    {
     "name": "stdout",
     "output_type": "stream",
     "text": [
      "New best\n"
     ]
    },
    {
     "name": "stdout",
     "output_type": "stream",
     "text": [
      "epoch: 6, [batch: 1 / 420], examples_per_second: 2.3567, train_label_loss: 0.8381, \n"
     ]
    },
    {
     "name": "stdout",
     "output_type": "stream",
     "text": [
      "epoch: 6, [batch: 42 / 420], examples_per_second: 265.5107, train_label_loss: 0.6395, \n"
     ]
    },
    {
     "name": "stdout",
     "output_type": "stream",
     "text": [
      "epoch: 6, [batch: 84 / 420], examples_per_second: 272.0639, train_label_loss: 1.2033, \n"
     ]
    },
    {
     "name": "stdout",
     "output_type": "stream",
     "text": [
      "epoch: 6, [batch: 126 / 420], examples_per_second: 280.4920, train_label_loss: 0.4480, \n"
     ]
    },
    {
     "name": "stdout",
     "output_type": "stream",
     "text": [
      "epoch: 6, [batch: 168 / 420], examples_per_second: 287.1051, train_label_loss: 0.9358, \n"
     ]
    },
    {
     "name": "stdout",
     "output_type": "stream",
     "text": [
      "epoch: 6, [batch: 210 / 420], examples_per_second: 295.2764, train_label_loss: 1.0304, \n"
     ]
    },
    {
     "name": "stdout",
     "output_type": "stream",
     "text": [
      "epoch: 6, [batch: 252 / 420], examples_per_second: 303.1462, train_label_loss: 0.5702, \n"
     ]
    },
    {
     "name": "stdout",
     "output_type": "stream",
     "text": [
      "epoch: 6, [batch: 294 / 420], examples_per_second: 313.7168, train_label_loss: 0.6314, \n"
     ]
    },
    {
     "name": "stdout",
     "output_type": "stream",
     "text": [
      "epoch: 6, [batch: 336 / 420], examples_per_second: 322.4527, train_label_loss: 0.9855, \n"
     ]
    },
    {
     "name": "stdout",
     "output_type": "stream",
     "text": [
      "epoch: 6, [batch: 378 / 420], examples_per_second: 332.3041, train_label_loss: 1.7097, \n"
     ]
    },
    {
     "name": "stdout",
     "output_type": "stream",
     "text": [
      "=============================================================\n",
      "epoch: 6, source_val_acc_label: 0.6946, target_val_acc_label: 0.5875, source_val_label_loss: 0.8374, target_val_label_loss: 1.1648, \n",
      "=============================================================\n"
     ]
    },
    {
     "name": "stdout",
     "output_type": "stream",
     "text": [
      "New best\n"
     ]
    },
    {
     "name": "stdout",
     "output_type": "stream",
     "text": [
      "epoch: 7, [batch: 1 / 420], examples_per_second: 2.3607, train_label_loss: 0.4975, \n"
     ]
    },
    {
     "name": "stdout",
     "output_type": "stream",
     "text": [
      "epoch: 7, [batch: 42 / 420], examples_per_second: 267.3416, train_label_loss: 0.7719, \n"
     ]
    },
    {
     "name": "stdout",
     "output_type": "stream",
     "text": [
      "epoch: 7, [batch: 84 / 420], examples_per_second: 273.7396, train_label_loss: 0.6087, \n"
     ]
    },
    {
     "name": "stdout",
     "output_type": "stream",
     "text": [
      "epoch: 7, [batch: 126 / 420], examples_per_second: 280.5498, train_label_loss: 1.0850, \n"
     ]
    },
    {
     "name": "stdout",
     "output_type": "stream",
     "text": [
      "epoch: 7, [batch: 168 / 420], examples_per_second: 287.6756, train_label_loss: 0.4379, \n"
     ]
    },
    {
     "name": "stdout",
     "output_type": "stream",
     "text": [
      "epoch: 7, [batch: 210 / 420], examples_per_second: 296.2480, train_label_loss: 0.7124, \n"
     ]
    },
    {
     "name": "stdout",
     "output_type": "stream",
     "text": [
      "epoch: 7, [batch: 252 / 420], examples_per_second: 302.2612, train_label_loss: 0.9306, \n"
     ]
    },
    {
     "name": "stdout",
     "output_type": "stream",
     "text": [
      "epoch: 7, [batch: 294 / 420], examples_per_second: 312.4445, train_label_loss: 1.0046, \n"
     ]
    },
    {
     "name": "stdout",
     "output_type": "stream",
     "text": [
      "epoch: 7, [batch: 336 / 420], examples_per_second: 322.0262, train_label_loss: 0.7631, \n"
     ]
    },
    {
     "name": "stdout",
     "output_type": "stream",
     "text": [
      "epoch: 7, [batch: 378 / 420], examples_per_second: 332.6267, train_label_loss: 0.9786, \n"
     ]
    },
    {
     "name": "stdout",
     "output_type": "stream",
     "text": [
      "=============================================================\n",
      "epoch: 7, source_val_acc_label: 0.7021, target_val_acc_label: 0.5920, source_val_label_loss: 0.7711, target_val_label_loss: 1.1275, \n",
      "=============================================================\n"
     ]
    },
    {
     "name": "stdout",
     "output_type": "stream",
     "text": [
      "New best\n"
     ]
    },
    {
     "name": "stdout",
     "output_type": "stream",
     "text": [
      "epoch: 8, [batch: 1 / 420], examples_per_second: 2.3682, train_label_loss: 0.3314, \n"
     ]
    },
    {
     "name": "stdout",
     "output_type": "stream",
     "text": [
      "epoch: 8, [batch: 42 / 420], examples_per_second: 267.0874, train_label_loss: 0.5911, \n"
     ]
    },
    {
     "name": "stdout",
     "output_type": "stream",
     "text": [
      "epoch: 8, [batch: 84 / 420], examples_per_second: 274.1831, train_label_loss: 0.4801, \n"
     ]
    },
    {
     "name": "stdout",
     "output_type": "stream",
     "text": [
      "epoch: 8, [batch: 126 / 420], examples_per_second: 280.3497, train_label_loss: 0.9921, \n"
     ]
    },
    {
     "name": "stdout",
     "output_type": "stream",
     "text": [
      "epoch: 8, [batch: 168 / 420], examples_per_second: 291.2601, train_label_loss: 0.4892, \n"
     ]
    },
    {
     "name": "stdout",
     "output_type": "stream",
     "text": [
      "epoch: 8, [batch: 210 / 420], examples_per_second: 296.3122, train_label_loss: 0.8045, \n"
     ]
    },
    {
     "name": "stdout",
     "output_type": "stream",
     "text": [
      "epoch: 8, [batch: 252 / 420], examples_per_second: 304.5842, train_label_loss: 0.7773, \n"
     ]
    },
    {
     "name": "stdout",
     "output_type": "stream",
     "text": [
      "epoch: 8, [batch: 294 / 420], examples_per_second: 312.5188, train_label_loss: 0.8600, \n"
     ]
    },
    {
     "name": "stdout",
     "output_type": "stream",
     "text": [
      "epoch: 8, [batch: 336 / 420], examples_per_second: 321.0818, train_label_loss: 0.5823, \n"
     ]
    },
    {
     "name": "stdout",
     "output_type": "stream",
     "text": [
      "epoch: 8, [batch: 378 / 420], examples_per_second: 327.8362, train_label_loss: 0.5840, \n"
     ]
    },
    {
     "name": "stdout",
     "output_type": "stream",
     "text": [
      "=============================================================\n",
      "epoch: 8, source_val_acc_label: 0.7094, target_val_acc_label: 0.6046, source_val_label_loss: 0.7578, target_val_label_loss: 1.1007, \n",
      "=============================================================\n"
     ]
    },
    {
     "name": "stdout",
     "output_type": "stream",
     "text": [
      "New best\n"
     ]
    },
    {
     "name": "stdout",
     "output_type": "stream",
     "text": [
      "epoch: 9, [batch: 1 / 420], examples_per_second: 2.3649, train_label_loss: 0.4894, \n"
     ]
    },
    {
     "name": "stdout",
     "output_type": "stream",
     "text": [
      "epoch: 9, [batch: 42 / 420], examples_per_second: 267.5291, train_label_loss: 0.5013, \n"
     ]
    },
    {
     "name": "stdout",
     "output_type": "stream",
     "text": [
      "epoch: 9, [batch: 84 / 420], examples_per_second: 274.9771, train_label_loss: 0.4957, \n"
     ]
    },
    {
     "name": "stdout",
     "output_type": "stream",
     "text": [
      "epoch: 9, [batch: 126 / 420], examples_per_second: 280.3321, train_label_loss: 0.6029, \n"
     ]
    },
    {
     "name": "stdout",
     "output_type": "stream",
     "text": [
      "epoch: 9, [batch: 168 / 420], examples_per_second: 287.5223, train_label_loss: 0.7292, \n"
     ]
    },
    {
     "name": "stdout",
     "output_type": "stream",
     "text": [
      "epoch: 9, [batch: 210 / 420], examples_per_second: 296.0788, train_label_loss: 0.3148, \n"
     ]
    },
    {
     "name": "stdout",
     "output_type": "stream",
     "text": [
      "epoch: 9, [batch: 252 / 420], examples_per_second: 303.6739, train_label_loss: 0.6906, \n"
     ]
    },
    {
     "name": "stdout",
     "output_type": "stream",
     "text": [
      "epoch: 9, [batch: 294 / 420], examples_per_second: 312.8626, train_label_loss: 0.7539, \n"
     ]
    },
    {
     "name": "stdout",
     "output_type": "stream",
     "text": [
      "epoch: 9, [batch: 336 / 420], examples_per_second: 321.8958, train_label_loss: 0.6224, \n"
     ]
    },
    {
     "name": "stdout",
     "output_type": "stream",
     "text": [
      "epoch: 9, [batch: 378 / 420], examples_per_second: 332.3948, train_label_loss: 0.8747, \n"
     ]
    },
    {
     "name": "stdout",
     "output_type": "stream",
     "text": [
      "=============================================================\n",
      "epoch: 9, source_val_acc_label: 0.7102, target_val_acc_label: 0.6105, source_val_label_loss: 0.7501, target_val_label_loss: 1.1862, \n",
      "=============================================================\n"
     ]
    },
    {
     "name": "stdout",
     "output_type": "stream",
     "text": [
      "epoch: 10, [batch: 1 / 420], examples_per_second: 2.3721, train_label_loss: 0.5981, \n"
     ]
    },
    {
     "name": "stdout",
     "output_type": "stream",
     "text": [
      "epoch: 10, [batch: 42 / 420], examples_per_second: 268.1304, train_label_loss: 0.4757, \n"
     ]
    },
    {
     "name": "stdout",
     "output_type": "stream",
     "text": [
      "epoch: 10, [batch: 84 / 420], examples_per_second: 273.2121, train_label_loss: 0.5581, \n"
     ]
    },
    {
     "name": "stdout",
     "output_type": "stream",
     "text": [
      "epoch: 10, [batch: 126 / 420], examples_per_second: 279.2313, train_label_loss: 0.6423, \n"
     ]
    },
    {
     "name": "stdout",
     "output_type": "stream",
     "text": [
      "epoch: 10, [batch: 168 / 420], examples_per_second: 288.9167, train_label_loss: 0.6474, \n"
     ]
    },
    {
     "name": "stdout",
     "output_type": "stream",
     "text": [
      "epoch: 10, [batch: 210 / 420], examples_per_second: 295.5437, train_label_loss: 0.4529, \n"
     ]
    },
    {
     "name": "stdout",
     "output_type": "stream",
     "text": [
      "epoch: 10, [batch: 252 / 420], examples_per_second: 303.7397, train_label_loss: 0.6816, \n"
     ]
    },
    {
     "name": "stdout",
     "output_type": "stream",
     "text": [
      "epoch: 10, [batch: 294 / 420], examples_per_second: 313.4957, train_label_loss: 0.5239, \n"
     ]
    },
    {
     "name": "stdout",
     "output_type": "stream",
     "text": [
      "epoch: 10, [batch: 336 / 420], examples_per_second: 322.0110, train_label_loss: 0.5429, \n"
     ]
    },
    {
     "name": "stdout",
     "output_type": "stream",
     "text": [
      "epoch: 10, [batch: 378 / 420], examples_per_second: 332.9617, train_label_loss: 1.0437, \n"
     ]
    },
    {
     "name": "stdout",
     "output_type": "stream",
     "text": [
      "=============================================================\n",
      "epoch: 10, source_val_acc_label: 0.7135, target_val_acc_label: 0.6148, source_val_label_loss: 0.7514, target_val_label_loss: 1.1221, \n",
      "=============================================================\n"
     ]
    },
    {
     "name": "stdout",
     "output_type": "stream",
     "text": [
      "epoch: 11, [batch: 1 / 420], examples_per_second: 2.3794, train_label_loss: 0.6883, \n"
     ]
    },
    {
     "name": "stdout",
     "output_type": "stream",
     "text": [
      "epoch: 11, [batch: 42 / 420], examples_per_second: 267.5867, train_label_loss: 0.5210, \n"
     ]
    },
    {
     "name": "stdout",
     "output_type": "stream",
     "text": [
      "epoch: 11, [batch: 84 / 420], examples_per_second: 274.6173, train_label_loss: 0.8814, \n"
     ]
    },
    {
     "name": "stdout",
     "output_type": "stream",
     "text": [
      "epoch: 11, [batch: 126 / 420], examples_per_second: 281.6645, train_label_loss: 0.3876, \n"
     ]
    },
    {
     "name": "stdout",
     "output_type": "stream",
     "text": [
      "epoch: 11, [batch: 168 / 420], examples_per_second: 288.0940, train_label_loss: 0.5552, \n"
     ]
    },
    {
     "name": "stdout",
     "output_type": "stream",
     "text": [
      "epoch: 11, [batch: 210 / 420], examples_per_second: 296.4403, train_label_loss: 0.5896, \n"
     ]
    },
    {
     "name": "stdout",
     "output_type": "stream",
     "text": [
      "epoch: 11, [batch: 252 / 420], examples_per_second: 303.9520, train_label_loss: 0.3993, \n"
     ]
    },
    {
     "name": "stdout",
     "output_type": "stream",
     "text": [
      "epoch: 11, [batch: 294 / 420], examples_per_second: 313.1873, train_label_loss: 0.3696, \n"
     ]
    },
    {
     "name": "stdout",
     "output_type": "stream",
     "text": [
      "epoch: 11, [batch: 336 / 420], examples_per_second: 321.7139, train_label_loss: 0.7906, \n"
     ]
    },
    {
     "name": "stdout",
     "output_type": "stream",
     "text": [
      "epoch: 11, [batch: 378 / 420], examples_per_second: 331.3574, train_label_loss: 0.7915, \n"
     ]
    },
    {
     "name": "stdout",
     "output_type": "stream",
     "text": [
      "=============================================================\n",
      "epoch: 11, source_val_acc_label: 0.7111, target_val_acc_label: 0.5959, source_val_label_loss: 0.7831, target_val_label_loss: 1.2479, \n",
      "=============================================================\n"
     ]
    },
    {
     "name": "stdout",
     "output_type": "stream",
     "text": [
      "epoch: 12, [batch: 1 / 420], examples_per_second: 2.3770, train_label_loss: 0.5363, \n"
     ]
    },
    {
     "name": "stdout",
     "output_type": "stream",
     "text": [
      "epoch: 12, [batch: 42 / 420], examples_per_second: 265.0195, train_label_loss: 0.4163, \n"
     ]
    },
    {
     "name": "stdout",
     "output_type": "stream",
     "text": [
      "epoch: 12, [batch: 84 / 420], examples_per_second: 272.4638, train_label_loss: 0.4720, \n"
     ]
    },
    {
     "name": "stdout",
     "output_type": "stream",
     "text": [
      "epoch: 12, [batch: 126 / 420], examples_per_second: 280.7104, train_label_loss: 0.7934, \n"
     ]
    },
    {
     "name": "stdout",
     "output_type": "stream",
     "text": [
      "epoch: 12, [batch: 168 / 420], examples_per_second: 288.4510, train_label_loss: 0.4787, \n"
     ]
    },
    {
     "name": "stdout",
     "output_type": "stream",
     "text": [
      "epoch: 12, [batch: 210 / 420], examples_per_second: 294.3052, train_label_loss: 0.4968, \n"
     ]
    },
    {
     "name": "stdout",
     "output_type": "stream",
     "text": [
      "epoch: 12, [batch: 252 / 420], examples_per_second: 303.5993, train_label_loss: 0.6205, \n"
     ]
    },
    {
     "name": "stdout",
     "output_type": "stream",
     "text": [
      "epoch: 12, [batch: 294 / 420], examples_per_second: 313.4220, train_label_loss: 0.8765, \n"
     ]
    },
    {
     "name": "stdout",
     "output_type": "stream",
     "text": [
      "epoch: 12, [batch: 336 / 420], examples_per_second: 322.7202, train_label_loss: 0.4431, \n"
     ]
    },
    {
     "name": "stdout",
     "output_type": "stream",
     "text": [
      "epoch: 12, [batch: 378 / 420], examples_per_second: 333.2511, train_label_loss: 0.6172, \n"
     ]
    },
    {
     "name": "stdout",
     "output_type": "stream",
     "text": [
      "=============================================================\n",
      "epoch: 12, source_val_acc_label: 0.7137, target_val_acc_label: 0.6058, source_val_label_loss: 0.7766, target_val_label_loss: 1.1821, \n",
      "=============================================================\n"
     ]
    },
    {
     "name": "stdout",
     "output_type": "stream",
     "text": [
      "Patience (3) exhausted\n"
     ]
    }
   ],
   "source": [
    "###################################\n",
    "# train\n",
    "###################################\n",
    "jig = PTN_Train_Eval_Test_Jig(model, p.BEST_MODEL_PATH, p.device)\n",
    "\n",
    "jig.train(\n",
    "    train_iterable=datasets.source.processed.train,\n",
    "    source_val_iterable=datasets.source.processed.val,\n",
    "    target_val_iterable=datasets.target.processed.val,\n",
    "    num_epochs=p.n_epoch,\n",
    "    num_logs_per_epoch=p.NUM_LOGS_PER_EPOCH,\n",
    "    patience=p.patience,\n",
    "    optimizer=optimizer,\n",
    "    criteria_for_best=p.criteria_for_best,\n",
    ")"
   ]
  },
  {
   "cell_type": "code",
   "execution_count": 14,
   "id": "31e8fabf",
   "metadata": {
    "execution": {
     "iopub.execute_input": "2022-03-02T05:51:32.027503Z",
     "iopub.status.busy": "2022-03-02T05:51:32.027254Z",
     "iopub.status.idle": "2022-03-02T05:51:32.041626Z",
     "shell.execute_reply": "2022-03-02T05:51:32.041234Z"
    },
    "papermill": {
     "duration": 0.051492,
     "end_time": "2022-03-02T05:51:32.041718",
     "exception": false,
     "start_time": "2022-03-02T05:51:31.990226",
     "status": "completed"
    },
    "tags": []
   },
   "outputs": [],
   "source": [
    "total_experiment_time_secs = time.time() - start_time_secs"
   ]
  },
  {
   "cell_type": "code",
   "execution_count": 15,
   "id": "87b9595b",
   "metadata": {
    "execution": {
     "iopub.execute_input": "2022-03-02T05:51:32.119059Z",
     "iopub.status.busy": "2022-03-02T05:51:32.118791Z",
     "iopub.status.idle": "2022-03-02T05:54:55.987047Z",
     "shell.execute_reply": "2022-03-02T05:54:55.987445Z"
    },
    "papermill": {
     "duration": 203.907277,
     "end_time": "2022-03-02T05:54:55.987576",
     "exception": false,
     "start_time": "2022-03-02T05:51:32.080299",
     "status": "completed"
    },
    "tags": []
   },
   "outputs": [],
   "source": [
    "###################################\n",
    "# Evaluate the model\n",
    "###################################\n",
    "source_test_label_accuracy, source_test_label_loss = jig.test(datasets.source.processed.test)\n",
    "target_test_label_accuracy, target_test_label_loss = jig.test(datasets.target.processed.test)\n",
    "\n",
    "source_val_label_accuracy, source_val_label_loss = jig.test(datasets.source.processed.val)\n",
    "target_val_label_accuracy, target_val_label_loss = jig.test(datasets.target.processed.val)\n",
    "\n",
    "history = jig.get_history()\n",
    "\n",
    "total_epochs_trained = len(history[\"epoch_indices\"])\n",
    "\n",
    "val_dl = Iterable_Aggregator((datasets.source.original.val,datasets.target.original.val))\n",
    "\n",
    "confusion = ptn_confusion_by_domain_over_dataloader(model, p.device, val_dl)\n",
    "per_domain_accuracy = per_domain_accuracy_from_confusion(confusion)\n",
    "\n",
    "# Add a key to per_domain_accuracy for if it was a source domain\n",
    "for domain, accuracy in per_domain_accuracy.items():\n",
    "    per_domain_accuracy[domain] = {\n",
    "        \"accuracy\": accuracy,\n",
    "        \"source?\": domain in p.domains_source\n",
    "    }\n",
    "\n",
    "# Do an independent accuracy assesment JUST TO BE SURE!\n",
    "# _source_test_label_accuracy = independent_accuracy_assesment(model, datasets.source.processed.test, p.device)\n",
    "# _target_test_label_accuracy = independent_accuracy_assesment(model, datasets.target.processed.test, p.device)\n",
    "# _source_val_label_accuracy = independent_accuracy_assesment(model, datasets.source.processed.val, p.device)\n",
    "# _target_val_label_accuracy = independent_accuracy_assesment(model, datasets.target.processed.val, p.device)\n",
    "\n",
    "# assert(_source_test_label_accuracy == source_test_label_accuracy)\n",
    "# assert(_target_test_label_accuracy == target_test_label_accuracy)\n",
    "# assert(_source_val_label_accuracy == source_val_label_accuracy)\n",
    "# assert(_target_val_label_accuracy == target_val_label_accuracy)\n",
    "\n",
    "experiment = {\n",
    "    \"experiment_name\": p.experiment_name,\n",
    "    \"parameters\": dict(p),\n",
    "    \"results\": {\n",
    "        \"source_test_label_accuracy\": source_test_label_accuracy,\n",
    "        \"source_test_label_loss\": source_test_label_loss,\n",
    "        \"target_test_label_accuracy\": target_test_label_accuracy,\n",
    "        \"target_test_label_loss\": target_test_label_loss,\n",
    "        \"source_val_label_accuracy\": source_val_label_accuracy,\n",
    "        \"source_val_label_loss\": source_val_label_loss,\n",
    "        \"target_val_label_accuracy\": target_val_label_accuracy,\n",
    "        \"target_val_label_loss\": target_val_label_loss,\n",
    "        \"total_epochs_trained\": total_epochs_trained,\n",
    "        \"total_experiment_time_secs\": total_experiment_time_secs,\n",
    "        \"confusion\": confusion,\n",
    "        \"per_domain_accuracy\": per_domain_accuracy,\n",
    "    },\n",
    "    \"history\": history,\n",
    "    \"dataset_metrics\": get_dataset_metrics(datasets, \"ptn\"),\n",
    "}"
   ]
  },
  {
   "cell_type": "code",
   "execution_count": 16,
   "id": "54a21829",
   "metadata": {
    "execution": {
     "iopub.execute_input": "2022-03-02T05:54:56.062314Z",
     "iopub.status.busy": "2022-03-02T05:54:56.061425Z",
     "iopub.status.idle": "2022-03-02T05:54:56.248954Z",
     "shell.execute_reply": "2022-03-02T05:54:56.249331Z"
    },
    "papermill": {
     "duration": 0.223934,
     "end_time": "2022-03-02T05:54:56.249441",
     "exception": false,
     "start_time": "2022-03-02T05:54:56.025507",
     "status": "completed"
    },
    "tags": []
   },
   "outputs": [
    {
     "data": {
      "image/png": "[encoded data removed]",
      "text/plain": [
       "<Figure size 1080x504 with 1 Axes>"
      ]
     },
     "metadata": {
      "needs_background": "light"
     },
     "output_type": "display_data"
    }
   ],
   "source": [
    "ax = get_loss_curve(experiment)\n",
    "plt.show()"
   ]
  },
  {
   "cell_type": "code",
   "execution_count": 17,
   "id": "fd8a0f60",
   "metadata": {
    "execution": {
     "iopub.execute_input": "2022-03-02T05:54:56.327657Z",
     "iopub.status.busy": "2022-03-02T05:54:56.327395Z",
     "iopub.status.idle": "2022-03-02T05:54:56.583304Z",
     "shell.execute_reply": "2022-03-02T05:54:56.583745Z"
    },
    "papermill": {
     "duration": 0.293892,
     "end_time": "2022-03-02T05:54:56.583878",
     "exception": false,
     "start_time": "2022-03-02T05:54:56.289986",
     "status": "completed"
    },
    "tags": []
   },
   "outputs": [
    {
     "data": {
      "text/plain": [
       "<matplotlib.axes._subplots.AxesSubplot at 0x7f4af86c8040>"
      ]
     },
     "execution_count": 17,
     "metadata": {},
     "output_type": "execute_result"
    },
    {
     "data": {
      "image/png": "[encoded data removed]",
      "text/plain": [
       "<Figure size 1080x504 with 1 Axes>"
      ]
     },
     "metadata": {
      "needs_background": "light"
     },
     "output_type": "display_data"
    }
   ],
   "source": [
    "get_results_table(experiment)"
   ]
  },
  {
   "cell_type": "code",
   "execution_count": 18,
   "id": "cf8dc689",
   "metadata": {
    "execution": {
     "iopub.execute_input": "2022-03-02T05:54:56.663085Z",
     "iopub.status.busy": "2022-03-02T05:54:56.662829Z",
     "iopub.status.idle": "2022-03-02T05:54:56.832751Z",
     "shell.execute_reply": "2022-03-02T05:54:56.833133Z"
    },
    "papermill": {
     "duration": 0.208897,
     "end_time": "2022-03-02T05:54:56.833259",
     "exception": false,
     "start_time": "2022-03-02T05:54:56.624362",
     "status": "completed"
    },
    "tags": []
   },
   "outputs": [
    {
     "data": {
      "text/plain": [
       "<matplotlib.axes._subplots.AxesSubplot at 0x7f4af86cc610>"
      ]
     },
     "execution_count": 18,
     "metadata": {},
     "output_type": "execute_result"
    },
    {
     "data": {
      "image/png": "[encoded data removed]",
      "text/plain": [
       "<Figure size 1080x504 with 1 Axes>"
      ]
     },
     "metadata": {
      "needs_background": "light"
     },
     "output_type": "display_data"
    }
   ],
   "source": [
    "get_domain_accuracies(experiment)"
   ]
  },
  {
   "cell_type": "code",
   "execution_count": 19,
   "id": "a74ae082",
   "metadata": {
    "execution": {
     "iopub.execute_input": "2022-03-02T05:54:56.915094Z",
     "iopub.status.busy": "2022-03-02T05:54:56.914839Z",
     "iopub.status.idle": "2022-03-02T05:54:56.929335Z",
     "shell.execute_reply": "2022-03-02T05:54:56.928945Z"
    },
    "papermill": {
     "duration": 0.054026,
     "end_time": "2022-03-02T05:54:56.929425",
     "exception": false,
     "start_time": "2022-03-02T05:54:56.875399",
     "status": "completed"
    },
    "tags": []
   },
   "outputs": [
    {
     "name": "stdout",
     "output_type": "stream",
     "text": [
      "Source Test Label Accuracy: 0.7006944444444444 Target Test Label Accuracy: 0.6045833333333334\n",
      "Source Val Label Accuracy: 0.709375 Target Val Label Accuracy: 0.6045833333333334\n"
     ]
    }
   ],
   "source": [
    "print(\"Source Test Label Accuracy:\", experiment[\"results\"][\"source_test_label_accuracy\"], \"Target Test Label Accuracy:\", experiment[\"results\"][\"target_test_label_accuracy\"])\n",
    "print(\"Source Val Label Accuracy:\", experiment[\"results\"][\"source_val_label_accuracy\"], \"Target Val Label Accuracy:\", experiment[\"results\"][\"target_val_label_accuracy\"])"
   ]
  },
  {
   "cell_type": "code",
   "execution_count": 20,
   "id": "dacca602",
   "metadata": {
    "execution": {
     "iopub.execute_input": "2022-03-02T05:54:57.008885Z",
     "iopub.status.busy": "2022-03-02T05:54:57.008639Z",
     "iopub.status.idle": "2022-03-02T05:54:57.021889Z",
     "shell.execute_reply": "2022-03-02T05:54:57.021535Z"
    },
    "papermill": {
     "duration": 0.052531,
     "end_time": "2022-03-02T05:54:57.021959",
     "exception": false,
     "start_time": "2022-03-02T05:54:56.969428",
     "status": "completed"
    },
    "tags": [
     "experiment_json"
    ]
   },
   "outputs": [
    {
     "data": {
      "text/plain": [
       "'{\"experiment_name\": \"baseline_ptn_oracle.run1\", \"parameters\": {\"experiment_name\": \"baseline_ptn_oracle.run1\", \"lr\": 0.001, \"device\": \"cuda\", \"seed\": 1337, \"dataset_seed\": 1337, \"labels_source\": [\"3123D52\", \"3123D65\", \"3123D79\", \"3123D80\", \"3123D54\", \"3123D70\", \"3123D7B\", \"3123D89\", \"3123D58\", \"3123D76\", \"3123D7D\", \"3123EFE\", \"3123D64\", \"3123D78\", \"3123D7E\", \"3124E4A\"], \"labels_target\": [\"3123D52\", \"3123D65\", \"3123D79\", \"3123D80\", \"3123D54\", \"3123D70\", \"3123D7B\", \"3123D89\", \"3123D58\", \"3123D76\", \"3123D7D\", \"3123EFE\", \"3123D64\", \"3123D78\", \"3123D7E\", \"3124E4A\"], \"x_transforms_source\": [], \"x_transforms_target\": [], \"episode_transforms_source\": [], \"episode_transforms_target\": [], \"num_examples_per_domain_per_label_source\": 1000, \"num_examples_per_domain_per_label_target\": 1000, \"n_shot\": 3, \"n_way\": 16, \"n_query\": 2, \"train_k_factor\": 1, \"val_k_factor\": 2, \"test_k_factor\": 2, \"torch_default_dtype\": \"torch.float64\", \"n_epoch\": 50, \"patience\": 3, \"criteria_for_best\": \"target_loss\", \"x_net\": [{\"class\": \"nnReshape\", \"kargs\": {\"shape\": [-1, 1, 2, 256]}}, {\"class\": \"Conv2d\", \"kargs\": {\"in_channels\": 1, \"out_channels\": 256, \"kernel_size\": [1, 7], \"bias\": false, \"padding\": [0, 3]}}, {\"class\": \"ReLU\", \"kargs\": {\"inplace\": true}}, {\"class\": \"BatchNorm2d\", \"kargs\": {\"num_features\": 256}}, {\"class\": \"Conv2d\", \"kargs\": {\"in_channels\": 256, \"out_channels\": 80, \"kernel_size\": [2, 7], \"bias\": true, \"padding\": [0, 3]}}, {\"class\": \"ReLU\", \"kargs\": {\"inplace\": true}}, {\"class\": \"BatchNorm2d\", \"kargs\": {\"num_features\": 80}}, {\"class\": \"Flatten\", \"kargs\": {}}, {\"class\": \"Linear\", \"kargs\": {\"in_features\": 20480, \"out_features\": 256}}, {\"class\": \"ReLU\", \"kargs\": {\"inplace\": true}}, {\"class\": \"BatchNorm1d\", \"kargs\": {\"num_features\": 256}}, {\"class\": \"Linear\", \"kargs\": {\"in_features\": 256, \"out_features\": 256}}], \"NUM_LOGS_PER_EPOCH\": 10, \"BEST_MODEL_PATH\": \"./best_model.pth\", \"pickle_name\": \"oracle.Run1_10kExamples_stratified_ds.2022A.pkl\", \"domains_source\": [8, 32, 50], \"domains_target\": [14, 20, 26, 38, 44]}, \"results\": {\"source_test_label_accuracy\": 0.7006944444444444, \"source_test_label_loss\": 0.7692325389108864, \"target_test_label_accuracy\": 0.6045833333333334, \"target_test_label_loss\": 1.0936827275661059, \"source_val_label_accuracy\": 0.709375, \"source_val_label_loss\": 0.7578490307563481, \"target_val_label_accuracy\": 0.6045833333333334, \"target_val_label_loss\": 1.1006613344987584, \"total_epochs_trained\": 12, \"total_experiment_time_secs\": 2039.1343286037445, \"confusion\": {\"8\": {\"15\": {\"15\": 67, \"2\": 23, \"12\": 30}, \"3\": {\"3\": 118, \"2\": 2}, \"6\": {\"10\": 6, \"6\": 56, \"1\": 9, \"4\": 5, \"7\": 31, \"11\": 4, \"13\": 6, \"8\": 3}, \"1\": {\"11\": 15, \"5\": 13, \"6\": 8, \"1\": 47, \"10\": 19, \"13\": 7, \"4\": 8, \"14\": 2, \"7\": 1}, \"8\": {\"8\": 86, \"4\": 15, \"6\": 9, \"7\": 3, \"14\": 3, \"11\": 3, \"1\": 1}, \"10\": {\"5\": 14, \"10\": 47, \"13\": 26, \"6\": 3, \"1\": 22, \"4\": 1, \"11\": 2, \"7\": 5}, \"9\": {\"9\": 120}, \"13\": {\"13\": 58, \"1\": 5, \"6\": 8, \"7\": 10, \"10\": 35, \"5\": 4}, \"12\": {\"15\": 33, \"12\": 81, \"2\": 6}, \"5\": {\"5\": 71, \"14\": 1, \"1\": 10, \"10\": 23, \"13\": 10, \"11\": 4, \"4\": 1}, \"0\": {\"0\": 120}, \"2\": {\"15\": 26, \"2\": 62, \"3\": 21, \"12\": 11}, \"11\": {\"1\": 23, \"6\": 9, \"11\": 37, \"4\": 16, \"7\": 3, \"5\": 4, \"8\": 9, \"14\": 12, \"10\": 6, \"13\": 1}, \"14\": {\"14\": 97, \"8\": 4, \"11\": 11, \"4\": 8}, \"7\": {\"7\": 61, \"13\": 13, \"6\": 38, \"10\": 4, \"1\": 2, \"4\": 1, \"8\": 1}, \"4\": {\"14\": 14, \"4\": 50, \"6\": 7, \"11\": 26, \"7\": 1, \"8\": 19, \"1\": 2, \"5\": 1}}, \"50\": {\"3\": {\"3\": 120}, \"15\": {\"15\": 95, \"6\": 16, \"12\": 6, \"9\": 3}, \"8\": {\"8\": 119, \"10\": 1}, \"4\": {\"4\": 83, \"5\": 15, \"7\": 19, \"6\": 2, \"15\": 1}, \"14\": {\"14\": 117, \"2\": 3}, \"0\": {\"0\": 101, \"2\": 10, \"10\": 9}, \"7\": {\"7\": 97, \"4\": 12, \"5\": 11}, \"6\": {\"15\": 19, \"6\": 86, \"5\": 15}, \"10\": {\"10\": 112, \"0\": 4, \"8\": 4}, \"5\": {\"7\": 30, \"5\": 50, \"4\": 12, \"6\": 17, \"13\": 4, \"15\": 6, \"12\": 1}, \"2\": {\"2\": 96, \"0\": 21, \"14\": 3}, \"12\": {\"11\": 56, \"12\": 47, \"15\": 4, \"9\": 13}, \"9\": {\"9\": 97, \"11\": 7, \"15\": 7, \"12\": 9}, \"1\": {\"1\": 103, \"13\": 9, \"10\": 3, \"0\": 1, \"11\": 4}, \"11\": {\"11\": 56, \"12\": 55, \"9\": 8, \"15\": 1}, \"13\": {\"12\": 1, \"13\": 116, \"1\": 1, \"11\": 1, \"6\": 1}}, \"32\": {\"5\": {\"7\": 14, \"5\": 52, \"0\": 17, \"14\": 10, \"15\": 16, \"8\": 11}, \"8\": {\"7\": 24, \"14\": 26, \"5\": 20, \"8\": 38, \"0\": 9, \"4\": 2, \"3\": 1}, \"11\": {\"11\": 118, \"13\": 2}, \"1\": {\"1\": 120}, \"10\": {\"10\": 120}, \"15\": {\"15\": 105, \"5\": 8, \"7\": 2, \"8\": 4, \"14\": 1}, \"3\": {\"3\": 111, \"13\": 8, \"4\": 1}, \"7\": {\"7\": 42, \"5\": 26, \"0\": 30, \"14\": 12, \"8\": 9, \"15\": 1}, \"4\": {\"4\": 93, \"3\": 1, \"2\": 18, \"13\": 7, \"14\": 1}, \"14\": {\"7\": 12, \"14\": 41, \"2\": 5, \"5\": 5, \"8\": 31, \"0\": 20, \"4\": 6}, \"9\": {\"9\": 105, \"12\": 13, \"2\": 2}, \"12\": {\"12\": 119, \"9\": 1}, \"6\": {\"6\": 119, \"10\": 1}, \"2\": {\"2\": 88, \"14\": 2, \"4\": 28, \"8\": 2}, \"0\": {\"0\": 60, \"5\": 15, \"7\": 23, \"14\": 11, \"8\": 11}, \"13\": {\"4\": 19, \"13\": 82, \"3\": 9, \"11\": 9, \"2\": 1}}, \"14\": {\"15\": {\"15\": 120}, \"3\": {\"3\": 79, \"6\": 16, \"8\": 6, \"14\": 6, \"0\": 8, \"13\": 4, \"2\": 1}, \"6\": {\"6\": 51, \"7\": 8, \"14\": 9, \"5\": 6, \"3\": 30, \"13\": 11, \"8\": 1, \"2\": 4}, \"1\": {\"1\": 117, \"10\": 2, \"4\": 1}, \"8\": {\"0\": 46, \"8\": 63, \"14\": 7, \"3\": 3, \"2\": 1}, \"10\": {\"10\": 107, \"9\": 4, \"0\": 1, \"4\": 8}, \"9\": {\"9\": 115, \"10\": 5}, \"13\": {\"15\": 10, \"13\": 22, \"2\": 9, \"6\": 33, \"5\": 9, \"0\": 2, \"14\": 9, \"4\": 11, \"3\": 9, \"10\": 1, \"8\": 4, \"7\": 1}, \"12\": {\"12\": 120}, \"5\": {\"5\": 38, \"2\": 41, \"14\": 20, \"3\": 2, \"13\": 7, \"7\": 5, \"4\": 5, \"6\": 1, \"8\": 1}, \"0\": {\"4\": 2, \"8\": 56, \"0\": 50, \"3\": 8, \"6\": 1, \"14\": 1, \"13\": 2}, \"2\": {\"7\": 14, \"5\": 25, \"2\": 26, \"4\": 19, \"14\": 18, \"6\": 5, \"1\": 2, \"13\": 5, \"8\": 1, \"3\": 5}, \"11\": {\"11\": 119, \"1\": 1}, \"14\": {\"13\": 12, \"14\": 39, \"3\": 4, \"4\": 2, \"5\": 27, \"2\": 20, \"7\": 3, \"0\": 2, \"6\": 5, \"8\": 6}, \"7\": {\"7\": 84, \"14\": 5, \"5\": 8, \"2\": 9, \"3\": 1, \"6\": 9, \"13\": 4}, \"4\": {\"4\": 98, \"7\": 1, \"2\": 9, \"10\": 5, \"5\": 4, \"13\": 2, \"14\": 1}}, \"20\": {\"3\": {\"13\": 1, \"15\": 6, \"2\": 1, \"3\": 29, \"7\": 2, \"8\": 24, \"12\": 2, \"5\": 21, \"14\": 5, \"1\": 10, \"9\": 17, \"0\": 1, \"4\": 1}, \"15\": {\"4\": 4, \"7\": 3, \"15\": 33, \"9\": 6, \"1\": 16, \"5\": 10, \"12\": 28, \"2\": 10, \"8\": 3, \"13\": 5, \"3\": 2}, \"8\": {\"14\": 19, \"8\": 50, \"3\": 25, \"1\": 2, \"6\": 1, \"7\": 3, \"5\": 11, \"9\": 7, \"0\": 1, \"2\": 1}, \"4\": {\"4\": 34, \"13\": 35, \"6\": 5, \"7\": 6, \"10\": 6, \"2\": 16, \"3\": 1, \"12\": 17}, \"14\": {\"14\": 67, \"6\": 16, \"8\": 20, \"7\": 7, \"5\": 2, \"9\": 3, \"11\": 1, \"3\": 2, \"2\": 2}, \"0\": {\"0\": 103, \"11\": 5, \"5\": 8, \"1\": 2, \"8\": 1, \"3\": 1}, \"7\": {\"7\": 32, \"6\": 13, \"2\": 16, \"14\": 14, \"13\": 11, \"3\": 4, \"12\": 4, \"9\": 13, \"4\": 4, \"8\": 4, \"15\": 4, \"1\": 1}, \"6\": {\"6\": 66, \"2\": 6, \"14\": 11, \"13\": 3, \"7\": 15, \"4\": 12, \"8\": 1, \"10\": 6}, \"10\": {\"10\": 94, \"6\": 7, \"13\": 7, \"2\": 3, \"4\": 9}, \"5\": {\"1\": 25, \"3\": 14, \"12\": 3, \"8\": 7, \"5\": 38, \"9\": 14, \"7\": 2, \"15\": 10, \"2\": 4, \"0\": 2, \"13\": 1}, \"2\": {\"13\": 16, \"4\": 18, \"7\": 19, \"6\": 7, \"2\": 25, \"12\": 18, \"9\": 11, \"5\": 1, \"15\": 2, \"8\": 2, \"1\": 1}, \"12\": {\"13\": 18, \"12\": 31, \"9\": 11, \"2\": 16, \"1\": 11, \"15\": 15, \"7\": 8, \"5\": 2, \"10\": 1, \"4\": 7}, \"9\": {\"9\": 26, \"4\": 1, \"15\": 6, \"2\": 13, \"14\": 9, \"5\": 12, \"3\": 19, \"12\": 8, \"7\": 13, \"1\": 6, \"8\": 7}, \"1\": {\"3\": 10, \"1\": 32, \"5\": 28, \"15\": 16, \"2\": 4, \"14\": 2, \"12\": 8, \"9\": 13, \"8\": 1, \"7\": 4, \"13\": 2}, \"11\": {\"11\": 113, \"0\": 3, \"8\": 3, \"14\": 1}, \"13\": {\"7\": 9, \"12\": 30, \"4\": 18, \"13\": 33, \"15\": 9, \"10\": 4, \"2\": 15, \"14\": 1, \"9\": 1}}, \"44\": {\"5\": {\"5\": 84, \"4\": 3, \"14\": 11, \"15\": 18, \"8\": 4}, \"8\": {\"8\": 78, \"0\": 27, \"5\": 5, \"15\": 10}, \"11\": {\"11\": 120}, \"1\": {\"1\": 90, \"2\": 29, \"3\": 1}, \"10\": {\"10\": 93, \"2\": 5, \"7\": 20, \"9\": 2}, \"15\": {\"15\": 85, \"4\": 3, \"5\": 16, \"14\": 11, \"0\": 1, \"8\": 4}, \"3\": {\"3\": 107, \"12\": 13}, \"7\": {\"10\": 6, \"7\": 97, \"9\": 16, \"6\": 1}, \"4\": {\"4\": 61, \"15\": 9, \"14\": 44, \"6\": 2, \"5\": 1, \"9\": 3}, \"14\": {\"14\": 71, \"5\": 13, \"4\": 32, \"15\": 4}, \"9\": {\"6\": 21, \"7\": 44, \"13\": 16, \"9\": 36, \"2\": 2, \"10\": 1}, \"12\": {\"12\": 105, \"3\": 15}, \"6\": {\"6\": 98, \"9\": 10, \"13\": 12}, \"2\": {\"2\": 103, \"1\": 13, \"10\": 4}, \"0\": {\"0\": 102, \"8\": 17, \"15\": 1}, \"13\": {\"13\": 97, \"6\": 20, \"11\": 1, \"9\": 2}}, \"38\": {\"14\": {\"2\": 31, \"14\": 77, \"13\": 12}, \"0\": {\"10\": 18, \"7\": 14, \"4\": 38, \"13\": 5, \"3\": 5, \"0\": 38, \"9\": 1, \"8\": 1}, \"13\": {\"13\": 104, \"14\": 8, \"4\": 2, \"10\": 5, \"0\": 1}, \"7\": {\"7\": 114, \"8\": 2, \"9\": 3, \"0\": 1}, \"9\": {\"9\": 77, \"5\": 16, \"12\": 8, \"8\": 10, \"7\": 9}, \"3\": {\"3\": 120}, \"11\": {\"11\": 120}, \"6\": {\"6\": 114, \"1\": 6}, \"8\": {\"9\": 17, \"12\": 32, \"8\": 32, \"7\": 16, \"15\": 2, \"5\": 18, \"14\": 2, \"0\": 1}, \"4\": {\"4\": 77, \"10\": 5, \"0\": 36, \"13\": 2}, \"5\": {\"7\": 6, \"5\": 24, \"12\": 39, \"8\": 23, \"2\": 1, \"15\": 11, \"9\": 16}, \"10\": {\"10\": 103, \"4\": 7, \"0\": 6, \"13\": 2, \"3\": 2}, \"1\": {\"1\": 120}, \"2\": {\"2\": 91, \"14\": 28, \"13\": 1}, \"15\": {\"15\": 95, \"12\": 12, \"1\": 7, \"8\": 2, \"5\": 4}, \"12\": {\"12\": 67, \"8\": 18, \"5\": 29, \"9\": 6}}, \"26\": {\"13\": {\"4\": 11, \"7\": 9, \"2\": 1, \"9\": 23, \"13\": 57, \"3\": 10, \"0\": 1, \"8\": 8}, \"2\": {\"7\": 37, \"3\": 7, \"0\": 18, \"2\": 32, \"8\": 17, \"14\": 1, \"9\": 7, \"12\": 1}, \"8\": {\"9\": 34, \"2\": 13, \"8\": 37, \"13\": 6, \"0\": 3, \"7\": 20, \"12\": 2, \"3\": 5}, \"9\": {\"13\": 24, \"9\": 37, \"8\": 31, \"10\": 1, \"2\": 9, \"0\": 10, \"7\": 4, \"3\": 3, \"4\": 1}, \"12\": {\"12\": 119, \"8\": 1}, \"4\": {\"4\": 117, \"3\": 2, \"13\": 1}, \"3\": {\"3\": 79, \"7\": 20, \"4\": 12, \"13\": 3, \"2\": 4, \"9\": 2}, \"15\": {\"14\": 22, \"0\": 4, \"6\": 16, \"1\": 12, \"15\": 27, \"10\": 20, \"5\": 19}, \"14\": {\"14\": 41, \"0\": 21, \"10\": 30, \"5\": 7, \"6\": 5, \"15\": 14, \"1\": 1, \"2\": 1}, \"10\": {\"0\": 16, \"10\": 50, \"6\": 8, \"14\": 24, \"15\": 16, \"5\": 4, \"1\": 2}, \"7\": {\"7\": 38, \"3\": 27, \"2\": 26, \"8\": 12, \"9\": 10, \"13\": 7}, \"11\": {\"11\": 119, \"6\": 1}, \"6\": {\"6\": 66, \"5\": 19, \"1\": 8, \"15\": 19, \"14\": 2, \"10\": 6}, \"1\": {\"1\": 48, \"14\": 14, \"15\": 16, \"6\": 6, \"5\": 31, \"10\": 4, \"0\": 1}, \"5\": {\"6\": 38, \"5\": 38, \"1\": 17, \"15\": 17, \"10\": 5, \"14\": 5}, \"0\": {\"9\": 6, \"2\": 8, \"10\": 25, \"0\": 45, \"8\": 9, \"14\": 22, \"15\": 4, \"12\": 1}}}, \"per_domain_accuracy\": {\"8\": {\"accuracy\": 0.6135416666666667, \"source?\": true}, \"50\": {\"accuracy\": 0.7786458333333334, \"source?\": true}, \"32\": {\"accuracy\": 0.7359375, \"source?\": true}, \"14\": {\"accuracy\": 0.65, \"source?\": false}, \"20\": {\"accuracy\": 0.4197916666666667, \"source?\": false}, \"44\": {\"accuracy\": 0.7432291666666667, \"source?\": false}, \"38\": {\"accuracy\": 0.7151041666666667, \"source?\": false}, \"26\": {\"accuracy\": 0.4947916666666667, \"source?\": false}}}, \"history\": {\"epoch_indices\": [1, 2, 3, 4, 5, 6, 7, 8, 9, 10, 11, 12], \"train_label_loss\": [1.2938287917039049, 1.312628381742187, 1.2499200331530844, 0.9397800281574148, 0.8275801362666617, 0.7403218821091043, 0.7113660871549728, 0.6583804139790396, 0.6026809368976177, 0.5790670469414174, 0.5415311599644678, 0.515030121625074], \"source_val_label_loss\": [1.6740135321975746, 1.2885812344219183, 1.0734053724254382, 0.8759705380547377, 0.8473342528657717, 0.8374288633656429, 0.7710804510236251, 0.7578490307563481, 0.7501492840960358, 0.7514141924881672, 0.7831132714303958, 0.7765690416561207], \"target_val_label_loss\": [1.7447824927821487, 1.685641980104661, 1.5326314411977089, 1.2957517701945809, 1.188118197976313, 1.1648280267315254, 1.127522873953767, 1.1006613344987584, 1.1861879592117142, 1.1221078364440196, 1.2478587394381653, 1.1820769447972308], \"source_val_acc_label\": [0.44774305555555555, 0.4673611111111111, 0.5873263888888889, 0.6677083333333333, 0.6756944444444445, 0.6946180555555556, 0.7020833333333333, 0.709375, 0.7102430555555556, 0.7135416666666666, 0.7111111111111111, 0.7137152777777778], \"target_val_acc_label\": [0.39229166666666665, 0.38666666666666666, 0.4775, 0.5444791666666666, 0.5847916666666667, 0.5875, 0.5919791666666666, 0.6045833333333334, 0.6105208333333333, 0.6147916666666666, 0.5959375, 0.6058333333333333]}, \"dataset_metrics\": {\"source\": {\"train\": {\"n_unique_x\": 33600, \"n_unique_y\": 16, \"n_batch/episode\": 420}, \"val\": {\"n_unique_x\": 7200, \"n_unique_y\": 16, \"n_batch/episode\": 180}, \"test\": {\"n_unique_x\": 7200, \"n_unique_y\": 16, \"n_batch/episode\": 180}}, \"target\": {\"train\": {\"n_unique_x\": 56000, \"n_unique_y\": 16, \"n_batch/episode\": 700}, \"val\": {\"n_unique_x\": 12000, \"n_unique_y\": 16, \"n_batch/episode\": 300}, \"test\": {\"n_unique_x\": 12000, \"n_unique_y\": 16, \"n_batch/episode\": 300}}}}'"
      ]
     },
     "execution_count": 20,
     "metadata": {},
     "output_type": "execute_result"
    }
   ],
   "source": [
    "json.dumps(experiment)"
   ]
  }
 ],
 "metadata": {
  "celltoolbar": "Tags",
  "kernelspec": {
   "display_name": "Python 3 (ipykernel)",
   "language": "python",
   "name": "python3"
  },
  "language_info": {
   "codemirror_mode": {
    "name": "ipython",
    "version": 3
   },
   "file_extension": ".py",
   "mimetype": "text/x-python",
   "name": "python",
   "nbconvert_exporter": "python",
   "pygments_lexer": "ipython3",
   "version": "3.8.10"
  },
  "papermill": {
   "default_parameters": {},
   "duration": 2246.89015,
   "end_time": "2022-03-02T05:54:57.671754",
   "environment_variables": {},
   "exception": null,
   "input_path": "/mnt/wd500GB/CSC500/csc500-main/csc500-notebooks/templates/ptn_template.ipynb",
   "output_path": "trial.ipynb",
   "parameters": {
    "parameters": {
     "BEST_MODEL_PATH": "./best_model.pth",
     "NUM_LOGS_PER_EPOCH": 10,
     "criteria_for_best": "target_loss",
     "dataset_seed": 1337,
     "device": "cuda",
     "domains_source": [
      8,
      32,
      50
     ],
     "domains_target": [
      14,
      20,
      26,
      38,
      44
     ],
     "episode_transforms_source": [],
     "episode_transforms_target": [],
     "experiment_name": "baseline_ptn_oracle.run1",
     "labels_source": [
      "3123D52",
      "3123D65",
      "3123D79",
      "3123D80",
      "3123D54",
      "3123D70",
      "3123D7B",
      "3123D89",
      "3123D58",
      "3123D76",
      "3123D7D",
      "3123EFE",
      "3123D64",
      "3123D78",
      "3123D7E",
      "3124E4A"
     ],
     "labels_target": [
      "3123D52",
      "3123D65",
      "3123D79",
      "3123D80",
      "3123D54",
      "3123D70",
      "3123D7B",
      "3123D89",
      "3123D58",
      "3123D76",
      "3123D7D",
      "3123EFE",
      "3123D64",
      "3123D78",
      "3123D7E",
      "3124E4A"
     ],
     "lr": 0.001,
     "n_epoch": 50,
     "n_query": 2,
     "n_shot": 3,
     "n_way": 16,
     "num_examples_per_domain_per_label_source": 1000,
     "num_examples_per_domain_per_label_target": 1000,
     "patience": 3,
     "pickle_name": "oracle.Run1_10kExamples_stratified_ds.2022A.pkl",
     "seed": 1337,
     "test_k_factor": 2,
     "torch_default_dtype": "torch.float64",
     "train_k_factor": 1,
     "val_k_factor": 2,
     "x_net": [
      {
       "class": "nnReshape",
       "kargs": {
        "shape": [
         -1,
         1,
         2,
         256
        ]
       }
      },
      {
       "class": "Conv2d",
       "kargs": {
        "bias": false,
        "in_channels": 1,
        "kernel_size": [
         1,
         7
        ],
        "out_channels": 256,
        "padding": [
         0,
         3
        ]
       }
      },
      {
       "class": "ReLU",
       "kargs": {
        "inplace": true
       }
      },
      {
       "class": "BatchNorm2d",
       "kargs": {
        "num_features": 256
       }
      },
      {
       "class": "Conv2d",
       "kargs": {
        "bias": true,
        "in_channels": 256,
        "kernel_size": [
         2,
         7
        ],
        "out_channels": 80,
        "padding": [
         0,
         3
        ]
       }
      },
      {
       "class": "ReLU",
       "kargs": {
        "inplace": true
       }
      },
      {
       "class": "BatchNorm2d",
       "kargs": {
        "num_features": 80
       }
      },
      {
       "class": "Flatten",
       "kargs": {}
      },
      {
       "class": "Linear",
       "kargs": {
        "in_features": 20480,
        "out_features": 256
       }
      },
      {
       "class": "ReLU",
       "kargs": {
        "inplace": true
       }
      },
      {
       "class": "BatchNorm1d",
       "kargs": {
        "num_features": 256
       }
      },
      {
       "class": "Linear",
       "kargs": {
        "in_features": 256,
        "out_features": 256
       }
      }
     ],
     "x_transforms_source": [],
     "x_transforms_target": []
    }
   },
   "start_time": "2022-03-02T05:17:30.781604",
   "version": "2.3.4"
  }
 },
 "nbformat": 4,
 "nbformat_minor": 5
}