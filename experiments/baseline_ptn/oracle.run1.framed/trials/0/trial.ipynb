{
 "cells": [
  {
   "cell_type": "markdown",
   "id": "9fea5f46",
   "metadata": {
    "papermill": {
     "duration": 0.013982,
     "end_time": "2022-03-02T07:10:05.606736",
     "exception": false,
     "start_time": "2022-03-02T07:10:05.592754",
     "status": "completed"
    },
    "tags": []
   },
   "source": [
    "# PTN Template\n",
    "This notebook serves as a template for single dataset PTN experiments  \n",
    "It can be run on its own by setting STANDALONE to True (do a find for \"STANDALONE\" to see where)  \n",
    "But it is intended to be executed as part of a *papermill.py script. See any of the   \n",
    "experimentes with a papermill script to get started with that workflow.  "
   ]
  },
  {
   "cell_type": "code",
   "execution_count": 1,
   "id": "0902182a",
   "metadata": {
    "execution": {
     "iopub.execute_input": "2022-03-02T07:10:05.635038Z",
     "iopub.status.busy": "2022-03-02T07:10:05.634512Z",
     "iopub.status.idle": "2022-03-02T07:10:06.388579Z",
     "shell.execute_reply": "2022-03-02T07:10:06.388997Z"
    },
    "papermill": {
     "duration": 0.773226,
     "end_time": "2022-03-02T07:10:06.389207",
     "exception": false,
     "start_time": "2022-03-02T07:10:05.615981",
     "status": "completed"
    },
    "tags": []
   },
   "outputs": [],
   "source": [
    "%load_ext autoreload\n",
    "%autoreload 2\n",
    "%matplotlib inline\n",
    "\n",
    "    \n",
    "import os, json, sys, time, random\n",
    "import numpy as np\n",
    "import torch\n",
    "from torch.optim import Adam\n",
    "from  easydict import EasyDict\n",
    "import matplotlib.pyplot as plt\n",
    "\n",
    "from steves_models.steves_ptn import Steves_Prototypical_Network\n",
    "\n",
    "from steves_utils.lazy_iterable_wrapper import Lazy_Iterable_Wrapper\n",
    "from steves_utils.iterable_aggregator import Iterable_Aggregator\n",
    "from steves_utils.ptn_train_eval_test_jig import  PTN_Train_Eval_Test_Jig\n",
    "from steves_utils.torch_sequential_builder import build_sequential\n",
    "from steves_utils.torch_utils import get_dataset_metrics, ptn_confusion_by_domain_over_dataloader\n",
    "from steves_utils.utils_v2 import (per_domain_accuracy_from_confusion, get_datasets_base_path)\n",
    "from steves_utils.PTN.utils import independent_accuracy_assesment\n",
    "\n",
    "from steves_utils.stratified_dataset.episodic_accessor import Episodic_Accessor_Factory\n",
    "\n",
    "from steves_utils.ptn_do_report import (\n",
    "    get_loss_curve,\n",
    "    get_results_table,\n",
    "    get_parameters_table,\n",
    "    get_domain_accuracies,\n",
    ")\n",
    "\n",
    "from steves_utils.transforms import get_chained_transform"
   ]
  },
  {
   "cell_type": "markdown",
   "id": "41c840b4",
   "metadata": {
    "papermill": {
     "duration": 0.009463,
     "end_time": "2022-03-02T07:10:06.416290",
     "exception": false,
     "start_time": "2022-03-02T07:10:06.406827",
     "status": "completed"
    },
    "tags": []
   },
   "source": [
    "# Required Parameters\n",
    "These are allowed parameters, not defaults\n",
    "Each of these values need to be present in the injected parameters (the notebook will raise an exception if they are not present)\n",
    "\n",
    "Papermill uses the cell tag \"parameters\" to inject the real parameters below this cell.\n",
    "Enable tags to see what I mean"
   ]
  },
  {
   "cell_type": "code",
   "execution_count": 2,
   "id": "fd44eb83",
   "metadata": {
    "execution": {
     "iopub.execute_input": "2022-03-02T07:10:06.440345Z",
     "iopub.status.busy": "2022-03-02T07:10:06.440073Z",
     "iopub.status.idle": "2022-03-02T07:10:06.453391Z",
     "shell.execute_reply": "2022-03-02T07:10:06.452951Z"
    },
    "papermill": {
     "duration": 0.026668,
     "end_time": "2022-03-02T07:10:06.453491",
     "exception": false,
     "start_time": "2022-03-02T07:10:06.426823",
     "status": "completed"
    },
    "tags": []
   },
   "outputs": [],
   "source": [
    "required_parameters = {\n",
    "    \"experiment_name\",\n",
    "    \"lr\",\n",
    "    \"device\",\n",
    "    \"seed\",\n",
    "    \"dataset_seed\",\n",
    "    \"labels_source\",\n",
    "    \"labels_target\",\n",
    "    \"domains_source\",\n",
    "    \"domains_target\",\n",
    "    \"num_examples_per_domain_per_label_source\",\n",
    "    \"num_examples_per_domain_per_label_target\",\n",
    "    \"n_shot\",\n",
    "    \"n_way\",\n",
    "    \"n_query\",\n",
    "    \"train_k_factor\",\n",
    "    \"val_k_factor\",\n",
    "    \"test_k_factor\",\n",
    "    \"n_epoch\",\n",
    "    \"patience\",\n",
    "    \"criteria_for_best\",\n",
    "    \"x_transforms_source\",\n",
    "    \"x_transforms_target\",\n",
    "    \"episode_transforms_source\",\n",
    "    \"episode_transforms_target\",\n",
    "    \"pickle_name\",\n",
    "    \"x_net\",\n",
    "    \"NUM_LOGS_PER_EPOCH\",\n",
    "    \"BEST_MODEL_PATH\",\n",
    "    \"torch_default_dtype\"\n",
    "}"
   ]
  },
  {
   "cell_type": "code",
   "execution_count": 3,
   "id": "fa3f0049",
   "metadata": {
    "execution": {
     "iopub.execute_input": "2022-03-02T07:10:06.485782Z",
     "iopub.status.busy": "2022-03-02T07:10:06.479337Z",
     "iopub.status.idle": "2022-03-02T07:10:06.496792Z",
     "shell.execute_reply": "2022-03-02T07:10:06.496350Z"
    },
    "papermill": {
     "duration": 0.028549,
     "end_time": "2022-03-02T07:10:06.496896",
     "exception": false,
     "start_time": "2022-03-02T07:10:06.468347",
     "status": "completed"
    },
    "tags": [
     "parameters"
    ]
   },
   "outputs": [],
   "source": [
    "\n",
    "\n",
    "standalone_parameters = {}\n",
    "standalone_parameters[\"experiment_name\"] = \"STANDALONE PTN\"\n",
    "standalone_parameters[\"lr\"] = 0.0001\n",
    "standalone_parameters[\"device\"] = \"cuda\"\n",
    "\n",
    "standalone_parameters[\"seed\"] = 1337\n",
    "standalone_parameters[\"dataset_seed\"] = 1337\n",
    "\n",
    "\n",
    "standalone_parameters[\"num_examples_per_domain_per_label_source\"]=100\n",
    "standalone_parameters[\"num_examples_per_domain_per_label_target\"]=100\n",
    "\n",
    "standalone_parameters[\"n_shot\"] = 3\n",
    "standalone_parameters[\"n_query\"]  = 2\n",
    "standalone_parameters[\"train_k_factor\"] = 1\n",
    "standalone_parameters[\"val_k_factor\"] = 2\n",
    "standalone_parameters[\"test_k_factor\"] = 2\n",
    "\n",
    "\n",
    "standalone_parameters[\"n_epoch\"] = 100\n",
    "\n",
    "standalone_parameters[\"patience\"] = 10\n",
    "standalone_parameters[\"criteria_for_best\"] = \"target_accuracy\"\n",
    "\n",
    "standalone_parameters[\"x_transforms_source\"] = [\"unit_power\"]\n",
    "standalone_parameters[\"x_transforms_target\"] = [\"unit_power\"]\n",
    "standalone_parameters[\"episode_transforms_source\"] = []\n",
    "standalone_parameters[\"episode_transforms_target\"] = []\n",
    "\n",
    "standalone_parameters[\"torch_default_dtype\"] = \"torch.float32\" \n",
    "\n",
    "\n",
    "\n",
    "standalone_parameters[\"x_net\"] =     [\n",
    "    {\"class\": \"nnReshape\", \"kargs\": {\"shape\":[-1, 1, 2, 256]}},\n",
    "    {\"class\": \"Conv2d\", \"kargs\": { \"in_channels\":1, \"out_channels\":256, \"kernel_size\":(1,7), \"bias\":False, \"padding\":(0,3), },},\n",
    "    {\"class\": \"ReLU\", \"kargs\": {\"inplace\": True}},\n",
    "    {\"class\": \"BatchNorm2d\", \"kargs\": {\"num_features\":256}},\n",
    "\n",
    "    {\"class\": \"Conv2d\", \"kargs\": { \"in_channels\":256, \"out_channels\":80, \"kernel_size\":(2,7), \"bias\":True, \"padding\":(0,3), },},\n",
    "    {\"class\": \"ReLU\", \"kargs\": {\"inplace\": True}},\n",
    "    {\"class\": \"BatchNorm2d\", \"kargs\": {\"num_features\":80}},\n",
    "    {\"class\": \"Flatten\", \"kargs\": {}},\n",
    "\n",
    "    {\"class\": \"Linear\", \"kargs\": {\"in_features\": 80*256, \"out_features\": 256}}, # 80 units per IQ pair\n",
    "    {\"class\": \"ReLU\", \"kargs\": {\"inplace\": True}},\n",
    "    {\"class\": \"BatchNorm1d\", \"kargs\": {\"num_features\":256}},\n",
    "\n",
    "    {\"class\": \"Linear\", \"kargs\": {\"in_features\": 256, \"out_features\": 256}},\n",
    "]\n",
    "\n",
    "# Parameters relevant to results\n",
    "# These parameters will basically never need to change\n",
    "standalone_parameters[\"NUM_LOGS_PER_EPOCH\"] = 10\n",
    "standalone_parameters[\"BEST_MODEL_PATH\"] = \"./best_model.pth\"\n",
    "\n",
    "# uncomment for CORES dataset\n",
    "from steves_utils.CORES.utils import (\n",
    "    ALL_NODES,\n",
    "    ALL_NODES_MINIMUM_1000_EXAMPLES,\n",
    "    ALL_DAYS\n",
    ")\n",
    "\n",
    "\n",
    "standalone_parameters[\"labels_source\"] = ALL_NODES\n",
    "standalone_parameters[\"labels_target\"] = ALL_NODES\n",
    "\n",
    "standalone_parameters[\"domains_source\"] = [1]\n",
    "standalone_parameters[\"domains_target\"] = [2,3,4,5]\n",
    "\n",
    "standalone_parameters[\"pickle_name\"] = \"cores.stratified_ds.2022A.pkl\"\n",
    "\n",
    "\n",
    "# Uncomment these for ORACLE dataset\n",
    "# from steves_utils.ORACLE.utils_v2 import (\n",
    "#     ALL_DISTANCES_FEET,\n",
    "#     ALL_RUNS,\n",
    "#     ALL_SERIAL_NUMBERS,\n",
    "# )\n",
    "# standalone_parameters[\"labels_source\"] = ALL_SERIAL_NUMBERS\n",
    "# standalone_parameters[\"labels_target\"] = ALL_SERIAL_NUMBERS\n",
    "# standalone_parameters[\"domains_source\"] = [8,20, 38,50]\n",
    "# standalone_parameters[\"domains_target\"] = [14, 26, 32, 44, 56]\n",
    "# standalone_parameters[\"pickle_name\"] = \"oracle.frame_indexed.stratified_ds.2022A.pkl\"\n",
    "# standalone_parameters[\"num_examples_per_domain_per_label_source\"]=1000\n",
    "# standalone_parameters[\"num_examples_per_domain_per_label_target\"]=1000\n",
    "\n",
    "# Uncomment these for Metahan dataset\n",
    "# standalone_parameters[\"labels_source\"] = list(range(19))\n",
    "# standalone_parameters[\"labels_target\"] = list(range(19))\n",
    "# standalone_parameters[\"domains_source\"] = [0]\n",
    "# standalone_parameters[\"domains_target\"] = [1]\n",
    "# standalone_parameters[\"pickle_name\"] = \"metehan.stratified_ds.2022A.pkl\"\n",
    "# standalone_parameters[\"n_way\"]  = len(standalone_parameters[\"labels_source\"])\n",
    "# standalone_parameters[\"num_examples_per_domain_per_label_source\"]=200\n",
    "# standalone_parameters[\"num_examples_per_domain_per_label_target\"]=100\n",
    "\n",
    "\n",
    "standalone_parameters[\"n_way\"]  = len(standalone_parameters[\"labels_source\"])"
   ]
  },
  {
   "cell_type": "code",
   "execution_count": 4,
   "id": "f6a92691",
   "metadata": {
    "execution": {
     "iopub.execute_input": "2022-03-02T07:10:06.530945Z",
     "iopub.status.busy": "2022-03-02T07:10:06.528937Z",
     "iopub.status.idle": "2022-03-02T07:10:06.541482Z",
     "shell.execute_reply": "2022-03-02T07:10:06.541888Z"
    },
    "papermill": {
     "duration": 0.029663,
     "end_time": "2022-03-02T07:10:06.542010",
     "exception": false,
     "start_time": "2022-03-02T07:10:06.512347",
     "status": "completed"
    },
    "tags": [
     "injected-parameters"
    ]
   },
   "outputs": [],
   "source": [
    "# Parameters\n",
    "parameters = {\n",
    "    \"experiment_name\": \"baseline_ptn_oracle.run1.framed\",\n",
    "    \"lr\": 0.001,\n",
    "    \"device\": \"cuda\",\n",
    "    \"seed\": 1337,\n",
    "    \"dataset_seed\": 1337,\n",
    "    \"labels_source\": [\n",
    "        \"3123D52\",\n",
    "        \"3123D65\",\n",
    "        \"3123D79\",\n",
    "        \"3123D80\",\n",
    "        \"3123D54\",\n",
    "        \"3123D70\",\n",
    "        \"3123D7B\",\n",
    "        \"3123D89\",\n",
    "        \"3123D58\",\n",
    "        \"3123D76\",\n",
    "        \"3123D7D\",\n",
    "        \"3123EFE\",\n",
    "        \"3123D64\",\n",
    "        \"3123D78\",\n",
    "        \"3123D7E\",\n",
    "        \"3124E4A\",\n",
    "    ],\n",
    "    \"labels_target\": [\n",
    "        \"3123D52\",\n",
    "        \"3123D65\",\n",
    "        \"3123D79\",\n",
    "        \"3123D80\",\n",
    "        \"3123D54\",\n",
    "        \"3123D70\",\n",
    "        \"3123D7B\",\n",
    "        \"3123D89\",\n",
    "        \"3123D58\",\n",
    "        \"3123D76\",\n",
    "        \"3123D7D\",\n",
    "        \"3123EFE\",\n",
    "        \"3123D64\",\n",
    "        \"3123D78\",\n",
    "        \"3123D7E\",\n",
    "        \"3124E4A\",\n",
    "    ],\n",
    "    \"x_transforms_source\": [],\n",
    "    \"x_transforms_target\": [],\n",
    "    \"episode_transforms_source\": [],\n",
    "    \"episode_transforms_target\": [],\n",
    "    \"num_examples_per_domain_per_label_source\": 1000,\n",
    "    \"num_examples_per_domain_per_label_target\": 1000,\n",
    "    \"n_shot\": 3,\n",
    "    \"n_way\": 16,\n",
    "    \"n_query\": 2,\n",
    "    \"train_k_factor\": 1,\n",
    "    \"val_k_factor\": 2,\n",
    "    \"test_k_factor\": 2,\n",
    "    \"torch_default_dtype\": \"torch.float64\",\n",
    "    \"n_epoch\": 50,\n",
    "    \"patience\": 3,\n",
    "    \"criteria_for_best\": \"target_loss\",\n",
    "    \"x_net\": [\n",
    "        {\"class\": \"nnReshape\", \"kargs\": {\"shape\": [-1, 1, 2, 256]}},\n",
    "        {\n",
    "            \"class\": \"Conv2d\",\n",
    "            \"kargs\": {\n",
    "                \"in_channels\": 1,\n",
    "                \"out_channels\": 256,\n",
    "                \"kernel_size\": [1, 7],\n",
    "                \"bias\": False,\n",
    "                \"padding\": [0, 3],\n",
    "            },\n",
    "        },\n",
    "        {\"class\": \"ReLU\", \"kargs\": {\"inplace\": True}},\n",
    "        {\"class\": \"BatchNorm2d\", \"kargs\": {\"num_features\": 256}},\n",
    "        {\n",
    "            \"class\": \"Conv2d\",\n",
    "            \"kargs\": {\n",
    "                \"in_channels\": 256,\n",
    "                \"out_channels\": 80,\n",
    "                \"kernel_size\": [2, 7],\n",
    "                \"bias\": True,\n",
    "                \"padding\": [0, 3],\n",
    "            },\n",
    "        },\n",
    "        {\"class\": \"ReLU\", \"kargs\": {\"inplace\": True}},\n",
    "        {\"class\": \"BatchNorm2d\", \"kargs\": {\"num_features\": 80}},\n",
    "        {\"class\": \"Flatten\", \"kargs\": {}},\n",
    "        {\"class\": \"Linear\", \"kargs\": {\"in_features\": 20480, \"out_features\": 256}},\n",
    "        {\"class\": \"ReLU\", \"kargs\": {\"inplace\": True}},\n",
    "        {\"class\": \"BatchNorm1d\", \"kargs\": {\"num_features\": 256}},\n",
    "        {\"class\": \"Linear\", \"kargs\": {\"in_features\": 256, \"out_features\": 256}},\n",
    "    ],\n",
    "    \"NUM_LOGS_PER_EPOCH\": 10,\n",
    "    \"BEST_MODEL_PATH\": \"./best_model.pth\",\n",
    "    \"pickle_name\": \"oracle.Run1_framed_1300Examples_stratified_ds.2022A.pkl\",\n",
    "    \"domains_source\": [8, 32, 50],\n",
    "    \"domains_target\": [14, 20, 26, 38, 44],\n",
    "}\n"
   ]
  },
  {
   "cell_type": "code",
   "execution_count": 5,
   "id": "8fa1cc33",
   "metadata": {
    "execution": {
     "iopub.execute_input": "2022-03-02T07:10:06.569470Z",
     "iopub.status.busy": "2022-03-02T07:10:06.569204Z",
     "iopub.status.idle": "2022-03-02T07:10:06.583929Z",
     "shell.execute_reply": "2022-03-02T07:10:06.584230Z"
    },
    "papermill": {
     "duration": 0.027537,
     "end_time": "2022-03-02T07:10:06.584347",
     "exception": false,
     "start_time": "2022-03-02T07:10:06.556810",
     "status": "completed"
    },
    "tags": []
   },
   "outputs": [],
   "source": [
    "# Set this to True if you want to run this template directly\n",
    "STANDALONE = False\n",
    "if STANDALONE:\n",
    "    print(\"parameters not injected, running with standalone_parameters\")\n",
    "    parameters = standalone_parameters\n",
    "\n",
    "if not 'parameters' in locals() and not 'parameters' in globals():\n",
    "    raise Exception(\"Parameter injection failed\")\n",
    "\n",
    "#Use an easy dict for all the parameters\n",
    "p = EasyDict(parameters)\n",
    "\n",
    "supplied_keys = set(p.keys())\n",
    "\n",
    "if  supplied_keys != required_parameters:\n",
    "    print(\"Parameters are incorrect\")\n",
    "    if len(supplied_keys - required_parameters)>0: print(\"Shouldn't have:\", str(supplied_keys - required_parameters))\n",
    "    if len(required_parameters - supplied_keys)>0: print(\"Need to have:\", str(required_parameters - supplied_keys))\n",
    "    raise RuntimeError(\"Parameters are incorrect\")\n",
    "\n"
   ]
  },
  {
   "cell_type": "code",
   "execution_count": 6,
   "id": "3a028d58",
   "metadata": {
    "execution": {
     "iopub.execute_input": "2022-03-02T07:10:06.612138Z",
     "iopub.status.busy": "2022-03-02T07:10:06.611864Z",
     "iopub.status.idle": "2022-03-02T07:10:06.624899Z",
     "shell.execute_reply": "2022-03-02T07:10:06.625303Z"
    },
    "papermill": {
     "duration": 0.02577,
     "end_time": "2022-03-02T07:10:06.625432",
     "exception": false,
     "start_time": "2022-03-02T07:10:06.599662",
     "status": "completed"
    },
    "tags": []
   },
   "outputs": [],
   "source": [
    "###################################\n",
    "# Set the RNGs and make it all deterministic\n",
    "###################################\n",
    "np.random.seed(p.seed)\n",
    "random.seed(p.seed)\n",
    "torch.manual_seed(p.seed)\n",
    "\n",
    "torch.use_deterministic_algorithms(True) "
   ]
  },
  {
   "cell_type": "code",
   "execution_count": 7,
   "id": "b691acf6",
   "metadata": {
    "execution": {
     "iopub.execute_input": "2022-03-02T07:10:06.652429Z",
     "iopub.status.busy": "2022-03-02T07:10:06.652158Z",
     "iopub.status.idle": "2022-03-02T07:10:06.665470Z",
     "shell.execute_reply": "2022-03-02T07:10:06.664983Z"
    },
    "papermill": {
     "duration": 0.025018,
     "end_time": "2022-03-02T07:10:06.665577",
     "exception": false,
     "start_time": "2022-03-02T07:10:06.640559",
     "status": "completed"
    },
    "tags": []
   },
   "outputs": [],
   "source": [
    "###########################################\n",
    "# The stratified datasets honor this\n",
    "###########################################\n",
    "torch.set_default_dtype(eval(p.torch_default_dtype))"
   ]
  },
  {
   "cell_type": "code",
   "execution_count": 8,
   "id": "b5fba671",
   "metadata": {
    "execution": {
     "iopub.execute_input": "2022-03-02T07:10:06.692108Z",
     "iopub.status.busy": "2022-03-02T07:10:06.691698Z",
     "iopub.status.idle": "2022-03-02T07:10:06.747969Z",
     "shell.execute_reply": "2022-03-02T07:10:06.747439Z"
    },
    "papermill": {
     "duration": 0.067737,
     "end_time": "2022-03-02T07:10:06.748079",
     "exception": false,
     "start_time": "2022-03-02T07:10:06.680342",
     "status": "completed"
    },
    "tags": []
   },
   "outputs": [],
   "source": [
    "###################################\n",
    "# Build the network(s)\n",
    "# Note: It's critical to do this AFTER setting the RNG\n",
    "# (This is due to the randomized initial weights)\n",
    "###################################\n",
    "x_net = build_sequential(p.x_net)"
   ]
  },
  {
   "cell_type": "code",
   "execution_count": 9,
   "id": "5d7e61cc",
   "metadata": {
    "execution": {
     "iopub.execute_input": "2022-03-02T07:10:06.774374Z",
     "iopub.status.busy": "2022-03-02T07:10:06.774125Z",
     "iopub.status.idle": "2022-03-02T07:10:06.787403Z",
     "shell.execute_reply": "2022-03-02T07:10:06.787145Z"
    },
    "papermill": {
     "duration": 0.025226,
     "end_time": "2022-03-02T07:10:06.787457",
     "exception": false,
     "start_time": "2022-03-02T07:10:06.762231",
     "status": "completed"
    },
    "tags": []
   },
   "outputs": [],
   "source": [
    "start_time_secs = time.time()"
   ]
  },
  {
   "cell_type": "code",
   "execution_count": 10,
   "id": "fd5442bc",
   "metadata": {
    "execution": {
     "iopub.execute_input": "2022-03-02T07:10:06.817325Z",
     "iopub.status.busy": "2022-03-02T07:10:06.817054Z",
     "iopub.status.idle": "2022-03-02T07:10:08.704683Z",
     "shell.execute_reply": "2022-03-02T07:10:08.705087Z"
    },
    "papermill": {
     "duration": 1.903496,
     "end_time": "2022-03-02T07:10:08.705225",
     "exception": false,
     "start_time": "2022-03-02T07:10:06.801729",
     "status": "completed"
    },
    "tags": []
   },
   "outputs": [],
   "source": [
    "###################################\n",
    "# Build the dataset\n",
    "###################################\n",
    "\n",
    "if p.x_transforms_source == []: x_transform_source = None\n",
    "else: x_transform_source = get_chained_transform(p.x_transforms_source) \n",
    "\n",
    "if p.x_transforms_target == []: x_transform_target = None\n",
    "else: x_transform_target = get_chained_transform(p.x_transforms_target)\n",
    "\n",
    "if p.episode_transforms_source == []: episode_transform_source = None\n",
    "else: raise Exception(\"episode_transform_source not implemented\")\n",
    "\n",
    "if p.episode_transforms_target == []: episode_transform_target = None\n",
    "else: raise Exception(\"episode_transform_target not implemented\")\n",
    "\n",
    "\n",
    "eaf_source = Episodic_Accessor_Factory(\n",
    "    labels=p.labels_source,\n",
    "    domains=p.domains_source,\n",
    "    num_examples_per_domain_per_label=p.num_examples_per_domain_per_label_source,\n",
    "    iterator_seed=p.seed,\n",
    "    dataset_seed=p.dataset_seed,\n",
    "    n_shot=p.n_shot,\n",
    "    n_way=p.n_way,\n",
    "    n_query=p.n_query,\n",
    "    train_val_test_k_factors=(p.train_k_factor,p.val_k_factor,p.test_k_factor),\n",
    "    pickle_path=os.path.join(get_datasets_base_path(), p.pickle_name),\n",
    "    x_transform_func=x_transform_source,\n",
    "    example_transform_func=episode_transform_source,\n",
    "    \n",
    ")\n",
    "train_original_source, val_original_source, test_original_source = eaf_source.get_train(), eaf_source.get_val(), eaf_source.get_test()\n",
    "\n",
    "\n",
    "eaf_target = Episodic_Accessor_Factory(\n",
    "    labels=p.labels_target,\n",
    "    domains=p.domains_target,\n",
    "    num_examples_per_domain_per_label=p.num_examples_per_domain_per_label_target,\n",
    "    iterator_seed=p.seed,\n",
    "    dataset_seed=p.dataset_seed,\n",
    "    n_shot=p.n_shot,\n",
    "    n_way=p.n_way,\n",
    "    n_query=p.n_query,\n",
    "    train_val_test_k_factors=(p.train_k_factor,p.val_k_factor,p.test_k_factor),\n",
    "    pickle_path=os.path.join(get_datasets_base_path(), p.pickle_name),\n",
    "    x_transform_func=x_transform_target,\n",
    "    example_transform_func=episode_transform_target,\n",
    ")\n",
    "train_original_target, val_original_target, test_original_target = eaf_target.get_train(), eaf_target.get_val(), eaf_target.get_test()\n",
    "\n",
    "\n",
    "transform_lambda = lambda ex: ex[1] # Original is (<domain>, <episode>) so we strip down to episode only\n",
    "\n",
    "train_processed_source = Lazy_Iterable_Wrapper(train_original_source, transform_lambda)\n",
    "val_processed_source   = Lazy_Iterable_Wrapper(val_original_source, transform_lambda)\n",
    "test_processed_source  = Lazy_Iterable_Wrapper(test_original_source, transform_lambda)\n",
    "\n",
    "train_processed_target = Lazy_Iterable_Wrapper(train_original_target, transform_lambda)\n",
    "val_processed_target   = Lazy_Iterable_Wrapper(val_original_target, transform_lambda)\n",
    "test_processed_target  = Lazy_Iterable_Wrapper(test_original_target, transform_lambda)\n",
    "\n",
    "datasets = EasyDict({\n",
    "    \"source\": {\n",
    "        \"original\": {\"train\":train_original_source, \"val\":val_original_source, \"test\":test_original_source},\n",
    "        \"processed\": {\"train\":train_processed_source, \"val\":val_processed_source, \"test\":test_processed_source}\n",
    "    },\n",
    "    \"target\": {\n",
    "        \"original\": {\"train\":train_original_target, \"val\":val_original_target, \"test\":test_original_target},\n",
    "        \"processed\": {\"train\":train_processed_target, \"val\":val_processed_target, \"test\":test_processed_target}\n",
    "    },\n",
    "})"
   ]
  },
  {
   "cell_type": "code",
   "execution_count": 11,
   "id": "296189d9",
   "metadata": {
    "execution": {
     "iopub.execute_input": "2022-03-02T07:10:08.734553Z",
     "iopub.status.busy": "2022-03-02T07:10:08.734294Z",
     "iopub.status.idle": "2022-03-02T07:10:11.302425Z",
     "shell.execute_reply": "2022-03-02T07:10:11.302807Z"
    },
    "papermill": {
     "duration": 2.5819,
     "end_time": "2022-03-02T07:10:11.302932",
     "exception": false,
     "start_time": "2022-03-02T07:10:08.721032",
     "status": "completed"
    },
    "tags": []
   },
   "outputs": [
    {
     "name": "stdout",
     "output_type": "stream",
     "text": [
      "Visually inspect these to see if they line up with expected values given the transforms\n",
      "x_transforms_source []\n",
      "x_transforms_target []\n",
      "Average magnitude, source: 0.004841768148377073\n",
      "Average power, source: 2.9678383354097574e-05\n"
     ]
    },
    {
     "name": "stdout",
     "output_type": "stream",
     "text": [
      "Average magnitude, target: 0.002818347977464427\n",
      "Average power, target: 1.0014093280608003e-05\n"
     ]
    }
   ],
   "source": [
    "# Some quick unit tests on the data\n",
    "from steves_utils.transforms import get_average_power, get_average_magnitude\n",
    "\n",
    "q_x, q_y, s_x, s_y, truth = next(iter(train_processed_source))\n",
    "\n",
    "assert q_x.dtype == eval(p.torch_default_dtype)\n",
    "assert s_x.dtype == eval(p.torch_default_dtype)\n",
    "\n",
    "print(\"Visually inspect these to see if they line up with expected values given the transforms\")\n",
    "print('x_transforms_source', p.x_transforms_source)\n",
    "print('x_transforms_target', p.x_transforms_target)\n",
    "print(\"Average magnitude, source:\", get_average_magnitude(q_x[0].numpy()))\n",
    "print(\"Average power, source:\", get_average_power(q_x[0].numpy()))\n",
    "\n",
    "q_x, q_y, s_x, s_y, truth = next(iter(train_processed_target))\n",
    "print(\"Average magnitude, target:\", get_average_magnitude(q_x[0].numpy()))\n",
    "print(\"Average power, target:\", get_average_power(q_x[0].numpy()))\n"
   ]
  },
  {
   "cell_type": "code",
   "execution_count": 12,
   "id": "bbdacba1",
   "metadata": {
    "execution": {
     "iopub.execute_input": "2022-03-02T07:10:11.328766Z",
     "iopub.status.busy": "2022-03-02T07:10:11.328513Z",
     "iopub.status.idle": "2022-03-02T07:10:11.490216Z",
     "shell.execute_reply": "2022-03-02T07:10:11.489746Z"
    },
    "papermill": {
     "duration": 0.174723,
     "end_time": "2022-03-02T07:10:11.490318",
     "exception": false,
     "start_time": "2022-03-02T07:10:11.315595",
     "status": "completed"
    },
    "tags": []
   },
   "outputs": [
    {
     "name": "stdout",
     "output_type": "stream",
     "text": [
      "(2, 256)\n"
     ]
    }
   ],
   "source": [
    "###################################\n",
    "# Build the model\n",
    "###################################\n",
    "model = Steves_Prototypical_Network(x_net, device=p.device, x_shape=(2,256))\n",
    "optimizer = Adam(params=model.parameters(), lr=p.lr)"
   ]
  },
  {
   "cell_type": "code",
   "execution_count": 13,
   "id": "22b39ac5",
   "metadata": {
    "execution": {
     "iopub.execute_input": "2022-03-02T07:10:11.518596Z",
     "iopub.status.busy": "2022-03-02T07:10:11.518339Z",
     "iopub.status.idle": "2022-03-02T07:27:12.851333Z",
     "shell.execute_reply": "2022-03-02T07:27:12.851102Z"
    },
    "papermill": {
     "duration": 1021.345785,
     "end_time": "2022-03-02T07:27:12.851392",
     "exception": false,
     "start_time": "2022-03-02T07:10:11.505607",
     "status": "completed"
    },
    "tags": []
   },
   "outputs": [
    {
     "name": "stdout",
     "output_type": "stream",
     "text": [
      "epoch: 1, [batch: 1 / 420], examples_per_second: 9.1057, train_label_loss: 2.3406, \n"
     ]
    },
    {
     "name": "stdout",
     "output_type": "stream",
     "text": [
      "epoch: 1, [batch: 42 / 420], examples_per_second: 267.6126, train_label_loss: 0.8983, \n"
     ]
    },
    {
     "name": "stdout",
     "output_type": "stream",
     "text": [
      "epoch: 1, [batch: 84 / 420], examples_per_second: 273.7095, train_label_loss: 0.9177, \n"
     ]
    },
    {
     "name": "stdout",
     "output_type": "stream",
     "text": [
      "epoch: 1, [batch: 126 / 420], examples_per_second: 280.7833, train_label_loss: 0.9430, \n"
     ]
    },
    {
     "name": "stdout",
     "output_type": "stream",
     "text": [
      "epoch: 1, [batch: 168 / 420], examples_per_second: 289.7283, train_label_loss: 0.9191, \n"
     ]
    },
    {
     "name": "stdout",
     "output_type": "stream",
     "text": [
      "epoch: 1, [batch: 210 / 420], examples_per_second: 296.1024, train_label_loss: 1.0463, \n"
     ]
    },
    {
     "name": "stdout",
     "output_type": "stream",
     "text": [
      "epoch: 1, [batch: 252 / 420], examples_per_second: 306.7581, train_label_loss: 0.7944, \n"
     ]
    },
    {
     "name": "stdout",
     "output_type": "stream",
     "text": [
      "epoch: 1, [batch: 294 / 420], examples_per_second: 311.0346, train_label_loss: 0.6902, \n"
     ]
    },
    {
     "name": "stdout",
     "output_type": "stream",
     "text": [
      "epoch: 1, [batch: 336 / 420], examples_per_second: 319.2893, train_label_loss: 0.6313, \n"
     ]
    },
    {
     "name": "stdout",
     "output_type": "stream",
     "text": [
      "epoch: 1, [batch: 378 / 420], examples_per_second: 329.3721, train_label_loss: 0.8371, \n"
     ]
    },
    {
     "name": "stdout",
     "output_type": "stream",
     "text": [
      "=============================================================\n",
      "epoch: 1, source_val_acc_label: 0.5939, target_val_acc_label: 0.4630, source_val_label_loss: 1.1644, target_val_label_loss: 1.5364, \n",
      "=============================================================\n"
     ]
    },
    {
     "name": "stdout",
     "output_type": "stream",
     "text": [
      "New best\n"
     ]
    },
    {
     "name": "stdout",
     "output_type": "stream",
     "text": [
      "epoch: 2, [batch: 1 / 420], examples_per_second: 2.3484, train_label_loss: 1.0940, \n"
     ]
    },
    {
     "name": "stdout",
     "output_type": "stream",
     "text": [
      "epoch: 2, [batch: 42 / 420], examples_per_second: 264.6994, train_label_loss: 0.9044, \n"
     ]
    },
    {
     "name": "stdout",
     "output_type": "stream",
     "text": [
      "epoch: 2, [batch: 84 / 420], examples_per_second: 271.9307, train_label_loss: 0.8854, \n"
     ]
    },
    {
     "name": "stdout",
     "output_type": "stream",
     "text": [
      "epoch: 2, [batch: 126 / 420], examples_per_second: 279.9134, train_label_loss: 0.8987, \n"
     ]
    },
    {
     "name": "stdout",
     "output_type": "stream",
     "text": [
      "epoch: 2, [batch: 168 / 420], examples_per_second: 286.8173, train_label_loss: 0.5989, \n"
     ]
    },
    {
     "name": "stdout",
     "output_type": "stream",
     "text": [
      "epoch: 2, [batch: 210 / 420], examples_per_second: 295.5660, train_label_loss: 0.7295, \n"
     ]
    },
    {
     "name": "stdout",
     "output_type": "stream",
     "text": [
      "epoch: 2, [batch: 252 / 420], examples_per_second: 303.3820, train_label_loss: 0.6924, \n"
     ]
    },
    {
     "name": "stdout",
     "output_type": "stream",
     "text": [
      "epoch: 2, [batch: 294 / 420], examples_per_second: 311.8358, train_label_loss: 0.5253, \n"
     ]
    },
    {
     "name": "stdout",
     "output_type": "stream",
     "text": [
      "epoch: 2, [batch: 336 / 420], examples_per_second: 321.8062, train_label_loss: 0.5960, \n"
     ]
    },
    {
     "name": "stdout",
     "output_type": "stream",
     "text": [
      "epoch: 2, [batch: 378 / 420], examples_per_second: 331.3982, train_label_loss: 0.3291, \n"
     ]
    },
    {
     "name": "stdout",
     "output_type": "stream",
     "text": [
      "=============================================================\n",
      "epoch: 2, source_val_acc_label: 0.8111, target_val_acc_label: 0.5505, source_val_label_loss: 0.4744, target_val_label_loss: 1.2845, \n",
      "=============================================================\n"
     ]
    },
    {
     "name": "stdout",
     "output_type": "stream",
     "text": [
      "New best\n"
     ]
    },
    {
     "name": "stdout",
     "output_type": "stream",
     "text": [
      "epoch: 3, [batch: 1 / 420], examples_per_second: 2.3415, train_label_loss: 0.6419, \n"
     ]
    },
    {
     "name": "stdout",
     "output_type": "stream",
     "text": [
      "epoch: 3, [batch: 42 / 420], examples_per_second: 264.4026, train_label_loss: 0.5906, \n"
     ]
    },
    {
     "name": "stdout",
     "output_type": "stream",
     "text": [
      "epoch: 3, [batch: 84 / 420], examples_per_second: 272.3267, train_label_loss: 0.3219, \n"
     ]
    },
    {
     "name": "stdout",
     "output_type": "stream",
     "text": [
      "epoch: 3, [batch: 126 / 420], examples_per_second: 278.1391, train_label_loss: 0.4786, \n"
     ]
    },
    {
     "name": "stdout",
     "output_type": "stream",
     "text": [
      "epoch: 3, [batch: 168 / 420], examples_per_second: 287.6560, train_label_loss: 0.4874, \n"
     ]
    },
    {
     "name": "stdout",
     "output_type": "stream",
     "text": [
      "epoch: 3, [batch: 210 / 420], examples_per_second: 294.3178, train_label_loss: 0.2247, \n"
     ]
    },
    {
     "name": "stdout",
     "output_type": "stream",
     "text": [
      "epoch: 3, [batch: 252 / 420], examples_per_second: 302.9768, train_label_loss: 0.3457, \n"
     ]
    },
    {
     "name": "stdout",
     "output_type": "stream",
     "text": [
      "epoch: 3, [batch: 294 / 420], examples_per_second: 312.1462, train_label_loss: 0.2317, \n"
     ]
    },
    {
     "name": "stdout",
     "output_type": "stream",
     "text": [
      "epoch: 3, [batch: 336 / 420], examples_per_second: 322.1315, train_label_loss: 0.2812, \n"
     ]
    },
    {
     "name": "stdout",
     "output_type": "stream",
     "text": [
      "epoch: 3, [batch: 378 / 420], examples_per_second: 331.6680, train_label_loss: 0.0925, \n"
     ]
    },
    {
     "name": "stdout",
     "output_type": "stream",
     "text": [
      "=============================================================\n",
      "epoch: 3, source_val_acc_label: 0.8997, target_val_acc_label: 0.5766, source_val_label_loss: 0.2587, target_val_label_loss: 1.4902, \n",
      "=============================================================\n"
     ]
    },
    {
     "name": "stdout",
     "output_type": "stream",
     "text": [
      "epoch: 4, [batch: 1 / 420], examples_per_second: 2.3676, train_label_loss: 0.3106, \n"
     ]
    },
    {
     "name": "stdout",
     "output_type": "stream",
     "text": [
      "epoch: 4, [batch: 42 / 420], examples_per_second: 266.1934, train_label_loss: 1.0411, \n"
     ]
    },
    {
     "name": "stdout",
     "output_type": "stream",
     "text": [
      "epoch: 4, [batch: 84 / 420], examples_per_second: 272.6729, train_label_loss: 0.0920, \n"
     ]
    },
    {
     "name": "stdout",
     "output_type": "stream",
     "text": [
      "epoch: 4, [batch: 126 / 420], examples_per_second: 280.9473, train_label_loss: 0.2635, \n"
     ]
    },
    {
     "name": "stdout",
     "output_type": "stream",
     "text": [
      "epoch: 4, [batch: 168 / 420], examples_per_second: 286.7472, train_label_loss: 0.2341, \n"
     ]
    },
    {
     "name": "stdout",
     "output_type": "stream",
     "text": [
      "epoch: 4, [batch: 210 / 420], examples_per_second: 294.6145, train_label_loss: 0.1380, \n"
     ]
    },
    {
     "name": "stdout",
     "output_type": "stream",
     "text": [
      "epoch: 4, [batch: 252 / 420], examples_per_second: 303.2668, train_label_loss: 0.2876, \n"
     ]
    },
    {
     "name": "stdout",
     "output_type": "stream",
     "text": [
      "epoch: 4, [batch: 294 / 420], examples_per_second: 311.6179, train_label_loss: 0.4240, \n"
     ]
    },
    {
     "name": "stdout",
     "output_type": "stream",
     "text": [
      "epoch: 4, [batch: 336 / 420], examples_per_second: 323.1104, train_label_loss: 0.1222, \n"
     ]
    },
    {
     "name": "stdout",
     "output_type": "stream",
     "text": [
      "epoch: 4, [batch: 378 / 420], examples_per_second: 332.1815, train_label_loss: 0.0403, \n"
     ]
    },
    {
     "name": "stdout",
     "output_type": "stream",
     "text": [
      "=============================================================\n",
      "epoch: 4, source_val_acc_label: 0.9413, target_val_acc_label: 0.5801, source_val_label_loss: 0.1616, target_val_label_loss: 1.5870, \n",
      "=============================================================\n"
     ]
    },
    {
     "name": "stdout",
     "output_type": "stream",
     "text": [
      "epoch: 5, [batch: 1 / 420], examples_per_second: 2.3555, train_label_loss: 0.1792, \n"
     ]
    },
    {
     "name": "stdout",
     "output_type": "stream",
     "text": [
      "epoch: 5, [batch: 42 / 420], examples_per_second: 263.7779, train_label_loss: 0.2393, \n"
     ]
    },
    {
     "name": "stdout",
     "output_type": "stream",
     "text": [
      "epoch: 5, [batch: 84 / 420], examples_per_second: 271.6632, train_label_loss: 0.0534, \n"
     ]
    },
    {
     "name": "stdout",
     "output_type": "stream",
     "text": [
      "epoch: 5, [batch: 126 / 420], examples_per_second: 278.6182, train_label_loss: 0.0422, \n"
     ]
    },
    {
     "name": "stdout",
     "output_type": "stream",
     "text": [
      "epoch: 5, [batch: 168 / 420], examples_per_second: 286.0634, train_label_loss: 0.1314, \n"
     ]
    },
    {
     "name": "stdout",
     "output_type": "stream",
     "text": [
      "epoch: 5, [batch: 210 / 420], examples_per_second: 294.1045, train_label_loss: 0.5314, \n"
     ]
    },
    {
     "name": "stdout",
     "output_type": "stream",
     "text": [
      "epoch: 5, [batch: 252 / 420], examples_per_second: 302.5198, train_label_loss: 0.0188, \n"
     ]
    },
    {
     "name": "stdout",
     "output_type": "stream",
     "text": [
      "epoch: 5, [batch: 294 / 420], examples_per_second: 311.5290, train_label_loss: 0.1064, \n"
     ]
    },
    {
     "name": "stdout",
     "output_type": "stream",
     "text": [
      "epoch: 5, [batch: 336 / 420], examples_per_second: 321.5019, train_label_loss: 0.1116, \n"
     ]
    },
    {
     "name": "stdout",
     "output_type": "stream",
     "text": [
      "epoch: 5, [batch: 378 / 420], examples_per_second: 333.4137, train_label_loss: 0.0309, \n"
     ]
    },
    {
     "name": "stdout",
     "output_type": "stream",
     "text": [
      "=============================================================\n",
      "epoch: 5, source_val_acc_label: 0.9507, target_val_acc_label: 0.6107, source_val_label_loss: 0.1493, target_val_label_loss: 1.6368, \n",
      "=============================================================\n"
     ]
    },
    {
     "name": "stdout",
     "output_type": "stream",
     "text": [
      "epoch: 6, [batch: 1 / 420], examples_per_second: 2.3460, train_label_loss: 0.0168, \n"
     ]
    },
    {
     "name": "stdout",
     "output_type": "stream",
     "text": [
      "epoch: 6, [batch: 42 / 420], examples_per_second: 264.5791, train_label_loss: 0.0154, \n"
     ]
    },
    {
     "name": "stdout",
     "output_type": "stream",
     "text": [
      "epoch: 6, [batch: 84 / 420], examples_per_second: 271.2487, train_label_loss: 0.0845, \n"
     ]
    },
    {
     "name": "stdout",
     "output_type": "stream",
     "text": [
      "epoch: 6, [batch: 126 / 420], examples_per_second: 279.4343, train_label_loss: 0.0035, \n"
     ]
    },
    {
     "name": "stdout",
     "output_type": "stream",
     "text": [
      "epoch: 6, [batch: 168 / 420], examples_per_second: 286.7340, train_label_loss: 0.0263, \n"
     ]
    },
    {
     "name": "stdout",
     "output_type": "stream",
     "text": [
      "epoch: 6, [batch: 210 / 420], examples_per_second: 295.1975, train_label_loss: 0.0369, \n"
     ]
    },
    {
     "name": "stdout",
     "output_type": "stream",
     "text": [
      "epoch: 6, [batch: 252 / 420], examples_per_second: 302.9733, train_label_loss: 0.0520, \n"
     ]
    },
    {
     "name": "stdout",
     "output_type": "stream",
     "text": [
      "epoch: 6, [batch: 294 / 420], examples_per_second: 313.5063, train_label_loss: 0.1131, \n"
     ]
    },
    {
     "name": "stdout",
     "output_type": "stream",
     "text": [
      "epoch: 6, [batch: 336 / 420], examples_per_second: 321.8845, train_label_loss: 0.2271, \n"
     ]
    },
    {
     "name": "stdout",
     "output_type": "stream",
     "text": [
      "epoch: 6, [batch: 378 / 420], examples_per_second: 331.9630, train_label_loss: 0.2727, \n"
     ]
    },
    {
     "name": "stdout",
     "output_type": "stream",
     "text": [
      "=============================================================\n",
      "epoch: 6, source_val_acc_label: 0.9792, target_val_acc_label: 0.6166, source_val_label_loss: 0.0659, target_val_label_loss: 1.6631, \n",
      "=============================================================\n"
     ]
    },
    {
     "name": "stdout",
     "output_type": "stream",
     "text": [
      "Patience (3) exhausted\n"
     ]
    }
   ],
   "source": [
    "###################################\n",
    "# train\n",
    "###################################\n",
    "jig = PTN_Train_Eval_Test_Jig(model, p.BEST_MODEL_PATH, p.device)\n",
    "\n",
    "jig.train(\n",
    "    train_iterable=datasets.source.processed.train,\n",
    "    source_val_iterable=datasets.source.processed.val,\n",
    "    target_val_iterable=datasets.target.processed.val,\n",
    "    num_epochs=p.n_epoch,\n",
    "    num_logs_per_epoch=p.NUM_LOGS_PER_EPOCH,\n",
    "    patience=p.patience,\n",
    "    optimizer=optimizer,\n",
    "    criteria_for_best=p.criteria_for_best,\n",
    ")"
   ]
  },
  {
   "cell_type": "code",
   "execution_count": 14,
   "id": "31e8fabf",
   "metadata": {
    "execution": {
     "iopub.execute_input": "2022-03-02T07:27:12.899430Z",
     "iopub.status.busy": "2022-03-02T07:27:12.899128Z",
     "iopub.status.idle": "2022-03-02T07:27:12.915482Z",
     "shell.execute_reply": "2022-03-02T07:27:12.915029Z"
    },
    "papermill": {
     "duration": 0.041738,
     "end_time": "2022-03-02T07:27:12.915572",
     "exception": false,
     "start_time": "2022-03-02T07:27:12.873834",
     "status": "completed"
    },
    "tags": []
   },
   "outputs": [],
   "source": [
    "total_experiment_time_secs = time.time() - start_time_secs"
   ]
  },
  {
   "cell_type": "code",
   "execution_count": 15,
   "id": "87b9595b",
   "metadata": {
    "execution": {
     "iopub.execute_input": "2022-03-02T07:27:12.969399Z",
     "iopub.status.busy": "2022-03-02T07:27:12.969133Z",
     "iopub.status.idle": "2022-03-02T07:30:38.680036Z",
     "shell.execute_reply": "2022-03-02T07:30:38.679544Z"
    },
    "papermill": {
     "duration": 205.7381,
     "end_time": "2022-03-02T07:30:38.680148",
     "exception": false,
     "start_time": "2022-03-02T07:27:12.942048",
     "status": "completed"
    },
    "tags": []
   },
   "outputs": [],
   "source": [
    "###################################\n",
    "# Evaluate the model\n",
    "###################################\n",
    "source_test_label_accuracy, source_test_label_loss = jig.test(datasets.source.processed.test)\n",
    "target_test_label_accuracy, target_test_label_loss = jig.test(datasets.target.processed.test)\n",
    "\n",
    "source_val_label_accuracy, source_val_label_loss = jig.test(datasets.source.processed.val)\n",
    "target_val_label_accuracy, target_val_label_loss = jig.test(datasets.target.processed.val)\n",
    "\n",
    "history = jig.get_history()\n",
    "\n",
    "total_epochs_trained = len(history[\"epoch_indices\"])\n",
    "\n",
    "val_dl = Iterable_Aggregator((datasets.source.original.val,datasets.target.original.val))\n",
    "\n",
    "confusion = ptn_confusion_by_domain_over_dataloader(model, p.device, val_dl)\n",
    "per_domain_accuracy = per_domain_accuracy_from_confusion(confusion)\n",
    "\n",
    "# Add a key to per_domain_accuracy for if it was a source domain\n",
    "for domain, accuracy in per_domain_accuracy.items():\n",
    "    per_domain_accuracy[domain] = {\n",
    "        \"accuracy\": accuracy,\n",
    "        \"source?\": domain in p.domains_source\n",
    "    }\n",
    "\n",
    "# Do an independent accuracy assesment JUST TO BE SURE!\n",
    "# _source_test_label_accuracy = independent_accuracy_assesment(model, datasets.source.processed.test, p.device)\n",
    "# _target_test_label_accuracy = independent_accuracy_assesment(model, datasets.target.processed.test, p.device)\n",
    "# _source_val_label_accuracy = independent_accuracy_assesment(model, datasets.source.processed.val, p.device)\n",
    "# _target_val_label_accuracy = independent_accuracy_assesment(model, datasets.target.processed.val, p.device)\n",
    "\n",
    "# assert(_source_test_label_accuracy == source_test_label_accuracy)\n",
    "# assert(_target_test_label_accuracy == target_test_label_accuracy)\n",
    "# assert(_source_val_label_accuracy == source_val_label_accuracy)\n",
    "# assert(_target_val_label_accuracy == target_val_label_accuracy)\n",
    "\n",
    "experiment = {\n",
    "    \"experiment_name\": p.experiment_name,\n",
    "    \"parameters\": dict(p),\n",
    "    \"results\": {\n",
    "        \"source_test_label_accuracy\": source_test_label_accuracy,\n",
    "        \"source_test_label_loss\": source_test_label_loss,\n",
    "        \"target_test_label_accuracy\": target_test_label_accuracy,\n",
    "        \"target_test_label_loss\": target_test_label_loss,\n",
    "        \"source_val_label_accuracy\": source_val_label_accuracy,\n",
    "        \"source_val_label_loss\": source_val_label_loss,\n",
    "        \"target_val_label_accuracy\": target_val_label_accuracy,\n",
    "        \"target_val_label_loss\": target_val_label_loss,\n",
    "        \"total_epochs_trained\": total_epochs_trained,\n",
    "        \"total_experiment_time_secs\": total_experiment_time_secs,\n",
    "        \"confusion\": confusion,\n",
    "        \"per_domain_accuracy\": per_domain_accuracy,\n",
    "    },\n",
    "    \"history\": history,\n",
    "    \"dataset_metrics\": get_dataset_metrics(datasets, \"ptn\"),\n",
    "}"
   ]
  },
  {
   "cell_type": "code",
   "execution_count": 16,
   "id": "54a21829",
   "metadata": {
    "execution": {
     "iopub.execute_input": "2022-03-02T07:30:38.733619Z",
     "iopub.status.busy": "2022-03-02T07:30:38.733366Z",
     "iopub.status.idle": "2022-03-02T07:30:38.918460Z",
     "shell.execute_reply": "2022-03-02T07:30:38.918873Z"
    },
    "papermill": {
     "duration": 0.210536,
     "end_time": "2022-03-02T07:30:38.918999",
     "exception": false,
     "start_time": "2022-03-02T07:30:38.708463",
     "status": "completed"
    },
    "tags": []
   },
   "outputs": [
    {
     "data": {
      "image/png": "[encoded data removed]",
      "text/plain": [
       "<Figure size 1080x504 with 1 Axes>"
      ]
     },
     "metadata": {
      "needs_background": "light"
     },
     "output_type": "display_data"
    }
   ],
   "source": [
    "ax = get_loss_curve(experiment)\n",
    "plt.show()"
   ]
  },
  {
   "cell_type": "code",
   "execution_count": 17,
   "id": "fd8a0f60",
   "metadata": {
    "execution": {
     "iopub.execute_input": "2022-03-02T07:30:38.973619Z",
     "iopub.status.busy": "2022-03-02T07:30:38.973335Z",
     "iopub.status.idle": "2022-03-02T07:30:39.231319Z",
     "shell.execute_reply": "2022-03-02T07:30:39.231751Z"
    },
    "papermill": {
     "duration": 0.284547,
     "end_time": "2022-03-02T07:30:39.231885",
     "exception": false,
     "start_time": "2022-03-02T07:30:38.947338",
     "status": "completed"
    },
    "tags": []
   },
   "outputs": [
    {
     "data": {
      "text/plain": [
       "<matplotlib.axes._subplots.AxesSubplot at 0x7f17b44273a0>"
      ]
     },
     "execution_count": 17,
     "metadata": {},
     "output_type": "execute_result"
    },
    {
     "data": {
      "image/png": "[encoded data removed]",
      "text/plain": [
       "<Figure size 1080x504 with 1 Axes>"
      ]
     },
     "metadata": {
      "needs_background": "light"
     },
     "output_type": "display_data"
    }
   ],
   "source": [
    "get_results_table(experiment)"
   ]
  },
  {
   "cell_type": "code",
   "execution_count": 18,
   "id": "cf8dc689",
   "metadata": {
    "execution": {
     "iopub.execute_input": "2022-03-02T07:30:39.288115Z",
     "iopub.status.busy": "2022-03-02T07:30:39.287262Z",
     "iopub.status.idle": "2022-03-02T07:30:39.463277Z",
     "shell.execute_reply": "2022-03-02T07:30:39.462775Z"
    },
    "papermill": {
     "duration": 0.203745,
     "end_time": "2022-03-02T07:30:39.463385",
     "exception": false,
     "start_time": "2022-03-02T07:30:39.259640",
     "status": "completed"
    },
    "tags": []
   },
   "outputs": [
    {
     "data": {
      "text/plain": [
       "<matplotlib.axes._subplots.AxesSubplot at 0x7f17b44159d0>"
      ]
     },
     "execution_count": 18,
     "metadata": {},
     "output_type": "execute_result"
    },
    {
     "data": {
      "image/png": "[encoded data removed]",
      "text/plain": [
       "<Figure size 1080x504 with 1 Axes>"
      ]
     },
     "metadata": {
      "needs_background": "light"
     },
     "output_type": "display_data"
    }
   ],
   "source": [
    "get_domain_accuracies(experiment)"
   ]
  },
  {
   "cell_type": "code",
   "execution_count": 19,
   "id": "a74ae082",
   "metadata": {
    "execution": {
     "iopub.execute_input": "2022-03-02T07:30:39.527306Z",
     "iopub.status.busy": "2022-03-02T07:30:39.522579Z",
     "iopub.status.idle": "2022-03-02T07:30:39.536249Z",
     "shell.execute_reply": "2022-03-02T07:30:39.535746Z"
    },
    "papermill": {
     "duration": 0.04268,
     "end_time": "2022-03-02T07:30:39.536352",
     "exception": false,
     "start_time": "2022-03-02T07:30:39.493672",
     "status": "completed"
    },
    "tags": []
   },
   "outputs": [
    {
     "name": "stdout",
     "output_type": "stream",
     "text": [
      "Source Test Label Accuracy: 0.8072916666666666 Target Test Label Accuracy: 0.5459375\n",
      "Source Val Label Accuracy: 0.8111111111111111 Target Val Label Accuracy: 0.5505208333333333\n"
     ]
    }
   ],
   "source": [
    "print(\"Source Test Label Accuracy:\", experiment[\"results\"][\"source_test_label_accuracy\"], \"Target Test Label Accuracy:\", experiment[\"results\"][\"target_test_label_accuracy\"])\n",
    "print(\"Source Val Label Accuracy:\", experiment[\"results\"][\"source_val_label_accuracy\"], \"Target Val Label Accuracy:\", experiment[\"results\"][\"target_val_label_accuracy\"])"
   ]
  },
  {
   "cell_type": "code",
   "execution_count": 20,
   "id": "dacca602",
   "metadata": {
    "execution": {
     "iopub.execute_input": "2022-03-02T07:30:39.592658Z",
     "iopub.status.busy": "2022-03-02T07:30:39.592408Z",
     "iopub.status.idle": "2022-03-02T07:30:39.603020Z",
     "shell.execute_reply": "2022-03-02T07:30:39.602611Z"
    },
    "papermill": {
     "duration": 0.038646,
     "end_time": "2022-03-02T07:30:39.603122",
     "exception": false,
     "start_time": "2022-03-02T07:30:39.564476",
     "status": "completed"
    },
    "tags": [
     "experiment_json"
    ]
   },
   "outputs": [
    {
     "data": {
      "text/plain": [
       "'{\"experiment_name\": \"baseline_ptn_oracle.run1.framed\", \"parameters\": {\"experiment_name\": \"baseline_ptn_oracle.run1.framed\", \"lr\": 0.001, \"device\": \"cuda\", \"seed\": 1337, \"dataset_seed\": 1337, \"labels_source\": [\"3123D52\", \"3123D65\", \"3123D79\", \"3123D80\", \"3123D54\", \"3123D70\", \"3123D7B\", \"3123D89\", \"3123D58\", \"3123D76\", \"3123D7D\", \"3123EFE\", \"3123D64\", \"3123D78\", \"3123D7E\", \"3124E4A\"], \"labels_target\": [\"3123D52\", \"3123D65\", \"3123D79\", \"3123D80\", \"3123D54\", \"3123D70\", \"3123D7B\", \"3123D89\", \"3123D58\", \"3123D76\", \"3123D7D\", \"3123EFE\", \"3123D64\", \"3123D78\", \"3123D7E\", \"3124E4A\"], \"x_transforms_source\": [], \"x_transforms_target\": [], \"episode_transforms_source\": [], \"episode_transforms_target\": [], \"num_examples_per_domain_per_label_source\": 1000, \"num_examples_per_domain_per_label_target\": 1000, \"n_shot\": 3, \"n_way\": 16, \"n_query\": 2, \"train_k_factor\": 1, \"val_k_factor\": 2, \"test_k_factor\": 2, \"torch_default_dtype\": \"torch.float64\", \"n_epoch\": 50, \"patience\": 3, \"criteria_for_best\": \"target_loss\", \"x_net\": [{\"class\": \"nnReshape\", \"kargs\": {\"shape\": [-1, 1, 2, 256]}}, {\"class\": \"Conv2d\", \"kargs\": {\"in_channels\": 1, \"out_channels\": 256, \"kernel_size\": [1, 7], \"bias\": false, \"padding\": [0, 3]}}, {\"class\": \"ReLU\", \"kargs\": {\"inplace\": true}}, {\"class\": \"BatchNorm2d\", \"kargs\": {\"num_features\": 256}}, {\"class\": \"Conv2d\", \"kargs\": {\"in_channels\": 256, \"out_channels\": 80, \"kernel_size\": [2, 7], \"bias\": true, \"padding\": [0, 3]}}, {\"class\": \"ReLU\", \"kargs\": {\"inplace\": true}}, {\"class\": \"BatchNorm2d\", \"kargs\": {\"num_features\": 80}}, {\"class\": \"Flatten\", \"kargs\": {}}, {\"class\": \"Linear\", \"kargs\": {\"in_features\": 20480, \"out_features\": 256}}, {\"class\": \"ReLU\", \"kargs\": {\"inplace\": true}}, {\"class\": \"BatchNorm1d\", \"kargs\": {\"num_features\": 256}}, {\"class\": \"Linear\", \"kargs\": {\"in_features\": 256, \"out_features\": 256}}], \"NUM_LOGS_PER_EPOCH\": 10, \"BEST_MODEL_PATH\": \"./best_model.pth\", \"pickle_name\": \"oracle.Run1_framed_1300Examples_stratified_ds.2022A.pkl\", \"domains_source\": [8, 32, 50], \"domains_target\": [14, 20, 26, 38, 44]}, \"results\": {\"source_test_label_accuracy\": 0.8072916666666666, \"source_test_label_loss\": 0.483913220521921, \"target_test_label_accuracy\": 0.5459375, \"target_test_label_loss\": 1.3120846257943444, \"source_val_label_accuracy\": 0.8111111111111111, \"source_val_label_loss\": 0.474396412758792, \"target_val_label_accuracy\": 0.5505208333333333, \"target_val_label_loss\": 1.2845482634568346, \"total_epochs_trained\": 6, \"total_experiment_time_secs\": 1026.127700328827, \"confusion\": {\"8\": {\"15\": {\"15\": 106, \"12\": 14}, \"3\": {\"3\": 119, \"9\": 1}, \"6\": {\"6\": 42, \"1\": 36, \"7\": 28, \"11\": 12, \"5\": 2}, \"1\": {\"6\": 36, \"11\": 25, \"1\": 51, \"7\": 8}, \"8\": {\"14\": 9, \"8\": 101, \"4\": 10}, \"10\": {\"13\": 13, \"10\": 80, \"5\": 25, \"7\": 2}, \"9\": {\"9\": 120}, \"13\": {\"13\": 110, \"10\": 10}, \"12\": {\"12\": 91, \"2\": 18, \"15\": 11}, \"5\": {\"10\": 42, \"1\": 1, \"5\": 53, \"7\": 21, \"6\": 2, \"13\": 1}, \"0\": {\"0\": 120}, \"2\": {\"2\": 93, \"12\": 26, \"15\": 1}, \"11\": {\"4\": 22, \"11\": 72, \"6\": 7, \"1\": 19}, \"14\": {\"14\": 118, \"8\": 2}, \"7\": {\"5\": 12, \"1\": 11, \"7\": 74, \"6\": 22, \"10\": 1}, \"4\": {\"11\": 27, \"4\": 84, \"8\": 8, \"1\": 1}}, \"50\": {\"3\": {\"3\": 119, \"6\": 1}, \"15\": {\"15\": 90, \"6\": 28, \"9\": 2}, \"8\": {\"8\": 116, \"13\": 1, \"1\": 3}, \"4\": {\"4\": 111, \"7\": 3, \"5\": 6}, \"14\": {\"14\": 109, \"2\": 11}, \"0\": {\"0\": 111, \"2\": 9}, \"7\": {\"7\": 119, \"4\": 1}, \"6\": {\"6\": 91, \"15\": 26, \"5\": 3}, \"10\": {\"10\": 117, \"0\": 3}, \"5\": {\"5\": 110, \"6\": 5, \"3\": 3, \"4\": 2}, \"2\": {\"2\": 110, \"0\": 6, \"14\": 4}, \"12\": {\"11\": 14, \"9\": 22, \"12\": 84}, \"9\": {\"9\": 99, \"15\": 5, \"12\": 16}, \"1\": {\"1\": 118, \"13\": 2}, \"11\": {\"11\": 103, \"12\": 13, \"13\": 3, \"9\": 1}, \"13\": {\"13\": 120}}, \"32\": {\"5\": {\"5\": 93, \"0\": 8, \"15\": 18, \"8\": 1}, \"8\": {\"8\": 58, \"7\": 31, \"0\": 24, \"14\": 7}, \"11\": {\"11\": 120}, \"1\": {\"1\": 120}, \"10\": {\"10\": 119, \"12\": 1}, \"15\": {\"15\": 89, \"5\": 31}, \"3\": {\"3\": 75, \"4\": 10, \"13\": 35}, \"7\": {\"7\": 34, \"8\": 44, \"5\": 1, \"14\": 14, \"0\": 27}, \"4\": {\"4\": 105, \"3\": 6, \"2\": 4, \"9\": 5}, \"14\": {\"14\": 95, \"7\": 11, \"8\": 13, \"0\": 1}, \"9\": {\"9\": 113, \"4\": 6, \"3\": 1}, \"12\": {\"12\": 120}, \"6\": {\"6\": 120}, \"2\": {\"2\": 110, \"4\": 10}, \"0\": {\"0\": 52, \"7\": 19, \"5\": 20, \"8\": 28, \"15\": 1}, \"13\": {\"13\": 88, \"3\": 32}}, \"14\": {\"15\": {\"15\": 115, \"13\": 5}, \"3\": {\"3\": 61, \"7\": 2, \"2\": 21, \"6\": 19, \"14\": 14, \"0\": 3}, \"6\": {\"6\": 34, \"7\": 16, \"14\": 29, \"8\": 2, \"0\": 16, \"3\": 19, \"2\": 4}, \"1\": {\"1\": 93, \"9\": 27}, \"8\": {\"7\": 23, \"8\": 62, \"12\": 2, \"0\": 14, \"5\": 14, \"14\": 4, \"6\": 1}, \"10\": {\"4\": 26, \"10\": 94}, \"9\": {\"1\": 53, \"9\": 64, \"10\": 3}, \"13\": {\"13\": 119, \"15\": 1}, \"12\": {\"12\": 48, \"5\": 32, \"4\": 12, \"8\": 21, \"0\": 6, \"14\": 1}, \"5\": {\"5\": 69, \"12\": 23, \"7\": 4, \"8\": 22, \"0\": 1, \"4\": 1}, \"0\": {\"7\": 26, \"6\": 25, \"8\": 18, \"0\": 25, \"12\": 3, \"14\": 17, \"3\": 3, \"5\": 3}, \"2\": {\"2\": 89, \"3\": 26, \"14\": 1, \"6\": 4}, \"11\": {\"11\": 120}, \"14\": {\"3\": 14, \"6\": 36, \"8\": 14, \"14\": 29, \"0\": 15, \"7\": 10, \"5\": 1, \"2\": 1}, \"7\": {\"6\": 16, \"14\": 28, \"8\": 21, \"7\": 21, \"0\": 25, \"5\": 6, \"12\": 2, \"3\": 1}, \"4\": {\"10\": 38, \"4\": 78, \"12\": 3, \"5\": 1}}, \"20\": {\"3\": {\"14\": 37, \"8\": 20, \"3\": 46, \"0\": 4, \"7\": 1, \"1\": 5, \"9\": 4, \"5\": 3}, \"15\": {\"6\": 5, \"15\": 31, \"13\": 10, \"4\": 28, \"2\": 17, \"12\": 23, \"7\": 4, \"1\": 2}, \"8\": {\"8\": 43, \"14\": 33, \"3\": 24, \"5\": 8, \"7\": 3, \"1\": 6, \"9\": 2, \"6\": 1}, \"4\": {\"15\": 30, \"12\": 21, \"4\": 22, \"13\": 25, \"6\": 9, \"2\": 8, \"7\": 3, \"9\": 1, \"10\": 1}, \"14\": {\"7\": 1, \"8\": 28, \"3\": 36, \"14\": 37, \"9\": 6, \"0\": 4, \"5\": 4, \"1\": 4}, \"0\": {\"11\": 40, \"0\": 60, \"14\": 11, \"8\": 2, \"3\": 7}, \"7\": {\"7\": 19, \"4\": 1, \"14\": 1, \"9\": 22, \"3\": 7, \"5\": 19, \"2\": 13, \"12\": 6, \"15\": 4, \"1\": 20, \"6\": 4, \"8\": 4}, \"6\": {\"1\": 11, \"2\": 25, \"5\": 13, \"9\": 18, \"12\": 15, \"7\": 15, \"4\": 6, \"6\": 12, \"13\": 2, \"15\": 3}, \"10\": {\"10\": 106, \"13\": 9, \"4\": 4, \"15\": 1}, \"5\": {\"7\": 19, \"3\": 7, \"9\": 22, \"1\": 19, \"8\": 10, \"6\": 11, \"5\": 15, \"14\": 7, \"2\": 7, \"12\": 2, \"15\": 1}, \"2\": {\"15\": 17, \"6\": 19, \"12\": 17, \"2\": 20, \"5\": 5, \"9\": 10, \"4\": 11, \"1\": 10, \"7\": 10, \"13\": 1}, \"12\": {\"4\": 24, \"12\": 20, \"15\": 24, \"2\": 24, \"7\": 6, \"1\": 6, \"13\": 10, \"6\": 3, \"5\": 2, \"9\": 1}, \"9\": {\"7\": 22, \"9\": 21, \"8\": 6, \"1\": 31, \"5\": 25, \"2\": 5, \"14\": 1, \"12\": 2, \"6\": 4, \"15\": 1, \"3\": 2}, \"1\": {\"5\": 27, \"7\": 16, \"6\": 9, \"9\": 21, \"1\": 16, \"8\": 11, \"2\": 5, \"12\": 5, \"3\": 5, \"15\": 1, \"4\": 1, \"14\": 3}, \"11\": {\"11\": 78, \"0\": 42}, \"13\": {\"12\": 11, \"13\": 58, \"4\": 24, \"10\": 12, \"15\": 14, \"2\": 1}}, \"44\": {\"5\": {\"5\": 67, \"15\": 14, \"14\": 37, \"4\": 1, \"8\": 1}, \"8\": {\"8\": 103, \"15\": 12, \"4\": 4, \"14\": 1}, \"11\": {\"11\": 120}, \"1\": {\"1\": 99, \"2\": 20, \"0\": 1}, \"10\": {\"10\": 95, \"2\": 1, \"7\": 16, \"9\": 4, \"4\": 3, \"14\": 1}, \"15\": {\"15\": 49, \"5\": 14, \"8\": 20, \"4\": 17, \"14\": 20}, \"3\": {\"3\": 72, \"12\": 48}, \"7\": {\"7\": 57, \"10\": 11, \"9\": 50, \"14\": 2}, \"4\": {\"4\": 86, \"15\": 11, \"10\": 6, \"8\": 3, \"14\": 9, \"9\": 2, \"5\": 3}, \"14\": {\"14\": 40, \"5\": 40, \"7\": 7, \"15\": 27, \"9\": 5, \"4\": 1}, \"9\": {\"7\": 37, \"9\": 71, \"10\": 6, \"5\": 3, \"14\": 2, \"6\": 1}, \"12\": {\"12\": 82, \"3\": 38}, \"6\": {\"13\": 37, \"6\": 82, \"9\": 1}, \"2\": {\"2\": 88, \"4\": 3, \"1\": 27, \"10\": 2}, \"0\": {\"0\": 118, \"1\": 1, \"8\": 1}, \"13\": {\"13\": 81, \"6\": 39}}, \"38\": {\"14\": {\"14\": 102, \"2\": 17, \"4\": 1}, \"0\": {\"0\": 99, \"13\": 7, \"4\": 13, \"10\": 1}, \"13\": {\"13\": 89, \"10\": 14, \"0\": 15, \"4\": 2}, \"7\": {\"7\": 105, \"2\": 6, \"9\": 7, \"14\": 1, \"8\": 1}, \"9\": {\"9\": 99, \"8\": 18, \"7\": 3}, \"3\": {\"3\": 120}, \"11\": {\"11\": 120}, \"6\": {\"6\": 116, \"1\": 4}, \"8\": {\"8\": 82, \"12\": 17, \"9\": 21}, \"4\": {\"4\": 72, \"13\": 2, \"0\": 40, \"14\": 6}, \"5\": {\"5\": 64, \"15\": 47, \"12\": 9}, \"10\": {\"10\": 102, \"13\": 15, \"0\": 3}, \"1\": {\"1\": 120}, \"2\": {\"2\": 96, \"14\": 24}, \"15\": {\"15\": 56, \"5\": 41, \"12\": 23}, \"12\": {\"15\": 16, \"12\": 79, \"8\": 20, \"5\": 5}}, \"26\": {\"13\": {\"9\": 4, \"4\": 3, \"3\": 48, \"13\": 48, \"2\": 10, \"8\": 3, \"7\": 4}, \"2\": {\"8\": 27, \"2\": 42, \"7\": 27, \"9\": 12, \"3\": 8, \"13\": 4}, \"8\": {\"7\": 16, \"9\": 24, \"14\": 1, \"2\": 28, \"3\": 10, \"8\": 19, \"12\": 21, \"13\": 1}, \"9\": {\"12\": 7, \"3\": 4, \"2\": 33, \"7\": 24, \"8\": 34, \"9\": 18}, \"12\": {\"14\": 5, \"12\": 81, \"8\": 7, \"7\": 8, \"9\": 10, \"15\": 3, \"0\": 4, \"13\": 1, \"10\": 1}, \"4\": {\"4\": 117, \"3\": 1, \"13\": 2}, \"3\": {\"3\": 65, \"7\": 4, \"13\": 39, \"8\": 2, \"9\": 3, \"4\": 3, \"2\": 4}, \"15\": {\"5\": 12, \"14\": 27, \"15\": 22, \"6\": 14, \"12\": 6, \"0\": 11, \"10\": 11, \"1\": 16, \"11\": 1}, \"14\": {\"14\": 27, \"6\": 3, \"15\": 26, \"1\": 19, \"0\": 20, \"10\": 17, \"12\": 7, \"5\": 1}, \"10\": {\"14\": 17, \"6\": 18, \"0\": 15, \"10\": 23, \"5\": 18, \"15\": 19, \"1\": 10}, \"7\": {\"8\": 18, \"9\": 11, \"12\": 15, \"2\": 28, \"7\": 30, \"3\": 13, \"13\": 5}, \"11\": {\"11\": 108, \"5\": 6, \"6\": 5, \"1\": 1}, \"6\": {\"5\": 40, \"15\": 13, \"6\": 32, \"0\": 4, \"10\": 11, \"1\": 12, \"14\": 3, \"11\": 5}, \"1\": {\"10\": 13, \"0\": 18, \"6\": 16, \"1\": 29, \"5\": 11, \"15\": 21, \"14\": 11, \"11\": 1}, \"5\": {\"6\": 32, \"15\": 9, \"5\": 40, \"1\": 19, \"10\": 8, \"0\": 3, \"11\": 7, \"14\": 2}, \"0\": {\"14\": 28, \"5\": 10, \"15\": 19, \"0\": 28, \"6\": 5, \"10\": 21, \"1\": 8, \"12\": 1}}}, \"per_domain_accuracy\": {\"8\": {\"accuracy\": 0.746875, \"source?\": true}, \"50\": {\"accuracy\": 0.8994791666666667, \"source?\": true}, \"32\": {\"accuracy\": 0.7869791666666667, \"source?\": true}, \"14\": {\"accuracy\": 0.5838541666666667, \"source?\": false}, \"20\": {\"accuracy\": 0.3145833333333333, \"source?\": false}, \"44\": {\"accuracy\": 0.6822916666666666, \"source?\": false}, \"38\": {\"accuracy\": 0.7921875, \"source?\": false}, \"26\": {\"accuracy\": 0.3796875, \"source?\": false}}}, \"history\": {\"epoch_indices\": [1, 2, 3, 4, 5, 6], \"train_label_loss\": [0.8851352928601113, 0.703626115255685, 0.34106721948217217, 0.19513873861679903, 0.13811188438649516, 0.08865891468209673], \"source_val_label_loss\": [1.1644138807145992, 0.474396412758792, 0.2586871678470516, 0.1615805842091668, 0.14932367439157956, 0.06594480399753078], \"target_val_label_loss\": [1.5363718620675813, 1.2845482634568346, 1.4902469376445375, 1.5870361643988125, 1.6367671045325276, 1.6631128423608086], \"source_val_acc_label\": [0.5939236111111111, 0.8111111111111111, 0.8996527777777777, 0.9413194444444445, 0.9506944444444444, 0.9791666666666666], \"target_val_acc_label\": [0.4630208333333333, 0.5505208333333333, 0.5765625, 0.5801041666666666, 0.6107291666666667, 0.6165625]}, \"dataset_metrics\": {\"source\": {\"train\": {\"n_unique_x\": 33600, \"n_unique_y\": 16, \"n_batch/episode\": 420}, \"val\": {\"n_unique_x\": 7200, \"n_unique_y\": 16, \"n_batch/episode\": 180}, \"test\": {\"n_unique_x\": 7200, \"n_unique_y\": 16, \"n_batch/episode\": 180}}, \"target\": {\"train\": {\"n_unique_x\": 56000, \"n_unique_y\": 16, \"n_batch/episode\": 700}, \"val\": {\"n_unique_x\": 12000, \"n_unique_y\": 16, \"n_batch/episode\": 300}, \"test\": {\"n_unique_x\": 12000, \"n_unique_y\": 16, \"n_batch/episode\": 300}}}}'"
      ]
     },
     "execution_count": 20,
     "metadata": {},
     "output_type": "execute_result"
    }
   ],
   "source": [
    "json.dumps(experiment)"
   ]
  }
 ],
 "metadata": {
  "celltoolbar": "Tags",
  "kernelspec": {
   "display_name": "Python 3 (ipykernel)",
   "language": "python",
   "name": "python3"
  },
  "language_info": {
   "codemirror_mode": {
    "name": "ipython",
    "version": 3
   },
   "file_extension": ".py",
   "mimetype": "text/x-python",
   "name": "python",
   "nbconvert_exporter": "python",
   "pygments_lexer": "ipython3",
   "version": "3.8.10"
  },
  "papermill": {
   "default_parameters": {},
   "duration": 1235.503951,
   "end_time": "2022-03-02T07:30:40.141869",
   "environment_variables": {},
   "exception": null,
   "input_path": "/mnt/wd500GB/CSC500/csc500-main/csc500-notebooks/templates/ptn_template.ipynb",
   "output_path": "trial.ipynb",
   "parameters": {
    "parameters": {
     "BEST_MODEL_PATH": "./best_model.pth",
     "NUM_LOGS_PER_EPOCH": 10,
     "criteria_for_best": "target_loss",
     "dataset_seed": 1337,
     "device": "cuda",
     "domains_source": [
      8,
      32,
      50
     ],
     "domains_target": [
      14,
      20,
      26,
      38,
      44
     ],
     "episode_transforms_source": [],
     "episode_transforms_target": [],
     "experiment_name": "baseline_ptn_oracle.run1.framed",
     "labels_source": [
      "3123D52",
      "3123D65",
      "3123D79",
      "3123D80",
      "3123D54",
      "3123D70",
      "3123D7B",
      "3123D89",
      "3123D58",
      "3123D76",
      "3123D7D",
      "3123EFE",
      "3123D64",
      "3123D78",
      "3123D7E",
      "3124E4A"
     ],
     "labels_target": [
      "3123D52",
      "3123D65",
      "3123D79",
      "3123D80",
      "3123D54",
      "3123D70",
      "3123D7B",
      "3123D89",
      "3123D58",
      "3123D76",
      "3123D7D",
      "3123EFE",
      "3123D64",
      "3123D78",
      "3123D7E",
      "3124E4A"
     ],
     "lr": 0.001,
     "n_epoch": 50,
     "n_query": 2,
     "n_shot": 3,
     "n_way": 16,
     "num_examples_per_domain_per_label_source": 1000,
     "num_examples_per_domain_per_label_target": 1000,
     "patience": 3,
     "pickle_name": "oracle.Run1_framed_1300Examples_stratified_ds.2022A.pkl",
     "seed": 1337,
     "test_k_factor": 2,
     "torch_default_dtype": "torch.float64",
     "train_k_factor": 1,
     "val_k_factor": 2,
     "x_net": [
      {
       "class": "nnReshape",
       "kargs": {
        "shape": [
         -1,
         1,
         2,
         256
        ]
       }
      },
      {
       "class": "Conv2d",
       "kargs": {
        "bias": false,
        "in_channels": 1,
        "kernel_size": [
         1,
         7
        ],
        "out_channels": 256,
        "padding": [
         0,
         3
        ]
       }
      },
      {
       "class": "ReLU",
       "kargs": {
        "inplace": true
       }
      },
      {
       "class": "BatchNorm2d",
       "kargs": {
        "num_features": 256
       }
      },
      {
       "class": "Conv2d",
       "kargs": {
        "bias": true,
        "in_channels": 256,
        "kernel_size": [
         2,
         7
        ],
        "out_channels": 80,
        "padding": [
         0,
         3
        ]
       }
      },
      {
       "class": "ReLU",
       "kargs": {
        "inplace": true
       }
      },
      {
       "class": "BatchNorm2d",
       "kargs": {
        "num_features": 80
       }
      },
      {
       "class": "Flatten",
       "kargs": {}
      },
      {
       "class": "Linear",
       "kargs": {
        "in_features": 20480,
        "out_features": 256
       }
      },
      {
       "class": "ReLU",
       "kargs": {
        "inplace": true
       }
      },
      {
       "class": "BatchNorm1d",
       "kargs": {
        "num_features": 256
       }
      },
      {
       "class": "Linear",
       "kargs": {
        "in_features": 256,
        "out_features": 256
       }
      }
     ],
     "x_transforms_source": [],
     "x_transforms_target": []
    }
   },
   "start_time": "2022-03-02T07:10:04.637918",
   "version": "2.3.4"
  }
 },
 "nbformat": 4,
 "nbformat_minor": 5
}