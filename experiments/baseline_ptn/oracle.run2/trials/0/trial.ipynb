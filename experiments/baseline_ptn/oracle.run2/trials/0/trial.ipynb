{
 "cells": [
  {
   "cell_type": "markdown",
   "id": "9fea5f46",
   "metadata": {
    "papermill": {
     "duration": 0.015867,
     "end_time": "2022-03-02T08:11:45.400591",
     "exception": false,
     "start_time": "2022-03-02T08:11:45.384724",
     "status": "completed"
    },
    "tags": []
   },
   "source": [
    "# PTN Template\n",
    "This notebook serves as a template for single dataset PTN experiments  \n",
    "It can be run on its own by setting STANDALONE to True (do a find for \"STANDALONE\" to see where)  \n",
    "But it is intended to be executed as part of a *papermill.py script. See any of the   \n",
    "experimentes with a papermill script to get started with that workflow.  "
   ]
  },
  {
   "cell_type": "code",
   "execution_count": 1,
   "id": "0902182a",
   "metadata": {
    "execution": {
     "iopub.execute_input": "2022-03-02T08:11:45.430844Z",
     "iopub.status.busy": "2022-03-02T08:11:45.430356Z",
     "iopub.status.idle": "2022-03-02T08:11:46.160818Z",
     "shell.execute_reply": "2022-03-02T08:11:46.160278Z"
    },
    "papermill": {
     "duration": 0.751189,
     "end_time": "2022-03-02T08:11:46.160941",
     "exception": false,
     "start_time": "2022-03-02T08:11:45.409752",
     "status": "completed"
    },
    "tags": []
   },
   "outputs": [],
   "source": [
    "%load_ext autoreload\n",
    "%autoreload 2\n",
    "%matplotlib inline\n",
    "\n",
    "    \n",
    "import os, json, sys, time, random\n",
    "import numpy as np\n",
    "import torch\n",
    "from torch.optim import Adam\n",
    "from  easydict import EasyDict\n",
    "import matplotlib.pyplot as plt\n",
    "\n",
    "from steves_models.steves_ptn import Steves_Prototypical_Network\n",
    "\n",
    "from steves_utils.lazy_iterable_wrapper import Lazy_Iterable_Wrapper\n",
    "from steves_utils.iterable_aggregator import Iterable_Aggregator\n",
    "from steves_utils.ptn_train_eval_test_jig import  PTN_Train_Eval_Test_Jig\n",
    "from steves_utils.torch_sequential_builder import build_sequential\n",
    "from steves_utils.torch_utils import get_dataset_metrics, ptn_confusion_by_domain_over_dataloader\n",
    "from steves_utils.utils_v2 import (per_domain_accuracy_from_confusion, get_datasets_base_path)\n",
    "from steves_utils.PTN.utils import independent_accuracy_assesment\n",
    "\n",
    "from steves_utils.stratified_dataset.episodic_accessor import Episodic_Accessor_Factory\n",
    "\n",
    "from steves_utils.ptn_do_report import (\n",
    "    get_loss_curve,\n",
    "    get_results_table,\n",
    "    get_parameters_table,\n",
    "    get_domain_accuracies,\n",
    ")\n",
    "\n",
    "from steves_utils.transforms import get_chained_transform"
   ]
  },
  {
   "cell_type": "markdown",
   "id": "41c840b4",
   "metadata": {
    "papermill": {
     "duration": 0.00907,
     "end_time": "2022-03-02T08:11:46.183149",
     "exception": false,
     "start_time": "2022-03-02T08:11:46.174079",
     "status": "completed"
    },
    "tags": []
   },
   "source": [
    "# Required Parameters\n",
    "These are allowed parameters, not defaults\n",
    "Each of these values need to be present in the injected parameters (the notebook will raise an exception if they are not present)\n",
    "\n",
    "Papermill uses the cell tag \"parameters\" to inject the real parameters below this cell.\n",
    "Enable tags to see what I mean"
   ]
  },
  {
   "cell_type": "code",
   "execution_count": 2,
   "id": "fd44eb83",
   "metadata": {
    "execution": {
     "iopub.execute_input": "2022-03-02T08:11:46.207987Z",
     "iopub.status.busy": "2022-03-02T08:11:46.205481Z",
     "iopub.status.idle": "2022-03-02T08:11:46.217566Z",
     "shell.execute_reply": "2022-03-02T08:11:46.217314Z"
    },
    "papermill": {
     "duration": 0.025326,
     "end_time": "2022-03-02T08:11:46.217621",
     "exception": false,
     "start_time": "2022-03-02T08:11:46.192295",
     "status": "completed"
    },
    "tags": []
   },
   "outputs": [],
   "source": [
    "required_parameters = {\n",
    "    \"experiment_name\",\n",
    "    \"lr\",\n",
    "    \"device\",\n",
    "    \"seed\",\n",
    "    \"dataset_seed\",\n",
    "    \"labels_source\",\n",
    "    \"labels_target\",\n",
    "    \"domains_source\",\n",
    "    \"domains_target\",\n",
    "    \"num_examples_per_domain_per_label_source\",\n",
    "    \"num_examples_per_domain_per_label_target\",\n",
    "    \"n_shot\",\n",
    "    \"n_way\",\n",
    "    \"n_query\",\n",
    "    \"train_k_factor\",\n",
    "    \"val_k_factor\",\n",
    "    \"test_k_factor\",\n",
    "    \"n_epoch\",\n",
    "    \"patience\",\n",
    "    \"criteria_for_best\",\n",
    "    \"x_transforms_source\",\n",
    "    \"x_transforms_target\",\n",
    "    \"episode_transforms_source\",\n",
    "    \"episode_transforms_target\",\n",
    "    \"pickle_name\",\n",
    "    \"x_net\",\n",
    "    \"NUM_LOGS_PER_EPOCH\",\n",
    "    \"BEST_MODEL_PATH\",\n",
    "    \"torch_default_dtype\"\n",
    "}"
   ]
  },
  {
   "cell_type": "code",
   "execution_count": 3,
   "id": "fa3f0049",
   "metadata": {
    "execution": {
     "iopub.execute_input": "2022-03-02T08:11:46.245367Z",
     "iopub.status.busy": "2022-03-02T08:11:46.245081Z",
     "iopub.status.idle": "2022-03-02T08:11:46.257276Z",
     "shell.execute_reply": "2022-03-02T08:11:46.256785Z"
    },
    "papermill": {
     "duration": 0.030394,
     "end_time": "2022-03-02T08:11:46.257379",
     "exception": false,
     "start_time": "2022-03-02T08:11:46.226985",
     "status": "completed"
    },
    "tags": [
     "parameters"
    ]
   },
   "outputs": [],
   "source": [
    "\n",
    "\n",
    "standalone_parameters = {}\n",
    "standalone_parameters[\"experiment_name\"] = \"STANDALONE PTN\"\n",
    "standalone_parameters[\"lr\"] = 0.0001\n",
    "standalone_parameters[\"device\"] = \"cuda\"\n",
    "\n",
    "standalone_parameters[\"seed\"] = 1337\n",
    "standalone_parameters[\"dataset_seed\"] = 1337\n",
    "\n",
    "\n",
    "standalone_parameters[\"num_examples_per_domain_per_label_source\"]=100\n",
    "standalone_parameters[\"num_examples_per_domain_per_label_target\"]=100\n",
    "\n",
    "standalone_parameters[\"n_shot\"] = 3\n",
    "standalone_parameters[\"n_query\"]  = 2\n",
    "standalone_parameters[\"train_k_factor\"] = 1\n",
    "standalone_parameters[\"val_k_factor\"] = 2\n",
    "standalone_parameters[\"test_k_factor\"] = 2\n",
    "\n",
    "\n",
    "standalone_parameters[\"n_epoch\"] = 100\n",
    "\n",
    "standalone_parameters[\"patience\"] = 10\n",
    "standalone_parameters[\"criteria_for_best\"] = \"target_accuracy\"\n",
    "\n",
    "standalone_parameters[\"x_transforms_source\"] = [\"unit_power\"]\n",
    "standalone_parameters[\"x_transforms_target\"] = [\"unit_power\"]\n",
    "standalone_parameters[\"episode_transforms_source\"] = []\n",
    "standalone_parameters[\"episode_transforms_target\"] = []\n",
    "\n",
    "standalone_parameters[\"torch_default_dtype\"] = \"torch.float32\" \n",
    "\n",
    "\n",
    "\n",
    "standalone_parameters[\"x_net\"] =     [\n",
    "    {\"class\": \"nnReshape\", \"kargs\": {\"shape\":[-1, 1, 2, 256]}},\n",
    "    {\"class\": \"Conv2d\", \"kargs\": { \"in_channels\":1, \"out_channels\":256, \"kernel_size\":(1,7), \"bias\":False, \"padding\":(0,3), },},\n",
    "    {\"class\": \"ReLU\", \"kargs\": {\"inplace\": True}},\n",
    "    {\"class\": \"BatchNorm2d\", \"kargs\": {\"num_features\":256}},\n",
    "\n",
    "    {\"class\": \"Conv2d\", \"kargs\": { \"in_channels\":256, \"out_channels\":80, \"kernel_size\":(2,7), \"bias\":True, \"padding\":(0,3), },},\n",
    "    {\"class\": \"ReLU\", \"kargs\": {\"inplace\": True}},\n",
    "    {\"class\": \"BatchNorm2d\", \"kargs\": {\"num_features\":80}},\n",
    "    {\"class\": \"Flatten\", \"kargs\": {}},\n",
    "\n",
    "    {\"class\": \"Linear\", \"kargs\": {\"in_features\": 80*256, \"out_features\": 256}}, # 80 units per IQ pair\n",
    "    {\"class\": \"ReLU\", \"kargs\": {\"inplace\": True}},\n",
    "    {\"class\": \"BatchNorm1d\", \"kargs\": {\"num_features\":256}},\n",
    "\n",
    "    {\"class\": \"Linear\", \"kargs\": {\"in_features\": 256, \"out_features\": 256}},\n",
    "]\n",
    "\n",
    "# Parameters relevant to results\n",
    "# These parameters will basically never need to change\n",
    "standalone_parameters[\"NUM_LOGS_PER_EPOCH\"] = 10\n",
    "standalone_parameters[\"BEST_MODEL_PATH\"] = \"./best_model.pth\"\n",
    "\n",
    "# uncomment for CORES dataset\n",
    "from steves_utils.CORES.utils import (\n",
    "    ALL_NODES,\n",
    "    ALL_NODES_MINIMUM_1000_EXAMPLES,\n",
    "    ALL_DAYS\n",
    ")\n",
    "\n",
    "\n",
    "standalone_parameters[\"labels_source\"] = ALL_NODES\n",
    "standalone_parameters[\"labels_target\"] = ALL_NODES\n",
    "\n",
    "standalone_parameters[\"domains_source\"] = [1]\n",
    "standalone_parameters[\"domains_target\"] = [2,3,4,5]\n",
    "\n",
    "standalone_parameters[\"pickle_name\"] = \"cores.stratified_ds.2022A.pkl\"\n",
    "\n",
    "\n",
    "# Uncomment these for ORACLE dataset\n",
    "# from steves_utils.ORACLE.utils_v2 import (\n",
    "#     ALL_DISTANCES_FEET,\n",
    "#     ALL_RUNS,\n",
    "#     ALL_SERIAL_NUMBERS,\n",
    "# )\n",
    "# standalone_parameters[\"labels_source\"] = ALL_SERIAL_NUMBERS\n",
    "# standalone_parameters[\"labels_target\"] = ALL_SERIAL_NUMBERS\n",
    "# standalone_parameters[\"domains_source\"] = [8,20, 38,50]\n",
    "# standalone_parameters[\"domains_target\"] = [14, 26, 32, 44, 56]\n",
    "# standalone_parameters[\"pickle_name\"] = \"oracle.frame_indexed.stratified_ds.2022A.pkl\"\n",
    "# standalone_parameters[\"num_examples_per_domain_per_label_source\"]=1000\n",
    "# standalone_parameters[\"num_examples_per_domain_per_label_target\"]=1000\n",
    "\n",
    "# Uncomment these for Metahan dataset\n",
    "# standalone_parameters[\"labels_source\"] = list(range(19))\n",
    "# standalone_parameters[\"labels_target\"] = list(range(19))\n",
    "# standalone_parameters[\"domains_source\"] = [0]\n",
    "# standalone_parameters[\"domains_target\"] = [1]\n",
    "# standalone_parameters[\"pickle_name\"] = \"metehan.stratified_ds.2022A.pkl\"\n",
    "# standalone_parameters[\"n_way\"]  = len(standalone_parameters[\"labels_source\"])\n",
    "# standalone_parameters[\"num_examples_per_domain_per_label_source\"]=200\n",
    "# standalone_parameters[\"num_examples_per_domain_per_label_target\"]=100\n",
    "\n",
    "\n",
    "standalone_parameters[\"n_way\"]  = len(standalone_parameters[\"labels_source\"])"
   ]
  },
  {
   "cell_type": "code",
   "execution_count": 4,
   "id": "c2e69690",
   "metadata": {
    "execution": {
     "iopub.execute_input": "2022-03-02T08:11:46.292260Z",
     "iopub.status.busy": "2022-03-02T08:11:46.290169Z",
     "iopub.status.idle": "2022-03-02T08:11:46.301349Z",
     "shell.execute_reply": "2022-03-02T08:11:46.300922Z"
    },
    "papermill": {
     "duration": 0.029027,
     "end_time": "2022-03-02T08:11:46.301450",
     "exception": false,
     "start_time": "2022-03-02T08:11:46.272423",
     "status": "completed"
    },
    "tags": [
     "injected-parameters"
    ]
   },
   "outputs": [],
   "source": [
    "# Parameters\n",
    "parameters = {\n",
    "    \"experiment_name\": \"baseline_ptn_oracle.run2\",\n",
    "    \"lr\": 0.001,\n",
    "    \"device\": \"cuda\",\n",
    "    \"seed\": 1337,\n",
    "    \"dataset_seed\": 1337,\n",
    "    \"labels_source\": [\n",
    "        \"3123D52\",\n",
    "        \"3123D65\",\n",
    "        \"3123D79\",\n",
    "        \"3123D80\",\n",
    "        \"3123D54\",\n",
    "        \"3123D70\",\n",
    "        \"3123D7B\",\n",
    "        \"3123D89\",\n",
    "        \"3123D58\",\n",
    "        \"3123D76\",\n",
    "        \"3123D7D\",\n",
    "        \"3123EFE\",\n",
    "        \"3123D64\",\n",
    "        \"3123D78\",\n",
    "        \"3123D7E\",\n",
    "        \"3124E4A\",\n",
    "    ],\n",
    "    \"labels_target\": [\n",
    "        \"3123D52\",\n",
    "        \"3123D65\",\n",
    "        \"3123D79\",\n",
    "        \"3123D80\",\n",
    "        \"3123D54\",\n",
    "        \"3123D70\",\n",
    "        \"3123D7B\",\n",
    "        \"3123D89\",\n",
    "        \"3123D58\",\n",
    "        \"3123D76\",\n",
    "        \"3123D7D\",\n",
    "        \"3123EFE\",\n",
    "        \"3123D64\",\n",
    "        \"3123D78\",\n",
    "        \"3123D7E\",\n",
    "        \"3124E4A\",\n",
    "    ],\n",
    "    \"x_transforms_source\": [],\n",
    "    \"x_transforms_target\": [],\n",
    "    \"episode_transforms_source\": [],\n",
    "    \"episode_transforms_target\": [],\n",
    "    \"num_examples_per_domain_per_label_source\": 1000,\n",
    "    \"num_examples_per_domain_per_label_target\": 1000,\n",
    "    \"n_shot\": 3,\n",
    "    \"n_way\": 16,\n",
    "    \"n_query\": 2,\n",
    "    \"train_k_factor\": 1,\n",
    "    \"val_k_factor\": 2,\n",
    "    \"test_k_factor\": 2,\n",
    "    \"torch_default_dtype\": \"torch.float64\",\n",
    "    \"n_epoch\": 50,\n",
    "    \"patience\": 3,\n",
    "    \"criteria_for_best\": \"target_loss\",\n",
    "    \"x_net\": [\n",
    "        {\"class\": \"nnReshape\", \"kargs\": {\"shape\": [-1, 1, 2, 256]}},\n",
    "        {\n",
    "            \"class\": \"Conv2d\",\n",
    "            \"kargs\": {\n",
    "                \"in_channels\": 1,\n",
    "                \"out_channels\": 256,\n",
    "                \"kernel_size\": [1, 7],\n",
    "                \"bias\": False,\n",
    "                \"padding\": [0, 3],\n",
    "            },\n",
    "        },\n",
    "        {\"class\": \"ReLU\", \"kargs\": {\"inplace\": True}},\n",
    "        {\"class\": \"BatchNorm2d\", \"kargs\": {\"num_features\": 256}},\n",
    "        {\n",
    "            \"class\": \"Conv2d\",\n",
    "            \"kargs\": {\n",
    "                \"in_channels\": 256,\n",
    "                \"out_channels\": 80,\n",
    "                \"kernel_size\": [2, 7],\n",
    "                \"bias\": True,\n",
    "                \"padding\": [0, 3],\n",
    "            },\n",
    "        },\n",
    "        {\"class\": \"ReLU\", \"kargs\": {\"inplace\": True}},\n",
    "        {\"class\": \"BatchNorm2d\", \"kargs\": {\"num_features\": 80}},\n",
    "        {\"class\": \"Flatten\", \"kargs\": {}},\n",
    "        {\"class\": \"Linear\", \"kargs\": {\"in_features\": 20480, \"out_features\": 256}},\n",
    "        {\"class\": \"ReLU\", \"kargs\": {\"inplace\": True}},\n",
    "        {\"class\": \"BatchNorm1d\", \"kargs\": {\"num_features\": 256}},\n",
    "        {\"class\": \"Linear\", \"kargs\": {\"in_features\": 256, \"out_features\": 256}},\n",
    "    ],\n",
    "    \"NUM_LOGS_PER_EPOCH\": 10,\n",
    "    \"BEST_MODEL_PATH\": \"./best_model.pth\",\n",
    "    \"pickle_name\": \"oracle.Run2_10kExamples_stratified_ds.2022A.pkl\",\n",
    "    \"domains_source\": [8, 32, 50],\n",
    "    \"domains_target\": [14, 20, 26, 38, 44],\n",
    "}\n"
   ]
  },
  {
   "cell_type": "code",
   "execution_count": 5,
   "id": "8fa1cc33",
   "metadata": {
    "execution": {
     "iopub.execute_input": "2022-03-02T08:11:46.329024Z",
     "iopub.status.busy": "2022-03-02T08:11:46.328747Z",
     "iopub.status.idle": "2022-03-02T08:11:46.340370Z",
     "shell.execute_reply": "2022-03-02T08:11:46.340750Z"
    },
    "papermill": {
     "duration": 0.02455,
     "end_time": "2022-03-02T08:11:46.340877",
     "exception": false,
     "start_time": "2022-03-02T08:11:46.316327",
     "status": "completed"
    },
    "tags": []
   },
   "outputs": [],
   "source": [
    "# Set this to True if you want to run this template directly\n",
    "STANDALONE = False\n",
    "if STANDALONE:\n",
    "    print(\"parameters not injected, running with standalone_parameters\")\n",
    "    parameters = standalone_parameters\n",
    "\n",
    "if not 'parameters' in locals() and not 'parameters' in globals():\n",
    "    raise Exception(\"Parameter injection failed\")\n",
    "\n",
    "#Use an easy dict for all the parameters\n",
    "p = EasyDict(parameters)\n",
    "\n",
    "supplied_keys = set(p.keys())\n",
    "\n",
    "if  supplied_keys != required_parameters:\n",
    "    print(\"Parameters are incorrect\")\n",
    "    if len(supplied_keys - required_parameters)>0: print(\"Shouldn't have:\", str(supplied_keys - required_parameters))\n",
    "    if len(required_parameters - supplied_keys)>0: print(\"Need to have:\", str(required_parameters - supplied_keys))\n",
    "    raise RuntimeError(\"Parameters are incorrect\")\n",
    "\n"
   ]
  },
  {
   "cell_type": "code",
   "execution_count": 6,
   "id": "3a028d58",
   "metadata": {
    "execution": {
     "iopub.execute_input": "2022-03-02T08:11:46.366973Z",
     "iopub.status.busy": "2022-03-02T08:11:46.366716Z",
     "iopub.status.idle": "2022-03-02T08:11:46.375563Z",
     "shell.execute_reply": "2022-03-02T08:11:46.375886Z"
    },
    "papermill": {
     "duration": 0.020038,
     "end_time": "2022-03-02T08:11:46.375985",
     "exception": false,
     "start_time": "2022-03-02T08:11:46.355947",
     "status": "completed"
    },
    "tags": []
   },
   "outputs": [],
   "source": [
    "###################################\n",
    "# Set the RNGs and make it all deterministic\n",
    "###################################\n",
    "np.random.seed(p.seed)\n",
    "random.seed(p.seed)\n",
    "torch.manual_seed(p.seed)\n",
    "\n",
    "torch.use_deterministic_algorithms(True) "
   ]
  },
  {
   "cell_type": "code",
   "execution_count": 7,
   "id": "b691acf6",
   "metadata": {
    "execution": {
     "iopub.execute_input": "2022-03-02T08:11:46.399547Z",
     "iopub.status.busy": "2022-03-02T08:11:46.399021Z",
     "iopub.status.idle": "2022-03-02T08:11:46.411376Z",
     "shell.execute_reply": "2022-03-02T08:11:46.411686Z"
    },
    "papermill": {
     "duration": 0.023329,
     "end_time": "2022-03-02T08:11:46.411784",
     "exception": false,
     "start_time": "2022-03-02T08:11:46.388455",
     "status": "completed"
    },
    "tags": []
   },
   "outputs": [],
   "source": [
    "###########################################\n",
    "# The stratified datasets honor this\n",
    "###########################################\n",
    "torch.set_default_dtype(eval(p.torch_default_dtype))"
   ]
  },
  {
   "cell_type": "code",
   "execution_count": 8,
   "id": "b5fba671",
   "metadata": {
    "execution": {
     "iopub.execute_input": "2022-03-02T08:11:46.438502Z",
     "iopub.status.busy": "2022-03-02T08:11:46.438255Z",
     "iopub.status.idle": "2022-03-02T08:11:46.495780Z",
     "shell.execute_reply": "2022-03-02T08:11:46.495298Z"
    },
    "papermill": {
     "duration": 0.069451,
     "end_time": "2022-03-02T08:11:46.495888",
     "exception": false,
     "start_time": "2022-03-02T08:11:46.426437",
     "status": "completed"
    },
    "tags": []
   },
   "outputs": [],
   "source": [
    "###################################\n",
    "# Build the network(s)\n",
    "# Note: It's critical to do this AFTER setting the RNG\n",
    "# (This is due to the randomized initial weights)\n",
    "###################################\n",
    "x_net = build_sequential(p.x_net)"
   ]
  },
  {
   "cell_type": "code",
   "execution_count": 9,
   "id": "5d7e61cc",
   "metadata": {
    "execution": {
     "iopub.execute_input": "2022-03-02T08:11:46.524402Z",
     "iopub.status.busy": "2022-03-02T08:11:46.523540Z",
     "iopub.status.idle": "2022-03-02T08:11:46.537140Z",
     "shell.execute_reply": "2022-03-02T08:11:46.537440Z"
    },
    "papermill": {
     "duration": 0.025118,
     "end_time": "2022-03-02T08:11:46.537530",
     "exception": false,
     "start_time": "2022-03-02T08:11:46.512412",
     "status": "completed"
    },
    "tags": []
   },
   "outputs": [],
   "source": [
    "start_time_secs = time.time()"
   ]
  },
  {
   "cell_type": "code",
   "execution_count": 10,
   "id": "fd5442bc",
   "metadata": {
    "execution": {
     "iopub.execute_input": "2022-03-02T08:11:46.568814Z",
     "iopub.status.busy": "2022-03-02T08:11:46.568284Z",
     "iopub.status.idle": "2022-03-02T08:11:49.959845Z",
     "shell.execute_reply": "2022-03-02T08:11:49.959382Z"
    },
    "papermill": {
     "duration": 3.406748,
     "end_time": "2022-03-02T08:11:49.959958",
     "exception": false,
     "start_time": "2022-03-02T08:11:46.553210",
     "status": "completed"
    },
    "tags": []
   },
   "outputs": [],
   "source": [
    "###################################\n",
    "# Build the dataset\n",
    "###################################\n",
    "\n",
    "if p.x_transforms_source == []: x_transform_source = None\n",
    "else: x_transform_source = get_chained_transform(p.x_transforms_source) \n",
    "\n",
    "if p.x_transforms_target == []: x_transform_target = None\n",
    "else: x_transform_target = get_chained_transform(p.x_transforms_target)\n",
    "\n",
    "if p.episode_transforms_source == []: episode_transform_source = None\n",
    "else: raise Exception(\"episode_transform_source not implemented\")\n",
    "\n",
    "if p.episode_transforms_target == []: episode_transform_target = None\n",
    "else: raise Exception(\"episode_transform_target not implemented\")\n",
    "\n",
    "\n",
    "eaf_source = Episodic_Accessor_Factory(\n",
    "    labels=p.labels_source,\n",
    "    domains=p.domains_source,\n",
    "    num_examples_per_domain_per_label=p.num_examples_per_domain_per_label_source,\n",
    "    iterator_seed=p.seed,\n",
    "    dataset_seed=p.dataset_seed,\n",
    "    n_shot=p.n_shot,\n",
    "    n_way=p.n_way,\n",
    "    n_query=p.n_query,\n",
    "    train_val_test_k_factors=(p.train_k_factor,p.val_k_factor,p.test_k_factor),\n",
    "    pickle_path=os.path.join(get_datasets_base_path(), p.pickle_name),\n",
    "    x_transform_func=x_transform_source,\n",
    "    example_transform_func=episode_transform_source,\n",
    "    \n",
    ")\n",
    "train_original_source, val_original_source, test_original_source = eaf_source.get_train(), eaf_source.get_val(), eaf_source.get_test()\n",
    "\n",
    "\n",
    "eaf_target = Episodic_Accessor_Factory(\n",
    "    labels=p.labels_target,\n",
    "    domains=p.domains_target,\n",
    "    num_examples_per_domain_per_label=p.num_examples_per_domain_per_label_target,\n",
    "    iterator_seed=p.seed,\n",
    "    dataset_seed=p.dataset_seed,\n",
    "    n_shot=p.n_shot,\n",
    "    n_way=p.n_way,\n",
    "    n_query=p.n_query,\n",
    "    train_val_test_k_factors=(p.train_k_factor,p.val_k_factor,p.test_k_factor),\n",
    "    pickle_path=os.path.join(get_datasets_base_path(), p.pickle_name),\n",
    "    x_transform_func=x_transform_target,\n",
    "    example_transform_func=episode_transform_target,\n",
    ")\n",
    "train_original_target, val_original_target, test_original_target = eaf_target.get_train(), eaf_target.get_val(), eaf_target.get_test()\n",
    "\n",
    "\n",
    "transform_lambda = lambda ex: ex[1] # Original is (<domain>, <episode>) so we strip down to episode only\n",
    "\n",
    "train_processed_source = Lazy_Iterable_Wrapper(train_original_source, transform_lambda)\n",
    "val_processed_source   = Lazy_Iterable_Wrapper(val_original_source, transform_lambda)\n",
    "test_processed_source  = Lazy_Iterable_Wrapper(test_original_source, transform_lambda)\n",
    "\n",
    "train_processed_target = Lazy_Iterable_Wrapper(train_original_target, transform_lambda)\n",
    "val_processed_target   = Lazy_Iterable_Wrapper(val_original_target, transform_lambda)\n",
    "test_processed_target  = Lazy_Iterable_Wrapper(test_original_target, transform_lambda)\n",
    "\n",
    "datasets = EasyDict({\n",
    "    \"source\": {\n",
    "        \"original\": {\"train\":train_original_source, \"val\":val_original_source, \"test\":test_original_source},\n",
    "        \"processed\": {\"train\":train_processed_source, \"val\":val_processed_source, \"test\":test_processed_source}\n",
    "    },\n",
    "    \"target\": {\n",
    "        \"original\": {\"train\":train_original_target, \"val\":val_original_target, \"test\":test_original_target},\n",
    "        \"processed\": {\"train\":train_processed_target, \"val\":val_processed_target, \"test\":test_processed_target}\n",
    "    },\n",
    "})"
   ]
  },
  {
   "cell_type": "code",
   "execution_count": 11,
   "id": "296189d9",
   "metadata": {
    "execution": {
     "iopub.execute_input": "2022-03-02T08:11:49.987875Z",
     "iopub.status.busy": "2022-03-02T08:11:49.987608Z",
     "iopub.status.idle": "2022-03-02T08:11:52.550761Z",
     "shell.execute_reply": "2022-03-02T08:11:52.550149Z"
    },
    "papermill": {
     "duration": 2.57684,
     "end_time": "2022-03-02T08:11:52.550897",
     "exception": false,
     "start_time": "2022-03-02T08:11:49.974057",
     "status": "completed"
    },
    "tags": []
   },
   "outputs": [
    {
     "name": "stdout",
     "output_type": "stream",
     "text": [
      "Visually inspect these to see if they line up with expected values given the transforms\n",
      "x_transforms_source []\n",
      "x_transforms_target []\n",
      "Average magnitude, source: 0.004635015121875301\n",
      "Average power, source: 2.8574975245964045e-05\n"
     ]
    },
    {
     "name": "stdout",
     "output_type": "stream",
     "text": [
      "Average magnitude, target: 0.002912889613338467\n",
      "Average power, target: 1.0910342232053005e-05\n"
     ]
    }
   ],
   "source": [
    "# Some quick unit tests on the data\n",
    "from steves_utils.transforms import get_average_power, get_average_magnitude\n",
    "\n",
    "q_x, q_y, s_x, s_y, truth = next(iter(train_processed_source))\n",
    "\n",
    "assert q_x.dtype == eval(p.torch_default_dtype)\n",
    "assert s_x.dtype == eval(p.torch_default_dtype)\n",
    "\n",
    "print(\"Visually inspect these to see if they line up with expected values given the transforms\")\n",
    "print('x_transforms_source', p.x_transforms_source)\n",
    "print('x_transforms_target', p.x_transforms_target)\n",
    "print(\"Average magnitude, source:\", get_average_magnitude(q_x[0].numpy()))\n",
    "print(\"Average power, source:\", get_average_power(q_x[0].numpy()))\n",
    "\n",
    "q_x, q_y, s_x, s_y, truth = next(iter(train_processed_target))\n",
    "print(\"Average magnitude, target:\", get_average_magnitude(q_x[0].numpy()))\n",
    "print(\"Average power, target:\", get_average_power(q_x[0].numpy()))\n"
   ]
  },
  {
   "cell_type": "code",
   "execution_count": 12,
   "id": "bbdacba1",
   "metadata": {
    "execution": {
     "iopub.execute_input": "2022-03-02T08:11:52.579757Z",
     "iopub.status.busy": "2022-03-02T08:11:52.579429Z",
     "iopub.status.idle": "2022-03-02T08:11:52.739902Z",
     "shell.execute_reply": "2022-03-02T08:11:52.739448Z"
    },
    "papermill": {
     "duration": 0.17399,
     "end_time": "2022-03-02T08:11:52.740006",
     "exception": false,
     "start_time": "2022-03-02T08:11:52.566016",
     "status": "completed"
    },
    "tags": []
   },
   "outputs": [
    {
     "name": "stdout",
     "output_type": "stream",
     "text": [
      "(2, 256)\n"
     ]
    }
   ],
   "source": [
    "###################################\n",
    "# Build the model\n",
    "###################################\n",
    "model = Steves_Prototypical_Network(x_net, device=p.device, x_shape=(2,256))\n",
    "optimizer = Adam(params=model.parameters(), lr=p.lr)"
   ]
  },
  {
   "cell_type": "code",
   "execution_count": 13,
   "id": "22b39ac5",
   "metadata": {
    "execution": {
     "iopub.execute_input": "2022-03-02T08:11:52.768143Z",
     "iopub.status.busy": "2022-03-02T08:11:52.767887Z",
     "iopub.status.idle": "2022-03-02T08:45:52.882887Z",
     "shell.execute_reply": "2022-03-02T08:45:52.882652Z"
    },
    "papermill": {
     "duration": 2040.128596,
     "end_time": "2022-03-02T08:45:52.882947",
     "exception": false,
     "start_time": "2022-03-02T08:11:52.754351",
     "status": "completed"
    },
    "tags": []
   },
   "outputs": [
    {
     "name": "stdout",
     "output_type": "stream",
     "text": [
      "epoch: 1, [batch: 1 / 420], examples_per_second: 9.2220, train_label_loss: 2.4145, \n"
     ]
    },
    {
     "name": "stdout",
     "output_type": "stream",
     "text": [
      "epoch: 1, [batch: 42 / 420], examples_per_second: 267.1024, train_label_loss: 1.2937, \n"
     ]
    },
    {
     "name": "stdout",
     "output_type": "stream",
     "text": [
      "epoch: 1, [batch: 84 / 420], examples_per_second: 273.7431, train_label_loss: 1.3582, \n"
     ]
    },
    {
     "name": "stdout",
     "output_type": "stream",
     "text": [
      "epoch: 1, [batch: 126 / 420], examples_per_second: 280.8237, train_label_loss: 1.3471, \n"
     ]
    },
    {
     "name": "stdout",
     "output_type": "stream",
     "text": [
      "epoch: 1, [batch: 168 / 420], examples_per_second: 289.9992, train_label_loss: 1.2376, \n"
     ]
    },
    {
     "name": "stdout",
     "output_type": "stream",
     "text": [
      "epoch: 1, [batch: 210 / 420], examples_per_second: 296.1649, train_label_loss: 1.1879, \n"
     ]
    },
    {
     "name": "stdout",
     "output_type": "stream",
     "text": [
      "epoch: 1, [batch: 252 / 420], examples_per_second: 306.8964, train_label_loss: 1.0624, \n"
     ]
    },
    {
     "name": "stdout",
     "output_type": "stream",
     "text": [
      "epoch: 1, [batch: 294 / 420], examples_per_second: 311.2004, train_label_loss: 1.0429, \n"
     ]
    },
    {
     "name": "stdout",
     "output_type": "stream",
     "text": [
      "epoch: 1, [batch: 336 / 420], examples_per_second: 319.2644, train_label_loss: 1.2190, \n"
     ]
    },
    {
     "name": "stdout",
     "output_type": "stream",
     "text": [
      "epoch: 1, [batch: 378 / 420], examples_per_second: 329.4375, train_label_loss: 1.3361, \n"
     ]
    },
    {
     "name": "stdout",
     "output_type": "stream",
     "text": [
      "=============================================================\n",
      "epoch: 1, source_val_acc_label: 0.4665, target_val_acc_label: 0.3823, source_val_label_loss: 1.6746, target_val_label_loss: 1.7913, \n",
      "=============================================================\n"
     ]
    },
    {
     "name": "stdout",
     "output_type": "stream",
     "text": [
      "New best\n"
     ]
    },
    {
     "name": "stdout",
     "output_type": "stream",
     "text": [
      "epoch: 2, [batch: 1 / 420], examples_per_second: 2.3607, train_label_loss: 1.4298, \n"
     ]
    },
    {
     "name": "stdout",
     "output_type": "stream",
     "text": [
      "epoch: 2, [batch: 42 / 420], examples_per_second: 265.4232, train_label_loss: 1.3656, \n"
     ]
    },
    {
     "name": "stdout",
     "output_type": "stream",
     "text": [
      "epoch: 2, [batch: 84 / 420], examples_per_second: 272.8396, train_label_loss: 1.2699, \n"
     ]
    },
    {
     "name": "stdout",
     "output_type": "stream",
     "text": [
      "epoch: 2, [batch: 126 / 420], examples_per_second: 280.9024, train_label_loss: 1.3069, \n"
     ]
    },
    {
     "name": "stdout",
     "output_type": "stream",
     "text": [
      "epoch: 2, [batch: 168 / 420], examples_per_second: 287.7873, train_label_loss: 1.5008, \n"
     ]
    },
    {
     "name": "stdout",
     "output_type": "stream",
     "text": [
      "epoch: 2, [batch: 210 / 420], examples_per_second: 296.4130, train_label_loss: 1.6102, \n"
     ]
    },
    {
     "name": "stdout",
     "output_type": "stream",
     "text": [
      "epoch: 2, [batch: 252 / 420], examples_per_second: 304.2362, train_label_loss: 1.1312, \n"
     ]
    },
    {
     "name": "stdout",
     "output_type": "stream",
     "text": [
      "epoch: 2, [batch: 294 / 420], examples_per_second: 312.6479, train_label_loss: 1.2946, \n"
     ]
    },
    {
     "name": "stdout",
     "output_type": "stream",
     "text": [
      "epoch: 2, [batch: 336 / 420], examples_per_second: 322.2320, train_label_loss: 1.7110, \n"
     ]
    },
    {
     "name": "stdout",
     "output_type": "stream",
     "text": [
      "epoch: 2, [batch: 378 / 420], examples_per_second: 330.9782, train_label_loss: 1.2865, \n"
     ]
    },
    {
     "name": "stdout",
     "output_type": "stream",
     "text": [
      "=============================================================\n",
      "epoch: 2, source_val_acc_label: 0.4747, target_val_acc_label: 0.4070, source_val_label_loss: 1.3229, target_val_label_loss: 1.8289, \n",
      "=============================================================\n"
     ]
    },
    {
     "name": "stdout",
     "output_type": "stream",
     "text": [
      "epoch: 3, [batch: 1 / 420], examples_per_second: 2.3532, train_label_loss: 1.3636, \n"
     ]
    },
    {
     "name": "stdout",
     "output_type": "stream",
     "text": [
      "epoch: 3, [batch: 42 / 420], examples_per_second: 264.3726, train_label_loss: 1.1652, \n"
     ]
    },
    {
     "name": "stdout",
     "output_type": "stream",
     "text": [
      "epoch: 3, [batch: 84 / 420], examples_per_second: 273.0189, train_label_loss: 1.2154, \n"
     ]
    },
    {
     "name": "stdout",
     "output_type": "stream",
     "text": [
      "epoch: 3, [batch: 126 / 420], examples_per_second: 278.0072, train_label_loss: 1.4876, \n"
     ]
    },
    {
     "name": "stdout",
     "output_type": "stream",
     "text": [
      "epoch: 3, [batch: 168 / 420], examples_per_second: 286.8160, train_label_loss: 1.2943, \n"
     ]
    },
    {
     "name": "stdout",
     "output_type": "stream",
     "text": [
      "epoch: 3, [batch: 210 / 420], examples_per_second: 293.5732, train_label_loss: 1.4829, \n"
     ]
    },
    {
     "name": "stdout",
     "output_type": "stream",
     "text": [
      "epoch: 3, [batch: 252 / 420], examples_per_second: 302.2668, train_label_loss: 1.6090, \n"
     ]
    },
    {
     "name": "stdout",
     "output_type": "stream",
     "text": [
      "epoch: 3, [batch: 294 / 420], examples_per_second: 311.7923, train_label_loss: 1.1620, \n"
     ]
    },
    {
     "name": "stdout",
     "output_type": "stream",
     "text": [
      "epoch: 3, [batch: 336 / 420], examples_per_second: 322.1375, train_label_loss: 1.2951, \n"
     ]
    },
    {
     "name": "stdout",
     "output_type": "stream",
     "text": [
      "epoch: 3, [batch: 378 / 420], examples_per_second: 331.7505, train_label_loss: 1.0034, \n"
     ]
    },
    {
     "name": "stdout",
     "output_type": "stream",
     "text": [
      "=============================================================\n",
      "epoch: 3, source_val_acc_label: 0.4698, target_val_acc_label: 0.4076, source_val_label_loss: 1.2920, target_val_label_loss: 1.9373, \n",
      "=============================================================\n"
     ]
    },
    {
     "name": "stdout",
     "output_type": "stream",
     "text": [
      "epoch: 4, [batch: 1 / 420], examples_per_second: 2.3617, train_label_loss: 1.2622, \n"
     ]
    },
    {
     "name": "stdout",
     "output_type": "stream",
     "text": [
      "epoch: 4, [batch: 42 / 420], examples_per_second: 266.6875, train_label_loss: 1.6337, \n"
     ]
    },
    {
     "name": "stdout",
     "output_type": "stream",
     "text": [
      "epoch: 4, [batch: 84 / 420], examples_per_second: 272.7146, train_label_loss: 1.2989, \n"
     ]
    },
    {
     "name": "stdout",
     "output_type": "stream",
     "text": [
      "epoch: 4, [batch: 126 / 420], examples_per_second: 281.1569, train_label_loss: 1.0505, \n"
     ]
    },
    {
     "name": "stdout",
     "output_type": "stream",
     "text": [
      "epoch: 4, [batch: 168 / 420], examples_per_second: 286.9645, train_label_loss: 1.2040, \n"
     ]
    },
    {
     "name": "stdout",
     "output_type": "stream",
     "text": [
      "epoch: 4, [batch: 210 / 420], examples_per_second: 295.6380, train_label_loss: 0.5607, \n"
     ]
    },
    {
     "name": "stdout",
     "output_type": "stream",
     "text": [
      "epoch: 4, [batch: 252 / 420], examples_per_second: 304.2786, train_label_loss: 1.5379, \n"
     ]
    },
    {
     "name": "stdout",
     "output_type": "stream",
     "text": [
      "epoch: 4, [batch: 294 / 420], examples_per_second: 312.3768, train_label_loss: 0.9421, \n"
     ]
    },
    {
     "name": "stdout",
     "output_type": "stream",
     "text": [
      "epoch: 4, [batch: 336 / 420], examples_per_second: 323.5419, train_label_loss: 1.1417, \n"
     ]
    },
    {
     "name": "stdout",
     "output_type": "stream",
     "text": [
      "epoch: 4, [batch: 378 / 420], examples_per_second: 332.6504, train_label_loss: 0.7803, \n"
     ]
    },
    {
     "name": "stdout",
     "output_type": "stream",
     "text": [
      "=============================================================\n",
      "epoch: 4, source_val_acc_label: 0.6845, target_val_acc_label: 0.5380, source_val_label_loss: 0.8474, target_val_label_loss: 1.3289, \n",
      "=============================================================\n"
     ]
    },
    {
     "name": "stdout",
     "output_type": "stream",
     "text": [
      "New best\n"
     ]
    },
    {
     "name": "stdout",
     "output_type": "stream",
     "text": [
      "epoch: 5, [batch: 1 / 420], examples_per_second: 2.3455, train_label_loss: 0.6022, \n"
     ]
    },
    {
     "name": "stdout",
     "output_type": "stream",
     "text": [
      "epoch: 5, [batch: 42 / 420], examples_per_second: 264.7844, train_label_loss: 0.7609, \n"
     ]
    },
    {
     "name": "stdout",
     "output_type": "stream",
     "text": [
      "epoch: 5, [batch: 84 / 420], examples_per_second: 272.2243, train_label_loss: 0.5574, \n"
     ]
    },
    {
     "name": "stdout",
     "output_type": "stream",
     "text": [
      "epoch: 5, [batch: 126 / 420], examples_per_second: 279.1601, train_label_loss: 0.6788, \n"
     ]
    },
    {
     "name": "stdout",
     "output_type": "stream",
     "text": [
      "epoch: 5, [batch: 168 / 420], examples_per_second: 286.8779, train_label_loss: 0.6754, \n"
     ]
    },
    {
     "name": "stdout",
     "output_type": "stream",
     "text": [
      "epoch: 5, [batch: 210 / 420], examples_per_second: 294.8284, train_label_loss: 0.7521, \n"
     ]
    },
    {
     "name": "stdout",
     "output_type": "stream",
     "text": [
      "epoch: 5, [batch: 252 / 420], examples_per_second: 303.5826, train_label_loss: 0.4435, \n"
     ]
    },
    {
     "name": "stdout",
     "output_type": "stream",
     "text": [
      "epoch: 5, [batch: 294 / 420], examples_per_second: 311.6610, train_label_loss: 0.7283, \n"
     ]
    },
    {
     "name": "stdout",
     "output_type": "stream",
     "text": [
      "epoch: 5, [batch: 336 / 420], examples_per_second: 321.5928, train_label_loss: 0.8871, \n"
     ]
    },
    {
     "name": "stdout",
     "output_type": "stream",
     "text": [
      "epoch: 5, [batch: 378 / 420], examples_per_second: 333.5303, train_label_loss: 0.9204, \n"
     ]
    },
    {
     "name": "stdout",
     "output_type": "stream",
     "text": [
      "=============================================================\n",
      "epoch: 5, source_val_acc_label: 0.7208, target_val_acc_label: 0.5704, source_val_label_loss: 0.7449, target_val_label_loss: 1.2495, \n",
      "=============================================================\n"
     ]
    },
    {
     "name": "stdout",
     "output_type": "stream",
     "text": [
      "New best\n"
     ]
    },
    {
     "name": "stdout",
     "output_type": "stream",
     "text": [
      "epoch: 6, [batch: 1 / 420], examples_per_second: 2.3586, train_label_loss: 0.5476, \n"
     ]
    },
    {
     "name": "stdout",
     "output_type": "stream",
     "text": [
      "epoch: 6, [batch: 42 / 420], examples_per_second: 265.6724, train_label_loss: 0.3212, \n"
     ]
    },
    {
     "name": "stdout",
     "output_type": "stream",
     "text": [
      "epoch: 6, [batch: 84 / 420], examples_per_second: 272.1806, train_label_loss: 0.6820, \n"
     ]
    },
    {
     "name": "stdout",
     "output_type": "stream",
     "text": [
      "epoch: 6, [batch: 126 / 420], examples_per_second: 280.7981, train_label_loss: 0.4926, \n"
     ]
    },
    {
     "name": "stdout",
     "output_type": "stream",
     "text": [
      "epoch: 6, [batch: 168 / 420], examples_per_second: 286.6837, train_label_loss: 0.8619, \n"
     ]
    },
    {
     "name": "stdout",
     "output_type": "stream",
     "text": [
      "epoch: 6, [batch: 210 / 420], examples_per_second: 294.3320, train_label_loss: 0.3772, \n"
     ]
    },
    {
     "name": "stdout",
     "output_type": "stream",
     "text": [
      "epoch: 6, [batch: 252 / 420], examples_per_second: 302.1516, train_label_loss: 0.6903, \n"
     ]
    },
    {
     "name": "stdout",
     "output_type": "stream",
     "text": [
      "epoch: 6, [batch: 294 / 420], examples_per_second: 313.0841, train_label_loss: 0.7255, \n"
     ]
    },
    {
     "name": "stdout",
     "output_type": "stream",
     "text": [
      "epoch: 6, [batch: 336 / 420], examples_per_second: 321.4214, train_label_loss: 0.7027, \n"
     ]
    },
    {
     "name": "stdout",
     "output_type": "stream",
     "text": [
      "epoch: 6, [batch: 378 / 420], examples_per_second: 331.4631, train_label_loss: 0.9861, \n"
     ]
    },
    {
     "name": "stdout",
     "output_type": "stream",
     "text": [
      "=============================================================\n",
      "epoch: 6, source_val_acc_label: 0.7500, target_val_acc_label: 0.6000, source_val_label_loss: 0.6742, target_val_label_loss: 1.2118, \n",
      "=============================================================\n"
     ]
    },
    {
     "name": "stdout",
     "output_type": "stream",
     "text": [
      "New best\n"
     ]
    },
    {
     "name": "stdout",
     "output_type": "stream",
     "text": [
      "epoch: 7, [batch: 1 / 420], examples_per_second: 2.3601, train_label_loss: 0.4176, \n"
     ]
    },
    {
     "name": "stdout",
     "output_type": "stream",
     "text": [
      "epoch: 7, [batch: 42 / 420], examples_per_second: 266.7483, train_label_loss: 0.6995, \n"
     ]
    },
    {
     "name": "stdout",
     "output_type": "stream",
     "text": [
      "epoch: 7, [batch: 84 / 420], examples_per_second: 272.8870, train_label_loss: 0.4826, \n"
     ]
    },
    {
     "name": "stdout",
     "output_type": "stream",
     "text": [
      "epoch: 7, [batch: 126 / 420], examples_per_second: 279.7080, train_label_loss: 0.9794, \n"
     ]
    },
    {
     "name": "stdout",
     "output_type": "stream",
     "text": [
      "epoch: 7, [batch: 168 / 420], examples_per_second: 287.0777, train_label_loss: 0.3279, \n"
     ]
    },
    {
     "name": "stdout",
     "output_type": "stream",
     "text": [
      "epoch: 7, [batch: 210 / 420], examples_per_second: 295.6975, train_label_loss: 0.2906, \n"
     ]
    },
    {
     "name": "stdout",
     "output_type": "stream",
     "text": [
      "epoch: 7, [batch: 252 / 420], examples_per_second: 301.8040, train_label_loss: 0.7874, \n"
     ]
    },
    {
     "name": "stdout",
     "output_type": "stream",
     "text": [
      "epoch: 7, [batch: 294 / 420], examples_per_second: 311.9923, train_label_loss: 0.4522, \n"
     ]
    },
    {
     "name": "stdout",
     "output_type": "stream",
     "text": [
      "epoch: 7, [batch: 336 / 420], examples_per_second: 321.8962, train_label_loss: 0.8493, \n"
     ]
    },
    {
     "name": "stdout",
     "output_type": "stream",
     "text": [
      "epoch: 7, [batch: 378 / 420], examples_per_second: 332.6540, train_label_loss: 0.6585, \n"
     ]
    },
    {
     "name": "stdout",
     "output_type": "stream",
     "text": [
      "=============================================================\n",
      "epoch: 7, source_val_acc_label: 0.7627, target_val_acc_label: 0.6152, source_val_label_loss: 0.6323, target_val_label_loss: 1.1698, \n",
      "=============================================================\n"
     ]
    },
    {
     "name": "stdout",
     "output_type": "stream",
     "text": [
      "New best\n"
     ]
    },
    {
     "name": "stdout",
     "output_type": "stream",
     "text": [
      "epoch: 8, [batch: 1 / 420], examples_per_second: 2.3527, train_label_loss: 0.3602, \n"
     ]
    },
    {
     "name": "stdout",
     "output_type": "stream",
     "text": [
      "epoch: 8, [batch: 42 / 420], examples_per_second: 266.1621, train_label_loss: 0.5814, \n"
     ]
    },
    {
     "name": "stdout",
     "output_type": "stream",
     "text": [
      "epoch: 8, [batch: 84 / 420], examples_per_second: 273.2973, train_label_loss: 0.3628, \n"
     ]
    },
    {
     "name": "stdout",
     "output_type": "stream",
     "text": [
      "epoch: 8, [batch: 126 / 420], examples_per_second: 278.7086, train_label_loss: 0.3517, \n"
     ]
    },
    {
     "name": "stdout",
     "output_type": "stream",
     "text": [
      "epoch: 8, [batch: 168 / 420], examples_per_second: 290.1140, train_label_loss: 0.3706, \n"
     ]
    },
    {
     "name": "stdout",
     "output_type": "stream",
     "text": [
      "epoch: 8, [batch: 210 / 420], examples_per_second: 296.3295, train_label_loss: 0.6226, \n"
     ]
    },
    {
     "name": "stdout",
     "output_type": "stream",
     "text": [
      "epoch: 8, [batch: 252 / 420], examples_per_second: 304.7599, train_label_loss: 0.3995, \n"
     ]
    },
    {
     "name": "stdout",
     "output_type": "stream",
     "text": [
      "epoch: 8, [batch: 294 / 420], examples_per_second: 312.8159, train_label_loss: 0.4162, \n"
     ]
    },
    {
     "name": "stdout",
     "output_type": "stream",
     "text": [
      "epoch: 8, [batch: 336 / 420], examples_per_second: 321.0589, train_label_loss: 0.8552, \n"
     ]
    },
    {
     "name": "stdout",
     "output_type": "stream",
     "text": [
      "epoch: 8, [batch: 378 / 420], examples_per_second: 327.6497, train_label_loss: 0.5480, \n"
     ]
    },
    {
     "name": "stdout",
     "output_type": "stream",
     "text": [
      "=============================================================\n",
      "epoch: 8, source_val_acc_label: 0.7809, target_val_acc_label: 0.6198, source_val_label_loss: 0.6170, target_val_label_loss: 1.1241, \n",
      "=============================================================\n"
     ]
    },
    {
     "name": "stdout",
     "output_type": "stream",
     "text": [
      "New best\n"
     ]
    },
    {
     "name": "stdout",
     "output_type": "stream",
     "text": [
      "epoch: 9, [batch: 1 / 420], examples_per_second: 2.3606, train_label_loss: 0.4788, \n"
     ]
    },
    {
     "name": "stdout",
     "output_type": "stream",
     "text": [
      "epoch: 9, [batch: 42 / 420], examples_per_second: 267.5429, train_label_loss: 0.6102, \n"
     ]
    },
    {
     "name": "stdout",
     "output_type": "stream",
     "text": [
      "epoch: 9, [batch: 84 / 420], examples_per_second: 274.2235, train_label_loss: 0.3649, \n"
     ]
    },
    {
     "name": "stdout",
     "output_type": "stream",
     "text": [
      "epoch: 9, [batch: 126 / 420], examples_per_second: 278.7695, train_label_loss: 0.5076, \n"
     ]
    },
    {
     "name": "stdout",
     "output_type": "stream",
     "text": [
      "epoch: 9, [batch: 168 / 420], examples_per_second: 285.8557, train_label_loss: 0.3957, \n"
     ]
    },
    {
     "name": "stdout",
     "output_type": "stream",
     "text": [
      "epoch: 9, [batch: 210 / 420], examples_per_second: 294.5048, train_label_loss: 0.4190, \n"
     ]
    },
    {
     "name": "stdout",
     "output_type": "stream",
     "text": [
      "epoch: 9, [batch: 252 / 420], examples_per_second: 302.3583, train_label_loss: 0.6372, \n"
     ]
    },
    {
     "name": "stdout",
     "output_type": "stream",
     "text": [
      "epoch: 9, [batch: 294 / 420], examples_per_second: 312.0783, train_label_loss: 0.6826, \n"
     ]
    },
    {
     "name": "stdout",
     "output_type": "stream",
     "text": [
      "epoch: 9, [batch: 336 / 420], examples_per_second: 321.3968, train_label_loss: 0.5312, \n"
     ]
    },
    {
     "name": "stdout",
     "output_type": "stream",
     "text": [
      "epoch: 9, [batch: 378 / 420], examples_per_second: 331.8736, train_label_loss: 0.4307, \n"
     ]
    },
    {
     "name": "stdout",
     "output_type": "stream",
     "text": [
      "=============================================================\n",
      "epoch: 9, source_val_acc_label: 0.7762, target_val_acc_label: 0.6299, source_val_label_loss: 0.5992, target_val_label_loss: 1.1949, \n",
      "=============================================================\n"
     ]
    },
    {
     "name": "stdout",
     "output_type": "stream",
     "text": [
      "epoch: 10, [batch: 1 / 420], examples_per_second: 2.3475, train_label_loss: 0.4939, \n"
     ]
    },
    {
     "name": "stdout",
     "output_type": "stream",
     "text": [
      "epoch: 10, [batch: 42 / 420], examples_per_second: 265.9444, train_label_loss: 0.4923, \n"
     ]
    },
    {
     "name": "stdout",
     "output_type": "stream",
     "text": [
      "epoch: 10, [batch: 84 / 420], examples_per_second: 271.5843, train_label_loss: 0.5458, \n"
     ]
    },
    {
     "name": "stdout",
     "output_type": "stream",
     "text": [
      "epoch: 10, [batch: 126 / 420], examples_per_second: 277.6671, train_label_loss: 0.4477, \n"
     ]
    },
    {
     "name": "stdout",
     "output_type": "stream",
     "text": [
      "epoch: 10, [batch: 168 / 420], examples_per_second: 287.5833, train_label_loss: 0.6674, \n"
     ]
    },
    {
     "name": "stdout",
     "output_type": "stream",
     "text": [
      "epoch: 10, [batch: 210 / 420], examples_per_second: 294.2825, train_label_loss: 0.3386, \n"
     ]
    },
    {
     "name": "stdout",
     "output_type": "stream",
     "text": [
      "epoch: 10, [batch: 252 / 420], examples_per_second: 302.6229, train_label_loss: 0.4610, \n"
     ]
    },
    {
     "name": "stdout",
     "output_type": "stream",
     "text": [
      "epoch: 10, [batch: 294 / 420], examples_per_second: 312.5112, train_label_loss: 0.4404, \n"
     ]
    },
    {
     "name": "stdout",
     "output_type": "stream",
     "text": [
      "epoch: 10, [batch: 336 / 420], examples_per_second: 321.1465, train_label_loss: 0.1954, \n"
     ]
    },
    {
     "name": "stdout",
     "output_type": "stream",
     "text": [
      "epoch: 10, [batch: 378 / 420], examples_per_second: 332.3980, train_label_loss: 0.5824, \n"
     ]
    },
    {
     "name": "stdout",
     "output_type": "stream",
     "text": [
      "=============================================================\n",
      "epoch: 10, source_val_acc_label: 0.7833, target_val_acc_label: 0.6307, source_val_label_loss: 0.5838, target_val_label_loss: 1.1481, \n",
      "=============================================================\n"
     ]
    },
    {
     "name": "stdout",
     "output_type": "stream",
     "text": [
      "epoch: 11, [batch: 1 / 420], examples_per_second: 2.3587, train_label_loss: 0.4816, \n"
     ]
    },
    {
     "name": "stdout",
     "output_type": "stream",
     "text": [
      "epoch: 11, [batch: 42 / 420], examples_per_second: 266.6966, train_label_loss: 0.2610, \n"
     ]
    },
    {
     "name": "stdout",
     "output_type": "stream",
     "text": [
      "epoch: 11, [batch: 84 / 420], examples_per_second: 273.6705, train_label_loss: 0.4000, \n"
     ]
    },
    {
     "name": "stdout",
     "output_type": "stream",
     "text": [
      "epoch: 11, [batch: 126 / 420], examples_per_second: 280.7155, train_label_loss: 0.8141, \n"
     ]
    },
    {
     "name": "stdout",
     "output_type": "stream",
     "text": [
      "epoch: 11, [batch: 168 / 420], examples_per_second: 287.2324, train_label_loss: 0.6455, \n"
     ]
    },
    {
     "name": "stdout",
     "output_type": "stream",
     "text": [
      "epoch: 11, [batch: 210 / 420], examples_per_second: 295.9327, train_label_loss: 0.5076, \n"
     ]
    },
    {
     "name": "stdout",
     "output_type": "stream",
     "text": [
      "epoch: 11, [batch: 252 / 420], examples_per_second: 303.9479, train_label_loss: 0.1157, \n"
     ]
    },
    {
     "name": "stdout",
     "output_type": "stream",
     "text": [
      "epoch: 11, [batch: 294 / 420], examples_per_second: 312.9414, train_label_loss: 0.4149, \n"
     ]
    },
    {
     "name": "stdout",
     "output_type": "stream",
     "text": [
      "epoch: 11, [batch: 336 / 420], examples_per_second: 321.7035, train_label_loss: 0.3750, \n"
     ]
    },
    {
     "name": "stdout",
     "output_type": "stream",
     "text": [
      "epoch: 11, [batch: 378 / 420], examples_per_second: 331.5788, train_label_loss: 0.4536, \n"
     ]
    },
    {
     "name": "stdout",
     "output_type": "stream",
     "text": [
      "=============================================================\n",
      "epoch: 11, source_val_acc_label: 0.7825, target_val_acc_label: 0.6368, source_val_label_loss: 0.5940, target_val_label_loss: 1.2216, \n",
      "=============================================================\n"
     ]
    },
    {
     "name": "stdout",
     "output_type": "stream",
     "text": [
      "epoch: 12, [batch: 1 / 420], examples_per_second: 2.3537, train_label_loss: 0.1700, \n"
     ]
    },
    {
     "name": "stdout",
     "output_type": "stream",
     "text": [
      "epoch: 12, [batch: 42 / 420], examples_per_second: 265.4795, train_label_loss: 0.3812, \n"
     ]
    },
    {
     "name": "stdout",
     "output_type": "stream",
     "text": [
      "epoch: 12, [batch: 84 / 420], examples_per_second: 272.7461, train_label_loss: 0.2640, \n"
     ]
    },
    {
     "name": "stdout",
     "output_type": "stream",
     "text": [
      "epoch: 12, [batch: 126 / 420], examples_per_second: 281.0611, train_label_loss: 0.4028, \n"
     ]
    },
    {
     "name": "stdout",
     "output_type": "stream",
     "text": [
      "epoch: 12, [batch: 168 / 420], examples_per_second: 288.6251, train_label_loss: 0.6192, \n"
     ]
    },
    {
     "name": "stdout",
     "output_type": "stream",
     "text": [
      "epoch: 12, [batch: 210 / 420], examples_per_second: 294.4917, train_label_loss: 0.2521, \n"
     ]
    },
    {
     "name": "stdout",
     "output_type": "stream",
     "text": [
      "epoch: 12, [batch: 252 / 420], examples_per_second: 303.7640, train_label_loss: 0.4075, \n"
     ]
    },
    {
     "name": "stdout",
     "output_type": "stream",
     "text": [
      "epoch: 12, [batch: 294 / 420], examples_per_second: 312.9468, train_label_loss: 0.5594, \n"
     ]
    },
    {
     "name": "stdout",
     "output_type": "stream",
     "text": [
      "epoch: 12, [batch: 336 / 420], examples_per_second: 322.3491, train_label_loss: 0.4114, \n"
     ]
    },
    {
     "name": "stdout",
     "output_type": "stream",
     "text": [
      "epoch: 12, [batch: 378 / 420], examples_per_second: 332.9536, train_label_loss: 0.6098, \n"
     ]
    },
    {
     "name": "stdout",
     "output_type": "stream",
     "text": [
      "=============================================================\n",
      "epoch: 12, source_val_acc_label: 0.7901, target_val_acc_label: 0.6215, source_val_label_loss: 0.5896, target_val_label_loss: 1.1951, \n",
      "=============================================================\n"
     ]
    },
    {
     "name": "stdout",
     "output_type": "stream",
     "text": [
      "Patience (3) exhausted\n"
     ]
    }
   ],
   "source": [
    "###################################\n",
    "# train\n",
    "###################################\n",
    "jig = PTN_Train_Eval_Test_Jig(model, p.BEST_MODEL_PATH, p.device)\n",
    "\n",
    "jig.train(\n",
    "    train_iterable=datasets.source.processed.train,\n",
    "    source_val_iterable=datasets.source.processed.val,\n",
    "    target_val_iterable=datasets.target.processed.val,\n",
    "    num_epochs=p.n_epoch,\n",
    "    num_logs_per_epoch=p.NUM_LOGS_PER_EPOCH,\n",
    "    patience=p.patience,\n",
    "    optimizer=optimizer,\n",
    "    criteria_for_best=p.criteria_for_best,\n",
    ")"
   ]
  },
  {
   "cell_type": "code",
   "execution_count": 14,
   "id": "31e8fabf",
   "metadata": {
    "execution": {
     "iopub.execute_input": "2022-03-02T08:45:52.954943Z",
     "iopub.status.busy": "2022-03-02T08:45:52.954695Z",
     "iopub.status.idle": "2022-03-02T08:45:52.970879Z",
     "shell.execute_reply": "2022-03-02T08:45:52.971251Z"
    },
    "papermill": {
     "duration": 0.054234,
     "end_time": "2022-03-02T08:45:52.971356",
     "exception": false,
     "start_time": "2022-03-02T08:45:52.917122",
     "status": "completed"
    },
    "tags": []
   },
   "outputs": [],
   "source": [
    "total_experiment_time_secs = time.time() - start_time_secs"
   ]
  },
  {
   "cell_type": "code",
   "execution_count": 15,
   "id": "87b9595b",
   "metadata": {
    "execution": {
     "iopub.execute_input": "2022-03-02T08:45:53.049170Z",
     "iopub.status.busy": "2022-03-02T08:45:53.048739Z",
     "iopub.status.idle": "2022-03-02T08:49:18.386484Z",
     "shell.execute_reply": "2022-03-02T08:49:18.386708Z"
    },
    "papermill": {
     "duration": 205.37807,
     "end_time": "2022-03-02T08:49:18.386792",
     "exception": false,
     "start_time": "2022-03-02T08:45:53.008722",
     "status": "completed"
    },
    "tags": []
   },
   "outputs": [],
   "source": [
    "###################################\n",
    "# Evaluate the model\n",
    "###################################\n",
    "source_test_label_accuracy, source_test_label_loss = jig.test(datasets.source.processed.test)\n",
    "target_test_label_accuracy, target_test_label_loss = jig.test(datasets.target.processed.test)\n",
    "\n",
    "source_val_label_accuracy, source_val_label_loss = jig.test(datasets.source.processed.val)\n",
    "target_val_label_accuracy, target_val_label_loss = jig.test(datasets.target.processed.val)\n",
    "\n",
    "history = jig.get_history()\n",
    "\n",
    "total_epochs_trained = len(history[\"epoch_indices\"])\n",
    "\n",
    "val_dl = Iterable_Aggregator((datasets.source.original.val,datasets.target.original.val))\n",
    "\n",
    "confusion = ptn_confusion_by_domain_over_dataloader(model, p.device, val_dl)\n",
    "per_domain_accuracy = per_domain_accuracy_from_confusion(confusion)\n",
    "\n",
    "# Add a key to per_domain_accuracy for if it was a source domain\n",
    "for domain, accuracy in per_domain_accuracy.items():\n",
    "    per_domain_accuracy[domain] = {\n",
    "        \"accuracy\": accuracy,\n",
    "        \"source?\": domain in p.domains_source\n",
    "    }\n",
    "\n",
    "# Do an independent accuracy assesment JUST TO BE SURE!\n",
    "# _source_test_label_accuracy = independent_accuracy_assesment(model, datasets.source.processed.test, p.device)\n",
    "# _target_test_label_accuracy = independent_accuracy_assesment(model, datasets.target.processed.test, p.device)\n",
    "# _source_val_label_accuracy = independent_accuracy_assesment(model, datasets.source.processed.val, p.device)\n",
    "# _target_val_label_accuracy = independent_accuracy_assesment(model, datasets.target.processed.val, p.device)\n",
    "\n",
    "# assert(_source_test_label_accuracy == source_test_label_accuracy)\n",
    "# assert(_target_test_label_accuracy == target_test_label_accuracy)\n",
    "# assert(_source_val_label_accuracy == source_val_label_accuracy)\n",
    "# assert(_target_val_label_accuracy == target_val_label_accuracy)\n",
    "\n",
    "experiment = {\n",
    "    \"experiment_name\": p.experiment_name,\n",
    "    \"parameters\": dict(p),\n",
    "    \"results\": {\n",
    "        \"source_test_label_accuracy\": source_test_label_accuracy,\n",
    "        \"source_test_label_loss\": source_test_label_loss,\n",
    "        \"target_test_label_accuracy\": target_test_label_accuracy,\n",
    "        \"target_test_label_loss\": target_test_label_loss,\n",
    "        \"source_val_label_accuracy\": source_val_label_accuracy,\n",
    "        \"source_val_label_loss\": source_val_label_loss,\n",
    "        \"target_val_label_accuracy\": target_val_label_accuracy,\n",
    "        \"target_val_label_loss\": target_val_label_loss,\n",
    "        \"total_epochs_trained\": total_epochs_trained,\n",
    "        \"total_experiment_time_secs\": total_experiment_time_secs,\n",
    "        \"confusion\": confusion,\n",
    "        \"per_domain_accuracy\": per_domain_accuracy,\n",
    "    },\n",
    "    \"history\": history,\n",
    "    \"dataset_metrics\": get_dataset_metrics(datasets, \"ptn\"),\n",
    "}"
   ]
  },
  {
   "cell_type": "code",
   "execution_count": 16,
   "id": "54a21829",
   "metadata": {
    "execution": {
     "iopub.execute_input": "2022-03-02T08:49:18.460853Z",
     "iopub.status.busy": "2022-03-02T08:49:18.460599Z",
     "iopub.status.idle": "2022-03-02T08:49:18.650491Z",
     "shell.execute_reply": "2022-03-02T08:49:18.650868Z"
    },
    "papermill": {
     "duration": 0.228676,
     "end_time": "2022-03-02T08:49:18.650978",
     "exception": false,
     "start_time": "2022-03-02T08:49:18.422302",
     "status": "completed"
    },
    "tags": []
   },
   "outputs": [
    {
     "data": {
      "image/png": "[encoded data removed]",
      "text/plain": [
       "<Figure size 1080x504 with 1 Axes>"
      ]
     },
     "metadata": {
      "needs_background": "light"
     },
     "output_type": "display_data"
    }
   ],
   "source": [
    "ax = get_loss_curve(experiment)\n",
    "plt.show()"
   ]
  },
  {
   "cell_type": "code",
   "execution_count": 17,
   "id": "fd8a0f60",
   "metadata": {
    "execution": {
     "iopub.execute_input": "2022-03-02T08:49:18.728913Z",
     "iopub.status.busy": "2022-03-02T08:49:18.728295Z",
     "iopub.status.idle": "2022-03-02T08:49:18.980336Z",
     "shell.execute_reply": "2022-03-02T08:49:18.980746Z"
    },
    "papermill": {
     "duration": 0.290305,
     "end_time": "2022-03-02T08:49:18.980862",
     "exception": false,
     "start_time": "2022-03-02T08:49:18.690557",
     "status": "completed"
    },
    "tags": []
   },
   "outputs": [
    {
     "data": {
      "text/plain": [
       "<matplotlib.axes._subplots.AxesSubplot at 0x7fd6e06b7dc0>"
      ]
     },
     "execution_count": 17,
     "metadata": {},
     "output_type": "execute_result"
    },
    {
     "data": {
      "image/png": "[encoded data removed]",
      "text/plain": [
       "<Figure size 1080x504 with 1 Axes>"
      ]
     },
     "metadata": {
      "needs_background": "light"
     },
     "output_type": "display_data"
    }
   ],
   "source": [
    "get_results_table(experiment)"
   ]
  },
  {
   "cell_type": "code",
   "execution_count": 18,
   "id": "cf8dc689",
   "metadata": {
    "execution": {
     "iopub.execute_input": "2022-03-02T08:49:19.060616Z",
     "iopub.status.busy": "2022-03-02T08:49:19.060362Z",
     "iopub.status.idle": "2022-03-02T08:49:19.227886Z",
     "shell.execute_reply": "2022-03-02T08:49:19.227370Z"
    },
    "papermill": {
     "duration": 0.206248,
     "end_time": "2022-03-02T08:49:19.227982",
     "exception": false,
     "start_time": "2022-03-02T08:49:19.021734",
     "status": "completed"
    },
    "tags": []
   },
   "outputs": [
    {
     "data": {
      "text/plain": [
       "<matplotlib.axes._subplots.AxesSubplot at 0x7fd6e06bdd00>"
      ]
     },
     "execution_count": 18,
     "metadata": {},
     "output_type": "execute_result"
    },
    {
     "data": {
      "image/png": "[encoded data removed]",
      "text/plain": [
       "<Figure size 1080x504 with 1 Axes>"
      ]
     },
     "metadata": {
      "needs_background": "light"
     },
     "output_type": "display_data"
    }
   ],
   "source": [
    "get_domain_accuracies(experiment)"
   ]
  },
  {
   "cell_type": "code",
   "execution_count": 19,
   "id": "a74ae082",
   "metadata": {
    "execution": {
     "iopub.execute_input": "2022-03-02T08:49:19.310160Z",
     "iopub.status.busy": "2022-03-02T08:49:19.309908Z",
     "iopub.status.idle": "2022-03-02T08:49:19.320229Z",
     "shell.execute_reply": "2022-03-02T08:49:19.320011Z"
    },
    "papermill": {
     "duration": 0.049916,
     "end_time": "2022-03-02T08:49:19.320277",
     "exception": false,
     "start_time": "2022-03-02T08:49:19.270361",
     "status": "completed"
    },
    "tags": []
   },
   "outputs": [
    {
     "name": "stdout",
     "output_type": "stream",
     "text": [
      "Source Test Label Accuracy: 0.7779513888888889 Target Test Label Accuracy: 0.62375\n",
      "Source Val Label Accuracy: 0.7809027777777777 Target Val Label Accuracy: 0.6197916666666666\n"
     ]
    }
   ],
   "source": [
    "print(\"Source Test Label Accuracy:\", experiment[\"results\"][\"source_test_label_accuracy\"], \"Target Test Label Accuracy:\", experiment[\"results\"][\"target_test_label_accuracy\"])\n",
    "print(\"Source Val Label Accuracy:\", experiment[\"results\"][\"source_val_label_accuracy\"], \"Target Val Label Accuracy:\", experiment[\"results\"][\"target_val_label_accuracy\"])"
   ]
  },
  {
   "cell_type": "code",
   "execution_count": 20,
   "id": "dacca602",
   "metadata": {
    "execution": {
     "iopub.execute_input": "2022-03-02T08:49:19.399870Z",
     "iopub.status.busy": "2022-03-02T08:49:19.399591Z",
     "iopub.status.idle": "2022-03-02T08:49:19.409647Z",
     "shell.execute_reply": "2022-03-02T08:49:19.409254Z"
    },
    "papermill": {
     "duration": 0.049575,
     "end_time": "2022-03-02T08:49:19.409736",
     "exception": false,
     "start_time": "2022-03-02T08:49:19.360161",
     "status": "completed"
    },
    "tags": [
     "experiment_json"
    ]
   },
   "outputs": [
    {
     "data": {
      "text/plain": [
       "'{\"experiment_name\": \"baseline_ptn_oracle.run2\", \"parameters\": {\"experiment_name\": \"baseline_ptn_oracle.run2\", \"lr\": 0.001, \"device\": \"cuda\", \"seed\": 1337, \"dataset_seed\": 1337, \"labels_source\": [\"3123D52\", \"3123D65\", \"3123D79\", \"3123D80\", \"3123D54\", \"3123D70\", \"3123D7B\", \"3123D89\", \"3123D58\", \"3123D76\", \"3123D7D\", \"3123EFE\", \"3123D64\", \"3123D78\", \"3123D7E\", \"3124E4A\"], \"labels_target\": [\"3123D52\", \"3123D65\", \"3123D79\", \"3123D80\", \"3123D54\", \"3123D70\", \"3123D7B\", \"3123D89\", \"3123D58\", \"3123D76\", \"3123D7D\", \"3123EFE\", \"3123D64\", \"3123D78\", \"3123D7E\", \"3124E4A\"], \"x_transforms_source\": [], \"x_transforms_target\": [], \"episode_transforms_source\": [], \"episode_transforms_target\": [], \"num_examples_per_domain_per_label_source\": 1000, \"num_examples_per_domain_per_label_target\": 1000, \"n_shot\": 3, \"n_way\": 16, \"n_query\": 2, \"train_k_factor\": 1, \"val_k_factor\": 2, \"test_k_factor\": 2, \"torch_default_dtype\": \"torch.float64\", \"n_epoch\": 50, \"patience\": 3, \"criteria_for_best\": \"target_loss\", \"x_net\": [{\"class\": \"nnReshape\", \"kargs\": {\"shape\": [-1, 1, 2, 256]}}, {\"class\": \"Conv2d\", \"kargs\": {\"in_channels\": 1, \"out_channels\": 256, \"kernel_size\": [1, 7], \"bias\": false, \"padding\": [0, 3]}}, {\"class\": \"ReLU\", \"kargs\": {\"inplace\": true}}, {\"class\": \"BatchNorm2d\", \"kargs\": {\"num_features\": 256}}, {\"class\": \"Conv2d\", \"kargs\": {\"in_channels\": 256, \"out_channels\": 80, \"kernel_size\": [2, 7], \"bias\": true, \"padding\": [0, 3]}}, {\"class\": \"ReLU\", \"kargs\": {\"inplace\": true}}, {\"class\": \"BatchNorm2d\", \"kargs\": {\"num_features\": 80}}, {\"class\": \"Flatten\", \"kargs\": {}}, {\"class\": \"Linear\", \"kargs\": {\"in_features\": 20480, \"out_features\": 256}}, {\"class\": \"ReLU\", \"kargs\": {\"inplace\": true}}, {\"class\": \"BatchNorm1d\", \"kargs\": {\"num_features\": 256}}, {\"class\": \"Linear\", \"kargs\": {\"in_features\": 256, \"out_features\": 256}}], \"NUM_LOGS_PER_EPOCH\": 10, \"BEST_MODEL_PATH\": \"./best_model.pth\", \"pickle_name\": \"oracle.Run2_10kExamples_stratified_ds.2022A.pkl\", \"domains_source\": [8, 32, 50], \"domains_target\": [14, 20, 26, 38, 44]}, \"results\": {\"source_test_label_accuracy\": 0.7779513888888889, \"source_test_label_loss\": 0.6140670441125332, \"target_test_label_accuracy\": 0.62375, \"target_test_label_loss\": 1.1426065075160372, \"source_val_label_accuracy\": 0.7809027777777777, \"source_val_label_loss\": 0.6169978419186923, \"target_val_label_accuracy\": 0.6197916666666666, \"target_val_label_loss\": 1.1241472681789886, \"total_epochs_trained\": 12, \"total_experiment_time_secs\": 2046.4328751564026, \"confusion\": {\"8\": {\"15\": {\"15\": 110, \"12\": 2, \"2\": 8}, \"3\": {\"3\": 120}, \"6\": {\"14\": 28, \"6\": 66, \"8\": 23, \"1\": 1, \"4\": 1, \"11\": 1}, \"1\": {\"1\": 64, \"13\": 3, \"14\": 8, \"6\": 3, \"4\": 17, \"7\": 4, \"10\": 10, \"5\": 11}, \"8\": {\"11\": 13, \"8\": 80, \"4\": 7, \"6\": 18, \"14\": 2}, \"10\": {\"10\": 52, \"13\": 19, \"4\": 1, \"1\": 3, \"5\": 43, \"7\": 2}, \"9\": {\"9\": 120}, \"13\": {\"13\": 87, \"10\": 23, \"7\": 5, \"5\": 5}, \"12\": {\"2\": 9, \"12\": 107, \"15\": 4}, \"5\": {\"10\": 22, \"1\": 22, \"13\": 4, \"5\": 72}, \"0\": {\"0\": 120}, \"2\": {\"2\": 109, \"12\": 7, \"15\": 4}, \"11\": {\"7\": 15, \"11\": 54, \"4\": 1, \"8\": 34, \"6\": 11, \"13\": 3, \"14\": 2}, \"14\": {\"14\": 73, \"6\": 37, \"1\": 5, \"8\": 5}, \"7\": {\"4\": 24, \"7\": 81, \"1\": 9, \"10\": 3, \"11\": 2, \"13\": 1}, \"4\": {\"4\": 60, \"1\": 28, \"7\": 22, \"6\": 2, \"8\": 3, \"14\": 1, \"11\": 3, \"10\": 1}}, \"50\": {\"3\": {\"3\": 120}, \"15\": {\"15\": 95, \"4\": 2, \"6\": 10, \"12\": 3, \"9\": 9, \"5\": 1}, \"8\": {\"8\": 120}, \"4\": {\"4\": 87, \"5\": 23, \"15\": 2, \"7\": 8}, \"14\": {\"14\": 116, \"2\": 4}, \"0\": {\"2\": 12, \"0\": 94, \"10\": 14}, \"7\": {\"7\": 97, \"4\": 20, \"5\": 3}, \"6\": {\"6\": 97, \"5\": 12, \"4\": 1, \"12\": 3, \"15\": 7}, \"10\": {\"10\": 110, \"1\": 1, \"0\": 8, \"13\": 1}, \"5\": {\"5\": 76, \"4\": 28, \"6\": 7, \"7\": 9}, \"2\": {\"2\": 109, \"14\": 3, \"0\": 8}, \"12\": {\"11\": 11, \"12\": 96, \"15\": 7, \"9\": 3, \"6\": 3}, \"9\": {\"15\": 20, \"9\": 96, \"12\": 4}, \"1\": {\"1\": 111, \"13\": 5, \"11\": 4}, \"11\": {\"11\": 108, \"12\": 12}, \"13\": {\"13\": 116, \"8\": 3, \"1\": 1}}, \"32\": {\"5\": {\"5\": 104, \"15\": 13, \"7\": 1, \"2\": 1, \"14\": 1}, \"8\": {\"8\": 72, \"0\": 13, \"2\": 2, \"7\": 33}, \"11\": {\"13\": 30, \"11\": 50, \"4\": 34, \"0\": 3, \"3\": 2, \"7\": 1}, \"1\": {\"1\": 120}, \"10\": {\"10\": 120}, \"15\": {\"15\": 110, \"5\": 8, \"7\": 1, \"8\": 1}, \"3\": {\"3\": 104, \"13\": 12, \"11\": 3, \"4\": 1}, \"7\": {\"8\": 23, \"2\": 13, \"0\": 21, \"7\": 58, \"14\": 3, \"4\": 1, \"15\": 1}, \"4\": {\"4\": 90, \"11\": 24, \"3\": 2, \"0\": 3, \"7\": 1}, \"14\": {\"14\": 63, \"2\": 47, \"5\": 2, \"7\": 4, \"0\": 3, \"8\": 1}, \"9\": {\"9\": 119, \"12\": 1}, \"12\": {\"12\": 120}, \"6\": {\"6\": 120}, \"2\": {\"2\": 71, \"0\": 9, \"14\": 29, \"7\": 10, \"5\": 1}, \"0\": {\"0\": 64, \"7\": 19, \"2\": 16, \"8\": 9, \"4\": 9, \"14\": 3}, \"13\": {\"11\": 16, \"13\": 90, \"4\": 4, \"3\": 10}}, \"14\": {\"15\": {\"15\": 120}, \"3\": {\"13\": 1, \"3\": 107, \"7\": 5, \"6\": 6, \"14\": 1}, \"6\": {\"6\": 72, \"13\": 37, \"3\": 7, \"2\": 1, \"7\": 3}, \"1\": {\"1\": 120}, \"8\": {\"10\": 27, \"0\": 9, \"8\": 82, \"9\": 2}, \"10\": {\"0\": 21, \"5\": 10, \"3\": 6, \"8\": 41, \"10\": 33, \"14\": 3, \"12\": 2, \"4\": 3, \"9\": 1}, \"9\": {\"9\": 114, \"0\": 2, \"8\": 1, \"12\": 3}, \"13\": {\"6\": 46, \"13\": 74}, \"12\": {\"12\": 40, \"9\": 16, \"8\": 14, \"15\": 26, \"3\": 8, \"6\": 2, \"10\": 6, \"4\": 1, \"11\": 4, \"0\": 1, \"1\": 2}, \"5\": {\"2\": 14, \"14\": 24, \"5\": 73, \"4\": 4, \"10\": 2, \"0\": 1, \"7\": 2}, \"0\": {\"4\": 12, \"0\": 80, \"10\": 16, \"9\": 2, \"8\": 10}, \"2\": {\"7\": 32, \"3\": 2, \"5\": 24, \"2\": 31, \"14\": 27, \"4\": 3, \"0\": 1}, \"11\": {\"11\": 120}, \"14\": {\"2\": 27, \"7\": 14, \"5\": 27, \"14\": 42, \"3\": 5, \"8\": 1, \"10\": 3, \"0\": 1}, \"7\": {\"7\": 92, \"2\": 15, \"3\": 3, \"13\": 1, \"6\": 3, \"14\": 6}, \"4\": {\"4\": 99, \"10\": 2, \"0\": 12, \"5\": 6, \"2\": 1}}, \"20\": {\"3\": {\"2\": 17, \"5\": 16, \"4\": 22, \"3\": 21, \"7\": 13, \"12\": 1, \"15\": 13, \"9\": 13, \"6\": 1, \"10\": 1, \"13\": 2}, \"15\": {\"15\": 36, \"13\": 6, \"5\": 4, \"4\": 17, \"2\": 8, \"9\": 23, \"3\": 7, \"7\": 3, \"12\": 7, \"1\": 8, \"10\": 1}, \"8\": {\"8\": 53, \"11\": 33, \"14\": 26, \"0\": 6, \"5\": 2}, \"4\": {\"10\": 2, \"15\": 15, \"6\": 2, \"4\": 22, \"7\": 20, \"9\": 19, \"13\": 5, \"2\": 10, \"5\": 7, \"3\": 15, \"1\": 1, \"12\": 2}, \"14\": {\"14\": 64, \"8\": 38, \"4\": 1, \"11\": 11, \"5\": 5, \"1\": 1}, \"0\": {\"0\": 90, \"1\": 7, \"11\": 17, \"8\": 3, \"14\": 2, \"5\": 1}, \"7\": {\"7\": 33, \"2\": 6, \"12\": 5, \"10\": 7, \"4\": 20, \"3\": 18, \"9\": 6, \"5\": 7, \"6\": 14, \"14\": 1, \"13\": 3}, \"6\": {\"6\": 95, \"7\": 13, \"4\": 2, \"10\": 10}, \"10\": {\"10\": 57, \"6\": 22, \"4\": 3, \"12\": 18, \"7\": 15, \"13\": 5}, \"5\": {\"2\": 23, \"9\": 14, \"5\": 26, \"15\": 9, \"3\": 14, \"1\": 17, \"4\": 7, \"7\": 5, \"14\": 2, \"13\": 2, \"8\": 1}, \"2\": {\"1\": 7, \"15\": 20, \"2\": 26, \"3\": 15, \"4\": 11, \"5\": 14, \"7\": 7, \"9\": 18, \"13\": 1, \"10\": 1}, \"12\": {\"12\": 52, \"10\": 8, \"13\": 53, \"3\": 2, \"9\": 2, \"7\": 1, \"4\": 1, \"15\": 1}, \"9\": {\"15\": 24, \"9\": 21, \"4\": 13, \"5\": 13, \"3\": 14, \"2\": 22, \"7\": 4, \"1\": 6, \"13\": 2, \"12\": 1}, \"1\": {\"9\": 7, \"0\": 3, \"1\": 77, \"5\": 20, \"2\": 7, \"15\": 5, \"4\": 1}, \"11\": {\"11\": 55, \"8\": 29, \"14\": 17, \"0\": 18, \"1\": 1}, \"13\": {\"13\": 57, \"4\": 4, \"10\": 3, \"12\": 47, \"9\": 3, \"7\": 1, \"3\": 3, \"15\": 2}}, \"44\": {\"5\": {\"5\": 80, \"14\": 13, \"15\": 16, \"8\": 10, \"4\": 1}, \"8\": {\"8\": 88, \"0\": 16, \"15\": 5, \"5\": 11}, \"11\": {\"11\": 120}, \"1\": {\"1\": 91, \"2\": 25, \"12\": 3, \"3\": 1}, \"10\": {\"10\": 105, \"9\": 2, \"6\": 6, \"7\": 7}, \"15\": {\"15\": 76, \"5\": 23, \"4\": 1, \"0\": 8, \"14\": 4, \"8\": 8}, \"3\": {\"12\": 16, \"3\": 103, \"1\": 1}, \"7\": {\"7\": 72, \"9\": 44, \"6\": 2, \"10\": 2}, \"4\": {\"4\": 92, \"14\": 27, \"9\": 1}, \"14\": {\"14\": 98, \"15\": 1, \"4\": 13, \"5\": 8}, \"9\": {\"9\": 82, \"7\": 33, \"6\": 4, \"4\": 1}, \"12\": {\"12\": 94, \"3\": 26}, \"6\": {\"6\": 104, \"13\": 10, \"7\": 3, \"10\": 1, \"9\": 2}, \"2\": {\"2\": 91, \"1\": 29}, \"0\": {\"0\": 92, \"15\": 3, \"8\": 25}, \"13\": {\"13\": 112, \"4\": 3, \"6\": 4, \"14\": 1}}, \"38\": {\"14\": {\"2\": 36, \"14\": 59, \"13\": 3, \"7\": 13, \"8\": 3, \"4\": 2, \"5\": 3, \"12\": 1}, \"0\": {\"0\": 102, \"7\": 16, \"8\": 1, \"9\": 1}, \"13\": {\"3\": 20, \"10\": 18, \"13\": 80, \"4\": 2}, \"7\": {\"7\": 92, \"0\": 21, \"8\": 3, \"14\": 4}, \"9\": {\"9\": 99, \"5\": 10, \"12\": 8, \"8\": 3}, \"3\": {\"13\": 28, \"4\": 15, \"3\": 49, \"11\": 3, \"10\": 25}, \"11\": {\"11\": 120}, \"6\": {\"6\": 106, \"15\": 13, \"1\": 1}, \"8\": {\"8\": 94, \"12\": 5, \"5\": 13, \"9\": 4, \"14\": 4}, \"4\": {\"3\": 11, \"4\": 91, \"10\": 13, \"7\": 4, \"13\": 1}, \"5\": {\"5\": 30, \"12\": 42, \"7\": 1, \"8\": 32, \"14\": 1, \"9\": 14}, \"10\": {\"4\": 24, \"3\": 28, \"10\": 61, \"13\": 7}, \"1\": {\"1\": 90, \"15\": 29, \"6\": 1}, \"2\": {\"2\": 112, \"14\": 8}, \"15\": {\"6\": 30, \"15\": 59, \"9\": 1, \"1\": 27, \"12\": 3}, \"12\": {\"12\": 54, \"8\": 7, \"5\": 43, \"9\": 16}}, \"26\": {\"13\": {\"13\": 82, \"7\": 15, \"9\": 16, \"8\": 4, \"2\": 2, \"3\": 1}, \"2\": {\"15\": 14, \"2\": 37, \"7\": 20, \"8\": 28, \"9\": 13, \"0\": 3, \"3\": 4, \"13\": 1}, \"8\": {\"9\": 23, \"2\": 34, \"8\": 46, \"13\": 2, \"10\": 4, \"7\": 5, \"15\": 5, \"0\": 1}, \"9\": {\"8\": 33, \"9\": 48, \"13\": 15, \"15\": 2, \"2\": 14, \"10\": 3, \"7\": 5}, \"12\": {\"12\": 118, \"9\": 2}, \"4\": {\"4\": 118, \"3\": 2}, \"3\": {\"3\": 86, \"7\": 26, \"4\": 3, \"2\": 3, \"9\": 1, \"13\": 1}, \"15\": {\"15\": 55, \"10\": 12, \"0\": 26, \"8\": 13, \"2\": 9, \"14\": 3, \"9\": 2}, \"14\": {\"10\": 22, \"1\": 8, \"14\": 50, \"15\": 8, \"0\": 13, \"5\": 6, \"6\": 13}, \"10\": {\"8\": 12, \"6\": 9, \"10\": 29, \"0\": 20, \"15\": 15, \"9\": 6, \"14\": 13, \"5\": 7, \"1\": 6, \"2\": 3}, \"7\": {\"2\": 13, \"7\": 51, \"3\": 30, \"9\": 8, \"13\": 15, \"8\": 3}, \"11\": {\"11\": 120}, \"6\": {\"6\": 61, \"5\": 40, \"1\": 10, \"14\": 7, \"10\": 2}, \"1\": {\"14\": 6, \"1\": 91, \"6\": 12, \"5\": 11}, \"5\": {\"14\": 9, \"1\": 19, \"6\": 42, \"5\": 44, \"10\": 4, \"11\": 1, \"15\": 1}, \"0\": {\"0\": 32, \"15\": 28, \"10\": 37, \"14\": 16, \"2\": 2, \"8\": 5}}}, \"per_domain_accuracy\": {\"8\": {\"accuracy\": 0.7161458333333334, \"source?\": true}, \"50\": {\"accuracy\": 0.8583333333333333, \"source?\": true}, \"32\": {\"accuracy\": 0.7682291666666666, \"source?\": true}, \"14\": {\"accuracy\": 0.6765625, \"source?\": false}, \"20\": {\"accuracy\": 0.4088541666666667, \"source?\": false}, \"44\": {\"accuracy\": 0.78125, \"source?\": false}, \"38\": {\"accuracy\": 0.6760416666666667, \"source?\": false}, \"26\": {\"accuracy\": 0.55625, \"source?\": false}}}, \"history\": {\"epoch_indices\": [1, 2, 3, 4, 5, 6, 7, 8, 9, 10, 11, 12], \"train_label_loss\": [1.2529457747552253, 1.302656320632712, 1.2717648012639142, 1.0231903021779614, 0.7278941922680326, 0.6386231870399425, 0.5681074767700561, 0.5235789023309145, 0.4821056432111783, 0.4556115778092938, 0.42069782570952574, 0.39802469544233954], \"source_val_label_loss\": [1.6745715590582686, 1.3228554324832724, 1.2920480945575816, 0.8473798591100361, 0.7449166413834524, 0.6742267302878141, 0.6322835527641705, 0.6169978419186923, 0.5992258847557395, 0.5837559968134565, 0.5940212214440251, 0.5896255428393244], \"target_val_label_loss\": [1.791310063439324, 1.8289394757203647, 1.9372957081955031, 1.3288549265905176, 1.2494888667445516, 1.211795219799968, 1.1698034330808453, 1.1241472681789886, 1.194912762867256, 1.1480593083733843, 1.2215697888242156, 1.1950961954383257], \"source_val_acc_label\": [0.46649305555555554, 0.47465277777777776, 0.46979166666666666, 0.6845486111111111, 0.7208333333333333, 0.75, 0.7626736111111111, 0.7809027777777777, 0.7762152777777778, 0.7833333333333333, 0.7824652777777777, 0.7901041666666667], \"target_val_acc_label\": [0.38229166666666664, 0.40697916666666667, 0.40760416666666666, 0.5380208333333333, 0.5704166666666667, 0.6, 0.6152083333333334, 0.6197916666666666, 0.6298958333333333, 0.6307291666666667, 0.6367708333333333, 0.6214583333333333]}, \"dataset_metrics\": {\"source\": {\"train\": {\"n_unique_x\": 33600, \"n_unique_y\": 16, \"n_batch/episode\": 420}, \"val\": {\"n_unique_x\": 7200, \"n_unique_y\": 16, \"n_batch/episode\": 180}, \"test\": {\"n_unique_x\": 7200, \"n_unique_y\": 16, \"n_batch/episode\": 180}}, \"target\": {\"train\": {\"n_unique_x\": 56000, \"n_unique_y\": 16, \"n_batch/episode\": 700}, \"val\": {\"n_unique_x\": 12000, \"n_unique_y\": 16, \"n_batch/episode\": 300}, \"test\": {\"n_unique_x\": 12000, \"n_unique_y\": 16, \"n_batch/episode\": 300}}}}'"
      ]
     },
     "execution_count": 20,
     "metadata": {},
     "output_type": "execute_result"
    }
   ],
   "source": [
    "json.dumps(experiment)"
   ]
  }
 ],
 "metadata": {
  "celltoolbar": "Tags",
  "kernelspec": {
   "display_name": "Python 3 (ipykernel)",
   "language": "python",
   "name": "python3"
  },
  "language_info": {
   "codemirror_mode": {
    "name": "ipython",
    "version": 3
   },
   "file_extension": ".py",
   "mimetype": "text/x-python",
   "name": "python",
   "nbconvert_exporter": "python",
   "pygments_lexer": "ipython3",
   "version": "3.8.10"
  },
  "papermill": {
   "default_parameters": {},
   "duration": 2255.616863,
   "end_time": "2022-03-02T08:49:20.058514",
   "environment_variables": {},
   "exception": null,
   "input_path": "/mnt/wd500GB/CSC500/csc500-main/csc500-notebooks/templates/ptn_template.ipynb",
   "output_path": "trial.ipynb",
   "parameters": {
    "parameters": {
     "BEST_MODEL_PATH": "./best_model.pth",
     "NUM_LOGS_PER_EPOCH": 10,
     "criteria_for_best": "target_loss",
     "dataset_seed": 1337,
     "device": "cuda",
     "domains_source": [
      8,
      32,
      50
     ],
     "domains_target": [
      14,
      20,
      26,
      38,
      44
     ],
     "episode_transforms_source": [],
     "episode_transforms_target": [],
     "experiment_name": "baseline_ptn_oracle.run2",
     "labels_source": [
      "3123D52",
      "3123D65",
      "3123D79",
      "3123D80",
      "3123D54",
      "3123D70",
      "3123D7B",
      "3123D89",
      "3123D58",
      "3123D76",
      "3123D7D",
      "3123EFE",
      "3123D64",
      "3123D78",
      "3123D7E",
      "3124E4A"
     ],
     "labels_target": [
      "3123D52",
      "3123D65",
      "3123D79",
      "3123D80",
      "3123D54",
      "3123D70",
      "3123D7B",
      "3123D89",
      "3123D58",
      "3123D76",
      "3123D7D",
      "3123EFE",
      "3123D64",
      "3123D78",
      "3123D7E",
      "3124E4A"
     ],
     "lr": 0.001,
     "n_epoch": 50,
     "n_query": 2,
     "n_shot": 3,
     "n_way": 16,
     "num_examples_per_domain_per_label_source": 1000,
     "num_examples_per_domain_per_label_target": 1000,
     "patience": 3,
     "pickle_name": "oracle.Run2_10kExamples_stratified_ds.2022A.pkl",
     "seed": 1337,
     "test_k_factor": 2,
     "torch_default_dtype": "torch.float64",
     "train_k_factor": 1,
     "val_k_factor": 2,
     "x_net": [
      {
       "class": "nnReshape",
       "kargs": {
        "shape": [
         -1,
         1,
         2,
         256
        ]
       }
      },
      {
       "class": "Conv2d",
       "kargs": {
        "bias": false,
        "in_channels": 1,
        "kernel_size": [
         1,
         7
        ],
        "out_channels": 256,
        "padding": [
         0,
         3
        ]
       }
      },
      {
       "class": "ReLU",
       "kargs": {
        "inplace": true
       }
      },
      {
       "class": "BatchNorm2d",
       "kargs": {
        "num_features": 256
       }
      },
      {
       "class": "Conv2d",
       "kargs": {
        "bias": true,
        "in_channels": 256,
        "kernel_size": [
         2,
         7
        ],
        "out_channels": 80,
        "padding": [
         0,
         3
        ]
       }
      },
      {
       "class": "ReLU",
       "kargs": {
        "inplace": true
       }
      },
      {
       "class": "BatchNorm2d",
       "kargs": {
        "num_features": 80
       }
      },
      {
       "class": "Flatten",
       "kargs": {}
      },
      {
       "class": "Linear",
       "kargs": {
        "in_features": 20480,
        "out_features": 256
       }
      },
      {
       "class": "ReLU",
       "kargs": {
        "inplace": true
       }
      },
      {
       "class": "BatchNorm1d",
       "kargs": {
        "num_features": 256
       }
      },
      {
       "class": "Linear",
       "kargs": {
        "in_features": 256,
        "out_features": 256
       }
      }
     ],
     "x_transforms_source": [],
     "x_transforms_target": []
    }
   },
   "start_time": "2022-03-02T08:11:44.441651",
   "version": "2.3.4"
  }
 },
 "nbformat": 4,
 "nbformat_minor": 5
}