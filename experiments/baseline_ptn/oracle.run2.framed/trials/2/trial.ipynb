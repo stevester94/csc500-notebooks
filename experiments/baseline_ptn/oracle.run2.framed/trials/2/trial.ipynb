{
 "cells": [
  {
   "cell_type": "markdown",
   "id": "9fea5f46",
   "metadata": {
    "papermill": {
     "duration": 0.014491,
     "end_time": "2022-03-02T10:44:55.101041",
     "exception": false,
     "start_time": "2022-03-02T10:44:55.086550",
     "status": "completed"
    },
    "tags": []
   },
   "source": [
    "# PTN Template\n",
    "This notebook serves as a template for single dataset PTN experiments  \n",
    "It can be run on its own by setting STANDALONE to True (do a find for \"STANDALONE\" to see where)  \n",
    "But it is intended to be executed as part of a *papermill.py script. See any of the   \n",
    "experimentes with a papermill script to get started with that workflow.  "
   ]
  },
  {
   "cell_type": "code",
   "execution_count": 1,
   "id": "0902182a",
   "metadata": {
    "execution": {
     "iopub.execute_input": "2022-03-02T10:44:55.135459Z",
     "iopub.status.busy": "2022-03-02T10:44:55.122838Z",
     "iopub.status.idle": "2022-03-02T10:44:55.876632Z",
     "shell.execute_reply": "2022-03-02T10:44:55.876161Z"
    },
    "papermill": {
     "duration": 0.765079,
     "end_time": "2022-03-02T10:44:55.876747",
     "exception": false,
     "start_time": "2022-03-02T10:44:55.111668",
     "status": "completed"
    },
    "tags": []
   },
   "outputs": [],
   "source": [
    "%load_ext autoreload\n",
    "%autoreload 2\n",
    "%matplotlib inline\n",
    "\n",
    "    \n",
    "import os, json, sys, time, random\n",
    "import numpy as np\n",
    "import torch\n",
    "from torch.optim import Adam\n",
    "from  easydict import EasyDict\n",
    "import matplotlib.pyplot as plt\n",
    "\n",
    "from steves_models.steves_ptn import Steves_Prototypical_Network\n",
    "\n",
    "from steves_utils.lazy_iterable_wrapper import Lazy_Iterable_Wrapper\n",
    "from steves_utils.iterable_aggregator import Iterable_Aggregator\n",
    "from steves_utils.ptn_train_eval_test_jig import  PTN_Train_Eval_Test_Jig\n",
    "from steves_utils.torch_sequential_builder import build_sequential\n",
    "from steves_utils.torch_utils import get_dataset_metrics, ptn_confusion_by_domain_over_dataloader\n",
    "from steves_utils.utils_v2 import (per_domain_accuracy_from_confusion, get_datasets_base_path)\n",
    "from steves_utils.PTN.utils import independent_accuracy_assesment\n",
    "\n",
    "from steves_utils.stratified_dataset.episodic_accessor import Episodic_Accessor_Factory\n",
    "\n",
    "from steves_utils.ptn_do_report import (\n",
    "    get_loss_curve,\n",
    "    get_results_table,\n",
    "    get_parameters_table,\n",
    "    get_domain_accuracies,\n",
    ")\n",
    "\n",
    "from steves_utils.transforms import get_chained_transform"
   ]
  },
  {
   "cell_type": "markdown",
   "id": "41c840b4",
   "metadata": {
    "papermill": {
     "duration": 0.008906,
     "end_time": "2022-03-02T10:44:55.898565",
     "exception": false,
     "start_time": "2022-03-02T10:44:55.889659",
     "status": "completed"
    },
    "tags": []
   },
   "source": [
    "# Required Parameters\n",
    "These are allowed parameters, not defaults\n",
    "Each of these values need to be present in the injected parameters (the notebook will raise an exception if they are not present)\n",
    "\n",
    "Papermill uses the cell tag \"parameters\" to inject the real parameters below this cell.\n",
    "Enable tags to see what I mean"
   ]
  },
  {
   "cell_type": "code",
   "execution_count": 2,
   "id": "fd44eb83",
   "metadata": {
    "execution": {
     "iopub.execute_input": "2022-03-02T10:44:55.919707Z",
     "iopub.status.busy": "2022-03-02T10:44:55.919429Z",
     "iopub.status.idle": "2022-03-02T10:44:55.932612Z",
     "shell.execute_reply": "2022-03-02T10:44:55.932169Z"
    },
    "papermill": {
     "duration": 0.025202,
     "end_time": "2022-03-02T10:44:55.932703",
     "exception": false,
     "start_time": "2022-03-02T10:44:55.907501",
     "status": "completed"
    },
    "tags": []
   },
   "outputs": [],
   "source": [
    "required_parameters = {\n",
    "    \"experiment_name\",\n",
    "    \"lr\",\n",
    "    \"device\",\n",
    "    \"seed\",\n",
    "    \"dataset_seed\",\n",
    "    \"labels_source\",\n",
    "    \"labels_target\",\n",
    "    \"domains_source\",\n",
    "    \"domains_target\",\n",
    "    \"num_examples_per_domain_per_label_source\",\n",
    "    \"num_examples_per_domain_per_label_target\",\n",
    "    \"n_shot\",\n",
    "    \"n_way\",\n",
    "    \"n_query\",\n",
    "    \"train_k_factor\",\n",
    "    \"val_k_factor\",\n",
    "    \"test_k_factor\",\n",
    "    \"n_epoch\",\n",
    "    \"patience\",\n",
    "    \"criteria_for_best\",\n",
    "    \"x_transforms_source\",\n",
    "    \"x_transforms_target\",\n",
    "    \"episode_transforms_source\",\n",
    "    \"episode_transforms_target\",\n",
    "    \"pickle_name\",\n",
    "    \"x_net\",\n",
    "    \"NUM_LOGS_PER_EPOCH\",\n",
    "    \"BEST_MODEL_PATH\",\n",
    "    \"torch_default_dtype\"\n",
    "}"
   ]
  },
  {
   "cell_type": "code",
   "execution_count": 3,
   "id": "fa3f0049",
   "metadata": {
    "execution": {
     "iopub.execute_input": "2022-03-02T10:44:55.964389Z",
     "iopub.status.busy": "2022-03-02T10:44:55.964112Z",
     "iopub.status.idle": "2022-03-02T10:44:55.975787Z",
     "shell.execute_reply": "2022-03-02T10:44:55.975322Z"
    },
    "papermill": {
     "duration": 0.029379,
     "end_time": "2022-03-02T10:44:55.975879",
     "exception": false,
     "start_time": "2022-03-02T10:44:55.946500",
     "status": "completed"
    },
    "tags": [
     "parameters"
    ]
   },
   "outputs": [],
   "source": [
    "\n",
    "\n",
    "standalone_parameters = {}\n",
    "standalone_parameters[\"experiment_name\"] = \"STANDALONE PTN\"\n",
    "standalone_parameters[\"lr\"] = 0.0001\n",
    "standalone_parameters[\"device\"] = \"cuda\"\n",
    "\n",
    "standalone_parameters[\"seed\"] = 1337\n",
    "standalone_parameters[\"dataset_seed\"] = 1337\n",
    "\n",
    "\n",
    "standalone_parameters[\"num_examples_per_domain_per_label_source\"]=100\n",
    "standalone_parameters[\"num_examples_per_domain_per_label_target\"]=100\n",
    "\n",
    "standalone_parameters[\"n_shot\"] = 3\n",
    "standalone_parameters[\"n_query\"]  = 2\n",
    "standalone_parameters[\"train_k_factor\"] = 1\n",
    "standalone_parameters[\"val_k_factor\"] = 2\n",
    "standalone_parameters[\"test_k_factor\"] = 2\n",
    "\n",
    "\n",
    "standalone_parameters[\"n_epoch\"] = 100\n",
    "\n",
    "standalone_parameters[\"patience\"] = 10\n",
    "standalone_parameters[\"criteria_for_best\"] = \"target_accuracy\"\n",
    "\n",
    "standalone_parameters[\"x_transforms_source\"] = [\"unit_power\"]\n",
    "standalone_parameters[\"x_transforms_target\"] = [\"unit_power\"]\n",
    "standalone_parameters[\"episode_transforms_source\"] = []\n",
    "standalone_parameters[\"episode_transforms_target\"] = []\n",
    "\n",
    "standalone_parameters[\"torch_default_dtype\"] = \"torch.float32\" \n",
    "\n",
    "\n",
    "\n",
    "standalone_parameters[\"x_net\"] =     [\n",
    "    {\"class\": \"nnReshape\", \"kargs\": {\"shape\":[-1, 1, 2, 256]}},\n",
    "    {\"class\": \"Conv2d\", \"kargs\": { \"in_channels\":1, \"out_channels\":256, \"kernel_size\":(1,7), \"bias\":False, \"padding\":(0,3), },},\n",
    "    {\"class\": \"ReLU\", \"kargs\": {\"inplace\": True}},\n",
    "    {\"class\": \"BatchNorm2d\", \"kargs\": {\"num_features\":256}},\n",
    "\n",
    "    {\"class\": \"Conv2d\", \"kargs\": { \"in_channels\":256, \"out_channels\":80, \"kernel_size\":(2,7), \"bias\":True, \"padding\":(0,3), },},\n",
    "    {\"class\": \"ReLU\", \"kargs\": {\"inplace\": True}},\n",
    "    {\"class\": \"BatchNorm2d\", \"kargs\": {\"num_features\":80}},\n",
    "    {\"class\": \"Flatten\", \"kargs\": {}},\n",
    "\n",
    "    {\"class\": \"Linear\", \"kargs\": {\"in_features\": 80*256, \"out_features\": 256}}, # 80 units per IQ pair\n",
    "    {\"class\": \"ReLU\", \"kargs\": {\"inplace\": True}},\n",
    "    {\"class\": \"BatchNorm1d\", \"kargs\": {\"num_features\":256}},\n",
    "\n",
    "    {\"class\": \"Linear\", \"kargs\": {\"in_features\": 256, \"out_features\": 256}},\n",
    "]\n",
    "\n",
    "# Parameters relevant to results\n",
    "# These parameters will basically never need to change\n",
    "standalone_parameters[\"NUM_LOGS_PER_EPOCH\"] = 10\n",
    "standalone_parameters[\"BEST_MODEL_PATH\"] = \"./best_model.pth\"\n",
    "\n",
    "# uncomment for CORES dataset\n",
    "from steves_utils.CORES.utils import (\n",
    "    ALL_NODES,\n",
    "    ALL_NODES_MINIMUM_1000_EXAMPLES,\n",
    "    ALL_DAYS\n",
    ")\n",
    "\n",
    "\n",
    "standalone_parameters[\"labels_source\"] = ALL_NODES\n",
    "standalone_parameters[\"labels_target\"] = ALL_NODES\n",
    "\n",
    "standalone_parameters[\"domains_source\"] = [1]\n",
    "standalone_parameters[\"domains_target\"] = [2,3,4,5]\n",
    "\n",
    "standalone_parameters[\"pickle_name\"] = \"cores.stratified_ds.2022A.pkl\"\n",
    "\n",
    "\n",
    "# Uncomment these for ORACLE dataset\n",
    "# from steves_utils.ORACLE.utils_v2 import (\n",
    "#     ALL_DISTANCES_FEET,\n",
    "#     ALL_RUNS,\n",
    "#     ALL_SERIAL_NUMBERS,\n",
    "# )\n",
    "# standalone_parameters[\"labels_source\"] = ALL_SERIAL_NUMBERS\n",
    "# standalone_parameters[\"labels_target\"] = ALL_SERIAL_NUMBERS\n",
    "# standalone_parameters[\"domains_source\"] = [8,20, 38,50]\n",
    "# standalone_parameters[\"domains_target\"] = [14, 26, 32, 44, 56]\n",
    "# standalone_parameters[\"pickle_name\"] = \"oracle.frame_indexed.stratified_ds.2022A.pkl\"\n",
    "# standalone_parameters[\"num_examples_per_domain_per_label_source\"]=1000\n",
    "# standalone_parameters[\"num_examples_per_domain_per_label_target\"]=1000\n",
    "\n",
    "# Uncomment these for Metahan dataset\n",
    "# standalone_parameters[\"labels_source\"] = list(range(19))\n",
    "# standalone_parameters[\"labels_target\"] = list(range(19))\n",
    "# standalone_parameters[\"domains_source\"] = [0]\n",
    "# standalone_parameters[\"domains_target\"] = [1]\n",
    "# standalone_parameters[\"pickle_name\"] = \"metehan.stratified_ds.2022A.pkl\"\n",
    "# standalone_parameters[\"n_way\"]  = len(standalone_parameters[\"labels_source\"])\n",
    "# standalone_parameters[\"num_examples_per_domain_per_label_source\"]=200\n",
    "# standalone_parameters[\"num_examples_per_domain_per_label_target\"]=100\n",
    "\n",
    "\n",
    "standalone_parameters[\"n_way\"]  = len(standalone_parameters[\"labels_source\"])"
   ]
  },
  {
   "cell_type": "code",
   "execution_count": 4,
   "id": "5348f323",
   "metadata": {
    "execution": {
     "iopub.execute_input": "2022-03-02T10:44:56.002983Z",
     "iopub.status.busy": "2022-03-02T10:44:56.002701Z",
     "iopub.status.idle": "2022-03-02T10:44:56.011967Z",
     "shell.execute_reply": "2022-03-02T10:44:56.011609Z"
    },
    "papermill": {
     "duration": 0.023038,
     "end_time": "2022-03-02T10:44:56.012037",
     "exception": false,
     "start_time": "2022-03-02T10:44:55.988999",
     "status": "completed"
    },
    "tags": [
     "injected-parameters"
    ]
   },
   "outputs": [],
   "source": [
    "# Parameters\n",
    "parameters = {\n",
    "    \"experiment_name\": \"baseline_ptn_oracle.run2.framed\",\n",
    "    \"lr\": 0.001,\n",
    "    \"device\": \"cuda\",\n",
    "    \"seed\": 1337,\n",
    "    \"dataset_seed\": 1337,\n",
    "    \"labels_source\": [\n",
    "        \"3123D52\",\n",
    "        \"3123D65\",\n",
    "        \"3123D79\",\n",
    "        \"3123D80\",\n",
    "        \"3123D54\",\n",
    "        \"3123D70\",\n",
    "        \"3123D7B\",\n",
    "        \"3123D89\",\n",
    "        \"3123D58\",\n",
    "        \"3123D76\",\n",
    "        \"3123D7D\",\n",
    "        \"3123EFE\",\n",
    "        \"3123D64\",\n",
    "        \"3123D78\",\n",
    "        \"3123D7E\",\n",
    "        \"3124E4A\",\n",
    "    ],\n",
    "    \"labels_target\": [\n",
    "        \"3123D52\",\n",
    "        \"3123D65\",\n",
    "        \"3123D79\",\n",
    "        \"3123D80\",\n",
    "        \"3123D54\",\n",
    "        \"3123D70\",\n",
    "        \"3123D7B\",\n",
    "        \"3123D89\",\n",
    "        \"3123D58\",\n",
    "        \"3123D76\",\n",
    "        \"3123D7D\",\n",
    "        \"3123EFE\",\n",
    "        \"3123D64\",\n",
    "        \"3123D78\",\n",
    "        \"3123D7E\",\n",
    "        \"3124E4A\",\n",
    "    ],\n",
    "    \"x_transforms_source\": [],\n",
    "    \"x_transforms_target\": [],\n",
    "    \"episode_transforms_source\": [],\n",
    "    \"episode_transforms_target\": [],\n",
    "    \"num_examples_per_domain_per_label_source\": 1000,\n",
    "    \"num_examples_per_domain_per_label_target\": 1000,\n",
    "    \"n_shot\": 3,\n",
    "    \"n_way\": 16,\n",
    "    \"n_query\": 2,\n",
    "    \"train_k_factor\": 1,\n",
    "    \"val_k_factor\": 2,\n",
    "    \"test_k_factor\": 2,\n",
    "    \"torch_default_dtype\": \"torch.float64\",\n",
    "    \"n_epoch\": 50,\n",
    "    \"patience\": 3,\n",
    "    \"criteria_for_best\": \"target_loss\",\n",
    "    \"x_net\": [\n",
    "        {\"class\": \"nnReshape\", \"kargs\": {\"shape\": [-1, 1, 2, 256]}},\n",
    "        {\n",
    "            \"class\": \"Conv2d\",\n",
    "            \"kargs\": {\n",
    "                \"in_channels\": 1,\n",
    "                \"out_channels\": 256,\n",
    "                \"kernel_size\": [1, 7],\n",
    "                \"bias\": False,\n",
    "                \"padding\": [0, 3],\n",
    "            },\n",
    "        },\n",
    "        {\"class\": \"ReLU\", \"kargs\": {\"inplace\": True}},\n",
    "        {\"class\": \"BatchNorm2d\", \"kargs\": {\"num_features\": 256}},\n",
    "        {\n",
    "            \"class\": \"Conv2d\",\n",
    "            \"kargs\": {\n",
    "                \"in_channels\": 256,\n",
    "                \"out_channels\": 80,\n",
    "                \"kernel_size\": [2, 7],\n",
    "                \"bias\": True,\n",
    "                \"padding\": [0, 3],\n",
    "            },\n",
    "        },\n",
    "        {\"class\": \"ReLU\", \"kargs\": {\"inplace\": True}},\n",
    "        {\"class\": \"BatchNorm2d\", \"kargs\": {\"num_features\": 80}},\n",
    "        {\"class\": \"Flatten\", \"kargs\": {}},\n",
    "        {\"class\": \"Linear\", \"kargs\": {\"in_features\": 20480, \"out_features\": 256}},\n",
    "        {\"class\": \"ReLU\", \"kargs\": {\"inplace\": True}},\n",
    "        {\"class\": \"BatchNorm1d\", \"kargs\": {\"num_features\": 256}},\n",
    "        {\"class\": \"Linear\", \"kargs\": {\"in_features\": 256, \"out_features\": 256}},\n",
    "    ],\n",
    "    \"NUM_LOGS_PER_EPOCH\": 10,\n",
    "    \"BEST_MODEL_PATH\": \"./best_model.pth\",\n",
    "    \"pickle_name\": \"oracle.Run2_framed_1300Examples_stratified_ds.2022A.pkl\",\n",
    "    \"domains_source\": [8, 32, 50],\n",
    "    \"domains_target\": [14, 20, 26, 38, 44],\n",
    "}\n"
   ]
  },
  {
   "cell_type": "code",
   "execution_count": 5,
   "id": "8fa1cc33",
   "metadata": {
    "execution": {
     "iopub.execute_input": "2022-03-02T10:44:56.038480Z",
     "iopub.status.busy": "2022-03-02T10:44:56.037905Z",
     "iopub.status.idle": "2022-03-02T10:44:56.046650Z",
     "shell.execute_reply": "2022-03-02T10:44:56.046406Z"
    },
    "papermill": {
     "duration": 0.021317,
     "end_time": "2022-03-02T10:44:56.046699",
     "exception": false,
     "start_time": "2022-03-02T10:44:56.025382",
     "status": "completed"
    },
    "tags": []
   },
   "outputs": [],
   "source": [
    "# Set this to True if you want to run this template directly\n",
    "STANDALONE = False\n",
    "if STANDALONE:\n",
    "    print(\"parameters not injected, running with standalone_parameters\")\n",
    "    parameters = standalone_parameters\n",
    "\n",
    "if not 'parameters' in locals() and not 'parameters' in globals():\n",
    "    raise Exception(\"Parameter injection failed\")\n",
    "\n",
    "#Use an easy dict for all the parameters\n",
    "p = EasyDict(parameters)\n",
    "\n",
    "supplied_keys = set(p.keys())\n",
    "\n",
    "if  supplied_keys != required_parameters:\n",
    "    print(\"Parameters are incorrect\")\n",
    "    if len(supplied_keys - required_parameters)>0: print(\"Shouldn't have:\", str(supplied_keys - required_parameters))\n",
    "    if len(required_parameters - supplied_keys)>0: print(\"Need to have:\", str(required_parameters - supplied_keys))\n",
    "    raise RuntimeError(\"Parameters are incorrect\")\n",
    "\n"
   ]
  },
  {
   "cell_type": "code",
   "execution_count": 6,
   "id": "3a028d58",
   "metadata": {
    "execution": {
     "iopub.execute_input": "2022-03-02T10:44:56.072224Z",
     "iopub.status.busy": "2022-03-02T10:44:56.071961Z",
     "iopub.status.idle": "2022-03-02T10:44:56.083808Z",
     "shell.execute_reply": "2022-03-02T10:44:56.083449Z"
    },
    "papermill": {
     "duration": 0.023296,
     "end_time": "2022-03-02T10:44:56.083883",
     "exception": false,
     "start_time": "2022-03-02T10:44:56.060587",
     "status": "completed"
    },
    "tags": []
   },
   "outputs": [],
   "source": [
    "###################################\n",
    "# Set the RNGs and make it all deterministic\n",
    "###################################\n",
    "np.random.seed(p.seed)\n",
    "random.seed(p.seed)\n",
    "torch.manual_seed(p.seed)\n",
    "\n",
    "torch.use_deterministic_algorithms(True) "
   ]
  },
  {
   "cell_type": "code",
   "execution_count": 7,
   "id": "b691acf6",
   "metadata": {
    "execution": {
     "iopub.execute_input": "2022-03-02T10:44:56.109750Z",
     "iopub.status.busy": "2022-03-02T10:44:56.109432Z",
     "iopub.status.idle": "2022-03-02T10:44:56.121988Z",
     "shell.execute_reply": "2022-03-02T10:44:56.121544Z"
    },
    "papermill": {
     "duration": 0.024896,
     "end_time": "2022-03-02T10:44:56.122078",
     "exception": false,
     "start_time": "2022-03-02T10:44:56.097182",
     "status": "completed"
    },
    "tags": []
   },
   "outputs": [],
   "source": [
    "###########################################\n",
    "# The stratified datasets honor this\n",
    "###########################################\n",
    "torch.set_default_dtype(eval(p.torch_default_dtype))"
   ]
  },
  {
   "cell_type": "code",
   "execution_count": 8,
   "id": "b5fba671",
   "metadata": {
    "execution": {
     "iopub.execute_input": "2022-03-02T10:44:56.148377Z",
     "iopub.status.busy": "2022-03-02T10:44:56.148131Z",
     "iopub.status.idle": "2022-03-02T10:44:56.204585Z",
     "shell.execute_reply": "2022-03-02T10:44:56.204166Z"
    },
    "papermill": {
     "duration": 0.068487,
     "end_time": "2022-03-02T10:44:56.204688",
     "exception": false,
     "start_time": "2022-03-02T10:44:56.136201",
     "status": "completed"
    },
    "tags": []
   },
   "outputs": [],
   "source": [
    "###################################\n",
    "# Build the network(s)\n",
    "# Note: It's critical to do this AFTER setting the RNG\n",
    "# (This is due to the randomized initial weights)\n",
    "###################################\n",
    "x_net = build_sequential(p.x_net)"
   ]
  },
  {
   "cell_type": "code",
   "execution_count": 9,
   "id": "5d7e61cc",
   "metadata": {
    "execution": {
     "iopub.execute_input": "2022-03-02T10:44:56.230190Z",
     "iopub.status.busy": "2022-03-02T10:44:56.229945Z",
     "iopub.status.idle": "2022-03-02T10:44:56.243746Z",
     "shell.execute_reply": "2022-03-02T10:44:56.243283Z"
    },
    "papermill": {
     "duration": 0.025499,
     "end_time": "2022-03-02T10:44:56.243836",
     "exception": false,
     "start_time": "2022-03-02T10:44:56.218337",
     "status": "completed"
    },
    "tags": []
   },
   "outputs": [],
   "source": [
    "start_time_secs = time.time()"
   ]
  },
  {
   "cell_type": "code",
   "execution_count": 10,
   "id": "fd5442bc",
   "metadata": {
    "execution": {
     "iopub.execute_input": "2022-03-02T10:44:56.276436Z",
     "iopub.status.busy": "2022-03-02T10:44:56.275812Z",
     "iopub.status.idle": "2022-03-02T10:44:57.006638Z",
     "shell.execute_reply": "2022-03-02T10:44:57.006220Z"
    },
    "papermill": {
     "duration": 0.74773,
     "end_time": "2022-03-02T10:44:57.006737",
     "exception": false,
     "start_time": "2022-03-02T10:44:56.259007",
     "status": "completed"
    },
    "tags": []
   },
   "outputs": [],
   "source": [
    "###################################\n",
    "# Build the dataset\n",
    "###################################\n",
    "\n",
    "if p.x_transforms_source == []: x_transform_source = None\n",
    "else: x_transform_source = get_chained_transform(p.x_transforms_source) \n",
    "\n",
    "if p.x_transforms_target == []: x_transform_target = None\n",
    "else: x_transform_target = get_chained_transform(p.x_transforms_target)\n",
    "\n",
    "if p.episode_transforms_source == []: episode_transform_source = None\n",
    "else: raise Exception(\"episode_transform_source not implemented\")\n",
    "\n",
    "if p.episode_transforms_target == []: episode_transform_target = None\n",
    "else: raise Exception(\"episode_transform_target not implemented\")\n",
    "\n",
    "\n",
    "eaf_source = Episodic_Accessor_Factory(\n",
    "    labels=p.labels_source,\n",
    "    domains=p.domains_source,\n",
    "    num_examples_per_domain_per_label=p.num_examples_per_domain_per_label_source,\n",
    "    iterator_seed=p.seed,\n",
    "    dataset_seed=p.dataset_seed,\n",
    "    n_shot=p.n_shot,\n",
    "    n_way=p.n_way,\n",
    "    n_query=p.n_query,\n",
    "    train_val_test_k_factors=(p.train_k_factor,p.val_k_factor,p.test_k_factor),\n",
    "    pickle_path=os.path.join(get_datasets_base_path(), p.pickle_name),\n",
    "    x_transform_func=x_transform_source,\n",
    "    example_transform_func=episode_transform_source,\n",
    "    \n",
    ")\n",
    "train_original_source, val_original_source, test_original_source = eaf_source.get_train(), eaf_source.get_val(), eaf_source.get_test()\n",
    "\n",
    "\n",
    "eaf_target = Episodic_Accessor_Factory(\n",
    "    labels=p.labels_target,\n",
    "    domains=p.domains_target,\n",
    "    num_examples_per_domain_per_label=p.num_examples_per_domain_per_label_target,\n",
    "    iterator_seed=p.seed,\n",
    "    dataset_seed=p.dataset_seed,\n",
    "    n_shot=p.n_shot,\n",
    "    n_way=p.n_way,\n",
    "    n_query=p.n_query,\n",
    "    train_val_test_k_factors=(p.train_k_factor,p.val_k_factor,p.test_k_factor),\n",
    "    pickle_path=os.path.join(get_datasets_base_path(), p.pickle_name),\n",
    "    x_transform_func=x_transform_target,\n",
    "    example_transform_func=episode_transform_target,\n",
    ")\n",
    "train_original_target, val_original_target, test_original_target = eaf_target.get_train(), eaf_target.get_val(), eaf_target.get_test()\n",
    "\n",
    "\n",
    "transform_lambda = lambda ex: ex[1] # Original is (<domain>, <episode>) so we strip down to episode only\n",
    "\n",
    "train_processed_source = Lazy_Iterable_Wrapper(train_original_source, transform_lambda)\n",
    "val_processed_source   = Lazy_Iterable_Wrapper(val_original_source, transform_lambda)\n",
    "test_processed_source  = Lazy_Iterable_Wrapper(test_original_source, transform_lambda)\n",
    "\n",
    "train_processed_target = Lazy_Iterable_Wrapper(train_original_target, transform_lambda)\n",
    "val_processed_target   = Lazy_Iterable_Wrapper(val_original_target, transform_lambda)\n",
    "test_processed_target  = Lazy_Iterable_Wrapper(test_original_target, transform_lambda)\n",
    "\n",
    "datasets = EasyDict({\n",
    "    \"source\": {\n",
    "        \"original\": {\"train\":train_original_source, \"val\":val_original_source, \"test\":test_original_source},\n",
    "        \"processed\": {\"train\":train_processed_source, \"val\":val_processed_source, \"test\":test_processed_source}\n",
    "    },\n",
    "    \"target\": {\n",
    "        \"original\": {\"train\":train_original_target, \"val\":val_original_target, \"test\":test_original_target},\n",
    "        \"processed\": {\"train\":train_processed_target, \"val\":val_processed_target, \"test\":test_processed_target}\n",
    "    },\n",
    "})"
   ]
  },
  {
   "cell_type": "code",
   "execution_count": 11,
   "id": "296189d9",
   "metadata": {
    "execution": {
     "iopub.execute_input": "2022-03-02T10:44:57.033582Z",
     "iopub.status.busy": "2022-03-02T10:44:57.033290Z",
     "iopub.status.idle": "2022-03-02T10:44:59.551454Z",
     "shell.execute_reply": "2022-03-02T10:44:59.552116Z"
    },
    "papermill": {
     "duration": 2.531251,
     "end_time": "2022-03-02T10:44:59.552333",
     "exception": false,
     "start_time": "2022-03-02T10:44:57.021082",
     "status": "completed"
    },
    "tags": []
   },
   "outputs": [
    {
     "name": "stdout",
     "output_type": "stream",
     "text": [
      "Visually inspect these to see if they line up with expected values given the transforms\n",
      "x_transforms_source []\n",
      "x_transforms_target []\n",
      "Average magnitude, source: 0.004715466816140102\n",
      "Average power, source: 2.7506653946876953e-05\n"
     ]
    },
    {
     "name": "stdout",
     "output_type": "stream",
     "text": [
      "Average magnitude, target: 0.0029831880391101096\n",
      "Average power, target: 1.1392429312757723e-05\n"
     ]
    }
   ],
   "source": [
    "# Some quick unit tests on the data\n",
    "from steves_utils.transforms import get_average_power, get_average_magnitude\n",
    "\n",
    "q_x, q_y, s_x, s_y, truth = next(iter(train_processed_source))\n",
    "\n",
    "assert q_x.dtype == eval(p.torch_default_dtype)\n",
    "assert s_x.dtype == eval(p.torch_default_dtype)\n",
    "\n",
    "print(\"Visually inspect these to see if they line up with expected values given the transforms\")\n",
    "print('x_transforms_source', p.x_transforms_source)\n",
    "print('x_transforms_target', p.x_transforms_target)\n",
    "print(\"Average magnitude, source:\", get_average_magnitude(q_x[0].numpy()))\n",
    "print(\"Average power, source:\", get_average_power(q_x[0].numpy()))\n",
    "\n",
    "q_x, q_y, s_x, s_y, truth = next(iter(train_processed_target))\n",
    "print(\"Average magnitude, target:\", get_average_magnitude(q_x[0].numpy()))\n",
    "print(\"Average power, target:\", get_average_power(q_x[0].numpy()))\n"
   ]
  },
  {
   "cell_type": "code",
   "execution_count": 12,
   "id": "bbdacba1",
   "metadata": {
    "execution": {
     "iopub.execute_input": "2022-03-02T10:44:59.580561Z",
     "iopub.status.busy": "2022-03-02T10:44:59.579907Z",
     "iopub.status.idle": "2022-03-02T10:44:59.739561Z",
     "shell.execute_reply": "2022-03-02T10:44:59.739092Z"
    },
    "papermill": {
     "duration": 0.172425,
     "end_time": "2022-03-02T10:44:59.739668",
     "exception": false,
     "start_time": "2022-03-02T10:44:59.567243",
     "status": "completed"
    },
    "tags": []
   },
   "outputs": [
    {
     "name": "stdout",
     "output_type": "stream",
     "text": [
      "(2, 256)\n"
     ]
    }
   ],
   "source": [
    "###################################\n",
    "# Build the model\n",
    "###################################\n",
    "model = Steves_Prototypical_Network(x_net, device=p.device, x_shape=(2,256))\n",
    "optimizer = Adam(params=model.parameters(), lr=p.lr)"
   ]
  },
  {
   "cell_type": "code",
   "execution_count": 13,
   "id": "22b39ac5",
   "metadata": {
    "execution": {
     "iopub.execute_input": "2022-03-02T10:44:59.768074Z",
     "iopub.status.busy": "2022-03-02T10:44:59.767812Z",
     "iopub.status.idle": "2022-03-02T11:02:00.099713Z",
     "shell.execute_reply": "2022-03-02T11:02:00.099476Z"
    },
    "papermill": {
     "duration": 1020.345764,
     "end_time": "2022-03-02T11:02:00.099773",
     "exception": false,
     "start_time": "2022-03-02T10:44:59.754009",
     "status": "completed"
    },
    "tags": []
   },
   "outputs": [
    {
     "name": "stdout",
     "output_type": "stream",
     "text": [
      "epoch: 1, [batch: 1 / 420], examples_per_second: 9.2607, train_label_loss: 2.3765, \n"
     ]
    },
    {
     "name": "stdout",
     "output_type": "stream",
     "text": [
      "epoch: 1, [batch: 42 / 420], examples_per_second: 267.5045, train_label_loss: 1.0992, \n"
     ]
    },
    {
     "name": "stdout",
     "output_type": "stream",
     "text": [
      "epoch: 1, [batch: 84 / 420], examples_per_second: 273.3670, train_label_loss: 0.9385, \n"
     ]
    },
    {
     "name": "stdout",
     "output_type": "stream",
     "text": [
      "epoch: 1, [batch: 126 / 420], examples_per_second: 280.3076, train_label_loss: 1.0152, \n"
     ]
    },
    {
     "name": "stdout",
     "output_type": "stream",
     "text": [
      "epoch: 1, [batch: 168 / 420], examples_per_second: 289.3395, train_label_loss: 0.7760, \n"
     ]
    },
    {
     "name": "stdout",
     "output_type": "stream",
     "text": [
      "epoch: 1, [batch: 210 / 420], examples_per_second: 295.7572, train_label_loss: 1.0316, \n"
     ]
    },
    {
     "name": "stdout",
     "output_type": "stream",
     "text": [
      "epoch: 1, [batch: 252 / 420], examples_per_second: 306.5757, train_label_loss: 0.7790, \n"
     ]
    },
    {
     "name": "stdout",
     "output_type": "stream",
     "text": [
      "epoch: 1, [batch: 294 / 420], examples_per_second: 312.5769, train_label_loss: 0.9283, \n"
     ]
    },
    {
     "name": "stdout",
     "output_type": "stream",
     "text": [
      "epoch: 1, [batch: 336 / 420], examples_per_second: 319.1545, train_label_loss: 0.9049, \n"
     ]
    },
    {
     "name": "stdout",
     "output_type": "stream",
     "text": [
      "epoch: 1, [batch: 378 / 420], examples_per_second: 329.2291, train_label_loss: 0.7885, \n"
     ]
    },
    {
     "name": "stdout",
     "output_type": "stream",
     "text": [
      "=============================================================\n",
      "epoch: 1, source_val_acc_label: 0.5366, target_val_acc_label: 0.4636, source_val_label_loss: 1.1858, target_val_label_loss: 1.3506, \n",
      "=============================================================\n"
     ]
    },
    {
     "name": "stdout",
     "output_type": "stream",
     "text": [
      "New best\n"
     ]
    },
    {
     "name": "stdout",
     "output_type": "stream",
     "text": [
      "epoch: 2, [batch: 1 / 420], examples_per_second: 2.3611, train_label_loss: 1.2386, \n"
     ]
    },
    {
     "name": "stdout",
     "output_type": "stream",
     "text": [
      "epoch: 2, [batch: 42 / 420], examples_per_second: 265.9974, train_label_loss: 1.0523, \n"
     ]
    },
    {
     "name": "stdout",
     "output_type": "stream",
     "text": [
      "epoch: 2, [batch: 84 / 420], examples_per_second: 273.1535, train_label_loss: 1.6343, \n"
     ]
    },
    {
     "name": "stdout",
     "output_type": "stream",
     "text": [
      "epoch: 2, [batch: 126 / 420], examples_per_second: 280.9649, train_label_loss: 0.7700, \n"
     ]
    },
    {
     "name": "stdout",
     "output_type": "stream",
     "text": [
      "epoch: 2, [batch: 168 / 420], examples_per_second: 287.8642, train_label_loss: 0.9022, \n"
     ]
    },
    {
     "name": "stdout",
     "output_type": "stream",
     "text": [
      "epoch: 2, [batch: 210 / 420], examples_per_second: 296.2142, train_label_loss: 1.1685, \n"
     ]
    },
    {
     "name": "stdout",
     "output_type": "stream",
     "text": [
      "epoch: 2, [batch: 252 / 420], examples_per_second: 304.0285, train_label_loss: 0.6125, \n"
     ]
    },
    {
     "name": "stdout",
     "output_type": "stream",
     "text": [
      "epoch: 2, [batch: 294 / 420], examples_per_second: 312.1377, train_label_loss: 0.8463, \n"
     ]
    },
    {
     "name": "stdout",
     "output_type": "stream",
     "text": [
      "epoch: 2, [batch: 336 / 420], examples_per_second: 321.9464, train_label_loss: 0.8678, \n"
     ]
    },
    {
     "name": "stdout",
     "output_type": "stream",
     "text": [
      "epoch: 2, [batch: 378 / 420], examples_per_second: 331.5262, train_label_loss: 0.8457, \n"
     ]
    },
    {
     "name": "stdout",
     "output_type": "stream",
     "text": [
      "=============================================================\n",
      "epoch: 2, source_val_acc_label: 0.6476, target_val_acc_label: 0.4790, source_val_label_loss: 0.8272, target_val_label_loss: 1.2809, \n",
      "=============================================================\n"
     ]
    },
    {
     "name": "stdout",
     "output_type": "stream",
     "text": [
      "New best\n"
     ]
    },
    {
     "name": "stdout",
     "output_type": "stream",
     "text": [
      "epoch: 3, [batch: 1 / 420], examples_per_second: 2.3459, train_label_loss: 1.1131, \n"
     ]
    },
    {
     "name": "stdout",
     "output_type": "stream",
     "text": [
      "epoch: 3, [batch: 42 / 420], examples_per_second: 263.8901, train_label_loss: 0.6988, \n"
     ]
    },
    {
     "name": "stdout",
     "output_type": "stream",
     "text": [
      "epoch: 3, [batch: 84 / 420], examples_per_second: 272.5330, train_label_loss: 0.7676, \n"
     ]
    },
    {
     "name": "stdout",
     "output_type": "stream",
     "text": [
      "epoch: 3, [batch: 126 / 420], examples_per_second: 278.2296, train_label_loss: 0.4878, \n"
     ]
    },
    {
     "name": "stdout",
     "output_type": "stream",
     "text": [
      "epoch: 3, [batch: 168 / 420], examples_per_second: 286.7590, train_label_loss: 0.6103, \n"
     ]
    },
    {
     "name": "stdout",
     "output_type": "stream",
     "text": [
      "epoch: 3, [batch: 210 / 420], examples_per_second: 293.6492, train_label_loss: 0.6500, \n"
     ]
    },
    {
     "name": "stdout",
     "output_type": "stream",
     "text": [
      "epoch: 3, [batch: 252 / 420], examples_per_second: 302.3587, train_label_loss: 0.6070, \n"
     ]
    },
    {
     "name": "stdout",
     "output_type": "stream",
     "text": [
      "epoch: 3, [batch: 294 / 420], examples_per_second: 311.9113, train_label_loss: 0.7215, \n"
     ]
    },
    {
     "name": "stdout",
     "output_type": "stream",
     "text": [
      "epoch: 3, [batch: 336 / 420], examples_per_second: 322.2556, train_label_loss: 0.7807, \n"
     ]
    },
    {
     "name": "stdout",
     "output_type": "stream",
     "text": [
      "epoch: 3, [batch: 378 / 420], examples_per_second: 332.0726, train_label_loss: 0.4582, \n"
     ]
    },
    {
     "name": "stdout",
     "output_type": "stream",
     "text": [
      "=============================================================\n",
      "epoch: 3, source_val_acc_label: 0.6835, target_val_acc_label: 0.4795, source_val_label_loss: 0.7350, target_val_label_loss: 1.3861, \n",
      "=============================================================\n"
     ]
    },
    {
     "name": "stdout",
     "output_type": "stream",
     "text": [
      "epoch: 4, [batch: 1 / 420], examples_per_second: 2.3624, train_label_loss: 0.5144, \n"
     ]
    },
    {
     "name": "stdout",
     "output_type": "stream",
     "text": [
      "epoch: 4, [batch: 42 / 420], examples_per_second: 265.9202, train_label_loss: 0.7246, \n"
     ]
    },
    {
     "name": "stdout",
     "output_type": "stream",
     "text": [
      "epoch: 4, [batch: 84 / 420], examples_per_second: 272.0760, train_label_loss: 0.2555, \n"
     ]
    },
    {
     "name": "stdout",
     "output_type": "stream",
     "text": [
      "epoch: 4, [batch: 126 / 420], examples_per_second: 280.2464, train_label_loss: 0.5355, \n"
     ]
    },
    {
     "name": "stdout",
     "output_type": "stream",
     "text": [
      "epoch: 4, [batch: 168 / 420], examples_per_second: 286.2928, train_label_loss: 0.7932, \n"
     ]
    },
    {
     "name": "stdout",
     "output_type": "stream",
     "text": [
      "epoch: 4, [batch: 210 / 420], examples_per_second: 295.2836, train_label_loss: 0.5876, \n"
     ]
    },
    {
     "name": "stdout",
     "output_type": "stream",
     "text": [
      "epoch: 4, [batch: 252 / 420], examples_per_second: 303.8148, train_label_loss: 0.6573, \n"
     ]
    },
    {
     "name": "stdout",
     "output_type": "stream",
     "text": [
      "epoch: 4, [batch: 294 / 420], examples_per_second: 311.7813, train_label_loss: 0.7135, \n"
     ]
    },
    {
     "name": "stdout",
     "output_type": "stream",
     "text": [
      "epoch: 4, [batch: 336 / 420], examples_per_second: 323.2582, train_label_loss: 0.5038, \n"
     ]
    },
    {
     "name": "stdout",
     "output_type": "stream",
     "text": [
      "epoch: 4, [batch: 378 / 420], examples_per_second: 332.4361, train_label_loss: 0.3568, \n"
     ]
    },
    {
     "name": "stdout",
     "output_type": "stream",
     "text": [
      "=============================================================\n",
      "epoch: 4, source_val_acc_label: 0.7674, target_val_acc_label: 0.4844, source_val_label_loss: 0.5462, target_val_label_loss: 1.6856, \n",
      "=============================================================\n"
     ]
    },
    {
     "name": "stdout",
     "output_type": "stream",
     "text": [
      "epoch: 5, [batch: 1 / 420], examples_per_second: 2.3474, train_label_loss: 0.5153, \n"
     ]
    },
    {
     "name": "stdout",
     "output_type": "stream",
     "text": [
      "epoch: 5, [batch: 42 / 420], examples_per_second: 263.8910, train_label_loss: 0.5376, \n"
     ]
    },
    {
     "name": "stdout",
     "output_type": "stream",
     "text": [
      "epoch: 5, [batch: 84 / 420], examples_per_second: 271.7133, train_label_loss: 0.3875, \n"
     ]
    },
    {
     "name": "stdout",
     "output_type": "stream",
     "text": [
      "epoch: 5, [batch: 126 / 420], examples_per_second: 278.6616, train_label_loss: 0.4084, \n"
     ]
    },
    {
     "name": "stdout",
     "output_type": "stream",
     "text": [
      "epoch: 5, [batch: 168 / 420], examples_per_second: 286.2230, train_label_loss: 0.1522, \n"
     ]
    },
    {
     "name": "stdout",
     "output_type": "stream",
     "text": [
      "epoch: 5, [batch: 210 / 420], examples_per_second: 295.0326, train_label_loss: 0.4002, \n"
     ]
    },
    {
     "name": "stdout",
     "output_type": "stream",
     "text": [
      "epoch: 5, [batch: 252 / 420], examples_per_second: 303.5241, train_label_loss: 0.6160, \n"
     ]
    },
    {
     "name": "stdout",
     "output_type": "stream",
     "text": [
      "epoch: 5, [batch: 294 / 420], examples_per_second: 312.1380, train_label_loss: 0.3735, \n"
     ]
    },
    {
     "name": "stdout",
     "output_type": "stream",
     "text": [
      "epoch: 5, [batch: 336 / 420], examples_per_second: 321.9016, train_label_loss: 0.3714, \n"
     ]
    },
    {
     "name": "stdout",
     "output_type": "stream",
     "text": [
      "epoch: 5, [batch: 378 / 420], examples_per_second: 333.6949, train_label_loss: 0.7070, \n"
     ]
    },
    {
     "name": "stdout",
     "output_type": "stream",
     "text": [
      "=============================================================\n",
      "epoch: 5, source_val_acc_label: 0.8422, target_val_acc_label: 0.4934, source_val_label_loss: 0.4055, target_val_label_loss: 1.6823, \n",
      "=============================================================\n"
     ]
    },
    {
     "name": "stdout",
     "output_type": "stream",
     "text": [
      "epoch: 6, [batch: 1 / 420], examples_per_second: 2.3635, train_label_loss: 0.3941, \n"
     ]
    },
    {
     "name": "stdout",
     "output_type": "stream",
     "text": [
      "epoch: 6, [batch: 42 / 420], examples_per_second: 265.5707, train_label_loss: 0.3233, \n"
     ]
    },
    {
     "name": "stdout",
     "output_type": "stream",
     "text": [
      "epoch: 6, [batch: 84 / 420], examples_per_second: 271.4410, train_label_loss: 0.3668, \n"
     ]
    },
    {
     "name": "stdout",
     "output_type": "stream",
     "text": [
      "epoch: 6, [batch: 126 / 420], examples_per_second: 279.1994, train_label_loss: 0.2484, \n"
     ]
    },
    {
     "name": "stdout",
     "output_type": "stream",
     "text": [
      "epoch: 6, [batch: 168 / 420], examples_per_second: 285.9506, train_label_loss: 0.5600, \n"
     ]
    },
    {
     "name": "stdout",
     "output_type": "stream",
     "text": [
      "epoch: 6, [batch: 210 / 420], examples_per_second: 294.4541, train_label_loss: 0.1232, \n"
     ]
    },
    {
     "name": "stdout",
     "output_type": "stream",
     "text": [
      "epoch: 6, [batch: 252 / 420], examples_per_second: 302.2544, train_label_loss: 0.1431, \n"
     ]
    },
    {
     "name": "stdout",
     "output_type": "stream",
     "text": [
      "epoch: 6, [batch: 294 / 420], examples_per_second: 313.0687, train_label_loss: 0.2639, \n"
     ]
    },
    {
     "name": "stdout",
     "output_type": "stream",
     "text": [
      "epoch: 6, [batch: 336 / 420], examples_per_second: 321.4742, train_label_loss: 0.4919, \n"
     ]
    },
    {
     "name": "stdout",
     "output_type": "stream",
     "text": [
      "epoch: 6, [batch: 378 / 420], examples_per_second: 331.7073, train_label_loss: 0.3786, \n"
     ]
    },
    {
     "name": "stdout",
     "output_type": "stream",
     "text": [
      "=============================================================\n",
      "epoch: 6, source_val_acc_label: 0.8866, target_val_acc_label: 0.5180, source_val_label_loss: 0.3359, target_val_label_loss: 2.0216, \n",
      "=============================================================\n"
     ]
    },
    {
     "name": "stdout",
     "output_type": "stream",
     "text": [
      "Patience (3) exhausted\n"
     ]
    }
   ],
   "source": [
    "###################################\n",
    "# train\n",
    "###################################\n",
    "jig = PTN_Train_Eval_Test_Jig(model, p.BEST_MODEL_PATH, p.device)\n",
    "\n",
    "jig.train(\n",
    "    train_iterable=datasets.source.processed.train,\n",
    "    source_val_iterable=datasets.source.processed.val,\n",
    "    target_val_iterable=datasets.target.processed.val,\n",
    "    num_epochs=p.n_epoch,\n",
    "    num_logs_per_epoch=p.NUM_LOGS_PER_EPOCH,\n",
    "    patience=p.patience,\n",
    "    optimizer=optimizer,\n",
    "    criteria_for_best=p.criteria_for_best,\n",
    ")"
   ]
  },
  {
   "cell_type": "code",
   "execution_count": 14,
   "id": "31e8fabf",
   "metadata": {
    "execution": {
     "iopub.execute_input": "2022-03-02T11:02:00.145702Z",
     "iopub.status.busy": "2022-03-02T11:02:00.145454Z",
     "iopub.status.idle": "2022-03-02T11:02:00.157856Z",
     "shell.execute_reply": "2022-03-02T11:02:00.158208Z"
    },
    "papermill": {
     "duration": 0.036541,
     "end_time": "2022-03-02T11:02:00.158316",
     "exception": false,
     "start_time": "2022-03-02T11:02:00.121775",
     "status": "completed"
    },
    "tags": []
   },
   "outputs": [],
   "source": [
    "total_experiment_time_secs = time.time() - start_time_secs"
   ]
  },
  {
   "cell_type": "code",
   "execution_count": 15,
   "id": "87b9595b",
   "metadata": {
    "execution": {
     "iopub.execute_input": "2022-03-02T11:02:00.214320Z",
     "iopub.status.busy": "2022-03-02T11:02:00.213945Z",
     "iopub.status.idle": "2022-03-02T11:05:25.157620Z",
     "shell.execute_reply": "2022-03-02T11:05:25.157995Z"
    },
    "papermill": {
     "duration": 204.973396,
     "end_time": "2022-03-02T11:05:25.158131",
     "exception": false,
     "start_time": "2022-03-02T11:02:00.184735",
     "status": "completed"
    },
    "tags": []
   },
   "outputs": [],
   "source": [
    "###################################\n",
    "# Evaluate the model\n",
    "###################################\n",
    "source_test_label_accuracy, source_test_label_loss = jig.test(datasets.source.processed.test)\n",
    "target_test_label_accuracy, target_test_label_loss = jig.test(datasets.target.processed.test)\n",
    "\n",
    "source_val_label_accuracy, source_val_label_loss = jig.test(datasets.source.processed.val)\n",
    "target_val_label_accuracy, target_val_label_loss = jig.test(datasets.target.processed.val)\n",
    "\n",
    "history = jig.get_history()\n",
    "\n",
    "total_epochs_trained = len(history[\"epoch_indices\"])\n",
    "\n",
    "val_dl = Iterable_Aggregator((datasets.source.original.val,datasets.target.original.val))\n",
    "\n",
    "confusion = ptn_confusion_by_domain_over_dataloader(model, p.device, val_dl)\n",
    "per_domain_accuracy = per_domain_accuracy_from_confusion(confusion)\n",
    "\n",
    "# Add a key to per_domain_accuracy for if it was a source domain\n",
    "for domain, accuracy in per_domain_accuracy.items():\n",
    "    per_domain_accuracy[domain] = {\n",
    "        \"accuracy\": accuracy,\n",
    "        \"source?\": domain in p.domains_source\n",
    "    }\n",
    "\n",
    "# Do an independent accuracy assesment JUST TO BE SURE!\n",
    "# _source_test_label_accuracy = independent_accuracy_assesment(model, datasets.source.processed.test, p.device)\n",
    "# _target_test_label_accuracy = independent_accuracy_assesment(model, datasets.target.processed.test, p.device)\n",
    "# _source_val_label_accuracy = independent_accuracy_assesment(model, datasets.source.processed.val, p.device)\n",
    "# _target_val_label_accuracy = independent_accuracy_assesment(model, datasets.target.processed.val, p.device)\n",
    "\n",
    "# assert(_source_test_label_accuracy == source_test_label_accuracy)\n",
    "# assert(_target_test_label_accuracy == target_test_label_accuracy)\n",
    "# assert(_source_val_label_accuracy == source_val_label_accuracy)\n",
    "# assert(_target_val_label_accuracy == target_val_label_accuracy)\n",
    "\n",
    "experiment = {\n",
    "    \"experiment_name\": p.experiment_name,\n",
    "    \"parameters\": dict(p),\n",
    "    \"results\": {\n",
    "        \"source_test_label_accuracy\": source_test_label_accuracy,\n",
    "        \"source_test_label_loss\": source_test_label_loss,\n",
    "        \"target_test_label_accuracy\": target_test_label_accuracy,\n",
    "        \"target_test_label_loss\": target_test_label_loss,\n",
    "        \"source_val_label_accuracy\": source_val_label_accuracy,\n",
    "        \"source_val_label_loss\": source_val_label_loss,\n",
    "        \"target_val_label_accuracy\": target_val_label_accuracy,\n",
    "        \"target_val_label_loss\": target_val_label_loss,\n",
    "        \"total_epochs_trained\": total_epochs_trained,\n",
    "        \"total_experiment_time_secs\": total_experiment_time_secs,\n",
    "        \"confusion\": confusion,\n",
    "        \"per_domain_accuracy\": per_domain_accuracy,\n",
    "    },\n",
    "    \"history\": history,\n",
    "    \"dataset_metrics\": get_dataset_metrics(datasets, \"ptn\"),\n",
    "}"
   ]
  },
  {
   "cell_type": "code",
   "execution_count": 16,
   "id": "54a21829",
   "metadata": {
    "execution": {
     "iopub.execute_input": "2022-03-02T11:05:25.210001Z",
     "iopub.status.busy": "2022-03-02T11:05:25.209458Z",
     "iopub.status.idle": "2022-03-02T11:05:25.397105Z",
     "shell.execute_reply": "2022-03-02T11:05:25.397518Z"
    },
    "papermill": {
     "duration": 0.211999,
     "end_time": "2022-03-02T11:05:25.397652",
     "exception": false,
     "start_time": "2022-03-02T11:05:25.185653",
     "status": "completed"
    },
    "tags": []
   },
   "outputs": [
    {
     "data": {
      "image/png": "[encoded data removed]",
      "text/plain": [
       "<Figure size 1080x504 with 1 Axes>"
      ]
     },
     "metadata": {
      "needs_background": "light"
     },
     "output_type": "display_data"
    }
   ],
   "source": [
    "ax = get_loss_curve(experiment)\n",
    "plt.show()"
   ]
  },
  {
   "cell_type": "code",
   "execution_count": 17,
   "id": "fd8a0f60",
   "metadata": {
    "execution": {
     "iopub.execute_input": "2022-03-02T11:05:25.449783Z",
     "iopub.status.busy": "2022-03-02T11:05:25.449531Z",
     "iopub.status.idle": "2022-03-02T11:05:25.701931Z",
     "shell.execute_reply": "2022-03-02T11:05:25.702155Z"
    },
    "papermill": {
     "duration": 0.277688,
     "end_time": "2022-03-02T11:05:25.702238",
     "exception": false,
     "start_time": "2022-03-02T11:05:25.424550",
     "status": "completed"
    },
    "tags": []
   },
   "outputs": [
    {
     "data": {
      "text/plain": [
       "<matplotlib.axes._subplots.AxesSubplot at 0x7f2684bde6a0>"
      ]
     },
     "execution_count": 17,
     "metadata": {},
     "output_type": "execute_result"
    },
    {
     "data": {
      "image/png": "[encoded data removed]",
      "text/plain": [
       "<Figure size 1080x504 with 1 Axes>"
      ]
     },
     "metadata": {
      "needs_background": "light"
     },
     "output_type": "display_data"
    }
   ],
   "source": [
    "get_results_table(experiment)"
   ]
  },
  {
   "cell_type": "code",
   "execution_count": 18,
   "id": "cf8dc689",
   "metadata": {
    "execution": {
     "iopub.execute_input": "2022-03-02T11:05:25.754550Z",
     "iopub.status.busy": "2022-03-02T11:05:25.754289Z",
     "iopub.status.idle": "2022-03-02T11:05:25.932177Z",
     "shell.execute_reply": "2022-03-02T11:05:25.932586Z"
    },
    "papermill": {
     "duration": 0.204809,
     "end_time": "2022-03-02T11:05:25.932720",
     "exception": false,
     "start_time": "2022-03-02T11:05:25.727911",
     "status": "completed"
    },
    "tags": []
   },
   "outputs": [
    {
     "data": {
      "text/plain": [
       "<matplotlib.axes._subplots.AxesSubplot at 0x7f2684a98580>"
      ]
     },
     "execution_count": 18,
     "metadata": {},
     "output_type": "execute_result"
    },
    {
     "data": {
      "image/png": "[encoded data removed]",
      "text/plain": [
       "<Figure size 1080x504 with 1 Axes>"
      ]
     },
     "metadata": {
      "needs_background": "light"
     },
     "output_type": "display_data"
    }
   ],
   "source": [
    "get_domain_accuracies(experiment)"
   ]
  },
  {
   "cell_type": "code",
   "execution_count": 19,
   "id": "a74ae082",
   "metadata": {
    "execution": {
     "iopub.execute_input": "2022-03-02T11:05:25.992202Z",
     "iopub.status.busy": "2022-03-02T11:05:25.991941Z",
     "iopub.status.idle": "2022-03-02T11:05:26.005280Z",
     "shell.execute_reply": "2022-03-02T11:05:26.005583Z"
    },
    "papermill": {
     "duration": 0.041534,
     "end_time": "2022-03-02T11:05:26.005681",
     "exception": false,
     "start_time": "2022-03-02T11:05:25.964147",
     "status": "completed"
    },
    "tags": []
   },
   "outputs": [
    {
     "name": "stdout",
     "output_type": "stream",
     "text": [
      "Source Test Label Accuracy: 0.634375 Target Test Label Accuracy: 0.47729166666666667\n",
      "Source Val Label Accuracy: 0.6475694444444444 Target Val Label Accuracy: 0.4789583333333333\n"
     ]
    }
   ],
   "source": [
    "print(\"Source Test Label Accuracy:\", experiment[\"results\"][\"source_test_label_accuracy\"], \"Target Test Label Accuracy:\", experiment[\"results\"][\"target_test_label_accuracy\"])\n",
    "print(\"Source Val Label Accuracy:\", experiment[\"results\"][\"source_val_label_accuracy\"], \"Target Val Label Accuracy:\", experiment[\"results\"][\"target_val_label_accuracy\"])"
   ]
  },
  {
   "cell_type": "code",
   "execution_count": 20,
   "id": "dacca602",
   "metadata": {
    "execution": {
     "iopub.execute_input": "2022-03-02T11:05:26.063968Z",
     "iopub.status.busy": "2022-03-02T11:05:26.063712Z",
     "iopub.status.idle": "2022-03-02T11:05:26.077920Z",
     "shell.execute_reply": "2022-03-02T11:05:26.077459Z"
    },
    "papermill": {
     "duration": 0.041566,
     "end_time": "2022-03-02T11:05:26.078029",
     "exception": false,
     "start_time": "2022-03-02T11:05:26.036463",
     "status": "completed"
    },
    "tags": [
     "experiment_json"
    ]
   },
   "outputs": [
    {
     "data": {
      "text/plain": [
       "'{\"experiment_name\": \"baseline_ptn_oracle.run2.framed\", \"parameters\": {\"experiment_name\": \"baseline_ptn_oracle.run2.framed\", \"lr\": 0.001, \"device\": \"cuda\", \"seed\": 1337, \"dataset_seed\": 1337, \"labels_source\": [\"3123D52\", \"3123D65\", \"3123D79\", \"3123D80\", \"3123D54\", \"3123D70\", \"3123D7B\", \"3123D89\", \"3123D58\", \"3123D76\", \"3123D7D\", \"3123EFE\", \"3123D64\", \"3123D78\", \"3123D7E\", \"3124E4A\"], \"labels_target\": [\"3123D52\", \"3123D65\", \"3123D79\", \"3123D80\", \"3123D54\", \"3123D70\", \"3123D7B\", \"3123D89\", \"3123D58\", \"3123D76\", \"3123D7D\", \"3123EFE\", \"3123D64\", \"3123D78\", \"3123D7E\", \"3124E4A\"], \"x_transforms_source\": [], \"x_transforms_target\": [], \"episode_transforms_source\": [], \"episode_transforms_target\": [], \"num_examples_per_domain_per_label_source\": 1000, \"num_examples_per_domain_per_label_target\": 1000, \"n_shot\": 3, \"n_way\": 16, \"n_query\": 2, \"train_k_factor\": 1, \"val_k_factor\": 2, \"test_k_factor\": 2, \"torch_default_dtype\": \"torch.float64\", \"n_epoch\": 50, \"patience\": 3, \"criteria_for_best\": \"target_loss\", \"x_net\": [{\"class\": \"nnReshape\", \"kargs\": {\"shape\": [-1, 1, 2, 256]}}, {\"class\": \"Conv2d\", \"kargs\": {\"in_channels\": 1, \"out_channels\": 256, \"kernel_size\": [1, 7], \"bias\": false, \"padding\": [0, 3]}}, {\"class\": \"ReLU\", \"kargs\": {\"inplace\": true}}, {\"class\": \"BatchNorm2d\", \"kargs\": {\"num_features\": 256}}, {\"class\": \"Conv2d\", \"kargs\": {\"in_channels\": 256, \"out_channels\": 80, \"kernel_size\": [2, 7], \"bias\": true, \"padding\": [0, 3]}}, {\"class\": \"ReLU\", \"kargs\": {\"inplace\": true}}, {\"class\": \"BatchNorm2d\", \"kargs\": {\"num_features\": 80}}, {\"class\": \"Flatten\", \"kargs\": {}}, {\"class\": \"Linear\", \"kargs\": {\"in_features\": 20480, \"out_features\": 256}}, {\"class\": \"ReLU\", \"kargs\": {\"inplace\": true}}, {\"class\": \"BatchNorm1d\", \"kargs\": {\"num_features\": 256}}, {\"class\": \"Linear\", \"kargs\": {\"in_features\": 256, \"out_features\": 256}}], \"NUM_LOGS_PER_EPOCH\": 10, \"BEST_MODEL_PATH\": \"./best_model.pth\", \"pickle_name\": \"oracle.Run2_framed_1300Examples_stratified_ds.2022A.pkl\", \"domains_source\": [8, 32, 50], \"domains_target\": [14, 20, 26, 38, 44]}, \"results\": {\"source_test_label_accuracy\": 0.634375, \"source_test_label_loss\": 0.8729371595080859, \"target_test_label_accuracy\": 0.47729166666666667, \"target_test_label_loss\": 1.2947298092051032, \"source_val_label_accuracy\": 0.6475694444444444, \"source_val_label_loss\": 0.8271799103606515, \"target_val_label_accuracy\": 0.4789583333333333, \"target_val_label_loss\": 1.2808888172726274, \"total_epochs_trained\": 6, \"total_experiment_time_secs\": 1023.9147796630859, \"confusion\": {\"8\": {\"15\": {\"15\": 109, \"9\": 11}, \"3\": {\"3\": 118, \"9\": 2}, \"6\": {\"14\": 37, \"6\": 48, \"8\": 34, \"11\": 1}, \"1\": {\"7\": 29, \"10\": 9, \"11\": 21, \"4\": 25, \"1\": 36}, \"8\": {\"8\": 53, \"14\": 22, \"11\": 7, \"6\": 32, \"4\": 5, \"1\": 1}, \"10\": {\"13\": 16, \"10\": 71, \"1\": 10, \"7\": 19, \"11\": 1, \"4\": 2, \"5\": 1}, \"9\": {\"15\": 28, \"9\": 92}, \"13\": {\"5\": 49, \"13\": 63, \"10\": 6, \"7\": 2}, \"12\": {\"12\": 117, \"2\": 3}, \"5\": {\"5\": 59, \"13\": 50, \"10\": 9, \"2\": 2}, \"0\": {\"0\": 120}, \"2\": {\"2\": 112, \"12\": 8}, \"11\": {\"4\": 44, \"8\": 1, \"1\": 16, \"11\": 49, \"10\": 1, \"7\": 9}, \"14\": {\"6\": 45, \"14\": 54, \"8\": 21}, \"7\": {\"10\": 29, \"1\": 25, \"7\": 42, \"4\": 11, \"11\": 13}, \"4\": {\"11\": 45, \"8\": 1, \"10\": 3, \"1\": 24, \"7\": 7, \"4\": 40}}, \"50\": {\"3\": {\"5\": 23, \"15\": 19, \"3\": 25, \"6\": 25, \"9\": 23, \"4\": 5}, \"15\": {\"15\": 44, \"9\": 27, \"3\": 21, \"6\": 20, \"5\": 5, \"12\": 3}, \"8\": {\"8\": 110, \"1\": 10}, \"4\": {\"5\": 24, \"4\": 90, \"6\": 2, \"3\": 2, \"9\": 2}, \"14\": {\"14\": 70, \"2\": 50}, \"0\": {\"0\": 120}, \"7\": {\"7\": 113, \"4\": 7}, \"6\": {\"15\": 28, \"9\": 30, \"6\": 25, \"5\": 16, \"3\": 18, \"12\": 2, \"4\": 1}, \"10\": {\"10\": 118, \"8\": 2}, \"5\": {\"5\": 41, \"6\": 11, \"3\": 23, \"9\": 5, \"4\": 37, \"7\": 3}, \"2\": {\"2\": 70, \"14\": 49, \"0\": 1}, \"12\": {\"12\": 113, \"11\": 3, \"6\": 1, \"9\": 1, \"15\": 2}, \"9\": {\"6\": 24, \"3\": 30, \"15\": 27, \"9\": 21, \"5\": 15, \"4\": 3}, \"1\": {\"1\": 104, \"8\": 10, \"13\": 6}, \"11\": {\"11\": 115, \"13\": 4, \"12\": 1}, \"13\": {\"13\": 105, \"1\": 9, \"11\": 6}}, \"32\": {\"5\": {\"5\": 65, \"15\": 54, \"14\": 1}, \"8\": {\"0\": 10, \"2\": 38, \"8\": 58, \"7\": 14}, \"11\": {\"13\": 28, \"9\": 26, \"11\": 66}, \"1\": {\"1\": 115, \"4\": 4, \"8\": 1}, \"10\": {\"10\": 109, \"12\": 11}, \"15\": {\"15\": 58, \"5\": 56, \"14\": 6}, \"3\": {\"3\": 118, \"4\": 2}, \"7\": {\"7\": 63, \"0\": 41, \"2\": 8, \"8\": 3, \"14\": 5}, \"4\": {\"4\": 104, \"1\": 9, \"3\": 7}, \"14\": {\"14\": 113, \"7\": 6, \"15\": 1}, \"9\": {\"9\": 48, \"13\": 43, \"11\": 27, \"12\": 2}, \"12\": {\"12\": 105, \"10\": 8, \"9\": 4, \"13\": 3}, \"6\": {\"6\": 120}, \"2\": {\"2\": 39, \"0\": 28, \"7\": 9, \"8\": 44}, \"0\": {\"0\": 34, \"7\": 39, \"2\": 27, \"8\": 20}, \"13\": {\"9\": 41, \"11\": 31, \"13\": 48}}, \"14\": {\"15\": {\"15\": 119, \"13\": 1}, \"3\": {\"3\": 75, \"7\": 32, \"6\": 8, \"14\": 5}, \"6\": {\"6\": 82, \"13\": 19, \"3\": 18, \"7\": 1}, \"1\": {\"9\": 12, \"1\": 108}, \"8\": {\"10\": 49, \"8\": 35, \"5\": 16, \"0\": 15, \"4\": 5}, \"10\": {\"5\": 13, \"0\": 14, \"8\": 38, \"10\": 44, \"4\": 11}, \"9\": {\"9\": 94, \"1\": 25, \"0\": 1}, \"13\": {\"13\": 98, \"6\": 22}, \"12\": {\"12\": 113, \"11\": 7}, \"5\": {\"2\": 11, \"5\": 77, \"14\": 6, \"8\": 10, \"10\": 16}, \"0\": {\"0\": 36, \"8\": 21, \"4\": 43, \"10\": 17, \"5\": 2, \"9\": 1}, \"2\": {\"7\": 21, \"5\": 21, \"2\": 36, \"14\": 33, \"8\": 1, \"3\": 5, \"10\": 3}, \"11\": {\"11\": 110, \"12\": 10}, \"14\": {\"14\": 40, \"2\": 40, \"7\": 19, \"5\": 17, \"8\": 1, \"10\": 1, \"3\": 2}, \"7\": {\"3\": 33, \"7\": 37, \"2\": 21, \"6\": 5, \"14\": 24}, \"4\": {\"4\": 70, \"0\": 34, \"8\": 6, \"10\": 10}}, \"20\": {\"3\": {\"2\": 31, \"3\": 17, \"15\": 21, \"9\": 10, \"5\": 15, \"7\": 8, \"14\": 1, \"6\": 9, \"1\": 6, \"4\": 2}, \"15\": {\"7\": 17, \"4\": 19, \"6\": 10, \"3\": 8, \"15\": 21, \"2\": 14, \"9\": 15, \"5\": 9, \"10\": 4, \"1\": 2, \"13\": 1}, \"8\": {\"0\": 26, \"8\": 27, \"14\": 25, \"11\": 41, \"1\": 1}, \"4\": {\"4\": 45, \"3\": 2, \"7\": 16, \"13\": 6, \"6\": 21, \"10\": 10, \"15\": 8, \"9\": 1, \"2\": 3, \"12\": 7, \"5\": 1}, \"14\": {\"14\": 57, \"11\": 19, \"0\": 4, \"8\": 24, \"1\": 14, \"5\": 2}, \"0\": {\"11\": 27, \"14\": 5, \"8\": 19, \"0\": 69}, \"7\": {\"13\": 9, \"1\": 5, \"9\": 7, \"6\": 21, \"10\": 14, \"7\": 15, \"4\": 17, \"2\": 7, \"5\": 6, \"15\": 9, \"3\": 7, \"12\": 3}, \"6\": {\"5\": 4, \"4\": 34, \"15\": 9, \"6\": 22, \"10\": 5, \"7\": 12, \"13\": 6, \"2\": 12, \"9\": 11, \"12\": 2, \"3\": 2, \"1\": 1}, \"10\": {\"12\": 30, \"10\": 36, \"4\": 11, \"13\": 30, \"6\": 4, \"9\": 1, \"15\": 3, \"7\": 5}, \"5\": {\"2\": 16, \"5\": 22, \"9\": 18, \"1\": 28, \"3\": 16, \"7\": 8, \"15\": 8, \"6\": 1, \"14\": 3}, \"2\": {\"5\": 16, \"1\": 10, \"9\": 14, \"7\": 9, \"2\": 26, \"6\": 10, \"4\": 5, \"15\": 11, \"3\": 19}, \"12\": {\"10\": 27, \"13\": 40, \"12\": 40, \"4\": 7, \"7\": 2, \"15\": 1, \"6\": 3}, \"9\": {\"1\": 14, \"5\": 19, \"15\": 9, \"7\": 9, \"6\": 12, \"3\": 13, \"4\": 9, \"9\": 15, \"2\": 19, \"12\": 1}, \"1\": {\"1\": 54, \"8\": 2, \"14\": 18, \"5\": 31, \"7\": 2, \"3\": 6, \"2\": 5, \"9\": 2}, \"11\": {\"8\": 30, \"0\": 25, \"11\": 47, \"14\": 17, \"1\": 1}, \"13\": {\"7\": 6, \"4\": 12, \"10\": 25, \"12\": 34, \"15\": 2, \"13\": 40, \"6\": 1}}, \"44\": {\"5\": {\"9\": 7, \"5\": 91, \"14\": 19, \"8\": 2, \"7\": 1}, \"8\": {\"8\": 86, \"15\": 27, \"0\": 7}, \"11\": {\"11\": 120}, \"1\": {\"1\": 94, \"2\": 22, \"0\": 4}, \"10\": {\"10\": 61, \"6\": 43, \"13\": 16}, \"15\": {\"15\": 60, \"0\": 25, \"8\": 30, \"2\": 4, \"1\": 1}, \"3\": {\"12\": 52, \"3\": 68}, \"7\": {\"7\": 33, \"4\": 50, \"9\": 16, \"14\": 16, \"5\": 5}, \"4\": {\"4\": 63, \"7\": 28, \"9\": 21, \"14\": 6, \"10\": 1, \"5\": 1}, \"14\": {\"4\": 16, \"5\": 37, \"14\": 27, \"7\": 10, \"9\": 30}, \"9\": {\"4\": 27, \"14\": 29, \"9\": 42, \"7\": 18, \"5\": 4}, \"12\": {\"12\": 55, \"3\": 65}, \"6\": {\"10\": 52, \"13\": 24, \"6\": 44}, \"2\": {\"2\": 53, \"1\": 37, \"0\": 22, \"8\": 3, \"15\": 5}, \"0\": {\"15\": 34, \"2\": 39, \"0\": 34, \"8\": 9, \"1\": 4}, \"13\": {\"6\": 29, \"13\": 76, \"10\": 15}}, \"38\": {\"14\": {\"14\": 108, \"7\": 3, \"0\": 9}, \"0\": {\"14\": 18, \"0\": 57, \"7\": 42, \"8\": 3}, \"13\": {\"13\": 53, \"4\": 42, \"3\": 10, \"10\": 15}, \"7\": {\"7\": 52, \"0\": 46, \"8\": 13, \"2\": 1, \"14\": 8}, \"9\": {\"12\": 26, \"9\": 81, \"5\": 11, \"8\": 1, \"2\": 1}, \"3\": {\"3\": 116, \"13\": 3, \"4\": 1}, \"11\": {\"11\": 120}, \"6\": {\"6\": 91, \"1\": 29}, \"8\": {\"2\": 58, \"7\": 15, \"8\": 41, \"9\": 4, \"0\": 2}, \"4\": {\"10\": 41, \"13\": 40, \"4\": 39}, \"5\": {\"5\": 74, \"12\": 36, \"9\": 10}, \"10\": {\"4\": 28, \"10\": 80, \"13\": 12}, \"1\": {\"1\": 93, \"6\": 20, \"15\": 7}, \"2\": {\"2\": 64, \"8\": 55, \"9\": 1}, \"15\": {\"15\": 118, \"1\": 2}, \"12\": {\"5\": 52, \"9\": 31, \"12\": 32, \"8\": 2, \"2\": 3}}, \"26\": {\"13\": {\"12\": 8, \"3\": 31, \"9\": 27, \"13\": 37, \"2\": 3, \"8\": 1, \"15\": 1, \"4\": 1, \"7\": 11}, \"2\": {\"8\": 27, \"15\": 15, \"12\": 20, \"2\": 25, \"7\": 23, \"9\": 8, \"13\": 1, \"3\": 1}, \"8\": {\"8\": 22, \"2\": 19, \"15\": 36, \"12\": 17, \"9\": 4, \"7\": 18, \"10\": 2, \"0\": 1, \"3\": 1}, \"9\": {\"3\": 30, \"13\": 25, \"7\": 15, \"12\": 12, \"9\": 19, \"2\": 10, \"8\": 6, \"15\": 3}, \"12\": {\"7\": 26, \"9\": 13, \"2\": 23, \"8\": 15, \"10\": 5, \"15\": 6, \"13\": 6, \"12\": 22, \"3\": 3, \"0\": 1}, \"4\": {\"4\": 118, \"13\": 1, \"3\": 1}, \"3\": {\"13\": 41, \"7\": 15, \"3\": 34, \"9\": 17, \"12\": 4, \"8\": 4, \"2\": 3, \"4\": 2}, \"15\": {\"15\": 45, \"2\": 10, \"8\": 27, \"10\": 16, \"0\": 3, \"7\": 5, \"12\": 14}, \"14\": {\"5\": 14, \"14\": 36, \"11\": 25, \"6\": 34, \"1\": 2, \"0\": 6, \"10\": 3}, \"10\": {\"15\": 24, \"10\": 48, \"0\": 33, \"6\": 10, \"8\": 1, \"14\": 2, \"11\": 1, \"2\": 1}, \"7\": {\"7\": 23, \"15\": 15, \"2\": 23, \"13\": 6, \"8\": 22, \"9\": 8, \"12\": 20, \"3\": 3}, \"11\": {\"5\": 22, \"1\": 14, \"6\": 18, \"14\": 25, \"11\": 29, \"10\": 2, \"0\": 10}, \"6\": {\"0\": 31, \"14\": 25, \"11\": 12, \"6\": 26, \"5\": 5, \"10\": 19, \"1\": 2}, \"1\": {\"5\": 36, \"1\": 71, \"14\": 2, \"11\": 11}, \"5\": {\"11\": 28, \"5\": 37, \"6\": 9, \"1\": 25, \"14\": 21}, \"0\": {\"0\": 53, \"10\": 32, \"14\": 9, \"6\": 20, \"11\": 2, \"15\": 3, \"12\": 1}}}, \"per_domain_accuracy\": {\"8\": {\"accuracy\": 0.6161458333333333, \"source?\": true}, \"50\": {\"accuracy\": 0.66875, \"source?\": true}, \"32\": {\"accuracy\": 0.6578125, \"source?\": true}, \"14\": {\"accuracy\": 0.6114583333333333, \"source?\": false}, \"20\": {\"accuracy\": 0.28802083333333334, \"source?\": false}, \"44\": {\"accuracy\": 0.5244791666666667, \"source?\": false}, \"38\": {\"accuracy\": 0.6348958333333333, \"source?\": false}, \"26\": {\"accuracy\": 0.3359375, \"source?\": false}}}, \"history\": {\"epoch_indices\": [1, 2, 3, 4, 5, 6], \"train_label_loss\": [0.9431270319099523, 0.9260897703037717, 0.7075281554565038, 0.5355081236613672, 0.40901021645573354, 0.2727220106673417], \"source_val_label_loss\": [1.1858226680092656, 0.8271799103606515, 0.7349953904621394, 0.5462025015773124, 0.4055278572349014, 0.3358641426052207], \"target_val_label_loss\": [1.3505948392970608, 1.2808888172726274, 1.3861053927358777, 1.6856143390447096, 1.68233274200804, 2.021587961771316], \"source_val_acc_label\": [0.5366319444444444, 0.6475694444444444, 0.6835069444444445, 0.7673611111111112, 0.8421875, 0.8866319444444445], \"target_val_acc_label\": [0.4636458333333333, 0.4789583333333333, 0.4794791666666667, 0.484375, 0.4934375, 0.5180208333333334]}, \"dataset_metrics\": {\"source\": {\"train\": {\"n_unique_x\": 33600, \"n_unique_y\": 16, \"n_batch/episode\": 420}, \"val\": {\"n_unique_x\": 7200, \"n_unique_y\": 16, \"n_batch/episode\": 180}, \"test\": {\"n_unique_x\": 7200, \"n_unique_y\": 16, \"n_batch/episode\": 180}}, \"target\": {\"train\": {\"n_unique_x\": 56000, \"n_unique_y\": 16, \"n_batch/episode\": 700}, \"val\": {\"n_unique_x\": 12000, \"n_unique_y\": 16, \"n_batch/episode\": 300}, \"test\": {\"n_unique_x\": 12000, \"n_unique_y\": 16, \"n_batch/episode\": 300}}}}'"
      ]
     },
     "execution_count": 20,
     "metadata": {},
     "output_type": "execute_result"
    }
   ],
   "source": [
    "json.dumps(experiment)"
   ]
  }
 ],
 "metadata": {
  "celltoolbar": "Tags",
  "kernelspec": {
   "display_name": "Python 3 (ipykernel)",
   "language": "python",
   "name": "python3"
  },
  "language_info": {
   "codemirror_mode": {
    "name": "ipython",
    "version": 3
   },
   "file_extension": ".py",
   "mimetype": "text/x-python",
   "name": "python",
   "nbconvert_exporter": "python",
   "pygments_lexer": "ipython3",
   "version": "3.8.10"
  },
  "papermill": {
   "default_parameters": {},
   "duration": 1232.055939,
   "end_time": "2022-03-02T11:05:26.616707",
   "environment_variables": {},
   "exception": null,
   "input_path": "/mnt/wd500GB/CSC500/csc500-main/csc500-notebooks/templates/ptn_template.ipynb",
   "output_path": "trial.ipynb",
   "parameters": {
    "parameters": {
     "BEST_MODEL_PATH": "./best_model.pth",
     "NUM_LOGS_PER_EPOCH": 10,
     "criteria_for_best": "target_loss",
     "dataset_seed": 1337,
     "device": "cuda",
     "domains_source": [
      8,
      32,
      50
     ],
     "domains_target": [
      14,
      20,
      26,
      38,
      44
     ],
     "episode_transforms_source": [],
     "episode_transforms_target": [],
     "experiment_name": "baseline_ptn_oracle.run2.framed",
     "labels_source": [
      "3123D52",
      "3123D65",
      "3123D79",
      "3123D80",
      "3123D54",
      "3123D70",
      "3123D7B",
      "3123D89",
      "3123D58",
      "3123D76",
      "3123D7D",
      "3123EFE",
      "3123D64",
      "3123D78",
      "3123D7E",
      "3124E4A"
     ],
     "labels_target": [
      "3123D52",
      "3123D65",
      "3123D79",
      "3123D80",
      "3123D54",
      "3123D70",
      "3123D7B",
      "3123D89",
      "3123D58",
      "3123D76",
      "3123D7D",
      "3123EFE",
      "3123D64",
      "3123D78",
      "3123D7E",
      "3124E4A"
     ],
     "lr": 0.001,
     "n_epoch": 50,
     "n_query": 2,
     "n_shot": 3,
     "n_way": 16,
     "num_examples_per_domain_per_label_source": 1000,
     "num_examples_per_domain_per_label_target": 1000,
     "patience": 3,
     "pickle_name": "oracle.Run2_framed_1300Examples_stratified_ds.2022A.pkl",
     "seed": 1337,
     "test_k_factor": 2,
     "torch_default_dtype": "torch.float64",
     "train_k_factor": 1,
     "val_k_factor": 2,
     "x_net": [
      {
       "class": "nnReshape",
       "kargs": {
        "shape": [
         -1,
         1,
         2,
         256
        ]
       }
      },
      {
       "class": "Conv2d",
       "kargs": {
        "bias": false,
        "in_channels": 1,
        "kernel_size": [
         1,
         7
        ],
        "out_channels": 256,
        "padding": [
         0,
         3
        ]
       }
      },
      {
       "class": "ReLU",
       "kargs": {
        "inplace": true
       }
      },
      {
       "class": "BatchNorm2d",
       "kargs": {
        "num_features": 256
       }
      },
      {
       "class": "Conv2d",
       "kargs": {
        "bias": true,
        "in_channels": 256,
        "kernel_size": [
         2,
         7
        ],
        "out_channels": 80,
        "padding": [
         0,
         3
        ]
       }
      },
      {
       "class": "ReLU",
       "kargs": {
        "inplace": true
       }
      },
      {
       "class": "BatchNorm2d",
       "kargs": {
        "num_features": 80
       }
      },
      {
       "class": "Flatten",
       "kargs": {}
      },
      {
       "class": "Linear",
       "kargs": {
        "in_features": 20480,
        "out_features": 256
       }
      },
      {
       "class": "ReLU",
       "kargs": {
        "inplace": true
       }
      },
      {
       "class": "BatchNorm1d",
       "kargs": {
        "num_features": 256
       }
      },
      {
       "class": "Linear",
       "kargs": {
        "in_features": 256,
        "out_features": 256
       }
      }
     ],
     "x_transforms_source": [],
     "x_transforms_target": []
    }
   },
   "start_time": "2022-03-02T10:44:54.560768",
   "version": "2.3.4"
  }
 },
 "nbformat": 4,
 "nbformat_minor": 5
}