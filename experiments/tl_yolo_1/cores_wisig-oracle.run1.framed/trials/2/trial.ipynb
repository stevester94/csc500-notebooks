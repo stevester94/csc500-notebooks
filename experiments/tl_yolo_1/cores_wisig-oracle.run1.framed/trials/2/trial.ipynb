{
 "cells": [
  {
   "cell_type": "markdown",
   "id": "9fea5f46",
   "metadata": {
    "papermill": {
     "duration": 0.017342,
     "end_time": "2022-03-09T03:20:25.401811",
     "exception": false,
     "start_time": "2022-03-09T03:20:25.384469",
     "status": "completed"
    },
    "tags": []
   },
   "source": [
    "# Transfer Learning Template"
   ]
  },
  {
   "cell_type": "code",
   "execution_count": 1,
   "id": "0902182a",
   "metadata": {
    "execution": {
     "iopub.execute_input": "2022-03-09T03:20:25.443397Z",
     "iopub.status.busy": "2022-03-09T03:20:25.442781Z",
     "iopub.status.idle": "2022-03-09T03:20:26.259756Z",
     "shell.execute_reply": "2022-03-09T03:20:26.259203Z"
    },
    "papermill": {
     "duration": 0.844998,
     "end_time": "2022-03-09T03:20:26.259877",
     "exception": false,
     "start_time": "2022-03-09T03:20:25.414879",
     "status": "completed"
    },
    "tags": []
   },
   "outputs": [],
   "source": [
    "%load_ext autoreload\n",
    "%autoreload 2\n",
    "%matplotlib inline\n",
    "\n",
    "    \n",
    "import os, json, sys, time, random\n",
    "import numpy as np\n",
    "import torch\n",
    "from torch.optim import Adam\n",
    "from  easydict import EasyDict\n",
    "import matplotlib.pyplot as plt\n",
    "\n",
    "from steves_models.steves_ptn import Steves_Prototypical_Network\n",
    "\n",
    "from steves_utils.lazy_iterable_wrapper import Lazy_Iterable_Wrapper\n",
    "from steves_utils.iterable_aggregator import Iterable_Aggregator\n",
    "from steves_utils.ptn_train_eval_test_jig import  PTN_Train_Eval_Test_Jig\n",
    "from steves_utils.torch_sequential_builder import build_sequential\n",
    "from steves_utils.torch_utils import get_dataset_metrics, ptn_confusion_by_domain_over_dataloader\n",
    "from steves_utils.utils_v2 import (per_domain_accuracy_from_confusion, get_datasets_base_path)\n",
    "from steves_utils.PTN.utils import independent_accuracy_assesment\n",
    "\n",
    "from torch.utils.data import DataLoader\n",
    "\n",
    "from steves_utils.stratified_dataset.episodic_accessor import Episodic_Accessor_Factory\n",
    "\n",
    "from steves_utils.ptn_do_report import (\n",
    "    get_loss_curve,\n",
    "    get_results_table,\n",
    "    get_parameters_table,\n",
    "    get_domain_accuracies,\n",
    ")\n",
    "\n",
    "from steves_utils.transforms import get_chained_transform"
   ]
  },
  {
   "cell_type": "markdown",
   "id": "41c840b4",
   "metadata": {
    "papermill": {
     "duration": 0.012896,
     "end_time": "2022-03-09T03:20:26.290909",
     "exception": false,
     "start_time": "2022-03-09T03:20:26.278013",
     "status": "completed"
    },
    "tags": []
   },
   "source": [
    "# Allowed Parameters\n",
    "These are allowed parameters, not defaults\n",
    "Each of these values need to be present in the injected parameters (the notebook will raise an exception if they are not present)\n",
    "\n",
    "Papermill uses the cell tag \"parameters\" to inject the real parameters below this cell.\n",
    "Enable tags to see what I mean"
   ]
  },
  {
   "cell_type": "code",
   "execution_count": 2,
   "id": "fd44eb83",
   "metadata": {
    "execution": {
     "iopub.execute_input": "2022-03-09T03:20:26.319950Z",
     "iopub.status.busy": "2022-03-09T03:20:26.319680Z",
     "iopub.status.idle": "2022-03-09T03:20:26.331215Z",
     "shell.execute_reply": "2022-03-09T03:20:26.330825Z"
    },
    "papermill": {
     "duration": 0.027311,
     "end_time": "2022-03-09T03:20:26.331299",
     "exception": false,
     "start_time": "2022-03-09T03:20:26.303988",
     "status": "completed"
    },
    "tags": []
   },
   "outputs": [],
   "source": [
    "required_parameters = {\n",
    "    \"experiment_name\",\n",
    "    \"lr\",\n",
    "    \"device\",\n",
    "    \"seed\",\n",
    "    \"dataset_seed\",\n",
    "    \"n_shot\",\n",
    "    \"n_query\",\n",
    "    \"n_way\",\n",
    "    \"train_k_factor\",\n",
    "    \"val_k_factor\",\n",
    "    \"test_k_factor\",\n",
    "    \"n_epoch\",\n",
    "    \"patience\",\n",
    "    \"criteria_for_best\",\n",
    "    \"x_net\",\n",
    "    \"datasets\",\n",
    "    \"torch_default_dtype\",\n",
    "    \"NUM_LOGS_PER_EPOCH\",\n",
    "    \"BEST_MODEL_PATH\",\n",
    "}"
   ]
  },
  {
   "cell_type": "code",
   "execution_count": 3,
   "id": "fa3f0049",
   "metadata": {
    "execution": {
     "iopub.execute_input": "2022-03-09T03:20:26.374482Z",
     "iopub.status.busy": "2022-03-09T03:20:26.374049Z",
     "iopub.status.idle": "2022-03-09T03:20:26.389183Z",
     "shell.execute_reply": "2022-03-09T03:20:26.388745Z"
    },
    "papermill": {
     "duration": 0.038895,
     "end_time": "2022-03-09T03:20:26.389296",
     "exception": false,
     "start_time": "2022-03-09T03:20:26.350401",
     "status": "completed"
    },
    "tags": [
     "parameters"
    ]
   },
   "outputs": [],
   "source": [
    "from steves_utils.CORES.utils import (\n",
    "    ALL_NODES,\n",
    "    ALL_NODES_MINIMUM_1000_EXAMPLES,\n",
    "    ALL_DAYS\n",
    ")\n",
    "\n",
    "from steves_utils.ORACLE.utils_v2 import (\n",
    "    ALL_DISTANCES_FEET_NARROWED,\n",
    "    ALL_RUNS,\n",
    "    ALL_SERIAL_NUMBERS,\n",
    ")\n",
    "\n",
    "standalone_parameters = {}\n",
    "standalone_parameters[\"experiment_name\"] = \"STANDALONE PTN\"\n",
    "standalone_parameters[\"lr\"] = 0.001\n",
    "standalone_parameters[\"device\"] = \"cuda\"\n",
    "\n",
    "standalone_parameters[\"seed\"] = 1337\n",
    "standalone_parameters[\"dataset_seed\"] = 1337\n",
    "\n",
    "standalone_parameters[\"n_way\"] = 8\n",
    "standalone_parameters[\"n_shot\"] = 3\n",
    "standalone_parameters[\"n_query\"]  = 2\n",
    "standalone_parameters[\"train_k_factor\"] = 1\n",
    "standalone_parameters[\"val_k_factor\"] = 2\n",
    "standalone_parameters[\"test_k_factor\"] = 2\n",
    "\n",
    "\n",
    "standalone_parameters[\"n_epoch\"] = 50\n",
    "\n",
    "standalone_parameters[\"patience\"] = 10\n",
    "standalone_parameters[\"criteria_for_best\"] = \"source_loss\"\n",
    "\n",
    "standalone_parameters[\"datasets\"] = [\n",
    "    {\n",
    "        \"labels\": ALL_SERIAL_NUMBERS,\n",
    "        \"domains\": ALL_DISTANCES_FEET_NARROWED,\n",
    "        \"num_examples_per_domain_per_label\": 100,\n",
    "        \"pickle_path\": os.path.join(get_datasets_base_path(), \"oracle.Run1_framed_2000Examples_stratified_ds.2022A.pkl\"),\n",
    "        \"source_or_target_dataset\": \"source\",\n",
    "        \"x_transforms\": [\"unit_mag\", \"minus_two\"],\n",
    "        \"episode_transforms\": [],\n",
    "        \"domain_prefix\": \"ORACLE_\"\n",
    "    },\n",
    "    {\n",
    "        \"labels\": ALL_NODES,\n",
    "        \"domains\": ALL_DAYS,\n",
    "        \"num_examples_per_domain_per_label\": 100,\n",
    "        \"pickle_path\": os.path.join(get_datasets_base_path(), \"cores.stratified_ds.2022A.pkl\"),\n",
    "        \"source_or_target_dataset\": \"target\",\n",
    "        \"x_transforms\": [\"unit_power\", \"times_zero\"],\n",
    "        \"episode_transforms\": [],\n",
    "        \"domain_prefix\": \"CORES_\"\n",
    "    }   \n",
    "]\n",
    "\n",
    "standalone_parameters[\"torch_default_dtype\"] = \"torch.float32\" \n",
    "\n",
    "\n",
    "\n",
    "standalone_parameters[\"x_net\"] =     [\n",
    "    {\"class\": \"nnReshape\", \"kargs\": {\"shape\":[-1, 1, 2, 256]}},\n",
    "    {\"class\": \"Conv2d\", \"kargs\": { \"in_channels\":1, \"out_channels\":256, \"kernel_size\":(1,7), \"bias\":False, \"padding\":(0,3), },},\n",
    "    {\"class\": \"ReLU\", \"kargs\": {\"inplace\": True}},\n",
    "    {\"class\": \"BatchNorm2d\", \"kargs\": {\"num_features\":256}},\n",
    "\n",
    "    {\"class\": \"Conv2d\", \"kargs\": { \"in_channels\":256, \"out_channels\":80, \"kernel_size\":(2,7), \"bias\":True, \"padding\":(0,3), },},\n",
    "    {\"class\": \"ReLU\", \"kargs\": {\"inplace\": True}},\n",
    "    {\"class\": \"BatchNorm2d\", \"kargs\": {\"num_features\":80}},\n",
    "    {\"class\": \"Flatten\", \"kargs\": {}},\n",
    "\n",
    "    {\"class\": \"Linear\", \"kargs\": {\"in_features\": 80*256, \"out_features\": 256}}, # 80 units per IQ pair\n",
    "    {\"class\": \"ReLU\", \"kargs\": {\"inplace\": True}},\n",
    "    {\"class\": \"BatchNorm1d\", \"kargs\": {\"num_features\":256}},\n",
    "\n",
    "    {\"class\": \"Linear\", \"kargs\": {\"in_features\": 256, \"out_features\": 256}},\n",
    "]\n",
    "\n",
    "# Parameters relevant to results\n",
    "# These parameters will basically never need to change\n",
    "standalone_parameters[\"NUM_LOGS_PER_EPOCH\"] = 10\n",
    "standalone_parameters[\"BEST_MODEL_PATH\"] = \"./best_model.pth\"\n",
    "\n",
    "\n",
    "\n",
    "\n"
   ]
  },
  {
   "cell_type": "code",
   "execution_count": 4,
   "id": "a140559e",
   "metadata": {
    "execution": {
     "iopub.execute_input": "2022-03-09T03:20:26.435435Z",
     "iopub.status.busy": "2022-03-09T03:20:26.434938Z",
     "iopub.status.idle": "2022-03-09T03:20:26.448734Z",
     "shell.execute_reply": "2022-03-09T03:20:26.448268Z"
    },
    "papermill": {
     "duration": 0.04096,
     "end_time": "2022-03-09T03:20:26.448842",
     "exception": false,
     "start_time": "2022-03-09T03:20:26.407882",
     "status": "completed"
    },
    "tags": [
     "injected-parameters"
    ]
   },
   "outputs": [],
   "source": [
    "# Parameters\n",
    "parameters = {\n",
    "    \"experiment_name\": \"tl_2_cores_wisig-oracle.run1\",\n",
    "    \"device\": \"cuda\",\n",
    "    \"lr\": 0.001,\n",
    "    \"seed\": 1337,\n",
    "    \"dataset_seed\": 1337,\n",
    "    \"n_shot\": 3,\n",
    "    \"n_query\": 2,\n",
    "    \"train_k_factor\": 3,\n",
    "    \"val_k_factor\": 2,\n",
    "    \"test_k_factor\": 2,\n",
    "    \"torch_default_dtype\": \"torch.float32\",\n",
    "    \"n_epoch\": 50,\n",
    "    \"patience\": 3,\n",
    "    \"criteria_for_best\": \"target_loss\",\n",
    "    \"x_net\": [\n",
    "        {\"class\": \"nnReshape\", \"kargs\": {\"shape\": [-1, 1, 2, 256]}},\n",
    "        {\n",
    "            \"class\": \"Conv2d\",\n",
    "            \"kargs\": {\n",
    "                \"in_channels\": 1,\n",
    "                \"out_channels\": 256,\n",
    "                \"kernel_size\": [1, 7],\n",
    "                \"bias\": False,\n",
    "                \"padding\": [0, 3],\n",
    "            },\n",
    "        },\n",
    "        {\"class\": \"ReLU\", \"kargs\": {\"inplace\": True}},\n",
    "        {\"class\": \"BatchNorm2d\", \"kargs\": {\"num_features\": 256}},\n",
    "        {\n",
    "            \"class\": \"Conv2d\",\n",
    "            \"kargs\": {\n",
    "                \"in_channels\": 256,\n",
    "                \"out_channels\": 80,\n",
    "                \"kernel_size\": [2, 7],\n",
    "                \"bias\": True,\n",
    "                \"padding\": [0, 3],\n",
    "            },\n",
    "        },\n",
    "        {\"class\": \"ReLU\", \"kargs\": {\"inplace\": True}},\n",
    "        {\"class\": \"BatchNorm2d\", \"kargs\": {\"num_features\": 80}},\n",
    "        {\"class\": \"Flatten\", \"kargs\": {}},\n",
    "        {\"class\": \"Linear\", \"kargs\": {\"in_features\": 20480, \"out_features\": 256}},\n",
    "        {\"class\": \"ReLU\", \"kargs\": {\"inplace\": True}},\n",
    "        {\"class\": \"BatchNorm1d\", \"kargs\": {\"num_features\": 256}},\n",
    "        {\"class\": \"Linear\", \"kargs\": {\"in_features\": 256, \"out_features\": 256}},\n",
    "    ],\n",
    "    \"NUM_LOGS_PER_EPOCH\": 10,\n",
    "    \"BEST_MODEL_PATH\": \"./best_model.pth\",\n",
    "    \"n_way\": 13,\n",
    "    \"datasets\": [\n",
    "        {\n",
    "            \"labels\": [\n",
    "                \"11-20.\",\n",
    "                \"2-3.\",\n",
    "                \"7-10.\",\n",
    "                \"14-10.\",\n",
    "                \"19-16.\",\n",
    "                \"1-19.\",\n",
    "                \"1-15.\",\n",
    "                \"11-7.\",\n",
    "                \"11-14.\",\n",
    "                \"1-17.\",\n",
    "                \"4-19.\",\n",
    "                \"17-10.\",\n",
    "                \"8-18.\",\n",
    "                \"2-11.\",\n",
    "                \"2-20.\",\n",
    "                \"14-14.\",\n",
    "                \"8-8.\",\n",
    "                \"1-16.\",\n",
    "                \"2-8.\",\n",
    "                \"3-3.\",\n",
    "                \"4-11.\",\n",
    "                \"2-18.\",\n",
    "                \"4-10.\",\n",
    "                \"1-11.\",\n",
    "                \"11-17.\",\n",
    "                \"2-17.\",\n",
    "                \"19-3.\",\n",
    "                \"2-7.\",\n",
    "                \"1-10.\",\n",
    "                \"2-4.\",\n",
    "                \"10-4.\",\n",
    "                \"1-18.\",\n",
    "                \"2-5.\",\n",
    "                \"16-1.\",\n",
    "                \"17-2.\",\n",
    "                \"13-20.\",\n",
    "                \"19-20.\",\n",
    "                \"14-11.\",\n",
    "                \"2-10.\",\n",
    "                \"3-18.\",\n",
    "            ],\n",
    "            \"domains\": [1, 2, 3, 4, 5],\n",
    "            \"num_examples_per_domain_per_label\": 100,\n",
    "            \"pickle_path\": \"/mnt/wd500GB/CSC500/csc500-main/datasets/cores.stratified_ds.2022A.pkl\",\n",
    "            \"source_or_target_dataset\": \"source\",\n",
    "            \"x_transforms\": [],\n",
    "            \"episode_transforms\": [],\n",
    "            \"domain_prefix\": \"C_A_\",\n",
    "        },\n",
    "        {\n",
    "            \"labels\": [\n",
    "                \"10-7.\",\n",
    "                \"11-1.\",\n",
    "                \"13-8.\",\n",
    "                \"14-7.\",\n",
    "                \"15-1.\",\n",
    "                \"15-20.\",\n",
    "                \"16-16.\",\n",
    "                \"17-11.\",\n",
    "                \"19-1.\",\n",
    "                \"19-19.\",\n",
    "                \"2-6.\",\n",
    "                \"3-13.\",\n",
    "                \"4-1.\",\n",
    "                \"5-5.\",\n",
    "                \"6-15.\",\n",
    "                \"7-14.\",\n",
    "                \"8-20.\",\n",
    "                \"8-3.\",\n",
    "            ],\n",
    "            \"domains\": [1, 2, 3, 4, 5],\n",
    "            \"num_examples_per_domain_per_label\": 1000,\n",
    "            \"pickle_path\": \"/mnt/wd500GB/CSC500/csc500-main/datasets/cores.stratified_ds.2022A.pkl\",\n",
    "            \"source_or_target_dataset\": \"source\",\n",
    "            \"x_transforms\": [],\n",
    "            \"episode_transforms\": [],\n",
    "            \"domain_prefix\": \"C_B_\",\n",
    "        },\n",
    "        {\n",
    "            \"labels\": [\n",
    "                \"2-1\",\n",
    "                \"19-7\",\n",
    "                \"14-9\",\n",
    "                \"20-3\",\n",
    "                \"16-19\",\n",
    "                \"20-14\",\n",
    "                \"6-1\",\n",
    "                \"19-6\",\n",
    "                \"13-19\",\n",
    "                \"2-7\",\n",
    "                \"17-10\",\n",
    "                \"18-14\",\n",
    "                \"13-20\",\n",
    "                \"2-15\",\n",
    "                \"11-20\",\n",
    "                \"3-1\",\n",
    "                \"18-12\",\n",
    "                \"18-2\",\n",
    "                \"9-7\",\n",
    "                \"18-17\",\n",
    "                \"19-11\",\n",
    "                \"7-12\",\n",
    "                \"20-16\",\n",
    "                \"6-6\",\n",
    "                \"7-9\",\n",
    "                \"19-15\",\n",
    "                \"14-20\",\n",
    "                \"19-14\",\n",
    "                \"20-8\",\n",
    "                \"19-12\",\n",
    "                \"19-4\",\n",
    "                \"18-4\",\n",
    "                \"3-8\",\n",
    "                \"2-4\",\n",
    "                \"2-5\",\n",
    "                \"13-3\",\n",
    "                \"19-9\",\n",
    "                \"7-13\",\n",
    "                \"14-19\",\n",
    "                \"18-16\",\n",
    "                \"7-8\",\n",
    "                \"18-1\",\n",
    "                \"13-7\",\n",
    "                \"18-9\",\n",
    "                \"20-4\",\n",
    "                \"15-6\",\n",
    "                \"2-3\",\n",
    "                \"10-4\",\n",
    "                \"18-8\",\n",
    "                \"15-19\",\n",
    "                \"18-20\",\n",
    "                \"19-13\",\n",
    "                \"2-13\",\n",
    "                \"3-13\",\n",
    "                \"9-1\",\n",
    "                \"14-13\",\n",
    "                \"18-13\",\n",
    "                \"16-20\",\n",
    "                \"19-8\",\n",
    "                \"19-10\",\n",
    "                \"8-14\",\n",
    "                \"18-10\",\n",
    "                \"12-19\",\n",
    "                \"18-15\",\n",
    "                \"1-14\",\n",
    "                \"18-7\",\n",
    "                \"1-8\",\n",
    "                \"12-7\",\n",
    "                \"18-19\",\n",
    "                \"13-18\",\n",
    "                \"20-5\",\n",
    "                \"18-5\",\n",
    "                \"20-18\",\n",
    "                \"14-8\",\n",
    "                \"18-11\",\n",
    "                \"14-14\",\n",
    "                \"13-14\",\n",
    "                \"8-1\",\n",
    "                \"14-12\",\n",
    "                \"19-3\",\n",
    "                \"3-2\",\n",
    "                \"2-8\",\n",
    "                \"11-19\",\n",
    "            ],\n",
    "            \"domains\": [1, 2, 3, 4],\n",
    "            \"num_examples_per_domain_per_label\": 100,\n",
    "            \"pickle_path\": \"/mnt/wd500GB/CSC500/csc500-main/datasets/wisig.node3-19.stratified_ds.2022A.pkl\",\n",
    "            \"source_or_target_dataset\": \"source\",\n",
    "            \"x_transforms\": [],\n",
    "            \"episode_transforms\": [],\n",
    "            \"domain_prefix\": \"W_A_\",\n",
    "        },\n",
    "        {\n",
    "            \"labels\": [\n",
    "                \"20-20\",\n",
    "                \"19-1\",\n",
    "                \"20-1\",\n",
    "                \"5-1\",\n",
    "                \"19-20\",\n",
    "                \"19-2\",\n",
    "                \"4-1\",\n",
    "                \"1-12\",\n",
    "                \"7-10\",\n",
    "                \"1-18\",\n",
    "                \"4-11\",\n",
    "                \"8-13\",\n",
    "                \"5-5\",\n",
    "                \"10-7\",\n",
    "                \"11-4\",\n",
    "                \"11-1\",\n",
    "                \"17-11\",\n",
    "                \"4-10\",\n",
    "                \"7-14\",\n",
    "                \"1-19\",\n",
    "                \"7-11\",\n",
    "                \"11-10\",\n",
    "                \"7-7\",\n",
    "                \"8-8\",\n",
    "                \"19-19\",\n",
    "                \"10-11\",\n",
    "                \"1-16\",\n",
    "                \"20-12\",\n",
    "                \"2-6\",\n",
    "                \"11-7\",\n",
    "                \"14-11\",\n",
    "                \"1-10\",\n",
    "                \"16-1\",\n",
    "                \"20-7\",\n",
    "            ],\n",
    "            \"domains\": [1, 2, 3, 4],\n",
    "            \"num_examples_per_domain_per_label\": 500,\n",
    "            \"pickle_path\": \"/mnt/wd500GB/CSC500/csc500-main/datasets/wisig.node3-19.stratified_ds.2022A.pkl\",\n",
    "            \"source_or_target_dataset\": \"source\",\n",
    "            \"x_transforms\": [],\n",
    "            \"episode_transforms\": [],\n",
    "            \"domain_prefix\": \"W_B_\",\n",
    "        },\n",
    "        {\n",
    "            \"labels\": [\n",
    "                \"10-17\",\n",
    "                \"12-20\",\n",
    "                \"14-10\",\n",
    "                \"14-7\",\n",
    "                \"15-1\",\n",
    "                \"16-16\",\n",
    "                \"20-15\",\n",
    "                \"20-19\",\n",
    "                \"3-18\",\n",
    "                \"6-15\",\n",
    "                \"8-18\",\n",
    "                \"8-20\",\n",
    "                \"8-3\",\n",
    "            ],\n",
    "            \"domains\": [1, 2, 3, 4],\n",
    "            \"num_examples_per_domain_per_label\": 1000,\n",
    "            \"pickle_path\": \"/mnt/wd500GB/CSC500/csc500-main/datasets/wisig.node3-19.stratified_ds.2022A.pkl\",\n",
    "            \"source_or_target_dataset\": \"source\",\n",
    "            \"x_transforms\": [],\n",
    "            \"episode_transforms\": [],\n",
    "            \"domain_prefix\": \"W_C_\",\n",
    "        },\n",
    "        {\n",
    "            \"labels\": [\n",
    "                \"3123D52\",\n",
    "                \"3123D65\",\n",
    "                \"3123D79\",\n",
    "                \"3123D80\",\n",
    "                \"3123D54\",\n",
    "                \"3123D70\",\n",
    "                \"3123D7B\",\n",
    "                \"3123D89\",\n",
    "                \"3123D58\",\n",
    "                \"3123D76\",\n",
    "                \"3123D7D\",\n",
    "                \"3123EFE\",\n",
    "                \"3123D64\",\n",
    "                \"3123D78\",\n",
    "                \"3123D7E\",\n",
    "                \"3124E4A\",\n",
    "            ],\n",
    "            \"domains\": [32, 38, 8, 44, 14, 50, 20, 26],\n",
    "            \"num_examples_per_domain_per_label\": 2000,\n",
    "            \"pickle_path\": \"/mnt/wd500GB/CSC500/csc500-main/datasets/oracle.Run1_framed_2000Examples_stratified_ds.2022A.pkl\",\n",
    "            \"source_or_target_dataset\": \"target\",\n",
    "            \"x_transforms\": [],\n",
    "            \"episode_transforms\": [],\n",
    "            \"domain_prefix\": \"ORACLE.run1_\",\n",
    "        },\n",
    "    ],\n",
    "}\n"
   ]
  },
  {
   "cell_type": "code",
   "execution_count": 5,
   "id": "8fa1cc33",
   "metadata": {
    "execution": {
     "iopub.execute_input": "2022-03-09T03:20:26.484653Z",
     "iopub.status.busy": "2022-03-09T03:20:26.484051Z",
     "iopub.status.idle": "2022-03-09T03:20:26.495692Z",
     "shell.execute_reply": "2022-03-09T03:20:26.495204Z"
    },
    "papermill": {
     "duration": 0.028735,
     "end_time": "2022-03-09T03:20:26.495793",
     "exception": false,
     "start_time": "2022-03-09T03:20:26.467058",
     "status": "completed"
    },
    "tags": []
   },
   "outputs": [],
   "source": [
    "# Set this to True if you want to run this template directly\n",
    "STANDALONE = False\n",
    "if STANDALONE:\n",
    "    print(\"parameters not injected, running with standalone_parameters\")\n",
    "    parameters = standalone_parameters\n",
    "\n",
    "if not 'parameters' in locals() and not 'parameters' in globals():\n",
    "    raise Exception(\"Parameter injection failed\")\n",
    "\n",
    "#Use an easy dict for all the parameters\n",
    "p = EasyDict(parameters)\n",
    "\n",
    "supplied_keys = set(p.keys())\n",
    "\n",
    "if  supplied_keys != required_parameters:\n",
    "    print(\"Parameters are incorrect\")\n",
    "    if len(supplied_keys - required_parameters)>0: print(\"Shouldn't have:\", str(supplied_keys - required_parameters))\n",
    "    if len(required_parameters - supplied_keys)>0: print(\"Need to have:\", str(required_parameters - supplied_keys))\n",
    "    raise RuntimeError(\"Parameters are incorrect\")\n",
    "\n"
   ]
  },
  {
   "cell_type": "code",
   "execution_count": 6,
   "id": "3a028d58",
   "metadata": {
    "execution": {
     "iopub.execute_input": "2022-03-09T03:20:26.530847Z",
     "iopub.status.busy": "2022-03-09T03:20:26.530566Z",
     "iopub.status.idle": "2022-03-09T03:20:26.543563Z",
     "shell.execute_reply": "2022-03-09T03:20:26.543101Z"
    },
    "papermill": {
     "duration": 0.028713,
     "end_time": "2022-03-09T03:20:26.543673",
     "exception": false,
     "start_time": "2022-03-09T03:20:26.514960",
     "status": "completed"
    },
    "tags": []
   },
   "outputs": [],
   "source": [
    "###################################\n",
    "# Set the RNGs and make it all deterministic\n",
    "###################################\n",
    "np.random.seed(p.seed)\n",
    "random.seed(p.seed)\n",
    "torch.manual_seed(p.seed)\n",
    "\n",
    "torch.use_deterministic_algorithms(True) "
   ]
  },
  {
   "cell_type": "code",
   "execution_count": 7,
   "id": "b691acf6",
   "metadata": {
    "execution": {
     "iopub.execute_input": "2022-03-09T03:20:26.575131Z",
     "iopub.status.busy": "2022-03-09T03:20:26.574711Z",
     "iopub.status.idle": "2022-03-09T03:20:26.588178Z",
     "shell.execute_reply": "2022-03-09T03:20:26.588597Z"
    },
    "papermill": {
     "duration": 0.029486,
     "end_time": "2022-03-09T03:20:26.588725",
     "exception": false,
     "start_time": "2022-03-09T03:20:26.559239",
     "status": "completed"
    },
    "tags": []
   },
   "outputs": [],
   "source": [
    "###########################################\n",
    "# The stratified datasets honor this\n",
    "###########################################\n",
    "torch.set_default_dtype(eval(p.torch_default_dtype))"
   ]
  },
  {
   "cell_type": "code",
   "execution_count": 8,
   "id": "b5fba671",
   "metadata": {
    "execution": {
     "iopub.execute_input": "2022-03-09T03:20:26.625485Z",
     "iopub.status.busy": "2022-03-09T03:20:26.625229Z",
     "iopub.status.idle": "2022-03-09T03:20:26.668457Z",
     "shell.execute_reply": "2022-03-09T03:20:26.668984Z"
    },
    "papermill": {
     "duration": 0.061349,
     "end_time": "2022-03-09T03:20:26.669131",
     "exception": false,
     "start_time": "2022-03-09T03:20:26.607782",
     "status": "completed"
    },
    "tags": []
   },
   "outputs": [],
   "source": [
    "###################################\n",
    "# Build the network(s)\n",
    "# Note: It's critical to do this AFTER setting the RNG\n",
    "###################################\n",
    "x_net = build_sequential(p.x_net)"
   ]
  },
  {
   "cell_type": "code",
   "execution_count": 9,
   "id": "5d7e61cc",
   "metadata": {
    "execution": {
     "iopub.execute_input": "2022-03-09T03:20:26.706316Z",
     "iopub.status.busy": "2022-03-09T03:20:26.706052Z",
     "iopub.status.idle": "2022-03-09T03:20:26.720198Z",
     "shell.execute_reply": "2022-03-09T03:20:26.720598Z"
    },
    "papermill": {
     "duration": 0.031653,
     "end_time": "2022-03-09T03:20:26.720729",
     "exception": false,
     "start_time": "2022-03-09T03:20:26.689076",
     "status": "completed"
    },
    "tags": []
   },
   "outputs": [],
   "source": [
    "start_time_secs = time.time()"
   ]
  },
  {
   "cell_type": "code",
   "execution_count": 10,
   "id": "c6b67dfd",
   "metadata": {
    "execution": {
     "iopub.execute_input": "2022-03-09T03:20:26.758631Z",
     "iopub.status.busy": "2022-03-09T03:20:26.757826Z",
     "iopub.status.idle": "2022-03-09T03:20:26.772651Z",
     "shell.execute_reply": "2022-03-09T03:20:26.772134Z"
    },
    "papermill": {
     "duration": 0.032038,
     "end_time": "2022-03-09T03:20:26.772786",
     "exception": false,
     "start_time": "2022-03-09T03:20:26.740748",
     "status": "completed"
    },
    "tags": []
   },
   "outputs": [],
   "source": [
    "p.domains_source = []\n",
    "p.domains_target = []\n",
    "\n",
    "\n",
    "train_original_source = []\n",
    "val_original_source   = []\n",
    "test_original_source  = []\n",
    "\n",
    "train_original_target = []\n",
    "val_original_target   = []\n",
    "test_original_target  = []"
   ]
  },
  {
   "cell_type": "code",
   "execution_count": 11,
   "id": "e3d9c3d3",
   "metadata": {
    "execution": {
     "iopub.execute_input": "2022-03-09T03:20:26.806324Z",
     "iopub.status.busy": "2022-03-09T03:20:26.806065Z",
     "iopub.status.idle": "2022-03-09T03:20:26.817508Z",
     "shell.execute_reply": "2022-03-09T03:20:26.817126Z"
    },
    "papermill": {
     "duration": 0.027121,
     "end_time": "2022-03-09T03:20:26.817615",
     "exception": false,
     "start_time": "2022-03-09T03:20:26.790494",
     "status": "completed"
    },
    "tags": []
   },
   "outputs": [],
   "source": [
    "# global_x_transform_func = lambda x: normalize(x.to(torch.get_default_dtype()), \"unit_power\") # unit_power, unit_mag\n",
    "# global_x_transform_func = lambda x: normalize(x, \"unit_power\") # unit_power, unit_mag"
   ]
  },
  {
   "cell_type": "code",
   "execution_count": 12,
   "id": "acb78fd2",
   "metadata": {
    "execution": {
     "iopub.execute_input": "2022-03-09T03:20:26.859073Z",
     "iopub.status.busy": "2022-03-09T03:20:26.858801Z",
     "iopub.status.idle": "2022-03-09T03:20:26.871425Z",
     "shell.execute_reply": "2022-03-09T03:20:26.870966Z"
    },
    "papermill": {
     "duration": 0.034649,
     "end_time": "2022-03-09T03:20:26.871528",
     "exception": false,
     "start_time": "2022-03-09T03:20:26.836879",
     "status": "completed"
    },
    "tags": []
   },
   "outputs": [],
   "source": [
    "def add_dataset(\n",
    "    labels,\n",
    "    domains,\n",
    "    pickle_path,\n",
    "    x_transforms,\n",
    "    episode_transforms,\n",
    "    domain_prefix,\n",
    "    num_examples_per_domain_per_label,\n",
    "    source_or_target_dataset:str,\n",
    "    iterator_seed=p.seed,\n",
    "    dataset_seed=p.dataset_seed,\n",
    "    n_shot=p.n_shot,\n",
    "    n_way=p.n_way,\n",
    "    n_query=p.n_query,\n",
    "    train_val_test_k_factors=(p.train_k_factor,p.val_k_factor,p.test_k_factor),\n",
    "):\n",
    "   \n",
    "    if x_transforms == []: x_transform = None\n",
    "    else: x_transform = get_chained_transform(x_transforms)\n",
    "    \n",
    "    if episode_transforms == []: episode_transform = None\n",
    "    else: raise Exception(\"episode_transforms not implemented\")\n",
    "    \n",
    "    episode_transform = lambda tup, _prefix=domain_prefix: (_prefix + str(tup[0]), tup[1])\n",
    "\n",
    "\n",
    "    eaf = Episodic_Accessor_Factory(\n",
    "        labels=labels,\n",
    "        domains=domains,\n",
    "        num_examples_per_domain_per_label=num_examples_per_domain_per_label,\n",
    "        iterator_seed=iterator_seed,\n",
    "        dataset_seed=dataset_seed,\n",
    "        n_shot=n_shot,\n",
    "        n_way=n_way,\n",
    "        n_query=n_query,\n",
    "        train_val_test_k_factors=train_val_test_k_factors,\n",
    "        pickle_path=pickle_path,\n",
    "        x_transform_func=x_transform,\n",
    "    )\n",
    "\n",
    "    train, val, test = eaf.get_train(), eaf.get_val(), eaf.get_test()\n",
    "    train = Lazy_Iterable_Wrapper(train, episode_transform)\n",
    "    val = Lazy_Iterable_Wrapper(val, episode_transform)\n",
    "    test = Lazy_Iterable_Wrapper(test, episode_transform)\n",
    "\n",
    "    if source_or_target_dataset==\"source\":\n",
    "        train_original_source.append(train)\n",
    "        val_original_source.append(val)\n",
    "        test_original_source.append(test)\n",
    "\n",
    "        p.domains_source.extend(\n",
    "            [domain_prefix + str(u) for u in domains]\n",
    "        )\n",
    "    elif source_or_target_dataset==\"target\":\n",
    "        train_original_target.append(train)\n",
    "        val_original_target.append(val)\n",
    "        test_original_target.append(test)\n",
    "        p.domains_target.extend(\n",
    "            [domain_prefix + str(u) for u in domains]\n",
    "        )\n",
    "    else:\n",
    "        raise Exception(f\"invalid source_or_target_dataset: {source_or_target_dataset}\")\n",
    "    "
   ]
  },
  {
   "cell_type": "code",
   "execution_count": 13,
   "id": "fe266617",
   "metadata": {
    "execution": {
     "iopub.execute_input": "2022-03-09T03:20:26.905897Z",
     "iopub.status.busy": "2022-03-09T03:20:26.905625Z",
     "iopub.status.idle": "2022-03-09T03:20:29.987090Z",
     "shell.execute_reply": "2022-03-09T03:20:29.986520Z"
    },
    "papermill": {
     "duration": 3.097688,
     "end_time": "2022-03-09T03:20:29.987207",
     "exception": false,
     "start_time": "2022-03-09T03:20:26.889519",
     "status": "completed"
    },
    "tags": []
   },
   "outputs": [],
   "source": [
    "for ds in p.datasets:\n",
    "    add_dataset(**ds)"
   ]
  },
  {
   "cell_type": "code",
   "execution_count": 14,
   "id": "b90d65ac",
   "metadata": {
    "execution": {
     "iopub.execute_input": "2022-03-09T03:20:30.023530Z",
     "iopub.status.busy": "2022-03-09T03:20:30.023263Z",
     "iopub.status.idle": "2022-03-09T03:20:30.035345Z",
     "shell.execute_reply": "2022-03-09T03:20:30.034929Z"
    },
    "papermill": {
     "duration": 0.027844,
     "end_time": "2022-03-09T03:20:30.035454",
     "exception": false,
     "start_time": "2022-03-09T03:20:30.007610",
     "status": "completed"
    },
    "tags": []
   },
   "outputs": [],
   "source": [
    "# from steves_utils.CORES.utils import (\n",
    "#     ALL_NODES,\n",
    "#     ALL_NODES_MINIMUM_1000_EXAMPLES,\n",
    "#     ALL_DAYS\n",
    "# )\n",
    "\n",
    "# add_dataset(\n",
    "#     labels=ALL_NODES,\n",
    "#     domains = ALL_DAYS,\n",
    "#     num_examples_per_domain_per_label=100,\n",
    "#     pickle_path=os.path.join(get_datasets_base_path(), \"cores.stratified_ds.2022A.pkl\"),\n",
    "#     source_or_target_dataset=\"target\",\n",
    "#     x_transform_func=global_x_transform_func,\n",
    "#     domain_modifier=lambda u: f\"cores_{u}\"\n",
    "# )"
   ]
  },
  {
   "cell_type": "code",
   "execution_count": 15,
   "id": "76db484d",
   "metadata": {
    "execution": {
     "iopub.execute_input": "2022-03-09T03:20:30.071394Z",
     "iopub.status.busy": "2022-03-09T03:20:30.071123Z",
     "iopub.status.idle": "2022-03-09T03:20:30.083382Z",
     "shell.execute_reply": "2022-03-09T03:20:30.082913Z"
    },
    "papermill": {
     "duration": 0.028676,
     "end_time": "2022-03-09T03:20:30.083490",
     "exception": false,
     "start_time": "2022-03-09T03:20:30.054814",
     "status": "completed"
    },
    "tags": []
   },
   "outputs": [],
   "source": [
    "# from steves_utils.ORACLE.utils_v2 import (\n",
    "#     ALL_DISTANCES_FEET,\n",
    "#     ALL_RUNS,\n",
    "#     ALL_SERIAL_NUMBERS,\n",
    "# )\n",
    "\n",
    "\n",
    "# add_dataset(\n",
    "#     labels=ALL_SERIAL_NUMBERS,\n",
    "#     domains = list(set(ALL_DISTANCES_FEET) - {2,62}),\n",
    "#     num_examples_per_domain_per_label=100,\n",
    "#     pickle_path=os.path.join(get_datasets_base_path(), \"oracle.Run2_framed_2000Examples_stratified_ds.2022A.pkl\"),\n",
    "#     source_or_target_dataset=\"source\",\n",
    "#     x_transform_func=global_x_transform_func,\n",
    "#     domain_modifier=lambda u: f\"oracle1_{u}\"\n",
    "# )\n"
   ]
  },
  {
   "cell_type": "code",
   "execution_count": 16,
   "id": "97dea9d2",
   "metadata": {
    "execution": {
     "iopub.execute_input": "2022-03-09T03:20:30.115494Z",
     "iopub.status.busy": "2022-03-09T03:20:30.115181Z",
     "iopub.status.idle": "2022-03-09T03:20:30.129321Z",
     "shell.execute_reply": "2022-03-09T03:20:30.128899Z"
    },
    "papermill": {
     "duration": 0.029859,
     "end_time": "2022-03-09T03:20:30.129411",
     "exception": false,
     "start_time": "2022-03-09T03:20:30.099552",
     "status": "completed"
    },
    "tags": []
   },
   "outputs": [],
   "source": [
    "# from steves_utils.ORACLE.utils_v2 import (\n",
    "#     ALL_DISTANCES_FEET,\n",
    "#     ALL_RUNS,\n",
    "#     ALL_SERIAL_NUMBERS,\n",
    "# )\n",
    "\n",
    "\n",
    "# add_dataset(\n",
    "#     labels=ALL_SERIAL_NUMBERS,\n",
    "#     domains = list(set(ALL_DISTANCES_FEET) - {2,62,56}),\n",
    "#     num_examples_per_domain_per_label=100,\n",
    "#     pickle_path=os.path.join(get_datasets_base_path(), \"oracle.Run2_framed_2000Examples_stratified_ds.2022A.pkl\"),\n",
    "#     source_or_target_dataset=\"source\",\n",
    "#     x_transform_func=global_x_transform_func,\n",
    "#     domain_modifier=lambda u: f\"oracle2_{u}\"\n",
    "# )"
   ]
  },
  {
   "cell_type": "code",
   "execution_count": 17,
   "id": "6f289866",
   "metadata": {
    "execution": {
     "iopub.execute_input": "2022-03-09T03:20:30.164223Z",
     "iopub.status.busy": "2022-03-09T03:20:30.163696Z",
     "iopub.status.idle": "2022-03-09T03:20:30.174401Z",
     "shell.execute_reply": "2022-03-09T03:20:30.173861Z"
    },
    "papermill": {
     "duration": 0.027843,
     "end_time": "2022-03-09T03:20:30.174509",
     "exception": false,
     "start_time": "2022-03-09T03:20:30.146666",
     "status": "completed"
    },
    "tags": []
   },
   "outputs": [],
   "source": [
    "# add_dataset(\n",
    "#     labels=list(range(19)),\n",
    "#     domains = [0,1,2],\n",
    "#     num_examples_per_domain_per_label=100,\n",
    "#     pickle_path=os.path.join(get_datasets_base_path(), \"metehan.stratified_ds.2022A.pkl\"),\n",
    "#     source_or_target_dataset=\"target\",\n",
    "#     x_transform_func=global_x_transform_func,\n",
    "#     domain_modifier=lambda u: f\"met_{u}\"\n",
    "# )"
   ]
  },
  {
   "cell_type": "code",
   "execution_count": 18,
   "id": "86a863c3",
   "metadata": {
    "execution": {
     "iopub.execute_input": "2022-03-09T03:20:30.212352Z",
     "iopub.status.busy": "2022-03-09T03:20:30.211590Z",
     "iopub.status.idle": "2022-03-09T03:20:30.225375Z",
     "shell.execute_reply": "2022-03-09T03:20:30.225066Z"
    },
    "papermill": {
     "duration": 0.030572,
     "end_time": "2022-03-09T03:20:30.225445",
     "exception": false,
     "start_time": "2022-03-09T03:20:30.194873",
     "status": "completed"
    },
    "tags": []
   },
   "outputs": [],
   "source": [
    "# # from steves_utils.wisig.utils import (\n",
    "# #     ALL_NODES_MINIMUM_100_EXAMPLES,\n",
    "# #     ALL_NODES_MINIMUM_500_EXAMPLES,\n",
    "# #     ALL_NODES_MINIMUM_1000_EXAMPLES,\n",
    "# #     ALL_DAYS\n",
    "# # )\n",
    "\n",
    "# import steves_utils.wisig.utils as wisig\n",
    "\n",
    "\n",
    "# add_dataset(\n",
    "#     labels=wisig.ALL_NODES_MINIMUM_100_EXAMPLES,\n",
    "#     domains = wisig.ALL_DAYS,\n",
    "#     num_examples_per_domain_per_label=100,\n",
    "#     pickle_path=os.path.join(get_datasets_base_path(), \"wisig.node3-19.stratified_ds.2022A.pkl\"),\n",
    "#     source_or_target_dataset=\"target\",\n",
    "#     x_transform_func=global_x_transform_func,\n",
    "#     domain_modifier=lambda u: f\"wisig_{u}\"\n",
    "# )"
   ]
  },
  {
   "cell_type": "code",
   "execution_count": 19,
   "id": "fd5442bc",
   "metadata": {
    "execution": {
     "iopub.execute_input": "2022-03-09T03:20:30.260495Z",
     "iopub.status.busy": "2022-03-09T03:20:30.260227Z",
     "iopub.status.idle": "2022-03-09T03:20:30.273123Z",
     "shell.execute_reply": "2022-03-09T03:20:30.273494Z"
    },
    "papermill": {
     "duration": 0.032197,
     "end_time": "2022-03-09T03:20:30.273597",
     "exception": false,
     "start_time": "2022-03-09T03:20:30.241400",
     "status": "completed"
    },
    "tags": []
   },
   "outputs": [],
   "source": [
    "###################################\n",
    "# Build the dataset\n",
    "###################################\n",
    "train_original_source = Iterable_Aggregator(train_original_source, p.seed)\n",
    "val_original_source = Iterable_Aggregator(val_original_source, p.seed)\n",
    "test_original_source = Iterable_Aggregator(test_original_source, p.seed)\n",
    "\n",
    "\n",
    "train_original_target = Iterable_Aggregator(train_original_target, p.seed)\n",
    "val_original_target = Iterable_Aggregator(val_original_target, p.seed)\n",
    "test_original_target = Iterable_Aggregator(test_original_target, p.seed)\n",
    "\n",
    "# For CNN We only use X and Y. And we only train on the source.\n",
    "# Properly form the data using a transform lambda and Lazy_Iterable_Wrapper. Finally wrap them in a dataloader\n",
    "\n",
    "transform_lambda = lambda ex: ex[1] # Original is (<domain>, <episode>) so we strip down to episode only\n",
    "\n",
    "train_processed_source = Lazy_Iterable_Wrapper(train_original_source, transform_lambda)\n",
    "val_processed_source   = Lazy_Iterable_Wrapper(val_original_source, transform_lambda)\n",
    "test_processed_source  = Lazy_Iterable_Wrapper(test_original_source, transform_lambda)\n",
    "\n",
    "train_processed_target = Lazy_Iterable_Wrapper(train_original_target, transform_lambda)\n",
    "val_processed_target   = Lazy_Iterable_Wrapper(val_original_target, transform_lambda)\n",
    "test_processed_target  = Lazy_Iterable_Wrapper(test_original_target, transform_lambda)\n",
    "\n",
    "datasets = EasyDict({\n",
    "    \"source\": {\n",
    "        \"original\": {\"train\":train_original_source, \"val\":val_original_source, \"test\":test_original_source},\n",
    "        \"processed\": {\"train\":train_processed_source, \"val\":val_processed_source, \"test\":test_processed_source}\n",
    "    },\n",
    "    \"target\": {\n",
    "        \"original\": {\"train\":train_original_target, \"val\":val_original_target, \"test\":test_original_target},\n",
    "        \"processed\": {\"train\":train_processed_target, \"val\":val_processed_target, \"test\":test_processed_target}\n",
    "    },\n",
    "})"
   ]
  },
  {
   "cell_type": "code",
   "execution_count": 20,
   "id": "5b3c01fc",
   "metadata": {
    "execution": {
     "iopub.execute_input": "2022-03-09T03:20:30.310122Z",
     "iopub.status.busy": "2022-03-09T03:20:30.309864Z",
     "iopub.status.idle": "2022-03-09T03:20:38.239346Z",
     "shell.execute_reply": "2022-03-09T03:20:38.240196Z"
    },
    "papermill": {
     "duration": 7.947343,
     "end_time": "2022-03-09T03:20:38.240315",
     "exception": false,
     "start_time": "2022-03-09T03:20:30.292972",
     "status": "completed"
    },
    "tags": []
   },
   "outputs": [
    {
     "name": "stdout",
     "output_type": "stream",
     "text": [
      "{'W_B_3', 'W_A_3', 'C_B_4', 'W_A_4', 'W_C_3', 'C_A_2', 'W_C_4', 'W_A_1', 'W_B_2', 'C_B_5', 'C_B_1', 'W_B_1', 'C_A_1', 'C_A_4', 'C_B_2', 'C_B_3', 'W_B_4', 'W_A_2', 'W_C_1', 'C_A_5', 'C_A_3', 'W_C_2'}\n"
     ]
    },
    {
     "name": "stdout",
     "output_type": "stream",
     "text": [
      "{'ORACLE.run1_20', 'ORACLE.run1_50', 'ORACLE.run1_38', 'ORACLE.run1_14', 'ORACLE.run1_44', 'ORACLE.run1_8', 'ORACLE.run1_26', 'ORACLE.run1_32'}\n"
     ]
    },
    {
     "name": "stdout",
     "output_type": "stream",
     "text": [
      "tensor([[[-0.0113,  0.0044, -0.0217,  ..., -0.0224, -0.0493,  0.0164],\n",
      "         [ 0.0103,  0.0118,  0.0146,  ...,  0.0681, -0.0131, -0.0547]],\n",
      "\n",
      "        [[ 0.0067, -0.0235, -0.0255,  ...,  0.0611, -0.1273, -0.0804],\n",
      "         [-0.0107,  0.0214, -0.0438,  ...,  0.1629,  0.0817, -0.0851]],\n",
      "\n",
      "        [[-0.0107,  0.0140, -0.0542,  ...,  0.1624,  0.1116, -0.0783],\n",
      "         [-0.0103, -0.0030,  0.0406,  ..., -0.0856,  0.1203,  0.1074]],\n",
      "\n",
      "        ...,\n",
      "\n",
      "        [[-0.0189,  0.0268,  0.0612,  ...,  0.0025, -0.0099, -0.0006],\n",
      "         [-0.0369, -0.0348,  0.0104,  ...,  0.0553,  0.0255,  0.0082]],\n",
      "\n",
      "        [[-0.0501, -0.0433,  0.0189,  ...,  0.0599,  0.0367,  0.0124],\n",
      "         [ 0.0070, -0.0464, -0.0271,  ..., -0.0115,  0.0276,  0.0250]],\n",
      "\n",
      "        [[ 0.0415, -0.0241, -0.0726,  ..., -0.0290, -0.0091, -0.0084],\n",
      "         [ 0.0477,  0.0639,  0.0169,  ..., -0.0593, -0.0233, -0.0013]]])\n"
     ]
    }
   ],
   "source": [
    "from steves_utils.transforms import get_average_magnitude, get_average_power\n",
    "\n",
    "print(set([u for u,_ in val_original_source]))\n",
    "print(set([u for u,_ in val_original_target]))\n",
    "\n",
    "s_x, s_y, q_x, q_y, _ = next(iter(train_processed_source))\n",
    "print(s_x)\n",
    "\n",
    "# for ds in [\n",
    "#     train_processed_source,\n",
    "#     val_processed_source,\n",
    "#     test_processed_source,\n",
    "#     train_processed_target,\n",
    "#     val_processed_target,\n",
    "#     test_processed_target\n",
    "# ]:\n",
    "#     for s_x, s_y, q_x, q_y, _ in ds:\n",
    "#         for X in (s_x, q_x):\n",
    "#             for x in X:\n",
    "#                 assert np.isclose(get_average_magnitude(x.numpy()), 1.0)\n",
    "#                 assert np.isclose(get_average_power(x.numpy()), 1.0)\n",
    "                "
   ]
  },
  {
   "cell_type": "code",
   "execution_count": 21,
   "id": "bbdacba1",
   "metadata": {
    "execution": {
     "iopub.execute_input": "2022-03-09T03:20:38.283338Z",
     "iopub.status.busy": "2022-03-09T03:20:38.280724Z",
     "iopub.status.idle": "2022-03-09T03:20:38.366919Z",
     "shell.execute_reply": "2022-03-09T03:20:38.366332Z"
    },
    "papermill": {
     "duration": 0.107475,
     "end_time": "2022-03-09T03:20:38.367033",
     "exception": false,
     "start_time": "2022-03-09T03:20:38.259558",
     "status": "completed"
    },
    "tags": []
   },
   "outputs": [
    {
     "name": "stdout",
     "output_type": "stream",
     "text": [
      "(2, 256)\n"
     ]
    }
   ],
   "source": [
    "###################################\n",
    "# Build the model\n",
    "###################################\n",
    "model = Steves_Prototypical_Network(x_net, device=p.device, x_shape=(2,256))\n",
    "optimizer = Adam(params=model.parameters(), lr=p.lr)"
   ]
  },
  {
   "cell_type": "code",
   "execution_count": 22,
   "id": "22b39ac5",
   "metadata": {
    "execution": {
     "iopub.execute_input": "2022-03-09T03:20:38.406095Z",
     "iopub.status.busy": "2022-03-09T03:20:38.404112Z",
     "iopub.status.idle": "2022-03-09T03:51:05.929513Z",
     "shell.execute_reply": "2022-03-09T03:51:05.929259Z"
    },
    "papermill": {
     "duration": 1827.542017,
     "end_time": "2022-03-09T03:51:05.929576",
     "exception": false,
     "start_time": "2022-03-09T03:20:38.387559",
     "status": "completed"
    },
    "tags": []
   },
   "outputs": [
    {
     "name": "stdout",
     "output_type": "stream",
     "text": [
      "epoch: 1, [batch: 1 / 8327], examples_per_second: 32.6939, train_label_loss: 1.8521, \n"
     ]
    },
    {
     "name": "stdout",
     "output_type": "stream",
     "text": [
      "epoch: 1, [batch: 833 / 8327], examples_per_second: 2985.0088, train_label_loss: 0.2082, \n"
     ]
    },
    {
     "name": "stdout",
     "output_type": "stream",
     "text": [
      "epoch: 1, [batch: 1666 / 8327], examples_per_second: 2915.1071, train_label_loss: 0.0149, \n"
     ]
    },
    {
     "name": "stdout",
     "output_type": "stream",
     "text": [
      "epoch: 1, [batch: 2498 / 8327], examples_per_second: 2945.6407, train_label_loss: 0.0128, \n"
     ]
    },
    {
     "name": "stdout",
     "output_type": "stream",
     "text": [
      "epoch: 1, [batch: 3331 / 8327], examples_per_second: 2934.0875, train_label_loss: 0.0026, \n"
     ]
    },
    {
     "name": "stdout",
     "output_type": "stream",
     "text": [
      "epoch: 1, [batch: 4164 / 8327], examples_per_second: 2968.7248, train_label_loss: 0.2257, \n"
     ]
    },
    {
     "name": "stdout",
     "output_type": "stream",
     "text": [
      "epoch: 1, [batch: 4996 / 8327], examples_per_second: 2974.2041, train_label_loss: 0.0026, \n"
     ]
    },
    {
     "name": "stdout",
     "output_type": "stream",
     "text": [
      "epoch: 1, [batch: 5829 / 8327], examples_per_second: 2987.2906, train_label_loss: 0.1040, \n"
     ]
    },
    {
     "name": "stdout",
     "output_type": "stream",
     "text": [
      "epoch: 1, [batch: 6661 / 8327], examples_per_second: 3001.9897, train_label_loss: 0.0020, \n"
     ]
    },
    {
     "name": "stdout",
     "output_type": "stream",
     "text": [
      "epoch: 1, [batch: 7494 / 8327], examples_per_second: 2868.4850, train_label_loss: 0.3536, \n"
     ]
    },
    {
     "name": "stdout",
     "output_type": "stream",
     "text": [
      "=============================================================\n",
      "epoch: 1, source_val_acc_label: 0.9688, target_val_acc_label: 0.4788, source_val_label_loss: 0.2871, target_val_label_loss: 1.8477, \n",
      "=============================================================\n"
     ]
    },
    {
     "name": "stdout",
     "output_type": "stream",
     "text": [
      "New best\n"
     ]
    },
    {
     "name": "stdout",
     "output_type": "stream",
     "text": [
      "epoch: 2, [batch: 1 / 8319], examples_per_second: 3.3907, train_label_loss: 1.1113, \n"
     ]
    },
    {
     "name": "stdout",
     "output_type": "stream",
     "text": [
      "epoch: 2, [batch: 832 / 8319], examples_per_second: 2882.3461, train_label_loss: 0.0509, \n"
     ]
    },
    {
     "name": "stdout",
     "output_type": "stream",
     "text": [
      "epoch: 2, [batch: 1664 / 8319], examples_per_second: 2882.2407, train_label_loss: 0.2522, \n"
     ]
    },
    {
     "name": "stdout",
     "output_type": "stream",
     "text": [
      "epoch: 2, [batch: 2496 / 8319], examples_per_second: 2954.5404, train_label_loss: 0.0014, \n"
     ]
    },
    {
     "name": "stdout",
     "output_type": "stream",
     "text": [
      "epoch: 2, [batch: 3328 / 8319], examples_per_second: 2919.6982, train_label_loss: 0.0044, \n"
     ]
    },
    {
     "name": "stdout",
     "output_type": "stream",
     "text": [
      "epoch: 2, [batch: 4160 / 8319], examples_per_second: 2872.0606, train_label_loss: 0.3409, \n"
     ]
    },
    {
     "name": "stdout",
     "output_type": "stream",
     "text": [
      "epoch: 2, [batch: 4991 / 8319], examples_per_second: 2895.5981, train_label_loss: 0.0044, \n"
     ]
    },
    {
     "name": "stdout",
     "output_type": "stream",
     "text": [
      "epoch: 2, [batch: 5823 / 8319], examples_per_second: 2911.6268, train_label_loss: 0.0028, \n"
     ]
    },
    {
     "name": "stdout",
     "output_type": "stream",
     "text": [
      "epoch: 2, [batch: 6655 / 8319], examples_per_second: 2988.0796, train_label_loss: 0.1749, \n"
     ]
    },
    {
     "name": "stdout",
     "output_type": "stream",
     "text": [
      "epoch: 2, [batch: 7487 / 8319], examples_per_second: 2976.0677, train_label_loss: 0.0002, \n"
     ]
    },
    {
     "name": "stdout",
     "output_type": "stream",
     "text": [
      "=============================================================\n",
      "epoch: 2, source_val_acc_label: 0.9805, target_val_acc_label: 0.4649, source_val_label_loss: 0.0883, target_val_label_loss: 1.7562, \n",
      "=============================================================\n"
     ]
    },
    {
     "name": "stdout",
     "output_type": "stream",
     "text": [
      "New best\n"
     ]
    },
    {
     "name": "stdout",
     "output_type": "stream",
     "text": [
      "epoch: 3, [batch: 1 / 8311], examples_per_second: 3.4447, train_label_loss: 0.0001, \n"
     ]
    },
    {
     "name": "stdout",
     "output_type": "stream",
     "text": [
      "epoch: 3, [batch: 832 / 8311], examples_per_second: 2974.1119, train_label_loss: 0.1382, \n"
     ]
    },
    {
     "name": "stdout",
     "output_type": "stream",
     "text": [
      "epoch: 3, [batch: 1663 / 8311], examples_per_second: 2980.0527, train_label_loss: 0.1307, \n"
     ]
    },
    {
     "name": "stdout",
     "output_type": "stream",
     "text": [
      "epoch: 3, [batch: 2494 / 8311], examples_per_second: 2976.9066, train_label_loss: 0.8386, \n"
     ]
    },
    {
     "name": "stdout",
     "output_type": "stream",
     "text": [
      "epoch: 3, [batch: 3325 / 8311], examples_per_second: 2888.8656, train_label_loss: 0.0565, \n"
     ]
    },
    {
     "name": "stdout",
     "output_type": "stream",
     "text": [
      "epoch: 3, [batch: 4156 / 8311], examples_per_second: 2931.1652, train_label_loss: 0.0002, \n"
     ]
    },
    {
     "name": "stdout",
     "output_type": "stream",
     "text": [
      "epoch: 3, [batch: 4987 / 8311], examples_per_second: 2938.4301, train_label_loss: 0.4197, \n"
     ]
    },
    {
     "name": "stdout",
     "output_type": "stream",
     "text": [
      "epoch: 3, [batch: 5818 / 8311], examples_per_second: 2958.0288, train_label_loss: 0.0082, \n"
     ]
    },
    {
     "name": "stdout",
     "output_type": "stream",
     "text": [
      "epoch: 3, [batch: 6649 / 8311], examples_per_second: 2977.8437, train_label_loss: 0.0005, \n"
     ]
    },
    {
     "name": "stdout",
     "output_type": "stream",
     "text": [
      "epoch: 3, [batch: 7480 / 8311], examples_per_second: 2950.9511, train_label_loss: 0.0015, \n"
     ]
    },
    {
     "name": "stdout",
     "output_type": "stream",
     "text": [
      "=============================================================\n",
      "epoch: 3, source_val_acc_label: 0.9837, target_val_acc_label: 0.4000, source_val_label_loss: 0.0690, target_val_label_loss: 1.8957, \n",
      "=============================================================\n"
     ]
    },
    {
     "name": "stdout",
     "output_type": "stream",
     "text": [
      "epoch: 4, [batch: 1 / 8322], examples_per_second: 3.4306, train_label_loss: 0.0000, \n"
     ]
    },
    {
     "name": "stdout",
     "output_type": "stream",
     "text": [
      "epoch: 4, [batch: 833 / 8322], examples_per_second: 2968.8095, train_label_loss: 0.0012, \n"
     ]
    },
    {
     "name": "stdout",
     "output_type": "stream",
     "text": [
      "epoch: 4, [batch: 1665 / 8322], examples_per_second: 2917.5706, train_label_loss: 0.0003, \n"
     ]
    },
    {
     "name": "stdout",
     "output_type": "stream",
     "text": [
      "epoch: 4, [batch: 2497 / 8322], examples_per_second: 2986.7575, train_label_loss: 0.0006, \n"
     ]
    },
    {
     "name": "stdout",
     "output_type": "stream",
     "text": [
      "epoch: 4, [batch: 3329 / 8322], examples_per_second: 2960.7346, train_label_loss: 0.2605, \n"
     ]
    },
    {
     "name": "stdout",
     "output_type": "stream",
     "text": [
      "epoch: 4, [batch: 4161 / 8322], examples_per_second: 2971.8799, train_label_loss: 0.0007, \n"
     ]
    },
    {
     "name": "stdout",
     "output_type": "stream",
     "text": [
      "epoch: 4, [batch: 4993 / 8322], examples_per_second: 2969.0808, train_label_loss: 0.0733, \n"
     ]
    },
    {
     "name": "stdout",
     "output_type": "stream",
     "text": [
      "epoch: 4, [batch: 5825 / 8322], examples_per_second: 3019.3333, train_label_loss: 0.0009, \n"
     ]
    },
    {
     "name": "stdout",
     "output_type": "stream",
     "text": [
      "epoch: 4, [batch: 6657 / 8322], examples_per_second: 2985.2034, train_label_loss: 0.0060, \n"
     ]
    },
    {
     "name": "stdout",
     "output_type": "stream",
     "text": [
      "epoch: 4, [batch: 7489 / 8322], examples_per_second: 2957.2267, train_label_loss: 0.0012, \n"
     ]
    },
    {
     "name": "stdout",
     "output_type": "stream",
     "text": [
      "=============================================================\n",
      "epoch: 4, source_val_acc_label: 0.9844, target_val_acc_label: 0.4327, source_val_label_loss: 0.0627, target_val_label_loss: 1.7357, \n",
      "=============================================================\n"
     ]
    },
    {
     "name": "stdout",
     "output_type": "stream",
     "text": [
      "New best\n"
     ]
    },
    {
     "name": "stdout",
     "output_type": "stream",
     "text": [
      "epoch: 5, [batch: 1 / 8321], examples_per_second: 3.4280, train_label_loss: 0.1750, \n"
     ]
    },
    {
     "name": "stdout",
     "output_type": "stream",
     "text": [
      "epoch: 5, [batch: 833 / 8321], examples_per_second: 2986.6175, train_label_loss: 0.0025, \n"
     ]
    },
    {
     "name": "stdout",
     "output_type": "stream",
     "text": [
      "epoch: 5, [batch: 1665 / 8321], examples_per_second: 2806.3159, train_label_loss: 0.0058, \n"
     ]
    },
    {
     "name": "stdout",
     "output_type": "stream",
     "text": [
      "epoch: 5, [batch: 2497 / 8321], examples_per_second: 2926.9942, train_label_loss: 0.0018, \n"
     ]
    },
    {
     "name": "stdout",
     "output_type": "stream",
     "text": [
      "epoch: 5, [batch: 3329 / 8321], examples_per_second: 2904.0435, train_label_loss: 0.0093, \n"
     ]
    },
    {
     "name": "stdout",
     "output_type": "stream",
     "text": [
      "epoch: 5, [batch: 4161 / 8321], examples_per_second: 3000.7088, train_label_loss: 0.0014, \n"
     ]
    },
    {
     "name": "stdout",
     "output_type": "stream",
     "text": [
      "epoch: 5, [batch: 4993 / 8321], examples_per_second: 2886.4785, train_label_loss: 0.0187, \n"
     ]
    },
    {
     "name": "stdout",
     "output_type": "stream",
     "text": [
      "epoch: 5, [batch: 5825 / 8321], examples_per_second: 2957.7060, train_label_loss: 0.0003, \n"
     ]
    },
    {
     "name": "stdout",
     "output_type": "stream",
     "text": [
      "epoch: 5, [batch: 6657 / 8321], examples_per_second: 2912.6546, train_label_loss: 0.0008, \n"
     ]
    },
    {
     "name": "stdout",
     "output_type": "stream",
     "text": [
      "epoch: 5, [batch: 7489 / 8321], examples_per_second: 2960.4610, train_label_loss: 0.0414, \n"
     ]
    },
    {
     "name": "stdout",
     "output_type": "stream",
     "text": [
      "=============================================================\n",
      "epoch: 5, source_val_acc_label: 0.9852, target_val_acc_label: 0.3988, source_val_label_loss: 0.0615, target_val_label_loss: 1.7284, \n",
      "=============================================================\n"
     ]
    },
    {
     "name": "stdout",
     "output_type": "stream",
     "text": [
      "New best\n"
     ]
    },
    {
     "name": "stdout",
     "output_type": "stream",
     "text": [
      "epoch: 6, [batch: 1 / 8316], examples_per_second: 3.3954, train_label_loss: 0.0005, \n"
     ]
    },
    {
     "name": "stdout",
     "output_type": "stream",
     "text": [
      "epoch: 6, [batch: 832 / 8316], examples_per_second: 2982.7230, train_label_loss: 0.0000, \n"
     ]
    },
    {
     "name": "stdout",
     "output_type": "stream",
     "text": [
      "epoch: 6, [batch: 1664 / 8316], examples_per_second: 3012.4600, train_label_loss: 0.0048, \n"
     ]
    },
    {
     "name": "stdout",
     "output_type": "stream",
     "text": [
      "epoch: 6, [batch: 2495 / 8316], examples_per_second: 2999.6013, train_label_loss: 0.0011, \n"
     ]
    },
    {
     "name": "stdout",
     "output_type": "stream",
     "text": [
      "epoch: 6, [batch: 3327 / 8316], examples_per_second: 2965.5799, train_label_loss: 0.1928, \n"
     ]
    },
    {
     "name": "stdout",
     "output_type": "stream",
     "text": [
      "epoch: 6, [batch: 4158 / 8316], examples_per_second: 2941.8293, train_label_loss: 0.2161, \n"
     ]
    },
    {
     "name": "stdout",
     "output_type": "stream",
     "text": [
      "epoch: 6, [batch: 4990 / 8316], examples_per_second: 2923.4973, train_label_loss: 0.0039, \n"
     ]
    },
    {
     "name": "stdout",
     "output_type": "stream",
     "text": [
      "epoch: 6, [batch: 5821 / 8316], examples_per_second: 2959.9788, train_label_loss: 0.0003, \n"
     ]
    },
    {
     "name": "stdout",
     "output_type": "stream",
     "text": [
      "epoch: 6, [batch: 6653 / 8316], examples_per_second: 2928.3917, train_label_loss: 0.0000, \n"
     ]
    },
    {
     "name": "stdout",
     "output_type": "stream",
     "text": [
      "epoch: 6, [batch: 7484 / 8316], examples_per_second: 2916.3943, train_label_loss: 0.0040, \n"
     ]
    },
    {
     "name": "stdout",
     "output_type": "stream",
     "text": [
      "=============================================================\n",
      "epoch: 6, source_val_acc_label: 0.9845, target_val_acc_label: 0.3035, source_val_label_loss: 0.0629, target_val_label_loss: 1.9723, \n",
      "=============================================================\n"
     ]
    },
    {
     "name": "stdout",
     "output_type": "stream",
     "text": [
      "epoch: 7, [batch: 1 / 8330], examples_per_second: 3.4149, train_label_loss: 0.1379, \n"
     ]
    },
    {
     "name": "stdout",
     "output_type": "stream",
     "text": [
      "epoch: 7, [batch: 833 / 8330], examples_per_second: 2941.2392, train_label_loss: 0.0001, \n"
     ]
    },
    {
     "name": "stdout",
     "output_type": "stream",
     "text": [
      "epoch: 7, [batch: 1666 / 8330], examples_per_second: 2945.0821, train_label_loss: 0.0333, \n"
     ]
    },
    {
     "name": "stdout",
     "output_type": "stream",
     "text": [
      "epoch: 7, [batch: 2499 / 8330], examples_per_second: 2947.2197, train_label_loss: 0.0030, \n"
     ]
    },
    {
     "name": "stdout",
     "output_type": "stream",
     "text": [
      "epoch: 7, [batch: 3332 / 8330], examples_per_second: 2956.5332, train_label_loss: 0.0001, \n"
     ]
    },
    {
     "name": "stdout",
     "output_type": "stream",
     "text": [
      "epoch: 7, [batch: 4165 / 8330], examples_per_second: 2946.8956, train_label_loss: 0.0011, \n"
     ]
    },
    {
     "name": "stdout",
     "output_type": "stream",
     "text": [
      "epoch: 7, [batch: 4998 / 8330], examples_per_second: 2944.2195, train_label_loss: 0.0004, \n"
     ]
    },
    {
     "name": "stdout",
     "output_type": "stream",
     "text": [
      "epoch: 7, [batch: 5831 / 8330], examples_per_second: 2979.9761, train_label_loss: 0.0000, \n"
     ]
    },
    {
     "name": "stdout",
     "output_type": "stream",
     "text": [
      "epoch: 7, [batch: 6664 / 8330], examples_per_second: 2996.7498, train_label_loss: 0.0003, \n"
     ]
    },
    {
     "name": "stdout",
     "output_type": "stream",
     "text": [
      "epoch: 7, [batch: 7497 / 8330], examples_per_second: 2949.8548, train_label_loss: 0.0017, \n"
     ]
    },
    {
     "name": "stdout",
     "output_type": "stream",
     "text": [
      "=============================================================\n",
      "epoch: 7, source_val_acc_label: 0.9862, target_val_acc_label: 0.2942, source_val_label_loss: 0.0627, target_val_label_loss: 2.0034, \n",
      "=============================================================\n"
     ]
    },
    {
     "name": "stdout",
     "output_type": "stream",
     "text": [
      "epoch: 8, [batch: 1 / 8329], examples_per_second: 3.4251, train_label_loss: 0.1543, \n"
     ]
    },
    {
     "name": "stdout",
     "output_type": "stream",
     "text": [
      "epoch: 8, [batch: 833 / 8329], examples_per_second: 2975.1204, train_label_loss: 0.1989, \n"
     ]
    },
    {
     "name": "stdout",
     "output_type": "stream",
     "text": [
      "epoch: 8, [batch: 1666 / 8329], examples_per_second: 2952.6280, train_label_loss: 0.0864, \n"
     ]
    },
    {
     "name": "stdout",
     "output_type": "stream",
     "text": [
      "epoch: 8, [batch: 2499 / 8329], examples_per_second: 2958.1613, train_label_loss: 0.0015, \n"
     ]
    },
    {
     "name": "stdout",
     "output_type": "stream",
     "text": [
      "epoch: 8, [batch: 3332 / 8329], examples_per_second: 2899.8143, train_label_loss: 0.0007, \n"
     ]
    },
    {
     "name": "stdout",
     "output_type": "stream",
     "text": [
      "epoch: 8, [batch: 4165 / 8329], examples_per_second: 2972.6274, train_label_loss: 0.0000, \n"
     ]
    },
    {
     "name": "stdout",
     "output_type": "stream",
     "text": [
      "epoch: 8, [batch: 4997 / 8329], examples_per_second: 2935.5684, train_label_loss: 0.0002, \n"
     ]
    },
    {
     "name": "stdout",
     "output_type": "stream",
     "text": [
      "epoch: 8, [batch: 5830 / 8329], examples_per_second: 2919.8000, train_label_loss: 0.0003, \n"
     ]
    },
    {
     "name": "stdout",
     "output_type": "stream",
     "text": [
      "epoch: 8, [batch: 6663 / 8329], examples_per_second: 2968.4154, train_label_loss: 0.0151, \n"
     ]
    },
    {
     "name": "stdout",
     "output_type": "stream",
     "text": [
      "epoch: 8, [batch: 7496 / 8329], examples_per_second: 2975.3250, train_label_loss: 0.0020, \n"
     ]
    },
    {
     "name": "stdout",
     "output_type": "stream",
     "text": [
      "=============================================================\n",
      "epoch: 8, source_val_acc_label: 0.9845, target_val_acc_label: 0.2281, source_val_label_loss: 0.0681, target_val_label_loss: 2.4625, \n",
      "=============================================================\n"
     ]
    },
    {
     "name": "stdout",
     "output_type": "stream",
     "text": [
      "epoch: 9, [batch: 1 / 8312], examples_per_second: 3.4295, train_label_loss: 0.1114, \n"
     ]
    },
    {
     "name": "stdout",
     "output_type": "stream",
     "text": [
      "epoch: 9, [batch: 832 / 8312], examples_per_second: 2949.5943, train_label_loss: 0.0300, \n"
     ]
    },
    {
     "name": "stdout",
     "output_type": "stream",
     "text": [
      "epoch: 9, [batch: 1663 / 8312], examples_per_second: 2981.2613, train_label_loss: 0.1117, \n"
     ]
    },
    {
     "name": "stdout",
     "output_type": "stream",
     "text": [
      "epoch: 9, [batch: 2494 / 8312], examples_per_second: 2969.2843, train_label_loss: 0.1336, \n"
     ]
    },
    {
     "name": "stdout",
     "output_type": "stream",
     "text": [
      "epoch: 9, [batch: 3325 / 8312], examples_per_second: 2962.1169, train_label_loss: 0.0001, \n"
     ]
    },
    {
     "name": "stdout",
     "output_type": "stream",
     "text": [
      "epoch: 9, [batch: 4156 / 8312], examples_per_second: 2944.1272, train_label_loss: 0.0000, \n"
     ]
    },
    {
     "name": "stdout",
     "output_type": "stream",
     "text": [
      "epoch: 9, [batch: 4987 / 8312], examples_per_second: 2953.9343, train_label_loss: 0.0352, \n"
     ]
    },
    {
     "name": "stdout",
     "output_type": "stream",
     "text": [
      "epoch: 9, [batch: 5818 / 8312], examples_per_second: 2981.8893, train_label_loss: 0.0002, \n"
     ]
    },
    {
     "name": "stdout",
     "output_type": "stream",
     "text": [
      "epoch: 9, [batch: 6649 / 8312], examples_per_second: 2988.5959, train_label_loss: 0.0000, \n"
     ]
    },
    {
     "name": "stdout",
     "output_type": "stream",
     "text": [
      "epoch: 9, [batch: 7480 / 8312], examples_per_second: 2859.6500, train_label_loss: 0.0000, \n"
     ]
    },
    {
     "name": "stdout",
     "output_type": "stream",
     "text": [
      "=============================================================\n",
      "epoch: 9, source_val_acc_label: 0.9851, target_val_acc_label: 0.2174, source_val_label_loss: 0.0680, target_val_label_loss: 2.7536, \n",
      "=============================================================\n"
     ]
    },
    {
     "name": "stdout",
     "output_type": "stream",
     "text": [
      "Patience (3) exhausted\n"
     ]
    }
   ],
   "source": [
    "###################################\n",
    "# train\n",
    "###################################\n",
    "jig = PTN_Train_Eval_Test_Jig(model, p.BEST_MODEL_PATH, p.device)\n",
    "\n",
    "jig.train(\n",
    "    train_iterable=datasets.source.processed.train,\n",
    "    source_val_iterable=datasets.source.processed.val,\n",
    "    target_val_iterable=datasets.target.processed.val,\n",
    "    num_epochs=p.n_epoch,\n",
    "    num_logs_per_epoch=p.NUM_LOGS_PER_EPOCH,\n",
    "    patience=p.patience,\n",
    "    optimizer=optimizer,\n",
    "    criteria_for_best=p.criteria_for_best,\n",
    ")"
   ]
  },
  {
   "cell_type": "code",
   "execution_count": 23,
   "id": "31e8fabf",
   "metadata": {
    "execution": {
     "iopub.execute_input": "2022-03-09T03:51:06.005478Z",
     "iopub.status.busy": "2022-03-09T03:51:06.005202Z",
     "iopub.status.idle": "2022-03-09T03:51:06.022075Z",
     "shell.execute_reply": "2022-03-09T03:51:06.021724Z"
    },
    "papermill": {
     "duration": 0.055776,
     "end_time": "2022-03-09T03:51:06.022175",
     "exception": false,
     "start_time": "2022-03-09T03:51:05.966399",
     "status": "completed"
    },
    "tags": []
   },
   "outputs": [],
   "source": [
    "total_experiment_time_secs = time.time() - start_time_secs"
   ]
  },
  {
   "cell_type": "code",
   "execution_count": 24,
   "id": "87b9595b",
   "metadata": {
    "execution": {
     "iopub.execute_input": "2022-03-09T03:51:06.102076Z",
     "iopub.status.busy": "2022-03-09T03:51:06.101801Z",
     "iopub.status.idle": "2022-03-09T03:53:09.959635Z",
     "shell.execute_reply": "2022-03-09T03:53:09.960067Z"
    },
    "papermill": {
     "duration": 123.897709,
     "end_time": "2022-03-09T03:53:09.960206",
     "exception": false,
     "start_time": "2022-03-09T03:51:06.062497",
     "status": "completed"
    },
    "tags": []
   },
   "outputs": [],
   "source": [
    "###################################\n",
    "# Evaluate the model\n",
    "###################################\n",
    "source_test_label_accuracy, source_test_label_loss = jig.test(datasets.source.processed.test)\n",
    "target_test_label_accuracy, target_test_label_loss = jig.test(datasets.target.processed.test)\n",
    "\n",
    "source_val_label_accuracy, source_val_label_loss = jig.test(datasets.source.processed.val)\n",
    "target_val_label_accuracy, target_val_label_loss = jig.test(datasets.target.processed.val)\n",
    "\n",
    "history = jig.get_history()\n",
    "\n",
    "total_epochs_trained = len(history[\"epoch_indices\"])\n",
    "\n",
    "val_dl = Iterable_Aggregator((datasets.source.original.val,datasets.target.original.val))\n",
    "\n",
    "confusion = ptn_confusion_by_domain_over_dataloader(model, p.device, val_dl)\n",
    "per_domain_accuracy = per_domain_accuracy_from_confusion(confusion)\n",
    "\n",
    "# Add a key to per_domain_accuracy for if it was a source domain\n",
    "for domain, accuracy in per_domain_accuracy.items():\n",
    "    per_domain_accuracy[domain] = {\n",
    "        \"accuracy\": accuracy,\n",
    "        \"source?\": domain in p.domains_source\n",
    "    }\n",
    "\n",
    "# Do an independent accuracy assesment JUST TO BE SURE!\n",
    "# _source_test_label_accuracy = independent_accuracy_assesment(model, datasets.source.processed.test, p.device)\n",
    "# _target_test_label_accuracy = independent_accuracy_assesment(model, datasets.target.processed.test, p.device)\n",
    "# _source_val_label_accuracy = independent_accuracy_assesment(model, datasets.source.processed.val, p.device)\n",
    "# _target_val_label_accuracy = independent_accuracy_assesment(model, datasets.target.processed.val, p.device)\n",
    "\n",
    "# assert(_source_test_label_accuracy == source_test_label_accuracy)\n",
    "# assert(_target_test_label_accuracy == target_test_label_accuracy)\n",
    "# assert(_source_val_label_accuracy == source_val_label_accuracy)\n",
    "# assert(_target_val_label_accuracy == target_val_label_accuracy)\n",
    "\n",
    "experiment = {\n",
    "    \"experiment_name\": p.experiment_name,\n",
    "    \"parameters\": dict(p),\n",
    "    \"results\": {\n",
    "        \"source_test_label_accuracy\": source_test_label_accuracy,\n",
    "        \"source_test_label_loss\": source_test_label_loss,\n",
    "        \"target_test_label_accuracy\": target_test_label_accuracy,\n",
    "        \"target_test_label_loss\": target_test_label_loss,\n",
    "        \"source_val_label_accuracy\": source_val_label_accuracy,\n",
    "        \"source_val_label_loss\": source_val_label_loss,\n",
    "        \"target_val_label_accuracy\": target_val_label_accuracy,\n",
    "        \"target_val_label_loss\": target_val_label_loss,\n",
    "        \"total_epochs_trained\": total_epochs_trained,\n",
    "        \"total_experiment_time_secs\": total_experiment_time_secs,\n",
    "        \"confusion\": confusion,\n",
    "        \"per_domain_accuracy\": per_domain_accuracy,\n",
    "    },\n",
    "    \"history\": history,\n",
    "    \"dataset_metrics\": get_dataset_metrics(datasets, \"ptn\"),\n",
    "}"
   ]
  },
  {
   "cell_type": "code",
   "execution_count": 25,
   "id": "54a21829",
   "metadata": {
    "execution": {
     "iopub.execute_input": "2022-03-09T03:53:10.034720Z",
     "iopub.status.busy": "2022-03-09T03:53:10.034455Z",
     "iopub.status.idle": "2022-03-09T03:53:10.229554Z",
     "shell.execute_reply": "2022-03-09T03:53:10.229972Z"
    },
    "papermill": {
     "duration": 0.231439,
     "end_time": "2022-03-09T03:53:10.230099",
     "exception": false,
     "start_time": "2022-03-09T03:53:09.998660",
     "status": "completed"
    },
    "tags": []
   },
   "outputs": [
    {
     "data": {
      "image/png": "[encoded data removed]",
      "text/plain": [
       "<Figure size 1080x504 with 1 Axes>"
      ]
     },
     "metadata": {
      "needs_background": "light"
     },
     "output_type": "display_data"
    }
   ],
   "source": [
    "ax = get_loss_curve(experiment)\n",
    "plt.show()"
   ]
  },
  {
   "cell_type": "code",
   "execution_count": 26,
   "id": "fd8a0f60",
   "metadata": {
    "execution": {
     "iopub.execute_input": "2022-03-09T03:53:10.306756Z",
     "iopub.status.busy": "2022-03-09T03:53:10.305820Z",
     "iopub.status.idle": "2022-03-09T03:53:10.493324Z",
     "shell.execute_reply": "2022-03-09T03:53:10.493736Z"
    },
    "papermill": {
     "duration": 0.22317,
     "end_time": "2022-03-09T03:53:10.493864",
     "exception": false,
     "start_time": "2022-03-09T03:53:10.270694",
     "status": "completed"
    },
    "tags": []
   },
   "outputs": [
    {
     "data": {
      "text/plain": [
       "<matplotlib.axes._subplots.AxesSubplot at 0x7f0233fdeb20>"
      ]
     },
     "execution_count": 26,
     "metadata": {},
     "output_type": "execute_result"
    },
    {
     "data": {
      "image/png": "[encoded data removed]",
      "text/plain": [
       "<Figure size 1080x504 with 1 Axes>"
      ]
     },
     "metadata": {
      "needs_background": "light"
     },
     "output_type": "display_data"
    }
   ],
   "source": [
    "get_results_table(experiment)"
   ]
  },
  {
   "cell_type": "code",
   "execution_count": 27,
   "id": "cf8dc689",
   "metadata": {
    "execution": {
     "iopub.execute_input": "2022-03-09T03:53:10.573661Z",
     "iopub.status.busy": "2022-03-09T03:53:10.572809Z",
     "iopub.status.idle": "2022-03-09T03:53:10.834462Z",
     "shell.execute_reply": "2022-03-09T03:53:10.834897Z"
    },
    "papermill": {
     "duration": 0.300425,
     "end_time": "2022-03-09T03:53:10.835027",
     "exception": false,
     "start_time": "2022-03-09T03:53:10.534602",
     "status": "completed"
    },
    "tags": []
   },
   "outputs": [
    {
     "data": {
      "text/plain": [
       "<matplotlib.axes._subplots.AxesSubplot at 0x7f0233e490d0>"
      ]
     },
     "execution_count": 27,
     "metadata": {},
     "output_type": "execute_result"
    },
    {
     "data": {
      "image/png": "[encoded data removed]",
      "text/plain": [
       "<Figure size 1080x504 with 1 Axes>"
      ]
     },
     "metadata": {
      "needs_background": "light"
     },
     "output_type": "display_data"
    }
   ],
   "source": [
    "get_domain_accuracies(experiment)"
   ]
  },
  {
   "cell_type": "code",
   "execution_count": 28,
   "id": "a74ae082",
   "metadata": {
    "execution": {
     "iopub.execute_input": "2022-03-09T03:53:10.915631Z",
     "iopub.status.busy": "2022-03-09T03:53:10.915373Z",
     "iopub.status.idle": "2022-03-09T03:53:10.928855Z",
     "shell.execute_reply": "2022-03-09T03:53:10.929066Z"
    },
    "papermill": {
     "duration": 0.05327,
     "end_time": "2022-03-09T03:53:10.929141",
     "exception": false,
     "start_time": "2022-03-09T03:53:10.875871",
     "status": "completed"
    },
    "tags": []
   },
   "outputs": [
    {
     "name": "stdout",
     "output_type": "stream",
     "text": [
      "Source Test Label Accuracy: 0.9853939313281874 Target Test Label Accuracy: 0.39231453599781\n",
      "Source Val Label Accuracy: 0.9851943039659302 Target Val Label Accuracy: 0.3988160416096359\n"
     ]
    }
   ],
   "source": [
    "print(\"Source Test Label Accuracy:\", experiment[\"results\"][\"source_test_label_accuracy\"], \"Target Test Label Accuracy:\", experiment[\"results\"][\"target_test_label_accuracy\"])\n",
    "print(\"Source Val Label Accuracy:\", experiment[\"results\"][\"source_val_label_accuracy\"], \"Target Val Label Accuracy:\", experiment[\"results\"][\"target_val_label_accuracy\"])"
   ]
  },
  {
   "cell_type": "code",
   "execution_count": 29,
   "id": "dacca602",
   "metadata": {
    "execution": {
     "iopub.execute_input": "2022-03-09T03:53:11.004602Z",
     "iopub.status.busy": "2022-03-09T03:53:11.004347Z",
     "iopub.status.idle": "2022-03-09T03:53:11.020199Z",
     "shell.execute_reply": "2022-03-09T03:53:11.020676Z"
    },
    "papermill": {
     "duration": 0.055136,
     "end_time": "2022-03-09T03:53:11.020814",
     "exception": false,
     "start_time": "2022-03-09T03:53:10.965678",
     "status": "completed"
    },
    "tags": [
     "experiment_json"
    ]
   },
   "outputs": [
    {
     "data": {
      "text/plain": [
       "'{\"experiment_name\": \"tl_2_cores_wisig-oracle.run1\", \"parameters\": {\"experiment_name\": \"tl_2_cores_wisig-oracle.run1\", \"device\": \"cuda\", \"lr\": 0.001, \"seed\": 1337, \"dataset_seed\": 1337, \"n_shot\": 3, \"n_query\": 2, \"train_k_factor\": 3, \"val_k_factor\": 2, \"test_k_factor\": 2, \"torch_default_dtype\": \"torch.float32\", \"n_epoch\": 50, \"patience\": 3, \"criteria_for_best\": \"target_loss\", \"x_net\": [{\"class\": \"nnReshape\", \"kargs\": {\"shape\": [-1, 1, 2, 256]}}, {\"class\": \"Conv2d\", \"kargs\": {\"in_channels\": 1, \"out_channels\": 256, \"kernel_size\": [1, 7], \"bias\": false, \"padding\": [0, 3]}}, {\"class\": \"ReLU\", \"kargs\": {\"inplace\": true}}, {\"class\": \"BatchNorm2d\", \"kargs\": {\"num_features\": 256}}, {\"class\": \"Conv2d\", \"kargs\": {\"in_channels\": 256, \"out_channels\": 80, \"kernel_size\": [2, 7], \"bias\": true, \"padding\": [0, 3]}}, {\"class\": \"ReLU\", \"kargs\": {\"inplace\": true}}, {\"class\": \"BatchNorm2d\", \"kargs\": {\"num_features\": 80}}, {\"class\": \"Flatten\", \"kargs\": {}}, {\"class\": \"Linear\", \"kargs\": {\"in_features\": 20480, \"out_features\": 256}}, {\"class\": \"ReLU\", \"kargs\": {\"inplace\": true}}, {\"class\": \"BatchNorm1d\", \"kargs\": {\"num_features\": 256}}, {\"class\": \"Linear\", \"kargs\": {\"in_features\": 256, \"out_features\": 256}}], \"NUM_LOGS_PER_EPOCH\": 10, \"BEST_MODEL_PATH\": \"./best_model.pth\", \"n_way\": 13, \"datasets\": [{\"labels\": [\"11-20.\", \"2-3.\", \"7-10.\", \"14-10.\", \"19-16.\", \"1-19.\", \"1-15.\", \"11-7.\", \"11-14.\", \"1-17.\", \"4-19.\", \"17-10.\", \"8-18.\", \"2-11.\", \"2-20.\", \"14-14.\", \"8-8.\", \"1-16.\", \"2-8.\", \"3-3.\", \"4-11.\", \"2-18.\", \"4-10.\", \"1-11.\", \"11-17.\", \"2-17.\", \"19-3.\", \"2-7.\", \"1-10.\", \"2-4.\", \"10-4.\", \"1-18.\", \"2-5.\", \"16-1.\", \"17-2.\", \"13-20.\", \"19-20.\", \"14-11.\", \"2-10.\", \"3-18.\"], \"domains\": [1, 2, 3, 4, 5], \"num_examples_per_domain_per_label\": 100, \"pickle_path\": \"/mnt/wd500GB/CSC500/csc500-main/datasets/cores.stratified_ds.2022A.pkl\", \"source_or_target_dataset\": \"source\", \"x_transforms\": [], \"episode_transforms\": [], \"domain_prefix\": \"C_A_\"}, {\"labels\": [\"10-7.\", \"11-1.\", \"13-8.\", \"14-7.\", \"15-1.\", \"15-20.\", \"16-16.\", \"17-11.\", \"19-1.\", \"19-19.\", \"2-6.\", \"3-13.\", \"4-1.\", \"5-5.\", \"6-15.\", \"7-14.\", \"8-20.\", \"8-3.\"], \"domains\": [1, 2, 3, 4, 5], \"num_examples_per_domain_per_label\": 1000, \"pickle_path\": \"/mnt/wd500GB/CSC500/csc500-main/datasets/cores.stratified_ds.2022A.pkl\", \"source_or_target_dataset\": \"source\", \"x_transforms\": [], \"episode_transforms\": [], \"domain_prefix\": \"C_B_\"}, {\"labels\": [\"2-1\", \"19-7\", \"14-9\", \"20-3\", \"16-19\", \"20-14\", \"6-1\", \"19-6\", \"13-19\", \"2-7\", \"17-10\", \"18-14\", \"13-20\", \"2-15\", \"11-20\", \"3-1\", \"18-12\", \"18-2\", \"9-7\", \"18-17\", \"19-11\", \"7-12\", \"20-16\", \"6-6\", \"7-9\", \"19-15\", \"14-20\", \"19-14\", \"20-8\", \"19-12\", \"19-4\", \"18-4\", \"3-8\", \"2-4\", \"2-5\", \"13-3\", \"19-9\", \"7-13\", \"14-19\", \"18-16\", \"7-8\", \"18-1\", \"13-7\", \"18-9\", \"20-4\", \"15-6\", \"2-3\", \"10-4\", \"18-8\", \"15-19\", \"18-20\", \"19-13\", \"2-13\", \"3-13\", \"9-1\", \"14-13\", \"18-13\", \"16-20\", \"19-8\", \"19-10\", \"8-14\", \"18-10\", \"12-19\", \"18-15\", \"1-14\", \"18-7\", \"1-8\", \"12-7\", \"18-19\", \"13-18\", \"20-5\", \"18-5\", \"20-18\", \"14-8\", \"18-11\", \"14-14\", \"13-14\", \"8-1\", \"14-12\", \"19-3\", \"3-2\", \"2-8\", \"11-19\"], \"domains\": [1, 2, 3, 4], \"num_examples_per_domain_per_label\": 100, \"pickle_path\": \"/mnt/wd500GB/CSC500/csc500-main/datasets/wisig.node3-19.stratified_ds.2022A.pkl\", \"source_or_target_dataset\": \"source\", \"x_transforms\": [], \"episode_transforms\": [], \"domain_prefix\": \"W_A_\"}, {\"labels\": [\"20-20\", \"19-1\", \"20-1\", \"5-1\", \"19-20\", \"19-2\", \"4-1\", \"1-12\", \"7-10\", \"1-18\", \"4-11\", \"8-13\", \"5-5\", \"10-7\", \"11-4\", \"11-1\", \"17-11\", \"4-10\", \"7-14\", \"1-19\", \"7-11\", \"11-10\", \"7-7\", \"8-8\", \"19-19\", \"10-11\", \"1-16\", \"20-12\", \"2-6\", \"11-7\", \"14-11\", \"1-10\", \"16-1\", \"20-7\"], \"domains\": [1, 2, 3, 4], \"num_examples_per_domain_per_label\": 500, \"pickle_path\": \"/mnt/wd500GB/CSC500/csc500-main/datasets/wisig.node3-19.stratified_ds.2022A.pkl\", \"source_or_target_dataset\": \"source\", \"x_transforms\": [], \"episode_transforms\": [], \"domain_prefix\": \"W_B_\"}, {\"labels\": [\"10-17\", \"12-20\", \"14-10\", \"14-7\", \"15-1\", \"16-16\", \"20-15\", \"20-19\", \"3-18\", \"6-15\", \"8-18\", \"8-20\", \"8-3\"], \"domains\": [1, 2, 3, 4], \"num_examples_per_domain_per_label\": 1000, \"pickle_path\": \"/mnt/wd500GB/CSC500/csc500-main/datasets/wisig.node3-19.stratified_ds.2022A.pkl\", \"source_or_target_dataset\": \"source\", \"x_transforms\": [], \"episode_transforms\": [], \"domain_prefix\": \"W_C_\"}, {\"labels\": [\"3123D52\", \"3123D65\", \"3123D79\", \"3123D80\", \"3123D54\", \"3123D70\", \"3123D7B\", \"3123D89\", \"3123D58\", \"3123D76\", \"3123D7D\", \"3123EFE\", \"3123D64\", \"3123D78\", \"3123D7E\", \"3124E4A\"], \"domains\": [32, 38, 8, 44, 14, 50, 20, 26], \"num_examples_per_domain_per_label\": 2000, \"pickle_path\": \"/mnt/wd500GB/CSC500/csc500-main/datasets/oracle.Run1_framed_2000Examples_stratified_ds.2022A.pkl\", \"source_or_target_dataset\": \"target\", \"x_transforms\": [], \"episode_transforms\": [], \"domain_prefix\": \"ORACLE.run1_\"}], \"domains_source\": [\"C_A_1\", \"C_A_2\", \"C_A_3\", \"C_A_4\", \"C_A_5\", \"C_B_1\", \"C_B_2\", \"C_B_3\", \"C_B_4\", \"C_B_5\", \"W_A_1\", \"W_A_2\", \"W_A_3\", \"W_A_4\", \"W_B_1\", \"W_B_2\", \"W_B_3\", \"W_B_4\", \"W_C_1\", \"W_C_2\", \"W_C_3\", \"W_C_4\"], \"domains_target\": [\"ORACLE.run1_32\", \"ORACLE.run1_38\", \"ORACLE.run1_8\", \"ORACLE.run1_44\", \"ORACLE.run1_14\", \"ORACLE.run1_50\", \"ORACLE.run1_20\", \"ORACLE.run1_26\"]}, \"results\": {\"source_test_label_accuracy\": 0.9853939313281874, \"source_test_label_loss\": 0.06116941198706627, \"target_test_label_accuracy\": 0.39231453599781, \"target_test_label_loss\": 1.7331629991531372, \"source_val_label_accuracy\": 0.9851943039659302, \"source_val_label_loss\": 0.0614895224571228, \"target_val_label_accuracy\": 0.3988160416096359, \"target_val_label_loss\": 1.7283974885940552, \"total_epochs_trained\": 9, \"total_experiment_time_secs\": 1839.301940202713, \"confusion\": {\"W_A_3\": {\"8\": {\"8\": 12}, \"32\": {\"32\": 12}, \"50\": {\"50\": 12}, \"24\": {\"24\": 12}, \"38\": {\"38\": 12}, \"5\": {\"5\": 12}, \"58\": {\"58\": 12}, \"4\": {\"4\": 12}, \"56\": {\"56\": 12}, \"14\": {\"14\": 12}, \"65\": {\"65\": 12}, \"15\": {\"15\": 8}, \"78\": {\"78\": 12}, \"31\": {\"31\": 12}, \"61\": {\"61\": 12}, \"80\": {\"80\": 12}, \"60\": {\"60\": 12}, \"12\": {\"12\": 12}, \"2\": {\"2\": 12}, \"62\": {\"62\": 9, \"60\": 1, \"46\": 1, \"64\": 1}, \"20\": {\"20\": 12}, \"25\": {\"25\": 11, \"68\": 1}, \"49\": {\"49\": 10, \"47\": 1, \"29\": 1}, \"3\": {\"3\": 12}, \"51\": {\"51\": 12}, \"43\": {\"43\": 11, \"46\": 1}, \"75\": {\"75\": 12}, \"34\": {\"34\": 10}, \"73\": {\"73\": 12}, \"71\": {\"71\": 12}, \"39\": {\"39\": 10}, \"10\": {\"10\": 11, \"14\": 1}, \"1\": {\"1\": 12}, \"7\": {\"7\": 12}, \"69\": {\"2\": 1, \"69\": 9, \"0\": 1, \"26\": 1}, \"52\": {\"52\": 10}, \"30\": {\"30\": 12}, \"59\": {\"59\": 12}, \"68\": {\"68\": 12}, \"13\": {\"13\": 12}, \"76\": {\"76\": 12}, \"36\": {\"36\": 10}, \"55\": {\"55\": 12}, \"41\": {\"41\": 10}, \"48\": {\"48\": 12}, \"0\": {\"0\": 10, \"62\": 1, \"27\": 1}, \"37\": {\"37\": 12}, \"22\": {\"22\": 12}, \"35\": {\"35\": 8}, \"53\": {\"53\": 12}, \"79\": {\"79\": 12}, \"23\": {\"23\": 12}, \"29\": {\"29\": 11, \"46\": 1}, \"44\": {\"44\": 10}, \"28\": {\"28\": 12}, \"72\": {\"72\": 12}, \"77\": {\"77\": 11, \"69\": 1}, \"16\": {\"16\": 12}, \"81\": {\"81\": 12}, \"54\": {\"54\": 8, \"55\": 2, \"4\": 2}, \"67\": {\"67\": 12}, \"74\": {\"74\": 12}, \"33\": {\"33\": 12}, \"40\": {\"40\": 12}, \"45\": {\"45\": 8}, \"70\": {\"70\": 12}, \"64\": {\"64\": 12}, \"9\": {\"9\": 8}, \"66\": {\"66\": 9, \"65\": 3}, \"47\": {\"47\": 12}, \"27\": {\"27\": 12}, \"21\": {\"21\": 12}, \"11\": {\"16\": 1, \"11\": 11}, \"6\": {\"6\": 12}, \"82\": {\"82\": 8, \"29\": 1, \"11\": 1, \"47\": 1, \"50\": 1}, \"18\": {\"18\": 12}, \"57\": {\"57\": 12}, \"63\": {\"63\": 12}, \"42\": {\"42\": 10}, \"19\": {\"19\": 11, \"63\": 1}, \"26\": {\"26\": 10}, \"17\": {\"17\": 12}, \"46\": {\"46\": 10}}, \"W_A_1\": {\"10\": {\"10\": 12}, \"29\": {\"29\": 7, \"27\": 1}, \"35\": {\"35\": 12}, \"25\": {\"25\": 11, \"41\": 1}, \"61\": {\"61\": 12}, \"46\": {\"46\": 12}, \"27\": {\"27\": 10, \"41\": 1, \"63\": 1}, \"7\": {\"7\": 12}, \"43\": {\"43\": 12}, \"42\": {\"42\": 12}, \"1\": {\"1\": 12}, \"75\": {\"75\": 12}, \"6\": {\"6\": 12}, \"11\": {\"11\": 12}, \"5\": {\"5\": 12}, \"51\": {\"51\": 12}, \"80\": {\"80\": 12}, \"12\": {\"12\": 7, \"21\": 1}, \"63\": {\"63\": 12}, \"74\": {\"74\": 12}, \"13\": {\"13\": 10}, \"34\": {\"34\": 12}, \"24\": {\"24\": 12}, \"47\": {\"47\": 12}, \"39\": {\"39\": 12}, \"64\": {\"64\": 12}, \"72\": {\"72\": 12}, \"79\": {\"79\": 12}, \"33\": {\"33\": 12}, \"19\": {\"19\": 12}, \"59\": {\"59\": 12}, \"78\": {\"78\": 12}, \"50\": {\"50\": 12}, \"70\": {\"70\": 12}, \"15\": {\"15\": 12}, \"55\": {\"55\": 8}, \"58\": {\"58\": 8}, \"66\": {\"66\": 12}, \"56\": {\"56\": 12}, \"3\": {\"3\": 12}, \"44\": {\"44\": 10, \"69\": 1, \"9\": 1}, \"57\": {\"57\": 12}, \"67\": {\"67\": 11, \"41\": 1}, \"22\": {\"22\": 12}, \"32\": {\"32\": 11, \"12\": 1}, \"81\": {\"81\": 12}, \"2\": {\"2\": 12}, \"71\": {\"71\": 11, \"56\": 1}, \"68\": {\"68\": 10}, \"49\": {\"49\": 10}, \"69\": {\"69\": 12}, \"9\": {\"9\": 8}, \"18\": {\"18\": 10, \"39\": 1, \"41\": 1}, \"41\": {\"37\": 1, \"21\": 1, \"41\": 6, \"38\": 1, \"44\": 1, \"32\": 2}, \"30\": {\"30\": 8}, \"21\": {\"21\": 12}, \"53\": {\"53\": 12}, \"8\": {\"8\": 8}, \"37\": {\"37\": 12}, \"40\": {\"40\": 12}, \"20\": {\"20\": 12}, \"54\": {\"54\": 10}, \"16\": {\"16\": 12}, \"45\": {\"45\": 12}, \"52\": {\"52\": 10}, \"76\": {\"76\": 12}, \"23\": {\"23\": 12}, \"26\": {\"26\": 10}, \"17\": {\"17\": 12}, \"73\": {\"73\": 12}, \"82\": {\"82\": 11, \"73\": 1}, \"65\": {\"65\": 12}, \"48\": {\"48\": 12}, \"4\": {\"4\": 12}, \"14\": {\"14\": 12}, \"62\": {\"62\": 12}, \"0\": {\"0\": 10}, \"31\": {\"31\": 8}, \"60\": {\"60\": 12}, \"38\": {\"56\": 1, \"38\": 11}, \"77\": {\"77\": 10}, \"36\": {\"36\": 6}, \"28\": {\"28\": 6}}, \"C_A_3\": {\"9\": {\"9\": 12}, \"39\": {\"39\": 12}, \"11\": {\"11\": 12}, \"18\": {\"18\": 10}, \"30\": {\"30\": 12}, \"25\": {\"25\": 12}, \"26\": {\"26\": 12}, \"0\": {\"0\": 12}, \"35\": {\"35\": 12}, \"6\": {\"6\": 10}, \"33\": {\"33\": 12}, \"32\": {\"32\": 12}, \"31\": {\"31\": 12}, \"4\": {\"4\": 12}, \"16\": {\"16\": 12}, \"37\": {\"37\": 12}, \"12\": {\"12\": 12}, \"17\": {\"17\": 12}, \"23\": {\"23\": 12}, \"38\": {\"38\": 12}, \"13\": {\"13\": 12}, \"15\": {\"15\": 12}, \"19\": {\"19\": 12}, \"21\": {\"21\": 12}, \"5\": {\"5\": 11, \"0\": 1}, \"22\": {\"22\": 12}, \"20\": {\"20\": 12}, \"7\": {\"7\": 12}, \"27\": {\"27\": 12}, \"3\": {\"3\": 12}, \"8\": {\"8\": 12}, \"14\": {\"14\": 12}, \"29\": {\"29\": 12}, \"2\": {\"2\": 12}, \"34\": {\"34\": 12}, \"28\": {\"28\": 12}, \"1\": {\"1\": 6}, \"24\": {\"24\": 10}, \"36\": {\"36\": 12}, \"10\": {\"10\": 12}}, \"C_A_1\": {\"7\": {\"7\": 12}, \"11\": {\"11\": 12}, \"9\": {\"9\": 10}, \"4\": {\"4\": 12}, \"35\": {\"35\": 12}, \"38\": {\"38\": 12}, \"36\": {\"36\": 12}, \"13\": {\"13\": 10}, \"34\": {\"34\": 12}, \"31\": {\"31\": 12}, \"25\": {\"25\": 10}, \"30\": {\"30\": 12}, \"18\": {\"18\": 12}, \"3\": {\"3\": 10}, \"10\": {\"10\": 12}, \"26\": {\"26\": 10}, \"27\": {\"27\": 12}, \"32\": {\"32\": 8}, \"12\": {\"12\": 12}, \"22\": {\"22\": 12}, \"21\": {\"21\": 12}, \"20\": {\"20\": 12}, \"23\": {\"23\": 12}, \"15\": {\"15\": 12}, \"28\": {\"28\": 12}, \"1\": {\"1\": 10}, \"2\": {\"2\": 10}, \"33\": {\"33\": 10}, \"37\": {\"37\": 12}, \"17\": {\"17\": 12}, \"16\": {\"16\": 10}, \"29\": {\"29\": 12}, \"6\": {\"6\": 8}, \"8\": {\"8\": 12}, \"24\": {\"24\": 12}, \"39\": {\"39\": 10}, \"14\": {\"14\": 12}, \"19\": {\"19\": 10}, \"5\": {\"5\": 8}, \"0\": {\"0\": 8}}, \"C_B_3\": {\"15\": {\"15\": 120}, \"11\": {\"11\": 120}, \"14\": {\"14\": 114}, \"12\": {\"12\": 114}, \"17\": {\"17\": 114}, \"5\": {\"5\": 116}, \"6\": {\"6\": 106}, \"3\": {\"3\": 96}, \"10\": {\"10\": 108}, \"16\": {\"16\": 110}, \"4\": {\"4\": 116}, \"9\": {\"9\": 110}, \"1\": {\"1\": 114}, \"7\": {\"7\": 112}, \"0\": {\"0\": 112}, \"8\": {\"8\": 116}, \"13\": {\"13\": 116}, \"2\": {\"2\": 114}}, \"C_A_5\": {\"36\": {\"36\": 12}, \"6\": {\"6\": 10}, \"25\": {\"25\": 12}, \"16\": {\"16\": 12}, \"14\": {\"14\": 10}, \"38\": {\"38\": 10}, \"35\": {\"35\": 12}, \"15\": {\"15\": 12}, \"26\": {\"26\": 12}, \"37\": {\"37\": 12}, \"24\": {\"24\": 12}, \"2\": {\"2\": 10}, \"20\": {\"20\": 12}, \"17\": {\"17\": 12}, \"32\": {\"32\": 12}, \"10\": {\"10\": 12}, \"12\": {\"12\": 8}, \"33\": {\"33\": 12}, \"11\": {\"11\": 10}, \"9\": {\"9\": 12}, \"23\": {\"23\": 12}, \"3\": {\"3\": 12}, \"4\": {\"4\": 12}, \"29\": {\"29\": 12}, \"8\": {\"8\": 12}, \"27\": {\"27\": 10}, \"34\": {\"34\": 10}, \"30\": {\"30\": 12}, \"0\": {\"0\": 12}, \"31\": {\"31\": 12}, \"13\": {\"13\": 10}, \"1\": {\"1\": 12}, \"21\": {\"21\": 12}, \"5\": {\"5\": 8}, \"39\": {\"39\": 12}, \"7\": {\"7\": 12}, \"19\": {\"19\": 10}, \"22\": {\"22\": 10}, \"18\": {\"18\": 6}, \"28\": {\"28\": 8}}, \"W_B_3\": {\"9\": {\"9\": 59, \"11\": 1}, \"3\": {\"3\": 52}, \"1\": {\"1\": 60}, \"20\": {\"20\": 50, \"23\": 1, \"5\": 1}, \"13\": {\"13\": 54}, \"2\": {\"2\": 57, \"17\": 1}, \"5\": {\"5\": 54, \"9\": 1, \"13\": 1, \"24\": 2, \"27\": 2}, \"21\": {\"21\": 55, \"5\": 1}, \"29\": {\"29\": 60}, \"7\": {\"21\": 1, \"7\": 59}, \"16\": {\"16\": 58}, \"6\": {\"6\": 60}, \"19\": {\"19\": 58}, \"32\": {\"32\": 58, \"27\": 1, \"11\": 1}, \"14\": {\"14\": 54}, \"24\": {\"24\": 59, \"23\": 1}, \"28\": {\"28\": 55, \"23\": 1}, \"22\": {\"22\": 55, \"10\": 1}, \"26\": {\"26\": 56, \"25\": 2, \"4\": 2}, \"30\": {\"30\": 53, \"24\": 1}, \"4\": {\"4\": 57, \"24\": 1}, \"25\": {\"25\": 60}, \"31\": {\"31\": 50}, \"11\": {\"11\": 54, \"23\": 1, \"28\": 1}, \"10\": {\"10\": 56}, \"23\": {\"23\": 57, \"24\": 1}, \"0\": {\"0\": 59, \"7\": 1}, \"33\": {\"33\": 54}, \"12\": {\"12\": 57, \"18\": 3}, \"18\": {\"18\": 49, \"7\": 1}, \"15\": {\"15\": 49, \"5\": 1}, \"27\": {\"27\": 57, \"5\": 2, \"18\": 1}, \"8\": {\"8\": 54}, \"17\": {\"17\": 48, \"8\": 1, \"13\": 1}}, \"C_A_4\": {\"15\": {\"15\": 12}, \"7\": {\"7\": 12}, \"4\": {\"4\": 10}, \"38\": {\"38\": 12}, \"2\": {\"2\": 10}, \"9\": {\"9\": 12}, \"8\": {\"8\": 12}, \"12\": {\"12\": 10}, \"6\": {\"6\": 12}, \"3\": {\"3\": 10}, \"11\": {\"11\": 12}, \"34\": {\"34\": 12}, \"24\": {\"24\": 12}, \"22\": {\"22\": 12}, \"31\": {\"31\": 12}, \"21\": {\"21\": 12}, \"29\": {\"29\": 12}, \"26\": {\"26\": 12}, \"16\": {\"16\": 10}, \"33\": {\"33\": 12}, \"27\": {\"27\": 10}, \"13\": {\"13\": 12}, \"1\": {\"1\": 12}, \"14\": {\"14\": 10}, \"30\": {\"30\": 8}, \"28\": {\"28\": 8}, \"20\": {\"20\": 8}, \"10\": {\"10\": 12}, \"23\": {\"23\": 12}, \"5\": {\"5\": 12}, \"25\": {\"25\": 12}, \"19\": {\"19\": 12}, \"18\": {\"18\": 8}, \"37\": {\"37\": 12}, \"35\": {\"35\": 8}, \"36\": {\"36\": 12}, \"0\": {\"0\": 12}, \"32\": {\"32\": 12}, \"39\": {\"39\": 12}, \"17\": {\"17\": 8}}, \"W_C_3\": {\"10\": {\"10\": 120}, \"5\": {\"5\": 118, \"4\": 2}, \"7\": {\"7\": 120}, \"9\": {\"9\": 120}, \"0\": {\"0\": 119, \"4\": 1}, \"11\": {\"11\": 118, \"8\": 1, \"9\": 1}, \"6\": {\"6\": 120}, \"8\": {\"8\": 120}, \"4\": {\"4\": 118, \"2\": 2}, \"12\": {\"12\": 119, \"7\": 1}, \"3\": {\"3\": 118, \"2\": 2}, \"1\": {\"1\": 119, \"4\": 1}, \"2\": {\"2\": 119, \"3\": 1}}, \"W_A_4\": {\"29\": {\"29\": 10}, \"67\": {\"67\": 12}, \"33\": {\"33\": 10, \"31\": 1, \"22\": 1}, \"18\": {\"18\": 12}, \"70\": {\"70\": 11, \"12\": 1}, \"52\": {\"52\": 12}, \"74\": {\"74\": 12}, \"50\": {\"50\": 12}, \"51\": {\"51\": 10, \"50\": 1, \"69\": 1}, \"68\": {\"68\": 12}, \"49\": {\"49\": 12}, \"21\": {\"50\": 2, \"21\": 8, \"73\": 2}, \"34\": {\"34\": 8, \"28\": 1, \"11\": 1}, \"69\": {\"69\": 11, \"12\": 1}, \"11\": {\"11\": 12}, \"27\": {\"27\": 12}, \"22\": {\"22\": 10, \"5\": 1, \"17\": 1}, \"76\": {\"76\": 12}, \"31\": {\"31\": 12}, \"43\": {\"69\": 1, \"43\": 9}, \"63\": {\"69\": 1, \"63\": 10, \"35\": 1}, \"14\": {\"14\": 12}, \"39\": {\"39\": 12}, \"59\": {\"59\": 12}, \"9\": {\"9\": 11, \"50\": 1}, \"57\": {\"57\": 9, \"34\": 2, \"11\": 1}, \"23\": {\"23\": 12}, \"41\": {\"41\": 12}, \"35\": {\"70\": 1, \"35\": 10, \"63\": 1}, \"60\": {\"60\": 12}, \"4\": {\"4\": 12}, \"75\": {\"75\": 12}, \"48\": {\"6\": 1, \"48\": 11}, \"5\": {\"5\": 10}, \"40\": {\"40\": 8}, \"6\": {\"6\": 12}, \"58\": {\"58\": 12}, \"62\": {\"62\": 11, \"8\": 1}, \"32\": {\"32\": 12}, \"73\": {\"73\": 10}, \"26\": {\"26\": 10, \"17\": 1, \"53\": 1}, \"71\": {\"71\": 12}, \"44\": {\"44\": 10, \"34\": 1, \"36\": 1}, \"80\": {\"80\": 12}, \"47\": {\"47\": 12}, \"16\": {\"16\": 12}, \"12\": {\"12\": 7, \"63\": 3, \"22\": 1, \"79\": 1}, \"25\": {\"25\": 12}, \"17\": {\"17\": 12}, \"10\": {\"10\": 12}, \"81\": {\"81\": 12}, \"37\": {\"37\": 11, \"8\": 1}, \"66\": {\"66\": 12}, \"55\": {\"55\": 12}, \"56\": {\"56\": 12}, \"7\": {\"7\": 12}, \"77\": {\"77\": 10, \"37\": 1, \"38\": 1}, \"42\": {\"42\": 12}, \"53\": {\"53\": 10, \"11\": 1, \"63\": 1}, \"78\": {\"78\": 12}, \"24\": {\"24\": 8}, \"20\": {\"20\": 12}, \"38\": {\"38\": 11, \"22\": 1}, \"45\": {\"45\": 12}, \"54\": {\"54\": 11, \"18\": 1}, \"13\": {\"67\": 1, \"13\": 9, \"22\": 1, \"30\": 1}, \"28\": {\"28\": 12}, \"79\": {\"79\": 12}, \"61\": {\"61\": 12}, \"0\": {\"63\": 1, \"0\": 9}, \"46\": {\"46\": 11, \"54\": 1}, \"36\": {\"36\": 10}, \"2\": {\"2\": 12}, \"65\": {\"65\": 10}, \"3\": {\"3\": 10}, \"64\": {\"64\": 11, \"72\": 1}, \"15\": {\"15\": 12}, \"30\": {\"30\": 7, \"36\": 1, \"18\": 1, \"73\": 1, \"59\": 1, \"74\": 1}, \"19\": {\"19\": 12}, \"1\": {\"1\": 12}, \"82\": {\"82\": 10}, \"72\": {\"72\": 9, \"12\": 1}, \"8\": {\"8\": 8}}, \"W_A_2\": {\"27\": {\"27\": 10}, \"67\": {\"67\": 12}, \"56\": {\"67\": 1, \"56\": 7}, \"43\": {\"43\": 12}, \"76\": {\"76\": 12}, \"17\": {\"17\": 12}, \"82\": {\"82\": 11, \"56\": 1}, \"13\": {\"56\": 1, \"13\": 9, \"43\": 1, \"8\": 1}, \"33\": {\"33\": 12}, \"11\": {\"11\": 12}, \"50\": {\"50\": 12}, \"36\": {\"36\": 12}, \"32\": {\"32\": 9, \"46\": 1}, \"73\": {\"73\": 12}, \"60\": {\"60\": 8}, \"30\": {\"30\": 11, \"74\": 1}, \"65\": {\"65\": 10, \"31\": 1, \"78\": 1}, \"9\": {\"9\": 12}, \"74\": {\"74\": 11, \"19\": 1}, \"53\": {\"53\": 12}, \"10\": {\"10\": 12}, \"49\": {\"49\": 9, \"62\": 1}, \"35\": {\"35\": 12}, \"25\": {\"25\": 12}, \"0\": {\"0\": 12}, \"21\": {\"21\": 11, \"13\": 1}, \"55\": {\"55\": 12}, \"54\": {\"25\": 2, \"54\": 9, \"31\": 1}, \"48\": {\"48\": 10}, \"63\": {\"55\": 2, \"63\": 10}, \"22\": {\"22\": 10}, \"45\": {\"45\": 12}, \"61\": {\"61\": 12}, \"8\": {\"8\": 12}, \"79\": {\"79\": 10, \"13\": 1, \"75\": 1}, \"47\": {\"47\": 12}, \"78\": {\"78\": 11, \"2\": 1}, \"77\": {\"77\": 11, \"57\": 1}, \"72\": {\"72\": 10, \"5\": 2}, \"64\": {\"64\": 11, \"46\": 1}, \"52\": {\"52\": 12}, \"18\": {\"18\": 12}, \"15\": {\"15\": 12}, \"69\": {\"69\": 10}, \"44\": {\"44\": 12}, \"57\": {\"57\": 12}, \"28\": {\"28\": 12}, \"42\": {\"42\": 11, \"38\": 1}, \"66\": {\"66\": 6}, \"5\": {\"5\": 12}, \"31\": {\"31\": 11, \"0\": 1}, \"70\": {\"70\": 11, \"71\": 1}, \"7\": {\"7\": 12}, \"59\": {\"59\": 11, \"0\": 1}, \"38\": {\"38\": 9, \"40\": 1}, \"12\": {\"12\": 9, \"28\": 1}, \"58\": {\"58\": 12}, \"23\": {\"23\": 12}, \"4\": {\"4\": 10}, \"19\": {\"19\": 12}, \"62\": {\"62\": 12}, \"24\": {\"24\": 12}, \"1\": {\"24\": 1, \"1\": 10, \"35\": 1}, \"71\": {\"71\": 12}, \"46\": {\"46\": 10, \"20\": 1, \"7\": 1}, \"51\": {\"51\": 10}, \"75\": {\"75\": 9, \"31\": 1, \"40\": 1, \"2\": 1}, \"39\": {\"39\": 11, \"35\": 1}, \"81\": {\"81\": 8}, \"40\": {\"40\": 10}, \"29\": {\"29\": 12}, \"26\": {\"26\": 11, \"78\": 1}, \"20\": {\"20\": 12}, \"3\": {\"3\": 12}, \"34\": {\"34\": 12}, \"41\": {\"41\": 12}, \"2\": {\"2\": 12}, \"68\": {\"68\": 12}, \"37\": {\"37\": 12}, \"16\": {\"16\": 7, \"14\": 1}, \"14\": {\"14\": 6, \"2\": 2, \"0\": 1, \"69\": 1}, \"80\": {\"80\": 6}, \"6\": {\"6\": 3, \"79\": 1}}, \"W_C_1\": {\"2\": {\"2\": 117, \"1\": 1, \"3\": 2}, \"1\": {\"1\": 120}, \"10\": {\"10\": 120}, \"0\": {\"0\": 120}, \"5\": {\"5\": 120}, \"12\": {\"12\": 120}, \"9\": {\"9\": 117, \"2\": 2, \"7\": 1}, \"11\": {\"11\": 120}, \"6\": {\"6\": 119, \"9\": 1}, \"7\": {\"7\": 120}, \"4\": {\"4\": 120}, \"3\": {\"3\": 120}, \"8\": {\"8\": 118, \"2\": 1, \"3\": 1}}, \"C_B_1\": {\"3\": {\"3\": 98}, \"6\": {\"6\": 112}, \"1\": {\"1\": 102}, \"5\": {\"5\": 92}, \"17\": {\"17\": 112}, \"4\": {\"4\": 106}, \"7\": {\"7\": 120}, \"15\": {\"15\": 106}, \"14\": {\"14\": 114}, \"9\": {\"9\": 110}, \"16\": {\"16\": 100}, \"2\": {\"2\": 106}, \"10\": {\"10\": 104}, \"11\": {\"11\": 108}, \"8\": {\"8\": 104}, \"0\": {\"0\": 120}, \"13\": {\"13\": 106}, \"12\": {\"12\": 104}}, \"W_B_1\": {\"14\": {\"14\": 57, \"30\": 2, \"31\": 1}, \"1\": {\"1\": 56}, \"9\": {\"9\": 60}, \"24\": {\"24\": 58, \"32\": 1, \"23\": 1}, \"29\": {\"29\": 59, \"13\": 1}, \"4\": {\"4\": 55, \"2\": 1}, \"8\": {\"8\": 60}, \"2\": {\"2\": 58, \"9\": 1, \"27\": 1}, \"18\": {\"18\": 48}, \"19\": {\"19\": 59, \"23\": 1}, \"27\": {\"27\": 58, \"10\": 1, \"26\": 1}, \"25\": {\"25\": 60}, \"3\": {\"3\": 50, \"26\": 1, \"17\": 1}, \"30\": {\"30\": 49, \"0\": 1}, \"17\": {\"17\": 57, \"21\": 2, \"11\": 1}, \"6\": {\"6\": 47, \"8\": 1}, \"11\": {\"11\": 54}, \"20\": {\"20\": 59, \"23\": 1}, \"10\": {\"10\": 52}, \"7\": {\"7\": 54}, \"5\": {\"5\": 59, \"15\": 1}, \"32\": {\"32\": 55, \"21\": 1}, \"31\": {\"31\": 58, \"12\": 1, \"24\": 1}, \"33\": {\"33\": 60}, \"22\": {\"22\": 59, \"5\": 1}, \"16\": {\"16\": 54}, \"12\": {\"12\": 50}, \"23\": {\"23\": 53, \"19\": 1}, \"15\": {\"15\": 54}, \"13\": {\"13\": 60}, \"26\": {\"26\": 55, \"5\": 1}, \"28\": {\"28\": 58}, \"0\": {\"0\": 54}, \"21\": {\"21\": 56, \"28\": 2}}, \"C_B_5\": {\"8\": {\"8\": 112}, \"0\": {\"0\": 120}, \"7\": {\"7\": 116}, \"17\": {\"17\": 120}, \"5\": {\"5\": 96}, \"6\": {\"6\": 116}, \"12\": {\"12\": 104}, \"4\": {\"4\": 114}, \"9\": {\"9\": 118}, \"3\": {\"3\": 114}, \"11\": {\"11\": 110}, \"14\": {\"14\": 112}, \"10\": {\"10\": 118}, \"1\": {\"1\": 110}, \"16\": {\"16\": 112}, \"2\": {\"2\": 98}, \"15\": {\"15\": 118}, \"13\": {\"13\": 120}}, \"W_B_4\": {\"18\": {\"18\": 56, \"13\": 1, \"1\": 1}, \"26\": {\"26\": 60}, \"2\": {\"2\": 57, \"11\": 1, \"5\": 1, \"13\": 1}, \"23\": {\"23\": 58, \"11\": 1, \"0\": 1}, \"27\": {\"27\": 54}, \"4\": {\"4\": 57, \"6\": 1, \"27\": 2}, \"29\": {\"29\": 58}, \"32\": {\"32\": 55, \"31\": 1, \"12\": 1, \"9\": 1, \"7\": 1, \"11\": 1}, \"28\": {\"28\": 54, \"27\": 1, \"0\": 1}, \"30\": {\"30\": 55, \"23\": 1, \"20\": 1, \"5\": 1}, \"15\": {\"15\": 60}, \"20\": {\"20\": 60}, \"33\": {\"33\": 58, \"18\": 1, \"16\": 1}, \"6\": {\"6\": 57, \"1\": 1}, \"17\": {\"17\": 57, \"7\": 1, \"1\": 1, \"21\": 1}, \"11\": {\"11\": 53, \"27\": 1}, \"16\": {\"16\": 57, \"26\": 1}, \"1\": {\"1\": 53, \"5\": 1, \"10\": 1, \"9\": 1}, \"14\": {\"14\": 60}, \"9\": {\"9\": 58, \"7\": 1, \"17\": 1}, \"7\": {\"7\": 50, \"27\": 2, \"0\": 1, \"20\": 2, \"23\": 1, \"14\": 1, \"6\": 1, \"25\": 1, \"18\": 1}, \"24\": {\"24\": 56}, \"22\": {\"22\": 56, \"0\": 2, \"7\": 1, \"27\": 1}, \"21\": {\"21\": 49, \"23\": 1}, \"8\": {\"8\": 58, \"7\": 2}, \"3\": {\"3\": 40, \"27\": 3, \"33\": 1, \"16\": 1, \"23\": 1, \"30\": 1, \"13\": 1}, \"12\": {\"12\": 59, \"11\": 1}, \"25\": {\"25\": 54}, \"10\": {\"10\": 60}, \"31\": {\"31\": 55, \"25\": 1}, \"19\": {\"22\": 1, \"19\": 58, \"7\": 1}, \"5\": {\"5\": 56, \"27\": 1, \"13\": 1}, \"0\": {\"0\": 50}, \"13\": {\"13\": 46, \"4\": 1, \"31\": 1}}, \"C_B_4\": {\"8\": {\"8\": 110}, \"11\": {\"11\": 118}, \"6\": {\"6\": 112}, \"10\": {\"10\": 120}, \"15\": {\"15\": 112}, \"1\": {\"1\": 116}, \"2\": {\"2\": 118}, \"16\": {\"16\": 116}, \"0\": {\"0\": 120}, \"5\": {\"5\": 112}, \"7\": {\"7\": 110}, \"4\": {\"4\": 116}, \"17\": {\"17\": 106}, \"9\": {\"9\": 104}, \"14\": {\"14\": 104}, \"3\": {\"3\": 106}, \"13\": {\"13\": 112}, \"12\": {\"12\": 116}}, \"W_C_4\": {\"1\": {\"1\": 115, \"4\": 1, \"5\": 1, \"2\": 1, \"9\": 1, \"11\": 1}, \"7\": {\"7\": 118, \"5\": 2}, \"11\": {\"11\": 120}, \"12\": {\"12\": 118, \"3\": 2}, \"10\": {\"10\": 120}, \"2\": {\"2\": 117, \"8\": 2, \"5\": 1}, \"6\": {\"6\": 120}, \"0\": {\"0\": 117, \"12\": 1, \"3\": 1, \"8\": 1}, \"3\": {\"3\": 118, \"5\": 2}, \"5\": {\"5\": 118, \"3\": 1, \"2\": 1}, \"8\": {\"8\": 119, \"4\": 1}, \"4\": {\"4\": 119, \"3\": 1}, \"9\": {\"9\": 115, \"3\": 1, \"2\": 1, \"4\": 2, \"5\": 1}}, \"W_B_2\": {\"24\": {\"24\": 57, \"9\": 1, \"13\": 1, \"6\": 1}, \"23\": {\"23\": 46}, \"30\": {\"30\": 56, \"5\": 2, \"12\": 1, \"19\": 1}, \"5\": {\"5\": 54, \"1\": 1, \"30\": 1}, \"26\": {\"26\": 59, \"17\": 1}, \"3\": {\"3\": 60}, \"7\": {\"7\": 55, \"27\": 1, \"10\": 1, \"15\": 1}, \"4\": {\"4\": 58, \"30\": 1, \"27\": 1}, \"28\": {\"28\": 53, \"24\": 1, \"25\": 1, \"13\": 1}, \"29\": {\"29\": 57, \"1\": 1, \"10\": 1, \"23\": 1}, \"32\": {\"32\": 55, \"12\": 2, \"5\": 1}, \"27\": {\"27\": 57, \"22\": 1}, \"12\": {\"12\": 54, \"19\": 1, \"18\": 1, \"0\": 1, \"32\": 1}, \"18\": {\"18\": 59, \"30\": 1}, \"14\": {\"14\": 58}, \"1\": {\"1\": 58, \"30\": 1, \"19\": 1}, \"10\": {\"10\": 54, \"2\": 1, \"7\": 1, \"28\": 1, \"13\": 2, \"5\": 1}, \"0\": {\"0\": 50, \"29\": 1, \"27\": 1, \"30\": 1, \"1\": 1, \"23\": 1, \"2\": 1, \"5\": 1, \"12\": 1}, \"21\": {\"9\": 1, \"21\": 55, \"13\": 1, \"30\": 1, \"23\": 2}, \"15\": {\"15\": 49, \"0\": 1, \"10\": 1, \"13\": 1}, \"9\": {\"9\": 59, \"5\": 1}, \"2\": {\"2\": 57, \"27\": 1, \"13\": 1, \"0\": 1}, \"31\": {\"31\": 54, \"13\": 3, \"30\": 1}, \"25\": {\"25\": 54}, \"16\": {\"16\": 59, \"13\": 1}, \"20\": {\"20\": 53, \"30\": 1}, \"8\": {\"8\": 55, \"6\": 1}, \"6\": {\"6\": 52}, \"22\": {\"22\": 53, \"27\": 1}, \"33\": {\"33\": 55, \"16\": 1}, \"19\": {\"19\": 57, \"8\": 1}, \"13\": {\"13\": 59, \"23\": 1}, \"17\": {\"17\": 59, \"5\": 1}, \"11\": {\"5\": 1, \"11\": 49}}, \"C_B_2\": {\"3\": {\"3\": 114}, \"15\": {\"15\": 114}, \"16\": {\"16\": 120}, \"4\": {\"4\": 116}, \"6\": {\"6\": 108}, \"8\": {\"8\": 112}, \"13\": {\"13\": 112}, \"5\": {\"5\": 120}, \"12\": {\"12\": 110}, \"2\": {\"2\": 107, \"16\": 1}, \"1\": {\"1\": 120}, \"10\": {\"10\": 110}, \"7\": {\"7\": 112}, \"0\": {\"0\": 112}, \"14\": {\"14\": 120}, \"17\": {\"17\": 116}, \"9\": {\"9\": 116}, \"11\": {\"11\": 114}}, \"W_C_2\": {\"7\": {\"7\": 117, \"3\": 2, \"2\": 1}, \"8\": {\"8\": 117, \"3\": 1, \"4\": 2}, \"0\": {\"0\": 116, \"5\": 1, \"3\": 2, \"7\": 1}, \"12\": {\"12\": 120}, \"5\": {\"5\": 117, \"9\": 1, \"3\": 1, \"4\": 1}, \"11\": {\"11\": 119, \"8\": 1}, \"1\": {\"1\": 111, \"4\": 3, \"2\": 5, \"7\": 1}, \"9\": {\"9\": 114, \"3\": 4, \"1\": 1, \"2\": 1}, \"10\": {\"10\": 117, \"1\": 1, \"6\": 1, \"9\": 1}, \"6\": {\"6\": 117, \"9\": 1, \"8\": 1, \"2\": 1}, \"4\": {\"4\": 115, \"7\": 2, \"1\": 2, \"9\": 1}, \"3\": {\"3\": 120}, \"2\": {\"2\": 113, \"4\": 2, \"8\": 1, \"9\": 1, \"3\": 3}}, \"C_A_2\": {\"2\": {\"2\": 12}, \"24\": {\"24\": 12}, \"7\": {\"7\": 12}, \"27\": {\"27\": 12}, \"36\": {\"36\": 10}, \"11\": {\"11\": 12}, \"34\": {\"34\": 6}, \"20\": {\"20\": 10}, \"9\": {\"9\": 12}, \"3\": {\"3\": 12}, \"28\": {\"28\": 12}, \"17\": {\"17\": 12}, \"31\": {\"31\": 12}, \"1\": {\"1\": 6}, \"12\": {\"12\": 10}, \"5\": {\"5\": 12}, \"19\": {\"19\": 12}, \"37\": {\"37\": 12}, \"4\": {\"4\": 12}, \"39\": {\"39\": 10}, \"23\": {\"23\": 8}, \"38\": {\"38\": 10}, \"30\": {\"30\": 10}, \"33\": {\"33\": 12}, \"25\": {\"25\": 12}, \"35\": {\"35\": 10}, \"18\": {\"18\": 12}, \"29\": {\"29\": 12}, \"21\": {\"21\": 8}, \"0\": {\"0\": 12}, \"8\": {\"8\": 12}, \"32\": {\"32\": 10}, \"22\": {\"22\": 10}, \"6\": {\"6\": 8}, \"26\": {\"26\": 8}, \"15\": {\"15\": 12}, \"13\": {\"13\": 6}, \"16\": {\"16\": 8}, \"10\": {\"10\": 8}, \"14\": {\"14\": 8}}, \"ORACLE.run1_14\": {\"13\": {\"6\": 32, \"13\": 51, \"2\": 29, \"0\": 14, \"5\": 15, \"3\": 27, \"14\": 22, \"7\": 16, \"15\": 12, \"10\": 2, \"4\": 9, \"12\": 3, \"8\": 2}, \"9\": {\"10\": 14, \"9\": 161, \"1\": 57}, \"12\": {\"12\": 133, \"4\": 22, \"8\": 23, \"5\": 19, \"0\": 5, \"2\": 5, \"14\": 2, \"13\": 1}, \"11\": {\"11\": 215, \"1\": 1}, \"15\": {\"15\": 216}, \"3\": {\"7\": 51, \"6\": 36, \"3\": 73, \"2\": 8, \"13\": 24, \"0\": 14, \"14\": 18, \"5\": 3, \"8\": 1}, \"4\": {\"12\": 16, \"10\": 29, \"4\": 143, \"2\": 6, \"1\": 1, \"13\": 2, \"5\": 13, \"8\": 2, \"0\": 2}, \"10\": {\"10\": 148, \"1\": 22, \"4\": 22, \"9\": 13, \"12\": 3}, \"8\": {\"0\": 30, \"8\": 99, \"5\": 35, \"2\": 18, \"12\": 25, \"7\": 19, \"13\": 5, \"3\": 2, \"14\": 6, \"6\": 1}, \"0\": {\"0\": 40, \"5\": 26, \"4\": 7, \"13\": 12, \"14\": 24, \"7\": 24, \"3\": 24, \"6\": 12, \"2\": 27, \"12\": 7, \"8\": 21}, \"6\": {\"13\": 39, \"6\": 71, \"7\": 26, \"2\": 11, \"3\": 41, \"5\": 2, \"0\": 14, \"14\": 12}, \"7\": {\"13\": 16, \"0\": 23, \"5\": 7, \"14\": 20, \"3\": 46, \"7\": 74, \"8\": 16, \"2\": 19, \"6\": 15}, \"1\": {\"1\": 171, \"9\": 30, \"10\": 20, \"4\": 1}, \"5\": {\"14\": 25, \"8\": 25, \"5\": 78, \"2\": 42, \"0\": 25, \"12\": 10, \"7\": 12, \"3\": 3, \"4\": 3, \"13\": 9}, \"14\": {\"3\": 20, \"14\": 60, \"0\": 25, \"13\": 27, \"5\": 23, \"2\": 31, \"7\": 24, \"6\": 12, \"12\": 2, \"8\": 2}, \"2\": {\"5\": 42, \"2\": 44, \"12\": 8, \"3\": 15, \"4\": 21, \"6\": 13, \"0\": 21, \"13\": 20, \"10\": 1, \"7\": 12, \"14\": 28, \"8\": 9}}, \"ORACLE.run1_38\": {\"9\": {\"7\": 19, \"2\": 31, \"9\": 91, \"8\": 24, \"5\": 31, \"14\": 18, \"12\": 2}, \"4\": {\"13\": 45, \"4\": 96, \"10\": 38, \"14\": 14, \"0\": 33, \"7\": 10, \"2\": 2}, \"1\": {\"6\": 86, \"1\": 142}, \"5\": {\"7\": 21, \"12\": 29, \"14\": 8, \"5\": 71, \"8\": 44, \"15\": 24, \"2\": 14, \"9\": 23}, \"15\": {\"12\": 21, \"15\": 130, \"5\": 25, \"8\": 18, \"6\": 17, \"1\": 14, \"9\": 1}, \"3\": {\"3\": 194, \"11\": 20, \"0\": 1, \"10\": 1}, \"6\": {\"6\": 150, \"1\": 79, \"15\": 7}, \"13\": {\"13\": 101, \"10\": 32, \"14\": 14, \"4\": 20, \"0\": 51, \"7\": 7, \"2\": 3, \"9\": 2}, \"12\": {\"12\": 118, \"2\": 2, \"5\": 45, \"8\": 39, \"15\": 24, \"9\": 4, \"14\": 2}, \"7\": {\"5\": 6, \"14\": 48, \"2\": 44, \"8\": 14, \"7\": 63, \"9\": 28, \"13\": 11, \"12\": 1, \"4\": 7, \"0\": 4}, \"14\": {\"13\": 20, \"2\": 57, \"4\": 15, \"14\": 65, \"0\": 9, \"9\": 14, \"7\": 33, \"8\": 8, \"5\": 7}, \"2\": {\"2\": 76, \"7\": 33, \"8\": 14, \"9\": 34, \"14\": 42, \"5\": 16, \"13\": 5, \"0\": 4, \"4\": 2}, \"8\": {\"12\": 31, \"5\": 39, \"13\": 3, \"15\": 15, \"9\": 23, \"8\": 59, \"2\": 19, \"7\": 19, \"14\": 15, \"0\": 1}, \"10\": {\"10\": 115, \"0\": 56, \"4\": 14, \"13\": 31, \"3\": 7, \"7\": 1}, \"11\": {\"11\": 214, \"3\": 26}, \"0\": {\"14\": 15, \"0\": 76, \"4\": 22, \"10\": 50, \"13\": 50, \"7\": 8, \"2\": 8, \"3\": 10, \"9\": 1}}, \"ORACLE.run1_26\": {\"12\": {\"13\": 37, \"7\": 20, \"9\": 46, \"3\": 28, \"12\": 67, \"8\": 18, \"2\": 17, \"4\": 2, \"0\": 1}, \"0\": {\"8\": 14, \"14\": 27, \"1\": 12, \"0\": 75, \"7\": 8, \"10\": 32, \"9\": 5, \"2\": 28, \"6\": 6, \"15\": 17, \"3\": 1, \"5\": 3, \"12\": 2, \"11\": 1, \"13\": 1}, \"5\": {\"14\": 14, \"15\": 44, \"1\": 27, \"6\": 32, \"10\": 15, \"5\": 65, \"11\": 28, \"0\": 2, \"2\": 1}, \"15\": {\"10\": 31, \"1\": 22, \"15\": 50, \"14\": 31, \"5\": 34, \"6\": 32, \"11\": 15, \"0\": 11, \"2\": 2}, \"3\": {\"3\": 66, \"12\": 27, \"13\": 29, \"8\": 29, \"7\": 29, \"2\": 14, \"9\": 36, \"4\": 6, \"0\": 2}, \"4\": {\"4\": 182, \"3\": 16, \"12\": 4, \"9\": 3, \"13\": 13, \"7\": 1, \"8\": 1}, \"10\": {\"10\": 52, \"6\": 22, \"14\": 41, \"2\": 13, \"0\": 33, \"15\": 33, \"5\": 6, \"1\": 11, \"8\": 3, \"9\": 2, \"11\": 4, \"7\": 2}, \"7\": {\"8\": 39, \"7\": 46, \"0\": 10, \"12\": 19, \"10\": 1, \"3\": 30, \"9\": 40, \"13\": 16, \"2\": 28, \"14\": 1}, \"14\": {\"10\": 45, \"14\": 51, \"0\": 37, \"1\": 19, \"6\": 25, \"2\": 8, \"15\": 24, \"5\": 8, \"8\": 2, \"9\": 1, \"7\": 1, \"11\": 3}, \"2\": {\"8\": 52, \"13\": 4, \"2\": 54, \"0\": 27, \"10\": 8, \"14\": 7, \"9\": 16, \"7\": 22, \"3\": 16, \"12\": 18, \"15\": 5, \"6\": 3}, \"9\": {\"8\": 28, \"0\": 6, \"13\": 24, \"2\": 25, \"12\": 26, \"7\": 31, \"9\": 38, \"10\": 4, \"3\": 25, \"14\": 2, \"4\": 4, \"6\": 1}, \"13\": {\"13\": 63, \"3\": 40, \"7\": 21, \"12\": 48, \"8\": 14, \"9\": 26, \"4\": 17, \"2\": 6, \"0\": 1}, \"8\": {\"0\": 9, \"7\": 28, \"2\": 42, \"8\": 69, \"3\": 22, \"12\": 21, \"9\": 27, \"10\": 4, \"13\": 7, \"14\": 3, \"15\": 1, \"6\": 1}, \"6\": {\"6\": 50, \"0\": 11, \"10\": 21, \"15\": 33, \"5\": 29, \"14\": 21, \"11\": 18, \"1\": 17}, \"1\": {\"1\": 43, \"14\": 22, \"5\": 29, \"6\": 34, \"15\": 37, \"0\": 11, \"11\": 12, \"10\": 12}, \"11\": {\"6\": 23, \"0\": 1, \"15\": 31, \"11\": 100, \"5\": 58, \"1\": 15, \"10\": 8, \"14\": 4}}, \"ORACLE.run1_50\": {\"6\": {\"6\": 50, \"15\": 40, \"11\": 29, \"12\": 23, \"9\": 31, \"3\": 27, \"5\": 25, \"7\": 2, \"4\": 5}, \"9\": {\"9\": 64, \"15\": 30, \"11\": 28, \"5\": 25, \"6\": 33, \"12\": 32, \"3\": 23, \"4\": 1, \"7\": 2}, \"3\": {\"5\": 20, \"15\": 31, \"6\": 37, \"3\": 57, \"12\": 19, \"11\": 37, \"9\": 30, \"13\": 8, \"1\": 1}, \"8\": {\"1\": 48, \"8\": 125, \"10\": 43, \"13\": 22}, \"13\": {\"1\": 47, \"13\": 114, \"8\": 19, \"9\": 1, \"11\": 26, \"3\": 26, \"12\": 4, \"15\": 2, \"10\": 1}, \"1\": {\"1\": 82, \"13\": 62, \"8\": 55, \"10\": 21, \"11\": 7, \"14\": 1, \"15\": 1, \"2\": 2, \"0\": 2, \"3\": 3}, \"7\": {\"7\": 121, \"4\": 57, \"5\": 33, \"9\": 11, \"15\": 4, \"3\": 1, \"6\": 5}, \"14\": {\"14\": 89, \"0\": 56, \"2\": 59, \"10\": 14}, \"0\": {\"14\": 53, \"0\": 82, \"2\": 47, \"10\": 46, \"8\": 6, \"1\": 2}, \"4\": {\"15\": 6, \"7\": 74, \"5\": 25, \"4\": 105, \"6\": 6, \"9\": 5, \"12\": 1}, \"5\": {\"4\": 32, \"15\": 34, \"7\": 35, \"5\": 46, \"12\": 6, \"3\": 18, \"9\": 17, \"11\": 14, \"13\": 5, \"1\": 5, \"6\": 22}, \"2\": {\"2\": 92, \"10\": 16, \"14\": 51, \"0\": 59}, \"15\": {\"5\": 29, \"11\": 20, \"9\": 34, \"15\": 57, \"6\": 40, \"3\": 17, \"4\": 4, \"13\": 1, \"7\": 5, \"12\": 19}, \"10\": {\"8\": 41, \"2\": 13, \"10\": 110, \"0\": 35, \"1\": 17, \"13\": 4, \"14\": 14}, \"11\": {\"3\": 52, \"5\": 6, \"11\": 78, \"12\": 31, \"6\": 30, \"9\": 11, \"15\": 16, \"13\": 15, \"1\": 1}, \"12\": {\"12\": 77, \"3\": 36, \"11\": 33, \"6\": 26, \"5\": 12, \"9\": 33, \"15\": 17}}, \"ORACLE.run1_44\": {\"5\": {\"14\": 42, \"5\": 47, \"9\": 16, \"10\": 17, \"15\": 26, \"4\": 21, \"7\": 16, \"2\": 23, \"0\": 2, \"8\": 12, \"1\": 12}, \"1\": {\"8\": 29, \"0\": 23, \"1\": 86, \"5\": 11, \"2\": 35, \"4\": 3, \"15\": 38, \"10\": 2, \"14\": 5}, \"13\": {\"13\": 123, \"6\": 78, \"7\": 6, \"10\": 6, \"9\": 10, \"11\": 6, \"4\": 3}, \"14\": {\"4\": 34, \"10\": 38, \"7\": 18, \"15\": 21, \"14\": 50, \"9\": 12, \"5\": 44, \"1\": 3, \"2\": 12, \"6\": 1, \"8\": 1}, \"0\": {\"0\": 101, \"15\": 13, \"8\": 45, \"1\": 34, \"12\": 8, \"3\": 15, \"2\": 8}, \"8\": {\"0\": 46, \"8\": 67, \"15\": 28, \"1\": 42, \"9\": 1, \"2\": 15, \"4\": 4, \"3\": 4, \"10\": 2, \"12\": 2, \"5\": 7, \"14\": 2}, \"10\": {\"10\": 54, \"14\": 29, \"7\": 44, \"2\": 8, \"8\": 1, \"4\": 24, \"9\": 32, \"15\": 10, \"5\": 20, \"13\": 2, \"6\": 5, \"1\": 1}, \"3\": {\"3\": 119, \"12\": 81, \"0\": 18}, \"4\": {\"6\": 10, \"7\": 35, \"10\": 35, \"14\": 23, \"4\": 31, \"9\": 27, \"2\": 8, \"5\": 25, \"13\": 4, \"15\": 13, \"8\": 10, \"1\": 14, \"0\": 1}, \"7\": {\"10\": 32, \"14\": 32, \"7\": 56, \"9\": 37, \"4\": 35, \"6\": 7, \"5\": 19, \"15\": 3, \"13\": 1}, \"6\": {\"6\": 111, \"9\": 25, \"10\": 8, \"13\": 61, \"4\": 3, \"7\": 13, \"14\": 1}, \"12\": {\"3\": 90, \"12\": 141, \"0\": 9}, \"11\": {\"11\": 232, \"13\": 4}, \"9\": {\"10\": 28, \"9\": 38, \"14\": 19, \"7\": 34, \"13\": 26, \"11\": 2, \"5\": 19, \"6\": 33, \"4\": 24, \"2\": 4, \"15\": 3, \"1\": 2}, \"15\": {\"8\": 21, \"1\": 28, \"14\": 32, \"0\": 8, \"4\": 14, \"2\": 22, \"15\": 58, \"9\": 6, \"5\": 29, \"10\": 6, \"7\": 4}, \"2\": {\"1\": 45, \"5\": 25, \"15\": 26, \"2\": 63, \"8\": 22, \"14\": 27, \"10\": 5, \"4\": 7, \"7\": 4, \"0\": 1, \"9\": 1}}, \"ORACLE.run1_32\": {\"4\": {\"1\": 47, \"4\": 60, \"2\": 45, \"13\": 32, \"3\": 28, \"14\": 2, \"8\": 2, \"9\": 4, \"11\": 2}, \"10\": {\"10\": 158, \"12\": 38, \"6\": 26, \"11\": 2}, \"13\": {\"1\": 15, \"13\": 66, \"3\": 47, \"11\": 18, \"4\": 34, \"2\": 24, \"9\": 25, \"12\": 1}, \"6\": {\"10\": 37, \"6\": 194, \"12\": 3}, \"5\": {\"5\": 76, \"0\": 28, \"14\": 24, \"15\": 23, \"8\": 20, \"7\": 63}, \"1\": {\"13\": 27, \"1\": 74, \"3\": 21, \"4\": 43, \"2\": 52, \"11\": 1, \"0\": 3, \"8\": 2, \"14\": 3, \"9\": 8}, \"14\": {\"5\": 22, \"14\": 59, \"2\": 18, \"0\": 39, \"7\": 38, \"8\": 39, \"4\": 8, \"15\": 7, \"1\": 1, \"3\": 1}, \"0\": {\"2\": 6, \"7\": 40, \"15\": 13, \"14\": 45, \"0\": 45, \"5\": 34, \"8\": 47, \"4\": 2}, \"7\": {\"0\": 41, \"14\": 29, \"5\": 59, \"15\": 18, \"7\": 61, \"8\": 30}, \"8\": {\"14\": 60, \"2\": 14, \"8\": 49, \"0\": 46, \"7\": 27, \"5\": 11, \"15\": 12, \"1\": 5, \"4\": 3, \"3\": 5}, \"11\": {\"11\": 112, \"12\": 17, \"9\": 78, \"13\": 14, \"4\": 4, \"1\": 1, \"3\": 2}, \"2\": {\"4\": 40, \"14\": 12, \"0\": 4, \"13\": 12, \"2\": 91, \"1\": 36, \"3\": 27, \"8\": 4, \"7\": 2, \"9\": 2}, \"15\": {\"5\": 48, \"15\": 117, \"0\": 20, \"7\": 24, \"8\": 14, \"14\": 7}, \"3\": {\"3\": 79, \"4\": 40, \"1\": 32, \"2\": 27, \"9\": 7, \"13\": 41, \"11\": 4}, \"12\": {\"12\": 124, \"9\": 25, \"11\": 36, \"10\": 48, \"6\": 1}, \"9\": {\"1\": 10, \"9\": 67, \"11\": 57, \"12\": 41, \"3\": 8, \"10\": 8, \"13\": 27, \"4\": 8, \"2\": 2}}, \"ORACLE.run1_20\": {\"9\": {\"9\": 41, \"4\": 7, \"12\": 12, \"3\": 19, \"7\": 23, \"5\": 24, \"1\": 25, \"2\": 20, \"14\": 7, \"8\": 12, \"6\": 12, \"15\": 15, \"13\": 1}, \"2\": {\"1\": 21, \"4\": 27, \"12\": 33, \"13\": 14, \"7\": 25, \"6\": 26, \"2\": 35, \"5\": 5, \"15\": 30, \"9\": 14, \"10\": 6}, \"11\": {\"11\": 172, \"0\": 59, \"8\": 2, \"3\": 1}, \"10\": {\"13\": 18, \"10\": 144, \"4\": 42, \"12\": 6, \"2\": 10, \"15\": 8, \"6\": 9, \"7\": 3}, \"14\": {\"6\": 12, \"14\": 83, \"3\": 34, \"8\": 52, \"5\": 20, \"7\": 18, \"9\": 6, \"1\": 3, \"2\": 2}, \"4\": {\"2\": 20, \"1\": 5, \"13\": 22, \"4\": 81, \"10\": 29, \"7\": 13, \"15\": 16, \"12\": 25, \"6\": 21, \"5\": 4, \"9\": 2}, \"3\": {\"9\": 30, \"3\": 52, \"7\": 22, \"8\": 27, \"1\": 24, \"14\": 20, \"2\": 6, \"5\": 46, \"15\": 6, \"12\": 2, \"6\": 3, \"0\": 2}, \"1\": {\"6\": 12, \"9\": 34, \"1\": 44, \"12\": 7, \"5\": 25, \"7\": 22, \"15\": 15, \"3\": 17, \"2\": 20, \"13\": 3, \"8\": 7, \"4\": 5, \"14\": 5}, \"15\": {\"9\": 19, \"15\": 49, \"12\": 35, \"13\": 27, \"4\": 17, \"2\": 31, \"1\": 12, \"7\": 20, \"5\": 9, \"3\": 2, \"6\": 6, \"10\": 3}, \"0\": {\"0\": 128, \"11\": 47, \"8\": 30, \"14\": 5, \"3\": 11, \"5\": 9}, \"7\": {\"2\": 27, \"15\": 20, \"1\": 28, \"12\": 19, \"9\": 27, \"6\": 32, \"14\": 2, \"13\": 8, \"5\": 13, \"7\": 34, \"3\": 13, \"4\": 11, \"8\": 2}, \"6\": {\"6\": 51, \"4\": 21, \"7\": 45, \"3\": 6, \"12\": 12, \"2\": 28, \"15\": 12, \"9\": 22, \"13\": 6, \"5\": 9, \"1\": 6, \"8\": 2, \"14\": 3, \"10\": 3}, \"13\": {\"2\": 41, \"1\": 7, \"12\": 34, \"10\": 10, \"15\": 30, \"13\": 47, \"4\": 29, \"7\": 12, \"6\": 7, \"9\": 3}, \"5\": {\"1\": 22, \"7\": 24, \"12\": 9, \"9\": 33, \"3\": 29, \"15\": 11, \"5\": 37, \"8\": 20, \"6\": 8, \"14\": 11, \"0\": 2, \"4\": 3, \"2\": 7}, \"8\": {\"8\": 61, \"14\": 55, \"3\": 44, \"0\": 21, \"5\": 19, \"1\": 8, \"6\": 6, \"9\": 6, \"7\": 4, \"4\": 1, \"15\": 1}, \"12\": {\"13\": 23, \"3\": 4, \"6\": 18, \"10\": 5, \"12\": 37, \"15\": 25, \"7\": 33, \"4\": 33, \"2\": 25, \"9\": 9, \"1\": 14, \"5\": 3, \"14\": 1}}, \"ORACLE.run1_8\": {\"2\": {\"2\": 129, \"3\": 27, \"15\": 44, \"12\": 20}, \"13\": {\"13\": 92, \"1\": 3, \"5\": 35, \"7\": 39, \"10\": 55, \"6\": 15, \"8\": 1}, \"14\": {\"14\": 154, \"4\": 41, \"8\": 16, \"11\": 10, \"1\": 1}, \"4\": {\"8\": 46, \"4\": 91, \"11\": 38, \"1\": 23, \"14\": 16, \"6\": 8, \"5\": 6, \"10\": 3, \"13\": 1}, \"5\": {\"13\": 51, \"1\": 22, \"6\": 15, \"5\": 49, \"4\": 7, \"7\": 28, \"8\": 3, \"10\": 43, \"14\": 1, \"11\": 10, \"15\": 1}, \"6\": {\"8\": 9, \"4\": 8, \"1\": 47, \"7\": 25, \"13\": 15, \"6\": 55, \"11\": 17, \"5\": 17, \"10\": 31}, \"11\": {\"1\": 36, \"14\": 15, \"4\": 37, \"5\": 10, \"8\": 23, \"6\": 21, \"13\": 8, \"11\": 57, \"7\": 4, \"10\": 7}, \"3\": {\"3\": 220, \"2\": 10}, \"10\": {\"5\": 44, \"1\": 18, \"6\": 25, \"13\": 51, \"11\": 11, \"8\": 2, \"7\": 32, \"10\": 52, \"4\": 3}, \"1\": {\"11\": 31, \"1\": 56, \"8\": 14, \"6\": 30, \"4\": 11, \"7\": 20, \"13\": 13, \"5\": 28, \"10\": 19}, \"0\": {\"0\": 222}, \"9\": {\"9\": 208, \"3\": 4}, \"8\": {\"11\": 40, \"8\": 93, \"1\": 16, \"6\": 18, \"4\": 36, \"14\": 17, \"7\": 2, \"5\": 3, \"10\": 3}, \"7\": {\"6\": 43, \"13\": 46, \"7\": 63, \"10\": 37, \"1\": 19, \"5\": 17, \"11\": 8, \"8\": 1}, \"12\": {\"12\": 135, \"15\": 74, \"2\": 13}, \"15\": {\"15\": 116, \"2\": 27, \"12\": 76, \"3\": 1}}}, \"per_domain_accuracy\": {\"W_A_3\": {\"accuracy\": 0.9708939708939709, \"source?\": true}, \"W_A_1\": {\"accuracy\": 0.9786324786324786, \"source?\": true}, \"C_A_3\": {\"accuracy\": 0.9978632478632479, \"source?\": true}, \"C_A_1\": {\"accuracy\": 1.0, \"source?\": true}, \"C_B_3\": {\"accuracy\": 1.0, \"source?\": true}, \"C_A_5\": {\"accuracy\": 1.0, \"source?\": true}, \"W_B_3\": {\"accuracy\": 0.9807692307692307, \"source?\": true}, \"C_A_4\": {\"accuracy\": 1.0, \"source?\": true}, \"W_C_3\": {\"accuracy\": 0.9923076923076923, \"source?\": true}, \"W_A_4\": {\"accuracy\": 0.9449064449064449, \"source?\": true}, \"W_A_2\": {\"accuracy\": 0.9519230769230769, \"source?\": true}, \"W_C_1\": {\"accuracy\": 0.9942307692307693, \"source?\": true}, \"C_B_1\": {\"accuracy\": 1.0, \"source?\": true}, \"W_B_1\": {\"accuracy\": 0.9849272349272349, \"source?\": true}, \"C_B_5\": {\"accuracy\": 1.0, \"source?\": true}, \"W_B_4\": {\"accuracy\": 0.9661538461538461, \"source?\": true}, \"C_B_4\": {\"accuracy\": 1.0, \"source?\": true}, \"W_C_4\": {\"accuracy\": 0.9833333333333333, \"source?\": true}, \"W_B_2\": {\"accuracy\": 0.9635897435897436, \"source?\": true}, \"C_B_2\": {\"accuracy\": 0.9995131450827653, \"source?\": true}, \"W_C_2\": {\"accuracy\": 0.9698717948717949, \"source?\": true}, \"C_A_2\": {\"accuracy\": 1.0, \"source?\": true}, \"ORACLE.run1_14\": {\"accuracy\": 0.4952619843924192, \"source?\": false}, \"ORACLE.run1_38\": {\"accuracy\": 0.48036006546644844, \"source?\": false}, \"ORACLE.run1_26\": {\"accuracy\": 0.29634753735473157, \"source?\": false}, \"ORACLE.run1_50\": {\"accuracy\": 0.3628294782140936, \"source?\": false}, \"ORACLE.run1_44\": {\"accuracy\": 0.37561374795417346, \"source?\": false}, \"ORACLE.run1_32\": {\"accuracy\": 0.38786565547128926, \"source?\": false}, \"ORACLE.run1_20\": {\"accuracy\": 0.2989634478996181, \"source?\": false}, \"ORACLE.run1_8\": {\"accuracy\": 0.4958494742667405, \"source?\": false}}}, \"history\": {\"epoch_indices\": [1, 2, 3, 4, 5, 6, 7, 8, 9], \"train_label_loss\": [0.13947686908171328, 0.08951302437765739, 0.06721664056372749, 0.05846824081616634, 0.053364717734890266, 0.04523410442619838, 0.04032154560506574, 0.03425953497827968, 0.02780708943638376], \"source_val_label_loss\": [0.28705430030822754, 0.08831583708524704, 0.06895413249731064, 0.0626865103840828, 0.0614895224571228, 0.06287768483161926, 0.06266874819993973, 0.06809387356042862, 0.06798568367958069], \"target_val_label_loss\": [1.847720980644226, 1.7562360763549805, 1.8957241773605347, 1.7357134819030762, 1.7283974885940552, 1.9723178148269653, 2.003373861312866, 2.4625253677368164, 2.753648519515991], \"source_val_acc_label\": [0.9687915890338036, 0.980503060952888, 0.9837303699760447, 0.984362523289859, 0.9851943039659302, 0.9844956081980304, 0.9861924407772159, 0.9844623369709875, 0.9850612190577589], \"target_val_acc_label\": [0.4787503421845059, 0.4649260881467287, 0.400047905830824, 0.4326580892417191, 0.3988160416096359, 0.30348343826991514, 0.2942444566110047, 0.22806597317273475, 0.2173555981385163]}, \"dataset_metrics\": {\"source\": {\"train\": {\"n_unique_x\": 184234, \"n_unique_y\": 83, \"n_batch/episode\": 8309}, \"val\": {\"n_unique_x\": 39369, \"n_unique_y\": 83, \"n_batch/episode\": 1156}, \"test\": {\"n_unique_x\": 39369, \"n_unique_y\": 83, \"n_batch/episode\": 1156}}, \"target\": {\"train\": {\"n_unique_x\": 179199, \"n_unique_y\": 16, \"n_batch/episode\": 8080}, \"val\": {\"n_unique_x\": 38309, \"n_unique_y\": 16, \"n_batch/episode\": 1124}, \"test\": {\"n_unique_x\": 38309, \"n_unique_y\": 16, \"n_batch/episode\": 1124}}}}'"
      ]
     },
     "execution_count": 29,
     "metadata": {},
     "output_type": "execute_result"
    }
   ],
   "source": [
    "json.dumps(experiment)"
   ]
  }
 ],
 "metadata": {
  "celltoolbar": "Tags",
  "kernelspec": {
   "display_name": "Python 3 (ipykernel)",
   "language": "python",
   "name": "python3"
  },
  "language_info": {
   "codemirror_mode": {
    "name": "ipython",
    "version": 3
   },
   "file_extension": ".py",
   "mimetype": "text/x-python",
   "name": "python",
   "nbconvert_exporter": "python",
   "pygments_lexer": "ipython3",
   "version": "3.8.10"
  },
  "papermill": {
   "default_parameters": {},
   "duration": 1967.37756,
   "end_time": "2022-03-09T03:53:11.974475",
   "environment_variables": {},
   "exception": null,
   "input_path": "/mnt/wd500GB/CSC500/csc500-main/csc500-notebooks/templates/tl_ptn_template.ipynb",
   "output_path": "trial.ipynb",
   "parameters": {
    "parameters": {
     "BEST_MODEL_PATH": "./best_model.pth",
     "NUM_LOGS_PER_EPOCH": 10,
     "criteria_for_best": "target_loss",
     "dataset_seed": 1337,
     "datasets": [
      {
       "domain_prefix": "C_A_",
       "domains": [
        1,
        2,
        3,
        4,
        5
       ],
       "episode_transforms": [],
       "labels": [
        "11-20.",
        "2-3.",
        "7-10.",
        "14-10.",
        "19-16.",
        "1-19.",
        "1-15.",
        "11-7.",
        "11-14.",
        "1-17.",
        "4-19.",
        "17-10.",
        "8-18.",
        "2-11.",
        "2-20.",
        "14-14.",
        "8-8.",
        "1-16.",
        "2-8.",
        "3-3.",
        "4-11.",
        "2-18.",
        "4-10.",
        "1-11.",
        "11-17.",
        "2-17.",
        "19-3.",
        "2-7.",
        "1-10.",
        "2-4.",
        "10-4.",
        "1-18.",
        "2-5.",
        "16-1.",
        "17-2.",
        "13-20.",
        "19-20.",
        "14-11.",
        "2-10.",
        "3-18."
       ],
       "num_examples_per_domain_per_label": 100,
       "pickle_path": "/mnt/wd500GB/CSC500/csc500-main/datasets/cores.stratified_ds.2022A.pkl",
       "source_or_target_dataset": "source",
       "x_transforms": []
      },
      {
       "domain_prefix": "C_B_",
       "domains": [
        1,
        2,
        3,
        4,
        5
       ],
       "episode_transforms": [],
       "labels": [
        "10-7.",
        "11-1.",
        "13-8.",
        "14-7.",
        "15-1.",
        "15-20.",
        "16-16.",
        "17-11.",
        "19-1.",
        "19-19.",
        "2-6.",
        "3-13.",
        "4-1.",
        "5-5.",
        "6-15.",
        "7-14.",
        "8-20.",
        "8-3."
       ],
       "num_examples_per_domain_per_label": 1000,
       "pickle_path": "/mnt/wd500GB/CSC500/csc500-main/datasets/cores.stratified_ds.2022A.pkl",
       "source_or_target_dataset": "source",
       "x_transforms": []
      },
      {
       "domain_prefix": "W_A_",
       "domains": [
        1,
        2,
        3,
        4
       ],
       "episode_transforms": [],
       "labels": [
        "2-1",
        "19-7",
        "14-9",
        "20-3",
        "16-19",
        "20-14",
        "6-1",
        "19-6",
        "13-19",
        "2-7",
        "17-10",
        "18-14",
        "13-20",
        "2-15",
        "11-20",
        "3-1",
        "18-12",
        "18-2",
        "9-7",
        "18-17",
        "19-11",
        "7-12",
        "20-16",
        "6-6",
        "7-9",
        "19-15",
        "14-20",
        "19-14",
        "20-8",
        "19-12",
        "19-4",
        "18-4",
        "3-8",
        "2-4",
        "2-5",
        "13-3",
        "19-9",
        "7-13",
        "14-19",
        "18-16",
        "7-8",
        "18-1",
        "13-7",
        "18-9",
        "20-4",
        "15-6",
        "2-3",
        "10-4",
        "18-8",
        "15-19",
        "18-20",
        "19-13",
        "2-13",
        "3-13",
        "9-1",
        "14-13",
        "18-13",
        "16-20",
        "19-8",
        "19-10",
        "8-14",
        "18-10",
        "12-19",
        "18-15",
        "1-14",
        "18-7",
        "1-8",
        "12-7",
        "18-19",
        "13-18",
        "20-5",
        "18-5",
        "20-18",
        "14-8",
        "18-11",
        "14-14",
        "13-14",
        "8-1",
        "14-12",
        "19-3",
        "3-2",
        "2-8",
        "11-19"
       ],
       "num_examples_per_domain_per_label": 100,
       "pickle_path": "/mnt/wd500GB/CSC500/csc500-main/datasets/wisig.node3-19.stratified_ds.2022A.pkl",
       "source_or_target_dataset": "source",
       "x_transforms": []
      },
      {
       "domain_prefix": "W_B_",
       "domains": [
        1,
        2,
        3,
        4
       ],
       "episode_transforms": [],
       "labels": [
        "20-20",
        "19-1",
        "20-1",
        "5-1",
        "19-20",
        "19-2",
        "4-1",
        "1-12",
        "7-10",
        "1-18",
        "4-11",
        "8-13",
        "5-5",
        "10-7",
        "11-4",
        "11-1",
        "17-11",
        "4-10",
        "7-14",
        "1-19",
        "7-11",
        "11-10",
        "7-7",
        "8-8",
        "19-19",
        "10-11",
        "1-16",
        "20-12",
        "2-6",
        "11-7",
        "14-11",
        "1-10",
        "16-1",
        "20-7"
       ],
       "num_examples_per_domain_per_label": 500,
       "pickle_path": "/mnt/wd500GB/CSC500/csc500-main/datasets/wisig.node3-19.stratified_ds.2022A.pkl",
       "source_or_target_dataset": "source",
       "x_transforms": []
      },
      {
       "domain_prefix": "W_C_",
       "domains": [
        1,
        2,
        3,
        4
       ],
       "episode_transforms": [],
       "labels": [
        "10-17",
        "12-20",
        "14-10",
        "14-7",
        "15-1",
        "16-16",
        "20-15",
        "20-19",
        "3-18",
        "6-15",
        "8-18",
        "8-20",
        "8-3"
       ],
       "num_examples_per_domain_per_label": 1000,
       "pickle_path": "/mnt/wd500GB/CSC500/csc500-main/datasets/wisig.node3-19.stratified_ds.2022A.pkl",
       "source_or_target_dataset": "source",
       "x_transforms": []
      },
      {
       "domain_prefix": "ORACLE.run1_",
       "domains": [
        32,
        38,
        8,
        44,
        14,
        50,
        20,
        26
       ],
       "episode_transforms": [],
       "labels": [
        "3123D52",
        "3123D65",
        "3123D79",
        "3123D80",
        "3123D54",
        "3123D70",
        "3123D7B",
        "3123D89",
        "3123D58",
        "3123D76",
        "3123D7D",
        "3123EFE",
        "3123D64",
        "3123D78",
        "3123D7E",
        "3124E4A"
       ],
       "num_examples_per_domain_per_label": 2000,
       "pickle_path": "/mnt/wd500GB/CSC500/csc500-main/datasets/oracle.Run1_framed_2000Examples_stratified_ds.2022A.pkl",
       "source_or_target_dataset": "target",
       "x_transforms": []
      }
     ],
     "device": "cuda",
     "experiment_name": "tl_2_cores_wisig-oracle.run1",
     "lr": 0.001,
     "n_epoch": 50,
     "n_query": 2,
     "n_shot": 3,
     "n_way": 13,
     "patience": 3,
     "seed": 1337,
     "test_k_factor": 2,
     "torch_default_dtype": "torch.float32",
     "train_k_factor": 3,
     "val_k_factor": 2,
     "x_net": [
      {
       "class": "nnReshape",
       "kargs": {
        "shape": [
         -1,
         1,
         2,
         256
        ]
       }
      },
      {
       "class": "Conv2d",
       "kargs": {
        "bias": false,
        "in_channels": 1,
        "kernel_size": [
         1,
         7
        ],
        "out_channels": 256,
        "padding": [
         0,
         3
        ]
       }
      },
      {
       "class": "ReLU",
       "kargs": {
        "inplace": true
       }
      },
      {
       "class": "BatchNorm2d",
       "kargs": {
        "num_features": 256
       }
      },
      {
       "class": "Conv2d",
       "kargs": {
        "bias": true,
        "in_channels": 256,
        "kernel_size": [
         2,
         7
        ],
        "out_channels": 80,
        "padding": [
         0,
         3
        ]
       }
      },
      {
       "class": "ReLU",
       "kargs": {
        "inplace": true
       }
      },
      {
       "class": "BatchNorm2d",
       "kargs": {
        "num_features": 80
       }
      },
      {
       "class": "Flatten",
       "kargs": {}
      },
      {
       "class": "Linear",
       "kargs": {
        "in_features": 20480,
        "out_features": 256
       }
      },
      {
       "class": "ReLU",
       "kargs": {
        "inplace": true
       }
      },
      {
       "class": "BatchNorm1d",
       "kargs": {
        "num_features": 256
       }
      },
      {
       "class": "Linear",
       "kargs": {
        "in_features": 256,
        "out_features": 256
       }
      }
     ]
    }
   },
   "start_time": "2022-03-09T03:20:24.596915",
   "version": "2.3.4"
  }
 },
 "nbformat": 4,
 "nbformat_minor": 5
}