{
 "cells": [
  {
   "cell_type": "markdown",
   "id": "9fea5f46",
   "metadata": {
    "papermill": {
     "duration": 0.018926,
     "end_time": "2022-03-09T02:59:56.873995",
     "exception": false,
     "start_time": "2022-03-09T02:59:56.855069",
     "status": "completed"
    },
    "tags": []
   },
   "source": [
    "# Transfer Learning Template"
   ]
  },
  {
   "cell_type": "code",
   "execution_count": 1,
   "id": "0902182a",
   "metadata": {
    "execution": {
     "iopub.execute_input": "2022-03-09T02:59:56.911837Z",
     "iopub.status.busy": "2022-03-09T02:59:56.906710Z",
     "iopub.status.idle": "2022-03-09T02:59:57.671848Z",
     "shell.execute_reply": "2022-03-09T02:59:57.671365Z"
    },
    "papermill": {
     "duration": 0.785078,
     "end_time": "2022-03-09T02:59:57.671963",
     "exception": false,
     "start_time": "2022-03-09T02:59:56.886885",
     "status": "completed"
    },
    "tags": []
   },
   "outputs": [],
   "source": [
    "%load_ext autoreload\n",
    "%autoreload 2\n",
    "%matplotlib inline\n",
    "\n",
    "    \n",
    "import os, json, sys, time, random\n",
    "import numpy as np\n",
    "import torch\n",
    "from torch.optim import Adam\n",
    "from  easydict import EasyDict\n",
    "import matplotlib.pyplot as plt\n",
    "\n",
    "from steves_models.steves_ptn import Steves_Prototypical_Network\n",
    "\n",
    "from steves_utils.lazy_iterable_wrapper import Lazy_Iterable_Wrapper\n",
    "from steves_utils.iterable_aggregator import Iterable_Aggregator\n",
    "from steves_utils.ptn_train_eval_test_jig import  PTN_Train_Eval_Test_Jig\n",
    "from steves_utils.torch_sequential_builder import build_sequential\n",
    "from steves_utils.torch_utils import get_dataset_metrics, ptn_confusion_by_domain_over_dataloader\n",
    "from steves_utils.utils_v2 import (per_domain_accuracy_from_confusion, get_datasets_base_path)\n",
    "from steves_utils.PTN.utils import independent_accuracy_assesment\n",
    "\n",
    "from torch.utils.data import DataLoader\n",
    "\n",
    "from steves_utils.stratified_dataset.episodic_accessor import Episodic_Accessor_Factory\n",
    "\n",
    "from steves_utils.ptn_do_report import (\n",
    "    get_loss_curve,\n",
    "    get_results_table,\n",
    "    get_parameters_table,\n",
    "    get_domain_accuracies,\n",
    ")\n",
    "\n",
    "from steves_utils.transforms import get_chained_transform"
   ]
  },
  {
   "cell_type": "markdown",
   "id": "41c840b4",
   "metadata": {
    "papermill": {
     "duration": 0.012686,
     "end_time": "2022-03-09T02:59:57.701063",
     "exception": false,
     "start_time": "2022-03-09T02:59:57.688377",
     "status": "completed"
    },
    "tags": []
   },
   "source": [
    "# Allowed Parameters\n",
    "These are allowed parameters, not defaults\n",
    "Each of these values need to be present in the injected parameters (the notebook will raise an exception if they are not present)\n",
    "\n",
    "Papermill uses the cell tag \"parameters\" to inject the real parameters below this cell.\n",
    "Enable tags to see what I mean"
   ]
  },
  {
   "cell_type": "code",
   "execution_count": 2,
   "id": "fd44eb83",
   "metadata": {
    "execution": {
     "iopub.execute_input": "2022-03-09T02:59:57.729333Z",
     "iopub.status.busy": "2022-03-09T02:59:57.728128Z",
     "iopub.status.idle": "2022-03-09T02:59:57.742876Z",
     "shell.execute_reply": "2022-03-09T02:59:57.742615Z"
    },
    "papermill": {
     "duration": 0.029155,
     "end_time": "2022-03-09T02:59:57.742925",
     "exception": false,
     "start_time": "2022-03-09T02:59:57.713770",
     "status": "completed"
    },
    "tags": []
   },
   "outputs": [],
   "source": [
    "required_parameters = {\n",
    "    \"experiment_name\",\n",
    "    \"lr\",\n",
    "    \"device\",\n",
    "    \"seed\",\n",
    "    \"dataset_seed\",\n",
    "    \"n_shot\",\n",
    "    \"n_query\",\n",
    "    \"n_way\",\n",
    "    \"train_k_factor\",\n",
    "    \"val_k_factor\",\n",
    "    \"test_k_factor\",\n",
    "    \"n_epoch\",\n",
    "    \"patience\",\n",
    "    \"criteria_for_best\",\n",
    "    \"x_net\",\n",
    "    \"datasets\",\n",
    "    \"torch_default_dtype\",\n",
    "    \"NUM_LOGS_PER_EPOCH\",\n",
    "    \"BEST_MODEL_PATH\",\n",
    "}"
   ]
  },
  {
   "cell_type": "code",
   "execution_count": 3,
   "id": "fa3f0049",
   "metadata": {
    "execution": {
     "iopub.execute_input": "2022-03-09T02:59:57.777423Z",
     "iopub.status.busy": "2022-03-09T02:59:57.775252Z",
     "iopub.status.idle": "2022-03-09T02:59:57.789731Z",
     "shell.execute_reply": "2022-03-09T02:59:57.789483Z"
    },
    "papermill": {
     "duration": 0.033941,
     "end_time": "2022-03-09T02:59:57.789779",
     "exception": false,
     "start_time": "2022-03-09T02:59:57.755838",
     "status": "completed"
    },
    "tags": [
     "parameters"
    ]
   },
   "outputs": [],
   "source": [
    "from steves_utils.CORES.utils import (\n",
    "    ALL_NODES,\n",
    "    ALL_NODES_MINIMUM_1000_EXAMPLES,\n",
    "    ALL_DAYS\n",
    ")\n",
    "\n",
    "from steves_utils.ORACLE.utils_v2 import (\n",
    "    ALL_DISTANCES_FEET_NARROWED,\n",
    "    ALL_RUNS,\n",
    "    ALL_SERIAL_NUMBERS,\n",
    ")\n",
    "\n",
    "standalone_parameters = {}\n",
    "standalone_parameters[\"experiment_name\"] = \"STANDALONE PTN\"\n",
    "standalone_parameters[\"lr\"] = 0.001\n",
    "standalone_parameters[\"device\"] = \"cuda\"\n",
    "\n",
    "standalone_parameters[\"seed\"] = 1337\n",
    "standalone_parameters[\"dataset_seed\"] = 1337\n",
    "\n",
    "standalone_parameters[\"n_way\"] = 8\n",
    "standalone_parameters[\"n_shot\"] = 3\n",
    "standalone_parameters[\"n_query\"]  = 2\n",
    "standalone_parameters[\"train_k_factor\"] = 1\n",
    "standalone_parameters[\"val_k_factor\"] = 2\n",
    "standalone_parameters[\"test_k_factor\"] = 2\n",
    "\n",
    "\n",
    "standalone_parameters[\"n_epoch\"] = 50\n",
    "\n",
    "standalone_parameters[\"patience\"] = 10\n",
    "standalone_parameters[\"criteria_for_best\"] = \"source_loss\"\n",
    "\n",
    "standalone_parameters[\"datasets\"] = [\n",
    "    {\n",
    "        \"labels\": ALL_SERIAL_NUMBERS,\n",
    "        \"domains\": ALL_DISTANCES_FEET_NARROWED,\n",
    "        \"num_examples_per_domain_per_label\": 100,\n",
    "        \"pickle_path\": os.path.join(get_datasets_base_path(), \"oracle.Run1_framed_2000Examples_stratified_ds.2022A.pkl\"),\n",
    "        \"source_or_target_dataset\": \"source\",\n",
    "        \"x_transforms\": [\"unit_mag\", \"minus_two\"],\n",
    "        \"episode_transforms\": [],\n",
    "        \"domain_prefix\": \"ORACLE_\"\n",
    "    },\n",
    "    {\n",
    "        \"labels\": ALL_NODES,\n",
    "        \"domains\": ALL_DAYS,\n",
    "        \"num_examples_per_domain_per_label\": 100,\n",
    "        \"pickle_path\": os.path.join(get_datasets_base_path(), \"cores.stratified_ds.2022A.pkl\"),\n",
    "        \"source_or_target_dataset\": \"target\",\n",
    "        \"x_transforms\": [\"unit_power\", \"times_zero\"],\n",
    "        \"episode_transforms\": [],\n",
    "        \"domain_prefix\": \"CORES_\"\n",
    "    }   \n",
    "]\n",
    "\n",
    "standalone_parameters[\"torch_default_dtype\"] = \"torch.float32\" \n",
    "\n",
    "\n",
    "\n",
    "standalone_parameters[\"x_net\"] =     [\n",
    "    {\"class\": \"nnReshape\", \"kargs\": {\"shape\":[-1, 1, 2, 256]}},\n",
    "    {\"class\": \"Conv2d\", \"kargs\": { \"in_channels\":1, \"out_channels\":256, \"kernel_size\":(1,7), \"bias\":False, \"padding\":(0,3), },},\n",
    "    {\"class\": \"ReLU\", \"kargs\": {\"inplace\": True}},\n",
    "    {\"class\": \"BatchNorm2d\", \"kargs\": {\"num_features\":256}},\n",
    "\n",
    "    {\"class\": \"Conv2d\", \"kargs\": { \"in_channels\":256, \"out_channels\":80, \"kernel_size\":(2,7), \"bias\":True, \"padding\":(0,3), },},\n",
    "    {\"class\": \"ReLU\", \"kargs\": {\"inplace\": True}},\n",
    "    {\"class\": \"BatchNorm2d\", \"kargs\": {\"num_features\":80}},\n",
    "    {\"class\": \"Flatten\", \"kargs\": {}},\n",
    "\n",
    "    {\"class\": \"Linear\", \"kargs\": {\"in_features\": 80*256, \"out_features\": 256}}, # 80 units per IQ pair\n",
    "    {\"class\": \"ReLU\", \"kargs\": {\"inplace\": True}},\n",
    "    {\"class\": \"BatchNorm1d\", \"kargs\": {\"num_features\":256}},\n",
    "\n",
    "    {\"class\": \"Linear\", \"kargs\": {\"in_features\": 256, \"out_features\": 256}},\n",
    "]\n",
    "\n",
    "# Parameters relevant to results\n",
    "# These parameters will basically never need to change\n",
    "standalone_parameters[\"NUM_LOGS_PER_EPOCH\"] = 10\n",
    "standalone_parameters[\"BEST_MODEL_PATH\"] = \"./best_model.pth\"\n",
    "\n",
    "\n",
    "\n",
    "\n"
   ]
  },
  {
   "cell_type": "code",
   "execution_count": 4,
   "id": "5380283a",
   "metadata": {
    "execution": {
     "iopub.execute_input": "2022-03-09T02:59:57.828671Z",
     "iopub.status.busy": "2022-03-09T02:59:57.828339Z",
     "iopub.status.idle": "2022-03-09T02:59:57.839972Z",
     "shell.execute_reply": "2022-03-09T02:59:57.839758Z"
    },
    "papermill": {
     "duration": 0.037234,
     "end_time": "2022-03-09T02:59:57.840020",
     "exception": false,
     "start_time": "2022-03-09T02:59:57.802786",
     "status": "completed"
    },
    "tags": [
     "injected-parameters"
    ]
   },
   "outputs": [],
   "source": [
    "# Parameters\n",
    "parameters = {\n",
    "    \"experiment_name\": \"tl_2_cores_wisig-oracle.run1\",\n",
    "    \"device\": \"cuda\",\n",
    "    \"lr\": 0.001,\n",
    "    \"seed\": 1337,\n",
    "    \"dataset_seed\": 1337,\n",
    "    \"n_shot\": 3,\n",
    "    \"n_query\": 2,\n",
    "    \"train_k_factor\": 3,\n",
    "    \"val_k_factor\": 2,\n",
    "    \"test_k_factor\": 2,\n",
    "    \"torch_default_dtype\": \"torch.float32\",\n",
    "    \"n_epoch\": 50,\n",
    "    \"patience\": 3,\n",
    "    \"criteria_for_best\": \"target_loss\",\n",
    "    \"x_net\": [\n",
    "        {\"class\": \"nnReshape\", \"kargs\": {\"shape\": [-1, 1, 2, 256]}},\n",
    "        {\n",
    "            \"class\": \"Conv2d\",\n",
    "            \"kargs\": {\n",
    "                \"in_channels\": 1,\n",
    "                \"out_channels\": 256,\n",
    "                \"kernel_size\": [1, 7],\n",
    "                \"bias\": False,\n",
    "                \"padding\": [0, 3],\n",
    "            },\n",
    "        },\n",
    "        {\"class\": \"ReLU\", \"kargs\": {\"inplace\": True}},\n",
    "        {\"class\": \"BatchNorm2d\", \"kargs\": {\"num_features\": 256}},\n",
    "        {\n",
    "            \"class\": \"Conv2d\",\n",
    "            \"kargs\": {\n",
    "                \"in_channels\": 256,\n",
    "                \"out_channels\": 80,\n",
    "                \"kernel_size\": [2, 7],\n",
    "                \"bias\": True,\n",
    "                \"padding\": [0, 3],\n",
    "            },\n",
    "        },\n",
    "        {\"class\": \"ReLU\", \"kargs\": {\"inplace\": True}},\n",
    "        {\"class\": \"BatchNorm2d\", \"kargs\": {\"num_features\": 80}},\n",
    "        {\"class\": \"Flatten\", \"kargs\": {}},\n",
    "        {\"class\": \"Linear\", \"kargs\": {\"in_features\": 20480, \"out_features\": 256}},\n",
    "        {\"class\": \"ReLU\", \"kargs\": {\"inplace\": True}},\n",
    "        {\"class\": \"BatchNorm1d\", \"kargs\": {\"num_features\": 256}},\n",
    "        {\"class\": \"Linear\", \"kargs\": {\"in_features\": 256, \"out_features\": 256}},\n",
    "    ],\n",
    "    \"NUM_LOGS_PER_EPOCH\": 10,\n",
    "    \"BEST_MODEL_PATH\": \"./best_model.pth\",\n",
    "    \"n_way\": 13,\n",
    "    \"datasets\": [\n",
    "        {\n",
    "            \"labels\": [\n",
    "                \"11-20.\",\n",
    "                \"2-3.\",\n",
    "                \"7-10.\",\n",
    "                \"14-10.\",\n",
    "                \"19-16.\",\n",
    "                \"1-19.\",\n",
    "                \"1-15.\",\n",
    "                \"11-7.\",\n",
    "                \"11-14.\",\n",
    "                \"1-17.\",\n",
    "                \"4-19.\",\n",
    "                \"17-10.\",\n",
    "                \"8-18.\",\n",
    "                \"2-11.\",\n",
    "                \"2-20.\",\n",
    "                \"14-14.\",\n",
    "                \"8-8.\",\n",
    "                \"1-16.\",\n",
    "                \"2-8.\",\n",
    "                \"3-3.\",\n",
    "                \"4-11.\",\n",
    "                \"2-18.\",\n",
    "                \"4-10.\",\n",
    "                \"1-11.\",\n",
    "                \"11-17.\",\n",
    "                \"2-17.\",\n",
    "                \"19-3.\",\n",
    "                \"2-7.\",\n",
    "                \"1-10.\",\n",
    "                \"2-4.\",\n",
    "                \"10-4.\",\n",
    "                \"1-18.\",\n",
    "                \"2-5.\",\n",
    "                \"16-1.\",\n",
    "                \"17-2.\",\n",
    "                \"13-20.\",\n",
    "                \"19-20.\",\n",
    "                \"14-11.\",\n",
    "                \"2-10.\",\n",
    "                \"3-18.\",\n",
    "            ],\n",
    "            \"domains\": [1, 2, 3, 4, 5],\n",
    "            \"num_examples_per_domain_per_label\": 100,\n",
    "            \"pickle_path\": \"/mnt/wd500GB/CSC500/csc500-main/datasets/cores.stratified_ds.2022A.pkl\",\n",
    "            \"source_or_target_dataset\": \"source\",\n",
    "            \"x_transforms\": [\"unit_mag\"],\n",
    "            \"episode_transforms\": [],\n",
    "            \"domain_prefix\": \"C_A_\",\n",
    "        },\n",
    "        {\n",
    "            \"labels\": [\n",
    "                \"10-7.\",\n",
    "                \"11-1.\",\n",
    "                \"13-8.\",\n",
    "                \"14-7.\",\n",
    "                \"15-1.\",\n",
    "                \"15-20.\",\n",
    "                \"16-16.\",\n",
    "                \"17-11.\",\n",
    "                \"19-1.\",\n",
    "                \"19-19.\",\n",
    "                \"2-6.\",\n",
    "                \"3-13.\",\n",
    "                \"4-1.\",\n",
    "                \"5-5.\",\n",
    "                \"6-15.\",\n",
    "                \"7-14.\",\n",
    "                \"8-20.\",\n",
    "                \"8-3.\",\n",
    "            ],\n",
    "            \"domains\": [1, 2, 3, 4, 5],\n",
    "            \"num_examples_per_domain_per_label\": 1000,\n",
    "            \"pickle_path\": \"/mnt/wd500GB/CSC500/csc500-main/datasets/cores.stratified_ds.2022A.pkl\",\n",
    "            \"source_or_target_dataset\": \"source\",\n",
    "            \"x_transforms\": [\"unit_mag\"],\n",
    "            \"episode_transforms\": [],\n",
    "            \"domain_prefix\": \"C_B_\",\n",
    "        },\n",
    "        {\n",
    "            \"labels\": [\n",
    "                \"2-1\",\n",
    "                \"19-7\",\n",
    "                \"14-9\",\n",
    "                \"20-3\",\n",
    "                \"16-19\",\n",
    "                \"20-14\",\n",
    "                \"6-1\",\n",
    "                \"19-6\",\n",
    "                \"13-19\",\n",
    "                \"2-7\",\n",
    "                \"17-10\",\n",
    "                \"18-14\",\n",
    "                \"13-20\",\n",
    "                \"2-15\",\n",
    "                \"11-20\",\n",
    "                \"3-1\",\n",
    "                \"18-12\",\n",
    "                \"18-2\",\n",
    "                \"9-7\",\n",
    "                \"18-17\",\n",
    "                \"19-11\",\n",
    "                \"7-12\",\n",
    "                \"20-16\",\n",
    "                \"6-6\",\n",
    "                \"7-9\",\n",
    "                \"19-15\",\n",
    "                \"14-20\",\n",
    "                \"19-14\",\n",
    "                \"20-8\",\n",
    "                \"19-12\",\n",
    "                \"19-4\",\n",
    "                \"18-4\",\n",
    "                \"3-8\",\n",
    "                \"2-4\",\n",
    "                \"2-5\",\n",
    "                \"13-3\",\n",
    "                \"19-9\",\n",
    "                \"7-13\",\n",
    "                \"14-19\",\n",
    "                \"18-16\",\n",
    "                \"7-8\",\n",
    "                \"18-1\",\n",
    "                \"13-7\",\n",
    "                \"18-9\",\n",
    "                \"20-4\",\n",
    "                \"15-6\",\n",
    "                \"2-3\",\n",
    "                \"10-4\",\n",
    "                \"18-8\",\n",
    "                \"15-19\",\n",
    "                \"18-20\",\n",
    "                \"19-13\",\n",
    "                \"2-13\",\n",
    "                \"3-13\",\n",
    "                \"9-1\",\n",
    "                \"14-13\",\n",
    "                \"18-13\",\n",
    "                \"16-20\",\n",
    "                \"19-8\",\n",
    "                \"19-10\",\n",
    "                \"8-14\",\n",
    "                \"18-10\",\n",
    "                \"12-19\",\n",
    "                \"18-15\",\n",
    "                \"1-14\",\n",
    "                \"18-7\",\n",
    "                \"1-8\",\n",
    "                \"12-7\",\n",
    "                \"18-19\",\n",
    "                \"13-18\",\n",
    "                \"20-5\",\n",
    "                \"18-5\",\n",
    "                \"20-18\",\n",
    "                \"14-8\",\n",
    "                \"18-11\",\n",
    "                \"14-14\",\n",
    "                \"13-14\",\n",
    "                \"8-1\",\n",
    "                \"14-12\",\n",
    "                \"19-3\",\n",
    "                \"3-2\",\n",
    "                \"2-8\",\n",
    "                \"11-19\",\n",
    "            ],\n",
    "            \"domains\": [1, 2, 3, 4],\n",
    "            \"num_examples_per_domain_per_label\": 100,\n",
    "            \"pickle_path\": \"/mnt/wd500GB/CSC500/csc500-main/datasets/wisig.node3-19.stratified_ds.2022A.pkl\",\n",
    "            \"source_or_target_dataset\": \"source\",\n",
    "            \"x_transforms\": [\"unit_mag\"],\n",
    "            \"episode_transforms\": [],\n",
    "            \"domain_prefix\": \"W_A_\",\n",
    "        },\n",
    "        {\n",
    "            \"labels\": [\n",
    "                \"20-20\",\n",
    "                \"19-1\",\n",
    "                \"20-1\",\n",
    "                \"5-1\",\n",
    "                \"19-20\",\n",
    "                \"19-2\",\n",
    "                \"4-1\",\n",
    "                \"1-12\",\n",
    "                \"7-10\",\n",
    "                \"1-18\",\n",
    "                \"4-11\",\n",
    "                \"8-13\",\n",
    "                \"5-5\",\n",
    "                \"10-7\",\n",
    "                \"11-4\",\n",
    "                \"11-1\",\n",
    "                \"17-11\",\n",
    "                \"4-10\",\n",
    "                \"7-14\",\n",
    "                \"1-19\",\n",
    "                \"7-11\",\n",
    "                \"11-10\",\n",
    "                \"7-7\",\n",
    "                \"8-8\",\n",
    "                \"19-19\",\n",
    "                \"10-11\",\n",
    "                \"1-16\",\n",
    "                \"20-12\",\n",
    "                \"2-6\",\n",
    "                \"11-7\",\n",
    "                \"14-11\",\n",
    "                \"1-10\",\n",
    "                \"16-1\",\n",
    "                \"20-7\",\n",
    "            ],\n",
    "            \"domains\": [1, 2, 3, 4],\n",
    "            \"num_examples_per_domain_per_label\": 500,\n",
    "            \"pickle_path\": \"/mnt/wd500GB/CSC500/csc500-main/datasets/wisig.node3-19.stratified_ds.2022A.pkl\",\n",
    "            \"source_or_target_dataset\": \"source\",\n",
    "            \"x_transforms\": [\"unit_mag\"],\n",
    "            \"episode_transforms\": [],\n",
    "            \"domain_prefix\": \"W_B_\",\n",
    "        },\n",
    "        {\n",
    "            \"labels\": [\n",
    "                \"10-17\",\n",
    "                \"12-20\",\n",
    "                \"14-10\",\n",
    "                \"14-7\",\n",
    "                \"15-1\",\n",
    "                \"16-16\",\n",
    "                \"20-15\",\n",
    "                \"20-19\",\n",
    "                \"3-18\",\n",
    "                \"6-15\",\n",
    "                \"8-18\",\n",
    "                \"8-20\",\n",
    "                \"8-3\",\n",
    "            ],\n",
    "            \"domains\": [1, 2, 3, 4],\n",
    "            \"num_examples_per_domain_per_label\": 1000,\n",
    "            \"pickle_path\": \"/mnt/wd500GB/CSC500/csc500-main/datasets/wisig.node3-19.stratified_ds.2022A.pkl\",\n",
    "            \"source_or_target_dataset\": \"source\",\n",
    "            \"x_transforms\": [\"unit_mag\"],\n",
    "            \"episode_transforms\": [],\n",
    "            \"domain_prefix\": \"W_C_\",\n",
    "        },\n",
    "        {\n",
    "            \"labels\": [\n",
    "                \"3123D52\",\n",
    "                \"3123D65\",\n",
    "                \"3123D79\",\n",
    "                \"3123D80\",\n",
    "                \"3123D54\",\n",
    "                \"3123D70\",\n",
    "                \"3123D7B\",\n",
    "                \"3123D89\",\n",
    "                \"3123D58\",\n",
    "                \"3123D76\",\n",
    "                \"3123D7D\",\n",
    "                \"3123EFE\",\n",
    "                \"3123D64\",\n",
    "                \"3123D78\",\n",
    "                \"3123D7E\",\n",
    "                \"3124E4A\",\n",
    "            ],\n",
    "            \"domains\": [32, 38, 8, 44, 14, 50, 20, 26],\n",
    "            \"num_examples_per_domain_per_label\": 2000,\n",
    "            \"pickle_path\": \"/mnt/wd500GB/CSC500/csc500-main/datasets/oracle.Run1_framed_2000Examples_stratified_ds.2022A.pkl\",\n",
    "            \"source_or_target_dataset\": \"target\",\n",
    "            \"x_transforms\": [\"unit_mag\"],\n",
    "            \"episode_transforms\": [],\n",
    "            \"domain_prefix\": \"ORACLE.run1_\",\n",
    "        },\n",
    "    ],\n",
    "}\n"
   ]
  },
  {
   "cell_type": "code",
   "execution_count": 5,
   "id": "8fa1cc33",
   "metadata": {
    "execution": {
     "iopub.execute_input": "2022-03-09T02:59:57.869804Z",
     "iopub.status.busy": "2022-03-09T02:59:57.869543Z",
     "iopub.status.idle": "2022-03-09T02:59:57.883042Z",
     "shell.execute_reply": "2022-03-09T02:59:57.883247Z"
    },
    "papermill": {
     "duration": 0.030172,
     "end_time": "2022-03-09T02:59:57.883302",
     "exception": false,
     "start_time": "2022-03-09T02:59:57.853130",
     "status": "completed"
    },
    "tags": []
   },
   "outputs": [],
   "source": [
    "# Set this to True if you want to run this template directly\n",
    "STANDALONE = False\n",
    "if STANDALONE:\n",
    "    print(\"parameters not injected, running with standalone_parameters\")\n",
    "    parameters = standalone_parameters\n",
    "\n",
    "if not 'parameters' in locals() and not 'parameters' in globals():\n",
    "    raise Exception(\"Parameter injection failed\")\n",
    "\n",
    "#Use an easy dict for all the parameters\n",
    "p = EasyDict(parameters)\n",
    "\n",
    "supplied_keys = set(p.keys())\n",
    "\n",
    "if  supplied_keys != required_parameters:\n",
    "    print(\"Parameters are incorrect\")\n",
    "    if len(supplied_keys - required_parameters)>0: print(\"Shouldn't have:\", str(supplied_keys - required_parameters))\n",
    "    if len(required_parameters - supplied_keys)>0: print(\"Need to have:\", str(required_parameters - supplied_keys))\n",
    "    raise RuntimeError(\"Parameters are incorrect\")\n",
    "\n"
   ]
  },
  {
   "cell_type": "code",
   "execution_count": 6,
   "id": "3a028d58",
   "metadata": {
    "execution": {
     "iopub.execute_input": "2022-03-09T02:59:57.912001Z",
     "iopub.status.busy": "2022-03-09T02:59:57.911753Z",
     "iopub.status.idle": "2022-03-09T02:59:57.922136Z",
     "shell.execute_reply": "2022-03-09T02:59:57.922341Z"
    },
    "papermill": {
     "duration": 0.026137,
     "end_time": "2022-03-09T02:59:57.922396",
     "exception": false,
     "start_time": "2022-03-09T02:59:57.896259",
     "status": "completed"
    },
    "tags": []
   },
   "outputs": [],
   "source": [
    "###################################\n",
    "# Set the RNGs and make it all deterministic\n",
    "###################################\n",
    "np.random.seed(p.seed)\n",
    "random.seed(p.seed)\n",
    "torch.manual_seed(p.seed)\n",
    "\n",
    "torch.use_deterministic_algorithms(True) "
   ]
  },
  {
   "cell_type": "code",
   "execution_count": 7,
   "id": "b691acf6",
   "metadata": {
    "execution": {
     "iopub.execute_input": "2022-03-09T02:59:57.950745Z",
     "iopub.status.busy": "2022-03-09T02:59:57.950487Z",
     "iopub.status.idle": "2022-03-09T02:59:57.962676Z",
     "shell.execute_reply": "2022-03-09T02:59:57.962915Z"
    },
    "papermill": {
     "duration": 0.027462,
     "end_time": "2022-03-09T02:59:57.962995",
     "exception": false,
     "start_time": "2022-03-09T02:59:57.935533",
     "status": "completed"
    },
    "tags": []
   },
   "outputs": [],
   "source": [
    "###########################################\n",
    "# The stratified datasets honor this\n",
    "###########################################\n",
    "torch.set_default_dtype(eval(p.torch_default_dtype))"
   ]
  },
  {
   "cell_type": "code",
   "execution_count": 8,
   "id": "b5fba671",
   "metadata": {
    "execution": {
     "iopub.execute_input": "2022-03-09T02:59:57.993397Z",
     "iopub.status.busy": "2022-03-09T02:59:57.993137Z",
     "iopub.status.idle": "2022-03-09T02:59:58.032680Z",
     "shell.execute_reply": "2022-03-09T02:59:58.033078Z"
    },
    "papermill": {
     "duration": 0.056253,
     "end_time": "2022-03-09T02:59:58.033212",
     "exception": false,
     "start_time": "2022-03-09T02:59:57.976959",
     "status": "completed"
    },
    "tags": []
   },
   "outputs": [],
   "source": [
    "###################################\n",
    "# Build the network(s)\n",
    "# Note: It's critical to do this AFTER setting the RNG\n",
    "###################################\n",
    "x_net = build_sequential(p.x_net)"
   ]
  },
  {
   "cell_type": "code",
   "execution_count": 9,
   "id": "5d7e61cc",
   "metadata": {
    "execution": {
     "iopub.execute_input": "2022-03-09T02:59:58.065061Z",
     "iopub.status.busy": "2022-03-09T02:59:58.064810Z",
     "iopub.status.idle": "2022-03-09T02:59:58.073682Z",
     "shell.execute_reply": "2022-03-09T02:59:58.073887Z"
    },
    "papermill": {
     "duration": 0.024122,
     "end_time": "2022-03-09T02:59:58.073945",
     "exception": false,
     "start_time": "2022-03-09T02:59:58.049823",
     "status": "completed"
    },
    "tags": []
   },
   "outputs": [],
   "source": [
    "start_time_secs = time.time()"
   ]
  },
  {
   "cell_type": "code",
   "execution_count": 10,
   "id": "c6b67dfd",
   "metadata": {
    "execution": {
     "iopub.execute_input": "2022-03-09T02:59:58.103692Z",
     "iopub.status.busy": "2022-03-09T02:59:58.103444Z",
     "iopub.status.idle": "2022-03-09T02:59:58.115469Z",
     "shell.execute_reply": "2022-03-09T02:59:58.115160Z"
    },
    "papermill": {
     "duration": 0.026964,
     "end_time": "2022-03-09T02:59:58.115541",
     "exception": false,
     "start_time": "2022-03-09T02:59:58.088577",
     "status": "completed"
    },
    "tags": []
   },
   "outputs": [],
   "source": [
    "p.domains_source = []\n",
    "p.domains_target = []\n",
    "\n",
    "\n",
    "train_original_source = []\n",
    "val_original_source   = []\n",
    "test_original_source  = []\n",
    "\n",
    "train_original_target = []\n",
    "val_original_target   = []\n",
    "test_original_target  = []"
   ]
  },
  {
   "cell_type": "code",
   "execution_count": 11,
   "id": "e3d9c3d3",
   "metadata": {
    "execution": {
     "iopub.execute_input": "2022-03-09T02:59:58.149629Z",
     "iopub.status.busy": "2022-03-09T02:59:58.148988Z",
     "iopub.status.idle": "2022-03-09T02:59:58.160626Z",
     "shell.execute_reply": "2022-03-09T02:59:58.160821Z"
    },
    "papermill": {
     "duration": 0.026822,
     "end_time": "2022-03-09T02:59:58.160884",
     "exception": false,
     "start_time": "2022-03-09T02:59:58.134062",
     "status": "completed"
    },
    "tags": []
   },
   "outputs": [],
   "source": [
    "# global_x_transform_func = lambda x: normalize(x.to(torch.get_default_dtype()), \"unit_power\") # unit_power, unit_mag\n",
    "# global_x_transform_func = lambda x: normalize(x, \"unit_power\") # unit_power, unit_mag"
   ]
  },
  {
   "cell_type": "code",
   "execution_count": 12,
   "id": "acb78fd2",
   "metadata": {
    "execution": {
     "iopub.execute_input": "2022-03-09T02:59:58.198796Z",
     "iopub.status.busy": "2022-03-09T02:59:58.198526Z",
     "iopub.status.idle": "2022-03-09T02:59:58.207838Z",
     "shell.execute_reply": "2022-03-09T02:59:58.208190Z"
    },
    "papermill": {
     "duration": 0.029407,
     "end_time": "2022-03-09T02:59:58.208293",
     "exception": false,
     "start_time": "2022-03-09T02:59:58.178886",
     "status": "completed"
    },
    "tags": []
   },
   "outputs": [],
   "source": [
    "def add_dataset(\n",
    "    labels,\n",
    "    domains,\n",
    "    pickle_path,\n",
    "    x_transforms,\n",
    "    episode_transforms,\n",
    "    domain_prefix,\n",
    "    num_examples_per_domain_per_label,\n",
    "    source_or_target_dataset:str,\n",
    "    iterator_seed=p.seed,\n",
    "    dataset_seed=p.dataset_seed,\n",
    "    n_shot=p.n_shot,\n",
    "    n_way=p.n_way,\n",
    "    n_query=p.n_query,\n",
    "    train_val_test_k_factors=(p.train_k_factor,p.val_k_factor,p.test_k_factor),\n",
    "):\n",
    "   \n",
    "    if x_transforms == []: x_transform = None\n",
    "    else: x_transform = get_chained_transform(x_transforms)\n",
    "    \n",
    "    if episode_transforms == []: episode_transform = None\n",
    "    else: raise Exception(\"episode_transforms not implemented\")\n",
    "    \n",
    "    episode_transform = lambda tup, _prefix=domain_prefix: (_prefix + str(tup[0]), tup[1])\n",
    "\n",
    "\n",
    "    eaf = Episodic_Accessor_Factory(\n",
    "        labels=labels,\n",
    "        domains=domains,\n",
    "        num_examples_per_domain_per_label=num_examples_per_domain_per_label,\n",
    "        iterator_seed=iterator_seed,\n",
    "        dataset_seed=dataset_seed,\n",
    "        n_shot=n_shot,\n",
    "        n_way=n_way,\n",
    "        n_query=n_query,\n",
    "        train_val_test_k_factors=train_val_test_k_factors,\n",
    "        pickle_path=pickle_path,\n",
    "        x_transform_func=x_transform,\n",
    "    )\n",
    "\n",
    "    train, val, test = eaf.get_train(), eaf.get_val(), eaf.get_test()\n",
    "    train = Lazy_Iterable_Wrapper(train, episode_transform)\n",
    "    val = Lazy_Iterable_Wrapper(val, episode_transform)\n",
    "    test = Lazy_Iterable_Wrapper(test, episode_transform)\n",
    "\n",
    "    if source_or_target_dataset==\"source\":\n",
    "        train_original_source.append(train)\n",
    "        val_original_source.append(val)\n",
    "        test_original_source.append(test)\n",
    "\n",
    "        p.domains_source.extend(\n",
    "            [domain_prefix + str(u) for u in domains]\n",
    "        )\n",
    "    elif source_or_target_dataset==\"target\":\n",
    "        train_original_target.append(train)\n",
    "        val_original_target.append(val)\n",
    "        test_original_target.append(test)\n",
    "        p.domains_target.extend(\n",
    "            [domain_prefix + str(u) for u in domains]\n",
    "        )\n",
    "    else:\n",
    "        raise Exception(f\"invalid source_or_target_dataset: {source_or_target_dataset}\")\n",
    "    "
   ]
  },
  {
   "cell_type": "code",
   "execution_count": 13,
   "id": "fe266617",
   "metadata": {
    "execution": {
     "iopub.execute_input": "2022-03-09T02:59:58.242590Z",
     "iopub.status.busy": "2022-03-09T02:59:58.242343Z",
     "iopub.status.idle": "2022-03-09T03:00:30.039581Z",
     "shell.execute_reply": "2022-03-09T03:00:30.039960Z"
    },
    "papermill": {
     "duration": 31.81337,
     "end_time": "2022-03-09T03:00:30.040091",
     "exception": false,
     "start_time": "2022-03-09T02:59:58.226721",
     "status": "completed"
    },
    "tags": []
   },
   "outputs": [],
   "source": [
    "for ds in p.datasets:\n",
    "    add_dataset(**ds)"
   ]
  },
  {
   "cell_type": "code",
   "execution_count": 14,
   "id": "b90d65ac",
   "metadata": {
    "execution": {
     "iopub.execute_input": "2022-03-09T03:00:30.072782Z",
     "iopub.status.busy": "2022-03-09T03:00:30.072527Z",
     "iopub.status.idle": "2022-03-09T03:00:30.086224Z",
     "shell.execute_reply": "2022-03-09T03:00:30.085978Z"
    },
    "papermill": {
     "duration": 0.029078,
     "end_time": "2022-03-09T03:00:30.086277",
     "exception": false,
     "start_time": "2022-03-09T03:00:30.057199",
     "status": "completed"
    },
    "tags": []
   },
   "outputs": [],
   "source": [
    "# from steves_utils.CORES.utils import (\n",
    "#     ALL_NODES,\n",
    "#     ALL_NODES_MINIMUM_1000_EXAMPLES,\n",
    "#     ALL_DAYS\n",
    "# )\n",
    "\n",
    "# add_dataset(\n",
    "#     labels=ALL_NODES,\n",
    "#     domains = ALL_DAYS,\n",
    "#     num_examples_per_domain_per_label=100,\n",
    "#     pickle_path=os.path.join(get_datasets_base_path(), \"cores.stratified_ds.2022A.pkl\"),\n",
    "#     source_or_target_dataset=\"target\",\n",
    "#     x_transform_func=global_x_transform_func,\n",
    "#     domain_modifier=lambda u: f\"cores_{u}\"\n",
    "# )"
   ]
  },
  {
   "cell_type": "code",
   "execution_count": 15,
   "id": "76db484d",
   "metadata": {
    "execution": {
     "iopub.execute_input": "2022-03-09T03:00:30.121012Z",
     "iopub.status.busy": "2022-03-09T03:00:30.120759Z",
     "iopub.status.idle": "2022-03-09T03:00:30.134399Z",
     "shell.execute_reply": "2022-03-09T03:00:30.134014Z"
    },
    "papermill": {
     "duration": 0.029128,
     "end_time": "2022-03-09T03:00:30.134486",
     "exception": false,
     "start_time": "2022-03-09T03:00:30.105358",
     "status": "completed"
    },
    "tags": []
   },
   "outputs": [],
   "source": [
    "# from steves_utils.ORACLE.utils_v2 import (\n",
    "#     ALL_DISTANCES_FEET,\n",
    "#     ALL_RUNS,\n",
    "#     ALL_SERIAL_NUMBERS,\n",
    "# )\n",
    "\n",
    "\n",
    "# add_dataset(\n",
    "#     labels=ALL_SERIAL_NUMBERS,\n",
    "#     domains = list(set(ALL_DISTANCES_FEET) - {2,62}),\n",
    "#     num_examples_per_domain_per_label=100,\n",
    "#     pickle_path=os.path.join(get_datasets_base_path(), \"oracle.Run2_framed_2000Examples_stratified_ds.2022A.pkl\"),\n",
    "#     source_or_target_dataset=\"source\",\n",
    "#     x_transform_func=global_x_transform_func,\n",
    "#     domain_modifier=lambda u: f\"oracle1_{u}\"\n",
    "# )\n"
   ]
  },
  {
   "cell_type": "code",
   "execution_count": 16,
   "id": "97dea9d2",
   "metadata": {
    "execution": {
     "iopub.execute_input": "2022-03-09T03:00:30.169946Z",
     "iopub.status.busy": "2022-03-09T03:00:30.169687Z",
     "iopub.status.idle": "2022-03-09T03:00:30.177488Z",
     "shell.execute_reply": "2022-03-09T03:00:30.177778Z"
    },
    "papermill": {
     "duration": 0.023677,
     "end_time": "2022-03-09T03:00:30.177857",
     "exception": false,
     "start_time": "2022-03-09T03:00:30.154180",
     "status": "completed"
    },
    "tags": []
   },
   "outputs": [],
   "source": [
    "# from steves_utils.ORACLE.utils_v2 import (\n",
    "#     ALL_DISTANCES_FEET,\n",
    "#     ALL_RUNS,\n",
    "#     ALL_SERIAL_NUMBERS,\n",
    "# )\n",
    "\n",
    "\n",
    "# add_dataset(\n",
    "#     labels=ALL_SERIAL_NUMBERS,\n",
    "#     domains = list(set(ALL_DISTANCES_FEET) - {2,62,56}),\n",
    "#     num_examples_per_domain_per_label=100,\n",
    "#     pickle_path=os.path.join(get_datasets_base_path(), \"oracle.Run2_framed_2000Examples_stratified_ds.2022A.pkl\"),\n",
    "#     source_or_target_dataset=\"source\",\n",
    "#     x_transform_func=global_x_transform_func,\n",
    "#     domain_modifier=lambda u: f\"oracle2_{u}\"\n",
    "# )"
   ]
  },
  {
   "cell_type": "code",
   "execution_count": 17,
   "id": "6f289866",
   "metadata": {
    "execution": {
     "iopub.execute_input": "2022-03-09T03:00:30.209165Z",
     "iopub.status.busy": "2022-03-09T03:00:30.208902Z",
     "iopub.status.idle": "2022-03-09T03:00:30.222272Z",
     "shell.execute_reply": "2022-03-09T03:00:30.221824Z"
    },
    "papermill": {
     "duration": 0.029136,
     "end_time": "2022-03-09T03:00:30.222359",
     "exception": false,
     "start_time": "2022-03-09T03:00:30.193223",
     "status": "completed"
    },
    "tags": []
   },
   "outputs": [],
   "source": [
    "# add_dataset(\n",
    "#     labels=list(range(19)),\n",
    "#     domains = [0,1,2],\n",
    "#     num_examples_per_domain_per_label=100,\n",
    "#     pickle_path=os.path.join(get_datasets_base_path(), \"metehan.stratified_ds.2022A.pkl\"),\n",
    "#     source_or_target_dataset=\"target\",\n",
    "#     x_transform_func=global_x_transform_func,\n",
    "#     domain_modifier=lambda u: f\"met_{u}\"\n",
    "# )"
   ]
  },
  {
   "cell_type": "code",
   "execution_count": 18,
   "id": "86a863c3",
   "metadata": {
    "execution": {
     "iopub.execute_input": "2022-03-09T03:00:30.256999Z",
     "iopub.status.busy": "2022-03-09T03:00:30.256747Z",
     "iopub.status.idle": "2022-03-09T03:00:30.270120Z",
     "shell.execute_reply": "2022-03-09T03:00:30.269674Z"
    },
    "papermill": {
     "duration": 0.029811,
     "end_time": "2022-03-09T03:00:30.270206",
     "exception": false,
     "start_time": "2022-03-09T03:00:30.240395",
     "status": "completed"
    },
    "tags": []
   },
   "outputs": [],
   "source": [
    "# # from steves_utils.wisig.utils import (\n",
    "# #     ALL_NODES_MINIMUM_100_EXAMPLES,\n",
    "# #     ALL_NODES_MINIMUM_500_EXAMPLES,\n",
    "# #     ALL_NODES_MINIMUM_1000_EXAMPLES,\n",
    "# #     ALL_DAYS\n",
    "# # )\n",
    "\n",
    "# import steves_utils.wisig.utils as wisig\n",
    "\n",
    "\n",
    "# add_dataset(\n",
    "#     labels=wisig.ALL_NODES_MINIMUM_100_EXAMPLES,\n",
    "#     domains = wisig.ALL_DAYS,\n",
    "#     num_examples_per_domain_per_label=100,\n",
    "#     pickle_path=os.path.join(get_datasets_base_path(), \"wisig.node3-19.stratified_ds.2022A.pkl\"),\n",
    "#     source_or_target_dataset=\"target\",\n",
    "#     x_transform_func=global_x_transform_func,\n",
    "#     domain_modifier=lambda u: f\"wisig_{u}\"\n",
    "# )"
   ]
  },
  {
   "cell_type": "code",
   "execution_count": 19,
   "id": "fd5442bc",
   "metadata": {
    "execution": {
     "iopub.execute_input": "2022-03-09T03:00:30.306641Z",
     "iopub.status.busy": "2022-03-09T03:00:30.306385Z",
     "iopub.status.idle": "2022-03-09T03:00:30.318578Z",
     "shell.execute_reply": "2022-03-09T03:00:30.318888Z"
    },
    "papermill": {
     "duration": 0.03067,
     "end_time": "2022-03-09T03:00:30.318968",
     "exception": false,
     "start_time": "2022-03-09T03:00:30.288298",
     "status": "completed"
    },
    "tags": []
   },
   "outputs": [],
   "source": [
    "###################################\n",
    "# Build the dataset\n",
    "###################################\n",
    "train_original_source = Iterable_Aggregator(train_original_source, p.seed)\n",
    "val_original_source = Iterable_Aggregator(val_original_source, p.seed)\n",
    "test_original_source = Iterable_Aggregator(test_original_source, p.seed)\n",
    "\n",
    "\n",
    "train_original_target = Iterable_Aggregator(train_original_target, p.seed)\n",
    "val_original_target = Iterable_Aggregator(val_original_target, p.seed)\n",
    "test_original_target = Iterable_Aggregator(test_original_target, p.seed)\n",
    "\n",
    "# For CNN We only use X and Y. And we only train on the source.\n",
    "# Properly form the data using a transform lambda and Lazy_Iterable_Wrapper. Finally wrap them in a dataloader\n",
    "\n",
    "transform_lambda = lambda ex: ex[1] # Original is (<domain>, <episode>) so we strip down to episode only\n",
    "\n",
    "train_processed_source = Lazy_Iterable_Wrapper(train_original_source, transform_lambda)\n",
    "val_processed_source   = Lazy_Iterable_Wrapper(val_original_source, transform_lambda)\n",
    "test_processed_source  = Lazy_Iterable_Wrapper(test_original_source, transform_lambda)\n",
    "\n",
    "train_processed_target = Lazy_Iterable_Wrapper(train_original_target, transform_lambda)\n",
    "val_processed_target   = Lazy_Iterable_Wrapper(val_original_target, transform_lambda)\n",
    "test_processed_target  = Lazy_Iterable_Wrapper(test_original_target, transform_lambda)\n",
    "\n",
    "datasets = EasyDict({\n",
    "    \"source\": {\n",
    "        \"original\": {\"train\":train_original_source, \"val\":val_original_source, \"test\":test_original_source},\n",
    "        \"processed\": {\"train\":train_processed_source, \"val\":val_processed_source, \"test\":test_processed_source}\n",
    "    },\n",
    "    \"target\": {\n",
    "        \"original\": {\"train\":train_original_target, \"val\":val_original_target, \"test\":test_original_target},\n",
    "        \"processed\": {\"train\":train_processed_target, \"val\":val_processed_target, \"test\":test_processed_target}\n",
    "    },\n",
    "})"
   ]
  },
  {
   "cell_type": "code",
   "execution_count": 20,
   "id": "5b3c01fc",
   "metadata": {
    "execution": {
     "iopub.execute_input": "2022-03-09T03:00:30.354758Z",
     "iopub.status.busy": "2022-03-09T03:00:30.354484Z",
     "iopub.status.idle": "2022-03-09T03:00:38.281110Z",
     "shell.execute_reply": "2022-03-09T03:00:38.281876Z"
    },
    "papermill": {
     "duration": 7.945112,
     "end_time": "2022-03-09T03:00:38.282027",
     "exception": false,
     "start_time": "2022-03-09T03:00:30.336915",
     "status": "completed"
    },
    "tags": []
   },
   "outputs": [
    {
     "name": "stdout",
     "output_type": "stream",
     "text": [
      "{'C_B_2', 'W_B_4', 'C_A_1', 'W_C_4', 'C_A_5', 'C_B_1', 'C_B_4', 'W_B_3', 'W_B_1', 'W_A_4', 'W_A_2', 'W_C_2', 'W_C_3', 'C_A_2', 'C_A_4', 'C_B_3', 'W_B_2', 'C_B_5', 'W_A_1', 'C_A_3', 'W_C_1', 'W_A_3'}\n"
     ]
    },
    {
     "name": "stdout",
     "output_type": "stream",
     "text": [
      "{'ORACLE.run1_32', 'ORACLE.run1_8', 'ORACLE.run1_14', 'ORACLE.run1_50', 'ORACLE.run1_38', 'ORACLE.run1_26', 'ORACLE.run1_20', 'ORACLE.run1_44'}\n"
     ]
    },
    {
     "name": "stdout",
     "output_type": "stream",
     "text": [
      "tensor([[[-0.1249,  0.0488, -0.2394,  ..., -0.2471, -0.5437,  0.1808],\n",
      "         [ 0.1134,  0.1306,  0.1609,  ...,  0.7510, -0.1444, -0.6029]],\n",
      "\n",
      "        [[ 0.0595, -0.2085, -0.2264,  ...,  0.5412, -1.1282, -0.7122],\n",
      "         [-0.0944,  0.1896, -0.3879,  ...,  1.4438,  0.7241, -0.7546]],\n",
      "\n",
      "        [[-0.0929,  0.1215, -0.4715,  ...,  1.4120,  0.9700, -0.6810],\n",
      "         [-0.0894, -0.0257,  0.3526,  ..., -0.7442,  1.0456,  0.9336]],\n",
      "\n",
      "        ...,\n",
      "\n",
      "        [[-0.3283,  0.4659,  1.0652,  ...,  0.0430, -0.1727, -0.0106],\n",
      "         [-0.6423, -0.6056,  0.1817,  ...,  0.9621,  0.4441,  0.1434]],\n",
      "\n",
      "        [[-0.8877, -0.7666,  0.3346,  ...,  1.0618,  0.6493,  0.2190],\n",
      "         [ 0.1243, -0.8212, -0.4806,  ..., -0.2044,  0.4882,  0.4428]],\n",
      "\n",
      "        [[ 0.5800, -0.3365, -1.0146,  ..., -0.4056, -0.1267, -0.1177],\n",
      "         [ 0.6666,  0.8934,  0.2358,  ..., -0.8282, -0.3262, -0.0175]]])\n"
     ]
    }
   ],
   "source": [
    "from steves_utils.transforms import get_average_magnitude, get_average_power\n",
    "\n",
    "print(set([u for u,_ in val_original_source]))\n",
    "print(set([u for u,_ in val_original_target]))\n",
    "\n",
    "s_x, s_y, q_x, q_y, _ = next(iter(train_processed_source))\n",
    "print(s_x)\n",
    "\n",
    "# for ds in [\n",
    "#     train_processed_source,\n",
    "#     val_processed_source,\n",
    "#     test_processed_source,\n",
    "#     train_processed_target,\n",
    "#     val_processed_target,\n",
    "#     test_processed_target\n",
    "# ]:\n",
    "#     for s_x, s_y, q_x, q_y, _ in ds:\n",
    "#         for X in (s_x, q_x):\n",
    "#             for x in X:\n",
    "#                 assert np.isclose(get_average_magnitude(x.numpy()), 1.0)\n",
    "#                 assert np.isclose(get_average_power(x.numpy()), 1.0)\n",
    "                "
   ]
  },
  {
   "cell_type": "code",
   "execution_count": 21,
   "id": "bbdacba1",
   "metadata": {
    "execution": {
     "iopub.execute_input": "2022-03-09T03:00:38.323072Z",
     "iopub.status.busy": "2022-03-09T03:00:38.322594Z",
     "iopub.status.idle": "2022-03-09T03:00:38.401864Z",
     "shell.execute_reply": "2022-03-09T03:00:38.401438Z"
    },
    "papermill": {
     "duration": 0.100182,
     "end_time": "2022-03-09T03:00:38.401962",
     "exception": false,
     "start_time": "2022-03-09T03:00:38.301780",
     "status": "completed"
    },
    "tags": []
   },
   "outputs": [
    {
     "name": "stdout",
     "output_type": "stream",
     "text": [
      "(2, 256)\n"
     ]
    }
   ],
   "source": [
    "###################################\n",
    "# Build the model\n",
    "###################################\n",
    "model = Steves_Prototypical_Network(x_net, device=p.device, x_shape=(2,256))\n",
    "optimizer = Adam(params=model.parameters(), lr=p.lr)"
   ]
  },
  {
   "cell_type": "code",
   "execution_count": 22,
   "id": "22b39ac5",
   "metadata": {
    "execution": {
     "iopub.execute_input": "2022-03-09T03:00:38.439564Z",
     "iopub.status.busy": "2022-03-09T03:00:38.439282Z",
     "iopub.status.idle": "2022-03-09T03:18:17.903829Z",
     "shell.execute_reply": "2022-03-09T03:18:17.903573Z"
    },
    "papermill": {
     "duration": 1059.482378,
     "end_time": "2022-03-09T03:18:17.903892",
     "exception": false,
     "start_time": "2022-03-09T03:00:38.421514",
     "status": "completed"
    },
    "tags": []
   },
   "outputs": [
    {
     "name": "stdout",
     "output_type": "stream",
     "text": [
      "epoch: 1, [batch: 1 / 8327], examples_per_second: 32.3033, train_label_loss: 2.6719, \n"
     ]
    },
    {
     "name": "stdout",
     "output_type": "stream",
     "text": [
      "epoch: 1, [batch: 833 / 8327], examples_per_second: 2910.5577, train_label_loss: 0.4107, \n"
     ]
    },
    {
     "name": "stdout",
     "output_type": "stream",
     "text": [
      "epoch: 1, [batch: 1666 / 8327], examples_per_second: 2810.8965, train_label_loss: 0.0009, \n"
     ]
    },
    {
     "name": "stdout",
     "output_type": "stream",
     "text": [
      "epoch: 1, [batch: 2498 / 8327], examples_per_second: 2772.5434, train_label_loss: 0.0038, \n"
     ]
    },
    {
     "name": "stdout",
     "output_type": "stream",
     "text": [
      "epoch: 1, [batch: 3331 / 8327], examples_per_second: 2847.9402, train_label_loss: 0.0037, \n"
     ]
    },
    {
     "name": "stdout",
     "output_type": "stream",
     "text": [
      "epoch: 1, [batch: 4164 / 8327], examples_per_second: 2862.7761, train_label_loss: 0.0742, \n"
     ]
    },
    {
     "name": "stdout",
     "output_type": "stream",
     "text": [
      "epoch: 1, [batch: 4996 / 8327], examples_per_second: 2845.4253, train_label_loss: 0.0031, \n"
     ]
    },
    {
     "name": "stdout",
     "output_type": "stream",
     "text": [
      "epoch: 1, [batch: 5829 / 8327], examples_per_second: 2784.5427, train_label_loss: 0.3693, \n"
     ]
    },
    {
     "name": "stdout",
     "output_type": "stream",
     "text": [
      "epoch: 1, [batch: 6661 / 8327], examples_per_second: 2896.0667, train_label_loss: 0.0084, \n"
     ]
    },
    {
     "name": "stdout",
     "output_type": "stream",
     "text": [
      "epoch: 1, [batch: 7494 / 8327], examples_per_second: 2889.8078, train_label_loss: 0.0752, \n"
     ]
    },
    {
     "name": "stdout",
     "output_type": "stream",
     "text": [
      "=============================================================\n",
      "epoch: 1, source_val_acc_label: 0.9688, target_val_acc_label: 0.2700, source_val_label_loss: 0.2086, target_val_label_loss: 2.1067, \n",
      "=============================================================\n"
     ]
    },
    {
     "name": "stdout",
     "output_type": "stream",
     "text": [
      "New best\n"
     ]
    },
    {
     "name": "stdout",
     "output_type": "stream",
     "text": [
      "epoch: 2, [batch: 1 / 8319], examples_per_second: 3.3705, train_label_loss: 0.5392, \n"
     ]
    },
    {
     "name": "stdout",
     "output_type": "stream",
     "text": [
      "epoch: 2, [batch: 832 / 8319], examples_per_second: 2903.4192, train_label_loss: 0.1620, \n"
     ]
    },
    {
     "name": "stdout",
     "output_type": "stream",
     "text": [
      "epoch: 2, [batch: 1664 / 8319], examples_per_second: 2817.6807, train_label_loss: 0.4167, \n"
     ]
    },
    {
     "name": "stdout",
     "output_type": "stream",
     "text": [
      "epoch: 2, [batch: 2496 / 8319], examples_per_second: 2843.7253, train_label_loss: 0.0020, \n"
     ]
    },
    {
     "name": "stdout",
     "output_type": "stream",
     "text": [
      "epoch: 2, [batch: 3328 / 8319], examples_per_second: 2901.1885, train_label_loss: 0.0028, \n"
     ]
    },
    {
     "name": "stdout",
     "output_type": "stream",
     "text": [
      "epoch: 2, [batch: 4160 / 8319], examples_per_second: 2903.2018, train_label_loss: 0.1207, \n"
     ]
    },
    {
     "name": "stdout",
     "output_type": "stream",
     "text": [
      "epoch: 2, [batch: 4991 / 8319], examples_per_second: 2849.4880, train_label_loss: 0.0047, \n"
     ]
    },
    {
     "name": "stdout",
     "output_type": "stream",
     "text": [
      "epoch: 2, [batch: 5823 / 8319], examples_per_second: 2780.3248, train_label_loss: 0.0045, \n"
     ]
    },
    {
     "name": "stdout",
     "output_type": "stream",
     "text": [
      "epoch: 2, [batch: 6655 / 8319], examples_per_second: 2818.7783, train_label_loss: 0.1071, \n"
     ]
    },
    {
     "name": "stdout",
     "output_type": "stream",
     "text": [
      "epoch: 2, [batch: 7487 / 8319], examples_per_second: 2911.8053, train_label_loss: 0.0000, \n"
     ]
    },
    {
     "name": "stdout",
     "output_type": "stream",
     "text": [
      "=============================================================\n",
      "epoch: 2, source_val_acc_label: 0.9803, target_val_acc_label: 0.2535, source_val_label_loss: 0.0880, target_val_label_loss: 2.1888, \n",
      "=============================================================\n"
     ]
    },
    {
     "name": "stdout",
     "output_type": "stream",
     "text": [
      "epoch: 3, [batch: 1 / 8311], examples_per_second: 3.3144, train_label_loss: 0.0003, \n"
     ]
    },
    {
     "name": "stdout",
     "output_type": "stream",
     "text": [
      "epoch: 3, [batch: 832 / 8311], examples_per_second: 2786.6401, train_label_loss: 0.2382, \n"
     ]
    },
    {
     "name": "stdout",
     "output_type": "stream",
     "text": [
      "epoch: 3, [batch: 1663 / 8311], examples_per_second: 2799.3857, train_label_loss: 0.0723, \n"
     ]
    },
    {
     "name": "stdout",
     "output_type": "stream",
     "text": [
      "epoch: 3, [batch: 2494 / 8311], examples_per_second: 2806.3474, train_label_loss: 0.4004, \n"
     ]
    },
    {
     "name": "stdout",
     "output_type": "stream",
     "text": [
      "epoch: 3, [batch: 3325 / 8311], examples_per_second: 2860.8812, train_label_loss: 0.1079, \n"
     ]
    },
    {
     "name": "stdout",
     "output_type": "stream",
     "text": [
      "epoch: 3, [batch: 4156 / 8311], examples_per_second: 2879.3193, train_label_loss: 0.0001, \n"
     ]
    },
    {
     "name": "stdout",
     "output_type": "stream",
     "text": [
      "epoch: 3, [batch: 4987 / 8311], examples_per_second: 2902.2897, train_label_loss: 0.5895, \n"
     ]
    },
    {
     "name": "stdout",
     "output_type": "stream",
     "text": [
      "epoch: 3, [batch: 5818 / 8311], examples_per_second: 2912.8484, train_label_loss: 0.0020, \n"
     ]
    },
    {
     "name": "stdout",
     "output_type": "stream",
     "text": [
      "epoch: 3, [batch: 6649 / 8311], examples_per_second: 2765.9217, train_label_loss: 0.0008, \n"
     ]
    },
    {
     "name": "stdout",
     "output_type": "stream",
     "text": [
      "epoch: 3, [batch: 7480 / 8311], examples_per_second: 2661.8718, train_label_loss: 0.0003, \n"
     ]
    },
    {
     "name": "stdout",
     "output_type": "stream",
     "text": [
      "=============================================================\n",
      "epoch: 3, source_val_acc_label: 0.9835, target_val_acc_label: 0.2600, source_val_label_loss: 0.0744, target_val_label_loss: 2.1573, \n",
      "=============================================================\n"
     ]
    },
    {
     "name": "stdout",
     "output_type": "stream",
     "text": [
      "epoch: 4, [batch: 1 / 8322], examples_per_second: 3.2798, train_label_loss: 0.0000, \n"
     ]
    },
    {
     "name": "stdout",
     "output_type": "stream",
     "text": [
      "epoch: 4, [batch: 833 / 8322], examples_per_second: 2849.8577, train_label_loss: 0.0013, \n"
     ]
    },
    {
     "name": "stdout",
     "output_type": "stream",
     "text": [
      "epoch: 4, [batch: 1665 / 8322], examples_per_second: 2751.4733, train_label_loss: 0.0007, \n"
     ]
    },
    {
     "name": "stdout",
     "output_type": "stream",
     "text": [
      "epoch: 4, [batch: 2497 / 8322], examples_per_second: 2810.6178, train_label_loss: 0.0002, \n"
     ]
    },
    {
     "name": "stdout",
     "output_type": "stream",
     "text": [
      "epoch: 4, [batch: 3329 / 8322], examples_per_second: 2818.9141, train_label_loss: 0.2708, \n"
     ]
    },
    {
     "name": "stdout",
     "output_type": "stream",
     "text": [
      "epoch: 4, [batch: 4161 / 8322], examples_per_second: 2837.7594, train_label_loss: 0.0001, \n"
     ]
    },
    {
     "name": "stdout",
     "output_type": "stream",
     "text": [
      "epoch: 4, [batch: 4993 / 8322], examples_per_second: 2786.9016, train_label_loss: 0.0656, \n"
     ]
    },
    {
     "name": "stdout",
     "output_type": "stream",
     "text": [
      "epoch: 4, [batch: 5825 / 8322], examples_per_second: 2854.3193, train_label_loss: 0.0004, \n"
     ]
    },
    {
     "name": "stdout",
     "output_type": "stream",
     "text": [
      "epoch: 4, [batch: 6657 / 8322], examples_per_second: 2804.7832, train_label_loss: 0.0003, \n"
     ]
    },
    {
     "name": "stdout",
     "output_type": "stream",
     "text": [
      "epoch: 4, [batch: 7489 / 8322], examples_per_second: 2804.1938, train_label_loss: 0.0053, \n"
     ]
    },
    {
     "name": "stdout",
     "output_type": "stream",
     "text": [
      "=============================================================\n",
      "epoch: 4, source_val_acc_label: 0.9836, target_val_acc_label: 0.2594, source_val_label_loss: 0.0748, target_val_label_loss: 2.1741, \n",
      "=============================================================\n"
     ]
    },
    {
     "name": "stdout",
     "output_type": "stream",
     "text": [
      "epoch: 5, [batch: 1 / 8321], examples_per_second: 3.1428, train_label_loss: 0.2156, \n"
     ]
    },
    {
     "name": "stdout",
     "output_type": "stream",
     "text": [
      "epoch: 5, [batch: 833 / 8321], examples_per_second: 2704.9583, train_label_loss: 0.0043, \n"
     ]
    },
    {
     "name": "stdout",
     "output_type": "stream",
     "text": [
      "epoch: 5, [batch: 1665 / 8321], examples_per_second: 2791.6137, train_label_loss: 0.0082, \n"
     ]
    },
    {
     "name": "stdout",
     "output_type": "stream",
     "text": [
      "epoch: 5, [batch: 2497 / 8321], examples_per_second: 2765.3013, train_label_loss: 0.0006, \n"
     ]
    },
    {
     "name": "stdout",
     "output_type": "stream",
     "text": [
      "epoch: 5, [batch: 3329 / 8321], examples_per_second: 2853.6080, train_label_loss: 0.0150, \n"
     ]
    },
    {
     "name": "stdout",
     "output_type": "stream",
     "text": [
      "epoch: 5, [batch: 4161 / 8321], examples_per_second: 2875.5343, train_label_loss: 0.0009, \n"
     ]
    },
    {
     "name": "stdout",
     "output_type": "stream",
     "text": [
      "epoch: 5, [batch: 4993 / 8321], examples_per_second: 2756.8448, train_label_loss: 0.0125, \n"
     ]
    },
    {
     "name": "stdout",
     "output_type": "stream",
     "text": [
      "epoch: 5, [batch: 5825 / 8321], examples_per_second: 2795.2612, train_label_loss: 0.0004, \n"
     ]
    },
    {
     "name": "stdout",
     "output_type": "stream",
     "text": [
      "epoch: 5, [batch: 6657 / 8321], examples_per_second: 2776.4165, train_label_loss: 0.0005, \n"
     ]
    },
    {
     "name": "stdout",
     "output_type": "stream",
     "text": [
      "epoch: 5, [batch: 7489 / 8321], examples_per_second: 2864.6342, train_label_loss: 0.0457, \n"
     ]
    },
    {
     "name": "stdout",
     "output_type": "stream",
     "text": [
      "=============================================================\n",
      "epoch: 5, source_val_acc_label: 0.9838, target_val_acc_label: 0.2434, source_val_label_loss: 0.0767, target_val_label_loss: 2.2478, \n",
      "=============================================================\n"
     ]
    },
    {
     "name": "stdout",
     "output_type": "stream",
     "text": [
      "Patience (3) exhausted\n"
     ]
    }
   ],
   "source": [
    "###################################\n",
    "# train\n",
    "###################################\n",
    "jig = PTN_Train_Eval_Test_Jig(model, p.BEST_MODEL_PATH, p.device)\n",
    "\n",
    "jig.train(\n",
    "    train_iterable=datasets.source.processed.train,\n",
    "    source_val_iterable=datasets.source.processed.val,\n",
    "    target_val_iterable=datasets.target.processed.val,\n",
    "    num_epochs=p.n_epoch,\n",
    "    num_logs_per_epoch=p.NUM_LOGS_PER_EPOCH,\n",
    "    patience=p.patience,\n",
    "    optimizer=optimizer,\n",
    "    criteria_for_best=p.criteria_for_best,\n",
    ")"
   ]
  },
  {
   "cell_type": "code",
   "execution_count": 23,
   "id": "31e8fabf",
   "metadata": {
    "execution": {
     "iopub.execute_input": "2022-03-09T03:18:17.960764Z",
     "iopub.status.busy": "2022-03-09T03:18:17.960467Z",
     "iopub.status.idle": "2022-03-09T03:18:17.977801Z",
     "shell.execute_reply": "2022-03-09T03:18:17.977329Z"
    },
    "papermill": {
     "duration": 0.047365,
     "end_time": "2022-03-09T03:18:17.977919",
     "exception": false,
     "start_time": "2022-03-09T03:18:17.930554",
     "status": "completed"
    },
    "tags": []
   },
   "outputs": [],
   "source": [
    "total_experiment_time_secs = time.time() - start_time_secs"
   ]
  },
  {
   "cell_type": "code",
   "execution_count": 24,
   "id": "87b9595b",
   "metadata": {
    "execution": {
     "iopub.execute_input": "2022-03-09T03:18:18.043496Z",
     "iopub.status.busy": "2022-03-09T03:18:18.043215Z",
     "iopub.status.idle": "2022-03-09T03:20:22.134068Z",
     "shell.execute_reply": "2022-03-09T03:20:22.133584Z"
    },
    "papermill": {
     "duration": 124.124175,
     "end_time": "2022-03-09T03:20:22.134184",
     "exception": false,
     "start_time": "2022-03-09T03:18:18.010009",
     "status": "completed"
    },
    "tags": []
   },
   "outputs": [],
   "source": [
    "###################################\n",
    "# Evaluate the model\n",
    "###################################\n",
    "source_test_label_accuracy, source_test_label_loss = jig.test(datasets.source.processed.test)\n",
    "target_test_label_accuracy, target_test_label_loss = jig.test(datasets.target.processed.test)\n",
    "\n",
    "source_val_label_accuracy, source_val_label_loss = jig.test(datasets.source.processed.val)\n",
    "target_val_label_accuracy, target_val_label_loss = jig.test(datasets.target.processed.val)\n",
    "\n",
    "history = jig.get_history()\n",
    "\n",
    "total_epochs_trained = len(history[\"epoch_indices\"])\n",
    "\n",
    "val_dl = Iterable_Aggregator((datasets.source.original.val,datasets.target.original.val))\n",
    "\n",
    "confusion = ptn_confusion_by_domain_over_dataloader(model, p.device, val_dl)\n",
    "per_domain_accuracy = per_domain_accuracy_from_confusion(confusion)\n",
    "\n",
    "# Add a key to per_domain_accuracy for if it was a source domain\n",
    "for domain, accuracy in per_domain_accuracy.items():\n",
    "    per_domain_accuracy[domain] = {\n",
    "        \"accuracy\": accuracy,\n",
    "        \"source?\": domain in p.domains_source\n",
    "    }\n",
    "\n",
    "# Do an independent accuracy assesment JUST TO BE SURE!\n",
    "# _source_test_label_accuracy = independent_accuracy_assesment(model, datasets.source.processed.test, p.device)\n",
    "# _target_test_label_accuracy = independent_accuracy_assesment(model, datasets.target.processed.test, p.device)\n",
    "# _source_val_label_accuracy = independent_accuracy_assesment(model, datasets.source.processed.val, p.device)\n",
    "# _target_val_label_accuracy = independent_accuracy_assesment(model, datasets.target.processed.val, p.device)\n",
    "\n",
    "# assert(_source_test_label_accuracy == source_test_label_accuracy)\n",
    "# assert(_target_test_label_accuracy == target_test_label_accuracy)\n",
    "# assert(_source_val_label_accuracy == source_val_label_accuracy)\n",
    "# assert(_target_val_label_accuracy == target_val_label_accuracy)\n",
    "\n",
    "experiment = {\n",
    "    \"experiment_name\": p.experiment_name,\n",
    "    \"parameters\": dict(p),\n",
    "    \"results\": {\n",
    "        \"source_test_label_accuracy\": source_test_label_accuracy,\n",
    "        \"source_test_label_loss\": source_test_label_loss,\n",
    "        \"target_test_label_accuracy\": target_test_label_accuracy,\n",
    "        \"target_test_label_loss\": target_test_label_loss,\n",
    "        \"source_val_label_accuracy\": source_val_label_accuracy,\n",
    "        \"source_val_label_loss\": source_val_label_loss,\n",
    "        \"target_val_label_accuracy\": target_val_label_accuracy,\n",
    "        \"target_val_label_loss\": target_val_label_loss,\n",
    "        \"total_epochs_trained\": total_epochs_trained,\n",
    "        \"total_experiment_time_secs\": total_experiment_time_secs,\n",
    "        \"confusion\": confusion,\n",
    "        \"per_domain_accuracy\": per_domain_accuracy,\n",
    "    },\n",
    "    \"history\": history,\n",
    "    \"dataset_metrics\": get_dataset_metrics(datasets, \"ptn\"),\n",
    "}"
   ]
  },
  {
   "cell_type": "code",
   "execution_count": 25,
   "id": "54a21829",
   "metadata": {
    "execution": {
     "iopub.execute_input": "2022-03-09T03:20:22.194340Z",
     "iopub.status.busy": "2022-03-09T03:20:22.194071Z",
     "iopub.status.idle": "2022-03-09T03:20:22.375106Z",
     "shell.execute_reply": "2022-03-09T03:20:22.374748Z"
    },
    "papermill": {
     "duration": 0.209733,
     "end_time": "2022-03-09T03:20:22.375193",
     "exception": false,
     "start_time": "2022-03-09T03:20:22.165460",
     "status": "completed"
    },
    "tags": []
   },
   "outputs": [
    {
     "data": {
      "image/png": "[encoded data removed]",
      "text/plain": [
       "<Figure size 1080x504 with 1 Axes>"
      ]
     },
     "metadata": {
      "needs_background": "light"
     },
     "output_type": "display_data"
    }
   ],
   "source": [
    "ax = get_loss_curve(experiment)\n",
    "plt.show()"
   ]
  },
  {
   "cell_type": "code",
   "execution_count": 26,
   "id": "fd8a0f60",
   "metadata": {
    "execution": {
     "iopub.execute_input": "2022-03-09T03:20:22.436879Z",
     "iopub.status.busy": "2022-03-09T03:20:22.436566Z",
     "iopub.status.idle": "2022-03-09T03:20:22.617541Z",
     "shell.execute_reply": "2022-03-09T03:20:22.617996Z"
    },
    "papermill": {
     "duration": 0.211685,
     "end_time": "2022-03-09T03:20:22.618149",
     "exception": false,
     "start_time": "2022-03-09T03:20:22.406464",
     "status": "completed"
    },
    "tags": []
   },
   "outputs": [
    {
     "data": {
      "text/plain": [
       "<matplotlib.axes._subplots.AxesSubplot at 0x7f7065264070>"
      ]
     },
     "execution_count": 26,
     "metadata": {},
     "output_type": "execute_result"
    },
    {
     "data": {
      "image/png": "[encoded data removed]",
      "text/plain": [
       "<Figure size 1080x504 with 1 Axes>"
      ]
     },
     "metadata": {
      "needs_background": "light"
     },
     "output_type": "display_data"
    }
   ],
   "source": [
    "get_results_table(experiment)"
   ]
  },
  {
   "cell_type": "code",
   "execution_count": 27,
   "id": "cf8dc689",
   "metadata": {
    "execution": {
     "iopub.execute_input": "2022-03-09T03:20:22.681898Z",
     "iopub.status.busy": "2022-03-09T03:20:22.681637Z",
     "iopub.status.idle": "2022-03-09T03:20:22.959482Z",
     "shell.execute_reply": "2022-03-09T03:20:22.959243Z"
    },
    "papermill": {
     "duration": 0.30759,
     "end_time": "2022-03-09T03:20:22.959545",
     "exception": false,
     "start_time": "2022-03-09T03:20:22.651955",
     "status": "completed"
    },
    "tags": []
   },
   "outputs": [
    {
     "data": {
      "text/plain": [
       "<matplotlib.axes._subplots.AxesSubplot at 0x7f70651acf40>"
      ]
     },
     "execution_count": 27,
     "metadata": {},
     "output_type": "execute_result"
    },
    {
     "data": {
      "image/png": "[encoded data removed]",
      "text/plain": [
       "<Figure size 1080x504 with 1 Axes>"
      ]
     },
     "metadata": {
      "needs_background": "light"
     },
     "output_type": "display_data"
    }
   ],
   "source": [
    "get_domain_accuracies(experiment)"
   ]
  },
  {
   "cell_type": "code",
   "execution_count": 28,
   "id": "a74ae082",
   "metadata": {
    "execution": {
     "iopub.execute_input": "2022-03-09T03:20:23.030402Z",
     "iopub.status.busy": "2022-03-09T03:20:23.030077Z",
     "iopub.status.idle": "2022-03-09T03:20:23.044556Z",
     "shell.execute_reply": "2022-03-09T03:20:23.045186Z"
    },
    "papermill": {
     "duration": 0.048355,
     "end_time": "2022-03-09T03:20:23.045311",
     "exception": false,
     "start_time": "2022-03-09T03:20:22.996956",
     "status": "completed"
    },
    "tags": []
   },
   "outputs": [
    {
     "name": "stdout",
     "output_type": "stream",
     "text": [
      "Source Test Label Accuracy: 0.969157572531275 Target Test Label Accuracy: 0.2691965507801807\n",
      "Source Val Label Accuracy: 0.9688248602608465 Target Val Label Accuracy: 0.27001779359430605\n"
     ]
    }
   ],
   "source": [
    "print(\"Source Test Label Accuracy:\", experiment[\"results\"][\"source_test_label_accuracy\"], \"Target Test Label Accuracy:\", experiment[\"results\"][\"target_test_label_accuracy\"])\n",
    "print(\"Source Val Label Accuracy:\", experiment[\"results\"][\"source_val_label_accuracy\"], \"Target Val Label Accuracy:\", experiment[\"results\"][\"target_val_label_accuracy\"])"
   ]
  },
  {
   "cell_type": "code",
   "execution_count": 29,
   "id": "dacca602",
   "metadata": {
    "execution": {
     "iopub.execute_input": "2022-03-09T03:20:23.110908Z",
     "iopub.status.busy": "2022-03-09T03:20:23.110629Z",
     "iopub.status.idle": "2022-03-09T03:20:23.128368Z",
     "shell.execute_reply": "2022-03-09T03:20:23.128832Z"
    },
    "papermill": {
     "duration": 0.050308,
     "end_time": "2022-03-09T03:20:23.128972",
     "exception": false,
     "start_time": "2022-03-09T03:20:23.078664",
     "status": "completed"
    },
    "tags": [
     "experiment_json"
    ]
   },
   "outputs": [
    {
     "data": {
      "text/plain": [
       "'{\"experiment_name\": \"tl_2_cores_wisig-oracle.run1\", \"parameters\": {\"experiment_name\": \"tl_2_cores_wisig-oracle.run1\", \"device\": \"cuda\", \"lr\": 0.001, \"seed\": 1337, \"dataset_seed\": 1337, \"n_shot\": 3, \"n_query\": 2, \"train_k_factor\": 3, \"val_k_factor\": 2, \"test_k_factor\": 2, \"torch_default_dtype\": \"torch.float32\", \"n_epoch\": 50, \"patience\": 3, \"criteria_for_best\": \"target_loss\", \"x_net\": [{\"class\": \"nnReshape\", \"kargs\": {\"shape\": [-1, 1, 2, 256]}}, {\"class\": \"Conv2d\", \"kargs\": {\"in_channels\": 1, \"out_channels\": 256, \"kernel_size\": [1, 7], \"bias\": false, \"padding\": [0, 3]}}, {\"class\": \"ReLU\", \"kargs\": {\"inplace\": true}}, {\"class\": \"BatchNorm2d\", \"kargs\": {\"num_features\": 256}}, {\"class\": \"Conv2d\", \"kargs\": {\"in_channels\": 256, \"out_channels\": 80, \"kernel_size\": [2, 7], \"bias\": true, \"padding\": [0, 3]}}, {\"class\": \"ReLU\", \"kargs\": {\"inplace\": true}}, {\"class\": \"BatchNorm2d\", \"kargs\": {\"num_features\": 80}}, {\"class\": \"Flatten\", \"kargs\": {}}, {\"class\": \"Linear\", \"kargs\": {\"in_features\": 20480, \"out_features\": 256}}, {\"class\": \"ReLU\", \"kargs\": {\"inplace\": true}}, {\"class\": \"BatchNorm1d\", \"kargs\": {\"num_features\": 256}}, {\"class\": \"Linear\", \"kargs\": {\"in_features\": 256, \"out_features\": 256}}], \"NUM_LOGS_PER_EPOCH\": 10, \"BEST_MODEL_PATH\": \"./best_model.pth\", \"n_way\": 13, \"datasets\": [{\"labels\": [\"11-20.\", \"2-3.\", \"7-10.\", \"14-10.\", \"19-16.\", \"1-19.\", \"1-15.\", \"11-7.\", \"11-14.\", \"1-17.\", \"4-19.\", \"17-10.\", \"8-18.\", \"2-11.\", \"2-20.\", \"14-14.\", \"8-8.\", \"1-16.\", \"2-8.\", \"3-3.\", \"4-11.\", \"2-18.\", \"4-10.\", \"1-11.\", \"11-17.\", \"2-17.\", \"19-3.\", \"2-7.\", \"1-10.\", \"2-4.\", \"10-4.\", \"1-18.\", \"2-5.\", \"16-1.\", \"17-2.\", \"13-20.\", \"19-20.\", \"14-11.\", \"2-10.\", \"3-18.\"], \"domains\": [1, 2, 3, 4, 5], \"num_examples_per_domain_per_label\": 100, \"pickle_path\": \"/mnt/wd500GB/CSC500/csc500-main/datasets/cores.stratified_ds.2022A.pkl\", \"source_or_target_dataset\": \"source\", \"x_transforms\": [\"unit_mag\"], \"episode_transforms\": [], \"domain_prefix\": \"C_A_\"}, {\"labels\": [\"10-7.\", \"11-1.\", \"13-8.\", \"14-7.\", \"15-1.\", \"15-20.\", \"16-16.\", \"17-11.\", \"19-1.\", \"19-19.\", \"2-6.\", \"3-13.\", \"4-1.\", \"5-5.\", \"6-15.\", \"7-14.\", \"8-20.\", \"8-3.\"], \"domains\": [1, 2, 3, 4, 5], \"num_examples_per_domain_per_label\": 1000, \"pickle_path\": \"/mnt/wd500GB/CSC500/csc500-main/datasets/cores.stratified_ds.2022A.pkl\", \"source_or_target_dataset\": \"source\", \"x_transforms\": [\"unit_mag\"], \"episode_transforms\": [], \"domain_prefix\": \"C_B_\"}, {\"labels\": [\"2-1\", \"19-7\", \"14-9\", \"20-3\", \"16-19\", \"20-14\", \"6-1\", \"19-6\", \"13-19\", \"2-7\", \"17-10\", \"18-14\", \"13-20\", \"2-15\", \"11-20\", \"3-1\", \"18-12\", \"18-2\", \"9-7\", \"18-17\", \"19-11\", \"7-12\", \"20-16\", \"6-6\", \"7-9\", \"19-15\", \"14-20\", \"19-14\", \"20-8\", \"19-12\", \"19-4\", \"18-4\", \"3-8\", \"2-4\", \"2-5\", \"13-3\", \"19-9\", \"7-13\", \"14-19\", \"18-16\", \"7-8\", \"18-1\", \"13-7\", \"18-9\", \"20-4\", \"15-6\", \"2-3\", \"10-4\", \"18-8\", \"15-19\", \"18-20\", \"19-13\", \"2-13\", \"3-13\", \"9-1\", \"14-13\", \"18-13\", \"16-20\", \"19-8\", \"19-10\", \"8-14\", \"18-10\", \"12-19\", \"18-15\", \"1-14\", \"18-7\", \"1-8\", \"12-7\", \"18-19\", \"13-18\", \"20-5\", \"18-5\", \"20-18\", \"14-8\", \"18-11\", \"14-14\", \"13-14\", \"8-1\", \"14-12\", \"19-3\", \"3-2\", \"2-8\", \"11-19\"], \"domains\": [1, 2, 3, 4], \"num_examples_per_domain_per_label\": 100, \"pickle_path\": \"/mnt/wd500GB/CSC500/csc500-main/datasets/wisig.node3-19.stratified_ds.2022A.pkl\", \"source_or_target_dataset\": \"source\", \"x_transforms\": [\"unit_mag\"], \"episode_transforms\": [], \"domain_prefix\": \"W_A_\"}, {\"labels\": [\"20-20\", \"19-1\", \"20-1\", \"5-1\", \"19-20\", \"19-2\", \"4-1\", \"1-12\", \"7-10\", \"1-18\", \"4-11\", \"8-13\", \"5-5\", \"10-7\", \"11-4\", \"11-1\", \"17-11\", \"4-10\", \"7-14\", \"1-19\", \"7-11\", \"11-10\", \"7-7\", \"8-8\", \"19-19\", \"10-11\", \"1-16\", \"20-12\", \"2-6\", \"11-7\", \"14-11\", \"1-10\", \"16-1\", \"20-7\"], \"domains\": [1, 2, 3, 4], \"num_examples_per_domain_per_label\": 500, \"pickle_path\": \"/mnt/wd500GB/CSC500/csc500-main/datasets/wisig.node3-19.stratified_ds.2022A.pkl\", \"source_or_target_dataset\": \"source\", \"x_transforms\": [\"unit_mag\"], \"episode_transforms\": [], \"domain_prefix\": \"W_B_\"}, {\"labels\": [\"10-17\", \"12-20\", \"14-10\", \"14-7\", \"15-1\", \"16-16\", \"20-15\", \"20-19\", \"3-18\", \"6-15\", \"8-18\", \"8-20\", \"8-3\"], \"domains\": [1, 2, 3, 4], \"num_examples_per_domain_per_label\": 1000, \"pickle_path\": \"/mnt/wd500GB/CSC500/csc500-main/datasets/wisig.node3-19.stratified_ds.2022A.pkl\", \"source_or_target_dataset\": \"source\", \"x_transforms\": [\"unit_mag\"], \"episode_transforms\": [], \"domain_prefix\": \"W_C_\"}, {\"labels\": [\"3123D52\", \"3123D65\", \"3123D79\", \"3123D80\", \"3123D54\", \"3123D70\", \"3123D7B\", \"3123D89\", \"3123D58\", \"3123D76\", \"3123D7D\", \"3123EFE\", \"3123D64\", \"3123D78\", \"3123D7E\", \"3124E4A\"], \"domains\": [32, 38, 8, 44, 14, 50, 20, 26], \"num_examples_per_domain_per_label\": 2000, \"pickle_path\": \"/mnt/wd500GB/CSC500/csc500-main/datasets/oracle.Run1_framed_2000Examples_stratified_ds.2022A.pkl\", \"source_or_target_dataset\": \"target\", \"x_transforms\": [\"unit_mag\"], \"episode_transforms\": [], \"domain_prefix\": \"ORACLE.run1_\"}], \"domains_source\": [\"C_A_1\", \"C_A_2\", \"C_A_3\", \"C_A_4\", \"C_A_5\", \"C_B_1\", \"C_B_2\", \"C_B_3\", \"C_B_4\", \"C_B_5\", \"W_A_1\", \"W_A_2\", \"W_A_3\", \"W_A_4\", \"W_B_1\", \"W_B_2\", \"W_B_3\", \"W_B_4\", \"W_C_1\", \"W_C_2\", \"W_C_3\", \"W_C_4\"], \"domains_target\": [\"ORACLE.run1_32\", \"ORACLE.run1_38\", \"ORACLE.run1_8\", \"ORACLE.run1_44\", \"ORACLE.run1_14\", \"ORACLE.run1_50\", \"ORACLE.run1_20\", \"ORACLE.run1_26\"]}, \"results\": {\"source_test_label_accuracy\": 0.969157572531275, \"source_test_label_loss\": 0.21204568445682526, \"target_test_label_accuracy\": 0.2691965507801807, \"target_test_label_loss\": 2.1035313606262207, \"source_val_label_accuracy\": 0.9688248602608465, \"source_val_label_loss\": 0.20861174166202545, \"target_val_label_accuracy\": 0.27001779359430605, \"target_val_label_loss\": 2.106673002243042, \"total_epochs_trained\": 5, \"total_experiment_time_secs\": 1099.90234041214, \"confusion\": {\"C_A_3\": {\"9\": {\"9\": 12}, \"39\": {\"39\": 12}, \"11\": {\"11\": 12}, \"18\": {\"18\": 10}, \"30\": {\"30\": 12}, \"25\": {\"25\": 12}, \"26\": {\"26\": 12}, \"0\": {\"0\": 12}, \"35\": {\"35\": 11, \"18\": 1}, \"6\": {\"6\": 10}, \"33\": {\"33\": 12}, \"32\": {\"32\": 12}, \"31\": {\"31\": 12}, \"4\": {\"4\": 12}, \"16\": {\"16\": 12}, \"37\": {\"37\": 12}, \"12\": {\"12\": 12}, \"17\": {\"17\": 12}, \"23\": {\"23\": 12}, \"38\": {\"38\": 12}, \"13\": {\"13\": 12}, \"15\": {\"15\": 12}, \"19\": {\"19\": 12}, \"21\": {\"21\": 12}, \"5\": {\"5\": 10, \"37\": 1, \"24\": 1}, \"22\": {\"22\": 12}, \"20\": {\"20\": 12}, \"7\": {\"7\": 12}, \"27\": {\"27\": 12}, \"3\": {\"3\": 12}, \"8\": {\"8\": 12}, \"14\": {\"14\": 12}, \"29\": {\"29\": 12}, \"2\": {\"2\": 12}, \"34\": {\"34\": 12}, \"28\": {\"28\": 12}, \"1\": {\"1\": 6}, \"24\": {\"24\": 10}, \"36\": {\"36\": 12}, \"10\": {\"10\": 12}}, \"C_B_3\": {\"15\": {\"15\": 120}, \"11\": {\"11\": 120}, \"14\": {\"14\": 114}, \"12\": {\"12\": 114}, \"17\": {\"17\": 114}, \"5\": {\"5\": 116}, \"6\": {\"6\": 106}, \"3\": {\"3\": 96}, \"10\": {\"10\": 108}, \"16\": {\"16\": 110}, \"4\": {\"4\": 116}, \"9\": {\"9\": 110}, \"1\": {\"1\": 114}, \"7\": {\"7\": 112}, \"0\": {\"0\": 112}, \"8\": {\"8\": 116}, \"13\": {\"13\": 116}, \"2\": {\"2\": 114}}, \"W_A_3\": {\"8\": {\"8\": 12}, \"32\": {\"32\": 12}, \"50\": {\"50\": 12}, \"24\": {\"24\": 12}, \"38\": {\"38\": 12}, \"5\": {\"5\": 12}, \"58\": {\"58\": 12}, \"4\": {\"4\": 12}, \"56\": {\"56\": 6, \"8\": 1, \"13\": 1, \"19\": 2, \"35\": 2}, \"14\": {\"14\": 12}, \"65\": {\"65\": 12}, \"15\": {\"15\": 8}, \"78\": {\"78\": 12}, \"31\": {\"31\": 12}, \"61\": {\"61\": 12}, \"80\": {\"80\": 12}, \"60\": {\"60\": 12}, \"12\": {\"60\": 2, \"30\": 1, \"12\": 5, \"74\": 1, \"22\": 1, \"67\": 1, \"77\": 1}, \"2\": {\"2\": 12}, \"62\": {\"62\": 3, \"60\": 1, \"12\": 2, \"76\": 1, \"10\": 1, \"5\": 1, \"51\": 1, \"18\": 1, \"77\": 1}, \"20\": {\"20\": 12}, \"25\": {\"12\": 1, \"25\": 10, \"70\": 1}, \"49\": {\"49\": 10, \"47\": 1, \"29\": 1}, \"3\": {\"3\": 12}, \"51\": {\"51\": 12}, \"43\": {\"43\": 12}, \"75\": {\"75\": 12}, \"34\": {\"34\": 10}, \"73\": {\"1\": 1, \"51\": 2, \"62\": 1, \"73\": 6, \"80\": 1, \"11\": 1}, \"71\": {\"71\": 12}, \"39\": {\"39\": 10}, \"10\": {\"10\": 11, \"62\": 1}, \"1\": {\"1\": 12}, \"7\": {\"7\": 12}, \"69\": {\"13\": 1, \"69\": 10, \"55\": 1}, \"52\": {\"52\": 10}, \"30\": {\"30\": 12}, \"59\": {\"59\": 12}, \"68\": {\"68\": 12}, \"13\": {\"13\": 12}, \"76\": {\"76\": 12}, \"36\": {\"36\": 10}, \"55\": {\"55\": 12}, \"41\": {\"41\": 10}, \"48\": {\"36\": 2, \"48\": 7, \"55\": 1, \"39\": 2}, \"0\": {\"0\": 10, \"62\": 1, \"58\": 1}, \"37\": {\"37\": 9, \"74\": 1, \"77\": 2}, \"22\": {\"22\": 7, \"67\": 3, \"70\": 1, \"54\": 1}, \"35\": {\"35\": 7, \"42\": 1}, \"53\": {\"53\": 12}, \"79\": {\"79\": 12}, \"23\": {\"23\": 12}, \"29\": {\"29\": 10, \"40\": 1, \"12\": 1}, \"44\": {\"44\": 10}, \"28\": {\"28\": 12}, \"72\": {\"72\": 12}, \"77\": {\"77\": 8, \"69\": 1, \"82\": 1, \"46\": 1, \"13\": 1}, \"16\": {\"16\": 5, \"76\": 3, \"81\": 2, \"77\": 1, \"29\": 1}, \"81\": {\"81\": 12}, \"54\": {\"54\": 7, \"48\": 2, \"69\": 1, \"15\": 2}, \"67\": {\"74\": 1, \"67\": 11}, \"74\": {\"74\": 12}, \"33\": {\"33\": 12}, \"40\": {\"40\": 12}, \"45\": {\"45\": 8}, \"70\": {\"70\": 12}, \"64\": {\"64\": 10, \"27\": 1, \"59\": 1}, \"9\": {\"9\": 8}, \"66\": {\"66\": 4, \"0\": 2, \"51\": 1, \"65\": 1, \"79\": 1, \"1\": 2, \"75\": 1}, \"47\": {\"47\": 12}, \"27\": {\"27\": 12}, \"21\": {\"21\": 12}, \"11\": {\"62\": 1, \"11\": 11}, \"6\": {\"6\": 12}, \"82\": {\"82\": 8, \"70\": 1, \"47\": 1, \"21\": 1, \"37\": 1}, \"18\": {\"18\": 9, \"6\": 3}, \"57\": {\"57\": 7, \"18\": 1, \"19\": 1, \"23\": 1, \"30\": 2}, \"63\": {\"22\": 1, \"63\": 11}, \"42\": {\"42\": 10}, \"19\": {\"19\": 11, \"15\": 1}, \"26\": {\"29\": 1, \"26\": 8, \"21\": 1}, \"17\": {\"17\": 12}, \"46\": {\"46\": 9, \"37\": 1}}, \"C_A_1\": {\"7\": {\"7\": 12}, \"11\": {\"11\": 11, \"33\": 1}, \"9\": {\"9\": 10}, \"4\": {\"4\": 12}, \"35\": {\"36\": 1, \"35\": 6, \"12\": 1, \"23\": 2, \"13\": 1, \"15\": 1}, \"38\": {\"38\": 12}, \"36\": {\"36\": 12}, \"13\": {\"13\": 10}, \"34\": {\"34\": 12}, \"31\": {\"31\": 12}, \"25\": {\"25\": 10}, \"30\": {\"30\": 12}, \"18\": {\"18\": 12}, \"3\": {\"3\": 10}, \"10\": {\"10\": 12}, \"26\": {\"26\": 10}, \"27\": {\"27\": 12}, \"32\": {\"32\": 8}, \"12\": {\"12\": 12}, \"22\": {\"22\": 12}, \"21\": {\"21\": 12}, \"20\": {\"20\": 12}, \"23\": {\"23\": 12}, \"15\": {\"15\": 12}, \"28\": {\"28\": 12}, \"1\": {\"1\": 10}, \"2\": {\"2\": 10}, \"33\": {\"33\": 10}, \"37\": {\"37\": 12}, \"17\": {\"1\": 1, \"17\": 11}, \"16\": {\"16\": 10}, \"29\": {\"29\": 12}, \"6\": {\"6\": 8}, \"8\": {\"8\": 12}, \"24\": {\"24\": 12}, \"39\": {\"39\": 10}, \"14\": {\"14\": 12}, \"19\": {\"19\": 10}, \"5\": {\"5\": 8}, \"0\": {\"0\": 8}}, \"W_A_1\": {\"10\": {\"10\": 12}, \"29\": {\"29\": 6, \"61\": 1, \"48\": 1}, \"35\": {\"35\": 11, \"70\": 1}, \"25\": {\"25\": 11, \"67\": 1}, \"61\": {\"61\": 12}, \"46\": {\"46\": 12}, \"27\": {\"27\": 9, \"46\": 1, \"68\": 1, \"7\": 1}, \"7\": {\"7\": 12}, \"43\": {\"43\": 12}, \"42\": {\"42\": 12}, \"1\": {\"1\": 12}, \"75\": {\"75\": 12}, \"6\": {\"6\": 12}, \"11\": {\"11\": 12}, \"5\": {\"5\": 12}, \"51\": {\"51\": 12}, \"80\": {\"80\": 12}, \"12\": {\"51\": 1, \"34\": 1, \"67\": 1, \"12\": 2, \"26\": 1, \"6\": 1, \"71\": 1}, \"63\": {\"63\": 12}, \"74\": {\"74\": 12}, \"13\": {\"13\": 10}, \"34\": {\"34\": 12}, \"24\": {\"24\": 12}, \"47\": {\"47\": 12}, \"39\": {\"39\": 12}, \"64\": {\"33\": 1, \"64\": 10, \"0\": 1}, \"72\": {\"72\": 12}, \"79\": {\"79\": 12}, \"33\": {\"33\": 12}, \"19\": {\"19\": 12}, \"59\": {\"59\": 12}, \"78\": {\"78\": 12}, \"50\": {\"50\": 11, \"4\": 1}, \"70\": {\"70\": 9, \"74\": 3}, \"15\": {\"15\": 12}, \"55\": {\"55\": 8}, \"58\": {\"58\": 8}, \"66\": {\"66\": 2, \"56\": 1, \"29\": 1, \"65\": 1, \"69\": 4, \"61\": 1, \"63\": 1, \"11\": 1}, \"56\": {\"56\": 5, \"66\": 1, \"69\": 1, \"38\": 2, \"71\": 1, \"34\": 1, \"19\": 1}, \"3\": {\"3\": 12}, \"44\": {\"44\": 10, \"38\": 1, \"69\": 1}, \"57\": {\"57\": 7, \"56\": 1, \"71\": 4}, \"67\": {\"67\": 9, \"53\": 2, \"79\": 1}, \"22\": {\"81\": 2, \"75\": 1, \"22\": 7, \"23\": 1, \"39\": 1}, \"32\": {\"32\": 9, \"67\": 1, \"23\": 1, \"57\": 1}, \"81\": {\"81\": 12}, \"2\": {\"2\": 12}, \"71\": {\"71\": 10, \"21\": 1, \"56\": 1}, \"68\": {\"68\": 10}, \"49\": {\"49\": 10}, \"69\": {\"69\": 12}, \"9\": {\"9\": 8}, \"18\": {\"18\": 9, \"37\": 1, \"68\": 1, \"53\": 1}, \"41\": {\"21\": 2, \"30\": 1, \"41\": 5, \"46\": 1, \"56\": 1, \"20\": 1, \"32\": 1}, \"30\": {\"30\": 8}, \"21\": {\"21\": 12}, \"53\": {\"53\": 12}, \"8\": {\"8\": 6, \"37\": 1, \"69\": 1}, \"37\": {\"37\": 11, \"43\": 1}, \"40\": {\"40\": 12}, \"20\": {\"20\": 12}, \"54\": {\"11\": 1, \"54\": 6, \"69\": 2, \"12\": 1}, \"16\": {\"16\": 10, \"4\": 1, \"78\": 1}, \"45\": {\"45\": 12}, \"52\": {\"52\": 10}, \"76\": {\"76\": 12}, \"23\": {\"23\": 12}, \"26\": {\"26\": 9, \"71\": 1}, \"17\": {\"17\": 12}, \"73\": {\"73\": 4, \"26\": 1, \"48\": 1, \"65\": 1, \"41\": 1, \"63\": 2, \"25\": 2}, \"82\": {\"82\": 11, \"25\": 1}, \"65\": {\"65\": 12}, \"48\": {\"13\": 1, \"76\": 1, \"52\": 2, \"57\": 2, \"47\": 2, \"59\": 2, \"48\": 1, \"60\": 1}, \"4\": {\"4\": 12}, \"14\": {\"14\": 12}, \"62\": {\"62\": 12}, \"0\": {\"0\": 9, \"33\": 1}, \"31\": {\"31\": 8}, \"60\": {\"60\": 12}, \"38\": {\"56\": 2, \"38\": 10}, \"77\": {\"77\": 10}, \"36\": {\"36\": 6}, \"28\": {\"28\": 6}}, \"W_B_3\": {\"9\": {\"9\": 54, \"6\": 2, \"23\": 3, \"7\": 1}, \"3\": {\"3\": 51, \"27\": 1}, \"1\": {\"1\": 59, \"12\": 1}, \"20\": {\"20\": 50, \"5\": 2}, \"13\": {\"13\": 54}, \"2\": {\"2\": 55, \"28\": 1, \"4\": 1, \"7\": 1}, \"5\": {\"5\": 52, \"24\": 1, \"1\": 2, \"22\": 2, \"12\": 2, \"11\": 1}, \"21\": {\"21\": 55, \"32\": 1}, \"29\": {\"29\": 60}, \"7\": {\"1\": 1, \"7\": 56, \"19\": 3}, \"16\": {\"16\": 58}, \"6\": {\"9\": 1, \"6\": 59}, \"19\": {\"19\": 57, \"7\": 1}, \"32\": {\"32\": 58, \"22\": 2}, \"14\": {\"14\": 54}, \"24\": {\"24\": 59, \"22\": 1}, \"28\": {\"28\": 55, \"8\": 1}, \"22\": {\"22\": 55, \"1\": 1}, \"26\": {\"26\": 59, \"4\": 1}, \"30\": {\"30\": 52, \"3\": 1, \"24\": 1}, \"4\": {\"4\": 55, \"20\": 1, \"26\": 1, \"24\": 1}, \"25\": {\"25\": 60}, \"31\": {\"31\": 50}, \"11\": {\"11\": 49, \"22\": 2, \"6\": 2, \"12\": 1, \"28\": 2}, \"10\": {\"10\": 56}, \"23\": {\"23\": 57, \"5\": 1}, \"0\": {\"0\": 58, \"17\": 1, \"11\": 1}, \"33\": {\"33\": 53, \"8\": 1}, \"12\": {\"12\": 54, \"22\": 2, \"17\": 1, \"11\": 1, \"21\": 1, \"1\": 1}, \"18\": {\"18\": 49, \"5\": 1}, \"15\": {\"15\": 49, \"5\": 1}, \"27\": {\"27\": 53, \"8\": 2, \"3\": 3, \"11\": 1, \"13\": 1}, \"8\": {\"8\": 54}, \"17\": {\"17\": 47, \"12\": 1, \"13\": 1, \"0\": 1}}, \"W_C_3\": {\"10\": {\"10\": 120}, \"5\": {\"5\": 118, \"10\": 2}, \"7\": {\"7\": 119, \"10\": 1}, \"9\": {\"9\": 120}, \"0\": {\"0\": 117, \"4\": 1, \"10\": 2}, \"11\": {\"11\": 119, \"2\": 1}, \"6\": {\"6\": 120}, \"8\": {\"8\": 120}, \"4\": {\"4\": 118, \"10\": 1, \"0\": 1}, \"12\": {\"12\": 119, \"7\": 1}, \"3\": {\"3\": 118, \"10\": 2}, \"1\": {\"1\": 119, \"4\": 1}, \"2\": {\"2\": 113, \"10\": 1, \"1\": 1, \"8\": 5}}, \"C_A_5\": {\"36\": {\"36\": 12}, \"6\": {\"6\": 10}, \"25\": {\"25\": 12}, \"16\": {\"16\": 12}, \"14\": {\"14\": 10}, \"38\": {\"38\": 10}, \"35\": {\"26\": 2, \"35\": 5, \"23\": 2, \"31\": 1, \"16\": 1, \"21\": 1}, \"15\": {\"15\": 12}, \"26\": {\"26\": 12}, \"37\": {\"37\": 12}, \"24\": {\"24\": 12}, \"2\": {\"2\": 10}, \"20\": {\"20\": 12}, \"17\": {\"17\": 12}, \"32\": {\"32\": 12}, \"10\": {\"10\": 12}, \"12\": {\"12\": 8}, \"33\": {\"33\": 12}, \"11\": {\"11\": 10}, \"9\": {\"9\": 12}, \"23\": {\"23\": 11, \"20\": 1}, \"3\": {\"3\": 12}, \"4\": {\"4\": 12}, \"29\": {\"29\": 12}, \"8\": {\"8\": 12}, \"27\": {\"27\": 10}, \"34\": {\"34\": 10}, \"30\": {\"30\": 12}, \"0\": {\"0\": 12}, \"31\": {\"31\": 12}, \"13\": {\"13\": 10}, \"1\": {\"1\": 12}, \"21\": {\"21\": 12}, \"5\": {\"5\": 8}, \"39\": {\"39\": 12}, \"7\": {\"7\": 12}, \"19\": {\"19\": 9, \"9\": 1}, \"22\": {\"22\": 10}, \"18\": {\"18\": 6}, \"28\": {\"28\": 8}}, \"W_B_1\": {\"14\": {\"14\": 53, \"19\": 1, \"30\": 2, \"31\": 1, \"0\": 1, \"21\": 2}, \"1\": {\"1\": 56}, \"9\": {\"9\": 58, \"10\": 2}, \"24\": {\"24\": 58, \"32\": 1, \"29\": 1}, \"29\": {\"29\": 58, \"11\": 1, \"18\": 1}, \"4\": {\"4\": 55, \"5\": 1}, \"8\": {\"8\": 60}, \"2\": {\"2\": 56, \"9\": 1, \"19\": 1, \"6\": 1, \"30\": 1}, \"18\": {\"18\": 48}, \"19\": {\"19\": 59, \"11\": 1}, \"27\": {\"27\": 55, \"5\": 1, \"23\": 1, \"30\": 2, \"2\": 1}, \"25\": {\"25\": 60}, \"3\": {\"3\": 51, \"5\": 1}, \"30\": {\"30\": 50}, \"17\": {\"17\": 57, \"0\": 2, \"11\": 1}, \"6\": {\"6\": 47, \"5\": 1}, \"11\": {\"11\": 53, \"9\": 1}, \"20\": {\"20\": 59, \"11\": 1}, \"10\": {\"10\": 51, \"5\": 1}, \"7\": {\"7\": 54}, \"5\": {\"5\": 60}, \"32\": {\"32\": 55, \"21\": 1}, \"31\": {\"31\": 58, \"12\": 1, \"24\": 1}, \"33\": {\"33\": 60}, \"22\": {\"22\": 59, \"5\": 1}, \"16\": {\"16\": 54}, \"12\": {\"12\": 50}, \"23\": {\"23\": 53, \"24\": 1}, \"15\": {\"15\": 53, \"7\": 1}, \"13\": {\"13\": 60}, \"26\": {\"26\": 55, \"24\": 1}, \"28\": {\"28\": 58}, \"0\": {\"0\": 54}, \"21\": {\"21\": 55, \"30\": 1, \"0\": 1, \"11\": 1}}, \"W_C_1\": {\"2\": {\"2\": 117, \"1\": 1, \"10\": 2}, \"1\": {\"1\": 119, \"10\": 1}, \"10\": {\"10\": 115, \"0\": 5}, \"0\": {\"0\": 117, \"10\": 3}, \"5\": {\"5\": 120}, \"12\": {\"12\": 120}, \"9\": {\"9\": 116, \"7\": 2, \"10\": 2}, \"11\": {\"11\": 120}, \"6\": {\"6\": 119, \"10\": 1}, \"7\": {\"7\": 116, \"5\": 4}, \"4\": {\"4\": 120}, \"3\": {\"3\": 119, \"8\": 1}, \"8\": {\"8\": 116, \"2\": 1, \"10\": 1, \"3\": 2}}, \"W_A_4\": {\"29\": {\"29\": 10}, \"67\": {\"67\": 12}, \"33\": {\"33\": 10, \"39\": 1, \"22\": 1}, \"18\": {\"18\": 10, \"14\": 2}, \"70\": {\"70\": 11, \"35\": 1}, \"52\": {\"52\": 12}, \"74\": {\"74\": 12}, \"50\": {\"50\": 12}, \"51\": {\"51\": 10, \"33\": 1, \"69\": 1}, \"68\": {\"68\": 12}, \"49\": {\"49\": 12}, \"21\": {\"50\": 1, \"49\": 1, \"21\": 6, \"7\": 1, \"10\": 1, \"73\": 2}, \"34\": {\"34\": 8, \"71\": 1, \"8\": 1}, \"69\": {\"69\": 12}, \"11\": {\"11\": 12}, \"27\": {\"27\": 10, \"38\": 1, \"32\": 1}, \"22\": {\"39\": 1, \"22\": 4, \"25\": 1, \"75\": 1, \"12\": 1, \"66\": 1, \"4\": 1, \"10\": 1, \"36\": 1}, \"76\": {\"76\": 12}, \"31\": {\"31\": 12}, \"43\": {\"69\": 1, \"43\": 8, \"75\": 1}, \"63\": {\"69\": 1, \"63\": 3, \"66\": 2, \"55\": 1, \"58\": 1, \"71\": 1, \"35\": 1, \"42\": 1, \"10\": 1}, \"14\": {\"14\": 12}, \"39\": {\"22\": 2, \"39\": 6, \"62\": 1, \"19\": 1, \"65\": 2}, \"59\": {\"59\": 12}, \"9\": {\"9\": 11, \"42\": 1}, \"57\": {\"57\": 6, \"34\": 1, \"76\": 2, \"11\": 1, \"13\": 1, \"80\": 1}, \"23\": {\"23\": 12}, \"41\": {\"41\": 12}, \"35\": {\"35\": 10, \"75\": 1, \"70\": 1}, \"60\": {\"60\": 12}, \"4\": {\"4\": 12}, \"75\": {\"75\": 12}, \"48\": {\"6\": 1, \"48\": 6, \"67\": 1, \"12\": 2, \"54\": 2}, \"5\": {\"5\": 10}, \"40\": {\"40\": 8}, \"6\": {\"6\": 11, \"14\": 1}, \"58\": {\"58\": 12}, \"62\": {\"62\": 12}, \"32\": {\"32\": 12}, \"73\": {\"68\": 2, \"73\": 4, \"45\": 1, \"26\": 1, \"1\": 1, \"21\": 1}, \"26\": {\"41\": 2, \"26\": 7, \"21\": 1, \"44\": 1, \"32\": 1}, \"71\": {\"71\": 12}, \"44\": {\"44\": 10, \"80\": 1, \"31\": 1}, \"80\": {\"80\": 12}, \"47\": {\"47\": 12}, \"16\": {\"16\": 12}, \"12\": {\"63\": 1, \"69\": 1, \"77\": 1, \"58\": 1, \"30\": 2, \"2\": 1, \"53\": 1, \"12\": 1, \"16\": 1, \"19\": 1, \"79\": 1}, \"25\": {\"25\": 12}, \"17\": {\"17\": 12}, \"10\": {\"10\": 11, \"37\": 1}, \"81\": {\"81\": 12}, \"37\": {\"37\": 7, \"0\": 1, \"48\": 1, \"54\": 1, \"67\": 2}, \"66\": {\"10\": 1, \"69\": 1, \"66\": 4, \"9\": 2, \"80\": 1, \"73\": 1, \"63\": 1, \"35\": 1}, \"55\": {\"55\": 12}, \"56\": {\"7\": 3, \"71\": 1, \"56\": 5, \"19\": 1, \"75\": 1, \"39\": 1}, \"7\": {\"7\": 12}, \"77\": {\"77\": 3, \"78\": 1, \"45\": 3, \"74\": 1, \"56\": 1, \"38\": 1, \"51\": 2}, \"42\": {\"42\": 12}, \"53\": {\"53\": 11, \"33\": 1}, \"78\": {\"78\": 12}, \"24\": {\"24\": 8}, \"20\": {\"20\": 12}, \"38\": {\"38\": 10, \"30\": 1, \"0\": 1}, \"45\": {\"45\": 12}, \"54\": {\"54\": 5, \"76\": 1, \"15\": 1, \"4\": 1, \"9\": 1, \"74\": 1, \"18\": 2}, \"13\": {\"13\": 11, \"22\": 1}, \"28\": {\"28\": 12}, \"79\": {\"79\": 12}, \"61\": {\"61\": 12}, \"0\": {\"58\": 1, \"0\": 8, \"75\": 1}, \"46\": {\"46\": 11, \"54\": 1}, \"36\": {\"36\": 10}, \"2\": {\"2\": 10, \"46\": 1, \"43\": 1}, \"65\": {\"65\": 10}, \"3\": {\"3\": 10}, \"64\": {\"64\": 9, \"37\": 1, \"82\": 2}, \"15\": {\"15\": 12}, \"30\": {\"30\": 7, \"46\": 1, \"36\": 1, \"38\": 1, \"76\": 1, \"31\": 1}, \"19\": {\"19\": 12}, \"1\": {\"1\": 12}, \"82\": {\"82\": 10}, \"72\": {\"72\": 9, \"12\": 1}, \"8\": {\"8\": 8}}, \"C_B_1\": {\"3\": {\"3\": 97, \"17\": 1}, \"6\": {\"6\": 112}, \"1\": {\"1\": 102}, \"5\": {\"5\": 92}, \"17\": {\"17\": 112}, \"4\": {\"4\": 106}, \"7\": {\"7\": 120}, \"15\": {\"15\": 106}, \"14\": {\"14\": 114}, \"9\": {\"9\": 110}, \"16\": {\"16\": 100}, \"2\": {\"2\": 106}, \"10\": {\"10\": 104}, \"11\": {\"11\": 108}, \"8\": {\"8\": 104}, \"0\": {\"0\": 120}, \"13\": {\"13\": 106}, \"12\": {\"12\": 104}}, \"W_B_4\": {\"18\": {\"18\": 56, \"13\": 1, \"1\": 1}, \"26\": {\"26\": 59, \"31\": 1}, \"2\": {\"2\": 48, \"9\": 3, \"6\": 6, \"31\": 1, \"7\": 1, \"13\": 1}, \"23\": {\"23\": 52, \"22\": 1, \"1\": 2, \"30\": 1, \"9\": 4}, \"27\": {\"27\": 50, \"5\": 4}, \"4\": {\"4\": 54, \"20\": 2, \"6\": 1, \"0\": 1, \"11\": 1, \"21\": 1}, \"29\": {\"29\": 58}, \"32\": {\"32\": 56, \"31\": 1, \"5\": 1, \"22\": 2}, \"28\": {\"28\": 54, \"5\": 1, \"1\": 1}, \"30\": {\"30\": 53, \"3\": 2, \"12\": 1, \"22\": 1, \"24\": 1}, \"15\": {\"15\": 59, \"27\": 1}, \"20\": {\"20\": 60}, \"33\": {\"33\": 57, \"26\": 1, \"1\": 1, \"16\": 1}, \"6\": {\"6\": 47, \"2\": 10, \"11\": 1}, \"17\": {\"17\": 56, \"30\": 1, \"1\": 1, \"21\": 2}, \"11\": {\"11\": 51, \"29\": 1, \"22\": 1, \"10\": 1}, \"16\": {\"16\": 55, \"26\": 1, \"8\": 1, \"32\": 1}, \"1\": {\"1\": 54, \"22\": 2}, \"14\": {\"14\": 60}, \"9\": {\"9\": 56, \"0\": 1, \"31\": 1, \"11\": 1, \"2\": 1}, \"7\": {\"7\": 49, \"22\": 2, \"8\": 1, \"13\": 3, \"26\": 1, \"31\": 1, \"11\": 2, \"29\": 1}, \"24\": {\"24\": 56}, \"22\": {\"11\": 1, \"22\": 57, \"0\": 1, \"2\": 1}, \"21\": {\"21\": 49, \"22\": 1}, \"8\": {\"8\": 57, \"32\": 1, \"13\": 1, \"30\": 1}, \"3\": {\"3\": 40, \"14\": 1, \"27\": 1, \"5\": 1, \"30\": 2, \"1\": 1, \"22\": 1, \"17\": 1}, \"12\": {\"12\": 56, \"22\": 3, \"11\": 1}, \"25\": {\"25\": 54}, \"10\": {\"10\": 59, \"7\": 1}, \"31\": {\"31\": 54, \"22\": 1, \"10\": 1}, \"19\": {\"22\": 2, \"19\": 58}, \"5\": {\"5\": 55, \"27\": 3}, \"0\": {\"0\": 50}, \"13\": {\"13\": 43, \"29\": 1, \"17\": 2, \"0\": 1, \"32\": 1}}, \"W_A_2\": {\"27\": {\"27\": 10}, \"67\": {\"13\": 1, \"67\": 9, \"6\": 1, \"0\": 1}, \"56\": {\"36\": 1, \"17\": 1, \"18\": 1, \"56\": 3, \"80\": 1, \"39\": 1}, \"43\": {\"43\": 12}, \"76\": {\"76\": 12}, \"17\": {\"17\": 12}, \"82\": {\"82\": 11, \"17\": 1}, \"13\": {\"56\": 1, \"13\": 9, \"6\": 2}, \"33\": {\"33\": 12}, \"11\": {\"11\": 12}, \"50\": {\"50\": 12}, \"36\": {\"36\": 12}, \"32\": {\"32\": 9, \"10\": 1}, \"73\": {\"73\": 5, \"74\": 1, \"49\": 1, \"1\": 1, \"47\": 1, \"41\": 1, \"55\": 1, \"39\": 1}, \"60\": {\"60\": 8}, \"30\": {\"30\": 11, \"39\": 1}, \"65\": {\"65\": 10, \"23\": 1, \"18\": 1}, \"9\": {\"9\": 12}, \"74\": {\"74\": 11, \"54\": 1}, \"53\": {\"53\": 12}, \"10\": {\"10\": 11, \"0\": 1}, \"49\": {\"49\": 9, \"7\": 1}, \"35\": {\"35\": 12}, \"25\": {\"25\": 12}, \"0\": {\"53\": 1, \"0\": 8, \"69\": 1, \"49\": 2}, \"21\": {\"21\": 12}, \"55\": {\"55\": 12}, \"54\": {\"22\": 1, \"8\": 1, \"10\": 1, \"54\": 7, \"70\": 1, \"71\": 1}, \"48\": {\"48\": 8, \"54\": 2}, \"63\": {\"21\": 2, \"55\": 2, \"63\": 6, \"36\": 2}, \"22\": {\"21\": 2, \"70\": 1, \"71\": 1, \"1\": 2, \"22\": 3, \"36\": 1}, \"45\": {\"45\": 12}, \"61\": {\"61\": 12}, \"8\": {\"8\": 12}, \"79\": {\"79\": 10, \"38\": 1, \"67\": 1}, \"47\": {\"47\": 12}, \"78\": {\"78\": 11, \"82\": 1}, \"77\": {\"77\": 10, \"58\": 1, \"12\": 1}, \"72\": {\"72\": 10, \"5\": 2}, \"64\": {\"64\": 11, \"46\": 1}, \"52\": {\"52\": 12}, \"18\": {\"18\": 12}, \"15\": {\"15\": 12}, \"69\": {\"69\": 10}, \"44\": {\"44\": 12}, \"57\": {\"57\": 9, \"42\": 1, \"34\": 1, \"35\": 1}, \"28\": {\"28\": 12}, \"42\": {\"42\": 12}, \"66\": {\"66\": 4, \"71\": 1, \"56\": 1}, \"5\": {\"5\": 12}, \"31\": {\"31\": 11, \"42\": 1}, \"70\": {\"70\": 11, \"71\": 1}, \"7\": {\"7\": 12}, \"59\": {\"59\": 11, \"0\": 1}, \"38\": {\"38\": 9, \"75\": 1}, \"12\": {\"13\": 1, \"43\": 1, \"70\": 4, \"47\": 1, \"67\": 1, \"28\": 1, \"75\": 1}, \"58\": {\"58\": 12}, \"23\": {\"23\": 7, \"19\": 2, \"35\": 1, \"76\": 2}, \"4\": {\"4\": 10}, \"19\": {\"19\": 12}, \"62\": {\"62\": 12}, \"24\": {\"24\": 10, \"12\": 1, \"54\": 1}, \"1\": {\"24\": 1, \"1\": 8, \"4\": 2, \"30\": 1}, \"71\": {\"71\": 12}, \"46\": {\"46\": 10, \"26\": 1, \"54\": 1}, \"51\": {\"51\": 10}, \"75\": {\"75\": 9, \"31\": 1, \"38\": 1, \"2\": 1}, \"39\": {\"39\": 11, \"37\": 1}, \"81\": {\"81\": 8}, \"40\": {\"40\": 10}, \"29\": {\"29\": 12}, \"26\": {\"26\": 6, \"81\": 1, \"32\": 3, \"41\": 1, \"74\": 1}, \"20\": {\"20\": 12}, \"3\": {\"3\": 12}, \"34\": {\"34\": 12}, \"41\": {\"41\": 12}, \"2\": {\"2\": 12}, \"68\": {\"68\": 12}, \"37\": {\"37\": 10, \"13\": 1, \"52\": 1}, \"16\": {\"16\": 7, \"14\": 1}, \"14\": {\"14\": 5, \"80\": 2, \"52\": 1, \"54\": 1, \"69\": 1}, \"80\": {\"80\": 6}, \"6\": {\"6\": 3, \"79\": 1}}, \"C_B_5\": {\"8\": {\"8\": 112}, \"0\": {\"0\": 120}, \"7\": {\"7\": 116}, \"17\": {\"17\": 120}, \"5\": {\"5\": 96}, \"6\": {\"6\": 116}, \"12\": {\"12\": 104}, \"4\": {\"4\": 114}, \"9\": {\"9\": 118}, \"3\": {\"3\": 114}, \"11\": {\"11\": 110}, \"14\": {\"14\": 112}, \"10\": {\"10\": 118}, \"1\": {\"1\": 110}, \"16\": {\"16\": 112}, \"2\": {\"2\": 98}, \"15\": {\"15\": 118}, \"13\": {\"13\": 119, \"12\": 1}}, \"C_A_4\": {\"15\": {\"15\": 12}, \"7\": {\"7\": 12}, \"4\": {\"4\": 10}, \"38\": {\"38\": 12}, \"2\": {\"2\": 10}, \"9\": {\"9\": 12}, \"8\": {\"8\": 11, \"24\": 1}, \"12\": {\"12\": 10}, \"6\": {\"6\": 12}, \"3\": {\"3\": 10}, \"11\": {\"11\": 12}, \"34\": {\"34\": 12}, \"24\": {\"24\": 12}, \"22\": {\"22\": 12}, \"31\": {\"3\": 1, \"31\": 11}, \"21\": {\"21\": 12}, \"29\": {\"29\": 12}, \"26\": {\"26\": 12}, \"16\": {\"16\": 10}, \"33\": {\"33\": 12}, \"27\": {\"27\": 10}, \"13\": {\"13\": 12}, \"1\": {\"1\": 12}, \"14\": {\"14\": 10}, \"30\": {\"30\": 6, \"8\": 1, \"31\": 1}, \"28\": {\"28\": 8}, \"20\": {\"20\": 8}, \"10\": {\"10\": 12}, \"23\": {\"23\": 12}, \"5\": {\"5\": 12}, \"25\": {\"25\": 12}, \"19\": {\"19\": 12}, \"18\": {\"18\": 8}, \"37\": {\"37\": 12}, \"35\": {\"31\": 1, \"35\": 4, \"24\": 1, \"1\": 2}, \"36\": {\"36\": 12}, \"0\": {\"0\": 12}, \"32\": {\"32\": 12}, \"39\": {\"39\": 12}, \"17\": {\"17\": 7, \"20\": 1}}, \"C_B_4\": {\"8\": {\"8\": 110}, \"11\": {\"11\": 118}, \"6\": {\"6\": 112}, \"10\": {\"10\": 120}, \"15\": {\"15\": 112}, \"1\": {\"1\": 116}, \"2\": {\"2\": 118}, \"16\": {\"16\": 116}, \"0\": {\"0\": 120}, \"5\": {\"5\": 112}, \"7\": {\"7\": 110}, \"4\": {\"4\": 116}, \"17\": {\"17\": 106}, \"9\": {\"9\": 104}, \"14\": {\"14\": 104}, \"3\": {\"3\": 106}, \"13\": {\"13\": 112}, \"12\": {\"12\": 116}}, \"W_B_2\": {\"24\": {\"24\": 57, \"1\": 1, \"13\": 1, \"6\": 1}, \"23\": {\"23\": 46}, \"30\": {\"30\": 50, \"12\": 3, \"13\": 2, \"22\": 2, \"17\": 1, \"6\": 2}, \"5\": {\"5\": 46, \"12\": 1, \"10\": 4, \"11\": 3, \"1\": 1, \"30\": 1}, \"26\": {\"26\": 59, \"22\": 1}, \"3\": {\"3\": 60}, \"7\": {\"7\": 55, \"27\": 1, \"30\": 1, \"32\": 1}, \"4\": {\"4\": 58, \"17\": 1, \"13\": 1}, \"28\": {\"28\": 54, \"13\": 1, \"2\": 1}, \"29\": {\"29\": 57, \"1\": 1, \"10\": 1, \"32\": 1}, \"32\": {\"32\": 56, \"12\": 1, \"22\": 1}, \"27\": {\"27\": 57, \"22\": 1}, \"12\": {\"12\": 53, \"32\": 2, \"13\": 1, \"21\": 1, \"30\": 1}, \"18\": {\"18\": 58, \"20\": 1, \"17\": 1}, \"14\": {\"14\": 58}, \"1\": {\"1\": 60}, \"10\": {\"10\": 52, \"22\": 1, \"5\": 1, \"13\": 4, \"4\": 1, \"32\": 1}, \"0\": {\"0\": 48, \"32\": 3, \"1\": 2, \"13\": 1, \"4\": 1, \"12\": 2, \"22\": 1}, \"21\": {\"1\": 1, \"21\": 55, \"13\": 1, \"27\": 1, \"23\": 2}, \"15\": {\"15\": 48, \"9\": 1, \"3\": 1, \"10\": 1, \"13\": 1}, \"9\": {\"9\": 59, \"11\": 1}, \"2\": {\"2\": 55, \"12\": 1, \"13\": 2, \"28\": 1, \"26\": 1}, \"31\": {\"31\": 54, \"13\": 2, \"1\": 2}, \"25\": {\"25\": 54}, \"16\": {\"16\": 59, \"1\": 1}, \"20\": {\"20\": 53, \"30\": 1}, \"8\": {\"8\": 55, \"6\": 1}, \"6\": {\"6\": 52}, \"22\": {\"22\": 52, \"32\": 1, \"1\": 1}, \"33\": {\"33\": 55, \"2\": 1}, \"19\": {\"19\": 54, \"12\": 2, \"7\": 1, \"9\": 1}, \"13\": {\"13\": 60}, \"17\": {\"17\": 59, \"22\": 1}, \"11\": {\"32\": 1, \"11\": 46, \"21\": 1, \"5\": 1, \"0\": 1}}, \"W_C_4\": {\"1\": {\"1\": 116, \"8\": 1, \"9\": 2, \"10\": 1}, \"7\": {\"7\": 116, \"12\": 2, \"6\": 1, \"9\": 1}, \"11\": {\"11\": 119, \"7\": 1}, \"12\": {\"12\": 117, \"7\": 1, \"5\": 1, \"0\": 1}, \"10\": {\"10\": 119, \"0\": 1}, \"2\": {\"2\": 115, \"1\": 3, \"0\": 1, \"5\": 1}, \"6\": {\"6\": 119, \"9\": 1}, \"0\": {\"0\": 116, \"12\": 1, \"10\": 1, \"5\": 1, \"1\": 1}, \"3\": {\"3\": 119, \"6\": 1}, \"5\": {\"5\": 115, \"3\": 3, \"0\": 1, \"1\": 1}, \"8\": {\"8\": 117, \"0\": 3}, \"4\": {\"4\": 120}, \"9\": {\"9\": 115, \"5\": 2, \"1\": 2, \"10\": 1}}, \"W_C_2\": {\"7\": {\"7\": 114, \"12\": 3, \"1\": 2, \"4\": 1}, \"8\": {\"8\": 117, \"3\": 1, \"4\": 1, \"0\": 1}, \"0\": {\"0\": 117, \"5\": 2, \"12\": 1}, \"12\": {\"12\": 119, \"7\": 1}, \"5\": {\"5\": 117, \"1\": 1, \"4\": 2}, \"11\": {\"11\": 119, \"6\": 1}, \"1\": {\"1\": 115, \"4\": 4, \"0\": 1}, \"9\": {\"9\": 114, \"7\": 1, \"0\": 1, \"4\": 2, \"12\": 1, \"5\": 1}, \"10\": {\"10\": 117, \"6\": 1, \"0\": 2}, \"6\": {\"6\": 116, \"1\": 3, \"2\": 1}, \"4\": {\"4\": 115, \"7\": 2, \"1\": 2, \"0\": 1}, \"3\": {\"3\": 120}, \"2\": {\"2\": 108, \"1\": 5, \"12\": 1, \"0\": 1, \"3\": 2, \"4\": 1, \"8\": 2}}, \"C_B_2\": {\"3\": {\"3\": 114}, \"15\": {\"15\": 114}, \"16\": {\"16\": 120}, \"4\": {\"4\": 116}, \"6\": {\"6\": 108}, \"8\": {\"8\": 112}, \"13\": {\"13\": 112}, \"5\": {\"5\": 120}, \"12\": {\"12\": 110}, \"2\": {\"2\": 108}, \"1\": {\"1\": 120}, \"10\": {\"10\": 110}, \"7\": {\"7\": 112}, \"0\": {\"0\": 112}, \"14\": {\"14\": 120}, \"17\": {\"17\": 116}, \"9\": {\"9\": 116}, \"11\": {\"11\": 114}}, \"C_A_2\": {\"2\": {\"2\": 12}, \"24\": {\"24\": 12}, \"7\": {\"7\": 12}, \"27\": {\"27\": 12}, \"36\": {\"36\": 10}, \"11\": {\"11\": 12}, \"34\": {\"34\": 6}, \"20\": {\"20\": 10}, \"9\": {\"9\": 12}, \"3\": {\"3\": 12}, \"28\": {\"28\": 12}, \"17\": {\"17\": 12}, \"31\": {\"31\": 11, \"27\": 1}, \"1\": {\"1\": 6}, \"12\": {\"12\": 10}, \"5\": {\"5\": 12}, \"19\": {\"19\": 11, \"37\": 1}, \"37\": {\"37\": 12}, \"4\": {\"4\": 12}, \"39\": {\"39\": 10}, \"23\": {\"23\": 8}, \"38\": {\"38\": 10}, \"30\": {\"30\": 10}, \"33\": {\"33\": 12}, \"25\": {\"25\": 12}, \"35\": {\"35\": 8, \"4\": 1, \"31\": 1}, \"18\": {\"18\": 12}, \"29\": {\"29\": 12}, \"21\": {\"21\": 8}, \"0\": {\"0\": 12}, \"8\": {\"8\": 12}, \"32\": {\"32\": 10}, \"22\": {\"22\": 10}, \"6\": {\"6\": 8}, \"26\": {\"26\": 8}, \"15\": {\"15\": 12}, \"13\": {\"13\": 6}, \"16\": {\"16\": 8}, \"10\": {\"10\": 8}, \"14\": {\"14\": 8}}, \"ORACLE.run1_14\": {\"13\": {\"11\": 10, \"13\": 42, \"6\": 32, \"5\": 20, \"10\": 16, \"14\": 32, \"15\": 11, \"1\": 5, \"2\": 32, \"3\": 11, \"4\": 8, \"7\": 11, \"0\": 4}, \"9\": {\"8\": 23, \"9\": 82, \"0\": 19, \"12\": 48, \"11\": 21, \"3\": 9, \"1\": 12, \"10\": 5, \"5\": 6, \"4\": 6, \"7\": 1}, \"12\": {\"12\": 132, \"8\": 14, \"9\": 45, \"0\": 5, \"4\": 2, \"10\": 3, \"1\": 4, \"11\": 5}, \"11\": {\"11\": 58, \"1\": 5, \"14\": 12, \"3\": 21, \"10\": 27, \"0\": 26, \"9\": 28, \"12\": 11, \"5\": 6, \"13\": 6, \"4\": 7, \"2\": 6, \"8\": 1, \"6\": 2}, \"15\": {\"7\": 35, \"15\": 52, \"2\": 21, \"4\": 21, \"1\": 21, \"14\": 11, \"5\": 13, \"10\": 3, \"3\": 10, \"13\": 16, \"8\": 1, \"6\": 10, \"11\": 1, \"0\": 1}, \"3\": {\"4\": 9, \"9\": 10, \"1\": 25, \"11\": 17, \"3\": 35, \"5\": 18, \"2\": 19, \"10\": 15, \"13\": 23, \"7\": 13, \"0\": 19, \"8\": 4, \"15\": 6, \"6\": 2, \"14\": 12, \"12\": 1}, \"4\": {\"10\": 15, \"4\": 32, \"0\": 7, \"11\": 7, \"15\": 13, \"2\": 13, \"5\": 32, \"3\": 25, \"1\": 22, \"6\": 5, \"7\": 21, \"14\": 7, \"8\": 6, \"13\": 4, \"9\": 5}, \"10\": {\"10\": 35, \"3\": 19, \"1\": 14, \"0\": 28, \"14\": 14, \"4\": 10, \"9\": 15, \"2\": 15, \"11\": 26, \"13\": 10, \"5\": 10, \"6\": 5, \"15\": 3, \"12\": 1, \"7\": 3}, \"8\": {\"1\": 28, \"8\": 106, \"9\": 40, \"11\": 5, \"3\": 9, \"2\": 1, \"0\": 9, \"10\": 5, \"12\": 14, \"7\": 11, \"5\": 8, \"4\": 4}, \"0\": {\"11\": 34, \"7\": 2, \"4\": 11, \"14\": 9, \"13\": 5, \"1\": 17, \"3\": 23, \"10\": 29, \"2\": 10, \"9\": 20, \"0\": 41, \"5\": 11, \"6\": 6, \"12\": 2, \"8\": 3, \"15\": 1}, \"6\": {\"13\": 30, \"10\": 15, \"2\": 34, \"7\": 14, \"15\": 6, \"6\": 43, \"0\": 6, \"3\": 10, \"14\": 34, \"5\": 9, \"4\": 9, \"1\": 2, \"11\": 4}, \"7\": {\"15\": 28, \"5\": 26, \"7\": 46, \"4\": 27, \"2\": 13, \"1\": 30, \"10\": 7, \"14\": 6, \"3\": 20, \"0\": 6, \"8\": 9, \"13\": 13, \"6\": 3, \"9\": 2}, \"1\": {\"10\": 19, \"3\": 24, \"1\": 43, \"13\": 4, \"5\": 20, \"0\": 17, \"7\": 21, \"4\": 20, \"6\": 4, \"15\": 9, \"8\": 17, \"9\": 8, \"2\": 9, \"11\": 4, \"14\": 2, \"12\": 1}, \"5\": {\"13\": 14, \"10\": 15, \"0\": 9, \"15\": 18, \"7\": 22, \"1\": 33, \"4\": 16, \"8\": 6, \"3\": 13, \"5\": 29, \"11\": 13, \"2\": 18, \"6\": 9, \"14\": 9, \"9\": 8}, \"14\": {\"13\": 30, \"14\": 50, \"5\": 14, \"7\": 2, \"11\": 19, \"15\": 8, \"3\": 11, \"10\": 12, \"6\": 35, \"2\": 23, \"0\": 11, \"4\": 10, \"1\": 1}, \"2\": {\"1\": 10, \"3\": 13, \"2\": 35, \"15\": 9, \"14\": 29, \"5\": 23, \"13\": 25, \"0\": 6, \"6\": 25, \"7\": 9, \"10\": 25, \"11\": 10, \"4\": 13, \"12\": 1, \"9\": 1}}, \"ORACLE.run1_38\": {\"9\": {\"5\": 22, \"6\": 50, \"7\": 3, \"9\": 75, \"1\": 14, \"13\": 10, \"8\": 8, \"0\": 9, \"3\": 19, \"15\": 6}, \"4\": {\"12\": 76, \"4\": 152, \"11\": 6, \"14\": 3, \"10\": 1}, \"1\": {\"1\": 80, \"5\": 16, \"13\": 37, \"15\": 35, \"2\": 11, \"0\": 4, \"9\": 12, \"10\": 4, \"6\": 20, \"8\": 6, \"3\": 3}, \"5\": {\"6\": 22, \"9\": 20, \"3\": 14, \"12\": 1, \"8\": 27, \"0\": 27, \"5\": 35, \"7\": 18, \"1\": 11, \"15\": 23, \"10\": 10, \"2\": 5, \"13\": 19, \"14\": 2}, \"15\": {\"1\": 21, \"8\": 15, \"0\": 11, \"15\": 51, \"9\": 3, \"13\": 34, \"7\": 3, \"5\": 16, \"2\": 24, \"6\": 15, \"11\": 2, \"10\": 25, \"3\": 3, \"14\": 3}, \"3\": {\"3\": 76, \"6\": 17, \"7\": 23, \"8\": 24, \"5\": 28, \"0\": 18, \"9\": 22, \"2\": 1, \"15\": 3, \"1\": 2, \"10\": 2}, \"6\": {\"9\": 47, \"3\": 19, \"15\": 14, \"7\": 5, \"0\": 12, \"5\": 22, \"6\": 65, \"1\": 26, \"13\": 18, \"8\": 6, \"10\": 2}, \"13\": {\"1\": 32, \"15\": 30, \"6\": 13, \"13\": 70, \"5\": 18, \"0\": 9, \"8\": 13, \"2\": 28, \"9\": 4, \"14\": 2, \"10\": 9, \"11\": 2}, \"12\": {\"14\": 12, \"12\": 134, \"4\": 50, \"11\": 15, \"3\": 1, \"0\": 2, \"10\": 10, \"7\": 5, \"8\": 5}, \"7\": {\"5\": 21, \"7\": 64, \"0\": 43, \"8\": 38, \"3\": 17, \"10\": 19, \"9\": 7, \"15\": 5, \"6\": 4, \"12\": 2, \"14\": 2, \"13\": 3, \"1\": 1}, \"14\": {\"14\": 106, \"2\": 27, \"10\": 24, \"11\": 48, \"12\": 8, \"13\": 4, \"0\": 1, \"8\": 3, \"15\": 4, \"7\": 2, \"4\": 1}, \"2\": {\"13\": 34, \"1\": 10, \"11\": 8, \"2\": 118, \"14\": 26, \"0\": 2, \"15\": 15, \"10\": 7, \"5\": 2, \"8\": 4}, \"8\": {\"7\": 27, \"5\": 21, \"13\": 11, \"0\": 32, \"6\": 14, \"15\": 22, \"1\": 8, \"3\": 13, \"8\": 43, \"9\": 6, \"10\": 14, \"2\": 8, \"4\": 1, \"12\": 1, \"14\": 3}, \"10\": {\"14\": 32, \"15\": 13, \"7\": 23, \"12\": 7, \"2\": 14, \"0\": 18, \"8\": 13, \"3\": 1, \"11\": 12, \"10\": 55, \"13\": 13, \"1\": 4, \"4\": 1, \"5\": 15, \"6\": 3}, \"11\": {\"14\": 78, \"11\": 111, \"12\": 6, \"4\": 3, \"15\": 4, \"10\": 11, \"0\": 2, \"2\": 22, \"13\": 3}, \"0\": {\"7\": 43, \"15\": 14, \"8\": 29, \"0\": 63, \"10\": 16, \"5\": 26, \"6\": 6, \"9\": 7, \"3\": 14, \"13\": 8, \"1\": 5, \"11\": 3, \"12\": 1, \"14\": 3, \"2\": 1, \"4\": 1}}, \"ORACLE.run1_26\": {\"12\": {\"12\": 92, \"14\": 7, \"13\": 11, \"11\": 26, \"8\": 11, \"9\": 14, \"6\": 19, \"10\": 14, \"7\": 1, \"15\": 14, \"0\": 6, \"5\": 12, \"2\": 3, \"1\": 2, \"4\": 3, \"3\": 1}, \"0\": {\"10\": 34, \"14\": 25, \"0\": 26, \"9\": 12, \"1\": 22, \"12\": 6, \"2\": 16, \"5\": 3, \"6\": 17, \"4\": 21, \"8\": 14, \"7\": 17, \"15\": 7, \"13\": 2, \"3\": 10}, \"5\": {\"13\": 33, \"7\": 11, \"15\": 14, \"9\": 26, \"3\": 18, \"6\": 10, \"12\": 9, \"1\": 8, \"8\": 7, \"5\": 45, \"2\": 25, \"0\": 4, \"4\": 4, \"14\": 3, \"11\": 3, \"10\": 8}, \"15\": {\"9\": 16, \"4\": 14, \"15\": 23, \"6\": 15, \"2\": 20, \"12\": 19, \"8\": 19, \"1\": 10, \"10\": 13, \"0\": 8, \"13\": 13, \"3\": 13, \"7\": 15, \"5\": 21, \"14\": 9}, \"3\": {\"4\": 18, \"3\": 44, \"9\": 21, \"6\": 13, \"7\": 29, \"15\": 12, \"10\": 5, \"8\": 18, \"14\": 7, \"0\": 11, \"2\": 30, \"1\": 7, \"5\": 17, \"12\": 4, \"13\": 2}, \"4\": {\"14\": 29, \"4\": 35, \"1\": 26, \"0\": 23, \"9\": 10, \"10\": 12, \"2\": 12, \"3\": 12, \"6\": 13, \"5\": 3, \"13\": 1, \"8\": 20, \"7\": 13, \"12\": 4, \"15\": 7}, \"10\": {\"15\": 20, \"14\": 19, \"2\": 14, \"6\": 19, \"3\": 13, \"8\": 22, \"10\": 20, \"12\": 11, \"0\": 14, \"5\": 4, \"7\": 16, \"4\": 13, \"9\": 20, \"1\": 14, \"13\": 3}, \"7\": {\"2\": 19, \"9\": 15, \"0\": 19, \"14\": 14, \"4\": 21, \"5\": 11, \"12\": 6, \"7\": 23, \"6\": 19, \"15\": 15, \"3\": 19, \"10\": 14, \"13\": 7, \"8\": 17, \"1\": 11}, \"14\": {\"2\": 12, \"8\": 21, \"14\": 27, \"4\": 25, \"10\": 34, \"0\": 22, \"6\": 9, \"1\": 19, \"7\": 17, \"12\": 7, \"13\": 3, \"15\": 12, \"9\": 6, \"3\": 7, \"5\": 3}, \"2\": {\"2\": 46, \"8\": 22, \"3\": 27, \"0\": 6, \"6\": 10, \"7\": 15, \"13\": 17, \"14\": 10, \"15\": 9, \"9\": 16, \"10\": 8, \"1\": 9, \"4\": 18, \"5\": 15, \"12\": 3, \"11\": 1}, \"9\": {\"3\": 19, \"15\": 26, \"2\": 21, \"13\": 22, \"9\": 24, \"7\": 13, \"5\": 25, \"0\": 5, \"6\": 12, \"4\": 11, \"8\": 11, \"10\": 10, \"1\": 4, \"12\": 5, \"14\": 4, \"11\": 2}, \"13\": {\"8\": 6, \"5\": 37, \"9\": 19, \"6\": 18, \"13\": 54, \"12\": 5, \"15\": 23, \"11\": 13, \"7\": 10, \"3\": 9, \"10\": 7, \"2\": 24, \"0\": 6, \"1\": 3, \"4\": 2}, \"8\": {\"5\": 8, \"9\": 17, \"3\": 14, \"8\": 31, \"0\": 26, \"14\": 18, \"12\": 11, \"2\": 15, \"10\": 19, \"1\": 18, \"4\": 14, \"7\": 14, \"15\": 14, \"6\": 12, \"13\": 2, \"11\": 1}, \"6\": {\"10\": 18, \"0\": 15, \"2\": 14, \"7\": 12, \"12\": 18, \"15\": 9, \"6\": 27, \"9\": 6, \"8\": 20, \"14\": 13, \"1\": 9, \"4\": 9, \"13\": 13, \"5\": 8, \"3\": 9}, \"1\": {\"1\": 21, \"3\": 18, \"0\": 28, \"7\": 14, \"8\": 11, \"5\": 6, \"2\": 14, \"14\": 18, \"15\": 6, \"12\": 6, \"10\": 19, \"9\": 6, \"4\": 19, \"6\": 11, \"13\": 3}, \"11\": {\"11\": 180, \"13\": 24, \"9\": 1, \"12\": 23, \"6\": 1, \"15\": 4, \"5\": 3, \"14\": 1, \"8\": 2, \"0\": 1}}, \"ORACLE.run1_50\": {\"6\": {\"5\": 29, \"1\": 20, \"13\": 30, \"10\": 11, \"6\": 41, \"4\": 26, \"15\": 31, \"9\": 9, \"7\": 17, \"11\": 13, \"14\": 3, \"0\": 2}, \"9\": {\"15\": 15, \"11\": 55, \"14\": 24, \"9\": 75, \"1\": 20, \"6\": 3, \"12\": 27, \"13\": 3, \"0\": 5, \"2\": 2, \"4\": 6, \"5\": 3}, \"3\": {\"3\": 182, \"8\": 41, \"10\": 10, \"7\": 4, \"5\": 1, \"0\": 2}, \"8\": {\"8\": 114, \"2\": 13, \"3\": 50, \"0\": 27, \"10\": 27, \"7\": 4, \"13\": 1, \"6\": 1, \"5\": 1}, \"13\": {\"15\": 11, \"13\": 48, \"7\": 33, \"10\": 20, \"6\": 24, \"4\": 25, \"1\": 25, \"5\": 28, \"3\": 2, \"8\": 7, \"12\": 2, \"14\": 3, \"0\": 4, \"11\": 6, \"2\": 1, \"9\": 1}, \"1\": {\"1\": 42, \"5\": 21, \"15\": 22, \"6\": 27, \"10\": 9, \"4\": 30, \"11\": 21, \"14\": 9, \"9\": 9, \"7\": 8, \"13\": 20, \"12\": 8, \"0\": 9, \"2\": 1}, \"7\": {\"7\": 73, \"13\": 34, \"10\": 12, \"3\": 11, \"6\": 22, \"5\": 26, \"15\": 9, \"4\": 16, \"8\": 8, \"0\": 6, \"1\": 13, \"2\": 1, \"14\": 1}, \"14\": {\"14\": 59, \"5\": 6, \"6\": 4, \"12\": 46, \"9\": 25, \"4\": 6, \"0\": 12, \"11\": 17, \"10\": 4, \"1\": 16, \"2\": 14, \"15\": 3, \"8\": 2, \"13\": 4}, \"0\": {\"2\": 32, \"10\": 45, \"0\": 72, \"8\": 30, \"13\": 8, \"4\": 2, \"14\": 13, \"5\": 7, \"1\": 9, \"7\": 5, \"3\": 2, \"6\": 5, \"9\": 1, \"12\": 4, \"11\": 1}, \"4\": {\"15\": 27, \"1\": 24, \"7\": 17, \"13\": 14, \"11\": 18, \"6\": 32, \"10\": 9, \"9\": 10, \"5\": 16, \"4\": 46, \"8\": 1, \"12\": 1, \"14\": 3, \"0\": 4}, \"5\": {\"15\": 17, \"4\": 19, \"13\": 43, \"5\": 37, \"11\": 12, \"1\": 21, \"10\": 17, \"9\": 3, \"7\": 29, \"6\": 24, \"0\": 5, \"14\": 3, \"8\": 1, \"3\": 2, \"12\": 1}, \"2\": {\"2\": 89, \"0\": 55, \"8\": 8, \"12\": 11, \"10\": 20, \"1\": 4, \"11\": 3, \"5\": 2, \"7\": 4, \"14\": 18, \"9\": 2, \"6\": 1, \"13\": 1}, \"15\": {\"6\": 23, \"4\": 36, \"15\": 47, \"13\": 12, \"1\": 39, \"11\": 26, \"5\": 13, \"14\": 6, \"9\": 17, \"7\": 6, \"12\": 1}, \"10\": {\"8\": 39, \"7\": 14, \"10\": 74, \"6\": 8, \"13\": 24, \"1\": 6, \"0\": 27, \"2\": 11, \"5\": 9, \"3\": 13, \"4\": 4, \"14\": 4, \"12\": 1}, \"11\": {\"1\": 33, \"11\": 63, \"14\": 19, \"15\": 25, \"4\": 15, \"13\": 5, \"9\": 42, \"0\": 6, \"12\": 18, \"5\": 4, \"6\": 7, \"2\": 1, \"10\": 1, \"7\": 1}, \"12\": {\"4\": 4, \"10\": 1, \"9\": 35, \"14\": 42, \"12\": 91, \"6\": 1, \"11\": 26, \"2\": 16, \"0\": 5, \"1\": 4, \"5\": 4, \"15\": 4, \"13\": 1}}, \"ORACLE.run1_44\": {\"5\": {\"0\": 21, \"5\": 87, \"14\": 43, \"15\": 37, \"4\": 22, \"8\": 21, \"13\": 2, \"9\": 1}, \"1\": {\"12\": 41, \"1\": 52, \"3\": 30, \"9\": 12, \"10\": 29, \"2\": 23, \"13\": 14, \"14\": 6, \"7\": 15, \"4\": 6, \"6\": 1, \"11\": 2, \"15\": 1}, \"13\": {\"11\": 36, \"6\": 31, \"9\": 41, \"13\": 46, \"4\": 10, \"1\": 6, \"7\": 18, \"10\": 9, \"14\": 3, \"2\": 25, \"12\": 4, \"15\": 1, \"5\": 2}, \"14\": {\"5\": 31, \"14\": 76, \"15\": 18, \"1\": 9, \"4\": 45, \"3\": 15, \"10\": 1, \"7\": 4, \"9\": 5, \"0\": 11, \"12\": 3, \"13\": 5, \"8\": 10, \"6\": 1}, \"0\": {\"8\": 49, \"0\": 75, \"5\": 34, \"14\": 18, \"15\": 41, \"4\": 7}, \"8\": {\"0\": 54, \"5\": 16, \"8\": 105, \"15\": 34, \"4\": 5, \"14\": 6}, \"10\": {\"6\": 7, \"1\": 29, \"9\": 19, \"10\": 47, \"2\": 36, \"12\": 32, \"14\": 2, \"13\": 9, \"11\": 6, \"3\": 12, \"7\": 25, \"4\": 6}, \"3\": {\"3\": 63, \"12\": 39, \"7\": 11, \"1\": 39, \"2\": 10, \"14\": 12, \"5\": 3, \"10\": 6, \"9\": 14, \"4\": 15, \"15\": 3, \"13\": 1, \"11\": 1, \"8\": 1}, \"4\": {\"14\": 47, \"5\": 27, \"13\": 10, \"4\": 92, \"7\": 5, \"15\": 13, \"10\": 1, \"3\": 14, \"1\": 5, \"0\": 6, \"12\": 5, \"2\": 2, \"9\": 6, \"8\": 3}, \"7\": {\"1\": 20, \"13\": 32, \"10\": 14, \"9\": 30, \"7\": 46, \"2\": 21, \"4\": 12, \"6\": 12, \"3\": 5, \"11\": 10, \"14\": 5, \"12\": 13, \"5\": 2}, \"6\": {\"7\": 12, \"6\": 82, \"9\": 16, \"11\": 35, \"2\": 24, \"3\": 2, \"13\": 34, \"4\": 3, \"12\": 6, \"10\": 8}, \"12\": {\"1\": 45, \"12\": 64, \"3\": 35, \"10\": 26, \"9\": 14, \"2\": 17, \"6\": 6, \"7\": 20, \"13\": 5, \"4\": 2, \"14\": 5, \"11\": 1}, \"11\": {\"13\": 44, \"6\": 47, \"11\": 60, \"7\": 18, \"9\": 23, \"4\": 5, \"2\": 17, \"10\": 15, \"12\": 1, \"1\": 3, \"14\": 3}, \"9\": {\"3\": 3, \"9\": 49, \"7\": 33, \"6\": 19, \"13\": 26, \"11\": 16, \"10\": 9, \"2\": 28, \"12\": 13, \"4\": 13, \"1\": 12, \"14\": 10, \"5\": 1}, \"15\": {\"0\": 46, \"8\": 41, \"14\": 34, \"15\": 61, \"4\": 15, \"5\": 28, \"1\": 2, \"3\": 1}, \"2\": {\"1\": 21, \"6\": 16, \"7\": 38, \"4\": 5, \"12\": 14, \"2\": 40, \"13\": 28, \"11\": 10, \"9\": 24, \"10\": 22, \"14\": 2, \"3\": 6}}, \"ORACLE.run1_32\": {\"4\": {\"5\": 23, \"11\": 8, \"8\": 16, \"13\": 22, \"14\": 11, \"9\": 15, \"0\": 26, \"4\": 37, \"7\": 18, \"2\": 36, \"3\": 8, \"12\": 2}, \"10\": {\"10\": 176, \"1\": 35, \"6\": 8, \"12\": 5}, \"13\": {\"5\": 32, \"13\": 46, \"0\": 25, \"8\": 21, \"4\": 21, \"15\": 5, \"9\": 5, \"3\": 21, \"7\": 13, \"11\": 7, \"14\": 14, \"2\": 20}, \"6\": {\"6\": 194, \"10\": 17, \"12\": 8, \"1\": 15}, \"5\": {\"5\": 35, \"4\": 21, \"13\": 26, \"8\": 28, \"2\": 18, \"15\": 7, \"3\": 23, \"0\": 27, \"11\": 13, \"7\": 20, \"14\": 12, \"9\": 4}, \"1\": {\"1\": 192, \"10\": 37, \"6\": 5}, \"14\": {\"2\": 26, \"13\": 10, \"11\": 36, \"9\": 10, \"14\": 40, \"5\": 13, \"7\": 31, \"0\": 27, \"4\": 18, \"8\": 14, \"3\": 6, \"12\": 1}, \"0\": {\"4\": 30, \"11\": 29, \"8\": 17, \"14\": 21, \"2\": 18, \"5\": 20, \"13\": 19, \"0\": 32, \"7\": 24, \"9\": 12, \"3\": 9, \"12\": 1}, \"7\": {\"7\": 30, \"4\": 20, \"5\": 33, \"14\": 26, \"2\": 39, \"11\": 21, \"3\": 10, \"13\": 11, \"8\": 18, \"0\": 23, \"9\": 6, \"12\": 1}, \"8\": {\"13\": 31, \"4\": 13, \"8\": 43, \"3\": 31, \"0\": 26, \"5\": 37, \"15\": 8, \"7\": 14, \"2\": 11, \"14\": 6, \"9\": 4, \"11\": 7, \"12\": 1}, \"11\": {\"11\": 54, \"7\": 37, \"4\": 18, \"8\": 14, \"0\": 21, \"14\": 43, \"5\": 15, \"13\": 8, \"2\": 12, \"9\": 1, \"3\": 5}, \"2\": {\"4\": 26, \"11\": 16, \"0\": 29, \"5\": 19, \"2\": 51, \"14\": 27, \"13\": 14, \"12\": 6, \"7\": 20, \"8\": 4, \"9\": 17, \"3\": 1}, \"15\": {\"15\": 164, \"3\": 19, \"4\": 4, \"0\": 1, \"5\": 12, \"13\": 6, \"8\": 22, \"7\": 1, \"2\": 1}, \"3\": {\"3\": 79, \"8\": 34, \"15\": 20, \"13\": 27, \"5\": 20, \"0\": 17, \"4\": 8, \"7\": 8, \"11\": 6, \"2\": 6, \"14\": 5}, \"12\": {\"9\": 41, \"12\": 147, \"10\": 25, \"6\": 12, \"2\": 4, \"0\": 1, \"4\": 2, \"7\": 2}, \"9\": {\"9\": 117, \"6\": 7, \"12\": 51, \"2\": 22, \"4\": 10, \"7\": 5, \"0\": 2, \"13\": 3, \"14\": 4, \"8\": 2, \"5\": 3, \"10\": 1, \"11\": 1}}, \"ORACLE.run1_20\": {\"9\": {\"9\": 15, \"13\": 20, \"3\": 23, \"10\": 5, \"1\": 20, \"0\": 19, \"12\": 8, \"5\": 14, \"2\": 24, \"11\": 17, \"4\": 8, \"8\": 12, \"15\": 17, \"14\": 6, \"7\": 6, \"6\": 4}, \"2\": {\"3\": 17, \"15\": 26, \"8\": 6, \"2\": 25, \"9\": 21, \"7\": 13, \"1\": 24, \"11\": 11, \"12\": 25, \"13\": 14, \"14\": 4, \"0\": 18, \"10\": 3, \"5\": 15, \"4\": 7, \"6\": 7}, \"11\": {\"2\": 20, \"11\": 55, \"13\": 18, \"8\": 10, \"6\": 8, \"12\": 20, \"3\": 13, \"7\": 20, \"15\": 16, \"0\": 4, \"1\": 14, \"5\": 7, \"9\": 21, \"4\": 3, \"14\": 4, \"10\": 1}, \"10\": {\"1\": 4, \"9\": 8, \"6\": 29, \"7\": 21, \"14\": 30, \"13\": 2, \"10\": 37, \"3\": 10, \"4\": 34, \"8\": 36, \"0\": 8, \"5\": 8, \"11\": 3, \"12\": 4, \"15\": 1, \"2\": 5}, \"14\": {\"6\": 31, \"14\": 54, \"7\": 12, \"10\": 29, \"8\": 29, \"4\": 30, \"3\": 12, \"11\": 2, \"15\": 2, \"5\": 6, \"13\": 1, \"1\": 3, \"0\": 6, \"2\": 5, \"9\": 4, \"12\": 4}, \"4\": {\"6\": 22, \"0\": 17, \"4\": 39, \"10\": 23, \"1\": 8, \"14\": 29, \"8\": 20, \"9\": 6, \"12\": 11, \"3\": 15, \"11\": 4, \"7\": 14, \"5\": 16, \"15\": 8, \"2\": 6}, \"3\": {\"0\": 14, \"6\": 7, \"5\": 18, \"8\": 17, \"13\": 11, \"12\": 14, \"2\": 20, \"10\": 11, \"7\": 17, \"15\": 16, \"3\": 30, \"9\": 19, \"11\": 8, \"1\": 20, \"4\": 16, \"14\": 2}, \"1\": {\"15\": 25, \"9\": 23, \"0\": 18, \"7\": 12, \"13\": 15, \"12\": 14, \"2\": 12, \"3\": 17, \"4\": 10, \"5\": 19, \"1\": 29, \"6\": 4, \"14\": 4, \"11\": 6, \"10\": 3, \"8\": 5}, \"15\": {\"9\": 22, \"1\": 22, \"3\": 14, \"15\": 45, \"7\": 10, \"2\": 12, \"12\": 27, \"13\": 23, \"8\": 3, \"0\": 17, \"5\": 18, \"4\": 7, \"11\": 4, \"14\": 1, \"6\": 3, \"10\": 2}, \"0\": {\"1\": 18, \"2\": 15, \"4\": 15, \"8\": 19, \"12\": 14, \"3\": 7, \"11\": 11, \"5\": 18, \"13\": 15, \"6\": 9, \"15\": 20, \"7\": 16, \"10\": 9, \"0\": 25, \"9\": 18, \"14\": 1}, \"7\": {\"1\": 18, \"15\": 14, \"7\": 27, \"5\": 13, \"8\": 9, \"12\": 16, \"4\": 10, \"3\": 18, \"14\": 14, \"0\": 17, \"11\": 7, \"9\": 14, \"2\": 19, \"10\": 9, \"6\": 18, \"13\": 13}, \"6\": {\"14\": 28, \"6\": 30, \"7\": 18, \"8\": 22, \"10\": 20, \"3\": 17, \"9\": 15, \"2\": 16, \"5\": 8, \"0\": 15, \"12\": 3, \"4\": 20, \"15\": 6, \"11\": 2, \"1\": 3, \"13\": 3}, \"13\": {\"15\": 19, \"13\": 23, \"7\": 12, \"0\": 18, \"9\": 21, \"2\": 21, \"5\": 12, \"12\": 26, \"11\": 13, \"1\": 25, \"3\": 21, \"10\": 1, \"6\": 3, \"8\": 1, \"14\": 1, \"4\": 3}, \"5\": {\"0\": 25, \"12\": 30, \"15\": 29, \"7\": 13, \"13\": 7, \"5\": 22, \"3\": 11, \"11\": 9, \"1\": 19, \"10\": 3, \"9\": 12, \"8\": 14, \"6\": 3, \"2\": 10, \"14\": 3, \"4\": 6}, \"8\": {\"8\": 39, \"5\": 11, \"14\": 22, \"12\": 10, \"6\": 30, \"9\": 5, \"11\": 4, \"10\": 23, \"3\": 15, \"4\": 20, \"0\": 15, \"7\": 15, \"2\": 8, \"15\": 4, \"1\": 1, \"13\": 4}, \"12\": {\"8\": 6, \"7\": 17, \"11\": 10, \"10\": 8, \"3\": 20, \"6\": 6, \"9\": 15, \"2\": 22, \"13\": 15, \"12\": 22, \"15\": 11, \"4\": 12, \"1\": 25, \"0\": 18, \"5\": 20, \"14\": 3}}, \"ORACLE.run1_8\": {\"2\": {\"4\": 19, \"6\": 17, \"8\": 10, \"7\": 21, \"15\": 11, \"2\": 51, \"0\": 15, \"3\": 34, \"14\": 10, \"13\": 7, \"12\": 11, \"10\": 8, \"5\": 2, \"1\": 3, \"11\": 1}, \"13\": {\"8\": 2, \"14\": 28, \"5\": 17, \"4\": 32, \"7\": 22, \"6\": 13, \"13\": 33, \"11\": 7, \"2\": 8, \"1\": 11, \"0\": 21, \"10\": 35, \"15\": 4, \"3\": 6, \"12\": 1}, \"14\": {\"1\": 11, \"2\": 8, \"13\": 26, \"14\": 29, \"0\": 11, \"15\": 7, \"5\": 25, \"4\": 22, \"6\": 12, \"7\": 18, \"8\": 9, \"10\": 26, \"3\": 7, \"11\": 10, \"9\": 1}, \"4\": {\"1\": 13, \"0\": 18, \"4\": 25, \"7\": 15, \"14\": 32, \"13\": 26, \"15\": 5, \"6\": 31, \"5\": 20, \"10\": 20, \"2\": 7, \"3\": 6, \"12\": 1, \"11\": 7, \"8\": 6}, \"5\": {\"11\": 17, \"1\": 21, \"0\": 11, \"7\": 8, \"4\": 17, \"13\": 16, \"5\": 80, \"10\": 25, \"6\": 9, \"9\": 4, \"15\": 3, \"14\": 18, \"12\": 1}, \"6\": {\"0\": 17, \"8\": 15, \"7\": 20, \"6\": 24, \"2\": 15, \"13\": 15, \"4\": 18, \"1\": 16, \"14\": 23, \"15\": 8, \"10\": 20, \"12\": 6, \"11\": 9, \"5\": 13, \"3\": 5}, \"11\": {\"5\": 25, \"8\": 18, \"1\": 43, \"11\": 58, \"7\": 3, \"12\": 7, \"10\": 13, \"4\": 13, \"14\": 12, \"13\": 5, \"15\": 12, \"6\": 5, \"3\": 3, \"2\": 1}, \"3\": {\"8\": 16, \"3\": 49, \"4\": 9, \"6\": 14, \"0\": 9, \"15\": 25, \"2\": 39, \"7\": 21, \"12\": 30, \"10\": 6, \"11\": 1, \"14\": 5, \"13\": 4, \"1\": 2}, \"10\": {\"0\": 24, \"1\": 10, \"5\": 26, \"7\": 20, \"10\": 41, \"13\": 27, \"6\": 13, \"4\": 21, \"11\": 9, \"14\": 28, \"2\": 11, \"3\": 3, \"15\": 3, \"12\": 1, \"8\": 1}, \"1\": {\"1\": 58, \"4\": 11, \"8\": 12, \"0\": 6, \"7\": 15, \"11\": 32, \"6\": 11, \"5\": 20, \"13\": 12, \"14\": 14, \"10\": 14, \"12\": 4, \"2\": 4, \"15\": 9}, \"0\": {\"14\": 24, \"13\": 31, \"5\": 8, \"10\": 29, \"0\": 43, \"4\": 24, \"6\": 21, \"2\": 12, \"7\": 16, \"8\": 1, \"3\": 4, \"15\": 3, \"1\": 3, \"11\": 2, \"12\": 1}, \"9\": {\"9\": 190, \"5\": 10, \"0\": 3, \"14\": 3, \"4\": 1, \"10\": 3, \"13\": 2}, \"8\": {\"8\": 44, \"3\": 8, \"4\": 9, \"12\": 35, \"15\": 28, \"1\": 25, \"11\": 21, \"6\": 11, \"2\": 3, \"14\": 7, \"7\": 17, \"10\": 5, \"13\": 6, \"5\": 6, \"0\": 3}, \"7\": {\"8\": 5, \"2\": 20, \"12\": 11, \"4\": 20, \"0\": 18, \"7\": 29, \"10\": 23, \"13\": 27, \"1\": 10, \"3\": 14, \"5\": 7, \"15\": 6, \"14\": 21, \"6\": 22, \"11\": 1}, \"12\": {\"12\": 64, \"11\": 10, \"8\": 32, \"4\": 9, \"15\": 37, \"3\": 25, \"6\": 10, \"1\": 6, \"2\": 14, \"0\": 4, \"13\": 3, \"7\": 5, \"14\": 2, \"10\": 1}, \"15\": {\"3\": 20, \"15\": 44, \"8\": 36, \"2\": 4, \"1\": 20, \"11\": 18, \"7\": 5, \"14\": 11, \"12\": 32, \"6\": 12, \"13\": 5, \"4\": 9, \"0\": 3, \"5\": 1}}}, \"per_domain_accuracy\": {\"C_A_3\": {\"accuracy\": 0.9935897435897436, \"source?\": true}, \"C_B_3\": {\"accuracy\": 1.0, \"source?\": true}, \"W_A_3\": {\"accuracy\": 0.8981288981288982, \"source?\": true}, \"C_A_1\": {\"accuracy\": 0.9819004524886877, \"source?\": true}, \"W_A_1\": {\"accuracy\": 0.8942307692307693, \"source?\": true}, \"W_B_3\": {\"accuracy\": 0.9646569646569647, \"source?\": true}, \"W_C_3\": {\"accuracy\": 0.9871794871794872, \"source?\": true}, \"C_A_5\": {\"accuracy\": 0.9796380090497737, \"source?\": true}, \"W_B_1\": {\"accuracy\": 0.9781704781704782, \"source?\": true}, \"W_C_1\": {\"accuracy\": 0.9833333333333333, \"source?\": true}, \"W_A_4\": {\"accuracy\": 0.8575883575883576, \"source?\": true}, \"C_B_1\": {\"accuracy\": 0.9994802494802495, \"source?\": true}, \"W_B_4\": {\"accuracy\": 0.9394871794871795, \"source?\": true}, \"W_A_2\": {\"accuracy\": 0.8835470085470085, \"source?\": true}, \"C_B_5\": {\"accuracy\": 0.9995069033530573, \"source?\": true}, \"C_A_4\": {\"accuracy\": 0.9796380090497737, \"source?\": true}, \"C_B_4\": {\"accuracy\": 1.0, \"source?\": true}, \"W_B_2\": {\"accuracy\": 0.9507692307692308, \"source?\": true}, \"W_C_4\": {\"accuracy\": 0.9762820512820513, \"source?\": true}, \"W_C_2\": {\"accuracy\": 0.9666666666666667, \"source?\": true}, \"C_B_2\": {\"accuracy\": 1.0, \"source?\": true}, \"C_A_2\": {\"accuracy\": 0.9903846153846154, \"source?\": true}, \"ORACLE.run1_14\": {\"accuracy\": 0.2399665551839465, \"source?\": false}, \"ORACLE.run1_38\": {\"accuracy\": 0.35406437534097107, \"source?\": false}, \"ORACLE.run1_26\": {\"accuracy\": 0.19867183176535694, \"source?\": false}, \"ORACLE.run1_50\": {\"accuracy\": 0.3101129639591178, \"source?\": false}, \"ORACLE.run1_44\": {\"accuracy\": 0.28505182760501907, \"source?\": false}, \"ORACLE.run1_32\": {\"accuracy\": 0.3892199349945829, \"source?\": false}, \"ORACLE.run1_20\": {\"accuracy\": 0.14102564102564102, \"source?\": false}, \"ORACLE.run1_8\": {\"accuracy\": 0.23851687880464859, \"source?\": false}}}, \"history\": {\"epoch_indices\": [1, 2, 3, 4, 5], \"train_label_loss\": [0.1403954716262008, 0.08714236844624637, 0.062380141864460385, 0.04957217609881628, 0.03961385071078666], \"source_val_label_loss\": [0.20861180126667023, 0.08803901076316833, 0.07443596422672272, 0.07475652545690536, 0.07668688148260117], \"target_val_label_loss\": [2.106673002243042, 2.188840389251709, 2.1573426723480225, 2.1741421222686768, 2.2477524280548096], \"source_val_acc_label\": [0.9688248602608465, 0.9803367048176737, 0.9834974713867447, 0.9836305562949161, 0.9838301836571732], \"target_val_acc_label\": [0.27001779359430605, 0.25349028196003287, 0.2600260060224473, 0.2594442923624418, 0.24339583903640843]}, \"dataset_metrics\": {\"source\": {\"train\": {\"n_unique_x\": 184234, \"n_unique_y\": 83, \"n_batch/episode\": 8316}, \"val\": {\"n_unique_x\": 39369, \"n_unique_y\": 83, \"n_batch/episode\": 1156}, \"test\": {\"n_unique_x\": 39369, \"n_unique_y\": 83, \"n_batch/episode\": 1156}}, \"target\": {\"train\": {\"n_unique_x\": 179199, \"n_unique_y\": 16, \"n_batch/episode\": 8080}, \"val\": {\"n_unique_x\": 38309, \"n_unique_y\": 16, \"n_batch/episode\": 1124}, \"test\": {\"n_unique_x\": 38309, \"n_unique_y\": 16, \"n_batch/episode\": 1124}}}}'"
      ]
     },
     "execution_count": 29,
     "metadata": {},
     "output_type": "execute_result"
    }
   ],
   "source": [
    "json.dumps(experiment)"
   ]
  }
 ],
 "metadata": {
  "celltoolbar": "Tags",
  "kernelspec": {
   "display_name": "Python 3 (ipykernel)",
   "language": "python",
   "name": "python3"
  },
  "language_info": {
   "codemirror_mode": {
    "name": "ipython",
    "version": 3
   },
   "file_extension": ".py",
   "mimetype": "text/x-python",
   "name": "python",
   "nbconvert_exporter": "python",
   "pygments_lexer": "ipython3",
   "version": "3.8.10"
  },
  "papermill": {
   "default_parameters": {},
   "duration": 1228.373719,
   "end_time": "2022-03-09T03:20:24.469842",
   "environment_variables": {},
   "exception": null,
   "input_path": "/mnt/wd500GB/CSC500/csc500-main/csc500-notebooks/templates/tl_ptn_template.ipynb",
   "output_path": "trial.ipynb",
   "parameters": {
    "parameters": {
     "BEST_MODEL_PATH": "./best_model.pth",
     "NUM_LOGS_PER_EPOCH": 10,
     "criteria_for_best": "target_loss",
     "dataset_seed": 1337,
     "datasets": [
      {
       "domain_prefix": "C_A_",
       "domains": [
        1,
        2,
        3,
        4,
        5
       ],
       "episode_transforms": [],
       "labels": [
        "11-20.",
        "2-3.",
        "7-10.",
        "14-10.",
        "19-16.",
        "1-19.",
        "1-15.",
        "11-7.",
        "11-14.",
        "1-17.",
        "4-19.",
        "17-10.",
        "8-18.",
        "2-11.",
        "2-20.",
        "14-14.",
        "8-8.",
        "1-16.",
        "2-8.",
        "3-3.",
        "4-11.",
        "2-18.",
        "4-10.",
        "1-11.",
        "11-17.",
        "2-17.",
        "19-3.",
        "2-7.",
        "1-10.",
        "2-4.",
        "10-4.",
        "1-18.",
        "2-5.",
        "16-1.",
        "17-2.",
        "13-20.",
        "19-20.",
        "14-11.",
        "2-10.",
        "3-18."
       ],
       "num_examples_per_domain_per_label": 100,
       "pickle_path": "/mnt/wd500GB/CSC500/csc500-main/datasets/cores.stratified_ds.2022A.pkl",
       "source_or_target_dataset": "source",
       "x_transforms": [
        "unit_mag"
       ]
      },
      {
       "domain_prefix": "C_B_",
       "domains": [
        1,
        2,
        3,
        4,
        5
       ],
       "episode_transforms": [],
       "labels": [
        "10-7.",
        "11-1.",
        "13-8.",
        "14-7.",
        "15-1.",
        "15-20.",
        "16-16.",
        "17-11.",
        "19-1.",
        "19-19.",
        "2-6.",
        "3-13.",
        "4-1.",
        "5-5.",
        "6-15.",
        "7-14.",
        "8-20.",
        "8-3."
       ],
       "num_examples_per_domain_per_label": 1000,
       "pickle_path": "/mnt/wd500GB/CSC500/csc500-main/datasets/cores.stratified_ds.2022A.pkl",
       "source_or_target_dataset": "source",
       "x_transforms": [
        "unit_mag"
       ]
      },
      {
       "domain_prefix": "W_A_",
       "domains": [
        1,
        2,
        3,
        4
       ],
       "episode_transforms": [],
       "labels": [
        "2-1",
        "19-7",
        "14-9",
        "20-3",
        "16-19",
        "20-14",
        "6-1",
        "19-6",
        "13-19",
        "2-7",
        "17-10",
        "18-14",
        "13-20",
        "2-15",
        "11-20",
        "3-1",
        "18-12",
        "18-2",
        "9-7",
        "18-17",
        "19-11",
        "7-12",
        "20-16",
        "6-6",
        "7-9",
        "19-15",
        "14-20",
        "19-14",
        "20-8",
        "19-12",
        "19-4",
        "18-4",
        "3-8",
        "2-4",
        "2-5",
        "13-3",
        "19-9",
        "7-13",
        "14-19",
        "18-16",
        "7-8",
        "18-1",
        "13-7",
        "18-9",
        "20-4",
        "15-6",
        "2-3",
        "10-4",
        "18-8",
        "15-19",
        "18-20",
        "19-13",
        "2-13",
        "3-13",
        "9-1",
        "14-13",
        "18-13",
        "16-20",
        "19-8",
        "19-10",
        "8-14",
        "18-10",
        "12-19",
        "18-15",
        "1-14",
        "18-7",
        "1-8",
        "12-7",
        "18-19",
        "13-18",
        "20-5",
        "18-5",
        "20-18",
        "14-8",
        "18-11",
        "14-14",
        "13-14",
        "8-1",
        "14-12",
        "19-3",
        "3-2",
        "2-8",
        "11-19"
       ],
       "num_examples_per_domain_per_label": 100,
       "pickle_path": "/mnt/wd500GB/CSC500/csc500-main/datasets/wisig.node3-19.stratified_ds.2022A.pkl",
       "source_or_target_dataset": "source",
       "x_transforms": [
        "unit_mag"
       ]
      },
      {
       "domain_prefix": "W_B_",
       "domains": [
        1,
        2,
        3,
        4
       ],
       "episode_transforms": [],
       "labels": [
        "20-20",
        "19-1",
        "20-1",
        "5-1",
        "19-20",
        "19-2",
        "4-1",
        "1-12",
        "7-10",
        "1-18",
        "4-11",
        "8-13",
        "5-5",
        "10-7",
        "11-4",
        "11-1",
        "17-11",
        "4-10",
        "7-14",
        "1-19",
        "7-11",
        "11-10",
        "7-7",
        "8-8",
        "19-19",
        "10-11",
        "1-16",
        "20-12",
        "2-6",
        "11-7",
        "14-11",
        "1-10",
        "16-1",
        "20-7"
       ],
       "num_examples_per_domain_per_label": 500,
       "pickle_path": "/mnt/wd500GB/CSC500/csc500-main/datasets/wisig.node3-19.stratified_ds.2022A.pkl",
       "source_or_target_dataset": "source",
       "x_transforms": [
        "unit_mag"
       ]
      },
      {
       "domain_prefix": "W_C_",
       "domains": [
        1,
        2,
        3,
        4
       ],
       "episode_transforms": [],
       "labels": [
        "10-17",
        "12-20",
        "14-10",
        "14-7",
        "15-1",
        "16-16",
        "20-15",
        "20-19",
        "3-18",
        "6-15",
        "8-18",
        "8-20",
        "8-3"
       ],
       "num_examples_per_domain_per_label": 1000,
       "pickle_path": "/mnt/wd500GB/CSC500/csc500-main/datasets/wisig.node3-19.stratified_ds.2022A.pkl",
       "source_or_target_dataset": "source",
       "x_transforms": [
        "unit_mag"
       ]
      },
      {
       "domain_prefix": "ORACLE.run1_",
       "domains": [
        32,
        38,
        8,
        44,
        14,
        50,
        20,
        26
       ],
       "episode_transforms": [],
       "labels": [
        "3123D52",
        "3123D65",
        "3123D79",
        "3123D80",
        "3123D54",
        "3123D70",
        "3123D7B",
        "3123D89",
        "3123D58",
        "3123D76",
        "3123D7D",
        "3123EFE",
        "3123D64",
        "3123D78",
        "3123D7E",
        "3124E4A"
       ],
       "num_examples_per_domain_per_label": 2000,
       "pickle_path": "/mnt/wd500GB/CSC500/csc500-main/datasets/oracle.Run1_framed_2000Examples_stratified_ds.2022A.pkl",
       "source_or_target_dataset": "target",
       "x_transforms": [
        "unit_mag"
       ]
      }
     ],
     "device": "cuda",
     "experiment_name": "tl_2_cores_wisig-oracle.run1",
     "lr": 0.001,
     "n_epoch": 50,
     "n_query": 2,
     "n_shot": 3,
     "n_way": 13,
     "patience": 3,
     "seed": 1337,
     "test_k_factor": 2,
     "torch_default_dtype": "torch.float32",
     "train_k_factor": 3,
     "val_k_factor": 2,
     "x_net": [
      {
       "class": "nnReshape",
       "kargs": {
        "shape": [
         -1,
         1,
         2,
         256
        ]
       }
      },
      {
       "class": "Conv2d",
       "kargs": {
        "bias": false,
        "in_channels": 1,
        "kernel_size": [
         1,
         7
        ],
        "out_channels": 256,
        "padding": [
         0,
         3
        ]
       }
      },
      {
       "class": "ReLU",
       "kargs": {
        "inplace": true
       }
      },
      {
       "class": "BatchNorm2d",
       "kargs": {
        "num_features": 256
       }
      },
      {
       "class": "Conv2d",
       "kargs": {
        "bias": true,
        "in_channels": 256,
        "kernel_size": [
         2,
         7
        ],
        "out_channels": 80,
        "padding": [
         0,
         3
        ]
       }
      },
      {
       "class": "ReLU",
       "kargs": {
        "inplace": true
       }
      },
      {
       "class": "BatchNorm2d",
       "kargs": {
        "num_features": 80
       }
      },
      {
       "class": "Flatten",
       "kargs": {}
      },
      {
       "class": "Linear",
       "kargs": {
        "in_features": 20480,
        "out_features": 256
       }
      },
      {
       "class": "ReLU",
       "kargs": {
        "inplace": true
       }
      },
      {
       "class": "BatchNorm1d",
       "kargs": {
        "num_features": 256
       }
      },
      {
       "class": "Linear",
       "kargs": {
        "in_features": 256,
        "out_features": 256
       }
      }
     ]
    }
   },
   "start_time": "2022-03-09T02:59:56.096123",
   "version": "2.3.4"
  }
 },
 "nbformat": 4,
 "nbformat_minor": 5
}