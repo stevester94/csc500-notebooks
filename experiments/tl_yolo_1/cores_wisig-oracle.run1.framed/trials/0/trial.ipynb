{
 "cells": [
  {
   "cell_type": "markdown",
   "id": "9fea5f46",
   "metadata": {
    "papermill": {
     "duration": 0.013578,
     "end_time": "2022-03-09T02:34:22.400968",
     "exception": false,
     "start_time": "2022-03-09T02:34:22.387390",
     "status": "completed"
    },
    "tags": []
   },
   "source": [
    "# Transfer Learning Template"
   ]
  },
  {
   "cell_type": "code",
   "execution_count": 1,
   "id": "0902182a",
   "metadata": {
    "execution": {
     "iopub.execute_input": "2022-03-09T02:34:22.438666Z",
     "iopub.status.busy": "2022-03-09T02:34:22.438144Z",
     "iopub.status.idle": "2022-03-09T02:34:23.993476Z",
     "shell.execute_reply": "2022-03-09T02:34:23.993180Z"
    },
    "papermill": {
     "duration": 1.579786,
     "end_time": "2022-03-09T02:34:23.993545",
     "exception": false,
     "start_time": "2022-03-09T02:34:22.413759",
     "status": "completed"
    },
    "tags": []
   },
   "outputs": [],
   "source": [
    "%load_ext autoreload\n",
    "%autoreload 2\n",
    "%matplotlib inline\n",
    "\n",
    "    \n",
    "import os, json, sys, time, random\n",
    "import numpy as np\n",
    "import torch\n",
    "from torch.optim import Adam\n",
    "from  easydict import EasyDict\n",
    "import matplotlib.pyplot as plt\n",
    "\n",
    "from steves_models.steves_ptn import Steves_Prototypical_Network\n",
    "\n",
    "from steves_utils.lazy_iterable_wrapper import Lazy_Iterable_Wrapper\n",
    "from steves_utils.iterable_aggregator import Iterable_Aggregator\n",
    "from steves_utils.ptn_train_eval_test_jig import  PTN_Train_Eval_Test_Jig\n",
    "from steves_utils.torch_sequential_builder import build_sequential\n",
    "from steves_utils.torch_utils import get_dataset_metrics, ptn_confusion_by_domain_over_dataloader\n",
    "from steves_utils.utils_v2 import (per_domain_accuracy_from_confusion, get_datasets_base_path)\n",
    "from steves_utils.PTN.utils import independent_accuracy_assesment\n",
    "\n",
    "from torch.utils.data import DataLoader\n",
    "\n",
    "from steves_utils.stratified_dataset.episodic_accessor import Episodic_Accessor_Factory\n",
    "\n",
    "from steves_utils.ptn_do_report import (\n",
    "    get_loss_curve,\n",
    "    get_results_table,\n",
    "    get_parameters_table,\n",
    "    get_domain_accuracies,\n",
    ")\n",
    "\n",
    "from steves_utils.transforms import get_chained_transform"
   ]
  },
  {
   "cell_type": "markdown",
   "id": "41c840b4",
   "metadata": {
    "papermill": {
     "duration": 0.012438,
     "end_time": "2022-03-09T02:34:24.019348",
     "exception": false,
     "start_time": "2022-03-09T02:34:24.006910",
     "status": "completed"
    },
    "tags": []
   },
   "source": [
    "# Allowed Parameters\n",
    "These are allowed parameters, not defaults\n",
    "Each of these values need to be present in the injected parameters (the notebook will raise an exception if they are not present)\n",
    "\n",
    "Papermill uses the cell tag \"parameters\" to inject the real parameters below this cell.\n",
    "Enable tags to see what I mean"
   ]
  },
  {
   "cell_type": "code",
   "execution_count": 2,
   "id": "fd44eb83",
   "metadata": {
    "execution": {
     "iopub.execute_input": "2022-03-09T02:34:24.049620Z",
     "iopub.status.busy": "2022-03-09T02:34:24.048493Z",
     "iopub.status.idle": "2022-03-09T02:34:24.061550Z",
     "shell.execute_reply": "2022-03-09T02:34:24.061060Z"
    },
    "papermill": {
     "duration": 0.029614,
     "end_time": "2022-03-09T02:34:24.061650",
     "exception": false,
     "start_time": "2022-03-09T02:34:24.032036",
     "status": "completed"
    },
    "tags": []
   },
   "outputs": [],
   "source": [
    "required_parameters = {\n",
    "    \"experiment_name\",\n",
    "    \"lr\",\n",
    "    \"device\",\n",
    "    \"seed\",\n",
    "    \"dataset_seed\",\n",
    "    \"n_shot\",\n",
    "    \"n_query\",\n",
    "    \"n_way\",\n",
    "    \"train_k_factor\",\n",
    "    \"val_k_factor\",\n",
    "    \"test_k_factor\",\n",
    "    \"n_epoch\",\n",
    "    \"patience\",\n",
    "    \"criteria_for_best\",\n",
    "    \"x_net\",\n",
    "    \"datasets\",\n",
    "    \"torch_default_dtype\",\n",
    "    \"NUM_LOGS_PER_EPOCH\",\n",
    "    \"BEST_MODEL_PATH\",\n",
    "}"
   ]
  },
  {
   "cell_type": "code",
   "execution_count": 3,
   "id": "fa3f0049",
   "metadata": {
    "execution": {
     "iopub.execute_input": "2022-03-09T02:34:24.100931Z",
     "iopub.status.busy": "2022-03-09T02:34:24.100512Z",
     "iopub.status.idle": "2022-03-09T02:34:24.114119Z",
     "shell.execute_reply": "2022-03-09T02:34:24.113652Z"
    },
    "papermill": {
     "duration": 0.036943,
     "end_time": "2022-03-09T02:34:24.114225",
     "exception": false,
     "start_time": "2022-03-09T02:34:24.077282",
     "status": "completed"
    },
    "tags": [
     "parameters"
    ]
   },
   "outputs": [],
   "source": [
    "from steves_utils.CORES.utils import (\n",
    "    ALL_NODES,\n",
    "    ALL_NODES_MINIMUM_1000_EXAMPLES,\n",
    "    ALL_DAYS\n",
    ")\n",
    "\n",
    "from steves_utils.ORACLE.utils_v2 import (\n",
    "    ALL_DISTANCES_FEET_NARROWED,\n",
    "    ALL_RUNS,\n",
    "    ALL_SERIAL_NUMBERS,\n",
    ")\n",
    "\n",
    "standalone_parameters = {}\n",
    "standalone_parameters[\"experiment_name\"] = \"STANDALONE PTN\"\n",
    "standalone_parameters[\"lr\"] = 0.001\n",
    "standalone_parameters[\"device\"] = \"cuda\"\n",
    "\n",
    "standalone_parameters[\"seed\"] = 1337\n",
    "standalone_parameters[\"dataset_seed\"] = 1337\n",
    "\n",
    "standalone_parameters[\"n_way\"] = 8\n",
    "standalone_parameters[\"n_shot\"] = 3\n",
    "standalone_parameters[\"n_query\"]  = 2\n",
    "standalone_parameters[\"train_k_factor\"] = 1\n",
    "standalone_parameters[\"val_k_factor\"] = 2\n",
    "standalone_parameters[\"test_k_factor\"] = 2\n",
    "\n",
    "\n",
    "standalone_parameters[\"n_epoch\"] = 50\n",
    "\n",
    "standalone_parameters[\"patience\"] = 10\n",
    "standalone_parameters[\"criteria_for_best\"] = \"source_loss\"\n",
    "\n",
    "standalone_parameters[\"datasets\"] = [\n",
    "    {\n",
    "        \"labels\": ALL_SERIAL_NUMBERS,\n",
    "        \"domains\": ALL_DISTANCES_FEET_NARROWED,\n",
    "        \"num_examples_per_domain_per_label\": 100,\n",
    "        \"pickle_path\": os.path.join(get_datasets_base_path(), \"oracle.Run1_framed_2000Examples_stratified_ds.2022A.pkl\"),\n",
    "        \"source_or_target_dataset\": \"source\",\n",
    "        \"x_transforms\": [\"unit_mag\", \"minus_two\"],\n",
    "        \"episode_transforms\": [],\n",
    "        \"domain_prefix\": \"ORACLE_\"\n",
    "    },\n",
    "    {\n",
    "        \"labels\": ALL_NODES,\n",
    "        \"domains\": ALL_DAYS,\n",
    "        \"num_examples_per_domain_per_label\": 100,\n",
    "        \"pickle_path\": os.path.join(get_datasets_base_path(), \"cores.stratified_ds.2022A.pkl\"),\n",
    "        \"source_or_target_dataset\": \"target\",\n",
    "        \"x_transforms\": [\"unit_power\", \"times_zero\"],\n",
    "        \"episode_transforms\": [],\n",
    "        \"domain_prefix\": \"CORES_\"\n",
    "    }   \n",
    "]\n",
    "\n",
    "standalone_parameters[\"torch_default_dtype\"] = \"torch.float32\" \n",
    "\n",
    "\n",
    "\n",
    "standalone_parameters[\"x_net\"] =     [\n",
    "    {\"class\": \"nnReshape\", \"kargs\": {\"shape\":[-1, 1, 2, 256]}},\n",
    "    {\"class\": \"Conv2d\", \"kargs\": { \"in_channels\":1, \"out_channels\":256, \"kernel_size\":(1,7), \"bias\":False, \"padding\":(0,3), },},\n",
    "    {\"class\": \"ReLU\", \"kargs\": {\"inplace\": True}},\n",
    "    {\"class\": \"BatchNorm2d\", \"kargs\": {\"num_features\":256}},\n",
    "\n",
    "    {\"class\": \"Conv2d\", \"kargs\": { \"in_channels\":256, \"out_channels\":80, \"kernel_size\":(2,7), \"bias\":True, \"padding\":(0,3), },},\n",
    "    {\"class\": \"ReLU\", \"kargs\": {\"inplace\": True}},\n",
    "    {\"class\": \"BatchNorm2d\", \"kargs\": {\"num_features\":80}},\n",
    "    {\"class\": \"Flatten\", \"kargs\": {}},\n",
    "\n",
    "    {\"class\": \"Linear\", \"kargs\": {\"in_features\": 80*256, \"out_features\": 256}}, # 80 units per IQ pair\n",
    "    {\"class\": \"ReLU\", \"kargs\": {\"inplace\": True}},\n",
    "    {\"class\": \"BatchNorm1d\", \"kargs\": {\"num_features\":256}},\n",
    "\n",
    "    {\"class\": \"Linear\", \"kargs\": {\"in_features\": 256, \"out_features\": 256}},\n",
    "]\n",
    "\n",
    "# Parameters relevant to results\n",
    "# These parameters will basically never need to change\n",
    "standalone_parameters[\"NUM_LOGS_PER_EPOCH\"] = 10\n",
    "standalone_parameters[\"BEST_MODEL_PATH\"] = \"./best_model.pth\"\n",
    "\n",
    "\n",
    "\n",
    "\n"
   ]
  },
  {
   "cell_type": "code",
   "execution_count": 4,
   "id": "11bd1cfd",
   "metadata": {
    "execution": {
     "iopub.execute_input": "2022-03-09T02:34:24.154136Z",
     "iopub.status.busy": "2022-03-09T02:34:24.148969Z",
     "iopub.status.idle": "2022-03-09T02:34:24.175413Z",
     "shell.execute_reply": "2022-03-09T02:34:24.174965Z"
    },
    "papermill": {
     "duration": 0.041508,
     "end_time": "2022-03-09T02:34:24.175518",
     "exception": false,
     "start_time": "2022-03-09T02:34:24.134010",
     "status": "completed"
    },
    "tags": [
     "injected-parameters"
    ]
   },
   "outputs": [],
   "source": [
    "# Parameters\n",
    "parameters = {\n",
    "    \"experiment_name\": \"tl_2_cores_wisig-oracle.run1\",\n",
    "    \"device\": \"cuda\",\n",
    "    \"lr\": 0.001,\n",
    "    \"seed\": 1337,\n",
    "    \"dataset_seed\": 1337,\n",
    "    \"n_shot\": 3,\n",
    "    \"n_query\": 2,\n",
    "    \"train_k_factor\": 3,\n",
    "    \"val_k_factor\": 2,\n",
    "    \"test_k_factor\": 2,\n",
    "    \"torch_default_dtype\": \"torch.float32\",\n",
    "    \"n_epoch\": 50,\n",
    "    \"patience\": 3,\n",
    "    \"criteria_for_best\": \"target_loss\",\n",
    "    \"x_net\": [\n",
    "        {\"class\": \"nnReshape\", \"kargs\": {\"shape\": [-1, 1, 2, 256]}},\n",
    "        {\n",
    "            \"class\": \"Conv2d\",\n",
    "            \"kargs\": {\n",
    "                \"in_channels\": 1,\n",
    "                \"out_channels\": 256,\n",
    "                \"kernel_size\": [1, 7],\n",
    "                \"bias\": False,\n",
    "                \"padding\": [0, 3],\n",
    "            },\n",
    "        },\n",
    "        {\"class\": \"ReLU\", \"kargs\": {\"inplace\": True}},\n",
    "        {\"class\": \"BatchNorm2d\", \"kargs\": {\"num_features\": 256}},\n",
    "        {\n",
    "            \"class\": \"Conv2d\",\n",
    "            \"kargs\": {\n",
    "                \"in_channels\": 256,\n",
    "                \"out_channels\": 80,\n",
    "                \"kernel_size\": [2, 7],\n",
    "                \"bias\": True,\n",
    "                \"padding\": [0, 3],\n",
    "            },\n",
    "        },\n",
    "        {\"class\": \"ReLU\", \"kargs\": {\"inplace\": True}},\n",
    "        {\"class\": \"BatchNorm2d\", \"kargs\": {\"num_features\": 80}},\n",
    "        {\"class\": \"Flatten\", \"kargs\": {}},\n",
    "        {\"class\": \"Linear\", \"kargs\": {\"in_features\": 20480, \"out_features\": 256}},\n",
    "        {\"class\": \"ReLU\", \"kargs\": {\"inplace\": True}},\n",
    "        {\"class\": \"BatchNorm1d\", \"kargs\": {\"num_features\": 256}},\n",
    "        {\"class\": \"Linear\", \"kargs\": {\"in_features\": 256, \"out_features\": 256}},\n",
    "    ],\n",
    "    \"NUM_LOGS_PER_EPOCH\": 10,\n",
    "    \"BEST_MODEL_PATH\": \"./best_model.pth\",\n",
    "    \"n_way\": 13,\n",
    "    \"datasets\": [\n",
    "        {\n",
    "            \"labels\": [\n",
    "                \"11-20.\",\n",
    "                \"2-3.\",\n",
    "                \"7-10.\",\n",
    "                \"14-10.\",\n",
    "                \"19-16.\",\n",
    "                \"1-19.\",\n",
    "                \"1-15.\",\n",
    "                \"11-7.\",\n",
    "                \"11-14.\",\n",
    "                \"1-17.\",\n",
    "                \"4-19.\",\n",
    "                \"17-10.\",\n",
    "                \"8-18.\",\n",
    "                \"2-11.\",\n",
    "                \"2-20.\",\n",
    "                \"14-14.\",\n",
    "                \"8-8.\",\n",
    "                \"1-16.\",\n",
    "                \"2-8.\",\n",
    "                \"3-3.\",\n",
    "                \"4-11.\",\n",
    "                \"2-18.\",\n",
    "                \"4-10.\",\n",
    "                \"1-11.\",\n",
    "                \"11-17.\",\n",
    "                \"2-17.\",\n",
    "                \"19-3.\",\n",
    "                \"2-7.\",\n",
    "                \"1-10.\",\n",
    "                \"2-4.\",\n",
    "                \"10-4.\",\n",
    "                \"1-18.\",\n",
    "                \"2-5.\",\n",
    "                \"16-1.\",\n",
    "                \"17-2.\",\n",
    "                \"13-20.\",\n",
    "                \"19-20.\",\n",
    "                \"14-11.\",\n",
    "                \"2-10.\",\n",
    "                \"3-18.\",\n",
    "            ],\n",
    "            \"domains\": [1, 2, 3, 4, 5],\n",
    "            \"num_examples_per_domain_per_label\": 100,\n",
    "            \"pickle_path\": \"/mnt/wd500GB/CSC500/csc500-main/datasets/cores.stratified_ds.2022A.pkl\",\n",
    "            \"source_or_target_dataset\": \"source\",\n",
    "            \"x_transforms\": [\"unit_power\"],\n",
    "            \"episode_transforms\": [],\n",
    "            \"domain_prefix\": \"C_A_\",\n",
    "        },\n",
    "        {\n",
    "            \"labels\": [\n",
    "                \"10-7.\",\n",
    "                \"11-1.\",\n",
    "                \"13-8.\",\n",
    "                \"14-7.\",\n",
    "                \"15-1.\",\n",
    "                \"15-20.\",\n",
    "                \"16-16.\",\n",
    "                \"17-11.\",\n",
    "                \"19-1.\",\n",
    "                \"19-19.\",\n",
    "                \"2-6.\",\n",
    "                \"3-13.\",\n",
    "                \"4-1.\",\n",
    "                \"5-5.\",\n",
    "                \"6-15.\",\n",
    "                \"7-14.\",\n",
    "                \"8-20.\",\n",
    "                \"8-3.\",\n",
    "            ],\n",
    "            \"domains\": [1, 2, 3, 4, 5],\n",
    "            \"num_examples_per_domain_per_label\": 1000,\n",
    "            \"pickle_path\": \"/mnt/wd500GB/CSC500/csc500-main/datasets/cores.stratified_ds.2022A.pkl\",\n",
    "            \"source_or_target_dataset\": \"source\",\n",
    "            \"x_transforms\": [\"unit_power\"],\n",
    "            \"episode_transforms\": [],\n",
    "            \"domain_prefix\": \"C_B_\",\n",
    "        },\n",
    "        {\n",
    "            \"labels\": [\n",
    "                \"2-1\",\n",
    "                \"19-7\",\n",
    "                \"14-9\",\n",
    "                \"20-3\",\n",
    "                \"16-19\",\n",
    "                \"20-14\",\n",
    "                \"6-1\",\n",
    "                \"19-6\",\n",
    "                \"13-19\",\n",
    "                \"2-7\",\n",
    "                \"17-10\",\n",
    "                \"18-14\",\n",
    "                \"13-20\",\n",
    "                \"2-15\",\n",
    "                \"11-20\",\n",
    "                \"3-1\",\n",
    "                \"18-12\",\n",
    "                \"18-2\",\n",
    "                \"9-7\",\n",
    "                \"18-17\",\n",
    "                \"19-11\",\n",
    "                \"7-12\",\n",
    "                \"20-16\",\n",
    "                \"6-6\",\n",
    "                \"7-9\",\n",
    "                \"19-15\",\n",
    "                \"14-20\",\n",
    "                \"19-14\",\n",
    "                \"20-8\",\n",
    "                \"19-12\",\n",
    "                \"19-4\",\n",
    "                \"18-4\",\n",
    "                \"3-8\",\n",
    "                \"2-4\",\n",
    "                \"2-5\",\n",
    "                \"13-3\",\n",
    "                \"19-9\",\n",
    "                \"7-13\",\n",
    "                \"14-19\",\n",
    "                \"18-16\",\n",
    "                \"7-8\",\n",
    "                \"18-1\",\n",
    "                \"13-7\",\n",
    "                \"18-9\",\n",
    "                \"20-4\",\n",
    "                \"15-6\",\n",
    "                \"2-3\",\n",
    "                \"10-4\",\n",
    "                \"18-8\",\n",
    "                \"15-19\",\n",
    "                \"18-20\",\n",
    "                \"19-13\",\n",
    "                \"2-13\",\n",
    "                \"3-13\",\n",
    "                \"9-1\",\n",
    "                \"14-13\",\n",
    "                \"18-13\",\n",
    "                \"16-20\",\n",
    "                \"19-8\",\n",
    "                \"19-10\",\n",
    "                \"8-14\",\n",
    "                \"18-10\",\n",
    "                \"12-19\",\n",
    "                \"18-15\",\n",
    "                \"1-14\",\n",
    "                \"18-7\",\n",
    "                \"1-8\",\n",
    "                \"12-7\",\n",
    "                \"18-19\",\n",
    "                \"13-18\",\n",
    "                \"20-5\",\n",
    "                \"18-5\",\n",
    "                \"20-18\",\n",
    "                \"14-8\",\n",
    "                \"18-11\",\n",
    "                \"14-14\",\n",
    "                \"13-14\",\n",
    "                \"8-1\",\n",
    "                \"14-12\",\n",
    "                \"19-3\",\n",
    "                \"3-2\",\n",
    "                \"2-8\",\n",
    "                \"11-19\",\n",
    "            ],\n",
    "            \"domains\": [1, 2, 3, 4],\n",
    "            \"num_examples_per_domain_per_label\": 100,\n",
    "            \"pickle_path\": \"/mnt/wd500GB/CSC500/csc500-main/datasets/wisig.node3-19.stratified_ds.2022A.pkl\",\n",
    "            \"source_or_target_dataset\": \"source\",\n",
    "            \"x_transforms\": [\"unit_power\"],\n",
    "            \"episode_transforms\": [],\n",
    "            \"domain_prefix\": \"W_A_\",\n",
    "        },\n",
    "        {\n",
    "            \"labels\": [\n",
    "                \"20-20\",\n",
    "                \"19-1\",\n",
    "                \"20-1\",\n",
    "                \"5-1\",\n",
    "                \"19-20\",\n",
    "                \"19-2\",\n",
    "                \"4-1\",\n",
    "                \"1-12\",\n",
    "                \"7-10\",\n",
    "                \"1-18\",\n",
    "                \"4-11\",\n",
    "                \"8-13\",\n",
    "                \"5-5\",\n",
    "                \"10-7\",\n",
    "                \"11-4\",\n",
    "                \"11-1\",\n",
    "                \"17-11\",\n",
    "                \"4-10\",\n",
    "                \"7-14\",\n",
    "                \"1-19\",\n",
    "                \"7-11\",\n",
    "                \"11-10\",\n",
    "                \"7-7\",\n",
    "                \"8-8\",\n",
    "                \"19-19\",\n",
    "                \"10-11\",\n",
    "                \"1-16\",\n",
    "                \"20-12\",\n",
    "                \"2-6\",\n",
    "                \"11-7\",\n",
    "                \"14-11\",\n",
    "                \"1-10\",\n",
    "                \"16-1\",\n",
    "                \"20-7\",\n",
    "            ],\n",
    "            \"domains\": [1, 2, 3, 4],\n",
    "            \"num_examples_per_domain_per_label\": 500,\n",
    "            \"pickle_path\": \"/mnt/wd500GB/CSC500/csc500-main/datasets/wisig.node3-19.stratified_ds.2022A.pkl\",\n",
    "            \"source_or_target_dataset\": \"source\",\n",
    "            \"x_transforms\": [\"unit_power\"],\n",
    "            \"episode_transforms\": [],\n",
    "            \"domain_prefix\": \"W_B_\",\n",
    "        },\n",
    "        {\n",
    "            \"labels\": [\n",
    "                \"10-17\",\n",
    "                \"12-20\",\n",
    "                \"14-10\",\n",
    "                \"14-7\",\n",
    "                \"15-1\",\n",
    "                \"16-16\",\n",
    "                \"20-15\",\n",
    "                \"20-19\",\n",
    "                \"3-18\",\n",
    "                \"6-15\",\n",
    "                \"8-18\",\n",
    "                \"8-20\",\n",
    "                \"8-3\",\n",
    "            ],\n",
    "            \"domains\": [1, 2, 3, 4],\n",
    "            \"num_examples_per_domain_per_label\": 1000,\n",
    "            \"pickle_path\": \"/mnt/wd500GB/CSC500/csc500-main/datasets/wisig.node3-19.stratified_ds.2022A.pkl\",\n",
    "            \"source_or_target_dataset\": \"source\",\n",
    "            \"x_transforms\": [\"unit_power\"],\n",
    "            \"episode_transforms\": [],\n",
    "            \"domain_prefix\": \"W_C_\",\n",
    "        },\n",
    "        {\n",
    "            \"labels\": [\n",
    "                \"3123D52\",\n",
    "                \"3123D65\",\n",
    "                \"3123D79\",\n",
    "                \"3123D80\",\n",
    "                \"3123D54\",\n",
    "                \"3123D70\",\n",
    "                \"3123D7B\",\n",
    "                \"3123D89\",\n",
    "                \"3123D58\",\n",
    "                \"3123D76\",\n",
    "                \"3123D7D\",\n",
    "                \"3123EFE\",\n",
    "                \"3123D64\",\n",
    "                \"3123D78\",\n",
    "                \"3123D7E\",\n",
    "                \"3124E4A\",\n",
    "            ],\n",
    "            \"domains\": [32, 38, 8, 44, 14, 50, 20, 26],\n",
    "            \"num_examples_per_domain_per_label\": 2000,\n",
    "            \"pickle_path\": \"/mnt/wd500GB/CSC500/csc500-main/datasets/oracle.Run1_framed_2000Examples_stratified_ds.2022A.pkl\",\n",
    "            \"source_or_target_dataset\": \"target\",\n",
    "            \"x_transforms\": [\"unit_power\"],\n",
    "            \"episode_transforms\": [],\n",
    "            \"domain_prefix\": \"ORACLE.run1_\",\n",
    "        },\n",
    "    ],\n",
    "}\n"
   ]
  },
  {
   "cell_type": "code",
   "execution_count": 5,
   "id": "8fa1cc33",
   "metadata": {
    "execution": {
     "iopub.execute_input": "2022-03-09T02:34:24.208283Z",
     "iopub.status.busy": "2022-03-09T02:34:24.208019Z",
     "iopub.status.idle": "2022-03-09T02:34:24.221979Z",
     "shell.execute_reply": "2022-03-09T02:34:24.221480Z"
    },
    "papermill": {
     "duration": 0.031251,
     "end_time": "2022-03-09T02:34:24.222082",
     "exception": false,
     "start_time": "2022-03-09T02:34:24.190831",
     "status": "completed"
    },
    "tags": []
   },
   "outputs": [],
   "source": [
    "# Set this to True if you want to run this template directly\n",
    "STANDALONE = False\n",
    "if STANDALONE:\n",
    "    print(\"parameters not injected, running with standalone_parameters\")\n",
    "    parameters = standalone_parameters\n",
    "\n",
    "if not 'parameters' in locals() and not 'parameters' in globals():\n",
    "    raise Exception(\"Parameter injection failed\")\n",
    "\n",
    "#Use an easy dict for all the parameters\n",
    "p = EasyDict(parameters)\n",
    "\n",
    "supplied_keys = set(p.keys())\n",
    "\n",
    "if  supplied_keys != required_parameters:\n",
    "    print(\"Parameters are incorrect\")\n",
    "    if len(supplied_keys - required_parameters)>0: print(\"Shouldn't have:\", str(supplied_keys - required_parameters))\n",
    "    if len(required_parameters - supplied_keys)>0: print(\"Need to have:\", str(required_parameters - supplied_keys))\n",
    "    raise RuntimeError(\"Parameters are incorrect\")\n",
    "\n"
   ]
  },
  {
   "cell_type": "code",
   "execution_count": 6,
   "id": "3a028d58",
   "metadata": {
    "execution": {
     "iopub.execute_input": "2022-03-09T02:34:24.259437Z",
     "iopub.status.busy": "2022-03-09T02:34:24.255662Z",
     "iopub.status.idle": "2022-03-09T02:34:24.268950Z",
     "shell.execute_reply": "2022-03-09T02:34:24.269345Z"
    },
    "papermill": {
     "duration": 0.029593,
     "end_time": "2022-03-09T02:34:24.269474",
     "exception": false,
     "start_time": "2022-03-09T02:34:24.239881",
     "status": "completed"
    },
    "tags": []
   },
   "outputs": [],
   "source": [
    "###################################\n",
    "# Set the RNGs and make it all deterministic\n",
    "###################################\n",
    "np.random.seed(p.seed)\n",
    "random.seed(p.seed)\n",
    "torch.manual_seed(p.seed)\n",
    "\n",
    "torch.use_deterministic_algorithms(True) "
   ]
  },
  {
   "cell_type": "code",
   "execution_count": 7,
   "id": "b691acf6",
   "metadata": {
    "execution": {
     "iopub.execute_input": "2022-03-09T02:34:24.303624Z",
     "iopub.status.busy": "2022-03-09T02:34:24.303221Z",
     "iopub.status.idle": "2022-03-09T02:34:24.317053Z",
     "shell.execute_reply": "2022-03-09T02:34:24.316563Z"
    },
    "papermill": {
     "duration": 0.029446,
     "end_time": "2022-03-09T02:34:24.317153",
     "exception": false,
     "start_time": "2022-03-09T02:34:24.287707",
     "status": "completed"
    },
    "tags": []
   },
   "outputs": [],
   "source": [
    "###########################################\n",
    "# The stratified datasets honor this\n",
    "###########################################\n",
    "torch.set_default_dtype(eval(p.torch_default_dtype))"
   ]
  },
  {
   "cell_type": "code",
   "execution_count": 8,
   "id": "b5fba671",
   "metadata": {
    "execution": {
     "iopub.execute_input": "2022-03-09T02:34:24.350813Z",
     "iopub.status.busy": "2022-03-09T02:34:24.350545Z",
     "iopub.status.idle": "2022-03-09T02:34:24.392386Z",
     "shell.execute_reply": "2022-03-09T02:34:24.391898Z"
    },
    "papermill": {
     "duration": 0.056989,
     "end_time": "2022-03-09T02:34:24.392502",
     "exception": false,
     "start_time": "2022-03-09T02:34:24.335513",
     "status": "completed"
    },
    "tags": []
   },
   "outputs": [],
   "source": [
    "###################################\n",
    "# Build the network(s)\n",
    "# Note: It's critical to do this AFTER setting the RNG\n",
    "###################################\n",
    "x_net = build_sequential(p.x_net)"
   ]
  },
  {
   "cell_type": "code",
   "execution_count": 9,
   "id": "5d7e61cc",
   "metadata": {
    "execution": {
     "iopub.execute_input": "2022-03-09T02:34:24.427081Z",
     "iopub.status.busy": "2022-03-09T02:34:24.426820Z",
     "iopub.status.idle": "2022-03-09T02:34:24.438324Z",
     "shell.execute_reply": "2022-03-09T02:34:24.438073Z"
    },
    "papermill": {
     "duration": 0.02746,
     "end_time": "2022-03-09T02:34:24.438386",
     "exception": false,
     "start_time": "2022-03-09T02:34:24.410926",
     "status": "completed"
    },
    "tags": []
   },
   "outputs": [],
   "source": [
    "start_time_secs = time.time()"
   ]
  },
  {
   "cell_type": "code",
   "execution_count": 10,
   "id": "c6b67dfd",
   "metadata": {
    "execution": {
     "iopub.execute_input": "2022-03-09T02:34:24.468159Z",
     "iopub.status.busy": "2022-03-09T02:34:24.467761Z",
     "iopub.status.idle": "2022-03-09T02:34:24.477598Z",
     "shell.execute_reply": "2022-03-09T02:34:24.477325Z"
    },
    "papermill": {
     "duration": 0.025529,
     "end_time": "2022-03-09T02:34:24.477657",
     "exception": false,
     "start_time": "2022-03-09T02:34:24.452128",
     "status": "completed"
    },
    "tags": []
   },
   "outputs": [],
   "source": [
    "p.domains_source = []\n",
    "p.domains_target = []\n",
    "\n",
    "\n",
    "train_original_source = []\n",
    "val_original_source   = []\n",
    "test_original_source  = []\n",
    "\n",
    "train_original_target = []\n",
    "val_original_target   = []\n",
    "test_original_target  = []"
   ]
  },
  {
   "cell_type": "code",
   "execution_count": 11,
   "id": "e3d9c3d3",
   "metadata": {
    "execution": {
     "iopub.execute_input": "2022-03-09T02:34:24.507901Z",
     "iopub.status.busy": "2022-03-09T02:34:24.507482Z",
     "iopub.status.idle": "2022-03-09T02:34:24.517160Z",
     "shell.execute_reply": "2022-03-09T02:34:24.516883Z"
    },
    "papermill": {
     "duration": 0.024677,
     "end_time": "2022-03-09T02:34:24.517219",
     "exception": false,
     "start_time": "2022-03-09T02:34:24.492542",
     "status": "completed"
    },
    "tags": []
   },
   "outputs": [],
   "source": [
    "# global_x_transform_func = lambda x: normalize(x.to(torch.get_default_dtype()), \"unit_power\") # unit_power, unit_mag\n",
    "# global_x_transform_func = lambda x: normalize(x, \"unit_power\") # unit_power, unit_mag"
   ]
  },
  {
   "cell_type": "code",
   "execution_count": 12,
   "id": "acb78fd2",
   "metadata": {
    "execution": {
     "iopub.execute_input": "2022-03-09T02:34:24.551357Z",
     "iopub.status.busy": "2022-03-09T02:34:24.550928Z",
     "iopub.status.idle": "2022-03-09T02:34:24.561421Z",
     "shell.execute_reply": "2022-03-09T02:34:24.561152Z"
    },
    "papermill": {
     "duration": 0.028549,
     "end_time": "2022-03-09T02:34:24.561479",
     "exception": false,
     "start_time": "2022-03-09T02:34:24.532930",
     "status": "completed"
    },
    "tags": []
   },
   "outputs": [],
   "source": [
    "def add_dataset(\n",
    "    labels,\n",
    "    domains,\n",
    "    pickle_path,\n",
    "    x_transforms,\n",
    "    episode_transforms,\n",
    "    domain_prefix,\n",
    "    num_examples_per_domain_per_label,\n",
    "    source_or_target_dataset:str,\n",
    "    iterator_seed=p.seed,\n",
    "    dataset_seed=p.dataset_seed,\n",
    "    n_shot=p.n_shot,\n",
    "    n_way=p.n_way,\n",
    "    n_query=p.n_query,\n",
    "    train_val_test_k_factors=(p.train_k_factor,p.val_k_factor,p.test_k_factor),\n",
    "):\n",
    "   \n",
    "    if x_transforms == []: x_transform = None\n",
    "    else: x_transform = get_chained_transform(x_transforms)\n",
    "    \n",
    "    if episode_transforms == []: episode_transform = None\n",
    "    else: raise Exception(\"episode_transforms not implemented\")\n",
    "    \n",
    "    episode_transform = lambda tup, _prefix=domain_prefix: (_prefix + str(tup[0]), tup[1])\n",
    "\n",
    "\n",
    "    eaf = Episodic_Accessor_Factory(\n",
    "        labels=labels,\n",
    "        domains=domains,\n",
    "        num_examples_per_domain_per_label=num_examples_per_domain_per_label,\n",
    "        iterator_seed=iterator_seed,\n",
    "        dataset_seed=dataset_seed,\n",
    "        n_shot=n_shot,\n",
    "        n_way=n_way,\n",
    "        n_query=n_query,\n",
    "        train_val_test_k_factors=train_val_test_k_factors,\n",
    "        pickle_path=pickle_path,\n",
    "        x_transform_func=x_transform,\n",
    "    )\n",
    "\n",
    "    train, val, test = eaf.get_train(), eaf.get_val(), eaf.get_test()\n",
    "    train = Lazy_Iterable_Wrapper(train, episode_transform)\n",
    "    val = Lazy_Iterable_Wrapper(val, episode_transform)\n",
    "    test = Lazy_Iterable_Wrapper(test, episode_transform)\n",
    "\n",
    "    if source_or_target_dataset==\"source\":\n",
    "        train_original_source.append(train)\n",
    "        val_original_source.append(val)\n",
    "        test_original_source.append(test)\n",
    "\n",
    "        p.domains_source.extend(\n",
    "            [domain_prefix + str(u) for u in domains]\n",
    "        )\n",
    "    elif source_or_target_dataset==\"target\":\n",
    "        train_original_target.append(train)\n",
    "        val_original_target.append(val)\n",
    "        test_original_target.append(test)\n",
    "        p.domains_target.extend(\n",
    "            [domain_prefix + str(u) for u in domains]\n",
    "        )\n",
    "    else:\n",
    "        raise Exception(f\"invalid source_or_target_dataset: {source_or_target_dataset}\")\n",
    "    "
   ]
  },
  {
   "cell_type": "code",
   "execution_count": 13,
   "id": "fe266617",
   "metadata": {
    "execution": {
     "iopub.execute_input": "2022-03-09T02:34:24.592107Z",
     "iopub.status.busy": "2022-03-09T02:34:24.591778Z",
     "iopub.status.idle": "2022-03-09T02:35:03.142639Z",
     "shell.execute_reply": "2022-03-09T02:35:03.142101Z"
    },
    "papermill": {
     "duration": 38.567222,
     "end_time": "2022-03-09T02:35:03.142760",
     "exception": false,
     "start_time": "2022-03-09T02:34:24.575538",
     "status": "completed"
    },
    "tags": []
   },
   "outputs": [],
   "source": [
    "for ds in p.datasets:\n",
    "    add_dataset(**ds)"
   ]
  },
  {
   "cell_type": "code",
   "execution_count": 14,
   "id": "b90d65ac",
   "metadata": {
    "execution": {
     "iopub.execute_input": "2022-03-09T02:35:03.178465Z",
     "iopub.status.busy": "2022-03-09T02:35:03.177047Z",
     "iopub.status.idle": "2022-03-09T02:35:03.187236Z",
     "shell.execute_reply": "2022-03-09T02:35:03.186862Z"
    },
    "papermill": {
     "duration": 0.026033,
     "end_time": "2022-03-09T02:35:03.187315",
     "exception": false,
     "start_time": "2022-03-09T02:35:03.161282",
     "status": "completed"
    },
    "tags": []
   },
   "outputs": [],
   "source": [
    "# from steves_utils.CORES.utils import (\n",
    "#     ALL_NODES,\n",
    "#     ALL_NODES_MINIMUM_1000_EXAMPLES,\n",
    "#     ALL_DAYS\n",
    "# )\n",
    "\n",
    "# add_dataset(\n",
    "#     labels=ALL_NODES,\n",
    "#     domains = ALL_DAYS,\n",
    "#     num_examples_per_domain_per_label=100,\n",
    "#     pickle_path=os.path.join(get_datasets_base_path(), \"cores.stratified_ds.2022A.pkl\"),\n",
    "#     source_or_target_dataset=\"target\",\n",
    "#     x_transform_func=global_x_transform_func,\n",
    "#     domain_modifier=lambda u: f\"cores_{u}\"\n",
    "# )"
   ]
  },
  {
   "cell_type": "code",
   "execution_count": 15,
   "id": "76db484d",
   "metadata": {
    "execution": {
     "iopub.execute_input": "2022-03-09T02:35:03.219740Z",
     "iopub.status.busy": "2022-03-09T02:35:03.219388Z",
     "iopub.status.idle": "2022-03-09T02:35:03.233008Z",
     "shell.execute_reply": "2022-03-09T02:35:03.232607Z"
    },
    "papermill": {
     "duration": 0.029344,
     "end_time": "2022-03-09T02:35:03.233108",
     "exception": false,
     "start_time": "2022-03-09T02:35:03.203764",
     "status": "completed"
    },
    "tags": []
   },
   "outputs": [],
   "source": [
    "# from steves_utils.ORACLE.utils_v2 import (\n",
    "#     ALL_DISTANCES_FEET,\n",
    "#     ALL_RUNS,\n",
    "#     ALL_SERIAL_NUMBERS,\n",
    "# )\n",
    "\n",
    "\n",
    "# add_dataset(\n",
    "#     labels=ALL_SERIAL_NUMBERS,\n",
    "#     domains = list(set(ALL_DISTANCES_FEET) - {2,62}),\n",
    "#     num_examples_per_domain_per_label=100,\n",
    "#     pickle_path=os.path.join(get_datasets_base_path(), \"oracle.Run2_framed_2000Examples_stratified_ds.2022A.pkl\"),\n",
    "#     source_or_target_dataset=\"source\",\n",
    "#     x_transform_func=global_x_transform_func,\n",
    "#     domain_modifier=lambda u: f\"oracle1_{u}\"\n",
    "# )\n"
   ]
  },
  {
   "cell_type": "code",
   "execution_count": 16,
   "id": "97dea9d2",
   "metadata": {
    "execution": {
     "iopub.execute_input": "2022-03-09T02:35:03.266085Z",
     "iopub.status.busy": "2022-03-09T02:35:03.265836Z",
     "iopub.status.idle": "2022-03-09T02:35:03.278758Z",
     "shell.execute_reply": "2022-03-09T02:35:03.278376Z"
    },
    "papermill": {
     "duration": 0.028788,
     "end_time": "2022-03-09T02:35:03.278835",
     "exception": false,
     "start_time": "2022-03-09T02:35:03.250047",
     "status": "completed"
    },
    "tags": []
   },
   "outputs": [],
   "source": [
    "# from steves_utils.ORACLE.utils_v2 import (\n",
    "#     ALL_DISTANCES_FEET,\n",
    "#     ALL_RUNS,\n",
    "#     ALL_SERIAL_NUMBERS,\n",
    "# )\n",
    "\n",
    "\n",
    "# add_dataset(\n",
    "#     labels=ALL_SERIAL_NUMBERS,\n",
    "#     domains = list(set(ALL_DISTANCES_FEET) - {2,62,56}),\n",
    "#     num_examples_per_domain_per_label=100,\n",
    "#     pickle_path=os.path.join(get_datasets_base_path(), \"oracle.Run2_framed_2000Examples_stratified_ds.2022A.pkl\"),\n",
    "#     source_or_target_dataset=\"source\",\n",
    "#     x_transform_func=global_x_transform_func,\n",
    "#     domain_modifier=lambda u: f\"oracle2_{u}\"\n",
    "# )"
   ]
  },
  {
   "cell_type": "code",
   "execution_count": 17,
   "id": "6f289866",
   "metadata": {
    "execution": {
     "iopub.execute_input": "2022-03-09T02:35:03.315239Z",
     "iopub.status.busy": "2022-03-09T02:35:03.314806Z",
     "iopub.status.idle": "2022-03-09T02:35:03.328121Z",
     "shell.execute_reply": "2022-03-09T02:35:03.327784Z"
    },
    "papermill": {
     "duration": 0.029432,
     "end_time": "2022-03-09T02:35:03.328197",
     "exception": false,
     "start_time": "2022-03-09T02:35:03.298765",
     "status": "completed"
    },
    "tags": []
   },
   "outputs": [],
   "source": [
    "# add_dataset(\n",
    "#     labels=list(range(19)),\n",
    "#     domains = [0,1,2],\n",
    "#     num_examples_per_domain_per_label=100,\n",
    "#     pickle_path=os.path.join(get_datasets_base_path(), \"metehan.stratified_ds.2022A.pkl\"),\n",
    "#     source_or_target_dataset=\"target\",\n",
    "#     x_transform_func=global_x_transform_func,\n",
    "#     domain_modifier=lambda u: f\"met_{u}\"\n",
    "# )"
   ]
  },
  {
   "cell_type": "code",
   "execution_count": 18,
   "id": "86a863c3",
   "metadata": {
    "execution": {
     "iopub.execute_input": "2022-03-09T02:35:03.361719Z",
     "iopub.status.busy": "2022-03-09T02:35:03.361461Z",
     "iopub.status.idle": "2022-03-09T02:35:03.373813Z",
     "shell.execute_reply": "2022-03-09T02:35:03.373504Z"
    },
    "papermill": {
     "duration": 0.027936,
     "end_time": "2022-03-09T02:35:03.373893",
     "exception": false,
     "start_time": "2022-03-09T02:35:03.345957",
     "status": "completed"
    },
    "tags": []
   },
   "outputs": [],
   "source": [
    "# # from steves_utils.wisig.utils import (\n",
    "# #     ALL_NODES_MINIMUM_100_EXAMPLES,\n",
    "# #     ALL_NODES_MINIMUM_500_EXAMPLES,\n",
    "# #     ALL_NODES_MINIMUM_1000_EXAMPLES,\n",
    "# #     ALL_DAYS\n",
    "# # )\n",
    "\n",
    "# import steves_utils.wisig.utils as wisig\n",
    "\n",
    "\n",
    "# add_dataset(\n",
    "#     labels=wisig.ALL_NODES_MINIMUM_100_EXAMPLES,\n",
    "#     domains = wisig.ALL_DAYS,\n",
    "#     num_examples_per_domain_per_label=100,\n",
    "#     pickle_path=os.path.join(get_datasets_base_path(), \"wisig.node3-19.stratified_ds.2022A.pkl\"),\n",
    "#     source_or_target_dataset=\"target\",\n",
    "#     x_transform_func=global_x_transform_func,\n",
    "#     domain_modifier=lambda u: f\"wisig_{u}\"\n",
    "# )"
   ]
  },
  {
   "cell_type": "code",
   "execution_count": 19,
   "id": "fd5442bc",
   "metadata": {
    "execution": {
     "iopub.execute_input": "2022-03-09T02:35:03.409918Z",
     "iopub.status.busy": "2022-03-09T02:35:03.409658Z",
     "iopub.status.idle": "2022-03-09T02:35:03.420254Z",
     "shell.execute_reply": "2022-03-09T02:35:03.419765Z"
    },
    "papermill": {
     "duration": 0.027835,
     "end_time": "2022-03-09T02:35:03.420352",
     "exception": false,
     "start_time": "2022-03-09T02:35:03.392517",
     "status": "completed"
    },
    "tags": []
   },
   "outputs": [],
   "source": [
    "###################################\n",
    "# Build the dataset\n",
    "###################################\n",
    "train_original_source = Iterable_Aggregator(train_original_source, p.seed)\n",
    "val_original_source = Iterable_Aggregator(val_original_source, p.seed)\n",
    "test_original_source = Iterable_Aggregator(test_original_source, p.seed)\n",
    "\n",
    "\n",
    "train_original_target = Iterable_Aggregator(train_original_target, p.seed)\n",
    "val_original_target = Iterable_Aggregator(val_original_target, p.seed)\n",
    "test_original_target = Iterable_Aggregator(test_original_target, p.seed)\n",
    "\n",
    "# For CNN We only use X and Y. And we only train on the source.\n",
    "# Properly form the data using a transform lambda and Lazy_Iterable_Wrapper. Finally wrap them in a dataloader\n",
    "\n",
    "transform_lambda = lambda ex: ex[1] # Original is (<domain>, <episode>) so we strip down to episode only\n",
    "\n",
    "train_processed_source = Lazy_Iterable_Wrapper(train_original_source, transform_lambda)\n",
    "val_processed_source   = Lazy_Iterable_Wrapper(val_original_source, transform_lambda)\n",
    "test_processed_source  = Lazy_Iterable_Wrapper(test_original_source, transform_lambda)\n",
    "\n",
    "train_processed_target = Lazy_Iterable_Wrapper(train_original_target, transform_lambda)\n",
    "val_processed_target   = Lazy_Iterable_Wrapper(val_original_target, transform_lambda)\n",
    "test_processed_target  = Lazy_Iterable_Wrapper(test_original_target, transform_lambda)\n",
    "\n",
    "datasets = EasyDict({\n",
    "    \"source\": {\n",
    "        \"original\": {\"train\":train_original_source, \"val\":val_original_source, \"test\":test_original_source},\n",
    "        \"processed\": {\"train\":train_processed_source, \"val\":val_processed_source, \"test\":test_processed_source}\n",
    "    },\n",
    "    \"target\": {\n",
    "        \"original\": {\"train\":train_original_target, \"val\":val_original_target, \"test\":test_original_target},\n",
    "        \"processed\": {\"train\":train_processed_target, \"val\":val_processed_target, \"test\":test_processed_target}\n",
    "    },\n",
    "})"
   ]
  },
  {
   "cell_type": "code",
   "execution_count": 20,
   "id": "5b3c01fc",
   "metadata": {
    "execution": {
     "iopub.execute_input": "2022-03-09T02:35:03.455782Z",
     "iopub.status.busy": "2022-03-09T02:35:03.455526Z",
     "iopub.status.idle": "2022-03-09T02:35:12.414752Z",
     "shell.execute_reply": "2022-03-09T02:35:12.414371Z"
    },
    "papermill": {
     "duration": 8.977121,
     "end_time": "2022-03-09T02:35:12.414843",
     "exception": false,
     "start_time": "2022-03-09T02:35:03.437722",
     "status": "completed"
    },
    "tags": []
   },
   "outputs": [
    {
     "name": "stdout",
     "output_type": "stream",
     "text": [
      "{'W_C_3', 'C_A_4', 'W_A_3', 'C_B_3', 'W_C_4', 'C_B_5', 'C_A_2', 'W_B_3', 'W_B_2', 'C_A_5', 'W_B_4', 'W_B_1', 'W_A_2', 'C_B_2', 'W_A_1', 'W_C_1', 'C_A_3', 'C_B_4', 'W_A_4', 'C_A_1', 'C_B_1', 'W_C_2'}\n"
     ]
    },
    {
     "name": "stdout",
     "output_type": "stream",
     "text": [
      "{'ORACLE.run1_50', 'ORACLE.run1_32', 'ORACLE.run1_26', 'ORACLE.run1_14', 'ORACLE.run1_20', 'ORACLE.run1_38', 'ORACLE.run1_44', 'ORACLE.run1_8'}\n"
     ]
    },
    {
     "name": "stdout",
     "output_type": "stream",
     "text": [
      "tensor([[[-0.1138,  0.0445, -0.2180,  ..., -0.2251, -0.4952,  0.1647],\n",
      "         [ 0.1033,  0.1190,  0.1466,  ...,  0.6841, -0.1315, -0.5491]],\n",
      "\n",
      "        [[ 0.0541, -0.1895, -0.2057,  ...,  0.4917, -1.0249, -0.6470],\n",
      "         [-0.0858,  0.1723, -0.3524,  ...,  1.3117,  0.6578, -0.6856]],\n",
      "\n",
      "        [[-0.0845,  0.1106, -0.4290,  ...,  1.2847,  0.8825, -0.6197],\n",
      "         [-0.0813, -0.0234,  0.3208,  ..., -0.6771,  0.9513,  0.8495]],\n",
      "\n",
      "        ...,\n",
      "\n",
      "        [[-0.2931,  0.4160,  0.9510,  ...,  0.0384, -0.1542, -0.0095],\n",
      "         [-0.5735, -0.5407,  0.1622,  ...,  0.8590,  0.3965,  0.1281]],\n",
      "\n",
      "        [[-0.7878, -0.6804,  0.2970,  ...,  0.9423,  0.5763,  0.1943],\n",
      "         [ 0.1104, -0.7288, -0.4266,  ..., -0.1814,  0.4333,  0.3930]],\n",
      "\n",
      "        [[ 0.5152, -0.2989, -0.9012,  ..., -0.3603, -0.1125, -0.1046],\n",
      "         [ 0.5921,  0.7936,  0.2095,  ..., -0.7357, -0.2898, -0.0155]]])\n"
     ]
    }
   ],
   "source": [
    "from steves_utils.transforms import get_average_magnitude, get_average_power\n",
    "\n",
    "print(set([u for u,_ in val_original_source]))\n",
    "print(set([u for u,_ in val_original_target]))\n",
    "\n",
    "s_x, s_y, q_x, q_y, _ = next(iter(train_processed_source))\n",
    "print(s_x)\n",
    "\n",
    "# for ds in [\n",
    "#     train_processed_source,\n",
    "#     val_processed_source,\n",
    "#     test_processed_source,\n",
    "#     train_processed_target,\n",
    "#     val_processed_target,\n",
    "#     test_processed_target\n",
    "# ]:\n",
    "#     for s_x, s_y, q_x, q_y, _ in ds:\n",
    "#         for X in (s_x, q_x):\n",
    "#             for x in X:\n",
    "#                 assert np.isclose(get_average_magnitude(x.numpy()), 1.0)\n",
    "#                 assert np.isclose(get_average_power(x.numpy()), 1.0)\n",
    "                "
   ]
  },
  {
   "cell_type": "code",
   "execution_count": 21,
   "id": "bbdacba1",
   "metadata": {
    "execution": {
     "iopub.execute_input": "2022-03-09T02:35:12.454422Z",
     "iopub.status.busy": "2022-03-09T02:35:12.453943Z",
     "iopub.status.idle": "2022-03-09T02:35:12.546383Z",
     "shell.execute_reply": "2022-03-09T02:35:12.546785Z"
    },
    "papermill": {
     "duration": 0.113004,
     "end_time": "2022-03-09T02:35:12.546918",
     "exception": false,
     "start_time": "2022-03-09T02:35:12.433914",
     "status": "completed"
    },
    "tags": []
   },
   "outputs": [
    {
     "name": "stdout",
     "output_type": "stream",
     "text": [
      "(2, 256)\n"
     ]
    }
   ],
   "source": [
    "###################################\n",
    "# Build the model\n",
    "###################################\n",
    "model = Steves_Prototypical_Network(x_net, device=p.device, x_shape=(2,256))\n",
    "optimizer = Adam(params=model.parameters(), lr=p.lr)"
   ]
  },
  {
   "cell_type": "code",
   "execution_count": 22,
   "id": "22b39ac5",
   "metadata": {
    "execution": {
     "iopub.execute_input": "2022-03-09T02:35:12.583465Z",
     "iopub.status.busy": "2022-03-09T02:35:12.583201Z",
     "iopub.status.idle": "2022-03-09T02:57:57.636310Z",
     "shell.execute_reply": "2022-03-09T02:57:57.636078Z"
    },
    "papermill": {
     "duration": 1365.070202,
     "end_time": "2022-03-09T02:57:57.636370",
     "exception": false,
     "start_time": "2022-03-09T02:35:12.566168",
     "status": "completed"
    },
    "tags": []
   },
   "outputs": [
    {
     "name": "stdout",
     "output_type": "stream",
     "text": [
      "epoch: 1, [batch: 1 / 8327], examples_per_second: 31.1822, train_label_loss: 2.6832, \n"
     ]
    },
    {
     "name": "stdout",
     "output_type": "stream",
     "text": [
      "epoch: 1, [batch: 833 / 8327], examples_per_second: 3033.3408, train_label_loss: 0.4066, \n"
     ]
    },
    {
     "name": "stdout",
     "output_type": "stream",
     "text": [
      "epoch: 1, [batch: 1666 / 8327], examples_per_second: 3069.7528, train_label_loss: 0.0008, \n"
     ]
    },
    {
     "name": "stdout",
     "output_type": "stream",
     "text": [
      "epoch: 1, [batch: 2498 / 8327], examples_per_second: 3055.3833, train_label_loss: 0.0021, \n"
     ]
    },
    {
     "name": "stdout",
     "output_type": "stream",
     "text": [
      "epoch: 1, [batch: 3331 / 8327], examples_per_second: 3050.7616, train_label_loss: 0.0061, \n"
     ]
    },
    {
     "name": "stdout",
     "output_type": "stream",
     "text": [
      "epoch: 1, [batch: 4164 / 8327], examples_per_second: 3057.1093, train_label_loss: 0.2122, \n"
     ]
    },
    {
     "name": "stdout",
     "output_type": "stream",
     "text": [
      "epoch: 1, [batch: 4996 / 8327], examples_per_second: 3039.1834, train_label_loss: 0.0011, \n"
     ]
    },
    {
     "name": "stdout",
     "output_type": "stream",
     "text": [
      "epoch: 1, [batch: 5829 / 8327], examples_per_second: 3052.8874, train_label_loss: 0.4726, \n"
     ]
    },
    {
     "name": "stdout",
     "output_type": "stream",
     "text": [
      "epoch: 1, [batch: 6661 / 8327], examples_per_second: 3045.2614, train_label_loss: 0.0304, \n"
     ]
    },
    {
     "name": "stdout",
     "output_type": "stream",
     "text": [
      "epoch: 1, [batch: 7494 / 8327], examples_per_second: 3036.9642, train_label_loss: 0.1252, \n"
     ]
    },
    {
     "name": "stdout",
     "output_type": "stream",
     "text": [
      "=============================================================\n",
      "epoch: 1, source_val_acc_label: 0.9687, target_val_acc_label: 0.2405, source_val_label_loss: 0.1754, target_val_label_loss: 2.2151, \n",
      "=============================================================\n"
     ]
    },
    {
     "name": "stdout",
     "output_type": "stream",
     "text": [
      "New best\n"
     ]
    },
    {
     "name": "stdout",
     "output_type": "stream",
     "text": [
      "epoch: 2, [batch: 1 / 8319], examples_per_second: 3.5564, train_label_loss: 0.5681, \n"
     ]
    },
    {
     "name": "stdout",
     "output_type": "stream",
     "text": [
      "epoch: 2, [batch: 832 / 8319], examples_per_second: 3045.0720, train_label_loss: 0.1199, \n"
     ]
    },
    {
     "name": "stdout",
     "output_type": "stream",
     "text": [
      "epoch: 2, [batch: 1664 / 8319], examples_per_second: 3062.3370, train_label_loss: 0.3879, \n"
     ]
    },
    {
     "name": "stdout",
     "output_type": "stream",
     "text": [
      "epoch: 2, [batch: 2496 / 8319], examples_per_second: 3057.9747, train_label_loss: 0.0023, \n"
     ]
    },
    {
     "name": "stdout",
     "output_type": "stream",
     "text": [
      "epoch: 2, [batch: 3328 / 8319], examples_per_second: 3052.2471, train_label_loss: 0.0028, \n"
     ]
    },
    {
     "name": "stdout",
     "output_type": "stream",
     "text": [
      "epoch: 2, [batch: 4160 / 8319], examples_per_second: 3062.6371, train_label_loss: 0.2959, \n"
     ]
    },
    {
     "name": "stdout",
     "output_type": "stream",
     "text": [
      "epoch: 2, [batch: 4991 / 8319], examples_per_second: 3043.3730, train_label_loss: 0.0142, \n"
     ]
    },
    {
     "name": "stdout",
     "output_type": "stream",
     "text": [
      "epoch: 2, [batch: 5823 / 8319], examples_per_second: 3059.5285, train_label_loss: 0.0018, \n"
     ]
    },
    {
     "name": "stdout",
     "output_type": "stream",
     "text": [
      "epoch: 2, [batch: 6655 / 8319], examples_per_second: 3102.1435, train_label_loss: 0.0838, \n"
     ]
    },
    {
     "name": "stdout",
     "output_type": "stream",
     "text": [
      "epoch: 2, [batch: 7487 / 8319], examples_per_second: 3093.4688, train_label_loss: 0.0001, \n"
     ]
    },
    {
     "name": "stdout",
     "output_type": "stream",
     "text": [
      "=============================================================\n",
      "epoch: 2, source_val_acc_label: 0.9805, target_val_acc_label: 0.2504, source_val_label_loss: 0.0817, target_val_label_loss: 2.2364, \n",
      "=============================================================\n"
     ]
    },
    {
     "name": "stdout",
     "output_type": "stream",
     "text": [
      "epoch: 3, [batch: 1 / 8311], examples_per_second: 3.5974, train_label_loss: 0.0001, \n"
     ]
    },
    {
     "name": "stdout",
     "output_type": "stream",
     "text": [
      "epoch: 3, [batch: 832 / 8311], examples_per_second: 3070.1866, train_label_loss: 0.2724, \n"
     ]
    },
    {
     "name": "stdout",
     "output_type": "stream",
     "text": [
      "epoch: 3, [batch: 1663 / 8311], examples_per_second: 3101.0199, train_label_loss: 0.1921, \n"
     ]
    },
    {
     "name": "stdout",
     "output_type": "stream",
     "text": [
      "epoch: 3, [batch: 2494 / 8311], examples_per_second: 3096.8608, train_label_loss: 0.4202, \n"
     ]
    },
    {
     "name": "stdout",
     "output_type": "stream",
     "text": [
      "epoch: 3, [batch: 3325 / 8311], examples_per_second: 3082.4464, train_label_loss: 0.1954, \n"
     ]
    },
    {
     "name": "stdout",
     "output_type": "stream",
     "text": [
      "epoch: 3, [batch: 4156 / 8311], examples_per_second: 3104.7697, train_label_loss: 0.0000, \n"
     ]
    },
    {
     "name": "stdout",
     "output_type": "stream",
     "text": [
      "epoch: 3, [batch: 4987 / 8311], examples_per_second: 3091.3130, train_label_loss: 0.4666, \n"
     ]
    },
    {
     "name": "stdout",
     "output_type": "stream",
     "text": [
      "epoch: 3, [batch: 5818 / 8311], examples_per_second: 3099.0956, train_label_loss: 0.0033, \n"
     ]
    },
    {
     "name": "stdout",
     "output_type": "stream",
     "text": [
      "epoch: 3, [batch: 6649 / 8311], examples_per_second: 3115.8194, train_label_loss: 0.0035, \n"
     ]
    },
    {
     "name": "stdout",
     "output_type": "stream",
     "text": [
      "epoch: 3, [batch: 7480 / 8311], examples_per_second: 3097.8929, train_label_loss: 0.0003, \n"
     ]
    },
    {
     "name": "stdout",
     "output_type": "stream",
     "text": [
      "=============================================================\n",
      "epoch: 3, source_val_acc_label: 0.9824, target_val_acc_label: 0.2626, source_val_label_loss: 0.0770, target_val_label_loss: 2.1248, \n",
      "=============================================================\n"
     ]
    },
    {
     "name": "stdout",
     "output_type": "stream",
     "text": [
      "New best\n"
     ]
    },
    {
     "name": "stdout",
     "output_type": "stream",
     "text": [
      "epoch: 4, [batch: 1 / 8322], examples_per_second: 3.5650, train_label_loss: 0.0000, \n"
     ]
    },
    {
     "name": "stdout",
     "output_type": "stream",
     "text": [
      "epoch: 4, [batch: 833 / 8322], examples_per_second: 3042.8816, train_label_loss: 0.0003, \n"
     ]
    },
    {
     "name": "stdout",
     "output_type": "stream",
     "text": [
      "epoch: 4, [batch: 1665 / 8322], examples_per_second: 3048.1983, train_label_loss: 0.0010, \n"
     ]
    },
    {
     "name": "stdout",
     "output_type": "stream",
     "text": [
      "epoch: 4, [batch: 2497 / 8322], examples_per_second: 3059.7516, train_label_loss: 0.0008, \n"
     ]
    },
    {
     "name": "stdout",
     "output_type": "stream",
     "text": [
      "epoch: 4, [batch: 3329 / 8322], examples_per_second: 3053.5916, train_label_loss: 0.3397, \n"
     ]
    },
    {
     "name": "stdout",
     "output_type": "stream",
     "text": [
      "epoch: 4, [batch: 4161 / 8322], examples_per_second: 3053.2567, train_label_loss: 0.0003, \n"
     ]
    },
    {
     "name": "stdout",
     "output_type": "stream",
     "text": [
      "epoch: 4, [batch: 4993 / 8322], examples_per_second: 3059.5268, train_label_loss: 0.1524, \n"
     ]
    },
    {
     "name": "stdout",
     "output_type": "stream",
     "text": [
      "epoch: 4, [batch: 5825 / 8322], examples_per_second: 3065.0686, train_label_loss: 0.0008, \n"
     ]
    },
    {
     "name": "stdout",
     "output_type": "stream",
     "text": [
      "epoch: 4, [batch: 6657 / 8322], examples_per_second: 3070.6715, train_label_loss: 0.0005, \n"
     ]
    },
    {
     "name": "stdout",
     "output_type": "stream",
     "text": [
      "epoch: 4, [batch: 7489 / 8322], examples_per_second: 3053.5048, train_label_loss: 0.0002, \n"
     ]
    },
    {
     "name": "stdout",
     "output_type": "stream",
     "text": [
      "=============================================================\n",
      "epoch: 4, source_val_acc_label: 0.9838, target_val_acc_label: 0.2495, source_val_label_loss: 0.0694, target_val_label_loss: 2.3072, \n",
      "=============================================================\n"
     ]
    },
    {
     "name": "stdout",
     "output_type": "stream",
     "text": [
      "epoch: 5, [batch: 1 / 8321], examples_per_second: 3.5580, train_label_loss: 0.2271, \n"
     ]
    },
    {
     "name": "stdout",
     "output_type": "stream",
     "text": [
      "epoch: 5, [batch: 833 / 8321], examples_per_second: 3042.2995, train_label_loss: 0.0026, \n"
     ]
    },
    {
     "name": "stdout",
     "output_type": "stream",
     "text": [
      "epoch: 5, [batch: 1665 / 8321], examples_per_second: 3064.5779, train_label_loss: 0.0068, \n"
     ]
    },
    {
     "name": "stdout",
     "output_type": "stream",
     "text": [
      "epoch: 5, [batch: 2497 / 8321], examples_per_second: 3069.6692, train_label_loss: 0.0003, \n"
     ]
    },
    {
     "name": "stdout",
     "output_type": "stream",
     "text": [
      "epoch: 5, [batch: 3329 / 8321], examples_per_second: 3057.4157, train_label_loss: 0.0072, \n"
     ]
    },
    {
     "name": "stdout",
     "output_type": "stream",
     "text": [
      "epoch: 5, [batch: 4161 / 8321], examples_per_second: 3070.4248, train_label_loss: 0.0056, \n"
     ]
    },
    {
     "name": "stdout",
     "output_type": "stream",
     "text": [
      "epoch: 5, [batch: 4993 / 8321], examples_per_second: 3017.0503, train_label_loss: 0.0092, \n"
     ]
    },
    {
     "name": "stdout",
     "output_type": "stream",
     "text": [
      "epoch: 5, [batch: 5825 / 8321], examples_per_second: 3093.4372, train_label_loss: 0.0002, \n"
     ]
    },
    {
     "name": "stdout",
     "output_type": "stream",
     "text": [
      "epoch: 5, [batch: 6657 / 8321], examples_per_second: 3092.4942, train_label_loss: 0.0001, \n"
     ]
    },
    {
     "name": "stdout",
     "output_type": "stream",
     "text": [
      "epoch: 5, [batch: 7489 / 8321], examples_per_second: 3088.9696, train_label_loss: 0.0232, \n"
     ]
    },
    {
     "name": "stdout",
     "output_type": "stream",
     "text": [
      "=============================================================\n",
      "epoch: 5, source_val_acc_label: 0.9831, target_val_acc_label: 0.2206, source_val_label_loss: 0.0795, target_val_label_loss: 2.4640, \n",
      "=============================================================\n"
     ]
    },
    {
     "name": "stdout",
     "output_type": "stream",
     "text": [
      "epoch: 6, [batch: 1 / 8316], examples_per_second: 3.5898, train_label_loss: 0.0025, \n"
     ]
    },
    {
     "name": "stdout",
     "output_type": "stream",
     "text": [
      "epoch: 6, [batch: 832 / 8316], examples_per_second: 3059.4434, train_label_loss: 0.0003, \n"
     ]
    },
    {
     "name": "stdout",
     "output_type": "stream",
     "text": [
      "epoch: 6, [batch: 1664 / 8316], examples_per_second: 3085.6131, train_label_loss: 0.0023, \n"
     ]
    },
    {
     "name": "stdout",
     "output_type": "stream",
     "text": [
      "epoch: 6, [batch: 2495 / 8316], examples_per_second: 3089.2560, train_label_loss: 0.0003, \n"
     ]
    },
    {
     "name": "stdout",
     "output_type": "stream",
     "text": [
      "epoch: 6, [batch: 3327 / 8316], examples_per_second: 3066.7164, train_label_loss: 0.1244, \n"
     ]
    },
    {
     "name": "stdout",
     "output_type": "stream",
     "text": [
      "epoch: 6, [batch: 4158 / 8316], examples_per_second: 3078.1295, train_label_loss: 0.2652, \n"
     ]
    },
    {
     "name": "stdout",
     "output_type": "stream",
     "text": [
      "epoch: 6, [batch: 4990 / 8316], examples_per_second: 3069.0891, train_label_loss: 0.0010, \n"
     ]
    },
    {
     "name": "stdout",
     "output_type": "stream",
     "text": [
      "epoch: 6, [batch: 5821 / 8316], examples_per_second: 3084.1418, train_label_loss: 0.0000, \n"
     ]
    },
    {
     "name": "stdout",
     "output_type": "stream",
     "text": [
      "epoch: 6, [batch: 6653 / 8316], examples_per_second: 3099.6957, train_label_loss: 0.0002, \n"
     ]
    },
    {
     "name": "stdout",
     "output_type": "stream",
     "text": [
      "epoch: 6, [batch: 7484 / 8316], examples_per_second: 3089.8296, train_label_loss: 0.0016, \n"
     ]
    },
    {
     "name": "stdout",
     "output_type": "stream",
     "text": [
      "=============================================================\n",
      "epoch: 6, source_val_acc_label: 0.9841, target_val_acc_label: 0.2143, source_val_label_loss: 0.0735, target_val_label_loss: 2.4257, \n",
      "=============================================================\n"
     ]
    },
    {
     "name": "stdout",
     "output_type": "stream",
     "text": [
      "epoch: 7, [batch: 1 / 8330], examples_per_second: 3.5839, train_label_loss: 0.0906, \n"
     ]
    },
    {
     "name": "stdout",
     "output_type": "stream",
     "text": [
      "epoch: 7, [batch: 833 / 8330], examples_per_second: 3056.7691, train_label_loss: 0.0001, \n"
     ]
    },
    {
     "name": "stdout",
     "output_type": "stream",
     "text": [
      "epoch: 7, [batch: 1666 / 8330], examples_per_second: 3068.6502, train_label_loss: 0.0695, \n"
     ]
    },
    {
     "name": "stdout",
     "output_type": "stream",
     "text": [
      "epoch: 7, [batch: 2499 / 8330], examples_per_second: 3053.1219, train_label_loss: 0.0132, \n"
     ]
    },
    {
     "name": "stdout",
     "output_type": "stream",
     "text": [
      "epoch: 7, [batch: 3332 / 8330], examples_per_second: 3066.2999, train_label_loss: 0.0001, \n"
     ]
    },
    {
     "name": "stdout",
     "output_type": "stream",
     "text": [
      "epoch: 7, [batch: 4165 / 8330], examples_per_second: 3080.3512, train_label_loss: 0.0021, \n"
     ]
    },
    {
     "name": "stdout",
     "output_type": "stream",
     "text": [
      "epoch: 7, [batch: 4998 / 8330], examples_per_second: 3061.8468, train_label_loss: 0.0003, \n"
     ]
    },
    {
     "name": "stdout",
     "output_type": "stream",
     "text": [
      "epoch: 7, [batch: 5831 / 8330], examples_per_second: 3084.5165, train_label_loss: 0.0000, \n"
     ]
    },
    {
     "name": "stdout",
     "output_type": "stream",
     "text": [
      "epoch: 7, [batch: 6664 / 8330], examples_per_second: 3081.4741, train_label_loss: 0.0001, \n"
     ]
    },
    {
     "name": "stdout",
     "output_type": "stream",
     "text": [
      "epoch: 7, [batch: 7497 / 8330], examples_per_second: 3085.6671, train_label_loss: 0.0008, \n"
     ]
    },
    {
     "name": "stdout",
     "output_type": "stream",
     "text": [
      "=============================================================\n",
      "epoch: 7, source_val_acc_label: 0.9845, target_val_acc_label: 0.1987, source_val_label_loss: 0.0865, target_val_label_loss: 2.7366, \n",
      "=============================================================\n"
     ]
    },
    {
     "name": "stdout",
     "output_type": "stream",
     "text": [
      "Patience (3) exhausted\n"
     ]
    }
   ],
   "source": [
    "###################################\n",
    "# train\n",
    "###################################\n",
    "jig = PTN_Train_Eval_Test_Jig(model, p.BEST_MODEL_PATH, p.device)\n",
    "\n",
    "jig.train(\n",
    "    train_iterable=datasets.source.processed.train,\n",
    "    source_val_iterable=datasets.source.processed.val,\n",
    "    target_val_iterable=datasets.target.processed.val,\n",
    "    num_epochs=p.n_epoch,\n",
    "    num_logs_per_epoch=p.NUM_LOGS_PER_EPOCH,\n",
    "    patience=p.patience,\n",
    "    optimizer=optimizer,\n",
    "    criteria_for_best=p.criteria_for_best,\n",
    ")"
   ]
  },
  {
   "cell_type": "code",
   "execution_count": 23,
   "id": "31e8fabf",
   "metadata": {
    "execution": {
     "iopub.execute_input": "2022-03-09T02:57:57.698134Z",
     "iopub.status.busy": "2022-03-09T02:57:57.697088Z",
     "iopub.status.idle": "2022-03-09T02:57:57.713186Z",
     "shell.execute_reply": "2022-03-09T02:57:57.712732Z"
    },
    "papermill": {
     "duration": 0.047927,
     "end_time": "2022-03-09T02:57:57.713289",
     "exception": false,
     "start_time": "2022-03-09T02:57:57.665362",
     "status": "completed"
    },
    "tags": []
   },
   "outputs": [],
   "source": [
    "total_experiment_time_secs = time.time() - start_time_secs"
   ]
  },
  {
   "cell_type": "code",
   "execution_count": 24,
   "id": "87b9595b",
   "metadata": {
    "execution": {
     "iopub.execute_input": "2022-03-09T02:57:57.781524Z",
     "iopub.status.busy": "2022-03-09T02:57:57.781249Z",
     "iopub.status.idle": "2022-03-09T02:59:53.624174Z",
     "shell.execute_reply": "2022-03-09T02:59:53.624578Z"
    },
    "papermill": {
     "duration": 115.877774,
     "end_time": "2022-03-09T02:59:53.624717",
     "exception": false,
     "start_time": "2022-03-09T02:57:57.746943",
     "status": "completed"
    },
    "tags": []
   },
   "outputs": [],
   "source": [
    "###################################\n",
    "# Evaluate the model\n",
    "###################################\n",
    "source_test_label_accuracy, source_test_label_loss = jig.test(datasets.source.processed.test)\n",
    "target_test_label_accuracy, target_test_label_loss = jig.test(datasets.target.processed.test)\n",
    "\n",
    "source_val_label_accuracy, source_val_label_loss = jig.test(datasets.source.processed.val)\n",
    "target_val_label_accuracy, target_val_label_loss = jig.test(datasets.target.processed.val)\n",
    "\n",
    "history = jig.get_history()\n",
    "\n",
    "total_epochs_trained = len(history[\"epoch_indices\"])\n",
    "\n",
    "val_dl = Iterable_Aggregator((datasets.source.original.val,datasets.target.original.val))\n",
    "\n",
    "confusion = ptn_confusion_by_domain_over_dataloader(model, p.device, val_dl)\n",
    "per_domain_accuracy = per_domain_accuracy_from_confusion(confusion)\n",
    "\n",
    "# Add a key to per_domain_accuracy for if it was a source domain\n",
    "for domain, accuracy in per_domain_accuracy.items():\n",
    "    per_domain_accuracy[domain] = {\n",
    "        \"accuracy\": accuracy,\n",
    "        \"source?\": domain in p.domains_source\n",
    "    }\n",
    "\n",
    "# Do an independent accuracy assesment JUST TO BE SURE!\n",
    "# _source_test_label_accuracy = independent_accuracy_assesment(model, datasets.source.processed.test, p.device)\n",
    "# _target_test_label_accuracy = independent_accuracy_assesment(model, datasets.target.processed.test, p.device)\n",
    "# _source_val_label_accuracy = independent_accuracy_assesment(model, datasets.source.processed.val, p.device)\n",
    "# _target_val_label_accuracy = independent_accuracy_assesment(model, datasets.target.processed.val, p.device)\n",
    "\n",
    "# assert(_source_test_label_accuracy == source_test_label_accuracy)\n",
    "# assert(_target_test_label_accuracy == target_test_label_accuracy)\n",
    "# assert(_source_val_label_accuracy == source_val_label_accuracy)\n",
    "# assert(_target_val_label_accuracy == target_val_label_accuracy)\n",
    "\n",
    "experiment = {\n",
    "    \"experiment_name\": p.experiment_name,\n",
    "    \"parameters\": dict(p),\n",
    "    \"results\": {\n",
    "        \"source_test_label_accuracy\": source_test_label_accuracy,\n",
    "        \"source_test_label_loss\": source_test_label_loss,\n",
    "        \"target_test_label_accuracy\": target_test_label_accuracy,\n",
    "        \"target_test_label_loss\": target_test_label_loss,\n",
    "        \"source_val_label_accuracy\": source_val_label_accuracy,\n",
    "        \"source_val_label_loss\": source_val_label_loss,\n",
    "        \"target_val_label_accuracy\": target_val_label_accuracy,\n",
    "        \"target_val_label_loss\": target_val_label_loss,\n",
    "        \"total_epochs_trained\": total_epochs_trained,\n",
    "        \"total_experiment_time_secs\": total_experiment_time_secs,\n",
    "        \"confusion\": confusion,\n",
    "        \"per_domain_accuracy\": per_domain_accuracy,\n",
    "    },\n",
    "    \"history\": history,\n",
    "    \"dataset_metrics\": get_dataset_metrics(datasets, \"ptn\"),\n",
    "}"
   ]
  },
  {
   "cell_type": "code",
   "execution_count": 25,
   "id": "54a21829",
   "metadata": {
    "execution": {
     "iopub.execute_input": "2022-03-09T02:59:53.688189Z",
     "iopub.status.busy": "2022-03-09T02:59:53.687348Z",
     "iopub.status.idle": "2022-03-09T02:59:53.874818Z",
     "shell.execute_reply": "2022-03-09T02:59:53.875214Z"
    },
    "papermill": {
     "duration": 0.218183,
     "end_time": "2022-03-09T02:59:53.875303",
     "exception": false,
     "start_time": "2022-03-09T02:59:53.657120",
     "status": "completed"
    },
    "tags": []
   },
   "outputs": [
    {
     "data": {
      "image/png": "[encoded data removed]",
      "text/plain": [
       "<Figure size 1080x504 with 1 Axes>"
      ]
     },
     "metadata": {
      "needs_background": "light"
     },
     "output_type": "display_data"
    }
   ],
   "source": [
    "ax = get_loss_curve(experiment)\n",
    "plt.show()"
   ]
  },
  {
   "cell_type": "code",
   "execution_count": 26,
   "id": "fd8a0f60",
   "metadata": {
    "execution": {
     "iopub.execute_input": "2022-03-09T02:59:53.940579Z",
     "iopub.status.busy": "2022-03-09T02:59:53.940316Z",
     "iopub.status.idle": "2022-03-09T02:59:54.120877Z",
     "shell.execute_reply": "2022-03-09T02:59:54.121165Z"
    },
    "papermill": {
     "duration": 0.212942,
     "end_time": "2022-03-09T02:59:54.121262",
     "exception": false,
     "start_time": "2022-03-09T02:59:53.908320",
     "status": "completed"
    },
    "tags": []
   },
   "outputs": [
    {
     "data": {
      "text/plain": [
       "<matplotlib.axes._subplots.AxesSubplot at 0x7f605913ef70>"
      ]
     },
     "execution_count": 26,
     "metadata": {},
     "output_type": "execute_result"
    },
    {
     "data": {
      "image/png": "[encoded data removed]",
      "text/plain": [
       "<Figure size 1080x504 with 1 Axes>"
      ]
     },
     "metadata": {
      "needs_background": "light"
     },
     "output_type": "display_data"
    }
   ],
   "source": [
    "get_results_table(experiment)"
   ]
  },
  {
   "cell_type": "code",
   "execution_count": 27,
   "id": "cf8dc689",
   "metadata": {
    "execution": {
     "iopub.execute_input": "2022-03-09T02:59:54.190743Z",
     "iopub.status.busy": "2022-03-09T02:59:54.190479Z",
     "iopub.status.idle": "2022-03-09T02:59:54.455143Z",
     "shell.execute_reply": "2022-03-09T02:59:54.455508Z"
    },
    "papermill": {
     "duration": 0.297908,
     "end_time": "2022-03-09T02:59:54.455618",
     "exception": false,
     "start_time": "2022-03-09T02:59:54.157710",
     "status": "completed"
    },
    "tags": []
   },
   "outputs": [
    {
     "data": {
      "text/plain": [
       "<matplotlib.axes._subplots.AxesSubplot at 0x7f60dd1cc6a0>"
      ]
     },
     "execution_count": 27,
     "metadata": {},
     "output_type": "execute_result"
    },
    {
     "data": {
      "image/png": "[encoded data removed]",
      "text/plain": [
       "<Figure size 1080x504 with 1 Axes>"
      ]
     },
     "metadata": {
      "needs_background": "light"
     },
     "output_type": "display_data"
    }
   ],
   "source": [
    "get_domain_accuracies(experiment)"
   ]
  },
  {
   "cell_type": "code",
   "execution_count": 28,
   "id": "a74ae082",
   "metadata": {
    "execution": {
     "iopub.execute_input": "2022-03-09T02:59:54.527013Z",
     "iopub.status.busy": "2022-03-09T02:59:54.526756Z",
     "iopub.status.idle": "2022-03-09T02:59:54.540708Z",
     "shell.execute_reply": "2022-03-09T02:59:54.540263Z"
    },
    "papermill": {
     "duration": 0.048305,
     "end_time": "2022-03-09T02:59:54.540795",
     "exception": false,
     "start_time": "2022-03-09T02:59:54.492490",
     "status": "completed"
    },
    "tags": []
   },
   "outputs": [
    {
     "name": "stdout",
     "output_type": "stream",
     "text": [
      "Source Test Label Accuracy: 0.9827987756188449 Target Test Label Accuracy: 0.2571174377224199\n",
      "Source Val Label Accuracy: 0.9823662496672877 Target Val Label Accuracy: 0.2625923898165891\n"
     ]
    }
   ],
   "source": [
    "print(\"Source Test Label Accuracy:\", experiment[\"results\"][\"source_test_label_accuracy\"], \"Target Test Label Accuracy:\", experiment[\"results\"][\"target_test_label_accuracy\"])\n",
    "print(\"Source Val Label Accuracy:\", experiment[\"results\"][\"source_val_label_accuracy\"], \"Target Val Label Accuracy:\", experiment[\"results\"][\"target_val_label_accuracy\"])"
   ]
  },
  {
   "cell_type": "code",
   "execution_count": 29,
   "id": "dacca602",
   "metadata": {
    "execution": {
     "iopub.execute_input": "2022-03-09T02:59:54.611464Z",
     "iopub.status.busy": "2022-03-09T02:59:54.611216Z",
     "iopub.status.idle": "2022-03-09T02:59:54.624424Z",
     "shell.execute_reply": "2022-03-09T02:59:54.624726Z"
    },
    "papermill": {
     "duration": 0.047304,
     "end_time": "2022-03-09T02:59:54.624807",
     "exception": false,
     "start_time": "2022-03-09T02:59:54.577503",
     "status": "completed"
    },
    "tags": [
     "experiment_json"
    ]
   },
   "outputs": [
    {
     "data": {
      "text/plain": [
       "'{\"experiment_name\": \"tl_2_cores_wisig-oracle.run1\", \"parameters\": {\"experiment_name\": \"tl_2_cores_wisig-oracle.run1\", \"device\": \"cuda\", \"lr\": 0.001, \"seed\": 1337, \"dataset_seed\": 1337, \"n_shot\": 3, \"n_query\": 2, \"train_k_factor\": 3, \"val_k_factor\": 2, \"test_k_factor\": 2, \"torch_default_dtype\": \"torch.float32\", \"n_epoch\": 50, \"patience\": 3, \"criteria_for_best\": \"target_loss\", \"x_net\": [{\"class\": \"nnReshape\", \"kargs\": {\"shape\": [-1, 1, 2, 256]}}, {\"class\": \"Conv2d\", \"kargs\": {\"in_channels\": 1, \"out_channels\": 256, \"kernel_size\": [1, 7], \"bias\": false, \"padding\": [0, 3]}}, {\"class\": \"ReLU\", \"kargs\": {\"inplace\": true}}, {\"class\": \"BatchNorm2d\", \"kargs\": {\"num_features\": 256}}, {\"class\": \"Conv2d\", \"kargs\": {\"in_channels\": 256, \"out_channels\": 80, \"kernel_size\": [2, 7], \"bias\": true, \"padding\": [0, 3]}}, {\"class\": \"ReLU\", \"kargs\": {\"inplace\": true}}, {\"class\": \"BatchNorm2d\", \"kargs\": {\"num_features\": 80}}, {\"class\": \"Flatten\", \"kargs\": {}}, {\"class\": \"Linear\", \"kargs\": {\"in_features\": 20480, \"out_features\": 256}}, {\"class\": \"ReLU\", \"kargs\": {\"inplace\": true}}, {\"class\": \"BatchNorm1d\", \"kargs\": {\"num_features\": 256}}, {\"class\": \"Linear\", \"kargs\": {\"in_features\": 256, \"out_features\": 256}}], \"NUM_LOGS_PER_EPOCH\": 10, \"BEST_MODEL_PATH\": \"./best_model.pth\", \"n_way\": 13, \"datasets\": [{\"labels\": [\"11-20.\", \"2-3.\", \"7-10.\", \"14-10.\", \"19-16.\", \"1-19.\", \"1-15.\", \"11-7.\", \"11-14.\", \"1-17.\", \"4-19.\", \"17-10.\", \"8-18.\", \"2-11.\", \"2-20.\", \"14-14.\", \"8-8.\", \"1-16.\", \"2-8.\", \"3-3.\", \"4-11.\", \"2-18.\", \"4-10.\", \"1-11.\", \"11-17.\", \"2-17.\", \"19-3.\", \"2-7.\", \"1-10.\", \"2-4.\", \"10-4.\", \"1-18.\", \"2-5.\", \"16-1.\", \"17-2.\", \"13-20.\", \"19-20.\", \"14-11.\", \"2-10.\", \"3-18.\"], \"domains\": [1, 2, 3, 4, 5], \"num_examples_per_domain_per_label\": 100, \"pickle_path\": \"/mnt/wd500GB/CSC500/csc500-main/datasets/cores.stratified_ds.2022A.pkl\", \"source_or_target_dataset\": \"source\", \"x_transforms\": [\"unit_power\"], \"episode_transforms\": [], \"domain_prefix\": \"C_A_\"}, {\"labels\": [\"10-7.\", \"11-1.\", \"13-8.\", \"14-7.\", \"15-1.\", \"15-20.\", \"16-16.\", \"17-11.\", \"19-1.\", \"19-19.\", \"2-6.\", \"3-13.\", \"4-1.\", \"5-5.\", \"6-15.\", \"7-14.\", \"8-20.\", \"8-3.\"], \"domains\": [1, 2, 3, 4, 5], \"num_examples_per_domain_per_label\": 1000, \"pickle_path\": \"/mnt/wd500GB/CSC500/csc500-main/datasets/cores.stratified_ds.2022A.pkl\", \"source_or_target_dataset\": \"source\", \"x_transforms\": [\"unit_power\"], \"episode_transforms\": [], \"domain_prefix\": \"C_B_\"}, {\"labels\": [\"2-1\", \"19-7\", \"14-9\", \"20-3\", \"16-19\", \"20-14\", \"6-1\", \"19-6\", \"13-19\", \"2-7\", \"17-10\", \"18-14\", \"13-20\", \"2-15\", \"11-20\", \"3-1\", \"18-12\", \"18-2\", \"9-7\", \"18-17\", \"19-11\", \"7-12\", \"20-16\", \"6-6\", \"7-9\", \"19-15\", \"14-20\", \"19-14\", \"20-8\", \"19-12\", \"19-4\", \"18-4\", \"3-8\", \"2-4\", \"2-5\", \"13-3\", \"19-9\", \"7-13\", \"14-19\", \"18-16\", \"7-8\", \"18-1\", \"13-7\", \"18-9\", \"20-4\", \"15-6\", \"2-3\", \"10-4\", \"18-8\", \"15-19\", \"18-20\", \"19-13\", \"2-13\", \"3-13\", \"9-1\", \"14-13\", \"18-13\", \"16-20\", \"19-8\", \"19-10\", \"8-14\", \"18-10\", \"12-19\", \"18-15\", \"1-14\", \"18-7\", \"1-8\", \"12-7\", \"18-19\", \"13-18\", \"20-5\", \"18-5\", \"20-18\", \"14-8\", \"18-11\", \"14-14\", \"13-14\", \"8-1\", \"14-12\", \"19-3\", \"3-2\", \"2-8\", \"11-19\"], \"domains\": [1, 2, 3, 4], \"num_examples_per_domain_per_label\": 100, \"pickle_path\": \"/mnt/wd500GB/CSC500/csc500-main/datasets/wisig.node3-19.stratified_ds.2022A.pkl\", \"source_or_target_dataset\": \"source\", \"x_transforms\": [\"unit_power\"], \"episode_transforms\": [], \"domain_prefix\": \"W_A_\"}, {\"labels\": [\"20-20\", \"19-1\", \"20-1\", \"5-1\", \"19-20\", \"19-2\", \"4-1\", \"1-12\", \"7-10\", \"1-18\", \"4-11\", \"8-13\", \"5-5\", \"10-7\", \"11-4\", \"11-1\", \"17-11\", \"4-10\", \"7-14\", \"1-19\", \"7-11\", \"11-10\", \"7-7\", \"8-8\", \"19-19\", \"10-11\", \"1-16\", \"20-12\", \"2-6\", \"11-7\", \"14-11\", \"1-10\", \"16-1\", \"20-7\"], \"domains\": [1, 2, 3, 4], \"num_examples_per_domain_per_label\": 500, \"pickle_path\": \"/mnt/wd500GB/CSC500/csc500-main/datasets/wisig.node3-19.stratified_ds.2022A.pkl\", \"source_or_target_dataset\": \"source\", \"x_transforms\": [\"unit_power\"], \"episode_transforms\": [], \"domain_prefix\": \"W_B_\"}, {\"labels\": [\"10-17\", \"12-20\", \"14-10\", \"14-7\", \"15-1\", \"16-16\", \"20-15\", \"20-19\", \"3-18\", \"6-15\", \"8-18\", \"8-20\", \"8-3\"], \"domains\": [1, 2, 3, 4], \"num_examples_per_domain_per_label\": 1000, \"pickle_path\": \"/mnt/wd500GB/CSC500/csc500-main/datasets/wisig.node3-19.stratified_ds.2022A.pkl\", \"source_or_target_dataset\": \"source\", \"x_transforms\": [\"unit_power\"], \"episode_transforms\": [], \"domain_prefix\": \"W_C_\"}, {\"labels\": [\"3123D52\", \"3123D65\", \"3123D79\", \"3123D80\", \"3123D54\", \"3123D70\", \"3123D7B\", \"3123D89\", \"3123D58\", \"3123D76\", \"3123D7D\", \"3123EFE\", \"3123D64\", \"3123D78\", \"3123D7E\", \"3124E4A\"], \"domains\": [32, 38, 8, 44, 14, 50, 20, 26], \"num_examples_per_domain_per_label\": 2000, \"pickle_path\": \"/mnt/wd500GB/CSC500/csc500-main/datasets/oracle.Run1_framed_2000Examples_stratified_ds.2022A.pkl\", \"source_or_target_dataset\": \"target\", \"x_transforms\": [\"unit_power\"], \"episode_transforms\": [], \"domain_prefix\": \"ORACLE.run1_\"}], \"domains_source\": [\"C_A_1\", \"C_A_2\", \"C_A_3\", \"C_A_4\", \"C_A_5\", \"C_B_1\", \"C_B_2\", \"C_B_3\", \"C_B_4\", \"C_B_5\", \"W_A_1\", \"W_A_2\", \"W_A_3\", \"W_A_4\", \"W_B_1\", \"W_B_2\", \"W_B_3\", \"W_B_4\", \"W_C_1\", \"W_C_2\", \"W_C_3\", \"W_C_4\"], \"domains_target\": [\"ORACLE.run1_32\", \"ORACLE.run1_38\", \"ORACLE.run1_8\", \"ORACLE.run1_44\", \"ORACLE.run1_14\", \"ORACLE.run1_50\", \"ORACLE.run1_20\", \"ORACLE.run1_26\"]}, \"results\": {\"source_test_label_accuracy\": 0.9827987756188449, \"source_test_label_loss\": 0.07731462270021439, \"target_test_label_accuracy\": 0.2571174377224199, \"target_test_label_loss\": 2.127699613571167, \"source_val_label_accuracy\": 0.9823662496672877, \"source_val_label_loss\": 0.07696438580751419, \"target_val_label_accuracy\": 0.2625923898165891, \"target_val_label_loss\": 2.1247589588165283, \"total_epochs_trained\": 7, \"total_experiment_time_secs\": 1413.274621963501, \"confusion\": {\"W_A_3\": {\"8\": {\"8\": 12}, \"32\": {\"32\": 12}, \"50\": {\"50\": 12}, \"24\": {\"24\": 12}, \"38\": {\"38\": 12}, \"5\": {\"5\": 12}, \"58\": {\"58\": 12}, \"4\": {\"4\": 12}, \"56\": {\"56\": 11, \"65\": 1}, \"14\": {\"14\": 12}, \"65\": {\"65\": 12}, \"15\": {\"15\": 8}, \"78\": {\"78\": 12}, \"31\": {\"31\": 12}, \"61\": {\"61\": 12}, \"80\": {\"80\": 12}, \"60\": {\"60\": 12}, \"12\": {\"60\": 2, \"12\": 8, \"50\": 1, \"67\": 1}, \"2\": {\"2\": 12}, \"62\": {\"62\": 5, \"60\": 1, \"12\": 2, \"32\": 1, \"79\": 1, \"51\": 1, \"18\": 1}, \"20\": {\"20\": 12}, \"25\": {\"56\": 1, \"25\": 10, \"33\": 1}, \"49\": {\"49\": 10, \"50\": 1, \"29\": 1}, \"3\": {\"3\": 12}, \"51\": {\"51\": 12}, \"43\": {\"43\": 12}, \"75\": {\"75\": 12}, \"34\": {\"34\": 10}, \"73\": {\"73\": 12}, \"71\": {\"71\": 12}, \"39\": {\"39\": 10}, \"10\": {\"10\": 11, \"22\": 1}, \"1\": {\"1\": 12}, \"7\": {\"7\": 12}, \"69\": {\"13\": 1, \"69\": 10, \"55\": 1}, \"52\": {\"52\": 10}, \"30\": {\"30\": 12}, \"59\": {\"59\": 12}, \"68\": {\"68\": 12}, \"13\": {\"13\": 12}, \"76\": {\"76\": 12}, \"36\": {\"36\": 10}, \"55\": {\"55\": 12}, \"41\": {\"41\": 10}, \"48\": {\"48\": 11, \"36\": 1}, \"0\": {\"0\": 10, \"21\": 1, \"61\": 1}, \"37\": {\"37\": 12}, \"22\": {\"22\": 12}, \"35\": {\"35\": 7, \"42\": 1}, \"53\": {\"53\": 12}, \"79\": {\"79\": 12}, \"23\": {\"23\": 12}, \"29\": {\"29\": 10, \"40\": 1, \"62\": 1}, \"44\": {\"44\": 10}, \"28\": {\"28\": 12}, \"72\": {\"72\": 12}, \"77\": {\"77\": 10, \"75\": 1, \"46\": 1}, \"16\": {\"16\": 9, \"17\": 2, \"77\": 1}, \"81\": {\"81\": 12}, \"54\": {\"54\": 10, \"48\": 2}, \"67\": {\"67\": 12}, \"74\": {\"74\": 12}, \"33\": {\"33\": 12}, \"40\": {\"40\": 12}, \"45\": {\"45\": 8}, \"70\": {\"70\": 12}, \"64\": {\"64\": 12}, \"9\": {\"9\": 8}, \"66\": {\"66\": 10, \"65\": 1, \"1\": 1}, \"47\": {\"47\": 12}, \"27\": {\"27\": 12}, \"21\": {\"21\": 12}, \"11\": {\"21\": 1, \"11\": 11}, \"6\": {\"6\": 12}, \"82\": {\"82\": 8, \"79\": 1, \"11\": 1, \"24\": 1, \"50\": 1}, \"18\": {\"18\": 10, \"6\": 2}, \"57\": {\"57\": 8, \"36\": 1, \"23\": 1, \"30\": 2}, \"63\": {\"74\": 1, \"63\": 11}, \"42\": {\"42\": 10}, \"19\": {\"19\": 11, \"21\": 1}, \"26\": {\"29\": 1, \"26\": 9}, \"17\": {\"17\": 12}, \"46\": {\"46\": 9, \"23\": 1}}, \"W_B_3\": {\"9\": {\"9\": 59, \"7\": 1}, \"3\": {\"3\": 52}, \"1\": {\"1\": 60}, \"20\": {\"20\": 50, \"5\": 2}, \"13\": {\"13\": 54}, \"2\": {\"2\": 57, \"28\": 1}, \"5\": {\"5\": 52, \"24\": 1, \"0\": 2, \"26\": 1, \"20\": 2, \"11\": 2}, \"21\": {\"21\": 55, \"10\": 1}, \"29\": {\"29\": 60}, \"7\": {\"21\": 1, \"7\": 59}, \"16\": {\"16\": 58}, \"6\": {\"6\": 60}, \"19\": {\"19\": 58}, \"32\": {\"32\": 58, \"0\": 1, \"20\": 1}, \"14\": {\"14\": 54}, \"24\": {\"24\": 59, \"21\": 1}, \"28\": {\"28\": 55, \"19\": 1}, \"22\": {\"22\": 55, \"10\": 1}, \"26\": {\"26\": 60}, \"30\": {\"30\": 52, \"3\": 1, \"21\": 1}, \"4\": {\"4\": 57, \"12\": 1}, \"25\": {\"25\": 60}, \"31\": {\"31\": 50}, \"11\": {\"11\": 53, \"21\": 2, \"28\": 1}, \"10\": {\"10\": 56}, \"23\": {\"23\": 57, \"5\": 1}, \"0\": {\"0\": 59, \"21\": 1}, \"33\": {\"33\": 53, \"26\": 1}, \"12\": {\"12\": 57, \"17\": 1, \"21\": 1, \"20\": 1}, \"18\": {\"18\": 49, \"0\": 1}, \"15\": {\"15\": 49, \"4\": 1}, \"27\": {\"27\": 51, \"12\": 1, \"3\": 5, \"7\": 1, \"32\": 1, \"10\": 1}, \"8\": {\"8\": 53, \"32\": 1}, \"17\": {\"17\": 48, \"22\": 1, \"13\": 1}}, \"W_C_3\": {\"10\": {\"10\": 120}, \"5\": {\"5\": 118, \"9\": 1, \"0\": 1}, \"7\": {\"7\": 119, \"0\": 1}, \"9\": {\"9\": 120}, \"0\": {\"0\": 119, \"10\": 1}, \"11\": {\"11\": 119, \"10\": 1}, \"6\": {\"6\": 120}, \"8\": {\"8\": 120}, \"4\": {\"4\": 118, \"0\": 2}, \"12\": {\"12\": 119, \"7\": 1}, \"3\": {\"3\": 118, \"2\": 1, \"10\": 1}, \"1\": {\"1\": 119, \"10\": 1}, \"2\": {\"2\": 118, \"0\": 1, \"1\": 1}}, \"C_B_3\": {\"15\": {\"15\": 120}, \"11\": {\"11\": 120}, \"14\": {\"14\": 114}, \"12\": {\"12\": 114}, \"17\": {\"17\": 114}, \"5\": {\"5\": 116}, \"6\": {\"6\": 106}, \"3\": {\"3\": 96}, \"10\": {\"10\": 108}, \"16\": {\"16\": 110}, \"4\": {\"4\": 116}, \"9\": {\"9\": 110}, \"1\": {\"1\": 114}, \"7\": {\"7\": 112}, \"0\": {\"0\": 112}, \"8\": {\"8\": 116}, \"13\": {\"13\": 116}, \"2\": {\"2\": 114}}, \"C_A_3\": {\"9\": {\"9\": 12}, \"39\": {\"39\": 12}, \"11\": {\"11\": 12}, \"18\": {\"18\": 10}, \"30\": {\"30\": 12}, \"25\": {\"25\": 12}, \"26\": {\"26\": 12}, \"0\": {\"0\": 12}, \"35\": {\"35\": 12}, \"6\": {\"6\": 10}, \"33\": {\"33\": 12}, \"32\": {\"32\": 12}, \"31\": {\"31\": 12}, \"4\": {\"4\": 12}, \"16\": {\"16\": 12}, \"37\": {\"37\": 12}, \"12\": {\"12\": 12}, \"17\": {\"17\": 12}, \"23\": {\"23\": 12}, \"38\": {\"38\": 12}, \"13\": {\"13\": 12}, \"15\": {\"15\": 12}, \"19\": {\"13\": 3, \"19\": 9}, \"21\": {\"21\": 12}, \"5\": {\"5\": 11, \"2\": 1}, \"22\": {\"22\": 12}, \"20\": {\"20\": 12}, \"7\": {\"7\": 12}, \"27\": {\"27\": 12}, \"3\": {\"3\": 12}, \"8\": {\"8\": 12}, \"14\": {\"14\": 12}, \"29\": {\"29\": 12}, \"2\": {\"2\": 12}, \"34\": {\"34\": 12}, \"28\": {\"28\": 12}, \"1\": {\"1\": 6}, \"24\": {\"24\": 10}, \"36\": {\"36\": 12}, \"10\": {\"10\": 12}}, \"W_A_1\": {\"10\": {\"10\": 12}, \"29\": {\"29\": 8}, \"35\": {\"35\": 12}, \"25\": {\"25\": 11, \"67\": 1}, \"61\": {\"61\": 11, \"69\": 1}, \"46\": {\"46\": 12}, \"27\": {\"27\": 10, \"43\": 1, \"57\": 1}, \"7\": {\"7\": 12}, \"43\": {\"43\": 12}, \"42\": {\"42\": 12}, \"1\": {\"1\": 12}, \"75\": {\"75\": 12}, \"6\": {\"6\": 12}, \"11\": {\"11\": 12}, \"5\": {\"5\": 12}, \"51\": {\"51\": 12}, \"80\": {\"80\": 12}, \"12\": {\"12\": 7, \"67\": 1}, \"63\": {\"63\": 12}, \"74\": {\"74\": 12}, \"13\": {\"13\": 10}, \"34\": {\"34\": 12}, \"24\": {\"24\": 12}, \"47\": {\"47\": 12}, \"39\": {\"39\": 12}, \"64\": {\"64\": 11, \"44\": 1}, \"72\": {\"72\": 12}, \"79\": {\"79\": 12}, \"33\": {\"33\": 12}, \"19\": {\"19\": 12}, \"59\": {\"59\": 12}, \"78\": {\"78\": 12}, \"50\": {\"50\": 12}, \"70\": {\"70\": 12}, \"15\": {\"15\": 12}, \"55\": {\"55\": 8}, \"58\": {\"58\": 8}, \"66\": {\"66\": 12}, \"56\": {\"56\": 11, \"41\": 1}, \"3\": {\"3\": 12}, \"44\": {\"32\": 1, \"44\": 8, \"38\": 1, \"66\": 1, \"64\": 1}, \"57\": {\"57\": 10, \"71\": 2}, \"67\": {\"67\": 12}, \"22\": {\"22\": 12}, \"32\": {\"32\": 10, \"67\": 1, \"0\": 1}, \"81\": {\"81\": 12}, \"2\": {\"2\": 12}, \"71\": {\"71\": 12}, \"68\": {\"68\": 10}, \"49\": {\"49\": 10}, \"69\": {\"69\": 12}, \"9\": {\"9\": 8}, \"18\": {\"18\": 9, \"71\": 1, \"34\": 2}, \"41\": {\"21\": 1, \"30\": 1, \"41\": 6, \"56\": 3, \"44\": 1}, \"30\": {\"30\": 8}, \"21\": {\"21\": 12}, \"53\": {\"53\": 12}, \"8\": {\"8\": 8}, \"37\": {\"37\": 12}, \"40\": {\"40\": 12}, \"20\": {\"20\": 12}, \"54\": {\"54\": 9, \"32\": 1}, \"16\": {\"16\": 11, \"4\": 1}, \"45\": {\"45\": 12}, \"52\": {\"52\": 10}, \"76\": {\"76\": 12}, \"23\": {\"23\": 12}, \"26\": {\"26\": 10}, \"17\": {\"17\": 12}, \"73\": {\"73\": 12}, \"82\": {\"82\": 11, \"73\": 1}, \"65\": {\"65\": 12}, \"48\": {\"13\": 2, \"48\": 8, \"38\": 1, \"60\": 1}, \"4\": {\"4\": 12}, \"14\": {\"14\": 12}, \"62\": {\"62\": 12}, \"0\": {\"0\": 10}, \"31\": {\"31\": 6, \"13\": 2}, \"60\": {\"60\": 12}, \"38\": {\"38\": 12}, \"77\": {\"77\": 10}, \"36\": {\"36\": 6}, \"28\": {\"28\": 6}}, \"W_B_1\": {\"14\": {\"14\": 58, \"21\": 2}, \"1\": {\"1\": 56}, \"9\": {\"9\": 60}, \"24\": {\"24\": 58, \"32\": 1, \"23\": 1}, \"29\": {\"29\": 59, \"17\": 1}, \"4\": {\"4\": 55, \"0\": 1}, \"8\": {\"8\": 60}, \"2\": {\"2\": 58, \"0\": 1, \"21\": 1}, \"18\": {\"18\": 48}, \"19\": {\"19\": 59, \"17\": 1}, \"27\": {\"27\": 57, \"21\": 1, \"4\": 1, \"30\": 1}, \"25\": {\"25\": 60}, \"3\": {\"3\": 50, \"26\": 1, \"17\": 1}, \"30\": {\"14\": 1, \"30\": 49}, \"17\": {\"17\": 57, \"21\": 2, \"11\": 1}, \"6\": {\"6\": 47, \"20\": 1}, \"11\": {\"11\": 54}, \"20\": {\"20\": 59, \"11\": 1}, \"10\": {\"10\": 51, \"17\": 1}, \"7\": {\"7\": 54}, \"5\": {\"5\": 60}, \"32\": {\"32\": 54, \"21\": 1, \"20\": 1}, \"31\": {\"31\": 58, \"10\": 1, \"24\": 1}, \"33\": {\"33\": 60}, \"22\": {\"22\": 59, \"11\": 1}, \"16\": {\"16\": 54}, \"12\": {\"12\": 50}, \"23\": {\"23\": 53, \"19\": 1}, \"15\": {\"15\": 54}, \"13\": {\"13\": 60}, \"26\": {\"26\": 55, \"24\": 1}, \"28\": {\"28\": 58}, \"0\": {\"0\": 54}, \"21\": {\"21\": 57, \"10\": 1}}, \"W_B_4\": {\"18\": {\"18\": 56, \"17\": 1, \"31\": 1}, \"26\": {\"26\": 59, \"20\": 1}, \"2\": {\"2\": 57, \"7\": 1, \"24\": 1, \"4\": 1}, \"23\": {\"23\": 56, \"30\": 2, \"10\": 1, \"22\": 1}, \"27\": {\"27\": 51, \"5\": 2, \"20\": 1}, \"4\": {\"4\": 57, \"6\": 1, \"0\": 1, \"3\": 1}, \"29\": {\"29\": 58}, \"32\": {\"32\": 54, \"31\": 1, \"8\": 1, \"10\": 1, \"7\": 1, \"22\": 1, \"11\": 1}, \"28\": {\"28\": 54, \"30\": 2}, \"30\": {\"30\": 57, \"23\": 1}, \"15\": {\"15\": 60}, \"20\": {\"20\": 60}, \"33\": {\"33\": 58, \"10\": 1, \"16\": 1}, \"6\": {\"6\": 56, \"2\": 2}, \"17\": {\"17\": 56, \"32\": 1, \"1\": 1, \"21\": 2}, \"11\": {\"11\": 51, \"30\": 1, \"22\": 2}, \"16\": {\"16\": 58}, \"1\": {\"1\": 53, \"32\": 1, \"31\": 1, \"9\": 1}, \"14\": {\"14\": 60}, \"9\": {\"9\": 58, \"0\": 1, \"4\": 1}, \"7\": {\"7\": 53, \"27\": 1, \"4\": 1, \"20\": 2, \"10\": 1, \"26\": 1, \"24\": 1}, \"24\": {\"24\": 56}, \"22\": {\"22\": 57, \"21\": 1, \"17\": 1, \"6\": 1}, \"21\": {\"9\": 1, \"21\": 47, \"20\": 1, \"4\": 1}, \"8\": {\"8\": 58, \"6\": 1, \"7\": 1}, \"3\": {\"3\": 42, \"7\": 1, \"1\": 1, \"22\": 1, \"10\": 1, \"30\": 1, \"17\": 1}, \"12\": {\"12\": 59, \"11\": 1}, \"25\": {\"25\": 54}, \"10\": {\"10\": 58, \"22\": 1, \"11\": 1}, \"31\": {\"31\": 55, \"25\": 1}, \"19\": {\"25\": 1, \"19\": 58, \"4\": 1}, \"5\": {\"5\": 56, \"30\": 1, \"27\": 1}, \"0\": {\"0\": 50}, \"13\": {\"13\": 45, \"4\": 1, \"0\": 1, \"31\": 1}}, \"W_A_4\": {\"29\": {\"29\": 10}, \"67\": {\"67\": 12}, \"33\": {\"33\": 10, \"52\": 1, \"78\": 1}, \"18\": {\"18\": 9, \"14\": 2, \"61\": 1}, \"70\": {\"70\": 11, \"12\": 1}, \"52\": {\"52\": 12}, \"74\": {\"74\": 12}, \"50\": {\"50\": 12}, \"51\": {\"51\": 10, \"21\": 1, \"69\": 1}, \"68\": {\"68\": 12}, \"49\": {\"49\": 12}, \"21\": {\"21\": 12}, \"34\": {\"34\": 8, \"79\": 1, \"8\": 1}, \"69\": {\"69\": 11, \"63\": 1}, \"11\": {\"11\": 12}, \"27\": {\"27\": 10, \"32\": 2}, \"22\": {\"22\": 10, \"7\": 1, \"10\": 1}, \"76\": {\"76\": 12}, \"31\": {\"31\": 12}, \"43\": {\"69\": 1, \"43\": 8, \"21\": 1}, \"63\": {\"69\": 1, \"63\": 8, \"55\": 1, \"48\": 1, \"17\": 1}, \"14\": {\"14\": 12}, \"39\": {\"39\": 11, \"30\": 1}, \"59\": {\"59\": 12}, \"9\": {\"9\": 11, \"42\": 1}, \"57\": {\"57\": 8, \"34\": 2, \"78\": 1, \"80\": 1}, \"23\": {\"23\": 12}, \"41\": {\"41\": 12}, \"35\": {\"70\": 1, \"75\": 1, \"35\": 9, \"71\": 1}, \"60\": {\"60\": 12}, \"4\": {\"4\": 12}, \"75\": {\"75\": 12}, \"48\": {\"6\": 1, \"48\": 9, \"67\": 1, \"18\": 1}, \"5\": {\"5\": 10}, \"40\": {\"40\": 8}, \"6\": {\"6\": 12}, \"58\": {\"58\": 12}, \"62\": {\"62\": 12}, \"32\": {\"32\": 12}, \"73\": {\"73\": 9, \"6\": 1}, \"26\": {\"26\": 12}, \"71\": {\"71\": 12}, \"44\": {\"44\": 10, \"6\": 1, \"54\": 1}, \"80\": {\"80\": 12}, \"47\": {\"47\": 12}, \"16\": {\"16\": 12}, \"12\": {\"12\": 5, \"69\": 1, \"30\": 1, \"15\": 1, \"48\": 1, \"79\": 1, \"82\": 1, \"19\": 1}, \"25\": {\"25\": 12}, \"17\": {\"17\": 12}, \"10\": {\"10\": 12}, \"81\": {\"81\": 12}, \"37\": {\"37\": 10, \"10\": 2}, \"66\": {\"66\": 11, \"9\": 1}, \"55\": {\"55\": 12}, \"56\": {\"56\": 10, \"0\": 1, \"75\": 1}, \"7\": {\"7\": 12}, \"77\": {\"77\": 9, \"45\": 1, \"79\": 1, \"41\": 1}, \"42\": {\"42\": 12}, \"53\": {\"53\": 11, \"36\": 1}, \"78\": {\"78\": 12}, \"24\": {\"24\": 8}, \"20\": {\"20\": 12}, \"38\": {\"38\": 10, \"15\": 1, \"77\": 1}, \"45\": {\"45\": 12}, \"54\": {\"54\": 11, \"79\": 1}, \"13\": {\"13\": 11, \"4\": 1}, \"28\": {\"28\": 12}, \"79\": {\"79\": 12}, \"61\": {\"61\": 12}, \"0\": {\"0\": 10}, \"46\": {\"46\": 11, \"79\": 1}, \"36\": {\"36\": 10}, \"2\": {\"2\": 12}, \"65\": {\"65\": 10}, \"3\": {\"3\": 10}, \"64\": {\"64\": 12}, \"15\": {\"15\": 12}, \"30\": {\"30\": 8, \"79\": 2, \"73\": 1, \"22\": 1}, \"19\": {\"19\": 12}, \"1\": {\"1\": 12}, \"82\": {\"82\": 10}, \"72\": {\"72\": 9, \"12\": 1}, \"8\": {\"8\": 8}}, \"W_C_1\": {\"2\": {\"2\": 117, \"1\": 1, \"10\": 1, \"9\": 1}, \"1\": {\"1\": 119, \"9\": 1}, \"10\": {\"10\": 120}, \"0\": {\"0\": 120}, \"5\": {\"5\": 120}, \"12\": {\"12\": 120}, \"9\": {\"9\": 118, \"0\": 2}, \"11\": {\"11\": 120}, \"6\": {\"6\": 119, \"0\": 1}, \"7\": {\"7\": 120}, \"4\": {\"4\": 120}, \"3\": {\"3\": 120}, \"8\": {\"8\": 118, \"10\": 1, \"9\": 1}}, \"C_B_1\": {\"3\": {\"3\": 98}, \"6\": {\"6\": 112}, \"1\": {\"1\": 102}, \"5\": {\"5\": 92}, \"17\": {\"17\": 112}, \"4\": {\"4\": 106}, \"7\": {\"7\": 120}, \"15\": {\"15\": 106}, \"14\": {\"14\": 114}, \"9\": {\"9\": 110}, \"16\": {\"16\": 100}, \"2\": {\"2\": 106}, \"10\": {\"10\": 104}, \"11\": {\"11\": 108}, \"8\": {\"8\": 104}, \"0\": {\"0\": 120}, \"13\": {\"13\": 106}, \"12\": {\"12\": 104}}, \"C_B_5\": {\"8\": {\"8\": 112}, \"0\": {\"0\": 120}, \"7\": {\"7\": 116}, \"17\": {\"17\": 120}, \"5\": {\"5\": 96}, \"6\": {\"6\": 116}, \"12\": {\"12\": 104}, \"4\": {\"4\": 114}, \"9\": {\"9\": 118}, \"3\": {\"3\": 114}, \"11\": {\"11\": 110}, \"14\": {\"14\": 112}, \"10\": {\"10\": 118}, \"1\": {\"1\": 110}, \"16\": {\"16\": 112}, \"2\": {\"2\": 98}, \"15\": {\"15\": 118}, \"13\": {\"13\": 119, \"7\": 1}}, \"C_A_1\": {\"7\": {\"7\": 12}, \"11\": {\"11\": 12}, \"9\": {\"9\": 10}, \"4\": {\"4\": 12}, \"35\": {\"35\": 7, \"23\": 2, \"34\": 1, \"38\": 2}, \"38\": {\"38\": 12}, \"36\": {\"36\": 12}, \"13\": {\"13\": 10}, \"34\": {\"34\": 12}, \"31\": {\"31\": 12}, \"25\": {\"25\": 10}, \"30\": {\"30\": 12}, \"18\": {\"18\": 12}, \"3\": {\"3\": 10}, \"10\": {\"10\": 12}, \"26\": {\"26\": 10}, \"27\": {\"27\": 12}, \"32\": {\"32\": 8}, \"12\": {\"12\": 12}, \"22\": {\"22\": 12}, \"21\": {\"21\": 12}, \"20\": {\"20\": 12}, \"23\": {\"23\": 12}, \"15\": {\"15\": 12}, \"28\": {\"28\": 12}, \"1\": {\"1\": 10}, \"2\": {\"2\": 10}, \"33\": {\"33\": 10}, \"37\": {\"37\": 12}, \"17\": {\"17\": 12}, \"16\": {\"16\": 10}, \"29\": {\"29\": 12}, \"6\": {\"6\": 8}, \"8\": {\"8\": 12}, \"24\": {\"24\": 12}, \"39\": {\"39\": 10}, \"14\": {\"14\": 12}, \"19\": {\"19\": 10}, \"5\": {\"5\": 8}, \"0\": {\"0\": 8}}, \"C_B_4\": {\"8\": {\"8\": 110}, \"11\": {\"11\": 118}, \"6\": {\"6\": 112}, \"10\": {\"10\": 120}, \"15\": {\"15\": 112}, \"1\": {\"1\": 116}, \"2\": {\"2\": 118}, \"16\": {\"16\": 116}, \"0\": {\"0\": 120}, \"5\": {\"5\": 112}, \"7\": {\"7\": 110}, \"4\": {\"4\": 116}, \"17\": {\"17\": 106}, \"9\": {\"9\": 104}, \"14\": {\"14\": 104}, \"3\": {\"3\": 106}, \"13\": {\"13\": 112}, \"12\": {\"12\": 116}}, \"C_A_5\": {\"36\": {\"36\": 12}, \"6\": {\"6\": 10}, \"25\": {\"25\": 12}, \"16\": {\"16\": 12}, \"14\": {\"14\": 10}, \"38\": {\"38\": 10}, \"35\": {\"26\": 2, \"35\": 8, \"16\": 2}, \"15\": {\"15\": 12}, \"26\": {\"26\": 12}, \"37\": {\"37\": 12}, \"24\": {\"24\": 12}, \"2\": {\"2\": 10}, \"20\": {\"20\": 12}, \"17\": {\"17\": 12}, \"32\": {\"32\": 12}, \"10\": {\"10\": 12}, \"12\": {\"12\": 8}, \"33\": {\"33\": 12}, \"11\": {\"11\": 10}, \"9\": {\"9\": 12}, \"23\": {\"23\": 12}, \"3\": {\"3\": 12}, \"4\": {\"4\": 12}, \"29\": {\"29\": 12}, \"8\": {\"8\": 12}, \"27\": {\"27\": 10}, \"34\": {\"34\": 10}, \"30\": {\"30\": 12}, \"0\": {\"0\": 12}, \"31\": {\"31\": 12}, \"13\": {\"13\": 10}, \"1\": {\"1\": 12}, \"21\": {\"21\": 12}, \"5\": {\"5\": 8}, \"39\": {\"39\": 12}, \"7\": {\"7\": 12}, \"19\": {\"19\": 10}, \"22\": {\"22\": 10}, \"18\": {\"18\": 6}, \"28\": {\"28\": 8}}, \"W_B_2\": {\"24\": {\"24\": 57, \"9\": 1, \"4\": 1, \"20\": 1}, \"23\": {\"23\": 46}, \"30\": {\"30\": 45, \"7\": 1, \"12\": 1, \"14\": 1, \"31\": 1, \"17\": 4, \"23\": 2, \"6\": 1, \"10\": 1, \"5\": 1, \"0\": 2}, \"5\": {\"5\": 54, \"2\": 1, \"9\": 1}, \"26\": {\"26\": 59, \"17\": 1}, \"3\": {\"3\": 60}, \"7\": {\"7\": 55, \"21\": 1, \"17\": 1, \"20\": 1}, \"4\": {\"4\": 58, \"17\": 1, \"10\": 1}, \"28\": {\"28\": 55, \"10\": 1}, \"29\": {\"29\": 57, \"1\": 1, \"10\": 2}, \"32\": {\"32\": 54, \"10\": 1, \"8\": 1, \"5\": 1, \"1\": 1}, \"27\": {\"27\": 57, \"22\": 1}, \"12\": {\"12\": 54, \"10\": 1, \"20\": 2, \"21\": 1}, \"18\": {\"18\": 58, \"20\": 1, \"4\": 1}, \"14\": {\"14\": 58}, \"1\": {\"1\": 58, \"14\": 1, \"25\": 1}, \"10\": {\"10\": 56, \"30\": 1, \"5\": 1, \"13\": 1, \"15\": 1}, \"0\": {\"0\": 51, \"23\": 1, \"29\": 1, \"32\": 1, \"14\": 1, \"10\": 1, \"1\": 1, \"20\": 1}, \"21\": {\"24\": 1, \"21\": 57, \"20\": 1, \"9\": 1}, \"15\": {\"15\": 49, \"9\": 1, \"10\": 1, \"5\": 1}, \"9\": {\"9\": 59, \"20\": 1}, \"2\": {\"2\": 57, \"22\": 1, \"13\": 1, \"0\": 1}, \"31\": {\"31\": 55, \"12\": 1, \"6\": 1, \"25\": 1}, \"25\": {\"25\": 54}, \"16\": {\"16\": 59, \"32\": 1}, \"20\": {\"20\": 53, \"4\": 1}, \"8\": {\"8\": 55, \"10\": 1}, \"6\": {\"6\": 52}, \"22\": {\"22\": 53, \"6\": 1}, \"33\": {\"33\": 55, \"2\": 1}, \"19\": {\"19\": 55, \"21\": 1, \"24\": 1, \"9\": 1}, \"13\": {\"13\": 59, \"10\": 1}, \"17\": {\"17\": 59, \"5\": 1}, \"11\": {\"30\": 1, \"11\": 47, \"5\": 1, \"3\": 1}}, \"C_A_4\": {\"15\": {\"15\": 12}, \"7\": {\"7\": 12}, \"4\": {\"4\": 10}, \"38\": {\"38\": 12}, \"2\": {\"2\": 10}, \"9\": {\"9\": 12}, \"8\": {\"8\": 12}, \"12\": {\"12\": 10}, \"6\": {\"6\": 12}, \"3\": {\"3\": 10}, \"11\": {\"11\": 12}, \"34\": {\"34\": 12}, \"24\": {\"24\": 12}, \"22\": {\"22\": 12}, \"31\": {\"31\": 12}, \"21\": {\"21\": 12}, \"29\": {\"29\": 12}, \"26\": {\"26\": 12}, \"16\": {\"16\": 10}, \"33\": {\"33\": 12}, \"27\": {\"27\": 10}, \"13\": {\"13\": 12}, \"1\": {\"1\": 12}, \"14\": {\"14\": 10}, \"30\": {\"30\": 7, \"31\": 1}, \"28\": {\"28\": 8}, \"20\": {\"20\": 8}, \"10\": {\"10\": 12}, \"23\": {\"23\": 12}, \"5\": {\"5\": 12}, \"25\": {\"25\": 12}, \"19\": {\"19\": 12}, \"18\": {\"18\": 8}, \"37\": {\"37\": 12}, \"35\": {\"23\": 1, \"35\": 6, \"28\": 1}, \"36\": {\"36\": 12}, \"0\": {\"0\": 12}, \"32\": {\"32\": 12}, \"39\": {\"39\": 12}, \"17\": {\"17\": 8}}, \"W_C_4\": {\"1\": {\"1\": 115, \"5\": 2, \"0\": 1, \"9\": 2}, \"7\": {\"7\": 118, \"10\": 2}, \"11\": {\"11\": 120}, \"12\": {\"12\": 119, \"5\": 1}, \"10\": {\"10\": 120}, \"2\": {\"2\": 116, \"9\": 1, \"0\": 1, \"1\": 1, \"5\": 1}, \"6\": {\"6\": 118, \"3\": 1, \"9\": 1}, \"0\": {\"0\": 118, \"5\": 1, \"1\": 1}, \"3\": {\"3\": 119, \"8\": 1}, \"5\": {\"5\": 118, \"1\": 2}, \"8\": {\"8\": 117, \"10\": 2, \"9\": 1}, \"4\": {\"4\": 120}, \"9\": {\"9\": 117, \"1\": 2, \"5\": 1}}, \"W_A_2\": {\"27\": {\"27\": 10}, \"67\": {\"67\": 12}, \"56\": {\"36\": 1, \"13\": 1, \"56\": 5, \"49\": 1}, \"43\": {\"43\": 12}, \"76\": {\"76\": 12}, \"17\": {\"17\": 12}, \"82\": {\"82\": 11, \"67\": 1}, \"13\": {\"43\": 1, \"13\": 10, \"33\": 1}, \"33\": {\"33\": 12}, \"11\": {\"11\": 12}, \"50\": {\"50\": 12}, \"36\": {\"36\": 12}, \"32\": {\"32\": 9, \"33\": 1}, \"73\": {\"73\": 10, \"66\": 1, \"49\": 1}, \"60\": {\"60\": 8}, \"30\": {\"30\": 11, \"51\": 1}, \"65\": {\"65\": 12}, \"9\": {\"9\": 12}, \"74\": {\"74\": 11, \"54\": 1}, \"53\": {\"53\": 12}, \"10\": {\"10\": 11, \"0\": 1}, \"49\": {\"49\": 9, \"62\": 1}, \"35\": {\"35\": 12}, \"25\": {\"25\": 12}, \"0\": {\"0\": 12}, \"21\": {\"21\": 12}, \"55\": {\"55\": 12}, \"54\": {\"54\": 11, \"22\": 1}, \"48\": {\"48\": 10}, \"63\": {\"63\": 10, \"47\": 1, \"36\": 1}, \"22\": {\"22\": 8, \"65\": 2}, \"45\": {\"45\": 12}, \"61\": {\"61\": 12}, \"8\": {\"8\": 12}, \"79\": {\"79\": 10, \"23\": 1, \"34\": 1}, \"47\": {\"47\": 12}, \"78\": {\"78\": 11, \"82\": 1}, \"77\": {\"77\": 12}, \"72\": {\"72\": 12}, \"64\": {\"64\": 11, \"44\": 1}, \"52\": {\"52\": 12}, \"18\": {\"18\": 12}, \"15\": {\"15\": 12}, \"69\": {\"69\": 10}, \"44\": {\"44\": 12}, \"57\": {\"57\": 11, \"36\": 1}, \"28\": {\"28\": 12}, \"42\": {\"42\": 11, \"70\": 1}, \"66\": {\"66\": 6}, \"5\": {\"5\": 12}, \"31\": {\"31\": 10, \"54\": 1, \"68\": 1}, \"70\": {\"70\": 11, \"71\": 1}, \"7\": {\"7\": 12}, \"59\": {\"59\": 11, \"2\": 1}, \"38\": {\"38\": 9, \"75\": 1}, \"12\": {\"13\": 2, \"12\": 8}, \"58\": {\"58\": 12}, \"23\": {\"23\": 11, \"19\": 1}, \"4\": {\"4\": 10}, \"19\": {\"19\": 12}, \"62\": {\"62\": 12}, \"24\": {\"24\": 12}, \"1\": {\"44\": 1, \"1\": 10, \"30\": 1}, \"71\": {\"71\": 12}, \"46\": {\"46\": 10, \"26\": 1, \"54\": 1}, \"51\": {\"51\": 10}, \"75\": {\"75\": 11, \"82\": 1}, \"39\": {\"39\": 11, \"35\": 1}, \"81\": {\"81\": 8}, \"40\": {\"40\": 10}, \"29\": {\"29\": 12}, \"26\": {\"26\": 11, \"41\": 1}, \"20\": {\"20\": 12}, \"3\": {\"3\": 12}, \"34\": {\"34\": 12}, \"41\": {\"41\": 12}, \"2\": {\"2\": 12}, \"68\": {\"68\": 12}, \"37\": {\"37\": 12}, \"16\": {\"16\": 7, \"1\": 1}, \"14\": {\"14\": 5, \"39\": 1, \"80\": 1, \"0\": 1, \"25\": 1, \"69\": 1}, \"80\": {\"80\": 6}, \"6\": {\"6\": 3, \"79\": 1}}, \"C_B_2\": {\"3\": {\"3\": 114}, \"15\": {\"15\": 114}, \"16\": {\"16\": 120}, \"4\": {\"4\": 116}, \"6\": {\"6\": 108}, \"8\": {\"8\": 112}, \"13\": {\"13\": 112}, \"5\": {\"5\": 120}, \"12\": {\"12\": 110}, \"2\": {\"2\": 108}, \"1\": {\"1\": 120}, \"10\": {\"10\": 110}, \"7\": {\"7\": 112}, \"0\": {\"0\": 112}, \"14\": {\"14\": 120}, \"17\": {\"17\": 116}, \"9\": {\"9\": 116}, \"11\": {\"11\": 114}}, \"W_C_2\": {\"7\": {\"7\": 117, \"9\": 2, \"2\": 1}, \"8\": {\"8\": 117, \"10\": 2, \"1\": 1}, \"0\": {\"0\": 117, \"5\": 2, \"7\": 1}, \"12\": {\"12\": 118, \"7\": 2}, \"5\": {\"5\": 117, \"10\": 2, \"9\": 1}, \"11\": {\"11\": 119, \"9\": 1}, \"1\": {\"1\": 112, \"10\": 2, \"5\": 2, \"9\": 2, \"2\": 1, \"7\": 1}, \"9\": {\"9\": 116, \"5\": 2, \"1\": 1, \"2\": 1}, \"10\": {\"10\": 118, \"1\": 1, \"9\": 1}, \"6\": {\"6\": 116, \"1\": 3, \"8\": 1}, \"4\": {\"4\": 114, \"9\": 2, \"7\": 1, \"1\": 2, \"5\": 1}, \"3\": {\"3\": 120}, \"2\": {\"2\": 110, \"1\": 2, \"5\": 1, \"0\": 1, \"9\": 4, \"8\": 1, \"10\": 1}}, \"C_A_2\": {\"2\": {\"2\": 12}, \"24\": {\"24\": 12}, \"7\": {\"7\": 12}, \"27\": {\"27\": 12}, \"36\": {\"36\": 10}, \"11\": {\"11\": 12}, \"34\": {\"34\": 6}, \"20\": {\"20\": 10}, \"9\": {\"9\": 12}, \"3\": {\"3\": 12}, \"28\": {\"28\": 12}, \"17\": {\"17\": 12}, \"31\": {\"31\": 12}, \"1\": {\"1\": 6}, \"12\": {\"12\": 10}, \"5\": {\"5\": 12}, \"19\": {\"19\": 12}, \"37\": {\"37\": 12}, \"4\": {\"4\": 12}, \"39\": {\"39\": 10}, \"23\": {\"23\": 8}, \"38\": {\"38\": 10}, \"30\": {\"30\": 10}, \"33\": {\"33\": 12}, \"25\": {\"25\": 12}, \"35\": {\"35\": 10}, \"18\": {\"18\": 12}, \"29\": {\"29\": 12}, \"21\": {\"21\": 8}, \"0\": {\"0\": 12}, \"8\": {\"8\": 12}, \"32\": {\"32\": 10}, \"22\": {\"22\": 10}, \"6\": {\"6\": 8}, \"26\": {\"26\": 8}, \"15\": {\"15\": 12}, \"13\": {\"13\": 6}, \"16\": {\"16\": 8}, \"10\": {\"10\": 8}, \"14\": {\"14\": 8}}, \"ORACLE.run1_14\": {\"13\": {\"6\": 31, \"13\": 51, \"2\": 38, \"5\": 15, \"3\": 13, \"7\": 15, \"14\": 23, \"1\": 10, \"10\": 9, \"15\": 14, \"4\": 9, \"11\": 2, \"0\": 4}, \"9\": {\"11\": 41, \"9\": 91, \"2\": 1, \"8\": 13, \"12\": 35, \"10\": 13, \"0\": 25, \"3\": 8, \"1\": 2, \"14\": 2, \"4\": 1}, \"12\": {\"12\": 142, \"11\": 13, \"9\": 50, \"8\": 1, \"0\": 1, \"10\": 3}, \"11\": {\"11\": 78, \"3\": 13, \"12\": 11, \"14\": 10, \"9\": 42, \"10\": 19, \"0\": 31, \"8\": 7, \"4\": 1, \"6\": 1, \"2\": 2, \"5\": 1}, \"15\": {\"7\": 41, \"15\": 84, \"1\": 10, \"6\": 16, \"3\": 4, \"2\": 17, \"5\": 16, \"13\": 13, \"4\": 13, \"14\": 1, \"10\": 1}, \"3\": {\"10\": 18, \"3\": 31, \"1\": 22, \"2\": 18, \"0\": 15, \"6\": 20, \"11\": 6, \"5\": 22, \"14\": 21, \"8\": 13, \"4\": 15, \"7\": 9, \"13\": 14, \"15\": 3, \"9\": 1}, \"4\": {\"1\": 34, \"7\": 18, \"4\": 43, \"15\": 9, \"10\": 9, \"3\": 21, \"2\": 17, \"14\": 9, \"5\": 18, \"6\": 9, \"13\": 21, \"0\": 2, \"8\": 4}, \"10\": {\"10\": 40, \"6\": 6, \"3\": 26, \"0\": 23, \"1\": 10, \"14\": 26, \"8\": 6, \"5\": 12, \"9\": 4, \"7\": 6, \"4\": 14, \"13\": 10, \"11\": 11, \"2\": 12, \"15\": 2}, \"8\": {\"10\": 15, \"8\": 93, \"1\": 18, \"5\": 11, \"9\": 18, \"3\": 20, \"4\": 19, \"7\": 6, \"0\": 23, \"14\": 2, \"11\": 9, \"13\": 2, \"2\": 2, \"6\": 2}, \"0\": {\"4\": 8, \"0\": 56, \"3\": 22, \"1\": 3, \"13\": 3, \"11\": 35, \"10\": 27, \"9\": 16, \"8\": 13, \"14\": 16, \"2\": 11, \"6\": 6, \"12\": 2, \"5\": 6}, \"6\": {\"13\": 33, \"6\": 46, \"4\": 14, \"3\": 13, \"2\": 22, \"7\": 18, \"5\": 22, \"14\": 14, \"10\": 12, \"1\": 10, \"15\": 8, \"0\": 3, \"8\": 1}, \"7\": {\"13\": 16, \"6\": 11, \"7\": 61, \"15\": 36, \"5\": 26, \"3\": 8, \"4\": 19, \"2\": 19, \"1\": 29, \"10\": 6, \"0\": 1, \"14\": 4}, \"1\": {\"1\": 58, \"6\": 5, \"3\": 27, \"2\": 13, \"7\": 31, \"5\": 28, \"4\": 21, \"8\": 14, \"10\": 11, \"15\": 8, \"13\": 2, \"14\": 4}, \"5\": {\"14\": 12, \"10\": 12, \"8\": 12, \"3\": 12, \"5\": 36, \"1\": 29, \"4\": 21, \"7\": 27, \"6\": 17, \"2\": 22, \"15\": 9, \"11\": 4, \"13\": 12, \"0\": 7}, \"14\": {\"14\": 43, \"10\": 22, \"3\": 18, \"5\": 12, \"2\": 22, \"7\": 6, \"1\": 8, \"6\": 19, \"0\": 16, \"13\": 31, \"4\": 14, \"11\": 10, \"15\": 5}, \"2\": {\"6\": 23, \"4\": 17, \"2\": 28, \"10\": 20, \"15\": 6, \"5\": 25, \"1\": 17, \"3\": 18, \"14\": 23, \"7\": 13, \"0\": 8, \"13\": 31, \"11\": 3, \"8\": 2}}, \"ORACLE.run1_38\": {\"9\": {\"9\": 80, \"6\": 58, \"0\": 11, \"7\": 11, \"3\": 27, \"5\": 20, \"1\": 2, \"13\": 5, \"8\": 1, \"15\": 1}, \"4\": {\"3\": 2, \"4\": 121, \"10\": 21, \"12\": 36, \"11\": 6, \"7\": 15, \"0\": 16, \"8\": 8, \"15\": 3, \"13\": 3, \"2\": 3, \"14\": 3, \"5\": 1}, \"1\": {\"15\": 32, \"8\": 17, \"7\": 2, \"1\": 69, \"13\": 40, \"5\": 21, \"0\": 8, \"6\": 18, \"2\": 3, \"10\": 8, \"3\": 4, \"9\": 6}, \"5\": {\"6\": 34, \"7\": 24, \"0\": 33, \"1\": 21, \"5\": 32, \"8\": 28, \"9\": 11, \"3\": 14, \"11\": 1, \"15\": 16, \"4\": 2, \"10\": 8, \"13\": 9, \"2\": 1}, \"15\": {\"1\": 26, \"8\": 22, \"10\": 23, \"2\": 14, \"0\": 15, \"13\": 37, \"5\": 21, \"7\": 5, \"9\": 1, \"15\": 51, \"11\": 2, \"6\": 3, \"3\": 1, \"14\": 3, \"12\": 2}, \"3\": {\"3\": 65, \"7\": 15, \"5\": 25, \"8\": 16, \"6\": 27, \"0\": 24, \"9\": 40, \"1\": 2, \"15\": 2}, \"6\": {\"7\": 9, \"9\": 51, \"3\": 18, \"6\": 80, \"0\": 10, \"8\": 9, \"1\": 20, \"5\": 30, \"13\": 5, \"15\": 3, \"10\": 1}, \"13\": {\"13\": 43, \"15\": 33, \"0\": 15, \"10\": 27, \"1\": 34, \"5\": 16, \"6\": 8, \"2\": 16, \"14\": 6, \"8\": 18, \"4\": 2, \"9\": 4, \"7\": 5, \"3\": 2, \"11\": 1}, \"12\": {\"8\": 8, \"12\": 111, \"14\": 23, \"15\": 5, \"4\": 47, \"2\": 13, \"10\": 10, \"0\": 6, \"11\": 6, \"7\": 1, \"13\": 3, \"5\": 1}, \"7\": {\"5\": 26, \"3\": 20, \"7\": 54, \"9\": 23, \"8\": 21, \"6\": 14, \"0\": 38, \"10\": 10, \"15\": 8, \"4\": 5, \"12\": 1, \"13\": 6}, \"14\": {\"14\": 96, \"2\": 45, \"10\": 7, \"11\": 46, \"13\": 9, \"12\": 18, \"0\": 2, \"1\": 1, \"15\": 2, \"4\": 1, \"8\": 1}, \"2\": {\"2\": 104, \"15\": 19, \"11\": 23, \"14\": 32, \"10\": 13, \"8\": 2, \"12\": 2, \"13\": 18, \"1\": 6, \"0\": 3, \"6\": 1, \"5\": 2, \"4\": 1}, \"8\": {\"7\": 23, \"8\": 41, \"14\": 1, \"13\": 14, \"4\": 4, \"15\": 20, \"0\": 34, \"5\": 26, \"1\": 10, \"3\": 16, \"10\": 12, \"2\": 1, \"6\": 14, \"12\": 4, \"9\": 4}, \"10\": {\"14\": 11, \"2\": 22, \"10\": 59, \"13\": 20, \"15\": 17, \"5\": 11, \"7\": 11, \"3\": 3, \"8\": 26, \"12\": 4, \"4\": 9, \"0\": 18, \"1\": 7, \"11\": 6}, \"11\": {\"2\": 29, \"11\": 100, \"14\": 82, \"0\": 1, \"12\": 13, \"15\": 2, \"13\": 2, \"10\": 7, \"4\": 2, \"1\": 1, \"8\": 1}, \"0\": {\"7\": 33, \"5\": 33, \"8\": 38, \"0\": 43, \"4\": 8, \"3\": 22, \"15\": 11, \"13\": 10, \"9\": 5, \"10\": 15, \"6\": 9, \"1\": 9, \"2\": 2, \"11\": 1, \"14\": 1}}, \"ORACLE.run1_26\": {\"12\": {\"12\": 115, \"6\": 18, \"15\": 11, \"0\": 9, \"11\": 47, \"13\": 3, \"8\": 6, \"10\": 14, \"7\": 2, \"9\": 3, \"2\": 1, \"4\": 3, \"14\": 2, \"1\": 1, \"5\": 1}, \"0\": {\"10\": 23, \"14\": 19, \"4\": 21, \"9\": 12, \"0\": 20, \"12\": 6, \"13\": 10, \"1\": 20, \"6\": 17, \"8\": 19, \"2\": 16, \"11\": 3, \"5\": 8, \"7\": 16, \"15\": 16, \"3\": 6}, \"5\": {\"7\": 18, \"8\": 21, \"15\": 16, \"0\": 6, \"3\": 18, \"2\": 30, \"1\": 7, \"9\": 29, \"13\": 17, \"5\": 29, \"4\": 14, \"10\": 10, \"14\": 6, \"6\": 5, \"12\": 2}, \"15\": {\"8\": 22, \"2\": 18, \"4\": 12, \"15\": 22, \"5\": 17, \"6\": 13, \"12\": 3, \"10\": 17, \"0\": 20, \"14\": 10, \"9\": 22, \"7\": 14, \"13\": 18, \"3\": 13, \"11\": 2, \"1\": 5}, \"3\": {\"2\": 35, \"3\": 49, \"15\": 9, \"13\": 10, \"8\": 20, \"5\": 19, \"4\": 17, \"0\": 9, \"1\": 13, \"7\": 25, \"14\": 13, \"9\": 14, \"6\": 2, \"10\": 3}, \"4\": {\"0\": 21, \"2\": 16, \"15\": 11, \"4\": 29, \"14\": 21, \"1\": 16, \"3\": 14, \"7\": 16, \"10\": 20, \"5\": 8, \"9\": 11, \"6\": 14, \"8\": 21, \"13\": 2}, \"10\": {\"3\": 9, \"6\": 15, \"14\": 23, \"2\": 16, \"1\": 13, \"9\": 17, \"15\": 19, \"7\": 10, \"13\": 11, \"0\": 21, \"12\": 2, \"8\": 21, \"5\": 5, \"10\": 27, \"4\": 8, \"11\": 5}, \"7\": {\"2\": 23, \"7\": 18, \"4\": 16, \"0\": 13, \"8\": 20, \"3\": 25, \"10\": 16, \"13\": 11, \"14\": 21, \"1\": 12, \"6\": 12, \"9\": 13, \"5\": 19, \"15\": 11}, \"14\": {\"2\": 13, \"8\": 24, \"6\": 13, \"4\": 18, \"0\": 22, \"10\": 25, \"1\": 16, \"3\": 9, \"13\": 9, \"14\": 23, \"5\": 9, \"9\": 12, \"15\": 17, \"7\": 12, \"12\": 2}, \"2\": {\"2\": 42, \"8\": 15, \"3\": 35, \"1\": 11, \"15\": 18, \"6\": 5, \"14\": 12, \"10\": 10, \"7\": 15, \"5\": 25, \"4\": 15, \"9\": 7, \"0\": 6, \"13\": 15, \"11\": 1}, \"9\": {\"9\": 32, \"10\": 14, \"15\": 20, \"3\": 13, \"2\": 14, \"7\": 18, \"1\": 7, \"5\": 14, \"0\": 7, \"13\": 18, \"6\": 14, \"14\": 6, \"4\": 16, \"8\": 17, \"11\": 2, \"12\": 2}, \"13\": {\"8\": 18, \"5\": 22, \"7\": 19, \"2\": 27, \"0\": 10, \"4\": 4, \"9\": 23, \"15\": 19, \"13\": 46, \"10\": 13, \"3\": 10, \"11\": 3, \"14\": 3, \"1\": 8, \"6\": 11}, \"8\": {\"0\": 23, \"7\": 12, \"10\": 25, \"8\": 28, \"3\": 12, \"14\": 18, \"15\": 20, \"9\": 12, \"11\": 3, \"2\": 13, \"5\": 9, \"1\": 18, \"6\": 15, \"4\": 14, \"13\": 9, \"12\": 3}, \"6\": {\"10\": 21, \"0\": 19, \"2\": 15, \"8\": 22, \"15\": 13, \"12\": 8, \"4\": 14, \"13\": 8, \"14\": 16, \"11\": 10, \"6\": 25, \"3\": 2, \"9\": 12, \"1\": 4, \"5\": 7, \"7\": 4}, \"1\": {\"4\": 21, \"14\": 24, \"2\": 23, \"1\": 16, \"3\": 20, \"5\": 10, \"6\": 11, \"15\": 8, \"7\": 9, \"10\": 13, \"11\": 2, \"9\": 8, \"0\": 17, \"8\": 14, \"13\": 4}, \"11\": {\"2\": 1, \"6\": 13, \"15\": 10, \"11\": 119, \"13\": 13, \"12\": 43, \"8\": 4, \"9\": 12, \"10\": 13, \"14\": 5, \"0\": 2, \"5\": 2, \"4\": 1, \"1\": 2}}, \"ORACLE.run1_50\": {\"6\": {\"4\": 19, \"1\": 32, \"13\": 29, \"5\": 28, \"0\": 13, \"11\": 5, \"7\": 17, \"14\": 10, \"15\": 18, \"6\": 39, \"8\": 3, \"10\": 12, \"3\": 1, \"2\": 4, \"12\": 1, \"9\": 1}, \"9\": {\"15\": 9, \"9\": 92, \"11\": 58, \"12\": 45, \"14\": 18, \"4\": 6, \"1\": 10}, \"3\": {\"3\": 163, \"8\": 53, \"10\": 14, \"7\": 6, \"0\": 2, \"13\": 2}, \"8\": {\"3\": 42, \"8\": 120, \"13\": 11, \"10\": 27, \"6\": 6, \"0\": 12, \"7\": 14, \"5\": 4, \"2\": 1, \"4\": 1}, \"13\": {\"15\": 14, \"5\": 29, \"7\": 32, \"6\": 34, \"13\": 41, \"2\": 5, \"4\": 23, \"10\": 26, \"0\": 12, \"1\": 14, \"8\": 8, \"14\": 1, \"11\": 1}, \"1\": {\"1\": 30, \"6\": 21, \"15\": 38, \"11\": 23, \"13\": 13, \"4\": 29, \"5\": 19, \"14\": 14, \"0\": 9, \"2\": 11, \"9\": 14, \"7\": 6, \"12\": 4, \"10\": 5}, \"7\": {\"7\": 55, \"6\": 15, \"4\": 11, \"13\": 30, \"15\": 12, \"10\": 28, \"1\": 11, \"3\": 5, \"0\": 16, \"5\": 27, \"11\": 2, \"8\": 16, \"14\": 2, \"2\": 2}, \"14\": {\"9\": 26, \"6\": 4, \"4\": 11, \"14\": 62, \"11\": 26, \"0\": 8, \"1\": 21, \"12\": 26, \"5\": 3, \"2\": 13, \"7\": 2, \"15\": 14, \"13\": 2}, \"0\": {\"1\": 16, \"7\": 13, \"13\": 19, \"0\": 74, \"10\": 29, \"5\": 16, \"8\": 10, \"4\": 9, \"14\": 11, \"6\": 4, \"2\": 30, \"15\": 4, \"9\": 1}, \"4\": {\"15\": 26, \"1\": 27, \"7\": 14, \"4\": 46, \"6\": 20, \"5\": 17, \"10\": 7, \"14\": 9, \"11\": 18, \"13\": 17, \"0\": 11, \"2\": 4, \"9\": 4, \"12\": 2}, \"5\": {\"6\": 26, \"0\": 14, \"13\": 20, \"3\": 2, \"10\": 24, \"12\": 2, \"5\": 43, \"15\": 20, \"2\": 2, \"1\": 13, \"11\": 10, \"4\": 27, \"7\": 24, \"8\": 3, \"14\": 3, \"9\": 1}, \"2\": {\"5\": 12, \"14\": 22, \"2\": 74, \"13\": 6, \"8\": 1, \"0\": 38, \"12\": 5, \"7\": 5, \"11\": 2, \"6\": 7, \"10\": 15, \"1\": 17, \"4\": 8, \"15\": 5, \"9\": 1}, \"15\": {\"5\": 17, \"9\": 8, \"4\": 25, \"0\": 2, \"1\": 40, \"11\": 18, \"15\": 59, \"6\": 25, \"13\": 6, \"7\": 7, \"12\": 8, \"14\": 9, \"2\": 2}, \"10\": {\"13\": 25, \"6\": 10, \"8\": 30, \"10\": 71, \"5\": 23, \"7\": 21, \"1\": 3, \"0\": 26, \"4\": 5, \"2\": 12, \"3\": 5, \"15\": 2, \"14\": 1}, \"11\": {\"11\": 71, \"12\": 43, \"9\": 42, \"6\": 3, \"14\": 24, \"1\": 20, \"4\": 13, \"15\": 17, \"5\": 4, \"2\": 2, \"13\": 1}, \"12\": {\"12\": 90, \"4\": 6, \"9\": 62, \"11\": 32, \"0\": 3, \"14\": 32, \"1\": 3, \"2\": 2, \"15\": 3, \"6\": 1}}, \"ORACLE.run1_44\": {\"5\": {\"0\": 49, \"5\": 74, \"14\": 24, \"8\": 35, \"15\": 32, \"4\": 18, \"9\": 1, \"13\": 1}, \"1\": {\"3\": 40, \"1\": 62, \"12\": 34, \"10\": 32, \"2\": 24, \"13\": 5, \"7\": 21, \"11\": 4, \"6\": 2, \"9\": 8}, \"13\": {\"11\": 20, \"13\": 59, \"9\": 34, \"3\": 6, \"6\": 38, \"10\": 9, \"14\": 9, \"7\": 24, \"2\": 21, \"4\": 7, \"5\": 2, \"12\": 1, \"1\": 2}, \"14\": {\"4\": 50, \"5\": 25, \"3\": 4, \"14\": 63, \"15\": 21, \"13\": 14, \"7\": 8, \"0\": 17, \"12\": 2, \"9\": 9, \"8\": 12, \"11\": 3, \"1\": 1, \"6\": 4, \"10\": 1}, \"0\": {\"8\": 43, \"0\": 70, \"5\": 37, \"14\": 17, \"15\": 46, \"4\": 11}, \"8\": {\"8\": 84, \"15\": 42, \"4\": 5, \"0\": 51, \"5\": 28, \"14\": 10}, \"10\": {\"10\": 62, \"3\": 20, \"7\": 19, \"2\": 36, \"12\": 42, \"9\": 9, \"1\": 29, \"13\": 4, \"6\": 4, \"11\": 5}, \"3\": {\"3\": 72, \"12\": 44, \"1\": 40, \"10\": 19, \"2\": 20, \"7\": 9, \"11\": 2, \"9\": 8, \"13\": 3, \"4\": 1}, \"4\": {\"0\": 21, \"5\": 19, \"13\": 17, \"4\": 72, \"14\": 48, \"15\": 26, \"8\": 8, \"7\": 4, \"11\": 1, \"6\": 5, \"2\": 3, \"9\": 11, \"3\": 1}, \"7\": {\"10\": 24, \"13\": 20, \"7\": 46, \"1\": 13, \"4\": 4, \"9\": 38, \"11\": 15, \"2\": 25, \"3\": 7, \"6\": 13, \"14\": 4, \"12\": 13}, \"6\": {\"6\": 61, \"7\": 24, \"9\": 28, \"13\": 38, \"2\": 22, \"3\": 4, \"11\": 21, \"10\": 6, \"1\": 4, \"4\": 7, \"12\": 4, \"14\": 3}, \"12\": {\"7\": 6, \"10\": 29, \"1\": 39, \"12\": 92, \"3\": 39, \"2\": 20, \"6\": 3, \"9\": 7, \"11\": 3, \"13\": 2}, \"11\": {\"13\": 30, \"9\": 22, \"11\": 86, \"1\": 6, \"2\": 15, \"6\": 28, \"10\": 13, \"7\": 27, \"12\": 4, \"0\": 1, \"14\": 1, \"4\": 2, \"3\": 1}, \"9\": {\"1\": 13, \"11\": 14, \"3\": 7, \"14\": 7, \"7\": 38, \"6\": 26, \"13\": 27, \"9\": 56, \"2\": 24, \"12\": 4, \"4\": 12, \"10\": 3, \"15\": 1}, \"15\": {\"0\": 31, \"14\": 37, \"15\": 58, \"4\": 35, \"5\": 30, \"8\": 33, \"9\": 1, \"3\": 1, \"13\": 2}, \"2\": {\"1\": 21, \"13\": 18, \"7\": 24, \"4\": 1, \"2\": 44, \"11\": 14, \"3\": 16, \"9\": 25, \"10\": 32, \"12\": 14, \"6\": 17}}, \"ORACLE.run1_32\": {\"4\": {\"15\": 1, \"7\": 31, \"8\": 13, \"13\": 24, \"14\": 19, \"5\": 15, \"0\": 22, \"2\": 37, \"4\": 41, \"9\": 6, \"11\": 9, \"12\": 1, \"3\": 3}, \"10\": {\"10\": 154, \"1\": 52, \"6\": 11, \"12\": 7}, \"13\": {\"7\": 18, \"13\": 41, \"0\": 23, \"8\": 24, \"14\": 17, \"3\": 24, \"5\": 29, \"11\": 9, \"2\": 17, \"4\": 19, \"9\": 3, \"15\": 6}, \"6\": {\"6\": 173, \"9\": 4, \"12\": 38, \"10\": 17, \"1\": 2}, \"5\": {\"2\": 21, \"4\": 23, \"0\": 27, \"5\": 33, \"3\": 20, \"13\": 30, \"8\": 23, \"11\": 10, \"14\": 19, \"7\": 25, \"15\": 2, \"9\": 1}, \"1\": {\"1\": 171, \"10\": 60, \"6\": 3}, \"14\": {\"13\": 13, \"4\": 10, \"11\": 38, \"2\": 10, \"7\": 39, \"5\": 19, \"0\": 23, \"14\": 52, \"3\": 12, \"8\": 14, \"15\": 1, \"9\": 1}, \"0\": {\"4\": 32, \"0\": 41, \"14\": 23, \"11\": 16, \"2\": 17, \"13\": 25, \"5\": 25, \"8\": 16, \"3\": 11, \"7\": 22, \"9\": 4}, \"7\": {\"5\": 27, \"4\": 29, \"2\": 28, \"13\": 20, \"7\": 33, \"11\": 22, \"3\": 18, \"8\": 22, \"0\": 22, \"14\": 17}, \"8\": {\"13\": 34, \"4\": 17, \"8\": 36, \"3\": 31, \"0\": 26, \"11\": 9, \"5\": 21, \"12\": 1, \"2\": 10, \"15\": 9, \"14\": 23, \"7\": 14, \"9\": 1}, \"11\": {\"14\": 36, \"8\": 26, \"4\": 5, \"11\": 73, \"3\": 17, \"5\": 14, \"7\": 24, \"0\": 19, \"13\": 11, \"2\": 3}, \"2\": {\"14\": 15, \"4\": 33, \"0\": 23, \"5\": 23, \"7\": 17, \"2\": 72, \"13\": 20, \"9\": 15, \"11\": 6, \"8\": 6}, \"15\": {\"13\": 6, \"15\": 152, \"3\": 34, \"0\": 2, \"8\": 20, \"7\": 2, \"5\": 4, \"11\": 5, \"14\": 5}, \"3\": {\"3\": 71, \"0\": 15, \"11\": 15, \"7\": 11, \"5\": 15, \"13\": 19, \"8\": 36, \"4\": 6, \"15\": 25, \"14\": 16, \"2\": 1}, \"12\": {\"12\": 145, \"6\": 38, \"9\": 40, \"10\": 8, \"13\": 1, \"5\": 1, \"2\": 1}, \"9\": {\"9\": 122, \"12\": 49, \"2\": 25, \"4\": 15, \"0\": 4, \"11\": 1, \"6\": 3, \"14\": 3, \"13\": 2, \"7\": 2, \"8\": 1, \"5\": 1}}, \"ORACLE.run1_20\": {\"9\": {\"3\": 17, \"9\": 29, \"13\": 8, \"10\": 21, \"6\": 15, \"12\": 13, \"2\": 20, \"14\": 8, \"15\": 12, \"5\": 10, \"4\": 13, \"7\": 15, \"1\": 12, \"11\": 13, \"8\": 8, \"0\": 4}, \"2\": {\"15\": 23, \"0\": 14, \"3\": 20, \"13\": 17, \"6\": 13, \"4\": 12, \"2\": 22, \"7\": 14, \"9\": 23, \"1\": 14, \"11\": 16, \"12\": 12, \"14\": 10, \"10\": 13, \"8\": 8, \"5\": 5}, \"11\": {\"2\": 19, \"11\": 79, \"12\": 12, \"6\": 16, \"14\": 4, \"7\": 24, \"0\": 3, \"4\": 4, \"13\": 13, \"8\": 8, \"1\": 7, \"10\": 4, \"9\": 22, \"5\": 2, \"3\": 12, \"15\": 5}, \"10\": {\"3\": 16, \"11\": 4, \"2\": 10, \"7\": 21, \"6\": 24, \"13\": 7, \"12\": 16, \"10\": 37, \"4\": 16, \"0\": 4, \"14\": 29, \"8\": 23, \"9\": 15, \"15\": 7, \"1\": 5, \"5\": 6}, \"14\": {\"6\": 35, \"7\": 19, \"3\": 14, \"10\": 15, \"9\": 11, \"5\": 10, \"12\": 17, \"4\": 27, \"14\": 30, \"8\": 12, \"1\": 6, \"11\": 7, \"2\": 10, \"15\": 5, \"0\": 10, \"13\": 2}, \"4\": {\"6\": 15, \"1\": 13, \"4\": 39, \"0\": 9, \"3\": 18, \"10\": 23, \"13\": 8, \"15\": 14, \"14\": 14, \"8\": 24, \"5\": 13, \"11\": 6, \"7\": 18, \"2\": 7, \"9\": 6, \"12\": 11}, \"3\": {\"0\": 13, \"6\": 14, \"12\": 12, \"13\": 16, \"7\": 19, \"2\": 15, \"10\": 13, \"3\": 27, \"8\": 17, \"15\": 22, \"11\": 9, \"1\": 16, \"5\": 18, \"4\": 14, \"9\": 11, \"14\": 4}, \"1\": {\"6\": 6, \"3\": 16, \"1\": 29, \"0\": 17, \"13\": 19, \"7\": 16, \"10\": 9, \"4\": 19, \"15\": 17, \"11\": 4, \"12\": 14, \"9\": 18, \"14\": 8, \"5\": 11, \"8\": 6, \"2\": 7}, \"15\": {\"9\": 15, \"3\": 18, \"15\": 37, \"4\": 13, \"5\": 25, \"13\": 20, \"1\": 23, \"12\": 20, \"2\": 14, \"10\": 4, \"7\": 11, \"0\": 12, \"6\": 7, \"14\": 2, \"8\": 7, \"11\": 2}, \"0\": {\"15\": 36, \"5\": 24, \"8\": 18, \"2\": 8, \"7\": 14, \"10\": 6, \"4\": 20, \"12\": 21, \"1\": 16, \"0\": 24, \"9\": 11, \"11\": 4, \"13\": 10, \"3\": 10, \"6\": 5, \"14\": 3}, \"7\": {\"3\": 20, \"15\": 17, \"7\": 19, \"10\": 16, \"6\": 17, \"12\": 19, \"14\": 18, \"9\": 11, \"8\": 14, \"0\": 5, \"13\": 13, \"4\": 8, \"5\": 9, \"11\": 17, \"1\": 12, \"2\": 21}, \"6\": {\"2\": 21, \"6\": 35, \"10\": 20, \"8\": 13, \"3\": 16, \"7\": 19, \"9\": 11, \"12\": 3, \"1\": 11, \"13\": 6, \"14\": 22, \"0\": 10, \"11\": 14, \"5\": 7, \"4\": 16, \"15\": 2}, \"13\": {\"6\": 10, \"1\": 21, \"12\": 17, \"0\": 9, \"3\": 23, \"7\": 12, \"4\": 8, \"2\": 19, \"15\": 17, \"5\": 15, \"11\": 8, \"9\": 19, \"13\": 21, \"10\": 8, \"8\": 12, \"14\": 1}, \"5\": {\"0\": 23, \"12\": 22, \"4\": 12, \"9\": 14, \"3\": 22, \"6\": 5, \"13\": 7, \"5\": 28, \"8\": 13, \"15\": 25, \"11\": 4, \"1\": 13, \"2\": 12, \"14\": 8, \"7\": 4, \"10\": 4}, \"8\": {\"12\": 7, \"10\": 18, \"14\": 17, \"1\": 15, \"6\": 25, \"7\": 7, \"4\": 22, \"15\": 11, \"13\": 14, \"5\": 15, \"3\": 17, \"8\": 27, \"0\": 9, \"9\": 7, \"2\": 9, \"11\": 6}, \"12\": {\"13\": 12, \"0\": 8, \"3\": 18, \"6\": 7, \"2\": 17, \"10\": 13, \"7\": 21, \"12\": 24, \"15\": 17, \"4\": 16, \"5\": 14, \"11\": 6, \"9\": 14, \"8\": 12, \"1\": 19, \"14\": 12}}, \"ORACLE.run1_8\": {\"2\": {\"3\": 54, \"6\": 12, \"2\": 77, \"8\": 5, \"12\": 23, \"15\": 15, \"14\": 2, \"0\": 12, \"4\": 4, \"7\": 12, \"10\": 1, \"13\": 3}, \"13\": {\"14\": 25, \"13\": 32, \"0\": 15, \"6\": 22, \"4\": 33, \"5\": 13, \"8\": 17, \"11\": 9, \"7\": 15, \"10\": 20, \"3\": 6, \"1\": 17, \"15\": 10, \"2\": 4, \"12\": 2}, \"14\": {\"1\": 12, \"14\": 32, \"5\": 17, \"13\": 14, \"11\": 16, \"0\": 9, \"10\": 39, \"15\": 14, \"6\": 15, \"7\": 11, \"8\": 11, \"4\": 26, \"2\": 2, \"12\": 3, \"3\": 1}, \"4\": {\"10\": 22, \"0\": 20, \"8\": 10, \"7\": 17, \"13\": 29, \"15\": 10, \"6\": 31, \"14\": 27, \"1\": 12, \"4\": 24, \"11\": 15, \"5\": 9, \"12\": 4, \"2\": 2}, \"5\": {\"11\": 28, \"6\": 4, \"0\": 8, \"4\": 16, \"1\": 29, \"5\": 47, \"13\": 16, \"8\": 10, \"12\": 2, \"10\": 36, \"14\": 20, \"9\": 5, \"15\": 3, \"7\": 6}, \"6\": {\"6\": 21, \"4\": 24, \"8\": 21, \"7\": 18, \"1\": 12, \"0\": 20, \"13\": 21, \"12\": 10, \"14\": 16, \"5\": 4, \"2\": 9, \"3\": 8, \"10\": 19, \"15\": 15, \"11\": 6}, \"11\": {\"8\": 10, \"1\": 40, \"5\": 25, \"0\": 3, \"11\": 49, \"13\": 16, \"6\": 5, \"14\": 17, \"4\": 22, \"10\": 21, \"3\": 1, \"15\": 2, \"7\": 3, \"12\": 4}, \"3\": {\"6\": 20, \"2\": 43, \"0\": 8, \"15\": 25, \"12\": 37, \"3\": 70, \"4\": 3, \"7\": 10, \"8\": 7, \"13\": 3, \"14\": 3, \"10\": 1}, \"10\": {\"4\": 32, \"14\": 25, \"2\": 5, \"11\": 10, \"8\": 14, \"6\": 15, \"10\": 44, \"0\": 7, \"12\": 4, \"13\": 28, \"7\": 15, \"5\": 18, \"1\": 18, \"9\": 1, \"15\": 2}, \"1\": {\"11\": 27, \"10\": 23, \"8\": 17, \"0\": 4, \"1\": 54, \"4\": 19, \"13\": 17, \"14\": 19, \"5\": 25, \"7\": 6, \"6\": 8, \"15\": 1, \"9\": 1, \"12\": 1}, \"0\": {\"14\": 19, \"4\": 23, \"2\": 9, \"6\": 16, \"0\": 26, \"13\": 20, \"15\": 8, \"8\": 15, \"7\": 30, \"10\": 30, \"12\": 10, \"1\": 4, \"3\": 6, \"5\": 4, \"11\": 2}, \"9\": {\"9\": 152, \"11\": 7, \"0\": 4, \"14\": 6, \"5\": 19, \"1\": 7, \"10\": 10, \"13\": 4, \"4\": 3}, \"8\": {\"8\": 35, \"14\": 23, \"10\": 11, \"12\": 16, \"13\": 15, \"7\": 22, \"1\": 21, \"15\": 19, \"11\": 12, \"6\": 16, \"2\": 5, \"4\": 13, \"5\": 7, \"0\": 7, \"3\": 6}, \"7\": {\"8\": 7, \"2\": 15, \"13\": 32, \"7\": 34, \"15\": 13, \"4\": 16, \"12\": 13, \"0\": 33, \"5\": 3, \"1\": 6, \"10\": 13, \"6\": 25, \"3\": 13, \"14\": 8, \"11\": 3}, \"12\": {\"7\": 13, \"2\": 26, \"8\": 18, \"12\": 55, \"6\": 13, \"3\": 30, \"14\": 4, \"15\": 33, \"0\": 11, \"1\": 1, \"13\": 9, \"4\": 5, \"10\": 3, \"5\": 1}, \"15\": {\"2\": 12, \"7\": 15, \"15\": 44, \"6\": 16, \"8\": 20, \"14\": 6, \"0\": 20, \"4\": 18, \"3\": 16, \"13\": 10, \"12\": 26, \"10\": 7, \"1\": 5, \"11\": 4, \"5\": 1}}}, \"per_domain_accuracy\": {\"W_A_3\": {\"accuracy\": 0.9490644490644491, \"source?\": true}, \"W_B_3\": {\"accuracy\": 0.9766112266112266, \"source?\": true}, \"W_C_3\": {\"accuracy\": 0.9916666666666667, \"source?\": true}, \"C_B_3\": {\"accuracy\": 1.0, \"source?\": true}, \"C_A_3\": {\"accuracy\": 0.9914529914529915, \"source?\": true}, \"W_A_1\": {\"accuracy\": 0.9647435897435898, \"source?\": true}, \"W_B_1\": {\"accuracy\": 0.9849272349272349, \"source?\": true}, \"W_B_4\": {\"accuracy\": 0.9625641025641025, \"source?\": true}, \"W_A_4\": {\"accuracy\": 0.9355509355509356, \"source?\": true}, \"W_C_1\": {\"accuracy\": 0.9942307692307693, \"source?\": true}, \"C_B_1\": {\"accuracy\": 1.0, \"source?\": true}, \"C_B_5\": {\"accuracy\": 0.9995069033530573, \"source?\": true}, \"C_A_1\": {\"accuracy\": 0.9886877828054299, \"source?\": true}, \"C_B_4\": {\"accuracy\": 1.0, \"source?\": true}, \"C_A_5\": {\"accuracy\": 0.9909502262443439, \"source?\": true}, \"W_B_2\": {\"accuracy\": 0.958974358974359, \"source?\": true}, \"C_A_4\": {\"accuracy\": 0.9932126696832579, \"source?\": true}, \"W_C_4\": {\"accuracy\": 0.9839743589743589, \"source?\": true}, \"W_A_2\": {\"accuracy\": 0.9508547008547008, \"source?\": true}, \"C_B_2\": {\"accuracy\": 1.0, \"source?\": true}, \"W_C_2\": {\"accuracy\": 0.9685897435897436, \"source?\": true}, \"C_A_2\": {\"accuracy\": 1.0, \"source?\": true}, \"ORACLE.run1_14\": {\"accuracy\": 0.2734113712374582, \"source?\": false}, \"ORACLE.run1_38\": {\"accuracy\": 0.31342062193126025, \"source?\": false}, \"ORACLE.run1_26\": {\"accuracy\": 0.1770890979524073, \"source?\": false}, \"ORACLE.run1_50\": {\"accuracy\": 0.30392684238838086, \"source?\": false}, \"ORACLE.run1_44\": {\"accuracy\": 0.2894162575013639, \"source?\": false}, \"ORACLE.run1_32\": {\"accuracy\": 0.3819068255687974, \"source?\": false}, \"ORACLE.run1_20\": {\"accuracy\": 0.13829787234042554, \"source?\": false}, \"ORACLE.run1_8\": {\"accuracy\": 0.22025456557830658, \"source?\": false}}}, \"history\": {\"epoch_indices\": [1, 2, 3, 4, 5, 6, 7], \"train_label_loss\": [0.13858404498371757, 0.08606431096829409, 0.06032631045901716, 0.047998776298427144, 0.039184176493532154, 0.02999672697581541, 0.024669532247318725], \"source_val_label_loss\": [0.17538529634475708, 0.08174893260002136, 0.076964370906353, 0.06939804553985596, 0.07953083515167236, 0.07345885783433914, 0.08654404431581497], \"target_val_label_loss\": [2.215100049972534, 2.2364182472229004, 2.1247589588165283, 2.3072104454040527, 2.463963508605957, 2.425689697265625, 2.7366108894348145], \"source_val_acc_label\": [0.968691775352675, 0.9804697897258451, 0.9823662496672877, 0.9838301836571732, 0.9830982166622305, 0.9840963534735161, 0.9844623369709875], \"target_val_acc_label\": [0.2404530522857925, 0.2503764029564741, 0.2625923898165891, 0.24948672324117163, 0.22057213249384067, 0.21434437448672325, 0.19870654256775253]}, \"dataset_metrics\": {\"source\": {\"train\": {\"n_unique_x\": 184233, \"n_unique_y\": 83, \"n_batch/episode\": 8329}, \"val\": {\"n_unique_x\": 39369, \"n_unique_y\": 83, \"n_batch/episode\": 1156}, \"test\": {\"n_unique_x\": 39369, \"n_unique_y\": 83, \"n_batch/episode\": 1156}}, \"target\": {\"train\": {\"n_unique_x\": 179199, \"n_unique_y\": 16, \"n_batch/episode\": 8080}, \"val\": {\"n_unique_x\": 38309, \"n_unique_y\": 16, \"n_batch/episode\": 1124}, \"test\": {\"n_unique_x\": 38309, \"n_unique_y\": 16, \"n_batch/episode\": 1124}}}}'"
      ]
     },
     "execution_count": 29,
     "metadata": {},
     "output_type": "execute_result"
    }
   ],
   "source": [
    "json.dumps(experiment)"
   ]
  }
 ],
 "metadata": {
  "celltoolbar": "Tags",
  "kernelspec": {
   "display_name": "Python 3 (ipykernel)",
   "language": "python",
   "name": "python3"
  },
  "language_info": {
   "codemirror_mode": {
    "name": "ipython",
    "version": 3
   },
   "file_extension": ".py",
   "mimetype": "text/x-python",
   "name": "python",
   "nbconvert_exporter": "python",
   "pygments_lexer": "ipython3",
   "version": "3.8.10"
  },
  "papermill": {
   "default_parameters": {},
   "duration": 1534.318789,
   "end_time": "2022-03-09T02:59:55.970492",
   "environment_variables": {},
   "exception": null,
   "input_path": "/mnt/wd500GB/CSC500/csc500-main/csc500-notebooks/templates/tl_ptn_template.ipynb",
   "output_path": "trial.ipynb",
   "parameters": {
    "parameters": {
     "BEST_MODEL_PATH": "./best_model.pth",
     "NUM_LOGS_PER_EPOCH": 10,
     "criteria_for_best": "target_loss",
     "dataset_seed": 1337,
     "datasets": [
      {
       "domain_prefix": "C_A_",
       "domains": [
        1,
        2,
        3,
        4,
        5
       ],
       "episode_transforms": [],
       "labels": [
        "11-20.",
        "2-3.",
        "7-10.",
        "14-10.",
        "19-16.",
        "1-19.",
        "1-15.",
        "11-7.",
        "11-14.",
        "1-17.",
        "4-19.",
        "17-10.",
        "8-18.",
        "2-11.",
        "2-20.",
        "14-14.",
        "8-8.",
        "1-16.",
        "2-8.",
        "3-3.",
        "4-11.",
        "2-18.",
        "4-10.",
        "1-11.",
        "11-17.",
        "2-17.",
        "19-3.",
        "2-7.",
        "1-10.",
        "2-4.",
        "10-4.",
        "1-18.",
        "2-5.",
        "16-1.",
        "17-2.",
        "13-20.",
        "19-20.",
        "14-11.",
        "2-10.",
        "3-18."
       ],
       "num_examples_per_domain_per_label": 100,
       "pickle_path": "/mnt/wd500GB/CSC500/csc500-main/datasets/cores.stratified_ds.2022A.pkl",
       "source_or_target_dataset": "source",
       "x_transforms": [
        "unit_power"
       ]
      },
      {
       "domain_prefix": "C_B_",
       "domains": [
        1,
        2,
        3,
        4,
        5
       ],
       "episode_transforms": [],
       "labels": [
        "10-7.",
        "11-1.",
        "13-8.",
        "14-7.",
        "15-1.",
        "15-20.",
        "16-16.",
        "17-11.",
        "19-1.",
        "19-19.",
        "2-6.",
        "3-13.",
        "4-1.",
        "5-5.",
        "6-15.",
        "7-14.",
        "8-20.",
        "8-3."
       ],
       "num_examples_per_domain_per_label": 1000,
       "pickle_path": "/mnt/wd500GB/CSC500/csc500-main/datasets/cores.stratified_ds.2022A.pkl",
       "source_or_target_dataset": "source",
       "x_transforms": [
        "unit_power"
       ]
      },
      {
       "domain_prefix": "W_A_",
       "domains": [
        1,
        2,
        3,
        4
       ],
       "episode_transforms": [],
       "labels": [
        "2-1",
        "19-7",
        "14-9",
        "20-3",
        "16-19",
        "20-14",
        "6-1",
        "19-6",
        "13-19",
        "2-7",
        "17-10",
        "18-14",
        "13-20",
        "2-15",
        "11-20",
        "3-1",
        "18-12",
        "18-2",
        "9-7",
        "18-17",
        "19-11",
        "7-12",
        "20-16",
        "6-6",
        "7-9",
        "19-15",
        "14-20",
        "19-14",
        "20-8",
        "19-12",
        "19-4",
        "18-4",
        "3-8",
        "2-4",
        "2-5",
        "13-3",
        "19-9",
        "7-13",
        "14-19",
        "18-16",
        "7-8",
        "18-1",
        "13-7",
        "18-9",
        "20-4",
        "15-6",
        "2-3",
        "10-4",
        "18-8",
        "15-19",
        "18-20",
        "19-13",
        "2-13",
        "3-13",
        "9-1",
        "14-13",
        "18-13",
        "16-20",
        "19-8",
        "19-10",
        "8-14",
        "18-10",
        "12-19",
        "18-15",
        "1-14",
        "18-7",
        "1-8",
        "12-7",
        "18-19",
        "13-18",
        "20-5",
        "18-5",
        "20-18",
        "14-8",
        "18-11",
        "14-14",
        "13-14",
        "8-1",
        "14-12",
        "19-3",
        "3-2",
        "2-8",
        "11-19"
       ],
       "num_examples_per_domain_per_label": 100,
       "pickle_path": "/mnt/wd500GB/CSC500/csc500-main/datasets/wisig.node3-19.stratified_ds.2022A.pkl",
       "source_or_target_dataset": "source",
       "x_transforms": [
        "unit_power"
       ]
      },
      {
       "domain_prefix": "W_B_",
       "domains": [
        1,
        2,
        3,
        4
       ],
       "episode_transforms": [],
       "labels": [
        "20-20",
        "19-1",
        "20-1",
        "5-1",
        "19-20",
        "19-2",
        "4-1",
        "1-12",
        "7-10",
        "1-18",
        "4-11",
        "8-13",
        "5-5",
        "10-7",
        "11-4",
        "11-1",
        "17-11",
        "4-10",
        "7-14",
        "1-19",
        "7-11",
        "11-10",
        "7-7",
        "8-8",
        "19-19",
        "10-11",
        "1-16",
        "20-12",
        "2-6",
        "11-7",
        "14-11",
        "1-10",
        "16-1",
        "20-7"
       ],
       "num_examples_per_domain_per_label": 500,
       "pickle_path": "/mnt/wd500GB/CSC500/csc500-main/datasets/wisig.node3-19.stratified_ds.2022A.pkl",
       "source_or_target_dataset": "source",
       "x_transforms": [
        "unit_power"
       ]
      },
      {
       "domain_prefix": "W_C_",
       "domains": [
        1,
        2,
        3,
        4
       ],
       "episode_transforms": [],
       "labels": [
        "10-17",
        "12-20",
        "14-10",
        "14-7",
        "15-1",
        "16-16",
        "20-15",
        "20-19",
        "3-18",
        "6-15",
        "8-18",
        "8-20",
        "8-3"
       ],
       "num_examples_per_domain_per_label": 1000,
       "pickle_path": "/mnt/wd500GB/CSC500/csc500-main/datasets/wisig.node3-19.stratified_ds.2022A.pkl",
       "source_or_target_dataset": "source",
       "x_transforms": [
        "unit_power"
       ]
      },
      {
       "domain_prefix": "ORACLE.run1_",
       "domains": [
        32,
        38,
        8,
        44,
        14,
        50,
        20,
        26
       ],
       "episode_transforms": [],
       "labels": [
        "3123D52",
        "3123D65",
        "3123D79",
        "3123D80",
        "3123D54",
        "3123D70",
        "3123D7B",
        "3123D89",
        "3123D58",
        "3123D76",
        "3123D7D",
        "3123EFE",
        "3123D64",
        "3123D78",
        "3123D7E",
        "3124E4A"
       ],
       "num_examples_per_domain_per_label": 2000,
       "pickle_path": "/mnt/wd500GB/CSC500/csc500-main/datasets/oracle.Run1_framed_2000Examples_stratified_ds.2022A.pkl",
       "source_or_target_dataset": "target",
       "x_transforms": [
        "unit_power"
       ]
      }
     ],
     "device": "cuda",
     "experiment_name": "tl_2_cores_wisig-oracle.run1",
     "lr": 0.001,
     "n_epoch": 50,
     "n_query": 2,
     "n_shot": 3,
     "n_way": 13,
     "patience": 3,
     "seed": 1337,
     "test_k_factor": 2,
     "torch_default_dtype": "torch.float32",
     "train_k_factor": 3,
     "val_k_factor": 2,
     "x_net": [
      {
       "class": "nnReshape",
       "kargs": {
        "shape": [
         -1,
         1,
         2,
         256
        ]
       }
      },
      {
       "class": "Conv2d",
       "kargs": {
        "bias": false,
        "in_channels": 1,
        "kernel_size": [
         1,
         7
        ],
        "out_channels": 256,
        "padding": [
         0,
         3
        ]
       }
      },
      {
       "class": "ReLU",
       "kargs": {
        "inplace": true
       }
      },
      {
       "class": "BatchNorm2d",
       "kargs": {
        "num_features": 256
       }
      },
      {
       "class": "Conv2d",
       "kargs": {
        "bias": true,
        "in_channels": 256,
        "kernel_size": [
         2,
         7
        ],
        "out_channels": 80,
        "padding": [
         0,
         3
        ]
       }
      },
      {
       "class": "ReLU",
       "kargs": {
        "inplace": true
       }
      },
      {
       "class": "BatchNorm2d",
       "kargs": {
        "num_features": 80
       }
      },
      {
       "class": "Flatten",
       "kargs": {}
      },
      {
       "class": "Linear",
       "kargs": {
        "in_features": 20480,
        "out_features": 256
       }
      },
      {
       "class": "ReLU",
       "kargs": {
        "inplace": true
       }
      },
      {
       "class": "BatchNorm1d",
       "kargs": {
        "num_features": 256
       }
      },
      {
       "class": "Linear",
       "kargs": {
        "in_features": 256,
        "out_features": 256
       }
      }
     ]
    }
   },
   "start_time": "2022-03-09T02:34:21.651703",
   "version": "2.3.4"
  }
 },
 "nbformat": 4,
 "nbformat_minor": 5
}