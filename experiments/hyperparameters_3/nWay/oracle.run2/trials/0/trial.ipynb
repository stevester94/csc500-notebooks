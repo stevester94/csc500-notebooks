{
 "cells": [
  {
   "cell_type": "markdown",
   "id": "9fea5f46",
   "metadata": {
    "papermill": {
     "duration": 0.017522,
     "end_time": "2022-03-04T23:37:46.540495",
     "exception": false,
     "start_time": "2022-03-04T23:37:46.522973",
     "status": "completed"
    },
    "tags": []
   },
   "source": [
    "# PTN Template\n",
    "This notebook serves as a template for single dataset PTN experiments  \n",
    "It can be run on its own by setting STANDALONE to True (do a find for \"STANDALONE\" to see where)  \n",
    "But it is intended to be executed as part of a *papermill.py script. See any of the   \n",
    "experimentes with a papermill script to get started with that workflow.  "
   ]
  },
  {
   "cell_type": "code",
   "execution_count": 1,
   "id": "0902182a",
   "metadata": {
    "execution": {
     "iopub.execute_input": "2022-03-04T23:37:46.583134Z",
     "iopub.status.busy": "2022-03-04T23:37:46.582818Z",
     "iopub.status.idle": "2022-03-04T23:37:47.383846Z",
     "shell.execute_reply": "2022-03-04T23:37:47.383310Z"
    },
    "papermill": {
     "duration": 0.82678,
     "end_time": "2022-03-04T23:37:47.383968",
     "exception": false,
     "start_time": "2022-03-04T23:37:46.557188",
     "status": "completed"
    },
    "tags": []
   },
   "outputs": [],
   "source": [
    "%load_ext autoreload\n",
    "%autoreload 2\n",
    "%matplotlib inline\n",
    "\n",
    "    \n",
    "import os, json, sys, time, random\n",
    "import numpy as np\n",
    "import torch\n",
    "from torch.optim import Adam\n",
    "from  easydict import EasyDict\n",
    "import matplotlib.pyplot as plt\n",
    "\n",
    "from steves_models.steves_ptn import Steves_Prototypical_Network\n",
    "\n",
    "from steves_utils.lazy_iterable_wrapper import Lazy_Iterable_Wrapper\n",
    "from steves_utils.iterable_aggregator import Iterable_Aggregator\n",
    "from steves_utils.ptn_train_eval_test_jig import  PTN_Train_Eval_Test_Jig\n",
    "from steves_utils.torch_sequential_builder import build_sequential\n",
    "from steves_utils.torch_utils import get_dataset_metrics, ptn_confusion_by_domain_over_dataloader\n",
    "from steves_utils.utils_v2 import (per_domain_accuracy_from_confusion, get_datasets_base_path)\n",
    "from steves_utils.PTN.utils import independent_accuracy_assesment\n",
    "\n",
    "from steves_utils.stratified_dataset.episodic_accessor import Episodic_Accessor_Factory\n",
    "\n",
    "from steves_utils.ptn_do_report import (\n",
    "    get_loss_curve,\n",
    "    get_results_table,\n",
    "    get_parameters_table,\n",
    "    get_domain_accuracies,\n",
    ")\n",
    "\n",
    "from steves_utils.transforms import get_chained_transform"
   ]
  },
  {
   "cell_type": "markdown",
   "id": "41c840b4",
   "metadata": {
    "papermill": {
     "duration": 0.009202,
     "end_time": "2022-03-04T23:37:47.406643",
     "exception": false,
     "start_time": "2022-03-04T23:37:47.397441",
     "status": "completed"
    },
    "tags": []
   },
   "source": [
    "# Required Parameters\n",
    "These are allowed parameters, not defaults\n",
    "Each of these values need to be present in the injected parameters (the notebook will raise an exception if they are not present)\n",
    "\n",
    "Papermill uses the cell tag \"parameters\" to inject the real parameters below this cell.\n",
    "Enable tags to see what I mean"
   ]
  },
  {
   "cell_type": "code",
   "execution_count": 2,
   "id": "fd44eb83",
   "metadata": {
    "execution": {
     "iopub.execute_input": "2022-03-04T23:37:47.428934Z",
     "iopub.status.busy": "2022-03-04T23:37:47.428634Z",
     "iopub.status.idle": "2022-03-04T23:37:47.442842Z",
     "shell.execute_reply": "2022-03-04T23:37:47.442343Z"
    },
    "papermill": {
     "duration": 0.026953,
     "end_time": "2022-03-04T23:37:47.442938",
     "exception": false,
     "start_time": "2022-03-04T23:37:47.415985",
     "status": "completed"
    },
    "tags": []
   },
   "outputs": [],
   "source": [
    "required_parameters = {\n",
    "    \"experiment_name\",\n",
    "    \"lr\",\n",
    "    \"device\",\n",
    "    \"seed\",\n",
    "    \"dataset_seed\",\n",
    "    \"labels_source\",\n",
    "    \"labels_target\",\n",
    "    \"domains_source\",\n",
    "    \"domains_target\",\n",
    "    \"num_examples_per_domain_per_label_source\",\n",
    "    \"num_examples_per_domain_per_label_target\",\n",
    "    \"n_shot\",\n",
    "    \"n_way\",\n",
    "    \"n_query\",\n",
    "    \"train_k_factor\",\n",
    "    \"val_k_factor\",\n",
    "    \"test_k_factor\",\n",
    "    \"n_epoch\",\n",
    "    \"patience\",\n",
    "    \"criteria_for_best\",\n",
    "    \"x_transforms_source\",\n",
    "    \"x_transforms_target\",\n",
    "    \"episode_transforms_source\",\n",
    "    \"episode_transforms_target\",\n",
    "    \"pickle_name\",\n",
    "    \"x_net\",\n",
    "    \"NUM_LOGS_PER_EPOCH\",\n",
    "    \"BEST_MODEL_PATH\",\n",
    "    \"torch_default_dtype\"\n",
    "}"
   ]
  },
  {
   "cell_type": "code",
   "execution_count": 3,
   "id": "fa3f0049",
   "metadata": {
    "execution": {
     "iopub.execute_input": "2022-03-04T23:37:47.476405Z",
     "iopub.status.busy": "2022-03-04T23:37:47.476027Z",
     "iopub.status.idle": "2022-03-04T23:37:47.488018Z",
     "shell.execute_reply": "2022-03-04T23:37:47.487550Z"
    },
    "papermill": {
     "duration": 0.029446,
     "end_time": "2022-03-04T23:37:47.488117",
     "exception": false,
     "start_time": "2022-03-04T23:37:47.458671",
     "status": "completed"
    },
    "tags": [
     "parameters"
    ]
   },
   "outputs": [],
   "source": [
    "\n",
    "\n",
    "standalone_parameters = {}\n",
    "standalone_parameters[\"experiment_name\"] = \"STANDALONE PTN\"\n",
    "standalone_parameters[\"lr\"] = 0.0001\n",
    "standalone_parameters[\"device\"] = \"cuda\"\n",
    "\n",
    "standalone_parameters[\"seed\"] = 1337\n",
    "standalone_parameters[\"dataset_seed\"] = 1337\n",
    "\n",
    "\n",
    "standalone_parameters[\"num_examples_per_domain_per_label_source\"]=100\n",
    "standalone_parameters[\"num_examples_per_domain_per_label_target\"]=100\n",
    "\n",
    "standalone_parameters[\"n_shot\"] = 3\n",
    "standalone_parameters[\"n_query\"]  = 2\n",
    "standalone_parameters[\"train_k_factor\"] = 1\n",
    "standalone_parameters[\"val_k_factor\"] = 2\n",
    "standalone_parameters[\"test_k_factor\"] = 2\n",
    "\n",
    "\n",
    "standalone_parameters[\"n_epoch\"] = 100\n",
    "\n",
    "standalone_parameters[\"patience\"] = 10\n",
    "standalone_parameters[\"criteria_for_best\"] = \"target_accuracy\"\n",
    "\n",
    "standalone_parameters[\"x_transforms_source\"] = [\"unit_power\"]\n",
    "standalone_parameters[\"x_transforms_target\"] = [\"unit_power\"]\n",
    "standalone_parameters[\"episode_transforms_source\"] = []\n",
    "standalone_parameters[\"episode_transforms_target\"] = []\n",
    "\n",
    "standalone_parameters[\"torch_default_dtype\"] = \"torch.float32\" \n",
    "\n",
    "\n",
    "\n",
    "standalone_parameters[\"x_net\"] =     [\n",
    "    {\"class\": \"nnReshape\", \"kargs\": {\"shape\":[-1, 1, 2, 256]}},\n",
    "    {\"class\": \"Conv2d\", \"kargs\": { \"in_channels\":1, \"out_channels\":256, \"kernel_size\":(1,7), \"bias\":False, \"padding\":(0,3), },},\n",
    "    {\"class\": \"ReLU\", \"kargs\": {\"inplace\": True}},\n",
    "    {\"class\": \"BatchNorm2d\", \"kargs\": {\"num_features\":256}},\n",
    "\n",
    "    {\"class\": \"Conv2d\", \"kargs\": { \"in_channels\":256, \"out_channels\":80, \"kernel_size\":(2,7), \"bias\":True, \"padding\":(0,3), },},\n",
    "    {\"class\": \"ReLU\", \"kargs\": {\"inplace\": True}},\n",
    "    {\"class\": \"BatchNorm2d\", \"kargs\": {\"num_features\":80}},\n",
    "    {\"class\": \"Flatten\", \"kargs\": {}},\n",
    "\n",
    "    {\"class\": \"Linear\", \"kargs\": {\"in_features\": 80*256, \"out_features\": 256}}, # 80 units per IQ pair\n",
    "    {\"class\": \"ReLU\", \"kargs\": {\"inplace\": True}},\n",
    "    {\"class\": \"BatchNorm1d\", \"kargs\": {\"num_features\":256}},\n",
    "\n",
    "    {\"class\": \"Linear\", \"kargs\": {\"in_features\": 256, \"out_features\": 256}},\n",
    "]\n",
    "\n",
    "# Parameters relevant to results\n",
    "# These parameters will basically never need to change\n",
    "standalone_parameters[\"NUM_LOGS_PER_EPOCH\"] = 10\n",
    "standalone_parameters[\"BEST_MODEL_PATH\"] = \"./best_model.pth\"\n",
    "\n",
    "# uncomment for CORES dataset\n",
    "from steves_utils.CORES.utils import (\n",
    "    ALL_NODES,\n",
    "    ALL_NODES_MINIMUM_1000_EXAMPLES,\n",
    "    ALL_DAYS\n",
    ")\n",
    "\n",
    "\n",
    "standalone_parameters[\"labels_source\"] = ALL_NODES\n",
    "standalone_parameters[\"labels_target\"] = ALL_NODES\n",
    "\n",
    "standalone_parameters[\"domains_source\"] = [1]\n",
    "standalone_parameters[\"domains_target\"] = [2,3,4,5]\n",
    "\n",
    "standalone_parameters[\"pickle_name\"] = \"cores.stratified_ds.2022A.pkl\"\n",
    "\n",
    "\n",
    "# Uncomment these for ORACLE dataset\n",
    "# from steves_utils.ORACLE.utils_v2 import (\n",
    "#     ALL_DISTANCES_FEET,\n",
    "#     ALL_RUNS,\n",
    "#     ALL_SERIAL_NUMBERS,\n",
    "# )\n",
    "# standalone_parameters[\"labels_source\"] = ALL_SERIAL_NUMBERS\n",
    "# standalone_parameters[\"labels_target\"] = ALL_SERIAL_NUMBERS\n",
    "# standalone_parameters[\"domains_source\"] = [8,20, 38,50]\n",
    "# standalone_parameters[\"domains_target\"] = [14, 26, 32, 44, 56]\n",
    "# standalone_parameters[\"pickle_name\"] = \"oracle.frame_indexed.stratified_ds.2022A.pkl\"\n",
    "# standalone_parameters[\"num_examples_per_domain_per_label_source\"]=1000\n",
    "# standalone_parameters[\"num_examples_per_domain_per_label_target\"]=1000\n",
    "\n",
    "# Uncomment these for Metahan dataset\n",
    "# standalone_parameters[\"labels_source\"] = list(range(19))\n",
    "# standalone_parameters[\"labels_target\"] = list(range(19))\n",
    "# standalone_parameters[\"domains_source\"] = [0]\n",
    "# standalone_parameters[\"domains_target\"] = [1]\n",
    "# standalone_parameters[\"pickle_name\"] = \"metehan.stratified_ds.2022A.pkl\"\n",
    "# standalone_parameters[\"n_way\"]  = len(standalone_parameters[\"labels_source\"])\n",
    "# standalone_parameters[\"num_examples_per_domain_per_label_source\"]=200\n",
    "# standalone_parameters[\"num_examples_per_domain_per_label_target\"]=100\n",
    "\n",
    "\n",
    "standalone_parameters[\"n_way\"]  = len(standalone_parameters[\"labels_source\"])"
   ]
  },
  {
   "cell_type": "code",
   "execution_count": 4,
   "id": "9eae5dfd",
   "metadata": {
    "execution": {
     "iopub.execute_input": "2022-03-04T23:37:47.520960Z",
     "iopub.status.busy": "2022-03-04T23:37:47.520394Z",
     "iopub.status.idle": "2022-03-04T23:37:47.530116Z",
     "shell.execute_reply": "2022-03-04T23:37:47.530516Z"
    },
    "papermill": {
     "duration": 0.027512,
     "end_time": "2022-03-04T23:37:47.530636",
     "exception": false,
     "start_time": "2022-03-04T23:37:47.503124",
     "status": "completed"
    },
    "tags": [
     "injected-parameters"
    ]
   },
   "outputs": [],
   "source": [
    "# Parameters\n",
    "parameters = {\n",
    "    \"experiment_name\": \"nWay_oracle.run2\",\n",
    "    \"device\": \"cuda\",\n",
    "    \"lr\": 0.001,\n",
    "    \"seed\": 1337,\n",
    "    \"dataset_seed\": 1337,\n",
    "    \"labels_source\": [\n",
    "        \"3123D52\",\n",
    "        \"3123D65\",\n",
    "        \"3123D79\",\n",
    "        \"3123D80\",\n",
    "        \"3123D54\",\n",
    "        \"3123D70\",\n",
    "        \"3123D7B\",\n",
    "        \"3123D89\",\n",
    "        \"3123D58\",\n",
    "        \"3123D76\",\n",
    "        \"3123D7D\",\n",
    "        \"3123EFE\",\n",
    "        \"3123D64\",\n",
    "        \"3123D78\",\n",
    "        \"3123D7E\",\n",
    "        \"3124E4A\",\n",
    "    ],\n",
    "    \"labels_target\": [\n",
    "        \"3123D52\",\n",
    "        \"3123D65\",\n",
    "        \"3123D79\",\n",
    "        \"3123D80\",\n",
    "        \"3123D54\",\n",
    "        \"3123D70\",\n",
    "        \"3123D7B\",\n",
    "        \"3123D89\",\n",
    "        \"3123D58\",\n",
    "        \"3123D76\",\n",
    "        \"3123D7D\",\n",
    "        \"3123EFE\",\n",
    "        \"3123D64\",\n",
    "        \"3123D78\",\n",
    "        \"3123D7E\",\n",
    "        \"3124E4A\",\n",
    "    ],\n",
    "    \"x_transforms_source\": [],\n",
    "    \"x_transforms_target\": [],\n",
    "    \"episode_transforms_source\": [],\n",
    "    \"episode_transforms_target\": [],\n",
    "    \"num_examples_per_domain_per_label_source\": 1000,\n",
    "    \"num_examples_per_domain_per_label_target\": 1000,\n",
    "    \"n_shot\": 3,\n",
    "    \"n_query\": 2,\n",
    "    \"train_k_factor\": 1,\n",
    "    \"val_k_factor\": 2,\n",
    "    \"test_k_factor\": 2,\n",
    "    \"torch_default_dtype\": \"torch.float32\",\n",
    "    \"n_epoch\": 50,\n",
    "    \"patience\": 3,\n",
    "    \"criteria_for_best\": \"target_loss\",\n",
    "    \"x_net\": [\n",
    "        {\"class\": \"nnReshape\", \"kargs\": {\"shape\": [-1, 1, 2, 256]}},\n",
    "        {\n",
    "            \"class\": \"Conv2d\",\n",
    "            \"kargs\": {\n",
    "                \"in_channels\": 1,\n",
    "                \"out_channels\": 256,\n",
    "                \"kernel_size\": [1, 7],\n",
    "                \"bias\": False,\n",
    "                \"padding\": [0, 3],\n",
    "            },\n",
    "        },\n",
    "        {\"class\": \"ReLU\", \"kargs\": {\"inplace\": True}},\n",
    "        {\"class\": \"BatchNorm2d\", \"kargs\": {\"num_features\": 256}},\n",
    "        {\n",
    "            \"class\": \"Conv2d\",\n",
    "            \"kargs\": {\n",
    "                \"in_channels\": 256,\n",
    "                \"out_channels\": 80,\n",
    "                \"kernel_size\": [2, 7],\n",
    "                \"bias\": True,\n",
    "                \"padding\": [0, 3],\n",
    "            },\n",
    "        },\n",
    "        {\"class\": \"ReLU\", \"kargs\": {\"inplace\": True}},\n",
    "        {\"class\": \"BatchNorm2d\", \"kargs\": {\"num_features\": 80}},\n",
    "        {\"class\": \"Flatten\", \"kargs\": {}},\n",
    "        {\"class\": \"Linear\", \"kargs\": {\"in_features\": 20480, \"out_features\": 256}},\n",
    "        {\"class\": \"ReLU\", \"kargs\": {\"inplace\": True}},\n",
    "        {\"class\": \"BatchNorm1d\", \"kargs\": {\"num_features\": 256}},\n",
    "        {\"class\": \"Linear\", \"kargs\": {\"in_features\": 256, \"out_features\": 256}},\n",
    "    ],\n",
    "    \"NUM_LOGS_PER_EPOCH\": 10,\n",
    "    \"BEST_MODEL_PATH\": \"./best_model.pth\",\n",
    "    \"pickle_name\": \"oracle.Run2_10kExamples_stratified_ds.2022A.pkl\",\n",
    "    \"n_way\": 10,\n",
    "    \"domains_source\": [8, 32, 50],\n",
    "    \"domains_target\": [14, 20, 26, 38, 44],\n",
    "}\n"
   ]
  },
  {
   "cell_type": "code",
   "execution_count": 5,
   "id": "8fa1cc33",
   "metadata": {
    "execution": {
     "iopub.execute_input": "2022-03-04T23:37:47.557786Z",
     "iopub.status.busy": "2022-03-04T23:37:47.557529Z",
     "iopub.status.idle": "2022-03-04T23:37:47.571523Z",
     "shell.execute_reply": "2022-03-04T23:37:47.571014Z"
    },
    "papermill": {
     "duration": 0.027365,
     "end_time": "2022-03-04T23:37:47.571642",
     "exception": false,
     "start_time": "2022-03-04T23:37:47.544277",
     "status": "completed"
    },
    "tags": []
   },
   "outputs": [],
   "source": [
    "# Set this to True if you want to run this template directly\n",
    "STANDALONE = False\n",
    "if STANDALONE:\n",
    "    print(\"parameters not injected, running with standalone_parameters\")\n",
    "    parameters = standalone_parameters\n",
    "\n",
    "if not 'parameters' in locals() and not 'parameters' in globals():\n",
    "    raise Exception(\"Parameter injection failed\")\n",
    "\n",
    "#Use an easy dict for all the parameters\n",
    "p = EasyDict(parameters)\n",
    "\n",
    "supplied_keys = set(p.keys())\n",
    "\n",
    "if  supplied_keys != required_parameters:\n",
    "    print(\"Parameters are incorrect\")\n",
    "    if len(supplied_keys - required_parameters)>0: print(\"Shouldn't have:\", str(supplied_keys - required_parameters))\n",
    "    if len(required_parameters - supplied_keys)>0: print(\"Need to have:\", str(required_parameters - supplied_keys))\n",
    "    raise RuntimeError(\"Parameters are incorrect\")\n",
    "\n"
   ]
  },
  {
   "cell_type": "code",
   "execution_count": 6,
   "id": "3a028d58",
   "metadata": {
    "execution": {
     "iopub.execute_input": "2022-03-04T23:37:47.596885Z",
     "iopub.status.busy": "2022-03-04T23:37:47.596582Z",
     "iopub.status.idle": "2022-03-04T23:37:47.608430Z",
     "shell.execute_reply": "2022-03-04T23:37:47.608015Z"
    },
    "papermill": {
     "duration": 0.023646,
     "end_time": "2022-03-04T23:37:47.608521",
     "exception": false,
     "start_time": "2022-03-04T23:37:47.584875",
     "status": "completed"
    },
    "tags": []
   },
   "outputs": [],
   "source": [
    "###################################\n",
    "# Set the RNGs and make it all deterministic\n",
    "###################################\n",
    "np.random.seed(p.seed)\n",
    "random.seed(p.seed)\n",
    "torch.manual_seed(p.seed)\n",
    "\n",
    "torch.use_deterministic_algorithms(True) "
   ]
  },
  {
   "cell_type": "code",
   "execution_count": 7,
   "id": "b691acf6",
   "metadata": {
    "execution": {
     "iopub.execute_input": "2022-03-04T23:37:47.634957Z",
     "iopub.status.busy": "2022-03-04T23:37:47.634688Z",
     "iopub.status.idle": "2022-03-04T23:37:47.647429Z",
     "shell.execute_reply": "2022-03-04T23:37:47.647077Z"
    },
    "papermill": {
     "duration": 0.024493,
     "end_time": "2022-03-04T23:37:47.647500",
     "exception": false,
     "start_time": "2022-03-04T23:37:47.623007",
     "status": "completed"
    },
    "tags": []
   },
   "outputs": [],
   "source": [
    "###########################################\n",
    "# The stratified datasets honor this\n",
    "###########################################\n",
    "torch.set_default_dtype(eval(p.torch_default_dtype))"
   ]
  },
  {
   "cell_type": "code",
   "execution_count": 8,
   "id": "b5fba671",
   "metadata": {
    "execution": {
     "iopub.execute_input": "2022-03-04T23:37:47.674286Z",
     "iopub.status.busy": "2022-03-04T23:37:47.674036Z",
     "iopub.status.idle": "2022-03-04T23:37:47.714306Z",
     "shell.execute_reply": "2022-03-04T23:37:47.713854Z"
    },
    "papermill": {
     "duration": 0.053376,
     "end_time": "2022-03-04T23:37:47.714397",
     "exception": false,
     "start_time": "2022-03-04T23:37:47.661021",
     "status": "completed"
    },
    "tags": []
   },
   "outputs": [],
   "source": [
    "###################################\n",
    "# Build the network(s)\n",
    "# Note: It's critical to do this AFTER setting the RNG\n",
    "# (This is due to the randomized initial weights)\n",
    "###################################\n",
    "x_net = build_sequential(p.x_net)"
   ]
  },
  {
   "cell_type": "code",
   "execution_count": 9,
   "id": "5d7e61cc",
   "metadata": {
    "execution": {
     "iopub.execute_input": "2022-03-04T23:37:47.741124Z",
     "iopub.status.busy": "2022-03-04T23:37:47.740874Z",
     "iopub.status.idle": "2022-03-04T23:37:47.755443Z",
     "shell.execute_reply": "2022-03-04T23:37:47.755019Z"
    },
    "papermill": {
     "duration": 0.027191,
     "end_time": "2022-03-04T23:37:47.755547",
     "exception": false,
     "start_time": "2022-03-04T23:37:47.728356",
     "status": "completed"
    },
    "tags": []
   },
   "outputs": [],
   "source": [
    "start_time_secs = time.time()"
   ]
  },
  {
   "cell_type": "code",
   "execution_count": 10,
   "id": "fd5442bc",
   "metadata": {
    "execution": {
     "iopub.execute_input": "2022-03-04T23:37:47.789237Z",
     "iopub.status.busy": "2022-03-04T23:37:47.781294Z",
     "iopub.status.idle": "2022-03-04T23:37:51.356265Z",
     "shell.execute_reply": "2022-03-04T23:37:51.355851Z"
    },
    "papermill": {
     "duration": 3.586657,
     "end_time": "2022-03-04T23:37:51.356378",
     "exception": false,
     "start_time": "2022-03-04T23:37:47.769721",
     "status": "completed"
    },
    "tags": []
   },
   "outputs": [],
   "source": [
    "###################################\n",
    "# Build the dataset\n",
    "###################################\n",
    "\n",
    "if p.x_transforms_source == []: x_transform_source = None\n",
    "else: x_transform_source = get_chained_transform(p.x_transforms_source) \n",
    "\n",
    "if p.x_transforms_target == []: x_transform_target = None\n",
    "else: x_transform_target = get_chained_transform(p.x_transforms_target)\n",
    "\n",
    "if p.episode_transforms_source == []: episode_transform_source = None\n",
    "else: raise Exception(\"episode_transform_source not implemented\")\n",
    "\n",
    "if p.episode_transforms_target == []: episode_transform_target = None\n",
    "else: raise Exception(\"episode_transform_target not implemented\")\n",
    "\n",
    "\n",
    "eaf_source = Episodic_Accessor_Factory(\n",
    "    labels=p.labels_source,\n",
    "    domains=p.domains_source,\n",
    "    num_examples_per_domain_per_label=p.num_examples_per_domain_per_label_source,\n",
    "    iterator_seed=p.seed,\n",
    "    dataset_seed=p.dataset_seed,\n",
    "    n_shot=p.n_shot,\n",
    "    n_way=p.n_way,\n",
    "    n_query=p.n_query,\n",
    "    train_val_test_k_factors=(p.train_k_factor,p.val_k_factor,p.test_k_factor),\n",
    "    pickle_path=os.path.join(get_datasets_base_path(), p.pickle_name),\n",
    "    x_transform_func=x_transform_source,\n",
    "    example_transform_func=episode_transform_source,\n",
    "    \n",
    ")\n",
    "train_original_source, val_original_source, test_original_source = eaf_source.get_train(), eaf_source.get_val(), eaf_source.get_test()\n",
    "\n",
    "\n",
    "eaf_target = Episodic_Accessor_Factory(\n",
    "    labels=p.labels_target,\n",
    "    domains=p.domains_target,\n",
    "    num_examples_per_domain_per_label=p.num_examples_per_domain_per_label_target,\n",
    "    iterator_seed=p.seed,\n",
    "    dataset_seed=p.dataset_seed,\n",
    "    n_shot=p.n_shot,\n",
    "    n_way=p.n_way,\n",
    "    n_query=p.n_query,\n",
    "    train_val_test_k_factors=(p.train_k_factor,p.val_k_factor,p.test_k_factor),\n",
    "    pickle_path=os.path.join(get_datasets_base_path(), p.pickle_name),\n",
    "    x_transform_func=x_transform_target,\n",
    "    example_transform_func=episode_transform_target,\n",
    ")\n",
    "train_original_target, val_original_target, test_original_target = eaf_target.get_train(), eaf_target.get_val(), eaf_target.get_test()\n",
    "\n",
    "\n",
    "transform_lambda = lambda ex: ex[1] # Original is (<domain>, <episode>) so we strip down to episode only\n",
    "\n",
    "train_processed_source = Lazy_Iterable_Wrapper(train_original_source, transform_lambda)\n",
    "val_processed_source   = Lazy_Iterable_Wrapper(val_original_source, transform_lambda)\n",
    "test_processed_source  = Lazy_Iterable_Wrapper(test_original_source, transform_lambda)\n",
    "\n",
    "train_processed_target = Lazy_Iterable_Wrapper(train_original_target, transform_lambda)\n",
    "val_processed_target   = Lazy_Iterable_Wrapper(val_original_target, transform_lambda)\n",
    "test_processed_target  = Lazy_Iterable_Wrapper(test_original_target, transform_lambda)\n",
    "\n",
    "datasets = EasyDict({\n",
    "    \"source\": {\n",
    "        \"original\": {\"train\":train_original_source, \"val\":val_original_source, \"test\":test_original_source},\n",
    "        \"processed\": {\"train\":train_processed_source, \"val\":val_processed_source, \"test\":test_processed_source}\n",
    "    },\n",
    "    \"target\": {\n",
    "        \"original\": {\"train\":train_original_target, \"val\":val_original_target, \"test\":test_original_target},\n",
    "        \"processed\": {\"train\":train_processed_target, \"val\":val_processed_target, \"test\":test_processed_target}\n",
    "    },\n",
    "})"
   ]
  },
  {
   "cell_type": "code",
   "execution_count": 11,
   "id": "296189d9",
   "metadata": {
    "execution": {
     "iopub.execute_input": "2022-03-04T23:37:51.389459Z",
     "iopub.status.busy": "2022-03-04T23:37:51.389197Z",
     "iopub.status.idle": "2022-03-04T23:37:53.013364Z",
     "shell.execute_reply": "2022-03-04T23:37:53.013735Z"
    },
    "papermill": {
     "duration": 1.642187,
     "end_time": "2022-03-04T23:37:53.013870",
     "exception": false,
     "start_time": "2022-03-04T23:37:51.371683",
     "status": "completed"
    },
    "tags": []
   },
   "outputs": [
    {
     "name": "stdout",
     "output_type": "stream",
     "text": [
      "Visually inspect these to see if they line up with expected values given the transforms\n",
      "x_transforms_source []\n",
      "x_transforms_target []\n",
      "Average magnitude, source: 0.006471036\n",
      "Average power, source: 5.367051e-05\n"
     ]
    },
    {
     "name": "stdout",
     "output_type": "stream",
     "text": [
      "Average magnitude, target: 0.003947588\n",
      "Average power, target: 2.0171641e-05\n"
     ]
    }
   ],
   "source": [
    "# Some quick unit tests on the data\n",
    "from steves_utils.transforms import get_average_power, get_average_magnitude\n",
    "\n",
    "q_x, q_y, s_x, s_y, truth = next(iter(train_processed_source))\n",
    "\n",
    "assert q_x.dtype == eval(p.torch_default_dtype)\n",
    "assert s_x.dtype == eval(p.torch_default_dtype)\n",
    "\n",
    "print(\"Visually inspect these to see if they line up with expected values given the transforms\")\n",
    "print('x_transforms_source', p.x_transforms_source)\n",
    "print('x_transforms_target', p.x_transforms_target)\n",
    "print(\"Average magnitude, source:\", get_average_magnitude(q_x[0].numpy()))\n",
    "print(\"Average power, source:\", get_average_power(q_x[0].numpy()))\n",
    "\n",
    "q_x, q_y, s_x, s_y, truth = next(iter(train_processed_target))\n",
    "print(\"Average magnitude, target:\", get_average_magnitude(q_x[0].numpy()))\n",
    "print(\"Average power, target:\", get_average_power(q_x[0].numpy()))\n"
   ]
  },
  {
   "cell_type": "code",
   "execution_count": 12,
   "id": "bbdacba1",
   "metadata": {
    "execution": {
     "iopub.execute_input": "2022-03-04T23:37:53.043067Z",
     "iopub.status.busy": "2022-03-04T23:37:53.042799Z",
     "iopub.status.idle": "2022-03-04T23:37:53.103813Z",
     "shell.execute_reply": "2022-03-04T23:37:53.103408Z"
    },
    "papermill": {
     "duration": 0.075125,
     "end_time": "2022-03-04T23:37:53.103932",
     "exception": false,
     "start_time": "2022-03-04T23:37:53.028807",
     "status": "completed"
    },
    "tags": []
   },
   "outputs": [
    {
     "name": "stdout",
     "output_type": "stream",
     "text": [
      "(2, 256)\n"
     ]
    }
   ],
   "source": [
    "###################################\n",
    "# Build the model\n",
    "###################################\n",
    "model = Steves_Prototypical_Network(x_net, device=p.device, x_shape=(2,256))\n",
    "optimizer = Adam(params=model.parameters(), lr=p.lr)"
   ]
  },
  {
   "cell_type": "code",
   "execution_count": 13,
   "id": "22b39ac5",
   "metadata": {
    "execution": {
     "iopub.execute_input": "2022-03-04T23:37:53.137549Z",
     "iopub.status.busy": "2022-03-04T23:37:53.133711Z",
     "iopub.status.idle": "2022-03-04T23:40:52.662246Z",
     "shell.execute_reply": "2022-03-04T23:40:52.662644Z"
    },
    "papermill": {
     "duration": 179.542526,
     "end_time": "2022-03-04T23:40:52.662788",
     "exception": false,
     "start_time": "2022-03-04T23:37:53.120262",
     "status": "completed"
    },
    "tags": []
   },
   "outputs": [
    {
     "name": "stdout",
     "output_type": "stream",
     "text": [
      "epoch: 1, [batch: 1 / 651], examples_per_second: 313.6088, train_label_loss: 2.0580, \n"
     ]
    },
    {
     "name": "stdout",
     "output_type": "stream",
     "text": [
      "epoch: 1, [batch: 66 / 651], examples_per_second: 2690.3720, train_label_loss: 0.8226, \n"
     ]
    },
    {
     "name": "stdout",
     "output_type": "stream",
     "text": [
      "epoch: 1, [batch: 131 / 651], examples_per_second: 2784.7023, train_label_loss: 0.6931, \n"
     ]
    },
    {
     "name": "stdout",
     "output_type": "stream",
     "text": [
      "epoch: 1, [batch: 196 / 651], examples_per_second: 2731.0239, train_label_loss: 1.1804, \n"
     ]
    },
    {
     "name": "stdout",
     "output_type": "stream",
     "text": [
      "epoch: 1, [batch: 261 / 651], examples_per_second: 2751.8518, train_label_loss: 0.9812, \n"
     ]
    },
    {
     "name": "stdout",
     "output_type": "stream",
     "text": [
      "epoch: 1, [batch: 326 / 651], examples_per_second: 2802.2469, train_label_loss: 0.6666, \n"
     ]
    },
    {
     "name": "stdout",
     "output_type": "stream",
     "text": [
      "epoch: 1, [batch: 391 / 651], examples_per_second: 2805.1198, train_label_loss: 0.6763, \n"
     ]
    },
    {
     "name": "stdout",
     "output_type": "stream",
     "text": [
      "epoch: 1, [batch: 456 / 651], examples_per_second: 2784.9554, train_label_loss: 0.5742, \n"
     ]
    },
    {
     "name": "stdout",
     "output_type": "stream",
     "text": [
      "epoch: 1, [batch: 521 / 651], examples_per_second: 2756.5184, train_label_loss: 1.0401, \n"
     ]
    },
    {
     "name": "stdout",
     "output_type": "stream",
     "text": [
      "epoch: 1, [batch: 586 / 651], examples_per_second: 2766.7750, train_label_loss: 0.7324, \n"
     ]
    },
    {
     "name": "stdout",
     "output_type": "stream",
     "text": [
      "=============================================================\n",
      "epoch: 1, source_val_acc_label: 0.5953, target_val_acc_label: 0.5074, source_val_label_loss: 1.3106, target_val_label_loss: 1.5764, \n",
      "=============================================================\n"
     ]
    },
    {
     "name": "stdout",
     "output_type": "stream",
     "text": [
      "New best\n"
     ]
    },
    {
     "name": "stdout",
     "output_type": "stream",
     "text": [
      "epoch: 2, [batch: 1 / 654], examples_per_second: 17.5922, train_label_loss: 1.0723, \n"
     ]
    },
    {
     "name": "stdout",
     "output_type": "stream",
     "text": [
      "epoch: 2, [batch: 66 / 654], examples_per_second: 2781.3312, train_label_loss: 1.0158, \n"
     ]
    },
    {
     "name": "stdout",
     "output_type": "stream",
     "text": [
      "epoch: 2, [batch: 131 / 654], examples_per_second: 2764.5860, train_label_loss: 0.8573, \n"
     ]
    },
    {
     "name": "stdout",
     "output_type": "stream",
     "text": [
      "epoch: 2, [batch: 196 / 654], examples_per_second: 2765.7022, train_label_loss: 1.3504, \n"
     ]
    },
    {
     "name": "stdout",
     "output_type": "stream",
     "text": [
      "epoch: 2, [batch: 262 / 654], examples_per_second: 2766.8019, train_label_loss: 1.5075, \n"
     ]
    },
    {
     "name": "stdout",
     "output_type": "stream",
     "text": [
      "epoch: 2, [batch: 327 / 654], examples_per_second: 2767.0962, train_label_loss: 0.8675, \n"
     ]
    },
    {
     "name": "stdout",
     "output_type": "stream",
     "text": [
      "epoch: 2, [batch: 392 / 654], examples_per_second: 2764.5013, train_label_loss: 0.8587, \n"
     ]
    },
    {
     "name": "stdout",
     "output_type": "stream",
     "text": [
      "epoch: 2, [batch: 458 / 654], examples_per_second: 2756.8323, train_label_loss: 1.6649, \n"
     ]
    },
    {
     "name": "stdout",
     "output_type": "stream",
     "text": [
      "epoch: 2, [batch: 523 / 654], examples_per_second: 2773.7498, train_label_loss: 0.7344, \n"
     ]
    },
    {
     "name": "stdout",
     "output_type": "stream",
     "text": [
      "epoch: 2, [batch: 588 / 654], examples_per_second: 2794.1737, train_label_loss: 0.9066, \n"
     ]
    },
    {
     "name": "stdout",
     "output_type": "stream",
     "text": [
      "=============================================================\n",
      "epoch: 2, source_val_acc_label: 0.5973, target_val_acc_label: 0.5125, source_val_label_loss: 0.9440, target_val_label_loss: 1.2330, \n",
      "=============================================================\n"
     ]
    },
    {
     "name": "stdout",
     "output_type": "stream",
     "text": [
      "New best\n"
     ]
    },
    {
     "name": "stdout",
     "output_type": "stream",
     "text": [
      "epoch: 3, [batch: 1 / 657], examples_per_second: 17.2410, train_label_loss: 0.9656, \n"
     ]
    },
    {
     "name": "stdout",
     "output_type": "stream",
     "text": [
      "epoch: 3, [batch: 66 / 657], examples_per_second: 2654.9278, train_label_loss: 0.7440, \n"
     ]
    },
    {
     "name": "stdout",
     "output_type": "stream",
     "text": [
      "epoch: 3, [batch: 132 / 657], examples_per_second: 2712.5185, train_label_loss: 1.2582, \n"
     ]
    },
    {
     "name": "stdout",
     "output_type": "stream",
     "text": [
      "epoch: 3, [batch: 197 / 657], examples_per_second: 2789.0821, train_label_loss: 0.8695, \n"
     ]
    },
    {
     "name": "stdout",
     "output_type": "stream",
     "text": [
      "epoch: 3, [batch: 263 / 657], examples_per_second: 2693.4206, train_label_loss: 0.9013, \n"
     ]
    },
    {
     "name": "stdout",
     "output_type": "stream",
     "text": [
      "epoch: 3, [batch: 329 / 657], examples_per_second: 2765.0166, train_label_loss: 0.7615, \n"
     ]
    },
    {
     "name": "stdout",
     "output_type": "stream",
     "text": [
      "epoch: 3, [batch: 394 / 657], examples_per_second: 2739.1084, train_label_loss: 0.8634, \n"
     ]
    },
    {
     "name": "stdout",
     "output_type": "stream",
     "text": [
      "epoch: 3, [batch: 460 / 657], examples_per_second: 2781.9764, train_label_loss: 1.0333, \n"
     ]
    },
    {
     "name": "stdout",
     "output_type": "stream",
     "text": [
      "epoch: 3, [batch: 525 / 657], examples_per_second: 2761.0633, train_label_loss: 0.7660, \n"
     ]
    },
    {
     "name": "stdout",
     "output_type": "stream",
     "text": [
      "epoch: 3, [batch: 591 / 657], examples_per_second: 2723.2091, train_label_loss: 0.6764, \n"
     ]
    },
    {
     "name": "stdout",
     "output_type": "stream",
     "text": [
      "=============================================================\n",
      "epoch: 3, source_val_acc_label: 0.6115, target_val_acc_label: 0.5282, source_val_label_loss: 0.9236, target_val_label_loss: 1.2463, \n",
      "=============================================================\n"
     ]
    },
    {
     "name": "stdout",
     "output_type": "stream",
     "text": [
      "epoch: 4, [batch: 1 / 656], examples_per_second: 17.4633, train_label_loss: 0.7529, \n"
     ]
    },
    {
     "name": "stdout",
     "output_type": "stream",
     "text": [
      "epoch: 4, [batch: 66 / 656], examples_per_second: 2732.1515, train_label_loss: 0.5968, \n"
     ]
    },
    {
     "name": "stdout",
     "output_type": "stream",
     "text": [
      "epoch: 4, [batch: 132 / 656], examples_per_second: 2778.7242, train_label_loss: 0.6970, \n"
     ]
    },
    {
     "name": "stdout",
     "output_type": "stream",
     "text": [
      "epoch: 4, [batch: 197 / 656], examples_per_second: 2763.5032, train_label_loss: 0.6082, \n"
     ]
    },
    {
     "name": "stdout",
     "output_type": "stream",
     "text": [
      "epoch: 4, [batch: 263 / 656], examples_per_second: 2764.7714, train_label_loss: 0.4154, \n"
     ]
    },
    {
     "name": "stdout",
     "output_type": "stream",
     "text": [
      "epoch: 4, [batch: 328 / 656], examples_per_second: 2802.3569, train_label_loss: 0.3304, \n"
     ]
    },
    {
     "name": "stdout",
     "output_type": "stream",
     "text": [
      "epoch: 4, [batch: 394 / 656], examples_per_second: 2766.9004, train_label_loss: 0.6048, \n"
     ]
    },
    {
     "name": "stdout",
     "output_type": "stream",
     "text": [
      "epoch: 4, [batch: 459 / 656], examples_per_second: 2798.5512, train_label_loss: 0.7708, \n"
     ]
    },
    {
     "name": "stdout",
     "output_type": "stream",
     "text": [
      "epoch: 4, [batch: 525 / 656], examples_per_second: 2764.2684, train_label_loss: 0.3983, \n"
     ]
    },
    {
     "name": "stdout",
     "output_type": "stream",
     "text": [
      "epoch: 4, [batch: 590 / 656], examples_per_second: 2666.3052, train_label_loss: 0.4364, \n"
     ]
    },
    {
     "name": "stdout",
     "output_type": "stream",
     "text": [
      "=============================================================\n",
      "epoch: 4, source_val_acc_label: 0.7684, target_val_acc_label: 0.6435, source_val_label_loss: 0.5895, target_val_label_loss: 1.0318, \n",
      "=============================================================\n"
     ]
    },
    {
     "name": "stdout",
     "output_type": "stream",
     "text": [
      "New best\n"
     ]
    },
    {
     "name": "stdout",
     "output_type": "stream",
     "text": [
      "epoch: 5, [batch: 1 / 654], examples_per_second: 17.7403, train_label_loss: 0.4796, \n"
     ]
    },
    {
     "name": "stdout",
     "output_type": "stream",
     "text": [
      "epoch: 5, [batch: 66 / 654], examples_per_second: 2758.4640, train_label_loss: 0.2212, \n"
     ]
    },
    {
     "name": "stdout",
     "output_type": "stream",
     "text": [
      "epoch: 5, [batch: 131 / 654], examples_per_second: 2790.8734, train_label_loss: 0.1634, \n"
     ]
    },
    {
     "name": "stdout",
     "output_type": "stream",
     "text": [
      "epoch: 5, [batch: 196 / 654], examples_per_second: 2774.8887, train_label_loss: 0.2692, \n"
     ]
    },
    {
     "name": "stdout",
     "output_type": "stream",
     "text": [
      "epoch: 5, [batch: 262 / 654], examples_per_second: 2805.9151, train_label_loss: 0.3195, \n"
     ]
    },
    {
     "name": "stdout",
     "output_type": "stream",
     "text": [
      "epoch: 5, [batch: 327 / 654], examples_per_second: 2758.5299, train_label_loss: 0.8009, \n"
     ]
    },
    {
     "name": "stdout",
     "output_type": "stream",
     "text": [
      "epoch: 5, [batch: 392 / 654], examples_per_second: 2793.4928, train_label_loss: 0.2649, \n"
     ]
    },
    {
     "name": "stdout",
     "output_type": "stream",
     "text": [
      "epoch: 5, [batch: 458 / 654], examples_per_second: 2772.1794, train_label_loss: 0.8295, \n"
     ]
    },
    {
     "name": "stdout",
     "output_type": "stream",
     "text": [
      "epoch: 5, [batch: 523 / 654], examples_per_second: 2763.5503, train_label_loss: 0.2045, \n"
     ]
    },
    {
     "name": "stdout",
     "output_type": "stream",
     "text": [
      "epoch: 5, [batch: 588 / 654], examples_per_second: 2661.3687, train_label_loss: 0.4020, \n"
     ]
    },
    {
     "name": "stdout",
     "output_type": "stream",
     "text": [
      "=============================================================\n",
      "epoch: 5, source_val_acc_label: 0.7870, target_val_acc_label: 0.6605, source_val_label_loss: 0.5566, target_val_label_loss: 0.9956, \n",
      "=============================================================\n"
     ]
    },
    {
     "name": "stdout",
     "output_type": "stream",
     "text": [
      "New best\n"
     ]
    },
    {
     "name": "stdout",
     "output_type": "stream",
     "text": [
      "epoch: 6, [batch: 1 / 655], examples_per_second: 17.4151, train_label_loss: 0.4532, \n"
     ]
    },
    {
     "name": "stdout",
     "output_type": "stream",
     "text": [
      "epoch: 6, [batch: 66 / 655], examples_per_second: 2730.5168, train_label_loss: 0.8946, \n"
     ]
    },
    {
     "name": "stdout",
     "output_type": "stream",
     "text": [
      "epoch: 6, [batch: 131 / 655], examples_per_second: 2742.6874, train_label_loss: 0.5090, \n"
     ]
    },
    {
     "name": "stdout",
     "output_type": "stream",
     "text": [
      "epoch: 6, [batch: 197 / 655], examples_per_second: 2745.4991, train_label_loss: 0.4007, \n"
     ]
    },
    {
     "name": "stdout",
     "output_type": "stream",
     "text": [
      "epoch: 6, [batch: 262 / 655], examples_per_second: 2745.6451, train_label_loss: 0.2997, \n"
     ]
    },
    {
     "name": "stdout",
     "output_type": "stream",
     "text": [
      "epoch: 6, [batch: 328 / 655], examples_per_second: 2783.4802, train_label_loss: 0.2105, \n"
     ]
    },
    {
     "name": "stdout",
     "output_type": "stream",
     "text": [
      "epoch: 6, [batch: 393 / 655], examples_per_second: 2737.9514, train_label_loss: 0.3870, \n"
     ]
    },
    {
     "name": "stdout",
     "output_type": "stream",
     "text": [
      "epoch: 6, [batch: 458 / 655], examples_per_second: 2802.5044, train_label_loss: 0.3710, \n"
     ]
    },
    {
     "name": "stdout",
     "output_type": "stream",
     "text": [
      "epoch: 6, [batch: 524 / 655], examples_per_second: 2788.2295, train_label_loss: 0.0960, \n"
     ]
    },
    {
     "name": "stdout",
     "output_type": "stream",
     "text": [
      "epoch: 6, [batch: 589 / 655], examples_per_second: 2728.1282, train_label_loss: 0.5662, \n"
     ]
    },
    {
     "name": "stdout",
     "output_type": "stream",
     "text": [
      "=============================================================\n",
      "epoch: 6, source_val_acc_label: 0.7967, target_val_acc_label: 0.6745, source_val_label_loss: 0.5054, target_val_label_loss: 0.9177, \n",
      "=============================================================\n"
     ]
    },
    {
     "name": "stdout",
     "output_type": "stream",
     "text": [
      "New best\n"
     ]
    },
    {
     "name": "stdout",
     "output_type": "stream",
     "text": [
      "epoch: 7, [batch: 1 / 655], examples_per_second: 17.5309, train_label_loss: 0.3118, \n"
     ]
    },
    {
     "name": "stdout",
     "output_type": "stream",
     "text": [
      "epoch: 7, [batch: 66 / 655], examples_per_second: 2705.0553, train_label_loss: 0.6156, \n"
     ]
    },
    {
     "name": "stdout",
     "output_type": "stream",
     "text": [
      "epoch: 7, [batch: 131 / 655], examples_per_second: 2792.4016, train_label_loss: 0.5255, \n"
     ]
    },
    {
     "name": "stdout",
     "output_type": "stream",
     "text": [
      "epoch: 7, [batch: 197 / 655], examples_per_second: 2782.4629, train_label_loss: 1.0883, \n"
     ]
    },
    {
     "name": "stdout",
     "output_type": "stream",
     "text": [
      "epoch: 7, [batch: 262 / 655], examples_per_second: 2763.1172, train_label_loss: 0.5651, \n"
     ]
    },
    {
     "name": "stdout",
     "output_type": "stream",
     "text": [
      "epoch: 7, [batch: 328 / 655], examples_per_second: 2727.0894, train_label_loss: 0.2795, \n"
     ]
    },
    {
     "name": "stdout",
     "output_type": "stream",
     "text": [
      "epoch: 7, [batch: 393 / 655], examples_per_second: 2786.1628, train_label_loss: 0.3679, \n"
     ]
    },
    {
     "name": "stdout",
     "output_type": "stream",
     "text": [
      "epoch: 7, [batch: 458 / 655], examples_per_second: 2772.0734, train_label_loss: 0.3333, \n"
     ]
    },
    {
     "name": "stdout",
     "output_type": "stream",
     "text": [
      "epoch: 7, [batch: 524 / 655], examples_per_second: 2721.4165, train_label_loss: 0.3622, \n"
     ]
    },
    {
     "name": "stdout",
     "output_type": "stream",
     "text": [
      "epoch: 7, [batch: 589 / 655], examples_per_second: 2776.1964, train_label_loss: 0.4213, \n"
     ]
    },
    {
     "name": "stdout",
     "output_type": "stream",
     "text": [
      "=============================================================\n",
      "epoch: 7, source_val_acc_label: 0.8241, target_val_acc_label: 0.6933, source_val_label_loss: 0.4737, target_val_label_loss: 0.8875, \n",
      "=============================================================\n"
     ]
    },
    {
     "name": "stdout",
     "output_type": "stream",
     "text": [
      "New best\n"
     ]
    },
    {
     "name": "stdout",
     "output_type": "stream",
     "text": [
      "epoch: 8, [batch: 1 / 652], examples_per_second: 17.7429, train_label_loss: 0.2810, \n"
     ]
    },
    {
     "name": "stdout",
     "output_type": "stream",
     "text": [
      "epoch: 8, [batch: 66 / 652], examples_per_second: 2792.4050, train_label_loss: 0.7240, \n"
     ]
    },
    {
     "name": "stdout",
     "output_type": "stream",
     "text": [
      "epoch: 8, [batch: 131 / 652], examples_per_second: 2799.8859, train_label_loss: 0.1916, \n"
     ]
    },
    {
     "name": "stdout",
     "output_type": "stream",
     "text": [
      "epoch: 8, [batch: 196 / 652], examples_per_second: 2700.0119, train_label_loss: 0.1537, \n"
     ]
    },
    {
     "name": "stdout",
     "output_type": "stream",
     "text": [
      "epoch: 8, [batch: 261 / 652], examples_per_second: 2777.0012, train_label_loss: 0.4422, \n"
     ]
    },
    {
     "name": "stdout",
     "output_type": "stream",
     "text": [
      "epoch: 8, [batch: 326 / 652], examples_per_second: 2772.2487, train_label_loss: 0.5279, \n"
     ]
    },
    {
     "name": "stdout",
     "output_type": "stream",
     "text": [
      "epoch: 8, [batch: 391 / 652], examples_per_second: 2714.9518, train_label_loss: 0.3199, \n"
     ]
    },
    {
     "name": "stdout",
     "output_type": "stream",
     "text": [
      "epoch: 8, [batch: 456 / 652], examples_per_second: 2782.4729, train_label_loss: 0.1463, \n"
     ]
    },
    {
     "name": "stdout",
     "output_type": "stream",
     "text": [
      "epoch: 8, [batch: 521 / 652], examples_per_second: 2770.3337, train_label_loss: 1.3595, \n"
     ]
    },
    {
     "name": "stdout",
     "output_type": "stream",
     "text": [
      "epoch: 8, [batch: 586 / 652], examples_per_second: 2825.5671, train_label_loss: 0.0348, \n"
     ]
    },
    {
     "name": "stdout",
     "output_type": "stream",
     "text": [
      "=============================================================\n",
      "epoch: 8, source_val_acc_label: 0.8230, target_val_acc_label: 0.6919, source_val_label_loss: 0.5086, target_val_label_loss: 0.9687, \n",
      "=============================================================\n"
     ]
    },
    {
     "name": "stdout",
     "output_type": "stream",
     "text": [
      "epoch: 9, [batch: 1 / 657], examples_per_second: 17.6602, train_label_loss: 0.6282, \n"
     ]
    },
    {
     "name": "stdout",
     "output_type": "stream",
     "text": [
      "epoch: 9, [batch: 66 / 657], examples_per_second: 2769.6954, train_label_loss: 0.0161, \n"
     ]
    },
    {
     "name": "stdout",
     "output_type": "stream",
     "text": [
      "epoch: 9, [batch: 132 / 657], examples_per_second: 2798.1212, train_label_loss: 0.5376, \n"
     ]
    },
    {
     "name": "stdout",
     "output_type": "stream",
     "text": [
      "epoch: 9, [batch: 197 / 657], examples_per_second: 2775.0169, train_label_loss: 0.2925, \n"
     ]
    },
    {
     "name": "stdout",
     "output_type": "stream",
     "text": [
      "epoch: 9, [batch: 263 / 657], examples_per_second: 2725.4570, train_label_loss: 0.4212, \n"
     ]
    },
    {
     "name": "stdout",
     "output_type": "stream",
     "text": [
      "epoch: 9, [batch: 329 / 657], examples_per_second: 2719.5354, train_label_loss: 0.4998, \n"
     ]
    },
    {
     "name": "stdout",
     "output_type": "stream",
     "text": [
      "epoch: 9, [batch: 394 / 657], examples_per_second: 2800.1654, train_label_loss: 0.3468, \n"
     ]
    },
    {
     "name": "stdout",
     "output_type": "stream",
     "text": [
      "epoch: 9, [batch: 460 / 657], examples_per_second: 2731.0912, train_label_loss: 0.0699, \n"
     ]
    },
    {
     "name": "stdout",
     "output_type": "stream",
     "text": [
      "epoch: 9, [batch: 525 / 657], examples_per_second: 2749.4291, train_label_loss: 0.3263, \n"
     ]
    },
    {
     "name": "stdout",
     "output_type": "stream",
     "text": [
      "epoch: 9, [batch: 591 / 657], examples_per_second: 2734.3360, train_label_loss: 0.3416, \n"
     ]
    },
    {
     "name": "stdout",
     "output_type": "stream",
     "text": [
      "=============================================================\n",
      "epoch: 9, source_val_acc_label: 0.8365, target_val_acc_label: 0.7068, source_val_label_loss: 0.4815, target_val_label_loss: 0.9221, \n",
      "=============================================================\n"
     ]
    },
    {
     "name": "stdout",
     "output_type": "stream",
     "text": [
      "epoch: 10, [batch: 1 / 659], examples_per_second: 17.1252, train_label_loss: 0.1827, \n"
     ]
    },
    {
     "name": "stdout",
     "output_type": "stream",
     "text": [
      "epoch: 10, [batch: 66 / 659], examples_per_second: 2789.1100, train_label_loss: 0.1075, \n"
     ]
    },
    {
     "name": "stdout",
     "output_type": "stream",
     "text": [
      "epoch: 10, [batch: 132 / 659], examples_per_second: 2793.1635, train_label_loss: 0.1034, \n"
     ]
    },
    {
     "name": "stdout",
     "output_type": "stream",
     "text": [
      "epoch: 10, [batch: 198 / 659], examples_per_second: 2786.7373, train_label_loss: 0.3610, \n"
     ]
    },
    {
     "name": "stdout",
     "output_type": "stream",
     "text": [
      "epoch: 10, [batch: 264 / 659], examples_per_second: 2748.5435, train_label_loss: 0.2470, \n"
     ]
    },
    {
     "name": "stdout",
     "output_type": "stream",
     "text": [
      "epoch: 10, [batch: 330 / 659], examples_per_second: 2805.2554, train_label_loss: 0.1632, \n"
     ]
    },
    {
     "name": "stdout",
     "output_type": "stream",
     "text": [
      "epoch: 10, [batch: 395 / 659], examples_per_second: 2619.0541, train_label_loss: 0.4899, \n"
     ]
    },
    {
     "name": "stdout",
     "output_type": "stream",
     "text": [
      "epoch: 10, [batch: 461 / 659], examples_per_second: 2741.9568, train_label_loss: 0.2403, \n"
     ]
    },
    {
     "name": "stdout",
     "output_type": "stream",
     "text": [
      "epoch: 10, [batch: 527 / 659], examples_per_second: 2795.7932, train_label_loss: 0.1869, \n"
     ]
    },
    {
     "name": "stdout",
     "output_type": "stream",
     "text": [
      "epoch: 10, [batch: 593 / 659], examples_per_second: 2793.7707, train_label_loss: 0.0724, \n"
     ]
    },
    {
     "name": "stdout",
     "output_type": "stream",
     "text": [
      "=============================================================\n",
      "epoch: 10, source_val_acc_label: 0.8266, target_val_acc_label: 0.6915, source_val_label_loss: 0.4752, target_val_label_loss: 0.9102, \n",
      "=============================================================\n"
     ]
    },
    {
     "name": "stdout",
     "output_type": "stream",
     "text": [
      "epoch: 11, [batch: 1 / 653], examples_per_second: 18.0604, train_label_loss: 0.5398, \n"
     ]
    },
    {
     "name": "stdout",
     "output_type": "stream",
     "text": [
      "epoch: 11, [batch: 66 / 653], examples_per_second: 2790.9511, train_label_loss: 0.1639, \n"
     ]
    },
    {
     "name": "stdout",
     "output_type": "stream",
     "text": [
      "epoch: 11, [batch: 131 / 653], examples_per_second: 2826.6264, train_label_loss: 0.3772, \n"
     ]
    },
    {
     "name": "stdout",
     "output_type": "stream",
     "text": [
      "epoch: 11, [batch: 196 / 653], examples_per_second: 2822.2946, train_label_loss: 0.2460, \n"
     ]
    },
    {
     "name": "stdout",
     "output_type": "stream",
     "text": [
      "epoch: 11, [batch: 261 / 653], examples_per_second: 2808.6147, train_label_loss: 0.3529, \n"
     ]
    },
    {
     "name": "stdout",
     "output_type": "stream",
     "text": [
      "epoch: 11, [batch: 327 / 653], examples_per_second: 2820.3684, train_label_loss: 0.3075, \n"
     ]
    },
    {
     "name": "stdout",
     "output_type": "stream",
     "text": [
      "epoch: 11, [batch: 392 / 653], examples_per_second: 2813.7721, train_label_loss: 0.0661, \n"
     ]
    },
    {
     "name": "stdout",
     "output_type": "stream",
     "text": [
      "epoch: 11, [batch: 457 / 653], examples_per_second: 2803.0790, train_label_loss: 0.7865, \n"
     ]
    },
    {
     "name": "stdout",
     "output_type": "stream",
     "text": [
      "epoch: 11, [batch: 522 / 653], examples_per_second: 2817.7965, train_label_loss: 0.6184, \n"
     ]
    },
    {
     "name": "stdout",
     "output_type": "stream",
     "text": [
      "epoch: 11, [batch: 587 / 653], examples_per_second: 2836.9293, train_label_loss: 0.2025, \n"
     ]
    },
    {
     "name": "stdout",
     "output_type": "stream",
     "text": [
      "=============================================================\n",
      "epoch: 11, source_val_acc_label: 0.8372, target_val_acc_label: 0.7107, source_val_label_loss: 0.4696, target_val_label_loss: 0.9448, \n",
      "=============================================================\n"
     ]
    },
    {
     "name": "stdout",
     "output_type": "stream",
     "text": [
      "Patience (3) exhausted\n"
     ]
    }
   ],
   "source": [
    "###################################\n",
    "# train\n",
    "###################################\n",
    "jig = PTN_Train_Eval_Test_Jig(model, p.BEST_MODEL_PATH, p.device)\n",
    "\n",
    "jig.train(\n",
    "    train_iterable=datasets.source.processed.train,\n",
    "    source_val_iterable=datasets.source.processed.val,\n",
    "    target_val_iterable=datasets.target.processed.val,\n",
    "    num_epochs=p.n_epoch,\n",
    "    num_logs_per_epoch=p.NUM_LOGS_PER_EPOCH,\n",
    "    patience=p.patience,\n",
    "    optimizer=optimizer,\n",
    "    criteria_for_best=p.criteria_for_best,\n",
    ")"
   ]
  },
  {
   "cell_type": "code",
   "execution_count": 14,
   "id": "31e8fabf",
   "metadata": {
    "execution": {
     "iopub.execute_input": "2022-03-04T23:40:52.739006Z",
     "iopub.status.busy": "2022-03-04T23:40:52.738738Z",
     "iopub.status.idle": "2022-03-04T23:40:52.753364Z",
     "shell.execute_reply": "2022-03-04T23:40:52.753009Z"
    },
    "papermill": {
     "duration": 0.051573,
     "end_time": "2022-03-04T23:40:52.753438",
     "exception": false,
     "start_time": "2022-03-04T23:40:52.701865",
     "status": "completed"
    },
    "tags": []
   },
   "outputs": [],
   "source": [
    "total_experiment_time_secs = time.time() - start_time_secs"
   ]
  },
  {
   "cell_type": "code",
   "execution_count": 15,
   "id": "87b9595b",
   "metadata": {
    "execution": {
     "iopub.execute_input": "2022-03-04T23:40:52.829382Z",
     "iopub.status.busy": "2022-03-04T23:40:52.829112Z",
     "iopub.status.idle": "2022-03-04T23:41:17.605809Z",
     "shell.execute_reply": "2022-03-04T23:41:17.606130Z"
    },
    "papermill": {
     "duration": 24.814052,
     "end_time": "2022-03-04T23:41:17.606240",
     "exception": false,
     "start_time": "2022-03-04T23:40:52.792188",
     "status": "completed"
    },
    "tags": []
   },
   "outputs": [],
   "source": [
    "###################################\n",
    "# Evaluate the model\n",
    "###################################\n",
    "source_test_label_accuracy, source_test_label_loss = jig.test(datasets.source.processed.test)\n",
    "target_test_label_accuracy, target_test_label_loss = jig.test(datasets.target.processed.test)\n",
    "\n",
    "source_val_label_accuracy, source_val_label_loss = jig.test(datasets.source.processed.val)\n",
    "target_val_label_accuracy, target_val_label_loss = jig.test(datasets.target.processed.val)\n",
    "\n",
    "history = jig.get_history()\n",
    "\n",
    "total_epochs_trained = len(history[\"epoch_indices\"])\n",
    "\n",
    "val_dl = Iterable_Aggregator((datasets.source.original.val,datasets.target.original.val))\n",
    "\n",
    "confusion = ptn_confusion_by_domain_over_dataloader(model, p.device, val_dl)\n",
    "per_domain_accuracy = per_domain_accuracy_from_confusion(confusion)\n",
    "\n",
    "# Add a key to per_domain_accuracy for if it was a source domain\n",
    "for domain, accuracy in per_domain_accuracy.items():\n",
    "    per_domain_accuracy[domain] = {\n",
    "        \"accuracy\": accuracy,\n",
    "        \"source?\": domain in p.domains_source\n",
    "    }\n",
    "\n",
    "# Do an independent accuracy assesment JUST TO BE SURE!\n",
    "# _source_test_label_accuracy = independent_accuracy_assesment(model, datasets.source.processed.test, p.device)\n",
    "# _target_test_label_accuracy = independent_accuracy_assesment(model, datasets.target.processed.test, p.device)\n",
    "# _source_val_label_accuracy = independent_accuracy_assesment(model, datasets.source.processed.val, p.device)\n",
    "# _target_val_label_accuracy = independent_accuracy_assesment(model, datasets.target.processed.val, p.device)\n",
    "\n",
    "# assert(_source_test_label_accuracy == source_test_label_accuracy)\n",
    "# assert(_target_test_label_accuracy == target_test_label_accuracy)\n",
    "# assert(_source_val_label_accuracy == source_val_label_accuracy)\n",
    "# assert(_target_val_label_accuracy == target_val_label_accuracy)\n",
    "\n",
    "experiment = {\n",
    "    \"experiment_name\": p.experiment_name,\n",
    "    \"parameters\": dict(p),\n",
    "    \"results\": {\n",
    "        \"source_test_label_accuracy\": source_test_label_accuracy,\n",
    "        \"source_test_label_loss\": source_test_label_loss,\n",
    "        \"target_test_label_accuracy\": target_test_label_accuracy,\n",
    "        \"target_test_label_loss\": target_test_label_loss,\n",
    "        \"source_val_label_accuracy\": source_val_label_accuracy,\n",
    "        \"source_val_label_loss\": source_val_label_loss,\n",
    "        \"target_val_label_accuracy\": target_val_label_accuracy,\n",
    "        \"target_val_label_loss\": target_val_label_loss,\n",
    "        \"total_epochs_trained\": total_epochs_trained,\n",
    "        \"total_experiment_time_secs\": total_experiment_time_secs,\n",
    "        \"confusion\": confusion,\n",
    "        \"per_domain_accuracy\": per_domain_accuracy,\n",
    "    },\n",
    "    \"history\": history,\n",
    "    \"dataset_metrics\": get_dataset_metrics(datasets, \"ptn\"),\n",
    "}"
   ]
  },
  {
   "cell_type": "code",
   "execution_count": 16,
   "id": "54a21829",
   "metadata": {
    "execution": {
     "iopub.execute_input": "2022-03-04T23:41:17.678791Z",
     "iopub.status.busy": "2022-03-04T23:41:17.678519Z",
     "iopub.status.idle": "2022-03-04T23:41:17.860515Z",
     "shell.execute_reply": "2022-03-04T23:41:17.860900Z"
    },
    "papermill": {
     "duration": 0.218007,
     "end_time": "2022-03-04T23:41:17.861022",
     "exception": false,
     "start_time": "2022-03-04T23:41:17.643015",
     "status": "completed"
    },
    "tags": []
   },
   "outputs": [
    {
     "data": {
      "image/png": "[encoded data removed]",
      "text/plain": [
       "<Figure size 1080x504 with 1 Axes>"
      ]
     },
     "metadata": {
      "needs_background": "light"
     },
     "output_type": "display_data"
    }
   ],
   "source": [
    "ax = get_loss_curve(experiment)\n",
    "plt.show()"
   ]
  },
  {
   "cell_type": "code",
   "execution_count": 17,
   "id": "fd8a0f60",
   "metadata": {
    "execution": {
     "iopub.execute_input": "2022-03-04T23:41:17.933154Z",
     "iopub.status.busy": "2022-03-04T23:41:17.932898Z",
     "iopub.status.idle": "2022-03-04T23:41:18.192005Z",
     "shell.execute_reply": "2022-03-04T23:41:18.192429Z"
    },
    "papermill": {
     "duration": 0.296432,
     "end_time": "2022-03-04T23:41:18.192563",
     "exception": false,
     "start_time": "2022-03-04T23:41:17.896131",
     "status": "completed"
    },
    "tags": []
   },
   "outputs": [
    {
     "data": {
      "text/plain": [
       "<matplotlib.axes._subplots.AxesSubplot at 0x7ff8f4655eb0>"
      ]
     },
     "execution_count": 17,
     "metadata": {},
     "output_type": "execute_result"
    },
    {
     "data": {
      "image/png": "[encoded data removed]",
      "text/plain": [
       "<Figure size 1080x504 with 1 Axes>"
      ]
     },
     "metadata": {
      "needs_background": "light"
     },
     "output_type": "display_data"
    }
   ],
   "source": [
    "get_results_table(experiment)"
   ]
  },
  {
   "cell_type": "code",
   "execution_count": 18,
   "id": "cf8dc689",
   "metadata": {
    "execution": {
     "iopub.execute_input": "2022-03-04T23:41:18.272568Z",
     "iopub.status.busy": "2022-03-04T23:41:18.272310Z",
     "iopub.status.idle": "2022-03-04T23:41:18.445476Z",
     "shell.execute_reply": "2022-03-04T23:41:18.445078Z"
    },
    "papermill": {
     "duration": 0.211577,
     "end_time": "2022-03-04T23:41:18.445575",
     "exception": false,
     "start_time": "2022-03-04T23:41:18.233998",
     "status": "completed"
    },
    "tags": []
   },
   "outputs": [
    {
     "data": {
      "text/plain": [
       "<matplotlib.axes._subplots.AxesSubplot at 0x7ff8f464f7f0>"
      ]
     },
     "execution_count": 18,
     "metadata": {},
     "output_type": "execute_result"
    },
    {
     "data": {
      "image/png": "[encoded data removed]",
      "text/plain": [
       "<Figure size 1080x504 with 1 Axes>"
      ]
     },
     "metadata": {
      "needs_background": "light"
     },
     "output_type": "display_data"
    }
   ],
   "source": [
    "get_domain_accuracies(experiment)"
   ]
  },
  {
   "cell_type": "code",
   "execution_count": 19,
   "id": "a74ae082",
   "metadata": {
    "execution": {
     "iopub.execute_input": "2022-03-04T23:41:18.526541Z",
     "iopub.status.busy": "2022-03-04T23:41:18.526276Z",
     "iopub.status.idle": "2022-03-04T23:41:18.540335Z",
     "shell.execute_reply": "2022-03-04T23:41:18.540896Z"
    },
    "papermill": {
     "duration": 0.054101,
     "end_time": "2022-03-04T23:41:18.541050",
     "exception": false,
     "start_time": "2022-03-04T23:41:18.486949",
     "status": "completed"
    },
    "tags": []
   },
   "outputs": [
    {
     "name": "stdout",
     "output_type": "stream",
     "text": [
      "Source Test Label Accuracy: 0.8251824817518248 Target Test Label Accuracy: 0.6879120879120879\n",
      "Source Val Label Accuracy: 0.8240875912408759 Target Val Label Accuracy: 0.6932967032967033\n"
     ]
    }
   ],
   "source": [
    "print(\"Source Test Label Accuracy:\", experiment[\"results\"][\"source_test_label_accuracy\"], \"Target Test Label Accuracy:\", experiment[\"results\"][\"target_test_label_accuracy\"])\n",
    "print(\"Source Val Label Accuracy:\", experiment[\"results\"][\"source_val_label_accuracy\"], \"Target Val Label Accuracy:\", experiment[\"results\"][\"target_val_label_accuracy\"])"
   ]
  },
  {
   "cell_type": "code",
   "execution_count": 20,
   "id": "dacca602",
   "metadata": {
    "execution": {
     "iopub.execute_input": "2022-03-04T23:41:18.619504Z",
     "iopub.status.busy": "2022-03-04T23:41:18.619249Z",
     "iopub.status.idle": "2022-03-04T23:41:18.632988Z",
     "shell.execute_reply": "2022-03-04T23:41:18.632527Z"
    },
    "papermill": {
     "duration": 0.05242,
     "end_time": "2022-03-04T23:41:18.633083",
     "exception": false,
     "start_time": "2022-03-04T23:41:18.580663",
     "status": "completed"
    },
    "tags": [
     "experiment_json"
    ]
   },
   "outputs": [
    {
     "data": {
      "text/plain": [
       "'{\"experiment_name\": \"nWay_oracle.run2\", \"parameters\": {\"experiment_name\": \"nWay_oracle.run2\", \"device\": \"cuda\", \"lr\": 0.001, \"seed\": 1337, \"dataset_seed\": 1337, \"labels_source\": [\"3123D52\", \"3123D65\", \"3123D79\", \"3123D80\", \"3123D54\", \"3123D70\", \"3123D7B\", \"3123D89\", \"3123D58\", \"3123D76\", \"3123D7D\", \"3123EFE\", \"3123D64\", \"3123D78\", \"3123D7E\", \"3124E4A\"], \"labels_target\": [\"3123D52\", \"3123D65\", \"3123D79\", \"3123D80\", \"3123D54\", \"3123D70\", \"3123D7B\", \"3123D89\", \"3123D58\", \"3123D76\", \"3123D7D\", \"3123EFE\", \"3123D64\", \"3123D78\", \"3123D7E\", \"3124E4A\"], \"x_transforms_source\": [], \"x_transforms_target\": [], \"episode_transforms_source\": [], \"episode_transforms_target\": [], \"num_examples_per_domain_per_label_source\": 1000, \"num_examples_per_domain_per_label_target\": 1000, \"n_shot\": 3, \"n_query\": 2, \"train_k_factor\": 1, \"val_k_factor\": 2, \"test_k_factor\": 2, \"torch_default_dtype\": \"torch.float32\", \"n_epoch\": 50, \"patience\": 3, \"criteria_for_best\": \"target_loss\", \"x_net\": [{\"class\": \"nnReshape\", \"kargs\": {\"shape\": [-1, 1, 2, 256]}}, {\"class\": \"Conv2d\", \"kargs\": {\"in_channels\": 1, \"out_channels\": 256, \"kernel_size\": [1, 7], \"bias\": false, \"padding\": [0, 3]}}, {\"class\": \"ReLU\", \"kargs\": {\"inplace\": true}}, {\"class\": \"BatchNorm2d\", \"kargs\": {\"num_features\": 256}}, {\"class\": \"Conv2d\", \"kargs\": {\"in_channels\": 256, \"out_channels\": 80, \"kernel_size\": [2, 7], \"bias\": true, \"padding\": [0, 3]}}, {\"class\": \"ReLU\", \"kargs\": {\"inplace\": true}}, {\"class\": \"BatchNorm2d\", \"kargs\": {\"num_features\": 80}}, {\"class\": \"Flatten\", \"kargs\": {}}, {\"class\": \"Linear\", \"kargs\": {\"in_features\": 20480, \"out_features\": 256}}, {\"class\": \"ReLU\", \"kargs\": {\"inplace\": true}}, {\"class\": \"BatchNorm1d\", \"kargs\": {\"num_features\": 256}}, {\"class\": \"Linear\", \"kargs\": {\"in_features\": 256, \"out_features\": 256}}], \"NUM_LOGS_PER_EPOCH\": 10, \"BEST_MODEL_PATH\": \"./best_model.pth\", \"pickle_name\": \"oracle.Run2_10kExamples_stratified_ds.2022A.pkl\", \"n_way\": 10, \"domains_source\": [8, 32, 50], \"domains_target\": [14, 20, 26, 38, 44]}, \"results\": {\"source_test_label_accuracy\": 0.8251824817518248, \"source_test_label_loss\": 0.4507780075073242, \"target_test_label_accuracy\": 0.6879120879120879, \"target_test_label_loss\": 0.8954362273216248, \"source_val_label_accuracy\": 0.8240875912408759, \"source_val_label_loss\": 0.4737202525138855, \"target_val_label_accuracy\": 0.6932967032967033, \"target_val_label_loss\": 0.8874523043632507, \"total_epochs_trained\": 11, \"total_experiment_time_secs\": 184.99794268608093, \"confusion\": {\"8\": {\"14\": {\"14\": 84, \"6\": 18, \"1\": 7, \"8\": 5, \"4\": 3, \"7\": 1}, \"4\": {\"7\": 27, \"4\": 59, \"1\": 16, \"6\": 4, \"10\": 1, \"5\": 2, \"14\": 1, \"11\": 2}, \"9\": {\"9\": 120}, \"10\": {\"10\": 63, \"5\": 17, \"13\": 22, \"7\": 4, \"1\": 5, \"4\": 1}, \"12\": {\"12\": 96, \"2\": 1, \"15\": 5}, \"1\": {\"1\": 70, \"10\": 6, \"13\": 2, \"7\": 16, \"5\": 5, \"14\": 3, \"6\": 3, \"4\": 15}, \"13\": {\"10\": 21, \"13\": 76, \"7\": 4, \"5\": 7, \"4\": 2, \"1\": 2}, \"7\": {\"4\": 18, \"7\": 84, \"1\": 9, \"5\": 1, \"6\": 1, \"11\": 3, \"13\": 2}, \"6\": {\"14\": 19, \"6\": 71, \"8\": 17, \"1\": 7, \"4\": 2, \"11\": 2}, \"5\": {\"5\": 79, \"10\": 20, \"4\": 1, \"1\": 14, \"13\": 4}, \"2\": {\"2\": 101, \"12\": 3, \"15\": 2}, \"11\": {\"7\": 7, \"11\": 51, \"8\": 25, \"12\": 4, \"4\": 5, \"6\": 5, \"1\": 1, \"13\": 2}, \"3\": {\"3\": 120}, \"0\": {\"0\": 108}, \"8\": {\"8\": 76, \"6\": 17, \"11\": 11, \"4\": 3, \"14\": 7, \"1\": 1, \"7\": 1}, \"15\": {\"15\": 106, \"2\": 6, \"12\": 8}}, \"50\": {\"1\": {\"1\": 117, \"11\": 2, \"13\": 1}, \"10\": {\"10\": 107, \"0\": 5}, \"2\": {\"2\": 107, \"0\": 6, \"14\": 1}, \"7\": {\"7\": 110, \"5\": 1, \"4\": 5}, \"8\": {\"8\": 118}, \"0\": {\"0\": 107, \"2\": 9, \"10\": 4}, \"15\": {\"15\": 99, \"12\": 7, \"9\": 6, \"4\": 1, \"5\": 1, \"6\": 4}, \"13\": {\"13\": 110, \"10\": 1, \"1\": 6, \"8\": 1}, \"12\": {\"12\": 94, \"15\": 3, \"11\": 7, \"6\": 1, \"9\": 3}, \"4\": {\"4\": 94, \"5\": 12, \"7\": 4}, \"14\": {\"14\": 120}, \"5\": {\"5\": 85, \"4\": 19, \"6\": 6, \"7\": 8, \"15\": 2}, \"11\": {\"11\": 101, \"12\": 11, \"1\": 3, \"6\": 1}, \"9\": {\"9\": 109, \"15\": 6, \"6\": 1}, \"3\": {\"3\": 118}, \"6\": {\"6\": 93, \"5\": 12, \"4\": 5, \"15\": 5, \"9\": 1}}, \"32\": {\"9\": {\"9\": 113, \"11\": 1}, \"4\": {\"4\": 88, \"0\": 8, \"11\": 15, \"7\": 1, \"8\": 2, \"14\": 2}, \"1\": {\"1\": 110}, \"13\": {\"4\": 9, \"11\": 9, \"13\": 82, \"3\": 6}, \"11\": {\"13\": 8, \"4\": 27, \"11\": 65, \"0\": 5, \"8\": 1, \"3\": 3, \"14\": 1}, \"8\": {\"8\": 90, \"2\": 3, \"7\": 14, \"15\": 1, \"0\": 5, \"14\": 1}, \"2\": {\"2\": 69, \"14\": 19, \"0\": 11, \"7\": 15, \"8\": 2}, \"10\": {\"10\": 108}, \"6\": {\"6\": 110}, \"12\": {\"12\": 116}, \"7\": {\"2\": 8, \"8\": 23, \"7\": 61, \"0\": 17, \"14\": 5, \"4\": 1, \"15\": 2, \"5\": 1}, \"5\": {\"5\": 104, \"15\": 7, \"7\": 2, \"14\": 2, \"2\": 4, \"0\": 1}, \"0\": {\"8\": 13, \"4\": 8, \"2\": 8, \"0\": 74, \"7\": 15, \"14\": 2}, \"14\": {\"2\": 27, \"14\": 73, \"7\": 4, \"0\": 5, \"5\": 1}, \"15\": {\"15\": 106, \"5\": 6}, \"3\": {\"4\": 5, \"3\": 94, \"13\": 1}}, \"14\": {\"14\": {\"10\": 3, \"14\": 62, \"2\": 21, \"5\": 22, \"3\": 2, \"7\": 9, \"4\": 1}, \"4\": {\"4\": 94, \"5\": 10, \"0\": 11, \"8\": 1, \"10\": 1, \"9\": 1, \"1\": 1, \"2\": 1}, \"9\": {\"9\": 114, \"8\": 3, \"4\": 1, \"0\": 1, \"12\": 1}, \"10\": {\"4\": 5, \"5\": 6, \"10\": 53, \"2\": 3, \"14\": 2, \"3\": 6, \"8\": 27, \"0\": 15, \"9\": 2, \"15\": 1}, \"12\": {\"12\": 60, \"9\": 11, \"15\": 13, \"6\": 3, \"0\": 7, \"10\": 7, \"11\": 3, \"1\": 3, \"8\": 4, \"3\": 2, \"4\": 1, \"5\": 1, \"14\": 1}, \"1\": {\"1\": 117, \"4\": 1}, \"13\": {\"13\": 74, \"6\": 28, \"3\": 4, \"7\": 2}, \"7\": {\"7\": 85, \"14\": 12, \"2\": 7, \"5\": 1, \"13\": 1}, \"6\": {\"13\": 20, \"6\": 85, \"7\": 3, \"3\": 7, \"2\": 1}, \"5\": {\"5\": 60, \"2\": 15, \"14\": 23, \"3\": 3, \"4\": 3, \"10\": 3, \"7\": 5, \"8\": 2}, \"2\": {\"7\": 18, \"14\": 22, \"6\": 2, \"4\": 6, \"2\": 39, \"3\": 5, \"5\": 13, \"10\": 3, \"8\": 1, \"0\": 1}, \"11\": {\"11\": 114}, \"3\": {\"3\": 97, \"6\": 5, \"14\": 3, \"2\": 1, \"13\": 5, \"10\": 5}, \"0\": {\"0\": 80, \"8\": 9, \"5\": 4, \"4\": 14, \"9\": 1, \"10\": 6}, \"15\": {\"15\": 113, \"13\": 1}, \"8\": {\"10\": 17, \"0\": 13, \"8\": 79, \"12\": 3, \"9\": 2}}, \"26\": {\"1\": {\"1\": 74, \"6\": 22, \"14\": 6, \"5\": 15, \"10\": 3}, \"10\": {\"0\": 21, \"15\": 8, \"2\": 5, \"14\": 19, \"10\": 40, \"5\": 9, \"8\": 5, \"6\": 3, \"12\": 1, \"13\": 1, \"1\": 3, \"9\": 2, \"7\": 1}, \"2\": {\"8\": 7, \"13\": 5, \"7\": 12, \"2\": 48, \"9\": 11, \"3\": 8, \"15\": 9, \"0\": 1, \"10\": 3}, \"7\": {\"2\": 14, \"7\": 61, \"3\": 20, \"13\": 5, \"8\": 1, \"0\": 2, \"9\": 3, \"15\": 1, \"4\": 1, \"10\": 1, \"14\": 1}, \"8\": {\"0\": 17, \"8\": 35, \"15\": 4, \"7\": 5, \"2\": 13, \"9\": 16, \"10\": 9, \"13\": 5}, \"0\": {\"15\": 7, \"0\": 54, \"14\": 14, \"5\": 2, \"8\": 7, \"3\": 2, \"9\": 4, \"10\": 17, \"2\": 4, \"13\": 1}, \"15\": {\"10\": 11, \"15\": 60, \"8\": 10, \"2\": 10, \"0\": 12, \"14\": 4, \"7\": 6, \"9\": 6, \"13\": 1}, \"13\": {\"0\": 4, \"13\": 56, \"9\": 18, \"7\": 12, \"8\": 8, \"3\": 3, \"15\": 1, \"14\": 2, \"2\": 12, \"10\": 4}, \"12\": {\"12\": 114, \"13\": 1, \"5\": 2, \"6\": 1}, \"4\": {\"4\": 110, \"3\": 4}, \"14\": {\"5\": 9, \"10\": 15, \"1\": 3, \"14\": 56, \"15\": 8, \"8\": 2, \"6\": 11, \"0\": 9, \"9\": 1}, \"5\": {\"5\": 57, \"1\": 10, \"6\": 31, \"10\": 7, \"14\": 10, \"0\": 1, \"8\": 2}, \"11\": {\"11\": 104}, \"9\": {\"0\": 4, \"8\": 18, \"15\": 5, \"9\": 36, \"13\": 3, \"7\": 9, \"3\": 2, \"2\": 11, \"10\": 6, \"14\": 2}, \"3\": {\"3\": 91, \"4\": 8, \"7\": 13, \"9\": 1, \"13\": 1, \"15\": 1, \"2\": 1}, \"6\": {\"6\": 69, \"5\": 27, \"14\": 4, \"1\": 8, \"12\": 2, \"0\": 2}}, \"44\": {\"9\": {\"9\": 91, \"7\": 18, \"6\": 9}, \"4\": {\"4\": 106, \"14\": 14}, \"1\": {\"2\": 23, \"1\": 93}, \"13\": {\"13\": 109, \"6\": 2, \"4\": 3, \"9\": 1, \"7\": 1}, \"11\": {\"11\": 108}, \"8\": {\"8\": 95, \"5\": 3, \"0\": 7, \"15\": 1}, \"2\": {\"2\": 101, \"1\": 19}, \"10\": {\"10\": 111, \"7\": 4, \"6\": 4, \"9\": 1}, \"6\": {\"6\": 114, \"7\": 3, \"13\": 1, \"9\": 1, \"10\": 1}, \"12\": {\"12\": 107, \"3\": 9}, \"15\": {\"15\": 99, \"5\": 15, \"0\": 3, \"8\": 1, \"14\": 2}, \"14\": {\"14\": 92, \"5\": 7, \"4\": 17}, \"3\": {\"3\": 96, \"12\": 8}, \"0\": {\"0\": 91, \"15\": 2, \"8\": 14, \"5\": 3}, \"7\": {\"7\": 88, \"9\": 25, \"6\": 3, \"10\": 2}, \"5\": {\"14\": 7, \"5\": 85, \"0\": 3, \"15\": 11, \"8\": 5, \"4\": 1}}, \"38\": {\"7\": {\"7\": 106, \"0\": 11, \"14\": 1}, \"9\": {\"9\": 87, \"5\": 9, \"12\": 5, \"8\": 1}, \"11\": {\"11\": 118}, \"8\": {\"8\": 110, \"14\": 1, \"12\": 1, \"5\": 5, \"7\": 2, \"2\": 1}, \"5\": {\"5\": 50, \"12\": 29, \"9\": 13, \"8\": 22, \"0\": 1, \"7\": 1}, \"0\": {\"0\": 106, \"7\": 13, \"4\": 1}, \"10\": {\"4\": 12, \"10\": 83, \"13\": 7, \"3\": 14}, \"6\": {\"6\": 110, \"15\": 5, \"1\": 1}, \"2\": {\"2\": 106, \"14\": 14}, \"4\": {\"4\": 77, \"13\": 4, \"3\": 6, \"10\": 12, \"0\": 1}, \"14\": {\"14\": 81, \"8\": 4, \"7\": 7, \"5\": 1, \"2\": 20, \"4\": 3, \"13\": 1, \"12\": 1}, \"1\": {\"15\": 11, \"1\": 103}, \"13\": {\"13\": 79, \"3\": 19, \"10\": 14, \"4\": 5, \"14\": 1}, \"15\": {\"1\": 19, \"15\": 74, \"6\": 20, \"9\": 1}, \"12\": {\"12\": 78, \"5\": 27, \"9\": 8, \"8\": 5}, \"3\": {\"13\": 12, \"3\": 65, \"10\": 28, \"4\": 5, \"11\": 1, \"0\": 1}}, \"20\": {\"8\": {\"8\": 59, \"1\": 4, \"0\": 7, \"11\": 24, \"14\": 19, \"3\": 1, \"5\": 6}, \"3\": {\"2\": 12, \"4\": 19, \"3\": 30, \"7\": 14, \"15\": 9, \"9\": 13, \"13\": 4, \"5\": 8, \"12\": 2, \"1\": 2, \"6\": 1}, \"12\": {\"13\": 19, \"7\": 6, \"12\": 58, \"10\": 5, \"9\": 3, \"3\": 2, \"2\": 2, \"15\": 4, \"4\": 1}, \"9\": {\"4\": 8, \"3\": 13, \"12\": 4, \"1\": 7, \"7\": 8, \"9\": 32, \"5\": 11, \"2\": 12, \"15\": 15, \"13\": 4}, \"10\": {\"10\": 73, \"7\": 16, \"13\": 3, \"14\": 1, \"6\": 17, \"12\": 3, \"4\": 5, \"3\": 2}, \"15\": {\"13\": 10, \"4\": 9, \"15\": 37, \"9\": 19, \"3\": 11, \"1\": 8, \"5\": 9, \"7\": 3, \"12\": 2, \"2\": 10}, \"1\": {\"1\": 88, \"15\": 5, \"0\": 4, \"5\": 11, \"2\": 3, \"14\": 1, \"8\": 1, \"9\": 3, \"4\": 2}, \"13\": {\"13\": 66, \"12\": 23, \"15\": 6, \"3\": 6, \"4\": 5, \"7\": 2, \"9\": 2, \"5\": 1, \"10\": 1}, \"4\": {\"4\": 28, \"8\": 2, \"9\": 12, \"15\": 14, \"7\": 11, \"3\": 15, \"5\": 5, \"12\": 4, \"13\": 7, \"2\": 4, \"10\": 7, \"1\": 1}, \"2\": {\"4\": 8, \"3\": 10, \"2\": 28, \"15\": 16, \"5\": 13, \"9\": 13, \"1\": 4, \"12\": 1, \"14\": 1, \"11\": 1, \"6\": 1, \"13\": 1, \"7\": 1}, \"0\": {\"0\": 90, \"8\": 6, \"1\": 6, \"11\": 10, \"2\": 2}, \"6\": {\"7\": 13, \"10\": 8, \"6\": 86, \"4\": 2, \"3\": 3}, \"7\": {\"9\": 3, \"7\": 58, \"4\": 5, \"3\": 7, \"2\": 2, \"5\": 6, \"6\": 7, \"10\": 9, \"15\": 2, \"13\": 1}, \"14\": {\"8\": 16, \"14\": 78, \"2\": 4, \"11\": 13, \"5\": 3, \"7\": 2, \"0\": 1, \"15\": 2, \"1\": 1}, \"11\": {\"0\": 12, \"8\": 23, \"11\": 54, \"9\": 1, \"14\": 10, \"3\": 1, \"5\": 1, \"1\": 2}, \"5\": {\"9\": 11, \"1\": 13, \"8\": 4, \"5\": 34, \"2\": 12, \"3\": 11, \"15\": 10, \"14\": 2, \"7\": 2, \"4\": 5, \"11\": 2}}}, \"per_domain_accuracy\": {\"8\": {\"accuracy\": 0.7494505494505495, \"source?\": true}, \"50\": {\"accuracy\": 0.9080645161290323, \"source?\": true}, \"32\": {\"accuracy\": 0.8127777777777778, \"source?\": true}, \"14\": {\"accuracy\": 0.7206521739130435, \"source?\": false}, \"26\": {\"accuracy\": 0.5916666666666667, \"source?\": false}, \"44\": {\"accuracy\": 0.8619565217391304, \"source?\": false}, \"38\": {\"accuracy\": 0.778804347826087, \"source?\": false}, \"20\": {\"accuracy\": 0.505056179775281, \"source?\": false}}}, \"history\": {\"epoch_indices\": [1, 2, 3, 4, 5, 6, 7, 8, 9, 10, 11], \"train_label_loss\": [0.9486968021971472, 0.9737324676838125, 0.9169377260919394, 0.6579923654974598, 0.5044174495890782, 0.44889719309925125, 0.3989509132498776, 0.38193558601868205, 0.33939248568391145, 0.32687465335795024, 0.3118689638358551], \"source_val_label_loss\": [1.3106472492218018, 0.9440101385116577, 0.9236161708831787, 0.5894697308540344, 0.5566374659538269, 0.5053703784942627, 0.4737202525138855, 0.5086037516593933, 0.48152679204940796, 0.4751683175563812, 0.46959730982780457], \"target_val_label_loss\": [1.5764299631118774, 1.2330296039581299, 1.246268630027771, 1.0318325757980347, 0.9956092834472656, 0.9177335500717163, 0.8874523043632507, 0.9687244892120361, 0.9221155047416687, 0.910201370716095, 0.9447576999664307], \"source_val_acc_label\": [0.5952554744525548, 0.5972627737226277, 0.6114963503649635, 0.7684306569343066, 0.7870437956204379, 0.7967153284671533, 0.8240875912408759, 0.822992700729927, 0.8364963503649635, 0.8266423357664233, 0.8372262773722627], \"target_val_acc_label\": [0.5073626373626373, 0.5125274725274725, 0.5282417582417582, 0.6435164835164835, 0.6605494505494506, 0.6745054945054945, 0.6932967032967033, 0.6918681318681319, 0.7068131868131868, 0.6915384615384615, 0.7106593406593407]}, \"dataset_metrics\": {\"source\": {\"train\": {\"n_unique_x\": 32800, \"n_unique_y\": 16, \"n_batch/episode\": 656}, \"val\": {\"n_unique_x\": 7192, \"n_unique_y\": 16, \"n_batch/episode\": 274}, \"test\": {\"n_unique_x\": 7192, \"n_unique_y\": 16, \"n_batch/episode\": 274}}, \"target\": {\"train\": {\"n_unique_x\": 54350, \"n_unique_y\": 16, \"n_batch/episode\": 1087}, \"val\": {\"n_unique_x\": 11972, \"n_unique_y\": 16, \"n_batch/episode\": 455}, \"test\": {\"n_unique_x\": 11972, \"n_unique_y\": 16, \"n_batch/episode\": 455}}}}'"
      ]
     },
     "execution_count": 20,
     "metadata": {},
     "output_type": "execute_result"
    }
   ],
   "source": [
    "json.dumps(experiment)"
   ]
  }
 ],
 "metadata": {
  "celltoolbar": "Tags",
  "kernelspec": {
   "display_name": "Python 3 (ipykernel)",
   "language": "python",
   "name": "python3"
  },
  "language_info": {
   "codemirror_mode": {
    "name": "ipython",
    "version": 3
   },
   "file_extension": ".py",
   "mimetype": "text/x-python",
   "name": "python",
   "nbconvert_exporter": "python",
   "pygments_lexer": "ipython3",
   "version": "3.8.10"
  },
  "papermill": {
   "default_parameters": {},
   "duration": 213.714175,
   "end_time": "2022-03-04T23:41:19.280355",
   "environment_variables": {},
   "exception": null,
   "input_path": "/mnt/wd500GB/CSC500/csc500-main/csc500-notebooks/templates/ptn_template.ipynb",
   "output_path": "trial.ipynb",
   "parameters": {
    "parameters": {
     "BEST_MODEL_PATH": "./best_model.pth",
     "NUM_LOGS_PER_EPOCH": 10,
     "criteria_for_best": "target_loss",
     "dataset_seed": 1337,
     "device": "cuda",
     "domains_source": [
      8,
      32,
      50
     ],
     "domains_target": [
      14,
      20,
      26,
      38,
      44
     ],
     "episode_transforms_source": [],
     "episode_transforms_target": [],
     "experiment_name": "nWay_oracle.run2",
     "labels_source": [
      "3123D52",
      "3123D65",
      "3123D79",
      "3123D80",
      "3123D54",
      "3123D70",
      "3123D7B",
      "3123D89",
      "3123D58",
      "3123D76",
      "3123D7D",
      "3123EFE",
      "3123D64",
      "3123D78",
      "3123D7E",
      "3124E4A"
     ],
     "labels_target": [
      "3123D52",
      "3123D65",
      "3123D79",
      "3123D80",
      "3123D54",
      "3123D70",
      "3123D7B",
      "3123D89",
      "3123D58",
      "3123D76",
      "3123D7D",
      "3123EFE",
      "3123D64",
      "3123D78",
      "3123D7E",
      "3124E4A"
     ],
     "lr": 0.001,
     "n_epoch": 50,
     "n_query": 2,
     "n_shot": 3,
     "n_way": 10,
     "num_examples_per_domain_per_label_source": 1000,
     "num_examples_per_domain_per_label_target": 1000,
     "patience": 3,
     "pickle_name": "oracle.Run2_10kExamples_stratified_ds.2022A.pkl",
     "seed": 1337,
     "test_k_factor": 2,
     "torch_default_dtype": "torch.float32",
     "train_k_factor": 1,
     "val_k_factor": 2,
     "x_net": [
      {
       "class": "nnReshape",
       "kargs": {
        "shape": [
         -1,
         1,
         2,
         256
        ]
       }
      },
      {
       "class": "Conv2d",
       "kargs": {
        "bias": false,
        "in_channels": 1,
        "kernel_size": [
         1,
         7
        ],
        "out_channels": 256,
        "padding": [
         0,
         3
        ]
       }
      },
      {
       "class": "ReLU",
       "kargs": {
        "inplace": true
       }
      },
      {
       "class": "BatchNorm2d",
       "kargs": {
        "num_features": 256
       }
      },
      {
       "class": "Conv2d",
       "kargs": {
        "bias": true,
        "in_channels": 256,
        "kernel_size": [
         2,
         7
        ],
        "out_channels": 80,
        "padding": [
         0,
         3
        ]
       }
      },
      {
       "class": "ReLU",
       "kargs": {
        "inplace": true
       }
      },
      {
       "class": "BatchNorm2d",
       "kargs": {
        "num_features": 80
       }
      },
      {
       "class": "Flatten",
       "kargs": {}
      },
      {
       "class": "Linear",
       "kargs": {
        "in_features": 20480,
        "out_features": 256
       }
      },
      {
       "class": "ReLU",
       "kargs": {
        "inplace": true
       }
      },
      {
       "class": "BatchNorm1d",
       "kargs": {
        "num_features": 256
       }
      },
      {
       "class": "Linear",
       "kargs": {
        "in_features": 256,
        "out_features": 256
       }
      }
     ],
     "x_transforms_source": [],
     "x_transforms_target": []
    }
   },
   "start_time": "2022-03-04T23:37:45.566180",
   "version": "2.3.4"
  }
 },
 "nbformat": 4,
 "nbformat_minor": 5
}