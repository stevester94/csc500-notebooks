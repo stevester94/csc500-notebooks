{
 "cells": [
  {
   "cell_type": "markdown",
   "id": "9fea5f46",
   "metadata": {
    "papermill": {
     "duration": 0.01137,
     "end_time": "2022-03-04T23:55:48.950303",
     "exception": false,
     "start_time": "2022-03-04T23:55:48.938933",
     "status": "completed"
    },
    "tags": []
   },
   "source": [
    "# PTN Template\n",
    "This notebook serves as a template for single dataset PTN experiments  \n",
    "It can be run on its own by setting STANDALONE to True (do a find for \"STANDALONE\" to see where)  \n",
    "But it is intended to be executed as part of a *papermill.py script. See any of the   \n",
    "experimentes with a papermill script to get started with that workflow.  "
   ]
  },
  {
   "cell_type": "code",
   "execution_count": 1,
   "id": "0902182a",
   "metadata": {
    "execution": {
     "iopub.execute_input": "2022-03-04T23:55:48.983961Z",
     "iopub.status.busy": "2022-03-04T23:55:48.977200Z",
     "iopub.status.idle": "2022-03-04T23:55:49.793231Z",
     "shell.execute_reply": "2022-03-04T23:55:49.792689Z"
    },
    "papermill": {
     "duration": 0.832887,
     "end_time": "2022-03-04T23:55:49.793356",
     "exception": false,
     "start_time": "2022-03-04T23:55:48.960469",
     "status": "completed"
    },
    "tags": []
   },
   "outputs": [],
   "source": [
    "%load_ext autoreload\n",
    "%autoreload 2\n",
    "%matplotlib inline\n",
    "\n",
    "    \n",
    "import os, json, sys, time, random\n",
    "import numpy as np\n",
    "import torch\n",
    "from torch.optim import Adam\n",
    "from  easydict import EasyDict\n",
    "import matplotlib.pyplot as plt\n",
    "\n",
    "from steves_models.steves_ptn import Steves_Prototypical_Network\n",
    "\n",
    "from steves_utils.lazy_iterable_wrapper import Lazy_Iterable_Wrapper\n",
    "from steves_utils.iterable_aggregator import Iterable_Aggregator\n",
    "from steves_utils.ptn_train_eval_test_jig import  PTN_Train_Eval_Test_Jig\n",
    "from steves_utils.torch_sequential_builder import build_sequential\n",
    "from steves_utils.torch_utils import get_dataset_metrics, ptn_confusion_by_domain_over_dataloader\n",
    "from steves_utils.utils_v2 import (per_domain_accuracy_from_confusion, get_datasets_base_path)\n",
    "from steves_utils.PTN.utils import independent_accuracy_assesment\n",
    "\n",
    "from steves_utils.stratified_dataset.episodic_accessor import Episodic_Accessor_Factory\n",
    "\n",
    "from steves_utils.ptn_do_report import (\n",
    "    get_loss_curve,\n",
    "    get_results_table,\n",
    "    get_parameters_table,\n",
    "    get_domain_accuracies,\n",
    ")\n",
    "\n",
    "from steves_utils.transforms import get_chained_transform"
   ]
  },
  {
   "cell_type": "markdown",
   "id": "41c840b4",
   "metadata": {
    "papermill": {
     "duration": 0.009296,
     "end_time": "2022-03-04T23:55:49.818083",
     "exception": false,
     "start_time": "2022-03-04T23:55:49.808787",
     "status": "completed"
    },
    "tags": []
   },
   "source": [
    "# Required Parameters\n",
    "These are allowed parameters, not defaults\n",
    "Each of these values need to be present in the injected parameters (the notebook will raise an exception if they are not present)\n",
    "\n",
    "Papermill uses the cell tag \"parameters\" to inject the real parameters below this cell.\n",
    "Enable tags to see what I mean"
   ]
  },
  {
   "cell_type": "code",
   "execution_count": 2,
   "id": "fd44eb83",
   "metadata": {
    "execution": {
     "iopub.execute_input": "2022-03-04T23:55:49.840229Z",
     "iopub.status.busy": "2022-03-04T23:55:49.839958Z",
     "iopub.status.idle": "2022-03-04T23:55:49.853562Z",
     "shell.execute_reply": "2022-03-04T23:55:49.853134Z"
    },
    "papermill": {
     "duration": 0.026224,
     "end_time": "2022-03-04T23:55:49.853664",
     "exception": false,
     "start_time": "2022-03-04T23:55:49.827440",
     "status": "completed"
    },
    "tags": []
   },
   "outputs": [],
   "source": [
    "required_parameters = {\n",
    "    \"experiment_name\",\n",
    "    \"lr\",\n",
    "    \"device\",\n",
    "    \"seed\",\n",
    "    \"dataset_seed\",\n",
    "    \"labels_source\",\n",
    "    \"labels_target\",\n",
    "    \"domains_source\",\n",
    "    \"domains_target\",\n",
    "    \"num_examples_per_domain_per_label_source\",\n",
    "    \"num_examples_per_domain_per_label_target\",\n",
    "    \"n_shot\",\n",
    "    \"n_way\",\n",
    "    \"n_query\",\n",
    "    \"train_k_factor\",\n",
    "    \"val_k_factor\",\n",
    "    \"test_k_factor\",\n",
    "    \"n_epoch\",\n",
    "    \"patience\",\n",
    "    \"criteria_for_best\",\n",
    "    \"x_transforms_source\",\n",
    "    \"x_transforms_target\",\n",
    "    \"episode_transforms_source\",\n",
    "    \"episode_transforms_target\",\n",
    "    \"pickle_name\",\n",
    "    \"x_net\",\n",
    "    \"NUM_LOGS_PER_EPOCH\",\n",
    "    \"BEST_MODEL_PATH\",\n",
    "    \"torch_default_dtype\"\n",
    "}"
   ]
  },
  {
   "cell_type": "code",
   "execution_count": 3,
   "id": "fa3f0049",
   "metadata": {
    "execution": {
     "iopub.execute_input": "2022-03-04T23:55:49.884476Z",
     "iopub.status.busy": "2022-03-04T23:55:49.884143Z",
     "iopub.status.idle": "2022-03-04T23:55:49.895362Z",
     "shell.execute_reply": "2022-03-04T23:55:49.894660Z"
    },
    "papermill": {
     "duration": 0.026838,
     "end_time": "2022-03-04T23:55:49.895474",
     "exception": false,
     "start_time": "2022-03-04T23:55:49.868636",
     "status": "completed"
    },
    "tags": [
     "parameters"
    ]
   },
   "outputs": [],
   "source": [
    "\n",
    "\n",
    "standalone_parameters = {}\n",
    "standalone_parameters[\"experiment_name\"] = \"STANDALONE PTN\"\n",
    "standalone_parameters[\"lr\"] = 0.0001\n",
    "standalone_parameters[\"device\"] = \"cuda\"\n",
    "\n",
    "standalone_parameters[\"seed\"] = 1337\n",
    "standalone_parameters[\"dataset_seed\"] = 1337\n",
    "\n",
    "\n",
    "standalone_parameters[\"num_examples_per_domain_per_label_source\"]=100\n",
    "standalone_parameters[\"num_examples_per_domain_per_label_target\"]=100\n",
    "\n",
    "standalone_parameters[\"n_shot\"] = 3\n",
    "standalone_parameters[\"n_query\"]  = 2\n",
    "standalone_parameters[\"train_k_factor\"] = 1\n",
    "standalone_parameters[\"val_k_factor\"] = 2\n",
    "standalone_parameters[\"test_k_factor\"] = 2\n",
    "\n",
    "\n",
    "standalone_parameters[\"n_epoch\"] = 100\n",
    "\n",
    "standalone_parameters[\"patience\"] = 10\n",
    "standalone_parameters[\"criteria_for_best\"] = \"target_accuracy\"\n",
    "\n",
    "standalone_parameters[\"x_transforms_source\"] = [\"unit_power\"]\n",
    "standalone_parameters[\"x_transforms_target\"] = [\"unit_power\"]\n",
    "standalone_parameters[\"episode_transforms_source\"] = []\n",
    "standalone_parameters[\"episode_transforms_target\"] = []\n",
    "\n",
    "standalone_parameters[\"torch_default_dtype\"] = \"torch.float32\" \n",
    "\n",
    "\n",
    "\n",
    "standalone_parameters[\"x_net\"] =     [\n",
    "    {\"class\": \"nnReshape\", \"kargs\": {\"shape\":[-1, 1, 2, 256]}},\n",
    "    {\"class\": \"Conv2d\", \"kargs\": { \"in_channels\":1, \"out_channels\":256, \"kernel_size\":(1,7), \"bias\":False, \"padding\":(0,3), },},\n",
    "    {\"class\": \"ReLU\", \"kargs\": {\"inplace\": True}},\n",
    "    {\"class\": \"BatchNorm2d\", \"kargs\": {\"num_features\":256}},\n",
    "\n",
    "    {\"class\": \"Conv2d\", \"kargs\": { \"in_channels\":256, \"out_channels\":80, \"kernel_size\":(2,7), \"bias\":True, \"padding\":(0,3), },},\n",
    "    {\"class\": \"ReLU\", \"kargs\": {\"inplace\": True}},\n",
    "    {\"class\": \"BatchNorm2d\", \"kargs\": {\"num_features\":80}},\n",
    "    {\"class\": \"Flatten\", \"kargs\": {}},\n",
    "\n",
    "    {\"class\": \"Linear\", \"kargs\": {\"in_features\": 80*256, \"out_features\": 256}}, # 80 units per IQ pair\n",
    "    {\"class\": \"ReLU\", \"kargs\": {\"inplace\": True}},\n",
    "    {\"class\": \"BatchNorm1d\", \"kargs\": {\"num_features\":256}},\n",
    "\n",
    "    {\"class\": \"Linear\", \"kargs\": {\"in_features\": 256, \"out_features\": 256}},\n",
    "]\n",
    "\n",
    "# Parameters relevant to results\n",
    "# These parameters will basically never need to change\n",
    "standalone_parameters[\"NUM_LOGS_PER_EPOCH\"] = 10\n",
    "standalone_parameters[\"BEST_MODEL_PATH\"] = \"./best_model.pth\"\n",
    "\n",
    "# uncomment for CORES dataset\n",
    "from steves_utils.CORES.utils import (\n",
    "    ALL_NODES,\n",
    "    ALL_NODES_MINIMUM_1000_EXAMPLES,\n",
    "    ALL_DAYS\n",
    ")\n",
    "\n",
    "\n",
    "standalone_parameters[\"labels_source\"] = ALL_NODES\n",
    "standalone_parameters[\"labels_target\"] = ALL_NODES\n",
    "\n",
    "standalone_parameters[\"domains_source\"] = [1]\n",
    "standalone_parameters[\"domains_target\"] = [2,3,4,5]\n",
    "\n",
    "standalone_parameters[\"pickle_name\"] = \"cores.stratified_ds.2022A.pkl\"\n",
    "\n",
    "\n",
    "# Uncomment these for ORACLE dataset\n",
    "# from steves_utils.ORACLE.utils_v2 import (\n",
    "#     ALL_DISTANCES_FEET,\n",
    "#     ALL_RUNS,\n",
    "#     ALL_SERIAL_NUMBERS,\n",
    "# )\n",
    "# standalone_parameters[\"labels_source\"] = ALL_SERIAL_NUMBERS\n",
    "# standalone_parameters[\"labels_target\"] = ALL_SERIAL_NUMBERS\n",
    "# standalone_parameters[\"domains_source\"] = [8,20, 38,50]\n",
    "# standalone_parameters[\"domains_target\"] = [14, 26, 32, 44, 56]\n",
    "# standalone_parameters[\"pickle_name\"] = \"oracle.frame_indexed.stratified_ds.2022A.pkl\"\n",
    "# standalone_parameters[\"num_examples_per_domain_per_label_source\"]=1000\n",
    "# standalone_parameters[\"num_examples_per_domain_per_label_target\"]=1000\n",
    "\n",
    "# Uncomment these for Metahan dataset\n",
    "# standalone_parameters[\"labels_source\"] = list(range(19))\n",
    "# standalone_parameters[\"labels_target\"] = list(range(19))\n",
    "# standalone_parameters[\"domains_source\"] = [0]\n",
    "# standalone_parameters[\"domains_target\"] = [1]\n",
    "# standalone_parameters[\"pickle_name\"] = \"metehan.stratified_ds.2022A.pkl\"\n",
    "# standalone_parameters[\"n_way\"]  = len(standalone_parameters[\"labels_source\"])\n",
    "# standalone_parameters[\"num_examples_per_domain_per_label_source\"]=200\n",
    "# standalone_parameters[\"num_examples_per_domain_per_label_target\"]=100\n",
    "\n",
    "\n",
    "standalone_parameters[\"n_way\"]  = len(standalone_parameters[\"labels_source\"])"
   ]
  },
  {
   "cell_type": "code",
   "execution_count": 4,
   "id": "31307637",
   "metadata": {
    "execution": {
     "iopub.execute_input": "2022-03-04T23:55:49.928644Z",
     "iopub.status.busy": "2022-03-04T23:55:49.921583Z",
     "iopub.status.idle": "2022-03-04T23:55:49.940475Z",
     "shell.execute_reply": "2022-03-04T23:55:49.939985Z"
    },
    "papermill": {
     "duration": 0.030381,
     "end_time": "2022-03-04T23:55:49.940590",
     "exception": false,
     "start_time": "2022-03-04T23:55:49.910209",
     "status": "completed"
    },
    "tags": [
     "injected-parameters"
    ]
   },
   "outputs": [],
   "source": [
    "# Parameters\n",
    "parameters = {\n",
    "    \"experiment_name\": \"nWay_oracle.run2\",\n",
    "    \"device\": \"cuda\",\n",
    "    \"lr\": 0.001,\n",
    "    \"seed\": 1337,\n",
    "    \"dataset_seed\": 1337,\n",
    "    \"labels_source\": [\n",
    "        \"3123D52\",\n",
    "        \"3123D65\",\n",
    "        \"3123D79\",\n",
    "        \"3123D80\",\n",
    "        \"3123D54\",\n",
    "        \"3123D70\",\n",
    "        \"3123D7B\",\n",
    "        \"3123D89\",\n",
    "        \"3123D58\",\n",
    "        \"3123D76\",\n",
    "        \"3123D7D\",\n",
    "        \"3123EFE\",\n",
    "        \"3123D64\",\n",
    "        \"3123D78\",\n",
    "        \"3123D7E\",\n",
    "        \"3124E4A\",\n",
    "    ],\n",
    "    \"labels_target\": [\n",
    "        \"3123D52\",\n",
    "        \"3123D65\",\n",
    "        \"3123D79\",\n",
    "        \"3123D80\",\n",
    "        \"3123D54\",\n",
    "        \"3123D70\",\n",
    "        \"3123D7B\",\n",
    "        \"3123D89\",\n",
    "        \"3123D58\",\n",
    "        \"3123D76\",\n",
    "        \"3123D7D\",\n",
    "        \"3123EFE\",\n",
    "        \"3123D64\",\n",
    "        \"3123D78\",\n",
    "        \"3123D7E\",\n",
    "        \"3124E4A\",\n",
    "    ],\n",
    "    \"x_transforms_source\": [],\n",
    "    \"x_transforms_target\": [],\n",
    "    \"episode_transforms_source\": [],\n",
    "    \"episode_transforms_target\": [],\n",
    "    \"num_examples_per_domain_per_label_source\": 1000,\n",
    "    \"num_examples_per_domain_per_label_target\": 1000,\n",
    "    \"n_shot\": 3,\n",
    "    \"n_query\": 2,\n",
    "    \"train_k_factor\": 1,\n",
    "    \"val_k_factor\": 2,\n",
    "    \"test_k_factor\": 2,\n",
    "    \"torch_default_dtype\": \"torch.float32\",\n",
    "    \"n_epoch\": 50,\n",
    "    \"patience\": 3,\n",
    "    \"criteria_for_best\": \"target_loss\",\n",
    "    \"x_net\": [\n",
    "        {\"class\": \"nnReshape\", \"kargs\": {\"shape\": [-1, 1, 2, 256]}},\n",
    "        {\n",
    "            \"class\": \"Conv2d\",\n",
    "            \"kargs\": {\n",
    "                \"in_channels\": 1,\n",
    "                \"out_channels\": 256,\n",
    "                \"kernel_size\": [1, 7],\n",
    "                \"bias\": False,\n",
    "                \"padding\": [0, 3],\n",
    "            },\n",
    "        },\n",
    "        {\"class\": \"ReLU\", \"kargs\": {\"inplace\": True}},\n",
    "        {\"class\": \"BatchNorm2d\", \"kargs\": {\"num_features\": 256}},\n",
    "        {\n",
    "            \"class\": \"Conv2d\",\n",
    "            \"kargs\": {\n",
    "                \"in_channels\": 256,\n",
    "                \"out_channels\": 80,\n",
    "                \"kernel_size\": [2, 7],\n",
    "                \"bias\": True,\n",
    "                \"padding\": [0, 3],\n",
    "            },\n",
    "        },\n",
    "        {\"class\": \"ReLU\", \"kargs\": {\"inplace\": True}},\n",
    "        {\"class\": \"BatchNorm2d\", \"kargs\": {\"num_features\": 80}},\n",
    "        {\"class\": \"Flatten\", \"kargs\": {}},\n",
    "        {\"class\": \"Linear\", \"kargs\": {\"in_features\": 20480, \"out_features\": 256}},\n",
    "        {\"class\": \"ReLU\", \"kargs\": {\"inplace\": True}},\n",
    "        {\"class\": \"BatchNorm1d\", \"kargs\": {\"num_features\": 256}},\n",
    "        {\"class\": \"Linear\", \"kargs\": {\"in_features\": 256, \"out_features\": 256}},\n",
    "    ],\n",
    "    \"NUM_LOGS_PER_EPOCH\": 10,\n",
    "    \"BEST_MODEL_PATH\": \"./best_model.pth\",\n",
    "    \"pickle_name\": \"oracle.Run2_10kExamples_stratified_ds.2022A.pkl\",\n",
    "    \"n_way\": 5,\n",
    "    \"domains_source\": [8, 32, 50],\n",
    "    \"domains_target\": [14, 20, 26, 38, 44],\n",
    "}\n"
   ]
  },
  {
   "cell_type": "code",
   "execution_count": 5,
   "id": "8fa1cc33",
   "metadata": {
    "execution": {
     "iopub.execute_input": "2022-03-04T23:55:49.969911Z",
     "iopub.status.busy": "2022-03-04T23:55:49.968753Z",
     "iopub.status.idle": "2022-03-04T23:55:49.982489Z",
     "shell.execute_reply": "2022-03-04T23:55:49.982118Z"
    },
    "papermill": {
     "duration": 0.027171,
     "end_time": "2022-03-04T23:55:49.982578",
     "exception": false,
     "start_time": "2022-03-04T23:55:49.955407",
     "status": "completed"
    },
    "tags": []
   },
   "outputs": [],
   "source": [
    "# Set this to True if you want to run this template directly\n",
    "STANDALONE = False\n",
    "if STANDALONE:\n",
    "    print(\"parameters not injected, running with standalone_parameters\")\n",
    "    parameters = standalone_parameters\n",
    "\n",
    "if not 'parameters' in locals() and not 'parameters' in globals():\n",
    "    raise Exception(\"Parameter injection failed\")\n",
    "\n",
    "#Use an easy dict for all the parameters\n",
    "p = EasyDict(parameters)\n",
    "\n",
    "supplied_keys = set(p.keys())\n",
    "\n",
    "if  supplied_keys != required_parameters:\n",
    "    print(\"Parameters are incorrect\")\n",
    "    if len(supplied_keys - required_parameters)>0: print(\"Shouldn't have:\", str(supplied_keys - required_parameters))\n",
    "    if len(required_parameters - supplied_keys)>0: print(\"Need to have:\", str(required_parameters - supplied_keys))\n",
    "    raise RuntimeError(\"Parameters are incorrect\")\n",
    "\n"
   ]
  },
  {
   "cell_type": "code",
   "execution_count": 6,
   "id": "3a028d58",
   "metadata": {
    "execution": {
     "iopub.execute_input": "2022-03-04T23:55:50.008277Z",
     "iopub.status.busy": "2022-03-04T23:55:50.007587Z",
     "iopub.status.idle": "2022-03-04T23:55:50.021650Z",
     "shell.execute_reply": "2022-03-04T23:55:50.021230Z"
    },
    "papermill": {
     "duration": 0.0263,
     "end_time": "2022-03-04T23:55:50.021760",
     "exception": false,
     "start_time": "2022-03-04T23:55:49.995460",
     "status": "completed"
    },
    "tags": []
   },
   "outputs": [],
   "source": [
    "###################################\n",
    "# Set the RNGs and make it all deterministic\n",
    "###################################\n",
    "np.random.seed(p.seed)\n",
    "random.seed(p.seed)\n",
    "torch.manual_seed(p.seed)\n",
    "\n",
    "torch.use_deterministic_algorithms(True) "
   ]
  },
  {
   "cell_type": "code",
   "execution_count": 7,
   "id": "b691acf6",
   "metadata": {
    "execution": {
     "iopub.execute_input": "2022-03-04T23:55:50.053954Z",
     "iopub.status.busy": "2022-03-04T23:55:50.048472Z",
     "iopub.status.idle": "2022-03-04T23:55:50.062710Z",
     "shell.execute_reply": "2022-03-04T23:55:50.063010Z"
    },
    "papermill": {
     "duration": 0.026607,
     "end_time": "2022-03-04T23:55:50.063105",
     "exception": false,
     "start_time": "2022-03-04T23:55:50.036498",
     "status": "completed"
    },
    "tags": []
   },
   "outputs": [],
   "source": [
    "###########################################\n",
    "# The stratified datasets honor this\n",
    "###########################################\n",
    "torch.set_default_dtype(eval(p.torch_default_dtype))"
   ]
  },
  {
   "cell_type": "code",
   "execution_count": 8,
   "id": "b5fba671",
   "metadata": {
    "execution": {
     "iopub.execute_input": "2022-03-04T23:55:50.088852Z",
     "iopub.status.busy": "2022-03-04T23:55:50.088333Z",
     "iopub.status.idle": "2022-03-04T23:55:50.125553Z",
     "shell.execute_reply": "2022-03-04T23:55:50.125108Z"
    },
    "papermill": {
     "duration": 0.048885,
     "end_time": "2022-03-04T23:55:50.125664",
     "exception": false,
     "start_time": "2022-03-04T23:55:50.076779",
     "status": "completed"
    },
    "tags": []
   },
   "outputs": [],
   "source": [
    "###################################\n",
    "# Build the network(s)\n",
    "# Note: It's critical to do this AFTER setting the RNG\n",
    "# (This is due to the randomized initial weights)\n",
    "###################################\n",
    "x_net = build_sequential(p.x_net)"
   ]
  },
  {
   "cell_type": "code",
   "execution_count": 9,
   "id": "5d7e61cc",
   "metadata": {
    "execution": {
     "iopub.execute_input": "2022-03-04T23:55:50.152462Z",
     "iopub.status.busy": "2022-03-04T23:55:50.150801Z",
     "iopub.status.idle": "2022-03-04T23:55:50.164297Z",
     "shell.execute_reply": "2022-03-04T23:55:50.163815Z"
    },
    "papermill": {
     "duration": 0.025947,
     "end_time": "2022-03-04T23:55:50.164400",
     "exception": false,
     "start_time": "2022-03-04T23:55:50.138453",
     "status": "completed"
    },
    "tags": []
   },
   "outputs": [],
   "source": [
    "start_time_secs = time.time()"
   ]
  },
  {
   "cell_type": "code",
   "execution_count": 10,
   "id": "fd5442bc",
   "metadata": {
    "execution": {
     "iopub.execute_input": "2022-03-04T23:55:50.196102Z",
     "iopub.status.busy": "2022-03-04T23:55:50.195831Z",
     "iopub.status.idle": "2022-03-04T23:55:53.696384Z",
     "shell.execute_reply": "2022-03-04T23:55:53.696781Z"
    },
    "papermill": {
     "duration": 3.51757,
     "end_time": "2022-03-04T23:55:53.696922",
     "exception": false,
     "start_time": "2022-03-04T23:55:50.179352",
     "status": "completed"
    },
    "tags": []
   },
   "outputs": [],
   "source": [
    "###################################\n",
    "# Build the dataset\n",
    "###################################\n",
    "\n",
    "if p.x_transforms_source == []: x_transform_source = None\n",
    "else: x_transform_source = get_chained_transform(p.x_transforms_source) \n",
    "\n",
    "if p.x_transforms_target == []: x_transform_target = None\n",
    "else: x_transform_target = get_chained_transform(p.x_transforms_target)\n",
    "\n",
    "if p.episode_transforms_source == []: episode_transform_source = None\n",
    "else: raise Exception(\"episode_transform_source not implemented\")\n",
    "\n",
    "if p.episode_transforms_target == []: episode_transform_target = None\n",
    "else: raise Exception(\"episode_transform_target not implemented\")\n",
    "\n",
    "\n",
    "eaf_source = Episodic_Accessor_Factory(\n",
    "    labels=p.labels_source,\n",
    "    domains=p.domains_source,\n",
    "    num_examples_per_domain_per_label=p.num_examples_per_domain_per_label_source,\n",
    "    iterator_seed=p.seed,\n",
    "    dataset_seed=p.dataset_seed,\n",
    "    n_shot=p.n_shot,\n",
    "    n_way=p.n_way,\n",
    "    n_query=p.n_query,\n",
    "    train_val_test_k_factors=(p.train_k_factor,p.val_k_factor,p.test_k_factor),\n",
    "    pickle_path=os.path.join(get_datasets_base_path(), p.pickle_name),\n",
    "    x_transform_func=x_transform_source,\n",
    "    example_transform_func=episode_transform_source,\n",
    "    \n",
    ")\n",
    "train_original_source, val_original_source, test_original_source = eaf_source.get_train(), eaf_source.get_val(), eaf_source.get_test()\n",
    "\n",
    "\n",
    "eaf_target = Episodic_Accessor_Factory(\n",
    "    labels=p.labels_target,\n",
    "    domains=p.domains_target,\n",
    "    num_examples_per_domain_per_label=p.num_examples_per_domain_per_label_target,\n",
    "    iterator_seed=p.seed,\n",
    "    dataset_seed=p.dataset_seed,\n",
    "    n_shot=p.n_shot,\n",
    "    n_way=p.n_way,\n",
    "    n_query=p.n_query,\n",
    "    train_val_test_k_factors=(p.train_k_factor,p.val_k_factor,p.test_k_factor),\n",
    "    pickle_path=os.path.join(get_datasets_base_path(), p.pickle_name),\n",
    "    x_transform_func=x_transform_target,\n",
    "    example_transform_func=episode_transform_target,\n",
    ")\n",
    "train_original_target, val_original_target, test_original_target = eaf_target.get_train(), eaf_target.get_val(), eaf_target.get_test()\n",
    "\n",
    "\n",
    "transform_lambda = lambda ex: ex[1] # Original is (<domain>, <episode>) so we strip down to episode only\n",
    "\n",
    "train_processed_source = Lazy_Iterable_Wrapper(train_original_source, transform_lambda)\n",
    "val_processed_source   = Lazy_Iterable_Wrapper(val_original_source, transform_lambda)\n",
    "test_processed_source  = Lazy_Iterable_Wrapper(test_original_source, transform_lambda)\n",
    "\n",
    "train_processed_target = Lazy_Iterable_Wrapper(train_original_target, transform_lambda)\n",
    "val_processed_target   = Lazy_Iterable_Wrapper(val_original_target, transform_lambda)\n",
    "test_processed_target  = Lazy_Iterable_Wrapper(test_original_target, transform_lambda)\n",
    "\n",
    "datasets = EasyDict({\n",
    "    \"source\": {\n",
    "        \"original\": {\"train\":train_original_source, \"val\":val_original_source, \"test\":test_original_source},\n",
    "        \"processed\": {\"train\":train_processed_source, \"val\":val_processed_source, \"test\":test_processed_source}\n",
    "    },\n",
    "    \"target\": {\n",
    "        \"original\": {\"train\":train_original_target, \"val\":val_original_target, \"test\":test_original_target},\n",
    "        \"processed\": {\"train\":train_processed_target, \"val\":val_processed_target, \"test\":test_processed_target}\n",
    "    },\n",
    "})"
   ]
  },
  {
   "cell_type": "code",
   "execution_count": 11,
   "id": "296189d9",
   "metadata": {
    "execution": {
     "iopub.execute_input": "2022-03-04T23:55:53.725303Z",
     "iopub.status.busy": "2022-03-04T23:55:53.725039Z",
     "iopub.status.idle": "2022-03-04T23:55:55.340563Z",
     "shell.execute_reply": "2022-03-04T23:55:55.340982Z"
    },
    "papermill": {
     "duration": 1.630745,
     "end_time": "2022-03-04T23:55:55.341128",
     "exception": false,
     "start_time": "2022-03-04T23:55:53.710383",
     "status": "completed"
    },
    "tags": []
   },
   "outputs": [
    {
     "name": "stdout",
     "output_type": "stream",
     "text": [
      "Visually inspect these to see if they line up with expected values given the transforms\n",
      "x_transforms_source []\n",
      "x_transforms_target []\n",
      "Average magnitude, source: 0.004967892\n",
      "Average power, source: 3.157059e-05\n"
     ]
    },
    {
     "name": "stdout",
     "output_type": "stream",
     "text": [
      "Average magnitude, target: 0.003937765\n",
      "Average power, target: 1.9442894e-05\n"
     ]
    }
   ],
   "source": [
    "# Some quick unit tests on the data\n",
    "from steves_utils.transforms import get_average_power, get_average_magnitude\n",
    "\n",
    "q_x, q_y, s_x, s_y, truth = next(iter(train_processed_source))\n",
    "\n",
    "assert q_x.dtype == eval(p.torch_default_dtype)\n",
    "assert s_x.dtype == eval(p.torch_default_dtype)\n",
    "\n",
    "print(\"Visually inspect these to see if they line up with expected values given the transforms\")\n",
    "print('x_transforms_source', p.x_transforms_source)\n",
    "print('x_transforms_target', p.x_transforms_target)\n",
    "print(\"Average magnitude, source:\", get_average_magnitude(q_x[0].numpy()))\n",
    "print(\"Average power, source:\", get_average_power(q_x[0].numpy()))\n",
    "\n",
    "q_x, q_y, s_x, s_y, truth = next(iter(train_processed_target))\n",
    "print(\"Average magnitude, target:\", get_average_magnitude(q_x[0].numpy()))\n",
    "print(\"Average power, target:\", get_average_power(q_x[0].numpy()))\n"
   ]
  },
  {
   "cell_type": "code",
   "execution_count": 12,
   "id": "bbdacba1",
   "metadata": {
    "execution": {
     "iopub.execute_input": "2022-03-04T23:55:55.375853Z",
     "iopub.status.busy": "2022-03-04T23:55:55.373518Z",
     "iopub.status.idle": "2022-03-04T23:55:55.435728Z",
     "shell.execute_reply": "2022-03-04T23:55:55.435312Z"
    },
    "papermill": {
     "duration": 0.077078,
     "end_time": "2022-03-04T23:55:55.435814",
     "exception": false,
     "start_time": "2022-03-04T23:55:55.358736",
     "status": "completed"
    },
    "tags": []
   },
   "outputs": [
    {
     "name": "stdout",
     "output_type": "stream",
     "text": [
      "(2, 256)\n"
     ]
    }
   ],
   "source": [
    "###################################\n",
    "# Build the model\n",
    "###################################\n",
    "model = Steves_Prototypical_Network(x_net, device=p.device, x_shape=(2,256))\n",
    "optimizer = Adam(params=model.parameters(), lr=p.lr)"
   ]
  },
  {
   "cell_type": "code",
   "execution_count": 13,
   "id": "22b39ac5",
   "metadata": {
    "execution": {
     "iopub.execute_input": "2022-03-04T23:55:55.469817Z",
     "iopub.status.busy": "2022-03-04T23:55:55.462555Z",
     "iopub.status.idle": "2022-03-04T23:59:50.088678Z",
     "shell.execute_reply": "2022-03-04T23:59:50.088168Z"
    },
    "papermill": {
     "duration": 234.639648,
     "end_time": "2022-03-04T23:59:50.088788",
     "exception": false,
     "start_time": "2022-03-04T23:55:55.449140",
     "status": "completed"
    },
    "tags": []
   },
   "outputs": [
    {
     "name": "stdout",
     "output_type": "stream",
     "text": [
      "epoch: 1, [batch: 1 / 1328], examples_per_second: 142.7428, train_label_loss: 1.4293, \n"
     ]
    },
    {
     "name": "stdout",
     "output_type": "stream",
     "text": [
      "epoch: 1, [batch: 133 / 1328], examples_per_second: 2127.5273, train_label_loss: 0.7126, \n"
     ]
    },
    {
     "name": "stdout",
     "output_type": "stream",
     "text": [
      "epoch: 1, [batch: 266 / 1328], examples_per_second: 2192.1699, train_label_loss: 0.7433, \n"
     ]
    },
    {
     "name": "stdout",
     "output_type": "stream",
     "text": [
      "epoch: 1, [batch: 399 / 1328], examples_per_second: 2089.8147, train_label_loss: 1.4194, \n"
     ]
    },
    {
     "name": "stdout",
     "output_type": "stream",
     "text": [
      "epoch: 1, [batch: 531 / 1328], examples_per_second: 2113.2237, train_label_loss: 0.3507, \n"
     ]
    },
    {
     "name": "stdout",
     "output_type": "stream",
     "text": [
      "epoch: 1, [batch: 664 / 1328], examples_per_second: 2009.2626, train_label_loss: 0.2900, \n"
     ]
    },
    {
     "name": "stdout",
     "output_type": "stream",
     "text": [
      "epoch: 1, [batch: 797 / 1328], examples_per_second: 2150.1965, train_label_loss: 0.2336, \n"
     ]
    },
    {
     "name": "stdout",
     "output_type": "stream",
     "text": [
      "epoch: 1, [batch: 929 / 1328], examples_per_second: 2197.0715, train_label_loss: 0.1419, \n"
     ]
    },
    {
     "name": "stdout",
     "output_type": "stream",
     "text": [
      "epoch: 1, [batch: 1062 / 1328], examples_per_second: 2143.6047, train_label_loss: 0.6952, \n"
     ]
    },
    {
     "name": "stdout",
     "output_type": "stream",
     "text": [
      "epoch: 1, [batch: 1195 / 1328], examples_per_second: 2193.0355, train_label_loss: 0.3782, \n"
     ]
    },
    {
     "name": "stdout",
     "output_type": "stream",
     "text": [
      "=============================================================\n",
      "epoch: 1, source_val_acc_label: 0.7399, target_val_acc_label: 0.6834, source_val_label_loss: 1.3368, target_val_label_loss: 1.8316, \n",
      "=============================================================\n"
     ]
    },
    {
     "name": "stdout",
     "output_type": "stream",
     "text": [
      "New best\n"
     ]
    },
    {
     "name": "stdout",
     "output_type": "stream",
     "text": [
      "epoch: 2, [batch: 1 / 1325], examples_per_second: 6.3547, train_label_loss: 6.9818, \n"
     ]
    },
    {
     "name": "stdout",
     "output_type": "stream",
     "text": [
      "epoch: 2, [batch: 133 / 1325], examples_per_second: 2129.2482, train_label_loss: 0.4011, \n"
     ]
    },
    {
     "name": "stdout",
     "output_type": "stream",
     "text": [
      "epoch: 2, [batch: 265 / 1325], examples_per_second: 2229.0137, train_label_loss: 0.3348, \n"
     ]
    },
    {
     "name": "stdout",
     "output_type": "stream",
     "text": [
      "epoch: 2, [batch: 398 / 1325], examples_per_second: 2132.6085, train_label_loss: 0.9549, \n"
     ]
    },
    {
     "name": "stdout",
     "output_type": "stream",
     "text": [
      "epoch: 2, [batch: 530 / 1325], examples_per_second: 2160.7342, train_label_loss: 0.5450, \n"
     ]
    },
    {
     "name": "stdout",
     "output_type": "stream",
     "text": [
      "epoch: 2, [batch: 663 / 1325], examples_per_second: 2143.0540, train_label_loss: 0.2833, \n"
     ]
    },
    {
     "name": "stdout",
     "output_type": "stream",
     "text": [
      "epoch: 2, [batch: 795 / 1325], examples_per_second: 2160.4502, train_label_loss: 0.7339, \n"
     ]
    },
    {
     "name": "stdout",
     "output_type": "stream",
     "text": [
      "epoch: 2, [batch: 927 / 1325], examples_per_second: 2201.3618, train_label_loss: 0.3415, \n"
     ]
    },
    {
     "name": "stdout",
     "output_type": "stream",
     "text": [
      "epoch: 2, [batch: 1060 / 1325], examples_per_second: 2124.4358, train_label_loss: 0.7157, \n"
     ]
    },
    {
     "name": "stdout",
     "output_type": "stream",
     "text": [
      "epoch: 2, [batch: 1192 / 1325], examples_per_second: 2249.1583, train_label_loss: 0.3299, \n"
     ]
    },
    {
     "name": "stdout",
     "output_type": "stream",
     "text": [
      "=============================================================\n",
      "epoch: 2, source_val_acc_label: 0.7520, target_val_acc_label: 0.6902, source_val_label_loss: 0.5457, target_val_label_loss: 0.8273, \n",
      "=============================================================\n"
     ]
    },
    {
     "name": "stdout",
     "output_type": "stream",
     "text": [
      "New best\n"
     ]
    },
    {
     "name": "stdout",
     "output_type": "stream",
     "text": [
      "epoch: 3, [batch: 1 / 1327], examples_per_second: 6.6013, train_label_loss: 0.6209, \n"
     ]
    },
    {
     "name": "stdout",
     "output_type": "stream",
     "text": [
      "epoch: 3, [batch: 133 / 1327], examples_per_second: 2162.1002, train_label_loss: 0.3485, \n"
     ]
    },
    {
     "name": "stdout",
     "output_type": "stream",
     "text": [
      "epoch: 3, [batch: 266 / 1327], examples_per_second: 2195.6530, train_label_loss: 0.2895, \n"
     ]
    },
    {
     "name": "stdout",
     "output_type": "stream",
     "text": [
      "epoch: 3, [batch: 398 / 1327], examples_per_second: 2227.8692, train_label_loss: 0.4424, \n"
     ]
    },
    {
     "name": "stdout",
     "output_type": "stream",
     "text": [
      "epoch: 3, [batch: 531 / 1327], examples_per_second: 2236.3315, train_label_loss: 1.2993, \n"
     ]
    },
    {
     "name": "stdout",
     "output_type": "stream",
     "text": [
      "epoch: 3, [batch: 664 / 1327], examples_per_second: 2265.9724, train_label_loss: 0.4329, \n"
     ]
    },
    {
     "name": "stdout",
     "output_type": "stream",
     "text": [
      "epoch: 3, [batch: 796 / 1327], examples_per_second: 2167.7460, train_label_loss: 0.2190, \n"
     ]
    },
    {
     "name": "stdout",
     "output_type": "stream",
     "text": [
      "epoch: 3, [batch: 929 / 1327], examples_per_second: 2259.8449, train_label_loss: 0.5467, \n"
     ]
    },
    {
     "name": "stdout",
     "output_type": "stream",
     "text": [
      "epoch: 3, [batch: 1061 / 1327], examples_per_second: 2240.7331, train_label_loss: 0.0686, \n"
     ]
    },
    {
     "name": "stdout",
     "output_type": "stream",
     "text": [
      "epoch: 3, [batch: 1194 / 1327], examples_per_second: 2265.5141, train_label_loss: 0.2283, \n"
     ]
    },
    {
     "name": "stdout",
     "output_type": "stream",
     "text": [
      "=============================================================\n",
      "epoch: 3, source_val_acc_label: 0.8349, target_val_acc_label: 0.7414, source_val_label_loss: 0.4270, target_val_label_loss: 0.8105, \n",
      "=============================================================\n"
     ]
    },
    {
     "name": "stdout",
     "output_type": "stream",
     "text": [
      "New best\n"
     ]
    },
    {
     "name": "stdout",
     "output_type": "stream",
     "text": [
      "epoch: 4, [batch: 1 / 1330], examples_per_second: 6.6352, train_label_loss: 0.9632, \n"
     ]
    },
    {
     "name": "stdout",
     "output_type": "stream",
     "text": [
      "epoch: 4, [batch: 133 / 1330], examples_per_second: 2251.3837, train_label_loss: 0.4723, \n"
     ]
    },
    {
     "name": "stdout",
     "output_type": "stream",
     "text": [
      "epoch: 4, [batch: 266 / 1330], examples_per_second: 2219.2855, train_label_loss: 0.6328, \n"
     ]
    },
    {
     "name": "stdout",
     "output_type": "stream",
     "text": [
      "epoch: 4, [batch: 399 / 1330], examples_per_second: 2238.6678, train_label_loss: 0.8010, \n"
     ]
    },
    {
     "name": "stdout",
     "output_type": "stream",
     "text": [
      "epoch: 4, [batch: 532 / 1330], examples_per_second: 2236.1515, train_label_loss: 0.6765, \n"
     ]
    },
    {
     "name": "stdout",
     "output_type": "stream",
     "text": [
      "epoch: 4, [batch: 665 / 1330], examples_per_second: 2245.6448, train_label_loss: 0.0106, \n"
     ]
    },
    {
     "name": "stdout",
     "output_type": "stream",
     "text": [
      "epoch: 4, [batch: 798 / 1330], examples_per_second: 2188.0601, train_label_loss: 0.6832, \n"
     ]
    },
    {
     "name": "stdout",
     "output_type": "stream",
     "text": [
      "epoch: 4, [batch: 931 / 1330], examples_per_second: 2041.4606, train_label_loss: 1.0602, \n"
     ]
    },
    {
     "name": "stdout",
     "output_type": "stream",
     "text": [
      "epoch: 4, [batch: 1064 / 1330], examples_per_second: 2140.2870, train_label_loss: 0.5235, \n"
     ]
    },
    {
     "name": "stdout",
     "output_type": "stream",
     "text": [
      "epoch: 4, [batch: 1197 / 1330], examples_per_second: 2076.8581, train_label_loss: 0.8921, \n"
     ]
    },
    {
     "name": "stdout",
     "output_type": "stream",
     "text": [
      "=============================================================\n",
      "epoch: 4, source_val_acc_label: 0.8679, target_val_acc_label: 0.7793, source_val_label_loss: 0.3241, target_val_label_loss: 0.7162, \n",
      "=============================================================\n"
     ]
    },
    {
     "name": "stdout",
     "output_type": "stream",
     "text": [
      "New best\n"
     ]
    },
    {
     "name": "stdout",
     "output_type": "stream",
     "text": [
      "epoch: 5, [batch: 1 / 1333], examples_per_second: 5.8888, train_label_loss: 0.3650, \n"
     ]
    },
    {
     "name": "stdout",
     "output_type": "stream",
     "text": [
      "epoch: 5, [batch: 134 / 1333], examples_per_second: 2198.3824, train_label_loss: 0.0338, \n"
     ]
    },
    {
     "name": "stdout",
     "output_type": "stream",
     "text": [
      "epoch: 5, [batch: 267 / 1333], examples_per_second: 2155.9638, train_label_loss: 0.3715, \n"
     ]
    },
    {
     "name": "stdout",
     "output_type": "stream",
     "text": [
      "epoch: 5, [batch: 400 / 1333], examples_per_second: 2008.0076, train_label_loss: 0.0753, \n"
     ]
    },
    {
     "name": "stdout",
     "output_type": "stream",
     "text": [
      "epoch: 5, [batch: 533 / 1333], examples_per_second: 2238.2366, train_label_loss: 0.5817, \n"
     ]
    },
    {
     "name": "stdout",
     "output_type": "stream",
     "text": [
      "epoch: 5, [batch: 667 / 1333], examples_per_second: 2230.6090, train_label_loss: 0.0461, \n"
     ]
    },
    {
     "name": "stdout",
     "output_type": "stream",
     "text": [
      "epoch: 5, [batch: 800 / 1333], examples_per_second: 2181.1090, train_label_loss: 0.2838, \n"
     ]
    },
    {
     "name": "stdout",
     "output_type": "stream",
     "text": [
      "epoch: 5, [batch: 933 / 1333], examples_per_second: 2270.3149, train_label_loss: 0.1043, \n"
     ]
    },
    {
     "name": "stdout",
     "output_type": "stream",
     "text": [
      "epoch: 5, [batch: 1066 / 1333], examples_per_second: 2219.9351, train_label_loss: 0.1689, \n"
     ]
    },
    {
     "name": "stdout",
     "output_type": "stream",
     "text": [
      "epoch: 5, [batch: 1199 / 1333], examples_per_second: 2242.3980, train_label_loss: 0.0168, \n"
     ]
    },
    {
     "name": "stdout",
     "output_type": "stream",
     "text": [
      "=============================================================\n",
      "epoch: 5, source_val_acc_label: 0.8771, target_val_acc_label: 0.7859, source_val_label_loss: 0.2946, target_val_label_loss: 0.7170, \n",
      "=============================================================\n"
     ]
    },
    {
     "name": "stdout",
     "output_type": "stream",
     "text": [
      "epoch: 6, [batch: 1 / 1327], examples_per_second: 6.7099, train_label_loss: 0.2766, \n"
     ]
    },
    {
     "name": "stdout",
     "output_type": "stream",
     "text": [
      "epoch: 6, [batch: 133 / 1327], examples_per_second: 2220.7727, train_label_loss: 0.0952, \n"
     ]
    },
    {
     "name": "stdout",
     "output_type": "stream",
     "text": [
      "epoch: 6, [batch: 266 / 1327], examples_per_second: 2257.7836, train_label_loss: 0.0000, \n"
     ]
    },
    {
     "name": "stdout",
     "output_type": "stream",
     "text": [
      "epoch: 6, [batch: 398 / 1327], examples_per_second: 2235.4281, train_label_loss: 0.5177, \n"
     ]
    },
    {
     "name": "stdout",
     "output_type": "stream",
     "text": [
      "epoch: 6, [batch: 531 / 1327], examples_per_second: 2024.7612, train_label_loss: 0.0595, \n"
     ]
    },
    {
     "name": "stdout",
     "output_type": "stream",
     "text": [
      "epoch: 6, [batch: 664 / 1327], examples_per_second: 2069.0085, train_label_loss: 0.1719, \n"
     ]
    },
    {
     "name": "stdout",
     "output_type": "stream",
     "text": [
      "epoch: 6, [batch: 796 / 1327], examples_per_second: 2171.5295, train_label_loss: 0.4955, \n"
     ]
    },
    {
     "name": "stdout",
     "output_type": "stream",
     "text": [
      "epoch: 6, [batch: 929 / 1327], examples_per_second: 2181.7552, train_label_loss: 0.1997, \n"
     ]
    },
    {
     "name": "stdout",
     "output_type": "stream",
     "text": [
      "epoch: 6, [batch: 1061 / 1327], examples_per_second: 2157.5150, train_label_loss: 0.3054, \n"
     ]
    },
    {
     "name": "stdout",
     "output_type": "stream",
     "text": [
      "epoch: 6, [batch: 1194 / 1327], examples_per_second: 1939.5451, train_label_loss: 0.0898, \n"
     ]
    },
    {
     "name": "stdout",
     "output_type": "stream",
     "text": [
      "=============================================================\n",
      "epoch: 6, source_val_acc_label: 0.8855, target_val_acc_label: 0.7996, source_val_label_loss: 0.2898, target_val_label_loss: 0.8205, \n",
      "=============================================================\n"
     ]
    },
    {
     "name": "stdout",
     "output_type": "stream",
     "text": [
      "epoch: 7, [batch: 1 / 1330], examples_per_second: 6.4768, train_label_loss: 0.1589, \n"
     ]
    },
    {
     "name": "stdout",
     "output_type": "stream",
     "text": [
      "epoch: 7, [batch: 133 / 1330], examples_per_second: 2201.7113, train_label_loss: 0.1742, \n"
     ]
    },
    {
     "name": "stdout",
     "output_type": "stream",
     "text": [
      "epoch: 7, [batch: 266 / 1330], examples_per_second: 2120.1372, train_label_loss: 0.3187, \n"
     ]
    },
    {
     "name": "stdout",
     "output_type": "stream",
     "text": [
      "epoch: 7, [batch: 399 / 1330], examples_per_second: 2038.0566, train_label_loss: 0.3683, \n"
     ]
    },
    {
     "name": "stdout",
     "output_type": "stream",
     "text": [
      "epoch: 7, [batch: 532 / 1330], examples_per_second: 2117.3769, train_label_loss: 0.2531, \n"
     ]
    },
    {
     "name": "stdout",
     "output_type": "stream",
     "text": [
      "epoch: 7, [batch: 665 / 1330], examples_per_second: 2247.6162, train_label_loss: 0.2880, \n"
     ]
    },
    {
     "name": "stdout",
     "output_type": "stream",
     "text": [
      "epoch: 7, [batch: 798 / 1330], examples_per_second: 2241.2405, train_label_loss: 0.3945, \n"
     ]
    },
    {
     "name": "stdout",
     "output_type": "stream",
     "text": [
      "epoch: 7, [batch: 931 / 1330], examples_per_second: 2240.8663, train_label_loss: 0.0183, \n"
     ]
    },
    {
     "name": "stdout",
     "output_type": "stream",
     "text": [
      "epoch: 7, [batch: 1064 / 1330], examples_per_second: 2243.0000, train_label_loss: 0.0042, \n"
     ]
    },
    {
     "name": "stdout",
     "output_type": "stream",
     "text": [
      "epoch: 7, [batch: 1197 / 1330], examples_per_second: 2233.6674, train_label_loss: 0.6954, \n"
     ]
    },
    {
     "name": "stdout",
     "output_type": "stream",
     "text": [
      "=============================================================\n",
      "epoch: 7, source_val_acc_label: 0.8977, target_val_acc_label: 0.8075, source_val_label_loss: 0.2579, target_val_label_loss: 0.6177, \n",
      "=============================================================\n"
     ]
    },
    {
     "name": "stdout",
     "output_type": "stream",
     "text": [
      "New best\n"
     ]
    },
    {
     "name": "stdout",
     "output_type": "stream",
     "text": [
      "epoch: 8, [batch: 1 / 1326], examples_per_second: 6.7094, train_label_loss: 0.1628, \n"
     ]
    },
    {
     "name": "stdout",
     "output_type": "stream",
     "text": [
      "epoch: 8, [batch: 133 / 1326], examples_per_second: 2247.7634, train_label_loss: 0.1582, \n"
     ]
    },
    {
     "name": "stdout",
     "output_type": "stream",
     "text": [
      "epoch: 8, [batch: 266 / 1326], examples_per_second: 2228.3089, train_label_loss: 0.0590, \n"
     ]
    },
    {
     "name": "stdout",
     "output_type": "stream",
     "text": [
      "epoch: 8, [batch: 398 / 1326], examples_per_second: 2244.6755, train_label_loss: 0.2833, \n"
     ]
    },
    {
     "name": "stdout",
     "output_type": "stream",
     "text": [
      "epoch: 8, [batch: 531 / 1326], examples_per_second: 2174.2950, train_label_loss: 0.2633, \n"
     ]
    },
    {
     "name": "stdout",
     "output_type": "stream",
     "text": [
      "epoch: 8, [batch: 663 / 1326], examples_per_second: 2081.7630, train_label_loss: 1.0031, \n"
     ]
    },
    {
     "name": "stdout",
     "output_type": "stream",
     "text": [
      "epoch: 8, [batch: 796 / 1326], examples_per_second: 2236.0977, train_label_loss: 0.0740, \n"
     ]
    },
    {
     "name": "stdout",
     "output_type": "stream",
     "text": [
      "epoch: 8, [batch: 928 / 1326], examples_per_second: 2236.4933, train_label_loss: 0.2888, \n"
     ]
    },
    {
     "name": "stdout",
     "output_type": "stream",
     "text": [
      "epoch: 8, [batch: 1061 / 1326], examples_per_second: 2236.6260, train_label_loss: 0.0088, \n"
     ]
    },
    {
     "name": "stdout",
     "output_type": "stream",
     "text": [
      "epoch: 8, [batch: 1193 / 1326], examples_per_second: 2241.5372, train_label_loss: 0.0549, \n"
     ]
    },
    {
     "name": "stdout",
     "output_type": "stream",
     "text": [
      "=============================================================\n",
      "epoch: 8, source_val_acc_label: 0.8879, target_val_acc_label: 0.8062, source_val_label_loss: 0.2895, target_val_label_loss: 0.6385, \n",
      "=============================================================\n"
     ]
    },
    {
     "name": "stdout",
     "output_type": "stream",
     "text": [
      "epoch: 9, [batch: 1 / 1332], examples_per_second: 6.6499, train_label_loss: 0.3392, \n"
     ]
    },
    {
     "name": "stdout",
     "output_type": "stream",
     "text": [
      "epoch: 9, [batch: 134 / 1332], examples_per_second: 2137.3378, train_label_loss: 0.0170, \n"
     ]
    },
    {
     "name": "stdout",
     "output_type": "stream",
     "text": [
      "epoch: 9, [batch: 267 / 1332], examples_per_second: 2197.4468, train_label_loss: 0.0325, \n"
     ]
    },
    {
     "name": "stdout",
     "output_type": "stream",
     "text": [
      "epoch: 9, [batch: 400 / 1332], examples_per_second: 2114.8535, train_label_loss: 0.1216, \n"
     ]
    },
    {
     "name": "stdout",
     "output_type": "stream",
     "text": [
      "epoch: 9, [batch: 533 / 1332], examples_per_second: 2138.2272, train_label_loss: 0.0070, \n"
     ]
    },
    {
     "name": "stdout",
     "output_type": "stream",
     "text": [
      "epoch: 9, [batch: 666 / 1332], examples_per_second: 2084.5027, train_label_loss: 0.6213, \n"
     ]
    },
    {
     "name": "stdout",
     "output_type": "stream",
     "text": [
      "epoch: 9, [batch: 799 / 1332], examples_per_second: 2147.6859, train_label_loss: 0.0693, \n"
     ]
    },
    {
     "name": "stdout",
     "output_type": "stream",
     "text": [
      "epoch: 9, [batch: 932 / 1332], examples_per_second: 2050.0318, train_label_loss: 0.0748, \n"
     ]
    },
    {
     "name": "stdout",
     "output_type": "stream",
     "text": [
      "epoch: 9, [batch: 1065 / 1332], examples_per_second: 2143.5464, train_label_loss: 0.2171, \n"
     ]
    },
    {
     "name": "stdout",
     "output_type": "stream",
     "text": [
      "epoch: 9, [batch: 1198 / 1332], examples_per_second: 2096.5927, train_label_loss: 0.0019, \n"
     ]
    },
    {
     "name": "stdout",
     "output_type": "stream",
     "text": [
      "=============================================================\n",
      "epoch: 9, source_val_acc_label: 0.8995, target_val_acc_label: 0.8145, source_val_label_loss: 0.2444, target_val_label_loss: 0.6451, \n",
      "=============================================================\n"
     ]
    },
    {
     "name": "stdout",
     "output_type": "stream",
     "text": [
      "epoch: 10, [batch: 1 / 1326], examples_per_second: 6.6362, train_label_loss: 0.0028, \n"
     ]
    },
    {
     "name": "stdout",
     "output_type": "stream",
     "text": [
      "epoch: 10, [batch: 133 / 1326], examples_per_second: 2161.0982, train_label_loss: 0.1834, \n"
     ]
    },
    {
     "name": "stdout",
     "output_type": "stream",
     "text": [
      "epoch: 10, [batch: 266 / 1326], examples_per_second: 2220.7977, train_label_loss: 0.0020, \n"
     ]
    },
    {
     "name": "stdout",
     "output_type": "stream",
     "text": [
      "epoch: 10, [batch: 398 / 1326], examples_per_second: 2222.1111, train_label_loss: 0.3778, \n"
     ]
    },
    {
     "name": "stdout",
     "output_type": "stream",
     "text": [
      "epoch: 10, [batch: 531 / 1326], examples_per_second: 2219.8676, train_label_loss: 0.0003, \n"
     ]
    },
    {
     "name": "stdout",
     "output_type": "stream",
     "text": [
      "epoch: 10, [batch: 663 / 1326], examples_per_second: 2194.3087, train_label_loss: 0.0001, \n"
     ]
    },
    {
     "name": "stdout",
     "output_type": "stream",
     "text": [
      "epoch: 10, [batch: 796 / 1326], examples_per_second: 2192.0059, train_label_loss: 0.6756, \n"
     ]
    },
    {
     "name": "stdout",
     "output_type": "stream",
     "text": [
      "epoch: 10, [batch: 928 / 1326], examples_per_second: 2179.7829, train_label_loss: 0.3354, \n"
     ]
    },
    {
     "name": "stdout",
     "output_type": "stream",
     "text": [
      "epoch: 10, [batch: 1061 / 1326], examples_per_second: 2186.2442, train_label_loss: 0.3831, \n"
     ]
    },
    {
     "name": "stdout",
     "output_type": "stream",
     "text": [
      "epoch: 10, [batch: 1193 / 1326], examples_per_second: 2232.1637, train_label_loss: 0.0665, \n"
     ]
    },
    {
     "name": "stdout",
     "output_type": "stream",
     "text": [
      "=============================================================\n",
      "epoch: 10, source_val_acc_label: 0.8954, target_val_acc_label: 0.8110, source_val_label_loss: 0.2401, target_val_label_loss: 0.6227, \n",
      "=============================================================\n"
     ]
    },
    {
     "name": "stdout",
     "output_type": "stream",
     "text": [
      "epoch: 11, [batch: 1 / 1321], examples_per_second: 6.8803, train_label_loss: 0.1060, \n"
     ]
    },
    {
     "name": "stdout",
     "output_type": "stream",
     "text": [
      "epoch: 11, [batch: 133 / 1321], examples_per_second: 2171.3588, train_label_loss: 0.0227, \n"
     ]
    },
    {
     "name": "stdout",
     "output_type": "stream",
     "text": [
      "epoch: 11, [batch: 265 / 1321], examples_per_second: 2245.4059, train_label_loss: 0.0087, \n"
     ]
    },
    {
     "name": "stdout",
     "output_type": "stream",
     "text": [
      "epoch: 11, [batch: 397 / 1321], examples_per_second: 2156.6968, train_label_loss: 0.1091, \n"
     ]
    },
    {
     "name": "stdout",
     "output_type": "stream",
     "text": [
      "epoch: 11, [batch: 529 / 1321], examples_per_second: 2192.9935, train_label_loss: 0.0042, \n"
     ]
    },
    {
     "name": "stdout",
     "output_type": "stream",
     "text": [
      "epoch: 11, [batch: 661 / 1321], examples_per_second: 2202.0195, train_label_loss: 0.4579, \n"
     ]
    },
    {
     "name": "stdout",
     "output_type": "stream",
     "text": [
      "epoch: 11, [batch: 793 / 1321], examples_per_second: 2202.3741, train_label_loss: 0.1661, \n"
     ]
    },
    {
     "name": "stdout",
     "output_type": "stream",
     "text": [
      "epoch: 11, [batch: 925 / 1321], examples_per_second: 2204.9314, train_label_loss: 0.7387, \n"
     ]
    },
    {
     "name": "stdout",
     "output_type": "stream",
     "text": [
      "epoch: 11, [batch: 1057 / 1321], examples_per_second: 2208.9687, train_label_loss: 0.1067, \n"
     ]
    },
    {
     "name": "stdout",
     "output_type": "stream",
     "text": [
      "epoch: 11, [batch: 1189 / 1321], examples_per_second: 2237.1364, train_label_loss: 0.4719, \n"
     ]
    },
    {
     "name": "stdout",
     "output_type": "stream",
     "text": [
      "=============================================================\n",
      "epoch: 11, source_val_acc_label: 0.8961, target_val_acc_label: 0.8104, source_val_label_loss: 0.2758, target_val_label_loss: 0.7371, \n",
      "=============================================================\n"
     ]
    },
    {
     "name": "stdout",
     "output_type": "stream",
     "text": [
      "Patience (3) exhausted\n"
     ]
    }
   ],
   "source": [
    "###################################\n",
    "# train\n",
    "###################################\n",
    "jig = PTN_Train_Eval_Test_Jig(model, p.BEST_MODEL_PATH, p.device)\n",
    "\n",
    "jig.train(\n",
    "    train_iterable=datasets.source.processed.train,\n",
    "    source_val_iterable=datasets.source.processed.val,\n",
    "    target_val_iterable=datasets.target.processed.val,\n",
    "    num_epochs=p.n_epoch,\n",
    "    num_logs_per_epoch=p.NUM_LOGS_PER_EPOCH,\n",
    "    patience=p.patience,\n",
    "    optimizer=optimizer,\n",
    "    criteria_for_best=p.criteria_for_best,\n",
    ")"
   ]
  },
  {
   "cell_type": "code",
   "execution_count": 14,
   "id": "31e8fabf",
   "metadata": {
    "execution": {
     "iopub.execute_input": "2022-03-04T23:59:50.166429Z",
     "iopub.status.busy": "2022-03-04T23:59:50.166007Z",
     "iopub.status.idle": "2022-03-04T23:59:50.184930Z",
     "shell.execute_reply": "2022-03-04T23:59:50.184465Z"
    },
    "papermill": {
     "duration": 0.057032,
     "end_time": "2022-03-04T23:59:50.185040",
     "exception": false,
     "start_time": "2022-03-04T23:59:50.128008",
     "status": "completed"
    },
    "tags": []
   },
   "outputs": [],
   "source": [
    "total_experiment_time_secs = time.time() - start_time_secs"
   ]
  },
  {
   "cell_type": "code",
   "execution_count": 15,
   "id": "87b9595b",
   "metadata": {
    "execution": {
     "iopub.execute_input": "2022-03-04T23:59:50.264306Z",
     "iopub.status.busy": "2022-03-04T23:59:50.263904Z",
     "iopub.status.idle": "2022-03-05T00:00:26.943571Z",
     "shell.execute_reply": "2022-03-05T00:00:26.943313Z"
    },
    "papermill": {
     "duration": 36.720235,
     "end_time": "2022-03-05T00:00:26.943640",
     "exception": false,
     "start_time": "2022-03-04T23:59:50.223405",
     "status": "completed"
    },
    "tags": []
   },
   "outputs": [],
   "source": [
    "###################################\n",
    "# Evaluate the model\n",
    "###################################\n",
    "source_test_label_accuracy, source_test_label_loss = jig.test(datasets.source.processed.test)\n",
    "target_test_label_accuracy, target_test_label_loss = jig.test(datasets.target.processed.test)\n",
    "\n",
    "source_val_label_accuracy, source_val_label_loss = jig.test(datasets.source.processed.val)\n",
    "target_val_label_accuracy, target_val_label_loss = jig.test(datasets.target.processed.val)\n",
    "\n",
    "history = jig.get_history()\n",
    "\n",
    "total_epochs_trained = len(history[\"epoch_indices\"])\n",
    "\n",
    "val_dl = Iterable_Aggregator((datasets.source.original.val,datasets.target.original.val))\n",
    "\n",
    "confusion = ptn_confusion_by_domain_over_dataloader(model, p.device, val_dl)\n",
    "per_domain_accuracy = per_domain_accuracy_from_confusion(confusion)\n",
    "\n",
    "# Add a key to per_domain_accuracy for if it was a source domain\n",
    "for domain, accuracy in per_domain_accuracy.items():\n",
    "    per_domain_accuracy[domain] = {\n",
    "        \"accuracy\": accuracy,\n",
    "        \"source?\": domain in p.domains_source\n",
    "    }\n",
    "\n",
    "# Do an independent accuracy assesment JUST TO BE SURE!\n",
    "# _source_test_label_accuracy = independent_accuracy_assesment(model, datasets.source.processed.test, p.device)\n",
    "# _target_test_label_accuracy = independent_accuracy_assesment(model, datasets.target.processed.test, p.device)\n",
    "# _source_val_label_accuracy = independent_accuracy_assesment(model, datasets.source.processed.val, p.device)\n",
    "# _target_val_label_accuracy = independent_accuracy_assesment(model, datasets.target.processed.val, p.device)\n",
    "\n",
    "# assert(_source_test_label_accuracy == source_test_label_accuracy)\n",
    "# assert(_target_test_label_accuracy == target_test_label_accuracy)\n",
    "# assert(_source_val_label_accuracy == source_val_label_accuracy)\n",
    "# assert(_target_val_label_accuracy == target_val_label_accuracy)\n",
    "\n",
    "experiment = {\n",
    "    \"experiment_name\": p.experiment_name,\n",
    "    \"parameters\": dict(p),\n",
    "    \"results\": {\n",
    "        \"source_test_label_accuracy\": source_test_label_accuracy,\n",
    "        \"source_test_label_loss\": source_test_label_loss,\n",
    "        \"target_test_label_accuracy\": target_test_label_accuracy,\n",
    "        \"target_test_label_loss\": target_test_label_loss,\n",
    "        \"source_val_label_accuracy\": source_val_label_accuracy,\n",
    "        \"source_val_label_loss\": source_val_label_loss,\n",
    "        \"target_val_label_accuracy\": target_val_label_accuracy,\n",
    "        \"target_val_label_loss\": target_val_label_loss,\n",
    "        \"total_epochs_trained\": total_epochs_trained,\n",
    "        \"total_experiment_time_secs\": total_experiment_time_secs,\n",
    "        \"confusion\": confusion,\n",
    "        \"per_domain_accuracy\": per_domain_accuracy,\n",
    "    },\n",
    "    \"history\": history,\n",
    "    \"dataset_metrics\": get_dataset_metrics(datasets, \"ptn\"),\n",
    "}"
   ]
  },
  {
   "cell_type": "code",
   "execution_count": 16,
   "id": "54a21829",
   "metadata": {
    "execution": {
     "iopub.execute_input": "2022-03-05T00:00:27.018172Z",
     "iopub.status.busy": "2022-03-05T00:00:27.016060Z",
     "iopub.status.idle": "2022-03-05T00:00:27.202971Z",
     "shell.execute_reply": "2022-03-05T00:00:27.203390Z"
    },
    "papermill": {
     "duration": 0.223894,
     "end_time": "2022-03-05T00:00:27.203524",
     "exception": false,
     "start_time": "2022-03-05T00:00:26.979630",
     "status": "completed"
    },
    "tags": []
   },
   "outputs": [
    {
     "data": {
      "image/png": "[encoded data removed]",
      "text/plain": [
       "<Figure size 1080x504 with 1 Axes>"
      ]
     },
     "metadata": {
      "needs_background": "light"
     },
     "output_type": "display_data"
    }
   ],
   "source": [
    "ax = get_loss_curve(experiment)\n",
    "plt.show()"
   ]
  },
  {
   "cell_type": "code",
   "execution_count": 17,
   "id": "fd8a0f60",
   "metadata": {
    "execution": {
     "iopub.execute_input": "2022-03-05T00:00:27.283964Z",
     "iopub.status.busy": "2022-03-05T00:00:27.283408Z",
     "iopub.status.idle": "2022-03-05T00:00:27.543339Z",
     "shell.execute_reply": "2022-03-05T00:00:27.543755Z"
    },
    "papermill": {
     "duration": 0.299682,
     "end_time": "2022-03-05T00:00:27.543889",
     "exception": false,
     "start_time": "2022-03-05T00:00:27.244207",
     "status": "completed"
    },
    "tags": []
   },
   "outputs": [
    {
     "data": {
      "text/plain": [
       "<matplotlib.axes._subplots.AxesSubplot at 0x7efe6831fbe0>"
      ]
     },
     "execution_count": 17,
     "metadata": {},
     "output_type": "execute_result"
    },
    {
     "data": {
      "image/png": "[encoded data removed]",
      "text/plain": [
       "<Figure size 1080x504 with 1 Axes>"
      ]
     },
     "metadata": {
      "needs_background": "light"
     },
     "output_type": "display_data"
    }
   ],
   "source": [
    "get_results_table(experiment)"
   ]
  },
  {
   "cell_type": "code",
   "execution_count": 18,
   "id": "cf8dc689",
   "metadata": {
    "execution": {
     "iopub.execute_input": "2022-03-05T00:00:27.624097Z",
     "iopub.status.busy": "2022-03-05T00:00:27.623836Z",
     "iopub.status.idle": "2022-03-05T00:00:27.797151Z",
     "shell.execute_reply": "2022-03-05T00:00:27.797560Z"
    },
    "papermill": {
     "duration": 0.212555,
     "end_time": "2022-03-05T00:00:27.797696",
     "exception": false,
     "start_time": "2022-03-05T00:00:27.585141",
     "status": "completed"
    },
    "tags": []
   },
   "outputs": [
    {
     "data": {
      "text/plain": [
       "<matplotlib.axes._subplots.AxesSubplot at 0x7efe68339ac0>"
      ]
     },
     "execution_count": 18,
     "metadata": {},
     "output_type": "execute_result"
    },
    {
     "data": {
      "image/png": "[encoded data removed]",
      "text/plain": [
       "<Figure size 1080x504 with 1 Axes>"
      ]
     },
     "metadata": {
      "needs_background": "light"
     },
     "output_type": "display_data"
    }
   ],
   "source": [
    "get_domain_accuracies(experiment)"
   ]
  },
  {
   "cell_type": "code",
   "execution_count": 19,
   "id": "a74ae082",
   "metadata": {
    "execution": {
     "iopub.execute_input": "2022-03-05T00:00:27.881274Z",
     "iopub.status.busy": "2022-03-05T00:00:27.880950Z",
     "iopub.status.idle": "2022-03-05T00:00:27.894720Z",
     "shell.execute_reply": "2022-03-05T00:00:27.894218Z"
    },
    "papermill": {
     "duration": 0.05495,
     "end_time": "2022-03-05T00:00:27.894827",
     "exception": false,
     "start_time": "2022-03-05T00:00:27.839877",
     "status": "completed"
    },
    "tags": []
   },
   "outputs": [
    {
     "name": "stdout",
     "output_type": "stream",
     "text": [
      "Source Test Label Accuracy: 0.8897163120567376 Target Test Label Accuracy: 0.8026624068157614\n",
      "Source Val Label Accuracy: 0.8976950354609929 Target Val Label Accuracy: 0.807454739084132\n"
     ]
    }
   ],
   "source": [
    "print(\"Source Test Label Accuracy:\", experiment[\"results\"][\"source_test_label_accuracy\"], \"Target Test Label Accuracy:\", experiment[\"results\"][\"target_test_label_accuracy\"])\n",
    "print(\"Source Val Label Accuracy:\", experiment[\"results\"][\"source_val_label_accuracy\"], \"Target Val Label Accuracy:\", experiment[\"results\"][\"target_val_label_accuracy\"])"
   ]
  },
  {
   "cell_type": "code",
   "execution_count": 20,
   "id": "dacca602",
   "metadata": {
    "execution": {
     "iopub.execute_input": "2022-03-05T00:00:27.976814Z",
     "iopub.status.busy": "2022-03-05T00:00:27.976481Z",
     "iopub.status.idle": "2022-03-05T00:00:27.990575Z",
     "shell.execute_reply": "2022-03-05T00:00:27.990991Z"
    },
    "papermill": {
     "duration": 0.055274,
     "end_time": "2022-03-05T00:00:27.991119",
     "exception": false,
     "start_time": "2022-03-05T00:00:27.935845",
     "status": "completed"
    },
    "tags": [
     "experiment_json"
    ]
   },
   "outputs": [
    {
     "data": {
      "text/plain": [
       "'{\"experiment_name\": \"nWay_oracle.run2\", \"parameters\": {\"experiment_name\": \"nWay_oracle.run2\", \"device\": \"cuda\", \"lr\": 0.001, \"seed\": 1337, \"dataset_seed\": 1337, \"labels_source\": [\"3123D52\", \"3123D65\", \"3123D79\", \"3123D80\", \"3123D54\", \"3123D70\", \"3123D7B\", \"3123D89\", \"3123D58\", \"3123D76\", \"3123D7D\", \"3123EFE\", \"3123D64\", \"3123D78\", \"3123D7E\", \"3124E4A\"], \"labels_target\": [\"3123D52\", \"3123D65\", \"3123D79\", \"3123D80\", \"3123D54\", \"3123D70\", \"3123D7B\", \"3123D89\", \"3123D58\", \"3123D76\", \"3123D7D\", \"3123EFE\", \"3123D64\", \"3123D78\", \"3123D7E\", \"3124E4A\"], \"x_transforms_source\": [], \"x_transforms_target\": [], \"episode_transforms_source\": [], \"episode_transforms_target\": [], \"num_examples_per_domain_per_label_source\": 1000, \"num_examples_per_domain_per_label_target\": 1000, \"n_shot\": 3, \"n_query\": 2, \"train_k_factor\": 1, \"val_k_factor\": 2, \"test_k_factor\": 2, \"torch_default_dtype\": \"torch.float32\", \"n_epoch\": 50, \"patience\": 3, \"criteria_for_best\": \"target_loss\", \"x_net\": [{\"class\": \"nnReshape\", \"kargs\": {\"shape\": [-1, 1, 2, 256]}}, {\"class\": \"Conv2d\", \"kargs\": {\"in_channels\": 1, \"out_channels\": 256, \"kernel_size\": [1, 7], \"bias\": false, \"padding\": [0, 3]}}, {\"class\": \"ReLU\", \"kargs\": {\"inplace\": true}}, {\"class\": \"BatchNorm2d\", \"kargs\": {\"num_features\": 256}}, {\"class\": \"Conv2d\", \"kargs\": {\"in_channels\": 256, \"out_channels\": 80, \"kernel_size\": [2, 7], \"bias\": true, \"padding\": [0, 3]}}, {\"class\": \"ReLU\", \"kargs\": {\"inplace\": true}}, {\"class\": \"BatchNorm2d\", \"kargs\": {\"num_features\": 80}}, {\"class\": \"Flatten\", \"kargs\": {}}, {\"class\": \"Linear\", \"kargs\": {\"in_features\": 20480, \"out_features\": 256}}, {\"class\": \"ReLU\", \"kargs\": {\"inplace\": true}}, {\"class\": \"BatchNorm1d\", \"kargs\": {\"num_features\": 256}}, {\"class\": \"Linear\", \"kargs\": {\"in_features\": 256, \"out_features\": 256}}], \"NUM_LOGS_PER_EPOCH\": 10, \"BEST_MODEL_PATH\": \"./best_model.pth\", \"pickle_name\": \"oracle.Run2_10kExamples_stratified_ds.2022A.pkl\", \"n_way\": 5, \"domains_source\": [8, 32, 50], \"domains_target\": [14, 20, 26, 38, 44]}, \"results\": {\"source_test_label_accuracy\": 0.8897163120567376, \"source_test_label_loss\": 0.26484566926956177, \"target_test_label_accuracy\": 0.8026624068157614, \"target_test_label_loss\": 0.5784704089164734, \"source_val_label_accuracy\": 0.8976950354609929, \"source_val_label_loss\": 0.25785404443740845, \"target_val_label_accuracy\": 0.807454739084132, \"target_val_label_loss\": 0.617650032043457, \"total_epochs_trained\": 11, \"total_experiment_time_secs\": 240.0201165676117, \"confusion\": {\"8\": {\"2\": {\"2\": 116, \"12\": 2}, \"14\": {\"14\": 105, \"6\": 9, \"8\": 3, \"11\": 1, \"1\": 2}, \"10\": {\"10\": 87, \"5\": 10, \"13\": 11, \"7\": 7, \"4\": 1}, \"8\": {\"8\": 98, \"14\": 4, \"11\": 6, \"1\": 3, \"6\": 8, \"4\": 1}, \"9\": {\"9\": 118}, \"13\": {\"5\": 6, \"13\": 100, \"7\": 5, \"4\": 1, \"10\": 8}, \"11\": {\"14\": 3, \"11\": 75, \"4\": 8, \"7\": 6, \"6\": 6, \"8\": 8, \"10\": 1, \"13\": 5, \"1\": 4, \"12\": 3, \"5\": 1}, \"5\": {\"5\": 98, \"13\": 7, \"4\": 1, \"10\": 6, \"7\": 3, \"1\": 5}, \"12\": {\"12\": 110, \"2\": 4, \"15\": 2}, \"4\": {\"4\": 80, \"7\": 16, \"11\": 5, \"8\": 5, \"1\": 9, \"14\": 3, \"5\": 1, \"10\": 1}, \"6\": {\"14\": 17, \"6\": 86, \"8\": 7, \"4\": 2, \"1\": 2, \"11\": 2}, \"15\": {\"15\": 112, \"12\": 5, \"2\": 3}, \"0\": {\"0\": 120}, \"7\": {\"7\": 100, \"4\": 13, \"10\": 2, \"5\": 3, \"1\": 1, \"13\": 1}, \"1\": {\"1\": 84, \"7\": 3, \"4\": 8, \"10\": 4, \"13\": 5, \"14\": 5, \"6\": 2, \"5\": 5}, \"3\": {\"3\": 120}}, \"50\": {\"4\": {\"4\": 99, \"15\": 1, \"5\": 4, \"7\": 2}, \"2\": {\"2\": 115, \"0\": 3}, \"11\": {\"11\": 110, \"12\": 2, \"1\": 2}, \"1\": {\"1\": 115, \"11\": 1}, \"6\": {\"6\": 109, \"15\": 4, \"5\": 6, \"4\": 1}, \"13\": {\"13\": 119, \"1\": 1}, \"10\": {\"10\": 115, \"0\": 3, \"1\": 2}, \"8\": {\"8\": 120}, \"12\": {\"12\": 113, \"15\": 2, \"11\": 3, \"9\": 2}, \"9\": {\"9\": 111, \"15\": 7, \"12\": 2}, \"15\": {\"15\": 110, \"9\": 2, \"6\": 4, \"5\": 2, \"4\": 2}, \"0\": {\"0\": 108, \"2\": 3, \"10\": 3}, \"3\": {\"3\": 118}, \"7\": {\"7\": 109, \"5\": 3, \"4\": 2}, \"5\": {\"5\": 108, \"4\": 5, \"15\": 3, \"9\": 1, \"6\": 1, \"7\": 2}, \"14\": {\"14\": 120}}, \"32\": {\"11\": {\"11\": 97, \"4\": 9, \"13\": 11, \"0\": 2, \"3\": 1}, \"7\": {\"8\": 12, \"7\": 74, \"0\": 14, \"4\": 4, \"14\": 7, \"2\": 4, \"5\": 1}, \"9\": {\"9\": 116, \"11\": 1, \"12\": 3}, \"13\": {\"11\": 10, \"13\": 100, \"3\": 7, \"0\": 1, \"4\": 2}, \"8\": {\"8\": 95, \"7\": 6, \"15\": 1, \"0\": 3, \"2\": 1}, \"14\": {\"14\": 84, \"2\": 12, \"5\": 1, \"0\": 4, \"7\": 4, \"15\": 1}, \"3\": {\"3\": 116, \"13\": 3, \"11\": 1}, \"15\": {\"15\": 110, \"5\": 4}, \"10\": {\"10\": 116}, \"1\": {\"1\": 120}, \"0\": {\"0\": 91, \"2\": 7, \"14\": 3, \"7\": 14, \"8\": 3, \"4\": 2}, \"2\": {\"2\": 91, \"14\": 13, \"8\": 2, \"7\": 6, \"0\": 8}, \"4\": {\"4\": 110, \"0\": 2, \"11\": 5, \"3\": 3}, \"5\": {\"15\": 4, \"5\": 114, \"7\": 1, \"14\": 1}, \"6\": {\"6\": 112}, \"12\": {\"12\": 109, \"10\": 1}}, \"14\": {\"2\": {\"14\": 12, \"2\": 65, \"7\": 14, \"5\": 12, \"6\": 4, \"0\": 1, \"8\": 2, \"10\": 1, \"4\": 2, \"3\": 5}, \"14\": {\"2\": 6, \"4\": 1, \"14\": 89, \"5\": 11, \"0\": 4, \"3\": 2, \"7\": 5, \"10\": 2}, \"10\": {\"10\": 76, \"8\": 12, \"5\": 9, \"0\": 6, \"3\": 3, \"6\": 3, \"14\": 7, \"12\": 1, \"4\": 2, \"9\": 1}, \"8\": {\"10\": 9, \"8\": 93, \"0\": 6, \"14\": 1, \"2\": 1}, \"9\": {\"9\": 110, \"0\": 4, \"12\": 2}, \"4\": {\"4\": 106, \"10\": 3, \"0\": 8, \"8\": 1, \"5\": 2}, \"6\": {\"6\": 105, \"3\": 5, \"13\": 9, \"7\": 1}, \"5\": {\"5\": 83, \"2\": 11, \"14\": 13, \"8\": 3, \"0\": 1, \"7\": 3, \"10\": 4}, \"15\": {\"15\": 116}, \"0\": {\"9\": 4, \"5\": 4, \"0\": 90, \"10\": 6, \"4\": 10, \"14\": 1, \"8\": 5}, \"1\": {\"1\": 116}, \"11\": {\"11\": 120}, \"7\": {\"7\": 98, \"3\": 3, \"14\": 6, \"2\": 5, \"5\": 1, \"10\": 1, \"6\": 2}, \"3\": {\"10\": 1, \"3\": 113, \"14\": 1, \"6\": 2, \"2\": 1, \"7\": 1, \"13\": 1}, \"13\": {\"3\": 3, \"13\": 109, \"6\": 7, \"7\": 1}, \"12\": {\"3\": 9, \"5\": 7, \"12\": 44, \"0\": 4, \"11\": 4, \"10\": 8, \"13\": 2, \"9\": 10, \"6\": 6, \"14\": 3, \"8\": 13, \"1\": 2, \"2\": 1, \"15\": 3, \"4\": 4}}, \"20\": {\"14\": {\"5\": 2, \"11\": 8, \"14\": 82, \"7\": 1, \"8\": 16, \"2\": 1}, \"13\": {\"12\": 14, \"13\": 76, \"3\": 4, \"1\": 1, \"9\": 5, \"4\": 5, \"7\": 2, \"15\": 4, \"2\": 3, \"10\": 5, \"5\": 1}, \"11\": {\"11\": 94, \"14\": 7, \"8\": 12, \"0\": 7}, \"5\": {\"5\": 69, \"1\": 6, \"7\": 7, \"3\": 9, \"15\": 5, \"8\": 2, \"14\": 3, \"2\": 10, \"9\": 4, \"4\": 4, \"13\": 1}, \"12\": {\"12\": 85, \"13\": 12, \"3\": 2, \"10\": 5, \"15\": 3, \"9\": 3, \"5\": 1, \"2\": 2, \"7\": 5, \"4\": 2}, \"1\": {\"1\": 82, \"9\": 2, \"2\": 5, \"5\": 7, \"14\": 4, \"15\": 2, \"4\": 1, \"0\": 1}, \"10\": {\"10\": 93, \"12\": 1, \"6\": 9, \"3\": 3, \"15\": 2, \"9\": 1, \"4\": 3, \"13\": 4, \"7\": 3, \"2\": 1}, \"8\": {\"8\": 90, \"11\": 14, \"2\": 2, \"14\": 9, \"1\": 3, \"0\": 2}, \"6\": {\"6\": 100, \"12\": 1, \"3\": 3, \"9\": 1, \"10\": 9, \"7\": 2, \"4\": 1, \"15\": 1, \"2\": 2}, \"4\": {\"7\": 12, \"15\": 17, \"4\": 44, \"12\": 4, \"5\": 9, \"3\": 11, \"6\": 3, \"10\": 3, \"9\": 13, \"2\": 3, \"13\": 1}, \"15\": {\"15\": 62, \"4\": 12, \"1\": 2, \"12\": 1, \"2\": 11, \"9\": 8, \"7\": 4, \"3\": 7, \"5\": 6, \"10\": 1, \"11\": 1, \"13\": 4, \"14\": 1}, \"7\": {\"6\": 6, \"7\": 67, \"1\": 1, \"15\": 5, \"12\": 6, \"5\": 6, \"13\": 3, \"4\": 7, \"2\": 4, \"3\": 4, \"9\": 4, \"10\": 2, \"14\": 1}, \"0\": {\"0\": 81, \"1\": 3, \"14\": 3, \"8\": 2, \"11\": 8, \"5\": 2, \"15\": 1}, \"3\": {\"7\": 5, \"5\": 9, \"3\": 57, \"4\": 13, \"15\": 12, \"2\": 8, \"1\": 1, \"12\": 2, \"9\": 8, \"10\": 2, \"13\": 3}, \"2\": {\"2\": 73, \"3\": 5, \"1\": 2, \"9\": 8, \"15\": 8, \"7\": 5, \"0\": 1, \"4\": 6, \"5\": 8, \"13\": 1, \"10\": 1, \"12\": 2}, \"9\": {\"9\": 50, \"2\": 12, \"5\": 13, \"3\": 6, \"4\": 8, \"15\": 11, \"12\": 2, \"1\": 4, \"6\": 2, \"13\": 1, \"7\": 1}}, \"26\": {\"4\": {\"4\": 118, \"3\": 2}, \"2\": {\"2\": 75, \"3\": 1, \"8\": 19, \"9\": 10, \"15\": 6, \"7\": 3, \"13\": 3, \"0\": 1}, \"11\": {\"11\": 118}, \"1\": {\"1\": 108, \"6\": 4, \"10\": 1, \"5\": 4, \"14\": 3}, \"6\": {\"6\": 97, \"5\": 14, \"10\": 1, \"1\": 4, \"0\": 2, \"14\": 2}, \"12\": {\"12\": 111, \"9\": 2, \"13\": 1, \"0\": 2, \"14\": 1, \"8\": 1}, \"9\": {\"2\": 13, \"9\": 82, \"8\": 10, \"13\": 5, \"12\": 1, \"0\": 3, \"3\": 1, \"7\": 4, \"15\": 1}, \"15\": {\"0\": 14, \"8\": 8, \"15\": 85, \"5\": 2, \"10\": 4, \"2\": 5, \"9\": 1, \"13\": 1}, \"0\": {\"0\": 83, \"15\": 10, \"3\": 1, \"14\": 6, \"2\": 3, \"13\": 1, \"9\": 2, \"8\": 3, \"10\": 10, \"7\": 1}, \"3\": {\"3\": 110, \"15\": 1, \"13\": 2, \"7\": 6, \"2\": 1}, \"8\": {\"8\": 75, \"10\": 5, \"2\": 13, \"13\": 1, \"15\": 6, \"9\": 8, \"7\": 2, \"0\": 2}, \"7\": {\"7\": 82, \"13\": 8, \"3\": 6, \"2\": 4, \"8\": 5, \"9\": 4, \"0\": 1}, \"13\": {\"9\": 9, \"13\": 97, \"7\": 8, \"8\": 1, \"3\": 3, \"2\": 1, \"0\": 1}, \"5\": {\"6\": 20, \"5\": 85, \"10\": 1, \"14\": 9, \"1\": 3, \"0\": 2}, \"10\": {\"10\": 59, \"8\": 7, \"14\": 12, \"0\": 16, \"15\": 7, \"5\": 4, \"1\": 3, \"6\": 3, \"2\": 4, \"9\": 1}, \"14\": {\"1\": 5, \"14\": 71, \"15\": 4, \"0\": 9, \"10\": 10, \"8\": 2, \"5\": 4, \"6\": 3}}, \"38\": {\"11\": {\"11\": 120}, \"7\": {\"7\": 109, \"0\": 6, \"14\": 1}, \"9\": {\"9\": 107, \"12\": 8, \"0\": 1, \"5\": 4}, \"13\": {\"13\": 105, \"10\": 3, \"3\": 11, \"4\": 1}, \"8\": {\"8\": 111, \"12\": 6, \"5\": 1, \"0\": 1, \"9\": 1}, \"10\": {\"3\": 9, \"10\": 99, \"4\": 7, \"13\": 5}, \"3\": {\"3\": 83, \"13\": 13, \"4\": 12, \"10\": 6}, \"15\": {\"15\": 100, \"1\": 8, \"2\": 1, \"6\": 7}, \"1\": {\"15\": 6, \"1\": 110}, \"0\": {\"0\": 114, \"7\": 6}, \"2\": {\"2\": 110, \"14\": 7, \"8\": 1}, \"4\": {\"10\": 3, \"4\": 110, \"13\": 3, \"3\": 2}, \"5\": {\"5\": 80, \"12\": 9, \"7\": 2, \"0\": 3, \"8\": 13, \"14\": 1, \"9\": 11, \"2\": 1}, \"14\": {\"14\": 87, \"2\": 9, \"7\": 6, \"4\": 2, \"9\": 2, \"10\": 2, \"12\": 3, \"5\": 1}, \"6\": {\"6\": 115, \"15\": 5}, \"12\": {\"12\": 107, \"9\": 2, \"8\": 4, \"5\": 7}}, \"44\": {\"14\": {\"14\": 112, \"4\": 7, \"5\": 1}, \"7\": {\"7\": 112, \"10\": 1, \"9\": 6, \"6\": 1}, \"13\": {\"13\": 114, \"4\": 2, \"6\": 4}, \"3\": {\"3\": 110, \"12\": 10}, \"15\": {\"15\": 100, \"8\": 2, \"5\": 6, \"0\": 1, \"4\": 1}, \"6\": {\"6\": 98, \"7\": 2, \"13\": 4}, \"1\": {\"1\": 99, \"2\": 15}, \"2\": {\"2\": 99, \"1\": 7}, \"8\": {\"8\": 115, \"15\": 1, \"5\": 1, \"0\": 3}, \"4\": {\"4\": 102, \"14\": 13, \"9\": 1}, \"11\": {\"11\": 120}, \"5\": {\"5\": 103, \"15\": 7, \"8\": 4, \"14\": 6}, \"10\": {\"10\": 108, \"7\": 6, \"6\": 4, \"13\": 1, \"9\": 1}, \"9\": {\"9\": 111, \"7\": 9}, \"12\": {\"12\": 113, \"3\": 7}, \"0\": {\"0\": 105, \"8\": 13, \"5\": 2}}}, \"per_domain_accuracy\": {\"8\": {\"accuracy\": 0.8468421052631578, \"source?\": true}, \"50\": {\"accuracy\": 0.9569148936170213, \"source?\": true}, \"32\": {\"accuracy\": 0.8897849462365591, \"source?\": true}, \"14\": {\"accuracy\": 0.8111111111111111, \"source?\": false}, \"20\": {\"accuracy\": 0.6478494623655914, \"source?\": false}, \"26\": {\"accuracy\": 0.774468085106383, \"source?\": false}, \"38\": {\"accuracy\": 0.882010582010582, \"source?\": false}, \"44\": {\"accuracy\": 0.9203208556149732, \"source?\": false}}}, \"history\": {\"epoch_indices\": [1, 2, 3, 4, 5, 6, 7, 8, 9, 10, 11], \"train_label_loss\": [0.5957278958111525, 0.5862922198838502, 0.5043514269233395, 0.3644517261795961, 0.294640280994459, 0.26504604848253005, 0.25251671719839325, 0.24574774770230254, 0.23328423821951558, 0.22137501797841957, 0.20950920707192922], \"source_val_label_loss\": [1.336790919303894, 0.5456746816635132, 0.4269944131374359, 0.3240564465522766, 0.2945655584335327, 0.28982383012771606, 0.25785404443740845, 0.2894767224788666, 0.24440862238407135, 0.2401297688484192, 0.2758321464061737], \"target_val_label_loss\": [1.8316148519515991, 0.8272858262062073, 0.8105259537696838, 0.7161945104598999, 0.7170305252075195, 0.8204963803291321, 0.617650032043457, 0.638542652130127, 0.645052969455719, 0.6226582527160645, 0.7371431589126587], \"source_val_acc_label\": [0.7398936170212767, 0.7519503546099291, 0.8349290780141844, 0.8679078014184397, 0.877127659574468, 0.8854609929078014, 0.8976950354609929, 0.8879432624113475, 0.899468085106383, 0.8953900709219859, 0.8960992907801418], \"target_val_acc_label\": [0.6833865814696486, 0.6902023429179979, 0.7414270500532482, 0.7793397231096911, 0.7859424920127795, 0.7995740149094782, 0.807454739084132, 0.8061767838125665, 0.8144834930777423, 0.8109691160809371, 0.8104366347177849]}, \"dataset_metrics\": {\"source\": {\"train\": {\"n_unique_x\": 33150, \"n_unique_y\": 16, \"n_batch/episode\": 1326}, \"val\": {\"n_unique_x\": 7198, \"n_unique_y\": 16, \"n_batch/episode\": 564}, \"test\": {\"n_unique_x\": 7198, \"n_unique_y\": 16, \"n_batch/episode\": 564}}, \"target\": {\"train\": {\"n_unique_x\": 55475, \"n_unique_y\": 16, \"n_batch/episode\": 2219}, \"val\": {\"n_unique_x\": 11988, \"n_unique_y\": 16, \"n_batch/episode\": 939}, \"test\": {\"n_unique_x\": 11988, \"n_unique_y\": 16, \"n_batch/episode\": 939}}}}'"
      ]
     },
     "execution_count": 20,
     "metadata": {},
     "output_type": "execute_result"
    }
   ],
   "source": [
    "json.dumps(experiment)"
   ]
  }
 ],
 "metadata": {
  "celltoolbar": "Tags",
  "kernelspec": {
   "display_name": "Python 3 (ipykernel)",
   "language": "python",
   "name": "python3"
  },
  "language_info": {
   "codemirror_mode": {
    "name": "ipython",
    "version": 3
   },
   "file_extension": ".py",
   "mimetype": "text/x-python",
   "name": "python",
   "nbconvert_exporter": "python",
   "pygments_lexer": "ipython3",
   "version": "3.8.10"
  },
  "papermill": {
   "default_parameters": {},
   "duration": 280.444824,
   "end_time": "2022-03-05T00:00:28.638434",
   "environment_variables": {},
   "exception": null,
   "input_path": "/mnt/wd500GB/CSC500/csc500-main/csc500-notebooks/templates/ptn_template.ipynb",
   "output_path": "trial.ipynb",
   "parameters": {
    "parameters": {
     "BEST_MODEL_PATH": "./best_model.pth",
     "NUM_LOGS_PER_EPOCH": 10,
     "criteria_for_best": "target_loss",
     "dataset_seed": 1337,
     "device": "cuda",
     "domains_source": [
      8,
      32,
      50
     ],
     "domains_target": [
      14,
      20,
      26,
      38,
      44
     ],
     "episode_transforms_source": [],
     "episode_transforms_target": [],
     "experiment_name": "nWay_oracle.run2",
     "labels_source": [
      "3123D52",
      "3123D65",
      "3123D79",
      "3123D80",
      "3123D54",
      "3123D70",
      "3123D7B",
      "3123D89",
      "3123D58",
      "3123D76",
      "3123D7D",
      "3123EFE",
      "3123D64",
      "3123D78",
      "3123D7E",
      "3124E4A"
     ],
     "labels_target": [
      "3123D52",
      "3123D65",
      "3123D79",
      "3123D80",
      "3123D54",
      "3123D70",
      "3123D7B",
      "3123D89",
      "3123D58",
      "3123D76",
      "3123D7D",
      "3123EFE",
      "3123D64",
      "3123D78",
      "3123D7E",
      "3124E4A"
     ],
     "lr": 0.001,
     "n_epoch": 50,
     "n_query": 2,
     "n_shot": 3,
     "n_way": 5,
     "num_examples_per_domain_per_label_source": 1000,
     "num_examples_per_domain_per_label_target": 1000,
     "patience": 3,
     "pickle_name": "oracle.Run2_10kExamples_stratified_ds.2022A.pkl",
     "seed": 1337,
     "test_k_factor": 2,
     "torch_default_dtype": "torch.float32",
     "train_k_factor": 1,
     "val_k_factor": 2,
     "x_net": [
      {
       "class": "nnReshape",
       "kargs": {
        "shape": [
         -1,
         1,
         2,
         256
        ]
       }
      },
      {
       "class": "Conv2d",
       "kargs": {
        "bias": false,
        "in_channels": 1,
        "kernel_size": [
         1,
         7
        ],
        "out_channels": 256,
        "padding": [
         0,
         3
        ]
       }
      },
      {
       "class": "ReLU",
       "kargs": {
        "inplace": true
       }
      },
      {
       "class": "BatchNorm2d",
       "kargs": {
        "num_features": 256
       }
      },
      {
       "class": "Conv2d",
       "kargs": {
        "bias": true,
        "in_channels": 256,
        "kernel_size": [
         2,
         7
        ],
        "out_channels": 80,
        "padding": [
         0,
         3
        ]
       }
      },
      {
       "class": "ReLU",
       "kargs": {
        "inplace": true
       }
      },
      {
       "class": "BatchNorm2d",
       "kargs": {
        "num_features": 80
       }
      },
      {
       "class": "Flatten",
       "kargs": {}
      },
      {
       "class": "Linear",
       "kargs": {
        "in_features": 20480,
        "out_features": 256
       }
      },
      {
       "class": "ReLU",
       "kargs": {
        "inplace": true
       }
      },
      {
       "class": "BatchNorm1d",
       "kargs": {
        "num_features": 256
       }
      },
      {
       "class": "Linear",
       "kargs": {
        "in_features": 256,
        "out_features": 256
       }
      }
     ],
     "x_transforms_source": [],
     "x_transforms_target": []
    }
   },
   "start_time": "2022-03-04T23:55:48.193610",
   "version": "2.3.4"
  }
 },
 "nbformat": 4,
 "nbformat_minor": 5
}