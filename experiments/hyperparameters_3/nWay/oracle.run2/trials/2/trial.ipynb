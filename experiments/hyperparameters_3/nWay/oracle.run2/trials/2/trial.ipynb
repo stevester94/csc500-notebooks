{
 "cells": [
  {
   "cell_type": "markdown",
   "id": "9fea5f46",
   "metadata": {
    "papermill": {
     "duration": 0.018098,
     "end_time": "2022-03-04T23:44:41.952590",
     "exception": false,
     "start_time": "2022-03-04T23:44:41.934492",
     "status": "completed"
    },
    "tags": []
   },
   "source": [
    "# PTN Template\n",
    "This notebook serves as a template for single dataset PTN experiments  \n",
    "It can be run on its own by setting STANDALONE to True (do a find for \"STANDALONE\" to see where)  \n",
    "But it is intended to be executed as part of a *papermill.py script. See any of the   \n",
    "experimentes with a papermill script to get started with that workflow.  "
   ]
  },
  {
   "cell_type": "code",
   "execution_count": 1,
   "id": "0902182a",
   "metadata": {
    "execution": {
     "iopub.execute_input": "2022-03-04T23:44:41.979221Z",
     "iopub.status.busy": "2022-03-04T23:44:41.973883Z",
     "iopub.status.idle": "2022-03-04T23:44:42.790429Z",
     "shell.execute_reply": "2022-03-04T23:44:42.789849Z"
    },
    "papermill": {
     "duration": 0.828054,
     "end_time": "2022-03-04T23:44:42.790554",
     "exception": false,
     "start_time": "2022-03-04T23:44:41.962500",
     "status": "completed"
    },
    "tags": []
   },
   "outputs": [],
   "source": [
    "%load_ext autoreload\n",
    "%autoreload 2\n",
    "%matplotlib inline\n",
    "\n",
    "    \n",
    "import os, json, sys, time, random\n",
    "import numpy as np\n",
    "import torch\n",
    "from torch.optim import Adam\n",
    "from  easydict import EasyDict\n",
    "import matplotlib.pyplot as plt\n",
    "\n",
    "from steves_models.steves_ptn import Steves_Prototypical_Network\n",
    "\n",
    "from steves_utils.lazy_iterable_wrapper import Lazy_Iterable_Wrapper\n",
    "from steves_utils.iterable_aggregator import Iterable_Aggregator\n",
    "from steves_utils.ptn_train_eval_test_jig import  PTN_Train_Eval_Test_Jig\n",
    "from steves_utils.torch_sequential_builder import build_sequential\n",
    "from steves_utils.torch_utils import get_dataset_metrics, ptn_confusion_by_domain_over_dataloader\n",
    "from steves_utils.utils_v2 import (per_domain_accuracy_from_confusion, get_datasets_base_path)\n",
    "from steves_utils.PTN.utils import independent_accuracy_assesment\n",
    "\n",
    "from steves_utils.stratified_dataset.episodic_accessor import Episodic_Accessor_Factory\n",
    "\n",
    "from steves_utils.ptn_do_report import (\n",
    "    get_loss_curve,\n",
    "    get_results_table,\n",
    "    get_parameters_table,\n",
    "    get_domain_accuracies,\n",
    ")\n",
    "\n",
    "from steves_utils.transforms import get_chained_transform"
   ]
  },
  {
   "cell_type": "markdown",
   "id": "41c840b4",
   "metadata": {
    "papermill": {
     "duration": 0.009568,
     "end_time": "2022-03-04T23:44:42.816069",
     "exception": false,
     "start_time": "2022-03-04T23:44:42.806501",
     "status": "completed"
    },
    "tags": []
   },
   "source": [
    "# Required Parameters\n",
    "These are allowed parameters, not defaults\n",
    "Each of these values need to be present in the injected parameters (the notebook will raise an exception if they are not present)\n",
    "\n",
    "Papermill uses the cell tag \"parameters\" to inject the real parameters below this cell.\n",
    "Enable tags to see what I mean"
   ]
  },
  {
   "cell_type": "code",
   "execution_count": 2,
   "id": "fd44eb83",
   "metadata": {
    "execution": {
     "iopub.execute_input": "2022-03-04T23:44:42.839141Z",
     "iopub.status.busy": "2022-03-04T23:44:42.837333Z",
     "iopub.status.idle": "2022-03-04T23:44:42.852310Z",
     "shell.execute_reply": "2022-03-04T23:44:42.851770Z"
    },
    "papermill": {
     "duration": 0.026324,
     "end_time": "2022-03-04T23:44:42.852415",
     "exception": false,
     "start_time": "2022-03-04T23:44:42.826091",
     "status": "completed"
    },
    "tags": []
   },
   "outputs": [],
   "source": [
    "required_parameters = {\n",
    "    \"experiment_name\",\n",
    "    \"lr\",\n",
    "    \"device\",\n",
    "    \"seed\",\n",
    "    \"dataset_seed\",\n",
    "    \"labels_source\",\n",
    "    \"labels_target\",\n",
    "    \"domains_source\",\n",
    "    \"domains_target\",\n",
    "    \"num_examples_per_domain_per_label_source\",\n",
    "    \"num_examples_per_domain_per_label_target\",\n",
    "    \"n_shot\",\n",
    "    \"n_way\",\n",
    "    \"n_query\",\n",
    "    \"train_k_factor\",\n",
    "    \"val_k_factor\",\n",
    "    \"test_k_factor\",\n",
    "    \"n_epoch\",\n",
    "    \"patience\",\n",
    "    \"criteria_for_best\",\n",
    "    \"x_transforms_source\",\n",
    "    \"x_transforms_target\",\n",
    "    \"episode_transforms_source\",\n",
    "    \"episode_transforms_target\",\n",
    "    \"pickle_name\",\n",
    "    \"x_net\",\n",
    "    \"NUM_LOGS_PER_EPOCH\",\n",
    "    \"BEST_MODEL_PATH\",\n",
    "    \"torch_default_dtype\"\n",
    "}"
   ]
  },
  {
   "cell_type": "code",
   "execution_count": 3,
   "id": "fa3f0049",
   "metadata": {
    "execution": {
     "iopub.execute_input": "2022-03-04T23:44:42.886970Z",
     "iopub.status.busy": "2022-03-04T23:44:42.886668Z",
     "iopub.status.idle": "2022-03-04T23:44:42.902293Z",
     "shell.execute_reply": "2022-03-04T23:44:42.901900Z"
    },
    "papermill": {
     "duration": 0.036061,
     "end_time": "2022-03-04T23:44:42.902386",
     "exception": false,
     "start_time": "2022-03-04T23:44:42.866325",
     "status": "completed"
    },
    "tags": [
     "parameters"
    ]
   },
   "outputs": [],
   "source": [
    "\n",
    "\n",
    "standalone_parameters = {}\n",
    "standalone_parameters[\"experiment_name\"] = \"STANDALONE PTN\"\n",
    "standalone_parameters[\"lr\"] = 0.0001\n",
    "standalone_parameters[\"device\"] = \"cuda\"\n",
    "\n",
    "standalone_parameters[\"seed\"] = 1337\n",
    "standalone_parameters[\"dataset_seed\"] = 1337\n",
    "\n",
    "\n",
    "standalone_parameters[\"num_examples_per_domain_per_label_source\"]=100\n",
    "standalone_parameters[\"num_examples_per_domain_per_label_target\"]=100\n",
    "\n",
    "standalone_parameters[\"n_shot\"] = 3\n",
    "standalone_parameters[\"n_query\"]  = 2\n",
    "standalone_parameters[\"train_k_factor\"] = 1\n",
    "standalone_parameters[\"val_k_factor\"] = 2\n",
    "standalone_parameters[\"test_k_factor\"] = 2\n",
    "\n",
    "\n",
    "standalone_parameters[\"n_epoch\"] = 100\n",
    "\n",
    "standalone_parameters[\"patience\"] = 10\n",
    "standalone_parameters[\"criteria_for_best\"] = \"target_accuracy\"\n",
    "\n",
    "standalone_parameters[\"x_transforms_source\"] = [\"unit_power\"]\n",
    "standalone_parameters[\"x_transforms_target\"] = [\"unit_power\"]\n",
    "standalone_parameters[\"episode_transforms_source\"] = []\n",
    "standalone_parameters[\"episode_transforms_target\"] = []\n",
    "\n",
    "standalone_parameters[\"torch_default_dtype\"] = \"torch.float32\" \n",
    "\n",
    "\n",
    "\n",
    "standalone_parameters[\"x_net\"] =     [\n",
    "    {\"class\": \"nnReshape\", \"kargs\": {\"shape\":[-1, 1, 2, 256]}},\n",
    "    {\"class\": \"Conv2d\", \"kargs\": { \"in_channels\":1, \"out_channels\":256, \"kernel_size\":(1,7), \"bias\":False, \"padding\":(0,3), },},\n",
    "    {\"class\": \"ReLU\", \"kargs\": {\"inplace\": True}},\n",
    "    {\"class\": \"BatchNorm2d\", \"kargs\": {\"num_features\":256}},\n",
    "\n",
    "    {\"class\": \"Conv2d\", \"kargs\": { \"in_channels\":256, \"out_channels\":80, \"kernel_size\":(2,7), \"bias\":True, \"padding\":(0,3), },},\n",
    "    {\"class\": \"ReLU\", \"kargs\": {\"inplace\": True}},\n",
    "    {\"class\": \"BatchNorm2d\", \"kargs\": {\"num_features\":80}},\n",
    "    {\"class\": \"Flatten\", \"kargs\": {}},\n",
    "\n",
    "    {\"class\": \"Linear\", \"kargs\": {\"in_features\": 80*256, \"out_features\": 256}}, # 80 units per IQ pair\n",
    "    {\"class\": \"ReLU\", \"kargs\": {\"inplace\": True}},\n",
    "    {\"class\": \"BatchNorm1d\", \"kargs\": {\"num_features\":256}},\n",
    "\n",
    "    {\"class\": \"Linear\", \"kargs\": {\"in_features\": 256, \"out_features\": 256}},\n",
    "]\n",
    "\n",
    "# Parameters relevant to results\n",
    "# These parameters will basically never need to change\n",
    "standalone_parameters[\"NUM_LOGS_PER_EPOCH\"] = 10\n",
    "standalone_parameters[\"BEST_MODEL_PATH\"] = \"./best_model.pth\"\n",
    "\n",
    "# uncomment for CORES dataset\n",
    "from steves_utils.CORES.utils import (\n",
    "    ALL_NODES,\n",
    "    ALL_NODES_MINIMUM_1000_EXAMPLES,\n",
    "    ALL_DAYS\n",
    ")\n",
    "\n",
    "\n",
    "standalone_parameters[\"labels_source\"] = ALL_NODES\n",
    "standalone_parameters[\"labels_target\"] = ALL_NODES\n",
    "\n",
    "standalone_parameters[\"domains_source\"] = [1]\n",
    "standalone_parameters[\"domains_target\"] = [2,3,4,5]\n",
    "\n",
    "standalone_parameters[\"pickle_name\"] = \"cores.stratified_ds.2022A.pkl\"\n",
    "\n",
    "\n",
    "# Uncomment these for ORACLE dataset\n",
    "# from steves_utils.ORACLE.utils_v2 import (\n",
    "#     ALL_DISTANCES_FEET,\n",
    "#     ALL_RUNS,\n",
    "#     ALL_SERIAL_NUMBERS,\n",
    "# )\n",
    "# standalone_parameters[\"labels_source\"] = ALL_SERIAL_NUMBERS\n",
    "# standalone_parameters[\"labels_target\"] = ALL_SERIAL_NUMBERS\n",
    "# standalone_parameters[\"domains_source\"] = [8,20, 38,50]\n",
    "# standalone_parameters[\"domains_target\"] = [14, 26, 32, 44, 56]\n",
    "# standalone_parameters[\"pickle_name\"] = \"oracle.frame_indexed.stratified_ds.2022A.pkl\"\n",
    "# standalone_parameters[\"num_examples_per_domain_per_label_source\"]=1000\n",
    "# standalone_parameters[\"num_examples_per_domain_per_label_target\"]=1000\n",
    "\n",
    "# Uncomment these for Metahan dataset\n",
    "# standalone_parameters[\"labels_source\"] = list(range(19))\n",
    "# standalone_parameters[\"labels_target\"] = list(range(19))\n",
    "# standalone_parameters[\"domains_source\"] = [0]\n",
    "# standalone_parameters[\"domains_target\"] = [1]\n",
    "# standalone_parameters[\"pickle_name\"] = \"metehan.stratified_ds.2022A.pkl\"\n",
    "# standalone_parameters[\"n_way\"]  = len(standalone_parameters[\"labels_source\"])\n",
    "# standalone_parameters[\"num_examples_per_domain_per_label_source\"]=200\n",
    "# standalone_parameters[\"num_examples_per_domain_per_label_target\"]=100\n",
    "\n",
    "\n",
    "standalone_parameters[\"n_way\"]  = len(standalone_parameters[\"labels_source\"])"
   ]
  },
  {
   "cell_type": "code",
   "execution_count": 4,
   "id": "eed8426f",
   "metadata": {
    "execution": {
     "iopub.execute_input": "2022-03-04T23:44:42.934610Z",
     "iopub.status.busy": "2022-03-04T23:44:42.934206Z",
     "iopub.status.idle": "2022-03-04T23:44:42.945436Z",
     "shell.execute_reply": "2022-03-04T23:44:42.945045Z"
    },
    "papermill": {
     "duration": 0.0291,
     "end_time": "2022-03-04T23:44:42.945526",
     "exception": false,
     "start_time": "2022-03-04T23:44:42.916426",
     "status": "completed"
    },
    "tags": [
     "injected-parameters"
    ]
   },
   "outputs": [],
   "source": [
    "# Parameters\n",
    "parameters = {\n",
    "    \"experiment_name\": \"nWay_oracle.run2\",\n",
    "    \"device\": \"cuda\",\n",
    "    \"lr\": 0.001,\n",
    "    \"seed\": 1337,\n",
    "    \"dataset_seed\": 1337,\n",
    "    \"labels_source\": [\n",
    "        \"3123D52\",\n",
    "        \"3123D65\",\n",
    "        \"3123D79\",\n",
    "        \"3123D80\",\n",
    "        \"3123D54\",\n",
    "        \"3123D70\",\n",
    "        \"3123D7B\",\n",
    "        \"3123D89\",\n",
    "        \"3123D58\",\n",
    "        \"3123D76\",\n",
    "        \"3123D7D\",\n",
    "        \"3123EFE\",\n",
    "        \"3123D64\",\n",
    "        \"3123D78\",\n",
    "        \"3123D7E\",\n",
    "        \"3124E4A\",\n",
    "    ],\n",
    "    \"labels_target\": [\n",
    "        \"3123D52\",\n",
    "        \"3123D65\",\n",
    "        \"3123D79\",\n",
    "        \"3123D80\",\n",
    "        \"3123D54\",\n",
    "        \"3123D70\",\n",
    "        \"3123D7B\",\n",
    "        \"3123D89\",\n",
    "        \"3123D58\",\n",
    "        \"3123D76\",\n",
    "        \"3123D7D\",\n",
    "        \"3123EFE\",\n",
    "        \"3123D64\",\n",
    "        \"3123D78\",\n",
    "        \"3123D7E\",\n",
    "        \"3124E4A\",\n",
    "    ],\n",
    "    \"x_transforms_source\": [],\n",
    "    \"x_transforms_target\": [],\n",
    "    \"episode_transforms_source\": [],\n",
    "    \"episode_transforms_target\": [],\n",
    "    \"num_examples_per_domain_per_label_source\": 1000,\n",
    "    \"num_examples_per_domain_per_label_target\": 1000,\n",
    "    \"n_shot\": 3,\n",
    "    \"n_query\": 2,\n",
    "    \"train_k_factor\": 1,\n",
    "    \"val_k_factor\": 2,\n",
    "    \"test_k_factor\": 2,\n",
    "    \"torch_default_dtype\": \"torch.float32\",\n",
    "    \"n_epoch\": 50,\n",
    "    \"patience\": 3,\n",
    "    \"criteria_for_best\": \"target_loss\",\n",
    "    \"x_net\": [\n",
    "        {\"class\": \"nnReshape\", \"kargs\": {\"shape\": [-1, 1, 2, 256]}},\n",
    "        {\n",
    "            \"class\": \"Conv2d\",\n",
    "            \"kargs\": {\n",
    "                \"in_channels\": 1,\n",
    "                \"out_channels\": 256,\n",
    "                \"kernel_size\": [1, 7],\n",
    "                \"bias\": False,\n",
    "                \"padding\": [0, 3],\n",
    "            },\n",
    "        },\n",
    "        {\"class\": \"ReLU\", \"kargs\": {\"inplace\": True}},\n",
    "        {\"class\": \"BatchNorm2d\", \"kargs\": {\"num_features\": 256}},\n",
    "        {\n",
    "            \"class\": \"Conv2d\",\n",
    "            \"kargs\": {\n",
    "                \"in_channels\": 256,\n",
    "                \"out_channels\": 80,\n",
    "                \"kernel_size\": [2, 7],\n",
    "                \"bias\": True,\n",
    "                \"padding\": [0, 3],\n",
    "            },\n",
    "        },\n",
    "        {\"class\": \"ReLU\", \"kargs\": {\"inplace\": True}},\n",
    "        {\"class\": \"BatchNorm2d\", \"kargs\": {\"num_features\": 80}},\n",
    "        {\"class\": \"Flatten\", \"kargs\": {}},\n",
    "        {\"class\": \"Linear\", \"kargs\": {\"in_features\": 20480, \"out_features\": 256}},\n",
    "        {\"class\": \"ReLU\", \"kargs\": {\"inplace\": True}},\n",
    "        {\"class\": \"BatchNorm1d\", \"kargs\": {\"num_features\": 256}},\n",
    "        {\"class\": \"Linear\", \"kargs\": {\"in_features\": 256, \"out_features\": 256}},\n",
    "    ],\n",
    "    \"NUM_LOGS_PER_EPOCH\": 10,\n",
    "    \"BEST_MODEL_PATH\": \"./best_model.pth\",\n",
    "    \"pickle_name\": \"oracle.Run2_10kExamples_stratified_ds.2022A.pkl\",\n",
    "    \"n_way\": 2,\n",
    "    \"domains_source\": [8, 32, 50],\n",
    "    \"domains_target\": [14, 20, 26, 38, 44],\n",
    "}\n"
   ]
  },
  {
   "cell_type": "code",
   "execution_count": 5,
   "id": "8fa1cc33",
   "metadata": {
    "execution": {
     "iopub.execute_input": "2022-03-04T23:44:42.979314Z",
     "iopub.status.busy": "2022-03-04T23:44:42.974713Z",
     "iopub.status.idle": "2022-03-04T23:44:42.987030Z",
     "shell.execute_reply": "2022-03-04T23:44:42.986657Z"
    },
    "papermill": {
     "duration": 0.026705,
     "end_time": "2022-03-04T23:44:42.987111",
     "exception": false,
     "start_time": "2022-03-04T23:44:42.960406",
     "status": "completed"
    },
    "tags": []
   },
   "outputs": [],
   "source": [
    "# Set this to True if you want to run this template directly\n",
    "STANDALONE = False\n",
    "if STANDALONE:\n",
    "    print(\"parameters not injected, running with standalone_parameters\")\n",
    "    parameters = standalone_parameters\n",
    "\n",
    "if not 'parameters' in locals() and not 'parameters' in globals():\n",
    "    raise Exception(\"Parameter injection failed\")\n",
    "\n",
    "#Use an easy dict for all the parameters\n",
    "p = EasyDict(parameters)\n",
    "\n",
    "supplied_keys = set(p.keys())\n",
    "\n",
    "if  supplied_keys != required_parameters:\n",
    "    print(\"Parameters are incorrect\")\n",
    "    if len(supplied_keys - required_parameters)>0: print(\"Shouldn't have:\", str(supplied_keys - required_parameters))\n",
    "    if len(required_parameters - supplied_keys)>0: print(\"Need to have:\", str(required_parameters - supplied_keys))\n",
    "    raise RuntimeError(\"Parameters are incorrect\")\n",
    "\n"
   ]
  },
  {
   "cell_type": "code",
   "execution_count": 6,
   "id": "3a028d58",
   "metadata": {
    "execution": {
     "iopub.execute_input": "2022-03-04T23:44:43.016266Z",
     "iopub.status.busy": "2022-03-04T23:44:43.009649Z",
     "iopub.status.idle": "2022-03-04T23:44:43.024386Z",
     "shell.execute_reply": "2022-03-04T23:44:43.024022Z"
    },
    "papermill": {
     "duration": 0.025526,
     "end_time": "2022-03-04T23:44:43.024459",
     "exception": false,
     "start_time": "2022-03-04T23:44:42.998933",
     "status": "completed"
    },
    "tags": []
   },
   "outputs": [],
   "source": [
    "###################################\n",
    "# Set the RNGs and make it all deterministic\n",
    "###################################\n",
    "np.random.seed(p.seed)\n",
    "random.seed(p.seed)\n",
    "torch.manual_seed(p.seed)\n",
    "\n",
    "torch.use_deterministic_algorithms(True) "
   ]
  },
  {
   "cell_type": "code",
   "execution_count": 7,
   "id": "b691acf6",
   "metadata": {
    "execution": {
     "iopub.execute_input": "2022-03-04T23:44:43.059071Z",
     "iopub.status.busy": "2022-03-04T23:44:43.057661Z",
     "iopub.status.idle": "2022-03-04T23:44:43.063802Z",
     "shell.execute_reply": "2022-03-04T23:44:43.063306Z"
    },
    "papermill": {
     "duration": 0.025391,
     "end_time": "2022-03-04T23:44:43.063900",
     "exception": false,
     "start_time": "2022-03-04T23:44:43.038509",
     "status": "completed"
    },
    "tags": []
   },
   "outputs": [],
   "source": [
    "###########################################\n",
    "# The stratified datasets honor this\n",
    "###########################################\n",
    "torch.set_default_dtype(eval(p.torch_default_dtype))"
   ]
  },
  {
   "cell_type": "code",
   "execution_count": 8,
   "id": "b5fba671",
   "metadata": {
    "execution": {
     "iopub.execute_input": "2022-03-04T23:44:43.087094Z",
     "iopub.status.busy": "2022-03-04T23:44:43.086543Z",
     "iopub.status.idle": "2022-03-04T23:44:43.124635Z",
     "shell.execute_reply": "2022-03-04T23:44:43.124119Z"
    },
    "papermill": {
     "duration": 0.049704,
     "end_time": "2022-03-04T23:44:43.124750",
     "exception": false,
     "start_time": "2022-03-04T23:44:43.075046",
     "status": "completed"
    },
    "tags": []
   },
   "outputs": [],
   "source": [
    "###################################\n",
    "# Build the network(s)\n",
    "# Note: It's critical to do this AFTER setting the RNG\n",
    "# (This is due to the randomized initial weights)\n",
    "###################################\n",
    "x_net = build_sequential(p.x_net)"
   ]
  },
  {
   "cell_type": "code",
   "execution_count": 9,
   "id": "5d7e61cc",
   "metadata": {
    "execution": {
     "iopub.execute_input": "2022-03-04T23:44:43.152607Z",
     "iopub.status.busy": "2022-03-04T23:44:43.152051Z",
     "iopub.status.idle": "2022-03-04T23:44:43.164292Z",
     "shell.execute_reply": "2022-03-04T23:44:43.163879Z"
    },
    "papermill": {
     "duration": 0.024667,
     "end_time": "2022-03-04T23:44:43.164371",
     "exception": false,
     "start_time": "2022-03-04T23:44:43.139704",
     "status": "completed"
    },
    "tags": []
   },
   "outputs": [],
   "source": [
    "start_time_secs = time.time()"
   ]
  },
  {
   "cell_type": "code",
   "execution_count": 10,
   "id": "fd5442bc",
   "metadata": {
    "execution": {
     "iopub.execute_input": "2022-03-04T23:44:43.196870Z",
     "iopub.status.busy": "2022-03-04T23:44:43.196593Z",
     "iopub.status.idle": "2022-03-04T23:44:46.682536Z",
     "shell.execute_reply": "2022-03-04T23:44:46.682043Z"
    },
    "papermill": {
     "duration": 3.504181,
     "end_time": "2022-03-04T23:44:46.682656",
     "exception": false,
     "start_time": "2022-03-04T23:44:43.178475",
     "status": "completed"
    },
    "tags": []
   },
   "outputs": [],
   "source": [
    "###################################\n",
    "# Build the dataset\n",
    "###################################\n",
    "\n",
    "if p.x_transforms_source == []: x_transform_source = None\n",
    "else: x_transform_source = get_chained_transform(p.x_transforms_source) \n",
    "\n",
    "if p.x_transforms_target == []: x_transform_target = None\n",
    "else: x_transform_target = get_chained_transform(p.x_transforms_target)\n",
    "\n",
    "if p.episode_transforms_source == []: episode_transform_source = None\n",
    "else: raise Exception(\"episode_transform_source not implemented\")\n",
    "\n",
    "if p.episode_transforms_target == []: episode_transform_target = None\n",
    "else: raise Exception(\"episode_transform_target not implemented\")\n",
    "\n",
    "\n",
    "eaf_source = Episodic_Accessor_Factory(\n",
    "    labels=p.labels_source,\n",
    "    domains=p.domains_source,\n",
    "    num_examples_per_domain_per_label=p.num_examples_per_domain_per_label_source,\n",
    "    iterator_seed=p.seed,\n",
    "    dataset_seed=p.dataset_seed,\n",
    "    n_shot=p.n_shot,\n",
    "    n_way=p.n_way,\n",
    "    n_query=p.n_query,\n",
    "    train_val_test_k_factors=(p.train_k_factor,p.val_k_factor,p.test_k_factor),\n",
    "    pickle_path=os.path.join(get_datasets_base_path(), p.pickle_name),\n",
    "    x_transform_func=x_transform_source,\n",
    "    example_transform_func=episode_transform_source,\n",
    "    \n",
    ")\n",
    "train_original_source, val_original_source, test_original_source = eaf_source.get_train(), eaf_source.get_val(), eaf_source.get_test()\n",
    "\n",
    "\n",
    "eaf_target = Episodic_Accessor_Factory(\n",
    "    labels=p.labels_target,\n",
    "    domains=p.domains_target,\n",
    "    num_examples_per_domain_per_label=p.num_examples_per_domain_per_label_target,\n",
    "    iterator_seed=p.seed,\n",
    "    dataset_seed=p.dataset_seed,\n",
    "    n_shot=p.n_shot,\n",
    "    n_way=p.n_way,\n",
    "    n_query=p.n_query,\n",
    "    train_val_test_k_factors=(p.train_k_factor,p.val_k_factor,p.test_k_factor),\n",
    "    pickle_path=os.path.join(get_datasets_base_path(), p.pickle_name),\n",
    "    x_transform_func=x_transform_target,\n",
    "    example_transform_func=episode_transform_target,\n",
    ")\n",
    "train_original_target, val_original_target, test_original_target = eaf_target.get_train(), eaf_target.get_val(), eaf_target.get_test()\n",
    "\n",
    "\n",
    "transform_lambda = lambda ex: ex[1] # Original is (<domain>, <episode>) so we strip down to episode only\n",
    "\n",
    "train_processed_source = Lazy_Iterable_Wrapper(train_original_source, transform_lambda)\n",
    "val_processed_source   = Lazy_Iterable_Wrapper(val_original_source, transform_lambda)\n",
    "test_processed_source  = Lazy_Iterable_Wrapper(test_original_source, transform_lambda)\n",
    "\n",
    "train_processed_target = Lazy_Iterable_Wrapper(train_original_target, transform_lambda)\n",
    "val_processed_target   = Lazy_Iterable_Wrapper(val_original_target, transform_lambda)\n",
    "test_processed_target  = Lazy_Iterable_Wrapper(test_original_target, transform_lambda)\n",
    "\n",
    "datasets = EasyDict({\n",
    "    \"source\": {\n",
    "        \"original\": {\"train\":train_original_source, \"val\":val_original_source, \"test\":test_original_source},\n",
    "        \"processed\": {\"train\":train_processed_source, \"val\":val_processed_source, \"test\":test_processed_source}\n",
    "    },\n",
    "    \"target\": {\n",
    "        \"original\": {\"train\":train_original_target, \"val\":val_original_target, \"test\":test_original_target},\n",
    "        \"processed\": {\"train\":train_processed_target, \"val\":val_processed_target, \"test\":test_processed_target}\n",
    "    },\n",
    "})"
   ]
  },
  {
   "cell_type": "code",
   "execution_count": 11,
   "id": "296189d9",
   "metadata": {
    "execution": {
     "iopub.execute_input": "2022-03-04T23:44:46.710771Z",
     "iopub.status.busy": "2022-03-04T23:44:46.710493Z",
     "iopub.status.idle": "2022-03-04T23:44:48.376178Z",
     "shell.execute_reply": "2022-03-04T23:44:48.376548Z"
    },
    "papermill": {
     "duration": 1.679206,
     "end_time": "2022-03-04T23:44:48.376656",
     "exception": false,
     "start_time": "2022-03-04T23:44:46.697450",
     "status": "completed"
    },
    "tags": []
   },
   "outputs": [
    {
     "name": "stdout",
     "output_type": "stream",
     "text": [
      "Visually inspect these to see if they line up with expected values given the transforms\n",
      "x_transforms_source []\n",
      "x_transforms_target []\n",
      "Average magnitude, source: 0.006710658\n",
      "Average power, source: 5.360126e-05\n"
     ]
    },
    {
     "name": "stdout",
     "output_type": "stream",
     "text": [
      "Average magnitude, target: 0.005761209\n",
      "Average power, target: 4.195761e-05\n"
     ]
    }
   ],
   "source": [
    "# Some quick unit tests on the data\n",
    "from steves_utils.transforms import get_average_power, get_average_magnitude\n",
    "\n",
    "q_x, q_y, s_x, s_y, truth = next(iter(train_processed_source))\n",
    "\n",
    "assert q_x.dtype == eval(p.torch_default_dtype)\n",
    "assert s_x.dtype == eval(p.torch_default_dtype)\n",
    "\n",
    "print(\"Visually inspect these to see if they line up with expected values given the transforms\")\n",
    "print('x_transforms_source', p.x_transforms_source)\n",
    "print('x_transforms_target', p.x_transforms_target)\n",
    "print(\"Average magnitude, source:\", get_average_magnitude(q_x[0].numpy()))\n",
    "print(\"Average power, source:\", get_average_power(q_x[0].numpy()))\n",
    "\n",
    "q_x, q_y, s_x, s_y, truth = next(iter(train_processed_target))\n",
    "print(\"Average magnitude, target:\", get_average_magnitude(q_x[0].numpy()))\n",
    "print(\"Average power, target:\", get_average_power(q_x[0].numpy()))\n"
   ]
  },
  {
   "cell_type": "code",
   "execution_count": 12,
   "id": "bbdacba1",
   "metadata": {
    "execution": {
     "iopub.execute_input": "2022-03-04T23:44:48.406459Z",
     "iopub.status.busy": "2022-03-04T23:44:48.406184Z",
     "iopub.status.idle": "2022-03-04T23:44:48.469512Z",
     "shell.execute_reply": "2022-03-04T23:44:48.469926Z"
    },
    "papermill": {
     "duration": 0.07823,
     "end_time": "2022-03-04T23:44:48.470060",
     "exception": false,
     "start_time": "2022-03-04T23:44:48.391830",
     "status": "completed"
    },
    "tags": []
   },
   "outputs": [
    {
     "name": "stdout",
     "output_type": "stream",
     "text": [
      "(2, 256)\n"
     ]
    }
   ],
   "source": [
    "###################################\n",
    "# Build the model\n",
    "###################################\n",
    "model = Steves_Prototypical_Network(x_net, device=p.device, x_shape=(2,256))\n",
    "optimizer = Adam(params=model.parameters(), lr=p.lr)"
   ]
  },
  {
   "cell_type": "code",
   "execution_count": 13,
   "id": "22b39ac5",
   "metadata": {
    "execution": {
     "iopub.execute_input": "2022-03-04T23:44:48.499777Z",
     "iopub.status.busy": "2022-03-04T23:44:48.497890Z",
     "iopub.status.idle": "2022-03-04T23:54:28.484347Z",
     "shell.execute_reply": "2022-03-04T23:54:28.484115Z"
    },
    "papermill": {
     "duration": 579.998866,
     "end_time": "2022-03-04T23:54:28.484407",
     "exception": false,
     "start_time": "2022-03-04T23:44:48.485541",
     "status": "completed"
    },
    "tags": []
   },
   "outputs": [
    {
     "name": "stdout",
     "output_type": "stream",
     "text": [
      "epoch: 1, [batch: 1 / 3351], examples_per_second: 45.9159, train_label_loss: 0.7384, \n"
     ]
    },
    {
     "name": "stdout",
     "output_type": "stream",
     "text": [
      "epoch: 1, [batch: 336 / 3351], examples_per_second: 1220.9891, train_label_loss: 0.0001, \n"
     ]
    },
    {
     "name": "stdout",
     "output_type": "stream",
     "text": [
      "epoch: 1, [batch: 671 / 3351], examples_per_second: 1212.0692, train_label_loss: 0.0000, \n"
     ]
    },
    {
     "name": "stdout",
     "output_type": "stream",
     "text": [
      "epoch: 1, [batch: 1006 / 3351], examples_per_second: 1237.7147, train_label_loss: 0.0043, \n"
     ]
    },
    {
     "name": "stdout",
     "output_type": "stream",
     "text": [
      "epoch: 1, [batch: 1341 / 3351], examples_per_second: 1228.0341, train_label_loss: 0.0820, \n"
     ]
    },
    {
     "name": "stdout",
     "output_type": "stream",
     "text": [
      "epoch: 1, [batch: 1676 / 3351], examples_per_second: 1236.0576, train_label_loss: 0.0000, \n"
     ]
    },
    {
     "name": "stdout",
     "output_type": "stream",
     "text": [
      "epoch: 1, [batch: 2011 / 3351], examples_per_second: 1231.1101, train_label_loss: 0.1519, \n"
     ]
    },
    {
     "name": "stdout",
     "output_type": "stream",
     "text": [
      "epoch: 1, [batch: 2346 / 3351], examples_per_second: 1240.6908, train_label_loss: 0.0000, \n"
     ]
    },
    {
     "name": "stdout",
     "output_type": "stream",
     "text": [
      "epoch: 1, [batch: 2681 / 3351], examples_per_second: 1239.2793, train_label_loss: 0.0000, \n"
     ]
    },
    {
     "name": "stdout",
     "output_type": "stream",
     "text": [
      "epoch: 1, [batch: 3016 / 3351], examples_per_second: 1215.1165, train_label_loss: 1.9119, \n"
     ]
    },
    {
     "name": "stdout",
     "output_type": "stream",
     "text": [
      "=============================================================\n",
      "epoch: 1, source_val_acc_label: 0.8039, target_val_acc_label: 0.7497, source_val_label_loss: 0.4742, target_val_label_loss: 0.5291, \n",
      "=============================================================\n"
     ]
    },
    {
     "name": "stdout",
     "output_type": "stream",
     "text": [
      "New best\n"
     ]
    },
    {
     "name": "stdout",
     "output_type": "stream",
     "text": [
      "epoch: 2, [batch: 1 / 3354], examples_per_second: 1.3891, train_label_loss: 0.0000, \n"
     ]
    },
    {
     "name": "stdout",
     "output_type": "stream",
     "text": [
      "epoch: 2, [batch: 336 / 3354], examples_per_second: 1239.4017, train_label_loss: 0.7840, \n"
     ]
    },
    {
     "name": "stdout",
     "output_type": "stream",
     "text": [
      "epoch: 2, [batch: 671 / 3354], examples_per_second: 1230.4635, train_label_loss: 0.0000, \n"
     ]
    },
    {
     "name": "stdout",
     "output_type": "stream",
     "text": [
      "epoch: 2, [batch: 1006 / 3354], examples_per_second: 1222.6884, train_label_loss: 0.7812, \n"
     ]
    },
    {
     "name": "stdout",
     "output_type": "stream",
     "text": [
      "epoch: 2, [batch: 1342 / 3354], examples_per_second: 1249.1738, train_label_loss: 0.0077, \n"
     ]
    },
    {
     "name": "stdout",
     "output_type": "stream",
     "text": [
      "epoch: 2, [batch: 1677 / 3354], examples_per_second: 1250.4400, train_label_loss: 0.7055, \n"
     ]
    },
    {
     "name": "stdout",
     "output_type": "stream",
     "text": [
      "epoch: 2, [batch: 2012 / 3354], examples_per_second: 1251.4449, train_label_loss: 0.3289, \n"
     ]
    },
    {
     "name": "stdout",
     "output_type": "stream",
     "text": [
      "epoch: 2, [batch: 2348 / 3354], examples_per_second: 1260.2294, train_label_loss: 2.2318, \n"
     ]
    },
    {
     "name": "stdout",
     "output_type": "stream",
     "text": [
      "epoch: 2, [batch: 2683 / 3354], examples_per_second: 1262.7415, train_label_loss: 0.0004, \n"
     ]
    },
    {
     "name": "stdout",
     "output_type": "stream",
     "text": [
      "epoch: 2, [batch: 3018 / 3354], examples_per_second: 1246.4839, train_label_loss: 0.2889, \n"
     ]
    },
    {
     "name": "stdout",
     "output_type": "stream",
     "text": [
      "=============================================================\n",
      "epoch: 2, source_val_acc_label: 0.8849, target_val_acc_label: 0.8571, source_val_label_loss: 0.3369, target_val_label_loss: 0.4047, \n",
      "=============================================================\n"
     ]
    },
    {
     "name": "stdout",
     "output_type": "stream",
     "text": [
      "New best\n"
     ]
    },
    {
     "name": "stdout",
     "output_type": "stream",
     "text": [
      "epoch: 3, [batch: 1 / 3351], examples_per_second: 1.3976, train_label_loss: 0.9453, \n"
     ]
    },
    {
     "name": "stdout",
     "output_type": "stream",
     "text": [
      "epoch: 3, [batch: 336 / 3351], examples_per_second: 1251.9280, train_label_loss: 0.0015, \n"
     ]
    },
    {
     "name": "stdout",
     "output_type": "stream",
     "text": [
      "epoch: 3, [batch: 671 / 3351], examples_per_second: 1258.6531, train_label_loss: 0.8261, \n"
     ]
    },
    {
     "name": "stdout",
     "output_type": "stream",
     "text": [
      "epoch: 3, [batch: 1006 / 3351], examples_per_second: 1229.3936, train_label_loss: 0.6223, \n"
     ]
    },
    {
     "name": "stdout",
     "output_type": "stream",
     "text": [
      "epoch: 3, [batch: 1341 / 3351], examples_per_second: 1203.6177, train_label_loss: 0.0178, \n"
     ]
    },
    {
     "name": "stdout",
     "output_type": "stream",
     "text": [
      "epoch: 3, [batch: 1676 / 3351], examples_per_second: 1213.0183, train_label_loss: 0.0366, \n"
     ]
    },
    {
     "name": "stdout",
     "output_type": "stream",
     "text": [
      "epoch: 3, [batch: 2011 / 3351], examples_per_second: 1195.4325, train_label_loss: 0.0000, \n"
     ]
    },
    {
     "name": "stdout",
     "output_type": "stream",
     "text": [
      "epoch: 3, [batch: 2346 / 3351], examples_per_second: 1179.7234, train_label_loss: 0.0122, \n"
     ]
    },
    {
     "name": "stdout",
     "output_type": "stream",
     "text": [
      "epoch: 3, [batch: 2681 / 3351], examples_per_second: 1209.1503, train_label_loss: 0.4854, \n"
     ]
    },
    {
     "name": "stdout",
     "output_type": "stream",
     "text": [
      "epoch: 3, [batch: 3016 / 3351], examples_per_second: 1144.5887, train_label_loss: 0.3393, \n"
     ]
    },
    {
     "name": "stdout",
     "output_type": "stream",
     "text": [
      "=============================================================\n",
      "epoch: 3, source_val_acc_label: 0.9132, target_val_acc_label: 0.8882, source_val_label_loss: 0.1815, target_val_label_loss: 0.3280, \n",
      "=============================================================\n"
     ]
    },
    {
     "name": "stdout",
     "output_type": "stream",
     "text": [
      "New best\n"
     ]
    },
    {
     "name": "stdout",
     "output_type": "stream",
     "text": [
      "epoch: 4, [batch: 1 / 3357], examples_per_second: 1.3863, train_label_loss: 0.0033, \n"
     ]
    },
    {
     "name": "stdout",
     "output_type": "stream",
     "text": [
      "epoch: 4, [batch: 336 / 3357], examples_per_second: 1261.7538, train_label_loss: 0.0039, \n"
     ]
    },
    {
     "name": "stdout",
     "output_type": "stream",
     "text": [
      "epoch: 4, [batch: 672 / 3357], examples_per_second: 1259.5801, train_label_loss: 0.0000, \n"
     ]
    },
    {
     "name": "stdout",
     "output_type": "stream",
     "text": [
      "epoch: 4, [batch: 1007 / 3357], examples_per_second: 1251.6007, train_label_loss: 0.0000, \n"
     ]
    },
    {
     "name": "stdout",
     "output_type": "stream",
     "text": [
      "epoch: 4, [batch: 1343 / 3357], examples_per_second: 1242.6063, train_label_loss: 0.0353, \n"
     ]
    },
    {
     "name": "stdout",
     "output_type": "stream",
     "text": [
      "epoch: 4, [batch: 1679 / 3357], examples_per_second: 1243.8786, train_label_loss: 0.0000, \n"
     ]
    },
    {
     "name": "stdout",
     "output_type": "stream",
     "text": [
      "epoch: 4, [batch: 2014 / 3357], examples_per_second: 1243.6621, train_label_loss: 0.7359, \n"
     ]
    },
    {
     "name": "stdout",
     "output_type": "stream",
     "text": [
      "epoch: 4, [batch: 2350 / 3357], examples_per_second: 1251.7829, train_label_loss: 0.0001, \n"
     ]
    },
    {
     "name": "stdout",
     "output_type": "stream",
     "text": [
      "epoch: 4, [batch: 2685 / 3357], examples_per_second: 1223.0798, train_label_loss: 0.0000, \n"
     ]
    },
    {
     "name": "stdout",
     "output_type": "stream",
     "text": [
      "epoch: 4, [batch: 3021 / 3357], examples_per_second: 1250.3377, train_label_loss: 0.0000, \n"
     ]
    },
    {
     "name": "stdout",
     "output_type": "stream",
     "text": [
      "=============================================================\n",
      "epoch: 4, source_val_acc_label: 0.9205, target_val_acc_label: 0.8958, source_val_label_loss: 0.1827, target_val_label_loss: 0.2938, \n",
      "=============================================================\n"
     ]
    },
    {
     "name": "stdout",
     "output_type": "stream",
     "text": [
      "New best\n"
     ]
    },
    {
     "name": "stdout",
     "output_type": "stream",
     "text": [
      "epoch: 5, [batch: 1 / 3353], examples_per_second: 1.3835, train_label_loss: 0.0000, \n"
     ]
    },
    {
     "name": "stdout",
     "output_type": "stream",
     "text": [
      "epoch: 5, [batch: 336 / 3353], examples_per_second: 1218.4648, train_label_loss: 0.6304, \n"
     ]
    },
    {
     "name": "stdout",
     "output_type": "stream",
     "text": [
      "epoch: 5, [batch: 671 / 3353], examples_per_second: 1255.3087, train_label_loss: 0.0002, \n"
     ]
    },
    {
     "name": "stdout",
     "output_type": "stream",
     "text": [
      "epoch: 5, [batch: 1006 / 3353], examples_per_second: 1242.4582, train_label_loss: 0.8080, \n"
     ]
    },
    {
     "name": "stdout",
     "output_type": "stream",
     "text": [
      "epoch: 5, [batch: 1341 / 3353], examples_per_second: 1234.7268, train_label_loss: 0.9029, \n"
     ]
    },
    {
     "name": "stdout",
     "output_type": "stream",
     "text": [
      "epoch: 5, [batch: 1677 / 3353], examples_per_second: 1243.5970, train_label_loss: 0.0150, \n"
     ]
    },
    {
     "name": "stdout",
     "output_type": "stream",
     "text": [
      "epoch: 5, [batch: 2012 / 3353], examples_per_second: 1241.1855, train_label_loss: 0.5847, \n"
     ]
    },
    {
     "name": "stdout",
     "output_type": "stream",
     "text": [
      "epoch: 5, [batch: 2347 / 3353], examples_per_second: 1242.0469, train_label_loss: 0.6137, \n"
     ]
    },
    {
     "name": "stdout",
     "output_type": "stream",
     "text": [
      "epoch: 5, [batch: 2682 / 3353], examples_per_second: 1239.1541, train_label_loss: 0.0000, \n"
     ]
    },
    {
     "name": "stdout",
     "output_type": "stream",
     "text": [
      "epoch: 5, [batch: 3017 / 3353], examples_per_second: 1229.3432, train_label_loss: 0.0017, \n"
     ]
    },
    {
     "name": "stdout",
     "output_type": "stream",
     "text": [
      "=============================================================\n",
      "epoch: 5, source_val_acc_label: 0.9184, target_val_acc_label: 0.9006, source_val_label_loss: 0.2014, target_val_label_loss: 0.2645, \n",
      "=============================================================\n"
     ]
    },
    {
     "name": "stdout",
     "output_type": "stream",
     "text": [
      "New best\n"
     ]
    },
    {
     "name": "stdout",
     "output_type": "stream",
     "text": [
      "epoch: 6, [batch: 1 / 3353], examples_per_second: 1.3685, train_label_loss: 0.0008, \n"
     ]
    },
    {
     "name": "stdout",
     "output_type": "stream",
     "text": [
      "epoch: 6, [batch: 336 / 3353], examples_per_second: 1244.5561, train_label_loss: 0.3619, \n"
     ]
    },
    {
     "name": "stdout",
     "output_type": "stream",
     "text": [
      "epoch: 6, [batch: 671 / 3353], examples_per_second: 1246.9072, train_label_loss: 0.0001, \n"
     ]
    },
    {
     "name": "stdout",
     "output_type": "stream",
     "text": [
      "epoch: 6, [batch: 1006 / 3353], examples_per_second: 1251.9340, train_label_loss: 0.1764, \n"
     ]
    },
    {
     "name": "stdout",
     "output_type": "stream",
     "text": [
      "epoch: 6, [batch: 1341 / 3353], examples_per_second: 1250.8226, train_label_loss: 0.0000, \n"
     ]
    },
    {
     "name": "stdout",
     "output_type": "stream",
     "text": [
      "epoch: 6, [batch: 1677 / 3353], examples_per_second: 1248.6570, train_label_loss: 0.0465, \n"
     ]
    },
    {
     "name": "stdout",
     "output_type": "stream",
     "text": [
      "epoch: 6, [batch: 2012 / 3353], examples_per_second: 1256.4448, train_label_loss: 0.0014, \n"
     ]
    },
    {
     "name": "stdout",
     "output_type": "stream",
     "text": [
      "epoch: 6, [batch: 2347 / 3353], examples_per_second: 1261.2690, train_label_loss: 0.0000, \n"
     ]
    },
    {
     "name": "stdout",
     "output_type": "stream",
     "text": [
      "epoch: 6, [batch: 2682 / 3353], examples_per_second: 1267.9175, train_label_loss: 0.1422, \n"
     ]
    },
    {
     "name": "stdout",
     "output_type": "stream",
     "text": [
      "epoch: 6, [batch: 3017 / 3353], examples_per_second: 1254.4475, train_label_loss: 0.0000, \n"
     ]
    },
    {
     "name": "stdout",
     "output_type": "stream",
     "text": [
      "=============================================================\n",
      "epoch: 6, source_val_acc_label: 0.9209, target_val_acc_label: 0.8948, source_val_label_loss: 0.2530, target_val_label_loss: 0.3181, \n",
      "=============================================================\n"
     ]
    },
    {
     "name": "stdout",
     "output_type": "stream",
     "text": [
      "epoch: 7, [batch: 1 / 3351], examples_per_second: 1.4204, train_label_loss: 0.0009, \n"
     ]
    },
    {
     "name": "stdout",
     "output_type": "stream",
     "text": [
      "epoch: 7, [batch: 336 / 3351], examples_per_second: 1248.8376, train_label_loss: 0.0000, \n"
     ]
    },
    {
     "name": "stdout",
     "output_type": "stream",
     "text": [
      "epoch: 7, [batch: 671 / 3351], examples_per_second: 1257.8843, train_label_loss: 0.0066, \n"
     ]
    },
    {
     "name": "stdout",
     "output_type": "stream",
     "text": [
      "epoch: 7, [batch: 1006 / 3351], examples_per_second: 1243.4069, train_label_loss: 0.2218, \n"
     ]
    },
    {
     "name": "stdout",
     "output_type": "stream",
     "text": [
      "epoch: 7, [batch: 1341 / 3351], examples_per_second: 1243.1222, train_label_loss: 0.0704, \n"
     ]
    },
    {
     "name": "stdout",
     "output_type": "stream",
     "text": [
      "epoch: 7, [batch: 1676 / 3351], examples_per_second: 1207.3556, train_label_loss: 0.6153, \n"
     ]
    },
    {
     "name": "stdout",
     "output_type": "stream",
     "text": [
      "epoch: 7, [batch: 2011 / 3351], examples_per_second: 1237.6213, train_label_loss: 0.0040, \n"
     ]
    },
    {
     "name": "stdout",
     "output_type": "stream",
     "text": [
      "epoch: 7, [batch: 2346 / 3351], examples_per_second: 1210.9546, train_label_loss: 0.0004, \n"
     ]
    },
    {
     "name": "stdout",
     "output_type": "stream",
     "text": [
      "epoch: 7, [batch: 2681 / 3351], examples_per_second: 1246.0167, train_label_loss: 0.0015, \n"
     ]
    },
    {
     "name": "stdout",
     "output_type": "stream",
     "text": [
      "epoch: 7, [batch: 3016 / 3351], examples_per_second: 1246.3262, train_label_loss: 0.0000, \n"
     ]
    },
    {
     "name": "stdout",
     "output_type": "stream",
     "text": [
      "=============================================================\n",
      "epoch: 7, source_val_acc_label: 0.9243, target_val_acc_label: 0.9055, source_val_label_loss: 0.2064, target_val_label_loss: 0.2565, \n",
      "=============================================================\n"
     ]
    },
    {
     "name": "stdout",
     "output_type": "stream",
     "text": [
      "New best\n"
     ]
    },
    {
     "name": "stdout",
     "output_type": "stream",
     "text": [
      "epoch: 8, [batch: 1 / 3358], examples_per_second: 1.4036, train_label_loss: 0.0106, \n"
     ]
    },
    {
     "name": "stdout",
     "output_type": "stream",
     "text": [
      "epoch: 8, [batch: 336 / 3358], examples_per_second: 1186.8899, train_label_loss: 0.1185, \n"
     ]
    },
    {
     "name": "stdout",
     "output_type": "stream",
     "text": [
      "epoch: 8, [batch: 672 / 3358], examples_per_second: 1218.3646, train_label_loss: 0.0131, \n"
     ]
    },
    {
     "name": "stdout",
     "output_type": "stream",
     "text": [
      "epoch: 8, [batch: 1008 / 3358], examples_per_second: 1240.3624, train_label_loss: 0.0676, \n"
     ]
    },
    {
     "name": "stdout",
     "output_type": "stream",
     "text": [
      "epoch: 8, [batch: 1343 / 3358], examples_per_second: 1239.7491, train_label_loss: 0.0575, \n"
     ]
    },
    {
     "name": "stdout",
     "output_type": "stream",
     "text": [
      "epoch: 8, [batch: 1679 / 3358], examples_per_second: 1261.4292, train_label_loss: 0.0000, \n"
     ]
    },
    {
     "name": "stdout",
     "output_type": "stream",
     "text": [
      "epoch: 8, [batch: 2015 / 3358], examples_per_second: 1248.4374, train_label_loss: 0.0592, \n"
     ]
    },
    {
     "name": "stdout",
     "output_type": "stream",
     "text": [
      "epoch: 8, [batch: 2350 / 3358], examples_per_second: 1253.3601, train_label_loss: 0.0000, \n"
     ]
    },
    {
     "name": "stdout",
     "output_type": "stream",
     "text": [
      "epoch: 8, [batch: 2686 / 3358], examples_per_second: 1247.5096, train_label_loss: 0.0023, \n"
     ]
    },
    {
     "name": "stdout",
     "output_type": "stream",
     "text": [
      "epoch: 8, [batch: 3022 / 3358], examples_per_second: 1252.5277, train_label_loss: 0.0000, \n"
     ]
    },
    {
     "name": "stdout",
     "output_type": "stream",
     "text": [
      "=============================================================\n",
      "epoch: 8, source_val_acc_label: 0.9296, target_val_acc_label: 0.9037, source_val_label_loss: 0.2001, target_val_label_loss: 0.2828, \n",
      "=============================================================\n"
     ]
    },
    {
     "name": "stdout",
     "output_type": "stream",
     "text": [
      "epoch: 9, [batch: 1 / 3355], examples_per_second: 1.4017, train_label_loss: 0.0077, \n"
     ]
    },
    {
     "name": "stdout",
     "output_type": "stream",
     "text": [
      "epoch: 9, [batch: 336 / 3355], examples_per_second: 1248.9079, train_label_loss: 0.0224, \n"
     ]
    },
    {
     "name": "stdout",
     "output_type": "stream",
     "text": [
      "epoch: 9, [batch: 671 / 3355], examples_per_second: 1242.9697, train_label_loss: 0.0000, \n"
     ]
    },
    {
     "name": "stdout",
     "output_type": "stream",
     "text": [
      "epoch: 9, [batch: 1007 / 3355], examples_per_second: 1248.6351, train_label_loss: 0.0000, \n"
     ]
    },
    {
     "name": "stdout",
     "output_type": "stream",
     "text": [
      "epoch: 9, [batch: 1342 / 3355], examples_per_second: 1228.9856, train_label_loss: 0.0000, \n"
     ]
    },
    {
     "name": "stdout",
     "output_type": "stream",
     "text": [
      "epoch: 9, [batch: 1678 / 3355], examples_per_second: 1243.6961, train_label_loss: 0.6100, \n"
     ]
    },
    {
     "name": "stdout",
     "output_type": "stream",
     "text": [
      "epoch: 9, [batch: 2013 / 3355], examples_per_second: 1244.2409, train_label_loss: 0.4766, \n"
     ]
    },
    {
     "name": "stdout",
     "output_type": "stream",
     "text": [
      "epoch: 9, [batch: 2348 / 3355], examples_per_second: 1253.8768, train_label_loss: 0.2157, \n"
     ]
    },
    {
     "name": "stdout",
     "output_type": "stream",
     "text": [
      "epoch: 9, [batch: 2684 / 3355], examples_per_second: 1247.8162, train_label_loss: 0.0684, \n"
     ]
    },
    {
     "name": "stdout",
     "output_type": "stream",
     "text": [
      "epoch: 9, [batch: 3019 / 3355], examples_per_second: 1237.3961, train_label_loss: 0.0017, \n"
     ]
    },
    {
     "name": "stdout",
     "output_type": "stream",
     "text": [
      "=============================================================\n",
      "epoch: 9, source_val_acc_label: 0.9226, target_val_acc_label: 0.8973, source_val_label_loss: 0.1925, target_val_label_loss: 0.2620, \n",
      "=============================================================\n"
     ]
    },
    {
     "name": "stdout",
     "output_type": "stream",
     "text": [
      "epoch: 10, [batch: 1 / 3354], examples_per_second: 1.4228, train_label_loss: 0.0224, \n"
     ]
    },
    {
     "name": "stdout",
     "output_type": "stream",
     "text": [
      "epoch: 10, [batch: 336 / 3354], examples_per_second: 1246.5491, train_label_loss: 0.0005, \n"
     ]
    },
    {
     "name": "stdout",
     "output_type": "stream",
     "text": [
      "epoch: 10, [batch: 671 / 3354], examples_per_second: 1248.6845, train_label_loss: 0.0000, \n"
     ]
    },
    {
     "name": "stdout",
     "output_type": "stream",
     "text": [
      "epoch: 10, [batch: 1006 / 3354], examples_per_second: 1243.4083, train_label_loss: 0.0381, \n"
     ]
    },
    {
     "name": "stdout",
     "output_type": "stream",
     "text": [
      "epoch: 10, [batch: 1342 / 3354], examples_per_second: 1144.8148, train_label_loss: 0.0000, \n"
     ]
    },
    {
     "name": "stdout",
     "output_type": "stream",
     "text": [
      "epoch: 10, [batch: 1677 / 3354], examples_per_second: 1236.5491, train_label_loss: 0.3957, \n"
     ]
    },
    {
     "name": "stdout",
     "output_type": "stream",
     "text": [
      "epoch: 10, [batch: 2012 / 3354], examples_per_second: 1164.3872, train_label_loss: 0.0000, \n"
     ]
    },
    {
     "name": "stdout",
     "output_type": "stream",
     "text": [
      "epoch: 10, [batch: 2348 / 3354], examples_per_second: 1225.1743, train_label_loss: 0.0000, \n"
     ]
    },
    {
     "name": "stdout",
     "output_type": "stream",
     "text": [
      "epoch: 10, [batch: 2683 / 3354], examples_per_second: 1258.1889, train_label_loss: 0.0009, \n"
     ]
    },
    {
     "name": "stdout",
     "output_type": "stream",
     "text": [
      "epoch: 10, [batch: 3018 / 3354], examples_per_second: 1232.5938, train_label_loss: 0.4993, \n"
     ]
    },
    {
     "name": "stdout",
     "output_type": "stream",
     "text": [
      "=============================================================\n",
      "epoch: 10, source_val_acc_label: 0.9214, target_val_acc_label: 0.8986, source_val_label_loss: 0.1966, target_val_label_loss: 0.2658, \n",
      "=============================================================\n"
     ]
    },
    {
     "name": "stdout",
     "output_type": "stream",
     "text": [
      "epoch: 11, [batch: 1 / 3348], examples_per_second: 1.4152, train_label_loss: 0.0791, \n"
     ]
    },
    {
     "name": "stdout",
     "output_type": "stream",
     "text": [
      "epoch: 11, [batch: 335 / 3348], examples_per_second: 1249.6236, train_label_loss: 0.0514, \n"
     ]
    },
    {
     "name": "stdout",
     "output_type": "stream",
     "text": [
      "epoch: 11, [batch: 670 / 3348], examples_per_second: 1251.1847, train_label_loss: 0.0853, \n"
     ]
    },
    {
     "name": "stdout",
     "output_type": "stream",
     "text": [
      "epoch: 11, [batch: 1005 / 3348], examples_per_second: 1259.4703, train_label_loss: 0.6370, \n"
     ]
    },
    {
     "name": "stdout",
     "output_type": "stream",
     "text": [
      "epoch: 11, [batch: 1339 / 3348], examples_per_second: 1258.3907, train_label_loss: 0.0467, \n"
     ]
    },
    {
     "name": "stdout",
     "output_type": "stream",
     "text": [
      "epoch: 11, [batch: 1674 / 3348], examples_per_second: 1254.1353, train_label_loss: 0.0000, \n"
     ]
    },
    {
     "name": "stdout",
     "output_type": "stream",
     "text": [
      "epoch: 11, [batch: 2009 / 3348], examples_per_second: 1263.2801, train_label_loss: 0.2065, \n"
     ]
    },
    {
     "name": "stdout",
     "output_type": "stream",
     "text": [
      "epoch: 11, [batch: 2343 / 3348], examples_per_second: 1215.3532, train_label_loss: 0.0000, \n"
     ]
    },
    {
     "name": "stdout",
     "output_type": "stream",
     "text": [
      "epoch: 11, [batch: 2678 / 3348], examples_per_second: 1264.9575, train_label_loss: 0.2947, \n"
     ]
    },
    {
     "name": "stdout",
     "output_type": "stream",
     "text": [
      "epoch: 11, [batch: 3013 / 3348], examples_per_second: 1225.8773, train_label_loss: 0.5053, \n"
     ]
    },
    {
     "name": "stdout",
     "output_type": "stream",
     "text": [
      "=============================================================\n",
      "epoch: 11, source_val_acc_label: 0.9276, target_val_acc_label: 0.9020, source_val_label_loss: 0.1885, target_val_label_loss: 0.2558, \n",
      "=============================================================\n"
     ]
    },
    {
     "name": "stdout",
     "output_type": "stream",
     "text": [
      "New best\n"
     ]
    },
    {
     "name": "stdout",
     "output_type": "stream",
     "text": [
      "epoch: 12, [batch: 1 / 3355], examples_per_second: 1.4043, train_label_loss: 0.0000, \n"
     ]
    },
    {
     "name": "stdout",
     "output_type": "stream",
     "text": [
      "epoch: 12, [batch: 336 / 3355], examples_per_second: 1251.4708, train_label_loss: 0.0010, \n"
     ]
    },
    {
     "name": "stdout",
     "output_type": "stream",
     "text": [
      "epoch: 12, [batch: 671 / 3355], examples_per_second: 1236.2866, train_label_loss: 0.0000, \n"
     ]
    },
    {
     "name": "stdout",
     "output_type": "stream",
     "text": [
      "epoch: 12, [batch: 1007 / 3355], examples_per_second: 1183.5316, train_label_loss: 0.0000, \n"
     ]
    },
    {
     "name": "stdout",
     "output_type": "stream",
     "text": [
      "epoch: 12, [batch: 1342 / 3355], examples_per_second: 1234.1222, train_label_loss: 0.1356, \n"
     ]
    },
    {
     "name": "stdout",
     "output_type": "stream",
     "text": [
      "epoch: 12, [batch: 1678 / 3355], examples_per_second: 1242.7645, train_label_loss: 0.0000, \n"
     ]
    },
    {
     "name": "stdout",
     "output_type": "stream",
     "text": [
      "epoch: 12, [batch: 2013 / 3355], examples_per_second: 1260.7088, train_label_loss: 0.0070, \n"
     ]
    },
    {
     "name": "stdout",
     "output_type": "stream",
     "text": [
      "epoch: 12, [batch: 2348 / 3355], examples_per_second: 1256.1329, train_label_loss: 0.0000, \n"
     ]
    },
    {
     "name": "stdout",
     "output_type": "stream",
     "text": [
      "epoch: 12, [batch: 2684 / 3355], examples_per_second: 1259.6588, train_label_loss: 0.0000, \n"
     ]
    },
    {
     "name": "stdout",
     "output_type": "stream",
     "text": [
      "epoch: 12, [batch: 3019 / 3355], examples_per_second: 1254.1828, train_label_loss: 0.0106, \n"
     ]
    },
    {
     "name": "stdout",
     "output_type": "stream",
     "text": [
      "=============================================================\n",
      "epoch: 12, source_val_acc_label: 0.9287, target_val_acc_label: 0.9023, source_val_label_loss: 0.1887, target_val_label_loss: 0.2629, \n",
      "=============================================================\n"
     ]
    },
    {
     "name": "stdout",
     "output_type": "stream",
     "text": [
      "epoch: 13, [batch: 1 / 3355], examples_per_second: 1.3938, train_label_loss: 0.0007, \n"
     ]
    },
    {
     "name": "stdout",
     "output_type": "stream",
     "text": [
      "epoch: 13, [batch: 336 / 3355], examples_per_second: 1252.4974, train_label_loss: 0.0152, \n"
     ]
    },
    {
     "name": "stdout",
     "output_type": "stream",
     "text": [
      "epoch: 13, [batch: 671 / 3355], examples_per_second: 1236.2324, train_label_loss: 0.0000, \n"
     ]
    },
    {
     "name": "stdout",
     "output_type": "stream",
     "text": [
      "epoch: 13, [batch: 1007 / 3355], examples_per_second: 1236.3542, train_label_loss: 0.0000, \n"
     ]
    },
    {
     "name": "stdout",
     "output_type": "stream",
     "text": [
      "epoch: 13, [batch: 1342 / 3355], examples_per_second: 1246.9458, train_label_loss: 0.7252, \n"
     ]
    },
    {
     "name": "stdout",
     "output_type": "stream",
     "text": [
      "epoch: 13, [batch: 1678 / 3355], examples_per_second: 1239.4869, train_label_loss: 0.1887, \n"
     ]
    },
    {
     "name": "stdout",
     "output_type": "stream",
     "text": [
      "epoch: 13, [batch: 2013 / 3355], examples_per_second: 1262.7079, train_label_loss: 0.0002, \n"
     ]
    },
    {
     "name": "stdout",
     "output_type": "stream",
     "text": [
      "epoch: 13, [batch: 2348 / 3355], examples_per_second: 1232.5326, train_label_loss: 0.0088, \n"
     ]
    },
    {
     "name": "stdout",
     "output_type": "stream",
     "text": [
      "epoch: 13, [batch: 2684 / 3355], examples_per_second: 1239.1822, train_label_loss: 0.0000, \n"
     ]
    },
    {
     "name": "stdout",
     "output_type": "stream",
     "text": [
      "epoch: 13, [batch: 3019 / 3355], examples_per_second: 1251.0918, train_label_loss: 0.0318, \n"
     ]
    },
    {
     "name": "stdout",
     "output_type": "stream",
     "text": [
      "=============================================================\n",
      "epoch: 13, source_val_acc_label: 0.9285, target_val_acc_label: 0.9088, source_val_label_loss: 0.1915, target_val_label_loss: 0.2682, \n",
      "=============================================================\n"
     ]
    },
    {
     "name": "stdout",
     "output_type": "stream",
     "text": [
      "epoch: 14, [batch: 1 / 3353], examples_per_second: 1.4159, train_label_loss: 0.6261, \n"
     ]
    },
    {
     "name": "stdout",
     "output_type": "stream",
     "text": [
      "epoch: 14, [batch: 336 / 3353], examples_per_second: 1228.0166, train_label_loss: 0.0038, \n"
     ]
    },
    {
     "name": "stdout",
     "output_type": "stream",
     "text": [
      "epoch: 14, [batch: 671 / 3353], examples_per_second: 1242.2994, train_label_loss: 0.5977, \n"
     ]
    },
    {
     "name": "stdout",
     "output_type": "stream",
     "text": [
      "epoch: 14, [batch: 1006 / 3353], examples_per_second: 1239.7779, train_label_loss: 0.3349, \n"
     ]
    },
    {
     "name": "stdout",
     "output_type": "stream",
     "text": [
      "epoch: 14, [batch: 1341 / 3353], examples_per_second: 1238.6428, train_label_loss: 0.0000, \n"
     ]
    },
    {
     "name": "stdout",
     "output_type": "stream",
     "text": [
      "epoch: 14, [batch: 1677 / 3353], examples_per_second: 1249.3051, train_label_loss: 0.0008, \n"
     ]
    },
    {
     "name": "stdout",
     "output_type": "stream",
     "text": [
      "epoch: 14, [batch: 2012 / 3353], examples_per_second: 1258.9208, train_label_loss: 0.1991, \n"
     ]
    },
    {
     "name": "stdout",
     "output_type": "stream",
     "text": [
      "epoch: 14, [batch: 2347 / 3353], examples_per_second: 1240.8228, train_label_loss: 0.0014, \n"
     ]
    },
    {
     "name": "stdout",
     "output_type": "stream",
     "text": [
      "epoch: 14, [batch: 2682 / 3353], examples_per_second: 1210.4529, train_label_loss: 0.0000, \n"
     ]
    },
    {
     "name": "stdout",
     "output_type": "stream",
     "text": [
      "epoch: 14, [batch: 3017 / 3353], examples_per_second: 1244.7937, train_label_loss: 0.0000, \n"
     ]
    },
    {
     "name": "stdout",
     "output_type": "stream",
     "text": [
      "=============================================================\n",
      "epoch: 14, source_val_acc_label: 0.9247, target_val_acc_label: 0.9052, source_val_label_loss: 0.1993, target_val_label_loss: 0.2574, \n",
      "=============================================================\n"
     ]
    },
    {
     "name": "stdout",
     "output_type": "stream",
     "text": [
      "epoch: 15, [batch: 1 / 3355], examples_per_second: 1.4155, train_label_loss: 0.0401, \n"
     ]
    },
    {
     "name": "stdout",
     "output_type": "stream",
     "text": [
      "epoch: 15, [batch: 336 / 3355], examples_per_second: 1202.3805, train_label_loss: 0.0065, \n"
     ]
    },
    {
     "name": "stdout",
     "output_type": "stream",
     "text": [
      "epoch: 15, [batch: 671 / 3355], examples_per_second: 1180.1653, train_label_loss: 0.3470, \n"
     ]
    },
    {
     "name": "stdout",
     "output_type": "stream",
     "text": [
      "epoch: 15, [batch: 1007 / 3355], examples_per_second: 1210.1852, train_label_loss: 0.7175, \n"
     ]
    },
    {
     "name": "stdout",
     "output_type": "stream",
     "text": [
      "epoch: 15, [batch: 1342 / 3355], examples_per_second: 1231.1096, train_label_loss: 0.1492, \n"
     ]
    },
    {
     "name": "stdout",
     "output_type": "stream",
     "text": [
      "epoch: 15, [batch: 1678 / 3355], examples_per_second: 1215.7732, train_label_loss: 0.0001, \n"
     ]
    },
    {
     "name": "stdout",
     "output_type": "stream",
     "text": [
      "epoch: 15, [batch: 2013 / 3355], examples_per_second: 1198.3018, train_label_loss: 0.0235, \n"
     ]
    },
    {
     "name": "stdout",
     "output_type": "stream",
     "text": [
      "epoch: 15, [batch: 2348 / 3355], examples_per_second: 1175.9838, train_label_loss: 0.5324, \n"
     ]
    },
    {
     "name": "stdout",
     "output_type": "stream",
     "text": [
      "epoch: 15, [batch: 2684 / 3355], examples_per_second: 1253.9970, train_label_loss: 0.0000, \n"
     ]
    },
    {
     "name": "stdout",
     "output_type": "stream",
     "text": [
      "epoch: 15, [batch: 3019 / 3355], examples_per_second: 1251.9509, train_label_loss: 0.0128, \n"
     ]
    },
    {
     "name": "stdout",
     "output_type": "stream",
     "text": [
      "=============================================================\n",
      "epoch: 15, source_val_acc_label: 0.9296, target_val_acc_label: 0.9072, source_val_label_loss: 0.1872, target_val_label_loss: 0.2600, \n",
      "=============================================================\n"
     ]
    },
    {
     "name": "stdout",
     "output_type": "stream",
     "text": [
      "Patience (3) exhausted\n"
     ]
    }
   ],
   "source": [
    "###################################\n",
    "# train\n",
    "###################################\n",
    "jig = PTN_Train_Eval_Test_Jig(model, p.BEST_MODEL_PATH, p.device)\n",
    "\n",
    "jig.train(\n",
    "    train_iterable=datasets.source.processed.train,\n",
    "    source_val_iterable=datasets.source.processed.val,\n",
    "    target_val_iterable=datasets.target.processed.val,\n",
    "    num_epochs=p.n_epoch,\n",
    "    num_logs_per_epoch=p.NUM_LOGS_PER_EPOCH,\n",
    "    patience=p.patience,\n",
    "    optimizer=optimizer,\n",
    "    criteria_for_best=p.criteria_for_best,\n",
    ")"
   ]
  },
  {
   "cell_type": "code",
   "execution_count": 14,
   "id": "31e8fabf",
   "metadata": {
    "execution": {
     "iopub.execute_input": "2022-03-04T23:54:28.569369Z",
     "iopub.status.busy": "2022-03-04T23:54:28.569111Z",
     "iopub.status.idle": "2022-03-04T23:54:28.586028Z",
     "shell.execute_reply": "2022-03-04T23:54:28.585635Z"
    },
    "papermill": {
     "duration": 0.060676,
     "end_time": "2022-03-04T23:54:28.586121",
     "exception": false,
     "start_time": "2022-03-04T23:54:28.525445",
     "status": "completed"
    },
    "tags": []
   },
   "outputs": [],
   "source": [
    "total_experiment_time_secs = time.time() - start_time_secs"
   ]
  },
  {
   "cell_type": "code",
   "execution_count": 15,
   "id": "87b9595b",
   "metadata": {
    "execution": {
     "iopub.execute_input": "2022-03-04T23:54:28.678717Z",
     "iopub.status.busy": "2022-03-04T23:54:28.678441Z",
     "iopub.status.idle": "2022-03-04T23:55:46.223142Z",
     "shell.execute_reply": "2022-03-04T23:55:46.223552Z"
    },
    "papermill": {
     "duration": 77.591771,
     "end_time": "2022-03-04T23:55:46.223688",
     "exception": false,
     "start_time": "2022-03-04T23:54:28.631917",
     "status": "completed"
    },
    "tags": []
   },
   "outputs": [],
   "source": [
    "###################################\n",
    "# Evaluate the model\n",
    "###################################\n",
    "source_test_label_accuracy, source_test_label_loss = jig.test(datasets.source.processed.test)\n",
    "target_test_label_accuracy, target_test_label_loss = jig.test(datasets.target.processed.test)\n",
    "\n",
    "source_val_label_accuracy, source_val_label_loss = jig.test(datasets.source.processed.val)\n",
    "target_val_label_accuracy, target_val_label_loss = jig.test(datasets.target.processed.val)\n",
    "\n",
    "history = jig.get_history()\n",
    "\n",
    "total_epochs_trained = len(history[\"epoch_indices\"])\n",
    "\n",
    "val_dl = Iterable_Aggregator((datasets.source.original.val,datasets.target.original.val))\n",
    "\n",
    "confusion = ptn_confusion_by_domain_over_dataloader(model, p.device, val_dl)\n",
    "per_domain_accuracy = per_domain_accuracy_from_confusion(confusion)\n",
    "\n",
    "# Add a key to per_domain_accuracy for if it was a source domain\n",
    "for domain, accuracy in per_domain_accuracy.items():\n",
    "    per_domain_accuracy[domain] = {\n",
    "        \"accuracy\": accuracy,\n",
    "        \"source?\": domain in p.domains_source\n",
    "    }\n",
    "\n",
    "# Do an independent accuracy assesment JUST TO BE SURE!\n",
    "# _source_test_label_accuracy = independent_accuracy_assesment(model, datasets.source.processed.test, p.device)\n",
    "# _target_test_label_accuracy = independent_accuracy_assesment(model, datasets.target.processed.test, p.device)\n",
    "# _source_val_label_accuracy = independent_accuracy_assesment(model, datasets.source.processed.val, p.device)\n",
    "# _target_val_label_accuracy = independent_accuracy_assesment(model, datasets.target.processed.val, p.device)\n",
    "\n",
    "# assert(_source_test_label_accuracy == source_test_label_accuracy)\n",
    "# assert(_target_test_label_accuracy == target_test_label_accuracy)\n",
    "# assert(_source_val_label_accuracy == source_val_label_accuracy)\n",
    "# assert(_target_val_label_accuracy == target_val_label_accuracy)\n",
    "\n",
    "experiment = {\n",
    "    \"experiment_name\": p.experiment_name,\n",
    "    \"parameters\": dict(p),\n",
    "    \"results\": {\n",
    "        \"source_test_label_accuracy\": source_test_label_accuracy,\n",
    "        \"source_test_label_loss\": source_test_label_loss,\n",
    "        \"target_test_label_accuracy\": target_test_label_accuracy,\n",
    "        \"target_test_label_loss\": target_test_label_loss,\n",
    "        \"source_val_label_accuracy\": source_val_label_accuracy,\n",
    "        \"source_val_label_loss\": source_val_label_loss,\n",
    "        \"target_val_label_accuracy\": target_val_label_accuracy,\n",
    "        \"target_val_label_loss\": target_val_label_loss,\n",
    "        \"total_epochs_trained\": total_epochs_trained,\n",
    "        \"total_experiment_time_secs\": total_experiment_time_secs,\n",
    "        \"confusion\": confusion,\n",
    "        \"per_domain_accuracy\": per_domain_accuracy,\n",
    "    },\n",
    "    \"history\": history,\n",
    "    \"dataset_metrics\": get_dataset_metrics(datasets, \"ptn\"),\n",
    "}"
   ]
  },
  {
   "cell_type": "code",
   "execution_count": 16,
   "id": "54a21829",
   "metadata": {
    "execution": {
     "iopub.execute_input": "2022-03-04T23:55:46.320474Z",
     "iopub.status.busy": "2022-03-04T23:55:46.320208Z",
     "iopub.status.idle": "2022-03-04T23:55:46.515085Z",
     "shell.execute_reply": "2022-03-04T23:55:46.515502Z"
    },
    "papermill": {
     "duration": 0.241766,
     "end_time": "2022-03-04T23:55:46.515636",
     "exception": false,
     "start_time": "2022-03-04T23:55:46.273870",
     "status": "completed"
    },
    "tags": []
   },
   "outputs": [
    {
     "data": {
      "image/png": "[encoded data removed]",
      "text/plain": [
       "<Figure size 1080x504 with 1 Axes>"
      ]
     },
     "metadata": {
      "needs_background": "light"
     },
     "output_type": "display_data"
    }
   ],
   "source": [
    "ax = get_loss_curve(experiment)\n",
    "plt.show()"
   ]
  },
  {
   "cell_type": "code",
   "execution_count": 17,
   "id": "fd8a0f60",
   "metadata": {
    "execution": {
     "iopub.execute_input": "2022-03-04T23:55:46.609901Z",
     "iopub.status.busy": "2022-03-04T23:55:46.609642Z",
     "iopub.status.idle": "2022-03-04T23:55:46.875775Z",
     "shell.execute_reply": "2022-03-04T23:55:46.876214Z"
    },
    "papermill": {
     "duration": 0.311987,
     "end_time": "2022-03-04T23:55:46.876360",
     "exception": false,
     "start_time": "2022-03-04T23:55:46.564373",
     "status": "completed"
    },
    "tags": []
   },
   "outputs": [
    {
     "data": {
      "text/plain": [
       "<matplotlib.axes._subplots.AxesSubplot at 0x7fd28ea09940>"
      ]
     },
     "execution_count": 17,
     "metadata": {},
     "output_type": "execute_result"
    },
    {
     "data": {
      "image/png": "[encoded data removed]",
      "text/plain": [
       "<Figure size 1080x504 with 1 Axes>"
      ]
     },
     "metadata": {
      "needs_background": "light"
     },
     "output_type": "display_data"
    }
   ],
   "source": [
    "get_results_table(experiment)"
   ]
  },
  {
   "cell_type": "code",
   "execution_count": 18,
   "id": "cf8dc689",
   "metadata": {
    "execution": {
     "iopub.execute_input": "2022-03-04T23:55:46.975227Z",
     "iopub.status.busy": "2022-03-04T23:55:46.974967Z",
     "iopub.status.idle": "2022-03-04T23:55:47.156818Z",
     "shell.execute_reply": "2022-03-04T23:55:47.157241Z"
    },
    "papermill": {
     "duration": 0.230593,
     "end_time": "2022-03-04T23:55:47.157375",
     "exception": false,
     "start_time": "2022-03-04T23:55:46.926782",
     "status": "completed"
    },
    "tags": []
   },
   "outputs": [
    {
     "data": {
      "text/plain": [
       "<matplotlib.axes._subplots.AxesSubplot at 0x7fd28ea12160>"
      ]
     },
     "execution_count": 18,
     "metadata": {},
     "output_type": "execute_result"
    },
    {
     "data": {
      "image/png": "[encoded data removed]",
      "text/plain": [
       "<Figure size 1080x504 with 1 Axes>"
      ]
     },
     "metadata": {
      "needs_background": "light"
     },
     "output_type": "display_data"
    }
   ],
   "source": [
    "get_domain_accuracies(experiment)"
   ]
  },
  {
   "cell_type": "code",
   "execution_count": 19,
   "id": "a74ae082",
   "metadata": {
    "execution": {
     "iopub.execute_input": "2022-03-04T23:55:47.258452Z",
     "iopub.status.busy": "2022-03-04T23:55:47.258170Z",
     "iopub.status.idle": "2022-03-04T23:55:47.273271Z",
     "shell.execute_reply": "2022-03-04T23:55:47.272813Z"
    },
    "papermill": {
     "duration": 0.065938,
     "end_time": "2022-03-04T23:55:47.273385",
     "exception": false,
     "start_time": "2022-03-04T23:55:47.207447",
     "status": "completed"
    },
    "tags": []
   },
   "outputs": [
    {
     "name": "stdout",
     "output_type": "stream",
     "text": [
      "Source Test Label Accuracy: 0.9290446304044631 Target Test Label Accuracy: 0.9069816053511706\n",
      "Source Val Label Accuracy: 0.927649930264993 Target Val Label Accuracy: 0.9019648829431438\n"
     ]
    }
   ],
   "source": [
    "print(\"Source Test Label Accuracy:\", experiment[\"results\"][\"source_test_label_accuracy\"], \"Target Test Label Accuracy:\", experiment[\"results\"][\"target_test_label_accuracy\"])\n",
    "print(\"Source Val Label Accuracy:\", experiment[\"results\"][\"source_val_label_accuracy\"], \"Target Val Label Accuracy:\", experiment[\"results\"][\"target_val_label_accuracy\"])"
   ]
  },
  {
   "cell_type": "code",
   "execution_count": 20,
   "id": "dacca602",
   "metadata": {
    "execution": {
     "iopub.execute_input": "2022-03-04T23:55:47.376553Z",
     "iopub.status.busy": "2022-03-04T23:55:47.375943Z",
     "iopub.status.idle": "2022-03-04T23:55:47.391426Z",
     "shell.execute_reply": "2022-03-04T23:55:47.391647Z"
    },
    "papermill": {
     "duration": 0.065712,
     "end_time": "2022-03-04T23:55:47.391725",
     "exception": false,
     "start_time": "2022-03-04T23:55:47.326013",
     "status": "completed"
    },
    "tags": [
     "experiment_json"
    ]
   },
   "outputs": [
    {
     "data": {
      "text/plain": [
       "'{\"experiment_name\": \"nWay_oracle.run2\", \"parameters\": {\"experiment_name\": \"nWay_oracle.run2\", \"device\": \"cuda\", \"lr\": 0.001, \"seed\": 1337, \"dataset_seed\": 1337, \"labels_source\": [\"3123D52\", \"3123D65\", \"3123D79\", \"3123D80\", \"3123D54\", \"3123D70\", \"3123D7B\", \"3123D89\", \"3123D58\", \"3123D76\", \"3123D7D\", \"3123EFE\", \"3123D64\", \"3123D78\", \"3123D7E\", \"3124E4A\"], \"labels_target\": [\"3123D52\", \"3123D65\", \"3123D79\", \"3123D80\", \"3123D54\", \"3123D70\", \"3123D7B\", \"3123D89\", \"3123D58\", \"3123D76\", \"3123D7D\", \"3123EFE\", \"3123D64\", \"3123D78\", \"3123D7E\", \"3124E4A\"], \"x_transforms_source\": [], \"x_transforms_target\": [], \"episode_transforms_source\": [], \"episode_transforms_target\": [], \"num_examples_per_domain_per_label_source\": 1000, \"num_examples_per_domain_per_label_target\": 1000, \"n_shot\": 3, \"n_query\": 2, \"train_k_factor\": 1, \"val_k_factor\": 2, \"test_k_factor\": 2, \"torch_default_dtype\": \"torch.float32\", \"n_epoch\": 50, \"patience\": 3, \"criteria_for_best\": \"target_loss\", \"x_net\": [{\"class\": \"nnReshape\", \"kargs\": {\"shape\": [-1, 1, 2, 256]}}, {\"class\": \"Conv2d\", \"kargs\": {\"in_channels\": 1, \"out_channels\": 256, \"kernel_size\": [1, 7], \"bias\": false, \"padding\": [0, 3]}}, {\"class\": \"ReLU\", \"kargs\": {\"inplace\": true}}, {\"class\": \"BatchNorm2d\", \"kargs\": {\"num_features\": 256}}, {\"class\": \"Conv2d\", \"kargs\": {\"in_channels\": 256, \"out_channels\": 80, \"kernel_size\": [2, 7], \"bias\": true, \"padding\": [0, 3]}}, {\"class\": \"ReLU\", \"kargs\": {\"inplace\": true}}, {\"class\": \"BatchNorm2d\", \"kargs\": {\"num_features\": 80}}, {\"class\": \"Flatten\", \"kargs\": {}}, {\"class\": \"Linear\", \"kargs\": {\"in_features\": 20480, \"out_features\": 256}}, {\"class\": \"ReLU\", \"kargs\": {\"inplace\": true}}, {\"class\": \"BatchNorm1d\", \"kargs\": {\"num_features\": 256}}, {\"class\": \"Linear\", \"kargs\": {\"in_features\": 256, \"out_features\": 256}}], \"NUM_LOGS_PER_EPOCH\": 10, \"BEST_MODEL_PATH\": \"./best_model.pth\", \"pickle_name\": \"oracle.Run2_10kExamples_stratified_ds.2022A.pkl\", \"n_way\": 2, \"domains_source\": [8, 32, 50], \"domains_target\": [14, 20, 26, 38, 44]}, \"results\": {\"source_test_label_accuracy\": 0.9290446304044631, \"source_test_label_loss\": 0.17740599811077118, \"target_test_label_accuracy\": 0.9069816053511706, \"target_test_label_loss\": 0.23605075478553772, \"source_val_label_accuracy\": 0.927649930264993, \"source_val_label_loss\": 0.1884985715150833, \"target_val_label_accuracy\": 0.9019648829431438, \"target_val_label_loss\": 0.25577765703201294, \"total_epochs_trained\": 15, \"total_experiment_time_secs\": 585.4214551448822, \"confusion\": {\"8\": {\"11\": {\"11\": 71, \"8\": 8, \"13\": 6, \"4\": 4, \"5\": 11, \"7\": 2, \"14\": 4, \"6\": 5, \"10\": 7, \"12\": 1, \"1\": 1}, \"13\": {\"13\": 116, \"7\": 3, \"11\": 1}, \"3\": {\"3\": 120}, \"14\": {\"14\": 113, \"8\": 2, \"6\": 4, \"1\": 1}, \"8\": {\"8\": 107, \"11\": 7, \"14\": 3, \"6\": 2, \"1\": 1}, \"7\": {\"7\": 105, \"10\": 5, \"4\": 3, \"1\": 3, \"6\": 1, \"5\": 2, \"13\": 1}, \"5\": {\"5\": 103, \"11\": 4, \"1\": 6, \"10\": 4, \"7\": 3}, \"9\": {\"9\": 117, \"15\": 2, \"3\": 1}, \"12\": {\"12\": 113, \"2\": 6, \"15\": 1}, \"1\": {\"1\": 101, \"10\": 2, \"6\": 1, \"7\": 3, \"4\": 2, \"5\": 3, \"11\": 2, \"14\": 1, \"8\": 1}, \"0\": {\"0\": 120}, \"6\": {\"6\": 110, \"1\": 1, \"14\": 5, \"8\": 4}, \"4\": {\"4\": 113, \"10\": 1, \"5\": 1, \"7\": 4, \"6\": 1}, \"15\": {\"15\": 117, \"12\": 1, \"9\": 1, \"2\": 1}, \"10\": {\"10\": 108, \"1\": 3, \"7\": 6, \"11\": 1, \"13\": 1, \"5\": 1}, \"2\": {\"2\": 114, \"12\": 4, \"15\": 2}}, \"50\": {\"0\": {\"0\": 113, \"10\": 3, \"2\": 3, \"14\": 1}, \"15\": {\"15\": 108, \"5\": 3, \"9\": 3, \"3\": 2, \"6\": 3, \"12\": 1}, \"2\": {\"2\": 115, \"14\": 5}, \"8\": {\"8\": 115, \"13\": 3, \"1\": 2}, \"5\": {\"5\": 111, \"4\": 1, \"15\": 3, \"9\": 3, \"3\": 1, \"12\": 1}, \"11\": {\"11\": 119, \"13\": 1}, \"12\": {\"12\": 120}, \"14\": {\"14\": 113, \"2\": 7}, \"4\": {\"4\": 112, \"6\": 2, \"9\": 2, \"15\": 3, \"7\": 1}, \"13\": {\"13\": 113, \"1\": 5, \"8\": 2}, \"10\": {\"10\": 108, \"0\": 4}, \"1\": {\"1\": 112, \"13\": 3, \"8\": 4, \"11\": 1}, \"6\": {\"6\": 115, \"3\": 2, \"12\": 1, \"9\": 1, \"4\": 1}, \"7\": {\"7\": 114, \"4\": 3, \"5\": 2, \"9\": 1}, \"9\": {\"9\": 106, \"3\": 5, \"5\": 1, \"6\": 2, \"15\": 4, \"4\": 2}, \"3\": {\"9\": 7, \"3\": 101, \"12\": 2, \"6\": 7, \"5\": 1, \"15\": 1, \"7\": 1}}, \"32\": {\"3\": {\"3\": 113, \"11\": 3, \"9\": 1, \"13\": 1, \"4\": 2}, \"5\": {\"5\": 114, \"15\": 4, \"0\": 1, \"14\": 1}, \"4\": {\"4\": 115, \"1\": 3, \"11\": 2}, \"8\": {\"8\": 112, \"2\": 3, \"0\": 1, \"7\": 3, \"14\": 1}, \"1\": {\"1\": 112, \"4\": 6, \"11\": 2}, \"14\": {\"14\": 99, \"4\": 1, \"0\": 7, \"2\": 3, \"7\": 4, \"1\": 2, \"8\": 2, \"5\": 2}, \"0\": {\"0\": 105, \"2\": 5, \"8\": 4, \"1\": 2, \"14\": 3, \"15\": 1}, \"13\": {\"13\": 116, \"4\": 1, \"9\": 2, \"1\": 1}, \"9\": {\"9\": 117, \"3\": 1, \"13\": 2}, \"7\": {\"7\": 95, \"8\": 8, \"2\": 4, \"14\": 1}, \"11\": {\"3\": 6, \"11\": 102, \"2\": 3, \"15\": 1, \"1\": 2, \"4\": 2, \"9\": 2, \"12\": 1, \"14\": 1}, \"15\": {\"15\": 114, \"5\": 6}, \"12\": {\"12\": 119, \"9\": 1}, \"6\": {\"6\": 120}, \"10\": {\"10\": 119, \"12\": 1}, \"2\": {\"2\": 106, \"8\": 2, \"0\": 5, \"14\": 2, \"7\": 4, \"4\": 1}}, \"14\": {\"11\": {\"11\": 120}, \"13\": {\"13\": 114, \"6\": 5, \"3\": 1}, \"3\": {\"3\": 111, \"2\": 2, \"12\": 4, \"7\": 2, \"6\": 1}, \"14\": {\"14\": 111, \"8\": 2, \"10\": 2, \"5\": 2, \"2\": 1, \"3\": 2}, \"0\": {\"0\": 106, \"8\": 3, \"4\": 8, \"10\": 1, \"12\": 1, \"9\": 1}, \"6\": {\"6\": 116, \"13\": 3, \"12\": 1}, \"12\": {\"12\": 66, \"6\": 3, \"14\": 2, \"8\": 8, \"2\": 5, \"3\": 7, \"13\": 1, \"9\": 5, \"1\": 4, \"15\": 6, \"7\": 6, \"10\": 2, \"11\": 2, \"5\": 2, \"4\": 1}, \"5\": {\"5\": 115, \"14\": 3, \"2\": 2}, \"9\": {\"9\": 120}, \"8\": {\"8\": 107, \"0\": 4, \"5\": 1, \"10\": 6, \"4\": 2}, \"15\": {\"15\": 116}, \"7\": {\"7\": 112, \"3\": 3, \"12\": 2, \"14\": 1, \"2\": 2}, \"4\": {\"4\": 106, \"0\": 10, \"10\": 3, \"8\": 1}, \"10\": {\"10\": 101, \"4\": 5, \"0\": 2, \"7\": 3, \"8\": 2, \"13\": 1, \"5\": 1, \"12\": 2, \"3\": 2, \"6\": 1}, \"1\": {\"1\": 120}, \"2\": {\"2\": 98, \"3\": 4, \"14\": 4, \"10\": 2, \"13\": 1, \"4\": 1, \"7\": 5, \"12\": 2, \"5\": 1, \"8\": 2}}, \"26\": {\"0\": {\"0\": 97, \"6\": 1, \"15\": 4, \"14\": 1, \"10\": 4, \"9\": 2, \"12\": 1, \"11\": 2}, \"15\": {\"0\": 4, \"15\": 100, \"2\": 5, \"12\": 3, \"8\": 3, \"11\": 1, \"14\": 2, \"10\": 2}, \"2\": {\"15\": 2, \"2\": 100, \"12\": 8, \"8\": 2, \"13\": 1, \"9\": 4, \"7\": 2, \"11\": 1}, \"12\": {\"12\": 106, \"8\": 6, \"9\": 3, \"2\": 2, \"7\": 1, \"15\": 1, \"0\": 1}, \"14\": {\"14\": 103, \"10\": 5, \"5\": 3, \"11\": 6, \"15\": 1, \"0\": 2}, \"4\": {\"4\": 120}, \"11\": {\"11\": 106, \"15\": 1, \"1\": 4, \"5\": 2, \"6\": 5, \"14\": 2}, \"10\": {\"10\": 96, \"14\": 2, \"0\": 4, \"15\": 4, \"12\": 1, \"13\": 1, \"1\": 1, \"2\": 1, \"8\": 1, \"3\": 1}, \"1\": {\"1\": 110, \"5\": 6, \"6\": 3, \"10\": 1}, \"5\": {\"5\": 98, \"14\": 7, \"10\": 2, \"6\": 5, \"15\": 1, \"1\": 4, \"11\": 2, \"0\": 1}, \"6\": {\"6\": 107, \"5\": 5, \"11\": 6, \"1\": 2}, \"8\": {\"8\": 109, \"12\": 3, \"0\": 1, \"15\": 5, \"2\": 1, \"9\": 1}, \"13\": {\"13\": 111, \"7\": 3, \"4\": 1, \"3\": 1, \"9\": 2, \"12\": 2}, \"7\": {\"7\": 108, \"13\": 4, \"8\": 1, \"3\": 2, \"12\": 2, \"0\": 1, \"9\": 2}, \"3\": {\"3\": 113, \"12\": 2, \"13\": 1, \"7\": 3, \"2\": 1}, \"9\": {\"9\": 108, \"13\": 1, \"7\": 1, \"2\": 1, \"8\": 3, \"12\": 4, \"0\": 1, \"3\": 1}}, \"44\": {\"11\": {\"11\": 120}, \"8\": {\"8\": 112, \"5\": 6, \"15\": 2}, \"4\": {\"4\": 112, \"14\": 4, \"9\": 3, \"7\": 1}, \"1\": {\"1\": 116, \"2\": 2, \"0\": 1, \"5\": 1}, \"9\": {\"9\": 107, \"7\": 3, \"4\": 2, \"14\": 3, \"6\": 1, \"10\": 4}, \"7\": {\"7\": 117, \"9\": 2, \"4\": 1}, \"5\": {\"15\": 8, \"5\": 103, \"8\": 5, \"0\": 2, \"14\": 2}, \"15\": {\"15\": 104, \"1\": 3, \"8\": 3, \"0\": 1, \"2\": 4, \"5\": 5}, \"14\": {\"14\": 114, \"4\": 3, \"9\": 3}, \"12\": {\"12\": 119, \"3\": 1}, \"10\": {\"10\": 112, \"9\": 3, \"4\": 1, \"6\": 4}, \"3\": {\"3\": 119, \"12\": 1}, \"0\": {\"0\": 108, \"2\": 3, \"3\": 1, \"5\": 2, \"8\": 1, \"1\": 2, \"15\": 2, \"14\": 1}, \"6\": {\"6\": 115, \"10\": 4, \"13\": 1}, \"2\": {\"0\": 1, \"2\": 114, \"1\": 1, \"8\": 3, \"15\": 1}, \"13\": {\"13\": 117, \"7\": 1, \"14\": 1, \"9\": 1}}, \"20\": {\"7\": {\"7\": 93, \"13\": 4, \"15\": 3, \"2\": 4, \"10\": 1, \"5\": 6, \"6\": 2, \"4\": 3, \"1\": 1, \"3\": 3}, \"13\": {\"13\": 112, \"10\": 2, \"12\": 4, \"3\": 1, \"1\": 1}, \"8\": {\"8\": 114, \"0\": 3, \"11\": 1, \"14\": 2}, \"5\": {\"5\": 93, \"9\": 4, \"4\": 1, \"15\": 3, \"11\": 1, \"10\": 1, \"7\": 8, \"3\": 3, \"1\": 2, \"2\": 2, \"8\": 1, \"6\": 1}, \"9\": {\"5\": 4, \"9\": 92, \"1\": 3, \"3\": 2, \"4\": 4, \"13\": 2, \"10\": 1, \"15\": 3, \"7\": 2, \"2\": 3, \"6\": 4}, \"0\": {\"11\": 3, \"0\": 108, \"8\": 6, \"14\": 2, \"1\": 1}, \"11\": {\"0\": 1, \"11\": 108, \"14\": 4, \"8\": 3}, \"2\": {\"2\": 102, \"10\": 1, \"7\": 2, \"3\": 6, \"1\": 2, \"4\": 1, \"9\": 3, \"6\": 2, \"15\": 1}, \"12\": {\"12\": 108, \"7\": 1, \"6\": 3, \"13\": 4, \"4\": 1, \"10\": 1, \"15\": 1, \"9\": 1}, \"1\": {\"1\": 100, \"15\": 3, \"9\": 2, \"2\": 1, \"3\": 4, \"5\": 1, \"7\": 4, \"6\": 2, \"14\": 2, \"4\": 1}, \"15\": {\"15\": 95, \"7\": 2, \"1\": 1, \"3\": 7, \"5\": 1, \"9\": 4, \"12\": 2, \"6\": 5, \"4\": 1, \"13\": 1, \"14\": 1}, \"6\": {\"6\": 84, \"2\": 7, \"12\": 2, \"7\": 2, \"13\": 2, \"4\": 2, \"15\": 9, \"1\": 1, \"9\": 6, \"5\": 2, \"10\": 2, \"3\": 1}, \"4\": {\"4\": 88, \"2\": 1, \"15\": 5, \"9\": 4, \"12\": 1, \"6\": 3, \"10\": 3, \"3\": 7, \"7\": 2, \"1\": 1, \"13\": 1}, \"14\": {\"14\": 110, \"8\": 8, \"9\": 1, \"11\": 1}, \"10\": {\"10\": 99, \"12\": 3, \"7\": 1, \"5\": 1, \"6\": 2, \"4\": 4, \"3\": 2, \"13\": 4, \"2\": 1, \"15\": 3}, \"3\": {\"3\": 92, \"2\": 4, \"15\": 6, \"4\": 6, \"1\": 3, \"13\": 1, \"7\": 6, \"6\": 1, \"5\": 1}}, \"38\": {\"3\": {\"3\": 109, \"14\": 1, \"10\": 6, \"13\": 4}, \"5\": {\"5\": 104, \"9\": 5, \"0\": 1, \"12\": 4, \"8\": 3, \"2\": 1, \"14\": 2}, \"14\": {\"14\": 100, \"5\": 2, \"2\": 3, \"0\": 7, \"7\": 3, \"8\": 3, \"9\": 2}, \"4\": {\"4\": 113, \"14\": 2, \"0\": 1, \"10\": 2, \"3\": 2}, \"0\": {\"0\": 115, \"14\": 3, \"8\": 1, \"2\": 1}, \"13\": {\"13\": 116, \"4\": 1, \"3\": 2, \"10\": 1}, \"11\": {\"11\": 120}, \"8\": {\"8\": 115, \"2\": 2, \"9\": 2, \"14\": 1}, \"12\": {\"12\": 113, \"9\": 3, \"5\": 2, \"2\": 2}, \"1\": {\"1\": 116, \"15\": 3, \"6\": 1}, \"15\": {\"15\": 112, \"1\": 7, \"6\": 1}, \"6\": {\"6\": 116, \"15\": 3, \"1\": 1}, \"10\": {\"3\": 3, \"10\": 111, \"13\": 2, \"4\": 4}, \"2\": {\"2\": 110, \"8\": 3, \"5\": 3, \"9\": 1, \"14\": 2, \"12\": 1}, \"9\": {\"5\": 3, \"9\": 110, \"12\": 3, \"8\": 2, \"14\": 2}, \"7\": {\"7\": 112, \"0\": 4}}}, \"per_domain_accuracy\": {\"8\": {\"accuracy\": 0.9123173277661796, \"source?\": true}, \"50\": {\"accuracy\": 0.9388075313807531, \"source?\": true}, \"32\": {\"accuracy\": 0.9318658280922432, \"source?\": true}, \"14\": {\"accuracy\": 0.9076200417536534, \"source?\": false}, \"26\": {\"accuracy\": 0.8886554621848739, \"source?\": false}, \"44\": {\"accuracy\": 0.9421875, \"source?\": false}, \"20\": {\"accuracy\": 0.8357740585774058, \"source?\": false}, \"38\": {\"accuracy\": 0.9352818371607515, \"source?\": false}}}, \"history\": {\"epoch_indices\": [1, 2, 3, 4, 5, 6, 7, 8, 9, 10, 11, 12, 13, 14, 15], \"train_label_loss\": [0.30893956156787883, 0.262657775005963, 0.22729077399368633, 0.17209673315080232, 0.17469216742861296, 0.17811438746208735, 0.17250497477209117, 0.17345208576881826, 0.1737030475908372, 0.17853969591057697, 0.16777104618293992, 0.1749679848669553, 0.16778147484783962, 0.1684464581790652, 0.17308820728842308], \"source_val_label_loss\": [0.4742400050163269, 0.3368564248085022, 0.18150916695594788, 0.1826859712600708, 0.20137691497802734, 0.25301653146743774, 0.20635131001472473, 0.20007668435573578, 0.1925240010023117, 0.19660083949565887, 0.1884985715150833, 0.1887432038784027, 0.19154630601406097, 0.19925428926944733, 0.18721777200698853], \"target_val_label_loss\": [0.5290834903717041, 0.40465545654296875, 0.3279976546764374, 0.2938453257083893, 0.26451578736305237, 0.3181122839450836, 0.25646257400512695, 0.2827906906604767, 0.26195377111434937, 0.2657964527606964, 0.25577765703201294, 0.2628931999206543, 0.2681629955768585, 0.2574186623096466, 0.2599639892578125], \"source_val_acc_label\": [0.8038702928870293, 0.8849372384937239, 0.9131799163179917, 0.9205020920502092, 0.9184100418410042, 0.9208507670850767, 0.9243375174337517, 0.9295676429567643, 0.9225941422594143, 0.921373779637378, 0.927649930264993, 0.9286959553695955, 0.9285216178521618, 0.9246861924686193, 0.9295676429567643], \"target_val_acc_label\": [0.7496864548494984, 0.8571279264214047, 0.8881688963210702, 0.8957984949832776, 0.9006061872909699, 0.8947533444816054, 0.9055183946488294, 0.9037416387959866, 0.8972617056856187, 0.8986204013377926, 0.9019648829431438, 0.9022784280936454, 0.9087583612040134, 0.9052048494983278, 0.907190635451505]}, \"dataset_metrics\": {\"source\": {\"train\": {\"n_unique_x\": 33510, \"n_unique_y\": 16, \"n_batch/episode\": 3351}, \"val\": {\"n_unique_x\": 7200, \"n_unique_y\": 16, \"n_batch/episode\": 1434}, \"test\": {\"n_unique_x\": 7200, \"n_unique_y\": 16, \"n_batch/episode\": 1434}}, \"target\": {\"train\": {\"n_unique_x\": 55870, \"n_unique_y\": 16, \"n_batch/episode\": 5587}, \"val\": {\"n_unique_x\": 12000, \"n_unique_y\": 16, \"n_batch/episode\": 2392}, \"test\": {\"n_unique_x\": 12000, \"n_unique_y\": 16, \"n_batch/episode\": 2392}}}}'"
      ]
     },
     "execution_count": 20,
     "metadata": {},
     "output_type": "execute_result"
    }
   ],
   "source": [
    "json.dumps(experiment)"
   ]
  }
 ],
 "metadata": {
  "celltoolbar": "Tags",
  "kernelspec": {
   "display_name": "Python 3 (ipykernel)",
   "language": "python",
   "name": "python3"
  },
  "language_info": {
   "codemirror_mode": {
    "name": "ipython",
    "version": 3
   },
   "file_extension": ".py",
   "mimetype": "text/x-python",
   "name": "python",
   "nbconvert_exporter": "python",
   "pygments_lexer": "ipython3",
   "version": "3.8.10"
  },
  "papermill": {
   "default_parameters": {},
   "duration": 666.874073,
   "end_time": "2022-03-04T23:55:48.048098",
   "environment_variables": {},
   "exception": null,
   "input_path": "/mnt/wd500GB/CSC500/csc500-main/csc500-notebooks/templates/ptn_template.ipynb",
   "output_path": "trial.ipynb",
   "parameters": {
    "parameters": {
     "BEST_MODEL_PATH": "./best_model.pth",
     "NUM_LOGS_PER_EPOCH": 10,
     "criteria_for_best": "target_loss",
     "dataset_seed": 1337,
     "device": "cuda",
     "domains_source": [
      8,
      32,
      50
     ],
     "domains_target": [
      14,
      20,
      26,
      38,
      44
     ],
     "episode_transforms_source": [],
     "episode_transforms_target": [],
     "experiment_name": "nWay_oracle.run2",
     "labels_source": [
      "3123D52",
      "3123D65",
      "3123D79",
      "3123D80",
      "3123D54",
      "3123D70",
      "3123D7B",
      "3123D89",
      "3123D58",
      "3123D76",
      "3123D7D",
      "3123EFE",
      "3123D64",
      "3123D78",
      "3123D7E",
      "3124E4A"
     ],
     "labels_target": [
      "3123D52",
      "3123D65",
      "3123D79",
      "3123D80",
      "3123D54",
      "3123D70",
      "3123D7B",
      "3123D89",
      "3123D58",
      "3123D76",
      "3123D7D",
      "3123EFE",
      "3123D64",
      "3123D78",
      "3123D7E",
      "3124E4A"
     ],
     "lr": 0.001,
     "n_epoch": 50,
     "n_query": 2,
     "n_shot": 3,
     "n_way": 2,
     "num_examples_per_domain_per_label_source": 1000,
     "num_examples_per_domain_per_label_target": 1000,
     "patience": 3,
     "pickle_name": "oracle.Run2_10kExamples_stratified_ds.2022A.pkl",
     "seed": 1337,
     "test_k_factor": 2,
     "torch_default_dtype": "torch.float32",
     "train_k_factor": 1,
     "val_k_factor": 2,
     "x_net": [
      {
       "class": "nnReshape",
       "kargs": {
        "shape": [
         -1,
         1,
         2,
         256
        ]
       }
      },
      {
       "class": "Conv2d",
       "kargs": {
        "bias": false,
        "in_channels": 1,
        "kernel_size": [
         1,
         7
        ],
        "out_channels": 256,
        "padding": [
         0,
         3
        ]
       }
      },
      {
       "class": "ReLU",
       "kargs": {
        "inplace": true
       }
      },
      {
       "class": "BatchNorm2d",
       "kargs": {
        "num_features": 256
       }
      },
      {
       "class": "Conv2d",
       "kargs": {
        "bias": true,
        "in_channels": 256,
        "kernel_size": [
         2,
         7
        ],
        "out_channels": 80,
        "padding": [
         0,
         3
        ]
       }
      },
      {
       "class": "ReLU",
       "kargs": {
        "inplace": true
       }
      },
      {
       "class": "BatchNorm2d",
       "kargs": {
        "num_features": 80
       }
      },
      {
       "class": "Flatten",
       "kargs": {}
      },
      {
       "class": "Linear",
       "kargs": {
        "in_features": 20480,
        "out_features": 256
       }
      },
      {
       "class": "ReLU",
       "kargs": {
        "inplace": true
       }
      },
      {
       "class": "BatchNorm1d",
       "kargs": {
        "num_features": 256
       }
      },
      {
       "class": "Linear",
       "kargs": {
        "in_features": 256,
        "out_features": 256
       }
      }
     ],
     "x_transforms_source": [],
     "x_transforms_target": []
    }
   },
   "start_time": "2022-03-04T23:44:41.174025",
   "version": "2.3.4"
  }
 },
 "nbformat": 4,
 "nbformat_minor": 5
}