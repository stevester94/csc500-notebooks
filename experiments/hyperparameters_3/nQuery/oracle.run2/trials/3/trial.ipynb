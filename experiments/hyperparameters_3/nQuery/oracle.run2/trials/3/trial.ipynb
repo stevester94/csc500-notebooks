{
 "cells": [
  {
   "cell_type": "markdown",
   "id": "9fea5f46",
   "metadata": {
    "papermill": {
     "duration": 0.014189,
     "end_time": "2022-03-04T07:51:46.037001",
     "exception": false,
     "start_time": "2022-03-04T07:51:46.022812",
     "status": "completed"
    },
    "tags": []
   },
   "source": [
    "# PTN Template\n",
    "This notebook serves as a template for single dataset PTN experiments  \n",
    "It can be run on its own by setting STANDALONE to True (do a find for \"STANDALONE\" to see where)  \n",
    "But it is intended to be executed as part of a *papermill.py script. See any of the   \n",
    "experimentes with a papermill script to get started with that workflow.  "
   ]
  },
  {
   "cell_type": "code",
   "execution_count": 1,
   "id": "0902182a",
   "metadata": {
    "execution": {
     "iopub.execute_input": "2022-03-04T07:51:46.068813Z",
     "iopub.status.busy": "2022-03-04T07:51:46.067262Z",
     "iopub.status.idle": "2022-03-04T07:51:46.815876Z",
     "shell.execute_reply": "2022-03-04T07:51:46.815378Z"
    },
    "papermill": {
     "duration": 0.769837,
     "end_time": "2022-03-04T07:51:46.815997",
     "exception": false,
     "start_time": "2022-03-04T07:51:46.046160",
     "status": "completed"
    },
    "tags": []
   },
   "outputs": [],
   "source": [
    "%load_ext autoreload\n",
    "%autoreload 2\n",
    "%matplotlib inline\n",
    "\n",
    "    \n",
    "import os, json, sys, time, random\n",
    "import numpy as np\n",
    "import torch\n",
    "from torch.optim import Adam\n",
    "from  easydict import EasyDict\n",
    "import matplotlib.pyplot as plt\n",
    "\n",
    "from steves_models.steves_ptn import Steves_Prototypical_Network\n",
    "\n",
    "from steves_utils.lazy_iterable_wrapper import Lazy_Iterable_Wrapper\n",
    "from steves_utils.iterable_aggregator import Iterable_Aggregator\n",
    "from steves_utils.ptn_train_eval_test_jig import  PTN_Train_Eval_Test_Jig\n",
    "from steves_utils.torch_sequential_builder import build_sequential\n",
    "from steves_utils.torch_utils import get_dataset_metrics, ptn_confusion_by_domain_over_dataloader\n",
    "from steves_utils.utils_v2 import (per_domain_accuracy_from_confusion, get_datasets_base_path)\n",
    "from steves_utils.PTN.utils import independent_accuracy_assesment\n",
    "\n",
    "from steves_utils.stratified_dataset.episodic_accessor import Episodic_Accessor_Factory\n",
    "\n",
    "from steves_utils.ptn_do_report import (\n",
    "    get_loss_curve,\n",
    "    get_results_table,\n",
    "    get_parameters_table,\n",
    "    get_domain_accuracies,\n",
    ")\n",
    "\n",
    "from steves_utils.transforms import get_chained_transform"
   ]
  },
  {
   "cell_type": "markdown",
   "id": "41c840b4",
   "metadata": {
    "papermill": {
     "duration": 0.009136,
     "end_time": "2022-03-04T07:51:46.840455",
     "exception": false,
     "start_time": "2022-03-04T07:51:46.831319",
     "status": "completed"
    },
    "tags": []
   },
   "source": [
    "# Required Parameters\n",
    "These are allowed parameters, not defaults\n",
    "Each of these values need to be present in the injected parameters (the notebook will raise an exception if they are not present)\n",
    "\n",
    "Papermill uses the cell tag \"parameters\" to inject the real parameters below this cell.\n",
    "Enable tags to see what I mean"
   ]
  },
  {
   "cell_type": "code",
   "execution_count": 2,
   "id": "fd44eb83",
   "metadata": {
    "execution": {
     "iopub.execute_input": "2022-03-04T07:51:46.862461Z",
     "iopub.status.busy": "2022-03-04T07:51:46.862200Z",
     "iopub.status.idle": "2022-03-04T07:51:46.876344Z",
     "shell.execute_reply": "2022-03-04T07:51:46.875863Z"
    },
    "papermill": {
     "duration": 0.026898,
     "end_time": "2022-03-04T07:51:46.876440",
     "exception": false,
     "start_time": "2022-03-04T07:51:46.849542",
     "status": "completed"
    },
    "tags": []
   },
   "outputs": [],
   "source": [
    "required_parameters = {\n",
    "    \"experiment_name\",\n",
    "    \"lr\",\n",
    "    \"device\",\n",
    "    \"seed\",\n",
    "    \"dataset_seed\",\n",
    "    \"labels_source\",\n",
    "    \"labels_target\",\n",
    "    \"domains_source\",\n",
    "    \"domains_target\",\n",
    "    \"num_examples_per_domain_per_label_source\",\n",
    "    \"num_examples_per_domain_per_label_target\",\n",
    "    \"n_shot\",\n",
    "    \"n_way\",\n",
    "    \"n_query\",\n",
    "    \"train_k_factor\",\n",
    "    \"val_k_factor\",\n",
    "    \"test_k_factor\",\n",
    "    \"n_epoch\",\n",
    "    \"patience\",\n",
    "    \"criteria_for_best\",\n",
    "    \"x_transforms_source\",\n",
    "    \"x_transforms_target\",\n",
    "    \"episode_transforms_source\",\n",
    "    \"episode_transforms_target\",\n",
    "    \"pickle_name\",\n",
    "    \"x_net\",\n",
    "    \"NUM_LOGS_PER_EPOCH\",\n",
    "    \"BEST_MODEL_PATH\",\n",
    "    \"torch_default_dtype\"\n",
    "}"
   ]
  },
  {
   "cell_type": "code",
   "execution_count": 3,
   "id": "fa3f0049",
   "metadata": {
    "execution": {
     "iopub.execute_input": "2022-03-04T07:51:46.908771Z",
     "iopub.status.busy": "2022-03-04T07:51:46.906888Z",
     "iopub.status.idle": "2022-03-04T07:51:46.920446Z",
     "shell.execute_reply": "2022-03-04T07:51:46.919965Z"
    },
    "papermill": {
     "duration": 0.029869,
     "end_time": "2022-03-04T07:51:46.920547",
     "exception": false,
     "start_time": "2022-03-04T07:51:46.890678",
     "status": "completed"
    },
    "tags": [
     "parameters"
    ]
   },
   "outputs": [],
   "source": [
    "\n",
    "\n",
    "standalone_parameters = {}\n",
    "standalone_parameters[\"experiment_name\"] = \"STANDALONE PTN\"\n",
    "standalone_parameters[\"lr\"] = 0.0001\n",
    "standalone_parameters[\"device\"] = \"cuda\"\n",
    "\n",
    "standalone_parameters[\"seed\"] = 1337\n",
    "standalone_parameters[\"dataset_seed\"] = 1337\n",
    "\n",
    "\n",
    "standalone_parameters[\"num_examples_per_domain_per_label_source\"]=100\n",
    "standalone_parameters[\"num_examples_per_domain_per_label_target\"]=100\n",
    "\n",
    "standalone_parameters[\"n_shot\"] = 3\n",
    "standalone_parameters[\"n_query\"]  = 2\n",
    "standalone_parameters[\"train_k_factor\"] = 1\n",
    "standalone_parameters[\"val_k_factor\"] = 2\n",
    "standalone_parameters[\"test_k_factor\"] = 2\n",
    "\n",
    "\n",
    "standalone_parameters[\"n_epoch\"] = 100\n",
    "\n",
    "standalone_parameters[\"patience\"] = 10\n",
    "standalone_parameters[\"criteria_for_best\"] = \"target_accuracy\"\n",
    "\n",
    "standalone_parameters[\"x_transforms_source\"] = [\"unit_power\"]\n",
    "standalone_parameters[\"x_transforms_target\"] = [\"unit_power\"]\n",
    "standalone_parameters[\"episode_transforms_source\"] = []\n",
    "standalone_parameters[\"episode_transforms_target\"] = []\n",
    "\n",
    "standalone_parameters[\"torch_default_dtype\"] = \"torch.float32\" \n",
    "\n",
    "\n",
    "\n",
    "standalone_parameters[\"x_net\"] =     [\n",
    "    {\"class\": \"nnReshape\", \"kargs\": {\"shape\":[-1, 1, 2, 256]}},\n",
    "    {\"class\": \"Conv2d\", \"kargs\": { \"in_channels\":1, \"out_channels\":256, \"kernel_size\":(1,7), \"bias\":False, \"padding\":(0,3), },},\n",
    "    {\"class\": \"ReLU\", \"kargs\": {\"inplace\": True}},\n",
    "    {\"class\": \"BatchNorm2d\", \"kargs\": {\"num_features\":256}},\n",
    "\n",
    "    {\"class\": \"Conv2d\", \"kargs\": { \"in_channels\":256, \"out_channels\":80, \"kernel_size\":(2,7), \"bias\":True, \"padding\":(0,3), },},\n",
    "    {\"class\": \"ReLU\", \"kargs\": {\"inplace\": True}},\n",
    "    {\"class\": \"BatchNorm2d\", \"kargs\": {\"num_features\":80}},\n",
    "    {\"class\": \"Flatten\", \"kargs\": {}},\n",
    "\n",
    "    {\"class\": \"Linear\", \"kargs\": {\"in_features\": 80*256, \"out_features\": 256}}, # 80 units per IQ pair\n",
    "    {\"class\": \"ReLU\", \"kargs\": {\"inplace\": True}},\n",
    "    {\"class\": \"BatchNorm1d\", \"kargs\": {\"num_features\":256}},\n",
    "\n",
    "    {\"class\": \"Linear\", \"kargs\": {\"in_features\": 256, \"out_features\": 256}},\n",
    "]\n",
    "\n",
    "# Parameters relevant to results\n",
    "# These parameters will basically never need to change\n",
    "standalone_parameters[\"NUM_LOGS_PER_EPOCH\"] = 10\n",
    "standalone_parameters[\"BEST_MODEL_PATH\"] = \"./best_model.pth\"\n",
    "\n",
    "# uncomment for CORES dataset\n",
    "from steves_utils.CORES.utils import (\n",
    "    ALL_NODES,\n",
    "    ALL_NODES_MINIMUM_1000_EXAMPLES,\n",
    "    ALL_DAYS\n",
    ")\n",
    "\n",
    "\n",
    "standalone_parameters[\"labels_source\"] = ALL_NODES\n",
    "standalone_parameters[\"labels_target\"] = ALL_NODES\n",
    "\n",
    "standalone_parameters[\"domains_source\"] = [1]\n",
    "standalone_parameters[\"domains_target\"] = [2,3,4,5]\n",
    "\n",
    "standalone_parameters[\"pickle_name\"] = \"cores.stratified_ds.2022A.pkl\"\n",
    "\n",
    "\n",
    "# Uncomment these for ORACLE dataset\n",
    "# from steves_utils.ORACLE.utils_v2 import (\n",
    "#     ALL_DISTANCES_FEET,\n",
    "#     ALL_RUNS,\n",
    "#     ALL_SERIAL_NUMBERS,\n",
    "# )\n",
    "# standalone_parameters[\"labels_source\"] = ALL_SERIAL_NUMBERS\n",
    "# standalone_parameters[\"labels_target\"] = ALL_SERIAL_NUMBERS\n",
    "# standalone_parameters[\"domains_source\"] = [8,20, 38,50]\n",
    "# standalone_parameters[\"domains_target\"] = [14, 26, 32, 44, 56]\n",
    "# standalone_parameters[\"pickle_name\"] = \"oracle.frame_indexed.stratified_ds.2022A.pkl\"\n",
    "# standalone_parameters[\"num_examples_per_domain_per_label_source\"]=1000\n",
    "# standalone_parameters[\"num_examples_per_domain_per_label_target\"]=1000\n",
    "\n",
    "# Uncomment these for Metahan dataset\n",
    "# standalone_parameters[\"labels_source\"] = list(range(19))\n",
    "# standalone_parameters[\"labels_target\"] = list(range(19))\n",
    "# standalone_parameters[\"domains_source\"] = [0]\n",
    "# standalone_parameters[\"domains_target\"] = [1]\n",
    "# standalone_parameters[\"pickle_name\"] = \"metehan.stratified_ds.2022A.pkl\"\n",
    "# standalone_parameters[\"n_way\"]  = len(standalone_parameters[\"labels_source\"])\n",
    "# standalone_parameters[\"num_examples_per_domain_per_label_source\"]=200\n",
    "# standalone_parameters[\"num_examples_per_domain_per_label_target\"]=100\n",
    "\n",
    "\n",
    "standalone_parameters[\"n_way\"]  = len(standalone_parameters[\"labels_source\"])"
   ]
  },
  {
   "cell_type": "code",
   "execution_count": 4,
   "id": "0b88a148",
   "metadata": {
    "execution": {
     "iopub.execute_input": "2022-03-04T07:51:46.952104Z",
     "iopub.status.busy": "2022-03-04T07:51:46.951820Z",
     "iopub.status.idle": "2022-03-04T07:51:46.963323Z",
     "shell.execute_reply": "2022-03-04T07:51:46.962837Z"
    },
    "papermill": {
     "duration": 0.02809,
     "end_time": "2022-03-04T07:51:46.963421",
     "exception": false,
     "start_time": "2022-03-04T07:51:46.935331",
     "status": "completed"
    },
    "tags": [
     "injected-parameters"
    ]
   },
   "outputs": [],
   "source": [
    "# Parameters\n",
    "parameters = {\n",
    "    \"experiment_name\": \"nQuery_oracle.run2\",\n",
    "    \"device\": \"cuda\",\n",
    "    \"lr\": 0.001,\n",
    "    \"seed\": 1337,\n",
    "    \"dataset_seed\": 1337,\n",
    "    \"labels_source\": [\n",
    "        \"3123D52\",\n",
    "        \"3123D65\",\n",
    "        \"3123D79\",\n",
    "        \"3123D80\",\n",
    "        \"3123D54\",\n",
    "        \"3123D70\",\n",
    "        \"3123D7B\",\n",
    "        \"3123D89\",\n",
    "        \"3123D58\",\n",
    "        \"3123D76\",\n",
    "        \"3123D7D\",\n",
    "        \"3123EFE\",\n",
    "        \"3123D64\",\n",
    "        \"3123D78\",\n",
    "        \"3123D7E\",\n",
    "        \"3124E4A\",\n",
    "    ],\n",
    "    \"labels_target\": [\n",
    "        \"3123D52\",\n",
    "        \"3123D65\",\n",
    "        \"3123D79\",\n",
    "        \"3123D80\",\n",
    "        \"3123D54\",\n",
    "        \"3123D70\",\n",
    "        \"3123D7B\",\n",
    "        \"3123D89\",\n",
    "        \"3123D58\",\n",
    "        \"3123D76\",\n",
    "        \"3123D7D\",\n",
    "        \"3123EFE\",\n",
    "        \"3123D64\",\n",
    "        \"3123D78\",\n",
    "        \"3123D7E\",\n",
    "        \"3124E4A\",\n",
    "    ],\n",
    "    \"x_transforms_source\": [],\n",
    "    \"x_transforms_target\": [],\n",
    "    \"episode_transforms_source\": [],\n",
    "    \"episode_transforms_target\": [],\n",
    "    \"num_examples_per_domain_per_label_source\": 1000,\n",
    "    \"num_examples_per_domain_per_label_target\": 1000,\n",
    "    \"n_shot\": 3,\n",
    "    \"n_way\": 16,\n",
    "    \"train_k_factor\": 1,\n",
    "    \"val_k_factor\": 2,\n",
    "    \"test_k_factor\": 2,\n",
    "    \"torch_default_dtype\": \"torch.float32\",\n",
    "    \"n_epoch\": 50,\n",
    "    \"patience\": 3,\n",
    "    \"criteria_for_best\": \"target_loss\",\n",
    "    \"x_net\": [\n",
    "        {\"class\": \"nnReshape\", \"kargs\": {\"shape\": [-1, 1, 2, 256]}},\n",
    "        {\n",
    "            \"class\": \"Conv2d\",\n",
    "            \"kargs\": {\n",
    "                \"in_channels\": 1,\n",
    "                \"out_channels\": 256,\n",
    "                \"kernel_size\": [1, 7],\n",
    "                \"bias\": False,\n",
    "                \"padding\": [0, 3],\n",
    "            },\n",
    "        },\n",
    "        {\"class\": \"ReLU\", \"kargs\": {\"inplace\": True}},\n",
    "        {\"class\": \"BatchNorm2d\", \"kargs\": {\"num_features\": 256}},\n",
    "        {\n",
    "            \"class\": \"Conv2d\",\n",
    "            \"kargs\": {\n",
    "                \"in_channels\": 256,\n",
    "                \"out_channels\": 80,\n",
    "                \"kernel_size\": [2, 7],\n",
    "                \"bias\": True,\n",
    "                \"padding\": [0, 3],\n",
    "            },\n",
    "        },\n",
    "        {\"class\": \"ReLU\", \"kargs\": {\"inplace\": True}},\n",
    "        {\"class\": \"BatchNorm2d\", \"kargs\": {\"num_features\": 80}},\n",
    "        {\"class\": \"Flatten\", \"kargs\": {}},\n",
    "        {\"class\": \"Linear\", \"kargs\": {\"in_features\": 20480, \"out_features\": 256}},\n",
    "        {\"class\": \"ReLU\", \"kargs\": {\"inplace\": True}},\n",
    "        {\"class\": \"BatchNorm1d\", \"kargs\": {\"num_features\": 256}},\n",
    "        {\"class\": \"Linear\", \"kargs\": {\"in_features\": 256, \"out_features\": 256}},\n",
    "    ],\n",
    "    \"NUM_LOGS_PER_EPOCH\": 10,\n",
    "    \"BEST_MODEL_PATH\": \"./best_model.pth\",\n",
    "    \"pickle_name\": \"oracle.Run2_10kExamples_stratified_ds.2022A.pkl\",\n",
    "    \"n_query\": 5,\n",
    "    \"domains_source\": [8, 32, 50],\n",
    "    \"domains_target\": [14, 20, 26, 38, 44],\n",
    "}\n"
   ]
  },
  {
   "cell_type": "code",
   "execution_count": 5,
   "id": "8fa1cc33",
   "metadata": {
    "execution": {
     "iopub.execute_input": "2022-03-04T07:51:46.990678Z",
     "iopub.status.busy": "2022-03-04T07:51:46.990426Z",
     "iopub.status.idle": "2022-03-04T07:51:46.999846Z",
     "shell.execute_reply": "2022-03-04T07:51:46.999595Z"
    },
    "papermill": {
     "duration": 0.021245,
     "end_time": "2022-03-04T07:51:46.999900",
     "exception": false,
     "start_time": "2022-03-04T07:51:46.978655",
     "status": "completed"
    },
    "tags": []
   },
   "outputs": [],
   "source": [
    "# Set this to True if you want to run this template directly\n",
    "STANDALONE = False\n",
    "if STANDALONE:\n",
    "    print(\"parameters not injected, running with standalone_parameters\")\n",
    "    parameters = standalone_parameters\n",
    "\n",
    "if not 'parameters' in locals() and not 'parameters' in globals():\n",
    "    raise Exception(\"Parameter injection failed\")\n",
    "\n",
    "#Use an easy dict for all the parameters\n",
    "p = EasyDict(parameters)\n",
    "\n",
    "supplied_keys = set(p.keys())\n",
    "\n",
    "if  supplied_keys != required_parameters:\n",
    "    print(\"Parameters are incorrect\")\n",
    "    if len(supplied_keys - required_parameters)>0: print(\"Shouldn't have:\", str(supplied_keys - required_parameters))\n",
    "    if len(required_parameters - supplied_keys)>0: print(\"Need to have:\", str(required_parameters - supplied_keys))\n",
    "    raise RuntimeError(\"Parameters are incorrect\")\n",
    "\n"
   ]
  },
  {
   "cell_type": "code",
   "execution_count": 6,
   "id": "3a028d58",
   "metadata": {
    "execution": {
     "iopub.execute_input": "2022-03-04T07:51:47.021476Z",
     "iopub.status.busy": "2022-03-04T07:51:47.021227Z",
     "iopub.status.idle": "2022-03-04T07:51:47.034577Z",
     "shell.execute_reply": "2022-03-04T07:51:47.034357Z"
    },
    "papermill": {
     "duration": 0.025264,
     "end_time": "2022-03-04T07:51:47.034630",
     "exception": false,
     "start_time": "2022-03-04T07:51:47.009366",
     "status": "completed"
    },
    "tags": []
   },
   "outputs": [],
   "source": [
    "###################################\n",
    "# Set the RNGs and make it all deterministic\n",
    "###################################\n",
    "np.random.seed(p.seed)\n",
    "random.seed(p.seed)\n",
    "torch.manual_seed(p.seed)\n",
    "\n",
    "torch.use_deterministic_algorithms(True) "
   ]
  },
  {
   "cell_type": "code",
   "execution_count": 7,
   "id": "b691acf6",
   "metadata": {
    "execution": {
     "iopub.execute_input": "2022-03-04T07:51:47.056120Z",
     "iopub.status.busy": "2022-03-04T07:51:47.055826Z",
     "iopub.status.idle": "2022-03-04T07:51:47.066464Z",
     "shell.execute_reply": "2022-03-04T07:51:47.066207Z"
    },
    "papermill": {
     "duration": 0.022166,
     "end_time": "2022-03-04T07:51:47.066519",
     "exception": false,
     "start_time": "2022-03-04T07:51:47.044353",
     "status": "completed"
    },
    "tags": []
   },
   "outputs": [],
   "source": [
    "###########################################\n",
    "# The stratified datasets honor this\n",
    "###########################################\n",
    "torch.set_default_dtype(eval(p.torch_default_dtype))"
   ]
  },
  {
   "cell_type": "code",
   "execution_count": 8,
   "id": "b5fba671",
   "metadata": {
    "execution": {
     "iopub.execute_input": "2022-03-04T07:51:47.092989Z",
     "iopub.status.busy": "2022-03-04T07:51:47.087854Z",
     "iopub.status.idle": "2022-03-04T07:51:47.126541Z",
     "shell.execute_reply": "2022-03-04T07:51:47.126285Z"
    },
    "papermill": {
     "duration": 0.050401,
     "end_time": "2022-03-04T07:51:47.126605",
     "exception": false,
     "start_time": "2022-03-04T07:51:47.076204",
     "status": "completed"
    },
    "tags": []
   },
   "outputs": [],
   "source": [
    "###################################\n",
    "# Build the network(s)\n",
    "# Note: It's critical to do this AFTER setting the RNG\n",
    "# (This is due to the randomized initial weights)\n",
    "###################################\n",
    "x_net = build_sequential(p.x_net)"
   ]
  },
  {
   "cell_type": "code",
   "execution_count": 9,
   "id": "5d7e61cc",
   "metadata": {
    "execution": {
     "iopub.execute_input": "2022-03-04T07:51:47.148421Z",
     "iopub.status.busy": "2022-03-04T07:51:47.148166Z",
     "iopub.status.idle": "2022-03-04T07:51:47.163185Z",
     "shell.execute_reply": "2022-03-04T07:51:47.162814Z"
    },
    "papermill": {
     "duration": 0.026848,
     "end_time": "2022-03-04T07:51:47.163260",
     "exception": false,
     "start_time": "2022-03-04T07:51:47.136412",
     "status": "completed"
    },
    "tags": []
   },
   "outputs": [],
   "source": [
    "start_time_secs = time.time()"
   ]
  },
  {
   "cell_type": "code",
   "execution_count": 10,
   "id": "fd5442bc",
   "metadata": {
    "execution": {
     "iopub.execute_input": "2022-03-04T07:51:47.200207Z",
     "iopub.status.busy": "2022-03-04T07:51:47.198362Z",
     "iopub.status.idle": "2022-03-04T07:51:50.425421Z",
     "shell.execute_reply": "2022-03-04T07:51:50.424968Z"
    },
    "papermill": {
     "duration": 3.24643,
     "end_time": "2022-03-04T07:51:50.425530",
     "exception": false,
     "start_time": "2022-03-04T07:51:47.179100",
     "status": "completed"
    },
    "tags": []
   },
   "outputs": [],
   "source": [
    "###################################\n",
    "# Build the dataset\n",
    "###################################\n",
    "\n",
    "if p.x_transforms_source == []: x_transform_source = None\n",
    "else: x_transform_source = get_chained_transform(p.x_transforms_source) \n",
    "\n",
    "if p.x_transforms_target == []: x_transform_target = None\n",
    "else: x_transform_target = get_chained_transform(p.x_transforms_target)\n",
    "\n",
    "if p.episode_transforms_source == []: episode_transform_source = None\n",
    "else: raise Exception(\"episode_transform_source not implemented\")\n",
    "\n",
    "if p.episode_transforms_target == []: episode_transform_target = None\n",
    "else: raise Exception(\"episode_transform_target not implemented\")\n",
    "\n",
    "\n",
    "eaf_source = Episodic_Accessor_Factory(\n",
    "    labels=p.labels_source,\n",
    "    domains=p.domains_source,\n",
    "    num_examples_per_domain_per_label=p.num_examples_per_domain_per_label_source,\n",
    "    iterator_seed=p.seed,\n",
    "    dataset_seed=p.dataset_seed,\n",
    "    n_shot=p.n_shot,\n",
    "    n_way=p.n_way,\n",
    "    n_query=p.n_query,\n",
    "    train_val_test_k_factors=(p.train_k_factor,p.val_k_factor,p.test_k_factor),\n",
    "    pickle_path=os.path.join(get_datasets_base_path(), p.pickle_name),\n",
    "    x_transform_func=x_transform_source,\n",
    "    example_transform_func=episode_transform_source,\n",
    "    \n",
    ")\n",
    "train_original_source, val_original_source, test_original_source = eaf_source.get_train(), eaf_source.get_val(), eaf_source.get_test()\n",
    "\n",
    "\n",
    "eaf_target = Episodic_Accessor_Factory(\n",
    "    labels=p.labels_target,\n",
    "    domains=p.domains_target,\n",
    "    num_examples_per_domain_per_label=p.num_examples_per_domain_per_label_target,\n",
    "    iterator_seed=p.seed,\n",
    "    dataset_seed=p.dataset_seed,\n",
    "    n_shot=p.n_shot,\n",
    "    n_way=p.n_way,\n",
    "    n_query=p.n_query,\n",
    "    train_val_test_k_factors=(p.train_k_factor,p.val_k_factor,p.test_k_factor),\n",
    "    pickle_path=os.path.join(get_datasets_base_path(), p.pickle_name),\n",
    "    x_transform_func=x_transform_target,\n",
    "    example_transform_func=episode_transform_target,\n",
    ")\n",
    "train_original_target, val_original_target, test_original_target = eaf_target.get_train(), eaf_target.get_val(), eaf_target.get_test()\n",
    "\n",
    "\n",
    "transform_lambda = lambda ex: ex[1] # Original is (<domain>, <episode>) so we strip down to episode only\n",
    "\n",
    "train_processed_source = Lazy_Iterable_Wrapper(train_original_source, transform_lambda)\n",
    "val_processed_source   = Lazy_Iterable_Wrapper(val_original_source, transform_lambda)\n",
    "test_processed_source  = Lazy_Iterable_Wrapper(test_original_source, transform_lambda)\n",
    "\n",
    "train_processed_target = Lazy_Iterable_Wrapper(train_original_target, transform_lambda)\n",
    "val_processed_target   = Lazy_Iterable_Wrapper(val_original_target, transform_lambda)\n",
    "test_processed_target  = Lazy_Iterable_Wrapper(test_original_target, transform_lambda)\n",
    "\n",
    "datasets = EasyDict({\n",
    "    \"source\": {\n",
    "        \"original\": {\"train\":train_original_source, \"val\":val_original_source, \"test\":test_original_source},\n",
    "        \"processed\": {\"train\":train_processed_source, \"val\":val_processed_source, \"test\":test_processed_source}\n",
    "    },\n",
    "    \"target\": {\n",
    "        \"original\": {\"train\":train_original_target, \"val\":val_original_target, \"test\":test_original_target},\n",
    "        \"processed\": {\"train\":train_processed_target, \"val\":val_processed_target, \"test\":test_processed_target}\n",
    "    },\n",
    "})"
   ]
  },
  {
   "cell_type": "code",
   "execution_count": 11,
   "id": "296189d9",
   "metadata": {
    "execution": {
     "iopub.execute_input": "2022-03-04T07:51:50.463406Z",
     "iopub.status.busy": "2022-03-04T07:51:50.456116Z",
     "iopub.status.idle": "2022-03-04T07:51:53.513421Z",
     "shell.execute_reply": "2022-03-04T07:51:53.513152Z"
    },
    "papermill": {
     "duration": 3.071285,
     "end_time": "2022-03-04T07:51:53.513485",
     "exception": false,
     "start_time": "2022-03-04T07:51:50.442200",
     "status": "completed"
    },
    "tags": []
   },
   "outputs": [
    {
     "name": "stdout",
     "output_type": "stream",
     "text": [
      "Visually inspect these to see if they line up with expected values given the transforms\n",
      "x_transforms_source []\n",
      "x_transforms_target []\n",
      "Average magnitude, source: 0.004650659\n",
      "Average power, source: 2.7376645e-05\n"
     ]
    },
    {
     "name": "stdout",
     "output_type": "stream",
     "text": [
      "Average magnitude, target: 0.0030148388\n",
      "Average power, target: 1.1591603e-05\n"
     ]
    }
   ],
   "source": [
    "# Some quick unit tests on the data\n",
    "from steves_utils.transforms import get_average_power, get_average_magnitude\n",
    "\n",
    "q_x, q_y, s_x, s_y, truth = next(iter(train_processed_source))\n",
    "\n",
    "assert q_x.dtype == eval(p.torch_default_dtype)\n",
    "assert s_x.dtype == eval(p.torch_default_dtype)\n",
    "\n",
    "print(\"Visually inspect these to see if they line up with expected values given the transforms\")\n",
    "print('x_transforms_source', p.x_transforms_source)\n",
    "print('x_transforms_target', p.x_transforms_target)\n",
    "print(\"Average magnitude, source:\", get_average_magnitude(q_x[0].numpy()))\n",
    "print(\"Average power, source:\", get_average_power(q_x[0].numpy()))\n",
    "\n",
    "q_x, q_y, s_x, s_y, truth = next(iter(train_processed_target))\n",
    "print(\"Average magnitude, target:\", get_average_magnitude(q_x[0].numpy()))\n",
    "print(\"Average power, target:\", get_average_power(q_x[0].numpy()))\n"
   ]
  },
  {
   "cell_type": "code",
   "execution_count": 12,
   "id": "bbdacba1",
   "metadata": {
    "execution": {
     "iopub.execute_input": "2022-03-04T07:51:53.536838Z",
     "iopub.status.busy": "2022-03-04T07:51:53.536447Z",
     "iopub.status.idle": "2022-03-04T07:51:53.591986Z",
     "shell.execute_reply": "2022-03-04T07:51:53.591597Z"
    },
    "papermill": {
     "duration": 0.068207,
     "end_time": "2022-03-04T07:51:53.592069",
     "exception": false,
     "start_time": "2022-03-04T07:51:53.523862",
     "status": "completed"
    },
    "tags": []
   },
   "outputs": [
    {
     "name": "stdout",
     "output_type": "stream",
     "text": [
      "(2, 256)\n"
     ]
    }
   ],
   "source": [
    "###################################\n",
    "# Build the model\n",
    "###################################\n",
    "model = Steves_Prototypical_Network(x_net, device=p.device, x_shape=(2,256))\n",
    "optimizer = Adam(params=model.parameters(), lr=p.lr)"
   ]
  },
  {
   "cell_type": "code",
   "execution_count": 13,
   "id": "22b39ac5",
   "metadata": {
    "execution": {
     "iopub.execute_input": "2022-03-04T07:51:53.626073Z",
     "iopub.status.busy": "2022-03-04T07:51:53.618888Z",
     "iopub.status.idle": "2022-03-04T07:58:47.653322Z",
     "shell.execute_reply": "2022-03-04T07:58:47.653091Z"
    },
    "papermill": {
     "duration": 414.047909,
     "end_time": "2022-03-04T07:58:47.653381",
     "exception": false,
     "start_time": "2022-03-04T07:51:53.605472",
     "status": "completed"
    },
    "tags": []
   },
   "outputs": [
    {
     "name": "stdout",
     "output_type": "stream",
     "text": [
      "epoch: 1, [batch: 1 / 261], examples_per_second: 14.7951, train_label_loss: 2.2292, \n"
     ]
    },
    {
     "name": "stdout",
     "output_type": "stream",
     "text": [
      "epoch: 1, [batch: 27 / 261], examples_per_second: 886.7276, train_label_loss: 1.3573, \n"
     ]
    },
    {
     "name": "stdout",
     "output_type": "stream",
     "text": [
      "epoch: 1, [batch: 53 / 261], examples_per_second: 952.5049, train_label_loss: 1.1767, \n"
     ]
    },
    {
     "name": "stdout",
     "output_type": "stream",
     "text": [
      "epoch: 1, [batch: 79 / 261], examples_per_second: 1068.5212, train_label_loss: 1.0791, \n"
     ]
    },
    {
     "name": "stdout",
     "output_type": "stream",
     "text": [
      "epoch: 1, [batch: 105 / 261], examples_per_second: 1165.6848, train_label_loss: 1.2577, \n"
     ]
    },
    {
     "name": "stdout",
     "output_type": "stream",
     "text": [
      "epoch: 1, [batch: 131 / 261], examples_per_second: 1322.8191, train_label_loss: 1.1987, \n"
     ]
    },
    {
     "name": "stdout",
     "output_type": "stream",
     "text": [
      "epoch: 1, [batch: 157 / 261], examples_per_second: 1504.4142, train_label_loss: 1.1228, \n"
     ]
    },
    {
     "name": "stdout",
     "output_type": "stream",
     "text": [
      "epoch: 1, [batch: 183 / 261], examples_per_second: 1808.6219, train_label_loss: 1.3250, \n"
     ]
    },
    {
     "name": "stdout",
     "output_type": "stream",
     "text": [
      "epoch: 1, [batch: 209 / 261], examples_per_second: 2077.1034, train_label_loss: 1.2170, \n"
     ]
    },
    {
     "name": "stdout",
     "output_type": "stream",
     "text": [
      "epoch: 1, [batch: 235 / 261], examples_per_second: 2543.2469, train_label_loss: 1.1797, \n"
     ]
    },
    {
     "name": "stdout",
     "output_type": "stream",
     "text": [
      "=============================================================\n",
      "epoch: 1, source_val_acc_label: 0.4788, target_val_acc_label: 0.3945, source_val_label_loss: 1.5859, target_val_label_loss: 1.8014, \n",
      "=============================================================\n"
     ]
    },
    {
     "name": "stdout",
     "output_type": "stream",
     "text": [
      "New best\n"
     ]
    },
    {
     "name": "stdout",
     "output_type": "stream",
     "text": [
      "epoch: 2, [batch: 1 / 261], examples_per_second: 8.7007, train_label_loss: 1.2823, \n"
     ]
    },
    {
     "name": "stdout",
     "output_type": "stream",
     "text": [
      "epoch: 2, [batch: 27 / 261], examples_per_second: 899.5414, train_label_loss: 1.3005, \n"
     ]
    },
    {
     "name": "stdout",
     "output_type": "stream",
     "text": [
      "epoch: 2, [batch: 53 / 261], examples_per_second: 974.3835, train_label_loss: 1.2829, \n"
     ]
    },
    {
     "name": "stdout",
     "output_type": "stream",
     "text": [
      "epoch: 2, [batch: 79 / 261], examples_per_second: 1069.5943, train_label_loss: 1.2739, \n"
     ]
    },
    {
     "name": "stdout",
     "output_type": "stream",
     "text": [
      "epoch: 2, [batch: 105 / 261], examples_per_second: 1184.8706, train_label_loss: 1.3127, \n"
     ]
    },
    {
     "name": "stdout",
     "output_type": "stream",
     "text": [
      "epoch: 2, [batch: 131 / 261], examples_per_second: 1331.2226, train_label_loss: 1.5754, \n"
     ]
    },
    {
     "name": "stdout",
     "output_type": "stream",
     "text": [
      "epoch: 2, [batch: 157 / 261], examples_per_second: 1531.7363, train_label_loss: 1.1571, \n"
     ]
    },
    {
     "name": "stdout",
     "output_type": "stream",
     "text": [
      "epoch: 2, [batch: 183 / 261], examples_per_second: 1756.7142, train_label_loss: 1.2018, \n"
     ]
    },
    {
     "name": "stdout",
     "output_type": "stream",
     "text": [
      "epoch: 2, [batch: 209 / 261], examples_per_second: 2088.5040, train_label_loss: 1.2763, \n"
     ]
    },
    {
     "name": "stdout",
     "output_type": "stream",
     "text": [
      "epoch: 2, [batch: 235 / 261], examples_per_second: 2616.9171, train_label_loss: 1.1048, \n"
     ]
    },
    {
     "name": "stdout",
     "output_type": "stream",
     "text": [
      "=============================================================\n",
      "epoch: 2, source_val_acc_label: 0.4990, target_val_acc_label: 0.4046, source_val_label_loss: 1.2404, target_val_label_loss: 1.6068, \n",
      "=============================================================\n"
     ]
    },
    {
     "name": "stdout",
     "output_type": "stream",
     "text": [
      "New best\n"
     ]
    },
    {
     "name": "stdout",
     "output_type": "stream",
     "text": [
      "epoch: 3, [batch: 1 / 261], examples_per_second: 8.7156, train_label_loss: 1.1083, \n"
     ]
    },
    {
     "name": "stdout",
     "output_type": "stream",
     "text": [
      "epoch: 3, [batch: 27 / 261], examples_per_second: 891.4817, train_label_loss: 1.0571, \n"
     ]
    },
    {
     "name": "stdout",
     "output_type": "stream",
     "text": [
      "epoch: 3, [batch: 53 / 261], examples_per_second: 993.8474, train_label_loss: 1.3428, \n"
     ]
    },
    {
     "name": "stdout",
     "output_type": "stream",
     "text": [
      "epoch: 3, [batch: 79 / 261], examples_per_second: 1061.9382, train_label_loss: 0.6566, \n"
     ]
    },
    {
     "name": "stdout",
     "output_type": "stream",
     "text": [
      "epoch: 3, [batch: 105 / 261], examples_per_second: 1212.6853, train_label_loss: 0.7831, \n"
     ]
    },
    {
     "name": "stdout",
     "output_type": "stream",
     "text": [
      "epoch: 3, [batch: 131 / 261], examples_per_second: 1332.6501, train_label_loss: 0.7097, \n"
     ]
    },
    {
     "name": "stdout",
     "output_type": "stream",
     "text": [
      "epoch: 3, [batch: 157 / 261], examples_per_second: 1526.2880, train_label_loss: 1.0667, \n"
     ]
    },
    {
     "name": "stdout",
     "output_type": "stream",
     "text": [
      "epoch: 3, [batch: 183 / 261], examples_per_second: 1716.6455, train_label_loss: 1.0271, \n"
     ]
    },
    {
     "name": "stdout",
     "output_type": "stream",
     "text": [
      "epoch: 3, [batch: 209 / 261], examples_per_second: 2135.0579, train_label_loss: 1.1027, \n"
     ]
    },
    {
     "name": "stdout",
     "output_type": "stream",
     "text": [
      "epoch: 3, [batch: 235 / 261], examples_per_second: 2604.5808, train_label_loss: 0.7110, \n"
     ]
    },
    {
     "name": "stdout",
     "output_type": "stream",
     "text": [
      "=============================================================\n",
      "epoch: 3, source_val_acc_label: 0.7169, target_val_acc_label: 0.5725, source_val_label_loss: 0.7577, target_val_label_loss: 1.3880, \n",
      "=============================================================\n"
     ]
    },
    {
     "name": "stdout",
     "output_type": "stream",
     "text": [
      "New best\n"
     ]
    },
    {
     "name": "stdout",
     "output_type": "stream",
     "text": [
      "epoch: 4, [batch: 1 / 261], examples_per_second: 8.7735, train_label_loss: 0.4685, \n"
     ]
    },
    {
     "name": "stdout",
     "output_type": "stream",
     "text": [
      "epoch: 4, [batch: 27 / 261], examples_per_second: 911.6283, train_label_loss: 1.0254, \n"
     ]
    },
    {
     "name": "stdout",
     "output_type": "stream",
     "text": [
      "epoch: 4, [batch: 53 / 261], examples_per_second: 980.6617, train_label_loss: 0.4162, \n"
     ]
    },
    {
     "name": "stdout",
     "output_type": "stream",
     "text": [
      "epoch: 4, [batch: 79 / 261], examples_per_second: 1070.5548, train_label_loss: 0.6928, \n"
     ]
    },
    {
     "name": "stdout",
     "output_type": "stream",
     "text": [
      "epoch: 4, [batch: 105 / 261], examples_per_second: 1212.0070, train_label_loss: 0.9060, \n"
     ]
    },
    {
     "name": "stdout",
     "output_type": "stream",
     "text": [
      "epoch: 4, [batch: 131 / 261], examples_per_second: 1388.5854, train_label_loss: 0.7079, \n"
     ]
    },
    {
     "name": "stdout",
     "output_type": "stream",
     "text": [
      "epoch: 4, [batch: 157 / 261], examples_per_second: 1552.6155, train_label_loss: 0.7141, \n"
     ]
    },
    {
     "name": "stdout",
     "output_type": "stream",
     "text": [
      "epoch: 4, [batch: 183 / 261], examples_per_second: 1785.0606, train_label_loss: 0.8912, \n"
     ]
    },
    {
     "name": "stdout",
     "output_type": "stream",
     "text": [
      "epoch: 4, [batch: 209 / 261], examples_per_second: 2095.2381, train_label_loss: 1.1382, \n"
     ]
    },
    {
     "name": "stdout",
     "output_type": "stream",
     "text": [
      "epoch: 4, [batch: 235 / 261], examples_per_second: 2343.9098, train_label_loss: 0.3629, \n"
     ]
    },
    {
     "name": "stdout",
     "output_type": "stream",
     "text": [
      "=============================================================\n",
      "epoch: 4, source_val_acc_label: 0.7527, target_val_acc_label: 0.6066, source_val_label_loss: 0.6871, target_val_label_loss: 1.2025, \n",
      "=============================================================\n"
     ]
    },
    {
     "name": "stdout",
     "output_type": "stream",
     "text": [
      "New best\n"
     ]
    },
    {
     "name": "stdout",
     "output_type": "stream",
     "text": [
      "epoch: 5, [batch: 1 / 261], examples_per_second: 8.7482, train_label_loss: 0.7895, \n"
     ]
    },
    {
     "name": "stdout",
     "output_type": "stream",
     "text": [
      "epoch: 5, [batch: 27 / 261], examples_per_second: 895.7776, train_label_loss: 0.5437, \n"
     ]
    },
    {
     "name": "stdout",
     "output_type": "stream",
     "text": [
      "epoch: 5, [batch: 53 / 261], examples_per_second: 994.6236, train_label_loss: 0.3423, \n"
     ]
    },
    {
     "name": "stdout",
     "output_type": "stream",
     "text": [
      "epoch: 5, [batch: 79 / 261], examples_per_second: 1062.0576, train_label_loss: 0.3624, \n"
     ]
    },
    {
     "name": "stdout",
     "output_type": "stream",
     "text": [
      "epoch: 5, [batch: 105 / 261], examples_per_second: 1173.3619, train_label_loss: 0.3447, \n"
     ]
    },
    {
     "name": "stdout",
     "output_type": "stream",
     "text": [
      "epoch: 5, [batch: 131 / 261], examples_per_second: 1352.5744, train_label_loss: 0.4293, \n"
     ]
    },
    {
     "name": "stdout",
     "output_type": "stream",
     "text": [
      "epoch: 5, [batch: 157 / 261], examples_per_second: 1604.8436, train_label_loss: 0.3679, \n"
     ]
    },
    {
     "name": "stdout",
     "output_type": "stream",
     "text": [
      "epoch: 5, [batch: 183 / 261], examples_per_second: 1670.6882, train_label_loss: 0.5557, \n"
     ]
    },
    {
     "name": "stdout",
     "output_type": "stream",
     "text": [
      "epoch: 5, [batch: 209 / 261], examples_per_second: 2064.4694, train_label_loss: 0.6482, \n"
     ]
    },
    {
     "name": "stdout",
     "output_type": "stream",
     "text": [
      "epoch: 5, [batch: 235 / 261], examples_per_second: 2562.1781, train_label_loss: 0.5363, \n"
     ]
    },
    {
     "name": "stdout",
     "output_type": "stream",
     "text": [
      "=============================================================\n",
      "epoch: 5, source_val_acc_label: 0.7709, target_val_acc_label: 0.6230, source_val_label_loss: 0.6087, target_val_label_loss: 1.2757, \n",
      "=============================================================\n"
     ]
    },
    {
     "name": "stdout",
     "output_type": "stream",
     "text": [
      "epoch: 6, [batch: 1 / 261], examples_per_second: 8.7230, train_label_loss: 0.6116, \n"
     ]
    },
    {
     "name": "stdout",
     "output_type": "stream",
     "text": [
      "epoch: 6, [batch: 27 / 261], examples_per_second: 899.6014, train_label_loss: 0.4609, \n"
     ]
    },
    {
     "name": "stdout",
     "output_type": "stream",
     "text": [
      "epoch: 6, [batch: 53 / 261], examples_per_second: 980.5967, train_label_loss: 0.4004, \n"
     ]
    },
    {
     "name": "stdout",
     "output_type": "stream",
     "text": [
      "epoch: 6, [batch: 79 / 261], examples_per_second: 1071.5386, train_label_loss: 0.4733, \n"
     ]
    },
    {
     "name": "stdout",
     "output_type": "stream",
     "text": [
      "epoch: 6, [batch: 105 / 261], examples_per_second: 1185.6790, train_label_loss: 0.5569, \n"
     ]
    },
    {
     "name": "stdout",
     "output_type": "stream",
     "text": [
      "epoch: 6, [batch: 131 / 261], examples_per_second: 1377.9713, train_label_loss: 0.5442, \n"
     ]
    },
    {
     "name": "stdout",
     "output_type": "stream",
     "text": [
      "epoch: 6, [batch: 157 / 261], examples_per_second: 1506.9729, train_label_loss: 0.4275, \n"
     ]
    },
    {
     "name": "stdout",
     "output_type": "stream",
     "text": [
      "epoch: 6, [batch: 183 / 261], examples_per_second: 1730.8972, train_label_loss: 0.3370, \n"
     ]
    },
    {
     "name": "stdout",
     "output_type": "stream",
     "text": [
      "epoch: 6, [batch: 209 / 261], examples_per_second: 2068.7732, train_label_loss: 0.5147, \n"
     ]
    },
    {
     "name": "stdout",
     "output_type": "stream",
     "text": [
      "epoch: 6, [batch: 235 / 261], examples_per_second: 2469.6791, train_label_loss: 0.3522, \n"
     ]
    },
    {
     "name": "stdout",
     "output_type": "stream",
     "text": [
      "=============================================================\n",
      "epoch: 6, source_val_acc_label: 0.7737, target_val_acc_label: 0.6180, source_val_label_loss: 0.6457, target_val_label_loss: 1.4218, \n",
      "=============================================================\n"
     ]
    },
    {
     "name": "stdout",
     "output_type": "stream",
     "text": [
      "epoch: 7, [batch: 1 / 261], examples_per_second: 8.7167, train_label_loss: 0.6334, \n"
     ]
    },
    {
     "name": "stdout",
     "output_type": "stream",
     "text": [
      "epoch: 7, [batch: 27 / 261], examples_per_second: 903.3733, train_label_loss: 0.3115, \n"
     ]
    },
    {
     "name": "stdout",
     "output_type": "stream",
     "text": [
      "epoch: 7, [batch: 53 / 261], examples_per_second: 967.5270, train_label_loss: 0.3400, \n"
     ]
    },
    {
     "name": "stdout",
     "output_type": "stream",
     "text": [
      "epoch: 7, [batch: 79 / 261], examples_per_second: 1068.5484, train_label_loss: 0.1991, \n"
     ]
    },
    {
     "name": "stdout",
     "output_type": "stream",
     "text": [
      "epoch: 7, [batch: 105 / 261], examples_per_second: 1214.9898, train_label_loss: 0.5305, \n"
     ]
    },
    {
     "name": "stdout",
     "output_type": "stream",
     "text": [
      "epoch: 7, [batch: 131 / 261], examples_per_second: 1368.6542, train_label_loss: 0.6257, \n"
     ]
    },
    {
     "name": "stdout",
     "output_type": "stream",
     "text": [
      "epoch: 7, [batch: 157 / 261], examples_per_second: 1458.2636, train_label_loss: 0.5130, \n"
     ]
    },
    {
     "name": "stdout",
     "output_type": "stream",
     "text": [
      "epoch: 7, [batch: 183 / 261], examples_per_second: 1750.0447, train_label_loss: 0.2719, \n"
     ]
    },
    {
     "name": "stdout",
     "output_type": "stream",
     "text": [
      "epoch: 7, [batch: 209 / 261], examples_per_second: 2041.1083, train_label_loss: 0.4727, \n"
     ]
    },
    {
     "name": "stdout",
     "output_type": "stream",
     "text": [
      "epoch: 7, [batch: 235 / 261], examples_per_second: 2650.5408, train_label_loss: 0.2193, \n"
     ]
    },
    {
     "name": "stdout",
     "output_type": "stream",
     "text": [
      "=============================================================\n",
      "epoch: 7, source_val_acc_label: 0.7810, target_val_acc_label: 0.6282, source_val_label_loss: 0.5985, target_val_label_loss: 1.3040, \n",
      "=============================================================\n"
     ]
    },
    {
     "name": "stdout",
     "output_type": "stream",
     "text": [
      "epoch: 8, [batch: 1 / 261], examples_per_second: 8.7379, train_label_loss: 0.2460, \n"
     ]
    },
    {
     "name": "stdout",
     "output_type": "stream",
     "text": [
      "epoch: 8, [batch: 27 / 261], examples_per_second: 900.4814, train_label_loss: 0.4810, \n"
     ]
    },
    {
     "name": "stdout",
     "output_type": "stream",
     "text": [
      "epoch: 8, [batch: 53 / 261], examples_per_second: 991.1926, train_label_loss: 0.4221, \n"
     ]
    },
    {
     "name": "stdout",
     "output_type": "stream",
     "text": [
      "epoch: 8, [batch: 79 / 261], examples_per_second: 1086.1388, train_label_loss: 0.1932, \n"
     ]
    },
    {
     "name": "stdout",
     "output_type": "stream",
     "text": [
      "epoch: 8, [batch: 105 / 261], examples_per_second: 1190.7551, train_label_loss: 0.4984, \n"
     ]
    },
    {
     "name": "stdout",
     "output_type": "stream",
     "text": [
      "epoch: 8, [batch: 131 / 261], examples_per_second: 1360.9166, train_label_loss: 0.1866, \n"
     ]
    },
    {
     "name": "stdout",
     "output_type": "stream",
     "text": [
      "epoch: 8, [batch: 157 / 261], examples_per_second: 1521.6653, train_label_loss: 0.4194, \n"
     ]
    },
    {
     "name": "stdout",
     "output_type": "stream",
     "text": [
      "epoch: 8, [batch: 183 / 261], examples_per_second: 1826.6904, train_label_loss: 0.4052, \n"
     ]
    },
    {
     "name": "stdout",
     "output_type": "stream",
     "text": [
      "epoch: 8, [batch: 209 / 261], examples_per_second: 2144.8326, train_label_loss: 0.5943, \n"
     ]
    },
    {
     "name": "stdout",
     "output_type": "stream",
     "text": [
      "epoch: 8, [batch: 235 / 261], examples_per_second: 2320.2031, train_label_loss: 0.5290, \n"
     ]
    },
    {
     "name": "stdout",
     "output_type": "stream",
     "text": [
      "=============================================================\n",
      "epoch: 8, source_val_acc_label: 0.7828, target_val_acc_label: 0.6324, source_val_label_loss: 0.6091, target_val_label_loss: 1.2854, \n",
      "=============================================================\n"
     ]
    },
    {
     "name": "stdout",
     "output_type": "stream",
     "text": [
      "Patience (3) exhausted\n"
     ]
    }
   ],
   "source": [
    "###################################\n",
    "# train\n",
    "###################################\n",
    "jig = PTN_Train_Eval_Test_Jig(model, p.BEST_MODEL_PATH, p.device)\n",
    "\n",
    "jig.train(\n",
    "    train_iterable=datasets.source.processed.train,\n",
    "    source_val_iterable=datasets.source.processed.val,\n",
    "    target_val_iterable=datasets.target.processed.val,\n",
    "    num_epochs=p.n_epoch,\n",
    "    num_logs_per_epoch=p.NUM_LOGS_PER_EPOCH,\n",
    "    patience=p.patience,\n",
    "    optimizer=optimizer,\n",
    "    criteria_for_best=p.criteria_for_best,\n",
    ")"
   ]
  },
  {
   "cell_type": "code",
   "execution_count": 14,
   "id": "31e8fabf",
   "metadata": {
    "execution": {
     "iopub.execute_input": "2022-03-04T07:58:47.709400Z",
     "iopub.status.busy": "2022-03-04T07:58:47.709140Z",
     "iopub.status.idle": "2022-03-04T07:58:47.725878Z",
     "shell.execute_reply": "2022-03-04T07:58:47.725611Z"
    },
    "papermill": {
     "duration": 0.046017,
     "end_time": "2022-03-04T07:58:47.725940",
     "exception": false,
     "start_time": "2022-03-04T07:58:47.679923",
     "status": "completed"
    },
    "tags": []
   },
   "outputs": [],
   "source": [
    "total_experiment_time_secs = time.time() - start_time_secs"
   ]
  },
  {
   "cell_type": "code",
   "execution_count": 15,
   "id": "87b9595b",
   "metadata": {
    "execution": {
     "iopub.execute_input": "2022-03-04T07:58:47.788194Z",
     "iopub.status.busy": "2022-03-04T07:58:47.787914Z",
     "iopub.status.idle": "2022-03-04T08:00:12.443469Z",
     "shell.execute_reply": "2022-03-04T08:00:12.443053Z"
    },
    "papermill": {
     "duration": 84.686449,
     "end_time": "2022-03-04T08:00:12.443583",
     "exception": false,
     "start_time": "2022-03-04T07:58:47.757134",
     "status": "completed"
    },
    "tags": []
   },
   "outputs": [],
   "source": [
    "###################################\n",
    "# Evaluate the model\n",
    "###################################\n",
    "source_test_label_accuracy, source_test_label_loss = jig.test(datasets.source.processed.test)\n",
    "target_test_label_accuracy, target_test_label_loss = jig.test(datasets.target.processed.test)\n",
    "\n",
    "source_val_label_accuracy, source_val_label_loss = jig.test(datasets.source.processed.val)\n",
    "target_val_label_accuracy, target_val_label_loss = jig.test(datasets.target.processed.val)\n",
    "\n",
    "history = jig.get_history()\n",
    "\n",
    "total_epochs_trained = len(history[\"epoch_indices\"])\n",
    "\n",
    "val_dl = Iterable_Aggregator((datasets.source.original.val,datasets.target.original.val))\n",
    "\n",
    "confusion = ptn_confusion_by_domain_over_dataloader(model, p.device, val_dl)\n",
    "per_domain_accuracy = per_domain_accuracy_from_confusion(confusion)\n",
    "\n",
    "# Add a key to per_domain_accuracy for if it was a source domain\n",
    "for domain, accuracy in per_domain_accuracy.items():\n",
    "    per_domain_accuracy[domain] = {\n",
    "        \"accuracy\": accuracy,\n",
    "        \"source?\": domain in p.domains_source\n",
    "    }\n",
    "\n",
    "# Do an independent accuracy assesment JUST TO BE SURE!\n",
    "# _source_test_label_accuracy = independent_accuracy_assesment(model, datasets.source.processed.test, p.device)\n",
    "# _target_test_label_accuracy = independent_accuracy_assesment(model, datasets.target.processed.test, p.device)\n",
    "# _source_val_label_accuracy = independent_accuracy_assesment(model, datasets.source.processed.val, p.device)\n",
    "# _target_val_label_accuracy = independent_accuracy_assesment(model, datasets.target.processed.val, p.device)\n",
    "\n",
    "# assert(_source_test_label_accuracy == source_test_label_accuracy)\n",
    "# assert(_target_test_label_accuracy == target_test_label_accuracy)\n",
    "# assert(_source_val_label_accuracy == source_val_label_accuracy)\n",
    "# assert(_target_val_label_accuracy == target_val_label_accuracy)\n",
    "\n",
    "experiment = {\n",
    "    \"experiment_name\": p.experiment_name,\n",
    "    \"parameters\": dict(p),\n",
    "    \"results\": {\n",
    "        \"source_test_label_accuracy\": source_test_label_accuracy,\n",
    "        \"source_test_label_loss\": source_test_label_loss,\n",
    "        \"target_test_label_accuracy\": target_test_label_accuracy,\n",
    "        \"target_test_label_loss\": target_test_label_loss,\n",
    "        \"source_val_label_accuracy\": source_val_label_accuracy,\n",
    "        \"source_val_label_loss\": source_val_label_loss,\n",
    "        \"target_val_label_accuracy\": target_val_label_accuracy,\n",
    "        \"target_val_label_loss\": target_val_label_loss,\n",
    "        \"total_epochs_trained\": total_epochs_trained,\n",
    "        \"total_experiment_time_secs\": total_experiment_time_secs,\n",
    "        \"confusion\": confusion,\n",
    "        \"per_domain_accuracy\": per_domain_accuracy,\n",
    "    },\n",
    "    \"history\": history,\n",
    "    \"dataset_metrics\": get_dataset_metrics(datasets, \"ptn\"),\n",
    "}"
   ]
  },
  {
   "cell_type": "code",
   "execution_count": 16,
   "id": "54a21829",
   "metadata": {
    "execution": {
     "iopub.execute_input": "2022-03-04T08:00:12.505161Z",
     "iopub.status.busy": "2022-03-04T08:00:12.504112Z",
     "iopub.status.idle": "2022-03-04T08:00:12.695285Z",
     "shell.execute_reply": "2022-03-04T08:00:12.694865Z"
    },
    "papermill": {
     "duration": 0.219429,
     "end_time": "2022-03-04T08:00:12.695378",
     "exception": false,
     "start_time": "2022-03-04T08:00:12.475949",
     "status": "completed"
    },
    "tags": []
   },
   "outputs": [
    {
     "data": {
      "image/png": "[encoded data removed]",
      "text/plain": [
       "<Figure size 1080x504 with 1 Axes>"
      ]
     },
     "metadata": {
      "needs_background": "light"
     },
     "output_type": "display_data"
    }
   ],
   "source": [
    "ax = get_loss_curve(experiment)\n",
    "plt.show()"
   ]
  },
  {
   "cell_type": "code",
   "execution_count": 17,
   "id": "fd8a0f60",
   "metadata": {
    "execution": {
     "iopub.execute_input": "2022-03-04T08:00:12.763001Z",
     "iopub.status.busy": "2022-03-04T08:00:12.761420Z",
     "iopub.status.idle": "2022-03-04T08:00:13.007629Z",
     "shell.execute_reply": "2022-03-04T08:00:13.008031Z"
    },
    "papermill": {
     "duration": 0.283392,
     "end_time": "2022-03-04T08:00:13.008151",
     "exception": false,
     "start_time": "2022-03-04T08:00:12.724759",
     "status": "completed"
    },
    "tags": []
   },
   "outputs": [
    {
     "data": {
      "text/plain": [
       "<matplotlib.axes._subplots.AxesSubplot at 0x7ff4683dd0a0>"
      ]
     },
     "execution_count": 17,
     "metadata": {},
     "output_type": "execute_result"
    },
    {
     "data": {
      "image/png": "[encoded data removed]",
      "text/plain": [
       "<Figure size 1080x504 with 1 Axes>"
      ]
     },
     "metadata": {
      "needs_background": "light"
     },
     "output_type": "display_data"
    }
   ],
   "source": [
    "get_results_table(experiment)"
   ]
  },
  {
   "cell_type": "code",
   "execution_count": 18,
   "id": "cf8dc689",
   "metadata": {
    "execution": {
     "iopub.execute_input": "2022-03-04T08:00:13.074472Z",
     "iopub.status.busy": "2022-03-04T08:00:13.073739Z",
     "iopub.status.idle": "2022-03-04T08:00:13.247482Z",
     "shell.execute_reply": "2022-03-04T08:00:13.247839Z"
    },
    "papermill": {
     "duration": 0.204799,
     "end_time": "2022-03-04T08:00:13.247948",
     "exception": false,
     "start_time": "2022-03-04T08:00:13.043149",
     "status": "completed"
    },
    "tags": []
   },
   "outputs": [
    {
     "data": {
      "text/plain": [
       "<matplotlib.axes._subplots.AxesSubplot at 0x7ff4682eb280>"
      ]
     },
     "execution_count": 18,
     "metadata": {},
     "output_type": "execute_result"
    },
    {
     "data": {
      "image/png": "[encoded data removed]",
      "text/plain": [
       "<Figure size 1080x504 with 1 Axes>"
      ]
     },
     "metadata": {
      "needs_background": "light"
     },
     "output_type": "display_data"
    }
   ],
   "source": [
    "get_domain_accuracies(experiment)"
   ]
  },
  {
   "cell_type": "code",
   "execution_count": 19,
   "id": "a74ae082",
   "metadata": {
    "execution": {
     "iopub.execute_input": "2022-03-04T08:00:13.315273Z",
     "iopub.status.busy": "2022-03-04T08:00:13.315015Z",
     "iopub.status.idle": "2022-03-04T08:00:13.326894Z",
     "shell.execute_reply": "2022-03-04T08:00:13.327192Z"
    },
    "papermill": {
     "duration": 0.044724,
     "end_time": "2022-03-04T08:00:13.327304",
     "exception": false,
     "start_time": "2022-03-04T08:00:13.282580",
     "status": "completed"
    },
    "tags": []
   },
   "outputs": [
    {
     "name": "stdout",
     "output_type": "stream",
     "text": [
      "Source Test Label Accuracy: 0.7579861111111111 Target Test Label Accuracy: 0.6045138888888889\n",
      "Source Val Label Accuracy: 0.752662037037037 Target Val Label Accuracy: 0.6065972222222222\n"
     ]
    }
   ],
   "source": [
    "print(\"Source Test Label Accuracy:\", experiment[\"results\"][\"source_test_label_accuracy\"], \"Target Test Label Accuracy:\", experiment[\"results\"][\"target_test_label_accuracy\"])\n",
    "print(\"Source Val Label Accuracy:\", experiment[\"results\"][\"source_val_label_accuracy\"], \"Target Val Label Accuracy:\", experiment[\"results\"][\"target_val_label_accuracy\"])"
   ]
  },
  {
   "cell_type": "code",
   "execution_count": 20,
   "id": "dacca602",
   "metadata": {
    "execution": {
     "iopub.execute_input": "2022-03-04T08:00:13.397282Z",
     "iopub.status.busy": "2022-03-04T08:00:13.397013Z",
     "iopub.status.idle": "2022-03-04T08:00:13.409748Z",
     "shell.execute_reply": "2022-03-04T08:00:13.409292Z"
    },
    "papermill": {
     "duration": 0.046218,
     "end_time": "2022-03-04T08:00:13.409838",
     "exception": false,
     "start_time": "2022-03-04T08:00:13.363620",
     "status": "completed"
    },
    "tags": [
     "experiment_json"
    ]
   },
   "outputs": [
    {
     "data": {
      "text/plain": [
       "'{\"experiment_name\": \"nQuery_oracle.run2\", \"parameters\": {\"experiment_name\": \"nQuery_oracle.run2\", \"device\": \"cuda\", \"lr\": 0.001, \"seed\": 1337, \"dataset_seed\": 1337, \"labels_source\": [\"3123D52\", \"3123D65\", \"3123D79\", \"3123D80\", \"3123D54\", \"3123D70\", \"3123D7B\", \"3123D89\", \"3123D58\", \"3123D76\", \"3123D7D\", \"3123EFE\", \"3123D64\", \"3123D78\", \"3123D7E\", \"3124E4A\"], \"labels_target\": [\"3123D52\", \"3123D65\", \"3123D79\", \"3123D80\", \"3123D54\", \"3123D70\", \"3123D7B\", \"3123D89\", \"3123D58\", \"3123D76\", \"3123D7D\", \"3123EFE\", \"3123D64\", \"3123D78\", \"3123D7E\", \"3124E4A\"], \"x_transforms_source\": [], \"x_transforms_target\": [], \"episode_transforms_source\": [], \"episode_transforms_target\": [], \"num_examples_per_domain_per_label_source\": 1000, \"num_examples_per_domain_per_label_target\": 1000, \"n_shot\": 3, \"n_way\": 16, \"train_k_factor\": 1, \"val_k_factor\": 2, \"test_k_factor\": 2, \"torch_default_dtype\": \"torch.float32\", \"n_epoch\": 50, \"patience\": 3, \"criteria_for_best\": \"target_loss\", \"x_net\": [{\"class\": \"nnReshape\", \"kargs\": {\"shape\": [-1, 1, 2, 256]}}, {\"class\": \"Conv2d\", \"kargs\": {\"in_channels\": 1, \"out_channels\": 256, \"kernel_size\": [1, 7], \"bias\": false, \"padding\": [0, 3]}}, {\"class\": \"ReLU\", \"kargs\": {\"inplace\": true}}, {\"class\": \"BatchNorm2d\", \"kargs\": {\"num_features\": 256}}, {\"class\": \"Conv2d\", \"kargs\": {\"in_channels\": 256, \"out_channels\": 80, \"kernel_size\": [2, 7], \"bias\": true, \"padding\": [0, 3]}}, {\"class\": \"ReLU\", \"kargs\": {\"inplace\": true}}, {\"class\": \"BatchNorm2d\", \"kargs\": {\"num_features\": 80}}, {\"class\": \"Flatten\", \"kargs\": {}}, {\"class\": \"Linear\", \"kargs\": {\"in_features\": 20480, \"out_features\": 256}}, {\"class\": \"ReLU\", \"kargs\": {\"inplace\": true}}, {\"class\": \"BatchNorm1d\", \"kargs\": {\"num_features\": 256}}, {\"class\": \"Linear\", \"kargs\": {\"in_features\": 256, \"out_features\": 256}}], \"NUM_LOGS_PER_EPOCH\": 10, \"BEST_MODEL_PATH\": \"./best_model.pth\", \"pickle_name\": \"oracle.Run2_10kExamples_stratified_ds.2022A.pkl\", \"n_query\": 5, \"domains_source\": [8, 32, 50], \"domains_target\": [14, 20, 26, 38, 44]}, \"results\": {\"source_test_label_accuracy\": 0.7579861111111111, \"source_test_label_loss\": 0.6693941950798035, \"target_test_label_accuracy\": 0.6045138888888889, \"target_test_label_loss\": 1.168934941291809, \"source_val_label_accuracy\": 0.752662037037037, \"source_val_label_loss\": 0.6871128082275391, \"target_val_label_accuracy\": 0.6065972222222222, \"target_val_label_loss\": 1.2025066614151, \"total_epochs_trained\": 8, \"total_experiment_time_secs\": 420.5627565383911, \"confusion\": {\"8\": {\"15\": {\"15\": 155, \"2\": 16, \"12\": 9}, \"3\": {\"3\": 180}, \"6\": {\"6\": 70, \"11\": 11, \"14\": 52, \"8\": 42, \"4\": 4, \"1\": 1}, \"1\": {\"13\": 14, \"5\": 13, \"1\": 91, \"4\": 25, \"10\": 8, \"14\": 12, \"7\": 13, \"6\": 4}, \"8\": {\"8\": 96, \"6\": 35, \"11\": 36, \"14\": 6, \"4\": 7}, \"10\": {\"10\": 68, \"13\": 49, \"7\": 3, \"5\": 58, \"1\": 2}, \"9\": {\"9\": 180}, \"13\": {\"7\": 8, \"13\": 126, \"10\": 37, \"5\": 7, \"11\": 1, \"1\": 1}, \"12\": {\"12\": 151, \"15\": 14, \"2\": 15}, \"5\": {\"5\": 86, \"13\": 26, \"1\": 35, \"10\": 30, \"4\": 1, \"7\": 2}, \"0\": {\"0\": 180}, \"2\": {\"2\": 150, \"15\": 12, \"12\": 18}, \"11\": {\"11\": 71, \"7\": 39, \"12\": 5, \"8\": 35, \"13\": 4, \"6\": 18, \"4\": 8}, \"14\": {\"6\": 46, \"4\": 7, \"14\": 109, \"8\": 12, \"1\": 5, \"11\": 1}, \"7\": {\"7\": 117, \"5\": 2, \"1\": 9, \"4\": 36, \"11\": 5, \"13\": 6, \"10\": 5}, \"4\": {\"6\": 7, \"1\": 33, \"4\": 68, \"7\": 53, \"11\": 8, \"14\": 3, \"8\": 6, \"5\": 2}}, \"32\": {\"12\": {\"12\": 179, \"9\": 1}, \"13\": {\"13\": 120, \"11\": 26, \"3\": 31, \"4\": 3}, \"1\": {\"1\": 180}, \"4\": {\"4\": 130, \"11\": 41, \"0\": 6, \"3\": 2, \"13\": 1}, \"9\": {\"9\": 178, \"12\": 1, \"11\": 1}, \"7\": {\"7\": 79, \"2\": 23, \"15\": 5, \"8\": 40, \"0\": 25, \"14\": 7, \"5\": 1}, \"8\": {\"7\": 35, \"15\": 1, \"8\": 121, \"0\": 18, \"2\": 5}, \"14\": {\"14\": 74, \"2\": 83, \"0\": 7, \"7\": 11, \"5\": 5}, \"3\": {\"3\": 165, \"11\": 4, \"13\": 7, \"4\": 4}, \"2\": {\"2\": 103, \"0\": 16, \"7\": 28, \"14\": 33}, \"0\": {\"2\": 17, \"8\": 31, \"0\": 86, \"7\": 30, \"14\": 7, \"4\": 8, \"11\": 1}, \"5\": {\"5\": 155, \"14\": 4, \"2\": 1, \"15\": 19, \"7\": 1}, \"10\": {\"10\": 179, \"12\": 1}, \"6\": {\"6\": 180}, \"11\": {\"11\": 58, \"4\": 70, \"13\": 46, \"14\": 1, \"3\": 2, \"0\": 3}, \"15\": {\"15\": 143, \"5\": 34, \"7\": 2, \"8\": 1}}, \"50\": {\"3\": {\"3\": 180}, \"13\": {\"13\": 175, \"8\": 3, \"1\": 2}, \"15\": {\"15\": 145, \"6\": 15, \"4\": 1, \"9\": 10, \"12\": 7, \"5\": 2}, \"0\": {\"0\": 138, \"2\": 31, \"10\": 11}, \"12\": {\"12\": 142, \"15\": 8, \"11\": 18, \"9\": 10, \"6\": 2}, \"5\": {\"5\": 99, \"4\": 37, \"6\": 29, \"7\": 15}, \"4\": {\"4\": 120, \"5\": 43, \"15\": 5, \"7\": 10, \"6\": 2}, \"10\": {\"0\": 13, \"10\": 161, \"13\": 6}, \"7\": {\"5\": 7, \"7\": 164, \"4\": 8, \"3\": 1}, \"1\": {\"13\": 3, \"1\": 174, \"11\": 3}, \"14\": {\"14\": 179, \"2\": 1}, \"11\": {\"11\": 152, \"12\": 24, \"1\": 4}, \"2\": {\"2\": 167, \"0\": 8, \"14\": 5}, \"6\": {\"6\": 145, \"15\": 15, \"5\": 18, \"4\": 2}, \"8\": {\"8\": 180}, \"9\": {\"15\": 21, \"9\": 154, \"12\": 5}}, \"14\": {\"15\": {\"15\": 180}, \"3\": {\"3\": 147, \"8\": 1, \"2\": 6, \"7\": 5, \"6\": 18, \"14\": 3}, \"6\": {\"6\": 96, \"13\": 65, \"3\": 15, \"7\": 4}, \"1\": {\"1\": 180}, \"8\": {\"8\": 93, \"0\": 23, \"10\": 62, \"4\": 1, \"12\": 1}, \"10\": {\"8\": 48, \"10\": 63, \"4\": 8, \"0\": 34, \"3\": 13, \"5\": 4, \"9\": 1, \"14\": 6, \"12\": 3}, \"9\": {\"9\": 174, \"0\": 6}, \"13\": {\"13\": 118, \"6\": 62}, \"12\": {\"8\": 27, \"9\": 29, \"12\": 48, \"3\": 12, \"11\": 7, \"1\": 7, \"15\": 39, \"0\": 4, \"4\": 4, \"10\": 2, \"6\": 1}, \"5\": {\"5\": 87, \"14\": 41, \"10\": 14, \"2\": 27, \"7\": 2, \"0\": 4, \"4\": 4, \"8\": 1}, \"0\": {\"4\": 38, \"10\": 27, \"0\": 99, \"8\": 10, \"9\": 2, \"5\": 4}, \"2\": {\"7\": 36, \"2\": 47, \"5\": 56, \"14\": 27, \"4\": 2, \"3\": 8, \"0\": 1, \"6\": 2, \"10\": 1}, \"11\": {\"11\": 180}, \"14\": {\"5\": 67, \"14\": 55, \"7\": 13, \"2\": 34, \"3\": 4, \"8\": 2, \"10\": 5}, \"7\": {\"2\": 30, \"7\": 125, \"14\": 9, \"6\": 6, \"5\": 1, \"3\": 6, \"13\": 3}, \"4\": {\"4\": 145, \"0\": 29, \"5\": 4, \"2\": 2}}, \"38\": {\"12\": {\"5\": 62, \"9\": 11, \"12\": 90, \"14\": 3, \"8\": 13, \"2\": 1}, \"13\": {\"13\": 111, \"10\": 36, \"4\": 4, \"3\": 29}, \"1\": {\"1\": 150, \"15\": 30}, \"4\": {\"4\": 119, \"10\": 49, \"3\": 9, \"7\": 1, \"0\": 1, \"13\": 1}, \"9\": {\"9\": 152, \"5\": 14, \"12\": 12, \"8\": 2}, \"7\": {\"7\": 153, \"0\": 20, \"14\": 6, \"4\": 1}, \"8\": {\"8\": 142, \"9\": 7, \"5\": 21, \"12\": 7, \"0\": 2, \"14\": 1}, \"14\": {\"14\": 95, \"10\": 4, \"2\": 60, \"7\": 9, \"8\": 5, \"12\": 3, \"5\": 2, \"4\": 1, \"13\": 1}, \"3\": {\"13\": 35, \"4\": 21, \"3\": 68, \"10\": 56}, \"2\": {\"2\": 157, \"14\": 23}, \"0\": {\"0\": 150, \"7\": 30}, \"5\": {\"5\": 36, \"12\": 74, \"8\": 50, \"9\": 19, \"0\": 1}, \"10\": {\"3\": 27, \"10\": 94, \"13\": 12, \"4\": 47}, \"6\": {\"6\": 163, \"15\": 15, \"1\": 2}, \"11\": {\"11\": 180}, \"15\": {\"1\": 45, \"15\": 100, \"6\": 31, \"12\": 1, \"5\": 3}}, \"20\": {\"13\": {\"13\": 73, \"10\": 4, \"12\": 71, \"7\": 2, \"4\": 7, \"15\": 10, \"5\": 2, \"3\": 4, \"9\": 5, \"2\": 2}, \"9\": {\"2\": 29, \"7\": 6, \"1\": 6, \"3\": 22, \"15\": 38, \"9\": 27, \"5\": 24, \"14\": 3, \"4\": 16, \"13\": 6, \"8\": 2, \"6\": 1}, \"12\": {\"12\": 81, \"13\": 64, \"10\": 11, \"15\": 9, \"7\": 8, \"4\": 4, \"3\": 3}, \"8\": {\"8\": 61, \"11\": 58, \"14\": 49, \"0\": 8, \"1\": 2, \"7\": 1, \"5\": 1}, \"4\": {\"5\": 8, \"4\": 31, \"3\": 24, \"12\": 11, \"10\": 4, \"9\": 32, \"2\": 12, \"15\": 25, \"7\": 22, \"6\": 4, \"13\": 6, \"1\": 1}, \"14\": {\"14\": 100, \"8\": 49, \"11\": 18, \"5\": 6, \"2\": 2, \"7\": 3, \"1\": 2}, \"6\": {\"7\": 23, \"6\": 118, \"10\": 28, \"4\": 4, \"3\": 6, \"9\": 1}, \"2\": {\"5\": 39, \"2\": 33, \"4\": 18, \"9\": 28, \"3\": 16, \"1\": 13, \"15\": 18, \"7\": 10, \"14\": 3, \"10\": 2}, \"1\": {\"4\": 1, \"2\": 19, \"1\": 101, \"0\": 3, \"5\": 32, \"9\": 7, \"14\": 2, \"11\": 2, \"15\": 9, \"3\": 1, \"8\": 2, \"13\": 1}, \"5\": {\"5\": 44, \"2\": 20, \"1\": 31, \"3\": 16, \"9\": 23, \"4\": 11, \"14\": 4, \"15\": 21, \"11\": 2, \"0\": 2, \"8\": 3, \"7\": 3}, \"7\": {\"10\": 20, \"5\": 6, \"7\": 49, \"6\": 21, \"12\": 5, \"9\": 15, \"4\": 28, \"2\": 5, \"3\": 21, \"13\": 7, \"15\": 2, \"14\": 1}, \"10\": {\"10\": 101, \"6\": 35, \"12\": 11, \"7\": 17, \"4\": 2, \"3\": 6, \"13\": 8}, \"11\": {\"11\": 80, \"8\": 48, \"0\": 38, \"14\": 13, \"5\": 1}, \"0\": {\"0\": 119, \"11\": 32, \"8\": 8, \"5\": 1, \"1\": 15, \"14\": 5}, \"15\": {\"15\": 53, \"1\": 13, \"2\": 26, \"4\": 13, \"12\": 6, \"3\": 15, \"5\": 11, \"9\": 33, \"7\": 3, \"13\": 7}, \"3\": {\"5\": 15, \"7\": 22, \"14\": 3, \"2\": 23, \"15\": 17, \"6\": 3, \"1\": 7, \"9\": 26, \"12\": 1, \"4\": 37, \"3\": 25, \"13\": 1}}, \"44\": {\"15\": {\"15\": 127, \"5\": 39, \"8\": 6, \"4\": 3, \"0\": 4, \"14\": 1}, \"9\": {\"7\": 57, \"9\": 107, \"6\": 15, \"10\": 1}, \"6\": {\"6\": 168, \"10\": 4, \"7\": 4, \"13\": 4}, \"4\": {\"4\": 145, \"14\": 35}, \"13\": {\"6\": 16, \"13\": 161, \"7\": 1, \"4\": 1, \"11\": 1}, \"10\": {\"10\": 159, \"7\": 10, \"9\": 5, \"6\": 6}, \"1\": {\"1\": 146, \"2\": 32, \"3\": 2}, \"0\": {\"0\": 140, \"5\": 1, \"8\": 32, \"15\": 7}, \"2\": {\"2\": 149, \"1\": 31}, \"5\": {\"15\": 23, \"5\": 119, \"14\": 12, \"8\": 24, \"0\": 2}, \"3\": {\"3\": 136, \"12\": 43, \"1\": 1}, \"12\": {\"12\": 153, \"3\": 27}, \"14\": {\"14\": 136, \"5\": 9, \"4\": 34, \"8\": 1}, \"8\": {\"8\": 133, \"5\": 12, \"0\": 29, \"15\": 6}, \"7\": {\"7\": 112, \"9\": 56, \"10\": 7, \"6\": 5}, \"11\": {\"11\": 180}}, \"26\": {\"4\": {\"4\": 176, \"3\": 4}, \"15\": {\"10\": 11, \"15\": 90, \"0\": 46, \"7\": 1, \"14\": 12, \"2\": 8, \"8\": 6, \"9\": 5, \"5\": 1}, \"2\": {\"7\": 15, \"2\": 78, \"9\": 25, \"8\": 39, \"15\": 12, \"0\": 1, \"13\": 5, \"3\": 5}, \"12\": {\"12\": 177, \"13\": 1, \"9\": 2}, \"3\": {\"3\": 114, \"7\": 53, \"13\": 4, \"2\": 7, \"4\": 2}, \"0\": {\"15\": 47, \"10\": 44, \"14\": 23, \"8\": 6, \"0\": 53, \"5\": 1, \"2\": 5, \"9\": 1}, \"5\": {\"6\": 58, \"1\": 35, \"5\": 61, \"14\": 14, \"10\": 11, \"0\": 1}, \"8\": {\"2\": 39, \"0\": 2, \"8\": 57, \"9\": 54, \"7\": 5, \"13\": 4, \"15\": 13, \"10\": 6}, \"10\": {\"0\": 33, \"10\": 40, \"14\": 32, \"8\": 14, \"15\": 31, \"6\": 10, \"1\": 8, \"9\": 1, \"5\": 10, \"12\": 1}, \"9\": {\"2\": 26, \"8\": 60, \"9\": 60, \"13\": 20, \"7\": 7, \"12\": 1, \"15\": 2, \"0\": 2, \"10\": 2}, \"7\": {\"8\": 12, \"3\": 55, \"2\": 21, \"7\": 68, \"9\": 15, \"15\": 1, \"13\": 8}, \"11\": {\"11\": 177, \"6\": 3}, \"6\": {\"6\": 80, \"14\": 10, \"5\": 71, \"10\": 6, \"1\": 13}, \"14\": {\"14\": 78, \"1\": 8, \"10\": 36, \"5\": 24, \"6\": 10, \"0\": 17, \"15\": 7}, \"1\": {\"1\": 144, \"14\": 5, \"6\": 10, \"5\": 19, \"0\": 2}, \"13\": {\"13\": 118, \"8\": 6, \"12\": 5, \"7\": 20, \"3\": 9, \"9\": 19, \"2\": 3}}}, \"per_domain_accuracy\": {\"8\": {\"accuracy\": 0.6590277777777778, \"source?\": true}, \"32\": {\"accuracy\": 0.7395833333333334, \"source?\": true}, \"50\": {\"accuracy\": 0.859375, \"source?\": true}, \"14\": {\"accuracy\": 0.6378472222222222, \"source?\": false}, \"38\": {\"accuracy\": 0.6805555555555556, \"source?\": false}, \"20\": {\"accuracy\": 0.38055555555555554, \"source?\": false}, \"44\": {\"accuracy\": 0.7885416666666667, \"source?\": false}, \"26\": {\"accuracy\": 0.5454861111111111, \"source?\": false}}}, \"history\": {\"epoch_indices\": [1, 2, 3, 4, 5, 6, 7, 8], \"train_label_loss\": [1.2620026624522447, 1.3006318143044395, 0.904898485461414, 0.6663632492224375, 0.5644267748941407, 0.5015333329694938, 0.45520311702485283, 0.4174432892680625], \"source_val_label_loss\": [1.58591628074646, 1.240369439125061, 0.7577447891235352, 0.6871128082275391, 0.6087119579315186, 0.645733118057251, 0.5985215306282043, 0.6090545654296875], \"target_val_label_loss\": [1.8013619184494019, 1.6067912578582764, 1.3879987001419067, 1.2025066614151, 1.275704026222229, 1.4218083620071411, 1.3040270805358887, 1.285426378250122], \"source_val_acc_label\": [0.47881944444444446, 0.49895833333333334, 0.7168981481481481, 0.752662037037037, 0.7709490740740741, 0.7737268518518519, 0.7810185185185186, 0.7827546296296296], \"target_val_acc_label\": [0.3945138888888889, 0.40458333333333335, 0.5725, 0.6065972222222222, 0.6229861111111111, 0.6179861111111111, 0.6281944444444445, 0.6324305555555556]}, \"dataset_metrics\": {\"source\": {\"train\": {\"n_unique_x\": 33408, \"n_unique_y\": 16, \"n_batch/episode\": 261}, \"val\": {\"n_unique_x\": 7189, \"n_unique_y\": 16, \"n_batch/episode\": 108}, \"test\": {\"n_unique_x\": 7189, \"n_unique_y\": 16, \"n_batch/episode\": 108}}, \"target\": {\"train\": {\"n_unique_x\": 55680, \"n_unique_y\": 16, \"n_batch/episode\": 435}, \"val\": {\"n_unique_x\": 11989, \"n_unique_y\": 16, \"n_batch/episode\": 180}, \"test\": {\"n_unique_x\": 11989, \"n_unique_y\": 16, \"n_batch/episode\": 180}}}}'"
      ]
     },
     "execution_count": 20,
     "metadata": {},
     "output_type": "execute_result"
    }
   ],
   "source": [
    "json.dumps(experiment)"
   ]
  }
 ],
 "metadata": {
  "celltoolbar": "Tags",
  "kernelspec": {
   "display_name": "Python 3 (ipykernel)",
   "language": "python",
   "name": "python3"
  },
  "language_info": {
   "codemirror_mode": {
    "name": "ipython",
    "version": 3
   },
   "file_extension": ".py",
   "mimetype": "text/x-python",
   "name": "python",
   "nbconvert_exporter": "python",
   "pygments_lexer": "ipython3",
   "version": "3.8.10"
  },
  "papermill": {
   "default_parameters": {},
   "duration": 508.596684,
   "end_time": "2022-03-04T08:00:14.049497",
   "environment_variables": {},
   "exception": null,
   "input_path": "/mnt/wd500GB/CSC500/csc500-main/csc500-notebooks/templates/ptn_template.ipynb",
   "output_path": "trial.ipynb",
   "parameters": {
    "parameters": {
     "BEST_MODEL_PATH": "./best_model.pth",
     "NUM_LOGS_PER_EPOCH": 10,
     "criteria_for_best": "target_loss",
     "dataset_seed": 1337,
     "device": "cuda",
     "domains_source": [
      8,
      32,
      50
     ],
     "domains_target": [
      14,
      20,
      26,
      38,
      44
     ],
     "episode_transforms_source": [],
     "episode_transforms_target": [],
     "experiment_name": "nQuery_oracle.run2",
     "labels_source": [
      "3123D52",
      "3123D65",
      "3123D79",
      "3123D80",
      "3123D54",
      "3123D70",
      "3123D7B",
      "3123D89",
      "3123D58",
      "3123D76",
      "3123D7D",
      "3123EFE",
      "3123D64",
      "3123D78",
      "3123D7E",
      "3124E4A"
     ],
     "labels_target": [
      "3123D52",
      "3123D65",
      "3123D79",
      "3123D80",
      "3123D54",
      "3123D70",
      "3123D7B",
      "3123D89",
      "3123D58",
      "3123D76",
      "3123D7D",
      "3123EFE",
      "3123D64",
      "3123D78",
      "3123D7E",
      "3124E4A"
     ],
     "lr": 0.001,
     "n_epoch": 50,
     "n_query": 5,
     "n_shot": 3,
     "n_way": 16,
     "num_examples_per_domain_per_label_source": 1000,
     "num_examples_per_domain_per_label_target": 1000,
     "patience": 3,
     "pickle_name": "oracle.Run2_10kExamples_stratified_ds.2022A.pkl",
     "seed": 1337,
     "test_k_factor": 2,
     "torch_default_dtype": "torch.float32",
     "train_k_factor": 1,
     "val_k_factor": 2,
     "x_net": [
      {
       "class": "nnReshape",
       "kargs": {
        "shape": [
         -1,
         1,
         2,
         256
        ]
       }
      },
      {
       "class": "Conv2d",
       "kargs": {
        "bias": false,
        "in_channels": 1,
        "kernel_size": [
         1,
         7
        ],
        "out_channels": 256,
        "padding": [
         0,
         3
        ]
       }
      },
      {
       "class": "ReLU",
       "kargs": {
        "inplace": true
       }
      },
      {
       "class": "BatchNorm2d",
       "kargs": {
        "num_features": 256
       }
      },
      {
       "class": "Conv2d",
       "kargs": {
        "bias": true,
        "in_channels": 256,
        "kernel_size": [
         2,
         7
        ],
        "out_channels": 80,
        "padding": [
         0,
         3
        ]
       }
      },
      {
       "class": "ReLU",
       "kargs": {
        "inplace": true
       }
      },
      {
       "class": "BatchNorm2d",
       "kargs": {
        "num_features": 80
       }
      },
      {
       "class": "Flatten",
       "kargs": {}
      },
      {
       "class": "Linear",
       "kargs": {
        "in_features": 20480,
        "out_features": 256
       }
      },
      {
       "class": "ReLU",
       "kargs": {
        "inplace": true
       }
      },
      {
       "class": "BatchNorm1d",
       "kargs": {
        "num_features": 256
       }
      },
      {
       "class": "Linear",
       "kargs": {
        "in_features": 256,
        "out_features": 256
       }
      }
     ],
     "x_transforms_source": [],
     "x_transforms_target": []
    }
   },
   "start_time": "2022-03-04T07:51:45.452813",
   "version": "2.3.4"
  }
 },
 "nbformat": 4,
 "nbformat_minor": 5
}