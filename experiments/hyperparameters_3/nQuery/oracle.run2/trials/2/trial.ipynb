{
 "cells": [
  {
   "cell_type": "markdown",
   "id": "9fea5f46",
   "metadata": {
    "papermill": {
     "duration": 0.014648,
     "end_time": "2022-03-04T07:41:55.628286",
     "exception": false,
     "start_time": "2022-03-04T07:41:55.613638",
     "status": "completed"
    },
    "tags": []
   },
   "source": [
    "# PTN Template\n",
    "This notebook serves as a template for single dataset PTN experiments  \n",
    "It can be run on its own by setting STANDALONE to True (do a find for \"STANDALONE\" to see where)  \n",
    "But it is intended to be executed as part of a *papermill.py script. See any of the   \n",
    "experimentes with a papermill script to get started with that workflow.  "
   ]
  },
  {
   "cell_type": "code",
   "execution_count": 1,
   "id": "0902182a",
   "metadata": {
    "execution": {
     "iopub.execute_input": "2022-03-04T07:41:55.661006Z",
     "iopub.status.busy": "2022-03-04T07:41:55.660734Z",
     "iopub.status.idle": "2022-03-04T07:41:56.396510Z",
     "shell.execute_reply": "2022-03-04T07:41:56.395913Z"
    },
    "papermill": {
     "duration": 0.759097,
     "end_time": "2022-03-04T07:41:56.396625",
     "exception": false,
     "start_time": "2022-03-04T07:41:55.637528",
     "status": "completed"
    },
    "tags": []
   },
   "outputs": [],
   "source": [
    "%load_ext autoreload\n",
    "%autoreload 2\n",
    "%matplotlib inline\n",
    "\n",
    "    \n",
    "import os, json, sys, time, random\n",
    "import numpy as np\n",
    "import torch\n",
    "from torch.optim import Adam\n",
    "from  easydict import EasyDict\n",
    "import matplotlib.pyplot as plt\n",
    "\n",
    "from steves_models.steves_ptn import Steves_Prototypical_Network\n",
    "\n",
    "from steves_utils.lazy_iterable_wrapper import Lazy_Iterable_Wrapper\n",
    "from steves_utils.iterable_aggregator import Iterable_Aggregator\n",
    "from steves_utils.ptn_train_eval_test_jig import  PTN_Train_Eval_Test_Jig\n",
    "from steves_utils.torch_sequential_builder import build_sequential\n",
    "from steves_utils.torch_utils import get_dataset_metrics, ptn_confusion_by_domain_over_dataloader\n",
    "from steves_utils.utils_v2 import (per_domain_accuracy_from_confusion, get_datasets_base_path)\n",
    "from steves_utils.PTN.utils import independent_accuracy_assesment\n",
    "\n",
    "from steves_utils.stratified_dataset.episodic_accessor import Episodic_Accessor_Factory\n",
    "\n",
    "from steves_utils.ptn_do_report import (\n",
    "    get_loss_curve,\n",
    "    get_results_table,\n",
    "    get_parameters_table,\n",
    "    get_domain_accuracies,\n",
    ")\n",
    "\n",
    "from steves_utils.transforms import get_chained_transform"
   ]
  },
  {
   "cell_type": "markdown",
   "id": "41c840b4",
   "metadata": {
    "papermill": {
     "duration": 0.008855,
     "end_time": "2022-03-04T07:41:56.420764",
     "exception": false,
     "start_time": "2022-03-04T07:41:56.411909",
     "status": "completed"
    },
    "tags": []
   },
   "source": [
    "# Required Parameters\n",
    "These are allowed parameters, not defaults\n",
    "Each of these values need to be present in the injected parameters (the notebook will raise an exception if they are not present)\n",
    "\n",
    "Papermill uses the cell tag \"parameters\" to inject the real parameters below this cell.\n",
    "Enable tags to see what I mean"
   ]
  },
  {
   "cell_type": "code",
   "execution_count": 2,
   "id": "fd44eb83",
   "metadata": {
    "execution": {
     "iopub.execute_input": "2022-03-04T07:41:56.441952Z",
     "iopub.status.busy": "2022-03-04T07:41:56.441682Z",
     "iopub.status.idle": "2022-03-04T07:41:56.455554Z",
     "shell.execute_reply": "2022-03-04T07:41:56.455148Z"
    },
    "papermill": {
     "duration": 0.025931,
     "end_time": "2022-03-04T07:41:56.455655",
     "exception": false,
     "start_time": "2022-03-04T07:41:56.429724",
     "status": "completed"
    },
    "tags": []
   },
   "outputs": [],
   "source": [
    "required_parameters = {\n",
    "    \"experiment_name\",\n",
    "    \"lr\",\n",
    "    \"device\",\n",
    "    \"seed\",\n",
    "    \"dataset_seed\",\n",
    "    \"labels_source\",\n",
    "    \"labels_target\",\n",
    "    \"domains_source\",\n",
    "    \"domains_target\",\n",
    "    \"num_examples_per_domain_per_label_source\",\n",
    "    \"num_examples_per_domain_per_label_target\",\n",
    "    \"n_shot\",\n",
    "    \"n_way\",\n",
    "    \"n_query\",\n",
    "    \"train_k_factor\",\n",
    "    \"val_k_factor\",\n",
    "    \"test_k_factor\",\n",
    "    \"n_epoch\",\n",
    "    \"patience\",\n",
    "    \"criteria_for_best\",\n",
    "    \"x_transforms_source\",\n",
    "    \"x_transforms_target\",\n",
    "    \"episode_transforms_source\",\n",
    "    \"episode_transforms_target\",\n",
    "    \"pickle_name\",\n",
    "    \"x_net\",\n",
    "    \"NUM_LOGS_PER_EPOCH\",\n",
    "    \"BEST_MODEL_PATH\",\n",
    "    \"torch_default_dtype\"\n",
    "}"
   ]
  },
  {
   "cell_type": "code",
   "execution_count": 3,
   "id": "fa3f0049",
   "metadata": {
    "execution": {
     "iopub.execute_input": "2022-03-04T07:41:56.488377Z",
     "iopub.status.busy": "2022-03-04T07:41:56.487767Z",
     "iopub.status.idle": "2022-03-04T07:41:56.499246Z",
     "shell.execute_reply": "2022-03-04T07:41:56.499626Z"
    },
    "papermill": {
     "duration": 0.029254,
     "end_time": "2022-03-04T07:41:56.499752",
     "exception": false,
     "start_time": "2022-03-04T07:41:56.470498",
     "status": "completed"
    },
    "tags": [
     "parameters"
    ]
   },
   "outputs": [],
   "source": [
    "\n",
    "\n",
    "standalone_parameters = {}\n",
    "standalone_parameters[\"experiment_name\"] = \"STANDALONE PTN\"\n",
    "standalone_parameters[\"lr\"] = 0.0001\n",
    "standalone_parameters[\"device\"] = \"cuda\"\n",
    "\n",
    "standalone_parameters[\"seed\"] = 1337\n",
    "standalone_parameters[\"dataset_seed\"] = 1337\n",
    "\n",
    "\n",
    "standalone_parameters[\"num_examples_per_domain_per_label_source\"]=100\n",
    "standalone_parameters[\"num_examples_per_domain_per_label_target\"]=100\n",
    "\n",
    "standalone_parameters[\"n_shot\"] = 3\n",
    "standalone_parameters[\"n_query\"]  = 2\n",
    "standalone_parameters[\"train_k_factor\"] = 1\n",
    "standalone_parameters[\"val_k_factor\"] = 2\n",
    "standalone_parameters[\"test_k_factor\"] = 2\n",
    "\n",
    "\n",
    "standalone_parameters[\"n_epoch\"] = 100\n",
    "\n",
    "standalone_parameters[\"patience\"] = 10\n",
    "standalone_parameters[\"criteria_for_best\"] = \"target_accuracy\"\n",
    "\n",
    "standalone_parameters[\"x_transforms_source\"] = [\"unit_power\"]\n",
    "standalone_parameters[\"x_transforms_target\"] = [\"unit_power\"]\n",
    "standalone_parameters[\"episode_transforms_source\"] = []\n",
    "standalone_parameters[\"episode_transforms_target\"] = []\n",
    "\n",
    "standalone_parameters[\"torch_default_dtype\"] = \"torch.float32\" \n",
    "\n",
    "\n",
    "\n",
    "standalone_parameters[\"x_net\"] =     [\n",
    "    {\"class\": \"nnReshape\", \"kargs\": {\"shape\":[-1, 1, 2, 256]}},\n",
    "    {\"class\": \"Conv2d\", \"kargs\": { \"in_channels\":1, \"out_channels\":256, \"kernel_size\":(1,7), \"bias\":False, \"padding\":(0,3), },},\n",
    "    {\"class\": \"ReLU\", \"kargs\": {\"inplace\": True}},\n",
    "    {\"class\": \"BatchNorm2d\", \"kargs\": {\"num_features\":256}},\n",
    "\n",
    "    {\"class\": \"Conv2d\", \"kargs\": { \"in_channels\":256, \"out_channels\":80, \"kernel_size\":(2,7), \"bias\":True, \"padding\":(0,3), },},\n",
    "    {\"class\": \"ReLU\", \"kargs\": {\"inplace\": True}},\n",
    "    {\"class\": \"BatchNorm2d\", \"kargs\": {\"num_features\":80}},\n",
    "    {\"class\": \"Flatten\", \"kargs\": {}},\n",
    "\n",
    "    {\"class\": \"Linear\", \"kargs\": {\"in_features\": 80*256, \"out_features\": 256}}, # 80 units per IQ pair\n",
    "    {\"class\": \"ReLU\", \"kargs\": {\"inplace\": True}},\n",
    "    {\"class\": \"BatchNorm1d\", \"kargs\": {\"num_features\":256}},\n",
    "\n",
    "    {\"class\": \"Linear\", \"kargs\": {\"in_features\": 256, \"out_features\": 256}},\n",
    "]\n",
    "\n",
    "# Parameters relevant to results\n",
    "# These parameters will basically never need to change\n",
    "standalone_parameters[\"NUM_LOGS_PER_EPOCH\"] = 10\n",
    "standalone_parameters[\"BEST_MODEL_PATH\"] = \"./best_model.pth\"\n",
    "\n",
    "# uncomment for CORES dataset\n",
    "from steves_utils.CORES.utils import (\n",
    "    ALL_NODES,\n",
    "    ALL_NODES_MINIMUM_1000_EXAMPLES,\n",
    "    ALL_DAYS\n",
    ")\n",
    "\n",
    "\n",
    "standalone_parameters[\"labels_source\"] = ALL_NODES\n",
    "standalone_parameters[\"labels_target\"] = ALL_NODES\n",
    "\n",
    "standalone_parameters[\"domains_source\"] = [1]\n",
    "standalone_parameters[\"domains_target\"] = [2,3,4,5]\n",
    "\n",
    "standalone_parameters[\"pickle_name\"] = \"cores.stratified_ds.2022A.pkl\"\n",
    "\n",
    "\n",
    "# Uncomment these for ORACLE dataset\n",
    "# from steves_utils.ORACLE.utils_v2 import (\n",
    "#     ALL_DISTANCES_FEET,\n",
    "#     ALL_RUNS,\n",
    "#     ALL_SERIAL_NUMBERS,\n",
    "# )\n",
    "# standalone_parameters[\"labels_source\"] = ALL_SERIAL_NUMBERS\n",
    "# standalone_parameters[\"labels_target\"] = ALL_SERIAL_NUMBERS\n",
    "# standalone_parameters[\"domains_source\"] = [8,20, 38,50]\n",
    "# standalone_parameters[\"domains_target\"] = [14, 26, 32, 44, 56]\n",
    "# standalone_parameters[\"pickle_name\"] = \"oracle.frame_indexed.stratified_ds.2022A.pkl\"\n",
    "# standalone_parameters[\"num_examples_per_domain_per_label_source\"]=1000\n",
    "# standalone_parameters[\"num_examples_per_domain_per_label_target\"]=1000\n",
    "\n",
    "# Uncomment these for Metahan dataset\n",
    "# standalone_parameters[\"labels_source\"] = list(range(19))\n",
    "# standalone_parameters[\"labels_target\"] = list(range(19))\n",
    "# standalone_parameters[\"domains_source\"] = [0]\n",
    "# standalone_parameters[\"domains_target\"] = [1]\n",
    "# standalone_parameters[\"pickle_name\"] = \"metehan.stratified_ds.2022A.pkl\"\n",
    "# standalone_parameters[\"n_way\"]  = len(standalone_parameters[\"labels_source\"])\n",
    "# standalone_parameters[\"num_examples_per_domain_per_label_source\"]=200\n",
    "# standalone_parameters[\"num_examples_per_domain_per_label_target\"]=100\n",
    "\n",
    "\n",
    "standalone_parameters[\"n_way\"]  = len(standalone_parameters[\"labels_source\"])"
   ]
  },
  {
   "cell_type": "code",
   "execution_count": 4,
   "id": "5139e733",
   "metadata": {
    "execution": {
     "iopub.execute_input": "2022-03-04T07:41:56.531095Z",
     "iopub.status.busy": "2022-03-04T07:41:56.523856Z",
     "iopub.status.idle": "2022-03-04T07:41:56.541338Z",
     "shell.execute_reply": "2022-03-04T07:41:56.540930Z"
    },
    "papermill": {
     "duration": 0.028595,
     "end_time": "2022-03-04T07:41:56.541441",
     "exception": false,
     "start_time": "2022-03-04T07:41:56.512846",
     "status": "completed"
    },
    "tags": [
     "injected-parameters"
    ]
   },
   "outputs": [],
   "source": [
    "# Parameters\n",
    "parameters = {\n",
    "    \"experiment_name\": \"nQuery_oracle.run2\",\n",
    "    \"device\": \"cuda\",\n",
    "    \"lr\": 0.001,\n",
    "    \"seed\": 1337,\n",
    "    \"dataset_seed\": 1337,\n",
    "    \"labels_source\": [\n",
    "        \"3123D52\",\n",
    "        \"3123D65\",\n",
    "        \"3123D79\",\n",
    "        \"3123D80\",\n",
    "        \"3123D54\",\n",
    "        \"3123D70\",\n",
    "        \"3123D7B\",\n",
    "        \"3123D89\",\n",
    "        \"3123D58\",\n",
    "        \"3123D76\",\n",
    "        \"3123D7D\",\n",
    "        \"3123EFE\",\n",
    "        \"3123D64\",\n",
    "        \"3123D78\",\n",
    "        \"3123D7E\",\n",
    "        \"3124E4A\",\n",
    "    ],\n",
    "    \"labels_target\": [\n",
    "        \"3123D52\",\n",
    "        \"3123D65\",\n",
    "        \"3123D79\",\n",
    "        \"3123D80\",\n",
    "        \"3123D54\",\n",
    "        \"3123D70\",\n",
    "        \"3123D7B\",\n",
    "        \"3123D89\",\n",
    "        \"3123D58\",\n",
    "        \"3123D76\",\n",
    "        \"3123D7D\",\n",
    "        \"3123EFE\",\n",
    "        \"3123D64\",\n",
    "        \"3123D78\",\n",
    "        \"3123D7E\",\n",
    "        \"3124E4A\",\n",
    "    ],\n",
    "    \"x_transforms_source\": [],\n",
    "    \"x_transforms_target\": [],\n",
    "    \"episode_transforms_source\": [],\n",
    "    \"episode_transforms_target\": [],\n",
    "    \"num_examples_per_domain_per_label_source\": 1000,\n",
    "    \"num_examples_per_domain_per_label_target\": 1000,\n",
    "    \"n_shot\": 3,\n",
    "    \"n_way\": 16,\n",
    "    \"train_k_factor\": 1,\n",
    "    \"val_k_factor\": 2,\n",
    "    \"test_k_factor\": 2,\n",
    "    \"torch_default_dtype\": \"torch.float32\",\n",
    "    \"n_epoch\": 50,\n",
    "    \"patience\": 3,\n",
    "    \"criteria_for_best\": \"target_loss\",\n",
    "    \"x_net\": [\n",
    "        {\"class\": \"nnReshape\", \"kargs\": {\"shape\": [-1, 1, 2, 256]}},\n",
    "        {\n",
    "            \"class\": \"Conv2d\",\n",
    "            \"kargs\": {\n",
    "                \"in_channels\": 1,\n",
    "                \"out_channels\": 256,\n",
    "                \"kernel_size\": [1, 7],\n",
    "                \"bias\": False,\n",
    "                \"padding\": [0, 3],\n",
    "            },\n",
    "        },\n",
    "        {\"class\": \"ReLU\", \"kargs\": {\"inplace\": True}},\n",
    "        {\"class\": \"BatchNorm2d\", \"kargs\": {\"num_features\": 256}},\n",
    "        {\n",
    "            \"class\": \"Conv2d\",\n",
    "            \"kargs\": {\n",
    "                \"in_channels\": 256,\n",
    "                \"out_channels\": 80,\n",
    "                \"kernel_size\": [2, 7],\n",
    "                \"bias\": True,\n",
    "                \"padding\": [0, 3],\n",
    "            },\n",
    "        },\n",
    "        {\"class\": \"ReLU\", \"kargs\": {\"inplace\": True}},\n",
    "        {\"class\": \"BatchNorm2d\", \"kargs\": {\"num_features\": 80}},\n",
    "        {\"class\": \"Flatten\", \"kargs\": {}},\n",
    "        {\"class\": \"Linear\", \"kargs\": {\"in_features\": 20480, \"out_features\": 256}},\n",
    "        {\"class\": \"ReLU\", \"kargs\": {\"inplace\": True}},\n",
    "        {\"class\": \"BatchNorm1d\", \"kargs\": {\"num_features\": 256}},\n",
    "        {\"class\": \"Linear\", \"kargs\": {\"in_features\": 256, \"out_features\": 256}},\n",
    "    ],\n",
    "    \"NUM_LOGS_PER_EPOCH\": 10,\n",
    "    \"BEST_MODEL_PATH\": \"./best_model.pth\",\n",
    "    \"pickle_name\": \"oracle.Run2_10kExamples_stratified_ds.2022A.pkl\",\n",
    "    \"n_query\": 10,\n",
    "    \"domains_source\": [8, 32, 50],\n",
    "    \"domains_target\": [14, 20, 26, 38, 44],\n",
    "}\n"
   ]
  },
  {
   "cell_type": "code",
   "execution_count": 5,
   "id": "8fa1cc33",
   "metadata": {
    "execution": {
     "iopub.execute_input": "2022-03-04T07:41:56.568644Z",
     "iopub.status.busy": "2022-03-04T07:41:56.568387Z",
     "iopub.status.idle": "2022-03-04T07:41:56.580046Z",
     "shell.execute_reply": "2022-03-04T07:41:56.580366Z"
    },
    "papermill": {
     "duration": 0.025077,
     "end_time": "2022-03-04T07:41:56.580485",
     "exception": false,
     "start_time": "2022-03-04T07:41:56.555408",
     "status": "completed"
    },
    "tags": []
   },
   "outputs": [],
   "source": [
    "# Set this to True if you want to run this template directly\n",
    "STANDALONE = False\n",
    "if STANDALONE:\n",
    "    print(\"parameters not injected, running with standalone_parameters\")\n",
    "    parameters = standalone_parameters\n",
    "\n",
    "if not 'parameters' in locals() and not 'parameters' in globals():\n",
    "    raise Exception(\"Parameter injection failed\")\n",
    "\n",
    "#Use an easy dict for all the parameters\n",
    "p = EasyDict(parameters)\n",
    "\n",
    "supplied_keys = set(p.keys())\n",
    "\n",
    "if  supplied_keys != required_parameters:\n",
    "    print(\"Parameters are incorrect\")\n",
    "    if len(supplied_keys - required_parameters)>0: print(\"Shouldn't have:\", str(supplied_keys - required_parameters))\n",
    "    if len(required_parameters - supplied_keys)>0: print(\"Need to have:\", str(required_parameters - supplied_keys))\n",
    "    raise RuntimeError(\"Parameters are incorrect\")\n",
    "\n"
   ]
  },
  {
   "cell_type": "code",
   "execution_count": 6,
   "id": "3a028d58",
   "metadata": {
    "execution": {
     "iopub.execute_input": "2022-03-04T07:41:56.606154Z",
     "iopub.status.busy": "2022-03-04T07:41:56.605898Z",
     "iopub.status.idle": "2022-03-04T07:41:56.619214Z",
     "shell.execute_reply": "2022-03-04T07:41:56.619516Z"
    },
    "papermill": {
     "duration": 0.024634,
     "end_time": "2022-03-04T07:41:56.619604",
     "exception": false,
     "start_time": "2022-03-04T07:41:56.594970",
     "status": "completed"
    },
    "tags": []
   },
   "outputs": [],
   "source": [
    "###################################\n",
    "# Set the RNGs and make it all deterministic\n",
    "###################################\n",
    "np.random.seed(p.seed)\n",
    "random.seed(p.seed)\n",
    "torch.manual_seed(p.seed)\n",
    "\n",
    "torch.use_deterministic_algorithms(True) "
   ]
  },
  {
   "cell_type": "code",
   "execution_count": 7,
   "id": "b691acf6",
   "metadata": {
    "execution": {
     "iopub.execute_input": "2022-03-04T07:41:56.645907Z",
     "iopub.status.busy": "2022-03-04T07:41:56.645655Z",
     "iopub.status.idle": "2022-03-04T07:41:56.659355Z",
     "shell.execute_reply": "2022-03-04T07:41:56.659734Z"
    },
    "papermill": {
     "duration": 0.025474,
     "end_time": "2022-03-04T07:41:56.659854",
     "exception": false,
     "start_time": "2022-03-04T07:41:56.634380",
     "status": "completed"
    },
    "tags": []
   },
   "outputs": [],
   "source": [
    "###########################################\n",
    "# The stratified datasets honor this\n",
    "###########################################\n",
    "torch.set_default_dtype(eval(p.torch_default_dtype))"
   ]
  },
  {
   "cell_type": "code",
   "execution_count": 8,
   "id": "b5fba671",
   "metadata": {
    "execution": {
     "iopub.execute_input": "2022-03-04T07:41:56.686169Z",
     "iopub.status.busy": "2022-03-04T07:41:56.685757Z",
     "iopub.status.idle": "2022-03-04T07:41:56.725071Z",
     "shell.execute_reply": "2022-03-04T07:41:56.724726Z"
    },
    "papermill": {
     "duration": 0.051158,
     "end_time": "2022-03-04T07:41:56.725155",
     "exception": false,
     "start_time": "2022-03-04T07:41:56.673997",
     "status": "completed"
    },
    "tags": []
   },
   "outputs": [],
   "source": [
    "###################################\n",
    "# Build the network(s)\n",
    "# Note: It's critical to do this AFTER setting the RNG\n",
    "# (This is due to the randomized initial weights)\n",
    "###################################\n",
    "x_net = build_sequential(p.x_net)"
   ]
  },
  {
   "cell_type": "code",
   "execution_count": 9,
   "id": "5d7e61cc",
   "metadata": {
    "execution": {
     "iopub.execute_input": "2022-03-04T07:41:56.751974Z",
     "iopub.status.busy": "2022-03-04T07:41:56.751730Z",
     "iopub.status.idle": "2022-03-04T07:41:56.763423Z",
     "shell.execute_reply": "2022-03-04T07:41:56.763105Z"
    },
    "papermill": {
     "duration": 0.023442,
     "end_time": "2022-03-04T07:41:56.763499",
     "exception": false,
     "start_time": "2022-03-04T07:41:56.740057",
     "status": "completed"
    },
    "tags": []
   },
   "outputs": [],
   "source": [
    "start_time_secs = time.time()"
   ]
  },
  {
   "cell_type": "code",
   "execution_count": 10,
   "id": "fd5442bc",
   "metadata": {
    "execution": {
     "iopub.execute_input": "2022-03-04T07:41:56.796153Z",
     "iopub.status.busy": "2022-03-04T07:41:56.795882Z",
     "iopub.status.idle": "2022-03-04T07:42:00.033246Z",
     "shell.execute_reply": "2022-03-04T07:42:00.032786Z"
    },
    "papermill": {
     "duration": 3.255074,
     "end_time": "2022-03-04T07:42:00.033355",
     "exception": false,
     "start_time": "2022-03-04T07:41:56.778281",
     "status": "completed"
    },
    "tags": []
   },
   "outputs": [],
   "source": [
    "###################################\n",
    "# Build the dataset\n",
    "###################################\n",
    "\n",
    "if p.x_transforms_source == []: x_transform_source = None\n",
    "else: x_transform_source = get_chained_transform(p.x_transforms_source) \n",
    "\n",
    "if p.x_transforms_target == []: x_transform_target = None\n",
    "else: x_transform_target = get_chained_transform(p.x_transforms_target)\n",
    "\n",
    "if p.episode_transforms_source == []: episode_transform_source = None\n",
    "else: raise Exception(\"episode_transform_source not implemented\")\n",
    "\n",
    "if p.episode_transforms_target == []: episode_transform_target = None\n",
    "else: raise Exception(\"episode_transform_target not implemented\")\n",
    "\n",
    "\n",
    "eaf_source = Episodic_Accessor_Factory(\n",
    "    labels=p.labels_source,\n",
    "    domains=p.domains_source,\n",
    "    num_examples_per_domain_per_label=p.num_examples_per_domain_per_label_source,\n",
    "    iterator_seed=p.seed,\n",
    "    dataset_seed=p.dataset_seed,\n",
    "    n_shot=p.n_shot,\n",
    "    n_way=p.n_way,\n",
    "    n_query=p.n_query,\n",
    "    train_val_test_k_factors=(p.train_k_factor,p.val_k_factor,p.test_k_factor),\n",
    "    pickle_path=os.path.join(get_datasets_base_path(), p.pickle_name),\n",
    "    x_transform_func=x_transform_source,\n",
    "    example_transform_func=episode_transform_source,\n",
    "    \n",
    ")\n",
    "train_original_source, val_original_source, test_original_source = eaf_source.get_train(), eaf_source.get_val(), eaf_source.get_test()\n",
    "\n",
    "\n",
    "eaf_target = Episodic_Accessor_Factory(\n",
    "    labels=p.labels_target,\n",
    "    domains=p.domains_target,\n",
    "    num_examples_per_domain_per_label=p.num_examples_per_domain_per_label_target,\n",
    "    iterator_seed=p.seed,\n",
    "    dataset_seed=p.dataset_seed,\n",
    "    n_shot=p.n_shot,\n",
    "    n_way=p.n_way,\n",
    "    n_query=p.n_query,\n",
    "    train_val_test_k_factors=(p.train_k_factor,p.val_k_factor,p.test_k_factor),\n",
    "    pickle_path=os.path.join(get_datasets_base_path(), p.pickle_name),\n",
    "    x_transform_func=x_transform_target,\n",
    "    example_transform_func=episode_transform_target,\n",
    ")\n",
    "train_original_target, val_original_target, test_original_target = eaf_target.get_train(), eaf_target.get_val(), eaf_target.get_test()\n",
    "\n",
    "\n",
    "transform_lambda = lambda ex: ex[1] # Original is (<domain>, <episode>) so we strip down to episode only\n",
    "\n",
    "train_processed_source = Lazy_Iterable_Wrapper(train_original_source, transform_lambda)\n",
    "val_processed_source   = Lazy_Iterable_Wrapper(val_original_source, transform_lambda)\n",
    "test_processed_source  = Lazy_Iterable_Wrapper(test_original_source, transform_lambda)\n",
    "\n",
    "train_processed_target = Lazy_Iterable_Wrapper(train_original_target, transform_lambda)\n",
    "val_processed_target   = Lazy_Iterable_Wrapper(val_original_target, transform_lambda)\n",
    "test_processed_target  = Lazy_Iterable_Wrapper(test_original_target, transform_lambda)\n",
    "\n",
    "datasets = EasyDict({\n",
    "    \"source\": {\n",
    "        \"original\": {\"train\":train_original_source, \"val\":val_original_source, \"test\":test_original_source},\n",
    "        \"processed\": {\"train\":train_processed_source, \"val\":val_processed_source, \"test\":test_processed_source}\n",
    "    },\n",
    "    \"target\": {\n",
    "        \"original\": {\"train\":train_original_target, \"val\":val_original_target, \"test\":test_original_target},\n",
    "        \"processed\": {\"train\":train_processed_target, \"val\":val_processed_target, \"test\":test_processed_target}\n",
    "    },\n",
    "})"
   ]
  },
  {
   "cell_type": "code",
   "execution_count": 11,
   "id": "296189d9",
   "metadata": {
    "execution": {
     "iopub.execute_input": "2022-03-04T07:42:00.062712Z",
     "iopub.status.busy": "2022-03-04T07:42:00.062422Z",
     "iopub.status.idle": "2022-03-04T07:42:04.366130Z",
     "shell.execute_reply": "2022-03-04T07:42:04.366534Z"
    },
    "papermill": {
     "duration": 4.318236,
     "end_time": "2022-03-04T07:42:04.366660",
     "exception": false,
     "start_time": "2022-03-04T07:42:00.048424",
     "status": "completed"
    },
    "tags": []
   },
   "outputs": [
    {
     "name": "stdout",
     "output_type": "stream",
     "text": [
      "Visually inspect these to see if they line up with expected values given the transforms\n",
      "x_transforms_source []\n",
      "x_transforms_target []\n",
      "Average magnitude, source: 0.0047577657\n",
      "Average power, source: 2.913498e-05\n"
     ]
    },
    {
     "name": "stdout",
     "output_type": "stream",
     "text": [
      "Average magnitude, target: 0.0029350582\n",
      "Average power, target: 1.091691e-05\n"
     ]
    }
   ],
   "source": [
    "# Some quick unit tests on the data\n",
    "from steves_utils.transforms import get_average_power, get_average_magnitude\n",
    "\n",
    "q_x, q_y, s_x, s_y, truth = next(iter(train_processed_source))\n",
    "\n",
    "assert q_x.dtype == eval(p.torch_default_dtype)\n",
    "assert s_x.dtype == eval(p.torch_default_dtype)\n",
    "\n",
    "print(\"Visually inspect these to see if they line up with expected values given the transforms\")\n",
    "print('x_transforms_source', p.x_transforms_source)\n",
    "print('x_transforms_target', p.x_transforms_target)\n",
    "print(\"Average magnitude, source:\", get_average_magnitude(q_x[0].numpy()))\n",
    "print(\"Average power, source:\", get_average_power(q_x[0].numpy()))\n",
    "\n",
    "q_x, q_y, s_x, s_y, truth = next(iter(train_processed_target))\n",
    "print(\"Average magnitude, target:\", get_average_magnitude(q_x[0].numpy()))\n",
    "print(\"Average power, target:\", get_average_power(q_x[0].numpy()))\n"
   ]
  },
  {
   "cell_type": "code",
   "execution_count": 12,
   "id": "bbdacba1",
   "metadata": {
    "execution": {
     "iopub.execute_input": "2022-03-04T07:42:04.394854Z",
     "iopub.status.busy": "2022-03-04T07:42:04.394596Z",
     "iopub.status.idle": "2022-03-04T07:42:04.453981Z",
     "shell.execute_reply": "2022-03-04T07:42:04.454187Z"
    },
    "papermill": {
     "duration": 0.072742,
     "end_time": "2022-03-04T07:42:04.454265",
     "exception": false,
     "start_time": "2022-03-04T07:42:04.381523",
     "status": "completed"
    },
    "tags": []
   },
   "outputs": [
    {
     "name": "stdout",
     "output_type": "stream",
     "text": [
      "(2, 256)\n"
     ]
    }
   ],
   "source": [
    "###################################\n",
    "# Build the model\n",
    "###################################\n",
    "model = Steves_Prototypical_Network(x_net, device=p.device, x_shape=(2,256))\n",
    "optimizer = Adam(params=model.parameters(), lr=p.lr)"
   ]
  },
  {
   "cell_type": "code",
   "execution_count": 13,
   "id": "22b39ac5",
   "metadata": {
    "execution": {
     "iopub.execute_input": "2022-03-04T07:42:04.479128Z",
     "iopub.status.busy": "2022-03-04T07:42:04.478875Z",
     "iopub.status.idle": "2022-03-04T07:50:23.016128Z",
     "shell.execute_reply": "2022-03-04T07:50:23.015899Z"
    },
    "papermill": {
     "duration": 498.551046,
     "end_time": "2022-03-04T07:50:23.016185",
     "exception": false,
     "start_time": "2022-03-04T07:42:04.465139",
     "status": "completed"
    },
    "tags": []
   },
   "outputs": [
    {
     "name": "stdout",
     "output_type": "stream",
     "text": [
      "epoch: 1, [batch: 1 / 159], examples_per_second: 23.0236, train_label_loss: 2.0672, \n"
     ]
    },
    {
     "name": "stdout",
     "output_type": "stream",
     "text": [
      "epoch: 1, [batch: 16 / 159], examples_per_second: 940.3626, train_label_loss: 1.2789, \n"
     ]
    },
    {
     "name": "stdout",
     "output_type": "stream",
     "text": [
      "epoch: 1, [batch: 32 / 159], examples_per_second: 1019.5653, train_label_loss: 1.2547, \n"
     ]
    },
    {
     "name": "stdout",
     "output_type": "stream",
     "text": [
      "epoch: 1, [batch: 48 / 159], examples_per_second: 1130.7804, train_label_loss: 1.2710, \n"
     ]
    },
    {
     "name": "stdout",
     "output_type": "stream",
     "text": [
      "epoch: 1, [batch: 64 / 159], examples_per_second: 1255.9329, train_label_loss: 1.1319, \n"
     ]
    },
    {
     "name": "stdout",
     "output_type": "stream",
     "text": [
      "epoch: 1, [batch: 80 / 159], examples_per_second: 1411.3234, train_label_loss: 1.0962, \n"
     ]
    },
    {
     "name": "stdout",
     "output_type": "stream",
     "text": [
      "epoch: 1, [batch: 95 / 159], examples_per_second: 1723.4294, train_label_loss: 1.0970, \n"
     ]
    },
    {
     "name": "stdout",
     "output_type": "stream",
     "text": [
      "epoch: 1, [batch: 111 / 159], examples_per_second: 2077.7162, train_label_loss: 1.1011, \n"
     ]
    },
    {
     "name": "stdout",
     "output_type": "stream",
     "text": [
      "epoch: 1, [batch: 127 / 159], examples_per_second: 2131.0223, train_label_loss: 1.2864, \n"
     ]
    },
    {
     "name": "stdout",
     "output_type": "stream",
     "text": [
      "epoch: 1, [batch: 143 / 159], examples_per_second: 2666.8044, train_label_loss: 1.1822, \n"
     ]
    },
    {
     "name": "stdout",
     "output_type": "stream",
     "text": [
      "=============================================================\n",
      "epoch: 1, source_val_acc_label: 0.4614, target_val_acc_label: 0.3949, source_val_label_loss: 1.7153, target_val_label_loss: 1.8273, \n",
      "=============================================================\n"
     ]
    },
    {
     "name": "stdout",
     "output_type": "stream",
     "text": [
      "New best\n"
     ]
    },
    {
     "name": "stdout",
     "output_type": "stream",
     "text": [
      "epoch: 2, [batch: 1 / 159], examples_per_second: 14.2091, train_label_loss: 1.9243, \n"
     ]
    },
    {
     "name": "stdout",
     "output_type": "stream",
     "text": [
      "epoch: 2, [batch: 16 / 159], examples_per_second: 932.1882, train_label_loss: 1.2442, \n"
     ]
    },
    {
     "name": "stdout",
     "output_type": "stream",
     "text": [
      "epoch: 2, [batch: 32 / 159], examples_per_second: 1029.1536, train_label_loss: 1.2814, \n"
     ]
    },
    {
     "name": "stdout",
     "output_type": "stream",
     "text": [
      "epoch: 2, [batch: 48 / 159], examples_per_second: 1117.6638, train_label_loss: 1.1816, \n"
     ]
    },
    {
     "name": "stdout",
     "output_type": "stream",
     "text": [
      "epoch: 2, [batch: 64 / 159], examples_per_second: 1272.4573, train_label_loss: 1.3266, \n"
     ]
    },
    {
     "name": "stdout",
     "output_type": "stream",
     "text": [
      "epoch: 2, [batch: 80 / 159], examples_per_second: 1418.1437, train_label_loss: 1.3277, \n"
     ]
    },
    {
     "name": "stdout",
     "output_type": "stream",
     "text": [
      "epoch: 2, [batch: 95 / 159], examples_per_second: 1701.4516, train_label_loss: 1.1426, \n"
     ]
    },
    {
     "name": "stdout",
     "output_type": "stream",
     "text": [
      "epoch: 2, [batch: 111 / 159], examples_per_second: 1916.1698, train_label_loss: 1.2431, \n"
     ]
    },
    {
     "name": "stdout",
     "output_type": "stream",
     "text": [
      "epoch: 2, [batch: 127 / 159], examples_per_second: 2376.2354, train_label_loss: 1.1654, \n"
     ]
    },
    {
     "name": "stdout",
     "output_type": "stream",
     "text": [
      "epoch: 2, [batch: 143 / 159], examples_per_second: 2845.6295, train_label_loss: 1.1890, \n"
     ]
    },
    {
     "name": "stdout",
     "output_type": "stream",
     "text": [
      "=============================================================\n",
      "epoch: 2, source_val_acc_label: 0.4652, target_val_acc_label: 0.4026, source_val_label_loss: 1.2784, target_val_label_loss: 1.8148, \n",
      "=============================================================\n"
     ]
    },
    {
     "name": "stdout",
     "output_type": "stream",
     "text": [
      "New best\n"
     ]
    },
    {
     "name": "stdout",
     "output_type": "stream",
     "text": [
      "epoch: 3, [batch: 1 / 159], examples_per_second: 14.1946, train_label_loss: 1.0507, \n"
     ]
    },
    {
     "name": "stdout",
     "output_type": "stream",
     "text": [
      "epoch: 3, [batch: 16 / 159], examples_per_second: 932.7556, train_label_loss: 1.2820, \n"
     ]
    },
    {
     "name": "stdout",
     "output_type": "stream",
     "text": [
      "epoch: 3, [batch: 32 / 159], examples_per_second: 1020.3099, train_label_loss: 1.2107, \n"
     ]
    },
    {
     "name": "stdout",
     "output_type": "stream",
     "text": [
      "epoch: 3, [batch: 48 / 159], examples_per_second: 1139.1487, train_label_loss: 1.1969, \n"
     ]
    },
    {
     "name": "stdout",
     "output_type": "stream",
     "text": [
      "epoch: 3, [batch: 64 / 159], examples_per_second: 1229.1866, train_label_loss: 1.1654, \n"
     ]
    },
    {
     "name": "stdout",
     "output_type": "stream",
     "text": [
      "epoch: 3, [batch: 80 / 159], examples_per_second: 1433.6217, train_label_loss: 1.2122, \n"
     ]
    },
    {
     "name": "stdout",
     "output_type": "stream",
     "text": [
      "epoch: 3, [batch: 95 / 159], examples_per_second: 1676.1241, train_label_loss: 1.2079, \n"
     ]
    },
    {
     "name": "stdout",
     "output_type": "stream",
     "text": [
      "epoch: 3, [batch: 111 / 159], examples_per_second: 1917.9691, train_label_loss: 1.2426, \n"
     ]
    },
    {
     "name": "stdout",
     "output_type": "stream",
     "text": [
      "epoch: 3, [batch: 127 / 159], examples_per_second: 2399.9606, train_label_loss: 1.1878, \n"
     ]
    },
    {
     "name": "stdout",
     "output_type": "stream",
     "text": [
      "epoch: 3, [batch: 143 / 159], examples_per_second: 2839.0725, train_label_loss: 1.2346, \n"
     ]
    },
    {
     "name": "stdout",
     "output_type": "stream",
     "text": [
      "=============================================================\n",
      "epoch: 3, source_val_acc_label: 0.4932, target_val_acc_label: 0.4079, source_val_label_loss: 1.2189, target_val_label_loss: 1.8529, \n",
      "=============================================================\n"
     ]
    },
    {
     "name": "stdout",
     "output_type": "stream",
     "text": [
      "epoch: 4, [batch: 1 / 159], examples_per_second: 14.4013, train_label_loss: 1.1848, \n"
     ]
    },
    {
     "name": "stdout",
     "output_type": "stream",
     "text": [
      "epoch: 4, [batch: 16 / 159], examples_per_second: 926.9228, train_label_loss: 1.2504, \n"
     ]
    },
    {
     "name": "stdout",
     "output_type": "stream",
     "text": [
      "epoch: 4, [batch: 32 / 159], examples_per_second: 1030.7248, train_label_loss: 1.2059, \n"
     ]
    },
    {
     "name": "stdout",
     "output_type": "stream",
     "text": [
      "epoch: 4, [batch: 48 / 159], examples_per_second: 1111.4191, train_label_loss: 1.2393, \n"
     ]
    },
    {
     "name": "stdout",
     "output_type": "stream",
     "text": [
      "epoch: 4, [batch: 64 / 159], examples_per_second: 1255.9955, train_label_loss: 1.0897, \n"
     ]
    },
    {
     "name": "stdout",
     "output_type": "stream",
     "text": [
      "epoch: 4, [batch: 80 / 159], examples_per_second: 1412.4036, train_label_loss: 1.2313, \n"
     ]
    },
    {
     "name": "stdout",
     "output_type": "stream",
     "text": [
      "epoch: 4, [batch: 95 / 159], examples_per_second: 1628.6003, train_label_loss: 1.1489, \n"
     ]
    },
    {
     "name": "stdout",
     "output_type": "stream",
     "text": [
      "epoch: 4, [batch: 111 / 159], examples_per_second: 1956.8432, train_label_loss: 0.8523, \n"
     ]
    },
    {
     "name": "stdout",
     "output_type": "stream",
     "text": [
      "epoch: 4, [batch: 127 / 159], examples_per_second: 2469.6402, train_label_loss: 1.1832, \n"
     ]
    },
    {
     "name": "stdout",
     "output_type": "stream",
     "text": [
      "epoch: 4, [batch: 143 / 159], examples_per_second: 2806.3329, train_label_loss: 1.5167, \n"
     ]
    },
    {
     "name": "stdout",
     "output_type": "stream",
     "text": [
      "=============================================================\n",
      "epoch: 4, source_val_acc_label: 0.6487, target_val_acc_label: 0.5246, source_val_label_loss: 0.9556, target_val_label_loss: 1.4920, \n",
      "=============================================================\n"
     ]
    },
    {
     "name": "stdout",
     "output_type": "stream",
     "text": [
      "New best\n"
     ]
    },
    {
     "name": "stdout",
     "output_type": "stream",
     "text": [
      "epoch: 5, [batch: 1 / 159], examples_per_second: 14.3551, train_label_loss: 0.7210, \n"
     ]
    },
    {
     "name": "stdout",
     "output_type": "stream",
     "text": [
      "epoch: 5, [batch: 16 / 159], examples_per_second: 927.1999, train_label_loss: 0.7769, \n"
     ]
    },
    {
     "name": "stdout",
     "output_type": "stream",
     "text": [
      "epoch: 5, [batch: 32 / 159], examples_per_second: 1034.9718, train_label_loss: 0.4451, \n"
     ]
    },
    {
     "name": "stdout",
     "output_type": "stream",
     "text": [
      "epoch: 5, [batch: 48 / 159], examples_per_second: 1128.3243, train_label_loss: 0.9487, \n"
     ]
    },
    {
     "name": "stdout",
     "output_type": "stream",
     "text": [
      "epoch: 5, [batch: 64 / 159], examples_per_second: 1218.0260, train_label_loss: 0.6771, \n"
     ]
    },
    {
     "name": "stdout",
     "output_type": "stream",
     "text": [
      "epoch: 5, [batch: 80 / 159], examples_per_second: 1428.6297, train_label_loss: 0.6075, \n"
     ]
    },
    {
     "name": "stdout",
     "output_type": "stream",
     "text": [
      "epoch: 5, [batch: 95 / 159], examples_per_second: 1619.5587, train_label_loss: 0.9227, \n"
     ]
    },
    {
     "name": "stdout",
     "output_type": "stream",
     "text": [
      "epoch: 5, [batch: 111 / 159], examples_per_second: 1897.4739, train_label_loss: 0.5924, \n"
     ]
    },
    {
     "name": "stdout",
     "output_type": "stream",
     "text": [
      "epoch: 5, [batch: 127 / 159], examples_per_second: 2388.7254, train_label_loss: 0.9107, \n"
     ]
    },
    {
     "name": "stdout",
     "output_type": "stream",
     "text": [
      "epoch: 5, [batch: 143 / 159], examples_per_second: 2963.9352, train_label_loss: 0.7748, \n"
     ]
    },
    {
     "name": "stdout",
     "output_type": "stream",
     "text": [
      "=============================================================\n",
      "epoch: 5, source_val_acc_label: 0.7305, target_val_acc_label: 0.5832, source_val_label_loss: 0.6959, target_val_label_loss: 1.2715, \n",
      "=============================================================\n"
     ]
    },
    {
     "name": "stdout",
     "output_type": "stream",
     "text": [
      "New best\n"
     ]
    },
    {
     "name": "stdout",
     "output_type": "stream",
     "text": [
      "epoch: 6, [batch: 1 / 159], examples_per_second: 14.2768, train_label_loss: 0.6654, \n"
     ]
    },
    {
     "name": "stdout",
     "output_type": "stream",
     "text": [
      "epoch: 6, [batch: 16 / 159], examples_per_second: 933.3389, train_label_loss: 0.6563, \n"
     ]
    },
    {
     "name": "stdout",
     "output_type": "stream",
     "text": [
      "epoch: 6, [batch: 32 / 159], examples_per_second: 1000.3780, train_label_loss: 0.7399, \n"
     ]
    },
    {
     "name": "stdout",
     "output_type": "stream",
     "text": [
      "epoch: 6, [batch: 48 / 159], examples_per_second: 1122.5334, train_label_loss: 0.6676, \n"
     ]
    },
    {
     "name": "stdout",
     "output_type": "stream",
     "text": [
      "epoch: 6, [batch: 64 / 159], examples_per_second: 1210.4680, train_label_loss: 0.7454, \n"
     ]
    },
    {
     "name": "stdout",
     "output_type": "stream",
     "text": [
      "epoch: 6, [batch: 80 / 159], examples_per_second: 1380.2186, train_label_loss: 0.4560, \n"
     ]
    },
    {
     "name": "stdout",
     "output_type": "stream",
     "text": [
      "epoch: 6, [batch: 95 / 159], examples_per_second: 1648.4708, train_label_loss: 0.7974, \n"
     ]
    },
    {
     "name": "stdout",
     "output_type": "stream",
     "text": [
      "epoch: 6, [batch: 111 / 159], examples_per_second: 1954.2797, train_label_loss: 0.7048, \n"
     ]
    },
    {
     "name": "stdout",
     "output_type": "stream",
     "text": [
      "epoch: 6, [batch: 127 / 159], examples_per_second: 2591.9221, train_label_loss: 0.4375, \n"
     ]
    },
    {
     "name": "stdout",
     "output_type": "stream",
     "text": [
      "epoch: 6, [batch: 143 / 159], examples_per_second: 2594.0859, train_label_loss: 0.8480, \n"
     ]
    },
    {
     "name": "stdout",
     "output_type": "stream",
     "text": [
      "=============================================================\n",
      "epoch: 6, source_val_acc_label: 0.7448, target_val_acc_label: 0.6023, source_val_label_loss: 0.6680, target_val_label_loss: 1.2402, \n",
      "=============================================================\n"
     ]
    },
    {
     "name": "stdout",
     "output_type": "stream",
     "text": [
      "New best\n"
     ]
    },
    {
     "name": "stdout",
     "output_type": "stream",
     "text": [
      "epoch: 7, [batch: 1 / 159], examples_per_second: 14.2491, train_label_loss: 0.6879, \n"
     ]
    },
    {
     "name": "stdout",
     "output_type": "stream",
     "text": [
      "epoch: 7, [batch: 16 / 159], examples_per_second: 931.1900, train_label_loss: 0.3952, \n"
     ]
    },
    {
     "name": "stdout",
     "output_type": "stream",
     "text": [
      "epoch: 7, [batch: 32 / 159], examples_per_second: 1061.0462, train_label_loss: 0.5760, \n"
     ]
    },
    {
     "name": "stdout",
     "output_type": "stream",
     "text": [
      "epoch: 7, [batch: 48 / 159], examples_per_second: 1086.8403, train_label_loss: 0.5503, \n"
     ]
    },
    {
     "name": "stdout",
     "output_type": "stream",
     "text": [
      "epoch: 7, [batch: 64 / 159], examples_per_second: 1261.3512, train_label_loss: 0.8098, \n"
     ]
    },
    {
     "name": "stdout",
     "output_type": "stream",
     "text": [
      "epoch: 7, [batch: 80 / 159], examples_per_second: 1415.9855, train_label_loss: 0.5899, \n"
     ]
    },
    {
     "name": "stdout",
     "output_type": "stream",
     "text": [
      "epoch: 7, [batch: 95 / 159], examples_per_second: 1653.5338, train_label_loss: 0.5526, \n"
     ]
    },
    {
     "name": "stdout",
     "output_type": "stream",
     "text": [
      "epoch: 7, [batch: 111 / 159], examples_per_second: 1907.8975, train_label_loss: 0.6197, \n"
     ]
    },
    {
     "name": "stdout",
     "output_type": "stream",
     "text": [
      "epoch: 7, [batch: 127 / 159], examples_per_second: 2497.1178, train_label_loss: 0.6566, \n"
     ]
    },
    {
     "name": "stdout",
     "output_type": "stream",
     "text": [
      "epoch: 7, [batch: 143 / 159], examples_per_second: 2656.1256, train_label_loss: 0.2929, \n"
     ]
    },
    {
     "name": "stdout",
     "output_type": "stream",
     "text": [
      "=============================================================\n",
      "epoch: 7, source_val_acc_label: 0.7654, target_val_acc_label: 0.6182, source_val_label_loss: 0.6217, target_val_label_loss: 1.3155, \n",
      "=============================================================\n"
     ]
    },
    {
     "name": "stdout",
     "output_type": "stream",
     "text": [
      "epoch: 8, [batch: 1 / 159], examples_per_second: 14.3090, train_label_loss: 0.3222, \n"
     ]
    },
    {
     "name": "stdout",
     "output_type": "stream",
     "text": [
      "epoch: 8, [batch: 16 / 159], examples_per_second: 928.6154, train_label_loss: 0.5841, \n"
     ]
    },
    {
     "name": "stdout",
     "output_type": "stream",
     "text": [
      "epoch: 8, [batch: 32 / 159], examples_per_second: 991.2107, train_label_loss: 0.5654, \n"
     ]
    },
    {
     "name": "stdout",
     "output_type": "stream",
     "text": [
      "epoch: 8, [batch: 48 / 159], examples_per_second: 1108.1879, train_label_loss: 0.6891, \n"
     ]
    },
    {
     "name": "stdout",
     "output_type": "stream",
     "text": [
      "epoch: 8, [batch: 64 / 159], examples_per_second: 1292.6322, train_label_loss: 0.5365, \n"
     ]
    },
    {
     "name": "stdout",
     "output_type": "stream",
     "text": [
      "epoch: 8, [batch: 80 / 159], examples_per_second: 1483.0356, train_label_loss: 0.4459, \n"
     ]
    },
    {
     "name": "stdout",
     "output_type": "stream",
     "text": [
      "epoch: 8, [batch: 95 / 159], examples_per_second: 1699.5808, train_label_loss: 0.5606, \n"
     ]
    },
    {
     "name": "stdout",
     "output_type": "stream",
     "text": [
      "epoch: 8, [batch: 111 / 159], examples_per_second: 2050.9640, train_label_loss: 0.4601, \n"
     ]
    },
    {
     "name": "stdout",
     "output_type": "stream",
     "text": [
      "epoch: 8, [batch: 127 / 159], examples_per_second: 2486.8122, train_label_loss: 0.6693, \n"
     ]
    },
    {
     "name": "stdout",
     "output_type": "stream",
     "text": [
      "epoch: 8, [batch: 143 / 159], examples_per_second: 2271.4263, train_label_loss: 0.2964, \n"
     ]
    },
    {
     "name": "stdout",
     "output_type": "stream",
     "text": [
      "=============================================================\n",
      "epoch: 8, source_val_acc_label: 0.7711, target_val_acc_label: 0.6229, source_val_label_loss: 0.6843, target_val_label_loss: 1.6164, \n",
      "=============================================================\n"
     ]
    },
    {
     "name": "stdout",
     "output_type": "stream",
     "text": [
      "epoch: 9, [batch: 1 / 159], examples_per_second: 14.3678, train_label_loss: 0.6183, \n"
     ]
    },
    {
     "name": "stdout",
     "output_type": "stream",
     "text": [
      "epoch: 9, [batch: 16 / 159], examples_per_second: 945.7951, train_label_loss: 0.6440, \n"
     ]
    },
    {
     "name": "stdout",
     "output_type": "stream",
     "text": [
      "epoch: 9, [batch: 32 / 159], examples_per_second: 1035.5566, train_label_loss: 0.5051, \n"
     ]
    },
    {
     "name": "stdout",
     "output_type": "stream",
     "text": [
      "epoch: 9, [batch: 48 / 159], examples_per_second: 1147.1875, train_label_loss: 0.4231, \n"
     ]
    },
    {
     "name": "stdout",
     "output_type": "stream",
     "text": [
      "epoch: 9, [batch: 64 / 159], examples_per_second: 1195.4879, train_label_loss: 0.5854, \n"
     ]
    },
    {
     "name": "stdout",
     "output_type": "stream",
     "text": [
      "epoch: 9, [batch: 80 / 159], examples_per_second: 1428.9784, train_label_loss: 0.4677, \n"
     ]
    },
    {
     "name": "stdout",
     "output_type": "stream",
     "text": [
      "epoch: 9, [batch: 95 / 159], examples_per_second: 1651.2779, train_label_loss: 0.4360, \n"
     ]
    },
    {
     "name": "stdout",
     "output_type": "stream",
     "text": [
      "epoch: 9, [batch: 111 / 159], examples_per_second: 1976.0957, train_label_loss: 0.2992, \n"
     ]
    },
    {
     "name": "stdout",
     "output_type": "stream",
     "text": [
      "epoch: 9, [batch: 127 / 159], examples_per_second: 2461.9652, train_label_loss: 0.5322, \n"
     ]
    },
    {
     "name": "stdout",
     "output_type": "stream",
     "text": [
      "epoch: 9, [batch: 143 / 159], examples_per_second: 2673.5339, train_label_loss: 0.4436, \n"
     ]
    },
    {
     "name": "stdout",
     "output_type": "stream",
     "text": [
      "=============================================================\n",
      "epoch: 9, source_val_acc_label: 0.7770, target_val_acc_label: 0.6266, source_val_label_loss: 0.5976, target_val_label_loss: 1.4091, \n",
      "=============================================================\n"
     ]
    },
    {
     "name": "stdout",
     "output_type": "stream",
     "text": [
      "epoch: 10, [batch: 1 / 159], examples_per_second: 14.3627, train_label_loss: 0.3140, \n"
     ]
    },
    {
     "name": "stdout",
     "output_type": "stream",
     "text": [
      "epoch: 10, [batch: 16 / 159], examples_per_second: 927.3067, train_label_loss: 0.1937, \n"
     ]
    },
    {
     "name": "stdout",
     "output_type": "stream",
     "text": [
      "epoch: 10, [batch: 32 / 159], examples_per_second: 1023.8356, train_label_loss: 0.5220, \n"
     ]
    },
    {
     "name": "stdout",
     "output_type": "stream",
     "text": [
      "epoch: 10, [batch: 48 / 159], examples_per_second: 1112.8759, train_label_loss: 0.2913, \n"
     ]
    },
    {
     "name": "stdout",
     "output_type": "stream",
     "text": [
      "epoch: 10, [batch: 64 / 159], examples_per_second: 1247.0738, train_label_loss: 0.3449, \n"
     ]
    },
    {
     "name": "stdout",
     "output_type": "stream",
     "text": [
      "epoch: 10, [batch: 80 / 159], examples_per_second: 1507.4714, train_label_loss: 0.6276, \n"
     ]
    },
    {
     "name": "stdout",
     "output_type": "stream",
     "text": [
      "epoch: 10, [batch: 95 / 159], examples_per_second: 1648.5015, train_label_loss: 0.2531, \n"
     ]
    },
    {
     "name": "stdout",
     "output_type": "stream",
     "text": [
      "epoch: 10, [batch: 111 / 159], examples_per_second: 1884.7656, train_label_loss: 0.2592, \n"
     ]
    },
    {
     "name": "stdout",
     "output_type": "stream",
     "text": [
      "epoch: 10, [batch: 127 / 159], examples_per_second: 2577.0511, train_label_loss: 0.4941, \n"
     ]
    },
    {
     "name": "stdout",
     "output_type": "stream",
     "text": [
      "epoch: 10, [batch: 143 / 159], examples_per_second: 2616.2094, train_label_loss: 0.3056, \n"
     ]
    },
    {
     "name": "stdout",
     "output_type": "stream",
     "text": [
      "=============================================================\n",
      "epoch: 10, source_val_acc_label: 0.7734, target_val_acc_label: 0.6351, source_val_label_loss: 0.6378, target_val_label_loss: 1.2611, \n",
      "=============================================================\n"
     ]
    },
    {
     "name": "stdout",
     "output_type": "stream",
     "text": [
      "Patience (3) exhausted\n"
     ]
    }
   ],
   "source": [
    "###################################\n",
    "# train\n",
    "###################################\n",
    "jig = PTN_Train_Eval_Test_Jig(model, p.BEST_MODEL_PATH, p.device)\n",
    "\n",
    "jig.train(\n",
    "    train_iterable=datasets.source.processed.train,\n",
    "    source_val_iterable=datasets.source.processed.val,\n",
    "    target_val_iterable=datasets.target.processed.val,\n",
    "    num_epochs=p.n_epoch,\n",
    "    num_logs_per_epoch=p.NUM_LOGS_PER_EPOCH,\n",
    "    patience=p.patience,\n",
    "    optimizer=optimizer,\n",
    "    criteria_for_best=p.criteria_for_best,\n",
    ")"
   ]
  },
  {
   "cell_type": "code",
   "execution_count": 14,
   "id": "31e8fabf",
   "metadata": {
    "execution": {
     "iopub.execute_input": "2022-03-04T07:50:23.079549Z",
     "iopub.status.busy": "2022-03-04T07:50:23.079302Z",
     "iopub.status.idle": "2022-03-04T07:50:23.094930Z",
     "shell.execute_reply": "2022-03-04T07:50:23.094714Z"
    },
    "papermill": {
     "duration": 0.048845,
     "end_time": "2022-03-04T07:50:23.094978",
     "exception": false,
     "start_time": "2022-03-04T07:50:23.046133",
     "status": "completed"
    },
    "tags": []
   },
   "outputs": [],
   "source": [
    "total_experiment_time_secs = time.time() - start_time_secs"
   ]
  },
  {
   "cell_type": "code",
   "execution_count": 15,
   "id": "87b9595b",
   "metadata": {
    "execution": {
     "iopub.execute_input": "2022-03-04T07:50:23.161903Z",
     "iopub.status.busy": "2022-03-04T07:50:23.161637Z",
     "iopub.status.idle": "2022-03-04T07:51:43.688061Z",
     "shell.execute_reply": "2022-03-04T07:51:43.687560Z"
    },
    "papermill": {
     "duration": 80.563101,
     "end_time": "2022-03-04T07:51:43.688167",
     "exception": false,
     "start_time": "2022-03-04T07:50:23.125066",
     "status": "completed"
    },
    "tags": []
   },
   "outputs": [],
   "source": [
    "###################################\n",
    "# Evaluate the model\n",
    "###################################\n",
    "source_test_label_accuracy, source_test_label_loss = jig.test(datasets.source.processed.test)\n",
    "target_test_label_accuracy, target_test_label_loss = jig.test(datasets.target.processed.test)\n",
    "\n",
    "source_val_label_accuracy, source_val_label_loss = jig.test(datasets.source.processed.val)\n",
    "target_val_label_accuracy, target_val_label_loss = jig.test(datasets.target.processed.val)\n",
    "\n",
    "history = jig.get_history()\n",
    "\n",
    "total_epochs_trained = len(history[\"epoch_indices\"])\n",
    "\n",
    "val_dl = Iterable_Aggregator((datasets.source.original.val,datasets.target.original.val))\n",
    "\n",
    "confusion = ptn_confusion_by_domain_over_dataloader(model, p.device, val_dl)\n",
    "per_domain_accuracy = per_domain_accuracy_from_confusion(confusion)\n",
    "\n",
    "# Add a key to per_domain_accuracy for if it was a source domain\n",
    "for domain, accuracy in per_domain_accuracy.items():\n",
    "    per_domain_accuracy[domain] = {\n",
    "        \"accuracy\": accuracy,\n",
    "        \"source?\": domain in p.domains_source\n",
    "    }\n",
    "\n",
    "# Do an independent accuracy assesment JUST TO BE SURE!\n",
    "# _source_test_label_accuracy = independent_accuracy_assesment(model, datasets.source.processed.test, p.device)\n",
    "# _target_test_label_accuracy = independent_accuracy_assesment(model, datasets.target.processed.test, p.device)\n",
    "# _source_val_label_accuracy = independent_accuracy_assesment(model, datasets.source.processed.val, p.device)\n",
    "# _target_val_label_accuracy = independent_accuracy_assesment(model, datasets.target.processed.val, p.device)\n",
    "\n",
    "# assert(_source_test_label_accuracy == source_test_label_accuracy)\n",
    "# assert(_target_test_label_accuracy == target_test_label_accuracy)\n",
    "# assert(_source_val_label_accuracy == source_val_label_accuracy)\n",
    "# assert(_target_val_label_accuracy == target_val_label_accuracy)\n",
    "\n",
    "experiment = {\n",
    "    \"experiment_name\": p.experiment_name,\n",
    "    \"parameters\": dict(p),\n",
    "    \"results\": {\n",
    "        \"source_test_label_accuracy\": source_test_label_accuracy,\n",
    "        \"source_test_label_loss\": source_test_label_loss,\n",
    "        \"target_test_label_accuracy\": target_test_label_accuracy,\n",
    "        \"target_test_label_loss\": target_test_label_loss,\n",
    "        \"source_val_label_accuracy\": source_val_label_accuracy,\n",
    "        \"source_val_label_loss\": source_val_label_loss,\n",
    "        \"target_val_label_accuracy\": target_val_label_accuracy,\n",
    "        \"target_val_label_loss\": target_val_label_loss,\n",
    "        \"total_epochs_trained\": total_epochs_trained,\n",
    "        \"total_experiment_time_secs\": total_experiment_time_secs,\n",
    "        \"confusion\": confusion,\n",
    "        \"per_domain_accuracy\": per_domain_accuracy,\n",
    "    },\n",
    "    \"history\": history,\n",
    "    \"dataset_metrics\": get_dataset_metrics(datasets, \"ptn\"),\n",
    "}"
   ]
  },
  {
   "cell_type": "code",
   "execution_count": 16,
   "id": "54a21829",
   "metadata": {
    "execution": {
     "iopub.execute_input": "2022-03-04T07:51:43.757932Z",
     "iopub.status.busy": "2022-03-04T07:51:43.757675Z",
     "iopub.status.idle": "2022-03-04T07:51:43.935917Z",
     "shell.execute_reply": "2022-03-04T07:51:43.936316Z"
    },
    "papermill": {
     "duration": 0.211552,
     "end_time": "2022-03-04T07:51:43.936446",
     "exception": false,
     "start_time": "2022-03-04T07:51:43.724894",
     "status": "completed"
    },
    "tags": []
   },
   "outputs": [
    {
     "data": {
      "image/png": "[encoded data removed]",
      "text/plain": [
       "<Figure size 1080x504 with 1 Axes>"
      ]
     },
     "metadata": {
      "needs_background": "light"
     },
     "output_type": "display_data"
    }
   ],
   "source": [
    "ax = get_loss_curve(experiment)\n",
    "plt.show()"
   ]
  },
  {
   "cell_type": "code",
   "execution_count": 17,
   "id": "fd8a0f60",
   "metadata": {
    "execution": {
     "iopub.execute_input": "2022-03-04T07:51:44.005345Z",
     "iopub.status.busy": "2022-03-04T07:51:44.005090Z",
     "iopub.status.idle": "2022-03-04T07:51:44.253211Z",
     "shell.execute_reply": "2022-03-04T07:51:44.252976Z"
    },
    "papermill": {
     "duration": 0.281674,
     "end_time": "2022-03-04T07:51:44.253274",
     "exception": false,
     "start_time": "2022-03-04T07:51:43.971600",
     "status": "completed"
    },
    "tags": []
   },
   "outputs": [
    {
     "data": {
      "text/plain": [
       "<matplotlib.axes._subplots.AxesSubplot at 0x7f8d4c288c10>"
      ]
     },
     "execution_count": 17,
     "metadata": {},
     "output_type": "execute_result"
    },
    {
     "data": {
      "image/png": "[encoded data removed]",
      "text/plain": [
       "<Figure size 1080x504 with 1 Axes>"
      ]
     },
     "metadata": {
      "needs_background": "light"
     },
     "output_type": "display_data"
    }
   ],
   "source": [
    "get_results_table(experiment)"
   ]
  },
  {
   "cell_type": "code",
   "execution_count": 18,
   "id": "cf8dc689",
   "metadata": {
    "execution": {
     "iopub.execute_input": "2022-03-04T07:51:44.325796Z",
     "iopub.status.busy": "2022-03-04T07:51:44.325357Z",
     "iopub.status.idle": "2022-03-04T07:51:44.497320Z",
     "shell.execute_reply": "2022-03-04T07:51:44.496834Z"
    },
    "papermill": {
     "duration": 0.208799,
     "end_time": "2022-03-04T07:51:44.497426",
     "exception": false,
     "start_time": "2022-03-04T07:51:44.288627",
     "status": "completed"
    },
    "tags": []
   },
   "outputs": [
    {
     "data": {
      "text/plain": [
       "<matplotlib.axes._subplots.AxesSubplot at 0x7f8d4c290bb0>"
      ]
     },
     "execution_count": 18,
     "metadata": {},
     "output_type": "execute_result"
    },
    {
     "data": {
      "image/png": "[encoded data removed]",
      "text/plain": [
       "<Figure size 1080x504 with 1 Axes>"
      ]
     },
     "metadata": {
      "needs_background": "light"
     },
     "output_type": "display_data"
    }
   ],
   "source": [
    "get_domain_accuracies(experiment)"
   ]
  },
  {
   "cell_type": "code",
   "execution_count": 19,
   "id": "a74ae082",
   "metadata": {
    "execution": {
     "iopub.execute_input": "2022-03-04T07:51:44.573509Z",
     "iopub.status.busy": "2022-03-04T07:51:44.573255Z",
     "iopub.status.idle": "2022-03-04T07:51:44.588936Z",
     "shell.execute_reply": "2022-03-04T07:51:44.588455Z"
    },
    "papermill": {
     "duration": 0.052708,
     "end_time": "2022-03-04T07:51:44.589034",
     "exception": false,
     "start_time": "2022-03-04T07:51:44.536326",
     "status": "completed"
    },
    "tags": []
   },
   "outputs": [
    {
     "name": "stdout",
     "output_type": "stream",
     "text": [
      "Source Test Label Accuracy: 0.7494318181818181 Target Test Label Accuracy: 0.5964772727272727\n",
      "Source Val Label Accuracy: 0.7447916666666666 Target Val Label Accuracy: 0.6022727272727273\n"
     ]
    }
   ],
   "source": [
    "print(\"Source Test Label Accuracy:\", experiment[\"results\"][\"source_test_label_accuracy\"], \"Target Test Label Accuracy:\", experiment[\"results\"][\"target_test_label_accuracy\"])\n",
    "print(\"Source Val Label Accuracy:\", experiment[\"results\"][\"source_val_label_accuracy\"], \"Target Val Label Accuracy:\", experiment[\"results\"][\"target_val_label_accuracy\"])"
   ]
  },
  {
   "cell_type": "code",
   "execution_count": 20,
   "id": "dacca602",
   "metadata": {
    "execution": {
     "iopub.execute_input": "2022-03-04T07:51:44.669657Z",
     "iopub.status.busy": "2022-03-04T07:51:44.664647Z",
     "iopub.status.idle": "2022-03-04T07:51:44.679150Z",
     "shell.execute_reply": "2022-03-04T07:51:44.678693Z"
    },
    "papermill": {
     "duration": 0.051497,
     "end_time": "2022-03-04T07:51:44.679249",
     "exception": false,
     "start_time": "2022-03-04T07:51:44.627752",
     "status": "completed"
    },
    "tags": [
     "experiment_json"
    ]
   },
   "outputs": [
    {
     "data": {
      "text/plain": [
       "'{\"experiment_name\": \"nQuery_oracle.run2\", \"parameters\": {\"experiment_name\": \"nQuery_oracle.run2\", \"device\": \"cuda\", \"lr\": 0.001, \"seed\": 1337, \"dataset_seed\": 1337, \"labels_source\": [\"3123D52\", \"3123D65\", \"3123D79\", \"3123D80\", \"3123D54\", \"3123D70\", \"3123D7B\", \"3123D89\", \"3123D58\", \"3123D76\", \"3123D7D\", \"3123EFE\", \"3123D64\", \"3123D78\", \"3123D7E\", \"3124E4A\"], \"labels_target\": [\"3123D52\", \"3123D65\", \"3123D79\", \"3123D80\", \"3123D54\", \"3123D70\", \"3123D7B\", \"3123D89\", \"3123D58\", \"3123D76\", \"3123D7D\", \"3123EFE\", \"3123D64\", \"3123D78\", \"3123D7E\", \"3124E4A\"], \"x_transforms_source\": [], \"x_transforms_target\": [], \"episode_transforms_source\": [], \"episode_transforms_target\": [], \"num_examples_per_domain_per_label_source\": 1000, \"num_examples_per_domain_per_label_target\": 1000, \"n_shot\": 3, \"n_way\": 16, \"train_k_factor\": 1, \"val_k_factor\": 2, \"test_k_factor\": 2, \"torch_default_dtype\": \"torch.float32\", \"n_epoch\": 50, \"patience\": 3, \"criteria_for_best\": \"target_loss\", \"x_net\": [{\"class\": \"nnReshape\", \"kargs\": {\"shape\": [-1, 1, 2, 256]}}, {\"class\": \"Conv2d\", \"kargs\": {\"in_channels\": 1, \"out_channels\": 256, \"kernel_size\": [1, 7], \"bias\": false, \"padding\": [0, 3]}}, {\"class\": \"ReLU\", \"kargs\": {\"inplace\": true}}, {\"class\": \"BatchNorm2d\", \"kargs\": {\"num_features\": 256}}, {\"class\": \"Conv2d\", \"kargs\": {\"in_channels\": 256, \"out_channels\": 80, \"kernel_size\": [2, 7], \"bias\": true, \"padding\": [0, 3]}}, {\"class\": \"ReLU\", \"kargs\": {\"inplace\": true}}, {\"class\": \"BatchNorm2d\", \"kargs\": {\"num_features\": 80}}, {\"class\": \"Flatten\", \"kargs\": {}}, {\"class\": \"Linear\", \"kargs\": {\"in_features\": 20480, \"out_features\": 256}}, {\"class\": \"ReLU\", \"kargs\": {\"inplace\": true}}, {\"class\": \"BatchNorm1d\", \"kargs\": {\"num_features\": 256}}, {\"class\": \"Linear\", \"kargs\": {\"in_features\": 256, \"out_features\": 256}}], \"NUM_LOGS_PER_EPOCH\": 10, \"BEST_MODEL_PATH\": \"./best_model.pth\", \"pickle_name\": \"oracle.Run2_10kExamples_stratified_ds.2022A.pkl\", \"n_query\": 10, \"domains_source\": [8, 32, 50], \"domains_target\": [14, 20, 26, 38, 44]}, \"results\": {\"source_test_label_accuracy\": 0.7494318181818181, \"source_test_label_loss\": 0.6728835701942444, \"target_test_label_accuracy\": 0.5964772727272727, \"target_test_label_loss\": 1.2258394956588745, \"source_val_label_accuracy\": 0.7447916666666666, \"source_val_label_loss\": 0.668007493019104, \"target_val_label_accuracy\": 0.6022727272727273, \"target_val_label_loss\": 1.2401543855667114, \"total_epochs_trained\": 10, \"total_experiment_time_secs\": 506.3315863609314, \"confusion\": {\"8\": {\"15\": {\"15\": 199, \"2\": 7, \"12\": 14}, \"3\": {\"3\": 220}, \"6\": {\"8\": 38, \"6\": 98, \"14\": 75, \"1\": 3, \"4\": 4, \"11\": 2}, \"1\": {\"1\": 112, \"4\": 40, \"5\": 21, \"7\": 9, \"13\": 7, \"10\": 19, \"14\": 4, \"8\": 3, \"6\": 5}, \"8\": {\"11\": 24, \"8\": 145, \"6\": 43, \"4\": 2, \"14\": 5, \"1\": 1}, \"10\": {\"10\": 99, \"13\": 45, \"5\": 59, \"1\": 12, \"7\": 5}, \"9\": {\"9\": 220}, \"13\": {\"13\": 157, \"7\": 6, \"10\": 51, \"5\": 5, \"11\": 1}, \"12\": {\"12\": 195, \"2\": 12, \"15\": 13}, \"5\": {\"1\": 29, \"5\": 108, \"10\": 68, \"13\": 9, \"7\": 2, \"4\": 4}, \"0\": {\"0\": 220}, \"2\": {\"2\": 200, \"15\": 9, \"12\": 9, \"13\": 2}, \"11\": {\"11\": 109, \"7\": 20, \"4\": 7, \"8\": 66, \"6\": 11, \"13\": 1, \"12\": 1, \"14\": 5}, \"14\": {\"6\": 69, \"14\": 133, \"4\": 2, \"8\": 15, \"1\": 1}, \"7\": {\"7\": 131, \"4\": 40, \"11\": 13, \"1\": 29, \"5\": 3, \"13\": 1, \"10\": 2, \"8\": 1}, \"4\": {\"4\": 95, \"7\": 49, \"1\": 44, \"8\": 11, \"6\": 5, \"5\": 2, \"10\": 3, \"11\": 5, \"14\": 5, \"13\": 1}}, \"50\": {\"13\": {\"13\": 202, \"8\": 5, \"1\": 13}, \"14\": {\"14\": 213, \"2\": 7}, \"9\": {\"9\": 170, \"15\": 47, \"12\": 2, \"6\": 1}, \"5\": {\"15\": 2, \"5\": 127, \"6\": 26, \"4\": 59, \"7\": 6}, \"7\": {\"7\": 174, \"4\": 33, \"5\": 13}, \"15\": {\"15\": 121, \"12\": 11, \"9\": 48, \"6\": 25, \"4\": 12, \"5\": 3}, \"11\": {\"11\": 186, \"12\": 29, \"1\": 5}, \"0\": {\"0\": 175, \"2\": 25, \"10\": 20}, \"12\": {\"12\": 170, \"11\": 22, \"9\": 10, \"6\": 10, \"15\": 8}, \"10\": {\"10\": 199, \"0\": 19, \"13\": 1, \"1\": 1}, \"8\": {\"8\": 218, \"13\": 2}, \"2\": {\"2\": 199, \"0\": 20, \"14\": 1}, \"6\": {\"15\": 13, \"6\": 171, \"12\": 13, \"5\": 22, \"4\": 1}, \"3\": {\"3\": 220}, \"4\": {\"4\": 162, \"5\": 43, \"15\": 2, \"7\": 13}, \"1\": {\"1\": 193, \"13\": 19, \"11\": 8}}, \"32\": {\"8\": {\"8\": 144, \"7\": 46, \"2\": 3, \"0\": 27}, \"15\": {\"15\": 199, \"5\": 18, \"8\": 2, \"7\": 1}, \"11\": {\"11\": 86, \"4\": 83, \"13\": 37, \"3\": 8, \"8\": 2, \"9\": 1, \"0\": 3}, \"9\": {\"9\": 213, \"12\": 5, \"11\": 2}, \"3\": {\"3\": 185, \"11\": 5, \"13\": 25, \"4\": 5}, \"1\": {\"1\": 220}, \"12\": {\"12\": 220}, \"4\": {\"4\": 156, \"3\": 10, \"11\": 42, \"0\": 12}, \"5\": {\"5\": 170, \"15\": 33, \"14\": 6, \"2\": 4, \"0\": 1, \"7\": 6}, \"10\": {\"10\": 220}, \"7\": {\"2\": 45, \"8\": 74, \"15\": 5, \"7\": 63, \"0\": 25, \"14\": 8}, \"0\": {\"8\": 34, \"14\": 17, \"0\": 97, \"4\": 18, \"7\": 32, \"2\": 21, \"11\": 1}, \"13\": {\"13\": 146, \"3\": 30, \"11\": 38, \"4\": 6}, \"2\": {\"8\": 10, \"14\": 70, \"2\": 81, \"7\": 38, \"0\": 21}, \"6\": {\"6\": 220}, \"14\": {\"14\": 104, \"2\": 76, \"7\": 22, \"0\": 12, \"15\": 2, \"5\": 2, \"4\": 1, \"8\": 1}}, \"14\": {\"15\": {\"15\": 220}, \"3\": {\"7\": 7, \"3\": 182, \"6\": 20, \"2\": 4, \"10\": 3, \"14\": 3, \"13\": 1}, \"6\": {\"6\": 144, \"13\": 64, \"3\": 12}, \"1\": {\"1\": 220}, \"8\": {\"8\": 150, \"10\": 48, \"0\": 19, \"12\": 3}, \"10\": {\"8\": 53, \"0\": 44, \"4\": 7, \"10\": 73, \"3\": 13, \"5\": 15, \"14\": 10, \"2\": 1, \"12\": 2, \"6\": 2}, \"9\": {\"9\": 215, \"8\": 1, \"0\": 4}, \"13\": {\"13\": 144, \"6\": 75, \"3\": 1}, \"12\": {\"12\": 73, \"9\": 37, \"8\": 25, \"1\": 7, \"11\": 10, \"3\": 17, \"15\": 40, \"4\": 3, \"6\": 2, \"2\": 1, \"10\": 2, \"0\": 2, \"14\": 1}, \"5\": {\"10\": 13, \"14\": 57, \"5\": 92, \"2\": 42, \"4\": 2, \"8\": 1, \"7\": 7, \"3\": 3, \"0\": 3}, \"0\": {\"0\": 148, \"4\": 29, \"9\": 4, \"10\": 30, \"8\": 5, \"5\": 3, \"14\": 1}, \"2\": {\"3\": 16, \"5\": 49, \"2\": 55, \"14\": 33, \"4\": 2, \"7\": 58, \"6\": 5, \"0\": 1, \"10\": 1}, \"11\": {\"11\": 220}, \"14\": {\"2\": 53, \"10\": 6, \"14\": 61, \"5\": 64, \"7\": 29, \"3\": 5, \"0\": 1, \"4\": 1}, \"7\": {\"7\": 172, \"2\": 22, \"6\": 4, \"13\": 4, \"14\": 8, \"3\": 8, \"5\": 2}, \"4\": {\"4\": 173, \"0\": 41, \"10\": 3, \"5\": 2, \"14\": 1}}, \"20\": {\"6\": {\"6\": 156, \"7\": 25, \"10\": 31, \"3\": 2, \"9\": 1, \"4\": 3, \"12\": 1, \"2\": 1}, \"10\": {\"6\": 38, \"7\": 23, \"10\": 130, \"12\": 21, \"3\": 1, \"13\": 3, \"4\": 2, \"15\": 1, \"9\": 1}, \"3\": {\"3\": 48, \"5\": 20, \"4\": 29, \"15\": 17, \"7\": 34, \"12\": 3, \"13\": 7, \"2\": 33, \"9\": 23, \"1\": 1, \"6\": 3, \"10\": 1, \"14\": 1}, \"12\": {\"12\": 89, \"13\": 115, \"4\": 4, \"10\": 6, \"7\": 2, \"3\": 1, \"15\": 2, \"9\": 1}, \"4\": {\"4\": 41, \"3\": 42, \"9\": 22, \"10\": 7, \"15\": 20, \"2\": 16, \"7\": 46, \"13\": 3, \"5\": 7, \"12\": 8, \"6\": 7, \"14\": 1}, \"8\": {\"8\": 96, \"11\": 53, \"14\": 60, \"0\": 8, \"5\": 1, \"1\": 2}, \"2\": {\"6\": 3, \"4\": 12, \"3\": 18, \"2\": 50, \"1\": 11, \"5\": 43, \"15\": 42, \"9\": 28, \"7\": 8, \"14\": 3, \"8\": 1, \"13\": 1}, \"7\": {\"6\": 29, \"3\": 34, \"9\": 9, \"5\": 8, \"4\": 37, \"10\": 22, \"7\": 64, \"15\": 5, \"13\": 2, \"12\": 5, \"14\": 2, \"2\": 3}, \"15\": {\"3\": 20, \"5\": 17, \"7\": 12, \"1\": 5, \"4\": 14, \"2\": 28, \"12\": 12, \"9\": 44, \"15\": 53, \"13\": 15}, \"11\": {\"11\": 111, \"0\": 42, \"8\": 59, \"14\": 8}, \"0\": {\"11\": 47, \"0\": 153, \"8\": 9, \"1\": 10, \"5\": 1}, \"5\": {\"5\": 49, \"3\": 23, \"1\": 34, \"2\": 48, \"9\": 23, \"15\": 19, \"4\": 14, \"7\": 3, \"14\": 1, \"8\": 1, \"0\": 4, \"11\": 1}, \"14\": {\"14\": 142, \"8\": 62, \"5\": 5, \"0\": 2, \"3\": 2, \"15\": 2, \"11\": 4, \"1\": 1}, \"9\": {\"1\": 14, \"15\": 40, \"3\": 35, \"12\": 3, \"2\": 34, \"4\": 26, \"13\": 4, \"7\": 8, \"9\": 35, \"5\": 20, \"6\": 1}, \"1\": {\"1\": 141, \"5\": 36, \"9\": 6, \"15\": 10, \"4\": 2, \"2\": 21, \"8\": 1, \"0\": 1, \"3\": 2}, \"13\": {\"3\": 3, \"12\": 83, \"13\": 109, \"10\": 5, \"4\": 6, \"15\": 6, \"9\": 5, \"7\": 3}}, \"44\": {\"8\": {\"8\": 156, \"5\": 22, \"0\": 33, \"15\": 9}, \"15\": {\"8\": 16, \"15\": 140, \"0\": 10, \"5\": 49, \"4\": 3, \"14\": 2}, \"11\": {\"11\": 220}, \"9\": {\"7\": 82, \"9\": 128, \"13\": 1, \"6\": 6, \"10\": 2, \"4\": 1}, \"3\": {\"3\": 172, \"12\": 48}, \"1\": {\"1\": 157, \"2\": 63}, \"12\": {\"12\": 187, \"3\": 33}, \"4\": {\"4\": 157, \"14\": 60, \"7\": 3}, \"5\": {\"5\": 148, \"8\": 16, \"15\": 30, \"14\": 24, \"4\": 2}, \"10\": {\"10\": 182, \"7\": 14, \"6\": 17, \"9\": 7}, \"7\": {\"7\": 125, \"9\": 78, \"10\": 13, \"6\": 4}, \"0\": {\"0\": 157, \"8\": 51, \"15\": 7, \"5\": 5}, \"13\": {\"13\": 196, \"4\": 8, \"6\": 15, \"7\": 1}, \"2\": {\"2\": 151, \"1\": 69}, \"6\": {\"6\": 189, \"13\": 11, \"10\": 13, \"9\": 3, \"7\": 4}, \"14\": {\"14\": 165, \"4\": 47, \"5\": 8}}, \"38\": {\"8\": {\"8\": 183, \"5\": 13, \"2\": 2, \"12\": 5, \"7\": 3, \"9\": 3, \"14\": 7, \"0\": 4}, \"15\": {\"15\": 93, \"9\": 1, \"1\": 78, \"6\": 44, \"5\": 1, \"12\": 3}, \"14\": {\"2\": 57, \"14\": 90, \"7\": 48, \"4\": 4, \"5\": 5, \"8\": 13, \"13\": 3}, \"9\": {\"9\": 132, \"12\": 56, \"8\": 10, \"5\": 21, \"0\": 1}, \"10\": {\"10\": 114, \"4\": 47, \"3\": 44, \"13\": 15}, \"11\": {\"11\": 220}, \"13\": {\"13\": 127, \"10\": 45, \"4\": 6, \"3\": 42}, \"2\": {\"2\": 192, \"14\": 28}, \"7\": {\"7\": 178, \"14\": 8, \"0\": 34}, \"4\": {\"4\": 162, \"10\": 28, \"3\": 23, \"7\": 6, \"13\": 1}, \"3\": {\"13\": 52, \"4\": 28, \"10\": 53, \"3\": 77, \"11\": 9, \"7\": 1}, \"0\": {\"0\": 166, \"7\": 51, \"4\": 2, \"8\": 1}, \"12\": {\"5\": 59, \"12\": 83, \"9\": 67, \"8\": 10, \"2\": 1}, \"5\": {\"9\": 21, \"12\": 61, \"8\": 71, \"5\": 62, \"14\": 4, \"7\": 1}, \"6\": {\"6\": 193, \"15\": 27}, \"1\": {\"15\": 28, \"1\": 192}}, \"26\": {\"2\": {\"15\": 16, \"9\": 32, \"2\": 75, \"8\": 56, \"7\": 24, \"3\": 9, \"0\": 3, \"13\": 4, \"10\": 1}, \"15\": {\"15\": 116, \"8\": 15, \"9\": 5, \"10\": 13, \"0\": 47, \"2\": 16, \"14\": 6, \"7\": 2}, \"10\": {\"8\": 10, \"9\": 7, \"0\": 42, \"15\": 34, \"1\": 10, \"10\": 51, \"14\": 38, \"5\": 9, \"2\": 8, \"6\": 10, \"12\": 1}, \"3\": {\"13\": 8, \"7\": 45, \"3\": 163, \"9\": 2, \"4\": 2}, \"8\": {\"9\": 55, \"8\": 72, \"2\": 57, \"15\": 22, \"13\": 5, \"0\": 2, \"7\": 2, \"10\": 5}, \"1\": {\"1\": 172, \"6\": 25, \"5\": 22, \"10\": 1}, \"4\": {\"4\": 212, \"3\": 8}, \"6\": {\"5\": 90, \"6\": 92, \"1\": 24, \"14\": 14}, \"9\": {\"9\": 67, \"13\": 27, \"2\": 45, \"7\": 8, \"8\": 60, \"15\": 6, \"3\": 3, \"10\": 4}, \"7\": {\"13\": 39, \"3\": 52, \"2\": 23, \"7\": 79, \"9\": 18, \"8\": 8, \"15\": 1}, \"5\": {\"6\": 79, \"5\": 55, \"1\": 49, \"10\": 8, \"14\": 25, \"0\": 3, \"11\": 1}, \"14\": {\"14\": 78, \"15\": 8, \"5\": 23, \"1\": 15, \"0\": 32, \"10\": 44, \"6\": 20}, \"13\": {\"13\": 153, \"9\": 16, \"12\": 5, \"8\": 10, \"7\": 25, \"3\": 5, \"2\": 6}, \"11\": {\"11\": 220}, \"12\": {\"12\": 215, \"10\": 2, \"9\": 2, \"8\": 1}, \"0\": {\"10\": 55, \"15\": 47, \"0\": 77, \"8\": 7, \"14\": 24, \"2\": 7, \"9\": 1, \"6\": 1, \"1\": 1}}}, \"per_domain_accuracy\": {\"8\": {\"accuracy\": 0.6934659090909091, \"source?\": true}, \"50\": {\"accuracy\": 0.8238636363636364, \"source?\": true}, \"32\": {\"accuracy\": 0.7170454545454545, \"source?\": true}, \"14\": {\"accuracy\": 0.665340909090909, \"source?\": false}, \"20\": {\"accuracy\": 0.4167613636363636, \"source?\": false}, \"44\": {\"accuracy\": 0.7471590909090909, \"source?\": false}, \"38\": {\"accuracy\": 0.6431818181818182, \"source?\": false}, \"26\": {\"accuracy\": 0.5389204545454546, \"source?\": false}}}, \"history\": {\"epoch_indices\": [1, 2, 3, 4, 5, 6, 7, 8, 9, 10], \"train_label_loss\": [1.2703242714300096, 1.2801158570643492, 1.216581997631481, 1.1107774234417849, 0.758879803636539, 0.6167388755195545, 0.5365001546136988, 0.4749361942961531, 0.44881220190030224, 0.4044664017621826], \"source_val_label_loss\": [1.7152982950210571, 1.2783845663070679, 1.2188769578933716, 0.9555685520172119, 0.695949137210846, 0.668007493019104, 0.62171870470047, 0.6842975616455078, 0.5976287722587585, 0.6377878189086914], \"target_val_label_loss\": [1.8272671699523926, 1.814762830734253, 1.85287344455719, 1.4919984340667725, 1.2715086936950684, 1.2401543855667114, 1.3154633045196533, 1.6163839101791382, 1.4090958833694458, 1.2611430883407593], \"source_val_acc_label\": [0.46136363636363636, 0.46524621212121214, 0.49318181818181817, 0.6486742424242424, 0.7304924242424242, 0.7447916666666666, 0.765435606060606, 0.7711174242424242, 0.7769886363636364, 0.7733901515151516], \"target_val_acc_label\": [0.39494318181818183, 0.40255681818181815, 0.4078977272727273, 0.5246022727272728, 0.5832386363636364, 0.6022727272727273, 0.6181818181818182, 0.6228977272727273, 0.6266477272727272, 0.6351136363636364]}, \"dataset_metrics\": {\"source\": {\"train\": {\"n_unique_x\": 33072, \"n_unique_y\": 16, \"n_batch/episode\": 159}, \"val\": {\"n_unique_x\": 7176, \"n_unique_y\": 16, \"n_batch/episode\": 66}, \"test\": {\"n_unique_x\": 7176, \"n_unique_y\": 16, \"n_batch/episode\": 66}}, \"target\": {\"train\": {\"n_unique_x\": 55120, \"n_unique_y\": 16, \"n_batch/episode\": 265}, \"val\": {\"n_unique_x\": 11974, \"n_unique_y\": 16, \"n_batch/episode\": 110}, \"test\": {\"n_unique_x\": 11974, \"n_unique_y\": 16, \"n_batch/episode\": 110}}}}'"
      ]
     },
     "execution_count": 20,
     "metadata": {},
     "output_type": "execute_result"
    }
   ],
   "source": [
    "json.dumps(experiment)"
   ]
  }
 ],
 "metadata": {
  "celltoolbar": "Tags",
  "kernelspec": {
   "display_name": "Python 3 (ipykernel)",
   "language": "python",
   "name": "python3"
  },
  "language_info": {
   "codemirror_mode": {
    "name": "ipython",
    "version": 3
   },
   "file_extension": ".py",
   "mimetype": "text/x-python",
   "name": "python",
   "nbconvert_exporter": "python",
   "pygments_lexer": "ipython3",
   "version": "3.8.10"
  },
  "papermill": {
   "default_parameters": {},
   "duration": 590.235891,
   "end_time": "2022-03-04T07:51:45.324211",
   "environment_variables": {},
   "exception": null,
   "input_path": "/mnt/wd500GB/CSC500/csc500-main/csc500-notebooks/templates/ptn_template.ipynb",
   "output_path": "trial.ipynb",
   "parameters": {
    "parameters": {
     "BEST_MODEL_PATH": "./best_model.pth",
     "NUM_LOGS_PER_EPOCH": 10,
     "criteria_for_best": "target_loss",
     "dataset_seed": 1337,
     "device": "cuda",
     "domains_source": [
      8,
      32,
      50
     ],
     "domains_target": [
      14,
      20,
      26,
      38,
      44
     ],
     "episode_transforms_source": [],
     "episode_transforms_target": [],
     "experiment_name": "nQuery_oracle.run2",
     "labels_source": [
      "3123D52",
      "3123D65",
      "3123D79",
      "3123D80",
      "3123D54",
      "3123D70",
      "3123D7B",
      "3123D89",
      "3123D58",
      "3123D76",
      "3123D7D",
      "3123EFE",
      "3123D64",
      "3123D78",
      "3123D7E",
      "3124E4A"
     ],
     "labels_target": [
      "3123D52",
      "3123D65",
      "3123D79",
      "3123D80",
      "3123D54",
      "3123D70",
      "3123D7B",
      "3123D89",
      "3123D58",
      "3123D76",
      "3123D7D",
      "3123EFE",
      "3123D64",
      "3123D78",
      "3123D7E",
      "3124E4A"
     ],
     "lr": 0.001,
     "n_epoch": 50,
     "n_query": 10,
     "n_shot": 3,
     "n_way": 16,
     "num_examples_per_domain_per_label_source": 1000,
     "num_examples_per_domain_per_label_target": 1000,
     "patience": 3,
     "pickle_name": "oracle.Run2_10kExamples_stratified_ds.2022A.pkl",
     "seed": 1337,
     "test_k_factor": 2,
     "torch_default_dtype": "torch.float32",
     "train_k_factor": 1,
     "val_k_factor": 2,
     "x_net": [
      {
       "class": "nnReshape",
       "kargs": {
        "shape": [
         -1,
         1,
         2,
         256
        ]
       }
      },
      {
       "class": "Conv2d",
       "kargs": {
        "bias": false,
        "in_channels": 1,
        "kernel_size": [
         1,
         7
        ],
        "out_channels": 256,
        "padding": [
         0,
         3
        ]
       }
      },
      {
       "class": "ReLU",
       "kargs": {
        "inplace": true
       }
      },
      {
       "class": "BatchNorm2d",
       "kargs": {
        "num_features": 256
       }
      },
      {
       "class": "Conv2d",
       "kargs": {
        "bias": true,
        "in_channels": 256,
        "kernel_size": [
         2,
         7
        ],
        "out_channels": 80,
        "padding": [
         0,
         3
        ]
       }
      },
      {
       "class": "ReLU",
       "kargs": {
        "inplace": true
       }
      },
      {
       "class": "BatchNorm2d",
       "kargs": {
        "num_features": 80
       }
      },
      {
       "class": "Flatten",
       "kargs": {}
      },
      {
       "class": "Linear",
       "kargs": {
        "in_features": 20480,
        "out_features": 256
       }
      },
      {
       "class": "ReLU",
       "kargs": {
        "inplace": true
       }
      },
      {
       "class": "BatchNorm1d",
       "kargs": {
        "num_features": 256
       }
      },
      {
       "class": "Linear",
       "kargs": {
        "in_features": 256,
        "out_features": 256
       }
      }
     ],
     "x_transforms_source": [],
     "x_transforms_target": []
    }
   },
   "start_time": "2022-03-04T07:41:55.088320",
   "version": "2.3.4"
  }
 },
 "nbformat": 4,
 "nbformat_minor": 5
}