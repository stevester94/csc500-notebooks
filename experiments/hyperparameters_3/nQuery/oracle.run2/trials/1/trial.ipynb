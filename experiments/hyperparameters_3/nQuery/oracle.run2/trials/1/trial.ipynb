{
 "cells": [
  {
   "cell_type": "markdown",
   "id": "9fea5f46",
   "metadata": {
    "papermill": {
     "duration": 0.014093,
     "end_time": "2022-03-04T07:30:57.559389",
     "exception": false,
     "start_time": "2022-03-04T07:30:57.545296",
     "status": "completed"
    },
    "tags": []
   },
   "source": [
    "# PTN Template\n",
    "This notebook serves as a template for single dataset PTN experiments  \n",
    "It can be run on its own by setting STANDALONE to True (do a find for \"STANDALONE\" to see where)  \n",
    "But it is intended to be executed as part of a *papermill.py script. See any of the   \n",
    "experimentes with a papermill script to get started with that workflow.  "
   ]
  },
  {
   "cell_type": "code",
   "execution_count": 1,
   "id": "0902182a",
   "metadata": {
    "execution": {
     "iopub.execute_input": "2022-03-04T07:30:57.591618Z",
     "iopub.status.busy": "2022-03-04T07:30:57.591245Z",
     "iopub.status.idle": "2022-03-04T07:30:58.313289Z",
     "shell.execute_reply": "2022-03-04T07:30:58.312993Z"
    },
    "papermill": {
     "duration": 0.744877,
     "end_time": "2022-03-04T07:30:58.313363",
     "exception": false,
     "start_time": "2022-03-04T07:30:57.568486",
     "status": "completed"
    },
    "tags": []
   },
   "outputs": [],
   "source": [
    "%load_ext autoreload\n",
    "%autoreload 2\n",
    "%matplotlib inline\n",
    "\n",
    "    \n",
    "import os, json, sys, time, random\n",
    "import numpy as np\n",
    "import torch\n",
    "from torch.optim import Adam\n",
    "from  easydict import EasyDict\n",
    "import matplotlib.pyplot as plt\n",
    "\n",
    "from steves_models.steves_ptn import Steves_Prototypical_Network\n",
    "\n",
    "from steves_utils.lazy_iterable_wrapper import Lazy_Iterable_Wrapper\n",
    "from steves_utils.iterable_aggregator import Iterable_Aggregator\n",
    "from steves_utils.ptn_train_eval_test_jig import  PTN_Train_Eval_Test_Jig\n",
    "from steves_utils.torch_sequential_builder import build_sequential\n",
    "from steves_utils.torch_utils import get_dataset_metrics, ptn_confusion_by_domain_over_dataloader\n",
    "from steves_utils.utils_v2 import (per_domain_accuracy_from_confusion, get_datasets_base_path)\n",
    "from steves_utils.PTN.utils import independent_accuracy_assesment\n",
    "\n",
    "from steves_utils.stratified_dataset.episodic_accessor import Episodic_Accessor_Factory\n",
    "\n",
    "from steves_utils.ptn_do_report import (\n",
    "    get_loss_curve,\n",
    "    get_results_table,\n",
    "    get_parameters_table,\n",
    "    get_domain_accuracies,\n",
    ")\n",
    "\n",
    "from steves_utils.transforms import get_chained_transform"
   ]
  },
  {
   "cell_type": "markdown",
   "id": "41c840b4",
   "metadata": {
    "papermill": {
     "duration": 0.00946,
     "end_time": "2022-03-04T07:30:58.332811",
     "exception": false,
     "start_time": "2022-03-04T07:30:58.323351",
     "status": "completed"
    },
    "tags": []
   },
   "source": [
    "# Required Parameters\n",
    "These are allowed parameters, not defaults\n",
    "Each of these values need to be present in the injected parameters (the notebook will raise an exception if they are not present)\n",
    "\n",
    "Papermill uses the cell tag \"parameters\" to inject the real parameters below this cell.\n",
    "Enable tags to see what I mean"
   ]
  },
  {
   "cell_type": "code",
   "execution_count": 2,
   "id": "fd44eb83",
   "metadata": {
    "execution": {
     "iopub.execute_input": "2022-03-04T07:30:58.355781Z",
     "iopub.status.busy": "2022-03-04T07:30:58.355510Z",
     "iopub.status.idle": "2022-03-04T07:30:58.368799Z",
     "shell.execute_reply": "2022-03-04T07:30:58.368305Z"
    },
    "papermill": {
     "duration": 0.026441,
     "end_time": "2022-03-04T07:30:58.368900",
     "exception": false,
     "start_time": "2022-03-04T07:30:58.342459",
     "status": "completed"
    },
    "tags": []
   },
   "outputs": [],
   "source": [
    "required_parameters = {\n",
    "    \"experiment_name\",\n",
    "    \"lr\",\n",
    "    \"device\",\n",
    "    \"seed\",\n",
    "    \"dataset_seed\",\n",
    "    \"labels_source\",\n",
    "    \"labels_target\",\n",
    "    \"domains_source\",\n",
    "    \"domains_target\",\n",
    "    \"num_examples_per_domain_per_label_source\",\n",
    "    \"num_examples_per_domain_per_label_target\",\n",
    "    \"n_shot\",\n",
    "    \"n_way\",\n",
    "    \"n_query\",\n",
    "    \"train_k_factor\",\n",
    "    \"val_k_factor\",\n",
    "    \"test_k_factor\",\n",
    "    \"n_epoch\",\n",
    "    \"patience\",\n",
    "    \"criteria_for_best\",\n",
    "    \"x_transforms_source\",\n",
    "    \"x_transforms_target\",\n",
    "    \"episode_transforms_source\",\n",
    "    \"episode_transforms_target\",\n",
    "    \"pickle_name\",\n",
    "    \"x_net\",\n",
    "    \"NUM_LOGS_PER_EPOCH\",\n",
    "    \"BEST_MODEL_PATH\",\n",
    "    \"torch_default_dtype\"\n",
    "}"
   ]
  },
  {
   "cell_type": "code",
   "execution_count": 3,
   "id": "fa3f0049",
   "metadata": {
    "execution": {
     "iopub.execute_input": "2022-03-04T07:30:58.404238Z",
     "iopub.status.busy": "2022-03-04T07:30:58.394856Z",
     "iopub.status.idle": "2022-03-04T07:30:58.415315Z",
     "shell.execute_reply": "2022-03-04T07:30:58.414818Z"
    },
    "papermill": {
     "duration": 0.031696,
     "end_time": "2022-03-04T07:30:58.415417",
     "exception": false,
     "start_time": "2022-03-04T07:30:58.383721",
     "status": "completed"
    },
    "tags": [
     "parameters"
    ]
   },
   "outputs": [],
   "source": [
    "\n",
    "\n",
    "standalone_parameters = {}\n",
    "standalone_parameters[\"experiment_name\"] = \"STANDALONE PTN\"\n",
    "standalone_parameters[\"lr\"] = 0.0001\n",
    "standalone_parameters[\"device\"] = \"cuda\"\n",
    "\n",
    "standalone_parameters[\"seed\"] = 1337\n",
    "standalone_parameters[\"dataset_seed\"] = 1337\n",
    "\n",
    "\n",
    "standalone_parameters[\"num_examples_per_domain_per_label_source\"]=100\n",
    "standalone_parameters[\"num_examples_per_domain_per_label_target\"]=100\n",
    "\n",
    "standalone_parameters[\"n_shot\"] = 3\n",
    "standalone_parameters[\"n_query\"]  = 2\n",
    "standalone_parameters[\"train_k_factor\"] = 1\n",
    "standalone_parameters[\"val_k_factor\"] = 2\n",
    "standalone_parameters[\"test_k_factor\"] = 2\n",
    "\n",
    "\n",
    "standalone_parameters[\"n_epoch\"] = 100\n",
    "\n",
    "standalone_parameters[\"patience\"] = 10\n",
    "standalone_parameters[\"criteria_for_best\"] = \"target_accuracy\"\n",
    "\n",
    "standalone_parameters[\"x_transforms_source\"] = [\"unit_power\"]\n",
    "standalone_parameters[\"x_transforms_target\"] = [\"unit_power\"]\n",
    "standalone_parameters[\"episode_transforms_source\"] = []\n",
    "standalone_parameters[\"episode_transforms_target\"] = []\n",
    "\n",
    "standalone_parameters[\"torch_default_dtype\"] = \"torch.float32\" \n",
    "\n",
    "\n",
    "\n",
    "standalone_parameters[\"x_net\"] =     [\n",
    "    {\"class\": \"nnReshape\", \"kargs\": {\"shape\":[-1, 1, 2, 256]}},\n",
    "    {\"class\": \"Conv2d\", \"kargs\": { \"in_channels\":1, \"out_channels\":256, \"kernel_size\":(1,7), \"bias\":False, \"padding\":(0,3), },},\n",
    "    {\"class\": \"ReLU\", \"kargs\": {\"inplace\": True}},\n",
    "    {\"class\": \"BatchNorm2d\", \"kargs\": {\"num_features\":256}},\n",
    "\n",
    "    {\"class\": \"Conv2d\", \"kargs\": { \"in_channels\":256, \"out_channels\":80, \"kernel_size\":(2,7), \"bias\":True, \"padding\":(0,3), },},\n",
    "    {\"class\": \"ReLU\", \"kargs\": {\"inplace\": True}},\n",
    "    {\"class\": \"BatchNorm2d\", \"kargs\": {\"num_features\":80}},\n",
    "    {\"class\": \"Flatten\", \"kargs\": {}},\n",
    "\n",
    "    {\"class\": \"Linear\", \"kargs\": {\"in_features\": 80*256, \"out_features\": 256}}, # 80 units per IQ pair\n",
    "    {\"class\": \"ReLU\", \"kargs\": {\"inplace\": True}},\n",
    "    {\"class\": \"BatchNorm1d\", \"kargs\": {\"num_features\":256}},\n",
    "\n",
    "    {\"class\": \"Linear\", \"kargs\": {\"in_features\": 256, \"out_features\": 256}},\n",
    "]\n",
    "\n",
    "# Parameters relevant to results\n",
    "# These parameters will basically never need to change\n",
    "standalone_parameters[\"NUM_LOGS_PER_EPOCH\"] = 10\n",
    "standalone_parameters[\"BEST_MODEL_PATH\"] = \"./best_model.pth\"\n",
    "\n",
    "# uncomment for CORES dataset\n",
    "from steves_utils.CORES.utils import (\n",
    "    ALL_NODES,\n",
    "    ALL_NODES_MINIMUM_1000_EXAMPLES,\n",
    "    ALL_DAYS\n",
    ")\n",
    "\n",
    "\n",
    "standalone_parameters[\"labels_source\"] = ALL_NODES\n",
    "standalone_parameters[\"labels_target\"] = ALL_NODES\n",
    "\n",
    "standalone_parameters[\"domains_source\"] = [1]\n",
    "standalone_parameters[\"domains_target\"] = [2,3,4,5]\n",
    "\n",
    "standalone_parameters[\"pickle_name\"] = \"cores.stratified_ds.2022A.pkl\"\n",
    "\n",
    "\n",
    "# Uncomment these for ORACLE dataset\n",
    "# from steves_utils.ORACLE.utils_v2 import (\n",
    "#     ALL_DISTANCES_FEET,\n",
    "#     ALL_RUNS,\n",
    "#     ALL_SERIAL_NUMBERS,\n",
    "# )\n",
    "# standalone_parameters[\"labels_source\"] = ALL_SERIAL_NUMBERS\n",
    "# standalone_parameters[\"labels_target\"] = ALL_SERIAL_NUMBERS\n",
    "# standalone_parameters[\"domains_source\"] = [8,20, 38,50]\n",
    "# standalone_parameters[\"domains_target\"] = [14, 26, 32, 44, 56]\n",
    "# standalone_parameters[\"pickle_name\"] = \"oracle.frame_indexed.stratified_ds.2022A.pkl\"\n",
    "# standalone_parameters[\"num_examples_per_domain_per_label_source\"]=1000\n",
    "# standalone_parameters[\"num_examples_per_domain_per_label_target\"]=1000\n",
    "\n",
    "# Uncomment these for Metahan dataset\n",
    "# standalone_parameters[\"labels_source\"] = list(range(19))\n",
    "# standalone_parameters[\"labels_target\"] = list(range(19))\n",
    "# standalone_parameters[\"domains_source\"] = [0]\n",
    "# standalone_parameters[\"domains_target\"] = [1]\n",
    "# standalone_parameters[\"pickle_name\"] = \"metehan.stratified_ds.2022A.pkl\"\n",
    "# standalone_parameters[\"n_way\"]  = len(standalone_parameters[\"labels_source\"])\n",
    "# standalone_parameters[\"num_examples_per_domain_per_label_source\"]=200\n",
    "# standalone_parameters[\"num_examples_per_domain_per_label_target\"]=100\n",
    "\n",
    "\n",
    "standalone_parameters[\"n_way\"]  = len(standalone_parameters[\"labels_source\"])"
   ]
  },
  {
   "cell_type": "code",
   "execution_count": 4,
   "id": "faf49044",
   "metadata": {
    "execution": {
     "iopub.execute_input": "2022-03-04T07:30:58.447672Z",
     "iopub.status.busy": "2022-03-04T07:30:58.447288Z",
     "iopub.status.idle": "2022-03-04T07:30:58.459144Z",
     "shell.execute_reply": "2022-03-04T07:30:58.459526Z"
    },
    "papermill": {
     "duration": 0.030408,
     "end_time": "2022-03-04T07:30:58.459652",
     "exception": false,
     "start_time": "2022-03-04T07:30:58.429244",
     "status": "completed"
    },
    "tags": [
     "injected-parameters"
    ]
   },
   "outputs": [],
   "source": [
    "# Parameters\n",
    "parameters = {\n",
    "    \"experiment_name\": \"nQuery_oracle.run2\",\n",
    "    \"device\": \"cuda\",\n",
    "    \"lr\": 0.001,\n",
    "    \"seed\": 1337,\n",
    "    \"dataset_seed\": 1337,\n",
    "    \"labels_source\": [\n",
    "        \"3123D52\",\n",
    "        \"3123D65\",\n",
    "        \"3123D79\",\n",
    "        \"3123D80\",\n",
    "        \"3123D54\",\n",
    "        \"3123D70\",\n",
    "        \"3123D7B\",\n",
    "        \"3123D89\",\n",
    "        \"3123D58\",\n",
    "        \"3123D76\",\n",
    "        \"3123D7D\",\n",
    "        \"3123EFE\",\n",
    "        \"3123D64\",\n",
    "        \"3123D78\",\n",
    "        \"3123D7E\",\n",
    "        \"3124E4A\",\n",
    "    ],\n",
    "    \"labels_target\": [\n",
    "        \"3123D52\",\n",
    "        \"3123D65\",\n",
    "        \"3123D79\",\n",
    "        \"3123D80\",\n",
    "        \"3123D54\",\n",
    "        \"3123D70\",\n",
    "        \"3123D7B\",\n",
    "        \"3123D89\",\n",
    "        \"3123D58\",\n",
    "        \"3123D76\",\n",
    "        \"3123D7D\",\n",
    "        \"3123EFE\",\n",
    "        \"3123D64\",\n",
    "        \"3123D78\",\n",
    "        \"3123D7E\",\n",
    "        \"3124E4A\",\n",
    "    ],\n",
    "    \"x_transforms_source\": [],\n",
    "    \"x_transforms_target\": [],\n",
    "    \"episode_transforms_source\": [],\n",
    "    \"episode_transforms_target\": [],\n",
    "    \"num_examples_per_domain_per_label_source\": 1000,\n",
    "    \"num_examples_per_domain_per_label_target\": 1000,\n",
    "    \"n_shot\": 3,\n",
    "    \"n_way\": 16,\n",
    "    \"train_k_factor\": 1,\n",
    "    \"val_k_factor\": 2,\n",
    "    \"test_k_factor\": 2,\n",
    "    \"torch_default_dtype\": \"torch.float32\",\n",
    "    \"n_epoch\": 50,\n",
    "    \"patience\": 3,\n",
    "    \"criteria_for_best\": \"target_loss\",\n",
    "    \"x_net\": [\n",
    "        {\"class\": \"nnReshape\", \"kargs\": {\"shape\": [-1, 1, 2, 256]}},\n",
    "        {\n",
    "            \"class\": \"Conv2d\",\n",
    "            \"kargs\": {\n",
    "                \"in_channels\": 1,\n",
    "                \"out_channels\": 256,\n",
    "                \"kernel_size\": [1, 7],\n",
    "                \"bias\": False,\n",
    "                \"padding\": [0, 3],\n",
    "            },\n",
    "        },\n",
    "        {\"class\": \"ReLU\", \"kargs\": {\"inplace\": True}},\n",
    "        {\"class\": \"BatchNorm2d\", \"kargs\": {\"num_features\": 256}},\n",
    "        {\n",
    "            \"class\": \"Conv2d\",\n",
    "            \"kargs\": {\n",
    "                \"in_channels\": 256,\n",
    "                \"out_channels\": 80,\n",
    "                \"kernel_size\": [2, 7],\n",
    "                \"bias\": True,\n",
    "                \"padding\": [0, 3],\n",
    "            },\n",
    "        },\n",
    "        {\"class\": \"ReLU\", \"kargs\": {\"inplace\": True}},\n",
    "        {\"class\": \"BatchNorm2d\", \"kargs\": {\"num_features\": 80}},\n",
    "        {\"class\": \"Flatten\", \"kargs\": {}},\n",
    "        {\"class\": \"Linear\", \"kargs\": {\"in_features\": 20480, \"out_features\": 256}},\n",
    "        {\"class\": \"ReLU\", \"kargs\": {\"inplace\": True}},\n",
    "        {\"class\": \"BatchNorm1d\", \"kargs\": {\"num_features\": 256}},\n",
    "        {\"class\": \"Linear\", \"kargs\": {\"in_features\": 256, \"out_features\": 256}},\n",
    "    ],\n",
    "    \"NUM_LOGS_PER_EPOCH\": 10,\n",
    "    \"BEST_MODEL_PATH\": \"./best_model.pth\",\n",
    "    \"pickle_name\": \"oracle.Run2_10kExamples_stratified_ds.2022A.pkl\",\n",
    "    \"n_query\": 1,\n",
    "    \"domains_source\": [8, 32, 50],\n",
    "    \"domains_target\": [14, 20, 26, 38, 44],\n",
    "}\n"
   ]
  },
  {
   "cell_type": "code",
   "execution_count": 5,
   "id": "8fa1cc33",
   "metadata": {
    "execution": {
     "iopub.execute_input": "2022-03-04T07:30:58.482686Z",
     "iopub.status.busy": "2022-03-04T07:30:58.482415Z",
     "iopub.status.idle": "2022-03-04T07:30:58.491745Z",
     "shell.execute_reply": "2022-03-04T07:30:58.491962Z"
    },
    "papermill": {
     "duration": 0.021115,
     "end_time": "2022-03-04T07:30:58.492031",
     "exception": false,
     "start_time": "2022-03-04T07:30:58.470916",
     "status": "completed"
    },
    "tags": []
   },
   "outputs": [],
   "source": [
    "# Set this to True if you want to run this template directly\n",
    "STANDALONE = False\n",
    "if STANDALONE:\n",
    "    print(\"parameters not injected, running with standalone_parameters\")\n",
    "    parameters = standalone_parameters\n",
    "\n",
    "if not 'parameters' in locals() and not 'parameters' in globals():\n",
    "    raise Exception(\"Parameter injection failed\")\n",
    "\n",
    "#Use an easy dict for all the parameters\n",
    "p = EasyDict(parameters)\n",
    "\n",
    "supplied_keys = set(p.keys())\n",
    "\n",
    "if  supplied_keys != required_parameters:\n",
    "    print(\"Parameters are incorrect\")\n",
    "    if len(supplied_keys - required_parameters)>0: print(\"Shouldn't have:\", str(supplied_keys - required_parameters))\n",
    "    if len(required_parameters - supplied_keys)>0: print(\"Need to have:\", str(required_parameters - supplied_keys))\n",
    "    raise RuntimeError(\"Parameters are incorrect\")\n",
    "\n"
   ]
  },
  {
   "cell_type": "code",
   "execution_count": 6,
   "id": "3a028d58",
   "metadata": {
    "execution": {
     "iopub.execute_input": "2022-03-04T07:30:58.515603Z",
     "iopub.status.busy": "2022-03-04T07:30:58.515201Z",
     "iopub.status.idle": "2022-03-04T07:30:58.524564Z",
     "shell.execute_reply": "2022-03-04T07:30:58.524872Z"
    },
    "papermill": {
     "duration": 0.020902,
     "end_time": "2022-03-04T07:30:58.524968",
     "exception": false,
     "start_time": "2022-03-04T07:30:58.504066",
     "status": "completed"
    },
    "tags": []
   },
   "outputs": [],
   "source": [
    "###################################\n",
    "# Set the RNGs and make it all deterministic\n",
    "###################################\n",
    "np.random.seed(p.seed)\n",
    "random.seed(p.seed)\n",
    "torch.manual_seed(p.seed)\n",
    "\n",
    "torch.use_deterministic_algorithms(True) "
   ]
  },
  {
   "cell_type": "code",
   "execution_count": 7,
   "id": "b691acf6",
   "metadata": {
    "execution": {
     "iopub.execute_input": "2022-03-04T07:30:58.547415Z",
     "iopub.status.busy": "2022-03-04T07:30:58.547005Z",
     "iopub.status.idle": "2022-03-04T07:30:58.557276Z",
     "shell.execute_reply": "2022-03-04T07:30:58.556949Z"
    },
    "papermill": {
     "duration": 0.021743,
     "end_time": "2022-03-04T07:30:58.557353",
     "exception": false,
     "start_time": "2022-03-04T07:30:58.535610",
     "status": "completed"
    },
    "tags": []
   },
   "outputs": [],
   "source": [
    "###########################################\n",
    "# The stratified datasets honor this\n",
    "###########################################\n",
    "torch.set_default_dtype(eval(p.torch_default_dtype))"
   ]
  },
  {
   "cell_type": "code",
   "execution_count": 8,
   "id": "b5fba671",
   "metadata": {
    "execution": {
     "iopub.execute_input": "2022-03-04T07:30:58.579079Z",
     "iopub.status.busy": "2022-03-04T07:30:58.578659Z",
     "iopub.status.idle": "2022-03-04T07:30:58.614491Z",
     "shell.execute_reply": "2022-03-04T07:30:58.614197Z"
    },
    "papermill": {
     "duration": 0.046957,
     "end_time": "2022-03-04T07:30:58.614559",
     "exception": false,
     "start_time": "2022-03-04T07:30:58.567602",
     "status": "completed"
    },
    "tags": []
   },
   "outputs": [],
   "source": [
    "###################################\n",
    "# Build the network(s)\n",
    "# Note: It's critical to do this AFTER setting the RNG\n",
    "# (This is due to the randomized initial weights)\n",
    "###################################\n",
    "x_net = build_sequential(p.x_net)"
   ]
  },
  {
   "cell_type": "code",
   "execution_count": 9,
   "id": "5d7e61cc",
   "metadata": {
    "execution": {
     "iopub.execute_input": "2022-03-04T07:30:58.635982Z",
     "iopub.status.busy": "2022-03-04T07:30:58.635589Z",
     "iopub.status.idle": "2022-03-04T07:30:58.645113Z",
     "shell.execute_reply": "2022-03-04T07:30:58.644842Z"
    },
    "papermill": {
     "duration": 0.020752,
     "end_time": "2022-03-04T07:30:58.645170",
     "exception": false,
     "start_time": "2022-03-04T07:30:58.624418",
     "status": "completed"
    },
    "tags": []
   },
   "outputs": [],
   "source": [
    "start_time_secs = time.time()"
   ]
  },
  {
   "cell_type": "code",
   "execution_count": 10,
   "id": "fd5442bc",
   "metadata": {
    "execution": {
     "iopub.execute_input": "2022-03-04T07:30:58.671433Z",
     "iopub.status.busy": "2022-03-04T07:30:58.671153Z",
     "iopub.status.idle": "2022-03-04T07:31:01.904962Z",
     "shell.execute_reply": "2022-03-04T07:31:01.905217Z"
    },
    "papermill": {
     "duration": 3.250176,
     "end_time": "2022-03-04T07:31:01.905309",
     "exception": false,
     "start_time": "2022-03-04T07:30:58.655133",
     "status": "completed"
    },
    "tags": []
   },
   "outputs": [],
   "source": [
    "###################################\n",
    "# Build the dataset\n",
    "###################################\n",
    "\n",
    "if p.x_transforms_source == []: x_transform_source = None\n",
    "else: x_transform_source = get_chained_transform(p.x_transforms_source) \n",
    "\n",
    "if p.x_transforms_target == []: x_transform_target = None\n",
    "else: x_transform_target = get_chained_transform(p.x_transforms_target)\n",
    "\n",
    "if p.episode_transforms_source == []: episode_transform_source = None\n",
    "else: raise Exception(\"episode_transform_source not implemented\")\n",
    "\n",
    "if p.episode_transforms_target == []: episode_transform_target = None\n",
    "else: raise Exception(\"episode_transform_target not implemented\")\n",
    "\n",
    "\n",
    "eaf_source = Episodic_Accessor_Factory(\n",
    "    labels=p.labels_source,\n",
    "    domains=p.domains_source,\n",
    "    num_examples_per_domain_per_label=p.num_examples_per_domain_per_label_source,\n",
    "    iterator_seed=p.seed,\n",
    "    dataset_seed=p.dataset_seed,\n",
    "    n_shot=p.n_shot,\n",
    "    n_way=p.n_way,\n",
    "    n_query=p.n_query,\n",
    "    train_val_test_k_factors=(p.train_k_factor,p.val_k_factor,p.test_k_factor),\n",
    "    pickle_path=os.path.join(get_datasets_base_path(), p.pickle_name),\n",
    "    x_transform_func=x_transform_source,\n",
    "    example_transform_func=episode_transform_source,\n",
    "    \n",
    ")\n",
    "train_original_source, val_original_source, test_original_source = eaf_source.get_train(), eaf_source.get_val(), eaf_source.get_test()\n",
    "\n",
    "\n",
    "eaf_target = Episodic_Accessor_Factory(\n",
    "    labels=p.labels_target,\n",
    "    domains=p.domains_target,\n",
    "    num_examples_per_domain_per_label=p.num_examples_per_domain_per_label_target,\n",
    "    iterator_seed=p.seed,\n",
    "    dataset_seed=p.dataset_seed,\n",
    "    n_shot=p.n_shot,\n",
    "    n_way=p.n_way,\n",
    "    n_query=p.n_query,\n",
    "    train_val_test_k_factors=(p.train_k_factor,p.val_k_factor,p.test_k_factor),\n",
    "    pickle_path=os.path.join(get_datasets_base_path(), p.pickle_name),\n",
    "    x_transform_func=x_transform_target,\n",
    "    example_transform_func=episode_transform_target,\n",
    ")\n",
    "train_original_target, val_original_target, test_original_target = eaf_target.get_train(), eaf_target.get_val(), eaf_target.get_test()\n",
    "\n",
    "\n",
    "transform_lambda = lambda ex: ex[1] # Original is (<domain>, <episode>) so we strip down to episode only\n",
    "\n",
    "train_processed_source = Lazy_Iterable_Wrapper(train_original_source, transform_lambda)\n",
    "val_processed_source   = Lazy_Iterable_Wrapper(val_original_source, transform_lambda)\n",
    "test_processed_source  = Lazy_Iterable_Wrapper(test_original_source, transform_lambda)\n",
    "\n",
    "train_processed_target = Lazy_Iterable_Wrapper(train_original_target, transform_lambda)\n",
    "val_processed_target   = Lazy_Iterable_Wrapper(val_original_target, transform_lambda)\n",
    "test_processed_target  = Lazy_Iterable_Wrapper(test_original_target, transform_lambda)\n",
    "\n",
    "datasets = EasyDict({\n",
    "    \"source\": {\n",
    "        \"original\": {\"train\":train_original_source, \"val\":val_original_source, \"test\":test_original_source},\n",
    "        \"processed\": {\"train\":train_processed_source, \"val\":val_processed_source, \"test\":test_processed_source}\n",
    "    },\n",
    "    \"target\": {\n",
    "        \"original\": {\"train\":train_original_target, \"val\":val_original_target, \"test\":test_original_target},\n",
    "        \"processed\": {\"train\":train_processed_target, \"val\":val_processed_target, \"test\":test_processed_target}\n",
    "    },\n",
    "})"
   ]
  },
  {
   "cell_type": "code",
   "execution_count": 11,
   "id": "296189d9",
   "metadata": {
    "execution": {
     "iopub.execute_input": "2022-03-04T07:31:01.928137Z",
     "iopub.status.busy": "2022-03-04T07:31:01.927861Z",
     "iopub.status.idle": "2022-03-04T07:31:04.275662Z",
     "shell.execute_reply": "2022-03-04T07:31:04.275380Z"
    },
    "papermill": {
     "duration": 2.360327,
     "end_time": "2022-03-04T07:31:04.275725",
     "exception": false,
     "start_time": "2022-03-04T07:31:01.915398",
     "status": "completed"
    },
    "tags": []
   },
   "outputs": [
    {
     "name": "stdout",
     "output_type": "stream",
     "text": [
      "Visually inspect these to see if they line up with expected values given the transforms\n",
      "x_transforms_source []\n",
      "x_transforms_target []\n",
      "Average magnitude, source: 0.004635015\n",
      "Average power, source: 2.8574976e-05\n"
     ]
    },
    {
     "name": "stdout",
     "output_type": "stream",
     "text": [
      "Average magnitude, target: 0.0029128897\n",
      "Average power, target: 1.0910343e-05\n"
     ]
    }
   ],
   "source": [
    "# Some quick unit tests on the data\n",
    "from steves_utils.transforms import get_average_power, get_average_magnitude\n",
    "\n",
    "q_x, q_y, s_x, s_y, truth = next(iter(train_processed_source))\n",
    "\n",
    "assert q_x.dtype == eval(p.torch_default_dtype)\n",
    "assert s_x.dtype == eval(p.torch_default_dtype)\n",
    "\n",
    "print(\"Visually inspect these to see if they line up with expected values given the transforms\")\n",
    "print('x_transforms_source', p.x_transforms_source)\n",
    "print('x_transforms_target', p.x_transforms_target)\n",
    "print(\"Average magnitude, source:\", get_average_magnitude(q_x[0].numpy()))\n",
    "print(\"Average power, source:\", get_average_power(q_x[0].numpy()))\n",
    "\n",
    "q_x, q_y, s_x, s_y, truth = next(iter(train_processed_target))\n",
    "print(\"Average magnitude, target:\", get_average_magnitude(q_x[0].numpy()))\n",
    "print(\"Average power, target:\", get_average_power(q_x[0].numpy()))\n"
   ]
  },
  {
   "cell_type": "code",
   "execution_count": 12,
   "id": "bbdacba1",
   "metadata": {
    "execution": {
     "iopub.execute_input": "2022-03-04T07:31:04.298723Z",
     "iopub.status.busy": "2022-03-04T07:31:04.298306Z",
     "iopub.status.idle": "2022-03-04T07:31:04.354542Z",
     "shell.execute_reply": "2022-03-04T07:31:04.354215Z"
    },
    "papermill": {
     "duration": 0.068536,
     "end_time": "2022-03-04T07:31:04.354628",
     "exception": false,
     "start_time": "2022-03-04T07:31:04.286092",
     "status": "completed"
    },
    "tags": []
   },
   "outputs": [
    {
     "name": "stdout",
     "output_type": "stream",
     "text": [
      "(2, 256)\n"
     ]
    }
   ],
   "source": [
    "###################################\n",
    "# Build the model\n",
    "###################################\n",
    "model = Steves_Prototypical_Network(x_net, device=p.device, x_shape=(2,256))\n",
    "optimizer = Adam(params=model.parameters(), lr=p.lr)"
   ]
  },
  {
   "cell_type": "code",
   "execution_count": 13,
   "id": "22b39ac5",
   "metadata": {
    "execution": {
     "iopub.execute_input": "2022-03-04T07:31:04.380622Z",
     "iopub.status.busy": "2022-03-04T07:31:04.380367Z",
     "iopub.status.idle": "2022-03-04T07:40:21.960890Z",
     "shell.execute_reply": "2022-03-04T07:40:21.960657Z"
    },
    "papermill": {
     "duration": 557.593929,
     "end_time": "2022-03-04T07:40:21.960947",
     "exception": false,
     "start_time": "2022-03-04T07:31:04.367018",
     "status": "completed"
    },
    "tags": []
   },
   "outputs": [
    {
     "name": "stdout",
     "output_type": "stream",
     "text": [
      "epoch: 1, [batch: 1 / 525], examples_per_second: 7.6482, train_label_loss: 2.5153, \n"
     ]
    },
    {
     "name": "stdout",
     "output_type": "stream",
     "text": [
      "epoch: 1, [batch: 53 / 525], examples_per_second: 821.1833, train_label_loss: 1.5246, \n"
     ]
    },
    {
     "name": "stdout",
     "output_type": "stream",
     "text": [
      "epoch: 1, [batch: 105 / 525], examples_per_second: 876.4194, train_label_loss: 1.2791, \n"
     ]
    },
    {
     "name": "stdout",
     "output_type": "stream",
     "text": [
      "epoch: 1, [batch: 158 / 525], examples_per_second: 949.3358, train_label_loss: 1.2889, \n"
     ]
    },
    {
     "name": "stdout",
     "output_type": "stream",
     "text": [
      "epoch: 1, [batch: 210 / 525], examples_per_second: 1046.3500, train_label_loss: 0.8824, \n"
     ]
    },
    {
     "name": "stdout",
     "output_type": "stream",
     "text": [
      "epoch: 1, [batch: 263 / 525], examples_per_second: 1137.5346, train_label_loss: 1.0193, \n"
     ]
    },
    {
     "name": "stdout",
     "output_type": "stream",
     "text": [
      "epoch: 1, [batch: 315 / 525], examples_per_second: 1312.3593, train_label_loss: 1.1563, \n"
     ]
    },
    {
     "name": "stdout",
     "output_type": "stream",
     "text": [
      "epoch: 1, [batch: 367 / 525], examples_per_second: 1527.1501, train_label_loss: 1.3080, \n"
     ]
    },
    {
     "name": "stdout",
     "output_type": "stream",
     "text": [
      "epoch: 1, [batch: 420 / 525], examples_per_second: 1769.5458, train_label_loss: 1.1584, \n"
     ]
    },
    {
     "name": "stdout",
     "output_type": "stream",
     "text": [
      "epoch: 1, [batch: 472 / 525], examples_per_second: 2101.6205, train_label_loss: 1.2780, \n"
     ]
    },
    {
     "name": "stdout",
     "output_type": "stream",
     "text": [
      "=============================================================\n",
      "epoch: 1, source_val_acc_label: 0.4355, target_val_acc_label: 0.3789, source_val_label_loss: 1.8529, target_val_label_loss: 1.9996, \n",
      "=============================================================\n"
     ]
    },
    {
     "name": "stdout",
     "output_type": "stream",
     "text": [
      "New best\n"
     ]
    },
    {
     "name": "stdout",
     "output_type": "stream",
     "text": [
      "epoch: 2, [batch: 1 / 525], examples_per_second: 4.2827, train_label_loss: 1.1357, \n"
     ]
    },
    {
     "name": "stdout",
     "output_type": "stream",
     "text": [
      "epoch: 2, [batch: 53 / 525], examples_per_second: 809.1488, train_label_loss: 1.4408, \n"
     ]
    },
    {
     "name": "stdout",
     "output_type": "stream",
     "text": [
      "epoch: 2, [batch: 105 / 525], examples_per_second: 869.9281, train_label_loss: 1.4359, \n"
     ]
    },
    {
     "name": "stdout",
     "output_type": "stream",
     "text": [
      "epoch: 2, [batch: 158 / 525], examples_per_second: 951.0785, train_label_loss: 1.7101, \n"
     ]
    },
    {
     "name": "stdout",
     "output_type": "stream",
     "text": [
      "epoch: 2, [batch: 210 / 525], examples_per_second: 1056.5801, train_label_loss: 1.1889, \n"
     ]
    },
    {
     "name": "stdout",
     "output_type": "stream",
     "text": [
      "epoch: 2, [batch: 263 / 525], examples_per_second: 1166.5194, train_label_loss: 1.1464, \n"
     ]
    },
    {
     "name": "stdout",
     "output_type": "stream",
     "text": [
      "epoch: 2, [batch: 315 / 525], examples_per_second: 1360.2708, train_label_loss: 1.2020, \n"
     ]
    },
    {
     "name": "stdout",
     "output_type": "stream",
     "text": [
      "epoch: 2, [batch: 367 / 525], examples_per_second: 1555.5555, train_label_loss: 1.1664, \n"
     ]
    },
    {
     "name": "stdout",
     "output_type": "stream",
     "text": [
      "epoch: 2, [batch: 420 / 525], examples_per_second: 1783.3553, train_label_loss: 1.2063, \n"
     ]
    },
    {
     "name": "stdout",
     "output_type": "stream",
     "text": [
      "epoch: 2, [batch: 472 / 525], examples_per_second: 2073.1183, train_label_loss: 1.2069, \n"
     ]
    },
    {
     "name": "stdout",
     "output_type": "stream",
     "text": [
      "=============================================================\n",
      "epoch: 2, source_val_acc_label: 0.4614, target_val_acc_label: 0.3932, source_val_label_loss: 1.2973, target_val_label_loss: 1.6616, \n",
      "=============================================================\n"
     ]
    },
    {
     "name": "stdout",
     "output_type": "stream",
     "text": [
      "New best\n"
     ]
    },
    {
     "name": "stdout",
     "output_type": "stream",
     "text": [
      "epoch: 3, [batch: 1 / 525], examples_per_second: 4.2547, train_label_loss: 1.0436, \n"
     ]
    },
    {
     "name": "stdout",
     "output_type": "stream",
     "text": [
      "epoch: 3, [batch: 53 / 525], examples_per_second: 812.2553, train_label_loss: 0.9677, \n"
     ]
    },
    {
     "name": "stdout",
     "output_type": "stream",
     "text": [
      "epoch: 3, [batch: 105 / 525], examples_per_second: 876.7266, train_label_loss: 1.9534, \n"
     ]
    },
    {
     "name": "stdout",
     "output_type": "stream",
     "text": [
      "epoch: 3, [batch: 158 / 525], examples_per_second: 939.2553, train_label_loss: 1.8470, \n"
     ]
    },
    {
     "name": "stdout",
     "output_type": "stream",
     "text": [
      "epoch: 3, [batch: 210 / 525], examples_per_second: 1055.9226, train_label_loss: 1.3190, \n"
     ]
    },
    {
     "name": "stdout",
     "output_type": "stream",
     "text": [
      "epoch: 3, [batch: 263 / 525], examples_per_second: 1203.6436, train_label_loss: 1.3130, \n"
     ]
    },
    {
     "name": "stdout",
     "output_type": "stream",
     "text": [
      "epoch: 3, [batch: 315 / 525], examples_per_second: 1320.3676, train_label_loss: 1.4255, \n"
     ]
    },
    {
     "name": "stdout",
     "output_type": "stream",
     "text": [
      "epoch: 3, [batch: 367 / 525], examples_per_second: 1503.7985, train_label_loss: 1.2207, \n"
     ]
    },
    {
     "name": "stdout",
     "output_type": "stream",
     "text": [
      "epoch: 3, [batch: 420 / 525], examples_per_second: 1764.6060, train_label_loss: 1.3638, \n"
     ]
    },
    {
     "name": "stdout",
     "output_type": "stream",
     "text": [
      "epoch: 3, [batch: 472 / 525], examples_per_second: 2096.9415, train_label_loss: 1.1072, \n"
     ]
    },
    {
     "name": "stdout",
     "output_type": "stream",
     "text": [
      "=============================================================\n",
      "epoch: 3, source_val_acc_label: 0.4738, target_val_acc_label: 0.3956, source_val_label_loss: 1.3636, target_val_label_loss: 2.0464, \n",
      "=============================================================\n"
     ]
    },
    {
     "name": "stdout",
     "output_type": "stream",
     "text": [
      "epoch: 4, [batch: 1 / 525], examples_per_second: 4.1958, train_label_loss: 1.0849, \n"
     ]
    },
    {
     "name": "stdout",
     "output_type": "stream",
     "text": [
      "epoch: 4, [batch: 53 / 525], examples_per_second: 825.8797, train_label_loss: 1.4088, \n"
     ]
    },
    {
     "name": "stdout",
     "output_type": "stream",
     "text": [
      "epoch: 4, [batch: 105 / 525], examples_per_second: 895.3333, train_label_loss: 1.3558, \n"
     ]
    },
    {
     "name": "stdout",
     "output_type": "stream",
     "text": [
      "epoch: 4, [batch: 158 / 525], examples_per_second: 960.9405, train_label_loss: 1.1599, \n"
     ]
    },
    {
     "name": "stdout",
     "output_type": "stream",
     "text": [
      "epoch: 4, [batch: 210 / 525], examples_per_second: 1066.2568, train_label_loss: 1.2753, \n"
     ]
    },
    {
     "name": "stdout",
     "output_type": "stream",
     "text": [
      "epoch: 4, [batch: 263 / 525], examples_per_second: 1162.0089, train_label_loss: 1.2814, \n"
     ]
    },
    {
     "name": "stdout",
     "output_type": "stream",
     "text": [
      "epoch: 4, [batch: 315 / 525], examples_per_second: 1320.2571, train_label_loss: 1.0614, \n"
     ]
    },
    {
     "name": "stdout",
     "output_type": "stream",
     "text": [
      "epoch: 4, [batch: 367 / 525], examples_per_second: 1515.1017, train_label_loss: 0.9771, \n"
     ]
    },
    {
     "name": "stdout",
     "output_type": "stream",
     "text": [
      "epoch: 4, [batch: 420 / 525], examples_per_second: 1750.1405, train_label_loss: 1.2798, \n"
     ]
    },
    {
     "name": "stdout",
     "output_type": "stream",
     "text": [
      "epoch: 4, [batch: 472 / 525], examples_per_second: 2137.6485, train_label_loss: 1.1727, \n"
     ]
    },
    {
     "name": "stdout",
     "output_type": "stream",
     "text": [
      "=============================================================\n",
      "epoch: 4, source_val_acc_label: 0.4755, target_val_acc_label: 0.4057, source_val_label_loss: 1.2476, target_val_label_loss: 1.6467, \n",
      "=============================================================\n"
     ]
    },
    {
     "name": "stdout",
     "output_type": "stream",
     "text": [
      "New best\n"
     ]
    },
    {
     "name": "stdout",
     "output_type": "stream",
     "text": [
      "epoch: 5, [batch: 1 / 525], examples_per_second: 4.1825, train_label_loss: 0.8180, \n"
     ]
    },
    {
     "name": "stdout",
     "output_type": "stream",
     "text": [
      "epoch: 5, [batch: 53 / 525], examples_per_second: 808.1779, train_label_loss: 1.5123, \n"
     ]
    },
    {
     "name": "stdout",
     "output_type": "stream",
     "text": [
      "epoch: 5, [batch: 105 / 525], examples_per_second: 882.2651, train_label_loss: 1.2032, \n"
     ]
    },
    {
     "name": "stdout",
     "output_type": "stream",
     "text": [
      "epoch: 5, [batch: 158 / 525], examples_per_second: 969.5837, train_label_loss: 1.1489, \n"
     ]
    },
    {
     "name": "stdout",
     "output_type": "stream",
     "text": [
      "epoch: 5, [batch: 210 / 525], examples_per_second: 1051.7589, train_label_loss: 1.4319, \n"
     ]
    },
    {
     "name": "stdout",
     "output_type": "stream",
     "text": [
      "epoch: 5, [batch: 263 / 525], examples_per_second: 1206.6773, train_label_loss: 1.2525, \n"
     ]
    },
    {
     "name": "stdout",
     "output_type": "stream",
     "text": [
      "epoch: 5, [batch: 315 / 525], examples_per_second: 1316.0001, train_label_loss: 1.1174, \n"
     ]
    },
    {
     "name": "stdout",
     "output_type": "stream",
     "text": [
      "epoch: 5, [batch: 367 / 525], examples_per_second: 1514.2365, train_label_loss: 1.2454, \n"
     ]
    },
    {
     "name": "stdout",
     "output_type": "stream",
     "text": [
      "epoch: 5, [batch: 420 / 525], examples_per_second: 1768.0339, train_label_loss: 1.1080, \n"
     ]
    },
    {
     "name": "stdout",
     "output_type": "stream",
     "text": [
      "epoch: 5, [batch: 472 / 525], examples_per_second: 2130.9332, train_label_loss: 1.3946, \n"
     ]
    },
    {
     "name": "stdout",
     "output_type": "stream",
     "text": [
      "=============================================================\n",
      "epoch: 5, source_val_acc_label: 0.4803, target_val_acc_label: 0.4035, source_val_label_loss: 1.2348, target_val_label_loss: 1.6184, \n",
      "=============================================================\n"
     ]
    },
    {
     "name": "stdout",
     "output_type": "stream",
     "text": [
      "New best\n"
     ]
    },
    {
     "name": "stdout",
     "output_type": "stream",
     "text": [
      "epoch: 6, [batch: 1 / 525], examples_per_second: 4.2069, train_label_loss: 1.2000, \n"
     ]
    },
    {
     "name": "stdout",
     "output_type": "stream",
     "text": [
      "epoch: 6, [batch: 53 / 525], examples_per_second: 816.3847, train_label_loss: 1.2705, \n"
     ]
    },
    {
     "name": "stdout",
     "output_type": "stream",
     "text": [
      "epoch: 6, [batch: 105 / 525], examples_per_second: 896.2951, train_label_loss: 1.1859, \n"
     ]
    },
    {
     "name": "stdout",
     "output_type": "stream",
     "text": [
      "epoch: 6, [batch: 158 / 525], examples_per_second: 956.1983, train_label_loss: 1.1170, \n"
     ]
    },
    {
     "name": "stdout",
     "output_type": "stream",
     "text": [
      "epoch: 6, [batch: 210 / 525], examples_per_second: 1060.9160, train_label_loss: 1.4593, \n"
     ]
    },
    {
     "name": "stdout",
     "output_type": "stream",
     "text": [
      "epoch: 6, [batch: 263 / 525], examples_per_second: 1180.7588, train_label_loss: 1.3744, \n"
     ]
    },
    {
     "name": "stdout",
     "output_type": "stream",
     "text": [
      "epoch: 6, [batch: 315 / 525], examples_per_second: 1339.2641, train_label_loss: 1.0269, \n"
     ]
    },
    {
     "name": "stdout",
     "output_type": "stream",
     "text": [
      "epoch: 6, [batch: 367 / 525], examples_per_second: 1549.2514, train_label_loss: 1.1396, \n"
     ]
    },
    {
     "name": "stdout",
     "output_type": "stream",
     "text": [
      "epoch: 6, [batch: 420 / 525], examples_per_second: 1787.0357, train_label_loss: 1.1408, \n"
     ]
    },
    {
     "name": "stdout",
     "output_type": "stream",
     "text": [
      "epoch: 6, [batch: 472 / 525], examples_per_second: 2114.4238, train_label_loss: 1.5646, \n"
     ]
    },
    {
     "name": "stdout",
     "output_type": "stream",
     "text": [
      "=============================================================\n",
      "epoch: 6, source_val_acc_label: 0.5028, target_val_acc_label: 0.4164, source_val_label_loss: 1.2340, target_val_label_loss: 1.5930, \n",
      "=============================================================\n"
     ]
    },
    {
     "name": "stdout",
     "output_type": "stream",
     "text": [
      "New best\n"
     ]
    },
    {
     "name": "stdout",
     "output_type": "stream",
     "text": [
      "epoch: 7, [batch: 1 / 525], examples_per_second: 4.2079, train_label_loss: 1.3287, \n"
     ]
    },
    {
     "name": "stdout",
     "output_type": "stream",
     "text": [
      "epoch: 7, [batch: 53 / 525], examples_per_second: 827.6238, train_label_loss: 1.1871, \n"
     ]
    },
    {
     "name": "stdout",
     "output_type": "stream",
     "text": [
      "epoch: 7, [batch: 105 / 525], examples_per_second: 893.2344, train_label_loss: 1.5464, \n"
     ]
    },
    {
     "name": "stdout",
     "output_type": "stream",
     "text": [
      "epoch: 7, [batch: 158 / 525], examples_per_second: 976.2340, train_label_loss: 1.1770, \n"
     ]
    },
    {
     "name": "stdout",
     "output_type": "stream",
     "text": [
      "epoch: 7, [batch: 210 / 525], examples_per_second: 1069.6924, train_label_loss: 0.9962, \n"
     ]
    },
    {
     "name": "stdout",
     "output_type": "stream",
     "text": [
      "epoch: 7, [batch: 263 / 525], examples_per_second: 1181.2566, train_label_loss: 1.2423, \n"
     ]
    },
    {
     "name": "stdout",
     "output_type": "stream",
     "text": [
      "epoch: 7, [batch: 315 / 525], examples_per_second: 1343.1067, train_label_loss: 1.1526, \n"
     ]
    },
    {
     "name": "stdout",
     "output_type": "stream",
     "text": [
      "epoch: 7, [batch: 367 / 525], examples_per_second: 1528.0577, train_label_loss: 1.0864, \n"
     ]
    },
    {
     "name": "stdout",
     "output_type": "stream",
     "text": [
      "epoch: 7, [batch: 420 / 525], examples_per_second: 1746.2727, train_label_loss: 1.0040, \n"
     ]
    },
    {
     "name": "stdout",
     "output_type": "stream",
     "text": [
      "epoch: 7, [batch: 472 / 525], examples_per_second: 2192.6933, train_label_loss: 0.9926, \n"
     ]
    },
    {
     "name": "stdout",
     "output_type": "stream",
     "text": [
      "=============================================================\n",
      "epoch: 7, source_val_acc_label: 0.4916, target_val_acc_label: 0.4127, source_val_label_loss: 1.2476, target_val_label_loss: 1.9308, \n",
      "=============================================================\n"
     ]
    },
    {
     "name": "stdout",
     "output_type": "stream",
     "text": [
      "epoch: 8, [batch: 1 / 525], examples_per_second: 4.2219, train_label_loss: 0.8213, \n"
     ]
    },
    {
     "name": "stdout",
     "output_type": "stream",
     "text": [
      "epoch: 8, [batch: 53 / 525], examples_per_second: 830.2288, train_label_loss: 1.0299, \n"
     ]
    },
    {
     "name": "stdout",
     "output_type": "stream",
     "text": [
      "epoch: 8, [batch: 105 / 525], examples_per_second: 894.0638, train_label_loss: 1.2038, \n"
     ]
    },
    {
     "name": "stdout",
     "output_type": "stream",
     "text": [
      "epoch: 8, [batch: 158 / 525], examples_per_second: 980.4494, train_label_loss: 0.9783, \n"
     ]
    },
    {
     "name": "stdout",
     "output_type": "stream",
     "text": [
      "epoch: 8, [batch: 210 / 525], examples_per_second: 1075.4638, train_label_loss: 1.3467, \n"
     ]
    },
    {
     "name": "stdout",
     "output_type": "stream",
     "text": [
      "epoch: 8, [batch: 263 / 525], examples_per_second: 1206.5120, train_label_loss: 1.2527, \n"
     ]
    },
    {
     "name": "stdout",
     "output_type": "stream",
     "text": [
      "epoch: 8, [batch: 315 / 525], examples_per_second: 1338.8744, train_label_loss: 1.0725, \n"
     ]
    },
    {
     "name": "stdout",
     "output_type": "stream",
     "text": [
      "epoch: 8, [batch: 367 / 525], examples_per_second: 1505.7465, train_label_loss: 1.2013, \n"
     ]
    },
    {
     "name": "stdout",
     "output_type": "stream",
     "text": [
      "epoch: 8, [batch: 420 / 525], examples_per_second: 1772.4331, train_label_loss: 1.1546, \n"
     ]
    },
    {
     "name": "stdout",
     "output_type": "stream",
     "text": [
      "epoch: 8, [batch: 472 / 525], examples_per_second: 2127.8148, train_label_loss: 1.0857, \n"
     ]
    },
    {
     "name": "stdout",
     "output_type": "stream",
     "text": [
      "=============================================================\n",
      "epoch: 8, source_val_acc_label: 0.4949, target_val_acc_label: 0.4257, source_val_label_loss: 1.2046, target_val_label_loss: 1.6274, \n",
      "=============================================================\n"
     ]
    },
    {
     "name": "stdout",
     "output_type": "stream",
     "text": [
      "epoch: 9, [batch: 1 / 525], examples_per_second: 4.2466, train_label_loss: 0.9613, \n"
     ]
    },
    {
     "name": "stdout",
     "output_type": "stream",
     "text": [
      "epoch: 9, [batch: 53 / 525], examples_per_second: 827.9890, train_label_loss: 1.1590, \n"
     ]
    },
    {
     "name": "stdout",
     "output_type": "stream",
     "text": [
      "epoch: 9, [batch: 105 / 525], examples_per_second: 899.3574, train_label_loss: 1.2441, \n"
     ]
    },
    {
     "name": "stdout",
     "output_type": "stream",
     "text": [
      "epoch: 9, [batch: 158 / 525], examples_per_second: 969.4727, train_label_loss: 1.0173, \n"
     ]
    },
    {
     "name": "stdout",
     "output_type": "stream",
     "text": [
      "epoch: 9, [batch: 210 / 525], examples_per_second: 1073.0878, train_label_loss: 1.0264, \n"
     ]
    },
    {
     "name": "stdout",
     "output_type": "stream",
     "text": [
      "epoch: 9, [batch: 263 / 525], examples_per_second: 1192.6394, train_label_loss: 1.3872, \n"
     ]
    },
    {
     "name": "stdout",
     "output_type": "stream",
     "text": [
      "epoch: 9, [batch: 315 / 525], examples_per_second: 1327.4529, train_label_loss: 1.6799, \n"
     ]
    },
    {
     "name": "stdout",
     "output_type": "stream",
     "text": [
      "epoch: 9, [batch: 367 / 525], examples_per_second: 1506.1491, train_label_loss: 1.0947, \n"
     ]
    },
    {
     "name": "stdout",
     "output_type": "stream",
     "text": [
      "epoch: 9, [batch: 420 / 525], examples_per_second: 1777.6621, train_label_loss: 1.2225, \n"
     ]
    },
    {
     "name": "stdout",
     "output_type": "stream",
     "text": [
      "epoch: 9, [batch: 472 / 525], examples_per_second: 2112.8102, train_label_loss: 1.0087, \n"
     ]
    },
    {
     "name": "stdout",
     "output_type": "stream",
     "text": [
      "=============================================================\n",
      "epoch: 9, source_val_acc_label: 0.4980, target_val_acc_label: 0.4189, source_val_label_loss: 1.2072, target_val_label_loss: 1.7754, \n",
      "=============================================================\n"
     ]
    },
    {
     "name": "stdout",
     "output_type": "stream",
     "text": [
      "epoch: 10, [batch: 1 / 525], examples_per_second: 4.2525, train_label_loss: 1.1330, \n"
     ]
    },
    {
     "name": "stdout",
     "output_type": "stream",
     "text": [
      "epoch: 10, [batch: 53 / 525], examples_per_second: 818.1672, train_label_loss: 1.2119, \n"
     ]
    },
    {
     "name": "stdout",
     "output_type": "stream",
     "text": [
      "epoch: 10, [batch: 105 / 525], examples_per_second: 904.3680, train_label_loss: 1.0632, \n"
     ]
    },
    {
     "name": "stdout",
     "output_type": "stream",
     "text": [
      "epoch: 10, [batch: 158 / 525], examples_per_second: 980.4668, train_label_loss: 0.8034, \n"
     ]
    },
    {
     "name": "stdout",
     "output_type": "stream",
     "text": [
      "epoch: 10, [batch: 210 / 525], examples_per_second: 1071.8489, train_label_loss: 1.1667, \n"
     ]
    },
    {
     "name": "stdout",
     "output_type": "stream",
     "text": [
      "epoch: 10, [batch: 263 / 525], examples_per_second: 1187.7940, train_label_loss: 0.8601, \n"
     ]
    },
    {
     "name": "stdout",
     "output_type": "stream",
     "text": [
      "epoch: 10, [batch: 315 / 525], examples_per_second: 1330.3915, train_label_loss: 1.1988, \n"
     ]
    },
    {
     "name": "stdout",
     "output_type": "stream",
     "text": [
      "epoch: 10, [batch: 367 / 525], examples_per_second: 1536.9531, train_label_loss: 1.2249, \n"
     ]
    },
    {
     "name": "stdout",
     "output_type": "stream",
     "text": [
      "epoch: 10, [batch: 420 / 525], examples_per_second: 1857.9995, train_label_loss: 0.9498, \n"
     ]
    },
    {
     "name": "stdout",
     "output_type": "stream",
     "text": [
      "epoch: 10, [batch: 472 / 525], examples_per_second: 2145.6513, train_label_loss: 0.9396, \n"
     ]
    },
    {
     "name": "stdout",
     "output_type": "stream",
     "text": [
      "=============================================================\n",
      "epoch: 10, source_val_acc_label: 0.5031, target_val_acc_label: 0.4186, source_val_label_loss: 1.2143, target_val_label_loss: 1.5976, \n",
      "=============================================================\n"
     ]
    },
    {
     "name": "stdout",
     "output_type": "stream",
     "text": [
      "Patience (3) exhausted\n"
     ]
    }
   ],
   "source": [
    "###################################\n",
    "# train\n",
    "###################################\n",
    "jig = PTN_Train_Eval_Test_Jig(model, p.BEST_MODEL_PATH, p.device)\n",
    "\n",
    "jig.train(\n",
    "    train_iterable=datasets.source.processed.train,\n",
    "    source_val_iterable=datasets.source.processed.val,\n",
    "    target_val_iterable=datasets.target.processed.val,\n",
    "    num_epochs=p.n_epoch,\n",
    "    num_logs_per_epoch=p.NUM_LOGS_PER_EPOCH,\n",
    "    patience=p.patience,\n",
    "    optimizer=optimizer,\n",
    "    criteria_for_best=p.criteria_for_best,\n",
    ")"
   ]
  },
  {
   "cell_type": "code",
   "execution_count": 14,
   "id": "31e8fabf",
   "metadata": {
    "execution": {
     "iopub.execute_input": "2022-03-04T07:40:22.023713Z",
     "iopub.status.busy": "2022-03-04T07:40:22.023461Z",
     "iopub.status.idle": "2022-03-04T07:40:22.038725Z",
     "shell.execute_reply": "2022-03-04T07:40:22.039103Z"
    },
    "papermill": {
     "duration": 0.048615,
     "end_time": "2022-03-04T07:40:22.039208",
     "exception": false,
     "start_time": "2022-03-04T07:40:21.990593",
     "status": "completed"
    },
    "tags": []
   },
   "outputs": [],
   "source": [
    "total_experiment_time_secs = time.time() - start_time_secs"
   ]
  },
  {
   "cell_type": "code",
   "execution_count": 15,
   "id": "87b9595b",
   "metadata": {
    "execution": {
     "iopub.execute_input": "2022-03-04T07:40:22.109601Z",
     "iopub.status.busy": "2022-03-04T07:40:22.109299Z",
     "iopub.status.idle": "2022-03-04T07:41:53.371033Z",
     "shell.execute_reply": "2022-03-04T07:41:53.371417Z"
    },
    "papermill": {
     "duration": 91.298681,
     "end_time": "2022-03-04T07:41:53.371547",
     "exception": false,
     "start_time": "2022-03-04T07:40:22.072866",
     "status": "completed"
    },
    "tags": []
   },
   "outputs": [],
   "source": [
    "###################################\n",
    "# Evaluate the model\n",
    "###################################\n",
    "source_test_label_accuracy, source_test_label_loss = jig.test(datasets.source.processed.test)\n",
    "target_test_label_accuracy, target_test_label_loss = jig.test(datasets.target.processed.test)\n",
    "\n",
    "source_val_label_accuracy, source_val_label_loss = jig.test(datasets.source.processed.val)\n",
    "target_val_label_accuracy, target_val_label_loss = jig.test(datasets.target.processed.val)\n",
    "\n",
    "history = jig.get_history()\n",
    "\n",
    "total_epochs_trained = len(history[\"epoch_indices\"])\n",
    "\n",
    "val_dl = Iterable_Aggregator((datasets.source.original.val,datasets.target.original.val))\n",
    "\n",
    "confusion = ptn_confusion_by_domain_over_dataloader(model, p.device, val_dl)\n",
    "per_domain_accuracy = per_domain_accuracy_from_confusion(confusion)\n",
    "\n",
    "# Add a key to per_domain_accuracy for if it was a source domain\n",
    "for domain, accuracy in per_domain_accuracy.items():\n",
    "    per_domain_accuracy[domain] = {\n",
    "        \"accuracy\": accuracy,\n",
    "        \"source?\": domain in p.domains_source\n",
    "    }\n",
    "\n",
    "# Do an independent accuracy assesment JUST TO BE SURE!\n",
    "# _source_test_label_accuracy = independent_accuracy_assesment(model, datasets.source.processed.test, p.device)\n",
    "# _target_test_label_accuracy = independent_accuracy_assesment(model, datasets.target.processed.test, p.device)\n",
    "# _source_val_label_accuracy = independent_accuracy_assesment(model, datasets.source.processed.val, p.device)\n",
    "# _target_val_label_accuracy = independent_accuracy_assesment(model, datasets.target.processed.val, p.device)\n",
    "\n",
    "# assert(_source_test_label_accuracy == source_test_label_accuracy)\n",
    "# assert(_target_test_label_accuracy == target_test_label_accuracy)\n",
    "# assert(_source_val_label_accuracy == source_val_label_accuracy)\n",
    "# assert(_target_val_label_accuracy == target_val_label_accuracy)\n",
    "\n",
    "experiment = {\n",
    "    \"experiment_name\": p.experiment_name,\n",
    "    \"parameters\": dict(p),\n",
    "    \"results\": {\n",
    "        \"source_test_label_accuracy\": source_test_label_accuracy,\n",
    "        \"source_test_label_loss\": source_test_label_loss,\n",
    "        \"target_test_label_accuracy\": target_test_label_accuracy,\n",
    "        \"target_test_label_loss\": target_test_label_loss,\n",
    "        \"source_val_label_accuracy\": source_val_label_accuracy,\n",
    "        \"source_val_label_loss\": source_val_label_loss,\n",
    "        \"target_val_label_accuracy\": target_val_label_accuracy,\n",
    "        \"target_val_label_loss\": target_val_label_loss,\n",
    "        \"total_epochs_trained\": total_epochs_trained,\n",
    "        \"total_experiment_time_secs\": total_experiment_time_secs,\n",
    "        \"confusion\": confusion,\n",
    "        \"per_domain_accuracy\": per_domain_accuracy,\n",
    "    },\n",
    "    \"history\": history,\n",
    "    \"dataset_metrics\": get_dataset_metrics(datasets, \"ptn\"),\n",
    "}"
   ]
  },
  {
   "cell_type": "code",
   "execution_count": 16,
   "id": "54a21829",
   "metadata": {
    "execution": {
     "iopub.execute_input": "2022-03-04T07:41:53.440039Z",
     "iopub.status.busy": "2022-03-04T07:41:53.439784Z",
     "iopub.status.idle": "2022-03-04T07:41:53.621385Z",
     "shell.execute_reply": "2022-03-04T07:41:53.620963Z"
    },
    "papermill": {
     "duration": 0.21424,
     "end_time": "2022-03-04T07:41:53.621479",
     "exception": false,
     "start_time": "2022-03-04T07:41:53.407239",
     "status": "completed"
    },
    "tags": []
   },
   "outputs": [
    {
     "data": {
      "image/png": "[encoded data removed]",
      "text/plain": [
       "<Figure size 1080x504 with 1 Axes>"
      ]
     },
     "metadata": {
      "needs_background": "light"
     },
     "output_type": "display_data"
    }
   ],
   "source": [
    "ax = get_loss_curve(experiment)\n",
    "plt.show()"
   ]
  },
  {
   "cell_type": "code",
   "execution_count": 17,
   "id": "fd8a0f60",
   "metadata": {
    "execution": {
     "iopub.execute_input": "2022-03-04T07:41:53.690447Z",
     "iopub.status.busy": "2022-03-04T07:41:53.690197Z",
     "iopub.status.idle": "2022-03-04T07:41:53.938033Z",
     "shell.execute_reply": "2022-03-04T07:41:53.938349Z"
    },
    "papermill": {
     "duration": 0.281179,
     "end_time": "2022-03-04T07:41:53.938446",
     "exception": false,
     "start_time": "2022-03-04T07:41:53.657267",
     "status": "completed"
    },
    "tags": []
   },
   "outputs": [
    {
     "data": {
      "text/plain": [
       "<matplotlib.axes._subplots.AxesSubplot at 0x7f46d03c80a0>"
      ]
     },
     "execution_count": 17,
     "metadata": {},
     "output_type": "execute_result"
    },
    {
     "data": {
      "image/png": "[encoded data removed]",
      "text/plain": [
       "<Figure size 1080x504 with 1 Axes>"
      ]
     },
     "metadata": {
      "needs_background": "light"
     },
     "output_type": "display_data"
    }
   ],
   "source": [
    "get_results_table(experiment)"
   ]
  },
  {
   "cell_type": "code",
   "execution_count": 18,
   "id": "cf8dc689",
   "metadata": {
    "execution": {
     "iopub.execute_input": "2022-03-04T07:41:54.010614Z",
     "iopub.status.busy": "2022-03-04T07:41:54.010360Z",
     "iopub.status.idle": "2022-03-04T07:41:54.183439Z",
     "shell.execute_reply": "2022-03-04T07:41:54.182980Z"
    },
    "papermill": {
     "duration": 0.2083,
     "end_time": "2022-03-04T07:41:54.183534",
     "exception": false,
     "start_time": "2022-03-04T07:41:53.975234",
     "status": "completed"
    },
    "tags": []
   },
   "outputs": [
    {
     "data": {
      "text/plain": [
       "<matplotlib.axes._subplots.AxesSubplot at 0x7f46d0625a30>"
      ]
     },
     "execution_count": 18,
     "metadata": {},
     "output_type": "execute_result"
    },
    {
     "data": {
      "image/png": "[encoded data removed]",
      "text/plain": [
       "<Figure size 1080x504 with 1 Axes>"
      ]
     },
     "metadata": {
      "needs_background": "light"
     },
     "output_type": "display_data"
    }
   ],
   "source": [
    "get_domain_accuracies(experiment)"
   ]
  },
  {
   "cell_type": "code",
   "execution_count": 19,
   "id": "a74ae082",
   "metadata": {
    "execution": {
     "iopub.execute_input": "2022-03-04T07:41:54.258904Z",
     "iopub.status.busy": "2022-03-04T07:41:54.258627Z",
     "iopub.status.idle": "2022-03-04T07:41:54.268672Z",
     "shell.execute_reply": "2022-03-04T07:41:54.268424Z"
    },
    "papermill": {
     "duration": 0.046112,
     "end_time": "2022-03-04T07:41:54.268722",
     "exception": false,
     "start_time": "2022-03-04T07:41:54.222610",
     "status": "completed"
    },
    "tags": []
   },
   "outputs": [
    {
     "name": "stdout",
     "output_type": "stream",
     "text": [
      "Source Test Label Accuracy: 0.4856418918918919 Target Test Label Accuracy: 0.4157094594594595\n",
      "Source Val Label Accuracy: 0.5028153153153153 Target Val Label Accuracy: 0.41638513513513514\n"
     ]
    }
   ],
   "source": [
    "print(\"Source Test Label Accuracy:\", experiment[\"results\"][\"source_test_label_accuracy\"], \"Target Test Label Accuracy:\", experiment[\"results\"][\"target_test_label_accuracy\"])\n",
    "print(\"Source Val Label Accuracy:\", experiment[\"results\"][\"source_val_label_accuracy\"], \"Target Val Label Accuracy:\", experiment[\"results\"][\"target_val_label_accuracy\"])"
   ]
  },
  {
   "cell_type": "code",
   "execution_count": 20,
   "id": "dacca602",
   "metadata": {
    "execution": {
     "iopub.execute_input": "2022-03-04T07:41:54.337979Z",
     "iopub.status.busy": "2022-03-04T07:41:54.337730Z",
     "iopub.status.idle": "2022-03-04T07:41:54.347166Z",
     "shell.execute_reply": "2022-03-04T07:41:54.347373Z"
    },
    "papermill": {
     "duration": 0.044924,
     "end_time": "2022-03-04T07:41:54.347431",
     "exception": false,
     "start_time": "2022-03-04T07:41:54.302507",
     "status": "completed"
    },
    "tags": [
     "experiment_json"
    ]
   },
   "outputs": [
    {
     "data": {
      "text/plain": [
       "'{\"experiment_name\": \"nQuery_oracle.run2\", \"parameters\": {\"experiment_name\": \"nQuery_oracle.run2\", \"device\": \"cuda\", \"lr\": 0.001, \"seed\": 1337, \"dataset_seed\": 1337, \"labels_source\": [\"3123D52\", \"3123D65\", \"3123D79\", \"3123D80\", \"3123D54\", \"3123D70\", \"3123D7B\", \"3123D89\", \"3123D58\", \"3123D76\", \"3123D7D\", \"3123EFE\", \"3123D64\", \"3123D78\", \"3123D7E\", \"3124E4A\"], \"labels_target\": [\"3123D52\", \"3123D65\", \"3123D79\", \"3123D80\", \"3123D54\", \"3123D70\", \"3123D7B\", \"3123D89\", \"3123D58\", \"3123D76\", \"3123D7D\", \"3123EFE\", \"3123D64\", \"3123D78\", \"3123D7E\", \"3124E4A\"], \"x_transforms_source\": [], \"x_transforms_target\": [], \"episode_transforms_source\": [], \"episode_transforms_target\": [], \"num_examples_per_domain_per_label_source\": 1000, \"num_examples_per_domain_per_label_target\": 1000, \"n_shot\": 3, \"n_way\": 16, \"train_k_factor\": 1, \"val_k_factor\": 2, \"test_k_factor\": 2, \"torch_default_dtype\": \"torch.float32\", \"n_epoch\": 50, \"patience\": 3, \"criteria_for_best\": \"target_loss\", \"x_net\": [{\"class\": \"nnReshape\", \"kargs\": {\"shape\": [-1, 1, 2, 256]}}, {\"class\": \"Conv2d\", \"kargs\": {\"in_channels\": 1, \"out_channels\": 256, \"kernel_size\": [1, 7], \"bias\": false, \"padding\": [0, 3]}}, {\"class\": \"ReLU\", \"kargs\": {\"inplace\": true}}, {\"class\": \"BatchNorm2d\", \"kargs\": {\"num_features\": 256}}, {\"class\": \"Conv2d\", \"kargs\": {\"in_channels\": 256, \"out_channels\": 80, \"kernel_size\": [2, 7], \"bias\": true, \"padding\": [0, 3]}}, {\"class\": \"ReLU\", \"kargs\": {\"inplace\": true}}, {\"class\": \"BatchNorm2d\", \"kargs\": {\"num_features\": 80}}, {\"class\": \"Flatten\", \"kargs\": {}}, {\"class\": \"Linear\", \"kargs\": {\"in_features\": 20480, \"out_features\": 256}}, {\"class\": \"ReLU\", \"kargs\": {\"inplace\": true}}, {\"class\": \"BatchNorm1d\", \"kargs\": {\"num_features\": 256}}, {\"class\": \"Linear\", \"kargs\": {\"in_features\": 256, \"out_features\": 256}}], \"NUM_LOGS_PER_EPOCH\": 10, \"BEST_MODEL_PATH\": \"./best_model.pth\", \"pickle_name\": \"oracle.Run2_10kExamples_stratified_ds.2022A.pkl\", \"n_query\": 1, \"domains_source\": [8, 32, 50], \"domains_target\": [14, 20, 26, 38, 44]}, \"results\": {\"source_test_label_accuracy\": 0.4856418918918919, \"source_test_label_loss\": 1.2443444728851318, \"target_test_label_accuracy\": 0.4157094594594595, \"target_test_label_loss\": 1.5968490839004517, \"source_val_label_accuracy\": 0.5028153153153153, \"source_val_label_loss\": 1.234007477760315, \"target_val_label_accuracy\": 0.41638513513513514, \"target_val_label_loss\": 1.5929847955703735, \"total_epochs_trained\": 10, \"total_experiment_time_secs\": 563.3935551643372, \"confusion\": {\"8\": {\"15\": {\"15\": 57, \"2\": 8, \"9\": 6, \"12\": 3}, \"3\": {\"3\": 73, \"9\": 1}, \"6\": {\"8\": 28, \"6\": 15, \"14\": 24, \"11\": 5, \"4\": 2}, \"1\": {\"1\": 18, \"4\": 21, \"5\": 7, \"7\": 10, \"11\": 5, \"13\": 5, \"8\": 6, \"10\": 2}, \"8\": {\"8\": 25, \"1\": 3, \"14\": 15, \"6\": 19, \"11\": 9, \"4\": 2, \"5\": 1}, \"10\": {\"5\": 13, \"10\": 30, \"13\": 22, \"7\": 7, \"11\": 2}, \"9\": {\"9\": 69, \"15\": 5}, \"13\": {\"10\": 16, \"13\": 52, \"5\": 3, \"7\": 1, \"11\": 2}, \"12\": {\"2\": 31, \"12\": 38, \"15\": 5}, \"5\": {\"10\": 15, \"5\": 19, \"7\": 24, \"1\": 6, \"13\": 5, \"4\": 5}, \"0\": {\"0\": 74}, \"2\": {\"12\": 35, \"15\": 6, \"2\": 32, \"13\": 1}, \"11\": {\"7\": 7, \"4\": 9, \"10\": 6, \"13\": 13, \"14\": 11, \"5\": 6, \"11\": 8, \"6\": 8, \"8\": 3, \"1\": 3}, \"14\": {\"14\": 32, \"8\": 11, \"6\": 23, \"11\": 8}, \"7\": {\"7\": 29, \"10\": 15, \"1\": 3, \"5\": 17, \"4\": 8, \"11\": 2}, \"4\": {\"7\": 15, \"1\": 18, \"4\": 24, \"5\": 6, \"11\": 4, \"10\": 1, \"8\": 5, \"14\": 1}}, \"32\": {\"2\": {\"0\": 10, \"14\": 13, \"2\": 21, \"8\": 12, \"7\": 18}, \"8\": {\"7\": 13, \"14\": 13, \"2\": 21, \"8\": 14, \"0\": 13}, \"9\": {\"13\": 25, \"9\": 29, \"3\": 12, \"11\": 8}, \"0\": {\"14\": 19, \"0\": 32, \"2\": 8, \"8\": 8, \"7\": 5, \"4\": 1, \"1\": 1}, \"15\": {\"5\": 19, \"15\": 54, \"8\": 1}, \"3\": {\"3\": 36, \"9\": 3, \"4\": 1, \"11\": 27, \"13\": 5, \"1\": 2}, \"4\": {\"4\": 33, \"1\": 26, \"11\": 12, \"14\": 1, \"3\": 2}, \"5\": {\"15\": 32, \"5\": 42}, \"12\": {\"12\": 68, \"10\": 6}, \"10\": {\"12\": 6, \"10\": 68}, \"1\": {\"1\": 26, \"0\": 2, \"4\": 25, \"3\": 9, \"11\": 12}, \"7\": {\"2\": 12, \"7\": 35, \"8\": 9, \"0\": 10, \"14\": 8}, \"13\": {\"13\": 25, \"11\": 13, \"9\": 24, \"12\": 2, \"3\": 8, \"4\": 2}, \"14\": {\"14\": 12, \"7\": 15, \"2\": 12, \"4\": 5, \"0\": 19, \"8\": 7, \"15\": 2, \"1\": 1, \"5\": 1}, \"6\": {\"6\": 74}, \"11\": {\"1\": 14, \"3\": 20, \"4\": 8, \"9\": 9, \"11\": 9, \"13\": 12, \"0\": 1, \"12\": 1}}, \"50\": {\"3\": {\"3\": 29, \"6\": 15, \"9\": 12, \"15\": 9, \"12\": 7, \"5\": 2}, \"15\": {\"5\": 14, \"6\": 6, \"4\": 5, \"15\": 14, \"3\": 15, \"9\": 17, \"7\": 1, \"12\": 2}, \"5\": {\"4\": 10, \"6\": 6, \"5\": 22, \"3\": 8, \"15\": 11, \"9\": 14, \"7\": 3}, \"11\": {\"11\": 60, \"13\": 6, \"12\": 7, \"1\": 1}, \"7\": {\"7\": 49, \"4\": 23, \"5\": 2}, \"14\": {\"0\": 5, \"2\": 30, \"14\": 39}, \"6\": {\"3\": 21, \"6\": 21, \"12\": 18, \"5\": 2, \"15\": 9, \"9\": 3}, \"13\": {\"13\": 32, \"11\": 9, \"1\": 20, \"8\": 13}, \"0\": {\"0\": 61, \"10\": 7, \"2\": 5, \"14\": 1}, \"1\": {\"1\": 20, \"8\": 28, \"11\": 4, \"13\": 22}, \"2\": {\"2\": 46, \"14\": 25, \"0\": 3}, \"12\": {\"12\": 54, \"6\": 11, \"11\": 5, \"3\": 4}, \"8\": {\"13\": 16, \"8\": 39, \"1\": 19}, \"10\": {\"10\": 63, \"8\": 7, \"1\": 1, \"0\": 3}, \"4\": {\"9\": 8, \"7\": 18, \"4\": 36, \"5\": 10, \"15\": 2}, \"9\": {\"9\": 28, \"15\": 15, \"4\": 3, \"3\": 7, \"5\": 14, \"6\": 6, \"12\": 1}}, \"14\": {\"15\": {\"15\": 71, \"12\": 3}, \"3\": {\"3\": 37, \"7\": 30, \"13\": 1, \"2\": 1, \"12\": 2, \"6\": 3}, \"6\": {\"6\": 42, \"13\": 26, \"3\": 5, \"12\": 1}, \"1\": {\"1\": 74}, \"8\": {\"8\": 45, \"5\": 5, \"4\": 5, \"10\": 13, \"0\": 5, \"14\": 1}, \"10\": {\"4\": 9, \"3\": 2, \"8\": 23, \"10\": 13, \"0\": 8, \"5\": 8, \"7\": 1, \"14\": 2, \"2\": 2, \"6\": 5, \"12\": 1}, \"9\": {\"9\": 65, \"12\": 3, \"4\": 2, \"1\": 2, \"0\": 2}, \"13\": {\"13\": 49, \"6\": 23, \"12\": 2}, \"12\": {\"15\": 15, \"4\": 6, \"6\": 8, \"5\": 2, \"12\": 5, \"13\": 4, \"7\": 5, \"14\": 4, \"9\": 7, \"3\": 6, \"1\": 2, \"0\": 3, \"11\": 3, \"2\": 2, \"10\": 2}, \"5\": {\"8\": 7, \"5\": 29, \"2\": 12, \"10\": 11, \"14\": 14, \"7\": 1}, \"0\": {\"0\": 32, \"4\": 29, \"8\": 9, \"12\": 1, \"10\": 3}, \"2\": {\"7\": 13, \"2\": 21, \"5\": 20, \"3\": 6, \"14\": 12, \"10\": 2}, \"11\": {\"11\": 74}, \"14\": {\"7\": 7, \"2\": 19, \"14\": 21, \"3\": 1, \"10\": 5, \"5\": 21}, \"7\": {\"7\": 42, \"3\": 18, \"2\": 9, \"12\": 3, \"14\": 1, \"10\": 1}, \"4\": {\"10\": 3, \"4\": 38, \"0\": 27, \"8\": 4, \"9\": 2}}, \"38\": {\"2\": {\"2\": 33, \"9\": 11, \"14\": 5, \"8\": 19, \"5\": 5, \"0\": 1}, \"8\": {\"8\": 32, \"14\": 11, \"2\": 23, \"5\": 4, \"9\": 4}, \"9\": {\"2\": 12, \"9\": 27, \"12\": 12, \"8\": 7, \"5\": 16}, \"0\": {\"0\": 33, \"14\": 11, \"7\": 28, \"8\": 2}, \"15\": {\"1\": 43, \"15\": 12, \"6\": 17, \"5\": 1, \"12\": 1}, \"3\": {\"3\": 24, \"10\": 18, \"4\": 8, \"13\": 20, \"11\": 4}, \"4\": {\"4\": 56, \"10\": 11, \"3\": 3, \"13\": 3, \"7\": 1}, \"5\": {\"2\": 16, \"12\": 27, \"5\": 9, \"8\": 8, \"9\": 11, \"14\": 3}, \"12\": {\"9\": 15, \"12\": 40, \"5\": 17, \"14\": 1, \"2\": 1}, \"10\": {\"4\": 17, \"3\": 10, \"10\": 26, \"13\": 21}, \"1\": {\"15\": 18, \"1\": 53, \"6\": 3}, \"7\": {\"0\": 26, \"7\": 36, \"14\": 11, \"2\": 1}, \"13\": {\"10\": 23, \"3\": 21, \"13\": 27, \"4\": 3}, \"14\": {\"7\": 11, \"2\": 12, \"8\": 19, \"0\": 10, \"14\": 13, \"4\": 4, \"5\": 4, \"9\": 1}, \"6\": {\"6\": 61, \"15\": 9, \"1\": 4}, \"11\": {\"11\": 74}}, \"26\": {\"3\": {\"3\": 41, \"7\": 14, \"13\": 18, \"12\": 1}, \"15\": {\"15\": 25, \"0\": 18, \"10\": 14, \"14\": 6, \"9\": 4, \"2\": 2, \"8\": 4, \"11\": 1}, \"5\": {\"11\": 16, \"1\": 20, \"6\": 12, \"5\": 15, \"14\": 5, \"0\": 3, \"15\": 1, \"10\": 2}, \"11\": {\"11\": 22, \"14\": 23, \"5\": 13, \"6\": 12, \"0\": 1, \"1\": 2, \"10\": 1}, \"7\": {\"12\": 8, \"3\": 16, \"2\": 6, \"13\": 21, \"7\": 19, \"9\": 3, \"8\": 1}, \"14\": {\"6\": 3, \"10\": 14, \"5\": 11, \"14\": 20, \"11\": 14, \"0\": 9, \"1\": 1, \"15\": 2}, \"6\": {\"6\": 19, \"10\": 1, \"11\": 21, \"1\": 8, \"5\": 19, \"14\": 6}, \"13\": {\"7\": 20, \"3\": 22, \"13\": 16, \"12\": 9, \"8\": 3, \"2\": 1, \"9\": 3}, \"0\": {\"14\": 11, \"0\": 32, \"15\": 13, \"11\": 2, \"10\": 10, \"2\": 1, \"8\": 4, \"9\": 1}, \"1\": {\"1\": 54, \"5\": 12, \"6\": 7, \"14\": 1}, \"2\": {\"2\": 15, \"12\": 14, \"8\": 16, \"13\": 4, \"9\": 17, \"0\": 2, \"7\": 4, \"10\": 1, \"15\": 1}, \"12\": {\"9\": 11, \"12\": 14, \"8\": 21, \"13\": 5, \"7\": 7, \"2\": 14, \"15\": 2}, \"8\": {\"15\": 5, \"12\": 10, \"9\": 16, \"8\": 19, \"2\": 15, \"0\": 1, \"10\": 5, \"7\": 2, \"13\": 1}, \"10\": {\"0\": 18, \"15\": 11, \"9\": 1, \"10\": 8, \"5\": 4, \"14\": 12, \"11\": 6, \"8\": 7, \"12\": 2, \"6\": 2, \"1\": 2, \"2\": 1}, \"4\": {\"4\": 74}, \"9\": {\"12\": 20, \"2\": 13, \"8\": 16, \"9\": 16, \"7\": 5, \"13\": 4}}, \"20\": {\"6\": {\"9\": 5, \"6\": 25, \"3\": 10, \"4\": 5, \"13\": 3, \"7\": 7, \"10\": 7, \"15\": 5, \"12\": 4, \"2\": 3}, \"8\": {\"11\": 20, \"0\": 12, \"8\": 21, \"14\": 20, \"1\": 1}, \"15\": {\"4\": 8, \"3\": 9, \"2\": 7, \"10\": 5, \"6\": 8, \"15\": 8, \"7\": 10, \"1\": 2, \"9\": 9, \"5\": 5, \"13\": 2, \"12\": 1}, \"3\": {\"4\": 13, \"7\": 13, \"6\": 7, \"1\": 5, \"5\": 5, \"15\": 9, \"9\": 8, \"2\": 9, \"3\": 5}, \"10\": {\"9\": 1, \"12\": 23, \"10\": 19, \"6\": 12, \"13\": 16, \"4\": 1, \"7\": 2}, \"5\": {\"2\": 10, \"4\": 4, \"15\": 4, \"5\": 19, \"1\": 16, \"14\": 3, \"9\": 9, \"7\": 3, \"3\": 4, \"0\": 1, \"6\": 1}, \"14\": {\"1\": 9, \"8\": 19, \"14\": 34, \"11\": 6, \"0\": 4, \"5\": 2}, \"9\": {\"7\": 7, \"2\": 9, \"15\": 6, \"6\": 11, \"5\": 7, \"3\": 13, \"4\": 8, \"9\": 10, \"10\": 1, \"1\": 2}, \"12\": {\"12\": 19, \"10\": 20, \"13\": 28, \"15\": 1, \"6\": 5, \"3\": 1}, \"4\": {\"4\": 16, \"2\": 3, \"7\": 12, \"3\": 7, \"15\": 10, \"6\": 9, \"9\": 11, \"10\": 3, \"5\": 3}, \"1\": {\"1\": 38, \"2\": 4, \"5\": 13, \"14\": 8, \"15\": 4, \"8\": 2, \"4\": 1, \"9\": 3, \"7\": 1}, \"7\": {\"9\": 9, \"7\": 12, \"15\": 12, \"13\": 2, \"4\": 10, \"6\": 14, \"10\": 4, \"3\": 6, \"12\": 3, \"2\": 1, \"5\": 1}, \"0\": {\"8\": 16, \"11\": 23, \"0\": 24, \"14\": 10, \"1\": 1}, \"11\": {\"8\": 12, \"11\": 38, \"14\": 7, \"0\": 17}, \"13\": {\"6\": 6, \"10\": 22, \"12\": 22, \"13\": 21, \"4\": 3}, \"2\": {\"9\": 7, \"15\": 13, \"4\": 3, \"1\": 5, \"7\": 5, \"5\": 17, \"3\": 6, \"6\": 5, \"2\": 13}}, \"44\": {\"5\": {\"15\": 10, \"5\": 33, \"8\": 21, \"14\": 6, \"4\": 3, \"9\": 1}, \"9\": {\"7\": 24, \"14\": 13, \"9\": 15, \"4\": 19, \"6\": 1, \"13\": 1, \"10\": 1}, \"7\": {\"7\": 40, \"9\": 15, \"4\": 13, \"10\": 3, \"6\": 2, \"14\": 1}, \"14\": {\"9\": 13, \"14\": 33, \"4\": 24, \"5\": 3, \"7\": 1}, \"6\": {\"13\": 15, \"6\": 35, \"10\": 23, \"7\": 1}, \"13\": {\"13\": 48, \"10\": 13, \"6\": 12, \"7\": 1}, \"15\": {\"0\": 15, \"1\": 2, \"5\": 13, \"8\": 17, \"2\": 10, \"15\": 17}, \"10\": {\"13\": 21, \"7\": 10, \"10\": 14, \"6\": 24, \"9\": 2, \"4\": 1, \"14\": 2}, \"2\": {\"0\": 18, \"1\": 25, \"2\": 23, \"15\": 7, \"5\": 1}, \"12\": {\"3\": 34, \"12\": 40}, \"8\": {\"15\": 16, \"5\": 21, \"8\": 34, \"0\": 3}, \"1\": {\"2\": 24, \"1\": 39, \"0\": 9, \"15\": 2}, \"0\": {\"1\": 16, \"0\": 20, \"5\": 2, \"15\": 15, \"2\": 13, \"8\": 8}, \"11\": {\"11\": 74}, \"4\": {\"9\": 26, \"14\": 21, \"4\": 16, \"7\": 11}, \"3\": {\"3\": 39, \"12\": 34, \"1\": 1}}}, \"per_domain_accuracy\": {\"8\": {\"accuracy\": 0.5025337837837838, \"source?\": true}, \"32\": {\"accuracy\": 0.48817567567567566, \"source?\": true}, \"50\": {\"accuracy\": 0.5177364864864865, \"source?\": true}, \"14\": {\"accuracy\": 0.5557432432432432, \"source?\": false}, \"38\": {\"accuracy\": 0.46959459459459457, \"source?\": false}, \"26\": {\"accuracy\": 0.3454391891891892, \"source?\": false}, \"20\": {\"accuracy\": 0.2719594594594595, \"source?\": false}, \"44\": {\"accuracy\": 0.4391891891891892, \"source?\": false}}}, \"history\": {\"epoch_indices\": [1, 2, 3, 4, 5, 6, 7, 8, 9, 10], \"train_label_loss\": [1.2939667401994979, 1.3141798184031532, 1.2628378248214722, 1.2483453429312934, 1.230003203096844, 1.1984613554818289, 1.1873707035609653, 1.1709181076004391, 1.1585360817682175, 1.1423160676729112], \"source_val_label_loss\": [1.8528908491134644, 1.297308325767517, 1.363574504852295, 1.2475793361663818, 1.234766960144043, 1.234007477760315, 1.2476434707641602, 1.204575538635254, 1.2071716785430908, 1.2143244743347168], \"target_val_label_loss\": [1.9995602369308472, 1.6616312265396118, 2.046351671218872, 1.6467148065567017, 1.6183613538742065, 1.5929847955703735, 1.9308127164840698, 1.6274443864822388, 1.7754124402999878, 1.5976442098617554], \"source_val_acc_label\": [0.43552927927927926, 0.46143018018018017, 0.47381756756756754, 0.47550675675675674, 0.4802927927927928, 0.5028153153153153, 0.49155405405405406, 0.49493243243243246, 0.49802927927927926, 0.5030968468468469], \"target_val_acc_label\": [0.3788851351351351, 0.3932432432432432, 0.3956081081081081, 0.40574324324324323, 0.4035472972972973, 0.41638513513513514, 0.41266891891891894, 0.42567567567567566, 0.4189189189189189, 0.4185810810810811]}, \"dataset_metrics\": {\"source\": {\"train\": {\"n_unique_x\": 33600, \"n_unique_y\": 16, \"n_batch/episode\": 525}, \"val\": {\"n_unique_x\": 7200, \"n_unique_y\": 16, \"n_batch/episode\": 222}, \"test\": {\"n_unique_x\": 7200, \"n_unique_y\": 16, \"n_batch/episode\": 222}}, \"target\": {\"train\": {\"n_unique_x\": 56000, \"n_unique_y\": 16, \"n_batch/episode\": 875}, \"val\": {\"n_unique_x\": 12000, \"n_unique_y\": 16, \"n_batch/episode\": 370}, \"test\": {\"n_unique_x\": 12000, \"n_unique_y\": 16, \"n_batch/episode\": 370}}}}'"
      ]
     },
     "execution_count": 20,
     "metadata": {},
     "output_type": "execute_result"
    }
   ],
   "source": [
    "json.dumps(experiment)"
   ]
  }
 ],
 "metadata": {
  "celltoolbar": "Tags",
  "kernelspec": {
   "display_name": "Python 3 (ipykernel)",
   "language": "python",
   "name": "python3"
  },
  "language_info": {
   "codemirror_mode": {
    "name": "ipython",
    "version": 3
   },
   "file_extension": ".py",
   "mimetype": "text/x-python",
   "name": "python",
   "nbconvert_exporter": "python",
   "pygments_lexer": "ipython3",
   "version": "3.8.10"
  },
  "papermill": {
   "default_parameters": {},
   "duration": 658.113778,
   "end_time": "2022-03-04T07:41:54.986922",
   "environment_variables": {},
   "exception": null,
   "input_path": "/mnt/wd500GB/CSC500/csc500-main/csc500-notebooks/templates/ptn_template.ipynb",
   "output_path": "trial.ipynb",
   "parameters": {
    "parameters": {
     "BEST_MODEL_PATH": "./best_model.pth",
     "NUM_LOGS_PER_EPOCH": 10,
     "criteria_for_best": "target_loss",
     "dataset_seed": 1337,
     "device": "cuda",
     "domains_source": [
      8,
      32,
      50
     ],
     "domains_target": [
      14,
      20,
      26,
      38,
      44
     ],
     "episode_transforms_source": [],
     "episode_transforms_target": [],
     "experiment_name": "nQuery_oracle.run2",
     "labels_source": [
      "3123D52",
      "3123D65",
      "3123D79",
      "3123D80",
      "3123D54",
      "3123D70",
      "3123D7B",
      "3123D89",
      "3123D58",
      "3123D76",
      "3123D7D",
      "3123EFE",
      "3123D64",
      "3123D78",
      "3123D7E",
      "3124E4A"
     ],
     "labels_target": [
      "3123D52",
      "3123D65",
      "3123D79",
      "3123D80",
      "3123D54",
      "3123D70",
      "3123D7B",
      "3123D89",
      "3123D58",
      "3123D76",
      "3123D7D",
      "3123EFE",
      "3123D64",
      "3123D78",
      "3123D7E",
      "3124E4A"
     ],
     "lr": 0.001,
     "n_epoch": 50,
     "n_query": 1,
     "n_shot": 3,
     "n_way": 16,
     "num_examples_per_domain_per_label_source": 1000,
     "num_examples_per_domain_per_label_target": 1000,
     "patience": 3,
     "pickle_name": "oracle.Run2_10kExamples_stratified_ds.2022A.pkl",
     "seed": 1337,
     "test_k_factor": 2,
     "torch_default_dtype": "torch.float32",
     "train_k_factor": 1,
     "val_k_factor": 2,
     "x_net": [
      {
       "class": "nnReshape",
       "kargs": {
        "shape": [
         -1,
         1,
         2,
         256
        ]
       }
      },
      {
       "class": "Conv2d",
       "kargs": {
        "bias": false,
        "in_channels": 1,
        "kernel_size": [
         1,
         7
        ],
        "out_channels": 256,
        "padding": [
         0,
         3
        ]
       }
      },
      {
       "class": "ReLU",
       "kargs": {
        "inplace": true
       }
      },
      {
       "class": "BatchNorm2d",
       "kargs": {
        "num_features": 256
       }
      },
      {
       "class": "Conv2d",
       "kargs": {
        "bias": true,
        "in_channels": 256,
        "kernel_size": [
         2,
         7
        ],
        "out_channels": 80,
        "padding": [
         0,
         3
        ]
       }
      },
      {
       "class": "ReLU",
       "kargs": {
        "inplace": true
       }
      },
      {
       "class": "BatchNorm2d",
       "kargs": {
        "num_features": 80
       }
      },
      {
       "class": "Flatten",
       "kargs": {}
      },
      {
       "class": "Linear",
       "kargs": {
        "in_features": 20480,
        "out_features": 256
       }
      },
      {
       "class": "ReLU",
       "kargs": {
        "inplace": true
       }
      },
      {
       "class": "BatchNorm1d",
       "kargs": {
        "num_features": 256
       }
      },
      {
       "class": "Linear",
       "kargs": {
        "in_features": 256,
        "out_features": 256
       }
      }
     ],
     "x_transforms_source": [],
     "x_transforms_target": []
    }
   },
   "start_time": "2022-03-04T07:30:56.873144",
   "version": "2.3.4"
  }
 },
 "nbformat": 4,
 "nbformat_minor": 5
}