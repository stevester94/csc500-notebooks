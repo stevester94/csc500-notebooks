{
 "cells": [
  {
   "cell_type": "markdown",
   "id": "9fea5f46",
   "metadata": {
    "papermill": {
     "duration": 0.015782,
     "end_time": "2022-03-05T00:43:39.911320",
     "exception": false,
     "start_time": "2022-03-05T00:43:39.895538",
     "status": "completed"
    },
    "tags": []
   },
   "source": [
    "# PTN Template\n",
    "This notebook serves as a template for single dataset PTN experiments  \n",
    "It can be run on its own by setting STANDALONE to True (do a find for \"STANDALONE\" to see where)  \n",
    "But it is intended to be executed as part of a *papermill.py script. See any of the   \n",
    "experimentes with a papermill script to get started with that workflow.  "
   ]
  },
  {
   "cell_type": "code",
   "execution_count": 1,
   "id": "0902182a",
   "metadata": {
    "execution": {
     "iopub.execute_input": "2022-03-05T00:43:39.938624Z",
     "iopub.status.busy": "2022-03-05T00:43:39.938236Z",
     "iopub.status.idle": "2022-03-05T00:43:40.680212Z",
     "shell.execute_reply": "2022-03-05T00:43:40.679685Z"
    },
    "papermill": {
     "duration": 0.759895,
     "end_time": "2022-03-05T00:43:40.680323",
     "exception": false,
     "start_time": "2022-03-05T00:43:39.920428",
     "status": "completed"
    },
    "tags": []
   },
   "outputs": [],
   "source": [
    "%load_ext autoreload\n",
    "%autoreload 2\n",
    "%matplotlib inline\n",
    "\n",
    "    \n",
    "import os, json, sys, time, random\n",
    "import numpy as np\n",
    "import torch\n",
    "from torch.optim import Adam\n",
    "from  easydict import EasyDict\n",
    "import matplotlib.pyplot as plt\n",
    "\n",
    "from steves_models.steves_ptn import Steves_Prototypical_Network\n",
    "\n",
    "from steves_utils.lazy_iterable_wrapper import Lazy_Iterable_Wrapper\n",
    "from steves_utils.iterable_aggregator import Iterable_Aggregator\n",
    "from steves_utils.ptn_train_eval_test_jig import  PTN_Train_Eval_Test_Jig\n",
    "from steves_utils.torch_sequential_builder import build_sequential\n",
    "from steves_utils.torch_utils import get_dataset_metrics, ptn_confusion_by_domain_over_dataloader\n",
    "from steves_utils.utils_v2 import (per_domain_accuracy_from_confusion, get_datasets_base_path)\n",
    "from steves_utils.PTN.utils import independent_accuracy_assesment\n",
    "\n",
    "from steves_utils.stratified_dataset.episodic_accessor import Episodic_Accessor_Factory\n",
    "\n",
    "from steves_utils.ptn_do_report import (\n",
    "    get_loss_curve,\n",
    "    get_results_table,\n",
    "    get_parameters_table,\n",
    "    get_domain_accuracies,\n",
    ")\n",
    "\n",
    "from steves_utils.transforms import get_chained_transform"
   ]
  },
  {
   "cell_type": "markdown",
   "id": "41c840b4",
   "metadata": {
    "papermill": {
     "duration": 0.008939,
     "end_time": "2022-03-05T00:43:40.703860",
     "exception": false,
     "start_time": "2022-03-05T00:43:40.694921",
     "status": "completed"
    },
    "tags": []
   },
   "source": [
    "# Required Parameters\n",
    "These are allowed parameters, not defaults\n",
    "Each of these values need to be present in the injected parameters (the notebook will raise an exception if they are not present)\n",
    "\n",
    "Papermill uses the cell tag \"parameters\" to inject the real parameters below this cell.\n",
    "Enable tags to see what I mean"
   ]
  },
  {
   "cell_type": "code",
   "execution_count": 2,
   "id": "fd44eb83",
   "metadata": {
    "execution": {
     "iopub.execute_input": "2022-03-05T00:43:40.725404Z",
     "iopub.status.busy": "2022-03-05T00:43:40.725133Z",
     "iopub.status.idle": "2022-03-05T00:43:40.738418Z",
     "shell.execute_reply": "2022-03-05T00:43:40.738726Z"
    },
    "papermill": {
     "duration": 0.025873,
     "end_time": "2022-03-05T00:43:40.738810",
     "exception": false,
     "start_time": "2022-03-05T00:43:40.712937",
     "status": "completed"
    },
    "tags": []
   },
   "outputs": [],
   "source": [
    "required_parameters = {\n",
    "    \"experiment_name\",\n",
    "    \"lr\",\n",
    "    \"device\",\n",
    "    \"seed\",\n",
    "    \"dataset_seed\",\n",
    "    \"labels_source\",\n",
    "    \"labels_target\",\n",
    "    \"domains_source\",\n",
    "    \"domains_target\",\n",
    "    \"num_examples_per_domain_per_label_source\",\n",
    "    \"num_examples_per_domain_per_label_target\",\n",
    "    \"n_shot\",\n",
    "    \"n_way\",\n",
    "    \"n_query\",\n",
    "    \"train_k_factor\",\n",
    "    \"val_k_factor\",\n",
    "    \"test_k_factor\",\n",
    "    \"n_epoch\",\n",
    "    \"patience\",\n",
    "    \"criteria_for_best\",\n",
    "    \"x_transforms_source\",\n",
    "    \"x_transforms_target\",\n",
    "    \"episode_transforms_source\",\n",
    "    \"episode_transforms_target\",\n",
    "    \"pickle_name\",\n",
    "    \"x_net\",\n",
    "    \"NUM_LOGS_PER_EPOCH\",\n",
    "    \"BEST_MODEL_PATH\",\n",
    "    \"torch_default_dtype\"\n",
    "}"
   ]
  },
  {
   "cell_type": "code",
   "execution_count": 3,
   "id": "fa3f0049",
   "metadata": {
    "execution": {
     "iopub.execute_input": "2022-03-05T00:43:40.775099Z",
     "iopub.status.busy": "2022-03-05T00:43:40.774575Z",
     "iopub.status.idle": "2022-03-05T00:43:40.785967Z",
     "shell.execute_reply": "2022-03-05T00:43:40.785518Z"
    },
    "papermill": {
     "duration": 0.032569,
     "end_time": "2022-03-05T00:43:40.786056",
     "exception": false,
     "start_time": "2022-03-05T00:43:40.753487",
     "status": "completed"
    },
    "tags": [
     "parameters"
    ]
   },
   "outputs": [],
   "source": [
    "\n",
    "\n",
    "standalone_parameters = {}\n",
    "standalone_parameters[\"experiment_name\"] = \"STANDALONE PTN\"\n",
    "standalone_parameters[\"lr\"] = 0.0001\n",
    "standalone_parameters[\"device\"] = \"cuda\"\n",
    "\n",
    "standalone_parameters[\"seed\"] = 1337\n",
    "standalone_parameters[\"dataset_seed\"] = 1337\n",
    "\n",
    "\n",
    "standalone_parameters[\"num_examples_per_domain_per_label_source\"]=100\n",
    "standalone_parameters[\"num_examples_per_domain_per_label_target\"]=100\n",
    "\n",
    "standalone_parameters[\"n_shot\"] = 3\n",
    "standalone_parameters[\"n_query\"]  = 2\n",
    "standalone_parameters[\"train_k_factor\"] = 1\n",
    "standalone_parameters[\"val_k_factor\"] = 2\n",
    "standalone_parameters[\"test_k_factor\"] = 2\n",
    "\n",
    "\n",
    "standalone_parameters[\"n_epoch\"] = 100\n",
    "\n",
    "standalone_parameters[\"patience\"] = 10\n",
    "standalone_parameters[\"criteria_for_best\"] = \"target_accuracy\"\n",
    "\n",
    "standalone_parameters[\"x_transforms_source\"] = [\"unit_power\"]\n",
    "standalone_parameters[\"x_transforms_target\"] = [\"unit_power\"]\n",
    "standalone_parameters[\"episode_transforms_source\"] = []\n",
    "standalone_parameters[\"episode_transforms_target\"] = []\n",
    "\n",
    "standalone_parameters[\"torch_default_dtype\"] = \"torch.float32\" \n",
    "\n",
    "\n",
    "\n",
    "standalone_parameters[\"x_net\"] =     [\n",
    "    {\"class\": \"nnReshape\", \"kargs\": {\"shape\":[-1, 1, 2, 256]}},\n",
    "    {\"class\": \"Conv2d\", \"kargs\": { \"in_channels\":1, \"out_channels\":256, \"kernel_size\":(1,7), \"bias\":False, \"padding\":(0,3), },},\n",
    "    {\"class\": \"ReLU\", \"kargs\": {\"inplace\": True}},\n",
    "    {\"class\": \"BatchNorm2d\", \"kargs\": {\"num_features\":256}},\n",
    "\n",
    "    {\"class\": \"Conv2d\", \"kargs\": { \"in_channels\":256, \"out_channels\":80, \"kernel_size\":(2,7), \"bias\":True, \"padding\":(0,3), },},\n",
    "    {\"class\": \"ReLU\", \"kargs\": {\"inplace\": True}},\n",
    "    {\"class\": \"BatchNorm2d\", \"kargs\": {\"num_features\":80}},\n",
    "    {\"class\": \"Flatten\", \"kargs\": {}},\n",
    "\n",
    "    {\"class\": \"Linear\", \"kargs\": {\"in_features\": 80*256, \"out_features\": 256}}, # 80 units per IQ pair\n",
    "    {\"class\": \"ReLU\", \"kargs\": {\"inplace\": True}},\n",
    "    {\"class\": \"BatchNorm1d\", \"kargs\": {\"num_features\":256}},\n",
    "\n",
    "    {\"class\": \"Linear\", \"kargs\": {\"in_features\": 256, \"out_features\": 256}},\n",
    "]\n",
    "\n",
    "# Parameters relevant to results\n",
    "# These parameters will basically never need to change\n",
    "standalone_parameters[\"NUM_LOGS_PER_EPOCH\"] = 10\n",
    "standalone_parameters[\"BEST_MODEL_PATH\"] = \"./best_model.pth\"\n",
    "\n",
    "# uncomment for CORES dataset\n",
    "from steves_utils.CORES.utils import (\n",
    "    ALL_NODES,\n",
    "    ALL_NODES_MINIMUM_1000_EXAMPLES,\n",
    "    ALL_DAYS\n",
    ")\n",
    "\n",
    "\n",
    "standalone_parameters[\"labels_source\"] = ALL_NODES\n",
    "standalone_parameters[\"labels_target\"] = ALL_NODES\n",
    "\n",
    "standalone_parameters[\"domains_source\"] = [1]\n",
    "standalone_parameters[\"domains_target\"] = [2,3,4,5]\n",
    "\n",
    "standalone_parameters[\"pickle_name\"] = \"cores.stratified_ds.2022A.pkl\"\n",
    "\n",
    "\n",
    "# Uncomment these for ORACLE dataset\n",
    "# from steves_utils.ORACLE.utils_v2 import (\n",
    "#     ALL_DISTANCES_FEET,\n",
    "#     ALL_RUNS,\n",
    "#     ALL_SERIAL_NUMBERS,\n",
    "# )\n",
    "# standalone_parameters[\"labels_source\"] = ALL_SERIAL_NUMBERS\n",
    "# standalone_parameters[\"labels_target\"] = ALL_SERIAL_NUMBERS\n",
    "# standalone_parameters[\"domains_source\"] = [8,20, 38,50]\n",
    "# standalone_parameters[\"domains_target\"] = [14, 26, 32, 44, 56]\n",
    "# standalone_parameters[\"pickle_name\"] = \"oracle.frame_indexed.stratified_ds.2022A.pkl\"\n",
    "# standalone_parameters[\"num_examples_per_domain_per_label_source\"]=1000\n",
    "# standalone_parameters[\"num_examples_per_domain_per_label_target\"]=1000\n",
    "\n",
    "# Uncomment these for Metahan dataset\n",
    "# standalone_parameters[\"labels_source\"] = list(range(19))\n",
    "# standalone_parameters[\"labels_target\"] = list(range(19))\n",
    "# standalone_parameters[\"domains_source\"] = [0]\n",
    "# standalone_parameters[\"domains_target\"] = [1]\n",
    "# standalone_parameters[\"pickle_name\"] = \"metehan.stratified_ds.2022A.pkl\"\n",
    "# standalone_parameters[\"n_way\"]  = len(standalone_parameters[\"labels_source\"])\n",
    "# standalone_parameters[\"num_examples_per_domain_per_label_source\"]=200\n",
    "# standalone_parameters[\"num_examples_per_domain_per_label_target\"]=100\n",
    "\n",
    "\n",
    "standalone_parameters[\"n_way\"]  = len(standalone_parameters[\"labels_source\"])"
   ]
  },
  {
   "cell_type": "code",
   "execution_count": 4,
   "id": "f62f5c4e",
   "metadata": {
    "execution": {
     "iopub.execute_input": "2022-03-05T00:43:40.815361Z",
     "iopub.status.busy": "2022-03-05T00:43:40.815053Z",
     "iopub.status.idle": "2022-03-05T00:43:40.826250Z",
     "shell.execute_reply": "2022-03-05T00:43:40.826680Z"
    },
    "papermill": {
     "duration": 0.027259,
     "end_time": "2022-03-05T00:43:40.826822",
     "exception": false,
     "start_time": "2022-03-05T00:43:40.799563",
     "status": "completed"
    },
    "tags": [
     "injected-parameters"
    ]
   },
   "outputs": [],
   "source": [
    "# Parameters\n",
    "parameters = {\n",
    "    \"experiment_name\": \"trainKFactor_oracle.run2\",\n",
    "    \"device\": \"cuda\",\n",
    "    \"lr\": 0.001,\n",
    "    \"seed\": 1337,\n",
    "    \"dataset_seed\": 1337,\n",
    "    \"labels_source\": [\n",
    "        \"3123D52\",\n",
    "        \"3123D65\",\n",
    "        \"3123D79\",\n",
    "        \"3123D80\",\n",
    "        \"3123D54\",\n",
    "        \"3123D70\",\n",
    "        \"3123D7B\",\n",
    "        \"3123D89\",\n",
    "        \"3123D58\",\n",
    "        \"3123D76\",\n",
    "        \"3123D7D\",\n",
    "        \"3123EFE\",\n",
    "        \"3123D64\",\n",
    "        \"3123D78\",\n",
    "        \"3123D7E\",\n",
    "        \"3124E4A\",\n",
    "    ],\n",
    "    \"labels_target\": [\n",
    "        \"3123D52\",\n",
    "        \"3123D65\",\n",
    "        \"3123D79\",\n",
    "        \"3123D80\",\n",
    "        \"3123D54\",\n",
    "        \"3123D70\",\n",
    "        \"3123D7B\",\n",
    "        \"3123D89\",\n",
    "        \"3123D58\",\n",
    "        \"3123D76\",\n",
    "        \"3123D7D\",\n",
    "        \"3123EFE\",\n",
    "        \"3123D64\",\n",
    "        \"3123D78\",\n",
    "        \"3123D7E\",\n",
    "        \"3124E4A\",\n",
    "    ],\n",
    "    \"x_transforms_source\": [],\n",
    "    \"x_transforms_target\": [],\n",
    "    \"episode_transforms_source\": [],\n",
    "    \"episode_transforms_target\": [],\n",
    "    \"num_examples_per_domain_per_label_source\": 1000,\n",
    "    \"num_examples_per_domain_per_label_target\": 1000,\n",
    "    \"n_shot\": 3,\n",
    "    \"n_way\": 16,\n",
    "    \"n_query\": 2,\n",
    "    \"val_k_factor\": 2,\n",
    "    \"test_k_factor\": 2,\n",
    "    \"torch_default_dtype\": \"torch.float32\",\n",
    "    \"n_epoch\": 50,\n",
    "    \"patience\": 3,\n",
    "    \"criteria_for_best\": \"target_loss\",\n",
    "    \"x_net\": [\n",
    "        {\"class\": \"nnReshape\", \"kargs\": {\"shape\": [-1, 1, 2, 256]}},\n",
    "        {\n",
    "            \"class\": \"Conv2d\",\n",
    "            \"kargs\": {\n",
    "                \"in_channels\": 1,\n",
    "                \"out_channels\": 256,\n",
    "                \"kernel_size\": [1, 7],\n",
    "                \"bias\": False,\n",
    "                \"padding\": [0, 3],\n",
    "            },\n",
    "        },\n",
    "        {\"class\": \"ReLU\", \"kargs\": {\"inplace\": True}},\n",
    "        {\"class\": \"BatchNorm2d\", \"kargs\": {\"num_features\": 256}},\n",
    "        {\n",
    "            \"class\": \"Conv2d\",\n",
    "            \"kargs\": {\n",
    "                \"in_channels\": 256,\n",
    "                \"out_channels\": 80,\n",
    "                \"kernel_size\": [2, 7],\n",
    "                \"bias\": True,\n",
    "                \"padding\": [0, 3],\n",
    "            },\n",
    "        },\n",
    "        {\"class\": \"ReLU\", \"kargs\": {\"inplace\": True}},\n",
    "        {\"class\": \"BatchNorm2d\", \"kargs\": {\"num_features\": 80}},\n",
    "        {\"class\": \"Flatten\", \"kargs\": {}},\n",
    "        {\"class\": \"Linear\", \"kargs\": {\"in_features\": 20480, \"out_features\": 256}},\n",
    "        {\"class\": \"ReLU\", \"kargs\": {\"inplace\": True}},\n",
    "        {\"class\": \"BatchNorm1d\", \"kargs\": {\"num_features\": 256}},\n",
    "        {\"class\": \"Linear\", \"kargs\": {\"in_features\": 256, \"out_features\": 256}},\n",
    "    ],\n",
    "    \"NUM_LOGS_PER_EPOCH\": 10,\n",
    "    \"BEST_MODEL_PATH\": \"./best_model.pth\",\n",
    "    \"pickle_name\": \"oracle.Run2_10kExamples_stratified_ds.2022A.pkl\",\n",
    "    \"train_k_factor\": 2,\n",
    "    \"domains_source\": [8, 32, 50],\n",
    "    \"domains_target\": [14, 20, 26, 38, 44],\n",
    "}\n"
   ]
  },
  {
   "cell_type": "code",
   "execution_count": 5,
   "id": "8fa1cc33",
   "metadata": {
    "execution": {
     "iopub.execute_input": "2022-03-05T00:43:40.855505Z",
     "iopub.status.busy": "2022-03-05T00:43:40.855222Z",
     "iopub.status.idle": "2022-03-05T00:43:40.869839Z",
     "shell.execute_reply": "2022-03-05T00:43:40.870130Z"
    },
    "papermill": {
     "duration": 0.027499,
     "end_time": "2022-03-05T00:43:40.870211",
     "exception": false,
     "start_time": "2022-03-05T00:43:40.842712",
     "status": "completed"
    },
    "tags": []
   },
   "outputs": [],
   "source": [
    "# Set this to True if you want to run this template directly\n",
    "STANDALONE = False\n",
    "if STANDALONE:\n",
    "    print(\"parameters not injected, running with standalone_parameters\")\n",
    "    parameters = standalone_parameters\n",
    "\n",
    "if not 'parameters' in locals() and not 'parameters' in globals():\n",
    "    raise Exception(\"Parameter injection failed\")\n",
    "\n",
    "#Use an easy dict for all the parameters\n",
    "p = EasyDict(parameters)\n",
    "\n",
    "supplied_keys = set(p.keys())\n",
    "\n",
    "if  supplied_keys != required_parameters:\n",
    "    print(\"Parameters are incorrect\")\n",
    "    if len(supplied_keys - required_parameters)>0: print(\"Shouldn't have:\", str(supplied_keys - required_parameters))\n",
    "    if len(required_parameters - supplied_keys)>0: print(\"Need to have:\", str(required_parameters - supplied_keys))\n",
    "    raise RuntimeError(\"Parameters are incorrect\")\n",
    "\n"
   ]
  },
  {
   "cell_type": "code",
   "execution_count": 6,
   "id": "3a028d58",
   "metadata": {
    "execution": {
     "iopub.execute_input": "2022-03-05T00:43:40.895292Z",
     "iopub.status.busy": "2022-03-05T00:43:40.895040Z",
     "iopub.status.idle": "2022-03-05T00:43:40.908064Z",
     "shell.execute_reply": "2022-03-05T00:43:40.907675Z"
    },
    "papermill": {
     "duration": 0.024655,
     "end_time": "2022-03-05T00:43:40.908154",
     "exception": false,
     "start_time": "2022-03-05T00:43:40.883499",
     "status": "completed"
    },
    "tags": []
   },
   "outputs": [],
   "source": [
    "###################################\n",
    "# Set the RNGs and make it all deterministic\n",
    "###################################\n",
    "np.random.seed(p.seed)\n",
    "random.seed(p.seed)\n",
    "torch.manual_seed(p.seed)\n",
    "\n",
    "torch.use_deterministic_algorithms(True) "
   ]
  },
  {
   "cell_type": "code",
   "execution_count": 7,
   "id": "b691acf6",
   "metadata": {
    "execution": {
     "iopub.execute_input": "2022-03-05T00:43:40.934176Z",
     "iopub.status.busy": "2022-03-05T00:43:40.933924Z",
     "iopub.status.idle": "2022-03-05T00:43:40.945162Z",
     "shell.execute_reply": "2022-03-05T00:43:40.945531Z"
    },
    "papermill": {
     "duration": 0.023213,
     "end_time": "2022-03-05T00:43:40.945635",
     "exception": false,
     "start_time": "2022-03-05T00:43:40.922422",
     "status": "completed"
    },
    "tags": []
   },
   "outputs": [],
   "source": [
    "###########################################\n",
    "# The stratified datasets honor this\n",
    "###########################################\n",
    "torch.set_default_dtype(eval(p.torch_default_dtype))"
   ]
  },
  {
   "cell_type": "code",
   "execution_count": 8,
   "id": "b5fba671",
   "metadata": {
    "execution": {
     "iopub.execute_input": "2022-03-05T00:43:40.971114Z",
     "iopub.status.busy": "2022-03-05T00:43:40.970863Z",
     "iopub.status.idle": "2022-03-05T00:43:41.009955Z",
     "shell.execute_reply": "2022-03-05T00:43:41.009505Z"
    },
    "papermill": {
     "duration": 0.05043,
     "end_time": "2022-03-05T00:43:41.010045",
     "exception": false,
     "start_time": "2022-03-05T00:43:40.959615",
     "status": "completed"
    },
    "tags": []
   },
   "outputs": [],
   "source": [
    "###################################\n",
    "# Build the network(s)\n",
    "# Note: It's critical to do this AFTER setting the RNG\n",
    "# (This is due to the randomized initial weights)\n",
    "###################################\n",
    "x_net = build_sequential(p.x_net)"
   ]
  },
  {
   "cell_type": "code",
   "execution_count": 9,
   "id": "5d7e61cc",
   "metadata": {
    "execution": {
     "iopub.execute_input": "2022-03-05T00:43:41.035820Z",
     "iopub.status.busy": "2022-03-05T00:43:41.035572Z",
     "iopub.status.idle": "2022-03-05T00:43:41.046410Z",
     "shell.execute_reply": "2022-03-05T00:43:41.046706Z"
    },
    "papermill": {
     "duration": 0.022783,
     "end_time": "2022-03-05T00:43:41.046788",
     "exception": false,
     "start_time": "2022-03-05T00:43:41.024005",
     "status": "completed"
    },
    "tags": []
   },
   "outputs": [],
   "source": [
    "start_time_secs = time.time()"
   ]
  },
  {
   "cell_type": "code",
   "execution_count": 10,
   "id": "fd5442bc",
   "metadata": {
    "execution": {
     "iopub.execute_input": "2022-03-05T00:43:41.075417Z",
     "iopub.status.busy": "2022-03-05T00:43:41.075153Z",
     "iopub.status.idle": "2022-03-05T00:43:44.433713Z",
     "shell.execute_reply": "2022-03-05T00:43:44.433289Z"
    },
    "papermill": {
     "duration": 3.374789,
     "end_time": "2022-03-05T00:43:44.433813",
     "exception": false,
     "start_time": "2022-03-05T00:43:41.059024",
     "status": "completed"
    },
    "tags": []
   },
   "outputs": [],
   "source": [
    "###################################\n",
    "# Build the dataset\n",
    "###################################\n",
    "\n",
    "if p.x_transforms_source == []: x_transform_source = None\n",
    "else: x_transform_source = get_chained_transform(p.x_transforms_source) \n",
    "\n",
    "if p.x_transforms_target == []: x_transform_target = None\n",
    "else: x_transform_target = get_chained_transform(p.x_transforms_target)\n",
    "\n",
    "if p.episode_transforms_source == []: episode_transform_source = None\n",
    "else: raise Exception(\"episode_transform_source not implemented\")\n",
    "\n",
    "if p.episode_transforms_target == []: episode_transform_target = None\n",
    "else: raise Exception(\"episode_transform_target not implemented\")\n",
    "\n",
    "\n",
    "eaf_source = Episodic_Accessor_Factory(\n",
    "    labels=p.labels_source,\n",
    "    domains=p.domains_source,\n",
    "    num_examples_per_domain_per_label=p.num_examples_per_domain_per_label_source,\n",
    "    iterator_seed=p.seed,\n",
    "    dataset_seed=p.dataset_seed,\n",
    "    n_shot=p.n_shot,\n",
    "    n_way=p.n_way,\n",
    "    n_query=p.n_query,\n",
    "    train_val_test_k_factors=(p.train_k_factor,p.val_k_factor,p.test_k_factor),\n",
    "    pickle_path=os.path.join(get_datasets_base_path(), p.pickle_name),\n",
    "    x_transform_func=x_transform_source,\n",
    "    example_transform_func=episode_transform_source,\n",
    "    \n",
    ")\n",
    "train_original_source, val_original_source, test_original_source = eaf_source.get_train(), eaf_source.get_val(), eaf_source.get_test()\n",
    "\n",
    "\n",
    "eaf_target = Episodic_Accessor_Factory(\n",
    "    labels=p.labels_target,\n",
    "    domains=p.domains_target,\n",
    "    num_examples_per_domain_per_label=p.num_examples_per_domain_per_label_target,\n",
    "    iterator_seed=p.seed,\n",
    "    dataset_seed=p.dataset_seed,\n",
    "    n_shot=p.n_shot,\n",
    "    n_way=p.n_way,\n",
    "    n_query=p.n_query,\n",
    "    train_val_test_k_factors=(p.train_k_factor,p.val_k_factor,p.test_k_factor),\n",
    "    pickle_path=os.path.join(get_datasets_base_path(), p.pickle_name),\n",
    "    x_transform_func=x_transform_target,\n",
    "    example_transform_func=episode_transform_target,\n",
    ")\n",
    "train_original_target, val_original_target, test_original_target = eaf_target.get_train(), eaf_target.get_val(), eaf_target.get_test()\n",
    "\n",
    "\n",
    "transform_lambda = lambda ex: ex[1] # Original is (<domain>, <episode>) so we strip down to episode only\n",
    "\n",
    "train_processed_source = Lazy_Iterable_Wrapper(train_original_source, transform_lambda)\n",
    "val_processed_source   = Lazy_Iterable_Wrapper(val_original_source, transform_lambda)\n",
    "test_processed_source  = Lazy_Iterable_Wrapper(test_original_source, transform_lambda)\n",
    "\n",
    "train_processed_target = Lazy_Iterable_Wrapper(train_original_target, transform_lambda)\n",
    "val_processed_target   = Lazy_Iterable_Wrapper(val_original_target, transform_lambda)\n",
    "test_processed_target  = Lazy_Iterable_Wrapper(test_original_target, transform_lambda)\n",
    "\n",
    "datasets = EasyDict({\n",
    "    \"source\": {\n",
    "        \"original\": {\"train\":train_original_source, \"val\":val_original_source, \"test\":test_original_source},\n",
    "        \"processed\": {\"train\":train_processed_source, \"val\":val_processed_source, \"test\":test_processed_source}\n",
    "    },\n",
    "    \"target\": {\n",
    "        \"original\": {\"train\":train_original_target, \"val\":val_original_target, \"test\":test_original_target},\n",
    "        \"processed\": {\"train\":train_processed_target, \"val\":val_processed_target, \"test\":test_processed_target}\n",
    "    },\n",
    "})"
   ]
  },
  {
   "cell_type": "code",
   "execution_count": 11,
   "id": "296189d9",
   "metadata": {
    "execution": {
     "iopub.execute_input": "2022-03-05T00:43:44.460731Z",
     "iopub.status.busy": "2022-03-05T00:43:44.460464Z",
     "iopub.status.idle": "2022-03-05T00:43:46.032422Z",
     "shell.execute_reply": "2022-03-05T00:43:46.032699Z"
    },
    "papermill": {
     "duration": 1.584794,
     "end_time": "2022-03-05T00:43:46.032778",
     "exception": false,
     "start_time": "2022-03-05T00:43:44.447984",
     "status": "completed"
    },
    "tags": []
   },
   "outputs": [
    {
     "name": "stdout",
     "output_type": "stream",
     "text": [
      "Visually inspect these to see if they line up with expected values given the transforms\n",
      "x_transforms_source []\n",
      "x_transforms_target []\n",
      "Average magnitude, source: 0.004635015\n",
      "Average power, source: 2.8574976e-05\n"
     ]
    },
    {
     "name": "stdout",
     "output_type": "stream",
     "text": [
      "Average magnitude, target: 0.0029128897\n",
      "Average power, target: 1.0910343e-05\n"
     ]
    }
   ],
   "source": [
    "# Some quick unit tests on the data\n",
    "from steves_utils.transforms import get_average_power, get_average_magnitude\n",
    "\n",
    "q_x, q_y, s_x, s_y, truth = next(iter(train_processed_source))\n",
    "\n",
    "assert q_x.dtype == eval(p.torch_default_dtype)\n",
    "assert s_x.dtype == eval(p.torch_default_dtype)\n",
    "\n",
    "print(\"Visually inspect these to see if they line up with expected values given the transforms\")\n",
    "print('x_transforms_source', p.x_transforms_source)\n",
    "print('x_transforms_target', p.x_transforms_target)\n",
    "print(\"Average magnitude, source:\", get_average_magnitude(q_x[0].numpy()))\n",
    "print(\"Average power, source:\", get_average_power(q_x[0].numpy()))\n",
    "\n",
    "q_x, q_y, s_x, s_y, truth = next(iter(train_processed_target))\n",
    "print(\"Average magnitude, target:\", get_average_magnitude(q_x[0].numpy()))\n",
    "print(\"Average power, target:\", get_average_power(q_x[0].numpy()))\n"
   ]
  },
  {
   "cell_type": "code",
   "execution_count": 12,
   "id": "bbdacba1",
   "metadata": {
    "execution": {
     "iopub.execute_input": "2022-03-05T00:43:46.062085Z",
     "iopub.status.busy": "2022-03-05T00:43:46.061816Z",
     "iopub.status.idle": "2022-03-05T00:43:46.123238Z",
     "shell.execute_reply": "2022-03-05T00:43:46.123650Z"
    },
    "papermill": {
     "duration": 0.076259,
     "end_time": "2022-03-05T00:43:46.123766",
     "exception": false,
     "start_time": "2022-03-05T00:43:46.047507",
     "status": "completed"
    },
    "tags": []
   },
   "outputs": [
    {
     "name": "stdout",
     "output_type": "stream",
     "text": [
      "(2, 256)\n"
     ]
    }
   ],
   "source": [
    "###################################\n",
    "# Build the model\n",
    "###################################\n",
    "model = Steves_Prototypical_Network(x_net, device=p.device, x_shape=(2,256))\n",
    "optimizer = Adam(params=model.parameters(), lr=p.lr)"
   ]
  },
  {
   "cell_type": "code",
   "execution_count": 13,
   "id": "22b39ac5",
   "metadata": {
    "execution": {
     "iopub.execute_input": "2022-03-05T00:43:46.151043Z",
     "iopub.status.busy": "2022-03-05T00:43:46.150756Z",
     "iopub.status.idle": "2022-03-05T00:47:04.863250Z",
     "shell.execute_reply": "2022-03-05T00:47:04.863638Z"
    },
    "papermill": {
     "duration": 198.726177,
     "end_time": "2022-03-05T00:47:04.863769",
     "exception": false,
     "start_time": "2022-03-05T00:43:46.137592",
     "status": "completed"
    },
    "tags": []
   },
   "outputs": [
    {
     "name": "stdout",
     "output_type": "stream",
     "text": [
      "epoch: 1, [batch: 1 / 840], examples_per_second: 313.4648, train_label_loss: 2.3325, \n"
     ]
    },
    {
     "name": "stdout",
     "output_type": "stream",
     "text": [
      "epoch: 1, [batch: 84 / 840], examples_per_second: 3001.2815, train_label_loss: 1.4815, \n"
     ]
    },
    {
     "name": "stdout",
     "output_type": "stream",
     "text": [
      "epoch: 1, [batch: 168 / 840], examples_per_second: 3155.4649, train_label_loss: 1.2338, \n"
     ]
    },
    {
     "name": "stdout",
     "output_type": "stream",
     "text": [
      "epoch: 1, [batch: 252 / 840], examples_per_second: 2936.4475, train_label_loss: 1.0845, \n"
     ]
    },
    {
     "name": "stdout",
     "output_type": "stream",
     "text": [
      "epoch: 1, [batch: 336 / 840], examples_per_second: 3057.1551, train_label_loss: 1.2664, \n"
     ]
    },
    {
     "name": "stdout",
     "output_type": "stream",
     "text": [
      "epoch: 1, [batch: 420 / 840], examples_per_second: 3026.6776, train_label_loss: 1.4159, \n"
     ]
    },
    {
     "name": "stdout",
     "output_type": "stream",
     "text": [
      "epoch: 1, [batch: 504 / 840], examples_per_second: 3214.9011, train_label_loss: 1.1587, \n"
     ]
    },
    {
     "name": "stdout",
     "output_type": "stream",
     "text": [
      "epoch: 1, [batch: 588 / 840], examples_per_second: 3221.3635, train_label_loss: 1.1128, \n"
     ]
    },
    {
     "name": "stdout",
     "output_type": "stream",
     "text": [
      "epoch: 1, [batch: 672 / 840], examples_per_second: 3216.3921, train_label_loss: 1.1909, \n"
     ]
    },
    {
     "name": "stdout",
     "output_type": "stream",
     "text": [
      "epoch: 1, [batch: 756 / 840], examples_per_second: 3219.0229, train_label_loss: 1.2098, \n"
     ]
    },
    {
     "name": "stdout",
     "output_type": "stream",
     "text": [
      "=============================================================\n",
      "epoch: 1, source_val_acc_label: 0.4851, target_val_acc_label: 0.3909, source_val_label_loss: 2.3511, target_val_label_loss: 2.8414, \n",
      "=============================================================\n"
     ]
    },
    {
     "name": "stdout",
     "output_type": "stream",
     "text": [
      "New best\n"
     ]
    },
    {
     "name": "stdout",
     "output_type": "stream",
     "text": [
      "epoch: 2, [batch: 1 / 840], examples_per_second: 26.4566, train_label_loss: 3.1504, \n"
     ]
    },
    {
     "name": "stdout",
     "output_type": "stream",
     "text": [
      "epoch: 2, [batch: 84 / 840], examples_per_second: 3247.5044, train_label_loss: 1.3835, \n"
     ]
    },
    {
     "name": "stdout",
     "output_type": "stream",
     "text": [
      "epoch: 2, [batch: 168 / 840], examples_per_second: 3262.3641, train_label_loss: 1.2426, \n"
     ]
    },
    {
     "name": "stdout",
     "output_type": "stream",
     "text": [
      "epoch: 2, [batch: 252 / 840], examples_per_second: 3245.9036, train_label_loss: 1.6423, \n"
     ]
    },
    {
     "name": "stdout",
     "output_type": "stream",
     "text": [
      "epoch: 2, [batch: 336 / 840], examples_per_second: 3238.6479, train_label_loss: 1.3189, \n"
     ]
    },
    {
     "name": "stdout",
     "output_type": "stream",
     "text": [
      "epoch: 2, [batch: 420 / 840], examples_per_second: 3223.5427, train_label_loss: 1.4000, \n"
     ]
    },
    {
     "name": "stdout",
     "output_type": "stream",
     "text": [
      "epoch: 2, [batch: 504 / 840], examples_per_second: 3247.6962, train_label_loss: 1.1051, \n"
     ]
    },
    {
     "name": "stdout",
     "output_type": "stream",
     "text": [
      "epoch: 2, [batch: 588 / 840], examples_per_second: 3246.4775, train_label_loss: 1.3523, \n"
     ]
    },
    {
     "name": "stdout",
     "output_type": "stream",
     "text": [
      "epoch: 2, [batch: 672 / 840], examples_per_second: 3253.0669, train_label_loss: 0.9880, \n"
     ]
    },
    {
     "name": "stdout",
     "output_type": "stream",
     "text": [
      "epoch: 2, [batch: 756 / 840], examples_per_second: 3258.8543, train_label_loss: 1.1159, \n"
     ]
    },
    {
     "name": "stdout",
     "output_type": "stream",
     "text": [
      "=============================================================\n",
      "epoch: 2, source_val_acc_label: 0.7019, target_val_acc_label: 0.5682, source_val_label_loss: 0.7916, target_val_label_loss: 1.3610, \n",
      "=============================================================\n"
     ]
    },
    {
     "name": "stdout",
     "output_type": "stream",
     "text": [
      "New best\n"
     ]
    },
    {
     "name": "stdout",
     "output_type": "stream",
     "text": [
      "epoch: 3, [batch: 1 / 840], examples_per_second: 26.4612, train_label_loss: 0.5027, \n"
     ]
    },
    {
     "name": "stdout",
     "output_type": "stream",
     "text": [
      "epoch: 3, [batch: 84 / 840], examples_per_second: 3239.9710, train_label_loss: 0.3665, \n"
     ]
    },
    {
     "name": "stdout",
     "output_type": "stream",
     "text": [
      "epoch: 3, [batch: 168 / 840], examples_per_second: 3254.5092, train_label_loss: 0.5750, \n"
     ]
    },
    {
     "name": "stdout",
     "output_type": "stream",
     "text": [
      "epoch: 3, [batch: 252 / 840], examples_per_second: 3233.0637, train_label_loss: 0.3821, \n"
     ]
    },
    {
     "name": "stdout",
     "output_type": "stream",
     "text": [
      "epoch: 3, [batch: 336 / 840], examples_per_second: 3246.7643, train_label_loss: 0.6895, \n"
     ]
    },
    {
     "name": "stdout",
     "output_type": "stream",
     "text": [
      "epoch: 3, [batch: 420 / 840], examples_per_second: 3221.9358, train_label_loss: 0.6468, \n"
     ]
    },
    {
     "name": "stdout",
     "output_type": "stream",
     "text": [
      "epoch: 3, [batch: 504 / 840], examples_per_second: 3250.3876, train_label_loss: 0.6989, \n"
     ]
    },
    {
     "name": "stdout",
     "output_type": "stream",
     "text": [
      "epoch: 3, [batch: 588 / 840], examples_per_second: 3247.5106, train_label_loss: 0.5162, \n"
     ]
    },
    {
     "name": "stdout",
     "output_type": "stream",
     "text": [
      "epoch: 3, [batch: 672 / 840], examples_per_second: 3229.6514, train_label_loss: 0.6224, \n"
     ]
    },
    {
     "name": "stdout",
     "output_type": "stream",
     "text": [
      "epoch: 3, [batch: 756 / 840], examples_per_second: 3273.4415, train_label_loss: 0.8389, \n"
     ]
    },
    {
     "name": "stdout",
     "output_type": "stream",
     "text": [
      "=============================================================\n",
      "epoch: 3, source_val_acc_label: 0.7585, target_val_acc_label: 0.6129, source_val_label_loss: 0.6411, target_val_label_loss: 1.2029, \n",
      "=============================================================\n"
     ]
    },
    {
     "name": "stdout",
     "output_type": "stream",
     "text": [
      "New best\n"
     ]
    },
    {
     "name": "stdout",
     "output_type": "stream",
     "text": [
      "epoch: 4, [batch: 1 / 840], examples_per_second: 26.5691, train_label_loss: 0.3286, \n"
     ]
    },
    {
     "name": "stdout",
     "output_type": "stream",
     "text": [
      "epoch: 4, [batch: 84 / 840], examples_per_second: 3266.6298, train_label_loss: 0.3508, \n"
     ]
    },
    {
     "name": "stdout",
     "output_type": "stream",
     "text": [
      "epoch: 4, [batch: 168 / 840], examples_per_second: 3063.9639, train_label_loss: 0.2319, \n"
     ]
    },
    {
     "name": "stdout",
     "output_type": "stream",
     "text": [
      "epoch: 4, [batch: 252 / 840], examples_per_second: 3105.1243, train_label_loss: 0.5445, \n"
     ]
    },
    {
     "name": "stdout",
     "output_type": "stream",
     "text": [
      "epoch: 4, [batch: 336 / 840], examples_per_second: 3276.9337, train_label_loss: 0.7276, \n"
     ]
    },
    {
     "name": "stdout",
     "output_type": "stream",
     "text": [
      "epoch: 4, [batch: 420 / 840], examples_per_second: 3146.2024, train_label_loss: 0.3106, \n"
     ]
    },
    {
     "name": "stdout",
     "output_type": "stream",
     "text": [
      "epoch: 4, [batch: 504 / 840], examples_per_second: 3140.8856, train_label_loss: 0.2433, \n"
     ]
    },
    {
     "name": "stdout",
     "output_type": "stream",
     "text": [
      "epoch: 4, [batch: 588 / 840], examples_per_second: 3178.5361, train_label_loss: 0.2720, \n"
     ]
    },
    {
     "name": "stdout",
     "output_type": "stream",
     "text": [
      "epoch: 4, [batch: 672 / 840], examples_per_second: 3080.0046, train_label_loss: 0.4910, \n"
     ]
    },
    {
     "name": "stdout",
     "output_type": "stream",
     "text": [
      "epoch: 4, [batch: 756 / 840], examples_per_second: 3206.9762, train_label_loss: 0.6408, \n"
     ]
    },
    {
     "name": "stdout",
     "output_type": "stream",
     "text": [
      "=============================================================\n",
      "epoch: 4, source_val_acc_label: 0.7675, target_val_acc_label: 0.6249, source_val_label_loss: 0.6261, target_val_label_loss: 1.1361, \n",
      "=============================================================\n"
     ]
    },
    {
     "name": "stdout",
     "output_type": "stream",
     "text": [
      "New best\n"
     ]
    },
    {
     "name": "stdout",
     "output_type": "stream",
     "text": [
      "epoch: 5, [batch: 1 / 840], examples_per_second: 26.4776, train_label_loss: 0.4833, \n"
     ]
    },
    {
     "name": "stdout",
     "output_type": "stream",
     "text": [
      "epoch: 5, [batch: 84 / 840], examples_per_second: 3213.5439, train_label_loss: 0.3128, \n"
     ]
    },
    {
     "name": "stdout",
     "output_type": "stream",
     "text": [
      "epoch: 5, [batch: 168 / 840], examples_per_second: 3243.8385, train_label_loss: 0.3900, \n"
     ]
    },
    {
     "name": "stdout",
     "output_type": "stream",
     "text": [
      "epoch: 5, [batch: 252 / 840], examples_per_second: 3248.9215, train_label_loss: 0.7897, \n"
     ]
    },
    {
     "name": "stdout",
     "output_type": "stream",
     "text": [
      "epoch: 5, [batch: 336 / 840], examples_per_second: 3240.7395, train_label_loss: 0.5507, \n"
     ]
    },
    {
     "name": "stdout",
     "output_type": "stream",
     "text": [
      "epoch: 5, [batch: 420 / 840], examples_per_second: 3223.3794, train_label_loss: 0.2275, \n"
     ]
    },
    {
     "name": "stdout",
     "output_type": "stream",
     "text": [
      "epoch: 5, [batch: 504 / 840], examples_per_second: 3232.6754, train_label_loss: 0.5236, \n"
     ]
    },
    {
     "name": "stdout",
     "output_type": "stream",
     "text": [
      "epoch: 5, [batch: 588 / 840], examples_per_second: 3224.9199, train_label_loss: 0.4900, \n"
     ]
    },
    {
     "name": "stdout",
     "output_type": "stream",
     "text": [
      "epoch: 5, [batch: 672 / 840], examples_per_second: 3240.2910, train_label_loss: 0.4406, \n"
     ]
    },
    {
     "name": "stdout",
     "output_type": "stream",
     "text": [
      "epoch: 5, [batch: 756 / 840], examples_per_second: 3236.3750, train_label_loss: 0.1908, \n"
     ]
    },
    {
     "name": "stdout",
     "output_type": "stream",
     "text": [
      "=============================================================\n",
      "epoch: 5, source_val_acc_label: 0.7905, target_val_acc_label: 0.6291, source_val_label_loss: 0.5652, target_val_label_loss: 1.2344, \n",
      "=============================================================\n"
     ]
    },
    {
     "name": "stdout",
     "output_type": "stream",
     "text": [
      "epoch: 6, [batch: 1 / 840], examples_per_second: 26.4615, train_label_loss: 0.4192, \n"
     ]
    },
    {
     "name": "stdout",
     "output_type": "stream",
     "text": [
      "epoch: 6, [batch: 84 / 840], examples_per_second: 3222.7308, train_label_loss: 0.4201, \n"
     ]
    },
    {
     "name": "stdout",
     "output_type": "stream",
     "text": [
      "epoch: 6, [batch: 168 / 840], examples_per_second: 3229.7046, train_label_loss: 0.4864, \n"
     ]
    },
    {
     "name": "stdout",
     "output_type": "stream",
     "text": [
      "epoch: 6, [batch: 252 / 840], examples_per_second: 3235.7033, train_label_loss: 0.1409, \n"
     ]
    },
    {
     "name": "stdout",
     "output_type": "stream",
     "text": [
      "epoch: 6, [batch: 336 / 840], examples_per_second: 3237.9663, train_label_loss: 0.4831, \n"
     ]
    },
    {
     "name": "stdout",
     "output_type": "stream",
     "text": [
      "epoch: 6, [batch: 420 / 840], examples_per_second: 3211.0492, train_label_loss: 0.2097, \n"
     ]
    },
    {
     "name": "stdout",
     "output_type": "stream",
     "text": [
      "epoch: 6, [batch: 504 / 840], examples_per_second: 3222.4728, train_label_loss: 0.2032, \n"
     ]
    },
    {
     "name": "stdout",
     "output_type": "stream",
     "text": [
      "epoch: 6, [batch: 588 / 840], examples_per_second: 3221.1114, train_label_loss: 0.6162, \n"
     ]
    },
    {
     "name": "stdout",
     "output_type": "stream",
     "text": [
      "epoch: 6, [batch: 672 / 840], examples_per_second: 3247.5671, train_label_loss: 0.4141, \n"
     ]
    },
    {
     "name": "stdout",
     "output_type": "stream",
     "text": [
      "epoch: 6, [batch: 756 / 840], examples_per_second: 3246.3025, train_label_loss: 0.3477, \n"
     ]
    },
    {
     "name": "stdout",
     "output_type": "stream",
     "text": [
      "=============================================================\n",
      "epoch: 6, source_val_acc_label: 0.7814, target_val_acc_label: 0.6310, source_val_label_loss: 0.5968, target_val_label_loss: 1.2269, \n",
      "=============================================================\n"
     ]
    },
    {
     "name": "stdout",
     "output_type": "stream",
     "text": [
      "epoch: 7, [batch: 1 / 840], examples_per_second: 26.6762, train_label_loss: 0.1923, \n"
     ]
    },
    {
     "name": "stdout",
     "output_type": "stream",
     "text": [
      "epoch: 7, [batch: 84 / 840], examples_per_second: 3225.3370, train_label_loss: 0.1502, \n"
     ]
    },
    {
     "name": "stdout",
     "output_type": "stream",
     "text": [
      "epoch: 7, [batch: 168 / 840], examples_per_second: 3237.8774, train_label_loss: 0.3469, \n"
     ]
    },
    {
     "name": "stdout",
     "output_type": "stream",
     "text": [
      "epoch: 7, [batch: 252 / 840], examples_per_second: 3234.4620, train_label_loss: 0.2318, \n"
     ]
    },
    {
     "name": "stdout",
     "output_type": "stream",
     "text": [
      "epoch: 7, [batch: 336 / 840], examples_per_second: 3217.5027, train_label_loss: 0.4691, \n"
     ]
    },
    {
     "name": "stdout",
     "output_type": "stream",
     "text": [
      "epoch: 7, [batch: 420 / 840], examples_per_second: 3217.6261, train_label_loss: 0.6615, \n"
     ]
    },
    {
     "name": "stdout",
     "output_type": "stream",
     "text": [
      "epoch: 7, [batch: 504 / 840], examples_per_second: 3238.6479, train_label_loss: 0.3572, \n"
     ]
    },
    {
     "name": "stdout",
     "output_type": "stream",
     "text": [
      "epoch: 7, [batch: 588 / 840], examples_per_second: 3248.3520, train_label_loss: 0.1793, \n"
     ]
    },
    {
     "name": "stdout",
     "output_type": "stream",
     "text": [
      "epoch: 7, [batch: 672 / 840], examples_per_second: 3230.9186, train_label_loss: 0.2178, \n"
     ]
    },
    {
     "name": "stdout",
     "output_type": "stream",
     "text": [
      "epoch: 7, [batch: 756 / 840], examples_per_second: 3248.5965, train_label_loss: 0.3100, \n"
     ]
    },
    {
     "name": "stdout",
     "output_type": "stream",
     "text": [
      "=============================================================\n",
      "epoch: 7, source_val_acc_label: 0.7757, target_val_acc_label: 0.6338, source_val_label_loss: 0.6112, target_val_label_loss: 1.2673, \n",
      "=============================================================\n"
     ]
    },
    {
     "name": "stdout",
     "output_type": "stream",
     "text": [
      "epoch: 8, [batch: 1 / 840], examples_per_second: 26.1286, train_label_loss: 0.2183, \n"
     ]
    },
    {
     "name": "stdout",
     "output_type": "stream",
     "text": [
      "epoch: 8, [batch: 84 / 840], examples_per_second: 3239.8907, train_label_loss: 0.1942, \n"
     ]
    },
    {
     "name": "stdout",
     "output_type": "stream",
     "text": [
      "epoch: 8, [batch: 168 / 840], examples_per_second: 3218.0883, train_label_loss: 0.2797, \n"
     ]
    },
    {
     "name": "stdout",
     "output_type": "stream",
     "text": [
      "epoch: 8, [batch: 252 / 840], examples_per_second: 3232.5041, train_label_loss: 0.1231, \n"
     ]
    },
    {
     "name": "stdout",
     "output_type": "stream",
     "text": [
      "epoch: 8, [batch: 336 / 840], examples_per_second: 3251.5976, train_label_loss: 0.3930, \n"
     ]
    },
    {
     "name": "stdout",
     "output_type": "stream",
     "text": [
      "epoch: 8, [batch: 420 / 840], examples_per_second: 3234.8648, train_label_loss: 0.3336, \n"
     ]
    },
    {
     "name": "stdout",
     "output_type": "stream",
     "text": [
      "epoch: 8, [batch: 504 / 840], examples_per_second: 3245.1909, train_label_loss: 0.2324, \n"
     ]
    },
    {
     "name": "stdout",
     "output_type": "stream",
     "text": [
      "epoch: 8, [batch: 588 / 840], examples_per_second: 3268.7812, train_label_loss: 0.1659, \n"
     ]
    },
    {
     "name": "stdout",
     "output_type": "stream",
     "text": [
      "epoch: 8, [batch: 672 / 840], examples_per_second: 3250.5840, train_label_loss: 0.1341, \n"
     ]
    },
    {
     "name": "stdout",
     "output_type": "stream",
     "text": [
      "epoch: 8, [batch: 756 / 840], examples_per_second: 3243.7482, train_label_loss: 0.0687, \n"
     ]
    },
    {
     "name": "stdout",
     "output_type": "stream",
     "text": [
      "=============================================================\n",
      "epoch: 8, source_val_acc_label: 0.7953, target_val_acc_label: 0.6423, source_val_label_loss: 0.6186, target_val_label_loss: 1.6150, \n",
      "=============================================================\n"
     ]
    },
    {
     "name": "stdout",
     "output_type": "stream",
     "text": [
      "Patience (3) exhausted\n"
     ]
    }
   ],
   "source": [
    "###################################\n",
    "# train\n",
    "###################################\n",
    "jig = PTN_Train_Eval_Test_Jig(model, p.BEST_MODEL_PATH, p.device)\n",
    "\n",
    "jig.train(\n",
    "    train_iterable=datasets.source.processed.train,\n",
    "    source_val_iterable=datasets.source.processed.val,\n",
    "    target_val_iterable=datasets.target.processed.val,\n",
    "    num_epochs=p.n_epoch,\n",
    "    num_logs_per_epoch=p.NUM_LOGS_PER_EPOCH,\n",
    "    patience=p.patience,\n",
    "    optimizer=optimizer,\n",
    "    criteria_for_best=p.criteria_for_best,\n",
    ")"
   ]
  },
  {
   "cell_type": "code",
   "execution_count": 14,
   "id": "31e8fabf",
   "metadata": {
    "execution": {
     "iopub.execute_input": "2022-03-05T00:47:04.925277Z",
     "iopub.status.busy": "2022-03-05T00:47:04.924742Z",
     "iopub.status.idle": "2022-03-05T00:47:04.940561Z",
     "shell.execute_reply": "2022-03-05T00:47:04.940135Z"
    },
    "papermill": {
     "duration": 0.045183,
     "end_time": "2022-03-05T00:47:04.940674",
     "exception": false,
     "start_time": "2022-03-05T00:47:04.895491",
     "status": "completed"
    },
    "tags": []
   },
   "outputs": [],
   "source": [
    "total_experiment_time_secs = time.time() - start_time_secs"
   ]
  },
  {
   "cell_type": "code",
   "execution_count": 15,
   "id": "87b9595b",
   "metadata": {
    "execution": {
     "iopub.execute_input": "2022-03-05T00:47:05.002789Z",
     "iopub.status.busy": "2022-03-05T00:47:04.998440Z",
     "iopub.status.idle": "2022-03-05T00:47:27.127506Z",
     "shell.execute_reply": "2022-03-05T00:47:27.127902Z"
    },
    "papermill": {
     "duration": 22.157312,
     "end_time": "2022-03-05T00:47:27.128031",
     "exception": false,
     "start_time": "2022-03-05T00:47:04.970719",
     "status": "completed"
    },
    "tags": []
   },
   "outputs": [],
   "source": [
    "###################################\n",
    "# Evaluate the model\n",
    "###################################\n",
    "source_test_label_accuracy, source_test_label_loss = jig.test(datasets.source.processed.test)\n",
    "target_test_label_accuracy, target_test_label_loss = jig.test(datasets.target.processed.test)\n",
    "\n",
    "source_val_label_accuracy, source_val_label_loss = jig.test(datasets.source.processed.val)\n",
    "target_val_label_accuracy, target_val_label_loss = jig.test(datasets.target.processed.val)\n",
    "\n",
    "history = jig.get_history()\n",
    "\n",
    "total_epochs_trained = len(history[\"epoch_indices\"])\n",
    "\n",
    "val_dl = Iterable_Aggregator((datasets.source.original.val,datasets.target.original.val))\n",
    "\n",
    "confusion = ptn_confusion_by_domain_over_dataloader(model, p.device, val_dl)\n",
    "per_domain_accuracy = per_domain_accuracy_from_confusion(confusion)\n",
    "\n",
    "# Add a key to per_domain_accuracy for if it was a source domain\n",
    "for domain, accuracy in per_domain_accuracy.items():\n",
    "    per_domain_accuracy[domain] = {\n",
    "        \"accuracy\": accuracy,\n",
    "        \"source?\": domain in p.domains_source\n",
    "    }\n",
    "\n",
    "# Do an independent accuracy assesment JUST TO BE SURE!\n",
    "# _source_test_label_accuracy = independent_accuracy_assesment(model, datasets.source.processed.test, p.device)\n",
    "# _target_test_label_accuracy = independent_accuracy_assesment(model, datasets.target.processed.test, p.device)\n",
    "# _source_val_label_accuracy = independent_accuracy_assesment(model, datasets.source.processed.val, p.device)\n",
    "# _target_val_label_accuracy = independent_accuracy_assesment(model, datasets.target.processed.val, p.device)\n",
    "\n",
    "# assert(_source_test_label_accuracy == source_test_label_accuracy)\n",
    "# assert(_target_test_label_accuracy == target_test_label_accuracy)\n",
    "# assert(_source_val_label_accuracy == source_val_label_accuracy)\n",
    "# assert(_target_val_label_accuracy == target_val_label_accuracy)\n",
    "\n",
    "experiment = {\n",
    "    \"experiment_name\": p.experiment_name,\n",
    "    \"parameters\": dict(p),\n",
    "    \"results\": {\n",
    "        \"source_test_label_accuracy\": source_test_label_accuracy,\n",
    "        \"source_test_label_loss\": source_test_label_loss,\n",
    "        \"target_test_label_accuracy\": target_test_label_accuracy,\n",
    "        \"target_test_label_loss\": target_test_label_loss,\n",
    "        \"source_val_label_accuracy\": source_val_label_accuracy,\n",
    "        \"source_val_label_loss\": source_val_label_loss,\n",
    "        \"target_val_label_accuracy\": target_val_label_accuracy,\n",
    "        \"target_val_label_loss\": target_val_label_loss,\n",
    "        \"total_epochs_trained\": total_epochs_trained,\n",
    "        \"total_experiment_time_secs\": total_experiment_time_secs,\n",
    "        \"confusion\": confusion,\n",
    "        \"per_domain_accuracy\": per_domain_accuracy,\n",
    "    },\n",
    "    \"history\": history,\n",
    "    \"dataset_metrics\": get_dataset_metrics(datasets, \"ptn\"),\n",
    "}"
   ]
  },
  {
   "cell_type": "code",
   "execution_count": 16,
   "id": "54a21829",
   "metadata": {
    "execution": {
     "iopub.execute_input": "2022-03-05T00:47:27.187398Z",
     "iopub.status.busy": "2022-03-05T00:47:27.187137Z",
     "iopub.status.idle": "2022-03-05T00:47:27.371486Z",
     "shell.execute_reply": "2022-03-05T00:47:27.371858Z"
    },
    "papermill": {
     "duration": 0.213168,
     "end_time": "2022-03-05T00:47:27.371961",
     "exception": false,
     "start_time": "2022-03-05T00:47:27.158793",
     "status": "completed"
    },
    "tags": []
   },
   "outputs": [
    {
     "data": {
      "image/png": "[encoded data removed]",
      "text/plain": [
       "<Figure size 1080x504 with 1 Axes>"
      ]
     },
     "metadata": {
      "needs_background": "light"
     },
     "output_type": "display_data"
    }
   ],
   "source": [
    "ax = get_loss_curve(experiment)\n",
    "plt.show()"
   ]
  },
  {
   "cell_type": "code",
   "execution_count": 17,
   "id": "fd8a0f60",
   "metadata": {
    "execution": {
     "iopub.execute_input": "2022-03-05T00:47:27.435289Z",
     "iopub.status.busy": "2022-03-05T00:47:27.435034Z",
     "iopub.status.idle": "2022-03-05T00:47:27.690886Z",
     "shell.execute_reply": "2022-03-05T00:47:27.691111Z"
    },
    "papermill": {
     "duration": 0.286676,
     "end_time": "2022-03-05T00:47:27.691189",
     "exception": false,
     "start_time": "2022-03-05T00:47:27.404513",
     "status": "completed"
    },
    "tags": []
   },
   "outputs": [
    {
     "data": {
      "text/plain": [
       "<matplotlib.axes._subplots.AxesSubplot at 0x7f12f85383a0>"
      ]
     },
     "execution_count": 17,
     "metadata": {},
     "output_type": "execute_result"
    },
    {
     "data": {
      "image/png": "[encoded data removed]",
      "text/plain": [
       "<Figure size 1080x504 with 1 Axes>"
      ]
     },
     "metadata": {
      "needs_background": "light"
     },
     "output_type": "display_data"
    }
   ],
   "source": [
    "get_results_table(experiment)"
   ]
  },
  {
   "cell_type": "code",
   "execution_count": 18,
   "id": "cf8dc689",
   "metadata": {
    "execution": {
     "iopub.execute_input": "2022-03-05T00:47:27.755280Z",
     "iopub.status.busy": "2022-03-05T00:47:27.755020Z",
     "iopub.status.idle": "2022-03-05T00:47:27.929117Z",
     "shell.execute_reply": "2022-03-05T00:47:27.929531Z"
    },
    "papermill": {
     "duration": 0.205048,
     "end_time": "2022-03-05T00:47:27.929661",
     "exception": false,
     "start_time": "2022-03-05T00:47:27.724613",
     "status": "completed"
    },
    "tags": []
   },
   "outputs": [
    {
     "data": {
      "text/plain": [
       "<matplotlib.axes._subplots.AxesSubplot at 0x7f12f8c45f70>"
      ]
     },
     "execution_count": 18,
     "metadata": {},
     "output_type": "execute_result"
    },
    {
     "data": {
      "image/png": "[encoded data removed]",
      "text/plain": [
       "<Figure size 1080x504 with 1 Axes>"
      ]
     },
     "metadata": {
      "needs_background": "light"
     },
     "output_type": "display_data"
    }
   ],
   "source": [
    "get_domain_accuracies(experiment)"
   ]
  },
  {
   "cell_type": "code",
   "execution_count": 19,
   "id": "a74ae082",
   "metadata": {
    "execution": {
     "iopub.execute_input": "2022-03-05T00:47:27.996299Z",
     "iopub.status.busy": "2022-03-05T00:47:27.996043Z",
     "iopub.status.idle": "2022-03-05T00:47:28.010788Z",
     "shell.execute_reply": "2022-03-05T00:47:28.010343Z"
    },
    "papermill": {
     "duration": 0.046774,
     "end_time": "2022-03-05T00:47:28.010892",
     "exception": false,
     "start_time": "2022-03-05T00:47:27.964118",
     "status": "completed"
    },
    "tags": []
   },
   "outputs": [
    {
     "name": "stdout",
     "output_type": "stream",
     "text": [
      "Source Test Label Accuracy: 0.7670138888888889 Target Test Label Accuracy: 0.6188541666666667\n",
      "Source Val Label Accuracy: 0.7675347222222222 Target Val Label Accuracy: 0.6248958333333333\n"
     ]
    }
   ],
   "source": [
    "print(\"Source Test Label Accuracy:\", experiment[\"results\"][\"source_test_label_accuracy\"], \"Target Test Label Accuracy:\", experiment[\"results\"][\"target_test_label_accuracy\"])\n",
    "print(\"Source Val Label Accuracy:\", experiment[\"results\"][\"source_val_label_accuracy\"], \"Target Val Label Accuracy:\", experiment[\"results\"][\"target_val_label_accuracy\"])"
   ]
  },
  {
   "cell_type": "code",
   "execution_count": 20,
   "id": "dacca602",
   "metadata": {
    "execution": {
     "iopub.execute_input": "2022-03-05T00:47:28.074502Z",
     "iopub.status.busy": "2022-03-05T00:47:28.074244Z",
     "iopub.status.idle": "2022-03-05T00:47:28.089614Z",
     "shell.execute_reply": "2022-03-05T00:47:28.089111Z"
    },
    "papermill": {
     "duration": 0.046674,
     "end_time": "2022-03-05T00:47:28.089721",
     "exception": false,
     "start_time": "2022-03-05T00:47:28.043047",
     "status": "completed"
    },
    "tags": [
     "experiment_json"
    ]
   },
   "outputs": [
    {
     "data": {
      "text/plain": [
       "'{\"experiment_name\": \"trainKFactor_oracle.run2\", \"parameters\": {\"experiment_name\": \"trainKFactor_oracle.run2\", \"device\": \"cuda\", \"lr\": 0.001, \"seed\": 1337, \"dataset_seed\": 1337, \"labels_source\": [\"3123D52\", \"3123D65\", \"3123D79\", \"3123D80\", \"3123D54\", \"3123D70\", \"3123D7B\", \"3123D89\", \"3123D58\", \"3123D76\", \"3123D7D\", \"3123EFE\", \"3123D64\", \"3123D78\", \"3123D7E\", \"3124E4A\"], \"labels_target\": [\"3123D52\", \"3123D65\", \"3123D79\", \"3123D80\", \"3123D54\", \"3123D70\", \"3123D7B\", \"3123D89\", \"3123D58\", \"3123D76\", \"3123D7D\", \"3123EFE\", \"3123D64\", \"3123D78\", \"3123D7E\", \"3124E4A\"], \"x_transforms_source\": [], \"x_transforms_target\": [], \"episode_transforms_source\": [], \"episode_transforms_target\": [], \"num_examples_per_domain_per_label_source\": 1000, \"num_examples_per_domain_per_label_target\": 1000, \"n_shot\": 3, \"n_way\": 16, \"n_query\": 2, \"val_k_factor\": 2, \"test_k_factor\": 2, \"torch_default_dtype\": \"torch.float32\", \"n_epoch\": 50, \"patience\": 3, \"criteria_for_best\": \"target_loss\", \"x_net\": [{\"class\": \"nnReshape\", \"kargs\": {\"shape\": [-1, 1, 2, 256]}}, {\"class\": \"Conv2d\", \"kargs\": {\"in_channels\": 1, \"out_channels\": 256, \"kernel_size\": [1, 7], \"bias\": false, \"padding\": [0, 3]}}, {\"class\": \"ReLU\", \"kargs\": {\"inplace\": true}}, {\"class\": \"BatchNorm2d\", \"kargs\": {\"num_features\": 256}}, {\"class\": \"Conv2d\", \"kargs\": {\"in_channels\": 256, \"out_channels\": 80, \"kernel_size\": [2, 7], \"bias\": true, \"padding\": [0, 3]}}, {\"class\": \"ReLU\", \"kargs\": {\"inplace\": true}}, {\"class\": \"BatchNorm2d\", \"kargs\": {\"num_features\": 80}}, {\"class\": \"Flatten\", \"kargs\": {}}, {\"class\": \"Linear\", \"kargs\": {\"in_features\": 20480, \"out_features\": 256}}, {\"class\": \"ReLU\", \"kargs\": {\"inplace\": true}}, {\"class\": \"BatchNorm1d\", \"kargs\": {\"num_features\": 256}}, {\"class\": \"Linear\", \"kargs\": {\"in_features\": 256, \"out_features\": 256}}], \"NUM_LOGS_PER_EPOCH\": 10, \"BEST_MODEL_PATH\": \"./best_model.pth\", \"pickle_name\": \"oracle.Run2_10kExamples_stratified_ds.2022A.pkl\", \"train_k_factor\": 2, \"domains_source\": [8, 32, 50], \"domains_target\": [14, 20, 26, 38, 44]}, \"results\": {\"source_test_label_accuracy\": 0.7670138888888889, \"source_test_label_loss\": 0.6377285122871399, \"target_test_label_accuracy\": 0.6188541666666667, \"target_test_label_loss\": 1.166826844215393, \"source_val_label_accuracy\": 0.7675347222222222, \"source_val_label_loss\": 0.6261336803436279, \"target_val_label_accuracy\": 0.6248958333333333, \"target_val_label_loss\": 1.1361252069473267, \"total_epochs_trained\": 8, \"total_experiment_time_secs\": 203.89333510398865, \"confusion\": {\"8\": {\"15\": {\"15\": 106, \"12\": 8, \"2\": 6}, \"3\": {\"3\": 120}, \"6\": {\"14\": 30, \"6\": 59, \"8\": 22, \"11\": 3, \"4\": 6}, \"1\": {\"4\": 16, \"1\": 61, \"10\": 10, \"5\": 14, \"7\": 4, \"13\": 5, \"8\": 2, \"14\": 8}, \"8\": {\"11\": 16, \"8\": 69, \"4\": 5, \"6\": 29, \"7\": 1}, \"10\": {\"10\": 50, \"13\": 29, \"5\": 33, \"1\": 6, \"7\": 2}, \"9\": {\"9\": 120}, \"13\": {\"13\": 75, \"10\": 32, \"7\": 7, \"5\": 5, \"4\": 1}, \"12\": {\"12\": 107, \"15\": 6, \"2\": 7}, \"5\": {\"5\": 68, \"1\": 18, \"13\": 5, \"10\": 28, \"4\": 1}, \"0\": {\"0\": 120}, \"2\": {\"2\": 111, \"15\": 4, \"12\": 5}, \"11\": {\"8\": 34, \"11\": 61, \"13\": 1, \"7\": 9, \"6\": 12, \"4\": 3}, \"14\": {\"1\": 8, \"14\": 75, \"6\": 32, \"8\": 3, \"4\": 1, \"11\": 1}, \"7\": {\"4\": 32, \"7\": 67, \"1\": 13, \"13\": 6, \"10\": 2}, \"4\": {\"4\": 58, \"14\": 2, \"6\": 7, \"8\": 3, \"7\": 27, \"11\": 1, \"1\": 20, \"5\": 2}}, \"50\": {\"3\": {\"3\": 120}, \"15\": {\"15\": 99, \"4\": 3, \"12\": 4, \"6\": 8, \"9\": 6}, \"8\": {\"8\": 120}, \"4\": {\"4\": 84, \"6\": 3, \"15\": 6, \"5\": 22, \"7\": 5}, \"14\": {\"14\": 119, \"2\": 1}, \"0\": {\"2\": 18, \"0\": 94, \"10\": 8}, \"7\": {\"5\": 4, \"7\": 101, \"4\": 15}, \"6\": {\"6\": 86, \"15\": 10, \"5\": 20, \"4\": 4}, \"10\": {\"10\": 111, \"0\": 5, \"13\": 3, \"8\": 1}, \"5\": {\"4\": 30, \"5\": 60, \"7\": 19, \"6\": 11}, \"2\": {\"2\": 112, \"0\": 8}, \"12\": {\"11\": 13, \"12\": 92, \"15\": 10, \"9\": 5}, \"9\": {\"9\": 107, \"15\": 9, \"11\": 1, \"12\": 3}, \"1\": {\"1\": 111, \"13\": 7, \"11\": 2}, \"11\": {\"11\": 107, \"12\": 11, \"1\": 2}, \"13\": {\"13\": 115, \"8\": 4, \"1\": 1}}, \"32\": {\"5\": {\"5\": 104, \"15\": 10, \"7\": 1, \"2\": 2, \"14\": 3}, \"8\": {\"8\": 77, \"7\": 24, \"0\": 16, \"15\": 2, \"4\": 1}, \"11\": {\"13\": 26, \"11\": 51, \"4\": 38, \"0\": 2, \"3\": 2, \"7\": 1}, \"1\": {\"1\": 120}, \"10\": {\"10\": 120}, \"15\": {\"15\": 109, \"5\": 7, \"7\": 1, \"8\": 3}, \"3\": {\"3\": 108, \"13\": 10, \"11\": 1, \"4\": 1}, \"7\": {\"8\": 20, \"0\": 21, \"2\": 13, \"7\": 61, \"14\": 4, \"5\": 1}, \"4\": {\"4\": 84, \"11\": 29, \"3\": 3, \"0\": 3, \"14\": 1}, \"14\": {\"14\": 57, \"2\": 56, \"7\": 4, \"5\": 1, \"0\": 2}, \"9\": {\"9\": 119, \"12\": 1}, \"12\": {\"12\": 119, \"9\": 1}, \"6\": {\"6\": 120}, \"2\": {\"2\": 61, \"0\": 12, \"14\": 37, \"7\": 10}, \"0\": {\"0\": 65, \"2\": 11, \"7\": 21, \"4\": 7, \"14\": 7, \"8\": 7, \"11\": 2}, \"13\": {\"13\": 81, \"4\": 6, \"11\": 19, \"3\": 14}}, \"14\": {\"15\": {\"15\": 120}, \"3\": {\"3\": 107, \"7\": 6, \"2\": 2, \"6\": 4, \"14\": 1}, \"6\": {\"6\": 80, \"13\": 34, \"3\": 4, \"7\": 2}, \"1\": {\"1\": 120}, \"8\": {\"8\": 87, \"0\": 10, \"10\": 21, \"5\": 1, \"12\": 1}, \"10\": {\"0\": 24, \"3\": 6, \"8\": 42, \"10\": 38, \"5\": 5, \"12\": 1, \"4\": 2, \"14\": 2}, \"9\": {\"9\": 114, \"12\": 3, \"0\": 3}, \"13\": {\"13\": 73, \"6\": 44, \"7\": 2, \"3\": 1}, \"12\": {\"12\": 39, \"9\": 17, \"8\": 18, \"15\": 22, \"3\": 11, \"10\": 7, \"4\": 1, \"11\": 4, \"1\": 1}, \"5\": {\"14\": 32, \"2\": 12, \"5\": 66, \"4\": 4, \"10\": 3, \"0\": 1, \"7\": 2}, \"0\": {\"0\": 88, \"10\": 11, \"8\": 11, \"5\": 2, \"4\": 8}, \"2\": {\"7\": 29, \"3\": 7, \"5\": 25, \"2\": 27, \"14\": 27, \"8\": 1, \"0\": 1, \"4\": 2, \"10\": 1}, \"11\": {\"11\": 120}, \"14\": {\"2\": 32, \"14\": 45, \"5\": 25, \"7\": 11, \"10\": 4, \"3\": 2, \"0\": 1}, \"7\": {\"7\": 91, \"2\": 18, \"14\": 5, \"13\": 3, \"3\": 3}, \"4\": {\"4\": 100, \"10\": 1, \"0\": 14, \"5\": 4, \"14\": 1}}, \"20\": {\"3\": {\"2\": 16, \"3\": 29, \"12\": 2, \"7\": 17, \"4\": 19, \"15\": 10, \"9\": 16, \"5\": 10, \"6\": 1}, \"15\": {\"15\": 34, \"13\": 5, \"1\": 11, \"9\": 25, \"2\": 11, \"3\": 7, \"5\": 3, \"12\": 7, \"4\": 13, \"7\": 4}, \"8\": {\"8\": 58, \"14\": 34, \"11\": 23, \"1\": 1, \"0\": 4}, \"4\": {\"2\": 13, \"15\": 15, \"4\": 28, \"13\": 3, \"7\": 23, \"12\": 3, \"3\": 15, \"9\": 11, \"1\": 2, \"6\": 2, \"5\": 4, \"10\": 1}, \"14\": {\"14\": 61, \"8\": 42, \"5\": 4, \"11\": 9, \"2\": 1, \"1\": 2, \"7\": 1}, \"0\": {\"0\": 92, \"11\": 21, \"8\": 4, \"1\": 3}, \"7\": {\"15\": 4, \"10\": 9, \"7\": 52, \"4\": 15, \"12\": 4, \"3\": 15, \"9\": 5, \"1\": 1, \"5\": 5, \"2\": 5, \"6\": 5}, \"6\": {\"6\": 100, \"7\": 6, \"10\": 13, \"3\": 1}, \"10\": {\"6\": 23, \"10\": 66, \"13\": 3, \"7\": 13, \"3\": 1, \"12\": 11, \"9\": 1, \"4\": 2}, \"5\": {\"15\": 11, \"1\": 24, \"4\": 9, \"2\": 15, \"5\": 28, \"3\": 16, \"7\": 3, \"9\": 12, \"8\": 1, \"11\": 1}, \"2\": {\"5\": 24, \"15\": 15, \"4\": 13, \"2\": 20, \"3\": 18, \"7\": 6, \"9\": 15, \"1\": 8, \"13\": 1}, \"12\": {\"12\": 49, \"13\": 52, \"10\": 8, \"2\": 1, \"4\": 5, \"15\": 2, \"7\": 2, \"9\": 1}, \"9\": {\"15\": 20, \"9\": 30, \"1\": 3, \"2\": 15, \"4\": 13, \"5\": 15, \"3\": 14, \"7\": 6, \"12\": 3, \"13\": 1}, \"1\": {\"1\": 73, \"15\": 5, \"5\": 21, \"2\": 9, \"3\": 1, \"0\": 3, \"9\": 6, \"14\": 1, \"4\": 1}, \"11\": {\"11\": 57, \"8\": 35, \"0\": 14, \"14\": 14}, \"13\": {\"13\": 57, \"4\": 6, \"12\": 51, \"9\": 3, \"2\": 1, \"10\": 2}}, \"44\": {\"5\": {\"5\": 76, \"15\": 16, \"8\": 14, \"14\": 14}, \"8\": {\"8\": 85, \"15\": 6, \"0\": 17, \"5\": 12}, \"11\": {\"11\": 120}, \"1\": {\"1\": 106, \"2\": 13, \"12\": 1}, \"10\": {\"10\": 110, \"7\": 6, \"6\": 4}, \"15\": {\"15\": 85, \"5\": 24, \"4\": 1, \"0\": 3, \"8\": 4, \"14\": 3}, \"3\": {\"3\": 99, \"12\": 20, \"1\": 1}, \"7\": {\"7\": 74, \"9\": 36, \"10\": 6, \"6\": 4}, \"4\": {\"14\": 27, \"4\": 91, \"6\": 1, \"9\": 1}, \"14\": {\"14\": 87, \"4\": 21, \"15\": 1, \"5\": 10, \"8\": 1}, \"9\": {\"9\": 67, \"7\": 49, \"6\": 3, \"13\": 1}, \"12\": {\"12\": 94, \"3\": 26}, \"6\": {\"6\": 103, \"13\": 8, \"7\": 6, \"10\": 1, \"9\": 2}, \"2\": {\"2\": 92, \"1\": 28}, \"0\": {\"8\": 23, \"0\": 91, \"15\": 4, \"5\": 2}, \"13\": {\"13\": 115, \"6\": 2, \"4\": 3}}, \"38\": {\"14\": {\"2\": 43, \"14\": 60, \"13\": 2, \"4\": 4, \"7\": 7, \"5\": 3, \"8\": 1}, \"0\": {\"0\": 105, \"8\": 2, \"7\": 12, \"9\": 1}, \"13\": {\"10\": 20, \"13\": 79, \"3\": 14, \"4\": 7}, \"7\": {\"7\": 100, \"0\": 12, \"8\": 3, \"4\": 3, \"14\": 2}, \"9\": {\"9\": 107, \"5\": 12, \"0\": 1}, \"3\": {\"13\": 37, \"3\": 43, \"10\": 30, \"4\": 10}, \"11\": {\"11\": 120}, \"6\": {\"6\": 108, \"15\": 10, \"1\": 2}, \"8\": {\"8\": 97, \"5\": 14, \"12\": 4, \"0\": 2, \"7\": 2, \"9\": 1}, \"4\": {\"3\": 7, \"4\": 84, \"10\": 22, \"7\": 4, \"13\": 3}, \"5\": {\"5\": 30, \"7\": 1, \"8\": 36, \"9\": 11, \"12\": 42}, \"10\": {\"4\": 20, \"3\": 32, \"10\": 61, \"13\": 7}, \"1\": {\"1\": 92, \"15\": 27, \"6\": 1}, \"2\": {\"2\": 104, \"14\": 16}, \"15\": {\"15\": 54, \"1\": 36, \"6\": 26, \"9\": 2, \"12\": 1, \"5\": 1}, \"12\": {\"5\": 42, \"12\": 68, \"9\": 5, \"8\": 5}}, \"26\": {\"13\": {\"13\": 87, \"9\": 13, \"7\": 12, \"12\": 1, \"3\": 1, \"8\": 2, \"2\": 4}, \"2\": {\"2\": 39, \"8\": 28, \"7\": 20, \"9\": 19, \"15\": 9, \"13\": 2, \"0\": 2, \"3\": 1}, \"8\": {\"8\": 39, \"2\": 36, \"9\": 28, \"15\": 8, \"7\": 4, \"10\": 4, \"13\": 1}, \"9\": {\"8\": 34, \"2\": 14, \"7\": 14, \"9\": 39, \"15\": 2, \"13\": 14, \"10\": 1, \"12\": 1, \"0\": 1}, \"12\": {\"12\": 120}, \"4\": {\"4\": 113, \"13\": 3, \"3\": 4}, \"3\": {\"3\": 72, \"7\": 37, \"4\": 3, \"13\": 3, \"9\": 2, \"2\": 3}, \"15\": {\"15\": 61, \"0\": 35, \"2\": 6, \"9\": 3, \"14\": 5, \"10\": 6, \"8\": 4}, \"14\": {\"0\": 20, \"1\": 7, \"14\": 54, \"15\": 6, \"10\": 13, \"6\": 7, \"5\": 13}, \"10\": {\"8\": 10, \"6\": 10, \"10\": 24, \"1\": 8, \"0\": 20, \"15\": 14, \"13\": 1, \"5\": 7, \"2\": 9, \"9\": 5, \"14\": 12}, \"7\": {\"9\": 8, \"3\": 42, \"7\": 47, \"2\": 8, \"8\": 4, \"13\": 11}, \"11\": {\"11\": 120}, \"6\": {\"5\": 37, \"6\": 60, \"1\": 13, \"14\": 9, \"10\": 1}, \"1\": {\"1\": 96, \"6\": 5, \"5\": 16, \"14\": 3}, \"5\": {\"14\": 10, \"5\": 39, \"6\": 45, \"0\": 3, \"1\": 18, \"10\": 5}, \"0\": {\"0\": 33, \"15\": 30, \"14\": 19, \"10\": 25, \"8\": 8, \"5\": 1, \"2\": 3, \"6\": 1}}}, \"per_domain_accuracy\": {\"8\": {\"accuracy\": 0.6911458333333333, \"source?\": true}, \"50\": {\"accuracy\": 0.853125, \"source?\": true}, \"32\": {\"accuracy\": 0.7583333333333333, \"source?\": true}, \"14\": {\"accuracy\": 0.6848958333333334, \"source?\": false}, \"20\": {\"accuracy\": 0.434375, \"source?\": false}, \"44\": {\"accuracy\": 0.7786458333333334, \"source?\": false}, \"38\": {\"accuracy\": 0.6833333333333333, \"source?\": false}, \"26\": {\"accuracy\": 0.5432291666666667, \"source?\": false}}}, \"history\": {\"epoch_indices\": [1, 2, 3, 4, 5, 6, 7, 8], \"train_label_loss\": [1.207181275387605, 1.0629547620813051, 0.6268291630560443, 0.5074196516580525, 0.4360367856121489, 0.3846310365679009, 0.33057642448693514, 0.2903166165619734], \"source_val_label_loss\": [2.351123332977295, 0.7916125059127808, 0.6410608887672424, 0.6261336803436279, 0.5652085542678833, 0.5967601537704468, 0.611237108707428, 0.6186455488204956], \"target_val_label_loss\": [2.8413736820220947, 1.3610029220581055, 1.20286226272583, 1.1361252069473267, 1.2344495058059692, 1.2268924713134766, 1.2672743797302246, 1.6150065660476685], \"source_val_acc_label\": [0.48506944444444444, 0.7019097222222223, 0.7585069444444444, 0.7675347222222222, 0.7904513888888889, 0.7814236111111111, 0.7756944444444445, 0.7953125], \"target_val_acc_label\": [0.3909375, 0.5682291666666667, 0.6129166666666667, 0.6248958333333333, 0.6290625, 0.6310416666666666, 0.63375, 0.6422916666666667]}, \"dataset_metrics\": {\"source\": {\"train\": {\"n_unique_x\": 33600, \"n_unique_y\": 16, \"n_batch/episode\": 840}, \"val\": {\"n_unique_x\": 7200, \"n_unique_y\": 16, \"n_batch/episode\": 180}, \"test\": {\"n_unique_x\": 7200, \"n_unique_y\": 16, \"n_batch/episode\": 180}}, \"target\": {\"train\": {\"n_unique_x\": 56000, \"n_unique_y\": 16, \"n_batch/episode\": 1400}, \"val\": {\"n_unique_x\": 12000, \"n_unique_y\": 16, \"n_batch/episode\": 300}, \"test\": {\"n_unique_x\": 12000, \"n_unique_y\": 16, \"n_batch/episode\": 300}}}}'"
      ]
     },
     "execution_count": 20,
     "metadata": {},
     "output_type": "execute_result"
    }
   ],
   "source": [
    "json.dumps(experiment)"
   ]
  }
 ],
 "metadata": {
  "celltoolbar": "Tags",
  "kernelspec": {
   "display_name": "Python 3 (ipykernel)",
   "language": "python",
   "name": "python3"
  },
  "language_info": {
   "codemirror_mode": {
    "name": "ipython",
    "version": 3
   },
   "file_extension": ".py",
   "mimetype": "text/x-python",
   "name": "python",
   "nbconvert_exporter": "python",
   "pygments_lexer": "ipython3",
   "version": "3.8.10"
  },
  "papermill": {
   "default_parameters": {},
   "duration": 229.471464,
   "end_time": "2022-03-05T00:47:28.630634",
   "environment_variables": {},
   "exception": null,
   "input_path": "/mnt/wd500GB/CSC500/csc500-main/csc500-notebooks/templates/ptn_template.ipynb",
   "output_path": "trial.ipynb",
   "parameters": {
    "parameters": {
     "BEST_MODEL_PATH": "./best_model.pth",
     "NUM_LOGS_PER_EPOCH": 10,
     "criteria_for_best": "target_loss",
     "dataset_seed": 1337,
     "device": "cuda",
     "domains_source": [
      8,
      32,
      50
     ],
     "domains_target": [
      14,
      20,
      26,
      38,
      44
     ],
     "episode_transforms_source": [],
     "episode_transforms_target": [],
     "experiment_name": "trainKFactor_oracle.run2",
     "labels_source": [
      "3123D52",
      "3123D65",
      "3123D79",
      "3123D80",
      "3123D54",
      "3123D70",
      "3123D7B",
      "3123D89",
      "3123D58",
      "3123D76",
      "3123D7D",
      "3123EFE",
      "3123D64",
      "3123D78",
      "3123D7E",
      "3124E4A"
     ],
     "labels_target": [
      "3123D52",
      "3123D65",
      "3123D79",
      "3123D80",
      "3123D54",
      "3123D70",
      "3123D7B",
      "3123D89",
      "3123D58",
      "3123D76",
      "3123D7D",
      "3123EFE",
      "3123D64",
      "3123D78",
      "3123D7E",
      "3124E4A"
     ],
     "lr": 0.001,
     "n_epoch": 50,
     "n_query": 2,
     "n_shot": 3,
     "n_way": 16,
     "num_examples_per_domain_per_label_source": 1000,
     "num_examples_per_domain_per_label_target": 1000,
     "patience": 3,
     "pickle_name": "oracle.Run2_10kExamples_stratified_ds.2022A.pkl",
     "seed": 1337,
     "test_k_factor": 2,
     "torch_default_dtype": "torch.float32",
     "train_k_factor": 2,
     "val_k_factor": 2,
     "x_net": [
      {
       "class": "nnReshape",
       "kargs": {
        "shape": [
         -1,
         1,
         2,
         256
        ]
       }
      },
      {
       "class": "Conv2d",
       "kargs": {
        "bias": false,
        "in_channels": 1,
        "kernel_size": [
         1,
         7
        ],
        "out_channels": 256,
        "padding": [
         0,
         3
        ]
       }
      },
      {
       "class": "ReLU",
       "kargs": {
        "inplace": true
       }
      },
      {
       "class": "BatchNorm2d",
       "kargs": {
        "num_features": 256
       }
      },
      {
       "class": "Conv2d",
       "kargs": {
        "bias": true,
        "in_channels": 256,
        "kernel_size": [
         2,
         7
        ],
        "out_channels": 80,
        "padding": [
         0,
         3
        ]
       }
      },
      {
       "class": "ReLU",
       "kargs": {
        "inplace": true
       }
      },
      {
       "class": "BatchNorm2d",
       "kargs": {
        "num_features": 80
       }
      },
      {
       "class": "Flatten",
       "kargs": {}
      },
      {
       "class": "Linear",
       "kargs": {
        "in_features": 20480,
        "out_features": 256
       }
      },
      {
       "class": "ReLU",
       "kargs": {
        "inplace": true
       }
      },
      {
       "class": "BatchNorm1d",
       "kargs": {
        "num_features": 256
       }
      },
      {
       "class": "Linear",
       "kargs": {
        "in_features": 256,
        "out_features": 256
       }
      }
     ],
     "x_transforms_source": [],
     "x_transforms_target": []
    }
   },
   "start_time": "2022-03-05T00:43:39.159170",
   "version": "2.3.4"
  }
 },
 "nbformat": 4,
 "nbformat_minor": 5
}