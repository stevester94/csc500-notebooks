{
 "cells": [
  {
   "cell_type": "markdown",
   "id": "9fea5f46",
   "metadata": {
    "papermill": {
     "duration": 0.012092,
     "end_time": "2022-03-05T01:01:58.306267",
     "exception": false,
     "start_time": "2022-03-05T01:01:58.294175",
     "status": "completed"
    },
    "tags": []
   },
   "source": [
    "# PTN Template\n",
    "This notebook serves as a template for single dataset PTN experiments  \n",
    "It can be run on its own by setting STANDALONE to True (do a find for \"STANDALONE\" to see where)  \n",
    "But it is intended to be executed as part of a *papermill.py script. See any of the   \n",
    "experimentes with a papermill script to get started with that workflow.  "
   ]
  },
  {
   "cell_type": "code",
   "execution_count": 1,
   "id": "0902182a",
   "metadata": {
    "execution": {
     "iopub.execute_input": "2022-03-05T01:01:58.338407Z",
     "iopub.status.busy": "2022-03-05T01:01:58.338144Z",
     "iopub.status.idle": "2022-03-05T01:01:59.094764Z",
     "shell.execute_reply": "2022-03-05T01:01:59.094187Z"
    },
    "papermill": {
     "duration": 0.779482,
     "end_time": "2022-03-05T01:01:59.094880",
     "exception": false,
     "start_time": "2022-03-05T01:01:58.315398",
     "status": "completed"
    },
    "tags": []
   },
   "outputs": [],
   "source": [
    "%load_ext autoreload\n",
    "%autoreload 2\n",
    "%matplotlib inline\n",
    "\n",
    "    \n",
    "import os, json, sys, time, random\n",
    "import numpy as np\n",
    "import torch\n",
    "from torch.optim import Adam\n",
    "from  easydict import EasyDict\n",
    "import matplotlib.pyplot as plt\n",
    "\n",
    "from steves_models.steves_ptn import Steves_Prototypical_Network\n",
    "\n",
    "from steves_utils.lazy_iterable_wrapper import Lazy_Iterable_Wrapper\n",
    "from steves_utils.iterable_aggregator import Iterable_Aggregator\n",
    "from steves_utils.ptn_train_eval_test_jig import  PTN_Train_Eval_Test_Jig\n",
    "from steves_utils.torch_sequential_builder import build_sequential\n",
    "from steves_utils.torch_utils import get_dataset_metrics, ptn_confusion_by_domain_over_dataloader\n",
    "from steves_utils.utils_v2 import (per_domain_accuracy_from_confusion, get_datasets_base_path)\n",
    "from steves_utils.PTN.utils import independent_accuracy_assesment\n",
    "\n",
    "from steves_utils.stratified_dataset.episodic_accessor import Episodic_Accessor_Factory\n",
    "\n",
    "from steves_utils.ptn_do_report import (\n",
    "    get_loss_curve,\n",
    "    get_results_table,\n",
    "    get_parameters_table,\n",
    "    get_domain_accuracies,\n",
    ")\n",
    "\n",
    "from steves_utils.transforms import get_chained_transform"
   ]
  },
  {
   "cell_type": "markdown",
   "id": "41c840b4",
   "metadata": {
    "papermill": {
     "duration": 0.009161,
     "end_time": "2022-03-05T01:01:59.120232",
     "exception": false,
     "start_time": "2022-03-05T01:01:59.111071",
     "status": "completed"
    },
    "tags": []
   },
   "source": [
    "# Required Parameters\n",
    "These are allowed parameters, not defaults\n",
    "Each of these values need to be present in the injected parameters (the notebook will raise an exception if they are not present)\n",
    "\n",
    "Papermill uses the cell tag \"parameters\" to inject the real parameters below this cell.\n",
    "Enable tags to see what I mean"
   ]
  },
  {
   "cell_type": "code",
   "execution_count": 2,
   "id": "fd44eb83",
   "metadata": {
    "execution": {
     "iopub.execute_input": "2022-03-05T01:01:59.142940Z",
     "iopub.status.busy": "2022-03-05T01:01:59.142249Z",
     "iopub.status.idle": "2022-03-05T01:01:59.156730Z",
     "shell.execute_reply": "2022-03-05T01:01:59.156309Z"
    },
    "papermill": {
     "duration": 0.027488,
     "end_time": "2022-03-05T01:01:59.156831",
     "exception": false,
     "start_time": "2022-03-05T01:01:59.129343",
     "status": "completed"
    },
    "tags": []
   },
   "outputs": [],
   "source": [
    "required_parameters = {\n",
    "    \"experiment_name\",\n",
    "    \"lr\",\n",
    "    \"device\",\n",
    "    \"seed\",\n",
    "    \"dataset_seed\",\n",
    "    \"labels_source\",\n",
    "    \"labels_target\",\n",
    "    \"domains_source\",\n",
    "    \"domains_target\",\n",
    "    \"num_examples_per_domain_per_label_source\",\n",
    "    \"num_examples_per_domain_per_label_target\",\n",
    "    \"n_shot\",\n",
    "    \"n_way\",\n",
    "    \"n_query\",\n",
    "    \"train_k_factor\",\n",
    "    \"val_k_factor\",\n",
    "    \"test_k_factor\",\n",
    "    \"n_epoch\",\n",
    "    \"patience\",\n",
    "    \"criteria_for_best\",\n",
    "    \"x_transforms_source\",\n",
    "    \"x_transforms_target\",\n",
    "    \"episode_transforms_source\",\n",
    "    \"episode_transforms_target\",\n",
    "    \"pickle_name\",\n",
    "    \"x_net\",\n",
    "    \"NUM_LOGS_PER_EPOCH\",\n",
    "    \"BEST_MODEL_PATH\",\n",
    "    \"torch_default_dtype\"\n",
    "}"
   ]
  },
  {
   "cell_type": "code",
   "execution_count": 3,
   "id": "fa3f0049",
   "metadata": {
    "execution": {
     "iopub.execute_input": "2022-03-05T01:01:59.190304Z",
     "iopub.status.busy": "2022-03-05T01:01:59.190013Z",
     "iopub.status.idle": "2022-03-05T01:01:59.201828Z",
     "shell.execute_reply": "2022-03-05T01:01:59.201421Z"
    },
    "papermill": {
     "duration": 0.031,
     "end_time": "2022-03-05T01:01:59.201935",
     "exception": false,
     "start_time": "2022-03-05T01:01:59.170935",
     "status": "completed"
    },
    "tags": [
     "parameters"
    ]
   },
   "outputs": [],
   "source": [
    "\n",
    "\n",
    "standalone_parameters = {}\n",
    "standalone_parameters[\"experiment_name\"] = \"STANDALONE PTN\"\n",
    "standalone_parameters[\"lr\"] = 0.0001\n",
    "standalone_parameters[\"device\"] = \"cuda\"\n",
    "\n",
    "standalone_parameters[\"seed\"] = 1337\n",
    "standalone_parameters[\"dataset_seed\"] = 1337\n",
    "\n",
    "\n",
    "standalone_parameters[\"num_examples_per_domain_per_label_source\"]=100\n",
    "standalone_parameters[\"num_examples_per_domain_per_label_target\"]=100\n",
    "\n",
    "standalone_parameters[\"n_shot\"] = 3\n",
    "standalone_parameters[\"n_query\"]  = 2\n",
    "standalone_parameters[\"train_k_factor\"] = 1\n",
    "standalone_parameters[\"val_k_factor\"] = 2\n",
    "standalone_parameters[\"test_k_factor\"] = 2\n",
    "\n",
    "\n",
    "standalone_parameters[\"n_epoch\"] = 100\n",
    "\n",
    "standalone_parameters[\"patience\"] = 10\n",
    "standalone_parameters[\"criteria_for_best\"] = \"target_accuracy\"\n",
    "\n",
    "standalone_parameters[\"x_transforms_source\"] = [\"unit_power\"]\n",
    "standalone_parameters[\"x_transforms_target\"] = [\"unit_power\"]\n",
    "standalone_parameters[\"episode_transforms_source\"] = []\n",
    "standalone_parameters[\"episode_transforms_target\"] = []\n",
    "\n",
    "standalone_parameters[\"torch_default_dtype\"] = \"torch.float32\" \n",
    "\n",
    "\n",
    "\n",
    "standalone_parameters[\"x_net\"] =     [\n",
    "    {\"class\": \"nnReshape\", \"kargs\": {\"shape\":[-1, 1, 2, 256]}},\n",
    "    {\"class\": \"Conv2d\", \"kargs\": { \"in_channels\":1, \"out_channels\":256, \"kernel_size\":(1,7), \"bias\":False, \"padding\":(0,3), },},\n",
    "    {\"class\": \"ReLU\", \"kargs\": {\"inplace\": True}},\n",
    "    {\"class\": \"BatchNorm2d\", \"kargs\": {\"num_features\":256}},\n",
    "\n",
    "    {\"class\": \"Conv2d\", \"kargs\": { \"in_channels\":256, \"out_channels\":80, \"kernel_size\":(2,7), \"bias\":True, \"padding\":(0,3), },},\n",
    "    {\"class\": \"ReLU\", \"kargs\": {\"inplace\": True}},\n",
    "    {\"class\": \"BatchNorm2d\", \"kargs\": {\"num_features\":80}},\n",
    "    {\"class\": \"Flatten\", \"kargs\": {}},\n",
    "\n",
    "    {\"class\": \"Linear\", \"kargs\": {\"in_features\": 80*256, \"out_features\": 256}}, # 80 units per IQ pair\n",
    "    {\"class\": \"ReLU\", \"kargs\": {\"inplace\": True}},\n",
    "    {\"class\": \"BatchNorm1d\", \"kargs\": {\"num_features\":256}},\n",
    "\n",
    "    {\"class\": \"Linear\", \"kargs\": {\"in_features\": 256, \"out_features\": 256}},\n",
    "]\n",
    "\n",
    "# Parameters relevant to results\n",
    "# These parameters will basically never need to change\n",
    "standalone_parameters[\"NUM_LOGS_PER_EPOCH\"] = 10\n",
    "standalone_parameters[\"BEST_MODEL_PATH\"] = \"./best_model.pth\"\n",
    "\n",
    "# uncomment for CORES dataset\n",
    "from steves_utils.CORES.utils import (\n",
    "    ALL_NODES,\n",
    "    ALL_NODES_MINIMUM_1000_EXAMPLES,\n",
    "    ALL_DAYS\n",
    ")\n",
    "\n",
    "\n",
    "standalone_parameters[\"labels_source\"] = ALL_NODES\n",
    "standalone_parameters[\"labels_target\"] = ALL_NODES\n",
    "\n",
    "standalone_parameters[\"domains_source\"] = [1]\n",
    "standalone_parameters[\"domains_target\"] = [2,3,4,5]\n",
    "\n",
    "standalone_parameters[\"pickle_name\"] = \"cores.stratified_ds.2022A.pkl\"\n",
    "\n",
    "\n",
    "# Uncomment these for ORACLE dataset\n",
    "# from steves_utils.ORACLE.utils_v2 import (\n",
    "#     ALL_DISTANCES_FEET,\n",
    "#     ALL_RUNS,\n",
    "#     ALL_SERIAL_NUMBERS,\n",
    "# )\n",
    "# standalone_parameters[\"labels_source\"] = ALL_SERIAL_NUMBERS\n",
    "# standalone_parameters[\"labels_target\"] = ALL_SERIAL_NUMBERS\n",
    "# standalone_parameters[\"domains_source\"] = [8,20, 38,50]\n",
    "# standalone_parameters[\"domains_target\"] = [14, 26, 32, 44, 56]\n",
    "# standalone_parameters[\"pickle_name\"] = \"oracle.frame_indexed.stratified_ds.2022A.pkl\"\n",
    "# standalone_parameters[\"num_examples_per_domain_per_label_source\"]=1000\n",
    "# standalone_parameters[\"num_examples_per_domain_per_label_target\"]=1000\n",
    "\n",
    "# Uncomment these for Metahan dataset\n",
    "# standalone_parameters[\"labels_source\"] = list(range(19))\n",
    "# standalone_parameters[\"labels_target\"] = list(range(19))\n",
    "# standalone_parameters[\"domains_source\"] = [0]\n",
    "# standalone_parameters[\"domains_target\"] = [1]\n",
    "# standalone_parameters[\"pickle_name\"] = \"metehan.stratified_ds.2022A.pkl\"\n",
    "# standalone_parameters[\"n_way\"]  = len(standalone_parameters[\"labels_source\"])\n",
    "# standalone_parameters[\"num_examples_per_domain_per_label_source\"]=200\n",
    "# standalone_parameters[\"num_examples_per_domain_per_label_target\"]=100\n",
    "\n",
    "\n",
    "standalone_parameters[\"n_way\"]  = len(standalone_parameters[\"labels_source\"])"
   ]
  },
  {
   "cell_type": "code",
   "execution_count": 4,
   "id": "f4f9c8ca",
   "metadata": {
    "execution": {
     "iopub.execute_input": "2022-03-05T01:01:59.230533Z",
     "iopub.status.busy": "2022-03-05T01:01:59.230245Z",
     "iopub.status.idle": "2022-03-05T01:01:59.240754Z",
     "shell.execute_reply": "2022-03-05T01:01:59.240382Z"
    },
    "papermill": {
     "duration": 0.02472,
     "end_time": "2022-03-05T01:01:59.240832",
     "exception": false,
     "start_time": "2022-03-05T01:01:59.216112",
     "status": "completed"
    },
    "tags": [
     "injected-parameters"
    ]
   },
   "outputs": [],
   "source": [
    "# Parameters\n",
    "parameters = {\n",
    "    \"experiment_name\": \"trainKFactor_oracle.run2\",\n",
    "    \"device\": \"cuda\",\n",
    "    \"lr\": 0.001,\n",
    "    \"seed\": 1337,\n",
    "    \"dataset_seed\": 1337,\n",
    "    \"labels_source\": [\n",
    "        \"3123D52\",\n",
    "        \"3123D65\",\n",
    "        \"3123D79\",\n",
    "        \"3123D80\",\n",
    "        \"3123D54\",\n",
    "        \"3123D70\",\n",
    "        \"3123D7B\",\n",
    "        \"3123D89\",\n",
    "        \"3123D58\",\n",
    "        \"3123D76\",\n",
    "        \"3123D7D\",\n",
    "        \"3123EFE\",\n",
    "        \"3123D64\",\n",
    "        \"3123D78\",\n",
    "        \"3123D7E\",\n",
    "        \"3124E4A\",\n",
    "    ],\n",
    "    \"labels_target\": [\n",
    "        \"3123D52\",\n",
    "        \"3123D65\",\n",
    "        \"3123D79\",\n",
    "        \"3123D80\",\n",
    "        \"3123D54\",\n",
    "        \"3123D70\",\n",
    "        \"3123D7B\",\n",
    "        \"3123D89\",\n",
    "        \"3123D58\",\n",
    "        \"3123D76\",\n",
    "        \"3123D7D\",\n",
    "        \"3123EFE\",\n",
    "        \"3123D64\",\n",
    "        \"3123D78\",\n",
    "        \"3123D7E\",\n",
    "        \"3124E4A\",\n",
    "    ],\n",
    "    \"x_transforms_source\": [],\n",
    "    \"x_transforms_target\": [],\n",
    "    \"episode_transforms_source\": [],\n",
    "    \"episode_transforms_target\": [],\n",
    "    \"num_examples_per_domain_per_label_source\": 1000,\n",
    "    \"num_examples_per_domain_per_label_target\": 1000,\n",
    "    \"n_shot\": 3,\n",
    "    \"n_way\": 16,\n",
    "    \"n_query\": 2,\n",
    "    \"val_k_factor\": 2,\n",
    "    \"test_k_factor\": 2,\n",
    "    \"torch_default_dtype\": \"torch.float32\",\n",
    "    \"n_epoch\": 50,\n",
    "    \"patience\": 3,\n",
    "    \"criteria_for_best\": \"target_loss\",\n",
    "    \"x_net\": [\n",
    "        {\"class\": \"nnReshape\", \"kargs\": {\"shape\": [-1, 1, 2, 256]}},\n",
    "        {\n",
    "            \"class\": \"Conv2d\",\n",
    "            \"kargs\": {\n",
    "                \"in_channels\": 1,\n",
    "                \"out_channels\": 256,\n",
    "                \"kernel_size\": [1, 7],\n",
    "                \"bias\": False,\n",
    "                \"padding\": [0, 3],\n",
    "            },\n",
    "        },\n",
    "        {\"class\": \"ReLU\", \"kargs\": {\"inplace\": True}},\n",
    "        {\"class\": \"BatchNorm2d\", \"kargs\": {\"num_features\": 256}},\n",
    "        {\n",
    "            \"class\": \"Conv2d\",\n",
    "            \"kargs\": {\n",
    "                \"in_channels\": 256,\n",
    "                \"out_channels\": 80,\n",
    "                \"kernel_size\": [2, 7],\n",
    "                \"bias\": True,\n",
    "                \"padding\": [0, 3],\n",
    "            },\n",
    "        },\n",
    "        {\"class\": \"ReLU\", \"kargs\": {\"inplace\": True}},\n",
    "        {\"class\": \"BatchNorm2d\", \"kargs\": {\"num_features\": 80}},\n",
    "        {\"class\": \"Flatten\", \"kargs\": {}},\n",
    "        {\"class\": \"Linear\", \"kargs\": {\"in_features\": 20480, \"out_features\": 256}},\n",
    "        {\"class\": \"ReLU\", \"kargs\": {\"inplace\": True}},\n",
    "        {\"class\": \"BatchNorm1d\", \"kargs\": {\"num_features\": 256}},\n",
    "        {\"class\": \"Linear\", \"kargs\": {\"in_features\": 256, \"out_features\": 256}},\n",
    "    ],\n",
    "    \"NUM_LOGS_PER_EPOCH\": 10,\n",
    "    \"BEST_MODEL_PATH\": \"./best_model.pth\",\n",
    "    \"pickle_name\": \"oracle.Run2_10kExamples_stratified_ds.2022A.pkl\",\n",
    "    \"train_k_factor\": 5,\n",
    "    \"domains_source\": [8, 32, 50],\n",
    "    \"domains_target\": [14, 20, 26, 38, 44],\n",
    "}\n"
   ]
  },
  {
   "cell_type": "code",
   "execution_count": 5,
   "id": "8fa1cc33",
   "metadata": {
    "execution": {
     "iopub.execute_input": "2022-03-05T01:01:59.268886Z",
     "iopub.status.busy": "2022-03-05T01:01:59.268625Z",
     "iopub.status.idle": "2022-03-05T01:01:59.281668Z",
     "shell.execute_reply": "2022-03-05T01:01:59.281301Z"
    },
    "papermill": {
     "duration": 0.026604,
     "end_time": "2022-03-05T01:01:59.281744",
     "exception": false,
     "start_time": "2022-03-05T01:01:59.255140",
     "status": "completed"
    },
    "tags": []
   },
   "outputs": [],
   "source": [
    "# Set this to True if you want to run this template directly\n",
    "STANDALONE = False\n",
    "if STANDALONE:\n",
    "    print(\"parameters not injected, running with standalone_parameters\")\n",
    "    parameters = standalone_parameters\n",
    "\n",
    "if not 'parameters' in locals() and not 'parameters' in globals():\n",
    "    raise Exception(\"Parameter injection failed\")\n",
    "\n",
    "#Use an easy dict for all the parameters\n",
    "p = EasyDict(parameters)\n",
    "\n",
    "supplied_keys = set(p.keys())\n",
    "\n",
    "if  supplied_keys != required_parameters:\n",
    "    print(\"Parameters are incorrect\")\n",
    "    if len(supplied_keys - required_parameters)>0: print(\"Shouldn't have:\", str(supplied_keys - required_parameters))\n",
    "    if len(required_parameters - supplied_keys)>0: print(\"Need to have:\", str(required_parameters - supplied_keys))\n",
    "    raise RuntimeError(\"Parameters are incorrect\")\n",
    "\n"
   ]
  },
  {
   "cell_type": "code",
   "execution_count": 6,
   "id": "3a028d58",
   "metadata": {
    "execution": {
     "iopub.execute_input": "2022-03-05T01:01:59.307811Z",
     "iopub.status.busy": "2022-03-05T01:01:59.307552Z",
     "iopub.status.idle": "2022-03-05T01:01:59.317241Z",
     "shell.execute_reply": "2022-03-05T01:01:59.316809Z"
    },
    "papermill": {
     "duration": 0.020977,
     "end_time": "2022-03-05T01:01:59.317338",
     "exception": false,
     "start_time": "2022-03-05T01:01:59.296361",
     "status": "completed"
    },
    "tags": []
   },
   "outputs": [],
   "source": [
    "###################################\n",
    "# Set the RNGs and make it all deterministic\n",
    "###################################\n",
    "np.random.seed(p.seed)\n",
    "random.seed(p.seed)\n",
    "torch.manual_seed(p.seed)\n",
    "\n",
    "torch.use_deterministic_algorithms(True) "
   ]
  },
  {
   "cell_type": "code",
   "execution_count": 7,
   "id": "b691acf6",
   "metadata": {
    "execution": {
     "iopub.execute_input": "2022-03-05T01:01:59.343404Z",
     "iopub.status.busy": "2022-03-05T01:01:59.343154Z",
     "iopub.status.idle": "2022-03-05T01:01:59.356400Z",
     "shell.execute_reply": "2022-03-05T01:01:59.356039Z"
    },
    "papermill": {
     "duration": 0.024603,
     "end_time": "2022-03-05T01:01:59.356475",
     "exception": false,
     "start_time": "2022-03-05T01:01:59.331872",
     "status": "completed"
    },
    "tags": []
   },
   "outputs": [],
   "source": [
    "###########################################\n",
    "# The stratified datasets honor this\n",
    "###########################################\n",
    "torch.set_default_dtype(eval(p.torch_default_dtype))"
   ]
  },
  {
   "cell_type": "code",
   "execution_count": 8,
   "id": "b5fba671",
   "metadata": {
    "execution": {
     "iopub.execute_input": "2022-03-05T01:01:59.382729Z",
     "iopub.status.busy": "2022-03-05T01:01:59.382453Z",
     "iopub.status.idle": "2022-03-05T01:01:59.417845Z",
     "shell.execute_reply": "2022-03-05T01:01:59.417385Z"
    },
    "papermill": {
     "duration": 0.046772,
     "end_time": "2022-03-05T01:01:59.417954",
     "exception": false,
     "start_time": "2022-03-05T01:01:59.371182",
     "status": "completed"
    },
    "tags": []
   },
   "outputs": [],
   "source": [
    "###################################\n",
    "# Build the network(s)\n",
    "# Note: It's critical to do this AFTER setting the RNG\n",
    "# (This is due to the randomized initial weights)\n",
    "###################################\n",
    "x_net = build_sequential(p.x_net)"
   ]
  },
  {
   "cell_type": "code",
   "execution_count": 9,
   "id": "5d7e61cc",
   "metadata": {
    "execution": {
     "iopub.execute_input": "2022-03-05T01:01:59.446655Z",
     "iopub.status.busy": "2022-03-05T01:01:59.446389Z",
     "iopub.status.idle": "2022-03-05T01:01:59.460036Z",
     "shell.execute_reply": "2022-03-05T01:01:59.459646Z"
    },
    "papermill": {
     "duration": 0.025516,
     "end_time": "2022-03-05T01:01:59.460135",
     "exception": false,
     "start_time": "2022-03-05T01:01:59.434619",
     "status": "completed"
    },
    "tags": []
   },
   "outputs": [],
   "source": [
    "start_time_secs = time.time()"
   ]
  },
  {
   "cell_type": "code",
   "execution_count": 10,
   "id": "fd5442bc",
   "metadata": {
    "execution": {
     "iopub.execute_input": "2022-03-05T01:01:59.492949Z",
     "iopub.status.busy": "2022-03-05T01:01:59.492561Z",
     "iopub.status.idle": "2022-03-05T01:02:02.797862Z",
     "shell.execute_reply": "2022-03-05T01:02:02.797413Z"
    },
    "papermill": {
     "duration": 3.323039,
     "end_time": "2022-03-05T01:02:02.797962",
     "exception": false,
     "start_time": "2022-03-05T01:01:59.474923",
     "status": "completed"
    },
    "tags": []
   },
   "outputs": [],
   "source": [
    "###################################\n",
    "# Build the dataset\n",
    "###################################\n",
    "\n",
    "if p.x_transforms_source == []: x_transform_source = None\n",
    "else: x_transform_source = get_chained_transform(p.x_transforms_source) \n",
    "\n",
    "if p.x_transforms_target == []: x_transform_target = None\n",
    "else: x_transform_target = get_chained_transform(p.x_transforms_target)\n",
    "\n",
    "if p.episode_transforms_source == []: episode_transform_source = None\n",
    "else: raise Exception(\"episode_transform_source not implemented\")\n",
    "\n",
    "if p.episode_transforms_target == []: episode_transform_target = None\n",
    "else: raise Exception(\"episode_transform_target not implemented\")\n",
    "\n",
    "\n",
    "eaf_source = Episodic_Accessor_Factory(\n",
    "    labels=p.labels_source,\n",
    "    domains=p.domains_source,\n",
    "    num_examples_per_domain_per_label=p.num_examples_per_domain_per_label_source,\n",
    "    iterator_seed=p.seed,\n",
    "    dataset_seed=p.dataset_seed,\n",
    "    n_shot=p.n_shot,\n",
    "    n_way=p.n_way,\n",
    "    n_query=p.n_query,\n",
    "    train_val_test_k_factors=(p.train_k_factor,p.val_k_factor,p.test_k_factor),\n",
    "    pickle_path=os.path.join(get_datasets_base_path(), p.pickle_name),\n",
    "    x_transform_func=x_transform_source,\n",
    "    example_transform_func=episode_transform_source,\n",
    "    \n",
    ")\n",
    "train_original_source, val_original_source, test_original_source = eaf_source.get_train(), eaf_source.get_val(), eaf_source.get_test()\n",
    "\n",
    "\n",
    "eaf_target = Episodic_Accessor_Factory(\n",
    "    labels=p.labels_target,\n",
    "    domains=p.domains_target,\n",
    "    num_examples_per_domain_per_label=p.num_examples_per_domain_per_label_target,\n",
    "    iterator_seed=p.seed,\n",
    "    dataset_seed=p.dataset_seed,\n",
    "    n_shot=p.n_shot,\n",
    "    n_way=p.n_way,\n",
    "    n_query=p.n_query,\n",
    "    train_val_test_k_factors=(p.train_k_factor,p.val_k_factor,p.test_k_factor),\n",
    "    pickle_path=os.path.join(get_datasets_base_path(), p.pickle_name),\n",
    "    x_transform_func=x_transform_target,\n",
    "    example_transform_func=episode_transform_target,\n",
    ")\n",
    "train_original_target, val_original_target, test_original_target = eaf_target.get_train(), eaf_target.get_val(), eaf_target.get_test()\n",
    "\n",
    "\n",
    "transform_lambda = lambda ex: ex[1] # Original is (<domain>, <episode>) so we strip down to episode only\n",
    "\n",
    "train_processed_source = Lazy_Iterable_Wrapper(train_original_source, transform_lambda)\n",
    "val_processed_source   = Lazy_Iterable_Wrapper(val_original_source, transform_lambda)\n",
    "test_processed_source  = Lazy_Iterable_Wrapper(test_original_source, transform_lambda)\n",
    "\n",
    "train_processed_target = Lazy_Iterable_Wrapper(train_original_target, transform_lambda)\n",
    "val_processed_target   = Lazy_Iterable_Wrapper(val_original_target, transform_lambda)\n",
    "test_processed_target  = Lazy_Iterable_Wrapper(test_original_target, transform_lambda)\n",
    "\n",
    "datasets = EasyDict({\n",
    "    \"source\": {\n",
    "        \"original\": {\"train\":train_original_source, \"val\":val_original_source, \"test\":test_original_source},\n",
    "        \"processed\": {\"train\":train_processed_source, \"val\":val_processed_source, \"test\":test_processed_source}\n",
    "    },\n",
    "    \"target\": {\n",
    "        \"original\": {\"train\":train_original_target, \"val\":val_original_target, \"test\":test_original_target},\n",
    "        \"processed\": {\"train\":train_processed_target, \"val\":val_processed_target, \"test\":test_processed_target}\n",
    "    },\n",
    "})"
   ]
  },
  {
   "cell_type": "code",
   "execution_count": 11,
   "id": "296189d9",
   "metadata": {
    "execution": {
     "iopub.execute_input": "2022-03-05T01:02:02.828271Z",
     "iopub.status.busy": "2022-03-05T01:02:02.828016Z",
     "iopub.status.idle": "2022-03-05T01:02:04.451951Z",
     "shell.execute_reply": "2022-03-05T01:02:04.452365Z"
    },
    "papermill": {
     "duration": 1.638612,
     "end_time": "2022-03-05T01:02:04.452477",
     "exception": false,
     "start_time": "2022-03-05T01:02:02.813865",
     "status": "completed"
    },
    "tags": []
   },
   "outputs": [
    {
     "name": "stdout",
     "output_type": "stream",
     "text": [
      "Visually inspect these to see if they line up with expected values given the transforms\n",
      "x_transforms_source []\n",
      "x_transforms_target []\n",
      "Average magnitude, source: 0.004635015\n",
      "Average power, source: 2.8574976e-05\n"
     ]
    },
    {
     "name": "stdout",
     "output_type": "stream",
     "text": [
      "Average magnitude, target: 0.0029128897\n",
      "Average power, target: 1.0910343e-05\n"
     ]
    }
   ],
   "source": [
    "# Some quick unit tests on the data\n",
    "from steves_utils.transforms import get_average_power, get_average_magnitude\n",
    "\n",
    "q_x, q_y, s_x, s_y, truth = next(iter(train_processed_source))\n",
    "\n",
    "assert q_x.dtype == eval(p.torch_default_dtype)\n",
    "assert s_x.dtype == eval(p.torch_default_dtype)\n",
    "\n",
    "print(\"Visually inspect these to see if they line up with expected values given the transforms\")\n",
    "print('x_transforms_source', p.x_transforms_source)\n",
    "print('x_transforms_target', p.x_transforms_target)\n",
    "print(\"Average magnitude, source:\", get_average_magnitude(q_x[0].numpy()))\n",
    "print(\"Average power, source:\", get_average_power(q_x[0].numpy()))\n",
    "\n",
    "q_x, q_y, s_x, s_y, truth = next(iter(train_processed_target))\n",
    "print(\"Average magnitude, target:\", get_average_magnitude(q_x[0].numpy()))\n",
    "print(\"Average power, target:\", get_average_power(q_x[0].numpy()))\n"
   ]
  },
  {
   "cell_type": "code",
   "execution_count": 12,
   "id": "bbdacba1",
   "metadata": {
    "execution": {
     "iopub.execute_input": "2022-03-05T01:02:04.485131Z",
     "iopub.status.busy": "2022-03-05T01:02:04.484861Z",
     "iopub.status.idle": "2022-03-05T01:02:04.544930Z",
     "shell.execute_reply": "2022-03-05T01:02:04.544376Z"
    },
    "papermill": {
     "duration": 0.075273,
     "end_time": "2022-03-05T01:02:04.545078",
     "exception": false,
     "start_time": "2022-03-05T01:02:04.469805",
     "status": "completed"
    },
    "tags": []
   },
   "outputs": [
    {
     "name": "stdout",
     "output_type": "stream",
     "text": [
      "(2, 256)\n"
     ]
    }
   ],
   "source": [
    "###################################\n",
    "# Build the model\n",
    "###################################\n",
    "model = Steves_Prototypical_Network(x_net, device=p.device, x_shape=(2,256))\n",
    "optimizer = Adam(params=model.parameters(), lr=p.lr)"
   ]
  },
  {
   "cell_type": "code",
   "execution_count": 13,
   "id": "22b39ac5",
   "metadata": {
    "execution": {
     "iopub.execute_input": "2022-03-05T01:02:04.575125Z",
     "iopub.status.busy": "2022-03-05T01:02:04.574854Z",
     "iopub.status.idle": "2022-03-05T01:07:45.334643Z",
     "shell.execute_reply": "2022-03-05T01:07:45.334159Z"
    },
    "papermill": {
     "duration": 340.773952,
     "end_time": "2022-03-05T01:07:45.334756",
     "exception": false,
     "start_time": "2022-03-05T01:02:04.560804",
     "status": "completed"
    },
    "tags": []
   },
   "outputs": [
    {
     "name": "stdout",
     "output_type": "stream",
     "text": [
      "epoch: 1, [batch: 1 / 2100], examples_per_second: 155.5331, train_label_loss: 2.3325, \n"
     ]
    },
    {
     "name": "stdout",
     "output_type": "stream",
     "text": [
      "epoch: 1, [batch: 210 / 2100], examples_per_second: 3136.8708, train_label_loss: 1.1526, \n"
     ]
    },
    {
     "name": "stdout",
     "output_type": "stream",
     "text": [
      "epoch: 1, [batch: 420 / 2100], examples_per_second: 3194.1577, train_label_loss: 1.4159, \n"
     ]
    },
    {
     "name": "stdout",
     "output_type": "stream",
     "text": [
      "epoch: 1, [batch: 630 / 2100], examples_per_second: 3113.9343, train_label_loss: 1.2366, \n"
     ]
    },
    {
     "name": "stdout",
     "output_type": "stream",
     "text": [
      "epoch: 1, [batch: 840 / 2100], examples_per_second: 3155.7784, train_label_loss: 1.2517, \n"
     ]
    },
    {
     "name": "stdout",
     "output_type": "stream",
     "text": [
      "epoch: 1, [batch: 1050 / 2100], examples_per_second: 3162.1626, train_label_loss: 1.2542, \n"
     ]
    },
    {
     "name": "stdout",
     "output_type": "stream",
     "text": [
      "epoch: 1, [batch: 1260 / 2100], examples_per_second: 3169.4301, train_label_loss: 1.3265, \n"
     ]
    },
    {
     "name": "stdout",
     "output_type": "stream",
     "text": [
      "epoch: 1, [batch: 1470 / 2100], examples_per_second: 3184.5111, train_label_loss: 0.3982, \n"
     ]
    },
    {
     "name": "stdout",
     "output_type": "stream",
     "text": [
      "epoch: 1, [batch: 1680 / 2100], examples_per_second: 3205.0616, train_label_loss: 0.7003, \n"
     ]
    },
    {
     "name": "stdout",
     "output_type": "stream",
     "text": [
      "epoch: 1, [batch: 1890 / 2100], examples_per_second: 3190.8230, train_label_loss: 0.7068, \n"
     ]
    },
    {
     "name": "stdout",
     "output_type": "stream",
     "text": [
      "=============================================================\n",
      "epoch: 1, source_val_acc_label: 0.6986, target_val_acc_label: 0.5358, source_val_label_loss: 5.0088, target_val_label_loss: 4.2743, \n",
      "=============================================================\n"
     ]
    },
    {
     "name": "stdout",
     "output_type": "stream",
     "text": [
      "New best\n"
     ]
    },
    {
     "name": "stdout",
     "output_type": "stream",
     "text": [
      "epoch: 2, [batch: 1 / 2100], examples_per_second: 16.4117, train_label_loss: 0.3306, \n"
     ]
    },
    {
     "name": "stdout",
     "output_type": "stream",
     "text": [
      "epoch: 2, [batch: 210 / 2100], examples_per_second: 3233.3089, train_label_loss: 0.4621, \n"
     ]
    },
    {
     "name": "stdout",
     "output_type": "stream",
     "text": [
      "epoch: 2, [batch: 420 / 2100], examples_per_second: 3238.3013, train_label_loss: 0.6669, \n"
     ]
    },
    {
     "name": "stdout",
     "output_type": "stream",
     "text": [
      "epoch: 2, [batch: 630 / 2100], examples_per_second: 3234.9144, train_label_loss: 0.4635, \n"
     ]
    },
    {
     "name": "stdout",
     "output_type": "stream",
     "text": [
      "epoch: 2, [batch: 840 / 2100], examples_per_second: 3233.1656, train_label_loss: 0.4357, \n"
     ]
    },
    {
     "name": "stdout",
     "output_type": "stream",
     "text": [
      "epoch: 2, [batch: 1050 / 2100], examples_per_second: 3235.6830, train_label_loss: 0.8398, \n"
     ]
    },
    {
     "name": "stdout",
     "output_type": "stream",
     "text": [
      "epoch: 2, [batch: 1260 / 2100], examples_per_second: 3228.9071, train_label_loss: 0.3755, \n"
     ]
    },
    {
     "name": "stdout",
     "output_type": "stream",
     "text": [
      "epoch: 2, [batch: 1470 / 2100], examples_per_second: 3243.4644, train_label_loss: 0.3363, \n"
     ]
    },
    {
     "name": "stdout",
     "output_type": "stream",
     "text": [
      "epoch: 2, [batch: 1680 / 2100], examples_per_second: 3224.6733, train_label_loss: 0.3361, \n"
     ]
    },
    {
     "name": "stdout",
     "output_type": "stream",
     "text": [
      "epoch: 2, [batch: 1890 / 2100], examples_per_second: 3237.8798, train_label_loss: 0.3846, \n"
     ]
    },
    {
     "name": "stdout",
     "output_type": "stream",
     "text": [
      "=============================================================\n",
      "epoch: 2, source_val_acc_label: 0.7804, target_val_acc_label: 0.6384, source_val_label_loss: 0.5748, target_val_label_loss: 1.1237, \n",
      "=============================================================\n"
     ]
    },
    {
     "name": "stdout",
     "output_type": "stream",
     "text": [
      "New best\n"
     ]
    },
    {
     "name": "stdout",
     "output_type": "stream",
     "text": [
      "epoch: 3, [batch: 1 / 2100], examples_per_second: 16.5115, train_label_loss: 0.4367, \n"
     ]
    },
    {
     "name": "stdout",
     "output_type": "stream",
     "text": [
      "epoch: 3, [batch: 210 / 2100], examples_per_second: 3218.3164, train_label_loss: 0.4237, \n"
     ]
    },
    {
     "name": "stdout",
     "output_type": "stream",
     "text": [
      "epoch: 3, [batch: 420 / 2100], examples_per_second: 3229.4409, train_label_loss: 0.3628, \n"
     ]
    },
    {
     "name": "stdout",
     "output_type": "stream",
     "text": [
      "epoch: 3, [batch: 630 / 2100], examples_per_second: 3215.0775, train_label_loss: 0.2477, \n"
     ]
    },
    {
     "name": "stdout",
     "output_type": "stream",
     "text": [
      "epoch: 3, [batch: 840 / 2100], examples_per_second: 3196.3071, train_label_loss: 0.2715, \n"
     ]
    },
    {
     "name": "stdout",
     "output_type": "stream",
     "text": [
      "epoch: 3, [batch: 1050 / 2100], examples_per_second: 3224.7217, train_label_loss: 0.4140, \n"
     ]
    },
    {
     "name": "stdout",
     "output_type": "stream",
     "text": [
      "epoch: 3, [batch: 1260 / 2100], examples_per_second: 3242.3527, train_label_loss: 0.5176, \n"
     ]
    },
    {
     "name": "stdout",
     "output_type": "stream",
     "text": [
      "epoch: 3, [batch: 1470 / 2100], examples_per_second: 3214.4524, train_label_loss: 0.0934, \n"
     ]
    },
    {
     "name": "stdout",
     "output_type": "stream",
     "text": [
      "epoch: 3, [batch: 1680 / 2100], examples_per_second: 3219.9265, train_label_loss: 0.5704, \n"
     ]
    },
    {
     "name": "stdout",
     "output_type": "stream",
     "text": [
      "epoch: 3, [batch: 1890 / 2100], examples_per_second: 3237.7175, train_label_loss: 0.5606, \n"
     ]
    },
    {
     "name": "stdout",
     "output_type": "stream",
     "text": [
      "=============================================================\n",
      "epoch: 3, source_val_acc_label: 0.7998, target_val_acc_label: 0.6503, source_val_label_loss: 0.5806, target_val_label_loss: 1.4771, \n",
      "=============================================================\n"
     ]
    },
    {
     "name": "stdout",
     "output_type": "stream",
     "text": [
      "epoch: 4, [batch: 1 / 2100], examples_per_second: 16.5817, train_label_loss: 0.2097, \n"
     ]
    },
    {
     "name": "stdout",
     "output_type": "stream",
     "text": [
      "epoch: 4, [batch: 210 / 2100], examples_per_second: 3210.6535, train_label_loss: 0.1709, \n"
     ]
    },
    {
     "name": "stdout",
     "output_type": "stream",
     "text": [
      "epoch: 4, [batch: 420 / 2100], examples_per_second: 3189.4896, train_label_loss: 0.0993, \n"
     ]
    },
    {
     "name": "stdout",
     "output_type": "stream",
     "text": [
      "epoch: 4, [batch: 630 / 2100], examples_per_second: 3212.6422, train_label_loss: 0.4376, \n"
     ]
    },
    {
     "name": "stdout",
     "output_type": "stream",
     "text": [
      "epoch: 4, [batch: 840 / 2100], examples_per_second: 3209.8044, train_label_loss: 0.2491, \n"
     ]
    },
    {
     "name": "stdout",
     "output_type": "stream",
     "text": [
      "epoch: 4, [batch: 1050 / 2100], examples_per_second: 3219.5059, train_label_loss: 0.3564, \n"
     ]
    },
    {
     "name": "stdout",
     "output_type": "stream",
     "text": [
      "epoch: 4, [batch: 1260 / 2100], examples_per_second: 3208.1161, train_label_loss: 0.4981, \n"
     ]
    },
    {
     "name": "stdout",
     "output_type": "stream",
     "text": [
      "epoch: 4, [batch: 1470 / 2100], examples_per_second: 3225.1422, train_label_loss: 0.4705, \n"
     ]
    },
    {
     "name": "stdout",
     "output_type": "stream",
     "text": [
      "epoch: 4, [batch: 1680 / 2100], examples_per_second: 3210.4396, train_label_loss: 0.2909, \n"
     ]
    },
    {
     "name": "stdout",
     "output_type": "stream",
     "text": [
      "epoch: 4, [batch: 1890 / 2100], examples_per_second: 3212.6220, train_label_loss: 0.0899, \n"
     ]
    },
    {
     "name": "stdout",
     "output_type": "stream",
     "text": [
      "=============================================================\n",
      "epoch: 4, source_val_acc_label: 0.8026, target_val_acc_label: 0.6466, source_val_label_loss: 0.6195, target_val_label_loss: 1.4035, \n",
      "=============================================================\n"
     ]
    },
    {
     "name": "stdout",
     "output_type": "stream",
     "text": [
      "epoch: 5, [batch: 1 / 2100], examples_per_second: 16.6444, train_label_loss: 0.1044, \n"
     ]
    },
    {
     "name": "stdout",
     "output_type": "stream",
     "text": [
      "epoch: 5, [batch: 210 / 2100], examples_per_second: 3226.0444, train_label_loss: 0.5103, \n"
     ]
    },
    {
     "name": "stdout",
     "output_type": "stream",
     "text": [
      "epoch: 5, [batch: 420 / 2100], examples_per_second: 3205.1414, train_label_loss: 0.2607, \n"
     ]
    },
    {
     "name": "stdout",
     "output_type": "stream",
     "text": [
      "epoch: 5, [batch: 630 / 2100], examples_per_second: 3211.5879, train_label_loss: 0.1699, \n"
     ]
    },
    {
     "name": "stdout",
     "output_type": "stream",
     "text": [
      "epoch: 5, [batch: 840 / 2100], examples_per_second: 3207.5406, train_label_loss: 0.1426, \n"
     ]
    },
    {
     "name": "stdout",
     "output_type": "stream",
     "text": [
      "epoch: 5, [batch: 1050 / 2100], examples_per_second: 3206.9402, train_label_loss: 0.5690, \n"
     ]
    },
    {
     "name": "stdout",
     "output_type": "stream",
     "text": [
      "epoch: 5, [batch: 1260 / 2100], examples_per_second: 3205.2187, train_label_loss: 0.1811, \n"
     ]
    },
    {
     "name": "stdout",
     "output_type": "stream",
     "text": [
      "epoch: 5, [batch: 1470 / 2100], examples_per_second: 3230.6390, train_label_loss: 0.0588, \n"
     ]
    },
    {
     "name": "stdout",
     "output_type": "stream",
     "text": [
      "epoch: 5, [batch: 1680 / 2100], examples_per_second: 3210.5775, train_label_loss: 0.1145, \n"
     ]
    },
    {
     "name": "stdout",
     "output_type": "stream",
     "text": [
      "epoch: 5, [batch: 1890 / 2100], examples_per_second: 3215.0725, train_label_loss: 0.3344, \n"
     ]
    },
    {
     "name": "stdout",
     "output_type": "stream",
     "text": [
      "=============================================================\n",
      "epoch: 5, source_val_acc_label: 0.8002, target_val_acc_label: 0.6438, source_val_label_loss: 0.6451, target_val_label_loss: 1.4731, \n",
      "=============================================================\n"
     ]
    },
    {
     "name": "stdout",
     "output_type": "stream",
     "text": [
      "epoch: 6, [batch: 1 / 2100], examples_per_second: 16.5350, train_label_loss: 0.3442, \n"
     ]
    },
    {
     "name": "stdout",
     "output_type": "stream",
     "text": [
      "epoch: 6, [batch: 210 / 2100], examples_per_second: 3200.1639, train_label_loss: 0.0710, \n"
     ]
    },
    {
     "name": "stdout",
     "output_type": "stream",
     "text": [
      "epoch: 6, [batch: 420 / 2100], examples_per_second: 3204.8766, train_label_loss: 0.0187, \n"
     ]
    },
    {
     "name": "stdout",
     "output_type": "stream",
     "text": [
      "epoch: 6, [batch: 630 / 2100], examples_per_second: 3223.0305, train_label_loss: 0.1358, \n"
     ]
    },
    {
     "name": "stdout",
     "output_type": "stream",
     "text": [
      "epoch: 6, [batch: 840 / 2100], examples_per_second: 3231.6071, train_label_loss: 0.1827, \n"
     ]
    },
    {
     "name": "stdout",
     "output_type": "stream",
     "text": [
      "epoch: 6, [batch: 1050 / 2100], examples_per_second: 3206.5419, train_label_loss: 0.1405, \n"
     ]
    },
    {
     "name": "stdout",
     "output_type": "stream",
     "text": [
      "epoch: 6, [batch: 1260 / 2100], examples_per_second: 3199.9923, train_label_loss: 0.0650, \n"
     ]
    },
    {
     "name": "stdout",
     "output_type": "stream",
     "text": [
      "epoch: 6, [batch: 1470 / 2100], examples_per_second: 3213.7563, train_label_loss: 0.1548, \n"
     ]
    },
    {
     "name": "stdout",
     "output_type": "stream",
     "text": [
      "epoch: 6, [batch: 1680 / 2100], examples_per_second: 3225.4508, train_label_loss: 0.2846, \n"
     ]
    },
    {
     "name": "stdout",
     "output_type": "stream",
     "text": [
      "epoch: 6, [batch: 1890 / 2100], examples_per_second: 3211.7453, train_label_loss: 0.1118, \n"
     ]
    },
    {
     "name": "stdout",
     "output_type": "stream",
     "text": [
      "=============================================================\n",
      "epoch: 6, source_val_acc_label: 0.7910, target_val_acc_label: 0.6410, source_val_label_loss: 0.6915, target_val_label_loss: 1.5887, \n",
      "=============================================================\n"
     ]
    },
    {
     "name": "stdout",
     "output_type": "stream",
     "text": [
      "Patience (3) exhausted\n"
     ]
    }
   ],
   "source": [
    "###################################\n",
    "# train\n",
    "###################################\n",
    "jig = PTN_Train_Eval_Test_Jig(model, p.BEST_MODEL_PATH, p.device)\n",
    "\n",
    "jig.train(\n",
    "    train_iterable=datasets.source.processed.train,\n",
    "    source_val_iterable=datasets.source.processed.val,\n",
    "    target_val_iterable=datasets.target.processed.val,\n",
    "    num_epochs=p.n_epoch,\n",
    "    num_logs_per_epoch=p.NUM_LOGS_PER_EPOCH,\n",
    "    patience=p.patience,\n",
    "    optimizer=optimizer,\n",
    "    criteria_for_best=p.criteria_for_best,\n",
    ")"
   ]
  },
  {
   "cell_type": "code",
   "execution_count": 14,
   "id": "31e8fabf",
   "metadata": {
    "execution": {
     "iopub.execute_input": "2022-03-05T01:07:45.386091Z",
     "iopub.status.busy": "2022-03-05T01:07:45.385841Z",
     "iopub.status.idle": "2022-03-05T01:07:45.398044Z",
     "shell.execute_reply": "2022-03-05T01:07:45.398413Z"
    },
    "papermill": {
     "duration": 0.03715,
     "end_time": "2022-03-05T01:07:45.398517",
     "exception": false,
     "start_time": "2022-03-05T01:07:45.361367",
     "status": "completed"
    },
    "tags": []
   },
   "outputs": [],
   "source": [
    "total_experiment_time_secs = time.time() - start_time_secs"
   ]
  },
  {
   "cell_type": "code",
   "execution_count": 15,
   "id": "87b9595b",
   "metadata": {
    "execution": {
     "iopub.execute_input": "2022-03-05T01:07:45.452788Z",
     "iopub.status.busy": "2022-03-05T01:07:45.452522Z",
     "iopub.status.idle": "2022-03-05T01:08:16.210583Z",
     "shell.execute_reply": "2022-03-05T01:08:16.211024Z"
    },
    "papermill": {
     "duration": 30.78601,
     "end_time": "2022-03-05T01:08:16.211164",
     "exception": false,
     "start_time": "2022-03-05T01:07:45.425154",
     "status": "completed"
    },
    "tags": []
   },
   "outputs": [],
   "source": [
    "###################################\n",
    "# Evaluate the model\n",
    "###################################\n",
    "source_test_label_accuracy, source_test_label_loss = jig.test(datasets.source.processed.test)\n",
    "target_test_label_accuracy, target_test_label_loss = jig.test(datasets.target.processed.test)\n",
    "\n",
    "source_val_label_accuracy, source_val_label_loss = jig.test(datasets.source.processed.val)\n",
    "target_val_label_accuracy, target_val_label_loss = jig.test(datasets.target.processed.val)\n",
    "\n",
    "history = jig.get_history()\n",
    "\n",
    "total_epochs_trained = len(history[\"epoch_indices\"])\n",
    "\n",
    "val_dl = Iterable_Aggregator((datasets.source.original.val,datasets.target.original.val))\n",
    "\n",
    "confusion = ptn_confusion_by_domain_over_dataloader(model, p.device, val_dl)\n",
    "per_domain_accuracy = per_domain_accuracy_from_confusion(confusion)\n",
    "\n",
    "# Add a key to per_domain_accuracy for if it was a source domain\n",
    "for domain, accuracy in per_domain_accuracy.items():\n",
    "    per_domain_accuracy[domain] = {\n",
    "        \"accuracy\": accuracy,\n",
    "        \"source?\": domain in p.domains_source\n",
    "    }\n",
    "\n",
    "# Do an independent accuracy assesment JUST TO BE SURE!\n",
    "# _source_test_label_accuracy = independent_accuracy_assesment(model, datasets.source.processed.test, p.device)\n",
    "# _target_test_label_accuracy = independent_accuracy_assesment(model, datasets.target.processed.test, p.device)\n",
    "# _source_val_label_accuracy = independent_accuracy_assesment(model, datasets.source.processed.val, p.device)\n",
    "# _target_val_label_accuracy = independent_accuracy_assesment(model, datasets.target.processed.val, p.device)\n",
    "\n",
    "# assert(_source_test_label_accuracy == source_test_label_accuracy)\n",
    "# assert(_target_test_label_accuracy == target_test_label_accuracy)\n",
    "# assert(_source_val_label_accuracy == source_val_label_accuracy)\n",
    "# assert(_target_val_label_accuracy == target_val_label_accuracy)\n",
    "\n",
    "experiment = {\n",
    "    \"experiment_name\": p.experiment_name,\n",
    "    \"parameters\": dict(p),\n",
    "    \"results\": {\n",
    "        \"source_test_label_accuracy\": source_test_label_accuracy,\n",
    "        \"source_test_label_loss\": source_test_label_loss,\n",
    "        \"target_test_label_accuracy\": target_test_label_accuracy,\n",
    "        \"target_test_label_loss\": target_test_label_loss,\n",
    "        \"source_val_label_accuracy\": source_val_label_accuracy,\n",
    "        \"source_val_label_loss\": source_val_label_loss,\n",
    "        \"target_val_label_accuracy\": target_val_label_accuracy,\n",
    "        \"target_val_label_loss\": target_val_label_loss,\n",
    "        \"total_epochs_trained\": total_epochs_trained,\n",
    "        \"total_experiment_time_secs\": total_experiment_time_secs,\n",
    "        \"confusion\": confusion,\n",
    "        \"per_domain_accuracy\": per_domain_accuracy,\n",
    "    },\n",
    "    \"history\": history,\n",
    "    \"dataset_metrics\": get_dataset_metrics(datasets, \"ptn\"),\n",
    "}"
   ]
  },
  {
   "cell_type": "code",
   "execution_count": 16,
   "id": "54a21829",
   "metadata": {
    "execution": {
     "iopub.execute_input": "2022-03-05T01:08:16.265604Z",
     "iopub.status.busy": "2022-03-05T01:08:16.264467Z",
     "iopub.status.idle": "2022-03-05T01:08:16.438444Z",
     "shell.execute_reply": "2022-03-05T01:08:16.437985Z"
    },
    "papermill": {
     "duration": 0.198234,
     "end_time": "2022-03-05T01:08:16.438537",
     "exception": false,
     "start_time": "2022-03-05T01:08:16.240303",
     "status": "completed"
    },
    "tags": []
   },
   "outputs": [
    {
     "data": {
      "image/png": "[encoded data removed]",
      "text/plain": [
       "<Figure size 1080x504 with 1 Axes>"
      ]
     },
     "metadata": {
      "needs_background": "light"
     },
     "output_type": "display_data"
    }
   ],
   "source": [
    "ax = get_loss_curve(experiment)\n",
    "plt.show()"
   ]
  },
  {
   "cell_type": "code",
   "execution_count": 17,
   "id": "fd8a0f60",
   "metadata": {
    "execution": {
     "iopub.execute_input": "2022-03-05T01:08:16.492178Z",
     "iopub.status.busy": "2022-03-05T01:08:16.491921Z",
     "iopub.status.idle": "2022-03-05T01:08:16.746695Z",
     "shell.execute_reply": "2022-03-05T01:08:16.746942Z"
    },
    "papermill": {
     "duration": 0.2812,
     "end_time": "2022-03-05T01:08:16.747010",
     "exception": false,
     "start_time": "2022-03-05T01:08:16.465810",
     "status": "completed"
    },
    "tags": []
   },
   "outputs": [
    {
     "data": {
      "text/plain": [
       "<matplotlib.axes._subplots.AxesSubplot at 0x7fdea615d1f0>"
      ]
     },
     "execution_count": 17,
     "metadata": {},
     "output_type": "execute_result"
    },
    {
     "data": {
      "image/png": "[encoded data removed]",
      "text/plain": [
       "<Figure size 1080x504 with 1 Axes>"
      ]
     },
     "metadata": {
      "needs_background": "light"
     },
     "output_type": "display_data"
    }
   ],
   "source": [
    "get_results_table(experiment)"
   ]
  },
  {
   "cell_type": "code",
   "execution_count": 18,
   "id": "cf8dc689",
   "metadata": {
    "execution": {
     "iopub.execute_input": "2022-03-05T01:08:16.799971Z",
     "iopub.status.busy": "2022-03-05T01:08:16.799246Z",
     "iopub.status.idle": "2022-03-05T01:08:16.971767Z",
     "shell.execute_reply": "2022-03-05T01:08:16.971298Z"
    },
    "papermill": {
     "duration": 0.199024,
     "end_time": "2022-03-05T01:08:16.971869",
     "exception": false,
     "start_time": "2022-03-05T01:08:16.772845",
     "status": "completed"
    },
    "tags": []
   },
   "outputs": [
    {
     "data": {
      "text/plain": [
       "<matplotlib.axes._subplots.AxesSubplot at 0x7fdea6316eb0>"
      ]
     },
     "execution_count": 18,
     "metadata": {},
     "output_type": "execute_result"
    },
    {
     "data": {
      "image/png": "[encoded data removed]",
      "text/plain": [
       "<Figure size 1080x504 with 1 Axes>"
      ]
     },
     "metadata": {
      "needs_background": "light"
     },
     "output_type": "display_data"
    }
   ],
   "source": [
    "get_domain_accuracies(experiment)"
   ]
  },
  {
   "cell_type": "code",
   "execution_count": 19,
   "id": "a74ae082",
   "metadata": {
    "execution": {
     "iopub.execute_input": "2022-03-05T01:08:17.036961Z",
     "iopub.status.busy": "2022-03-05T01:08:17.036600Z",
     "iopub.status.idle": "2022-03-05T01:08:17.044675Z",
     "shell.execute_reply": "2022-03-05T01:08:17.044224Z"
    },
    "papermill": {
     "duration": 0.042107,
     "end_time": "2022-03-05T01:08:17.044781",
     "exception": false,
     "start_time": "2022-03-05T01:08:17.002674",
     "status": "completed"
    },
    "tags": []
   },
   "outputs": [
    {
     "name": "stdout",
     "output_type": "stream",
     "text": [
      "Source Test Label Accuracy: 0.7824652777777777 Target Test Label Accuracy: 0.6291666666666667\n",
      "Source Val Label Accuracy: 0.7803819444444444 Target Val Label Accuracy: 0.6384375\n"
     ]
    }
   ],
   "source": [
    "print(\"Source Test Label Accuracy:\", experiment[\"results\"][\"source_test_label_accuracy\"], \"Target Test Label Accuracy:\", experiment[\"results\"][\"target_test_label_accuracy\"])\n",
    "print(\"Source Val Label Accuracy:\", experiment[\"results\"][\"source_val_label_accuracy\"], \"Target Val Label Accuracy:\", experiment[\"results\"][\"target_val_label_accuracy\"])"
   ]
  },
  {
   "cell_type": "code",
   "execution_count": 20,
   "id": "dacca602",
   "metadata": {
    "execution": {
     "iopub.execute_input": "2022-03-05T01:08:17.103391Z",
     "iopub.status.busy": "2022-03-05T01:08:17.103102Z",
     "iopub.status.idle": "2022-03-05T01:08:17.115240Z",
     "shell.execute_reply": "2022-03-05T01:08:17.114914Z"
    },
    "papermill": {
     "duration": 0.039351,
     "end_time": "2022-03-05T01:08:17.115312",
     "exception": false,
     "start_time": "2022-03-05T01:08:17.075961",
     "status": "completed"
    },
    "tags": [
     "experiment_json"
    ]
   },
   "outputs": [
    {
     "data": {
      "text/plain": [
       "'{\"experiment_name\": \"trainKFactor_oracle.run2\", \"parameters\": {\"experiment_name\": \"trainKFactor_oracle.run2\", \"device\": \"cuda\", \"lr\": 0.001, \"seed\": 1337, \"dataset_seed\": 1337, \"labels_source\": [\"3123D52\", \"3123D65\", \"3123D79\", \"3123D80\", \"3123D54\", \"3123D70\", \"3123D7B\", \"3123D89\", \"3123D58\", \"3123D76\", \"3123D7D\", \"3123EFE\", \"3123D64\", \"3123D78\", \"3123D7E\", \"3124E4A\"], \"labels_target\": [\"3123D52\", \"3123D65\", \"3123D79\", \"3123D80\", \"3123D54\", \"3123D70\", \"3123D7B\", \"3123D89\", \"3123D58\", \"3123D76\", \"3123D7D\", \"3123EFE\", \"3123D64\", \"3123D78\", \"3123D7E\", \"3124E4A\"], \"x_transforms_source\": [], \"x_transforms_target\": [], \"episode_transforms_source\": [], \"episode_transforms_target\": [], \"num_examples_per_domain_per_label_source\": 1000, \"num_examples_per_domain_per_label_target\": 1000, \"n_shot\": 3, \"n_way\": 16, \"n_query\": 2, \"val_k_factor\": 2, \"test_k_factor\": 2, \"torch_default_dtype\": \"torch.float32\", \"n_epoch\": 50, \"patience\": 3, \"criteria_for_best\": \"target_loss\", \"x_net\": [{\"class\": \"nnReshape\", \"kargs\": {\"shape\": [-1, 1, 2, 256]}}, {\"class\": \"Conv2d\", \"kargs\": {\"in_channels\": 1, \"out_channels\": 256, \"kernel_size\": [1, 7], \"bias\": false, \"padding\": [0, 3]}}, {\"class\": \"ReLU\", \"kargs\": {\"inplace\": true}}, {\"class\": \"BatchNorm2d\", \"kargs\": {\"num_features\": 256}}, {\"class\": \"Conv2d\", \"kargs\": {\"in_channels\": 256, \"out_channels\": 80, \"kernel_size\": [2, 7], \"bias\": true, \"padding\": [0, 3]}}, {\"class\": \"ReLU\", \"kargs\": {\"inplace\": true}}, {\"class\": \"BatchNorm2d\", \"kargs\": {\"num_features\": 80}}, {\"class\": \"Flatten\", \"kargs\": {}}, {\"class\": \"Linear\", \"kargs\": {\"in_features\": 20480, \"out_features\": 256}}, {\"class\": \"ReLU\", \"kargs\": {\"inplace\": true}}, {\"class\": \"BatchNorm1d\", \"kargs\": {\"num_features\": 256}}, {\"class\": \"Linear\", \"kargs\": {\"in_features\": 256, \"out_features\": 256}}], \"NUM_LOGS_PER_EPOCH\": 10, \"BEST_MODEL_PATH\": \"./best_model.pth\", \"pickle_name\": \"oracle.Run2_10kExamples_stratified_ds.2022A.pkl\", \"train_k_factor\": 5, \"domains_source\": [8, 32, 50], \"domains_target\": [14, 20, 26, 38, 44]}, \"results\": {\"source_test_label_accuracy\": 0.7824652777777777, \"source_test_label_loss\": 0.5779485106468201, \"target_test_label_accuracy\": 0.6291666666666667, \"target_test_label_loss\": 1.1829742193222046, \"source_val_label_accuracy\": 0.7803819444444444, \"source_val_label_loss\": 0.5748161673545837, \"target_val_label_accuracy\": 0.6384375, \"target_val_label_loss\": 1.1237233877182007, \"total_epochs_trained\": 6, \"total_experiment_time_secs\": 345.9385402202606, \"confusion\": {\"8\": {\"15\": {\"15\": 106, \"12\": 8, \"2\": 6}, \"3\": {\"3\": 120}, \"6\": {\"8\": 20, \"6\": 69, \"14\": 21, \"4\": 7, \"11\": 2, \"1\": 1}, \"1\": {\"1\": 65, \"4\": 14, \"10\": 11, \"7\": 3, \"5\": 13, \"13\": 5, \"14\": 8, \"6\": 1}, \"8\": {\"8\": 76, \"6\": 26, \"11\": 14, \"4\": 4}, \"10\": {\"10\": 50, \"13\": 23, \"5\": 41, \"1\": 6}, \"9\": {\"9\": 120}, \"13\": {\"13\": 84, \"10\": 28, \"7\": 4, \"1\": 2, \"4\": 1, \"5\": 1}, \"12\": {\"12\": 103, \"15\": 16, \"2\": 1}, \"5\": {\"5\": 84, \"1\": 13, \"10\": 23}, \"0\": {\"0\": 120}, \"2\": {\"2\": 114, \"15\": 6}, \"11\": {\"8\": 41, \"11\": 71, \"6\": 5, \"7\": 2, \"2\": 1}, \"14\": {\"14\": 78, \"6\": 30, \"4\": 1, \"1\": 10, \"8\": 1}, \"7\": {\"7\": 78, \"4\": 30, \"13\": 2, \"1\": 4, \"11\": 4, \"10\": 1, \"8\": 1}, \"4\": {\"8\": 3, \"4\": 68, \"6\": 2, \"7\": 29, \"1\": 16, \"14\": 2}}, \"50\": {\"3\": {\"3\": 120}, \"15\": {\"15\": 96, \"6\": 10, \"4\": 5, \"12\": 7, \"9\": 2}, \"8\": {\"8\": 120}, \"4\": {\"4\": 90, \"7\": 7, \"5\": 19, \"15\": 3, \"6\": 1}, \"14\": {\"14\": 120}, \"0\": {\"2\": 15, \"0\": 89, \"10\": 16}, \"7\": {\"7\": 103, \"4\": 15, \"5\": 2}, \"6\": {\"6\": 89, \"5\": 19, \"15\": 10, \"4\": 2}, \"10\": {\"10\": 109, \"0\": 8, \"13\": 3}, \"5\": {\"5\": 68, \"4\": 27, \"7\": 17, \"6\": 8}, \"2\": {\"2\": 108, \"0\": 12}, \"12\": {\"11\": 13, \"12\": 92, \"15\": 10, \"6\": 2, \"9\": 3}, \"9\": {\"9\": 110, \"15\": 9, \"12\": 1}, \"1\": {\"1\": 116, \"13\": 3, \"11\": 1}, \"11\": {\"12\": 20, \"11\": 99, \"1\": 1}, \"13\": {\"13\": 118, \"1\": 2}}, \"32\": {\"5\": {\"5\": 97, \"15\": 14, \"14\": 4, \"7\": 4, \"2\": 1}, \"8\": {\"8\": 75, \"0\": 12, \"7\": 31, \"2\": 1, \"11\": 1}, \"11\": {\"13\": 28, \"4\": 38, \"11\": 47, \"8\": 1, \"3\": 3, \"0\": 3}, \"1\": {\"1\": 120}, \"10\": {\"10\": 120}, \"15\": {\"15\": 110, \"7\": 1, \"5\": 8, \"8\": 1}, \"3\": {\"3\": 112, \"13\": 8}, \"7\": {\"8\": 29, \"0\": 22, \"7\": 44, \"5\": 1, \"2\": 21, \"14\": 2, \"15\": 1}, \"4\": {\"4\": 86, \"11\": 28, \"0\": 3, \"8\": 1, \"13\": 1, \"3\": 1}, \"14\": {\"14\": 62, \"2\": 52, \"7\": 3, \"8\": 1, \"5\": 1, \"0\": 1}, \"9\": {\"9\": 117, \"12\": 1, \"14\": 1, \"11\": 1}, \"12\": {\"12\": 119, \"9\": 1}, \"6\": {\"6\": 120}, \"2\": {\"2\": 62, \"14\": 34, \"0\": 12, \"7\": 11, \"5\": 1}, \"0\": {\"0\": 64, \"7\": 18, \"8\": 12, \"2\": 13, \"4\": 10, \"14\": 2, \"11\": 1}, \"13\": {\"13\": 87, \"4\": 4, \"3\": 18, \"11\": 11}}, \"14\": {\"15\": {\"15\": 120}, \"3\": {\"3\": 108, \"14\": 3, \"6\": 3, \"7\": 1, \"13\": 2, \"5\": 1, \"2\": 2}, \"6\": {\"6\": 69, \"13\": 38, \"3\": 8, \"7\": 5}, \"1\": {\"1\": 119, \"9\": 1}, \"8\": {\"8\": 86, \"10\": 21, \"0\": 13}, \"10\": {\"0\": 24, \"3\": 5, \"8\": 46, \"10\": 39, \"4\": 2, \"12\": 3, \"5\": 1}, \"9\": {\"9\": 109, \"12\": 5, \"0\": 4, \"8\": 1, \"10\": 1}, \"13\": {\"13\": 78, \"6\": 41, \"7\": 1}, \"12\": {\"12\": 43, \"9\": 20, \"15\": 21, \"3\": 11, \"8\": 14, \"0\": 2, \"4\": 1, \"11\": 4, \"10\": 4}, \"5\": {\"14\": 41, \"2\": 18, \"5\": 51, \"4\": 4, \"10\": 4, \"7\": 2}, \"0\": {\"0\": 89, \"10\": 13, \"8\": 10, \"4\": 6, \"9\": 2}, \"2\": {\"7\": 27, \"2\": 34, \"5\": 16, \"14\": 31, \"13\": 3, \"4\": 2, \"3\": 4, \"10\": 1, \"6\": 2}, \"11\": {\"11\": 120}, \"14\": {\"5\": 37, \"14\": 41, \"2\": 21, \"3\": 10, \"10\": 2, \"7\": 7, \"0\": 2}, \"7\": {\"7\": 101, \"2\": 11, \"14\": 4, \"6\": 3, \"13\": 1}, \"4\": {\"4\": 108, \"0\": 9, \"14\": 1, \"2\": 1, \"10\": 1}}, \"20\": {\"3\": {\"2\": 12, \"7\": 20, \"4\": 18, \"3\": 34, \"5\": 10, \"1\": 1, \"9\": 13, \"10\": 2, \"15\": 8, \"12\": 1, \"13\": 1}, \"15\": {\"15\": 33, \"9\": 21, \"4\": 15, \"3\": 4, \"12\": 12, \"2\": 8, \"7\": 2, \"13\": 10, \"5\": 6, \"1\": 9}, \"8\": {\"8\": 46, \"14\": 37, \"11\": 35, \"0\": 2}, \"4\": {\"2\": 9, \"12\": 4, \"13\": 4, \"3\": 21, \"4\": 28, \"9\": 16, \"7\": 19, \"15\": 12, \"10\": 1, \"5\": 6}, \"14\": {\"14\": 67, \"8\": 38, \"6\": 2, \"11\": 8, \"2\": 3, \"5\": 1, \"1\": 1}, \"0\": {\"0\": 96, \"1\": 5, \"11\": 14, \"8\": 4, \"5\": 1}, \"7\": {\"10\": 15, \"3\": 14, \"6\": 8, \"7\": 58, \"2\": 6, \"4\": 11, \"5\": 2, \"14\": 1, \"9\": 2, \"15\": 1, \"12\": 1, \"8\": 1}, \"6\": {\"6\": 93, \"7\": 5, \"10\": 22}, \"10\": {\"6\": 21, \"10\": 73, \"7\": 15, \"3\": 3, \"4\": 1, \"15\": 1, \"9\": 1, \"13\": 1, \"12\": 4}, \"5\": {\"13\": 1, \"5\": 29, \"3\": 15, \"2\": 16, \"9\": 17, \"1\": 14, \"15\": 12, \"4\": 8, \"7\": 4, \"0\": 2, \"8\": 2}, \"2\": {\"1\": 9, \"9\": 22, \"3\": 13, \"2\": 22, \"5\": 18, \"15\": 14, \"7\": 8, \"4\": 12, \"14\": 1, \"12\": 1}, \"12\": {\"12\": 51, \"13\": 54, \"15\": 3, \"4\": 5, \"10\": 2, \"7\": 1, \"3\": 2, \"9\": 1, \"1\": 1}, \"9\": {\"2\": 20, \"9\": 22, \"1\": 8, \"15\": 26, \"7\": 6, \"3\": 11, \"4\": 12, \"5\": 10, \"12\": 2, \"13\": 3}, \"1\": {\"9\": 7, \"1\": 70, \"0\": 2, \"15\": 12, \"2\": 7, \"5\": 20, \"8\": 1, \"3\": 1}, \"11\": {\"11\": 54, \"8\": 35, \"14\": 14, \"0\": 17}, \"13\": {\"13\": 67, \"12\": 38, \"4\": 5, \"3\": 5, \"15\": 3, \"7\": 2}}, \"44\": {\"5\": {\"5\": 81, \"8\": 11, \"15\": 20, \"14\": 7, \"4\": 1}, \"8\": {\"8\": 82, \"5\": 13, \"0\": 24, \"15\": 1}, \"11\": {\"11\": 120}, \"1\": {\"1\": 103, \"2\": 14, \"3\": 2, \"12\": 1}, \"10\": {\"10\": 118, \"7\": 2}, \"15\": {\"15\": 90, \"14\": 3, \"5\": 20, \"8\": 5, \"0\": 1, \"4\": 1}, \"3\": {\"12\": 15, \"3\": 103, \"2\": 2}, \"7\": {\"7\": 82, \"9\": 30, \"6\": 5, \"10\": 3}, \"4\": {\"14\": 21, \"4\": 99}, \"14\": {\"14\": 91, \"4\": 18, \"5\": 11}, \"9\": {\"7\": 49, \"9\": 66, \"6\": 4, \"13\": 1}, \"12\": {\"12\": 105, \"3\": 15}, \"6\": {\"6\": 110, \"9\": 2, \"13\": 5, \"7\": 3}, \"2\": {\"2\": 91, \"1\": 28, \"9\": 1}, \"0\": {\"0\": 86, \"8\": 29, \"15\": 3, \"5\": 2}, \"13\": {\"13\": 113, \"4\": 4, \"6\": 3}}, \"38\": {\"14\": {\"2\": 45, \"14\": 61, \"13\": 2, \"7\": 7, \"4\": 2, \"8\": 2, \"5\": 1}, \"0\": {\"0\": 104, \"7\": 16}, \"13\": {\"3\": 13, \"10\": 22, \"13\": 83, \"4\": 2}, \"7\": {\"7\": 100, \"0\": 12, \"14\": 4, \"4\": 2, \"8\": 2}, \"9\": {\"9\": 110, \"5\": 8, \"0\": 1, \"8\": 1}, \"3\": {\"13\": 32, \"10\": 26, \"3\": 53, \"4\": 9}, \"11\": {\"11\": 120}, \"6\": {\"6\": 106, \"15\": 14}, \"8\": {\"8\": 98, \"7\": 5, \"12\": 3, \"5\": 10, \"9\": 4}, \"4\": {\"3\": 6, \"4\": 85, \"10\": 21, \"7\": 6, \"13\": 2}, \"5\": {\"12\": 41, \"5\": 34, \"7\": 1, \"8\": 30, \"9\": 14}, \"10\": {\"4\": 22, \"3\": 23, \"13\": 14, \"10\": 61}, \"1\": {\"1\": 94, \"15\": 25, \"6\": 1}, \"2\": {\"2\": 105, \"14\": 15}, \"15\": {\"15\": 64, \"6\": 23, \"1\": 30, \"9\": 1, \"12\": 1, \"5\": 1}, \"12\": {\"12\": 84, \"5\": 30, \"8\": 4, \"2\": 1, \"9\": 1}}, \"26\": {\"13\": {\"13\": 86, \"7\": 11, \"9\": 22, \"3\": 1}, \"2\": {\"2\": 58, \"7\": 16, \"8\": 19, \"13\": 1, \"15\": 12, \"9\": 12, \"3\": 1, \"0\": 1}, \"8\": {\"9\": 26, \"2\": 32, \"10\": 7, \"7\": 4, \"0\": 5, \"8\": 37, \"15\": 7, \"13\": 2}, \"9\": {\"8\": 31, \"9\": 42, \"13\": 16, \"7\": 8, \"2\": 19, \"10\": 3, \"15\": 1}, \"12\": {\"12\": 120}, \"4\": {\"3\": 7, \"4\": 113}, \"3\": {\"3\": 78, \"7\": 33, \"13\": 1, \"4\": 6, \"2\": 2}, \"15\": {\"15\": 61, \"0\": 26, \"10\": 9, \"8\": 6, \"2\": 10, \"14\": 7, \"7\": 1}, \"14\": {\"14\": 59, \"0\": 15, \"15\": 7, \"5\": 7, \"10\": 20, \"8\": 1, \"1\": 7, \"6\": 4}, \"10\": {\"15\": 17, \"10\": 25, \"6\": 10, \"0\": 20, \"1\": 7, \"13\": 1, \"14\": 20, \"8\": 8, \"2\": 1, \"9\": 9, \"12\": 1, \"5\": 1}, \"7\": {\"2\": 8, \"3\": 35, \"7\": 49, \"13\": 12, \"9\": 9, \"8\": 6, \"0\": 1}, \"11\": {\"11\": 120}, \"6\": {\"6\": 56, \"1\": 5, \"5\": 51, \"14\": 5, \"10\": 3}, \"1\": {\"1\": 92, \"5\": 13, \"6\": 8, \"10\": 1, \"14\": 6}, \"5\": {\"10\": 6, \"1\": 21, \"5\": 35, \"6\": 46, \"14\": 9, \"0\": 3}, \"0\": {\"10\": 31, \"0\": 38, \"8\": 7, \"15\": 20, \"14\": 21, \"9\": 1, \"2\": 2}}}, \"per_domain_accuracy\": {\"8\": {\"accuracy\": 0.7322916666666667, \"source?\": true}, \"50\": {\"accuracy\": 0.8578125, \"source?\": true}, \"32\": {\"accuracy\": 0.7510416666666667, \"source?\": true}, \"14\": {\"accuracy\": 0.6848958333333334, \"source?\": false}, \"20\": {\"accuracy\": 0.4390625, \"source?\": false}, \"44\": {\"accuracy\": 0.8020833333333334, \"source?\": false}, \"38\": {\"accuracy\": 0.709375, \"source?\": false}, \"26\": {\"accuracy\": 0.5567708333333333, \"source?\": false}}}, \"history\": {\"epoch_indices\": [1, 2, 3, 4, 5, 6], \"train_label_loss\": [0.9883055895992687, 0.5528549922612451, 0.3615546433840479, 0.271951313759422, 0.22356497837485567, 0.17693344187834079], \"source_val_label_loss\": [5.008789539337158, 0.5748161673545837, 0.5805825591087341, 0.6195443868637085, 0.6451308727264404, 0.6914972066879272], \"target_val_label_loss\": [4.274295330047607, 1.1237233877182007, 1.4771314859390259, 1.4035227298736572, 1.4731284379959106, 1.5887211561203003], \"source_val_acc_label\": [0.6986111111111111, 0.7803819444444444, 0.7998263888888889, 0.8026041666666667, 0.8001736111111111, 0.7909722222222222], \"target_val_acc_label\": [0.5358333333333334, 0.6384375, 0.6503125, 0.6465625, 0.64375, 0.6410416666666666]}, \"dataset_metrics\": {\"source\": {\"train\": {\"n_unique_x\": 33600, \"n_unique_y\": 16, \"n_batch/episode\": 2100}, \"val\": {\"n_unique_x\": 7200, \"n_unique_y\": 16, \"n_batch/episode\": 180}, \"test\": {\"n_unique_x\": 7200, \"n_unique_y\": 16, \"n_batch/episode\": 180}}, \"target\": {\"train\": {\"n_unique_x\": 56000, \"n_unique_y\": 16, \"n_batch/episode\": 3500}, \"val\": {\"n_unique_x\": 12000, \"n_unique_y\": 16, \"n_batch/episode\": 300}, \"test\": {\"n_unique_x\": 12000, \"n_unique_y\": 16, \"n_batch/episode\": 300}}}}'"
      ]
     },
     "execution_count": 20,
     "metadata": {},
     "output_type": "execute_result"
    }
   ],
   "source": [
    "json.dumps(experiment)"
   ]
  }
 ],
 "metadata": {
  "celltoolbar": "Tags",
  "kernelspec": {
   "display_name": "Python 3 (ipykernel)",
   "language": "python",
   "name": "python3"
  },
  "language_info": {
   "codemirror_mode": {
    "name": "ipython",
    "version": 3
   },
   "file_extension": ".py",
   "mimetype": "text/x-python",
   "name": "python",
   "nbconvert_exporter": "python",
   "pygments_lexer": "ipython3",
   "version": "3.8.10"
  },
  "papermill": {
   "default_parameters": {},
   "duration": 380.198972,
   "end_time": "2022-03-05T01:08:17.752541",
   "environment_variables": {},
   "exception": null,
   "input_path": "/mnt/wd500GB/CSC500/csc500-main/csc500-notebooks/templates/ptn_template.ipynb",
   "output_path": "trial.ipynb",
   "parameters": {
    "parameters": {
     "BEST_MODEL_PATH": "./best_model.pth",
     "NUM_LOGS_PER_EPOCH": 10,
     "criteria_for_best": "target_loss",
     "dataset_seed": 1337,
     "device": "cuda",
     "domains_source": [
      8,
      32,
      50
     ],
     "domains_target": [
      14,
      20,
      26,
      38,
      44
     ],
     "episode_transforms_source": [],
     "episode_transforms_target": [],
     "experiment_name": "trainKFactor_oracle.run2",
     "labels_source": [
      "3123D52",
      "3123D65",
      "3123D79",
      "3123D80",
      "3123D54",
      "3123D70",
      "3123D7B",
      "3123D89",
      "3123D58",
      "3123D76",
      "3123D7D",
      "3123EFE",
      "3123D64",
      "3123D78",
      "3123D7E",
      "3124E4A"
     ],
     "labels_target": [
      "3123D52",
      "3123D65",
      "3123D79",
      "3123D80",
      "3123D54",
      "3123D70",
      "3123D7B",
      "3123D89",
      "3123D58",
      "3123D76",
      "3123D7D",
      "3123EFE",
      "3123D64",
      "3123D78",
      "3123D7E",
      "3124E4A"
     ],
     "lr": 0.001,
     "n_epoch": 50,
     "n_query": 2,
     "n_shot": 3,
     "n_way": 16,
     "num_examples_per_domain_per_label_source": 1000,
     "num_examples_per_domain_per_label_target": 1000,
     "patience": 3,
     "pickle_name": "oracle.Run2_10kExamples_stratified_ds.2022A.pkl",
     "seed": 1337,
     "test_k_factor": 2,
     "torch_default_dtype": "torch.float32",
     "train_k_factor": 5,
     "val_k_factor": 2,
     "x_net": [
      {
       "class": "nnReshape",
       "kargs": {
        "shape": [
         -1,
         1,
         2,
         256
        ]
       }
      },
      {
       "class": "Conv2d",
       "kargs": {
        "bias": false,
        "in_channels": 1,
        "kernel_size": [
         1,
         7
        ],
        "out_channels": 256,
        "padding": [
         0,
         3
        ]
       }
      },
      {
       "class": "ReLU",
       "kargs": {
        "inplace": true
       }
      },
      {
       "class": "BatchNorm2d",
       "kargs": {
        "num_features": 256
       }
      },
      {
       "class": "Conv2d",
       "kargs": {
        "bias": true,
        "in_channels": 256,
        "kernel_size": [
         2,
         7
        ],
        "out_channels": 80,
        "padding": [
         0,
         3
        ]
       }
      },
      {
       "class": "ReLU",
       "kargs": {
        "inplace": true
       }
      },
      {
       "class": "BatchNorm2d",
       "kargs": {
        "num_features": 80
       }
      },
      {
       "class": "Flatten",
       "kargs": {}
      },
      {
       "class": "Linear",
       "kargs": {
        "in_features": 20480,
        "out_features": 256
       }
      },
      {
       "class": "ReLU",
       "kargs": {
        "inplace": true
       }
      },
      {
       "class": "BatchNorm1d",
       "kargs": {
        "num_features": 256
       }
      },
      {
       "class": "Linear",
       "kargs": {
        "in_features": 256,
        "out_features": 256
       }
      }
     ],
     "x_transforms_source": [],
     "x_transforms_target": []
    }
   },
   "start_time": "2022-03-05T01:01:57.553569",
   "version": "2.3.4"
  }
 },
 "nbformat": 4,
 "nbformat_minor": 5
}