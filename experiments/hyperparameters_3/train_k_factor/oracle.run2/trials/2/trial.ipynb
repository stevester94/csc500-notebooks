{
 "cells": [
  {
   "cell_type": "markdown",
   "id": "9fea5f46",
   "metadata": {
    "papermill": {
     "duration": 0.014324,
     "end_time": "2022-03-05T00:50:45.791193",
     "exception": false,
     "start_time": "2022-03-05T00:50:45.776869",
     "status": "completed"
    },
    "tags": []
   },
   "source": [
    "# PTN Template\n",
    "This notebook serves as a template for single dataset PTN experiments  \n",
    "It can be run on its own by setting STANDALONE to True (do a find for \"STANDALONE\" to see where)  \n",
    "But it is intended to be executed as part of a *papermill.py script. See any of the   \n",
    "experimentes with a papermill script to get started with that workflow.  "
   ]
  },
  {
   "cell_type": "code",
   "execution_count": 1,
   "id": "0902182a",
   "metadata": {
    "execution": {
     "iopub.execute_input": "2022-03-05T00:50:45.822941Z",
     "iopub.status.busy": "2022-03-05T00:50:45.822549Z",
     "iopub.status.idle": "2022-03-05T00:50:46.588173Z",
     "shell.execute_reply": "2022-03-05T00:50:46.587663Z"
    },
    "papermill": {
     "duration": 0.788011,
     "end_time": "2022-03-05T00:50:46.588289",
     "exception": false,
     "start_time": "2022-03-05T00:50:45.800278",
     "status": "completed"
    },
    "tags": []
   },
   "outputs": [],
   "source": [
    "%load_ext autoreload\n",
    "%autoreload 2\n",
    "%matplotlib inline\n",
    "\n",
    "    \n",
    "import os, json, sys, time, random\n",
    "import numpy as np\n",
    "import torch\n",
    "from torch.optim import Adam\n",
    "from  easydict import EasyDict\n",
    "import matplotlib.pyplot as plt\n",
    "\n",
    "from steves_models.steves_ptn import Steves_Prototypical_Network\n",
    "\n",
    "from steves_utils.lazy_iterable_wrapper import Lazy_Iterable_Wrapper\n",
    "from steves_utils.iterable_aggregator import Iterable_Aggregator\n",
    "from steves_utils.ptn_train_eval_test_jig import  PTN_Train_Eval_Test_Jig\n",
    "from steves_utils.torch_sequential_builder import build_sequential\n",
    "from steves_utils.torch_utils import get_dataset_metrics, ptn_confusion_by_domain_over_dataloader\n",
    "from steves_utils.utils_v2 import (per_domain_accuracy_from_confusion, get_datasets_base_path)\n",
    "from steves_utils.PTN.utils import independent_accuracy_assesment\n",
    "\n",
    "from steves_utils.stratified_dataset.episodic_accessor import Episodic_Accessor_Factory\n",
    "\n",
    "from steves_utils.ptn_do_report import (\n",
    "    get_loss_curve,\n",
    "    get_results_table,\n",
    "    get_parameters_table,\n",
    "    get_domain_accuracies,\n",
    ")\n",
    "\n",
    "from steves_utils.transforms import get_chained_transform"
   ]
  },
  {
   "cell_type": "markdown",
   "id": "41c840b4",
   "metadata": {
    "papermill": {
     "duration": 0.009336,
     "end_time": "2022-03-05T00:50:46.612729",
     "exception": false,
     "start_time": "2022-03-05T00:50:46.603393",
     "status": "completed"
    },
    "tags": []
   },
   "source": [
    "# Required Parameters\n",
    "These are allowed parameters, not defaults\n",
    "Each of these values need to be present in the injected parameters (the notebook will raise an exception if they are not present)\n",
    "\n",
    "Papermill uses the cell tag \"parameters\" to inject the real parameters below this cell.\n",
    "Enable tags to see what I mean"
   ]
  },
  {
   "cell_type": "code",
   "execution_count": 2,
   "id": "fd44eb83",
   "metadata": {
    "execution": {
     "iopub.execute_input": "2022-03-05T00:50:46.635190Z",
     "iopub.status.busy": "2022-03-05T00:50:46.634927Z",
     "iopub.status.idle": "2022-03-05T00:50:46.648316Z",
     "shell.execute_reply": "2022-03-05T00:50:46.647889Z"
    },
    "papermill": {
     "duration": 0.026269,
     "end_time": "2022-03-05T00:50:46.648415",
     "exception": false,
     "start_time": "2022-03-05T00:50:46.622146",
     "status": "completed"
    },
    "tags": []
   },
   "outputs": [],
   "source": [
    "required_parameters = {\n",
    "    \"experiment_name\",\n",
    "    \"lr\",\n",
    "    \"device\",\n",
    "    \"seed\",\n",
    "    \"dataset_seed\",\n",
    "    \"labels_source\",\n",
    "    \"labels_target\",\n",
    "    \"domains_source\",\n",
    "    \"domains_target\",\n",
    "    \"num_examples_per_domain_per_label_source\",\n",
    "    \"num_examples_per_domain_per_label_target\",\n",
    "    \"n_shot\",\n",
    "    \"n_way\",\n",
    "    \"n_query\",\n",
    "    \"train_k_factor\",\n",
    "    \"val_k_factor\",\n",
    "    \"test_k_factor\",\n",
    "    \"n_epoch\",\n",
    "    \"patience\",\n",
    "    \"criteria_for_best\",\n",
    "    \"x_transforms_source\",\n",
    "    \"x_transforms_target\",\n",
    "    \"episode_transforms_source\",\n",
    "    \"episode_transforms_target\",\n",
    "    \"pickle_name\",\n",
    "    \"x_net\",\n",
    "    \"NUM_LOGS_PER_EPOCH\",\n",
    "    \"BEST_MODEL_PATH\",\n",
    "    \"torch_default_dtype\"\n",
    "}"
   ]
  },
  {
   "cell_type": "code",
   "execution_count": 3,
   "id": "fa3f0049",
   "metadata": {
    "execution": {
     "iopub.execute_input": "2022-03-05T00:50:46.683100Z",
     "iopub.status.busy": "2022-03-05T00:50:46.679376Z",
     "iopub.status.idle": "2022-03-05T00:50:46.691402Z",
     "shell.execute_reply": "2022-03-05T00:50:46.691783Z"
    },
    "papermill": {
     "duration": 0.030274,
     "end_time": "2022-03-05T00:50:46.691908",
     "exception": false,
     "start_time": "2022-03-05T00:50:46.661634",
     "status": "completed"
    },
    "tags": [
     "parameters"
    ]
   },
   "outputs": [],
   "source": [
    "\n",
    "\n",
    "standalone_parameters = {}\n",
    "standalone_parameters[\"experiment_name\"] = \"STANDALONE PTN\"\n",
    "standalone_parameters[\"lr\"] = 0.0001\n",
    "standalone_parameters[\"device\"] = \"cuda\"\n",
    "\n",
    "standalone_parameters[\"seed\"] = 1337\n",
    "standalone_parameters[\"dataset_seed\"] = 1337\n",
    "\n",
    "\n",
    "standalone_parameters[\"num_examples_per_domain_per_label_source\"]=100\n",
    "standalone_parameters[\"num_examples_per_domain_per_label_target\"]=100\n",
    "\n",
    "standalone_parameters[\"n_shot\"] = 3\n",
    "standalone_parameters[\"n_query\"]  = 2\n",
    "standalone_parameters[\"train_k_factor\"] = 1\n",
    "standalone_parameters[\"val_k_factor\"] = 2\n",
    "standalone_parameters[\"test_k_factor\"] = 2\n",
    "\n",
    "\n",
    "standalone_parameters[\"n_epoch\"] = 100\n",
    "\n",
    "standalone_parameters[\"patience\"] = 10\n",
    "standalone_parameters[\"criteria_for_best\"] = \"target_accuracy\"\n",
    "\n",
    "standalone_parameters[\"x_transforms_source\"] = [\"unit_power\"]\n",
    "standalone_parameters[\"x_transforms_target\"] = [\"unit_power\"]\n",
    "standalone_parameters[\"episode_transforms_source\"] = []\n",
    "standalone_parameters[\"episode_transforms_target\"] = []\n",
    "\n",
    "standalone_parameters[\"torch_default_dtype\"] = \"torch.float32\" \n",
    "\n",
    "\n",
    "\n",
    "standalone_parameters[\"x_net\"] =     [\n",
    "    {\"class\": \"nnReshape\", \"kargs\": {\"shape\":[-1, 1, 2, 256]}},\n",
    "    {\"class\": \"Conv2d\", \"kargs\": { \"in_channels\":1, \"out_channels\":256, \"kernel_size\":(1,7), \"bias\":False, \"padding\":(0,3), },},\n",
    "    {\"class\": \"ReLU\", \"kargs\": {\"inplace\": True}},\n",
    "    {\"class\": \"BatchNorm2d\", \"kargs\": {\"num_features\":256}},\n",
    "\n",
    "    {\"class\": \"Conv2d\", \"kargs\": { \"in_channels\":256, \"out_channels\":80, \"kernel_size\":(2,7), \"bias\":True, \"padding\":(0,3), },},\n",
    "    {\"class\": \"ReLU\", \"kargs\": {\"inplace\": True}},\n",
    "    {\"class\": \"BatchNorm2d\", \"kargs\": {\"num_features\":80}},\n",
    "    {\"class\": \"Flatten\", \"kargs\": {}},\n",
    "\n",
    "    {\"class\": \"Linear\", \"kargs\": {\"in_features\": 80*256, \"out_features\": 256}}, # 80 units per IQ pair\n",
    "    {\"class\": \"ReLU\", \"kargs\": {\"inplace\": True}},\n",
    "    {\"class\": \"BatchNorm1d\", \"kargs\": {\"num_features\":256}},\n",
    "\n",
    "    {\"class\": \"Linear\", \"kargs\": {\"in_features\": 256, \"out_features\": 256}},\n",
    "]\n",
    "\n",
    "# Parameters relevant to results\n",
    "# These parameters will basically never need to change\n",
    "standalone_parameters[\"NUM_LOGS_PER_EPOCH\"] = 10\n",
    "standalone_parameters[\"BEST_MODEL_PATH\"] = \"./best_model.pth\"\n",
    "\n",
    "# uncomment for CORES dataset\n",
    "from steves_utils.CORES.utils import (\n",
    "    ALL_NODES,\n",
    "    ALL_NODES_MINIMUM_1000_EXAMPLES,\n",
    "    ALL_DAYS\n",
    ")\n",
    "\n",
    "\n",
    "standalone_parameters[\"labels_source\"] = ALL_NODES\n",
    "standalone_parameters[\"labels_target\"] = ALL_NODES\n",
    "\n",
    "standalone_parameters[\"domains_source\"] = [1]\n",
    "standalone_parameters[\"domains_target\"] = [2,3,4,5]\n",
    "\n",
    "standalone_parameters[\"pickle_name\"] = \"cores.stratified_ds.2022A.pkl\"\n",
    "\n",
    "\n",
    "# Uncomment these for ORACLE dataset\n",
    "# from steves_utils.ORACLE.utils_v2 import (\n",
    "#     ALL_DISTANCES_FEET,\n",
    "#     ALL_RUNS,\n",
    "#     ALL_SERIAL_NUMBERS,\n",
    "# )\n",
    "# standalone_parameters[\"labels_source\"] = ALL_SERIAL_NUMBERS\n",
    "# standalone_parameters[\"labels_target\"] = ALL_SERIAL_NUMBERS\n",
    "# standalone_parameters[\"domains_source\"] = [8,20, 38,50]\n",
    "# standalone_parameters[\"domains_target\"] = [14, 26, 32, 44, 56]\n",
    "# standalone_parameters[\"pickle_name\"] = \"oracle.frame_indexed.stratified_ds.2022A.pkl\"\n",
    "# standalone_parameters[\"num_examples_per_domain_per_label_source\"]=1000\n",
    "# standalone_parameters[\"num_examples_per_domain_per_label_target\"]=1000\n",
    "\n",
    "# Uncomment these for Metahan dataset\n",
    "# standalone_parameters[\"labels_source\"] = list(range(19))\n",
    "# standalone_parameters[\"labels_target\"] = list(range(19))\n",
    "# standalone_parameters[\"domains_source\"] = [0]\n",
    "# standalone_parameters[\"domains_target\"] = [1]\n",
    "# standalone_parameters[\"pickle_name\"] = \"metehan.stratified_ds.2022A.pkl\"\n",
    "# standalone_parameters[\"n_way\"]  = len(standalone_parameters[\"labels_source\"])\n",
    "# standalone_parameters[\"num_examples_per_domain_per_label_source\"]=200\n",
    "# standalone_parameters[\"num_examples_per_domain_per_label_target\"]=100\n",
    "\n",
    "\n",
    "standalone_parameters[\"n_way\"]  = len(standalone_parameters[\"labels_source\"])"
   ]
  },
  {
   "cell_type": "code",
   "execution_count": 4,
   "id": "8aab4b9a",
   "metadata": {
    "execution": {
     "iopub.execute_input": "2022-03-05T00:50:46.726389Z",
     "iopub.status.busy": "2022-03-05T00:50:46.718762Z",
     "iopub.status.idle": "2022-03-05T00:50:46.736846Z",
     "shell.execute_reply": "2022-03-05T00:50:46.736429Z"
    },
    "papermill": {
     "duration": 0.029428,
     "end_time": "2022-03-05T00:50:46.736945",
     "exception": false,
     "start_time": "2022-03-05T00:50:46.707517",
     "status": "completed"
    },
    "tags": [
     "injected-parameters"
    ]
   },
   "outputs": [],
   "source": [
    "# Parameters\n",
    "parameters = {\n",
    "    \"experiment_name\": \"trainKFactor_oracle.run2\",\n",
    "    \"device\": \"cuda\",\n",
    "    \"lr\": 0.001,\n",
    "    \"seed\": 1337,\n",
    "    \"dataset_seed\": 1337,\n",
    "    \"labels_source\": [\n",
    "        \"3123D52\",\n",
    "        \"3123D65\",\n",
    "        \"3123D79\",\n",
    "        \"3123D80\",\n",
    "        \"3123D54\",\n",
    "        \"3123D70\",\n",
    "        \"3123D7B\",\n",
    "        \"3123D89\",\n",
    "        \"3123D58\",\n",
    "        \"3123D76\",\n",
    "        \"3123D7D\",\n",
    "        \"3123EFE\",\n",
    "        \"3123D64\",\n",
    "        \"3123D78\",\n",
    "        \"3123D7E\",\n",
    "        \"3124E4A\",\n",
    "    ],\n",
    "    \"labels_target\": [\n",
    "        \"3123D52\",\n",
    "        \"3123D65\",\n",
    "        \"3123D79\",\n",
    "        \"3123D80\",\n",
    "        \"3123D54\",\n",
    "        \"3123D70\",\n",
    "        \"3123D7B\",\n",
    "        \"3123D89\",\n",
    "        \"3123D58\",\n",
    "        \"3123D76\",\n",
    "        \"3123D7D\",\n",
    "        \"3123EFE\",\n",
    "        \"3123D64\",\n",
    "        \"3123D78\",\n",
    "        \"3123D7E\",\n",
    "        \"3124E4A\",\n",
    "    ],\n",
    "    \"x_transforms_source\": [],\n",
    "    \"x_transforms_target\": [],\n",
    "    \"episode_transforms_source\": [],\n",
    "    \"episode_transforms_target\": [],\n",
    "    \"num_examples_per_domain_per_label_source\": 1000,\n",
    "    \"num_examples_per_domain_per_label_target\": 1000,\n",
    "    \"n_shot\": 3,\n",
    "    \"n_way\": 16,\n",
    "    \"n_query\": 2,\n",
    "    \"val_k_factor\": 2,\n",
    "    \"test_k_factor\": 2,\n",
    "    \"torch_default_dtype\": \"torch.float32\",\n",
    "    \"n_epoch\": 50,\n",
    "    \"patience\": 3,\n",
    "    \"criteria_for_best\": \"target_loss\",\n",
    "    \"x_net\": [\n",
    "        {\"class\": \"nnReshape\", \"kargs\": {\"shape\": [-1, 1, 2, 256]}},\n",
    "        {\n",
    "            \"class\": \"Conv2d\",\n",
    "            \"kargs\": {\n",
    "                \"in_channels\": 1,\n",
    "                \"out_channels\": 256,\n",
    "                \"kernel_size\": [1, 7],\n",
    "                \"bias\": False,\n",
    "                \"padding\": [0, 3],\n",
    "            },\n",
    "        },\n",
    "        {\"class\": \"ReLU\", \"kargs\": {\"inplace\": True}},\n",
    "        {\"class\": \"BatchNorm2d\", \"kargs\": {\"num_features\": 256}},\n",
    "        {\n",
    "            \"class\": \"Conv2d\",\n",
    "            \"kargs\": {\n",
    "                \"in_channels\": 256,\n",
    "                \"out_channels\": 80,\n",
    "                \"kernel_size\": [2, 7],\n",
    "                \"bias\": True,\n",
    "                \"padding\": [0, 3],\n",
    "            },\n",
    "        },\n",
    "        {\"class\": \"ReLU\", \"kargs\": {\"inplace\": True}},\n",
    "        {\"class\": \"BatchNorm2d\", \"kargs\": {\"num_features\": 80}},\n",
    "        {\"class\": \"Flatten\", \"kargs\": {}},\n",
    "        {\"class\": \"Linear\", \"kargs\": {\"in_features\": 20480, \"out_features\": 256}},\n",
    "        {\"class\": \"ReLU\", \"kargs\": {\"inplace\": True}},\n",
    "        {\"class\": \"BatchNorm1d\", \"kargs\": {\"num_features\": 256}},\n",
    "        {\"class\": \"Linear\", \"kargs\": {\"in_features\": 256, \"out_features\": 256}},\n",
    "    ],\n",
    "    \"NUM_LOGS_PER_EPOCH\": 10,\n",
    "    \"BEST_MODEL_PATH\": \"./best_model.pth\",\n",
    "    \"pickle_name\": \"oracle.Run2_10kExamples_stratified_ds.2022A.pkl\",\n",
    "    \"train_k_factor\": 4,\n",
    "    \"domains_source\": [8, 32, 50],\n",
    "    \"domains_target\": [14, 20, 26, 38, 44],\n",
    "}\n"
   ]
  },
  {
   "cell_type": "code",
   "execution_count": 5,
   "id": "8fa1cc33",
   "metadata": {
    "execution": {
     "iopub.execute_input": "2022-03-05T00:50:46.764964Z",
     "iopub.status.busy": "2022-03-05T00:50:46.764711Z",
     "iopub.status.idle": "2022-03-05T00:50:46.775631Z",
     "shell.execute_reply": "2022-03-05T00:50:46.775260Z"
    },
    "papermill": {
     "duration": 0.024362,
     "end_time": "2022-03-05T00:50:46.775704",
     "exception": false,
     "start_time": "2022-03-05T00:50:46.751342",
     "status": "completed"
    },
    "tags": []
   },
   "outputs": [],
   "source": [
    "# Set this to True if you want to run this template directly\n",
    "STANDALONE = False\n",
    "if STANDALONE:\n",
    "    print(\"parameters not injected, running with standalone_parameters\")\n",
    "    parameters = standalone_parameters\n",
    "\n",
    "if not 'parameters' in locals() and not 'parameters' in globals():\n",
    "    raise Exception(\"Parameter injection failed\")\n",
    "\n",
    "#Use an easy dict for all the parameters\n",
    "p = EasyDict(parameters)\n",
    "\n",
    "supplied_keys = set(p.keys())\n",
    "\n",
    "if  supplied_keys != required_parameters:\n",
    "    print(\"Parameters are incorrect\")\n",
    "    if len(supplied_keys - required_parameters)>0: print(\"Shouldn't have:\", str(supplied_keys - required_parameters))\n",
    "    if len(required_parameters - supplied_keys)>0: print(\"Need to have:\", str(required_parameters - supplied_keys))\n",
    "    raise RuntimeError(\"Parameters are incorrect\")\n",
    "\n"
   ]
  },
  {
   "cell_type": "code",
   "execution_count": 6,
   "id": "3a028d58",
   "metadata": {
    "execution": {
     "iopub.execute_input": "2022-03-05T00:50:46.803051Z",
     "iopub.status.busy": "2022-03-05T00:50:46.801900Z",
     "iopub.status.idle": "2022-03-05T00:50:46.816289Z",
     "shell.execute_reply": "2022-03-05T00:50:46.815813Z"
    },
    "papermill": {
     "duration": 0.026632,
     "end_time": "2022-03-05T00:50:46.816385",
     "exception": false,
     "start_time": "2022-03-05T00:50:46.789753",
     "status": "completed"
    },
    "tags": []
   },
   "outputs": [],
   "source": [
    "###################################\n",
    "# Set the RNGs and make it all deterministic\n",
    "###################################\n",
    "np.random.seed(p.seed)\n",
    "random.seed(p.seed)\n",
    "torch.manual_seed(p.seed)\n",
    "\n",
    "torch.use_deterministic_algorithms(True) "
   ]
  },
  {
   "cell_type": "code",
   "execution_count": 7,
   "id": "b691acf6",
   "metadata": {
    "execution": {
     "iopub.execute_input": "2022-03-05T00:50:46.842838Z",
     "iopub.status.busy": "2022-03-05T00:50:46.842542Z",
     "iopub.status.idle": "2022-03-05T00:50:46.856079Z",
     "shell.execute_reply": "2022-03-05T00:50:46.855604Z"
    },
    "papermill": {
     "duration": 0.025237,
     "end_time": "2022-03-05T00:50:46.856176",
     "exception": false,
     "start_time": "2022-03-05T00:50:46.830939",
     "status": "completed"
    },
    "tags": []
   },
   "outputs": [],
   "source": [
    "###########################################\n",
    "# The stratified datasets honor this\n",
    "###########################################\n",
    "torch.set_default_dtype(eval(p.torch_default_dtype))"
   ]
  },
  {
   "cell_type": "code",
   "execution_count": 8,
   "id": "b5fba671",
   "metadata": {
    "execution": {
     "iopub.execute_input": "2022-03-05T00:50:46.882600Z",
     "iopub.status.busy": "2022-03-05T00:50:46.882350Z",
     "iopub.status.idle": "2022-03-05T00:50:46.920687Z",
     "shell.execute_reply": "2022-03-05T00:50:46.920246Z"
    },
    "papermill": {
     "duration": 0.050178,
     "end_time": "2022-03-05T00:50:46.920790",
     "exception": false,
     "start_time": "2022-03-05T00:50:46.870612",
     "status": "completed"
    },
    "tags": []
   },
   "outputs": [],
   "source": [
    "###################################\n",
    "# Build the network(s)\n",
    "# Note: It's critical to do this AFTER setting the RNG\n",
    "# (This is due to the randomized initial weights)\n",
    "###################################\n",
    "x_net = build_sequential(p.x_net)"
   ]
  },
  {
   "cell_type": "code",
   "execution_count": 9,
   "id": "5d7e61cc",
   "metadata": {
    "execution": {
     "iopub.execute_input": "2022-03-05T00:50:46.948121Z",
     "iopub.status.busy": "2022-03-05T00:50:46.947867Z",
     "iopub.status.idle": "2022-03-05T00:50:46.960964Z",
     "shell.execute_reply": "2022-03-05T00:50:46.960487Z"
    },
    "papermill": {
     "duration": 0.024856,
     "end_time": "2022-03-05T00:50:46.961063",
     "exception": false,
     "start_time": "2022-03-05T00:50:46.936207",
     "status": "completed"
    },
    "tags": []
   },
   "outputs": [],
   "source": [
    "start_time_secs = time.time()"
   ]
  },
  {
   "cell_type": "code",
   "execution_count": 10,
   "id": "fd5442bc",
   "metadata": {
    "execution": {
     "iopub.execute_input": "2022-03-05T00:50:46.993824Z",
     "iopub.status.busy": "2022-03-05T00:50:46.993448Z",
     "iopub.status.idle": "2022-03-05T00:50:50.301302Z",
     "shell.execute_reply": "2022-03-05T00:50:50.300846Z"
    },
    "papermill": {
     "duration": 3.325643,
     "end_time": "2022-03-05T00:50:50.301410",
     "exception": false,
     "start_time": "2022-03-05T00:50:46.975767",
     "status": "completed"
    },
    "tags": []
   },
   "outputs": [],
   "source": [
    "###################################\n",
    "# Build the dataset\n",
    "###################################\n",
    "\n",
    "if p.x_transforms_source == []: x_transform_source = None\n",
    "else: x_transform_source = get_chained_transform(p.x_transforms_source) \n",
    "\n",
    "if p.x_transforms_target == []: x_transform_target = None\n",
    "else: x_transform_target = get_chained_transform(p.x_transforms_target)\n",
    "\n",
    "if p.episode_transforms_source == []: episode_transform_source = None\n",
    "else: raise Exception(\"episode_transform_source not implemented\")\n",
    "\n",
    "if p.episode_transforms_target == []: episode_transform_target = None\n",
    "else: raise Exception(\"episode_transform_target not implemented\")\n",
    "\n",
    "\n",
    "eaf_source = Episodic_Accessor_Factory(\n",
    "    labels=p.labels_source,\n",
    "    domains=p.domains_source,\n",
    "    num_examples_per_domain_per_label=p.num_examples_per_domain_per_label_source,\n",
    "    iterator_seed=p.seed,\n",
    "    dataset_seed=p.dataset_seed,\n",
    "    n_shot=p.n_shot,\n",
    "    n_way=p.n_way,\n",
    "    n_query=p.n_query,\n",
    "    train_val_test_k_factors=(p.train_k_factor,p.val_k_factor,p.test_k_factor),\n",
    "    pickle_path=os.path.join(get_datasets_base_path(), p.pickle_name),\n",
    "    x_transform_func=x_transform_source,\n",
    "    example_transform_func=episode_transform_source,\n",
    "    \n",
    ")\n",
    "train_original_source, val_original_source, test_original_source = eaf_source.get_train(), eaf_source.get_val(), eaf_source.get_test()\n",
    "\n",
    "\n",
    "eaf_target = Episodic_Accessor_Factory(\n",
    "    labels=p.labels_target,\n",
    "    domains=p.domains_target,\n",
    "    num_examples_per_domain_per_label=p.num_examples_per_domain_per_label_target,\n",
    "    iterator_seed=p.seed,\n",
    "    dataset_seed=p.dataset_seed,\n",
    "    n_shot=p.n_shot,\n",
    "    n_way=p.n_way,\n",
    "    n_query=p.n_query,\n",
    "    train_val_test_k_factors=(p.train_k_factor,p.val_k_factor,p.test_k_factor),\n",
    "    pickle_path=os.path.join(get_datasets_base_path(), p.pickle_name),\n",
    "    x_transform_func=x_transform_target,\n",
    "    example_transform_func=episode_transform_target,\n",
    ")\n",
    "train_original_target, val_original_target, test_original_target = eaf_target.get_train(), eaf_target.get_val(), eaf_target.get_test()\n",
    "\n",
    "\n",
    "transform_lambda = lambda ex: ex[1] # Original is (<domain>, <episode>) so we strip down to episode only\n",
    "\n",
    "train_processed_source = Lazy_Iterable_Wrapper(train_original_source, transform_lambda)\n",
    "val_processed_source   = Lazy_Iterable_Wrapper(val_original_source, transform_lambda)\n",
    "test_processed_source  = Lazy_Iterable_Wrapper(test_original_source, transform_lambda)\n",
    "\n",
    "train_processed_target = Lazy_Iterable_Wrapper(train_original_target, transform_lambda)\n",
    "val_processed_target   = Lazy_Iterable_Wrapper(val_original_target, transform_lambda)\n",
    "test_processed_target  = Lazy_Iterable_Wrapper(test_original_target, transform_lambda)\n",
    "\n",
    "datasets = EasyDict({\n",
    "    \"source\": {\n",
    "        \"original\": {\"train\":train_original_source, \"val\":val_original_source, \"test\":test_original_source},\n",
    "        \"processed\": {\"train\":train_processed_source, \"val\":val_processed_source, \"test\":test_processed_source}\n",
    "    },\n",
    "    \"target\": {\n",
    "        \"original\": {\"train\":train_original_target, \"val\":val_original_target, \"test\":test_original_target},\n",
    "        \"processed\": {\"train\":train_processed_target, \"val\":val_processed_target, \"test\":test_processed_target}\n",
    "    },\n",
    "})"
   ]
  },
  {
   "cell_type": "code",
   "execution_count": 11,
   "id": "296189d9",
   "metadata": {
    "execution": {
     "iopub.execute_input": "2022-03-05T00:50:50.331102Z",
     "iopub.status.busy": "2022-03-05T00:50:50.330383Z",
     "iopub.status.idle": "2022-03-05T00:50:51.897429Z",
     "shell.execute_reply": "2022-03-05T00:50:51.897151Z"
    },
    "papermill": {
     "duration": 1.581226,
     "end_time": "2022-03-05T00:50:51.897509",
     "exception": false,
     "start_time": "2022-03-05T00:50:50.316283",
     "status": "completed"
    },
    "tags": []
   },
   "outputs": [
    {
     "name": "stdout",
     "output_type": "stream",
     "text": [
      "Visually inspect these to see if they line up with expected values given the transforms\n",
      "x_transforms_source []\n",
      "x_transforms_target []\n",
      "Average magnitude, source: 0.004635015\n",
      "Average power, source: 2.8574976e-05\n"
     ]
    },
    {
     "name": "stdout",
     "output_type": "stream",
     "text": [
      "Average magnitude, target: 0.0029128897\n",
      "Average power, target: 1.0910343e-05\n"
     ]
    }
   ],
   "source": [
    "# Some quick unit tests on the data\n",
    "from steves_utils.transforms import get_average_power, get_average_magnitude\n",
    "\n",
    "q_x, q_y, s_x, s_y, truth = next(iter(train_processed_source))\n",
    "\n",
    "assert q_x.dtype == eval(p.torch_default_dtype)\n",
    "assert s_x.dtype == eval(p.torch_default_dtype)\n",
    "\n",
    "print(\"Visually inspect these to see if they line up with expected values given the transforms\")\n",
    "print('x_transforms_source', p.x_transforms_source)\n",
    "print('x_transforms_target', p.x_transforms_target)\n",
    "print(\"Average magnitude, source:\", get_average_magnitude(q_x[0].numpy()))\n",
    "print(\"Average power, source:\", get_average_power(q_x[0].numpy()))\n",
    "\n",
    "q_x, q_y, s_x, s_y, truth = next(iter(train_processed_target))\n",
    "print(\"Average magnitude, target:\", get_average_magnitude(q_x[0].numpy()))\n",
    "print(\"Average power, target:\", get_average_power(q_x[0].numpy()))\n"
   ]
  },
  {
   "cell_type": "code",
   "execution_count": 12,
   "id": "bbdacba1",
   "metadata": {
    "execution": {
     "iopub.execute_input": "2022-03-05T00:50:51.925537Z",
     "iopub.status.busy": "2022-03-05T00:50:51.925119Z",
     "iopub.status.idle": "2022-03-05T00:50:51.986115Z",
     "shell.execute_reply": "2022-03-05T00:50:51.985616Z"
    },
    "papermill": {
     "duration": 0.074897,
     "end_time": "2022-03-05T00:50:51.986220",
     "exception": false,
     "start_time": "2022-03-05T00:50:51.911323",
     "status": "completed"
    },
    "tags": []
   },
   "outputs": [
    {
     "name": "stdout",
     "output_type": "stream",
     "text": [
      "(2, 256)\n"
     ]
    }
   ],
   "source": [
    "###################################\n",
    "# Build the model\n",
    "###################################\n",
    "model = Steves_Prototypical_Network(x_net, device=p.device, x_shape=(2,256))\n",
    "optimizer = Adam(params=model.parameters(), lr=p.lr)"
   ]
  },
  {
   "cell_type": "code",
   "execution_count": 13,
   "id": "22b39ac5",
   "metadata": {
    "execution": {
     "iopub.execute_input": "2022-03-05T00:50:52.013994Z",
     "iopub.status.busy": "2022-03-05T00:50:52.013737Z",
     "iopub.status.idle": "2022-03-05T00:56:12.175694Z",
     "shell.execute_reply": "2022-03-05T00:56:12.175228Z"
    },
    "papermill": {
     "duration": 320.174478,
     "end_time": "2022-03-05T00:56:12.175795",
     "exception": false,
     "start_time": "2022-03-05T00:50:52.001317",
     "status": "completed"
    },
    "tags": []
   },
   "outputs": [
    {
     "name": "stdout",
     "output_type": "stream",
     "text": [
      "epoch: 1, [batch: 1 / 1680], examples_per_second: 186.3776, train_label_loss: 2.3325, \n"
     ]
    },
    {
     "name": "stdout",
     "output_type": "stream",
     "text": [
      "epoch: 1, [batch: 168 / 1680], examples_per_second: 3188.9578, train_label_loss: 1.2338, \n"
     ]
    },
    {
     "name": "stdout",
     "output_type": "stream",
     "text": [
      "epoch: 1, [batch: 336 / 1680], examples_per_second: 3212.9121, train_label_loss: 1.2664, \n"
     ]
    },
    {
     "name": "stdout",
     "output_type": "stream",
     "text": [
      "epoch: 1, [batch: 504 / 1680], examples_per_second: 3194.4232, train_label_loss: 1.1587, \n"
     ]
    },
    {
     "name": "stdout",
     "output_type": "stream",
     "text": [
      "epoch: 1, [batch: 672 / 1680], examples_per_second: 3205.1023, train_label_loss: 1.1909, \n"
     ]
    },
    {
     "name": "stdout",
     "output_type": "stream",
     "text": [
      "epoch: 1, [batch: 840 / 1680], examples_per_second: 3153.0373, train_label_loss: 1.2517, \n"
     ]
    },
    {
     "name": "stdout",
     "output_type": "stream",
     "text": [
      "epoch: 1, [batch: 1008 / 1680], examples_per_second: 3189.7997, train_label_loss: 1.2010, \n"
     ]
    },
    {
     "name": "stdout",
     "output_type": "stream",
     "text": [
      "epoch: 1, [batch: 1176 / 1680], examples_per_second: 3201.5951, train_label_loss: 1.0891, \n"
     ]
    },
    {
     "name": "stdout",
     "output_type": "stream",
     "text": [
      "epoch: 1, [batch: 1344 / 1680], examples_per_second: 3201.2693, train_label_loss: 0.9397, \n"
     ]
    },
    {
     "name": "stdout",
     "output_type": "stream",
     "text": [
      "epoch: 1, [batch: 1512 / 1680], examples_per_second: 3215.7036, train_label_loss: 1.3494, \n"
     ]
    },
    {
     "name": "stdout",
     "output_type": "stream",
     "text": [
      "=============================================================\n",
      "epoch: 1, source_val_acc_label: 0.6903, target_val_acc_label: 0.5499, source_val_label_loss: 1.2057, target_val_label_loss: 1.4684, \n",
      "=============================================================\n"
     ]
    },
    {
     "name": "stdout",
     "output_type": "stream",
     "text": [
      "New best\n"
     ]
    },
    {
     "name": "stdout",
     "output_type": "stream",
     "text": [
      "epoch: 2, [batch: 1 / 1680], examples_per_second: 18.8644, train_label_loss: 1.4376, \n"
     ]
    },
    {
     "name": "stdout",
     "output_type": "stream",
     "text": [
      "epoch: 2, [batch: 168 / 1680], examples_per_second: 3228.1042, train_label_loss: 0.6842, \n"
     ]
    },
    {
     "name": "stdout",
     "output_type": "stream",
     "text": [
      "epoch: 2, [batch: 336 / 1680], examples_per_second: 3221.6831, train_label_loss: 0.6871, \n"
     ]
    },
    {
     "name": "stdout",
     "output_type": "stream",
     "text": [
      "epoch: 2, [batch: 504 / 1680], examples_per_second: 3209.4366, train_label_loss: 0.7647, \n"
     ]
    },
    {
     "name": "stdout",
     "output_type": "stream",
     "text": [
      "epoch: 2, [batch: 672 / 1680], examples_per_second: 3213.1053, train_label_loss: 0.6228, \n"
     ]
    },
    {
     "name": "stdout",
     "output_type": "stream",
     "text": [
      "epoch: 2, [batch: 840 / 1680], examples_per_second: 3149.3872, train_label_loss: 0.5537, \n"
     ]
    },
    {
     "name": "stdout",
     "output_type": "stream",
     "text": [
      "epoch: 2, [batch: 1008 / 1680], examples_per_second: 3106.2993, train_label_loss: 0.3583, \n"
     ]
    },
    {
     "name": "stdout",
     "output_type": "stream",
     "text": [
      "epoch: 2, [batch: 1176 / 1680], examples_per_second: 3165.1634, train_label_loss: 0.6058, \n"
     ]
    },
    {
     "name": "stdout",
     "output_type": "stream",
     "text": [
      "epoch: 2, [batch: 1344 / 1680], examples_per_second: 3258.6576, train_label_loss: 0.3890, \n"
     ]
    },
    {
     "name": "stdout",
     "output_type": "stream",
     "text": [
      "epoch: 2, [batch: 1512 / 1680], examples_per_second: 3274.4691, train_label_loss: 0.4105, \n"
     ]
    },
    {
     "name": "stdout",
     "output_type": "stream",
     "text": [
      "=============================================================\n",
      "epoch: 2, source_val_acc_label: 0.7720, target_val_acc_label: 0.6242, source_val_label_loss: 0.6242, target_val_label_loss: 1.1911, \n",
      "=============================================================\n"
     ]
    },
    {
     "name": "stdout",
     "output_type": "stream",
     "text": [
      "New best\n"
     ]
    },
    {
     "name": "stdout",
     "output_type": "stream",
     "text": [
      "epoch: 3, [batch: 1 / 1680], examples_per_second: 18.9376, train_label_loss: 0.6521, \n"
     ]
    },
    {
     "name": "stdout",
     "output_type": "stream",
     "text": [
      "epoch: 3, [batch: 168 / 1680], examples_per_second: 3251.4992, train_label_loss: 0.5220, \n"
     ]
    },
    {
     "name": "stdout",
     "output_type": "stream",
     "text": [
      "epoch: 3, [batch: 336 / 1680], examples_per_second: 3254.0580, train_label_loss: 0.6559, \n"
     ]
    },
    {
     "name": "stdout",
     "output_type": "stream",
     "text": [
      "epoch: 3, [batch: 504 / 1680], examples_per_second: 3243.7282, train_label_loss: 0.4193, \n"
     ]
    },
    {
     "name": "stdout",
     "output_type": "stream",
     "text": [
      "epoch: 3, [batch: 672 / 1680], examples_per_second: 3265.8758, train_label_loss: 0.5517, \n"
     ]
    },
    {
     "name": "stdout",
     "output_type": "stream",
     "text": [
      "epoch: 3, [batch: 840 / 1680], examples_per_second: 3246.0272, train_label_loss: 0.4320, \n"
     ]
    },
    {
     "name": "stdout",
     "output_type": "stream",
     "text": [
      "epoch: 3, [batch: 1008 / 1680], examples_per_second: 3297.0393, train_label_loss: 0.2668, \n"
     ]
    },
    {
     "name": "stdout",
     "output_type": "stream",
     "text": [
      "epoch: 3, [batch: 1176 / 1680], examples_per_second: 3250.8161, train_label_loss: 0.4490, \n"
     ]
    },
    {
     "name": "stdout",
     "output_type": "stream",
     "text": [
      "epoch: 3, [batch: 1344 / 1680], examples_per_second: 3245.5325, train_label_loss: 0.3610, \n"
     ]
    },
    {
     "name": "stdout",
     "output_type": "stream",
     "text": [
      "epoch: 3, [batch: 1512 / 1680], examples_per_second: 3265.5767, train_label_loss: 0.5353, \n"
     ]
    },
    {
     "name": "stdout",
     "output_type": "stream",
     "text": [
      "=============================================================\n",
      "epoch: 3, source_val_acc_label: 0.7910, target_val_acc_label: 0.6382, source_val_label_loss: 0.5682, target_val_label_loss: 1.1729, \n",
      "=============================================================\n"
     ]
    },
    {
     "name": "stdout",
     "output_type": "stream",
     "text": [
      "New best\n"
     ]
    },
    {
     "name": "stdout",
     "output_type": "stream",
     "text": [
      "epoch: 4, [batch: 1 / 1680], examples_per_second: 18.9247, train_label_loss: 0.1641, \n"
     ]
    },
    {
     "name": "stdout",
     "output_type": "stream",
     "text": [
      "epoch: 4, [batch: 168 / 1680], examples_per_second: 3259.0008, train_label_loss: 0.6211, \n"
     ]
    },
    {
     "name": "stdout",
     "output_type": "stream",
     "text": [
      "epoch: 4, [batch: 336 / 1680], examples_per_second: 3265.1537, train_label_loss: 0.5324, \n"
     ]
    },
    {
     "name": "stdout",
     "output_type": "stream",
     "text": [
      "epoch: 4, [batch: 504 / 1680], examples_per_second: 3244.5273, train_label_loss: 0.2766, \n"
     ]
    },
    {
     "name": "stdout",
     "output_type": "stream",
     "text": [
      "epoch: 4, [batch: 672 / 1680], examples_per_second: 3253.8099, train_label_loss: 0.3015, \n"
     ]
    },
    {
     "name": "stdout",
     "output_type": "stream",
     "text": [
      "epoch: 4, [batch: 840 / 1680], examples_per_second: 3254.0664, train_label_loss: 0.5292, \n"
     ]
    },
    {
     "name": "stdout",
     "output_type": "stream",
     "text": [
      "epoch: 4, [batch: 1008 / 1680], examples_per_second: 3268.1219, train_label_loss: 0.3646, \n"
     ]
    },
    {
     "name": "stdout",
     "output_type": "stream",
     "text": [
      "epoch: 4, [batch: 1176 / 1680], examples_per_second: 3250.7913, train_label_loss: 0.6274, \n"
     ]
    },
    {
     "name": "stdout",
     "output_type": "stream",
     "text": [
      "epoch: 4, [batch: 1344 / 1680], examples_per_second: 3254.4258, train_label_loss: 0.2345, \n"
     ]
    },
    {
     "name": "stdout",
     "output_type": "stream",
     "text": [
      "epoch: 4, [batch: 1512 / 1680], examples_per_second: 3259.9311, train_label_loss: 0.2235, \n"
     ]
    },
    {
     "name": "stdout",
     "output_type": "stream",
     "text": [
      "=============================================================\n",
      "epoch: 4, source_val_acc_label: 0.7969, target_val_acc_label: 0.6343, source_val_label_loss: 0.5831, target_val_label_loss: 1.4649, \n",
      "=============================================================\n"
     ]
    },
    {
     "name": "stdout",
     "output_type": "stream",
     "text": [
      "epoch: 5, [batch: 1 / 1680], examples_per_second: 19.0818, train_label_loss: 0.1828, \n"
     ]
    },
    {
     "name": "stdout",
     "output_type": "stream",
     "text": [
      "epoch: 5, [batch: 168 / 1680], examples_per_second: 3270.6051, train_label_loss: 0.3245, \n"
     ]
    },
    {
     "name": "stdout",
     "output_type": "stream",
     "text": [
      "epoch: 5, [batch: 336 / 1680], examples_per_second: 3271.5300, train_label_loss: 0.4054, \n"
     ]
    },
    {
     "name": "stdout",
     "output_type": "stream",
     "text": [
      "epoch: 5, [batch: 504 / 1680], examples_per_second: 3255.7696, train_label_loss: 0.6456, \n"
     ]
    },
    {
     "name": "stdout",
     "output_type": "stream",
     "text": [
      "epoch: 5, [batch: 672 / 1680], examples_per_second: 3243.4287, train_label_loss: 0.0994, \n"
     ]
    },
    {
     "name": "stdout",
     "output_type": "stream",
     "text": [
      "epoch: 5, [batch: 840 / 1680], examples_per_second: 3241.9851, train_label_loss: 0.2593, \n"
     ]
    },
    {
     "name": "stdout",
     "output_type": "stream",
     "text": [
      "epoch: 5, [batch: 1008 / 1680], examples_per_second: 3257.1615, train_label_loss: 0.1225, \n"
     ]
    },
    {
     "name": "stdout",
     "output_type": "stream",
     "text": [
      "epoch: 5, [batch: 1176 / 1680], examples_per_second: 3260.0344, train_label_loss: 0.0481, \n"
     ]
    },
    {
     "name": "stdout",
     "output_type": "stream",
     "text": [
      "epoch: 5, [batch: 1344 / 1680], examples_per_second: 3253.7319, train_label_loss: 0.2906, \n"
     ]
    },
    {
     "name": "stdout",
     "output_type": "stream",
     "text": [
      "epoch: 5, [batch: 1512 / 1680], examples_per_second: 3255.4975, train_label_loss: 0.2585, \n"
     ]
    },
    {
     "name": "stdout",
     "output_type": "stream",
     "text": [
      "=============================================================\n",
      "epoch: 5, source_val_acc_label: 0.7951, target_val_acc_label: 0.6407, source_val_label_loss: 0.5926, target_val_label_loss: 1.3041, \n",
      "=============================================================\n"
     ]
    },
    {
     "name": "stdout",
     "output_type": "stream",
     "text": [
      "epoch: 6, [batch: 1 / 1680], examples_per_second: 19.0226, train_label_loss: 0.1172, \n"
     ]
    },
    {
     "name": "stdout",
     "output_type": "stream",
     "text": [
      "epoch: 6, [batch: 168 / 1680], examples_per_second: 3263.9536, train_label_loss: 0.1686, \n"
     ]
    },
    {
     "name": "stdout",
     "output_type": "stream",
     "text": [
      "epoch: 6, [batch: 336 / 1680], examples_per_second: 3265.0968, train_label_loss: 0.5550, \n"
     ]
    },
    {
     "name": "stdout",
     "output_type": "stream",
     "text": [
      "epoch: 6, [batch: 504 / 1680], examples_per_second: 3250.7385, train_label_loss: 0.2175, \n"
     ]
    },
    {
     "name": "stdout",
     "output_type": "stream",
     "text": [
      "epoch: 6, [batch: 672 / 1680], examples_per_second: 3261.5366, train_label_loss: 0.2581, \n"
     ]
    },
    {
     "name": "stdout",
     "output_type": "stream",
     "text": [
      "epoch: 6, [batch: 840 / 1680], examples_per_second: 3256.5373, train_label_loss: 0.1507, \n"
     ]
    },
    {
     "name": "stdout",
     "output_type": "stream",
     "text": [
      "epoch: 6, [batch: 1008 / 1680], examples_per_second: 3260.2554, train_label_loss: 0.1908, \n"
     ]
    },
    {
     "name": "stdout",
     "output_type": "stream",
     "text": [
      "epoch: 6, [batch: 1176 / 1680], examples_per_second: 3267.0090, train_label_loss: 0.3788, \n"
     ]
    },
    {
     "name": "stdout",
     "output_type": "stream",
     "text": [
      "epoch: 6, [batch: 1344 / 1680], examples_per_second: 3215.4182, train_label_loss: 0.2377, \n"
     ]
    },
    {
     "name": "stdout",
     "output_type": "stream",
     "text": [
      "epoch: 6, [batch: 1512 / 1680], examples_per_second: 3248.5218, train_label_loss: 0.3213, \n"
     ]
    },
    {
     "name": "stdout",
     "output_type": "stream",
     "text": [
      "=============================================================\n",
      "epoch: 6, source_val_acc_label: 0.7943, target_val_acc_label: 0.6419, source_val_label_loss: 0.6225, target_val_label_loss: 1.3737, \n",
      "=============================================================\n"
     ]
    },
    {
     "name": "stdout",
     "output_type": "stream",
     "text": [
      "epoch: 7, [batch: 1 / 1680], examples_per_second: 19.2416, train_label_loss: 0.4518, \n"
     ]
    },
    {
     "name": "stdout",
     "output_type": "stream",
     "text": [
      "epoch: 7, [batch: 168 / 1680], examples_per_second: 3234.6486, train_label_loss: 0.4707, \n"
     ]
    },
    {
     "name": "stdout",
     "output_type": "stream",
     "text": [
      "epoch: 7, [batch: 336 / 1680], examples_per_second: 3222.1240, train_label_loss: 0.4282, \n"
     ]
    },
    {
     "name": "stdout",
     "output_type": "stream",
     "text": [
      "epoch: 7, [batch: 504 / 1680], examples_per_second: 3235.2171, train_label_loss: 0.2024, \n"
     ]
    },
    {
     "name": "stdout",
     "output_type": "stream",
     "text": [
      "epoch: 7, [batch: 672 / 1680], examples_per_second: 3264.2235, train_label_loss: 0.1210, \n"
     ]
    },
    {
     "name": "stdout",
     "output_type": "stream",
     "text": [
      "epoch: 7, [batch: 840 / 1680], examples_per_second: 3215.7159, train_label_loss: 0.0755, \n"
     ]
    },
    {
     "name": "stdout",
     "output_type": "stream",
     "text": [
      "epoch: 7, [batch: 1008 / 1680], examples_per_second: 3264.3208, train_label_loss: 0.1496, \n"
     ]
    },
    {
     "name": "stdout",
     "output_type": "stream",
     "text": [
      "epoch: 7, [batch: 1176 / 1680], examples_per_second: 3261.3698, train_label_loss: 0.1725, \n"
     ]
    },
    {
     "name": "stdout",
     "output_type": "stream",
     "text": [
      "epoch: 7, [batch: 1344 / 1680], examples_per_second: 3251.5779, train_label_loss: 0.2918, \n"
     ]
    },
    {
     "name": "stdout",
     "output_type": "stream",
     "text": [
      "epoch: 7, [batch: 1512 / 1680], examples_per_second: 3266.9802, train_label_loss: 0.0135, \n"
     ]
    },
    {
     "name": "stdout",
     "output_type": "stream",
     "text": [
      "=============================================================\n",
      "epoch: 7, source_val_acc_label: 0.7944, target_val_acc_label: 0.6416, source_val_label_loss: 0.6317, target_val_label_loss: 1.4248, \n",
      "=============================================================\n"
     ]
    },
    {
     "name": "stdout",
     "output_type": "stream",
     "text": [
      "Patience (3) exhausted\n"
     ]
    }
   ],
   "source": [
    "###################################\n",
    "# train\n",
    "###################################\n",
    "jig = PTN_Train_Eval_Test_Jig(model, p.BEST_MODEL_PATH, p.device)\n",
    "\n",
    "jig.train(\n",
    "    train_iterable=datasets.source.processed.train,\n",
    "    source_val_iterable=datasets.source.processed.val,\n",
    "    target_val_iterable=datasets.target.processed.val,\n",
    "    num_epochs=p.n_epoch,\n",
    "    num_logs_per_epoch=p.NUM_LOGS_PER_EPOCH,\n",
    "    patience=p.patience,\n",
    "    optimizer=optimizer,\n",
    "    criteria_for_best=p.criteria_for_best,\n",
    ")"
   ]
  },
  {
   "cell_type": "code",
   "execution_count": 14,
   "id": "31e8fabf",
   "metadata": {
    "execution": {
     "iopub.execute_input": "2022-03-05T00:56:12.232334Z",
     "iopub.status.busy": "2022-03-05T00:56:12.232081Z",
     "iopub.status.idle": "2022-03-05T00:56:12.246247Z",
     "shell.execute_reply": "2022-03-05T00:56:12.245856Z"
    },
    "papermill": {
     "duration": 0.041166,
     "end_time": "2022-03-05T00:56:12.246339",
     "exception": false,
     "start_time": "2022-03-05T00:56:12.205173",
     "status": "completed"
    },
    "tags": []
   },
   "outputs": [],
   "source": [
    "total_experiment_time_secs = time.time() - start_time_secs"
   ]
  },
  {
   "cell_type": "code",
   "execution_count": 15,
   "id": "87b9595b",
   "metadata": {
    "execution": {
     "iopub.execute_input": "2022-03-05T00:56:12.304049Z",
     "iopub.status.busy": "2022-03-05T00:56:12.300052Z",
     "iopub.status.idle": "2022-03-05T00:56:39.861164Z",
     "shell.execute_reply": "2022-03-05T00:56:39.861398Z"
    },
    "papermill": {
     "duration": 27.587096,
     "end_time": "2022-03-05T00:56:39.861482",
     "exception": false,
     "start_time": "2022-03-05T00:56:12.274386",
     "status": "completed"
    },
    "tags": []
   },
   "outputs": [],
   "source": [
    "###################################\n",
    "# Evaluate the model\n",
    "###################################\n",
    "source_test_label_accuracy, source_test_label_loss = jig.test(datasets.source.processed.test)\n",
    "target_test_label_accuracy, target_test_label_loss = jig.test(datasets.target.processed.test)\n",
    "\n",
    "source_val_label_accuracy, source_val_label_loss = jig.test(datasets.source.processed.val)\n",
    "target_val_label_accuracy, target_val_label_loss = jig.test(datasets.target.processed.val)\n",
    "\n",
    "history = jig.get_history()\n",
    "\n",
    "total_epochs_trained = len(history[\"epoch_indices\"])\n",
    "\n",
    "val_dl = Iterable_Aggregator((datasets.source.original.val,datasets.target.original.val))\n",
    "\n",
    "confusion = ptn_confusion_by_domain_over_dataloader(model, p.device, val_dl)\n",
    "per_domain_accuracy = per_domain_accuracy_from_confusion(confusion)\n",
    "\n",
    "# Add a key to per_domain_accuracy for if it was a source domain\n",
    "for domain, accuracy in per_domain_accuracy.items():\n",
    "    per_domain_accuracy[domain] = {\n",
    "        \"accuracy\": accuracy,\n",
    "        \"source?\": domain in p.domains_source\n",
    "    }\n",
    "\n",
    "# Do an independent accuracy assesment JUST TO BE SURE!\n",
    "# _source_test_label_accuracy = independent_accuracy_assesment(model, datasets.source.processed.test, p.device)\n",
    "# _target_test_label_accuracy = independent_accuracy_assesment(model, datasets.target.processed.test, p.device)\n",
    "# _source_val_label_accuracy = independent_accuracy_assesment(model, datasets.source.processed.val, p.device)\n",
    "# _target_val_label_accuracy = independent_accuracy_assesment(model, datasets.target.processed.val, p.device)\n",
    "\n",
    "# assert(_source_test_label_accuracy == source_test_label_accuracy)\n",
    "# assert(_target_test_label_accuracy == target_test_label_accuracy)\n",
    "# assert(_source_val_label_accuracy == source_val_label_accuracy)\n",
    "# assert(_target_val_label_accuracy == target_val_label_accuracy)\n",
    "\n",
    "experiment = {\n",
    "    \"experiment_name\": p.experiment_name,\n",
    "    \"parameters\": dict(p),\n",
    "    \"results\": {\n",
    "        \"source_test_label_accuracy\": source_test_label_accuracy,\n",
    "        \"source_test_label_loss\": source_test_label_loss,\n",
    "        \"target_test_label_accuracy\": target_test_label_accuracy,\n",
    "        \"target_test_label_loss\": target_test_label_loss,\n",
    "        \"source_val_label_accuracy\": source_val_label_accuracy,\n",
    "        \"source_val_label_loss\": source_val_label_loss,\n",
    "        \"target_val_label_accuracy\": target_val_label_accuracy,\n",
    "        \"target_val_label_loss\": target_val_label_loss,\n",
    "        \"total_epochs_trained\": total_epochs_trained,\n",
    "        \"total_experiment_time_secs\": total_experiment_time_secs,\n",
    "        \"confusion\": confusion,\n",
    "        \"per_domain_accuracy\": per_domain_accuracy,\n",
    "    },\n",
    "    \"history\": history,\n",
    "    \"dataset_metrics\": get_dataset_metrics(datasets, \"ptn\"),\n",
    "}"
   ]
  },
  {
   "cell_type": "code",
   "execution_count": 16,
   "id": "54a21829",
   "metadata": {
    "execution": {
     "iopub.execute_input": "2022-03-05T00:56:39.915078Z",
     "iopub.status.busy": "2022-03-05T00:56:39.914819Z",
     "iopub.status.idle": "2022-03-05T00:56:40.099800Z",
     "shell.execute_reply": "2022-03-05T00:56:40.100209Z"
    },
    "papermill": {
     "duration": 0.213192,
     "end_time": "2022-03-05T00:56:40.100343",
     "exception": false,
     "start_time": "2022-03-05T00:56:39.887151",
     "status": "completed"
    },
    "tags": []
   },
   "outputs": [
    {
     "data": {
      "image/png": "[encoded data removed]",
      "text/plain": [
       "<Figure size 1080x504 with 1 Axes>"
      ]
     },
     "metadata": {
      "needs_background": "light"
     },
     "output_type": "display_data"
    }
   ],
   "source": [
    "ax = get_loss_curve(experiment)\n",
    "plt.show()"
   ]
  },
  {
   "cell_type": "code",
   "execution_count": 17,
   "id": "fd8a0f60",
   "metadata": {
    "execution": {
     "iopub.execute_input": "2022-03-05T00:56:40.157561Z",
     "iopub.status.busy": "2022-03-05T00:56:40.157304Z",
     "iopub.status.idle": "2022-03-05T00:56:40.410791Z",
     "shell.execute_reply": "2022-03-05T00:56:40.411151Z"
    },
    "papermill": {
     "duration": 0.281702,
     "end_time": "2022-03-05T00:56:40.411273",
     "exception": false,
     "start_time": "2022-03-05T00:56:40.129571",
     "status": "completed"
    },
    "tags": []
   },
   "outputs": [
    {
     "data": {
      "text/plain": [
       "<matplotlib.axes._subplots.AxesSubplot at 0x7f426c77e730>"
      ]
     },
     "execution_count": 17,
     "metadata": {},
     "output_type": "execute_result"
    },
    {
     "data": {
      "image/png": "[encoded data removed]",
      "text/plain": [
       "<Figure size 1080x504 with 1 Axes>"
      ]
     },
     "metadata": {
      "needs_background": "light"
     },
     "output_type": "display_data"
    }
   ],
   "source": [
    "get_results_table(experiment)"
   ]
  },
  {
   "cell_type": "code",
   "execution_count": 18,
   "id": "cf8dc689",
   "metadata": {
    "execution": {
     "iopub.execute_input": "2022-03-05T00:56:40.475532Z",
     "iopub.status.busy": "2022-03-05T00:56:40.475270Z",
     "iopub.status.idle": "2022-03-05T00:56:40.654740Z",
     "shell.execute_reply": "2022-03-05T00:56:40.655145Z"
    },
    "papermill": {
     "duration": 0.209454,
     "end_time": "2022-03-05T00:56:40.655277",
     "exception": false,
     "start_time": "2022-03-05T00:56:40.445823",
     "status": "completed"
    },
    "tags": []
   },
   "outputs": [
    {
     "data": {
      "text/plain": [
       "<matplotlib.axes._subplots.AxesSubplot at 0x7f426c76c5b0>"
      ]
     },
     "execution_count": 18,
     "metadata": {},
     "output_type": "execute_result"
    },
    {
     "data": {
      "image/png": "[encoded data removed]",
      "text/plain": [
       "<Figure size 1080x504 with 1 Axes>"
      ]
     },
     "metadata": {
      "needs_background": "light"
     },
     "output_type": "display_data"
    }
   ],
   "source": [
    "get_domain_accuracies(experiment)"
   ]
  },
  {
   "cell_type": "code",
   "execution_count": 19,
   "id": "a74ae082",
   "metadata": {
    "execution": {
     "iopub.execute_input": "2022-03-05T00:56:40.716842Z",
     "iopub.status.busy": "2022-03-05T00:56:40.715961Z",
     "iopub.status.idle": "2022-03-05T00:56:40.730370Z",
     "shell.execute_reply": "2022-03-05T00:56:40.730577Z"
    },
    "papermill": {
     "duration": 0.043801,
     "end_time": "2022-03-05T00:56:40.730652",
     "exception": false,
     "start_time": "2022-03-05T00:56:40.686851",
     "status": "completed"
    },
    "tags": []
   },
   "outputs": [
    {
     "name": "stdout",
     "output_type": "stream",
     "text": [
      "Source Test Label Accuracy: 0.7965277777777777 Target Test Label Accuracy: 0.6345833333333334\n",
      "Source Val Label Accuracy: 0.7909722222222222 Target Val Label Accuracy: 0.6382291666666666\n"
     ]
    }
   ],
   "source": [
    "print(\"Source Test Label Accuracy:\", experiment[\"results\"][\"source_test_label_accuracy\"], \"Target Test Label Accuracy:\", experiment[\"results\"][\"target_test_label_accuracy\"])\n",
    "print(\"Source Val Label Accuracy:\", experiment[\"results\"][\"source_val_label_accuracy\"], \"Target Val Label Accuracy:\", experiment[\"results\"][\"target_val_label_accuracy\"])"
   ]
  },
  {
   "cell_type": "code",
   "execution_count": 20,
   "id": "dacca602",
   "metadata": {
    "execution": {
     "iopub.execute_input": "2022-03-05T00:56:40.789492Z",
     "iopub.status.busy": "2022-03-05T00:56:40.789088Z",
     "iopub.status.idle": "2022-03-05T00:56:40.799997Z",
     "shell.execute_reply": "2022-03-05T00:56:40.800201Z"
    },
    "papermill": {
     "duration": 0.040765,
     "end_time": "2022-03-05T00:56:40.800274",
     "exception": false,
     "start_time": "2022-03-05T00:56:40.759509",
     "status": "completed"
    },
    "tags": [
     "experiment_json"
    ]
   },
   "outputs": [
    {
     "data": {
      "text/plain": [
       "'{\"experiment_name\": \"trainKFactor_oracle.run2\", \"parameters\": {\"experiment_name\": \"trainKFactor_oracle.run2\", \"device\": \"cuda\", \"lr\": 0.001, \"seed\": 1337, \"dataset_seed\": 1337, \"labels_source\": [\"3123D52\", \"3123D65\", \"3123D79\", \"3123D80\", \"3123D54\", \"3123D70\", \"3123D7B\", \"3123D89\", \"3123D58\", \"3123D76\", \"3123D7D\", \"3123EFE\", \"3123D64\", \"3123D78\", \"3123D7E\", \"3124E4A\"], \"labels_target\": [\"3123D52\", \"3123D65\", \"3123D79\", \"3123D80\", \"3123D54\", \"3123D70\", \"3123D7B\", \"3123D89\", \"3123D58\", \"3123D76\", \"3123D7D\", \"3123EFE\", \"3123D64\", \"3123D78\", \"3123D7E\", \"3124E4A\"], \"x_transforms_source\": [], \"x_transforms_target\": [], \"episode_transforms_source\": [], \"episode_transforms_target\": [], \"num_examples_per_domain_per_label_source\": 1000, \"num_examples_per_domain_per_label_target\": 1000, \"n_shot\": 3, \"n_way\": 16, \"n_query\": 2, \"val_k_factor\": 2, \"test_k_factor\": 2, \"torch_default_dtype\": \"torch.float32\", \"n_epoch\": 50, \"patience\": 3, \"criteria_for_best\": \"target_loss\", \"x_net\": [{\"class\": \"nnReshape\", \"kargs\": {\"shape\": [-1, 1, 2, 256]}}, {\"class\": \"Conv2d\", \"kargs\": {\"in_channels\": 1, \"out_channels\": 256, \"kernel_size\": [1, 7], \"bias\": false, \"padding\": [0, 3]}}, {\"class\": \"ReLU\", \"kargs\": {\"inplace\": true}}, {\"class\": \"BatchNorm2d\", \"kargs\": {\"num_features\": 256}}, {\"class\": \"Conv2d\", \"kargs\": {\"in_channels\": 256, \"out_channels\": 80, \"kernel_size\": [2, 7], \"bias\": true, \"padding\": [0, 3]}}, {\"class\": \"ReLU\", \"kargs\": {\"inplace\": true}}, {\"class\": \"BatchNorm2d\", \"kargs\": {\"num_features\": 80}}, {\"class\": \"Flatten\", \"kargs\": {}}, {\"class\": \"Linear\", \"kargs\": {\"in_features\": 20480, \"out_features\": 256}}, {\"class\": \"ReLU\", \"kargs\": {\"inplace\": true}}, {\"class\": \"BatchNorm1d\", \"kargs\": {\"num_features\": 256}}, {\"class\": \"Linear\", \"kargs\": {\"in_features\": 256, \"out_features\": 256}}], \"NUM_LOGS_PER_EPOCH\": 10, \"BEST_MODEL_PATH\": \"./best_model.pth\", \"pickle_name\": \"oracle.Run2_10kExamples_stratified_ds.2022A.pkl\", \"train_k_factor\": 4, \"domains_source\": [8, 32, 50], \"domains_target\": [14, 20, 26, 38, 44]}, \"results\": {\"source_test_label_accuracy\": 0.7965277777777777, \"source_test_label_loss\": 0.5599184036254883, \"target_test_label_accuracy\": 0.6345833333333334, \"target_test_label_loss\": 1.204289436340332, \"source_val_label_accuracy\": 0.7909722222222222, \"source_val_label_loss\": 0.5682364106178284, \"target_val_label_accuracy\": 0.6382291666666666, \"target_val_label_loss\": 1.1728918552398682, \"total_epochs_trained\": 7, \"total_experiment_time_secs\": 325.2853727340698, \"confusion\": {\"8\": {\"15\": {\"15\": 111, \"12\": 7, \"2\": 2}, \"3\": {\"3\": 120}, \"6\": {\"6\": 58, \"11\": 4, \"14\": 36, \"8\": 18, \"4\": 4}, \"1\": {\"5\": 16, \"1\": 73, \"13\": 5, \"6\": 1, \"4\": 12, \"10\": 8, \"14\": 5}, \"8\": {\"6\": 24, \"8\": 79, \"11\": 12, \"4\": 3, \"14\": 2}, \"10\": {\"10\": 68, \"13\": 13, \"1\": 5, \"5\": 33, \"7\": 1}, \"9\": {\"9\": 120}, \"13\": {\"13\": 76, \"10\": 31, \"7\": 8, \"5\": 3, \"4\": 1, \"1\": 1}, \"12\": {\"12\": 110, \"15\": 9, \"2\": 1}, \"5\": {\"5\": 68, \"10\": 25, \"1\": 21, \"4\": 1, \"13\": 5}, \"0\": {\"0\": 120}, \"2\": {\"2\": 116, \"15\": 3, \"12\": 1}, \"11\": {\"11\": 79, \"8\": 34, \"7\": 2, \"6\": 4, \"12\": 1}, \"14\": {\"14\": 87, \"6\": 28, \"8\": 2, \"1\": 1, \"4\": 2}, \"7\": {\"4\": 30, \"7\": 71, \"1\": 6, \"10\": 3, \"13\": 1, \"11\": 7, \"8\": 2}, \"4\": {\"4\": 64, \"14\": 1, \"6\": 6, \"8\": 10, \"1\": 13, \"7\": 25, \"10\": 1}}, \"50\": {\"3\": {\"3\": 120}, \"15\": {\"15\": 103, \"4\": 2, \"12\": 6, \"6\": 6, \"9\": 3}, \"8\": {\"8\": 120}, \"4\": {\"5\": 19, \"4\": 92, \"7\": 5, \"15\": 4}, \"14\": {\"14\": 120}, \"0\": {\"2\": 14, \"0\": 94, \"10\": 12}, \"7\": {\"7\": 109, \"4\": 10, \"5\": 1}, \"6\": {\"6\": 94, \"15\": 8, \"5\": 17, \"4\": 1}, \"10\": {\"10\": 113, \"0\": 6, \"13\": 1}, \"5\": {\"4\": 27, \"5\": 70, \"7\": 11, \"6\": 12}, \"2\": {\"2\": 114, \"0\": 6}, \"12\": {\"11\": 20, \"12\": 89, \"15\": 4, \"9\": 5, \"6\": 2}, \"9\": {\"9\": 109, \"15\": 7, \"12\": 4}, \"1\": {\"1\": 111, \"11\": 4, \"13\": 5}, \"11\": {\"12\": 19, \"11\": 101}, \"13\": {\"13\": 116, \"1\": 4}}, \"32\": {\"5\": {\"5\": 101, \"15\": 12, \"7\": 2, \"2\": 2, \"14\": 3}, \"8\": {\"8\": 76, \"0\": 11, \"2\": 2, \"7\": 31}, \"11\": {\"13\": 31, \"4\": 36, \"11\": 50, \"0\": 2, \"3\": 1}, \"1\": {\"1\": 120}, \"10\": {\"10\": 120}, \"15\": {\"15\": 114, \"5\": 4, \"7\": 1, \"8\": 1}, \"3\": {\"3\": 111, \"13\": 6, \"11\": 1, \"4\": 2}, \"7\": {\"8\": 30, \"0\": 23, \"7\": 43, \"2\": 21, \"4\": 1, \"15\": 1, \"5\": 1}, \"4\": {\"4\": 95, \"11\": 21, \"3\": 2, \"2\": 1, \"0\": 1}, \"14\": {\"14\": 62, \"2\": 50, \"7\": 4, \"0\": 2, \"8\": 1, \"5\": 1}, \"9\": {\"9\": 119, \"12\": 1}, \"12\": {\"12\": 118, \"9\": 2}, \"6\": {\"6\": 120}, \"2\": {\"2\": 57, \"0\": 15, \"14\": 34, \"7\": 13, \"5\": 1}, \"0\": {\"0\": 63, \"7\": 26, \"8\": 8, \"2\": 8, \"4\": 8, \"14\": 6, \"11\": 1}, \"13\": {\"13\": 92, \"4\": 4, \"11\": 14, \"3\": 10}}, \"14\": {\"15\": {\"15\": 120}, \"3\": {\"3\": 109, \"14\": 1, \"10\": 1, \"5\": 1, \"6\": 4, \"13\": 1, \"2\": 3}, \"6\": {\"6\": 75, \"13\": 32, \"3\": 9, \"7\": 3, \"2\": 1}, \"1\": {\"1\": 120}, \"8\": {\"8\": 89, \"10\": 21, \"0\": 10}, \"10\": {\"0\": 22, \"5\": 6, \"3\": 6, \"8\": 40, \"10\": 41, \"12\": 3, \"4\": 2}, \"9\": {\"9\": 115, \"0\": 3, \"12\": 2}, \"13\": {\"13\": 77, \"6\": 40, \"7\": 3}, \"12\": {\"12\": 38, \"9\": 20, \"15\": 24, \"3\": 10, \"8\": 15, \"6\": 1, \"10\": 7, \"4\": 1, \"11\": 4}, \"5\": {\"2\": 15, \"5\": 63, \"14\": 33, \"4\": 4, \"10\": 1, \"3\": 1, \"7\": 3}, \"0\": {\"0\": 81, \"10\": 9, \"8\": 21, \"4\": 8, \"9\": 1}, \"2\": {\"7\": 27, \"2\": 35, \"5\": 27, \"14\": 20, \"6\": 2, \"4\": 2, \"3\": 7}, \"11\": {\"11\": 120}, \"14\": {\"2\": 18, \"14\": 45, \"5\": 40, \"3\": 7, \"7\": 8, \"10\": 2}, \"7\": {\"7\": 97, \"2\": 13, \"14\": 5, \"13\": 2, \"5\": 1, \"6\": 2}, \"4\": {\"4\": 105, \"0\": 7, \"5\": 6, \"14\": 1, \"2\": 1}}, \"20\": {\"3\": {\"2\": 10, \"3\": 33, \"4\": 22, \"7\": 19, \"9\": 15, \"15\": 7, \"5\": 10, \"1\": 3, \"10\": 1}, \"15\": {\"13\": 12, \"9\": 21, \"4\": 11, \"5\": 8, \"7\": 4, \"15\": 33, \"3\": 10, \"1\": 7, \"12\": 8, \"2\": 4, \"10\": 2}, \"8\": {\"11\": 42, \"14\": 29, \"8\": 46, \"5\": 1, \"0\": 2}, \"4\": {\"12\": 3, \"15\": 18, \"4\": 22, \"7\": 24, \"3\": 17, \"13\": 1, \"2\": 9, \"9\": 12, \"5\": 7, \"10\": 5, \"1\": 2}, \"14\": {\"14\": 74, \"8\": 28, \"3\": 2, \"5\": 3, \"2\": 2, \"1\": 2, \"11\": 8, \"4\": 1}, \"0\": {\"0\": 98, \"11\": 10, \"5\": 1, \"8\": 4, \"14\": 1, \"1\": 6}, \"7\": {\"7\": 45, \"10\": 9, \"3\": 18, \"4\": 19, \"6\": 10, \"9\": 6, \"2\": 3, \"5\": 2, \"15\": 6, \"12\": 2}, \"6\": {\"6\": 95, \"7\": 9, \"10\": 16}, \"10\": {\"7\": 12, \"10\": 67, \"6\": 26, \"13\": 3, \"12\": 10, \"3\": 2}, \"5\": {\"4\": 10, \"1\": 21, \"5\": 32, \"3\": 18, \"7\": 4, \"9\": 10, \"2\": 18, \"15\": 5, \"11\": 1, \"8\": 1}, \"2\": {\"5\": 20, \"2\": 25, \"9\": 22, \"3\": 17, \"1\": 7, \"4\": 14, \"15\": 9, \"13\": 1, \"7\": 2, \"12\": 2, \"6\": 1}, \"12\": {\"13\": 54, \"12\": 57, \"10\": 4, \"3\": 2, \"4\": 1, \"15\": 2}, \"9\": {\"12\": 4, \"4\": 14, \"3\": 14, \"2\": 25, \"15\": 21, \"1\": 5, \"9\": 16, \"7\": 4, \"5\": 15, \"13\": 2}, \"1\": {\"1\": 81, \"9\": 7, \"5\": 19, \"2\": 4, \"8\": 1, \"15\": 4, \"11\": 2, \"0\": 2}, \"11\": {\"11\": 50, \"14\": 16, \"8\": 39, \"0\": 14, \"1\": 1}, \"13\": {\"13\": 52, \"10\": 3, \"12\": 51, \"4\": 5, \"15\": 8, \"9\": 1}}, \"44\": {\"5\": {\"5\": 73, \"14\": 16, \"15\": 21, \"8\": 10}, \"8\": {\"8\": 80, \"0\": 22, \"5\": 15, \"15\": 3}, \"11\": {\"11\": 120}, \"1\": {\"1\": 104, \"2\": 13, \"12\": 3}, \"10\": {\"10\": 116, \"7\": 4}, \"15\": {\"15\": 85, \"5\": 18, \"14\": 4, \"8\": 11, \"0\": 2}, \"3\": {\"3\": 101, \"12\": 15, \"2\": 1, \"1\": 3}, \"7\": {\"7\": 77, \"9\": 34, \"6\": 7, \"10\": 2}, \"4\": {\"14\": 21, \"4\": 98, \"9\": 1}, \"14\": {\"14\": 89, \"4\": 18, \"5\": 13}, \"9\": {\"9\": 84, \"7\": 33, \"6\": 2, \"13\": 1}, \"12\": {\"12\": 107, \"3\": 13}, \"6\": {\"6\": 110, \"7\": 3, \"13\": 5, \"10\": 1, \"9\": 1}, \"2\": {\"2\": 91, \"1\": 29}, \"0\": {\"0\": 94, \"8\": 22, \"15\": 3, \"5\": 1}, \"13\": {\"13\": 113, \"6\": 4, \"4\": 3}}, \"38\": {\"14\": {\"2\": 43, \"14\": 60, \"13\": 2, \"7\": 10, \"5\": 1, \"4\": 2, \"8\": 2}, \"0\": {\"0\": 108, \"7\": 12}, \"13\": {\"10\": 26, \"3\": 20, \"13\": 70, \"4\": 4}, \"7\": {\"7\": 101, \"0\": 14, \"14\": 3, \"8\": 1, \"4\": 1}, \"9\": {\"9\": 111, \"5\": 7, \"8\": 2}, \"3\": {\"13\": 31, \"10\": 29, \"3\": 42, \"4\": 14, \"11\": 4}, \"11\": {\"11\": 120}, \"6\": {\"6\": 107, \"15\": 12, \"1\": 1}, \"8\": {\"12\": 9, \"8\": 93, \"5\": 13, \"9\": 3, \"7\": 2}, \"4\": {\"3\": 13, \"4\": 80, \"10\": 21, \"7\": 3, \"0\": 1, \"13\": 2}, \"5\": {\"5\": 37, \"8\": 35, \"9\": 10, \"12\": 38}, \"10\": {\"4\": 25, \"3\": 23, \"10\": 67, \"13\": 5}, \"1\": {\"1\": 102, \"6\": 1, \"15\": 17}, \"2\": {\"2\": 110, \"14\": 10}, \"15\": {\"15\": 58, \"1\": 34, \"9\": 1, \"6\": 26, \"5\": 1}, \"12\": {\"12\": 74, \"5\": 36, \"8\": 7, \"2\": 1, \"9\": 1, \"14\": 1}}, \"26\": {\"13\": {\"13\": 88, \"7\": 14, \"2\": 1, \"9\": 15, \"8\": 2}, \"2\": {\"2\": 51, \"7\": 12, \"8\": 28, \"9\": 12, \"15\": 11, \"13\": 1, \"3\": 3, \"0\": 2}, \"8\": {\"8\": 40, \"2\": 31, \"0\": 5, \"9\": 22, \"15\": 9, \"13\": 6, \"10\": 4, \"7\": 3}, \"9\": {\"8\": 28, \"13\": 19, \"2\": 17, \"9\": 44, \"15\": 1, \"12\": 3, \"7\": 6, \"10\": 1, \"0\": 1}, \"12\": {\"12\": 120}, \"4\": {\"4\": 115, \"3\": 5}, \"3\": {\"3\": 78, \"7\": 32, \"4\": 2, \"2\": 6, \"13\": 1, \"9\": 1}, \"15\": {\"15\": 62, \"0\": 28, \"8\": 9, \"2\": 6, \"14\": 6, \"9\": 2, \"10\": 7}, \"14\": {\"0\": 14, \"14\": 50, \"15\": 8, \"5\": 11, \"10\": 22, \"6\": 6, \"1\": 9}, \"10\": {\"15\": 16, \"10\": 24, \"6\": 9, \"0\": 25, \"13\": 2, \"8\": 8, \"1\": 6, \"14\": 17, \"2\": 2, \"5\": 6, \"9\": 5}, \"7\": {\"9\": 6, \"7\": 68, \"13\": 6, \"3\": 30, \"2\": 7, \"8\": 3}, \"11\": {\"11\": 120}, \"6\": {\"5\": 45, \"6\": 66, \"1\": 5, \"14\": 4}, \"1\": {\"1\": 91, \"5\": 14, \"14\": 10, \"6\": 5}, \"5\": {\"14\": 16, \"1\": 21, \"6\": 47, \"10\": 7, \"5\": 29}, \"0\": {\"0\": 43, \"10\": 25, \"15\": 26, \"14\": 16, \"2\": 4, \"6\": 1, \"9\": 3, \"8\": 2}}}, \"per_domain_accuracy\": {\"8\": {\"accuracy\": 0.7395833333333334, \"source?\": true}, \"50\": {\"accuracy\": 0.8723958333333334, \"source?\": true}, \"32\": {\"accuracy\": 0.7609375, \"source?\": true}, \"14\": {\"accuracy\": 0.6927083333333334, \"source?\": false}, \"20\": {\"accuracy\": 0.43020833333333336, \"source?\": false}, \"44\": {\"accuracy\": 0.803125, \"source?\": false}, \"38\": {\"accuracy\": 0.6979166666666666, \"source?\": false}, \"26\": {\"accuracy\": 0.5671875, \"source?\": false}}}, \"history\": {\"epoch_indices\": [1, 2, 3, 4, 5, 6, 7], \"train_label_loss\": [1.088521762609127, 0.597298590297855, 0.41996913400944325, 0.341818619727911, 0.2932521411622431, 0.2638736551491699, 0.23037243367781185], \"source_val_label_loss\": [1.2057394981384277, 0.624244749546051, 0.5682364106178284, 0.5831460952758789, 0.5926342010498047, 0.6224863529205322, 0.6317430138587952], \"target_val_label_loss\": [1.4683632850646973, 1.191147804260254, 1.1728918552398682, 1.4649314880371094, 1.304126262664795, 1.3737448453903198, 1.4247807264328003], \"source_val_acc_label\": [0.6902777777777778, 0.7720486111111111, 0.7909722222222222, 0.796875, 0.7951388888888888, 0.7942708333333334, 0.7944444444444444], \"target_val_acc_label\": [0.5498958333333334, 0.6241666666666666, 0.6382291666666666, 0.6342708333333333, 0.6407291666666667, 0.641875, 0.6415625]}, \"dataset_metrics\": {\"source\": {\"train\": {\"n_unique_x\": 33600, \"n_unique_y\": 16, \"n_batch/episode\": 1680}, \"val\": {\"n_unique_x\": 7200, \"n_unique_y\": 16, \"n_batch/episode\": 180}, \"test\": {\"n_unique_x\": 7200, \"n_unique_y\": 16, \"n_batch/episode\": 180}}, \"target\": {\"train\": {\"n_unique_x\": 56000, \"n_unique_y\": 16, \"n_batch/episode\": 2800}, \"val\": {\"n_unique_x\": 12000, \"n_unique_y\": 16, \"n_batch/episode\": 300}, \"test\": {\"n_unique_x\": 12000, \"n_unique_y\": 16, \"n_batch/episode\": 300}}}}'"
      ]
     },
     "execution_count": 20,
     "metadata": {},
     "output_type": "execute_result"
    }
   ],
   "source": [
    "json.dumps(experiment)"
   ]
  }
 ],
 "metadata": {
  "celltoolbar": "Tags",
  "kernelspec": {
   "display_name": "Python 3 (ipykernel)",
   "language": "python",
   "name": "python3"
  },
  "language_info": {
   "codemirror_mode": {
    "name": "ipython",
    "version": 3
   },
   "file_extension": ".py",
   "mimetype": "text/x-python",
   "name": "python",
   "nbconvert_exporter": "python",
   "pygments_lexer": "ipython3",
   "version": "3.8.10"
  },
  "papermill": {
   "default_parameters": {},
   "duration": 356.191217,
   "end_time": "2022-03-05T00:56:41.434975",
   "environment_variables": {},
   "exception": null,
   "input_path": "/mnt/wd500GB/CSC500/csc500-main/csc500-notebooks/templates/ptn_template.ipynb",
   "output_path": "trial.ipynb",
   "parameters": {
    "parameters": {
     "BEST_MODEL_PATH": "./best_model.pth",
     "NUM_LOGS_PER_EPOCH": 10,
     "criteria_for_best": "target_loss",
     "dataset_seed": 1337,
     "device": "cuda",
     "domains_source": [
      8,
      32,
      50
     ],
     "domains_target": [
      14,
      20,
      26,
      38,
      44
     ],
     "episode_transforms_source": [],
     "episode_transforms_target": [],
     "experiment_name": "trainKFactor_oracle.run2",
     "labels_source": [
      "3123D52",
      "3123D65",
      "3123D79",
      "3123D80",
      "3123D54",
      "3123D70",
      "3123D7B",
      "3123D89",
      "3123D58",
      "3123D76",
      "3123D7D",
      "3123EFE",
      "3123D64",
      "3123D78",
      "3123D7E",
      "3124E4A"
     ],
     "labels_target": [
      "3123D52",
      "3123D65",
      "3123D79",
      "3123D80",
      "3123D54",
      "3123D70",
      "3123D7B",
      "3123D89",
      "3123D58",
      "3123D76",
      "3123D7D",
      "3123EFE",
      "3123D64",
      "3123D78",
      "3123D7E",
      "3124E4A"
     ],
     "lr": 0.001,
     "n_epoch": 50,
     "n_query": 2,
     "n_shot": 3,
     "n_way": 16,
     "num_examples_per_domain_per_label_source": 1000,
     "num_examples_per_domain_per_label_target": 1000,
     "patience": 3,
     "pickle_name": "oracle.Run2_10kExamples_stratified_ds.2022A.pkl",
     "seed": 1337,
     "test_k_factor": 2,
     "torch_default_dtype": "torch.float32",
     "train_k_factor": 4,
     "val_k_factor": 2,
     "x_net": [
      {
       "class": "nnReshape",
       "kargs": {
        "shape": [
         -1,
         1,
         2,
         256
        ]
       }
      },
      {
       "class": "Conv2d",
       "kargs": {
        "bias": false,
        "in_channels": 1,
        "kernel_size": [
         1,
         7
        ],
        "out_channels": 256,
        "padding": [
         0,
         3
        ]
       }
      },
      {
       "class": "ReLU",
       "kargs": {
        "inplace": true
       }
      },
      {
       "class": "BatchNorm2d",
       "kargs": {
        "num_features": 256
       }
      },
      {
       "class": "Conv2d",
       "kargs": {
        "bias": true,
        "in_channels": 256,
        "kernel_size": [
         2,
         7
        ],
        "out_channels": 80,
        "padding": [
         0,
         3
        ]
       }
      },
      {
       "class": "ReLU",
       "kargs": {
        "inplace": true
       }
      },
      {
       "class": "BatchNorm2d",
       "kargs": {
        "num_features": 80
       }
      },
      {
       "class": "Flatten",
       "kargs": {}
      },
      {
       "class": "Linear",
       "kargs": {
        "in_features": 20480,
        "out_features": 256
       }
      },
      {
       "class": "ReLU",
       "kargs": {
        "inplace": true
       }
      },
      {
       "class": "BatchNorm1d",
       "kargs": {
        "num_features": 256
       }
      },
      {
       "class": "Linear",
       "kargs": {
        "in_features": 256,
        "out_features": 256
       }
      }
     ],
     "x_transforms_source": [],
     "x_transforms_target": []
    }
   },
   "start_time": "2022-03-05T00:50:45.243758",
   "version": "2.3.4"
  }
 },
 "nbformat": 4,
 "nbformat_minor": 5
}