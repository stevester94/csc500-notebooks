{
 "cells": [
  {
   "cell_type": "markdown",
   "id": "9fea5f46",
   "metadata": {
    "papermill": {
     "duration": 0.013268,
     "end_time": "2022-03-05T00:56:42.108950",
     "exception": false,
     "start_time": "2022-03-05T00:56:42.095682",
     "status": "completed"
    },
    "tags": []
   },
   "source": [
    "# PTN Template\n",
    "This notebook serves as a template for single dataset PTN experiments  \n",
    "It can be run on its own by setting STANDALONE to True (do a find for \"STANDALONE\" to see where)  \n",
    "But it is intended to be executed as part of a *papermill.py script. See any of the   \n",
    "experimentes with a papermill script to get started with that workflow.  "
   ]
  },
  {
   "cell_type": "code",
   "execution_count": 1,
   "id": "0902182a",
   "metadata": {
    "execution": {
     "iopub.execute_input": "2022-03-05T00:56:42.134297Z",
     "iopub.status.busy": "2022-03-05T00:56:42.134023Z",
     "iopub.status.idle": "2022-03-05T00:56:42.879028Z",
     "shell.execute_reply": "2022-03-05T00:56:42.878453Z"
    },
    "papermill": {
     "duration": 0.760957,
     "end_time": "2022-03-05T00:56:42.879146",
     "exception": false,
     "start_time": "2022-03-05T00:56:42.118189",
     "status": "completed"
    },
    "tags": []
   },
   "outputs": [],
   "source": [
    "%load_ext autoreload\n",
    "%autoreload 2\n",
    "%matplotlib inline\n",
    "\n",
    "    \n",
    "import os, json, sys, time, random\n",
    "import numpy as np\n",
    "import torch\n",
    "from torch.optim import Adam\n",
    "from  easydict import EasyDict\n",
    "import matplotlib.pyplot as plt\n",
    "\n",
    "from steves_models.steves_ptn import Steves_Prototypical_Network\n",
    "\n",
    "from steves_utils.lazy_iterable_wrapper import Lazy_Iterable_Wrapper\n",
    "from steves_utils.iterable_aggregator import Iterable_Aggregator\n",
    "from steves_utils.ptn_train_eval_test_jig import  PTN_Train_Eval_Test_Jig\n",
    "from steves_utils.torch_sequential_builder import build_sequential\n",
    "from steves_utils.torch_utils import get_dataset_metrics, ptn_confusion_by_domain_over_dataloader\n",
    "from steves_utils.utils_v2 import (per_domain_accuracy_from_confusion, get_datasets_base_path)\n",
    "from steves_utils.PTN.utils import independent_accuracy_assesment\n",
    "\n",
    "from steves_utils.stratified_dataset.episodic_accessor import Episodic_Accessor_Factory\n",
    "\n",
    "from steves_utils.ptn_do_report import (\n",
    "    get_loss_curve,\n",
    "    get_results_table,\n",
    "    get_parameters_table,\n",
    "    get_domain_accuracies,\n",
    ")\n",
    "\n",
    "from steves_utils.transforms import get_chained_transform"
   ]
  },
  {
   "cell_type": "markdown",
   "id": "41c840b4",
   "metadata": {
    "papermill": {
     "duration": 0.009076,
     "end_time": "2022-03-05T00:56:42.903836",
     "exception": false,
     "start_time": "2022-03-05T00:56:42.894760",
     "status": "completed"
    },
    "tags": []
   },
   "source": [
    "# Required Parameters\n",
    "These are allowed parameters, not defaults\n",
    "Each of these values need to be present in the injected parameters (the notebook will raise an exception if they are not present)\n",
    "\n",
    "Papermill uses the cell tag \"parameters\" to inject the real parameters below this cell.\n",
    "Enable tags to see what I mean"
   ]
  },
  {
   "cell_type": "code",
   "execution_count": 2,
   "id": "fd44eb83",
   "metadata": {
    "execution": {
     "iopub.execute_input": "2022-03-05T00:56:42.925005Z",
     "iopub.status.busy": "2022-03-05T00:56:42.924744Z",
     "iopub.status.idle": "2022-03-05T00:56:42.939306Z",
     "shell.execute_reply": "2022-03-05T00:56:42.938940Z"
    },
    "papermill": {
     "duration": 0.026543,
     "end_time": "2022-03-05T00:56:42.939384",
     "exception": false,
     "start_time": "2022-03-05T00:56:42.912841",
     "status": "completed"
    },
    "tags": []
   },
   "outputs": [],
   "source": [
    "required_parameters = {\n",
    "    \"experiment_name\",\n",
    "    \"lr\",\n",
    "    \"device\",\n",
    "    \"seed\",\n",
    "    \"dataset_seed\",\n",
    "    \"labels_source\",\n",
    "    \"labels_target\",\n",
    "    \"domains_source\",\n",
    "    \"domains_target\",\n",
    "    \"num_examples_per_domain_per_label_source\",\n",
    "    \"num_examples_per_domain_per_label_target\",\n",
    "    \"n_shot\",\n",
    "    \"n_way\",\n",
    "    \"n_query\",\n",
    "    \"train_k_factor\",\n",
    "    \"val_k_factor\",\n",
    "    \"test_k_factor\",\n",
    "    \"n_epoch\",\n",
    "    \"patience\",\n",
    "    \"criteria_for_best\",\n",
    "    \"x_transforms_source\",\n",
    "    \"x_transforms_target\",\n",
    "    \"episode_transforms_source\",\n",
    "    \"episode_transforms_target\",\n",
    "    \"pickle_name\",\n",
    "    \"x_net\",\n",
    "    \"NUM_LOGS_PER_EPOCH\",\n",
    "    \"BEST_MODEL_PATH\",\n",
    "    \"torch_default_dtype\"\n",
    "}"
   ]
  },
  {
   "cell_type": "code",
   "execution_count": 3,
   "id": "fa3f0049",
   "metadata": {
    "execution": {
     "iopub.execute_input": "2022-03-05T00:56:42.967968Z",
     "iopub.status.busy": "2022-03-05T00:56:42.967686Z",
     "iopub.status.idle": "2022-03-05T00:56:42.978044Z",
     "shell.execute_reply": "2022-03-05T00:56:42.978346Z"
    },
    "papermill": {
     "duration": 0.025401,
     "end_time": "2022-03-05T00:56:42.978443",
     "exception": false,
     "start_time": "2022-03-05T00:56:42.953042",
     "status": "completed"
    },
    "tags": [
     "parameters"
    ]
   },
   "outputs": [],
   "source": [
    "\n",
    "\n",
    "standalone_parameters = {}\n",
    "standalone_parameters[\"experiment_name\"] = \"STANDALONE PTN\"\n",
    "standalone_parameters[\"lr\"] = 0.0001\n",
    "standalone_parameters[\"device\"] = \"cuda\"\n",
    "\n",
    "standalone_parameters[\"seed\"] = 1337\n",
    "standalone_parameters[\"dataset_seed\"] = 1337\n",
    "\n",
    "\n",
    "standalone_parameters[\"num_examples_per_domain_per_label_source\"]=100\n",
    "standalone_parameters[\"num_examples_per_domain_per_label_target\"]=100\n",
    "\n",
    "standalone_parameters[\"n_shot\"] = 3\n",
    "standalone_parameters[\"n_query\"]  = 2\n",
    "standalone_parameters[\"train_k_factor\"] = 1\n",
    "standalone_parameters[\"val_k_factor\"] = 2\n",
    "standalone_parameters[\"test_k_factor\"] = 2\n",
    "\n",
    "\n",
    "standalone_parameters[\"n_epoch\"] = 100\n",
    "\n",
    "standalone_parameters[\"patience\"] = 10\n",
    "standalone_parameters[\"criteria_for_best\"] = \"target_accuracy\"\n",
    "\n",
    "standalone_parameters[\"x_transforms_source\"] = [\"unit_power\"]\n",
    "standalone_parameters[\"x_transforms_target\"] = [\"unit_power\"]\n",
    "standalone_parameters[\"episode_transforms_source\"] = []\n",
    "standalone_parameters[\"episode_transforms_target\"] = []\n",
    "\n",
    "standalone_parameters[\"torch_default_dtype\"] = \"torch.float32\" \n",
    "\n",
    "\n",
    "\n",
    "standalone_parameters[\"x_net\"] =     [\n",
    "    {\"class\": \"nnReshape\", \"kargs\": {\"shape\":[-1, 1, 2, 256]}},\n",
    "    {\"class\": \"Conv2d\", \"kargs\": { \"in_channels\":1, \"out_channels\":256, \"kernel_size\":(1,7), \"bias\":False, \"padding\":(0,3), },},\n",
    "    {\"class\": \"ReLU\", \"kargs\": {\"inplace\": True}},\n",
    "    {\"class\": \"BatchNorm2d\", \"kargs\": {\"num_features\":256}},\n",
    "\n",
    "    {\"class\": \"Conv2d\", \"kargs\": { \"in_channels\":256, \"out_channels\":80, \"kernel_size\":(2,7), \"bias\":True, \"padding\":(0,3), },},\n",
    "    {\"class\": \"ReLU\", \"kargs\": {\"inplace\": True}},\n",
    "    {\"class\": \"BatchNorm2d\", \"kargs\": {\"num_features\":80}},\n",
    "    {\"class\": \"Flatten\", \"kargs\": {}},\n",
    "\n",
    "    {\"class\": \"Linear\", \"kargs\": {\"in_features\": 80*256, \"out_features\": 256}}, # 80 units per IQ pair\n",
    "    {\"class\": \"ReLU\", \"kargs\": {\"inplace\": True}},\n",
    "    {\"class\": \"BatchNorm1d\", \"kargs\": {\"num_features\":256}},\n",
    "\n",
    "    {\"class\": \"Linear\", \"kargs\": {\"in_features\": 256, \"out_features\": 256}},\n",
    "]\n",
    "\n",
    "# Parameters relevant to results\n",
    "# These parameters will basically never need to change\n",
    "standalone_parameters[\"NUM_LOGS_PER_EPOCH\"] = 10\n",
    "standalone_parameters[\"BEST_MODEL_PATH\"] = \"./best_model.pth\"\n",
    "\n",
    "# uncomment for CORES dataset\n",
    "from steves_utils.CORES.utils import (\n",
    "    ALL_NODES,\n",
    "    ALL_NODES_MINIMUM_1000_EXAMPLES,\n",
    "    ALL_DAYS\n",
    ")\n",
    "\n",
    "\n",
    "standalone_parameters[\"labels_source\"] = ALL_NODES\n",
    "standalone_parameters[\"labels_target\"] = ALL_NODES\n",
    "\n",
    "standalone_parameters[\"domains_source\"] = [1]\n",
    "standalone_parameters[\"domains_target\"] = [2,3,4,5]\n",
    "\n",
    "standalone_parameters[\"pickle_name\"] = \"cores.stratified_ds.2022A.pkl\"\n",
    "\n",
    "\n",
    "# Uncomment these for ORACLE dataset\n",
    "# from steves_utils.ORACLE.utils_v2 import (\n",
    "#     ALL_DISTANCES_FEET,\n",
    "#     ALL_RUNS,\n",
    "#     ALL_SERIAL_NUMBERS,\n",
    "# )\n",
    "# standalone_parameters[\"labels_source\"] = ALL_SERIAL_NUMBERS\n",
    "# standalone_parameters[\"labels_target\"] = ALL_SERIAL_NUMBERS\n",
    "# standalone_parameters[\"domains_source\"] = [8,20, 38,50]\n",
    "# standalone_parameters[\"domains_target\"] = [14, 26, 32, 44, 56]\n",
    "# standalone_parameters[\"pickle_name\"] = \"oracle.frame_indexed.stratified_ds.2022A.pkl\"\n",
    "# standalone_parameters[\"num_examples_per_domain_per_label_source\"]=1000\n",
    "# standalone_parameters[\"num_examples_per_domain_per_label_target\"]=1000\n",
    "\n",
    "# Uncomment these for Metahan dataset\n",
    "# standalone_parameters[\"labels_source\"] = list(range(19))\n",
    "# standalone_parameters[\"labels_target\"] = list(range(19))\n",
    "# standalone_parameters[\"domains_source\"] = [0]\n",
    "# standalone_parameters[\"domains_target\"] = [1]\n",
    "# standalone_parameters[\"pickle_name\"] = \"metehan.stratified_ds.2022A.pkl\"\n",
    "# standalone_parameters[\"n_way\"]  = len(standalone_parameters[\"labels_source\"])\n",
    "# standalone_parameters[\"num_examples_per_domain_per_label_source\"]=200\n",
    "# standalone_parameters[\"num_examples_per_domain_per_label_target\"]=100\n",
    "\n",
    "\n",
    "standalone_parameters[\"n_way\"]  = len(standalone_parameters[\"labels_source\"])"
   ]
  },
  {
   "cell_type": "code",
   "execution_count": 4,
   "id": "41503dfc",
   "metadata": {
    "execution": {
     "iopub.execute_input": "2022-03-05T00:56:43.009614Z",
     "iopub.status.busy": "2022-03-05T00:56:43.002719Z",
     "iopub.status.idle": "2022-03-05T00:56:43.021955Z",
     "shell.execute_reply": "2022-03-05T00:56:43.022256Z"
    },
    "papermill": {
     "duration": 0.030159,
     "end_time": "2022-03-05T00:56:43.022350",
     "exception": false,
     "start_time": "2022-03-05T00:56:42.992191",
     "status": "completed"
    },
    "tags": [
     "injected-parameters"
    ]
   },
   "outputs": [],
   "source": [
    "# Parameters\n",
    "parameters = {\n",
    "    \"experiment_name\": \"trainKFactor_oracle.run2\",\n",
    "    \"device\": \"cuda\",\n",
    "    \"lr\": 0.001,\n",
    "    \"seed\": 1337,\n",
    "    \"dataset_seed\": 1337,\n",
    "    \"labels_source\": [\n",
    "        \"3123D52\",\n",
    "        \"3123D65\",\n",
    "        \"3123D79\",\n",
    "        \"3123D80\",\n",
    "        \"3123D54\",\n",
    "        \"3123D70\",\n",
    "        \"3123D7B\",\n",
    "        \"3123D89\",\n",
    "        \"3123D58\",\n",
    "        \"3123D76\",\n",
    "        \"3123D7D\",\n",
    "        \"3123EFE\",\n",
    "        \"3123D64\",\n",
    "        \"3123D78\",\n",
    "        \"3123D7E\",\n",
    "        \"3124E4A\",\n",
    "    ],\n",
    "    \"labels_target\": [\n",
    "        \"3123D52\",\n",
    "        \"3123D65\",\n",
    "        \"3123D79\",\n",
    "        \"3123D80\",\n",
    "        \"3123D54\",\n",
    "        \"3123D70\",\n",
    "        \"3123D7B\",\n",
    "        \"3123D89\",\n",
    "        \"3123D58\",\n",
    "        \"3123D76\",\n",
    "        \"3123D7D\",\n",
    "        \"3123EFE\",\n",
    "        \"3123D64\",\n",
    "        \"3123D78\",\n",
    "        \"3123D7E\",\n",
    "        \"3124E4A\",\n",
    "    ],\n",
    "    \"x_transforms_source\": [],\n",
    "    \"x_transforms_target\": [],\n",
    "    \"episode_transforms_source\": [],\n",
    "    \"episode_transforms_target\": [],\n",
    "    \"num_examples_per_domain_per_label_source\": 1000,\n",
    "    \"num_examples_per_domain_per_label_target\": 1000,\n",
    "    \"n_shot\": 3,\n",
    "    \"n_way\": 16,\n",
    "    \"n_query\": 2,\n",
    "    \"val_k_factor\": 2,\n",
    "    \"test_k_factor\": 2,\n",
    "    \"torch_default_dtype\": \"torch.float32\",\n",
    "    \"n_epoch\": 50,\n",
    "    \"patience\": 3,\n",
    "    \"criteria_for_best\": \"target_loss\",\n",
    "    \"x_net\": [\n",
    "        {\"class\": \"nnReshape\", \"kargs\": {\"shape\": [-1, 1, 2, 256]}},\n",
    "        {\n",
    "            \"class\": \"Conv2d\",\n",
    "            \"kargs\": {\n",
    "                \"in_channels\": 1,\n",
    "                \"out_channels\": 256,\n",
    "                \"kernel_size\": [1, 7],\n",
    "                \"bias\": False,\n",
    "                \"padding\": [0, 3],\n",
    "            },\n",
    "        },\n",
    "        {\"class\": \"ReLU\", \"kargs\": {\"inplace\": True}},\n",
    "        {\"class\": \"BatchNorm2d\", \"kargs\": {\"num_features\": 256}},\n",
    "        {\n",
    "            \"class\": \"Conv2d\",\n",
    "            \"kargs\": {\n",
    "                \"in_channels\": 256,\n",
    "                \"out_channels\": 80,\n",
    "                \"kernel_size\": [2, 7],\n",
    "                \"bias\": True,\n",
    "                \"padding\": [0, 3],\n",
    "            },\n",
    "        },\n",
    "        {\"class\": \"ReLU\", \"kargs\": {\"inplace\": True}},\n",
    "        {\"class\": \"BatchNorm2d\", \"kargs\": {\"num_features\": 80}},\n",
    "        {\"class\": \"Flatten\", \"kargs\": {}},\n",
    "        {\"class\": \"Linear\", \"kargs\": {\"in_features\": 20480, \"out_features\": 256}},\n",
    "        {\"class\": \"ReLU\", \"kargs\": {\"inplace\": True}},\n",
    "        {\"class\": \"BatchNorm1d\", \"kargs\": {\"num_features\": 256}},\n",
    "        {\"class\": \"Linear\", \"kargs\": {\"in_features\": 256, \"out_features\": 256}},\n",
    "    ],\n",
    "    \"NUM_LOGS_PER_EPOCH\": 10,\n",
    "    \"BEST_MODEL_PATH\": \"./best_model.pth\",\n",
    "    \"pickle_name\": \"oracle.Run2_10kExamples_stratified_ds.2022A.pkl\",\n",
    "    \"train_k_factor\": 3,\n",
    "    \"domains_source\": [8, 32, 50],\n",
    "    \"domains_target\": [14, 20, 26, 38, 44],\n",
    "}\n"
   ]
  },
  {
   "cell_type": "code",
   "execution_count": 5,
   "id": "8fa1cc33",
   "metadata": {
    "execution": {
     "iopub.execute_input": "2022-03-05T00:56:43.048823Z",
     "iopub.status.busy": "2022-03-05T00:56:43.046455Z",
     "iopub.status.idle": "2022-03-05T00:56:43.061281Z",
     "shell.execute_reply": "2022-03-05T00:56:43.061577Z"
    },
    "papermill": {
     "duration": 0.026445,
     "end_time": "2022-03-05T00:56:43.061669",
     "exception": false,
     "start_time": "2022-03-05T00:56:43.035224",
     "status": "completed"
    },
    "tags": []
   },
   "outputs": [],
   "source": [
    "# Set this to True if you want to run this template directly\n",
    "STANDALONE = False\n",
    "if STANDALONE:\n",
    "    print(\"parameters not injected, running with standalone_parameters\")\n",
    "    parameters = standalone_parameters\n",
    "\n",
    "if not 'parameters' in locals() and not 'parameters' in globals():\n",
    "    raise Exception(\"Parameter injection failed\")\n",
    "\n",
    "#Use an easy dict for all the parameters\n",
    "p = EasyDict(parameters)\n",
    "\n",
    "supplied_keys = set(p.keys())\n",
    "\n",
    "if  supplied_keys != required_parameters:\n",
    "    print(\"Parameters are incorrect\")\n",
    "    if len(supplied_keys - required_parameters)>0: print(\"Shouldn't have:\", str(supplied_keys - required_parameters))\n",
    "    if len(required_parameters - supplied_keys)>0: print(\"Need to have:\", str(required_parameters - supplied_keys))\n",
    "    raise RuntimeError(\"Parameters are incorrect\")\n",
    "\n"
   ]
  },
  {
   "cell_type": "code",
   "execution_count": 6,
   "id": "3a028d58",
   "metadata": {
    "execution": {
     "iopub.execute_input": "2022-03-05T00:56:43.087775Z",
     "iopub.status.busy": "2022-03-05T00:56:43.087529Z",
     "iopub.status.idle": "2022-03-05T00:56:43.102398Z",
     "shell.execute_reply": "2022-03-05T00:56:43.101958Z"
    },
    "papermill": {
     "duration": 0.02629,
     "end_time": "2022-03-05T00:56:43.102496",
     "exception": false,
     "start_time": "2022-03-05T00:56:43.076206",
     "status": "completed"
    },
    "tags": []
   },
   "outputs": [],
   "source": [
    "###################################\n",
    "# Set the RNGs and make it all deterministic\n",
    "###################################\n",
    "np.random.seed(p.seed)\n",
    "random.seed(p.seed)\n",
    "torch.manual_seed(p.seed)\n",
    "\n",
    "torch.use_deterministic_algorithms(True) "
   ]
  },
  {
   "cell_type": "code",
   "execution_count": 7,
   "id": "b691acf6",
   "metadata": {
    "execution": {
     "iopub.execute_input": "2022-03-05T00:56:43.128071Z",
     "iopub.status.busy": "2022-03-05T00:56:43.127820Z",
     "iopub.status.idle": "2022-03-05T00:56:43.140491Z",
     "shell.execute_reply": "2022-03-05T00:56:43.140882Z"
    },
    "papermill": {
     "duration": 0.024274,
     "end_time": "2022-03-05T00:56:43.141001",
     "exception": false,
     "start_time": "2022-03-05T00:56:43.116727",
     "status": "completed"
    },
    "tags": []
   },
   "outputs": [],
   "source": [
    "###########################################\n",
    "# The stratified datasets honor this\n",
    "###########################################\n",
    "torch.set_default_dtype(eval(p.torch_default_dtype))"
   ]
  },
  {
   "cell_type": "code",
   "execution_count": 8,
   "id": "b5fba671",
   "metadata": {
    "execution": {
     "iopub.execute_input": "2022-03-05T00:56:43.167461Z",
     "iopub.status.busy": "2022-03-05T00:56:43.166783Z",
     "iopub.status.idle": "2022-03-05T00:56:43.208236Z",
     "shell.execute_reply": "2022-03-05T00:56:43.207788Z"
    },
    "papermill": {
     "duration": 0.051928,
     "end_time": "2022-03-05T00:56:43.208343",
     "exception": false,
     "start_time": "2022-03-05T00:56:43.156415",
     "status": "completed"
    },
    "tags": []
   },
   "outputs": [],
   "source": [
    "###################################\n",
    "# Build the network(s)\n",
    "# Note: It's critical to do this AFTER setting the RNG\n",
    "# (This is due to the randomized initial weights)\n",
    "###################################\n",
    "x_net = build_sequential(p.x_net)"
   ]
  },
  {
   "cell_type": "code",
   "execution_count": 9,
   "id": "5d7e61cc",
   "metadata": {
    "execution": {
     "iopub.execute_input": "2022-03-05T00:56:43.232940Z",
     "iopub.status.busy": "2022-03-05T00:56:43.232694Z",
     "iopub.status.idle": "2022-03-05T00:56:43.246233Z",
     "shell.execute_reply": "2022-03-05T00:56:43.246447Z"
    },
    "papermill": {
     "duration": 0.025166,
     "end_time": "2022-03-05T00:56:43.246518",
     "exception": false,
     "start_time": "2022-03-05T00:56:43.221352",
     "status": "completed"
    },
    "tags": []
   },
   "outputs": [],
   "source": [
    "start_time_secs = time.time()"
   ]
  },
  {
   "cell_type": "code",
   "execution_count": 10,
   "id": "fd5442bc",
   "metadata": {
    "execution": {
     "iopub.execute_input": "2022-03-05T00:56:43.277369Z",
     "iopub.status.busy": "2022-03-05T00:56:43.276978Z",
     "iopub.status.idle": "2022-03-05T00:56:46.632610Z",
     "shell.execute_reply": "2022-03-05T00:56:46.632149Z"
    },
    "papermill": {
     "duration": 3.372465,
     "end_time": "2022-03-05T00:56:46.632717",
     "exception": false,
     "start_time": "2022-03-05T00:56:43.260252",
     "status": "completed"
    },
    "tags": []
   },
   "outputs": [],
   "source": [
    "###################################\n",
    "# Build the dataset\n",
    "###################################\n",
    "\n",
    "if p.x_transforms_source == []: x_transform_source = None\n",
    "else: x_transform_source = get_chained_transform(p.x_transforms_source) \n",
    "\n",
    "if p.x_transforms_target == []: x_transform_target = None\n",
    "else: x_transform_target = get_chained_transform(p.x_transforms_target)\n",
    "\n",
    "if p.episode_transforms_source == []: episode_transform_source = None\n",
    "else: raise Exception(\"episode_transform_source not implemented\")\n",
    "\n",
    "if p.episode_transforms_target == []: episode_transform_target = None\n",
    "else: raise Exception(\"episode_transform_target not implemented\")\n",
    "\n",
    "\n",
    "eaf_source = Episodic_Accessor_Factory(\n",
    "    labels=p.labels_source,\n",
    "    domains=p.domains_source,\n",
    "    num_examples_per_domain_per_label=p.num_examples_per_domain_per_label_source,\n",
    "    iterator_seed=p.seed,\n",
    "    dataset_seed=p.dataset_seed,\n",
    "    n_shot=p.n_shot,\n",
    "    n_way=p.n_way,\n",
    "    n_query=p.n_query,\n",
    "    train_val_test_k_factors=(p.train_k_factor,p.val_k_factor,p.test_k_factor),\n",
    "    pickle_path=os.path.join(get_datasets_base_path(), p.pickle_name),\n",
    "    x_transform_func=x_transform_source,\n",
    "    example_transform_func=episode_transform_source,\n",
    "    \n",
    ")\n",
    "train_original_source, val_original_source, test_original_source = eaf_source.get_train(), eaf_source.get_val(), eaf_source.get_test()\n",
    "\n",
    "\n",
    "eaf_target = Episodic_Accessor_Factory(\n",
    "    labels=p.labels_target,\n",
    "    domains=p.domains_target,\n",
    "    num_examples_per_domain_per_label=p.num_examples_per_domain_per_label_target,\n",
    "    iterator_seed=p.seed,\n",
    "    dataset_seed=p.dataset_seed,\n",
    "    n_shot=p.n_shot,\n",
    "    n_way=p.n_way,\n",
    "    n_query=p.n_query,\n",
    "    train_val_test_k_factors=(p.train_k_factor,p.val_k_factor,p.test_k_factor),\n",
    "    pickle_path=os.path.join(get_datasets_base_path(), p.pickle_name),\n",
    "    x_transform_func=x_transform_target,\n",
    "    example_transform_func=episode_transform_target,\n",
    ")\n",
    "train_original_target, val_original_target, test_original_target = eaf_target.get_train(), eaf_target.get_val(), eaf_target.get_test()\n",
    "\n",
    "\n",
    "transform_lambda = lambda ex: ex[1] # Original is (<domain>, <episode>) so we strip down to episode only\n",
    "\n",
    "train_processed_source = Lazy_Iterable_Wrapper(train_original_source, transform_lambda)\n",
    "val_processed_source   = Lazy_Iterable_Wrapper(val_original_source, transform_lambda)\n",
    "test_processed_source  = Lazy_Iterable_Wrapper(test_original_source, transform_lambda)\n",
    "\n",
    "train_processed_target = Lazy_Iterable_Wrapper(train_original_target, transform_lambda)\n",
    "val_processed_target   = Lazy_Iterable_Wrapper(val_original_target, transform_lambda)\n",
    "test_processed_target  = Lazy_Iterable_Wrapper(test_original_target, transform_lambda)\n",
    "\n",
    "datasets = EasyDict({\n",
    "    \"source\": {\n",
    "        \"original\": {\"train\":train_original_source, \"val\":val_original_source, \"test\":test_original_source},\n",
    "        \"processed\": {\"train\":train_processed_source, \"val\":val_processed_source, \"test\":test_processed_source}\n",
    "    },\n",
    "    \"target\": {\n",
    "        \"original\": {\"train\":train_original_target, \"val\":val_original_target, \"test\":test_original_target},\n",
    "        \"processed\": {\"train\":train_processed_target, \"val\":val_processed_target, \"test\":test_processed_target}\n",
    "    },\n",
    "})"
   ]
  },
  {
   "cell_type": "code",
   "execution_count": 11,
   "id": "296189d9",
   "metadata": {
    "execution": {
     "iopub.execute_input": "2022-03-05T00:56:46.661725Z",
     "iopub.status.busy": "2022-03-05T00:56:46.661461Z",
     "iopub.status.idle": "2022-03-05T00:56:48.243202Z",
     "shell.execute_reply": "2022-03-05T00:56:48.243580Z"
    },
    "papermill": {
     "duration": 1.595852,
     "end_time": "2022-03-05T00:56:48.243687",
     "exception": false,
     "start_time": "2022-03-05T00:56:46.647835",
     "status": "completed"
    },
    "tags": []
   },
   "outputs": [
    {
     "name": "stdout",
     "output_type": "stream",
     "text": [
      "Visually inspect these to see if they line up with expected values given the transforms\n",
      "x_transforms_source []\n",
      "x_transforms_target []\n",
      "Average magnitude, source: 0.004635015\n",
      "Average power, source: 2.8574976e-05\n"
     ]
    },
    {
     "name": "stdout",
     "output_type": "stream",
     "text": [
      "Average magnitude, target: 0.0029128897\n",
      "Average power, target: 1.0910343e-05\n"
     ]
    }
   ],
   "source": [
    "# Some quick unit tests on the data\n",
    "from steves_utils.transforms import get_average_power, get_average_magnitude\n",
    "\n",
    "q_x, q_y, s_x, s_y, truth = next(iter(train_processed_source))\n",
    "\n",
    "assert q_x.dtype == eval(p.torch_default_dtype)\n",
    "assert s_x.dtype == eval(p.torch_default_dtype)\n",
    "\n",
    "print(\"Visually inspect these to see if they line up with expected values given the transforms\")\n",
    "print('x_transforms_source', p.x_transforms_source)\n",
    "print('x_transforms_target', p.x_transforms_target)\n",
    "print(\"Average magnitude, source:\", get_average_magnitude(q_x[0].numpy()))\n",
    "print(\"Average power, source:\", get_average_power(q_x[0].numpy()))\n",
    "\n",
    "q_x, q_y, s_x, s_y, truth = next(iter(train_processed_target))\n",
    "print(\"Average magnitude, target:\", get_average_magnitude(q_x[0].numpy()))\n",
    "print(\"Average power, target:\", get_average_power(q_x[0].numpy()))\n"
   ]
  },
  {
   "cell_type": "code",
   "execution_count": 12,
   "id": "bbdacba1",
   "metadata": {
    "execution": {
     "iopub.execute_input": "2022-03-05T00:56:48.268256Z",
     "iopub.status.busy": "2022-03-05T00:56:48.267992Z",
     "iopub.status.idle": "2022-03-05T00:56:48.327688Z",
     "shell.execute_reply": "2022-03-05T00:56:48.327904Z"
    },
    "papermill": {
     "duration": 0.072433,
     "end_time": "2022-03-05T00:56:48.327983",
     "exception": false,
     "start_time": "2022-03-05T00:56:48.255550",
     "status": "completed"
    },
    "tags": []
   },
   "outputs": [
    {
     "name": "stdout",
     "output_type": "stream",
     "text": [
      "(2, 256)\n"
     ]
    }
   ],
   "source": [
    "###################################\n",
    "# Build the model\n",
    "###################################\n",
    "model = Steves_Prototypical_Network(x_net, device=p.device, x_shape=(2,256))\n",
    "optimizer = Adam(params=model.parameters(), lr=p.lr)"
   ]
  },
  {
   "cell_type": "code",
   "execution_count": 13,
   "id": "22b39ac5",
   "metadata": {
    "execution": {
     "iopub.execute_input": "2022-03-05T00:56:48.351318Z",
     "iopub.status.busy": "2022-03-05T00:56:48.351062Z",
     "iopub.status.idle": "2022-03-05T01:01:30.161025Z",
     "shell.execute_reply": "2022-03-05T01:01:30.160791Z"
    },
    "papermill": {
     "duration": 281.82243,
     "end_time": "2022-03-05T01:01:30.161086",
     "exception": false,
     "start_time": "2022-03-05T00:56:48.338656",
     "status": "completed"
    },
    "tags": []
   },
   "outputs": [
    {
     "name": "stdout",
     "output_type": "stream",
     "text": [
      "epoch: 1, [batch: 1 / 1260], examples_per_second: 228.2430, train_label_loss: 2.3325, \n"
     ]
    },
    {
     "name": "stdout",
     "output_type": "stream",
     "text": [
      "epoch: 1, [batch: 126 / 1260], examples_per_second: 3199.7842, train_label_loss: 1.3888, \n"
     ]
    },
    {
     "name": "stdout",
     "output_type": "stream",
     "text": [
      "epoch: 1, [batch: 252 / 1260], examples_per_second: 3209.5440, train_label_loss: 1.0845, \n"
     ]
    },
    {
     "name": "stdout",
     "output_type": "stream",
     "text": [
      "epoch: 1, [batch: 378 / 1260], examples_per_second: 3225.9640, train_label_loss: 1.3187, \n"
     ]
    },
    {
     "name": "stdout",
     "output_type": "stream",
     "text": [
      "epoch: 1, [batch: 504 / 1260], examples_per_second: 3194.1853, train_label_loss: 1.1587, \n"
     ]
    },
    {
     "name": "stdout",
     "output_type": "stream",
     "text": [
      "epoch: 1, [batch: 630 / 1260], examples_per_second: 3200.9331, train_label_loss: 1.2366, \n"
     ]
    },
    {
     "name": "stdout",
     "output_type": "stream",
     "text": [
      "epoch: 1, [batch: 756 / 1260], examples_per_second: 3226.6541, train_label_loss: 1.2098, \n"
     ]
    },
    {
     "name": "stdout",
     "output_type": "stream",
     "text": [
      "epoch: 1, [batch: 882 / 1260], examples_per_second: 3204.3424, train_label_loss: 1.0435, \n"
     ]
    },
    {
     "name": "stdout",
     "output_type": "stream",
     "text": [
      "epoch: 1, [batch: 1008 / 1260], examples_per_second: 3225.1187, train_label_loss: 1.2010, \n"
     ]
    },
    {
     "name": "stdout",
     "output_type": "stream",
     "text": [
      "epoch: 1, [batch: 1134 / 1260], examples_per_second: 3225.9217, train_label_loss: 1.1075, \n"
     ]
    },
    {
     "name": "stdout",
     "output_type": "stream",
     "text": [
      "=============================================================\n",
      "epoch: 1, source_val_acc_label: 0.4793, target_val_acc_label: 0.4088, source_val_label_loss: 1.5539, target_val_label_loss: 1.6955, \n",
      "=============================================================\n"
     ]
    },
    {
     "name": "stdout",
     "output_type": "stream",
     "text": [
      "New best\n"
     ]
    },
    {
     "name": "stdout",
     "output_type": "stream",
     "text": [
      "epoch: 2, [batch: 1 / 1260], examples_per_second: 22.0360, train_label_loss: 1.0779, \n"
     ]
    },
    {
     "name": "stdout",
     "output_type": "stream",
     "text": [
      "epoch: 2, [batch: 126 / 1260], examples_per_second: 3231.2786, train_label_loss: 1.0222, \n"
     ]
    },
    {
     "name": "stdout",
     "output_type": "stream",
     "text": [
      "epoch: 2, [batch: 252 / 1260], examples_per_second: 3247.0056, train_label_loss: 1.2699, \n"
     ]
    },
    {
     "name": "stdout",
     "output_type": "stream",
     "text": [
      "epoch: 2, [batch: 378 / 1260], examples_per_second: 3243.5754, train_label_loss: 0.8004, \n"
     ]
    },
    {
     "name": "stdout",
     "output_type": "stream",
     "text": [
      "epoch: 2, [batch: 504 / 1260], examples_per_second: 3217.7662, train_label_loss: 0.5015, \n"
     ]
    },
    {
     "name": "stdout",
     "output_type": "stream",
     "text": [
      "epoch: 2, [batch: 630 / 1260], examples_per_second: 3222.2067, train_label_loss: 0.9069, \n"
     ]
    },
    {
     "name": "stdout",
     "output_type": "stream",
     "text": [
      "epoch: 2, [batch: 756 / 1260], examples_per_second: 3264.3621, train_label_loss: 0.6838, \n"
     ]
    },
    {
     "name": "stdout",
     "output_type": "stream",
     "text": [
      "epoch: 2, [batch: 882 / 1260], examples_per_second: 3245.2188, train_label_loss: 0.3896, \n"
     ]
    },
    {
     "name": "stdout",
     "output_type": "stream",
     "text": [
      "epoch: 2, [batch: 1008 / 1260], examples_per_second: 3262.7702, train_label_loss: 0.7525, \n"
     ]
    },
    {
     "name": "stdout",
     "output_type": "stream",
     "text": [
      "epoch: 2, [batch: 1134 / 1260], examples_per_second: 3259.9675, train_label_loss: 0.6985, \n"
     ]
    },
    {
     "name": "stdout",
     "output_type": "stream",
     "text": [
      "=============================================================\n",
      "epoch: 2, source_val_acc_label: 0.7434, target_val_acc_label: 0.6066, source_val_label_loss: 0.6859, target_val_label_loss: 1.2866, \n",
      "=============================================================\n"
     ]
    },
    {
     "name": "stdout",
     "output_type": "stream",
     "text": [
      "New best\n"
     ]
    },
    {
     "name": "stdout",
     "output_type": "stream",
     "text": [
      "epoch: 3, [batch: 1 / 1260], examples_per_second: 21.9627, train_label_loss: 0.3024, \n"
     ]
    },
    {
     "name": "stdout",
     "output_type": "stream",
     "text": [
      "epoch: 3, [batch: 126 / 1260], examples_per_second: 3234.3576, train_label_loss: 1.0335, \n"
     ]
    },
    {
     "name": "stdout",
     "output_type": "stream",
     "text": [
      "epoch: 3, [batch: 252 / 1260], examples_per_second: 3255.0841, train_label_loss: 0.7434, \n"
     ]
    },
    {
     "name": "stdout",
     "output_type": "stream",
     "text": [
      "epoch: 3, [batch: 378 / 1260], examples_per_second: 3254.4890, train_label_loss: 0.7032, \n"
     ]
    },
    {
     "name": "stdout",
     "output_type": "stream",
     "text": [
      "epoch: 3, [batch: 504 / 1260], examples_per_second: 3215.9741, train_label_loss: 0.4447, \n"
     ]
    },
    {
     "name": "stdout",
     "output_type": "stream",
     "text": [
      "epoch: 3, [batch: 630 / 1260], examples_per_second: 3258.3548, train_label_loss: 0.6627, \n"
     ]
    },
    {
     "name": "stdout",
     "output_type": "stream",
     "text": [
      "epoch: 3, [batch: 756 / 1260], examples_per_second: 3260.7379, train_label_loss: 0.7947, \n"
     ]
    },
    {
     "name": "stdout",
     "output_type": "stream",
     "text": [
      "epoch: 3, [batch: 882 / 1260], examples_per_second: 3238.6121, train_label_loss: 0.5640, \n"
     ]
    },
    {
     "name": "stdout",
     "output_type": "stream",
     "text": [
      "epoch: 3, [batch: 1008 / 1260], examples_per_second: 3233.4745, train_label_loss: 0.5788, \n"
     ]
    },
    {
     "name": "stdout",
     "output_type": "stream",
     "text": [
      "epoch: 3, [batch: 1134 / 1260], examples_per_second: 3248.7888, train_label_loss: 0.8835, \n"
     ]
    },
    {
     "name": "stdout",
     "output_type": "stream",
     "text": [
      "=============================================================\n",
      "epoch: 3, source_val_acc_label: 0.7806, target_val_acc_label: 0.6312, source_val_label_loss: 0.5787, target_val_label_loss: 1.2103, \n",
      "=============================================================\n"
     ]
    },
    {
     "name": "stdout",
     "output_type": "stream",
     "text": [
      "New best\n"
     ]
    },
    {
     "name": "stdout",
     "output_type": "stream",
     "text": [
      "epoch: 4, [batch: 1 / 1260], examples_per_second: 22.0548, train_label_loss: 0.5458, \n"
     ]
    },
    {
     "name": "stdout",
     "output_type": "stream",
     "text": [
      "epoch: 4, [batch: 126 / 1260], examples_per_second: 3218.2947, train_label_loss: 0.7289, \n"
     ]
    },
    {
     "name": "stdout",
     "output_type": "stream",
     "text": [
      "epoch: 4, [batch: 252 / 1260], examples_per_second: 3246.4733, train_label_loss: 0.4846, \n"
     ]
    },
    {
     "name": "stdout",
     "output_type": "stream",
     "text": [
      "epoch: 4, [batch: 378 / 1260], examples_per_second: 3242.3267, train_label_loss: 0.5095, \n"
     ]
    },
    {
     "name": "stdout",
     "output_type": "stream",
     "text": [
      "epoch: 4, [batch: 504 / 1260], examples_per_second: 3223.7745, train_label_loss: 0.4598, \n"
     ]
    },
    {
     "name": "stdout",
     "output_type": "stream",
     "text": [
      "epoch: 4, [batch: 630 / 1260], examples_per_second: 3230.0856, train_label_loss: 0.8712, \n"
     ]
    },
    {
     "name": "stdout",
     "output_type": "stream",
     "text": [
      "epoch: 4, [batch: 756 / 1260], examples_per_second: 3230.9893, train_label_loss: 0.4726, \n"
     ]
    },
    {
     "name": "stdout",
     "output_type": "stream",
     "text": [
      "epoch: 4, [batch: 882 / 1260], examples_per_second: 3228.8258, train_label_loss: 0.5265, \n"
     ]
    },
    {
     "name": "stdout",
     "output_type": "stream",
     "text": [
      "epoch: 4, [batch: 1008 / 1260], examples_per_second: 3248.1790, train_label_loss: 0.9059, \n"
     ]
    },
    {
     "name": "stdout",
     "output_type": "stream",
     "text": [
      "epoch: 4, [batch: 1134 / 1260], examples_per_second: 3245.7423, train_label_loss: 0.6288, \n"
     ]
    },
    {
     "name": "stdout",
     "output_type": "stream",
     "text": [
      "=============================================================\n",
      "epoch: 4, source_val_acc_label: 0.7932, target_val_acc_label: 0.6477, source_val_label_loss: 0.5598, target_val_label_loss: 1.1451, \n",
      "=============================================================\n"
     ]
    },
    {
     "name": "stdout",
     "output_type": "stream",
     "text": [
      "New best\n"
     ]
    },
    {
     "name": "stdout",
     "output_type": "stream",
     "text": [
      "epoch: 5, [batch: 1 / 1260], examples_per_second: 22.0858, train_label_loss: 0.2635, \n"
     ]
    },
    {
     "name": "stdout",
     "output_type": "stream",
     "text": [
      "epoch: 5, [batch: 126 / 1260], examples_per_second: 3253.2732, train_label_loss: 0.3402, \n"
     ]
    },
    {
     "name": "stdout",
     "output_type": "stream",
     "text": [
      "epoch: 5, [batch: 252 / 1260], examples_per_second: 3253.2987, train_label_loss: 0.3140, \n"
     ]
    },
    {
     "name": "stdout",
     "output_type": "stream",
     "text": [
      "epoch: 5, [batch: 378 / 1260], examples_per_second: 3275.1952, train_label_loss: 0.2133, \n"
     ]
    },
    {
     "name": "stdout",
     "output_type": "stream",
     "text": [
      "epoch: 5, [batch: 504 / 1260], examples_per_second: 3282.7195, train_label_loss: 0.2883, \n"
     ]
    },
    {
     "name": "stdout",
     "output_type": "stream",
     "text": [
      "epoch: 5, [batch: 630 / 1260], examples_per_second: 3270.1701, train_label_loss: 0.2803, \n"
     ]
    },
    {
     "name": "stdout",
     "output_type": "stream",
     "text": [
      "epoch: 5, [batch: 756 / 1260], examples_per_second: 3273.5385, train_label_loss: 0.2155, \n"
     ]
    },
    {
     "name": "stdout",
     "output_type": "stream",
     "text": [
      "epoch: 5, [batch: 882 / 1260], examples_per_second: 3237.5593, train_label_loss: 0.4570, \n"
     ]
    },
    {
     "name": "stdout",
     "output_type": "stream",
     "text": [
      "epoch: 5, [batch: 1008 / 1260], examples_per_second: 3263.3983, train_label_loss: 0.3689, \n"
     ]
    },
    {
     "name": "stdout",
     "output_type": "stream",
     "text": [
      "epoch: 5, [batch: 1134 / 1260], examples_per_second: 3258.5490, train_label_loss: 0.3203, \n"
     ]
    },
    {
     "name": "stdout",
     "output_type": "stream",
     "text": [
      "=============================================================\n",
      "epoch: 5, source_val_acc_label: 0.7894, target_val_acc_label: 0.6433, source_val_label_loss: 0.5808, target_val_label_loss: 1.3880, \n",
      "=============================================================\n"
     ]
    },
    {
     "name": "stdout",
     "output_type": "stream",
     "text": [
      "epoch: 6, [batch: 1 / 1260], examples_per_second: 22.1838, train_label_loss: 0.1825, \n"
     ]
    },
    {
     "name": "stdout",
     "output_type": "stream",
     "text": [
      "epoch: 6, [batch: 126 / 1260], examples_per_second: 3226.6277, train_label_loss: 0.5590, \n"
     ]
    },
    {
     "name": "stdout",
     "output_type": "stream",
     "text": [
      "epoch: 6, [batch: 252 / 1260], examples_per_second: 3260.5564, train_label_loss: 0.1995, \n"
     ]
    },
    {
     "name": "stdout",
     "output_type": "stream",
     "text": [
      "epoch: 6, [batch: 378 / 1260], examples_per_second: 3248.7818, train_label_loss: 0.2296, \n"
     ]
    },
    {
     "name": "stdout",
     "output_type": "stream",
     "text": [
      "epoch: 6, [batch: 504 / 1260], examples_per_second: 3214.2386, train_label_loss: 0.3565, \n"
     ]
    },
    {
     "name": "stdout",
     "output_type": "stream",
     "text": [
      "epoch: 6, [batch: 630 / 1260], examples_per_second: 3230.0654, train_label_loss: 0.4681, \n"
     ]
    },
    {
     "name": "stdout",
     "output_type": "stream",
     "text": [
      "epoch: 6, [batch: 756 / 1260], examples_per_second: 3238.0232, train_label_loss: 0.3418, \n"
     ]
    },
    {
     "name": "stdout",
     "output_type": "stream",
     "text": [
      "epoch: 6, [batch: 882 / 1260], examples_per_second: 3256.0512, train_label_loss: 0.1207, \n"
     ]
    },
    {
     "name": "stdout",
     "output_type": "stream",
     "text": [
      "epoch: 6, [batch: 1008 / 1260], examples_per_second: 3260.2594, train_label_loss: 0.0959, \n"
     ]
    },
    {
     "name": "stdout",
     "output_type": "stream",
     "text": [
      "epoch: 6, [batch: 1134 / 1260], examples_per_second: 3264.5824, train_label_loss: 0.2843, \n"
     ]
    },
    {
     "name": "stdout",
     "output_type": "stream",
     "text": [
      "=============================================================\n",
      "epoch: 6, source_val_acc_label: 0.7896, target_val_acc_label: 0.6390, source_val_label_loss: 0.5989, target_val_label_loss: 1.4035, \n",
      "=============================================================\n"
     ]
    },
    {
     "name": "stdout",
     "output_type": "stream",
     "text": [
      "epoch: 7, [batch: 1 / 1260], examples_per_second: 22.3090, train_label_loss: 0.2116, \n"
     ]
    },
    {
     "name": "stdout",
     "output_type": "stream",
     "text": [
      "epoch: 7, [batch: 126 / 1260], examples_per_second: 3252.6428, train_label_loss: 0.0773, \n"
     ]
    },
    {
     "name": "stdout",
     "output_type": "stream",
     "text": [
      "epoch: 7, [batch: 252 / 1260], examples_per_second: 3251.8624, train_label_loss: 0.2736, \n"
     ]
    },
    {
     "name": "stdout",
     "output_type": "stream",
     "text": [
      "epoch: 7, [batch: 378 / 1260], examples_per_second: 3252.9037, train_label_loss: 0.3585, \n"
     ]
    },
    {
     "name": "stdout",
     "output_type": "stream",
     "text": [
      "epoch: 7, [batch: 504 / 1260], examples_per_second: 3246.7121, train_label_loss: 0.1948, \n"
     ]
    },
    {
     "name": "stdout",
     "output_type": "stream",
     "text": [
      "epoch: 7, [batch: 630 / 1260], examples_per_second: 3247.6309, train_label_loss: 0.2046, \n"
     ]
    },
    {
     "name": "stdout",
     "output_type": "stream",
     "text": [
      "epoch: 7, [batch: 756 / 1260], examples_per_second: 3245.4343, train_label_loss: 0.1997, \n"
     ]
    },
    {
     "name": "stdout",
     "output_type": "stream",
     "text": [
      "epoch: 7, [batch: 882 / 1260], examples_per_second: 3217.3095, train_label_loss: 0.1484, \n"
     ]
    },
    {
     "name": "stdout",
     "output_type": "stream",
     "text": [
      "epoch: 7, [batch: 1008 / 1260], examples_per_second: 3239.8167, train_label_loss: 0.2047, \n"
     ]
    },
    {
     "name": "stdout",
     "output_type": "stream",
     "text": [
      "epoch: 7, [batch: 1134 / 1260], examples_per_second: 3265.2972, train_label_loss: 0.2231, \n"
     ]
    },
    {
     "name": "stdout",
     "output_type": "stream",
     "text": [
      "=============================================================\n",
      "epoch: 7, source_val_acc_label: 0.7972, target_val_acc_label: 0.6426, source_val_label_loss: 0.6143, target_val_label_loss: 1.3227, \n",
      "=============================================================\n"
     ]
    },
    {
     "name": "stdout",
     "output_type": "stream",
     "text": [
      "epoch: 8, [batch: 1 / 1260], examples_per_second: 22.0970, train_label_loss: 0.2348, \n"
     ]
    },
    {
     "name": "stdout",
     "output_type": "stream",
     "text": [
      "epoch: 8, [batch: 126 / 1260], examples_per_second: 3243.0916, train_label_loss: 0.1351, \n"
     ]
    },
    {
     "name": "stdout",
     "output_type": "stream",
     "text": [
      "epoch: 8, [batch: 252 / 1260], examples_per_second: 3224.6678, train_label_loss: 0.1468, \n"
     ]
    },
    {
     "name": "stdout",
     "output_type": "stream",
     "text": [
      "epoch: 8, [batch: 378 / 1260], examples_per_second: 3231.2874, train_label_loss: 0.1471, \n"
     ]
    },
    {
     "name": "stdout",
     "output_type": "stream",
     "text": [
      "epoch: 8, [batch: 504 / 1260], examples_per_second: 3217.3340, train_label_loss: 0.4056, \n"
     ]
    },
    {
     "name": "stdout",
     "output_type": "stream",
     "text": [
      "epoch: 8, [batch: 630 / 1260], examples_per_second: 3245.2547, train_label_loss: 0.7520, \n"
     ]
    },
    {
     "name": "stdout",
     "output_type": "stream",
     "text": [
      "epoch: 8, [batch: 756 / 1260], examples_per_second: 3272.8031, train_label_loss: 0.3888, \n"
     ]
    },
    {
     "name": "stdout",
     "output_type": "stream",
     "text": [
      "epoch: 8, [batch: 882 / 1260], examples_per_second: 3186.4273, train_label_loss: 0.2059, \n"
     ]
    },
    {
     "name": "stdout",
     "output_type": "stream",
     "text": [
      "epoch: 8, [batch: 1008 / 1260], examples_per_second: 3219.4454, train_label_loss: 0.3607, \n"
     ]
    },
    {
     "name": "stdout",
     "output_type": "stream",
     "text": [
      "epoch: 8, [batch: 1134 / 1260], examples_per_second: 3193.2936, train_label_loss: 0.1905, \n"
     ]
    },
    {
     "name": "stdout",
     "output_type": "stream",
     "text": [
      "=============================================================\n",
      "epoch: 8, source_val_acc_label: 0.7899, target_val_acc_label: 0.6425, source_val_label_loss: 0.6377, target_val_label_loss: 1.4168, \n",
      "=============================================================\n"
     ]
    },
    {
     "name": "stdout",
     "output_type": "stream",
     "text": [
      "Patience (3) exhausted\n"
     ]
    }
   ],
   "source": [
    "###################################\n",
    "# train\n",
    "###################################\n",
    "jig = PTN_Train_Eval_Test_Jig(model, p.BEST_MODEL_PATH, p.device)\n",
    "\n",
    "jig.train(\n",
    "    train_iterable=datasets.source.processed.train,\n",
    "    source_val_iterable=datasets.source.processed.val,\n",
    "    target_val_iterable=datasets.target.processed.val,\n",
    "    num_epochs=p.n_epoch,\n",
    "    num_logs_per_epoch=p.NUM_LOGS_PER_EPOCH,\n",
    "    patience=p.patience,\n",
    "    optimizer=optimizer,\n",
    "    criteria_for_best=p.criteria_for_best,\n",
    ")"
   ]
  },
  {
   "cell_type": "code",
   "execution_count": 14,
   "id": "31e8fabf",
   "metadata": {
    "execution": {
     "iopub.execute_input": "2022-03-05T01:01:30.217125Z",
     "iopub.status.busy": "2022-03-05T01:01:30.216864Z",
     "iopub.status.idle": "2022-03-05T01:01:30.234437Z",
     "shell.execute_reply": "2022-03-05T01:01:30.233930Z"
    },
    "papermill": {
     "duration": 0.047045,
     "end_time": "2022-03-05T01:01:30.234544",
     "exception": false,
     "start_time": "2022-03-05T01:01:30.187499",
     "status": "completed"
    },
    "tags": []
   },
   "outputs": [],
   "source": [
    "total_experiment_time_secs = time.time() - start_time_secs"
   ]
  },
  {
   "cell_type": "code",
   "execution_count": 15,
   "id": "87b9595b",
   "metadata": {
    "execution": {
     "iopub.execute_input": "2022-03-05T01:01:30.295310Z",
     "iopub.status.busy": "2022-03-05T01:01:30.295021Z",
     "iopub.status.idle": "2022-03-05T01:01:55.847963Z",
     "shell.execute_reply": "2022-03-05T01:01:55.847494Z"
    },
    "papermill": {
     "duration": 25.582982,
     "end_time": "2022-03-05T01:01:55.848074",
     "exception": false,
     "start_time": "2022-03-05T01:01:30.265092",
     "status": "completed"
    },
    "tags": []
   },
   "outputs": [],
   "source": [
    "###################################\n",
    "# Evaluate the model\n",
    "###################################\n",
    "source_test_label_accuracy, source_test_label_loss = jig.test(datasets.source.processed.test)\n",
    "target_test_label_accuracy, target_test_label_loss = jig.test(datasets.target.processed.test)\n",
    "\n",
    "source_val_label_accuracy, source_val_label_loss = jig.test(datasets.source.processed.val)\n",
    "target_val_label_accuracy, target_val_label_loss = jig.test(datasets.target.processed.val)\n",
    "\n",
    "history = jig.get_history()\n",
    "\n",
    "total_epochs_trained = len(history[\"epoch_indices\"])\n",
    "\n",
    "val_dl = Iterable_Aggregator((datasets.source.original.val,datasets.target.original.val))\n",
    "\n",
    "confusion = ptn_confusion_by_domain_over_dataloader(model, p.device, val_dl)\n",
    "per_domain_accuracy = per_domain_accuracy_from_confusion(confusion)\n",
    "\n",
    "# Add a key to per_domain_accuracy for if it was a source domain\n",
    "for domain, accuracy in per_domain_accuracy.items():\n",
    "    per_domain_accuracy[domain] = {\n",
    "        \"accuracy\": accuracy,\n",
    "        \"source?\": domain in p.domains_source\n",
    "    }\n",
    "\n",
    "# Do an independent accuracy assesment JUST TO BE SURE!\n",
    "# _source_test_label_accuracy = independent_accuracy_assesment(model, datasets.source.processed.test, p.device)\n",
    "# _target_test_label_accuracy = independent_accuracy_assesment(model, datasets.target.processed.test, p.device)\n",
    "# _source_val_label_accuracy = independent_accuracy_assesment(model, datasets.source.processed.val, p.device)\n",
    "# _target_val_label_accuracy = independent_accuracy_assesment(model, datasets.target.processed.val, p.device)\n",
    "\n",
    "# assert(_source_test_label_accuracy == source_test_label_accuracy)\n",
    "# assert(_target_test_label_accuracy == target_test_label_accuracy)\n",
    "# assert(_source_val_label_accuracy == source_val_label_accuracy)\n",
    "# assert(_target_val_label_accuracy == target_val_label_accuracy)\n",
    "\n",
    "experiment = {\n",
    "    \"experiment_name\": p.experiment_name,\n",
    "    \"parameters\": dict(p),\n",
    "    \"results\": {\n",
    "        \"source_test_label_accuracy\": source_test_label_accuracy,\n",
    "        \"source_test_label_loss\": source_test_label_loss,\n",
    "        \"target_test_label_accuracy\": target_test_label_accuracy,\n",
    "        \"target_test_label_loss\": target_test_label_loss,\n",
    "        \"source_val_label_accuracy\": source_val_label_accuracy,\n",
    "        \"source_val_label_loss\": source_val_label_loss,\n",
    "        \"target_val_label_accuracy\": target_val_label_accuracy,\n",
    "        \"target_val_label_loss\": target_val_label_loss,\n",
    "        \"total_epochs_trained\": total_epochs_trained,\n",
    "        \"total_experiment_time_secs\": total_experiment_time_secs,\n",
    "        \"confusion\": confusion,\n",
    "        \"per_domain_accuracy\": per_domain_accuracy,\n",
    "    },\n",
    "    \"history\": history,\n",
    "    \"dataset_metrics\": get_dataset_metrics(datasets, \"ptn\"),\n",
    "}"
   ]
  },
  {
   "cell_type": "code",
   "execution_count": 16,
   "id": "54a21829",
   "metadata": {
    "execution": {
     "iopub.execute_input": "2022-03-05T01:01:55.909113Z",
     "iopub.status.busy": "2022-03-05T01:01:55.908617Z",
     "iopub.status.idle": "2022-03-05T01:01:56.094942Z",
     "shell.execute_reply": "2022-03-05T01:01:56.095373Z"
    },
    "papermill": {
     "duration": 0.215403,
     "end_time": "2022-03-05T01:01:56.095502",
     "exception": false,
     "start_time": "2022-03-05T01:01:55.880099",
     "status": "completed"
    },
    "tags": []
   },
   "outputs": [
    {
     "data": {
      "image/png": "[encoded data removed]",
      "text/plain": [
       "<Figure size 1080x504 with 1 Axes>"
      ]
     },
     "metadata": {
      "needs_background": "light"
     },
     "output_type": "display_data"
    }
   ],
   "source": [
    "ax = get_loss_curve(experiment)\n",
    "plt.show()"
   ]
  },
  {
   "cell_type": "code",
   "execution_count": 17,
   "id": "fd8a0f60",
   "metadata": {
    "execution": {
     "iopub.execute_input": "2022-03-05T01:01:56.160440Z",
     "iopub.status.busy": "2022-03-05T01:01:56.159072Z",
     "iopub.status.idle": "2022-03-05T01:01:56.417088Z",
     "shell.execute_reply": "2022-03-05T01:01:56.417514Z"
    },
    "papermill": {
     "duration": 0.288102,
     "end_time": "2022-03-05T01:01:56.417650",
     "exception": false,
     "start_time": "2022-03-05T01:01:56.129548",
     "status": "completed"
    },
    "tags": []
   },
   "outputs": [
    {
     "data": {
      "text/plain": [
       "<matplotlib.axes._subplots.AxesSubplot at 0x7f08cc792100>"
      ]
     },
     "execution_count": 17,
     "metadata": {},
     "output_type": "execute_result"
    },
    {
     "data": {
      "image/png": "[encoded data removed]",
      "text/plain": [
       "<Figure size 1080x504 with 1 Axes>"
      ]
     },
     "metadata": {
      "needs_background": "light"
     },
     "output_type": "display_data"
    }
   ],
   "source": [
    "get_results_table(experiment)"
   ]
  },
  {
   "cell_type": "code",
   "execution_count": 18,
   "id": "cf8dc689",
   "metadata": {
    "execution": {
     "iopub.execute_input": "2022-03-05T01:01:56.484090Z",
     "iopub.status.busy": "2022-03-05T01:01:56.483311Z",
     "iopub.status.idle": "2022-03-05T01:01:56.656126Z",
     "shell.execute_reply": "2022-03-05T01:01:56.656543Z"
    },
    "papermill": {
     "duration": 0.204412,
     "end_time": "2022-03-05T01:01:56.656674",
     "exception": false,
     "start_time": "2022-03-05T01:01:56.452262",
     "status": "completed"
    },
    "tags": []
   },
   "outputs": [
    {
     "data": {
      "text/plain": [
       "<matplotlib.axes._subplots.AxesSubplot at 0x7f08cc7eba30>"
      ]
     },
     "execution_count": 18,
     "metadata": {},
     "output_type": "execute_result"
    },
    {
     "data": {
      "image/png": "[encoded data removed]",
      "text/plain": [
       "<Figure size 1080x504 with 1 Axes>"
      ]
     },
     "metadata": {
      "needs_background": "light"
     },
     "output_type": "display_data"
    }
   ],
   "source": [
    "get_domain_accuracies(experiment)"
   ]
  },
  {
   "cell_type": "code",
   "execution_count": 19,
   "id": "a74ae082",
   "metadata": {
    "execution": {
     "iopub.execute_input": "2022-03-05T01:01:56.722854Z",
     "iopub.status.busy": "2022-03-05T01:01:56.722582Z",
     "iopub.status.idle": "2022-03-05T01:01:56.735863Z",
     "shell.execute_reply": "2022-03-05T01:01:56.736250Z"
    },
    "papermill": {
     "duration": 0.04611,
     "end_time": "2022-03-05T01:01:56.736376",
     "exception": false,
     "start_time": "2022-03-05T01:01:56.690266",
     "status": "completed"
    },
    "tags": []
   },
   "outputs": [
    {
     "name": "stdout",
     "output_type": "stream",
     "text": [
      "Source Test Label Accuracy: 0.7883680555555556 Target Test Label Accuracy: 0.6410416666666666\n",
      "Source Val Label Accuracy: 0.7932291666666667 Target Val Label Accuracy: 0.6477083333333333\n"
     ]
    }
   ],
   "source": [
    "print(\"Source Test Label Accuracy:\", experiment[\"results\"][\"source_test_label_accuracy\"], \"Target Test Label Accuracy:\", experiment[\"results\"][\"target_test_label_accuracy\"])\n",
    "print(\"Source Val Label Accuracy:\", experiment[\"results\"][\"source_val_label_accuracy\"], \"Target Val Label Accuracy:\", experiment[\"results\"][\"target_val_label_accuracy\"])"
   ]
  },
  {
   "cell_type": "code",
   "execution_count": 20,
   "id": "dacca602",
   "metadata": {
    "execution": {
     "iopub.execute_input": "2022-03-05T01:01:56.803638Z",
     "iopub.status.busy": "2022-03-05T01:01:56.802846Z",
     "iopub.status.idle": "2022-03-05T01:01:56.817908Z",
     "shell.execute_reply": "2022-03-05T01:01:56.817513Z"
    },
    "papermill": {
     "duration": 0.046768,
     "end_time": "2022-03-05T01:01:56.818010",
     "exception": false,
     "start_time": "2022-03-05T01:01:56.771242",
     "status": "completed"
    },
    "tags": [
     "experiment_json"
    ]
   },
   "outputs": [
    {
     "data": {
      "text/plain": [
       "'{\"experiment_name\": \"trainKFactor_oracle.run2\", \"parameters\": {\"experiment_name\": \"trainKFactor_oracle.run2\", \"device\": \"cuda\", \"lr\": 0.001, \"seed\": 1337, \"dataset_seed\": 1337, \"labels_source\": [\"3123D52\", \"3123D65\", \"3123D79\", \"3123D80\", \"3123D54\", \"3123D70\", \"3123D7B\", \"3123D89\", \"3123D58\", \"3123D76\", \"3123D7D\", \"3123EFE\", \"3123D64\", \"3123D78\", \"3123D7E\", \"3124E4A\"], \"labels_target\": [\"3123D52\", \"3123D65\", \"3123D79\", \"3123D80\", \"3123D54\", \"3123D70\", \"3123D7B\", \"3123D89\", \"3123D58\", \"3123D76\", \"3123D7D\", \"3123EFE\", \"3123D64\", \"3123D78\", \"3123D7E\", \"3124E4A\"], \"x_transforms_source\": [], \"x_transforms_target\": [], \"episode_transforms_source\": [], \"episode_transforms_target\": [], \"num_examples_per_domain_per_label_source\": 1000, \"num_examples_per_domain_per_label_target\": 1000, \"n_shot\": 3, \"n_way\": 16, \"n_query\": 2, \"val_k_factor\": 2, \"test_k_factor\": 2, \"torch_default_dtype\": \"torch.float32\", \"n_epoch\": 50, \"patience\": 3, \"criteria_for_best\": \"target_loss\", \"x_net\": [{\"class\": \"nnReshape\", \"kargs\": {\"shape\": [-1, 1, 2, 256]}}, {\"class\": \"Conv2d\", \"kargs\": {\"in_channels\": 1, \"out_channels\": 256, \"kernel_size\": [1, 7], \"bias\": false, \"padding\": [0, 3]}}, {\"class\": \"ReLU\", \"kargs\": {\"inplace\": true}}, {\"class\": \"BatchNorm2d\", \"kargs\": {\"num_features\": 256}}, {\"class\": \"Conv2d\", \"kargs\": {\"in_channels\": 256, \"out_channels\": 80, \"kernel_size\": [2, 7], \"bias\": true, \"padding\": [0, 3]}}, {\"class\": \"ReLU\", \"kargs\": {\"inplace\": true}}, {\"class\": \"BatchNorm2d\", \"kargs\": {\"num_features\": 80}}, {\"class\": \"Flatten\", \"kargs\": {}}, {\"class\": \"Linear\", \"kargs\": {\"in_features\": 20480, \"out_features\": 256}}, {\"class\": \"ReLU\", \"kargs\": {\"inplace\": true}}, {\"class\": \"BatchNorm1d\", \"kargs\": {\"num_features\": 256}}, {\"class\": \"Linear\", \"kargs\": {\"in_features\": 256, \"out_features\": 256}}], \"NUM_LOGS_PER_EPOCH\": 10, \"BEST_MODEL_PATH\": \"./best_model.pth\", \"pickle_name\": \"oracle.Run2_10kExamples_stratified_ds.2022A.pkl\", \"train_k_factor\": 3, \"domains_source\": [8, 32, 50], \"domains_target\": [14, 20, 26, 38, 44]}, \"results\": {\"source_test_label_accuracy\": 0.7883680555555556, \"source_test_label_loss\": 0.5654569864273071, \"target_test_label_accuracy\": 0.6410416666666666, \"target_test_label_loss\": 1.1839433908462524, \"source_val_label_accuracy\": 0.7932291666666667, \"source_val_label_loss\": 0.559800922870636, \"target_val_label_accuracy\": 0.6477083333333333, \"target_val_label_loss\": 1.1451458930969238, \"total_epochs_trained\": 8, \"total_experiment_time_secs\": 286.9871916770935, \"confusion\": {\"8\": {\"15\": {\"15\": 112, \"12\": 3, \"2\": 5}, \"3\": {\"3\": 120}, \"6\": {\"6\": 58, \"8\": 24, \"14\": 33, \"11\": 2, \"4\": 3}, \"1\": {\"10\": 11, \"4\": 17, \"1\": 74, \"13\": 5, \"7\": 2, \"5\": 8, \"14\": 3}, \"8\": {\"8\": 83, \"6\": 27, \"11\": 7, \"14\": 2, \"4\": 1}, \"10\": {\"10\": 64, \"13\": 17, \"5\": 37, \"1\": 2}, \"9\": {\"9\": 120}, \"13\": {\"13\": 80, \"10\": 34, \"7\": 4, \"5\": 1, \"1\": 1}, \"12\": {\"12\": 110, \"15\": 5, \"2\": 5}, \"5\": {\"5\": 64, \"13\": 5, \"10\": 30, \"1\": 20, \"4\": 1}, \"0\": {\"0\": 120}, \"2\": {\"2\": 117, \"15\": 2, \"12\": 1}, \"11\": {\"11\": 69, \"8\": 34, \"4\": 2, \"7\": 8, \"6\": 5, \"12\": 1, \"14\": 1}, \"14\": {\"14\": 82, \"6\": 28, \"8\": 4, \"1\": 5, \"4\": 1}, \"7\": {\"4\": 22, \"7\": 85, \"10\": 1, \"1\": 5, \"13\": 1, \"11\": 3, \"8\": 2, \"5\": 1}, \"4\": {\"8\": 6, \"7\": 31, \"6\": 8, \"4\": 58, \"1\": 15, \"10\": 2}}, \"50\": {\"3\": {\"3\": 120}, \"15\": {\"15\": 98, \"4\": 3, \"6\": 7, \"12\": 4, \"9\": 5, \"5\": 3}, \"8\": {\"8\": 120}, \"4\": {\"4\": 95, \"5\": 18, \"7\": 4, \"15\": 3}, \"14\": {\"14\": 119, \"2\": 1}, \"0\": {\"2\": 15, \"0\": 97, \"10\": 8}, \"7\": {\"7\": 103, \"4\": 16, \"5\": 1}, \"6\": {\"6\": 94, \"15\": 9, \"5\": 15, \"4\": 2}, \"10\": {\"10\": 111, \"0\": 9}, \"5\": {\"4\": 24, \"5\": 76, \"7\": 12, \"6\": 8}, \"2\": {\"2\": 111, \"0\": 9}, \"12\": {\"11\": 19, \"12\": 94, \"15\": 6, \"9\": 1}, \"9\": {\"9\": 112, \"15\": 4, \"12\": 4}, \"1\": {\"1\": 116, \"13\": 2, \"11\": 2}, \"11\": {\"11\": 103, \"12\": 16, \"1\": 1}, \"13\": {\"13\": 114, \"1\": 3, \"8\": 2, \"10\": 1}}, \"32\": {\"5\": {\"5\": 96, \"15\": 16, \"7\": 3, \"2\": 2, \"14\": 3}, \"8\": {\"8\": 79, \"0\": 12, \"7\": 27, \"2\": 1, \"15\": 1}, \"11\": {\"11\": 53, \"13\": 29, \"4\": 34, \"0\": 2, \"3\": 2}, \"1\": {\"1\": 120}, \"10\": {\"10\": 120}, \"15\": {\"15\": 108, \"5\": 10, \"8\": 2}, \"3\": {\"3\": 114, \"4\": 1, \"13\": 5}, \"7\": {\"8\": 31, \"0\": 24, \"7\": 46, \"2\": 16, \"14\": 1, \"4\": 1, \"5\": 1}, \"4\": {\"4\": 92, \"11\": 24, \"2\": 1, \"0\": 1, \"3\": 2}, \"14\": {\"14\": 58, \"2\": 59, \"5\": 1, \"7\": 1, \"0\": 1}, \"9\": {\"9\": 120}, \"12\": {\"12\": 120}, \"6\": {\"6\": 120}, \"2\": {\"2\": 68, \"0\": 10, \"14\": 30, \"7\": 11, \"8\": 1}, \"0\": {\"4\": 7, \"7\": 22, \"0\": 65, \"8\": 12, \"2\": 11, \"11\": 1, \"14\": 2}, \"13\": {\"13\": 91, \"3\": 13, \"11\": 14, \"4\": 2}}, \"14\": {\"15\": {\"15\": 120}, \"3\": {\"3\": 112, \"7\": 2, \"5\": 1, \"6\": 3, \"2\": 2}, \"6\": {\"13\": 31, \"6\": 83, \"7\": 4, \"3\": 2}, \"1\": {\"1\": 120}, \"8\": {\"10\": 29, \"8\": 84, \"0\": 7}, \"10\": {\"0\": 26, \"3\": 6, \"8\": 38, \"10\": 46, \"14\": 1, \"4\": 1, \"12\": 1, \"5\": 1}, \"9\": {\"9\": 116, \"12\": 3, \"0\": 1}, \"13\": {\"13\": 81, \"6\": 39}, \"12\": {\"12\": 37, \"9\": 21, \"8\": 15, \"15\": 24, \"3\": 9, \"6\": 3, \"10\": 5, \"4\": 1, \"11\": 4, \"0\": 1}, \"5\": {\"5\": 71, \"2\": 12, \"14\": 29, \"4\": 2, \"10\": 3, \"0\": 1, \"3\": 2}, \"0\": {\"0\": 79, \"4\": 8, \"10\": 14, \"8\": 18, \"9\": 1}, \"2\": {\"7\": 25, \"2\": 32, \"5\": 23, \"3\": 10, \"14\": 28, \"6\": 1, \"4\": 1}, \"11\": {\"11\": 120}, \"14\": {\"14\": 46, \"2\": 26, \"7\": 8, \"5\": 33, \"3\": 4, \"10\": 3}, \"7\": {\"3\": 4, \"7\": 100, \"14\": 2, \"2\": 10, \"5\": 2, \"6\": 2}, \"4\": {\"4\": 107, \"5\": 4, \"0\": 7, \"10\": 1, \"14\": 1}}, \"20\": {\"3\": {\"7\": 25, \"3\": 23, \"15\": 5, \"6\": 2, \"4\": 24, \"9\": 14, \"5\": 11, \"2\": 13, \"1\": 1, \"12\": 2}, \"15\": {\"13\": 8, \"15\": 31, \"4\": 9, \"1\": 7, \"3\": 8, \"9\": 35, \"5\": 5, \"2\": 9, \"12\": 6, \"7\": 2}, \"8\": {\"11\": 41, \"14\": 27, \"8\": 51, \"0\": 1}, \"4\": {\"7\": 15, \"15\": 20, \"3\": 32, \"13\": 2, \"5\": 6, \"9\": 19, \"2\": 5, \"4\": 14, \"10\": 4, \"12\": 3}, \"14\": {\"14\": 77, \"8\": 26, \"11\": 10, \"7\": 3, \"2\": 3, \"5\": 1}, \"0\": {\"0\": 89, \"11\": 21, \"1\": 5, \"8\": 5}, \"7\": {\"7\": 51, \"10\": 13, \"3\": 17, \"6\": 4, \"9\": 6, \"4\": 17, \"2\": 4, \"13\": 2, \"12\": 3, \"5\": 3}, \"6\": {\"6\": 93, \"7\": 7, \"10\": 20}, \"10\": {\"10\": 80, \"6\": 16, \"7\": 11, \"4\": 2, \"12\": 8, \"13\": 1, \"5\": 1, \"3\": 1}, \"5\": {\"12\": 1, \"1\": 14, \"15\": 8, \"3\": 11, \"2\": 24, \"5\": 34, \"7\": 5, \"9\": 14, \"4\": 7, \"8\": 2}, \"2\": {\"5\": 19, \"15\": 10, \"3\": 17, \"4\": 9, \"2\": 21, \"9\": 27, \"7\": 7, \"1\": 9, \"13\": 1}, \"12\": {\"13\": 51, \"12\": 50, \"4\": 2, \"9\": 3, \"3\": 2, \"15\": 7, \"10\": 5}, \"9\": {\"12\": 2, \"15\": 27, \"3\": 12, \"5\": 11, \"2\": 21, \"4\": 14, \"9\": 20, \"7\": 8, \"1\": 2, \"13\": 3}, \"1\": {\"1\": 87, \"5\": 15, \"2\": 8, \"9\": 4, \"0\": 2, \"15\": 2, \"3\": 1, \"4\": 1}, \"11\": {\"11\": 66, \"8\": 25, \"0\": 13, \"14\": 16}, \"13\": {\"13\": 55, \"12\": 51, \"7\": 1, \"3\": 2, \"4\": 5, \"15\": 6}}, \"44\": {\"5\": {\"5\": 85, \"14\": 12, \"15\": 15, \"8\": 8}, \"8\": {\"8\": 82, \"5\": 15, \"0\": 17, \"15\": 6}, \"11\": {\"11\": 120}, \"1\": {\"1\": 105, \"2\": 13, \"12\": 2}, \"10\": {\"10\": 116, \"6\": 2, \"7\": 2}, \"15\": {\"15\": 90, \"5\": 17, \"14\": 1, \"8\": 9, \"0\": 3}, \"3\": {\"3\": 106, \"12\": 13, \"1\": 1}, \"7\": {\"7\": 73, \"9\": 43, \"6\": 3, \"10\": 1}, \"4\": {\"14\": 22, \"4\": 98}, \"14\": {\"14\": 98, \"4\": 16, \"5\": 6}, \"9\": {\"9\": 76, \"7\": 41, \"6\": 2, \"4\": 1}, \"12\": {\"12\": 105, \"3\": 15}, \"6\": {\"6\": 111, \"7\": 3, \"13\": 4, \"10\": 2}, \"2\": {\"2\": 92, \"1\": 28}, \"0\": {\"0\": 90, \"8\": 25, \"15\": 4, \"5\": 1}, \"13\": {\"13\": 112, \"4\": 3, \"6\": 5}}, \"38\": {\"14\": {\"2\": 48, \"14\": 51, \"13\": 2, \"7\": 15, \"4\": 1, \"12\": 2, \"8\": 1}, \"0\": {\"0\": 107, \"7\": 11, \"8\": 1, \"9\": 1}, \"13\": {\"10\": 23, \"3\": 17, \"13\": 72, \"4\": 8}, \"7\": {\"7\": 104, \"0\": 11, \"8\": 4, \"14\": 1}, \"9\": {\"9\": 110, \"12\": 1, \"8\": 1, \"5\": 7, \"0\": 1}, \"3\": {\"13\": 29, \"10\": 27, \"3\": 44, \"4\": 16, \"11\": 4}, \"11\": {\"11\": 120}, \"6\": {\"6\": 108, \"15\": 11, \"1\": 1}, \"8\": {\"8\": 101, \"12\": 5, \"5\": 10, \"9\": 3, \"14\": 1}, \"4\": {\"3\": 11, \"4\": 82, \"10\": 20, \"13\": 3, \"7\": 4}, \"5\": {\"5\": 34, \"7\": 1, \"8\": 40, \"12\": 37, \"9\": 8}, \"10\": {\"4\": 23, \"3\": 25, \"10\": 67, \"13\": 5}, \"1\": {\"1\": 96, \"15\": 24}, \"2\": {\"2\": 112, \"14\": 8}, \"15\": {\"15\": 58, \"1\": 35, \"5\": 2, \"6\": 24, \"12\": 1}, \"12\": {\"12\": 74, \"5\": 35, \"8\": 7, \"2\": 2, \"9\": 2}}, \"26\": {\"13\": {\"13\": 85, \"7\": 17, \"9\": 15, \"8\": 3}, \"2\": {\"2\": 50, \"8\": 35, \"7\": 14, \"9\": 13, \"15\": 6, \"3\": 1, \"0\": 1}, \"8\": {\"8\": 40, \"2\": 37, \"7\": 2, \"9\": 23, \"15\": 9, \"13\": 4, \"0\": 3, \"10\": 2}, \"9\": {\"9\": 44, \"2\": 20, \"7\": 7, \"8\": 32, \"13\": 14, \"15\": 2, \"12\": 1}, \"12\": {\"12\": 120}, \"4\": {\"4\": 118, \"3\": 2}, \"3\": {\"3\": 88, \"7\": 27, \"2\": 3, \"9\": 1, \"8\": 1}, \"15\": {\"15\": 64, \"0\": 23, \"8\": 11, \"2\": 9, \"14\": 5, \"10\": 8}, \"14\": {\"15\": 5, \"14\": 49, \"0\": 18, \"10\": 21, \"1\": 8, \"5\": 14, \"6\": 5}, \"10\": {\"15\": 24, \"10\": 28, \"6\": 10, \"0\": 19, \"9\": 8, \"1\": 7, \"14\": 13, \"2\": 2, \"8\": 7, \"5\": 2}, \"7\": {\"8\": 3, \"3\": 31, \"7\": 69, \"9\": 4, \"13\": 5, \"2\": 8}, \"11\": {\"11\": 120}, \"6\": {\"5\": 41, \"6\": 64, \"1\": 7, \"14\": 7, \"10\": 1}, \"1\": {\"1\": 99, \"5\": 12, \"14\": 6, \"6\": 3}, \"5\": {\"10\": 4, \"5\": 40, \"14\": 14, \"6\": 38, \"1\": 22, \"0\": 2}, \"0\": {\"0\": 45, \"14\": 19, \"15\": 21, \"2\": 1, \"10\": 28, \"5\": 1, \"8\": 4, \"9\": 1}}}, \"per_domain_accuracy\": {\"8\": {\"accuracy\": 0.7375, \"source?\": true}, \"50\": {\"accuracy\": 0.8765625, \"source?\": true}, \"32\": {\"accuracy\": 0.765625, \"source?\": true}, \"14\": {\"accuracy\": 0.7052083333333333, \"source?\": false}, \"20\": {\"accuracy\": 0.43854166666666666, \"source?\": false}, \"44\": {\"accuracy\": 0.8119791666666667, \"source?\": false}, \"38\": {\"accuracy\": 0.6979166666666666, \"source?\": false}, \"26\": {\"accuracy\": 0.5848958333333333, \"source?\": false}}}, \"history\": {\"epoch_indices\": [1, 2, 3, 4, 5, 6, 7, 8], \"train_label_loss\": [1.1753973142968284, 0.8588670962977977, 0.5363396924639505, 0.4421532906473629, 0.37963149870731056, 0.33456189461968955, 0.2917035789243759, 0.26446764058995226], \"source_val_label_loss\": [1.5539039373397827, 0.6858546733856201, 0.5786841511726379, 0.559800922870636, 0.5808048844337463, 0.5989300608634949, 0.6143345236778259, 0.6377002000808716], \"target_val_label_loss\": [1.6955088376998901, 1.2866029739379883, 1.2102985382080078, 1.1451458930969238, 1.388001799583435, 1.4035468101501465, 1.3227438926696777, 1.41684889793396], \"source_val_acc_label\": [0.47934027777777777, 0.7434027777777777, 0.7805555555555556, 0.7932291666666667, 0.7894097222222223, 0.7895833333333333, 0.7972222222222223, 0.7899305555555556], \"target_val_acc_label\": [0.40875, 0.6065625, 0.63125, 0.6477083333333333, 0.6433333333333333, 0.6389583333333333, 0.6426041666666666, 0.6425]}, \"dataset_metrics\": {\"source\": {\"train\": {\"n_unique_x\": 33600, \"n_unique_y\": 16, \"n_batch/episode\": 1260}, \"val\": {\"n_unique_x\": 7200, \"n_unique_y\": 16, \"n_batch/episode\": 180}, \"test\": {\"n_unique_x\": 7200, \"n_unique_y\": 16, \"n_batch/episode\": 180}}, \"target\": {\"train\": {\"n_unique_x\": 56000, \"n_unique_y\": 16, \"n_batch/episode\": 2100}, \"val\": {\"n_unique_x\": 12000, \"n_unique_y\": 16, \"n_batch/episode\": 300}, \"test\": {\"n_unique_x\": 12000, \"n_unique_y\": 16, \"n_batch/episode\": 300}}}}'"
      ]
     },
     "execution_count": 20,
     "metadata": {},
     "output_type": "execute_result"
    }
   ],
   "source": [
    "json.dumps(experiment)"
   ]
  }
 ],
 "metadata": {
  "celltoolbar": "Tags",
  "kernelspec": {
   "display_name": "Python 3 (ipykernel)",
   "language": "python",
   "name": "python3"
  },
  "language_info": {
   "codemirror_mode": {
    "name": "ipython",
    "version": 3
   },
   "file_extension": ".py",
   "mimetype": "text/x-python",
   "name": "python",
   "nbconvert_exporter": "python",
   "pygments_lexer": "ipython3",
   "version": "3.8.10"
  },
  "papermill": {
   "default_parameters": {},
   "duration": 315.9363,
   "end_time": "2022-03-05T01:01:57.459899",
   "environment_variables": {},
   "exception": null,
   "input_path": "/mnt/wd500GB/CSC500/csc500-main/csc500-notebooks/templates/ptn_template.ipynb",
   "output_path": "trial.ipynb",
   "parameters": {
    "parameters": {
     "BEST_MODEL_PATH": "./best_model.pth",
     "NUM_LOGS_PER_EPOCH": 10,
     "criteria_for_best": "target_loss",
     "dataset_seed": 1337,
     "device": "cuda",
     "domains_source": [
      8,
      32,
      50
     ],
     "domains_target": [
      14,
      20,
      26,
      38,
      44
     ],
     "episode_transforms_source": [],
     "episode_transforms_target": [],
     "experiment_name": "trainKFactor_oracle.run2",
     "labels_source": [
      "3123D52",
      "3123D65",
      "3123D79",
      "3123D80",
      "3123D54",
      "3123D70",
      "3123D7B",
      "3123D89",
      "3123D58",
      "3123D76",
      "3123D7D",
      "3123EFE",
      "3123D64",
      "3123D78",
      "3123D7E",
      "3124E4A"
     ],
     "labels_target": [
      "3123D52",
      "3123D65",
      "3123D79",
      "3123D80",
      "3123D54",
      "3123D70",
      "3123D7B",
      "3123D89",
      "3123D58",
      "3123D76",
      "3123D7D",
      "3123EFE",
      "3123D64",
      "3123D78",
      "3123D7E",
      "3124E4A"
     ],
     "lr": 0.001,
     "n_epoch": 50,
     "n_query": 2,
     "n_shot": 3,
     "n_way": 16,
     "num_examples_per_domain_per_label_source": 1000,
     "num_examples_per_domain_per_label_target": 1000,
     "patience": 3,
     "pickle_name": "oracle.Run2_10kExamples_stratified_ds.2022A.pkl",
     "seed": 1337,
     "test_k_factor": 2,
     "torch_default_dtype": "torch.float32",
     "train_k_factor": 3,
     "val_k_factor": 2,
     "x_net": [
      {
       "class": "nnReshape",
       "kargs": {
        "shape": [
         -1,
         1,
         2,
         256
        ]
       }
      },
      {
       "class": "Conv2d",
       "kargs": {
        "bias": false,
        "in_channels": 1,
        "kernel_size": [
         1,
         7
        ],
        "out_channels": 256,
        "padding": [
         0,
         3
        ]
       }
      },
      {
       "class": "ReLU",
       "kargs": {
        "inplace": true
       }
      },
      {
       "class": "BatchNorm2d",
       "kargs": {
        "num_features": 256
       }
      },
      {
       "class": "Conv2d",
       "kargs": {
        "bias": true,
        "in_channels": 256,
        "kernel_size": [
         2,
         7
        ],
        "out_channels": 80,
        "padding": [
         0,
         3
        ]
       }
      },
      {
       "class": "ReLU",
       "kargs": {
        "inplace": true
       }
      },
      {
       "class": "BatchNorm2d",
       "kargs": {
        "num_features": 80
       }
      },
      {
       "class": "Flatten",
       "kargs": {}
      },
      {
       "class": "Linear",
       "kargs": {
        "in_features": 20480,
        "out_features": 256
       }
      },
      {
       "class": "ReLU",
       "kargs": {
        "inplace": true
       }
      },
      {
       "class": "BatchNorm1d",
       "kargs": {
        "num_features": 256
       }
      },
      {
       "class": "Linear",
       "kargs": {
        "in_features": 256,
        "out_features": 256
       }
      }
     ],
     "x_transforms_source": [],
     "x_transforms_target": []
    }
   },
   "start_time": "2022-03-05T00:56:41.523599",
   "version": "2.3.4"
  }
 },
 "nbformat": 4,
 "nbformat_minor": 5
}