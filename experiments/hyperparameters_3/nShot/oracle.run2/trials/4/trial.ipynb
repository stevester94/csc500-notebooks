{
 "cells": [
  {
   "cell_type": "markdown",
   "id": "9fea5f46",
   "metadata": {
    "papermill": {
     "duration": 0.012034,
     "end_time": "2022-03-05T00:35:09.885271",
     "exception": false,
     "start_time": "2022-03-05T00:35:09.873237",
     "status": "completed"
    },
    "tags": []
   },
   "source": [
    "# PTN Template\n",
    "This notebook serves as a template for single dataset PTN experiments  \n",
    "It can be run on its own by setting STANDALONE to True (do a find for \"STANDALONE\" to see where)  \n",
    "But it is intended to be executed as part of a *papermill.py script. See any of the   \n",
    "experimentes with a papermill script to get started with that workflow.  "
   ]
  },
  {
   "cell_type": "code",
   "execution_count": 1,
   "id": "0902182a",
   "metadata": {
    "execution": {
     "iopub.execute_input": "2022-03-05T00:35:09.917696Z",
     "iopub.status.busy": "2022-03-05T00:35:09.917326Z",
     "iopub.status.idle": "2022-03-05T00:35:10.685240Z",
     "shell.execute_reply": "2022-03-05T00:35:10.684738Z"
    },
    "papermill": {
     "duration": 0.790651,
     "end_time": "2022-03-05T00:35:10.685360",
     "exception": false,
     "start_time": "2022-03-05T00:35:09.894709",
     "status": "completed"
    },
    "tags": []
   },
   "outputs": [],
   "source": [
    "%load_ext autoreload\n",
    "%autoreload 2\n",
    "%matplotlib inline\n",
    "\n",
    "    \n",
    "import os, json, sys, time, random\n",
    "import numpy as np\n",
    "import torch\n",
    "from torch.optim import Adam\n",
    "from  easydict import EasyDict\n",
    "import matplotlib.pyplot as plt\n",
    "\n",
    "from steves_models.steves_ptn import Steves_Prototypical_Network\n",
    "\n",
    "from steves_utils.lazy_iterable_wrapper import Lazy_Iterable_Wrapper\n",
    "from steves_utils.iterable_aggregator import Iterable_Aggregator\n",
    "from steves_utils.ptn_train_eval_test_jig import  PTN_Train_Eval_Test_Jig\n",
    "from steves_utils.torch_sequential_builder import build_sequential\n",
    "from steves_utils.torch_utils import get_dataset_metrics, ptn_confusion_by_domain_over_dataloader\n",
    "from steves_utils.utils_v2 import (per_domain_accuracy_from_confusion, get_datasets_base_path)\n",
    "from steves_utils.PTN.utils import independent_accuracy_assesment\n",
    "\n",
    "from steves_utils.stratified_dataset.episodic_accessor import Episodic_Accessor_Factory\n",
    "\n",
    "from steves_utils.ptn_do_report import (\n",
    "    get_loss_curve,\n",
    "    get_results_table,\n",
    "    get_parameters_table,\n",
    "    get_domain_accuracies,\n",
    ")\n",
    "\n",
    "from steves_utils.transforms import get_chained_transform"
   ]
  },
  {
   "cell_type": "markdown",
   "id": "41c840b4",
   "metadata": {
    "papermill": {
     "duration": 0.009231,
     "end_time": "2022-03-05T00:35:10.709684",
     "exception": false,
     "start_time": "2022-03-05T00:35:10.700453",
     "status": "completed"
    },
    "tags": []
   },
   "source": [
    "# Required Parameters\n",
    "These are allowed parameters, not defaults\n",
    "Each of these values need to be present in the injected parameters (the notebook will raise an exception if they are not present)\n",
    "\n",
    "Papermill uses the cell tag \"parameters\" to inject the real parameters below this cell.\n",
    "Enable tags to see what I mean"
   ]
  },
  {
   "cell_type": "code",
   "execution_count": 2,
   "id": "fd44eb83",
   "metadata": {
    "execution": {
     "iopub.execute_input": "2022-03-05T00:35:10.731764Z",
     "iopub.status.busy": "2022-03-05T00:35:10.731493Z",
     "iopub.status.idle": "2022-03-05T00:35:10.745679Z",
     "shell.execute_reply": "2022-03-05T00:35:10.745240Z"
    },
    "papermill": {
     "duration": 0.026976,
     "end_time": "2022-03-05T00:35:10.745785",
     "exception": false,
     "start_time": "2022-03-05T00:35:10.718809",
     "status": "completed"
    },
    "tags": []
   },
   "outputs": [],
   "source": [
    "required_parameters = {\n",
    "    \"experiment_name\",\n",
    "    \"lr\",\n",
    "    \"device\",\n",
    "    \"seed\",\n",
    "    \"dataset_seed\",\n",
    "    \"labels_source\",\n",
    "    \"labels_target\",\n",
    "    \"domains_source\",\n",
    "    \"domains_target\",\n",
    "    \"num_examples_per_domain_per_label_source\",\n",
    "    \"num_examples_per_domain_per_label_target\",\n",
    "    \"n_shot\",\n",
    "    \"n_way\",\n",
    "    \"n_query\",\n",
    "    \"train_k_factor\",\n",
    "    \"val_k_factor\",\n",
    "    \"test_k_factor\",\n",
    "    \"n_epoch\",\n",
    "    \"patience\",\n",
    "    \"criteria_for_best\",\n",
    "    \"x_transforms_source\",\n",
    "    \"x_transforms_target\",\n",
    "    \"episode_transforms_source\",\n",
    "    \"episode_transforms_target\",\n",
    "    \"pickle_name\",\n",
    "    \"x_net\",\n",
    "    \"NUM_LOGS_PER_EPOCH\",\n",
    "    \"BEST_MODEL_PATH\",\n",
    "    \"torch_default_dtype\"\n",
    "}"
   ]
  },
  {
   "cell_type": "code",
   "execution_count": 3,
   "id": "fa3f0049",
   "metadata": {
    "execution": {
     "iopub.execute_input": "2022-03-05T00:35:10.777866Z",
     "iopub.status.busy": "2022-03-05T00:35:10.776563Z",
     "iopub.status.idle": "2022-03-05T00:35:10.789102Z",
     "shell.execute_reply": "2022-03-05T00:35:10.788604Z"
    },
    "papermill": {
     "duration": 0.028999,
     "end_time": "2022-03-05T00:35:10.789209",
     "exception": false,
     "start_time": "2022-03-05T00:35:10.760210",
     "status": "completed"
    },
    "tags": [
     "parameters"
    ]
   },
   "outputs": [],
   "source": [
    "\n",
    "\n",
    "standalone_parameters = {}\n",
    "standalone_parameters[\"experiment_name\"] = \"STANDALONE PTN\"\n",
    "standalone_parameters[\"lr\"] = 0.0001\n",
    "standalone_parameters[\"device\"] = \"cuda\"\n",
    "\n",
    "standalone_parameters[\"seed\"] = 1337\n",
    "standalone_parameters[\"dataset_seed\"] = 1337\n",
    "\n",
    "\n",
    "standalone_parameters[\"num_examples_per_domain_per_label_source\"]=100\n",
    "standalone_parameters[\"num_examples_per_domain_per_label_target\"]=100\n",
    "\n",
    "standalone_parameters[\"n_shot\"] = 3\n",
    "standalone_parameters[\"n_query\"]  = 2\n",
    "standalone_parameters[\"train_k_factor\"] = 1\n",
    "standalone_parameters[\"val_k_factor\"] = 2\n",
    "standalone_parameters[\"test_k_factor\"] = 2\n",
    "\n",
    "\n",
    "standalone_parameters[\"n_epoch\"] = 100\n",
    "\n",
    "standalone_parameters[\"patience\"] = 10\n",
    "standalone_parameters[\"criteria_for_best\"] = \"target_accuracy\"\n",
    "\n",
    "standalone_parameters[\"x_transforms_source\"] = [\"unit_power\"]\n",
    "standalone_parameters[\"x_transforms_target\"] = [\"unit_power\"]\n",
    "standalone_parameters[\"episode_transforms_source\"] = []\n",
    "standalone_parameters[\"episode_transforms_target\"] = []\n",
    "\n",
    "standalone_parameters[\"torch_default_dtype\"] = \"torch.float32\" \n",
    "\n",
    "\n",
    "\n",
    "standalone_parameters[\"x_net\"] =     [\n",
    "    {\"class\": \"nnReshape\", \"kargs\": {\"shape\":[-1, 1, 2, 256]}},\n",
    "    {\"class\": \"Conv2d\", \"kargs\": { \"in_channels\":1, \"out_channels\":256, \"kernel_size\":(1,7), \"bias\":False, \"padding\":(0,3), },},\n",
    "    {\"class\": \"ReLU\", \"kargs\": {\"inplace\": True}},\n",
    "    {\"class\": \"BatchNorm2d\", \"kargs\": {\"num_features\":256}},\n",
    "\n",
    "    {\"class\": \"Conv2d\", \"kargs\": { \"in_channels\":256, \"out_channels\":80, \"kernel_size\":(2,7), \"bias\":True, \"padding\":(0,3), },},\n",
    "    {\"class\": \"ReLU\", \"kargs\": {\"inplace\": True}},\n",
    "    {\"class\": \"BatchNorm2d\", \"kargs\": {\"num_features\":80}},\n",
    "    {\"class\": \"Flatten\", \"kargs\": {}},\n",
    "\n",
    "    {\"class\": \"Linear\", \"kargs\": {\"in_features\": 80*256, \"out_features\": 256}}, # 80 units per IQ pair\n",
    "    {\"class\": \"ReLU\", \"kargs\": {\"inplace\": True}},\n",
    "    {\"class\": \"BatchNorm1d\", \"kargs\": {\"num_features\":256}},\n",
    "\n",
    "    {\"class\": \"Linear\", \"kargs\": {\"in_features\": 256, \"out_features\": 256}},\n",
    "]\n",
    "\n",
    "# Parameters relevant to results\n",
    "# These parameters will basically never need to change\n",
    "standalone_parameters[\"NUM_LOGS_PER_EPOCH\"] = 10\n",
    "standalone_parameters[\"BEST_MODEL_PATH\"] = \"./best_model.pth\"\n",
    "\n",
    "# uncomment for CORES dataset\n",
    "from steves_utils.CORES.utils import (\n",
    "    ALL_NODES,\n",
    "    ALL_NODES_MINIMUM_1000_EXAMPLES,\n",
    "    ALL_DAYS\n",
    ")\n",
    "\n",
    "\n",
    "standalone_parameters[\"labels_source\"] = ALL_NODES\n",
    "standalone_parameters[\"labels_target\"] = ALL_NODES\n",
    "\n",
    "standalone_parameters[\"domains_source\"] = [1]\n",
    "standalone_parameters[\"domains_target\"] = [2,3,4,5]\n",
    "\n",
    "standalone_parameters[\"pickle_name\"] = \"cores.stratified_ds.2022A.pkl\"\n",
    "\n",
    "\n",
    "# Uncomment these for ORACLE dataset\n",
    "# from steves_utils.ORACLE.utils_v2 import (\n",
    "#     ALL_DISTANCES_FEET,\n",
    "#     ALL_RUNS,\n",
    "#     ALL_SERIAL_NUMBERS,\n",
    "# )\n",
    "# standalone_parameters[\"labels_source\"] = ALL_SERIAL_NUMBERS\n",
    "# standalone_parameters[\"labels_target\"] = ALL_SERIAL_NUMBERS\n",
    "# standalone_parameters[\"domains_source\"] = [8,20, 38,50]\n",
    "# standalone_parameters[\"domains_target\"] = [14, 26, 32, 44, 56]\n",
    "# standalone_parameters[\"pickle_name\"] = \"oracle.frame_indexed.stratified_ds.2022A.pkl\"\n",
    "# standalone_parameters[\"num_examples_per_domain_per_label_source\"]=1000\n",
    "# standalone_parameters[\"num_examples_per_domain_per_label_target\"]=1000\n",
    "\n",
    "# Uncomment these for Metahan dataset\n",
    "# standalone_parameters[\"labels_source\"] = list(range(19))\n",
    "# standalone_parameters[\"labels_target\"] = list(range(19))\n",
    "# standalone_parameters[\"domains_source\"] = [0]\n",
    "# standalone_parameters[\"domains_target\"] = [1]\n",
    "# standalone_parameters[\"pickle_name\"] = \"metehan.stratified_ds.2022A.pkl\"\n",
    "# standalone_parameters[\"n_way\"]  = len(standalone_parameters[\"labels_source\"])\n",
    "# standalone_parameters[\"num_examples_per_domain_per_label_source\"]=200\n",
    "# standalone_parameters[\"num_examples_per_domain_per_label_target\"]=100\n",
    "\n",
    "\n",
    "standalone_parameters[\"n_way\"]  = len(standalone_parameters[\"labels_source\"])"
   ]
  },
  {
   "cell_type": "code",
   "execution_count": 4,
   "id": "f80c4d47",
   "metadata": {
    "execution": {
     "iopub.execute_input": "2022-03-05T00:35:10.822550Z",
     "iopub.status.busy": "2022-03-05T00:35:10.822130Z",
     "iopub.status.idle": "2022-03-05T00:35:10.835905Z",
     "shell.execute_reply": "2022-03-05T00:35:10.835448Z"
    },
    "papermill": {
     "duration": 0.031708,
     "end_time": "2022-03-05T00:35:10.836011",
     "exception": false,
     "start_time": "2022-03-05T00:35:10.804303",
     "status": "completed"
    },
    "tags": [
     "injected-parameters"
    ]
   },
   "outputs": [],
   "source": [
    "# Parameters\n",
    "parameters = {\n",
    "    \"experiment_name\": \"nShot_oracle.run2\",\n",
    "    \"device\": \"cuda\",\n",
    "    \"lr\": 0.001,\n",
    "    \"seed\": 1337,\n",
    "    \"dataset_seed\": 1337,\n",
    "    \"labels_source\": [\n",
    "        \"3123D52\",\n",
    "        \"3123D65\",\n",
    "        \"3123D79\",\n",
    "        \"3123D80\",\n",
    "        \"3123D54\",\n",
    "        \"3123D70\",\n",
    "        \"3123D7B\",\n",
    "        \"3123D89\",\n",
    "        \"3123D58\",\n",
    "        \"3123D76\",\n",
    "        \"3123D7D\",\n",
    "        \"3123EFE\",\n",
    "        \"3123D64\",\n",
    "        \"3123D78\",\n",
    "        \"3123D7E\",\n",
    "        \"3124E4A\",\n",
    "    ],\n",
    "    \"labels_target\": [\n",
    "        \"3123D52\",\n",
    "        \"3123D65\",\n",
    "        \"3123D79\",\n",
    "        \"3123D80\",\n",
    "        \"3123D54\",\n",
    "        \"3123D70\",\n",
    "        \"3123D7B\",\n",
    "        \"3123D89\",\n",
    "        \"3123D58\",\n",
    "        \"3123D76\",\n",
    "        \"3123D7D\",\n",
    "        \"3123EFE\",\n",
    "        \"3123D64\",\n",
    "        \"3123D78\",\n",
    "        \"3123D7E\",\n",
    "        \"3124E4A\",\n",
    "    ],\n",
    "    \"x_transforms_source\": [],\n",
    "    \"x_transforms_target\": [],\n",
    "    \"episode_transforms_source\": [],\n",
    "    \"episode_transforms_target\": [],\n",
    "    \"num_examples_per_domain_per_label_source\": 1000,\n",
    "    \"num_examples_per_domain_per_label_target\": 1000,\n",
    "    \"n_way\": 16,\n",
    "    \"n_query\": 2,\n",
    "    \"train_k_factor\": 1,\n",
    "    \"val_k_factor\": 2,\n",
    "    \"test_k_factor\": 2,\n",
    "    \"torch_default_dtype\": \"torch.float32\",\n",
    "    \"n_epoch\": 50,\n",
    "    \"patience\": 3,\n",
    "    \"criteria_for_best\": \"target_loss\",\n",
    "    \"x_net\": [\n",
    "        {\"class\": \"nnReshape\", \"kargs\": {\"shape\": [-1, 1, 2, 256]}},\n",
    "        {\n",
    "            \"class\": \"Conv2d\",\n",
    "            \"kargs\": {\n",
    "                \"in_channels\": 1,\n",
    "                \"out_channels\": 256,\n",
    "                \"kernel_size\": [1, 7],\n",
    "                \"bias\": False,\n",
    "                \"padding\": [0, 3],\n",
    "            },\n",
    "        },\n",
    "        {\"class\": \"ReLU\", \"kargs\": {\"inplace\": True}},\n",
    "        {\"class\": \"BatchNorm2d\", \"kargs\": {\"num_features\": 256}},\n",
    "        {\n",
    "            \"class\": \"Conv2d\",\n",
    "            \"kargs\": {\n",
    "                \"in_channels\": 256,\n",
    "                \"out_channels\": 80,\n",
    "                \"kernel_size\": [2, 7],\n",
    "                \"bias\": True,\n",
    "                \"padding\": [0, 3],\n",
    "            },\n",
    "        },\n",
    "        {\"class\": \"ReLU\", \"kargs\": {\"inplace\": True}},\n",
    "        {\"class\": \"BatchNorm2d\", \"kargs\": {\"num_features\": 80}},\n",
    "        {\"class\": \"Flatten\", \"kargs\": {}},\n",
    "        {\"class\": \"Linear\", \"kargs\": {\"in_features\": 20480, \"out_features\": 256}},\n",
    "        {\"class\": \"ReLU\", \"kargs\": {\"inplace\": True}},\n",
    "        {\"class\": \"BatchNorm1d\", \"kargs\": {\"num_features\": 256}},\n",
    "        {\"class\": \"Linear\", \"kargs\": {\"in_features\": 256, \"out_features\": 256}},\n",
    "    ],\n",
    "    \"NUM_LOGS_PER_EPOCH\": 10,\n",
    "    \"BEST_MODEL_PATH\": \"./best_model.pth\",\n",
    "    \"pickle_name\": \"oracle.Run2_10kExamples_stratified_ds.2022A.pkl\",\n",
    "    \"n_shot\": 10,\n",
    "    \"domains_source\": [8, 32, 50],\n",
    "    \"domains_target\": [14, 20, 26, 38, 44],\n",
    "}\n"
   ]
  },
  {
   "cell_type": "code",
   "execution_count": 5,
   "id": "8fa1cc33",
   "metadata": {
    "execution": {
     "iopub.execute_input": "2022-03-05T00:35:10.864029Z",
     "iopub.status.busy": "2022-03-05T00:35:10.863527Z",
     "iopub.status.idle": "2022-03-05T00:35:10.872842Z",
     "shell.execute_reply": "2022-03-05T00:35:10.872462Z"
    },
    "papermill": {
     "duration": 0.022462,
     "end_time": "2022-03-05T00:35:10.872923",
     "exception": false,
     "start_time": "2022-03-05T00:35:10.850461",
     "status": "completed"
    },
    "tags": []
   },
   "outputs": [],
   "source": [
    "# Set this to True if you want to run this template directly\n",
    "STANDALONE = False\n",
    "if STANDALONE:\n",
    "    print(\"parameters not injected, running with standalone_parameters\")\n",
    "    parameters = standalone_parameters\n",
    "\n",
    "if not 'parameters' in locals() and not 'parameters' in globals():\n",
    "    raise Exception(\"Parameter injection failed\")\n",
    "\n",
    "#Use an easy dict for all the parameters\n",
    "p = EasyDict(parameters)\n",
    "\n",
    "supplied_keys = set(p.keys())\n",
    "\n",
    "if  supplied_keys != required_parameters:\n",
    "    print(\"Parameters are incorrect\")\n",
    "    if len(supplied_keys - required_parameters)>0: print(\"Shouldn't have:\", str(supplied_keys - required_parameters))\n",
    "    if len(required_parameters - supplied_keys)>0: print(\"Need to have:\", str(required_parameters - supplied_keys))\n",
    "    raise RuntimeError(\"Parameters are incorrect\")\n",
    "\n"
   ]
  },
  {
   "cell_type": "code",
   "execution_count": 6,
   "id": "3a028d58",
   "metadata": {
    "execution": {
     "iopub.execute_input": "2022-03-05T00:35:10.902661Z",
     "iopub.status.busy": "2022-03-05T00:35:10.899798Z",
     "iopub.status.idle": "2022-03-05T00:35:10.913374Z",
     "shell.execute_reply": "2022-03-05T00:35:10.913654Z"
    },
    "papermill": {
     "duration": 0.026648,
     "end_time": "2022-03-05T00:35:10.913752",
     "exception": false,
     "start_time": "2022-03-05T00:35:10.887104",
     "status": "completed"
    },
    "tags": []
   },
   "outputs": [],
   "source": [
    "###################################\n",
    "# Set the RNGs and make it all deterministic\n",
    "###################################\n",
    "np.random.seed(p.seed)\n",
    "random.seed(p.seed)\n",
    "torch.manual_seed(p.seed)\n",
    "\n",
    "torch.use_deterministic_algorithms(True) "
   ]
  },
  {
   "cell_type": "code",
   "execution_count": 7,
   "id": "b691acf6",
   "metadata": {
    "execution": {
     "iopub.execute_input": "2022-03-05T00:35:10.941806Z",
     "iopub.status.busy": "2022-03-05T00:35:10.940687Z",
     "iopub.status.idle": "2022-03-05T00:35:10.953527Z",
     "shell.execute_reply": "2022-03-05T00:35:10.952916Z"
    },
    "papermill": {
     "duration": 0.025188,
     "end_time": "2022-03-05T00:35:10.953643",
     "exception": false,
     "start_time": "2022-03-05T00:35:10.928455",
     "status": "completed"
    },
    "tags": []
   },
   "outputs": [],
   "source": [
    "###########################################\n",
    "# The stratified datasets honor this\n",
    "###########################################\n",
    "torch.set_default_dtype(eval(p.torch_default_dtype))"
   ]
  },
  {
   "cell_type": "code",
   "execution_count": 8,
   "id": "b5fba671",
   "metadata": {
    "execution": {
     "iopub.execute_input": "2022-03-05T00:35:10.981092Z",
     "iopub.status.busy": "2022-03-05T00:35:10.980828Z",
     "iopub.status.idle": "2022-03-05T00:35:11.021452Z",
     "shell.execute_reply": "2022-03-05T00:35:11.021869Z"
    },
    "papermill": {
     "duration": 0.053576,
     "end_time": "2022-03-05T00:35:11.022036",
     "exception": false,
     "start_time": "2022-03-05T00:35:10.968460",
     "status": "completed"
    },
    "tags": []
   },
   "outputs": [],
   "source": [
    "###################################\n",
    "# Build the network(s)\n",
    "# Note: It's critical to do this AFTER setting the RNG\n",
    "# (This is due to the randomized initial weights)\n",
    "###################################\n",
    "x_net = build_sequential(p.x_net)"
   ]
  },
  {
   "cell_type": "code",
   "execution_count": 9,
   "id": "5d7e61cc",
   "metadata": {
    "execution": {
     "iopub.execute_input": "2022-03-05T00:35:11.049594Z",
     "iopub.status.busy": "2022-03-05T00:35:11.049321Z",
     "iopub.status.idle": "2022-03-05T00:35:11.063135Z",
     "shell.execute_reply": "2022-03-05T00:35:11.063506Z"
    },
    "papermill": {
     "duration": 0.027068,
     "end_time": "2022-03-05T00:35:11.063644",
     "exception": false,
     "start_time": "2022-03-05T00:35:11.036576",
     "status": "completed"
    },
    "tags": []
   },
   "outputs": [],
   "source": [
    "start_time_secs = time.time()"
   ]
  },
  {
   "cell_type": "code",
   "execution_count": 10,
   "id": "fd5442bc",
   "metadata": {
    "execution": {
     "iopub.execute_input": "2022-03-05T00:35:11.099332Z",
     "iopub.status.busy": "2022-03-05T00:35:11.098944Z",
     "iopub.status.idle": "2022-03-05T00:35:14.417440Z",
     "shell.execute_reply": "2022-03-05T00:35:14.416966Z"
    },
    "papermill": {
     "duration": 3.337831,
     "end_time": "2022-03-05T00:35:14.417551",
     "exception": false,
     "start_time": "2022-03-05T00:35:11.079720",
     "status": "completed"
    },
    "tags": []
   },
   "outputs": [],
   "source": [
    "###################################\n",
    "# Build the dataset\n",
    "###################################\n",
    "\n",
    "if p.x_transforms_source == []: x_transform_source = None\n",
    "else: x_transform_source = get_chained_transform(p.x_transforms_source) \n",
    "\n",
    "if p.x_transforms_target == []: x_transform_target = None\n",
    "else: x_transform_target = get_chained_transform(p.x_transforms_target)\n",
    "\n",
    "if p.episode_transforms_source == []: episode_transform_source = None\n",
    "else: raise Exception(\"episode_transform_source not implemented\")\n",
    "\n",
    "if p.episode_transforms_target == []: episode_transform_target = None\n",
    "else: raise Exception(\"episode_transform_target not implemented\")\n",
    "\n",
    "\n",
    "eaf_source = Episodic_Accessor_Factory(\n",
    "    labels=p.labels_source,\n",
    "    domains=p.domains_source,\n",
    "    num_examples_per_domain_per_label=p.num_examples_per_domain_per_label_source,\n",
    "    iterator_seed=p.seed,\n",
    "    dataset_seed=p.dataset_seed,\n",
    "    n_shot=p.n_shot,\n",
    "    n_way=p.n_way,\n",
    "    n_query=p.n_query,\n",
    "    train_val_test_k_factors=(p.train_k_factor,p.val_k_factor,p.test_k_factor),\n",
    "    pickle_path=os.path.join(get_datasets_base_path(), p.pickle_name),\n",
    "    x_transform_func=x_transform_source,\n",
    "    example_transform_func=episode_transform_source,\n",
    "    \n",
    ")\n",
    "train_original_source, val_original_source, test_original_source = eaf_source.get_train(), eaf_source.get_val(), eaf_source.get_test()\n",
    "\n",
    "\n",
    "eaf_target = Episodic_Accessor_Factory(\n",
    "    labels=p.labels_target,\n",
    "    domains=p.domains_target,\n",
    "    num_examples_per_domain_per_label=p.num_examples_per_domain_per_label_target,\n",
    "    iterator_seed=p.seed,\n",
    "    dataset_seed=p.dataset_seed,\n",
    "    n_shot=p.n_shot,\n",
    "    n_way=p.n_way,\n",
    "    n_query=p.n_query,\n",
    "    train_val_test_k_factors=(p.train_k_factor,p.val_k_factor,p.test_k_factor),\n",
    "    pickle_path=os.path.join(get_datasets_base_path(), p.pickle_name),\n",
    "    x_transform_func=x_transform_target,\n",
    "    example_transform_func=episode_transform_target,\n",
    ")\n",
    "train_original_target, val_original_target, test_original_target = eaf_target.get_train(), eaf_target.get_val(), eaf_target.get_test()\n",
    "\n",
    "\n",
    "transform_lambda = lambda ex: ex[1] # Original is (<domain>, <episode>) so we strip down to episode only\n",
    "\n",
    "train_processed_source = Lazy_Iterable_Wrapper(train_original_source, transform_lambda)\n",
    "val_processed_source   = Lazy_Iterable_Wrapper(val_original_source, transform_lambda)\n",
    "test_processed_source  = Lazy_Iterable_Wrapper(test_original_source, transform_lambda)\n",
    "\n",
    "train_processed_target = Lazy_Iterable_Wrapper(train_original_target, transform_lambda)\n",
    "val_processed_target   = Lazy_Iterable_Wrapper(val_original_target, transform_lambda)\n",
    "test_processed_target  = Lazy_Iterable_Wrapper(test_original_target, transform_lambda)\n",
    "\n",
    "datasets = EasyDict({\n",
    "    \"source\": {\n",
    "        \"original\": {\"train\":train_original_source, \"val\":val_original_source, \"test\":test_original_source},\n",
    "        \"processed\": {\"train\":train_processed_source, \"val\":val_processed_source, \"test\":test_processed_source}\n",
    "    },\n",
    "    \"target\": {\n",
    "        \"original\": {\"train\":train_original_target, \"val\":val_original_target, \"test\":test_original_target},\n",
    "        \"processed\": {\"train\":train_processed_target, \"val\":val_processed_target, \"test\":test_processed_target}\n",
    "    },\n",
    "})"
   ]
  },
  {
   "cell_type": "code",
   "execution_count": 11,
   "id": "296189d9",
   "metadata": {
    "execution": {
     "iopub.execute_input": "2022-03-05T00:35:14.447679Z",
     "iopub.status.busy": "2022-03-05T00:35:14.447407Z",
     "iopub.status.idle": "2022-03-05T00:35:16.022901Z",
     "shell.execute_reply": "2022-03-05T00:35:16.023161Z"
    },
    "papermill": {
     "duration": 1.590662,
     "end_time": "2022-03-05T00:35:16.023246",
     "exception": false,
     "start_time": "2022-03-05T00:35:14.432584",
     "status": "completed"
    },
    "tags": []
   },
   "outputs": [
    {
     "name": "stdout",
     "output_type": "stream",
     "text": [
      "Visually inspect these to see if they line up with expected values given the transforms\n",
      "x_transforms_source []\n",
      "x_transforms_target []\n",
      "Average magnitude, source: 0.004955208\n",
      "Average power, source: 3.0060904e-05\n"
     ]
    },
    {
     "name": "stdout",
     "output_type": "stream",
     "text": [
      "Average magnitude, target: 0.0028827814\n",
      "Average power, target: 1.0639675e-05\n"
     ]
    }
   ],
   "source": [
    "# Some quick unit tests on the data\n",
    "from steves_utils.transforms import get_average_power, get_average_magnitude\n",
    "\n",
    "q_x, q_y, s_x, s_y, truth = next(iter(train_processed_source))\n",
    "\n",
    "assert q_x.dtype == eval(p.torch_default_dtype)\n",
    "assert s_x.dtype == eval(p.torch_default_dtype)\n",
    "\n",
    "print(\"Visually inspect these to see if they line up with expected values given the transforms\")\n",
    "print('x_transforms_source', p.x_transforms_source)\n",
    "print('x_transforms_target', p.x_transforms_target)\n",
    "print(\"Average magnitude, source:\", get_average_magnitude(q_x[0].numpy()))\n",
    "print(\"Average power, source:\", get_average_power(q_x[0].numpy()))\n",
    "\n",
    "q_x, q_y, s_x, s_y, truth = next(iter(train_processed_target))\n",
    "print(\"Average magnitude, target:\", get_average_magnitude(q_x[0].numpy()))\n",
    "print(\"Average power, target:\", get_average_power(q_x[0].numpy()))\n"
   ]
  },
  {
   "cell_type": "code",
   "execution_count": 12,
   "id": "bbdacba1",
   "metadata": {
    "execution": {
     "iopub.execute_input": "2022-03-05T00:35:16.050349Z",
     "iopub.status.busy": "2022-03-05T00:35:16.050059Z",
     "iopub.status.idle": "2022-03-05T00:35:16.109719Z",
     "shell.execute_reply": "2022-03-05T00:35:16.109943Z"
    },
    "papermill": {
     "duration": 0.073831,
     "end_time": "2022-03-05T00:35:16.110010",
     "exception": false,
     "start_time": "2022-03-05T00:35:16.036179",
     "status": "completed"
    },
    "tags": []
   },
   "outputs": [
    {
     "name": "stdout",
     "output_type": "stream",
     "text": [
      "(2, 256)\n"
     ]
    }
   ],
   "source": [
    "###################################\n",
    "# Build the model\n",
    "###################################\n",
    "model = Steves_Prototypical_Network(x_net, device=p.device, x_shape=(2,256))\n",
    "optimizer = Adam(params=model.parameters(), lr=p.lr)"
   ]
  },
  {
   "cell_type": "code",
   "execution_count": 13,
   "id": "22b39ac5",
   "metadata": {
    "execution": {
     "iopub.execute_input": "2022-03-05T00:35:16.139007Z",
     "iopub.status.busy": "2022-03-05T00:35:16.138724Z",
     "iopub.status.idle": "2022-03-05T00:39:53.766117Z",
     "shell.execute_reply": "2022-03-05T00:39:53.766524Z"
    },
    "papermill": {
     "duration": 277.641271,
     "end_time": "2022-03-05T00:39:53.766655",
     "exception": false,
     "start_time": "2022-03-05T00:35:16.125384",
     "status": "completed"
    },
    "tags": []
   },
   "outputs": [
    {
     "name": "stdout",
     "output_type": "stream",
     "text": [
      "epoch: 1, [batch: 1 / 174], examples_per_second: 1372.9216, train_label_loss: 2.1030, \n"
     ]
    },
    {
     "name": "stdout",
     "output_type": "stream",
     "text": [
      "epoch: 1, [batch: 18 / 174], examples_per_second: 3942.5066, train_label_loss: 1.3352, \n"
     ]
    },
    {
     "name": "stdout",
     "output_type": "stream",
     "text": [
      "epoch: 1, [batch: 35 / 174], examples_per_second: 4041.1978, train_label_loss: 1.2309, \n"
     ]
    },
    {
     "name": "stdout",
     "output_type": "stream",
     "text": [
      "epoch: 1, [batch: 52 / 174], examples_per_second: 4033.2032, train_label_loss: 1.3185, \n"
     ]
    },
    {
     "name": "stdout",
     "output_type": "stream",
     "text": [
      "epoch: 1, [batch: 70 / 174], examples_per_second: 4033.3258, train_label_loss: 1.4869, \n"
     ]
    },
    {
     "name": "stdout",
     "output_type": "stream",
     "text": [
      "epoch: 1, [batch: 87 / 174], examples_per_second: 4007.9761, train_label_loss: 1.3225, \n"
     ]
    },
    {
     "name": "stdout",
     "output_type": "stream",
     "text": [
      "epoch: 1, [batch: 104 / 174], examples_per_second: 4049.1188, train_label_loss: 1.5506, \n"
     ]
    },
    {
     "name": "stdout",
     "output_type": "stream",
     "text": [
      "epoch: 1, [batch: 122 / 174], examples_per_second: 4032.3193, train_label_loss: 1.4377, \n"
     ]
    },
    {
     "name": "stdout",
     "output_type": "stream",
     "text": [
      "epoch: 1, [batch: 139 / 174], examples_per_second: 4038.6049, train_label_loss: 1.3745, \n"
     ]
    },
    {
     "name": "stdout",
     "output_type": "stream",
     "text": [
      "epoch: 1, [batch: 156 / 174], examples_per_second: 4039.1220, train_label_loss: 1.2555, \n"
     ]
    },
    {
     "name": "stdout",
     "output_type": "stream",
     "text": [
      "=============================================================\n",
      "epoch: 1, source_val_acc_label: 0.3724, target_val_acc_label: 0.3487, source_val_label_loss: 2.0429, target_val_label_loss: 2.1080, \n",
      "=============================================================\n"
     ]
    },
    {
     "name": "stdout",
     "output_type": "stream",
     "text": [
      "New best\n"
     ]
    },
    {
     "name": "stdout",
     "output_type": "stream",
     "text": [
      "epoch: 2, [batch: 1 / 174], examples_per_second: 107.9915, train_label_loss: 2.4950, \n"
     ]
    },
    {
     "name": "stdout",
     "output_type": "stream",
     "text": [
      "epoch: 2, [batch: 18 / 174], examples_per_second: 4107.1245, train_label_loss: 1.2324, \n"
     ]
    },
    {
     "name": "stdout",
     "output_type": "stream",
     "text": [
      "epoch: 2, [batch: 35 / 174], examples_per_second: 4105.2008, train_label_loss: 1.4622, \n"
     ]
    },
    {
     "name": "stdout",
     "output_type": "stream",
     "text": [
      "epoch: 2, [batch: 52 / 174], examples_per_second: 4070.4254, train_label_loss: 1.2720, \n"
     ]
    },
    {
     "name": "stdout",
     "output_type": "stream",
     "text": [
      "epoch: 2, [batch: 70 / 174], examples_per_second: 4080.8996, train_label_loss: 1.1738, \n"
     ]
    },
    {
     "name": "stdout",
     "output_type": "stream",
     "text": [
      "epoch: 2, [batch: 87 / 174], examples_per_second: 4086.2268, train_label_loss: 1.2389, \n"
     ]
    },
    {
     "name": "stdout",
     "output_type": "stream",
     "text": [
      "epoch: 2, [batch: 104 / 174], examples_per_second: 4069.0172, train_label_loss: 1.4169, \n"
     ]
    },
    {
     "name": "stdout",
     "output_type": "stream",
     "text": [
      "epoch: 2, [batch: 122 / 174], examples_per_second: 4107.4206, train_label_loss: 1.3570, \n"
     ]
    },
    {
     "name": "stdout",
     "output_type": "stream",
     "text": [
      "epoch: 2, [batch: 139 / 174], examples_per_second: 4081.1387, train_label_loss: 1.1606, \n"
     ]
    },
    {
     "name": "stdout",
     "output_type": "stream",
     "text": [
      "epoch: 2, [batch: 156 / 174], examples_per_second: 4114.7076, train_label_loss: 1.2368, \n"
     ]
    },
    {
     "name": "stdout",
     "output_type": "stream",
     "text": [
      "=============================================================\n",
      "epoch: 2, source_val_acc_label: 0.4783, target_val_acc_label: 0.4021, source_val_label_loss: 1.2323, target_val_label_loss: 1.7938, \n",
      "=============================================================\n"
     ]
    },
    {
     "name": "stdout",
     "output_type": "stream",
     "text": [
      "New best\n"
     ]
    },
    {
     "name": "stdout",
     "output_type": "stream",
     "text": [
      "epoch: 3, [batch: 1 / 174], examples_per_second: 106.0708, train_label_loss: 1.2216, \n"
     ]
    },
    {
     "name": "stdout",
     "output_type": "stream",
     "text": [
      "epoch: 3, [batch: 18 / 174], examples_per_second: 4069.0740, train_label_loss: 1.3283, \n"
     ]
    },
    {
     "name": "stdout",
     "output_type": "stream",
     "text": [
      "epoch: 3, [batch: 35 / 174], examples_per_second: 4052.4544, train_label_loss: 1.3316, \n"
     ]
    },
    {
     "name": "stdout",
     "output_type": "stream",
     "text": [
      "epoch: 3, [batch: 52 / 174], examples_per_second: 4146.1959, train_label_loss: 1.0056, \n"
     ]
    },
    {
     "name": "stdout",
     "output_type": "stream",
     "text": [
      "epoch: 3, [batch: 70 / 174], examples_per_second: 4099.3917, train_label_loss: 1.3697, \n"
     ]
    },
    {
     "name": "stdout",
     "output_type": "stream",
     "text": [
      "epoch: 3, [batch: 87 / 174], examples_per_second: 4144.1313, train_label_loss: 1.1106, \n"
     ]
    },
    {
     "name": "stdout",
     "output_type": "stream",
     "text": [
      "epoch: 3, [batch: 104 / 174], examples_per_second: 4108.2683, train_label_loss: 1.0249, \n"
     ]
    },
    {
     "name": "stdout",
     "output_type": "stream",
     "text": [
      "epoch: 3, [batch: 122 / 174], examples_per_second: 4113.3451, train_label_loss: 1.1745, \n"
     ]
    },
    {
     "name": "stdout",
     "output_type": "stream",
     "text": [
      "epoch: 3, [batch: 139 / 174], examples_per_second: 4081.5146, train_label_loss: 1.3492, \n"
     ]
    },
    {
     "name": "stdout",
     "output_type": "stream",
     "text": [
      "epoch: 3, [batch: 156 / 174], examples_per_second: 4094.7528, train_label_loss: 1.1370, \n"
     ]
    },
    {
     "name": "stdout",
     "output_type": "stream",
     "text": [
      "=============================================================\n",
      "epoch: 3, source_val_acc_label: 0.4918, target_val_acc_label: 0.4081, source_val_label_loss: 1.2236, target_val_label_loss: 1.6563, \n",
      "=============================================================\n"
     ]
    },
    {
     "name": "stdout",
     "output_type": "stream",
     "text": [
      "New best\n"
     ]
    },
    {
     "name": "stdout",
     "output_type": "stream",
     "text": [
      "epoch: 4, [batch: 1 / 174], examples_per_second: 106.6074, train_label_loss: 1.4082, \n"
     ]
    },
    {
     "name": "stdout",
     "output_type": "stream",
     "text": [
      "epoch: 4, [batch: 18 / 174], examples_per_second: 4105.2931, train_label_loss: 1.2587, \n"
     ]
    },
    {
     "name": "stdout",
     "output_type": "stream",
     "text": [
      "epoch: 4, [batch: 35 / 174], examples_per_second: 4076.2283, train_label_loss: 1.0884, \n"
     ]
    },
    {
     "name": "stdout",
     "output_type": "stream",
     "text": [
      "epoch: 4, [batch: 52 / 174], examples_per_second: 4108.8305, train_label_loss: 1.1029, \n"
     ]
    },
    {
     "name": "stdout",
     "output_type": "stream",
     "text": [
      "epoch: 4, [batch: 70 / 174], examples_per_second: 4113.1607, train_label_loss: 1.2622, \n"
     ]
    },
    {
     "name": "stdout",
     "output_type": "stream",
     "text": [
      "epoch: 4, [batch: 87 / 174], examples_per_second: 4110.8194, train_label_loss: 1.5874, \n"
     ]
    },
    {
     "name": "stdout",
     "output_type": "stream",
     "text": [
      "epoch: 4, [batch: 104 / 174], examples_per_second: 4088.5674, train_label_loss: 1.0717, \n"
     ]
    },
    {
     "name": "stdout",
     "output_type": "stream",
     "text": [
      "epoch: 4, [batch: 122 / 174], examples_per_second: 4133.2300, train_label_loss: 1.2921, \n"
     ]
    },
    {
     "name": "stdout",
     "output_type": "stream",
     "text": [
      "epoch: 4, [batch: 139 / 174], examples_per_second: 4108.9107, train_label_loss: 0.9982, \n"
     ]
    },
    {
     "name": "stdout",
     "output_type": "stream",
     "text": [
      "epoch: 4, [batch: 156 / 174], examples_per_second: 4124.0325, train_label_loss: 1.1499, \n"
     ]
    },
    {
     "name": "stdout",
     "output_type": "stream",
     "text": [
      "=============================================================\n",
      "epoch: 4, source_val_acc_label: 0.4944, target_val_acc_label: 0.4174, source_val_label_loss: 1.2518, target_val_label_loss: 1.6922, \n",
      "=============================================================\n"
     ]
    },
    {
     "name": "stdout",
     "output_type": "stream",
     "text": [
      "epoch: 5, [batch: 1 / 174], examples_per_second: 108.4227, train_label_loss: 1.3558, \n"
     ]
    },
    {
     "name": "stdout",
     "output_type": "stream",
     "text": [
      "epoch: 5, [batch: 18 / 174], examples_per_second: 4081.9674, train_label_loss: 1.1100, \n"
     ]
    },
    {
     "name": "stdout",
     "output_type": "stream",
     "text": [
      "epoch: 5, [batch: 35 / 174], examples_per_second: 4055.6610, train_label_loss: 1.2588, \n"
     ]
    },
    {
     "name": "stdout",
     "output_type": "stream",
     "text": [
      "epoch: 5, [batch: 52 / 174], examples_per_second: 4098.9580, train_label_loss: 1.1852, \n"
     ]
    },
    {
     "name": "stdout",
     "output_type": "stream",
     "text": [
      "epoch: 5, [batch: 70 / 174], examples_per_second: 4091.8214, train_label_loss: 1.2201, \n"
     ]
    },
    {
     "name": "stdout",
     "output_type": "stream",
     "text": [
      "epoch: 5, [batch: 87 / 174], examples_per_second: 4078.1541, train_label_loss: 1.1539, \n"
     ]
    },
    {
     "name": "stdout",
     "output_type": "stream",
     "text": [
      "epoch: 5, [batch: 104 / 174], examples_per_second: 4076.7891, train_label_loss: 1.2375, \n"
     ]
    },
    {
     "name": "stdout",
     "output_type": "stream",
     "text": [
      "epoch: 5, [batch: 122 / 174], examples_per_second: 4058.7970, train_label_loss: 1.1997, \n"
     ]
    },
    {
     "name": "stdout",
     "output_type": "stream",
     "text": [
      "epoch: 5, [batch: 139 / 174], examples_per_second: 4108.7516, train_label_loss: 1.1355, \n"
     ]
    },
    {
     "name": "stdout",
     "output_type": "stream",
     "text": [
      "epoch: 5, [batch: 156 / 174], examples_per_second: 4085.6012, train_label_loss: 1.1883, \n"
     ]
    },
    {
     "name": "stdout",
     "output_type": "stream",
     "text": [
      "=============================================================\n",
      "epoch: 5, source_val_acc_label: 0.5000, target_val_acc_label: 0.4141, source_val_label_loss: 1.1910, target_val_label_loss: 1.6233, \n",
      "=============================================================\n"
     ]
    },
    {
     "name": "stdout",
     "output_type": "stream",
     "text": [
      "New best\n"
     ]
    },
    {
     "name": "stdout",
     "output_type": "stream",
     "text": [
      "epoch: 6, [batch: 1 / 174], examples_per_second: 106.3010, train_label_loss: 1.0789, \n"
     ]
    },
    {
     "name": "stdout",
     "output_type": "stream",
     "text": [
      "epoch: 6, [batch: 18 / 174], examples_per_second: 4097.3129, train_label_loss: 1.1578, \n"
     ]
    },
    {
     "name": "stdout",
     "output_type": "stream",
     "text": [
      "epoch: 6, [batch: 35 / 174], examples_per_second: 4103.4609, train_label_loss: 1.0858, \n"
     ]
    },
    {
     "name": "stdout",
     "output_type": "stream",
     "text": [
      "epoch: 6, [batch: 52 / 174], examples_per_second: 4088.9472, train_label_loss: 1.4461, \n"
     ]
    },
    {
     "name": "stdout",
     "output_type": "stream",
     "text": [
      "epoch: 6, [batch: 70 / 174], examples_per_second: 4073.5588, train_label_loss: 1.0240, \n"
     ]
    },
    {
     "name": "stdout",
     "output_type": "stream",
     "text": [
      "epoch: 6, [batch: 87 / 174], examples_per_second: 4085.2830, train_label_loss: 1.2869, \n"
     ]
    },
    {
     "name": "stdout",
     "output_type": "stream",
     "text": [
      "epoch: 6, [batch: 104 / 174], examples_per_second: 4107.1183, train_label_loss: 1.2145, \n"
     ]
    },
    {
     "name": "stdout",
     "output_type": "stream",
     "text": [
      "epoch: 6, [batch: 122 / 174], examples_per_second: 4092.1691, train_label_loss: 1.3141, \n"
     ]
    },
    {
     "name": "stdout",
     "output_type": "stream",
     "text": [
      "epoch: 6, [batch: 139 / 174], examples_per_second: 4126.8209, train_label_loss: 1.2049, \n"
     ]
    },
    {
     "name": "stdout",
     "output_type": "stream",
     "text": [
      "epoch: 6, [batch: 156 / 174], examples_per_second: 4089.6972, train_label_loss: 1.2503, \n"
     ]
    },
    {
     "name": "stdout",
     "output_type": "stream",
     "text": [
      "=============================================================\n",
      "epoch: 6, source_val_acc_label: 0.5022, target_val_acc_label: 0.4172, source_val_label_loss: 1.1755, target_val_label_loss: 1.7131, \n",
      "=============================================================\n"
     ]
    },
    {
     "name": "stdout",
     "output_type": "stream",
     "text": [
      "epoch: 7, [batch: 1 / 174], examples_per_second: 108.5461, train_label_loss: 1.1586, \n"
     ]
    },
    {
     "name": "stdout",
     "output_type": "stream",
     "text": [
      "epoch: 7, [batch: 18 / 174], examples_per_second: 4082.6539, train_label_loss: 1.2687, \n"
     ]
    },
    {
     "name": "stdout",
     "output_type": "stream",
     "text": [
      "epoch: 7, [batch: 35 / 174], examples_per_second: 4077.2772, train_label_loss: 1.2620, \n"
     ]
    },
    {
     "name": "stdout",
     "output_type": "stream",
     "text": [
      "epoch: 7, [batch: 52 / 174], examples_per_second: 4059.7754, train_label_loss: 1.1151, \n"
     ]
    },
    {
     "name": "stdout",
     "output_type": "stream",
     "text": [
      "epoch: 7, [batch: 70 / 174], examples_per_second: 4092.3817, train_label_loss: 1.2537, \n"
     ]
    },
    {
     "name": "stdout",
     "output_type": "stream",
     "text": [
      "epoch: 7, [batch: 87 / 174], examples_per_second: 4081.5487, train_label_loss: 1.0659, \n"
     ]
    },
    {
     "name": "stdout",
     "output_type": "stream",
     "text": [
      "epoch: 7, [batch: 104 / 174], examples_per_second: 4084.0667, train_label_loss: 1.1610, \n"
     ]
    },
    {
     "name": "stdout",
     "output_type": "stream",
     "text": [
      "epoch: 7, [batch: 122 / 174], examples_per_second: 4088.2669, train_label_loss: 1.0964, \n"
     ]
    },
    {
     "name": "stdout",
     "output_type": "stream",
     "text": [
      "epoch: 7, [batch: 139 / 174], examples_per_second: 4085.2343, train_label_loss: 1.1198, \n"
     ]
    },
    {
     "name": "stdout",
     "output_type": "stream",
     "text": [
      "epoch: 7, [batch: 156 / 174], examples_per_second: 4080.0452, train_label_loss: 1.1027, \n"
     ]
    },
    {
     "name": "stdout",
     "output_type": "stream",
     "text": [
      "=============================================================\n",
      "epoch: 7, source_val_acc_label: 0.5473, target_val_acc_label: 0.4529, source_val_label_loss: 1.1166, target_val_label_loss: 1.7992, \n",
      "=============================================================\n"
     ]
    },
    {
     "name": "stdout",
     "output_type": "stream",
     "text": [
      "epoch: 8, [batch: 1 / 174], examples_per_second: 108.4317, train_label_loss: 0.7550, \n"
     ]
    },
    {
     "name": "stdout",
     "output_type": "stream",
     "text": [
      "epoch: 8, [batch: 18 / 174], examples_per_second: 4076.1251, train_label_loss: 1.0048, \n"
     ]
    },
    {
     "name": "stdout",
     "output_type": "stream",
     "text": [
      "epoch: 8, [batch: 35 / 174], examples_per_second: 4091.5673, train_label_loss: 1.1468, \n"
     ]
    },
    {
     "name": "stdout",
     "output_type": "stream",
     "text": [
      "epoch: 8, [batch: 52 / 174], examples_per_second: 4083.5880, train_label_loss: 0.5852, \n"
     ]
    },
    {
     "name": "stdout",
     "output_type": "stream",
     "text": [
      "epoch: 8, [batch: 70 / 174], examples_per_second: 4089.1723, train_label_loss: 1.6663, \n"
     ]
    },
    {
     "name": "stdout",
     "output_type": "stream",
     "text": [
      "epoch: 8, [batch: 87 / 174], examples_per_second: 4077.1557, train_label_loss: 0.8326, \n"
     ]
    },
    {
     "name": "stdout",
     "output_type": "stream",
     "text": [
      "epoch: 8, [batch: 104 / 174], examples_per_second: 4084.9722, train_label_loss: 1.2336, \n"
     ]
    },
    {
     "name": "stdout",
     "output_type": "stream",
     "text": [
      "epoch: 8, [batch: 122 / 174], examples_per_second: 4065.2671, train_label_loss: 0.6255, \n"
     ]
    },
    {
     "name": "stdout",
     "output_type": "stream",
     "text": [
      "epoch: 8, [batch: 139 / 174], examples_per_second: 4070.8248, train_label_loss: 0.8653, \n"
     ]
    },
    {
     "name": "stdout",
     "output_type": "stream",
     "text": [
      "epoch: 8, [batch: 156 / 174], examples_per_second: 4064.9528, train_label_loss: 0.4953, \n"
     ]
    },
    {
     "name": "stdout",
     "output_type": "stream",
     "text": [
      "=============================================================\n",
      "epoch: 8, source_val_acc_label: 0.6862, target_val_acc_label: 0.5536, source_val_label_loss: 0.8511, target_val_label_loss: 1.6421, \n",
      "=============================================================\n"
     ]
    },
    {
     "name": "stdout",
     "output_type": "stream",
     "text": [
      "epoch: 9, [batch: 1 / 174], examples_per_second: 108.0055, train_label_loss: 0.4555, \n"
     ]
    },
    {
     "name": "stdout",
     "output_type": "stream",
     "text": [
      "epoch: 9, [batch: 18 / 174], examples_per_second: 4106.8214, train_label_loss: 1.1294, \n"
     ]
    },
    {
     "name": "stdout",
     "output_type": "stream",
     "text": [
      "epoch: 9, [batch: 35 / 174], examples_per_second: 4094.1614, train_label_loss: 0.6563, \n"
     ]
    },
    {
     "name": "stdout",
     "output_type": "stream",
     "text": [
      "epoch: 9, [batch: 52 / 174], examples_per_second: 4087.2577, train_label_loss: 1.0393, \n"
     ]
    },
    {
     "name": "stdout",
     "output_type": "stream",
     "text": [
      "epoch: 9, [batch: 70 / 174], examples_per_second: 4081.6109, train_label_loss: 0.6002, \n"
     ]
    },
    {
     "name": "stdout",
     "output_type": "stream",
     "text": [
      "epoch: 9, [batch: 87 / 174], examples_per_second: 4097.6404, train_label_loss: 0.7023, \n"
     ]
    },
    {
     "name": "stdout",
     "output_type": "stream",
     "text": [
      "epoch: 9, [batch: 104 / 174], examples_per_second: 4079.2939, train_label_loss: 0.5947, \n"
     ]
    },
    {
     "name": "stdout",
     "output_type": "stream",
     "text": [
      "epoch: 9, [batch: 122 / 174], examples_per_second: 4057.5507, train_label_loss: 0.6344, \n"
     ]
    },
    {
     "name": "stdout",
     "output_type": "stream",
     "text": [
      "epoch: 9, [batch: 139 / 174], examples_per_second: 4084.3774, train_label_loss: 1.4726, \n"
     ]
    },
    {
     "name": "stdout",
     "output_type": "stream",
     "text": [
      "epoch: 9, [batch: 156 / 174], examples_per_second: 4064.9130, train_label_loss: 0.7540, \n"
     ]
    },
    {
     "name": "stdout",
     "output_type": "stream",
     "text": [
      "=============================================================\n",
      "epoch: 9, source_val_acc_label: 0.7205, target_val_acc_label: 0.5807, source_val_label_loss: 0.7383, target_val_label_loss: 1.3796, \n",
      "=============================================================\n"
     ]
    },
    {
     "name": "stdout",
     "output_type": "stream",
     "text": [
      "New best\n"
     ]
    },
    {
     "name": "stdout",
     "output_type": "stream",
     "text": [
      "epoch: 10, [batch: 1 / 174], examples_per_second: 105.5171, train_label_loss: 0.4131, \n"
     ]
    },
    {
     "name": "stdout",
     "output_type": "stream",
     "text": [
      "epoch: 10, [batch: 18 / 174], examples_per_second: 4041.3457, train_label_loss: 0.4970, \n"
     ]
    },
    {
     "name": "stdout",
     "output_type": "stream",
     "text": [
      "epoch: 10, [batch: 35 / 174], examples_per_second: 4067.5857, train_label_loss: 1.0451, \n"
     ]
    },
    {
     "name": "stdout",
     "output_type": "stream",
     "text": [
      "epoch: 10, [batch: 52 / 174], examples_per_second: 4072.3263, train_label_loss: 0.9892, \n"
     ]
    },
    {
     "name": "stdout",
     "output_type": "stream",
     "text": [
      "epoch: 10, [batch: 70 / 174], examples_per_second: 4070.5240, train_label_loss: 0.4297, \n"
     ]
    },
    {
     "name": "stdout",
     "output_type": "stream",
     "text": [
      "epoch: 10, [batch: 87 / 174], examples_per_second: 4096.8874, train_label_loss: 0.7127, \n"
     ]
    },
    {
     "name": "stdout",
     "output_type": "stream",
     "text": [
      "epoch: 10, [batch: 104 / 174], examples_per_second: 4071.8721, train_label_loss: 0.7502, \n"
     ]
    },
    {
     "name": "stdout",
     "output_type": "stream",
     "text": [
      "epoch: 10, [batch: 122 / 174], examples_per_second: 4096.8219, train_label_loss: 0.5641, \n"
     ]
    },
    {
     "name": "stdout",
     "output_type": "stream",
     "text": [
      "epoch: 10, [batch: 139 / 174], examples_per_second: 4064.3832, train_label_loss: 0.6939, \n"
     ]
    },
    {
     "name": "stdout",
     "output_type": "stream",
     "text": [
      "epoch: 10, [batch: 156 / 174], examples_per_second: 4087.3138, train_label_loss: 0.4979, \n"
     ]
    },
    {
     "name": "stdout",
     "output_type": "stream",
     "text": [
      "=============================================================\n",
      "epoch: 10, source_val_acc_label: 0.7413, target_val_acc_label: 0.6021, source_val_label_loss: 0.6912, target_val_label_loss: 1.3964, \n",
      "=============================================================\n"
     ]
    },
    {
     "name": "stdout",
     "output_type": "stream",
     "text": [
      "epoch: 11, [batch: 1 / 174], examples_per_second: 108.5546, train_label_loss: 0.4260, \n"
     ]
    },
    {
     "name": "stdout",
     "output_type": "stream",
     "text": [
      "epoch: 11, [batch: 18 / 174], examples_per_second: 4072.5008, train_label_loss: 0.7962, \n"
     ]
    },
    {
     "name": "stdout",
     "output_type": "stream",
     "text": [
      "epoch: 11, [batch: 35 / 174], examples_per_second: 4074.6050, train_label_loss: 0.6814, \n"
     ]
    },
    {
     "name": "stdout",
     "output_type": "stream",
     "text": [
      "epoch: 11, [batch: 52 / 174], examples_per_second: 4073.4617, train_label_loss: 0.3463, \n"
     ]
    },
    {
     "name": "stdout",
     "output_type": "stream",
     "text": [
      "epoch: 11, [batch: 70 / 174], examples_per_second: 4103.0329, train_label_loss: 0.4071, \n"
     ]
    },
    {
     "name": "stdout",
     "output_type": "stream",
     "text": [
      "epoch: 11, [batch: 87 / 174], examples_per_second: 4057.6156, train_label_loss: 0.3323, \n"
     ]
    },
    {
     "name": "stdout",
     "output_type": "stream",
     "text": [
      "epoch: 11, [batch: 104 / 174], examples_per_second: 4089.1414, train_label_loss: 0.9363, \n"
     ]
    },
    {
     "name": "stdout",
     "output_type": "stream",
     "text": [
      "epoch: 11, [batch: 122 / 174], examples_per_second: 4077.8791, train_label_loss: 0.6052, \n"
     ]
    },
    {
     "name": "stdout",
     "output_type": "stream",
     "text": [
      "epoch: 11, [batch: 139 / 174], examples_per_second: 4028.7168, train_label_loss: 0.8724, \n"
     ]
    },
    {
     "name": "stdout",
     "output_type": "stream",
     "text": [
      "epoch: 11, [batch: 156 / 174], examples_per_second: 4108.6566, train_label_loss: 0.3656, \n"
     ]
    },
    {
     "name": "stdout",
     "output_type": "stream",
     "text": [
      "=============================================================\n",
      "epoch: 11, source_val_acc_label: 0.7483, target_val_acc_label: 0.6122, source_val_label_loss: 0.6518, target_val_label_loss: 1.3058, \n",
      "=============================================================\n"
     ]
    },
    {
     "name": "stdout",
     "output_type": "stream",
     "text": [
      "New best\n"
     ]
    },
    {
     "name": "stdout",
     "output_type": "stream",
     "text": [
      "epoch: 12, [batch: 1 / 174], examples_per_second: 105.9890, train_label_loss: 0.8437, \n"
     ]
    },
    {
     "name": "stdout",
     "output_type": "stream",
     "text": [
      "epoch: 12, [batch: 18 / 174], examples_per_second: 4100.0346, train_label_loss: 0.2777, \n"
     ]
    },
    {
     "name": "stdout",
     "output_type": "stream",
     "text": [
      "epoch: 12, [batch: 35 / 174], examples_per_second: 4077.9597, train_label_loss: 0.9873, \n"
     ]
    },
    {
     "name": "stdout",
     "output_type": "stream",
     "text": [
      "epoch: 12, [batch: 52 / 174], examples_per_second: 4108.1326, train_label_loss: 0.5968, \n"
     ]
    },
    {
     "name": "stdout",
     "output_type": "stream",
     "text": [
      "epoch: 12, [batch: 70 / 174], examples_per_second: 4061.1657, train_label_loss: 0.4937, \n"
     ]
    },
    {
     "name": "stdout",
     "output_type": "stream",
     "text": [
      "epoch: 12, [batch: 87 / 174], examples_per_second: 4103.5211, train_label_loss: 0.2899, \n"
     ]
    },
    {
     "name": "stdout",
     "output_type": "stream",
     "text": [
      "epoch: 12, [batch: 104 / 174], examples_per_second: 4077.4447, train_label_loss: 0.6199, \n"
     ]
    },
    {
     "name": "stdout",
     "output_type": "stream",
     "text": [
      "epoch: 12, [batch: 122 / 174], examples_per_second: 4074.4668, train_label_loss: 0.7681, \n"
     ]
    },
    {
     "name": "stdout",
     "output_type": "stream",
     "text": [
      "epoch: 12, [batch: 139 / 174], examples_per_second: 4112.7002, train_label_loss: 0.5251, \n"
     ]
    },
    {
     "name": "stdout",
     "output_type": "stream",
     "text": [
      "epoch: 12, [batch: 156 / 174], examples_per_second: 4083.0947, train_label_loss: 0.3639, \n"
     ]
    },
    {
     "name": "stdout",
     "output_type": "stream",
     "text": [
      "=============================================================\n",
      "epoch: 12, source_val_acc_label: 0.7674, target_val_acc_label: 0.6266, source_val_label_loss: 0.6081, target_val_label_loss: 1.2101, \n",
      "=============================================================\n"
     ]
    },
    {
     "name": "stdout",
     "output_type": "stream",
     "text": [
      "New best\n"
     ]
    },
    {
     "name": "stdout",
     "output_type": "stream",
     "text": [
      "epoch: 13, [batch: 1 / 174], examples_per_second: 106.4348, train_label_loss: 0.6931, \n"
     ]
    },
    {
     "name": "stdout",
     "output_type": "stream",
     "text": [
      "epoch: 13, [batch: 18 / 174], examples_per_second: 4094.2422, train_label_loss: 0.5203, \n"
     ]
    },
    {
     "name": "stdout",
     "output_type": "stream",
     "text": [
      "epoch: 13, [batch: 35 / 174], examples_per_second: 4080.8869, train_label_loss: 0.7156, \n"
     ]
    },
    {
     "name": "stdout",
     "output_type": "stream",
     "text": [
      "epoch: 13, [batch: 52 / 174], examples_per_second: 4103.8102, train_label_loss: 0.3470, \n"
     ]
    },
    {
     "name": "stdout",
     "output_type": "stream",
     "text": [
      "epoch: 13, [batch: 70 / 174], examples_per_second: 4111.7513, train_label_loss: 0.7419, \n"
     ]
    },
    {
     "name": "stdout",
     "output_type": "stream",
     "text": [
      "epoch: 13, [batch: 87 / 174], examples_per_second: 4115.6440, train_label_loss: 0.7367, \n"
     ]
    },
    {
     "name": "stdout",
     "output_type": "stream",
     "text": [
      "epoch: 13, [batch: 104 / 174], examples_per_second: 4110.7502, train_label_loss: 0.8531, \n"
     ]
    },
    {
     "name": "stdout",
     "output_type": "stream",
     "text": [
      "epoch: 13, [batch: 122 / 174], examples_per_second: 4092.7595, train_label_loss: 0.6947, \n"
     ]
    },
    {
     "name": "stdout",
     "output_type": "stream",
     "text": [
      "epoch: 13, [batch: 139 / 174], examples_per_second: 4103.1128, train_label_loss: 0.7240, \n"
     ]
    },
    {
     "name": "stdout",
     "output_type": "stream",
     "text": [
      "epoch: 13, [batch: 156 / 174], examples_per_second: 4039.3997, train_label_loss: 0.3886, \n"
     ]
    },
    {
     "name": "stdout",
     "output_type": "stream",
     "text": [
      "=============================================================\n",
      "epoch: 13, source_val_acc_label: 0.7734, target_val_acc_label: 0.6297, source_val_label_loss: 0.6266, target_val_label_loss: 1.3159, \n",
      "=============================================================\n"
     ]
    },
    {
     "name": "stdout",
     "output_type": "stream",
     "text": [
      "epoch: 14, [batch: 1 / 174], examples_per_second: 107.4710, train_label_loss: 0.4007, \n"
     ]
    },
    {
     "name": "stdout",
     "output_type": "stream",
     "text": [
      "epoch: 14, [batch: 18 / 174], examples_per_second: 4085.8792, train_label_loss: 0.4399, \n"
     ]
    },
    {
     "name": "stdout",
     "output_type": "stream",
     "text": [
      "epoch: 14, [batch: 35 / 174], examples_per_second: 4124.0859, train_label_loss: 0.8227, \n"
     ]
    },
    {
     "name": "stdout",
     "output_type": "stream",
     "text": [
      "epoch: 14, [batch: 52 / 174], examples_per_second: 4124.3170, train_label_loss: 0.3061, \n"
     ]
    },
    {
     "name": "stdout",
     "output_type": "stream",
     "text": [
      "epoch: 14, [batch: 70 / 174], examples_per_second: 4131.8763, train_label_loss: 0.2705, \n"
     ]
    },
    {
     "name": "stdout",
     "output_type": "stream",
     "text": [
      "epoch: 14, [batch: 87 / 174], examples_per_second: 4084.2958, train_label_loss: 0.6398, \n"
     ]
    },
    {
     "name": "stdout",
     "output_type": "stream",
     "text": [
      "epoch: 14, [batch: 104 / 174], examples_per_second: 4107.0962, train_label_loss: 0.5221, \n"
     ]
    },
    {
     "name": "stdout",
     "output_type": "stream",
     "text": [
      "epoch: 14, [batch: 122 / 174], examples_per_second: 4078.8843, train_label_loss: 0.6221, \n"
     ]
    },
    {
     "name": "stdout",
     "output_type": "stream",
     "text": [
      "epoch: 14, [batch: 139 / 174], examples_per_second: 4084.6236, train_label_loss: 0.5332, \n"
     ]
    },
    {
     "name": "stdout",
     "output_type": "stream",
     "text": [
      "epoch: 14, [batch: 156 / 174], examples_per_second: 4050.2988, train_label_loss: 0.4074, \n"
     ]
    },
    {
     "name": "stdout",
     "output_type": "stream",
     "text": [
      "=============================================================\n",
      "epoch: 14, source_val_acc_label: 0.7830, target_val_acc_label: 0.6326, source_val_label_loss: 0.6005, target_val_label_loss: 1.3167, \n",
      "=============================================================\n"
     ]
    },
    {
     "name": "stdout",
     "output_type": "stream",
     "text": [
      "epoch: 15, [batch: 1 / 174], examples_per_second: 107.4330, train_label_loss: 0.3346, \n"
     ]
    },
    {
     "name": "stdout",
     "output_type": "stream",
     "text": [
      "epoch: 15, [batch: 18 / 174], examples_per_second: 3691.2064, train_label_loss: 0.4579, \n"
     ]
    },
    {
     "name": "stdout",
     "output_type": "stream",
     "text": [
      "epoch: 15, [batch: 35 / 174], examples_per_second: 3964.5266, train_label_loss: 0.1955, \n"
     ]
    },
    {
     "name": "stdout",
     "output_type": "stream",
     "text": [
      "epoch: 15, [batch: 52 / 174], examples_per_second: 3692.1551, train_label_loss: 0.2963, \n"
     ]
    },
    {
     "name": "stdout",
     "output_type": "stream",
     "text": [
      "epoch: 15, [batch: 70 / 174], examples_per_second: 3672.9241, train_label_loss: 0.3581, \n"
     ]
    },
    {
     "name": "stdout",
     "output_type": "stream",
     "text": [
      "epoch: 15, [batch: 87 / 174], examples_per_second: 3664.5537, train_label_loss: 0.6024, \n"
     ]
    },
    {
     "name": "stdout",
     "output_type": "stream",
     "text": [
      "epoch: 15, [batch: 104 / 174], examples_per_second: 3972.8597, train_label_loss: 0.4972, \n"
     ]
    },
    {
     "name": "stdout",
     "output_type": "stream",
     "text": [
      "epoch: 15, [batch: 122 / 174], examples_per_second: 3818.9768, train_label_loss: 0.5031, \n"
     ]
    },
    {
     "name": "stdout",
     "output_type": "stream",
     "text": [
      "epoch: 15, [batch: 139 / 174], examples_per_second: 3794.1228, train_label_loss: 0.4482, \n"
     ]
    },
    {
     "name": "stdout",
     "output_type": "stream",
     "text": [
      "epoch: 15, [batch: 156 / 174], examples_per_second: 4074.5407, train_label_loss: 0.4060, \n"
     ]
    },
    {
     "name": "stdout",
     "output_type": "stream",
     "text": [
      "=============================================================\n",
      "epoch: 15, source_val_acc_label: 0.7808, target_val_acc_label: 0.6349, source_val_label_loss: 0.6005, target_val_label_loss: 1.2205, \n",
      "=============================================================\n"
     ]
    },
    {
     "name": "stdout",
     "output_type": "stream",
     "text": [
      "epoch: 16, [batch: 1 / 174], examples_per_second: 107.8498, train_label_loss: 0.4648, \n"
     ]
    },
    {
     "name": "stdout",
     "output_type": "stream",
     "text": [
      "epoch: 16, [batch: 18 / 174], examples_per_second: 4057.4159, train_label_loss: 0.3566, \n"
     ]
    },
    {
     "name": "stdout",
     "output_type": "stream",
     "text": [
      "epoch: 16, [batch: 35 / 174], examples_per_second: 4071.4168, train_label_loss: 0.7060, \n"
     ]
    },
    {
     "name": "stdout",
     "output_type": "stream",
     "text": [
      "epoch: 16, [batch: 52 / 174], examples_per_second: 4077.3974, train_label_loss: 0.3309, \n"
     ]
    },
    {
     "name": "stdout",
     "output_type": "stream",
     "text": [
      "epoch: 16, [batch: 70 / 174], examples_per_second: 4090.3054, train_label_loss: 0.5723, \n"
     ]
    },
    {
     "name": "stdout",
     "output_type": "stream",
     "text": [
      "epoch: 16, [batch: 87 / 174], examples_per_second: 4080.0075, train_label_loss: 0.2701, \n"
     ]
    },
    {
     "name": "stdout",
     "output_type": "stream",
     "text": [
      "epoch: 16, [batch: 104 / 174], examples_per_second: 3808.9511, train_label_loss: 0.2918, \n"
     ]
    },
    {
     "name": "stdout",
     "output_type": "stream",
     "text": [
      "epoch: 16, [batch: 122 / 174], examples_per_second: 3737.1700, train_label_loss: 0.3359, \n"
     ]
    },
    {
     "name": "stdout",
     "output_type": "stream",
     "text": [
      "epoch: 16, [batch: 139 / 174], examples_per_second: 3848.8703, train_label_loss: 0.6979, \n"
     ]
    },
    {
     "name": "stdout",
     "output_type": "stream",
     "text": [
      "epoch: 16, [batch: 156 / 174], examples_per_second: 3847.8361, train_label_loss: 0.3532, \n"
     ]
    },
    {
     "name": "stdout",
     "output_type": "stream",
     "text": [
      "=============================================================\n",
      "epoch: 16, source_val_acc_label: 0.7951, target_val_acc_label: 0.6427, source_val_label_loss: 0.5790, target_val_label_loss: 1.2054, \n",
      "=============================================================\n"
     ]
    },
    {
     "name": "stdout",
     "output_type": "stream",
     "text": [
      "New best\n"
     ]
    },
    {
     "name": "stdout",
     "output_type": "stream",
     "text": [
      "epoch: 17, [batch: 1 / 174], examples_per_second: 100.3156, train_label_loss: 0.2604, \n"
     ]
    },
    {
     "name": "stdout",
     "output_type": "stream",
     "text": [
      "epoch: 17, [batch: 18 / 174], examples_per_second: 3788.7709, train_label_loss: 0.4409, \n"
     ]
    },
    {
     "name": "stdout",
     "output_type": "stream",
     "text": [
      "epoch: 17, [batch: 35 / 174], examples_per_second: 3853.0971, train_label_loss: 0.2898, \n"
     ]
    },
    {
     "name": "stdout",
     "output_type": "stream",
     "text": [
      "epoch: 17, [batch: 52 / 174], examples_per_second: 3632.2076, train_label_loss: 0.5318, \n"
     ]
    },
    {
     "name": "stdout",
     "output_type": "stream",
     "text": [
      "epoch: 17, [batch: 70 / 174], examples_per_second: 3726.3582, train_label_loss: 0.2293, \n"
     ]
    },
    {
     "name": "stdout",
     "output_type": "stream",
     "text": [
      "epoch: 17, [batch: 87 / 174], examples_per_second: 3824.8423, train_label_loss: 0.1859, \n"
     ]
    },
    {
     "name": "stdout",
     "output_type": "stream",
     "text": [
      "epoch: 17, [batch: 104 / 174], examples_per_second: 3766.6714, train_label_loss: 0.8358, \n"
     ]
    },
    {
     "name": "stdout",
     "output_type": "stream",
     "text": [
      "epoch: 17, [batch: 122 / 174], examples_per_second: 3942.6605, train_label_loss: 0.4587, \n"
     ]
    },
    {
     "name": "stdout",
     "output_type": "stream",
     "text": [
      "epoch: 17, [batch: 139 / 174], examples_per_second: 3746.5336, train_label_loss: 0.5352, \n"
     ]
    },
    {
     "name": "stdout",
     "output_type": "stream",
     "text": [
      "epoch: 17, [batch: 156 / 174], examples_per_second: 3676.1958, train_label_loss: 0.2028, \n"
     ]
    },
    {
     "name": "stdout",
     "output_type": "stream",
     "text": [
      "=============================================================\n",
      "epoch: 17, source_val_acc_label: 0.7865, target_val_acc_label: 0.6495, source_val_label_loss: 0.5848, target_val_label_loss: 1.1526, \n",
      "=============================================================\n"
     ]
    },
    {
     "name": "stdout",
     "output_type": "stream",
     "text": [
      "New best\n"
     ]
    },
    {
     "name": "stdout",
     "output_type": "stream",
     "text": [
      "epoch: 18, [batch: 1 / 174], examples_per_second: 95.1960, train_label_loss: 0.4056, \n"
     ]
    },
    {
     "name": "stdout",
     "output_type": "stream",
     "text": [
      "epoch: 18, [batch: 18 / 174], examples_per_second: 3793.3680, train_label_loss: 0.5174, \n"
     ]
    },
    {
     "name": "stdout",
     "output_type": "stream",
     "text": [
      "epoch: 18, [batch: 35 / 174], examples_per_second: 3886.4560, train_label_loss: 0.3565, \n"
     ]
    },
    {
     "name": "stdout",
     "output_type": "stream",
     "text": [
      "epoch: 18, [batch: 52 / 174], examples_per_second: 3618.4131, train_label_loss: 0.3501, \n"
     ]
    },
    {
     "name": "stdout",
     "output_type": "stream",
     "text": [
      "epoch: 18, [batch: 70 / 174], examples_per_second: 3748.6128, train_label_loss: 0.2687, \n"
     ]
    },
    {
     "name": "stdout",
     "output_type": "stream",
     "text": [
      "epoch: 18, [batch: 87 / 174], examples_per_second: 4104.0280, train_label_loss: 0.6148, \n"
     ]
    },
    {
     "name": "stdout",
     "output_type": "stream",
     "text": [
      "epoch: 18, [batch: 104 / 174], examples_per_second: 3975.9784, train_label_loss: 0.5729, \n"
     ]
    },
    {
     "name": "stdout",
     "output_type": "stream",
     "text": [
      "epoch: 18, [batch: 122 / 174], examples_per_second: 3725.4168, train_label_loss: 0.4743, \n"
     ]
    },
    {
     "name": "stdout",
     "output_type": "stream",
     "text": [
      "epoch: 18, [batch: 139 / 174], examples_per_second: 3854.5899, train_label_loss: 0.4053, \n"
     ]
    },
    {
     "name": "stdout",
     "output_type": "stream",
     "text": [
      "epoch: 18, [batch: 156 / 174], examples_per_second: 3892.5990, train_label_loss: 0.3433, \n"
     ]
    },
    {
     "name": "stdout",
     "output_type": "stream",
     "text": [
      "=============================================================\n",
      "epoch: 18, source_val_acc_label: 0.7765, target_val_acc_label: 0.6500, source_val_label_loss: 0.6308, target_val_label_loss: 1.3364, \n",
      "=============================================================\n"
     ]
    },
    {
     "name": "stdout",
     "output_type": "stream",
     "text": [
      "epoch: 19, [batch: 1 / 174], examples_per_second: 103.3268, train_label_loss: 0.4057, \n"
     ]
    },
    {
     "name": "stdout",
     "output_type": "stream",
     "text": [
      "epoch: 19, [batch: 18 / 174], examples_per_second: 4125.3211, train_label_loss: 0.3273, \n"
     ]
    },
    {
     "name": "stdout",
     "output_type": "stream",
     "text": [
      "epoch: 19, [batch: 35 / 174], examples_per_second: 3764.8286, train_label_loss: 0.4076, \n"
     ]
    },
    {
     "name": "stdout",
     "output_type": "stream",
     "text": [
      "epoch: 19, [batch: 52 / 174], examples_per_second: 3790.6371, train_label_loss: 0.2397, \n"
     ]
    },
    {
     "name": "stdout",
     "output_type": "stream",
     "text": [
      "epoch: 19, [batch: 70 / 174], examples_per_second: 4069.6806, train_label_loss: 0.2476, \n"
     ]
    },
    {
     "name": "stdout",
     "output_type": "stream",
     "text": [
      "epoch: 19, [batch: 87 / 174], examples_per_second: 3895.8900, train_label_loss: 0.3633, \n"
     ]
    },
    {
     "name": "stdout",
     "output_type": "stream",
     "text": [
      "epoch: 19, [batch: 104 / 174], examples_per_second: 3831.8652, train_label_loss: 0.6061, \n"
     ]
    },
    {
     "name": "stdout",
     "output_type": "stream",
     "text": [
      "epoch: 19, [batch: 122 / 174], examples_per_second: 3833.5418, train_label_loss: 0.2680, \n"
     ]
    },
    {
     "name": "stdout",
     "output_type": "stream",
     "text": [
      "epoch: 19, [batch: 139 / 174], examples_per_second: 3833.4596, train_label_loss: 0.6384, \n"
     ]
    },
    {
     "name": "stdout",
     "output_type": "stream",
     "text": [
      "epoch: 19, [batch: 156 / 174], examples_per_second: 3797.7614, train_label_loss: 0.3370, \n"
     ]
    },
    {
     "name": "stdout",
     "output_type": "stream",
     "text": [
      "=============================================================\n",
      "epoch: 19, source_val_acc_label: 0.7982, target_val_acc_label: 0.6604, source_val_label_loss: 0.5825, target_val_label_loss: 1.3205, \n",
      "=============================================================\n"
     ]
    },
    {
     "name": "stdout",
     "output_type": "stream",
     "text": [
      "epoch: 20, [batch: 1 / 174], examples_per_second: 103.2603, train_label_loss: 0.2326, \n"
     ]
    },
    {
     "name": "stdout",
     "output_type": "stream",
     "text": [
      "epoch: 20, [batch: 18 / 174], examples_per_second: 3862.3164, train_label_loss: 0.2550, \n"
     ]
    },
    {
     "name": "stdout",
     "output_type": "stream",
     "text": [
      "epoch: 20, [batch: 35 / 174], examples_per_second: 3834.2982, train_label_loss: 0.5082, \n"
     ]
    },
    {
     "name": "stdout",
     "output_type": "stream",
     "text": [
      "epoch: 20, [batch: 52 / 174], examples_per_second: 3823.3276, train_label_loss: 0.5165, \n"
     ]
    },
    {
     "name": "stdout",
     "output_type": "stream",
     "text": [
      "epoch: 20, [batch: 70 / 174], examples_per_second: 3853.9078, train_label_loss: 0.4508, \n"
     ]
    },
    {
     "name": "stdout",
     "output_type": "stream",
     "text": [
      "epoch: 20, [batch: 87 / 174], examples_per_second: 3845.8850, train_label_loss: 0.5569, \n"
     ]
    },
    {
     "name": "stdout",
     "output_type": "stream",
     "text": [
      "epoch: 20, [batch: 104 / 174], examples_per_second: 3834.1070, train_label_loss: 0.2845, \n"
     ]
    },
    {
     "name": "stdout",
     "output_type": "stream",
     "text": [
      "epoch: 20, [batch: 122 / 174], examples_per_second: 3839.2754, train_label_loss: 0.4003, \n"
     ]
    },
    {
     "name": "stdout",
     "output_type": "stream",
     "text": [
      "epoch: 20, [batch: 139 / 174], examples_per_second: 3830.1703, train_label_loss: 0.3943, \n"
     ]
    },
    {
     "name": "stdout",
     "output_type": "stream",
     "text": [
      "epoch: 20, [batch: 156 / 174], examples_per_second: 3831.2379, train_label_loss: 0.5707, \n"
     ]
    },
    {
     "name": "stdout",
     "output_type": "stream",
     "text": [
      "=============================================================\n",
      "epoch: 20, source_val_acc_label: 0.7917, target_val_acc_label: 0.6526, source_val_label_loss: 0.5685, target_val_label_loss: 1.2765, \n",
      "=============================================================\n"
     ]
    },
    {
     "name": "stdout",
     "output_type": "stream",
     "text": [
      "epoch: 21, [batch: 1 / 174], examples_per_second: 102.9561, train_label_loss: 0.6665, \n"
     ]
    },
    {
     "name": "stdout",
     "output_type": "stream",
     "text": [
      "epoch: 21, [batch: 18 / 174], examples_per_second: 3826.5079, train_label_loss: 0.6412, \n"
     ]
    },
    {
     "name": "stdout",
     "output_type": "stream",
     "text": [
      "epoch: 21, [batch: 35 / 174], examples_per_second: 3856.1653, train_label_loss: 0.8873, \n"
     ]
    },
    {
     "name": "stdout",
     "output_type": "stream",
     "text": [
      "epoch: 21, [batch: 52 / 174], examples_per_second: 3850.9544, train_label_loss: 0.1989, \n"
     ]
    },
    {
     "name": "stdout",
     "output_type": "stream",
     "text": [
      "epoch: 21, [batch: 70 / 174], examples_per_second: 3833.4789, train_label_loss: 0.6389, \n"
     ]
    },
    {
     "name": "stdout",
     "output_type": "stream",
     "text": [
      "epoch: 21, [batch: 87 / 174], examples_per_second: 3834.1242, train_label_loss: 0.5955, \n"
     ]
    },
    {
     "name": "stdout",
     "output_type": "stream",
     "text": [
      "epoch: 21, [batch: 104 / 174], examples_per_second: 3829.6721, train_label_loss: 0.5096, \n"
     ]
    },
    {
     "name": "stdout",
     "output_type": "stream",
     "text": [
      "epoch: 21, [batch: 122 / 174], examples_per_second: 3864.3824, train_label_loss: 0.4385, \n"
     ]
    },
    {
     "name": "stdout",
     "output_type": "stream",
     "text": [
      "epoch: 21, [batch: 139 / 174], examples_per_second: 3842.8525, train_label_loss: 0.3124, \n"
     ]
    },
    {
     "name": "stdout",
     "output_type": "stream",
     "text": [
      "epoch: 21, [batch: 156 / 174], examples_per_second: 3821.1869, train_label_loss: 0.5355, \n"
     ]
    },
    {
     "name": "stdout",
     "output_type": "stream",
     "text": [
      "=============================================================\n",
      "epoch: 21, source_val_acc_label: 0.7891, target_val_acc_label: 0.6536, source_val_label_loss: 0.5731, target_val_label_loss: 1.1449, \n",
      "=============================================================\n"
     ]
    },
    {
     "name": "stdout",
     "output_type": "stream",
     "text": [
      "New best\n"
     ]
    },
    {
     "name": "stdout",
     "output_type": "stream",
     "text": [
      "epoch: 22, [batch: 1 / 174], examples_per_second: 100.8938, train_label_loss: 0.5841, \n"
     ]
    },
    {
     "name": "stdout",
     "output_type": "stream",
     "text": [
      "epoch: 22, [batch: 18 / 174], examples_per_second: 3877.1839, train_label_loss: 0.3867, \n"
     ]
    },
    {
     "name": "stdout",
     "output_type": "stream",
     "text": [
      "epoch: 22, [batch: 35 / 174], examples_per_second: 3858.0769, train_label_loss: 0.2262, \n"
     ]
    },
    {
     "name": "stdout",
     "output_type": "stream",
     "text": [
      "epoch: 22, [batch: 52 / 174], examples_per_second: 3830.3867, train_label_loss: 0.3748, \n"
     ]
    },
    {
     "name": "stdout",
     "output_type": "stream",
     "text": [
      "epoch: 22, [batch: 70 / 174], examples_per_second: 3869.0580, train_label_loss: 0.1452, \n"
     ]
    },
    {
     "name": "stdout",
     "output_type": "stream",
     "text": [
      "epoch: 22, [batch: 87 / 174], examples_per_second: 3870.8048, train_label_loss: 0.3128, \n"
     ]
    },
    {
     "name": "stdout",
     "output_type": "stream",
     "text": [
      "epoch: 22, [batch: 104 / 174], examples_per_second: 3849.4612, train_label_loss: 0.3257, \n"
     ]
    },
    {
     "name": "stdout",
     "output_type": "stream",
     "text": [
      "epoch: 22, [batch: 122 / 174], examples_per_second: 3835.5390, train_label_loss: 0.3457, \n"
     ]
    },
    {
     "name": "stdout",
     "output_type": "stream",
     "text": [
      "epoch: 22, [batch: 139 / 174], examples_per_second: 3842.4664, train_label_loss: 0.2367, \n"
     ]
    },
    {
     "name": "stdout",
     "output_type": "stream",
     "text": [
      "epoch: 22, [batch: 156 / 174], examples_per_second: 3823.8818, train_label_loss: 0.5809, \n"
     ]
    },
    {
     "name": "stdout",
     "output_type": "stream",
     "text": [
      "=============================================================\n",
      "epoch: 22, source_val_acc_label: 0.7964, target_val_acc_label: 0.6513, source_val_label_loss: 0.5705, target_val_label_loss: 1.2195, \n",
      "=============================================================\n"
     ]
    },
    {
     "name": "stdout",
     "output_type": "stream",
     "text": [
      "epoch: 23, [batch: 1 / 174], examples_per_second: 102.8008, train_label_loss: 0.3503, \n"
     ]
    },
    {
     "name": "stdout",
     "output_type": "stream",
     "text": [
      "epoch: 23, [batch: 18 / 174], examples_per_second: 3865.9450, train_label_loss: 0.3517, \n"
     ]
    },
    {
     "name": "stdout",
     "output_type": "stream",
     "text": [
      "epoch: 23, [batch: 35 / 174], examples_per_second: 3848.1011, train_label_loss: 0.5886, \n"
     ]
    },
    {
     "name": "stdout",
     "output_type": "stream",
     "text": [
      "epoch: 23, [batch: 52 / 174], examples_per_second: 3823.5486, train_label_loss: 0.1985, \n"
     ]
    },
    {
     "name": "stdout",
     "output_type": "stream",
     "text": [
      "epoch: 23, [batch: 70 / 174], examples_per_second: 3843.2902, train_label_loss: 0.4500, \n"
     ]
    },
    {
     "name": "stdout",
     "output_type": "stream",
     "text": [
      "epoch: 23, [batch: 87 / 174], examples_per_second: 3848.8129, train_label_loss: 0.6751, \n"
     ]
    },
    {
     "name": "stdout",
     "output_type": "stream",
     "text": [
      "epoch: 23, [batch: 104 / 174], examples_per_second: 3842.2097, train_label_loss: 0.4470, \n"
     ]
    },
    {
     "name": "stdout",
     "output_type": "stream",
     "text": [
      "epoch: 23, [batch: 122 / 174], examples_per_second: 3892.5712, train_label_loss: 0.3146, \n"
     ]
    },
    {
     "name": "stdout",
     "output_type": "stream",
     "text": [
      "epoch: 23, [batch: 139 / 174], examples_per_second: 3865.7223, train_label_loss: 0.2097, \n"
     ]
    },
    {
     "name": "stdout",
     "output_type": "stream",
     "text": [
      "epoch: 23, [batch: 156 / 174], examples_per_second: 3870.7610, train_label_loss: 0.1902, \n"
     ]
    },
    {
     "name": "stdout",
     "output_type": "stream",
     "text": [
      "=============================================================\n",
      "epoch: 23, source_val_acc_label: 0.8099, target_val_acc_label: 0.6633, source_val_label_loss: 0.5279, target_val_label_loss: 1.2344, \n",
      "=============================================================\n"
     ]
    },
    {
     "name": "stdout",
     "output_type": "stream",
     "text": [
      "epoch: 24, [batch: 1 / 174], examples_per_second: 103.2560, train_label_loss: 0.1305, \n"
     ]
    },
    {
     "name": "stdout",
     "output_type": "stream",
     "text": [
      "epoch: 24, [batch: 18 / 174], examples_per_second: 3885.3618, train_label_loss: 0.2736, \n"
     ]
    },
    {
     "name": "stdout",
     "output_type": "stream",
     "text": [
      "epoch: 24, [batch: 35 / 174], examples_per_second: 3832.4831, train_label_loss: 0.4065, \n"
     ]
    },
    {
     "name": "stdout",
     "output_type": "stream",
     "text": [
      "epoch: 24, [batch: 52 / 174], examples_per_second: 3844.0297, train_label_loss: 0.4461, \n"
     ]
    },
    {
     "name": "stdout",
     "output_type": "stream",
     "text": [
      "epoch: 24, [batch: 70 / 174], examples_per_second: 3838.2965, train_label_loss: 0.2298, \n"
     ]
    },
    {
     "name": "stdout",
     "output_type": "stream",
     "text": [
      "epoch: 24, [batch: 87 / 174], examples_per_second: 3863.3889, train_label_loss: 0.3240, \n"
     ]
    },
    {
     "name": "stdout",
     "output_type": "stream",
     "text": [
      "epoch: 24, [batch: 104 / 174], examples_per_second: 3843.3369, train_label_loss: 0.3159, \n"
     ]
    },
    {
     "name": "stdout",
     "output_type": "stream",
     "text": [
      "epoch: 24, [batch: 122 / 174], examples_per_second: 3883.4952, train_label_loss: 0.4925, \n"
     ]
    },
    {
     "name": "stdout",
     "output_type": "stream",
     "text": [
      "epoch: 24, [batch: 139 / 174], examples_per_second: 3862.8482, train_label_loss: 0.2691, \n"
     ]
    },
    {
     "name": "stdout",
     "output_type": "stream",
     "text": [
      "epoch: 24, [batch: 156 / 174], examples_per_second: 3984.7169, train_label_loss: 0.2336, \n"
     ]
    },
    {
     "name": "stdout",
     "output_type": "stream",
     "text": [
      "=============================================================\n",
      "epoch: 24, source_val_acc_label: 0.8064, target_val_acc_label: 0.6677, source_val_label_loss: 0.5331, target_val_label_loss: 1.2831, \n",
      "=============================================================\n"
     ]
    },
    {
     "name": "stdout",
     "output_type": "stream",
     "text": [
      "epoch: 25, [batch: 1 / 174], examples_per_second: 107.9623, train_label_loss: 0.1922, \n"
     ]
    },
    {
     "name": "stdout",
     "output_type": "stream",
     "text": [
      "epoch: 25, [batch: 18 / 174], examples_per_second: 4115.3904, train_label_loss: 0.3509, \n"
     ]
    },
    {
     "name": "stdout",
     "output_type": "stream",
     "text": [
      "epoch: 25, [batch: 35 / 174], examples_per_second: 4109.4250, train_label_loss: 0.1023, \n"
     ]
    },
    {
     "name": "stdout",
     "output_type": "stream",
     "text": [
      "epoch: 25, [batch: 52 / 174], examples_per_second: 4121.4141, train_label_loss: 0.2695, \n"
     ]
    },
    {
     "name": "stdout",
     "output_type": "stream",
     "text": [
      "epoch: 25, [batch: 70 / 174], examples_per_second: 4117.3737, train_label_loss: 0.6384, \n"
     ]
    },
    {
     "name": "stdout",
     "output_type": "stream",
     "text": [
      "epoch: 25, [batch: 87 / 174], examples_per_second: 4115.8742, train_label_loss: 0.5158, \n"
     ]
    },
    {
     "name": "stdout",
     "output_type": "stream",
     "text": [
      "epoch: 25, [batch: 104 / 174], examples_per_second: 4110.7441, train_label_loss: 0.3994, \n"
     ]
    },
    {
     "name": "stdout",
     "output_type": "stream",
     "text": [
      "epoch: 25, [batch: 122 / 174], examples_per_second: 4121.6902, train_label_loss: 0.3041, \n"
     ]
    },
    {
     "name": "stdout",
     "output_type": "stream",
     "text": [
      "epoch: 25, [batch: 139 / 174], examples_per_second: 4107.4030, train_label_loss: 0.3753, \n"
     ]
    },
    {
     "name": "stdout",
     "output_type": "stream",
     "text": [
      "epoch: 25, [batch: 156 / 174], examples_per_second: 4110.5268, train_label_loss: 0.3244, \n"
     ]
    },
    {
     "name": "stdout",
     "output_type": "stream",
     "text": [
      "=============================================================\n",
      "epoch: 25, source_val_acc_label: 0.7930, target_val_acc_label: 0.6719, source_val_label_loss: 0.5679, target_val_label_loss: 1.1993, \n",
      "=============================================================\n"
     ]
    },
    {
     "name": "stdout",
     "output_type": "stream",
     "text": [
      "Patience (3) exhausted\n"
     ]
    }
   ],
   "source": [
    "###################################\n",
    "# train\n",
    "###################################\n",
    "jig = PTN_Train_Eval_Test_Jig(model, p.BEST_MODEL_PATH, p.device)\n",
    "\n",
    "jig.train(\n",
    "    train_iterable=datasets.source.processed.train,\n",
    "    source_val_iterable=datasets.source.processed.val,\n",
    "    target_val_iterable=datasets.target.processed.val,\n",
    "    num_epochs=p.n_epoch,\n",
    "    num_logs_per_epoch=p.NUM_LOGS_PER_EPOCH,\n",
    "    patience=p.patience,\n",
    "    optimizer=optimizer,\n",
    "    criteria_for_best=p.criteria_for_best,\n",
    ")"
   ]
  },
  {
   "cell_type": "code",
   "execution_count": 14,
   "id": "31e8fabf",
   "metadata": {
    "execution": {
     "iopub.execute_input": "2022-03-05T00:39:53.895123Z",
     "iopub.status.busy": "2022-03-05T00:39:53.894862Z",
     "iopub.status.idle": "2022-03-05T00:39:53.911191Z",
     "shell.execute_reply": "2022-03-05T00:39:53.910760Z"
    },
    "papermill": {
     "duration": 0.078796,
     "end_time": "2022-03-05T00:39:53.911295",
     "exception": false,
     "start_time": "2022-03-05T00:39:53.832499",
     "status": "completed"
    },
    "tags": []
   },
   "outputs": [],
   "source": [
    "total_experiment_time_secs = time.time() - start_time_secs"
   ]
  },
  {
   "cell_type": "code",
   "execution_count": 15,
   "id": "87b9595b",
   "metadata": {
    "execution": {
     "iopub.execute_input": "2022-03-05T00:39:54.043914Z",
     "iopub.status.busy": "2022-03-05T00:39:54.043631Z",
     "iopub.status.idle": "2022-03-05T00:40:06.405938Z",
     "shell.execute_reply": "2022-03-05T00:40:06.406333Z"
    },
    "papermill": {
     "duration": 12.429315,
     "end_time": "2022-03-05T00:40:06.406465",
     "exception": false,
     "start_time": "2022-03-05T00:39:53.977150",
     "status": "completed"
    },
    "tags": []
   },
   "outputs": [],
   "source": [
    "###################################\n",
    "# Evaluate the model\n",
    "###################################\n",
    "source_test_label_accuracy, source_test_label_loss = jig.test(datasets.source.processed.test)\n",
    "target_test_label_accuracy, target_test_label_loss = jig.test(datasets.target.processed.test)\n",
    "\n",
    "source_val_label_accuracy, source_val_label_loss = jig.test(datasets.source.processed.val)\n",
    "target_val_label_accuracy, target_val_label_loss = jig.test(datasets.target.processed.val)\n",
    "\n",
    "history = jig.get_history()\n",
    "\n",
    "total_epochs_trained = len(history[\"epoch_indices\"])\n",
    "\n",
    "val_dl = Iterable_Aggregator((datasets.source.original.val,datasets.target.original.val))\n",
    "\n",
    "confusion = ptn_confusion_by_domain_over_dataloader(model, p.device, val_dl)\n",
    "per_domain_accuracy = per_domain_accuracy_from_confusion(confusion)\n",
    "\n",
    "# Add a key to per_domain_accuracy for if it was a source domain\n",
    "for domain, accuracy in per_domain_accuracy.items():\n",
    "    per_domain_accuracy[domain] = {\n",
    "        \"accuracy\": accuracy,\n",
    "        \"source?\": domain in p.domains_source\n",
    "    }\n",
    "\n",
    "# Do an independent accuracy assesment JUST TO BE SURE!\n",
    "# _source_test_label_accuracy = independent_accuracy_assesment(model, datasets.source.processed.test, p.device)\n",
    "# _target_test_label_accuracy = independent_accuracy_assesment(model, datasets.target.processed.test, p.device)\n",
    "# _source_val_label_accuracy = independent_accuracy_assesment(model, datasets.source.processed.val, p.device)\n",
    "# _target_val_label_accuracy = independent_accuracy_assesment(model, datasets.target.processed.val, p.device)\n",
    "\n",
    "# assert(_source_test_label_accuracy == source_test_label_accuracy)\n",
    "# assert(_target_test_label_accuracy == target_test_label_accuracy)\n",
    "# assert(_source_val_label_accuracy == source_val_label_accuracy)\n",
    "# assert(_target_val_label_accuracy == target_val_label_accuracy)\n",
    "\n",
    "experiment = {\n",
    "    \"experiment_name\": p.experiment_name,\n",
    "    \"parameters\": dict(p),\n",
    "    \"results\": {\n",
    "        \"source_test_label_accuracy\": source_test_label_accuracy,\n",
    "        \"source_test_label_loss\": source_test_label_loss,\n",
    "        \"target_test_label_accuracy\": target_test_label_accuracy,\n",
    "        \"target_test_label_loss\": target_test_label_loss,\n",
    "        \"source_val_label_accuracy\": source_val_label_accuracy,\n",
    "        \"source_val_label_loss\": source_val_label_loss,\n",
    "        \"target_val_label_accuracy\": target_val_label_accuracy,\n",
    "        \"target_val_label_loss\": target_val_label_loss,\n",
    "        \"total_epochs_trained\": total_epochs_trained,\n",
    "        \"total_experiment_time_secs\": total_experiment_time_secs,\n",
    "        \"confusion\": confusion,\n",
    "        \"per_domain_accuracy\": per_domain_accuracy,\n",
    "    },\n",
    "    \"history\": history,\n",
    "    \"dataset_metrics\": get_dataset_metrics(datasets, \"ptn\"),\n",
    "}"
   ]
  },
  {
   "cell_type": "code",
   "execution_count": 16,
   "id": "54a21829",
   "metadata": {
    "execution": {
     "iopub.execute_input": "2022-03-05T00:40:06.533787Z",
     "iopub.status.busy": "2022-03-05T00:40:06.533288Z",
     "iopub.status.idle": "2022-03-05T00:40:06.718723Z",
     "shell.execute_reply": "2022-03-05T00:40:06.718332Z"
    },
    "papermill": {
     "duration": 0.248243,
     "end_time": "2022-03-05T00:40:06.718821",
     "exception": false,
     "start_time": "2022-03-05T00:40:06.470578",
     "status": "completed"
    },
    "tags": []
   },
   "outputs": [
    {
     "data": {
      "image/png": "[encoded data removed]",
      "text/plain": [
       "<Figure size 1080x504 with 1 Axes>"
      ]
     },
     "metadata": {
      "needs_background": "light"
     },
     "output_type": "display_data"
    }
   ],
   "source": [
    "ax = get_loss_curve(experiment)\n",
    "plt.show()"
   ]
  },
  {
   "cell_type": "code",
   "execution_count": 17,
   "id": "fd8a0f60",
   "metadata": {
    "execution": {
     "iopub.execute_input": "2022-03-05T00:40:06.856837Z",
     "iopub.status.busy": "2022-03-05T00:40:06.848458Z",
     "iopub.status.idle": "2022-03-05T00:40:07.105805Z",
     "shell.execute_reply": "2022-03-05T00:40:07.106018Z"
    },
    "papermill": {
     "duration": 0.321782,
     "end_time": "2022-03-05T00:40:07.106085",
     "exception": false,
     "start_time": "2022-03-05T00:40:06.784303",
     "status": "completed"
    },
    "tags": []
   },
   "outputs": [
    {
     "data": {
      "text/plain": [
       "<matplotlib.axes._subplots.AxesSubplot at 0x7f8a30bafe50>"
      ]
     },
     "execution_count": 17,
     "metadata": {},
     "output_type": "execute_result"
    },
    {
     "data": {
      "image/png": "[encoded data removed]",
      "text/plain": [
       "<Figure size 1080x504 with 1 Axes>"
      ]
     },
     "metadata": {
      "needs_background": "light"
     },
     "output_type": "display_data"
    }
   ],
   "source": [
    "get_results_table(experiment)"
   ]
  },
  {
   "cell_type": "code",
   "execution_count": 18,
   "id": "cf8dc689",
   "metadata": {
    "execution": {
     "iopub.execute_input": "2022-03-05T00:40:07.236069Z",
     "iopub.status.busy": "2022-03-05T00:40:07.235817Z",
     "iopub.status.idle": "2022-03-05T00:40:07.411438Z",
     "shell.execute_reply": "2022-03-05T00:40:07.410988Z"
    },
    "papermill": {
     "duration": 0.241597,
     "end_time": "2022-03-05T00:40:07.411530",
     "exception": false,
     "start_time": "2022-03-05T00:40:07.169933",
     "status": "completed"
    },
    "tags": []
   },
   "outputs": [
    {
     "data": {
      "text/plain": [
       "<matplotlib.axes._subplots.AxesSubplot at 0x7f8a30b96700>"
      ]
     },
     "execution_count": 18,
     "metadata": {},
     "output_type": "execute_result"
    },
    {
     "data": {
      "image/png": "[encoded data removed]",
      "text/plain": [
       "<Figure size 1080x504 with 1 Axes>"
      ]
     },
     "metadata": {
      "needs_background": "light"
     },
     "output_type": "display_data"
    }
   ],
   "source": [
    "get_domain_accuracies(experiment)"
   ]
  },
  {
   "cell_type": "code",
   "execution_count": 19,
   "id": "a74ae082",
   "metadata": {
    "execution": {
     "iopub.execute_input": "2022-03-05T00:40:07.545817Z",
     "iopub.status.busy": "2022-03-05T00:40:07.545562Z",
     "iopub.status.idle": "2022-03-05T00:40:07.560515Z",
     "shell.execute_reply": "2022-03-05T00:40:07.560944Z"
    },
    "papermill": {
     "duration": 0.082465,
     "end_time": "2022-03-05T00:40:07.561069",
     "exception": false,
     "start_time": "2022-03-05T00:40:07.478604",
     "status": "completed"
    },
    "tags": []
   },
   "outputs": [
    {
     "name": "stdout",
     "output_type": "stream",
     "text": [
      "Source Test Label Accuracy: 0.7899305555555556 Target Test Label Accuracy: 0.65078125\n",
      "Source Val Label Accuracy: 0.7890625 Target Val Label Accuracy: 0.6536458333333334\n"
     ]
    }
   ],
   "source": [
    "print(\"Source Test Label Accuracy:\", experiment[\"results\"][\"source_test_label_accuracy\"], \"Target Test Label Accuracy:\", experiment[\"results\"][\"target_test_label_accuracy\"])\n",
    "print(\"Source Val Label Accuracy:\", experiment[\"results\"][\"source_val_label_accuracy\"], \"Target Val Label Accuracy:\", experiment[\"results\"][\"target_val_label_accuracy\"])"
   ]
  },
  {
   "cell_type": "code",
   "execution_count": 20,
   "id": "dacca602",
   "metadata": {
    "execution": {
     "iopub.execute_input": "2022-03-05T00:40:07.703047Z",
     "iopub.status.busy": "2022-03-05T00:40:07.695431Z",
     "iopub.status.idle": "2022-03-05T00:40:07.709304Z",
     "shell.execute_reply": "2022-03-05T00:40:07.709680Z"
    },
    "papermill": {
     "duration": 0.080994,
     "end_time": "2022-03-05T00:40:07.709799",
     "exception": false,
     "start_time": "2022-03-05T00:40:07.628805",
     "status": "completed"
    },
    "tags": [
     "experiment_json"
    ]
   },
   "outputs": [
    {
     "data": {
      "text/plain": [
       "'{\"experiment_name\": \"nShot_oracle.run2\", \"parameters\": {\"experiment_name\": \"nShot_oracle.run2\", \"device\": \"cuda\", \"lr\": 0.001, \"seed\": 1337, \"dataset_seed\": 1337, \"labels_source\": [\"3123D52\", \"3123D65\", \"3123D79\", \"3123D80\", \"3123D54\", \"3123D70\", \"3123D7B\", \"3123D89\", \"3123D58\", \"3123D76\", \"3123D7D\", \"3123EFE\", \"3123D64\", \"3123D78\", \"3123D7E\", \"3124E4A\"], \"labels_target\": [\"3123D52\", \"3123D65\", \"3123D79\", \"3123D80\", \"3123D54\", \"3123D70\", \"3123D7B\", \"3123D89\", \"3123D58\", \"3123D76\", \"3123D7D\", \"3123EFE\", \"3123D64\", \"3123D78\", \"3123D7E\", \"3124E4A\"], \"x_transforms_source\": [], \"x_transforms_target\": [], \"episode_transforms_source\": [], \"episode_transforms_target\": [], \"num_examples_per_domain_per_label_source\": 1000, \"num_examples_per_domain_per_label_target\": 1000, \"n_way\": 16, \"n_query\": 2, \"train_k_factor\": 1, \"val_k_factor\": 2, \"test_k_factor\": 2, \"torch_default_dtype\": \"torch.float32\", \"n_epoch\": 50, \"patience\": 3, \"criteria_for_best\": \"target_loss\", \"x_net\": [{\"class\": \"nnReshape\", \"kargs\": {\"shape\": [-1, 1, 2, 256]}}, {\"class\": \"Conv2d\", \"kargs\": {\"in_channels\": 1, \"out_channels\": 256, \"kernel_size\": [1, 7], \"bias\": false, \"padding\": [0, 3]}}, {\"class\": \"ReLU\", \"kargs\": {\"inplace\": true}}, {\"class\": \"BatchNorm2d\", \"kargs\": {\"num_features\": 256}}, {\"class\": \"Conv2d\", \"kargs\": {\"in_channels\": 256, \"out_channels\": 80, \"kernel_size\": [2, 7], \"bias\": true, \"padding\": [0, 3]}}, {\"class\": \"ReLU\", \"kargs\": {\"inplace\": true}}, {\"class\": \"BatchNorm2d\", \"kargs\": {\"num_features\": 80}}, {\"class\": \"Flatten\", \"kargs\": {}}, {\"class\": \"Linear\", \"kargs\": {\"in_features\": 20480, \"out_features\": 256}}, {\"class\": \"ReLU\", \"kargs\": {\"inplace\": true}}, {\"class\": \"BatchNorm1d\", \"kargs\": {\"num_features\": 256}}, {\"class\": \"Linear\", \"kargs\": {\"in_features\": 256, \"out_features\": 256}}], \"NUM_LOGS_PER_EPOCH\": 10, \"BEST_MODEL_PATH\": \"./best_model.pth\", \"pickle_name\": \"oracle.Run2_10kExamples_stratified_ds.2022A.pkl\", \"n_shot\": 10, \"domains_source\": [8, 32, 50], \"domains_target\": [14, 20, 26, 38, 44]}, \"results\": {\"source_test_label_accuracy\": 0.7899305555555556, \"source_test_label_loss\": 0.547139585018158, \"target_test_label_accuracy\": 0.65078125, \"target_test_label_loss\": 1.0273300409317017, \"source_val_label_accuracy\": 0.7890625, \"source_val_label_loss\": 0.5731057524681091, \"target_val_label_accuracy\": 0.6536458333333334, \"target_val_label_loss\": 1.1449365615844727, \"total_epochs_trained\": 25, \"total_experiment_time_secs\": 282.8475730419159, \"confusion\": {\"8\": {\"15\": {\"15\": 39, \"12\": 8, \"2\": 1}, \"3\": {\"3\": 48}, \"6\": {\"11\": 1, \"14\": 13, \"8\": 4, \"6\": 30}, \"1\": {\"1\": 27, \"5\": 6, \"4\": 8, \"10\": 4, \"14\": 1, \"7\": 1, \"6\": 1}, \"8\": {\"8\": 26, \"11\": 4, \"6\": 13, \"14\": 1, \"7\": 1, \"4\": 3}, \"10\": {\"10\": 29, \"5\": 11, \"13\": 8}, \"9\": {\"9\": 48}, \"13\": {\"13\": 42, \"10\": 5, \"7\": 1}, \"12\": {\"12\": 46, \"15\": 1, \"2\": 1}, \"5\": {\"1\": 6, \"5\": 20, \"10\": 18, \"13\": 3, \"7\": 1}, \"0\": {\"0\": 48}, \"2\": {\"2\": 46, \"12\": 2}, \"11\": {\"11\": 26, \"4\": 2, \"8\": 13, \"7\": 2, \"6\": 4, \"14\": 1}, \"14\": {\"14\": 34, \"1\": 2, \"6\": 12}, \"7\": {\"4\": 12, \"7\": 29, \"13\": 3, \"1\": 2, \"11\": 1, \"10\": 1}, \"4\": {\"4\": 23, \"10\": 1, \"1\": 10, \"6\": 3, \"7\": 9, \"5\": 1, \"11\": 1}}, \"50\": {\"5\": {\"5\": 33, \"4\": 7, \"6\": 4, \"7\": 3, \"15\": 1}, \"13\": {\"13\": 46, \"8\": 1, \"1\": 1}, \"6\": {\"6\": 38, \"4\": 2, \"5\": 3, \"15\": 5}, \"9\": {\"9\": 44, \"15\": 3, \"12\": 1}, \"11\": {\"11\": 42, \"12\": 5, \"1\": 1}, \"10\": {\"10\": 48}, \"0\": {\"0\": 42, \"10\": 3, \"2\": 3}, \"2\": {\"0\": 6, \"2\": 41, \"14\": 1}, \"7\": {\"7\": 42, \"5\": 1, \"4\": 5}, \"4\": {\"5\": 8, \"4\": 35, \"15\": 1, \"7\": 4}, \"12\": {\"12\": 38, \"11\": 6, \"9\": 4}, \"1\": {\"1\": 45, \"11\": 1, \"13\": 2}, \"14\": {\"14\": 47, \"2\": 1}, \"3\": {\"3\": 48}, \"15\": {\"9\": 4, \"12\": 2, \"15\": 36, \"6\": 4, \"4\": 2}, \"8\": {\"8\": 48}}, \"32\": {\"5\": {\"5\": 41, \"15\": 5, \"14\": 1, \"2\": 1}, \"11\": {\"11\": 18, \"13\": 11, \"3\": 3, \"4\": 14, \"14\": 1, \"8\": 1}, \"10\": {\"10\": 48}, \"14\": {\"14\": 26, \"2\": 14, \"0\": 4, \"5\": 1, \"7\": 3}, \"6\": {\"6\": 48}, \"2\": {\"2\": 27, \"14\": 11, \"7\": 4, \"0\": 6}, \"3\": {\"13\": 6, \"3\": 39, \"4\": 2, \"11\": 1}, \"7\": {\"7\": 21, \"8\": 14, \"0\": 4, \"2\": 5, \"15\": 2, \"14\": 2}, \"4\": {\"4\": 40, \"13\": 1, \"11\": 6, \"0\": 1}, \"9\": {\"9\": 48}, \"8\": {\"7\": 13, \"8\": 31, \"0\": 4}, \"13\": {\"3\": 10, \"13\": 30, \"4\": 2, \"11\": 6}, \"0\": {\"2\": 5, \"7\": 13, \"0\": 25, \"14\": 1, \"8\": 3, \"4\": 1}, \"12\": {\"12\": 48}, \"15\": {\"15\": 46, \"5\": 2}, \"1\": {\"1\": 48}}, \"14\": {\"15\": {\"15\": 48}, \"3\": {\"3\": 45, \"2\": 1, \"14\": 1, \"6\": 1}, \"6\": {\"6\": 30, \"13\": 16, \"3\": 2}, \"1\": {\"1\": 48}, \"8\": {\"8\": 37, \"10\": 9, \"0\": 2}, \"10\": {\"10\": 21, \"3\": 2, \"0\": 8, \"8\": 11, \"5\": 4, \"12\": 1, \"14\": 1}, \"9\": {\"9\": 48}, \"13\": {\"13\": 33, \"6\": 15}, \"12\": {\"4\": 1, \"15\": 7, \"12\": 21, \"3\": 1, \"1\": 4, \"9\": 8, \"8\": 3, \"10\": 1, \"11\": 1, \"0\": 1}, \"5\": {\"5\": 31, \"2\": 6, \"14\": 10, \"4\": 1}, \"0\": {\"0\": 32, \"10\": 4, \"4\": 5, \"8\": 6, \"9\": 1}, \"2\": {\"6\": 2, \"14\": 7, \"2\": 16, \"3\": 7, \"7\": 7, \"5\": 9}, \"11\": {\"11\": 48}, \"14\": {\"14\": 21, \"2\": 8, \"7\": 3, \"5\": 15, \"3\": 1}, \"7\": {\"7\": 39, \"6\": 1, \"14\": 2, \"2\": 5, \"3\": 1}, \"4\": {\"4\": 39, \"0\": 8, \"5\": 1}}, \"26\": {\"5\": {\"5\": 15, \"6\": 14, \"14\": 6, \"1\": 7, \"10\": 5, \"0\": 1}, \"13\": {\"13\": 34, \"12\": 1, \"9\": 6, \"3\": 2, \"7\": 4, \"8\": 1}, \"6\": {\"5\": 17, \"6\": 19, \"14\": 7, \"1\": 5}, \"9\": {\"8\": 7, \"3\": 2, \"9\": 27, \"7\": 2, \"2\": 3, \"13\": 7}, \"11\": {\"11\": 48}, \"10\": {\"10\": 17, \"1\": 2, \"14\": 5, \"0\": 11, \"8\": 5, \"5\": 1, \"9\": 3, \"15\": 3, \"6\": 1}, \"0\": {\"8\": 1, \"15\": 8, \"0\": 13, \"10\": 16, \"14\": 9, \"2\": 1}, \"2\": {\"8\": 9, \"2\": 21, \"15\": 3, \"7\": 5, \"9\": 10}, \"7\": {\"3\": 13, \"2\": 8, \"7\": 17, \"13\": 5, \"8\": 2, \"9\": 3}, \"4\": {\"4\": 48}, \"12\": {\"12\": 48}, \"1\": {\"1\": 38, \"5\": 7, \"6\": 3}, \"14\": {\"0\": 13, \"14\": 15, \"6\": 3, \"15\": 4, \"5\": 6, \"10\": 5, \"1\": 2}, \"3\": {\"3\": 36, \"7\": 10, \"4\": 2}, \"15\": {\"15\": 26, \"8\": 3, \"0\": 11, \"10\": 4, \"2\": 2, \"14\": 1, \"9\": 1}, \"8\": {\"8\": 20, \"15\": 1, \"2\": 6, \"9\": 17, \"0\": 2, \"10\": 1, \"7\": 1}}, \"20\": {\"8\": {\"8\": 23, \"0\": 5, \"11\": 10, \"14\": 9, \"1\": 1}, \"15\": {\"15\": 22, \"9\": 5, \"2\": 6, \"5\": 4, \"13\": 2, \"12\": 2, \"4\": 3, \"3\": 3, \"7\": 1}, \"14\": {\"8\": 13, \"14\": 32, \"5\": 2, \"11\": 1}, \"2\": {\"3\": 8, \"5\": 10, \"2\": 8, \"15\": 7, \"4\": 2, \"7\": 2, \"9\": 8, \"1\": 3}, \"12\": {\"13\": 23, \"12\": 23, \"15\": 1, \"10\": 1}, \"13\": {\"13\": 30, \"12\": 12, \"15\": 5, \"4\": 1}, \"11\": {\"11\": 29, \"0\": 8, \"8\": 10, \"14\": 1}, \"6\": {\"6\": 37, \"7\": 6, \"10\": 5}, \"7\": {\"15\": 1, \"6\": 6, \"7\": 17, \"4\": 10, \"9\": 1, \"10\": 7, \"3\": 5, \"2\": 1}, \"4\": {\"4\": 12, \"3\": 11, \"12\": 3, \"2\": 4, \"7\": 8, \"10\": 2, \"15\": 5, \"9\": 1, \"5\": 2}, \"1\": {\"1\": 35, \"14\": 1, \"9\": 3, \"5\": 6, \"15\": 2, \"2\": 1}, \"3\": {\"4\": 12, \"7\": 12, \"9\": 5, \"5\": 7, \"14\": 1, \"3\": 3, \"15\": 3, \"13\": 1, \"10\": 2, \"2\": 2}, \"10\": {\"10\": 28, \"12\": 5, \"6\": 4, \"4\": 2, \"13\": 1, \"7\": 8}, \"5\": {\"1\": 7, \"5\": 10, \"2\": 4, \"7\": 4, \"4\": 7, \"9\": 5, \"8\": 1, \"3\": 5, \"15\": 3, \"0\": 1, \"12\": 1}, \"0\": {\"14\": 1, \"0\": 37, \"11\": 10}, \"9\": {\"9\": 10, \"15\": 8, \"2\": 8, \"3\": 4, \"4\": 4, \"5\": 6, \"7\": 3, \"1\": 3, \"13\": 2}}, \"44\": {\"9\": {\"7\": 20, \"9\": 25, \"6\": 3}, \"4\": {\"9\": 1, \"4\": 31, \"14\": 16}, \"3\": {\"3\": 43, \"12\": 4, \"1\": 1}, \"2\": {\"2\": 39, \"1\": 9}, \"14\": {\"14\": 42, \"5\": 1, \"4\": 5}, \"5\": {\"5\": 33, \"15\": 6, \"14\": 4, \"8\": 5}, \"10\": {\"7\": 2, \"10\": 44, \"6\": 1, \"9\": 1}, \"1\": {\"1\": 37, \"2\": 10, \"12\": 1}, \"12\": {\"12\": 39, \"3\": 9}, \"0\": {\"0\": 38, \"8\": 10}, \"7\": {\"7\": 29, \"9\": 17, \"6\": 1, \"10\": 1}, \"8\": {\"8\": 42, \"0\": 5, \"5\": 1}, \"15\": {\"15\": 36, \"5\": 8, \"8\": 4}, \"6\": {\"6\": 43, \"7\": 1, \"13\": 2, \"10\": 2}, \"11\": {\"11\": 48}, \"13\": {\"13\": 46, \"6\": 1, \"7\": 1}}, \"38\": {\"5\": {\"12\": 16, \"8\": 13, \"9\": 8, \"5\": 11}, \"11\": {\"11\": 48}, \"10\": {\"3\": 11, \"10\": 23, \"4\": 7, \"13\": 7}, \"14\": {\"14\": 32, \"7\": 2, \"5\": 1, \"2\": 9, \"13\": 3, \"8\": 1}, \"6\": {\"6\": 42, \"15\": 6}, \"2\": {\"2\": 47, \"14\": 1}, \"3\": {\"10\": 11, \"3\": 16, \"13\": 10, \"4\": 8, \"11\": 3}, \"7\": {\"7\": 45, \"0\": 3}, \"4\": {\"4\": 34, \"10\": 11, \"3\": 2, \"13\": 1}, \"9\": {\"9\": 46, \"12\": 1, \"8\": 1}, \"8\": {\"8\": 41, \"5\": 3, \"7\": 1, \"9\": 2, \"14\": 1}, \"13\": {\"10\": 11, \"13\": 25, \"3\": 12}, \"0\": {\"0\": 45, \"7\": 3}, \"12\": {\"5\": 17, \"9\": 7, \"12\": 22, \"8\": 2}, \"15\": {\"15\": 22, \"1\": 17, \"6\": 8, \"5\": 1}, \"1\": {\"1\": 41, \"15\": 7}}}, \"per_domain_accuracy\": {\"8\": {\"accuracy\": 0.73046875, \"source?\": true}, \"50\": {\"accuracy\": 0.8763020833333334, \"source?\": true}, \"32\": {\"accuracy\": 0.7604166666666666, \"source?\": true}, \"14\": {\"accuracy\": 0.7252604166666666, \"source?\": false}, \"26\": {\"accuracy\": 0.5755208333333334, \"source?\": false}, \"20\": {\"accuracy\": 0.4635416666666667, \"source?\": false}, \"44\": {\"accuracy\": 0.80078125, \"source?\": false}, \"38\": {\"accuracy\": 0.703125, \"source?\": false}}}, \"history\": {\"epoch_indices\": [1, 2, 3, 4, 5, 6, 7, 8, 9, 10, 11, 12, 13, 14, 15, 16, 17, 18, 19, 20, 21, 22, 23, 24, 25], \"train_label_loss\": [1.2672207718608024, 1.3049774406285122, 1.2168749416696614, 1.2090401745390618, 1.1917611117335571, 1.1835875422105022, 1.1417655297394456, 0.9072813288918857, 0.744805891109609, 0.6711001214624821, 0.6017528401537874, 0.5837104359063608, 0.5332476933454645, 0.5150774265157765, 0.48430656491853724, 0.46805971920832823, 0.430022225040814, 0.42919819690715305, 0.43868463049674855, 0.40491380075784933, 0.394581182635036, 0.3706068817911477, 0.36893909505900296, 0.35471004637322207, 0.3445257620307906], \"source_val_label_loss\": [2.0429272651672363, 1.2322947978973389, 1.223565697669983, 1.2518274784088135, 1.1909592151641846, 1.1754628419876099, 1.1166350841522217, 0.8510894179344177, 0.7382952570915222, 0.6911647319793701, 0.6518154144287109, 0.6081468462944031, 0.62657630443573, 0.6004836559295654, 0.600533127784729, 0.5789814591407776, 0.5848278999328613, 0.6308441162109375, 0.582539975643158, 0.5685458183288574, 0.5731057524681091, 0.5705112218856812, 0.5279125571250916, 0.5330848693847656, 0.5679121017456055], \"target_val_label_loss\": [2.1080379486083984, 1.7937737703323364, 1.6563234329223633, 1.6921888589859009, 1.6233092546463013, 1.7131069898605347, 1.7991787195205688, 1.6420528888702393, 1.3796370029449463, 1.3963677883148193, 1.3058072328567505, 1.2100785970687866, 1.3158531188964844, 1.3167128562927246, 1.220513939857483, 1.205383539199829, 1.1526179313659668, 1.3364306688308716, 1.3205236196517944, 1.2765257358551025, 1.1449365615844727, 1.2195016145706177, 1.2343989610671997, 1.283064365386963, 1.1992862224578857], \"source_val_acc_label\": [0.3723958333333333, 0.4782986111111111, 0.4917534722222222, 0.4943576388888889, 0.5, 0.5021701388888888, 0.5473090277777778, 0.6861979166666666, 0.7204861111111112, 0.7413194444444444, 0.7482638888888888, 0.7673611111111112, 0.7734375, 0.7829861111111112, 0.7808159722222222, 0.7951388888888888, 0.7864583333333334, 0.7764756944444444, 0.7981770833333334, 0.7916666666666666, 0.7890625, 0.7964409722222222, 0.8098958333333334, 0.8064236111111112, 0.79296875], \"target_val_acc_label\": [0.34869791666666666, 0.40208333333333335, 0.4080729166666667, 0.41744791666666664, 0.4140625, 0.4171875, 0.45286458333333335, 0.5536458333333333, 0.5807291666666666, 0.6020833333333333, 0.6122395833333333, 0.6265625, 0.6296875, 0.6325520833333333, 0.6348958333333333, 0.6427083333333333, 0.6494791666666667, 0.65, 0.6604166666666667, 0.6526041666666667, 0.6536458333333334, 0.6513020833333333, 0.66328125, 0.6677083333333333, 0.671875]}, \"dataset_metrics\": {\"source\": {\"train\": {\"n_unique_x\": 33408, \"n_unique_y\": 16, \"n_batch/episode\": 174}, \"val\": {\"n_unique_x\": 7187, \"n_unique_y\": 16, \"n_batch/episode\": 72}, \"test\": {\"n_unique_x\": 7187, \"n_unique_y\": 16, \"n_batch/episode\": 72}}, \"target\": {\"train\": {\"n_unique_x\": 55680, \"n_unique_y\": 16, \"n_batch/episode\": 290}, \"val\": {\"n_unique_x\": 11980, \"n_unique_y\": 16, \"n_batch/episode\": 120}, \"test\": {\"n_unique_x\": 11980, \"n_unique_y\": 16, \"n_batch/episode\": 120}}}}'"
      ]
     },
     "execution_count": 20,
     "metadata": {},
     "output_type": "execute_result"
    }
   ],
   "source": [
    "json.dumps(experiment)"
   ]
  }
 ],
 "metadata": {
  "celltoolbar": "Tags",
  "kernelspec": {
   "display_name": "Python 3 (ipykernel)",
   "language": "python",
   "name": "python3"
  },
  "language_info": {
   "codemirror_mode": {
    "name": "ipython",
    "version": 3
   },
   "file_extension": ".py",
   "mimetype": "text/x-python",
   "name": "python",
   "nbconvert_exporter": "python",
   "pygments_lexer": "ipython3",
   "version": "3.8.10"
  },
  "papermill": {
   "default_parameters": {},
   "duration": 299.150335,
   "end_time": "2022-03-05T00:40:08.283594",
   "environment_variables": {},
   "exception": null,
   "input_path": "/mnt/wd500GB/CSC500/csc500-main/csc500-notebooks/templates/ptn_template.ipynb",
   "output_path": "trial.ipynb",
   "parameters": {
    "parameters": {
     "BEST_MODEL_PATH": "./best_model.pth",
     "NUM_LOGS_PER_EPOCH": 10,
     "criteria_for_best": "target_loss",
     "dataset_seed": 1337,
     "device": "cuda",
     "domains_source": [
      8,
      32,
      50
     ],
     "domains_target": [
      14,
      20,
      26,
      38,
      44
     ],
     "episode_transforms_source": [],
     "episode_transforms_target": [],
     "experiment_name": "nShot_oracle.run2",
     "labels_source": [
      "3123D52",
      "3123D65",
      "3123D79",
      "3123D80",
      "3123D54",
      "3123D70",
      "3123D7B",
      "3123D89",
      "3123D58",
      "3123D76",
      "3123D7D",
      "3123EFE",
      "3123D64",
      "3123D78",
      "3123D7E",
      "3124E4A"
     ],
     "labels_target": [
      "3123D52",
      "3123D65",
      "3123D79",
      "3123D80",
      "3123D54",
      "3123D70",
      "3123D7B",
      "3123D89",
      "3123D58",
      "3123D76",
      "3123D7D",
      "3123EFE",
      "3123D64",
      "3123D78",
      "3123D7E",
      "3124E4A"
     ],
     "lr": 0.001,
     "n_epoch": 50,
     "n_query": 2,
     "n_shot": 10,
     "n_way": 16,
     "num_examples_per_domain_per_label_source": 1000,
     "num_examples_per_domain_per_label_target": 1000,
     "patience": 3,
     "pickle_name": "oracle.Run2_10kExamples_stratified_ds.2022A.pkl",
     "seed": 1337,
     "test_k_factor": 2,
     "torch_default_dtype": "torch.float32",
     "train_k_factor": 1,
     "val_k_factor": 2,
     "x_net": [
      {
       "class": "nnReshape",
       "kargs": {
        "shape": [
         -1,
         1,
         2,
         256
        ]
       }
      },
      {
       "class": "Conv2d",
       "kargs": {
        "bias": false,
        "in_channels": 1,
        "kernel_size": [
         1,
         7
        ],
        "out_channels": 256,
        "padding": [
         0,
         3
        ]
       }
      },
      {
       "class": "ReLU",
       "kargs": {
        "inplace": true
       }
      },
      {
       "class": "BatchNorm2d",
       "kargs": {
        "num_features": 256
       }
      },
      {
       "class": "Conv2d",
       "kargs": {
        "bias": true,
        "in_channels": 256,
        "kernel_size": [
         2,
         7
        ],
        "out_channels": 80,
        "padding": [
         0,
         3
        ]
       }
      },
      {
       "class": "ReLU",
       "kargs": {
        "inplace": true
       }
      },
      {
       "class": "BatchNorm2d",
       "kargs": {
        "num_features": 80
       }
      },
      {
       "class": "Flatten",
       "kargs": {}
      },
      {
       "class": "Linear",
       "kargs": {
        "in_features": 20480,
        "out_features": 256
       }
      },
      {
       "class": "ReLU",
       "kargs": {
        "inplace": true
       }
      },
      {
       "class": "BatchNorm1d",
       "kargs": {
        "num_features": 256
       }
      },
      {
       "class": "Linear",
       "kargs": {
        "in_features": 256,
        "out_features": 256
       }
      }
     ],
     "x_transforms_source": [],
     "x_transforms_target": []
    }
   },
   "start_time": "2022-03-05T00:35:09.133259",
   "version": "2.3.4"
  }
 },
 "nbformat": 4,
 "nbformat_minor": 5
}