{
 "cells": [
  {
   "cell_type": "markdown",
   "id": "9fea5f46",
   "metadata": {
    "papermill": {
     "duration": 0.01386,
     "end_time": "2022-03-05T00:27:02.380020",
     "exception": false,
     "start_time": "2022-03-05T00:27:02.366160",
     "status": "completed"
    },
    "tags": []
   },
   "source": [
    "# PTN Template\n",
    "This notebook serves as a template for single dataset PTN experiments  \n",
    "It can be run on its own by setting STANDALONE to True (do a find for \"STANDALONE\" to see where)  \n",
    "But it is intended to be executed as part of a *papermill.py script. See any of the   \n",
    "experimentes with a papermill script to get started with that workflow.  "
   ]
  },
  {
   "cell_type": "code",
   "execution_count": 1,
   "id": "0902182a",
   "metadata": {
    "execution": {
     "iopub.execute_input": "2022-03-05T00:27:02.411877Z",
     "iopub.status.busy": "2022-03-05T00:27:02.411398Z",
     "iopub.status.idle": "2022-03-05T00:27:03.156046Z",
     "shell.execute_reply": "2022-03-05T00:27:03.155528Z"
    },
    "papermill": {
     "duration": 0.766977,
     "end_time": "2022-03-05T00:27:03.156147",
     "exception": false,
     "start_time": "2022-03-05T00:27:02.389170",
     "status": "completed"
    },
    "tags": []
   },
   "outputs": [],
   "source": [
    "%load_ext autoreload\n",
    "%autoreload 2\n",
    "%matplotlib inline\n",
    "\n",
    "    \n",
    "import os, json, sys, time, random\n",
    "import numpy as np\n",
    "import torch\n",
    "from torch.optim import Adam\n",
    "from  easydict import EasyDict\n",
    "import matplotlib.pyplot as plt\n",
    "\n",
    "from steves_models.steves_ptn import Steves_Prototypical_Network\n",
    "\n",
    "from steves_utils.lazy_iterable_wrapper import Lazy_Iterable_Wrapper\n",
    "from steves_utils.iterable_aggregator import Iterable_Aggregator\n",
    "from steves_utils.ptn_train_eval_test_jig import  PTN_Train_Eval_Test_Jig\n",
    "from steves_utils.torch_sequential_builder import build_sequential\n",
    "from steves_utils.torch_utils import get_dataset_metrics, ptn_confusion_by_domain_over_dataloader\n",
    "from steves_utils.utils_v2 import (per_domain_accuracy_from_confusion, get_datasets_base_path)\n",
    "from steves_utils.PTN.utils import independent_accuracy_assesment\n",
    "\n",
    "from steves_utils.stratified_dataset.episodic_accessor import Episodic_Accessor_Factory\n",
    "\n",
    "from steves_utils.ptn_do_report import (\n",
    "    get_loss_curve,\n",
    "    get_results_table,\n",
    "    get_parameters_table,\n",
    "    get_domain_accuracies,\n",
    ")\n",
    "\n",
    "from steves_utils.transforms import get_chained_transform"
   ]
  },
  {
   "cell_type": "markdown",
   "id": "41c840b4",
   "metadata": {
    "papermill": {
     "duration": 0.009012,
     "end_time": "2022-03-05T00:27:03.179341",
     "exception": false,
     "start_time": "2022-03-05T00:27:03.170329",
     "status": "completed"
    },
    "tags": []
   },
   "source": [
    "# Required Parameters\n",
    "These are allowed parameters, not defaults\n",
    "Each of these values need to be present in the injected parameters (the notebook will raise an exception if they are not present)\n",
    "\n",
    "Papermill uses the cell tag \"parameters\" to inject the real parameters below this cell.\n",
    "Enable tags to see what I mean"
   ]
  },
  {
   "cell_type": "code",
   "execution_count": 2,
   "id": "fd44eb83",
   "metadata": {
    "execution": {
     "iopub.execute_input": "2022-03-05T00:27:03.201258Z",
     "iopub.status.busy": "2022-03-05T00:27:03.200999Z",
     "iopub.status.idle": "2022-03-05T00:27:03.213078Z",
     "shell.execute_reply": "2022-03-05T00:27:03.213451Z"
    },
    "papermill": {
     "duration": 0.025174,
     "end_time": "2022-03-05T00:27:03.213554",
     "exception": false,
     "start_time": "2022-03-05T00:27:03.188380",
     "status": "completed"
    },
    "tags": []
   },
   "outputs": [],
   "source": [
    "required_parameters = {\n",
    "    \"experiment_name\",\n",
    "    \"lr\",\n",
    "    \"device\",\n",
    "    \"seed\",\n",
    "    \"dataset_seed\",\n",
    "    \"labels_source\",\n",
    "    \"labels_target\",\n",
    "    \"domains_source\",\n",
    "    \"domains_target\",\n",
    "    \"num_examples_per_domain_per_label_source\",\n",
    "    \"num_examples_per_domain_per_label_target\",\n",
    "    \"n_shot\",\n",
    "    \"n_way\",\n",
    "    \"n_query\",\n",
    "    \"train_k_factor\",\n",
    "    \"val_k_factor\",\n",
    "    \"test_k_factor\",\n",
    "    \"n_epoch\",\n",
    "    \"patience\",\n",
    "    \"criteria_for_best\",\n",
    "    \"x_transforms_source\",\n",
    "    \"x_transforms_target\",\n",
    "    \"episode_transforms_source\",\n",
    "    \"episode_transforms_target\",\n",
    "    \"pickle_name\",\n",
    "    \"x_net\",\n",
    "    \"NUM_LOGS_PER_EPOCH\",\n",
    "    \"BEST_MODEL_PATH\",\n",
    "    \"torch_default_dtype\"\n",
    "}"
   ]
  },
  {
   "cell_type": "code",
   "execution_count": 3,
   "id": "fa3f0049",
   "metadata": {
    "execution": {
     "iopub.execute_input": "2022-03-05T00:27:03.243102Z",
     "iopub.status.busy": "2022-03-05T00:27:03.242678Z",
     "iopub.status.idle": "2022-03-05T00:27:03.255231Z",
     "shell.execute_reply": "2022-03-05T00:27:03.255598Z"
    },
    "papermill": {
     "duration": 0.030335,
     "end_time": "2022-03-05T00:27:03.255703",
     "exception": false,
     "start_time": "2022-03-05T00:27:03.225368",
     "status": "completed"
    },
    "tags": [
     "parameters"
    ]
   },
   "outputs": [],
   "source": [
    "\n",
    "\n",
    "standalone_parameters = {}\n",
    "standalone_parameters[\"experiment_name\"] = \"STANDALONE PTN\"\n",
    "standalone_parameters[\"lr\"] = 0.0001\n",
    "standalone_parameters[\"device\"] = \"cuda\"\n",
    "\n",
    "standalone_parameters[\"seed\"] = 1337\n",
    "standalone_parameters[\"dataset_seed\"] = 1337\n",
    "\n",
    "\n",
    "standalone_parameters[\"num_examples_per_domain_per_label_source\"]=100\n",
    "standalone_parameters[\"num_examples_per_domain_per_label_target\"]=100\n",
    "\n",
    "standalone_parameters[\"n_shot\"] = 3\n",
    "standalone_parameters[\"n_query\"]  = 2\n",
    "standalone_parameters[\"train_k_factor\"] = 1\n",
    "standalone_parameters[\"val_k_factor\"] = 2\n",
    "standalone_parameters[\"test_k_factor\"] = 2\n",
    "\n",
    "\n",
    "standalone_parameters[\"n_epoch\"] = 100\n",
    "\n",
    "standalone_parameters[\"patience\"] = 10\n",
    "standalone_parameters[\"criteria_for_best\"] = \"target_accuracy\"\n",
    "\n",
    "standalone_parameters[\"x_transforms_source\"] = [\"unit_power\"]\n",
    "standalone_parameters[\"x_transforms_target\"] = [\"unit_power\"]\n",
    "standalone_parameters[\"episode_transforms_source\"] = []\n",
    "standalone_parameters[\"episode_transforms_target\"] = []\n",
    "\n",
    "standalone_parameters[\"torch_default_dtype\"] = \"torch.float32\" \n",
    "\n",
    "\n",
    "\n",
    "standalone_parameters[\"x_net\"] =     [\n",
    "    {\"class\": \"nnReshape\", \"kargs\": {\"shape\":[-1, 1, 2, 256]}},\n",
    "    {\"class\": \"Conv2d\", \"kargs\": { \"in_channels\":1, \"out_channels\":256, \"kernel_size\":(1,7), \"bias\":False, \"padding\":(0,3), },},\n",
    "    {\"class\": \"ReLU\", \"kargs\": {\"inplace\": True}},\n",
    "    {\"class\": \"BatchNorm2d\", \"kargs\": {\"num_features\":256}},\n",
    "\n",
    "    {\"class\": \"Conv2d\", \"kargs\": { \"in_channels\":256, \"out_channels\":80, \"kernel_size\":(2,7), \"bias\":True, \"padding\":(0,3), },},\n",
    "    {\"class\": \"ReLU\", \"kargs\": {\"inplace\": True}},\n",
    "    {\"class\": \"BatchNorm2d\", \"kargs\": {\"num_features\":80}},\n",
    "    {\"class\": \"Flatten\", \"kargs\": {}},\n",
    "\n",
    "    {\"class\": \"Linear\", \"kargs\": {\"in_features\": 80*256, \"out_features\": 256}}, # 80 units per IQ pair\n",
    "    {\"class\": \"ReLU\", \"kargs\": {\"inplace\": True}},\n",
    "    {\"class\": \"BatchNorm1d\", \"kargs\": {\"num_features\":256}},\n",
    "\n",
    "    {\"class\": \"Linear\", \"kargs\": {\"in_features\": 256, \"out_features\": 256}},\n",
    "]\n",
    "\n",
    "# Parameters relevant to results\n",
    "# These parameters will basically never need to change\n",
    "standalone_parameters[\"NUM_LOGS_PER_EPOCH\"] = 10\n",
    "standalone_parameters[\"BEST_MODEL_PATH\"] = \"./best_model.pth\"\n",
    "\n",
    "# uncomment for CORES dataset\n",
    "from steves_utils.CORES.utils import (\n",
    "    ALL_NODES,\n",
    "    ALL_NODES_MINIMUM_1000_EXAMPLES,\n",
    "    ALL_DAYS\n",
    ")\n",
    "\n",
    "\n",
    "standalone_parameters[\"labels_source\"] = ALL_NODES\n",
    "standalone_parameters[\"labels_target\"] = ALL_NODES\n",
    "\n",
    "standalone_parameters[\"domains_source\"] = [1]\n",
    "standalone_parameters[\"domains_target\"] = [2,3,4,5]\n",
    "\n",
    "standalone_parameters[\"pickle_name\"] = \"cores.stratified_ds.2022A.pkl\"\n",
    "\n",
    "\n",
    "# Uncomment these for ORACLE dataset\n",
    "# from steves_utils.ORACLE.utils_v2 import (\n",
    "#     ALL_DISTANCES_FEET,\n",
    "#     ALL_RUNS,\n",
    "#     ALL_SERIAL_NUMBERS,\n",
    "# )\n",
    "# standalone_parameters[\"labels_source\"] = ALL_SERIAL_NUMBERS\n",
    "# standalone_parameters[\"labels_target\"] = ALL_SERIAL_NUMBERS\n",
    "# standalone_parameters[\"domains_source\"] = [8,20, 38,50]\n",
    "# standalone_parameters[\"domains_target\"] = [14, 26, 32, 44, 56]\n",
    "# standalone_parameters[\"pickle_name\"] = \"oracle.frame_indexed.stratified_ds.2022A.pkl\"\n",
    "# standalone_parameters[\"num_examples_per_domain_per_label_source\"]=1000\n",
    "# standalone_parameters[\"num_examples_per_domain_per_label_target\"]=1000\n",
    "\n",
    "# Uncomment these for Metahan dataset\n",
    "# standalone_parameters[\"labels_source\"] = list(range(19))\n",
    "# standalone_parameters[\"labels_target\"] = list(range(19))\n",
    "# standalone_parameters[\"domains_source\"] = [0]\n",
    "# standalone_parameters[\"domains_target\"] = [1]\n",
    "# standalone_parameters[\"pickle_name\"] = \"metehan.stratified_ds.2022A.pkl\"\n",
    "# standalone_parameters[\"n_way\"]  = len(standalone_parameters[\"labels_source\"])\n",
    "# standalone_parameters[\"num_examples_per_domain_per_label_source\"]=200\n",
    "# standalone_parameters[\"num_examples_per_domain_per_label_target\"]=100\n",
    "\n",
    "\n",
    "standalone_parameters[\"n_way\"]  = len(standalone_parameters[\"labels_source\"])"
   ]
  },
  {
   "cell_type": "code",
   "execution_count": 4,
   "id": "8569ceae",
   "metadata": {
    "execution": {
     "iopub.execute_input": "2022-03-05T00:27:03.286605Z",
     "iopub.status.busy": "2022-03-05T00:27:03.286324Z",
     "iopub.status.idle": "2022-03-05T00:27:03.298857Z",
     "shell.execute_reply": "2022-03-05T00:27:03.298456Z"
    },
    "papermill": {
     "duration": 0.029244,
     "end_time": "2022-03-05T00:27:03.298946",
     "exception": false,
     "start_time": "2022-03-05T00:27:03.269702",
     "status": "completed"
    },
    "tags": [
     "injected-parameters"
    ]
   },
   "outputs": [],
   "source": [
    "# Parameters\n",
    "parameters = {\n",
    "    \"experiment_name\": \"nShot_oracle.run2\",\n",
    "    \"device\": \"cuda\",\n",
    "    \"lr\": 0.001,\n",
    "    \"seed\": 1337,\n",
    "    \"dataset_seed\": 1337,\n",
    "    \"labels_source\": [\n",
    "        \"3123D52\",\n",
    "        \"3123D65\",\n",
    "        \"3123D79\",\n",
    "        \"3123D80\",\n",
    "        \"3123D54\",\n",
    "        \"3123D70\",\n",
    "        \"3123D7B\",\n",
    "        \"3123D89\",\n",
    "        \"3123D58\",\n",
    "        \"3123D76\",\n",
    "        \"3123D7D\",\n",
    "        \"3123EFE\",\n",
    "        \"3123D64\",\n",
    "        \"3123D78\",\n",
    "        \"3123D7E\",\n",
    "        \"3124E4A\",\n",
    "    ],\n",
    "    \"labels_target\": [\n",
    "        \"3123D52\",\n",
    "        \"3123D65\",\n",
    "        \"3123D79\",\n",
    "        \"3123D80\",\n",
    "        \"3123D54\",\n",
    "        \"3123D70\",\n",
    "        \"3123D7B\",\n",
    "        \"3123D89\",\n",
    "        \"3123D58\",\n",
    "        \"3123D76\",\n",
    "        \"3123D7D\",\n",
    "        \"3123EFE\",\n",
    "        \"3123D64\",\n",
    "        \"3123D78\",\n",
    "        \"3123D7E\",\n",
    "        \"3124E4A\",\n",
    "    ],\n",
    "    \"x_transforms_source\": [],\n",
    "    \"x_transforms_target\": [],\n",
    "    \"episode_transforms_source\": [],\n",
    "    \"episode_transforms_target\": [],\n",
    "    \"num_examples_per_domain_per_label_source\": 1000,\n",
    "    \"num_examples_per_domain_per_label_target\": 1000,\n",
    "    \"n_way\": 16,\n",
    "    \"n_query\": 2,\n",
    "    \"train_k_factor\": 1,\n",
    "    \"val_k_factor\": 2,\n",
    "    \"test_k_factor\": 2,\n",
    "    \"torch_default_dtype\": \"torch.float32\",\n",
    "    \"n_epoch\": 50,\n",
    "    \"patience\": 3,\n",
    "    \"criteria_for_best\": \"target_loss\",\n",
    "    \"x_net\": [\n",
    "        {\"class\": \"nnReshape\", \"kargs\": {\"shape\": [-1, 1, 2, 256]}},\n",
    "        {\n",
    "            \"class\": \"Conv2d\",\n",
    "            \"kargs\": {\n",
    "                \"in_channels\": 1,\n",
    "                \"out_channels\": 256,\n",
    "                \"kernel_size\": [1, 7],\n",
    "                \"bias\": False,\n",
    "                \"padding\": [0, 3],\n",
    "            },\n",
    "        },\n",
    "        {\"class\": \"ReLU\", \"kargs\": {\"inplace\": True}},\n",
    "        {\"class\": \"BatchNorm2d\", \"kargs\": {\"num_features\": 256}},\n",
    "        {\n",
    "            \"class\": \"Conv2d\",\n",
    "            \"kargs\": {\n",
    "                \"in_channels\": 256,\n",
    "                \"out_channels\": 80,\n",
    "                \"kernel_size\": [2, 7],\n",
    "                \"bias\": True,\n",
    "                \"padding\": [0, 3],\n",
    "            },\n",
    "        },\n",
    "        {\"class\": \"ReLU\", \"kargs\": {\"inplace\": True}},\n",
    "        {\"class\": \"BatchNorm2d\", \"kargs\": {\"num_features\": 80}},\n",
    "        {\"class\": \"Flatten\", \"kargs\": {}},\n",
    "        {\"class\": \"Linear\", \"kargs\": {\"in_features\": 20480, \"out_features\": 256}},\n",
    "        {\"class\": \"ReLU\", \"kargs\": {\"inplace\": True}},\n",
    "        {\"class\": \"BatchNorm1d\", \"kargs\": {\"num_features\": 256}},\n",
    "        {\"class\": \"Linear\", \"kargs\": {\"in_features\": 256, \"out_features\": 256}},\n",
    "    ],\n",
    "    \"NUM_LOGS_PER_EPOCH\": 10,\n",
    "    \"BEST_MODEL_PATH\": \"./best_model.pth\",\n",
    "    \"pickle_name\": \"oracle.Run2_10kExamples_stratified_ds.2022A.pkl\",\n",
    "    \"n_shot\": 4,\n",
    "    \"domains_source\": [8, 32, 50],\n",
    "    \"domains_target\": [14, 20, 26, 38, 44],\n",
    "}\n"
   ]
  },
  {
   "cell_type": "code",
   "execution_count": 5,
   "id": "8fa1cc33",
   "metadata": {
    "execution": {
     "iopub.execute_input": "2022-03-05T00:27:03.325272Z",
     "iopub.status.busy": "2022-03-05T00:27:03.324993Z",
     "iopub.status.idle": "2022-03-05T00:27:03.337068Z",
     "shell.execute_reply": "2022-03-05T00:27:03.336726Z"
    },
    "papermill": {
     "duration": 0.025012,
     "end_time": "2022-03-05T00:27:03.337138",
     "exception": false,
     "start_time": "2022-03-05T00:27:03.312126",
     "status": "completed"
    },
    "tags": []
   },
   "outputs": [],
   "source": [
    "# Set this to True if you want to run this template directly\n",
    "STANDALONE = False\n",
    "if STANDALONE:\n",
    "    print(\"parameters not injected, running with standalone_parameters\")\n",
    "    parameters = standalone_parameters\n",
    "\n",
    "if not 'parameters' in locals() and not 'parameters' in globals():\n",
    "    raise Exception(\"Parameter injection failed\")\n",
    "\n",
    "#Use an easy dict for all the parameters\n",
    "p = EasyDict(parameters)\n",
    "\n",
    "supplied_keys = set(p.keys())\n",
    "\n",
    "if  supplied_keys != required_parameters:\n",
    "    print(\"Parameters are incorrect\")\n",
    "    if len(supplied_keys - required_parameters)>0: print(\"Shouldn't have:\", str(supplied_keys - required_parameters))\n",
    "    if len(required_parameters - supplied_keys)>0: print(\"Need to have:\", str(required_parameters - supplied_keys))\n",
    "    raise RuntimeError(\"Parameters are incorrect\")\n",
    "\n"
   ]
  },
  {
   "cell_type": "code",
   "execution_count": 6,
   "id": "3a028d58",
   "metadata": {
    "execution": {
     "iopub.execute_input": "2022-03-05T00:27:03.362659Z",
     "iopub.status.busy": "2022-03-05T00:27:03.362414Z",
     "iopub.status.idle": "2022-03-05T00:27:03.376019Z",
     "shell.execute_reply": "2022-03-05T00:27:03.375679Z"
    },
    "papermill": {
     "duration": 0.025087,
     "end_time": "2022-03-05T00:27:03.376088",
     "exception": false,
     "start_time": "2022-03-05T00:27:03.351001",
     "status": "completed"
    },
    "tags": []
   },
   "outputs": [],
   "source": [
    "###################################\n",
    "# Set the RNGs and make it all deterministic\n",
    "###################################\n",
    "np.random.seed(p.seed)\n",
    "random.seed(p.seed)\n",
    "torch.manual_seed(p.seed)\n",
    "\n",
    "torch.use_deterministic_algorithms(True) "
   ]
  },
  {
   "cell_type": "code",
   "execution_count": 7,
   "id": "b691acf6",
   "metadata": {
    "execution": {
     "iopub.execute_input": "2022-03-05T00:27:03.402391Z",
     "iopub.status.busy": "2022-03-05T00:27:03.402069Z",
     "iopub.status.idle": "2022-03-05T00:27:03.415135Z",
     "shell.execute_reply": "2022-03-05T00:27:03.414815Z"
    },
    "papermill": {
     "duration": 0.024577,
     "end_time": "2022-03-05T00:27:03.415204",
     "exception": false,
     "start_time": "2022-03-05T00:27:03.390627",
     "status": "completed"
    },
    "tags": []
   },
   "outputs": [],
   "source": [
    "###########################################\n",
    "# The stratified datasets honor this\n",
    "###########################################\n",
    "torch.set_default_dtype(eval(p.torch_default_dtype))"
   ]
  },
  {
   "cell_type": "code",
   "execution_count": 8,
   "id": "b5fba671",
   "metadata": {
    "execution": {
     "iopub.execute_input": "2022-03-05T00:27:03.441250Z",
     "iopub.status.busy": "2022-03-05T00:27:03.441004Z",
     "iopub.status.idle": "2022-03-05T00:27:03.480534Z",
     "shell.execute_reply": "2022-03-05T00:27:03.480825Z"
    },
    "papermill": {
     "duration": 0.052028,
     "end_time": "2022-03-05T00:27:03.480938",
     "exception": false,
     "start_time": "2022-03-05T00:27:03.428910",
     "status": "completed"
    },
    "tags": []
   },
   "outputs": [],
   "source": [
    "###################################\n",
    "# Build the network(s)\n",
    "# Note: It's critical to do this AFTER setting the RNG\n",
    "# (This is due to the randomized initial weights)\n",
    "###################################\n",
    "x_net = build_sequential(p.x_net)"
   ]
  },
  {
   "cell_type": "code",
   "execution_count": 9,
   "id": "5d7e61cc",
   "metadata": {
    "execution": {
     "iopub.execute_input": "2022-03-05T00:27:03.509051Z",
     "iopub.status.busy": "2022-03-05T00:27:03.508799Z",
     "iopub.status.idle": "2022-03-05T00:27:03.518482Z",
     "shell.execute_reply": "2022-03-05T00:27:03.518230Z"
    },
    "papermill": {
     "duration": 0.021633,
     "end_time": "2022-03-05T00:27:03.518535",
     "exception": false,
     "start_time": "2022-03-05T00:27:03.496902",
     "status": "completed"
    },
    "tags": []
   },
   "outputs": [],
   "source": [
    "start_time_secs = time.time()"
   ]
  },
  {
   "cell_type": "code",
   "execution_count": 10,
   "id": "fd5442bc",
   "metadata": {
    "execution": {
     "iopub.execute_input": "2022-03-05T00:27:03.552503Z",
     "iopub.status.busy": "2022-03-05T00:27:03.552021Z",
     "iopub.status.idle": "2022-03-05T00:27:06.853889Z",
     "shell.execute_reply": "2022-03-05T00:27:06.853464Z"
    },
    "papermill": {
     "duration": 3.320133,
     "end_time": "2022-03-05T00:27:06.853989",
     "exception": false,
     "start_time": "2022-03-05T00:27:03.533856",
     "status": "completed"
    },
    "tags": []
   },
   "outputs": [],
   "source": [
    "###################################\n",
    "# Build the dataset\n",
    "###################################\n",
    "\n",
    "if p.x_transforms_source == []: x_transform_source = None\n",
    "else: x_transform_source = get_chained_transform(p.x_transforms_source) \n",
    "\n",
    "if p.x_transforms_target == []: x_transform_target = None\n",
    "else: x_transform_target = get_chained_transform(p.x_transforms_target)\n",
    "\n",
    "if p.episode_transforms_source == []: episode_transform_source = None\n",
    "else: raise Exception(\"episode_transform_source not implemented\")\n",
    "\n",
    "if p.episode_transforms_target == []: episode_transform_target = None\n",
    "else: raise Exception(\"episode_transform_target not implemented\")\n",
    "\n",
    "\n",
    "eaf_source = Episodic_Accessor_Factory(\n",
    "    labels=p.labels_source,\n",
    "    domains=p.domains_source,\n",
    "    num_examples_per_domain_per_label=p.num_examples_per_domain_per_label_source,\n",
    "    iterator_seed=p.seed,\n",
    "    dataset_seed=p.dataset_seed,\n",
    "    n_shot=p.n_shot,\n",
    "    n_way=p.n_way,\n",
    "    n_query=p.n_query,\n",
    "    train_val_test_k_factors=(p.train_k_factor,p.val_k_factor,p.test_k_factor),\n",
    "    pickle_path=os.path.join(get_datasets_base_path(), p.pickle_name),\n",
    "    x_transform_func=x_transform_source,\n",
    "    example_transform_func=episode_transform_source,\n",
    "    \n",
    ")\n",
    "train_original_source, val_original_source, test_original_source = eaf_source.get_train(), eaf_source.get_val(), eaf_source.get_test()\n",
    "\n",
    "\n",
    "eaf_target = Episodic_Accessor_Factory(\n",
    "    labels=p.labels_target,\n",
    "    domains=p.domains_target,\n",
    "    num_examples_per_domain_per_label=p.num_examples_per_domain_per_label_target,\n",
    "    iterator_seed=p.seed,\n",
    "    dataset_seed=p.dataset_seed,\n",
    "    n_shot=p.n_shot,\n",
    "    n_way=p.n_way,\n",
    "    n_query=p.n_query,\n",
    "    train_val_test_k_factors=(p.train_k_factor,p.val_k_factor,p.test_k_factor),\n",
    "    pickle_path=os.path.join(get_datasets_base_path(), p.pickle_name),\n",
    "    x_transform_func=x_transform_target,\n",
    "    example_transform_func=episode_transform_target,\n",
    ")\n",
    "train_original_target, val_original_target, test_original_target = eaf_target.get_train(), eaf_target.get_val(), eaf_target.get_test()\n",
    "\n",
    "\n",
    "transform_lambda = lambda ex: ex[1] # Original is (<domain>, <episode>) so we strip down to episode only\n",
    "\n",
    "train_processed_source = Lazy_Iterable_Wrapper(train_original_source, transform_lambda)\n",
    "val_processed_source   = Lazy_Iterable_Wrapper(val_original_source, transform_lambda)\n",
    "test_processed_source  = Lazy_Iterable_Wrapper(test_original_source, transform_lambda)\n",
    "\n",
    "train_processed_target = Lazy_Iterable_Wrapper(train_original_target, transform_lambda)\n",
    "val_processed_target   = Lazy_Iterable_Wrapper(val_original_target, transform_lambda)\n",
    "test_processed_target  = Lazy_Iterable_Wrapper(test_original_target, transform_lambda)\n",
    "\n",
    "datasets = EasyDict({\n",
    "    \"source\": {\n",
    "        \"original\": {\"train\":train_original_source, \"val\":val_original_source, \"test\":test_original_source},\n",
    "        \"processed\": {\"train\":train_processed_source, \"val\":val_processed_source, \"test\":test_processed_source}\n",
    "    },\n",
    "    \"target\": {\n",
    "        \"original\": {\"train\":train_original_target, \"val\":val_original_target, \"test\":test_original_target},\n",
    "        \"processed\": {\"train\":train_processed_target, \"val\":val_processed_target, \"test\":test_processed_target}\n",
    "    },\n",
    "})"
   ]
  },
  {
   "cell_type": "code",
   "execution_count": 11,
   "id": "296189d9",
   "metadata": {
    "execution": {
     "iopub.execute_input": "2022-03-05T00:27:06.883857Z",
     "iopub.status.busy": "2022-03-05T00:27:06.883600Z",
     "iopub.status.idle": "2022-03-05T00:27:08.456572Z",
     "shell.execute_reply": "2022-03-05T00:27:08.456939Z"
    },
    "papermill": {
     "duration": 1.587156,
     "end_time": "2022-03-05T00:27:08.457044",
     "exception": false,
     "start_time": "2022-03-05T00:27:06.869888",
     "status": "completed"
    },
    "tags": []
   },
   "outputs": [
    {
     "name": "stdout",
     "output_type": "stream",
     "text": [
      "Visually inspect these to see if they line up with expected values given the transforms\n",
      "x_transforms_source []\n",
      "x_transforms_target []\n",
      "Average magnitude, source: 0.004484568\n",
      "Average power, source: 2.6432685e-05\n"
     ]
    },
    {
     "name": "stdout",
     "output_type": "stream",
     "text": [
      "Average magnitude, target: 0.002903775\n",
      "Average power, target: 1.06573525e-05\n"
     ]
    }
   ],
   "source": [
    "# Some quick unit tests on the data\n",
    "from steves_utils.transforms import get_average_power, get_average_magnitude\n",
    "\n",
    "q_x, q_y, s_x, s_y, truth = next(iter(train_processed_source))\n",
    "\n",
    "assert q_x.dtype == eval(p.torch_default_dtype)\n",
    "assert s_x.dtype == eval(p.torch_default_dtype)\n",
    "\n",
    "print(\"Visually inspect these to see if they line up with expected values given the transforms\")\n",
    "print('x_transforms_source', p.x_transforms_source)\n",
    "print('x_transforms_target', p.x_transforms_target)\n",
    "print(\"Average magnitude, source:\", get_average_magnitude(q_x[0].numpy()))\n",
    "print(\"Average power, source:\", get_average_power(q_x[0].numpy()))\n",
    "\n",
    "q_x, q_y, s_x, s_y, truth = next(iter(train_processed_target))\n",
    "print(\"Average magnitude, target:\", get_average_magnitude(q_x[0].numpy()))\n",
    "print(\"Average power, target:\", get_average_power(q_x[0].numpy()))\n"
   ]
  },
  {
   "cell_type": "code",
   "execution_count": 12,
   "id": "bbdacba1",
   "metadata": {
    "execution": {
     "iopub.execute_input": "2022-03-05T00:27:08.487817Z",
     "iopub.status.busy": "2022-03-05T00:27:08.487562Z",
     "iopub.status.idle": "2022-03-05T00:27:08.546894Z",
     "shell.execute_reply": "2022-03-05T00:27:08.546489Z"
    },
    "papermill": {
     "duration": 0.073135,
     "end_time": "2022-03-05T00:27:08.546988",
     "exception": false,
     "start_time": "2022-03-05T00:27:08.473853",
     "status": "completed"
    },
    "tags": []
   },
   "outputs": [
    {
     "name": "stdout",
     "output_type": "stream",
     "text": [
      "(2, 256)\n"
     ]
    }
   ],
   "source": [
    "###################################\n",
    "# Build the model\n",
    "###################################\n",
    "model = Steves_Prototypical_Network(x_net, device=p.device, x_shape=(2,256))\n",
    "optimizer = Adam(params=model.parameters(), lr=p.lr)"
   ]
  },
  {
   "cell_type": "code",
   "execution_count": 13,
   "id": "22b39ac5",
   "metadata": {
    "execution": {
     "iopub.execute_input": "2022-03-05T00:27:08.573761Z",
     "iopub.status.busy": "2022-03-05T00:27:08.573505Z",
     "iopub.status.idle": "2022-03-05T00:31:30.882857Z",
     "shell.execute_reply": "2022-03-05T00:31:30.882334Z"
    },
    "papermill": {
     "duration": 262.321814,
     "end_time": "2022-03-05T00:31:30.882961",
     "exception": false,
     "start_time": "2022-03-05T00:27:08.561147",
     "status": "completed"
    },
    "tags": []
   },
   "outputs": [
    {
     "name": "stdout",
     "output_type": "stream",
     "text": [
      "epoch: 1, [batch: 1 / 348], examples_per_second: 652.9534, train_label_loss: 2.2371, \n"
     ]
    },
    {
     "name": "stdout",
     "output_type": "stream",
     "text": [
      "epoch: 1, [batch: 35 / 348], examples_per_second: 3418.0573, train_label_loss: 1.2198, \n"
     ]
    },
    {
     "name": "stdout",
     "output_type": "stream",
     "text": [
      "epoch: 1, [batch: 70 / 348], examples_per_second: 3440.0084, train_label_loss: 1.1001, \n"
     ]
    },
    {
     "name": "stdout",
     "output_type": "stream",
     "text": [
      "epoch: 1, [batch: 105 / 348], examples_per_second: 3479.3306, train_label_loss: 1.1294, \n"
     ]
    },
    {
     "name": "stdout",
     "output_type": "stream",
     "text": [
      "epoch: 1, [batch: 139 / 348], examples_per_second: 3480.2565, train_label_loss: 1.0967, \n"
     ]
    },
    {
     "name": "stdout",
     "output_type": "stream",
     "text": [
      "epoch: 1, [batch: 174 / 348], examples_per_second: 3428.1594, train_label_loss: 1.2395, \n"
     ]
    },
    {
     "name": "stdout",
     "output_type": "stream",
     "text": [
      "epoch: 1, [batch: 209 / 348], examples_per_second: 3481.0933, train_label_loss: 1.2359, \n"
     ]
    },
    {
     "name": "stdout",
     "output_type": "stream",
     "text": [
      "epoch: 1, [batch: 243 / 348], examples_per_second: 3469.2816, train_label_loss: 0.9953, \n"
     ]
    },
    {
     "name": "stdout",
     "output_type": "stream",
     "text": [
      "epoch: 1, [batch: 278 / 348], examples_per_second: 3431.8777, train_label_loss: 1.0852, \n"
     ]
    },
    {
     "name": "stdout",
     "output_type": "stream",
     "text": [
      "epoch: 1, [batch: 313 / 348], examples_per_second: 3395.7409, train_label_loss: 1.2755, \n"
     ]
    },
    {
     "name": "stdout",
     "output_type": "stream",
     "text": [
      "=============================================================\n",
      "epoch: 1, source_val_acc_label: 0.4646, target_val_acc_label: 0.3880, source_val_label_loss: 1.6904, target_val_label_loss: 1.8317, \n",
      "=============================================================\n"
     ]
    },
    {
     "name": "stdout",
     "output_type": "stream",
     "text": [
      "New best\n"
     ]
    },
    {
     "name": "stdout",
     "output_type": "stream",
     "text": [
      "epoch: 2, [batch: 1 / 348], examples_per_second: 43.1501, train_label_loss: 1.8937, \n"
     ]
    },
    {
     "name": "stdout",
     "output_type": "stream",
     "text": [
      "epoch: 2, [batch: 35 / 348], examples_per_second: 3478.1185, train_label_loss: 1.1021, \n"
     ]
    },
    {
     "name": "stdout",
     "output_type": "stream",
     "text": [
      "epoch: 2, [batch: 70 / 348], examples_per_second: 3495.3782, train_label_loss: 1.3005, \n"
     ]
    },
    {
     "name": "stdout",
     "output_type": "stream",
     "text": [
      "epoch: 2, [batch: 105 / 348], examples_per_second: 3515.5365, train_label_loss: 1.3377, \n"
     ]
    },
    {
     "name": "stdout",
     "output_type": "stream",
     "text": [
      "epoch: 2, [batch: 139 / 348], examples_per_second: 3491.5281, train_label_loss: 1.2683, \n"
     ]
    },
    {
     "name": "stdout",
     "output_type": "stream",
     "text": [
      "epoch: 2, [batch: 174 / 348], examples_per_second: 3489.8385, train_label_loss: 1.3983, \n"
     ]
    },
    {
     "name": "stdout",
     "output_type": "stream",
     "text": [
      "epoch: 2, [batch: 209 / 348], examples_per_second: 3483.9693, train_label_loss: 1.3223, \n"
     ]
    },
    {
     "name": "stdout",
     "output_type": "stream",
     "text": [
      "epoch: 2, [batch: 243 / 348], examples_per_second: 3479.1898, train_label_loss: 1.0587, \n"
     ]
    },
    {
     "name": "stdout",
     "output_type": "stream",
     "text": [
      "epoch: 2, [batch: 278 / 348], examples_per_second: 3514.6843, train_label_loss: 1.3410, \n"
     ]
    },
    {
     "name": "stdout",
     "output_type": "stream",
     "text": [
      "epoch: 2, [batch: 313 / 348], examples_per_second: 3490.6554, train_label_loss: 1.2099, \n"
     ]
    },
    {
     "name": "stdout",
     "output_type": "stream",
     "text": [
      "=============================================================\n",
      "epoch: 2, source_val_acc_label: 0.4838, target_val_acc_label: 0.3982, source_val_label_loss: 1.2360, target_val_label_loss: 1.6826, \n",
      "=============================================================\n"
     ]
    },
    {
     "name": "stdout",
     "output_type": "stream",
     "text": [
      "New best\n"
     ]
    },
    {
     "name": "stdout",
     "output_type": "stream",
     "text": [
      "epoch: 3, [batch: 1 / 348], examples_per_second: 43.4127, train_label_loss: 1.2999, \n"
     ]
    },
    {
     "name": "stdout",
     "output_type": "stream",
     "text": [
      "epoch: 3, [batch: 35 / 348], examples_per_second: 3502.4302, train_label_loss: 1.0557, \n"
     ]
    },
    {
     "name": "stdout",
     "output_type": "stream",
     "text": [
      "epoch: 3, [batch: 70 / 348], examples_per_second: 3491.5444, train_label_loss: 1.3673, \n"
     ]
    },
    {
     "name": "stdout",
     "output_type": "stream",
     "text": [
      "epoch: 3, [batch: 105 / 348], examples_per_second: 3498.8676, train_label_loss: 1.2227, \n"
     ]
    },
    {
     "name": "stdout",
     "output_type": "stream",
     "text": [
      "epoch: 3, [batch: 139 / 348], examples_per_second: 3493.1736, train_label_loss: 1.3540, \n"
     ]
    },
    {
     "name": "stdout",
     "output_type": "stream",
     "text": [
      "epoch: 3, [batch: 174 / 348], examples_per_second: 3475.9263, train_label_loss: 1.3287, \n"
     ]
    },
    {
     "name": "stdout",
     "output_type": "stream",
     "text": [
      "epoch: 3, [batch: 209 / 348], examples_per_second: 3483.0067, train_label_loss: 1.4001, \n"
     ]
    },
    {
     "name": "stdout",
     "output_type": "stream",
     "text": [
      "epoch: 3, [batch: 243 / 348], examples_per_second: 3502.6964, train_label_loss: 1.2196, \n"
     ]
    },
    {
     "name": "stdout",
     "output_type": "stream",
     "text": [
      "epoch: 3, [batch: 278 / 348], examples_per_second: 3492.5663, train_label_loss: 1.2076, \n"
     ]
    },
    {
     "name": "stdout",
     "output_type": "stream",
     "text": [
      "epoch: 3, [batch: 313 / 348], examples_per_second: 3499.0657, train_label_loss: 1.1118, \n"
     ]
    },
    {
     "name": "stdout",
     "output_type": "stream",
     "text": [
      "=============================================================\n",
      "epoch: 3, source_val_acc_label: 0.4913, target_val_acc_label: 0.4121, source_val_label_loss: 1.2530, target_val_label_loss: 1.9134, \n",
      "=============================================================\n"
     ]
    },
    {
     "name": "stdout",
     "output_type": "stream",
     "text": [
      "epoch: 4, [batch: 1 / 348], examples_per_second: 41.2723, train_label_loss: 1.0523, \n"
     ]
    },
    {
     "name": "stdout",
     "output_type": "stream",
     "text": [
      "epoch: 4, [batch: 35 / 348], examples_per_second: 3283.3999, train_label_loss: 1.0199, \n"
     ]
    },
    {
     "name": "stdout",
     "output_type": "stream",
     "text": [
      "epoch: 4, [batch: 70 / 348], examples_per_second: 3259.5903, train_label_loss: 1.1810, \n"
     ]
    },
    {
     "name": "stdout",
     "output_type": "stream",
     "text": [
      "epoch: 4, [batch: 105 / 348], examples_per_second: 3282.6833, train_label_loss: 1.2632, \n"
     ]
    },
    {
     "name": "stdout",
     "output_type": "stream",
     "text": [
      "epoch: 4, [batch: 139 / 348], examples_per_second: 3313.3531, train_label_loss: 1.0581, \n"
     ]
    },
    {
     "name": "stdout",
     "output_type": "stream",
     "text": [
      "epoch: 4, [batch: 174 / 348], examples_per_second: 3331.5118, train_label_loss: 1.0171, \n"
     ]
    },
    {
     "name": "stdout",
     "output_type": "stream",
     "text": [
      "epoch: 4, [batch: 209 / 348], examples_per_second: 3202.2790, train_label_loss: 1.1989, \n"
     ]
    },
    {
     "name": "stdout",
     "output_type": "stream",
     "text": [
      "epoch: 4, [batch: 243 / 348], examples_per_second: 3320.5900, train_label_loss: 1.4837, \n"
     ]
    },
    {
     "name": "stdout",
     "output_type": "stream",
     "text": [
      "epoch: 4, [batch: 278 / 348], examples_per_second: 3215.2587, train_label_loss: 1.0095, \n"
     ]
    },
    {
     "name": "stdout",
     "output_type": "stream",
     "text": [
      "epoch: 4, [batch: 313 / 348], examples_per_second: 3293.5349, train_label_loss: 1.2240, \n"
     ]
    },
    {
     "name": "stdout",
     "output_type": "stream",
     "text": [
      "=============================================================\n",
      "epoch: 4, source_val_acc_label: 0.4944, target_val_acc_label: 0.4106, source_val_label_loss: 1.2299, target_val_label_loss: 1.9563, \n",
      "=============================================================\n"
     ]
    },
    {
     "name": "stdout",
     "output_type": "stream",
     "text": [
      "epoch: 5, [batch: 1 / 348], examples_per_second: 41.2105, train_label_loss: 1.3958, \n"
     ]
    },
    {
     "name": "stdout",
     "output_type": "stream",
     "text": [
      "epoch: 5, [batch: 35 / 348], examples_per_second: 3316.3726, train_label_loss: 1.2806, \n"
     ]
    },
    {
     "name": "stdout",
     "output_type": "stream",
     "text": [
      "epoch: 5, [batch: 70 / 348], examples_per_second: 3369.4593, train_label_loss: 1.4835, \n"
     ]
    },
    {
     "name": "stdout",
     "output_type": "stream",
     "text": [
      "epoch: 5, [batch: 105 / 348], examples_per_second: 3498.5306, train_label_loss: 1.4119, \n"
     ]
    },
    {
     "name": "stdout",
     "output_type": "stream",
     "text": [
      "epoch: 5, [batch: 139 / 348], examples_per_second: 3456.5847, train_label_loss: 0.9924, \n"
     ]
    },
    {
     "name": "stdout",
     "output_type": "stream",
     "text": [
      "epoch: 5, [batch: 174 / 348], examples_per_second: 3435.2464, train_label_loss: 1.1391, \n"
     ]
    },
    {
     "name": "stdout",
     "output_type": "stream",
     "text": [
      "epoch: 5, [batch: 209 / 348], examples_per_second: 3470.4993, train_label_loss: 1.0309, \n"
     ]
    },
    {
     "name": "stdout",
     "output_type": "stream",
     "text": [
      "epoch: 5, [batch: 243 / 348], examples_per_second: 3458.5888, train_label_loss: 1.1654, \n"
     ]
    },
    {
     "name": "stdout",
     "output_type": "stream",
     "text": [
      "epoch: 5, [batch: 278 / 348], examples_per_second: 3461.7035, train_label_loss: 1.0712, \n"
     ]
    },
    {
     "name": "stdout",
     "output_type": "stream",
     "text": [
      "epoch: 5, [batch: 313 / 348], examples_per_second: 3351.1131, train_label_loss: 1.0987, \n"
     ]
    },
    {
     "name": "stdout",
     "output_type": "stream",
     "text": [
      "=============================================================\n",
      "epoch: 5, source_val_acc_label: 0.5158, target_val_acc_label: 0.4199, source_val_label_loss: 1.1714, target_val_label_loss: 1.6811, \n",
      "=============================================================\n"
     ]
    },
    {
     "name": "stdout",
     "output_type": "stream",
     "text": [
      "New best\n"
     ]
    },
    {
     "name": "stdout",
     "output_type": "stream",
     "text": [
      "epoch: 6, [batch: 1 / 348], examples_per_second: 41.3779, train_label_loss: 1.0638, \n"
     ]
    },
    {
     "name": "stdout",
     "output_type": "stream",
     "text": [
      "epoch: 6, [batch: 35 / 348], examples_per_second: 3482.7709, train_label_loss: 1.1000, \n"
     ]
    },
    {
     "name": "stdout",
     "output_type": "stream",
     "text": [
      "epoch: 6, [batch: 70 / 348], examples_per_second: 3442.4167, train_label_loss: 1.0877, \n"
     ]
    },
    {
     "name": "stdout",
     "output_type": "stream",
     "text": [
      "epoch: 6, [batch: 105 / 348], examples_per_second: 3468.7661, train_label_loss: 1.1626, \n"
     ]
    },
    {
     "name": "stdout",
     "output_type": "stream",
     "text": [
      "epoch: 6, [batch: 139 / 348], examples_per_second: 3451.1587, train_label_loss: 1.0476, \n"
     ]
    },
    {
     "name": "stdout",
     "output_type": "stream",
     "text": [
      "epoch: 6, [batch: 174 / 348], examples_per_second: 3466.7856, train_label_loss: 1.1786, \n"
     ]
    },
    {
     "name": "stdout",
     "output_type": "stream",
     "text": [
      "epoch: 6, [batch: 209 / 348], examples_per_second: 3459.1892, train_label_loss: 1.0811, \n"
     ]
    },
    {
     "name": "stdout",
     "output_type": "stream",
     "text": [
      "epoch: 6, [batch: 243 / 348], examples_per_second: 3452.4729, train_label_loss: 1.2501, \n"
     ]
    },
    {
     "name": "stdout",
     "output_type": "stream",
     "text": [
      "epoch: 6, [batch: 278 / 348], examples_per_second: 3454.0083, train_label_loss: 1.0566, \n"
     ]
    },
    {
     "name": "stdout",
     "output_type": "stream",
     "text": [
      "epoch: 6, [batch: 313 / 348], examples_per_second: 3480.3634, train_label_loss: 1.1136, \n"
     ]
    },
    {
     "name": "stdout",
     "output_type": "stream",
     "text": [
      "=============================================================\n",
      "epoch: 6, source_val_acc_label: 0.5102, target_val_acc_label: 0.4213, source_val_label_loss: 1.1675, target_val_label_loss: 1.6277, \n",
      "=============================================================\n"
     ]
    },
    {
     "name": "stdout",
     "output_type": "stream",
     "text": [
      "New best\n"
     ]
    },
    {
     "name": "stdout",
     "output_type": "stream",
     "text": [
      "epoch: 7, [batch: 1 / 348], examples_per_second: 42.9643, train_label_loss: 1.0577, \n"
     ]
    },
    {
     "name": "stdout",
     "output_type": "stream",
     "text": [
      "epoch: 7, [batch: 35 / 348], examples_per_second: 3445.9544, train_label_loss: 1.1673, \n"
     ]
    },
    {
     "name": "stdout",
     "output_type": "stream",
     "text": [
      "epoch: 7, [batch: 70 / 348], examples_per_second: 3479.8203, train_label_loss: 1.0384, \n"
     ]
    },
    {
     "name": "stdout",
     "output_type": "stream",
     "text": [
      "epoch: 7, [batch: 105 / 348], examples_per_second: 3468.7371, train_label_loss: 1.1151, \n"
     ]
    },
    {
     "name": "stdout",
     "output_type": "stream",
     "text": [
      "epoch: 7, [batch: 139 / 348], examples_per_second: 3489.2135, train_label_loss: 1.2917, \n"
     ]
    },
    {
     "name": "stdout",
     "output_type": "stream",
     "text": [
      "epoch: 7, [batch: 174 / 348], examples_per_second: 3449.1754, train_label_loss: 1.8659, \n"
     ]
    },
    {
     "name": "stdout",
     "output_type": "stream",
     "text": [
      "epoch: 7, [batch: 209 / 348], examples_per_second: 3407.2916, train_label_loss: 0.9244, \n"
     ]
    },
    {
     "name": "stdout",
     "output_type": "stream",
     "text": [
      "epoch: 7, [batch: 243 / 348], examples_per_second: 3406.9474, train_label_loss: 1.1748, \n"
     ]
    },
    {
     "name": "stdout",
     "output_type": "stream",
     "text": [
      "epoch: 7, [batch: 278 / 348], examples_per_second: 3384.2260, train_label_loss: 1.0966, \n"
     ]
    },
    {
     "name": "stdout",
     "output_type": "stream",
     "text": [
      "epoch: 7, [batch: 313 / 348], examples_per_second: 3422.7882, train_label_loss: 1.0920, \n"
     ]
    },
    {
     "name": "stdout",
     "output_type": "stream",
     "text": [
      "=============================================================\n",
      "epoch: 7, source_val_acc_label: 0.5073, target_val_acc_label: 0.4270, source_val_label_loss: 1.1765, target_val_label_loss: 1.7049, \n",
      "=============================================================\n"
     ]
    },
    {
     "name": "stdout",
     "output_type": "stream",
     "text": [
      "epoch: 8, [batch: 1 / 348], examples_per_second: 43.7201, train_label_loss: 1.1743, \n"
     ]
    },
    {
     "name": "stdout",
     "output_type": "stream",
     "text": [
      "epoch: 8, [batch: 35 / 348], examples_per_second: 3371.9185, train_label_loss: 1.0620, \n"
     ]
    },
    {
     "name": "stdout",
     "output_type": "stream",
     "text": [
      "epoch: 8, [batch: 70 / 348], examples_per_second: 3445.2165, train_label_loss: 1.3055, \n"
     ]
    },
    {
     "name": "stdout",
     "output_type": "stream",
     "text": [
      "epoch: 8, [batch: 105 / 348], examples_per_second: 3518.4997, train_label_loss: 1.2107, \n"
     ]
    },
    {
     "name": "stdout",
     "output_type": "stream",
     "text": [
      "epoch: 8, [batch: 139 / 348], examples_per_second: 3408.8476, train_label_loss: 1.1536, \n"
     ]
    },
    {
     "name": "stdout",
     "output_type": "stream",
     "text": [
      "epoch: 8, [batch: 174 / 348], examples_per_second: 3491.2979, train_label_loss: 1.2709, \n"
     ]
    },
    {
     "name": "stdout",
     "output_type": "stream",
     "text": [
      "epoch: 8, [batch: 209 / 348], examples_per_second: 3471.7553, train_label_loss: 1.1209, \n"
     ]
    },
    {
     "name": "stdout",
     "output_type": "stream",
     "text": [
      "epoch: 8, [batch: 243 / 348], examples_per_second: 3487.7788, train_label_loss: 1.0231, \n"
     ]
    },
    {
     "name": "stdout",
     "output_type": "stream",
     "text": [
      "epoch: 8, [batch: 278 / 348], examples_per_second: 3473.4358, train_label_loss: 1.1305, \n"
     ]
    },
    {
     "name": "stdout",
     "output_type": "stream",
     "text": [
      "epoch: 8, [batch: 313 / 348], examples_per_second: 3483.5172, train_label_loss: 1.0834, \n"
     ]
    },
    {
     "name": "stdout",
     "output_type": "stream",
     "text": [
      "=============================================================\n",
      "epoch: 8, source_val_acc_label: 0.5044, target_val_acc_label: 0.4214, source_val_label_loss: 1.1919, target_val_label_loss: 1.8040, \n",
      "=============================================================\n"
     ]
    },
    {
     "name": "stdout",
     "output_type": "stream",
     "text": [
      "epoch: 9, [batch: 1 / 348], examples_per_second: 43.9162, train_label_loss: 0.9583, \n"
     ]
    },
    {
     "name": "stdout",
     "output_type": "stream",
     "text": [
      "epoch: 9, [batch: 35 / 348], examples_per_second: 3469.3281, train_label_loss: 1.0419, \n"
     ]
    },
    {
     "name": "stdout",
     "output_type": "stream",
     "text": [
      "epoch: 9, [batch: 70 / 348], examples_per_second: 3476.6851, train_label_loss: 0.9565, \n"
     ]
    },
    {
     "name": "stdout",
     "output_type": "stream",
     "text": [
      "epoch: 9, [batch: 105 / 348], examples_per_second: 3470.8395, train_label_loss: 1.0074, \n"
     ]
    },
    {
     "name": "stdout",
     "output_type": "stream",
     "text": [
      "epoch: 9, [batch: 139 / 348], examples_per_second: 3459.4925, train_label_loss: 1.0522, \n"
     ]
    },
    {
     "name": "stdout",
     "output_type": "stream",
     "text": [
      "epoch: 9, [batch: 174 / 348], examples_per_second: 3460.5500, train_label_loss: 0.9489, \n"
     ]
    },
    {
     "name": "stdout",
     "output_type": "stream",
     "text": [
      "epoch: 9, [batch: 209 / 348], examples_per_second: 3466.7694, train_label_loss: 0.9452, \n"
     ]
    },
    {
     "name": "stdout",
     "output_type": "stream",
     "text": [
      "epoch: 9, [batch: 243 / 348], examples_per_second: 3456.2968, train_label_loss: 1.0962, \n"
     ]
    },
    {
     "name": "stdout",
     "output_type": "stream",
     "text": [
      "epoch: 9, [batch: 278 / 348], examples_per_second: 3482.6572, train_label_loss: 0.9128, \n"
     ]
    },
    {
     "name": "stdout",
     "output_type": "stream",
     "text": [
      "epoch: 9, [batch: 313 / 348], examples_per_second: 3499.6791, train_label_loss: 1.0789, \n"
     ]
    },
    {
     "name": "stdout",
     "output_type": "stream",
     "text": [
      "=============================================================\n",
      "epoch: 9, source_val_acc_label: 0.6744, target_val_acc_label: 0.5312, source_val_label_loss: 0.8711, target_val_label_loss: 1.7490, \n",
      "=============================================================\n"
     ]
    },
    {
     "name": "stdout",
     "output_type": "stream",
     "text": [
      "epoch: 10, [batch: 1 / 348], examples_per_second: 43.8527, train_label_loss: 0.7974, \n"
     ]
    },
    {
     "name": "stdout",
     "output_type": "stream",
     "text": [
      "epoch: 10, [batch: 35 / 348], examples_per_second: 3488.7316, train_label_loss: 0.8075, \n"
     ]
    },
    {
     "name": "stdout",
     "output_type": "stream",
     "text": [
      "epoch: 10, [batch: 70 / 348], examples_per_second: 3447.3276, train_label_loss: 0.7830, \n"
     ]
    },
    {
     "name": "stdout",
     "output_type": "stream",
     "text": [
      "epoch: 10, [batch: 105 / 348], examples_per_second: 3481.7624, train_label_loss: 0.4897, \n"
     ]
    },
    {
     "name": "stdout",
     "output_type": "stream",
     "text": [
      "epoch: 10, [batch: 139 / 348], examples_per_second: 3486.3461, train_label_loss: 0.9156, \n"
     ]
    },
    {
     "name": "stdout",
     "output_type": "stream",
     "text": [
      "epoch: 10, [batch: 174 / 348], examples_per_second: 3446.4635, train_label_loss: 0.5092, \n"
     ]
    },
    {
     "name": "stdout",
     "output_type": "stream",
     "text": [
      "epoch: 10, [batch: 209 / 348], examples_per_second: 3495.4328, train_label_loss: 0.8611, \n"
     ]
    },
    {
     "name": "stdout",
     "output_type": "stream",
     "text": [
      "epoch: 10, [batch: 243 / 348], examples_per_second: 3451.2179, train_label_loss: 0.8086, \n"
     ]
    },
    {
     "name": "stdout",
     "output_type": "stream",
     "text": [
      "epoch: 10, [batch: 278 / 348], examples_per_second: 3465.9202, train_label_loss: 0.6521, \n"
     ]
    },
    {
     "name": "stdout",
     "output_type": "stream",
     "text": [
      "epoch: 10, [batch: 313 / 348], examples_per_second: 3474.7316, train_label_loss: 0.7769, \n"
     ]
    },
    {
     "name": "stdout",
     "output_type": "stream",
     "text": [
      "=============================================================\n",
      "epoch: 10, source_val_acc_label: 0.7210, target_val_acc_label: 0.5893, source_val_label_loss: 0.7204, target_val_label_loss: 1.5221, \n",
      "=============================================================\n"
     ]
    },
    {
     "name": "stdout",
     "output_type": "stream",
     "text": [
      "New best\n"
     ]
    },
    {
     "name": "stdout",
     "output_type": "stream",
     "text": [
      "epoch: 11, [batch: 1 / 348], examples_per_second: 43.1902, train_label_loss: 0.7929, \n"
     ]
    },
    {
     "name": "stdout",
     "output_type": "stream",
     "text": [
      "epoch: 11, [batch: 35 / 348], examples_per_second: 3466.8787, train_label_loss: 0.8506, \n"
     ]
    },
    {
     "name": "stdout",
     "output_type": "stream",
     "text": [
      "epoch: 11, [batch: 70 / 348], examples_per_second: 3468.9711, train_label_loss: 0.7828, \n"
     ]
    },
    {
     "name": "stdout",
     "output_type": "stream",
     "text": [
      "epoch: 11, [batch: 105 / 348], examples_per_second: 3483.0678, train_label_loss: 0.4643, \n"
     ]
    },
    {
     "name": "stdout",
     "output_type": "stream",
     "text": [
      "epoch: 11, [batch: 139 / 348], examples_per_second: 3478.4976, train_label_loss: 0.8900, \n"
     ]
    },
    {
     "name": "stdout",
     "output_type": "stream",
     "text": [
      "epoch: 11, [batch: 174 / 348], examples_per_second: 3482.5901, train_label_loss: 0.6876, \n"
     ]
    },
    {
     "name": "stdout",
     "output_type": "stream",
     "text": [
      "epoch: 11, [batch: 209 / 348], examples_per_second: 3495.5152, train_label_loss: 0.4609, \n"
     ]
    },
    {
     "name": "stdout",
     "output_type": "stream",
     "text": [
      "epoch: 11, [batch: 243 / 348], examples_per_second: 3481.1520, train_label_loss: 0.5598, \n"
     ]
    },
    {
     "name": "stdout",
     "output_type": "stream",
     "text": [
      "epoch: 11, [batch: 278 / 348], examples_per_second: 3470.5156, train_label_loss: 0.3821, \n"
     ]
    },
    {
     "name": "stdout",
     "output_type": "stream",
     "text": [
      "epoch: 11, [batch: 313 / 348], examples_per_second: 3479.3984, train_label_loss: 0.8940, \n"
     ]
    },
    {
     "name": "stdout",
     "output_type": "stream",
     "text": [
      "=============================================================\n",
      "epoch: 11, source_val_acc_label: 0.7325, target_val_acc_label: 0.5904, source_val_label_loss: 0.7066, target_val_label_loss: 1.3723, \n",
      "=============================================================\n"
     ]
    },
    {
     "name": "stdout",
     "output_type": "stream",
     "text": [
      "New best\n"
     ]
    },
    {
     "name": "stdout",
     "output_type": "stream",
     "text": [
      "epoch: 12, [batch: 1 / 348], examples_per_second: 43.2920, train_label_loss: 0.6031, \n"
     ]
    },
    {
     "name": "stdout",
     "output_type": "stream",
     "text": [
      "epoch: 12, [batch: 35 / 348], examples_per_second: 3469.7959, train_label_loss: 0.4650, \n"
     ]
    },
    {
     "name": "stdout",
     "output_type": "stream",
     "text": [
      "epoch: 12, [batch: 70 / 348], examples_per_second: 3498.8311, train_label_loss: 0.3561, \n"
     ]
    },
    {
     "name": "stdout",
     "output_type": "stream",
     "text": [
      "epoch: 12, [batch: 105 / 348], examples_per_second: 3482.8164, train_label_loss: 0.7367, \n"
     ]
    },
    {
     "name": "stdout",
     "output_type": "stream",
     "text": [
      "epoch: 12, [batch: 139 / 348], examples_per_second: 3513.3096, train_label_loss: 0.7105, \n"
     ]
    },
    {
     "name": "stdout",
     "output_type": "stream",
     "text": [
      "epoch: 12, [batch: 174 / 348], examples_per_second: 3502.8637, train_label_loss: 0.4790, \n"
     ]
    },
    {
     "name": "stdout",
     "output_type": "stream",
     "text": [
      "epoch: 12, [batch: 209 / 348], examples_per_second: 3469.3605, train_label_loss: 0.6073, \n"
     ]
    },
    {
     "name": "stdout",
     "output_type": "stream",
     "text": [
      "epoch: 12, [batch: 243 / 348], examples_per_second: 3436.3818, train_label_loss: 0.7433, \n"
     ]
    },
    {
     "name": "stdout",
     "output_type": "stream",
     "text": [
      "epoch: 12, [batch: 278 / 348], examples_per_second: 3474.3683, train_label_loss: 0.3615, \n"
     ]
    },
    {
     "name": "stdout",
     "output_type": "stream",
     "text": [
      "epoch: 12, [batch: 313 / 348], examples_per_second: 3425.0450, train_label_loss: 0.1782, \n"
     ]
    },
    {
     "name": "stdout",
     "output_type": "stream",
     "text": [
      "=============================================================\n",
      "epoch: 12, source_val_acc_label: 0.7529, target_val_acc_label: 0.6098, source_val_label_loss: 0.6546, target_val_label_loss: 1.3610, \n",
      "=============================================================\n"
     ]
    },
    {
     "name": "stdout",
     "output_type": "stream",
     "text": [
      "New best\n"
     ]
    },
    {
     "name": "stdout",
     "output_type": "stream",
     "text": [
      "epoch: 13, [batch: 1 / 348], examples_per_second: 43.0891, train_label_loss: 0.5602, \n"
     ]
    },
    {
     "name": "stdout",
     "output_type": "stream",
     "text": [
      "epoch: 13, [batch: 35 / 348], examples_per_second: 3479.9176, train_label_loss: 0.5473, \n"
     ]
    },
    {
     "name": "stdout",
     "output_type": "stream",
     "text": [
      "epoch: 13, [batch: 70 / 348], examples_per_second: 3438.9172, train_label_loss: 0.5281, \n"
     ]
    },
    {
     "name": "stdout",
     "output_type": "stream",
     "text": [
      "epoch: 13, [batch: 105 / 348], examples_per_second: 3477.4658, train_label_loss: 0.6437, \n"
     ]
    },
    {
     "name": "stdout",
     "output_type": "stream",
     "text": [
      "epoch: 13, [batch: 139 / 348], examples_per_second: 3462.2257, train_label_loss: 0.4135, \n"
     ]
    },
    {
     "name": "stdout",
     "output_type": "stream",
     "text": [
      "epoch: 13, [batch: 174 / 348], examples_per_second: 3468.0704, train_label_loss: 0.5415, \n"
     ]
    },
    {
     "name": "stdout",
     "output_type": "stream",
     "text": [
      "epoch: 13, [batch: 209 / 348], examples_per_second: 3465.4361, train_label_loss: 0.7182, \n"
     ]
    },
    {
     "name": "stdout",
     "output_type": "stream",
     "text": [
      "epoch: 13, [batch: 243 / 348], examples_per_second: 3501.8802, train_label_loss: 0.3428, \n"
     ]
    },
    {
     "name": "stdout",
     "output_type": "stream",
     "text": [
      "epoch: 13, [batch: 278 / 348], examples_per_second: 3436.5675, train_label_loss: 0.4363, \n"
     ]
    },
    {
     "name": "stdout",
     "output_type": "stream",
     "text": [
      "epoch: 13, [batch: 313 / 348], examples_per_second: 3474.8078, train_label_loss: 0.6372, \n"
     ]
    },
    {
     "name": "stdout",
     "output_type": "stream",
     "text": [
      "=============================================================\n",
      "epoch: 13, source_val_acc_label: 0.7700, target_val_acc_label: 0.6158, source_val_label_loss: 0.6137, target_val_label_loss: 1.2563, \n",
      "=============================================================\n"
     ]
    },
    {
     "name": "stdout",
     "output_type": "stream",
     "text": [
      "New best\n"
     ]
    },
    {
     "name": "stdout",
     "output_type": "stream",
     "text": [
      "epoch: 14, [batch: 1 / 348], examples_per_second: 43.2249, train_label_loss: 0.3364, \n"
     ]
    },
    {
     "name": "stdout",
     "output_type": "stream",
     "text": [
      "epoch: 14, [batch: 35 / 348], examples_per_second: 3453.7228, train_label_loss: 0.7412, \n"
     ]
    },
    {
     "name": "stdout",
     "output_type": "stream",
     "text": [
      "epoch: 14, [batch: 70 / 348], examples_per_second: 3476.0771, train_label_loss: 0.3057, \n"
     ]
    },
    {
     "name": "stdout",
     "output_type": "stream",
     "text": [
      "epoch: 14, [batch: 105 / 348], examples_per_second: 3467.4458, train_label_loss: 0.4843, \n"
     ]
    },
    {
     "name": "stdout",
     "output_type": "stream",
     "text": [
      "epoch: 14, [batch: 139 / 348], examples_per_second: 3484.4543, train_label_loss: 0.4525, \n"
     ]
    },
    {
     "name": "stdout",
     "output_type": "stream",
     "text": [
      "epoch: 14, [batch: 174 / 348], examples_per_second: 3454.5950, train_label_loss: 0.4532, \n"
     ]
    },
    {
     "name": "stdout",
     "output_type": "stream",
     "text": [
      "epoch: 14, [batch: 209 / 348], examples_per_second: 3464.6677, train_label_loss: 0.6223, \n"
     ]
    },
    {
     "name": "stdout",
     "output_type": "stream",
     "text": [
      "epoch: 14, [batch: 243 / 348], examples_per_second: 3480.4777, train_label_loss: 0.6266, \n"
     ]
    },
    {
     "name": "stdout",
     "output_type": "stream",
     "text": [
      "epoch: 14, [batch: 278 / 348], examples_per_second: 3469.2443, train_label_loss: 0.9386, \n"
     ]
    },
    {
     "name": "stdout",
     "output_type": "stream",
     "text": [
      "epoch: 14, [batch: 313 / 348], examples_per_second: 3470.6805, train_label_loss: 0.2282, \n"
     ]
    },
    {
     "name": "stdout",
     "output_type": "stream",
     "text": [
      "=============================================================\n",
      "epoch: 14, source_val_acc_label: 0.7735, target_val_acc_label: 0.6186, source_val_label_loss: 0.6251, target_val_label_loss: 1.4113, \n",
      "=============================================================\n"
     ]
    },
    {
     "name": "stdout",
     "output_type": "stream",
     "text": [
      "epoch: 15, [batch: 1 / 348], examples_per_second: 43.6691, train_label_loss: 0.2764, \n"
     ]
    },
    {
     "name": "stdout",
     "output_type": "stream",
     "text": [
      "epoch: 15, [batch: 35 / 348], examples_per_second: 3493.3545, train_label_loss: 0.4958, \n"
     ]
    },
    {
     "name": "stdout",
     "output_type": "stream",
     "text": [
      "epoch: 15, [batch: 70 / 348], examples_per_second: 3481.8183, train_label_loss: 0.3463, \n"
     ]
    },
    {
     "name": "stdout",
     "output_type": "stream",
     "text": [
      "epoch: 15, [batch: 105 / 348], examples_per_second: 3461.4042, train_label_loss: 0.3684, \n"
     ]
    },
    {
     "name": "stdout",
     "output_type": "stream",
     "text": [
      "epoch: 15, [batch: 139 / 348], examples_per_second: 3473.1137, train_label_loss: 0.3812, \n"
     ]
    },
    {
     "name": "stdout",
     "output_type": "stream",
     "text": [
      "epoch: 15, [batch: 174 / 348], examples_per_second: 3499.1891, train_label_loss: 0.5958, \n"
     ]
    },
    {
     "name": "stdout",
     "output_type": "stream",
     "text": [
      "epoch: 15, [batch: 209 / 348], examples_per_second: 3474.7324, train_label_loss: 0.5261, \n"
     ]
    },
    {
     "name": "stdout",
     "output_type": "stream",
     "text": [
      "epoch: 15, [batch: 243 / 348], examples_per_second: 3508.1204, train_label_loss: 0.3248, \n"
     ]
    },
    {
     "name": "stdout",
     "output_type": "stream",
     "text": [
      "epoch: 15, [batch: 278 / 348], examples_per_second: 3494.1605, train_label_loss: 0.2274, \n"
     ]
    },
    {
     "name": "stdout",
     "output_type": "stream",
     "text": [
      "epoch: 15, [batch: 313 / 348], examples_per_second: 3509.6147, train_label_loss: 0.4796, \n"
     ]
    },
    {
     "name": "stdout",
     "output_type": "stream",
     "text": [
      "=============================================================\n",
      "epoch: 15, source_val_acc_label: 0.7750, target_val_acc_label: 0.6350, source_val_label_loss: 0.5991, target_val_label_loss: 1.2929, \n",
      "=============================================================\n"
     ]
    },
    {
     "name": "stdout",
     "output_type": "stream",
     "text": [
      "epoch: 16, [batch: 1 / 348], examples_per_second: 43.7411, train_label_loss: 0.4871, \n"
     ]
    },
    {
     "name": "stdout",
     "output_type": "stream",
     "text": [
      "epoch: 16, [batch: 35 / 348], examples_per_second: 3449.9498, train_label_loss: 0.4821, \n"
     ]
    },
    {
     "name": "stdout",
     "output_type": "stream",
     "text": [
      "epoch: 16, [batch: 70 / 348], examples_per_second: 3459.2555, train_label_loss: 0.2918, \n"
     ]
    },
    {
     "name": "stdout",
     "output_type": "stream",
     "text": [
      "epoch: 16, [batch: 105 / 348], examples_per_second: 3444.4814, train_label_loss: 0.5981, \n"
     ]
    },
    {
     "name": "stdout",
     "output_type": "stream",
     "text": [
      "epoch: 16, [batch: 139 / 348], examples_per_second: 3484.0800, train_label_loss: 0.4855, \n"
     ]
    },
    {
     "name": "stdout",
     "output_type": "stream",
     "text": [
      "epoch: 16, [batch: 174 / 348], examples_per_second: 3470.2071, train_label_loss: 0.2356, \n"
     ]
    },
    {
     "name": "stdout",
     "output_type": "stream",
     "text": [
      "epoch: 16, [batch: 209 / 348], examples_per_second: 3477.3714, train_label_loss: 0.4359, \n"
     ]
    },
    {
     "name": "stdout",
     "output_type": "stream",
     "text": [
      "epoch: 16, [batch: 243 / 348], examples_per_second: 3461.3696, train_label_loss: 0.4910, \n"
     ]
    },
    {
     "name": "stdout",
     "output_type": "stream",
     "text": [
      "epoch: 16, [batch: 278 / 348], examples_per_second: 3483.1194, train_label_loss: 0.6017, \n"
     ]
    },
    {
     "name": "stdout",
     "output_type": "stream",
     "text": [
      "epoch: 16, [batch: 313 / 348], examples_per_second: 3474.9063, train_label_loss: 0.4707, \n"
     ]
    },
    {
     "name": "stdout",
     "output_type": "stream",
     "text": [
      "=============================================================\n",
      "epoch: 16, source_val_acc_label: 0.7775, target_val_acc_label: 0.6321, source_val_label_loss: 0.6019, target_val_label_loss: 1.2400, \n",
      "=============================================================\n"
     ]
    },
    {
     "name": "stdout",
     "output_type": "stream",
     "text": [
      "New best\n"
     ]
    },
    {
     "name": "stdout",
     "output_type": "stream",
     "text": [
      "epoch: 17, [batch: 1 / 348], examples_per_second: 43.0572, train_label_loss: 0.3279, \n"
     ]
    },
    {
     "name": "stdout",
     "output_type": "stream",
     "text": [
      "epoch: 17, [batch: 35 / 348], examples_per_second: 3461.5656, train_label_loss: 0.5569, \n"
     ]
    },
    {
     "name": "stdout",
     "output_type": "stream",
     "text": [
      "epoch: 17, [batch: 70 / 348], examples_per_second: 3456.3810, train_label_loss: 0.4402, \n"
     ]
    },
    {
     "name": "stdout",
     "output_type": "stream",
     "text": [
      "epoch: 17, [batch: 105 / 348], examples_per_second: 3469.2247, train_label_loss: 0.3783, \n"
     ]
    },
    {
     "name": "stdout",
     "output_type": "stream",
     "text": [
      "epoch: 17, [batch: 139 / 348], examples_per_second: 3470.0158, train_label_loss: 0.5608, \n"
     ]
    },
    {
     "name": "stdout",
     "output_type": "stream",
     "text": [
      "epoch: 17, [batch: 174 / 348], examples_per_second: 3448.5761, train_label_loss: 0.2973, \n"
     ]
    },
    {
     "name": "stdout",
     "output_type": "stream",
     "text": [
      "epoch: 17, [batch: 209 / 348], examples_per_second: 3490.6883, train_label_loss: 0.5036, \n"
     ]
    },
    {
     "name": "stdout",
     "output_type": "stream",
     "text": [
      "epoch: 17, [batch: 243 / 348], examples_per_second: 3488.7173, train_label_loss: 0.3317, \n"
     ]
    },
    {
     "name": "stdout",
     "output_type": "stream",
     "text": [
      "epoch: 17, [batch: 278 / 348], examples_per_second: 3489.6147, train_label_loss: 0.2500, \n"
     ]
    },
    {
     "name": "stdout",
     "output_type": "stream",
     "text": [
      "epoch: 17, [batch: 313 / 348], examples_per_second: 3453.2508, train_label_loss: 0.2112, \n"
     ]
    },
    {
     "name": "stdout",
     "output_type": "stream",
     "text": [
      "=============================================================\n",
      "epoch: 17, source_val_acc_label: 0.7817, target_val_acc_label: 0.6390, source_val_label_loss: 0.6266, target_val_label_loss: 1.3932, \n",
      "=============================================================\n"
     ]
    },
    {
     "name": "stdout",
     "output_type": "stream",
     "text": [
      "epoch: 18, [batch: 1 / 348], examples_per_second: 43.6230, train_label_loss: 0.1951, \n"
     ]
    },
    {
     "name": "stdout",
     "output_type": "stream",
     "text": [
      "epoch: 18, [batch: 35 / 348], examples_per_second: 3437.1367, train_label_loss: 0.3010, \n"
     ]
    },
    {
     "name": "stdout",
     "output_type": "stream",
     "text": [
      "epoch: 18, [batch: 70 / 348], examples_per_second: 3456.5930, train_label_loss: 0.2273, \n"
     ]
    },
    {
     "name": "stdout",
     "output_type": "stream",
     "text": [
      "epoch: 18, [batch: 105 / 348], examples_per_second: 3467.2547, train_label_loss: 0.3966, \n"
     ]
    },
    {
     "name": "stdout",
     "output_type": "stream",
     "text": [
      "epoch: 18, [batch: 139 / 348], examples_per_second: 3465.3526, train_label_loss: 0.3892, \n"
     ]
    },
    {
     "name": "stdout",
     "output_type": "stream",
     "text": [
      "epoch: 18, [batch: 174 / 348], examples_per_second: 3459.0143, train_label_loss: 0.5624, \n"
     ]
    },
    {
     "name": "stdout",
     "output_type": "stream",
     "text": [
      "epoch: 18, [batch: 209 / 348], examples_per_second: 3461.0659, train_label_loss: 0.4840, \n"
     ]
    },
    {
     "name": "stdout",
     "output_type": "stream",
     "text": [
      "epoch: 18, [batch: 243 / 348], examples_per_second: 3472.0197, train_label_loss: 0.2532, \n"
     ]
    },
    {
     "name": "stdout",
     "output_type": "stream",
     "text": [
      "epoch: 18, [batch: 278 / 348], examples_per_second: 3442.1846, train_label_loss: 0.5011, \n"
     ]
    },
    {
     "name": "stdout",
     "output_type": "stream",
     "text": [
      "epoch: 18, [batch: 313 / 348], examples_per_second: 3449.6752, train_label_loss: 0.2563, \n"
     ]
    },
    {
     "name": "stdout",
     "output_type": "stream",
     "text": [
      "=============================================================\n",
      "epoch: 18, source_val_acc_label: 0.7931, target_val_acc_label: 0.6459, source_val_label_loss: 0.5795, target_val_label_loss: 1.2916, \n",
      "=============================================================\n"
     ]
    },
    {
     "name": "stdout",
     "output_type": "stream",
     "text": [
      "epoch: 19, [batch: 1 / 348], examples_per_second: 43.9164, train_label_loss: 0.4312, \n"
     ]
    },
    {
     "name": "stdout",
     "output_type": "stream",
     "text": [
      "epoch: 19, [batch: 35 / 348], examples_per_second: 3465.4939, train_label_loss: 0.9351, \n"
     ]
    },
    {
     "name": "stdout",
     "output_type": "stream",
     "text": [
      "epoch: 19, [batch: 70 / 348], examples_per_second: 3480.8749, train_label_loss: 0.5171, \n"
     ]
    },
    {
     "name": "stdout",
     "output_type": "stream",
     "text": [
      "epoch: 19, [batch: 105 / 348], examples_per_second: 3460.0020, train_label_loss: 0.3163, \n"
     ]
    },
    {
     "name": "stdout",
     "output_type": "stream",
     "text": [
      "epoch: 19, [batch: 139 / 348], examples_per_second: 3474.4420, train_label_loss: 0.2103, \n"
     ]
    },
    {
     "name": "stdout",
     "output_type": "stream",
     "text": [
      "epoch: 19, [batch: 174 / 348], examples_per_second: 3461.6134, train_label_loss: 0.7513, \n"
     ]
    },
    {
     "name": "stdout",
     "output_type": "stream",
     "text": [
      "epoch: 19, [batch: 209 / 348], examples_per_second: 3434.4386, train_label_loss: 0.4869, \n"
     ]
    },
    {
     "name": "stdout",
     "output_type": "stream",
     "text": [
      "epoch: 19, [batch: 243 / 348], examples_per_second: 3452.1891, train_label_loss: 0.4701, \n"
     ]
    },
    {
     "name": "stdout",
     "output_type": "stream",
     "text": [
      "epoch: 19, [batch: 278 / 348], examples_per_second: 3474.5268, train_label_loss: 0.4008, \n"
     ]
    },
    {
     "name": "stdout",
     "output_type": "stream",
     "text": [
      "epoch: 19, [batch: 313 / 348], examples_per_second: 3485.6108, train_label_loss: 0.1340, \n"
     ]
    },
    {
     "name": "stdout",
     "output_type": "stream",
     "text": [
      "=============================================================\n",
      "epoch: 19, source_val_acc_label: 0.7908, target_val_acc_label: 0.6456, source_val_label_loss: 0.5999, target_val_label_loss: 1.3045, \n",
      "=============================================================\n"
     ]
    },
    {
     "name": "stdout",
     "output_type": "stream",
     "text": [
      "epoch: 20, [batch: 1 / 348], examples_per_second: 44.0694, train_label_loss: 0.2737, \n"
     ]
    },
    {
     "name": "stdout",
     "output_type": "stream",
     "text": [
      "epoch: 20, [batch: 35 / 348], examples_per_second: 3444.7752, train_label_loss: 0.2189, \n"
     ]
    },
    {
     "name": "stdout",
     "output_type": "stream",
     "text": [
      "epoch: 20, [batch: 70 / 348], examples_per_second: 3481.4949, train_label_loss: 0.4241, \n"
     ]
    },
    {
     "name": "stdout",
     "output_type": "stream",
     "text": [
      "epoch: 20, [batch: 105 / 348], examples_per_second: 3458.6832, train_label_loss: 0.7617, \n"
     ]
    },
    {
     "name": "stdout",
     "output_type": "stream",
     "text": [
      "epoch: 20, [batch: 139 / 348], examples_per_second: 3465.0228, train_label_loss: 0.3498, \n"
     ]
    },
    {
     "name": "stdout",
     "output_type": "stream",
     "text": [
      "epoch: 20, [batch: 174 / 348], examples_per_second: 3475.1660, train_label_loss: 0.5864, \n"
     ]
    },
    {
     "name": "stdout",
     "output_type": "stream",
     "text": [
      "epoch: 20, [batch: 209 / 348], examples_per_second: 3439.0741, train_label_loss: 0.3826, \n"
     ]
    },
    {
     "name": "stdout",
     "output_type": "stream",
     "text": [
      "epoch: 20, [batch: 243 / 348], examples_per_second: 3465.4965, train_label_loss: 0.2513, \n"
     ]
    },
    {
     "name": "stdout",
     "output_type": "stream",
     "text": [
      "epoch: 20, [batch: 278 / 348], examples_per_second: 3480.9222, train_label_loss: 0.4500, \n"
     ]
    },
    {
     "name": "stdout",
     "output_type": "stream",
     "text": [
      "epoch: 20, [batch: 313 / 348], examples_per_second: 3480.6857, train_label_loss: 0.3159, \n"
     ]
    },
    {
     "name": "stdout",
     "output_type": "stream",
     "text": [
      "=============================================================\n",
      "epoch: 20, source_val_acc_label: 0.7873, target_val_acc_label: 0.6474, source_val_label_loss: 0.6147, target_val_label_loss: 1.5181, \n",
      "=============================================================\n"
     ]
    },
    {
     "name": "stdout",
     "output_type": "stream",
     "text": [
      "Patience (3) exhausted\n"
     ]
    }
   ],
   "source": [
    "###################################\n",
    "# train\n",
    "###################################\n",
    "jig = PTN_Train_Eval_Test_Jig(model, p.BEST_MODEL_PATH, p.device)\n",
    "\n",
    "jig.train(\n",
    "    train_iterable=datasets.source.processed.train,\n",
    "    source_val_iterable=datasets.source.processed.val,\n",
    "    target_val_iterable=datasets.target.processed.val,\n",
    "    num_epochs=p.n_epoch,\n",
    "    num_logs_per_epoch=p.NUM_LOGS_PER_EPOCH,\n",
    "    patience=p.patience,\n",
    "    optimizer=optimizer,\n",
    "    criteria_for_best=p.criteria_for_best,\n",
    ")"
   ]
  },
  {
   "cell_type": "code",
   "execution_count": 14,
   "id": "31e8fabf",
   "metadata": {
    "execution": {
     "iopub.execute_input": "2022-03-05T00:31:30.991868Z",
     "iopub.status.busy": "2022-03-05T00:31:30.991618Z",
     "iopub.status.idle": "2022-03-05T00:31:31.007092Z",
     "shell.execute_reply": "2022-03-05T00:31:31.006839Z"
    },
    "papermill": {
     "duration": 0.069159,
     "end_time": "2022-03-05T00:31:31.007146",
     "exception": false,
     "start_time": "2022-03-05T00:31:30.937987",
     "status": "completed"
    },
    "tags": []
   },
   "outputs": [],
   "source": [
    "total_experiment_time_secs = time.time() - start_time_secs"
   ]
  },
  {
   "cell_type": "code",
   "execution_count": 15,
   "id": "87b9595b",
   "metadata": {
    "execution": {
     "iopub.execute_input": "2022-03-05T00:31:31.112943Z",
     "iopub.status.busy": "2022-03-05T00:31:31.112376Z",
     "iopub.status.idle": "2022-03-05T00:31:48.493994Z",
     "shell.execute_reply": "2022-03-05T00:31:48.494400Z"
    },
    "papermill": {
     "duration": 17.437689,
     "end_time": "2022-03-05T00:31:48.494533",
     "exception": false,
     "start_time": "2022-03-05T00:31:31.056844",
     "status": "completed"
    },
    "tags": []
   },
   "outputs": [],
   "source": [
    "###################################\n",
    "# Evaluate the model\n",
    "###################################\n",
    "source_test_label_accuracy, source_test_label_loss = jig.test(datasets.source.processed.test)\n",
    "target_test_label_accuracy, target_test_label_loss = jig.test(datasets.target.processed.test)\n",
    "\n",
    "source_val_label_accuracy, source_val_label_loss = jig.test(datasets.source.processed.val)\n",
    "target_val_label_accuracy, target_val_label_loss = jig.test(datasets.target.processed.val)\n",
    "\n",
    "history = jig.get_history()\n",
    "\n",
    "total_epochs_trained = len(history[\"epoch_indices\"])\n",
    "\n",
    "val_dl = Iterable_Aggregator((datasets.source.original.val,datasets.target.original.val))\n",
    "\n",
    "confusion = ptn_confusion_by_domain_over_dataloader(model, p.device, val_dl)\n",
    "per_domain_accuracy = per_domain_accuracy_from_confusion(confusion)\n",
    "\n",
    "# Add a key to per_domain_accuracy for if it was a source domain\n",
    "for domain, accuracy in per_domain_accuracy.items():\n",
    "    per_domain_accuracy[domain] = {\n",
    "        \"accuracy\": accuracy,\n",
    "        \"source?\": domain in p.domains_source\n",
    "    }\n",
    "\n",
    "# Do an independent accuracy assesment JUST TO BE SURE!\n",
    "# _source_test_label_accuracy = independent_accuracy_assesment(model, datasets.source.processed.test, p.device)\n",
    "# _target_test_label_accuracy = independent_accuracy_assesment(model, datasets.target.processed.test, p.device)\n",
    "# _source_val_label_accuracy = independent_accuracy_assesment(model, datasets.source.processed.val, p.device)\n",
    "# _target_val_label_accuracy = independent_accuracy_assesment(model, datasets.target.processed.val, p.device)\n",
    "\n",
    "# assert(_source_test_label_accuracy == source_test_label_accuracy)\n",
    "# assert(_target_test_label_accuracy == target_test_label_accuracy)\n",
    "# assert(_source_val_label_accuracy == source_val_label_accuracy)\n",
    "# assert(_target_val_label_accuracy == target_val_label_accuracy)\n",
    "\n",
    "experiment = {\n",
    "    \"experiment_name\": p.experiment_name,\n",
    "    \"parameters\": dict(p),\n",
    "    \"results\": {\n",
    "        \"source_test_label_accuracy\": source_test_label_accuracy,\n",
    "        \"source_test_label_loss\": source_test_label_loss,\n",
    "        \"target_test_label_accuracy\": target_test_label_accuracy,\n",
    "        \"target_test_label_loss\": target_test_label_loss,\n",
    "        \"source_val_label_accuracy\": source_val_label_accuracy,\n",
    "        \"source_val_label_loss\": source_val_label_loss,\n",
    "        \"target_val_label_accuracy\": target_val_label_accuracy,\n",
    "        \"target_val_label_loss\": target_val_label_loss,\n",
    "        \"total_epochs_trained\": total_epochs_trained,\n",
    "        \"total_experiment_time_secs\": total_experiment_time_secs,\n",
    "        \"confusion\": confusion,\n",
    "        \"per_domain_accuracy\": per_domain_accuracy,\n",
    "    },\n",
    "    \"history\": history,\n",
    "    \"dataset_metrics\": get_dataset_metrics(datasets, \"ptn\"),\n",
    "}"
   ]
  },
  {
   "cell_type": "code",
   "execution_count": 16,
   "id": "54a21829",
   "metadata": {
    "execution": {
     "iopub.execute_input": "2022-03-05T00:31:48.603248Z",
     "iopub.status.busy": "2022-03-05T00:31:48.602978Z",
     "iopub.status.idle": "2022-03-05T00:31:48.794049Z",
     "shell.execute_reply": "2022-03-05T00:31:48.794460Z"
    },
    "papermill": {
     "duration": 0.243718,
     "end_time": "2022-03-05T00:31:48.794593",
     "exception": false,
     "start_time": "2022-03-05T00:31:48.550875",
     "status": "completed"
    },
    "tags": []
   },
   "outputs": [
    {
     "data": {
      "image/png": "[encoded data removed]",
      "text/plain": [
       "<Figure size 1080x504 with 1 Axes>"
      ]
     },
     "metadata": {
      "needs_background": "light"
     },
     "output_type": "display_data"
    }
   ],
   "source": [
    "ax = get_loss_curve(experiment)\n",
    "plt.show()"
   ]
  },
  {
   "cell_type": "code",
   "execution_count": 17,
   "id": "fd8a0f60",
   "metadata": {
    "execution": {
     "iopub.execute_input": "2022-03-05T00:31:48.905983Z",
     "iopub.status.busy": "2022-03-05T00:31:48.905720Z",
     "iopub.status.idle": "2022-03-05T00:31:49.161373Z",
     "shell.execute_reply": "2022-03-05T00:31:49.161588Z"
    },
    "papermill": {
     "duration": 0.309232,
     "end_time": "2022-03-05T00:31:49.161668",
     "exception": false,
     "start_time": "2022-03-05T00:31:48.852436",
     "status": "completed"
    },
    "tags": []
   },
   "outputs": [
    {
     "data": {
      "text/plain": [
       "<matplotlib.axes._subplots.AxesSubplot at 0x7f59e440c520>"
      ]
     },
     "execution_count": 17,
     "metadata": {},
     "output_type": "execute_result"
    },
    {
     "data": {
      "image/png": "[encoded data removed]",
      "text/plain": [
       "<Figure size 1080x504 with 1 Axes>"
      ]
     },
     "metadata": {
      "needs_background": "light"
     },
     "output_type": "display_data"
    }
   ],
   "source": [
    "get_results_table(experiment)"
   ]
  },
  {
   "cell_type": "code",
   "execution_count": 18,
   "id": "cf8dc689",
   "metadata": {
    "execution": {
     "iopub.execute_input": "2022-03-05T00:31:49.270431Z",
     "iopub.status.busy": "2022-03-05T00:31:49.269516Z",
     "iopub.status.idle": "2022-03-05T00:31:49.446606Z",
     "shell.execute_reply": "2022-03-05T00:31:49.446175Z"
    },
    "papermill": {
     "duration": 0.231385,
     "end_time": "2022-03-05T00:31:49.446721",
     "exception": false,
     "start_time": "2022-03-05T00:31:49.215336",
     "status": "completed"
    },
    "tags": []
   },
   "outputs": [
    {
     "data": {
      "text/plain": [
       "<matplotlib.axes._subplots.AxesSubplot at 0x7f59e4655460>"
      ]
     },
     "execution_count": 18,
     "metadata": {},
     "output_type": "execute_result"
    },
    {
     "data": {
      "image/png": "[encoded data removed]",
      "text/plain": [
       "<Figure size 1080x504 with 1 Axes>"
      ]
     },
     "metadata": {
      "needs_background": "light"
     },
     "output_type": "display_data"
    }
   ],
   "source": [
    "get_domain_accuracies(experiment)"
   ]
  },
  {
   "cell_type": "code",
   "execution_count": 19,
   "id": "a74ae082",
   "metadata": {
    "execution": {
     "iopub.execute_input": "2022-03-05T00:31:49.560862Z",
     "iopub.status.busy": "2022-03-05T00:31:49.560597Z",
     "iopub.status.idle": "2022-03-05T00:31:49.576155Z",
     "shell.execute_reply": "2022-03-05T00:31:49.575679Z"
    },
    "papermill": {
     "duration": 0.07178,
     "end_time": "2022-03-05T00:31:49.576256",
     "exception": false,
     "start_time": "2022-03-05T00:31:49.504476",
     "status": "completed"
    },
    "tags": []
   },
   "outputs": [
    {
     "name": "stdout",
     "output_type": "stream",
     "text": [
      "Source Test Label Accuracy: 0.783125 Target Test Label Accuracy: 0.6315\n",
      "Source Val Label Accuracy: 0.7775 Target Val Label Accuracy: 0.632125\n"
     ]
    }
   ],
   "source": [
    "print(\"Source Test Label Accuracy:\", experiment[\"results\"][\"source_test_label_accuracy\"], \"Target Test Label Accuracy:\", experiment[\"results\"][\"target_test_label_accuracy\"])\n",
    "print(\"Source Val Label Accuracy:\", experiment[\"results\"][\"source_val_label_accuracy\"], \"Target Val Label Accuracy:\", experiment[\"results\"][\"target_val_label_accuracy\"])"
   ]
  },
  {
   "cell_type": "code",
   "execution_count": 20,
   "id": "dacca602",
   "metadata": {
    "execution": {
     "iopub.execute_input": "2022-03-05T00:31:49.689035Z",
     "iopub.status.busy": "2022-03-05T00:31:49.688781Z",
     "iopub.status.idle": "2022-03-05T00:31:49.704554Z",
     "shell.execute_reply": "2022-03-05T00:31:49.704078Z"
    },
    "papermill": {
     "duration": 0.071339,
     "end_time": "2022-03-05T00:31:49.704656",
     "exception": false,
     "start_time": "2022-03-05T00:31:49.633317",
     "status": "completed"
    },
    "tags": [
     "experiment_json"
    ]
   },
   "outputs": [
    {
     "data": {
      "text/plain": [
       "'{\"experiment_name\": \"nShot_oracle.run2\", \"parameters\": {\"experiment_name\": \"nShot_oracle.run2\", \"device\": \"cuda\", \"lr\": 0.001, \"seed\": 1337, \"dataset_seed\": 1337, \"labels_source\": [\"3123D52\", \"3123D65\", \"3123D79\", \"3123D80\", \"3123D54\", \"3123D70\", \"3123D7B\", \"3123D89\", \"3123D58\", \"3123D76\", \"3123D7D\", \"3123EFE\", \"3123D64\", \"3123D78\", \"3123D7E\", \"3124E4A\"], \"labels_target\": [\"3123D52\", \"3123D65\", \"3123D79\", \"3123D80\", \"3123D54\", \"3123D70\", \"3123D7B\", \"3123D89\", \"3123D58\", \"3123D76\", \"3123D7D\", \"3123EFE\", \"3123D64\", \"3123D78\", \"3123D7E\", \"3124E4A\"], \"x_transforms_source\": [], \"x_transforms_target\": [], \"episode_transforms_source\": [], \"episode_transforms_target\": [], \"num_examples_per_domain_per_label_source\": 1000, \"num_examples_per_domain_per_label_target\": 1000, \"n_way\": 16, \"n_query\": 2, \"train_k_factor\": 1, \"val_k_factor\": 2, \"test_k_factor\": 2, \"torch_default_dtype\": \"torch.float32\", \"n_epoch\": 50, \"patience\": 3, \"criteria_for_best\": \"target_loss\", \"x_net\": [{\"class\": \"nnReshape\", \"kargs\": {\"shape\": [-1, 1, 2, 256]}}, {\"class\": \"Conv2d\", \"kargs\": {\"in_channels\": 1, \"out_channels\": 256, \"kernel_size\": [1, 7], \"bias\": false, \"padding\": [0, 3]}}, {\"class\": \"ReLU\", \"kargs\": {\"inplace\": true}}, {\"class\": \"BatchNorm2d\", \"kargs\": {\"num_features\": 256}}, {\"class\": \"Conv2d\", \"kargs\": {\"in_channels\": 256, \"out_channels\": 80, \"kernel_size\": [2, 7], \"bias\": true, \"padding\": [0, 3]}}, {\"class\": \"ReLU\", \"kargs\": {\"inplace\": true}}, {\"class\": \"BatchNorm2d\", \"kargs\": {\"num_features\": 80}}, {\"class\": \"Flatten\", \"kargs\": {}}, {\"class\": \"Linear\", \"kargs\": {\"in_features\": 20480, \"out_features\": 256}}, {\"class\": \"ReLU\", \"kargs\": {\"inplace\": true}}, {\"class\": \"BatchNorm1d\", \"kargs\": {\"num_features\": 256}}, {\"class\": \"Linear\", \"kargs\": {\"in_features\": 256, \"out_features\": 256}}], \"NUM_LOGS_PER_EPOCH\": 10, \"BEST_MODEL_PATH\": \"./best_model.pth\", \"pickle_name\": \"oracle.Run2_10kExamples_stratified_ds.2022A.pkl\", \"n_shot\": 4, \"domains_source\": [8, 32, 50], \"domains_target\": [14, 20, 26, 38, 44]}, \"results\": {\"source_test_label_accuracy\": 0.783125, \"source_test_label_loss\": 0.5860410928726196, \"target_test_label_accuracy\": 0.6315, \"target_test_label_loss\": 1.161268711090088, \"source_val_label_accuracy\": 0.7775, \"source_val_label_loss\": 0.6018613576889038, \"target_val_label_accuracy\": 0.632125, \"target_val_label_loss\": 1.2399744987487793, \"total_epochs_trained\": 20, \"total_experiment_time_secs\": 267.4886403083801, \"confusion\": {\"8\": {\"15\": {\"15\": 86, \"12\": 10, \"2\": 4}, \"3\": {\"3\": 100}, \"6\": {\"8\": 19, \"1\": 3, \"11\": 2, \"14\": 24, \"6\": 50, \"4\": 2}, \"1\": {\"1\": 51, \"10\": 9, \"7\": 7, \"14\": 4, \"4\": 11, \"5\": 12, \"6\": 3, \"13\": 3}, \"8\": {\"8\": 64, \"6\": 17, \"11\": 12, \"14\": 2, \"4\": 5}, \"10\": {\"10\": 46, \"13\": 19, \"1\": 6, \"5\": 27, \"7\": 1, \"4\": 1}, \"9\": {\"9\": 100}, \"13\": {\"13\": 76, \"10\": 19, \"5\": 2, \"7\": 1, \"11\": 2}, \"12\": {\"12\": 93, \"15\": 5, \"2\": 2}, \"5\": {\"5\": 53, \"10\": 27, \"13\": 8, \"1\": 9, \"7\": 2, \"4\": 1}, \"0\": {\"0\": 100}, \"2\": {\"12\": 4, \"2\": 92, \"15\": 4}, \"11\": {\"11\": 49, \"6\": 9, \"8\": 25, \"7\": 12, \"14\": 1, \"4\": 1, \"12\": 1, \"13\": 2}, \"14\": {\"14\": 70, \"6\": 24, \"8\": 5, \"1\": 1}, \"7\": {\"7\": 69, \"11\": 3, \"4\": 17, \"1\": 7, \"5\": 2, \"10\": 2}, \"4\": {\"4\": 43, \"7\": 32, \"1\": 11, \"6\": 5, \"13\": 1, \"8\": 6, \"5\": 1, \"10\": 1}}, \"50\": {\"0\": {\"0\": 91, \"10\": 5, \"2\": 4}, \"11\": {\"11\": 91, \"12\": 9}, \"9\": {\"9\": 81, \"15\": 18, \"12\": 1}, \"1\": {\"1\": 93, \"13\": 5, \"11\": 2}, \"15\": {\"9\": 15, \"15\": 72, \"6\": 5, \"12\": 4, \"4\": 2, \"5\": 2}, \"6\": {\"6\": 78, \"15\": 9, \"5\": 12, \"12\": 1}, \"5\": {\"5\": 66, \"4\": 19, \"6\": 11, \"7\": 4}, \"4\": {\"4\": 75, \"5\": 20, \"7\": 4, \"15\": 1}, \"3\": {\"3\": 100}, \"14\": {\"14\": 98, \"2\": 2}, \"10\": {\"10\": 92, \"0\": 5, \"13\": 3}, \"13\": {\"13\": 92, \"1\": 7, \"8\": 1}, \"12\": {\"12\": 78, \"11\": 9, \"15\": 6, \"9\": 6, \"6\": 1}, \"2\": {\"2\": 94, \"0\": 5, \"14\": 1}, \"7\": {\"7\": 89, \"5\": 2, \"4\": 9}, \"8\": {\"8\": 100}}, \"32\": {\"15\": {\"15\": 90, \"5\": 10}, \"14\": {\"2\": 35, \"14\": 52, \"5\": 1, \"0\": 8, \"7\": 4}, \"12\": {\"12\": 100}, \"4\": {\"4\": 66, \"11\": 29, \"0\": 4, \"3\": 1}, \"5\": {\"5\": 83, \"15\": 15, \"2\": 2}, \"13\": {\"13\": 73, \"11\": 17, \"3\": 9, \"4\": 1}, \"2\": {\"14\": 34, \"7\": 17, \"2\": 37, \"0\": 11, \"8\": 1}, \"1\": {\"1\": 100}, \"0\": {\"0\": 55, \"2\": 9, \"8\": 12, \"7\": 15, \"4\": 4, \"14\": 5}, \"11\": {\"11\": 42, \"13\": 23, \"4\": 31, \"0\": 4}, \"7\": {\"0\": 7, \"8\": 24, \"2\": 22, \"7\": 44, \"15\": 2, \"14\": 1}, \"3\": {\"3\": 87, \"13\": 8, \"4\": 2, \"11\": 3}, \"6\": {\"6\": 100}, \"8\": {\"8\": 71, \"7\": 14, \"0\": 13, \"2\": 1, \"14\": 1}, \"9\": {\"9\": 100}, \"10\": {\"10\": 100}}, \"14\": {\"15\": {\"15\": 100}, \"3\": {\"3\": 84, \"7\": 8, \"6\": 3, \"14\": 1, \"13\": 1, \"2\": 2, \"5\": 1}, \"6\": {\"6\": 64, \"13\": 25, \"3\": 9, \"7\": 2}, \"1\": {\"1\": 100}, \"8\": {\"10\": 23, \"8\": 64, \"0\": 13}, \"10\": {\"3\": 8, \"10\": 41, \"8\": 29, \"0\": 11, \"5\": 7, \"6\": 1, \"12\": 2, \"4\": 1}, \"9\": {\"9\": 98, \"12\": 2}, \"13\": {\"6\": 32, \"13\": 67, \"3\": 1}, \"12\": {\"15\": 18, \"11\": 5, \"8\": 19, \"12\": 26, \"9\": 13, \"3\": 10, \"0\": 1, \"10\": 3, \"1\": 3, \"4\": 1, \"5\": 1}, \"5\": {\"14\": 24, \"2\": 21, \"5\": 52, \"4\": 1, \"10\": 1, \"0\": 1}, \"0\": {\"0\": 72, \"4\": 11, \"10\": 11, \"8\": 6}, \"2\": {\"7\": 20, \"5\": 25, \"14\": 26, \"2\": 19, \"0\": 1, \"3\": 6, \"4\": 3}, \"11\": {\"11\": 100}, \"14\": {\"2\": 19, \"14\": 38, \"7\": 5, \"5\": 35, \"10\": 2, \"3\": 1}, \"7\": {\"7\": 76, \"2\": 15, \"3\": 3, \"14\": 6}, \"4\": {\"4\": 82, \"0\": 15, \"5\": 2, \"10\": 1}}, \"20\": {\"0\": {\"0\": 87, \"8\": 4, \"1\": 4, \"11\": 4, \"5\": 1}, \"11\": {\"11\": 53, \"0\": 18, \"8\": 22, \"14\": 7}, \"9\": {\"9\": 19, \"15\": 22, \"2\": 19, \"4\": 10, \"7\": 6, \"3\": 9, \"5\": 9, \"13\": 1, \"1\": 5}, \"1\": {\"1\": 78, \"15\": 2, \"2\": 8, \"9\": 2, \"5\": 10}, \"15\": {\"15\": 28, \"13\": 10, \"2\": 14, \"9\": 21, \"3\": 5, \"5\": 7, \"4\": 4, \"7\": 4, \"12\": 4, \"1\": 3}, \"6\": {\"10\": 15, \"6\": 75, \"7\": 8, \"3\": 1, \"4\": 1}, \"5\": {\"15\": 6, \"3\": 11, \"1\": 16, \"5\": 34, \"4\": 3, \"7\": 4, \"9\": 11, \"2\": 15}, \"4\": {\"9\": 13, \"7\": 13, \"15\": 12, \"4\": 14, \"12\": 4, \"2\": 16, \"3\": 18, \"1\": 2, \"6\": 1, \"13\": 5, \"10\": 2}, \"3\": {\"4\": 16, \"7\": 16, \"3\": 21, \"2\": 17, \"5\": 8, \"15\": 9, \"9\": 9, \"10\": 4}, \"14\": {\"14\": 62, \"5\": 4, \"3\": 1, \"7\": 1, \"11\": 9, \"8\": 22, \"0\": 1}, \"10\": {\"6\": 18, \"12\": 10, \"10\": 56, \"7\": 10, \"13\": 5, \"4\": 1}, \"13\": {\"7\": 3, \"12\": 35, \"15\": 4, \"13\": 49, \"10\": 6, \"3\": 1, \"4\": 2}, \"12\": {\"12\": 45, \"13\": 40, \"10\": 11, \"7\": 1, \"4\": 1, \"15\": 2}, \"2\": {\"4\": 13, \"2\": 19, \"3\": 12, \"15\": 14, \"5\": 15, \"9\": 18, \"7\": 3, \"1\": 5, \"12\": 1}, \"7\": {\"3\": 14, \"7\": 40, \"4\": 15, \"9\": 5, \"10\": 6, \"2\": 3, \"5\": 4, \"15\": 4, \"6\": 7, \"12\": 2}, \"8\": {\"14\": 23, \"8\": 31, \"11\": 39, \"1\": 2, \"0\": 4, \"5\": 1}}, \"44\": {\"15\": {\"15\": 58, \"5\": 25, \"8\": 6, \"0\": 8, \"14\": 2, \"4\": 1}, \"14\": {\"14\": 84, \"4\": 13, \"5\": 3}, \"12\": {\"12\": 79, \"3\": 21}, \"4\": {\"14\": 20, \"4\": 80}, \"5\": {\"5\": 71, \"14\": 7, \"8\": 9, \"15\": 13}, \"13\": {\"13\": 93, \"4\": 3, \"6\": 3, \"9\": 1}, \"2\": {\"1\": 16, \"2\": 84}, \"1\": {\"2\": 19, \"1\": 81}, \"0\": {\"15\": 7, \"0\": 72, \"8\": 20, \"5\": 1}, \"11\": {\"11\": 100}, \"7\": {\"7\": 63, \"9\": 32, \"6\": 3, \"10\": 2}, \"3\": {\"3\": 86, \"12\": 14}, \"6\": {\"6\": 94, \"13\": 4, \"10\": 2}, \"8\": {\"8\": 72, \"15\": 4, \"0\": 13, \"5\": 11}, \"9\": {\"9\": 67, \"7\": 29, \"6\": 3, \"4\": 1}, \"10\": {\"10\": 82, \"7\": 11, \"9\": 4, \"6\": 3}}, \"26\": {\"9\": {\"9\": 54, \"2\": 16, \"8\": 19, \"13\": 5, \"7\": 3, \"0\": 1, \"10\": 1, \"15\": 1}, \"1\": {\"1\": 80, \"5\": 10, \"6\": 7, \"14\": 3}, \"11\": {\"11\": 100}, \"7\": {\"13\": 8, \"7\": 46, \"3\": 29, \"2\": 7, \"8\": 5, \"9\": 5}, \"10\": {\"15\": 17, \"10\": 23, \"6\": 6, \"0\": 24, \"14\": 20, \"8\": 5, \"2\": 1, \"9\": 1, \"5\": 1, \"1\": 1, \"12\": 1}, \"2\": {\"8\": 19, \"7\": 18, \"9\": 13, \"2\": 45, \"15\": 2, \"10\": 2, \"3\": 1}, \"0\": {\"8\": 1, \"0\": 28, \"15\": 29, \"10\": 28, \"2\": 2, \"14\": 11, \"6\": 1}, \"6\": {\"6\": 54, \"5\": 31, \"14\": 7, \"1\": 7, \"0\": 1}, \"3\": {\"3\": 75, \"7\": 19, \"9\": 1, \"2\": 3, \"8\": 1, \"13\": 1}, \"13\": {\"13\": 62, \"7\": 18, \"9\": 14, \"2\": 1, \"3\": 4, \"12\": 1}, \"5\": {\"5\": 33, \"6\": 32, \"1\": 19, \"14\": 12, \"10\": 3, \"0\": 1}, \"8\": {\"8\": 28, \"9\": 34, \"2\": 21, \"7\": 3, \"15\": 6, \"10\": 5, \"13\": 2, \"0\": 1}, \"15\": {\"0\": 8, \"15\": 63, \"2\": 8, \"14\": 4, \"8\": 5, \"10\": 9, \"9\": 3}, \"14\": {\"14\": 47, \"10\": 19, \"5\": 7, \"15\": 7, \"0\": 9, \"1\": 8, \"6\": 3}, \"4\": {\"4\": 99, \"3\": 1}, \"12\": {\"12\": 100}}, \"38\": {\"8\": {\"8\": 84, \"5\": 9, \"9\": 1, \"2\": 1, \"14\": 1, \"12\": 4}, \"1\": {\"1\": 85, \"15\": 14, \"6\": 1}, \"9\": {\"9\": 75, \"8\": 4, \"12\": 8, \"5\": 12, \"0\": 1}, \"3\": {\"10\": 25, \"13\": 22, \"3\": 34, \"11\": 4, \"4\": 15}, \"2\": {\"2\": 92, \"12\": 1, \"14\": 7}, \"10\": {\"4\": 21, \"3\": 23, \"10\": 47, \"13\": 9}, \"4\": {\"4\": 69, \"3\": 9, \"7\": 1, \"10\": 18, \"13\": 3}, \"6\": {\"6\": 84, \"15\": 14, \"1\": 2}, \"0\": {\"0\": 89, \"7\": 11}, \"13\": {\"10\": 22, \"4\": 1, \"13\": 50, \"3\": 27}, \"11\": {\"11\": 100}, \"12\": {\"5\": 37, \"12\": 50, \"9\": 11, \"8\": 2}, \"14\": {\"14\": 47, \"2\": 24, \"4\": 7, \"8\": 8, \"7\": 10, \"12\": 3, \"10\": 1}, \"5\": {\"9\": 5, \"12\": 40, \"8\": 30, \"5\": 23, \"0\": 2}, \"7\": {\"7\": 79, \"0\": 20, \"4\": 1}, \"15\": {\"15\": 52, \"1\": 24, \"6\": 23, \"5\": 1}}}, \"per_domain_accuracy\": {\"8\": {\"accuracy\": 0.71375, \"source?\": true}, \"50\": {\"accuracy\": 0.86875, \"source?\": true}, \"32\": {\"accuracy\": 0.75, \"source?\": true}, \"14\": {\"accuracy\": 0.676875, \"source?\": false}, \"20\": {\"accuracy\": 0.444375, \"source?\": false}, \"44\": {\"accuracy\": 0.79125, \"source?\": false}, \"26\": {\"accuracy\": 0.585625, \"source?\": false}, \"38\": {\"accuracy\": 0.6625, \"source?\": false}}}, \"history\": {\"epoch_indices\": [1, 2, 3, 4, 5, 6, 7, 8, 9, 10, 11, 12, 13, 14, 15, 16, 17, 18, 19, 20], \"train_label_loss\": [1.2561294446731437, 1.2780151360336391, 1.2222017077193863, 1.2019973172881138, 1.1720962431924096, 1.1663526767629318, 1.1389560976932789, 1.1221554810288308, 1.0144732376110965, 0.7436142977455567, 0.645628817122558, 0.570712245829489, 0.5258444420479494, 0.4943558920132018, 0.46281354403358765, 0.4407930738538846, 0.4202888908785308, 0.4046412667623539, 0.37920675934131803, 0.3541263118814463], \"source_val_label_loss\": [1.6903941631317139, 1.2360483407974243, 1.2530052661895752, 1.2299185991287231, 1.171448826789856, 1.1675446033477783, 1.176499366760254, 1.1919058561325073, 0.871148407459259, 0.7204062938690186, 0.7066161632537842, 0.6546177864074707, 0.6136603951454163, 0.625066339969635, 0.5990678071975708, 0.6018613576889038, 0.6266246438026428, 0.5794879794120789, 0.5998789072036743, 0.6147335171699524], \"target_val_label_loss\": [1.8317407369613647, 1.6825913190841675, 1.9134228229522705, 1.9563097953796387, 1.6810792684555054, 1.627744436264038, 1.7048852443695068, 1.8039822578430176, 1.749031901359558, 1.522146224975586, 1.372319221496582, 1.3609628677368164, 1.2563226222991943, 1.4112905263900757, 1.2928627729415894, 1.2399744987487793, 1.3931804895401, 1.2915985584259033, 1.304540753364563, 1.5181468725204468], \"source_val_acc_label\": [0.46458333333333335, 0.48375, 0.49125, 0.494375, 0.5158333333333334, 0.5102083333333334, 0.5072916666666667, 0.504375, 0.674375, 0.7210416666666667, 0.7325, 0.7529166666666667, 0.77, 0.7735416666666667, 0.775, 0.7775, 0.7816666666666666, 0.793125, 0.7908333333333334, 0.7872916666666666], \"target_val_acc_label\": [0.388, 0.39825, 0.412125, 0.410625, 0.419875, 0.42125, 0.427, 0.421375, 0.53125, 0.58925, 0.590375, 0.60975, 0.61575, 0.618625, 0.635, 0.632125, 0.639, 0.645875, 0.645625, 0.647375]}, \"dataset_metrics\": {\"source\": {\"train\": {\"n_unique_x\": 33408, \"n_unique_y\": 16, \"n_batch/episode\": 348}, \"val\": {\"n_unique_x\": 7200, \"n_unique_y\": 16, \"n_batch/episode\": 150}, \"test\": {\"n_unique_x\": 7200, \"n_unique_y\": 16, \"n_batch/episode\": 150}}, \"target\": {\"train\": {\"n_unique_x\": 55680, \"n_unique_y\": 16, \"n_batch/episode\": 580}, \"val\": {\"n_unique_x\": 12000, \"n_unique_y\": 16, \"n_batch/episode\": 250}, \"test\": {\"n_unique_x\": 12000, \"n_unique_y\": 16, \"n_batch/episode\": 250}}}}'"
      ]
     },
     "execution_count": 20,
     "metadata": {},
     "output_type": "execute_result"
    }
   ],
   "source": [
    "json.dumps(experiment)"
   ]
  }
 ],
 "metadata": {
  "celltoolbar": "Tags",
  "kernelspec": {
   "display_name": "Python 3 (ipykernel)",
   "language": "python",
   "name": "python3"
  },
  "language_info": {
   "codemirror_mode": {
    "name": "ipython",
    "version": 3
   },
   "file_extension": ".py",
   "mimetype": "text/x-python",
   "name": "python",
   "nbconvert_exporter": "python",
   "pygments_lexer": "ipython3",
   "version": "3.8.10"
  },
  "papermill": {
   "default_parameters": {},
   "duration": 288.636478,
   "end_time": "2022-03-05T00:31:50.267694",
   "environment_variables": {},
   "exception": null,
   "input_path": "/mnt/wd500GB/CSC500/csc500-main/csc500-notebooks/templates/ptn_template.ipynb",
   "output_path": "trial.ipynb",
   "parameters": {
    "parameters": {
     "BEST_MODEL_PATH": "./best_model.pth",
     "NUM_LOGS_PER_EPOCH": 10,
     "criteria_for_best": "target_loss",
     "dataset_seed": 1337,
     "device": "cuda",
     "domains_source": [
      8,
      32,
      50
     ],
     "domains_target": [
      14,
      20,
      26,
      38,
      44
     ],
     "episode_transforms_source": [],
     "episode_transforms_target": [],
     "experiment_name": "nShot_oracle.run2",
     "labels_source": [
      "3123D52",
      "3123D65",
      "3123D79",
      "3123D80",
      "3123D54",
      "3123D70",
      "3123D7B",
      "3123D89",
      "3123D58",
      "3123D76",
      "3123D7D",
      "3123EFE",
      "3123D64",
      "3123D78",
      "3123D7E",
      "3124E4A"
     ],
     "labels_target": [
      "3123D52",
      "3123D65",
      "3123D79",
      "3123D80",
      "3123D54",
      "3123D70",
      "3123D7B",
      "3123D89",
      "3123D58",
      "3123D76",
      "3123D7D",
      "3123EFE",
      "3123D64",
      "3123D78",
      "3123D7E",
      "3124E4A"
     ],
     "lr": 0.001,
     "n_epoch": 50,
     "n_query": 2,
     "n_shot": 4,
     "n_way": 16,
     "num_examples_per_domain_per_label_source": 1000,
     "num_examples_per_domain_per_label_target": 1000,
     "patience": 3,
     "pickle_name": "oracle.Run2_10kExamples_stratified_ds.2022A.pkl",
     "seed": 1337,
     "test_k_factor": 2,
     "torch_default_dtype": "torch.float32",
     "train_k_factor": 1,
     "val_k_factor": 2,
     "x_net": [
      {
       "class": "nnReshape",
       "kargs": {
        "shape": [
         -1,
         1,
         2,
         256
        ]
       }
      },
      {
       "class": "Conv2d",
       "kargs": {
        "bias": false,
        "in_channels": 1,
        "kernel_size": [
         1,
         7
        ],
        "out_channels": 256,
        "padding": [
         0,
         3
        ]
       }
      },
      {
       "class": "ReLU",
       "kargs": {
        "inplace": true
       }
      },
      {
       "class": "BatchNorm2d",
       "kargs": {
        "num_features": 256
       }
      },
      {
       "class": "Conv2d",
       "kargs": {
        "bias": true,
        "in_channels": 256,
        "kernel_size": [
         2,
         7
        ],
        "out_channels": 80,
        "padding": [
         0,
         3
        ]
       }
      },
      {
       "class": "ReLU",
       "kargs": {
        "inplace": true
       }
      },
      {
       "class": "BatchNorm2d",
       "kargs": {
        "num_features": 80
       }
      },
      {
       "class": "Flatten",
       "kargs": {}
      },
      {
       "class": "Linear",
       "kargs": {
        "in_features": 20480,
        "out_features": 256
       }
      },
      {
       "class": "ReLU",
       "kargs": {
        "inplace": true
       }
      },
      {
       "class": "BatchNorm1d",
       "kargs": {
        "num_features": 256
       }
      },
      {
       "class": "Linear",
       "kargs": {
        "in_features": 256,
        "out_features": 256
       }
      }
     ],
     "x_transforms_source": [],
     "x_transforms_target": []
    }
   },
   "start_time": "2022-03-05T00:27:01.631216",
   "version": "2.3.4"
  }
 },
 "nbformat": 4,
 "nbformat_minor": 5
}