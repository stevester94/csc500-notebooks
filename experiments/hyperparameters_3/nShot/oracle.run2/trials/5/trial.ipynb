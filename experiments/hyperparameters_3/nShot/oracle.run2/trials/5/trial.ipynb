{
 "cells": [
  {
   "cell_type": "markdown",
   "id": "9fea5f46",
   "metadata": {
    "papermill": {
     "duration": 0.013362,
     "end_time": "2022-03-05T00:40:09.140121",
     "exception": false,
     "start_time": "2022-03-05T00:40:09.126759",
     "status": "completed"
    },
    "tags": []
   },
   "source": [
    "# PTN Template\n",
    "This notebook serves as a template for single dataset PTN experiments  \n",
    "It can be run on its own by setting STANDALONE to True (do a find for \"STANDALONE\" to see where)  \n",
    "But it is intended to be executed as part of a *papermill.py script. See any of the   \n",
    "experimentes with a papermill script to get started with that workflow.  "
   ]
  },
  {
   "cell_type": "code",
   "execution_count": 1,
   "id": "0902182a",
   "metadata": {
    "execution": {
     "iopub.execute_input": "2022-03-05T00:40:09.172616Z",
     "iopub.status.busy": "2022-03-05T00:40:09.170963Z",
     "iopub.status.idle": "2022-03-05T00:40:09.911981Z",
     "shell.execute_reply": "2022-03-05T00:40:09.911485Z"
    },
    "papermill": {
     "duration": 0.762681,
     "end_time": "2022-03-05T00:40:09.912093",
     "exception": false,
     "start_time": "2022-03-05T00:40:09.149412",
     "status": "completed"
    },
    "tags": []
   },
   "outputs": [],
   "source": [
    "%load_ext autoreload\n",
    "%autoreload 2\n",
    "%matplotlib inline\n",
    "\n",
    "    \n",
    "import os, json, sys, time, random\n",
    "import numpy as np\n",
    "import torch\n",
    "from torch.optim import Adam\n",
    "from  easydict import EasyDict\n",
    "import matplotlib.pyplot as plt\n",
    "\n",
    "from steves_models.steves_ptn import Steves_Prototypical_Network\n",
    "\n",
    "from steves_utils.lazy_iterable_wrapper import Lazy_Iterable_Wrapper\n",
    "from steves_utils.iterable_aggregator import Iterable_Aggregator\n",
    "from steves_utils.ptn_train_eval_test_jig import  PTN_Train_Eval_Test_Jig\n",
    "from steves_utils.torch_sequential_builder import build_sequential\n",
    "from steves_utils.torch_utils import get_dataset_metrics, ptn_confusion_by_domain_over_dataloader\n",
    "from steves_utils.utils_v2 import (per_domain_accuracy_from_confusion, get_datasets_base_path)\n",
    "from steves_utils.PTN.utils import independent_accuracy_assesment\n",
    "\n",
    "from steves_utils.stratified_dataset.episodic_accessor import Episodic_Accessor_Factory\n",
    "\n",
    "from steves_utils.ptn_do_report import (\n",
    "    get_loss_curve,\n",
    "    get_results_table,\n",
    "    get_parameters_table,\n",
    "    get_domain_accuracies,\n",
    ")\n",
    "\n",
    "from steves_utils.transforms import get_chained_transform"
   ]
  },
  {
   "cell_type": "markdown",
   "id": "41c840b4",
   "metadata": {
    "papermill": {
     "duration": 0.009585,
     "end_time": "2022-03-05T00:40:09.938633",
     "exception": false,
     "start_time": "2022-03-05T00:40:09.929048",
     "status": "completed"
    },
    "tags": []
   },
   "source": [
    "# Required Parameters\n",
    "These are allowed parameters, not defaults\n",
    "Each of these values need to be present in the injected parameters (the notebook will raise an exception if they are not present)\n",
    "\n",
    "Papermill uses the cell tag \"parameters\" to inject the real parameters below this cell.\n",
    "Enable tags to see what I mean"
   ]
  },
  {
   "cell_type": "code",
   "execution_count": 2,
   "id": "fd44eb83",
   "metadata": {
    "execution": {
     "iopub.execute_input": "2022-03-05T00:40:09.960891Z",
     "iopub.status.busy": "2022-03-05T00:40:09.960624Z",
     "iopub.status.idle": "2022-03-05T00:40:09.972884Z",
     "shell.execute_reply": "2022-03-05T00:40:09.972492Z"
    },
    "papermill": {
     "duration": 0.024657,
     "end_time": "2022-03-05T00:40:09.972975",
     "exception": false,
     "start_time": "2022-03-05T00:40:09.948318",
     "status": "completed"
    },
    "tags": []
   },
   "outputs": [],
   "source": [
    "required_parameters = {\n",
    "    \"experiment_name\",\n",
    "    \"lr\",\n",
    "    \"device\",\n",
    "    \"seed\",\n",
    "    \"dataset_seed\",\n",
    "    \"labels_source\",\n",
    "    \"labels_target\",\n",
    "    \"domains_source\",\n",
    "    \"domains_target\",\n",
    "    \"num_examples_per_domain_per_label_source\",\n",
    "    \"num_examples_per_domain_per_label_target\",\n",
    "    \"n_shot\",\n",
    "    \"n_way\",\n",
    "    \"n_query\",\n",
    "    \"train_k_factor\",\n",
    "    \"val_k_factor\",\n",
    "    \"test_k_factor\",\n",
    "    \"n_epoch\",\n",
    "    \"patience\",\n",
    "    \"criteria_for_best\",\n",
    "    \"x_transforms_source\",\n",
    "    \"x_transforms_target\",\n",
    "    \"episode_transforms_source\",\n",
    "    \"episode_transforms_target\",\n",
    "    \"pickle_name\",\n",
    "    \"x_net\",\n",
    "    \"NUM_LOGS_PER_EPOCH\",\n",
    "    \"BEST_MODEL_PATH\",\n",
    "    \"torch_default_dtype\"\n",
    "}"
   ]
  },
  {
   "cell_type": "code",
   "execution_count": 3,
   "id": "fa3f0049",
   "metadata": {
    "execution": {
     "iopub.execute_input": "2022-03-05T00:40:10.004293Z",
     "iopub.status.busy": "2022-03-05T00:40:10.001203Z",
     "iopub.status.idle": "2022-03-05T00:40:10.014401Z",
     "shell.execute_reply": "2022-03-05T00:40:10.014005Z"
    },
    "papermill": {
     "duration": 0.029187,
     "end_time": "2022-03-05T00:40:10.014494",
     "exception": false,
     "start_time": "2022-03-05T00:40:09.985307",
     "status": "completed"
    },
    "tags": [
     "parameters"
    ]
   },
   "outputs": [],
   "source": [
    "\n",
    "\n",
    "standalone_parameters = {}\n",
    "standalone_parameters[\"experiment_name\"] = \"STANDALONE PTN\"\n",
    "standalone_parameters[\"lr\"] = 0.0001\n",
    "standalone_parameters[\"device\"] = \"cuda\"\n",
    "\n",
    "standalone_parameters[\"seed\"] = 1337\n",
    "standalone_parameters[\"dataset_seed\"] = 1337\n",
    "\n",
    "\n",
    "standalone_parameters[\"num_examples_per_domain_per_label_source\"]=100\n",
    "standalone_parameters[\"num_examples_per_domain_per_label_target\"]=100\n",
    "\n",
    "standalone_parameters[\"n_shot\"] = 3\n",
    "standalone_parameters[\"n_query\"]  = 2\n",
    "standalone_parameters[\"train_k_factor\"] = 1\n",
    "standalone_parameters[\"val_k_factor\"] = 2\n",
    "standalone_parameters[\"test_k_factor\"] = 2\n",
    "\n",
    "\n",
    "standalone_parameters[\"n_epoch\"] = 100\n",
    "\n",
    "standalone_parameters[\"patience\"] = 10\n",
    "standalone_parameters[\"criteria_for_best\"] = \"target_accuracy\"\n",
    "\n",
    "standalone_parameters[\"x_transforms_source\"] = [\"unit_power\"]\n",
    "standalone_parameters[\"x_transforms_target\"] = [\"unit_power\"]\n",
    "standalone_parameters[\"episode_transforms_source\"] = []\n",
    "standalone_parameters[\"episode_transforms_target\"] = []\n",
    "\n",
    "standalone_parameters[\"torch_default_dtype\"] = \"torch.float32\" \n",
    "\n",
    "\n",
    "\n",
    "standalone_parameters[\"x_net\"] =     [\n",
    "    {\"class\": \"nnReshape\", \"kargs\": {\"shape\":[-1, 1, 2, 256]}},\n",
    "    {\"class\": \"Conv2d\", \"kargs\": { \"in_channels\":1, \"out_channels\":256, \"kernel_size\":(1,7), \"bias\":False, \"padding\":(0,3), },},\n",
    "    {\"class\": \"ReLU\", \"kargs\": {\"inplace\": True}},\n",
    "    {\"class\": \"BatchNorm2d\", \"kargs\": {\"num_features\":256}},\n",
    "\n",
    "    {\"class\": \"Conv2d\", \"kargs\": { \"in_channels\":256, \"out_channels\":80, \"kernel_size\":(2,7), \"bias\":True, \"padding\":(0,3), },},\n",
    "    {\"class\": \"ReLU\", \"kargs\": {\"inplace\": True}},\n",
    "    {\"class\": \"BatchNorm2d\", \"kargs\": {\"num_features\":80}},\n",
    "    {\"class\": \"Flatten\", \"kargs\": {}},\n",
    "\n",
    "    {\"class\": \"Linear\", \"kargs\": {\"in_features\": 80*256, \"out_features\": 256}}, # 80 units per IQ pair\n",
    "    {\"class\": \"ReLU\", \"kargs\": {\"inplace\": True}},\n",
    "    {\"class\": \"BatchNorm1d\", \"kargs\": {\"num_features\":256}},\n",
    "\n",
    "    {\"class\": \"Linear\", \"kargs\": {\"in_features\": 256, \"out_features\": 256}},\n",
    "]\n",
    "\n",
    "# Parameters relevant to results\n",
    "# These parameters will basically never need to change\n",
    "standalone_parameters[\"NUM_LOGS_PER_EPOCH\"] = 10\n",
    "standalone_parameters[\"BEST_MODEL_PATH\"] = \"./best_model.pth\"\n",
    "\n",
    "# uncomment for CORES dataset\n",
    "from steves_utils.CORES.utils import (\n",
    "    ALL_NODES,\n",
    "    ALL_NODES_MINIMUM_1000_EXAMPLES,\n",
    "    ALL_DAYS\n",
    ")\n",
    "\n",
    "\n",
    "standalone_parameters[\"labels_source\"] = ALL_NODES\n",
    "standalone_parameters[\"labels_target\"] = ALL_NODES\n",
    "\n",
    "standalone_parameters[\"domains_source\"] = [1]\n",
    "standalone_parameters[\"domains_target\"] = [2,3,4,5]\n",
    "\n",
    "standalone_parameters[\"pickle_name\"] = \"cores.stratified_ds.2022A.pkl\"\n",
    "\n",
    "\n",
    "# Uncomment these for ORACLE dataset\n",
    "# from steves_utils.ORACLE.utils_v2 import (\n",
    "#     ALL_DISTANCES_FEET,\n",
    "#     ALL_RUNS,\n",
    "#     ALL_SERIAL_NUMBERS,\n",
    "# )\n",
    "# standalone_parameters[\"labels_source\"] = ALL_SERIAL_NUMBERS\n",
    "# standalone_parameters[\"labels_target\"] = ALL_SERIAL_NUMBERS\n",
    "# standalone_parameters[\"domains_source\"] = [8,20, 38,50]\n",
    "# standalone_parameters[\"domains_target\"] = [14, 26, 32, 44, 56]\n",
    "# standalone_parameters[\"pickle_name\"] = \"oracle.frame_indexed.stratified_ds.2022A.pkl\"\n",
    "# standalone_parameters[\"num_examples_per_domain_per_label_source\"]=1000\n",
    "# standalone_parameters[\"num_examples_per_domain_per_label_target\"]=1000\n",
    "\n",
    "# Uncomment these for Metahan dataset\n",
    "# standalone_parameters[\"labels_source\"] = list(range(19))\n",
    "# standalone_parameters[\"labels_target\"] = list(range(19))\n",
    "# standalone_parameters[\"domains_source\"] = [0]\n",
    "# standalone_parameters[\"domains_target\"] = [1]\n",
    "# standalone_parameters[\"pickle_name\"] = \"metehan.stratified_ds.2022A.pkl\"\n",
    "# standalone_parameters[\"n_way\"]  = len(standalone_parameters[\"labels_source\"])\n",
    "# standalone_parameters[\"num_examples_per_domain_per_label_source\"]=200\n",
    "# standalone_parameters[\"num_examples_per_domain_per_label_target\"]=100\n",
    "\n",
    "\n",
    "standalone_parameters[\"n_way\"]  = len(standalone_parameters[\"labels_source\"])"
   ]
  },
  {
   "cell_type": "code",
   "execution_count": 4,
   "id": "9f3a3b49",
   "metadata": {
    "execution": {
     "iopub.execute_input": "2022-03-05T00:40:10.045730Z",
     "iopub.status.busy": "2022-03-05T00:40:10.045320Z",
     "iopub.status.idle": "2022-03-05T00:40:10.056022Z",
     "shell.execute_reply": "2022-03-05T00:40:10.055628Z"
    },
    "papermill": {
     "duration": 0.028068,
     "end_time": "2022-03-05T00:40:10.056121",
     "exception": false,
     "start_time": "2022-03-05T00:40:10.028053",
     "status": "completed"
    },
    "tags": [
     "injected-parameters"
    ]
   },
   "outputs": [],
   "source": [
    "# Parameters\n",
    "parameters = {\n",
    "    \"experiment_name\": \"nShot_oracle.run2\",\n",
    "    \"device\": \"cuda\",\n",
    "    \"lr\": 0.001,\n",
    "    \"seed\": 1337,\n",
    "    \"dataset_seed\": 1337,\n",
    "    \"labels_source\": [\n",
    "        \"3123D52\",\n",
    "        \"3123D65\",\n",
    "        \"3123D79\",\n",
    "        \"3123D80\",\n",
    "        \"3123D54\",\n",
    "        \"3123D70\",\n",
    "        \"3123D7B\",\n",
    "        \"3123D89\",\n",
    "        \"3123D58\",\n",
    "        \"3123D76\",\n",
    "        \"3123D7D\",\n",
    "        \"3123EFE\",\n",
    "        \"3123D64\",\n",
    "        \"3123D78\",\n",
    "        \"3123D7E\",\n",
    "        \"3124E4A\",\n",
    "    ],\n",
    "    \"labels_target\": [\n",
    "        \"3123D52\",\n",
    "        \"3123D65\",\n",
    "        \"3123D79\",\n",
    "        \"3123D80\",\n",
    "        \"3123D54\",\n",
    "        \"3123D70\",\n",
    "        \"3123D7B\",\n",
    "        \"3123D89\",\n",
    "        \"3123D58\",\n",
    "        \"3123D76\",\n",
    "        \"3123D7D\",\n",
    "        \"3123EFE\",\n",
    "        \"3123D64\",\n",
    "        \"3123D78\",\n",
    "        \"3123D7E\",\n",
    "        \"3124E4A\",\n",
    "    ],\n",
    "    \"x_transforms_source\": [],\n",
    "    \"x_transforms_target\": [],\n",
    "    \"episode_transforms_source\": [],\n",
    "    \"episode_transforms_target\": [],\n",
    "    \"num_examples_per_domain_per_label_source\": 1000,\n",
    "    \"num_examples_per_domain_per_label_target\": 1000,\n",
    "    \"n_way\": 16,\n",
    "    \"n_query\": 2,\n",
    "    \"train_k_factor\": 1,\n",
    "    \"val_k_factor\": 2,\n",
    "    \"test_k_factor\": 2,\n",
    "    \"torch_default_dtype\": \"torch.float32\",\n",
    "    \"n_epoch\": 50,\n",
    "    \"patience\": 3,\n",
    "    \"criteria_for_best\": \"target_loss\",\n",
    "    \"x_net\": [\n",
    "        {\"class\": \"nnReshape\", \"kargs\": {\"shape\": [-1, 1, 2, 256]}},\n",
    "        {\n",
    "            \"class\": \"Conv2d\",\n",
    "            \"kargs\": {\n",
    "                \"in_channels\": 1,\n",
    "                \"out_channels\": 256,\n",
    "                \"kernel_size\": [1, 7],\n",
    "                \"bias\": False,\n",
    "                \"padding\": [0, 3],\n",
    "            },\n",
    "        },\n",
    "        {\"class\": \"ReLU\", \"kargs\": {\"inplace\": True}},\n",
    "        {\"class\": \"BatchNorm2d\", \"kargs\": {\"num_features\": 256}},\n",
    "        {\n",
    "            \"class\": \"Conv2d\",\n",
    "            \"kargs\": {\n",
    "                \"in_channels\": 256,\n",
    "                \"out_channels\": 80,\n",
    "                \"kernel_size\": [2, 7],\n",
    "                \"bias\": True,\n",
    "                \"padding\": [0, 3],\n",
    "            },\n",
    "        },\n",
    "        {\"class\": \"ReLU\", \"kargs\": {\"inplace\": True}},\n",
    "        {\"class\": \"BatchNorm2d\", \"kargs\": {\"num_features\": 80}},\n",
    "        {\"class\": \"Flatten\", \"kargs\": {}},\n",
    "        {\"class\": \"Linear\", \"kargs\": {\"in_features\": 20480, \"out_features\": 256}},\n",
    "        {\"class\": \"ReLU\", \"kargs\": {\"inplace\": True}},\n",
    "        {\"class\": \"BatchNorm1d\", \"kargs\": {\"num_features\": 256}},\n",
    "        {\"class\": \"Linear\", \"kargs\": {\"in_features\": 256, \"out_features\": 256}},\n",
    "    ],\n",
    "    \"NUM_LOGS_PER_EPOCH\": 10,\n",
    "    \"BEST_MODEL_PATH\": \"./best_model.pth\",\n",
    "    \"pickle_name\": \"oracle.Run2_10kExamples_stratified_ds.2022A.pkl\",\n",
    "    \"n_shot\": 5,\n",
    "    \"domains_source\": [8, 32, 50],\n",
    "    \"domains_target\": [14, 20, 26, 38, 44],\n",
    "}\n"
   ]
  },
  {
   "cell_type": "code",
   "execution_count": 5,
   "id": "8fa1cc33",
   "metadata": {
    "execution": {
     "iopub.execute_input": "2022-03-05T00:40:10.084410Z",
     "iopub.status.busy": "2022-03-05T00:40:10.084155Z",
     "iopub.status.idle": "2022-03-05T00:40:10.092957Z",
     "shell.execute_reply": "2022-03-05T00:40:10.092539Z"
    },
    "papermill": {
     "duration": 0.021754,
     "end_time": "2022-03-05T00:40:10.093054",
     "exception": false,
     "start_time": "2022-03-05T00:40:10.071300",
     "status": "completed"
    },
    "tags": []
   },
   "outputs": [],
   "source": [
    "# Set this to True if you want to run this template directly\n",
    "STANDALONE = False\n",
    "if STANDALONE:\n",
    "    print(\"parameters not injected, running with standalone_parameters\")\n",
    "    parameters = standalone_parameters\n",
    "\n",
    "if not 'parameters' in locals() and not 'parameters' in globals():\n",
    "    raise Exception(\"Parameter injection failed\")\n",
    "\n",
    "#Use an easy dict for all the parameters\n",
    "p = EasyDict(parameters)\n",
    "\n",
    "supplied_keys = set(p.keys())\n",
    "\n",
    "if  supplied_keys != required_parameters:\n",
    "    print(\"Parameters are incorrect\")\n",
    "    if len(supplied_keys - required_parameters)>0: print(\"Shouldn't have:\", str(supplied_keys - required_parameters))\n",
    "    if len(required_parameters - supplied_keys)>0: print(\"Need to have:\", str(required_parameters - supplied_keys))\n",
    "    raise RuntimeError(\"Parameters are incorrect\")\n",
    "\n"
   ]
  },
  {
   "cell_type": "code",
   "execution_count": 6,
   "id": "3a028d58",
   "metadata": {
    "execution": {
     "iopub.execute_input": "2022-03-05T00:40:10.117988Z",
     "iopub.status.busy": "2022-03-05T00:40:10.117737Z",
     "iopub.status.idle": "2022-03-05T00:40:10.130254Z",
     "shell.execute_reply": "2022-03-05T00:40:10.130034Z"
    },
    "papermill": {
     "duration": 0.024349,
     "end_time": "2022-03-05T00:40:10.130304",
     "exception": false,
     "start_time": "2022-03-05T00:40:10.105955",
     "status": "completed"
    },
    "tags": []
   },
   "outputs": [],
   "source": [
    "###################################\n",
    "# Set the RNGs and make it all deterministic\n",
    "###################################\n",
    "np.random.seed(p.seed)\n",
    "random.seed(p.seed)\n",
    "torch.manual_seed(p.seed)\n",
    "\n",
    "torch.use_deterministic_algorithms(True) "
   ]
  },
  {
   "cell_type": "code",
   "execution_count": 7,
   "id": "b691acf6",
   "metadata": {
    "execution": {
     "iopub.execute_input": "2022-03-05T00:40:10.154899Z",
     "iopub.status.busy": "2022-03-05T00:40:10.154639Z",
     "iopub.status.idle": "2022-03-05T00:40:10.165688Z",
     "shell.execute_reply": "2022-03-05T00:40:10.165384Z"
    },
    "papermill": {
     "duration": 0.022371,
     "end_time": "2022-03-05T00:40:10.165758",
     "exception": false,
     "start_time": "2022-03-05T00:40:10.143387",
     "status": "completed"
    },
    "tags": []
   },
   "outputs": [],
   "source": [
    "###########################################\n",
    "# The stratified datasets honor this\n",
    "###########################################\n",
    "torch.set_default_dtype(eval(p.torch_default_dtype))"
   ]
  },
  {
   "cell_type": "code",
   "execution_count": 8,
   "id": "b5fba671",
   "metadata": {
    "execution": {
     "iopub.execute_input": "2022-03-05T00:40:10.191157Z",
     "iopub.status.busy": "2022-03-05T00:40:10.190905Z",
     "iopub.status.idle": "2022-03-05T00:40:10.228486Z",
     "shell.execute_reply": "2022-03-05T00:40:10.228867Z"
    },
    "papermill": {
     "duration": 0.049521,
     "end_time": "2022-03-05T00:40:10.228995",
     "exception": false,
     "start_time": "2022-03-05T00:40:10.179474",
     "status": "completed"
    },
    "tags": []
   },
   "outputs": [],
   "source": [
    "###################################\n",
    "# Build the network(s)\n",
    "# Note: It's critical to do this AFTER setting the RNG\n",
    "# (This is due to the randomized initial weights)\n",
    "###################################\n",
    "x_net = build_sequential(p.x_net)"
   ]
  },
  {
   "cell_type": "code",
   "execution_count": 9,
   "id": "5d7e61cc",
   "metadata": {
    "execution": {
     "iopub.execute_input": "2022-03-05T00:40:10.255274Z",
     "iopub.status.busy": "2022-03-05T00:40:10.255025Z",
     "iopub.status.idle": "2022-03-05T00:40:10.267734Z",
     "shell.execute_reply": "2022-03-05T00:40:10.267347Z"
    },
    "papermill": {
     "duration": 0.024429,
     "end_time": "2022-03-05T00:40:10.267824",
     "exception": false,
     "start_time": "2022-03-05T00:40:10.243395",
     "status": "completed"
    },
    "tags": []
   },
   "outputs": [],
   "source": [
    "start_time_secs = time.time()"
   ]
  },
  {
   "cell_type": "code",
   "execution_count": 10,
   "id": "fd5442bc",
   "metadata": {
    "execution": {
     "iopub.execute_input": "2022-03-05T00:40:10.300338Z",
     "iopub.status.busy": "2022-03-05T00:40:10.300068Z",
     "iopub.status.idle": "2022-03-05T00:40:13.643936Z",
     "shell.execute_reply": "2022-03-05T00:40:13.643686Z"
    },
    "papermill": {
     "duration": 3.361532,
     "end_time": "2022-03-05T00:40:13.644000",
     "exception": false,
     "start_time": "2022-03-05T00:40:10.282468",
     "status": "completed"
    },
    "tags": []
   },
   "outputs": [],
   "source": [
    "###################################\n",
    "# Build the dataset\n",
    "###################################\n",
    "\n",
    "if p.x_transforms_source == []: x_transform_source = None\n",
    "else: x_transform_source = get_chained_transform(p.x_transforms_source) \n",
    "\n",
    "if p.x_transforms_target == []: x_transform_target = None\n",
    "else: x_transform_target = get_chained_transform(p.x_transforms_target)\n",
    "\n",
    "if p.episode_transforms_source == []: episode_transform_source = None\n",
    "else: raise Exception(\"episode_transform_source not implemented\")\n",
    "\n",
    "if p.episode_transforms_target == []: episode_transform_target = None\n",
    "else: raise Exception(\"episode_transform_target not implemented\")\n",
    "\n",
    "\n",
    "eaf_source = Episodic_Accessor_Factory(\n",
    "    labels=p.labels_source,\n",
    "    domains=p.domains_source,\n",
    "    num_examples_per_domain_per_label=p.num_examples_per_domain_per_label_source,\n",
    "    iterator_seed=p.seed,\n",
    "    dataset_seed=p.dataset_seed,\n",
    "    n_shot=p.n_shot,\n",
    "    n_way=p.n_way,\n",
    "    n_query=p.n_query,\n",
    "    train_val_test_k_factors=(p.train_k_factor,p.val_k_factor,p.test_k_factor),\n",
    "    pickle_path=os.path.join(get_datasets_base_path(), p.pickle_name),\n",
    "    x_transform_func=x_transform_source,\n",
    "    example_transform_func=episode_transform_source,\n",
    "    \n",
    ")\n",
    "train_original_source, val_original_source, test_original_source = eaf_source.get_train(), eaf_source.get_val(), eaf_source.get_test()\n",
    "\n",
    "\n",
    "eaf_target = Episodic_Accessor_Factory(\n",
    "    labels=p.labels_target,\n",
    "    domains=p.domains_target,\n",
    "    num_examples_per_domain_per_label=p.num_examples_per_domain_per_label_target,\n",
    "    iterator_seed=p.seed,\n",
    "    dataset_seed=p.dataset_seed,\n",
    "    n_shot=p.n_shot,\n",
    "    n_way=p.n_way,\n",
    "    n_query=p.n_query,\n",
    "    train_val_test_k_factors=(p.train_k_factor,p.val_k_factor,p.test_k_factor),\n",
    "    pickle_path=os.path.join(get_datasets_base_path(), p.pickle_name),\n",
    "    x_transform_func=x_transform_target,\n",
    "    example_transform_func=episode_transform_target,\n",
    ")\n",
    "train_original_target, val_original_target, test_original_target = eaf_target.get_train(), eaf_target.get_val(), eaf_target.get_test()\n",
    "\n",
    "\n",
    "transform_lambda = lambda ex: ex[1] # Original is (<domain>, <episode>) so we strip down to episode only\n",
    "\n",
    "train_processed_source = Lazy_Iterable_Wrapper(train_original_source, transform_lambda)\n",
    "val_processed_source   = Lazy_Iterable_Wrapper(val_original_source, transform_lambda)\n",
    "test_processed_source  = Lazy_Iterable_Wrapper(test_original_source, transform_lambda)\n",
    "\n",
    "train_processed_target = Lazy_Iterable_Wrapper(train_original_target, transform_lambda)\n",
    "val_processed_target   = Lazy_Iterable_Wrapper(val_original_target, transform_lambda)\n",
    "test_processed_target  = Lazy_Iterable_Wrapper(test_original_target, transform_lambda)\n",
    "\n",
    "datasets = EasyDict({\n",
    "    \"source\": {\n",
    "        \"original\": {\"train\":train_original_source, \"val\":val_original_source, \"test\":test_original_source},\n",
    "        \"processed\": {\"train\":train_processed_source, \"val\":val_processed_source, \"test\":test_processed_source}\n",
    "    },\n",
    "    \"target\": {\n",
    "        \"original\": {\"train\":train_original_target, \"val\":val_original_target, \"test\":test_original_target},\n",
    "        \"processed\": {\"train\":train_processed_target, \"val\":val_processed_target, \"test\":test_processed_target}\n",
    "    },\n",
    "})"
   ]
  },
  {
   "cell_type": "code",
   "execution_count": 11,
   "id": "296189d9",
   "metadata": {
    "execution": {
     "iopub.execute_input": "2022-03-05T00:40:13.670279Z",
     "iopub.status.busy": "2022-03-05T00:40:13.669891Z",
     "iopub.status.idle": "2022-03-05T00:40:15.243074Z",
     "shell.execute_reply": "2022-03-05T00:40:15.243596Z"
    },
    "papermill": {
     "duration": 1.588619,
     "end_time": "2022-03-05T00:40:15.243743",
     "exception": false,
     "start_time": "2022-03-05T00:40:13.655124",
     "status": "completed"
    },
    "tags": []
   },
   "outputs": [
    {
     "name": "stdout",
     "output_type": "stream",
     "text": [
      "Visually inspect these to see if they line up with expected values given the transforms\n",
      "x_transforms_source []\n",
      "x_transforms_target []\n",
      "Average magnitude, source: 0.0048382003\n",
      "Average power, source: 3.0713705e-05\n"
     ]
    },
    {
     "name": "stdout",
     "output_type": "stream",
     "text": [
      "Average magnitude, target: 0.0028746598\n",
      "Average power, target: 1.0862442e-05\n"
     ]
    }
   ],
   "source": [
    "# Some quick unit tests on the data\n",
    "from steves_utils.transforms import get_average_power, get_average_magnitude\n",
    "\n",
    "q_x, q_y, s_x, s_y, truth = next(iter(train_processed_source))\n",
    "\n",
    "assert q_x.dtype == eval(p.torch_default_dtype)\n",
    "assert s_x.dtype == eval(p.torch_default_dtype)\n",
    "\n",
    "print(\"Visually inspect these to see if they line up with expected values given the transforms\")\n",
    "print('x_transforms_source', p.x_transforms_source)\n",
    "print('x_transforms_target', p.x_transforms_target)\n",
    "print(\"Average magnitude, source:\", get_average_magnitude(q_x[0].numpy()))\n",
    "print(\"Average power, source:\", get_average_power(q_x[0].numpy()))\n",
    "\n",
    "q_x, q_y, s_x, s_y, truth = next(iter(train_processed_target))\n",
    "print(\"Average magnitude, target:\", get_average_magnitude(q_x[0].numpy()))\n",
    "print(\"Average power, target:\", get_average_power(q_x[0].numpy()))\n"
   ]
  },
  {
   "cell_type": "code",
   "execution_count": 12,
   "id": "bbdacba1",
   "metadata": {
    "execution": {
     "iopub.execute_input": "2022-03-05T00:40:15.275672Z",
     "iopub.status.busy": "2022-03-05T00:40:15.275332Z",
     "iopub.status.idle": "2022-03-05T00:40:15.337242Z",
     "shell.execute_reply": "2022-03-05T00:40:15.336751Z"
    },
    "papermill": {
     "duration": 0.076251,
     "end_time": "2022-03-05T00:40:15.337349",
     "exception": false,
     "start_time": "2022-03-05T00:40:15.261098",
     "status": "completed"
    },
    "tags": []
   },
   "outputs": [
    {
     "name": "stdout",
     "output_type": "stream",
     "text": [
      "(2, 256)\n"
     ]
    }
   ],
   "source": [
    "###################################\n",
    "# Build the model\n",
    "###################################\n",
    "model = Steves_Prototypical_Network(x_net, device=p.device, x_shape=(2,256))\n",
    "optimizer = Adam(params=model.parameters(), lr=p.lr)"
   ]
  },
  {
   "cell_type": "code",
   "execution_count": 13,
   "id": "22b39ac5",
   "metadata": {
    "execution": {
     "iopub.execute_input": "2022-03-05T00:40:15.367489Z",
     "iopub.status.busy": "2022-03-05T00:40:15.367234Z",
     "iopub.status.idle": "2022-03-05T00:43:20.888356Z",
     "shell.execute_reply": "2022-03-05T00:43:20.888121Z"
    },
    "papermill": {
     "duration": 185.534953,
     "end_time": "2022-03-05T00:43:20.888415",
     "exception": false,
     "start_time": "2022-03-05T00:40:15.353462",
     "status": "completed"
    },
    "tags": []
   },
   "outputs": [
    {
     "name": "stdout",
     "output_type": "stream",
     "text": [
      "epoch: 1, [batch: 1 / 300], examples_per_second: 802.9112, train_label_loss: 2.2817, \n"
     ]
    },
    {
     "name": "stdout",
     "output_type": "stream",
     "text": [
      "epoch: 1, [batch: 30 / 300], examples_per_second: 3516.4698, train_label_loss: 1.3327, \n"
     ]
    },
    {
     "name": "stdout",
     "output_type": "stream",
     "text": [
      "epoch: 1, [batch: 60 / 300], examples_per_second: 3614.6052, train_label_loss: 1.4871, \n"
     ]
    },
    {
     "name": "stdout",
     "output_type": "stream",
     "text": [
      "epoch: 1, [batch: 90 / 300], examples_per_second: 3610.4076, train_label_loss: 1.1810, \n"
     ]
    },
    {
     "name": "stdout",
     "output_type": "stream",
     "text": [
      "epoch: 1, [batch: 120 / 300], examples_per_second: 3606.5981, train_label_loss: 1.1040, \n"
     ]
    },
    {
     "name": "stdout",
     "output_type": "stream",
     "text": [
      "epoch: 1, [batch: 150 / 300], examples_per_second: 3610.8618, train_label_loss: 1.1278, \n"
     ]
    },
    {
     "name": "stdout",
     "output_type": "stream",
     "text": [
      "epoch: 1, [batch: 180 / 300], examples_per_second: 3635.3345, train_label_loss: 1.4981, \n"
     ]
    },
    {
     "name": "stdout",
     "output_type": "stream",
     "text": [
      "epoch: 1, [batch: 210 / 300], examples_per_second: 3634.7026, train_label_loss: 1.1528, \n"
     ]
    },
    {
     "name": "stdout",
     "output_type": "stream",
     "text": [
      "epoch: 1, [batch: 240 / 300], examples_per_second: 3623.5189, train_label_loss: 1.1922, \n"
     ]
    },
    {
     "name": "stdout",
     "output_type": "stream",
     "text": [
      "epoch: 1, [batch: 270 / 300], examples_per_second: 3609.8888, train_label_loss: 0.9311, \n"
     ]
    },
    {
     "name": "stdout",
     "output_type": "stream",
     "text": [
      "=============================================================\n",
      "epoch: 1, source_val_acc_label: 0.4779, target_val_acc_label: 0.3945, source_val_label_loss: 1.7646, target_val_label_loss: 2.1094, \n",
      "=============================================================\n"
     ]
    },
    {
     "name": "stdout",
     "output_type": "stream",
     "text": [
      "New best\n"
     ]
    },
    {
     "name": "stdout",
     "output_type": "stream",
     "text": [
      "epoch: 2, [batch: 1 / 300], examples_per_second: 54.5980, train_label_loss: 2.3990, \n"
     ]
    },
    {
     "name": "stdout",
     "output_type": "stream",
     "text": [
      "epoch: 2, [batch: 30 / 300], examples_per_second: 3670.5559, train_label_loss: 1.4288, \n"
     ]
    },
    {
     "name": "stdout",
     "output_type": "stream",
     "text": [
      "epoch: 2, [batch: 60 / 300], examples_per_second: 3661.1482, train_label_loss: 1.9748, \n"
     ]
    },
    {
     "name": "stdout",
     "output_type": "stream",
     "text": [
      "epoch: 2, [batch: 90 / 300], examples_per_second: 3643.1666, train_label_loss: 1.7318, \n"
     ]
    },
    {
     "name": "stdout",
     "output_type": "stream",
     "text": [
      "epoch: 2, [batch: 120 / 300], examples_per_second: 3660.5719, train_label_loss: 1.0383, \n"
     ]
    },
    {
     "name": "stdout",
     "output_type": "stream",
     "text": [
      "epoch: 2, [batch: 150 / 300], examples_per_second: 3658.9771, train_label_loss: 1.2270, \n"
     ]
    },
    {
     "name": "stdout",
     "output_type": "stream",
     "text": [
      "epoch: 2, [batch: 180 / 300], examples_per_second: 3665.9376, train_label_loss: 1.4385, \n"
     ]
    },
    {
     "name": "stdout",
     "output_type": "stream",
     "text": [
      "epoch: 2, [batch: 210 / 300], examples_per_second: 3682.2489, train_label_loss: 1.1829, \n"
     ]
    },
    {
     "name": "stdout",
     "output_type": "stream",
     "text": [
      "epoch: 2, [batch: 240 / 300], examples_per_second: 3686.2258, train_label_loss: 0.9776, \n"
     ]
    },
    {
     "name": "stdout",
     "output_type": "stream",
     "text": [
      "epoch: 2, [batch: 270 / 300], examples_per_second: 3675.2139, train_label_loss: 1.2689, \n"
     ]
    },
    {
     "name": "stdout",
     "output_type": "stream",
     "text": [
      "=============================================================\n",
      "epoch: 2, source_val_acc_label: 0.4807, target_val_acc_label: 0.4080, source_val_label_loss: 1.2485, target_val_label_loss: 1.7034, \n",
      "=============================================================\n"
     ]
    },
    {
     "name": "stdout",
     "output_type": "stream",
     "text": [
      "New best\n"
     ]
    },
    {
     "name": "stdout",
     "output_type": "stream",
     "text": [
      "epoch: 3, [batch: 1 / 300], examples_per_second: 53.8971, train_label_loss: 1.1676, \n"
     ]
    },
    {
     "name": "stdout",
     "output_type": "stream",
     "text": [
      "epoch: 3, [batch: 30 / 300], examples_per_second: 3657.5761, train_label_loss: 1.3922, \n"
     ]
    },
    {
     "name": "stdout",
     "output_type": "stream",
     "text": [
      "epoch: 3, [batch: 60 / 300], examples_per_second: 3676.5735, train_label_loss: 1.0838, \n"
     ]
    },
    {
     "name": "stdout",
     "output_type": "stream",
     "text": [
      "epoch: 3, [batch: 90 / 300], examples_per_second: 3652.9726, train_label_loss: 1.2205, \n"
     ]
    },
    {
     "name": "stdout",
     "output_type": "stream",
     "text": [
      "epoch: 3, [batch: 120 / 300], examples_per_second: 3655.6229, train_label_loss: 1.2230, \n"
     ]
    },
    {
     "name": "stdout",
     "output_type": "stream",
     "text": [
      "epoch: 3, [batch: 150 / 300], examples_per_second: 3669.7446, train_label_loss: 1.3466, \n"
     ]
    },
    {
     "name": "stdout",
     "output_type": "stream",
     "text": [
      "epoch: 3, [batch: 180 / 300], examples_per_second: 3678.4592, train_label_loss: 1.1823, \n"
     ]
    },
    {
     "name": "stdout",
     "output_type": "stream",
     "text": [
      "epoch: 3, [batch: 210 / 300], examples_per_second: 3668.8437, train_label_loss: 0.6862, \n"
     ]
    },
    {
     "name": "stdout",
     "output_type": "stream",
     "text": [
      "epoch: 3, [batch: 240 / 300], examples_per_second: 3677.6644, train_label_loss: 1.3671, \n"
     ]
    },
    {
     "name": "stdout",
     "output_type": "stream",
     "text": [
      "epoch: 3, [batch: 270 / 300], examples_per_second: 3690.0431, train_label_loss: 1.0498, \n"
     ]
    },
    {
     "name": "stdout",
     "output_type": "stream",
     "text": [
      "=============================================================\n",
      "epoch: 3, source_val_acc_label: 0.6709, target_val_acc_label: 0.5396, source_val_label_loss: 0.8836, target_val_label_loss: 1.5034, \n",
      "=============================================================\n"
     ]
    },
    {
     "name": "stdout",
     "output_type": "stream",
     "text": [
      "New best\n"
     ]
    },
    {
     "name": "stdout",
     "output_type": "stream",
     "text": [
      "epoch: 4, [batch: 1 / 300], examples_per_second: 53.8526, train_label_loss: 0.7618, \n"
     ]
    },
    {
     "name": "stdout",
     "output_type": "stream",
     "text": [
      "epoch: 4, [batch: 30 / 300], examples_per_second: 3686.1060, train_label_loss: 1.1208, \n"
     ]
    },
    {
     "name": "stdout",
     "output_type": "stream",
     "text": [
      "epoch: 4, [batch: 60 / 300], examples_per_second: 3704.3663, train_label_loss: 0.5959, \n"
     ]
    },
    {
     "name": "stdout",
     "output_type": "stream",
     "text": [
      "epoch: 4, [batch: 90 / 300], examples_per_second: 3684.3292, train_label_loss: 1.0532, \n"
     ]
    },
    {
     "name": "stdout",
     "output_type": "stream",
     "text": [
      "epoch: 4, [batch: 120 / 300], examples_per_second: 3687.8184, train_label_loss: 1.0113, \n"
     ]
    },
    {
     "name": "stdout",
     "output_type": "stream",
     "text": [
      "epoch: 4, [batch: 150 / 300], examples_per_second: 3676.7308, train_label_loss: 0.9896, \n"
     ]
    },
    {
     "name": "stdout",
     "output_type": "stream",
     "text": [
      "epoch: 4, [batch: 180 / 300], examples_per_second: 3665.2941, train_label_loss: 1.0577, \n"
     ]
    },
    {
     "name": "stdout",
     "output_type": "stream",
     "text": [
      "epoch: 4, [batch: 210 / 300], examples_per_second: 3670.3754, train_label_loss: 1.0618, \n"
     ]
    },
    {
     "name": "stdout",
     "output_type": "stream",
     "text": [
      "epoch: 4, [batch: 240 / 300], examples_per_second: 3673.4168, train_label_loss: 1.0920, \n"
     ]
    },
    {
     "name": "stdout",
     "output_type": "stream",
     "text": [
      "epoch: 4, [batch: 270 / 300], examples_per_second: 3676.3683, train_label_loss: 0.5624, \n"
     ]
    },
    {
     "name": "stdout",
     "output_type": "stream",
     "text": [
      "=============================================================\n",
      "epoch: 4, source_val_acc_label: 0.7257, target_val_acc_label: 0.5807, source_val_label_loss: 0.7489, target_val_label_loss: 1.3238, \n",
      "=============================================================\n"
     ]
    },
    {
     "name": "stdout",
     "output_type": "stream",
     "text": [
      "New best\n"
     ]
    },
    {
     "name": "stdout",
     "output_type": "stream",
     "text": [
      "epoch: 5, [batch: 1 / 300], examples_per_second: 53.9063, train_label_loss: 0.5829, \n"
     ]
    },
    {
     "name": "stdout",
     "output_type": "stream",
     "text": [
      "epoch: 5, [batch: 30 / 300], examples_per_second: 3640.7527, train_label_loss: 0.4995, \n"
     ]
    },
    {
     "name": "stdout",
     "output_type": "stream",
     "text": [
      "epoch: 5, [batch: 60 / 300], examples_per_second: 3661.1273, train_label_loss: 0.3671, \n"
     ]
    },
    {
     "name": "stdout",
     "output_type": "stream",
     "text": [
      "epoch: 5, [batch: 90 / 300], examples_per_second: 3685.8479, train_label_loss: 0.7167, \n"
     ]
    },
    {
     "name": "stdout",
     "output_type": "stream",
     "text": [
      "epoch: 5, [batch: 120 / 300], examples_per_second: 3647.7760, train_label_loss: 0.7914, \n"
     ]
    },
    {
     "name": "stdout",
     "output_type": "stream",
     "text": [
      "epoch: 5, [batch: 150 / 300], examples_per_second: 3682.9225, train_label_loss: 0.3982, \n"
     ]
    },
    {
     "name": "stdout",
     "output_type": "stream",
     "text": [
      "epoch: 5, [batch: 180 / 300], examples_per_second: 3658.0834, train_label_loss: 0.8554, \n"
     ]
    },
    {
     "name": "stdout",
     "output_type": "stream",
     "text": [
      "epoch: 5, [batch: 210 / 300], examples_per_second: 3667.6807, train_label_loss: 0.3183, \n"
     ]
    },
    {
     "name": "stdout",
     "output_type": "stream",
     "text": [
      "epoch: 5, [batch: 240 / 300], examples_per_second: 3674.1542, train_label_loss: 0.7347, \n"
     ]
    },
    {
     "name": "stdout",
     "output_type": "stream",
     "text": [
      "epoch: 5, [batch: 270 / 300], examples_per_second: 3639.1308, train_label_loss: 0.7642, \n"
     ]
    },
    {
     "name": "stdout",
     "output_type": "stream",
     "text": [
      "=============================================================\n",
      "epoch: 5, source_val_acc_label: 0.7361, target_val_acc_label: 0.5967, source_val_label_loss: 0.7034, target_val_label_loss: 1.2925, \n",
      "=============================================================\n"
     ]
    },
    {
     "name": "stdout",
     "output_type": "stream",
     "text": [
      "New best\n"
     ]
    },
    {
     "name": "stdout",
     "output_type": "stream",
     "text": [
      "epoch: 6, [batch: 1 / 300], examples_per_second: 54.3748, train_label_loss: 0.7391, \n"
     ]
    },
    {
     "name": "stdout",
     "output_type": "stream",
     "text": [
      "epoch: 6, [batch: 30 / 300], examples_per_second: 3669.3863, train_label_loss: 0.3816, \n"
     ]
    },
    {
     "name": "stdout",
     "output_type": "stream",
     "text": [
      "epoch: 6, [batch: 60 / 300], examples_per_second: 3661.9663, train_label_loss: 0.6361, \n"
     ]
    },
    {
     "name": "stdout",
     "output_type": "stream",
     "text": [
      "epoch: 6, [batch: 90 / 300], examples_per_second: 3692.4795, train_label_loss: 0.3420, \n"
     ]
    },
    {
     "name": "stdout",
     "output_type": "stream",
     "text": [
      "epoch: 6, [batch: 120 / 300], examples_per_second: 3691.3905, train_label_loss: 0.4126, \n"
     ]
    },
    {
     "name": "stdout",
     "output_type": "stream",
     "text": [
      "epoch: 6, [batch: 150 / 300], examples_per_second: 3695.3900, train_label_loss: 0.7656, \n"
     ]
    },
    {
     "name": "stdout",
     "output_type": "stream",
     "text": [
      "epoch: 6, [batch: 180 / 300], examples_per_second: 3678.7770, train_label_loss: 0.3050, \n"
     ]
    },
    {
     "name": "stdout",
     "output_type": "stream",
     "text": [
      "epoch: 6, [batch: 210 / 300], examples_per_second: 3666.8371, train_label_loss: 0.7122, \n"
     ]
    },
    {
     "name": "stdout",
     "output_type": "stream",
     "text": [
      "epoch: 6, [batch: 240 / 300], examples_per_second: 3666.8199, train_label_loss: 0.3421, \n"
     ]
    },
    {
     "name": "stdout",
     "output_type": "stream",
     "text": [
      "epoch: 6, [batch: 270 / 300], examples_per_second: 3685.9896, train_label_loss: 0.3423, \n"
     ]
    },
    {
     "name": "stdout",
     "output_type": "stream",
     "text": [
      "=============================================================\n",
      "epoch: 6, source_val_acc_label: 0.7545, target_val_acc_label: 0.6095, source_val_label_loss: 0.6437, target_val_label_loss: 1.2903, \n",
      "=============================================================\n"
     ]
    },
    {
     "name": "stdout",
     "output_type": "stream",
     "text": [
      "New best\n"
     ]
    },
    {
     "name": "stdout",
     "output_type": "stream",
     "text": [
      "epoch: 7, [batch: 1 / 300], examples_per_second: 53.7774, train_label_loss: 0.5969, \n"
     ]
    },
    {
     "name": "stdout",
     "output_type": "stream",
     "text": [
      "epoch: 7, [batch: 30 / 300], examples_per_second: 3627.1546, train_label_loss: 0.3538, \n"
     ]
    },
    {
     "name": "stdout",
     "output_type": "stream",
     "text": [
      "epoch: 7, [batch: 60 / 300], examples_per_second: 3626.2983, train_label_loss: 0.7041, \n"
     ]
    },
    {
     "name": "stdout",
     "output_type": "stream",
     "text": [
      "epoch: 7, [batch: 90 / 300], examples_per_second: 3402.7298, train_label_loss: 0.6996, \n"
     ]
    },
    {
     "name": "stdout",
     "output_type": "stream",
     "text": [
      "epoch: 7, [batch: 120 / 300], examples_per_second: 3366.3043, train_label_loss: 0.3013, \n"
     ]
    },
    {
     "name": "stdout",
     "output_type": "stream",
     "text": [
      "epoch: 7, [batch: 150 / 300], examples_per_second: 3656.0497, train_label_loss: 0.3105, \n"
     ]
    },
    {
     "name": "stdout",
     "output_type": "stream",
     "text": [
      "epoch: 7, [batch: 180 / 300], examples_per_second: 3647.3379, train_label_loss: 0.5874, \n"
     ]
    },
    {
     "name": "stdout",
     "output_type": "stream",
     "text": [
      "epoch: 7, [batch: 210 / 300], examples_per_second: 3525.6287, train_label_loss: 0.6759, \n"
     ]
    },
    {
     "name": "stdout",
     "output_type": "stream",
     "text": [
      "epoch: 7, [batch: 240 / 300], examples_per_second: 3620.9037, train_label_loss: 0.7554, \n"
     ]
    },
    {
     "name": "stdout",
     "output_type": "stream",
     "text": [
      "epoch: 7, [batch: 270 / 300], examples_per_second: 3458.4176, train_label_loss: 0.3235, \n"
     ]
    },
    {
     "name": "stdout",
     "output_type": "stream",
     "text": [
      "=============================================================\n",
      "epoch: 7, source_val_acc_label: 0.7649, target_val_acc_label: 0.6141, source_val_label_loss: 0.6529, target_val_label_loss: 1.4443, \n",
      "=============================================================\n"
     ]
    },
    {
     "name": "stdout",
     "output_type": "stream",
     "text": [
      "epoch: 8, [batch: 1 / 300], examples_per_second: 55.0210, train_label_loss: 0.6424, \n"
     ]
    },
    {
     "name": "stdout",
     "output_type": "stream",
     "text": [
      "epoch: 8, [batch: 30 / 300], examples_per_second: 3665.2735, train_label_loss: 0.3534, \n"
     ]
    },
    {
     "name": "stdout",
     "output_type": "stream",
     "text": [
      "epoch: 8, [batch: 60 / 300], examples_per_second: 3666.1656, train_label_loss: 0.2042, \n"
     ]
    },
    {
     "name": "stdout",
     "output_type": "stream",
     "text": [
      "epoch: 8, [batch: 90 / 300], examples_per_second: 3661.6838, train_label_loss: 0.5127, \n"
     ]
    },
    {
     "name": "stdout",
     "output_type": "stream",
     "text": [
      "epoch: 8, [batch: 120 / 300], examples_per_second: 3664.4706, train_label_loss: 0.5243, \n"
     ]
    },
    {
     "name": "stdout",
     "output_type": "stream",
     "text": [
      "epoch: 8, [batch: 150 / 300], examples_per_second: 3656.9643, train_label_loss: 0.3958, \n"
     ]
    },
    {
     "name": "stdout",
     "output_type": "stream",
     "text": [
      "epoch: 8, [batch: 180 / 300], examples_per_second: 3666.2848, train_label_loss: 0.6665, \n"
     ]
    },
    {
     "name": "stdout",
     "output_type": "stream",
     "text": [
      "epoch: 8, [batch: 210 / 300], examples_per_second: 3665.4104, train_label_loss: 0.8622, \n"
     ]
    },
    {
     "name": "stdout",
     "output_type": "stream",
     "text": [
      "epoch: 8, [batch: 240 / 300], examples_per_second: 3657.8821, train_label_loss: 0.6730, \n"
     ]
    },
    {
     "name": "stdout",
     "output_type": "stream",
     "text": [
      "epoch: 8, [batch: 270 / 300], examples_per_second: 3669.2592, train_label_loss: 0.6668, \n"
     ]
    },
    {
     "name": "stdout",
     "output_type": "stream",
     "text": [
      "=============================================================\n",
      "epoch: 8, source_val_acc_label: 0.7718, target_val_acc_label: 0.6158, source_val_label_loss: 0.6218, target_val_label_loss: 1.2305, \n",
      "=============================================================\n"
     ]
    },
    {
     "name": "stdout",
     "output_type": "stream",
     "text": [
      "New best\n"
     ]
    },
    {
     "name": "stdout",
     "output_type": "stream",
     "text": [
      "epoch: 9, [batch: 1 / 300], examples_per_second: 54.1182, train_label_loss: 0.5399, \n"
     ]
    },
    {
     "name": "stdout",
     "output_type": "stream",
     "text": [
      "epoch: 9, [batch: 30 / 300], examples_per_second: 3686.0411, train_label_loss: 0.7493, \n"
     ]
    },
    {
     "name": "stdout",
     "output_type": "stream",
     "text": [
      "epoch: 9, [batch: 60 / 300], examples_per_second: 3685.2657, train_label_loss: 0.2301, \n"
     ]
    },
    {
     "name": "stdout",
     "output_type": "stream",
     "text": [
      "epoch: 9, [batch: 90 / 300], examples_per_second: 3684.4256, train_label_loss: 0.1537, \n"
     ]
    },
    {
     "name": "stdout",
     "output_type": "stream",
     "text": [
      "epoch: 9, [batch: 120 / 300], examples_per_second: 3694.6044, train_label_loss: 0.9179, \n"
     ]
    },
    {
     "name": "stdout",
     "output_type": "stream",
     "text": [
      "epoch: 9, [batch: 150 / 300], examples_per_second: 3668.3509, train_label_loss: 0.7710, \n"
     ]
    },
    {
     "name": "stdout",
     "output_type": "stream",
     "text": [
      "epoch: 9, [batch: 180 / 300], examples_per_second: 3673.8535, train_label_loss: 0.3435, \n"
     ]
    },
    {
     "name": "stdout",
     "output_type": "stream",
     "text": [
      "epoch: 9, [batch: 210 / 300], examples_per_second: 3662.7468, train_label_loss: 0.2671, \n"
     ]
    },
    {
     "name": "stdout",
     "output_type": "stream",
     "text": [
      "epoch: 9, [batch: 240 / 300], examples_per_second: 3664.0562, train_label_loss: 0.1703, \n"
     ]
    },
    {
     "name": "stdout",
     "output_type": "stream",
     "text": [
      "epoch: 9, [batch: 270 / 300], examples_per_second: 3703.5709, train_label_loss: 0.5531, \n"
     ]
    },
    {
     "name": "stdout",
     "output_type": "stream",
     "text": [
      "=============================================================\n",
      "epoch: 9, source_val_acc_label: 0.7827, target_val_acc_label: 0.6269, source_val_label_loss: 0.5894, target_val_label_loss: 1.2636, \n",
      "=============================================================\n"
     ]
    },
    {
     "name": "stdout",
     "output_type": "stream",
     "text": [
      "epoch: 10, [batch: 1 / 300], examples_per_second: 54.8807, train_label_loss: 0.5961, \n"
     ]
    },
    {
     "name": "stdout",
     "output_type": "stream",
     "text": [
      "epoch: 10, [batch: 30 / 300], examples_per_second: 3655.0247, train_label_loss: 0.6074, \n"
     ]
    },
    {
     "name": "stdout",
     "output_type": "stream",
     "text": [
      "epoch: 10, [batch: 60 / 300], examples_per_second: 3663.4142, train_label_loss: 0.3506, \n"
     ]
    },
    {
     "name": "stdout",
     "output_type": "stream",
     "text": [
      "epoch: 10, [batch: 90 / 300], examples_per_second: 3651.4232, train_label_loss: 0.2430, \n"
     ]
    },
    {
     "name": "stdout",
     "output_type": "stream",
     "text": [
      "epoch: 10, [batch: 120 / 300], examples_per_second: 3677.8141, train_label_loss: 0.3766, \n"
     ]
    },
    {
     "name": "stdout",
     "output_type": "stream",
     "text": [
      "epoch: 10, [batch: 150 / 300], examples_per_second: 3660.6651, train_label_loss: 0.1766, \n"
     ]
    },
    {
     "name": "stdout",
     "output_type": "stream",
     "text": [
      "epoch: 10, [batch: 180 / 300], examples_per_second: 3651.9758, train_label_loss: 0.6564, \n"
     ]
    },
    {
     "name": "stdout",
     "output_type": "stream",
     "text": [
      "epoch: 10, [batch: 210 / 300], examples_per_second: 3679.9903, train_label_loss: 0.3599, \n"
     ]
    },
    {
     "name": "stdout",
     "output_type": "stream",
     "text": [
      "epoch: 10, [batch: 240 / 300], examples_per_second: 3666.6482, train_label_loss: 0.7449, \n"
     ]
    },
    {
     "name": "stdout",
     "output_type": "stream",
     "text": [
      "epoch: 10, [batch: 270 / 300], examples_per_second: 3665.4352, train_label_loss: 0.3952, \n"
     ]
    },
    {
     "name": "stdout",
     "output_type": "stream",
     "text": [
      "=============================================================\n",
      "epoch: 10, source_val_acc_label: 0.7852, target_val_acc_label: 0.6314, source_val_label_loss: 0.5928, target_val_label_loss: 1.2748, \n",
      "=============================================================\n"
     ]
    },
    {
     "name": "stdout",
     "output_type": "stream",
     "text": [
      "epoch: 11, [batch: 1 / 300], examples_per_second: 55.1876, train_label_loss: 0.8058, \n"
     ]
    },
    {
     "name": "stdout",
     "output_type": "stream",
     "text": [
      "epoch: 11, [batch: 30 / 300], examples_per_second: 3680.1413, train_label_loss: 0.2308, \n"
     ]
    },
    {
     "name": "stdout",
     "output_type": "stream",
     "text": [
      "epoch: 11, [batch: 60 / 300], examples_per_second: 3664.8661, train_label_loss: 0.4130, \n"
     ]
    },
    {
     "name": "stdout",
     "output_type": "stream",
     "text": [
      "epoch: 11, [batch: 90 / 300], examples_per_second: 3637.9387, train_label_loss: 0.8403, \n"
     ]
    },
    {
     "name": "stdout",
     "output_type": "stream",
     "text": [
      "epoch: 11, [batch: 120 / 300], examples_per_second: 3651.0836, train_label_loss: 0.2067, \n"
     ]
    },
    {
     "name": "stdout",
     "output_type": "stream",
     "text": [
      "epoch: 11, [batch: 150 / 300], examples_per_second: 3668.5954, train_label_loss: 0.2512, \n"
     ]
    },
    {
     "name": "stdout",
     "output_type": "stream",
     "text": [
      "epoch: 11, [batch: 180 / 300], examples_per_second: 3659.3467, train_label_loss: 0.2684, \n"
     ]
    },
    {
     "name": "stdout",
     "output_type": "stream",
     "text": [
      "epoch: 11, [batch: 210 / 300], examples_per_second: 3652.4405, train_label_loss: 0.5553, \n"
     ]
    },
    {
     "name": "stdout",
     "output_type": "stream",
     "text": [
      "epoch: 11, [batch: 240 / 300], examples_per_second: 3649.6767, train_label_loss: 0.1527, \n"
     ]
    },
    {
     "name": "stdout",
     "output_type": "stream",
     "text": [
      "epoch: 11, [batch: 270 / 300], examples_per_second: 3681.6198, train_label_loss: 0.2279, \n"
     ]
    },
    {
     "name": "stdout",
     "output_type": "stream",
     "text": [
      "=============================================================\n",
      "epoch: 11, source_val_acc_label: 0.7855, target_val_acc_label: 0.6396, source_val_label_loss: 0.5864, target_val_label_loss: 1.2137, \n",
      "=============================================================\n"
     ]
    },
    {
     "name": "stdout",
     "output_type": "stream",
     "text": [
      "New best\n"
     ]
    },
    {
     "name": "stdout",
     "output_type": "stream",
     "text": [
      "epoch: 12, [batch: 1 / 300], examples_per_second: 52.5966, train_label_loss: 0.2924, \n"
     ]
    },
    {
     "name": "stdout",
     "output_type": "stream",
     "text": [
      "epoch: 12, [batch: 30 / 300], examples_per_second: 3652.2673, train_label_loss: 0.5568, \n"
     ]
    },
    {
     "name": "stdout",
     "output_type": "stream",
     "text": [
      "epoch: 12, [batch: 60 / 300], examples_per_second: 3663.7761, train_label_loss: 0.2633, \n"
     ]
    },
    {
     "name": "stdout",
     "output_type": "stream",
     "text": [
      "epoch: 12, [batch: 90 / 300], examples_per_second: 3657.6116, train_label_loss: 0.4400, \n"
     ]
    },
    {
     "name": "stdout",
     "output_type": "stream",
     "text": [
      "epoch: 12, [batch: 120 / 300], examples_per_second: 3659.0873, train_label_loss: 0.3816, \n"
     ]
    },
    {
     "name": "stdout",
     "output_type": "stream",
     "text": [
      "epoch: 12, [batch: 150 / 300], examples_per_second: 3669.0223, train_label_loss: 0.5896, \n"
     ]
    },
    {
     "name": "stdout",
     "output_type": "stream",
     "text": [
      "epoch: 12, [batch: 180 / 300], examples_per_second: 3651.8481, train_label_loss: 0.3005, \n"
     ]
    },
    {
     "name": "stdout",
     "output_type": "stream",
     "text": [
      "epoch: 12, [batch: 210 / 300], examples_per_second: 3667.1873, train_label_loss: 0.4785, \n"
     ]
    },
    {
     "name": "stdout",
     "output_type": "stream",
     "text": [
      "epoch: 12, [batch: 240 / 300], examples_per_second: 3660.9875, train_label_loss: 0.2896, \n"
     ]
    },
    {
     "name": "stdout",
     "output_type": "stream",
     "text": [
      "epoch: 12, [batch: 270 / 300], examples_per_second: 3669.0854, train_label_loss: 0.5811, \n"
     ]
    },
    {
     "name": "stdout",
     "output_type": "stream",
     "text": [
      "=============================================================\n",
      "epoch: 12, source_val_acc_label: 0.7860, target_val_acc_label: 0.6382, source_val_label_loss: 0.5855, target_val_label_loss: 1.3725, \n",
      "=============================================================\n"
     ]
    },
    {
     "name": "stdout",
     "output_type": "stream",
     "text": [
      "epoch: 13, [batch: 1 / 300], examples_per_second: 54.7891, train_label_loss: 0.4030, \n"
     ]
    },
    {
     "name": "stdout",
     "output_type": "stream",
     "text": [
      "epoch: 13, [batch: 30 / 300], examples_per_second: 3656.4442, train_label_loss: 0.3719, \n"
     ]
    },
    {
     "name": "stdout",
     "output_type": "stream",
     "text": [
      "epoch: 13, [batch: 60 / 300], examples_per_second: 3656.2138, train_label_loss: 0.2966, \n"
     ]
    },
    {
     "name": "stdout",
     "output_type": "stream",
     "text": [
      "epoch: 13, [batch: 90 / 300], examples_per_second: 3665.8537, train_label_loss: 0.2195, \n"
     ]
    },
    {
     "name": "stdout",
     "output_type": "stream",
     "text": [
      "epoch: 13, [batch: 120 / 300], examples_per_second: 3661.4145, train_label_loss: 0.0818, \n"
     ]
    },
    {
     "name": "stdout",
     "output_type": "stream",
     "text": [
      "epoch: 13, [batch: 150 / 300], examples_per_second: 3658.7653, train_label_loss: 0.2120, \n"
     ]
    },
    {
     "name": "stdout",
     "output_type": "stream",
     "text": [
      "epoch: 13, [batch: 180 / 300], examples_per_second: 3659.9302, train_label_loss: 0.1039, \n"
     ]
    },
    {
     "name": "stdout",
     "output_type": "stream",
     "text": [
      "epoch: 13, [batch: 210 / 300], examples_per_second: 3656.4130, train_label_loss: 0.1863, \n"
     ]
    },
    {
     "name": "stdout",
     "output_type": "stream",
     "text": [
      "epoch: 13, [batch: 240 / 300], examples_per_second: 3665.8461, train_label_loss: 0.4423, \n"
     ]
    },
    {
     "name": "stdout",
     "output_type": "stream",
     "text": [
      "epoch: 13, [batch: 270 / 300], examples_per_second: 3670.8553, train_label_loss: 0.2514, \n"
     ]
    },
    {
     "name": "stdout",
     "output_type": "stream",
     "text": [
      "=============================================================\n",
      "epoch: 13, source_val_acc_label: 0.7912, target_val_acc_label: 0.6351, source_val_label_loss: 0.5854, target_val_label_loss: 1.3451, \n",
      "=============================================================\n"
     ]
    },
    {
     "name": "stdout",
     "output_type": "stream",
     "text": [
      "epoch: 14, [batch: 1 / 300], examples_per_second: 54.8456, train_label_loss: 0.6536, \n"
     ]
    },
    {
     "name": "stdout",
     "output_type": "stream",
     "text": [
      "epoch: 14, [batch: 30 / 300], examples_per_second: 3667.4906, train_label_loss: 0.3500, \n"
     ]
    },
    {
     "name": "stdout",
     "output_type": "stream",
     "text": [
      "epoch: 14, [batch: 60 / 300], examples_per_second: 3651.9673, train_label_loss: 0.1090, \n"
     ]
    },
    {
     "name": "stdout",
     "output_type": "stream",
     "text": [
      "epoch: 14, [batch: 90 / 300], examples_per_second: 3651.4194, train_label_loss: 0.1368, \n"
     ]
    },
    {
     "name": "stdout",
     "output_type": "stream",
     "text": [
      "epoch: 14, [batch: 120 / 300], examples_per_second: 3637.2260, train_label_loss: 0.3072, \n"
     ]
    },
    {
     "name": "stdout",
     "output_type": "stream",
     "text": [
      "epoch: 14, [batch: 150 / 300], examples_per_second: 3651.7156, train_label_loss: 0.2442, \n"
     ]
    },
    {
     "name": "stdout",
     "output_type": "stream",
     "text": [
      "epoch: 14, [batch: 180 / 300], examples_per_second: 3665.6897, train_label_loss: 0.1575, \n"
     ]
    },
    {
     "name": "stdout",
     "output_type": "stream",
     "text": [
      "epoch: 14, [batch: 210 / 300], examples_per_second: 3629.4316, train_label_loss: 0.3970, \n"
     ]
    },
    {
     "name": "stdout",
     "output_type": "stream",
     "text": [
      "epoch: 14, [batch: 240 / 300], examples_per_second: 3670.0552, train_label_loss: 0.3486, \n"
     ]
    },
    {
     "name": "stdout",
     "output_type": "stream",
     "text": [
      "epoch: 14, [batch: 270 / 300], examples_per_second: 3647.0057, train_label_loss: 0.4073, \n"
     ]
    },
    {
     "name": "stdout",
     "output_type": "stream",
     "text": [
      "=============================================================\n",
      "epoch: 14, source_val_acc_label: 0.7907, target_val_acc_label: 0.6379, source_val_label_loss: 0.6178, target_val_label_loss: 1.4583, \n",
      "=============================================================\n"
     ]
    },
    {
     "name": "stdout",
     "output_type": "stream",
     "text": [
      "epoch: 15, [batch: 1 / 300], examples_per_second: 54.9213, train_label_loss: 0.3407, \n"
     ]
    },
    {
     "name": "stdout",
     "output_type": "stream",
     "text": [
      "epoch: 15, [batch: 30 / 300], examples_per_second: 3653.7836, train_label_loss: 0.1976, \n"
     ]
    },
    {
     "name": "stdout",
     "output_type": "stream",
     "text": [
      "epoch: 15, [batch: 60 / 300], examples_per_second: 3659.4493, train_label_loss: 0.1565, \n"
     ]
    },
    {
     "name": "stdout",
     "output_type": "stream",
     "text": [
      "epoch: 15, [batch: 90 / 300], examples_per_second: 3660.5348, train_label_loss: 0.3075, \n"
     ]
    },
    {
     "name": "stdout",
     "output_type": "stream",
     "text": [
      "epoch: 15, [batch: 120 / 300], examples_per_second: 3661.5411, train_label_loss: 0.2645, \n"
     ]
    },
    {
     "name": "stdout",
     "output_type": "stream",
     "text": [
      "epoch: 15, [batch: 150 / 300], examples_per_second: 3664.3611, train_label_loss: 0.3005, \n"
     ]
    },
    {
     "name": "stdout",
     "output_type": "stream",
     "text": [
      "epoch: 15, [batch: 180 / 300], examples_per_second: 3674.9945, train_label_loss: 0.4463, \n"
     ]
    },
    {
     "name": "stdout",
     "output_type": "stream",
     "text": [
      "epoch: 15, [batch: 210 / 300], examples_per_second: 3650.9181, train_label_loss: 0.3190, \n"
     ]
    },
    {
     "name": "stdout",
     "output_type": "stream",
     "text": [
      "epoch: 15, [batch: 240 / 300], examples_per_second: 3665.1559, train_label_loss: 0.4101, \n"
     ]
    },
    {
     "name": "stdout",
     "output_type": "stream",
     "text": [
      "epoch: 15, [batch: 270 / 300], examples_per_second: 3659.2945, train_label_loss: 0.1400, \n"
     ]
    },
    {
     "name": "stdout",
     "output_type": "stream",
     "text": [
      "=============================================================\n",
      "epoch: 15, source_val_acc_label: 0.7946, target_val_acc_label: 0.6420, source_val_label_loss: 0.5781, target_val_label_loss: 1.2845, \n",
      "=============================================================\n"
     ]
    },
    {
     "name": "stdout",
     "output_type": "stream",
     "text": [
      "Patience (3) exhausted\n"
     ]
    }
   ],
   "source": [
    "###################################\n",
    "# train\n",
    "###################################\n",
    "jig = PTN_Train_Eval_Test_Jig(model, p.BEST_MODEL_PATH, p.device)\n",
    "\n",
    "jig.train(\n",
    "    train_iterable=datasets.source.processed.train,\n",
    "    source_val_iterable=datasets.source.processed.val,\n",
    "    target_val_iterable=datasets.target.processed.val,\n",
    "    num_epochs=p.n_epoch,\n",
    "    num_logs_per_epoch=p.NUM_LOGS_PER_EPOCH,\n",
    "    patience=p.patience,\n",
    "    optimizer=optimizer,\n",
    "    criteria_for_best=p.criteria_for_best,\n",
    ")"
   ]
  },
  {
   "cell_type": "code",
   "execution_count": 14,
   "id": "31e8fabf",
   "metadata": {
    "execution": {
     "iopub.execute_input": "2022-03-05T00:43:20.975532Z",
     "iopub.status.busy": "2022-03-05T00:43:20.975279Z",
     "iopub.status.idle": "2022-03-05T00:43:20.990450Z",
     "shell.execute_reply": "2022-03-05T00:43:20.990838Z"
    },
    "papermill": {
     "duration": 0.061486,
     "end_time": "2022-03-05T00:43:20.990945",
     "exception": false,
     "start_time": "2022-03-05T00:43:20.929459",
     "status": "completed"
    },
    "tags": []
   },
   "outputs": [],
   "source": [
    "total_experiment_time_secs = time.time() - start_time_secs"
   ]
  },
  {
   "cell_type": "code",
   "execution_count": 15,
   "id": "87b9595b",
   "metadata": {
    "execution": {
     "iopub.execute_input": "2022-03-05T00:43:21.082981Z",
     "iopub.status.busy": "2022-03-05T00:43:21.082710Z",
     "iopub.status.idle": "2022-03-05T00:43:36.570746Z",
     "shell.execute_reply": "2022-03-05T00:43:36.570394Z"
    },
    "papermill": {
     "duration": 15.535361,
     "end_time": "2022-03-05T00:43:36.570830",
     "exception": false,
     "start_time": "2022-03-05T00:43:21.035469",
     "status": "completed"
    },
    "tags": []
   },
   "outputs": [],
   "source": [
    "###################################\n",
    "# Evaluate the model\n",
    "###################################\n",
    "source_test_label_accuracy, source_test_label_loss = jig.test(datasets.source.processed.test)\n",
    "target_test_label_accuracy, target_test_label_loss = jig.test(datasets.target.processed.test)\n",
    "\n",
    "source_val_label_accuracy, source_val_label_loss = jig.test(datasets.source.processed.val)\n",
    "target_val_label_accuracy, target_val_label_loss = jig.test(datasets.target.processed.val)\n",
    "\n",
    "history = jig.get_history()\n",
    "\n",
    "total_epochs_trained = len(history[\"epoch_indices\"])\n",
    "\n",
    "val_dl = Iterable_Aggregator((datasets.source.original.val,datasets.target.original.val))\n",
    "\n",
    "confusion = ptn_confusion_by_domain_over_dataloader(model, p.device, val_dl)\n",
    "per_domain_accuracy = per_domain_accuracy_from_confusion(confusion)\n",
    "\n",
    "# Add a key to per_domain_accuracy for if it was a source domain\n",
    "for domain, accuracy in per_domain_accuracy.items():\n",
    "    per_domain_accuracy[domain] = {\n",
    "        \"accuracy\": accuracy,\n",
    "        \"source?\": domain in p.domains_source\n",
    "    }\n",
    "\n",
    "# Do an independent accuracy assesment JUST TO BE SURE!\n",
    "# _source_test_label_accuracy = independent_accuracy_assesment(model, datasets.source.processed.test, p.device)\n",
    "# _target_test_label_accuracy = independent_accuracy_assesment(model, datasets.target.processed.test, p.device)\n",
    "# _source_val_label_accuracy = independent_accuracy_assesment(model, datasets.source.processed.val, p.device)\n",
    "# _target_val_label_accuracy = independent_accuracy_assesment(model, datasets.target.processed.val, p.device)\n",
    "\n",
    "# assert(_source_test_label_accuracy == source_test_label_accuracy)\n",
    "# assert(_target_test_label_accuracy == target_test_label_accuracy)\n",
    "# assert(_source_val_label_accuracy == source_val_label_accuracy)\n",
    "# assert(_target_val_label_accuracy == target_val_label_accuracy)\n",
    "\n",
    "experiment = {\n",
    "    \"experiment_name\": p.experiment_name,\n",
    "    \"parameters\": dict(p),\n",
    "    \"results\": {\n",
    "        \"source_test_label_accuracy\": source_test_label_accuracy,\n",
    "        \"source_test_label_loss\": source_test_label_loss,\n",
    "        \"target_test_label_accuracy\": target_test_label_accuracy,\n",
    "        \"target_test_label_loss\": target_test_label_loss,\n",
    "        \"source_val_label_accuracy\": source_val_label_accuracy,\n",
    "        \"source_val_label_loss\": source_val_label_loss,\n",
    "        \"target_val_label_accuracy\": target_val_label_accuracy,\n",
    "        \"target_val_label_loss\": target_val_label_loss,\n",
    "        \"total_epochs_trained\": total_epochs_trained,\n",
    "        \"total_experiment_time_secs\": total_experiment_time_secs,\n",
    "        \"confusion\": confusion,\n",
    "        \"per_domain_accuracy\": per_domain_accuracy,\n",
    "    },\n",
    "    \"history\": history,\n",
    "    \"dataset_metrics\": get_dataset_metrics(datasets, \"ptn\"),\n",
    "}"
   ]
  },
  {
   "cell_type": "code",
   "execution_count": 16,
   "id": "54a21829",
   "metadata": {
    "execution": {
     "iopub.execute_input": "2022-03-05T00:43:36.661011Z",
     "iopub.status.busy": "2022-03-05T00:43:36.660750Z",
     "iopub.status.idle": "2022-03-05T00:43:36.845768Z",
     "shell.execute_reply": "2022-03-05T00:43:36.846178Z"
    },
    "papermill": {
     "duration": 0.230597,
     "end_time": "2022-03-05T00:43:36.846308",
     "exception": false,
     "start_time": "2022-03-05T00:43:36.615711",
     "status": "completed"
    },
    "tags": []
   },
   "outputs": [
    {
     "data": {
      "image/png": "[encoded data removed]",
      "text/plain": [
       "<Figure size 1080x504 with 1 Axes>"
      ]
     },
     "metadata": {
      "needs_background": "light"
     },
     "output_type": "display_data"
    }
   ],
   "source": [
    "ax = get_loss_curve(experiment)\n",
    "plt.show()"
   ]
  },
  {
   "cell_type": "code",
   "execution_count": 17,
   "id": "fd8a0f60",
   "metadata": {
    "execution": {
     "iopub.execute_input": "2022-03-05T00:43:36.939022Z",
     "iopub.status.busy": "2022-03-05T00:43:36.938770Z",
     "iopub.status.idle": "2022-03-05T00:43:37.197041Z",
     "shell.execute_reply": "2022-03-05T00:43:37.197454Z"
    },
    "papermill": {
     "duration": 0.303337,
     "end_time": "2022-03-05T00:43:37.197587",
     "exception": false,
     "start_time": "2022-03-05T00:43:36.894250",
     "status": "completed"
    },
    "tags": []
   },
   "outputs": [
    {
     "data": {
      "text/plain": [
       "<matplotlib.axes._subplots.AxesSubplot at 0x7f74144f96d0>"
      ]
     },
     "execution_count": 17,
     "metadata": {},
     "output_type": "execute_result"
    },
    {
     "data": {
      "image/png": "[encoded data removed]",
      "text/plain": [
       "<Figure size 1080x504 with 1 Axes>"
      ]
     },
     "metadata": {
      "needs_background": "light"
     },
     "output_type": "display_data"
    }
   ],
   "source": [
    "get_results_table(experiment)"
   ]
  },
  {
   "cell_type": "code",
   "execution_count": 18,
   "id": "cf8dc689",
   "metadata": {
    "execution": {
     "iopub.execute_input": "2022-03-05T00:43:37.295185Z",
     "iopub.status.busy": "2022-03-05T00:43:37.294923Z",
     "iopub.status.idle": "2022-03-05T00:43:37.463913Z",
     "shell.execute_reply": "2022-03-05T00:43:37.463417Z"
    },
    "papermill": {
     "duration": 0.214105,
     "end_time": "2022-03-05T00:43:37.464021",
     "exception": false,
     "start_time": "2022-03-05T00:43:37.249916",
     "status": "completed"
    },
    "tags": []
   },
   "outputs": [
    {
     "data": {
      "text/plain": [
       "<matplotlib.axes._subplots.AxesSubplot at 0x7f7414298040>"
      ]
     },
     "execution_count": 18,
     "metadata": {},
     "output_type": "execute_result"
    },
    {
     "data": {
      "image/png": "[encoded data removed]",
      "text/plain": [
       "<Figure size 1080x504 with 1 Axes>"
      ]
     },
     "metadata": {
      "needs_background": "light"
     },
     "output_type": "display_data"
    }
   ],
   "source": [
    "get_domain_accuracies(experiment)"
   ]
  },
  {
   "cell_type": "code",
   "execution_count": 19,
   "id": "a74ae082",
   "metadata": {
    "execution": {
     "iopub.execute_input": "2022-03-05T00:43:37.562629Z",
     "iopub.status.busy": "2022-03-05T00:43:37.562254Z",
     "iopub.status.idle": "2022-03-05T00:43:37.575690Z",
     "shell.execute_reply": "2022-03-05T00:43:37.575282Z"
    },
    "papermill": {
     "duration": 0.061196,
     "end_time": "2022-03-05T00:43:37.575793",
     "exception": false,
     "start_time": "2022-03-05T00:43:37.514597",
     "status": "completed"
    },
    "tags": []
   },
   "outputs": [
    {
     "name": "stdout",
     "output_type": "stream",
     "text": [
      "Source Test Label Accuracy: 0.7748015873015873 Target Test Label Accuracy: 0.6297619047619047\n",
      "Source Val Label Accuracy: 0.7854662698412699 Target Val Label Accuracy: 0.6395833333333333\n"
     ]
    }
   ],
   "source": [
    "print(\"Source Test Label Accuracy:\", experiment[\"results\"][\"source_test_label_accuracy\"], \"Target Test Label Accuracy:\", experiment[\"results\"][\"target_test_label_accuracy\"])\n",
    "print(\"Source Val Label Accuracy:\", experiment[\"results\"][\"source_val_label_accuracy\"], \"Target Val Label Accuracy:\", experiment[\"results\"][\"target_val_label_accuracy\"])"
   ]
  },
  {
   "cell_type": "code",
   "execution_count": 20,
   "id": "dacca602",
   "metadata": {
    "execution": {
     "iopub.execute_input": "2022-03-05T00:43:37.673349Z",
     "iopub.status.busy": "2022-03-05T00:43:37.673095Z",
     "iopub.status.idle": "2022-03-05T00:43:37.688099Z",
     "shell.execute_reply": "2022-03-05T00:43:37.687687Z"
    },
    "papermill": {
     "duration": 0.062128,
     "end_time": "2022-03-05T00:43:37.688206",
     "exception": false,
     "start_time": "2022-03-05T00:43:37.626078",
     "status": "completed"
    },
    "tags": [
     "experiment_json"
    ]
   },
   "outputs": [
    {
     "data": {
      "text/plain": [
       "'{\"experiment_name\": \"nShot_oracle.run2\", \"parameters\": {\"experiment_name\": \"nShot_oracle.run2\", \"device\": \"cuda\", \"lr\": 0.001, \"seed\": 1337, \"dataset_seed\": 1337, \"labels_source\": [\"3123D52\", \"3123D65\", \"3123D79\", \"3123D80\", \"3123D54\", \"3123D70\", \"3123D7B\", \"3123D89\", \"3123D58\", \"3123D76\", \"3123D7D\", \"3123EFE\", \"3123D64\", \"3123D78\", \"3123D7E\", \"3124E4A\"], \"labels_target\": [\"3123D52\", \"3123D65\", \"3123D79\", \"3123D80\", \"3123D54\", \"3123D70\", \"3123D7B\", \"3123D89\", \"3123D58\", \"3123D76\", \"3123D7D\", \"3123EFE\", \"3123D64\", \"3123D78\", \"3123D7E\", \"3124E4A\"], \"x_transforms_source\": [], \"x_transforms_target\": [], \"episode_transforms_source\": [], \"episode_transforms_target\": [], \"num_examples_per_domain_per_label_source\": 1000, \"num_examples_per_domain_per_label_target\": 1000, \"n_way\": 16, \"n_query\": 2, \"train_k_factor\": 1, \"val_k_factor\": 2, \"test_k_factor\": 2, \"torch_default_dtype\": \"torch.float32\", \"n_epoch\": 50, \"patience\": 3, \"criteria_for_best\": \"target_loss\", \"x_net\": [{\"class\": \"nnReshape\", \"kargs\": {\"shape\": [-1, 1, 2, 256]}}, {\"class\": \"Conv2d\", \"kargs\": {\"in_channels\": 1, \"out_channels\": 256, \"kernel_size\": [1, 7], \"bias\": false, \"padding\": [0, 3]}}, {\"class\": \"ReLU\", \"kargs\": {\"inplace\": true}}, {\"class\": \"BatchNorm2d\", \"kargs\": {\"num_features\": 256}}, {\"class\": \"Conv2d\", \"kargs\": {\"in_channels\": 256, \"out_channels\": 80, \"kernel_size\": [2, 7], \"bias\": true, \"padding\": [0, 3]}}, {\"class\": \"ReLU\", \"kargs\": {\"inplace\": true}}, {\"class\": \"BatchNorm2d\", \"kargs\": {\"num_features\": 80}}, {\"class\": \"Flatten\", \"kargs\": {}}, {\"class\": \"Linear\", \"kargs\": {\"in_features\": 20480, \"out_features\": 256}}, {\"class\": \"ReLU\", \"kargs\": {\"inplace\": true}}, {\"class\": \"BatchNorm1d\", \"kargs\": {\"num_features\": 256}}, {\"class\": \"Linear\", \"kargs\": {\"in_features\": 256, \"out_features\": 256}}], \"NUM_LOGS_PER_EPOCH\": 10, \"BEST_MODEL_PATH\": \"./best_model.pth\", \"pickle_name\": \"oracle.Run2_10kExamples_stratified_ds.2022A.pkl\", \"n_shot\": 5, \"domains_source\": [8, 32, 50], \"domains_target\": [14, 20, 26, 38, 44]}, \"results\": {\"source_test_label_accuracy\": 0.7748015873015873, \"source_test_label_loss\": 0.5966810584068298, \"target_test_label_accuracy\": 0.6297619047619047, \"target_test_label_loss\": 1.1851640939712524, \"source_val_label_accuracy\": 0.7854662698412699, \"source_val_label_loss\": 0.5864222049713135, \"target_val_label_accuracy\": 0.6395833333333333, \"target_val_label_loss\": 1.21369469165802, \"total_epochs_trained\": 15, \"total_experiment_time_secs\": 190.72279858589172, \"confusion\": {\"8\": {\"15\": {\"15\": 66, \"12\": 11, \"2\": 7}, \"3\": {\"3\": 84}, \"6\": {\"6\": 48, \"14\": 21, \"1\": 1, \"8\": 13, \"4\": 1}, \"1\": {\"7\": 8, \"14\": 5, \"1\": 43, \"5\": 12, \"13\": 5, \"4\": 7, \"10\": 3, \"6\": 1}, \"8\": {\"8\": 59, \"11\": 10, \"6\": 11, \"4\": 2, \"14\": 2}, \"10\": {\"5\": 29, \"10\": 39, \"13\": 16}, \"9\": {\"9\": 84}, \"13\": {\"10\": 18, \"13\": 62, \"7\": 2, \"5\": 2}, \"12\": {\"12\": 71, \"2\": 3, \"15\": 10}, \"5\": {\"10\": 21, \"5\": 49, \"1\": 12, \"13\": 2}, \"0\": {\"0\": 84}, \"2\": {\"2\": 80, \"12\": 1, \"15\": 2, \"13\": 1}, \"11\": {\"11\": 44, \"8\": 23, \"7\": 8, \"6\": 5, \"12\": 1, \"4\": 2, \"13\": 1}, \"14\": {\"14\": 64, \"6\": 13, \"8\": 1, \"1\": 5, \"4\": 1}, \"7\": {\"1\": 6, \"4\": 18, \"7\": 60}, \"4\": {\"4\": 48, \"6\": 7, \"7\": 14, \"1\": 11, \"5\": 1, \"11\": 2, \"8\": 1}}, \"50\": {\"12\": {\"12\": 68, \"11\": 10, \"9\": 3, \"15\": 3}, \"8\": {\"8\": 84}, \"2\": {\"2\": 79, \"0\": 5}, \"3\": {\"3\": 84}, \"15\": {\"15\": 69, \"4\": 3, \"12\": 4, \"6\": 5, \"9\": 3}, \"5\": {\"5\": 49, \"6\": 6, \"4\": 22, \"7\": 7}, \"11\": {\"11\": 71, \"12\": 12, \"1\": 1}, \"13\": {\"13\": 79, \"1\": 4, \"8\": 1}, \"0\": {\"0\": 70, \"10\": 6, \"2\": 8}, \"14\": {\"14\": 83, \"2\": 1}, \"9\": {\"9\": 73, \"15\": 6, \"12\": 3, \"11\": 2}, \"7\": {\"7\": 71, \"4\": 11, \"5\": 2}, \"4\": {\"4\": 69, \"7\": 4, \"5\": 9, \"15\": 2}, \"1\": {\"1\": 81, \"11\": 1, \"13\": 2}, \"10\": {\"10\": 79, \"0\": 2, \"13\": 3}, \"6\": {\"6\": 57, \"15\": 9, \"5\": 14, \"4\": 4}}, \"32\": {\"4\": {\"4\": 58, \"0\": 10, \"11\": 15, \"3\": 1}, \"7\": {\"0\": 16, \"8\": 23, \"7\": 31, \"2\": 12, \"15\": 1, \"14\": 1}, \"11\": {\"11\": 32, \"4\": 33, \"13\": 18, \"0\": 1}, \"15\": {\"15\": 81, \"5\": 2, \"7\": 1}, \"12\": {\"12\": 83, \"9\": 1}, \"2\": {\"14\": 21, \"2\": 44, \"0\": 10, \"7\": 9}, \"8\": {\"8\": 49, \"0\": 6, \"7\": 27, \"4\": 1, \"15\": 1}, \"14\": {\"14\": 51, \"2\": 28, \"7\": 3, \"0\": 2}, \"3\": {\"3\": 80, \"4\": 2, \"13\": 2}, \"5\": {\"5\": 71, \"15\": 5, \"2\": 3, \"8\": 1, \"14\": 3, \"0\": 1}, \"10\": {\"10\": 84}, \"6\": {\"6\": 84}, \"0\": {\"0\": 40, \"7\": 16, \"2\": 12, \"8\": 11, \"4\": 3, \"14\": 2}, \"9\": {\"9\": 83, \"12\": 1}, \"1\": {\"1\": 84}, \"13\": {\"13\": 61, \"11\": 10, \"3\": 11, \"4\": 2}}, \"14\": {\"15\": {\"15\": 84}, \"3\": {\"3\": 76, \"2\": 1, \"6\": 6, \"7\": 1}, \"6\": {\"13\": 23, \"6\": 56, \"3\": 4, \"7\": 1}, \"1\": {\"1\": 84}, \"8\": {\"8\": 55, \"0\": 8, \"10\": 17, \"12\": 3, \"4\": 1}, \"10\": {\"8\": 24, \"10\": 31, \"0\": 16, \"5\": 5, \"3\": 4, \"12\": 2, \"4\": 2}, \"9\": {\"9\": 84}, \"13\": {\"13\": 54, \"6\": 30}, \"12\": {\"12\": 19, \"8\": 10, \"15\": 18, \"9\": 16, \"10\": 3, \"3\": 7, \"11\": 6, \"4\": 1, \"1\": 1, \"6\": 1, \"0\": 2}, \"5\": {\"14\": 11, \"5\": 54, \"7\": 2, \"2\": 12, \"8\": 1, \"0\": 2, \"10\": 2}, \"0\": {\"0\": 58, \"8\": 6, \"4\": 10, \"10\": 10}, \"2\": {\"7\": 18, \"2\": 22, \"5\": 17, \"3\": 5, \"4\": 2, \"14\": 20}, \"11\": {\"11\": 84}, \"14\": {\"14\": 25, \"5\": 30, \"2\": 20, \"3\": 1, \"7\": 8}, \"7\": {\"14\": 5, \"7\": 63, \"2\": 13, \"6\": 2, \"3\": 1}, \"4\": {\"4\": 60, \"5\": 3, \"0\": 21}}, \"26\": {\"12\": {\"12\": 84}, \"8\": {\"15\": 10, \"8\": 27, \"10\": 3, \"0\": 2, \"9\": 16, \"2\": 21, \"7\": 4, \"13\": 1}, \"2\": {\"2\": 31, \"9\": 20, \"0\": 1, \"8\": 19, \"15\": 4, \"7\": 6, \"13\": 1, \"3\": 2}, \"3\": {\"3\": 67, \"7\": 15, \"9\": 1, \"2\": 1}, \"15\": {\"2\": 7, \"14\": 3, \"15\": 47, \"0\": 21, \"10\": 5, \"8\": 1}, \"5\": {\"14\": 11, \"5\": 27, \"1\": 13, \"6\": 28, \"0\": 2, \"10\": 3}, \"11\": {\"11\": 84}, \"13\": {\"13\": 65, \"7\": 7, \"8\": 2, \"9\": 7, \"3\": 1, \"12\": 2}, \"0\": {\"0\": 27, \"14\": 11, \"15\": 22, \"10\": 19, \"2\": 2, \"8\": 2, \"6\": 1}, \"14\": {\"6\": 7, \"14\": 29, \"5\": 4, \"1\": 6, \"10\": 22, \"0\": 13, \"15\": 2, \"8\": 1}, \"9\": {\"7\": 5, \"9\": 32, \"8\": 21, \"13\": 13, \"2\": 10, \"15\": 2, \"10\": 1}, \"7\": {\"8\": 3, \"7\": 51, \"2\": 6, \"3\": 12, \"9\": 6, \"13\": 6}, \"4\": {\"4\": 81, \"3\": 2, \"7\": 1}, \"1\": {\"1\": 63, \"5\": 12, \"6\": 4, \"14\": 5}, \"10\": {\"10\": 19, \"0\": 25, \"15\": 11, \"1\": 5, \"6\": 8, \"8\": 3, \"9\": 3, \"14\": 7, \"5\": 3}, \"6\": {\"5\": 37, \"6\": 38, \"1\": 5, \"14\": 3, \"10\": 1}}, \"38\": {\"4\": {\"4\": 60, \"3\": 4, \"10\": 17, \"7\": 2, \"13\": 1}, \"7\": {\"7\": 71, \"0\": 12, \"14\": 1}, \"11\": {\"11\": 84}, \"15\": {\"15\": 42, \"6\": 21, \"1\": 20, \"12\": 1}, \"12\": {\"12\": 37, \"8\": 9, \"9\": 5, \"5\": 32, \"2\": 1}, \"2\": {\"2\": 72, \"14\": 10, \"8\": 1, \"12\": 1}, \"8\": {\"9\": 3, \"12\": 10, \"8\": 66, \"7\": 2, \"5\": 3}, \"14\": {\"14\": 48, \"2\": 18, \"7\": 9, \"4\": 1, \"8\": 4, \"13\": 4}, \"3\": {\"3\": 34, \"13\": 19, \"4\": 18, \"10\": 12, \"11\": 1}, \"5\": {\"12\": 16, \"8\": 27, \"5\": 30, \"9\": 8, \"1\": 1, \"2\": 1, \"0\": 1}, \"10\": {\"10\": 32, \"3\": 23, \"13\": 10, \"4\": 19}, \"6\": {\"6\": 80, \"15\": 4}, \"0\": {\"7\": 14, \"0\": 70}, \"9\": {\"9\": 72, \"12\": 3, \"5\": 8, \"0\": 1}, \"1\": {\"1\": 74, \"15\": 10}, \"13\": {\"13\": 59, \"3\": 12, \"10\": 11, \"4\": 2}}, \"20\": {\"11\": {\"11\": 50, \"0\": 7, \"8\": 24, \"14\": 3}, \"15\": {\"9\": 15, \"4\": 7, \"5\": 5, \"3\": 6, \"7\": 4, \"1\": 4, \"2\": 5, \"15\": 29, \"13\": 2, \"12\": 6, \"10\": 1}, \"3\": {\"7\": 13, \"2\": 10, \"13\": 1, \"5\": 12, \"4\": 13, \"15\": 8, \"3\": 16, \"9\": 7, \"10\": 2, \"12\": 1, \"1\": 1}, \"5\": {\"15\": 11, \"3\": 8, \"1\": 20, \"2\": 13, \"5\": 18, \"14\": 2, \"9\": 6, \"4\": 3, \"7\": 3}, \"1\": {\"1\": 64, \"5\": 7, \"15\": 3, \"9\": 3, \"2\": 5, \"14\": 2}, \"0\": {\"11\": 12, \"0\": 61, \"1\": 9, \"8\": 2}, \"12\": {\"12\": 40, \"13\": 38, \"10\": 3, \"9\": 1, \"7\": 1, \"4\": 1}, \"13\": {\"12\": 33, \"13\": 42, \"15\": 2, \"4\": 5, \"2\": 1, \"7\": 1}, \"10\": {\"10\": 53, \"13\": 1, \"6\": 17, \"7\": 9, \"12\": 3, \"4\": 1}, \"8\": {\"14\": 24, \"11\": 29, \"8\": 31}, \"6\": {\"6\": 63, \"10\": 13, \"7\": 7, \"3\": 1}, \"14\": {\"14\": 58, \"11\": 6, \"8\": 15, \"5\": 2, \"6\": 1, \"1\": 1, \"0\": 1}, \"2\": {\"2\": 18, \"9\": 12, \"5\": 16, \"15\": 16, \"1\": 4, \"3\": 7, \"7\": 5, \"4\": 5, \"14\": 1}, \"7\": {\"4\": 11, \"7\": 35, \"6\": 8, \"10\": 9, \"3\": 11, \"9\": 2, \"15\": 3, \"2\": 1, \"12\": 3, \"5\": 1}, \"4\": {\"3\": 15, \"7\": 13, \"15\": 15, \"4\": 14, \"12\": 4, \"9\": 11, \"5\": 7, \"2\": 5}, \"9\": {\"15\": 18, \"4\": 11, \"9\": 11, \"2\": 6, \"5\": 15, \"3\": 13, \"1\": 4, \"7\": 4, \"12\": 2}}, \"44\": {\"5\": {\"5\": 61, \"15\": 5, \"14\": 8, \"4\": 1, \"8\": 9}, \"15\": {\"15\": 57, \"8\": 6, \"0\": 4, \"5\": 16, \"14\": 1}, \"11\": {\"11\": 84}, \"13\": {\"13\": 75, \"6\": 7, \"4\": 2}, \"14\": {\"4\": 15, \"14\": 64, \"5\": 4, \"15\": 1}, \"10\": {\"10\": 78, \"7\": 4, \"6\": 2}, \"6\": {\"6\": 79, \"7\": 4, \"13\": 1}, \"12\": {\"12\": 72, \"3\": 12}, \"0\": {\"0\": 62, \"8\": 18, \"5\": 1, \"15\": 3}, \"4\": {\"14\": 17, \"4\": 67}, \"8\": {\"8\": 67, \"0\": 9, \"15\": 1, \"5\": 7}, \"3\": {\"3\": 73, \"12\": 10, \"1\": 1}, \"1\": {\"1\": 62, \"2\": 22}, \"2\": {\"2\": 74, \"1\": 10}, \"7\": {\"7\": 57, \"9\": 23, \"10\": 3, \"6\": 1}, \"9\": {\"9\": 51, \"7\": 29, \"4\": 3, \"6\": 1}}}, \"per_domain_accuracy\": {\"8\": {\"accuracy\": 0.7328869047619048, \"source?\": true}, \"50\": {\"accuracy\": 0.8675595238095238, \"source?\": true}, \"32\": {\"accuracy\": 0.7559523809523809, \"source?\": true}, \"14\": {\"accuracy\": 0.6763392857142857, \"source?\": false}, \"26\": {\"accuracy\": 0.5744047619047619, \"source?\": false}, \"38\": {\"accuracy\": 0.6927083333333334, \"source?\": false}, \"20\": {\"accuracy\": 0.4486607142857143, \"source?\": false}, \"44\": {\"accuracy\": 0.8058035714285714, \"source?\": false}}}, \"history\": {\"epoch_indices\": [1, 2, 3, 4, 5, 6, 7, 8, 9, 10, 11, 12, 13, 14, 15], \"train_label_loss\": [1.256302894751231, 1.3514610834916432, 1.059870999455452, 0.762714660068353, 0.6649804746607939, 0.5973850824932257, 0.5447815363605817, 0.5129132719089587, 0.46895890280604363, 0.45521761956314244, 0.42957615576684477, 0.40670823206504186, 0.3763250914712747, 0.3696562759578228, 0.3445609575261672], \"source_val_label_loss\": [1.764593482017517, 1.2485201358795166, 0.8835602402687073, 0.7489024996757507, 0.7033533453941345, 0.6436902284622192, 0.6528515815734863, 0.6218241453170776, 0.5894404649734497, 0.5927746891975403, 0.5864222049713135, 0.5855137705802917, 0.5854235887527466, 0.6178215146064758, 0.5780565142631531], \"target_val_label_loss\": [2.1093828678131104, 1.703365445137024, 1.5034435987472534, 1.3237744569778442, 1.2925481796264648, 1.2903364896774292, 1.444333553314209, 1.230536699295044, 1.2636303901672363, 1.2747961282730103, 1.21369469165802, 1.3724749088287354, 1.3450524806976318, 1.4582529067993164, 1.2845419645309448], \"source_val_acc_label\": [0.4779265873015873, 0.4806547619047619, 0.6708829365079365, 0.7256944444444444, 0.7361111111111112, 0.7544642857142857, 0.7648809523809523, 0.7718253968253969, 0.7827380952380952, 0.785218253968254, 0.7854662698412699, 0.7859623015873016, 0.7911706349206349, 0.7906746031746031, 0.7946428571428571], \"target_val_acc_label\": [0.3944940476190476, 0.4080357142857143, 0.5395833333333333, 0.580654761904762, 0.5967261904761905, 0.6095238095238096, 0.6141369047619047, 0.6157738095238096, 0.6269345238095239, 0.6313988095238096, 0.6395833333333333, 0.6382440476190476, 0.6351190476190476, 0.6379464285714286, 0.6419642857142858]}, \"dataset_metrics\": {\"source\": {\"train\": {\"n_unique_x\": 33600, \"n_unique_y\": 16, \"n_batch/episode\": 300}, \"val\": {\"n_unique_x\": 7198, \"n_unique_y\": 16, \"n_batch/episode\": 126}, \"test\": {\"n_unique_x\": 7198, \"n_unique_y\": 16, \"n_batch/episode\": 126}}, \"target\": {\"train\": {\"n_unique_x\": 56000, \"n_unique_y\": 16, \"n_batch/episode\": 500}, \"val\": {\"n_unique_x\": 11996, \"n_unique_y\": 16, \"n_batch/episode\": 210}, \"test\": {\"n_unique_x\": 11996, \"n_unique_y\": 16, \"n_batch/episode\": 210}}}}'"
      ]
     },
     "execution_count": 20,
     "metadata": {},
     "output_type": "execute_result"
    }
   ],
   "source": [
    "json.dumps(experiment)"
   ]
  }
 ],
 "metadata": {
  "celltoolbar": "Tags",
  "kernelspec": {
   "display_name": "Python 3 (ipykernel)",
   "language": "python",
   "name": "python3"
  },
  "language_info": {
   "codemirror_mode": {
    "name": "ipython",
    "version": 3
   },
   "file_extension": ".py",
   "mimetype": "text/x-python",
   "name": "python",
   "nbconvert_exporter": "python",
   "pygments_lexer": "ipython3",
   "version": "3.8.10"
  },
  "papermill": {
   "default_parameters": {},
   "duration": 209.801042,
   "end_time": "2022-03-05T00:43:38.244401",
   "environment_variables": {},
   "exception": null,
   "input_path": "/mnt/wd500GB/CSC500/csc500-main/csc500-notebooks/templates/ptn_template.ipynb",
   "output_path": "trial.ipynb",
   "parameters": {
    "parameters": {
     "BEST_MODEL_PATH": "./best_model.pth",
     "NUM_LOGS_PER_EPOCH": 10,
     "criteria_for_best": "target_loss",
     "dataset_seed": 1337,
     "device": "cuda",
     "domains_source": [
      8,
      32,
      50
     ],
     "domains_target": [
      14,
      20,
      26,
      38,
      44
     ],
     "episode_transforms_source": [],
     "episode_transforms_target": [],
     "experiment_name": "nShot_oracle.run2",
     "labels_source": [
      "3123D52",
      "3123D65",
      "3123D79",
      "3123D80",
      "3123D54",
      "3123D70",
      "3123D7B",
      "3123D89",
      "3123D58",
      "3123D76",
      "3123D7D",
      "3123EFE",
      "3123D64",
      "3123D78",
      "3123D7E",
      "3124E4A"
     ],
     "labels_target": [
      "3123D52",
      "3123D65",
      "3123D79",
      "3123D80",
      "3123D54",
      "3123D70",
      "3123D7B",
      "3123D89",
      "3123D58",
      "3123D76",
      "3123D7D",
      "3123EFE",
      "3123D64",
      "3123D78",
      "3123D7E",
      "3124E4A"
     ],
     "lr": 0.001,
     "n_epoch": 50,
     "n_query": 2,
     "n_shot": 5,
     "n_way": 16,
     "num_examples_per_domain_per_label_source": 1000,
     "num_examples_per_domain_per_label_target": 1000,
     "patience": 3,
     "pickle_name": "oracle.Run2_10kExamples_stratified_ds.2022A.pkl",
     "seed": 1337,
     "test_k_factor": 2,
     "torch_default_dtype": "torch.float32",
     "train_k_factor": 1,
     "val_k_factor": 2,
     "x_net": [
      {
       "class": "nnReshape",
       "kargs": {
        "shape": [
         -1,
         1,
         2,
         256
        ]
       }
      },
      {
       "class": "Conv2d",
       "kargs": {
        "bias": false,
        "in_channels": 1,
        "kernel_size": [
         1,
         7
        ],
        "out_channels": 256,
        "padding": [
         0,
         3
        ]
       }
      },
      {
       "class": "ReLU",
       "kargs": {
        "inplace": true
       }
      },
      {
       "class": "BatchNorm2d",
       "kargs": {
        "num_features": 256
       }
      },
      {
       "class": "Conv2d",
       "kargs": {
        "bias": true,
        "in_channels": 256,
        "kernel_size": [
         2,
         7
        ],
        "out_channels": 80,
        "padding": [
         0,
         3
        ]
       }
      },
      {
       "class": "ReLU",
       "kargs": {
        "inplace": true
       }
      },
      {
       "class": "BatchNorm2d",
       "kargs": {
        "num_features": 80
       }
      },
      {
       "class": "Flatten",
       "kargs": {}
      },
      {
       "class": "Linear",
       "kargs": {
        "in_features": 20480,
        "out_features": 256
       }
      },
      {
       "class": "ReLU",
       "kargs": {
        "inplace": true
       }
      },
      {
       "class": "BatchNorm1d",
       "kargs": {
        "num_features": 256
       }
      },
      {
       "class": "Linear",
       "kargs": {
        "in_features": 256,
        "out_features": 256
       }
      }
     ],
     "x_transforms_source": [],
     "x_transforms_target": []
    }
   },
   "start_time": "2022-03-05T00:40:08.443359",
   "version": "2.3.4"
  }
 },
 "nbformat": 4,
 "nbformat_minor": 5
}