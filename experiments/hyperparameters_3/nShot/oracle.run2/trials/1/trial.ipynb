{
 "cells": [
  {
   "cell_type": "markdown",
   "id": "9fea5f46",
   "metadata": {
    "papermill": {
     "duration": 0.014804,
     "end_time": "2022-03-05T00:22:58.892068",
     "exception": false,
     "start_time": "2022-03-05T00:22:58.877264",
     "status": "completed"
    },
    "tags": []
   },
   "source": [
    "# PTN Template\n",
    "This notebook serves as a template for single dataset PTN experiments  \n",
    "It can be run on its own by setting STANDALONE to True (do a find for \"STANDALONE\" to see where)  \n",
    "But it is intended to be executed as part of a *papermill.py script. See any of the   \n",
    "experimentes with a papermill script to get started with that workflow.  "
   ]
  },
  {
   "cell_type": "code",
   "execution_count": 1,
   "id": "0902182a",
   "metadata": {
    "execution": {
     "iopub.execute_input": "2022-03-05T00:22:58.925340Z",
     "iopub.status.busy": "2022-03-05T00:22:58.923457Z",
     "iopub.status.idle": "2022-03-05T00:22:59.688799Z",
     "shell.execute_reply": "2022-03-05T00:22:59.688262Z"
    },
    "papermill": {
     "duration": 0.786616,
     "end_time": "2022-03-05T00:22:59.688909",
     "exception": false,
     "start_time": "2022-03-05T00:22:58.902293",
     "status": "completed"
    },
    "tags": []
   },
   "outputs": [],
   "source": [
    "%load_ext autoreload\n",
    "%autoreload 2\n",
    "%matplotlib inline\n",
    "\n",
    "    \n",
    "import os, json, sys, time, random\n",
    "import numpy as np\n",
    "import torch\n",
    "from torch.optim import Adam\n",
    "from  easydict import EasyDict\n",
    "import matplotlib.pyplot as plt\n",
    "\n",
    "from steves_models.steves_ptn import Steves_Prototypical_Network\n",
    "\n",
    "from steves_utils.lazy_iterable_wrapper import Lazy_Iterable_Wrapper\n",
    "from steves_utils.iterable_aggregator import Iterable_Aggregator\n",
    "from steves_utils.ptn_train_eval_test_jig import  PTN_Train_Eval_Test_Jig\n",
    "from steves_utils.torch_sequential_builder import build_sequential\n",
    "from steves_utils.torch_utils import get_dataset_metrics, ptn_confusion_by_domain_over_dataloader\n",
    "from steves_utils.utils_v2 import (per_domain_accuracy_from_confusion, get_datasets_base_path)\n",
    "from steves_utils.PTN.utils import independent_accuracy_assesment\n",
    "\n",
    "from steves_utils.stratified_dataset.episodic_accessor import Episodic_Accessor_Factory\n",
    "\n",
    "from steves_utils.ptn_do_report import (\n",
    "    get_loss_curve,\n",
    "    get_results_table,\n",
    "    get_parameters_table,\n",
    "    get_domain_accuracies,\n",
    ")\n",
    "\n",
    "from steves_utils.transforms import get_chained_transform"
   ]
  },
  {
   "cell_type": "markdown",
   "id": "41c840b4",
   "metadata": {
    "papermill": {
     "duration": 0.009835,
     "end_time": "2022-03-05T00:22:59.714154",
     "exception": false,
     "start_time": "2022-03-05T00:22:59.704319",
     "status": "completed"
    },
    "tags": []
   },
   "source": [
    "# Required Parameters\n",
    "These are allowed parameters, not defaults\n",
    "Each of these values need to be present in the injected parameters (the notebook will raise an exception if they are not present)\n",
    "\n",
    "Papermill uses the cell tag \"parameters\" to inject the real parameters below this cell.\n",
    "Enable tags to see what I mean"
   ]
  },
  {
   "cell_type": "code",
   "execution_count": 2,
   "id": "fd44eb83",
   "metadata": {
    "execution": {
     "iopub.execute_input": "2022-03-05T00:22:59.737266Z",
     "iopub.status.busy": "2022-03-05T00:22:59.735685Z",
     "iopub.status.idle": "2022-03-05T00:22:59.750159Z",
     "shell.execute_reply": "2022-03-05T00:22:59.749784Z"
    },
    "papermill": {
     "duration": 0.026178,
     "end_time": "2022-03-05T00:22:59.750239",
     "exception": false,
     "start_time": "2022-03-05T00:22:59.724061",
     "status": "completed"
    },
    "tags": []
   },
   "outputs": [],
   "source": [
    "required_parameters = {\n",
    "    \"experiment_name\",\n",
    "    \"lr\",\n",
    "    \"device\",\n",
    "    \"seed\",\n",
    "    \"dataset_seed\",\n",
    "    \"labels_source\",\n",
    "    \"labels_target\",\n",
    "    \"domains_source\",\n",
    "    \"domains_target\",\n",
    "    \"num_examples_per_domain_per_label_source\",\n",
    "    \"num_examples_per_domain_per_label_target\",\n",
    "    \"n_shot\",\n",
    "    \"n_way\",\n",
    "    \"n_query\",\n",
    "    \"train_k_factor\",\n",
    "    \"val_k_factor\",\n",
    "    \"test_k_factor\",\n",
    "    \"n_epoch\",\n",
    "    \"patience\",\n",
    "    \"criteria_for_best\",\n",
    "    \"x_transforms_source\",\n",
    "    \"x_transforms_target\",\n",
    "    \"episode_transforms_source\",\n",
    "    \"episode_transforms_target\",\n",
    "    \"pickle_name\",\n",
    "    \"x_net\",\n",
    "    \"NUM_LOGS_PER_EPOCH\",\n",
    "    \"BEST_MODEL_PATH\",\n",
    "    \"torch_default_dtype\"\n",
    "}"
   ]
  },
  {
   "cell_type": "code",
   "execution_count": 3,
   "id": "fa3f0049",
   "metadata": {
    "execution": {
     "iopub.execute_input": "2022-03-05T00:22:59.782655Z",
     "iopub.status.busy": "2022-03-05T00:22:59.779375Z",
     "iopub.status.idle": "2022-03-05T00:22:59.793939Z",
     "shell.execute_reply": "2022-03-05T00:22:59.793471Z"
    },
    "papermill": {
     "duration": 0.030375,
     "end_time": "2022-03-05T00:22:59.794035",
     "exception": false,
     "start_time": "2022-03-05T00:22:59.763660",
     "status": "completed"
    },
    "tags": [
     "parameters"
    ]
   },
   "outputs": [],
   "source": [
    "\n",
    "\n",
    "standalone_parameters = {}\n",
    "standalone_parameters[\"experiment_name\"] = \"STANDALONE PTN\"\n",
    "standalone_parameters[\"lr\"] = 0.0001\n",
    "standalone_parameters[\"device\"] = \"cuda\"\n",
    "\n",
    "standalone_parameters[\"seed\"] = 1337\n",
    "standalone_parameters[\"dataset_seed\"] = 1337\n",
    "\n",
    "\n",
    "standalone_parameters[\"num_examples_per_domain_per_label_source\"]=100\n",
    "standalone_parameters[\"num_examples_per_domain_per_label_target\"]=100\n",
    "\n",
    "standalone_parameters[\"n_shot\"] = 3\n",
    "standalone_parameters[\"n_query\"]  = 2\n",
    "standalone_parameters[\"train_k_factor\"] = 1\n",
    "standalone_parameters[\"val_k_factor\"] = 2\n",
    "standalone_parameters[\"test_k_factor\"] = 2\n",
    "\n",
    "\n",
    "standalone_parameters[\"n_epoch\"] = 100\n",
    "\n",
    "standalone_parameters[\"patience\"] = 10\n",
    "standalone_parameters[\"criteria_for_best\"] = \"target_accuracy\"\n",
    "\n",
    "standalone_parameters[\"x_transforms_source\"] = [\"unit_power\"]\n",
    "standalone_parameters[\"x_transforms_target\"] = [\"unit_power\"]\n",
    "standalone_parameters[\"episode_transforms_source\"] = []\n",
    "standalone_parameters[\"episode_transforms_target\"] = []\n",
    "\n",
    "standalone_parameters[\"torch_default_dtype\"] = \"torch.float32\" \n",
    "\n",
    "\n",
    "\n",
    "standalone_parameters[\"x_net\"] =     [\n",
    "    {\"class\": \"nnReshape\", \"kargs\": {\"shape\":[-1, 1, 2, 256]}},\n",
    "    {\"class\": \"Conv2d\", \"kargs\": { \"in_channels\":1, \"out_channels\":256, \"kernel_size\":(1,7), \"bias\":False, \"padding\":(0,3), },},\n",
    "    {\"class\": \"ReLU\", \"kargs\": {\"inplace\": True}},\n",
    "    {\"class\": \"BatchNorm2d\", \"kargs\": {\"num_features\":256}},\n",
    "\n",
    "    {\"class\": \"Conv2d\", \"kargs\": { \"in_channels\":256, \"out_channels\":80, \"kernel_size\":(2,7), \"bias\":True, \"padding\":(0,3), },},\n",
    "    {\"class\": \"ReLU\", \"kargs\": {\"inplace\": True}},\n",
    "    {\"class\": \"BatchNorm2d\", \"kargs\": {\"num_features\":80}},\n",
    "    {\"class\": \"Flatten\", \"kargs\": {}},\n",
    "\n",
    "    {\"class\": \"Linear\", \"kargs\": {\"in_features\": 80*256, \"out_features\": 256}}, # 80 units per IQ pair\n",
    "    {\"class\": \"ReLU\", \"kargs\": {\"inplace\": True}},\n",
    "    {\"class\": \"BatchNorm1d\", \"kargs\": {\"num_features\":256}},\n",
    "\n",
    "    {\"class\": \"Linear\", \"kargs\": {\"in_features\": 256, \"out_features\": 256}},\n",
    "]\n",
    "\n",
    "# Parameters relevant to results\n",
    "# These parameters will basically never need to change\n",
    "standalone_parameters[\"NUM_LOGS_PER_EPOCH\"] = 10\n",
    "standalone_parameters[\"BEST_MODEL_PATH\"] = \"./best_model.pth\"\n",
    "\n",
    "# uncomment for CORES dataset\n",
    "from steves_utils.CORES.utils import (\n",
    "    ALL_NODES,\n",
    "    ALL_NODES_MINIMUM_1000_EXAMPLES,\n",
    "    ALL_DAYS\n",
    ")\n",
    "\n",
    "\n",
    "standalone_parameters[\"labels_source\"] = ALL_NODES\n",
    "standalone_parameters[\"labels_target\"] = ALL_NODES\n",
    "\n",
    "standalone_parameters[\"domains_source\"] = [1]\n",
    "standalone_parameters[\"domains_target\"] = [2,3,4,5]\n",
    "\n",
    "standalone_parameters[\"pickle_name\"] = \"cores.stratified_ds.2022A.pkl\"\n",
    "\n",
    "\n",
    "# Uncomment these for ORACLE dataset\n",
    "# from steves_utils.ORACLE.utils_v2 import (\n",
    "#     ALL_DISTANCES_FEET,\n",
    "#     ALL_RUNS,\n",
    "#     ALL_SERIAL_NUMBERS,\n",
    "# )\n",
    "# standalone_parameters[\"labels_source\"] = ALL_SERIAL_NUMBERS\n",
    "# standalone_parameters[\"labels_target\"] = ALL_SERIAL_NUMBERS\n",
    "# standalone_parameters[\"domains_source\"] = [8,20, 38,50]\n",
    "# standalone_parameters[\"domains_target\"] = [14, 26, 32, 44, 56]\n",
    "# standalone_parameters[\"pickle_name\"] = \"oracle.frame_indexed.stratified_ds.2022A.pkl\"\n",
    "# standalone_parameters[\"num_examples_per_domain_per_label_source\"]=1000\n",
    "# standalone_parameters[\"num_examples_per_domain_per_label_target\"]=1000\n",
    "\n",
    "# Uncomment these for Metahan dataset\n",
    "# standalone_parameters[\"labels_source\"] = list(range(19))\n",
    "# standalone_parameters[\"labels_target\"] = list(range(19))\n",
    "# standalone_parameters[\"domains_source\"] = [0]\n",
    "# standalone_parameters[\"domains_target\"] = [1]\n",
    "# standalone_parameters[\"pickle_name\"] = \"metehan.stratified_ds.2022A.pkl\"\n",
    "# standalone_parameters[\"n_way\"]  = len(standalone_parameters[\"labels_source\"])\n",
    "# standalone_parameters[\"num_examples_per_domain_per_label_source\"]=200\n",
    "# standalone_parameters[\"num_examples_per_domain_per_label_target\"]=100\n",
    "\n",
    "\n",
    "standalone_parameters[\"n_way\"]  = len(standalone_parameters[\"labels_source\"])"
   ]
  },
  {
   "cell_type": "code",
   "execution_count": 4,
   "id": "a75c7781",
   "metadata": {
    "execution": {
     "iopub.execute_input": "2022-03-05T00:22:59.823715Z",
     "iopub.status.busy": "2022-03-05T00:22:59.821878Z",
     "iopub.status.idle": "2022-03-05T00:22:59.834505Z",
     "shell.execute_reply": "2022-03-05T00:22:59.834071Z"
    },
    "papermill": {
     "duration": 0.028966,
     "end_time": "2022-03-05T00:22:59.834598",
     "exception": false,
     "start_time": "2022-03-05T00:22:59.805632",
     "status": "completed"
    },
    "tags": [
     "injected-parameters"
    ]
   },
   "outputs": [],
   "source": [
    "# Parameters\n",
    "parameters = {\n",
    "    \"experiment_name\": \"nShot_oracle.run2\",\n",
    "    \"device\": \"cuda\",\n",
    "    \"lr\": 0.001,\n",
    "    \"seed\": 1337,\n",
    "    \"dataset_seed\": 1337,\n",
    "    \"labels_source\": [\n",
    "        \"3123D52\",\n",
    "        \"3123D65\",\n",
    "        \"3123D79\",\n",
    "        \"3123D80\",\n",
    "        \"3123D54\",\n",
    "        \"3123D70\",\n",
    "        \"3123D7B\",\n",
    "        \"3123D89\",\n",
    "        \"3123D58\",\n",
    "        \"3123D76\",\n",
    "        \"3123D7D\",\n",
    "        \"3123EFE\",\n",
    "        \"3123D64\",\n",
    "        \"3123D78\",\n",
    "        \"3123D7E\",\n",
    "        \"3124E4A\",\n",
    "    ],\n",
    "    \"labels_target\": [\n",
    "        \"3123D52\",\n",
    "        \"3123D65\",\n",
    "        \"3123D79\",\n",
    "        \"3123D80\",\n",
    "        \"3123D54\",\n",
    "        \"3123D70\",\n",
    "        \"3123D7B\",\n",
    "        \"3123D89\",\n",
    "        \"3123D58\",\n",
    "        \"3123D76\",\n",
    "        \"3123D7D\",\n",
    "        \"3123EFE\",\n",
    "        \"3123D64\",\n",
    "        \"3123D78\",\n",
    "        \"3123D7E\",\n",
    "        \"3124E4A\",\n",
    "    ],\n",
    "    \"x_transforms_source\": [],\n",
    "    \"x_transforms_target\": [],\n",
    "    \"episode_transforms_source\": [],\n",
    "    \"episode_transforms_target\": [],\n",
    "    \"num_examples_per_domain_per_label_source\": 1000,\n",
    "    \"num_examples_per_domain_per_label_target\": 1000,\n",
    "    \"n_way\": 16,\n",
    "    \"n_query\": 2,\n",
    "    \"train_k_factor\": 1,\n",
    "    \"val_k_factor\": 2,\n",
    "    \"test_k_factor\": 2,\n",
    "    \"torch_default_dtype\": \"torch.float32\",\n",
    "    \"n_epoch\": 50,\n",
    "    \"patience\": 3,\n",
    "    \"criteria_for_best\": \"target_loss\",\n",
    "    \"x_net\": [\n",
    "        {\"class\": \"nnReshape\", \"kargs\": {\"shape\": [-1, 1, 2, 256]}},\n",
    "        {\n",
    "            \"class\": \"Conv2d\",\n",
    "            \"kargs\": {\n",
    "                \"in_channels\": 1,\n",
    "                \"out_channels\": 256,\n",
    "                \"kernel_size\": [1, 7],\n",
    "                \"bias\": False,\n",
    "                \"padding\": [0, 3],\n",
    "            },\n",
    "        },\n",
    "        {\"class\": \"ReLU\", \"kargs\": {\"inplace\": True}},\n",
    "        {\"class\": \"BatchNorm2d\", \"kargs\": {\"num_features\": 256}},\n",
    "        {\n",
    "            \"class\": \"Conv2d\",\n",
    "            \"kargs\": {\n",
    "                \"in_channels\": 256,\n",
    "                \"out_channels\": 80,\n",
    "                \"kernel_size\": [2, 7],\n",
    "                \"bias\": True,\n",
    "                \"padding\": [0, 3],\n",
    "            },\n",
    "        },\n",
    "        {\"class\": \"ReLU\", \"kargs\": {\"inplace\": True}},\n",
    "        {\"class\": \"BatchNorm2d\", \"kargs\": {\"num_features\": 80}},\n",
    "        {\"class\": \"Flatten\", \"kargs\": {}},\n",
    "        {\"class\": \"Linear\", \"kargs\": {\"in_features\": 20480, \"out_features\": 256}},\n",
    "        {\"class\": \"ReLU\", \"kargs\": {\"inplace\": True}},\n",
    "        {\"class\": \"BatchNorm1d\", \"kargs\": {\"num_features\": 256}},\n",
    "        {\"class\": \"Linear\", \"kargs\": {\"in_features\": 256, \"out_features\": 256}},\n",
    "    ],\n",
    "    \"NUM_LOGS_PER_EPOCH\": 10,\n",
    "    \"BEST_MODEL_PATH\": \"./best_model.pth\",\n",
    "    \"pickle_name\": \"oracle.Run2_10kExamples_stratified_ds.2022A.pkl\",\n",
    "    \"n_shot\": 1,\n",
    "    \"domains_source\": [8, 32, 50],\n",
    "    \"domains_target\": [14, 20, 26, 38, 44],\n",
    "}\n"
   ]
  },
  {
   "cell_type": "code",
   "execution_count": 5,
   "id": "8fa1cc33",
   "metadata": {
    "execution": {
     "iopub.execute_input": "2022-03-05T00:22:59.861224Z",
     "iopub.status.busy": "2022-03-05T00:22:59.860772Z",
     "iopub.status.idle": "2022-03-05T00:22:59.874009Z",
     "shell.execute_reply": "2022-03-05T00:22:59.873553Z"
    },
    "papermill": {
     "duration": 0.026061,
     "end_time": "2022-03-05T00:22:59.874099",
     "exception": false,
     "start_time": "2022-03-05T00:22:59.848038",
     "status": "completed"
    },
    "tags": []
   },
   "outputs": [],
   "source": [
    "# Set this to True if you want to run this template directly\n",
    "STANDALONE = False\n",
    "if STANDALONE:\n",
    "    print(\"parameters not injected, running with standalone_parameters\")\n",
    "    parameters = standalone_parameters\n",
    "\n",
    "if not 'parameters' in locals() and not 'parameters' in globals():\n",
    "    raise Exception(\"Parameter injection failed\")\n",
    "\n",
    "#Use an easy dict for all the parameters\n",
    "p = EasyDict(parameters)\n",
    "\n",
    "supplied_keys = set(p.keys())\n",
    "\n",
    "if  supplied_keys != required_parameters:\n",
    "    print(\"Parameters are incorrect\")\n",
    "    if len(supplied_keys - required_parameters)>0: print(\"Shouldn't have:\", str(supplied_keys - required_parameters))\n",
    "    if len(required_parameters - supplied_keys)>0: print(\"Need to have:\", str(required_parameters - supplied_keys))\n",
    "    raise RuntimeError(\"Parameters are incorrect\")\n",
    "\n"
   ]
  },
  {
   "cell_type": "code",
   "execution_count": 6,
   "id": "3a028d58",
   "metadata": {
    "execution": {
     "iopub.execute_input": "2022-03-05T00:22:59.899203Z",
     "iopub.status.busy": "2022-03-05T00:22:59.898869Z",
     "iopub.status.idle": "2022-03-05T00:22:59.910375Z",
     "shell.execute_reply": "2022-03-05T00:22:59.910053Z"
    },
    "papermill": {
     "duration": 0.022912,
     "end_time": "2022-03-05T00:22:59.910447",
     "exception": false,
     "start_time": "2022-03-05T00:22:59.887535",
     "status": "completed"
    },
    "tags": []
   },
   "outputs": [],
   "source": [
    "###################################\n",
    "# Set the RNGs and make it all deterministic\n",
    "###################################\n",
    "np.random.seed(p.seed)\n",
    "random.seed(p.seed)\n",
    "torch.manual_seed(p.seed)\n",
    "\n",
    "torch.use_deterministic_algorithms(True) "
   ]
  },
  {
   "cell_type": "code",
   "execution_count": 7,
   "id": "b691acf6",
   "metadata": {
    "execution": {
     "iopub.execute_input": "2022-03-05T00:22:59.937299Z",
     "iopub.status.busy": "2022-03-05T00:22:59.937046Z",
     "iopub.status.idle": "2022-03-05T00:22:59.949688Z",
     "shell.execute_reply": "2022-03-05T00:22:59.949213Z"
    },
    "papermill": {
     "duration": 0.025739,
     "end_time": "2022-03-05T00:22:59.949783",
     "exception": false,
     "start_time": "2022-03-05T00:22:59.924044",
     "status": "completed"
    },
    "tags": []
   },
   "outputs": [],
   "source": [
    "###########################################\n",
    "# The stratified datasets honor this\n",
    "###########################################\n",
    "torch.set_default_dtype(eval(p.torch_default_dtype))"
   ]
  },
  {
   "cell_type": "code",
   "execution_count": 8,
   "id": "b5fba671",
   "metadata": {
    "execution": {
     "iopub.execute_input": "2022-03-05T00:22:59.975636Z",
     "iopub.status.busy": "2022-03-05T00:22:59.975261Z",
     "iopub.status.idle": "2022-03-05T00:23:00.012818Z",
     "shell.execute_reply": "2022-03-05T00:23:00.012403Z"
    },
    "papermill": {
     "duration": 0.049246,
     "end_time": "2022-03-05T00:23:00.012914",
     "exception": false,
     "start_time": "2022-03-05T00:22:59.963668",
     "status": "completed"
    },
    "tags": []
   },
   "outputs": [],
   "source": [
    "###################################\n",
    "# Build the network(s)\n",
    "# Note: It's critical to do this AFTER setting the RNG\n",
    "# (This is due to the randomized initial weights)\n",
    "###################################\n",
    "x_net = build_sequential(p.x_net)"
   ]
  },
  {
   "cell_type": "code",
   "execution_count": 9,
   "id": "5d7e61cc",
   "metadata": {
    "execution": {
     "iopub.execute_input": "2022-03-05T00:23:00.039558Z",
     "iopub.status.busy": "2022-03-05T00:23:00.039104Z",
     "iopub.status.idle": "2022-03-05T00:23:00.051895Z",
     "shell.execute_reply": "2022-03-05T00:23:00.052098Z"
    },
    "papermill": {
     "duration": 0.02452,
     "end_time": "2022-03-05T00:23:00.052155",
     "exception": false,
     "start_time": "2022-03-05T00:23:00.027635",
     "status": "completed"
    },
    "tags": []
   },
   "outputs": [],
   "source": [
    "start_time_secs = time.time()"
   ]
  },
  {
   "cell_type": "code",
   "execution_count": 10,
   "id": "fd5442bc",
   "metadata": {
    "execution": {
     "iopub.execute_input": "2022-03-05T00:23:00.079665Z",
     "iopub.status.busy": "2022-03-05T00:23:00.079397Z",
     "iopub.status.idle": "2022-03-05T00:23:03.343008Z",
     "shell.execute_reply": "2022-03-05T00:23:03.342499Z"
    },
    "papermill": {
     "duration": 3.281463,
     "end_time": "2022-03-05T00:23:03.343110",
     "exception": false,
     "start_time": "2022-03-05T00:23:00.061647",
     "status": "completed"
    },
    "tags": []
   },
   "outputs": [],
   "source": [
    "###################################\n",
    "# Build the dataset\n",
    "###################################\n",
    "\n",
    "if p.x_transforms_source == []: x_transform_source = None\n",
    "else: x_transform_source = get_chained_transform(p.x_transforms_source) \n",
    "\n",
    "if p.x_transforms_target == []: x_transform_target = None\n",
    "else: x_transform_target = get_chained_transform(p.x_transforms_target)\n",
    "\n",
    "if p.episode_transforms_source == []: episode_transform_source = None\n",
    "else: raise Exception(\"episode_transform_source not implemented\")\n",
    "\n",
    "if p.episode_transforms_target == []: episode_transform_target = None\n",
    "else: raise Exception(\"episode_transform_target not implemented\")\n",
    "\n",
    "\n",
    "eaf_source = Episodic_Accessor_Factory(\n",
    "    labels=p.labels_source,\n",
    "    domains=p.domains_source,\n",
    "    num_examples_per_domain_per_label=p.num_examples_per_domain_per_label_source,\n",
    "    iterator_seed=p.seed,\n",
    "    dataset_seed=p.dataset_seed,\n",
    "    n_shot=p.n_shot,\n",
    "    n_way=p.n_way,\n",
    "    n_query=p.n_query,\n",
    "    train_val_test_k_factors=(p.train_k_factor,p.val_k_factor,p.test_k_factor),\n",
    "    pickle_path=os.path.join(get_datasets_base_path(), p.pickle_name),\n",
    "    x_transform_func=x_transform_source,\n",
    "    example_transform_func=episode_transform_source,\n",
    "    \n",
    ")\n",
    "train_original_source, val_original_source, test_original_source = eaf_source.get_train(), eaf_source.get_val(), eaf_source.get_test()\n",
    "\n",
    "\n",
    "eaf_target = Episodic_Accessor_Factory(\n",
    "    labels=p.labels_target,\n",
    "    domains=p.domains_target,\n",
    "    num_examples_per_domain_per_label=p.num_examples_per_domain_per_label_target,\n",
    "    iterator_seed=p.seed,\n",
    "    dataset_seed=p.dataset_seed,\n",
    "    n_shot=p.n_shot,\n",
    "    n_way=p.n_way,\n",
    "    n_query=p.n_query,\n",
    "    train_val_test_k_factors=(p.train_k_factor,p.val_k_factor,p.test_k_factor),\n",
    "    pickle_path=os.path.join(get_datasets_base_path(), p.pickle_name),\n",
    "    x_transform_func=x_transform_target,\n",
    "    example_transform_func=episode_transform_target,\n",
    ")\n",
    "train_original_target, val_original_target, test_original_target = eaf_target.get_train(), eaf_target.get_val(), eaf_target.get_test()\n",
    "\n",
    "\n",
    "transform_lambda = lambda ex: ex[1] # Original is (<domain>, <episode>) so we strip down to episode only\n",
    "\n",
    "train_processed_source = Lazy_Iterable_Wrapper(train_original_source, transform_lambda)\n",
    "val_processed_source   = Lazy_Iterable_Wrapper(val_original_source, transform_lambda)\n",
    "test_processed_source  = Lazy_Iterable_Wrapper(test_original_source, transform_lambda)\n",
    "\n",
    "train_processed_target = Lazy_Iterable_Wrapper(train_original_target, transform_lambda)\n",
    "val_processed_target   = Lazy_Iterable_Wrapper(val_original_target, transform_lambda)\n",
    "test_processed_target  = Lazy_Iterable_Wrapper(test_original_target, transform_lambda)\n",
    "\n",
    "datasets = EasyDict({\n",
    "    \"source\": {\n",
    "        \"original\": {\"train\":train_original_source, \"val\":val_original_source, \"test\":test_original_source},\n",
    "        \"processed\": {\"train\":train_processed_source, \"val\":val_processed_source, \"test\":test_processed_source}\n",
    "    },\n",
    "    \"target\": {\n",
    "        \"original\": {\"train\":train_original_target, \"val\":val_original_target, \"test\":test_original_target},\n",
    "        \"processed\": {\"train\":train_processed_target, \"val\":val_processed_target, \"test\":test_processed_target}\n",
    "    },\n",
    "})"
   ]
  },
  {
   "cell_type": "code",
   "execution_count": 11,
   "id": "296189d9",
   "metadata": {
    "execution": {
     "iopub.execute_input": "2022-03-05T00:23:03.372252Z",
     "iopub.status.busy": "2022-03-05T00:23:03.371976Z",
     "iopub.status.idle": "2022-03-05T00:23:04.926628Z",
     "shell.execute_reply": "2022-03-05T00:23:04.926111Z"
    },
    "papermill": {
     "duration": 1.567693,
     "end_time": "2022-03-05T00:23:04.926760",
     "exception": false,
     "start_time": "2022-03-05T00:23:03.359067",
     "status": "completed"
    },
    "tags": []
   },
   "outputs": [
    {
     "name": "stdout",
     "output_type": "stream",
     "text": [
      "Visually inspect these to see if they line up with expected values given the transforms\n",
      "x_transforms_source []\n",
      "x_transforms_target []\n",
      "Average magnitude, source: 0.004818532\n",
      "Average power, source: 2.955837e-05\n"
     ]
    },
    {
     "name": "stdout",
     "output_type": "stream",
     "text": [
      "Average magnitude, target: 0.0032001822\n",
      "Average power, target: 1.1380045e-05\n"
     ]
    }
   ],
   "source": [
    "# Some quick unit tests on the data\n",
    "from steves_utils.transforms import get_average_power, get_average_magnitude\n",
    "\n",
    "q_x, q_y, s_x, s_y, truth = next(iter(train_processed_source))\n",
    "\n",
    "assert q_x.dtype == eval(p.torch_default_dtype)\n",
    "assert s_x.dtype == eval(p.torch_default_dtype)\n",
    "\n",
    "print(\"Visually inspect these to see if they line up with expected values given the transforms\")\n",
    "print('x_transforms_source', p.x_transforms_source)\n",
    "print('x_transforms_target', p.x_transforms_target)\n",
    "print(\"Average magnitude, source:\", get_average_magnitude(q_x[0].numpy()))\n",
    "print(\"Average power, source:\", get_average_power(q_x[0].numpy()))\n",
    "\n",
    "q_x, q_y, s_x, s_y, truth = next(iter(train_processed_target))\n",
    "print(\"Average magnitude, target:\", get_average_magnitude(q_x[0].numpy()))\n",
    "print(\"Average power, target:\", get_average_power(q_x[0].numpy()))\n"
   ]
  },
  {
   "cell_type": "code",
   "execution_count": 12,
   "id": "bbdacba1",
   "metadata": {
    "execution": {
     "iopub.execute_input": "2022-03-05T00:23:04.956592Z",
     "iopub.status.busy": "2022-03-05T00:23:04.956341Z",
     "iopub.status.idle": "2022-03-05T00:23:05.016354Z",
     "shell.execute_reply": "2022-03-05T00:23:05.016094Z"
    },
    "papermill": {
     "duration": 0.073246,
     "end_time": "2022-03-05T00:23:05.016408",
     "exception": false,
     "start_time": "2022-03-05T00:23:04.943162",
     "status": "completed"
    },
    "tags": []
   },
   "outputs": [
    {
     "name": "stdout",
     "output_type": "stream",
     "text": [
      "(2, 256)\n"
     ]
    }
   ],
   "source": [
    "###################################\n",
    "# Build the model\n",
    "###################################\n",
    "model = Steves_Prototypical_Network(x_net, device=p.device, x_shape=(2,256))\n",
    "optimizer = Adam(params=model.parameters(), lr=p.lr)"
   ]
  },
  {
   "cell_type": "code",
   "execution_count": 13,
   "id": "22b39ac5",
   "metadata": {
    "execution": {
     "iopub.execute_input": "2022-03-05T00:23:05.040656Z",
     "iopub.status.busy": "2022-03-05T00:23:05.040400Z",
     "iopub.status.idle": "2022-03-05T00:26:32.056696Z",
     "shell.execute_reply": "2022-03-05T00:26:32.056213Z"
    },
    "papermill": {
     "duration": 207.029755,
     "end_time": "2022-03-05T00:26:32.056797",
     "exception": false,
     "start_time": "2022-03-05T00:23:05.027042",
     "status": "completed"
    },
    "tags": []
   },
   "outputs": [
    {
     "name": "stdout",
     "output_type": "stream",
     "text": [
      "epoch: 1, [batch: 1 / 699], examples_per_second: 241.1377, train_label_loss: 2.6162, \n"
     ]
    },
    {
     "name": "stdout",
     "output_type": "stream",
     "text": [
      "epoch: 1, [batch: 70 / 699], examples_per_second: 2483.9966, train_label_loss: 1.2926, \n"
     ]
    },
    {
     "name": "stdout",
     "output_type": "stream",
     "text": [
      "epoch: 1, [batch: 140 / 699], examples_per_second: 2519.0290, train_label_loss: 1.4130, \n"
     ]
    },
    {
     "name": "stdout",
     "output_type": "stream",
     "text": [
      "epoch: 1, [batch: 210 / 699], examples_per_second: 2473.4546, train_label_loss: 1.4753, \n"
     ]
    },
    {
     "name": "stdout",
     "output_type": "stream",
     "text": [
      "epoch: 1, [batch: 280 / 699], examples_per_second: 2452.4576, train_label_loss: 1.2789, \n"
     ]
    },
    {
     "name": "stdout",
     "output_type": "stream",
     "text": [
      "epoch: 1, [batch: 350 / 699], examples_per_second: 2470.5382, train_label_loss: 1.1480, \n"
     ]
    },
    {
     "name": "stdout",
     "output_type": "stream",
     "text": [
      "epoch: 1, [batch: 419 / 699], examples_per_second: 2507.6810, train_label_loss: 1.3155, \n"
     ]
    },
    {
     "name": "stdout",
     "output_type": "stream",
     "text": [
      "epoch: 1, [batch: 489 / 699], examples_per_second: 2501.1876, train_label_loss: 1.6155, \n"
     ]
    },
    {
     "name": "stdout",
     "output_type": "stream",
     "text": [
      "epoch: 1, [batch: 559 / 699], examples_per_second: 2457.7127, train_label_loss: 1.4880, \n"
     ]
    },
    {
     "name": "stdout",
     "output_type": "stream",
     "text": [
      "epoch: 1, [batch: 629 / 699], examples_per_second: 2537.8692, train_label_loss: 1.1787, \n"
     ]
    },
    {
     "name": "stdout",
     "output_type": "stream",
     "text": [
      "=============================================================\n",
      "epoch: 1, source_val_acc_label: 0.4265, target_val_acc_label: 0.3513, source_val_label_loss: 1.6281, target_val_label_loss: 1.8296, \n",
      "=============================================================\n"
     ]
    },
    {
     "name": "stdout",
     "output_type": "stream",
     "text": [
      "New best\n"
     ]
    },
    {
     "name": "stdout",
     "output_type": "stream",
     "text": [
      "epoch: 2, [batch: 1 / 699], examples_per_second: 14.6873, train_label_loss: 1.4997, \n"
     ]
    },
    {
     "name": "stdout",
     "output_type": "stream",
     "text": [
      "epoch: 2, [batch: 70 / 699], examples_per_second: 2526.7098, train_label_loss: 1.3257, \n"
     ]
    },
    {
     "name": "stdout",
     "output_type": "stream",
     "text": [
      "epoch: 2, [batch: 140 / 699], examples_per_second: 2560.8220, train_label_loss: 1.6456, \n"
     ]
    },
    {
     "name": "stdout",
     "output_type": "stream",
     "text": [
      "epoch: 2, [batch: 210 / 699], examples_per_second: 2416.7342, train_label_loss: 1.7784, \n"
     ]
    },
    {
     "name": "stdout",
     "output_type": "stream",
     "text": [
      "epoch: 2, [batch: 280 / 699], examples_per_second: 2546.6087, train_label_loss: 1.3024, \n"
     ]
    },
    {
     "name": "stdout",
     "output_type": "stream",
     "text": [
      "epoch: 2, [batch: 350 / 699], examples_per_second: 2467.3841, train_label_loss: 1.1856, \n"
     ]
    },
    {
     "name": "stdout",
     "output_type": "stream",
     "text": [
      "epoch: 2, [batch: 419 / 699], examples_per_second: 2377.7921, train_label_loss: 1.7301, \n"
     ]
    },
    {
     "name": "stdout",
     "output_type": "stream",
     "text": [
      "epoch: 2, [batch: 489 / 699], examples_per_second: 2527.5289, train_label_loss: 1.3346, \n"
     ]
    },
    {
     "name": "stdout",
     "output_type": "stream",
     "text": [
      "epoch: 2, [batch: 559 / 699], examples_per_second: 2473.1022, train_label_loss: 1.3168, \n"
     ]
    },
    {
     "name": "stdout",
     "output_type": "stream",
     "text": [
      "epoch: 2, [batch: 629 / 699], examples_per_second: 2476.9094, train_label_loss: 1.3603, \n"
     ]
    },
    {
     "name": "stdout",
     "output_type": "stream",
     "text": [
      "=============================================================\n",
      "epoch: 2, source_val_acc_label: 0.4331, target_val_acc_label: 0.3561, source_val_label_loss: 1.3893, target_val_label_loss: 1.8473, \n",
      "=============================================================\n"
     ]
    },
    {
     "name": "stdout",
     "output_type": "stream",
     "text": [
      "epoch: 3, [batch: 1 / 699], examples_per_second: 14.4524, train_label_loss: 1.3309, \n"
     ]
    },
    {
     "name": "stdout",
     "output_type": "stream",
     "text": [
      "epoch: 3, [batch: 70 / 699], examples_per_second: 2531.3560, train_label_loss: 1.3345, \n"
     ]
    },
    {
     "name": "stdout",
     "output_type": "stream",
     "text": [
      "epoch: 3, [batch: 140 / 699], examples_per_second: 2499.6854, train_label_loss: 1.1908, \n"
     ]
    },
    {
     "name": "stdout",
     "output_type": "stream",
     "text": [
      "epoch: 3, [batch: 210 / 699], examples_per_second: 2528.6631, train_label_loss: 1.8321, \n"
     ]
    },
    {
     "name": "stdout",
     "output_type": "stream",
     "text": [
      "epoch: 3, [batch: 280 / 699], examples_per_second: 2531.7485, train_label_loss: 1.4152, \n"
     ]
    },
    {
     "name": "stdout",
     "output_type": "stream",
     "text": [
      "epoch: 3, [batch: 350 / 699], examples_per_second: 2498.4481, train_label_loss: 1.1360, \n"
     ]
    },
    {
     "name": "stdout",
     "output_type": "stream",
     "text": [
      "epoch: 3, [batch: 419 / 699], examples_per_second: 2560.9353, train_label_loss: 1.4383, \n"
     ]
    },
    {
     "name": "stdout",
     "output_type": "stream",
     "text": [
      "epoch: 3, [batch: 489 / 699], examples_per_second: 2500.4709, train_label_loss: 1.9301, \n"
     ]
    },
    {
     "name": "stdout",
     "output_type": "stream",
     "text": [
      "epoch: 3, [batch: 559 / 699], examples_per_second: 2466.1596, train_label_loss: 0.9879, \n"
     ]
    },
    {
     "name": "stdout",
     "output_type": "stream",
     "text": [
      "epoch: 3, [batch: 629 / 699], examples_per_second: 2497.6405, train_label_loss: 1.2291, \n"
     ]
    },
    {
     "name": "stdout",
     "output_type": "stream",
     "text": [
      "=============================================================\n",
      "epoch: 3, source_val_acc_label: 0.6124, target_val_acc_label: 0.4646, source_val_label_loss: 1.0181, target_val_label_loss: 1.8749, \n",
      "=============================================================\n"
     ]
    },
    {
     "name": "stdout",
     "output_type": "stream",
     "text": [
      "epoch: 4, [batch: 1 / 699], examples_per_second: 14.6324, train_label_loss: 1.3461, \n"
     ]
    },
    {
     "name": "stdout",
     "output_type": "stream",
     "text": [
      "epoch: 4, [batch: 70 / 699], examples_per_second: 2450.0152, train_label_loss: 0.7176, \n"
     ]
    },
    {
     "name": "stdout",
     "output_type": "stream",
     "text": [
      "epoch: 4, [batch: 140 / 699], examples_per_second: 2442.2524, train_label_loss: 0.7601, \n"
     ]
    },
    {
     "name": "stdout",
     "output_type": "stream",
     "text": [
      "epoch: 4, [batch: 210 / 699], examples_per_second: 2416.9033, train_label_loss: 1.2040, \n"
     ]
    },
    {
     "name": "stdout",
     "output_type": "stream",
     "text": [
      "epoch: 4, [batch: 280 / 699], examples_per_second: 2477.5186, train_label_loss: 1.1008, \n"
     ]
    },
    {
     "name": "stdout",
     "output_type": "stream",
     "text": [
      "epoch: 4, [batch: 350 / 699], examples_per_second: 2376.5982, train_label_loss: 1.0246, \n"
     ]
    },
    {
     "name": "stdout",
     "output_type": "stream",
     "text": [
      "epoch: 4, [batch: 419 / 699], examples_per_second: 2384.3536, train_label_loss: 0.8940, \n"
     ]
    },
    {
     "name": "stdout",
     "output_type": "stream",
     "text": [
      "epoch: 4, [batch: 489 / 699], examples_per_second: 2457.1942, train_label_loss: 0.6071, \n"
     ]
    },
    {
     "name": "stdout",
     "output_type": "stream",
     "text": [
      "epoch: 4, [batch: 559 / 699], examples_per_second: 2479.2838, train_label_loss: 1.2240, \n"
     ]
    },
    {
     "name": "stdout",
     "output_type": "stream",
     "text": [
      "epoch: 4, [batch: 629 / 699], examples_per_second: 2390.3943, train_label_loss: 0.5910, \n"
     ]
    },
    {
     "name": "stdout",
     "output_type": "stream",
     "text": [
      "=============================================================\n",
      "epoch: 4, source_val_acc_label: 0.6698, target_val_acc_label: 0.5257, source_val_label_loss: 0.9053, target_val_label_loss: 1.4848, \n",
      "=============================================================\n"
     ]
    },
    {
     "name": "stdout",
     "output_type": "stream",
     "text": [
      "New best\n"
     ]
    },
    {
     "name": "stdout",
     "output_type": "stream",
     "text": [
      "epoch: 5, [batch: 1 / 699], examples_per_second: 13.8671, train_label_loss: 0.9448, \n"
     ]
    },
    {
     "name": "stdout",
     "output_type": "stream",
     "text": [
      "epoch: 5, [batch: 70 / 699], examples_per_second: 2300.4219, train_label_loss: 0.8912, \n"
     ]
    },
    {
     "name": "stdout",
     "output_type": "stream",
     "text": [
      "epoch: 5, [batch: 140 / 699], examples_per_second: 2286.4533, train_label_loss: 1.3004, \n"
     ]
    },
    {
     "name": "stdout",
     "output_type": "stream",
     "text": [
      "epoch: 5, [batch: 210 / 699], examples_per_second: 2270.5318, train_label_loss: 0.6131, \n"
     ]
    },
    {
     "name": "stdout",
     "output_type": "stream",
     "text": [
      "epoch: 5, [batch: 280 / 699], examples_per_second: 2302.7431, train_label_loss: 1.2278, \n"
     ]
    },
    {
     "name": "stdout",
     "output_type": "stream",
     "text": [
      "epoch: 5, [batch: 350 / 699], examples_per_second: 2270.6671, train_label_loss: 1.3957, \n"
     ]
    },
    {
     "name": "stdout",
     "output_type": "stream",
     "text": [
      "epoch: 5, [batch: 419 / 699], examples_per_second: 2498.5103, train_label_loss: 1.3512, \n"
     ]
    },
    {
     "name": "stdout",
     "output_type": "stream",
     "text": [
      "epoch: 5, [batch: 489 / 699], examples_per_second: 2430.0350, train_label_loss: 1.0421, \n"
     ]
    },
    {
     "name": "stdout",
     "output_type": "stream",
     "text": [
      "epoch: 5, [batch: 559 / 699], examples_per_second: 2588.3476, train_label_loss: 0.8859, \n"
     ]
    },
    {
     "name": "stdout",
     "output_type": "stream",
     "text": [
      "epoch: 5, [batch: 629 / 699], examples_per_second: 2506.5923, train_label_loss: 1.1522, \n"
     ]
    },
    {
     "name": "stdout",
     "output_type": "stream",
     "text": [
      "=============================================================\n",
      "epoch: 5, source_val_acc_label: 0.7104, target_val_acc_label: 0.5503, source_val_label_loss: 0.7911, target_val_label_loss: 1.4862, \n",
      "=============================================================\n"
     ]
    },
    {
     "name": "stdout",
     "output_type": "stream",
     "text": [
      "epoch: 6, [batch: 1 / 699], examples_per_second: 14.1758, train_label_loss: 0.7677, \n"
     ]
    },
    {
     "name": "stdout",
     "output_type": "stream",
     "text": [
      "epoch: 6, [batch: 70 / 699], examples_per_second: 2405.7689, train_label_loss: 0.3830, \n"
     ]
    },
    {
     "name": "stdout",
     "output_type": "stream",
     "text": [
      "epoch: 6, [batch: 140 / 699], examples_per_second: 2517.6223, train_label_loss: 0.6985, \n"
     ]
    },
    {
     "name": "stdout",
     "output_type": "stream",
     "text": [
      "epoch: 6, [batch: 210 / 699], examples_per_second: 2507.1203, train_label_loss: 0.7332, \n"
     ]
    },
    {
     "name": "stdout",
     "output_type": "stream",
     "text": [
      "epoch: 6, [batch: 280 / 699], examples_per_second: 2517.0310, train_label_loss: 0.4246, \n"
     ]
    },
    {
     "name": "stdout",
     "output_type": "stream",
     "text": [
      "epoch: 6, [batch: 350 / 699], examples_per_second: 2531.6343, train_label_loss: 0.5596, \n"
     ]
    },
    {
     "name": "stdout",
     "output_type": "stream",
     "text": [
      "epoch: 6, [batch: 419 / 699], examples_per_second: 2535.9401, train_label_loss: 0.6461, \n"
     ]
    },
    {
     "name": "stdout",
     "output_type": "stream",
     "text": [
      "epoch: 6, [batch: 489 / 699], examples_per_second: 2509.5530, train_label_loss: 0.4911, \n"
     ]
    },
    {
     "name": "stdout",
     "output_type": "stream",
     "text": [
      "epoch: 6, [batch: 559 / 699], examples_per_second: 2596.3262, train_label_loss: 1.0862, \n"
     ]
    },
    {
     "name": "stdout",
     "output_type": "stream",
     "text": [
      "epoch: 6, [batch: 629 / 699], examples_per_second: 2407.3913, train_label_loss: 0.7821, \n"
     ]
    },
    {
     "name": "stdout",
     "output_type": "stream",
     "text": [
      "=============================================================\n",
      "epoch: 6, source_val_acc_label: 0.7093, target_val_acc_label: 0.5494, source_val_label_loss: 0.7860, target_val_label_loss: 1.7112, \n",
      "=============================================================\n"
     ]
    },
    {
     "name": "stdout",
     "output_type": "stream",
     "text": [
      "epoch: 7, [batch: 1 / 699], examples_per_second: 14.1952, train_label_loss: 0.7907, \n"
     ]
    },
    {
     "name": "stdout",
     "output_type": "stream",
     "text": [
      "epoch: 7, [batch: 70 / 699], examples_per_second: 2384.2087, train_label_loss: 0.6471, \n"
     ]
    },
    {
     "name": "stdout",
     "output_type": "stream",
     "text": [
      "epoch: 7, [batch: 140 / 699], examples_per_second: 2558.0038, train_label_loss: 0.2525, \n"
     ]
    },
    {
     "name": "stdout",
     "output_type": "stream",
     "text": [
      "epoch: 7, [batch: 210 / 699], examples_per_second: 2553.1203, train_label_loss: 0.6598, \n"
     ]
    },
    {
     "name": "stdout",
     "output_type": "stream",
     "text": [
      "epoch: 7, [batch: 280 / 699], examples_per_second: 2528.0834, train_label_loss: 0.4196, \n"
     ]
    },
    {
     "name": "stdout",
     "output_type": "stream",
     "text": [
      "epoch: 7, [batch: 350 / 699], examples_per_second: 2512.1991, train_label_loss: 0.3823, \n"
     ]
    },
    {
     "name": "stdout",
     "output_type": "stream",
     "text": [
      "epoch: 7, [batch: 419 / 699], examples_per_second: 2493.2806, train_label_loss: 0.3751, \n"
     ]
    },
    {
     "name": "stdout",
     "output_type": "stream",
     "text": [
      "epoch: 7, [batch: 489 / 699], examples_per_second: 2499.1858, train_label_loss: 0.2950, \n"
     ]
    },
    {
     "name": "stdout",
     "output_type": "stream",
     "text": [
      "epoch: 7, [batch: 559 / 699], examples_per_second: 2493.3934, train_label_loss: 1.3069, \n"
     ]
    },
    {
     "name": "stdout",
     "output_type": "stream",
     "text": [
      "epoch: 7, [batch: 629 / 699], examples_per_second: 2549.0090, train_label_loss: 0.5713, \n"
     ]
    },
    {
     "name": "stdout",
     "output_type": "stream",
     "text": [
      "=============================================================\n",
      "epoch: 7, source_val_acc_label: 0.7186, target_val_acc_label: 0.5619, source_val_label_loss: 0.7505, target_val_label_loss: 1.4245, \n",
      "=============================================================\n"
     ]
    },
    {
     "name": "stdout",
     "output_type": "stream",
     "text": [
      "New best\n"
     ]
    },
    {
     "name": "stdout",
     "output_type": "stream",
     "text": [
      "epoch: 8, [batch: 1 / 699], examples_per_second: 14.5561, train_label_loss: 0.4457, \n"
     ]
    },
    {
     "name": "stdout",
     "output_type": "stream",
     "text": [
      "epoch: 8, [batch: 70 / 699], examples_per_second: 2468.1306, train_label_loss: 0.7265, \n"
     ]
    },
    {
     "name": "stdout",
     "output_type": "stream",
     "text": [
      "epoch: 8, [batch: 140 / 699], examples_per_second: 2326.4162, train_label_loss: 0.6003, \n"
     ]
    },
    {
     "name": "stdout",
     "output_type": "stream",
     "text": [
      "epoch: 8, [batch: 210 / 699], examples_per_second: 2360.8565, train_label_loss: 0.6296, \n"
     ]
    },
    {
     "name": "stdout",
     "output_type": "stream",
     "text": [
      "epoch: 8, [batch: 280 / 699], examples_per_second: 2453.2047, train_label_loss: 0.7768, \n"
     ]
    },
    {
     "name": "stdout",
     "output_type": "stream",
     "text": [
      "epoch: 8, [batch: 350 / 699], examples_per_second: 2483.2890, train_label_loss: 0.3680, \n"
     ]
    },
    {
     "name": "stdout",
     "output_type": "stream",
     "text": [
      "epoch: 8, [batch: 419 / 699], examples_per_second: 2278.6538, train_label_loss: 0.5465, \n"
     ]
    },
    {
     "name": "stdout",
     "output_type": "stream",
     "text": [
      "epoch: 8, [batch: 489 / 699], examples_per_second: 2472.7754, train_label_loss: 0.3403, \n"
     ]
    },
    {
     "name": "stdout",
     "output_type": "stream",
     "text": [
      "epoch: 8, [batch: 559 / 699], examples_per_second: 2452.3262, train_label_loss: 0.7432, \n"
     ]
    },
    {
     "name": "stdout",
     "output_type": "stream",
     "text": [
      "epoch: 8, [batch: 629 / 699], examples_per_second: 2494.0933, train_label_loss: 0.5962, \n"
     ]
    },
    {
     "name": "stdout",
     "output_type": "stream",
     "text": [
      "=============================================================\n",
      "epoch: 8, source_val_acc_label: 0.7418, target_val_acc_label: 0.5747, source_val_label_loss: 0.7083, target_val_label_loss: 1.6168, \n",
      "=============================================================\n"
     ]
    },
    {
     "name": "stdout",
     "output_type": "stream",
     "text": [
      "epoch: 9, [batch: 1 / 699], examples_per_second: 14.2877, train_label_loss: 0.6111, \n"
     ]
    },
    {
     "name": "stdout",
     "output_type": "stream",
     "text": [
      "epoch: 9, [batch: 70 / 699], examples_per_second: 2467.7991, train_label_loss: 0.6196, \n"
     ]
    },
    {
     "name": "stdout",
     "output_type": "stream",
     "text": [
      "epoch: 9, [batch: 140 / 699], examples_per_second: 2482.3713, train_label_loss: 0.7613, \n"
     ]
    },
    {
     "name": "stdout",
     "output_type": "stream",
     "text": [
      "epoch: 9, [batch: 210 / 699], examples_per_second: 2536.3021, train_label_loss: 0.1756, \n"
     ]
    },
    {
     "name": "stdout",
     "output_type": "stream",
     "text": [
      "epoch: 9, [batch: 280 / 699], examples_per_second: 2549.2368, train_label_loss: 0.4935, \n"
     ]
    },
    {
     "name": "stdout",
     "output_type": "stream",
     "text": [
      "epoch: 9, [batch: 350 / 699], examples_per_second: 2528.0779, train_label_loss: 0.3552, \n"
     ]
    },
    {
     "name": "stdout",
     "output_type": "stream",
     "text": [
      "epoch: 9, [batch: 419 / 699], examples_per_second: 2525.8870, train_label_loss: 0.7021, \n"
     ]
    },
    {
     "name": "stdout",
     "output_type": "stream",
     "text": [
      "epoch: 9, [batch: 489 / 699], examples_per_second: 2436.0277, train_label_loss: 0.7775, \n"
     ]
    },
    {
     "name": "stdout",
     "output_type": "stream",
     "text": [
      "epoch: 9, [batch: 559 / 699], examples_per_second: 2494.5193, train_label_loss: 0.4942, \n"
     ]
    },
    {
     "name": "stdout",
     "output_type": "stream",
     "text": [
      "epoch: 9, [batch: 629 / 699], examples_per_second: 2568.8535, train_label_loss: 0.6809, \n"
     ]
    },
    {
     "name": "stdout",
     "output_type": "stream",
     "text": [
      "=============================================================\n",
      "epoch: 9, source_val_acc_label: 0.7291, target_val_acc_label: 0.5734, source_val_label_loss: 0.7242, target_val_label_loss: 1.4805, \n",
      "=============================================================\n"
     ]
    },
    {
     "name": "stdout",
     "output_type": "stream",
     "text": [
      "epoch: 10, [batch: 1 / 699], examples_per_second: 14.8700, train_label_loss: 0.3601, \n"
     ]
    },
    {
     "name": "stdout",
     "output_type": "stream",
     "text": [
      "epoch: 10, [batch: 70 / 699], examples_per_second: 2491.0241, train_label_loss: 0.3441, \n"
     ]
    },
    {
     "name": "stdout",
     "output_type": "stream",
     "text": [
      "epoch: 10, [batch: 140 / 699], examples_per_second: 2502.1650, train_label_loss: 0.5476, \n"
     ]
    },
    {
     "name": "stdout",
     "output_type": "stream",
     "text": [
      "epoch: 10, [batch: 210 / 699], examples_per_second: 2531.6552, train_label_loss: 0.3235, \n"
     ]
    },
    {
     "name": "stdout",
     "output_type": "stream",
     "text": [
      "epoch: 10, [batch: 280 / 699], examples_per_second: 2476.2761, train_label_loss: 0.4224, \n"
     ]
    },
    {
     "name": "stdout",
     "output_type": "stream",
     "text": [
      "epoch: 10, [batch: 350 / 699], examples_per_second: 2440.1208, train_label_loss: 0.5757, \n"
     ]
    },
    {
     "name": "stdout",
     "output_type": "stream",
     "text": [
      "epoch: 10, [batch: 419 / 699], examples_per_second: 2511.7886, train_label_loss: 0.4220, \n"
     ]
    },
    {
     "name": "stdout",
     "output_type": "stream",
     "text": [
      "epoch: 10, [batch: 489 / 699], examples_per_second: 2426.8952, train_label_loss: 0.2614, \n"
     ]
    },
    {
     "name": "stdout",
     "output_type": "stream",
     "text": [
      "epoch: 10, [batch: 559 / 699], examples_per_second: 2475.2941, train_label_loss: 0.4772, \n"
     ]
    },
    {
     "name": "stdout",
     "output_type": "stream",
     "text": [
      "epoch: 10, [batch: 629 / 699], examples_per_second: 2481.3027, train_label_loss: 0.8044, \n"
     ]
    },
    {
     "name": "stdout",
     "output_type": "stream",
     "text": [
      "=============================================================\n",
      "epoch: 10, source_val_acc_label: 0.7462, target_val_acc_label: 0.5731, source_val_label_loss: 0.7342, target_val_label_loss: 1.9354, \n",
      "=============================================================\n"
     ]
    },
    {
     "name": "stdout",
     "output_type": "stream",
     "text": [
      "epoch: 11, [batch: 1 / 699], examples_per_second: 14.6125, train_label_loss: 0.2233, \n"
     ]
    },
    {
     "name": "stdout",
     "output_type": "stream",
     "text": [
      "epoch: 11, [batch: 70 / 699], examples_per_second: 2486.5572, train_label_loss: 0.2577, \n"
     ]
    },
    {
     "name": "stdout",
     "output_type": "stream",
     "text": [
      "epoch: 11, [batch: 140 / 699], examples_per_second: 2516.9680, train_label_loss: 0.8610, \n"
     ]
    },
    {
     "name": "stdout",
     "output_type": "stream",
     "text": [
      "epoch: 11, [batch: 210 / 699], examples_per_second: 2531.5620, train_label_loss: 0.4534, \n"
     ]
    },
    {
     "name": "stdout",
     "output_type": "stream",
     "text": [
      "epoch: 11, [batch: 280 / 699], examples_per_second: 2524.1901, train_label_loss: 0.5149, \n"
     ]
    },
    {
     "name": "stdout",
     "output_type": "stream",
     "text": [
      "epoch: 11, [batch: 350 / 699], examples_per_second: 2569.7032, train_label_loss: 0.3352, \n"
     ]
    },
    {
     "name": "stdout",
     "output_type": "stream",
     "text": [
      "epoch: 11, [batch: 419 / 699], examples_per_second: 2510.5680, train_label_loss: 0.7952, \n"
     ]
    },
    {
     "name": "stdout",
     "output_type": "stream",
     "text": [
      "epoch: 11, [batch: 489 / 699], examples_per_second: 2512.1413, train_label_loss: 0.2935, \n"
     ]
    },
    {
     "name": "stdout",
     "output_type": "stream",
     "text": [
      "epoch: 11, [batch: 559 / 699], examples_per_second: 2539.5014, train_label_loss: 0.8023, \n"
     ]
    },
    {
     "name": "stdout",
     "output_type": "stream",
     "text": [
      "epoch: 11, [batch: 629 / 699], examples_per_second: 2533.1346, train_label_loss: 0.3948, \n"
     ]
    },
    {
     "name": "stdout",
     "output_type": "stream",
     "text": [
      "=============================================================\n",
      "epoch: 11, source_val_acc_label: 0.7250, target_val_acc_label: 0.5662, source_val_label_loss: 0.7653, target_val_label_loss: 1.6071, \n",
      "=============================================================\n"
     ]
    },
    {
     "name": "stdout",
     "output_type": "stream",
     "text": [
      "Patience (3) exhausted\n"
     ]
    }
   ],
   "source": [
    "###################################\n",
    "# train\n",
    "###################################\n",
    "jig = PTN_Train_Eval_Test_Jig(model, p.BEST_MODEL_PATH, p.device)\n",
    "\n",
    "jig.train(\n",
    "    train_iterable=datasets.source.processed.train,\n",
    "    source_val_iterable=datasets.source.processed.val,\n",
    "    target_val_iterable=datasets.target.processed.val,\n",
    "    num_epochs=p.n_epoch,\n",
    "    num_logs_per_epoch=p.NUM_LOGS_PER_EPOCH,\n",
    "    patience=p.patience,\n",
    "    optimizer=optimizer,\n",
    "    criteria_for_best=p.criteria_for_best,\n",
    ")"
   ]
  },
  {
   "cell_type": "code",
   "execution_count": 14,
   "id": "31e8fabf",
   "metadata": {
    "execution": {
     "iopub.execute_input": "2022-03-05T00:26:32.129616Z",
     "iopub.status.busy": "2022-03-05T00:26:32.129363Z",
     "iopub.status.idle": "2022-03-05T00:26:32.143888Z",
     "shell.execute_reply": "2022-03-05T00:26:32.144263Z"
    },
    "papermill": {
     "duration": 0.050562,
     "end_time": "2022-03-05T00:26:32.144372",
     "exception": false,
     "start_time": "2022-03-05T00:26:32.093810",
     "status": "completed"
    },
    "tags": []
   },
   "outputs": [],
   "source": [
    "total_experiment_time_secs = time.time() - start_time_secs"
   ]
  },
  {
   "cell_type": "code",
   "execution_count": 15,
   "id": "87b9595b",
   "metadata": {
    "execution": {
     "iopub.execute_input": "2022-03-05T00:26:32.221799Z",
     "iopub.status.busy": "2022-03-05T00:26:32.221503Z",
     "iopub.status.idle": "2022-03-05T00:26:59.957117Z",
     "shell.execute_reply": "2022-03-05T00:26:59.957450Z"
    },
    "papermill": {
     "duration": 27.774255,
     "end_time": "2022-03-05T00:26:59.957561",
     "exception": false,
     "start_time": "2022-03-05T00:26:32.183306",
     "status": "completed"
    },
    "tags": []
   },
   "outputs": [],
   "source": [
    "###################################\n",
    "# Evaluate the model\n",
    "###################################\n",
    "source_test_label_accuracy, source_test_label_loss = jig.test(datasets.source.processed.test)\n",
    "target_test_label_accuracy, target_test_label_loss = jig.test(datasets.target.processed.test)\n",
    "\n",
    "source_val_label_accuracy, source_val_label_loss = jig.test(datasets.source.processed.val)\n",
    "target_val_label_accuracy, target_val_label_loss = jig.test(datasets.target.processed.val)\n",
    "\n",
    "history = jig.get_history()\n",
    "\n",
    "total_epochs_trained = len(history[\"epoch_indices\"])\n",
    "\n",
    "val_dl = Iterable_Aggregator((datasets.source.original.val,datasets.target.original.val))\n",
    "\n",
    "confusion = ptn_confusion_by_domain_over_dataloader(model, p.device, val_dl)\n",
    "per_domain_accuracy = per_domain_accuracy_from_confusion(confusion)\n",
    "\n",
    "# Add a key to per_domain_accuracy for if it was a source domain\n",
    "for domain, accuracy in per_domain_accuracy.items():\n",
    "    per_domain_accuracy[domain] = {\n",
    "        \"accuracy\": accuracy,\n",
    "        \"source?\": domain in p.domains_source\n",
    "    }\n",
    "\n",
    "# Do an independent accuracy assesment JUST TO BE SURE!\n",
    "# _source_test_label_accuracy = independent_accuracy_assesment(model, datasets.source.processed.test, p.device)\n",
    "# _target_test_label_accuracy = independent_accuracy_assesment(model, datasets.target.processed.test, p.device)\n",
    "# _source_val_label_accuracy = independent_accuracy_assesment(model, datasets.source.processed.val, p.device)\n",
    "# _target_val_label_accuracy = independent_accuracy_assesment(model, datasets.target.processed.val, p.device)\n",
    "\n",
    "# assert(_source_test_label_accuracy == source_test_label_accuracy)\n",
    "# assert(_target_test_label_accuracy == target_test_label_accuracy)\n",
    "# assert(_source_val_label_accuracy == source_val_label_accuracy)\n",
    "# assert(_target_val_label_accuracy == target_val_label_accuracy)\n",
    "\n",
    "experiment = {\n",
    "    \"experiment_name\": p.experiment_name,\n",
    "    \"parameters\": dict(p),\n",
    "    \"results\": {\n",
    "        \"source_test_label_accuracy\": source_test_label_accuracy,\n",
    "        \"source_test_label_loss\": source_test_label_loss,\n",
    "        \"target_test_label_accuracy\": target_test_label_accuracy,\n",
    "        \"target_test_label_loss\": target_test_label_loss,\n",
    "        \"source_val_label_accuracy\": source_val_label_accuracy,\n",
    "        \"source_val_label_loss\": source_val_label_loss,\n",
    "        \"target_val_label_accuracy\": target_val_label_accuracy,\n",
    "        \"target_val_label_loss\": target_val_label_loss,\n",
    "        \"total_epochs_trained\": total_epochs_trained,\n",
    "        \"total_experiment_time_secs\": total_experiment_time_secs,\n",
    "        \"confusion\": confusion,\n",
    "        \"per_domain_accuracy\": per_domain_accuracy,\n",
    "    },\n",
    "    \"history\": history,\n",
    "    \"dataset_metrics\": get_dataset_metrics(datasets, \"ptn\"),\n",
    "}"
   ]
  },
  {
   "cell_type": "code",
   "execution_count": 16,
   "id": "54a21829",
   "metadata": {
    "execution": {
     "iopub.execute_input": "2022-03-05T00:27:00.028477Z",
     "iopub.status.busy": "2022-03-05T00:27:00.028069Z",
     "iopub.status.idle": "2022-03-05T00:27:00.216046Z",
     "shell.execute_reply": "2022-03-05T00:27:00.215772Z"
    },
    "papermill": {
     "duration": 0.222523,
     "end_time": "2022-03-05T00:27:00.216108",
     "exception": false,
     "start_time": "2022-03-05T00:26:59.993585",
     "status": "completed"
    },
    "tags": []
   },
   "outputs": [
    {
     "data": {
      "image/png": "[encoded data removed]",
      "text/plain": [
       "<Figure size 1080x504 with 1 Axes>"
      ]
     },
     "metadata": {
      "needs_background": "light"
     },
     "output_type": "display_data"
    }
   ],
   "source": [
    "ax = get_loss_curve(experiment)\n",
    "plt.show()"
   ]
  },
  {
   "cell_type": "code",
   "execution_count": 17,
   "id": "fd8a0f60",
   "metadata": {
    "execution": {
     "iopub.execute_input": "2022-03-05T00:27:00.288972Z",
     "iopub.status.busy": "2022-03-05T00:27:00.288709Z",
     "iopub.status.idle": "2022-03-05T00:27:00.543347Z",
     "shell.execute_reply": "2022-03-05T00:27:00.542980Z"
    },
    "papermill": {
     "duration": 0.29201,
     "end_time": "2022-03-05T00:27:00.543455",
     "exception": false,
     "start_time": "2022-03-05T00:27:00.251445",
     "status": "completed"
    },
    "tags": []
   },
   "outputs": [
    {
     "data": {
      "text/plain": [
       "<matplotlib.axes._subplots.AxesSubplot at 0x7f29b439bbb0>"
      ]
     },
     "execution_count": 17,
     "metadata": {},
     "output_type": "execute_result"
    },
    {
     "data": {
      "image/png": "[encoded data removed]",
      "text/plain": [
       "<Figure size 1080x504 with 1 Axes>"
      ]
     },
     "metadata": {
      "needs_background": "light"
     },
     "output_type": "display_data"
    }
   ],
   "source": [
    "get_results_table(experiment)"
   ]
  },
  {
   "cell_type": "code",
   "execution_count": 18,
   "id": "cf8dc689",
   "metadata": {
    "execution": {
     "iopub.execute_input": "2022-03-05T00:27:00.620418Z",
     "iopub.status.busy": "2022-03-05T00:27:00.620145Z",
     "iopub.status.idle": "2022-03-05T00:27:00.793407Z",
     "shell.execute_reply": "2022-03-05T00:27:00.792906Z"
    },
    "papermill": {
     "duration": 0.210553,
     "end_time": "2022-03-05T00:27:00.793513",
     "exception": false,
     "start_time": "2022-03-05T00:27:00.582960",
     "status": "completed"
    },
    "tags": []
   },
   "outputs": [
    {
     "data": {
      "text/plain": [
       "<matplotlib.axes._subplots.AxesSubplot at 0x7f29b44d3550>"
      ]
     },
     "execution_count": 18,
     "metadata": {},
     "output_type": "execute_result"
    },
    {
     "data": {
      "image/png": "[encoded data removed]",
      "text/plain": [
       "<Figure size 1080x504 with 1 Axes>"
      ]
     },
     "metadata": {
      "needs_background": "light"
     },
     "output_type": "display_data"
    }
   ],
   "source": [
    "get_domain_accuracies(experiment)"
   ]
  },
  {
   "cell_type": "code",
   "execution_count": 19,
   "id": "a74ae082",
   "metadata": {
    "execution": {
     "iopub.execute_input": "2022-03-05T00:27:00.875729Z",
     "iopub.status.busy": "2022-03-05T00:27:00.874414Z",
     "iopub.status.idle": "2022-03-05T00:27:00.889658Z",
     "shell.execute_reply": "2022-03-05T00:27:00.889231Z"
    },
    "papermill": {
     "duration": 0.053755,
     "end_time": "2022-03-05T00:27:00.889761",
     "exception": false,
     "start_time": "2022-03-05T00:27:00.836006",
     "status": "completed"
    },
    "tags": []
   },
   "outputs": [
    {
     "name": "stdout",
     "output_type": "stream",
     "text": [
      "Source Test Label Accuracy: 0.7134375 Target Test Label Accuracy: 0.580875\n",
      "Source Val Label Accuracy: 0.7186458333333333 Target Val Label Accuracy: 0.5619375\n"
     ]
    }
   ],
   "source": [
    "print(\"Source Test Label Accuracy:\", experiment[\"results\"][\"source_test_label_accuracy\"], \"Target Test Label Accuracy:\", experiment[\"results\"][\"target_test_label_accuracy\"])\n",
    "print(\"Source Val Label Accuracy:\", experiment[\"results\"][\"source_val_label_accuracy\"], \"Target Val Label Accuracy:\", experiment[\"results\"][\"target_val_label_accuracy\"])"
   ]
  },
  {
   "cell_type": "code",
   "execution_count": 20,
   "id": "dacca602",
   "metadata": {
    "execution": {
     "iopub.execute_input": "2022-03-05T00:27:00.972234Z",
     "iopub.status.busy": "2022-03-05T00:27:00.967746Z",
     "iopub.status.idle": "2022-03-05T00:27:00.980974Z",
     "shell.execute_reply": "2022-03-05T00:27:00.980611Z"
    },
    "papermill": {
     "duration": 0.050771,
     "end_time": "2022-03-05T00:27:00.981053",
     "exception": false,
     "start_time": "2022-03-05T00:27:00.930282",
     "status": "completed"
    },
    "tags": [
     "experiment_json"
    ]
   },
   "outputs": [
    {
     "data": {
      "text/plain": [
       "'{\"experiment_name\": \"nShot_oracle.run2\", \"parameters\": {\"experiment_name\": \"nShot_oracle.run2\", \"device\": \"cuda\", \"lr\": 0.001, \"seed\": 1337, \"dataset_seed\": 1337, \"labels_source\": [\"3123D52\", \"3123D65\", \"3123D79\", \"3123D80\", \"3123D54\", \"3123D70\", \"3123D7B\", \"3123D89\", \"3123D58\", \"3123D76\", \"3123D7D\", \"3123EFE\", \"3123D64\", \"3123D78\", \"3123D7E\", \"3124E4A\"], \"labels_target\": [\"3123D52\", \"3123D65\", \"3123D79\", \"3123D80\", \"3123D54\", \"3123D70\", \"3123D7B\", \"3123D89\", \"3123D58\", \"3123D76\", \"3123D7D\", \"3123EFE\", \"3123D64\", \"3123D78\", \"3123D7E\", \"3124E4A\"], \"x_transforms_source\": [], \"x_transforms_target\": [], \"episode_transforms_source\": [], \"episode_transforms_target\": [], \"num_examples_per_domain_per_label_source\": 1000, \"num_examples_per_domain_per_label_target\": 1000, \"n_way\": 16, \"n_query\": 2, \"train_k_factor\": 1, \"val_k_factor\": 2, \"test_k_factor\": 2, \"torch_default_dtype\": \"torch.float32\", \"n_epoch\": 50, \"patience\": 3, \"criteria_for_best\": \"target_loss\", \"x_net\": [{\"class\": \"nnReshape\", \"kargs\": {\"shape\": [-1, 1, 2, 256]}}, {\"class\": \"Conv2d\", \"kargs\": {\"in_channels\": 1, \"out_channels\": 256, \"kernel_size\": [1, 7], \"bias\": false, \"padding\": [0, 3]}}, {\"class\": \"ReLU\", \"kargs\": {\"inplace\": true}}, {\"class\": \"BatchNorm2d\", \"kargs\": {\"num_features\": 256}}, {\"class\": \"Conv2d\", \"kargs\": {\"in_channels\": 256, \"out_channels\": 80, \"kernel_size\": [2, 7], \"bias\": true, \"padding\": [0, 3]}}, {\"class\": \"ReLU\", \"kargs\": {\"inplace\": true}}, {\"class\": \"BatchNorm2d\", \"kargs\": {\"num_features\": 80}}, {\"class\": \"Flatten\", \"kargs\": {}}, {\"class\": \"Linear\", \"kargs\": {\"in_features\": 20480, \"out_features\": 256}}, {\"class\": \"ReLU\", \"kargs\": {\"inplace\": true}}, {\"class\": \"BatchNorm1d\", \"kargs\": {\"num_features\": 256}}, {\"class\": \"Linear\", \"kargs\": {\"in_features\": 256, \"out_features\": 256}}], \"NUM_LOGS_PER_EPOCH\": 10, \"BEST_MODEL_PATH\": \"./best_model.pth\", \"pickle_name\": \"oracle.Run2_10kExamples_stratified_ds.2022A.pkl\", \"n_shot\": 1, \"domains_source\": [8, 32, 50], \"domains_target\": [14, 20, 26, 38, 44]}, \"results\": {\"source_test_label_accuracy\": 0.7134375, \"source_test_label_loss\": 0.7742170691490173, \"target_test_label_accuracy\": 0.580875, \"target_test_label_loss\": 1.3593461513519287, \"source_val_label_accuracy\": 0.7186458333333333, \"source_val_label_loss\": 0.7505413293838501, \"target_val_label_accuracy\": 0.5619375, \"target_val_label_loss\": 1.4244823455810547, \"total_epochs_trained\": 11, \"total_experiment_time_secs\": 212.091787815094, \"confusion\": {\"8\": {\"15\": {\"2\": 11, \"15\": 166, \"12\": 23}, \"3\": {\"3\": 200}, \"6\": {\"8\": 39, \"6\": 98, \"14\": 42, \"11\": 10, \"4\": 9, \"1\": 2}, \"1\": {\"4\": 31, \"1\": 95, \"5\": 24, \"13\": 8, \"10\": 23, \"7\": 6, \"14\": 9, \"6\": 4}, \"8\": {\"8\": 107, \"11\": 23, \"6\": 52, \"4\": 8, \"14\": 10}, \"10\": {\"10\": 97, \"13\": 43, \"5\": 41, \"1\": 12, \"4\": 3, \"7\": 4}, \"9\": {\"9\": 200}, \"13\": {\"10\": 52, \"13\": 130, \"7\": 5, \"5\": 8, \"4\": 1, \"1\": 4}, \"12\": {\"12\": 180, \"15\": 16, \"2\": 4}, \"5\": {\"5\": 91, \"1\": 30, \"10\": 64, \"13\": 12, \"4\": 2, \"7\": 1}, \"0\": {\"0\": 199, \"11\": 1}, \"2\": {\"2\": 184, \"13\": 3, \"12\": 10, \"15\": 3}, \"11\": {\"11\": 75, \"6\": 11, \"8\": 80, \"7\": 23, \"13\": 4, \"4\": 7}, \"14\": {\"6\": 63, \"14\": 103, \"4\": 8, \"1\": 16, \"8\": 8, \"7\": 2}, \"7\": {\"10\": 6, \"7\": 115, \"13\": 9, \"1\": 12, \"4\": 57, \"5\": 1}, \"4\": {\"4\": 87, \"8\": 6, \"7\": 64, \"14\": 6, \"1\": 25, \"6\": 10, \"10\": 1, \"11\": 1}}, \"32\": {\"7\": {\"8\": 47, \"7\": 68, \"0\": 36, \"2\": 34, \"15\": 6, \"4\": 1, \"5\": 3, \"11\": 1, \"14\": 4}, \"15\": {\"5\": 17, \"15\": 165, \"7\": 9, \"8\": 8, \"0\": 1}, \"9\": {\"9\": 195, \"11\": 2, \"0\": 1, \"12\": 2}, \"0\": {\"7\": 42, \"2\": 23, \"0\": 80, \"11\": 3, \"8\": 33, \"4\": 9, \"14\": 9, \"15\": 1}, \"6\": {\"6\": 200}, \"13\": {\"3\": 48, \"13\": 134, \"4\": 8, \"11\": 10}, \"11\": {\"4\": 72, \"11\": 63, \"13\": 51, \"0\": 10, \"3\": 4}, \"14\": {\"7\": 9, \"14\": 90, \"0\": 7, \"5\": 10, \"2\": 80, \"8\": 1, \"11\": 2, \"15\": 1}, \"4\": {\"4\": 124, \"13\": 3, \"11\": 51, \"0\": 16, \"7\": 3, \"3\": 2, \"8\": 1}, \"12\": {\"12\": 196, \"9\": 3, \"10\": 1}, \"8\": {\"7\": 49, \"8\": 110, \"11\": 4, \"2\": 3, \"0\": 30, \"15\": 1, \"4\": 3}, \"5\": {\"5\": 137, \"15\": 46, \"8\": 1, \"14\": 10, \"0\": 1, \"7\": 4, \"2\": 1}, \"3\": {\"3\": 172, \"13\": 17, \"4\": 3, \"11\": 8}, \"1\": {\"1\": 200}, \"2\": {\"0\": 18, \"2\": 96, \"14\": 45, \"8\": 5, \"7\": 36}, \"10\": {\"10\": 199, \"12\": 1}}, \"50\": {\"14\": {\"14\": 199, \"2\": 1}, \"2\": {\"2\": 164, \"0\": 34, \"14\": 2}, \"6\": {\"5\": 36, \"6\": 132, \"12\": 2, \"15\": 19, \"4\": 11}, \"15\": {\"12\": 24, \"9\": 20, \"15\": 131, \"6\": 17, \"5\": 4, \"4\": 3, \"11\": 1}, \"3\": {\"3\": 200}, \"5\": {\"6\": 22, \"5\": 105, \"4\": 56, \"7\": 17}, \"8\": {\"8\": 199, \"13\": 1}, \"0\": {\"0\": 133, \"10\": 34, \"2\": 33}, \"12\": {\"12\": 146, \"9\": 13, \"15\": 8, \"11\": 31, \"6\": 2}, \"10\": {\"10\": 172, \"0\": 21, \"13\": 5, \"1\": 2}, \"7\": {\"4\": 29, \"7\": 159, \"5\": 12}, \"4\": {\"6\": 3, \"4\": 113, \"15\": 8, \"5\": 61, \"7\": 15}, \"11\": {\"11\": 160, \"12\": 32, \"1\": 7, \"15\": 1}, \"9\": {\"9\": 154, \"15\": 26, \"12\": 20}, \"1\": {\"1\": 183, \"11\": 5, \"12\": 2, \"13\": 9, \"10\": 1}, \"13\": {\"13\": 193, \"10\": 3, \"1\": 3, \"8\": 1}}, \"14\": {\"15\": {\"15\": 200}, \"3\": {\"2\": 8, \"7\": 12, \"3\": 164, \"6\": 10, \"14\": 4, \"10\": 1, \"13\": 1}, \"6\": {\"13\": 63, \"6\": 122, \"7\": 5, \"2\": 1, \"3\": 9}, \"1\": {\"1\": 199, \"12\": 1}, \"8\": {\"8\": 122, \"0\": 33, \"10\": 42, \"12\": 3}, \"10\": {\"5\": 13, \"8\": 52, \"3\": 10, \"0\": 47, \"10\": 64, \"14\": 3, \"12\": 5, \"4\": 5, \"6\": 1}, \"9\": {\"9\": 191, \"12\": 5, \"0\": 2, \"10\": 1, \"8\": 1}, \"13\": {\"6\": 79, \"13\": 115, \"7\": 3, \"2\": 2, \"3\": 1}, \"12\": {\"15\": 39, \"3\": 11, \"9\": 39, \"8\": 32, \"12\": 37, \"11\": 10, \"10\": 13, \"6\": 7, \"0\": 3, \"13\": 1, \"4\": 1, \"1\": 6, \"5\": 1}, \"5\": {\"14\": 58, \"5\": 98, \"2\": 25, \"4\": 4, \"7\": 6, \"10\": 8, \"0\": 1}, \"0\": {\"4\": 20, \"0\": 113, \"9\": 8, \"10\": 33, \"8\": 25, \"12\": 1}, \"2\": {\"14\": 40, \"6\": 3, \"2\": 34, \"13\": 5, \"3\": 12, \"5\": 53, \"7\": 49, \"4\": 3, \"10\": 1}, \"11\": {\"11\": 199, \"12\": 1}, \"14\": {\"14\": 64, \"5\": 70, \"7\": 15, \"3\": 10, \"2\": 37, \"12\": 1, \"10\": 2, \"0\": 1}, \"7\": {\"2\": 44, \"7\": 125, \"14\": 14, \"13\": 5, \"3\": 6, \"6\": 4, \"5\": 2}, \"4\": {\"0\": 28, \"4\": 153, \"5\": 8, \"10\": 5, \"14\": 3, \"2\": 1, \"12\": 1, \"8\": 1}}, \"38\": {\"7\": {\"7\": 150, \"0\": 27, \"8\": 13, \"4\": 5, \"14\": 3, \"10\": 1, \"5\": 1}, \"15\": {\"15\": 95, \"6\": 35, \"1\": 67, \"5\": 3}, \"9\": {\"9\": 155, \"12\": 19, \"5\": 15, \"0\": 2, \"8\": 9}, \"0\": {\"7\": 21, \"0\": 166, \"9\": 6, \"8\": 6, \"5\": 1}, \"6\": {\"6\": 167, \"15\": 32, \"1\": 1}, \"13\": {\"13\": 111, \"3\": 41, \"10\": 39, \"4\": 8, \"14\": 1}, \"11\": {\"11\": 200}, \"14\": {\"13\": 6, \"14\": 77, \"2\": 72, \"3\": 4, \"4\": 7, \"7\": 12, \"12\": 7, \"8\": 13, \"5\": 1, \"10\": 1}, \"4\": {\"4\": 81, \"10\": 70, \"13\": 13, \"3\": 29, \"7\": 5, \"14\": 1, \"0\": 1}, \"12\": {\"12\": 105, \"8\": 29, \"5\": 50, \"9\": 13, \"14\": 3}, \"8\": {\"8\": 124, \"5\": 39, \"12\": 14, \"7\": 13, \"14\": 2, \"0\": 4, \"9\": 4}, \"5\": {\"5\": 60, \"8\": 55, \"12\": 67, \"9\": 13, \"7\": 1, \"0\": 3, \"2\": 1}, \"3\": {\"13\": 54, \"10\": 68, \"3\": 52, \"4\": 25, \"11\": 1}, \"1\": {\"1\": 163, \"15\": 36, \"6\": 1}, \"2\": {\"2\": 161, \"14\": 38, \"12\": 1}, \"10\": {\"3\": 37, \"13\": 26, \"4\": 43, \"10\": 94}}, \"20\": {\"14\": {\"14\": 106, \"11\": 27, \"8\": 58, \"5\": 7, \"2\": 1, \"7\": 1}, \"2\": {\"2\": 45, \"1\": 12, \"9\": 44, \"7\": 10, \"15\": 23, \"5\": 25, \"4\": 19, \"3\": 19, \"14\": 1, \"13\": 2}, \"6\": {\"6\": 118, \"10\": 48, \"7\": 25, \"3\": 5, \"4\": 3, \"2\": 1}, \"15\": {\"3\": 14, \"2\": 27, \"7\": 2, \"9\": 44, \"15\": 45, \"1\": 8, \"4\": 22, \"5\": 19, \"13\": 9, \"12\": 9, \"10\": 1}, \"3\": {\"3\": 33, \"4\": 26, \"9\": 28, \"15\": 20, \"7\": 28, \"5\": 17, \"2\": 36, \"14\": 1, \"1\": 2, \"6\": 2, \"10\": 3, \"13\": 2, \"12\": 2}, \"5\": {\"5\": 41, \"3\": 22, \"2\": 40, \"9\": 28, \"1\": 27, \"7\": 10, \"15\": 15, \"4\": 13, \"11\": 2, \"8\": 1, \"14\": 1}, \"8\": {\"8\": 79, \"14\": 49, \"11\": 58, \"0\": 8, \"5\": 6}, \"0\": {\"0\": 143, \"8\": 9, \"11\": 34, \"1\": 10, \"5\": 1, \"2\": 1, \"14\": 2}, \"12\": {\"12\": 83, \"13\": 73, \"15\": 10, \"3\": 5, \"10\": 9, \"4\": 8, \"9\": 5, \"2\": 3, \"7\": 3, \"6\": 1}, \"10\": {\"12\": 14, \"10\": 99, \"6\": 40, \"7\": 30, \"4\": 5, \"13\": 7, \"15\": 2, \"9\": 1, \"3\": 1, \"5\": 1}, \"7\": {\"3\": 33, \"10\": 25, \"9\": 11, \"4\": 33, \"7\": 50, \"6\": 17, \"2\": 10, \"5\": 6, \"15\": 7, \"14\": 1, \"12\": 4, \"13\": 3}, \"4\": {\"10\": 3, \"9\": 36, \"7\": 29, \"3\": 37, \"2\": 27, \"12\": 5, \"4\": 32, \"5\": 8, \"15\": 19, \"13\": 4}, \"11\": {\"11\": 99, \"8\": 55, \"0\": 27, \"14\": 18, \"5\": 1}, \"9\": {\"9\": 37, \"2\": 30, \"4\": 33, \"3\": 25, \"15\": 35, \"7\": 3, \"5\": 26, \"1\": 7, \"13\": 1, \"6\": 1, \"12\": 1, \"10\": 1}, \"1\": {\"9\": 14, \"15\": 6, \"1\": 113, \"11\": 3, \"5\": 39, \"0\": 3, \"2\": 17, \"8\": 1, \"4\": 1, \"3\": 3}, \"13\": {\"12\": 89, \"13\": 78, \"4\": 11, \"2\": 2, \"10\": 2, \"15\": 7, \"9\": 3, \"3\": 6, \"7\": 2}}, \"44\": {\"11\": {\"11\": 200}, \"8\": {\"8\": 113, \"0\": 45, \"5\": 32, \"15\": 10}, \"6\": {\"6\": 167, \"7\": 17, \"9\": 12, \"10\": 2, \"13\": 2}, \"1\": {\"1\": 131, \"2\": 60, \"12\": 3, \"3\": 6}, \"14\": {\"5\": 19, \"14\": 137, \"4\": 44}, \"7\": {\"7\": 110, \"9\": 72, \"6\": 9, \"10\": 9}, \"12\": {\"12\": 159, \"3\": 41}, \"4\": {\"4\": 127, \"14\": 66, \"6\": 3, \"5\": 2, \"13\": 1, \"9\": 1}, \"15\": {\"15\": 120, \"5\": 52, \"8\": 11, \"0\": 8, \"14\": 5, \"4\": 4}, \"2\": {\"1\": 51, \"2\": 147, \"3\": 1, \"9\": 1}, \"3\": {\"3\": 155, \"12\": 37, \"1\": 8}, \"9\": {\"7\": 96, \"9\": 83, \"6\": 21}, \"5\": {\"15\": 43, \"5\": 98, \"14\": 22, \"8\": 35, \"0\": 2}, \"13\": {\"13\": 185, \"6\": 6, \"4\": 5, \"14\": 1, \"11\": 3}, \"0\": {\"0\": 130, \"8\": 50, \"5\": 7, \"15\": 13}, \"10\": {\"10\": 158, \"7\": 17, \"6\": 17, \"9\": 8}}, \"26\": {\"1\": {\"1\": 132, \"5\": 30, \"6\": 18, \"14\": 18, \"10\": 1, \"0\": 1}, \"7\": {\"9\": 27, \"3\": 47, \"8\": 12, \"2\": 25, \"7\": 71, \"13\": 18}, \"4\": {\"4\": 194, \"3\": 3, \"7\": 3}, \"3\": {\"3\": 119, \"7\": 55, \"2\": 10, \"4\": 7, \"13\": 6, \"15\": 1, \"9\": 2}, \"12\": {\"11\": 1, \"12\": 194, \"9\": 4, \"5\": 1}, \"10\": {\"2\": 6, \"0\": 36, \"10\": 46, \"15\": 28, \"14\": 35, \"6\": 13, \"1\": 4, \"12\": 1, \"8\": 11, \"5\": 12, \"9\": 8}, \"15\": {\"10\": 21, \"15\": 72, \"2\": 19, \"8\": 23, \"0\": 54, \"7\": 3, \"14\": 8}, \"9\": {\"2\": 33, \"9\": 71, \"8\": 45, \"10\": 6, \"7\": 16, \"13\": 25, \"3\": 1, \"15\": 3}, \"5\": {\"6\": 81, \"5\": 60, \"1\": 24, \"14\": 20, \"10\": 7, \"0\": 8}, \"0\": {\"15\": 52, \"14\": 37, \"0\": 61, \"10\": 34, \"8\": 4, \"5\": 4, \"2\": 4, \"9\": 2, \"13\": 1, \"1\": 1}, \"11\": {\"11\": 200}, \"8\": {\"9\": 48, \"0\": 7, \"8\": 54, \"13\": 9, \"15\": 13, \"10\": 15, \"2\": 40, \"7\": 10, \"5\": 1, \"14\": 3}, \"2\": {\"9\": 29, \"2\": 66, \"8\": 40, \"15\": 16, \"3\": 6, \"7\": 23, \"0\": 8, \"10\": 7, \"13\": 5}, \"13\": {\"9\": 40, \"13\": 106, \"7\": 30, \"3\": 7, \"2\": 9, \"8\": 8}, \"6\": {\"6\": 98, \"14\": 20, \"5\": 59, \"1\": 11, \"10\": 7, \"0\": 5}, \"14\": {\"15\": 20, \"1\": 13, \"14\": 65, \"0\": 39, \"10\": 27, \"6\": 12, \"5\": 23, \"8\": 1}}}, \"per_domain_accuracy\": {\"8\": {\"accuracy\": 0.6646875, \"source?\": true}, \"32\": {\"accuracy\": 0.6965625, \"source?\": true}, \"50\": {\"accuracy\": 0.7946875, \"source?\": true}, \"14\": {\"accuracy\": 0.625, \"source?\": false}, \"38\": {\"accuracy\": 0.6128125, \"source?\": false}, \"20\": {\"accuracy\": 0.3753125, \"source?\": false}, \"44\": {\"accuracy\": 0.69375, \"source?\": false}, \"26\": {\"accuracy\": 0.5028125, \"source?\": false}}}, \"history\": {\"epoch_indices\": [1, 2, 3, 4, 5, 6, 7, 8, 9, 10, 11], \"train_label_loss\": [1.3983536190399968, 1.423236054923913, 1.2736786336175703, 0.9127185741633986, 0.764704135397132, 0.6829266685443546, 0.6183080469206167, 0.5680568623909452, 0.5276410347743437, 0.47920661689300564, 0.4448725083291275], \"source_val_label_loss\": [1.6280995607376099, 1.3892898559570312, 1.0180668830871582, 0.9052658081054688, 0.7911314368247986, 0.7859597206115723, 0.7505413293838501, 0.708288311958313, 0.724236249923706, 0.7342104911804199, 0.7653298377990723], \"target_val_label_loss\": [1.829571008682251, 1.847347378730774, 1.87486732006073, 1.484824299812317, 1.4862192869186401, 1.711194396018982, 1.4244823455810547, 1.6167960166931152, 1.4805148839950562, 1.9354324340820312, 1.6071301698684692], \"source_val_acc_label\": [0.42645833333333333, 0.433125, 0.6123958333333334, 0.6697916666666667, 0.7104166666666667, 0.7092708333333333, 0.7186458333333333, 0.7417708333333334, 0.7290625, 0.74625, 0.725], \"target_val_acc_label\": [0.3513125, 0.3560625, 0.464625, 0.5256875, 0.55025, 0.549375, 0.5619375, 0.57475, 0.5734375, 0.573125, 0.5661875]}, \"dataset_metrics\": {\"source\": {\"train\": {\"n_unique_x\": 33552, \"n_unique_y\": 16, \"n_batch/episode\": 699}, \"val\": {\"n_unique_x\": 7200, \"n_unique_y\": 16, \"n_batch/episode\": 300}, \"test\": {\"n_unique_x\": 7200, \"n_unique_y\": 16, \"n_batch/episode\": 300}}, \"target\": {\"train\": {\"n_unique_x\": 55920, \"n_unique_y\": 16, \"n_batch/episode\": 1165}, \"val\": {\"n_unique_x\": 12000, \"n_unique_y\": 16, \"n_batch/episode\": 500}, \"test\": {\"n_unique_x\": 12000, \"n_unique_y\": 16, \"n_batch/episode\": 500}}}}'"
      ]
     },
     "execution_count": 20,
     "metadata": {},
     "output_type": "execute_result"
    }
   ],
   "source": [
    "json.dumps(experiment)"
   ]
  }
 ],
 "metadata": {
  "celltoolbar": "Tags",
  "kernelspec": {
   "display_name": "Python 3 (ipykernel)",
   "language": "python",
   "name": "python3"
  },
  "language_info": {
   "codemirror_mode": {
    "name": "ipython",
    "version": 3
   },
   "file_extension": ".py",
   "mimetype": "text/x-python",
   "name": "python",
   "nbconvert_exporter": "python",
   "pygments_lexer": "ipython3",
   "version": "3.8.10"
  },
  "papermill": {
   "default_parameters": {},
   "duration": 243.437277,
   "end_time": "2022-03-05T00:27:01.528281",
   "environment_variables": {},
   "exception": null,
   "input_path": "/mnt/wd500GB/CSC500/csc500-main/csc500-notebooks/templates/ptn_template.ipynb",
   "output_path": "trial.ipynb",
   "parameters": {
    "parameters": {
     "BEST_MODEL_PATH": "./best_model.pth",
     "NUM_LOGS_PER_EPOCH": 10,
     "criteria_for_best": "target_loss",
     "dataset_seed": 1337,
     "device": "cuda",
     "domains_source": [
      8,
      32,
      50
     ],
     "domains_target": [
      14,
      20,
      26,
      38,
      44
     ],
     "episode_transforms_source": [],
     "episode_transforms_target": [],
     "experiment_name": "nShot_oracle.run2",
     "labels_source": [
      "3123D52",
      "3123D65",
      "3123D79",
      "3123D80",
      "3123D54",
      "3123D70",
      "3123D7B",
      "3123D89",
      "3123D58",
      "3123D76",
      "3123D7D",
      "3123EFE",
      "3123D64",
      "3123D78",
      "3123D7E",
      "3124E4A"
     ],
     "labels_target": [
      "3123D52",
      "3123D65",
      "3123D79",
      "3123D80",
      "3123D54",
      "3123D70",
      "3123D7B",
      "3123D89",
      "3123D58",
      "3123D76",
      "3123D7D",
      "3123EFE",
      "3123D64",
      "3123D78",
      "3123D7E",
      "3124E4A"
     ],
     "lr": 0.001,
     "n_epoch": 50,
     "n_query": 2,
     "n_shot": 1,
     "n_way": 16,
     "num_examples_per_domain_per_label_source": 1000,
     "num_examples_per_domain_per_label_target": 1000,
     "patience": 3,
     "pickle_name": "oracle.Run2_10kExamples_stratified_ds.2022A.pkl",
     "seed": 1337,
     "test_k_factor": 2,
     "torch_default_dtype": "torch.float32",
     "train_k_factor": 1,
     "val_k_factor": 2,
     "x_net": [
      {
       "class": "nnReshape",
       "kargs": {
        "shape": [
         -1,
         1,
         2,
         256
        ]
       }
      },
      {
       "class": "Conv2d",
       "kargs": {
        "bias": false,
        "in_channels": 1,
        "kernel_size": [
         1,
         7
        ],
        "out_channels": 256,
        "padding": [
         0,
         3
        ]
       }
      },
      {
       "class": "ReLU",
       "kargs": {
        "inplace": true
       }
      },
      {
       "class": "BatchNorm2d",
       "kargs": {
        "num_features": 256
       }
      },
      {
       "class": "Conv2d",
       "kargs": {
        "bias": true,
        "in_channels": 256,
        "kernel_size": [
         2,
         7
        ],
        "out_channels": 80,
        "padding": [
         0,
         3
        ]
       }
      },
      {
       "class": "ReLU",
       "kargs": {
        "inplace": true
       }
      },
      {
       "class": "BatchNorm2d",
       "kargs": {
        "num_features": 80
       }
      },
      {
       "class": "Flatten",
       "kargs": {}
      },
      {
       "class": "Linear",
       "kargs": {
        "in_features": 20480,
        "out_features": 256
       }
      },
      {
       "class": "ReLU",
       "kargs": {
        "inplace": true
       }
      },
      {
       "class": "BatchNorm1d",
       "kargs": {
        "num_features": 256
       }
      },
      {
       "class": "Linear",
       "kargs": {
        "in_features": 256,
        "out_features": 256
       }
      }
     ],
     "x_transforms_source": [],
     "x_transforms_target": []
    }
   },
   "start_time": "2022-03-05T00:22:58.091004",
   "version": "2.3.4"
  }
 },
 "nbformat": 4,
 "nbformat_minor": 5
}