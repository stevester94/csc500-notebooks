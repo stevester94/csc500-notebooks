{
 "cells": [
  {
   "cell_type": "markdown",
   "id": "9fea5f46",
   "metadata": {
    "papermill": {
     "duration": 0.013063,
     "end_time": "2022-03-05T00:18:46.790298",
     "exception": false,
     "start_time": "2022-03-05T00:18:46.777235",
     "status": "completed"
    },
    "tags": []
   },
   "source": [
    "# PTN Template\n",
    "This notebook serves as a template for single dataset PTN experiments  \n",
    "It can be run on its own by setting STANDALONE to True (do a find for \"STANDALONE\" to see where)  \n",
    "But it is intended to be executed as part of a *papermill.py script. See any of the   \n",
    "experimentes with a papermill script to get started with that workflow.  "
   ]
  },
  {
   "cell_type": "code",
   "execution_count": 1,
   "id": "0902182a",
   "metadata": {
    "execution": {
     "iopub.execute_input": "2022-03-05T00:18:46.822612Z",
     "iopub.status.busy": "2022-03-05T00:18:46.815584Z",
     "iopub.status.idle": "2022-03-05T00:18:47.548208Z",
     "shell.execute_reply": "2022-03-05T00:18:47.547649Z"
    },
    "papermill": {
     "duration": 0.748786,
     "end_time": "2022-03-05T00:18:47.548327",
     "exception": false,
     "start_time": "2022-03-05T00:18:46.799541",
     "status": "completed"
    },
    "tags": []
   },
   "outputs": [],
   "source": [
    "%load_ext autoreload\n",
    "%autoreload 2\n",
    "%matplotlib inline\n",
    "\n",
    "    \n",
    "import os, json, sys, time, random\n",
    "import numpy as np\n",
    "import torch\n",
    "from torch.optim import Adam\n",
    "from  easydict import EasyDict\n",
    "import matplotlib.pyplot as plt\n",
    "\n",
    "from steves_models.steves_ptn import Steves_Prototypical_Network\n",
    "\n",
    "from steves_utils.lazy_iterable_wrapper import Lazy_Iterable_Wrapper\n",
    "from steves_utils.iterable_aggregator import Iterable_Aggregator\n",
    "from steves_utils.ptn_train_eval_test_jig import  PTN_Train_Eval_Test_Jig\n",
    "from steves_utils.torch_sequential_builder import build_sequential\n",
    "from steves_utils.torch_utils import get_dataset_metrics, ptn_confusion_by_domain_over_dataloader\n",
    "from steves_utils.utils_v2 import (per_domain_accuracy_from_confusion, get_datasets_base_path)\n",
    "from steves_utils.PTN.utils import independent_accuracy_assesment\n",
    "\n",
    "from steves_utils.stratified_dataset.episodic_accessor import Episodic_Accessor_Factory\n",
    "\n",
    "from steves_utils.ptn_do_report import (\n",
    "    get_loss_curve,\n",
    "    get_results_table,\n",
    "    get_parameters_table,\n",
    "    get_domain_accuracies,\n",
    ")\n",
    "\n",
    "from steves_utils.transforms import get_chained_transform"
   ]
  },
  {
   "cell_type": "markdown",
   "id": "41c840b4",
   "metadata": {
    "papermill": {
     "duration": 0.009061,
     "end_time": "2022-03-05T00:18:47.571462",
     "exception": false,
     "start_time": "2022-03-05T00:18:47.562401",
     "status": "completed"
    },
    "tags": []
   },
   "source": [
    "# Required Parameters\n",
    "These are allowed parameters, not defaults\n",
    "Each of these values need to be present in the injected parameters (the notebook will raise an exception if they are not present)\n",
    "\n",
    "Papermill uses the cell tag \"parameters\" to inject the real parameters below this cell.\n",
    "Enable tags to see what I mean"
   ]
  },
  {
   "cell_type": "code",
   "execution_count": 2,
   "id": "fd44eb83",
   "metadata": {
    "execution": {
     "iopub.execute_input": "2022-03-05T00:18:47.594212Z",
     "iopub.status.busy": "2022-03-05T00:18:47.593947Z",
     "iopub.status.idle": "2022-03-05T00:18:47.607919Z",
     "shell.execute_reply": "2022-03-05T00:18:47.607497Z"
    },
    "papermill": {
     "duration": 0.027403,
     "end_time": "2022-03-05T00:18:47.608021",
     "exception": false,
     "start_time": "2022-03-05T00:18:47.580618",
     "status": "completed"
    },
    "tags": []
   },
   "outputs": [],
   "source": [
    "required_parameters = {\n",
    "    \"experiment_name\",\n",
    "    \"lr\",\n",
    "    \"device\",\n",
    "    \"seed\",\n",
    "    \"dataset_seed\",\n",
    "    \"labels_source\",\n",
    "    \"labels_target\",\n",
    "    \"domains_source\",\n",
    "    \"domains_target\",\n",
    "    \"num_examples_per_domain_per_label_source\",\n",
    "    \"num_examples_per_domain_per_label_target\",\n",
    "    \"n_shot\",\n",
    "    \"n_way\",\n",
    "    \"n_query\",\n",
    "    \"train_k_factor\",\n",
    "    \"val_k_factor\",\n",
    "    \"test_k_factor\",\n",
    "    \"n_epoch\",\n",
    "    \"patience\",\n",
    "    \"criteria_for_best\",\n",
    "    \"x_transforms_source\",\n",
    "    \"x_transforms_target\",\n",
    "    \"episode_transforms_source\",\n",
    "    \"episode_transforms_target\",\n",
    "    \"pickle_name\",\n",
    "    \"x_net\",\n",
    "    \"NUM_LOGS_PER_EPOCH\",\n",
    "    \"BEST_MODEL_PATH\",\n",
    "    \"torch_default_dtype\"\n",
    "}"
   ]
  },
  {
   "cell_type": "code",
   "execution_count": 3,
   "id": "fa3f0049",
   "metadata": {
    "execution": {
     "iopub.execute_input": "2022-03-05T00:18:47.644590Z",
     "iopub.status.busy": "2022-03-05T00:18:47.643715Z",
     "iopub.status.idle": "2022-03-05T00:18:47.658846Z",
     "shell.execute_reply": "2022-03-05T00:18:47.658601Z"
    },
    "papermill": {
     "duration": 0.036091,
     "end_time": "2022-03-05T00:18:47.658909",
     "exception": false,
     "start_time": "2022-03-05T00:18:47.622818",
     "status": "completed"
    },
    "tags": [
     "parameters"
    ]
   },
   "outputs": [],
   "source": [
    "\n",
    "\n",
    "standalone_parameters = {}\n",
    "standalone_parameters[\"experiment_name\"] = \"STANDALONE PTN\"\n",
    "standalone_parameters[\"lr\"] = 0.0001\n",
    "standalone_parameters[\"device\"] = \"cuda\"\n",
    "\n",
    "standalone_parameters[\"seed\"] = 1337\n",
    "standalone_parameters[\"dataset_seed\"] = 1337\n",
    "\n",
    "\n",
    "standalone_parameters[\"num_examples_per_domain_per_label_source\"]=100\n",
    "standalone_parameters[\"num_examples_per_domain_per_label_target\"]=100\n",
    "\n",
    "standalone_parameters[\"n_shot\"] = 3\n",
    "standalone_parameters[\"n_query\"]  = 2\n",
    "standalone_parameters[\"train_k_factor\"] = 1\n",
    "standalone_parameters[\"val_k_factor\"] = 2\n",
    "standalone_parameters[\"test_k_factor\"] = 2\n",
    "\n",
    "\n",
    "standalone_parameters[\"n_epoch\"] = 100\n",
    "\n",
    "standalone_parameters[\"patience\"] = 10\n",
    "standalone_parameters[\"criteria_for_best\"] = \"target_accuracy\"\n",
    "\n",
    "standalone_parameters[\"x_transforms_source\"] = [\"unit_power\"]\n",
    "standalone_parameters[\"x_transforms_target\"] = [\"unit_power\"]\n",
    "standalone_parameters[\"episode_transforms_source\"] = []\n",
    "standalone_parameters[\"episode_transforms_target\"] = []\n",
    "\n",
    "standalone_parameters[\"torch_default_dtype\"] = \"torch.float32\" \n",
    "\n",
    "\n",
    "\n",
    "standalone_parameters[\"x_net\"] =     [\n",
    "    {\"class\": \"nnReshape\", \"kargs\": {\"shape\":[-1, 1, 2, 256]}},\n",
    "    {\"class\": \"Conv2d\", \"kargs\": { \"in_channels\":1, \"out_channels\":256, \"kernel_size\":(1,7), \"bias\":False, \"padding\":(0,3), },},\n",
    "    {\"class\": \"ReLU\", \"kargs\": {\"inplace\": True}},\n",
    "    {\"class\": \"BatchNorm2d\", \"kargs\": {\"num_features\":256}},\n",
    "\n",
    "    {\"class\": \"Conv2d\", \"kargs\": { \"in_channels\":256, \"out_channels\":80, \"kernel_size\":(2,7), \"bias\":True, \"padding\":(0,3), },},\n",
    "    {\"class\": \"ReLU\", \"kargs\": {\"inplace\": True}},\n",
    "    {\"class\": \"BatchNorm2d\", \"kargs\": {\"num_features\":80}},\n",
    "    {\"class\": \"Flatten\", \"kargs\": {}},\n",
    "\n",
    "    {\"class\": \"Linear\", \"kargs\": {\"in_features\": 80*256, \"out_features\": 256}}, # 80 units per IQ pair\n",
    "    {\"class\": \"ReLU\", \"kargs\": {\"inplace\": True}},\n",
    "    {\"class\": \"BatchNorm1d\", \"kargs\": {\"num_features\":256}},\n",
    "\n",
    "    {\"class\": \"Linear\", \"kargs\": {\"in_features\": 256, \"out_features\": 256}},\n",
    "]\n",
    "\n",
    "# Parameters relevant to results\n",
    "# These parameters will basically never need to change\n",
    "standalone_parameters[\"NUM_LOGS_PER_EPOCH\"] = 10\n",
    "standalone_parameters[\"BEST_MODEL_PATH\"] = \"./best_model.pth\"\n",
    "\n",
    "# uncomment for CORES dataset\n",
    "from steves_utils.CORES.utils import (\n",
    "    ALL_NODES,\n",
    "    ALL_NODES_MINIMUM_1000_EXAMPLES,\n",
    "    ALL_DAYS\n",
    ")\n",
    "\n",
    "\n",
    "standalone_parameters[\"labels_source\"] = ALL_NODES\n",
    "standalone_parameters[\"labels_target\"] = ALL_NODES\n",
    "\n",
    "standalone_parameters[\"domains_source\"] = [1]\n",
    "standalone_parameters[\"domains_target\"] = [2,3,4,5]\n",
    "\n",
    "standalone_parameters[\"pickle_name\"] = \"cores.stratified_ds.2022A.pkl\"\n",
    "\n",
    "\n",
    "# Uncomment these for ORACLE dataset\n",
    "# from steves_utils.ORACLE.utils_v2 import (\n",
    "#     ALL_DISTANCES_FEET,\n",
    "#     ALL_RUNS,\n",
    "#     ALL_SERIAL_NUMBERS,\n",
    "# )\n",
    "# standalone_parameters[\"labels_source\"] = ALL_SERIAL_NUMBERS\n",
    "# standalone_parameters[\"labels_target\"] = ALL_SERIAL_NUMBERS\n",
    "# standalone_parameters[\"domains_source\"] = [8,20, 38,50]\n",
    "# standalone_parameters[\"domains_target\"] = [14, 26, 32, 44, 56]\n",
    "# standalone_parameters[\"pickle_name\"] = \"oracle.frame_indexed.stratified_ds.2022A.pkl\"\n",
    "# standalone_parameters[\"num_examples_per_domain_per_label_source\"]=1000\n",
    "# standalone_parameters[\"num_examples_per_domain_per_label_target\"]=1000\n",
    "\n",
    "# Uncomment these for Metahan dataset\n",
    "# standalone_parameters[\"labels_source\"] = list(range(19))\n",
    "# standalone_parameters[\"labels_target\"] = list(range(19))\n",
    "# standalone_parameters[\"domains_source\"] = [0]\n",
    "# standalone_parameters[\"domains_target\"] = [1]\n",
    "# standalone_parameters[\"pickle_name\"] = \"metehan.stratified_ds.2022A.pkl\"\n",
    "# standalone_parameters[\"n_way\"]  = len(standalone_parameters[\"labels_source\"])\n",
    "# standalone_parameters[\"num_examples_per_domain_per_label_source\"]=200\n",
    "# standalone_parameters[\"num_examples_per_domain_per_label_target\"]=100\n",
    "\n",
    "\n",
    "standalone_parameters[\"n_way\"]  = len(standalone_parameters[\"labels_source\"])"
   ]
  },
  {
   "cell_type": "code",
   "execution_count": 4,
   "id": "ec9e9884",
   "metadata": {
    "execution": {
     "iopub.execute_input": "2022-03-05T00:18:47.684585Z",
     "iopub.status.busy": "2022-03-05T00:18:47.684149Z",
     "iopub.status.idle": "2022-03-05T00:18:47.694075Z",
     "shell.execute_reply": "2022-03-05T00:18:47.694289Z"
    },
    "papermill": {
     "duration": 0.025219,
     "end_time": "2022-03-05T00:18:47.694364",
     "exception": false,
     "start_time": "2022-03-05T00:18:47.669145",
     "status": "completed"
    },
    "tags": [
     "injected-parameters"
    ]
   },
   "outputs": [],
   "source": [
    "# Parameters\n",
    "parameters = {\n",
    "    \"experiment_name\": \"nShot_oracle.run2\",\n",
    "    \"device\": \"cuda\",\n",
    "    \"lr\": 0.001,\n",
    "    \"seed\": 1337,\n",
    "    \"dataset_seed\": 1337,\n",
    "    \"labels_source\": [\n",
    "        \"3123D52\",\n",
    "        \"3123D65\",\n",
    "        \"3123D79\",\n",
    "        \"3123D80\",\n",
    "        \"3123D54\",\n",
    "        \"3123D70\",\n",
    "        \"3123D7B\",\n",
    "        \"3123D89\",\n",
    "        \"3123D58\",\n",
    "        \"3123D76\",\n",
    "        \"3123D7D\",\n",
    "        \"3123EFE\",\n",
    "        \"3123D64\",\n",
    "        \"3123D78\",\n",
    "        \"3123D7E\",\n",
    "        \"3124E4A\",\n",
    "    ],\n",
    "    \"labels_target\": [\n",
    "        \"3123D52\",\n",
    "        \"3123D65\",\n",
    "        \"3123D79\",\n",
    "        \"3123D80\",\n",
    "        \"3123D54\",\n",
    "        \"3123D70\",\n",
    "        \"3123D7B\",\n",
    "        \"3123D89\",\n",
    "        \"3123D58\",\n",
    "        \"3123D76\",\n",
    "        \"3123D7D\",\n",
    "        \"3123EFE\",\n",
    "        \"3123D64\",\n",
    "        \"3123D78\",\n",
    "        \"3123D7E\",\n",
    "        \"3124E4A\",\n",
    "    ],\n",
    "    \"x_transforms_source\": [],\n",
    "    \"x_transforms_target\": [],\n",
    "    \"episode_transforms_source\": [],\n",
    "    \"episode_transforms_target\": [],\n",
    "    \"num_examples_per_domain_per_label_source\": 1000,\n",
    "    \"num_examples_per_domain_per_label_target\": 1000,\n",
    "    \"n_way\": 16,\n",
    "    \"n_query\": 2,\n",
    "    \"train_k_factor\": 1,\n",
    "    \"val_k_factor\": 2,\n",
    "    \"test_k_factor\": 2,\n",
    "    \"torch_default_dtype\": \"torch.float32\",\n",
    "    \"n_epoch\": 50,\n",
    "    \"patience\": 3,\n",
    "    \"criteria_for_best\": \"target_loss\",\n",
    "    \"x_net\": [\n",
    "        {\"class\": \"nnReshape\", \"kargs\": {\"shape\": [-1, 1, 2, 256]}},\n",
    "        {\n",
    "            \"class\": \"Conv2d\",\n",
    "            \"kargs\": {\n",
    "                \"in_channels\": 1,\n",
    "                \"out_channels\": 256,\n",
    "                \"kernel_size\": [1, 7],\n",
    "                \"bias\": False,\n",
    "                \"padding\": [0, 3],\n",
    "            },\n",
    "        },\n",
    "        {\"class\": \"ReLU\", \"kargs\": {\"inplace\": True}},\n",
    "        {\"class\": \"BatchNorm2d\", \"kargs\": {\"num_features\": 256}},\n",
    "        {\n",
    "            \"class\": \"Conv2d\",\n",
    "            \"kargs\": {\n",
    "                \"in_channels\": 256,\n",
    "                \"out_channels\": 80,\n",
    "                \"kernel_size\": [2, 7],\n",
    "                \"bias\": True,\n",
    "                \"padding\": [0, 3],\n",
    "            },\n",
    "        },\n",
    "        {\"class\": \"ReLU\", \"kargs\": {\"inplace\": True}},\n",
    "        {\"class\": \"BatchNorm2d\", \"kargs\": {\"num_features\": 80}},\n",
    "        {\"class\": \"Flatten\", \"kargs\": {}},\n",
    "        {\"class\": \"Linear\", \"kargs\": {\"in_features\": 20480, \"out_features\": 256}},\n",
    "        {\"class\": \"ReLU\", \"kargs\": {\"inplace\": True}},\n",
    "        {\"class\": \"BatchNorm1d\", \"kargs\": {\"num_features\": 256}},\n",
    "        {\"class\": \"Linear\", \"kargs\": {\"in_features\": 256, \"out_features\": 256}},\n",
    "    ],\n",
    "    \"NUM_LOGS_PER_EPOCH\": 10,\n",
    "    \"BEST_MODEL_PATH\": \"./best_model.pth\",\n",
    "    \"pickle_name\": \"oracle.Run2_10kExamples_stratified_ds.2022A.pkl\",\n",
    "    \"n_shot\": 2,\n",
    "    \"domains_source\": [8, 32, 50],\n",
    "    \"domains_target\": [14, 20, 26, 38, 44],\n",
    "}\n"
   ]
  },
  {
   "cell_type": "code",
   "execution_count": 5,
   "id": "8fa1cc33",
   "metadata": {
    "execution": {
     "iopub.execute_input": "2022-03-05T00:18:47.716789Z",
     "iopub.status.busy": "2022-03-05T00:18:47.716381Z",
     "iopub.status.idle": "2022-03-05T00:18:47.725814Z",
     "shell.execute_reply": "2022-03-05T00:18:47.726026Z"
    },
    "papermill": {
     "duration": 0.022123,
     "end_time": "2022-03-05T00:18:47.726097",
     "exception": false,
     "start_time": "2022-03-05T00:18:47.703974",
     "status": "completed"
    },
    "tags": []
   },
   "outputs": [],
   "source": [
    "# Set this to True if you want to run this template directly\n",
    "STANDALONE = False\n",
    "if STANDALONE:\n",
    "    print(\"parameters not injected, running with standalone_parameters\")\n",
    "    parameters = standalone_parameters\n",
    "\n",
    "if not 'parameters' in locals() and not 'parameters' in globals():\n",
    "    raise Exception(\"Parameter injection failed\")\n",
    "\n",
    "#Use an easy dict for all the parameters\n",
    "p = EasyDict(parameters)\n",
    "\n",
    "supplied_keys = set(p.keys())\n",
    "\n",
    "if  supplied_keys != required_parameters:\n",
    "    print(\"Parameters are incorrect\")\n",
    "    if len(supplied_keys - required_parameters)>0: print(\"Shouldn't have:\", str(supplied_keys - required_parameters))\n",
    "    if len(required_parameters - supplied_keys)>0: print(\"Need to have:\", str(required_parameters - supplied_keys))\n",
    "    raise RuntimeError(\"Parameters are incorrect\")\n",
    "\n"
   ]
  },
  {
   "cell_type": "code",
   "execution_count": 6,
   "id": "3a028d58",
   "metadata": {
    "execution": {
     "iopub.execute_input": "2022-03-05T00:18:47.748298Z",
     "iopub.status.busy": "2022-03-05T00:18:47.747925Z",
     "iopub.status.idle": "2022-03-05T00:18:47.757946Z",
     "shell.execute_reply": "2022-03-05T00:18:47.757698Z"
    },
    "papermill": {
     "duration": 0.021095,
     "end_time": "2022-03-05T00:18:47.758002",
     "exception": false,
     "start_time": "2022-03-05T00:18:47.736907",
     "status": "completed"
    },
    "tags": []
   },
   "outputs": [],
   "source": [
    "###################################\n",
    "# Set the RNGs and make it all deterministic\n",
    "###################################\n",
    "np.random.seed(p.seed)\n",
    "random.seed(p.seed)\n",
    "torch.manual_seed(p.seed)\n",
    "\n",
    "torch.use_deterministic_algorithms(True) "
   ]
  },
  {
   "cell_type": "code",
   "execution_count": 7,
   "id": "b691acf6",
   "metadata": {
    "execution": {
     "iopub.execute_input": "2022-03-05T00:18:47.779271Z",
     "iopub.status.busy": "2022-03-05T00:18:47.778876Z",
     "iopub.status.idle": "2022-03-05T00:18:47.787715Z",
     "shell.execute_reply": "2022-03-05T00:18:47.787927Z"
    },
    "papermill": {
     "duration": 0.020263,
     "end_time": "2022-03-05T00:18:47.787995",
     "exception": false,
     "start_time": "2022-03-05T00:18:47.767732",
     "status": "completed"
    },
    "tags": []
   },
   "outputs": [],
   "source": [
    "###########################################\n",
    "# The stratified datasets honor this\n",
    "###########################################\n",
    "torch.set_default_dtype(eval(p.torch_default_dtype))"
   ]
  },
  {
   "cell_type": "code",
   "execution_count": 8,
   "id": "b5fba671",
   "metadata": {
    "execution": {
     "iopub.execute_input": "2022-03-05T00:18:47.811194Z",
     "iopub.status.busy": "2022-03-05T00:18:47.810791Z",
     "iopub.status.idle": "2022-03-05T00:18:47.847785Z",
     "shell.execute_reply": "2022-03-05T00:18:47.848009Z"
    },
    "papermill": {
     "duration": 0.049165,
     "end_time": "2022-03-05T00:18:47.848091",
     "exception": false,
     "start_time": "2022-03-05T00:18:47.798926",
     "status": "completed"
    },
    "tags": []
   },
   "outputs": [],
   "source": [
    "###################################\n",
    "# Build the network(s)\n",
    "# Note: It's critical to do this AFTER setting the RNG\n",
    "# (This is due to the randomized initial weights)\n",
    "###################################\n",
    "x_net = build_sequential(p.x_net)"
   ]
  },
  {
   "cell_type": "code",
   "execution_count": 9,
   "id": "5d7e61cc",
   "metadata": {
    "execution": {
     "iopub.execute_input": "2022-03-05T00:18:47.872403Z",
     "iopub.status.busy": "2022-03-05T00:18:47.871980Z",
     "iopub.status.idle": "2022-03-05T00:18:47.881268Z",
     "shell.execute_reply": "2022-03-05T00:18:47.881484Z"
    },
    "papermill": {
     "duration": 0.020874,
     "end_time": "2022-03-05T00:18:47.881557",
     "exception": false,
     "start_time": "2022-03-05T00:18:47.860683",
     "status": "completed"
    },
    "tags": []
   },
   "outputs": [],
   "source": [
    "start_time_secs = time.time()"
   ]
  },
  {
   "cell_type": "code",
   "execution_count": 10,
   "id": "fd5442bc",
   "metadata": {
    "execution": {
     "iopub.execute_input": "2022-03-05T00:18:47.908401Z",
     "iopub.status.busy": "2022-03-05T00:18:47.907963Z",
     "iopub.status.idle": "2022-03-05T00:18:51.165791Z",
     "shell.execute_reply": "2022-03-05T00:18:51.165382Z"
    },
    "papermill": {
     "duration": 3.273181,
     "end_time": "2022-03-05T00:18:51.165899",
     "exception": false,
     "start_time": "2022-03-05T00:18:47.892718",
     "status": "completed"
    },
    "tags": []
   },
   "outputs": [],
   "source": [
    "###################################\n",
    "# Build the dataset\n",
    "###################################\n",
    "\n",
    "if p.x_transforms_source == []: x_transform_source = None\n",
    "else: x_transform_source = get_chained_transform(p.x_transforms_source) \n",
    "\n",
    "if p.x_transforms_target == []: x_transform_target = None\n",
    "else: x_transform_target = get_chained_transform(p.x_transforms_target)\n",
    "\n",
    "if p.episode_transforms_source == []: episode_transform_source = None\n",
    "else: raise Exception(\"episode_transform_source not implemented\")\n",
    "\n",
    "if p.episode_transforms_target == []: episode_transform_target = None\n",
    "else: raise Exception(\"episode_transform_target not implemented\")\n",
    "\n",
    "\n",
    "eaf_source = Episodic_Accessor_Factory(\n",
    "    labels=p.labels_source,\n",
    "    domains=p.domains_source,\n",
    "    num_examples_per_domain_per_label=p.num_examples_per_domain_per_label_source,\n",
    "    iterator_seed=p.seed,\n",
    "    dataset_seed=p.dataset_seed,\n",
    "    n_shot=p.n_shot,\n",
    "    n_way=p.n_way,\n",
    "    n_query=p.n_query,\n",
    "    train_val_test_k_factors=(p.train_k_factor,p.val_k_factor,p.test_k_factor),\n",
    "    pickle_path=os.path.join(get_datasets_base_path(), p.pickle_name),\n",
    "    x_transform_func=x_transform_source,\n",
    "    example_transform_func=episode_transform_source,\n",
    "    \n",
    ")\n",
    "train_original_source, val_original_source, test_original_source = eaf_source.get_train(), eaf_source.get_val(), eaf_source.get_test()\n",
    "\n",
    "\n",
    "eaf_target = Episodic_Accessor_Factory(\n",
    "    labels=p.labels_target,\n",
    "    domains=p.domains_target,\n",
    "    num_examples_per_domain_per_label=p.num_examples_per_domain_per_label_target,\n",
    "    iterator_seed=p.seed,\n",
    "    dataset_seed=p.dataset_seed,\n",
    "    n_shot=p.n_shot,\n",
    "    n_way=p.n_way,\n",
    "    n_query=p.n_query,\n",
    "    train_val_test_k_factors=(p.train_k_factor,p.val_k_factor,p.test_k_factor),\n",
    "    pickle_path=os.path.join(get_datasets_base_path(), p.pickle_name),\n",
    "    x_transform_func=x_transform_target,\n",
    "    example_transform_func=episode_transform_target,\n",
    ")\n",
    "train_original_target, val_original_target, test_original_target = eaf_target.get_train(), eaf_target.get_val(), eaf_target.get_test()\n",
    "\n",
    "\n",
    "transform_lambda = lambda ex: ex[1] # Original is (<domain>, <episode>) so we strip down to episode only\n",
    "\n",
    "train_processed_source = Lazy_Iterable_Wrapper(train_original_source, transform_lambda)\n",
    "val_processed_source   = Lazy_Iterable_Wrapper(val_original_source, transform_lambda)\n",
    "test_processed_source  = Lazy_Iterable_Wrapper(test_original_source, transform_lambda)\n",
    "\n",
    "train_processed_target = Lazy_Iterable_Wrapper(train_original_target, transform_lambda)\n",
    "val_processed_target   = Lazy_Iterable_Wrapper(val_original_target, transform_lambda)\n",
    "test_processed_target  = Lazy_Iterable_Wrapper(test_original_target, transform_lambda)\n",
    "\n",
    "datasets = EasyDict({\n",
    "    \"source\": {\n",
    "        \"original\": {\"train\":train_original_source, \"val\":val_original_source, \"test\":test_original_source},\n",
    "        \"processed\": {\"train\":train_processed_source, \"val\":val_processed_source, \"test\":test_processed_source}\n",
    "    },\n",
    "    \"target\": {\n",
    "        \"original\": {\"train\":train_original_target, \"val\":val_original_target, \"test\":test_original_target},\n",
    "        \"processed\": {\"train\":train_processed_target, \"val\":val_processed_target, \"test\":test_processed_target}\n",
    "    },\n",
    "})"
   ]
  },
  {
   "cell_type": "code",
   "execution_count": 11,
   "id": "296189d9",
   "metadata": {
    "execution": {
     "iopub.execute_input": "2022-03-05T00:18:51.193816Z",
     "iopub.status.busy": "2022-03-05T00:18:51.193294Z",
     "iopub.status.idle": "2022-03-05T00:18:52.737094Z",
     "shell.execute_reply": "2022-03-05T00:18:52.736561Z"
    },
    "papermill": {
     "duration": 1.557013,
     "end_time": "2022-03-05T00:18:52.737228",
     "exception": false,
     "start_time": "2022-03-05T00:18:51.180215",
     "status": "completed"
    },
    "tags": []
   },
   "outputs": [
    {
     "name": "stdout",
     "output_type": "stream",
     "text": [
      "Visually inspect these to see if they line up with expected values given the transforms\n",
      "x_transforms_source []\n",
      "x_transforms_target []\n",
      "Average magnitude, source: 0.004635015\n",
      "Average power, source: 2.8574976e-05\n"
     ]
    },
    {
     "name": "stdout",
     "output_type": "stream",
     "text": [
      "Average magnitude, target: 0.0029128897\n",
      "Average power, target: 1.0910343e-05\n"
     ]
    }
   ],
   "source": [
    "# Some quick unit tests on the data\n",
    "from steves_utils.transforms import get_average_power, get_average_magnitude\n",
    "\n",
    "q_x, q_y, s_x, s_y, truth = next(iter(train_processed_source))\n",
    "\n",
    "assert q_x.dtype == eval(p.torch_default_dtype)\n",
    "assert s_x.dtype == eval(p.torch_default_dtype)\n",
    "\n",
    "print(\"Visually inspect these to see if they line up with expected values given the transforms\")\n",
    "print('x_transforms_source', p.x_transforms_source)\n",
    "print('x_transforms_target', p.x_transforms_target)\n",
    "print(\"Average magnitude, source:\", get_average_magnitude(q_x[0].numpy()))\n",
    "print(\"Average power, source:\", get_average_power(q_x[0].numpy()))\n",
    "\n",
    "q_x, q_y, s_x, s_y, truth = next(iter(train_processed_target))\n",
    "print(\"Average magnitude, target:\", get_average_magnitude(q_x[0].numpy()))\n",
    "print(\"Average power, target:\", get_average_power(q_x[0].numpy()))\n"
   ]
  },
  {
   "cell_type": "code",
   "execution_count": 12,
   "id": "bbdacba1",
   "metadata": {
    "execution": {
     "iopub.execute_input": "2022-03-05T00:18:52.769195Z",
     "iopub.status.busy": "2022-03-05T00:18:52.768922Z",
     "iopub.status.idle": "2022-03-05T00:18:52.828942Z",
     "shell.execute_reply": "2022-03-05T00:18:52.829140Z"
    },
    "papermill": {
     "duration": 0.074273,
     "end_time": "2022-03-05T00:18:52.829218",
     "exception": false,
     "start_time": "2022-03-05T00:18:52.754945",
     "status": "completed"
    },
    "tags": []
   },
   "outputs": [
    {
     "name": "stdout",
     "output_type": "stream",
     "text": [
      "(2, 256)\n"
     ]
    }
   ],
   "source": [
    "###################################\n",
    "# Build the model\n",
    "###################################\n",
    "model = Steves_Prototypical_Network(x_net, device=p.device, x_shape=(2,256))\n",
    "optimizer = Adam(params=model.parameters(), lr=p.lr)"
   ]
  },
  {
   "cell_type": "code",
   "execution_count": 13,
   "id": "22b39ac5",
   "metadata": {
    "execution": {
     "iopub.execute_input": "2022-03-05T00:18:52.859117Z",
     "iopub.status.busy": "2022-03-05T00:18:52.858850Z",
     "iopub.status.idle": "2022-03-05T00:22:34.141390Z",
     "shell.execute_reply": "2022-03-05T00:22:34.141161Z"
    },
    "papermill": {
     "duration": 221.297443,
     "end_time": "2022-03-05T00:22:34.141447",
     "exception": false,
     "start_time": "2022-03-05T00:18:52.844004",
     "status": "completed"
    },
    "tags": []
   },
   "outputs": [
    {
     "name": "stdout",
     "output_type": "stream",
     "text": [
      "epoch: 1, [batch: 1 / 525], examples_per_second: 389.4919, train_label_loss: 2.5488, \n"
     ]
    },
    {
     "name": "stdout",
     "output_type": "stream",
     "text": [
      "epoch: 1, [batch: 53 / 525], examples_per_second: 2854.5541, train_label_loss: 1.5803, \n"
     ]
    },
    {
     "name": "stdout",
     "output_type": "stream",
     "text": [
      "epoch: 1, [batch: 105 / 525], examples_per_second: 2936.3610, train_label_loss: 1.2923, \n"
     ]
    },
    {
     "name": "stdout",
     "output_type": "stream",
     "text": [
      "epoch: 1, [batch: 158 / 525], examples_per_second: 2892.8893, train_label_loss: 1.4324, \n"
     ]
    },
    {
     "name": "stdout",
     "output_type": "stream",
     "text": [
      "epoch: 1, [batch: 210 / 525], examples_per_second: 2943.1025, train_label_loss: 1.0475, \n"
     ]
    },
    {
     "name": "stdout",
     "output_type": "stream",
     "text": [
      "epoch: 1, [batch: 263 / 525], examples_per_second: 2943.7835, train_label_loss: 1.0498, \n"
     ]
    },
    {
     "name": "stdout",
     "output_type": "stream",
     "text": [
      "epoch: 1, [batch: 315 / 525], examples_per_second: 2882.1320, train_label_loss: 1.2694, \n"
     ]
    },
    {
     "name": "stdout",
     "output_type": "stream",
     "text": [
      "epoch: 1, [batch: 367 / 525], examples_per_second: 2892.5024, train_label_loss: 1.1428, \n"
     ]
    },
    {
     "name": "stdout",
     "output_type": "stream",
     "text": [
      "epoch: 1, [batch: 420 / 525], examples_per_second: 2886.1316, train_label_loss: 1.3532, \n"
     ]
    },
    {
     "name": "stdout",
     "output_type": "stream",
     "text": [
      "epoch: 1, [batch: 472 / 525], examples_per_second: 2887.8473, train_label_loss: 1.2481, \n"
     ]
    },
    {
     "name": "stdout",
     "output_type": "stream",
     "text": [
      "=============================================================\n",
      "epoch: 1, source_val_acc_label: 0.4521, target_val_acc_label: 0.3813, source_val_label_loss: 1.7270, target_val_label_loss: 1.8774, \n",
      "=============================================================\n"
     ]
    },
    {
     "name": "stdout",
     "output_type": "stream",
     "text": [
      "New best\n"
     ]
    },
    {
     "name": "stdout",
     "output_type": "stream",
     "text": [
      "epoch: 2, [batch: 1 / 525], examples_per_second: 23.8440, train_label_loss: 1.2356, \n"
     ]
    },
    {
     "name": "stdout",
     "output_type": "stream",
     "text": [
      "epoch: 2, [batch: 53 / 525], examples_per_second: 2963.5142, train_label_loss: 1.6041, \n"
     ]
    },
    {
     "name": "stdout",
     "output_type": "stream",
     "text": [
      "epoch: 2, [batch: 105 / 525], examples_per_second: 2913.0989, train_label_loss: 1.4048, \n"
     ]
    },
    {
     "name": "stdout",
     "output_type": "stream",
     "text": [
      "epoch: 2, [batch: 158 / 525], examples_per_second: 2949.1052, train_label_loss: 1.4439, \n"
     ]
    },
    {
     "name": "stdout",
     "output_type": "stream",
     "text": [
      "epoch: 2, [batch: 210 / 525], examples_per_second: 2935.4150, train_label_loss: 1.2158, \n"
     ]
    },
    {
     "name": "stdout",
     "output_type": "stream",
     "text": [
      "epoch: 2, [batch: 263 / 525], examples_per_second: 2940.1401, train_label_loss: 1.4413, \n"
     ]
    },
    {
     "name": "stdout",
     "output_type": "stream",
     "text": [
      "epoch: 2, [batch: 315 / 525], examples_per_second: 2942.6632, train_label_loss: 1.3853, \n"
     ]
    },
    {
     "name": "stdout",
     "output_type": "stream",
     "text": [
      "epoch: 2, [batch: 367 / 525], examples_per_second: 2938.6773, train_label_loss: 1.1832, \n"
     ]
    },
    {
     "name": "stdout",
     "output_type": "stream",
     "text": [
      "epoch: 2, [batch: 420 / 525], examples_per_second: 2947.8116, train_label_loss: 1.0558, \n"
     ]
    },
    {
     "name": "stdout",
     "output_type": "stream",
     "text": [
      "epoch: 2, [batch: 472 / 525], examples_per_second: 2944.1243, train_label_loss: 1.1835, \n"
     ]
    },
    {
     "name": "stdout",
     "output_type": "stream",
     "text": [
      "=============================================================\n",
      "epoch: 2, source_val_acc_label: 0.4749, target_val_acc_label: 0.3954, source_val_label_loss: 1.3492, target_val_label_loss: 1.6590, \n",
      "=============================================================\n"
     ]
    },
    {
     "name": "stdout",
     "output_type": "stream",
     "text": [
      "New best\n"
     ]
    },
    {
     "name": "stdout",
     "output_type": "stream",
     "text": [
      "epoch: 3, [batch: 1 / 525], examples_per_second: 23.8043, train_label_loss: 1.2384, \n"
     ]
    },
    {
     "name": "stdout",
     "output_type": "stream",
     "text": [
      "epoch: 3, [batch: 53 / 525], examples_per_second: 2885.2316, train_label_loss: 1.3412, \n"
     ]
    },
    {
     "name": "stdout",
     "output_type": "stream",
     "text": [
      "epoch: 3, [batch: 105 / 525], examples_per_second: 2926.0441, train_label_loss: 1.5409, \n"
     ]
    },
    {
     "name": "stdout",
     "output_type": "stream",
     "text": [
      "epoch: 3, [batch: 158 / 525], examples_per_second: 2963.5550, train_label_loss: 1.4137, \n"
     ]
    },
    {
     "name": "stdout",
     "output_type": "stream",
     "text": [
      "epoch: 3, [batch: 210 / 525], examples_per_second: 2953.5208, train_label_loss: 1.4998, \n"
     ]
    },
    {
     "name": "stdout",
     "output_type": "stream",
     "text": [
      "epoch: 3, [batch: 263 / 525], examples_per_second: 2954.2866, train_label_loss: 1.2331, \n"
     ]
    },
    {
     "name": "stdout",
     "output_type": "stream",
     "text": [
      "epoch: 3, [batch: 315 / 525], examples_per_second: 2971.8407, train_label_loss: 1.3452, \n"
     ]
    },
    {
     "name": "stdout",
     "output_type": "stream",
     "text": [
      "epoch: 3, [batch: 367 / 525], examples_per_second: 2944.2050, train_label_loss: 1.2083, \n"
     ]
    },
    {
     "name": "stdout",
     "output_type": "stream",
     "text": [
      "epoch: 3, [batch: 420 / 525], examples_per_second: 2950.5247, train_label_loss: 1.2562, \n"
     ]
    },
    {
     "name": "stdout",
     "output_type": "stream",
     "text": [
      "epoch: 3, [batch: 472 / 525], examples_per_second: 2940.2483, train_label_loss: 1.0723, \n"
     ]
    },
    {
     "name": "stdout",
     "output_type": "stream",
     "text": [
      "=============================================================\n",
      "epoch: 3, source_val_acc_label: 0.4779, target_val_acc_label: 0.3881, source_val_label_loss: 1.3170, target_val_label_loss: 1.9539, \n",
      "=============================================================\n"
     ]
    },
    {
     "name": "stdout",
     "output_type": "stream",
     "text": [
      "epoch: 4, [batch: 1 / 525], examples_per_second: 24.1239, train_label_loss: 1.1106, \n"
     ]
    },
    {
     "name": "stdout",
     "output_type": "stream",
     "text": [
      "epoch: 4, [batch: 53 / 525], examples_per_second: 2928.9796, train_label_loss: 1.2202, \n"
     ]
    },
    {
     "name": "stdout",
     "output_type": "stream",
     "text": [
      "epoch: 4, [batch: 105 / 525], examples_per_second: 2902.8541, train_label_loss: 1.2664, \n"
     ]
    },
    {
     "name": "stdout",
     "output_type": "stream",
     "text": [
      "epoch: 4, [batch: 158 / 525], examples_per_second: 2920.9468, train_label_loss: 1.2333, \n"
     ]
    },
    {
     "name": "stdout",
     "output_type": "stream",
     "text": [
      "epoch: 4, [batch: 210 / 525], examples_per_second: 2940.2130, train_label_loss: 1.2051, \n"
     ]
    },
    {
     "name": "stdout",
     "output_type": "stream",
     "text": [
      "epoch: 4, [batch: 263 / 525], examples_per_second: 2935.0106, train_label_loss: 1.3767, \n"
     ]
    },
    {
     "name": "stdout",
     "output_type": "stream",
     "text": [
      "epoch: 4, [batch: 315 / 525], examples_per_second: 2965.0886, train_label_loss: 1.1280, \n"
     ]
    },
    {
     "name": "stdout",
     "output_type": "stream",
     "text": [
      "epoch: 4, [batch: 367 / 525], examples_per_second: 2897.8515, train_label_loss: 1.0839, \n"
     ]
    },
    {
     "name": "stdout",
     "output_type": "stream",
     "text": [
      "epoch: 4, [batch: 420 / 525], examples_per_second: 2899.4293, train_label_loss: 1.1219, \n"
     ]
    },
    {
     "name": "stdout",
     "output_type": "stream",
     "text": [
      "epoch: 4, [batch: 472 / 525], examples_per_second: 2907.7188, train_label_loss: 1.1366, \n"
     ]
    },
    {
     "name": "stdout",
     "output_type": "stream",
     "text": [
      "=============================================================\n",
      "epoch: 4, source_val_acc_label: 0.4773, target_val_acc_label: 0.4066, source_val_label_loss: 1.2629, target_val_label_loss: 1.6340, \n",
      "=============================================================\n"
     ]
    },
    {
     "name": "stdout",
     "output_type": "stream",
     "text": [
      "New best\n"
     ]
    },
    {
     "name": "stdout",
     "output_type": "stream",
     "text": [
      "epoch: 5, [batch: 1 / 525], examples_per_second: 23.8131, train_label_loss: 0.9391, \n"
     ]
    },
    {
     "name": "stdout",
     "output_type": "stream",
     "text": [
      "epoch: 5, [batch: 53 / 525], examples_per_second: 2910.9909, train_label_loss: 1.7001, \n"
     ]
    },
    {
     "name": "stdout",
     "output_type": "stream",
     "text": [
      "epoch: 5, [batch: 105 / 525], examples_per_second: 2922.0749, train_label_loss: 1.3068, \n"
     ]
    },
    {
     "name": "stdout",
     "output_type": "stream",
     "text": [
      "epoch: 5, [batch: 158 / 525], examples_per_second: 2951.6082, train_label_loss: 1.0458, \n"
     ]
    },
    {
     "name": "stdout",
     "output_type": "stream",
     "text": [
      "epoch: 5, [batch: 210 / 525], examples_per_second: 2915.3148, train_label_loss: 1.4210, \n"
     ]
    },
    {
     "name": "stdout",
     "output_type": "stream",
     "text": [
      "epoch: 5, [batch: 263 / 525], examples_per_second: 2951.1521, train_label_loss: 1.1695, \n"
     ]
    },
    {
     "name": "stdout",
     "output_type": "stream",
     "text": [
      "epoch: 5, [batch: 315 / 525], examples_per_second: 2940.1554, train_label_loss: 1.0740, \n"
     ]
    },
    {
     "name": "stdout",
     "output_type": "stream",
     "text": [
      "epoch: 5, [batch: 367 / 525], examples_per_second: 2931.9406, train_label_loss: 1.1109, \n"
     ]
    },
    {
     "name": "stdout",
     "output_type": "stream",
     "text": [
      "epoch: 5, [batch: 420 / 525], examples_per_second: 2931.7494, train_label_loss: 1.1078, \n"
     ]
    },
    {
     "name": "stdout",
     "output_type": "stream",
     "text": [
      "epoch: 5, [batch: 472 / 525], examples_per_second: 2938.5554, train_label_loss: 1.2552, \n"
     ]
    },
    {
     "name": "stdout",
     "output_type": "stream",
     "text": [
      "=============================================================\n",
      "epoch: 5, source_val_acc_label: 0.4865, target_val_acc_label: 0.4095, source_val_label_loss: 1.2366, target_val_label_loss: 1.7138, \n",
      "=============================================================\n"
     ]
    },
    {
     "name": "stdout",
     "output_type": "stream",
     "text": [
      "epoch: 6, [batch: 1 / 525], examples_per_second: 24.3099, train_label_loss: 1.1362, \n"
     ]
    },
    {
     "name": "stdout",
     "output_type": "stream",
     "text": [
      "epoch: 6, [batch: 53 / 525], examples_per_second: 2900.0195, train_label_loss: 1.0076, \n"
     ]
    },
    {
     "name": "stdout",
     "output_type": "stream",
     "text": [
      "epoch: 6, [batch: 105 / 525], examples_per_second: 2927.0050, train_label_loss: 1.1765, \n"
     ]
    },
    {
     "name": "stdout",
     "output_type": "stream",
     "text": [
      "epoch: 6, [batch: 158 / 525], examples_per_second: 2931.2160, train_label_loss: 1.2832, \n"
     ]
    },
    {
     "name": "stdout",
     "output_type": "stream",
     "text": [
      "epoch: 6, [batch: 210 / 525], examples_per_second: 2925.6559, train_label_loss: 1.3075, \n"
     ]
    },
    {
     "name": "stdout",
     "output_type": "stream",
     "text": [
      "epoch: 6, [batch: 263 / 525], examples_per_second: 2942.1052, train_label_loss: 1.2568, \n"
     ]
    },
    {
     "name": "stdout",
     "output_type": "stream",
     "text": [
      "epoch: 6, [batch: 315 / 525], examples_per_second: 2918.6491, train_label_loss: 1.0875, \n"
     ]
    },
    {
     "name": "stdout",
     "output_type": "stream",
     "text": [
      "epoch: 6, [batch: 367 / 525], examples_per_second: 2934.3684, train_label_loss: 1.2299, \n"
     ]
    },
    {
     "name": "stdout",
     "output_type": "stream",
     "text": [
      "epoch: 6, [batch: 420 / 525], examples_per_second: 2924.4184, train_label_loss: 1.2378, \n"
     ]
    },
    {
     "name": "stdout",
     "output_type": "stream",
     "text": [
      "epoch: 6, [batch: 472 / 525], examples_per_second: 2941.6784, train_label_loss: 1.5071, \n"
     ]
    },
    {
     "name": "stdout",
     "output_type": "stream",
     "text": [
      "=============================================================\n",
      "epoch: 6, source_val_acc_label: 0.4769, target_val_acc_label: 0.4130, source_val_label_loss: 1.2504, target_val_label_loss: 1.6767, \n",
      "=============================================================\n"
     ]
    },
    {
     "name": "stdout",
     "output_type": "stream",
     "text": [
      "epoch: 7, [batch: 1 / 525], examples_per_second: 24.1253, train_label_loss: 1.2125, \n"
     ]
    },
    {
     "name": "stdout",
     "output_type": "stream",
     "text": [
      "epoch: 7, [batch: 53 / 525], examples_per_second: 2888.3265, train_label_loss: 1.0842, \n"
     ]
    },
    {
     "name": "stdout",
     "output_type": "stream",
     "text": [
      "epoch: 7, [batch: 105 / 525], examples_per_second: 2911.4973, train_label_loss: 1.3389, \n"
     ]
    },
    {
     "name": "stdout",
     "output_type": "stream",
     "text": [
      "epoch: 7, [batch: 158 / 525], examples_per_second: 2870.8162, train_label_loss: 1.1242, \n"
     ]
    },
    {
     "name": "stdout",
     "output_type": "stream",
     "text": [
      "epoch: 7, [batch: 210 / 525], examples_per_second: 2941.1045, train_label_loss: 1.1162, \n"
     ]
    },
    {
     "name": "stdout",
     "output_type": "stream",
     "text": [
      "epoch: 7, [batch: 263 / 525], examples_per_second: 2940.5776, train_label_loss: 1.1406, \n"
     ]
    },
    {
     "name": "stdout",
     "output_type": "stream",
     "text": [
      "epoch: 7, [batch: 315 / 525], examples_per_second: 2895.0634, train_label_loss: 1.3144, \n"
     ]
    },
    {
     "name": "stdout",
     "output_type": "stream",
     "text": [
      "epoch: 7, [batch: 367 / 525], examples_per_second: 2884.5918, train_label_loss: 1.1111, \n"
     ]
    },
    {
     "name": "stdout",
     "output_type": "stream",
     "text": [
      "epoch: 7, [batch: 420 / 525], examples_per_second: 2874.0082, train_label_loss: 1.0418, \n"
     ]
    },
    {
     "name": "stdout",
     "output_type": "stream",
     "text": [
      "epoch: 7, [batch: 472 / 525], examples_per_second: 2907.4753, train_label_loss: 1.1699, \n"
     ]
    },
    {
     "name": "stdout",
     "output_type": "stream",
     "text": [
      "=============================================================\n",
      "epoch: 7, source_val_acc_label: 0.4887, target_val_acc_label: 0.4184, source_val_label_loss: 1.2648, target_val_label_loss: 2.0219, \n",
      "=============================================================\n"
     ]
    },
    {
     "name": "stdout",
     "output_type": "stream",
     "text": [
      "epoch: 8, [batch: 1 / 525], examples_per_second: 24.0344, train_label_loss: 0.9298, \n"
     ]
    },
    {
     "name": "stdout",
     "output_type": "stream",
     "text": [
      "epoch: 8, [batch: 53 / 525], examples_per_second: 2891.9091, train_label_loss: 1.1418, \n"
     ]
    },
    {
     "name": "stdout",
     "output_type": "stream",
     "text": [
      "epoch: 8, [batch: 105 / 525], examples_per_second: 2905.4716, train_label_loss: 1.3207, \n"
     ]
    },
    {
     "name": "stdout",
     "output_type": "stream",
     "text": [
      "epoch: 8, [batch: 158 / 525], examples_per_second: 2887.5580, train_label_loss: 0.9969, \n"
     ]
    },
    {
     "name": "stdout",
     "output_type": "stream",
     "text": [
      "epoch: 8, [batch: 210 / 525], examples_per_second: 2927.6803, train_label_loss: 1.1963, \n"
     ]
    },
    {
     "name": "stdout",
     "output_type": "stream",
     "text": [
      "epoch: 8, [batch: 263 / 525], examples_per_second: 2926.1158, train_label_loss: 0.8853, \n"
     ]
    },
    {
     "name": "stdout",
     "output_type": "stream",
     "text": [
      "epoch: 8, [batch: 315 / 525], examples_per_second: 2937.3546, train_label_loss: 1.1425, \n"
     ]
    },
    {
     "name": "stdout",
     "output_type": "stream",
     "text": [
      "epoch: 8, [batch: 367 / 525], examples_per_second: 2933.6296, train_label_loss: 1.2028, \n"
     ]
    },
    {
     "name": "stdout",
     "output_type": "stream",
     "text": [
      "epoch: 8, [batch: 420 / 525], examples_per_second: 2974.0929, train_label_loss: 1.0832, \n"
     ]
    },
    {
     "name": "stdout",
     "output_type": "stream",
     "text": [
      "epoch: 8, [batch: 472 / 525], examples_per_second: 2947.7178, train_label_loss: 0.5998, \n"
     ]
    },
    {
     "name": "stdout",
     "output_type": "stream",
     "text": [
      "=============================================================\n",
      "epoch: 8, source_val_acc_label: 0.6570, target_val_acc_label: 0.5252, source_val_label_loss: 0.8969, target_val_label_loss: 1.5475, \n",
      "=============================================================\n"
     ]
    },
    {
     "name": "stdout",
     "output_type": "stream",
     "text": [
      "New best\n"
     ]
    },
    {
     "name": "stdout",
     "output_type": "stream",
     "text": [
      "epoch: 9, [batch: 1 / 525], examples_per_second: 22.5795, train_label_loss: 0.6488, \n"
     ]
    },
    {
     "name": "stdout",
     "output_type": "stream",
     "text": [
      "epoch: 9, [batch: 53 / 525], examples_per_second: 2852.1469, train_label_loss: 0.4753, \n"
     ]
    },
    {
     "name": "stdout",
     "output_type": "stream",
     "text": [
      "epoch: 9, [batch: 105 / 525], examples_per_second: 2858.2880, train_label_loss: 0.6498, \n"
     ]
    },
    {
     "name": "stdout",
     "output_type": "stream",
     "text": [
      "epoch: 9, [batch: 158 / 525], examples_per_second: 2905.5847, train_label_loss: 0.6922, \n"
     ]
    },
    {
     "name": "stdout",
     "output_type": "stream",
     "text": [
      "epoch: 9, [batch: 210 / 525], examples_per_second: 2891.7455, train_label_loss: 0.5481, \n"
     ]
    },
    {
     "name": "stdout",
     "output_type": "stream",
     "text": [
      "epoch: 9, [batch: 263 / 525], examples_per_second: 2885.9191, train_label_loss: 0.9616, \n"
     ]
    },
    {
     "name": "stdout",
     "output_type": "stream",
     "text": [
      "epoch: 9, [batch: 315 / 525], examples_per_second: 2901.3897, train_label_loss: 0.9930, \n"
     ]
    },
    {
     "name": "stdout",
     "output_type": "stream",
     "text": [
      "epoch: 9, [batch: 367 / 525], examples_per_second: 2599.8499, train_label_loss: 0.5223, \n"
     ]
    },
    {
     "name": "stdout",
     "output_type": "stream",
     "text": [
      "epoch: 9, [batch: 420 / 525], examples_per_second: 2621.2357, train_label_loss: 0.8000, \n"
     ]
    },
    {
     "name": "stdout",
     "output_type": "stream",
     "text": [
      "epoch: 9, [batch: 472 / 525], examples_per_second: 2744.3357, train_label_loss: 0.5372, \n"
     ]
    },
    {
     "name": "stdout",
     "output_type": "stream",
     "text": [
      "=============================================================\n",
      "epoch: 9, source_val_acc_label: 0.7088, target_val_acc_label: 0.5665, source_val_label_loss: 0.7730, target_val_label_loss: 1.6450, \n",
      "=============================================================\n"
     ]
    },
    {
     "name": "stdout",
     "output_type": "stream",
     "text": [
      "epoch: 10, [batch: 1 / 525], examples_per_second: 23.0673, train_label_loss: 0.5787, \n"
     ]
    },
    {
     "name": "stdout",
     "output_type": "stream",
     "text": [
      "epoch: 10, [batch: 53 / 525], examples_per_second: 2898.0994, train_label_loss: 0.4532, \n"
     ]
    },
    {
     "name": "stdout",
     "output_type": "stream",
     "text": [
      "epoch: 10, [batch: 105 / 525], examples_per_second: 2879.3580, train_label_loss: 0.8808, \n"
     ]
    },
    {
     "name": "stdout",
     "output_type": "stream",
     "text": [
      "epoch: 10, [batch: 158 / 525], examples_per_second: 2858.6479, train_label_loss: 0.3580, \n"
     ]
    },
    {
     "name": "stdout",
     "output_type": "stream",
     "text": [
      "epoch: 10, [batch: 210 / 525], examples_per_second: 2897.0546, train_label_loss: 0.7184, \n"
     ]
    },
    {
     "name": "stdout",
     "output_type": "stream",
     "text": [
      "epoch: 10, [batch: 263 / 525], examples_per_second: 2895.4056, train_label_loss: 0.4990, \n"
     ]
    },
    {
     "name": "stdout",
     "output_type": "stream",
     "text": [
      "epoch: 10, [batch: 315 / 525], examples_per_second: 2895.5534, train_label_loss: 0.6526, \n"
     ]
    },
    {
     "name": "stdout",
     "output_type": "stream",
     "text": [
      "epoch: 10, [batch: 367 / 525], examples_per_second: 2927.2425, train_label_loss: 0.7738, \n"
     ]
    },
    {
     "name": "stdout",
     "output_type": "stream",
     "text": [
      "epoch: 10, [batch: 420 / 525], examples_per_second: 2882.6715, train_label_loss: 0.4955, \n"
     ]
    },
    {
     "name": "stdout",
     "output_type": "stream",
     "text": [
      "epoch: 10, [batch: 472 / 525], examples_per_second: 2877.3963, train_label_loss: 0.6438, \n"
     ]
    },
    {
     "name": "stdout",
     "output_type": "stream",
     "text": [
      "=============================================================\n",
      "epoch: 10, source_val_acc_label: 0.7128, target_val_acc_label: 0.5691, source_val_label_loss: 0.7589, target_val_label_loss: 1.3232, \n",
      "=============================================================\n"
     ]
    },
    {
     "name": "stdout",
     "output_type": "stream",
     "text": [
      "New best\n"
     ]
    },
    {
     "name": "stdout",
     "output_type": "stream",
     "text": [
      "epoch: 11, [batch: 1 / 525], examples_per_second: 23.7060, train_label_loss: 0.5259, \n"
     ]
    },
    {
     "name": "stdout",
     "output_type": "stream",
     "text": [
      "epoch: 11, [batch: 53 / 525], examples_per_second: 2840.8603, train_label_loss: 0.9463, \n"
     ]
    },
    {
     "name": "stdout",
     "output_type": "stream",
     "text": [
      "epoch: 11, [batch: 105 / 525], examples_per_second: 2841.3796, train_label_loss: 0.3446, \n"
     ]
    },
    {
     "name": "stdout",
     "output_type": "stream",
     "text": [
      "epoch: 11, [batch: 158 / 525], examples_per_second: 2808.5464, train_label_loss: 0.5149, \n"
     ]
    },
    {
     "name": "stdout",
     "output_type": "stream",
     "text": [
      "epoch: 11, [batch: 210 / 525], examples_per_second: 2662.7880, train_label_loss: 0.5023, \n"
     ]
    },
    {
     "name": "stdout",
     "output_type": "stream",
     "text": [
      "epoch: 11, [batch: 263 / 525], examples_per_second: 2710.7367, train_label_loss: 0.5167, \n"
     ]
    },
    {
     "name": "stdout",
     "output_type": "stream",
     "text": [
      "epoch: 11, [batch: 315 / 525], examples_per_second: 2860.1826, train_label_loss: 0.8423, \n"
     ]
    },
    {
     "name": "stdout",
     "output_type": "stream",
     "text": [
      "epoch: 11, [batch: 367 / 525], examples_per_second: 2872.2949, train_label_loss: 0.5286, \n"
     ]
    },
    {
     "name": "stdout",
     "output_type": "stream",
     "text": [
      "epoch: 11, [batch: 420 / 525], examples_per_second: 2882.8339, train_label_loss: 0.8580, \n"
     ]
    },
    {
     "name": "stdout",
     "output_type": "stream",
     "text": [
      "epoch: 11, [batch: 472 / 525], examples_per_second: 2933.2042, train_label_loss: 0.6532, \n"
     ]
    },
    {
     "name": "stdout",
     "output_type": "stream",
     "text": [
      "=============================================================\n",
      "epoch: 11, source_val_acc_label: 0.7414, target_val_acc_label: 0.5986, source_val_label_loss: 0.6797, target_val_label_loss: 1.4207, \n",
      "=============================================================\n"
     ]
    },
    {
     "name": "stdout",
     "output_type": "stream",
     "text": [
      "epoch: 12, [batch: 1 / 525], examples_per_second: 24.1372, train_label_loss: 0.4594, \n"
     ]
    },
    {
     "name": "stdout",
     "output_type": "stream",
     "text": [
      "epoch: 12, [batch: 53 / 525], examples_per_second: 2912.7646, train_label_loss: 0.3880, \n"
     ]
    },
    {
     "name": "stdout",
     "output_type": "stream",
     "text": [
      "epoch: 12, [batch: 105 / 525], examples_per_second: 2896.3237, train_label_loss: 0.5600, \n"
     ]
    },
    {
     "name": "stdout",
     "output_type": "stream",
     "text": [
      "epoch: 12, [batch: 158 / 525], examples_per_second: 2912.5286, train_label_loss: 0.4192, \n"
     ]
    },
    {
     "name": "stdout",
     "output_type": "stream",
     "text": [
      "epoch: 12, [batch: 210 / 525], examples_per_second: 2930.7783, train_label_loss: 0.5485, \n"
     ]
    },
    {
     "name": "stdout",
     "output_type": "stream",
     "text": [
      "epoch: 12, [batch: 263 / 525], examples_per_second: 2918.8943, train_label_loss: 0.7515, \n"
     ]
    },
    {
     "name": "stdout",
     "output_type": "stream",
     "text": [
      "epoch: 12, [batch: 315 / 525], examples_per_second: 2933.4311, train_label_loss: 0.5331, \n"
     ]
    },
    {
     "name": "stdout",
     "output_type": "stream",
     "text": [
      "epoch: 12, [batch: 367 / 525], examples_per_second: 2962.0697, train_label_loss: 0.3748, \n"
     ]
    },
    {
     "name": "stdout",
     "output_type": "stream",
     "text": [
      "epoch: 12, [batch: 420 / 525], examples_per_second: 2978.3616, train_label_loss: 0.6646, \n"
     ]
    },
    {
     "name": "stdout",
     "output_type": "stream",
     "text": [
      "epoch: 12, [batch: 472 / 525], examples_per_second: 2946.3478, train_label_loss: 0.4143, \n"
     ]
    },
    {
     "name": "stdout",
     "output_type": "stream",
     "text": [
      "=============================================================\n",
      "epoch: 12, source_val_acc_label: 0.7477, target_val_acc_label: 0.5950, source_val_label_loss: 0.6833, target_val_label_loss: 1.4680, \n",
      "=============================================================\n"
     ]
    },
    {
     "name": "stdout",
     "output_type": "stream",
     "text": [
      "epoch: 13, [batch: 1 / 525], examples_per_second: 23.9432, train_label_loss: 0.7260, \n"
     ]
    },
    {
     "name": "stdout",
     "output_type": "stream",
     "text": [
      "epoch: 13, [batch: 53 / 525], examples_per_second: 2932.5978, train_label_loss: 0.5432, \n"
     ]
    },
    {
     "name": "stdout",
     "output_type": "stream",
     "text": [
      "epoch: 13, [batch: 105 / 525], examples_per_second: 2896.4108, train_label_loss: 0.4139, \n"
     ]
    },
    {
     "name": "stdout",
     "output_type": "stream",
     "text": [
      "epoch: 13, [batch: 158 / 525], examples_per_second: 2886.3594, train_label_loss: 0.5932, \n"
     ]
    },
    {
     "name": "stdout",
     "output_type": "stream",
     "text": [
      "epoch: 13, [batch: 210 / 525], examples_per_second: 2880.6867, train_label_loss: 0.3539, \n"
     ]
    },
    {
     "name": "stdout",
     "output_type": "stream",
     "text": [
      "epoch: 13, [batch: 263 / 525], examples_per_second: 2849.1009, train_label_loss: 0.4768, \n"
     ]
    },
    {
     "name": "stdout",
     "output_type": "stream",
     "text": [
      "epoch: 13, [batch: 315 / 525], examples_per_second: 2887.5444, train_label_loss: 0.7834, \n"
     ]
    },
    {
     "name": "stdout",
     "output_type": "stream",
     "text": [
      "epoch: 13, [batch: 367 / 525], examples_per_second: 2931.1513, train_label_loss: 0.3990, \n"
     ]
    },
    {
     "name": "stdout",
     "output_type": "stream",
     "text": [
      "epoch: 13, [batch: 420 / 525], examples_per_second: 2916.4859, train_label_loss: 0.7163, \n"
     ]
    },
    {
     "name": "stdout",
     "output_type": "stream",
     "text": [
      "epoch: 13, [batch: 472 / 525], examples_per_second: 2896.6789, train_label_loss: 0.5077, \n"
     ]
    },
    {
     "name": "stdout",
     "output_type": "stream",
     "text": [
      "=============================================================\n",
      "epoch: 13, source_val_acc_label: 0.7390, target_val_acc_label: 0.5879, source_val_label_loss: 0.7039, target_val_label_loss: 1.3286, \n",
      "=============================================================\n"
     ]
    },
    {
     "name": "stdout",
     "output_type": "stream",
     "text": [
      "epoch: 14, [batch: 1 / 525], examples_per_second: 22.7575, train_label_loss: 0.3979, \n"
     ]
    },
    {
     "name": "stdout",
     "output_type": "stream",
     "text": [
      "epoch: 14, [batch: 53 / 525], examples_per_second: 2903.0919, train_label_loss: 0.7458, \n"
     ]
    },
    {
     "name": "stdout",
     "output_type": "stream",
     "text": [
      "epoch: 14, [batch: 105 / 525], examples_per_second: 2897.8455, train_label_loss: 0.6273, \n"
     ]
    },
    {
     "name": "stdout",
     "output_type": "stream",
     "text": [
      "epoch: 14, [batch: 158 / 525], examples_per_second: 2834.4301, train_label_loss: 0.2987, \n"
     ]
    },
    {
     "name": "stdout",
     "output_type": "stream",
     "text": [
      "epoch: 14, [batch: 210 / 525], examples_per_second: 2872.4610, train_label_loss: 0.6672, \n"
     ]
    },
    {
     "name": "stdout",
     "output_type": "stream",
     "text": [
      "epoch: 14, [batch: 263 / 525], examples_per_second: 2910.1242, train_label_loss: 0.3733, \n"
     ]
    },
    {
     "name": "stdout",
     "output_type": "stream",
     "text": [
      "epoch: 14, [batch: 315 / 525], examples_per_second: 2692.9601, train_label_loss: 0.0817, \n"
     ]
    },
    {
     "name": "stdout",
     "output_type": "stream",
     "text": [
      "epoch: 14, [batch: 367 / 525], examples_per_second: 2794.0612, train_label_loss: 0.8455, \n"
     ]
    },
    {
     "name": "stdout",
     "output_type": "stream",
     "text": [
      "epoch: 14, [batch: 420 / 525], examples_per_second: 2747.9127, train_label_loss: 0.2539, \n"
     ]
    },
    {
     "name": "stdout",
     "output_type": "stream",
     "text": [
      "epoch: 14, [batch: 472 / 525], examples_per_second: 2748.9680, train_label_loss: 0.3473, \n"
     ]
    },
    {
     "name": "stdout",
     "output_type": "stream",
     "text": [
      "=============================================================\n",
      "epoch: 14, source_val_acc_label: 0.7483, target_val_acc_label: 0.5995, source_val_label_loss: 0.7134, target_val_label_loss: 1.5362, \n",
      "=============================================================\n"
     ]
    },
    {
     "name": "stdout",
     "output_type": "stream",
     "text": [
      "Patience (3) exhausted\n"
     ]
    }
   ],
   "source": [
    "###################################\n",
    "# train\n",
    "###################################\n",
    "jig = PTN_Train_Eval_Test_Jig(model, p.BEST_MODEL_PATH, p.device)\n",
    "\n",
    "jig.train(\n",
    "    train_iterable=datasets.source.processed.train,\n",
    "    source_val_iterable=datasets.source.processed.val,\n",
    "    target_val_iterable=datasets.target.processed.val,\n",
    "    num_epochs=p.n_epoch,\n",
    "    num_logs_per_epoch=p.NUM_LOGS_PER_EPOCH,\n",
    "    patience=p.patience,\n",
    "    optimizer=optimizer,\n",
    "    criteria_for_best=p.criteria_for_best,\n",
    ")"
   ]
  },
  {
   "cell_type": "code",
   "execution_count": 14,
   "id": "31e8fabf",
   "metadata": {
    "execution": {
     "iopub.execute_input": "2022-03-05T00:22:34.225296Z",
     "iopub.status.busy": "2022-03-05T00:22:34.219969Z",
     "iopub.status.idle": "2022-03-05T00:22:34.235977Z",
     "shell.execute_reply": "2022-03-05T00:22:34.235585Z"
    },
    "papermill": {
     "duration": 0.056982,
     "end_time": "2022-03-05T00:22:34.236067",
     "exception": false,
     "start_time": "2022-03-05T00:22:34.179085",
     "status": "completed"
    },
    "tags": []
   },
   "outputs": [],
   "source": [
    "total_experiment_time_secs = time.time() - start_time_secs"
   ]
  },
  {
   "cell_type": "code",
   "execution_count": 15,
   "id": "87b9595b",
   "metadata": {
    "execution": {
     "iopub.execute_input": "2022-03-05T00:22:34.324230Z",
     "iopub.status.busy": "2022-03-05T00:22:34.322742Z",
     "iopub.status.idle": "2022-03-05T00:22:56.327031Z",
     "shell.execute_reply": "2022-03-05T00:22:56.327450Z"
    },
    "papermill": {
     "duration": 22.048718,
     "end_time": "2022-03-05T00:22:56.327591",
     "exception": false,
     "start_time": "2022-03-05T00:22:34.278873",
     "status": "completed"
    },
    "tags": []
   },
   "outputs": [],
   "source": [
    "###################################\n",
    "# Evaluate the model\n",
    "###################################\n",
    "source_test_label_accuracy, source_test_label_loss = jig.test(datasets.source.processed.test)\n",
    "target_test_label_accuracy, target_test_label_loss = jig.test(datasets.target.processed.test)\n",
    "\n",
    "source_val_label_accuracy, source_val_label_loss = jig.test(datasets.source.processed.val)\n",
    "target_val_label_accuracy, target_val_label_loss = jig.test(datasets.target.processed.val)\n",
    "\n",
    "history = jig.get_history()\n",
    "\n",
    "total_epochs_trained = len(history[\"epoch_indices\"])\n",
    "\n",
    "val_dl = Iterable_Aggregator((datasets.source.original.val,datasets.target.original.val))\n",
    "\n",
    "confusion = ptn_confusion_by_domain_over_dataloader(model, p.device, val_dl)\n",
    "per_domain_accuracy = per_domain_accuracy_from_confusion(confusion)\n",
    "\n",
    "# Add a key to per_domain_accuracy for if it was a source domain\n",
    "for domain, accuracy in per_domain_accuracy.items():\n",
    "    per_domain_accuracy[domain] = {\n",
    "        \"accuracy\": accuracy,\n",
    "        \"source?\": domain in p.domains_source\n",
    "    }\n",
    "\n",
    "# Do an independent accuracy assesment JUST TO BE SURE!\n",
    "# _source_test_label_accuracy = independent_accuracy_assesment(model, datasets.source.processed.test, p.device)\n",
    "# _target_test_label_accuracy = independent_accuracy_assesment(model, datasets.target.processed.test, p.device)\n",
    "# _source_val_label_accuracy = independent_accuracy_assesment(model, datasets.source.processed.val, p.device)\n",
    "# _target_val_label_accuracy = independent_accuracy_assesment(model, datasets.target.processed.val, p.device)\n",
    "\n",
    "# assert(_source_test_label_accuracy == source_test_label_accuracy)\n",
    "# assert(_target_test_label_accuracy == target_test_label_accuracy)\n",
    "# assert(_source_val_label_accuracy == source_val_label_accuracy)\n",
    "# assert(_target_val_label_accuracy == target_val_label_accuracy)\n",
    "\n",
    "experiment = {\n",
    "    \"experiment_name\": p.experiment_name,\n",
    "    \"parameters\": dict(p),\n",
    "    \"results\": {\n",
    "        \"source_test_label_accuracy\": source_test_label_accuracy,\n",
    "        \"source_test_label_loss\": source_test_label_loss,\n",
    "        \"target_test_label_accuracy\": target_test_label_accuracy,\n",
    "        \"target_test_label_loss\": target_test_label_loss,\n",
    "        \"source_val_label_accuracy\": source_val_label_accuracy,\n",
    "        \"source_val_label_loss\": source_val_label_loss,\n",
    "        \"target_val_label_accuracy\": target_val_label_accuracy,\n",
    "        \"target_val_label_loss\": target_val_label_loss,\n",
    "        \"total_epochs_trained\": total_epochs_trained,\n",
    "        \"total_experiment_time_secs\": total_experiment_time_secs,\n",
    "        \"confusion\": confusion,\n",
    "        \"per_domain_accuracy\": per_domain_accuracy,\n",
    "    },\n",
    "    \"history\": history,\n",
    "    \"dataset_metrics\": get_dataset_metrics(datasets, \"ptn\"),\n",
    "}"
   ]
  },
  {
   "cell_type": "code",
   "execution_count": 16,
   "id": "54a21829",
   "metadata": {
    "execution": {
     "iopub.execute_input": "2022-03-05T00:22:56.409901Z",
     "iopub.status.busy": "2022-03-05T00:22:56.409642Z",
     "iopub.status.idle": "2022-03-05T00:22:56.601535Z",
     "shell.execute_reply": "2022-03-05T00:22:56.601968Z"
    },
    "papermill": {
     "duration": 0.232636,
     "end_time": "2022-03-05T00:22:56.602104",
     "exception": false,
     "start_time": "2022-03-05T00:22:56.369468",
     "status": "completed"
    },
    "tags": []
   },
   "outputs": [
    {
     "data": {
      "image/png": "[encoded data removed]",
      "text/plain": [
       "<Figure size 1080x504 with 1 Axes>"
      ]
     },
     "metadata": {
      "needs_background": "light"
     },
     "output_type": "display_data"
    }
   ],
   "source": [
    "ax = get_loss_curve(experiment)\n",
    "plt.show()"
   ]
  },
  {
   "cell_type": "code",
   "execution_count": 17,
   "id": "fd8a0f60",
   "metadata": {
    "execution": {
     "iopub.execute_input": "2022-03-05T00:22:56.690944Z",
     "iopub.status.busy": "2022-03-05T00:22:56.690666Z",
     "iopub.status.idle": "2022-03-05T00:22:56.945053Z",
     "shell.execute_reply": "2022-03-05T00:22:56.945471Z"
    },
    "papermill": {
     "duration": 0.297944,
     "end_time": "2022-03-05T00:22:56.945601",
     "exception": false,
     "start_time": "2022-03-05T00:22:56.647657",
     "status": "completed"
    },
    "tags": []
   },
   "outputs": [
    {
     "data": {
      "text/plain": [
       "<matplotlib.axes._subplots.AxesSubplot at 0x7ff4c831aac0>"
      ]
     },
     "execution_count": 17,
     "metadata": {},
     "output_type": "execute_result"
    },
    {
     "data": {
      "image/png": "[encoded data removed]",
      "text/plain": [
       "<Figure size 1080x504 with 1 Axes>"
      ]
     },
     "metadata": {
      "needs_background": "light"
     },
     "output_type": "display_data"
    }
   ],
   "source": [
    "get_results_table(experiment)"
   ]
  },
  {
   "cell_type": "code",
   "execution_count": 18,
   "id": "cf8dc689",
   "metadata": {
    "execution": {
     "iopub.execute_input": "2022-03-05T00:22:57.034268Z",
     "iopub.status.busy": "2022-03-05T00:22:57.034000Z",
     "iopub.status.idle": "2022-03-05T00:22:57.206591Z",
     "shell.execute_reply": "2022-03-05T00:22:57.207044Z"
    },
    "papermill": {
     "duration": 0.215397,
     "end_time": "2022-03-05T00:22:57.207174",
     "exception": false,
     "start_time": "2022-03-05T00:22:56.991777",
     "status": "completed"
    },
    "tags": []
   },
   "outputs": [
    {
     "data": {
      "text/plain": [
       "<matplotlib.axes._subplots.AxesSubplot at 0x7ff4c8326d90>"
      ]
     },
     "execution_count": 18,
     "metadata": {},
     "output_type": "execute_result"
    },
    {
     "data": {
      "image/png": "[encoded data removed]",
      "text/plain": [
       "<Figure size 1080x504 with 1 Axes>"
      ]
     },
     "metadata": {
      "needs_background": "light"
     },
     "output_type": "display_data"
    }
   ],
   "source": [
    "get_domain_accuracies(experiment)"
   ]
  },
  {
   "cell_type": "code",
   "execution_count": 19,
   "id": "a74ae082",
   "metadata": {
    "execution": {
     "iopub.execute_input": "2022-03-05T00:22:57.297306Z",
     "iopub.status.busy": "2022-03-05T00:22:57.297034Z",
     "iopub.status.idle": "2022-03-05T00:22:57.308152Z",
     "shell.execute_reply": "2022-03-05T00:22:57.308571Z"
    },
    "papermill": {
     "duration": 0.056349,
     "end_time": "2022-03-05T00:22:57.308698",
     "exception": false,
     "start_time": "2022-03-05T00:22:57.252349",
     "status": "completed"
    },
    "tags": []
   },
   "outputs": [
    {
     "name": "stdout",
     "output_type": "stream",
     "text": [
      "Source Test Label Accuracy: 0.7163569819819819 Target Test Label Accuracy: 0.5630067567567567\n",
      "Source Val Label Accuracy: 0.7128378378378378 Target Val Label Accuracy: 0.5690878378378378\n"
     ]
    }
   ],
   "source": [
    "print(\"Source Test Label Accuracy:\", experiment[\"results\"][\"source_test_label_accuracy\"], \"Target Test Label Accuracy:\", experiment[\"results\"][\"target_test_label_accuracy\"])\n",
    "print(\"Source Val Label Accuracy:\", experiment[\"results\"][\"source_val_label_accuracy\"], \"Target Val Label Accuracy:\", experiment[\"results\"][\"target_val_label_accuracy\"])"
   ]
  },
  {
   "cell_type": "code",
   "execution_count": 20,
   "id": "dacca602",
   "metadata": {
    "execution": {
     "iopub.execute_input": "2022-03-05T00:22:57.404881Z",
     "iopub.status.busy": "2022-03-05T00:22:57.404618Z",
     "iopub.status.idle": "2022-03-05T00:22:57.418666Z",
     "shell.execute_reply": "2022-03-05T00:22:57.419116Z"
    },
    "papermill": {
     "duration": 0.057785,
     "end_time": "2022-03-05T00:22:57.419245",
     "exception": false,
     "start_time": "2022-03-05T00:22:57.361460",
     "status": "completed"
    },
    "tags": [
     "experiment_json"
    ]
   },
   "outputs": [
    {
     "data": {
      "text/plain": [
       "'{\"experiment_name\": \"nShot_oracle.run2\", \"parameters\": {\"experiment_name\": \"nShot_oracle.run2\", \"device\": \"cuda\", \"lr\": 0.001, \"seed\": 1337, \"dataset_seed\": 1337, \"labels_source\": [\"3123D52\", \"3123D65\", \"3123D79\", \"3123D80\", \"3123D54\", \"3123D70\", \"3123D7B\", \"3123D89\", \"3123D58\", \"3123D76\", \"3123D7D\", \"3123EFE\", \"3123D64\", \"3123D78\", \"3123D7E\", \"3124E4A\"], \"labels_target\": [\"3123D52\", \"3123D65\", \"3123D79\", \"3123D80\", \"3123D54\", \"3123D70\", \"3123D7B\", \"3123D89\", \"3123D58\", \"3123D76\", \"3123D7D\", \"3123EFE\", \"3123D64\", \"3123D78\", \"3123D7E\", \"3124E4A\"], \"x_transforms_source\": [], \"x_transforms_target\": [], \"episode_transforms_source\": [], \"episode_transforms_target\": [], \"num_examples_per_domain_per_label_source\": 1000, \"num_examples_per_domain_per_label_target\": 1000, \"n_way\": 16, \"n_query\": 2, \"train_k_factor\": 1, \"val_k_factor\": 2, \"test_k_factor\": 2, \"torch_default_dtype\": \"torch.float32\", \"n_epoch\": 50, \"patience\": 3, \"criteria_for_best\": \"target_loss\", \"x_net\": [{\"class\": \"nnReshape\", \"kargs\": {\"shape\": [-1, 1, 2, 256]}}, {\"class\": \"Conv2d\", \"kargs\": {\"in_channels\": 1, \"out_channels\": 256, \"kernel_size\": [1, 7], \"bias\": false, \"padding\": [0, 3]}}, {\"class\": \"ReLU\", \"kargs\": {\"inplace\": true}}, {\"class\": \"BatchNorm2d\", \"kargs\": {\"num_features\": 256}}, {\"class\": \"Conv2d\", \"kargs\": {\"in_channels\": 256, \"out_channels\": 80, \"kernel_size\": [2, 7], \"bias\": true, \"padding\": [0, 3]}}, {\"class\": \"ReLU\", \"kargs\": {\"inplace\": true}}, {\"class\": \"BatchNorm2d\", \"kargs\": {\"num_features\": 80}}, {\"class\": \"Flatten\", \"kargs\": {}}, {\"class\": \"Linear\", \"kargs\": {\"in_features\": 20480, \"out_features\": 256}}, {\"class\": \"ReLU\", \"kargs\": {\"inplace\": true}}, {\"class\": \"BatchNorm1d\", \"kargs\": {\"num_features\": 256}}, {\"class\": \"Linear\", \"kargs\": {\"in_features\": 256, \"out_features\": 256}}], \"NUM_LOGS_PER_EPOCH\": 10, \"BEST_MODEL_PATH\": \"./best_model.pth\", \"pickle_name\": \"oracle.Run2_10kExamples_stratified_ds.2022A.pkl\", \"n_shot\": 2, \"domains_source\": [8, 32, 50], \"domains_target\": [14, 20, 26, 38, 44]}, \"results\": {\"source_test_label_accuracy\": 0.7163569819819819, \"source_test_label_loss\": 0.7645454406738281, \"target_test_label_accuracy\": 0.5630067567567567, \"target_test_label_loss\": 1.3242548704147339, \"source_val_label_accuracy\": 0.7128378378378378, \"source_val_label_loss\": 0.7589006423950195, \"target_val_label_accuracy\": 0.5690878378378378, \"target_val_label_loss\": 1.323157787322998, \"total_epochs_trained\": 14, \"total_experiment_time_secs\": 226.35367608070374, \"confusion\": {\"8\": {\"15\": {\"15\": 126, \"12\": 12, \"2\": 10}, \"3\": {\"3\": 148}, \"6\": {\"14\": 48, \"6\": 61, \"8\": 36, \"11\": 2, \"1\": 1}, \"1\": {\"4\": 41, \"1\": 63, \"7\": 11, \"5\": 12, \"14\": 6, \"10\": 7, \"13\": 6, \"6\": 2}, \"8\": {\"11\": 15, \"8\": 82, \"6\": 35, \"14\": 11, \"4\": 3, \"1\": 2}, \"10\": {\"5\": 39, \"10\": 74, \"13\": 26, \"1\": 4, \"7\": 4, \"4\": 1}, \"9\": {\"9\": 148}, \"13\": {\"13\": 95, \"10\": 39, \"5\": 8, \"7\": 3, \"11\": 2, \"4\": 1}, \"12\": {\"12\": 123, \"2\": 19, \"15\": 6}, \"5\": {\"10\": 46, \"5\": 70, \"13\": 12, \"1\": 12, \"7\": 5, \"4\": 3}, \"0\": {\"0\": 148}, \"2\": {\"2\": 131, \"12\": 10, \"15\": 7}, \"11\": {\"11\": 46, \"8\": 32, \"6\": 21, \"7\": 23, \"4\": 15, \"13\": 5, \"14\": 4, \"10\": 1, \"1\": 1}, \"14\": {\"14\": 87, \"6\": 48, \"1\": 3, \"8\": 7, \"11\": 1, \"4\": 2}, \"7\": {\"7\": 83, \"5\": 7, \"1\": 14, \"13\": 1, \"4\": 34, \"10\": 7, \"11\": 2}, \"4\": {\"4\": 62, \"1\": 29, \"7\": 32, \"14\": 6, \"5\": 4, \"8\": 7, \"6\": 3, \"11\": 5}}, \"32\": {\"2\": {\"2\": 62, \"7\": 23, \"14\": 40, \"0\": 17, \"8\": 6}, \"8\": {\"8\": 77, \"7\": 43, \"0\": 16, \"2\": 10, \"15\": 2}, \"9\": {\"9\": 145, \"11\": 1, \"12\": 2}, \"0\": {\"7\": 25, \"8\": 21, \"0\": 60, \"14\": 13, \"2\": 16, \"4\": 13}, \"15\": {\"15\": 125, \"5\": 22, \"8\": 1}, \"3\": {\"3\": 121, \"13\": 21, \"11\": 4, \"4\": 2}, \"4\": {\"11\": 29, \"4\": 108, \"0\": 5, \"3\": 4, \"13\": 2}, \"5\": {\"5\": 112, \"15\": 31, \"7\": 2, \"14\": 3}, \"12\": {\"12\": 146, \"10\": 2}, \"10\": {\"10\": 147, \"12\": 1}, \"1\": {\"1\": 148}, \"7\": {\"8\": 41, \"2\": 27, \"7\": 47, \"0\": 24, \"14\": 6, \"15\": 2, \"4\": 1}, \"13\": {\"13\": 94, \"11\": 25, \"3\": 26, \"4\": 3}, \"14\": {\"14\": 68, \"2\": 49, \"0\": 18, \"7\": 8, \"5\": 3, \"11\": 1, \"4\": 1}, \"6\": {\"6\": 148}, \"11\": {\"13\": 34, \"0\": 2, \"11\": 46, \"3\": 8, \"4\": 57, \"2\": 1}}, \"50\": {\"3\": {\"3\": 148}, \"15\": {\"15\": 80, \"9\": 44, \"4\": 5, \"6\": 12, \"5\": 3, \"12\": 4}, \"5\": {\"6\": 23, \"4\": 41, \"5\": 75, \"15\": 4, \"7\": 5}, \"11\": {\"11\": 120, \"12\": 26, \"1\": 2}, \"7\": {\"7\": 116, \"4\": 19, \"5\": 13}, \"14\": {\"2\": 6, \"14\": 142}, \"6\": {\"15\": 13, \"6\": 101, \"9\": 3, \"4\": 1, \"12\": 11, \"5\": 19}, \"13\": {\"13\": 139, \"1\": 8, \"8\": 1}, \"0\": {\"0\": 115, \"10\": 13, \"2\": 20}, \"1\": {\"1\": 118, \"13\": 21, \"11\": 9}, \"2\": {\"0\": 15, \"2\": 127, \"14\": 6}, \"12\": {\"12\": 118, \"15\": 6, \"6\": 10, \"11\": 12, \"9\": 2}, \"8\": {\"8\": 147, \"13\": 1}, \"10\": {\"10\": 131, \"1\": 5, \"0\": 9, \"13\": 3}, \"4\": {\"4\": 85, \"5\": 39, \"15\": 7, \"7\": 14, \"9\": 1, \"6\": 2}, \"9\": {\"9\": 101, \"15\": 42, \"6\": 2, \"12\": 3}}, \"14\": {\"15\": {\"15\": 148}, \"3\": {\"3\": 115, \"2\": 4, \"12\": 2, \"6\": 7, \"7\": 13, \"14\": 6, \"10\": 1}, \"6\": {\"13\": 46, \"6\": 89, \"3\": 11, \"7\": 2}, \"1\": {\"1\": 147, \"12\": 1}, \"8\": {\"8\": 95, \"0\": 13, \"10\": 40}, \"10\": {\"0\": 33, \"10\": 42, \"8\": 39, \"2\": 2, \"12\": 1, \"14\": 5, \"4\": 7, \"3\": 12, \"5\": 7}, \"9\": {\"9\": 140, \"12\": 4, \"0\": 4}, \"13\": {\"13\": 90, \"6\": 55, \"3\": 3}, \"12\": {\"11\": 6, \"12\": 31, \"0\": 4, \"9\": 21, \"13\": 2, \"15\": 28, \"8\": 23, \"10\": 5, \"3\": 22, \"1\": 2, \"14\": 1, \"6\": 2, \"4\": 1}, \"5\": {\"14\": 49, \"5\": 60, \"7\": 4, \"2\": 20, \"10\": 2, \"4\": 7, \"0\": 4, \"8\": 2}, \"0\": {\"0\": 83, \"5\": 2, \"8\": 10, \"4\": 34, \"10\": 13, \"9\": 4, \"12\": 2}, \"2\": {\"14\": 26, \"5\": 36, \"7\": 34, \"4\": 4, \"3\": 5, \"2\": 39, \"13\": 1, \"6\": 2, \"10\": 1}, \"11\": {\"11\": 148}, \"14\": {\"14\": 50, \"2\": 41, \"8\": 1, \"5\": 42, \"7\": 7, \"10\": 4, \"3\": 3}, \"7\": {\"2\": 21, \"3\": 15, \"7\": 98, \"14\": 11, \"6\": 1, \"5\": 2}, \"4\": {\"4\": 105, \"5\": 5, \"0\": 35, \"10\": 3}}, \"38\": {\"2\": {\"2\": 133, \"14\": 14, \"8\": 1}, \"8\": {\"14\": 8, \"8\": 106, \"9\": 6, \"5\": 13, \"12\": 5, \"0\": 2, \"7\": 1, \"2\": 7}, \"9\": {\"12\": 48, \"9\": 67, \"5\": 24, \"8\": 9}, \"0\": {\"0\": 121, \"7\": 26, \"9\": 1}, \"15\": {\"15\": 57, \"1\": 53, \"6\": 37, \"12\": 1}, \"3\": {\"10\": 38, \"4\": 22, \"13\": 29, \"3\": 51, \"11\": 8}, \"4\": {\"3\": 16, \"4\": 100, \"10\": 26, \"13\": 3, \"0\": 2, \"7\": 1}, \"5\": {\"9\": 20, \"8\": 41, \"12\": 39, \"5\": 36, \"14\": 4, \"2\": 6, \"0\": 2}, \"12\": {\"9\": 55, \"12\": 56, \"5\": 32, \"8\": 4, \"15\": 1}, \"10\": {\"4\": 26, \"3\": 32, \"10\": 71, \"13\": 19}, \"1\": {\"1\": 124, \"15\": 24}, \"7\": {\"7\": 113, \"0\": 30, \"4\": 1, \"14\": 3, \"5\": 1}, \"13\": {\"13\": 70, \"10\": 36, \"3\": 41, \"4\": 1}, \"14\": {\"14\": 62, \"7\": 22, \"8\": 14, \"2\": 36, \"4\": 5, \"12\": 5, \"5\": 2, \"10\": 1, \"13\": 1}, \"6\": {\"6\": 129, \"15\": 16, \"1\": 3}, \"11\": {\"11\": 148}}, \"26\": {\"3\": {\"7\": 42, \"13\": 4, \"9\": 3, \"3\": 96, \"4\": 1, \"2\": 2}, \"15\": {\"0\": 34, \"15\": 59, \"12\": 1, \"2\": 9, \"8\": 14, \"14\": 12, \"10\": 17, \"9\": 2}, \"5\": {\"6\": 52, \"14\": 13, \"5\": 53, \"1\": 23, \"0\": 3, \"10\": 3, \"15\": 1}, \"11\": {\"11\": 146, \"6\": 1, \"5\": 1}, \"7\": {\"13\": 21, \"7\": 56, \"3\": 38, \"9\": 14, \"2\": 13, \"8\": 6}, \"14\": {\"14\": 53, \"6\": 16, \"10\": 25, \"1\": 8, \"5\": 14, \"0\": 21, \"15\": 11}, \"6\": {\"6\": 77, \"5\": 44, \"1\": 14, \"10\": 3, \"14\": 9, \"11\": 1}, \"13\": {\"13\": 99, \"7\": 21, \"12\": 2, \"9\": 12, \"3\": 5, \"8\": 5, \"2\": 4}, \"0\": {\"10\": 30, \"14\": 22, \"0\": 56, \"15\": 29, \"5\": 1, \"8\": 3, \"2\": 5, \"9\": 1, \"6\": 1}, \"1\": {\"1\": 104, \"6\": 13, \"5\": 26, \"14\": 5}, \"2\": {\"8\": 33, \"9\": 36, \"2\": 46, \"7\": 15, \"0\": 2, \"3\": 8, \"15\": 5, \"12\": 1, \"13\": 1, \"10\": 1}, \"12\": {\"12\": 138, \"13\": 5, \"9\": 4, \"2\": 1}, \"8\": {\"2\": 31, \"8\": 47, \"13\": 3, \"15\": 10, \"9\": 43, \"7\": 2, \"0\": 5, \"10\": 4, \"12\": 2, \"14\": 1}, \"10\": {\"0\": 36, \"10\": 29, \"14\": 26, \"15\": 22, \"2\": 2, \"6\": 9, \"5\": 3, \"9\": 5, \"1\": 6, \"8\": 10}, \"4\": {\"4\": 146, \"3\": 2}, \"9\": {\"2\": 20, \"7\": 9, \"9\": 58, \"3\": 5, \"12\": 1, \"8\": 32, \"13\": 17, \"0\": 3, \"10\": 2, \"15\": 1}}, \"20\": {\"6\": {\"6\": 96, \"10\": 28, \"3\": 5, \"7\": 14, \"9\": 2, \"4\": 3}, \"8\": {\"14\": 36, \"0\": 8, \"11\": 44, \"8\": 60}, \"15\": {\"9\": 31, \"5\": 12, \"13\": 7, \"1\": 5, \"7\": 5, \"4\": 9, \"15\": 30, \"12\": 2, \"2\": 26, \"3\": 19, \"10\": 1, \"6\": 1}, \"3\": {\"15\": 20, \"9\": 20, \"7\": 17, \"1\": 3, \"3\": 19, \"5\": 13, \"2\": 27, \"10\": 4, \"4\": 21, \"13\": 2, \"6\": 2}, \"10\": {\"10\": 66, \"9\": 1, \"6\": 36, \"12\": 17, \"7\": 6, \"13\": 12, \"4\": 6, \"15\": 1, \"3\": 2, \"2\": 1}, \"5\": {\"5\": 31, \"1\": 30, \"9\": 18, \"2\": 27, \"3\": 13, \"0\": 1, \"4\": 11, \"14\": 4, \"6\": 2, \"15\": 7, \"7\": 4}, \"14\": {\"11\": 9, \"14\": 75, \"8\": 53, \"5\": 6, \"2\": 1, \"0\": 2, \"1\": 1, \"3\": 1}, \"9\": {\"9\": 25, \"2\": 29, \"13\": 3, \"4\": 16, \"1\": 6, \"5\": 13, \"15\": 24, \"3\": 23, \"7\": 8, \"12\": 1}, \"12\": {\"13\": 66, \"12\": 62, \"10\": 11, \"15\": 3, \"7\": 4, \"9\": 1, \"3\": 1}, \"4\": {\"7\": 35, \"4\": 34, \"3\": 24, \"9\": 17, \"13\": 3, \"6\": 9, \"15\": 11, \"5\": 4, \"2\": 8, \"12\": 2, \"10\": 1}, \"1\": {\"1\": 82, \"5\": 24, \"15\": 10, \"9\": 6, \"8\": 3, \"2\": 12, \"3\": 4, \"0\": 4, \"11\": 1, \"14\": 2}, \"7\": {\"7\": 42, \"9\": 9, \"3\": 25, \"4\": 19, \"6\": 23, \"15\": 8, \"10\": 13, \"2\": 4, \"13\": 2, \"5\": 1, \"12\": 1, \"1\": 1}, \"0\": {\"1\": 2, \"0\": 92, \"11\": 41, \"8\": 11, \"5\": 1, \"14\": 1}, \"11\": {\"11\": 60, \"8\": 40, \"14\": 12, \"0\": 35, \"5\": 1}, \"13\": {\"13\": 65, \"12\": 55, \"15\": 8, \"10\": 6, \"7\": 6, \"4\": 5, \"9\": 2, \"2\": 1}, \"2\": {\"3\": 15, \"7\": 8, \"2\": 31, \"9\": 27, \"5\": 31, \"1\": 11, \"15\": 16, \"6\": 4, \"4\": 5}}, \"44\": {\"5\": {\"15\": 34, \"5\": 88, \"8\": 11, \"14\": 13, \"4\": 2}, \"9\": {\"7\": 65, \"9\": 70, \"4\": 6, \"6\": 7}, \"7\": {\"6\": 7, \"7\": 88, \"9\": 47, \"10\": 6}, \"14\": {\"14\": 105, \"4\": 30, \"5\": 13}, \"6\": {\"6\": 130, \"13\": 9, \"10\": 5, \"9\": 3, \"7\": 1}, \"13\": {\"13\": 130, \"6\": 16, \"14\": 1, \"4\": 1}, \"15\": {\"15\": 85, \"5\": 44, \"0\": 9, \"8\": 9, \"14\": 1}, \"10\": {\"10\": 102, \"6\": 30, \"7\": 13, \"9\": 3}, \"2\": {\"1\": 46, \"2\": 102}, \"12\": {\"12\": 106, \"3\": 42}, \"8\": {\"8\": 112, \"15\": 7, \"5\": 8, \"0\": 21}, \"1\": {\"2\": 60, \"1\": 85, \"3\": 1, \"12\": 2}, \"0\": {\"0\": 113, \"8\": 27, \"15\": 5, \"5\": 3}, \"11\": {\"11\": 148}, \"4\": {\"4\": 103, \"9\": 3, \"14\": 42}, \"3\": {\"3\": 114, \"12\": 33, \"1\": 1}}}, \"per_domain_accuracy\": {\"8\": {\"accuracy\": 0.653293918918919, \"source?\": true}, \"32\": {\"accuracy\": 0.6984797297297297, \"source?\": true}, \"50\": {\"accuracy\": 0.7867398648648649, \"source?\": true}, \"14\": {\"accuracy\": 0.625, \"source?\": false}, \"38\": {\"accuracy\": 0.6097972972972973, \"source?\": false}, \"26\": {\"accuracy\": 0.5333614864864865, \"source?\": false}, \"20\": {\"accuracy\": 0.36739864864864863, \"source?\": false}, \"44\": {\"accuracy\": 0.7098817567567568, \"source?\": false}}}, \"history\": {\"epoch_indices\": [1, 2, 3, 4, 5, 6, 7, 8, 9, 10, 11, 12, 13, 14], \"train_label_loss\": [1.298661271617526, 1.314250510760716, 1.2606724773134503, 1.2512197451364426, 1.2174979515302748, 1.1995820338385446, 1.1726341105642772, 1.0589275269281297, 0.7500175875709171, 0.6527005717300234, 0.6023493069694156, 0.554905333689281, 0.49027450411092666, 0.4641507234743663], \"source_val_label_loss\": [1.7270487546920776, 1.3491989374160767, 1.3169986009597778, 1.2628774642944336, 1.2366186380386353, 1.2503952980041504, 1.2647831439971924, 0.8969119191169739, 0.7730448246002197, 0.7589006423950195, 0.6796923875808716, 0.6833385825157166, 0.7038518786430359, 0.713388979434967], \"target_val_label_loss\": [1.8774336576461792, 1.6589711904525757, 1.953884482383728, 1.6340339183807373, 1.7138301134109497, 1.6767100095748901, 2.02188777923584, 1.5475163459777832, 1.6450128555297852, 1.323157787322998, 1.420686960220337, 1.4680088758468628, 1.3286019563674927, 1.53618586063385], \"source_val_acc_label\": [0.45213963963963966, 0.4749436936936937, 0.4778997747747748, 0.4773367117117117, 0.4864864864864865, 0.4769144144144144, 0.48873873873873874, 0.6569538288288288, 0.7087556306306306, 0.7128378378378378, 0.7414132882882883, 0.7477477477477478, 0.7390202702702703, 0.7483108108108109], \"target_val_acc_label\": [0.3813344594594595, 0.3954391891891892, 0.38809121621621623, 0.40658783783783786, 0.4095439189189189, 0.41300675675675674, 0.41841216216216215, 0.5251689189189189, 0.5664695945945946, 0.5690878378378378, 0.5985641891891892, 0.5950168918918919, 0.5879222972972973, 0.5994932432432433]}, \"dataset_metrics\": {\"source\": {\"train\": {\"n_unique_x\": 33600, \"n_unique_y\": 16, \"n_batch/episode\": 525}, \"val\": {\"n_unique_x\": 7200, \"n_unique_y\": 16, \"n_batch/episode\": 222}, \"test\": {\"n_unique_x\": 7200, \"n_unique_y\": 16, \"n_batch/episode\": 222}}, \"target\": {\"train\": {\"n_unique_x\": 56000, \"n_unique_y\": 16, \"n_batch/episode\": 875}, \"val\": {\"n_unique_x\": 12000, \"n_unique_y\": 16, \"n_batch/episode\": 370}, \"test\": {\"n_unique_x\": 12000, \"n_unique_y\": 16, \"n_batch/episode\": 370}}}}'"
      ]
     },
     "execution_count": 20,
     "metadata": {},
     "output_type": "execute_result"
    }
   ],
   "source": [
    "json.dumps(experiment)"
   ]
  }
 ],
 "metadata": {
  "celltoolbar": "Tags",
  "kernelspec": {
   "display_name": "Python 3 (ipykernel)",
   "language": "python",
   "name": "python3"
  },
  "language_info": {
   "codemirror_mode": {
    "name": "ipython",
    "version": 3
   },
   "file_extension": ".py",
   "mimetype": "text/x-python",
   "name": "python",
   "nbconvert_exporter": "python",
   "pygments_lexer": "ipython3",
   "version": "3.8.10"
  },
  "papermill": {
   "default_parameters": {},
   "duration": 251.92914,
   "end_time": "2022-03-05T00:22:57.971589",
   "environment_variables": {},
   "exception": null,
   "input_path": "/mnt/wd500GB/CSC500/csc500-main/csc500-notebooks/templates/ptn_template.ipynb",
   "output_path": "trial.ipynb",
   "parameters": {
    "parameters": {
     "BEST_MODEL_PATH": "./best_model.pth",
     "NUM_LOGS_PER_EPOCH": 10,
     "criteria_for_best": "target_loss",
     "dataset_seed": 1337,
     "device": "cuda",
     "domains_source": [
      8,
      32,
      50
     ],
     "domains_target": [
      14,
      20,
      26,
      38,
      44
     ],
     "episode_transforms_source": [],
     "episode_transforms_target": [],
     "experiment_name": "nShot_oracle.run2",
     "labels_source": [
      "3123D52",
      "3123D65",
      "3123D79",
      "3123D80",
      "3123D54",
      "3123D70",
      "3123D7B",
      "3123D89",
      "3123D58",
      "3123D76",
      "3123D7D",
      "3123EFE",
      "3123D64",
      "3123D78",
      "3123D7E",
      "3124E4A"
     ],
     "labels_target": [
      "3123D52",
      "3123D65",
      "3123D79",
      "3123D80",
      "3123D54",
      "3123D70",
      "3123D7B",
      "3123D89",
      "3123D58",
      "3123D76",
      "3123D7D",
      "3123EFE",
      "3123D64",
      "3123D78",
      "3123D7E",
      "3124E4A"
     ],
     "lr": 0.001,
     "n_epoch": 50,
     "n_query": 2,
     "n_shot": 2,
     "n_way": 16,
     "num_examples_per_domain_per_label_source": 1000,
     "num_examples_per_domain_per_label_target": 1000,
     "patience": 3,
     "pickle_name": "oracle.Run2_10kExamples_stratified_ds.2022A.pkl",
     "seed": 1337,
     "test_k_factor": 2,
     "torch_default_dtype": "torch.float32",
     "train_k_factor": 1,
     "val_k_factor": 2,
     "x_net": [
      {
       "class": "nnReshape",
       "kargs": {
        "shape": [
         -1,
         1,
         2,
         256
        ]
       }
      },
      {
       "class": "Conv2d",
       "kargs": {
        "bias": false,
        "in_channels": 1,
        "kernel_size": [
         1,
         7
        ],
        "out_channels": 256,
        "padding": [
         0,
         3
        ]
       }
      },
      {
       "class": "ReLU",
       "kargs": {
        "inplace": true
       }
      },
      {
       "class": "BatchNorm2d",
       "kargs": {
        "num_features": 256
       }
      },
      {
       "class": "Conv2d",
       "kargs": {
        "bias": true,
        "in_channels": 256,
        "kernel_size": [
         2,
         7
        ],
        "out_channels": 80,
        "padding": [
         0,
         3
        ]
       }
      },
      {
       "class": "ReLU",
       "kargs": {
        "inplace": true
       }
      },
      {
       "class": "BatchNorm2d",
       "kargs": {
        "num_features": 80
       }
      },
      {
       "class": "Flatten",
       "kargs": {}
      },
      {
       "class": "Linear",
       "kargs": {
        "in_features": 20480,
        "out_features": 256
       }
      },
      {
       "class": "ReLU",
       "kargs": {
        "inplace": true
       }
      },
      {
       "class": "BatchNorm1d",
       "kargs": {
        "num_features": 256
       }
      },
      {
       "class": "Linear",
       "kargs": {
        "in_features": 256,
        "out_features": 256
       }
      }
     ],
     "x_transforms_source": [],
     "x_transforms_target": []
    }
   },
   "start_time": "2022-03-05T00:18:46.042449",
   "version": "2.3.4"
  }
 },
 "nbformat": 4,
 "nbformat_minor": 5
}