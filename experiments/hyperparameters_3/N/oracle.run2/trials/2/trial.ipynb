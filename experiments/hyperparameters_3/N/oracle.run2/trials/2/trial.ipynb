{
 "cells": [
  {
   "cell_type": "markdown",
   "id": "9fea5f46",
   "metadata": {
    "papermill": {
     "duration": 0.013934,
     "end_time": "2022-03-04T22:30:19.092067",
     "exception": false,
     "start_time": "2022-03-04T22:30:19.078133",
     "status": "completed"
    },
    "tags": []
   },
   "source": [
    "# PTN Template\n",
    "This notebook serves as a template for single dataset PTN experiments  \n",
    "It can be run on its own by setting STANDALONE to True (do a find for \"STANDALONE\" to see where)  \n",
    "But it is intended to be executed as part of a *papermill.py script. See any of the   \n",
    "experimentes with a papermill script to get started with that workflow.  "
   ]
  },
  {
   "cell_type": "code",
   "execution_count": 1,
   "id": "0902182a",
   "metadata": {
    "execution": {
     "iopub.execute_input": "2022-03-04T22:30:19.122846Z",
     "iopub.status.busy": "2022-03-04T22:30:19.112036Z",
     "iopub.status.idle": "2022-03-04T22:30:19.853710Z",
     "shell.execute_reply": "2022-03-04T22:30:19.853184Z"
    },
    "papermill": {
     "duration": 0.752569,
     "end_time": "2022-03-04T22:30:19.853825",
     "exception": false,
     "start_time": "2022-03-04T22:30:19.101256",
     "status": "completed"
    },
    "tags": []
   },
   "outputs": [],
   "source": [
    "%load_ext autoreload\n",
    "%autoreload 2\n",
    "%matplotlib inline\n",
    "\n",
    "    \n",
    "import os, json, sys, time, random\n",
    "import numpy as np\n",
    "import torch\n",
    "from torch.optim import Adam\n",
    "from  easydict import EasyDict\n",
    "import matplotlib.pyplot as plt\n",
    "\n",
    "from steves_models.steves_ptn import Steves_Prototypical_Network\n",
    "\n",
    "from steves_utils.lazy_iterable_wrapper import Lazy_Iterable_Wrapper\n",
    "from steves_utils.iterable_aggregator import Iterable_Aggregator\n",
    "from steves_utils.ptn_train_eval_test_jig import  PTN_Train_Eval_Test_Jig\n",
    "from steves_utils.torch_sequential_builder import build_sequential\n",
    "from steves_utils.torch_utils import get_dataset_metrics, ptn_confusion_by_domain_over_dataloader\n",
    "from steves_utils.utils_v2 import (per_domain_accuracy_from_confusion, get_datasets_base_path)\n",
    "from steves_utils.PTN.utils import independent_accuracy_assesment\n",
    "\n",
    "from steves_utils.stratified_dataset.episodic_accessor import Episodic_Accessor_Factory\n",
    "\n",
    "from steves_utils.ptn_do_report import (\n",
    "    get_loss_curve,\n",
    "    get_results_table,\n",
    "    get_parameters_table,\n",
    "    get_domain_accuracies,\n",
    ")\n",
    "\n",
    "from steves_utils.transforms import get_chained_transform"
   ]
  },
  {
   "cell_type": "markdown",
   "id": "41c840b4",
   "metadata": {
    "papermill": {
     "duration": 0.009735,
     "end_time": "2022-03-04T22:30:19.877526",
     "exception": false,
     "start_time": "2022-03-04T22:30:19.867791",
     "status": "completed"
    },
    "tags": []
   },
   "source": [
    "# Required Parameters\n",
    "These are allowed parameters, not defaults\n",
    "Each of these values need to be present in the injected parameters (the notebook will raise an exception if they are not present)\n",
    "\n",
    "Papermill uses the cell tag \"parameters\" to inject the real parameters below this cell.\n",
    "Enable tags to see what I mean"
   ]
  },
  {
   "cell_type": "code",
   "execution_count": 2,
   "id": "fd44eb83",
   "metadata": {
    "execution": {
     "iopub.execute_input": "2022-03-04T22:30:19.900614Z",
     "iopub.status.busy": "2022-03-04T22:30:19.899839Z",
     "iopub.status.idle": "2022-03-04T22:30:19.915736Z",
     "shell.execute_reply": "2022-03-04T22:30:19.916134Z"
    },
    "papermill": {
     "duration": 0.029102,
     "end_time": "2022-03-04T22:30:19.916253",
     "exception": false,
     "start_time": "2022-03-04T22:30:19.887151",
     "status": "completed"
    },
    "tags": []
   },
   "outputs": [],
   "source": [
    "required_parameters = {\n",
    "    \"experiment_name\",\n",
    "    \"lr\",\n",
    "    \"device\",\n",
    "    \"seed\",\n",
    "    \"dataset_seed\",\n",
    "    \"labels_source\",\n",
    "    \"labels_target\",\n",
    "    \"domains_source\",\n",
    "    \"domains_target\",\n",
    "    \"num_examples_per_domain_per_label_source\",\n",
    "    \"num_examples_per_domain_per_label_target\",\n",
    "    \"n_shot\",\n",
    "    \"n_way\",\n",
    "    \"n_query\",\n",
    "    \"train_k_factor\",\n",
    "    \"val_k_factor\",\n",
    "    \"test_k_factor\",\n",
    "    \"n_epoch\",\n",
    "    \"patience\",\n",
    "    \"criteria_for_best\",\n",
    "    \"x_transforms_source\",\n",
    "    \"x_transforms_target\",\n",
    "    \"episode_transforms_source\",\n",
    "    \"episode_transforms_target\",\n",
    "    \"pickle_name\",\n",
    "    \"x_net\",\n",
    "    \"NUM_LOGS_PER_EPOCH\",\n",
    "    \"BEST_MODEL_PATH\",\n",
    "    \"torch_default_dtype\"\n",
    "}"
   ]
  },
  {
   "cell_type": "code",
   "execution_count": 3,
   "id": "fa3f0049",
   "metadata": {
    "execution": {
     "iopub.execute_input": "2022-03-04T22:30:19.947938Z",
     "iopub.status.busy": "2022-03-04T22:30:19.947660Z",
     "iopub.status.idle": "2022-03-04T22:30:19.958338Z",
     "shell.execute_reply": "2022-03-04T22:30:19.958733Z"
    },
    "papermill": {
     "duration": 0.028553,
     "end_time": "2022-03-04T22:30:19.958838",
     "exception": false,
     "start_time": "2022-03-04T22:30:19.930285",
     "status": "completed"
    },
    "tags": [
     "parameters"
    ]
   },
   "outputs": [],
   "source": [
    "\n",
    "\n",
    "standalone_parameters = {}\n",
    "standalone_parameters[\"experiment_name\"] = \"STANDALONE PTN\"\n",
    "standalone_parameters[\"lr\"] = 0.0001\n",
    "standalone_parameters[\"device\"] = \"cuda\"\n",
    "\n",
    "standalone_parameters[\"seed\"] = 1337\n",
    "standalone_parameters[\"dataset_seed\"] = 1337\n",
    "\n",
    "\n",
    "standalone_parameters[\"num_examples_per_domain_per_label_source\"]=100\n",
    "standalone_parameters[\"num_examples_per_domain_per_label_target\"]=100\n",
    "\n",
    "standalone_parameters[\"n_shot\"] = 3\n",
    "standalone_parameters[\"n_query\"]  = 2\n",
    "standalone_parameters[\"train_k_factor\"] = 1\n",
    "standalone_parameters[\"val_k_factor\"] = 2\n",
    "standalone_parameters[\"test_k_factor\"] = 2\n",
    "\n",
    "\n",
    "standalone_parameters[\"n_epoch\"] = 100\n",
    "\n",
    "standalone_parameters[\"patience\"] = 10\n",
    "standalone_parameters[\"criteria_for_best\"] = \"target_accuracy\"\n",
    "\n",
    "standalone_parameters[\"x_transforms_source\"] = [\"unit_power\"]\n",
    "standalone_parameters[\"x_transforms_target\"] = [\"unit_power\"]\n",
    "standalone_parameters[\"episode_transforms_source\"] = []\n",
    "standalone_parameters[\"episode_transforms_target\"] = []\n",
    "\n",
    "standalone_parameters[\"torch_default_dtype\"] = \"torch.float32\" \n",
    "\n",
    "\n",
    "\n",
    "standalone_parameters[\"x_net\"] =     [\n",
    "    {\"class\": \"nnReshape\", \"kargs\": {\"shape\":[-1, 1, 2, 256]}},\n",
    "    {\"class\": \"Conv2d\", \"kargs\": { \"in_channels\":1, \"out_channels\":256, \"kernel_size\":(1,7), \"bias\":False, \"padding\":(0,3), },},\n",
    "    {\"class\": \"ReLU\", \"kargs\": {\"inplace\": True}},\n",
    "    {\"class\": \"BatchNorm2d\", \"kargs\": {\"num_features\":256}},\n",
    "\n",
    "    {\"class\": \"Conv2d\", \"kargs\": { \"in_channels\":256, \"out_channels\":80, \"kernel_size\":(2,7), \"bias\":True, \"padding\":(0,3), },},\n",
    "    {\"class\": \"ReLU\", \"kargs\": {\"inplace\": True}},\n",
    "    {\"class\": \"BatchNorm2d\", \"kargs\": {\"num_features\":80}},\n",
    "    {\"class\": \"Flatten\", \"kargs\": {}},\n",
    "\n",
    "    {\"class\": \"Linear\", \"kargs\": {\"in_features\": 80*256, \"out_features\": 256}}, # 80 units per IQ pair\n",
    "    {\"class\": \"ReLU\", \"kargs\": {\"inplace\": True}},\n",
    "    {\"class\": \"BatchNorm1d\", \"kargs\": {\"num_features\":256}},\n",
    "\n",
    "    {\"class\": \"Linear\", \"kargs\": {\"in_features\": 256, \"out_features\": 256}},\n",
    "]\n",
    "\n",
    "# Parameters relevant to results\n",
    "# These parameters will basically never need to change\n",
    "standalone_parameters[\"NUM_LOGS_PER_EPOCH\"] = 10\n",
    "standalone_parameters[\"BEST_MODEL_PATH\"] = \"./best_model.pth\"\n",
    "\n",
    "# uncomment for CORES dataset\n",
    "from steves_utils.CORES.utils import (\n",
    "    ALL_NODES,\n",
    "    ALL_NODES_MINIMUM_1000_EXAMPLES,\n",
    "    ALL_DAYS\n",
    ")\n",
    "\n",
    "\n",
    "standalone_parameters[\"labels_source\"] = ALL_NODES\n",
    "standalone_parameters[\"labels_target\"] = ALL_NODES\n",
    "\n",
    "standalone_parameters[\"domains_source\"] = [1]\n",
    "standalone_parameters[\"domains_target\"] = [2,3,4,5]\n",
    "\n",
    "standalone_parameters[\"pickle_name\"] = \"cores.stratified_ds.2022A.pkl\"\n",
    "\n",
    "\n",
    "# Uncomment these for ORACLE dataset\n",
    "# from steves_utils.ORACLE.utils_v2 import (\n",
    "#     ALL_DISTANCES_FEET,\n",
    "#     ALL_RUNS,\n",
    "#     ALL_SERIAL_NUMBERS,\n",
    "# )\n",
    "# standalone_parameters[\"labels_source\"] = ALL_SERIAL_NUMBERS\n",
    "# standalone_parameters[\"labels_target\"] = ALL_SERIAL_NUMBERS\n",
    "# standalone_parameters[\"domains_source\"] = [8,20, 38,50]\n",
    "# standalone_parameters[\"domains_target\"] = [14, 26, 32, 44, 56]\n",
    "# standalone_parameters[\"pickle_name\"] = \"oracle.frame_indexed.stratified_ds.2022A.pkl\"\n",
    "# standalone_parameters[\"num_examples_per_domain_per_label_source\"]=1000\n",
    "# standalone_parameters[\"num_examples_per_domain_per_label_target\"]=1000\n",
    "\n",
    "# Uncomment these for Metahan dataset\n",
    "# standalone_parameters[\"labels_source\"] = list(range(19))\n",
    "# standalone_parameters[\"labels_target\"] = list(range(19))\n",
    "# standalone_parameters[\"domains_source\"] = [0]\n",
    "# standalone_parameters[\"domains_target\"] = [1]\n",
    "# standalone_parameters[\"pickle_name\"] = \"metehan.stratified_ds.2022A.pkl\"\n",
    "# standalone_parameters[\"n_way\"]  = len(standalone_parameters[\"labels_source\"])\n",
    "# standalone_parameters[\"num_examples_per_domain_per_label_source\"]=200\n",
    "# standalone_parameters[\"num_examples_per_domain_per_label_target\"]=100\n",
    "\n",
    "\n",
    "standalone_parameters[\"n_way\"]  = len(standalone_parameters[\"labels_source\"])"
   ]
  },
  {
   "cell_type": "code",
   "execution_count": 4,
   "id": "6ec27780",
   "metadata": {
    "execution": {
     "iopub.execute_input": "2022-03-04T22:30:19.991049Z",
     "iopub.status.busy": "2022-03-04T22:30:19.990772Z",
     "iopub.status.idle": "2022-03-04T22:30:20.000901Z",
     "shell.execute_reply": "2022-03-04T22:30:20.000512Z"
    },
    "papermill": {
     "duration": 0.027032,
     "end_time": "2022-03-04T22:30:20.000993",
     "exception": false,
     "start_time": "2022-03-04T22:30:19.973961",
     "status": "completed"
    },
    "tags": [
     "injected-parameters"
    ]
   },
   "outputs": [],
   "source": [
    "# Parameters\n",
    "parameters = {\n",
    "    \"experiment_name\": \"nQuery_oracle.run2\",\n",
    "    \"device\": \"cuda\",\n",
    "    \"lr\": 0.001,\n",
    "    \"seed\": 1337,\n",
    "    \"dataset_seed\": 1337,\n",
    "    \"labels_source\": [\n",
    "        \"3123D52\",\n",
    "        \"3123D65\",\n",
    "        \"3123D79\",\n",
    "        \"3123D80\",\n",
    "        \"3123D54\",\n",
    "        \"3123D70\",\n",
    "        \"3123D7B\",\n",
    "        \"3123D89\",\n",
    "        \"3123D58\",\n",
    "        \"3123D76\",\n",
    "        \"3123D7D\",\n",
    "        \"3123EFE\",\n",
    "        \"3123D64\",\n",
    "        \"3123D78\",\n",
    "        \"3123D7E\",\n",
    "        \"3124E4A\",\n",
    "    ],\n",
    "    \"labels_target\": [\n",
    "        \"3123D52\",\n",
    "        \"3123D65\",\n",
    "        \"3123D79\",\n",
    "        \"3123D80\",\n",
    "        \"3123D54\",\n",
    "        \"3123D70\",\n",
    "        \"3123D7B\",\n",
    "        \"3123D89\",\n",
    "        \"3123D58\",\n",
    "        \"3123D76\",\n",
    "        \"3123D7D\",\n",
    "        \"3123EFE\",\n",
    "        \"3123D64\",\n",
    "        \"3123D78\",\n",
    "        \"3123D7E\",\n",
    "        \"3124E4A\",\n",
    "    ],\n",
    "    \"x_transforms_source\": [],\n",
    "    \"x_transforms_target\": [],\n",
    "    \"episode_transforms_source\": [],\n",
    "    \"episode_transforms_target\": [],\n",
    "    \"num_examples_per_domain_per_label_target\": 1000,\n",
    "    \"n_shot\": 3,\n",
    "    \"n_way\": 16,\n",
    "    \"n_query\": 2,\n",
    "    \"train_k_factor\": 1,\n",
    "    \"val_k_factor\": 2,\n",
    "    \"test_k_factor\": 2,\n",
    "    \"torch_default_dtype\": \"torch.float32\",\n",
    "    \"n_epoch\": 50,\n",
    "    \"patience\": 3,\n",
    "    \"criteria_for_best\": \"target_loss\",\n",
    "    \"x_net\": [\n",
    "        {\"class\": \"nnReshape\", \"kargs\": {\"shape\": [-1, 1, 2, 256]}},\n",
    "        {\n",
    "            \"class\": \"Conv2d\",\n",
    "            \"kargs\": {\n",
    "                \"in_channels\": 1,\n",
    "                \"out_channels\": 256,\n",
    "                \"kernel_size\": [1, 7],\n",
    "                \"bias\": False,\n",
    "                \"padding\": [0, 3],\n",
    "            },\n",
    "        },\n",
    "        {\"class\": \"ReLU\", \"kargs\": {\"inplace\": True}},\n",
    "        {\"class\": \"BatchNorm2d\", \"kargs\": {\"num_features\": 256}},\n",
    "        {\n",
    "            \"class\": \"Conv2d\",\n",
    "            \"kargs\": {\n",
    "                \"in_channels\": 256,\n",
    "                \"out_channels\": 80,\n",
    "                \"kernel_size\": [2, 7],\n",
    "                \"bias\": True,\n",
    "                \"padding\": [0, 3],\n",
    "            },\n",
    "        },\n",
    "        {\"class\": \"ReLU\", \"kargs\": {\"inplace\": True}},\n",
    "        {\"class\": \"BatchNorm2d\", \"kargs\": {\"num_features\": 80}},\n",
    "        {\"class\": \"Flatten\", \"kargs\": {}},\n",
    "        {\"class\": \"Linear\", \"kargs\": {\"in_features\": 20480, \"out_features\": 256}},\n",
    "        {\"class\": \"ReLU\", \"kargs\": {\"inplace\": True}},\n",
    "        {\"class\": \"BatchNorm1d\", \"kargs\": {\"num_features\": 256}},\n",
    "        {\"class\": \"Linear\", \"kargs\": {\"in_features\": 256, \"out_features\": 256}},\n",
    "    ],\n",
    "    \"NUM_LOGS_PER_EPOCH\": 10,\n",
    "    \"BEST_MODEL_PATH\": \"./best_model.pth\",\n",
    "    \"pickle_name\": \"oracle.Run2_10kExamples_stratified_ds.2022A.pkl\",\n",
    "    \"num_examples_per_domain_per_label_source\": 5000,\n",
    "    \"domains_source\": [8, 32, 50],\n",
    "    \"domains_target\": [14, 20, 26, 38, 44],\n",
    "}\n"
   ]
  },
  {
   "cell_type": "code",
   "execution_count": 5,
   "id": "8fa1cc33",
   "metadata": {
    "execution": {
     "iopub.execute_input": "2022-03-04T22:30:20.027033Z",
     "iopub.status.busy": "2022-03-04T22:30:20.026783Z",
     "iopub.status.idle": "2022-03-04T22:30:20.039844Z",
     "shell.execute_reply": "2022-03-04T22:30:20.039496Z"
    },
    "papermill": {
     "duration": 0.024893,
     "end_time": "2022-03-04T22:30:20.039914",
     "exception": false,
     "start_time": "2022-03-04T22:30:20.015021",
     "status": "completed"
    },
    "tags": []
   },
   "outputs": [],
   "source": [
    "# Set this to True if you want to run this template directly\n",
    "STANDALONE = False\n",
    "if STANDALONE:\n",
    "    print(\"parameters not injected, running with standalone_parameters\")\n",
    "    parameters = standalone_parameters\n",
    "\n",
    "if not 'parameters' in locals() and not 'parameters' in globals():\n",
    "    raise Exception(\"Parameter injection failed\")\n",
    "\n",
    "#Use an easy dict for all the parameters\n",
    "p = EasyDict(parameters)\n",
    "\n",
    "supplied_keys = set(p.keys())\n",
    "\n",
    "if  supplied_keys != required_parameters:\n",
    "    print(\"Parameters are incorrect\")\n",
    "    if len(supplied_keys - required_parameters)>0: print(\"Shouldn't have:\", str(supplied_keys - required_parameters))\n",
    "    if len(required_parameters - supplied_keys)>0: print(\"Need to have:\", str(required_parameters - supplied_keys))\n",
    "    raise RuntimeError(\"Parameters are incorrect\")\n",
    "\n"
   ]
  },
  {
   "cell_type": "code",
   "execution_count": 6,
   "id": "3a028d58",
   "metadata": {
    "execution": {
     "iopub.execute_input": "2022-03-04T22:30:20.065816Z",
     "iopub.status.busy": "2022-03-04T22:30:20.065467Z",
     "iopub.status.idle": "2022-03-04T22:30:20.078912Z",
     "shell.execute_reply": "2022-03-04T22:30:20.079282Z"
    },
    "papermill": {
     "duration": 0.026276,
     "end_time": "2022-03-04T22:30:20.079386",
     "exception": false,
     "start_time": "2022-03-04T22:30:20.053110",
     "status": "completed"
    },
    "tags": []
   },
   "outputs": [],
   "source": [
    "###################################\n",
    "# Set the RNGs and make it all deterministic\n",
    "###################################\n",
    "np.random.seed(p.seed)\n",
    "random.seed(p.seed)\n",
    "torch.manual_seed(p.seed)\n",
    "\n",
    "torch.use_deterministic_algorithms(True) "
   ]
  },
  {
   "cell_type": "code",
   "execution_count": 7,
   "id": "b691acf6",
   "metadata": {
    "execution": {
     "iopub.execute_input": "2022-03-04T22:30:20.104342Z",
     "iopub.status.busy": "2022-03-04T22:30:20.104096Z",
     "iopub.status.idle": "2022-03-04T22:30:20.114612Z",
     "shell.execute_reply": "2022-03-04T22:30:20.114954Z"
    },
    "papermill": {
     "duration": 0.022481,
     "end_time": "2022-03-04T22:30:20.115039",
     "exception": false,
     "start_time": "2022-03-04T22:30:20.092558",
     "status": "completed"
    },
    "tags": []
   },
   "outputs": [],
   "source": [
    "###########################################\n",
    "# The stratified datasets honor this\n",
    "###########################################\n",
    "torch.set_default_dtype(eval(p.torch_default_dtype))"
   ]
  },
  {
   "cell_type": "code",
   "execution_count": 8,
   "id": "b5fba671",
   "metadata": {
    "execution": {
     "iopub.execute_input": "2022-03-04T22:30:20.141359Z",
     "iopub.status.busy": "2022-03-04T22:30:20.140529Z",
     "iopub.status.idle": "2022-03-04T22:30:20.177449Z",
     "shell.execute_reply": "2022-03-04T22:30:20.177819Z"
    },
    "papermill": {
     "duration": 0.049386,
     "end_time": "2022-03-04T22:30:20.177922",
     "exception": false,
     "start_time": "2022-03-04T22:30:20.128536",
     "status": "completed"
    },
    "tags": []
   },
   "outputs": [],
   "source": [
    "###################################\n",
    "# Build the network(s)\n",
    "# Note: It's critical to do this AFTER setting the RNG\n",
    "# (This is due to the randomized initial weights)\n",
    "###################################\n",
    "x_net = build_sequential(p.x_net)"
   ]
  },
  {
   "cell_type": "code",
   "execution_count": 9,
   "id": "5d7e61cc",
   "metadata": {
    "execution": {
     "iopub.execute_input": "2022-03-04T22:30:20.204116Z",
     "iopub.status.busy": "2022-03-04T22:30:20.203869Z",
     "iopub.status.idle": "2022-03-04T22:30:20.217686Z",
     "shell.execute_reply": "2022-03-04T22:30:20.218054Z"
    },
    "papermill": {
     "duration": 0.026086,
     "end_time": "2022-03-04T22:30:20.218156",
     "exception": false,
     "start_time": "2022-03-04T22:30:20.192070",
     "status": "completed"
    },
    "tags": []
   },
   "outputs": [],
   "source": [
    "start_time_secs = time.time()"
   ]
  },
  {
   "cell_type": "code",
   "execution_count": 10,
   "id": "fd5442bc",
   "metadata": {
    "execution": {
     "iopub.execute_input": "2022-03-04T22:30:20.250323Z",
     "iopub.status.busy": "2022-03-04T22:30:20.249950Z",
     "iopub.status.idle": "2022-03-04T22:30:24.065995Z",
     "shell.execute_reply": "2022-03-04T22:30:24.065561Z"
    },
    "papermill": {
     "duration": 3.833876,
     "end_time": "2022-03-04T22:30:24.066101",
     "exception": false,
     "start_time": "2022-03-04T22:30:20.232225",
     "status": "completed"
    },
    "tags": []
   },
   "outputs": [],
   "source": [
    "###################################\n",
    "# Build the dataset\n",
    "###################################\n",
    "\n",
    "if p.x_transforms_source == []: x_transform_source = None\n",
    "else: x_transform_source = get_chained_transform(p.x_transforms_source) \n",
    "\n",
    "if p.x_transforms_target == []: x_transform_target = None\n",
    "else: x_transform_target = get_chained_transform(p.x_transforms_target)\n",
    "\n",
    "if p.episode_transforms_source == []: episode_transform_source = None\n",
    "else: raise Exception(\"episode_transform_source not implemented\")\n",
    "\n",
    "if p.episode_transforms_target == []: episode_transform_target = None\n",
    "else: raise Exception(\"episode_transform_target not implemented\")\n",
    "\n",
    "\n",
    "eaf_source = Episodic_Accessor_Factory(\n",
    "    labels=p.labels_source,\n",
    "    domains=p.domains_source,\n",
    "    num_examples_per_domain_per_label=p.num_examples_per_domain_per_label_source,\n",
    "    iterator_seed=p.seed,\n",
    "    dataset_seed=p.dataset_seed,\n",
    "    n_shot=p.n_shot,\n",
    "    n_way=p.n_way,\n",
    "    n_query=p.n_query,\n",
    "    train_val_test_k_factors=(p.train_k_factor,p.val_k_factor,p.test_k_factor),\n",
    "    pickle_path=os.path.join(get_datasets_base_path(), p.pickle_name),\n",
    "    x_transform_func=x_transform_source,\n",
    "    example_transform_func=episode_transform_source,\n",
    "    \n",
    ")\n",
    "train_original_source, val_original_source, test_original_source = eaf_source.get_train(), eaf_source.get_val(), eaf_source.get_test()\n",
    "\n",
    "\n",
    "eaf_target = Episodic_Accessor_Factory(\n",
    "    labels=p.labels_target,\n",
    "    domains=p.domains_target,\n",
    "    num_examples_per_domain_per_label=p.num_examples_per_domain_per_label_target,\n",
    "    iterator_seed=p.seed,\n",
    "    dataset_seed=p.dataset_seed,\n",
    "    n_shot=p.n_shot,\n",
    "    n_way=p.n_way,\n",
    "    n_query=p.n_query,\n",
    "    train_val_test_k_factors=(p.train_k_factor,p.val_k_factor,p.test_k_factor),\n",
    "    pickle_path=os.path.join(get_datasets_base_path(), p.pickle_name),\n",
    "    x_transform_func=x_transform_target,\n",
    "    example_transform_func=episode_transform_target,\n",
    ")\n",
    "train_original_target, val_original_target, test_original_target = eaf_target.get_train(), eaf_target.get_val(), eaf_target.get_test()\n",
    "\n",
    "\n",
    "transform_lambda = lambda ex: ex[1] # Original is (<domain>, <episode>) so we strip down to episode only\n",
    "\n",
    "train_processed_source = Lazy_Iterable_Wrapper(train_original_source, transform_lambda)\n",
    "val_processed_source   = Lazy_Iterable_Wrapper(val_original_source, transform_lambda)\n",
    "test_processed_source  = Lazy_Iterable_Wrapper(test_original_source, transform_lambda)\n",
    "\n",
    "train_processed_target = Lazy_Iterable_Wrapper(train_original_target, transform_lambda)\n",
    "val_processed_target   = Lazy_Iterable_Wrapper(val_original_target, transform_lambda)\n",
    "test_processed_target  = Lazy_Iterable_Wrapper(test_original_target, transform_lambda)\n",
    "\n",
    "datasets = EasyDict({\n",
    "    \"source\": {\n",
    "        \"original\": {\"train\":train_original_source, \"val\":val_original_source, \"test\":test_original_source},\n",
    "        \"processed\": {\"train\":train_processed_source, \"val\":val_processed_source, \"test\":test_processed_source}\n",
    "    },\n",
    "    \"target\": {\n",
    "        \"original\": {\"train\":train_original_target, \"val\":val_original_target, \"test\":test_original_target},\n",
    "        \"processed\": {\"train\":train_processed_target, \"val\":val_processed_target, \"test\":test_processed_target}\n",
    "    },\n",
    "})"
   ]
  },
  {
   "cell_type": "code",
   "execution_count": 11,
   "id": "296189d9",
   "metadata": {
    "execution": {
     "iopub.execute_input": "2022-03-04T22:30:24.092946Z",
     "iopub.status.busy": "2022-03-04T22:30:24.092687Z",
     "iopub.status.idle": "2022-03-04T22:30:25.748171Z",
     "shell.execute_reply": "2022-03-04T22:30:25.748474Z"
    },
    "papermill": {
     "duration": 1.668523,
     "end_time": "2022-03-04T22:30:25.748565",
     "exception": false,
     "start_time": "2022-03-04T22:30:24.080042",
     "status": "completed"
    },
    "tags": []
   },
   "outputs": [
    {
     "name": "stdout",
     "output_type": "stream",
     "text": [
      "Visually inspect these to see if they line up with expected values given the transforms\n",
      "x_transforms_source []\n",
      "x_transforms_target []\n",
      "Average magnitude, source: 0.0045731575\n",
      "Average power, source: 2.8249277e-05\n"
     ]
    },
    {
     "name": "stdout",
     "output_type": "stream",
     "text": [
      "Average magnitude, target: 0.0029128897\n",
      "Average power, target: 1.0910343e-05\n"
     ]
    }
   ],
   "source": [
    "# Some quick unit tests on the data\n",
    "from steves_utils.transforms import get_average_power, get_average_magnitude\n",
    "\n",
    "q_x, q_y, s_x, s_y, truth = next(iter(train_processed_source))\n",
    "\n",
    "assert q_x.dtype == eval(p.torch_default_dtype)\n",
    "assert s_x.dtype == eval(p.torch_default_dtype)\n",
    "\n",
    "print(\"Visually inspect these to see if they line up with expected values given the transforms\")\n",
    "print('x_transforms_source', p.x_transforms_source)\n",
    "print('x_transforms_target', p.x_transforms_target)\n",
    "print(\"Average magnitude, source:\", get_average_magnitude(q_x[0].numpy()))\n",
    "print(\"Average power, source:\", get_average_power(q_x[0].numpy()))\n",
    "\n",
    "q_x, q_y, s_x, s_y, truth = next(iter(train_processed_target))\n",
    "print(\"Average magnitude, target:\", get_average_magnitude(q_x[0].numpy()))\n",
    "print(\"Average power, target:\", get_average_power(q_x[0].numpy()))\n"
   ]
  },
  {
   "cell_type": "code",
   "execution_count": 12,
   "id": "bbdacba1",
   "metadata": {
    "execution": {
     "iopub.execute_input": "2022-03-04T22:30:25.776979Z",
     "iopub.status.busy": "2022-03-04T22:30:25.776693Z",
     "iopub.status.idle": "2022-03-04T22:30:25.835058Z",
     "shell.execute_reply": "2022-03-04T22:30:25.834676Z"
    },
    "papermill": {
     "duration": 0.073802,
     "end_time": "2022-03-04T22:30:25.835140",
     "exception": false,
     "start_time": "2022-03-04T22:30:25.761338",
     "status": "completed"
    },
    "tags": []
   },
   "outputs": [
    {
     "name": "stdout",
     "output_type": "stream",
     "text": [
      "(2, 256)\n"
     ]
    }
   ],
   "source": [
    "###################################\n",
    "# Build the model\n",
    "###################################\n",
    "model = Steves_Prototypical_Network(x_net, device=p.device, x_shape=(2,256))\n",
    "optimizer = Adam(params=model.parameters(), lr=p.lr)"
   ]
  },
  {
   "cell_type": "code",
   "execution_count": 13,
   "id": "22b39ac5",
   "metadata": {
    "execution": {
     "iopub.execute_input": "2022-03-04T22:30:25.862229Z",
     "iopub.status.busy": "2022-03-04T22:30:25.860177Z",
     "iopub.status.idle": "2022-03-04T22:45:39.031563Z",
     "shell.execute_reply": "2022-03-04T22:45:39.031172Z"
    },
    "papermill": {
     "duration": 913.183096,
     "end_time": "2022-03-04T22:45:39.031669",
     "exception": false,
     "start_time": "2022-03-04T22:30:25.848573",
     "status": "completed"
    },
    "tags": []
   },
   "outputs": [
    {
     "name": "stdout",
     "output_type": "stream",
     "text": [
      "epoch: 1, [batch: 1 / 2100], examples_per_second: 145.3228, train_label_loss: 2.2900, \n"
     ]
    },
    {
     "name": "stdout",
     "output_type": "stream",
     "text": [
      "epoch: 1, [batch: 210 / 2100], examples_per_second: 3195.4700, train_label_loss: 1.1548, \n"
     ]
    },
    {
     "name": "stdout",
     "output_type": "stream",
     "text": [
      "epoch: 1, [batch: 420 / 2100], examples_per_second: 3216.8595, train_label_loss: 1.0729, \n"
     ]
    },
    {
     "name": "stdout",
     "output_type": "stream",
     "text": [
      "epoch: 1, [batch: 630 / 2100], examples_per_second: 3218.4733, train_label_loss: 1.0864, \n"
     ]
    },
    {
     "name": "stdout",
     "output_type": "stream",
     "text": [
      "epoch: 1, [batch: 840 / 2100], examples_per_second: 3216.4372, train_label_loss: 1.1315, \n"
     ]
    },
    {
     "name": "stdout",
     "output_type": "stream",
     "text": [
      "epoch: 1, [batch: 1050 / 2100], examples_per_second: 3224.0923, train_label_loss: 1.0583, \n"
     ]
    },
    {
     "name": "stdout",
     "output_type": "stream",
     "text": [
      "epoch: 1, [batch: 1260 / 2100], examples_per_second: 3219.4302, train_label_loss: 1.2532, \n"
     ]
    },
    {
     "name": "stdout",
     "output_type": "stream",
     "text": [
      "epoch: 1, [batch: 1470 / 2100], examples_per_second: 3226.3016, train_label_loss: 0.9509, \n"
     ]
    },
    {
     "name": "stdout",
     "output_type": "stream",
     "text": [
      "epoch: 1, [batch: 1680 / 2100], examples_per_second: 3221.7112, train_label_loss: 0.9562, \n"
     ]
    },
    {
     "name": "stdout",
     "output_type": "stream",
     "text": [
      "epoch: 1, [batch: 1890 / 2100], examples_per_second: 3218.8261, train_label_loss: 0.9686, \n"
     ]
    },
    {
     "name": "stdout",
     "output_type": "stream",
     "text": [
      "=============================================================\n",
      "epoch: 1, source_val_acc_label: 0.5122, target_val_acc_label: 0.4068, source_val_label_loss: 3.2326, target_val_label_loss: 3.8326, \n",
      "=============================================================\n"
     ]
    },
    {
     "name": "stdout",
     "output_type": "stream",
     "text": [
      "New best\n"
     ]
    },
    {
     "name": "stdout",
     "output_type": "stream",
     "text": [
      "epoch: 2, [batch: 1 / 2100], examples_per_second: 10.9916, train_label_loss: 1.3216, \n"
     ]
    },
    {
     "name": "stdout",
     "output_type": "stream",
     "text": [
      "epoch: 2, [batch: 210 / 2100], examples_per_second: 3241.3678, train_label_loss: 1.2779, \n"
     ]
    },
    {
     "name": "stdout",
     "output_type": "stream",
     "text": [
      "epoch: 2, [batch: 420 / 2100], examples_per_second: 3248.0426, train_label_loss: 0.6738, \n"
     ]
    },
    {
     "name": "stdout",
     "output_type": "stream",
     "text": [
      "epoch: 2, [batch: 630 / 2100], examples_per_second: 3251.8286, train_label_loss: 0.4827, \n"
     ]
    },
    {
     "name": "stdout",
     "output_type": "stream",
     "text": [
      "epoch: 2, [batch: 840 / 2100], examples_per_second: 3251.7998, train_label_loss: 0.2865, \n"
     ]
    },
    {
     "name": "stdout",
     "output_type": "stream",
     "text": [
      "epoch: 2, [batch: 1050 / 2100], examples_per_second: 3247.0523, train_label_loss: 1.2100, \n"
     ]
    },
    {
     "name": "stdout",
     "output_type": "stream",
     "text": [
      "epoch: 2, [batch: 1260 / 2100], examples_per_second: 3271.8151, train_label_loss: 0.6841, \n"
     ]
    },
    {
     "name": "stdout",
     "output_type": "stream",
     "text": [
      "epoch: 2, [batch: 1470 / 2100], examples_per_second: 3190.9954, train_label_loss: 0.6056, \n"
     ]
    },
    {
     "name": "stdout",
     "output_type": "stream",
     "text": [
      "epoch: 2, [batch: 1680 / 2100], examples_per_second: 3170.0958, train_label_loss: 0.3811, \n"
     ]
    },
    {
     "name": "stdout",
     "output_type": "stream",
     "text": [
      "epoch: 2, [batch: 1890 / 2100], examples_per_second: 3247.7129, train_label_loss: 0.6143, \n"
     ]
    },
    {
     "name": "stdout",
     "output_type": "stream",
     "text": [
      "=============================================================\n",
      "epoch: 2, source_val_acc_label: 0.7956, target_val_acc_label: 0.6258, source_val_label_loss: 0.5889, target_val_label_loss: 1.1583, \n",
      "=============================================================\n"
     ]
    },
    {
     "name": "stdout",
     "output_type": "stream",
     "text": [
      "New best\n"
     ]
    },
    {
     "name": "stdout",
     "output_type": "stream",
     "text": [
      "epoch: 3, [batch: 1 / 2100], examples_per_second: 10.9423, train_label_loss: 0.3270, \n"
     ]
    },
    {
     "name": "stdout",
     "output_type": "stream",
     "text": [
      "epoch: 3, [batch: 210 / 2100], examples_per_second: 3266.9360, train_label_loss: 0.6243, \n"
     ]
    },
    {
     "name": "stdout",
     "output_type": "stream",
     "text": [
      "epoch: 3, [batch: 420 / 2100], examples_per_second: 3280.5170, train_label_loss: 0.2557, \n"
     ]
    },
    {
     "name": "stdout",
     "output_type": "stream",
     "text": [
      "epoch: 3, [batch: 630 / 2100], examples_per_second: 3288.5589, train_label_loss: 0.3370, \n"
     ]
    },
    {
     "name": "stdout",
     "output_type": "stream",
     "text": [
      "epoch: 3, [batch: 840 / 2100], examples_per_second: 3290.8665, train_label_loss: 0.4921, \n"
     ]
    },
    {
     "name": "stdout",
     "output_type": "stream",
     "text": [
      "epoch: 3, [batch: 1050 / 2100], examples_per_second: 3272.7765, train_label_loss: 0.5451, \n"
     ]
    },
    {
     "name": "stdout",
     "output_type": "stream",
     "text": [
      "epoch: 3, [batch: 1260 / 2100], examples_per_second: 3257.3171, train_label_loss: 0.4113, \n"
     ]
    },
    {
     "name": "stdout",
     "output_type": "stream",
     "text": [
      "epoch: 3, [batch: 1470 / 2100], examples_per_second: 3276.8418, train_label_loss: 0.4047, \n"
     ]
    },
    {
     "name": "stdout",
     "output_type": "stream",
     "text": [
      "epoch: 3, [batch: 1680 / 2100], examples_per_second: 3294.7062, train_label_loss: 0.2020, \n"
     ]
    },
    {
     "name": "stdout",
     "output_type": "stream",
     "text": [
      "epoch: 3, [batch: 1890 / 2100], examples_per_second: 3283.4126, train_label_loss: 0.3050, \n"
     ]
    },
    {
     "name": "stdout",
     "output_type": "stream",
     "text": [
      "=============================================================\n",
      "epoch: 3, source_val_acc_label: 0.8208, target_val_acc_label: 0.6566, source_val_label_loss: 0.4979, target_val_label_loss: 0.9862, \n",
      "=============================================================\n"
     ]
    },
    {
     "name": "stdout",
     "output_type": "stream",
     "text": [
      "New best\n"
     ]
    },
    {
     "name": "stdout",
     "output_type": "stream",
     "text": [
      "epoch: 4, [batch: 1 / 2100], examples_per_second: 10.8432, train_label_loss: 0.1819, \n"
     ]
    },
    {
     "name": "stdout",
     "output_type": "stream",
     "text": [
      "epoch: 4, [batch: 210 / 2100], examples_per_second: 3285.0735, train_label_loss: 0.6228, \n"
     ]
    },
    {
     "name": "stdout",
     "output_type": "stream",
     "text": [
      "epoch: 4, [batch: 420 / 2100], examples_per_second: 3297.7505, train_label_loss: 0.5168, \n"
     ]
    },
    {
     "name": "stdout",
     "output_type": "stream",
     "text": [
      "epoch: 4, [batch: 630 / 2100], examples_per_second: 3277.2824, train_label_loss: 0.5411, \n"
     ]
    },
    {
     "name": "stdout",
     "output_type": "stream",
     "text": [
      "epoch: 4, [batch: 840 / 2100], examples_per_second: 3271.3301, train_label_loss: 0.5327, \n"
     ]
    },
    {
     "name": "stdout",
     "output_type": "stream",
     "text": [
      "epoch: 4, [batch: 1050 / 2100], examples_per_second: 3290.7857, train_label_loss: 0.4310, \n"
     ]
    },
    {
     "name": "stdout",
     "output_type": "stream",
     "text": [
      "epoch: 4, [batch: 1260 / 2100], examples_per_second: 3284.3413, train_label_loss: 0.3692, \n"
     ]
    },
    {
     "name": "stdout",
     "output_type": "stream",
     "text": [
      "epoch: 4, [batch: 1470 / 2100], examples_per_second: 3289.7359, train_label_loss: 0.2899, \n"
     ]
    },
    {
     "name": "stdout",
     "output_type": "stream",
     "text": [
      "epoch: 4, [batch: 1680 / 2100], examples_per_second: 3291.0717, train_label_loss: 0.5293, \n"
     ]
    },
    {
     "name": "stdout",
     "output_type": "stream",
     "text": [
      "epoch: 4, [batch: 1890 / 2100], examples_per_second: 3274.2720, train_label_loss: 0.3393, \n"
     ]
    },
    {
     "name": "stdout",
     "output_type": "stream",
     "text": [
      "=============================================================\n",
      "epoch: 4, source_val_acc_label: 0.8242, target_val_acc_label: 0.6543, source_val_label_loss: 0.4976, target_val_label_loss: 1.0916, \n",
      "=============================================================\n"
     ]
    },
    {
     "name": "stdout",
     "output_type": "stream",
     "text": [
      "epoch: 5, [batch: 1 / 2100], examples_per_second: 11.0836, train_label_loss: 0.2637, \n"
     ]
    },
    {
     "name": "stdout",
     "output_type": "stream",
     "text": [
      "epoch: 5, [batch: 210 / 2100], examples_per_second: 3270.9432, train_label_loss: 0.5836, \n"
     ]
    },
    {
     "name": "stdout",
     "output_type": "stream",
     "text": [
      "epoch: 5, [batch: 420 / 2100], examples_per_second: 3275.8901, train_label_loss: 0.6190, \n"
     ]
    },
    {
     "name": "stdout",
     "output_type": "stream",
     "text": [
      "epoch: 5, [batch: 630 / 2100], examples_per_second: 3274.5850, train_label_loss: 0.3663, \n"
     ]
    },
    {
     "name": "stdout",
     "output_type": "stream",
     "text": [
      "epoch: 5, [batch: 840 / 2100], examples_per_second: 3273.4322, train_label_loss: 0.5628, \n"
     ]
    },
    {
     "name": "stdout",
     "output_type": "stream",
     "text": [
      "epoch: 5, [batch: 1050 / 2100], examples_per_second: 3270.4591, train_label_loss: 0.4916, \n"
     ]
    },
    {
     "name": "stdout",
     "output_type": "stream",
     "text": [
      "epoch: 5, [batch: 1260 / 2100], examples_per_second: 3287.6733, train_label_loss: 0.2697, \n"
     ]
    },
    {
     "name": "stdout",
     "output_type": "stream",
     "text": [
      "epoch: 5, [batch: 1470 / 2100], examples_per_second: 3284.8873, train_label_loss: 0.4263, \n"
     ]
    },
    {
     "name": "stdout",
     "output_type": "stream",
     "text": [
      "epoch: 5, [batch: 1680 / 2100], examples_per_second: 3289.8348, train_label_loss: 0.4613, \n"
     ]
    },
    {
     "name": "stdout",
     "output_type": "stream",
     "text": [
      "epoch: 5, [batch: 1890 / 2100], examples_per_second: 3290.2334, train_label_loss: 0.4635, \n"
     ]
    },
    {
     "name": "stdout",
     "output_type": "stream",
     "text": [
      "=============================================================\n",
      "epoch: 5, source_val_acc_label: 0.8431, target_val_acc_label: 0.6641, source_val_label_loss: 0.4563, target_val_label_loss: 1.0740, \n",
      "=============================================================\n"
     ]
    },
    {
     "name": "stdout",
     "output_type": "stream",
     "text": [
      "epoch: 6, [batch: 1 / 2100], examples_per_second: 11.1105, train_label_loss: 0.3724, \n"
     ]
    },
    {
     "name": "stdout",
     "output_type": "stream",
     "text": [
      "epoch: 6, [batch: 210 / 2100], examples_per_second: 3270.9699, train_label_loss: 0.2586, \n"
     ]
    },
    {
     "name": "stdout",
     "output_type": "stream",
     "text": [
      "epoch: 6, [batch: 420 / 2100], examples_per_second: 3265.6945, train_label_loss: 0.3470, \n"
     ]
    },
    {
     "name": "stdout",
     "output_type": "stream",
     "text": [
      "epoch: 6, [batch: 630 / 2100], examples_per_second: 3260.7904, train_label_loss: 0.5853, \n"
     ]
    },
    {
     "name": "stdout",
     "output_type": "stream",
     "text": [
      "epoch: 6, [batch: 840 / 2100], examples_per_second: 3260.8761, train_label_loss: 0.2624, \n"
     ]
    },
    {
     "name": "stdout",
     "output_type": "stream",
     "text": [
      "epoch: 6, [batch: 1050 / 2100], examples_per_second: 3281.7111, train_label_loss: 0.3392, \n"
     ]
    },
    {
     "name": "stdout",
     "output_type": "stream",
     "text": [
      "epoch: 6, [batch: 1260 / 2100], examples_per_second: 3283.3323, train_label_loss: 0.3899, \n"
     ]
    },
    {
     "name": "stdout",
     "output_type": "stream",
     "text": [
      "epoch: 6, [batch: 1470 / 2100], examples_per_second: 3271.7688, train_label_loss: 0.4763, \n"
     ]
    },
    {
     "name": "stdout",
     "output_type": "stream",
     "text": [
      "epoch: 6, [batch: 1680 / 2100], examples_per_second: 3282.4701, train_label_loss: 0.4031, \n"
     ]
    },
    {
     "name": "stdout",
     "output_type": "stream",
     "text": [
      "epoch: 6, [batch: 1890 / 2100], examples_per_second: 3289.7540, train_label_loss: 0.1187, \n"
     ]
    },
    {
     "name": "stdout",
     "output_type": "stream",
     "text": [
      "=============================================================\n",
      "epoch: 6, source_val_acc_label: 0.8384, target_val_acc_label: 0.6773, source_val_label_loss: 0.4380, target_val_label_loss: 0.9787, \n",
      "=============================================================\n"
     ]
    },
    {
     "name": "stdout",
     "output_type": "stream",
     "text": [
      "New best\n"
     ]
    },
    {
     "name": "stdout",
     "output_type": "stream",
     "text": [
      "epoch: 7, [batch: 1 / 2100], examples_per_second: 11.0622, train_label_loss: 0.4439, \n"
     ]
    },
    {
     "name": "stdout",
     "output_type": "stream",
     "text": [
      "epoch: 7, [batch: 210 / 2100], examples_per_second: 3255.2154, train_label_loss: 0.4995, \n"
     ]
    },
    {
     "name": "stdout",
     "output_type": "stream",
     "text": [
      "epoch: 7, [batch: 420 / 2100], examples_per_second: 3252.2129, train_label_loss: 0.6044, \n"
     ]
    },
    {
     "name": "stdout",
     "output_type": "stream",
     "text": [
      "epoch: 7, [batch: 630 / 2100], examples_per_second: 3272.3041, train_label_loss: 0.5866, \n"
     ]
    },
    {
     "name": "stdout",
     "output_type": "stream",
     "text": [
      "epoch: 7, [batch: 840 / 2100], examples_per_second: 3287.5951, train_label_loss: 0.1802, \n"
     ]
    },
    {
     "name": "stdout",
     "output_type": "stream",
     "text": [
      "epoch: 7, [batch: 1050 / 2100], examples_per_second: 3283.2307, train_label_loss: 0.3694, \n"
     ]
    },
    {
     "name": "stdout",
     "output_type": "stream",
     "text": [
      "epoch: 7, [batch: 1260 / 2100], examples_per_second: 3306.1585, train_label_loss: 0.3140, \n"
     ]
    },
    {
     "name": "stdout",
     "output_type": "stream",
     "text": [
      "epoch: 7, [batch: 1470 / 2100], examples_per_second: 3283.1894, train_label_loss: 0.2629, \n"
     ]
    },
    {
     "name": "stdout",
     "output_type": "stream",
     "text": [
      "epoch: 7, [batch: 1680 / 2100], examples_per_second: 3283.8542, train_label_loss: 0.3213, \n"
     ]
    },
    {
     "name": "stdout",
     "output_type": "stream",
     "text": [
      "epoch: 7, [batch: 1890 / 2100], examples_per_second: 3284.4468, train_label_loss: 0.6119, \n"
     ]
    },
    {
     "name": "stdout",
     "output_type": "stream",
     "text": [
      "=============================================================\n",
      "epoch: 7, source_val_acc_label: 0.8431, target_val_acc_label: 0.6741, source_val_label_loss: 0.4673, target_val_label_loss: 1.0402, \n",
      "=============================================================\n"
     ]
    },
    {
     "name": "stdout",
     "output_type": "stream",
     "text": [
      "epoch: 8, [batch: 1 / 2100], examples_per_second: 11.0943, train_label_loss: 0.1391, \n"
     ]
    },
    {
     "name": "stdout",
     "output_type": "stream",
     "text": [
      "epoch: 8, [batch: 210 / 2100], examples_per_second: 3265.7069, train_label_loss: 0.4062, \n"
     ]
    },
    {
     "name": "stdout",
     "output_type": "stream",
     "text": [
      "epoch: 8, [batch: 420 / 2100], examples_per_second: 3281.2701, train_label_loss: 0.4222, \n"
     ]
    },
    {
     "name": "stdout",
     "output_type": "stream",
     "text": [
      "epoch: 8, [batch: 630 / 2100], examples_per_second: 3245.6699, train_label_loss: 0.4149, \n"
     ]
    },
    {
     "name": "stdout",
     "output_type": "stream",
     "text": [
      "epoch: 8, [batch: 840 / 2100], examples_per_second: 3272.0999, train_label_loss: 0.4658, \n"
     ]
    },
    {
     "name": "stdout",
     "output_type": "stream",
     "text": [
      "epoch: 8, [batch: 1050 / 2100], examples_per_second: 3236.9704, train_label_loss: 0.2918, \n"
     ]
    },
    {
     "name": "stdout",
     "output_type": "stream",
     "text": [
      "epoch: 8, [batch: 1260 / 2100], examples_per_second: 3255.3530, train_label_loss: 0.2984, \n"
     ]
    },
    {
     "name": "stdout",
     "output_type": "stream",
     "text": [
      "epoch: 8, [batch: 1470 / 2100], examples_per_second: 3284.5980, train_label_loss: 0.7082, \n"
     ]
    },
    {
     "name": "stdout",
     "output_type": "stream",
     "text": [
      "epoch: 8, [batch: 1680 / 2100], examples_per_second: 3275.7794, train_label_loss: 0.4204, \n"
     ]
    },
    {
     "name": "stdout",
     "output_type": "stream",
     "text": [
      "epoch: 8, [batch: 1890 / 2100], examples_per_second: 3284.9390, train_label_loss: 0.3514, \n"
     ]
    },
    {
     "name": "stdout",
     "output_type": "stream",
     "text": [
      "=============================================================\n",
      "epoch: 8, source_val_acc_label: 0.8503, target_val_acc_label: 0.6845, source_val_label_loss: 0.4228, target_val_label_loss: 1.0002, \n",
      "=============================================================\n"
     ]
    },
    {
     "name": "stdout",
     "output_type": "stream",
     "text": [
      "epoch: 9, [batch: 1 / 2100], examples_per_second: 11.1092, train_label_loss: 0.1075, \n"
     ]
    },
    {
     "name": "stdout",
     "output_type": "stream",
     "text": [
      "epoch: 9, [batch: 210 / 2100], examples_per_second: 3273.4048, train_label_loss: 0.3205, \n"
     ]
    },
    {
     "name": "stdout",
     "output_type": "stream",
     "text": [
      "epoch: 9, [batch: 420 / 2100], examples_per_second: 3291.0786, train_label_loss: 0.1935, \n"
     ]
    },
    {
     "name": "stdout",
     "output_type": "stream",
     "text": [
      "epoch: 9, [batch: 630 / 2100], examples_per_second: 3300.1103, train_label_loss: 0.3284, \n"
     ]
    },
    {
     "name": "stdout",
     "output_type": "stream",
     "text": [
      "epoch: 9, [batch: 840 / 2100], examples_per_second: 3286.5652, train_label_loss: 0.3561, \n"
     ]
    },
    {
     "name": "stdout",
     "output_type": "stream",
     "text": [
      "epoch: 9, [batch: 1050 / 2100], examples_per_second: 3262.4814, train_label_loss: 0.1219, \n"
     ]
    },
    {
     "name": "stdout",
     "output_type": "stream",
     "text": [
      "epoch: 9, [batch: 1260 / 2100], examples_per_second: 3250.5528, train_label_loss: 0.4194, \n"
     ]
    },
    {
     "name": "stdout",
     "output_type": "stream",
     "text": [
      "epoch: 9, [batch: 1470 / 2100], examples_per_second: 3284.1074, train_label_loss: 0.1117, \n"
     ]
    },
    {
     "name": "stdout",
     "output_type": "stream",
     "text": [
      "epoch: 9, [batch: 1680 / 2100], examples_per_second: 3277.6119, train_label_loss: 0.3719, \n"
     ]
    },
    {
     "name": "stdout",
     "output_type": "stream",
     "text": [
      "epoch: 9, [batch: 1890 / 2100], examples_per_second: 3287.9349, train_label_loss: 0.2058, \n"
     ]
    },
    {
     "name": "stdout",
     "output_type": "stream",
     "text": [
      "=============================================================\n",
      "epoch: 9, source_val_acc_label: 0.8556, target_val_acc_label: 0.6895, source_val_label_loss: 0.3951, target_val_label_loss: 0.9308, \n",
      "=============================================================\n"
     ]
    },
    {
     "name": "stdout",
     "output_type": "stream",
     "text": [
      "New best\n"
     ]
    },
    {
     "name": "stdout",
     "output_type": "stream",
     "text": [
      "epoch: 10, [batch: 1 / 2100], examples_per_second: 11.0487, train_label_loss: 0.4210, \n"
     ]
    },
    {
     "name": "stdout",
     "output_type": "stream",
     "text": [
      "epoch: 10, [batch: 210 / 2100], examples_per_second: 3275.2471, train_label_loss: 0.3109, \n"
     ]
    },
    {
     "name": "stdout",
     "output_type": "stream",
     "text": [
      "epoch: 10, [batch: 420 / 2100], examples_per_second: 3331.9285, train_label_loss: 0.0744, \n"
     ]
    },
    {
     "name": "stdout",
     "output_type": "stream",
     "text": [
      "epoch: 10, [batch: 630 / 2100], examples_per_second: 3300.4916, train_label_loss: 0.1391, \n"
     ]
    },
    {
     "name": "stdout",
     "output_type": "stream",
     "text": [
      "epoch: 10, [batch: 840 / 2100], examples_per_second: 3273.2853, train_label_loss: 0.0726, \n"
     ]
    },
    {
     "name": "stdout",
     "output_type": "stream",
     "text": [
      "epoch: 10, [batch: 1050 / 2100], examples_per_second: 3277.6533, train_label_loss: 0.3462, \n"
     ]
    },
    {
     "name": "stdout",
     "output_type": "stream",
     "text": [
      "epoch: 10, [batch: 1260 / 2100], examples_per_second: 3272.0935, train_label_loss: 0.1972, \n"
     ]
    },
    {
     "name": "stdout",
     "output_type": "stream",
     "text": [
      "epoch: 10, [batch: 1470 / 2100], examples_per_second: 3262.5322, train_label_loss: 0.2484, \n"
     ]
    },
    {
     "name": "stdout",
     "output_type": "stream",
     "text": [
      "epoch: 10, [batch: 1680 / 2100], examples_per_second: 3276.3184, train_label_loss: 0.1187, \n"
     ]
    },
    {
     "name": "stdout",
     "output_type": "stream",
     "text": [
      "epoch: 10, [batch: 1890 / 2100], examples_per_second: 3287.1954, train_label_loss: 0.4183, \n"
     ]
    },
    {
     "name": "stdout",
     "output_type": "stream",
     "text": [
      "=============================================================\n",
      "epoch: 10, source_val_acc_label: 0.8545, target_val_acc_label: 0.6885, source_val_label_loss: 0.3927, target_val_label_loss: 0.9477, \n",
      "=============================================================\n"
     ]
    },
    {
     "name": "stdout",
     "output_type": "stream",
     "text": [
      "epoch: 11, [batch: 1 / 2100], examples_per_second: 11.1647, train_label_loss: 0.3288, \n"
     ]
    },
    {
     "name": "stdout",
     "output_type": "stream",
     "text": [
      "epoch: 11, [batch: 210 / 2100], examples_per_second: 3269.3469, train_label_loss: 0.3706, \n"
     ]
    },
    {
     "name": "stdout",
     "output_type": "stream",
     "text": [
      "epoch: 11, [batch: 420 / 2100], examples_per_second: 3282.8459, train_label_loss: 0.2574, \n"
     ]
    },
    {
     "name": "stdout",
     "output_type": "stream",
     "text": [
      "epoch: 11, [batch: 630 / 2100], examples_per_second: 3288.7981, train_label_loss: 0.1142, \n"
     ]
    },
    {
     "name": "stdout",
     "output_type": "stream",
     "text": [
      "epoch: 11, [batch: 840 / 2100], examples_per_second: 3286.0874, train_label_loss: 0.2722, \n"
     ]
    },
    {
     "name": "stdout",
     "output_type": "stream",
     "text": [
      "epoch: 11, [batch: 1050 / 2100], examples_per_second: 3304.5442, train_label_loss: 0.5409, \n"
     ]
    },
    {
     "name": "stdout",
     "output_type": "stream",
     "text": [
      "epoch: 11, [batch: 1260 / 2100], examples_per_second: 3270.6743, train_label_loss: 0.2069, \n"
     ]
    },
    {
     "name": "stdout",
     "output_type": "stream",
     "text": [
      "epoch: 11, [batch: 1470 / 2100], examples_per_second: 3285.7645, train_label_loss: 0.3558, \n"
     ]
    },
    {
     "name": "stdout",
     "output_type": "stream",
     "text": [
      "epoch: 11, [batch: 1680 / 2100], examples_per_second: 3282.5024, train_label_loss: 0.1080, \n"
     ]
    },
    {
     "name": "stdout",
     "output_type": "stream",
     "text": [
      "epoch: 11, [batch: 1890 / 2100], examples_per_second: 3316.5745, train_label_loss: 0.1797, \n"
     ]
    },
    {
     "name": "stdout",
     "output_type": "stream",
     "text": [
      "=============================================================\n",
      "epoch: 11, source_val_acc_label: 0.8554, target_val_acc_label: 0.6929, source_val_label_loss: 0.3912, target_val_label_loss: 0.9131, \n",
      "=============================================================\n"
     ]
    },
    {
     "name": "stdout",
     "output_type": "stream",
     "text": [
      "New best\n"
     ]
    },
    {
     "name": "stdout",
     "output_type": "stream",
     "text": [
      "epoch: 12, [batch: 1 / 2100], examples_per_second: 10.9676, train_label_loss: 0.2875, \n"
     ]
    },
    {
     "name": "stdout",
     "output_type": "stream",
     "text": [
      "epoch: 12, [batch: 210 / 2100], examples_per_second: 3248.5601, train_label_loss: 0.1328, \n"
     ]
    },
    {
     "name": "stdout",
     "output_type": "stream",
     "text": [
      "epoch: 12, [batch: 420 / 2100], examples_per_second: 3266.9628, train_label_loss: 0.4851, \n"
     ]
    },
    {
     "name": "stdout",
     "output_type": "stream",
     "text": [
      "epoch: 12, [batch: 630 / 2100], examples_per_second: 3260.6214, train_label_loss: 0.1933, \n"
     ]
    },
    {
     "name": "stdout",
     "output_type": "stream",
     "text": [
      "epoch: 12, [batch: 840 / 2100], examples_per_second: 3238.2088, train_label_loss: 0.4541, \n"
     ]
    },
    {
     "name": "stdout",
     "output_type": "stream",
     "text": [
      "epoch: 12, [batch: 1050 / 2100], examples_per_second: 3200.7452, train_label_loss: 0.3275, \n"
     ]
    },
    {
     "name": "stdout",
     "output_type": "stream",
     "text": [
      "epoch: 12, [batch: 1260 / 2100], examples_per_second: 3250.4694, train_label_loss: 0.2821, \n"
     ]
    },
    {
     "name": "stdout",
     "output_type": "stream",
     "text": [
      "epoch: 12, [batch: 1470 / 2100], examples_per_second: 3221.1994, train_label_loss: 0.1640, \n"
     ]
    },
    {
     "name": "stdout",
     "output_type": "stream",
     "text": [
      "epoch: 12, [batch: 1680 / 2100], examples_per_second: 3249.8713, train_label_loss: 0.0661, \n"
     ]
    },
    {
     "name": "stdout",
     "output_type": "stream",
     "text": [
      "epoch: 12, [batch: 1890 / 2100], examples_per_second: 3262.3251, train_label_loss: 0.8091, \n"
     ]
    },
    {
     "name": "stdout",
     "output_type": "stream",
     "text": [
      "=============================================================\n",
      "epoch: 12, source_val_acc_label: 0.8582, target_val_acc_label: 0.6832, source_val_label_loss: 0.3866, target_val_label_loss: 0.9918, \n",
      "=============================================================\n"
     ]
    },
    {
     "name": "stdout",
     "output_type": "stream",
     "text": [
      "epoch: 13, [batch: 1 / 2100], examples_per_second: 10.9779, train_label_loss: 0.2088, \n"
     ]
    },
    {
     "name": "stdout",
     "output_type": "stream",
     "text": [
      "epoch: 13, [batch: 210 / 2100], examples_per_second: 3234.1870, train_label_loss: 0.1009, \n"
     ]
    },
    {
     "name": "stdout",
     "output_type": "stream",
     "text": [
      "epoch: 13, [batch: 420 / 2100], examples_per_second: 3249.1427, train_label_loss: 0.3400, \n"
     ]
    },
    {
     "name": "stdout",
     "output_type": "stream",
     "text": [
      "epoch: 13, [batch: 630 / 2100], examples_per_second: 3236.2085, train_label_loss: 0.0814, \n"
     ]
    },
    {
     "name": "stdout",
     "output_type": "stream",
     "text": [
      "epoch: 13, [batch: 840 / 2100], examples_per_second: 3254.4703, train_label_loss: 0.1080, \n"
     ]
    },
    {
     "name": "stdout",
     "output_type": "stream",
     "text": [
      "epoch: 13, [batch: 1050 / 2100], examples_per_second: 3260.2012, train_label_loss: 0.4386, \n"
     ]
    },
    {
     "name": "stdout",
     "output_type": "stream",
     "text": [
      "epoch: 13, [batch: 1260 / 2100], examples_per_second: 3247.0753, train_label_loss: 0.0779, \n"
     ]
    },
    {
     "name": "stdout",
     "output_type": "stream",
     "text": [
      "epoch: 13, [batch: 1470 / 2100], examples_per_second: 3257.4748, train_label_loss: 0.0535, \n"
     ]
    },
    {
     "name": "stdout",
     "output_type": "stream",
     "text": [
      "epoch: 13, [batch: 1680 / 2100], examples_per_second: 3257.0919, train_label_loss: 0.2482, \n"
     ]
    },
    {
     "name": "stdout",
     "output_type": "stream",
     "text": [
      "epoch: 13, [batch: 1890 / 2100], examples_per_second: 3259.8077, train_label_loss: 0.1076, \n"
     ]
    },
    {
     "name": "stdout",
     "output_type": "stream",
     "text": [
      "=============================================================\n",
      "epoch: 13, source_val_acc_label: 0.8628, target_val_acc_label: 0.6884, source_val_label_loss: 0.3710, target_val_label_loss: 0.9610, \n",
      "=============================================================\n"
     ]
    },
    {
     "name": "stdout",
     "output_type": "stream",
     "text": [
      "epoch: 14, [batch: 1 / 2100], examples_per_second: 11.0176, train_label_loss: 0.3196, \n"
     ]
    },
    {
     "name": "stdout",
     "output_type": "stream",
     "text": [
      "epoch: 14, [batch: 210 / 2100], examples_per_second: 3252.5804, train_label_loss: 0.0326, \n"
     ]
    },
    {
     "name": "stdout",
     "output_type": "stream",
     "text": [
      "epoch: 14, [batch: 420 / 2100], examples_per_second: 3256.0122, train_label_loss: 0.1388, \n"
     ]
    },
    {
     "name": "stdout",
     "output_type": "stream",
     "text": [
      "epoch: 14, [batch: 630 / 2100], examples_per_second: 3258.1140, train_label_loss: 0.0749, \n"
     ]
    },
    {
     "name": "stdout",
     "output_type": "stream",
     "text": [
      "epoch: 14, [batch: 840 / 2100], examples_per_second: 3247.1337, train_label_loss: 0.0808, \n"
     ]
    },
    {
     "name": "stdout",
     "output_type": "stream",
     "text": [
      "epoch: 14, [batch: 1050 / 2100], examples_per_second: 3210.9548, train_label_loss: 0.1543, \n"
     ]
    },
    {
     "name": "stdout",
     "output_type": "stream",
     "text": [
      "epoch: 14, [batch: 1260 / 2100], examples_per_second: 3252.7254, train_label_loss: 0.0617, \n"
     ]
    },
    {
     "name": "stdout",
     "output_type": "stream",
     "text": [
      "epoch: 14, [batch: 1470 / 2100], examples_per_second: 3238.5642, train_label_loss: 0.0915, \n"
     ]
    },
    {
     "name": "stdout",
     "output_type": "stream",
     "text": [
      "epoch: 14, [batch: 1680 / 2100], examples_per_second: 3247.4630, train_label_loss: 0.1098, \n"
     ]
    },
    {
     "name": "stdout",
     "output_type": "stream",
     "text": [
      "epoch: 14, [batch: 1890 / 2100], examples_per_second: 3241.5585, train_label_loss: 0.2164, \n"
     ]
    },
    {
     "name": "stdout",
     "output_type": "stream",
     "text": [
      "=============================================================\n",
      "epoch: 14, source_val_acc_label: 0.8592, target_val_acc_label: 0.6890, source_val_label_loss: 0.3877, target_val_label_loss: 1.0071, \n",
      "=============================================================\n"
     ]
    },
    {
     "name": "stdout",
     "output_type": "stream",
     "text": [
      "epoch: 15, [batch: 1 / 2100], examples_per_second: 11.0342, train_label_loss: 0.0355, \n"
     ]
    },
    {
     "name": "stdout",
     "output_type": "stream",
     "text": [
      "epoch: 15, [batch: 210 / 2100], examples_per_second: 3237.0650, train_label_loss: 0.3992, \n"
     ]
    },
    {
     "name": "stdout",
     "output_type": "stream",
     "text": [
      "epoch: 15, [batch: 420 / 2100], examples_per_second: 3251.7054, train_label_loss: 0.2578, \n"
     ]
    },
    {
     "name": "stdout",
     "output_type": "stream",
     "text": [
      "epoch: 15, [batch: 630 / 2100], examples_per_second: 3242.2420, train_label_loss: 0.1916, \n"
     ]
    },
    {
     "name": "stdout",
     "output_type": "stream",
     "text": [
      "epoch: 15, [batch: 840 / 2100], examples_per_second: 3171.9234, train_label_loss: 0.3995, \n"
     ]
    },
    {
     "name": "stdout",
     "output_type": "stream",
     "text": [
      "epoch: 15, [batch: 1050 / 2100], examples_per_second: 3254.2141, train_label_loss: 0.5045, \n"
     ]
    },
    {
     "name": "stdout",
     "output_type": "stream",
     "text": [
      "epoch: 15, [batch: 1260 / 2100], examples_per_second: 3126.1293, train_label_loss: 0.2403, \n"
     ]
    },
    {
     "name": "stdout",
     "output_type": "stream",
     "text": [
      "epoch: 15, [batch: 1470 / 2100], examples_per_second: 3067.2792, train_label_loss: 0.1190, \n"
     ]
    },
    {
     "name": "stdout",
     "output_type": "stream",
     "text": [
      "epoch: 15, [batch: 1680 / 2100], examples_per_second: 3159.8326, train_label_loss: 0.3213, \n"
     ]
    },
    {
     "name": "stdout",
     "output_type": "stream",
     "text": [
      "epoch: 15, [batch: 1890 / 2100], examples_per_second: 3162.0654, train_label_loss: 0.1861, \n"
     ]
    },
    {
     "name": "stdout",
     "output_type": "stream",
     "text": [
      "=============================================================\n",
      "epoch: 15, source_val_acc_label: 0.8653, target_val_acc_label: 0.6965, source_val_label_loss: 0.3754, target_val_label_loss: 0.9936, \n",
      "=============================================================\n"
     ]
    },
    {
     "name": "stdout",
     "output_type": "stream",
     "text": [
      "Patience (3) exhausted\n"
     ]
    }
   ],
   "source": [
    "###################################\n",
    "# train\n",
    "###################################\n",
    "jig = PTN_Train_Eval_Test_Jig(model, p.BEST_MODEL_PATH, p.device)\n",
    "\n",
    "jig.train(\n",
    "    train_iterable=datasets.source.processed.train,\n",
    "    source_val_iterable=datasets.source.processed.val,\n",
    "    target_val_iterable=datasets.target.processed.val,\n",
    "    num_epochs=p.n_epoch,\n",
    "    num_logs_per_epoch=p.NUM_LOGS_PER_EPOCH,\n",
    "    patience=p.patience,\n",
    "    optimizer=optimizer,\n",
    "    criteria_for_best=p.criteria_for_best,\n",
    ")"
   ]
  },
  {
   "cell_type": "code",
   "execution_count": 14,
   "id": "31e8fabf",
   "metadata": {
    "execution": {
     "iopub.execute_input": "2022-03-04T22:45:39.121075Z",
     "iopub.status.busy": "2022-03-04T22:45:39.120623Z",
     "iopub.status.idle": "2022-03-04T22:45:39.134683Z",
     "shell.execute_reply": "2022-03-04T22:45:39.134229Z"
    },
    "papermill": {
     "duration": 0.058931,
     "end_time": "2022-03-04T22:45:39.134793",
     "exception": false,
     "start_time": "2022-03-04T22:45:39.075862",
     "status": "completed"
    },
    "tags": []
   },
   "outputs": [],
   "source": [
    "total_experiment_time_secs = time.time() - start_time_secs"
   ]
  },
  {
   "cell_type": "code",
   "execution_count": 15,
   "id": "87b9595b",
   "metadata": {
    "execution": {
     "iopub.execute_input": "2022-03-04T22:45:39.223632Z",
     "iopub.status.busy": "2022-03-04T22:45:39.223360Z",
     "iopub.status.idle": "2022-03-04T22:46:25.895136Z",
     "shell.execute_reply": "2022-03-04T22:46:25.894680Z"
    },
    "papermill": {
     "duration": 46.715637,
     "end_time": "2022-03-04T22:46:25.895245",
     "exception": false,
     "start_time": "2022-03-04T22:45:39.179608",
     "status": "completed"
    },
    "tags": []
   },
   "outputs": [],
   "source": [
    "###################################\n",
    "# Evaluate the model\n",
    "###################################\n",
    "source_test_label_accuracy, source_test_label_loss = jig.test(datasets.source.processed.test)\n",
    "target_test_label_accuracy, target_test_label_loss = jig.test(datasets.target.processed.test)\n",
    "\n",
    "source_val_label_accuracy, source_val_label_loss = jig.test(datasets.source.processed.val)\n",
    "target_val_label_accuracy, target_val_label_loss = jig.test(datasets.target.processed.val)\n",
    "\n",
    "history = jig.get_history()\n",
    "\n",
    "total_epochs_trained = len(history[\"epoch_indices\"])\n",
    "\n",
    "val_dl = Iterable_Aggregator((datasets.source.original.val,datasets.target.original.val))\n",
    "\n",
    "confusion = ptn_confusion_by_domain_over_dataloader(model, p.device, val_dl)\n",
    "per_domain_accuracy = per_domain_accuracy_from_confusion(confusion)\n",
    "\n",
    "# Add a key to per_domain_accuracy for if it was a source domain\n",
    "for domain, accuracy in per_domain_accuracy.items():\n",
    "    per_domain_accuracy[domain] = {\n",
    "        \"accuracy\": accuracy,\n",
    "        \"source?\": domain in p.domains_source\n",
    "    }\n",
    "\n",
    "# Do an independent accuracy assesment JUST TO BE SURE!\n",
    "# _source_test_label_accuracy = independent_accuracy_assesment(model, datasets.source.processed.test, p.device)\n",
    "# _target_test_label_accuracy = independent_accuracy_assesment(model, datasets.target.processed.test, p.device)\n",
    "# _source_val_label_accuracy = independent_accuracy_assesment(model, datasets.source.processed.val, p.device)\n",
    "# _target_val_label_accuracy = independent_accuracy_assesment(model, datasets.target.processed.val, p.device)\n",
    "\n",
    "# assert(_source_test_label_accuracy == source_test_label_accuracy)\n",
    "# assert(_target_test_label_accuracy == target_test_label_accuracy)\n",
    "# assert(_source_val_label_accuracy == source_val_label_accuracy)\n",
    "# assert(_target_val_label_accuracy == target_val_label_accuracy)\n",
    "\n",
    "experiment = {\n",
    "    \"experiment_name\": p.experiment_name,\n",
    "    \"parameters\": dict(p),\n",
    "    \"results\": {\n",
    "        \"source_test_label_accuracy\": source_test_label_accuracy,\n",
    "        \"source_test_label_loss\": source_test_label_loss,\n",
    "        \"target_test_label_accuracy\": target_test_label_accuracy,\n",
    "        \"target_test_label_loss\": target_test_label_loss,\n",
    "        \"source_val_label_accuracy\": source_val_label_accuracy,\n",
    "        \"source_val_label_loss\": source_val_label_loss,\n",
    "        \"target_val_label_accuracy\": target_val_label_accuracy,\n",
    "        \"target_val_label_loss\": target_val_label_loss,\n",
    "        \"total_epochs_trained\": total_epochs_trained,\n",
    "        \"total_experiment_time_secs\": total_experiment_time_secs,\n",
    "        \"confusion\": confusion,\n",
    "        \"per_domain_accuracy\": per_domain_accuracy,\n",
    "    },\n",
    "    \"history\": history,\n",
    "    \"dataset_metrics\": get_dataset_metrics(datasets, \"ptn\"),\n",
    "}"
   ]
  },
  {
   "cell_type": "code",
   "execution_count": 16,
   "id": "54a21829",
   "metadata": {
    "execution": {
     "iopub.execute_input": "2022-03-04T22:46:26.002758Z",
     "iopub.status.busy": "2022-03-04T22:46:26.001574Z",
     "iopub.status.idle": "2022-03-04T22:46:26.210038Z",
     "shell.execute_reply": "2022-03-04T22:46:26.209635Z"
    },
    "papermill": {
     "duration": 0.255542,
     "end_time": "2022-03-04T22:46:26.210130",
     "exception": false,
     "start_time": "2022-03-04T22:46:25.954588",
     "status": "completed"
    },
    "tags": []
   },
   "outputs": [
    {
     "data": {
      "image/png": "[encoded data removed]",
      "text/plain": [
       "<Figure size 1080x504 with 1 Axes>"
      ]
     },
     "metadata": {
      "needs_background": "light"
     },
     "output_type": "display_data"
    }
   ],
   "source": [
    "ax = get_loss_curve(experiment)\n",
    "plt.show()"
   ]
  },
  {
   "cell_type": "code",
   "execution_count": 17,
   "id": "fd8a0f60",
   "metadata": {
    "execution": {
     "iopub.execute_input": "2022-03-04T22:46:26.351997Z",
     "iopub.status.busy": "2022-03-04T22:46:26.351677Z",
     "iopub.status.idle": "2022-03-04T22:46:26.555561Z",
     "shell.execute_reply": "2022-03-04T22:46:26.555873Z"
    },
    "papermill": {
     "duration": 0.272136,
     "end_time": "2022-03-04T22:46:26.555977",
     "exception": false,
     "start_time": "2022-03-04T22:46:26.283841",
     "status": "completed"
    },
    "tags": []
   },
   "outputs": [
    {
     "data": {
      "text/plain": [
       "<matplotlib.axes._subplots.AxesSubplot at 0x7f0078383310>"
      ]
     },
     "execution_count": 17,
     "metadata": {},
     "output_type": "execute_result"
    },
    {
     "data": {
      "image/png": "[encoded data removed]",
      "text/plain": [
       "<Figure size 1080x504 with 1 Axes>"
      ]
     },
     "metadata": {
      "needs_background": "light"
     },
     "output_type": "display_data"
    }
   ],
   "source": [
    "get_results_table(experiment)"
   ]
  },
  {
   "cell_type": "code",
   "execution_count": 18,
   "id": "cf8dc689",
   "metadata": {
    "execution": {
     "iopub.execute_input": "2022-03-04T22:46:26.658203Z",
     "iopub.status.busy": "2022-03-04T22:46:26.657935Z",
     "iopub.status.idle": "2022-03-04T22:46:26.840844Z",
     "shell.execute_reply": "2022-03-04T22:46:26.841067Z"
    },
    "papermill": {
     "duration": 0.233235,
     "end_time": "2022-03-04T22:46:26.841149",
     "exception": false,
     "start_time": "2022-03-04T22:46:26.607914",
     "status": "completed"
    },
    "tags": []
   },
   "outputs": [
    {
     "data": {
      "text/plain": [
       "<matplotlib.axes._subplots.AxesSubplot at 0x7f00784db8e0>"
      ]
     },
     "execution_count": 18,
     "metadata": {},
     "output_type": "execute_result"
    },
    {
     "data": {
      "image/png": "[encoded data removed]",
      "text/plain": [
       "<Figure size 1080x504 with 1 Axes>"
      ]
     },
     "metadata": {
      "needs_background": "light"
     },
     "output_type": "display_data"
    }
   ],
   "source": [
    "get_domain_accuracies(experiment)"
   ]
  },
  {
   "cell_type": "code",
   "execution_count": 19,
   "id": "a74ae082",
   "metadata": {
    "execution": {
     "iopub.execute_input": "2022-03-04T22:46:26.940806Z",
     "iopub.status.busy": "2022-03-04T22:46:26.940537Z",
     "iopub.status.idle": "2022-03-04T22:46:26.953705Z",
     "shell.execute_reply": "2022-03-04T22:46:26.954153Z"
    },
    "papermill": {
     "duration": 0.066955,
     "end_time": "2022-03-04T22:46:26.954287",
     "exception": false,
     "start_time": "2022-03-04T22:46:26.887332",
     "status": "completed"
    },
    "tags": []
   },
   "outputs": [
    {
     "name": "stdout",
     "output_type": "stream",
     "text": [
      "Source Test Label Accuracy: 0.8617708333333334 Target Test Label Accuracy: 0.6951041666666666\n",
      "Source Val Label Accuracy: 0.8553819444444445 Target Val Label Accuracy: 0.6929166666666666\n"
     ]
    }
   ],
   "source": [
    "print(\"Source Test Label Accuracy:\", experiment[\"results\"][\"source_test_label_accuracy\"], \"Target Test Label Accuracy:\", experiment[\"results\"][\"target_test_label_accuracy\"])\n",
    "print(\"Source Val Label Accuracy:\", experiment[\"results\"][\"source_val_label_accuracy\"], \"Target Val Label Accuracy:\", experiment[\"results\"][\"target_val_label_accuracy\"])"
   ]
  },
  {
   "cell_type": "code",
   "execution_count": 20,
   "id": "dacca602",
   "metadata": {
    "execution": {
     "iopub.execute_input": "2022-03-04T22:46:27.056960Z",
     "iopub.status.busy": "2022-03-04T22:46:27.056703Z",
     "iopub.status.idle": "2022-03-04T22:46:27.071874Z",
     "shell.execute_reply": "2022-03-04T22:46:27.072275Z"
    },
    "papermill": {
     "duration": 0.06831,
     "end_time": "2022-03-04T22:46:27.072403",
     "exception": false,
     "start_time": "2022-03-04T22:46:27.004093",
     "status": "completed"
    },
    "tags": [
     "experiment_json"
    ]
   },
   "outputs": [
    {
     "data": {
      "text/plain": [
       "'{\"experiment_name\": \"nQuery_oracle.run2\", \"parameters\": {\"experiment_name\": \"nQuery_oracle.run2\", \"device\": \"cuda\", \"lr\": 0.001, \"seed\": 1337, \"dataset_seed\": 1337, \"labels_source\": [\"3123D52\", \"3123D65\", \"3123D79\", \"3123D80\", \"3123D54\", \"3123D70\", \"3123D7B\", \"3123D89\", \"3123D58\", \"3123D76\", \"3123D7D\", \"3123EFE\", \"3123D64\", \"3123D78\", \"3123D7E\", \"3124E4A\"], \"labels_target\": [\"3123D52\", \"3123D65\", \"3123D79\", \"3123D80\", \"3123D54\", \"3123D70\", \"3123D7B\", \"3123D89\", \"3123D58\", \"3123D76\", \"3123D7D\", \"3123EFE\", \"3123D64\", \"3123D78\", \"3123D7E\", \"3124E4A\"], \"x_transforms_source\": [], \"x_transforms_target\": [], \"episode_transforms_source\": [], \"episode_transforms_target\": [], \"num_examples_per_domain_per_label_target\": 1000, \"n_shot\": 3, \"n_way\": 16, \"n_query\": 2, \"train_k_factor\": 1, \"val_k_factor\": 2, \"test_k_factor\": 2, \"torch_default_dtype\": \"torch.float32\", \"n_epoch\": 50, \"patience\": 3, \"criteria_for_best\": \"target_loss\", \"x_net\": [{\"class\": \"nnReshape\", \"kargs\": {\"shape\": [-1, 1, 2, 256]}}, {\"class\": \"Conv2d\", \"kargs\": {\"in_channels\": 1, \"out_channels\": 256, \"kernel_size\": [1, 7], \"bias\": false, \"padding\": [0, 3]}}, {\"class\": \"ReLU\", \"kargs\": {\"inplace\": true}}, {\"class\": \"BatchNorm2d\", \"kargs\": {\"num_features\": 256}}, {\"class\": \"Conv2d\", \"kargs\": {\"in_channels\": 256, \"out_channels\": 80, \"kernel_size\": [2, 7], \"bias\": true, \"padding\": [0, 3]}}, {\"class\": \"ReLU\", \"kargs\": {\"inplace\": true}}, {\"class\": \"BatchNorm2d\", \"kargs\": {\"num_features\": 80}}, {\"class\": \"Flatten\", \"kargs\": {}}, {\"class\": \"Linear\", \"kargs\": {\"in_features\": 20480, \"out_features\": 256}}, {\"class\": \"ReLU\", \"kargs\": {\"inplace\": true}}, {\"class\": \"BatchNorm1d\", \"kargs\": {\"num_features\": 256}}, {\"class\": \"Linear\", \"kargs\": {\"in_features\": 256, \"out_features\": 256}}], \"NUM_LOGS_PER_EPOCH\": 10, \"BEST_MODEL_PATH\": \"./best_model.pth\", \"pickle_name\": \"oracle.Run2_10kExamples_stratified_ds.2022A.pkl\", \"num_examples_per_domain_per_label_source\": 5000, \"domains_source\": [8, 32, 50], \"domains_target\": [14, 20, 26, 38, 44]}, \"results\": {\"source_test_label_accuracy\": 0.8617708333333334, \"source_test_label_loss\": 0.38295885920524597, \"target_test_label_accuracy\": 0.6951041666666666, \"target_test_label_loss\": 0.9538787007331848, \"source_val_label_accuracy\": 0.8553819444444445, \"source_val_label_loss\": 0.39118295907974243, \"target_val_label_accuracy\": 0.6929166666666666, \"target_val_label_loss\": 0.9130630493164062, \"total_epochs_trained\": 15, \"total_experiment_time_secs\": 918.9165003299713, \"confusion\": {\"8\": {\"15\": {\"2\": 16, \"15\": 562, \"12\": 22}, \"3\": {\"3\": 600}, \"6\": {\"6\": 490, \"14\": 70, \"4\": 7, \"8\": 31, \"11\": 2}, \"1\": {\"1\": 421, \"13\": 26, \"4\": 47, \"14\": 23, \"10\": 55, \"7\": 5, \"5\": 22, \"6\": 1}, \"8\": {\"8\": 477, \"11\": 56, \"6\": 63, \"4\": 4}, \"10\": {\"10\": 426, \"5\": 105, \"13\": 62, \"1\": 7}, \"9\": {\"9\": 600}, \"13\": {\"13\": 492, \"7\": 25, \"10\": 73, \"4\": 4, \"1\": 6}, \"12\": {\"12\": 566, \"15\": 32, \"2\": 2}, \"5\": {\"5\": 411, \"10\": 145, \"1\": 42, \"13\": 2}, \"0\": {\"0\": 600}, \"2\": {\"2\": 593, \"15\": 7}, \"11\": {\"8\": 225, \"11\": 325, \"7\": 29, \"12\": 12, \"6\": 8, \"4\": 1}, \"14\": {\"14\": 511, \"1\": 13, \"6\": 76}, \"7\": {\"7\": 491, \"4\": 99, \"13\": 8, \"1\": 2}, \"4\": {\"7\": 111, \"4\": 423, \"1\": 41, \"8\": 5, \"14\": 4, \"6\": 15, \"13\": 1}}, \"50\": {\"3\": {\"3\": 600}, \"15\": {\"15\": 533, \"6\": 22, \"12\": 19, \"9\": 23, \"4\": 3}, \"8\": {\"8\": 599, \"13\": 1}, \"4\": {\"4\": 443, \"5\": 131, \"7\": 19, \"15\": 5, \"6\": 2}, \"14\": {\"14\": 598, \"2\": 2}, \"0\": {\"0\": 520, \"2\": 54, \"10\": 26}, \"7\": {\"7\": 581, \"5\": 5, \"4\": 14}, \"6\": {\"6\": 530, \"15\": 36, \"4\": 3, \"5\": 30, \"12\": 1}, \"10\": {\"10\": 582, \"1\": 2, \"0\": 13, \"13\": 3}, \"5\": {\"5\": 408, \"4\": 144, \"7\": 21, \"6\": 27}, \"2\": {\"2\": 565, \"0\": 35}, \"12\": {\"12\": 535, \"15\": 13, \"11\": 41, \"9\": 11}, \"9\": {\"9\": 577, \"12\": 5, \"15\": 18}, \"1\": {\"1\": 588, \"11\": 4, \"13\": 8}, \"11\": {\"11\": 536, \"12\": 59, \"1\": 5}, \"13\": {\"13\": 593, \"1\": 6, \"10\": 1}}, \"32\": {\"5\": {\"15\": 60, \"5\": 499, \"14\": 16, \"2\": 19, \"7\": 6}, \"8\": {\"8\": 494, \"7\": 72, \"0\": 33, \"4\": 1}, \"11\": {\"4\": 208, \"13\": 81, \"11\": 296, \"0\": 14, \"7\": 1}, \"1\": {\"1\": 600}, \"10\": {\"10\": 600}, \"15\": {\"15\": 558, \"5\": 39, \"8\": 1, \"7\": 2}, \"3\": {\"3\": 573, \"4\": 4, \"13\": 22, \"11\": 1}, \"7\": {\"7\": 362, \"8\": 93, \"2\": 46, \"0\": 85, \"15\": 8, \"14\": 2, \"4\": 2, \"5\": 2}, \"4\": {\"11\": 133, \"4\": 434, \"13\": 19, \"3\": 4, \"0\": 10}, \"14\": {\"0\": 9, \"2\": 216, \"14\": 370, \"7\": 4, \"5\": 1}, \"9\": {\"9\": 598, \"12\": 2}, \"12\": {\"12\": 600}, \"6\": {\"6\": 600}, \"2\": {\"2\": 401, \"7\": 40, \"14\": 141, \"0\": 17, \"5\": 1}, \"0\": {\"7\": 94, \"0\": 375, \"8\": 42, \"4\": 36, \"2\": 42, \"11\": 6, \"13\": 1, \"14\": 4}, \"13\": {\"13\": 499, \"3\": 23, \"11\": 54, \"4\": 24}}, \"14\": {\"15\": {\"15\": 120}, \"3\": {\"3\": 115, \"14\": 1, \"6\": 1, \"7\": 1, \"2\": 2}, \"6\": {\"6\": 90, \"13\": 28, \"7\": 1, \"3\": 1}, \"1\": {\"1\": 120}, \"8\": {\"8\": 98, \"10\": 20, \"0\": 2}, \"10\": {\"0\": 29, \"10\": 53, \"8\": 32, \"3\": 4, \"12\": 1, \"5\": 1}, \"9\": {\"9\": 118, \"12\": 1, \"0\": 1}, \"13\": {\"13\": 82, \"6\": 38}, \"12\": {\"12\": 37, \"9\": 15, \"8\": 22, \"15\": 19, \"3\": 11, \"10\": 7, \"4\": 2, \"11\": 4, \"0\": 2, \"1\": 1}, \"5\": {\"5\": 76, \"14\": 30, \"2\": 11, \"4\": 1, \"0\": 1, \"10\": 1}, \"0\": {\"0\": 95, \"10\": 16, \"8\": 4, \"5\": 1, \"4\": 3, \"9\": 1}, \"2\": {\"7\": 28, \"5\": 23, \"14\": 28, \"2\": 32, \"3\": 5, \"4\": 3, \"13\": 1}, \"11\": {\"11\": 120}, \"14\": {\"2\": 31, \"14\": 39, \"5\": 35, \"7\": 12, \"0\": 1, \"3\": 2}, \"7\": {\"7\": 95, \"2\": 16, \"14\": 5, \"5\": 1, \"13\": 1, \"6\": 1, \"3\": 1}, \"4\": {\"4\": 112, \"0\": 6, \"5\": 2}}, \"20\": {\"3\": {\"15\": 4, \"7\": 16, \"3\": 35, \"5\": 6, \"2\": 16, \"9\": 13, \"4\": 29, \"12\": 1}, \"15\": {\"13\": 12, \"15\": 48, \"9\": 14, \"5\": 6, \"2\": 8, \"4\": 13, \"1\": 10, \"12\": 7, \"3\": 2}, \"8\": {\"8\": 63, \"11\": 24, \"14\": 30, \"0\": 3}, \"4\": {\"7\": 19, \"4\": 35, \"15\": 13, \"3\": 27, \"9\": 12, \"2\": 7, \"13\": 1, \"12\": 3, \"5\": 3}, \"14\": {\"8\": 22, \"14\": 93, \"7\": 3, \"11\": 2}, \"0\": {\"0\": 105, \"11\": 7, \"1\": 8}, \"7\": {\"7\": 84, \"4\": 14, \"6\": 2, \"3\": 11, \"10\": 7, \"9\": 2}, \"6\": {\"6\": 102, \"10\": 16, \"7\": 2}, \"10\": {\"6\": 18, \"10\": 82, \"7\": 19, \"12\": 1}, \"5\": {\"4\": 5, \"9\": 15, \"2\": 33, \"5\": 42, \"1\": 8, \"15\": 7, \"3\": 10}, \"2\": {\"3\": 15, \"2\": 25, \"9\": 24, \"15\": 15, \"5\": 23, \"4\": 9, \"1\": 7, \"7\": 2}, \"12\": {\"12\": 58, \"13\": 52, \"4\": 2, \"7\": 2, \"3\": 1, \"15\": 3, \"10\": 1, \"9\": 1}, \"9\": {\"12\": 1, \"3\": 13, \"9\": 21, \"15\": 28, \"5\": 14, \"2\": 28, \"1\": 3, \"4\": 10, \"7\": 2}, \"1\": {\"1\": 91, \"0\": 5, \"5\": 11, \"15\": 8, \"2\": 4, \"9\": 1}, \"11\": {\"11\": 72, \"14\": 2, \"8\": 34, \"0\": 11, \"5\": 1}, \"13\": {\"13\": 67, \"12\": 41, \"9\": 1, \"15\": 6, \"4\": 4, \"3\": 1}}, \"44\": {\"5\": {\"8\": 13, \"15\": 13, \"5\": 89, \"14\": 5}, \"8\": {\"8\": 102, \"5\": 7, \"0\": 8, \"15\": 3}, \"11\": {\"11\": 120}, \"1\": {\"1\": 104, \"2\": 14, \"12\": 2}, \"10\": {\"10\": 113, \"9\": 1, \"6\": 3, \"7\": 3}, \"15\": {\"15\": 105, \"5\": 14, \"8\": 1}, \"3\": {\"3\": 110, \"12\": 10}, \"7\": {\"9\": 37, \"7\": 82, \"6\": 1}, \"4\": {\"14\": 14, \"4\": 106}, \"14\": {\"14\": 104, \"4\": 16}, \"9\": {\"9\": 87, \"7\": 29, \"6\": 4}, \"12\": {\"12\": 105, \"3\": 15}, \"6\": {\"6\": 118, \"7\": 2}, \"2\": {\"2\": 80, \"1\": 40}, \"0\": {\"0\": 96, \"5\": 1, \"8\": 21, \"15\": 2}, \"13\": {\"13\": 115, \"4\": 3, \"6\": 2}}, \"38\": {\"14\": {\"8\": 4, \"14\": 61, \"2\": 41, \"13\": 2, \"4\": 6, \"7\": 3, \"12\": 2, \"5\": 1}, \"0\": {\"0\": 112, \"7\": 8}, \"13\": {\"3\": 17, \"10\": 30, \"13\": 72, \"4\": 1}, \"7\": {\"7\": 116, \"0\": 4}, \"9\": {\"9\": 112, \"5\": 7, \"8\": 1}, \"3\": {\"13\": 38, \"4\": 9, \"10\": 29, \"3\": 42, \"11\": 2}, \"11\": {\"11\": 120}, \"6\": {\"6\": 117, \"15\": 3}, \"8\": {\"8\": 111, \"5\": 7, \"9\": 1, \"12\": 1}, \"4\": {\"4\": 91, \"13\": 3, \"3\": 5, \"10\": 17, \"7\": 4}, \"5\": {\"5\": 34, \"8\": 41, \"12\": 40, \"9\": 5}, \"10\": {\"4\": 19, \"13\": 7, \"10\": 74, \"3\": 20}, \"1\": {\"1\": 105, \"15\": 15}, \"2\": {\"2\": 109, \"14\": 11}, \"15\": {\"15\": 67, \"1\": 28, \"6\": 24, \"9\": 1}, \"12\": {\"12\": 72, \"5\": 42, \"9\": 2, \"8\": 3, \"14\": 1}}, \"26\": {\"13\": {\"13\": 96, \"9\": 21, \"8\": 2, \"7\": 1}, \"2\": {\"2\": 62, \"9\": 13, \"15\": 6, \"8\": 28, \"7\": 10, \"0\": 1}, \"8\": {\"2\": 33, \"9\": 20, \"8\": 55, \"15\": 5, \"7\": 3, \"10\": 3, \"0\": 1}, \"9\": {\"9\": 55, \"8\": 35, \"13\": 16, \"2\": 8, \"7\": 6}, \"12\": {\"12\": 120}, \"4\": {\"4\": 117, \"3\": 3}, \"3\": {\"3\": 83, \"7\": 33, \"4\": 1, \"2\": 3}, \"15\": {\"15\": 72, \"0\": 26, \"8\": 5, \"10\": 7, \"2\": 7, \"9\": 1, \"14\": 2}, \"14\": {\"10\": 17, \"14\": 56, \"0\": 24, \"1\": 10, \"15\": 3, \"8\": 1, \"5\": 6, \"6\": 3}, \"10\": {\"0\": 22, \"6\": 9, \"14\": 17, \"1\": 9, \"10\": 18, \"2\": 5, \"13\": 2, \"9\": 7, \"8\": 16, \"15\": 14, \"5\": 1}, \"7\": {\"9\": 10, \"7\": 66, \"3\": 25, \"2\": 11, \"13\": 4, \"8\": 4}, \"11\": {\"11\": 120}, \"6\": {\"5\": 41, \"6\": 72, \"1\": 2, \"14\": 2, \"10\": 2, \"0\": 1}, \"1\": {\"1\": 102, \"5\": 11, \"14\": 2, \"6\": 5}, \"5\": {\"6\": 46, \"5\": 48, \"14\": 8, \"1\": 7, \"10\": 8, \"0\": 3}, \"0\": {\"15\": 34, \"0\": 34, \"2\": 2, \"9\": 2, \"14\": 18, \"10\": 24, \"8\": 5, \"5\": 1}}}, \"per_domain_accuracy\": {\"8\": {\"accuracy\": 0.8320833333333333, \"source?\": true}, \"50\": {\"accuracy\": 0.9154166666666667, \"source?\": true}, \"32\": {\"accuracy\": 0.8186458333333333, \"source?\": true}, \"14\": {\"accuracy\": 0.7302083333333333, \"source?\": false}, \"20\": {\"accuracy\": 0.5328125, \"source?\": false}, \"44\": {\"accuracy\": 0.8520833333333333, \"source?\": false}, \"38\": {\"accuracy\": 0.7369791666666666, \"source?\": false}, \"26\": {\"accuracy\": 0.6125, \"source?\": false}}}, \"history\": {\"epoch_indices\": [1, 2, 3, 4, 5, 6, 7, 8, 9, 10, 11, 12, 13, 14, 15], \"train_label_loss\": [1.1607491861070904, 0.7137721546349072, 0.49324866601753803, 0.43907095891733966, 0.40732664180298644, 0.3806814167932385, 0.3585927685172785, 0.34271062773075844, 0.32402648670510165, 0.30819984828521096, 0.2947818334941708, 0.27556954363183606, 0.26346999490278816, 0.24782837303355337, 0.22858998601857042], \"source_val_label_loss\": [3.2325706481933594, 0.5889365077018738, 0.4979405403137207, 0.4976215064525604, 0.4563375413417816, 0.4380224943161011, 0.46730074286460876, 0.42284342646598816, 0.39511075615882874, 0.39274534583091736, 0.39118295907974243, 0.3865736424922943, 0.370992511510849, 0.3877149820327759, 0.3753909468650818], \"target_val_label_loss\": [3.8325765132904053, 1.1582523584365845, 0.9861502051353455, 1.091617226600647, 1.0739740133285522, 0.9787152409553528, 1.040248990058899, 1.0001585483551025, 0.9307653903961182, 0.9477294087409973, 0.9130630493164062, 0.9918104410171509, 0.9610462784767151, 1.0070877075195312, 0.9935585856437683], \"source_val_acc_label\": [0.5122222222222222, 0.7955555555555556, 0.8207986111111111, 0.8241666666666667, 0.8430902777777778, 0.8384027777777778, 0.8430902777777778, 0.8503472222222223, 0.855625, 0.8545138888888889, 0.8553819444444445, 0.8581944444444445, 0.8628472222222222, 0.8592361111111111, 0.8652777777777778], \"target_val_acc_label\": [0.40677083333333336, 0.6258333333333334, 0.6565625, 0.6542708333333334, 0.6640625, 0.6772916666666666, 0.6740625, 0.6844791666666666, 0.6894791666666666, 0.6885416666666667, 0.6929166666666666, 0.6832291666666667, 0.6884375, 0.6889583333333333, 0.6964583333333333]}, \"dataset_metrics\": {\"source\": {\"train\": {\"n_unique_x\": 168000, \"n_unique_y\": 16, \"n_batch/episode\": 2100}, \"val\": {\"n_unique_x\": 36000, \"n_unique_y\": 16, \"n_batch/episode\": 900}, \"test\": {\"n_unique_x\": 36000, \"n_unique_y\": 16, \"n_batch/episode\": 900}}, \"target\": {\"train\": {\"n_unique_x\": 56000, \"n_unique_y\": 16, \"n_batch/episode\": 700}, \"val\": {\"n_unique_x\": 12000, \"n_unique_y\": 16, \"n_batch/episode\": 300}, \"test\": {\"n_unique_x\": 12000, \"n_unique_y\": 16, \"n_batch/episode\": 300}}}}'"
      ]
     },
     "execution_count": 20,
     "metadata": {},
     "output_type": "execute_result"
    }
   ],
   "source": [
    "json.dumps(experiment)"
   ]
  }
 ],
 "metadata": {
  "celltoolbar": "Tags",
  "kernelspec": {
   "display_name": "Python 3 (ipykernel)",
   "language": "python",
   "name": "python3"
  },
  "language_info": {
   "codemirror_mode": {
    "name": "ipython",
    "version": 3
   },
   "file_extension": ".py",
   "mimetype": "text/x-python",
   "name": "python",
   "nbconvert_exporter": "python",
   "pygments_lexer": "ipython3",
   "version": "3.8.10"
  },
  "papermill": {
   "default_parameters": {},
   "duration": 969.277127,
   "end_time": "2022-03-04T22:46:27.828874",
   "environment_variables": {},
   "exception": null,
   "input_path": "/mnt/wd500GB/CSC500/csc500-main/csc500-notebooks/templates/ptn_template.ipynb",
   "output_path": "trial.ipynb",
   "parameters": {
    "parameters": {
     "BEST_MODEL_PATH": "./best_model.pth",
     "NUM_LOGS_PER_EPOCH": 10,
     "criteria_for_best": "target_loss",
     "dataset_seed": 1337,
     "device": "cuda",
     "domains_source": [
      8,
      32,
      50
     ],
     "domains_target": [
      14,
      20,
      26,
      38,
      44
     ],
     "episode_transforms_source": [],
     "episode_transforms_target": [],
     "experiment_name": "nQuery_oracle.run2",
     "labels_source": [
      "3123D52",
      "3123D65",
      "3123D79",
      "3123D80",
      "3123D54",
      "3123D70",
      "3123D7B",
      "3123D89",
      "3123D58",
      "3123D76",
      "3123D7D",
      "3123EFE",
      "3123D64",
      "3123D78",
      "3123D7E",
      "3124E4A"
     ],
     "labels_target": [
      "3123D52",
      "3123D65",
      "3123D79",
      "3123D80",
      "3123D54",
      "3123D70",
      "3123D7B",
      "3123D89",
      "3123D58",
      "3123D76",
      "3123D7D",
      "3123EFE",
      "3123D64",
      "3123D78",
      "3123D7E",
      "3124E4A"
     ],
     "lr": 0.001,
     "n_epoch": 50,
     "n_query": 2,
     "n_shot": 3,
     "n_way": 16,
     "num_examples_per_domain_per_label_source": 5000,
     "num_examples_per_domain_per_label_target": 1000,
     "patience": 3,
     "pickle_name": "oracle.Run2_10kExamples_stratified_ds.2022A.pkl",
     "seed": 1337,
     "test_k_factor": 2,
     "torch_default_dtype": "torch.float32",
     "train_k_factor": 1,
     "val_k_factor": 2,
     "x_net": [
      {
       "class": "nnReshape",
       "kargs": {
        "shape": [
         -1,
         1,
         2,
         256
        ]
       }
      },
      {
       "class": "Conv2d",
       "kargs": {
        "bias": false,
        "in_channels": 1,
        "kernel_size": [
         1,
         7
        ],
        "out_channels": 256,
        "padding": [
         0,
         3
        ]
       }
      },
      {
       "class": "ReLU",
       "kargs": {
        "inplace": true
       }
      },
      {
       "class": "BatchNorm2d",
       "kargs": {
        "num_features": 256
       }
      },
      {
       "class": "Conv2d",
       "kargs": {
        "bias": true,
        "in_channels": 256,
        "kernel_size": [
         2,
         7
        ],
        "out_channels": 80,
        "padding": [
         0,
         3
        ]
       }
      },
      {
       "class": "ReLU",
       "kargs": {
        "inplace": true
       }
      },
      {
       "class": "BatchNorm2d",
       "kargs": {
        "num_features": 80
       }
      },
      {
       "class": "Flatten",
       "kargs": {}
      },
      {
       "class": "Linear",
       "kargs": {
        "in_features": 20480,
        "out_features": 256
       }
      },
      {
       "class": "ReLU",
       "kargs": {
        "inplace": true
       }
      },
      {
       "class": "BatchNorm1d",
       "kargs": {
        "num_features": 256
       }
      },
      {
       "class": "Linear",
       "kargs": {
        "in_features": 256,
        "out_features": 256
       }
      }
     ],
     "x_transforms_source": [],
     "x_transforms_target": []
    }
   },
   "start_time": "2022-03-04T22:30:18.551747",
   "version": "2.3.4"
  }
 },
 "nbformat": 4,
 "nbformat_minor": 5
}