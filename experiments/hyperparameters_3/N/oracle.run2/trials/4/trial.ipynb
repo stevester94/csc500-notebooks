{
 "cells": [
  {
   "cell_type": "markdown",
   "id": "9fea5f46",
   "metadata": {
    "papermill": {
     "duration": 0.015061,
     "end_time": "2022-03-04T22:52:19.438511",
     "exception": false,
     "start_time": "2022-03-04T22:52:19.423450",
     "status": "completed"
    },
    "tags": []
   },
   "source": [
    "# PTN Template\n",
    "This notebook serves as a template for single dataset PTN experiments  \n",
    "It can be run on its own by setting STANDALONE to True (do a find for \"STANDALONE\" to see where)  \n",
    "But it is intended to be executed as part of a *papermill.py script. See any of the   \n",
    "experimentes with a papermill script to get started with that workflow.  "
   ]
  },
  {
   "cell_type": "code",
   "execution_count": 1,
   "id": "0902182a",
   "metadata": {
    "execution": {
     "iopub.execute_input": "2022-03-04T22:52:19.470695Z",
     "iopub.status.busy": "2022-03-04T22:52:19.469193Z",
     "iopub.status.idle": "2022-03-04T22:52:20.263092Z",
     "shell.execute_reply": "2022-03-04T22:52:20.262586Z"
    },
    "papermill": {
     "duration": 0.81517,
     "end_time": "2022-03-04T22:52:20.263209",
     "exception": false,
     "start_time": "2022-03-04T22:52:19.448039",
     "status": "completed"
    },
    "tags": []
   },
   "outputs": [],
   "source": [
    "%load_ext autoreload\n",
    "%autoreload 2\n",
    "%matplotlib inline\n",
    "\n",
    "    \n",
    "import os, json, sys, time, random\n",
    "import numpy as np\n",
    "import torch\n",
    "from torch.optim import Adam\n",
    "from  easydict import EasyDict\n",
    "import matplotlib.pyplot as plt\n",
    "\n",
    "from steves_models.steves_ptn import Steves_Prototypical_Network\n",
    "\n",
    "from steves_utils.lazy_iterable_wrapper import Lazy_Iterable_Wrapper\n",
    "from steves_utils.iterable_aggregator import Iterable_Aggregator\n",
    "from steves_utils.ptn_train_eval_test_jig import  PTN_Train_Eval_Test_Jig\n",
    "from steves_utils.torch_sequential_builder import build_sequential\n",
    "from steves_utils.torch_utils import get_dataset_metrics, ptn_confusion_by_domain_over_dataloader\n",
    "from steves_utils.utils_v2 import (per_domain_accuracy_from_confusion, get_datasets_base_path)\n",
    "from steves_utils.PTN.utils import independent_accuracy_assesment\n",
    "\n",
    "from steves_utils.stratified_dataset.episodic_accessor import Episodic_Accessor_Factory\n",
    "\n",
    "from steves_utils.ptn_do_report import (\n",
    "    get_loss_curve,\n",
    "    get_results_table,\n",
    "    get_parameters_table,\n",
    "    get_domain_accuracies,\n",
    ")\n",
    "\n",
    "from steves_utils.transforms import get_chained_transform"
   ]
  },
  {
   "cell_type": "markdown",
   "id": "41c840b4",
   "metadata": {
    "papermill": {
     "duration": 0.009271,
     "end_time": "2022-03-04T22:52:20.287433",
     "exception": false,
     "start_time": "2022-03-04T22:52:20.278162",
     "status": "completed"
    },
    "tags": []
   },
   "source": [
    "# Required Parameters\n",
    "These are allowed parameters, not defaults\n",
    "Each of these values need to be present in the injected parameters (the notebook will raise an exception if they are not present)\n",
    "\n",
    "Papermill uses the cell tag \"parameters\" to inject the real parameters below this cell.\n",
    "Enable tags to see what I mean"
   ]
  },
  {
   "cell_type": "code",
   "execution_count": 2,
   "id": "fd44eb83",
   "metadata": {
    "execution": {
     "iopub.execute_input": "2022-03-04T22:52:20.309522Z",
     "iopub.status.busy": "2022-03-04T22:52:20.309249Z",
     "iopub.status.idle": "2022-03-04T22:52:20.323192Z",
     "shell.execute_reply": "2022-03-04T22:52:20.322801Z"
    },
    "papermill": {
     "duration": 0.026462,
     "end_time": "2022-03-04T22:52:20.323292",
     "exception": false,
     "start_time": "2022-03-04T22:52:20.296830",
     "status": "completed"
    },
    "tags": []
   },
   "outputs": [],
   "source": [
    "required_parameters = {\n",
    "    \"experiment_name\",\n",
    "    \"lr\",\n",
    "    \"device\",\n",
    "    \"seed\",\n",
    "    \"dataset_seed\",\n",
    "    \"labels_source\",\n",
    "    \"labels_target\",\n",
    "    \"domains_source\",\n",
    "    \"domains_target\",\n",
    "    \"num_examples_per_domain_per_label_source\",\n",
    "    \"num_examples_per_domain_per_label_target\",\n",
    "    \"n_shot\",\n",
    "    \"n_way\",\n",
    "    \"n_query\",\n",
    "    \"train_k_factor\",\n",
    "    \"val_k_factor\",\n",
    "    \"test_k_factor\",\n",
    "    \"n_epoch\",\n",
    "    \"patience\",\n",
    "    \"criteria_for_best\",\n",
    "    \"x_transforms_source\",\n",
    "    \"x_transforms_target\",\n",
    "    \"episode_transforms_source\",\n",
    "    \"episode_transforms_target\",\n",
    "    \"pickle_name\",\n",
    "    \"x_net\",\n",
    "    \"NUM_LOGS_PER_EPOCH\",\n",
    "    \"BEST_MODEL_PATH\",\n",
    "    \"torch_default_dtype\"\n",
    "}"
   ]
  },
  {
   "cell_type": "code",
   "execution_count": 3,
   "id": "fa3f0049",
   "metadata": {
    "execution": {
     "iopub.execute_input": "2022-03-04T22:52:20.358334Z",
     "iopub.status.busy": "2022-03-04T22:52:20.354125Z",
     "iopub.status.idle": "2022-03-04T22:52:20.368266Z",
     "shell.execute_reply": "2022-03-04T22:52:20.367796Z"
    },
    "papermill": {
     "duration": 0.030125,
     "end_time": "2022-03-04T22:52:20.368360",
     "exception": false,
     "start_time": "2022-03-04T22:52:20.338235",
     "status": "completed"
    },
    "tags": [
     "parameters"
    ]
   },
   "outputs": [],
   "source": [
    "\n",
    "\n",
    "standalone_parameters = {}\n",
    "standalone_parameters[\"experiment_name\"] = \"STANDALONE PTN\"\n",
    "standalone_parameters[\"lr\"] = 0.0001\n",
    "standalone_parameters[\"device\"] = \"cuda\"\n",
    "\n",
    "standalone_parameters[\"seed\"] = 1337\n",
    "standalone_parameters[\"dataset_seed\"] = 1337\n",
    "\n",
    "\n",
    "standalone_parameters[\"num_examples_per_domain_per_label_source\"]=100\n",
    "standalone_parameters[\"num_examples_per_domain_per_label_target\"]=100\n",
    "\n",
    "standalone_parameters[\"n_shot\"] = 3\n",
    "standalone_parameters[\"n_query\"]  = 2\n",
    "standalone_parameters[\"train_k_factor\"] = 1\n",
    "standalone_parameters[\"val_k_factor\"] = 2\n",
    "standalone_parameters[\"test_k_factor\"] = 2\n",
    "\n",
    "\n",
    "standalone_parameters[\"n_epoch\"] = 100\n",
    "\n",
    "standalone_parameters[\"patience\"] = 10\n",
    "standalone_parameters[\"criteria_for_best\"] = \"target_accuracy\"\n",
    "\n",
    "standalone_parameters[\"x_transforms_source\"] = [\"unit_power\"]\n",
    "standalone_parameters[\"x_transforms_target\"] = [\"unit_power\"]\n",
    "standalone_parameters[\"episode_transforms_source\"] = []\n",
    "standalone_parameters[\"episode_transforms_target\"] = []\n",
    "\n",
    "standalone_parameters[\"torch_default_dtype\"] = \"torch.float32\" \n",
    "\n",
    "\n",
    "\n",
    "standalone_parameters[\"x_net\"] =     [\n",
    "    {\"class\": \"nnReshape\", \"kargs\": {\"shape\":[-1, 1, 2, 256]}},\n",
    "    {\"class\": \"Conv2d\", \"kargs\": { \"in_channels\":1, \"out_channels\":256, \"kernel_size\":(1,7), \"bias\":False, \"padding\":(0,3), },},\n",
    "    {\"class\": \"ReLU\", \"kargs\": {\"inplace\": True}},\n",
    "    {\"class\": \"BatchNorm2d\", \"kargs\": {\"num_features\":256}},\n",
    "\n",
    "    {\"class\": \"Conv2d\", \"kargs\": { \"in_channels\":256, \"out_channels\":80, \"kernel_size\":(2,7), \"bias\":True, \"padding\":(0,3), },},\n",
    "    {\"class\": \"ReLU\", \"kargs\": {\"inplace\": True}},\n",
    "    {\"class\": \"BatchNorm2d\", \"kargs\": {\"num_features\":80}},\n",
    "    {\"class\": \"Flatten\", \"kargs\": {}},\n",
    "\n",
    "    {\"class\": \"Linear\", \"kargs\": {\"in_features\": 80*256, \"out_features\": 256}}, # 80 units per IQ pair\n",
    "    {\"class\": \"ReLU\", \"kargs\": {\"inplace\": True}},\n",
    "    {\"class\": \"BatchNorm1d\", \"kargs\": {\"num_features\":256}},\n",
    "\n",
    "    {\"class\": \"Linear\", \"kargs\": {\"in_features\": 256, \"out_features\": 256}},\n",
    "]\n",
    "\n",
    "# Parameters relevant to results\n",
    "# These parameters will basically never need to change\n",
    "standalone_parameters[\"NUM_LOGS_PER_EPOCH\"] = 10\n",
    "standalone_parameters[\"BEST_MODEL_PATH\"] = \"./best_model.pth\"\n",
    "\n",
    "# uncomment for CORES dataset\n",
    "from steves_utils.CORES.utils import (\n",
    "    ALL_NODES,\n",
    "    ALL_NODES_MINIMUM_1000_EXAMPLES,\n",
    "    ALL_DAYS\n",
    ")\n",
    "\n",
    "\n",
    "standalone_parameters[\"labels_source\"] = ALL_NODES\n",
    "standalone_parameters[\"labels_target\"] = ALL_NODES\n",
    "\n",
    "standalone_parameters[\"domains_source\"] = [1]\n",
    "standalone_parameters[\"domains_target\"] = [2,3,4,5]\n",
    "\n",
    "standalone_parameters[\"pickle_name\"] = \"cores.stratified_ds.2022A.pkl\"\n",
    "\n",
    "\n",
    "# Uncomment these for ORACLE dataset\n",
    "# from steves_utils.ORACLE.utils_v2 import (\n",
    "#     ALL_DISTANCES_FEET,\n",
    "#     ALL_RUNS,\n",
    "#     ALL_SERIAL_NUMBERS,\n",
    "# )\n",
    "# standalone_parameters[\"labels_source\"] = ALL_SERIAL_NUMBERS\n",
    "# standalone_parameters[\"labels_target\"] = ALL_SERIAL_NUMBERS\n",
    "# standalone_parameters[\"domains_source\"] = [8,20, 38,50]\n",
    "# standalone_parameters[\"domains_target\"] = [14, 26, 32, 44, 56]\n",
    "# standalone_parameters[\"pickle_name\"] = \"oracle.frame_indexed.stratified_ds.2022A.pkl\"\n",
    "# standalone_parameters[\"num_examples_per_domain_per_label_source\"]=1000\n",
    "# standalone_parameters[\"num_examples_per_domain_per_label_target\"]=1000\n",
    "\n",
    "# Uncomment these for Metahan dataset\n",
    "# standalone_parameters[\"labels_source\"] = list(range(19))\n",
    "# standalone_parameters[\"labels_target\"] = list(range(19))\n",
    "# standalone_parameters[\"domains_source\"] = [0]\n",
    "# standalone_parameters[\"domains_target\"] = [1]\n",
    "# standalone_parameters[\"pickle_name\"] = \"metehan.stratified_ds.2022A.pkl\"\n",
    "# standalone_parameters[\"n_way\"]  = len(standalone_parameters[\"labels_source\"])\n",
    "# standalone_parameters[\"num_examples_per_domain_per_label_source\"]=200\n",
    "# standalone_parameters[\"num_examples_per_domain_per_label_target\"]=100\n",
    "\n",
    "\n",
    "standalone_parameters[\"n_way\"]  = len(standalone_parameters[\"labels_source\"])"
   ]
  },
  {
   "cell_type": "code",
   "execution_count": 4,
   "id": "b05a5dce",
   "metadata": {
    "execution": {
     "iopub.execute_input": "2022-03-04T22:52:20.401135Z",
     "iopub.status.busy": "2022-03-04T22:52:20.399111Z",
     "iopub.status.idle": "2022-03-04T22:52:20.411400Z",
     "shell.execute_reply": "2022-03-04T22:52:20.410940Z"
    },
    "papermill": {
     "duration": 0.028351,
     "end_time": "2022-03-04T22:52:20.411495",
     "exception": false,
     "start_time": "2022-03-04T22:52:20.383144",
     "status": "completed"
    },
    "tags": [
     "injected-parameters"
    ]
   },
   "outputs": [],
   "source": [
    "# Parameters\n",
    "parameters = {\n",
    "    \"experiment_name\": \"nQuery_oracle.run2\",\n",
    "    \"device\": \"cuda\",\n",
    "    \"lr\": 0.001,\n",
    "    \"seed\": 1337,\n",
    "    \"dataset_seed\": 1337,\n",
    "    \"labels_source\": [\n",
    "        \"3123D52\",\n",
    "        \"3123D65\",\n",
    "        \"3123D79\",\n",
    "        \"3123D80\",\n",
    "        \"3123D54\",\n",
    "        \"3123D70\",\n",
    "        \"3123D7B\",\n",
    "        \"3123D89\",\n",
    "        \"3123D58\",\n",
    "        \"3123D76\",\n",
    "        \"3123D7D\",\n",
    "        \"3123EFE\",\n",
    "        \"3123D64\",\n",
    "        \"3123D78\",\n",
    "        \"3123D7E\",\n",
    "        \"3124E4A\",\n",
    "    ],\n",
    "    \"labels_target\": [\n",
    "        \"3123D52\",\n",
    "        \"3123D65\",\n",
    "        \"3123D79\",\n",
    "        \"3123D80\",\n",
    "        \"3123D54\",\n",
    "        \"3123D70\",\n",
    "        \"3123D7B\",\n",
    "        \"3123D89\",\n",
    "        \"3123D58\",\n",
    "        \"3123D76\",\n",
    "        \"3123D7D\",\n",
    "        \"3123EFE\",\n",
    "        \"3123D64\",\n",
    "        \"3123D78\",\n",
    "        \"3123D7E\",\n",
    "        \"3124E4A\",\n",
    "    ],\n",
    "    \"x_transforms_source\": [],\n",
    "    \"x_transforms_target\": [],\n",
    "    \"episode_transforms_source\": [],\n",
    "    \"episode_transforms_target\": [],\n",
    "    \"num_examples_per_domain_per_label_target\": 1000,\n",
    "    \"n_shot\": 3,\n",
    "    \"n_way\": 16,\n",
    "    \"n_query\": 2,\n",
    "    \"train_k_factor\": 1,\n",
    "    \"val_k_factor\": 2,\n",
    "    \"test_k_factor\": 2,\n",
    "    \"torch_default_dtype\": \"torch.float32\",\n",
    "    \"n_epoch\": 50,\n",
    "    \"patience\": 3,\n",
    "    \"criteria_for_best\": \"target_loss\",\n",
    "    \"x_net\": [\n",
    "        {\"class\": \"nnReshape\", \"kargs\": {\"shape\": [-1, 1, 2, 256]}},\n",
    "        {\n",
    "            \"class\": \"Conv2d\",\n",
    "            \"kargs\": {\n",
    "                \"in_channels\": 1,\n",
    "                \"out_channels\": 256,\n",
    "                \"kernel_size\": [1, 7],\n",
    "                \"bias\": False,\n",
    "                \"padding\": [0, 3],\n",
    "            },\n",
    "        },\n",
    "        {\"class\": \"ReLU\", \"kargs\": {\"inplace\": True}},\n",
    "        {\"class\": \"BatchNorm2d\", \"kargs\": {\"num_features\": 256}},\n",
    "        {\n",
    "            \"class\": \"Conv2d\",\n",
    "            \"kargs\": {\n",
    "                \"in_channels\": 256,\n",
    "                \"out_channels\": 80,\n",
    "                \"kernel_size\": [2, 7],\n",
    "                \"bias\": True,\n",
    "                \"padding\": [0, 3],\n",
    "            },\n",
    "        },\n",
    "        {\"class\": \"ReLU\", \"kargs\": {\"inplace\": True}},\n",
    "        {\"class\": \"BatchNorm2d\", \"kargs\": {\"num_features\": 80}},\n",
    "        {\"class\": \"Flatten\", \"kargs\": {}},\n",
    "        {\"class\": \"Linear\", \"kargs\": {\"in_features\": 20480, \"out_features\": 256}},\n",
    "        {\"class\": \"ReLU\", \"kargs\": {\"inplace\": True}},\n",
    "        {\"class\": \"BatchNorm1d\", \"kargs\": {\"num_features\": 256}},\n",
    "        {\"class\": \"Linear\", \"kargs\": {\"in_features\": 256, \"out_features\": 256}},\n",
    "    ],\n",
    "    \"NUM_LOGS_PER_EPOCH\": 10,\n",
    "    \"BEST_MODEL_PATH\": \"./best_model.pth\",\n",
    "    \"pickle_name\": \"oracle.Run2_10kExamples_stratified_ds.2022A.pkl\",\n",
    "    \"num_examples_per_domain_per_label_source\": 10000,\n",
    "    \"domains_source\": [8, 32, 50],\n",
    "    \"domains_target\": [14, 20, 26, 38, 44],\n",
    "}\n"
   ]
  },
  {
   "cell_type": "code",
   "execution_count": 5,
   "id": "8fa1cc33",
   "metadata": {
    "execution": {
     "iopub.execute_input": "2022-03-04T22:52:20.437654Z",
     "iopub.status.busy": "2022-03-04T22:52:20.437359Z",
     "iopub.status.idle": "2022-03-04T22:52:20.445554Z",
     "shell.execute_reply": "2022-03-04T22:52:20.445301Z"
    },
    "papermill": {
     "duration": 0.02085,
     "end_time": "2022-03-04T22:52:20.445604",
     "exception": false,
     "start_time": "2022-03-04T22:52:20.424754",
     "status": "completed"
    },
    "tags": []
   },
   "outputs": [],
   "source": [
    "# Set this to True if you want to run this template directly\n",
    "STANDALONE = False\n",
    "if STANDALONE:\n",
    "    print(\"parameters not injected, running with standalone_parameters\")\n",
    "    parameters = standalone_parameters\n",
    "\n",
    "if not 'parameters' in locals() and not 'parameters' in globals():\n",
    "    raise Exception(\"Parameter injection failed\")\n",
    "\n",
    "#Use an easy dict for all the parameters\n",
    "p = EasyDict(parameters)\n",
    "\n",
    "supplied_keys = set(p.keys())\n",
    "\n",
    "if  supplied_keys != required_parameters:\n",
    "    print(\"Parameters are incorrect\")\n",
    "    if len(supplied_keys - required_parameters)>0: print(\"Shouldn't have:\", str(supplied_keys - required_parameters))\n",
    "    if len(required_parameters - supplied_keys)>0: print(\"Need to have:\", str(required_parameters - supplied_keys))\n",
    "    raise RuntimeError(\"Parameters are incorrect\")\n",
    "\n"
   ]
  },
  {
   "cell_type": "code",
   "execution_count": 6,
   "id": "3a028d58",
   "metadata": {
    "execution": {
     "iopub.execute_input": "2022-03-04T22:52:20.470051Z",
     "iopub.status.busy": "2022-03-04T22:52:20.469799Z",
     "iopub.status.idle": "2022-03-04T22:52:20.478406Z",
     "shell.execute_reply": "2022-03-04T22:52:20.478193Z"
    },
    "papermill": {
     "duration": 0.020184,
     "end_time": "2022-03-04T22:52:20.478459",
     "exception": false,
     "start_time": "2022-03-04T22:52:20.458275",
     "status": "completed"
    },
    "tags": []
   },
   "outputs": [],
   "source": [
    "###################################\n",
    "# Set the RNGs and make it all deterministic\n",
    "###################################\n",
    "np.random.seed(p.seed)\n",
    "random.seed(p.seed)\n",
    "torch.manual_seed(p.seed)\n",
    "\n",
    "torch.use_deterministic_algorithms(True) "
   ]
  },
  {
   "cell_type": "code",
   "execution_count": 7,
   "id": "b691acf6",
   "metadata": {
    "execution": {
     "iopub.execute_input": "2022-03-04T22:52:20.504244Z",
     "iopub.status.busy": "2022-03-04T22:52:20.503994Z",
     "iopub.status.idle": "2022-03-04T22:52:20.516836Z",
     "shell.execute_reply": "2022-03-04T22:52:20.516482Z"
    },
    "papermill": {
     "duration": 0.024679,
     "end_time": "2022-03-04T22:52:20.516924",
     "exception": false,
     "start_time": "2022-03-04T22:52:20.492245",
     "status": "completed"
    },
    "tags": []
   },
   "outputs": [],
   "source": [
    "###########################################\n",
    "# The stratified datasets honor this\n",
    "###########################################\n",
    "torch.set_default_dtype(eval(p.torch_default_dtype))"
   ]
  },
  {
   "cell_type": "code",
   "execution_count": 8,
   "id": "b5fba671",
   "metadata": {
    "execution": {
     "iopub.execute_input": "2022-03-04T22:52:20.542994Z",
     "iopub.status.busy": "2022-03-04T22:52:20.542736Z",
     "iopub.status.idle": "2022-03-04T22:52:20.580683Z",
     "shell.execute_reply": "2022-03-04T22:52:20.581033Z"
    },
    "papermill": {
     "duration": 0.050023,
     "end_time": "2022-03-04T22:52:20.581140",
     "exception": false,
     "start_time": "2022-03-04T22:52:20.531117",
     "status": "completed"
    },
    "tags": []
   },
   "outputs": [],
   "source": [
    "###################################\n",
    "# Build the network(s)\n",
    "# Note: It's critical to do this AFTER setting the RNG\n",
    "# (This is due to the randomized initial weights)\n",
    "###################################\n",
    "x_net = build_sequential(p.x_net)"
   ]
  },
  {
   "cell_type": "code",
   "execution_count": 9,
   "id": "5d7e61cc",
   "metadata": {
    "execution": {
     "iopub.execute_input": "2022-03-04T22:52:20.607648Z",
     "iopub.status.busy": "2022-03-04T22:52:20.607401Z",
     "iopub.status.idle": "2022-03-04T22:52:20.618373Z",
     "shell.execute_reply": "2022-03-04T22:52:20.618026Z"
    },
    "papermill": {
     "duration": 0.02286,
     "end_time": "2022-03-04T22:52:20.618443",
     "exception": false,
     "start_time": "2022-03-04T22:52:20.595583",
     "status": "completed"
    },
    "tags": []
   },
   "outputs": [],
   "source": [
    "start_time_secs = time.time()"
   ]
  },
  {
   "cell_type": "code",
   "execution_count": 10,
   "id": "fd5442bc",
   "metadata": {
    "execution": {
     "iopub.execute_input": "2022-03-04T22:52:20.647174Z",
     "iopub.status.busy": "2022-03-04T22:52:20.646879Z",
     "iopub.status.idle": "2022-03-04T22:52:25.110501Z",
     "shell.execute_reply": "2022-03-04T22:52:25.109985Z"
    },
    "papermill": {
     "duration": 4.478372,
     "end_time": "2022-03-04T22:52:25.110606",
     "exception": false,
     "start_time": "2022-03-04T22:52:20.632234",
     "status": "completed"
    },
    "tags": []
   },
   "outputs": [],
   "source": [
    "###################################\n",
    "# Build the dataset\n",
    "###################################\n",
    "\n",
    "if p.x_transforms_source == []: x_transform_source = None\n",
    "else: x_transform_source = get_chained_transform(p.x_transforms_source) \n",
    "\n",
    "if p.x_transforms_target == []: x_transform_target = None\n",
    "else: x_transform_target = get_chained_transform(p.x_transforms_target)\n",
    "\n",
    "if p.episode_transforms_source == []: episode_transform_source = None\n",
    "else: raise Exception(\"episode_transform_source not implemented\")\n",
    "\n",
    "if p.episode_transforms_target == []: episode_transform_target = None\n",
    "else: raise Exception(\"episode_transform_target not implemented\")\n",
    "\n",
    "\n",
    "eaf_source = Episodic_Accessor_Factory(\n",
    "    labels=p.labels_source,\n",
    "    domains=p.domains_source,\n",
    "    num_examples_per_domain_per_label=p.num_examples_per_domain_per_label_source,\n",
    "    iterator_seed=p.seed,\n",
    "    dataset_seed=p.dataset_seed,\n",
    "    n_shot=p.n_shot,\n",
    "    n_way=p.n_way,\n",
    "    n_query=p.n_query,\n",
    "    train_val_test_k_factors=(p.train_k_factor,p.val_k_factor,p.test_k_factor),\n",
    "    pickle_path=os.path.join(get_datasets_base_path(), p.pickle_name),\n",
    "    x_transform_func=x_transform_source,\n",
    "    example_transform_func=episode_transform_source,\n",
    "    \n",
    ")\n",
    "train_original_source, val_original_source, test_original_source = eaf_source.get_train(), eaf_source.get_val(), eaf_source.get_test()\n",
    "\n",
    "\n",
    "eaf_target = Episodic_Accessor_Factory(\n",
    "    labels=p.labels_target,\n",
    "    domains=p.domains_target,\n",
    "    num_examples_per_domain_per_label=p.num_examples_per_domain_per_label_target,\n",
    "    iterator_seed=p.seed,\n",
    "    dataset_seed=p.dataset_seed,\n",
    "    n_shot=p.n_shot,\n",
    "    n_way=p.n_way,\n",
    "    n_query=p.n_query,\n",
    "    train_val_test_k_factors=(p.train_k_factor,p.val_k_factor,p.test_k_factor),\n",
    "    pickle_path=os.path.join(get_datasets_base_path(), p.pickle_name),\n",
    "    x_transform_func=x_transform_target,\n",
    "    example_transform_func=episode_transform_target,\n",
    ")\n",
    "train_original_target, val_original_target, test_original_target = eaf_target.get_train(), eaf_target.get_val(), eaf_target.get_test()\n",
    "\n",
    "\n",
    "transform_lambda = lambda ex: ex[1] # Original is (<domain>, <episode>) so we strip down to episode only\n",
    "\n",
    "train_processed_source = Lazy_Iterable_Wrapper(train_original_source, transform_lambda)\n",
    "val_processed_source   = Lazy_Iterable_Wrapper(val_original_source, transform_lambda)\n",
    "test_processed_source  = Lazy_Iterable_Wrapper(test_original_source, transform_lambda)\n",
    "\n",
    "train_processed_target = Lazy_Iterable_Wrapper(train_original_target, transform_lambda)\n",
    "val_processed_target   = Lazy_Iterable_Wrapper(val_original_target, transform_lambda)\n",
    "test_processed_target  = Lazy_Iterable_Wrapper(test_original_target, transform_lambda)\n",
    "\n",
    "datasets = EasyDict({\n",
    "    \"source\": {\n",
    "        \"original\": {\"train\":train_original_source, \"val\":val_original_source, \"test\":test_original_source},\n",
    "        \"processed\": {\"train\":train_processed_source, \"val\":val_processed_source, \"test\":test_processed_source}\n",
    "    },\n",
    "    \"target\": {\n",
    "        \"original\": {\"train\":train_original_target, \"val\":val_original_target, \"test\":test_original_target},\n",
    "        \"processed\": {\"train\":train_processed_target, \"val\":val_processed_target, \"test\":test_processed_target}\n",
    "    },\n",
    "})"
   ]
  },
  {
   "cell_type": "code",
   "execution_count": 11,
   "id": "296189d9",
   "metadata": {
    "execution": {
     "iopub.execute_input": "2022-03-04T22:52:25.140661Z",
     "iopub.status.busy": "2022-03-04T22:52:25.140405Z",
     "iopub.status.idle": "2022-03-04T22:52:26.812838Z",
     "shell.execute_reply": "2022-03-04T22:52:26.812309Z"
    },
    "papermill": {
     "duration": 1.686491,
     "end_time": "2022-03-04T22:52:26.812958",
     "exception": false,
     "start_time": "2022-03-04T22:52:25.126467",
     "status": "completed"
    },
    "tags": []
   },
   "outputs": [
    {
     "name": "stdout",
     "output_type": "stream",
     "text": [
      "Visually inspect these to see if they line up with expected values given the transforms\n",
      "x_transforms_source []\n",
      "x_transforms_target []\n",
      "Average magnitude, source: 0.0048365397\n",
      "Average power, source: 2.9325745e-05\n"
     ]
    },
    {
     "name": "stdout",
     "output_type": "stream",
     "text": [
      "Average magnitude, target: 0.0029128897\n",
      "Average power, target: 1.0910343e-05\n"
     ]
    }
   ],
   "source": [
    "# Some quick unit tests on the data\n",
    "from steves_utils.transforms import get_average_power, get_average_magnitude\n",
    "\n",
    "q_x, q_y, s_x, s_y, truth = next(iter(train_processed_source))\n",
    "\n",
    "assert q_x.dtype == eval(p.torch_default_dtype)\n",
    "assert s_x.dtype == eval(p.torch_default_dtype)\n",
    "\n",
    "print(\"Visually inspect these to see if they line up with expected values given the transforms\")\n",
    "print('x_transforms_source', p.x_transforms_source)\n",
    "print('x_transforms_target', p.x_transforms_target)\n",
    "print(\"Average magnitude, source:\", get_average_magnitude(q_x[0].numpy()))\n",
    "print(\"Average power, source:\", get_average_power(q_x[0].numpy()))\n",
    "\n",
    "q_x, q_y, s_x, s_y, truth = next(iter(train_processed_target))\n",
    "print(\"Average magnitude, target:\", get_average_magnitude(q_x[0].numpy()))\n",
    "print(\"Average power, target:\", get_average_power(q_x[0].numpy()))\n"
   ]
  },
  {
   "cell_type": "code",
   "execution_count": 12,
   "id": "bbdacba1",
   "metadata": {
    "execution": {
     "iopub.execute_input": "2022-03-04T22:52:26.844009Z",
     "iopub.status.busy": "2022-03-04T22:52:26.843748Z",
     "iopub.status.idle": "2022-03-04T22:52:26.902498Z",
     "shell.execute_reply": "2022-03-04T22:52:26.902714Z"
    },
    "papermill": {
     "duration": 0.0727,
     "end_time": "2022-03-04T22:52:26.902783",
     "exception": false,
     "start_time": "2022-03-04T22:52:26.830083",
     "status": "completed"
    },
    "tags": []
   },
   "outputs": [
    {
     "name": "stdout",
     "output_type": "stream",
     "text": [
      "(2, 256)\n"
     ]
    }
   ],
   "source": [
    "###################################\n",
    "# Build the model\n",
    "###################################\n",
    "model = Steves_Prototypical_Network(x_net, device=p.device, x_shape=(2,256))\n",
    "optimizer = Adam(params=model.parameters(), lr=p.lr)"
   ]
  },
  {
   "cell_type": "code",
   "execution_count": 13,
   "id": "22b39ac5",
   "metadata": {
    "execution": {
     "iopub.execute_input": "2022-03-04T22:52:26.926968Z",
     "iopub.status.busy": "2022-03-04T22:52:26.926701Z",
     "iopub.status.idle": "2022-03-04T23:36:20.599469Z",
     "shell.execute_reply": "2022-03-04T23:36:20.599231Z"
    },
    "papermill": {
     "duration": 2633.685955,
     "end_time": "2022-03-04T23:36:20.599531",
     "exception": false,
     "start_time": "2022-03-04T22:52:26.913576",
     "status": "completed"
    },
    "tags": []
   },
   "outputs": [
    {
     "name": "stdout",
     "output_type": "stream",
     "text": [
      "epoch: 1, [batch: 1 / 4200], examples_per_second: 74.5743, train_label_loss: 2.3644, \n"
     ]
    },
    {
     "name": "stdout",
     "output_type": "stream",
     "text": [
      "epoch: 1, [batch: 420 / 4200], examples_per_second: 3190.0659, train_label_loss: 1.4084, \n"
     ]
    },
    {
     "name": "stdout",
     "output_type": "stream",
     "text": [
      "epoch: 1, [batch: 840 / 4200], examples_per_second: 3192.0214, train_label_loss: 0.9798, \n"
     ]
    },
    {
     "name": "stdout",
     "output_type": "stream",
     "text": [
      "epoch: 1, [batch: 1260 / 4200], examples_per_second: 3147.5676, train_label_loss: 1.0459, \n"
     ]
    },
    {
     "name": "stdout",
     "output_type": "stream",
     "text": [
      "epoch: 1, [batch: 1680 / 4200], examples_per_second: 3179.9314, train_label_loss: 0.2895, \n"
     ]
    },
    {
     "name": "stdout",
     "output_type": "stream",
     "text": [
      "epoch: 1, [batch: 2100 / 4200], examples_per_second: 3166.0379, train_label_loss: 0.3374, \n"
     ]
    },
    {
     "name": "stdout",
     "output_type": "stream",
     "text": [
      "epoch: 1, [batch: 2520 / 4200], examples_per_second: 3208.5819, train_label_loss: 0.2424, \n"
     ]
    },
    {
     "name": "stdout",
     "output_type": "stream",
     "text": [
      "epoch: 1, [batch: 2940 / 4200], examples_per_second: 3094.0953, train_label_loss: 0.6113, \n"
     ]
    },
    {
     "name": "stdout",
     "output_type": "stream",
     "text": [
      "epoch: 1, [batch: 3360 / 4200], examples_per_second: 3148.4683, train_label_loss: 0.4983, \n"
     ]
    },
    {
     "name": "stdout",
     "output_type": "stream",
     "text": [
      "epoch: 1, [batch: 3780 / 4200], examples_per_second: 3127.3453, train_label_loss: 0.5832, \n"
     ]
    },
    {
     "name": "stdout",
     "output_type": "stream",
     "text": [
      "=============================================================\n",
      "epoch: 1, source_val_acc_label: 0.6970, target_val_acc_label: 0.5096, source_val_label_loss: 78.1766, target_val_label_loss: 54.3337, \n",
      "=============================================================\n"
     ]
    },
    {
     "name": "stdout",
     "output_type": "stream",
     "text": [
      "New best\n"
     ]
    },
    {
     "name": "stdout",
     "output_type": "stream",
     "text": [
      "epoch: 2, [batch: 1 / 4200], examples_per_second: 5.7207, train_label_loss: 213.3344, \n"
     ]
    },
    {
     "name": "stdout",
     "output_type": "stream",
     "text": [
      "epoch: 2, [batch: 420 / 4200], examples_per_second: 3170.7408, train_label_loss: 0.3768, \n"
     ]
    },
    {
     "name": "stdout",
     "output_type": "stream",
     "text": [
      "epoch: 2, [batch: 840 / 4200], examples_per_second: 3234.9285, train_label_loss: 0.4417, \n"
     ]
    },
    {
     "name": "stdout",
     "output_type": "stream",
     "text": [
      "epoch: 2, [batch: 1260 / 4200], examples_per_second: 3186.8223, train_label_loss: 0.4759, \n"
     ]
    },
    {
     "name": "stdout",
     "output_type": "stream",
     "text": [
      "epoch: 2, [batch: 1680 / 4200], examples_per_second: 3179.5951, train_label_loss: 0.4675, \n"
     ]
    },
    {
     "name": "stdout",
     "output_type": "stream",
     "text": [
      "epoch: 2, [batch: 2100 / 4200], examples_per_second: 3037.2624, train_label_loss: 0.4514, \n"
     ]
    },
    {
     "name": "stdout",
     "output_type": "stream",
     "text": [
      "epoch: 2, [batch: 2520 / 4200], examples_per_second: 3054.2217, train_label_loss: 0.5316, \n"
     ]
    },
    {
     "name": "stdout",
     "output_type": "stream",
     "text": [
      "epoch: 2, [batch: 2940 / 4200], examples_per_second: 3231.5092, train_label_loss: 0.3815, \n"
     ]
    },
    {
     "name": "stdout",
     "output_type": "stream",
     "text": [
      "epoch: 2, [batch: 3360 / 4200], examples_per_second: 3234.7824, train_label_loss: 0.4365, \n"
     ]
    },
    {
     "name": "stdout",
     "output_type": "stream",
     "text": [
      "epoch: 2, [batch: 3780 / 4200], examples_per_second: 3248.8903, train_label_loss: 0.5447, \n"
     ]
    },
    {
     "name": "stdout",
     "output_type": "stream",
     "text": [
      "=============================================================\n",
      "epoch: 2, source_val_acc_label: 0.8180, target_val_acc_label: 0.6680, source_val_label_loss: 0.5118, target_val_label_loss: 1.1871, \n",
      "=============================================================\n"
     ]
    },
    {
     "name": "stdout",
     "output_type": "stream",
     "text": [
      "New best\n"
     ]
    },
    {
     "name": "stdout",
     "output_type": "stream",
     "text": [
      "epoch: 3, [batch: 1 / 4200], examples_per_second: 5.8009, train_label_loss: 0.6806, \n"
     ]
    },
    {
     "name": "stdout",
     "output_type": "stream",
     "text": [
      "epoch: 3, [batch: 420 / 4200], examples_per_second: 3110.8252, train_label_loss: 0.7855, \n"
     ]
    },
    {
     "name": "stdout",
     "output_type": "stream",
     "text": [
      "epoch: 3, [batch: 840 / 4200], examples_per_second: 2902.9931, train_label_loss: 0.7515, \n"
     ]
    },
    {
     "name": "stdout",
     "output_type": "stream",
     "text": [
      "epoch: 3, [batch: 1260 / 4200], examples_per_second: 2922.9928, train_label_loss: 0.5409, \n"
     ]
    },
    {
     "name": "stdout",
     "output_type": "stream",
     "text": [
      "epoch: 3, [batch: 1680 / 4200], examples_per_second: 2927.0150, train_label_loss: 0.6525, \n"
     ]
    },
    {
     "name": "stdout",
     "output_type": "stream",
     "text": [
      "epoch: 3, [batch: 2100 / 4200], examples_per_second: 2917.8995, train_label_loss: 0.2395, \n"
     ]
    },
    {
     "name": "stdout",
     "output_type": "stream",
     "text": [
      "epoch: 3, [batch: 2520 / 4200], examples_per_second: 3075.1868, train_label_loss: 0.6229, \n"
     ]
    },
    {
     "name": "stdout",
     "output_type": "stream",
     "text": [
      "epoch: 3, [batch: 2940 / 4200], examples_per_second: 3220.5849, train_label_loss: 0.2572, \n"
     ]
    },
    {
     "name": "stdout",
     "output_type": "stream",
     "text": [
      "epoch: 3, [batch: 3360 / 4200], examples_per_second: 2933.7368, train_label_loss: 0.2629, \n"
     ]
    },
    {
     "name": "stdout",
     "output_type": "stream",
     "text": [
      "epoch: 3, [batch: 3780 / 4200], examples_per_second: 2919.3417, train_label_loss: 0.2319, \n"
     ]
    },
    {
     "name": "stdout",
     "output_type": "stream",
     "text": [
      "=============================================================\n",
      "epoch: 3, source_val_acc_label: 0.8478, target_val_acc_label: 0.6982, source_val_label_loss: 0.4441, target_val_label_loss: 1.2404, \n",
      "=============================================================\n"
     ]
    },
    {
     "name": "stdout",
     "output_type": "stream",
     "text": [
      "epoch: 4, [batch: 1 / 4200], examples_per_second: 5.2808, train_label_loss: 0.4263, \n"
     ]
    },
    {
     "name": "stdout",
     "output_type": "stream",
     "text": [
      "epoch: 4, [batch: 420 / 4200], examples_per_second: 2931.9894, train_label_loss: 0.6746, \n"
     ]
    },
    {
     "name": "stdout",
     "output_type": "stream",
     "text": [
      "epoch: 4, [batch: 840 / 4200], examples_per_second: 2939.6946, train_label_loss: 0.4385, \n"
     ]
    },
    {
     "name": "stdout",
     "output_type": "stream",
     "text": [
      "epoch: 4, [batch: 1260 / 4200], examples_per_second: 2935.3982, train_label_loss: 0.2815, \n"
     ]
    },
    {
     "name": "stdout",
     "output_type": "stream",
     "text": [
      "epoch: 4, [batch: 1680 / 4200], examples_per_second: 2911.7303, train_label_loss: 0.8117, \n"
     ]
    },
    {
     "name": "stdout",
     "output_type": "stream",
     "text": [
      "epoch: 4, [batch: 2100 / 4200], examples_per_second: 2919.5784, train_label_loss: 0.2893, \n"
     ]
    },
    {
     "name": "stdout",
     "output_type": "stream",
     "text": [
      "epoch: 4, [batch: 2520 / 4200], examples_per_second: 2948.8020, train_label_loss: 0.1231, \n"
     ]
    },
    {
     "name": "stdout",
     "output_type": "stream",
     "text": [
      "epoch: 4, [batch: 2940 / 4200], examples_per_second: 2932.1821, train_label_loss: 0.2425, \n"
     ]
    },
    {
     "name": "stdout",
     "output_type": "stream",
     "text": [
      "epoch: 4, [batch: 3360 / 4200], examples_per_second: 2933.7105, train_label_loss: 0.1378, \n"
     ]
    },
    {
     "name": "stdout",
     "output_type": "stream",
     "text": [
      "epoch: 4, [batch: 3780 / 4200], examples_per_second: 2943.2672, train_label_loss: 0.3807, \n"
     ]
    },
    {
     "name": "stdout",
     "output_type": "stream",
     "text": [
      "=============================================================\n",
      "epoch: 4, source_val_acc_label: 0.8636, target_val_acc_label: 0.7095, source_val_label_loss: 0.4035, target_val_label_loss: 1.1767, \n",
      "=============================================================\n"
     ]
    },
    {
     "name": "stdout",
     "output_type": "stream",
     "text": [
      "New best\n"
     ]
    },
    {
     "name": "stdout",
     "output_type": "stream",
     "text": [
      "epoch: 5, [batch: 1 / 4200], examples_per_second: 5.3855, train_label_loss: 0.1522, \n"
     ]
    },
    {
     "name": "stdout",
     "output_type": "stream",
     "text": [
      "epoch: 5, [batch: 420 / 4200], examples_per_second: 2910.2777, train_label_loss: 0.1662, \n"
     ]
    },
    {
     "name": "stdout",
     "output_type": "stream",
     "text": [
      "epoch: 5, [batch: 840 / 4200], examples_per_second: 2911.5692, train_label_loss: 0.3144, \n"
     ]
    },
    {
     "name": "stdout",
     "output_type": "stream",
     "text": [
      "epoch: 5, [batch: 1260 / 4200], examples_per_second: 2901.1266, train_label_loss: 0.3116, \n"
     ]
    },
    {
     "name": "stdout",
     "output_type": "stream",
     "text": [
      "epoch: 5, [batch: 1680 / 4200], examples_per_second: 2915.0387, train_label_loss: 0.4918, \n"
     ]
    },
    {
     "name": "stdout",
     "output_type": "stream",
     "text": [
      "epoch: 5, [batch: 2100 / 4200], examples_per_second: 2906.0297, train_label_loss: 0.3659, \n"
     ]
    },
    {
     "name": "stdout",
     "output_type": "stream",
     "text": [
      "epoch: 5, [batch: 2520 / 4200], examples_per_second: 2907.0944, train_label_loss: 0.6340, \n"
     ]
    },
    {
     "name": "stdout",
     "output_type": "stream",
     "text": [
      "epoch: 5, [batch: 2940 / 4200], examples_per_second: 2903.0664, train_label_loss: 0.3613, \n"
     ]
    },
    {
     "name": "stdout",
     "output_type": "stream",
     "text": [
      "epoch: 5, [batch: 3360 / 4200], examples_per_second: 2905.7782, train_label_loss: 0.4933, \n"
     ]
    },
    {
     "name": "stdout",
     "output_type": "stream",
     "text": [
      "epoch: 5, [batch: 3780 / 4200], examples_per_second: 2890.2882, train_label_loss: 0.2857, \n"
     ]
    },
    {
     "name": "stdout",
     "output_type": "stream",
     "text": [
      "=============================================================\n",
      "epoch: 5, source_val_acc_label: 0.8512, target_val_acc_label: 0.7111, source_val_label_loss: 0.4492, target_val_label_loss: 1.3329, \n",
      "=============================================================\n"
     ]
    },
    {
     "name": "stdout",
     "output_type": "stream",
     "text": [
      "epoch: 6, [batch: 1 / 4200], examples_per_second: 5.3469, train_label_loss: 0.4671, \n"
     ]
    },
    {
     "name": "stdout",
     "output_type": "stream",
     "text": [
      "epoch: 6, [batch: 420 / 4200], examples_per_second: 2882.6788, train_label_loss: 0.2502, \n"
     ]
    },
    {
     "name": "stdout",
     "output_type": "stream",
     "text": [
      "epoch: 6, [batch: 840 / 4200], examples_per_second: 2891.0531, train_label_loss: 0.3151, \n"
     ]
    },
    {
     "name": "stdout",
     "output_type": "stream",
     "text": [
      "epoch: 6, [batch: 1260 / 4200], examples_per_second: 2925.8302, train_label_loss: 0.2845, \n"
     ]
    },
    {
     "name": "stdout",
     "output_type": "stream",
     "text": [
      "epoch: 6, [batch: 1680 / 4200], examples_per_second: 2909.6287, train_label_loss: 0.3931, \n"
     ]
    },
    {
     "name": "stdout",
     "output_type": "stream",
     "text": [
      "epoch: 6, [batch: 2100 / 4200], examples_per_second: 2900.4786, train_label_loss: 0.5514, \n"
     ]
    },
    {
     "name": "stdout",
     "output_type": "stream",
     "text": [
      "epoch: 6, [batch: 2520 / 4200], examples_per_second: 2912.2780, train_label_loss: 0.5967, \n"
     ]
    },
    {
     "name": "stdout",
     "output_type": "stream",
     "text": [
      "epoch: 6, [batch: 2940 / 4200], examples_per_second: 3053.5882, train_label_loss: 0.2014, \n"
     ]
    },
    {
     "name": "stdout",
     "output_type": "stream",
     "text": [
      "epoch: 6, [batch: 3360 / 4200], examples_per_second: 3184.2762, train_label_loss: 0.2833, \n"
     ]
    },
    {
     "name": "stdout",
     "output_type": "stream",
     "text": [
      "epoch: 6, [batch: 3780 / 4200], examples_per_second: 3035.4157, train_label_loss: 0.3273, \n"
     ]
    },
    {
     "name": "stdout",
     "output_type": "stream",
     "text": [
      "=============================================================\n",
      "epoch: 6, source_val_acc_label: 0.8687, target_val_acc_label: 0.7260, source_val_label_loss: 0.3780, target_val_label_loss: 1.1307, \n",
      "=============================================================\n"
     ]
    },
    {
     "name": "stdout",
     "output_type": "stream",
     "text": [
      "New best\n"
     ]
    },
    {
     "name": "stdout",
     "output_type": "stream",
     "text": [
      "epoch: 7, [batch: 1 / 4200], examples_per_second: 5.3008, train_label_loss: 0.4013, \n"
     ]
    },
    {
     "name": "stdout",
     "output_type": "stream",
     "text": [
      "epoch: 7, [batch: 420 / 4200], examples_per_second: 2862.3257, train_label_loss: 0.0957, \n"
     ]
    },
    {
     "name": "stdout",
     "output_type": "stream",
     "text": [
      "epoch: 7, [batch: 840 / 4200], examples_per_second: 2913.8452, train_label_loss: 0.6611, \n"
     ]
    },
    {
     "name": "stdout",
     "output_type": "stream",
     "text": [
      "epoch: 7, [batch: 1260 / 4200], examples_per_second: 2900.0158, train_label_loss: 0.4525, \n"
     ]
    },
    {
     "name": "stdout",
     "output_type": "stream",
     "text": [
      "epoch: 7, [batch: 1680 / 4200], examples_per_second: 2920.0536, train_label_loss: 0.4492, \n"
     ]
    },
    {
     "name": "stdout",
     "output_type": "stream",
     "text": [
      "epoch: 7, [batch: 2100 / 4200], examples_per_second: 2955.4327, train_label_loss: 0.2462, \n"
     ]
    },
    {
     "name": "stdout",
     "output_type": "stream",
     "text": [
      "epoch: 7, [batch: 2520 / 4200], examples_per_second: 2926.0468, train_label_loss: 0.4581, \n"
     ]
    },
    {
     "name": "stdout",
     "output_type": "stream",
     "text": [
      "epoch: 7, [batch: 2940 / 4200], examples_per_second: 2914.5821, train_label_loss: 0.3033, \n"
     ]
    },
    {
     "name": "stdout",
     "output_type": "stream",
     "text": [
      "epoch: 7, [batch: 3360 / 4200], examples_per_second: 2914.2582, train_label_loss: 0.2628, \n"
     ]
    },
    {
     "name": "stdout",
     "output_type": "stream",
     "text": [
      "epoch: 7, [batch: 3780 / 4200], examples_per_second: 2911.8648, train_label_loss: 0.4575, \n"
     ]
    },
    {
     "name": "stdout",
     "output_type": "stream",
     "text": [
      "=============================================================\n",
      "epoch: 7, source_val_acc_label: 0.8776, target_val_acc_label: 0.7538, source_val_label_loss: 0.3419, target_val_label_loss: 0.8494, \n",
      "=============================================================\n"
     ]
    },
    {
     "name": "stdout",
     "output_type": "stream",
     "text": [
      "New best\n"
     ]
    },
    {
     "name": "stdout",
     "output_type": "stream",
     "text": [
      "epoch: 8, [batch: 1 / 4200], examples_per_second: 5.3156, train_label_loss: 0.2862, \n"
     ]
    },
    {
     "name": "stdout",
     "output_type": "stream",
     "text": [
      "epoch: 8, [batch: 420 / 4200], examples_per_second: 3140.7287, train_label_loss: 0.1385, \n"
     ]
    },
    {
     "name": "stdout",
     "output_type": "stream",
     "text": [
      "epoch: 8, [batch: 840 / 4200], examples_per_second: 3207.3534, train_label_loss: 0.0930, \n"
     ]
    },
    {
     "name": "stdout",
     "output_type": "stream",
     "text": [
      "epoch: 8, [batch: 1260 / 4200], examples_per_second: 3200.7988, train_label_loss: 0.2040, \n"
     ]
    },
    {
     "name": "stdout",
     "output_type": "stream",
     "text": [
      "epoch: 8, [batch: 1680 / 4200], examples_per_second: 3189.8370, train_label_loss: 0.5221, \n"
     ]
    },
    {
     "name": "stdout",
     "output_type": "stream",
     "text": [
      "epoch: 8, [batch: 2100 / 4200], examples_per_second: 3162.9297, train_label_loss: 0.2095, \n"
     ]
    },
    {
     "name": "stdout",
     "output_type": "stream",
     "text": [
      "epoch: 8, [batch: 2520 / 4200], examples_per_second: 3206.0788, train_label_loss: 0.2202, \n"
     ]
    },
    {
     "name": "stdout",
     "output_type": "stream",
     "text": [
      "epoch: 8, [batch: 2940 / 4200], examples_per_second: 3201.4953, train_label_loss: 0.1428, \n"
     ]
    },
    {
     "name": "stdout",
     "output_type": "stream",
     "text": [
      "epoch: 8, [batch: 3360 / 4200], examples_per_second: 3193.1990, train_label_loss: 0.2317, \n"
     ]
    },
    {
     "name": "stdout",
     "output_type": "stream",
     "text": [
      "epoch: 8, [batch: 3780 / 4200], examples_per_second: 3187.7838, train_label_loss: 0.7444, \n"
     ]
    },
    {
     "name": "stdout",
     "output_type": "stream",
     "text": [
      "=============================================================\n",
      "epoch: 8, source_val_acc_label: 0.8837, target_val_acc_label: 0.7524, source_val_label_loss: 0.3577, target_val_label_loss: 1.1612, \n",
      "=============================================================\n"
     ]
    },
    {
     "name": "stdout",
     "output_type": "stream",
     "text": [
      "epoch: 9, [batch: 1 / 4200], examples_per_second: 5.9049, train_label_loss: 0.2461, \n"
     ]
    },
    {
     "name": "stdout",
     "output_type": "stream",
     "text": [
      "epoch: 9, [batch: 420 / 4200], examples_per_second: 3171.5501, train_label_loss: 0.1201, \n"
     ]
    },
    {
     "name": "stdout",
     "output_type": "stream",
     "text": [
      "epoch: 9, [batch: 840 / 4200], examples_per_second: 3202.8741, train_label_loss: 0.0875, \n"
     ]
    },
    {
     "name": "stdout",
     "output_type": "stream",
     "text": [
      "epoch: 9, [batch: 1260 / 4200], examples_per_second: 3226.6724, train_label_loss: 0.6809, \n"
     ]
    },
    {
     "name": "stdout",
     "output_type": "stream",
     "text": [
      "epoch: 9, [batch: 1680 / 4200], examples_per_second: 3210.1533, train_label_loss: 0.4158, \n"
     ]
    },
    {
     "name": "stdout",
     "output_type": "stream",
     "text": [
      "epoch: 9, [batch: 2100 / 4200], examples_per_second: 3221.1739, train_label_loss: 0.2135, \n"
     ]
    },
    {
     "name": "stdout",
     "output_type": "stream",
     "text": [
      "epoch: 9, [batch: 2520 / 4200], examples_per_second: 3211.4060, train_label_loss: 0.1564, \n"
     ]
    },
    {
     "name": "stdout",
     "output_type": "stream",
     "text": [
      "epoch: 9, [batch: 2940 / 4200], examples_per_second: 3230.8874, train_label_loss: 0.3912, \n"
     ]
    },
    {
     "name": "stdout",
     "output_type": "stream",
     "text": [
      "epoch: 9, [batch: 3360 / 4200], examples_per_second: 3232.5183, train_label_loss: 0.7099, \n"
     ]
    },
    {
     "name": "stdout",
     "output_type": "stream",
     "text": [
      "epoch: 9, [batch: 3780 / 4200], examples_per_second: 3220.1559, train_label_loss: 0.3241, \n"
     ]
    },
    {
     "name": "stdout",
     "output_type": "stream",
     "text": [
      "=============================================================\n",
      "epoch: 9, source_val_acc_label: 0.8830, target_val_acc_label: 0.7588, source_val_label_loss: 0.3748, target_val_label_loss: 1.0293, \n",
      "=============================================================\n"
     ]
    },
    {
     "name": "stdout",
     "output_type": "stream",
     "text": [
      "epoch: 10, [batch: 1 / 4200], examples_per_second: 5.8794, train_label_loss: 0.1951, \n"
     ]
    },
    {
     "name": "stdout",
     "output_type": "stream",
     "text": [
      "epoch: 10, [batch: 420 / 4200], examples_per_second: 3211.8285, train_label_loss: 0.7568, \n"
     ]
    },
    {
     "name": "stdout",
     "output_type": "stream",
     "text": [
      "epoch: 10, [batch: 840 / 4200], examples_per_second: 3219.2339, train_label_loss: 0.0567, \n"
     ]
    },
    {
     "name": "stdout",
     "output_type": "stream",
     "text": [
      "epoch: 10, [batch: 1260 / 4200], examples_per_second: 3171.7675, train_label_loss: 0.2347, \n"
     ]
    },
    {
     "name": "stdout",
     "output_type": "stream",
     "text": [
      "epoch: 10, [batch: 1680 / 4200], examples_per_second: 3215.7023, train_label_loss: 0.3649, \n"
     ]
    },
    {
     "name": "stdout",
     "output_type": "stream",
     "text": [
      "epoch: 10, [batch: 2100 / 4200], examples_per_second: 3223.8925, train_label_loss: 0.6799, \n"
     ]
    },
    {
     "name": "stdout",
     "output_type": "stream",
     "text": [
      "epoch: 10, [batch: 2520 / 4200], examples_per_second: 3191.8291, train_label_loss: 0.3437, \n"
     ]
    },
    {
     "name": "stdout",
     "output_type": "stream",
     "text": [
      "epoch: 10, [batch: 2940 / 4200], examples_per_second: 3141.9905, train_label_loss: 0.3195, \n"
     ]
    },
    {
     "name": "stdout",
     "output_type": "stream",
     "text": [
      "epoch: 10, [batch: 3360 / 4200], examples_per_second: 3179.2997, train_label_loss: 0.1310, \n"
     ]
    },
    {
     "name": "stdout",
     "output_type": "stream",
     "text": [
      "epoch: 10, [batch: 3780 / 4200], examples_per_second: 3146.3232, train_label_loss: 0.6342, \n"
     ]
    },
    {
     "name": "stdout",
     "output_type": "stream",
     "text": [
      "=============================================================\n",
      "epoch: 10, source_val_acc_label: 0.8910, target_val_acc_label: 0.7699, source_val_label_loss: 0.3144, target_val_label_loss: 0.8436, \n",
      "=============================================================\n"
     ]
    },
    {
     "name": "stdout",
     "output_type": "stream",
     "text": [
      "New best\n"
     ]
    },
    {
     "name": "stdout",
     "output_type": "stream",
     "text": [
      "epoch: 11, [batch: 1 / 4200], examples_per_second: 5.8823, train_label_loss: 0.2395, \n"
     ]
    },
    {
     "name": "stdout",
     "output_type": "stream",
     "text": [
      "epoch: 11, [batch: 420 / 4200], examples_per_second: 3192.3435, train_label_loss: 0.1879, \n"
     ]
    },
    {
     "name": "stdout",
     "output_type": "stream",
     "text": [
      "epoch: 11, [batch: 840 / 4200], examples_per_second: 3203.8994, train_label_loss: 0.3250, \n"
     ]
    },
    {
     "name": "stdout",
     "output_type": "stream",
     "text": [
      "epoch: 11, [batch: 1260 / 4200], examples_per_second: 3201.9013, train_label_loss: 0.0508, \n"
     ]
    },
    {
     "name": "stdout",
     "output_type": "stream",
     "text": [
      "epoch: 11, [batch: 1680 / 4200], examples_per_second: 3212.4912, train_label_loss: 0.2988, \n"
     ]
    },
    {
     "name": "stdout",
     "output_type": "stream",
     "text": [
      "epoch: 11, [batch: 2100 / 4200], examples_per_second: 3205.4440, train_label_loss: 0.2019, \n"
     ]
    },
    {
     "name": "stdout",
     "output_type": "stream",
     "text": [
      "epoch: 11, [batch: 2520 / 4200], examples_per_second: 3195.4254, train_label_loss: 0.4422, \n"
     ]
    },
    {
     "name": "stdout",
     "output_type": "stream",
     "text": [
      "epoch: 11, [batch: 2940 / 4200], examples_per_second: 3215.9286, train_label_loss: 0.1870, \n"
     ]
    },
    {
     "name": "stdout",
     "output_type": "stream",
     "text": [
      "epoch: 11, [batch: 3360 / 4200], examples_per_second: 3215.3964, train_label_loss: 0.3111, \n"
     ]
    },
    {
     "name": "stdout",
     "output_type": "stream",
     "text": [
      "epoch: 11, [batch: 3780 / 4200], examples_per_second: 3201.5982, train_label_loss: 0.1581, \n"
     ]
    },
    {
     "name": "stdout",
     "output_type": "stream",
     "text": [
      "=============================================================\n",
      "epoch: 11, source_val_acc_label: 0.8949, target_val_acc_label: 0.7706, source_val_label_loss: 0.3053, target_val_label_loss: 0.8479, \n",
      "=============================================================\n"
     ]
    },
    {
     "name": "stdout",
     "output_type": "stream",
     "text": [
      "epoch: 12, [batch: 1 / 4200], examples_per_second: 5.8054, train_label_loss: 0.2776, \n"
     ]
    },
    {
     "name": "stdout",
     "output_type": "stream",
     "text": [
      "epoch: 12, [batch: 420 / 4200], examples_per_second: 3193.2920, train_label_loss: 0.6246, \n"
     ]
    },
    {
     "name": "stdout",
     "output_type": "stream",
     "text": [
      "epoch: 12, [batch: 840 / 4200], examples_per_second: 3097.6097, train_label_loss: 0.2276, \n"
     ]
    },
    {
     "name": "stdout",
     "output_type": "stream",
     "text": [
      "epoch: 12, [batch: 1260 / 4200], examples_per_second: 3156.5095, train_label_loss: 0.1939, \n"
     ]
    },
    {
     "name": "stdout",
     "output_type": "stream",
     "text": [
      "epoch: 12, [batch: 1680 / 4200], examples_per_second: 3163.3238, train_label_loss: 0.2543, \n"
     ]
    },
    {
     "name": "stdout",
     "output_type": "stream",
     "text": [
      "epoch: 12, [batch: 2100 / 4200], examples_per_second: 3224.2263, train_label_loss: 0.3973, \n"
     ]
    },
    {
     "name": "stdout",
     "output_type": "stream",
     "text": [
      "epoch: 12, [batch: 2520 / 4200], examples_per_second: 3246.6720, train_label_loss: 0.2618, \n"
     ]
    },
    {
     "name": "stdout",
     "output_type": "stream",
     "text": [
      "epoch: 12, [batch: 2940 / 4200], examples_per_second: 3218.2485, train_label_loss: 0.5976, \n"
     ]
    },
    {
     "name": "stdout",
     "output_type": "stream",
     "text": [
      "epoch: 12, [batch: 3360 / 4200], examples_per_second: 3220.6424, train_label_loss: 0.3757, \n"
     ]
    },
    {
     "name": "stdout",
     "output_type": "stream",
     "text": [
      "epoch: 12, [batch: 3780 / 4200], examples_per_second: 3065.5183, train_label_loss: 0.3197, \n"
     ]
    },
    {
     "name": "stdout",
     "output_type": "stream",
     "text": [
      "=============================================================\n",
      "epoch: 12, source_val_acc_label: 0.8953, target_val_acc_label: 0.7721, source_val_label_loss: 0.2945, target_val_label_loss: 0.8442, \n",
      "=============================================================\n"
     ]
    },
    {
     "name": "stdout",
     "output_type": "stream",
     "text": [
      "epoch: 13, [batch: 1 / 4200], examples_per_second: 5.8689, train_label_loss: 0.2944, \n"
     ]
    },
    {
     "name": "stdout",
     "output_type": "stream",
     "text": [
      "epoch: 13, [batch: 420 / 4200], examples_per_second: 3170.0177, train_label_loss: 0.0920, \n"
     ]
    },
    {
     "name": "stdout",
     "output_type": "stream",
     "text": [
      "epoch: 13, [batch: 840 / 4200], examples_per_second: 3131.4615, train_label_loss: 0.1696, \n"
     ]
    },
    {
     "name": "stdout",
     "output_type": "stream",
     "text": [
      "epoch: 13, [batch: 1260 / 4200], examples_per_second: 3198.0814, train_label_loss: 0.1371, \n"
     ]
    },
    {
     "name": "stdout",
     "output_type": "stream",
     "text": [
      "epoch: 13, [batch: 1680 / 4200], examples_per_second: 3137.2772, train_label_loss: 0.0567, \n"
     ]
    },
    {
     "name": "stdout",
     "output_type": "stream",
     "text": [
      "epoch: 13, [batch: 2100 / 4200], examples_per_second: 3066.2486, train_label_loss: 0.2729, \n"
     ]
    },
    {
     "name": "stdout",
     "output_type": "stream",
     "text": [
      "epoch: 13, [batch: 2520 / 4200], examples_per_second: 3184.5523, train_label_loss: 0.3400, \n"
     ]
    },
    {
     "name": "stdout",
     "output_type": "stream",
     "text": [
      "epoch: 13, [batch: 2940 / 4200], examples_per_second: 3222.1927, train_label_loss: 0.4426, \n"
     ]
    },
    {
     "name": "stdout",
     "output_type": "stream",
     "text": [
      "epoch: 13, [batch: 3360 / 4200], examples_per_second: 3235.9448, train_label_loss: 0.2264, \n"
     ]
    },
    {
     "name": "stdout",
     "output_type": "stream",
     "text": [
      "epoch: 13, [batch: 3780 / 4200], examples_per_second: 3237.7137, train_label_loss: 0.1588, \n"
     ]
    },
    {
     "name": "stdout",
     "output_type": "stream",
     "text": [
      "=============================================================\n",
      "epoch: 13, source_val_acc_label: 0.8940, target_val_acc_label: 0.7720, source_val_label_loss: 0.2882, target_val_label_loss: 0.8226, \n",
      "=============================================================\n"
     ]
    },
    {
     "name": "stdout",
     "output_type": "stream",
     "text": [
      "New best\n"
     ]
    },
    {
     "name": "stdout",
     "output_type": "stream",
     "text": [
      "epoch: 14, [batch: 1 / 4200], examples_per_second: 5.8125, train_label_loss: 0.1805, \n"
     ]
    },
    {
     "name": "stdout",
     "output_type": "stream",
     "text": [
      "epoch: 14, [batch: 420 / 4200], examples_per_second: 3170.6908, train_label_loss: 0.2902, \n"
     ]
    },
    {
     "name": "stdout",
     "output_type": "stream",
     "text": [
      "epoch: 14, [batch: 840 / 4200], examples_per_second: 3170.5816, train_label_loss: 0.2706, \n"
     ]
    },
    {
     "name": "stdout",
     "output_type": "stream",
     "text": [
      "epoch: 14, [batch: 1260 / 4200], examples_per_second: 3117.9035, train_label_loss: 0.3571, \n"
     ]
    },
    {
     "name": "stdout",
     "output_type": "stream",
     "text": [
      "epoch: 14, [batch: 1680 / 4200], examples_per_second: 3177.2140, train_label_loss: 0.3892, \n"
     ]
    },
    {
     "name": "stdout",
     "output_type": "stream",
     "text": [
      "epoch: 14, [batch: 2100 / 4200], examples_per_second: 3158.8334, train_label_loss: 0.0666, \n"
     ]
    },
    {
     "name": "stdout",
     "output_type": "stream",
     "text": [
      "epoch: 14, [batch: 2520 / 4200], examples_per_second: 3117.8220, train_label_loss: 0.2040, \n"
     ]
    },
    {
     "name": "stdout",
     "output_type": "stream",
     "text": [
      "epoch: 14, [batch: 2940 / 4200], examples_per_second: 3178.6765, train_label_loss: 0.1286, \n"
     ]
    },
    {
     "name": "stdout",
     "output_type": "stream",
     "text": [
      "epoch: 14, [batch: 3360 / 4200], examples_per_second: 3199.7178, train_label_loss: 0.2263, \n"
     ]
    },
    {
     "name": "stdout",
     "output_type": "stream",
     "text": [
      "epoch: 14, [batch: 3780 / 4200], examples_per_second: 3088.6519, train_label_loss: 0.1916, \n"
     ]
    },
    {
     "name": "stdout",
     "output_type": "stream",
     "text": [
      "=============================================================\n",
      "epoch: 14, source_val_acc_label: 0.8974, target_val_acc_label: 0.7690, source_val_label_loss: 0.2824, target_val_label_loss: 0.8826, \n",
      "=============================================================\n"
     ]
    },
    {
     "name": "stdout",
     "output_type": "stream",
     "text": [
      "epoch: 15, [batch: 1 / 4200], examples_per_second: 5.6652, train_label_loss: 0.0503, \n"
     ]
    },
    {
     "name": "stdout",
     "output_type": "stream",
     "text": [
      "epoch: 15, [batch: 420 / 4200], examples_per_second: 3175.6996, train_label_loss: 0.1206, \n"
     ]
    },
    {
     "name": "stdout",
     "output_type": "stream",
     "text": [
      "epoch: 15, [batch: 840 / 4200], examples_per_second: 3206.6959, train_label_loss: 0.1399, \n"
     ]
    },
    {
     "name": "stdout",
     "output_type": "stream",
     "text": [
      "epoch: 15, [batch: 1260 / 4200], examples_per_second: 3101.5201, train_label_loss: 0.3423, \n"
     ]
    },
    {
     "name": "stdout",
     "output_type": "stream",
     "text": [
      "epoch: 15, [batch: 1680 / 4200], examples_per_second: 3179.6880, train_label_loss: 0.3107, \n"
     ]
    },
    {
     "name": "stdout",
     "output_type": "stream",
     "text": [
      "epoch: 15, [batch: 2100 / 4200], examples_per_second: 3213.7870, train_label_loss: 0.5659, \n"
     ]
    },
    {
     "name": "stdout",
     "output_type": "stream",
     "text": [
      "epoch: 15, [batch: 2520 / 4200], examples_per_second: 3203.1746, train_label_loss: 0.3916, \n"
     ]
    },
    {
     "name": "stdout",
     "output_type": "stream",
     "text": [
      "epoch: 15, [batch: 2940 / 4200], examples_per_second: 3163.8890, train_label_loss: 0.1229, \n"
     ]
    },
    {
     "name": "stdout",
     "output_type": "stream",
     "text": [
      "epoch: 15, [batch: 3360 / 4200], examples_per_second: 3099.4587, train_label_loss: 0.1453, \n"
     ]
    },
    {
     "name": "stdout",
     "output_type": "stream",
     "text": [
      "epoch: 15, [batch: 3780 / 4200], examples_per_second: 3088.6409, train_label_loss: 0.0748, \n"
     ]
    },
    {
     "name": "stdout",
     "output_type": "stream",
     "text": [
      "=============================================================\n",
      "epoch: 15, source_val_acc_label: 0.9057, target_val_acc_label: 0.7811, source_val_label_loss: 0.2656, target_val_label_loss: 0.8805, \n",
      "=============================================================\n"
     ]
    },
    {
     "name": "stdout",
     "output_type": "stream",
     "text": [
      "epoch: 16, [batch: 1 / 4200], examples_per_second: 5.7142, train_label_loss: 0.2656, \n"
     ]
    },
    {
     "name": "stdout",
     "output_type": "stream",
     "text": [
      "epoch: 16, [batch: 420 / 4200], examples_per_second: 3210.7816, train_label_loss: 0.1635, \n"
     ]
    },
    {
     "name": "stdout",
     "output_type": "stream",
     "text": [
      "epoch: 16, [batch: 840 / 4200], examples_per_second: 3078.7706, train_label_loss: 0.3181, \n"
     ]
    },
    {
     "name": "stdout",
     "output_type": "stream",
     "text": [
      "epoch: 16, [batch: 1260 / 4200], examples_per_second: 3118.2017, train_label_loss: 0.0818, \n"
     ]
    },
    {
     "name": "stdout",
     "output_type": "stream",
     "text": [
      "epoch: 16, [batch: 1680 / 4200], examples_per_second: 3090.0473, train_label_loss: 0.0819, \n"
     ]
    },
    {
     "name": "stdout",
     "output_type": "stream",
     "text": [
      "epoch: 16, [batch: 2100 / 4200], examples_per_second: 3165.4806, train_label_loss: 0.2990, \n"
     ]
    },
    {
     "name": "stdout",
     "output_type": "stream",
     "text": [
      "epoch: 16, [batch: 2520 / 4200], examples_per_second: 3072.4538, train_label_loss: 0.0695, \n"
     ]
    },
    {
     "name": "stdout",
     "output_type": "stream",
     "text": [
      "epoch: 16, [batch: 2940 / 4200], examples_per_second: 3089.7976, train_label_loss: 0.2315, \n"
     ]
    },
    {
     "name": "stdout",
     "output_type": "stream",
     "text": [
      "epoch: 16, [batch: 3360 / 4200], examples_per_second: 3047.5836, train_label_loss: 0.0721, \n"
     ]
    },
    {
     "name": "stdout",
     "output_type": "stream",
     "text": [
      "epoch: 16, [batch: 3780 / 4200], examples_per_second: 3164.7424, train_label_loss: 0.2124, \n"
     ]
    },
    {
     "name": "stdout",
     "output_type": "stream",
     "text": [
      "=============================================================\n",
      "epoch: 16, source_val_acc_label: 0.9043, target_val_acc_label: 0.7780, source_val_label_loss: 0.2717, target_val_label_loss: 0.9426, \n",
      "=============================================================\n"
     ]
    },
    {
     "name": "stdout",
     "output_type": "stream",
     "text": [
      "epoch: 17, [batch: 1 / 4200], examples_per_second: 5.8406, train_label_loss: 0.1685, \n"
     ]
    },
    {
     "name": "stdout",
     "output_type": "stream",
     "text": [
      "epoch: 17, [batch: 420 / 4200], examples_per_second: 3175.8900, train_label_loss: 0.0796, \n"
     ]
    },
    {
     "name": "stdout",
     "output_type": "stream",
     "text": [
      "epoch: 17, [batch: 840 / 4200], examples_per_second: 3119.2954, train_label_loss: 0.0323, \n"
     ]
    },
    {
     "name": "stdout",
     "output_type": "stream",
     "text": [
      "epoch: 17, [batch: 1260 / 4200], examples_per_second: 3137.3775, train_label_loss: 0.2778, \n"
     ]
    },
    {
     "name": "stdout",
     "output_type": "stream",
     "text": [
      "epoch: 17, [batch: 1680 / 4200], examples_per_second: 3144.8659, train_label_loss: 0.3608, \n"
     ]
    },
    {
     "name": "stdout",
     "output_type": "stream",
     "text": [
      "epoch: 17, [batch: 2100 / 4200], examples_per_second: 3187.2903, train_label_loss: 0.1191, \n"
     ]
    },
    {
     "name": "stdout",
     "output_type": "stream",
     "text": [
      "epoch: 17, [batch: 2520 / 4200], examples_per_second: 3156.6499, train_label_loss: 0.0509, \n"
     ]
    },
    {
     "name": "stdout",
     "output_type": "stream",
     "text": [
      "epoch: 17, [batch: 2940 / 4200], examples_per_second: 3089.4571, train_label_loss: 0.2123, \n"
     ]
    },
    {
     "name": "stdout",
     "output_type": "stream",
     "text": [
      "epoch: 17, [batch: 3360 / 4200], examples_per_second: 3138.0457, train_label_loss: 0.1017, \n"
     ]
    },
    {
     "name": "stdout",
     "output_type": "stream",
     "text": [
      "epoch: 17, [batch: 3780 / 4200], examples_per_second: 2945.6241, train_label_loss: 0.1395, \n"
     ]
    },
    {
     "name": "stdout",
     "output_type": "stream",
     "text": [
      "=============================================================\n",
      "epoch: 17, source_val_acc_label: 0.9031, target_val_acc_label: 0.7832, source_val_label_loss: 0.2681, target_val_label_loss: 0.8182, \n",
      "=============================================================\n"
     ]
    },
    {
     "name": "stdout",
     "output_type": "stream",
     "text": [
      "New best\n"
     ]
    },
    {
     "name": "stdout",
     "output_type": "stream",
     "text": [
      "epoch: 18, [batch: 1 / 4200], examples_per_second: 5.6680, train_label_loss: 0.2351, \n"
     ]
    },
    {
     "name": "stdout",
     "output_type": "stream",
     "text": [
      "epoch: 18, [batch: 420 / 4200], examples_per_second: 3145.3027, train_label_loss: 0.0558, \n"
     ]
    },
    {
     "name": "stdout",
     "output_type": "stream",
     "text": [
      "epoch: 18, [batch: 840 / 4200], examples_per_second: 3207.1442, train_label_loss: 0.2698, \n"
     ]
    },
    {
     "name": "stdout",
     "output_type": "stream",
     "text": [
      "epoch: 18, [batch: 1260 / 4200], examples_per_second: 3195.1066, train_label_loss: 0.2398, \n"
     ]
    },
    {
     "name": "stdout",
     "output_type": "stream",
     "text": [
      "epoch: 18, [batch: 1680 / 4200], examples_per_second: 3193.1254, train_label_loss: 0.0921, \n"
     ]
    },
    {
     "name": "stdout",
     "output_type": "stream",
     "text": [
      "epoch: 18, [batch: 2100 / 4200], examples_per_second: 3153.9055, train_label_loss: 0.1162, \n"
     ]
    },
    {
     "name": "stdout",
     "output_type": "stream",
     "text": [
      "epoch: 18, [batch: 2520 / 4200], examples_per_second: 3191.9123, train_label_loss: 0.0851, \n"
     ]
    },
    {
     "name": "stdout",
     "output_type": "stream",
     "text": [
      "epoch: 18, [batch: 2940 / 4200], examples_per_second: 3205.8967, train_label_loss: 0.1718, \n"
     ]
    },
    {
     "name": "stdout",
     "output_type": "stream",
     "text": [
      "epoch: 18, [batch: 3360 / 4200], examples_per_second: 3225.3656, train_label_loss: 0.1936, \n"
     ]
    },
    {
     "name": "stdout",
     "output_type": "stream",
     "text": [
      "epoch: 18, [batch: 3780 / 4200], examples_per_second: 3225.0444, train_label_loss: 0.1416, \n"
     ]
    },
    {
     "name": "stdout",
     "output_type": "stream",
     "text": [
      "=============================================================\n",
      "epoch: 18, source_val_acc_label: 0.9034, target_val_acc_label: 0.7761, source_val_label_loss: 0.2770, target_val_label_loss: 0.9699, \n",
      "=============================================================\n"
     ]
    },
    {
     "name": "stdout",
     "output_type": "stream",
     "text": [
      "epoch: 19, [batch: 1 / 4200], examples_per_second: 5.4372, train_label_loss: 0.2147, \n"
     ]
    },
    {
     "name": "stdout",
     "output_type": "stream",
     "text": [
      "epoch: 19, [batch: 420 / 4200], examples_per_second: 3150.9569, train_label_loss: 0.2124, \n"
     ]
    },
    {
     "name": "stdout",
     "output_type": "stream",
     "text": [
      "epoch: 19, [batch: 840 / 4200], examples_per_second: 3186.9934, train_label_loss: 0.3221, \n"
     ]
    },
    {
     "name": "stdout",
     "output_type": "stream",
     "text": [
      "epoch: 19, [batch: 1260 / 4200], examples_per_second: 3125.0457, train_label_loss: 0.0906, \n"
     ]
    },
    {
     "name": "stdout",
     "output_type": "stream",
     "text": [
      "epoch: 19, [batch: 1680 / 4200], examples_per_second: 3192.1335, train_label_loss: 0.1765, \n"
     ]
    },
    {
     "name": "stdout",
     "output_type": "stream",
     "text": [
      "epoch: 19, [batch: 2100 / 4200], examples_per_second: 3206.8207, train_label_loss: 0.0651, \n"
     ]
    },
    {
     "name": "stdout",
     "output_type": "stream",
     "text": [
      "epoch: 19, [batch: 2520 / 4200], examples_per_second: 3159.3827, train_label_loss: 0.0436, \n"
     ]
    },
    {
     "name": "stdout",
     "output_type": "stream",
     "text": [
      "epoch: 19, [batch: 2940 / 4200], examples_per_second: 3128.9791, train_label_loss: 0.2337, \n"
     ]
    },
    {
     "name": "stdout",
     "output_type": "stream",
     "text": [
      "epoch: 19, [batch: 3360 / 4200], examples_per_second: 3164.3638, train_label_loss: 0.3670, \n"
     ]
    },
    {
     "name": "stdout",
     "output_type": "stream",
     "text": [
      "epoch: 19, [batch: 3780 / 4200], examples_per_second: 3201.4015, train_label_loss: 0.1867, \n"
     ]
    },
    {
     "name": "stdout",
     "output_type": "stream",
     "text": [
      "=============================================================\n",
      "epoch: 19, source_val_acc_label: 0.9059, target_val_acc_label: 0.7736, source_val_label_loss: 0.2612, target_val_label_loss: 0.8436, \n",
      "=============================================================\n"
     ]
    },
    {
     "name": "stdout",
     "output_type": "stream",
     "text": [
      "epoch: 20, [batch: 1 / 4200], examples_per_second: 5.8949, train_label_loss: 0.1306, \n"
     ]
    },
    {
     "name": "stdout",
     "output_type": "stream",
     "text": [
      "epoch: 20, [batch: 420 / 4200], examples_per_second: 3152.0320, train_label_loss: 0.0291, \n"
     ]
    },
    {
     "name": "stdout",
     "output_type": "stream",
     "text": [
      "epoch: 20, [batch: 840 / 4200], examples_per_second: 3119.0960, train_label_loss: 0.1164, \n"
     ]
    },
    {
     "name": "stdout",
     "output_type": "stream",
     "text": [
      "epoch: 20, [batch: 1260 / 4200], examples_per_second: 3180.8568, train_label_loss: 0.1654, \n"
     ]
    },
    {
     "name": "stdout",
     "output_type": "stream",
     "text": [
      "epoch: 20, [batch: 1680 / 4200], examples_per_second: 3195.5787, train_label_loss: 0.1548, \n"
     ]
    },
    {
     "name": "stdout",
     "output_type": "stream",
     "text": [
      "epoch: 20, [batch: 2100 / 4200], examples_per_second: 3130.2575, train_label_loss: 0.2477, \n"
     ]
    },
    {
     "name": "stdout",
     "output_type": "stream",
     "text": [
      "epoch: 20, [batch: 2520 / 4200], examples_per_second: 3168.4376, train_label_loss: 0.2230, \n"
     ]
    },
    {
     "name": "stdout",
     "output_type": "stream",
     "text": [
      "epoch: 20, [batch: 2940 / 4200], examples_per_second: 3171.0981, train_label_loss: 0.1771, \n"
     ]
    },
    {
     "name": "stdout",
     "output_type": "stream",
     "text": [
      "epoch: 20, [batch: 3360 / 4200], examples_per_second: 3186.3671, train_label_loss: 0.1631, \n"
     ]
    },
    {
     "name": "stdout",
     "output_type": "stream",
     "text": [
      "epoch: 20, [batch: 3780 / 4200], examples_per_second: 3212.8839, train_label_loss: 0.0289, \n"
     ]
    },
    {
     "name": "stdout",
     "output_type": "stream",
     "text": [
      "=============================================================\n",
      "epoch: 20, source_val_acc_label: 0.9057, target_val_acc_label: 0.7754, source_val_label_loss: 0.2684, target_val_label_loss: 0.8539, \n",
      "=============================================================\n"
     ]
    },
    {
     "name": "stdout",
     "output_type": "stream",
     "text": [
      "epoch: 21, [batch: 1 / 4200], examples_per_second: 5.7954, train_label_loss: 0.2238, \n"
     ]
    },
    {
     "name": "stdout",
     "output_type": "stream",
     "text": [
      "epoch: 21, [batch: 420 / 4200], examples_per_second: 3109.3297, train_label_loss: 0.1889, \n"
     ]
    },
    {
     "name": "stdout",
     "output_type": "stream",
     "text": [
      "epoch: 21, [batch: 840 / 4200], examples_per_second: 3186.1336, train_label_loss: 0.0958, \n"
     ]
    },
    {
     "name": "stdout",
     "output_type": "stream",
     "text": [
      "epoch: 21, [batch: 1260 / 4200], examples_per_second: 3198.9513, train_label_loss: 0.1359, \n"
     ]
    },
    {
     "name": "stdout",
     "output_type": "stream",
     "text": [
      "epoch: 21, [batch: 1680 / 4200], examples_per_second: 3105.6384, train_label_loss: 0.0598, \n"
     ]
    },
    {
     "name": "stdout",
     "output_type": "stream",
     "text": [
      "epoch: 21, [batch: 2100 / 4200], examples_per_second: 3144.6905, train_label_loss: 0.1740, \n"
     ]
    },
    {
     "name": "stdout",
     "output_type": "stream",
     "text": [
      "epoch: 21, [batch: 2520 / 4200], examples_per_second: 3217.6780, train_label_loss: 0.1398, \n"
     ]
    },
    {
     "name": "stdout",
     "output_type": "stream",
     "text": [
      "epoch: 21, [batch: 2940 / 4200], examples_per_second: 3113.8813, train_label_loss: 0.1096, \n"
     ]
    },
    {
     "name": "stdout",
     "output_type": "stream",
     "text": [
      "epoch: 21, [batch: 3360 / 4200], examples_per_second: 3191.9253, train_label_loss: 0.1245, \n"
     ]
    },
    {
     "name": "stdout",
     "output_type": "stream",
     "text": [
      "epoch: 21, [batch: 3780 / 4200], examples_per_second: 3186.0224, train_label_loss: 0.1849, \n"
     ]
    },
    {
     "name": "stdout",
     "output_type": "stream",
     "text": [
      "=============================================================\n",
      "epoch: 21, source_val_acc_label: 0.9021, target_val_acc_label: 0.7719, source_val_label_loss: 0.2780, target_val_label_loss: 0.8310, \n",
      "=============================================================\n"
     ]
    },
    {
     "name": "stdout",
     "output_type": "stream",
     "text": [
      "Patience (3) exhausted\n"
     ]
    }
   ],
   "source": [
    "###################################\n",
    "# train\n",
    "###################################\n",
    "jig = PTN_Train_Eval_Test_Jig(model, p.BEST_MODEL_PATH, p.device)\n",
    "\n",
    "jig.train(\n",
    "    train_iterable=datasets.source.processed.train,\n",
    "    source_val_iterable=datasets.source.processed.val,\n",
    "    target_val_iterable=datasets.target.processed.val,\n",
    "    num_epochs=p.n_epoch,\n",
    "    num_logs_per_epoch=p.NUM_LOGS_PER_EPOCH,\n",
    "    patience=p.patience,\n",
    "    optimizer=optimizer,\n",
    "    criteria_for_best=p.criteria_for_best,\n",
    ")"
   ]
  },
  {
   "cell_type": "code",
   "execution_count": 14,
   "id": "31e8fabf",
   "metadata": {
    "execution": {
     "iopub.execute_input": "2022-03-04T23:36:20.707854Z",
     "iopub.status.busy": "2022-03-04T23:36:20.707462Z",
     "iopub.status.idle": "2022-03-04T23:36:20.720695Z",
     "shell.execute_reply": "2022-03-04T23:36:20.720918Z"
    },
    "papermill": {
     "duration": 0.06908,
     "end_time": "2022-03-04T23:36:20.721005",
     "exception": false,
     "start_time": "2022-03-04T23:36:20.651925",
     "status": "completed"
    },
    "tags": []
   },
   "outputs": [],
   "source": [
    "total_experiment_time_secs = time.time() - start_time_secs"
   ]
  },
  {
   "cell_type": "code",
   "execution_count": 15,
   "id": "87b9595b",
   "metadata": {
    "execution": {
     "iopub.execute_input": "2022-03-04T23:36:20.832594Z",
     "iopub.status.busy": "2022-03-04T23:36:20.832157Z",
     "iopub.status.idle": "2022-03-04T23:37:43.043251Z",
     "shell.execute_reply": "2022-03-04T23:37:43.043644Z"
    },
    "papermill": {
     "duration": 82.267772,
     "end_time": "2022-03-04T23:37:43.043769",
     "exception": false,
     "start_time": "2022-03-04T23:36:20.775997",
     "status": "completed"
    },
    "tags": []
   },
   "outputs": [],
   "source": [
    "###################################\n",
    "# Evaluate the model\n",
    "###################################\n",
    "source_test_label_accuracy, source_test_label_loss = jig.test(datasets.source.processed.test)\n",
    "target_test_label_accuracy, target_test_label_loss = jig.test(datasets.target.processed.test)\n",
    "\n",
    "source_val_label_accuracy, source_val_label_loss = jig.test(datasets.source.processed.val)\n",
    "target_val_label_accuracy, target_val_label_loss = jig.test(datasets.target.processed.val)\n",
    "\n",
    "history = jig.get_history()\n",
    "\n",
    "total_epochs_trained = len(history[\"epoch_indices\"])\n",
    "\n",
    "val_dl = Iterable_Aggregator((datasets.source.original.val,datasets.target.original.val))\n",
    "\n",
    "confusion = ptn_confusion_by_domain_over_dataloader(model, p.device, val_dl)\n",
    "per_domain_accuracy = per_domain_accuracy_from_confusion(confusion)\n",
    "\n",
    "# Add a key to per_domain_accuracy for if it was a source domain\n",
    "for domain, accuracy in per_domain_accuracy.items():\n",
    "    per_domain_accuracy[domain] = {\n",
    "        \"accuracy\": accuracy,\n",
    "        \"source?\": domain in p.domains_source\n",
    "    }\n",
    "\n",
    "# Do an independent accuracy assesment JUST TO BE SURE!\n",
    "# _source_test_label_accuracy = independent_accuracy_assesment(model, datasets.source.processed.test, p.device)\n",
    "# _target_test_label_accuracy = independent_accuracy_assesment(model, datasets.target.processed.test, p.device)\n",
    "# _source_val_label_accuracy = independent_accuracy_assesment(model, datasets.source.processed.val, p.device)\n",
    "# _target_val_label_accuracy = independent_accuracy_assesment(model, datasets.target.processed.val, p.device)\n",
    "\n",
    "# assert(_source_test_label_accuracy == source_test_label_accuracy)\n",
    "# assert(_target_test_label_accuracy == target_test_label_accuracy)\n",
    "# assert(_source_val_label_accuracy == source_val_label_accuracy)\n",
    "# assert(_target_val_label_accuracy == target_val_label_accuracy)\n",
    "\n",
    "experiment = {\n",
    "    \"experiment_name\": p.experiment_name,\n",
    "    \"parameters\": dict(p),\n",
    "    \"results\": {\n",
    "        \"source_test_label_accuracy\": source_test_label_accuracy,\n",
    "        \"source_test_label_loss\": source_test_label_loss,\n",
    "        \"target_test_label_accuracy\": target_test_label_accuracy,\n",
    "        \"target_test_label_loss\": target_test_label_loss,\n",
    "        \"source_val_label_accuracy\": source_val_label_accuracy,\n",
    "        \"source_val_label_loss\": source_val_label_loss,\n",
    "        \"target_val_label_accuracy\": target_val_label_accuracy,\n",
    "        \"target_val_label_loss\": target_val_label_loss,\n",
    "        \"total_epochs_trained\": total_epochs_trained,\n",
    "        \"total_experiment_time_secs\": total_experiment_time_secs,\n",
    "        \"confusion\": confusion,\n",
    "        \"per_domain_accuracy\": per_domain_accuracy,\n",
    "    },\n",
    "    \"history\": history,\n",
    "    \"dataset_metrics\": get_dataset_metrics(datasets, \"ptn\"),\n",
    "}"
   ]
  },
  {
   "cell_type": "code",
   "execution_count": 16,
   "id": "54a21829",
   "metadata": {
    "execution": {
     "iopub.execute_input": "2022-03-04T23:37:43.167272Z",
     "iopub.status.busy": "2022-03-04T23:37:43.167002Z",
     "iopub.status.idle": "2022-03-04T23:37:43.339771Z",
     "shell.execute_reply": "2022-03-04T23:37:43.339424Z"
    },
    "papermill": {
     "duration": 0.228403,
     "end_time": "2022-03-04T23:37:43.339852",
     "exception": false,
     "start_time": "2022-03-04T23:37:43.111449",
     "status": "completed"
    },
    "tags": []
   },
   "outputs": [
    {
     "data": {
      "image/png": "[encoded data removed]",
      "text/plain": [
       "<Figure size 1080x504 with 1 Axes>"
      ]
     },
     "metadata": {
      "needs_background": "light"
     },
     "output_type": "display_data"
    }
   ],
   "source": [
    "ax = get_loss_curve(experiment)\n",
    "plt.show()"
   ]
  },
  {
   "cell_type": "code",
   "execution_count": 17,
   "id": "fd8a0f60",
   "metadata": {
    "execution": {
     "iopub.execute_input": "2022-03-04T23:37:43.453973Z",
     "iopub.status.busy": "2022-03-04T23:37:43.453488Z",
     "iopub.status.idle": "2022-03-04T23:37:43.633560Z",
     "shell.execute_reply": "2022-03-04T23:37:43.633968Z"
    },
    "papermill": {
     "duration": 0.23661,
     "end_time": "2022-03-04T23:37:43.634100",
     "exception": false,
     "start_time": "2022-03-04T23:37:43.397490",
     "status": "completed"
    },
    "tags": []
   },
   "outputs": [
    {
     "data": {
      "text/plain": [
       "<matplotlib.axes._subplots.AxesSubplot at 0x7f482a1ee8b0>"
      ]
     },
     "execution_count": 17,
     "metadata": {},
     "output_type": "execute_result"
    },
    {
     "data": {
      "image/png": "[encoded data removed]",
      "text/plain": [
       "<Figure size 1080x504 with 1 Axes>"
      ]
     },
     "metadata": {
      "needs_background": "light"
     },
     "output_type": "display_data"
    }
   ],
   "source": [
    "get_results_table(experiment)"
   ]
  },
  {
   "cell_type": "code",
   "execution_count": 18,
   "id": "cf8dc689",
   "metadata": {
    "execution": {
     "iopub.execute_input": "2022-03-04T23:37:43.752327Z",
     "iopub.status.busy": "2022-03-04T23:37:43.752069Z",
     "iopub.status.idle": "2022-03-04T23:37:43.924955Z",
     "shell.execute_reply": "2022-03-04T23:37:43.924551Z"
    },
    "papermill": {
     "duration": 0.230014,
     "end_time": "2022-03-04T23:37:43.925058",
     "exception": false,
     "start_time": "2022-03-04T23:37:43.695044",
     "status": "completed"
    },
    "tags": []
   },
   "outputs": [
    {
     "data": {
      "text/plain": [
       "<matplotlib.axes._subplots.AxesSubplot at 0x7f482a1f5820>"
      ]
     },
     "execution_count": 18,
     "metadata": {},
     "output_type": "execute_result"
    },
    {
     "data": {
      "image/png": "[encoded data removed]",
      "text/plain": [
       "<Figure size 1080x504 with 1 Axes>"
      ]
     },
     "metadata": {
      "needs_background": "light"
     },
     "output_type": "display_data"
    }
   ],
   "source": [
    "get_domain_accuracies(experiment)"
   ]
  },
  {
   "cell_type": "code",
   "execution_count": 19,
   "id": "a74ae082",
   "metadata": {
    "execution": {
     "iopub.execute_input": "2022-03-04T23:37:44.060788Z",
     "iopub.status.busy": "2022-03-04T23:37:44.059342Z",
     "iopub.status.idle": "2022-03-04T23:37:44.074328Z",
     "shell.execute_reply": "2022-03-04T23:37:44.074021Z"
    },
    "papermill": {
     "duration": 0.089308,
     "end_time": "2022-03-04T23:37:44.074407",
     "exception": false,
     "start_time": "2022-03-04T23:37:43.985099",
     "status": "completed"
    },
    "tags": []
   },
   "outputs": [
    {
     "name": "stdout",
     "output_type": "stream",
     "text": [
      "Source Test Label Accuracy: 0.9038888888888889 Target Test Label Accuracy: 0.7703125\n",
      "Source Val Label Accuracy: 0.9030555555555555 Target Val Label Accuracy: 0.7832291666666666\n"
     ]
    }
   ],
   "source": [
    "print(\"Source Test Label Accuracy:\", experiment[\"results\"][\"source_test_label_accuracy\"], \"Target Test Label Accuracy:\", experiment[\"results\"][\"target_test_label_accuracy\"])\n",
    "print(\"Source Val Label Accuracy:\", experiment[\"results\"][\"source_val_label_accuracy\"], \"Target Val Label Accuracy:\", experiment[\"results\"][\"target_val_label_accuracy\"])"
   ]
  },
  {
   "cell_type": "code",
   "execution_count": 20,
   "id": "dacca602",
   "metadata": {
    "execution": {
     "iopub.execute_input": "2022-03-04T23:37:44.195879Z",
     "iopub.status.busy": "2022-03-04T23:37:44.195618Z",
     "iopub.status.idle": "2022-03-04T23:37:44.207569Z",
     "shell.execute_reply": "2022-03-04T23:37:44.207117Z"
    },
    "papermill": {
     "duration": 0.071864,
     "end_time": "2022-03-04T23:37:44.207664",
     "exception": false,
     "start_time": "2022-03-04T23:37:44.135800",
     "status": "completed"
    },
    "tags": [
     "experiment_json"
    ]
   },
   "outputs": [
    {
     "data": {
      "text/plain": [
       "'{\"experiment_name\": \"nQuery_oracle.run2\", \"parameters\": {\"experiment_name\": \"nQuery_oracle.run2\", \"device\": \"cuda\", \"lr\": 0.001, \"seed\": 1337, \"dataset_seed\": 1337, \"labels_source\": [\"3123D52\", \"3123D65\", \"3123D79\", \"3123D80\", \"3123D54\", \"3123D70\", \"3123D7B\", \"3123D89\", \"3123D58\", \"3123D76\", \"3123D7D\", \"3123EFE\", \"3123D64\", \"3123D78\", \"3123D7E\", \"3124E4A\"], \"labels_target\": [\"3123D52\", \"3123D65\", \"3123D79\", \"3123D80\", \"3123D54\", \"3123D70\", \"3123D7B\", \"3123D89\", \"3123D58\", \"3123D76\", \"3123D7D\", \"3123EFE\", \"3123D64\", \"3123D78\", \"3123D7E\", \"3124E4A\"], \"x_transforms_source\": [], \"x_transforms_target\": [], \"episode_transforms_source\": [], \"episode_transforms_target\": [], \"num_examples_per_domain_per_label_target\": 1000, \"n_shot\": 3, \"n_way\": 16, \"n_query\": 2, \"train_k_factor\": 1, \"val_k_factor\": 2, \"test_k_factor\": 2, \"torch_default_dtype\": \"torch.float32\", \"n_epoch\": 50, \"patience\": 3, \"criteria_for_best\": \"target_loss\", \"x_net\": [{\"class\": \"nnReshape\", \"kargs\": {\"shape\": [-1, 1, 2, 256]}}, {\"class\": \"Conv2d\", \"kargs\": {\"in_channels\": 1, \"out_channels\": 256, \"kernel_size\": [1, 7], \"bias\": false, \"padding\": [0, 3]}}, {\"class\": \"ReLU\", \"kargs\": {\"inplace\": true}}, {\"class\": \"BatchNorm2d\", \"kargs\": {\"num_features\": 256}}, {\"class\": \"Conv2d\", \"kargs\": {\"in_channels\": 256, \"out_channels\": 80, \"kernel_size\": [2, 7], \"bias\": true, \"padding\": [0, 3]}}, {\"class\": \"ReLU\", \"kargs\": {\"inplace\": true}}, {\"class\": \"BatchNorm2d\", \"kargs\": {\"num_features\": 80}}, {\"class\": \"Flatten\", \"kargs\": {}}, {\"class\": \"Linear\", \"kargs\": {\"in_features\": 20480, \"out_features\": 256}}, {\"class\": \"ReLU\", \"kargs\": {\"inplace\": true}}, {\"class\": \"BatchNorm1d\", \"kargs\": {\"num_features\": 256}}, {\"class\": \"Linear\", \"kargs\": {\"in_features\": 256, \"out_features\": 256}}], \"NUM_LOGS_PER_EPOCH\": 10, \"BEST_MODEL_PATH\": \"./best_model.pth\", \"pickle_name\": \"oracle.Run2_10kExamples_stratified_ds.2022A.pkl\", \"num_examples_per_domain_per_label_source\": 10000, \"domains_source\": [8, 32, 50], \"domains_target\": [14, 20, 26, 38, 44]}, \"results\": {\"source_test_label_accuracy\": 0.9038888888888889, \"source_test_label_loss\": 0.26608791947364807, \"target_test_label_accuracy\": 0.7703125, \"target_test_label_loss\": 0.8884563446044922, \"source_val_label_accuracy\": 0.9030555555555555, \"source_val_label_loss\": 0.26812681555747986, \"target_val_label_accuracy\": 0.7832291666666666, \"target_val_label_loss\": 0.8181670308113098, \"total_epochs_trained\": 21, \"total_experiment_time_secs\": 2640.1022856235504, \"confusion\": {\"8\": {\"15\": {\"15\": 1157, \"12\": 38, \"2\": 5}, \"3\": {\"3\": 1200}, \"6\": {\"8\": 47, \"6\": 1047, \"14\": 100, \"4\": 5, \"11\": 1}, \"1\": {\"1\": 1026, \"5\": 45, \"10\": 55, \"4\": 12, \"13\": 45, \"14\": 14, \"7\": 2, \"6\": 1}, \"8\": {\"8\": 1024, \"11\": 117, \"6\": 51, \"4\": 8}, \"10\": {\"10\": 979, \"13\": 69, \"5\": 138, \"1\": 14}, \"9\": {\"9\": 1200}, \"13\": {\"13\": 1095, \"7\": 27, \"10\": 60, \"4\": 4, \"1\": 13, \"5\": 1}, \"12\": {\"12\": 1177, \"15\": 23}, \"5\": {\"5\": 958, \"1\": 48, \"10\": 194}, \"0\": {\"0\": 1198, \"14\": 2}, \"2\": {\"2\": 1197, \"13\": 2, \"15\": 1}, \"11\": {\"11\": 915, \"6\": 22, \"8\": 260, \"7\": 2, \"4\": 1}, \"14\": {\"14\": 1102, \"6\": 91, \"1\": 7}, \"7\": {\"7\": 1018, \"4\": 176, \"13\": 5, \"8\": 1}, \"4\": {\"4\": 945, \"6\": 16, \"7\": 215, \"8\": 6, \"14\": 1, \"13\": 5, \"1\": 12}}, \"50\": {\"3\": {\"3\": 1200}, \"15\": {\"15\": 1128, \"6\": 59, \"4\": 5, \"9\": 7, \"12\": 1}, \"8\": {\"8\": 1199, \"13\": 1}, \"4\": {\"4\": 892, \"5\": 258, \"7\": 39, \"6\": 8, \"15\": 3}, \"14\": {\"14\": 1200}, \"0\": {\"0\": 1114, \"2\": 62, \"10\": 24}, \"7\": {\"7\": 1125, \"5\": 22, \"4\": 53}, \"6\": {\"6\": 1084, \"15\": 70, \"5\": 40, \"4\": 6}, \"10\": {\"10\": 1178, \"0\": 17, \"13\": 5}, \"5\": {\"5\": 827, \"4\": 280, \"6\": 44, \"7\": 49}, \"2\": {\"2\": 1175, \"0\": 24, \"14\": 1}, \"12\": {\"9\": 18, \"12\": 1171, \"11\": 10, \"15\": 1}, \"9\": {\"9\": 1179, \"12\": 19, \"15\": 2}, \"1\": {\"1\": 1195, \"13\": 5}, \"11\": {\"11\": 1165, \"12\": 32, \"15\": 1, \"1\": 2}, \"13\": {\"13\": 1192, \"1\": 6, \"8\": 1, \"10\": 1}}, \"32\": {\"5\": {\"5\": 1098, \"15\": 17, \"0\": 4, \"14\": 17, \"2\": 39, \"8\": 8, \"7\": 17}, \"8\": {\"8\": 1058, \"0\": 97, \"7\": 40, \"2\": 3, \"15\": 2}, \"11\": {\"11\": 597, \"4\": 390, \"13\": 180, \"0\": 27, \"7\": 5, \"2\": 1}, \"1\": {\"1\": 1200}, \"10\": {\"10\": 1200}, \"15\": {\"15\": 1194, \"8\": 1, \"5\": 5}, \"3\": {\"3\": 1150, \"13\": 44, \"11\": 1, \"4\": 5}, \"7\": {\"7\": 998, \"0\": 85, \"2\": 71, \"8\": 43, \"5\": 2, \"4\": 1}, \"4\": {\"4\": 1004, \"11\": 155, \"0\": 27, \"13\": 12, \"8\": 2}, \"14\": {\"2\": 285, \"14\": 899, \"0\": 12, \"5\": 4}, \"9\": {\"9\": 1200}, \"12\": {\"12\": 1200}, \"6\": {\"6\": 1200}, \"2\": {\"0\": 62, \"2\": 931, \"14\": 153, \"7\": 53, \"8\": 1}, \"0\": {\"0\": 815, \"4\": 48, \"7\": 127, \"2\": 96, \"14\": 18, \"8\": 91, \"11\": 5}, \"13\": {\"13\": 1010, \"11\": 97, \"3\": 49, \"4\": 44}}, \"14\": {\"15\": {\"15\": 120}, \"3\": {\"3\": 117, \"6\": 3}, \"6\": {\"6\": 95, \"13\": 25}, \"1\": {\"1\": 120}, \"8\": {\"8\": 119, \"10\": 1}, \"10\": {\"0\": 22, \"10\": 95, \"3\": 3}, \"9\": {\"9\": 120}, \"13\": {\"13\": 98, \"6\": 22}, \"12\": {\"12\": 39, \"9\": 18, \"8\": 11, \"15\": 21, \"3\": 10, \"10\": 11, \"6\": 3, \"0\": 1, \"11\": 4, \"1\": 2}, \"5\": {\"14\": 12, \"5\": 100, \"2\": 7, \"3\": 1}, \"0\": {\"0\": 115, \"10\": 5}, \"2\": {\"2\": 52, \"3\": 3, \"5\": 26, \"14\": 25, \"7\": 10, \"13\": 2, \"6\": 2}, \"11\": {\"11\": 120}, \"14\": {\"14\": 74, \"2\": 29, \"5\": 15, \"3\": 2}, \"7\": {\"7\": 118, \"2\": 2}, \"4\": {\"4\": 120}}, \"20\": {\"3\": {\"15\": 12, \"4\": 23, \"3\": 42, \"5\": 9, \"7\": 12, \"2\": 9, \"9\": 12, \"12\": 1}, \"15\": {\"15\": 54, \"13\": 8, \"2\": 10, \"9\": 22, \"4\": 7, \"3\": 6, \"12\": 6, \"1\": 2, \"5\": 5}, \"8\": {\"8\": 89, \"14\": 25, \"11\": 4, \"0\": 2}, \"4\": {\"4\": 78, \"15\": 6, \"7\": 9, \"5\": 3, \"12\": 2, \"9\": 5, \"3\": 14, \"2\": 3}, \"14\": {\"14\": 87, \"8\": 32, \"7\": 1}, \"0\": {\"0\": 115, \"11\": 2, \"1\": 1, \"8\": 2}, \"7\": {\"7\": 90, \"4\": 9, \"3\": 12, \"6\": 3, \"10\": 4, \"5\": 2}, \"6\": {\"6\": 114, \"10\": 5, \"7\": 1}, \"10\": {\"10\": 101, \"7\": 12, \"6\": 6, \"4\": 1}, \"5\": {\"3\": 14, \"9\": 15, \"5\": 40, \"2\": 31, \"1\": 14, \"15\": 4, \"4\": 1, \"8\": 1}, \"2\": {\"15\": 11, \"2\": 42, \"3\": 10, \"9\": 27, \"5\": 22, \"4\": 4, \"1\": 4}, \"12\": {\"12\": 82, \"13\": 38}, \"9\": {\"15\": 17, \"9\": 39, \"2\": 28, \"13\": 3, \"3\": 15, \"4\": 12, \"5\": 6}, \"1\": {\"1\": 106, \"5\": 9, \"0\": 1, \"2\": 2, \"15\": 1, \"9\": 1}, \"11\": {\"11\": 109, \"8\": 9, \"14\": 2}, \"13\": {\"13\": 83, \"12\": 36, \"9\": 1}}, \"44\": {\"5\": {\"5\": 101, \"15\": 2, \"8\": 8, \"14\": 9}, \"8\": {\"8\": 97, \"5\": 7, \"0\": 16}, \"11\": {\"11\": 120}, \"1\": {\"1\": 116, \"2\": 4}, \"10\": {\"10\": 115, \"7\": 5}, \"15\": {\"15\": 110, \"5\": 4, \"4\": 1, \"0\": 3, \"8\": 2}, \"3\": {\"3\": 112, \"12\": 8}, \"7\": {\"9\": 38, \"7\": 82}, \"4\": {\"14\": 14, \"4\": 106}, \"14\": {\"14\": 97, \"4\": 18, \"5\": 5}, \"9\": {\"9\": 72, \"7\": 46, \"6\": 2}, \"12\": {\"12\": 111, \"3\": 9}, \"6\": {\"6\": 120}, \"2\": {\"2\": 117, \"1\": 3}, \"0\": {\"0\": 97, \"8\": 22, \"15\": 1}, \"13\": {\"13\": 118, \"4\": 2}}, \"38\": {\"14\": {\"2\": 36, \"14\": 71, \"4\": 8, \"7\": 4, \"12\": 1}, \"0\": {\"0\": 112, \"7\": 8}, \"13\": {\"3\": 22, \"10\": 10, \"13\": 88}, \"7\": {\"7\": 120}, \"9\": {\"9\": 119, \"5\": 1}, \"3\": {\"13\": 42, \"3\": 61, \"10\": 17}, \"11\": {\"11\": 120}, \"6\": {\"6\": 120}, \"8\": {\"8\": 110, \"5\": 10}, \"4\": {\"4\": 115, \"10\": 4, \"7\": 1}, \"5\": {\"5\": 69, \"8\": 44, \"9\": 3, \"12\": 4}, \"10\": {\"10\": 103, \"3\": 5, \"4\": 5, \"13\": 7}, \"1\": {\"1\": 111, \"15\": 9}, \"2\": {\"2\": 110, \"14\": 10}, \"15\": {\"15\": 71, \"1\": 32, \"6\": 17}, \"12\": {\"12\": 117, \"5\": 2, \"14\": 1}}, \"26\": {\"13\": {\"13\": 97, \"7\": 6, \"9\": 17}, \"2\": {\"8\": 28, \"7\": 10, \"2\": 58, \"15\": 5, \"9\": 18, \"3\": 1}, \"8\": {\"8\": 74, \"2\": 22, \"10\": 2, \"9\": 16, \"7\": 2, \"0\": 3, \"15\": 1}, \"9\": {\"9\": 62, \"8\": 19, \"13\": 16, \"2\": 14, \"7\": 8, \"15\": 1}, \"12\": {\"12\": 120}, \"4\": {\"4\": 119, \"3\": 1}, \"3\": {\"3\": 91, \"7\": 26, \"9\": 1, \"2\": 2}, \"15\": {\"15\": 93, \"10\": 6, \"2\": 7, \"0\": 6, \"8\": 6, \"9\": 1, \"14\": 1}, \"14\": {\"10\": 23, \"14\": 66, \"0\": 11, \"1\": 12, \"5\": 4, \"6\": 3, \"15\": 1}, \"10\": {\"8\": 12, \"6\": 6, \"0\": 25, \"15\": 8, \"1\": 5, \"10\": 38, \"14\": 22, \"2\": 2, \"9\": 2}, \"7\": {\"2\": 7, \"7\": 71, \"3\": 34, \"9\": 5, \"13\": 3}, \"11\": {\"11\": 120}, \"6\": {\"6\": 82, \"5\": 33, \"1\": 2, \"10\": 2, \"14\": 1}, \"1\": {\"1\": 111, \"5\": 4, \"6\": 1, \"14\": 4}, \"5\": {\"5\": 61, \"6\": 42, \"0\": 2, \"10\": 4, \"8\": 1, \"14\": 5, \"1\": 4, \"9\": 1}, \"0\": {\"10\": 32, \"0\": 55, \"15\": 8, \"2\": 1, \"14\": 18, \"8\": 6}}}, \"per_domain_accuracy\": {\"8\": {\"accuracy\": 0.8978125, \"source?\": true}, \"50\": {\"accuracy\": 0.93875, \"source?\": true}, \"32\": {\"accuracy\": 0.8726041666666666, \"source?\": true}, \"14\": {\"accuracy\": 0.8447916666666667, \"source?\": false}, \"20\": {\"accuracy\": 0.6619791666666667, \"source?\": false}, \"44\": {\"accuracy\": 0.8807291666666667, \"source?\": false}, \"38\": {\"accuracy\": 0.8421875, \"source?\": false}, \"26\": {\"accuracy\": 0.6864583333333333, \"source?\": false}}}, \"history\": {\"epoch_indices\": [1, 2, 3, 4, 5, 6, 7, 8, 9, 10, 11, 12, 13, 14, 15, 16, 17, 18, 19, 20, 21], \"train_label_loss\": [0.7446045254206374, 0.6908278683342395, 0.43082702927291394, 0.3887441213091924, 0.36451416489801236, 0.3488083999133891, 0.3227068364850822, 0.29251245197884385, 0.2795955523378437, 0.2671297196666932, 0.2583350715018986, 0.24113670722004912, 0.23115717807119446, 0.21802771683205807, 0.2123387447105987, 0.2050739632232026, 0.1984097928779998, 0.19111945707007266, 0.18821597493486478, 0.18383262294522, 0.17856340513830737], \"source_val_label_loss\": [78.1766357421875, 0.5117616653442383, 0.44408848881721497, 0.40345409512519836, 0.4492347240447998, 0.3779767155647278, 0.3418876528739929, 0.3577486276626587, 0.3748012185096741, 0.3144471049308777, 0.305269330739975, 0.2944849133491516, 0.2881695032119751, 0.28241240978240967, 0.2656247913837433, 0.2716837525367737, 0.26812681555747986, 0.2769520878791809, 0.2611963450908661, 0.2684482932090759, 0.27796411514282227], \"target_val_label_loss\": [54.33366775512695, 1.1871169805526733, 1.2403504848480225, 1.1766871213912964, 1.3329282999038696, 1.1307384967803955, 0.8493502736091614, 1.161175012588501, 1.029255747795105, 0.843597412109375, 0.8479011058807373, 0.8441869020462036, 0.8226362466812134, 0.8826050758361816, 0.8804901242256165, 0.942557692527771, 0.8181670308113098, 0.9699292182922363, 0.8435706496238708, 0.8538830876350403, 0.8310445547103882], \"source_val_acc_label\": [0.6969965277777778, 0.81796875, 0.8478125, 0.8636111111111111, 0.8511805555555556, 0.8687152777777778, 0.8776041666666666, 0.8836979166666666, 0.8830034722222222, 0.8910243055555556, 0.8949305555555556, 0.8952604166666667, 0.8940104166666667, 0.8974305555555555, 0.9057465277777778, 0.9042881944444444, 0.9030555555555555, 0.9033680555555555, 0.9058506944444444, 0.9056944444444445, 0.9021006944444444], \"target_val_acc_label\": [0.5095833333333334, 0.6680208333333333, 0.6982291666666667, 0.7094791666666667, 0.7111458333333334, 0.7260416666666667, 0.75375, 0.7523958333333334, 0.75875, 0.7698958333333333, 0.770625, 0.7720833333333333, 0.7719791666666667, 0.7689583333333333, 0.7811458333333333, 0.7780208333333334, 0.7832291666666666, 0.7761458333333333, 0.7736458333333334, 0.7754166666666666, 0.771875]}, \"dataset_metrics\": {\"source\": {\"train\": {\"n_unique_x\": 336000, \"n_unique_y\": 16, \"n_batch/episode\": 4200}, \"val\": {\"n_unique_x\": 72000, \"n_unique_y\": 16, \"n_batch/episode\": 1800}, \"test\": {\"n_unique_x\": 72000, \"n_unique_y\": 16, \"n_batch/episode\": 1800}}, \"target\": {\"train\": {\"n_unique_x\": 56000, \"n_unique_y\": 16, \"n_batch/episode\": 700}, \"val\": {\"n_unique_x\": 12000, \"n_unique_y\": 16, \"n_batch/episode\": 300}, \"test\": {\"n_unique_x\": 12000, \"n_unique_y\": 16, \"n_batch/episode\": 300}}}}'"
      ]
     },
     "execution_count": 20,
     "metadata": {},
     "output_type": "execute_result"
    }
   ],
   "source": [
    "json.dumps(experiment)"
   ]
  }
 ],
 "metadata": {
  "celltoolbar": "Tags",
  "kernelspec": {
   "display_name": "Python 3 (ipykernel)",
   "language": "python",
   "name": "python3"
  },
  "language_info": {
   "codemirror_mode": {
    "name": "ipython",
    "version": 3
   },
   "file_extension": ".py",
   "mimetype": "text/x-python",
   "name": "python",
   "nbconvert_exporter": "python",
   "pygments_lexer": "ipython3",
   "version": "3.8.10"
  },
  "papermill": {
   "default_parameters": {},
   "duration": 2726.287627,
   "end_time": "2022-03-04T23:37:45.080176",
   "environment_variables": {},
   "exception": null,
   "input_path": "/mnt/wd500GB/CSC500/csc500-main/csc500-notebooks/templates/ptn_template.ipynb",
   "output_path": "trial.ipynb",
   "parameters": {
    "parameters": {
     "BEST_MODEL_PATH": "./best_model.pth",
     "NUM_LOGS_PER_EPOCH": 10,
     "criteria_for_best": "target_loss",
     "dataset_seed": 1337,
     "device": "cuda",
     "domains_source": [
      8,
      32,
      50
     ],
     "domains_target": [
      14,
      20,
      26,
      38,
      44
     ],
     "episode_transforms_source": [],
     "episode_transforms_target": [],
     "experiment_name": "nQuery_oracle.run2",
     "labels_source": [
      "3123D52",
      "3123D65",
      "3123D79",
      "3123D80",
      "3123D54",
      "3123D70",
      "3123D7B",
      "3123D89",
      "3123D58",
      "3123D76",
      "3123D7D",
      "3123EFE",
      "3123D64",
      "3123D78",
      "3123D7E",
      "3124E4A"
     ],
     "labels_target": [
      "3123D52",
      "3123D65",
      "3123D79",
      "3123D80",
      "3123D54",
      "3123D70",
      "3123D7B",
      "3123D89",
      "3123D58",
      "3123D76",
      "3123D7D",
      "3123EFE",
      "3123D64",
      "3123D78",
      "3123D7E",
      "3124E4A"
     ],
     "lr": 0.001,
     "n_epoch": 50,
     "n_query": 2,
     "n_shot": 3,
     "n_way": 16,
     "num_examples_per_domain_per_label_source": 10000,
     "num_examples_per_domain_per_label_target": 1000,
     "patience": 3,
     "pickle_name": "oracle.Run2_10kExamples_stratified_ds.2022A.pkl",
     "seed": 1337,
     "test_k_factor": 2,
     "torch_default_dtype": "torch.float32",
     "train_k_factor": 1,
     "val_k_factor": 2,
     "x_net": [
      {
       "class": "nnReshape",
       "kargs": {
        "shape": [
         -1,
         1,
         2,
         256
        ]
       }
      },
      {
       "class": "Conv2d",
       "kargs": {
        "bias": false,
        "in_channels": 1,
        "kernel_size": [
         1,
         7
        ],
        "out_channels": 256,
        "padding": [
         0,
         3
        ]
       }
      },
      {
       "class": "ReLU",
       "kargs": {
        "inplace": true
       }
      },
      {
       "class": "BatchNorm2d",
       "kargs": {
        "num_features": 256
       }
      },
      {
       "class": "Conv2d",
       "kargs": {
        "bias": true,
        "in_channels": 256,
        "kernel_size": [
         2,
         7
        ],
        "out_channels": 80,
        "padding": [
         0,
         3
        ]
       }
      },
      {
       "class": "ReLU",
       "kargs": {
        "inplace": true
       }
      },
      {
       "class": "BatchNorm2d",
       "kargs": {
        "num_features": 80
       }
      },
      {
       "class": "Flatten",
       "kargs": {}
      },
      {
       "class": "Linear",
       "kargs": {
        "in_features": 20480,
        "out_features": 256
       }
      },
      {
       "class": "ReLU",
       "kargs": {
        "inplace": true
       }
      },
      {
       "class": "BatchNorm1d",
       "kargs": {
        "num_features": 256
       }
      },
      {
       "class": "Linear",
       "kargs": {
        "in_features": 256,
        "out_features": 256
       }
      }
     ],
     "x_transforms_source": [],
     "x_transforms_target": []
    }
   },
   "start_time": "2022-03-04T22:52:18.792549",
   "version": "2.3.4"
  }
 },
 "nbformat": 4,
 "nbformat_minor": 5
}