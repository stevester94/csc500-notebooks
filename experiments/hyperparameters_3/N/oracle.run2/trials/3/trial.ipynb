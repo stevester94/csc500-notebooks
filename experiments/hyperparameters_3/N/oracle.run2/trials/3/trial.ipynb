{
 "cells": [
  {
   "cell_type": "markdown",
   "id": "9fea5f46",
   "metadata": {
    "papermill": {
     "duration": 0.015049,
     "end_time": "2022-03-04T22:46:28.738244",
     "exception": false,
     "start_time": "2022-03-04T22:46:28.723195",
     "status": "completed"
    },
    "tags": []
   },
   "source": [
    "# PTN Template\n",
    "This notebook serves as a template for single dataset PTN experiments  \n",
    "It can be run on its own by setting STANDALONE to True (do a find for \"STANDALONE\" to see where)  \n",
    "But it is intended to be executed as part of a *papermill.py script. See any of the   \n",
    "experimentes with a papermill script to get started with that workflow.  "
   ]
  },
  {
   "cell_type": "code",
   "execution_count": 1,
   "id": "0902182a",
   "metadata": {
    "execution": {
     "iopub.execute_input": "2022-03-04T22:46:28.767017Z",
     "iopub.status.busy": "2022-03-04T22:46:28.766591Z",
     "iopub.status.idle": "2022-03-04T22:46:29.508713Z",
     "shell.execute_reply": "2022-03-04T22:46:29.508222Z"
    },
    "papermill": {
     "duration": 0.760957,
     "end_time": "2022-03-04T22:46:29.508822",
     "exception": false,
     "start_time": "2022-03-04T22:46:28.747865",
     "status": "completed"
    },
    "tags": []
   },
   "outputs": [],
   "source": [
    "%load_ext autoreload\n",
    "%autoreload 2\n",
    "%matplotlib inline\n",
    "\n",
    "    \n",
    "import os, json, sys, time, random\n",
    "import numpy as np\n",
    "import torch\n",
    "from torch.optim import Adam\n",
    "from  easydict import EasyDict\n",
    "import matplotlib.pyplot as plt\n",
    "\n",
    "from steves_models.steves_ptn import Steves_Prototypical_Network\n",
    "\n",
    "from steves_utils.lazy_iterable_wrapper import Lazy_Iterable_Wrapper\n",
    "from steves_utils.iterable_aggregator import Iterable_Aggregator\n",
    "from steves_utils.ptn_train_eval_test_jig import  PTN_Train_Eval_Test_Jig\n",
    "from steves_utils.torch_sequential_builder import build_sequential\n",
    "from steves_utils.torch_utils import get_dataset_metrics, ptn_confusion_by_domain_over_dataloader\n",
    "from steves_utils.utils_v2 import (per_domain_accuracy_from_confusion, get_datasets_base_path)\n",
    "from steves_utils.PTN.utils import independent_accuracy_assesment\n",
    "\n",
    "from steves_utils.stratified_dataset.episodic_accessor import Episodic_Accessor_Factory\n",
    "\n",
    "from steves_utils.ptn_do_report import (\n",
    "    get_loss_curve,\n",
    "    get_results_table,\n",
    "    get_parameters_table,\n",
    "    get_domain_accuracies,\n",
    ")\n",
    "\n",
    "from steves_utils.transforms import get_chained_transform"
   ]
  },
  {
   "cell_type": "markdown",
   "id": "41c840b4",
   "metadata": {
    "papermill": {
     "duration": 0.008874,
     "end_time": "2022-03-04T22:46:29.531816",
     "exception": false,
     "start_time": "2022-03-04T22:46:29.522942",
     "status": "completed"
    },
    "tags": []
   },
   "source": [
    "# Required Parameters\n",
    "These are allowed parameters, not defaults\n",
    "Each of these values need to be present in the injected parameters (the notebook will raise an exception if they are not present)\n",
    "\n",
    "Papermill uses the cell tag \"parameters\" to inject the real parameters below this cell.\n",
    "Enable tags to see what I mean"
   ]
  },
  {
   "cell_type": "code",
   "execution_count": 2,
   "id": "fd44eb83",
   "metadata": {
    "execution": {
     "iopub.execute_input": "2022-03-04T22:46:29.553349Z",
     "iopub.status.busy": "2022-03-04T22:46:29.553094Z",
     "iopub.status.idle": "2022-03-04T22:46:29.565538Z",
     "shell.execute_reply": "2022-03-04T22:46:29.565149Z"
    },
    "papermill": {
     "duration": 0.024763,
     "end_time": "2022-03-04T22:46:29.565628",
     "exception": false,
     "start_time": "2022-03-04T22:46:29.540865",
     "status": "completed"
    },
    "tags": []
   },
   "outputs": [],
   "source": [
    "required_parameters = {\n",
    "    \"experiment_name\",\n",
    "    \"lr\",\n",
    "    \"device\",\n",
    "    \"seed\",\n",
    "    \"dataset_seed\",\n",
    "    \"labels_source\",\n",
    "    \"labels_target\",\n",
    "    \"domains_source\",\n",
    "    \"domains_target\",\n",
    "    \"num_examples_per_domain_per_label_source\",\n",
    "    \"num_examples_per_domain_per_label_target\",\n",
    "    \"n_shot\",\n",
    "    \"n_way\",\n",
    "    \"n_query\",\n",
    "    \"train_k_factor\",\n",
    "    \"val_k_factor\",\n",
    "    \"test_k_factor\",\n",
    "    \"n_epoch\",\n",
    "    \"patience\",\n",
    "    \"criteria_for_best\",\n",
    "    \"x_transforms_source\",\n",
    "    \"x_transforms_target\",\n",
    "    \"episode_transforms_source\",\n",
    "    \"episode_transforms_target\",\n",
    "    \"pickle_name\",\n",
    "    \"x_net\",\n",
    "    \"NUM_LOGS_PER_EPOCH\",\n",
    "    \"BEST_MODEL_PATH\",\n",
    "    \"torch_default_dtype\"\n",
    "}"
   ]
  },
  {
   "cell_type": "code",
   "execution_count": 3,
   "id": "fa3f0049",
   "metadata": {
    "execution": {
     "iopub.execute_input": "2022-03-04T22:46:29.598255Z",
     "iopub.status.busy": "2022-03-04T22:46:29.597859Z",
     "iopub.status.idle": "2022-03-04T22:46:29.609180Z",
     "shell.execute_reply": "2022-03-04T22:46:29.608721Z"
    },
    "papermill": {
     "duration": 0.030154,
     "end_time": "2022-03-04T22:46:29.609279",
     "exception": false,
     "start_time": "2022-03-04T22:46:29.579125",
     "status": "completed"
    },
    "tags": [
     "parameters"
    ]
   },
   "outputs": [],
   "source": [
    "\n",
    "\n",
    "standalone_parameters = {}\n",
    "standalone_parameters[\"experiment_name\"] = \"STANDALONE PTN\"\n",
    "standalone_parameters[\"lr\"] = 0.0001\n",
    "standalone_parameters[\"device\"] = \"cuda\"\n",
    "\n",
    "standalone_parameters[\"seed\"] = 1337\n",
    "standalone_parameters[\"dataset_seed\"] = 1337\n",
    "\n",
    "\n",
    "standalone_parameters[\"num_examples_per_domain_per_label_source\"]=100\n",
    "standalone_parameters[\"num_examples_per_domain_per_label_target\"]=100\n",
    "\n",
    "standalone_parameters[\"n_shot\"] = 3\n",
    "standalone_parameters[\"n_query\"]  = 2\n",
    "standalone_parameters[\"train_k_factor\"] = 1\n",
    "standalone_parameters[\"val_k_factor\"] = 2\n",
    "standalone_parameters[\"test_k_factor\"] = 2\n",
    "\n",
    "\n",
    "standalone_parameters[\"n_epoch\"] = 100\n",
    "\n",
    "standalone_parameters[\"patience\"] = 10\n",
    "standalone_parameters[\"criteria_for_best\"] = \"target_accuracy\"\n",
    "\n",
    "standalone_parameters[\"x_transforms_source\"] = [\"unit_power\"]\n",
    "standalone_parameters[\"x_transforms_target\"] = [\"unit_power\"]\n",
    "standalone_parameters[\"episode_transforms_source\"] = []\n",
    "standalone_parameters[\"episode_transforms_target\"] = []\n",
    "\n",
    "standalone_parameters[\"torch_default_dtype\"] = \"torch.float32\" \n",
    "\n",
    "\n",
    "\n",
    "standalone_parameters[\"x_net\"] =     [\n",
    "    {\"class\": \"nnReshape\", \"kargs\": {\"shape\":[-1, 1, 2, 256]}},\n",
    "    {\"class\": \"Conv2d\", \"kargs\": { \"in_channels\":1, \"out_channels\":256, \"kernel_size\":(1,7), \"bias\":False, \"padding\":(0,3), },},\n",
    "    {\"class\": \"ReLU\", \"kargs\": {\"inplace\": True}},\n",
    "    {\"class\": \"BatchNorm2d\", \"kargs\": {\"num_features\":256}},\n",
    "\n",
    "    {\"class\": \"Conv2d\", \"kargs\": { \"in_channels\":256, \"out_channels\":80, \"kernel_size\":(2,7), \"bias\":True, \"padding\":(0,3), },},\n",
    "    {\"class\": \"ReLU\", \"kargs\": {\"inplace\": True}},\n",
    "    {\"class\": \"BatchNorm2d\", \"kargs\": {\"num_features\":80}},\n",
    "    {\"class\": \"Flatten\", \"kargs\": {}},\n",
    "\n",
    "    {\"class\": \"Linear\", \"kargs\": {\"in_features\": 80*256, \"out_features\": 256}}, # 80 units per IQ pair\n",
    "    {\"class\": \"ReLU\", \"kargs\": {\"inplace\": True}},\n",
    "    {\"class\": \"BatchNorm1d\", \"kargs\": {\"num_features\":256}},\n",
    "\n",
    "    {\"class\": \"Linear\", \"kargs\": {\"in_features\": 256, \"out_features\": 256}},\n",
    "]\n",
    "\n",
    "# Parameters relevant to results\n",
    "# These parameters will basically never need to change\n",
    "standalone_parameters[\"NUM_LOGS_PER_EPOCH\"] = 10\n",
    "standalone_parameters[\"BEST_MODEL_PATH\"] = \"./best_model.pth\"\n",
    "\n",
    "# uncomment for CORES dataset\n",
    "from steves_utils.CORES.utils import (\n",
    "    ALL_NODES,\n",
    "    ALL_NODES_MINIMUM_1000_EXAMPLES,\n",
    "    ALL_DAYS\n",
    ")\n",
    "\n",
    "\n",
    "standalone_parameters[\"labels_source\"] = ALL_NODES\n",
    "standalone_parameters[\"labels_target\"] = ALL_NODES\n",
    "\n",
    "standalone_parameters[\"domains_source\"] = [1]\n",
    "standalone_parameters[\"domains_target\"] = [2,3,4,5]\n",
    "\n",
    "standalone_parameters[\"pickle_name\"] = \"cores.stratified_ds.2022A.pkl\"\n",
    "\n",
    "\n",
    "# Uncomment these for ORACLE dataset\n",
    "# from steves_utils.ORACLE.utils_v2 import (\n",
    "#     ALL_DISTANCES_FEET,\n",
    "#     ALL_RUNS,\n",
    "#     ALL_SERIAL_NUMBERS,\n",
    "# )\n",
    "# standalone_parameters[\"labels_source\"] = ALL_SERIAL_NUMBERS\n",
    "# standalone_parameters[\"labels_target\"] = ALL_SERIAL_NUMBERS\n",
    "# standalone_parameters[\"domains_source\"] = [8,20, 38,50]\n",
    "# standalone_parameters[\"domains_target\"] = [14, 26, 32, 44, 56]\n",
    "# standalone_parameters[\"pickle_name\"] = \"oracle.frame_indexed.stratified_ds.2022A.pkl\"\n",
    "# standalone_parameters[\"num_examples_per_domain_per_label_source\"]=1000\n",
    "# standalone_parameters[\"num_examples_per_domain_per_label_target\"]=1000\n",
    "\n",
    "# Uncomment these for Metahan dataset\n",
    "# standalone_parameters[\"labels_source\"] = list(range(19))\n",
    "# standalone_parameters[\"labels_target\"] = list(range(19))\n",
    "# standalone_parameters[\"domains_source\"] = [0]\n",
    "# standalone_parameters[\"domains_target\"] = [1]\n",
    "# standalone_parameters[\"pickle_name\"] = \"metehan.stratified_ds.2022A.pkl\"\n",
    "# standalone_parameters[\"n_way\"]  = len(standalone_parameters[\"labels_source\"])\n",
    "# standalone_parameters[\"num_examples_per_domain_per_label_source\"]=200\n",
    "# standalone_parameters[\"num_examples_per_domain_per_label_target\"]=100\n",
    "\n",
    "\n",
    "standalone_parameters[\"n_way\"]  = len(standalone_parameters[\"labels_source\"])"
   ]
  },
  {
   "cell_type": "code",
   "execution_count": 4,
   "id": "a567fc5a",
   "metadata": {
    "execution": {
     "iopub.execute_input": "2022-03-04T22:46:29.639172Z",
     "iopub.status.busy": "2022-03-04T22:46:29.638878Z",
     "iopub.status.idle": "2022-03-04T22:46:29.650730Z",
     "shell.execute_reply": "2022-03-04T22:46:29.650316Z"
    },
    "papermill": {
     "duration": 0.028306,
     "end_time": "2022-03-04T22:46:29.650833",
     "exception": false,
     "start_time": "2022-03-04T22:46:29.622527",
     "status": "completed"
    },
    "tags": [
     "injected-parameters"
    ]
   },
   "outputs": [],
   "source": [
    "# Parameters\n",
    "parameters = {\n",
    "    \"experiment_name\": \"nQuery_oracle.run2\",\n",
    "    \"device\": \"cuda\",\n",
    "    \"lr\": 0.001,\n",
    "    \"seed\": 1337,\n",
    "    \"dataset_seed\": 1337,\n",
    "    \"labels_source\": [\n",
    "        \"3123D52\",\n",
    "        \"3123D65\",\n",
    "        \"3123D79\",\n",
    "        \"3123D80\",\n",
    "        \"3123D54\",\n",
    "        \"3123D70\",\n",
    "        \"3123D7B\",\n",
    "        \"3123D89\",\n",
    "        \"3123D58\",\n",
    "        \"3123D76\",\n",
    "        \"3123D7D\",\n",
    "        \"3123EFE\",\n",
    "        \"3123D64\",\n",
    "        \"3123D78\",\n",
    "        \"3123D7E\",\n",
    "        \"3124E4A\",\n",
    "    ],\n",
    "    \"labels_target\": [\n",
    "        \"3123D52\",\n",
    "        \"3123D65\",\n",
    "        \"3123D79\",\n",
    "        \"3123D80\",\n",
    "        \"3123D54\",\n",
    "        \"3123D70\",\n",
    "        \"3123D7B\",\n",
    "        \"3123D89\",\n",
    "        \"3123D58\",\n",
    "        \"3123D76\",\n",
    "        \"3123D7D\",\n",
    "        \"3123EFE\",\n",
    "        \"3123D64\",\n",
    "        \"3123D78\",\n",
    "        \"3123D7E\",\n",
    "        \"3124E4A\",\n",
    "    ],\n",
    "    \"x_transforms_source\": [],\n",
    "    \"x_transforms_target\": [],\n",
    "    \"episode_transforms_source\": [],\n",
    "    \"episode_transforms_target\": [],\n",
    "    \"num_examples_per_domain_per_label_target\": 1000,\n",
    "    \"n_shot\": 3,\n",
    "    \"n_way\": 16,\n",
    "    \"n_query\": 2,\n",
    "    \"train_k_factor\": 1,\n",
    "    \"val_k_factor\": 2,\n",
    "    \"test_k_factor\": 2,\n",
    "    \"torch_default_dtype\": \"torch.float32\",\n",
    "    \"n_epoch\": 50,\n",
    "    \"patience\": 3,\n",
    "    \"criteria_for_best\": \"target_loss\",\n",
    "    \"x_net\": [\n",
    "        {\"class\": \"nnReshape\", \"kargs\": {\"shape\": [-1, 1, 2, 256]}},\n",
    "        {\n",
    "            \"class\": \"Conv2d\",\n",
    "            \"kargs\": {\n",
    "                \"in_channels\": 1,\n",
    "                \"out_channels\": 256,\n",
    "                \"kernel_size\": [1, 7],\n",
    "                \"bias\": False,\n",
    "                \"padding\": [0, 3],\n",
    "            },\n",
    "        },\n",
    "        {\"class\": \"ReLU\", \"kargs\": {\"inplace\": True}},\n",
    "        {\"class\": \"BatchNorm2d\", \"kargs\": {\"num_features\": 256}},\n",
    "        {\n",
    "            \"class\": \"Conv2d\",\n",
    "            \"kargs\": {\n",
    "                \"in_channels\": 256,\n",
    "                \"out_channels\": 80,\n",
    "                \"kernel_size\": [2, 7],\n",
    "                \"bias\": True,\n",
    "                \"padding\": [0, 3],\n",
    "            },\n",
    "        },\n",
    "        {\"class\": \"ReLU\", \"kargs\": {\"inplace\": True}},\n",
    "        {\"class\": \"BatchNorm2d\", \"kargs\": {\"num_features\": 80}},\n",
    "        {\"class\": \"Flatten\", \"kargs\": {}},\n",
    "        {\"class\": \"Linear\", \"kargs\": {\"in_features\": 20480, \"out_features\": 256}},\n",
    "        {\"class\": \"ReLU\", \"kargs\": {\"inplace\": True}},\n",
    "        {\"class\": \"BatchNorm1d\", \"kargs\": {\"num_features\": 256}},\n",
    "        {\"class\": \"Linear\", \"kargs\": {\"in_features\": 256, \"out_features\": 256}},\n",
    "    ],\n",
    "    \"NUM_LOGS_PER_EPOCH\": 10,\n",
    "    \"BEST_MODEL_PATH\": \"./best_model.pth\",\n",
    "    \"pickle_name\": \"oracle.Run2_10kExamples_stratified_ds.2022A.pkl\",\n",
    "    \"num_examples_per_domain_per_label_source\": 2000,\n",
    "    \"domains_source\": [8, 32, 50],\n",
    "    \"domains_target\": [14, 20, 26, 38, 44],\n",
    "}\n"
   ]
  },
  {
   "cell_type": "code",
   "execution_count": 5,
   "id": "8fa1cc33",
   "metadata": {
    "execution": {
     "iopub.execute_input": "2022-03-04T22:46:29.679244Z",
     "iopub.status.busy": "2022-03-04T22:46:29.678965Z",
     "iopub.status.idle": "2022-03-04T22:46:29.692753Z",
     "shell.execute_reply": "2022-03-04T22:46:29.692225Z"
    },
    "papermill": {
     "duration": 0.028421,
     "end_time": "2022-03-04T22:46:29.692864",
     "exception": false,
     "start_time": "2022-03-04T22:46:29.664443",
     "status": "completed"
    },
    "tags": []
   },
   "outputs": [],
   "source": [
    "# Set this to True if you want to run this template directly\n",
    "STANDALONE = False\n",
    "if STANDALONE:\n",
    "    print(\"parameters not injected, running with standalone_parameters\")\n",
    "    parameters = standalone_parameters\n",
    "\n",
    "if not 'parameters' in locals() and not 'parameters' in globals():\n",
    "    raise Exception(\"Parameter injection failed\")\n",
    "\n",
    "#Use an easy dict for all the parameters\n",
    "p = EasyDict(parameters)\n",
    "\n",
    "supplied_keys = set(p.keys())\n",
    "\n",
    "if  supplied_keys != required_parameters:\n",
    "    print(\"Parameters are incorrect\")\n",
    "    if len(supplied_keys - required_parameters)>0: print(\"Shouldn't have:\", str(supplied_keys - required_parameters))\n",
    "    if len(required_parameters - supplied_keys)>0: print(\"Need to have:\", str(required_parameters - supplied_keys))\n",
    "    raise RuntimeError(\"Parameters are incorrect\")\n",
    "\n"
   ]
  },
  {
   "cell_type": "code",
   "execution_count": 6,
   "id": "3a028d58",
   "metadata": {
    "execution": {
     "iopub.execute_input": "2022-03-04T22:46:29.720983Z",
     "iopub.status.busy": "2022-03-04T22:46:29.718915Z",
     "iopub.status.idle": "2022-03-04T22:46:29.732654Z",
     "shell.execute_reply": "2022-03-04T22:46:29.732208Z"
    },
    "papermill": {
     "duration": 0.025345,
     "end_time": "2022-03-04T22:46:29.732745",
     "exception": false,
     "start_time": "2022-03-04T22:46:29.707400",
     "status": "completed"
    },
    "tags": []
   },
   "outputs": [],
   "source": [
    "###################################\n",
    "# Set the RNGs and make it all deterministic\n",
    "###################################\n",
    "np.random.seed(p.seed)\n",
    "random.seed(p.seed)\n",
    "torch.manual_seed(p.seed)\n",
    "\n",
    "torch.use_deterministic_algorithms(True) "
   ]
  },
  {
   "cell_type": "code",
   "execution_count": 7,
   "id": "b691acf6",
   "metadata": {
    "execution": {
     "iopub.execute_input": "2022-03-04T22:46:29.764183Z",
     "iopub.status.busy": "2022-03-04T22:46:29.759875Z",
     "iopub.status.idle": "2022-03-04T22:46:29.769972Z",
     "shell.execute_reply": "2022-03-04T22:46:29.769614Z"
    },
    "papermill": {
     "duration": 0.023141,
     "end_time": "2022-03-04T22:46:29.770045",
     "exception": false,
     "start_time": "2022-03-04T22:46:29.746904",
     "status": "completed"
    },
    "tags": []
   },
   "outputs": [],
   "source": [
    "###########################################\n",
    "# The stratified datasets honor this\n",
    "###########################################\n",
    "torch.set_default_dtype(eval(p.torch_default_dtype))"
   ]
  },
  {
   "cell_type": "code",
   "execution_count": 8,
   "id": "b5fba671",
   "metadata": {
    "execution": {
     "iopub.execute_input": "2022-03-04T22:46:29.798492Z",
     "iopub.status.busy": "2022-03-04T22:46:29.795200Z",
     "iopub.status.idle": "2022-03-04T22:46:29.834873Z",
     "shell.execute_reply": "2022-03-04T22:46:29.834239Z"
    },
    "papermill": {
     "duration": 0.051194,
     "end_time": "2022-03-04T22:46:29.835021",
     "exception": false,
     "start_time": "2022-03-04T22:46:29.783827",
     "status": "completed"
    },
    "tags": []
   },
   "outputs": [],
   "source": [
    "###################################\n",
    "# Build the network(s)\n",
    "# Note: It's critical to do this AFTER setting the RNG\n",
    "# (This is due to the randomized initial weights)\n",
    "###################################\n",
    "x_net = build_sequential(p.x_net)"
   ]
  },
  {
   "cell_type": "code",
   "execution_count": 9,
   "id": "5d7e61cc",
   "metadata": {
    "execution": {
     "iopub.execute_input": "2022-03-04T22:46:29.860308Z",
     "iopub.status.busy": "2022-03-04T22:46:29.860053Z",
     "iopub.status.idle": "2022-03-04T22:46:29.869771Z",
     "shell.execute_reply": "2022-03-04T22:46:29.869514Z"
    },
    "papermill": {
     "duration": 0.02116,
     "end_time": "2022-03-04T22:46:29.869825",
     "exception": false,
     "start_time": "2022-03-04T22:46:29.848665",
     "status": "completed"
    },
    "tags": []
   },
   "outputs": [],
   "source": [
    "start_time_secs = time.time()"
   ]
  },
  {
   "cell_type": "code",
   "execution_count": 10,
   "id": "fd5442bc",
   "metadata": {
    "execution": {
     "iopub.execute_input": "2022-03-04T22:46:29.900007Z",
     "iopub.status.busy": "2022-03-04T22:46:29.898312Z",
     "iopub.status.idle": "2022-03-04T22:46:33.348888Z",
     "shell.execute_reply": "2022-03-04T22:46:33.348482Z"
    },
    "papermill": {
     "duration": 3.467827,
     "end_time": "2022-03-04T22:46:33.348997",
     "exception": false,
     "start_time": "2022-03-04T22:46:29.881170",
     "status": "completed"
    },
    "tags": []
   },
   "outputs": [],
   "source": [
    "###################################\n",
    "# Build the dataset\n",
    "###################################\n",
    "\n",
    "if p.x_transforms_source == []: x_transform_source = None\n",
    "else: x_transform_source = get_chained_transform(p.x_transforms_source) \n",
    "\n",
    "if p.x_transforms_target == []: x_transform_target = None\n",
    "else: x_transform_target = get_chained_transform(p.x_transforms_target)\n",
    "\n",
    "if p.episode_transforms_source == []: episode_transform_source = None\n",
    "else: raise Exception(\"episode_transform_source not implemented\")\n",
    "\n",
    "if p.episode_transforms_target == []: episode_transform_target = None\n",
    "else: raise Exception(\"episode_transform_target not implemented\")\n",
    "\n",
    "\n",
    "eaf_source = Episodic_Accessor_Factory(\n",
    "    labels=p.labels_source,\n",
    "    domains=p.domains_source,\n",
    "    num_examples_per_domain_per_label=p.num_examples_per_domain_per_label_source,\n",
    "    iterator_seed=p.seed,\n",
    "    dataset_seed=p.dataset_seed,\n",
    "    n_shot=p.n_shot,\n",
    "    n_way=p.n_way,\n",
    "    n_query=p.n_query,\n",
    "    train_val_test_k_factors=(p.train_k_factor,p.val_k_factor,p.test_k_factor),\n",
    "    pickle_path=os.path.join(get_datasets_base_path(), p.pickle_name),\n",
    "    x_transform_func=x_transform_source,\n",
    "    example_transform_func=episode_transform_source,\n",
    "    \n",
    ")\n",
    "train_original_source, val_original_source, test_original_source = eaf_source.get_train(), eaf_source.get_val(), eaf_source.get_test()\n",
    "\n",
    "\n",
    "eaf_target = Episodic_Accessor_Factory(\n",
    "    labels=p.labels_target,\n",
    "    domains=p.domains_target,\n",
    "    num_examples_per_domain_per_label=p.num_examples_per_domain_per_label_target,\n",
    "    iterator_seed=p.seed,\n",
    "    dataset_seed=p.dataset_seed,\n",
    "    n_shot=p.n_shot,\n",
    "    n_way=p.n_way,\n",
    "    n_query=p.n_query,\n",
    "    train_val_test_k_factors=(p.train_k_factor,p.val_k_factor,p.test_k_factor),\n",
    "    pickle_path=os.path.join(get_datasets_base_path(), p.pickle_name),\n",
    "    x_transform_func=x_transform_target,\n",
    "    example_transform_func=episode_transform_target,\n",
    ")\n",
    "train_original_target, val_original_target, test_original_target = eaf_target.get_train(), eaf_target.get_val(), eaf_target.get_test()\n",
    "\n",
    "\n",
    "transform_lambda = lambda ex: ex[1] # Original is (<domain>, <episode>) so we strip down to episode only\n",
    "\n",
    "train_processed_source = Lazy_Iterable_Wrapper(train_original_source, transform_lambda)\n",
    "val_processed_source   = Lazy_Iterable_Wrapper(val_original_source, transform_lambda)\n",
    "test_processed_source  = Lazy_Iterable_Wrapper(test_original_source, transform_lambda)\n",
    "\n",
    "train_processed_target = Lazy_Iterable_Wrapper(train_original_target, transform_lambda)\n",
    "val_processed_target   = Lazy_Iterable_Wrapper(val_original_target, transform_lambda)\n",
    "test_processed_target  = Lazy_Iterable_Wrapper(test_original_target, transform_lambda)\n",
    "\n",
    "datasets = EasyDict({\n",
    "    \"source\": {\n",
    "        \"original\": {\"train\":train_original_source, \"val\":val_original_source, \"test\":test_original_source},\n",
    "        \"processed\": {\"train\":train_processed_source, \"val\":val_processed_source, \"test\":test_processed_source}\n",
    "    },\n",
    "    \"target\": {\n",
    "        \"original\": {\"train\":train_original_target, \"val\":val_original_target, \"test\":test_original_target},\n",
    "        \"processed\": {\"train\":train_processed_target, \"val\":val_processed_target, \"test\":test_processed_target}\n",
    "    },\n",
    "})"
   ]
  },
  {
   "cell_type": "code",
   "execution_count": 11,
   "id": "296189d9",
   "metadata": {
    "execution": {
     "iopub.execute_input": "2022-03-04T22:46:33.375611Z",
     "iopub.status.busy": "2022-03-04T22:46:33.375069Z",
     "iopub.status.idle": "2022-03-04T22:46:34.964412Z",
     "shell.execute_reply": "2022-03-04T22:46:34.964885Z"
    },
    "papermill": {
     "duration": 1.603108,
     "end_time": "2022-03-04T22:46:34.965014",
     "exception": false,
     "start_time": "2022-03-04T22:46:33.361906",
     "status": "completed"
    },
    "tags": []
   },
   "outputs": [
    {
     "name": "stdout",
     "output_type": "stream",
     "text": [
      "Visually inspect these to see if they line up with expected values given the transforms\n",
      "x_transforms_source []\n",
      "x_transforms_target []\n",
      "Average magnitude, source: 0.004607944\n",
      "Average power, source: 2.645937e-05\n"
     ]
    },
    {
     "name": "stdout",
     "output_type": "stream",
     "text": [
      "Average magnitude, target: 0.0029128897\n",
      "Average power, target: 1.0910343e-05\n"
     ]
    }
   ],
   "source": [
    "# Some quick unit tests on the data\n",
    "from steves_utils.transforms import get_average_power, get_average_magnitude\n",
    "\n",
    "q_x, q_y, s_x, s_y, truth = next(iter(train_processed_source))\n",
    "\n",
    "assert q_x.dtype == eval(p.torch_default_dtype)\n",
    "assert s_x.dtype == eval(p.torch_default_dtype)\n",
    "\n",
    "print(\"Visually inspect these to see if they line up with expected values given the transforms\")\n",
    "print('x_transforms_source', p.x_transforms_source)\n",
    "print('x_transforms_target', p.x_transforms_target)\n",
    "print(\"Average magnitude, source:\", get_average_magnitude(q_x[0].numpy()))\n",
    "print(\"Average power, source:\", get_average_power(q_x[0].numpy()))\n",
    "\n",
    "q_x, q_y, s_x, s_y, truth = next(iter(train_processed_target))\n",
    "print(\"Average magnitude, target:\", get_average_magnitude(q_x[0].numpy()))\n",
    "print(\"Average power, target:\", get_average_power(q_x[0].numpy()))\n"
   ]
  },
  {
   "cell_type": "code",
   "execution_count": 12,
   "id": "bbdacba1",
   "metadata": {
    "execution": {
     "iopub.execute_input": "2022-03-04T22:46:34.997139Z",
     "iopub.status.busy": "2022-03-04T22:46:34.996869Z",
     "iopub.status.idle": "2022-03-04T22:46:35.056869Z",
     "shell.execute_reply": "2022-03-04T22:46:35.056649Z"
    },
    "papermill": {
     "duration": 0.073964,
     "end_time": "2022-03-04T22:46:35.056932",
     "exception": false,
     "start_time": "2022-03-04T22:46:34.982968",
     "status": "completed"
    },
    "tags": []
   },
   "outputs": [
    {
     "name": "stdout",
     "output_type": "stream",
     "text": [
      "(2, 256)\n"
     ]
    }
   ],
   "source": [
    "###################################\n",
    "# Build the model\n",
    "###################################\n",
    "model = Steves_Prototypical_Network(x_net, device=p.device, x_shape=(2,256))\n",
    "optimizer = Adam(params=model.parameters(), lr=p.lr)"
   ]
  },
  {
   "cell_type": "code",
   "execution_count": 13,
   "id": "22b39ac5",
   "metadata": {
    "execution": {
     "iopub.execute_input": "2022-03-04T22:46:35.081574Z",
     "iopub.status.busy": "2022-03-04T22:46:35.081315Z",
     "iopub.status.idle": "2022-03-04T22:51:50.296980Z",
     "shell.execute_reply": "2022-03-04T22:51:50.296747Z"
    },
    "papermill": {
     "duration": 315.229278,
     "end_time": "2022-03-04T22:51:50.297043",
     "exception": false,
     "start_time": "2022-03-04T22:46:35.067765",
     "status": "completed"
    },
    "tags": []
   },
   "outputs": [
    {
     "name": "stdout",
     "output_type": "stream",
     "text": [
      "epoch: 1, [batch: 1 / 840], examples_per_second: 308.9976, train_label_loss: 2.2999, \n"
     ]
    },
    {
     "name": "stdout",
     "output_type": "stream",
     "text": [
      "epoch: 1, [batch: 84 / 840], examples_per_second: 3160.6142, train_label_loss: 1.2437, \n"
     ]
    },
    {
     "name": "stdout",
     "output_type": "stream",
     "text": [
      "epoch: 1, [batch: 168 / 840], examples_per_second: 3198.5443, train_label_loss: 1.1241, \n"
     ]
    },
    {
     "name": "stdout",
     "output_type": "stream",
     "text": [
      "epoch: 1, [batch: 252 / 840], examples_per_second: 3190.3588, train_label_loss: 1.3233, \n"
     ]
    },
    {
     "name": "stdout",
     "output_type": "stream",
     "text": [
      "epoch: 1, [batch: 336 / 840], examples_per_second: 3167.8841, train_label_loss: 0.9719, \n"
     ]
    },
    {
     "name": "stdout",
     "output_type": "stream",
     "text": [
      "epoch: 1, [batch: 420 / 840], examples_per_second: 3119.4246, train_label_loss: 1.0852, \n"
     ]
    },
    {
     "name": "stdout",
     "output_type": "stream",
     "text": [
      "epoch: 1, [batch: 504 / 840], examples_per_second: 3108.3988, train_label_loss: 1.1227, \n"
     ]
    },
    {
     "name": "stdout",
     "output_type": "stream",
     "text": [
      "epoch: 1, [batch: 588 / 840], examples_per_second: 3076.9103, train_label_loss: 1.1446, \n"
     ]
    },
    {
     "name": "stdout",
     "output_type": "stream",
     "text": [
      "epoch: 1, [batch: 672 / 840], examples_per_second: 3108.7300, train_label_loss: 1.1531, \n"
     ]
    },
    {
     "name": "stdout",
     "output_type": "stream",
     "text": [
      "epoch: 1, [batch: 756 / 840], examples_per_second: 3159.2128, train_label_loss: 1.2424, \n"
     ]
    },
    {
     "name": "stdout",
     "output_type": "stream",
     "text": [
      "=============================================================\n",
      "epoch: 1, source_val_acc_label: 0.4759, target_val_acc_label: 0.3919, source_val_label_loss: 2.4345, target_val_label_loss: 2.9131, \n",
      "=============================================================\n"
     ]
    },
    {
     "name": "stdout",
     "output_type": "stream",
     "text": [
      "New best\n"
     ]
    },
    {
     "name": "stdout",
     "output_type": "stream",
     "text": [
      "epoch: 2, [batch: 1 / 840], examples_per_second: 21.4810, train_label_loss: 3.6485, \n"
     ]
    },
    {
     "name": "stdout",
     "output_type": "stream",
     "text": [
      "epoch: 2, [batch: 84 / 840], examples_per_second: 3207.3114, train_label_loss: 1.2666, \n"
     ]
    },
    {
     "name": "stdout",
     "output_type": "stream",
     "text": [
      "epoch: 2, [batch: 168 / 840], examples_per_second: 3188.0757, train_label_loss: 1.3138, \n"
     ]
    },
    {
     "name": "stdout",
     "output_type": "stream",
     "text": [
      "epoch: 2, [batch: 252 / 840], examples_per_second: 3215.0782, train_label_loss: 1.3640, \n"
     ]
    },
    {
     "name": "stdout",
     "output_type": "stream",
     "text": [
      "epoch: 2, [batch: 336 / 840], examples_per_second: 3219.3310, train_label_loss: 1.1274, \n"
     ]
    },
    {
     "name": "stdout",
     "output_type": "stream",
     "text": [
      "epoch: 2, [batch: 420 / 840], examples_per_second: 3214.1386, train_label_loss: 1.1113, \n"
     ]
    },
    {
     "name": "stdout",
     "output_type": "stream",
     "text": [
      "epoch: 2, [batch: 504 / 840], examples_per_second: 3274.1667, train_label_loss: 1.1045, \n"
     ]
    },
    {
     "name": "stdout",
     "output_type": "stream",
     "text": [
      "epoch: 2, [batch: 588 / 840], examples_per_second: 3254.1865, train_label_loss: 0.9048, \n"
     ]
    },
    {
     "name": "stdout",
     "output_type": "stream",
     "text": [
      "epoch: 2, [batch: 672 / 840], examples_per_second: 3207.2923, train_label_loss: 0.6208, \n"
     ]
    },
    {
     "name": "stdout",
     "output_type": "stream",
     "text": [
      "epoch: 2, [batch: 756 / 840], examples_per_second: 3251.6040, train_label_loss: 1.1359, \n"
     ]
    },
    {
     "name": "stdout",
     "output_type": "stream",
     "text": [
      "=============================================================\n",
      "epoch: 2, source_val_acc_label: 0.7016, target_val_acc_label: 0.5597, source_val_label_loss: 0.8086, target_val_label_loss: 1.4230, \n",
      "=============================================================\n"
     ]
    },
    {
     "name": "stdout",
     "output_type": "stream",
     "text": [
      "New best\n"
     ]
    },
    {
     "name": "stdout",
     "output_type": "stream",
     "text": [
      "epoch: 3, [batch: 1 / 840], examples_per_second: 22.0472, train_label_loss: 0.6307, \n"
     ]
    },
    {
     "name": "stdout",
     "output_type": "stream",
     "text": [
      "epoch: 3, [batch: 84 / 840], examples_per_second: 3170.7714, train_label_loss: 0.8047, \n"
     ]
    },
    {
     "name": "stdout",
     "output_type": "stream",
     "text": [
      "epoch: 3, [batch: 168 / 840], examples_per_second: 3188.7873, train_label_loss: 0.5983, \n"
     ]
    },
    {
     "name": "stdout",
     "output_type": "stream",
     "text": [
      "epoch: 3, [batch: 252 / 840], examples_per_second: 3233.9161, train_label_loss: 0.5008, \n"
     ]
    },
    {
     "name": "stdout",
     "output_type": "stream",
     "text": [
      "epoch: 3, [batch: 336 / 840], examples_per_second: 3204.9695, train_label_loss: 0.6974, \n"
     ]
    },
    {
     "name": "stdout",
     "output_type": "stream",
     "text": [
      "epoch: 3, [batch: 420 / 840], examples_per_second: 3142.4905, train_label_loss: 0.9525, \n"
     ]
    },
    {
     "name": "stdout",
     "output_type": "stream",
     "text": [
      "epoch: 3, [batch: 504 / 840], examples_per_second: 3138.9858, train_label_loss: 0.6248, \n"
     ]
    },
    {
     "name": "stdout",
     "output_type": "stream",
     "text": [
      "epoch: 3, [batch: 588 / 840], examples_per_second: 3219.8319, train_label_loss: 0.3989, \n"
     ]
    },
    {
     "name": "stdout",
     "output_type": "stream",
     "text": [
      "epoch: 3, [batch: 672 / 840], examples_per_second: 3194.2217, train_label_loss: 0.7817, \n"
     ]
    },
    {
     "name": "stdout",
     "output_type": "stream",
     "text": [
      "epoch: 3, [batch: 756 / 840], examples_per_second: 3158.7087, train_label_loss: 0.6129, \n"
     ]
    },
    {
     "name": "stdout",
     "output_type": "stream",
     "text": [
      "=============================================================\n",
      "epoch: 3, source_val_acc_label: 0.7584, target_val_acc_label: 0.5997, source_val_label_loss: 0.6568, target_val_label_loss: 1.4503, \n",
      "=============================================================\n"
     ]
    },
    {
     "name": "stdout",
     "output_type": "stream",
     "text": [
      "epoch: 4, [batch: 1 / 840], examples_per_second: 22.1135, train_label_loss: 0.4331, \n"
     ]
    },
    {
     "name": "stdout",
     "output_type": "stream",
     "text": [
      "epoch: 4, [batch: 84 / 840], examples_per_second: 3186.0651, train_label_loss: 0.6712, \n"
     ]
    },
    {
     "name": "stdout",
     "output_type": "stream",
     "text": [
      "epoch: 4, [batch: 168 / 840], examples_per_second: 3210.6150, train_label_loss: 0.3276, \n"
     ]
    },
    {
     "name": "stdout",
     "output_type": "stream",
     "text": [
      "epoch: 4, [batch: 252 / 840], examples_per_second: 3194.6916, train_label_loss: 0.5341, \n"
     ]
    },
    {
     "name": "stdout",
     "output_type": "stream",
     "text": [
      "epoch: 4, [batch: 336 / 840], examples_per_second: 3199.5523, train_label_loss: 0.8152, \n"
     ]
    },
    {
     "name": "stdout",
     "output_type": "stream",
     "text": [
      "epoch: 4, [batch: 420 / 840], examples_per_second: 3218.4128, train_label_loss: 0.5043, \n"
     ]
    },
    {
     "name": "stdout",
     "output_type": "stream",
     "text": [
      "epoch: 4, [batch: 504 / 840], examples_per_second: 3211.9486, train_label_loss: 0.7346, \n"
     ]
    },
    {
     "name": "stdout",
     "output_type": "stream",
     "text": [
      "epoch: 4, [batch: 588 / 840], examples_per_second: 3229.7072, train_label_loss: 0.2058, \n"
     ]
    },
    {
     "name": "stdout",
     "output_type": "stream",
     "text": [
      "epoch: 4, [batch: 672 / 840], examples_per_second: 3228.3833, train_label_loss: 0.3992, \n"
     ]
    },
    {
     "name": "stdout",
     "output_type": "stream",
     "text": [
      "epoch: 4, [batch: 756 / 840], examples_per_second: 3166.5943, train_label_loss: 0.9925, \n"
     ]
    },
    {
     "name": "stdout",
     "output_type": "stream",
     "text": [
      "=============================================================\n",
      "epoch: 4, source_val_acc_label: 0.7723, target_val_acc_label: 0.6279, source_val_label_loss: 0.6461, target_val_label_loss: 1.1789, \n",
      "=============================================================\n"
     ]
    },
    {
     "name": "stdout",
     "output_type": "stream",
     "text": [
      "New best\n"
     ]
    },
    {
     "name": "stdout",
     "output_type": "stream",
     "text": [
      "epoch: 5, [batch: 1 / 840], examples_per_second: 21.8041, train_label_loss: 0.7571, \n"
     ]
    },
    {
     "name": "stdout",
     "output_type": "stream",
     "text": [
      "epoch: 5, [batch: 84 / 840], examples_per_second: 3195.5546, train_label_loss: 0.4792, \n"
     ]
    },
    {
     "name": "stdout",
     "output_type": "stream",
     "text": [
      "epoch: 5, [batch: 168 / 840], examples_per_second: 3217.6897, train_label_loss: 0.3419, \n"
     ]
    },
    {
     "name": "stdout",
     "output_type": "stream",
     "text": [
      "epoch: 5, [batch: 252 / 840], examples_per_second: 3136.2210, train_label_loss: 0.6157, \n"
     ]
    },
    {
     "name": "stdout",
     "output_type": "stream",
     "text": [
      "epoch: 5, [batch: 336 / 840], examples_per_second: 2987.7307, train_label_loss: 0.6424, \n"
     ]
    },
    {
     "name": "stdout",
     "output_type": "stream",
     "text": [
      "epoch: 5, [batch: 420 / 840], examples_per_second: 3206.9434, train_label_loss: 0.4381, \n"
     ]
    },
    {
     "name": "stdout",
     "output_type": "stream",
     "text": [
      "epoch: 5, [batch: 504 / 840], examples_per_second: 3239.0514, train_label_loss: 0.6565, \n"
     ]
    },
    {
     "name": "stdout",
     "output_type": "stream",
     "text": [
      "epoch: 5, [batch: 588 / 840], examples_per_second: 3269.6465, train_label_loss: 0.2513, \n"
     ]
    },
    {
     "name": "stdout",
     "output_type": "stream",
     "text": [
      "epoch: 5, [batch: 672 / 840], examples_per_second: 3257.8628, train_label_loss: 0.7638, \n"
     ]
    },
    {
     "name": "stdout",
     "output_type": "stream",
     "text": [
      "epoch: 5, [batch: 756 / 840], examples_per_second: 3261.1328, train_label_loss: 0.3853, \n"
     ]
    },
    {
     "name": "stdout",
     "output_type": "stream",
     "text": [
      "=============================================================\n",
      "epoch: 5, source_val_acc_label: 0.7952, target_val_acc_label: 0.6398, source_val_label_loss: 0.5883, target_val_label_loss: 1.3854, \n",
      "=============================================================\n"
     ]
    },
    {
     "name": "stdout",
     "output_type": "stream",
     "text": [
      "epoch: 6, [batch: 1 / 840], examples_per_second: 22.1525, train_label_loss: 0.2172, \n"
     ]
    },
    {
     "name": "stdout",
     "output_type": "stream",
     "text": [
      "epoch: 6, [batch: 84 / 840], examples_per_second: 3176.5843, train_label_loss: 0.7903, \n"
     ]
    },
    {
     "name": "stdout",
     "output_type": "stream",
     "text": [
      "epoch: 6, [batch: 168 / 840], examples_per_second: 3123.3338, train_label_loss: 0.4753, \n"
     ]
    },
    {
     "name": "stdout",
     "output_type": "stream",
     "text": [
      "epoch: 6, [batch: 252 / 840], examples_per_second: 3222.1442, train_label_loss: 0.5010, \n"
     ]
    },
    {
     "name": "stdout",
     "output_type": "stream",
     "text": [
      "epoch: 6, [batch: 336 / 840], examples_per_second: 3279.5677, train_label_loss: 0.5302, \n"
     ]
    },
    {
     "name": "stdout",
     "output_type": "stream",
     "text": [
      "epoch: 6, [batch: 420 / 840], examples_per_second: 3254.6990, train_label_loss: 0.8262, \n"
     ]
    },
    {
     "name": "stdout",
     "output_type": "stream",
     "text": [
      "epoch: 6, [batch: 504 / 840], examples_per_second: 3241.9529, train_label_loss: 0.5380, \n"
     ]
    },
    {
     "name": "stdout",
     "output_type": "stream",
     "text": [
      "epoch: 6, [batch: 588 / 840], examples_per_second: 3237.9700, train_label_loss: 0.4809, \n"
     ]
    },
    {
     "name": "stdout",
     "output_type": "stream",
     "text": [
      "epoch: 6, [batch: 672 / 840], examples_per_second: 3240.3346, train_label_loss: 0.2633, \n"
     ]
    },
    {
     "name": "stdout",
     "output_type": "stream",
     "text": [
      "epoch: 6, [batch: 756 / 840], examples_per_second: 3248.4770, train_label_loss: 0.1650, \n"
     ]
    },
    {
     "name": "stdout",
     "output_type": "stream",
     "text": [
      "=============================================================\n",
      "epoch: 6, source_val_acc_label: 0.8095, target_val_acc_label: 0.6646, source_val_label_loss: 0.5535, target_val_label_loss: 1.3147, \n",
      "=============================================================\n"
     ]
    },
    {
     "name": "stdout",
     "output_type": "stream",
     "text": [
      "epoch: 7, [batch: 1 / 840], examples_per_second: 21.5877, train_label_loss: 0.2805, \n"
     ]
    },
    {
     "name": "stdout",
     "output_type": "stream",
     "text": [
      "epoch: 7, [batch: 84 / 840], examples_per_second: 3112.6167, train_label_loss: 0.3097, \n"
     ]
    },
    {
     "name": "stdout",
     "output_type": "stream",
     "text": [
      "epoch: 7, [batch: 168 / 840], examples_per_second: 3263.9160, train_label_loss: 0.4491, \n"
     ]
    },
    {
     "name": "stdout",
     "output_type": "stream",
     "text": [
      "epoch: 7, [batch: 252 / 840], examples_per_second: 3266.7062, train_label_loss: 0.4462, \n"
     ]
    },
    {
     "name": "stdout",
     "output_type": "stream",
     "text": [
      "epoch: 7, [batch: 336 / 840], examples_per_second: 3236.2450, train_label_loss: 0.3602, \n"
     ]
    },
    {
     "name": "stdout",
     "output_type": "stream",
     "text": [
      "epoch: 7, [batch: 420 / 840], examples_per_second: 3269.6962, train_label_loss: 0.1910, \n"
     ]
    },
    {
     "name": "stdout",
     "output_type": "stream",
     "text": [
      "epoch: 7, [batch: 504 / 840], examples_per_second: 3027.2325, train_label_loss: 0.2328, \n"
     ]
    },
    {
     "name": "stdout",
     "output_type": "stream",
     "text": [
      "epoch: 7, [batch: 588 / 840], examples_per_second: 3224.9613, train_label_loss: 0.5349, \n"
     ]
    },
    {
     "name": "stdout",
     "output_type": "stream",
     "text": [
      "epoch: 7, [batch: 672 / 840], examples_per_second: 3231.9474, train_label_loss: 0.7955, \n"
     ]
    },
    {
     "name": "stdout",
     "output_type": "stream",
     "text": [
      "epoch: 7, [batch: 756 / 840], examples_per_second: 3254.9155, train_label_loss: 0.9571, \n"
     ]
    },
    {
     "name": "stdout",
     "output_type": "stream",
     "text": [
      "=============================================================\n",
      "epoch: 7, source_val_acc_label: 0.8017, target_val_acc_label: 0.6609, source_val_label_loss: 0.5457, target_val_label_loss: 1.1379, \n",
      "=============================================================\n"
     ]
    },
    {
     "name": "stdout",
     "output_type": "stream",
     "text": [
      "New best\n"
     ]
    },
    {
     "name": "stdout",
     "output_type": "stream",
     "text": [
      "epoch: 8, [batch: 1 / 840], examples_per_second: 22.0607, train_label_loss: 0.3867, \n"
     ]
    },
    {
     "name": "stdout",
     "output_type": "stream",
     "text": [
      "epoch: 8, [batch: 84 / 840], examples_per_second: 3235.3730, train_label_loss: 0.2248, \n"
     ]
    },
    {
     "name": "stdout",
     "output_type": "stream",
     "text": [
      "epoch: 8, [batch: 168 / 840], examples_per_second: 3224.9731, train_label_loss: 0.7787, \n"
     ]
    },
    {
     "name": "stdout",
     "output_type": "stream",
     "text": [
      "epoch: 8, [batch: 252 / 840], examples_per_second: 3220.8651, train_label_loss: 0.3455, \n"
     ]
    },
    {
     "name": "stdout",
     "output_type": "stream",
     "text": [
      "epoch: 8, [batch: 336 / 840], examples_per_second: 3264.8986, train_label_loss: 0.4917, \n"
     ]
    },
    {
     "name": "stdout",
     "output_type": "stream",
     "text": [
      "epoch: 8, [batch: 420 / 840], examples_per_second: 3210.5770, train_label_loss: 0.6126, \n"
     ]
    },
    {
     "name": "stdout",
     "output_type": "stream",
     "text": [
      "epoch: 8, [batch: 504 / 840], examples_per_second: 3204.1414, train_label_loss: 0.5495, \n"
     ]
    },
    {
     "name": "stdout",
     "output_type": "stream",
     "text": [
      "epoch: 8, [batch: 588 / 840], examples_per_second: 3224.0896, train_label_loss: 0.7383, \n"
     ]
    },
    {
     "name": "stdout",
     "output_type": "stream",
     "text": [
      "epoch: 8, [batch: 672 / 840], examples_per_second: 3202.0832, train_label_loss: 0.3058, \n"
     ]
    },
    {
     "name": "stdout",
     "output_type": "stream",
     "text": [
      "epoch: 8, [batch: 756 / 840], examples_per_second: 3207.8245, train_label_loss: 0.3826, \n"
     ]
    },
    {
     "name": "stdout",
     "output_type": "stream",
     "text": [
      "=============================================================\n",
      "epoch: 8, source_val_acc_label: 0.8107, target_val_acc_label: 0.6656, source_val_label_loss: 0.5110, target_val_label_loss: 1.1055, \n",
      "=============================================================\n"
     ]
    },
    {
     "name": "stdout",
     "output_type": "stream",
     "text": [
      "New best\n"
     ]
    },
    {
     "name": "stdout",
     "output_type": "stream",
     "text": [
      "epoch: 9, [batch: 1 / 840], examples_per_second: 22.0205, train_label_loss: 0.2330, \n"
     ]
    },
    {
     "name": "stdout",
     "output_type": "stream",
     "text": [
      "epoch: 9, [batch: 84 / 840], examples_per_second: 3217.9157, train_label_loss: 0.1652, \n"
     ]
    },
    {
     "name": "stdout",
     "output_type": "stream",
     "text": [
      "epoch: 9, [batch: 168 / 840], examples_per_second: 3244.9656, train_label_loss: 0.3909, \n"
     ]
    },
    {
     "name": "stdout",
     "output_type": "stream",
     "text": [
      "epoch: 9, [batch: 252 / 840], examples_per_second: 3240.3159, train_label_loss: 0.4375, \n"
     ]
    },
    {
     "name": "stdout",
     "output_type": "stream",
     "text": [
      "epoch: 9, [batch: 336 / 840], examples_per_second: 3250.8491, train_label_loss: 0.4213, \n"
     ]
    },
    {
     "name": "stdout",
     "output_type": "stream",
     "text": [
      "epoch: 9, [batch: 420 / 840], examples_per_second: 3252.7249, train_label_loss: 0.5035, \n"
     ]
    },
    {
     "name": "stdout",
     "output_type": "stream",
     "text": [
      "epoch: 9, [batch: 504 / 840], examples_per_second: 3241.7344, train_label_loss: 0.1844, \n"
     ]
    },
    {
     "name": "stdout",
     "output_type": "stream",
     "text": [
      "epoch: 9, [batch: 588 / 840], examples_per_second: 3233.9959, train_label_loss: 0.2993, \n"
     ]
    },
    {
     "name": "stdout",
     "output_type": "stream",
     "text": [
      "epoch: 9, [batch: 672 / 840], examples_per_second: 3247.1212, train_label_loss: 0.2544, \n"
     ]
    },
    {
     "name": "stdout",
     "output_type": "stream",
     "text": [
      "epoch: 9, [batch: 756 / 840], examples_per_second: 3252.7053, train_label_loss: 0.1676, \n"
     ]
    },
    {
     "name": "stdout",
     "output_type": "stream",
     "text": [
      "=============================================================\n",
      "epoch: 9, source_val_acc_label: 0.8019, target_val_acc_label: 0.6561, source_val_label_loss: 0.5635, target_val_label_loss: 1.4186, \n",
      "=============================================================\n"
     ]
    },
    {
     "name": "stdout",
     "output_type": "stream",
     "text": [
      "epoch: 10, [batch: 1 / 840], examples_per_second: 21.9775, train_label_loss: 0.7651, \n"
     ]
    },
    {
     "name": "stdout",
     "output_type": "stream",
     "text": [
      "epoch: 10, [batch: 84 / 840], examples_per_second: 3182.8277, train_label_loss: 0.1632, \n"
     ]
    },
    {
     "name": "stdout",
     "output_type": "stream",
     "text": [
      "epoch: 10, [batch: 168 / 840], examples_per_second: 3238.3729, train_label_loss: 0.1187, \n"
     ]
    },
    {
     "name": "stdout",
     "output_type": "stream",
     "text": [
      "epoch: 10, [batch: 252 / 840], examples_per_second: 3234.1399, train_label_loss: 0.1942, \n"
     ]
    },
    {
     "name": "stdout",
     "output_type": "stream",
     "text": [
      "epoch: 10, [batch: 336 / 840], examples_per_second: 3240.7258, train_label_loss: 0.2104, \n"
     ]
    },
    {
     "name": "stdout",
     "output_type": "stream",
     "text": [
      "epoch: 10, [batch: 420 / 840], examples_per_second: 3228.0320, train_label_loss: 0.3759, \n"
     ]
    },
    {
     "name": "stdout",
     "output_type": "stream",
     "text": [
      "epoch: 10, [batch: 504 / 840], examples_per_second: 3263.1803, train_label_loss: 0.4742, \n"
     ]
    },
    {
     "name": "stdout",
     "output_type": "stream",
     "text": [
      "epoch: 10, [batch: 588 / 840], examples_per_second: 3106.4659, train_label_loss: 0.3235, \n"
     ]
    },
    {
     "name": "stdout",
     "output_type": "stream",
     "text": [
      "epoch: 10, [batch: 672 / 840], examples_per_second: 2970.6988, train_label_loss: 0.2278, \n"
     ]
    },
    {
     "name": "stdout",
     "output_type": "stream",
     "text": [
      "epoch: 10, [batch: 756 / 840], examples_per_second: 3153.5630, train_label_loss: 0.5002, \n"
     ]
    },
    {
     "name": "stdout",
     "output_type": "stream",
     "text": [
      "=============================================================\n",
      "epoch: 10, source_val_acc_label: 0.8008, target_val_acc_label: 0.6600, source_val_label_loss: 0.5544, target_val_label_loss: 1.1245, \n",
      "=============================================================\n"
     ]
    },
    {
     "name": "stdout",
     "output_type": "stream",
     "text": [
      "epoch: 11, [batch: 1 / 840], examples_per_second: 21.1293, train_label_loss: 0.3105, \n"
     ]
    },
    {
     "name": "stdout",
     "output_type": "stream",
     "text": [
      "epoch: 11, [batch: 84 / 840], examples_per_second: 3137.7838, train_label_loss: 0.3295, \n"
     ]
    },
    {
     "name": "stdout",
     "output_type": "stream",
     "text": [
      "epoch: 11, [batch: 168 / 840], examples_per_second: 3183.0633, train_label_loss: 0.1709, \n"
     ]
    },
    {
     "name": "stdout",
     "output_type": "stream",
     "text": [
      "epoch: 11, [batch: 252 / 840], examples_per_second: 3077.7022, train_label_loss: 0.7624, \n"
     ]
    },
    {
     "name": "stdout",
     "output_type": "stream",
     "text": [
      "epoch: 11, [batch: 336 / 840], examples_per_second: 3043.6768, train_label_loss: 0.4579, \n"
     ]
    },
    {
     "name": "stdout",
     "output_type": "stream",
     "text": [
      "epoch: 11, [batch: 420 / 840], examples_per_second: 3143.0133, train_label_loss: 0.5873, \n"
     ]
    },
    {
     "name": "stdout",
     "output_type": "stream",
     "text": [
      "epoch: 11, [batch: 504 / 840], examples_per_second: 3227.5230, train_label_loss: 0.2524, \n"
     ]
    },
    {
     "name": "stdout",
     "output_type": "stream",
     "text": [
      "epoch: 11, [batch: 588 / 840], examples_per_second: 3237.1705, train_label_loss: 0.5603, \n"
     ]
    },
    {
     "name": "stdout",
     "output_type": "stream",
     "text": [
      "epoch: 11, [batch: 672 / 840], examples_per_second: 3049.5606, train_label_loss: 0.4077, \n"
     ]
    },
    {
     "name": "stdout",
     "output_type": "stream",
     "text": [
      "epoch: 11, [batch: 756 / 840], examples_per_second: 3169.9708, train_label_loss: 0.2285, \n"
     ]
    },
    {
     "name": "stdout",
     "output_type": "stream",
     "text": [
      "=============================================================\n",
      "epoch: 11, source_val_acc_label: 0.8138, target_val_acc_label: 0.6587, source_val_label_loss: 0.5108, target_val_label_loss: 1.1668, \n",
      "=============================================================\n"
     ]
    },
    {
     "name": "stdout",
     "output_type": "stream",
     "text": [
      "epoch: 12, [batch: 1 / 840], examples_per_second: 21.7088, train_label_loss: 0.2774, \n"
     ]
    },
    {
     "name": "stdout",
     "output_type": "stream",
     "text": [
      "epoch: 12, [batch: 84 / 840], examples_per_second: 3101.0140, train_label_loss: 0.3764, \n"
     ]
    },
    {
     "name": "stdout",
     "output_type": "stream",
     "text": [
      "epoch: 12, [batch: 168 / 840], examples_per_second: 3033.8837, train_label_loss: 0.5060, \n"
     ]
    },
    {
     "name": "stdout",
     "output_type": "stream",
     "text": [
      "epoch: 12, [batch: 252 / 840], examples_per_second: 3023.8299, train_label_loss: 0.4816, \n"
     ]
    },
    {
     "name": "stdout",
     "output_type": "stream",
     "text": [
      "epoch: 12, [batch: 336 / 840], examples_per_second: 3217.3775, train_label_loss: 0.4015, \n"
     ]
    },
    {
     "name": "stdout",
     "output_type": "stream",
     "text": [
      "epoch: 12, [batch: 420 / 840], examples_per_second: 3186.7171, train_label_loss: 0.2849, \n"
     ]
    },
    {
     "name": "stdout",
     "output_type": "stream",
     "text": [
      "epoch: 12, [batch: 504 / 840], examples_per_second: 3107.4029, train_label_loss: 0.2143, \n"
     ]
    },
    {
     "name": "stdout",
     "output_type": "stream",
     "text": [
      "epoch: 12, [batch: 588 / 840], examples_per_second: 3172.2317, train_label_loss: 0.4953, \n"
     ]
    },
    {
     "name": "stdout",
     "output_type": "stream",
     "text": [
      "epoch: 12, [batch: 672 / 840], examples_per_second: 3153.5446, train_label_loss: 0.1770, \n"
     ]
    },
    {
     "name": "stdout",
     "output_type": "stream",
     "text": [
      "epoch: 12, [batch: 756 / 840], examples_per_second: 3119.8841, train_label_loss: 0.2446, \n"
     ]
    },
    {
     "name": "stdout",
     "output_type": "stream",
     "text": [
      "=============================================================\n",
      "epoch: 12, source_val_acc_label: 0.8168, target_val_acc_label: 0.6663, source_val_label_loss: 0.5084, target_val_label_loss: 1.1931, \n",
      "=============================================================\n"
     ]
    },
    {
     "name": "stdout",
     "output_type": "stream",
     "text": [
      "Patience (3) exhausted\n"
     ]
    }
   ],
   "source": [
    "###################################\n",
    "# train\n",
    "###################################\n",
    "jig = PTN_Train_Eval_Test_Jig(model, p.BEST_MODEL_PATH, p.device)\n",
    "\n",
    "jig.train(\n",
    "    train_iterable=datasets.source.processed.train,\n",
    "    source_val_iterable=datasets.source.processed.val,\n",
    "    target_val_iterable=datasets.target.processed.val,\n",
    "    num_epochs=p.n_epoch,\n",
    "    num_logs_per_epoch=p.NUM_LOGS_PER_EPOCH,\n",
    "    patience=p.patience,\n",
    "    optimizer=optimizer,\n",
    "    criteria_for_best=p.criteria_for_best,\n",
    ")"
   ]
  },
  {
   "cell_type": "code",
   "execution_count": 14,
   "id": "31e8fabf",
   "metadata": {
    "execution": {
     "iopub.execute_input": "2022-03-04T22:51:50.371827Z",
     "iopub.status.busy": "2022-03-04T22:51:50.371568Z",
     "iopub.status.idle": "2022-03-04T22:51:50.386267Z",
     "shell.execute_reply": "2022-03-04T22:51:50.385820Z"
    },
    "papermill": {
     "duration": 0.054105,
     "end_time": "2022-03-04T22:51:50.386375",
     "exception": false,
     "start_time": "2022-03-04T22:51:50.332270",
     "status": "completed"
    },
    "tags": []
   },
   "outputs": [],
   "source": [
    "total_experiment_time_secs = time.time() - start_time_secs"
   ]
  },
  {
   "cell_type": "code",
   "execution_count": 15,
   "id": "87b9595b",
   "metadata": {
    "execution": {
     "iopub.execute_input": "2022-03-04T22:51:50.470111Z",
     "iopub.status.busy": "2022-03-04T22:51:50.469817Z",
     "iopub.status.idle": "2022-03-04T22:52:17.046099Z",
     "shell.execute_reply": "2022-03-04T22:52:17.045736Z"
    },
    "papermill": {
     "duration": 26.618677,
     "end_time": "2022-03-04T22:52:17.046186",
     "exception": false,
     "start_time": "2022-03-04T22:51:50.427509",
     "status": "completed"
    },
    "tags": []
   },
   "outputs": [],
   "source": [
    "###################################\n",
    "# Evaluate the model\n",
    "###################################\n",
    "source_test_label_accuracy, source_test_label_loss = jig.test(datasets.source.processed.test)\n",
    "target_test_label_accuracy, target_test_label_loss = jig.test(datasets.target.processed.test)\n",
    "\n",
    "source_val_label_accuracy, source_val_label_loss = jig.test(datasets.source.processed.val)\n",
    "target_val_label_accuracy, target_val_label_loss = jig.test(datasets.target.processed.val)\n",
    "\n",
    "history = jig.get_history()\n",
    "\n",
    "total_epochs_trained = len(history[\"epoch_indices\"])\n",
    "\n",
    "val_dl = Iterable_Aggregator((datasets.source.original.val,datasets.target.original.val))\n",
    "\n",
    "confusion = ptn_confusion_by_domain_over_dataloader(model, p.device, val_dl)\n",
    "per_domain_accuracy = per_domain_accuracy_from_confusion(confusion)\n",
    "\n",
    "# Add a key to per_domain_accuracy for if it was a source domain\n",
    "for domain, accuracy in per_domain_accuracy.items():\n",
    "    per_domain_accuracy[domain] = {\n",
    "        \"accuracy\": accuracy,\n",
    "        \"source?\": domain in p.domains_source\n",
    "    }\n",
    "\n",
    "# Do an independent accuracy assesment JUST TO BE SURE!\n",
    "# _source_test_label_accuracy = independent_accuracy_assesment(model, datasets.source.processed.test, p.device)\n",
    "# _target_test_label_accuracy = independent_accuracy_assesment(model, datasets.target.processed.test, p.device)\n",
    "# _source_val_label_accuracy = independent_accuracy_assesment(model, datasets.source.processed.val, p.device)\n",
    "# _target_val_label_accuracy = independent_accuracy_assesment(model, datasets.target.processed.val, p.device)\n",
    "\n",
    "# assert(_source_test_label_accuracy == source_test_label_accuracy)\n",
    "# assert(_target_test_label_accuracy == target_test_label_accuracy)\n",
    "# assert(_source_val_label_accuracy == source_val_label_accuracy)\n",
    "# assert(_target_val_label_accuracy == target_val_label_accuracy)\n",
    "\n",
    "experiment = {\n",
    "    \"experiment_name\": p.experiment_name,\n",
    "    \"parameters\": dict(p),\n",
    "    \"results\": {\n",
    "        \"source_test_label_accuracy\": source_test_label_accuracy,\n",
    "        \"source_test_label_loss\": source_test_label_loss,\n",
    "        \"target_test_label_accuracy\": target_test_label_accuracy,\n",
    "        \"target_test_label_loss\": target_test_label_loss,\n",
    "        \"source_val_label_accuracy\": source_val_label_accuracy,\n",
    "        \"source_val_label_loss\": source_val_label_loss,\n",
    "        \"target_val_label_accuracy\": target_val_label_accuracy,\n",
    "        \"target_val_label_loss\": target_val_label_loss,\n",
    "        \"total_epochs_trained\": total_epochs_trained,\n",
    "        \"total_experiment_time_secs\": total_experiment_time_secs,\n",
    "        \"confusion\": confusion,\n",
    "        \"per_domain_accuracy\": per_domain_accuracy,\n",
    "    },\n",
    "    \"history\": history,\n",
    "    \"dataset_metrics\": get_dataset_metrics(datasets, \"ptn\"),\n",
    "}"
   ]
  },
  {
   "cell_type": "code",
   "execution_count": 16,
   "id": "54a21829",
   "metadata": {
    "execution": {
     "iopub.execute_input": "2022-03-04T22:52:17.126777Z",
     "iopub.status.busy": "2022-03-04T22:52:17.126499Z",
     "iopub.status.idle": "2022-03-04T22:52:17.304036Z",
     "shell.execute_reply": "2022-03-04T22:52:17.304471Z"
    },
    "papermill": {
     "duration": 0.217047,
     "end_time": "2022-03-04T22:52:17.304613",
     "exception": false,
     "start_time": "2022-03-04T22:52:17.087566",
     "status": "completed"
    },
    "tags": []
   },
   "outputs": [
    {
     "data": {
      "image/png": "[encoded data removed]",
      "text/plain": [
       "<Figure size 1080x504 with 1 Axes>"
      ]
     },
     "metadata": {
      "needs_background": "light"
     },
     "output_type": "display_data"
    }
   ],
   "source": [
    "ax = get_loss_curve(experiment)\n",
    "plt.show()"
   ]
  },
  {
   "cell_type": "code",
   "execution_count": 17,
   "id": "fd8a0f60",
   "metadata": {
    "execution": {
     "iopub.execute_input": "2022-03-04T22:52:17.387382Z",
     "iopub.status.busy": "2022-03-04T22:52:17.387123Z",
     "iopub.status.idle": "2022-03-04T22:52:17.570258Z",
     "shell.execute_reply": "2022-03-04T22:52:17.570668Z"
    },
    "papermill": {
     "duration": 0.22274,
     "end_time": "2022-03-04T22:52:17.570810",
     "exception": false,
     "start_time": "2022-03-04T22:52:17.348070",
     "status": "completed"
    },
    "tags": []
   },
   "outputs": [
    {
     "data": {
      "text/plain": [
       "<matplotlib.axes._subplots.AxesSubplot at 0x7fca8dad9fa0>"
      ]
     },
     "execution_count": 17,
     "metadata": {},
     "output_type": "execute_result"
    },
    {
     "data": {
      "image/png": "[encoded data removed]",
      "text/plain": [
       "<Figure size 1080x504 with 1 Axes>"
      ]
     },
     "metadata": {
      "needs_background": "light"
     },
     "output_type": "display_data"
    }
   ],
   "source": [
    "get_results_table(experiment)"
   ]
  },
  {
   "cell_type": "code",
   "execution_count": 18,
   "id": "cf8dc689",
   "metadata": {
    "execution": {
     "iopub.execute_input": "2022-03-04T22:52:17.655657Z",
     "iopub.status.busy": "2022-03-04T22:52:17.655249Z",
     "iopub.status.idle": "2022-03-04T22:52:17.832999Z",
     "shell.execute_reply": "2022-03-04T22:52:17.832507Z"
    },
    "papermill": {
     "duration": 0.217864,
     "end_time": "2022-03-04T22:52:17.833106",
     "exception": false,
     "start_time": "2022-03-04T22:52:17.615242",
     "status": "completed"
    },
    "tags": []
   },
   "outputs": [
    {
     "data": {
      "text/plain": [
       "<matplotlib.axes._subplots.AxesSubplot at 0x7fca8dcc6070>"
      ]
     },
     "execution_count": 18,
     "metadata": {},
     "output_type": "execute_result"
    },
    {
     "data": {
      "image/png": "[encoded data removed]",
      "text/plain": [
       "<Figure size 1080x504 with 1 Axes>"
      ]
     },
     "metadata": {
      "needs_background": "light"
     },
     "output_type": "display_data"
    }
   ],
   "source": [
    "get_domain_accuracies(experiment)"
   ]
  },
  {
   "cell_type": "code",
   "execution_count": 19,
   "id": "a74ae082",
   "metadata": {
    "execution": {
     "iopub.execute_input": "2022-03-04T22:52:17.920775Z",
     "iopub.status.busy": "2022-03-04T22:52:17.920260Z",
     "iopub.status.idle": "2022-03-04T22:52:17.931169Z",
     "shell.execute_reply": "2022-03-04T22:52:17.930650Z"
    },
    "papermill": {
     "duration": 0.053511,
     "end_time": "2022-03-04T22:52:17.931276",
     "exception": false,
     "start_time": "2022-03-04T22:52:17.877765",
     "status": "completed"
    },
    "tags": []
   },
   "outputs": [
    {
     "name": "stdout",
     "output_type": "stream",
     "text": [
      "Source Test Label Accuracy: 0.8155381944444444 Target Test Label Accuracy: 0.6647916666666667\n",
      "Source Val Label Accuracy: 0.8106770833333333 Target Val Label Accuracy: 0.665625\n"
     ]
    }
   ],
   "source": [
    "print(\"Source Test Label Accuracy:\", experiment[\"results\"][\"source_test_label_accuracy\"], \"Target Test Label Accuracy:\", experiment[\"results\"][\"target_test_label_accuracy\"])\n",
    "print(\"Source Val Label Accuracy:\", experiment[\"results\"][\"source_val_label_accuracy\"], \"Target Val Label Accuracy:\", experiment[\"results\"][\"target_val_label_accuracy\"])"
   ]
  },
  {
   "cell_type": "code",
   "execution_count": 20,
   "id": "dacca602",
   "metadata": {
    "execution": {
     "iopub.execute_input": "2022-03-04T22:52:18.015800Z",
     "iopub.status.busy": "2022-03-04T22:52:18.015535Z",
     "iopub.status.idle": "2022-03-04T22:52:18.030349Z",
     "shell.execute_reply": "2022-03-04T22:52:18.030781Z"
    },
    "papermill": {
     "duration": 0.057284,
     "end_time": "2022-03-04T22:52:18.030913",
     "exception": false,
     "start_time": "2022-03-04T22:52:17.973629",
     "status": "completed"
    },
    "tags": [
     "experiment_json"
    ]
   },
   "outputs": [
    {
     "data": {
      "text/plain": [
       "'{\"experiment_name\": \"nQuery_oracle.run2\", \"parameters\": {\"experiment_name\": \"nQuery_oracle.run2\", \"device\": \"cuda\", \"lr\": 0.001, \"seed\": 1337, \"dataset_seed\": 1337, \"labels_source\": [\"3123D52\", \"3123D65\", \"3123D79\", \"3123D80\", \"3123D54\", \"3123D70\", \"3123D7B\", \"3123D89\", \"3123D58\", \"3123D76\", \"3123D7D\", \"3123EFE\", \"3123D64\", \"3123D78\", \"3123D7E\", \"3124E4A\"], \"labels_target\": [\"3123D52\", \"3123D65\", \"3123D79\", \"3123D80\", \"3123D54\", \"3123D70\", \"3123D7B\", \"3123D89\", \"3123D58\", \"3123D76\", \"3123D7D\", \"3123EFE\", \"3123D64\", \"3123D78\", \"3123D7E\", \"3124E4A\"], \"x_transforms_source\": [], \"x_transforms_target\": [], \"episode_transforms_source\": [], \"episode_transforms_target\": [], \"num_examples_per_domain_per_label_target\": 1000, \"n_shot\": 3, \"n_way\": 16, \"n_query\": 2, \"train_k_factor\": 1, \"val_k_factor\": 2, \"test_k_factor\": 2, \"torch_default_dtype\": \"torch.float32\", \"n_epoch\": 50, \"patience\": 3, \"criteria_for_best\": \"target_loss\", \"x_net\": [{\"class\": \"nnReshape\", \"kargs\": {\"shape\": [-1, 1, 2, 256]}}, {\"class\": \"Conv2d\", \"kargs\": {\"in_channels\": 1, \"out_channels\": 256, \"kernel_size\": [1, 7], \"bias\": false, \"padding\": [0, 3]}}, {\"class\": \"ReLU\", \"kargs\": {\"inplace\": true}}, {\"class\": \"BatchNorm2d\", \"kargs\": {\"num_features\": 256}}, {\"class\": \"Conv2d\", \"kargs\": {\"in_channels\": 256, \"out_channels\": 80, \"kernel_size\": [2, 7], \"bias\": true, \"padding\": [0, 3]}}, {\"class\": \"ReLU\", \"kargs\": {\"inplace\": true}}, {\"class\": \"BatchNorm2d\", \"kargs\": {\"num_features\": 80}}, {\"class\": \"Flatten\", \"kargs\": {}}, {\"class\": \"Linear\", \"kargs\": {\"in_features\": 20480, \"out_features\": 256}}, {\"class\": \"ReLU\", \"kargs\": {\"inplace\": true}}, {\"class\": \"BatchNorm1d\", \"kargs\": {\"num_features\": 256}}, {\"class\": \"Linear\", \"kargs\": {\"in_features\": 256, \"out_features\": 256}}], \"NUM_LOGS_PER_EPOCH\": 10, \"BEST_MODEL_PATH\": \"./best_model.pth\", \"pickle_name\": \"oracle.Run2_10kExamples_stratified_ds.2022A.pkl\", \"num_examples_per_domain_per_label_source\": 2000, \"domains_source\": [8, 32, 50], \"domains_target\": [14, 20, 26, 38, 44]}, \"results\": {\"source_test_label_accuracy\": 0.8155381944444444, \"source_test_label_loss\": 0.4885263741016388, \"target_test_label_accuracy\": 0.6647916666666667, \"target_test_label_loss\": 1.1597483158111572, \"source_val_label_accuracy\": 0.8106770833333333, \"source_val_label_loss\": 0.510985791683197, \"target_val_label_accuracy\": 0.665625, \"target_val_label_loss\": 1.1055282354354858, \"total_epochs_trained\": 12, \"total_experiment_time_secs\": 320.51556301116943, \"confusion\": {\"8\": {\"15\": {\"15\": 224, \"2\": 7, \"12\": 9}, \"3\": {\"3\": 240}, \"6\": {\"6\": 155, \"8\": 33, \"14\": 46, \"1\": 1, \"11\": 2, \"4\": 3}, \"1\": {\"10\": 29, \"13\": 9, \"1\": 141, \"4\": 33, \"7\": 5, \"14\": 16, \"5\": 7}, \"8\": {\"8\": 177, \"11\": 36, \"6\": 24, \"4\": 2, \"14\": 1}, \"10\": {\"10\": 155, \"13\": 23, \"5\": 54, \"1\": 8}, \"9\": {\"9\": 240}, \"13\": {\"13\": 189, \"5\": 1, \"7\": 10, \"10\": 34, \"1\": 6}, \"12\": {\"12\": 231, \"15\": 7, \"2\": 2}, \"5\": {\"5\": 117, \"1\": 33, \"10\": 86, \"13\": 4}, \"0\": {\"0\": 240}, \"2\": {\"2\": 227, \"15\": 11, \"13\": 2}, \"11\": {\"11\": 145, \"8\": 64, \"7\": 20, \"6\": 8, \"12\": 2, \"4\": 1}, \"14\": {\"14\": 175, \"6\": 54, \"1\": 7, \"4\": 4}, \"7\": {\"4\": 51, \"7\": 178, \"1\": 4, \"11\": 3, \"8\": 2, \"13\": 2}, \"4\": {\"4\": 147, \"1\": 12, \"6\": 4, \"7\": 64, \"8\": 12, \"14\": 1}}, \"50\": {\"3\": {\"3\": 240}, \"15\": {\"15\": 188, \"12\": 13, \"6\": 18, \"9\": 18, \"4\": 2, \"5\": 1}, \"8\": {\"8\": 239, \"13\": 1}, \"4\": {\"4\": 177, \"5\": 55, \"6\": 3, \"7\": 5}, \"14\": {\"14\": 240}, \"0\": {\"2\": 20, \"0\": 206, \"10\": 14}, \"7\": {\"7\": 214, \"4\": 19, \"5\": 7}, \"6\": {\"5\": 15, \"6\": 198, \"15\": 22, \"4\": 4, \"12\": 1}, \"10\": {\"10\": 228, \"0\": 10, \"1\": 1, \"13\": 1}, \"5\": {\"5\": 148, \"4\": 69, \"6\": 11, \"7\": 12}, \"2\": {\"2\": 222, \"0\": 17, \"14\": 1}, \"12\": {\"11\": 20, \"12\": 189, \"15\": 17, \"9\": 4, \"6\": 10}, \"9\": {\"9\": 223, \"12\": 5, \"15\": 12}, \"1\": {\"1\": 236, \"13\": 3, \"11\": 1}, \"11\": {\"11\": 190, \"12\": 46, \"1\": 3, \"9\": 1}, \"13\": {\"13\": 232, \"1\": 8}}, \"32\": {\"5\": {\"5\": 199, \"15\": 26, \"7\": 7, \"2\": 5, \"14\": 3}, \"8\": {\"0\": 16, \"7\": 56, \"8\": 168}, \"11\": {\"13\": 34, \"4\": 99, \"11\": 96, \"0\": 10, \"8\": 1}, \"1\": {\"1\": 240}, \"10\": {\"10\": 240}, \"15\": {\"15\": 221, \"5\": 13, \"8\": 2, \"7\": 4}, \"3\": {\"3\": 221, \"13\": 16, \"11\": 2, \"4\": 1}, \"7\": {\"8\": 66, \"7\": 104, \"0\": 35, \"2\": 24, \"15\": 6, \"14\": 4, \"5\": 1}, \"4\": {\"4\": 185, \"11\": 35, \"0\": 11, \"3\": 3, \"8\": 2, \"13\": 4}, \"14\": {\"2\": 85, \"14\": 147, \"7\": 3, \"0\": 5}, \"9\": {\"9\": 239, \"11\": 1}, \"12\": {\"12\": 239, \"9\": 1}, \"6\": {\"6\": 240}, \"2\": {\"2\": 144, \"14\": 68, \"7\": 15, \"0\": 12, \"8\": 1}, \"0\": {\"7\": 49, \"0\": 137, \"8\": 26, \"2\": 15, \"4\": 11, \"14\": 2}, \"13\": {\"13\": 168, \"11\": 32, \"3\": 26, \"4\": 14}}, \"14\": {\"15\": {\"15\": 120}, \"3\": {\"3\": 107, \"7\": 3, \"6\": 10}, \"6\": {\"13\": 26, \"6\": 92, \"3\": 2}, \"1\": {\"1\": 120}, \"8\": {\"8\": 87, \"10\": 19, \"0\": 12, \"12\": 2}, \"10\": {\"0\": 17, \"3\": 5, \"8\": 41, \"10\": 46, \"5\": 7, \"14\": 2, \"12\": 2}, \"9\": {\"9\": 116, \"8\": 1, \"12\": 3}, \"13\": {\"13\": 89, \"6\": 31}, \"12\": {\"12\": 37, \"9\": 18, \"15\": 24, \"3\": 9, \"6\": 3, \"10\": 5, \"4\": 1, \"8\": 17, \"11\": 4, \"1\": 2}, \"5\": {\"2\": 15, \"14\": 28, \"5\": 72, \"10\": 3, \"7\": 1, \"4\": 1}, \"0\": {\"0\": 87, \"8\": 13, \"10\": 8, \"4\": 9, \"5\": 2, \"9\": 1}, \"2\": {\"14\": 30, \"5\": 22, \"2\": 31, \"7\": 26, \"3\": 10, \"6\": 1}, \"11\": {\"11\": 120}, \"14\": {\"14\": 47, \"7\": 10, \"5\": 37, \"2\": 19, \"3\": 7}, \"7\": {\"7\": 94, \"14\": 6, \"2\": 13, \"3\": 4, \"13\": 2, \"6\": 1}, \"4\": {\"4\": 111, \"5\": 1, \"2\": 1, \"0\": 6, \"1\": 1}}, \"20\": {\"3\": {\"4\": 31, \"3\": 27, \"9\": 14, \"7\": 17, \"5\": 8, \"15\": 8, \"2\": 13, \"13\": 2}, \"15\": {\"15\": 37, \"13\": 9, \"1\": 10, \"4\": 16, \"9\": 14, \"2\": 19, \"5\": 6, \"12\": 3, \"3\": 6}, \"8\": {\"11\": 38, \"14\": 24, \"8\": 57, \"0\": 1}, \"4\": {\"12\": 5, \"4\": 31, \"9\": 13, \"3\": 22, \"15\": 13, \"2\": 6, \"13\": 7, \"7\": 15, \"5\": 6, \"1\": 1, \"10\": 1}, \"14\": {\"8\": 25, \"14\": 87, \"7\": 1, \"5\": 2, \"3\": 1, \"11\": 4}, \"0\": {\"1\": 12, \"11\": 14, \"0\": 92, \"8\": 2}, \"7\": {\"7\": 52, \"10\": 12, \"4\": 17, \"3\": 22, \"2\": 2, \"5\": 6, \"6\": 4, \"15\": 3, \"9\": 2}, \"6\": {\"6\": 94, \"7\": 9, \"10\": 16, \"3\": 1}, \"10\": {\"6\": 19, \"10\": 78, \"12\": 8, \"7\": 14, \"13\": 1}, \"5\": {\"2\": 29, \"1\": 17, \"5\": 42, \"3\": 6, \"15\": 7, \"9\": 12, \"7\": 3, \"4\": 3, \"11\": 1}, \"2\": {\"5\": 27, \"9\": 27, \"2\": 21, \"1\": 6, \"3\": 13, \"15\": 14, \"4\": 10, \"7\": 1, \"13\": 1}, \"12\": {\"12\": 52, \"13\": 51, \"7\": 2, \"15\": 5, \"4\": 3, \"9\": 1, \"10\": 4, \"3\": 2}, \"9\": {\"4\": 13, \"2\": 32, \"15\": 21, \"9\": 23, \"3\": 15, \"5\": 9, \"13\": 4, \"7\": 2, \"12\": 1}, \"1\": {\"1\": 83, \"0\": 5, \"5\": 10, \"2\": 7, \"8\": 3, \"15\": 5, \"3\": 1, \"9\": 6}, \"11\": {\"8\": 47, \"14\": 9, \"11\": 51, \"0\": 13}, \"13\": {\"13\": 65, \"12\": 45, \"4\": 4, \"3\": 2, \"15\": 4}}, \"44\": {\"5\": {\"5\": 97, \"15\": 8, \"8\": 6, \"14\": 9}, \"8\": {\"8\": 93, \"0\": 12, \"15\": 2, \"5\": 13}, \"11\": {\"11\": 120}, \"1\": {\"1\": 103, \"2\": 14, \"12\": 3}, \"10\": {\"10\": 113, \"7\": 5, \"6\": 2}, \"15\": {\"15\": 83, \"5\": 26, \"4\": 1, \"8\": 6, \"0\": 4}, \"3\": {\"3\": 112, \"12\": 8}, \"7\": {\"7\": 70, \"9\": 44, \"6\": 4, \"10\": 2}, \"4\": {\"14\": 26, \"4\": 94}, \"14\": {\"14\": 92, \"4\": 21, \"5\": 7}, \"9\": {\"9\": 77, \"7\": 38, \"6\": 5}, \"12\": {\"12\": 105, \"3\": 15}, \"6\": {\"6\": 112, \"13\": 5, \"7\": 3}, \"2\": {\"2\": 97, \"1\": 23}, \"0\": {\"0\": 102, \"5\": 1, \"8\": 16, \"15\": 1}, \"13\": {\"13\": 110, \"6\": 6, \"4\": 4}}, \"38\": {\"14\": {\"2\": 37, \"14\": 65, \"13\": 2, \"7\": 8, \"4\": 3, \"5\": 1, \"10\": 1, \"8\": 2, \"12\": 1}, \"0\": {\"0\": 112, \"7\": 8}, \"13\": {\"10\": 24, \"13\": 80, \"3\": 16}, \"7\": {\"7\": 107, \"0\": 8, \"4\": 1, \"8\": 3, \"14\": 1}, \"9\": {\"9\": 105, \"12\": 4, \"5\": 11}, \"3\": {\"13\": 36, \"3\": 46, \"10\": 20, \"4\": 16, \"11\": 2}, \"11\": {\"11\": 120}, \"6\": {\"6\": 113, \"15\": 7}, \"8\": {\"8\": 102, \"9\": 6, \"12\": 4, \"5\": 5, \"14\": 2, \"7\": 1}, \"4\": {\"4\": 87, \"10\": 19, \"3\": 9, \"7\": 5}, \"5\": {\"5\": 33, \"8\": 38, \"12\": 39, \"9\": 10}, \"10\": {\"4\": 23, \"3\": 20, \"10\": 72, \"13\": 5}, \"1\": {\"1\": 106, \"15\": 14}, \"2\": {\"2\": 111, \"14\": 9}, \"15\": {\"15\": 68, \"6\": 22, \"1\": 29, \"9\": 1}, \"12\": {\"12\": 64, \"5\": 45, \"8\": 6, \"9\": 4, \"14\": 1}}, \"26\": {\"13\": {\"13\": 96, \"9\": 13, \"2\": 2, \"7\": 8, \"8\": 1}, \"2\": {\"2\": 56, \"8\": 34, \"15\": 2, \"9\": 14, \"7\": 13, \"13\": 1}, \"8\": {\"8\": 47, \"2\": 29, \"0\": 4, \"9\": 24, \"15\": 12, \"7\": 2, \"10\": 1, \"13\": 1}, \"9\": {\"9\": 52, \"8\": 34, \"13\": 14, \"2\": 12, \"7\": 7, \"10\": 1}, \"12\": {\"12\": 120}, \"4\": {\"4\": 117, \"3\": 3}, \"3\": {\"3\": 85, \"2\": 2, \"7\": 32, \"9\": 1}, \"15\": {\"15\": 64, \"0\": 30, \"10\": 11, \"2\": 6, \"14\": 3, \"8\": 5, \"9\": 1}, \"14\": {\"10\": 17, \"14\": 68, \"0\": 15, \"5\": 9, \"15\": 2, \"6\": 6, \"1\": 3}, \"10\": {\"15\": 17, \"10\": 20, \"14\": 19, \"1\": 6, \"13\": 1, \"6\": 8, \"0\": 23, \"8\": 11, \"2\": 2, \"9\": 7, \"5\": 6}, \"7\": {\"9\": 8, \"7\": 61, \"3\": 24, \"2\": 14, \"8\": 3, \"13\": 9, \"15\": 1}, \"11\": {\"11\": 120}, \"6\": {\"5\": 42, \"6\": 66, \"1\": 7, \"14\": 4, \"10\": 1}, \"1\": {\"1\": 97, \"6\": 4, \"5\": 15, \"14\": 4}, \"5\": {\"14\": 8, \"5\": 32, \"6\": 59, \"1\": 17, \"10\": 4}, \"0\": {\"10\": 30, \"15\": 24, \"0\": 50, \"14\": 14, \"3\": 1, \"7\": 1}}}, \"per_domain_accuracy\": {\"8\": {\"accuracy\": 0.7763020833333333, \"source?\": true}, \"50\": {\"accuracy\": 0.8776041666666666, \"source?\": true}, \"32\": {\"accuracy\": 0.778125, \"source?\": true}, \"14\": {\"accuracy\": 0.7166666666666667, \"source?\": false}, \"20\": {\"accuracy\": 0.46458333333333335, \"source?\": false}, \"44\": {\"accuracy\": 0.8229166666666666, \"source?\": false}, \"38\": {\"accuracy\": 0.7244791666666667, \"source?\": false}, \"26\": {\"accuracy\": 0.5994791666666667, \"source?\": false}}}, \"history\": {\"epoch_indices\": [1, 2, 3, 4, 5, 6, 7, 8, 9, 10, 11, 12], \"train_label_loss\": [1.2202698840981439, 1.1355587218843755, 0.6780178071487517, 0.5659978638624861, 0.5088328820786305, 0.4679065237620047, 0.43794541258719705, 0.40802555349433706, 0.37668968621375304, 0.36354140924467215, 0.3413970674166367, 0.3268855701865894], \"source_val_label_loss\": [2.4344682693481445, 0.8085814714431763, 0.6567516326904297, 0.6461313366889954, 0.5883180499076843, 0.5535253882408142, 0.545671284198761, 0.510985791683197, 0.5634501576423645, 0.5543599128723145, 0.510751485824585, 0.508382260799408], \"target_val_label_loss\": [2.9130892753601074, 1.4229621887207031, 1.45028817653656, 1.1788558959960938, 1.3854408264160156, 1.3146742582321167, 1.1379477977752686, 1.1055282354354858, 1.4185791015625, 1.124470591545105, 1.166752815246582, 1.1930679082870483], \"source_val_acc_label\": [0.47586805555555556, 0.7016493055555556, 0.7584201388888889, 0.7723090277777778, 0.7952256944444445, 0.8094618055555556, 0.8017361111111111, 0.8106770833333333, 0.8019097222222222, 0.80078125, 0.8138020833333334, 0.8167534722222223], \"target_val_acc_label\": [0.391875, 0.5596875, 0.5996875, 0.6279166666666667, 0.6397916666666666, 0.6645833333333333, 0.6609375, 0.665625, 0.6561458333333333, 0.66, 0.65875, 0.66625]}, \"dataset_metrics\": {\"source\": {\"train\": {\"n_unique_x\": 67200, \"n_unique_y\": 16, \"n_batch/episode\": 840}, \"val\": {\"n_unique_x\": 14400, \"n_unique_y\": 16, \"n_batch/episode\": 360}, \"test\": {\"n_unique_x\": 14400, \"n_unique_y\": 16, \"n_batch/episode\": 360}}, \"target\": {\"train\": {\"n_unique_x\": 56000, \"n_unique_y\": 16, \"n_batch/episode\": 700}, \"val\": {\"n_unique_x\": 12000, \"n_unique_y\": 16, \"n_batch/episode\": 300}, \"test\": {\"n_unique_x\": 12000, \"n_unique_y\": 16, \"n_batch/episode\": 300}}}}'"
      ]
     },
     "execution_count": 20,
     "metadata": {},
     "output_type": "execute_result"
    }
   ],
   "source": [
    "json.dumps(experiment)"
   ]
  }
 ],
 "metadata": {
  "celltoolbar": "Tags",
  "kernelspec": {
   "display_name": "Python 3 (ipykernel)",
   "language": "python",
   "name": "python3"
  },
  "language_info": {
   "codemirror_mode": {
    "name": "ipython",
    "version": 3
   },
   "file_extension": ".py",
   "mimetype": "text/x-python",
   "name": "python",
   "nbconvert_exporter": "python",
   "pygments_lexer": "ipython3",
   "version": "3.8.10"
  },
  "papermill": {
   "default_parameters": {},
   "duration": 350.733255,
   "end_time": "2022-03-04T22:52:18.681195",
   "environment_variables": {},
   "exception": null,
   "input_path": "/mnt/wd500GB/CSC500/csc500-main/csc500-notebooks/templates/ptn_template.ipynb",
   "output_path": "trial.ipynb",
   "parameters": {
    "parameters": {
     "BEST_MODEL_PATH": "./best_model.pth",
     "NUM_LOGS_PER_EPOCH": 10,
     "criteria_for_best": "target_loss",
     "dataset_seed": 1337,
     "device": "cuda",
     "domains_source": [
      8,
      32,
      50
     ],
     "domains_target": [
      14,
      20,
      26,
      38,
      44
     ],
     "episode_transforms_source": [],
     "episode_transforms_target": [],
     "experiment_name": "nQuery_oracle.run2",
     "labels_source": [
      "3123D52",
      "3123D65",
      "3123D79",
      "3123D80",
      "3123D54",
      "3123D70",
      "3123D7B",
      "3123D89",
      "3123D58",
      "3123D76",
      "3123D7D",
      "3123EFE",
      "3123D64",
      "3123D78",
      "3123D7E",
      "3124E4A"
     ],
     "labels_target": [
      "3123D52",
      "3123D65",
      "3123D79",
      "3123D80",
      "3123D54",
      "3123D70",
      "3123D7B",
      "3123D89",
      "3123D58",
      "3123D76",
      "3123D7D",
      "3123EFE",
      "3123D64",
      "3123D78",
      "3123D7E",
      "3124E4A"
     ],
     "lr": 0.001,
     "n_epoch": 50,
     "n_query": 2,
     "n_shot": 3,
     "n_way": 16,
     "num_examples_per_domain_per_label_source": 2000,
     "num_examples_per_domain_per_label_target": 1000,
     "patience": 3,
     "pickle_name": "oracle.Run2_10kExamples_stratified_ds.2022A.pkl",
     "seed": 1337,
     "test_k_factor": 2,
     "torch_default_dtype": "torch.float32",
     "train_k_factor": 1,
     "val_k_factor": 2,
     "x_net": [
      {
       "class": "nnReshape",
       "kargs": {
        "shape": [
         -1,
         1,
         2,
         256
        ]
       }
      },
      {
       "class": "Conv2d",
       "kargs": {
        "bias": false,
        "in_channels": 1,
        "kernel_size": [
         1,
         7
        ],
        "out_channels": 256,
        "padding": [
         0,
         3
        ]
       }
      },
      {
       "class": "ReLU",
       "kargs": {
        "inplace": true
       }
      },
      {
       "class": "BatchNorm2d",
       "kargs": {
        "num_features": 256
       }
      },
      {
       "class": "Conv2d",
       "kargs": {
        "bias": true,
        "in_channels": 256,
        "kernel_size": [
         2,
         7
        ],
        "out_channels": 80,
        "padding": [
         0,
         3
        ]
       }
      },
      {
       "class": "ReLU",
       "kargs": {
        "inplace": true
       }
      },
      {
       "class": "BatchNorm2d",
       "kargs": {
        "num_features": 80
       }
      },
      {
       "class": "Flatten",
       "kargs": {}
      },
      {
       "class": "Linear",
       "kargs": {
        "in_features": 20480,
        "out_features": 256
       }
      },
      {
       "class": "ReLU",
       "kargs": {
        "inplace": true
       }
      },
      {
       "class": "BatchNorm1d",
       "kargs": {
        "num_features": 256
       }
      },
      {
       "class": "Linear",
       "kargs": {
        "in_features": 256,
        "out_features": 256
       }
      }
     ],
     "x_transforms_source": [],
     "x_transforms_target": []
    }
   },
   "start_time": "2022-03-04T22:46:27.947940",
   "version": "2.3.4"
  }
 },
 "nbformat": 4,
 "nbformat_minor": 5
}