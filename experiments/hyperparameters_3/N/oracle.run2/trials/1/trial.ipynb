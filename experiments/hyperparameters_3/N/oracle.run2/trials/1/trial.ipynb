{
 "cells": [
  {
   "cell_type": "markdown",
   "id": "9fea5f46",
   "metadata": {
    "papermill": {
     "duration": 0.013635,
     "end_time": "2022-03-04T22:29:34.263990",
     "exception": false,
     "start_time": "2022-03-04T22:29:34.250355",
     "status": "completed"
    },
    "tags": []
   },
   "source": [
    "# PTN Template\n",
    "This notebook serves as a template for single dataset PTN experiments  \n",
    "It can be run on its own by setting STANDALONE to True (do a find for \"STANDALONE\" to see where)  \n",
    "But it is intended to be executed as part of a *papermill.py script. See any of the   \n",
    "experimentes with a papermill script to get started with that workflow.  "
   ]
  },
  {
   "cell_type": "code",
   "execution_count": 1,
   "id": "0902182a",
   "metadata": {
    "execution": {
     "iopub.execute_input": "2022-03-04T22:29:34.296456Z",
     "iopub.status.busy": "2022-03-04T22:29:34.295951Z",
     "iopub.status.idle": "2022-03-04T22:29:35.026934Z",
     "shell.execute_reply": "2022-03-04T22:29:35.026356Z"
    },
    "papermill": {
     "duration": 0.753899,
     "end_time": "2022-03-04T22:29:35.027054",
     "exception": false,
     "start_time": "2022-03-04T22:29:34.273155",
     "status": "completed"
    },
    "tags": []
   },
   "outputs": [],
   "source": [
    "%load_ext autoreload\n",
    "%autoreload 2\n",
    "%matplotlib inline\n",
    "\n",
    "    \n",
    "import os, json, sys, time, random\n",
    "import numpy as np\n",
    "import torch\n",
    "from torch.optim import Adam\n",
    "from  easydict import EasyDict\n",
    "import matplotlib.pyplot as plt\n",
    "\n",
    "from steves_models.steves_ptn import Steves_Prototypical_Network\n",
    "\n",
    "from steves_utils.lazy_iterable_wrapper import Lazy_Iterable_Wrapper\n",
    "from steves_utils.iterable_aggregator import Iterable_Aggregator\n",
    "from steves_utils.ptn_train_eval_test_jig import  PTN_Train_Eval_Test_Jig\n",
    "from steves_utils.torch_sequential_builder import build_sequential\n",
    "from steves_utils.torch_utils import get_dataset_metrics, ptn_confusion_by_domain_over_dataloader\n",
    "from steves_utils.utils_v2 import (per_domain_accuracy_from_confusion, get_datasets_base_path)\n",
    "from steves_utils.PTN.utils import independent_accuracy_assesment\n",
    "\n",
    "from steves_utils.stratified_dataset.episodic_accessor import Episodic_Accessor_Factory\n",
    "\n",
    "from steves_utils.ptn_do_report import (\n",
    "    get_loss_curve,\n",
    "    get_results_table,\n",
    "    get_parameters_table,\n",
    "    get_domain_accuracies,\n",
    ")\n",
    "\n",
    "from steves_utils.transforms import get_chained_transform"
   ]
  },
  {
   "cell_type": "markdown",
   "id": "41c840b4",
   "metadata": {
    "papermill": {
     "duration": 0.009038,
     "end_time": "2022-03-04T22:29:35.049818",
     "exception": false,
     "start_time": "2022-03-04T22:29:35.040780",
     "status": "completed"
    },
    "tags": []
   },
   "source": [
    "# Required Parameters\n",
    "These are allowed parameters, not defaults\n",
    "Each of these values need to be present in the injected parameters (the notebook will raise an exception if they are not present)\n",
    "\n",
    "Papermill uses the cell tag \"parameters\" to inject the real parameters below this cell.\n",
    "Enable tags to see what I mean"
   ]
  },
  {
   "cell_type": "code",
   "execution_count": 2,
   "id": "fd44eb83",
   "metadata": {
    "execution": {
     "iopub.execute_input": "2022-03-04T22:29:35.073562Z",
     "iopub.status.busy": "2022-03-04T22:29:35.072976Z",
     "iopub.status.idle": "2022-03-04T22:29:35.085232Z",
     "shell.execute_reply": "2022-03-04T22:29:35.084975Z"
    },
    "papermill": {
     "duration": 0.026366,
     "end_time": "2022-03-04T22:29:35.085323",
     "exception": false,
     "start_time": "2022-03-04T22:29:35.058957",
     "status": "completed"
    },
    "tags": []
   },
   "outputs": [],
   "source": [
    "required_parameters = {\n",
    "    \"experiment_name\",\n",
    "    \"lr\",\n",
    "    \"device\",\n",
    "    \"seed\",\n",
    "    \"dataset_seed\",\n",
    "    \"labels_source\",\n",
    "    \"labels_target\",\n",
    "    \"domains_source\",\n",
    "    \"domains_target\",\n",
    "    \"num_examples_per_domain_per_label_source\",\n",
    "    \"num_examples_per_domain_per_label_target\",\n",
    "    \"n_shot\",\n",
    "    \"n_way\",\n",
    "    \"n_query\",\n",
    "    \"train_k_factor\",\n",
    "    \"val_k_factor\",\n",
    "    \"test_k_factor\",\n",
    "    \"n_epoch\",\n",
    "    \"patience\",\n",
    "    \"criteria_for_best\",\n",
    "    \"x_transforms_source\",\n",
    "    \"x_transforms_target\",\n",
    "    \"episode_transforms_source\",\n",
    "    \"episode_transforms_target\",\n",
    "    \"pickle_name\",\n",
    "    \"x_net\",\n",
    "    \"NUM_LOGS_PER_EPOCH\",\n",
    "    \"BEST_MODEL_PATH\",\n",
    "    \"torch_default_dtype\"\n",
    "}"
   ]
  },
  {
   "cell_type": "code",
   "execution_count": 3,
   "id": "fa3f0049",
   "metadata": {
    "execution": {
     "iopub.execute_input": "2022-03-04T22:29:35.115357Z",
     "iopub.status.busy": "2022-03-04T22:29:35.114982Z",
     "iopub.status.idle": "2022-03-04T22:29:35.125506Z",
     "shell.execute_reply": "2022-03-04T22:29:35.125062Z"
    },
    "papermill": {
     "duration": 0.026147,
     "end_time": "2022-03-04T22:29:35.125610",
     "exception": false,
     "start_time": "2022-03-04T22:29:35.099463",
     "status": "completed"
    },
    "tags": [
     "parameters"
    ]
   },
   "outputs": [],
   "source": [
    "\n",
    "\n",
    "standalone_parameters = {}\n",
    "standalone_parameters[\"experiment_name\"] = \"STANDALONE PTN\"\n",
    "standalone_parameters[\"lr\"] = 0.0001\n",
    "standalone_parameters[\"device\"] = \"cuda\"\n",
    "\n",
    "standalone_parameters[\"seed\"] = 1337\n",
    "standalone_parameters[\"dataset_seed\"] = 1337\n",
    "\n",
    "\n",
    "standalone_parameters[\"num_examples_per_domain_per_label_source\"]=100\n",
    "standalone_parameters[\"num_examples_per_domain_per_label_target\"]=100\n",
    "\n",
    "standalone_parameters[\"n_shot\"] = 3\n",
    "standalone_parameters[\"n_query\"]  = 2\n",
    "standalone_parameters[\"train_k_factor\"] = 1\n",
    "standalone_parameters[\"val_k_factor\"] = 2\n",
    "standalone_parameters[\"test_k_factor\"] = 2\n",
    "\n",
    "\n",
    "standalone_parameters[\"n_epoch\"] = 100\n",
    "\n",
    "standalone_parameters[\"patience\"] = 10\n",
    "standalone_parameters[\"criteria_for_best\"] = \"target_accuracy\"\n",
    "\n",
    "standalone_parameters[\"x_transforms_source\"] = [\"unit_power\"]\n",
    "standalone_parameters[\"x_transforms_target\"] = [\"unit_power\"]\n",
    "standalone_parameters[\"episode_transforms_source\"] = []\n",
    "standalone_parameters[\"episode_transforms_target\"] = []\n",
    "\n",
    "standalone_parameters[\"torch_default_dtype\"] = \"torch.float32\" \n",
    "\n",
    "\n",
    "\n",
    "standalone_parameters[\"x_net\"] =     [\n",
    "    {\"class\": \"nnReshape\", \"kargs\": {\"shape\":[-1, 1, 2, 256]}},\n",
    "    {\"class\": \"Conv2d\", \"kargs\": { \"in_channels\":1, \"out_channels\":256, \"kernel_size\":(1,7), \"bias\":False, \"padding\":(0,3), },},\n",
    "    {\"class\": \"ReLU\", \"kargs\": {\"inplace\": True}},\n",
    "    {\"class\": \"BatchNorm2d\", \"kargs\": {\"num_features\":256}},\n",
    "\n",
    "    {\"class\": \"Conv2d\", \"kargs\": { \"in_channels\":256, \"out_channels\":80, \"kernel_size\":(2,7), \"bias\":True, \"padding\":(0,3), },},\n",
    "    {\"class\": \"ReLU\", \"kargs\": {\"inplace\": True}},\n",
    "    {\"class\": \"BatchNorm2d\", \"kargs\": {\"num_features\":80}},\n",
    "    {\"class\": \"Flatten\", \"kargs\": {}},\n",
    "\n",
    "    {\"class\": \"Linear\", \"kargs\": {\"in_features\": 80*256, \"out_features\": 256}}, # 80 units per IQ pair\n",
    "    {\"class\": \"ReLU\", \"kargs\": {\"inplace\": True}},\n",
    "    {\"class\": \"BatchNorm1d\", \"kargs\": {\"num_features\":256}},\n",
    "\n",
    "    {\"class\": \"Linear\", \"kargs\": {\"in_features\": 256, \"out_features\": 256}},\n",
    "]\n",
    "\n",
    "# Parameters relevant to results\n",
    "# These parameters will basically never need to change\n",
    "standalone_parameters[\"NUM_LOGS_PER_EPOCH\"] = 10\n",
    "standalone_parameters[\"BEST_MODEL_PATH\"] = \"./best_model.pth\"\n",
    "\n",
    "# uncomment for CORES dataset\n",
    "from steves_utils.CORES.utils import (\n",
    "    ALL_NODES,\n",
    "    ALL_NODES_MINIMUM_1000_EXAMPLES,\n",
    "    ALL_DAYS\n",
    ")\n",
    "\n",
    "\n",
    "standalone_parameters[\"labels_source\"] = ALL_NODES\n",
    "standalone_parameters[\"labels_target\"] = ALL_NODES\n",
    "\n",
    "standalone_parameters[\"domains_source\"] = [1]\n",
    "standalone_parameters[\"domains_target\"] = [2,3,4,5]\n",
    "\n",
    "standalone_parameters[\"pickle_name\"] = \"cores.stratified_ds.2022A.pkl\"\n",
    "\n",
    "\n",
    "# Uncomment these for ORACLE dataset\n",
    "# from steves_utils.ORACLE.utils_v2 import (\n",
    "#     ALL_DISTANCES_FEET,\n",
    "#     ALL_RUNS,\n",
    "#     ALL_SERIAL_NUMBERS,\n",
    "# )\n",
    "# standalone_parameters[\"labels_source\"] = ALL_SERIAL_NUMBERS\n",
    "# standalone_parameters[\"labels_target\"] = ALL_SERIAL_NUMBERS\n",
    "# standalone_parameters[\"domains_source\"] = [8,20, 38,50]\n",
    "# standalone_parameters[\"domains_target\"] = [14, 26, 32, 44, 56]\n",
    "# standalone_parameters[\"pickle_name\"] = \"oracle.frame_indexed.stratified_ds.2022A.pkl\"\n",
    "# standalone_parameters[\"num_examples_per_domain_per_label_source\"]=1000\n",
    "# standalone_parameters[\"num_examples_per_domain_per_label_target\"]=1000\n",
    "\n",
    "# Uncomment these for Metahan dataset\n",
    "# standalone_parameters[\"labels_source\"] = list(range(19))\n",
    "# standalone_parameters[\"labels_target\"] = list(range(19))\n",
    "# standalone_parameters[\"domains_source\"] = [0]\n",
    "# standalone_parameters[\"domains_target\"] = [1]\n",
    "# standalone_parameters[\"pickle_name\"] = \"metehan.stratified_ds.2022A.pkl\"\n",
    "# standalone_parameters[\"n_way\"]  = len(standalone_parameters[\"labels_source\"])\n",
    "# standalone_parameters[\"num_examples_per_domain_per_label_source\"]=200\n",
    "# standalone_parameters[\"num_examples_per_domain_per_label_target\"]=100\n",
    "\n",
    "\n",
    "standalone_parameters[\"n_way\"]  = len(standalone_parameters[\"labels_source\"])"
   ]
  },
  {
   "cell_type": "code",
   "execution_count": 4,
   "id": "e2499464",
   "metadata": {
    "execution": {
     "iopub.execute_input": "2022-03-04T22:29:35.154645Z",
     "iopub.status.busy": "2022-03-04T22:29:35.154365Z",
     "iopub.status.idle": "2022-03-04T22:29:35.164190Z",
     "shell.execute_reply": "2022-03-04T22:29:35.163698Z"
    },
    "papermill": {
     "duration": 0.024457,
     "end_time": "2022-03-04T22:29:35.164289",
     "exception": false,
     "start_time": "2022-03-04T22:29:35.139832",
     "status": "completed"
    },
    "tags": [
     "injected-parameters"
    ]
   },
   "outputs": [],
   "source": [
    "# Parameters\n",
    "parameters = {\n",
    "    \"experiment_name\": \"nQuery_oracle.run2\",\n",
    "    \"device\": \"cuda\",\n",
    "    \"lr\": 0.001,\n",
    "    \"seed\": 1337,\n",
    "    \"dataset_seed\": 1337,\n",
    "    \"labels_source\": [\n",
    "        \"3123D52\",\n",
    "        \"3123D65\",\n",
    "        \"3123D79\",\n",
    "        \"3123D80\",\n",
    "        \"3123D54\",\n",
    "        \"3123D70\",\n",
    "        \"3123D7B\",\n",
    "        \"3123D89\",\n",
    "        \"3123D58\",\n",
    "        \"3123D76\",\n",
    "        \"3123D7D\",\n",
    "        \"3123EFE\",\n",
    "        \"3123D64\",\n",
    "        \"3123D78\",\n",
    "        \"3123D7E\",\n",
    "        \"3124E4A\",\n",
    "    ],\n",
    "    \"labels_target\": [\n",
    "        \"3123D52\",\n",
    "        \"3123D65\",\n",
    "        \"3123D79\",\n",
    "        \"3123D80\",\n",
    "        \"3123D54\",\n",
    "        \"3123D70\",\n",
    "        \"3123D7B\",\n",
    "        \"3123D89\",\n",
    "        \"3123D58\",\n",
    "        \"3123D76\",\n",
    "        \"3123D7D\",\n",
    "        \"3123EFE\",\n",
    "        \"3123D64\",\n",
    "        \"3123D78\",\n",
    "        \"3123D7E\",\n",
    "        \"3124E4A\",\n",
    "    ],\n",
    "    \"x_transforms_source\": [],\n",
    "    \"x_transforms_target\": [],\n",
    "    \"episode_transforms_source\": [],\n",
    "    \"episode_transforms_target\": [],\n",
    "    \"num_examples_per_domain_per_label_target\": 1000,\n",
    "    \"n_shot\": 3,\n",
    "    \"n_way\": 16,\n",
    "    \"n_query\": 2,\n",
    "    \"train_k_factor\": 1,\n",
    "    \"val_k_factor\": 2,\n",
    "    \"test_k_factor\": 2,\n",
    "    \"torch_default_dtype\": \"torch.float32\",\n",
    "    \"n_epoch\": 50,\n",
    "    \"patience\": 3,\n",
    "    \"criteria_for_best\": \"target_loss\",\n",
    "    \"x_net\": [\n",
    "        {\"class\": \"nnReshape\", \"kargs\": {\"shape\": [-1, 1, 2, 256]}},\n",
    "        {\n",
    "            \"class\": \"Conv2d\",\n",
    "            \"kargs\": {\n",
    "                \"in_channels\": 1,\n",
    "                \"out_channels\": 256,\n",
    "                \"kernel_size\": [1, 7],\n",
    "                \"bias\": False,\n",
    "                \"padding\": [0, 3],\n",
    "            },\n",
    "        },\n",
    "        {\"class\": \"ReLU\", \"kargs\": {\"inplace\": True}},\n",
    "        {\"class\": \"BatchNorm2d\", \"kargs\": {\"num_features\": 256}},\n",
    "        {\n",
    "            \"class\": \"Conv2d\",\n",
    "            \"kargs\": {\n",
    "                \"in_channels\": 256,\n",
    "                \"out_channels\": 80,\n",
    "                \"kernel_size\": [2, 7],\n",
    "                \"bias\": True,\n",
    "                \"padding\": [0, 3],\n",
    "            },\n",
    "        },\n",
    "        {\"class\": \"ReLU\", \"kargs\": {\"inplace\": True}},\n",
    "        {\"class\": \"BatchNorm2d\", \"kargs\": {\"num_features\": 80}},\n",
    "        {\"class\": \"Flatten\", \"kargs\": {}},\n",
    "        {\"class\": \"Linear\", \"kargs\": {\"in_features\": 20480, \"out_features\": 256}},\n",
    "        {\"class\": \"ReLU\", \"kargs\": {\"inplace\": True}},\n",
    "        {\"class\": \"BatchNorm1d\", \"kargs\": {\"num_features\": 256}},\n",
    "        {\"class\": \"Linear\", \"kargs\": {\"in_features\": 256, \"out_features\": 256}},\n",
    "    ],\n",
    "    \"NUM_LOGS_PER_EPOCH\": 10,\n",
    "    \"BEST_MODEL_PATH\": \"./best_model.pth\",\n",
    "    \"pickle_name\": \"oracle.Run2_10kExamples_stratified_ds.2022A.pkl\",\n",
    "    \"num_examples_per_domain_per_label_source\": 100,\n",
    "    \"domains_source\": [8, 32, 50],\n",
    "    \"domains_target\": [14, 20, 26, 38, 44],\n",
    "}\n"
   ]
  },
  {
   "cell_type": "code",
   "execution_count": 5,
   "id": "8fa1cc33",
   "metadata": {
    "execution": {
     "iopub.execute_input": "2022-03-04T22:29:35.197914Z",
     "iopub.status.busy": "2022-03-04T22:29:35.187938Z",
     "iopub.status.idle": "2022-03-04T22:29:35.203870Z",
     "shell.execute_reply": "2022-03-04T22:29:35.203394Z"
    },
    "papermill": {
     "duration": 0.0269,
     "end_time": "2022-03-04T22:29:35.203968",
     "exception": false,
     "start_time": "2022-03-04T22:29:35.177068",
     "status": "completed"
    },
    "tags": []
   },
   "outputs": [],
   "source": [
    "# Set this to True if you want to run this template directly\n",
    "STANDALONE = False\n",
    "if STANDALONE:\n",
    "    print(\"parameters not injected, running with standalone_parameters\")\n",
    "    parameters = standalone_parameters\n",
    "\n",
    "if not 'parameters' in locals() and not 'parameters' in globals():\n",
    "    raise Exception(\"Parameter injection failed\")\n",
    "\n",
    "#Use an easy dict for all the parameters\n",
    "p = EasyDict(parameters)\n",
    "\n",
    "supplied_keys = set(p.keys())\n",
    "\n",
    "if  supplied_keys != required_parameters:\n",
    "    print(\"Parameters are incorrect\")\n",
    "    if len(supplied_keys - required_parameters)>0: print(\"Shouldn't have:\", str(supplied_keys - required_parameters))\n",
    "    if len(required_parameters - supplied_keys)>0: print(\"Need to have:\", str(required_parameters - supplied_keys))\n",
    "    raise RuntimeError(\"Parameters are incorrect\")\n",
    "\n"
   ]
  },
  {
   "cell_type": "code",
   "execution_count": 6,
   "id": "3a028d58",
   "metadata": {
    "execution": {
     "iopub.execute_input": "2022-03-04T22:29:35.238856Z",
     "iopub.status.busy": "2022-03-04T22:29:35.238164Z",
     "iopub.status.idle": "2022-03-04T22:29:35.243090Z",
     "shell.execute_reply": "2022-03-04T22:29:35.242599Z"
    },
    "papermill": {
     "duration": 0.024682,
     "end_time": "2022-03-04T22:29:35.243187",
     "exception": false,
     "start_time": "2022-03-04T22:29:35.218505",
     "status": "completed"
    },
    "tags": []
   },
   "outputs": [],
   "source": [
    "###################################\n",
    "# Set the RNGs and make it all deterministic\n",
    "###################################\n",
    "np.random.seed(p.seed)\n",
    "random.seed(p.seed)\n",
    "torch.manual_seed(p.seed)\n",
    "\n",
    "torch.use_deterministic_algorithms(True) "
   ]
  },
  {
   "cell_type": "code",
   "execution_count": 7,
   "id": "b691acf6",
   "metadata": {
    "execution": {
     "iopub.execute_input": "2022-03-04T22:29:35.275282Z",
     "iopub.status.busy": "2022-03-04T22:29:35.271213Z",
     "iopub.status.idle": "2022-03-04T22:29:35.281045Z",
     "shell.execute_reply": "2022-03-04T22:29:35.281418Z"
    },
    "papermill": {
     "duration": 0.024969,
     "end_time": "2022-03-04T22:29:35.281536",
     "exception": false,
     "start_time": "2022-03-04T22:29:35.256567",
     "status": "completed"
    },
    "tags": []
   },
   "outputs": [],
   "source": [
    "###########################################\n",
    "# The stratified datasets honor this\n",
    "###########################################\n",
    "torch.set_default_dtype(eval(p.torch_default_dtype))"
   ]
  },
  {
   "cell_type": "code",
   "execution_count": 8,
   "id": "b5fba671",
   "metadata": {
    "execution": {
     "iopub.execute_input": "2022-03-04T22:29:35.318413Z",
     "iopub.status.busy": "2022-03-04T22:29:35.307357Z",
     "iopub.status.idle": "2022-03-04T22:29:35.346127Z",
     "shell.execute_reply": "2022-03-04T22:29:35.345676Z"
    },
    "papermill": {
     "duration": 0.049764,
     "end_time": "2022-03-04T22:29:35.346237",
     "exception": false,
     "start_time": "2022-03-04T22:29:35.296473",
     "status": "completed"
    },
    "tags": []
   },
   "outputs": [],
   "source": [
    "###################################\n",
    "# Build the network(s)\n",
    "# Note: It's critical to do this AFTER setting the RNG\n",
    "# (This is due to the randomized initial weights)\n",
    "###################################\n",
    "x_net = build_sequential(p.x_net)"
   ]
  },
  {
   "cell_type": "code",
   "execution_count": 9,
   "id": "5d7e61cc",
   "metadata": {
    "execution": {
     "iopub.execute_input": "2022-03-04T22:29:35.372826Z",
     "iopub.status.busy": "2022-03-04T22:29:35.372579Z",
     "iopub.status.idle": "2022-03-04T22:29:35.384812Z",
     "shell.execute_reply": "2022-03-04T22:29:35.384554Z"
    },
    "papermill": {
     "duration": 0.024123,
     "end_time": "2022-03-04T22:29:35.384867",
     "exception": false,
     "start_time": "2022-03-04T22:29:35.360744",
     "status": "completed"
    },
    "tags": []
   },
   "outputs": [],
   "source": [
    "start_time_secs = time.time()"
   ]
  },
  {
   "cell_type": "code",
   "execution_count": 10,
   "id": "fd5442bc",
   "metadata": {
    "execution": {
     "iopub.execute_input": "2022-03-04T22:29:35.411869Z",
     "iopub.status.busy": "2022-03-04T22:29:35.405771Z",
     "iopub.status.idle": "2022-03-04T22:29:38.461226Z",
     "shell.execute_reply": "2022-03-04T22:29:38.460770Z"
    },
    "papermill": {
     "duration": 3.066767,
     "end_time": "2022-03-04T22:29:38.461337",
     "exception": false,
     "start_time": "2022-03-04T22:29:35.394570",
     "status": "completed"
    },
    "tags": []
   },
   "outputs": [],
   "source": [
    "###################################\n",
    "# Build the dataset\n",
    "###################################\n",
    "\n",
    "if p.x_transforms_source == []: x_transform_source = None\n",
    "else: x_transform_source = get_chained_transform(p.x_transforms_source) \n",
    "\n",
    "if p.x_transforms_target == []: x_transform_target = None\n",
    "else: x_transform_target = get_chained_transform(p.x_transforms_target)\n",
    "\n",
    "if p.episode_transforms_source == []: episode_transform_source = None\n",
    "else: raise Exception(\"episode_transform_source not implemented\")\n",
    "\n",
    "if p.episode_transforms_target == []: episode_transform_target = None\n",
    "else: raise Exception(\"episode_transform_target not implemented\")\n",
    "\n",
    "\n",
    "eaf_source = Episodic_Accessor_Factory(\n",
    "    labels=p.labels_source,\n",
    "    domains=p.domains_source,\n",
    "    num_examples_per_domain_per_label=p.num_examples_per_domain_per_label_source,\n",
    "    iterator_seed=p.seed,\n",
    "    dataset_seed=p.dataset_seed,\n",
    "    n_shot=p.n_shot,\n",
    "    n_way=p.n_way,\n",
    "    n_query=p.n_query,\n",
    "    train_val_test_k_factors=(p.train_k_factor,p.val_k_factor,p.test_k_factor),\n",
    "    pickle_path=os.path.join(get_datasets_base_path(), p.pickle_name),\n",
    "    x_transform_func=x_transform_source,\n",
    "    example_transform_func=episode_transform_source,\n",
    "    \n",
    ")\n",
    "train_original_source, val_original_source, test_original_source = eaf_source.get_train(), eaf_source.get_val(), eaf_source.get_test()\n",
    "\n",
    "\n",
    "eaf_target = Episodic_Accessor_Factory(\n",
    "    labels=p.labels_target,\n",
    "    domains=p.domains_target,\n",
    "    num_examples_per_domain_per_label=p.num_examples_per_domain_per_label_target,\n",
    "    iterator_seed=p.seed,\n",
    "    dataset_seed=p.dataset_seed,\n",
    "    n_shot=p.n_shot,\n",
    "    n_way=p.n_way,\n",
    "    n_query=p.n_query,\n",
    "    train_val_test_k_factors=(p.train_k_factor,p.val_k_factor,p.test_k_factor),\n",
    "    pickle_path=os.path.join(get_datasets_base_path(), p.pickle_name),\n",
    "    x_transform_func=x_transform_target,\n",
    "    example_transform_func=episode_transform_target,\n",
    ")\n",
    "train_original_target, val_original_target, test_original_target = eaf_target.get_train(), eaf_target.get_val(), eaf_target.get_test()\n",
    "\n",
    "\n",
    "transform_lambda = lambda ex: ex[1] # Original is (<domain>, <episode>) so we strip down to episode only\n",
    "\n",
    "train_processed_source = Lazy_Iterable_Wrapper(train_original_source, transform_lambda)\n",
    "val_processed_source   = Lazy_Iterable_Wrapper(val_original_source, transform_lambda)\n",
    "test_processed_source  = Lazy_Iterable_Wrapper(test_original_source, transform_lambda)\n",
    "\n",
    "train_processed_target = Lazy_Iterable_Wrapper(train_original_target, transform_lambda)\n",
    "val_processed_target   = Lazy_Iterable_Wrapper(val_original_target, transform_lambda)\n",
    "test_processed_target  = Lazy_Iterable_Wrapper(test_original_target, transform_lambda)\n",
    "\n",
    "datasets = EasyDict({\n",
    "    \"source\": {\n",
    "        \"original\": {\"train\":train_original_source, \"val\":val_original_source, \"test\":test_original_source},\n",
    "        \"processed\": {\"train\":train_processed_source, \"val\":val_processed_source, \"test\":test_processed_source}\n",
    "    },\n",
    "    \"target\": {\n",
    "        \"original\": {\"train\":train_original_target, \"val\":val_original_target, \"test\":test_original_target},\n",
    "        \"processed\": {\"train\":train_processed_target, \"val\":val_processed_target, \"test\":test_processed_target}\n",
    "    },\n",
    "})"
   ]
  },
  {
   "cell_type": "code",
   "execution_count": 11,
   "id": "296189d9",
   "metadata": {
    "execution": {
     "iopub.execute_input": "2022-03-04T22:29:38.491624Z",
     "iopub.status.busy": "2022-03-04T22:29:38.490775Z",
     "iopub.status.idle": "2022-03-04T22:29:40.026524Z",
     "shell.execute_reply": "2022-03-04T22:29:40.025946Z"
    },
    "papermill": {
     "duration": 1.550332,
     "end_time": "2022-03-04T22:29:40.026638",
     "exception": false,
     "start_time": "2022-03-04T22:29:38.476306",
     "status": "completed"
    },
    "tags": []
   },
   "outputs": [
    {
     "name": "stdout",
     "output_type": "stream",
     "text": [
      "Visually inspect these to see if they line up with expected values given the transforms\n",
      "x_transforms_source []\n",
      "x_transforms_target []\n",
      "Average magnitude, source: 0.00471479\n",
      "Average power, source: 2.7778053e-05\n"
     ]
    },
    {
     "name": "stdout",
     "output_type": "stream",
     "text": [
      "Average magnitude, target: 0.0029128897\n",
      "Average power, target: 1.0910343e-05\n"
     ]
    }
   ],
   "source": [
    "# Some quick unit tests on the data\n",
    "from steves_utils.transforms import get_average_power, get_average_magnitude\n",
    "\n",
    "q_x, q_y, s_x, s_y, truth = next(iter(train_processed_source))\n",
    "\n",
    "assert q_x.dtype == eval(p.torch_default_dtype)\n",
    "assert s_x.dtype == eval(p.torch_default_dtype)\n",
    "\n",
    "print(\"Visually inspect these to see if they line up with expected values given the transforms\")\n",
    "print('x_transforms_source', p.x_transforms_source)\n",
    "print('x_transforms_target', p.x_transforms_target)\n",
    "print(\"Average magnitude, source:\", get_average_magnitude(q_x[0].numpy()))\n",
    "print(\"Average power, source:\", get_average_power(q_x[0].numpy()))\n",
    "\n",
    "q_x, q_y, s_x, s_y, truth = next(iter(train_processed_target))\n",
    "print(\"Average magnitude, target:\", get_average_magnitude(q_x[0].numpy()))\n",
    "print(\"Average power, target:\", get_average_power(q_x[0].numpy()))\n"
   ]
  },
  {
   "cell_type": "code",
   "execution_count": 12,
   "id": "bbdacba1",
   "metadata": {
    "execution": {
     "iopub.execute_input": "2022-03-04T22:29:40.064091Z",
     "iopub.status.busy": "2022-03-04T22:29:40.063231Z",
     "iopub.status.idle": "2022-03-04T22:29:40.118412Z",
     "shell.execute_reply": "2022-03-04T22:29:40.117989Z"
    },
    "papermill": {
     "duration": 0.075387,
     "end_time": "2022-03-04T22:29:40.118525",
     "exception": false,
     "start_time": "2022-03-04T22:29:40.043138",
     "status": "completed"
    },
    "tags": []
   },
   "outputs": [
    {
     "name": "stdout",
     "output_type": "stream",
     "text": [
      "(2, 256)\n"
     ]
    }
   ],
   "source": [
    "###################################\n",
    "# Build the model\n",
    "###################################\n",
    "model = Steves_Prototypical_Network(x_net, device=p.device, x_shape=(2,256))\n",
    "optimizer = Adam(params=model.parameters(), lr=p.lr)"
   ]
  },
  {
   "cell_type": "code",
   "execution_count": 13,
   "id": "22b39ac5",
   "metadata": {
    "execution": {
     "iopub.execute_input": "2022-03-04T22:29:40.147027Z",
     "iopub.status.busy": "2022-03-04T22:29:40.146669Z",
     "iopub.status.idle": "2022-03-04T22:30:04.054601Z",
     "shell.execute_reply": "2022-03-04T22:30:04.054191Z"
    },
    "papermill": {
     "duration": 23.920871,
     "end_time": "2022-03-04T22:30:04.054718",
     "exception": false,
     "start_time": "2022-03-04T22:29:40.133847",
     "status": "completed"
    },
    "tags": []
   },
   "outputs": [
    {
     "name": "stdout",
     "output_type": "stream",
     "text": [
      "epoch: 1, [batch: 1 / 42], examples_per_second: 1341.1500, train_label_loss: 2.4187, \n"
     ]
    },
    {
     "name": "stdout",
     "output_type": "stream",
     "text": [
      "epoch: 1, [batch: 5 / 42], examples_per_second: 2937.4062, train_label_loss: 1.4435, \n"
     ]
    },
    {
     "name": "stdout",
     "output_type": "stream",
     "text": [
      "epoch: 1, [batch: 9 / 42], examples_per_second: 3043.6101, train_label_loss: 1.3343, \n"
     ]
    },
    {
     "name": "stdout",
     "output_type": "stream",
     "text": [
      "epoch: 1, [batch: 13 / 42], examples_per_second: 3114.7364, train_label_loss: 1.6792, \n"
     ]
    },
    {
     "name": "stdout",
     "output_type": "stream",
     "text": [
      "epoch: 1, [batch: 17 / 42], examples_per_second: 3216.2827, train_label_loss: 1.3403, \n"
     ]
    },
    {
     "name": "stdout",
     "output_type": "stream",
     "text": [
      "epoch: 1, [batch: 21 / 42], examples_per_second: 3202.1942, train_label_loss: 1.1859, \n"
     ]
    },
    {
     "name": "stdout",
     "output_type": "stream",
     "text": [
      "epoch: 1, [batch: 25 / 42], examples_per_second: 3184.5371, train_label_loss: 1.2898, \n"
     ]
    },
    {
     "name": "stdout",
     "output_type": "stream",
     "text": [
      "epoch: 1, [batch: 29 / 42], examples_per_second: 3232.2617, train_label_loss: 1.3943, \n"
     ]
    },
    {
     "name": "stdout",
     "output_type": "stream",
     "text": [
      "epoch: 1, [batch: 33 / 42], examples_per_second: 3350.9446, train_label_loss: 1.1186, \n"
     ]
    },
    {
     "name": "stdout",
     "output_type": "stream",
     "text": [
      "epoch: 1, [batch: 37 / 42], examples_per_second: 3377.3028, train_label_loss: 1.3562, \n"
     ]
    },
    {
     "name": "stdout",
     "output_type": "stream",
     "text": [
      "=============================================================\n",
      "epoch: 1, source_val_acc_label: 0.3819, target_val_acc_label: 0.3131, source_val_label_loss: 2.0537, target_val_label_loss: 2.2068, \n",
      "=============================================================\n"
     ]
    },
    {
     "name": "stdout",
     "output_type": "stream",
     "text": [
      "New best\n"
     ]
    },
    {
     "name": "stdout",
     "output_type": "stream",
     "text": [
      "epoch: 2, [batch: 1 / 42], examples_per_second: 63.4162, train_label_loss: 1.3613, \n"
     ]
    },
    {
     "name": "stdout",
     "output_type": "stream",
     "text": [
      "epoch: 2, [batch: 5 / 42], examples_per_second: 3245.8707, train_label_loss: 1.4213, \n"
     ]
    },
    {
     "name": "stdout",
     "output_type": "stream",
     "text": [
      "epoch: 2, [batch: 9 / 42], examples_per_second: 3133.7390, train_label_loss: 1.8901, \n"
     ]
    },
    {
     "name": "stdout",
     "output_type": "stream",
     "text": [
      "epoch: 2, [batch: 13 / 42], examples_per_second: 3192.8550, train_label_loss: 1.5061, \n"
     ]
    },
    {
     "name": "stdout",
     "output_type": "stream",
     "text": [
      "epoch: 2, [batch: 17 / 42], examples_per_second: 3226.4885, train_label_loss: 1.4469, \n"
     ]
    },
    {
     "name": "stdout",
     "output_type": "stream",
     "text": [
      "epoch: 2, [batch: 21 / 42], examples_per_second: 3175.7062, train_label_loss: 1.3639, \n"
     ]
    },
    {
     "name": "stdout",
     "output_type": "stream",
     "text": [
      "epoch: 2, [batch: 25 / 42], examples_per_second: 3206.7694, train_label_loss: 1.2929, \n"
     ]
    },
    {
     "name": "stdout",
     "output_type": "stream",
     "text": [
      "epoch: 2, [batch: 29 / 42], examples_per_second: 3233.7647, train_label_loss: 1.2064, \n"
     ]
    },
    {
     "name": "stdout",
     "output_type": "stream",
     "text": [
      "epoch: 2, [batch: 33 / 42], examples_per_second: 3231.1801, train_label_loss: 1.2928, \n"
     ]
    },
    {
     "name": "stdout",
     "output_type": "stream",
     "text": [
      "epoch: 2, [batch: 37 / 42], examples_per_second: 3326.3955, train_label_loss: 1.5390, \n"
     ]
    },
    {
     "name": "stdout",
     "output_type": "stream",
     "text": [
      "=============================================================\n",
      "epoch: 2, source_val_acc_label: 0.4410, target_val_acc_label: 0.3523, source_val_label_loss: 1.3665, target_val_label_loss: 1.8394, \n",
      "=============================================================\n"
     ]
    },
    {
     "name": "stdout",
     "output_type": "stream",
     "text": [
      "New best\n"
     ]
    },
    {
     "name": "stdout",
     "output_type": "stream",
     "text": [
      "epoch: 3, [batch: 1 / 42], examples_per_second: 62.4752, train_label_loss: 1.4567, \n"
     ]
    },
    {
     "name": "stdout",
     "output_type": "stream",
     "text": [
      "epoch: 3, [batch: 5 / 42], examples_per_second: 3296.2508, train_label_loss: 1.1617, \n"
     ]
    },
    {
     "name": "stdout",
     "output_type": "stream",
     "text": [
      "epoch: 3, [batch: 9 / 42], examples_per_second: 3317.5895, train_label_loss: 1.5885, \n"
     ]
    },
    {
     "name": "stdout",
     "output_type": "stream",
     "text": [
      "epoch: 3, [batch: 13 / 42], examples_per_second: 3288.9408, train_label_loss: 1.4230, \n"
     ]
    },
    {
     "name": "stdout",
     "output_type": "stream",
     "text": [
      "epoch: 3, [batch: 17 / 42], examples_per_second: 3222.1896, train_label_loss: 1.2979, \n"
     ]
    },
    {
     "name": "stdout",
     "output_type": "stream",
     "text": [
      "epoch: 3, [batch: 21 / 42], examples_per_second: 3197.9444, train_label_loss: 1.2796, \n"
     ]
    },
    {
     "name": "stdout",
     "output_type": "stream",
     "text": [
      "epoch: 3, [batch: 25 / 42], examples_per_second: 3212.3414, train_label_loss: 1.5060, \n"
     ]
    },
    {
     "name": "stdout",
     "output_type": "stream",
     "text": [
      "epoch: 3, [batch: 29 / 42], examples_per_second: 3234.5986, train_label_loss: 1.3019, \n"
     ]
    },
    {
     "name": "stdout",
     "output_type": "stream",
     "text": [
      "epoch: 3, [batch: 33 / 42], examples_per_second: 3323.9735, train_label_loss: 1.1497, \n"
     ]
    },
    {
     "name": "stdout",
     "output_type": "stream",
     "text": [
      "epoch: 3, [batch: 37 / 42], examples_per_second: 3400.3534, train_label_loss: 1.5244, \n"
     ]
    },
    {
     "name": "stdout",
     "output_type": "stream",
     "text": [
      "=============================================================\n",
      "epoch: 3, source_val_acc_label: 0.4601, target_val_acc_label: 0.3641, source_val_label_loss: 1.2792, target_val_label_loss: 1.7846, \n",
      "=============================================================\n"
     ]
    },
    {
     "name": "stdout",
     "output_type": "stream",
     "text": [
      "New best\n"
     ]
    },
    {
     "name": "stdout",
     "output_type": "stream",
     "text": [
      "epoch: 4, [batch: 1 / 42], examples_per_second: 61.3955, train_label_loss: 1.2155, \n"
     ]
    },
    {
     "name": "stdout",
     "output_type": "stream",
     "text": [
      "epoch: 4, [batch: 5 / 42], examples_per_second: 3196.4898, train_label_loss: 1.1113, \n"
     ]
    },
    {
     "name": "stdout",
     "output_type": "stream",
     "text": [
      "epoch: 4, [batch: 9 / 42], examples_per_second: 3229.0190, train_label_loss: 1.1203, \n"
     ]
    },
    {
     "name": "stdout",
     "output_type": "stream",
     "text": [
      "epoch: 4, [batch: 13 / 42], examples_per_second: 3205.1382, train_label_loss: 1.1151, \n"
     ]
    },
    {
     "name": "stdout",
     "output_type": "stream",
     "text": [
      "epoch: 4, [batch: 17 / 42], examples_per_second: 3188.1604, train_label_loss: 1.2401, \n"
     ]
    },
    {
     "name": "stdout",
     "output_type": "stream",
     "text": [
      "epoch: 4, [batch: 21 / 42], examples_per_second: 3234.0920, train_label_loss: 0.9648, \n"
     ]
    },
    {
     "name": "stdout",
     "output_type": "stream",
     "text": [
      "epoch: 4, [batch: 25 / 42], examples_per_second: 3186.9114, train_label_loss: 1.1495, \n"
     ]
    },
    {
     "name": "stdout",
     "output_type": "stream",
     "text": [
      "epoch: 4, [batch: 29 / 42], examples_per_second: 3203.6847, train_label_loss: 1.4206, \n"
     ]
    },
    {
     "name": "stdout",
     "output_type": "stream",
     "text": [
      "epoch: 4, [batch: 33 / 42], examples_per_second: 3258.5739, train_label_loss: 1.1845, \n"
     ]
    },
    {
     "name": "stdout",
     "output_type": "stream",
     "text": [
      "epoch: 4, [batch: 37 / 42], examples_per_second: 3355.3174, train_label_loss: 1.4223, \n"
     ]
    },
    {
     "name": "stdout",
     "output_type": "stream",
     "text": [
      "=============================================================\n",
      "epoch: 4, source_val_acc_label: 0.4531, target_val_acc_label: 0.3678, source_val_label_loss: 1.3161, target_val_label_loss: 1.8038, \n",
      "=============================================================\n"
     ]
    },
    {
     "name": "stdout",
     "output_type": "stream",
     "text": [
      "epoch: 5, [batch: 1 / 42], examples_per_second: 64.4029, train_label_loss: 1.4294, \n"
     ]
    },
    {
     "name": "stdout",
     "output_type": "stream",
     "text": [
      "epoch: 5, [batch: 5 / 42], examples_per_second: 3175.3155, train_label_loss: 1.2484, \n"
     ]
    },
    {
     "name": "stdout",
     "output_type": "stream",
     "text": [
      "epoch: 5, [batch: 9 / 42], examples_per_second: 3229.9981, train_label_loss: 1.1425, \n"
     ]
    },
    {
     "name": "stdout",
     "output_type": "stream",
     "text": [
      "epoch: 5, [batch: 13 / 42], examples_per_second: 3270.6117, train_label_loss: 1.2531, \n"
     ]
    },
    {
     "name": "stdout",
     "output_type": "stream",
     "text": [
      "epoch: 5, [batch: 17 / 42], examples_per_second: 3283.8552, train_label_loss: 1.2163, \n"
     ]
    },
    {
     "name": "stdout",
     "output_type": "stream",
     "text": [
      "epoch: 5, [batch: 21 / 42], examples_per_second: 3292.3050, train_label_loss: 1.2558, \n"
     ]
    },
    {
     "name": "stdout",
     "output_type": "stream",
     "text": [
      "epoch: 5, [batch: 25 / 42], examples_per_second: 3231.2112, train_label_loss: 1.0753, \n"
     ]
    },
    {
     "name": "stdout",
     "output_type": "stream",
     "text": [
      "epoch: 5, [batch: 29 / 42], examples_per_second: 3240.7138, train_label_loss: 1.1878, \n"
     ]
    },
    {
     "name": "stdout",
     "output_type": "stream",
     "text": [
      "epoch: 5, [batch: 33 / 42], examples_per_second: 3317.0238, train_label_loss: 1.2961, \n"
     ]
    },
    {
     "name": "stdout",
     "output_type": "stream",
     "text": [
      "epoch: 5, [batch: 37 / 42], examples_per_second: 3392.3177, train_label_loss: 1.1752, \n"
     ]
    },
    {
     "name": "stdout",
     "output_type": "stream",
     "text": [
      "=============================================================\n",
      "epoch: 5, source_val_acc_label: 0.4201, target_val_acc_label: 0.3469, source_val_label_loss: 1.3743, target_val_label_loss: 1.9115, \n",
      "=============================================================\n"
     ]
    },
    {
     "name": "stdout",
     "output_type": "stream",
     "text": [
      "epoch: 6, [batch: 1 / 42], examples_per_second: 64.0412, train_label_loss: 0.8831, \n"
     ]
    },
    {
     "name": "stdout",
     "output_type": "stream",
     "text": [
      "epoch: 6, [batch: 5 / 42], examples_per_second: 3230.3791, train_label_loss: 1.3494, \n"
     ]
    },
    {
     "name": "stdout",
     "output_type": "stream",
     "text": [
      "epoch: 6, [batch: 9 / 42], examples_per_second: 3235.6669, train_label_loss: 1.3150, \n"
     ]
    },
    {
     "name": "stdout",
     "output_type": "stream",
     "text": [
      "epoch: 6, [batch: 13 / 42], examples_per_second: 3188.4331, train_label_loss: 1.3080, \n"
     ]
    },
    {
     "name": "stdout",
     "output_type": "stream",
     "text": [
      "epoch: 6, [batch: 17 / 42], examples_per_second: 3210.3821, train_label_loss: 1.0720, \n"
     ]
    },
    {
     "name": "stdout",
     "output_type": "stream",
     "text": [
      "epoch: 6, [batch: 21 / 42], examples_per_second: 3227.3109, train_label_loss: 1.1676, \n"
     ]
    },
    {
     "name": "stdout",
     "output_type": "stream",
     "text": [
      "epoch: 6, [batch: 25 / 42], examples_per_second: 3295.0693, train_label_loss: 1.4405, \n"
     ]
    },
    {
     "name": "stdout",
     "output_type": "stream",
     "text": [
      "epoch: 6, [batch: 29 / 42], examples_per_second: 3265.8209, train_label_loss: 1.1239, \n"
     ]
    },
    {
     "name": "stdout",
     "output_type": "stream",
     "text": [
      "epoch: 6, [batch: 33 / 42], examples_per_second: 3334.4031, train_label_loss: 1.1017, \n"
     ]
    },
    {
     "name": "stdout",
     "output_type": "stream",
     "text": [
      "epoch: 6, [batch: 37 / 42], examples_per_second: 3429.1704, train_label_loss: 1.3094, \n"
     ]
    },
    {
     "name": "stdout",
     "output_type": "stream",
     "text": [
      "=============================================================\n",
      "epoch: 6, source_val_acc_label: 0.4670, target_val_acc_label: 0.3595, source_val_label_loss: 1.3782, target_val_label_loss: 2.0562, \n",
      "=============================================================\n"
     ]
    },
    {
     "name": "stdout",
     "output_type": "stream",
     "text": [
      "epoch: 7, [batch: 1 / 42], examples_per_second: 64.3335, train_label_loss: 1.5761, \n"
     ]
    },
    {
     "name": "stdout",
     "output_type": "stream",
     "text": [
      "epoch: 7, [batch: 5 / 42], examples_per_second: 3224.2563, train_label_loss: 0.9448, \n"
     ]
    },
    {
     "name": "stdout",
     "output_type": "stream",
     "text": [
      "epoch: 7, [batch: 9 / 42], examples_per_second: 3288.0304, train_label_loss: 0.9477, \n"
     ]
    },
    {
     "name": "stdout",
     "output_type": "stream",
     "text": [
      "epoch: 7, [batch: 13 / 42], examples_per_second: 3206.8307, train_label_loss: 0.9004, \n"
     ]
    },
    {
     "name": "stdout",
     "output_type": "stream",
     "text": [
      "epoch: 7, [batch: 17 / 42], examples_per_second: 3273.0363, train_label_loss: 1.3206, \n"
     ]
    },
    {
     "name": "stdout",
     "output_type": "stream",
     "text": [
      "epoch: 7, [batch: 21 / 42], examples_per_second: 3166.1995, train_label_loss: 1.4337, \n"
     ]
    },
    {
     "name": "stdout",
     "output_type": "stream",
     "text": [
      "epoch: 7, [batch: 25 / 42], examples_per_second: 3265.8527, train_label_loss: 1.2030, \n"
     ]
    },
    {
     "name": "stdout",
     "output_type": "stream",
     "text": [
      "epoch: 7, [batch: 29 / 42], examples_per_second: 3327.6160, train_label_loss: 1.3386, \n"
     ]
    },
    {
     "name": "stdout",
     "output_type": "stream",
     "text": [
      "epoch: 7, [batch: 33 / 42], examples_per_second: 3392.8408, train_label_loss: 1.2656, \n"
     ]
    },
    {
     "name": "stdout",
     "output_type": "stream",
     "text": [
      "epoch: 7, [batch: 37 / 42], examples_per_second: 3464.0409, train_label_loss: 1.1644, \n"
     ]
    },
    {
     "name": "stdout",
     "output_type": "stream",
     "text": [
      "=============================================================\n",
      "epoch: 7, source_val_acc_label: 0.4618, target_val_acc_label: 0.3503, source_val_label_loss: 1.3313, target_val_label_loss: 1.8592, \n",
      "=============================================================\n"
     ]
    },
    {
     "name": "stdout",
     "output_type": "stream",
     "text": [
      "Patience (3) exhausted\n"
     ]
    }
   ],
   "source": [
    "###################################\n",
    "# train\n",
    "###################################\n",
    "jig = PTN_Train_Eval_Test_Jig(model, p.BEST_MODEL_PATH, p.device)\n",
    "\n",
    "jig.train(\n",
    "    train_iterable=datasets.source.processed.train,\n",
    "    source_val_iterable=datasets.source.processed.val,\n",
    "    target_val_iterable=datasets.target.processed.val,\n",
    "    num_epochs=p.n_epoch,\n",
    "    num_logs_per_epoch=p.NUM_LOGS_PER_EPOCH,\n",
    "    patience=p.patience,\n",
    "    optimizer=optimizer,\n",
    "    criteria_for_best=p.criteria_for_best,\n",
    ")"
   ]
  },
  {
   "cell_type": "code",
   "execution_count": 14,
   "id": "31e8fabf",
   "metadata": {
    "execution": {
     "iopub.execute_input": "2022-03-04T22:30:04.111645Z",
     "iopub.status.busy": "2022-03-04T22:30:04.111386Z",
     "iopub.status.idle": "2022-03-04T22:30:04.128037Z",
     "shell.execute_reply": "2022-03-04T22:30:04.127601Z"
    },
    "papermill": {
     "duration": 0.044297,
     "end_time": "2022-03-04T22:30:04.128143",
     "exception": false,
     "start_time": "2022-03-04T22:30:04.083846",
     "status": "completed"
    },
    "tags": []
   },
   "outputs": [],
   "source": [
    "total_experiment_time_secs = time.time() - start_time_secs"
   ]
  },
  {
   "cell_type": "code",
   "execution_count": 15,
   "id": "87b9595b",
   "metadata": {
    "execution": {
     "iopub.execute_input": "2022-03-04T22:30:04.189771Z",
     "iopub.status.busy": "2022-03-04T22:30:04.189493Z",
     "iopub.status.idle": "2022-03-04T22:30:17.003426Z",
     "shell.execute_reply": "2022-03-04T22:30:17.002990Z"
    },
    "papermill": {
     "duration": 12.843958,
     "end_time": "2022-03-04T22:30:17.003530",
     "exception": false,
     "start_time": "2022-03-04T22:30:04.159572",
     "status": "completed"
    },
    "tags": []
   },
   "outputs": [],
   "source": [
    "###################################\n",
    "# Evaluate the model\n",
    "###################################\n",
    "source_test_label_accuracy, source_test_label_loss = jig.test(datasets.source.processed.test)\n",
    "target_test_label_accuracy, target_test_label_loss = jig.test(datasets.target.processed.test)\n",
    "\n",
    "source_val_label_accuracy, source_val_label_loss = jig.test(datasets.source.processed.val)\n",
    "target_val_label_accuracy, target_val_label_loss = jig.test(datasets.target.processed.val)\n",
    "\n",
    "history = jig.get_history()\n",
    "\n",
    "total_epochs_trained = len(history[\"epoch_indices\"])\n",
    "\n",
    "val_dl = Iterable_Aggregator((datasets.source.original.val,datasets.target.original.val))\n",
    "\n",
    "confusion = ptn_confusion_by_domain_over_dataloader(model, p.device, val_dl)\n",
    "per_domain_accuracy = per_domain_accuracy_from_confusion(confusion)\n",
    "\n",
    "# Add a key to per_domain_accuracy for if it was a source domain\n",
    "for domain, accuracy in per_domain_accuracy.items():\n",
    "    per_domain_accuracy[domain] = {\n",
    "        \"accuracy\": accuracy,\n",
    "        \"source?\": domain in p.domains_source\n",
    "    }\n",
    "\n",
    "# Do an independent accuracy assesment JUST TO BE SURE!\n",
    "# _source_test_label_accuracy = independent_accuracy_assesment(model, datasets.source.processed.test, p.device)\n",
    "# _target_test_label_accuracy = independent_accuracy_assesment(model, datasets.target.processed.test, p.device)\n",
    "# _source_val_label_accuracy = independent_accuracy_assesment(model, datasets.source.processed.val, p.device)\n",
    "# _target_val_label_accuracy = independent_accuracy_assesment(model, datasets.target.processed.val, p.device)\n",
    "\n",
    "# assert(_source_test_label_accuracy == source_test_label_accuracy)\n",
    "# assert(_target_test_label_accuracy == target_test_label_accuracy)\n",
    "# assert(_source_val_label_accuracy == source_val_label_accuracy)\n",
    "# assert(_target_val_label_accuracy == target_val_label_accuracy)\n",
    "\n",
    "experiment = {\n",
    "    \"experiment_name\": p.experiment_name,\n",
    "    \"parameters\": dict(p),\n",
    "    \"results\": {\n",
    "        \"source_test_label_accuracy\": source_test_label_accuracy,\n",
    "        \"source_test_label_loss\": source_test_label_loss,\n",
    "        \"target_test_label_accuracy\": target_test_label_accuracy,\n",
    "        \"target_test_label_loss\": target_test_label_loss,\n",
    "        \"source_val_label_accuracy\": source_val_label_accuracy,\n",
    "        \"source_val_label_loss\": source_val_label_loss,\n",
    "        \"target_val_label_accuracy\": target_val_label_accuracy,\n",
    "        \"target_val_label_loss\": target_val_label_loss,\n",
    "        \"total_epochs_trained\": total_epochs_trained,\n",
    "        \"total_experiment_time_secs\": total_experiment_time_secs,\n",
    "        \"confusion\": confusion,\n",
    "        \"per_domain_accuracy\": per_domain_accuracy,\n",
    "    },\n",
    "    \"history\": history,\n",
    "    \"dataset_metrics\": get_dataset_metrics(datasets, \"ptn\"),\n",
    "}"
   ]
  },
  {
   "cell_type": "code",
   "execution_count": 16,
   "id": "54a21829",
   "metadata": {
    "execution": {
     "iopub.execute_input": "2022-03-04T22:30:17.061281Z",
     "iopub.status.busy": "2022-03-04T22:30:17.060909Z",
     "iopub.status.idle": "2022-03-04T22:30:17.316759Z",
     "shell.execute_reply": "2022-03-04T22:30:17.317162Z"
    },
    "papermill": {
     "duration": 0.282926,
     "end_time": "2022-03-04T22:30:17.317292",
     "exception": false,
     "start_time": "2022-03-04T22:30:17.034366",
     "status": "completed"
    },
    "tags": []
   },
   "outputs": [
    {
     "data": {
      "image/png": "[encoded data removed]",
      "text/plain": [
       "<Figure size 1080x504 with 1 Axes>"
      ]
     },
     "metadata": {
      "needs_background": "light"
     },
     "output_type": "display_data"
    }
   ],
   "source": [
    "ax = get_loss_curve(experiment)\n",
    "plt.show()"
   ]
  },
  {
   "cell_type": "code",
   "execution_count": 17,
   "id": "fd8a0f60",
   "metadata": {
    "execution": {
     "iopub.execute_input": "2022-03-04T22:30:17.377101Z",
     "iopub.status.busy": "2022-03-04T22:30:17.376305Z",
     "iopub.status.idle": "2022-03-04T22:30:17.553668Z",
     "shell.execute_reply": "2022-03-04T22:30:17.553956Z"
    },
    "papermill": {
     "duration": 0.206209,
     "end_time": "2022-03-04T22:30:17.554052",
     "exception": false,
     "start_time": "2022-03-04T22:30:17.347843",
     "status": "completed"
    },
    "tags": []
   },
   "outputs": [
    {
     "data": {
      "text/plain": [
       "<matplotlib.axes._subplots.AxesSubplot at 0x7fb87639db50>"
      ]
     },
     "execution_count": 17,
     "metadata": {},
     "output_type": "execute_result"
    },
    {
     "data": {
      "image/png": "[encoded data removed]",
      "text/plain": [
       "<Figure size 1080x504 with 1 Axes>"
      ]
     },
     "metadata": {
      "needs_background": "light"
     },
     "output_type": "display_data"
    }
   ],
   "source": [
    "get_results_table(experiment)"
   ]
  },
  {
   "cell_type": "code",
   "execution_count": 18,
   "id": "cf8dc689",
   "metadata": {
    "execution": {
     "iopub.execute_input": "2022-03-04T22:30:17.619591Z",
     "iopub.status.busy": "2022-03-04T22:30:17.619329Z",
     "iopub.status.idle": "2022-03-04T22:30:17.789385Z",
     "shell.execute_reply": "2022-03-04T22:30:17.789102Z"
    },
    "papermill": {
     "duration": 0.200118,
     "end_time": "2022-03-04T22:30:17.789449",
     "exception": false,
     "start_time": "2022-03-04T22:30:17.589331",
     "status": "completed"
    },
    "tags": []
   },
   "outputs": [
    {
     "data": {
      "text/plain": [
       "<matplotlib.axes._subplots.AxesSubplot at 0x7fb876176c70>"
      ]
     },
     "execution_count": 18,
     "metadata": {},
     "output_type": "execute_result"
    },
    {
     "data": {
      "image/png": "[encoded data removed]",
      "text/plain": [
       "<Figure size 1080x504 with 1 Axes>"
      ]
     },
     "metadata": {
      "needs_background": "light"
     },
     "output_type": "display_data"
    }
   ],
   "source": [
    "get_domain_accuracies(experiment)"
   ]
  },
  {
   "cell_type": "code",
   "execution_count": 19,
   "id": "a74ae082",
   "metadata": {
    "execution": {
     "iopub.execute_input": "2022-03-04T22:30:17.847312Z",
     "iopub.status.busy": "2022-03-04T22:30:17.846902Z",
     "iopub.status.idle": "2022-03-04T22:30:17.858628Z",
     "shell.execute_reply": "2022-03-04T22:30:17.858376Z"
    },
    "papermill": {
     "duration": 0.04148,
     "end_time": "2022-03-04T22:30:17.858688",
     "exception": false,
     "start_time": "2022-03-04T22:30:17.817208",
     "status": "completed"
    },
    "tags": []
   },
   "outputs": [
    {
     "name": "stdout",
     "output_type": "stream",
     "text": [
      "Source Test Label Accuracy: 0.4166666666666667 Target Test Label Accuracy: 0.3729166666666667\n",
      "Source Val Label Accuracy: 0.4600694444444444 Target Val Label Accuracy: 0.3640625\n"
     ]
    }
   ],
   "source": [
    "print(\"Source Test Label Accuracy:\", experiment[\"results\"][\"source_test_label_accuracy\"], \"Target Test Label Accuracy:\", experiment[\"results\"][\"target_test_label_accuracy\"])\n",
    "print(\"Source Val Label Accuracy:\", experiment[\"results\"][\"source_val_label_accuracy\"], \"Target Val Label Accuracy:\", experiment[\"results\"][\"target_val_label_accuracy\"])"
   ]
  },
  {
   "cell_type": "code",
   "execution_count": 20,
   "id": "dacca602",
   "metadata": {
    "execution": {
     "iopub.execute_input": "2022-03-04T22:30:17.916689Z",
     "iopub.status.busy": "2022-03-04T22:30:17.916313Z",
     "iopub.status.idle": "2022-03-04T22:30:17.926956Z",
     "shell.execute_reply": "2022-03-04T22:30:17.926665Z"
    },
    "papermill": {
     "duration": 0.040468,
     "end_time": "2022-03-04T22:30:17.927018",
     "exception": false,
     "start_time": "2022-03-04T22:30:17.886550",
     "status": "completed"
    },
    "tags": [
     "experiment_json"
    ]
   },
   "outputs": [
    {
     "data": {
      "text/plain": [
       "'{\"experiment_name\": \"nQuery_oracle.run2\", \"parameters\": {\"experiment_name\": \"nQuery_oracle.run2\", \"device\": \"cuda\", \"lr\": 0.001, \"seed\": 1337, \"dataset_seed\": 1337, \"labels_source\": [\"3123D52\", \"3123D65\", \"3123D79\", \"3123D80\", \"3123D54\", \"3123D70\", \"3123D7B\", \"3123D89\", \"3123D58\", \"3123D76\", \"3123D7D\", \"3123EFE\", \"3123D64\", \"3123D78\", \"3123D7E\", \"3124E4A\"], \"labels_target\": [\"3123D52\", \"3123D65\", \"3123D79\", \"3123D80\", \"3123D54\", \"3123D70\", \"3123D7B\", \"3123D89\", \"3123D58\", \"3123D76\", \"3123D7D\", \"3123EFE\", \"3123D64\", \"3123D78\", \"3123D7E\", \"3124E4A\"], \"x_transforms_source\": [], \"x_transforms_target\": [], \"episode_transforms_source\": [], \"episode_transforms_target\": [], \"num_examples_per_domain_per_label_target\": 1000, \"n_shot\": 3, \"n_way\": 16, \"n_query\": 2, \"train_k_factor\": 1, \"val_k_factor\": 2, \"test_k_factor\": 2, \"torch_default_dtype\": \"torch.float32\", \"n_epoch\": 50, \"patience\": 3, \"criteria_for_best\": \"target_loss\", \"x_net\": [{\"class\": \"nnReshape\", \"kargs\": {\"shape\": [-1, 1, 2, 256]}}, {\"class\": \"Conv2d\", \"kargs\": {\"in_channels\": 1, \"out_channels\": 256, \"kernel_size\": [1, 7], \"bias\": false, \"padding\": [0, 3]}}, {\"class\": \"ReLU\", \"kargs\": {\"inplace\": true}}, {\"class\": \"BatchNorm2d\", \"kargs\": {\"num_features\": 256}}, {\"class\": \"Conv2d\", \"kargs\": {\"in_channels\": 256, \"out_channels\": 80, \"kernel_size\": [2, 7], \"bias\": true, \"padding\": [0, 3]}}, {\"class\": \"ReLU\", \"kargs\": {\"inplace\": true}}, {\"class\": \"BatchNorm2d\", \"kargs\": {\"num_features\": 80}}, {\"class\": \"Flatten\", \"kargs\": {}}, {\"class\": \"Linear\", \"kargs\": {\"in_features\": 20480, \"out_features\": 256}}, {\"class\": \"ReLU\", \"kargs\": {\"inplace\": true}}, {\"class\": \"BatchNorm1d\", \"kargs\": {\"num_features\": 256}}, {\"class\": \"Linear\", \"kargs\": {\"in_features\": 256, \"out_features\": 256}}], \"NUM_LOGS_PER_EPOCH\": 10, \"BEST_MODEL_PATH\": \"./best_model.pth\", \"pickle_name\": \"oracle.Run2_10kExamples_stratified_ds.2022A.pkl\", \"num_examples_per_domain_per_label_source\": 100, \"domains_source\": [8, 32, 50], \"domains_target\": [14, 20, 26, 38, 44]}, \"results\": {\"source_test_label_accuracy\": 0.4166666666666667, \"source_test_label_loss\": 1.4294366836547852, \"target_test_label_accuracy\": 0.3729166666666667, \"target_test_label_loss\": 1.8304539918899536, \"source_val_label_accuracy\": 0.4600694444444444, \"source_val_label_loss\": 1.2791748046875, \"target_val_label_accuracy\": 0.3640625, \"target_val_label_loss\": 1.784604549407959, \"total_epochs_trained\": 7, \"total_experiment_time_secs\": 28.742721557617188, \"confusion\": {\"8\": {\"15\": {\"15\": 7, \"9\": 3, \"12\": 1, \"2\": 1}, \"3\": {\"3\": 11, \"9\": 1}, \"6\": {\"8\": 3, \"6\": 4, \"11\": 2, \"14\": 3}, \"1\": {\"11\": 1, \"8\": 3, \"14\": 2, \"5\": 1, \"10\": 1, \"1\": 3, \"7\": 1}, \"8\": {\"8\": 7, \"1\": 2, \"6\": 2, \"4\": 1}, \"10\": {\"10\": 5, \"13\": 2, \"7\": 2, \"5\": 2, \"4\": 1}, \"9\": {\"15\": 1, \"9\": 11}, \"13\": {\"13\": 8, \"5\": 1, \"10\": 3}, \"12\": {\"2\": 7, \"12\": 4, \"15\": 1}, \"5\": {\"10\": 2, \"1\": 2, \"7\": 6, \"5\": 1, \"11\": 1}, \"0\": {\"0\": 12}, \"2\": {\"12\": 7, \"2\": 5}, \"11\": {\"10\": 1, \"8\": 2, \"1\": 2, \"5\": 1, \"6\": 4, \"13\": 1, \"4\": 1}, \"14\": {\"6\": 7, \"14\": 3, \"8\": 2}, \"7\": {\"10\": 2, \"4\": 4, \"7\": 1, \"5\": 2, \"13\": 1, \"1\": 1, \"11\": 1}, \"4\": {\"11\": 2, \"7\": 2, \"1\": 3, \"8\": 3, \"4\": 1, \"5\": 1}}, \"50\": {\"3\": {\"6\": 5, \"9\": 1, \"3\": 3, \"12\": 2, \"15\": 1}, \"15\": {\"15\": 2, \"9\": 6, \"4\": 1, \"3\": 2, \"6\": 1}, \"8\": {\"8\": 6, \"13\": 5, \"1\": 1}, \"4\": {\"5\": 4, \"7\": 3, \"4\": 5}, \"14\": {\"2\": 5, \"0\": 1, \"14\": 6}, \"0\": {\"0\": 10, \"10\": 1, \"14\": 1}, \"7\": {\"7\": 10, \"15\": 1, \"4\": 1}, \"6\": {\"12\": 3, \"6\": 2, \"3\": 5, \"15\": 2}, \"10\": {\"10\": 8, \"0\": 2, \"8\": 2}, \"5\": {\"5\": 5, \"9\": 4, \"15\": 3}, \"2\": {\"2\": 5, \"14\": 6, \"0\": 1}, \"12\": {\"6\": 2, \"12\": 6, \"3\": 3, \"11\": 1}, \"9\": {\"9\": 4, \"15\": 4, \"12\": 1, \"4\": 1, \"5\": 1, \"3\": 1}, \"1\": {\"1\": 3, \"13\": 6, \"8\": 3}, \"11\": {\"11\": 6, \"13\": 1, \"12\": 3, \"1\": 2}, \"13\": {\"11\": 3, \"13\": 6, \"1\": 3}}, \"32\": {\"5\": {\"5\": 9, \"15\": 3}, \"8\": {\"8\": 2, \"7\": 6, \"2\": 3, \"0\": 1}, \"11\": {\"3\": 2, \"1\": 1, \"9\": 1, \"12\": 1, \"11\": 4, \"13\": 2, \"4\": 1}, \"1\": {\"1\": 4, \"4\": 6, \"3\": 1, \"11\": 1}, \"10\": {\"10\": 11, \"12\": 1}, \"15\": {\"15\": 11, \"5\": 1}, \"3\": {\"3\": 6, \"11\": 4, \"1\": 1, \"4\": 1}, \"7\": {\"7\": 6, \"8\": 3, \"15\": 1, \"2\": 1, \"14\": 1}, \"4\": {\"4\": 6, \"3\": 2, \"1\": 3, \"14\": 1}, \"14\": {\"0\": 6, \"1\": 1, \"2\": 3, \"8\": 1, \"4\": 1}, \"9\": {\"11\": 1, \"9\": 6, \"13\": 5}, \"12\": {\"12\": 9, \"10\": 3}, \"6\": {\"6\": 12}, \"2\": {\"14\": 4, \"0\": 2, \"7\": 3, \"2\": 3}, \"0\": {\"1\": 2, \"8\": 2, \"14\": 3, \"7\": 2, \"0\": 2, \"2\": 1}, \"13\": {\"4\": 1, \"9\": 5, \"13\": 4, \"1\": 1, \"3\": 1}}, \"14\": {\"15\": {\"15\": 119, \"12\": 1}, \"3\": {\"3\": 43, \"7\": 48, \"12\": 1, \"14\": 3, \"2\": 9, \"6\": 14, \"13\": 2}, \"6\": {\"6\": 63, \"13\": 40, \"12\": 3, \"3\": 13, \"7\": 1}, \"1\": {\"1\": 94, \"9\": 24, \"12\": 2}, \"8\": {\"0\": 31, \"8\": 33, \"4\": 15, \"14\": 10, \"10\": 13, \"2\": 2, \"5\": 16}, \"10\": {\"9\": 2, \"8\": 28, \"3\": 5, \"6\": 1, \"4\": 18, \"0\": 19, \"10\": 20, \"5\": 13, \"14\": 9, \"2\": 4, \"12\": 1}, \"9\": {\"9\": 94, \"1\": 13, \"0\": 4, \"4\": 6, \"12\": 2, \"10\": 1}, \"13\": {\"13\": 68, \"6\": 49, \"12\": 2, \"3\": 1}, \"12\": {\"12\": 11, \"1\": 6, \"7\": 4, \"10\": 3, \"6\": 3, \"9\": 12, \"15\": 34, \"3\": 6, \"13\": 10, \"0\": 6, \"5\": 6, \"2\": 3, \"4\": 5, \"14\": 5, \"8\": 3, \"11\": 3}, \"5\": {\"5\": 41, \"10\": 20, \"2\": 14, \"8\": 11, \"14\": 30, \"0\": 3, \"4\": 1}, \"0\": {\"8\": 24, \"0\": 34, \"10\": 13, \"4\": 38, \"5\": 2, \"9\": 7, \"12\": 2}, \"2\": {\"7\": 20, \"2\": 18, \"14\": 37, \"5\": 21, \"10\": 3, \"3\": 15, \"8\": 3, \"6\": 2, \"0\": 1}, \"11\": {\"11\": 120}, \"14\": {\"5\": 40, \"2\": 16, \"14\": 37, \"8\": 4, \"10\": 9, \"7\": 11, \"0\": 1, \"3\": 2}, \"7\": {\"3\": 45, \"7\": 40, \"5\": 5, \"2\": 15, \"14\": 10, \"6\": 3, \"10\": 1, \"13\": 1}, \"4\": {\"8\": 27, \"0\": 30, \"4\": 44, \"10\": 11, \"12\": 2, \"9\": 3, \"5\": 2, \"14\": 1}}, \"20\": {\"3\": {\"15\": 14, \"5\": 11, \"13\": 5, \"9\": 14, \"0\": 1, \"6\": 9, \"4\": 10, \"10\": 9, \"7\": 8, \"1\": 8, \"3\": 11, \"2\": 16, \"14\": 2, \"12\": 1, \"8\": 1}, \"15\": {\"15\": 13, \"5\": 12, \"13\": 6, \"0\": 1, \"1\": 7, \"4\": 11, \"3\": 8, \"7\": 14, \"2\": 9, \"12\": 9, \"6\": 12, \"10\": 8, \"9\": 10}, \"8\": {\"8\": 31, \"14\": 19, \"0\": 34, \"11\": 27, \"1\": 8, \"5\": 1}, \"4\": {\"7\": 15, \"15\": 9, \"13\": 7, \"12\": 6, \"2\": 14, \"6\": 15, \"9\": 9, \"5\": 5, \"3\": 13, \"4\": 12, \"10\": 8, \"1\": 7}, \"14\": {\"0\": 24, \"14\": 38, \"5\": 6, \"8\": 21, \"1\": 10, \"11\": 18, \"2\": 3}, \"0\": {\"11\": 42, \"0\": 34, \"14\": 20, \"8\": 21, \"1\": 2, \"5\": 1}, \"7\": {\"5\": 11, \"12\": 5, \"7\": 14, \"4\": 16, \"3\": 15, \"15\": 10, \"10\": 13, \"13\": 4, \"2\": 10, \"1\": 5, \"6\": 9, \"9\": 7, \"14\": 1}, \"6\": {\"15\": 11, \"2\": 8, \"12\": 8, \"3\": 12, \"4\": 13, \"9\": 7, \"7\": 8, \"10\": 15, \"6\": 15, \"13\": 12, \"5\": 6, \"1\": 5}, \"10\": {\"10\": 25, \"12\": 18, \"13\": 37, \"9\": 5, \"6\": 9, \"3\": 4, \"7\": 5, \"15\": 6, \"4\": 6, \"1\": 1, \"5\": 3, \"2\": 1}, \"5\": {\"5\": 20, \"15\": 8, \"3\": 8, \"7\": 10, \"9\": 11, \"14\": 6, \"1\": 25, \"4\": 10, \"2\": 15, \"8\": 4, \"6\": 3}, \"2\": {\"1\": 16, \"5\": 15, \"2\": 15, \"3\": 15, \"9\": 18, \"6\": 12, \"7\": 15, \"4\": 5, \"15\": 5, \"14\": 3, \"10\": 1}, \"12\": {\"12\": 29, \"10\": 30, \"13\": 42, \"7\": 3, \"9\": 2, \"15\": 4, \"4\": 4, \"6\": 4, \"3\": 1, \"2\": 1}, \"9\": {\"10\": 2, \"1\": 10, \"3\": 14, \"4\": 12, \"6\": 20, \"5\": 10, \"13\": 8, \"7\": 12, \"15\": 5, \"9\": 10, \"2\": 13, \"14\": 2, \"12\": 2}, \"1\": {\"5\": 31, \"14\": 15, \"0\": 6, \"3\": 7, \"1\": 19, \"9\": 6, \"4\": 2, \"2\": 11, \"8\": 9, \"7\": 7, \"6\": 2, \"15\": 5}, \"11\": {\"11\": 37, \"8\": 32, \"14\": 21, \"0\": 29, \"1\": 1}, \"13\": {\"10\": 29, \"13\": 38, \"12\": 34, \"6\": 3, \"4\": 5, \"15\": 3, \"7\": 6, \"9\": 1, \"2\": 1}}, \"44\": {\"5\": {\"5\": 65, \"8\": 26, \"14\": 15, \"2\": 1, \"15\": 10, \"0\": 2, \"9\": 1}, \"8\": {\"0\": 13, \"8\": 29, \"5\": 42, \"15\": 26, \"2\": 9, \"14\": 1}, \"11\": {\"11\": 120}, \"1\": {\"1\": 51, \"15\": 8, \"2\": 38, \"0\": 20, \"8\": 3}, \"10\": {\"6\": 52, \"9\": 6, \"4\": 3, \"7\": 12, \"13\": 17, \"10\": 28, \"14\": 2}, \"15\": {\"15\": 37, \"8\": 23, \"2\": 17, \"5\": 14, \"0\": 24, \"1\": 4, \"14\": 1}, \"3\": {\"12\": 62, \"3\": 58}, \"7\": {\"7\": 57, \"14\": 11, \"9\": 28, \"10\": 13, \"4\": 10, \"6\": 1}, \"4\": {\"7\": 19, \"4\": 33, \"14\": 34, \"9\": 33, \"10\": 1}, \"14\": {\"9\": 17, \"4\": 44, \"14\": 49, \"5\": 6, \"7\": 4}, \"9\": {\"4\": 30, \"7\": 28, \"14\": 28, \"9\": 26, \"6\": 1, \"10\": 6, \"5\": 1}, \"12\": {\"12\": 61, \"3\": 59}, \"6\": {\"6\": 64, \"10\": 32, \"13\": 23, \"9\": 1}, \"2\": {\"0\": 22, \"2\": 40, \"1\": 33, \"15\": 19, \"3\": 1, \"8\": 4, \"5\": 1}, \"0\": {\"0\": 25, \"15\": 17, \"2\": 25, \"1\": 34, \"8\": 16, \"5\": 2, \"14\": 1}, \"13\": {\"6\": 28, \"10\": 12, \"13\": 77, \"9\": 1, \"7\": 2}}, \"38\": {\"14\": {\"2\": 18, \"4\": 10, \"0\": 17, \"9\": 3, \"12\": 5, \"14\": 25, \"7\": 19, \"8\": 18, \"5\": 4, \"10\": 1}, \"0\": {\"14\": 29, \"7\": 43, \"0\": 43, \"8\": 3, \"2\": 2}, \"13\": {\"13\": 41, \"10\": 24, \"3\": 44, \"4\": 10, \"11\": 1}, \"7\": {\"0\": 43, \"14\": 16, \"7\": 59, \"4\": 1, \"2\": 1}, \"9\": {\"9\": 57, \"2\": 14, \"5\": 24, \"12\": 22, \"8\": 2, \"14\": 1}, \"3\": {\"11\": 8, \"13\": 42, \"4\": 15, \"10\": 23, \"3\": 32}, \"11\": {\"11\": 120}, \"6\": {\"6\": 84, \"15\": 27, \"1\": 9}, \"8\": {\"9\": 11, \"8\": 49, \"2\": 35, \"14\": 14, \"5\": 5, \"0\": 5, \"12\": 1}, \"4\": {\"10\": 21, \"4\": 81, \"13\": 10, \"3\": 7, \"0\": 1}, \"5\": {\"5\": 27, \"8\": 16, \"12\": 29, \"2\": 26, \"9\": 21, \"14\": 1}, \"10\": {\"4\": 21, \"3\": 27, \"13\": 23, \"10\": 49}, \"1\": {\"1\": 69, \"15\": 37, \"6\": 14}, \"2\": {\"9\": 12, \"8\": 33, \"2\": 47, \"12\": 6, \"5\": 9, \"14\": 12, \"0\": 1}, \"15\": {\"15\": 27, \"1\": 50, \"6\": 38, \"5\": 2, \"12\": 3}, \"12\": {\"9\": 34, \"12\": 47, \"5\": 31, \"8\": 3, \"2\": 5}}, \"26\": {\"13\": {\"7\": 21, \"13\": 27, \"3\": 47, \"9\": 5, \"12\": 10, \"2\": 6, \"8\": 3, \"4\": 1}, \"2\": {\"8\": 23, \"13\": 14, \"0\": 5, \"9\": 28, \"2\": 16, \"15\": 8, \"12\": 13, \"7\": 9, \"10\": 1, \"3\": 3}, \"8\": {\"12\": 17, \"8\": 24, \"10\": 4, \"15\": 14, \"9\": 26, \"13\": 1, \"3\": 1, \"2\": 23, \"0\": 8, \"7\": 2}, \"9\": {\"8\": 26, \"2\": 18, \"10\": 2, \"9\": 25, \"3\": 7, \"12\": 16, \"13\": 8, \"15\": 5, \"7\": 9, \"0\": 4}, \"12\": {\"8\": 16, \"13\": 10, \"9\": 21, \"2\": 24, \"3\": 2, \"12\": 26, \"15\": 7, \"7\": 11, \"10\": 1, \"0\": 2}, \"4\": {\"4\": 115, \"3\": 4, \"13\": 1}, \"3\": {\"3\": 47, \"13\": 33, \"7\": 27, \"2\": 4, \"12\": 5, \"4\": 1, \"9\": 2, \"8\": 1}, \"15\": {\"10\": 27, \"8\": 5, \"14\": 7, \"15\": 41, \"9\": 5, \"0\": 27, \"12\": 2, \"2\": 6}, \"14\": {\"15\": 8, \"5\": 14, \"14\": 26, \"10\": 17, \"6\": 18, \"11\": 23, \"0\": 10, \"1\": 4}, \"10\": {\"8\": 9, \"15\": 23, \"14\": 11, \"0\": 33, \"11\": 3, \"10\": 18, \"9\": 3, \"6\": 7, \"2\": 2, \"1\": 4, \"5\": 5, \"12\": 2}, \"7\": {\"12\": 11, \"13\": 34, \"9\": 6, \"7\": 24, \"3\": 31, \"8\": 8, \"2\": 5, \"4\": 1}, \"11\": {\"14\": 25, \"1\": 8, \"6\": 31, \"11\": 23, \"5\": 17, \"15\": 1, \"10\": 9, \"0\": 6}, \"6\": {\"5\": 33, \"6\": 29, \"1\": 24, \"11\": 13, \"10\": 10, \"14\": 11}, \"1\": {\"1\": 85, \"6\": 14, \"5\": 15, \"10\": 1, \"14\": 2, \"11\": 3}, \"5\": {\"10\": 7, \"1\": 33, \"5\": 23, \"14\": 18, \"6\": 24, \"0\": 4, \"11\": 9, \"15\": 2}, \"0\": {\"0\": 29, \"15\": 31, \"10\": 26, \"14\": 16, \"11\": 7, \"8\": 8, \"2\": 1, \"9\": 1, \"5\": 1}}}, \"per_domain_accuracy\": {\"8\": {\"accuracy\": 0.4322916666666667, \"source?\": true}, \"50\": {\"accuracy\": 0.453125, \"source?\": true}, \"32\": {\"accuracy\": 0.4947916666666667, \"source?\": true}, \"14\": {\"accuracy\": 0.4578125, \"source?\": false}, \"20\": {\"accuracy\": 0.18802083333333333, \"source?\": false}, \"44\": {\"accuracy\": 0.4270833333333333, \"source?\": false}, \"38\": {\"accuracy\": 0.44635416666666666, \"source?\": false}, \"26\": {\"accuracy\": 0.30104166666666665, \"source?\": false}}}, \"history\": {\"epoch_indices\": [1, 2, 3, 4, 5, 6, 7], \"train_label_loss\": [1.4690557349295843, 1.5142505026998974, 1.3169351134981429, 1.254334813072568, 1.2231424890813374, 1.1906747477395194, 1.2588748052006675], \"source_val_label_loss\": [2.0537238121032715, 1.3664721250534058, 1.2791748046875, 1.3160686492919922, 1.3742656707763672, 1.3782316446304321, 1.3313453197479248], \"target_val_label_loss\": [2.2068278789520264, 1.8393970727920532, 1.784604549407959, 1.8038151264190674, 1.9115389585494995, 2.056159257888794, 1.8591759204864502], \"source_val_acc_label\": [0.3819444444444444, 0.4409722222222222, 0.4600694444444444, 0.453125, 0.4201388888888889, 0.4670138888888889, 0.4618055555555556], \"target_val_acc_label\": [0.313125, 0.35229166666666667, 0.3640625, 0.3678125, 0.346875, 0.3594791666666667, 0.3503125]}, \"dataset_metrics\": {\"source\": {\"train\": {\"n_unique_x\": 3360, \"n_unique_y\": 16, \"n_batch/episode\": 42}, \"val\": {\"n_unique_x\": 720, \"n_unique_y\": 16, \"n_batch/episode\": 18}, \"test\": {\"n_unique_x\": 720, \"n_unique_y\": 16, \"n_batch/episode\": 18}}, \"target\": {\"train\": {\"n_unique_x\": 56000, \"n_unique_y\": 16, \"n_batch/episode\": 700}, \"val\": {\"n_unique_x\": 12000, \"n_unique_y\": 16, \"n_batch/episode\": 300}, \"test\": {\"n_unique_x\": 12000, \"n_unique_y\": 16, \"n_batch/episode\": 300}}}}'"
      ]
     },
     "execution_count": 20,
     "metadata": {},
     "output_type": "execute_result"
    }
   ],
   "source": [
    "json.dumps(experiment)"
   ]
  }
 ],
 "metadata": {
  "celltoolbar": "Tags",
  "kernelspec": {
   "display_name": "Python 3 (ipykernel)",
   "language": "python",
   "name": "python3"
  },
  "language_info": {
   "codemirror_mode": {
    "name": "ipython",
    "version": 3
   },
   "file_extension": ".py",
   "mimetype": "text/x-python",
   "name": "python",
   "nbconvert_exporter": "python",
   "pygments_lexer": "ipython3",
   "version": "3.8.10"
  },
  "papermill": {
   "default_parameters": {},
   "duration": 44.771447,
   "end_time": "2022-03-04T22:30:18.461815",
   "environment_variables": {},
   "exception": null,
   "input_path": "/mnt/wd500GB/CSC500/csc500-main/csc500-notebooks/templates/ptn_template.ipynb",
   "output_path": "trial.ipynb",
   "parameters": {
    "parameters": {
     "BEST_MODEL_PATH": "./best_model.pth",
     "NUM_LOGS_PER_EPOCH": 10,
     "criteria_for_best": "target_loss",
     "dataset_seed": 1337,
     "device": "cuda",
     "domains_source": [
      8,
      32,
      50
     ],
     "domains_target": [
      14,
      20,
      26,
      38,
      44
     ],
     "episode_transforms_source": [],
     "episode_transforms_target": [],
     "experiment_name": "nQuery_oracle.run2",
     "labels_source": [
      "3123D52",
      "3123D65",
      "3123D79",
      "3123D80",
      "3123D54",
      "3123D70",
      "3123D7B",
      "3123D89",
      "3123D58",
      "3123D76",
      "3123D7D",
      "3123EFE",
      "3123D64",
      "3123D78",
      "3123D7E",
      "3124E4A"
     ],
     "labels_target": [
      "3123D52",
      "3123D65",
      "3123D79",
      "3123D80",
      "3123D54",
      "3123D70",
      "3123D7B",
      "3123D89",
      "3123D58",
      "3123D76",
      "3123D7D",
      "3123EFE",
      "3123D64",
      "3123D78",
      "3123D7E",
      "3124E4A"
     ],
     "lr": 0.001,
     "n_epoch": 50,
     "n_query": 2,
     "n_shot": 3,
     "n_way": 16,
     "num_examples_per_domain_per_label_source": 100,
     "num_examples_per_domain_per_label_target": 1000,
     "patience": 3,
     "pickle_name": "oracle.Run2_10kExamples_stratified_ds.2022A.pkl",
     "seed": 1337,
     "test_k_factor": 2,
     "torch_default_dtype": "torch.float32",
     "train_k_factor": 1,
     "val_k_factor": 2,
     "x_net": [
      {
       "class": "nnReshape",
       "kargs": {
        "shape": [
         -1,
         1,
         2,
         256
        ]
       }
      },
      {
       "class": "Conv2d",
       "kargs": {
        "bias": false,
        "in_channels": 1,
        "kernel_size": [
         1,
         7
        ],
        "out_channels": 256,
        "padding": [
         0,
         3
        ]
       }
      },
      {
       "class": "ReLU",
       "kargs": {
        "inplace": true
       }
      },
      {
       "class": "BatchNorm2d",
       "kargs": {
        "num_features": 256
       }
      },
      {
       "class": "Conv2d",
       "kargs": {
        "bias": true,
        "in_channels": 256,
        "kernel_size": [
         2,
         7
        ],
        "out_channels": 80,
        "padding": [
         0,
         3
        ]
       }
      },
      {
       "class": "ReLU",
       "kargs": {
        "inplace": true
       }
      },
      {
       "class": "BatchNorm2d",
       "kargs": {
        "num_features": 80
       }
      },
      {
       "class": "Flatten",
       "kargs": {}
      },
      {
       "class": "Linear",
       "kargs": {
        "in_features": 20480,
        "out_features": 256
       }
      },
      {
       "class": "ReLU",
       "kargs": {
        "inplace": true
       }
      },
      {
       "class": "BatchNorm1d",
       "kargs": {
        "num_features": 256
       }
      },
      {
       "class": "Linear",
       "kargs": {
        "in_features": 256,
        "out_features": 256
       }
      }
     ],
     "x_transforms_source": [],
     "x_transforms_target": []
    }
   },
   "start_time": "2022-03-04T22:29:33.690368",
   "version": "2.3.4"
  }
 },
 "nbformat": 4,
 "nbformat_minor": 5
}