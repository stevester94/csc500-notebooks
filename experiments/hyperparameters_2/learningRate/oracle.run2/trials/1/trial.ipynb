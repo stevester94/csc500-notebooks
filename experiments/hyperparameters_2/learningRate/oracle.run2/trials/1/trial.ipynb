{
 "cells": [
  {
   "cell_type": "markdown",
   "id": "9fea5f46",
   "metadata": {
    "papermill": {
     "duration": 0.013333,
     "end_time": "2022-03-04T04:58:02.808146",
     "exception": false,
     "start_time": "2022-03-04T04:58:02.794813",
     "status": "completed"
    },
    "tags": []
   },
   "source": [
    "# PTN Template\n",
    "This notebook serves as a template for single dataset PTN experiments  \n",
    "It can be run on its own by setting STANDALONE to True (do a find for \"STANDALONE\" to see where)  \n",
    "But it is intended to be executed as part of a *papermill.py script. See any of the   \n",
    "experimentes with a papermill script to get started with that workflow.  "
   ]
  },
  {
   "cell_type": "code",
   "execution_count": 1,
   "id": "0902182a",
   "metadata": {
    "execution": {
     "iopub.execute_input": "2022-03-04T04:58:02.839740Z",
     "iopub.status.busy": "2022-03-04T04:58:02.839049Z",
     "iopub.status.idle": "2022-03-04T04:58:03.595790Z",
     "shell.execute_reply": "2022-03-04T04:58:03.595192Z"
    },
    "papermill": {
     "duration": 0.778707,
     "end_time": "2022-03-04T04:58:03.595909",
     "exception": false,
     "start_time": "2022-03-04T04:58:02.817202",
     "status": "completed"
    },
    "tags": []
   },
   "outputs": [],
   "source": [
    "%load_ext autoreload\n",
    "%autoreload 2\n",
    "%matplotlib inline\n",
    "\n",
    "    \n",
    "import os, json, sys, time, random\n",
    "import numpy as np\n",
    "import torch\n",
    "from torch.optim import Adam\n",
    "from  easydict import EasyDict\n",
    "import matplotlib.pyplot as plt\n",
    "\n",
    "from steves_models.steves_ptn import Steves_Prototypical_Network\n",
    "\n",
    "from steves_utils.lazy_iterable_wrapper import Lazy_Iterable_Wrapper\n",
    "from steves_utils.iterable_aggregator import Iterable_Aggregator\n",
    "from steves_utils.ptn_train_eval_test_jig import  PTN_Train_Eval_Test_Jig\n",
    "from steves_utils.torch_sequential_builder import build_sequential\n",
    "from steves_utils.torch_utils import get_dataset_metrics, ptn_confusion_by_domain_over_dataloader\n",
    "from steves_utils.utils_v2 import (per_domain_accuracy_from_confusion, get_datasets_base_path)\n",
    "from steves_utils.PTN.utils import independent_accuracy_assesment\n",
    "\n",
    "from steves_utils.stratified_dataset.episodic_accessor import Episodic_Accessor_Factory\n",
    "\n",
    "from steves_utils.ptn_do_report import (\n",
    "    get_loss_curve,\n",
    "    get_results_table,\n",
    "    get_parameters_table,\n",
    "    get_domain_accuracies,\n",
    ")\n",
    "\n",
    "from steves_utils.transforms import get_chained_transform"
   ]
  },
  {
   "cell_type": "markdown",
   "id": "41c840b4",
   "metadata": {
    "papermill": {
     "duration": 0.009237,
     "end_time": "2022-03-04T04:58:03.618782",
     "exception": false,
     "start_time": "2022-03-04T04:58:03.609545",
     "status": "completed"
    },
    "tags": []
   },
   "source": [
    "# Required Parameters\n",
    "These are allowed parameters, not defaults\n",
    "Each of these values need to be present in the injected parameters (the notebook will raise an exception if they are not present)\n",
    "\n",
    "Papermill uses the cell tag \"parameters\" to inject the real parameters below this cell.\n",
    "Enable tags to see what I mean"
   ]
  },
  {
   "cell_type": "code",
   "execution_count": 2,
   "id": "fd44eb83",
   "metadata": {
    "execution": {
     "iopub.execute_input": "2022-03-04T04:58:03.642111Z",
     "iopub.status.busy": "2022-03-04T04:58:03.640008Z",
     "iopub.status.idle": "2022-03-04T04:58:03.654986Z",
     "shell.execute_reply": "2022-03-04T04:58:03.654486Z"
    },
    "papermill": {
     "duration": 0.027408,
     "end_time": "2022-03-04T04:58:03.655086",
     "exception": false,
     "start_time": "2022-03-04T04:58:03.627678",
     "status": "completed"
    },
    "tags": []
   },
   "outputs": [],
   "source": [
    "required_parameters = {\n",
    "    \"experiment_name\",\n",
    "    \"lr\",\n",
    "    \"device\",\n",
    "    \"seed\",\n",
    "    \"dataset_seed\",\n",
    "    \"labels_source\",\n",
    "    \"labels_target\",\n",
    "    \"domains_source\",\n",
    "    \"domains_target\",\n",
    "    \"num_examples_per_domain_per_label_source\",\n",
    "    \"num_examples_per_domain_per_label_target\",\n",
    "    \"n_shot\",\n",
    "    \"n_way\",\n",
    "    \"n_query\",\n",
    "    \"train_k_factor\",\n",
    "    \"val_k_factor\",\n",
    "    \"test_k_factor\",\n",
    "    \"n_epoch\",\n",
    "    \"patience\",\n",
    "    \"criteria_for_best\",\n",
    "    \"x_transforms_source\",\n",
    "    \"x_transforms_target\",\n",
    "    \"episode_transforms_source\",\n",
    "    \"episode_transforms_target\",\n",
    "    \"pickle_name\",\n",
    "    \"x_net\",\n",
    "    \"NUM_LOGS_PER_EPOCH\",\n",
    "    \"BEST_MODEL_PATH\",\n",
    "    \"torch_default_dtype\"\n",
    "}"
   ]
  },
  {
   "cell_type": "code",
   "execution_count": 3,
   "id": "fa3f0049",
   "metadata": {
    "execution": {
     "iopub.execute_input": "2022-03-04T04:58:03.685616Z",
     "iopub.status.busy": "2022-03-04T04:58:03.685332Z",
     "iopub.status.idle": "2022-03-04T04:58:03.696211Z",
     "shell.execute_reply": "2022-03-04T04:58:03.695717Z"
    },
    "papermill": {
     "duration": 0.026272,
     "end_time": "2022-03-04T04:58:03.696312",
     "exception": false,
     "start_time": "2022-03-04T04:58:03.670040",
     "status": "completed"
    },
    "tags": [
     "parameters"
    ]
   },
   "outputs": [],
   "source": [
    "\n",
    "\n",
    "standalone_parameters = {}\n",
    "standalone_parameters[\"experiment_name\"] = \"STANDALONE PTN\"\n",
    "standalone_parameters[\"lr\"] = 0.0001\n",
    "standalone_parameters[\"device\"] = \"cuda\"\n",
    "\n",
    "standalone_parameters[\"seed\"] = 1337\n",
    "standalone_parameters[\"dataset_seed\"] = 1337\n",
    "\n",
    "\n",
    "standalone_parameters[\"num_examples_per_domain_per_label_source\"]=100\n",
    "standalone_parameters[\"num_examples_per_domain_per_label_target\"]=100\n",
    "\n",
    "standalone_parameters[\"n_shot\"] = 3\n",
    "standalone_parameters[\"n_query\"]  = 2\n",
    "standalone_parameters[\"train_k_factor\"] = 1\n",
    "standalone_parameters[\"val_k_factor\"] = 2\n",
    "standalone_parameters[\"test_k_factor\"] = 2\n",
    "\n",
    "\n",
    "standalone_parameters[\"n_epoch\"] = 100\n",
    "\n",
    "standalone_parameters[\"patience\"] = 10\n",
    "standalone_parameters[\"criteria_for_best\"] = \"target_accuracy\"\n",
    "\n",
    "standalone_parameters[\"x_transforms_source\"] = [\"unit_power\"]\n",
    "standalone_parameters[\"x_transforms_target\"] = [\"unit_power\"]\n",
    "standalone_parameters[\"episode_transforms_source\"] = []\n",
    "standalone_parameters[\"episode_transforms_target\"] = []\n",
    "\n",
    "standalone_parameters[\"torch_default_dtype\"] = \"torch.float32\" \n",
    "\n",
    "\n",
    "\n",
    "standalone_parameters[\"x_net\"] =     [\n",
    "    {\"class\": \"nnReshape\", \"kargs\": {\"shape\":[-1, 1, 2, 256]}},\n",
    "    {\"class\": \"Conv2d\", \"kargs\": { \"in_channels\":1, \"out_channels\":256, \"kernel_size\":(1,7), \"bias\":False, \"padding\":(0,3), },},\n",
    "    {\"class\": \"ReLU\", \"kargs\": {\"inplace\": True}},\n",
    "    {\"class\": \"BatchNorm2d\", \"kargs\": {\"num_features\":256}},\n",
    "\n",
    "    {\"class\": \"Conv2d\", \"kargs\": { \"in_channels\":256, \"out_channels\":80, \"kernel_size\":(2,7), \"bias\":True, \"padding\":(0,3), },},\n",
    "    {\"class\": \"ReLU\", \"kargs\": {\"inplace\": True}},\n",
    "    {\"class\": \"BatchNorm2d\", \"kargs\": {\"num_features\":80}},\n",
    "    {\"class\": \"Flatten\", \"kargs\": {}},\n",
    "\n",
    "    {\"class\": \"Linear\", \"kargs\": {\"in_features\": 80*256, \"out_features\": 256}}, # 80 units per IQ pair\n",
    "    {\"class\": \"ReLU\", \"kargs\": {\"inplace\": True}},\n",
    "    {\"class\": \"BatchNorm1d\", \"kargs\": {\"num_features\":256}},\n",
    "\n",
    "    {\"class\": \"Linear\", \"kargs\": {\"in_features\": 256, \"out_features\": 256}},\n",
    "]\n",
    "\n",
    "# Parameters relevant to results\n",
    "# These parameters will basically never need to change\n",
    "standalone_parameters[\"NUM_LOGS_PER_EPOCH\"] = 10\n",
    "standalone_parameters[\"BEST_MODEL_PATH\"] = \"./best_model.pth\"\n",
    "\n",
    "# uncomment for CORES dataset\n",
    "from steves_utils.CORES.utils import (\n",
    "    ALL_NODES,\n",
    "    ALL_NODES_MINIMUM_1000_EXAMPLES,\n",
    "    ALL_DAYS\n",
    ")\n",
    "\n",
    "\n",
    "standalone_parameters[\"labels_source\"] = ALL_NODES\n",
    "standalone_parameters[\"labels_target\"] = ALL_NODES\n",
    "\n",
    "standalone_parameters[\"domains_source\"] = [1]\n",
    "standalone_parameters[\"domains_target\"] = [2,3,4,5]\n",
    "\n",
    "standalone_parameters[\"pickle_name\"] = \"cores.stratified_ds.2022A.pkl\"\n",
    "\n",
    "\n",
    "# Uncomment these for ORACLE dataset\n",
    "# from steves_utils.ORACLE.utils_v2 import (\n",
    "#     ALL_DISTANCES_FEET,\n",
    "#     ALL_RUNS,\n",
    "#     ALL_SERIAL_NUMBERS,\n",
    "# )\n",
    "# standalone_parameters[\"labels_source\"] = ALL_SERIAL_NUMBERS\n",
    "# standalone_parameters[\"labels_target\"] = ALL_SERIAL_NUMBERS\n",
    "# standalone_parameters[\"domains_source\"] = [8,20, 38,50]\n",
    "# standalone_parameters[\"domains_target\"] = [14, 26, 32, 44, 56]\n",
    "# standalone_parameters[\"pickle_name\"] = \"oracle.frame_indexed.stratified_ds.2022A.pkl\"\n",
    "# standalone_parameters[\"num_examples_per_domain_per_label_source\"]=1000\n",
    "# standalone_parameters[\"num_examples_per_domain_per_label_target\"]=1000\n",
    "\n",
    "# Uncomment these for Metahan dataset\n",
    "# standalone_parameters[\"labels_source\"] = list(range(19))\n",
    "# standalone_parameters[\"labels_target\"] = list(range(19))\n",
    "# standalone_parameters[\"domains_source\"] = [0]\n",
    "# standalone_parameters[\"domains_target\"] = [1]\n",
    "# standalone_parameters[\"pickle_name\"] = \"metehan.stratified_ds.2022A.pkl\"\n",
    "# standalone_parameters[\"n_way\"]  = len(standalone_parameters[\"labels_source\"])\n",
    "# standalone_parameters[\"num_examples_per_domain_per_label_source\"]=200\n",
    "# standalone_parameters[\"num_examples_per_domain_per_label_target\"]=100\n",
    "\n",
    "\n",
    "standalone_parameters[\"n_way\"]  = len(standalone_parameters[\"labels_source\"])"
   ]
  },
  {
   "cell_type": "code",
   "execution_count": 4,
   "id": "624d12c1",
   "metadata": {
    "execution": {
     "iopub.execute_input": "2022-03-04T04:58:03.731109Z",
     "iopub.status.busy": "2022-03-04T04:58:03.730290Z",
     "iopub.status.idle": "2022-03-04T04:58:03.741044Z",
     "shell.execute_reply": "2022-03-04T04:58:03.741440Z"
    },
    "papermill": {
     "duration": 0.030337,
     "end_time": "2022-03-04T04:58:03.741570",
     "exception": false,
     "start_time": "2022-03-04T04:58:03.711233",
     "status": "completed"
    },
    "tags": [
     "injected-parameters"
    ]
   },
   "outputs": [],
   "source": [
    "# Parameters\n",
    "parameters = {\n",
    "    \"experiment_name\": \"learningRate_oracle.run2\",\n",
    "    \"device\": \"cuda\",\n",
    "    \"seed\": 1337,\n",
    "    \"dataset_seed\": 1337,\n",
    "    \"labels_source\": [\n",
    "        \"3123D52\",\n",
    "        \"3123D65\",\n",
    "        \"3123D79\",\n",
    "        \"3123D80\",\n",
    "        \"3123D54\",\n",
    "        \"3123D70\",\n",
    "        \"3123D7B\",\n",
    "        \"3123D89\",\n",
    "        \"3123D58\",\n",
    "        \"3123D76\",\n",
    "        \"3123D7D\",\n",
    "        \"3123EFE\",\n",
    "        \"3123D64\",\n",
    "        \"3123D78\",\n",
    "        \"3123D7E\",\n",
    "        \"3124E4A\",\n",
    "    ],\n",
    "    \"labels_target\": [\n",
    "        \"3123D52\",\n",
    "        \"3123D65\",\n",
    "        \"3123D79\",\n",
    "        \"3123D80\",\n",
    "        \"3123D54\",\n",
    "        \"3123D70\",\n",
    "        \"3123D7B\",\n",
    "        \"3123D89\",\n",
    "        \"3123D58\",\n",
    "        \"3123D76\",\n",
    "        \"3123D7D\",\n",
    "        \"3123EFE\",\n",
    "        \"3123D64\",\n",
    "        \"3123D78\",\n",
    "        \"3123D7E\",\n",
    "        \"3124E4A\",\n",
    "    ],\n",
    "    \"x_transforms_source\": [],\n",
    "    \"x_transforms_target\": [],\n",
    "    \"episode_transforms_source\": [],\n",
    "    \"episode_transforms_target\": [],\n",
    "    \"num_examples_per_domain_per_label_source\": 1000,\n",
    "    \"num_examples_per_domain_per_label_target\": 1000,\n",
    "    \"n_shot\": 3,\n",
    "    \"n_way\": 16,\n",
    "    \"n_query\": 2,\n",
    "    \"train_k_factor\": 1,\n",
    "    \"val_k_factor\": 2,\n",
    "    \"test_k_factor\": 2,\n",
    "    \"torch_default_dtype\": \"torch.float32\",\n",
    "    \"n_epoch\": 50,\n",
    "    \"patience\": 3,\n",
    "    \"criteria_for_best\": \"target_loss\",\n",
    "    \"x_net\": [\n",
    "        {\"class\": \"nnReshape\", \"kargs\": {\"shape\": [-1, 1, 2, 256]}},\n",
    "        {\n",
    "            \"class\": \"Conv2d\",\n",
    "            \"kargs\": {\n",
    "                \"in_channels\": 1,\n",
    "                \"out_channels\": 256,\n",
    "                \"kernel_size\": [1, 7],\n",
    "                \"bias\": False,\n",
    "                \"padding\": [0, 3],\n",
    "            },\n",
    "        },\n",
    "        {\"class\": \"ReLU\", \"kargs\": {\"inplace\": True}},\n",
    "        {\"class\": \"BatchNorm2d\", \"kargs\": {\"num_features\": 256}},\n",
    "        {\n",
    "            \"class\": \"Conv2d\",\n",
    "            \"kargs\": {\n",
    "                \"in_channels\": 256,\n",
    "                \"out_channels\": 80,\n",
    "                \"kernel_size\": [2, 7],\n",
    "                \"bias\": True,\n",
    "                \"padding\": [0, 3],\n",
    "            },\n",
    "        },\n",
    "        {\"class\": \"ReLU\", \"kargs\": {\"inplace\": True}},\n",
    "        {\"class\": \"BatchNorm2d\", \"kargs\": {\"num_features\": 80}},\n",
    "        {\"class\": \"Flatten\", \"kargs\": {}},\n",
    "        {\"class\": \"Linear\", \"kargs\": {\"in_features\": 20480, \"out_features\": 256}},\n",
    "        {\"class\": \"ReLU\", \"kargs\": {\"inplace\": True}},\n",
    "        {\"class\": \"BatchNorm1d\", \"kargs\": {\"num_features\": 256}},\n",
    "        {\"class\": \"Linear\", \"kargs\": {\"in_features\": 256, \"out_features\": 256}},\n",
    "    ],\n",
    "    \"NUM_LOGS_PER_EPOCH\": 10,\n",
    "    \"BEST_MODEL_PATH\": \"./best_model.pth\",\n",
    "    \"pickle_name\": \"oracle.Run2_10kExamples_stratified_ds.2022A.pkl\",\n",
    "    \"lr\": 0.1,\n",
    "    \"domains_source\": [8, 32, 50],\n",
    "    \"domains_target\": [14, 20, 26, 38, 44],\n",
    "}\n"
   ]
  },
  {
   "cell_type": "code",
   "execution_count": 5,
   "id": "8fa1cc33",
   "metadata": {
    "execution": {
     "iopub.execute_input": "2022-03-04T04:58:03.771314Z",
     "iopub.status.busy": "2022-03-04T04:58:03.769780Z",
     "iopub.status.idle": "2022-03-04T04:58:03.779897Z",
     "shell.execute_reply": "2022-03-04T04:58:03.779628Z"
    },
    "papermill": {
     "duration": 0.021977,
     "end_time": "2022-03-04T04:58:03.779954",
     "exception": false,
     "start_time": "2022-03-04T04:58:03.757977",
     "status": "completed"
    },
    "tags": []
   },
   "outputs": [],
   "source": [
    "# Set this to True if you want to run this template directly\n",
    "STANDALONE = False\n",
    "if STANDALONE:\n",
    "    print(\"parameters not injected, running with standalone_parameters\")\n",
    "    parameters = standalone_parameters\n",
    "\n",
    "if not 'parameters' in locals() and not 'parameters' in globals():\n",
    "    raise Exception(\"Parameter injection failed\")\n",
    "\n",
    "#Use an easy dict for all the parameters\n",
    "p = EasyDict(parameters)\n",
    "\n",
    "supplied_keys = set(p.keys())\n",
    "\n",
    "if  supplied_keys != required_parameters:\n",
    "    print(\"Parameters are incorrect\")\n",
    "    if len(supplied_keys - required_parameters)>0: print(\"Shouldn't have:\", str(supplied_keys - required_parameters))\n",
    "    if len(required_parameters - supplied_keys)>0: print(\"Need to have:\", str(required_parameters - supplied_keys))\n",
    "    raise RuntimeError(\"Parameters are incorrect\")\n",
    "\n"
   ]
  },
  {
   "cell_type": "code",
   "execution_count": 6,
   "id": "3a028d58",
   "metadata": {
    "execution": {
     "iopub.execute_input": "2022-03-04T04:58:03.801723Z",
     "iopub.status.busy": "2022-03-04T04:58:03.801324Z",
     "iopub.status.idle": "2022-03-04T04:58:03.811228Z",
     "shell.execute_reply": "2022-03-04T04:58:03.810962Z"
    },
    "papermill": {
     "duration": 0.021524,
     "end_time": "2022-03-04T04:58:03.811288",
     "exception": false,
     "start_time": "2022-03-04T04:58:03.789764",
     "status": "completed"
    },
    "tags": []
   },
   "outputs": [],
   "source": [
    "###################################\n",
    "# Set the RNGs and make it all deterministic\n",
    "###################################\n",
    "np.random.seed(p.seed)\n",
    "random.seed(p.seed)\n",
    "torch.manual_seed(p.seed)\n",
    "\n",
    "torch.use_deterministic_algorithms(True) "
   ]
  },
  {
   "cell_type": "code",
   "execution_count": 7,
   "id": "b691acf6",
   "metadata": {
    "execution": {
     "iopub.execute_input": "2022-03-04T04:58:03.834287Z",
     "iopub.status.busy": "2022-03-04T04:58:03.833923Z",
     "iopub.status.idle": "2022-03-04T04:58:03.842975Z",
     "shell.execute_reply": "2022-03-04T04:58:03.842709Z"
    },
    "papermill": {
     "duration": 0.021222,
     "end_time": "2022-03-04T04:58:03.843030",
     "exception": false,
     "start_time": "2022-03-04T04:58:03.821808",
     "status": "completed"
    },
    "tags": []
   },
   "outputs": [],
   "source": [
    "###########################################\n",
    "# The stratified datasets honor this\n",
    "###########################################\n",
    "torch.set_default_dtype(eval(p.torch_default_dtype))"
   ]
  },
  {
   "cell_type": "code",
   "execution_count": 8,
   "id": "b5fba671",
   "metadata": {
    "execution": {
     "iopub.execute_input": "2022-03-04T04:58:03.865822Z",
     "iopub.status.busy": "2022-03-04T04:58:03.865430Z",
     "iopub.status.idle": "2022-03-04T04:58:03.900123Z",
     "shell.execute_reply": "2022-03-04T04:58:03.899872Z"
    },
    "papermill": {
     "duration": 0.046846,
     "end_time": "2022-03-04T04:58:03.900186",
     "exception": false,
     "start_time": "2022-03-04T04:58:03.853340",
     "status": "completed"
    },
    "tags": []
   },
   "outputs": [],
   "source": [
    "###################################\n",
    "# Build the network(s)\n",
    "# Note: It's critical to do this AFTER setting the RNG\n",
    "# (This is due to the randomized initial weights)\n",
    "###################################\n",
    "x_net = build_sequential(p.x_net)"
   ]
  },
  {
   "cell_type": "code",
   "execution_count": 9,
   "id": "5d7e61cc",
   "metadata": {
    "execution": {
     "iopub.execute_input": "2022-03-04T04:58:03.926569Z",
     "iopub.status.busy": "2022-03-04T04:58:03.925478Z",
     "iopub.status.idle": "2022-03-04T04:58:03.939227Z",
     "shell.execute_reply": "2022-03-04T04:58:03.938760Z"
    },
    "papermill": {
     "duration": 0.026595,
     "end_time": "2022-03-04T04:58:03.939327",
     "exception": false,
     "start_time": "2022-03-04T04:58:03.912732",
     "status": "completed"
    },
    "tags": []
   },
   "outputs": [],
   "source": [
    "start_time_secs = time.time()"
   ]
  },
  {
   "cell_type": "code",
   "execution_count": 10,
   "id": "fd5442bc",
   "metadata": {
    "execution": {
     "iopub.execute_input": "2022-03-04T04:58:03.970823Z",
     "iopub.status.busy": "2022-03-04T04:58:03.970477Z",
     "iopub.status.idle": "2022-03-04T04:58:07.094803Z",
     "shell.execute_reply": "2022-03-04T04:58:07.094347Z"
    },
    "papermill": {
     "duration": 3.139364,
     "end_time": "2022-03-04T04:58:07.094916",
     "exception": false,
     "start_time": "2022-03-04T04:58:03.955552",
     "status": "completed"
    },
    "tags": []
   },
   "outputs": [],
   "source": [
    "###################################\n",
    "# Build the dataset\n",
    "###################################\n",
    "\n",
    "if p.x_transforms_source == []: x_transform_source = None\n",
    "else: x_transform_source = get_chained_transform(p.x_transforms_source) \n",
    "\n",
    "if p.x_transforms_target == []: x_transform_target = None\n",
    "else: x_transform_target = get_chained_transform(p.x_transforms_target)\n",
    "\n",
    "if p.episode_transforms_source == []: episode_transform_source = None\n",
    "else: raise Exception(\"episode_transform_source not implemented\")\n",
    "\n",
    "if p.episode_transforms_target == []: episode_transform_target = None\n",
    "else: raise Exception(\"episode_transform_target not implemented\")\n",
    "\n",
    "\n",
    "eaf_source = Episodic_Accessor_Factory(\n",
    "    labels=p.labels_source,\n",
    "    domains=p.domains_source,\n",
    "    num_examples_per_domain_per_label=p.num_examples_per_domain_per_label_source,\n",
    "    iterator_seed=p.seed,\n",
    "    dataset_seed=p.dataset_seed,\n",
    "    n_shot=p.n_shot,\n",
    "    n_way=p.n_way,\n",
    "    n_query=p.n_query,\n",
    "    train_val_test_k_factors=(p.train_k_factor,p.val_k_factor,p.test_k_factor),\n",
    "    pickle_path=os.path.join(get_datasets_base_path(), p.pickle_name),\n",
    "    x_transform_func=x_transform_source,\n",
    "    example_transform_func=episode_transform_source,\n",
    "    \n",
    ")\n",
    "train_original_source, val_original_source, test_original_source = eaf_source.get_train(), eaf_source.get_val(), eaf_source.get_test()\n",
    "\n",
    "\n",
    "eaf_target = Episodic_Accessor_Factory(\n",
    "    labels=p.labels_target,\n",
    "    domains=p.domains_target,\n",
    "    num_examples_per_domain_per_label=p.num_examples_per_domain_per_label_target,\n",
    "    iterator_seed=p.seed,\n",
    "    dataset_seed=p.dataset_seed,\n",
    "    n_shot=p.n_shot,\n",
    "    n_way=p.n_way,\n",
    "    n_query=p.n_query,\n",
    "    train_val_test_k_factors=(p.train_k_factor,p.val_k_factor,p.test_k_factor),\n",
    "    pickle_path=os.path.join(get_datasets_base_path(), p.pickle_name),\n",
    "    x_transform_func=x_transform_target,\n",
    "    example_transform_func=episode_transform_target,\n",
    ")\n",
    "train_original_target, val_original_target, test_original_target = eaf_target.get_train(), eaf_target.get_val(), eaf_target.get_test()\n",
    "\n",
    "\n",
    "transform_lambda = lambda ex: ex[1] # Original is (<domain>, <episode>) so we strip down to episode only\n",
    "\n",
    "train_processed_source = Lazy_Iterable_Wrapper(train_original_source, transform_lambda)\n",
    "val_processed_source   = Lazy_Iterable_Wrapper(val_original_source, transform_lambda)\n",
    "test_processed_source  = Lazy_Iterable_Wrapper(test_original_source, transform_lambda)\n",
    "\n",
    "train_processed_target = Lazy_Iterable_Wrapper(train_original_target, transform_lambda)\n",
    "val_processed_target   = Lazy_Iterable_Wrapper(val_original_target, transform_lambda)\n",
    "test_processed_target  = Lazy_Iterable_Wrapper(test_original_target, transform_lambda)\n",
    "\n",
    "datasets = EasyDict({\n",
    "    \"source\": {\n",
    "        \"original\": {\"train\":train_original_source, \"val\":val_original_source, \"test\":test_original_source},\n",
    "        \"processed\": {\"train\":train_processed_source, \"val\":val_processed_source, \"test\":test_processed_source}\n",
    "    },\n",
    "    \"target\": {\n",
    "        \"original\": {\"train\":train_original_target, \"val\":val_original_target, \"test\":test_original_target},\n",
    "        \"processed\": {\"train\":train_processed_target, \"val\":val_processed_target, \"test\":test_processed_target}\n",
    "    },\n",
    "})"
   ]
  },
  {
   "cell_type": "code",
   "execution_count": 11,
   "id": "296189d9",
   "metadata": {
    "execution": {
     "iopub.execute_input": "2022-03-04T04:58:07.124923Z",
     "iopub.status.busy": "2022-03-04T04:58:07.123406Z",
     "iopub.status.idle": "2022-03-04T04:58:09.620571Z",
     "shell.execute_reply": "2022-03-04T04:58:09.620070Z"
    },
    "papermill": {
     "duration": 2.511542,
     "end_time": "2022-03-04T04:58:09.620672",
     "exception": false,
     "start_time": "2022-03-04T04:58:07.109130",
     "status": "completed"
    },
    "tags": []
   },
   "outputs": [
    {
     "name": "stdout",
     "output_type": "stream",
     "text": [
      "Visually inspect these to see if they line up with expected values given the transforms\n",
      "x_transforms_source []\n",
      "x_transforms_target []\n",
      "Average magnitude, source: 0.004635015\n",
      "Average power, source: 2.8574976e-05\n"
     ]
    },
    {
     "name": "stdout",
     "output_type": "stream",
     "text": [
      "Average magnitude, target: 0.0029128897\n",
      "Average power, target: 1.0910343e-05\n"
     ]
    }
   ],
   "source": [
    "# Some quick unit tests on the data\n",
    "from steves_utils.transforms import get_average_power, get_average_magnitude\n",
    "\n",
    "q_x, q_y, s_x, s_y, truth = next(iter(train_processed_source))\n",
    "\n",
    "assert q_x.dtype == eval(p.torch_default_dtype)\n",
    "assert s_x.dtype == eval(p.torch_default_dtype)\n",
    "\n",
    "print(\"Visually inspect these to see if they line up with expected values given the transforms\")\n",
    "print('x_transforms_source', p.x_transforms_source)\n",
    "print('x_transforms_target', p.x_transforms_target)\n",
    "print(\"Average magnitude, source:\", get_average_magnitude(q_x[0].numpy()))\n",
    "print(\"Average power, source:\", get_average_power(q_x[0].numpy()))\n",
    "\n",
    "q_x, q_y, s_x, s_y, truth = next(iter(train_processed_target))\n",
    "print(\"Average magnitude, target:\", get_average_magnitude(q_x[0].numpy()))\n",
    "print(\"Average power, target:\", get_average_power(q_x[0].numpy()))\n"
   ]
  },
  {
   "cell_type": "code",
   "execution_count": 12,
   "id": "bbdacba1",
   "metadata": {
    "execution": {
     "iopub.execute_input": "2022-03-04T04:58:09.657629Z",
     "iopub.status.busy": "2022-03-04T04:58:09.649646Z",
     "iopub.status.idle": "2022-03-04T04:58:09.712803Z",
     "shell.execute_reply": "2022-03-04T04:58:09.713233Z"
    },
    "papermill": {
     "duration": 0.076833,
     "end_time": "2022-03-04T04:58:09.713360",
     "exception": false,
     "start_time": "2022-03-04T04:58:09.636527",
     "status": "completed"
    },
    "tags": []
   },
   "outputs": [
    {
     "name": "stdout",
     "output_type": "stream",
     "text": [
      "(2, 256)\n"
     ]
    }
   ],
   "source": [
    "###################################\n",
    "# Build the model\n",
    "###################################\n",
    "model = Steves_Prototypical_Network(x_net, device=p.device, x_shape=(2,256))\n",
    "optimizer = Adam(params=model.parameters(), lr=p.lr)"
   ]
  },
  {
   "cell_type": "code",
   "execution_count": 13,
   "id": "22b39ac5",
   "metadata": {
    "execution": {
     "iopub.execute_input": "2022-03-04T04:58:09.740074Z",
     "iopub.status.busy": "2022-03-04T04:58:09.739816Z",
     "iopub.status.idle": "2022-03-04T05:07:22.007929Z",
     "shell.execute_reply": "2022-03-04T05:07:22.007697Z"
    },
    "papermill": {
     "duration": 552.280922,
     "end_time": "2022-03-04T05:07:22.007988",
     "exception": false,
     "start_time": "2022-03-04T04:58:09.727066",
     "status": "completed"
    },
    "tags": []
   },
   "outputs": [
    {
     "name": "stdout",
     "output_type": "stream",
     "text": [
      "epoch: 1, [batch: 1 / 420], examples_per_second: 9.2025, train_label_loss: 2.9072, \n"
     ]
    },
    {
     "name": "stdout",
     "output_type": "stream",
     "text": [
      "epoch: 1, [batch: 42 / 420], examples_per_second: 828.8754, train_label_loss: 1.5776, \n"
     ]
    },
    {
     "name": "stdout",
     "output_type": "stream",
     "text": [
      "epoch: 1, [batch: 84 / 420], examples_per_second: 892.7292, train_label_loss: 1.7238, \n"
     ]
    },
    {
     "name": "stdout",
     "output_type": "stream",
     "text": [
      "epoch: 1, [batch: 126 / 420], examples_per_second: 978.0428, train_label_loss: 1.4587, \n"
     ]
    },
    {
     "name": "stdout",
     "output_type": "stream",
     "text": [
      "epoch: 1, [batch: 168 / 420], examples_per_second: 1096.7100, train_label_loss: 1.1865, \n"
     ]
    },
    {
     "name": "stdout",
     "output_type": "stream",
     "text": [
      "epoch: 1, [batch: 210 / 420], examples_per_second: 1205.9837, train_label_loss: 1.2098, \n"
     ]
    },
    {
     "name": "stdout",
     "output_type": "stream",
     "text": [
      "epoch: 1, [batch: 252 / 420], examples_per_second: 1417.9300, train_label_loss: 1.2018, \n"
     ]
    },
    {
     "name": "stdout",
     "output_type": "stream",
     "text": [
      "epoch: 1, [batch: 294 / 420], examples_per_second: 1585.7971, train_label_loss: 0.9858, \n"
     ]
    },
    {
     "name": "stdout",
     "output_type": "stream",
     "text": [
      "epoch: 1, [batch: 336 / 420], examples_per_second: 1869.7610, train_label_loss: 1.1789, \n"
     ]
    },
    {
     "name": "stdout",
     "output_type": "stream",
     "text": [
      "epoch: 1, [batch: 378 / 420], examples_per_second: 2305.5169, train_label_loss: 1.4494, \n"
     ]
    },
    {
     "name": "stdout",
     "output_type": "stream",
     "text": [
      "=============================================================\n",
      "epoch: 1, source_val_acc_label: 0.4292, target_val_acc_label: 0.3724, source_val_label_loss: 6441683.5000, target_val_label_loss: 1041228.6250, \n",
      "=============================================================\n"
     ]
    },
    {
     "name": "stdout",
     "output_type": "stream",
     "text": [
      "New best\n"
     ]
    },
    {
     "name": "stdout",
     "output_type": "stream",
     "text": [
      "epoch: 2, [batch: 1 / 420], examples_per_second: 5.2604, train_label_loss: 1.2952, \n"
     ]
    },
    {
     "name": "stdout",
     "output_type": "stream",
     "text": [
      "epoch: 2, [batch: 42 / 420], examples_per_second: 820.3504, train_label_loss: 538230.1250, \n"
     ]
    },
    {
     "name": "stdout",
     "output_type": "stream",
     "text": [
      "epoch: 2, [batch: 84 / 420], examples_per_second: 899.8253, train_label_loss: 81714.2109, \n"
     ]
    },
    {
     "name": "stdout",
     "output_type": "stream",
     "text": [
      "epoch: 2, [batch: 126 / 420], examples_per_second: 983.8611, train_label_loss: 9792.3271, \n"
     ]
    },
    {
     "name": "stdout",
     "output_type": "stream",
     "text": [
      "epoch: 2, [batch: 168 / 420], examples_per_second: 1083.1510, train_label_loss: 13986.8076, \n"
     ]
    },
    {
     "name": "stdout",
     "output_type": "stream",
     "text": [
      "epoch: 2, [batch: 210 / 420], examples_per_second: 1222.0448, train_label_loss: 3685.7935, \n"
     ]
    },
    {
     "name": "stdout",
     "output_type": "stream",
     "text": [
      "epoch: 2, [batch: 252 / 420], examples_per_second: 1383.9268, train_label_loss: 5370.9971, \n"
     ]
    },
    {
     "name": "stdout",
     "output_type": "stream",
     "text": [
      "epoch: 2, [batch: 294 / 420], examples_per_second: 1597.2750, train_label_loss: 7154.7915, \n"
     ]
    },
    {
     "name": "stdout",
     "output_type": "stream",
     "text": [
      "epoch: 2, [batch: 336 / 420], examples_per_second: 1936.3755, train_label_loss: 13314.3789, \n"
     ]
    },
    {
     "name": "stdout",
     "output_type": "stream",
     "text": [
      "epoch: 2, [batch: 378 / 420], examples_per_second: 2311.1368, train_label_loss: 8930.9385, \n"
     ]
    },
    {
     "name": "stdout",
     "output_type": "stream",
     "text": [
      "=============================================================\n",
      "epoch: 2, source_val_acc_label: 0.0686, target_val_acc_label: 0.0605, source_val_label_loss: 8526.8867, target_val_label_loss: 9657.8848, \n",
      "=============================================================\n"
     ]
    },
    {
     "name": "stdout",
     "output_type": "stream",
     "text": [
      "New best\n"
     ]
    },
    {
     "name": "stdout",
     "output_type": "stream",
     "text": [
      "epoch: 3, [batch: 1 / 420], examples_per_second: 5.2090, train_label_loss: 8106.3521, \n"
     ]
    },
    {
     "name": "stdout",
     "output_type": "stream",
     "text": [
      "epoch: 3, [batch: 42 / 420], examples_per_second: 815.0143, train_label_loss: 6994.8203, \n"
     ]
    },
    {
     "name": "stdout",
     "output_type": "stream",
     "text": [
      "epoch: 3, [batch: 84 / 420], examples_per_second: 896.0619, train_label_loss: 16411.5293, \n"
     ]
    },
    {
     "name": "stdout",
     "output_type": "stream",
     "text": [
      "epoch: 3, [batch: 126 / 420], examples_per_second: 931.3238, train_label_loss: 17482.7129, \n"
     ]
    },
    {
     "name": "stdout",
     "output_type": "stream",
     "text": [
      "epoch: 3, [batch: 168 / 420], examples_per_second: 1044.5848, train_label_loss: 1750.7097, \n"
     ]
    },
    {
     "name": "stdout",
     "output_type": "stream",
     "text": [
      "epoch: 3, [batch: 210 / 420], examples_per_second: 1202.9001, train_label_loss: 4522.6865, \n"
     ]
    },
    {
     "name": "stdout",
     "output_type": "stream",
     "text": [
      "epoch: 3, [batch: 252 / 420], examples_per_second: 1314.9920, train_label_loss: 10078.9941, \n"
     ]
    },
    {
     "name": "stdout",
     "output_type": "stream",
     "text": [
      "epoch: 3, [batch: 294 / 420], examples_per_second: 1579.2036, train_label_loss: 24526.4141, \n"
     ]
    },
    {
     "name": "stdout",
     "output_type": "stream",
     "text": [
      "epoch: 3, [batch: 336 / 420], examples_per_second: 1906.2187, train_label_loss: 3984.7944, \n"
     ]
    },
    {
     "name": "stdout",
     "output_type": "stream",
     "text": [
      "epoch: 3, [batch: 378 / 420], examples_per_second: 2327.8345, train_label_loss: 30241.1758, \n"
     ]
    },
    {
     "name": "stdout",
     "output_type": "stream",
     "text": [
      "=============================================================\n",
      "epoch: 3, source_val_acc_label: 0.0733, target_val_acc_label: 0.0695, source_val_label_loss: 11342.1348, target_val_label_loss: 11901.9727, \n",
      "=============================================================\n"
     ]
    },
    {
     "name": "stdout",
     "output_type": "stream",
     "text": [
      "epoch: 4, [batch: 1 / 420], examples_per_second: 5.3167, train_label_loss: 14235.0352, \n"
     ]
    },
    {
     "name": "stdout",
     "output_type": "stream",
     "text": [
      "epoch: 4, [batch: 42 / 420], examples_per_second: 823.7208, train_label_loss: 11028.0000, \n"
     ]
    },
    {
     "name": "stdout",
     "output_type": "stream",
     "text": [
      "epoch: 4, [batch: 84 / 420], examples_per_second: 883.8398, train_label_loss: 6857.3662, \n"
     ]
    },
    {
     "name": "stdout",
     "output_type": "stream",
     "text": [
      "epoch: 4, [batch: 126 / 420], examples_per_second: 975.0461, train_label_loss: 13339.3369, \n"
     ]
    },
    {
     "name": "stdout",
     "output_type": "stream",
     "text": [
      "epoch: 4, [batch: 168 / 420], examples_per_second: 1063.6272, train_label_loss: 7294.4766, \n"
     ]
    },
    {
     "name": "stdout",
     "output_type": "stream",
     "text": [
      "epoch: 4, [batch: 210 / 420], examples_per_second: 1208.4925, train_label_loss: 12187.5615, \n"
     ]
    },
    {
     "name": "stdout",
     "output_type": "stream",
     "text": [
      "epoch: 4, [batch: 252 / 420], examples_per_second: 1379.9670, train_label_loss: 9042.6055, \n"
     ]
    },
    {
     "name": "stdout",
     "output_type": "stream",
     "text": [
      "epoch: 4, [batch: 294 / 420], examples_per_second: 1608.8998, train_label_loss: 25923.3594, \n"
     ]
    },
    {
     "name": "stdout",
     "output_type": "stream",
     "text": [
      "epoch: 4, [batch: 336 / 420], examples_per_second: 1950.5399, train_label_loss: 14736.3633, \n"
     ]
    },
    {
     "name": "stdout",
     "output_type": "stream",
     "text": [
      "epoch: 4, [batch: 378 / 420], examples_per_second: 2383.4654, train_label_loss: 3498.7144, \n"
     ]
    },
    {
     "name": "stdout",
     "output_type": "stream",
     "text": [
      "=============================================================\n",
      "epoch: 4, source_val_acc_label: 0.0620, target_val_acc_label: 0.0608, source_val_label_loss: 39098.5664, target_val_label_loss: 31364.5879, \n",
      "=============================================================\n"
     ]
    },
    {
     "name": "stdout",
     "output_type": "stream",
     "text": [
      "epoch: 5, [batch: 1 / 420], examples_per_second: 5.2901, train_label_loss: 41055.8125, \n"
     ]
    },
    {
     "name": "stdout",
     "output_type": "stream",
     "text": [
      "epoch: 5, [batch: 42 / 420], examples_per_second: 807.7137, train_label_loss: 22179.1387, \n"
     ]
    },
    {
     "name": "stdout",
     "output_type": "stream",
     "text": [
      "epoch: 5, [batch: 84 / 420], examples_per_second: 876.7985, train_label_loss: 364.6581, \n"
     ]
    },
    {
     "name": "stdout",
     "output_type": "stream",
     "text": [
      "epoch: 5, [batch: 126 / 420], examples_per_second: 944.3335, train_label_loss: 6146.5640, \n"
     ]
    },
    {
     "name": "stdout",
     "output_type": "stream",
     "text": [
      "epoch: 5, [batch: 168 / 420], examples_per_second: 1056.1685, train_label_loss: 12962.8760, \n"
     ]
    },
    {
     "name": "stdout",
     "output_type": "stream",
     "text": [
      "epoch: 5, [batch: 210 / 420], examples_per_second: 1166.4719, train_label_loss: 14341.0674, \n"
     ]
    },
    {
     "name": "stdout",
     "output_type": "stream",
     "text": [
      "epoch: 5, [batch: 252 / 420], examples_per_second: 1379.8536, train_label_loss: 10215.7598, \n"
     ]
    },
    {
     "name": "stdout",
     "output_type": "stream",
     "text": [
      "epoch: 5, [batch: 294 / 420], examples_per_second: 1582.9678, train_label_loss: 5533.5303, \n"
     ]
    },
    {
     "name": "stdout",
     "output_type": "stream",
     "text": [
      "epoch: 5, [batch: 336 / 420], examples_per_second: 1891.9635, train_label_loss: 20430.5488, \n"
     ]
    },
    {
     "name": "stdout",
     "output_type": "stream",
     "text": [
      "epoch: 5, [batch: 378 / 420], examples_per_second: 2390.3733, train_label_loss: 32739.3320, \n"
     ]
    },
    {
     "name": "stdout",
     "output_type": "stream",
     "text": [
      "=============================================================\n",
      "epoch: 5, source_val_acc_label: 0.0646, target_val_acc_label: 0.0581, source_val_label_loss: 16090.9697, target_val_label_loss: 16952.2734, \n",
      "=============================================================\n"
     ]
    },
    {
     "name": "stdout",
     "output_type": "stream",
     "text": [
      "epoch: 6, [batch: 1 / 420], examples_per_second: 5.2283, train_label_loss: 8618.7227, \n"
     ]
    },
    {
     "name": "stdout",
     "output_type": "stream",
     "text": [
      "epoch: 6, [batch: 42 / 420], examples_per_second: 824.3933, train_label_loss: 4010.0320, \n"
     ]
    },
    {
     "name": "stdout",
     "output_type": "stream",
     "text": [
      "epoch: 6, [batch: 84 / 420], examples_per_second: 895.4623, train_label_loss: 22887.7402, \n"
     ]
    },
    {
     "name": "stdout",
     "output_type": "stream",
     "text": [
      "epoch: 6, [batch: 126 / 420], examples_per_second: 993.0613, train_label_loss: 65829.5312, \n"
     ]
    },
    {
     "name": "stdout",
     "output_type": "stream",
     "text": [
      "epoch: 6, [batch: 168 / 420], examples_per_second: 1082.5714, train_label_loss: 5071.0688, \n"
     ]
    },
    {
     "name": "stdout",
     "output_type": "stream",
     "text": [
      "epoch: 6, [batch: 210 / 420], examples_per_second: 1219.5056, train_label_loss: 5770.6265, \n"
     ]
    },
    {
     "name": "stdout",
     "output_type": "stream",
     "text": [
      "epoch: 6, [batch: 252 / 420], examples_per_second: 1373.9174, train_label_loss: 27443.8203, \n"
     ]
    },
    {
     "name": "stdout",
     "output_type": "stream",
     "text": [
      "epoch: 6, [batch: 294 / 420], examples_per_second: 1654.9091, train_label_loss: 20131.0117, \n"
     ]
    },
    {
     "name": "stdout",
     "output_type": "stream",
     "text": [
      "epoch: 6, [batch: 336 / 420], examples_per_second: 1917.1089, train_label_loss: 11103.0488, \n"
     ]
    },
    {
     "name": "stdout",
     "output_type": "stream",
     "text": [
      "epoch: 6, [batch: 378 / 420], examples_per_second: 2330.9497, train_label_loss: 7559.4409, \n"
     ]
    },
    {
     "name": "stdout",
     "output_type": "stream",
     "text": [
      "=============================================================\n",
      "epoch: 6, source_val_acc_label: 0.0658, target_val_acc_label: 0.0610, source_val_label_loss: 5941.1958, target_val_label_loss: 6274.0962, \n",
      "=============================================================\n"
     ]
    },
    {
     "name": "stdout",
     "output_type": "stream",
     "text": [
      "New best\n"
     ]
    },
    {
     "name": "stdout",
     "output_type": "stream",
     "text": [
      "epoch: 7, [batch: 1 / 420], examples_per_second: 5.2117, train_label_loss: 8517.7158, \n"
     ]
    },
    {
     "name": "stdout",
     "output_type": "stream",
     "text": [
      "epoch: 7, [batch: 42 / 420], examples_per_second: 820.6302, train_label_loss: 5034.5449, \n"
     ]
    },
    {
     "name": "stdout",
     "output_type": "stream",
     "text": [
      "epoch: 7, [batch: 84 / 420], examples_per_second: 883.9627, train_label_loss: 15061.7656, \n"
     ]
    },
    {
     "name": "stdout",
     "output_type": "stream",
     "text": [
      "epoch: 7, [batch: 126 / 420], examples_per_second: 972.4137, train_label_loss: 3560.7065, \n"
     ]
    },
    {
     "name": "stdout",
     "output_type": "stream",
     "text": [
      "epoch: 7, [batch: 168 / 420], examples_per_second: 1067.0440, train_label_loss: 35614.5391, \n"
     ]
    },
    {
     "name": "stdout",
     "output_type": "stream",
     "text": [
      "epoch: 7, [batch: 210 / 420], examples_per_second: 1194.7801, train_label_loss: 7455.0962, \n"
     ]
    },
    {
     "name": "stdout",
     "output_type": "stream",
     "text": [
      "epoch: 7, [batch: 252 / 420], examples_per_second: 1330.0687, train_label_loss: 9042.8848, \n"
     ]
    },
    {
     "name": "stdout",
     "output_type": "stream",
     "text": [
      "epoch: 7, [batch: 294 / 420], examples_per_second: 1601.9306, train_label_loss: 1088.6454, \n"
     ]
    },
    {
     "name": "stdout",
     "output_type": "stream",
     "text": [
      "epoch: 7, [batch: 336 / 420], examples_per_second: 1892.4482, train_label_loss: 39277.7148, \n"
     ]
    },
    {
     "name": "stdout",
     "output_type": "stream",
     "text": [
      "epoch: 7, [batch: 378 / 420], examples_per_second: 2366.7629, train_label_loss: 3498.7219, \n"
     ]
    },
    {
     "name": "stdout",
     "output_type": "stream",
     "text": [
      "=============================================================\n",
      "epoch: 7, source_val_acc_label: 0.0592, target_val_acc_label: 0.0575, source_val_label_loss: 15739.6543, target_val_label_loss: 16049.8135, \n",
      "=============================================================\n"
     ]
    },
    {
     "name": "stdout",
     "output_type": "stream",
     "text": [
      "epoch: 8, [batch: 1 / 420], examples_per_second: 5.2904, train_label_loss: 11416.1318, \n"
     ]
    },
    {
     "name": "stdout",
     "output_type": "stream",
     "text": [
      "epoch: 8, [batch: 42 / 420], examples_per_second: 827.5001, train_label_loss: 11664.6191, \n"
     ]
    },
    {
     "name": "stdout",
     "output_type": "stream",
     "text": [
      "epoch: 8, [batch: 84 / 420], examples_per_second: 899.9825, train_label_loss: 16707.5684, \n"
     ]
    },
    {
     "name": "stdout",
     "output_type": "stream",
     "text": [
      "epoch: 8, [batch: 126 / 420], examples_per_second: 962.5626, train_label_loss: 11090.6543, \n"
     ]
    },
    {
     "name": "stdout",
     "output_type": "stream",
     "text": [
      "epoch: 8, [batch: 168 / 420], examples_per_second: 1117.2054, train_label_loss: 13138.8545, \n"
     ]
    },
    {
     "name": "stdout",
     "output_type": "stream",
     "text": [
      "epoch: 8, [batch: 210 / 420], examples_per_second: 1218.7072, train_label_loss: 8742.7676, \n"
     ]
    },
    {
     "name": "stdout",
     "output_type": "stream",
     "text": [
      "epoch: 8, [batch: 252 / 420], examples_per_second: 1385.7457, train_label_loss: 2662.0190, \n"
     ]
    },
    {
     "name": "stdout",
     "output_type": "stream",
     "text": [
      "epoch: 8, [batch: 294 / 420], examples_per_second: 1611.3978, train_label_loss: 14289.1641, \n"
     ]
    },
    {
     "name": "stdout",
     "output_type": "stream",
     "text": [
      "epoch: 8, [batch: 336 / 420], examples_per_second: 1870.8014, train_label_loss: 31861.8535, \n"
     ]
    },
    {
     "name": "stdout",
     "output_type": "stream",
     "text": [
      "epoch: 8, [batch: 378 / 420], examples_per_second: 2134.3484, train_label_loss: 5008.6543, \n"
     ]
    },
    {
     "name": "stdout",
     "output_type": "stream",
     "text": [
      "=============================================================\n",
      "epoch: 8, source_val_acc_label: 0.0615, target_val_acc_label: 0.0644, source_val_label_loss: 7299.1167, target_val_label_loss: 7870.1328, \n",
      "=============================================================\n"
     ]
    },
    {
     "name": "stdout",
     "output_type": "stream",
     "text": [
      "epoch: 9, [batch: 1 / 420], examples_per_second: 5.2957, train_label_loss: 3825.6868, \n"
     ]
    },
    {
     "name": "stdout",
     "output_type": "stream",
     "text": [
      "epoch: 9, [batch: 42 / 420], examples_per_second: 837.9089, train_label_loss: 1538.6655, \n"
     ]
    },
    {
     "name": "stdout",
     "output_type": "stream",
     "text": [
      "epoch: 9, [batch: 84 / 420], examples_per_second: 912.0738, train_label_loss: 1750.5568, \n"
     ]
    },
    {
     "name": "stdout",
     "output_type": "stream",
     "text": [
      "epoch: 9, [batch: 126 / 420], examples_per_second: 977.8417, train_label_loss: 17712.5332, \n"
     ]
    },
    {
     "name": "stdout",
     "output_type": "stream",
     "text": [
      "epoch: 9, [batch: 168 / 420], examples_per_second: 1079.7823, train_label_loss: 10216.4424, \n"
     ]
    },
    {
     "name": "stdout",
     "output_type": "stream",
     "text": [
      "epoch: 9, [batch: 210 / 420], examples_per_second: 1213.4659, train_label_loss: 9466.6973, \n"
     ]
    },
    {
     "name": "stdout",
     "output_type": "stream",
     "text": [
      "epoch: 9, [batch: 252 / 420], examples_per_second: 1371.6098, train_label_loss: 3479.5981, \n"
     ]
    },
    {
     "name": "stdout",
     "output_type": "stream",
     "text": [
      "epoch: 9, [batch: 294 / 420], examples_per_second: 1612.4666, train_label_loss: 5935.7842, \n"
     ]
    },
    {
     "name": "stdout",
     "output_type": "stream",
     "text": [
      "epoch: 9, [batch: 336 / 420], examples_per_second: 1907.8372, train_label_loss: 6095.0288, \n"
     ]
    },
    {
     "name": "stdout",
     "output_type": "stream",
     "text": [
      "epoch: 9, [batch: 378 / 420], examples_per_second: 2379.2544, train_label_loss: 30165.1289, \n"
     ]
    },
    {
     "name": "stdout",
     "output_type": "stream",
     "text": [
      "=============================================================\n",
      "epoch: 9, source_val_acc_label: 0.0625, target_val_acc_label: 0.0611, source_val_label_loss: 7093.1162, target_val_label_loss: 7174.0044, \n",
      "=============================================================\n"
     ]
    },
    {
     "name": "stdout",
     "output_type": "stream",
     "text": [
      "epoch: 10, [batch: 1 / 420], examples_per_second: 5.3195, train_label_loss: 6895.0977, \n"
     ]
    },
    {
     "name": "stdout",
     "output_type": "stream",
     "text": [
      "epoch: 10, [batch: 42 / 420], examples_per_second: 836.1843, train_label_loss: 44573.0898, \n"
     ]
    },
    {
     "name": "stdout",
     "output_type": "stream",
     "text": [
      "epoch: 10, [batch: 84 / 420], examples_per_second: 900.1242, train_label_loss: 2606.8044, \n"
     ]
    },
    {
     "name": "stdout",
     "output_type": "stream",
     "text": [
      "epoch: 10, [batch: 126 / 420], examples_per_second: 968.4118, train_label_loss: 5758.6201, \n"
     ]
    },
    {
     "name": "stdout",
     "output_type": "stream",
     "text": [
      "epoch: 10, [batch: 168 / 420], examples_per_second: 1104.0327, train_label_loss: 25374.9746, \n"
     ]
    },
    {
     "name": "stdout",
     "output_type": "stream",
     "text": [
      "epoch: 10, [batch: 210 / 420], examples_per_second: 1227.2149, train_label_loss: 6924.7754, \n"
     ]
    },
    {
     "name": "stdout",
     "output_type": "stream",
     "text": [
      "epoch: 10, [batch: 252 / 420], examples_per_second: 1397.9054, train_label_loss: 23501.9922, \n"
     ]
    },
    {
     "name": "stdout",
     "output_type": "stream",
     "text": [
      "epoch: 10, [batch: 294 / 420], examples_per_second: 1638.9802, train_label_loss: 6146.6763, \n"
     ]
    },
    {
     "name": "stdout",
     "output_type": "stream",
     "text": [
      "epoch: 10, [batch: 336 / 420], examples_per_second: 1882.3081, train_label_loss: 23099.7344, \n"
     ]
    },
    {
     "name": "stdout",
     "output_type": "stream",
     "text": [
      "epoch: 10, [batch: 378 / 420], examples_per_second: 2368.4367, train_label_loss: 7843.1304, \n"
     ]
    },
    {
     "name": "stdout",
     "output_type": "stream",
     "text": [
      "=============================================================\n",
      "epoch: 10, source_val_acc_label: 0.0592, target_val_acc_label: 0.0619, source_val_label_loss: 7067.0947, target_val_label_loss: 8655.9766, \n",
      "=============================================================\n"
     ]
    },
    {
     "name": "stdout",
     "output_type": "stream",
     "text": [
      "Patience (3) exhausted\n"
     ]
    }
   ],
   "source": [
    "###################################\n",
    "# train\n",
    "###################################\n",
    "jig = PTN_Train_Eval_Test_Jig(model, p.BEST_MODEL_PATH, p.device)\n",
    "\n",
    "jig.train(\n",
    "    train_iterable=datasets.source.processed.train,\n",
    "    source_val_iterable=datasets.source.processed.val,\n",
    "    target_val_iterable=datasets.target.processed.val,\n",
    "    num_epochs=p.n_epoch,\n",
    "    num_logs_per_epoch=p.NUM_LOGS_PER_EPOCH,\n",
    "    patience=p.patience,\n",
    "    optimizer=optimizer,\n",
    "    criteria_for_best=p.criteria_for_best,\n",
    ")"
   ]
  },
  {
   "cell_type": "code",
   "execution_count": 14,
   "id": "31e8fabf",
   "metadata": {
    "execution": {
     "iopub.execute_input": "2022-03-04T05:07:22.072781Z",
     "iopub.status.busy": "2022-03-04T05:07:22.072523Z",
     "iopub.status.idle": "2022-03-04T05:07:22.087842Z",
     "shell.execute_reply": "2022-03-04T05:07:22.087408Z"
    },
    "papermill": {
     "duration": 0.049389,
     "end_time": "2022-03-04T05:07:22.087946",
     "exception": false,
     "start_time": "2022-03-04T05:07:22.038557",
     "status": "completed"
    },
    "tags": []
   },
   "outputs": [],
   "source": [
    "total_experiment_time_secs = time.time() - start_time_secs"
   ]
  },
  {
   "cell_type": "code",
   "execution_count": 15,
   "id": "87b9595b",
   "metadata": {
    "execution": {
     "iopub.execute_input": "2022-03-04T05:07:22.163751Z",
     "iopub.status.busy": "2022-03-04T05:07:22.163261Z",
     "iopub.status.idle": "2022-03-04T05:08:52.611244Z",
     "shell.execute_reply": "2022-03-04T05:08:52.610792Z"
    },
    "papermill": {
     "duration": 90.486766,
     "end_time": "2022-03-04T05:08:52.611350",
     "exception": false,
     "start_time": "2022-03-04T05:07:22.124584",
     "status": "completed"
    },
    "tags": []
   },
   "outputs": [],
   "source": [
    "###################################\n",
    "# Evaluate the model\n",
    "###################################\n",
    "source_test_label_accuracy, source_test_label_loss = jig.test(datasets.source.processed.test)\n",
    "target_test_label_accuracy, target_test_label_loss = jig.test(datasets.target.processed.test)\n",
    "\n",
    "source_val_label_accuracy, source_val_label_loss = jig.test(datasets.source.processed.val)\n",
    "target_val_label_accuracy, target_val_label_loss = jig.test(datasets.target.processed.val)\n",
    "\n",
    "history = jig.get_history()\n",
    "\n",
    "total_epochs_trained = len(history[\"epoch_indices\"])\n",
    "\n",
    "val_dl = Iterable_Aggregator((datasets.source.original.val,datasets.target.original.val))\n",
    "\n",
    "confusion = ptn_confusion_by_domain_over_dataloader(model, p.device, val_dl)\n",
    "per_domain_accuracy = per_domain_accuracy_from_confusion(confusion)\n",
    "\n",
    "# Add a key to per_domain_accuracy for if it was a source domain\n",
    "for domain, accuracy in per_domain_accuracy.items():\n",
    "    per_domain_accuracy[domain] = {\n",
    "        \"accuracy\": accuracy,\n",
    "        \"source?\": domain in p.domains_source\n",
    "    }\n",
    "\n",
    "# Do an independent accuracy assesment JUST TO BE SURE!\n",
    "# _source_test_label_accuracy = independent_accuracy_assesment(model, datasets.source.processed.test, p.device)\n",
    "# _target_test_label_accuracy = independent_accuracy_assesment(model, datasets.target.processed.test, p.device)\n",
    "# _source_val_label_accuracy = independent_accuracy_assesment(model, datasets.source.processed.val, p.device)\n",
    "# _target_val_label_accuracy = independent_accuracy_assesment(model, datasets.target.processed.val, p.device)\n",
    "\n",
    "# assert(_source_test_label_accuracy == source_test_label_accuracy)\n",
    "# assert(_target_test_label_accuracy == target_test_label_accuracy)\n",
    "# assert(_source_val_label_accuracy == source_val_label_accuracy)\n",
    "# assert(_target_val_label_accuracy == target_val_label_accuracy)\n",
    "\n",
    "experiment = {\n",
    "    \"experiment_name\": p.experiment_name,\n",
    "    \"parameters\": dict(p),\n",
    "    \"results\": {\n",
    "        \"source_test_label_accuracy\": source_test_label_accuracy,\n",
    "        \"source_test_label_loss\": source_test_label_loss,\n",
    "        \"target_test_label_accuracy\": target_test_label_accuracy,\n",
    "        \"target_test_label_loss\": target_test_label_loss,\n",
    "        \"source_val_label_accuracy\": source_val_label_accuracy,\n",
    "        \"source_val_label_loss\": source_val_label_loss,\n",
    "        \"target_val_label_accuracy\": target_val_label_accuracy,\n",
    "        \"target_val_label_loss\": target_val_label_loss,\n",
    "        \"total_epochs_trained\": total_epochs_trained,\n",
    "        \"total_experiment_time_secs\": total_experiment_time_secs,\n",
    "        \"confusion\": confusion,\n",
    "        \"per_domain_accuracy\": per_domain_accuracy,\n",
    "    },\n",
    "    \"history\": history,\n",
    "    \"dataset_metrics\": get_dataset_metrics(datasets, \"ptn\"),\n",
    "}"
   ]
  },
  {
   "cell_type": "code",
   "execution_count": 16,
   "id": "54a21829",
   "metadata": {
    "execution": {
     "iopub.execute_input": "2022-03-04T05:08:52.681432Z",
     "iopub.status.busy": "2022-03-04T05:08:52.681037Z",
     "iopub.status.idle": "2022-03-04T05:08:52.852825Z",
     "shell.execute_reply": "2022-03-04T05:08:52.853234Z"
    },
    "papermill": {
     "duration": 0.205508,
     "end_time": "2022-03-04T05:08:52.853361",
     "exception": false,
     "start_time": "2022-03-04T05:08:52.647853",
     "status": "completed"
    },
    "tags": []
   },
   "outputs": [
    {
     "data": {
      "image/png": "[encoded data removed]",
      "text/plain": [
       "<Figure size 1080x504 with 1 Axes>"
      ]
     },
     "metadata": {
      "needs_background": "light"
     },
     "output_type": "display_data"
    }
   ],
   "source": [
    "ax = get_loss_curve(experiment)\n",
    "plt.show()"
   ]
  },
  {
   "cell_type": "code",
   "execution_count": 17,
   "id": "fd8a0f60",
   "metadata": {
    "execution": {
     "iopub.execute_input": "2022-03-04T05:08:52.923443Z",
     "iopub.status.busy": "2022-03-04T05:08:52.923185Z",
     "iopub.status.idle": "2022-03-04T05:08:53.175684Z",
     "shell.execute_reply": "2022-03-04T05:08:53.175898Z"
    },
    "papermill": {
     "duration": 0.286322,
     "end_time": "2022-03-04T05:08:53.175973",
     "exception": false,
     "start_time": "2022-03-04T05:08:52.889651",
     "status": "completed"
    },
    "tags": []
   },
   "outputs": [
    {
     "data": {
      "text/plain": [
       "<matplotlib.axes._subplots.AxesSubplot at 0x7fd7c862b7c0>"
      ]
     },
     "execution_count": 17,
     "metadata": {},
     "output_type": "execute_result"
    },
    {
     "data": {
      "image/png": "[encoded data removed]",
      "text/plain": [
       "<Figure size 1080x504 with 1 Axes>"
      ]
     },
     "metadata": {
      "needs_background": "light"
     },
     "output_type": "display_data"
    }
   ],
   "source": [
    "get_results_table(experiment)"
   ]
  },
  {
   "cell_type": "code",
   "execution_count": 18,
   "id": "cf8dc689",
   "metadata": {
    "execution": {
     "iopub.execute_input": "2022-03-04T05:08:53.245199Z",
     "iopub.status.busy": "2022-03-04T05:08:53.244593Z",
     "iopub.status.idle": "2022-03-04T05:08:53.417957Z",
     "shell.execute_reply": "2022-03-04T05:08:53.417462Z"
    },
    "papermill": {
     "duration": 0.209078,
     "end_time": "2022-03-04T05:08:53.418060",
     "exception": false,
     "start_time": "2022-03-04T05:08:53.208982",
     "status": "completed"
    },
    "tags": []
   },
   "outputs": [
    {
     "data": {
      "text/plain": [
       "<matplotlib.axes._subplots.AxesSubplot at 0x7fd7c8603d00>"
      ]
     },
     "execution_count": 18,
     "metadata": {},
     "output_type": "execute_result"
    },
    {
     "data": {
      "image/png": "[encoded data removed]",
      "text/plain": [
       "<Figure size 1080x504 with 1 Axes>"
      ]
     },
     "metadata": {
      "needs_background": "light"
     },
     "output_type": "display_data"
    }
   ],
   "source": [
    "get_domain_accuracies(experiment)"
   ]
  },
  {
   "cell_type": "code",
   "execution_count": 19,
   "id": "a74ae082",
   "metadata": {
    "execution": {
     "iopub.execute_input": "2022-03-04T05:08:53.491760Z",
     "iopub.status.busy": "2022-03-04T05:08:53.491497Z",
     "iopub.status.idle": "2022-03-04T05:08:53.502466Z",
     "shell.execute_reply": "2022-03-04T05:08:53.501997Z"
    },
    "papermill": {
     "duration": 0.046525,
     "end_time": "2022-03-04T05:08:53.502564",
     "exception": false,
     "start_time": "2022-03-04T05:08:53.456039",
     "status": "completed"
    },
    "tags": []
   },
   "outputs": [
    {
     "name": "stdout",
     "output_type": "stream",
     "text": [
      "Source Test Label Accuracy: 0.06319444444444444 Target Test Label Accuracy: 0.06208333333333333\n",
      "Source Val Label Accuracy: 0.06579861111111111 Target Val Label Accuracy: 0.06104166666666667\n"
     ]
    }
   ],
   "source": [
    "print(\"Source Test Label Accuracy:\", experiment[\"results\"][\"source_test_label_accuracy\"], \"Target Test Label Accuracy:\", experiment[\"results\"][\"target_test_label_accuracy\"])\n",
    "print(\"Source Val Label Accuracy:\", experiment[\"results\"][\"source_val_label_accuracy\"], \"Target Val Label Accuracy:\", experiment[\"results\"][\"target_val_label_accuracy\"])"
   ]
  },
  {
   "cell_type": "code",
   "execution_count": 20,
   "id": "dacca602",
   "metadata": {
    "execution": {
     "iopub.execute_input": "2022-03-04T05:08:53.579108Z",
     "iopub.status.busy": "2022-03-04T05:08:53.576507Z",
     "iopub.status.idle": "2022-03-04T05:08:53.590835Z",
     "shell.execute_reply": "2022-03-04T05:08:53.590413Z"
    },
    "papermill": {
     "duration": 0.050311,
     "end_time": "2022-03-04T05:08:53.590937",
     "exception": false,
     "start_time": "2022-03-04T05:08:53.540626",
     "status": "completed"
    },
    "tags": [
     "experiment_json"
    ]
   },
   "outputs": [
    {
     "data": {
      "text/plain": [
       "'{\"experiment_name\": \"learningRate_oracle.run2\", \"parameters\": {\"experiment_name\": \"learningRate_oracle.run2\", \"device\": \"cuda\", \"seed\": 1337, \"dataset_seed\": 1337, \"labels_source\": [\"3123D52\", \"3123D65\", \"3123D79\", \"3123D80\", \"3123D54\", \"3123D70\", \"3123D7B\", \"3123D89\", \"3123D58\", \"3123D76\", \"3123D7D\", \"3123EFE\", \"3123D64\", \"3123D78\", \"3123D7E\", \"3124E4A\"], \"labels_target\": [\"3123D52\", \"3123D65\", \"3123D79\", \"3123D80\", \"3123D54\", \"3123D70\", \"3123D7B\", \"3123D89\", \"3123D58\", \"3123D76\", \"3123D7D\", \"3123EFE\", \"3123D64\", \"3123D78\", \"3123D7E\", \"3124E4A\"], \"x_transforms_source\": [], \"x_transforms_target\": [], \"episode_transforms_source\": [], \"episode_transforms_target\": [], \"num_examples_per_domain_per_label_source\": 1000, \"num_examples_per_domain_per_label_target\": 1000, \"n_shot\": 3, \"n_way\": 16, \"n_query\": 2, \"train_k_factor\": 1, \"val_k_factor\": 2, \"test_k_factor\": 2, \"torch_default_dtype\": \"torch.float32\", \"n_epoch\": 50, \"patience\": 3, \"criteria_for_best\": \"target_loss\", \"x_net\": [{\"class\": \"nnReshape\", \"kargs\": {\"shape\": [-1, 1, 2, 256]}}, {\"class\": \"Conv2d\", \"kargs\": {\"in_channels\": 1, \"out_channels\": 256, \"kernel_size\": [1, 7], \"bias\": false, \"padding\": [0, 3]}}, {\"class\": \"ReLU\", \"kargs\": {\"inplace\": true}}, {\"class\": \"BatchNorm2d\", \"kargs\": {\"num_features\": 256}}, {\"class\": \"Conv2d\", \"kargs\": {\"in_channels\": 256, \"out_channels\": 80, \"kernel_size\": [2, 7], \"bias\": true, \"padding\": [0, 3]}}, {\"class\": \"ReLU\", \"kargs\": {\"inplace\": true}}, {\"class\": \"BatchNorm2d\", \"kargs\": {\"num_features\": 80}}, {\"class\": \"Flatten\", \"kargs\": {}}, {\"class\": \"Linear\", \"kargs\": {\"in_features\": 20480, \"out_features\": 256}}, {\"class\": \"ReLU\", \"kargs\": {\"inplace\": true}}, {\"class\": \"BatchNorm1d\", \"kargs\": {\"num_features\": 256}}, {\"class\": \"Linear\", \"kargs\": {\"in_features\": 256, \"out_features\": 256}}], \"NUM_LOGS_PER_EPOCH\": 10, \"BEST_MODEL_PATH\": \"./best_model.pth\", \"pickle_name\": \"oracle.Run2_10kExamples_stratified_ds.2022A.pkl\", \"lr\": 0.1, \"domains_source\": [8, 32, 50], \"domains_target\": [14, 20, 26, 38, 44]}, \"results\": {\"source_test_label_accuracy\": 0.06319444444444444, \"source_test_label_loss\": 5853.32568359375, \"target_test_label_accuracy\": 0.06208333333333333, \"target_test_label_loss\": 6147.45068359375, \"source_val_label_accuracy\": 0.06579861111111111, \"source_val_label_loss\": 5941.19580078125, \"target_val_label_accuracy\": 0.06104166666666667, \"target_val_label_loss\": 6274.09619140625, \"total_epochs_trained\": 10, \"total_experiment_time_secs\": 558.148576259613, \"confusion\": {\"8\": {\"15\": {\"0\": 97, \"1\": 15, \"9\": 1, \"3\": 3, \"2\": 3, \"4\": 1}, \"3\": {\"1\": 23, \"0\": 89, \"3\": 3, \"2\": 5}, \"6\": {\"1\": 26, \"0\": 83, \"2\": 9, \"3\": 1, \"4\": 1}, \"1\": {\"1\": 27, \"0\": 76, \"2\": 8, \"3\": 6, \"6\": 1, \"4\": 2}, \"8\": {\"0\": 89, \"1\": 25, \"2\": 6}, \"10\": {\"1\": 24, \"0\": 86, \"13\": 1, \"2\": 5, \"3\": 4}, \"9\": {\"1\": 23, \"0\": 84, \"3\": 3, \"4\": 2, \"2\": 8}, \"13\": {\"2\": 8, \"0\": 86, \"1\": 21, \"4\": 1, \"7\": 1, \"5\": 1, \"3\": 2}, \"12\": {\"0\": 87, \"1\": 25, \"2\": 6, \"4\": 2}, \"5\": {\"1\": 23, \"0\": 88, \"2\": 4, \"3\": 4, \"4\": 1}, \"0\": {\"0\": 88, \"1\": 17, \"6\": 1, \"2\": 11, \"3\": 1, \"4\": 1, \"13\": 1}, \"2\": {\"0\": 91, \"2\": 5, \"1\": 22, \"5\": 1, \"3\": 1}, \"11\": {\"0\": 79, \"1\": 28, \"3\": 1, \"2\": 9, \"5\": 1, \"4\": 2}, \"14\": {\"1\": 30, \"0\": 81, \"2\": 6, \"4\": 2, \"3\": 1}, \"7\": {\"1\": 28, \"2\": 9, \"0\": 79, \"4\": 2, \"5\": 1, \"3\": 1}, \"4\": {\"0\": 78, \"1\": 30, \"2\": 8, \"3\": 4}}, \"50\": {\"3\": {\"0\": 72, \"1\": 29, \"3\": 4, \"4\": 3, \"2\": 11, \"9\": 1}, \"15\": {\"0\": 68, \"1\": 31, \"6\": 2, \"2\": 8, \"4\": 3, \"3\": 5, \"9\": 1, \"5\": 1, \"7\": 1}, \"8\": {\"0\": 74, \"1\": 20, \"2\": 14, \"6\": 3, \"3\": 7, \"8\": 1, \"5\": 1}, \"4\": {\"2\": 9, \"0\": 56, \"3\": 10, \"1\": 36, \"9\": 1, \"4\": 2, \"6\": 2, \"10\": 1, \"5\": 2, \"12\": 1}, \"14\": {\"0\": 105, \"1\": 11, \"4\": 1, \"2\": 2, \"10\": 1}, \"0\": {\"0\": 100, \"1\": 12, \"2\": 7, \"10\": 1}, \"7\": {\"0\": 72, \"1\": 29, \"2\": 9, \"3\": 6, \"6\": 1, \"5\": 2, \"12\": 1}, \"6\": {\"0\": 78, \"1\": 30, \"2\": 4, \"7\": 1, \"8\": 1, \"3\": 4, \"4\": 1, \"6\": 1}, \"10\": {\"0\": 96, \"2\": 7, \"1\": 11, \"3\": 3, \"9\": 1, \"4\": 1, \"5\": 1}, \"5\": {\"2\": 7, \"5\": 2, \"0\": 63, \"1\": 36, \"8\": 1, \"3\": 9, \"4\": 2}, \"2\": {\"0\": 99, \"8\": 1, \"1\": 14, \"5\": 2, \"12\": 1, \"2\": 1, \"7\": 1, \"6\": 1}, \"12\": {\"2\": 11, \"0\": 82, \"1\": 19, \"5\": 2, \"4\": 3, \"3\": 3}, \"9\": {\"0\": 67, \"9\": 1, \"1\": 37, \"3\": 5, \"15\": 1, \"2\": 5, \"4\": 3, \"10\": 1}, \"1\": {\"0\": 75, \"1\": 21, \"7\": 1, \"2\": 16, \"6\": 1, \"3\": 5, \"4\": 1}, \"11\": {\"0\": 64, \"1\": 29, \"3\": 4, \"2\": 19, \"7\": 1, \"4\": 1, \"11\": 1, \"12\": 1}, \"13\": {\"0\": 71, \"3\": 6, \"5\": 1, \"1\": 23, \"2\": 13, \"8\": 1, \"10\": 1, \"9\": 1, \"6\": 1, \"4\": 2}}, \"32\": {\"5\": {\"3\": 8, \"0\": 67, \"2\": 11, \"1\": 24, \"6\": 3, \"4\": 4, \"5\": 2, \"10\": 1}, \"8\": {\"1\": 27, \"5\": 4, \"0\": 74, \"2\": 7, \"3\": 3, \"4\": 3, \"6\": 2}, \"11\": {\"1\": 28, \"0\": 74, \"3\": 6, \"2\": 8, \"4\": 1, \"5\": 3}, \"1\": {\"0\": 79, \"1\": 25, \"3\": 6, \"4\": 3, \"2\": 6, \"6\": 1}, \"10\": {\"0\": 99, \"1\": 12, \"2\": 4, \"5\": 2, \"3\": 3}, \"15\": {\"1\": 29, \"0\": 65, \"2\": 14, \"3\": 6, \"5\": 4, \"4\": 2}, \"3\": {\"1\": 31, \"0\": 73, \"3\": 7, \"2\": 4, \"6\": 3, \"4\": 2}, \"7\": {\"3\": 8, \"1\": 22, \"0\": 70, \"2\": 11, \"5\": 2, \"10\": 2, \"4\": 2, \"7\": 1, \"6\": 1, \"9\": 1}, \"4\": {\"0\": 63, \"1\": 41, \"2\": 7, \"6\": 2, \"3\": 5, \"5\": 1, \"7\": 1}, \"14\": {\"0\": 74, \"1\": 23, \"3\": 7, \"5\": 3, \"8\": 1, \"2\": 7, \"4\": 5}, \"9\": {\"0\": 89, \"1\": 25, \"3\": 3, \"2\": 3}, \"12\": {\"0\": 103, \"3\": 3, \"2\": 3, \"1\": 11}, \"6\": {\"0\": 92, \"2\": 6, \"1\": 18, \"3\": 3, \"4\": 1}, \"2\": {\"1\": 26, \"0\": 65, \"4\": 5, \"3\": 5, \"2\": 13, \"6\": 3, \"5\": 2, \"9\": 1}, \"0\": {\"0\": 74, \"1\": 23, \"4\": 8, \"2\": 8, \"3\": 4, \"6\": 1, \"5\": 2}, \"13\": {\"0\": 83, \"2\": 8, \"1\": 27, \"3\": 2}}, \"14\": {\"15\": {\"2\": 11, \"0\": 87, \"1\": 16, \"3\": 4, \"5\": 1, \"6\": 1}, \"3\": {\"1\": 31, \"0\": 82, \"2\": 6, \"5\": 1}, \"6\": {\"0\": 85, \"1\": 24, \"4\": 1, \"3\": 3, \"2\": 7}, \"1\": {\"0\": 98, \"1\": 17, \"2\": 4, \"3\": 1}, \"8\": {\"0\": 99, \"1\": 17, \"2\": 2, \"6\": 1, \"4\": 1}, \"10\": {\"1\": 21, \"0\": 95, \"2\": 3, \"7\": 1}, \"9\": {\"0\": 94, \"1\": 16, \"2\": 10}, \"13\": {\"1\": 24, \"0\": 83, \"2\": 11, \"3\": 2}, \"12\": {\"0\": 85, \"2\": 6, \"1\": 28, \"3\": 1}, \"5\": {\"2\": 3, \"0\": 90, \"1\": 24, \"3\": 3}, \"0\": {\"1\": 15, \"0\": 94, \"2\": 4, \"4\": 1, \"5\": 2, \"3\": 3, \"6\": 1}, \"2\": {\"1\": 29, \"0\": 77, \"4\": 3, \"3\": 3, \"2\": 6, \"11\": 1, \"5\": 1}, \"11\": {\"0\": 95, \"2\": 9, \"1\": 14, \"4\": 1, \"3\": 1}, \"14\": {\"0\": 89, \"1\": 23, \"2\": 5, \"7\": 1, \"4\": 1, \"3\": 1}, \"7\": {\"1\": 18, \"0\": 91, \"2\": 9, \"3\": 2}, \"4\": {\"1\": 18, \"0\": 92, \"4\": 1, \"2\": 6, \"3\": 3}}, \"20\": {\"3\": {\"0\": 97, \"1\": 18, \"3\": 2, \"2\": 3}, \"15\": {\"3\": 3, \"0\": 99, \"2\": 5, \"1\": 12, \"4\": 1}, \"8\": {\"0\": 94, \"2\": 8, \"1\": 18}, \"4\": {\"0\": 92, \"1\": 23, \"2\": 3, \"3\": 2}, \"14\": {\"0\": 99, \"1\": 18, \"2\": 2, \"4\": 1}, \"0\": {\"0\": 94, \"2\": 1, \"1\": 22, \"3\": 1, \"4\": 1, \"5\": 1}, \"7\": {\"0\": 93, \"1\": 24, \"5\": 1, \"2\": 2}, \"6\": {\"0\": 93, \"1\": 21, \"4\": 1, \"2\": 5}, \"10\": {\"1\": 17, \"0\": 94, \"3\": 1, \"2\": 6, \"5\": 1, \"4\": 1}, \"5\": {\"1\": 15, \"0\": 97, \"2\": 4, \"3\": 3, \"4\": 1}, \"2\": {\"0\": 91, \"1\": 24, \"3\": 1, \"2\": 4}, \"12\": {\"0\": 96, \"1\": 15, \"2\": 5, \"5\": 1, \"6\": 1, \"4\": 1, \"3\": 1}, \"9\": {\"0\": 92, \"2\": 6, \"1\": 20, \"3\": 2}, \"1\": {\"1\": 17, \"0\": 97, \"2\": 4, \"7\": 1, \"3\": 1}, \"11\": {\"1\": 20, \"0\": 91, \"4\": 2, \"3\": 3, \"2\": 4}, \"13\": {\"0\": 92, \"2\": 4, \"1\": 23, \"5\": 1}}, \"44\": {\"5\": {\"2\": 8, \"0\": 81, \"1\": 23, \"3\": 5, \"4\": 3}, \"8\": {\"1\": 25, \"0\": 78, \"4\": 5, \"3\": 4, \"5\": 1, \"10\": 1, \"2\": 4, \"11\": 1, \"6\": 1}, \"11\": {\"2\": 11, \"3\": 10, \"0\": 78, \"1\": 19, \"5\": 1, \"11\": 1}, \"1\": {\"1\": 18, \"0\": 76, \"5\": 3, \"2\": 9, \"4\": 1, \"3\": 8, \"13\": 1, \"6\": 1, \"8\": 1, \"15\": 1, \"7\": 1}, \"10\": {\"0\": 69, \"2\": 12, \"1\": 26, \"8\": 1, \"3\": 7, \"7\": 1, \"5\": 2, \"4\": 2}, \"15\": {\"3\": 6, \"0\": 81, \"1\": 21, \"2\": 8, \"6\": 1, \"8\": 2, \"4\": 1}, \"3\": {\"2\": 15, \"3\": 13, \"1\": 22, \"0\": 60, \"4\": 5, \"7\": 1, \"11\": 1, \"8\": 1, \"9\": 2}, \"7\": {\"2\": 13, \"8\": 2, \"0\": 74, \"1\": 19, \"5\": 4, \"13\": 1, \"3\": 6, \"4\": 1}, \"4\": {\"1\": 30, \"3\": 9, \"6\": 4, \"0\": 63, \"2\": 6, \"5\": 1, \"4\": 5, \"8\": 2}, \"14\": {\"0\": 77, \"3\": 5, \"1\": 20, \"4\": 3, \"2\": 8, \"5\": 5, \"13\": 1, \"12\": 1}, \"9\": {\"0\": 74, \"5\": 2, \"2\": 14, \"1\": 21, \"3\": 7, \"4\": 1, \"8\": 1}, \"12\": {\"2\": 10, \"0\": 64, \"8\": 2, \"1\": 29, \"3\": 8, \"4\": 3, \"11\": 1, \"5\": 2, \"14\": 1}, \"6\": {\"0\": 82, \"1\": 19, \"8\": 1, \"5\": 1, \"3\": 6, \"6\": 1, \"2\": 8, \"4\": 1, \"7\": 1}, \"2\": {\"0\": 79, \"1\": 21, \"4\": 4, \"12\": 1, \"3\": 6, \"2\": 7, \"6\": 1, \"5\": 1}, \"0\": {\"2\": 7, \"0\": 78, \"1\": 23, \"3\": 6, \"9\": 1, \"5\": 1, \"4\": 1, \"12\": 1, \"6\": 2}, \"13\": {\"3\": 7, \"0\": 78, \"2\": 5, \"1\": 24, \"12\": 2, \"4\": 4}}, \"38\": {\"14\": {\"0\": 66, \"1\": 37, \"3\": 9, \"4\": 5, \"6\": 1, \"2\": 2}, \"0\": {\"0\": 56, \"3\": 6, \"1\": 42, \"2\": 9, \"4\": 3, \"5\": 2, \"10\": 1, \"7\": 1}, \"13\": {\"1\": 20, \"0\": 90, \"2\": 2, \"6\": 2, \"4\": 4, \"3\": 1, \"7\": 1}, \"7\": {\"8\": 1, \"1\": 32, \"0\": 71, \"4\": 2, \"2\": 8, \"12\": 1, \"7\": 1, \"5\": 1, \"6\": 1, \"3\": 2}, \"9\": {\"0\": 85, \"1\": 24, \"3\": 4, \"5\": 1, \"10\": 1, \"2\": 4, \"4\": 1}, \"3\": {\"5\": 5, \"0\": 74, \"4\": 4, \"3\": 5, \"1\": 24, \"2\": 6, \"8\": 2}, \"11\": {\"3\": 7, \"0\": 67, \"1\": 21, \"7\": 1, \"5\": 3, \"9\": 1, \"4\": 8, \"10\": 1, \"11\": 2, \"2\": 4, \"8\": 1, \"6\": 4}, \"6\": {\"1\": 19, \"3\": 8, \"0\": 70, \"13\": 1, \"4\": 4, \"2\": 12, \"6\": 4, \"7\": 1, \"8\": 1}, \"8\": {\"0\": 86, \"1\": 24, \"5\": 1, \"3\": 5, \"4\": 1, \"2\": 3}, \"4\": {\"0\": 74, \"1\": 30, \"2\": 9, \"4\": 3, \"9\": 1, \"3\": 2, \"11\": 1}, \"5\": {\"0\": 69, \"1\": 22, \"2\": 8, \"3\": 10, \"4\": 10, \"14\": 1}, \"10\": {\"1\": 23, \"0\": 86, \"4\": 3, \"5\": 2, \"3\": 3, \"2\": 3}, \"1\": {\"3\": 9, \"2\": 10, \"0\": 68, \"1\": 22, \"4\": 5, \"5\": 2, \"6\": 2, \"7\": 2}, \"2\": {\"0\": 70, \"1\": 22, \"3\": 7, \"4\": 3, \"7\": 1, \"2\": 15, \"6\": 1, \"5\": 1}, \"15\": {\"1\": 25, \"0\": 70, \"3\": 10, \"4\": 4, \"2\": 10, \"5\": 1}, \"12\": {\"1\": 24, \"0\": 83, \"2\": 5, \"6\": 1, \"5\": 1, \"3\": 4, \"9\": 1, \"7\": 1}}, \"26\": {\"13\": {\"1\": 27, \"0\": 81, \"10\": 1, \"2\": 6, \"4\": 3, \"12\": 1, \"5\": 1}, \"2\": {\"0\": 79, \"1\": 26, \"2\": 7, \"3\": 4, \"4\": 2, \"6\": 1, \"7\": 1}, \"8\": {\"0\": 76, \"1\": 31, \"2\": 9, \"6\": 1, \"3\": 1, \"5\": 1, \"4\": 1}, \"9\": {\"0\": 79, \"1\": 28, \"2\": 6, \"3\": 2, \"5\": 2, \"6\": 1, \"4\": 2}, \"12\": {\"0\": 77, \"1\": 30, \"2\": 8, \"4\": 1, \"3\": 4}, \"4\": {\"0\": 81, \"3\": 7, \"8\": 2, \"1\": 22, \"2\": 7, \"4\": 1}, \"3\": {\"1\": 30, \"0\": 69, \"5\": 2, \"2\": 11, \"4\": 3, \"3\": 4, \"6\": 1}, \"15\": {\"0\": 81, \"2\": 9, \"3\": 3, \"1\": 24, \"5\": 1, \"4\": 2}, \"14\": {\"0\": 82, \"1\": 21, \"3\": 4, \"2\": 8, \"4\": 3, \"5\": 1, \"6\": 1}, \"10\": {\"3\": 5, \"0\": 81, \"1\": 28, \"2\": 3, \"5\": 1, \"4\": 2}, \"7\": {\"0\": 78, \"1\": 29, \"2\": 7, \"4\": 2, \"3\": 3, \"5\": 1}, \"11\": {\"0\": 77, \"1\": 23, \"4\": 3, \"3\": 7, \"2\": 8, \"6\": 1, \"9\": 1}, \"6\": {\"1\": 29, \"0\": 82, \"8\": 1, \"3\": 1, \"2\": 2, \"7\": 1, \"5\": 2, \"4\": 2}, \"1\": {\"0\": 74, \"1\": 31, \"6\": 2, \"3\": 4, \"2\": 7, \"7\": 1, \"4\": 1}, \"5\": {\"0\": 81, \"1\": 28, \"9\": 1, \"10\": 1, \"2\": 5, \"3\": 4}, \"0\": {\"0\": 77, \"1\": 29, \"6\": 1, \"2\": 4, \"5\": 2, \"3\": 3, \"4\": 3, \"10\": 1}}}, \"per_domain_accuracy\": {\"8\": {\"accuracy\": 0.0640625, \"source?\": true}, \"50\": {\"accuracy\": 0.06979166666666667, \"source?\": true}, \"32\": {\"accuracy\": 0.06354166666666666, \"source?\": true}, \"14\": {\"accuracy\": 0.06145833333333333, \"source?\": false}, \"20\": {\"accuracy\": 0.0609375, \"source?\": false}, \"44\": {\"accuracy\": 0.0640625, \"source?\": false}, \"38\": {\"accuracy\": 0.05625, \"source?\": false}, \"26\": {\"accuracy\": 0.0625, \"source?\": false}}}, \"history\": {\"epoch_indices\": [1, 2, 3, 4, 5, 6, 7, 8, 9, 10], \"train_label_loss\": [1.7161769534860338, 237238.82791931715, 12172.95154785599, 13189.72542895249, 14327.67754587219, 18432.62970130557, 12561.385161928903, 15301.042811137722, 11564.370686558315, 12203.0909566533], \"source_val_label_loss\": [6441683.5, 8526.88671875, 11342.134765625, 39098.56640625, 16090.9697265625, 5941.19580078125, 15739.654296875, 7299.11669921875, 7093.1162109375, 7067.0947265625], \"target_val_label_loss\": [1041228.625, 9657.884765625, 11901.97265625, 31364.587890625, 16952.2734375, 6274.09619140625, 16049.8134765625, 7870.1328125, 7174.00439453125, 8655.9765625], \"source_val_acc_label\": [0.42916666666666664, 0.0685763888888889, 0.07326388888888889, 0.06197916666666667, 0.06458333333333334, 0.06579861111111111, 0.05920138888888889, 0.06145833333333333, 0.0625, 0.05920138888888889], \"target_val_acc_label\": [0.3723958333333333, 0.060520833333333336, 0.06947916666666666, 0.060833333333333336, 0.058125, 0.06104166666666667, 0.0575, 0.064375, 0.06114583333333334, 0.061875]}, \"dataset_metrics\": {\"source\": {\"train\": {\"n_unique_x\": 33600, \"n_unique_y\": 16, \"n_batch/episode\": 420}, \"val\": {\"n_unique_x\": 7200, \"n_unique_y\": 16, \"n_batch/episode\": 180}, \"test\": {\"n_unique_x\": 7200, \"n_unique_y\": 16, \"n_batch/episode\": 180}}, \"target\": {\"train\": {\"n_unique_x\": 56000, \"n_unique_y\": 16, \"n_batch/episode\": 700}, \"val\": {\"n_unique_x\": 12000, \"n_unique_y\": 16, \"n_batch/episode\": 300}, \"test\": {\"n_unique_x\": 12000, \"n_unique_y\": 16, \"n_batch/episode\": 300}}}}'"
      ]
     },
     "execution_count": 20,
     "metadata": {},
     "output_type": "execute_result"
    }
   ],
   "source": [
    "json.dumps(experiment)"
   ]
  }
 ],
 "metadata": {
  "celltoolbar": "Tags",
  "kernelspec": {
   "display_name": "Python 3 (ipykernel)",
   "language": "python",
   "name": "python3"
  },
  "language_info": {
   "codemirror_mode": {
    "name": "ipython",
    "version": 3
   },
   "file_extension": ".py",
   "mimetype": "text/x-python",
   "name": "python",
   "nbconvert_exporter": "python",
   "pygments_lexer": "ipython3",
   "version": "3.8.10"
  },
  "papermill": {
   "default_parameters": {},
   "duration": 651.902764,
   "end_time": "2022-03-04T05:08:54.136482",
   "environment_variables": {},
   "exception": null,
   "input_path": "/mnt/wd500GB/CSC500/csc500-main/csc500-notebooks/templates/ptn_template.ipynb",
   "output_path": "trial.ipynb",
   "parameters": {
    "parameters": {
     "BEST_MODEL_PATH": "./best_model.pth",
     "NUM_LOGS_PER_EPOCH": 10,
     "criteria_for_best": "target_loss",
     "dataset_seed": 1337,
     "device": "cuda",
     "domains_source": [
      8,
      32,
      50
     ],
     "domains_target": [
      14,
      20,
      26,
      38,
      44
     ],
     "episode_transforms_source": [],
     "episode_transforms_target": [],
     "experiment_name": "learningRate_oracle.run2",
     "labels_source": [
      "3123D52",
      "3123D65",
      "3123D79",
      "3123D80",
      "3123D54",
      "3123D70",
      "3123D7B",
      "3123D89",
      "3123D58",
      "3123D76",
      "3123D7D",
      "3123EFE",
      "3123D64",
      "3123D78",
      "3123D7E",
      "3124E4A"
     ],
     "labels_target": [
      "3123D52",
      "3123D65",
      "3123D79",
      "3123D80",
      "3123D54",
      "3123D70",
      "3123D7B",
      "3123D89",
      "3123D58",
      "3123D76",
      "3123D7D",
      "3123EFE",
      "3123D64",
      "3123D78",
      "3123D7E",
      "3124E4A"
     ],
     "lr": 0.1,
     "n_epoch": 50,
     "n_query": 2,
     "n_shot": 3,
     "n_way": 16,
     "num_examples_per_domain_per_label_source": 1000,
     "num_examples_per_domain_per_label_target": 1000,
     "patience": 3,
     "pickle_name": "oracle.Run2_10kExamples_stratified_ds.2022A.pkl",
     "seed": 1337,
     "test_k_factor": 2,
     "torch_default_dtype": "torch.float32",
     "train_k_factor": 1,
     "val_k_factor": 2,
     "x_net": [
      {
       "class": "nnReshape",
       "kargs": {
        "shape": [
         -1,
         1,
         2,
         256
        ]
       }
      },
      {
       "class": "Conv2d",
       "kargs": {
        "bias": false,
        "in_channels": 1,
        "kernel_size": [
         1,
         7
        ],
        "out_channels": 256,
        "padding": [
         0,
         3
        ]
       }
      },
      {
       "class": "ReLU",
       "kargs": {
        "inplace": true
       }
      },
      {
       "class": "BatchNorm2d",
       "kargs": {
        "num_features": 256
       }
      },
      {
       "class": "Conv2d",
       "kargs": {
        "bias": true,
        "in_channels": 256,
        "kernel_size": [
         2,
         7
        ],
        "out_channels": 80,
        "padding": [
         0,
         3
        ]
       }
      },
      {
       "class": "ReLU",
       "kargs": {
        "inplace": true
       }
      },
      {
       "class": "BatchNorm2d",
       "kargs": {
        "num_features": 80
       }
      },
      {
       "class": "Flatten",
       "kargs": {}
      },
      {
       "class": "Linear",
       "kargs": {
        "in_features": 20480,
        "out_features": 256
       }
      },
      {
       "class": "ReLU",
       "kargs": {
        "inplace": true
       }
      },
      {
       "class": "BatchNorm1d",
       "kargs": {
        "num_features": 256
       }
      },
      {
       "class": "Linear",
       "kargs": {
        "in_features": 256,
        "out_features": 256
       }
      }
     ],
     "x_transforms_source": [],
     "x_transforms_target": []
    }
   },
   "start_time": "2022-03-04T04:58:02.233718",
   "version": "2.3.4"
  }
 },
 "nbformat": 4,
 "nbformat_minor": 5
}