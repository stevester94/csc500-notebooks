{
 "cells": [
  {
   "cell_type": "markdown",
   "id": "9fea5f46",
   "metadata": {
    "papermill": {
     "duration": 0.01433,
     "end_time": "2022-03-04T04:43:28.792644",
     "exception": false,
     "start_time": "2022-03-04T04:43:28.778314",
     "status": "completed"
    },
    "tags": []
   },
   "source": [
    "# PTN Template\n",
    "This notebook serves as a template for single dataset PTN experiments  \n",
    "It can be run on its own by setting STANDALONE to True (do a find for \"STANDALONE\" to see where)  \n",
    "But it is intended to be executed as part of a *papermill.py script. See any of the   \n",
    "experimentes with a papermill script to get started with that workflow.  "
   ]
  },
  {
   "cell_type": "code",
   "execution_count": 1,
   "id": "0902182a",
   "metadata": {
    "execution": {
     "iopub.execute_input": "2022-03-04T04:43:28.822988Z",
     "iopub.status.busy": "2022-03-04T04:43:28.822656Z",
     "iopub.status.idle": "2022-03-04T04:43:29.554968Z",
     "shell.execute_reply": "2022-03-04T04:43:29.554448Z"
    },
    "papermill": {
     "duration": 0.753254,
     "end_time": "2022-03-04T04:43:29.555097",
     "exception": false,
     "start_time": "2022-03-04T04:43:28.801843",
     "status": "completed"
    },
    "tags": []
   },
   "outputs": [],
   "source": [
    "%load_ext autoreload\n",
    "%autoreload 2\n",
    "%matplotlib inline\n",
    "\n",
    "    \n",
    "import os, json, sys, time, random\n",
    "import numpy as np\n",
    "import torch\n",
    "from torch.optim import Adam\n",
    "from  easydict import EasyDict\n",
    "import matplotlib.pyplot as plt\n",
    "\n",
    "from steves_models.steves_ptn import Steves_Prototypical_Network\n",
    "\n",
    "from steves_utils.lazy_iterable_wrapper import Lazy_Iterable_Wrapper\n",
    "from steves_utils.iterable_aggregator import Iterable_Aggregator\n",
    "from steves_utils.ptn_train_eval_test_jig import  PTN_Train_Eval_Test_Jig\n",
    "from steves_utils.torch_sequential_builder import build_sequential\n",
    "from steves_utils.torch_utils import get_dataset_metrics, ptn_confusion_by_domain_over_dataloader\n",
    "from steves_utils.utils_v2 import (per_domain_accuracy_from_confusion, get_datasets_base_path)\n",
    "from steves_utils.PTN.utils import independent_accuracy_assesment\n",
    "\n",
    "from steves_utils.stratified_dataset.episodic_accessor import Episodic_Accessor_Factory\n",
    "\n",
    "from steves_utils.ptn_do_report import (\n",
    "    get_loss_curve,\n",
    "    get_results_table,\n",
    "    get_parameters_table,\n",
    "    get_domain_accuracies,\n",
    ")\n",
    "\n",
    "from steves_utils.transforms import get_chained_transform"
   ]
  },
  {
   "cell_type": "markdown",
   "id": "41c840b4",
   "metadata": {
    "papermill": {
     "duration": 0.008897,
     "end_time": "2022-03-04T04:43:29.575774",
     "exception": false,
     "start_time": "2022-03-04T04:43:29.566877",
     "status": "completed"
    },
    "tags": []
   },
   "source": [
    "# Required Parameters\n",
    "These are allowed parameters, not defaults\n",
    "Each of these values need to be present in the injected parameters (the notebook will raise an exception if they are not present)\n",
    "\n",
    "Papermill uses the cell tag \"parameters\" to inject the real parameters below this cell.\n",
    "Enable tags to see what I mean"
   ]
  },
  {
   "cell_type": "code",
   "execution_count": 2,
   "id": "fd44eb83",
   "metadata": {
    "execution": {
     "iopub.execute_input": "2022-03-04T04:43:29.597452Z",
     "iopub.status.busy": "2022-03-04T04:43:29.597193Z",
     "iopub.status.idle": "2022-03-04T04:43:29.612060Z",
     "shell.execute_reply": "2022-03-04T04:43:29.611633Z"
    },
    "papermill": {
     "duration": 0.027316,
     "end_time": "2022-03-04T04:43:29.612163",
     "exception": false,
     "start_time": "2022-03-04T04:43:29.584847",
     "status": "completed"
    },
    "tags": []
   },
   "outputs": [],
   "source": [
    "required_parameters = {\n",
    "    \"experiment_name\",\n",
    "    \"lr\",\n",
    "    \"device\",\n",
    "    \"seed\",\n",
    "    \"dataset_seed\",\n",
    "    \"labels_source\",\n",
    "    \"labels_target\",\n",
    "    \"domains_source\",\n",
    "    \"domains_target\",\n",
    "    \"num_examples_per_domain_per_label_source\",\n",
    "    \"num_examples_per_domain_per_label_target\",\n",
    "    \"n_shot\",\n",
    "    \"n_way\",\n",
    "    \"n_query\",\n",
    "    \"train_k_factor\",\n",
    "    \"val_k_factor\",\n",
    "    \"test_k_factor\",\n",
    "    \"n_epoch\",\n",
    "    \"patience\",\n",
    "    \"criteria_for_best\",\n",
    "    \"x_transforms_source\",\n",
    "    \"x_transforms_target\",\n",
    "    \"episode_transforms_source\",\n",
    "    \"episode_transforms_target\",\n",
    "    \"pickle_name\",\n",
    "    \"x_net\",\n",
    "    \"NUM_LOGS_PER_EPOCH\",\n",
    "    \"BEST_MODEL_PATH\",\n",
    "    \"torch_default_dtype\"\n",
    "}"
   ]
  },
  {
   "cell_type": "code",
   "execution_count": 3,
   "id": "fa3f0049",
   "metadata": {
    "execution": {
     "iopub.execute_input": "2022-03-04T04:43:29.642183Z",
     "iopub.status.busy": "2022-03-04T04:43:29.641892Z",
     "iopub.status.idle": "2022-03-04T04:43:29.653574Z",
     "shell.execute_reply": "2022-03-04T04:43:29.653151Z"
    },
    "papermill": {
     "duration": 0.030054,
     "end_time": "2022-03-04T04:43:29.653675",
     "exception": false,
     "start_time": "2022-03-04T04:43:29.623621",
     "status": "completed"
    },
    "tags": [
     "parameters"
    ]
   },
   "outputs": [],
   "source": [
    "\n",
    "\n",
    "standalone_parameters = {}\n",
    "standalone_parameters[\"experiment_name\"] = \"STANDALONE PTN\"\n",
    "standalone_parameters[\"lr\"] = 0.0001\n",
    "standalone_parameters[\"device\"] = \"cuda\"\n",
    "\n",
    "standalone_parameters[\"seed\"] = 1337\n",
    "standalone_parameters[\"dataset_seed\"] = 1337\n",
    "\n",
    "\n",
    "standalone_parameters[\"num_examples_per_domain_per_label_source\"]=100\n",
    "standalone_parameters[\"num_examples_per_domain_per_label_target\"]=100\n",
    "\n",
    "standalone_parameters[\"n_shot\"] = 3\n",
    "standalone_parameters[\"n_query\"]  = 2\n",
    "standalone_parameters[\"train_k_factor\"] = 1\n",
    "standalone_parameters[\"val_k_factor\"] = 2\n",
    "standalone_parameters[\"test_k_factor\"] = 2\n",
    "\n",
    "\n",
    "standalone_parameters[\"n_epoch\"] = 100\n",
    "\n",
    "standalone_parameters[\"patience\"] = 10\n",
    "standalone_parameters[\"criteria_for_best\"] = \"target_accuracy\"\n",
    "\n",
    "standalone_parameters[\"x_transforms_source\"] = [\"unit_power\"]\n",
    "standalone_parameters[\"x_transforms_target\"] = [\"unit_power\"]\n",
    "standalone_parameters[\"episode_transforms_source\"] = []\n",
    "standalone_parameters[\"episode_transforms_target\"] = []\n",
    "\n",
    "standalone_parameters[\"torch_default_dtype\"] = \"torch.float32\" \n",
    "\n",
    "\n",
    "\n",
    "standalone_parameters[\"x_net\"] =     [\n",
    "    {\"class\": \"nnReshape\", \"kargs\": {\"shape\":[-1, 1, 2, 256]}},\n",
    "    {\"class\": \"Conv2d\", \"kargs\": { \"in_channels\":1, \"out_channels\":256, \"kernel_size\":(1,7), \"bias\":False, \"padding\":(0,3), },},\n",
    "    {\"class\": \"ReLU\", \"kargs\": {\"inplace\": True}},\n",
    "    {\"class\": \"BatchNorm2d\", \"kargs\": {\"num_features\":256}},\n",
    "\n",
    "    {\"class\": \"Conv2d\", \"kargs\": { \"in_channels\":256, \"out_channels\":80, \"kernel_size\":(2,7), \"bias\":True, \"padding\":(0,3), },},\n",
    "    {\"class\": \"ReLU\", \"kargs\": {\"inplace\": True}},\n",
    "    {\"class\": \"BatchNorm2d\", \"kargs\": {\"num_features\":80}},\n",
    "    {\"class\": \"Flatten\", \"kargs\": {}},\n",
    "\n",
    "    {\"class\": \"Linear\", \"kargs\": {\"in_features\": 80*256, \"out_features\": 256}}, # 80 units per IQ pair\n",
    "    {\"class\": \"ReLU\", \"kargs\": {\"inplace\": True}},\n",
    "    {\"class\": \"BatchNorm1d\", \"kargs\": {\"num_features\":256}},\n",
    "\n",
    "    {\"class\": \"Linear\", \"kargs\": {\"in_features\": 256, \"out_features\": 256}},\n",
    "]\n",
    "\n",
    "# Parameters relevant to results\n",
    "# These parameters will basically never need to change\n",
    "standalone_parameters[\"NUM_LOGS_PER_EPOCH\"] = 10\n",
    "standalone_parameters[\"BEST_MODEL_PATH\"] = \"./best_model.pth\"\n",
    "\n",
    "# uncomment for CORES dataset\n",
    "from steves_utils.CORES.utils import (\n",
    "    ALL_NODES,\n",
    "    ALL_NODES_MINIMUM_1000_EXAMPLES,\n",
    "    ALL_DAYS\n",
    ")\n",
    "\n",
    "\n",
    "standalone_parameters[\"labels_source\"] = ALL_NODES\n",
    "standalone_parameters[\"labels_target\"] = ALL_NODES\n",
    "\n",
    "standalone_parameters[\"domains_source\"] = [1]\n",
    "standalone_parameters[\"domains_target\"] = [2,3,4,5]\n",
    "\n",
    "standalone_parameters[\"pickle_name\"] = \"cores.stratified_ds.2022A.pkl\"\n",
    "\n",
    "\n",
    "# Uncomment these for ORACLE dataset\n",
    "# from steves_utils.ORACLE.utils_v2 import (\n",
    "#     ALL_DISTANCES_FEET,\n",
    "#     ALL_RUNS,\n",
    "#     ALL_SERIAL_NUMBERS,\n",
    "# )\n",
    "# standalone_parameters[\"labels_source\"] = ALL_SERIAL_NUMBERS\n",
    "# standalone_parameters[\"labels_target\"] = ALL_SERIAL_NUMBERS\n",
    "# standalone_parameters[\"domains_source\"] = [8,20, 38,50]\n",
    "# standalone_parameters[\"domains_target\"] = [14, 26, 32, 44, 56]\n",
    "# standalone_parameters[\"pickle_name\"] = \"oracle.frame_indexed.stratified_ds.2022A.pkl\"\n",
    "# standalone_parameters[\"num_examples_per_domain_per_label_source\"]=1000\n",
    "# standalone_parameters[\"num_examples_per_domain_per_label_target\"]=1000\n",
    "\n",
    "# Uncomment these for Metahan dataset\n",
    "# standalone_parameters[\"labels_source\"] = list(range(19))\n",
    "# standalone_parameters[\"labels_target\"] = list(range(19))\n",
    "# standalone_parameters[\"domains_source\"] = [0]\n",
    "# standalone_parameters[\"domains_target\"] = [1]\n",
    "# standalone_parameters[\"pickle_name\"] = \"metehan.stratified_ds.2022A.pkl\"\n",
    "# standalone_parameters[\"n_way\"]  = len(standalone_parameters[\"labels_source\"])\n",
    "# standalone_parameters[\"num_examples_per_domain_per_label_source\"]=200\n",
    "# standalone_parameters[\"num_examples_per_domain_per_label_target\"]=100\n",
    "\n",
    "\n",
    "standalone_parameters[\"n_way\"]  = len(standalone_parameters[\"labels_source\"])"
   ]
  },
  {
   "cell_type": "code",
   "execution_count": 4,
   "id": "c3f41edf",
   "metadata": {
    "execution": {
     "iopub.execute_input": "2022-03-04T04:43:29.682408Z",
     "iopub.status.busy": "2022-03-04T04:43:29.682116Z",
     "iopub.status.idle": "2022-03-04T04:43:29.692589Z",
     "shell.execute_reply": "2022-03-04T04:43:29.692157Z"
    },
    "papermill": {
     "duration": 0.024687,
     "end_time": "2022-03-04T04:43:29.692692",
     "exception": false,
     "start_time": "2022-03-04T04:43:29.668005",
     "status": "completed"
    },
    "tags": [
     "injected-parameters"
    ]
   },
   "outputs": [],
   "source": [
    "# Parameters\n",
    "parameters = {\n",
    "    \"experiment_name\": \"learningRate_oracle.run2\",\n",
    "    \"device\": \"cuda\",\n",
    "    \"seed\": 1337,\n",
    "    \"dataset_seed\": 1337,\n",
    "    \"labels_source\": [\n",
    "        \"3123D52\",\n",
    "        \"3123D65\",\n",
    "        \"3123D79\",\n",
    "        \"3123D80\",\n",
    "        \"3123D54\",\n",
    "        \"3123D70\",\n",
    "        \"3123D7B\",\n",
    "        \"3123D89\",\n",
    "        \"3123D58\",\n",
    "        \"3123D76\",\n",
    "        \"3123D7D\",\n",
    "        \"3123EFE\",\n",
    "        \"3123D64\",\n",
    "        \"3123D78\",\n",
    "        \"3123D7E\",\n",
    "        \"3124E4A\",\n",
    "    ],\n",
    "    \"labels_target\": [\n",
    "        \"3123D52\",\n",
    "        \"3123D65\",\n",
    "        \"3123D79\",\n",
    "        \"3123D80\",\n",
    "        \"3123D54\",\n",
    "        \"3123D70\",\n",
    "        \"3123D7B\",\n",
    "        \"3123D89\",\n",
    "        \"3123D58\",\n",
    "        \"3123D76\",\n",
    "        \"3123D7D\",\n",
    "        \"3123EFE\",\n",
    "        \"3123D64\",\n",
    "        \"3123D78\",\n",
    "        \"3123D7E\",\n",
    "        \"3124E4A\",\n",
    "    ],\n",
    "    \"x_transforms_source\": [],\n",
    "    \"x_transforms_target\": [],\n",
    "    \"episode_transforms_source\": [],\n",
    "    \"episode_transforms_target\": [],\n",
    "    \"num_examples_per_domain_per_label_source\": 1000,\n",
    "    \"num_examples_per_domain_per_label_target\": 1000,\n",
    "    \"n_shot\": 3,\n",
    "    \"n_way\": 16,\n",
    "    \"n_query\": 2,\n",
    "    \"train_k_factor\": 1,\n",
    "    \"val_k_factor\": 2,\n",
    "    \"test_k_factor\": 2,\n",
    "    \"torch_default_dtype\": \"torch.float32\",\n",
    "    \"n_epoch\": 50,\n",
    "    \"patience\": 3,\n",
    "    \"criteria_for_best\": \"target_loss\",\n",
    "    \"x_net\": [\n",
    "        {\"class\": \"nnReshape\", \"kargs\": {\"shape\": [-1, 1, 2, 256]}},\n",
    "        {\n",
    "            \"class\": \"Conv2d\",\n",
    "            \"kargs\": {\n",
    "                \"in_channels\": 1,\n",
    "                \"out_channels\": 256,\n",
    "                \"kernel_size\": [1, 7],\n",
    "                \"bias\": False,\n",
    "                \"padding\": [0, 3],\n",
    "            },\n",
    "        },\n",
    "        {\"class\": \"ReLU\", \"kargs\": {\"inplace\": True}},\n",
    "        {\"class\": \"BatchNorm2d\", \"kargs\": {\"num_features\": 256}},\n",
    "        {\n",
    "            \"class\": \"Conv2d\",\n",
    "            \"kargs\": {\n",
    "                \"in_channels\": 256,\n",
    "                \"out_channels\": 80,\n",
    "                \"kernel_size\": [2, 7],\n",
    "                \"bias\": True,\n",
    "                \"padding\": [0, 3],\n",
    "            },\n",
    "        },\n",
    "        {\"class\": \"ReLU\", \"kargs\": {\"inplace\": True}},\n",
    "        {\"class\": \"BatchNorm2d\", \"kargs\": {\"num_features\": 80}},\n",
    "        {\"class\": \"Flatten\", \"kargs\": {}},\n",
    "        {\"class\": \"Linear\", \"kargs\": {\"in_features\": 20480, \"out_features\": 256}},\n",
    "        {\"class\": \"ReLU\", \"kargs\": {\"inplace\": True}},\n",
    "        {\"class\": \"BatchNorm1d\", \"kargs\": {\"num_features\": 256}},\n",
    "        {\"class\": \"Linear\", \"kargs\": {\"in_features\": 256, \"out_features\": 256}},\n",
    "    ],\n",
    "    \"NUM_LOGS_PER_EPOCH\": 10,\n",
    "    \"BEST_MODEL_PATH\": \"./best_model.pth\",\n",
    "    \"pickle_name\": \"oracle.Run2_10kExamples_stratified_ds.2022A.pkl\",\n",
    "    \"lr\": 0.01,\n",
    "    \"domains_source\": [8, 32, 50],\n",
    "    \"domains_target\": [14, 20, 26, 38, 44],\n",
    "}\n"
   ]
  },
  {
   "cell_type": "code",
   "execution_count": 5,
   "id": "8fa1cc33",
   "metadata": {
    "execution": {
     "iopub.execute_input": "2022-03-04T04:43:29.722751Z",
     "iopub.status.busy": "2022-03-04T04:43:29.718820Z",
     "iopub.status.idle": "2022-03-04T04:43:29.731158Z",
     "shell.execute_reply": "2022-03-04T04:43:29.730639Z"
    },
    "papermill": {
     "duration": 0.025706,
     "end_time": "2022-03-04T04:43:29.731264",
     "exception": false,
     "start_time": "2022-03-04T04:43:29.705558",
     "status": "completed"
    },
    "tags": []
   },
   "outputs": [],
   "source": [
    "# Set this to True if you want to run this template directly\n",
    "STANDALONE = False\n",
    "if STANDALONE:\n",
    "    print(\"parameters not injected, running with standalone_parameters\")\n",
    "    parameters = standalone_parameters\n",
    "\n",
    "if not 'parameters' in locals() and not 'parameters' in globals():\n",
    "    raise Exception(\"Parameter injection failed\")\n",
    "\n",
    "#Use an easy dict for all the parameters\n",
    "p = EasyDict(parameters)\n",
    "\n",
    "supplied_keys = set(p.keys())\n",
    "\n",
    "if  supplied_keys != required_parameters:\n",
    "    print(\"Parameters are incorrect\")\n",
    "    if len(supplied_keys - required_parameters)>0: print(\"Shouldn't have:\", str(supplied_keys - required_parameters))\n",
    "    if len(required_parameters - supplied_keys)>0: print(\"Need to have:\", str(required_parameters - supplied_keys))\n",
    "    raise RuntimeError(\"Parameters are incorrect\")\n",
    "\n"
   ]
  },
  {
   "cell_type": "code",
   "execution_count": 6,
   "id": "3a028d58",
   "metadata": {
    "execution": {
     "iopub.execute_input": "2022-03-04T04:43:29.756755Z",
     "iopub.status.busy": "2022-03-04T04:43:29.756509Z",
     "iopub.status.idle": "2022-03-04T04:43:29.770807Z",
     "shell.execute_reply": "2022-03-04T04:43:29.770517Z"
    },
    "papermill": {
     "duration": 0.026017,
     "end_time": "2022-03-04T04:43:29.770871",
     "exception": false,
     "start_time": "2022-03-04T04:43:29.744854",
     "status": "completed"
    },
    "tags": []
   },
   "outputs": [],
   "source": [
    "###################################\n",
    "# Set the RNGs and make it all deterministic\n",
    "###################################\n",
    "np.random.seed(p.seed)\n",
    "random.seed(p.seed)\n",
    "torch.manual_seed(p.seed)\n",
    "\n",
    "torch.use_deterministic_algorithms(True) "
   ]
  },
  {
   "cell_type": "code",
   "execution_count": 7,
   "id": "b691acf6",
   "metadata": {
    "execution": {
     "iopub.execute_input": "2022-03-04T04:43:29.796806Z",
     "iopub.status.busy": "2022-03-04T04:43:29.796406Z",
     "iopub.status.idle": "2022-03-04T04:43:29.805785Z",
     "shell.execute_reply": "2022-03-04T04:43:29.805516Z"
    },
    "papermill": {
     "duration": 0.020332,
     "end_time": "2022-03-04T04:43:29.805843",
     "exception": false,
     "start_time": "2022-03-04T04:43:29.785511",
     "status": "completed"
    },
    "tags": []
   },
   "outputs": [],
   "source": [
    "###########################################\n",
    "# The stratified datasets honor this\n",
    "###########################################\n",
    "torch.set_default_dtype(eval(p.torch_default_dtype))"
   ]
  },
  {
   "cell_type": "code",
   "execution_count": 8,
   "id": "b5fba671",
   "metadata": {
    "execution": {
     "iopub.execute_input": "2022-03-04T04:43:29.830081Z",
     "iopub.status.busy": "2022-03-04T04:43:29.829099Z",
     "iopub.status.idle": "2022-03-04T04:43:29.863996Z",
     "shell.execute_reply": "2022-03-04T04:43:29.863709Z"
    },
    "papermill": {
     "duration": 0.046973,
     "end_time": "2022-03-04T04:43:29.864060",
     "exception": false,
     "start_time": "2022-03-04T04:43:29.817087",
     "status": "completed"
    },
    "tags": []
   },
   "outputs": [],
   "source": [
    "###################################\n",
    "# Build the network(s)\n",
    "# Note: It's critical to do this AFTER setting the RNG\n",
    "# (This is due to the randomized initial weights)\n",
    "###################################\n",
    "x_net = build_sequential(p.x_net)"
   ]
  },
  {
   "cell_type": "code",
   "execution_count": 9,
   "id": "5d7e61cc",
   "metadata": {
    "execution": {
     "iopub.execute_input": "2022-03-04T04:43:29.888513Z",
     "iopub.status.busy": "2022-03-04T04:43:29.888122Z",
     "iopub.status.idle": "2022-03-04T04:43:29.898471Z",
     "shell.execute_reply": "2022-03-04T04:43:29.898161Z"
    },
    "papermill": {
     "duration": 0.022019,
     "end_time": "2022-03-04T04:43:29.898527",
     "exception": false,
     "start_time": "2022-03-04T04:43:29.876508",
     "status": "completed"
    },
    "tags": []
   },
   "outputs": [],
   "source": [
    "start_time_secs = time.time()"
   ]
  },
  {
   "cell_type": "code",
   "execution_count": 10,
   "id": "fd5442bc",
   "metadata": {
    "execution": {
     "iopub.execute_input": "2022-03-04T04:43:29.924981Z",
     "iopub.status.busy": "2022-03-04T04:43:29.924367Z",
     "iopub.status.idle": "2022-03-04T04:43:33.015713Z",
     "shell.execute_reply": "2022-03-04T04:43:33.015140Z"
    },
    "papermill": {
     "duration": 3.106166,
     "end_time": "2022-03-04T04:43:33.015826",
     "exception": false,
     "start_time": "2022-03-04T04:43:29.909660",
     "status": "completed"
    },
    "tags": []
   },
   "outputs": [],
   "source": [
    "###################################\n",
    "# Build the dataset\n",
    "###################################\n",
    "\n",
    "if p.x_transforms_source == []: x_transform_source = None\n",
    "else: x_transform_source = get_chained_transform(p.x_transforms_source) \n",
    "\n",
    "if p.x_transforms_target == []: x_transform_target = None\n",
    "else: x_transform_target = get_chained_transform(p.x_transforms_target)\n",
    "\n",
    "if p.episode_transforms_source == []: episode_transform_source = None\n",
    "else: raise Exception(\"episode_transform_source not implemented\")\n",
    "\n",
    "if p.episode_transforms_target == []: episode_transform_target = None\n",
    "else: raise Exception(\"episode_transform_target not implemented\")\n",
    "\n",
    "\n",
    "eaf_source = Episodic_Accessor_Factory(\n",
    "    labels=p.labels_source,\n",
    "    domains=p.domains_source,\n",
    "    num_examples_per_domain_per_label=p.num_examples_per_domain_per_label_source,\n",
    "    iterator_seed=p.seed,\n",
    "    dataset_seed=p.dataset_seed,\n",
    "    n_shot=p.n_shot,\n",
    "    n_way=p.n_way,\n",
    "    n_query=p.n_query,\n",
    "    train_val_test_k_factors=(p.train_k_factor,p.val_k_factor,p.test_k_factor),\n",
    "    pickle_path=os.path.join(get_datasets_base_path(), p.pickle_name),\n",
    "    x_transform_func=x_transform_source,\n",
    "    example_transform_func=episode_transform_source,\n",
    "    \n",
    ")\n",
    "train_original_source, val_original_source, test_original_source = eaf_source.get_train(), eaf_source.get_val(), eaf_source.get_test()\n",
    "\n",
    "\n",
    "eaf_target = Episodic_Accessor_Factory(\n",
    "    labels=p.labels_target,\n",
    "    domains=p.domains_target,\n",
    "    num_examples_per_domain_per_label=p.num_examples_per_domain_per_label_target,\n",
    "    iterator_seed=p.seed,\n",
    "    dataset_seed=p.dataset_seed,\n",
    "    n_shot=p.n_shot,\n",
    "    n_way=p.n_way,\n",
    "    n_query=p.n_query,\n",
    "    train_val_test_k_factors=(p.train_k_factor,p.val_k_factor,p.test_k_factor),\n",
    "    pickle_path=os.path.join(get_datasets_base_path(), p.pickle_name),\n",
    "    x_transform_func=x_transform_target,\n",
    "    example_transform_func=episode_transform_target,\n",
    ")\n",
    "train_original_target, val_original_target, test_original_target = eaf_target.get_train(), eaf_target.get_val(), eaf_target.get_test()\n",
    "\n",
    "\n",
    "transform_lambda = lambda ex: ex[1] # Original is (<domain>, <episode>) so we strip down to episode only\n",
    "\n",
    "train_processed_source = Lazy_Iterable_Wrapper(train_original_source, transform_lambda)\n",
    "val_processed_source   = Lazy_Iterable_Wrapper(val_original_source, transform_lambda)\n",
    "test_processed_source  = Lazy_Iterable_Wrapper(test_original_source, transform_lambda)\n",
    "\n",
    "train_processed_target = Lazy_Iterable_Wrapper(train_original_target, transform_lambda)\n",
    "val_processed_target   = Lazy_Iterable_Wrapper(val_original_target, transform_lambda)\n",
    "test_processed_target  = Lazy_Iterable_Wrapper(test_original_target, transform_lambda)\n",
    "\n",
    "datasets = EasyDict({\n",
    "    \"source\": {\n",
    "        \"original\": {\"train\":train_original_source, \"val\":val_original_source, \"test\":test_original_source},\n",
    "        \"processed\": {\"train\":train_processed_source, \"val\":val_processed_source, \"test\":test_processed_source}\n",
    "    },\n",
    "    \"target\": {\n",
    "        \"original\": {\"train\":train_original_target, \"val\":val_original_target, \"test\":test_original_target},\n",
    "        \"processed\": {\"train\":train_processed_target, \"val\":val_processed_target, \"test\":test_processed_target}\n",
    "    },\n",
    "})"
   ]
  },
  {
   "cell_type": "code",
   "execution_count": 11,
   "id": "296189d9",
   "metadata": {
    "execution": {
     "iopub.execute_input": "2022-03-04T04:43:33.050688Z",
     "iopub.status.busy": "2022-03-04T04:43:33.048347Z",
     "iopub.status.idle": "2022-03-04T04:43:35.557899Z",
     "shell.execute_reply": "2022-03-04T04:43:35.557389Z"
    },
    "papermill": {
     "duration": 2.524081,
     "end_time": "2022-03-04T04:43:35.558003",
     "exception": false,
     "start_time": "2022-03-04T04:43:33.033922",
     "status": "completed"
    },
    "tags": []
   },
   "outputs": [
    {
     "name": "stdout",
     "output_type": "stream",
     "text": [
      "Visually inspect these to see if they line up with expected values given the transforms\n",
      "x_transforms_source []\n",
      "x_transforms_target []\n",
      "Average magnitude, source: 0.004635015\n",
      "Average power, source: 2.8574976e-05\n"
     ]
    },
    {
     "name": "stdout",
     "output_type": "stream",
     "text": [
      "Average magnitude, target: 0.0029128897\n",
      "Average power, target: 1.0910343e-05\n"
     ]
    }
   ],
   "source": [
    "# Some quick unit tests on the data\n",
    "from steves_utils.transforms import get_average_power, get_average_magnitude\n",
    "\n",
    "q_x, q_y, s_x, s_y, truth = next(iter(train_processed_source))\n",
    "\n",
    "assert q_x.dtype == eval(p.torch_default_dtype)\n",
    "assert s_x.dtype == eval(p.torch_default_dtype)\n",
    "\n",
    "print(\"Visually inspect these to see if they line up with expected values given the transforms\")\n",
    "print('x_transforms_source', p.x_transforms_source)\n",
    "print('x_transforms_target', p.x_transforms_target)\n",
    "print(\"Average magnitude, source:\", get_average_magnitude(q_x[0].numpy()))\n",
    "print(\"Average power, source:\", get_average_power(q_x[0].numpy()))\n",
    "\n",
    "q_x, q_y, s_x, s_y, truth = next(iter(train_processed_target))\n",
    "print(\"Average magnitude, target:\", get_average_magnitude(q_x[0].numpy()))\n",
    "print(\"Average power, target:\", get_average_power(q_x[0].numpy()))\n"
   ]
  },
  {
   "cell_type": "code",
   "execution_count": 12,
   "id": "bbdacba1",
   "metadata": {
    "execution": {
     "iopub.execute_input": "2022-03-04T04:43:35.592241Z",
     "iopub.status.busy": "2022-03-04T04:43:35.585331Z",
     "iopub.status.idle": "2022-03-04T04:43:35.643979Z",
     "shell.execute_reply": "2022-03-04T04:43:35.644395Z"
    },
    "papermill": {
     "duration": 0.072162,
     "end_time": "2022-03-04T04:43:35.644527",
     "exception": false,
     "start_time": "2022-03-04T04:43:35.572365",
     "status": "completed"
    },
    "tags": []
   },
   "outputs": [
    {
     "name": "stdout",
     "output_type": "stream",
     "text": [
      "(2, 256)\n"
     ]
    }
   ],
   "source": [
    "###################################\n",
    "# Build the model\n",
    "###################################\n",
    "model = Steves_Prototypical_Network(x_net, device=p.device, x_shape=(2,256))\n",
    "optimizer = Adam(params=model.parameters(), lr=p.lr)"
   ]
  },
  {
   "cell_type": "code",
   "execution_count": 13,
   "id": "22b39ac5",
   "metadata": {
    "execution": {
     "iopub.execute_input": "2022-03-04T04:43:35.675713Z",
     "iopub.status.busy": "2022-03-04T04:43:35.674017Z",
     "iopub.status.idle": "2022-03-04T04:56:29.873963Z",
     "shell.execute_reply": "2022-03-04T04:56:29.873735Z"
    },
    "papermill": {
     "duration": 774.213141,
     "end_time": "2022-03-04T04:56:29.874027",
     "exception": false,
     "start_time": "2022-03-04T04:43:35.660886",
     "status": "completed"
    },
    "tags": []
   },
   "outputs": [
    {
     "name": "stdout",
     "output_type": "stream",
     "text": [
      "epoch: 1, [batch: 1 / 420], examples_per_second: 9.4182, train_label_loss: 1.5720, \n"
     ]
    },
    {
     "name": "stdout",
     "output_type": "stream",
     "text": [
      "epoch: 1, [batch: 42 / 420], examples_per_second: 841.8001, train_label_loss: 1.7959, \n"
     ]
    },
    {
     "name": "stdout",
     "output_type": "stream",
     "text": [
      "epoch: 1, [batch: 84 / 420], examples_per_second: 905.1482, train_label_loss: 1.5422, \n"
     ]
    },
    {
     "name": "stdout",
     "output_type": "stream",
     "text": [
      "epoch: 1, [batch: 126 / 420], examples_per_second: 970.4804, train_label_loss: 1.2357, \n"
     ]
    },
    {
     "name": "stdout",
     "output_type": "stream",
     "text": [
      "epoch: 1, [batch: 168 / 420], examples_per_second: 1101.3412, train_label_loss: 1.0993, \n"
     ]
    },
    {
     "name": "stdout",
     "output_type": "stream",
     "text": [
      "epoch: 1, [batch: 210 / 420], examples_per_second: 1195.4898, train_label_loss: 1.3858, \n"
     ]
    },
    {
     "name": "stdout",
     "output_type": "stream",
     "text": [
      "epoch: 1, [batch: 252 / 420], examples_per_second: 1420.9179, train_label_loss: 1.2631, \n"
     ]
    },
    {
     "name": "stdout",
     "output_type": "stream",
     "text": [
      "epoch: 1, [batch: 294 / 420], examples_per_second: 1547.9943, train_label_loss: 1.0482, \n"
     ]
    },
    {
     "name": "stdout",
     "output_type": "stream",
     "text": [
      "epoch: 1, [batch: 336 / 420], examples_per_second: 1851.3014, train_label_loss: 1.1481, \n"
     ]
    },
    {
     "name": "stdout",
     "output_type": "stream",
     "text": [
      "epoch: 1, [batch: 378 / 420], examples_per_second: 2276.9593, train_label_loss: 1.2816, \n"
     ]
    },
    {
     "name": "stdout",
     "output_type": "stream",
     "text": [
      "=============================================================\n",
      "epoch: 1, source_val_acc_label: 0.4785, target_val_acc_label: 0.3927, source_val_label_loss: 1.8360, target_val_label_loss: 1.9863, \n",
      "=============================================================\n"
     ]
    },
    {
     "name": "stdout",
     "output_type": "stream",
     "text": [
      "New best\n"
     ]
    },
    {
     "name": "stdout",
     "output_type": "stream",
     "text": [
      "epoch: 2, [batch: 1 / 420], examples_per_second: 5.3303, train_label_loss: 1.3805, \n"
     ]
    },
    {
     "name": "stdout",
     "output_type": "stream",
     "text": [
      "epoch: 2, [batch: 42 / 420], examples_per_second: 819.9941, train_label_loss: 1.3465, \n"
     ]
    },
    {
     "name": "stdout",
     "output_type": "stream",
     "text": [
      "epoch: 2, [batch: 84 / 420], examples_per_second: 896.7118, train_label_loss: 1.1472, \n"
     ]
    },
    {
     "name": "stdout",
     "output_type": "stream",
     "text": [
      "epoch: 2, [batch: 126 / 420], examples_per_second: 969.7655, train_label_loss: 1.3168, \n"
     ]
    },
    {
     "name": "stdout",
     "output_type": "stream",
     "text": [
      "epoch: 2, [batch: 168 / 420], examples_per_second: 1089.5008, train_label_loss: 1.4031, \n"
     ]
    },
    {
     "name": "stdout",
     "output_type": "stream",
     "text": [
      "epoch: 2, [batch: 210 / 420], examples_per_second: 1235.6231, train_label_loss: 1.4261, \n"
     ]
    },
    {
     "name": "stdout",
     "output_type": "stream",
     "text": [
      "epoch: 2, [batch: 252 / 420], examples_per_second: 1384.6028, train_label_loss: 1.1541, \n"
     ]
    },
    {
     "name": "stdout",
     "output_type": "stream",
     "text": [
      "epoch: 2, [batch: 294 / 420], examples_per_second: 1612.6873, train_label_loss: 1.3000, \n"
     ]
    },
    {
     "name": "stdout",
     "output_type": "stream",
     "text": [
      "epoch: 2, [batch: 336 / 420], examples_per_second: 1924.9174, train_label_loss: 1.3740, \n"
     ]
    },
    {
     "name": "stdout",
     "output_type": "stream",
     "text": [
      "epoch: 2, [batch: 378 / 420], examples_per_second: 2334.1143, train_label_loss: 1.3275, \n"
     ]
    },
    {
     "name": "stdout",
     "output_type": "stream",
     "text": [
      "=============================================================\n",
      "epoch: 2, source_val_acc_label: 0.4618, target_val_acc_label: 0.3846, source_val_label_loss: 1.3364, target_val_label_loss: 1.5866, \n",
      "=============================================================\n"
     ]
    },
    {
     "name": "stdout",
     "output_type": "stream",
     "text": [
      "New best\n"
     ]
    },
    {
     "name": "stdout",
     "output_type": "stream",
     "text": [
      "epoch: 3, [batch: 1 / 420], examples_per_second: 5.2628, train_label_loss: 1.2751, \n"
     ]
    },
    {
     "name": "stdout",
     "output_type": "stream",
     "text": [
      "epoch: 3, [batch: 42 / 420], examples_per_second: 815.0273, train_label_loss: 1.1459, \n"
     ]
    },
    {
     "name": "stdout",
     "output_type": "stream",
     "text": [
      "epoch: 3, [batch: 84 / 420], examples_per_second: 898.6859, train_label_loss: 1.2932, \n"
     ]
    },
    {
     "name": "stdout",
     "output_type": "stream",
     "text": [
      "epoch: 3, [batch: 126 / 420], examples_per_second: 956.8825, train_label_loss: 1.4330, \n"
     ]
    },
    {
     "name": "stdout",
     "output_type": "stream",
     "text": [
      "epoch: 3, [batch: 168 / 420], examples_per_second: 1077.4967, train_label_loss: 1.2450, \n"
     ]
    },
    {
     "name": "stdout",
     "output_type": "stream",
     "text": [
      "epoch: 3, [batch: 210 / 420], examples_per_second: 1197.3030, train_label_loss: 1.4041, \n"
     ]
    },
    {
     "name": "stdout",
     "output_type": "stream",
     "text": [
      "epoch: 3, [batch: 252 / 420], examples_per_second: 1366.5263, train_label_loss: 1.6135, \n"
     ]
    },
    {
     "name": "stdout",
     "output_type": "stream",
     "text": [
      "epoch: 3, [batch: 294 / 420], examples_per_second: 1601.3156, train_label_loss: 1.4630, \n"
     ]
    },
    {
     "name": "stdout",
     "output_type": "stream",
     "text": [
      "epoch: 3, [batch: 336 / 420], examples_per_second: 1958.7168, train_label_loss: 1.1603, \n"
     ]
    },
    {
     "name": "stdout",
     "output_type": "stream",
     "text": [
      "epoch: 3, [batch: 378 / 420], examples_per_second: 2351.6973, train_label_loss: 0.6919, \n"
     ]
    },
    {
     "name": "stdout",
     "output_type": "stream",
     "text": [
      "=============================================================\n",
      "epoch: 3, source_val_acc_label: 0.6510, target_val_acc_label: 0.4952, source_val_label_loss: 0.9445, target_val_label_loss: 1.6043, \n",
      "=============================================================\n"
     ]
    },
    {
     "name": "stdout",
     "output_type": "stream",
     "text": [
      "epoch: 4, [batch: 1 / 420], examples_per_second: 5.3684, train_label_loss: 1.0236, \n"
     ]
    },
    {
     "name": "stdout",
     "output_type": "stream",
     "text": [
      "epoch: 4, [batch: 42 / 420], examples_per_second: 830.3606, train_label_loss: 1.0723, \n"
     ]
    },
    {
     "name": "stdout",
     "output_type": "stream",
     "text": [
      "epoch: 4, [batch: 84 / 420], examples_per_second: 895.4285, train_label_loss: 0.8627, \n"
     ]
    },
    {
     "name": "stdout",
     "output_type": "stream",
     "text": [
      "epoch: 4, [batch: 126 / 420], examples_per_second: 992.1273, train_label_loss: 0.8588, \n"
     ]
    },
    {
     "name": "stdout",
     "output_type": "stream",
     "text": [
      "epoch: 4, [batch: 168 / 420], examples_per_second: 1076.4746, train_label_loss: 1.2262, \n"
     ]
    },
    {
     "name": "stdout",
     "output_type": "stream",
     "text": [
      "epoch: 4, [batch: 210 / 420], examples_per_second: 1211.1530, train_label_loss: 0.5010, \n"
     ]
    },
    {
     "name": "stdout",
     "output_type": "stream",
     "text": [
      "epoch: 4, [batch: 252 / 420], examples_per_second: 1387.5156, train_label_loss: 1.2068, \n"
     ]
    },
    {
     "name": "stdout",
     "output_type": "stream",
     "text": [
      "epoch: 4, [batch: 294 / 420], examples_per_second: 1615.4304, train_label_loss: 0.9084, \n"
     ]
    },
    {
     "name": "stdout",
     "output_type": "stream",
     "text": [
      "epoch: 4, [batch: 336 / 420], examples_per_second: 1951.1508, train_label_loss: 1.1888, \n"
     ]
    },
    {
     "name": "stdout",
     "output_type": "stream",
     "text": [
      "epoch: 4, [batch: 378 / 420], examples_per_second: 2348.0229, train_label_loss: 0.6668, \n"
     ]
    },
    {
     "name": "stdout",
     "output_type": "stream",
     "text": [
      "=============================================================\n",
      "epoch: 4, source_val_acc_label: 0.7005, target_val_acc_label: 0.5344, source_val_label_loss: 0.8159, target_val_label_loss: 1.4017, \n",
      "=============================================================\n"
     ]
    },
    {
     "name": "stdout",
     "output_type": "stream",
     "text": [
      "New best\n"
     ]
    },
    {
     "name": "stdout",
     "output_type": "stream",
     "text": [
      "epoch: 5, [batch: 1 / 420], examples_per_second: 5.2474, train_label_loss: 0.7500, \n"
     ]
    },
    {
     "name": "stdout",
     "output_type": "stream",
     "text": [
      "epoch: 5, [batch: 42 / 420], examples_per_second: 818.3638, train_label_loss: 0.7277, \n"
     ]
    },
    {
     "name": "stdout",
     "output_type": "stream",
     "text": [
      "epoch: 5, [batch: 84 / 420], examples_per_second: 897.0206, train_label_loss: 0.5265, \n"
     ]
    },
    {
     "name": "stdout",
     "output_type": "stream",
     "text": [
      "epoch: 5, [batch: 126 / 420], examples_per_second: 976.0479, train_label_loss: 0.6391, \n"
     ]
    },
    {
     "name": "stdout",
     "output_type": "stream",
     "text": [
      "epoch: 5, [batch: 168 / 420], examples_per_second: 1071.1879, train_label_loss: 0.5578, \n"
     ]
    },
    {
     "name": "stdout",
     "output_type": "stream",
     "text": [
      "epoch: 5, [batch: 210 / 420], examples_per_second: 1172.8815, train_label_loss: 0.7551, \n"
     ]
    },
    {
     "name": "stdout",
     "output_type": "stream",
     "text": [
      "epoch: 5, [batch: 252 / 420], examples_per_second: 1392.2279, train_label_loss: 0.3327, \n"
     ]
    },
    {
     "name": "stdout",
     "output_type": "stream",
     "text": [
      "epoch: 5, [batch: 294 / 420], examples_per_second: 1610.0234, train_label_loss: 0.8160, \n"
     ]
    },
    {
     "name": "stdout",
     "output_type": "stream",
     "text": [
      "epoch: 5, [batch: 336 / 420], examples_per_second: 1911.4713, train_label_loss: 0.8254, \n"
     ]
    },
    {
     "name": "stdout",
     "output_type": "stream",
     "text": [
      "epoch: 5, [batch: 378 / 420], examples_per_second: 2364.7042, train_label_loss: 0.9846, \n"
     ]
    },
    {
     "name": "stdout",
     "output_type": "stream",
     "text": [
      "=============================================================\n",
      "epoch: 5, source_val_acc_label: 0.7337, target_val_acc_label: 0.5621, source_val_label_loss: 0.7092, target_val_label_loss: 1.2828, \n",
      "=============================================================\n"
     ]
    },
    {
     "name": "stdout",
     "output_type": "stream",
     "text": [
      "New best\n"
     ]
    },
    {
     "name": "stdout",
     "output_type": "stream",
     "text": [
      "epoch: 6, [batch: 1 / 420], examples_per_second: 5.2439, train_label_loss: 0.5345, \n"
     ]
    },
    {
     "name": "stdout",
     "output_type": "stream",
     "text": [
      "epoch: 6, [batch: 42 / 420], examples_per_second: 793.7123, train_label_loss: 0.4474, \n"
     ]
    },
    {
     "name": "stdout",
     "output_type": "stream",
     "text": [
      "epoch: 6, [batch: 84 / 420], examples_per_second: 879.9284, train_label_loss: 0.8924, \n"
     ]
    },
    {
     "name": "stdout",
     "output_type": "stream",
     "text": [
      "epoch: 6, [batch: 126 / 420], examples_per_second: 971.3887, train_label_loss: 0.3772, \n"
     ]
    },
    {
     "name": "stdout",
     "output_type": "stream",
     "text": [
      "epoch: 6, [batch: 168 / 420], examples_per_second: 1057.5069, train_label_loss: 0.7431, \n"
     ]
    },
    {
     "name": "stdout",
     "output_type": "stream",
     "text": [
      "epoch: 6, [batch: 210 / 420], examples_per_second: 1197.0150, train_label_loss: 0.4926, \n"
     ]
    },
    {
     "name": "stdout",
     "output_type": "stream",
     "text": [
      "epoch: 6, [batch: 252 / 420], examples_per_second: 1348.4344, train_label_loss: 0.5051, \n"
     ]
    },
    {
     "name": "stdout",
     "output_type": "stream",
     "text": [
      "epoch: 6, [batch: 294 / 420], examples_per_second: 1633.8710, train_label_loss: 0.7451, \n"
     ]
    },
    {
     "name": "stdout",
     "output_type": "stream",
     "text": [
      "epoch: 6, [batch: 336 / 420], examples_per_second: 1857.4865, train_label_loss: 0.7834, \n"
     ]
    },
    {
     "name": "stdout",
     "output_type": "stream",
     "text": [
      "epoch: 6, [batch: 378 / 420], examples_per_second: 2333.9960, train_label_loss: 0.6937, \n"
     ]
    },
    {
     "name": "stdout",
     "output_type": "stream",
     "text": [
      "=============================================================\n",
      "epoch: 6, source_val_acc_label: 0.7469, target_val_acc_label: 0.5872, source_val_label_loss: 0.6786, target_val_label_loss: 1.2104, \n",
      "=============================================================\n"
     ]
    },
    {
     "name": "stdout",
     "output_type": "stream",
     "text": [
      "New best\n"
     ]
    },
    {
     "name": "stdout",
     "output_type": "stream",
     "text": [
      "epoch: 7, [batch: 1 / 420], examples_per_second: 5.2492, train_label_loss: 0.4272, \n"
     ]
    },
    {
     "name": "stdout",
     "output_type": "stream",
     "text": [
      "epoch: 7, [batch: 42 / 420], examples_per_second: 822.9199, train_label_loss: 0.6830, \n"
     ]
    },
    {
     "name": "stdout",
     "output_type": "stream",
     "text": [
      "epoch: 7, [batch: 84 / 420], examples_per_second: 885.1200, train_label_loss: 0.4962, \n"
     ]
    },
    {
     "name": "stdout",
     "output_type": "stream",
     "text": [
      "epoch: 7, [batch: 126 / 420], examples_per_second: 955.6833, train_label_loss: 1.1435, \n"
     ]
    },
    {
     "name": "stdout",
     "output_type": "stream",
     "text": [
      "epoch: 7, [batch: 168 / 420], examples_per_second: 1054.9643, train_label_loss: 0.2815, \n"
     ]
    },
    {
     "name": "stdout",
     "output_type": "stream",
     "text": [
      "epoch: 7, [batch: 210 / 420], examples_per_second: 1210.9630, train_label_loss: 0.3349, \n"
     ]
    },
    {
     "name": "stdout",
     "output_type": "stream",
     "text": [
      "epoch: 7, [batch: 252 / 420], examples_per_second: 1342.9792, train_label_loss: 0.7948, \n"
     ]
    },
    {
     "name": "stdout",
     "output_type": "stream",
     "text": [
      "epoch: 7, [batch: 294 / 420], examples_per_second: 1581.9874, train_label_loss: 0.4500, \n"
     ]
    },
    {
     "name": "stdout",
     "output_type": "stream",
     "text": [
      "epoch: 7, [batch: 336 / 420], examples_per_second: 1847.7653, train_label_loss: 0.8167, \n"
     ]
    },
    {
     "name": "stdout",
     "output_type": "stream",
     "text": [
      "epoch: 7, [batch: 378 / 420], examples_per_second: 2342.2706, train_label_loss: 0.7152, \n"
     ]
    },
    {
     "name": "stdout",
     "output_type": "stream",
     "text": [
      "=============================================================\n",
      "epoch: 7, source_val_acc_label: 0.7453, target_val_acc_label: 0.5779, source_val_label_loss: 0.6789, target_val_label_loss: 1.2471, \n",
      "=============================================================\n"
     ]
    },
    {
     "name": "stdout",
     "output_type": "stream",
     "text": [
      "epoch: 8, [batch: 1 / 420], examples_per_second: 5.2635, train_label_loss: 0.3835, \n"
     ]
    },
    {
     "name": "stdout",
     "output_type": "stream",
     "text": [
      "epoch: 8, [batch: 42 / 420], examples_per_second: 815.9089, train_label_loss: 0.6413, \n"
     ]
    },
    {
     "name": "stdout",
     "output_type": "stream",
     "text": [
      "epoch: 8, [batch: 84 / 420], examples_per_second: 903.2459, train_label_loss: 0.2115, \n"
     ]
    },
    {
     "name": "stdout",
     "output_type": "stream",
     "text": [
      "epoch: 8, [batch: 126 / 420], examples_per_second: 960.6164, train_label_loss: 0.4373, \n"
     ]
    },
    {
     "name": "stdout",
     "output_type": "stream",
     "text": [
      "epoch: 8, [batch: 168 / 420], examples_per_second: 1121.1778, train_label_loss: 0.4005, \n"
     ]
    },
    {
     "name": "stdout",
     "output_type": "stream",
     "text": [
      "epoch: 8, [batch: 210 / 420], examples_per_second: 1213.7487, train_label_loss: 0.7917, \n"
     ]
    },
    {
     "name": "stdout",
     "output_type": "stream",
     "text": [
      "epoch: 8, [batch: 252 / 420], examples_per_second: 1420.7076, train_label_loss: 0.5295, \n"
     ]
    },
    {
     "name": "stdout",
     "output_type": "stream",
     "text": [
      "epoch: 8, [batch: 294 / 420], examples_per_second: 1591.7871, train_label_loss: 0.6335, \n"
     ]
    },
    {
     "name": "stdout",
     "output_type": "stream",
     "text": [
      "epoch: 8, [batch: 336 / 420], examples_per_second: 1798.6732, train_label_loss: 0.7501, \n"
     ]
    },
    {
     "name": "stdout",
     "output_type": "stream",
     "text": [
      "epoch: 8, [batch: 378 / 420], examples_per_second: 2104.5926, train_label_loss: 0.5464, \n"
     ]
    },
    {
     "name": "stdout",
     "output_type": "stream",
     "text": [
      "=============================================================\n",
      "epoch: 8, source_val_acc_label: 0.7623, target_val_acc_label: 0.6099, source_val_label_loss: 0.6765, target_val_label_loss: 1.1968, \n",
      "=============================================================\n"
     ]
    },
    {
     "name": "stdout",
     "output_type": "stream",
     "text": [
      "New best\n"
     ]
    },
    {
     "name": "stdout",
     "output_type": "stream",
     "text": [
      "epoch: 9, [batch: 1 / 420], examples_per_second: 5.2313, train_label_loss: 0.6107, \n"
     ]
    },
    {
     "name": "stdout",
     "output_type": "stream",
     "text": [
      "epoch: 9, [batch: 42 / 420], examples_per_second: 825.4476, train_label_loss: 0.4632, \n"
     ]
    },
    {
     "name": "stdout",
     "output_type": "stream",
     "text": [
      "epoch: 9, [batch: 84 / 420], examples_per_second: 892.5290, train_label_loss: 0.4230, \n"
     ]
    },
    {
     "name": "stdout",
     "output_type": "stream",
     "text": [
      "epoch: 9, [batch: 126 / 420], examples_per_second: 956.5133, train_label_loss: 0.5844, \n"
     ]
    },
    {
     "name": "stdout",
     "output_type": "stream",
     "text": [
      "epoch: 9, [batch: 168 / 420], examples_per_second: 1069.0201, train_label_loss: 0.6090, \n"
     ]
    },
    {
     "name": "stdout",
     "output_type": "stream",
     "text": [
      "epoch: 9, [batch: 210 / 420], examples_per_second: 1201.3017, train_label_loss: 0.2954, \n"
     ]
    },
    {
     "name": "stdout",
     "output_type": "stream",
     "text": [
      "epoch: 9, [batch: 252 / 420], examples_per_second: 1356.3045, train_label_loss: 0.5864, \n"
     ]
    },
    {
     "name": "stdout",
     "output_type": "stream",
     "text": [
      "epoch: 9, [batch: 294 / 420], examples_per_second: 1531.3251, train_label_loss: 0.8073, \n"
     ]
    },
    {
     "name": "stdout",
     "output_type": "stream",
     "text": [
      "epoch: 9, [batch: 336 / 420], examples_per_second: 1884.1170, train_label_loss: 0.6450, \n"
     ]
    },
    {
     "name": "stdout",
     "output_type": "stream",
     "text": [
      "epoch: 9, [batch: 378 / 420], examples_per_second: 2317.6937, train_label_loss: 0.6723, \n"
     ]
    },
    {
     "name": "stdout",
     "output_type": "stream",
     "text": [
      "=============================================================\n",
      "epoch: 9, source_val_acc_label: 0.7516, target_val_acc_label: 0.5946, source_val_label_loss: 0.6641, target_val_label_loss: 1.2538, \n",
      "=============================================================\n"
     ]
    },
    {
     "name": "stdout",
     "output_type": "stream",
     "text": [
      "epoch: 10, [batch: 1 / 420], examples_per_second: 5.2487, train_label_loss: 0.6017, \n"
     ]
    },
    {
     "name": "stdout",
     "output_type": "stream",
     "text": [
      "epoch: 10, [batch: 42 / 420], examples_per_second: 837.0216, train_label_loss: 0.5791, \n"
     ]
    },
    {
     "name": "stdout",
     "output_type": "stream",
     "text": [
      "epoch: 10, [batch: 84 / 420], examples_per_second: 893.3308, train_label_loss: 0.5303, \n"
     ]
    },
    {
     "name": "stdout",
     "output_type": "stream",
     "text": [
      "epoch: 10, [batch: 126 / 420], examples_per_second: 955.2029, train_label_loss: 0.5270, \n"
     ]
    },
    {
     "name": "stdout",
     "output_type": "stream",
     "text": [
      "epoch: 10, [batch: 168 / 420], examples_per_second: 1089.5574, train_label_loss: 0.7598, \n"
     ]
    },
    {
     "name": "stdout",
     "output_type": "stream",
     "text": [
      "epoch: 10, [batch: 210 / 420], examples_per_second: 1209.6662, train_label_loss: 0.3995, \n"
     ]
    },
    {
     "name": "stdout",
     "output_type": "stream",
     "text": [
      "epoch: 10, [batch: 252 / 420], examples_per_second: 1366.8412, train_label_loss: 0.5399, \n"
     ]
    },
    {
     "name": "stdout",
     "output_type": "stream",
     "text": [
      "epoch: 10, [batch: 294 / 420], examples_per_second: 1626.5500, train_label_loss: 0.5156, \n"
     ]
    },
    {
     "name": "stdout",
     "output_type": "stream",
     "text": [
      "epoch: 10, [batch: 336 / 420], examples_per_second: 1884.0349, train_label_loss: 0.4239, \n"
     ]
    },
    {
     "name": "stdout",
     "output_type": "stream",
     "text": [
      "epoch: 10, [batch: 378 / 420], examples_per_second: 2333.5948, train_label_loss: 1.0563, \n"
     ]
    },
    {
     "name": "stdout",
     "output_type": "stream",
     "text": [
      "=============================================================\n",
      "epoch: 10, source_val_acc_label: 0.7524, target_val_acc_label: 0.6068, source_val_label_loss: 0.6524, target_val_label_loss: 1.1607, \n",
      "=============================================================\n"
     ]
    },
    {
     "name": "stdout",
     "output_type": "stream",
     "text": [
      "New best\n"
     ]
    },
    {
     "name": "stdout",
     "output_type": "stream",
     "text": [
      "epoch: 11, [batch: 1 / 420], examples_per_second: 5.2516, train_label_loss: 0.8054, \n"
     ]
    },
    {
     "name": "stdout",
     "output_type": "stream",
     "text": [
      "epoch: 11, [batch: 42 / 420], examples_per_second: 833.3700, train_label_loss: 0.3250, \n"
     ]
    },
    {
     "name": "stdout",
     "output_type": "stream",
     "text": [
      "epoch: 11, [batch: 84 / 420], examples_per_second: 903.9616, train_label_loss: 0.5004, \n"
     ]
    },
    {
     "name": "stdout",
     "output_type": "stream",
     "text": [
      "epoch: 11, [batch: 126 / 420], examples_per_second: 960.7235, train_label_loss: 0.7014, \n"
     ]
    },
    {
     "name": "stdout",
     "output_type": "stream",
     "text": [
      "epoch: 11, [batch: 168 / 420], examples_per_second: 1066.9500, train_label_loss: 0.6240, \n"
     ]
    },
    {
     "name": "stdout",
     "output_type": "stream",
     "text": [
      "epoch: 11, [batch: 210 / 420], examples_per_second: 1199.5116, train_label_loss: 0.6312, \n"
     ]
    },
    {
     "name": "stdout",
     "output_type": "stream",
     "text": [
      "epoch: 11, [batch: 252 / 420], examples_per_second: 1349.7275, train_label_loss: 0.1716, \n"
     ]
    },
    {
     "name": "stdout",
     "output_type": "stream",
     "text": [
      "epoch: 11, [batch: 294 / 420], examples_per_second: 1581.4002, train_label_loss: 0.5593, \n"
     ]
    },
    {
     "name": "stdout",
     "output_type": "stream",
     "text": [
      "epoch: 11, [batch: 336 / 420], examples_per_second: 1853.8133, train_label_loss: 0.6346, \n"
     ]
    },
    {
     "name": "stdout",
     "output_type": "stream",
     "text": [
      "epoch: 11, [batch: 378 / 420], examples_per_second: 2244.6241, train_label_loss: 0.4287, \n"
     ]
    },
    {
     "name": "stdout",
     "output_type": "stream",
     "text": [
      "=============================================================\n",
      "epoch: 11, source_val_acc_label: 0.7656, target_val_acc_label: 0.6147, source_val_label_loss: 0.6574, target_val_label_loss: 1.2601, \n",
      "=============================================================\n"
     ]
    },
    {
     "name": "stdout",
     "output_type": "stream",
     "text": [
      "epoch: 12, [batch: 1 / 420], examples_per_second: 5.2460, train_label_loss: 0.3011, \n"
     ]
    },
    {
     "name": "stdout",
     "output_type": "stream",
     "text": [
      "epoch: 12, [batch: 42 / 420], examples_per_second: 809.3519, train_label_loss: 0.4641, \n"
     ]
    },
    {
     "name": "stdout",
     "output_type": "stream",
     "text": [
      "epoch: 12, [batch: 84 / 420], examples_per_second: 890.9885, train_label_loss: 0.2544, \n"
     ]
    },
    {
     "name": "stdout",
     "output_type": "stream",
     "text": [
      "epoch: 12, [batch: 126 / 420], examples_per_second: 974.1206, train_label_loss: 0.6242, \n"
     ]
    },
    {
     "name": "stdout",
     "output_type": "stream",
     "text": [
      "epoch: 12, [batch: 168 / 420], examples_per_second: 1075.4956, train_label_loss: 0.6403, \n"
     ]
    },
    {
     "name": "stdout",
     "output_type": "stream",
     "text": [
      "epoch: 12, [batch: 210 / 420], examples_per_second: 1173.3935, train_label_loss: 0.3566, \n"
     ]
    },
    {
     "name": "stdout",
     "output_type": "stream",
     "text": [
      "epoch: 12, [batch: 252 / 420], examples_per_second: 1353.7507, train_label_loss: 0.8486, \n"
     ]
    },
    {
     "name": "stdout",
     "output_type": "stream",
     "text": [
      "epoch: 12, [batch: 294 / 420], examples_per_second: 1603.5959, train_label_loss: 0.7819, \n"
     ]
    },
    {
     "name": "stdout",
     "output_type": "stream",
     "text": [
      "epoch: 12, [batch: 336 / 420], examples_per_second: 1901.9292, train_label_loss: 0.3765, \n"
     ]
    },
    {
     "name": "stdout",
     "output_type": "stream",
     "text": [
      "epoch: 12, [batch: 378 / 420], examples_per_second: 2394.9062, train_label_loss: 0.4077, \n"
     ]
    },
    {
     "name": "stdout",
     "output_type": "stream",
     "text": [
      "=============================================================\n",
      "epoch: 12, source_val_acc_label: 0.7630, target_val_acc_label: 0.6147, source_val_label_loss: 0.6222, target_val_label_loss: 1.2216, \n",
      "=============================================================\n"
     ]
    },
    {
     "name": "stdout",
     "output_type": "stream",
     "text": [
      "epoch: 13, [batch: 1 / 420], examples_per_second: 5.2192, train_label_loss: 0.4309, \n"
     ]
    },
    {
     "name": "stdout",
     "output_type": "stream",
     "text": [
      "epoch: 13, [batch: 42 / 420], examples_per_second: 819.5105, train_label_loss: 0.7407, \n"
     ]
    },
    {
     "name": "stdout",
     "output_type": "stream",
     "text": [
      "epoch: 13, [batch: 84 / 420], examples_per_second: 882.4039, train_label_loss: 0.3274, \n"
     ]
    },
    {
     "name": "stdout",
     "output_type": "stream",
     "text": [
      "epoch: 13, [batch: 126 / 420], examples_per_second: 971.5339, train_label_loss: 0.4054, \n"
     ]
    },
    {
     "name": "stdout",
     "output_type": "stream",
     "text": [
      "epoch: 13, [batch: 168 / 420], examples_per_second: 1064.0056, train_label_loss: 0.5167, \n"
     ]
    },
    {
     "name": "stdout",
     "output_type": "stream",
     "text": [
      "epoch: 13, [batch: 210 / 420], examples_per_second: 1196.1866, train_label_loss: 0.8220, \n"
     ]
    },
    {
     "name": "stdout",
     "output_type": "stream",
     "text": [
      "epoch: 13, [batch: 252 / 420], examples_per_second: 1347.1139, train_label_loss: 0.2539, \n"
     ]
    },
    {
     "name": "stdout",
     "output_type": "stream",
     "text": [
      "epoch: 13, [batch: 294 / 420], examples_per_second: 1594.6765, train_label_loss: 0.5131, \n"
     ]
    },
    {
     "name": "stdout",
     "output_type": "stream",
     "text": [
      "epoch: 13, [batch: 336 / 420], examples_per_second: 1892.6050, train_label_loss: 0.5741, \n"
     ]
    },
    {
     "name": "stdout",
     "output_type": "stream",
     "text": [
      "epoch: 13, [batch: 378 / 420], examples_per_second: 2381.7462, train_label_loss: 0.2568, \n"
     ]
    },
    {
     "name": "stdout",
     "output_type": "stream",
     "text": [
      "=============================================================\n",
      "epoch: 13, source_val_acc_label: 0.7573, target_val_acc_label: 0.6202, source_val_label_loss: 0.6247, target_val_label_loss: 1.1930, \n",
      "=============================================================\n"
     ]
    },
    {
     "name": "stdout",
     "output_type": "stream",
     "text": [
      "epoch: 14, [batch: 1 / 420], examples_per_second: 5.2792, train_label_loss: 0.3921, \n"
     ]
    },
    {
     "name": "stdout",
     "output_type": "stream",
     "text": [
      "epoch: 14, [batch: 42 / 420], examples_per_second: 823.4337, train_label_loss: 0.1560, \n"
     ]
    },
    {
     "name": "stdout",
     "output_type": "stream",
     "text": [
      "epoch: 14, [batch: 84 / 420], examples_per_second: 889.2315, train_label_loss: 0.2543, \n"
     ]
    },
    {
     "name": "stdout",
     "output_type": "stream",
     "text": [
      "epoch: 14, [batch: 126 / 420], examples_per_second: 965.3702, train_label_loss: 0.4576, \n"
     ]
    },
    {
     "name": "stdout",
     "output_type": "stream",
     "text": [
      "epoch: 14, [batch: 168 / 420], examples_per_second: 1074.5337, train_label_loss: 0.3360, \n"
     ]
    },
    {
     "name": "stdout",
     "output_type": "stream",
     "text": [
      "epoch: 14, [batch: 210 / 420], examples_per_second: 1180.8764, train_label_loss: 0.5384, \n"
     ]
    },
    {
     "name": "stdout",
     "output_type": "stream",
     "text": [
      "epoch: 14, [batch: 252 / 420], examples_per_second: 1364.3351, train_label_loss: 0.4270, \n"
     ]
    },
    {
     "name": "stdout",
     "output_type": "stream",
     "text": [
      "epoch: 14, [batch: 294 / 420], examples_per_second: 1631.2051, train_label_loss: 0.4455, \n"
     ]
    },
    {
     "name": "stdout",
     "output_type": "stream",
     "text": [
      "epoch: 14, [batch: 336 / 420], examples_per_second: 1866.3864, train_label_loss: 0.5181, \n"
     ]
    },
    {
     "name": "stdout",
     "output_type": "stream",
     "text": [
      "epoch: 14, [batch: 378 / 420], examples_per_second: 2357.2744, train_label_loss: 0.4607, \n"
     ]
    },
    {
     "name": "stdout",
     "output_type": "stream",
     "text": [
      "=============================================================\n",
      "epoch: 14, source_val_acc_label: 0.7615, target_val_acc_label: 0.6162, source_val_label_loss: 0.6568, target_val_label_loss: 1.1888, \n",
      "=============================================================\n"
     ]
    },
    {
     "name": "stdout",
     "output_type": "stream",
     "text": [
      "Patience (3) exhausted\n"
     ]
    }
   ],
   "source": [
    "###################################\n",
    "# train\n",
    "###################################\n",
    "jig = PTN_Train_Eval_Test_Jig(model, p.BEST_MODEL_PATH, p.device)\n",
    "\n",
    "jig.train(\n",
    "    train_iterable=datasets.source.processed.train,\n",
    "    source_val_iterable=datasets.source.processed.val,\n",
    "    target_val_iterable=datasets.target.processed.val,\n",
    "    num_epochs=p.n_epoch,\n",
    "    num_logs_per_epoch=p.NUM_LOGS_PER_EPOCH,\n",
    "    patience=p.patience,\n",
    "    optimizer=optimizer,\n",
    "    criteria_for_best=p.criteria_for_best,\n",
    ")"
   ]
  },
  {
   "cell_type": "code",
   "execution_count": 14,
   "id": "31e8fabf",
   "metadata": {
    "execution": {
     "iopub.execute_input": "2022-03-04T04:56:29.956532Z",
     "iopub.status.busy": "2022-03-04T04:56:29.956271Z",
     "iopub.status.idle": "2022-03-04T04:56:29.972296Z",
     "shell.execute_reply": "2022-03-04T04:56:29.971835Z"
    },
    "papermill": {
     "duration": 0.058543,
     "end_time": "2022-03-04T04:56:29.972405",
     "exception": false,
     "start_time": "2022-03-04T04:56:29.913862",
     "status": "completed"
    },
    "tags": []
   },
   "outputs": [],
   "source": [
    "total_experiment_time_secs = time.time() - start_time_secs"
   ]
  },
  {
   "cell_type": "code",
   "execution_count": 15,
   "id": "87b9595b",
   "metadata": {
    "execution": {
     "iopub.execute_input": "2022-03-04T04:56:30.062807Z",
     "iopub.status.busy": "2022-03-04T04:56:30.062181Z",
     "iopub.status.idle": "2022-03-04T04:58:00.501573Z",
     "shell.execute_reply": "2022-03-04T04:58:00.501880Z"
    },
    "papermill": {
     "duration": 90.484782,
     "end_time": "2022-03-04T04:58:00.501989",
     "exception": false,
     "start_time": "2022-03-04T04:56:30.017207",
     "status": "completed"
    },
    "tags": []
   },
   "outputs": [],
   "source": [
    "###################################\n",
    "# Evaluate the model\n",
    "###################################\n",
    "source_test_label_accuracy, source_test_label_loss = jig.test(datasets.source.processed.test)\n",
    "target_test_label_accuracy, target_test_label_loss = jig.test(datasets.target.processed.test)\n",
    "\n",
    "source_val_label_accuracy, source_val_label_loss = jig.test(datasets.source.processed.val)\n",
    "target_val_label_accuracy, target_val_label_loss = jig.test(datasets.target.processed.val)\n",
    "\n",
    "history = jig.get_history()\n",
    "\n",
    "total_epochs_trained = len(history[\"epoch_indices\"])\n",
    "\n",
    "val_dl = Iterable_Aggregator((datasets.source.original.val,datasets.target.original.val))\n",
    "\n",
    "confusion = ptn_confusion_by_domain_over_dataloader(model, p.device, val_dl)\n",
    "per_domain_accuracy = per_domain_accuracy_from_confusion(confusion)\n",
    "\n",
    "# Add a key to per_domain_accuracy for if it was a source domain\n",
    "for domain, accuracy in per_domain_accuracy.items():\n",
    "    per_domain_accuracy[domain] = {\n",
    "        \"accuracy\": accuracy,\n",
    "        \"source?\": domain in p.domains_source\n",
    "    }\n",
    "\n",
    "# Do an independent accuracy assesment JUST TO BE SURE!\n",
    "# _source_test_label_accuracy = independent_accuracy_assesment(model, datasets.source.processed.test, p.device)\n",
    "# _target_test_label_accuracy = independent_accuracy_assesment(model, datasets.target.processed.test, p.device)\n",
    "# _source_val_label_accuracy = independent_accuracy_assesment(model, datasets.source.processed.val, p.device)\n",
    "# _target_val_label_accuracy = independent_accuracy_assesment(model, datasets.target.processed.val, p.device)\n",
    "\n",
    "# assert(_source_test_label_accuracy == source_test_label_accuracy)\n",
    "# assert(_target_test_label_accuracy == target_test_label_accuracy)\n",
    "# assert(_source_val_label_accuracy == source_val_label_accuracy)\n",
    "# assert(_target_val_label_accuracy == target_val_label_accuracy)\n",
    "\n",
    "experiment = {\n",
    "    \"experiment_name\": p.experiment_name,\n",
    "    \"parameters\": dict(p),\n",
    "    \"results\": {\n",
    "        \"source_test_label_accuracy\": source_test_label_accuracy,\n",
    "        \"source_test_label_loss\": source_test_label_loss,\n",
    "        \"target_test_label_accuracy\": target_test_label_accuracy,\n",
    "        \"target_test_label_loss\": target_test_label_loss,\n",
    "        \"source_val_label_accuracy\": source_val_label_accuracy,\n",
    "        \"source_val_label_loss\": source_val_label_loss,\n",
    "        \"target_val_label_accuracy\": target_val_label_accuracy,\n",
    "        \"target_val_label_loss\": target_val_label_loss,\n",
    "        \"total_epochs_trained\": total_epochs_trained,\n",
    "        \"total_experiment_time_secs\": total_experiment_time_secs,\n",
    "        \"confusion\": confusion,\n",
    "        \"per_domain_accuracy\": per_domain_accuracy,\n",
    "    },\n",
    "    \"history\": history,\n",
    "    \"dataset_metrics\": get_dataset_metrics(datasets, \"ptn\"),\n",
    "}"
   ]
  },
  {
   "cell_type": "code",
   "execution_count": 16,
   "id": "54a21829",
   "metadata": {
    "execution": {
     "iopub.execute_input": "2022-03-04T04:58:00.585440Z",
     "iopub.status.busy": "2022-03-04T04:58:00.585032Z",
     "iopub.status.idle": "2022-03-04T04:58:00.767717Z",
     "shell.execute_reply": "2022-03-04T04:58:00.767473Z"
    },
    "papermill": {
     "duration": 0.223077,
     "end_time": "2022-03-04T04:58:00.767777",
     "exception": false,
     "start_time": "2022-03-04T04:58:00.544700",
     "status": "completed"
    },
    "tags": []
   },
   "outputs": [
    {
     "data": {
      "image/png": "[encoded data removed]",
      "text/plain": [
       "<Figure size 1080x504 with 1 Axes>"
      ]
     },
     "metadata": {
      "needs_background": "light"
     },
     "output_type": "display_data"
    }
   ],
   "source": [
    "ax = get_loss_curve(experiment)\n",
    "plt.show()"
   ]
  },
  {
   "cell_type": "code",
   "execution_count": 17,
   "id": "fd8a0f60",
   "metadata": {
    "execution": {
     "iopub.execute_input": "2022-03-04T04:58:00.850181Z",
     "iopub.status.busy": "2022-03-04T04:58:00.849774Z",
     "iopub.status.idle": "2022-03-04T04:58:01.100788Z",
     "shell.execute_reply": "2022-03-04T04:58:01.101013Z"
    },
    "papermill": {
     "duration": 0.292607,
     "end_time": "2022-03-04T04:58:01.101091",
     "exception": false,
     "start_time": "2022-03-04T04:58:00.808484",
     "status": "completed"
    },
    "tags": []
   },
   "outputs": [
    {
     "data": {
      "text/plain": [
       "<matplotlib.axes._subplots.AxesSubplot at 0x7f3510649d00>"
      ]
     },
     "execution_count": 17,
     "metadata": {},
     "output_type": "execute_result"
    },
    {
     "data": {
      "image/png": "[encoded data removed]",
      "text/plain": [
       "<Figure size 1080x504 with 1 Axes>"
      ]
     },
     "metadata": {
      "needs_background": "light"
     },
     "output_type": "display_data"
    }
   ],
   "source": [
    "get_results_table(experiment)"
   ]
  },
  {
   "cell_type": "code",
   "execution_count": 18,
   "id": "cf8dc689",
   "metadata": {
    "execution": {
     "iopub.execute_input": "2022-03-04T04:58:01.187038Z",
     "iopub.status.busy": "2022-03-04T04:58:01.186637Z",
     "iopub.status.idle": "2022-03-04T04:58:01.355528Z",
     "shell.execute_reply": "2022-03-04T04:58:01.355249Z"
    },
    "papermill": {
     "duration": 0.211773,
     "end_time": "2022-03-04T04:58:01.355591",
     "exception": false,
     "start_time": "2022-03-04T04:58:01.143818",
     "status": "completed"
    },
    "tags": []
   },
   "outputs": [
    {
     "data": {
      "text/plain": [
       "<matplotlib.axes._subplots.AxesSubplot at 0x7f3510625a00>"
      ]
     },
     "execution_count": 18,
     "metadata": {},
     "output_type": "execute_result"
    },
    {
     "data": {
      "image/png": "[encoded data removed]",
      "text/plain": [
       "<Figure size 1080x504 with 1 Axes>"
      ]
     },
     "metadata": {
      "needs_background": "light"
     },
     "output_type": "display_data"
    }
   ],
   "source": [
    "get_domain_accuracies(experiment)"
   ]
  },
  {
   "cell_type": "code",
   "execution_count": 19,
   "id": "a74ae082",
   "metadata": {
    "execution": {
     "iopub.execute_input": "2022-03-04T04:58:01.445699Z",
     "iopub.status.busy": "2022-03-04T04:58:01.445290Z",
     "iopub.status.idle": "2022-03-04T04:58:01.456144Z",
     "shell.execute_reply": "2022-03-04T04:58:01.456551Z"
    },
    "papermill": {
     "duration": 0.055705,
     "end_time": "2022-03-04T04:58:01.456673",
     "exception": false,
     "start_time": "2022-03-04T04:58:01.400968",
     "status": "completed"
    },
    "tags": []
   },
   "outputs": [
    {
     "name": "stdout",
     "output_type": "stream",
     "text": [
      "Source Test Label Accuracy: 0.75625 Target Test Label Accuracy: 0.6117708333333334\n",
      "Source Val Label Accuracy: 0.7524305555555556 Target Val Label Accuracy: 0.6067708333333334\n"
     ]
    }
   ],
   "source": [
    "print(\"Source Test Label Accuracy:\", experiment[\"results\"][\"source_test_label_accuracy\"], \"Target Test Label Accuracy:\", experiment[\"results\"][\"target_test_label_accuracy\"])\n",
    "print(\"Source Val Label Accuracy:\", experiment[\"results\"][\"source_val_label_accuracy\"], \"Target Val Label Accuracy:\", experiment[\"results\"][\"target_val_label_accuracy\"])"
   ]
  },
  {
   "cell_type": "code",
   "execution_count": 20,
   "id": "dacca602",
   "metadata": {
    "execution": {
     "iopub.execute_input": "2022-03-04T04:58:01.547098Z",
     "iopub.status.busy": "2022-03-04T04:58:01.546820Z",
     "iopub.status.idle": "2022-03-04T04:58:01.561696Z",
     "shell.execute_reply": "2022-03-04T04:58:01.561211Z"
    },
    "papermill": {
     "duration": 0.059682,
     "end_time": "2022-03-04T04:58:01.561797",
     "exception": false,
     "start_time": "2022-03-04T04:58:01.502115",
     "status": "completed"
    },
    "tags": [
     "experiment_json"
    ]
   },
   "outputs": [
    {
     "data": {
      "text/plain": [
       "'{\"experiment_name\": \"learningRate_oracle.run2\", \"parameters\": {\"experiment_name\": \"learningRate_oracle.run2\", \"device\": \"cuda\", \"seed\": 1337, \"dataset_seed\": 1337, \"labels_source\": [\"3123D52\", \"3123D65\", \"3123D79\", \"3123D80\", \"3123D54\", \"3123D70\", \"3123D7B\", \"3123D89\", \"3123D58\", \"3123D76\", \"3123D7D\", \"3123EFE\", \"3123D64\", \"3123D78\", \"3123D7E\", \"3124E4A\"], \"labels_target\": [\"3123D52\", \"3123D65\", \"3123D79\", \"3123D80\", \"3123D54\", \"3123D70\", \"3123D7B\", \"3123D89\", \"3123D58\", \"3123D76\", \"3123D7D\", \"3123EFE\", \"3123D64\", \"3123D78\", \"3123D7E\", \"3124E4A\"], \"x_transforms_source\": [], \"x_transforms_target\": [], \"episode_transforms_source\": [], \"episode_transforms_target\": [], \"num_examples_per_domain_per_label_source\": 1000, \"num_examples_per_domain_per_label_target\": 1000, \"n_shot\": 3, \"n_way\": 16, \"n_query\": 2, \"train_k_factor\": 1, \"val_k_factor\": 2, \"test_k_factor\": 2, \"torch_default_dtype\": \"torch.float32\", \"n_epoch\": 50, \"patience\": 3, \"criteria_for_best\": \"target_loss\", \"x_net\": [{\"class\": \"nnReshape\", \"kargs\": {\"shape\": [-1, 1, 2, 256]}}, {\"class\": \"Conv2d\", \"kargs\": {\"in_channels\": 1, \"out_channels\": 256, \"kernel_size\": [1, 7], \"bias\": false, \"padding\": [0, 3]}}, {\"class\": \"ReLU\", \"kargs\": {\"inplace\": true}}, {\"class\": \"BatchNorm2d\", \"kargs\": {\"num_features\": 256}}, {\"class\": \"Conv2d\", \"kargs\": {\"in_channels\": 256, \"out_channels\": 80, \"kernel_size\": [2, 7], \"bias\": true, \"padding\": [0, 3]}}, {\"class\": \"ReLU\", \"kargs\": {\"inplace\": true}}, {\"class\": \"BatchNorm2d\", \"kargs\": {\"num_features\": 80}}, {\"class\": \"Flatten\", \"kargs\": {}}, {\"class\": \"Linear\", \"kargs\": {\"in_features\": 20480, \"out_features\": 256}}, {\"class\": \"ReLU\", \"kargs\": {\"inplace\": true}}, {\"class\": \"BatchNorm1d\", \"kargs\": {\"num_features\": 256}}, {\"class\": \"Linear\", \"kargs\": {\"in_features\": 256, \"out_features\": 256}}], \"NUM_LOGS_PER_EPOCH\": 10, \"BEST_MODEL_PATH\": \"./best_model.pth\", \"pickle_name\": \"oracle.Run2_10kExamples_stratified_ds.2022A.pkl\", \"lr\": 0.01, \"domains_source\": [8, 32, 50], \"domains_target\": [14, 20, 26, 38, 44]}, \"results\": {\"source_test_label_accuracy\": 0.75625, \"source_test_label_loss\": 0.6596058011054993, \"target_test_label_accuracy\": 0.6117708333333334, \"target_test_label_loss\": 1.1916080713272095, \"source_val_label_accuracy\": 0.7524305555555556, \"source_val_label_loss\": 0.6523900628089905, \"target_val_label_accuracy\": 0.6067708333333334, \"target_val_label_loss\": 1.1606576442718506, \"total_epochs_trained\": 14, \"total_experiment_time_secs\": 780.0734105110168, \"confusion\": {\"8\": {\"15\": {\"15\": 103, \"2\": 8, \"12\": 9}, \"3\": {\"3\": 120}, \"6\": {\"14\": 31, \"6\": 52, \"8\": 25, \"4\": 9, \"1\": 1, \"7\": 1, \"11\": 1}, \"1\": {\"1\": 59, \"6\": 3, \"4\": 17, \"10\": 11, \"7\": 5, \"5\": 13, \"13\": 5, \"14\": 7}, \"8\": {\"8\": 73, \"6\": 31, \"11\": 14, \"7\": 1, \"4\": 1}, \"10\": {\"5\": 38, \"10\": 51, \"13\": 22, \"7\": 3, \"1\": 5, \"4\": 1}, \"9\": {\"9\": 120}, \"13\": {\"13\": 75, \"10\": 28, \"7\": 5, \"5\": 7, \"1\": 4, \"4\": 1}, \"12\": {\"12\": 105, \"2\": 4, \"15\": 11}, \"5\": {\"10\": 34, \"5\": 67, \"13\": 3, \"1\": 16}, \"0\": {\"0\": 120}, \"2\": {\"2\": 106, \"15\": 10, \"12\": 4}, \"11\": {\"8\": 37, \"11\": 64, \"12\": 4, \"7\": 7, \"6\": 6, \"4\": 2}, \"14\": {\"6\": 32, \"14\": 70, \"4\": 5, \"1\": 9, \"8\": 4}, \"7\": {\"4\": 45, \"7\": 62, \"8\": 1, \"13\": 3, \"6\": 1, \"1\": 8}, \"4\": {\"4\": 65, \"1\": 13, \"8\": 3, \"6\": 4, \"7\": 31, \"11\": 2, \"14\": 2}}, \"50\": {\"3\": {\"3\": 120}, \"15\": {\"4\": 5, \"15\": 90, \"6\": 10, \"12\": 11, \"5\": 1, \"9\": 3}, \"8\": {\"8\": 120}, \"4\": {\"4\": 94, \"15\": 3, \"5\": 19, \"7\": 4}, \"14\": {\"14\": 119, \"2\": 1}, \"0\": {\"2\": 12, \"10\": 14, \"0\": 94}, \"7\": {\"5\": 7, \"7\": 96, \"4\": 17}, \"6\": {\"6\": 88, \"5\": 18, \"15\": 8, \"4\": 4, \"12\": 2}, \"10\": {\"10\": 112, \"0\": 6, \"13\": 2}, \"5\": {\"4\": 28, \"5\": 69, \"6\": 11, \"7\": 12}, \"2\": {\"2\": 109, \"14\": 2, \"0\": 9}, \"12\": {\"12\": 97, \"15\": 5, \"11\": 12, \"9\": 5, \"6\": 1}, \"9\": {\"9\": 109, \"15\": 10, \"12\": 1}, \"1\": {\"1\": 114, \"11\": 4, \"13\": 2}, \"11\": {\"11\": 105, \"12\": 11, \"1\": 4}, \"13\": {\"13\": 113, \"1\": 3, \"8\": 4}}, \"32\": {\"5\": {\"5\": 95, \"15\": 18, \"7\": 3, \"2\": 2, \"14\": 2}, \"8\": {\"8\": 64, \"0\": 19, \"7\": 32, \"2\": 1, \"14\": 1, \"15\": 3}, \"11\": {\"13\": 35, \"4\": 37, \"11\": 41, \"0\": 3, \"3\": 4}, \"1\": {\"1\": 120}, \"10\": {\"10\": 120}, \"15\": {\"15\": 104, \"5\": 14, \"8\": 1, \"7\": 1}, \"3\": {\"3\": 104, \"13\": 8, \"4\": 6, \"11\": 2}, \"7\": {\"8\": 33, \"0\": 31, \"7\": 34, \"2\": 14, \"14\": 2, \"15\": 6}, \"4\": {\"4\": 81, \"8\": 4, \"11\": 30, \"3\": 1, \"0\": 4}, \"14\": {\"14\": 54, \"2\": 56, \"15\": 1, \"0\": 4, \"7\": 4, \"5\": 1}, \"9\": {\"9\": 120}, \"12\": {\"12\": 119, \"10\": 1}, \"6\": {\"6\": 120}, \"2\": {\"7\": 24, \"14\": 27, \"2\": 57, \"0\": 12}, \"0\": {\"0\": 55, \"7\": 18, \"2\": 18, \"8\": 20, \"4\": 6, \"11\": 1, \"14\": 2}, \"13\": {\"13\": 85, \"11\": 14, \"4\": 10, \"3\": 11}}, \"14\": {\"15\": {\"15\": 120}, \"3\": {\"3\": 105, \"7\": 2, \"6\": 7, \"14\": 1, \"2\": 2, \"5\": 1, \"13\": 2}, \"6\": {\"6\": 66, \"13\": 40, \"3\": 9, \"7\": 4, \"2\": 1}, \"1\": {\"1\": 119, \"9\": 1}, \"8\": {\"10\": 28, \"8\": 75, \"0\": 16, \"12\": 1}, \"10\": {\"0\": 29, \"3\": 5, \"8\": 46, \"10\": 26, \"5\": 6, \"14\": 3, \"9\": 2, \"12\": 2, \"4\": 1}, \"9\": {\"9\": 113, \"0\": 3, \"12\": 3, \"10\": 1}, \"13\": {\"13\": 72, \"6\": 44, \"3\": 3, \"7\": 1}, \"12\": {\"12\": 33, \"9\": 18, \"15\": 27, \"3\": 9, \"13\": 3, \"6\": 4, \"8\": 15, \"0\": 1, \"10\": 5, \"11\": 4, \"4\": 1}, \"5\": {\"2\": 15, \"5\": 52, \"4\": 4, \"14\": 39, \"10\": 3, \"8\": 1, \"0\": 3, \"7\": 3}, \"0\": {\"0\": 82, \"10\": 13, \"4\": 11, \"8\": 11, \"12\": 2, \"9\": 1}, \"2\": {\"7\": 30, \"14\": 22, \"5\": 25, \"3\": 11, \"2\": 24, \"4\": 6, \"6\": 1, \"0\": 1}, \"11\": {\"11\": 120}, \"14\": {\"2\": 25, \"7\": 8, \"5\": 34, \"14\": 45, \"10\": 2, \"3\": 4, \"0\": 1, \"4\": 1}, \"7\": {\"2\": 13, \"7\": 97, \"5\": 3, \"14\": 3, \"6\": 2, \"3\": 2}, \"4\": {\"5\": 3, \"4\": 105, \"0\": 9, \"14\": 1, \"8\": 1, \"2\": 1}}, \"20\": {\"3\": {\"10\": 1, \"3\": 18, \"7\": 17, \"1\": 2, \"2\": 13, \"13\": 6, \"4\": 22, \"9\": 15, \"5\": 12, \"8\": 1, \"15\": 9, \"6\": 2, \"12\": 1, \"14\": 1}, \"15\": {\"15\": 29, \"4\": 13, \"2\": 8, \"5\": 8, \"1\": 13, \"9\": 21, \"3\": 9, \"13\": 11, \"7\": 2, \"12\": 6}, \"8\": {\"8\": 58, \"14\": 24, \"11\": 26, \"1\": 6, \"0\": 5, \"5\": 1}, \"4\": {\"10\": 4, \"13\": 6, \"4\": 27, \"7\": 13, \"2\": 10, \"9\": 8, \"3\": 25, \"5\": 7, \"12\": 3, \"15\": 15, \"1\": 2}, \"14\": {\"14\": 63, \"8\": 36, \"2\": 7, \"11\": 7, \"5\": 3, \"3\": 1, \"7\": 2, \"1\": 1}, \"0\": {\"0\": 95, \"11\": 14, \"8\": 3, \"1\": 8}, \"7\": {\"10\": 11, \"7\": 54, \"6\": 6, \"9\": 2, \"3\": 15, \"15\": 3, \"4\": 20, \"12\": 2, \"5\": 4, \"13\": 1, \"2\": 2}, \"6\": {\"6\": 89, \"10\": 17, \"7\": 14}, \"10\": {\"6\": 30, \"10\": 66, \"13\": 3, \"7\": 10, \"12\": 9, \"4\": 1, \"3\": 1}, \"5\": {\"15\": 9, \"1\": 18, \"5\": 21, \"3\": 10, \"2\": 25, \"14\": 3, \"4\": 8, \"7\": 4, \"9\": 18, \"0\": 2, \"10\": 1, \"8\": 1}, \"2\": {\"5\": 25, \"2\": 21, \"15\": 17, \"3\": 13, \"4\": 9, \"9\": 17, \"1\": 12, \"13\": 2, \"7\": 3, \"14\": 1}, \"12\": {\"12\": 43, \"13\": 49, \"3\": 2, \"7\": 2, \"10\": 11, \"4\": 8, \"15\": 4, \"2\": 1}, \"9\": {\"15\": 19, \"1\": 12, \"3\": 10, \"2\": 19, \"9\": 16, \"4\": 19, \"7\": 7, \"5\": 11, \"10\": 1, \"12\": 4, \"13\": 2}, \"1\": {\"15\": 10, \"5\": 18, \"0\": 4, \"1\": 72, \"9\": 10, \"2\": 5, \"4\": 1}, \"11\": {\"0\": 13, \"11\": 55, \"8\": 39, \"14\": 13}, \"13\": {\"13\": 58, \"7\": 2, \"15\": 7, \"12\": 38, \"3\": 8, \"4\": 3, \"10\": 1, \"9\": 2, \"2\": 1}}, \"44\": {\"5\": {\"5\": 71, \"14\": 17, \"8\": 15, \"15\": 16, \"0\": 1}, \"8\": {\"8\": 81, \"0\": 18, \"5\": 17, \"15\": 4}, \"11\": {\"11\": 120}, \"1\": {\"1\": 94, \"2\": 22, \"3\": 2, \"12\": 2}, \"10\": {\"10\": 112, \"7\": 8}, \"15\": {\"15\": 83, \"5\": 22, \"14\": 4, \"8\": 5, \"0\": 5, \"4\": 1}, \"3\": {\"3\": 99, \"12\": 19, \"1\": 2}, \"7\": {\"7\": 62, \"9\": 48, \"6\": 6, \"10\": 4}, \"4\": {\"4\": 96, \"14\": 24}, \"14\": {\"14\": 89, \"4\": 21, \"5\": 9, \"15\": 1}, \"9\": {\"7\": 44, \"9\": 71, \"6\": 3, \"4\": 1, \"13\": 1}, \"12\": {\"12\": 86, \"3\": 34}, \"6\": {\"6\": 109, \"7\": 3, \"13\": 3, \"9\": 3, \"10\": 2}, \"2\": {\"2\": 86, \"1\": 34}, \"0\": {\"0\": 94, \"8\": 21, \"5\": 3, \"15\": 2}, \"13\": {\"13\": 112, \"6\": 4, \"4\": 4}}, \"38\": {\"14\": {\"2\": 39, \"14\": 60, \"13\": 1, \"7\": 11, \"4\": 4, \"12\": 3, \"5\": 2}, \"0\": {\"0\": 102, \"7\": 15, \"8\": 1, \"9\": 2}, \"13\": {\"10\": 29, \"3\": 20, \"13\": 64, \"4\": 7}, \"7\": {\"7\": 100, \"0\": 8, \"8\": 7, \"14\": 3, \"4\": 2}, \"9\": {\"9\": 101, \"5\": 13, \"8\": 2, \"0\": 2, \"12\": 2}, \"3\": {\"13\": 28, \"4\": 15, \"10\": 29, \"3\": 48}, \"11\": {\"11\": 120}, \"6\": {\"6\": 102, \"15\": 17, \"1\": 1}, \"8\": {\"8\": 102, \"7\": 8, \"12\": 4, \"5\": 4, \"9\": 1, \"14\": 1}, \"4\": {\"3\": 11, \"4\": 78, \"13\": 3, \"10\": 22, \"7\": 6}, \"5\": {\"12\": 44, \"7\": 1, \"8\": 34, \"5\": 29, \"9\": 10, \"2\": 1, \"14\": 1}, \"10\": {\"4\": 25, \"3\": 24, \"10\": 59, \"13\": 12}, \"1\": {\"1\": 92, \"15\": 27, \"6\": 1}, \"2\": {\"2\": 105, \"14\": 13, \"5\": 1, \"12\": 1}, \"15\": {\"15\": 52, \"6\": 27, \"1\": 37, \"5\": 2, \"12\": 2}, \"12\": {\"12\": 78, \"5\": 37, \"8\": 2, \"2\": 1, \"9\": 2}}, \"26\": {\"13\": {\"13\": 74, \"7\": 20, \"9\": 12, \"2\": 4, \"3\": 6, \"8\": 4}, \"2\": {\"9\": 14, \"7\": 18, \"2\": 48, \"13\": 2, \"8\": 30, \"15\": 4, \"3\": 1, \"0\": 3}, \"8\": {\"8\": 43, \"2\": 34, \"10\": 4, \"13\": 4, \"0\": 4, \"15\": 11, \"9\": 18, \"7\": 2}, \"9\": {\"8\": 43, \"9\": 41, \"13\": 14, \"2\": 14, \"0\": 1, \"7\": 5, \"10\": 1, \"15\": 1}, \"12\": {\"12\": 119, \"13\": 1}, \"4\": {\"4\": 119, \"3\": 1}, \"3\": {\"3\": 75, \"7\": 37, \"13\": 3, \"4\": 2, \"9\": 1, \"2\": 2}, \"15\": {\"15\": 52, \"10\": 9, \"0\": 34, \"8\": 7, \"2\": 9, \"14\": 7, \"9\": 2}, \"14\": {\"0\": 18, \"14\": 56, \"15\": 7, \"5\": 19, \"1\": 7, \"10\": 9, \"6\": 4}, \"10\": {\"9\": 5, \"14\": 20, \"10\": 23, \"1\": 8, \"0\": 23, \"15\": 17, \"8\": 12, \"5\": 6, \"2\": 2, \"6\": 3, \"12\": 1}, \"7\": {\"2\": 8, \"3\": 43, \"7\": 49, \"13\": 11, \"9\": 5, \"8\": 4}, \"11\": {\"11\": 119, \"5\": 1}, \"6\": {\"5\": 45, \"6\": 57, \"1\": 11, \"14\": 7}, \"1\": {\"1\": 88, \"6\": 11, \"5\": 16, \"14\": 5}, \"5\": {\"14\": 17, \"5\": 24, \"6\": 49, \"1\": 22, \"0\": 1, \"10\": 6, \"11\": 1}, \"0\": {\"0\": 42, \"15\": 24, \"10\": 28, \"2\": 2, \"14\": 18, \"8\": 5, \"6\": 1}}}, \"per_domain_accuracy\": {\"8\": {\"accuracy\": 0.6833333333333333, \"source?\": true}, \"50\": {\"accuracy\": 0.8588541666666667, \"source?\": true}, \"32\": {\"accuracy\": 0.7151041666666667, \"source?\": true}, \"14\": {\"accuracy\": 0.653125, \"source?\": false}, \"20\": {\"accuracy\": 0.4088541666666667, \"source?\": false}, \"44\": {\"accuracy\": 0.7630208333333334, \"source?\": false}, \"38\": {\"accuracy\": 0.6729166666666667, \"source?\": false}, \"26\": {\"accuracy\": 0.5359375, \"source?\": false}}}, \"history\": {\"epoch_indices\": [1, 2, 3, 4, 5, 6, 7, 8, 9, 10, 11, 12, 13, 14], \"train_label_loss\": [1.3724464581126259, 1.2797448449191593, 1.1251775853690646, 0.809350427417528, 0.707657046970867, 0.637412797340325, 0.59173873038519, 0.5665509853334654, 0.5374900527298451, 0.5456191434037118, 0.49961495225628216, 0.4799973110535315, 0.47362380368368967, 0.454693546092936], \"source_val_label_loss\": [1.8359534740447998, 1.3364278078079224, 0.9445406198501587, 0.8158761262893677, 0.7092205882072449, 0.6786083579063416, 0.6788718700408936, 0.6764745116233826, 0.6641035079956055, 0.6523900628089905, 0.6573773622512817, 0.6222472786903381, 0.624733030796051, 0.6568011045455933], \"target_val_label_loss\": [1.9863004684448242, 1.5865803956985474, 1.6043429374694824, 1.4016560316085815, 1.2828021049499512, 1.210379958152771, 1.2470531463623047, 1.1968387365341187, 1.2538292407989502, 1.1606576442718506, 1.2600620985031128, 1.2215511798858643, 1.193025827407837, 1.1887882947921753], \"source_val_acc_label\": [0.47847222222222224, 0.4618055555555556, 0.6510416666666666, 0.7005208333333334, 0.7336805555555556, 0.746875, 0.7453125, 0.7623263888888889, 0.7515625, 0.7524305555555556, 0.765625, 0.7630208333333334, 0.7572916666666667, 0.7614583333333333], \"target_val_acc_label\": [0.3927083333333333, 0.38458333333333333, 0.4952083333333333, 0.534375, 0.5620833333333334, 0.5871875, 0.5779166666666666, 0.6098958333333333, 0.5945833333333334, 0.6067708333333334, 0.6146875, 0.6146875, 0.6202083333333334, 0.61625]}, \"dataset_metrics\": {\"source\": {\"train\": {\"n_unique_x\": 33600, \"n_unique_y\": 16, \"n_batch/episode\": 420}, \"val\": {\"n_unique_x\": 7200, \"n_unique_y\": 16, \"n_batch/episode\": 180}, \"test\": {\"n_unique_x\": 7200, \"n_unique_y\": 16, \"n_batch/episode\": 180}}, \"target\": {\"train\": {\"n_unique_x\": 56000, \"n_unique_y\": 16, \"n_batch/episode\": 700}, \"val\": {\"n_unique_x\": 12000, \"n_unique_y\": 16, \"n_batch/episode\": 300}, \"test\": {\"n_unique_x\": 12000, \"n_unique_y\": 16, \"n_batch/episode\": 300}}}}'"
      ]
     },
     "execution_count": 20,
     "metadata": {},
     "output_type": "execute_result"
    }
   ],
   "source": [
    "json.dumps(experiment)"
   ]
  }
 ],
 "metadata": {
  "celltoolbar": "Tags",
  "kernelspec": {
   "display_name": "Python 3 (ipykernel)",
   "language": "python",
   "name": "python3"
  },
  "language_info": {
   "codemirror_mode": {
    "name": "ipython",
    "version": 3
   },
   "file_extension": ".py",
   "mimetype": "text/x-python",
   "name": "python",
   "nbconvert_exporter": "python",
   "pygments_lexer": "ipython3",
   "version": "3.8.10"
  },
  "papermill": {
   "default_parameters": {},
   "duration": 874.070695,
   "end_time": "2022-03-04T04:58:02.115421",
   "environment_variables": {},
   "exception": null,
   "input_path": "/mnt/wd500GB/CSC500/csc500-main/csc500-notebooks/templates/ptn_template.ipynb",
   "output_path": "trial.ipynb",
   "parameters": {
    "parameters": {
     "BEST_MODEL_PATH": "./best_model.pth",
     "NUM_LOGS_PER_EPOCH": 10,
     "criteria_for_best": "target_loss",
     "dataset_seed": 1337,
     "device": "cuda",
     "domains_source": [
      8,
      32,
      50
     ],
     "domains_target": [
      14,
      20,
      26,
      38,
      44
     ],
     "episode_transforms_source": [],
     "episode_transforms_target": [],
     "experiment_name": "learningRate_oracle.run2",
     "labels_source": [
      "3123D52",
      "3123D65",
      "3123D79",
      "3123D80",
      "3123D54",
      "3123D70",
      "3123D7B",
      "3123D89",
      "3123D58",
      "3123D76",
      "3123D7D",
      "3123EFE",
      "3123D64",
      "3123D78",
      "3123D7E",
      "3124E4A"
     ],
     "labels_target": [
      "3123D52",
      "3123D65",
      "3123D79",
      "3123D80",
      "3123D54",
      "3123D70",
      "3123D7B",
      "3123D89",
      "3123D58",
      "3123D76",
      "3123D7D",
      "3123EFE",
      "3123D64",
      "3123D78",
      "3123D7E",
      "3124E4A"
     ],
     "lr": 0.01,
     "n_epoch": 50,
     "n_query": 2,
     "n_shot": 3,
     "n_way": 16,
     "num_examples_per_domain_per_label_source": 1000,
     "num_examples_per_domain_per_label_target": 1000,
     "patience": 3,
     "pickle_name": "oracle.Run2_10kExamples_stratified_ds.2022A.pkl",
     "seed": 1337,
     "test_k_factor": 2,
     "torch_default_dtype": "torch.float32",
     "train_k_factor": 1,
     "val_k_factor": 2,
     "x_net": [
      {
       "class": "nnReshape",
       "kargs": {
        "shape": [
         -1,
         1,
         2,
         256
        ]
       }
      },
      {
       "class": "Conv2d",
       "kargs": {
        "bias": false,
        "in_channels": 1,
        "kernel_size": [
         1,
         7
        ],
        "out_channels": 256,
        "padding": [
         0,
         3
        ]
       }
      },
      {
       "class": "ReLU",
       "kargs": {
        "inplace": true
       }
      },
      {
       "class": "BatchNorm2d",
       "kargs": {
        "num_features": 256
       }
      },
      {
       "class": "Conv2d",
       "kargs": {
        "bias": true,
        "in_channels": 256,
        "kernel_size": [
         2,
         7
        ],
        "out_channels": 80,
        "padding": [
         0,
         3
        ]
       }
      },
      {
       "class": "ReLU",
       "kargs": {
        "inplace": true
       }
      },
      {
       "class": "BatchNorm2d",
       "kargs": {
        "num_features": 80
       }
      },
      {
       "class": "Flatten",
       "kargs": {}
      },
      {
       "class": "Linear",
       "kargs": {
        "in_features": 20480,
        "out_features": 256
       }
      },
      {
       "class": "ReLU",
       "kargs": {
        "inplace": true
       }
      },
      {
       "class": "BatchNorm1d",
       "kargs": {
        "num_features": 256
       }
      },
      {
       "class": "Linear",
       "kargs": {
        "in_features": 256,
        "out_features": 256
       }
      }
     ],
     "x_transforms_source": [],
     "x_transforms_target": []
    }
   },
   "start_time": "2022-03-04T04:43:28.044726",
   "version": "2.3.4"
  }
 },
 "nbformat": 4,
 "nbformat_minor": 5
}