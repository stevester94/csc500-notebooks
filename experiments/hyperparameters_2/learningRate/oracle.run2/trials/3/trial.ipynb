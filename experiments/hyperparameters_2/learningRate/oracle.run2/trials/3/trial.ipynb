{
 "cells": [
  {
   "cell_type": "markdown",
   "id": "9fea5f46",
   "metadata": {
    "papermill": {
     "duration": 0.012982,
     "end_time": "2022-03-04T05:21:51.290759",
     "exception": false,
     "start_time": "2022-03-04T05:21:51.277777",
     "status": "completed"
    },
    "tags": []
   },
   "source": [
    "# PTN Template\n",
    "This notebook serves as a template for single dataset PTN experiments  \n",
    "It can be run on its own by setting STANDALONE to True (do a find for \"STANDALONE\" to see where)  \n",
    "But it is intended to be executed as part of a *papermill.py script. See any of the   \n",
    "experimentes with a papermill script to get started with that workflow.  "
   ]
  },
  {
   "cell_type": "code",
   "execution_count": 1,
   "id": "0902182a",
   "metadata": {
    "execution": {
     "iopub.execute_input": "2022-03-04T05:21:51.323965Z",
     "iopub.status.busy": "2022-03-04T05:21:51.323403Z",
     "iopub.status.idle": "2022-03-04T05:21:52.107072Z",
     "shell.execute_reply": "2022-03-04T05:21:52.107375Z"
    },
    "papermill": {
     "duration": 0.807219,
     "end_time": "2022-03-04T05:21:52.107533",
     "exception": false,
     "start_time": "2022-03-04T05:21:51.300314",
     "status": "completed"
    },
    "tags": []
   },
   "outputs": [],
   "source": [
    "%load_ext autoreload\n",
    "%autoreload 2\n",
    "%matplotlib inline\n",
    "\n",
    "    \n",
    "import os, json, sys, time, random\n",
    "import numpy as np\n",
    "import torch\n",
    "from torch.optim import Adam\n",
    "from  easydict import EasyDict\n",
    "import matplotlib.pyplot as plt\n",
    "\n",
    "from steves_models.steves_ptn import Steves_Prototypical_Network\n",
    "\n",
    "from steves_utils.lazy_iterable_wrapper import Lazy_Iterable_Wrapper\n",
    "from steves_utils.iterable_aggregator import Iterable_Aggregator\n",
    "from steves_utils.ptn_train_eval_test_jig import  PTN_Train_Eval_Test_Jig\n",
    "from steves_utils.torch_sequential_builder import build_sequential\n",
    "from steves_utils.torch_utils import get_dataset_metrics, ptn_confusion_by_domain_over_dataloader\n",
    "from steves_utils.utils_v2 import (per_domain_accuracy_from_confusion, get_datasets_base_path)\n",
    "from steves_utils.PTN.utils import independent_accuracy_assesment\n",
    "\n",
    "from steves_utils.stratified_dataset.episodic_accessor import Episodic_Accessor_Factory\n",
    "\n",
    "from steves_utils.ptn_do_report import (\n",
    "    get_loss_curve,\n",
    "    get_results_table,\n",
    "    get_parameters_table,\n",
    "    get_domain_accuracies,\n",
    ")\n",
    "\n",
    "from steves_utils.transforms import get_chained_transform"
   ]
  },
  {
   "cell_type": "markdown",
   "id": "41c840b4",
   "metadata": {
    "papermill": {
     "duration": 0.009706,
     "end_time": "2022-03-04T05:21:52.130644",
     "exception": false,
     "start_time": "2022-03-04T05:21:52.120938",
     "status": "completed"
    },
    "tags": []
   },
   "source": [
    "# Required Parameters\n",
    "These are allowed parameters, not defaults\n",
    "Each of these values need to be present in the injected parameters (the notebook will raise an exception if they are not present)\n",
    "\n",
    "Papermill uses the cell tag \"parameters\" to inject the real parameters below this cell.\n",
    "Enable tags to see what I mean"
   ]
  },
  {
   "cell_type": "code",
   "execution_count": 2,
   "id": "fd44eb83",
   "metadata": {
    "execution": {
     "iopub.execute_input": "2022-03-04T05:21:52.151537Z",
     "iopub.status.busy": "2022-03-04T05:21:52.151273Z",
     "iopub.status.idle": "2022-03-04T05:21:52.163004Z",
     "shell.execute_reply": "2022-03-04T05:21:52.162751Z"
    },
    "papermill": {
     "duration": 0.0234,
     "end_time": "2022-03-04T05:21:52.163054",
     "exception": false,
     "start_time": "2022-03-04T05:21:52.139654",
     "status": "completed"
    },
    "tags": []
   },
   "outputs": [],
   "source": [
    "required_parameters = {\n",
    "    \"experiment_name\",\n",
    "    \"lr\",\n",
    "    \"device\",\n",
    "    \"seed\",\n",
    "    \"dataset_seed\",\n",
    "    \"labels_source\",\n",
    "    \"labels_target\",\n",
    "    \"domains_source\",\n",
    "    \"domains_target\",\n",
    "    \"num_examples_per_domain_per_label_source\",\n",
    "    \"num_examples_per_domain_per_label_target\",\n",
    "    \"n_shot\",\n",
    "    \"n_way\",\n",
    "    \"n_query\",\n",
    "    \"train_k_factor\",\n",
    "    \"val_k_factor\",\n",
    "    \"test_k_factor\",\n",
    "    \"n_epoch\",\n",
    "    \"patience\",\n",
    "    \"criteria_for_best\",\n",
    "    \"x_transforms_source\",\n",
    "    \"x_transforms_target\",\n",
    "    \"episode_transforms_source\",\n",
    "    \"episode_transforms_target\",\n",
    "    \"pickle_name\",\n",
    "    \"x_net\",\n",
    "    \"NUM_LOGS_PER_EPOCH\",\n",
    "    \"BEST_MODEL_PATH\",\n",
    "    \"torch_default_dtype\"\n",
    "}"
   ]
  },
  {
   "cell_type": "code",
   "execution_count": 3,
   "id": "fa3f0049",
   "metadata": {
    "execution": {
     "iopub.execute_input": "2022-03-04T05:21:52.191470Z",
     "iopub.status.busy": "2022-03-04T05:21:52.191154Z",
     "iopub.status.idle": "2022-03-04T05:21:52.201178Z",
     "shell.execute_reply": "2022-03-04T05:21:52.200827Z"
    },
    "papermill": {
     "duration": 0.025353,
     "end_time": "2022-03-04T05:21:52.201248",
     "exception": false,
     "start_time": "2022-03-04T05:21:52.175895",
     "status": "completed"
    },
    "tags": [
     "parameters"
    ]
   },
   "outputs": [],
   "source": [
    "\n",
    "\n",
    "standalone_parameters = {}\n",
    "standalone_parameters[\"experiment_name\"] = \"STANDALONE PTN\"\n",
    "standalone_parameters[\"lr\"] = 0.0001\n",
    "standalone_parameters[\"device\"] = \"cuda\"\n",
    "\n",
    "standalone_parameters[\"seed\"] = 1337\n",
    "standalone_parameters[\"dataset_seed\"] = 1337\n",
    "\n",
    "\n",
    "standalone_parameters[\"num_examples_per_domain_per_label_source\"]=100\n",
    "standalone_parameters[\"num_examples_per_domain_per_label_target\"]=100\n",
    "\n",
    "standalone_parameters[\"n_shot\"] = 3\n",
    "standalone_parameters[\"n_query\"]  = 2\n",
    "standalone_parameters[\"train_k_factor\"] = 1\n",
    "standalone_parameters[\"val_k_factor\"] = 2\n",
    "standalone_parameters[\"test_k_factor\"] = 2\n",
    "\n",
    "\n",
    "standalone_parameters[\"n_epoch\"] = 100\n",
    "\n",
    "standalone_parameters[\"patience\"] = 10\n",
    "standalone_parameters[\"criteria_for_best\"] = \"target_accuracy\"\n",
    "\n",
    "standalone_parameters[\"x_transforms_source\"] = [\"unit_power\"]\n",
    "standalone_parameters[\"x_transforms_target\"] = [\"unit_power\"]\n",
    "standalone_parameters[\"episode_transforms_source\"] = []\n",
    "standalone_parameters[\"episode_transforms_target\"] = []\n",
    "\n",
    "standalone_parameters[\"torch_default_dtype\"] = \"torch.float32\" \n",
    "\n",
    "\n",
    "\n",
    "standalone_parameters[\"x_net\"] =     [\n",
    "    {\"class\": \"nnReshape\", \"kargs\": {\"shape\":[-1, 1, 2, 256]}},\n",
    "    {\"class\": \"Conv2d\", \"kargs\": { \"in_channels\":1, \"out_channels\":256, \"kernel_size\":(1,7), \"bias\":False, \"padding\":(0,3), },},\n",
    "    {\"class\": \"ReLU\", \"kargs\": {\"inplace\": True}},\n",
    "    {\"class\": \"BatchNorm2d\", \"kargs\": {\"num_features\":256}},\n",
    "\n",
    "    {\"class\": \"Conv2d\", \"kargs\": { \"in_channels\":256, \"out_channels\":80, \"kernel_size\":(2,7), \"bias\":True, \"padding\":(0,3), },},\n",
    "    {\"class\": \"ReLU\", \"kargs\": {\"inplace\": True}},\n",
    "    {\"class\": \"BatchNorm2d\", \"kargs\": {\"num_features\":80}},\n",
    "    {\"class\": \"Flatten\", \"kargs\": {}},\n",
    "\n",
    "    {\"class\": \"Linear\", \"kargs\": {\"in_features\": 80*256, \"out_features\": 256}}, # 80 units per IQ pair\n",
    "    {\"class\": \"ReLU\", \"kargs\": {\"inplace\": True}},\n",
    "    {\"class\": \"BatchNorm1d\", \"kargs\": {\"num_features\":256}},\n",
    "\n",
    "    {\"class\": \"Linear\", \"kargs\": {\"in_features\": 256, \"out_features\": 256}},\n",
    "]\n",
    "\n",
    "# Parameters relevant to results\n",
    "# These parameters will basically never need to change\n",
    "standalone_parameters[\"NUM_LOGS_PER_EPOCH\"] = 10\n",
    "standalone_parameters[\"BEST_MODEL_PATH\"] = \"./best_model.pth\"\n",
    "\n",
    "# uncomment for CORES dataset\n",
    "from steves_utils.CORES.utils import (\n",
    "    ALL_NODES,\n",
    "    ALL_NODES_MINIMUM_1000_EXAMPLES,\n",
    "    ALL_DAYS\n",
    ")\n",
    "\n",
    "\n",
    "standalone_parameters[\"labels_source\"] = ALL_NODES\n",
    "standalone_parameters[\"labels_target\"] = ALL_NODES\n",
    "\n",
    "standalone_parameters[\"domains_source\"] = [1]\n",
    "standalone_parameters[\"domains_target\"] = [2,3,4,5]\n",
    "\n",
    "standalone_parameters[\"pickle_name\"] = \"cores.stratified_ds.2022A.pkl\"\n",
    "\n",
    "\n",
    "# Uncomment these for ORACLE dataset\n",
    "# from steves_utils.ORACLE.utils_v2 import (\n",
    "#     ALL_DISTANCES_FEET,\n",
    "#     ALL_RUNS,\n",
    "#     ALL_SERIAL_NUMBERS,\n",
    "# )\n",
    "# standalone_parameters[\"labels_source\"] = ALL_SERIAL_NUMBERS\n",
    "# standalone_parameters[\"labels_target\"] = ALL_SERIAL_NUMBERS\n",
    "# standalone_parameters[\"domains_source\"] = [8,20, 38,50]\n",
    "# standalone_parameters[\"domains_target\"] = [14, 26, 32, 44, 56]\n",
    "# standalone_parameters[\"pickle_name\"] = \"oracle.frame_indexed.stratified_ds.2022A.pkl\"\n",
    "# standalone_parameters[\"num_examples_per_domain_per_label_source\"]=1000\n",
    "# standalone_parameters[\"num_examples_per_domain_per_label_target\"]=1000\n",
    "\n",
    "# Uncomment these for Metahan dataset\n",
    "# standalone_parameters[\"labels_source\"] = list(range(19))\n",
    "# standalone_parameters[\"labels_target\"] = list(range(19))\n",
    "# standalone_parameters[\"domains_source\"] = [0]\n",
    "# standalone_parameters[\"domains_target\"] = [1]\n",
    "# standalone_parameters[\"pickle_name\"] = \"metehan.stratified_ds.2022A.pkl\"\n",
    "# standalone_parameters[\"n_way\"]  = len(standalone_parameters[\"labels_source\"])\n",
    "# standalone_parameters[\"num_examples_per_domain_per_label_source\"]=200\n",
    "# standalone_parameters[\"num_examples_per_domain_per_label_target\"]=100\n",
    "\n",
    "\n",
    "standalone_parameters[\"n_way\"]  = len(standalone_parameters[\"labels_source\"])"
   ]
  },
  {
   "cell_type": "code",
   "execution_count": 4,
   "id": "e845c771",
   "metadata": {
    "execution": {
     "iopub.execute_input": "2022-03-04T05:21:52.229060Z",
     "iopub.status.busy": "2022-03-04T05:21:52.228781Z",
     "iopub.status.idle": "2022-03-04T05:21:52.238184Z",
     "shell.execute_reply": "2022-03-04T05:21:52.237832Z"
    },
    "papermill": {
     "duration": 0.023262,
     "end_time": "2022-03-04T05:21:52.238253",
     "exception": false,
     "start_time": "2022-03-04T05:21:52.214991",
     "status": "completed"
    },
    "tags": [
     "injected-parameters"
    ]
   },
   "outputs": [],
   "source": [
    "# Parameters\n",
    "parameters = {\n",
    "    \"experiment_name\": \"learningRate_oracle.run2\",\n",
    "    \"device\": \"cuda\",\n",
    "    \"seed\": 1337,\n",
    "    \"dataset_seed\": 1337,\n",
    "    \"labels_source\": [\n",
    "        \"3123D52\",\n",
    "        \"3123D65\",\n",
    "        \"3123D79\",\n",
    "        \"3123D80\",\n",
    "        \"3123D54\",\n",
    "        \"3123D70\",\n",
    "        \"3123D7B\",\n",
    "        \"3123D89\",\n",
    "        \"3123D58\",\n",
    "        \"3123D76\",\n",
    "        \"3123D7D\",\n",
    "        \"3123EFE\",\n",
    "        \"3123D64\",\n",
    "        \"3123D78\",\n",
    "        \"3123D7E\",\n",
    "        \"3124E4A\",\n",
    "    ],\n",
    "    \"labels_target\": [\n",
    "        \"3123D52\",\n",
    "        \"3123D65\",\n",
    "        \"3123D79\",\n",
    "        \"3123D80\",\n",
    "        \"3123D54\",\n",
    "        \"3123D70\",\n",
    "        \"3123D7B\",\n",
    "        \"3123D89\",\n",
    "        \"3123D58\",\n",
    "        \"3123D76\",\n",
    "        \"3123D7D\",\n",
    "        \"3123EFE\",\n",
    "        \"3123D64\",\n",
    "        \"3123D78\",\n",
    "        \"3123D7E\",\n",
    "        \"3124E4A\",\n",
    "    ],\n",
    "    \"x_transforms_source\": [],\n",
    "    \"x_transforms_target\": [],\n",
    "    \"episode_transforms_source\": [],\n",
    "    \"episode_transforms_target\": [],\n",
    "    \"num_examples_per_domain_per_label_source\": 1000,\n",
    "    \"num_examples_per_domain_per_label_target\": 1000,\n",
    "    \"n_shot\": 3,\n",
    "    \"n_way\": 16,\n",
    "    \"n_query\": 2,\n",
    "    \"train_k_factor\": 1,\n",
    "    \"val_k_factor\": 2,\n",
    "    \"test_k_factor\": 2,\n",
    "    \"torch_default_dtype\": \"torch.float32\",\n",
    "    \"n_epoch\": 50,\n",
    "    \"patience\": 3,\n",
    "    \"criteria_for_best\": \"target_loss\",\n",
    "    \"x_net\": [\n",
    "        {\"class\": \"nnReshape\", \"kargs\": {\"shape\": [-1, 1, 2, 256]}},\n",
    "        {\n",
    "            \"class\": \"Conv2d\",\n",
    "            \"kargs\": {\n",
    "                \"in_channels\": 1,\n",
    "                \"out_channels\": 256,\n",
    "                \"kernel_size\": [1, 7],\n",
    "                \"bias\": False,\n",
    "                \"padding\": [0, 3],\n",
    "            },\n",
    "        },\n",
    "        {\"class\": \"ReLU\", \"kargs\": {\"inplace\": True}},\n",
    "        {\"class\": \"BatchNorm2d\", \"kargs\": {\"num_features\": 256}},\n",
    "        {\n",
    "            \"class\": \"Conv2d\",\n",
    "            \"kargs\": {\n",
    "                \"in_channels\": 256,\n",
    "                \"out_channels\": 80,\n",
    "                \"kernel_size\": [2, 7],\n",
    "                \"bias\": True,\n",
    "                \"padding\": [0, 3],\n",
    "            },\n",
    "        },\n",
    "        {\"class\": \"ReLU\", \"kargs\": {\"inplace\": True}},\n",
    "        {\"class\": \"BatchNorm2d\", \"kargs\": {\"num_features\": 80}},\n",
    "        {\"class\": \"Flatten\", \"kargs\": {}},\n",
    "        {\"class\": \"Linear\", \"kargs\": {\"in_features\": 20480, \"out_features\": 256}},\n",
    "        {\"class\": \"ReLU\", \"kargs\": {\"inplace\": True}},\n",
    "        {\"class\": \"BatchNorm1d\", \"kargs\": {\"num_features\": 256}},\n",
    "        {\"class\": \"Linear\", \"kargs\": {\"in_features\": 256, \"out_features\": 256}},\n",
    "    ],\n",
    "    \"NUM_LOGS_PER_EPOCH\": 10,\n",
    "    \"BEST_MODEL_PATH\": \"./best_model.pth\",\n",
    "    \"pickle_name\": \"oracle.Run2_10kExamples_stratified_ds.2022A.pkl\",\n",
    "    \"lr\": 0.001,\n",
    "    \"domains_source\": [8, 32, 50],\n",
    "    \"domains_target\": [14, 20, 26, 38, 44],\n",
    "}\n"
   ]
  },
  {
   "cell_type": "code",
   "execution_count": 5,
   "id": "8fa1cc33",
   "metadata": {
    "execution": {
     "iopub.execute_input": "2022-03-04T05:21:52.264702Z",
     "iopub.status.busy": "2022-03-04T05:21:52.264288Z",
     "iopub.status.idle": "2022-03-04T05:21:52.276818Z",
     "shell.execute_reply": "2022-03-04T05:21:52.276398Z"
    },
    "papermill": {
     "duration": 0.025239,
     "end_time": "2022-03-04T05:21:52.276911",
     "exception": false,
     "start_time": "2022-03-04T05:21:52.251672",
     "status": "completed"
    },
    "tags": []
   },
   "outputs": [],
   "source": [
    "# Set this to True if you want to run this template directly\n",
    "STANDALONE = False\n",
    "if STANDALONE:\n",
    "    print(\"parameters not injected, running with standalone_parameters\")\n",
    "    parameters = standalone_parameters\n",
    "\n",
    "if not 'parameters' in locals() and not 'parameters' in globals():\n",
    "    raise Exception(\"Parameter injection failed\")\n",
    "\n",
    "#Use an easy dict for all the parameters\n",
    "p = EasyDict(parameters)\n",
    "\n",
    "supplied_keys = set(p.keys())\n",
    "\n",
    "if  supplied_keys != required_parameters:\n",
    "    print(\"Parameters are incorrect\")\n",
    "    if len(supplied_keys - required_parameters)>0: print(\"Shouldn't have:\", str(supplied_keys - required_parameters))\n",
    "    if len(required_parameters - supplied_keys)>0: print(\"Need to have:\", str(required_parameters - supplied_keys))\n",
    "    raise RuntimeError(\"Parameters are incorrect\")\n",
    "\n"
   ]
  },
  {
   "cell_type": "code",
   "execution_count": 6,
   "id": "3a028d58",
   "metadata": {
    "execution": {
     "iopub.execute_input": "2022-03-04T05:21:52.303988Z",
     "iopub.status.busy": "2022-03-04T05:21:52.303722Z",
     "iopub.status.idle": "2022-03-04T05:21:52.317342Z",
     "shell.execute_reply": "2022-03-04T05:21:52.316895Z"
    },
    "papermill": {
     "duration": 0.02578,
     "end_time": "2022-03-04T05:21:52.317432",
     "exception": false,
     "start_time": "2022-03-04T05:21:52.291652",
     "status": "completed"
    },
    "tags": []
   },
   "outputs": [],
   "source": [
    "###################################\n",
    "# Set the RNGs and make it all deterministic\n",
    "###################################\n",
    "np.random.seed(p.seed)\n",
    "random.seed(p.seed)\n",
    "torch.manual_seed(p.seed)\n",
    "\n",
    "torch.use_deterministic_algorithms(True) "
   ]
  },
  {
   "cell_type": "code",
   "execution_count": 7,
   "id": "b691acf6",
   "metadata": {
    "execution": {
     "iopub.execute_input": "2022-03-04T05:21:52.343036Z",
     "iopub.status.busy": "2022-03-04T05:21:52.342785Z",
     "iopub.status.idle": "2022-03-04T05:21:52.354403Z",
     "shell.execute_reply": "2022-03-04T05:21:52.353950Z"
    },
    "papermill": {
     "duration": 0.023092,
     "end_time": "2022-03-04T05:21:52.354489",
     "exception": false,
     "start_time": "2022-03-04T05:21:52.331397",
     "status": "completed"
    },
    "tags": []
   },
   "outputs": [],
   "source": [
    "###########################################\n",
    "# The stratified datasets honor this\n",
    "###########################################\n",
    "torch.set_default_dtype(eval(p.torch_default_dtype))"
   ]
  },
  {
   "cell_type": "code",
   "execution_count": 8,
   "id": "b5fba671",
   "metadata": {
    "execution": {
     "iopub.execute_input": "2022-03-04T05:21:52.379342Z",
     "iopub.status.busy": "2022-03-04T05:21:52.379091Z",
     "iopub.status.idle": "2022-03-04T05:21:52.412990Z",
     "shell.execute_reply": "2022-03-04T05:21:52.412596Z"
    },
    "papermill": {
     "duration": 0.044906,
     "end_time": "2022-03-04T05:21:52.413079",
     "exception": false,
     "start_time": "2022-03-04T05:21:52.368173",
     "status": "completed"
    },
    "tags": []
   },
   "outputs": [],
   "source": [
    "###################################\n",
    "# Build the network(s)\n",
    "# Note: It's critical to do this AFTER setting the RNG\n",
    "# (This is due to the randomized initial weights)\n",
    "###################################\n",
    "x_net = build_sequential(p.x_net)"
   ]
  },
  {
   "cell_type": "code",
   "execution_count": 9,
   "id": "5d7e61cc",
   "metadata": {
    "execution": {
     "iopub.execute_input": "2022-03-04T05:21:52.439798Z",
     "iopub.status.busy": "2022-03-04T05:21:52.439552Z",
     "iopub.status.idle": "2022-03-04T05:21:52.451180Z",
     "shell.execute_reply": "2022-03-04T05:21:52.450822Z"
    },
    "papermill": {
     "duration": 0.023689,
     "end_time": "2022-03-04T05:21:52.451252",
     "exception": false,
     "start_time": "2022-03-04T05:21:52.427563",
     "status": "completed"
    },
    "tags": []
   },
   "outputs": [],
   "source": [
    "start_time_secs = time.time()"
   ]
  },
  {
   "cell_type": "code",
   "execution_count": 10,
   "id": "fd5442bc",
   "metadata": {
    "execution": {
     "iopub.execute_input": "2022-03-04T05:21:52.483221Z",
     "iopub.status.busy": "2022-03-04T05:21:52.482267Z",
     "iopub.status.idle": "2022-03-04T05:21:55.614036Z",
     "shell.execute_reply": "2022-03-04T05:21:55.613608Z"
    },
    "papermill": {
     "duration": 3.149041,
     "end_time": "2022-03-04T05:21:55.614138",
     "exception": false,
     "start_time": "2022-03-04T05:21:52.465097",
     "status": "completed"
    },
    "tags": []
   },
   "outputs": [],
   "source": [
    "###################################\n",
    "# Build the dataset\n",
    "###################################\n",
    "\n",
    "if p.x_transforms_source == []: x_transform_source = None\n",
    "else: x_transform_source = get_chained_transform(p.x_transforms_source) \n",
    "\n",
    "if p.x_transforms_target == []: x_transform_target = None\n",
    "else: x_transform_target = get_chained_transform(p.x_transforms_target)\n",
    "\n",
    "if p.episode_transforms_source == []: episode_transform_source = None\n",
    "else: raise Exception(\"episode_transform_source not implemented\")\n",
    "\n",
    "if p.episode_transforms_target == []: episode_transform_target = None\n",
    "else: raise Exception(\"episode_transform_target not implemented\")\n",
    "\n",
    "\n",
    "eaf_source = Episodic_Accessor_Factory(\n",
    "    labels=p.labels_source,\n",
    "    domains=p.domains_source,\n",
    "    num_examples_per_domain_per_label=p.num_examples_per_domain_per_label_source,\n",
    "    iterator_seed=p.seed,\n",
    "    dataset_seed=p.dataset_seed,\n",
    "    n_shot=p.n_shot,\n",
    "    n_way=p.n_way,\n",
    "    n_query=p.n_query,\n",
    "    train_val_test_k_factors=(p.train_k_factor,p.val_k_factor,p.test_k_factor),\n",
    "    pickle_path=os.path.join(get_datasets_base_path(), p.pickle_name),\n",
    "    x_transform_func=x_transform_source,\n",
    "    example_transform_func=episode_transform_source,\n",
    "    \n",
    ")\n",
    "train_original_source, val_original_source, test_original_source = eaf_source.get_train(), eaf_source.get_val(), eaf_source.get_test()\n",
    "\n",
    "\n",
    "eaf_target = Episodic_Accessor_Factory(\n",
    "    labels=p.labels_target,\n",
    "    domains=p.domains_target,\n",
    "    num_examples_per_domain_per_label=p.num_examples_per_domain_per_label_target,\n",
    "    iterator_seed=p.seed,\n",
    "    dataset_seed=p.dataset_seed,\n",
    "    n_shot=p.n_shot,\n",
    "    n_way=p.n_way,\n",
    "    n_query=p.n_query,\n",
    "    train_val_test_k_factors=(p.train_k_factor,p.val_k_factor,p.test_k_factor),\n",
    "    pickle_path=os.path.join(get_datasets_base_path(), p.pickle_name),\n",
    "    x_transform_func=x_transform_target,\n",
    "    example_transform_func=episode_transform_target,\n",
    ")\n",
    "train_original_target, val_original_target, test_original_target = eaf_target.get_train(), eaf_target.get_val(), eaf_target.get_test()\n",
    "\n",
    "\n",
    "transform_lambda = lambda ex: ex[1] # Original is (<domain>, <episode>) so we strip down to episode only\n",
    "\n",
    "train_processed_source = Lazy_Iterable_Wrapper(train_original_source, transform_lambda)\n",
    "val_processed_source   = Lazy_Iterable_Wrapper(val_original_source, transform_lambda)\n",
    "test_processed_source  = Lazy_Iterable_Wrapper(test_original_source, transform_lambda)\n",
    "\n",
    "train_processed_target = Lazy_Iterable_Wrapper(train_original_target, transform_lambda)\n",
    "val_processed_target   = Lazy_Iterable_Wrapper(val_original_target, transform_lambda)\n",
    "test_processed_target  = Lazy_Iterable_Wrapper(test_original_target, transform_lambda)\n",
    "\n",
    "datasets = EasyDict({\n",
    "    \"source\": {\n",
    "        \"original\": {\"train\":train_original_source, \"val\":val_original_source, \"test\":test_original_source},\n",
    "        \"processed\": {\"train\":train_processed_source, \"val\":val_processed_source, \"test\":test_processed_source}\n",
    "    },\n",
    "    \"target\": {\n",
    "        \"original\": {\"train\":train_original_target, \"val\":val_original_target, \"test\":test_original_target},\n",
    "        \"processed\": {\"train\":train_processed_target, \"val\":val_processed_target, \"test\":test_processed_target}\n",
    "    },\n",
    "})"
   ]
  },
  {
   "cell_type": "code",
   "execution_count": 11,
   "id": "296189d9",
   "metadata": {
    "execution": {
     "iopub.execute_input": "2022-03-04T05:21:55.641494Z",
     "iopub.status.busy": "2022-03-04T05:21:55.641229Z",
     "iopub.status.idle": "2022-03-04T05:21:58.182291Z",
     "shell.execute_reply": "2022-03-04T05:21:58.182754Z"
    },
    "papermill": {
     "duration": 2.554232,
     "end_time": "2022-03-04T05:21:58.182933",
     "exception": false,
     "start_time": "2022-03-04T05:21:55.628701",
     "status": "completed"
    },
    "tags": []
   },
   "outputs": [
    {
     "name": "stdout",
     "output_type": "stream",
     "text": [
      "Visually inspect these to see if they line up with expected values given the transforms\n",
      "x_transforms_source []\n",
      "x_transforms_target []\n",
      "Average magnitude, source: 0.004635015\n",
      "Average power, source: 2.8574976e-05\n"
     ]
    },
    {
     "name": "stdout",
     "output_type": "stream",
     "text": [
      "Average magnitude, target: 0.0029128897\n",
      "Average power, target: 1.0910343e-05\n"
     ]
    }
   ],
   "source": [
    "# Some quick unit tests on the data\n",
    "from steves_utils.transforms import get_average_power, get_average_magnitude\n",
    "\n",
    "q_x, q_y, s_x, s_y, truth = next(iter(train_processed_source))\n",
    "\n",
    "assert q_x.dtype == eval(p.torch_default_dtype)\n",
    "assert s_x.dtype == eval(p.torch_default_dtype)\n",
    "\n",
    "print(\"Visually inspect these to see if they line up with expected values given the transforms\")\n",
    "print('x_transforms_source', p.x_transforms_source)\n",
    "print('x_transforms_target', p.x_transforms_target)\n",
    "print(\"Average magnitude, source:\", get_average_magnitude(q_x[0].numpy()))\n",
    "print(\"Average power, source:\", get_average_power(q_x[0].numpy()))\n",
    "\n",
    "q_x, q_y, s_x, s_y, truth = next(iter(train_processed_target))\n",
    "print(\"Average magnitude, target:\", get_average_magnitude(q_x[0].numpy()))\n",
    "print(\"Average power, target:\", get_average_power(q_x[0].numpy()))\n"
   ]
  },
  {
   "cell_type": "code",
   "execution_count": 12,
   "id": "bbdacba1",
   "metadata": {
    "execution": {
     "iopub.execute_input": "2022-03-04T05:21:58.209856Z",
     "iopub.status.busy": "2022-03-04T05:21:58.209600Z",
     "iopub.status.idle": "2022-03-04T05:21:58.269164Z",
     "shell.execute_reply": "2022-03-04T05:21:58.269466Z"
    },
    "papermill": {
     "duration": 0.073642,
     "end_time": "2022-03-04T05:21:58.269560",
     "exception": false,
     "start_time": "2022-03-04T05:21:58.195918",
     "status": "completed"
    },
    "tags": []
   },
   "outputs": [
    {
     "name": "stdout",
     "output_type": "stream",
     "text": [
      "(2, 256)\n"
     ]
    }
   ],
   "source": [
    "###################################\n",
    "# Build the model\n",
    "###################################\n",
    "model = Steves_Prototypical_Network(x_net, device=p.device, x_shape=(2,256))\n",
    "optimizer = Adam(params=model.parameters(), lr=p.lr)"
   ]
  },
  {
   "cell_type": "code",
   "execution_count": 13,
   "id": "22b39ac5",
   "metadata": {
    "execution": {
     "iopub.execute_input": "2022-03-04T05:21:58.298108Z",
     "iopub.status.busy": "2022-03-04T05:21:58.297851Z",
     "iopub.status.idle": "2022-03-04T05:32:59.526013Z",
     "shell.execute_reply": "2022-03-04T05:32:59.526391Z"
    },
    "papermill": {
     "duration": 661.242347,
     "end_time": "2022-03-04T05:32:59.526512",
     "exception": false,
     "start_time": "2022-03-04T05:21:58.284165",
     "status": "completed"
    },
    "tags": []
   },
   "outputs": [
    {
     "name": "stdout",
     "output_type": "stream",
     "text": [
      "epoch: 1, [batch: 1 / 420], examples_per_second: 9.3574, train_label_loss: 2.3325, \n"
     ]
    },
    {
     "name": "stdout",
     "output_type": "stream",
     "text": [
      "epoch: 1, [batch: 42 / 420], examples_per_second: 825.2710, train_label_loss: 1.3640, \n"
     ]
    },
    {
     "name": "stdout",
     "output_type": "stream",
     "text": [
      "epoch: 1, [batch: 84 / 420], examples_per_second: 900.3838, train_label_loss: 1.4815, \n"
     ]
    },
    {
     "name": "stdout",
     "output_type": "stream",
     "text": [
      "epoch: 1, [batch: 126 / 420], examples_per_second: 981.2986, train_label_loss: 1.3888, \n"
     ]
    },
    {
     "name": "stdout",
     "output_type": "stream",
     "text": [
      "epoch: 1, [batch: 168 / 420], examples_per_second: 1102.0745, train_label_loss: 1.2338, \n"
     ]
    },
    {
     "name": "stdout",
     "output_type": "stream",
     "text": [
      "epoch: 1, [batch: 210 / 420], examples_per_second: 1214.7932, train_label_loss: 1.1526, \n"
     ]
    },
    {
     "name": "stdout",
     "output_type": "stream",
     "text": [
      "epoch: 1, [batch: 252 / 420], examples_per_second: 1429.9920, train_label_loss: 1.0845, \n"
     ]
    },
    {
     "name": "stdout",
     "output_type": "stream",
     "text": [
      "epoch: 1, [batch: 294 / 420], examples_per_second: 1610.2820, train_label_loss: 0.9890, \n"
     ]
    },
    {
     "name": "stdout",
     "output_type": "stream",
     "text": [
      "epoch: 1, [batch: 336 / 420], examples_per_second: 1870.8109, train_label_loss: 1.2664, \n"
     ]
    },
    {
     "name": "stdout",
     "output_type": "stream",
     "text": [
      "epoch: 1, [batch: 378 / 420], examples_per_second: 2175.8797, train_label_loss: 1.3187, \n"
     ]
    },
    {
     "name": "stdout",
     "output_type": "stream",
     "text": [
      "=============================================================\n",
      "epoch: 1, source_val_acc_label: 0.4720, target_val_acc_label: 0.3843, source_val_label_loss: 1.6699, target_val_label_loss: 1.8130, \n",
      "=============================================================\n"
     ]
    },
    {
     "name": "stdout",
     "output_type": "stream",
     "text": [
      "New best\n"
     ]
    },
    {
     "name": "stdout",
     "output_type": "stream",
     "text": [
      "epoch: 2, [batch: 1 / 420], examples_per_second: 5.2956, train_label_loss: 1.4248, \n"
     ]
    },
    {
     "name": "stdout",
     "output_type": "stream",
     "text": [
      "epoch: 2, [batch: 42 / 420], examples_per_second: 822.8050, train_label_loss: 1.3292, \n"
     ]
    },
    {
     "name": "stdout",
     "output_type": "stream",
     "text": [
      "epoch: 2, [batch: 84 / 420], examples_per_second: 892.8202, train_label_loss: 1.2509, \n"
     ]
    },
    {
     "name": "stdout",
     "output_type": "stream",
     "text": [
      "epoch: 2, [batch: 126 / 420], examples_per_second: 987.2721, train_label_loss: 1.2750, \n"
     ]
    },
    {
     "name": "stdout",
     "output_type": "stream",
     "text": [
      "epoch: 2, [batch: 168 / 420], examples_per_second: 1078.0609, train_label_loss: 1.6867, \n"
     ]
    },
    {
     "name": "stdout",
     "output_type": "stream",
     "text": [
      "epoch: 2, [batch: 210 / 420], examples_per_second: 1224.8850, train_label_loss: 1.4363, \n"
     ]
    },
    {
     "name": "stdout",
     "output_type": "stream",
     "text": [
      "epoch: 2, [batch: 252 / 420], examples_per_second: 1379.1762, train_label_loss: 1.1195, \n"
     ]
    },
    {
     "name": "stdout",
     "output_type": "stream",
     "text": [
      "epoch: 2, [batch: 294 / 420], examples_per_second: 1592.3004, train_label_loss: 1.2675, \n"
     ]
    },
    {
     "name": "stdout",
     "output_type": "stream",
     "text": [
      "epoch: 2, [batch: 336 / 420], examples_per_second: 1908.3916, train_label_loss: 1.7205, \n"
     ]
    },
    {
     "name": "stdout",
     "output_type": "stream",
     "text": [
      "epoch: 2, [batch: 378 / 420], examples_per_second: 2311.2061, train_label_loss: 1.3518, \n"
     ]
    },
    {
     "name": "stdout",
     "output_type": "stream",
     "text": [
      "=============================================================\n",
      "epoch: 2, source_val_acc_label: 0.4795, target_val_acc_label: 0.3927, source_val_label_loss: 1.2864, target_val_label_loss: 1.8527, \n",
      "=============================================================\n"
     ]
    },
    {
     "name": "stdout",
     "output_type": "stream",
     "text": [
      "epoch: 3, [batch: 1 / 420], examples_per_second: 5.2759, train_label_loss: 1.2955, \n"
     ]
    },
    {
     "name": "stdout",
     "output_type": "stream",
     "text": [
      "epoch: 3, [batch: 42 / 420], examples_per_second: 820.5364, train_label_loss: 1.1295, \n"
     ]
    },
    {
     "name": "stdout",
     "output_type": "stream",
     "text": [
      "epoch: 3, [batch: 84 / 420], examples_per_second: 910.6388, train_label_loss: 1.1827, \n"
     ]
    },
    {
     "name": "stdout",
     "output_type": "stream",
     "text": [
      "epoch: 3, [batch: 126 / 420], examples_per_second: 965.0650, train_label_loss: 1.4328, \n"
     ]
    },
    {
     "name": "stdout",
     "output_type": "stream",
     "text": [
      "epoch: 3, [batch: 168 / 420], examples_per_second: 1076.7446, train_label_loss: 1.1454, \n"
     ]
    },
    {
     "name": "stdout",
     "output_type": "stream",
     "text": [
      "epoch: 3, [batch: 210 / 420], examples_per_second: 1177.5446, train_label_loss: 1.3910, \n"
     ]
    },
    {
     "name": "stdout",
     "output_type": "stream",
     "text": [
      "epoch: 3, [batch: 252 / 420], examples_per_second: 1348.7591, train_label_loss: 1.3124, \n"
     ]
    },
    {
     "name": "stdout",
     "output_type": "stream",
     "text": [
      "epoch: 3, [batch: 294 / 420], examples_per_second: 1599.4121, train_label_loss: 1.1636, \n"
     ]
    },
    {
     "name": "stdout",
     "output_type": "stream",
     "text": [
      "epoch: 3, [batch: 336 / 420], examples_per_second: 1909.5596, train_label_loss: 1.3953, \n"
     ]
    },
    {
     "name": "stdout",
     "output_type": "stream",
     "text": [
      "epoch: 3, [batch: 378 / 420], examples_per_second: 2346.6998, train_label_loss: 0.4782, \n"
     ]
    },
    {
     "name": "stdout",
     "output_type": "stream",
     "text": [
      "=============================================================\n",
      "epoch: 3, source_val_acc_label: 0.6809, target_val_acc_label: 0.5259, source_val_label_loss: 0.8438, target_val_label_loss: 1.5031, \n",
      "=============================================================\n"
     ]
    },
    {
     "name": "stdout",
     "output_type": "stream",
     "text": [
      "New best\n"
     ]
    },
    {
     "name": "stdout",
     "output_type": "stream",
     "text": [
      "epoch: 4, [batch: 1 / 420], examples_per_second: 5.3490, train_label_loss: 1.1777, \n"
     ]
    },
    {
     "name": "stdout",
     "output_type": "stream",
     "text": [
      "epoch: 4, [batch: 42 / 420], examples_per_second: 833.4975, train_label_loss: 1.2209, \n"
     ]
    },
    {
     "name": "stdout",
     "output_type": "stream",
     "text": [
      "epoch: 4, [batch: 84 / 420], examples_per_second: 895.5294, train_label_loss: 0.8201, \n"
     ]
    },
    {
     "name": "stdout",
     "output_type": "stream",
     "text": [
      "epoch: 4, [batch: 126 / 420], examples_per_second: 998.5671, train_label_loss: 1.1268, \n"
     ]
    },
    {
     "name": "stdout",
     "output_type": "stream",
     "text": [
      "epoch: 4, [batch: 168 / 420], examples_per_second: 1042.7936, train_label_loss: 1.1023, \n"
     ]
    },
    {
     "name": "stdout",
     "output_type": "stream",
     "text": [
      "epoch: 4, [batch: 210 / 420], examples_per_second: 1200.5367, train_label_loss: 0.5176, \n"
     ]
    },
    {
     "name": "stdout",
     "output_type": "stream",
     "text": [
      "epoch: 4, [batch: 252 / 420], examples_per_second: 1362.6974, train_label_loss: 1.2357, \n"
     ]
    },
    {
     "name": "stdout",
     "output_type": "stream",
     "text": [
      "epoch: 4, [batch: 294 / 420], examples_per_second: 1600.4814, train_label_loss: 0.8685, \n"
     ]
    },
    {
     "name": "stdout",
     "output_type": "stream",
     "text": [
      "epoch: 4, [batch: 336 / 420], examples_per_second: 1983.6355, train_label_loss: 1.0536, \n"
     ]
    },
    {
     "name": "stdout",
     "output_type": "stream",
     "text": [
      "epoch: 4, [batch: 378 / 420], examples_per_second: 2364.4281, train_label_loss: 0.6117, \n"
     ]
    },
    {
     "name": "stdout",
     "output_type": "stream",
     "text": [
      "=============================================================\n",
      "epoch: 4, source_val_acc_label: 0.7347, target_val_acc_label: 0.5802, source_val_label_loss: 0.7033, target_val_label_loss: 1.3231, \n",
      "=============================================================\n"
     ]
    },
    {
     "name": "stdout",
     "output_type": "stream",
     "text": [
      "New best\n"
     ]
    },
    {
     "name": "stdout",
     "output_type": "stream",
     "text": [
      "epoch: 5, [batch: 1 / 420], examples_per_second: 5.2642, train_label_loss: 0.3930, \n"
     ]
    },
    {
     "name": "stdout",
     "output_type": "stream",
     "text": [
      "epoch: 5, [batch: 42 / 420], examples_per_second: 809.3361, train_label_loss: 0.6041, \n"
     ]
    },
    {
     "name": "stdout",
     "output_type": "stream",
     "text": [
      "epoch: 5, [batch: 84 / 420], examples_per_second: 904.3263, train_label_loss: 0.4362, \n"
     ]
    },
    {
     "name": "stdout",
     "output_type": "stream",
     "text": [
      "epoch: 5, [batch: 126 / 420], examples_per_second: 991.2472, train_label_loss: 0.4339, \n"
     ]
    },
    {
     "name": "stdout",
     "output_type": "stream",
     "text": [
      "epoch: 5, [batch: 168 / 420], examples_per_second: 1076.7276, train_label_loss: 0.6467, \n"
     ]
    },
    {
     "name": "stdout",
     "output_type": "stream",
     "text": [
      "epoch: 5, [batch: 210 / 420], examples_per_second: 1221.8324, train_label_loss: 0.7037, \n"
     ]
    },
    {
     "name": "stdout",
     "output_type": "stream",
     "text": [
      "epoch: 5, [batch: 252 / 420], examples_per_second: 1385.4331, train_label_loss: 0.3393, \n"
     ]
    },
    {
     "name": "stdout",
     "output_type": "stream",
     "text": [
      "epoch: 5, [batch: 294 / 420], examples_per_second: 1581.9200, train_label_loss: 0.9005, \n"
     ]
    },
    {
     "name": "stdout",
     "output_type": "stream",
     "text": [
      "epoch: 5, [batch: 336 / 420], examples_per_second: 1847.3249, train_label_loss: 0.6714, \n"
     ]
    },
    {
     "name": "stdout",
     "output_type": "stream",
     "text": [
      "epoch: 5, [batch: 378 / 420], examples_per_second: 2310.7256, train_label_loss: 0.7881, \n"
     ]
    },
    {
     "name": "stdout",
     "output_type": "stream",
     "text": [
      "=============================================================\n",
      "epoch: 5, source_val_acc_label: 0.7462, target_val_acc_label: 0.6049, source_val_label_loss: 0.6847, target_val_label_loss: 1.2597, \n",
      "=============================================================\n"
     ]
    },
    {
     "name": "stdout",
     "output_type": "stream",
     "text": [
      "New best\n"
     ]
    },
    {
     "name": "stdout",
     "output_type": "stream",
     "text": [
      "epoch: 6, [batch: 1 / 420], examples_per_second: 5.1613, train_label_loss: 0.4347, \n"
     ]
    },
    {
     "name": "stdout",
     "output_type": "stream",
     "text": [
      "epoch: 6, [batch: 42 / 420], examples_per_second: 815.9777, train_label_loss: 0.3205, \n"
     ]
    },
    {
     "name": "stdout",
     "output_type": "stream",
     "text": [
      "epoch: 6, [batch: 84 / 420], examples_per_second: 880.1110, train_label_loss: 0.5632, \n"
     ]
    },
    {
     "name": "stdout",
     "output_type": "stream",
     "text": [
      "epoch: 6, [batch: 126 / 420], examples_per_second: 980.8385, train_label_loss: 0.3713, \n"
     ]
    },
    {
     "name": "stdout",
     "output_type": "stream",
     "text": [
      "epoch: 6, [batch: 168 / 420], examples_per_second: 1065.9527, train_label_loss: 0.6463, \n"
     ]
    },
    {
     "name": "stdout",
     "output_type": "stream",
     "text": [
      "epoch: 6, [batch: 210 / 420], examples_per_second: 1186.1731, train_label_loss: 0.4917, \n"
     ]
    },
    {
     "name": "stdout",
     "output_type": "stream",
     "text": [
      "epoch: 6, [batch: 252 / 420], examples_per_second: 1378.1363, train_label_loss: 0.5395, \n"
     ]
    },
    {
     "name": "stdout",
     "output_type": "stream",
     "text": [
      "epoch: 6, [batch: 294 / 420], examples_per_second: 1621.0506, train_label_loss: 0.7681, \n"
     ]
    },
    {
     "name": "stdout",
     "output_type": "stream",
     "text": [
      "epoch: 6, [batch: 336 / 420], examples_per_second: 1847.5143, train_label_loss: 0.7266, \n"
     ]
    },
    {
     "name": "stdout",
     "output_type": "stream",
     "text": [
      "epoch: 6, [batch: 378 / 420], examples_per_second: 2252.9884, train_label_loss: 0.5757, \n"
     ]
    },
    {
     "name": "stdout",
     "output_type": "stream",
     "text": [
      "=============================================================\n",
      "epoch: 6, source_val_acc_label: 0.7641, target_val_acc_label: 0.6100, source_val_label_loss: 0.6403, target_val_label_loss: 1.2694, \n",
      "=============================================================\n"
     ]
    },
    {
     "name": "stdout",
     "output_type": "stream",
     "text": [
      "epoch: 7, [batch: 1 / 420], examples_per_second: 5.2267, train_label_loss: 0.2491, \n"
     ]
    },
    {
     "name": "stdout",
     "output_type": "stream",
     "text": [
      "epoch: 7, [batch: 42 / 420], examples_per_second: 812.5926, train_label_loss: 0.4868, \n"
     ]
    },
    {
     "name": "stdout",
     "output_type": "stream",
     "text": [
      "epoch: 7, [batch: 84 / 420], examples_per_second: 878.7430, train_label_loss: 0.3751, \n"
     ]
    },
    {
     "name": "stdout",
     "output_type": "stream",
     "text": [
      "epoch: 7, [batch: 126 / 420], examples_per_second: 987.3173, train_label_loss: 0.8565, \n"
     ]
    },
    {
     "name": "stdout",
     "output_type": "stream",
     "text": [
      "epoch: 7, [batch: 168 / 420], examples_per_second: 1079.3037, train_label_loss: 0.2431, \n"
     ]
    },
    {
     "name": "stdout",
     "output_type": "stream",
     "text": [
      "epoch: 7, [batch: 210 / 420], examples_per_second: 1226.0866, train_label_loss: 0.2675, \n"
     ]
    },
    {
     "name": "stdout",
     "output_type": "stream",
     "text": [
      "epoch: 7, [batch: 252 / 420], examples_per_second: 1351.1169, train_label_loss: 0.6926, \n"
     ]
    },
    {
     "name": "stdout",
     "output_type": "stream",
     "text": [
      "epoch: 7, [batch: 294 / 420], examples_per_second: 1601.1950, train_label_loss: 0.3849, \n"
     ]
    },
    {
     "name": "stdout",
     "output_type": "stream",
     "text": [
      "epoch: 7, [batch: 336 / 420], examples_per_second: 1896.1846, train_label_loss: 0.5414, \n"
     ]
    },
    {
     "name": "stdout",
     "output_type": "stream",
     "text": [
      "epoch: 7, [batch: 378 / 420], examples_per_second: 2222.8229, train_label_loss: 0.6973, \n"
     ]
    },
    {
     "name": "stdout",
     "output_type": "stream",
     "text": [
      "=============================================================\n",
      "epoch: 7, source_val_acc_label: 0.7526, target_val_acc_label: 0.6116, source_val_label_loss: 0.6424, target_val_label_loss: 1.2320, \n",
      "=============================================================\n"
     ]
    },
    {
     "name": "stdout",
     "output_type": "stream",
     "text": [
      "New best\n"
     ]
    },
    {
     "name": "stdout",
     "output_type": "stream",
     "text": [
      "epoch: 8, [batch: 1 / 420], examples_per_second: 5.3077, train_label_loss: 0.2915, \n"
     ]
    },
    {
     "name": "stdout",
     "output_type": "stream",
     "text": [
      "epoch: 8, [batch: 42 / 420], examples_per_second: 831.0808, train_label_loss: 0.4130, \n"
     ]
    },
    {
     "name": "stdout",
     "output_type": "stream",
     "text": [
      "epoch: 8, [batch: 84 / 420], examples_per_second: 906.0885, train_label_loss: 0.3059, \n"
     ]
    },
    {
     "name": "stdout",
     "output_type": "stream",
     "text": [
      "epoch: 8, [batch: 126 / 420], examples_per_second: 970.0506, train_label_loss: 0.2100, \n"
     ]
    },
    {
     "name": "stdout",
     "output_type": "stream",
     "text": [
      "epoch: 8, [batch: 168 / 420], examples_per_second: 1114.7908, train_label_loss: 0.2883, \n"
     ]
    },
    {
     "name": "stdout",
     "output_type": "stream",
     "text": [
      "epoch: 8, [batch: 210 / 420], examples_per_second: 1227.9616, train_label_loss: 1.0893, \n"
     ]
    },
    {
     "name": "stdout",
     "output_type": "stream",
     "text": [
      "epoch: 8, [batch: 252 / 420], examples_per_second: 1420.9523, train_label_loss: 0.3286, \n"
     ]
    },
    {
     "name": "stdout",
     "output_type": "stream",
     "text": [
      "epoch: 8, [batch: 294 / 420], examples_per_second: 1602.8340, train_label_loss: 0.4627, \n"
     ]
    },
    {
     "name": "stdout",
     "output_type": "stream",
     "text": [
      "epoch: 8, [batch: 336 / 420], examples_per_second: 1835.6976, train_label_loss: 0.5938, \n"
     ]
    },
    {
     "name": "stdout",
     "output_type": "stream",
     "text": [
      "epoch: 8, [batch: 378 / 420], examples_per_second: 2084.9803, train_label_loss: 0.5540, \n"
     ]
    },
    {
     "name": "stdout",
     "output_type": "stream",
     "text": [
      "=============================================================\n",
      "epoch: 8, source_val_acc_label: 0.7707, target_val_acc_label: 0.6227, source_val_label_loss: 0.6102, target_val_label_loss: 1.2044, \n",
      "=============================================================\n"
     ]
    },
    {
     "name": "stdout",
     "output_type": "stream",
     "text": [
      "New best\n"
     ]
    },
    {
     "name": "stdout",
     "output_type": "stream",
     "text": [
      "epoch: 9, [batch: 1 / 420], examples_per_second: 5.2656, train_label_loss: 0.4891, \n"
     ]
    },
    {
     "name": "stdout",
     "output_type": "stream",
     "text": [
      "epoch: 9, [batch: 42 / 420], examples_per_second: 849.5408, train_label_loss: 0.4345, \n"
     ]
    },
    {
     "name": "stdout",
     "output_type": "stream",
     "text": [
      "epoch: 9, [batch: 84 / 420], examples_per_second: 925.1208, train_label_loss: 0.2234, \n"
     ]
    },
    {
     "name": "stdout",
     "output_type": "stream",
     "text": [
      "epoch: 9, [batch: 126 / 420], examples_per_second: 978.2666, train_label_loss: 0.4737, \n"
     ]
    },
    {
     "name": "stdout",
     "output_type": "stream",
     "text": [
      "epoch: 9, [batch: 168 / 420], examples_per_second: 1100.2359, train_label_loss: 0.3734, \n"
     ]
    },
    {
     "name": "stdout",
     "output_type": "stream",
     "text": [
      "epoch: 9, [batch: 210 / 420], examples_per_second: 1247.5707, train_label_loss: 0.2722, \n"
     ]
    },
    {
     "name": "stdout",
     "output_type": "stream",
     "text": [
      "epoch: 9, [batch: 252 / 420], examples_per_second: 1412.5061, train_label_loss: 0.6093, \n"
     ]
    },
    {
     "name": "stdout",
     "output_type": "stream",
     "text": [
      "epoch: 9, [batch: 294 / 420], examples_per_second: 1632.5045, train_label_loss: 0.7234, \n"
     ]
    },
    {
     "name": "stdout",
     "output_type": "stream",
     "text": [
      "epoch: 9, [batch: 336 / 420], examples_per_second: 1916.0546, train_label_loss: 0.5925, \n"
     ]
    },
    {
     "name": "stdout",
     "output_type": "stream",
     "text": [
      "epoch: 9, [batch: 378 / 420], examples_per_second: 2368.3973, train_label_loss: 0.3587, \n"
     ]
    },
    {
     "name": "stdout",
     "output_type": "stream",
     "text": [
      "=============================================================\n",
      "epoch: 9, source_val_acc_label: 0.7773, target_val_acc_label: 0.6261, source_val_label_loss: 0.5963, target_val_label_loss: 1.2865, \n",
      "=============================================================\n"
     ]
    },
    {
     "name": "stdout",
     "output_type": "stream",
     "text": [
      "epoch: 10, [batch: 1 / 420], examples_per_second: 5.3267, train_label_loss: 0.3691, \n"
     ]
    },
    {
     "name": "stdout",
     "output_type": "stream",
     "text": [
      "epoch: 10, [batch: 42 / 420], examples_per_second: 814.1180, train_label_loss: 0.3928, \n"
     ]
    },
    {
     "name": "stdout",
     "output_type": "stream",
     "text": [
      "epoch: 10, [batch: 84 / 420], examples_per_second: 862.7581, train_label_loss: 0.4143, \n"
     ]
    },
    {
     "name": "stdout",
     "output_type": "stream",
     "text": [
      "epoch: 10, [batch: 126 / 420], examples_per_second: 954.2823, train_label_loss: 0.3333, \n"
     ]
    },
    {
     "name": "stdout",
     "output_type": "stream",
     "text": [
      "epoch: 10, [batch: 168 / 420], examples_per_second: 1063.0380, train_label_loss: 0.6728, \n"
     ]
    },
    {
     "name": "stdout",
     "output_type": "stream",
     "text": [
      "epoch: 10, [batch: 210 / 420], examples_per_second: 1155.2099, train_label_loss: 0.1992, \n"
     ]
    },
    {
     "name": "stdout",
     "output_type": "stream",
     "text": [
      "epoch: 10, [batch: 252 / 420], examples_per_second: 1343.4862, train_label_loss: 0.3625, \n"
     ]
    },
    {
     "name": "stdout",
     "output_type": "stream",
     "text": [
      "epoch: 10, [batch: 294 / 420], examples_per_second: 1538.6676, train_label_loss: 0.2628, \n"
     ]
    },
    {
     "name": "stdout",
     "output_type": "stream",
     "text": [
      "epoch: 10, [batch: 336 / 420], examples_per_second: 1871.3746, train_label_loss: 0.2074, \n"
     ]
    },
    {
     "name": "stdout",
     "output_type": "stream",
     "text": [
      "epoch: 10, [batch: 378 / 420], examples_per_second: 2331.2493, train_label_loss: 0.6206, \n"
     ]
    },
    {
     "name": "stdout",
     "output_type": "stream",
     "text": [
      "=============================================================\n",
      "epoch: 10, source_val_acc_label: 0.7724, target_val_acc_label: 0.6303, source_val_label_loss: 0.6085, target_val_label_loss: 1.2637, \n",
      "=============================================================\n"
     ]
    },
    {
     "name": "stdout",
     "output_type": "stream",
     "text": [
      "epoch: 11, [batch: 1 / 420], examples_per_second: 5.2338, train_label_loss: 0.4019, \n"
     ]
    },
    {
     "name": "stdout",
     "output_type": "stream",
     "text": [
      "epoch: 11, [batch: 42 / 420], examples_per_second: 835.0649, train_label_loss: 0.2355, \n"
     ]
    },
    {
     "name": "stdout",
     "output_type": "stream",
     "text": [
      "epoch: 11, [batch: 84 / 420], examples_per_second: 922.8175, train_label_loss: 0.4573, \n"
     ]
    },
    {
     "name": "stdout",
     "output_type": "stream",
     "text": [
      "epoch: 11, [batch: 126 / 420], examples_per_second: 1005.6473, train_label_loss: 0.5699, \n"
     ]
    },
    {
     "name": "stdout",
     "output_type": "stream",
     "text": [
      "epoch: 11, [batch: 168 / 420], examples_per_second: 1111.3821, train_label_loss: 0.2678, \n"
     ]
    },
    {
     "name": "stdout",
     "output_type": "stream",
     "text": [
      "epoch: 11, [batch: 210 / 420], examples_per_second: 1250.9214, train_label_loss: 0.4784, \n"
     ]
    },
    {
     "name": "stdout",
     "output_type": "stream",
     "text": [
      "epoch: 11, [batch: 252 / 420], examples_per_second: 1399.8315, train_label_loss: 0.2185, \n"
     ]
    },
    {
     "name": "stdout",
     "output_type": "stream",
     "text": [
      "epoch: 11, [batch: 294 / 420], examples_per_second: 1621.0663, train_label_loss: 0.4899, \n"
     ]
    },
    {
     "name": "stdout",
     "output_type": "stream",
     "text": [
      "epoch: 11, [batch: 336 / 420], examples_per_second: 1904.9770, train_label_loss: 0.3861, \n"
     ]
    },
    {
     "name": "stdout",
     "output_type": "stream",
     "text": [
      "epoch: 11, [batch: 378 / 420], examples_per_second: 2295.3680, train_label_loss: 0.4237, \n"
     ]
    },
    {
     "name": "stdout",
     "output_type": "stream",
     "text": [
      "=============================================================\n",
      "epoch: 11, source_val_acc_label: 0.7720, target_val_acc_label: 0.6324, source_val_label_loss: 0.6193, target_val_label_loss: 1.3482, \n",
      "=============================================================\n"
     ]
    },
    {
     "name": "stdout",
     "output_type": "stream",
     "text": [
      "epoch: 12, [batch: 1 / 420], examples_per_second: 5.2998, train_label_loss: 0.2514, \n"
     ]
    },
    {
     "name": "stdout",
     "output_type": "stream",
     "text": [
      "epoch: 12, [batch: 42 / 420], examples_per_second: 843.8145, train_label_loss: 0.3387, \n"
     ]
    },
    {
     "name": "stdout",
     "output_type": "stream",
     "text": [
      "epoch: 12, [batch: 84 / 420], examples_per_second: 916.3274, train_label_loss: 0.2819, \n"
     ]
    },
    {
     "name": "stdout",
     "output_type": "stream",
     "text": [
      "epoch: 12, [batch: 126 / 420], examples_per_second: 1000.9515, train_label_loss: 0.5603, \n"
     ]
    },
    {
     "name": "stdout",
     "output_type": "stream",
     "text": [
      "epoch: 12, [batch: 168 / 420], examples_per_second: 1098.4590, train_label_loss: 0.4539, \n"
     ]
    },
    {
     "name": "stdout",
     "output_type": "stream",
     "text": [
      "epoch: 12, [batch: 210 / 420], examples_per_second: 1215.8493, train_label_loss: 0.2390, \n"
     ]
    },
    {
     "name": "stdout",
     "output_type": "stream",
     "text": [
      "epoch: 12, [batch: 252 / 420], examples_per_second: 1397.5443, train_label_loss: 0.3961, \n"
     ]
    },
    {
     "name": "stdout",
     "output_type": "stream",
     "text": [
      "epoch: 12, [batch: 294 / 420], examples_per_second: 1627.6572, train_label_loss: 0.7170, \n"
     ]
    },
    {
     "name": "stdout",
     "output_type": "stream",
     "text": [
      "epoch: 12, [batch: 336 / 420], examples_per_second: 1906.2896, train_label_loss: 0.3781, \n"
     ]
    },
    {
     "name": "stdout",
     "output_type": "stream",
     "text": [
      "epoch: 12, [batch: 378 / 420], examples_per_second: 2224.4796, train_label_loss: 0.4420, \n"
     ]
    },
    {
     "name": "stdout",
     "output_type": "stream",
     "text": [
      "=============================================================\n",
      "epoch: 12, source_val_acc_label: 0.7826, target_val_acc_label: 0.6434, source_val_label_loss: 0.6022, target_val_label_loss: 1.2821, \n",
      "=============================================================\n"
     ]
    },
    {
     "name": "stdout",
     "output_type": "stream",
     "text": [
      "Patience (3) exhausted\n"
     ]
    }
   ],
   "source": [
    "###################################\n",
    "# train\n",
    "###################################\n",
    "jig = PTN_Train_Eval_Test_Jig(model, p.BEST_MODEL_PATH, p.device)\n",
    "\n",
    "jig.train(\n",
    "    train_iterable=datasets.source.processed.train,\n",
    "    source_val_iterable=datasets.source.processed.val,\n",
    "    target_val_iterable=datasets.target.processed.val,\n",
    "    num_epochs=p.n_epoch,\n",
    "    num_logs_per_epoch=p.NUM_LOGS_PER_EPOCH,\n",
    "    patience=p.patience,\n",
    "    optimizer=optimizer,\n",
    "    criteria_for_best=p.criteria_for_best,\n",
    ")"
   ]
  },
  {
   "cell_type": "code",
   "execution_count": 14,
   "id": "31e8fabf",
   "metadata": {
    "execution": {
     "iopub.execute_input": "2022-03-04T05:32:59.603579Z",
     "iopub.status.busy": "2022-03-04T05:32:59.603327Z",
     "iopub.status.idle": "2022-03-04T05:32:59.618237Z",
     "shell.execute_reply": "2022-03-04T05:32:59.617842Z"
    },
    "papermill": {
     "duration": 0.053545,
     "end_time": "2022-03-04T05:32:59.618403",
     "exception": false,
     "start_time": "2022-03-04T05:32:59.564858",
     "status": "completed"
    },
    "tags": []
   },
   "outputs": [],
   "source": [
    "total_experiment_time_secs = time.time() - start_time_secs"
   ]
  },
  {
   "cell_type": "code",
   "execution_count": 15,
   "id": "87b9595b",
   "metadata": {
    "execution": {
     "iopub.execute_input": "2022-03-04T05:32:59.701257Z",
     "iopub.status.busy": "2022-03-04T05:32:59.700986Z",
     "iopub.status.idle": "2022-03-04T05:34:31.324289Z",
     "shell.execute_reply": "2022-03-04T05:34:31.323745Z"
    },
    "papermill": {
     "duration": 91.666224,
     "end_time": "2022-03-04T05:34:31.324401",
     "exception": false,
     "start_time": "2022-03-04T05:32:59.658177",
     "status": "completed"
    },
    "tags": []
   },
   "outputs": [],
   "source": [
    "###################################\n",
    "# Evaluate the model\n",
    "###################################\n",
    "source_test_label_accuracy, source_test_label_loss = jig.test(datasets.source.processed.test)\n",
    "target_test_label_accuracy, target_test_label_loss = jig.test(datasets.target.processed.test)\n",
    "\n",
    "source_val_label_accuracy, source_val_label_loss = jig.test(datasets.source.processed.val)\n",
    "target_val_label_accuracy, target_val_label_loss = jig.test(datasets.target.processed.val)\n",
    "\n",
    "history = jig.get_history()\n",
    "\n",
    "total_epochs_trained = len(history[\"epoch_indices\"])\n",
    "\n",
    "val_dl = Iterable_Aggregator((datasets.source.original.val,datasets.target.original.val))\n",
    "\n",
    "confusion = ptn_confusion_by_domain_over_dataloader(model, p.device, val_dl)\n",
    "per_domain_accuracy = per_domain_accuracy_from_confusion(confusion)\n",
    "\n",
    "# Add a key to per_domain_accuracy for if it was a source domain\n",
    "for domain, accuracy in per_domain_accuracy.items():\n",
    "    per_domain_accuracy[domain] = {\n",
    "        \"accuracy\": accuracy,\n",
    "        \"source?\": domain in p.domains_source\n",
    "    }\n",
    "\n",
    "# Do an independent accuracy assesment JUST TO BE SURE!\n",
    "# _source_test_label_accuracy = independent_accuracy_assesment(model, datasets.source.processed.test, p.device)\n",
    "# _target_test_label_accuracy = independent_accuracy_assesment(model, datasets.target.processed.test, p.device)\n",
    "# _source_val_label_accuracy = independent_accuracy_assesment(model, datasets.source.processed.val, p.device)\n",
    "# _target_val_label_accuracy = independent_accuracy_assesment(model, datasets.target.processed.val, p.device)\n",
    "\n",
    "# assert(_source_test_label_accuracy == source_test_label_accuracy)\n",
    "# assert(_target_test_label_accuracy == target_test_label_accuracy)\n",
    "# assert(_source_val_label_accuracy == source_val_label_accuracy)\n",
    "# assert(_target_val_label_accuracy == target_val_label_accuracy)\n",
    "\n",
    "experiment = {\n",
    "    \"experiment_name\": p.experiment_name,\n",
    "    \"parameters\": dict(p),\n",
    "    \"results\": {\n",
    "        \"source_test_label_accuracy\": source_test_label_accuracy,\n",
    "        \"source_test_label_loss\": source_test_label_loss,\n",
    "        \"target_test_label_accuracy\": target_test_label_accuracy,\n",
    "        \"target_test_label_loss\": target_test_label_loss,\n",
    "        \"source_val_label_accuracy\": source_val_label_accuracy,\n",
    "        \"source_val_label_loss\": source_val_label_loss,\n",
    "        \"target_val_label_accuracy\": target_val_label_accuracy,\n",
    "        \"target_val_label_loss\": target_val_label_loss,\n",
    "        \"total_epochs_trained\": total_epochs_trained,\n",
    "        \"total_experiment_time_secs\": total_experiment_time_secs,\n",
    "        \"confusion\": confusion,\n",
    "        \"per_domain_accuracy\": per_domain_accuracy,\n",
    "    },\n",
    "    \"history\": history,\n",
    "    \"dataset_metrics\": get_dataset_metrics(datasets, \"ptn\"),\n",
    "}"
   ]
  },
  {
   "cell_type": "code",
   "execution_count": 16,
   "id": "54a21829",
   "metadata": {
    "execution": {
     "iopub.execute_input": "2022-03-04T05:34:31.406076Z",
     "iopub.status.busy": "2022-03-04T05:34:31.405803Z",
     "iopub.status.idle": "2022-03-04T05:34:31.598534Z",
     "shell.execute_reply": "2022-03-04T05:34:31.598050Z"
    },
    "papermill": {
     "duration": 0.233058,
     "end_time": "2022-03-04T05:34:31.598655",
     "exception": false,
     "start_time": "2022-03-04T05:34:31.365597",
     "status": "completed"
    },
    "tags": []
   },
   "outputs": [
    {
     "data": {
      "image/png": "[encoded data removed]",
      "text/plain": [
       "<Figure size 1080x504 with 1 Axes>"
      ]
     },
     "metadata": {
      "needs_background": "light"
     },
     "output_type": "display_data"
    }
   ],
   "source": [
    "ax = get_loss_curve(experiment)\n",
    "plt.show()"
   ]
  },
  {
   "cell_type": "code",
   "execution_count": 17,
   "id": "fd8a0f60",
   "metadata": {
    "execution": {
     "iopub.execute_input": "2022-03-04T05:34:31.682095Z",
     "iopub.status.busy": "2022-03-04T05:34:31.681555Z",
     "iopub.status.idle": "2022-03-04T05:34:31.947190Z",
     "shell.execute_reply": "2022-03-04T05:34:31.947737Z"
    },
    "papermill": {
     "duration": 0.307612,
     "end_time": "2022-03-04T05:34:31.947899",
     "exception": false,
     "start_time": "2022-03-04T05:34:31.640287",
     "status": "completed"
    },
    "tags": []
   },
   "outputs": [
    {
     "data": {
      "text/plain": [
       "<matplotlib.axes._subplots.AxesSubplot at 0x7f46d466a4f0>"
      ]
     },
     "execution_count": 17,
     "metadata": {},
     "output_type": "execute_result"
    },
    {
     "data": {
      "image/png": "[encoded data removed]",
      "text/plain": [
       "<Figure size 1080x504 with 1 Axes>"
      ]
     },
     "metadata": {
      "needs_background": "light"
     },
     "output_type": "display_data"
    }
   ],
   "source": [
    "get_results_table(experiment)"
   ]
  },
  {
   "cell_type": "code",
   "execution_count": 18,
   "id": "cf8dc689",
   "metadata": {
    "execution": {
     "iopub.execute_input": "2022-03-04T05:34:32.037964Z",
     "iopub.status.busy": "2022-03-04T05:34:32.037518Z",
     "iopub.status.idle": "2022-03-04T05:34:32.233885Z",
     "shell.execute_reply": "2022-03-04T05:34:32.234313Z"
    },
    "papermill": {
     "duration": 0.238168,
     "end_time": "2022-03-04T05:34:32.234449",
     "exception": false,
     "start_time": "2022-03-04T05:34:31.996281",
     "status": "completed"
    },
    "tags": []
   },
   "outputs": [
    {
     "data": {
      "text/plain": [
       "<matplotlib.axes._subplots.AxesSubplot at 0x7f46d4513a90>"
      ]
     },
     "execution_count": 18,
     "metadata": {},
     "output_type": "execute_result"
    },
    {
     "data": {
      "image/png": "[encoded data removed]",
      "text/plain": [
       "<Figure size 1080x504 with 1 Axes>"
      ]
     },
     "metadata": {
      "needs_background": "light"
     },
     "output_type": "display_data"
    }
   ],
   "source": [
    "get_domain_accuracies(experiment)"
   ]
  },
  {
   "cell_type": "code",
   "execution_count": 19,
   "id": "a74ae082",
   "metadata": {
    "execution": {
     "iopub.execute_input": "2022-03-04T05:34:32.319504Z",
     "iopub.status.busy": "2022-03-04T05:34:32.319205Z",
     "iopub.status.idle": "2022-03-04T05:34:32.334298Z",
     "shell.execute_reply": "2022-03-04T05:34:32.334027Z"
    },
    "papermill": {
     "duration": 0.057171,
     "end_time": "2022-03-04T05:34:32.334359",
     "exception": false,
     "start_time": "2022-03-04T05:34:32.277188",
     "status": "completed"
    },
    "tags": []
   },
   "outputs": [
    {
     "name": "stdout",
     "output_type": "stream",
     "text": [
      "Source Test Label Accuracy: 0.7704861111111111 Target Test Label Accuracy: 0.6263541666666667\n",
      "Source Val Label Accuracy: 0.7706597222222222 Target Val Label Accuracy: 0.6227083333333333\n"
     ]
    }
   ],
   "source": [
    "print(\"Source Test Label Accuracy:\", experiment[\"results\"][\"source_test_label_accuracy\"], \"Target Test Label Accuracy:\", experiment[\"results\"][\"target_test_label_accuracy\"])\n",
    "print(\"Source Val Label Accuracy:\", experiment[\"results\"][\"source_val_label_accuracy\"], \"Target Val Label Accuracy:\", experiment[\"results\"][\"target_val_label_accuracy\"])"
   ]
  },
  {
   "cell_type": "code",
   "execution_count": 20,
   "id": "dacca602",
   "metadata": {
    "execution": {
     "iopub.execute_input": "2022-03-04T05:34:32.418044Z",
     "iopub.status.busy": "2022-03-04T05:34:32.417776Z",
     "iopub.status.idle": "2022-03-04T05:34:32.432051Z",
     "shell.execute_reply": "2022-03-04T05:34:32.431614Z"
    },
    "papermill": {
     "duration": 0.056204,
     "end_time": "2022-03-04T05:34:32.432157",
     "exception": false,
     "start_time": "2022-03-04T05:34:32.375953",
     "status": "completed"
    },
    "tags": [
     "experiment_json"
    ]
   },
   "outputs": [
    {
     "data": {
      "text/plain": [
       "'{\"experiment_name\": \"learningRate_oracle.run2\", \"parameters\": {\"experiment_name\": \"learningRate_oracle.run2\", \"device\": \"cuda\", \"seed\": 1337, \"dataset_seed\": 1337, \"labels_source\": [\"3123D52\", \"3123D65\", \"3123D79\", \"3123D80\", \"3123D54\", \"3123D70\", \"3123D7B\", \"3123D89\", \"3123D58\", \"3123D76\", \"3123D7D\", \"3123EFE\", \"3123D64\", \"3123D78\", \"3123D7E\", \"3124E4A\"], \"labels_target\": [\"3123D52\", \"3123D65\", \"3123D79\", \"3123D80\", \"3123D54\", \"3123D70\", \"3123D7B\", \"3123D89\", \"3123D58\", \"3123D76\", \"3123D7D\", \"3123EFE\", \"3123D64\", \"3123D78\", \"3123D7E\", \"3124E4A\"], \"x_transforms_source\": [], \"x_transforms_target\": [], \"episode_transforms_source\": [], \"episode_transforms_target\": [], \"num_examples_per_domain_per_label_source\": 1000, \"num_examples_per_domain_per_label_target\": 1000, \"n_shot\": 3, \"n_way\": 16, \"n_query\": 2, \"train_k_factor\": 1, \"val_k_factor\": 2, \"test_k_factor\": 2, \"torch_default_dtype\": \"torch.float32\", \"n_epoch\": 50, \"patience\": 3, \"criteria_for_best\": \"target_loss\", \"x_net\": [{\"class\": \"nnReshape\", \"kargs\": {\"shape\": [-1, 1, 2, 256]}}, {\"class\": \"Conv2d\", \"kargs\": {\"in_channels\": 1, \"out_channels\": 256, \"kernel_size\": [1, 7], \"bias\": false, \"padding\": [0, 3]}}, {\"class\": \"ReLU\", \"kargs\": {\"inplace\": true}}, {\"class\": \"BatchNorm2d\", \"kargs\": {\"num_features\": 256}}, {\"class\": \"Conv2d\", \"kargs\": {\"in_channels\": 256, \"out_channels\": 80, \"kernel_size\": [2, 7], \"bias\": true, \"padding\": [0, 3]}}, {\"class\": \"ReLU\", \"kargs\": {\"inplace\": true}}, {\"class\": \"BatchNorm2d\", \"kargs\": {\"num_features\": 80}}, {\"class\": \"Flatten\", \"kargs\": {}}, {\"class\": \"Linear\", \"kargs\": {\"in_features\": 20480, \"out_features\": 256}}, {\"class\": \"ReLU\", \"kargs\": {\"inplace\": true}}, {\"class\": \"BatchNorm1d\", \"kargs\": {\"num_features\": 256}}, {\"class\": \"Linear\", \"kargs\": {\"in_features\": 256, \"out_features\": 256}}], \"NUM_LOGS_PER_EPOCH\": 10, \"BEST_MODEL_PATH\": \"./best_model.pth\", \"pickle_name\": \"oracle.Run2_10kExamples_stratified_ds.2022A.pkl\", \"lr\": 0.001, \"domains_source\": [8, 32, 50], \"domains_target\": [14, 20, 26, 38, 44]}, \"results\": {\"source_test_label_accuracy\": 0.7704861111111111, \"source_test_label_loss\": 0.6094079613685608, \"target_test_label_accuracy\": 0.6263541666666667, \"target_test_label_loss\": 1.2291946411132812, \"source_val_label_accuracy\": 0.7706597222222222, \"source_val_label_loss\": 0.6102400422096252, \"target_val_label_accuracy\": 0.6227083333333333, \"target_val_label_loss\": 1.2043546438217163, \"total_epochs_trained\": 12, \"total_experiment_time_secs\": 667.1669361591339, \"confusion\": {\"8\": {\"15\": {\"15\": 112, \"12\": 5, \"2\": 3}, \"3\": {\"3\": 120}, \"6\": {\"14\": 27, \"6\": 68, \"8\": 22, \"1\": 2, \"4\": 1}, \"1\": {\"1\": 64, \"10\": 9, \"7\": 5, \"5\": 15, \"4\": 17, \"13\": 4, \"14\": 5, \"6\": 1}, \"8\": {\"8\": 76, \"6\": 21, \"11\": 17, \"7\": 1, \"4\": 5}, \"10\": {\"10\": 53, \"13\": 27, \"5\": 34, \"1\": 6}, \"9\": {\"9\": 120}, \"13\": {\"13\": 79, \"5\": 6, \"7\": 9, \"10\": 25, \"1\": 1}, \"12\": {\"12\": 107, \"15\": 11, \"2\": 2}, \"5\": {\"10\": 32, \"1\": 20, \"13\": 4, \"5\": 64}, \"0\": {\"0\": 120}, \"2\": {\"2\": 113, \"15\": 6, \"12\": 1}, \"11\": {\"8\": 36, \"11\": 60, \"4\": 2, \"13\": 1, \"6\": 8, \"12\": 3, \"7\": 9, \"14\": 1}, \"14\": {\"1\": 4, \"14\": 85, \"6\": 27, \"8\": 1, \"4\": 3}, \"7\": {\"4\": 29, \"7\": 71, \"1\": 11, \"13\": 4, \"5\": 2, \"11\": 2, \"10\": 1}, \"4\": {\"4\": 55, \"1\": 26, \"14\": 1, \"7\": 27, \"8\": 6, \"6\": 2, \"10\": 1, \"5\": 2}}, \"50\": {\"3\": {\"3\": 120}, \"15\": {\"15\": 96, \"4\": 3, \"5\": 3, \"12\": 7, \"9\": 8, \"6\": 3}, \"8\": {\"8\": 119, \"13\": 1}, \"4\": {\"4\": 81, \"5\": 29, \"15\": 5, \"7\": 5}, \"14\": {\"14\": 119, \"2\": 1}, \"0\": {\"2\": 18, \"0\": 88, \"10\": 14}, \"7\": {\"5\": 2, \"7\": 101, \"4\": 17}, \"6\": {\"6\": 87, \"5\": 21, \"12\": 2, \"15\": 9, \"4\": 1}, \"10\": {\"10\": 111, \"13\": 2, \"0\": 7}, \"5\": {\"4\": 27, \"5\": 67, \"7\": 17, \"6\": 9}, \"2\": {\"2\": 115, \"0\": 5}, \"12\": {\"11\": 16, \"12\": 85, \"6\": 5, \"15\": 7, \"9\": 7}, \"9\": {\"9\": 104, \"15\": 10, \"11\": 1, \"12\": 5}, \"1\": {\"1\": 110, \"13\": 5, \"11\": 5}, \"11\": {\"12\": 21, \"11\": 95, \"1\": 4}, \"13\": {\"13\": 114, \"8\": 3, \"10\": 1, \"1\": 2}}, \"32\": {\"5\": {\"5\": 102, \"2\": 4, \"14\": 3, \"15\": 9, \"7\": 2}, \"8\": {\"8\": 81, \"7\": 23, \"0\": 14, \"2\": 1, \"15\": 1}, \"11\": {\"13\": 31, \"4\": 33, \"11\": 50, \"0\": 2, \"3\": 3, \"8\": 1}, \"1\": {\"1\": 120}, \"10\": {\"10\": 120}, \"15\": {\"15\": 107, \"5\": 10, \"8\": 3}, \"3\": {\"3\": 111, \"4\": 4, \"13\": 5}, \"7\": {\"8\": 21, \"7\": 54, \"0\": 23, \"2\": 15, \"14\": 5, \"4\": 1, \"5\": 1}, \"4\": {\"4\": 83, \"11\": 28, \"0\": 6, \"3\": 2, \"7\": 1}, \"14\": {\"14\": 58, \"2\": 56, \"5\": 2, \"7\": 4}, \"9\": {\"9\": 118, \"14\": 1, \"12\": 1}, \"12\": {\"12\": 120}, \"6\": {\"6\": 120}, \"2\": {\"2\": 69, \"0\": 11, \"14\": 30, \"7\": 9, \"5\": 1}, \"0\": {\"4\": 10, \"0\": 61, \"8\": 13, \"2\": 11, \"7\": 20, \"14\": 5}, \"13\": {\"13\": 86, \"11\": 17, \"3\": 12, \"4\": 5}}, \"14\": {\"15\": {\"15\": 120}, \"3\": {\"7\": 7, \"3\": 97, \"6\": 6, \"2\": 5, \"5\": 1, \"10\": 1, \"14\": 3}, \"6\": {\"6\": 73, \"13\": 38, \"7\": 5, \"3\": 4}, \"1\": {\"1\": 120}, \"8\": {\"10\": 18, \"8\": 85, \"0\": 16, \"12\": 1}, \"10\": {\"8\": 32, \"0\": 26, \"3\": 5, \"10\": 45, \"5\": 5, \"4\": 4, \"9\": 2, \"12\": 1}, \"9\": {\"9\": 116, \"12\": 2, \"8\": 2}, \"13\": {\"13\": 74, \"6\": 44, \"3\": 2}, \"12\": {\"12\": 33, \"9\": 17, \"8\": 23, \"15\": 24, \"3\": 9, \"6\": 2, \"0\": 1, \"11\": 4, \"10\": 4, \"13\": 1, \"1\": 2}, \"5\": {\"2\": 15, \"14\": 32, \"5\": 64, \"4\": 5, \"0\": 2, \"3\": 1, \"7\": 1}, \"0\": {\"8\": 14, \"0\": 86, \"10\": 14, \"4\": 6}, \"2\": {\"7\": 34, \"5\": 25, \"2\": 28, \"14\": 24, \"6\": 2, \"13\": 1, \"4\": 4, \"3\": 2}, \"11\": {\"11\": 120}, \"14\": {\"2\": 33, \"14\": 28, \"7\": 12, \"5\": 44, \"3\": 3}, \"7\": {\"7\": 85, \"2\": 16, \"14\": 12, \"13\": 4, \"3\": 3}, \"4\": {\"5\": 7, \"4\": 97, \"0\": 14, \"2\": 1, \"14\": 1}}, \"20\": {\"3\": {\"4\": 20, \"14\": 2, \"3\": 25, \"7\": 19, \"2\": 21, \"5\": 8, \"15\": 8, \"1\": 1, \"9\": 12, \"13\": 2, \"10\": 1, \"12\": 1}, \"15\": {\"12\": 5, \"15\": 29, \"4\": 22, \"1\": 8, \"2\": 12, \"9\": 23, \"5\": 5, \"3\": 10, \"13\": 5, \"7\": 1}, \"8\": {\"8\": 46, \"11\": 34, \"14\": 33, \"0\": 5, \"5\": 2}, \"4\": {\"7\": 18, \"15\": 12, \"9\": 17, \"3\": 23, \"13\": 3, \"4\": 21, \"2\": 17, \"5\": 6, \"1\": 1, \"6\": 1, \"12\": 1}, \"14\": {\"8\": 39, \"14\": 63, \"5\": 3, \"2\": 2, \"11\": 8, \"7\": 3, \"1\": 1, \"9\": 1}, \"0\": {\"0\": 99, \"1\": 3, \"11\": 10, \"8\": 5, \"5\": 2, \"14\": 1}, \"7\": {\"7\": 46, \"10\": 13, \"3\": 15, \"4\": 14, \"2\": 6, \"12\": 1, \"9\": 6, \"14\": 1, \"6\": 9, \"15\": 3, \"5\": 6}, \"6\": {\"6\": 93, \"7\": 7, \"10\": 20}, \"10\": {\"6\": 19, \"10\": 73, \"4\": 3, \"7\": 14, \"12\": 5, \"13\": 2, \"3\": 2, \"15\": 1, \"9\": 1}, \"5\": {\"2\": 17, \"1\": 18, \"5\": 29, \"4\": 11, \"3\": 14, \"15\": 11, \"9\": 11, \"7\": 4, \"14\": 1, \"11\": 1, \"0\": 1, \"13\": 1, \"8\": 1}, \"2\": {\"1\": 5, \"2\": 26, \"15\": 15, \"3\": 16, \"5\": 15, \"7\": 7, \"9\": 25, \"8\": 1, \"4\": 8, \"14\": 1, \"13\": 1}, \"12\": {\"12\": 52, \"13\": 56, \"15\": 5, \"10\": 4, \"4\": 1, \"7\": 1, \"9\": 1}, \"9\": {\"15\": 19, \"2\": 22, \"3\": 16, \"9\": 23, \"5\": 11, \"4\": 15, \"7\": 1, \"12\": 2, \"13\": 5, \"1\": 4, \"14\": 2}, \"1\": {\"15\": 4, \"0\": 3, \"2\": 9, \"1\": 72, \"5\": 19, \"9\": 9, \"8\": 2, \"11\": 1, \"3\": 1}, \"11\": {\"11\": 42, \"0\": 21, \"14\": 16, \"8\": 40, \"1\": 1}, \"13\": {\"13\": 51, \"4\": 9, \"10\": 1, \"9\": 3, \"12\": 49, \"15\": 3, \"3\": 3, \"7\": 1}}, \"44\": {\"5\": {\"5\": 85, \"15\": 15, \"8\": 6, \"14\": 14}, \"8\": {\"8\": 80, \"0\": 21, \"5\": 15, \"15\": 4}, \"11\": {\"11\": 120}, \"1\": {\"1\": 104, \"2\": 13, \"12\": 3}, \"10\": {\"10\": 111, \"7\": 6, \"6\": 2, \"9\": 1}, \"15\": {\"15\": 84, \"5\": 24, \"4\": 2, \"0\": 6, \"14\": 3, \"8\": 1}, \"3\": {\"3\": 103, \"12\": 15, \"2\": 1, \"1\": 1}, \"7\": {\"6\": 7, \"9\": 40, \"7\": 69, \"10\": 4}, \"4\": {\"4\": 92, \"14\": 28}, \"14\": {\"14\": 81, \"4\": 20, \"5\": 18, \"15\": 1}, \"9\": {\"9\": 71, \"7\": 41, \"10\": 1, \"13\": 1, \"6\": 5, \"4\": 1}, \"12\": {\"12\": 99, \"3\": 21}, \"6\": {\"6\": 111, \"10\": 1, \"13\": 4, \"7\": 3, \"9\": 1}, \"2\": {\"2\": 92, \"1\": 28}, \"0\": {\"0\": 85, \"15\": 3, \"8\": 30, \"5\": 2}, \"13\": {\"13\": 115, \"6\": 2, \"4\": 3}}, \"38\": {\"14\": {\"2\": 41, \"14\": 62, \"13\": 4, \"5\": 3, \"7\": 9, \"4\": 1}, \"0\": {\"0\": 107, \"7\": 12, \"8\": 1}, \"13\": {\"10\": 16, \"13\": 86, \"3\": 18}, \"7\": {\"7\": 99, \"0\": 12, \"4\": 2, \"8\": 7}, \"9\": {\"9\": 102, \"5\": 14, \"8\": 1, \"12\": 2, \"0\": 1}, \"3\": {\"13\": 33, \"3\": 50, \"4\": 17, \"10\": 19, \"11\": 1}, \"11\": {\"11\": 120}, \"6\": {\"6\": 107, \"15\": 11, \"1\": 2}, \"8\": {\"8\": 97, \"9\": 4, \"7\": 3, \"5\": 9, \"12\": 4, \"14\": 3}, \"4\": {\"3\": 8, \"4\": 80, \"10\": 26, \"7\": 3, \"0\": 1, \"13\": 2}, \"5\": {\"5\": 32, \"7\": 1, \"8\": 29, \"12\": 42, \"9\": 16}, \"10\": {\"4\": 37, \"3\": 24, \"10\": 52, \"13\": 7}, \"1\": {\"1\": 96, \"15\": 24}, \"2\": {\"2\": 108, \"14\": 12}, \"15\": {\"15\": 60, \"1\": 29, \"6\": 27, \"9\": 2, \"12\": 1, \"5\": 1}, \"12\": {\"12\": 67, \"8\": 15, \"5\": 30, \"9\": 8}}, \"26\": {\"13\": {\"13\": 93, \"7\": 12, \"9\": 11, \"2\": 2, \"3\": 1, \"8\": 1}, \"2\": {\"2\": 56, \"7\": 12, \"15\": 7, \"9\": 11, \"8\": 31, \"3\": 2, \"13\": 1}, \"8\": {\"8\": 40, \"2\": 32, \"9\": 27, \"15\": 5, \"0\": 3, \"7\": 4, \"10\": 8, \"13\": 1}, \"9\": {\"9\": 51, \"8\": 31, \"13\": 14, \"2\": 12, \"7\": 10, \"10\": 2}, \"12\": {\"12\": 120}, \"4\": {\"4\": 112, \"3\": 6, \"13\": 2}, \"3\": {\"3\": 76, \"7\": 34, \"4\": 5, \"9\": 1, \"2\": 3, \"13\": 1}, \"15\": {\"15\": 59, \"0\": 29, \"8\": 9, \"10\": 10, \"2\": 7, \"14\": 5, \"9\": 1}, \"14\": {\"14\": 44, \"15\": 4, \"10\": 20, \"1\": 15, \"6\": 12, \"0\": 15, \"5\": 9, \"8\": 1}, \"10\": {\"2\": 6, \"10\": 22, \"6\": 7, \"0\": 17, \"14\": 22, \"8\": 12, \"5\": 3, \"15\": 18, \"1\": 8, \"9\": 5}, \"7\": {\"8\": 7, \"3\": 39, \"7\": 51, \"2\": 6, \"9\": 5, \"13\": 12}, \"11\": {\"11\": 120}, \"6\": {\"6\": 69, \"5\": 35, \"1\": 10, \"14\": 4, \"10\": 2}, \"1\": {\"1\": 96, \"5\": 10, \"14\": 8, \"6\": 6}, \"5\": {\"14\": 11, \"5\": 35, \"6\": 47, \"1\": 21, \"10\": 4, \"0\": 2}, \"0\": {\"0\": 46, \"14\": 20, \"15\": 30, \"10\": 22, \"2\": 2}}}, \"per_domain_accuracy\": {\"8\": {\"accuracy\": 0.7119791666666667, \"source?\": true}, \"50\": {\"accuracy\": 0.8395833333333333, \"source?\": true}, \"32\": {\"accuracy\": 0.7604166666666666, \"source?\": true}, \"14\": {\"accuracy\": 0.6619791666666667, \"source?\": false}, \"20\": {\"accuracy\": 0.4114583333333333, \"source?\": false}, \"44\": {\"accuracy\": 0.7822916666666667, \"source?\": false}, \"38\": {\"accuracy\": 0.6901041666666666, \"source?\": false}, \"26\": {\"accuracy\": 0.5677083333333334, \"source?\": false}}}, \"history\": {\"epoch_indices\": [1, 2, 3, 4, 5, 6, 7, 8, 9, 10, 11, 12], \"train_label_loss\": [1.2594762738261904, 1.3061579501345044, 1.0756467108215604, 0.7550042851340203, 0.6290388104461488, 0.5639386406257039, 0.5185859227464312, 0.4759595930931114, 0.44251232768098514, 0.40679626635142735, 0.3856667079031467, 0.3702024343467894], \"source_val_label_loss\": [1.6699128150939941, 1.286383032798767, 0.8438135385513306, 0.7032566666603088, 0.6847495436668396, 0.6402753591537476, 0.6424347758293152, 0.6102400422096252, 0.5962970852851868, 0.6085057258605957, 0.6193384528160095, 0.6021705269813538], \"target_val_label_loss\": [1.8129501342773438, 1.8527123928070068, 1.5030767917633057, 1.3231475353240967, 1.2597429752349854, 1.269413948059082, 1.2320090532302856, 1.2043546438217163, 1.2865113019943237, 1.2636572122573853, 1.3481639623641968, 1.2821418046951294], \"source_val_acc_label\": [0.4720486111111111, 0.4795138888888889, 0.6809027777777777, 0.7347222222222223, 0.7461805555555555, 0.7640625, 0.7526041666666666, 0.7706597222222222, 0.7772569444444445, 0.7723958333333333, 0.7720486111111111, 0.7826388888888889], \"target_val_acc_label\": [0.38427083333333334, 0.3927083333333333, 0.5259375, 0.5802083333333333, 0.6048958333333333, 0.61, 0.6115625, 0.6227083333333333, 0.6261458333333333, 0.6303125, 0.6323958333333334, 0.6434375]}, \"dataset_metrics\": {\"source\": {\"train\": {\"n_unique_x\": 33600, \"n_unique_y\": 16, \"n_batch/episode\": 420}, \"val\": {\"n_unique_x\": 7200, \"n_unique_y\": 16, \"n_batch/episode\": 180}, \"test\": {\"n_unique_x\": 7200, \"n_unique_y\": 16, \"n_batch/episode\": 180}}, \"target\": {\"train\": {\"n_unique_x\": 56000, \"n_unique_y\": 16, \"n_batch/episode\": 700}, \"val\": {\"n_unique_x\": 12000, \"n_unique_y\": 16, \"n_batch/episode\": 300}, \"test\": {\"n_unique_x\": 12000, \"n_unique_y\": 16, \"n_batch/episode\": 300}}}}'"
      ]
     },
     "execution_count": 20,
     "metadata": {},
     "output_type": "execute_result"
    }
   ],
   "source": [
    "json.dumps(experiment)"
   ]
  }
 ],
 "metadata": {
  "celltoolbar": "Tags",
  "kernelspec": {
   "display_name": "Python 3 (ipykernel)",
   "language": "python",
   "name": "python3"
  },
  "language_info": {
   "codemirror_mode": {
    "name": "ipython",
    "version": 3
   },
   "file_extension": ".py",
   "mimetype": "text/x-python",
   "name": "python",
   "nbconvert_exporter": "python",
   "pygments_lexer": "ipython3",
   "version": "3.8.10"
  },
  "papermill": {
   "default_parameters": {},
   "duration": 762.536156,
   "end_time": "2022-03-04T05:34:33.080742",
   "environment_variables": {},
   "exception": null,
   "input_path": "/mnt/wd500GB/CSC500/csc500-main/csc500-notebooks/templates/ptn_template.ipynb",
   "output_path": "trial.ipynb",
   "parameters": {
    "parameters": {
     "BEST_MODEL_PATH": "./best_model.pth",
     "NUM_LOGS_PER_EPOCH": 10,
     "criteria_for_best": "target_loss",
     "dataset_seed": 1337,
     "device": "cuda",
     "domains_source": [
      8,
      32,
      50
     ],
     "domains_target": [
      14,
      20,
      26,
      38,
      44
     ],
     "episode_transforms_source": [],
     "episode_transforms_target": [],
     "experiment_name": "learningRate_oracle.run2",
     "labels_source": [
      "3123D52",
      "3123D65",
      "3123D79",
      "3123D80",
      "3123D54",
      "3123D70",
      "3123D7B",
      "3123D89",
      "3123D58",
      "3123D76",
      "3123D7D",
      "3123EFE",
      "3123D64",
      "3123D78",
      "3123D7E",
      "3124E4A"
     ],
     "labels_target": [
      "3123D52",
      "3123D65",
      "3123D79",
      "3123D80",
      "3123D54",
      "3123D70",
      "3123D7B",
      "3123D89",
      "3123D58",
      "3123D76",
      "3123D7D",
      "3123EFE",
      "3123D64",
      "3123D78",
      "3123D7E",
      "3124E4A"
     ],
     "lr": 0.001,
     "n_epoch": 50,
     "n_query": 2,
     "n_shot": 3,
     "n_way": 16,
     "num_examples_per_domain_per_label_source": 1000,
     "num_examples_per_domain_per_label_target": 1000,
     "patience": 3,
     "pickle_name": "oracle.Run2_10kExamples_stratified_ds.2022A.pkl",
     "seed": 1337,
     "test_k_factor": 2,
     "torch_default_dtype": "torch.float32",
     "train_k_factor": 1,
     "val_k_factor": 2,
     "x_net": [
      {
       "class": "nnReshape",
       "kargs": {
        "shape": [
         -1,
         1,
         2,
         256
        ]
       }
      },
      {
       "class": "Conv2d",
       "kargs": {
        "bias": false,
        "in_channels": 1,
        "kernel_size": [
         1,
         7
        ],
        "out_channels": 256,
        "padding": [
         0,
         3
        ]
       }
      },
      {
       "class": "ReLU",
       "kargs": {
        "inplace": true
       }
      },
      {
       "class": "BatchNorm2d",
       "kargs": {
        "num_features": 256
       }
      },
      {
       "class": "Conv2d",
       "kargs": {
        "bias": true,
        "in_channels": 256,
        "kernel_size": [
         2,
         7
        ],
        "out_channels": 80,
        "padding": [
         0,
         3
        ]
       }
      },
      {
       "class": "ReLU",
       "kargs": {
        "inplace": true
       }
      },
      {
       "class": "BatchNorm2d",
       "kargs": {
        "num_features": 80
       }
      },
      {
       "class": "Flatten",
       "kargs": {}
      },
      {
       "class": "Linear",
       "kargs": {
        "in_features": 20480,
        "out_features": 256
       }
      },
      {
       "class": "ReLU",
       "kargs": {
        "inplace": true
       }
      },
      {
       "class": "BatchNorm1d",
       "kargs": {
        "num_features": 256
       }
      },
      {
       "class": "Linear",
       "kargs": {
        "in_features": 256,
        "out_features": 256
       }
      }
     ],
     "x_transforms_source": [],
     "x_transforms_target": []
    }
   },
   "start_time": "2022-03-04T05:21:50.544586",
   "version": "2.3.4"
  }
 },
 "nbformat": 4,
 "nbformat_minor": 5
}