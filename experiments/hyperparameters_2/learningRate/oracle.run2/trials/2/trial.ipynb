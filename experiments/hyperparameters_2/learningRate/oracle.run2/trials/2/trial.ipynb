{
 "cells": [
  {
   "cell_type": "markdown",
   "id": "9fea5f46",
   "metadata": {
    "papermill": {
     "duration": 0.014151,
     "end_time": "2022-03-04T05:08:55.004933",
     "exception": false,
     "start_time": "2022-03-04T05:08:54.990782",
     "status": "completed"
    },
    "tags": []
   },
   "source": [
    "# PTN Template\n",
    "This notebook serves as a template for single dataset PTN experiments  \n",
    "It can be run on its own by setting STANDALONE to True (do a find for \"STANDALONE\" to see where)  \n",
    "But it is intended to be executed as part of a *papermill.py script. See any of the   \n",
    "experimentes with a papermill script to get started with that workflow.  "
   ]
  },
  {
   "cell_type": "code",
   "execution_count": 1,
   "id": "0902182a",
   "metadata": {
    "execution": {
     "iopub.execute_input": "2022-03-04T05:08:55.038470Z",
     "iopub.status.busy": "2022-03-04T05:08:55.037906Z",
     "iopub.status.idle": "2022-03-04T05:08:55.862290Z",
     "shell.execute_reply": "2022-03-04T05:08:55.862753Z"
    },
    "papermill": {
     "duration": 0.848405,
     "end_time": "2022-03-04T05:08:55.862950",
     "exception": false,
     "start_time": "2022-03-04T05:08:55.014545",
     "status": "completed"
    },
    "tags": []
   },
   "outputs": [],
   "source": [
    "%load_ext autoreload\n",
    "%autoreload 2\n",
    "%matplotlib inline\n",
    "\n",
    "    \n",
    "import os, json, sys, time, random\n",
    "import numpy as np\n",
    "import torch\n",
    "from torch.optim import Adam\n",
    "from  easydict import EasyDict\n",
    "import matplotlib.pyplot as plt\n",
    "\n",
    "from steves_models.steves_ptn import Steves_Prototypical_Network\n",
    "\n",
    "from steves_utils.lazy_iterable_wrapper import Lazy_Iterable_Wrapper\n",
    "from steves_utils.iterable_aggregator import Iterable_Aggregator\n",
    "from steves_utils.ptn_train_eval_test_jig import  PTN_Train_Eval_Test_Jig\n",
    "from steves_utils.torch_sequential_builder import build_sequential\n",
    "from steves_utils.torch_utils import get_dataset_metrics, ptn_confusion_by_domain_over_dataloader\n",
    "from steves_utils.utils_v2 import (per_domain_accuracy_from_confusion, get_datasets_base_path)\n",
    "from steves_utils.PTN.utils import independent_accuracy_assesment\n",
    "\n",
    "from steves_utils.stratified_dataset.episodic_accessor import Episodic_Accessor_Factory\n",
    "\n",
    "from steves_utils.ptn_do_report import (\n",
    "    get_loss_curve,\n",
    "    get_results_table,\n",
    "    get_parameters_table,\n",
    "    get_domain_accuracies,\n",
    ")\n",
    "\n",
    "from steves_utils.transforms import get_chained_transform"
   ]
  },
  {
   "cell_type": "markdown",
   "id": "41c840b4",
   "metadata": {
    "papermill": {
     "duration": 0.009005,
     "end_time": "2022-03-04T05:08:55.887474",
     "exception": false,
     "start_time": "2022-03-04T05:08:55.878469",
     "status": "completed"
    },
    "tags": []
   },
   "source": [
    "# Required Parameters\n",
    "These are allowed parameters, not defaults\n",
    "Each of these values need to be present in the injected parameters (the notebook will raise an exception if they are not present)\n",
    "\n",
    "Papermill uses the cell tag \"parameters\" to inject the real parameters below this cell.\n",
    "Enable tags to see what I mean"
   ]
  },
  {
   "cell_type": "code",
   "execution_count": 2,
   "id": "fd44eb83",
   "metadata": {
    "execution": {
     "iopub.execute_input": "2022-03-04T05:08:55.909346Z",
     "iopub.status.busy": "2022-03-04T05:08:55.909079Z",
     "iopub.status.idle": "2022-03-04T05:08:55.921791Z",
     "shell.execute_reply": "2022-03-04T05:08:55.921308Z"
    },
    "papermill": {
     "duration": 0.025248,
     "end_time": "2022-03-04T05:08:55.921892",
     "exception": false,
     "start_time": "2022-03-04T05:08:55.896644",
     "status": "completed"
    },
    "tags": []
   },
   "outputs": [],
   "source": [
    "required_parameters = {\n",
    "    \"experiment_name\",\n",
    "    \"lr\",\n",
    "    \"device\",\n",
    "    \"seed\",\n",
    "    \"dataset_seed\",\n",
    "    \"labels_source\",\n",
    "    \"labels_target\",\n",
    "    \"domains_source\",\n",
    "    \"domains_target\",\n",
    "    \"num_examples_per_domain_per_label_source\",\n",
    "    \"num_examples_per_domain_per_label_target\",\n",
    "    \"n_shot\",\n",
    "    \"n_way\",\n",
    "    \"n_query\",\n",
    "    \"train_k_factor\",\n",
    "    \"val_k_factor\",\n",
    "    \"test_k_factor\",\n",
    "    \"n_epoch\",\n",
    "    \"patience\",\n",
    "    \"criteria_for_best\",\n",
    "    \"x_transforms_source\",\n",
    "    \"x_transforms_target\",\n",
    "    \"episode_transforms_source\",\n",
    "    \"episode_transforms_target\",\n",
    "    \"pickle_name\",\n",
    "    \"x_net\",\n",
    "    \"NUM_LOGS_PER_EPOCH\",\n",
    "    \"BEST_MODEL_PATH\",\n",
    "    \"torch_default_dtype\"\n",
    "}"
   ]
  },
  {
   "cell_type": "code",
   "execution_count": 3,
   "id": "fa3f0049",
   "metadata": {
    "execution": {
     "iopub.execute_input": "2022-03-04T05:08:55.951147Z",
     "iopub.status.busy": "2022-03-04T05:08:55.950775Z",
     "iopub.status.idle": "2022-03-04T05:08:55.961153Z",
     "shell.execute_reply": "2022-03-04T05:08:55.961464Z"
    },
    "papermill": {
     "duration": 0.025879,
     "end_time": "2022-03-04T05:08:55.961566",
     "exception": false,
     "start_time": "2022-03-04T05:08:55.935687",
     "status": "completed"
    },
    "tags": [
     "parameters"
    ]
   },
   "outputs": [],
   "source": [
    "\n",
    "\n",
    "standalone_parameters = {}\n",
    "standalone_parameters[\"experiment_name\"] = \"STANDALONE PTN\"\n",
    "standalone_parameters[\"lr\"] = 0.0001\n",
    "standalone_parameters[\"device\"] = \"cuda\"\n",
    "\n",
    "standalone_parameters[\"seed\"] = 1337\n",
    "standalone_parameters[\"dataset_seed\"] = 1337\n",
    "\n",
    "\n",
    "standalone_parameters[\"num_examples_per_domain_per_label_source\"]=100\n",
    "standalone_parameters[\"num_examples_per_domain_per_label_target\"]=100\n",
    "\n",
    "standalone_parameters[\"n_shot\"] = 3\n",
    "standalone_parameters[\"n_query\"]  = 2\n",
    "standalone_parameters[\"train_k_factor\"] = 1\n",
    "standalone_parameters[\"val_k_factor\"] = 2\n",
    "standalone_parameters[\"test_k_factor\"] = 2\n",
    "\n",
    "\n",
    "standalone_parameters[\"n_epoch\"] = 100\n",
    "\n",
    "standalone_parameters[\"patience\"] = 10\n",
    "standalone_parameters[\"criteria_for_best\"] = \"target_accuracy\"\n",
    "\n",
    "standalone_parameters[\"x_transforms_source\"] = [\"unit_power\"]\n",
    "standalone_parameters[\"x_transforms_target\"] = [\"unit_power\"]\n",
    "standalone_parameters[\"episode_transforms_source\"] = []\n",
    "standalone_parameters[\"episode_transforms_target\"] = []\n",
    "\n",
    "standalone_parameters[\"torch_default_dtype\"] = \"torch.float32\" \n",
    "\n",
    "\n",
    "\n",
    "standalone_parameters[\"x_net\"] =     [\n",
    "    {\"class\": \"nnReshape\", \"kargs\": {\"shape\":[-1, 1, 2, 256]}},\n",
    "    {\"class\": \"Conv2d\", \"kargs\": { \"in_channels\":1, \"out_channels\":256, \"kernel_size\":(1,7), \"bias\":False, \"padding\":(0,3), },},\n",
    "    {\"class\": \"ReLU\", \"kargs\": {\"inplace\": True}},\n",
    "    {\"class\": \"BatchNorm2d\", \"kargs\": {\"num_features\":256}},\n",
    "\n",
    "    {\"class\": \"Conv2d\", \"kargs\": { \"in_channels\":256, \"out_channels\":80, \"kernel_size\":(2,7), \"bias\":True, \"padding\":(0,3), },},\n",
    "    {\"class\": \"ReLU\", \"kargs\": {\"inplace\": True}},\n",
    "    {\"class\": \"BatchNorm2d\", \"kargs\": {\"num_features\":80}},\n",
    "    {\"class\": \"Flatten\", \"kargs\": {}},\n",
    "\n",
    "    {\"class\": \"Linear\", \"kargs\": {\"in_features\": 80*256, \"out_features\": 256}}, # 80 units per IQ pair\n",
    "    {\"class\": \"ReLU\", \"kargs\": {\"inplace\": True}},\n",
    "    {\"class\": \"BatchNorm1d\", \"kargs\": {\"num_features\":256}},\n",
    "\n",
    "    {\"class\": \"Linear\", \"kargs\": {\"in_features\": 256, \"out_features\": 256}},\n",
    "]\n",
    "\n",
    "# Parameters relevant to results\n",
    "# These parameters will basically never need to change\n",
    "standalone_parameters[\"NUM_LOGS_PER_EPOCH\"] = 10\n",
    "standalone_parameters[\"BEST_MODEL_PATH\"] = \"./best_model.pth\"\n",
    "\n",
    "# uncomment for CORES dataset\n",
    "from steves_utils.CORES.utils import (\n",
    "    ALL_NODES,\n",
    "    ALL_NODES_MINIMUM_1000_EXAMPLES,\n",
    "    ALL_DAYS\n",
    ")\n",
    "\n",
    "\n",
    "standalone_parameters[\"labels_source\"] = ALL_NODES\n",
    "standalone_parameters[\"labels_target\"] = ALL_NODES\n",
    "\n",
    "standalone_parameters[\"domains_source\"] = [1]\n",
    "standalone_parameters[\"domains_target\"] = [2,3,4,5]\n",
    "\n",
    "standalone_parameters[\"pickle_name\"] = \"cores.stratified_ds.2022A.pkl\"\n",
    "\n",
    "\n",
    "# Uncomment these for ORACLE dataset\n",
    "# from steves_utils.ORACLE.utils_v2 import (\n",
    "#     ALL_DISTANCES_FEET,\n",
    "#     ALL_RUNS,\n",
    "#     ALL_SERIAL_NUMBERS,\n",
    "# )\n",
    "# standalone_parameters[\"labels_source\"] = ALL_SERIAL_NUMBERS\n",
    "# standalone_parameters[\"labels_target\"] = ALL_SERIAL_NUMBERS\n",
    "# standalone_parameters[\"domains_source\"] = [8,20, 38,50]\n",
    "# standalone_parameters[\"domains_target\"] = [14, 26, 32, 44, 56]\n",
    "# standalone_parameters[\"pickle_name\"] = \"oracle.frame_indexed.stratified_ds.2022A.pkl\"\n",
    "# standalone_parameters[\"num_examples_per_domain_per_label_source\"]=1000\n",
    "# standalone_parameters[\"num_examples_per_domain_per_label_target\"]=1000\n",
    "\n",
    "# Uncomment these for Metahan dataset\n",
    "# standalone_parameters[\"labels_source\"] = list(range(19))\n",
    "# standalone_parameters[\"labels_target\"] = list(range(19))\n",
    "# standalone_parameters[\"domains_source\"] = [0]\n",
    "# standalone_parameters[\"domains_target\"] = [1]\n",
    "# standalone_parameters[\"pickle_name\"] = \"metehan.stratified_ds.2022A.pkl\"\n",
    "# standalone_parameters[\"n_way\"]  = len(standalone_parameters[\"labels_source\"])\n",
    "# standalone_parameters[\"num_examples_per_domain_per_label_source\"]=200\n",
    "# standalone_parameters[\"num_examples_per_domain_per_label_target\"]=100\n",
    "\n",
    "\n",
    "standalone_parameters[\"n_way\"]  = len(standalone_parameters[\"labels_source\"])"
   ]
  },
  {
   "cell_type": "code",
   "execution_count": 4,
   "id": "09797d78",
   "metadata": {
    "execution": {
     "iopub.execute_input": "2022-03-04T05:08:55.991117Z",
     "iopub.status.busy": "2022-03-04T05:08:55.988661Z",
     "iopub.status.idle": "2022-03-04T05:08:55.998621Z",
     "shell.execute_reply": "2022-03-04T05:08:55.998944Z"
    },
    "papermill": {
     "duration": 0.0243,
     "end_time": "2022-03-04T05:08:55.999036",
     "exception": false,
     "start_time": "2022-03-04T05:08:55.974736",
     "status": "completed"
    },
    "tags": [
     "injected-parameters"
    ]
   },
   "outputs": [],
   "source": [
    "# Parameters\n",
    "parameters = {\n",
    "    \"experiment_name\": \"learningRate_oracle.run2\",\n",
    "    \"device\": \"cuda\",\n",
    "    \"seed\": 1337,\n",
    "    \"dataset_seed\": 1337,\n",
    "    \"labels_source\": [\n",
    "        \"3123D52\",\n",
    "        \"3123D65\",\n",
    "        \"3123D79\",\n",
    "        \"3123D80\",\n",
    "        \"3123D54\",\n",
    "        \"3123D70\",\n",
    "        \"3123D7B\",\n",
    "        \"3123D89\",\n",
    "        \"3123D58\",\n",
    "        \"3123D76\",\n",
    "        \"3123D7D\",\n",
    "        \"3123EFE\",\n",
    "        \"3123D64\",\n",
    "        \"3123D78\",\n",
    "        \"3123D7E\",\n",
    "        \"3124E4A\",\n",
    "    ],\n",
    "    \"labels_target\": [\n",
    "        \"3123D52\",\n",
    "        \"3123D65\",\n",
    "        \"3123D79\",\n",
    "        \"3123D80\",\n",
    "        \"3123D54\",\n",
    "        \"3123D70\",\n",
    "        \"3123D7B\",\n",
    "        \"3123D89\",\n",
    "        \"3123D58\",\n",
    "        \"3123D76\",\n",
    "        \"3123D7D\",\n",
    "        \"3123EFE\",\n",
    "        \"3123D64\",\n",
    "        \"3123D78\",\n",
    "        \"3123D7E\",\n",
    "        \"3124E4A\",\n",
    "    ],\n",
    "    \"x_transforms_source\": [],\n",
    "    \"x_transforms_target\": [],\n",
    "    \"episode_transforms_source\": [],\n",
    "    \"episode_transforms_target\": [],\n",
    "    \"num_examples_per_domain_per_label_source\": 1000,\n",
    "    \"num_examples_per_domain_per_label_target\": 1000,\n",
    "    \"n_shot\": 3,\n",
    "    \"n_way\": 16,\n",
    "    \"n_query\": 2,\n",
    "    \"train_k_factor\": 1,\n",
    "    \"val_k_factor\": 2,\n",
    "    \"test_k_factor\": 2,\n",
    "    \"torch_default_dtype\": \"torch.float32\",\n",
    "    \"n_epoch\": 50,\n",
    "    \"patience\": 3,\n",
    "    \"criteria_for_best\": \"target_loss\",\n",
    "    \"x_net\": [\n",
    "        {\"class\": \"nnReshape\", \"kargs\": {\"shape\": [-1, 1, 2, 256]}},\n",
    "        {\n",
    "            \"class\": \"Conv2d\",\n",
    "            \"kargs\": {\n",
    "                \"in_channels\": 1,\n",
    "                \"out_channels\": 256,\n",
    "                \"kernel_size\": [1, 7],\n",
    "                \"bias\": False,\n",
    "                \"padding\": [0, 3],\n",
    "            },\n",
    "        },\n",
    "        {\"class\": \"ReLU\", \"kargs\": {\"inplace\": True}},\n",
    "        {\"class\": \"BatchNorm2d\", \"kargs\": {\"num_features\": 256}},\n",
    "        {\n",
    "            \"class\": \"Conv2d\",\n",
    "            \"kargs\": {\n",
    "                \"in_channels\": 256,\n",
    "                \"out_channels\": 80,\n",
    "                \"kernel_size\": [2, 7],\n",
    "                \"bias\": True,\n",
    "                \"padding\": [0, 3],\n",
    "            },\n",
    "        },\n",
    "        {\"class\": \"ReLU\", \"kargs\": {\"inplace\": True}},\n",
    "        {\"class\": \"BatchNorm2d\", \"kargs\": {\"num_features\": 80}},\n",
    "        {\"class\": \"Flatten\", \"kargs\": {}},\n",
    "        {\"class\": \"Linear\", \"kargs\": {\"in_features\": 20480, \"out_features\": 256}},\n",
    "        {\"class\": \"ReLU\", \"kargs\": {\"inplace\": True}},\n",
    "        {\"class\": \"BatchNorm1d\", \"kargs\": {\"num_features\": 256}},\n",
    "        {\"class\": \"Linear\", \"kargs\": {\"in_features\": 256, \"out_features\": 256}},\n",
    "    ],\n",
    "    \"NUM_LOGS_PER_EPOCH\": 10,\n",
    "    \"BEST_MODEL_PATH\": \"./best_model.pth\",\n",
    "    \"pickle_name\": \"oracle.Run2_10kExamples_stratified_ds.2022A.pkl\",\n",
    "    \"lr\": 0.0001,\n",
    "    \"domains_source\": [8, 32, 50],\n",
    "    \"domains_target\": [14, 20, 26, 38, 44],\n",
    "}\n"
   ]
  },
  {
   "cell_type": "code",
   "execution_count": 5,
   "id": "8fa1cc33",
   "metadata": {
    "execution": {
     "iopub.execute_input": "2022-03-04T05:08:56.028077Z",
     "iopub.status.busy": "2022-03-04T05:08:56.027432Z",
     "iopub.status.idle": "2022-03-04T05:08:56.039929Z",
     "shell.execute_reply": "2022-03-04T05:08:56.040147Z"
    },
    "papermill": {
     "duration": 0.026054,
     "end_time": "2022-03-04T05:08:56.040216",
     "exception": false,
     "start_time": "2022-03-04T05:08:56.014162",
     "status": "completed"
    },
    "tags": []
   },
   "outputs": [],
   "source": [
    "# Set this to True if you want to run this template directly\n",
    "STANDALONE = False\n",
    "if STANDALONE:\n",
    "    print(\"parameters not injected, running with standalone_parameters\")\n",
    "    parameters = standalone_parameters\n",
    "\n",
    "if not 'parameters' in locals() and not 'parameters' in globals():\n",
    "    raise Exception(\"Parameter injection failed\")\n",
    "\n",
    "#Use an easy dict for all the parameters\n",
    "p = EasyDict(parameters)\n",
    "\n",
    "supplied_keys = set(p.keys())\n",
    "\n",
    "if  supplied_keys != required_parameters:\n",
    "    print(\"Parameters are incorrect\")\n",
    "    if len(supplied_keys - required_parameters)>0: print(\"Shouldn't have:\", str(supplied_keys - required_parameters))\n",
    "    if len(required_parameters - supplied_keys)>0: print(\"Need to have:\", str(required_parameters - supplied_keys))\n",
    "    raise RuntimeError(\"Parameters are incorrect\")\n",
    "\n"
   ]
  },
  {
   "cell_type": "code",
   "execution_count": 6,
   "id": "3a028d58",
   "metadata": {
    "execution": {
     "iopub.execute_input": "2022-03-04T05:08:56.061598Z",
     "iopub.status.busy": "2022-03-04T05:08:56.061192Z",
     "iopub.status.idle": "2022-03-04T05:08:56.070308Z",
     "shell.execute_reply": "2022-03-04T05:08:56.070527Z"
    },
    "papermill": {
     "duration": 0.020724,
     "end_time": "2022-03-04T05:08:56.070598",
     "exception": false,
     "start_time": "2022-03-04T05:08:56.049874",
     "status": "completed"
    },
    "tags": []
   },
   "outputs": [],
   "source": [
    "###################################\n",
    "# Set the RNGs and make it all deterministic\n",
    "###################################\n",
    "np.random.seed(p.seed)\n",
    "random.seed(p.seed)\n",
    "torch.manual_seed(p.seed)\n",
    "\n",
    "torch.use_deterministic_algorithms(True) "
   ]
  },
  {
   "cell_type": "code",
   "execution_count": 7,
   "id": "b691acf6",
   "metadata": {
    "execution": {
     "iopub.execute_input": "2022-03-04T05:08:56.093801Z",
     "iopub.status.busy": "2022-03-04T05:08:56.093387Z",
     "iopub.status.idle": "2022-03-04T05:08:56.102338Z",
     "shell.execute_reply": "2022-03-04T05:08:56.102558Z"
    },
    "papermill": {
     "duration": 0.022062,
     "end_time": "2022-03-04T05:08:56.102635",
     "exception": false,
     "start_time": "2022-03-04T05:08:56.080573",
     "status": "completed"
    },
    "tags": []
   },
   "outputs": [],
   "source": [
    "###########################################\n",
    "# The stratified datasets honor this\n",
    "###########################################\n",
    "torch.set_default_dtype(eval(p.torch_default_dtype))"
   ]
  },
  {
   "cell_type": "code",
   "execution_count": 8,
   "id": "b5fba671",
   "metadata": {
    "execution": {
     "iopub.execute_input": "2022-03-04T05:08:56.125286Z",
     "iopub.status.busy": "2022-03-04T05:08:56.124880Z",
     "iopub.status.idle": "2022-03-04T05:08:56.162114Z",
     "shell.execute_reply": "2022-03-04T05:08:56.162342Z"
    },
    "papermill": {
     "duration": 0.048722,
     "end_time": "2022-03-04T05:08:56.162424",
     "exception": false,
     "start_time": "2022-03-04T05:08:56.113702",
     "status": "completed"
    },
    "tags": []
   },
   "outputs": [],
   "source": [
    "###################################\n",
    "# Build the network(s)\n",
    "# Note: It's critical to do this AFTER setting the RNG\n",
    "# (This is due to the randomized initial weights)\n",
    "###################################\n",
    "x_net = build_sequential(p.x_net)"
   ]
  },
  {
   "cell_type": "code",
   "execution_count": 9,
   "id": "5d7e61cc",
   "metadata": {
    "execution": {
     "iopub.execute_input": "2022-03-04T05:08:56.184293Z",
     "iopub.status.busy": "2022-03-04T05:08:56.183893Z",
     "iopub.status.idle": "2022-03-04T05:08:56.193337Z",
     "shell.execute_reply": "2022-03-04T05:08:56.193091Z"
    },
    "papermill": {
     "duration": 0.020947,
     "end_time": "2022-03-04T05:08:56.193398",
     "exception": false,
     "start_time": "2022-03-04T05:08:56.172451",
     "status": "completed"
    },
    "tags": []
   },
   "outputs": [],
   "source": [
    "start_time_secs = time.time()"
   ]
  },
  {
   "cell_type": "code",
   "execution_count": 10,
   "id": "fd5442bc",
   "metadata": {
    "execution": {
     "iopub.execute_input": "2022-03-04T05:08:56.218453Z",
     "iopub.status.busy": "2022-03-04T05:08:56.218027Z",
     "iopub.status.idle": "2022-03-04T05:08:59.329245Z",
     "shell.execute_reply": "2022-03-04T05:08:59.328958Z"
    },
    "papermill": {
     "duration": 3.125961,
     "end_time": "2022-03-04T05:08:59.329310",
     "exception": false,
     "start_time": "2022-03-04T05:08:56.203349",
     "status": "completed"
    },
    "tags": []
   },
   "outputs": [],
   "source": [
    "###################################\n",
    "# Build the dataset\n",
    "###################################\n",
    "\n",
    "if p.x_transforms_source == []: x_transform_source = None\n",
    "else: x_transform_source = get_chained_transform(p.x_transforms_source) \n",
    "\n",
    "if p.x_transforms_target == []: x_transform_target = None\n",
    "else: x_transform_target = get_chained_transform(p.x_transforms_target)\n",
    "\n",
    "if p.episode_transforms_source == []: episode_transform_source = None\n",
    "else: raise Exception(\"episode_transform_source not implemented\")\n",
    "\n",
    "if p.episode_transforms_target == []: episode_transform_target = None\n",
    "else: raise Exception(\"episode_transform_target not implemented\")\n",
    "\n",
    "\n",
    "eaf_source = Episodic_Accessor_Factory(\n",
    "    labels=p.labels_source,\n",
    "    domains=p.domains_source,\n",
    "    num_examples_per_domain_per_label=p.num_examples_per_domain_per_label_source,\n",
    "    iterator_seed=p.seed,\n",
    "    dataset_seed=p.dataset_seed,\n",
    "    n_shot=p.n_shot,\n",
    "    n_way=p.n_way,\n",
    "    n_query=p.n_query,\n",
    "    train_val_test_k_factors=(p.train_k_factor,p.val_k_factor,p.test_k_factor),\n",
    "    pickle_path=os.path.join(get_datasets_base_path(), p.pickle_name),\n",
    "    x_transform_func=x_transform_source,\n",
    "    example_transform_func=episode_transform_source,\n",
    "    \n",
    ")\n",
    "train_original_source, val_original_source, test_original_source = eaf_source.get_train(), eaf_source.get_val(), eaf_source.get_test()\n",
    "\n",
    "\n",
    "eaf_target = Episodic_Accessor_Factory(\n",
    "    labels=p.labels_target,\n",
    "    domains=p.domains_target,\n",
    "    num_examples_per_domain_per_label=p.num_examples_per_domain_per_label_target,\n",
    "    iterator_seed=p.seed,\n",
    "    dataset_seed=p.dataset_seed,\n",
    "    n_shot=p.n_shot,\n",
    "    n_way=p.n_way,\n",
    "    n_query=p.n_query,\n",
    "    train_val_test_k_factors=(p.train_k_factor,p.val_k_factor,p.test_k_factor),\n",
    "    pickle_path=os.path.join(get_datasets_base_path(), p.pickle_name),\n",
    "    x_transform_func=x_transform_target,\n",
    "    example_transform_func=episode_transform_target,\n",
    ")\n",
    "train_original_target, val_original_target, test_original_target = eaf_target.get_train(), eaf_target.get_val(), eaf_target.get_test()\n",
    "\n",
    "\n",
    "transform_lambda = lambda ex: ex[1] # Original is (<domain>, <episode>) so we strip down to episode only\n",
    "\n",
    "train_processed_source = Lazy_Iterable_Wrapper(train_original_source, transform_lambda)\n",
    "val_processed_source   = Lazy_Iterable_Wrapper(val_original_source, transform_lambda)\n",
    "test_processed_source  = Lazy_Iterable_Wrapper(test_original_source, transform_lambda)\n",
    "\n",
    "train_processed_target = Lazy_Iterable_Wrapper(train_original_target, transform_lambda)\n",
    "val_processed_target   = Lazy_Iterable_Wrapper(val_original_target, transform_lambda)\n",
    "test_processed_target  = Lazy_Iterable_Wrapper(test_original_target, transform_lambda)\n",
    "\n",
    "datasets = EasyDict({\n",
    "    \"source\": {\n",
    "        \"original\": {\"train\":train_original_source, \"val\":val_original_source, \"test\":test_original_source},\n",
    "        \"processed\": {\"train\":train_processed_source, \"val\":val_processed_source, \"test\":test_processed_source}\n",
    "    },\n",
    "    \"target\": {\n",
    "        \"original\": {\"train\":train_original_target, \"val\":val_original_target, \"test\":test_original_target},\n",
    "        \"processed\": {\"train\":train_processed_target, \"val\":val_processed_target, \"test\":test_processed_target}\n",
    "    },\n",
    "})"
   ]
  },
  {
   "cell_type": "code",
   "execution_count": 11,
   "id": "296189d9",
   "metadata": {
    "execution": {
     "iopub.execute_input": "2022-03-04T05:08:59.352518Z",
     "iopub.status.busy": "2022-03-04T05:08:59.352110Z",
     "iopub.status.idle": "2022-03-04T05:09:01.863212Z",
     "shell.execute_reply": "2022-03-04T05:09:01.862766Z"
    },
    "papermill": {
     "duration": 2.524026,
     "end_time": "2022-03-04T05:09:01.863323",
     "exception": false,
     "start_time": "2022-03-04T05:08:59.339297",
     "status": "completed"
    },
    "tags": []
   },
   "outputs": [
    {
     "name": "stdout",
     "output_type": "stream",
     "text": [
      "Visually inspect these to see if they line up with expected values given the transforms\n",
      "x_transforms_source []\n",
      "x_transforms_target []\n",
      "Average magnitude, source: 0.004635015\n",
      "Average power, source: 2.8574976e-05\n"
     ]
    },
    {
     "name": "stdout",
     "output_type": "stream",
     "text": [
      "Average magnitude, target: 0.0029128897\n",
      "Average power, target: 1.0910343e-05\n"
     ]
    }
   ],
   "source": [
    "# Some quick unit tests on the data\n",
    "from steves_utils.transforms import get_average_power, get_average_magnitude\n",
    "\n",
    "q_x, q_y, s_x, s_y, truth = next(iter(train_processed_source))\n",
    "\n",
    "assert q_x.dtype == eval(p.torch_default_dtype)\n",
    "assert s_x.dtype == eval(p.torch_default_dtype)\n",
    "\n",
    "print(\"Visually inspect these to see if they line up with expected values given the transforms\")\n",
    "print('x_transforms_source', p.x_transforms_source)\n",
    "print('x_transforms_target', p.x_transforms_target)\n",
    "print(\"Average magnitude, source:\", get_average_magnitude(q_x[0].numpy()))\n",
    "print(\"Average power, source:\", get_average_power(q_x[0].numpy()))\n",
    "\n",
    "q_x, q_y, s_x, s_y, truth = next(iter(train_processed_target))\n",
    "print(\"Average magnitude, target:\", get_average_magnitude(q_x[0].numpy()))\n",
    "print(\"Average power, target:\", get_average_power(q_x[0].numpy()))\n"
   ]
  },
  {
   "cell_type": "code",
   "execution_count": 12,
   "id": "bbdacba1",
   "metadata": {
    "execution": {
     "iopub.execute_input": "2022-03-04T05:09:01.892970Z",
     "iopub.status.busy": "2022-03-04T05:09:01.892719Z",
     "iopub.status.idle": "2022-03-04T05:09:01.953140Z",
     "shell.execute_reply": "2022-03-04T05:09:01.953551Z"
    },
    "papermill": {
     "duration": 0.074179,
     "end_time": "2022-03-04T05:09:01.953678",
     "exception": false,
     "start_time": "2022-03-04T05:09:01.879499",
     "status": "completed"
    },
    "tags": []
   },
   "outputs": [
    {
     "name": "stdout",
     "output_type": "stream",
     "text": [
      "(2, 256)\n"
     ]
    }
   ],
   "source": [
    "###################################\n",
    "# Build the model\n",
    "###################################\n",
    "model = Steves_Prototypical_Network(x_net, device=p.device, x_shape=(2,256))\n",
    "optimizer = Adam(params=model.parameters(), lr=p.lr)"
   ]
  },
  {
   "cell_type": "code",
   "execution_count": 13,
   "id": "22b39ac5",
   "metadata": {
    "execution": {
     "iopub.execute_input": "2022-03-04T05:09:01.989469Z",
     "iopub.status.busy": "2022-03-04T05:09:01.989064Z",
     "iopub.status.idle": "2022-03-04T05:20:16.460056Z",
     "shell.execute_reply": "2022-03-04T05:20:16.459825Z"
    },
    "papermill": {
     "duration": 674.486472,
     "end_time": "2022-03-04T05:20:16.460113",
     "exception": false,
     "start_time": "2022-03-04T05:09:01.973641",
     "status": "completed"
    },
    "tags": []
   },
   "outputs": [
    {
     "name": "stdout",
     "output_type": "stream",
     "text": [
      "epoch: 1, [batch: 1 / 420], examples_per_second: 9.2904, train_label_loss: 2.7256, \n"
     ]
    },
    {
     "name": "stdout",
     "output_type": "stream",
     "text": [
      "epoch: 1, [batch: 42 / 420], examples_per_second: 827.7703, train_label_loss: 1.3657, \n"
     ]
    },
    {
     "name": "stdout",
     "output_type": "stream",
     "text": [
      "epoch: 1, [batch: 84 / 420], examples_per_second: 900.3369, train_label_loss: 1.2945, \n"
     ]
    },
    {
     "name": "stdout",
     "output_type": "stream",
     "text": [
      "epoch: 1, [batch: 126 / 420], examples_per_second: 976.8533, train_label_loss: 1.4871, \n"
     ]
    },
    {
     "name": "stdout",
     "output_type": "stream",
     "text": [
      "epoch: 1, [batch: 168 / 420], examples_per_second: 1096.2302, train_label_loss: 1.2549, \n"
     ]
    },
    {
     "name": "stdout",
     "output_type": "stream",
     "text": [
      "epoch: 1, [batch: 210 / 420], examples_per_second: 1204.5481, train_label_loss: 1.1852, \n"
     ]
    },
    {
     "name": "stdout",
     "output_type": "stream",
     "text": [
      "epoch: 1, [batch: 252 / 420], examples_per_second: 1424.6438, train_label_loss: 1.1376, \n"
     ]
    },
    {
     "name": "stdout",
     "output_type": "stream",
     "text": [
      "epoch: 1, [batch: 294 / 420], examples_per_second: 1586.5683, train_label_loss: 1.0365, \n"
     ]
    },
    {
     "name": "stdout",
     "output_type": "stream",
     "text": [
      "epoch: 1, [batch: 336 / 420], examples_per_second: 1870.5703, train_label_loss: 1.2673, \n"
     ]
    },
    {
     "name": "stdout",
     "output_type": "stream",
     "text": [
      "epoch: 1, [batch: 378 / 420], examples_per_second: 2267.6693, train_label_loss: 1.3243, \n"
     ]
    },
    {
     "name": "stdout",
     "output_type": "stream",
     "text": [
      "=============================================================\n",
      "epoch: 1, source_val_acc_label: 0.4714, target_val_acc_label: 0.3793, source_val_label_loss: 1.5282, target_val_label_loss: 1.7266, \n",
      "=============================================================\n"
     ]
    },
    {
     "name": "stdout",
     "output_type": "stream",
     "text": [
      "New best\n"
     ]
    },
    {
     "name": "stdout",
     "output_type": "stream",
     "text": [
      "epoch: 2, [batch: 1 / 420], examples_per_second: 5.3163, train_label_loss: 1.5344, \n"
     ]
    },
    {
     "name": "stdout",
     "output_type": "stream",
     "text": [
      "epoch: 2, [batch: 42 / 420], examples_per_second: 804.9848, train_label_loss: 1.3540, \n"
     ]
    },
    {
     "name": "stdout",
     "output_type": "stream",
     "text": [
      "epoch: 2, [batch: 84 / 420], examples_per_second: 880.5134, train_label_loss: 1.1829, \n"
     ]
    },
    {
     "name": "stdout",
     "output_type": "stream",
     "text": [
      "epoch: 2, [batch: 126 / 420], examples_per_second: 969.9479, train_label_loss: 1.2946, \n"
     ]
    },
    {
     "name": "stdout",
     "output_type": "stream",
     "text": [
      "epoch: 2, [batch: 168 / 420], examples_per_second: 1061.0791, train_label_loss: 1.3654, \n"
     ]
    },
    {
     "name": "stdout",
     "output_type": "stream",
     "text": [
      "epoch: 2, [batch: 210 / 420], examples_per_second: 1208.9449, train_label_loss: 1.4762, \n"
     ]
    },
    {
     "name": "stdout",
     "output_type": "stream",
     "text": [
      "epoch: 2, [batch: 252 / 420], examples_per_second: 1364.6321, train_label_loss: 1.1944, \n"
     ]
    },
    {
     "name": "stdout",
     "output_type": "stream",
     "text": [
      "epoch: 2, [batch: 294 / 420], examples_per_second: 1573.0115, train_label_loss: 1.2419, \n"
     ]
    },
    {
     "name": "stdout",
     "output_type": "stream",
     "text": [
      "epoch: 2, [batch: 336 / 420], examples_per_second: 1869.6181, train_label_loss: 1.4385, \n"
     ]
    },
    {
     "name": "stdout",
     "output_type": "stream",
     "text": [
      "epoch: 2, [batch: 378 / 420], examples_per_second: 2242.9180, train_label_loss: 1.2042, \n"
     ]
    },
    {
     "name": "stdout",
     "output_type": "stream",
     "text": [
      "=============================================================\n",
      "epoch: 2, source_val_acc_label: 0.4786, target_val_acc_label: 0.3807, source_val_label_loss: 1.2794, target_val_label_loss: 1.6281, \n",
      "=============================================================\n"
     ]
    },
    {
     "name": "stdout",
     "output_type": "stream",
     "text": [
      "New best\n"
     ]
    },
    {
     "name": "stdout",
     "output_type": "stream",
     "text": [
      "epoch: 3, [batch: 1 / 420], examples_per_second: 5.2416, train_label_loss: 1.3544, \n"
     ]
    },
    {
     "name": "stdout",
     "output_type": "stream",
     "text": [
      "epoch: 3, [batch: 42 / 420], examples_per_second: 808.9749, train_label_loss: 1.1550, \n"
     ]
    },
    {
     "name": "stdout",
     "output_type": "stream",
     "text": [
      "epoch: 3, [batch: 84 / 420], examples_per_second: 893.0771, train_label_loss: 1.2472, \n"
     ]
    },
    {
     "name": "stdout",
     "output_type": "stream",
     "text": [
      "epoch: 3, [batch: 126 / 420], examples_per_second: 957.0939, train_label_loss: 1.4876, \n"
     ]
    },
    {
     "name": "stdout",
     "output_type": "stream",
     "text": [
      "epoch: 3, [batch: 168 / 420], examples_per_second: 1070.3257, train_label_loss: 1.2636, \n"
     ]
    },
    {
     "name": "stdout",
     "output_type": "stream",
     "text": [
      "epoch: 3, [batch: 210 / 420], examples_per_second: 1187.3090, train_label_loss: 1.5570, \n"
     ]
    },
    {
     "name": "stdout",
     "output_type": "stream",
     "text": [
      "epoch: 3, [batch: 252 / 420], examples_per_second: 1350.5802, train_label_loss: 1.5477, \n"
     ]
    },
    {
     "name": "stdout",
     "output_type": "stream",
     "text": [
      "epoch: 3, [batch: 294 / 420], examples_per_second: 1583.1081, train_label_loss: 1.3467, \n"
     ]
    },
    {
     "name": "stdout",
     "output_type": "stream",
     "text": [
      "epoch: 3, [batch: 336 / 420], examples_per_second: 1876.7855, train_label_loss: 1.2927, \n"
     ]
    },
    {
     "name": "stdout",
     "output_type": "stream",
     "text": [
      "epoch: 3, [batch: 378 / 420], examples_per_second: 2274.6854, train_label_loss: 0.9040, \n"
     ]
    },
    {
     "name": "stdout",
     "output_type": "stream",
     "text": [
      "=============================================================\n",
      "epoch: 3, source_val_acc_label: 0.4851, target_val_acc_label: 0.3899, source_val_label_loss: 1.2594, target_val_label_loss: 1.5842, \n",
      "=============================================================\n"
     ]
    },
    {
     "name": "stdout",
     "output_type": "stream",
     "text": [
      "New best\n"
     ]
    },
    {
     "name": "stdout",
     "output_type": "stream",
     "text": [
      "epoch: 4, [batch: 1 / 420], examples_per_second: 5.2754, train_label_loss: 1.1060, \n"
     ]
    },
    {
     "name": "stdout",
     "output_type": "stream",
     "text": [
      "epoch: 4, [batch: 42 / 420], examples_per_second: 823.1489, train_label_loss: 1.2915, \n"
     ]
    },
    {
     "name": "stdout",
     "output_type": "stream",
     "text": [
      "epoch: 4, [batch: 84 / 420], examples_per_second: 871.2987, train_label_loss: 1.2731, \n"
     ]
    },
    {
     "name": "stdout",
     "output_type": "stream",
     "text": [
      "epoch: 4, [batch: 126 / 420], examples_per_second: 978.6557, train_label_loss: 1.1159, \n"
     ]
    },
    {
     "name": "stdout",
     "output_type": "stream",
     "text": [
      "epoch: 4, [batch: 168 / 420], examples_per_second: 1052.9865, train_label_loss: 1.2956, \n"
     ]
    },
    {
     "name": "stdout",
     "output_type": "stream",
     "text": [
      "epoch: 4, [batch: 210 / 420], examples_per_second: 1199.3652, train_label_loss: 1.0281, \n"
     ]
    },
    {
     "name": "stdout",
     "output_type": "stream",
     "text": [
      "epoch: 4, [batch: 252 / 420], examples_per_second: 1378.4036, train_label_loss: 1.4263, \n"
     ]
    },
    {
     "name": "stdout",
     "output_type": "stream",
     "text": [
      "epoch: 4, [batch: 294 / 420], examples_per_second: 1539.3989, train_label_loss: 1.3233, \n"
     ]
    },
    {
     "name": "stdout",
     "output_type": "stream",
     "text": [
      "epoch: 4, [batch: 336 / 420], examples_per_second: 1890.0361, train_label_loss: 1.2442, \n"
     ]
    },
    {
     "name": "stdout",
     "output_type": "stream",
     "text": [
      "epoch: 4, [batch: 378 / 420], examples_per_second: 2289.0006, train_label_loss: 1.0294, \n"
     ]
    },
    {
     "name": "stdout",
     "output_type": "stream",
     "text": [
      "=============================================================\n",
      "epoch: 4, source_val_acc_label: 0.5392, target_val_acc_label: 0.4157, source_val_label_loss: 1.1858, target_val_label_loss: 1.5714, \n",
      "=============================================================\n"
     ]
    },
    {
     "name": "stdout",
     "output_type": "stream",
     "text": [
      "New best\n"
     ]
    },
    {
     "name": "stdout",
     "output_type": "stream",
     "text": [
      "epoch: 5, [batch: 1 / 420], examples_per_second: 5.1765, train_label_loss: 1.0307, \n"
     ]
    },
    {
     "name": "stdout",
     "output_type": "stream",
     "text": [
      "epoch: 5, [batch: 42 / 420], examples_per_second: 797.6211, train_label_loss: 1.0058, \n"
     ]
    },
    {
     "name": "stdout",
     "output_type": "stream",
     "text": [
      "epoch: 5, [batch: 84 / 420], examples_per_second: 870.4952, train_label_loss: 0.7583, \n"
     ]
    },
    {
     "name": "stdout",
     "output_type": "stream",
     "text": [
      "epoch: 5, [batch: 126 / 420], examples_per_second: 943.9574, train_label_loss: 0.6259, \n"
     ]
    },
    {
     "name": "stdout",
     "output_type": "stream",
     "text": [
      "epoch: 5, [batch: 168 / 420], examples_per_second: 1035.5344, train_label_loss: 0.7327, \n"
     ]
    },
    {
     "name": "stdout",
     "output_type": "stream",
     "text": [
      "epoch: 5, [batch: 210 / 420], examples_per_second: 1156.5314, train_label_loss: 0.9423, \n"
     ]
    },
    {
     "name": "stdout",
     "output_type": "stream",
     "text": [
      "epoch: 5, [batch: 252 / 420], examples_per_second: 1284.5177, train_label_loss: 0.4264, \n"
     ]
    },
    {
     "name": "stdout",
     "output_type": "stream",
     "text": [
      "epoch: 5, [batch: 294 / 420], examples_per_second: 1548.9863, train_label_loss: 1.1858, \n"
     ]
    },
    {
     "name": "stdout",
     "output_type": "stream",
     "text": [
      "epoch: 5, [batch: 336 / 420], examples_per_second: 1802.2240, train_label_loss: 0.6812, \n"
     ]
    },
    {
     "name": "stdout",
     "output_type": "stream",
     "text": [
      "epoch: 5, [batch: 378 / 420], examples_per_second: 2299.4120, train_label_loss: 1.1133, \n"
     ]
    },
    {
     "name": "stdout",
     "output_type": "stream",
     "text": [
      "=============================================================\n",
      "epoch: 5, source_val_acc_label: 0.6995, target_val_acc_label: 0.5383, source_val_label_loss: 0.8066, target_val_label_loss: 1.3227, \n",
      "=============================================================\n"
     ]
    },
    {
     "name": "stdout",
     "output_type": "stream",
     "text": [
      "New best\n"
     ]
    },
    {
     "name": "stdout",
     "output_type": "stream",
     "text": [
      "epoch: 6, [batch: 1 / 420], examples_per_second: 5.2251, train_label_loss: 0.4502, \n"
     ]
    },
    {
     "name": "stdout",
     "output_type": "stream",
     "text": [
      "epoch: 6, [batch: 42 / 420], examples_per_second: 813.4834, train_label_loss: 0.4157, \n"
     ]
    },
    {
     "name": "stdout",
     "output_type": "stream",
     "text": [
      "epoch: 6, [batch: 84 / 420], examples_per_second: 871.0660, train_label_loss: 0.9832, \n"
     ]
    },
    {
     "name": "stdout",
     "output_type": "stream",
     "text": [
      "epoch: 6, [batch: 126 / 420], examples_per_second: 960.1710, train_label_loss: 0.4879, \n"
     ]
    },
    {
     "name": "stdout",
     "output_type": "stream",
     "text": [
      "epoch: 6, [batch: 168 / 420], examples_per_second: 1031.0723, train_label_loss: 0.9567, \n"
     ]
    },
    {
     "name": "stdout",
     "output_type": "stream",
     "text": [
      "epoch: 6, [batch: 210 / 420], examples_per_second: 1193.9903, train_label_loss: 0.5155, \n"
     ]
    },
    {
     "name": "stdout",
     "output_type": "stream",
     "text": [
      "epoch: 6, [batch: 252 / 420], examples_per_second: 1335.9700, train_label_loss: 0.5761, \n"
     ]
    },
    {
     "name": "stdout",
     "output_type": "stream",
     "text": [
      "epoch: 6, [batch: 294 / 420], examples_per_second: 1519.9356, train_label_loss: 0.7060, \n"
     ]
    },
    {
     "name": "stdout",
     "output_type": "stream",
     "text": [
      "epoch: 6, [batch: 336 / 420], examples_per_second: 1783.6780, train_label_loss: 1.1137, \n"
     ]
    },
    {
     "name": "stdout",
     "output_type": "stream",
     "text": [
      "epoch: 6, [batch: 378 / 420], examples_per_second: 2175.9694, train_label_loss: 0.8172, \n"
     ]
    },
    {
     "name": "stdout",
     "output_type": "stream",
     "text": [
      "=============================================================\n",
      "epoch: 6, source_val_acc_label: 0.7280, target_val_acc_label: 0.5745, source_val_label_loss: 0.7183, target_val_label_loss: 1.2373, \n",
      "=============================================================\n"
     ]
    },
    {
     "name": "stdout",
     "output_type": "stream",
     "text": [
      "New best\n"
     ]
    },
    {
     "name": "stdout",
     "output_type": "stream",
     "text": [
      "epoch: 7, [batch: 1 / 420], examples_per_second: 5.1698, train_label_loss: 0.3425, \n"
     ]
    },
    {
     "name": "stdout",
     "output_type": "stream",
     "text": [
      "epoch: 7, [batch: 42 / 420], examples_per_second: 798.6584, train_label_loss: 0.7184, \n"
     ]
    },
    {
     "name": "stdout",
     "output_type": "stream",
     "text": [
      "epoch: 7, [batch: 84 / 420], examples_per_second: 865.9928, train_label_loss: 0.4507, \n"
     ]
    },
    {
     "name": "stdout",
     "output_type": "stream",
     "text": [
      "epoch: 7, [batch: 126 / 420], examples_per_second: 963.0045, train_label_loss: 1.1045, \n"
     ]
    },
    {
     "name": "stdout",
     "output_type": "stream",
     "text": [
      "epoch: 7, [batch: 168 / 420], examples_per_second: 1068.2677, train_label_loss: 0.2745, \n"
     ]
    },
    {
     "name": "stdout",
     "output_type": "stream",
     "text": [
      "epoch: 7, [batch: 210 / 420], examples_per_second: 1201.3331, train_label_loss: 0.2974, \n"
     ]
    },
    {
     "name": "stdout",
     "output_type": "stream",
     "text": [
      "epoch: 7, [batch: 252 / 420], examples_per_second: 1330.0410, train_label_loss: 0.6130, \n"
     ]
    },
    {
     "name": "stdout",
     "output_type": "stream",
     "text": [
      "epoch: 7, [batch: 294 / 420], examples_per_second: 1560.1977, train_label_loss: 0.4175, \n"
     ]
    },
    {
     "name": "stdout",
     "output_type": "stream",
     "text": [
      "epoch: 7, [batch: 336 / 420], examples_per_second: 1851.9371, train_label_loss: 0.6426, \n"
     ]
    },
    {
     "name": "stdout",
     "output_type": "stream",
     "text": [
      "epoch: 7, [batch: 378 / 420], examples_per_second: 2292.4813, train_label_loss: 0.8964, \n"
     ]
    },
    {
     "name": "stdout",
     "output_type": "stream",
     "text": [
      "=============================================================\n",
      "epoch: 7, source_val_acc_label: 0.7594, target_val_acc_label: 0.5971, source_val_label_loss: 0.6270, target_val_label_loss: 1.1869, \n",
      "=============================================================\n"
     ]
    },
    {
     "name": "stdout",
     "output_type": "stream",
     "text": [
      "New best\n"
     ]
    },
    {
     "name": "stdout",
     "output_type": "stream",
     "text": [
      "epoch: 8, [batch: 1 / 420], examples_per_second: 5.1829, train_label_loss: 0.2841, \n"
     ]
    },
    {
     "name": "stdout",
     "output_type": "stream",
     "text": [
      "epoch: 8, [batch: 42 / 420], examples_per_second: 799.4795, train_label_loss: 0.4987, \n"
     ]
    },
    {
     "name": "stdout",
     "output_type": "stream",
     "text": [
      "epoch: 8, [batch: 84 / 420], examples_per_second: 860.0848, train_label_loss: 0.2662, \n"
     ]
    },
    {
     "name": "stdout",
     "output_type": "stream",
     "text": [
      "epoch: 8, [batch: 126 / 420], examples_per_second: 922.3994, train_label_loss: 0.5107, \n"
     ]
    },
    {
     "name": "stdout",
     "output_type": "stream",
     "text": [
      "epoch: 8, [batch: 168 / 420], examples_per_second: 1084.5793, train_label_loss: 0.3376, \n"
     ]
    },
    {
     "name": "stdout",
     "output_type": "stream",
     "text": [
      "epoch: 8, [batch: 210 / 420], examples_per_second: 1192.1557, train_label_loss: 1.1328, \n"
     ]
    },
    {
     "name": "stdout",
     "output_type": "stream",
     "text": [
      "epoch: 8, [batch: 252 / 420], examples_per_second: 1362.9361, train_label_loss: 0.5151, \n"
     ]
    },
    {
     "name": "stdout",
     "output_type": "stream",
     "text": [
      "epoch: 8, [batch: 294 / 420], examples_per_second: 1556.9417, train_label_loss: 0.3755, \n"
     ]
    },
    {
     "name": "stdout",
     "output_type": "stream",
     "text": [
      "epoch: 8, [batch: 336 / 420], examples_per_second: 1814.4546, train_label_loss: 0.4603, \n"
     ]
    },
    {
     "name": "stdout",
     "output_type": "stream",
     "text": [
      "epoch: 8, [batch: 378 / 420], examples_per_second: 2042.0749, train_label_loss: 0.6304, \n"
     ]
    },
    {
     "name": "stdout",
     "output_type": "stream",
     "text": [
      "=============================================================\n",
      "epoch: 8, source_val_acc_label: 0.7651, target_val_acc_label: 0.6167, source_val_label_loss: 0.6244, target_val_label_loss: 1.1243, \n",
      "=============================================================\n"
     ]
    },
    {
     "name": "stdout",
     "output_type": "stream",
     "text": [
      "New best\n"
     ]
    },
    {
     "name": "stdout",
     "output_type": "stream",
     "text": [
      "epoch: 9, [batch: 1 / 420], examples_per_second: 5.1906, train_label_loss: 0.4533, \n"
     ]
    },
    {
     "name": "stdout",
     "output_type": "stream",
     "text": [
      "epoch: 9, [batch: 42 / 420], examples_per_second: 808.0243, train_label_loss: 0.6003, \n"
     ]
    },
    {
     "name": "stdout",
     "output_type": "stream",
     "text": [
      "epoch: 9, [batch: 84 / 420], examples_per_second: 885.6125, train_label_loss: 0.2029, \n"
     ]
    },
    {
     "name": "stdout",
     "output_type": "stream",
     "text": [
      "epoch: 9, [batch: 126 / 420], examples_per_second: 944.4016, train_label_loss: 0.4957, \n"
     ]
    },
    {
     "name": "stdout",
     "output_type": "stream",
     "text": [
      "epoch: 9, [batch: 168 / 420], examples_per_second: 1032.4475, train_label_loss: 0.4378, \n"
     ]
    },
    {
     "name": "stdout",
     "output_type": "stream",
     "text": [
      "epoch: 9, [batch: 210 / 420], examples_per_second: 1178.3384, train_label_loss: 0.2659, \n"
     ]
    },
    {
     "name": "stdout",
     "output_type": "stream",
     "text": [
      "epoch: 9, [batch: 252 / 420], examples_per_second: 1308.0535, train_label_loss: 0.6458, \n"
     ]
    },
    {
     "name": "stdout",
     "output_type": "stream",
     "text": [
      "epoch: 9, [batch: 294 / 420], examples_per_second: 1486.3798, train_label_loss: 0.8627, \n"
     ]
    },
    {
     "name": "stdout",
     "output_type": "stream",
     "text": [
      "epoch: 9, [batch: 336 / 420], examples_per_second: 1761.3151, train_label_loss: 0.8764, \n"
     ]
    },
    {
     "name": "stdout",
     "output_type": "stream",
     "text": [
      "epoch: 9, [batch: 378 / 420], examples_per_second: 2215.1698, train_label_loss: 0.3331, \n"
     ]
    },
    {
     "name": "stdout",
     "output_type": "stream",
     "text": [
      "=============================================================\n",
      "epoch: 9, source_val_acc_label: 0.7793, target_val_acc_label: 0.6304, source_val_label_loss: 0.5973, target_val_label_loss: 1.1434, \n",
      "=============================================================\n"
     ]
    },
    {
     "name": "stdout",
     "output_type": "stream",
     "text": [
      "epoch: 10, [batch: 1 / 420], examples_per_second: 5.1868, train_label_loss: 0.4282, \n"
     ]
    },
    {
     "name": "stdout",
     "output_type": "stream",
     "text": [
      "epoch: 10, [batch: 42 / 420], examples_per_second: 805.5504, train_label_loss: 0.3770, \n"
     ]
    },
    {
     "name": "stdout",
     "output_type": "stream",
     "text": [
      "epoch: 10, [batch: 84 / 420], examples_per_second: 862.8413, train_label_loss: 0.4411, \n"
     ]
    },
    {
     "name": "stdout",
     "output_type": "stream",
     "text": [
      "epoch: 10, [batch: 126 / 420], examples_per_second: 937.4716, train_label_loss: 0.4452, \n"
     ]
    },
    {
     "name": "stdout",
     "output_type": "stream",
     "text": [
      "epoch: 10, [batch: 168 / 420], examples_per_second: 1081.2621, train_label_loss: 0.6589, \n"
     ]
    },
    {
     "name": "stdout",
     "output_type": "stream",
     "text": [
      "epoch: 10, [batch: 210 / 420], examples_per_second: 1181.8747, train_label_loss: 0.2912, \n"
     ]
    },
    {
     "name": "stdout",
     "output_type": "stream",
     "text": [
      "epoch: 10, [batch: 252 / 420], examples_per_second: 1340.1652, train_label_loss: 0.3527, \n"
     ]
    },
    {
     "name": "stdout",
     "output_type": "stream",
     "text": [
      "epoch: 10, [batch: 294 / 420], examples_per_second: 1548.2908, train_label_loss: 0.2555, \n"
     ]
    },
    {
     "name": "stdout",
     "output_type": "stream",
     "text": [
      "epoch: 10, [batch: 336 / 420], examples_per_second: 1807.9077, train_label_loss: 0.1320, \n"
     ]
    },
    {
     "name": "stdout",
     "output_type": "stream",
     "text": [
      "epoch: 10, [batch: 378 / 420], examples_per_second: 2271.5419, train_label_loss: 0.3957, \n"
     ]
    },
    {
     "name": "stdout",
     "output_type": "stream",
     "text": [
      "=============================================================\n",
      "epoch: 10, source_val_acc_label: 0.7760, target_val_acc_label: 0.6227, source_val_label_loss: 0.5953, target_val_label_loss: 1.1395, \n",
      "=============================================================\n"
     ]
    },
    {
     "name": "stdout",
     "output_type": "stream",
     "text": [
      "epoch: 11, [batch: 1 / 420], examples_per_second: 5.1436, train_label_loss: 0.6593, \n"
     ]
    },
    {
     "name": "stdout",
     "output_type": "stream",
     "text": [
      "epoch: 11, [batch: 42 / 420], examples_per_second: 801.1246, train_label_loss: 0.2671, \n"
     ]
    },
    {
     "name": "stdout",
     "output_type": "stream",
     "text": [
      "epoch: 11, [batch: 84 / 420], examples_per_second: 875.5597, train_label_loss: 0.4092, \n"
     ]
    },
    {
     "name": "stdout",
     "output_type": "stream",
     "text": [
      "epoch: 11, [batch: 126 / 420], examples_per_second: 958.8363, train_label_loss: 0.5914, \n"
     ]
    },
    {
     "name": "stdout",
     "output_type": "stream",
     "text": [
      "epoch: 11, [batch: 168 / 420], examples_per_second: 1050.2699, train_label_loss: 0.6039, \n"
     ]
    },
    {
     "name": "stdout",
     "output_type": "stream",
     "text": [
      "epoch: 11, [batch: 210 / 420], examples_per_second: 1196.6607, train_label_loss: 0.6097, \n"
     ]
    },
    {
     "name": "stdout",
     "output_type": "stream",
     "text": [
      "epoch: 11, [batch: 252 / 420], examples_per_second: 1352.9765, train_label_loss: 0.1056, \n"
     ]
    },
    {
     "name": "stdout",
     "output_type": "stream",
     "text": [
      "epoch: 11, [batch: 294 / 420], examples_per_second: 1565.7114, train_label_loss: 0.3658, \n"
     ]
    },
    {
     "name": "stdout",
     "output_type": "stream",
     "text": [
      "epoch: 11, [batch: 336 / 420], examples_per_second: 1783.5385, train_label_loss: 0.4354, \n"
     ]
    },
    {
     "name": "stdout",
     "output_type": "stream",
     "text": [
      "epoch: 11, [batch: 378 / 420], examples_per_second: 2146.3059, train_label_loss: 0.5286, \n"
     ]
    },
    {
     "name": "stdout",
     "output_type": "stream",
     "text": [
      "=============================================================\n",
      "epoch: 11, source_val_acc_label: 0.7840, target_val_acc_label: 0.6370, source_val_label_loss: 0.5790, target_val_label_loss: 1.1548, \n",
      "=============================================================\n"
     ]
    },
    {
     "name": "stdout",
     "output_type": "stream",
     "text": [
      "epoch: 12, [batch: 1 / 420], examples_per_second: 4.9894, train_label_loss: 0.0992, \n"
     ]
    },
    {
     "name": "stdout",
     "output_type": "stream",
     "text": [
      "epoch: 12, [batch: 42 / 420], examples_per_second: 793.7876, train_label_loss: 0.3254, \n"
     ]
    },
    {
     "name": "stdout",
     "output_type": "stream",
     "text": [
      "epoch: 12, [batch: 84 / 420], examples_per_second: 869.4666, train_label_loss: 0.2692, \n"
     ]
    },
    {
     "name": "stdout",
     "output_type": "stream",
     "text": [
      "epoch: 12, [batch: 126 / 420], examples_per_second: 972.5574, train_label_loss: 0.4721, \n"
     ]
    },
    {
     "name": "stdout",
     "output_type": "stream",
     "text": [
      "epoch: 12, [batch: 168 / 420], examples_per_second: 1081.2832, train_label_loss: 0.7846, \n"
     ]
    },
    {
     "name": "stdout",
     "output_type": "stream",
     "text": [
      "epoch: 12, [batch: 210 / 420], examples_per_second: 1161.2710, train_label_loss: 0.2653, \n"
     ]
    },
    {
     "name": "stdout",
     "output_type": "stream",
     "text": [
      "epoch: 12, [batch: 252 / 420], examples_per_second: 1360.9201, train_label_loss: 0.3639, \n"
     ]
    },
    {
     "name": "stdout",
     "output_type": "stream",
     "text": [
      "epoch: 12, [batch: 294 / 420], examples_per_second: 1594.8002, train_label_loss: 0.7473, \n"
     ]
    },
    {
     "name": "stdout",
     "output_type": "stream",
     "text": [
      "epoch: 12, [batch: 336 / 420], examples_per_second: 1856.5816, train_label_loss: 0.2453, \n"
     ]
    },
    {
     "name": "stdout",
     "output_type": "stream",
     "text": [
      "epoch: 12, [batch: 378 / 420], examples_per_second: 2300.5816, train_label_loss: 0.3490, \n"
     ]
    },
    {
     "name": "stdout",
     "output_type": "stream",
     "text": [
      "=============================================================\n",
      "epoch: 12, source_val_acc_label: 0.7785, target_val_acc_label: 0.6248, source_val_label_loss: 0.6012, target_val_label_loss: 1.1777, \n",
      "=============================================================\n"
     ]
    },
    {
     "name": "stdout",
     "output_type": "stream",
     "text": [
      "Patience (3) exhausted\n"
     ]
    }
   ],
   "source": [
    "###################################\n",
    "# train\n",
    "###################################\n",
    "jig = PTN_Train_Eval_Test_Jig(model, p.BEST_MODEL_PATH, p.device)\n",
    "\n",
    "jig.train(\n",
    "    train_iterable=datasets.source.processed.train,\n",
    "    source_val_iterable=datasets.source.processed.val,\n",
    "    target_val_iterable=datasets.target.processed.val,\n",
    "    num_epochs=p.n_epoch,\n",
    "    num_logs_per_epoch=p.NUM_LOGS_PER_EPOCH,\n",
    "    patience=p.patience,\n",
    "    optimizer=optimizer,\n",
    "    criteria_for_best=p.criteria_for_best,\n",
    ")"
   ]
  },
  {
   "cell_type": "code",
   "execution_count": 14,
   "id": "31e8fabf",
   "metadata": {
    "execution": {
     "iopub.execute_input": "2022-03-04T05:20:16.531184Z",
     "iopub.status.busy": "2022-03-04T05:20:16.530936Z",
     "iopub.status.idle": "2022-03-04T05:20:16.547128Z",
     "shell.execute_reply": "2022-03-04T05:20:16.546706Z"
    },
    "papermill": {
     "duration": 0.05306,
     "end_time": "2022-03-04T05:20:16.547223",
     "exception": false,
     "start_time": "2022-03-04T05:20:16.494163",
     "status": "completed"
    },
    "tags": []
   },
   "outputs": [],
   "source": [
    "total_experiment_time_secs = time.time() - start_time_secs"
   ]
  },
  {
   "cell_type": "code",
   "execution_count": 15,
   "id": "87b9595b",
   "metadata": {
    "execution": {
     "iopub.execute_input": "2022-03-04T05:20:16.654455Z",
     "iopub.status.busy": "2022-03-04T05:20:16.649492Z",
     "iopub.status.idle": "2022-03-04T05:21:48.820447Z",
     "shell.execute_reply": "2022-03-04T05:21:48.820822Z"
    },
    "papermill": {
     "duration": 92.211697,
     "end_time": "2022-03-04T05:21:48.820952",
     "exception": false,
     "start_time": "2022-03-04T05:20:16.609255",
     "status": "completed"
    },
    "tags": []
   },
   "outputs": [],
   "source": [
    "###################################\n",
    "# Evaluate the model\n",
    "###################################\n",
    "source_test_label_accuracy, source_test_label_loss = jig.test(datasets.source.processed.test)\n",
    "target_test_label_accuracy, target_test_label_loss = jig.test(datasets.target.processed.test)\n",
    "\n",
    "source_val_label_accuracy, source_val_label_loss = jig.test(datasets.source.processed.val)\n",
    "target_val_label_accuracy, target_val_label_loss = jig.test(datasets.target.processed.val)\n",
    "\n",
    "history = jig.get_history()\n",
    "\n",
    "total_epochs_trained = len(history[\"epoch_indices\"])\n",
    "\n",
    "val_dl = Iterable_Aggregator((datasets.source.original.val,datasets.target.original.val))\n",
    "\n",
    "confusion = ptn_confusion_by_domain_over_dataloader(model, p.device, val_dl)\n",
    "per_domain_accuracy = per_domain_accuracy_from_confusion(confusion)\n",
    "\n",
    "# Add a key to per_domain_accuracy for if it was a source domain\n",
    "for domain, accuracy in per_domain_accuracy.items():\n",
    "    per_domain_accuracy[domain] = {\n",
    "        \"accuracy\": accuracy,\n",
    "        \"source?\": domain in p.domains_source\n",
    "    }\n",
    "\n",
    "# Do an independent accuracy assesment JUST TO BE SURE!\n",
    "# _source_test_label_accuracy = independent_accuracy_assesment(model, datasets.source.processed.test, p.device)\n",
    "# _target_test_label_accuracy = independent_accuracy_assesment(model, datasets.target.processed.test, p.device)\n",
    "# _source_val_label_accuracy = independent_accuracy_assesment(model, datasets.source.processed.val, p.device)\n",
    "# _target_val_label_accuracy = independent_accuracy_assesment(model, datasets.target.processed.val, p.device)\n",
    "\n",
    "# assert(_source_test_label_accuracy == source_test_label_accuracy)\n",
    "# assert(_target_test_label_accuracy == target_test_label_accuracy)\n",
    "# assert(_source_val_label_accuracy == source_val_label_accuracy)\n",
    "# assert(_target_val_label_accuracy == target_val_label_accuracy)\n",
    "\n",
    "experiment = {\n",
    "    \"experiment_name\": p.experiment_name,\n",
    "    \"parameters\": dict(p),\n",
    "    \"results\": {\n",
    "        \"source_test_label_accuracy\": source_test_label_accuracy,\n",
    "        \"source_test_label_loss\": source_test_label_loss,\n",
    "        \"target_test_label_accuracy\": target_test_label_accuracy,\n",
    "        \"target_test_label_loss\": target_test_label_loss,\n",
    "        \"source_val_label_accuracy\": source_val_label_accuracy,\n",
    "        \"source_val_label_loss\": source_val_label_loss,\n",
    "        \"target_val_label_accuracy\": target_val_label_accuracy,\n",
    "        \"target_val_label_loss\": target_val_label_loss,\n",
    "        \"total_epochs_trained\": total_epochs_trained,\n",
    "        \"total_experiment_time_secs\": total_experiment_time_secs,\n",
    "        \"confusion\": confusion,\n",
    "        \"per_domain_accuracy\": per_domain_accuracy,\n",
    "    },\n",
    "    \"history\": history,\n",
    "    \"dataset_metrics\": get_dataset_metrics(datasets, \"ptn\"),\n",
    "}"
   ]
  },
  {
   "cell_type": "code",
   "execution_count": 16,
   "id": "54a21829",
   "metadata": {
    "execution": {
     "iopub.execute_input": "2022-03-04T05:21:48.898820Z",
     "iopub.status.busy": "2022-03-04T05:21:48.898549Z",
     "iopub.status.idle": "2022-03-04T05:21:49.081992Z",
     "shell.execute_reply": "2022-03-04T05:21:49.081488Z"
    },
    "papermill": {
     "duration": 0.221772,
     "end_time": "2022-03-04T05:21:49.082099",
     "exception": false,
     "start_time": "2022-03-04T05:21:48.860327",
     "status": "completed"
    },
    "tags": []
   },
   "outputs": [
    {
     "data": {
      "image/png": "[encoded data removed]",
      "text/plain": [
       "<Figure size 1080x504 with 1 Axes>"
      ]
     },
     "metadata": {
      "needs_background": "light"
     },
     "output_type": "display_data"
    }
   ],
   "source": [
    "ax = get_loss_curve(experiment)\n",
    "plt.show()"
   ]
  },
  {
   "cell_type": "code",
   "execution_count": 17,
   "id": "fd8a0f60",
   "metadata": {
    "execution": {
     "iopub.execute_input": "2022-03-04T05:21:49.161745Z",
     "iopub.status.busy": "2022-03-04T05:21:49.161486Z",
     "iopub.status.idle": "2022-03-04T05:21:49.421665Z",
     "shell.execute_reply": "2022-03-04T05:21:49.422080Z"
    },
    "papermill": {
     "duration": 0.299583,
     "end_time": "2022-03-04T05:21:49.422213",
     "exception": false,
     "start_time": "2022-03-04T05:21:49.122630",
     "status": "completed"
    },
    "tags": []
   },
   "outputs": [
    {
     "data": {
      "text/plain": [
       "<matplotlib.axes._subplots.AxesSubplot at 0x7f462fdcc190>"
      ]
     },
     "execution_count": 17,
     "metadata": {},
     "output_type": "execute_result"
    },
    {
     "data": {
      "image/png": "[encoded data removed]",
      "text/plain": [
       "<Figure size 1080x504 with 1 Axes>"
      ]
     },
     "metadata": {
      "needs_background": "light"
     },
     "output_type": "display_data"
    }
   ],
   "source": [
    "get_results_table(experiment)"
   ]
  },
  {
   "cell_type": "code",
   "execution_count": 18,
   "id": "cf8dc689",
   "metadata": {
    "execution": {
     "iopub.execute_input": "2022-03-04T05:21:49.509657Z",
     "iopub.status.busy": "2022-03-04T05:21:49.508584Z",
     "iopub.status.idle": "2022-03-04T05:21:49.687240Z",
     "shell.execute_reply": "2022-03-04T05:21:49.686819Z"
    },
    "papermill": {
     "duration": 0.223605,
     "end_time": "2022-03-04T05:21:49.687341",
     "exception": false,
     "start_time": "2022-03-04T05:21:49.463736",
     "status": "completed"
    },
    "tags": []
   },
   "outputs": [
    {
     "data": {
      "text/plain": [
       "<matplotlib.axes._subplots.AxesSubplot at 0x7f46e821ad00>"
      ]
     },
     "execution_count": 18,
     "metadata": {},
     "output_type": "execute_result"
    },
    {
     "data": {
      "image/png": "[encoded data removed]",
      "text/plain": [
       "<Figure size 1080x504 with 1 Axes>"
      ]
     },
     "metadata": {
      "needs_background": "light"
     },
     "output_type": "display_data"
    }
   ],
   "source": [
    "get_domain_accuracies(experiment)"
   ]
  },
  {
   "cell_type": "code",
   "execution_count": 19,
   "id": "a74ae082",
   "metadata": {
    "execution": {
     "iopub.execute_input": "2022-03-04T05:21:49.771439Z",
     "iopub.status.busy": "2022-03-04T05:21:49.771178Z",
     "iopub.status.idle": "2022-03-04T05:21:49.785514Z",
     "shell.execute_reply": "2022-03-04T05:21:49.785069Z"
    },
    "papermill": {
     "duration": 0.055599,
     "end_time": "2022-03-04T05:21:49.785604",
     "exception": false,
     "start_time": "2022-03-04T05:21:49.730005",
     "status": "completed"
    },
    "tags": []
   },
   "outputs": [
    {
     "name": "stdout",
     "output_type": "stream",
     "text": [
      "Source Test Label Accuracy: 0.7675347222222222 Target Test Label Accuracy: 0.6170833333333333\n",
      "Source Val Label Accuracy: 0.7651041666666667 Target Val Label Accuracy: 0.6166666666666667\n"
     ]
    }
   ],
   "source": [
    "print(\"Source Test Label Accuracy:\", experiment[\"results\"][\"source_test_label_accuracy\"], \"Target Test Label Accuracy:\", experiment[\"results\"][\"target_test_label_accuracy\"])\n",
    "print(\"Source Val Label Accuracy:\", experiment[\"results\"][\"source_val_label_accuracy\"], \"Target Val Label Accuracy:\", experiment[\"results\"][\"target_val_label_accuracy\"])"
   ]
  },
  {
   "cell_type": "code",
   "execution_count": 20,
   "id": "dacca602",
   "metadata": {
    "execution": {
     "iopub.execute_input": "2022-03-04T05:21:49.870179Z",
     "iopub.status.busy": "2022-03-04T05:21:49.869928Z",
     "iopub.status.idle": "2022-03-04T05:21:49.884502Z",
     "shell.execute_reply": "2022-03-04T05:21:49.885020Z"
    },
    "papermill": {
     "duration": 0.056272,
     "end_time": "2022-03-04T05:21:49.885148",
     "exception": false,
     "start_time": "2022-03-04T05:21:49.828876",
     "status": "completed"
    },
    "tags": [
     "experiment_json"
    ]
   },
   "outputs": [
    {
     "data": {
      "text/plain": [
       "'{\"experiment_name\": \"learningRate_oracle.run2\", \"parameters\": {\"experiment_name\": \"learningRate_oracle.run2\", \"device\": \"cuda\", \"seed\": 1337, \"dataset_seed\": 1337, \"labels_source\": [\"3123D52\", \"3123D65\", \"3123D79\", \"3123D80\", \"3123D54\", \"3123D70\", \"3123D7B\", \"3123D89\", \"3123D58\", \"3123D76\", \"3123D7D\", \"3123EFE\", \"3123D64\", \"3123D78\", \"3123D7E\", \"3124E4A\"], \"labels_target\": [\"3123D52\", \"3123D65\", \"3123D79\", \"3123D80\", \"3123D54\", \"3123D70\", \"3123D7B\", \"3123D89\", \"3123D58\", \"3123D76\", \"3123D7D\", \"3123EFE\", \"3123D64\", \"3123D78\", \"3123D7E\", \"3124E4A\"], \"x_transforms_source\": [], \"x_transforms_target\": [], \"episode_transforms_source\": [], \"episode_transforms_target\": [], \"num_examples_per_domain_per_label_source\": 1000, \"num_examples_per_domain_per_label_target\": 1000, \"n_shot\": 3, \"n_way\": 16, \"n_query\": 2, \"train_k_factor\": 1, \"val_k_factor\": 2, \"test_k_factor\": 2, \"torch_default_dtype\": \"torch.float32\", \"n_epoch\": 50, \"patience\": 3, \"criteria_for_best\": \"target_loss\", \"x_net\": [{\"class\": \"nnReshape\", \"kargs\": {\"shape\": [-1, 1, 2, 256]}}, {\"class\": \"Conv2d\", \"kargs\": {\"in_channels\": 1, \"out_channels\": 256, \"kernel_size\": [1, 7], \"bias\": false, \"padding\": [0, 3]}}, {\"class\": \"ReLU\", \"kargs\": {\"inplace\": true}}, {\"class\": \"BatchNorm2d\", \"kargs\": {\"num_features\": 256}}, {\"class\": \"Conv2d\", \"kargs\": {\"in_channels\": 256, \"out_channels\": 80, \"kernel_size\": [2, 7], \"bias\": true, \"padding\": [0, 3]}}, {\"class\": \"ReLU\", \"kargs\": {\"inplace\": true}}, {\"class\": \"BatchNorm2d\", \"kargs\": {\"num_features\": 80}}, {\"class\": \"Flatten\", \"kargs\": {}}, {\"class\": \"Linear\", \"kargs\": {\"in_features\": 20480, \"out_features\": 256}}, {\"class\": \"ReLU\", \"kargs\": {\"inplace\": true}}, {\"class\": \"BatchNorm1d\", \"kargs\": {\"num_features\": 256}}, {\"class\": \"Linear\", \"kargs\": {\"in_features\": 256, \"out_features\": 256}}], \"NUM_LOGS_PER_EPOCH\": 10, \"BEST_MODEL_PATH\": \"./best_model.pth\", \"pickle_name\": \"oracle.Run2_10kExamples_stratified_ds.2022A.pkl\", \"lr\": 0.0001, \"domains_source\": [8, 32, 50], \"domains_target\": [14, 20, 26, 38, 44]}, \"results\": {\"source_test_label_accuracy\": 0.7675347222222222, \"source_test_label_loss\": 0.6302974224090576, \"target_test_label_accuracy\": 0.6170833333333333, \"target_test_label_loss\": 1.1845132112503052, \"source_val_label_accuracy\": 0.7651041666666667, \"source_val_label_loss\": 0.6244462728500366, \"target_val_label_accuracy\": 0.6166666666666667, \"target_val_label_loss\": 1.1243059635162354, \"total_epochs_trained\": 12, \"total_experiment_time_secs\": 680.3532817363739, \"confusion\": {\"8\": {\"15\": {\"15\": 107, \"12\": 8, \"2\": 5}, \"3\": {\"3\": 120}, \"6\": {\"8\": 25, \"6\": 68, \"14\": 23, \"11\": 1, \"1\": 2, \"7\": 1}, \"1\": {\"7\": 8, \"1\": 57, \"10\": 10, \"5\": 9, \"4\": 24, \"6\": 2, \"13\": 4, \"14\": 6}, \"8\": {\"8\": 70, \"6\": 29, \"11\": 18, \"14\": 1, \"4\": 2}, \"10\": {\"10\": 61, \"5\": 37, \"13\": 20, \"4\": 1, \"7\": 1}, \"9\": {\"9\": 120}, \"13\": {\"10\": 33, \"13\": 77, \"7\": 7, \"5\": 2, \"4\": 1}, \"12\": {\"12\": 105, \"15\": 11, \"2\": 4}, \"5\": {\"10\": 32, \"4\": 3, \"13\": 6, \"5\": 64, \"1\": 15}, \"0\": {\"0\": 120}, \"2\": {\"2\": 112, \"12\": 4, \"15\": 4}, \"11\": {\"8\": 38, \"11\": 48, \"7\": 15, \"13\": 2, \"6\": 8, \"4\": 6, \"12\": 3}, \"14\": {\"1\": 6, \"14\": 84, \"6\": 28, \"8\": 2}, \"7\": {\"4\": 27, \"7\": 72, \"1\": 13, \"13\": 3, \"5\": 1, \"10\": 2, \"11\": 2}, \"4\": {\"4\": 59, \"14\": 4, \"6\": 2, \"7\": 23, \"1\": 23, \"8\": 4, \"11\": 3, \"5\": 2}}, \"50\": {\"3\": {\"3\": 120}, \"15\": {\"15\": 90, \"6\": 14, \"4\": 1, \"9\": 7, \"5\": 1, \"12\": 7}, \"8\": {\"8\": 120}, \"4\": {\"4\": 85, \"5\": 23, \"7\": 5, \"15\": 5, \"6\": 2}, \"14\": {\"14\": 119, \"2\": 1}, \"0\": {\"0\": 97, \"10\": 10, \"2\": 13}, \"7\": {\"4\": 17, \"7\": 100, \"5\": 3}, \"6\": {\"6\": 91, \"5\": 18, \"15\": 7, \"4\": 1, \"12\": 3}, \"10\": {\"10\": 114, \"0\": 6}, \"5\": {\"4\": 30, \"5\": 67, \"7\": 12, \"6\": 10, \"15\": 1}, \"2\": {\"0\": 10, \"2\": 109, \"14\": 1}, \"12\": {\"12\": 96, \"15\": 5, \"11\": 10, \"6\": 4, \"9\": 5}, \"9\": {\"9\": 98, \"12\": 4, \"15\": 18}, \"1\": {\"1\": 111, \"13\": 5, \"11\": 3, \"12\": 1}, \"11\": {\"11\": 103, \"12\": 16, \"1\": 1}, \"13\": {\"13\": 114, \"1\": 5, \"8\": 1}}, \"32\": {\"5\": {\"5\": 100, \"14\": 5, \"15\": 7, \"7\": 5, \"2\": 2, \"0\": 1}, \"8\": {\"8\": 76, \"7\": 29, \"0\": 11, \"15\": 3, \"2\": 1}, \"11\": {\"13\": 33, \"11\": 44, \"0\": 3, \"4\": 35, \"8\": 2, \"3\": 2, \"9\": 1}, \"1\": {\"1\": 120}, \"10\": {\"10\": 120}, \"15\": {\"15\": 105, \"5\": 10, \"7\": 3, \"0\": 1, \"8\": 1}, \"3\": {\"3\": 114, \"4\": 2, \"11\": 1, \"13\": 3}, \"7\": {\"8\": 28, \"0\": 18, \"7\": 48, \"2\": 20, \"14\": 4, \"4\": 1, \"5\": 1}, \"4\": {\"4\": 80, \"11\": 35, \"0\": 3, \"3\": 2}, \"14\": {\"14\": 57, \"2\": 54, \"0\": 3, \"7\": 5, \"8\": 1}, \"9\": {\"9\": 119, \"12\": 1}, \"12\": {\"12\": 118, \"10\": 2}, \"6\": {\"6\": 120}, \"2\": {\"2\": 59, \"14\": 34, \"7\": 10, \"0\": 13, \"8\": 2, \"5\": 2}, \"0\": {\"4\": 5, \"7\": 26, \"0\": 63, \"2\": 14, \"8\": 6, \"11\": 1, \"14\": 5}, \"13\": {\"11\": 15, \"13\": 86, \"3\": 14, \"4\": 5}}, \"14\": {\"15\": {\"15\": 120}, \"3\": {\"7\": 8, \"3\": 105, \"14\": 3, \"2\": 4}, \"6\": {\"6\": 86, \"13\": 25, \"7\": 6, \"3\": 3}, \"1\": {\"1\": 118, \"9\": 2}, \"8\": {\"10\": 25, \"8\": 81, \"9\": 2, \"0\": 11, \"12\": 1}, \"10\": {\"0\": 25, \"4\": 7, \"3\": 5, \"8\": 34, \"10\": 39, \"5\": 6, \"14\": 3, \"2\": 1}, \"9\": {\"9\": 114, \"0\": 3, \"12\": 3}, \"13\": {\"13\": 84, \"6\": 36}, \"12\": {\"12\": 33, \"9\": 21, \"8\": 22, \"15\": 23, \"3\": 9, \"10\": 4, \"4\": 1, \"11\": 4, \"5\": 1, \"1\": 1, \"6\": 1}, \"5\": {\"14\": 37, \"2\": 16, \"3\": 1, \"5\": 55, \"10\": 6, \"8\": 1, \"0\": 1, \"7\": 2, \"4\": 1}, \"0\": {\"0\": 68, \"4\": 12, \"10\": 17, \"8\": 19, \"9\": 3, \"5\": 1}, \"2\": {\"7\": 26, \"5\": 23, \"2\": 31, \"14\": 34, \"4\": 2, \"3\": 4}, \"11\": {\"11\": 120}, \"14\": {\"5\": 30, \"2\": 34, \"7\": 9, \"14\": 41, \"3\": 3, \"0\": 1, \"10\": 2}, \"7\": {\"3\": 4, \"7\": 92, \"6\": 5, \"14\": 4, \"2\": 11, \"13\": 3, \"5\": 1}, \"4\": {\"4\": 96, \"0\": 13, \"10\": 5, \"5\": 5, \"2\": 1}}, \"20\": {\"3\": {\"2\": 19, \"3\": 18, \"7\": 19, \"9\": 17, \"13\": 1, \"4\": 21, \"5\": 6, \"1\": 6, \"12\": 1, \"15\": 8, \"6\": 3, \"14\": 1}, \"15\": {\"15\": 27, \"9\": 21, \"1\": 11, \"2\": 9, \"7\": 4, \"3\": 11, \"5\": 6, \"10\": 1, \"4\": 17, \"12\": 2, \"13\": 11}, \"8\": {\"8\": 47, \"11\": 30, \"14\": 34, \"0\": 8, \"5\": 1}, \"4\": {\"7\": 21, \"12\": 2, \"3\": 11, \"9\": 10, \"4\": 21, \"5\": 3, \"2\": 14, \"15\": 30, \"1\": 1, \"6\": 2, \"10\": 2, \"13\": 3}, \"14\": {\"8\": 41, \"14\": 61, \"11\": 11, \"1\": 2, \"5\": 3, \"0\": 1, \"2\": 1}, \"0\": {\"0\": 95, \"11\": 18, \"5\": 2, \"8\": 5}, \"7\": {\"15\": 5, \"4\": 20, \"7\": 48, \"14\": 1, \"3\": 12, \"10\": 9, \"6\": 13, \"2\": 3, \"12\": 2, \"9\": 2, \"5\": 4, \"13\": 1}, \"6\": {\"6\": 94, \"7\": 10, \"4\": 1, \"10\": 14, \"3\": 1}, \"10\": {\"6\": 24, \"10\": 71, \"7\": 9, \"12\": 7, \"13\": 3, \"4\": 4, \"3\": 1, \"15\": 1}, \"5\": {\"2\": 25, \"1\": 16, \"9\": 12, \"4\": 10, \"3\": 9, \"5\": 31, \"7\": 3, \"15\": 10, \"11\": 1, \"14\": 2, \"13\": 1}, \"2\": {\"1\": 11, \"9\": 15, \"2\": 22, \"5\": 25, \"3\": 15, \"7\": 7, \"15\": 20, \"4\": 5}, \"12\": {\"12\": 45, \"13\": 64, \"7\": 3, \"10\": 4, \"4\": 2, \"3\": 1, \"15\": 1}, \"9\": {\"15\": 29, \"4\": 14, \"2\": 25, \"9\": 15, \"3\": 13, \"7\": 4, \"5\": 12, \"1\": 5, \"12\": 1, \"13\": 2}, \"1\": {\"1\": 75, \"0\": 6, \"9\": 7, \"5\": 20, \"2\": 10, \"14\": 1, \"8\": 1}, \"11\": {\"11\": 55, \"8\": 35, \"0\": 21, \"14\": 9}, \"13\": {\"13\": 64, \"7\": 1, \"3\": 3, \"12\": 39, \"15\": 5, \"9\": 1, \"4\": 3, \"10\": 4}}, \"44\": {\"5\": {\"5\": 81, \"15\": 19, \"8\": 8, \"14\": 10, \"0\": 1, \"4\": 1}, \"8\": {\"8\": 82, \"5\": 9, \"0\": 23, \"15\": 6}, \"11\": {\"11\": 120}, \"1\": {\"1\": 99, \"2\": 18, \"12\": 1, \"3\": 2}, \"10\": {\"10\": 112, \"9\": 1, \"6\": 4, \"7\": 3}, \"15\": {\"15\": 79, \"4\": 2, \"5\": 24, \"0\": 6, \"8\": 7, \"14\": 2}, \"3\": {\"3\": 99, \"2\": 1, \"12\": 18, \"1\": 2}, \"7\": {\"7\": 68, \"9\": 48, \"6\": 4}, \"4\": {\"14\": 26, \"4\": 92, \"7\": 1, \"9\": 1}, \"14\": {\"14\": 93, \"4\": 17, \"5\": 10}, \"9\": {\"9\": 74, \"7\": 39, \"6\": 6, \"4\": 1}, \"12\": {\"12\": 98, \"3\": 22}, \"6\": {\"6\": 103, \"7\": 3, \"13\": 12, \"10\": 1, \"9\": 1}, \"2\": {\"2\": 91, \"1\": 29}, \"0\": {\"0\": 87, \"8\": 26, \"5\": 3, \"15\": 4}, \"13\": {\"13\": 114, \"4\": 3, \"6\": 3}}, \"38\": {\"14\": {\"2\": 38, \"14\": 58, \"7\": 13, \"13\": 3, \"5\": 3, \"8\": 4, \"12\": 1}, \"0\": {\"0\": 97, \"7\": 22, \"4\": 1}, \"13\": {\"3\": 21, \"10\": 20, \"13\": 76, \"4\": 3}, \"7\": {\"7\": 98, \"0\": 13, \"8\": 5, \"14\": 4}, \"9\": {\"9\": 98, \"12\": 8, \"5\": 11, \"8\": 3}, \"3\": {\"13\": 32, \"3\": 45, \"10\": 26, \"4\": 15, \"11\": 2}, \"11\": {\"11\": 120}, \"6\": {\"6\": 101, \"15\": 17, \"1\": 2}, \"8\": {\"8\": 100, \"5\": 12, \"14\": 2, \"9\": 4, \"12\": 2}, \"4\": {\"4\": 86, \"10\": 23, \"3\": 6, \"7\": 3, \"0\": 1, \"13\": 1}, \"5\": {\"12\": 40, \"7\": 1, \"8\": 37, \"5\": 31, \"9\": 10, \"14\": 1}, \"10\": {\"4\": 26, \"10\": 58, \"3\": 26, \"13\": 10}, \"1\": {\"1\": 97, \"15\": 22, \"6\": 1}, \"2\": {\"2\": 113, \"14\": 6, \"12\": 1}, \"15\": {\"6\": 28, \"15\": 62, \"1\": 27, \"9\": 1, \"12\": 1, \"5\": 1}, \"12\": {\"12\": 60, \"5\": 44, \"8\": 5, \"9\": 10, \"2\": 1}}, \"26\": {\"13\": {\"13\": 77, \"7\": 21, \"9\": 15, \"3\": 5, \"8\": 1, \"2\": 1}, \"2\": {\"2\": 45, \"8\": 26, \"7\": 18, \"3\": 2, \"9\": 19, \"10\": 2, \"15\": 8}, \"8\": {\"8\": 36, \"2\": 31, \"9\": 28, \"0\": 2, \"15\": 10, \"10\": 5, \"7\": 5, \"13\": 2, \"3\": 1}, \"9\": {\"2\": 16, \"8\": 31, \"9\": 47, \"13\": 17, \"7\": 6, \"15\": 1, \"10\": 1, \"12\": 1}, \"12\": {\"12\": 119, \"9\": 1}, \"4\": {\"4\": 117, \"3\": 3}, \"3\": {\"3\": 78, \"7\": 36, \"13\": 3, \"9\": 1, \"4\": 1, \"2\": 1}, \"15\": {\"15\": 61, \"0\": 34, \"8\": 7, \"14\": 3, \"2\": 8, \"10\": 6, \"9\": 1}, \"14\": {\"10\": 22, \"14\": 45, \"15\": 3, \"1\": 11, \"6\": 10, \"0\": 22, \"5\": 7}, \"10\": {\"15\": 15, \"10\": 24, \"14\": 21, \"1\": 6, \"0\": 24, \"9\": 6, \"6\": 6, \"2\": 5, \"5\": 6, \"8\": 6, \"12\": 1}, \"7\": {\"2\": 5, \"7\": 56, \"3\": 36, \"9\": 8, \"13\": 12, \"8\": 3}, \"11\": {\"11\": 120}, \"6\": {\"5\": 35, \"6\": 64, \"1\": 14, \"14\": 6, \"10\": 1}, \"1\": {\"1\": 97, \"14\": 5, \"5\": 14, \"6\": 4}, \"5\": {\"14\": 8, \"5\": 32, \"1\": 24, \"6\": 49, \"10\": 6, \"0\": 1}, \"0\": {\"15\": 32, \"14\": 17, \"0\": 38, \"10\": 26, \"8\": 2, \"9\": 1, \"2\": 3, \"5\": 1}}}, \"per_domain_accuracy\": {\"8\": {\"accuracy\": 0.7, \"source?\": true}, \"50\": {\"accuracy\": 0.8510416666666667, \"source?\": true}, \"32\": {\"accuracy\": 0.7442708333333333, \"source?\": true}, \"14\": {\"accuracy\": 0.6682291666666667, \"source?\": false}, \"20\": {\"accuracy\": 0.4109375, \"source?\": false}, \"44\": {\"accuracy\": 0.7770833333333333, \"source?\": false}, \"38\": {\"accuracy\": 0.6770833333333334, \"source?\": false}, \"26\": {\"accuracy\": 0.55, \"source?\": false}}}, \"history\": {\"epoch_indices\": [1, 2, 3, 4, 5, 6, 7, 8, 9, 10, 11, 12], \"train_label_loss\": [1.2882721950610478, 1.276603577250526, 1.2270071845679056, 1.182983892162641, 0.8771440518753869, 0.6848003720953351, 0.5838893169448489, 0.5247381347985495, 0.46930871118037476, 0.43163674461344875, 0.40816245348680585, 0.3739101578082357], \"source_val_label_loss\": [1.5282498598098755, 1.2793688774108887, 1.2594257593154907, 1.1857792139053345, 0.8066397905349731, 0.7182841897010803, 0.6270105838775635, 0.6244462728500366, 0.5973432064056396, 0.5953130125999451, 0.5790397524833679, 0.6011976599693298], \"target_val_label_loss\": [1.7266491651535034, 1.6281445026397705, 1.5842041969299316, 1.5713809728622437, 1.3226886987686157, 1.2373244762420654, 1.1869486570358276, 1.1243059635162354, 1.1434190273284912, 1.1394673585891724, 1.1547881364822388, 1.1776584386825562], \"source_val_acc_label\": [0.4713541666666667, 0.4786458333333333, 0.48506944444444444, 0.5392361111111111, 0.6994791666666667, 0.7279513888888889, 0.759375, 0.7651041666666667, 0.7793402777777778, 0.7760416666666666, 0.7840277777777778, 0.7784722222222222], \"target_val_acc_label\": [0.37927083333333333, 0.3807291666666667, 0.38989583333333333, 0.41572916666666665, 0.5383333333333333, 0.5744791666666667, 0.5970833333333333, 0.6166666666666667, 0.6304166666666666, 0.6227083333333333, 0.6369791666666667, 0.6247916666666666]}, \"dataset_metrics\": {\"source\": {\"train\": {\"n_unique_x\": 33600, \"n_unique_y\": 16, \"n_batch/episode\": 420}, \"val\": {\"n_unique_x\": 7200, \"n_unique_y\": 16, \"n_batch/episode\": 180}, \"test\": {\"n_unique_x\": 7200, \"n_unique_y\": 16, \"n_batch/episode\": 180}}, \"target\": {\"train\": {\"n_unique_x\": 56000, \"n_unique_y\": 16, \"n_batch/episode\": 700}, \"val\": {\"n_unique_x\": 12000, \"n_unique_y\": 16, \"n_batch/episode\": 300}, \"test\": {\"n_unique_x\": 12000, \"n_unique_y\": 16, \"n_batch/episode\": 300}}}}'"
      ]
     },
     "execution_count": 20,
     "metadata": {},
     "output_type": "execute_result"
    }
   ],
   "source": [
    "json.dumps(experiment)"
   ]
  }
 ],
 "metadata": {
  "celltoolbar": "Tags",
  "kernelspec": {
   "display_name": "Python 3 (ipykernel)",
   "language": "python",
   "name": "python3"
  },
  "language_info": {
   "codemirror_mode": {
    "name": "ipython",
    "version": 3
   },
   "file_extension": ".py",
   "mimetype": "text/x-python",
   "name": "python",
   "nbconvert_exporter": "python",
   "pygments_lexer": "ipython3",
   "version": "3.8.10"
  },
  "papermill": {
   "default_parameters": {},
   "duration": 776.197231,
   "end_time": "2022-03-04T05:21:50.434825",
   "environment_variables": {},
   "exception": null,
   "input_path": "/mnt/wd500GB/CSC500/csc500-main/csc500-notebooks/templates/ptn_template.ipynb",
   "output_path": "trial.ipynb",
   "parameters": {
    "parameters": {
     "BEST_MODEL_PATH": "./best_model.pth",
     "NUM_LOGS_PER_EPOCH": 10,
     "criteria_for_best": "target_loss",
     "dataset_seed": 1337,
     "device": "cuda",
     "domains_source": [
      8,
      32,
      50
     ],
     "domains_target": [
      14,
      20,
      26,
      38,
      44
     ],
     "episode_transforms_source": [],
     "episode_transforms_target": [],
     "experiment_name": "learningRate_oracle.run2",
     "labels_source": [
      "3123D52",
      "3123D65",
      "3123D79",
      "3123D80",
      "3123D54",
      "3123D70",
      "3123D7B",
      "3123D89",
      "3123D58",
      "3123D76",
      "3123D7D",
      "3123EFE",
      "3123D64",
      "3123D78",
      "3123D7E",
      "3124E4A"
     ],
     "labels_target": [
      "3123D52",
      "3123D65",
      "3123D79",
      "3123D80",
      "3123D54",
      "3123D70",
      "3123D7B",
      "3123D89",
      "3123D58",
      "3123D76",
      "3123D7D",
      "3123EFE",
      "3123D64",
      "3123D78",
      "3123D7E",
      "3124E4A"
     ],
     "lr": 0.0001,
     "n_epoch": 50,
     "n_query": 2,
     "n_shot": 3,
     "n_way": 16,
     "num_examples_per_domain_per_label_source": 1000,
     "num_examples_per_domain_per_label_target": 1000,
     "patience": 3,
     "pickle_name": "oracle.Run2_10kExamples_stratified_ds.2022A.pkl",
     "seed": 1337,
     "test_k_factor": 2,
     "torch_default_dtype": "torch.float32",
     "train_k_factor": 1,
     "val_k_factor": 2,
     "x_net": [
      {
       "class": "nnReshape",
       "kargs": {
        "shape": [
         -1,
         1,
         2,
         256
        ]
       }
      },
      {
       "class": "Conv2d",
       "kargs": {
        "bias": false,
        "in_channels": 1,
        "kernel_size": [
         1,
         7
        ],
        "out_channels": 256,
        "padding": [
         0,
         3
        ]
       }
      },
      {
       "class": "ReLU",
       "kargs": {
        "inplace": true
       }
      },
      {
       "class": "BatchNorm2d",
       "kargs": {
        "num_features": 256
       }
      },
      {
       "class": "Conv2d",
       "kargs": {
        "bias": true,
        "in_channels": 256,
        "kernel_size": [
         2,
         7
        ],
        "out_channels": 80,
        "padding": [
         0,
         3
        ]
       }
      },
      {
       "class": "ReLU",
       "kargs": {
        "inplace": true
       }
      },
      {
       "class": "BatchNorm2d",
       "kargs": {
        "num_features": 80
       }
      },
      {
       "class": "Flatten",
       "kargs": {}
      },
      {
       "class": "Linear",
       "kargs": {
        "in_features": 20480,
        "out_features": 256
       }
      },
      {
       "class": "ReLU",
       "kargs": {
        "inplace": true
       }
      },
      {
       "class": "BatchNorm1d",
       "kargs": {
        "num_features": 256
       }
      },
      {
       "class": "Linear",
       "kargs": {
        "in_features": 256,
        "out_features": 256
       }
      }
     ],
     "x_transforms_source": [],
     "x_transforms_target": []
    }
   },
   "start_time": "2022-03-04T05:08:54.237594",
   "version": "2.3.4"
  }
 },
 "nbformat": 4,
 "nbformat_minor": 5
}