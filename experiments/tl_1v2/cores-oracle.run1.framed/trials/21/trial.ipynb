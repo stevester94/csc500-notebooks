{
 "cells": [
  {
   "cell_type": "markdown",
   "id": "9fea5f46",
   "metadata": {
    "papermill": {
     "duration": 0.035054,
     "end_time": "2022-03-21T14:46:47.394189",
     "exception": false,
     "start_time": "2022-03-21T14:46:47.359135",
     "status": "completed"
    },
    "tags": []
   },
   "source": [
    "# Transfer Learning Template"
   ]
  },
  {
   "cell_type": "code",
   "execution_count": 1,
   "id": "0902182a",
   "metadata": {
    "execution": {
     "iopub.execute_input": "2022-03-21T14:46:47.462160Z",
     "iopub.status.busy": "2022-03-21T14:46:47.459235Z",
     "iopub.status.idle": "2022-03-21T14:46:49.424023Z",
     "shell.execute_reply": "2022-03-21T14:46:49.423169Z"
    },
    "papermill": {
     "duration": 2.002811,
     "end_time": "2022-03-21T14:46:49.424221",
     "exception": false,
     "start_time": "2022-03-21T14:46:47.421410",
     "status": "completed"
    },
    "tags": []
   },
   "outputs": [],
   "source": [
    "%load_ext autoreload\n",
    "%autoreload 2\n",
    "%matplotlib inline\n",
    "\n",
    "    \n",
    "import os, json, sys, time, random\n",
    "import numpy as np\n",
    "import torch\n",
    "from torch.optim import Adam\n",
    "from  easydict import EasyDict\n",
    "import matplotlib.pyplot as plt\n",
    "\n",
    "from steves_models.steves_ptn import Steves_Prototypical_Network\n",
    "\n",
    "from steves_utils.lazy_iterable_wrapper import Lazy_Iterable_Wrapper\n",
    "from steves_utils.iterable_aggregator import Iterable_Aggregator\n",
    "from steves_utils.ptn_train_eval_test_jig import  PTN_Train_Eval_Test_Jig\n",
    "from steves_utils.torch_sequential_builder import build_sequential\n",
    "from steves_utils.torch_utils import get_dataset_metrics, ptn_confusion_by_domain_over_dataloader\n",
    "from steves_utils.utils_v2 import (per_domain_accuracy_from_confusion, get_datasets_base_path)\n",
    "from steves_utils.PTN.utils import independent_accuracy_assesment\n",
    "\n",
    "from torch.utils.data import DataLoader\n",
    "\n",
    "from steves_utils.stratified_dataset.episodic_accessor import Episodic_Accessor_Factory\n",
    "\n",
    "from steves_utils.ptn_do_report import (\n",
    "    get_loss_curve,\n",
    "    get_results_table,\n",
    "    get_parameters_table,\n",
    "    get_domain_accuracies,\n",
    ")\n",
    "\n",
    "from steves_utils.transforms import get_chained_transform"
   ]
  },
  {
   "cell_type": "markdown",
   "id": "41c840b4",
   "metadata": {
    "papermill": {
     "duration": 0.019262,
     "end_time": "2022-03-21T14:46:49.467906",
     "exception": false,
     "start_time": "2022-03-21T14:46:49.448644",
     "status": "completed"
    },
    "tags": []
   },
   "source": [
    "# Allowed Parameters\n",
    "These are allowed parameters, not defaults\n",
    "Each of these values need to be present in the injected parameters (the notebook will raise an exception if they are not present)\n",
    "\n",
    "Papermill uses the cell tag \"parameters\" to inject the real parameters below this cell.\n",
    "Enable tags to see what I mean"
   ]
  },
  {
   "cell_type": "code",
   "execution_count": 2,
   "id": "fd44eb83",
   "metadata": {
    "execution": {
     "iopub.execute_input": "2022-03-21T14:46:49.534286Z",
     "iopub.status.busy": "2022-03-21T14:46:49.533641Z",
     "iopub.status.idle": "2022-03-21T14:46:49.555570Z",
     "shell.execute_reply": "2022-03-21T14:46:49.556229Z"
    },
    "papermill": {
     "duration": 0.069228,
     "end_time": "2022-03-21T14:46:49.556425",
     "exception": false,
     "start_time": "2022-03-21T14:46:49.487197",
     "status": "completed"
    },
    "tags": []
   },
   "outputs": [],
   "source": [
    "required_parameters = {\n",
    "    \"experiment_name\",\n",
    "    \"lr\",\n",
    "    \"device\",\n",
    "    \"seed\",\n",
    "    \"dataset_seed\",\n",
    "    \"n_shot\",\n",
    "    \"n_query\",\n",
    "    \"n_way\",\n",
    "    \"train_k_factor\",\n",
    "    \"val_k_factor\",\n",
    "    \"test_k_factor\",\n",
    "    \"n_epoch\",\n",
    "    \"patience\",\n",
    "    \"criteria_for_best\",\n",
    "    \"x_net\",\n",
    "    \"datasets\",\n",
    "    \"torch_default_dtype\",\n",
    "    \"NUM_LOGS_PER_EPOCH\",\n",
    "    \"BEST_MODEL_PATH\",\n",
    "    \"x_shape\",\n",
    "}"
   ]
  },
  {
   "cell_type": "code",
   "execution_count": 3,
   "id": "fa3f0049",
   "metadata": {
    "execution": {
     "iopub.execute_input": "2022-03-21T14:46:49.680200Z",
     "iopub.status.busy": "2022-03-21T14:46:49.671526Z",
     "iopub.status.idle": "2022-03-21T14:46:49.703353Z",
     "shell.execute_reply": "2022-03-21T14:46:49.702652Z"
    },
    "papermill": {
     "duration": 0.059717,
     "end_time": "2022-03-21T14:46:49.703523",
     "exception": false,
     "start_time": "2022-03-21T14:46:49.643806",
     "status": "completed"
    },
    "tags": [
     "parameters"
    ]
   },
   "outputs": [],
   "source": [
    "from steves_utils.CORES.utils import (\n",
    "    ALL_NODES,\n",
    "    ALL_NODES_MINIMUM_1000_EXAMPLES,\n",
    "    ALL_DAYS\n",
    ")\n",
    "\n",
    "from steves_utils.ORACLE.utils_v2 import (\n",
    "    ALL_DISTANCES_FEET_NARROWED,\n",
    "    ALL_RUNS,\n",
    "    ALL_SERIAL_NUMBERS,\n",
    ")\n",
    "\n",
    "standalone_parameters = {}\n",
    "standalone_parameters[\"experiment_name\"] = \"STANDALONE PTN\"\n",
    "standalone_parameters[\"lr\"] = 0.001\n",
    "standalone_parameters[\"device\"] = \"cuda\"\n",
    "\n",
    "standalone_parameters[\"seed\"] = 1337\n",
    "standalone_parameters[\"dataset_seed\"] = 1337\n",
    "\n",
    "standalone_parameters[\"n_way\"] = 8\n",
    "standalone_parameters[\"n_shot\"] = 3\n",
    "standalone_parameters[\"n_query\"]  = 2\n",
    "standalone_parameters[\"train_k_factor\"] = 1\n",
    "standalone_parameters[\"val_k_factor\"] = 2\n",
    "standalone_parameters[\"test_k_factor\"] = 2\n",
    "\n",
    "\n",
    "standalone_parameters[\"n_epoch\"] = 50\n",
    "\n",
    "standalone_parameters[\"patience\"] = 10\n",
    "standalone_parameters[\"criteria_for_best\"] = \"source_loss\"\n",
    "\n",
    "standalone_parameters[\"datasets\"] = [\n",
    "    {\n",
    "        \"labels\": ALL_SERIAL_NUMBERS,\n",
    "        \"domains\": ALL_DISTANCES_FEET_NARROWED,\n",
    "        \"num_examples_per_domain_per_label\": 100,\n",
    "        \"pickle_path\": os.path.join(get_datasets_base_path(), \"oracle.Run1_framed_2000Examples_stratified_ds.2022A.pkl\"),\n",
    "        \"source_or_target_dataset\": \"source\",\n",
    "        \"x_transforms\": [\"unit_mag\", \"minus_two\"],\n",
    "        \"episode_transforms\": [],\n",
    "        \"domain_prefix\": \"ORACLE_\"\n",
    "    },\n",
    "    {\n",
    "        \"labels\": ALL_NODES,\n",
    "        \"domains\": ALL_DAYS,\n",
    "        \"num_examples_per_domain_per_label\": 100,\n",
    "        \"pickle_path\": os.path.join(get_datasets_base_path(), \"cores.stratified_ds.2022A.pkl\"),\n",
    "        \"source_or_target_dataset\": \"target\",\n",
    "        \"x_transforms\": [\"unit_power\", \"times_zero\"],\n",
    "        \"episode_transforms\": [],\n",
    "        \"domain_prefix\": \"CORES_\"\n",
    "    }   \n",
    "]\n",
    "\n",
    "standalone_parameters[\"torch_default_dtype\"] = \"torch.float32\" \n",
    "\n",
    "\n",
    "\n",
    "standalone_parameters[\"x_net\"] =     [\n",
    "    {\"class\": \"nnReshape\", \"kargs\": {\"shape\":[-1, 1, 2, 256]}},\n",
    "    {\"class\": \"Conv2d\", \"kargs\": { \"in_channels\":1, \"out_channels\":256, \"kernel_size\":(1,7), \"bias\":False, \"padding\":(0,3), },},\n",
    "    {\"class\": \"ReLU\", \"kargs\": {\"inplace\": True}},\n",
    "    {\"class\": \"BatchNorm2d\", \"kargs\": {\"num_features\":256}},\n",
    "\n",
    "    {\"class\": \"Conv2d\", \"kargs\": { \"in_channels\":256, \"out_channels\":80, \"kernel_size\":(2,7), \"bias\":True, \"padding\":(0,3), },},\n",
    "    {\"class\": \"ReLU\", \"kargs\": {\"inplace\": True}},\n",
    "    {\"class\": \"BatchNorm2d\", \"kargs\": {\"num_features\":80}},\n",
    "    {\"class\": \"Flatten\", \"kargs\": {}},\n",
    "\n",
    "    {\"class\": \"Linear\", \"kargs\": {\"in_features\": 80*256, \"out_features\": 256}}, # 80 units per IQ pair\n",
    "    {\"class\": \"ReLU\", \"kargs\": {\"inplace\": True}},\n",
    "    {\"class\": \"BatchNorm1d\", \"kargs\": {\"num_features\":256}},\n",
    "\n",
    "    {\"class\": \"Linear\", \"kargs\": {\"in_features\": 256, \"out_features\": 256}},\n",
    "]\n",
    "\n",
    "# Parameters relevant to results\n",
    "# These parameters will basically never need to change\n",
    "standalone_parameters[\"NUM_LOGS_PER_EPOCH\"] = 10\n",
    "standalone_parameters[\"BEST_MODEL_PATH\"] = \"./best_model.pth\"\n",
    "\n",
    "\n",
    "\n",
    "\n"
   ]
  },
  {
   "cell_type": "code",
   "execution_count": 4,
   "id": "a7ff7ff1",
   "metadata": {
    "execution": {
     "iopub.execute_input": "2022-03-21T14:46:49.763395Z",
     "iopub.status.busy": "2022-03-21T14:46:49.750102Z",
     "iopub.status.idle": "2022-03-21T14:46:49.783947Z",
     "shell.execute_reply": "2022-03-21T14:46:49.783226Z"
    },
    "papermill": {
     "duration": 0.056089,
     "end_time": "2022-03-21T14:46:49.784113",
     "exception": false,
     "start_time": "2022-03-21T14:46:49.728024",
     "status": "completed"
    },
    "tags": [
     "injected-parameters"
    ]
   },
   "outputs": [],
   "source": [
    "# Parameters\n",
    "parameters = {\n",
    "    \"experiment_name\": \"tl_1v2:cores-oracle.run1.framed\",\n",
    "    \"device\": \"cuda\",\n",
    "    \"lr\": 0.0001,\n",
    "    \"n_shot\": 3,\n",
    "    \"n_query\": 2,\n",
    "    \"train_k_factor\": 3,\n",
    "    \"val_k_factor\": 2,\n",
    "    \"test_k_factor\": 2,\n",
    "    \"torch_default_dtype\": \"torch.float32\",\n",
    "    \"n_epoch\": 50,\n",
    "    \"patience\": 3,\n",
    "    \"criteria_for_best\": \"target_accuracy\",\n",
    "    \"x_net\": [\n",
    "        {\"class\": \"nnReshape\", \"kargs\": {\"shape\": [-1, 1, 2, 256]}},\n",
    "        {\n",
    "            \"class\": \"Conv2d\",\n",
    "            \"kargs\": {\n",
    "                \"in_channels\": 1,\n",
    "                \"out_channels\": 256,\n",
    "                \"kernel_size\": [1, 7],\n",
    "                \"bias\": False,\n",
    "                \"padding\": [0, 3],\n",
    "            },\n",
    "        },\n",
    "        {\"class\": \"ReLU\", \"kargs\": {\"inplace\": True}},\n",
    "        {\"class\": \"BatchNorm2d\", \"kargs\": {\"num_features\": 256}},\n",
    "        {\n",
    "            \"class\": \"Conv2d\",\n",
    "            \"kargs\": {\n",
    "                \"in_channels\": 256,\n",
    "                \"out_channels\": 80,\n",
    "                \"kernel_size\": [2, 7],\n",
    "                \"bias\": True,\n",
    "                \"padding\": [0, 3],\n",
    "            },\n",
    "        },\n",
    "        {\"class\": \"ReLU\", \"kargs\": {\"inplace\": True}},\n",
    "        {\"class\": \"BatchNorm2d\", \"kargs\": {\"num_features\": 80}},\n",
    "        {\"class\": \"Flatten\", \"kargs\": {}},\n",
    "        {\"class\": \"Linear\", \"kargs\": {\"in_features\": 20480, \"out_features\": 256}},\n",
    "        {\"class\": \"ReLU\", \"kargs\": {\"inplace\": True}},\n",
    "        {\"class\": \"BatchNorm1d\", \"kargs\": {\"num_features\": 256}},\n",
    "        {\"class\": \"Linear\", \"kargs\": {\"in_features\": 256, \"out_features\": 256}},\n",
    "    ],\n",
    "    \"NUM_LOGS_PER_EPOCH\": 10,\n",
    "    \"BEST_MODEL_PATH\": \"./best_model.pth\",\n",
    "    \"n_way\": 16,\n",
    "    \"datasets\": [\n",
    "        {\n",
    "            \"labels\": [\n",
    "                \"1-10.\",\n",
    "                \"1-11.\",\n",
    "                \"1-15.\",\n",
    "                \"1-16.\",\n",
    "                \"1-17.\",\n",
    "                \"1-18.\",\n",
    "                \"1-19.\",\n",
    "                \"10-4.\",\n",
    "                \"10-7.\",\n",
    "                \"11-1.\",\n",
    "                \"11-14.\",\n",
    "                \"11-17.\",\n",
    "                \"11-20.\",\n",
    "                \"11-7.\",\n",
    "                \"13-20.\",\n",
    "                \"13-8.\",\n",
    "                \"14-10.\",\n",
    "                \"14-11.\",\n",
    "                \"14-14.\",\n",
    "                \"14-7.\",\n",
    "                \"15-1.\",\n",
    "                \"15-20.\",\n",
    "                \"16-1.\",\n",
    "                \"16-16.\",\n",
    "                \"17-10.\",\n",
    "                \"17-11.\",\n",
    "                \"17-2.\",\n",
    "                \"19-1.\",\n",
    "                \"19-16.\",\n",
    "                \"19-19.\",\n",
    "                \"19-20.\",\n",
    "                \"19-3.\",\n",
    "                \"2-10.\",\n",
    "                \"2-11.\",\n",
    "                \"2-17.\",\n",
    "                \"2-18.\",\n",
    "                \"2-20.\",\n",
    "                \"2-3.\",\n",
    "                \"2-4.\",\n",
    "                \"2-5.\",\n",
    "                \"2-6.\",\n",
    "                \"2-7.\",\n",
    "                \"2-8.\",\n",
    "                \"3-13.\",\n",
    "                \"3-18.\",\n",
    "                \"3-3.\",\n",
    "                \"4-1.\",\n",
    "                \"4-10.\",\n",
    "                \"4-11.\",\n",
    "                \"4-19.\",\n",
    "                \"5-5.\",\n",
    "                \"6-15.\",\n",
    "                \"7-10.\",\n",
    "                \"7-14.\",\n",
    "                \"8-18.\",\n",
    "                \"8-20.\",\n",
    "                \"8-3.\",\n",
    "                \"8-8.\",\n",
    "            ],\n",
    "            \"domains\": [1, 2, 3, 4, 5],\n",
    "            \"num_examples_per_domain_per_label\": -1,\n",
    "            \"pickle_path\": \"/root/csc500-main/datasets/cores.stratified_ds.2022A.pkl\",\n",
    "            \"source_or_target_dataset\": \"target\",\n",
    "            \"x_transforms\": [\"unit_power\"],\n",
    "            \"episode_transforms\": [],\n",
    "            \"domain_prefix\": \"CORES_\",\n",
    "        },\n",
    "        {\n",
    "            \"labels\": [\n",
    "                \"3123D52\",\n",
    "                \"3123D65\",\n",
    "                \"3123D79\",\n",
    "                \"3123D80\",\n",
    "                \"3123D54\",\n",
    "                \"3123D70\",\n",
    "                \"3123D7B\",\n",
    "                \"3123D89\",\n",
    "                \"3123D58\",\n",
    "                \"3123D76\",\n",
    "                \"3123D7D\",\n",
    "                \"3123EFE\",\n",
    "                \"3123D64\",\n",
    "                \"3123D78\",\n",
    "                \"3123D7E\",\n",
    "                \"3124E4A\",\n",
    "            ],\n",
    "            \"domains\": [32, 38, 8, 44, 14, 50, 20, 26],\n",
    "            \"num_examples_per_domain_per_label\": 2000,\n",
    "            \"pickle_path\": \"/root/csc500-main/datasets/oracle.Run1_framed_2000Examples_stratified_ds.2022A.pkl\",\n",
    "            \"source_or_target_dataset\": \"source\",\n",
    "            \"x_transforms\": [\"unit_power\"],\n",
    "            \"episode_transforms\": [],\n",
    "            \"domain_prefix\": \"ORACLE.run1_\",\n",
    "        },\n",
    "    ],\n",
    "    \"dataset_seed\": 7,\n",
    "    \"seed\": 7,\n",
    "}\n"
   ]
  },
  {
   "cell_type": "code",
   "execution_count": 5,
   "id": "8fa1cc33",
   "metadata": {
    "execution": {
     "iopub.execute_input": "2022-03-21T14:46:49.833061Z",
     "iopub.status.busy": "2022-03-21T14:46:49.832422Z",
     "iopub.status.idle": "2022-03-21T14:46:49.850899Z",
     "shell.execute_reply": "2022-03-21T14:46:49.850202Z"
    },
    "papermill": {
     "duration": 0.042134,
     "end_time": "2022-03-21T14:46:49.851061",
     "exception": false,
     "start_time": "2022-03-21T14:46:49.808927",
     "status": "completed"
    },
    "tags": []
   },
   "outputs": [],
   "source": [
    "# Set this to True if you want to run this template directly\n",
    "STANDALONE = False\n",
    "if STANDALONE:\n",
    "    print(\"parameters not injected, running with standalone_parameters\")\n",
    "    parameters = standalone_parameters\n",
    "\n",
    "if not 'parameters' in locals() and not 'parameters' in globals():\n",
    "    raise Exception(\"Parameter injection failed\")\n",
    "\n",
    "#Use an easy dict for all the parameters\n",
    "p = EasyDict(parameters)\n",
    "\n",
    "if \"x_shape\" not in p:\n",
    "    p.x_shape = [2,256] # Default to this if we dont supply x_shape\n",
    "\n",
    "\n",
    "supplied_keys = set(p.keys())\n",
    "\n",
    "if  supplied_keys != required_parameters:\n",
    "    print(\"Parameters are incorrect\")\n",
    "    if len(supplied_keys - required_parameters)>0: print(\"Shouldn't have:\", str(supplied_keys - required_parameters))\n",
    "    if len(required_parameters - supplied_keys)>0: print(\"Need to have:\", str(required_parameters - supplied_keys))\n",
    "    raise RuntimeError(\"Parameters are incorrect\")"
   ]
  },
  {
   "cell_type": "code",
   "execution_count": 6,
   "id": "3a028d58",
   "metadata": {
    "execution": {
     "iopub.execute_input": "2022-03-21T14:46:49.900818Z",
     "iopub.status.busy": "2022-03-21T14:46:49.900449Z",
     "iopub.status.idle": "2022-03-21T14:46:49.918109Z",
     "shell.execute_reply": "2022-03-21T14:46:49.917416Z"
    },
    "papermill": {
     "duration": 0.040118,
     "end_time": "2022-03-21T14:46:49.918267",
     "exception": false,
     "start_time": "2022-03-21T14:46:49.878149",
     "status": "completed"
    },
    "tags": []
   },
   "outputs": [],
   "source": [
    "###################################\n",
    "# Set the RNGs and make it all deterministic\n",
    "###################################\n",
    "np.random.seed(p.seed)\n",
    "random.seed(p.seed)\n",
    "torch.manual_seed(p.seed)\n",
    "\n",
    "torch.use_deterministic_algorithms(True) "
   ]
  },
  {
   "cell_type": "code",
   "execution_count": 7,
   "id": "b691acf6",
   "metadata": {
    "execution": {
     "iopub.execute_input": "2022-03-21T14:46:49.968130Z",
     "iopub.status.busy": "2022-03-21T14:46:49.967759Z",
     "iopub.status.idle": "2022-03-21T14:46:49.989835Z",
     "shell.execute_reply": "2022-03-21T14:46:49.989132Z"
    },
    "papermill": {
     "duration": 0.045313,
     "end_time": "2022-03-21T14:46:49.989997",
     "exception": false,
     "start_time": "2022-03-21T14:46:49.944684",
     "status": "completed"
    },
    "tags": []
   },
   "outputs": [],
   "source": [
    "###########################################\n",
    "# The stratified datasets honor this\n",
    "###########################################\n",
    "torch.set_default_dtype(eval(p.torch_default_dtype))"
   ]
  },
  {
   "cell_type": "code",
   "execution_count": 8,
   "id": "b5fba671",
   "metadata": {
    "execution": {
     "iopub.execute_input": "2022-03-21T14:46:50.037940Z",
     "iopub.status.busy": "2022-03-21T14:46:50.037564Z",
     "iopub.status.idle": "2022-03-21T14:46:50.089495Z",
     "shell.execute_reply": "2022-03-21T14:46:50.088778Z"
    },
    "papermill": {
     "duration": 0.073924,
     "end_time": "2022-03-21T14:46:50.089662",
     "exception": false,
     "start_time": "2022-03-21T14:46:50.015738",
     "status": "completed"
    },
    "tags": []
   },
   "outputs": [],
   "source": [
    "###################################\n",
    "# Build the network(s)\n",
    "# Note: It's critical to do this AFTER setting the RNG\n",
    "###################################\n",
    "x_net = build_sequential(p.x_net)"
   ]
  },
  {
   "cell_type": "code",
   "execution_count": 9,
   "id": "5d7e61cc",
   "metadata": {
    "execution": {
     "iopub.execute_input": "2022-03-21T14:46:50.141888Z",
     "iopub.status.busy": "2022-03-21T14:46:50.141516Z",
     "iopub.status.idle": "2022-03-21T14:46:50.166219Z",
     "shell.execute_reply": "2022-03-21T14:46:50.165523Z"
    },
    "papermill": {
     "duration": 0.048102,
     "end_time": "2022-03-21T14:46:50.166380",
     "exception": false,
     "start_time": "2022-03-21T14:46:50.118278",
     "status": "completed"
    },
    "tags": []
   },
   "outputs": [],
   "source": [
    "start_time_secs = time.time()"
   ]
  },
  {
   "cell_type": "code",
   "execution_count": 10,
   "id": "c6b67dfd",
   "metadata": {
    "execution": {
     "iopub.execute_input": "2022-03-21T14:46:50.216478Z",
     "iopub.status.busy": "2022-03-21T14:46:50.216100Z",
     "iopub.status.idle": "2022-03-21T14:46:50.236017Z",
     "shell.execute_reply": "2022-03-21T14:46:50.235301Z"
    },
    "papermill": {
     "duration": 0.043268,
     "end_time": "2022-03-21T14:46:50.236180",
     "exception": false,
     "start_time": "2022-03-21T14:46:50.192912",
     "status": "completed"
    },
    "tags": []
   },
   "outputs": [],
   "source": [
    "p.domains_source = []\n",
    "p.domains_target = []\n",
    "\n",
    "\n",
    "train_original_source = []\n",
    "val_original_source   = []\n",
    "test_original_source  = []\n",
    "\n",
    "train_original_target = []\n",
    "val_original_target   = []\n",
    "test_original_target  = []"
   ]
  },
  {
   "cell_type": "code",
   "execution_count": 11,
   "id": "e3d9c3d3",
   "metadata": {
    "execution": {
     "iopub.execute_input": "2022-03-21T14:46:50.290914Z",
     "iopub.status.busy": "2022-03-21T14:46:50.290543Z",
     "iopub.status.idle": "2022-03-21T14:46:50.307007Z",
     "shell.execute_reply": "2022-03-21T14:46:50.306314Z"
    },
    "papermill": {
     "duration": 0.03922,
     "end_time": "2022-03-21T14:46:50.307167",
     "exception": false,
     "start_time": "2022-03-21T14:46:50.267947",
     "status": "completed"
    },
    "tags": []
   },
   "outputs": [],
   "source": [
    "# global_x_transform_func = lambda x: normalize(x.to(torch.get_default_dtype()), \"unit_power\") # unit_power, unit_mag\n",
    "# global_x_transform_func = lambda x: normalize(x, \"unit_power\") # unit_power, unit_mag"
   ]
  },
  {
   "cell_type": "code",
   "execution_count": 12,
   "id": "acb78fd2",
   "metadata": {
    "execution": {
     "iopub.execute_input": "2022-03-21T14:46:50.362460Z",
     "iopub.status.busy": "2022-03-21T14:46:50.362068Z",
     "iopub.status.idle": "2022-03-21T14:46:50.382581Z",
     "shell.execute_reply": "2022-03-21T14:46:50.381772Z"
    },
    "papermill": {
     "duration": 0.04777,
     "end_time": "2022-03-21T14:46:50.382744",
     "exception": false,
     "start_time": "2022-03-21T14:46:50.334974",
     "status": "completed"
    },
    "tags": []
   },
   "outputs": [],
   "source": [
    "def add_dataset(\n",
    "    labels,\n",
    "    domains,\n",
    "    pickle_path,\n",
    "    x_transforms,\n",
    "    episode_transforms,\n",
    "    domain_prefix,\n",
    "    num_examples_per_domain_per_label,\n",
    "    source_or_target_dataset:str,\n",
    "    iterator_seed=p.seed,\n",
    "    dataset_seed=p.dataset_seed,\n",
    "    n_shot=p.n_shot,\n",
    "    n_way=p.n_way,\n",
    "    n_query=p.n_query,\n",
    "    train_val_test_k_factors=(p.train_k_factor,p.val_k_factor,p.test_k_factor),\n",
    "):\n",
    "   \n",
    "    if x_transforms == []: x_transform = None\n",
    "    else: x_transform = get_chained_transform(x_transforms)\n",
    "    \n",
    "    if episode_transforms == []: episode_transform = None\n",
    "    else: raise Exception(\"episode_transforms not implemented\")\n",
    "    \n",
    "    episode_transform = lambda tup, _prefix=domain_prefix: (_prefix + str(tup[0]), tup[1])\n",
    "\n",
    "\n",
    "    eaf = Episodic_Accessor_Factory(\n",
    "        labels=labels,\n",
    "        domains=domains,\n",
    "        num_examples_per_domain_per_label=num_examples_per_domain_per_label,\n",
    "        iterator_seed=iterator_seed,\n",
    "        dataset_seed=dataset_seed,\n",
    "        n_shot=n_shot,\n",
    "        n_way=n_way,\n",
    "        n_query=n_query,\n",
    "        train_val_test_k_factors=train_val_test_k_factors,\n",
    "        pickle_path=pickle_path,\n",
    "        x_transform_func=x_transform,\n",
    "    )\n",
    "\n",
    "    train, val, test = eaf.get_train(), eaf.get_val(), eaf.get_test()\n",
    "    train = Lazy_Iterable_Wrapper(train, episode_transform)\n",
    "    val = Lazy_Iterable_Wrapper(val, episode_transform)\n",
    "    test = Lazy_Iterable_Wrapper(test, episode_transform)\n",
    "\n",
    "    if source_or_target_dataset==\"source\":\n",
    "        train_original_source.append(train)\n",
    "        val_original_source.append(val)\n",
    "        test_original_source.append(test)\n",
    "\n",
    "        p.domains_source.extend(\n",
    "            [domain_prefix + str(u) for u in domains]\n",
    "        )\n",
    "    elif source_or_target_dataset==\"target\":\n",
    "        train_original_target.append(train)\n",
    "        val_original_target.append(val)\n",
    "        test_original_target.append(test)\n",
    "        p.domains_target.extend(\n",
    "            [domain_prefix + str(u) for u in domains]\n",
    "        )\n",
    "    else:\n",
    "        raise Exception(f\"invalid source_or_target_dataset: {source_or_target_dataset}\")\n",
    "    "
   ]
  },
  {
   "cell_type": "code",
   "execution_count": 13,
   "id": "fe266617",
   "metadata": {
    "execution": {
     "iopub.execute_input": "2022-03-21T14:46:50.436003Z",
     "iopub.status.busy": "2022-03-21T14:46:50.435628Z",
     "iopub.status.idle": "2022-03-21T14:47:32.664953Z",
     "shell.execute_reply": "2022-03-21T14:47:32.664180Z"
    },
    "papermill": {
     "duration": 42.253695,
     "end_time": "2022-03-21T14:47:32.665143",
     "exception": false,
     "start_time": "2022-03-21T14:46:50.411448",
     "status": "completed"
    },
    "tags": []
   },
   "outputs": [],
   "source": [
    "for ds in p.datasets:\n",
    "    add_dataset(**ds)"
   ]
  },
  {
   "cell_type": "code",
   "execution_count": 14,
   "id": "b90d65ac",
   "metadata": {
    "execution": {
     "iopub.execute_input": "2022-03-21T14:47:32.715265Z",
     "iopub.status.busy": "2022-03-21T14:47:32.714881Z",
     "iopub.status.idle": "2022-03-21T14:47:32.738379Z",
     "shell.execute_reply": "2022-03-21T14:47:32.737570Z"
    },
    "papermill": {
     "duration": 0.04809,
     "end_time": "2022-03-21T14:47:32.738555",
     "exception": false,
     "start_time": "2022-03-21T14:47:32.690465",
     "status": "completed"
    },
    "tags": []
   },
   "outputs": [],
   "source": [
    "# from steves_utils.CORES.utils import (\n",
    "#     ALL_NODES,\n",
    "#     ALL_NODES_MINIMUM_1000_EXAMPLES,\n",
    "#     ALL_DAYS\n",
    "# )\n",
    "\n",
    "# add_dataset(\n",
    "#     labels=ALL_NODES,\n",
    "#     domains = ALL_DAYS,\n",
    "#     num_examples_per_domain_per_label=100,\n",
    "#     pickle_path=os.path.join(get_datasets_base_path(), \"cores.stratified_ds.2022A.pkl\"),\n",
    "#     source_or_target_dataset=\"target\",\n",
    "#     x_transform_func=global_x_transform_func,\n",
    "#     domain_modifier=lambda u: f\"cores_{u}\"\n",
    "# )"
   ]
  },
  {
   "cell_type": "code",
   "execution_count": 15,
   "id": "76db484d",
   "metadata": {
    "execution": {
     "iopub.execute_input": "2022-03-21T14:47:32.796481Z",
     "iopub.status.busy": "2022-03-21T14:47:32.788654Z",
     "iopub.status.idle": "2022-03-21T14:47:32.808960Z",
     "shell.execute_reply": "2022-03-21T14:47:32.808139Z"
    },
    "papermill": {
     "duration": 0.044421,
     "end_time": "2022-03-21T14:47:32.809134",
     "exception": false,
     "start_time": "2022-03-21T14:47:32.764713",
     "status": "completed"
    },
    "tags": []
   },
   "outputs": [],
   "source": [
    "# from steves_utils.ORACLE.utils_v2 import (\n",
    "#     ALL_DISTANCES_FEET,\n",
    "#     ALL_RUNS,\n",
    "#     ALL_SERIAL_NUMBERS,\n",
    "# )\n",
    "\n",
    "\n",
    "# add_dataset(\n",
    "#     labels=ALL_SERIAL_NUMBERS,\n",
    "#     domains = list(set(ALL_DISTANCES_FEET) - {2,62}),\n",
    "#     num_examples_per_domain_per_label=100,\n",
    "#     pickle_path=os.path.join(get_datasets_base_path(), \"oracle.Run2_framed_2000Examples_stratified_ds.2022A.pkl\"),\n",
    "#     source_or_target_dataset=\"source\",\n",
    "#     x_transform_func=global_x_transform_func,\n",
    "#     domain_modifier=lambda u: f\"oracle1_{u}\"\n",
    "# )\n"
   ]
  },
  {
   "cell_type": "code",
   "execution_count": 16,
   "id": "97dea9d2",
   "metadata": {
    "execution": {
     "iopub.execute_input": "2022-03-21T14:47:32.863136Z",
     "iopub.status.busy": "2022-03-21T14:47:32.861796Z",
     "iopub.status.idle": "2022-03-21T14:47:32.881538Z",
     "shell.execute_reply": "2022-03-21T14:47:32.880687Z"
    },
    "papermill": {
     "duration": 0.045636,
     "end_time": "2022-03-21T14:47:32.881719",
     "exception": false,
     "start_time": "2022-03-21T14:47:32.836083",
     "status": "completed"
    },
    "tags": []
   },
   "outputs": [],
   "source": [
    "# from steves_utils.ORACLE.utils_v2 import (\n",
    "#     ALL_DISTANCES_FEET,\n",
    "#     ALL_RUNS,\n",
    "#     ALL_SERIAL_NUMBERS,\n",
    "# )\n",
    "\n",
    "\n",
    "# add_dataset(\n",
    "#     labels=ALL_SERIAL_NUMBERS,\n",
    "#     domains = list(set(ALL_DISTANCES_FEET) - {2,62,56}),\n",
    "#     num_examples_per_domain_per_label=100,\n",
    "#     pickle_path=os.path.join(get_datasets_base_path(), \"oracle.Run2_framed_2000Examples_stratified_ds.2022A.pkl\"),\n",
    "#     source_or_target_dataset=\"source\",\n",
    "#     x_transform_func=global_x_transform_func,\n",
    "#     domain_modifier=lambda u: f\"oracle2_{u}\"\n",
    "# )"
   ]
  },
  {
   "cell_type": "code",
   "execution_count": 17,
   "id": "6f289866",
   "metadata": {
    "execution": {
     "iopub.execute_input": "2022-03-21T14:47:32.932442Z",
     "iopub.status.busy": "2022-03-21T14:47:32.931900Z",
     "iopub.status.idle": "2022-03-21T14:47:32.948649Z",
     "shell.execute_reply": "2022-03-21T14:47:32.947831Z"
    },
    "papermill": {
     "duration": 0.040116,
     "end_time": "2022-03-21T14:47:32.948822",
     "exception": false,
     "start_time": "2022-03-21T14:47:32.908706",
     "status": "completed"
    },
    "tags": []
   },
   "outputs": [],
   "source": [
    "# add_dataset(\n",
    "#     labels=list(range(19)),\n",
    "#     domains = [0,1,2],\n",
    "#     num_examples_per_domain_per_label=100,\n",
    "#     pickle_path=os.path.join(get_datasets_base_path(), \"metehan.stratified_ds.2022A.pkl\"),\n",
    "#     source_or_target_dataset=\"target\",\n",
    "#     x_transform_func=global_x_transform_func,\n",
    "#     domain_modifier=lambda u: f\"met_{u}\"\n",
    "# )"
   ]
  },
  {
   "cell_type": "code",
   "execution_count": 18,
   "id": "86a863c3",
   "metadata": {
    "execution": {
     "iopub.execute_input": "2022-03-21T14:47:33.009026Z",
     "iopub.status.busy": "2022-03-21T14:47:33.002602Z",
     "iopub.status.idle": "2022-03-21T14:47:33.020773Z",
     "shell.execute_reply": "2022-03-21T14:47:33.019937Z"
    },
    "papermill": {
     "duration": 0.044503,
     "end_time": "2022-03-21T14:47:33.020951",
     "exception": false,
     "start_time": "2022-03-21T14:47:32.976448",
     "status": "completed"
    },
    "tags": []
   },
   "outputs": [],
   "source": [
    "# # from steves_utils.wisig.utils import (\n",
    "# #     ALL_NODES_MINIMUM_100_EXAMPLES,\n",
    "# #     ALL_NODES_MINIMUM_500_EXAMPLES,\n",
    "# #     ALL_NODES_MINIMUM_1000_EXAMPLES,\n",
    "# #     ALL_DAYS\n",
    "# # )\n",
    "\n",
    "# import steves_utils.wisig.utils as wisig\n",
    "\n",
    "\n",
    "# add_dataset(\n",
    "#     labels=wisig.ALL_NODES_MINIMUM_100_EXAMPLES,\n",
    "#     domains = wisig.ALL_DAYS,\n",
    "#     num_examples_per_domain_per_label=100,\n",
    "#     pickle_path=os.path.join(get_datasets_base_path(), \"wisig.node3-19.stratified_ds.2022A.pkl\"),\n",
    "#     source_or_target_dataset=\"target\",\n",
    "#     x_transform_func=global_x_transform_func,\n",
    "#     domain_modifier=lambda u: f\"wisig_{u}\"\n",
    "# )"
   ]
  },
  {
   "cell_type": "code",
   "execution_count": 19,
   "id": "fd5442bc",
   "metadata": {
    "execution": {
     "iopub.execute_input": "2022-03-21T14:47:33.081107Z",
     "iopub.status.busy": "2022-03-21T14:47:33.080257Z",
     "iopub.status.idle": "2022-03-21T14:47:33.097422Z",
     "shell.execute_reply": "2022-03-21T14:47:33.096587Z"
    },
    "papermill": {
     "duration": 0.049315,
     "end_time": "2022-03-21T14:47:33.097604",
     "exception": false,
     "start_time": "2022-03-21T14:47:33.048289",
     "status": "completed"
    },
    "tags": []
   },
   "outputs": [],
   "source": [
    "###################################\n",
    "# Build the dataset\n",
    "###################################\n",
    "train_original_source = Iterable_Aggregator(train_original_source, p.seed)\n",
    "val_original_source = Iterable_Aggregator(val_original_source, p.seed)\n",
    "test_original_source = Iterable_Aggregator(test_original_source, p.seed)\n",
    "\n",
    "\n",
    "train_original_target = Iterable_Aggregator(train_original_target, p.seed)\n",
    "val_original_target = Iterable_Aggregator(val_original_target, p.seed)\n",
    "test_original_target = Iterable_Aggregator(test_original_target, p.seed)\n",
    "\n",
    "# For CNN We only use X and Y. And we only train on the source.\n",
    "# Properly form the data using a transform lambda and Lazy_Iterable_Wrapper. Finally wrap them in a dataloader\n",
    "\n",
    "transform_lambda = lambda ex: ex[1] # Original is (<domain>, <episode>) so we strip down to episode only\n",
    "\n",
    "train_processed_source = Lazy_Iterable_Wrapper(train_original_source, transform_lambda)\n",
    "val_processed_source   = Lazy_Iterable_Wrapper(val_original_source, transform_lambda)\n",
    "test_processed_source  = Lazy_Iterable_Wrapper(test_original_source, transform_lambda)\n",
    "\n",
    "train_processed_target = Lazy_Iterable_Wrapper(train_original_target, transform_lambda)\n",
    "val_processed_target   = Lazy_Iterable_Wrapper(val_original_target, transform_lambda)\n",
    "test_processed_target  = Lazy_Iterable_Wrapper(test_original_target, transform_lambda)\n",
    "\n",
    "datasets = EasyDict({\n",
    "    \"source\": {\n",
    "        \"original\": {\"train\":train_original_source, \"val\":val_original_source, \"test\":test_original_source},\n",
    "        \"processed\": {\"train\":train_processed_source, \"val\":val_processed_source, \"test\":test_processed_source}\n",
    "    },\n",
    "    \"target\": {\n",
    "        \"original\": {\"train\":train_original_target, \"val\":val_original_target, \"test\":test_original_target},\n",
    "        \"processed\": {\"train\":train_processed_target, \"val\":val_processed_target, \"test\":test_processed_target}\n",
    "    },\n",
    "})"
   ]
  },
  {
   "cell_type": "code",
   "execution_count": 20,
   "id": "5b3c01fc",
   "metadata": {
    "execution": {
     "iopub.execute_input": "2022-03-21T14:47:33.151501Z",
     "iopub.status.busy": "2022-03-21T14:47:33.150925Z",
     "iopub.status.idle": "2022-03-21T14:47:48.370592Z",
     "shell.execute_reply": "2022-03-21T14:47:48.369760Z"
    },
    "papermill": {
     "duration": 15.245812,
     "end_time": "2022-03-21T14:47:48.370771",
     "exception": false,
     "start_time": "2022-03-21T14:47:33.124959",
     "status": "completed"
    },
    "tags": []
   },
   "outputs": [
    {
     "name": "stdout",
     "output_type": "stream",
     "text": [
      "{'ORACLE.run1_44', 'ORACLE.run1_8', 'ORACLE.run1_20', 'ORACLE.run1_38', 'ORACLE.run1_14', 'ORACLE.run1_50', 'ORACLE.run1_26', 'ORACLE.run1_32'}\n"
     ]
    },
    {
     "name": "stdout",
     "output_type": "stream",
     "text": [
      "{'CORES_3', 'CORES_4', 'CORES_1', 'CORES_5', 'CORES_2'}\n"
     ]
    },
    {
     "name": "stdout",
     "output_type": "stream",
     "text": [
      "tensor([[[ 0.8613,  0.6522, -0.8613,  ..., -0.7191,  0.0084, -1.1790],\n",
      "         [-0.5435,  0.4264,  0.8863,  ..., -0.7358, -1.3044, -0.0334]],\n",
      "\n",
      "        [[ 0.4337,  1.0374, -0.6973,  ..., -0.7568,  0.8758, -0.0255],\n",
      "         [-0.3656,  0.6207,  0.3316,  ..., -0.5017, -0.9779, -0.9354]],\n",
      "\n",
      "        [[-0.3375, -0.6666,  0.8438,  ...,  0.7172, -1.0548, -0.3628],\n",
      "         [ 0.2531, -0.9029, -0.1856,  ...,  0.7594,  0.6835,  0.7848]],\n",
      "\n",
      "        ...,\n",
      "\n",
      "        [[-0.4226, -0.9694,  0.4143,  ...,  0.9694,  0.4060,  1.0771],\n",
      "         [ 1.0026,  0.0663, -1.1517,  ...,  0.0580,  1.2014, -0.2651]],\n",
      "\n",
      "        [[ 0.5145,  0.0083, -0.7385,  ..., -0.0747,  1.2446,  0.7551],\n",
      "         [ 0.0000,  1.1119, -0.4149,  ..., -0.8795,  0.1494, -0.5808]],\n",
      "\n",
      "        [[ 0.9155,  0.4773, -0.9859,  ..., -0.6495,  0.0078, -1.3146],\n",
      "         [-0.5164,  0.4930,  0.7355,  ..., -0.8060, -1.1502,  0.1252]]])\n"
     ]
    }
   ],
   "source": [
    "from steves_utils.transforms import get_average_magnitude, get_average_power\n",
    "\n",
    "print(set([u for u,_ in val_original_source]))\n",
    "print(set([u for u,_ in val_original_target]))\n",
    "\n",
    "s_x, s_y, q_x, q_y, _ = next(iter(train_processed_source))\n",
    "print(s_x)\n",
    "\n",
    "# for ds in [\n",
    "#     train_processed_source,\n",
    "#     val_processed_source,\n",
    "#     test_processed_source,\n",
    "#     train_processed_target,\n",
    "#     val_processed_target,\n",
    "#     test_processed_target\n",
    "# ]:\n",
    "#     for s_x, s_y, q_x, q_y, _ in ds:\n",
    "#         for X in (s_x, q_x):\n",
    "#             for x in X:\n",
    "#                 assert np.isclose(get_average_magnitude(x.numpy()), 1.0)\n",
    "#                 assert np.isclose(get_average_power(x.numpy()), 1.0)\n",
    "                "
   ]
  },
  {
   "cell_type": "code",
   "execution_count": 21,
   "id": "bbdacba1",
   "metadata": {
    "execution": {
     "iopub.execute_input": "2022-03-21T14:47:48.428661Z",
     "iopub.status.busy": "2022-03-21T14:47:48.427241Z",
     "iopub.status.idle": "2022-03-21T14:47:48.570612Z",
     "shell.execute_reply": "2022-03-21T14:47:48.570283Z"
    },
    "papermill": {
     "duration": 0.169877,
     "end_time": "2022-03-21T14:47:48.570691",
     "exception": false,
     "start_time": "2022-03-21T14:47:48.400814",
     "status": "completed"
    },
    "tags": []
   },
   "outputs": [
    {
     "name": "stdout",
     "output_type": "stream",
     "text": [
      "(2, 256)\n"
     ]
    }
   ],
   "source": [
    "###################################\n",
    "# Build the model\n",
    "###################################\n",
    "# easfsl only wants a tuple for the shape\n",
    "model = Steves_Prototypical_Network(x_net, device=p.device, x_shape=tuple(p.x_shape))\n",
    "optimizer = Adam(params=model.parameters(), lr=p.lr)"
   ]
  },
  {
   "cell_type": "code",
   "execution_count": 22,
   "id": "22b39ac5",
   "metadata": {
    "execution": {
     "iopub.execute_input": "2022-03-21T14:47:48.620361Z",
     "iopub.status.busy": "2022-03-21T14:47:48.619866Z",
     "iopub.status.idle": "2022-03-21T15:34:53.930540Z",
     "shell.execute_reply": "2022-03-21T15:34:53.930196Z"
    },
    "papermill": {
     "duration": 2825.337561,
     "end_time": "2022-03-21T15:34:53.930626",
     "exception": false,
     "start_time": "2022-03-21T14:47:48.593065",
     "status": "completed"
    },
    "tags": []
   },
   "outputs": [
    {
     "name": "stdout",
     "output_type": "stream",
     "text": [
      "epoch: 1, [batch: 1 / 6720], examples_per_second: 33.3430, train_label_loss: 3.1050, \n"
     ]
    },
    {
     "name": "stdout",
     "output_type": "stream",
     "text": [
      "epoch: 1, [batch: 672 / 6720], examples_per_second: 2558.5381, train_label_loss: 1.5277, \n"
     ]
    },
    {
     "name": "stdout",
     "output_type": "stream",
     "text": [
      "epoch: 1, [batch: 1344 / 6720], examples_per_second: 2511.7891, train_label_loss: 0.7470, \n"
     ]
    },
    {
     "name": "stdout",
     "output_type": "stream",
     "text": [
      "epoch: 1, [batch: 2016 / 6720], examples_per_second: 2272.3185, train_label_loss: 0.7994, \n"
     ]
    },
    {
     "name": "stdout",
     "output_type": "stream",
     "text": [
      "epoch: 1, [batch: 2688 / 6720], examples_per_second: 2282.8323, train_label_loss: 0.6936, \n"
     ]
    },
    {
     "name": "stdout",
     "output_type": "stream",
     "text": [
      "epoch: 1, [batch: 3360 / 6720], examples_per_second: 2327.7121, train_label_loss: 0.4978, \n"
     ]
    },
    {
     "name": "stdout",
     "output_type": "stream",
     "text": [
      "epoch: 1, [batch: 4032 / 6720], examples_per_second: 2279.2132, train_label_loss: 0.7208, \n"
     ]
    },
    {
     "name": "stdout",
     "output_type": "stream",
     "text": [
      "epoch: 1, [batch: 4704 / 6720], examples_per_second: 2357.0686, train_label_loss: 0.5575, \n"
     ]
    },
    {
     "name": "stdout",
     "output_type": "stream",
     "text": [
      "epoch: 1, [batch: 5376 / 6720], examples_per_second: 2565.1097, train_label_loss: 0.9458, \n"
     ]
    },
    {
     "name": "stdout",
     "output_type": "stream",
     "text": [
      "epoch: 1, [batch: 6048 / 6720], examples_per_second: 2571.4121, train_label_loss: 0.4591, \n"
     ]
    },
    {
     "name": "stdout",
     "output_type": "stream",
     "text": [
      "=============================================================\n",
      "epoch: 1, source_val_acc_label: 0.7646, target_val_acc_label: 0.7779, source_val_label_loss: 7.3736, target_val_label_loss: 104.9752, \n",
      "=============================================================\n"
     ]
    },
    {
     "name": "stdout",
     "output_type": "stream",
     "text": [
      "New best\n"
     ]
    },
    {
     "name": "stdout",
     "output_type": "stream",
     "text": [
      "epoch: 2, [batch: 1 / 6720], examples_per_second: 2.1902, train_label_loss: 0.8920, \n"
     ]
    },
    {
     "name": "stdout",
     "output_type": "stream",
     "text": [
      "epoch: 2, [batch: 672 / 6720], examples_per_second: 2531.6391, train_label_loss: 0.8884, \n"
     ]
    },
    {
     "name": "stdout",
     "output_type": "stream",
     "text": [
      "epoch: 2, [batch: 1344 / 6720], examples_per_second: 2558.0579, train_label_loss: 0.7650, \n"
     ]
    },
    {
     "name": "stdout",
     "output_type": "stream",
     "text": [
      "epoch: 2, [batch: 2016 / 6720], examples_per_second: 2307.4930, train_label_loss: 0.3636, \n"
     ]
    },
    {
     "name": "stdout",
     "output_type": "stream",
     "text": [
      "epoch: 2, [batch: 2688 / 6720], examples_per_second: 2317.6687, train_label_loss: 0.7663, \n"
     ]
    },
    {
     "name": "stdout",
     "output_type": "stream",
     "text": [
      "epoch: 2, [batch: 3360 / 6720], examples_per_second: 2314.3006, train_label_loss: 0.4928, \n"
     ]
    },
    {
     "name": "stdout",
     "output_type": "stream",
     "text": [
      "epoch: 2, [batch: 4032 / 6720], examples_per_second: 2318.1477, train_label_loss: 0.2621, \n"
     ]
    },
    {
     "name": "stdout",
     "output_type": "stream",
     "text": [
      "epoch: 2, [batch: 4704 / 6720], examples_per_second: 2313.4914, train_label_loss: 0.4555, \n"
     ]
    },
    {
     "name": "stdout",
     "output_type": "stream",
     "text": [
      "epoch: 2, [batch: 5376 / 6720], examples_per_second: 2571.2719, train_label_loss: 0.0987, \n"
     ]
    },
    {
     "name": "stdout",
     "output_type": "stream",
     "text": [
      "epoch: 2, [batch: 6048 / 6720], examples_per_second: 2900.6452, train_label_loss: 0.5000, \n"
     ]
    },
    {
     "name": "stdout",
     "output_type": "stream",
     "text": [
      "=============================================================\n",
      "epoch: 2, source_val_acc_label: 0.8206, target_val_acc_label: 0.7647, source_val_label_loss: 0.4962, target_val_label_loss: 64.7613, \n",
      "=============================================================\n"
     ]
    },
    {
     "name": "stdout",
     "output_type": "stream",
     "text": [
      "epoch: 3, [batch: 1 / 6720], examples_per_second: 2.4950, train_label_loss: 0.1139, \n"
     ]
    },
    {
     "name": "stdout",
     "output_type": "stream",
     "text": [
      "epoch: 3, [batch: 672 / 6720], examples_per_second: 2893.8371, train_label_loss: 0.4876, \n"
     ]
    },
    {
     "name": "stdout",
     "output_type": "stream",
     "text": [
      "epoch: 3, [batch: 1344 / 6720], examples_per_second: 2965.9916, train_label_loss: 0.1805, \n"
     ]
    },
    {
     "name": "stdout",
     "output_type": "stream",
     "text": [
      "epoch: 3, [batch: 2016 / 6720], examples_per_second: 2814.3367, train_label_loss: 0.5671, \n"
     ]
    },
    {
     "name": "stdout",
     "output_type": "stream",
     "text": [
      "epoch: 3, [batch: 2688 / 6720], examples_per_second: 2940.7296, train_label_loss: 0.4447, \n"
     ]
    },
    {
     "name": "stdout",
     "output_type": "stream",
     "text": [
      "epoch: 3, [batch: 3360 / 6720], examples_per_second: 2318.6657, train_label_loss: 0.5799, \n"
     ]
    },
    {
     "name": "stdout",
     "output_type": "stream",
     "text": [
      "epoch: 3, [batch: 4032 / 6720], examples_per_second: 2324.5912, train_label_loss: 0.3489, \n"
     ]
    },
    {
     "name": "stdout",
     "output_type": "stream",
     "text": [
      "epoch: 3, [batch: 4704 / 6720], examples_per_second: 2320.2479, train_label_loss: 0.2814, \n"
     ]
    },
    {
     "name": "stdout",
     "output_type": "stream",
     "text": [
      "epoch: 3, [batch: 5376 / 6720], examples_per_second: 2548.7618, train_label_loss: 0.5323, \n"
     ]
    },
    {
     "name": "stdout",
     "output_type": "stream",
     "text": [
      "epoch: 3, [batch: 6048 / 6720], examples_per_second: 2624.9228, train_label_loss: 0.4794, \n"
     ]
    },
    {
     "name": "stdout",
     "output_type": "stream",
     "text": [
      "=============================================================\n",
      "epoch: 3, source_val_acc_label: 0.8446, target_val_acc_label: 0.7736, source_val_label_loss: 0.4325, target_val_label_loss: 73.5703, \n",
      "=============================================================\n"
     ]
    },
    {
     "name": "stdout",
     "output_type": "stream",
     "text": [
      "epoch: 4, [batch: 1 / 6720], examples_per_second: 2.2250, train_label_loss: 0.3977, \n"
     ]
    },
    {
     "name": "stdout",
     "output_type": "stream",
     "text": [
      "epoch: 4, [batch: 672 / 6720], examples_per_second: 2521.9254, train_label_loss: 0.1709, \n"
     ]
    },
    {
     "name": "stdout",
     "output_type": "stream",
     "text": [
      "epoch: 4, [batch: 1344 / 6720], examples_per_second: 2580.0397, train_label_loss: 0.5366, \n"
     ]
    },
    {
     "name": "stdout",
     "output_type": "stream",
     "text": [
      "epoch: 4, [batch: 2016 / 6720], examples_per_second: 2305.9313, train_label_loss: 0.3582, \n"
     ]
    },
    {
     "name": "stdout",
     "output_type": "stream",
     "text": [
      "epoch: 4, [batch: 2688 / 6720], examples_per_second: 2293.9660, train_label_loss: 0.2229, \n"
     ]
    },
    {
     "name": "stdout",
     "output_type": "stream",
     "text": [
      "epoch: 4, [batch: 3360 / 6720], examples_per_second: 2325.9090, train_label_loss: 0.3152, \n"
     ]
    },
    {
     "name": "stdout",
     "output_type": "stream",
     "text": [
      "epoch: 4, [batch: 4032 / 6720], examples_per_second: 2319.8365, train_label_loss: 0.1392, \n"
     ]
    },
    {
     "name": "stdout",
     "output_type": "stream",
     "text": [
      "epoch: 4, [batch: 4704 / 6720], examples_per_second: 2304.2219, train_label_loss: 0.7958, \n"
     ]
    },
    {
     "name": "stdout",
     "output_type": "stream",
     "text": [
      "epoch: 4, [batch: 5376 / 6720], examples_per_second: 2457.7432, train_label_loss: 0.1374, \n"
     ]
    },
    {
     "name": "stdout",
     "output_type": "stream",
     "text": [
      "epoch: 4, [batch: 6048 / 6720], examples_per_second: 2633.0295, train_label_loss: 0.2004, \n"
     ]
    },
    {
     "name": "stdout",
     "output_type": "stream",
     "text": [
      "=============================================================\n",
      "epoch: 4, source_val_acc_label: 0.8778, target_val_acc_label: 0.7870, source_val_label_loss: 0.3381, target_val_label_loss: 87.6356, \n",
      "=============================================================\n"
     ]
    },
    {
     "name": "stdout",
     "output_type": "stream",
     "text": [
      "New best\n"
     ]
    },
    {
     "name": "stdout",
     "output_type": "stream",
     "text": [
      "epoch: 5, [batch: 1 / 6720], examples_per_second: 2.2423, train_label_loss: 0.6681, \n"
     ]
    },
    {
     "name": "stdout",
     "output_type": "stream",
     "text": [
      "epoch: 5, [batch: 672 / 6720], examples_per_second: 2621.8735, train_label_loss: 0.3071, \n"
     ]
    },
    {
     "name": "stdout",
     "output_type": "stream",
     "text": [
      "epoch: 5, [batch: 1344 / 6720], examples_per_second: 2645.4827, train_label_loss: 0.2888, \n"
     ]
    },
    {
     "name": "stdout",
     "output_type": "stream",
     "text": [
      "epoch: 5, [batch: 2016 / 6720], examples_per_second: 2579.4389, train_label_loss: 0.2177, \n"
     ]
    },
    {
     "name": "stdout",
     "output_type": "stream",
     "text": [
      "epoch: 5, [batch: 2688 / 6720], examples_per_second: 2586.1586, train_label_loss: 0.1591, \n"
     ]
    },
    {
     "name": "stdout",
     "output_type": "stream",
     "text": [
      "epoch: 5, [batch: 3360 / 6720], examples_per_second: 2554.4320, train_label_loss: 0.4246, \n"
     ]
    },
    {
     "name": "stdout",
     "output_type": "stream",
     "text": [
      "epoch: 5, [batch: 4032 / 6720], examples_per_second: 2610.2790, train_label_loss: 0.3289, \n"
     ]
    },
    {
     "name": "stdout",
     "output_type": "stream",
     "text": [
      "epoch: 5, [batch: 4704 / 6720], examples_per_second: 2579.0123, train_label_loss: 0.2481, \n"
     ]
    },
    {
     "name": "stdout",
     "output_type": "stream",
     "text": [
      "epoch: 5, [batch: 5376 / 6720], examples_per_second: 2674.7719, train_label_loss: 0.1643, \n"
     ]
    },
    {
     "name": "stdout",
     "output_type": "stream",
     "text": [
      "epoch: 5, [batch: 6048 / 6720], examples_per_second: 2997.8129, train_label_loss: 0.0763, \n"
     ]
    },
    {
     "name": "stdout",
     "output_type": "stream",
     "text": [
      "=============================================================\n",
      "epoch: 5, source_val_acc_label: 0.8834, target_val_acc_label: 0.8044, source_val_label_loss: 0.3353, target_val_label_loss: 96.2205, \n",
      "=============================================================\n"
     ]
    },
    {
     "name": "stdout",
     "output_type": "stream",
     "text": [
      "New best\n"
     ]
    },
    {
     "name": "stdout",
     "output_type": "stream",
     "text": [
      "epoch: 6, [batch: 1 / 6720], examples_per_second: 2.9323, train_label_loss: 0.2102, \n"
     ]
    },
    {
     "name": "stdout",
     "output_type": "stream",
     "text": [
      "epoch: 6, [batch: 672 / 6720], examples_per_second: 3344.3267, train_label_loss: 0.3779, \n"
     ]
    },
    {
     "name": "stdout",
     "output_type": "stream",
     "text": [
      "epoch: 6, [batch: 1344 / 6720], examples_per_second: 3398.8490, train_label_loss: 0.1516, \n"
     ]
    },
    {
     "name": "stdout",
     "output_type": "stream",
     "text": [
      "epoch: 6, [batch: 2016 / 6720], examples_per_second: 3396.9194, train_label_loss: 0.3059, \n"
     ]
    },
    {
     "name": "stdout",
     "output_type": "stream",
     "text": [
      "epoch: 6, [batch: 2688 / 6720], examples_per_second: 3481.3565, train_label_loss: 0.0208, \n"
     ]
    },
    {
     "name": "stdout",
     "output_type": "stream",
     "text": [
      "epoch: 6, [batch: 3360 / 6720], examples_per_second: 3345.6339, train_label_loss: 0.3127, \n"
     ]
    },
    {
     "name": "stdout",
     "output_type": "stream",
     "text": [
      "epoch: 6, [batch: 4032 / 6720], examples_per_second: 3396.5535, train_label_loss: 0.1181, \n"
     ]
    },
    {
     "name": "stdout",
     "output_type": "stream",
     "text": [
      "epoch: 6, [batch: 4704 / 6720], examples_per_second: 3292.5086, train_label_loss: 0.1907, \n"
     ]
    },
    {
     "name": "stdout",
     "output_type": "stream",
     "text": [
      "epoch: 6, [batch: 5376 / 6720], examples_per_second: 2960.7624, train_label_loss: 0.3010, \n"
     ]
    },
    {
     "name": "stdout",
     "output_type": "stream",
     "text": [
      "epoch: 6, [batch: 6048 / 6720], examples_per_second: 2979.7498, train_label_loss: 0.2537, \n"
     ]
    },
    {
     "name": "stdout",
     "output_type": "stream",
     "text": [
      "=============================================================\n",
      "epoch: 6, source_val_acc_label: 0.8759, target_val_acc_label: 0.8016, source_val_label_loss: 0.3459, target_val_label_loss: 113.0948, \n",
      "=============================================================\n"
     ]
    },
    {
     "name": "stdout",
     "output_type": "stream",
     "text": [
      "epoch: 7, [batch: 1 / 6720], examples_per_second: 2.8411, train_label_loss: 0.0416, \n"
     ]
    },
    {
     "name": "stdout",
     "output_type": "stream",
     "text": [
      "epoch: 7, [batch: 672 / 6720], examples_per_second: 2937.7417, train_label_loss: 0.2025, \n"
     ]
    },
    {
     "name": "stdout",
     "output_type": "stream",
     "text": [
      "epoch: 7, [batch: 1344 / 6720], examples_per_second: 2907.2690, train_label_loss: 0.5715, \n"
     ]
    },
    {
     "name": "stdout",
     "output_type": "stream",
     "text": [
      "epoch: 7, [batch: 2016 / 6720], examples_per_second: 2790.4487, train_label_loss: 0.2227, \n"
     ]
    },
    {
     "name": "stdout",
     "output_type": "stream",
     "text": [
      "epoch: 7, [batch: 2688 / 6720], examples_per_second: 2491.2653, train_label_loss: 0.0217, \n"
     ]
    },
    {
     "name": "stdout",
     "output_type": "stream",
     "text": [
      "epoch: 7, [batch: 3360 / 6720], examples_per_second: 2886.4633, train_label_loss: 0.4004, \n"
     ]
    },
    {
     "name": "stdout",
     "output_type": "stream",
     "text": [
      "epoch: 7, [batch: 4032 / 6720], examples_per_second: 2959.4855, train_label_loss: 0.1959, \n"
     ]
    },
    {
     "name": "stdout",
     "output_type": "stream",
     "text": [
      "epoch: 7, [batch: 4704 / 6720], examples_per_second: 2940.7075, train_label_loss: 0.2958, \n"
     ]
    },
    {
     "name": "stdout",
     "output_type": "stream",
     "text": [
      "epoch: 7, [batch: 5376 / 6720], examples_per_second: 2528.3074, train_label_loss: 0.3797, \n"
     ]
    },
    {
     "name": "stdout",
     "output_type": "stream",
     "text": [
      "epoch: 7, [batch: 6048 / 6720], examples_per_second: 2607.3936, train_label_loss: 0.2697, \n"
     ]
    },
    {
     "name": "stdout",
     "output_type": "stream",
     "text": [
      "=============================================================\n",
      "epoch: 7, source_val_acc_label: 0.8919, target_val_acc_label: 0.8069, source_val_label_loss: 0.3018, target_val_label_loss: 115.5982, \n",
      "=============================================================\n"
     ]
    },
    {
     "name": "stdout",
     "output_type": "stream",
     "text": [
      "New best\n"
     ]
    },
    {
     "name": "stdout",
     "output_type": "stream",
     "text": [
      "epoch: 8, [batch: 1 / 6720], examples_per_second: 2.5917, train_label_loss: 0.1681, \n"
     ]
    },
    {
     "name": "stdout",
     "output_type": "stream",
     "text": [
      "epoch: 8, [batch: 672 / 6720], examples_per_second: 2426.7946, train_label_loss: 0.2074, \n"
     ]
    },
    {
     "name": "stdout",
     "output_type": "stream",
     "text": [
      "epoch: 8, [batch: 1344 / 6720], examples_per_second: 2663.7257, train_label_loss: 0.1902, \n"
     ]
    },
    {
     "name": "stdout",
     "output_type": "stream",
     "text": [
      "epoch: 8, [batch: 2016 / 6720], examples_per_second: 2641.2862, train_label_loss: 0.7268, \n"
     ]
    },
    {
     "name": "stdout",
     "output_type": "stream",
     "text": [
      "epoch: 8, [batch: 2688 / 6720], examples_per_second: 2481.4284, train_label_loss: 0.5914, \n"
     ]
    },
    {
     "name": "stdout",
     "output_type": "stream",
     "text": [
      "epoch: 8, [batch: 3360 / 6720], examples_per_second: 2493.2351, train_label_loss: 0.1839, \n"
     ]
    },
    {
     "name": "stdout",
     "output_type": "stream",
     "text": [
      "epoch: 8, [batch: 4032 / 6720], examples_per_second: 2586.0760, train_label_loss: 0.1689, \n"
     ]
    },
    {
     "name": "stdout",
     "output_type": "stream",
     "text": [
      "epoch: 8, [batch: 4704 / 6720], examples_per_second: 2703.6099, train_label_loss: 0.1512, \n"
     ]
    },
    {
     "name": "stdout",
     "output_type": "stream",
     "text": [
      "epoch: 8, [batch: 5376 / 6720], examples_per_second: 2348.8336, train_label_loss: 0.1870, \n"
     ]
    },
    {
     "name": "stdout",
     "output_type": "stream",
     "text": [
      "epoch: 8, [batch: 6048 / 6720], examples_per_second: 2308.4463, train_label_loss: 0.6729, \n"
     ]
    },
    {
     "name": "stdout",
     "output_type": "stream",
     "text": [
      "=============================================================\n",
      "epoch: 8, source_val_acc_label: 0.8950, target_val_acc_label: 0.7402, source_val_label_loss: 0.2968, target_val_label_loss: 248.6156, \n",
      "=============================================================\n"
     ]
    },
    {
     "name": "stdout",
     "output_type": "stream",
     "text": [
      "epoch: 9, [batch: 1 / 6720], examples_per_second: 2.0557, train_label_loss: 0.0756, \n"
     ]
    },
    {
     "name": "stdout",
     "output_type": "stream",
     "text": [
      "epoch: 9, [batch: 672 / 6720], examples_per_second: 2401.0108, train_label_loss: 0.1825, \n"
     ]
    },
    {
     "name": "stdout",
     "output_type": "stream",
     "text": [
      "epoch: 9, [batch: 1344 / 6720], examples_per_second: 2603.3588, train_label_loss: 0.1275, \n"
     ]
    },
    {
     "name": "stdout",
     "output_type": "stream",
     "text": [
      "epoch: 9, [batch: 2016 / 6720], examples_per_second: 2578.2753, train_label_loss: 0.1822, \n"
     ]
    },
    {
     "name": "stdout",
     "output_type": "stream",
     "text": [
      "epoch: 9, [batch: 2688 / 6720], examples_per_second: 2506.8488, train_label_loss: 0.2110, \n"
     ]
    },
    {
     "name": "stdout",
     "output_type": "stream",
     "text": [
      "epoch: 9, [batch: 3360 / 6720], examples_per_second: 2460.9267, train_label_loss: 0.1083, \n"
     ]
    },
    {
     "name": "stdout",
     "output_type": "stream",
     "text": [
      "epoch: 9, [batch: 4032 / 6720], examples_per_second: 2625.6419, train_label_loss: 0.1523, \n"
     ]
    },
    {
     "name": "stdout",
     "output_type": "stream",
     "text": [
      "epoch: 9, [batch: 4704 / 6720], examples_per_second: 2683.5468, train_label_loss: 0.0097, \n"
     ]
    },
    {
     "name": "stdout",
     "output_type": "stream",
     "text": [
      "epoch: 9, [batch: 5376 / 6720], examples_per_second: 2370.3591, train_label_loss: 0.1999, \n"
     ]
    },
    {
     "name": "stdout",
     "output_type": "stream",
     "text": [
      "epoch: 9, [batch: 6048 / 6720], examples_per_second: 2300.7327, train_label_loss: 0.3300, \n"
     ]
    },
    {
     "name": "stdout",
     "output_type": "stream",
     "text": [
      "=============================================================\n",
      "epoch: 9, source_val_acc_label: 0.9042, target_val_acc_label: 0.7761, source_val_label_loss: 0.2804, target_val_label_loss: 187.6367, \n",
      "=============================================================\n"
     ]
    },
    {
     "name": "stdout",
     "output_type": "stream",
     "text": [
      "epoch: 10, [batch: 1 / 6720], examples_per_second: 2.0702, train_label_loss: 0.1932, \n"
     ]
    },
    {
     "name": "stdout",
     "output_type": "stream",
     "text": [
      "epoch: 10, [batch: 672 / 6720], examples_per_second: 2360.2670, train_label_loss: 0.8523, \n"
     ]
    },
    {
     "name": "stdout",
     "output_type": "stream",
     "text": [
      "epoch: 10, [batch: 1344 / 6720], examples_per_second: 2572.8310, train_label_loss: 0.1766, \n"
     ]
    },
    {
     "name": "stdout",
     "output_type": "stream",
     "text": [
      "epoch: 10, [batch: 2016 / 6720], examples_per_second: 2552.9376, train_label_loss: 0.2219, \n"
     ]
    },
    {
     "name": "stdout",
     "output_type": "stream",
     "text": [
      "epoch: 10, [batch: 2688 / 6720], examples_per_second: 2473.4628, train_label_loss: 0.3142, \n"
     ]
    },
    {
     "name": "stdout",
     "output_type": "stream",
     "text": [
      "epoch: 10, [batch: 3360 / 6720], examples_per_second: 2460.1650, train_label_loss: 0.1161, \n"
     ]
    },
    {
     "name": "stdout",
     "output_type": "stream",
     "text": [
      "epoch: 10, [batch: 4032 / 6720], examples_per_second: 2612.9468, train_label_loss: 0.3548, \n"
     ]
    },
    {
     "name": "stdout",
     "output_type": "stream",
     "text": [
      "epoch: 10, [batch: 4704 / 6720], examples_per_second: 2666.3647, train_label_loss: 0.0946, \n"
     ]
    },
    {
     "name": "stdout",
     "output_type": "stream",
     "text": [
      "epoch: 10, [batch: 5376 / 6720], examples_per_second: 2416.2420, train_label_loss: 0.1665, \n"
     ]
    },
    {
     "name": "stdout",
     "output_type": "stream",
     "text": [
      "epoch: 10, [batch: 6048 / 6720], examples_per_second: 2308.7175, train_label_loss: 0.0434, \n"
     ]
    },
    {
     "name": "stdout",
     "output_type": "stream",
     "text": [
      "=============================================================\n",
      "epoch: 10, source_val_acc_label: 0.8981, target_val_acc_label: 0.6709, source_val_label_loss: 0.3143, target_val_label_loss: 512.3785, \n",
      "=============================================================\n"
     ]
    },
    {
     "name": "stdout",
     "output_type": "stream",
     "text": [
      "epoch: 11, [batch: 1 / 6720], examples_per_second: 2.0730, train_label_loss: 0.1735, \n"
     ]
    },
    {
     "name": "stdout",
     "output_type": "stream",
     "text": [
      "epoch: 11, [batch: 672 / 6720], examples_per_second: 2367.4654, train_label_loss: 0.0729, \n"
     ]
    },
    {
     "name": "stdout",
     "output_type": "stream",
     "text": [
      "epoch: 11, [batch: 1344 / 6720], examples_per_second: 2580.0796, train_label_loss: 0.6327, \n"
     ]
    },
    {
     "name": "stdout",
     "output_type": "stream",
     "text": [
      "epoch: 11, [batch: 2016 / 6720], examples_per_second: 2591.2486, train_label_loss: 0.0566, \n"
     ]
    },
    {
     "name": "stdout",
     "output_type": "stream",
     "text": [
      "epoch: 11, [batch: 2688 / 6720], examples_per_second: 2539.8992, train_label_loss: 0.2208, \n"
     ]
    },
    {
     "name": "stdout",
     "output_type": "stream",
     "text": [
      "epoch: 11, [batch: 3360 / 6720], examples_per_second: 2472.9515, train_label_loss: 0.0469, \n"
     ]
    },
    {
     "name": "stdout",
     "output_type": "stream",
     "text": [
      "epoch: 11, [batch: 4032 / 6720], examples_per_second: 2599.1072, train_label_loss: 0.5407, \n"
     ]
    },
    {
     "name": "stdout",
     "output_type": "stream",
     "text": [
      "epoch: 11, [batch: 4704 / 6720], examples_per_second: 2646.6097, train_label_loss: 0.2561, \n"
     ]
    },
    {
     "name": "stdout",
     "output_type": "stream",
     "text": [
      "epoch: 11, [batch: 5376 / 6720], examples_per_second: 2457.2076, train_label_loss: 0.0368, \n"
     ]
    },
    {
     "name": "stdout",
     "output_type": "stream",
     "text": [
      "epoch: 11, [batch: 6048 / 6720], examples_per_second: 2285.9330, train_label_loss: 0.1397, \n"
     ]
    },
    {
     "name": "stdout",
     "output_type": "stream",
     "text": [
      "=============================================================\n",
      "epoch: 11, source_val_acc_label: 0.9027, target_val_acc_label: 0.6889, source_val_label_loss: 0.3338, target_val_label_loss: 461.2111, \n",
      "=============================================================\n"
     ]
    },
    {
     "name": "stdout",
     "output_type": "stream",
     "text": [
      "Patience (3) exhausted\n"
     ]
    }
   ],
   "source": [
    "###################################\n",
    "# train\n",
    "###################################\n",
    "jig = PTN_Train_Eval_Test_Jig(model, p.BEST_MODEL_PATH, p.device)\n",
    "\n",
    "jig.train(\n",
    "    train_iterable=datasets.source.processed.train,\n",
    "    source_val_iterable=datasets.source.processed.val,\n",
    "    target_val_iterable=datasets.target.processed.val,\n",
    "    num_epochs=p.n_epoch,\n",
    "    num_logs_per_epoch=p.NUM_LOGS_PER_EPOCH,\n",
    "    patience=p.patience,\n",
    "    optimizer=optimizer,\n",
    "    criteria_for_best=p.criteria_for_best,\n",
    ")"
   ]
  },
  {
   "cell_type": "code",
   "execution_count": 23,
   "id": "31e8fabf",
   "metadata": {
    "execution": {
     "iopub.execute_input": "2022-03-21T15:34:54.047869Z",
     "iopub.status.busy": "2022-03-21T15:34:54.047472Z",
     "iopub.status.idle": "2022-03-21T15:34:54.080594Z",
     "shell.execute_reply": "2022-03-21T15:34:54.079885Z"
    },
    "papermill": {
     "duration": 0.094529,
     "end_time": "2022-03-21T15:34:54.080753",
     "exception": false,
     "start_time": "2022-03-21T15:34:53.986224",
     "status": "completed"
    },
    "tags": []
   },
   "outputs": [],
   "source": [
    "total_experiment_time_secs = time.time() - start_time_secs"
   ]
  },
  {
   "cell_type": "code",
   "execution_count": 24,
   "id": "87b9595b",
   "metadata": {
    "execution": {
     "iopub.execute_input": "2022-03-21T15:34:54.207178Z",
     "iopub.status.busy": "2022-03-21T15:34:54.206593Z",
     "iopub.status.idle": "2022-03-21T15:38:25.555358Z",
     "shell.execute_reply": "2022-03-21T15:38:25.554596Z"
    },
    "papermill": {
     "duration": 211.413268,
     "end_time": "2022-03-21T15:38:25.555579",
     "exception": false,
     "start_time": "2022-03-21T15:34:54.142311",
     "status": "completed"
    },
    "tags": []
   },
   "outputs": [],
   "source": [
    "###################################\n",
    "# Evaluate the model\n",
    "###################################\n",
    "source_test_label_accuracy, source_test_label_loss = jig.test(datasets.source.processed.test)\n",
    "target_test_label_accuracy, target_test_label_loss = jig.test(datasets.target.processed.test)\n",
    "\n",
    "source_val_label_accuracy, source_val_label_loss = jig.test(datasets.source.processed.val)\n",
    "target_val_label_accuracy, target_val_label_loss = jig.test(datasets.target.processed.val)\n",
    "\n",
    "history = jig.get_history()\n",
    "\n",
    "total_epochs_trained = len(history[\"epoch_indices\"])\n",
    "\n",
    "val_dl = Iterable_Aggregator((datasets.source.original.val,datasets.target.original.val))\n",
    "\n",
    "confusion = ptn_confusion_by_domain_over_dataloader(model, p.device, val_dl)\n",
    "per_domain_accuracy = per_domain_accuracy_from_confusion(confusion)\n",
    "\n",
    "# Add a key to per_domain_accuracy for if it was a source domain\n",
    "for domain, accuracy in per_domain_accuracy.items():\n",
    "    per_domain_accuracy[domain] = {\n",
    "        \"accuracy\": accuracy,\n",
    "        \"source?\": domain in p.domains_source\n",
    "    }\n",
    "\n",
    "# Do an independent accuracy assesment JUST TO BE SURE!\n",
    "# _source_test_label_accuracy = independent_accuracy_assesment(model, datasets.source.processed.test, p.device)\n",
    "# _target_test_label_accuracy = independent_accuracy_assesment(model, datasets.target.processed.test, p.device)\n",
    "# _source_val_label_accuracy = independent_accuracy_assesment(model, datasets.source.processed.val, p.device)\n",
    "# _target_val_label_accuracy = independent_accuracy_assesment(model, datasets.target.processed.val, p.device)\n",
    "\n",
    "# assert(_source_test_label_accuracy == source_test_label_accuracy)\n",
    "# assert(_target_test_label_accuracy == target_test_label_accuracy)\n",
    "# assert(_source_val_label_accuracy == source_val_label_accuracy)\n",
    "# assert(_target_val_label_accuracy == target_val_label_accuracy)\n",
    "\n",
    "experiment = {\n",
    "    \"experiment_name\": p.experiment_name,\n",
    "    \"parameters\": dict(p),\n",
    "    \"results\": {\n",
    "        \"source_test_label_accuracy\": source_test_label_accuracy,\n",
    "        \"source_test_label_loss\": source_test_label_loss,\n",
    "        \"target_test_label_accuracy\": target_test_label_accuracy,\n",
    "        \"target_test_label_loss\": target_test_label_loss,\n",
    "        \"source_val_label_accuracy\": source_val_label_accuracy,\n",
    "        \"source_val_label_loss\": source_val_label_loss,\n",
    "        \"target_val_label_accuracy\": target_val_label_accuracy,\n",
    "        \"target_val_label_loss\": target_val_label_loss,\n",
    "        \"total_epochs_trained\": total_epochs_trained,\n",
    "        \"total_experiment_time_secs\": total_experiment_time_secs,\n",
    "        \"confusion\": confusion,\n",
    "        \"per_domain_accuracy\": per_domain_accuracy,\n",
    "    },\n",
    "    \"history\": history,\n",
    "    \"dataset_metrics\": get_dataset_metrics(datasets, \"ptn\"),\n",
    "}"
   ]
  },
  {
   "cell_type": "code",
   "execution_count": 25,
   "id": "54a21829",
   "metadata": {
    "execution": {
     "iopub.execute_input": "2022-03-21T15:38:25.678191Z",
     "iopub.status.busy": "2022-03-21T15:38:25.677811Z",
     "iopub.status.idle": "2022-03-21T15:38:25.908882Z",
     "shell.execute_reply": "2022-03-21T15:38:25.909568Z"
    },
    "papermill": {
     "duration": 0.293756,
     "end_time": "2022-03-21T15:38:25.909782",
     "exception": false,
     "start_time": "2022-03-21T15:38:25.616026",
     "status": "completed"
    },
    "tags": []
   },
   "outputs": [
    {
     "data": {
      "image/png": "[encoded data removed]",
      "text/plain": [
       "<Figure size 1080x504 with 1 Axes>"
      ]
     },
     "metadata": {
      "needs_background": "light"
     },
     "output_type": "display_data"
    }
   ],
   "source": [
    "ax = get_loss_curve(experiment)\n",
    "plt.show()"
   ]
  },
  {
   "cell_type": "code",
   "execution_count": 26,
   "id": "fd8a0f60",
   "metadata": {
    "execution": {
     "iopub.execute_input": "2022-03-21T15:38:26.036017Z",
     "iopub.status.busy": "2022-03-21T15:38:26.035640Z",
     "iopub.status.idle": "2022-03-21T15:38:26.379662Z",
     "shell.execute_reply": "2022-03-21T15:38:26.380370Z"
    },
    "papermill": {
     "duration": 0.406134,
     "end_time": "2022-03-21T15:38:26.380585",
     "exception": false,
     "start_time": "2022-03-21T15:38:25.974451",
     "status": "completed"
    },
    "tags": []
   },
   "outputs": [
    {
     "data": {
      "text/plain": [
       "<AxesSubplot:title={'center':'Results'}>"
      ]
     },
     "execution_count": 26,
     "metadata": {},
     "output_type": "execute_result"
    },
    {
     "data": {
      "image/png": "[encoded data removed]",
      "text/plain": [
       "<Figure size 1080x504 with 1 Axes>"
      ]
     },
     "metadata": {
      "needs_background": "light"
     },
     "output_type": "display_data"
    }
   ],
   "source": [
    "get_results_table(experiment)"
   ]
  },
  {
   "cell_type": "code",
   "execution_count": 27,
   "id": "cf8dc689",
   "metadata": {
    "execution": {
     "iopub.execute_input": "2022-03-21T15:38:26.510949Z",
     "iopub.status.busy": "2022-03-21T15:38:26.510559Z",
     "iopub.status.idle": "2022-03-21T15:38:26.770061Z",
     "shell.execute_reply": "2022-03-21T15:38:26.770741Z"
    },
    "papermill": {
     "duration": 0.325149,
     "end_time": "2022-03-21T15:38:26.770956",
     "exception": false,
     "start_time": "2022-03-21T15:38:26.445807",
     "status": "completed"
    },
    "tags": []
   },
   "outputs": [
    {
     "data": {
      "text/plain": [
       "<AxesSubplot:title={'center':'Per Domain Validation Accuracy'}, xlabel='domain'>"
      ]
     },
     "execution_count": 27,
     "metadata": {},
     "output_type": "execute_result"
    },
    {
     "data": {
      "image/png": "[encoded data removed]",
      "text/plain": [
       "<Figure size 1080x504 with 1 Axes>"
      ]
     },
     "metadata": {
      "needs_background": "light"
     },
     "output_type": "display_data"
    }
   ],
   "source": [
    "get_domain_accuracies(experiment)"
   ]
  },
  {
   "cell_type": "code",
   "execution_count": 28,
   "id": "a74ae082",
   "metadata": {
    "execution": {
     "iopub.execute_input": "2022-03-21T15:38:26.901169Z",
     "iopub.status.busy": "2022-03-21T15:38:26.900786Z",
     "iopub.status.idle": "2022-03-21T15:38:26.925267Z",
     "shell.execute_reply": "2022-03-21T15:38:26.925899Z"
    },
    "papermill": {
     "duration": 0.091212,
     "end_time": "2022-03-21T15:38:26.926109",
     "exception": false,
     "start_time": "2022-03-21T15:38:26.834897",
     "status": "completed"
    },
    "tags": []
   },
   "outputs": [
    {
     "name": "stdout",
     "output_type": "stream",
     "text": [
      "Source Test Label Accuracy: 0.896484375 Target Test Label Accuracy: 0.809957627118644\n",
      "Source Val Label Accuracy: 0.8918619791666667 Target Val Label Accuracy: 0.8069285714285714\n"
     ]
    }
   ],
   "source": [
    "print(\"Source Test Label Accuracy:\", experiment[\"results\"][\"source_test_label_accuracy\"], \"Target Test Label Accuracy:\", experiment[\"results\"][\"target_test_label_accuracy\"])\n",
    "print(\"Source Val Label Accuracy:\", experiment[\"results\"][\"source_val_label_accuracy\"], \"Target Val Label Accuracy:\", experiment[\"results\"][\"target_val_label_accuracy\"])"
   ]
  },
  {
   "cell_type": "code",
   "execution_count": 29,
   "id": "dacca602",
   "metadata": {
    "execution": {
     "iopub.execute_input": "2022-03-21T15:38:27.060274Z",
     "iopub.status.busy": "2022-03-21T15:38:27.059906Z",
     "iopub.status.idle": "2022-03-21T15:38:27.087639Z",
     "shell.execute_reply": "2022-03-21T15:38:27.088310Z"
    },
    "papermill": {
     "duration": 0.092129,
     "end_time": "2022-03-21T15:38:27.088492",
     "exception": false,
     "start_time": "2022-03-21T15:38:26.996363",
     "status": "completed"
    },
    "tags": [
     "experiment_json"
    ]
   },
   "outputs": [
    {
     "data": {
      "text/plain": [
       "'{\"experiment_name\": \"tl_1v2:cores-oracle.run1.framed\", \"parameters\": {\"experiment_name\": \"tl_1v2:cores-oracle.run1.framed\", \"device\": \"cuda\", \"lr\": 0.0001, \"n_shot\": 3, \"n_query\": 2, \"train_k_factor\": 3, \"val_k_factor\": 2, \"test_k_factor\": 2, \"torch_default_dtype\": \"torch.float32\", \"n_epoch\": 50, \"patience\": 3, \"criteria_for_best\": \"target_accuracy\", \"x_net\": [{\"class\": \"nnReshape\", \"kargs\": {\"shape\": [-1, 1, 2, 256]}}, {\"class\": \"Conv2d\", \"kargs\": {\"in_channels\": 1, \"out_channels\": 256, \"kernel_size\": [1, 7], \"bias\": false, \"padding\": [0, 3]}}, {\"class\": \"ReLU\", \"kargs\": {\"inplace\": true}}, {\"class\": \"BatchNorm2d\", \"kargs\": {\"num_features\": 256}}, {\"class\": \"Conv2d\", \"kargs\": {\"in_channels\": 256, \"out_channels\": 80, \"kernel_size\": [2, 7], \"bias\": true, \"padding\": [0, 3]}}, {\"class\": \"ReLU\", \"kargs\": {\"inplace\": true}}, {\"class\": \"BatchNorm2d\", \"kargs\": {\"num_features\": 80}}, {\"class\": \"Flatten\", \"kargs\": {}}, {\"class\": \"Linear\", \"kargs\": {\"in_features\": 20480, \"out_features\": 256}}, {\"class\": \"ReLU\", \"kargs\": {\"inplace\": true}}, {\"class\": \"BatchNorm1d\", \"kargs\": {\"num_features\": 256}}, {\"class\": \"Linear\", \"kargs\": {\"in_features\": 256, \"out_features\": 256}}], \"NUM_LOGS_PER_EPOCH\": 10, \"BEST_MODEL_PATH\": \"./best_model.pth\", \"n_way\": 16, \"datasets\": [{\"labels\": [\"1-10.\", \"1-11.\", \"1-15.\", \"1-16.\", \"1-17.\", \"1-18.\", \"1-19.\", \"10-4.\", \"10-7.\", \"11-1.\", \"11-14.\", \"11-17.\", \"11-20.\", \"11-7.\", \"13-20.\", \"13-8.\", \"14-10.\", \"14-11.\", \"14-14.\", \"14-7.\", \"15-1.\", \"15-20.\", \"16-1.\", \"16-16.\", \"17-10.\", \"17-11.\", \"17-2.\", \"19-1.\", \"19-16.\", \"19-19.\", \"19-20.\", \"19-3.\", \"2-10.\", \"2-11.\", \"2-17.\", \"2-18.\", \"2-20.\", \"2-3.\", \"2-4.\", \"2-5.\", \"2-6.\", \"2-7.\", \"2-8.\", \"3-13.\", \"3-18.\", \"3-3.\", \"4-1.\", \"4-10.\", \"4-11.\", \"4-19.\", \"5-5.\", \"6-15.\", \"7-10.\", \"7-14.\", \"8-18.\", \"8-20.\", \"8-3.\", \"8-8.\"], \"domains\": [1, 2, 3, 4, 5], \"num_examples_per_domain_per_label\": -1, \"pickle_path\": \"/root/csc500-main/datasets/cores.stratified_ds.2022A.pkl\", \"source_or_target_dataset\": \"target\", \"x_transforms\": [\"unit_power\"], \"episode_transforms\": [], \"domain_prefix\": \"CORES_\"}, {\"labels\": [\"3123D52\", \"3123D65\", \"3123D79\", \"3123D80\", \"3123D54\", \"3123D70\", \"3123D7B\", \"3123D89\", \"3123D58\", \"3123D76\", \"3123D7D\", \"3123EFE\", \"3123D64\", \"3123D78\", \"3123D7E\", \"3124E4A\"], \"domains\": [32, 38, 8, 44, 14, 50, 20, 26], \"num_examples_per_domain_per_label\": 2000, \"pickle_path\": \"/root/csc500-main/datasets/oracle.Run1_framed_2000Examples_stratified_ds.2022A.pkl\", \"source_or_target_dataset\": \"source\", \"x_transforms\": [\"unit_power\"], \"episode_transforms\": [], \"domain_prefix\": \"ORACLE.run1_\"}], \"dataset_seed\": 7, \"seed\": 7, \"x_shape\": [2, 256], \"domains_source\": [\"ORACLE.run1_32\", \"ORACLE.run1_38\", \"ORACLE.run1_8\", \"ORACLE.run1_44\", \"ORACLE.run1_14\", \"ORACLE.run1_50\", \"ORACLE.run1_20\", \"ORACLE.run1_26\"], \"domains_target\": [\"CORES_1\", \"CORES_2\", \"CORES_3\", \"CORES_4\", \"CORES_5\"]}, \"results\": {\"source_test_label_accuracy\": 0.896484375, \"source_test_label_loss\": 0.2941964864730835, \"target_test_label_accuracy\": 0.809957627118644, \"target_test_label_loss\": 115.18451690673828, \"source_val_label_accuracy\": 0.8918619791666667, \"source_val_label_loss\": 0.30179235339164734, \"target_val_label_accuracy\": 0.8069285714285714, \"target_val_label_loss\": 115.5981674194336, \"total_epochs_trained\": 11, \"total_experiment_time_secs\": 2883.9134669303894, \"confusion\": {\"ORACLE.run1_26\": {\"0\": {\"10\": 57, \"8\": 24, \"14\": 41, \"4\": 18, \"0\": 97, \"7\": 2, \"1\": 1}, \"4\": {\"4\": 201, \"7\": 11, \"14\": 16, \"8\": 7, \"0\": 4, \"1\": 1}, \"14\": {\"0\": 31, \"14\": 168, \"1\": 4, \"4\": 22, \"10\": 9, \"8\": 6}, \"12\": {\"12\": 240}, \"8\": {\"8\": 156, \"14\": 5, \"4\": 17, \"7\": 17, \"10\": 25, \"0\": 17, \"2\": 1, \"15\": 2}, \"7\": {\"7\": 196, \"3\": 16, \"4\": 15, \"2\": 6, \"0\": 2, \"8\": 5}, \"13\": {\"13\": 217, \"5\": 20, \"15\": 2, \"2\": 1}, \"5\": {\"15\": 1, \"5\": 215, \"2\": 11, \"13\": 13}, \"15\": {\"15\": 203, \"9\": 20, \"7\": 1, \"8\": 4, \"6\": 7, \"10\": 2, \"2\": 1, \"13\": 1, \"0\": 1}, \"10\": {\"10\": 137, \"8\": 26, \"0\": 63, \"4\": 2, \"14\": 10, \"15\": 2}, \"3\": {\"3\": 189, \"2\": 41, \"7\": 10}, \"9\": {\"9\": 211, \"15\": 21, \"13\": 5, \"6\": 1, \"5\": 2}, \"6\": {\"6\": 223, \"15\": 7, \"9\": 7, \"10\": 2, \"0\": 1}, \"1\": {\"1\": 227, \"14\": 7, \"7\": 2, \"4\": 1, \"3\": 3}, \"11\": {\"11\": 240}, \"2\": {\"2\": 132, \"3\": 57, \"7\": 23, \"15\": 7, \"5\": 14, \"13\": 4, \"9\": 3}}, \"ORACLE.run1_44\": {\"1\": {\"10\": 6, \"1\": 197, \"12\": 26, \"3\": 6, \"7\": 1, \"2\": 4}, \"11\": {\"11\": 237, \"13\": 3}, \"3\": {\"3\": 238, \"1\": 1, \"12\": 1}, \"6\": {\"9\": 18, \"6\": 183, \"13\": 37, \"7\": 2}, \"7\": {\"9\": 38, \"7\": 177, \"2\": 21, \"6\": 4}, \"5\": {\"5\": 214, \"0\": 7, \"8\": 4, \"14\": 7, \"15\": 8}, \"2\": {\"2\": 220, \"10\": 3, \"3\": 2, \"7\": 12, \"1\": 3}, \"15\": {\"15\": 206, \"14\": 12, \"0\": 10, \"8\": 4, \"5\": 8}, \"10\": {\"10\": 215, \"2\": 5, \"1\": 19, \"12\": 1}, \"13\": {\"13\": 190, \"9\": 22, \"6\": 27, \"11\": 1}, \"8\": {\"0\": 78, \"8\": 155, \"15\": 7}, \"4\": {\"4\": 196, \"14\": 44}, \"9\": {\"9\": 136, \"7\": 53, \"13\": 32, \"6\": 19}, \"14\": {\"14\": 164, \"4\": 56, \"5\": 6, \"15\": 14}, \"0\": {\"0\": 176, \"8\": 48, \"15\": 8, \"5\": 8}, \"12\": {\"12\": 221, \"1\": 16, \"3\": 2, \"10\": 1}}, \"ORACLE.run1_50\": {\"15\": {\"15\": 227, \"4\": 4, \"1\": 7, \"11\": 2}, \"4\": {\"4\": 178, \"15\": 24, \"5\": 28, \"1\": 7, \"7\": 3}, \"6\": {\"6\": 224, \"4\": 2, \"15\": 4, \"7\": 5, \"5\": 2, \"13\": 3}, \"2\": {\"2\": 228, \"0\": 12}, \"5\": {\"5\": 163, \"7\": 23, \"1\": 15, \"4\": 25, \"13\": 13, \"6\": 1}, \"9\": {\"9\": 235, \"11\": 4, \"12\": 1}, \"8\": {\"8\": 239, \"10\": 1}, \"12\": {\"12\": 238, \"9\": 2}, \"10\": {\"10\": 238, \"0\": 1, \"13\": 1}, \"1\": {\"1\": 218, \"13\": 1, \"15\": 16, \"5\": 1, \"6\": 3, \"11\": 1}, \"0\": {\"0\": 224, \"2\": 12, \"10\": 4}, \"3\": {\"3\": 240}, \"13\": {\"13\": 232, \"6\": 2, \"5\": 4, \"7\": 2}, \"11\": {\"11\": 229, \"15\": 7, \"12\": 3, \"4\": 1}, \"7\": {\"7\": 218, \"5\": 10, \"13\": 8, \"4\": 2, \"6\": 2}, \"14\": {\"14\": 240}}, \"ORACLE.run1_38\": {\"15\": {\"15\": 223, \"8\": 10, \"1\": 6, \"5\": 1}, \"11\": {\"11\": 239, \"10\": 1}, \"10\": {\"10\": 221, \"0\": 4, \"13\": 14, \"7\": 1}, \"14\": {\"14\": 235, \"2\": 5}, \"6\": {\"6\": 240}, \"4\": {\"4\": 240}, \"13\": {\"13\": 222, \"10\": 6, \"8\": 4, \"0\": 5, \"2\": 1, \"15\": 2}, \"3\": {\"3\": 237, \"7\": 1, \"0\": 1, \"11\": 1}, \"7\": {\"7\": 223, \"5\": 10, \"8\": 5, \"0\": 2}, \"8\": {\"8\": 193, \"7\": 9, \"5\": 34, \"0\": 2, \"10\": 1, \"13\": 1}, \"1\": {\"1\": 236, \"15\": 4}, \"5\": {\"5\": 153, \"8\": 53, \"7\": 17, \"15\": 7, \"0\": 4, \"9\": 5, \"6\": 1}, \"0\": {\"0\": 217, \"7\": 5, \"5\": 2, \"3\": 6, \"10\": 2, \"8\": 8}, \"2\": {\"2\": 231, \"13\": 6, \"14\": 3}, \"12\": {\"12\": 240}, \"9\": {\"9\": 239, \"6\": 1}}, \"ORACLE.run1_20\": {\"10\": {\"10\": 238, \"6\": 1, \"14\": 1}, \"7\": {\"7\": 236, \"2\": 3, \"3\": 1}, \"4\": {\"4\": 239, \"5\": 1}, \"13\": {\"13\": 239, \"2\": 1}, \"1\": {\"1\": 210, \"12\": 26, \"15\": 2, \"5\": 2}, \"0\": {\"5\": 19, \"0\": 210, \"15\": 10, \"8\": 1}, \"12\": {\"12\": 188, \"9\": 7, \"1\": 25, \"3\": 16, \"5\": 1, \"2\": 2, \"7\": 1}, \"5\": {\"1\": 3, \"5\": 219, \"12\": 2, \"15\": 4, \"0\": 12}, \"6\": {\"6\": 234, \"14\": 6}, \"2\": {\"12\": 11, \"3\": 6, \"2\": 174, \"7\": 15, \"9\": 29, \"13\": 3, \"1\": 2}, \"8\": {\"8\": 233, \"14\": 1, \"7\": 3, \"4\": 3}, \"11\": {\"11\": 240}, \"9\": {\"9\": 193, \"3\": 11, \"2\": 29, \"12\": 7}, \"14\": {\"14\": 222, \"6\": 18}, \"15\": {\"15\": 224, \"1\": 5, \"5\": 8, \"0\": 3}, \"3\": {\"3\": 182, \"12\": 26, \"9\": 19, \"10\": 1, \"4\": 1, \"2\": 7, \"1\": 3, \"7\": 1}}, \"ORACLE.run1_14\": {\"14\": {\"14\": 206, \"3\": 2, \"2\": 28, \"6\": 3, \"13\": 1}, \"0\": {\"0\": 237, \"10\": 3}, \"4\": {\"4\": 232, \"5\": 7, \"3\": 1}, \"11\": {\"11\": 236, \"9\": 4}, \"13\": {\"13\": 158, \"6\": 65, \"2\": 7, \"14\": 4, \"7\": 1, \"5\": 2, \"4\": 3}, \"9\": {\"9\": 240}, \"3\": {\"3\": 235, \"2\": 3, \"4\": 2}, \"6\": {\"13\": 38, \"6\": 200, \"14\": 1, \"2\": 1}, \"1\": {\"1\": 238, \"5\": 2}, \"5\": {\"5\": 218, \"2\": 1, \"4\": 16, \"1\": 4, \"3\": 1}, \"12\": {\"12\": 239, \"9\": 1}, \"10\": {\"10\": 240}, \"8\": {\"8\": 240}, \"7\": {\"7\": 240}, \"15\": {\"15\": 240}, \"2\": {\"2\": 141, \"14\": 58, \"3\": 6, \"5\": 17, \"6\": 16, \"13\": 2}}, \"ORACLE.run1_32\": {\"11\": {\"11\": 235, \"14\": 4, \"13\": 1}, \"1\": {\"1\": 240}, \"2\": {\"2\": 211, \"4\": 27, \"7\": 2}, \"0\": {\"0\": 206, \"5\": 2, \"7\": 3, \"8\": 13, \"14\": 16}, \"3\": {\"3\": 235, \"8\": 1, \"13\": 4}, \"8\": {\"3\": 1, \"8\": 226, \"0\": 10, \"14\": 1, \"5\": 1, \"13\": 1}, \"12\": {\"12\": 240}, \"5\": {\"5\": 167, \"7\": 58, \"13\": 6, \"8\": 2, \"3\": 3, \"0\": 1, \"4\": 2, \"14\": 1}, \"15\": {\"15\": 239, \"8\": 1}, \"7\": {\"5\": 47, \"7\": 181, \"14\": 1, \"4\": 8, \"13\": 1, \"11\": 1, \"2\": 1}, \"4\": {\"2\": 24, \"4\": 200, \"7\": 7, \"13\": 3, \"5\": 6}, \"14\": {\"14\": 201, \"0\": 16, \"11\": 15, \"5\": 4, \"8\": 2, \"7\": 2}, \"10\": {\"10\": 240}, \"6\": {\"6\": 240}, \"13\": {\"13\": 213, \"5\": 10, \"11\": 1, \"8\": 1, \"4\": 6, \"3\": 7, \"7\": 2}, \"9\": {\"9\": 239, \"12\": 1}}, \"ORACLE.run1_8\": {\"9\": {\"9\": 240}, \"11\": {\"11\": 236, \"1\": 4}, \"8\": {\"8\": 240}, \"4\": {\"4\": 219, \"14\": 7, \"13\": 10, \"10\": 1, \"6\": 3}, \"13\": {\"13\": 151, \"10\": 17, \"4\": 27, \"6\": 9, \"0\": 33, \"14\": 3}, \"14\": {\"14\": 211, \"10\": 13, \"4\": 13, \"1\": 3}, \"2\": {\"2\": 234, \"3\": 2, \"7\": 4}, \"3\": {\"3\": 237, \"2\": 1, \"12\": 2}, \"1\": {\"1\": 239, \"14\": 1}, \"0\": {\"13\": 17, \"0\": 220, \"6\": 1, \"7\": 2}, \"5\": {\"5\": 222, \"10\": 7, \"14\": 2, \"1\": 9}, \"15\": {\"15\": 228, \"12\": 12}, \"10\": {\"10\": 226, \"13\": 5, \"14\": 8, \"4\": 1}, \"12\": {\"12\": 192, \"15\": 40, \"3\": 6, \"8\": 2}, \"6\": {\"6\": 215, \"7\": 19, \"4\": 4, \"13\": 2}, \"7\": {\"7\": 217, \"13\": 1, \"6\": 20, \"12\": 1, \"0\": 1}}, \"CORES_5\": {\"26\": {\"26\": 24}, \"7\": {\"30\": 1, \"7\": 31}, \"56\": {\"56\": 135, \"24\": 2, \"35\": 3, \"29\": 1, \"43\": 1}, \"36\": {\"36\": 83, \"28\": 1, \"16\": 2, \"33\": 1, \"49\": 2, \"40\": 1, \"21\": 1, \"43\": 1}, \"47\": {\"36\": 3, \"47\": 59, \"28\": 3, \"14\": 4, \"15\": 2, \"37\": 1, \"34\": 5, \"43\": 2, \"3\": 3, \"16\": 1, \"11\": 9, \"40\": 2, \"46\": 2, \"29\": 1, \"49\": 2, \"0\": 1}, \"2\": {\"40\": 1, \"2\": 20, \"15\": 1, \"34\": 1, \"43\": 2, \"29\": 2, \"14\": 1}, \"15\": {\"15\": 126, \"28\": 2, \"11\": 11, \"35\": 2, \"43\": 2, \"0\": 9}, \"14\": {\"11\": 5, \"47\": 6, \"2\": 1, \"14\": 16, \"28\": 4, \"56\": 3, \"44\": 1, \"29\": 2, \"31\": 1, \"40\": 1, \"3\": 1, \"34\": 2, \"46\": 1}, \"27\": {\"27\": 122, \"7\": 2, \"9\": 14, \"30\": 2, \"12\": 1, \"51\": 1, \"1\": 1, \"17\": 2, \"48\": 1}, \"40\": {\"40\": 109, \"2\": 1, \"28\": 2, \"29\": 3, \"44\": 6, \"43\": 2, \"34\": 1}, \"49\": {\"49\": 32, \"3\": 2, \"36\": 2}, \"45\": {\"45\": 61, \"27\": 9, \"32\": 3, \"51\": 4, \"12\": 4, \"7\": 2, \"6\": 2, \"55\": 11, \"9\": 11, \"53\": 1, \"50\": 2, \"19\": 2, \"4\": 5, \"20\": 4, \"17\": 1, \"1\": 1, \"48\": 1}, \"46\": {\"46\": 98, \"15\": 1, \"57\": 10, \"52\": 8, \"16\": 6, \"3\": 3, \"40\": 1, \"29\": 3, \"43\": 1, \"11\": 2, \"37\": 1, \"35\": 1, \"0\": 1}, \"11\": {\"11\": 116, \"3\": 1, \"15\": 7, \"47\": 1, \"0\": 4, \"14\": 1}, \"30\": {\"30\": 100, \"48\": 1, \"53\": 8, \"27\": 2, \"1\": 1}, \"0\": {\"0\": 119, \"15\": 4, \"14\": 1}, \"10\": {\"10\": 63, \"22\": 1, \"56\": 1, \"24\": 1, \"13\": 1, \"43\": 1}, \"1\": {\"1\": 99, \"17\": 6, \"26\": 3, \"8\": 15, \"48\": 24, \"53\": 1}, \"42\": {\"42\": 38, \"10\": 1, \"5\": 1}, \"54\": {\"54\": 112}, \"55\": {\"55\": 126, \"19\": 9, \"51\": 4, \"45\": 7, \"50\": 1, \"4\": 1, \"32\": 2, \"20\": 1, \"9\": 1}, \"23\": {\"42\": 6, \"23\": 99, \"18\": 3, \"54\": 14, \"39\": 2}, \"25\": {\"25\": 130, \"40\": 6, \"21\": 6, \"47\": 1, \"50\": 5, \"8\": 1, \"5\": 1, \"19\": 1, \"36\": 1}, \"28\": {\"28\": 31, \"3\": 1}, \"32\": {\"32\": 29, \"20\": 2, \"12\": 1}, \"9\": {\"9\": 101, \"27\": 25, \"45\": 3, \"51\": 4, \"6\": 2, \"53\": 1, \"20\": 2, \"19\": 3, \"44\": 1}, \"39\": {\"39\": 14, \"42\": 4, \"23\": 2}, \"3\": {\"28\": 3, \"46\": 5, \"3\": 51, \"16\": 2, \"43\": 4, \"2\": 1, \"34\": 2, \"49\": 1, \"52\": 4, \"14\": 1, \"11\": 7, \"22\": 1, \"57\": 2, \"56\": 2, \"0\": 3, \"47\": 2, \"15\": 3, \"36\": 1, \"37\": 1, \"29\": 2, \"21\": 2}, \"29\": {\"29\": 111, \"43\": 1, \"14\": 2, \"15\": 2, \"11\": 2}, \"17\": {\"17\": 97, \"1\": 7, \"48\": 9, \"51\": 1, \"26\": 2}, \"35\": {\"35\": 34, \"0\": 1, \"56\": 1}, \"44\": {\"5\": 21, \"44\": 118, \"40\": 11, \"29\": 1, \"43\": 1}, \"5\": {\"44\": 18, \"5\": 91, \"40\": 17, \"19\": 2}, \"33\": {\"33\": 32}, \"34\": {\"5\": 1, \"34\": 33, \"22\": 1, \"40\": 1}, \"13\": {\"13\": 126, \"10\": 10, \"24\": 2}, \"41\": {\"41\": 26, \"57\": 1, \"52\": 1}, \"6\": {\"6\": 28, \"51\": 8, \"38\": 4, \"1\": 9, \"4\": 4, \"48\": 15, \"17\": 14, \"27\": 3, \"8\": 7, \"20\": 6, \"45\": 3, \"53\": 5, \"9\": 10, \"30\": 3, \"26\": 3, \"12\": 3, \"32\": 2, \"50\": 1}, \"51\": {\"6\": 1, \"51\": 109, \"32\": 1, \"20\": 12, \"9\": 12, \"55\": 1, \"53\": 1, \"27\": 1}, \"50\": {\"33\": 1, \"6\": 3, \"57\": 5, \"27\": 6, \"25\": 18, \"50\": 64, \"41\": 2, \"20\": 6, \"53\": 7, \"19\": 6, \"9\": 5, \"5\": 2, \"55\": 6, \"40\": 1, \"51\": 3, \"30\": 1, \"21\": 4, \"44\": 1, \"8\": 2, \"48\": 1}, \"37\": {\"37\": 24}, \"19\": {\"50\": 3, \"19\": 139, \"4\": 1, \"55\": 1}, \"57\": {\"57\": 116, \"52\": 14, \"23\": 2}, \"21\": {\"21\": 144}, \"24\": {\"24\": 76, \"56\": 1, \"0\": 2, \"15\": 1}, \"8\": {\"8\": 101, \"1\": 8, \"48\": 15, \"17\": 6}, \"12\": {\"12\": 74, \"27\": 1, \"38\": 1, \"7\": 1, \"17\": 2, \"6\": 6, \"4\": 2, \"1\": 1, \"48\": 2, \"8\": 1, \"30\": 2, \"9\": 1, \"45\": 1, \"51\": 1}, \"48\": {\"26\": 2, \"8\": 15, \"48\": 89, \"12\": 1, \"1\": 15, \"30\": 1, \"17\": 7, \"6\": 2}, \"43\": {\"43\": 121, \"15\": 16, \"11\": 6, \"2\": 2, \"29\": 4, \"3\": 1}, \"53\": {\"53\": 118, \"27\": 2, \"8\": 5, \"6\": 4, \"30\": 6, \"1\": 3, \"48\": 8, \"38\": 1, \"17\": 1}, \"38\": {\"38\": 32}, \"16\": {\"16\": 124, \"3\": 3, \"46\": 6, \"47\": 2, \"52\": 4, \"57\": 1, \"37\": 1, \"11\": 1}, \"22\": {\"22\": 23, \"13\": 1, \"43\": 1, \"10\": 2, \"56\": 1}, \"4\": {\"4\": 98, \"45\": 2}, \"18\": {\"1\": 4, \"18\": 55, \"54\": 3, \"41\": 1, \"23\": 1}, \"20\": {\"20\": 110, \"12\": 1, \"51\": 14, \"45\": 3, \"6\": 3, \"9\": 5, \"27\": 3, \"7\": 1, \"8\": 1, \"21\": 1, \"50\": 2}, \"52\": {\"52\": 115, \"57\": 12, \"46\": 5, \"3\": 1, \"16\": 4, \"28\": 1, \"42\": 1, \"11\": 1}, \"31\": {\"31\": 33, \"28\": 1, \"14\": 1, \"3\": 1}}, \"CORES_1\": {\"41\": {\"51\": 2, \"41\": 22}, \"40\": {\"40\": 107, \"12\": 1, \"4\": 2}, \"45\": {\"45\": 133, \"25\": 4, \"53\": 1}, \"51\": {\"41\": 2, \"51\": 133, \"20\": 6, \"13\": 7}, \"5\": {\"48\": 16, \"5\": 104, \"6\": 11, \"9\": 6, \"8\": 7, \"2\": 2, \"17\": 1, \"50\": 7}, \"30\": {\"30\": 96, \"26\": 2, \"14\": 1, \"17\": 4, \"50\": 2, \"8\": 3, \"5\": 1, \"53\": 2, \"18\": 3, \"9\": 5, \"48\": 1}, \"42\": {\"42\": 36, \"25\": 3, \"1\": 1}, \"46\": {\"46\": 104, \"40\": 3, \"41\": 1, \"51\": 2, \"4\": 9, \"53\": 7, \"50\": 4, \"5\": 4, \"13\": 1, \"6\": 1}, \"48\": {\"48\": 129, \"2\": 1, \"6\": 4}, \"53\": {\"53\": 128, \"6\": 4, \"9\": 4, \"17\": 2, \"8\": 1, \"5\": 2, \"48\": 3}, \"47\": {\"49\": 3, \"47\": 109, \"52\": 8, \"43\": 11, \"11\": 7, \"10\": 9, \"55\": 2, \"31\": 1, \"24\": 1, \"22\": 1}, \"49\": {\"49\": 29, \"43\": 1, \"10\": 1, \"11\": 1}, \"36\": {\"32\": 1, \"36\": 56, \"23\": 4, \"21\": 1, \"0\": 1, \"15\": 1}, \"32\": {\"36\": 2, \"32\": 25, \"56\": 1, \"19\": 2, \"0\": 1, \"35\": 1}, \"34\": {\"34\": 22, \"37\": 1, \"33\": 1}, \"29\": {\"29\": 131, \"57\": 4, \"35\": 1, \"56\": 2, \"13\": 1, \"3\": 1}, \"35\": {\"32\": 1, \"35\": 33, \"44\": 1, \"55\": 1}, \"3\": {\"3\": 113, \"29\": 8, \"55\": 5, \"47\": 2, \"11\": 1, \"44\": 2, \"54\": 1, \"15\": 2}, \"16\": {\"16\": 131, \"54\": 6, \"33\": 1, \"45\": 1, \"23\": 1}, \"26\": {\"26\": 22, \"25\": 1, \"6\": 1}, \"57\": {\"57\": 114, \"56\": 17, \"32\": 2, \"29\": 3, \"20\": 5, \"3\": 1, \"19\": 1, \"1\": 1}, \"44\": {\"44\": 101, \"35\": 5, \"15\": 6, \"32\": 1, \"0\": 3, \"55\": 3, \"3\": 3, \"57\": 2, \"56\": 3, \"29\": 1}, \"0\": {\"0\": 121, \"21\": 6, \"23\": 6, \"11\": 4, \"15\": 14, \"24\": 1}, \"4\": {\"4\": 127, \"46\": 4, \"51\": 1}, \"31\": {\"31\": 25, \"10\": 2, \"52\": 1}, \"11\": {\"11\": 101, \"21\": 4, \"0\": 9, \"22\": 13, \"10\": 2, \"15\": 7, \"24\": 4}, \"6\": {\"48\": 16, \"6\": 34, \"8\": 22, \"14\": 2, \"2\": 5, \"50\": 8, \"9\": 6, \"5\": 3}, \"54\": {\"54\": 104}, \"17\": {\"2\": 5, \"17\": 38, \"8\": 10, \"50\": 4, \"6\": 5, \"9\": 1, \"5\": 1}, \"20\": {\"20\": 127, \"19\": 1}, \"13\": {\"13\": 142, \"20\": 6, \"51\": 2}, \"33\": {\"33\": 32}, \"24\": {\"11\": 4, \"39\": 2, \"24\": 70, \"22\": 14, \"10\": 13, \"49\": 1, \"52\": 3, \"27\": 1}, \"52\": {\"52\": 91, \"49\": 1, \"39\": 2, \"10\": 12, \"43\": 9, \"24\": 8, \"55\": 1, \"47\": 5, \"27\": 1, \"35\": 1, \"22\": 1}, \"2\": {\"2\": 34, \"48\": 2}, \"19\": {\"19\": 125, \"42\": 4, \"1\": 18, \"56\": 2, \"20\": 1, \"45\": 3, \"57\": 3}, \"39\": {\"24\": 2, \"39\": 26}, \"8\": {\"8\": 119, \"48\": 15, \"6\": 3, \"2\": 2, \"9\": 1}, \"21\": {\"21\": 105, \"11\": 3, \"0\": 6, \"23\": 1, \"15\": 8, \"22\": 1}, \"10\": {\"10\": 73, \"49\": 1, \"11\": 5, \"47\": 1, \"24\": 11, \"27\": 1, \"39\": 1, \"43\": 1, \"52\": 2}, \"37\": {\"37\": 32}, \"25\": {\"25\": 140, \"45\": 3, \"44\": 1}, \"27\": {\"27\": 128, \"11\": 1, \"43\": 1}, \"23\": {\"23\": 128, \"0\": 4, \"36\": 2, \"15\": 2}, \"1\": {\"1\": 75, \"42\": 5, \"19\": 12, \"57\": 4, \"25\": 2, \"45\": 2}, \"50\": {\"50\": 121, \"48\": 17, \"2\": 1, \"8\": 10, \"6\": 3}, \"12\": {\"12\": 101, \"51\": 6, \"20\": 7, \"56\": 1, \"3\": 1}, \"18\": {\"18\": 70, \"37\": 1, \"30\": 1}, \"38\": {\"38\": 22, \"22\": 1, \"0\": 1}, \"14\": {\"14\": 14, \"30\": 1, \"9\": 2, \"18\": 3, \"53\": 3, \"50\": 1}, \"56\": {\"56\": 91, \"44\": 8, \"20\": 5, \"19\": 8, \"57\": 19, \"29\": 7, \"55\": 1, \"12\": 1, \"3\": 1, \"1\": 1}, \"55\": {\"55\": 139, \"49\": 1, \"44\": 4, \"35\": 2, \"3\": 8, \"56\": 2, \"57\": 1, \"11\": 2, \"15\": 1}, \"9\": {\"9\": 130, \"8\": 5, \"17\": 2, \"50\": 1}, \"15\": {\"15\": 95, \"44\": 4, \"21\": 11, \"0\": 21, \"24\": 1, \"11\": 10, \"23\": 2, \"36\": 1, \"22\": 1}, \"28\": {\"28\": 28}, \"7\": {\"51\": 1, \"7\": 24, \"1\": 1, \"46\": 1, \"13\": 1}, \"43\": {\"43\": 98, \"10\": 6, \"11\": 2, \"27\": 14, \"52\": 15, \"47\": 1}, \"22\": {\"22\": 95, \"10\": 5, \"11\": 10, \"49\": 1, \"24\": 12, \"21\": 7, \"0\": 3, \"52\": 1, \"23\": 1, \"15\": 1}}, \"CORES_3\": {\"1\": {\"1\": 69, \"0\": 2, \"41\": 1, \"34\": 1, \"47\": 6, \"46\": 1, \"57\": 11, \"3\": 1, \"15\": 2, \"5\": 3, \"25\": 1, \"29\": 2}, \"9\": {\"50\": 1, \"9\": 113, \"6\": 3, \"40\": 1, \"51\": 3, \"20\": 1, \"18\": 1, \"3\": 1}, \"22\": {\"56\": 6, \"31\": 3, \"22\": 107, \"55\": 2, \"13\": 7, \"24\": 4, \"10\": 3, \"14\": 4}, \"43\": {\"43\": 128, \"28\": 2, \"7\": 1, \"24\": 3, \"11\": 1, \"49\": 1}, \"49\": {\"49\": 20}, \"50\": {\"50\": 66, \"25\": 10, \"53\": 3, \"54\": 2, \"46\": 1, \"17\": 2, \"6\": 4, \"2\": 2, \"30\": 13, \"8\": 11, \"44\": 1, \"3\": 5, \"36\": 3, \"29\": 2, \"51\": 1, \"19\": 1, \"27\": 3, \"52\": 1, \"21\": 3, \"38\": 1, \"18\": 2, \"9\": 1}, \"53\": {\"53\": 124, \"8\": 5, \"17\": 4, \"27\": 2, \"32\": 1}, \"10\": {\"10\": 54, \"56\": 1, \"31\": 1, \"24\": 5, \"22\": 1, \"14\": 2}, \"48\": {\"48\": 85, \"40\": 1, \"18\": 4, \"8\": 1, \"30\": 7, \"50\": 5, \"6\": 1, \"54\": 1, \"55\": 1, \"52\": 6, \"47\": 1, \"7\": 1, \"11\": 1, \"3\": 1}, \"8\": {\"8\": 109, \"17\": 2, \"54\": 15, \"36\": 11, \"45\": 1}, \"31\": {\"31\": 28}, \"56\": {\"56\": 131, \"31\": 1, \"22\": 2}, \"25\": {\"25\": 82, \"9\": 2, \"33\": 3, \"1\": 6, \"6\": 2, \"41\": 2, \"52\": 3, \"29\": 13, \"3\": 11, \"50\": 6, \"57\": 2, \"48\": 1, \"55\": 1, \"30\": 3, \"5\": 1, \"46\": 3, \"44\": 1}, \"28\": {\"28\": 25, \"43\": 2, \"7\": 1}, \"38\": {\"38\": 26, \"32\": 1, \"54\": 1}, \"5\": {\"5\": 84, \"43\": 2, \"47\": 6, \"57\": 3, \"0\": 6, \"15\": 8, \"46\": 3, \"29\": 1, \"1\": 1, \"11\": 2}, \"12\": {\"12\": 71, \"17\": 4, \"36\": 2, \"27\": 7, \"4\": 2, \"45\": 1, \"38\": 1, \"33\": 1, \"51\": 1, \"20\": 2}, \"6\": {\"25\": 3, \"46\": 6, \"21\": 6, \"6\": 18, \"19\": 1, \"48\": 6, \"54\": 1, \"45\": 1, \"40\": 3, \"3\": 4, \"52\": 4, \"50\": 8, \"18\": 3, \"9\": 3, \"17\": 3, \"29\": 1, \"36\": 2, \"51\": 1, \"44\": 1, \"8\": 4, \"4\": 2, \"30\": 3, \"42\": 1, \"27\": 1, \"1\": 1, \"20\": 1}, \"19\": {\"19\": 142, \"40\": 8, \"44\": 2}, \"26\": {\"26\": 20, \"35\": 1, \"5\": 1, \"39\": 1, \"16\": 1}, \"32\": {\"32\": 28}, \"33\": {\"25\": 2, \"17\": 2, \"33\": 21, \"3\": 1, \"50\": 1, \"9\": 1}, \"3\": {\"33\": 1, \"3\": 62, \"46\": 5, \"21\": 3, \"18\": 6, \"52\": 1, \"25\": 4, \"50\": 10, \"9\": 3, \"30\": 4, \"53\": 3, \"27\": 2, \"6\": 2, \"20\": 1, \"48\": 5, \"29\": 1, \"41\": 2, \"17\": 1, \"54\": 1, \"57\": 1}, \"51\": {\"51\": 117, \"6\": 1, \"20\": 6, \"53\": 1, \"12\": 1, \"9\": 1, \"45\": 1}, \"16\": {\"16\": 121, \"35\": 1, \"37\": 1, \"23\": 2, \"52\": 1, \"15\": 6, \"39\": 2, \"26\": 2, \"57\": 1, \"5\": 1}, \"46\": {\"33\": 1, \"3\": 11, \"46\": 88, \"9\": 1, \"48\": 1, \"41\": 2, \"34\": 1, \"25\": 12, \"29\": 8, \"55\": 2, \"50\": 5, \"7\": 1, \"53\": 1, \"6\": 2, \"11\": 1, \"57\": 1, \"1\": 2}, \"7\": {\"7\": 34, \"43\": 1, \"13\": 1}, \"47\": {\"7\": 1, \"47\": 60, \"57\": 8, \"1\": 3, \"15\": 2, \"0\": 5, \"5\": 6, \"29\": 1, \"11\": 4, \"13\": 1, \"46\": 1}, \"39\": {\"39\": 16}, \"40\": {\"40\": 129, \"4\": 1, \"21\": 2, \"42\": 1, \"19\": 1, \"44\": 2}, \"14\": {\"14\": 26, \"10\": 7, \"31\": 1, \"43\": 1, \"56\": 5}, \"37\": {\"37\": 28}, \"2\": {\"2\": 32}, \"21\": {\"21\": 110, \"2\": 1, \"9\": 1, \"6\": 1, \"40\": 3, \"12\": 1, \"51\": 2, \"20\": 1}, \"35\": {\"35\": 28}, \"54\": {\"54\": 91, \"8\": 3, \"36\": 6}, \"52\": {\"52\": 93, \"18\": 4, \"48\": 2, \"23\": 9, \"16\": 5, \"3\": 1, \"6\": 2}, \"29\": {\"29\": 111, \"46\": 1, \"57\": 2, \"1\": 4}, \"20\": {\"20\": 88, \"27\": 7, \"21\": 4, \"51\": 24, \"12\": 2, \"6\": 1, \"53\": 3, \"3\": 2, \"9\": 1}, \"18\": {\"18\": 58, \"6\": 4, \"30\": 7, \"48\": 8, \"50\": 3, \"52\": 3, \"23\": 1}, \"11\": {\"11\": 123, \"47\": 5, \"0\": 1, \"57\": 1, \"1\": 1, \"5\": 7, \"7\": 1, \"15\": 3}, \"0\": {\"0\": 99, \"15\": 20, \"5\": 3, \"57\": 1, \"11\": 1}, \"36\": {\"36\": 90, \"54\": 6, \"8\": 4}, \"17\": {\"17\": 88, \"38\": 3, \"32\": 2, \"54\": 9, \"36\": 3, \"8\": 2, \"27\": 1}, \"30\": {\"48\": 7, \"30\": 91, \"6\": 1, \"38\": 1, \"3\": 2, \"50\": 5, \"54\": 2, \"18\": 3, \"8\": 1, \"17\": 1}, \"42\": {\"42\": 22, \"40\": 2, \"19\": 2, \"29\": 2}, \"45\": {\"4\": 4, \"45\": 44, \"12\": 5, \"2\": 2, \"21\": 3, \"20\": 1, \"40\": 1}, \"4\": {\"45\": 3, \"4\": 140, \"21\": 2, \"19\": 2, \"51\": 1}, \"23\": {\"23\": 129, \"52\": 1, \"16\": 2, \"43\": 1, \"47\": 1}, \"13\": {\"13\": 115, \"10\": 1, \"14\": 1, \"22\": 7, \"24\": 3, \"56\": 1}, \"15\": {\"5\": 14, \"15\": 81, \"26\": 1, \"1\": 1, \"47\": 3, \"0\": 13, \"10\": 1, \"57\": 9, \"11\": 2, \"43\": 1, \"22\": 1, \"16\": 1}, \"57\": {\"15\": 10, \"57\": 91, \"1\": 9, \"47\": 2, \"5\": 5, \"16\": 1, \"26\": 1, \"0\": 4, \"29\": 1}, \"27\": {\"27\": 130, \"53\": 1, \"17\": 2, \"51\": 1}, \"44\": {\"44\": 79, \"40\": 7, \"19\": 1, \"21\": 1}, \"34\": {\"34\": 30, \"47\": 1, \"57\": 1}, \"41\": {\"41\": 25, \"37\": 1, \"52\": 1, \"29\": 1}, \"24\": {\"24\": 96, \"56\": 1, \"22\": 3, \"49\": 1, \"43\": 2, \"10\": 1}, \"55\": {\"22\": 16, \"55\": 71, \"13\": 22, \"24\": 3, \"34\": 1, \"11\": 1, \"19\": 1, \"7\": 1, \"14\": 2}}, \"CORES_4\": {\"52\": {\"41\": 1, \"52\": 105, \"39\": 1, \"35\": 1, \"23\": 2, \"47\": 1, \"5\": 2, \"16\": 1, \"57\": 1, \"46\": 1}, \"6\": {\"40\": 9, \"45\": 6, \"53\": 5, \"28\": 1, \"33\": 2, \"19\": 4, \"6\": 41, \"3\": 2, \"21\": 3, \"44\": 1, \"50\": 7, \"55\": 2, \"4\": 12, \"51\": 4, \"25\": 3, \"20\": 4, \"5\": 1, \"9\": 2, \"49\": 1, \"17\": 1, \"36\": 1}, \"14\": {\"14\": 10, \"10\": 1, \"43\": 2, \"31\": 1, \"22\": 2}, \"49\": {\"49\": 19, \"35\": 1}, \"0\": {\"49\": 1, \"43\": 3, \"57\": 1, \"0\": 72, \"11\": 1, \"56\": 1, \"46\": 1}, \"46\": {\"41\": 2, \"46\": 83, \"43\": 3, \"52\": 12, \"55\": 5, \"47\": 4, \"5\": 2, \"56\": 6, \"57\": 7, \"15\": 9, \"0\": 1, \"10\": 2, \"16\": 10, \"29\": 3, \"23\": 2, \"35\": 3, \"42\": 1, \"22\": 1}, \"41\": {\"41\": 36}, \"24\": {\"24\": 44, \"10\": 2, \"43\": 6, \"22\": 1, \"38\": 1, \"0\": 2}, \"25\": {\"40\": 5, \"25\": 118, \"30\": 1, \"3\": 10, \"53\": 6, \"57\": 1, \"47\": 2, \"29\": 3, \"6\": 1, \"50\": 2, \"28\": 1, \"54\": 1, \"19\": 1}, \"40\": {\"40\": 132, \"19\": 5, \"44\": 1}, \"38\": {\"13\": 3, \"38\": 37}, \"13\": {\"13\": 150, \"2\": 1, \"56\": 1}, \"9\": {\"9\": 95, \"20\": 3, \"4\": 2, \"51\": 5, \"50\": 3}, \"45\": {\"45\": 72, \"9\": 10, \"4\": 4, \"20\": 2, \"50\": 2, \"51\": 2, \"26\": 1, \"19\": 1, \"6\": 2}, \"43\": {\"0\": 8, \"38\": 1, \"43\": 123, \"24\": 3, \"14\": 1, \"11\": 4, \"15\": 1, \"10\": 1, \"22\": 2}, \"10\": {\"10\": 108, \"56\": 7, \"22\": 9, \"38\": 2, \"24\": 3, \"43\": 1}, \"15\": {\"15\": 99, \"11\": 15, \"5\": 2, \"47\": 2, \"46\": 3, \"16\": 3, \"57\": 1, \"32\": 1, \"10\": 2}, \"39\": {\"39\": 20}, \"4\": {\"4\": 118, \"26\": 1, \"45\": 1, \"51\": 5, \"9\": 2, \"6\": 4, \"50\": 1}, \"53\": {\"53\": 111, \"20\": 10, \"3\": 1, \"48\": 1, \"36\": 3, \"50\": 3, \"27\": 1, \"12\": 1, \"40\": 1}, \"1\": {\"1\": 31, \"15\": 2, \"57\": 4, \"35\": 1, \"56\": 1, \"16\": 1}, \"28\": {\"28\": 20, \"33\": 6, \"29\": 5, \"40\": 1}, \"54\": {\"54\": 103, \"18\": 1, \"36\": 3, \"8\": 1}, \"21\": {\"8\": 4, \"21\": 125, \"27\": 3}, \"7\": {\"7\": 20, \"24\": 1, \"0\": 1, \"11\": 1, \"10\": 1}, \"8\": {\"8\": 130, \"27\": 5, \"48\": 1}, \"42\": {\"42\": 32}, \"11\": {\"11\": 78, \"15\": 16, \"10\": 1, \"56\": 1, \"16\": 1, \"0\": 2, \"57\": 1, \"43\": 2, \"24\": 1, \"46\": 1}, \"33\": {\"33\": 33, \"29\": 1, \"28\": 2}, \"27\": {\"27\": 110, \"40\": 1, \"8\": 24, \"17\": 2, \"48\": 4, \"36\": 1}, \"19\": {\"19\": 130, \"40\": 3, \"44\": 10, \"4\": 1}, \"2\": {\"2\": 29, \"38\": 2, \"56\": 3, \"22\": 2}, \"3\": {\"3\": 53, \"26\": 1, \"36\": 4, \"51\": 5, \"54\": 4, \"53\": 4, \"17\": 1, \"25\": 6, \"27\": 4, \"21\": 6, \"48\": 11, \"23\": 1, \"6\": 1, \"8\": 8, \"18\": 4, \"20\": 2, \"50\": 5}, \"57\": {\"57\": 69, \"5\": 13, \"15\": 2, \"35\": 3, \"16\": 5, \"1\": 4, \"47\": 2, \"11\": 1, \"46\": 1}, \"20\": {\"20\": 80, \"30\": 2, \"51\": 5, \"53\": 14, \"6\": 1, \"50\": 3, \"4\": 2, \"9\": 1, \"45\": 1, \"17\": 1, \"3\": 1, \"40\": 1}, \"23\": {\"23\": 111, \"54\": 1, \"52\": 2, \"18\": 14}, \"22\": {\"22\": 87, \"38\": 2, \"10\": 16, \"14\": 1, \"43\": 7, \"56\": 8, \"13\": 1, \"2\": 2, \"24\": 4}, \"29\": {\"57\": 6, \"38\": 1, \"47\": 4, \"33\": 2, \"29\": 103, \"40\": 3, \"15\": 3, \"19\": 1, \"1\": 1}, \"36\": {\"36\": 75, \"3\": 2, \"29\": 1, \"8\": 7, \"21\": 4, \"44\": 1, \"54\": 2}, \"51\": {\"51\": 115, \"50\": 4, \"45\": 2, \"9\": 1, \"20\": 4, \"4\": 2, \"53\": 3, \"6\": 1}, \"31\": {\"31\": 28}, \"12\": {\"12\": 83, \"17\": 3, \"8\": 1, \"21\": 3, \"45\": 1, \"9\": 1}, \"56\": {\"56\": 123, \"10\": 5, \"22\": 8, \"43\": 1, \"38\": 1}, \"5\": {\"51\": 1, \"5\": 55, \"16\": 13, \"47\": 8, \"57\": 16, \"46\": 8, \"15\": 3, \"35\": 1, \"29\": 2, \"18\": 1}, \"35\": {\"35\": 38, \"10\": 1, \"46\": 1}, \"17\": {\"17\": 55, \"27\": 10, \"21\": 5, \"30\": 3, \"48\": 3, \"53\": 1, \"8\": 2, \"45\": 1}, \"32\": {\"32\": 23, \"7\": 1}, \"47\": {\"47\": 68, \"5\": 17, \"1\": 3, \"35\": 1, \"57\": 6, \"46\": 9, \"29\": 8, \"11\": 1, \"16\": 4, \"28\": 1, \"15\": 2}, \"18\": {\"18\": 82, \"44\": 2, \"23\": 10, \"54\": 5, \"13\": 1, \"52\": 2, \"36\": 2, \"3\": 3, \"8\": 1}, \"26\": {\"26\": 21, \"6\": 2, \"53\": 1}, \"50\": {\"50\": 60, \"17\": 4, \"4\": 9, \"53\": 9, \"6\": 6, \"25\": 3, \"51\": 7, \"45\": 1, \"9\": 9, \"48\": 3, \"20\": 4, \"21\": 4, \"40\": 2, \"27\": 1}, \"55\": {\"31\": 1, \"55\": 88, \"40\": 5, \"6\": 1, \"10\": 5, \"19\": 6, \"22\": 3, \"56\": 8, \"14\": 1, \"44\": 1, \"0\": 1, \"29\": 2, \"43\": 2}, \"34\": {\"34\": 23, \"50\": 1}, \"30\": {\"12\": 2, \"30\": 29, \"27\": 2, \"48\": 4, \"8\": 3, \"21\": 2, \"36\": 1, \"17\": 1}, \"37\": {\"37\": 24}, \"44\": {\"40\": 5, \"44\": 113, \"19\": 14}, \"48\": {\"48\": 64, \"17\": 1, \"27\": 18, \"3\": 4, \"25\": 1, \"8\": 23, \"21\": 3, \"54\": 2, \"40\": 1, \"47\": 1}, \"16\": {\"16\": 78, \"35\": 3, \"46\": 6, \"5\": 3, \"57\": 3, \"1\": 1, \"15\": 1, \"47\": 1}}, \"CORES_2\": {\"11\": {\"11\": 109, \"28\": 1, \"47\": 6, \"15\": 2, \"5\": 12}, \"21\": {\"21\": 109, \"40\": 5, \"3\": 2, \"46\": 1, \"6\": 1, \"29\": 1, \"25\": 1}, \"19\": {\"19\": 133, \"29\": 1, \"40\": 2, \"9\": 2, \"44\": 2}, \"20\": {\"20\": 93, \"12\": 2, \"17\": 8, \"53\": 12, \"51\": 8, \"9\": 2, \"27\": 1, \"50\": 1, \"19\": 1}, \"9\": {\"9\": 135, \"45\": 2, \"4\": 1, \"19\": 1, \"40\": 1}, \"10\": {\"13\": 2, \"10\": 83, \"24\": 12, \"22\": 9, \"56\": 4, \"43\": 2}, \"37\": {\"37\": 36}, \"32\": {\"32\": 27, \"36\": 1}, \"3\": {\"50\": 8, \"3\": 38, \"53\": 7, \"49\": 1, \"42\": 1, \"6\": 5, \"25\": 4, \"2\": 2, \"52\": 1, \"27\": 2, \"51\": 2, \"20\": 1, \"54\": 1, \"4\": 1, \"40\": 2, \"21\": 2, \"17\": 4, \"36\": 2, \"32\": 2, \"29\": 2, \"8\": 1, \"48\": 1, \"46\": 2}, \"39\": {\"39\": 27, \"16\": 1}, \"45\": {\"9\": 13, \"45\": 84, \"50\": 1, \"4\": 18, \"19\": 1, \"20\": 1, \"51\": 3, \"53\": 1, \"40\": 2, \"12\": 2, \"27\": 1, \"3\": 1}, \"50\": {\"32\": 2, \"46\": 3, \"50\": 62, \"34\": 1, \"9\": 1, \"27\": 9, \"8\": 13, \"41\": 1, \"36\": 11, \"3\": 4, \"6\": 4, \"18\": 1, \"40\": 2, \"2\": 1, \"53\": 4, \"25\": 4, \"51\": 3, \"48\": 4, \"21\": 1, \"29\": 2, \"54\": 3}, \"40\": {\"40\": 132, \"9\": 2, \"29\": 3, \"19\": 2, \"21\": 1}, \"46\": {\"46\": 78, \"1\": 2, \"10\": 1, \"3\": 4, \"2\": 2, \"29\": 6, \"44\": 3, \"13\": 2, \"11\": 1, \"25\": 15, \"55\": 1, \"57\": 2, \"30\": 1, \"38\": 1, \"37\": 1, \"42\": 1, \"47\": 2, \"19\": 2, \"40\": 1, \"52\": 1, \"22\": 1}, \"12\": {\"12\": 71, \"32\": 2, \"45\": 1, \"53\": 1, \"20\": 9, \"8\": 1, \"54\": 1, \"17\": 3, \"36\": 2, \"51\": 1}, \"13\": {\"13\": 110, \"14\": 1, \"22\": 2, \"10\": 1, \"56\": 2}, \"47\": {\"46\": 1, \"15\": 5, \"47\": 80, \"5\": 16, \"11\": 9, \"42\": 1, \"0\": 3, \"1\": 6, \"29\": 2, \"7\": 1, \"57\": 6, \"28\": 2}, \"15\": {\"15\": 113, \"57\": 12, \"16\": 12, \"5\": 1, \"28\": 1, \"7\": 1, \"0\": 2}, \"54\": {\"54\": 75, \"36\": 21, \"27\": 4, \"26\": 2, \"8\": 6}, \"48\": {\"48\": 113, \"27\": 5, \"54\": 5, \"8\": 8, \"50\": 3, \"6\": 4, \"36\": 4, \"30\": 6}, \"23\": {\"23\": 131, \"18\": 1, \"30\": 5, \"52\": 4, \"48\": 1}, \"29\": {\"29\": 112, \"1\": 5, \"57\": 4, \"3\": 1, \"46\": 3, \"2\": 1, \"42\": 1, \"21\": 1}, \"38\": {\"43\": 2, \"38\": 17, \"37\": 1}, \"53\": {\"53\": 123, \"8\": 5, \"17\": 3, \"27\": 1, \"6\": 1, \"20\": 2, \"50\": 1}, \"27\": {\"27\": 107, \"54\": 15, \"26\": 2, \"36\": 13, \"8\": 13}, \"43\": {\"43\": 132, \"14\": 1, \"24\": 6, \"22\": 2, \"5\": 1, \"56\": 1, \"11\": 1}, \"35\": {\"35\": 32}, \"0\": {\"57\": 4, \"0\": 33, \"16\": 5, \"15\": 4, \"7\": 1, \"11\": 1}, \"52\": {\"52\": 106, \"30\": 1, \"16\": 6, \"23\": 4, \"43\": 1, \"46\": 2, \"57\": 3, \"48\": 1}, \"8\": {\"8\": 102, \"27\": 6, \"26\": 2, \"54\": 8, \"36\": 10}, \"24\": {\"10\": 5, \"24\": 83, \"43\": 3, \"56\": 4, \"22\": 1}, \"18\": {\"18\": 40, \"30\": 4, \"41\": 1, \"50\": 2, \"6\": 1}, \"25\": {\"25\": 97, \"33\": 3, \"1\": 4, \"49\": 4, \"29\": 8, \"50\": 6, \"3\": 5, \"30\": 4, \"53\": 3, \"21\": 2, \"46\": 6, \"6\": 3, \"40\": 1, \"15\": 1, \"42\": 1}, \"57\": {\"57\": 109, \"2\": 1, \"1\": 4, \"0\": 2, \"16\": 6, \"15\": 13, \"52\": 1}, \"55\": {\"37\": 3, \"55\": 90, \"14\": 3, \"44\": 1, \"13\": 11, \"56\": 8, \"22\": 7, \"24\": 1, \"10\": 5, \"19\": 4, \"43\": 1}, \"36\": {\"36\": 111, \"8\": 2, \"54\": 2, \"27\": 1}, \"17\": {\"17\": 90, \"20\": 2, \"53\": 6, \"8\": 1, \"50\": 1, \"32\": 3, \"36\": 1}, \"2\": {\"3\": 2, \"1\": 2, \"2\": 24, \"25\": 1, \"46\": 1, \"15\": 1, \"47\": 1}, \"34\": {\"34\": 27, \"3\": 1}, \"1\": {\"1\": 85, \"42\": 2, \"21\": 1, \"52\": 1, \"57\": 7, \"15\": 1, \"7\": 2, \"29\": 2, \"47\": 4, \"46\": 6, \"16\": 1}, \"51\": {\"20\": 9, \"51\": 118, \"3\": 3, \"53\": 4, \"17\": 1, \"12\": 1}, \"31\": {\"31\": 27, \"22\": 1}, \"49\": {\"49\": 23, \"30\": 1}, \"14\": {\"13\": 2, \"14\": 15, \"22\": 2, \"56\": 2, \"38\": 1, \"43\": 1, \"31\": 1}, \"33\": {\"33\": 27, \"29\": 1}, \"41\": {\"41\": 19, \"18\": 1}, \"28\": {\"28\": 25, \"11\": 1, \"47\": 1, \"43\": 1}, \"5\": {\"5\": 104, \"47\": 3, \"11\": 8, \"15\": 4, \"28\": 1}, \"16\": {\"16\": 134, \"15\": 12, \"0\": 2, \"52\": 2}, \"4\": {\"4\": 122, \"9\": 3, \"45\": 3}, \"22\": {\"22\": 93, \"14\": 2, \"10\": 8, \"56\": 22, \"55\": 5, \"13\": 1, \"24\": 3, \"43\": 2}, \"6\": {\"40\": 2, \"3\": 2, \"6\": 42, \"32\": 1, \"41\": 1, \"50\": 7, \"8\": 9, \"36\": 6, \"48\": 12, \"25\": 4, \"4\": 2, \"27\": 5, \"30\": 2, \"51\": 3, \"29\": 1, \"53\": 4, \"9\": 2, \"17\": 2, \"2\": 1, \"21\": 1, \"54\": 1, \"18\": 2, \"20\": 3, \"46\": 2, \"44\": 1}, \"30\": {\"30\": 105, \"18\": 1, \"50\": 2, \"52\": 2, \"48\": 5, \"6\": 3, \"3\": 2, \"23\": 3, \"25\": 1}, \"26\": {\"26\": 20, \"54\": 1, \"27\": 2, \"32\": 1}, \"56\": {\"56\": 130, \"22\": 10, \"13\": 2}, \"42\": {\"42\": 31, \"57\": 1, \"11\": 1, \"2\": 1, \"46\": 2}, \"44\": {\"44\": 95, \"40\": 2, \"19\": 3}, \"7\": {\"1\": 1, \"7\": 28, \"11\": 2, \"0\": 2, \"2\": 1, \"46\": 1, \"15\": 1}}}, \"per_domain_accuracy\": {\"ORACLE.run1_26\": {\"accuracy\": 0.7947916666666667, \"source?\": true}, \"ORACLE.run1_44\": {\"accuracy\": 0.8138020833333334, \"source?\": true}, \"ORACLE.run1_50\": {\"accuracy\": 0.9299479166666667, \"source?\": true}, \"ORACLE.run1_38\": {\"accuracy\": 0.9346354166666667, \"source?\": true}, \"ORACLE.run1_20\": {\"accuracy\": 0.9065104166666667, \"source?\": true}, \"ORACLE.run1_14\": {\"accuracy\": 0.921875, \"source?\": true}, \"ORACLE.run1_32\": {\"accuracy\": 0.91484375, \"source?\": true}, \"ORACLE.run1_8\": {\"accuracy\": 0.9184895833333333, \"source?\": true}, \"CORES_5\": {\"accuracy\": 0.803945530726257, \"source?\": false}, \"CORES_1\": {\"accuracy\": 0.8327105978260869, \"source?\": false}, \"CORES_3\": {\"accuracy\": 0.8064338235294117, \"source?\": false}, \"CORES_4\": {\"accuracy\": 0.7872740963855421, \"source?\": false}, \"CORES_2\": {\"accuracy\": 0.8020241477272727, \"source?\": false}}}, \"history\": {\"epoch_indices\": [1, 2, 3, 4, 5, 6, 7, 8, 9, 10, 11], \"train_label_loss\": [0.7293899878438207, 0.6721274609644232, 0.4246873108531526, 0.3611502299160098, 0.3161520073704499, 0.29039524599959676, 0.2706552493845742, 0.25007142231112256, 0.23835601155781963, 0.22105386600863616, 0.2080169478543255], \"source_val_label_loss\": [7.373579502105713, 0.4962250292301178, 0.432508647441864, 0.33811941742897034, 0.33529213070869446, 0.34589025378227234, 0.30179235339164734, 0.2967899739742279, 0.2804194390773773, 0.3143080770969391, 0.33383339643478394], \"target_val_label_loss\": [104.9752197265625, 64.76126098632812, 73.57032775878906, 87.6355972290039, 96.22053527832031, 113.09480285644531, 115.5981674194336, 248.61557006835938, 187.63665771484375, 512.3785400390625, 461.2110595703125], \"source_val_acc_label\": [0.7645833333333333, 0.82060546875, 0.8445638020833334, 0.87783203125, 0.8834309895833333, 0.8759440104166667, 0.8918619791666667, 0.89501953125, 0.9041666666666667, 0.8980794270833333, 0.9026692708333334], \"target_val_acc_label\": [0.7779285714285714, 0.7646785714285714, 0.7735714285714286, 0.7870357142857143, 0.8043928571428571, 0.8016071428571429, 0.8069285714285714, 0.7401785714285715, 0.7760714285714285, 0.6708571428571428, 0.6889285714285714]}, \"dataset_metrics\": {\"source\": {\"train\": {\"n_unique_x\": 179200, \"n_unique_y\": 16, \"n_batch/episode\": 6720}, \"val\": {\"n_unique_x\": 38400, \"n_unique_y\": 16, \"n_batch/episode\": 960}, \"test\": {\"n_unique_x\": 38400, \"n_unique_y\": 16, \"n_batch/episode\": 960}}, \"target\": {\"train\": {\"n_unique_x\": 175203, \"n_unique_y\": 58, \"n_batch/episode\": 6321}, \"val\": {\"n_unique_x\": 37151, \"n_unique_y\": 58, \"n_batch/episode\": 875}, \"test\": {\"n_unique_x\": 37548, \"n_unique_y\": 58, \"n_batch/episode\": 885}}}}'"
      ]
     },
     "execution_count": 29,
     "metadata": {},
     "output_type": "execute_result"
    }
   ],
   "source": [
    "json.dumps(experiment)"
   ]
  }
 ],
 "metadata": {
  "celltoolbar": "Tags",
  "kernelspec": {
   "display_name": "Python 3 (ipykernel)",
   "language": "python",
   "name": "python3"
  },
  "language_info": {
   "codemirror_mode": {
    "name": "ipython",
    "version": 3
   },
   "file_extension": ".py",
   "mimetype": "text/x-python",
   "name": "python",
   "nbconvert_exporter": "python",
   "pygments_lexer": "ipython3",
   "version": "3.8.12"
  },
  "papermill": {
   "default_parameters": {},
   "duration": 3103.049554,
   "end_time": "2022-03-21T15:38:29.672156",
   "environment_variables": {},
   "exception": null,
   "input_path": "/root/csc500-main/csc500-notebooks/templates/tl_ptn_template.ipynb",
   "output_path": "trial.ipynb",
   "parameters": {
    "parameters": {
     "BEST_MODEL_PATH": "./best_model.pth",
     "NUM_LOGS_PER_EPOCH": 10,
     "criteria_for_best": "target_accuracy",
     "dataset_seed": 7,
     "datasets": [
      {
       "domain_prefix": "CORES_",
       "domains": [
        1,
        2,
        3,
        4,
        5
       ],
       "episode_transforms": [],
       "labels": [
        "1-10.",
        "1-11.",
        "1-15.",
        "1-16.",
        "1-17.",
        "1-18.",
        "1-19.",
        "10-4.",
        "10-7.",
        "11-1.",
        "11-14.",
        "11-17.",
        "11-20.",
        "11-7.",
        "13-20.",
        "13-8.",
        "14-10.",
        "14-11.",
        "14-14.",
        "14-7.",
        "15-1.",
        "15-20.",
        "16-1.",
        "16-16.",
        "17-10.",
        "17-11.",
        "17-2.",
        "19-1.",
        "19-16.",
        "19-19.",
        "19-20.",
        "19-3.",
        "2-10.",
        "2-11.",
        "2-17.",
        "2-18.",
        "2-20.",
        "2-3.",
        "2-4.",
        "2-5.",
        "2-6.",
        "2-7.",
        "2-8.",
        "3-13.",
        "3-18.",
        "3-3.",
        "4-1.",
        "4-10.",
        "4-11.",
        "4-19.",
        "5-5.",
        "6-15.",
        "7-10.",
        "7-14.",
        "8-18.",
        "8-20.",
        "8-3.",
        "8-8."
       ],
       "num_examples_per_domain_per_label": -1,
       "pickle_path": "/root/csc500-main/datasets/cores.stratified_ds.2022A.pkl",
       "source_or_target_dataset": "target",
       "x_transforms": [
        "unit_power"
       ]
      },
      {
       "domain_prefix": "ORACLE.run1_",
       "domains": [
        32,
        38,
        8,
        44,
        14,
        50,
        20,
        26
       ],
       "episode_transforms": [],
       "labels": [
        "3123D52",
        "3123D65",
        "3123D79",
        "3123D80",
        "3123D54",
        "3123D70",
        "3123D7B",
        "3123D89",
        "3123D58",
        "3123D76",
        "3123D7D",
        "3123EFE",
        "3123D64",
        "3123D78",
        "3123D7E",
        "3124E4A"
       ],
       "num_examples_per_domain_per_label": 2000,
       "pickle_path": "/root/csc500-main/datasets/oracle.Run1_framed_2000Examples_stratified_ds.2022A.pkl",
       "source_or_target_dataset": "source",
       "x_transforms": [
        "unit_power"
       ]
      }
     ],
     "device": "cuda",
     "experiment_name": "tl_1v2:cores-oracle.run1.framed",
     "lr": 0.0001,
     "n_epoch": 50,
     "n_query": 2,
     "n_shot": 3,
     "n_way": 16,
     "patience": 3,
     "seed": 7,
     "test_k_factor": 2,
     "torch_default_dtype": "torch.float32",
     "train_k_factor": 3,
     "val_k_factor": 2,
     "x_net": [
      {
       "class": "nnReshape",
       "kargs": {
        "shape": [
         -1,
         1,
         2,
         256
        ]
       }
      },
      {
       "class": "Conv2d",
       "kargs": {
        "bias": false,
        "in_channels": 1,
        "kernel_size": [
         1,
         7
        ],
        "out_channels": 256,
        "padding": [
         0,
         3
        ]
       }
      },
      {
       "class": "ReLU",
       "kargs": {
        "inplace": true
       }
      },
      {
       "class": "BatchNorm2d",
       "kargs": {
        "num_features": 256
       }
      },
      {
       "class": "Conv2d",
       "kargs": {
        "bias": true,
        "in_channels": 256,
        "kernel_size": [
         2,
         7
        ],
        "out_channels": 80,
        "padding": [
         0,
         3
        ]
       }
      },
      {
       "class": "ReLU",
       "kargs": {
        "inplace": true
       }
      },
      {
       "class": "BatchNorm2d",
       "kargs": {
        "num_features": 80
       }
      },
      {
       "class": "Flatten",
       "kargs": {}
      },
      {
       "class": "Linear",
       "kargs": {
        "in_features": 20480,
        "out_features": 256
       }
      },
      {
       "class": "ReLU",
       "kargs": {
        "inplace": true
       }
      },
      {
       "class": "BatchNorm1d",
       "kargs": {
        "num_features": 256
       }
      },
      {
       "class": "Linear",
       "kargs": {
        "in_features": 256,
        "out_features": 256
       }
      }
     ]
    }
   },
   "start_time": "2022-03-21T14:46:46.622602",
   "version": "2.3.4"
  }
 },
 "nbformat": 4,
 "nbformat_minor": 5
}