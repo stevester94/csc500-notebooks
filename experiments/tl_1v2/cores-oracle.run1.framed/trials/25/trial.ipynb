{
 "cells": [
  {
   "cell_type": "markdown",
   "id": "9fea5f46",
   "metadata": {
    "papermill": {
     "duration": 0.02615,
     "end_time": "2022-03-21T17:25:49.736334",
     "exception": false,
     "start_time": "2022-03-21T17:25:49.710184",
     "status": "completed"
    },
    "tags": []
   },
   "source": [
    "# Transfer Learning Template"
   ]
  },
  {
   "cell_type": "code",
   "execution_count": 1,
   "id": "0902182a",
   "metadata": {
    "execution": {
     "iopub.execute_input": "2022-03-21T17:25:49.808773Z",
     "iopub.status.busy": "2022-03-21T17:25:49.807234Z",
     "iopub.status.idle": "2022-03-21T17:25:51.628847Z",
     "shell.execute_reply": "2022-03-21T17:25:51.628231Z"
    },
    "papermill": {
     "duration": 1.867977,
     "end_time": "2022-03-21T17:25:51.628995",
     "exception": false,
     "start_time": "2022-03-21T17:25:49.761018",
     "status": "completed"
    },
    "tags": []
   },
   "outputs": [],
   "source": [
    "%load_ext autoreload\n",
    "%autoreload 2\n",
    "%matplotlib inline\n",
    "\n",
    "    \n",
    "import os, json, sys, time, random\n",
    "import numpy as np\n",
    "import torch\n",
    "from torch.optim import Adam\n",
    "from  easydict import EasyDict\n",
    "import matplotlib.pyplot as plt\n",
    "\n",
    "from steves_models.steves_ptn import Steves_Prototypical_Network\n",
    "\n",
    "from steves_utils.lazy_iterable_wrapper import Lazy_Iterable_Wrapper\n",
    "from steves_utils.iterable_aggregator import Iterable_Aggregator\n",
    "from steves_utils.ptn_train_eval_test_jig import  PTN_Train_Eval_Test_Jig\n",
    "from steves_utils.torch_sequential_builder import build_sequential\n",
    "from steves_utils.torch_utils import get_dataset_metrics, ptn_confusion_by_domain_over_dataloader\n",
    "from steves_utils.utils_v2 import (per_domain_accuracy_from_confusion, get_datasets_base_path)\n",
    "from steves_utils.PTN.utils import independent_accuracy_assesment\n",
    "\n",
    "from torch.utils.data import DataLoader\n",
    "\n",
    "from steves_utils.stratified_dataset.episodic_accessor import Episodic_Accessor_Factory\n",
    "\n",
    "from steves_utils.ptn_do_report import (\n",
    "    get_loss_curve,\n",
    "    get_results_table,\n",
    "    get_parameters_table,\n",
    "    get_domain_accuracies,\n",
    ")\n",
    "\n",
    "from steves_utils.transforms import get_chained_transform"
   ]
  },
  {
   "cell_type": "markdown",
   "id": "41c840b4",
   "metadata": {
    "papermill": {
     "duration": 0.031206,
     "end_time": "2022-03-21T17:25:51.684761",
     "exception": false,
     "start_time": "2022-03-21T17:25:51.653555",
     "status": "completed"
    },
    "tags": []
   },
   "source": [
    "# Allowed Parameters\n",
    "These are allowed parameters, not defaults\n",
    "Each of these values need to be present in the injected parameters (the notebook will raise an exception if they are not present)\n",
    "\n",
    "Papermill uses the cell tag \"parameters\" to inject the real parameters below this cell.\n",
    "Enable tags to see what I mean"
   ]
  },
  {
   "cell_type": "code",
   "execution_count": 2,
   "id": "fd44eb83",
   "metadata": {
    "execution": {
     "iopub.execute_input": "2022-03-21T17:25:51.726898Z",
     "iopub.status.busy": "2022-03-21T17:25:51.726503Z",
     "iopub.status.idle": "2022-03-21T17:25:51.745222Z",
     "shell.execute_reply": "2022-03-21T17:25:51.745861Z"
    },
    "papermill": {
     "duration": 0.042452,
     "end_time": "2022-03-21T17:25:51.746077",
     "exception": false,
     "start_time": "2022-03-21T17:25:51.703625",
     "status": "completed"
    },
    "tags": []
   },
   "outputs": [],
   "source": [
    "required_parameters = {\n",
    "    \"experiment_name\",\n",
    "    \"lr\",\n",
    "    \"device\",\n",
    "    \"seed\",\n",
    "    \"dataset_seed\",\n",
    "    \"n_shot\",\n",
    "    \"n_query\",\n",
    "    \"n_way\",\n",
    "    \"train_k_factor\",\n",
    "    \"val_k_factor\",\n",
    "    \"test_k_factor\",\n",
    "    \"n_epoch\",\n",
    "    \"patience\",\n",
    "    \"criteria_for_best\",\n",
    "    \"x_net\",\n",
    "    \"datasets\",\n",
    "    \"torch_default_dtype\",\n",
    "    \"NUM_LOGS_PER_EPOCH\",\n",
    "    \"BEST_MODEL_PATH\",\n",
    "    \"x_shape\",\n",
    "}"
   ]
  },
  {
   "cell_type": "code",
   "execution_count": 3,
   "id": "fa3f0049",
   "metadata": {
    "execution": {
     "iopub.execute_input": "2022-03-21T17:25:51.806045Z",
     "iopub.status.busy": "2022-03-21T17:25:51.805116Z",
     "iopub.status.idle": "2022-03-21T17:25:51.827368Z",
     "shell.execute_reply": "2022-03-21T17:25:51.826645Z"
    },
    "papermill": {
     "duration": 0.051697,
     "end_time": "2022-03-21T17:25:51.827552",
     "exception": false,
     "start_time": "2022-03-21T17:25:51.775855",
     "status": "completed"
    },
    "tags": [
     "parameters"
    ]
   },
   "outputs": [],
   "source": [
    "from steves_utils.CORES.utils import (\n",
    "    ALL_NODES,\n",
    "    ALL_NODES_MINIMUM_1000_EXAMPLES,\n",
    "    ALL_DAYS\n",
    ")\n",
    "\n",
    "from steves_utils.ORACLE.utils_v2 import (\n",
    "    ALL_DISTANCES_FEET_NARROWED,\n",
    "    ALL_RUNS,\n",
    "    ALL_SERIAL_NUMBERS,\n",
    ")\n",
    "\n",
    "standalone_parameters = {}\n",
    "standalone_parameters[\"experiment_name\"] = \"STANDALONE PTN\"\n",
    "standalone_parameters[\"lr\"] = 0.001\n",
    "standalone_parameters[\"device\"] = \"cuda\"\n",
    "\n",
    "standalone_parameters[\"seed\"] = 1337\n",
    "standalone_parameters[\"dataset_seed\"] = 1337\n",
    "\n",
    "standalone_parameters[\"n_way\"] = 8\n",
    "standalone_parameters[\"n_shot\"] = 3\n",
    "standalone_parameters[\"n_query\"]  = 2\n",
    "standalone_parameters[\"train_k_factor\"] = 1\n",
    "standalone_parameters[\"val_k_factor\"] = 2\n",
    "standalone_parameters[\"test_k_factor\"] = 2\n",
    "\n",
    "\n",
    "standalone_parameters[\"n_epoch\"] = 50\n",
    "\n",
    "standalone_parameters[\"patience\"] = 10\n",
    "standalone_parameters[\"criteria_for_best\"] = \"source_loss\"\n",
    "\n",
    "standalone_parameters[\"datasets\"] = [\n",
    "    {\n",
    "        \"labels\": ALL_SERIAL_NUMBERS,\n",
    "        \"domains\": ALL_DISTANCES_FEET_NARROWED,\n",
    "        \"num_examples_per_domain_per_label\": 100,\n",
    "        \"pickle_path\": os.path.join(get_datasets_base_path(), \"oracle.Run1_framed_2000Examples_stratified_ds.2022A.pkl\"),\n",
    "        \"source_or_target_dataset\": \"source\",\n",
    "        \"x_transforms\": [\"unit_mag\", \"minus_two\"],\n",
    "        \"episode_transforms\": [],\n",
    "        \"domain_prefix\": \"ORACLE_\"\n",
    "    },\n",
    "    {\n",
    "        \"labels\": ALL_NODES,\n",
    "        \"domains\": ALL_DAYS,\n",
    "        \"num_examples_per_domain_per_label\": 100,\n",
    "        \"pickle_path\": os.path.join(get_datasets_base_path(), \"cores.stratified_ds.2022A.pkl\"),\n",
    "        \"source_or_target_dataset\": \"target\",\n",
    "        \"x_transforms\": [\"unit_power\", \"times_zero\"],\n",
    "        \"episode_transforms\": [],\n",
    "        \"domain_prefix\": \"CORES_\"\n",
    "    }   \n",
    "]\n",
    "\n",
    "standalone_parameters[\"torch_default_dtype\"] = \"torch.float32\" \n",
    "\n",
    "\n",
    "\n",
    "standalone_parameters[\"x_net\"] =     [\n",
    "    {\"class\": \"nnReshape\", \"kargs\": {\"shape\":[-1, 1, 2, 256]}},\n",
    "    {\"class\": \"Conv2d\", \"kargs\": { \"in_channels\":1, \"out_channels\":256, \"kernel_size\":(1,7), \"bias\":False, \"padding\":(0,3), },},\n",
    "    {\"class\": \"ReLU\", \"kargs\": {\"inplace\": True}},\n",
    "    {\"class\": \"BatchNorm2d\", \"kargs\": {\"num_features\":256}},\n",
    "\n",
    "    {\"class\": \"Conv2d\", \"kargs\": { \"in_channels\":256, \"out_channels\":80, \"kernel_size\":(2,7), \"bias\":True, \"padding\":(0,3), },},\n",
    "    {\"class\": \"ReLU\", \"kargs\": {\"inplace\": True}},\n",
    "    {\"class\": \"BatchNorm2d\", \"kargs\": {\"num_features\":80}},\n",
    "    {\"class\": \"Flatten\", \"kargs\": {}},\n",
    "\n",
    "    {\"class\": \"Linear\", \"kargs\": {\"in_features\": 80*256, \"out_features\": 256}}, # 80 units per IQ pair\n",
    "    {\"class\": \"ReLU\", \"kargs\": {\"inplace\": True}},\n",
    "    {\"class\": \"BatchNorm1d\", \"kargs\": {\"num_features\":256}},\n",
    "\n",
    "    {\"class\": \"Linear\", \"kargs\": {\"in_features\": 256, \"out_features\": 256}},\n",
    "]\n",
    "\n",
    "# Parameters relevant to results\n",
    "# These parameters will basically never need to change\n",
    "standalone_parameters[\"NUM_LOGS_PER_EPOCH\"] = 10\n",
    "standalone_parameters[\"BEST_MODEL_PATH\"] = \"./best_model.pth\"\n",
    "\n",
    "\n",
    "\n",
    "\n"
   ]
  },
  {
   "cell_type": "code",
   "execution_count": 4,
   "id": "5898b36b",
   "metadata": {
    "execution": {
     "iopub.execute_input": "2022-03-21T17:25:51.884071Z",
     "iopub.status.busy": "2022-03-21T17:25:51.883638Z",
     "iopub.status.idle": "2022-03-21T17:25:51.904742Z",
     "shell.execute_reply": "2022-03-21T17:25:51.905416Z"
    },
    "papermill": {
     "duration": 0.050056,
     "end_time": "2022-03-21T17:25:51.905597",
     "exception": false,
     "start_time": "2022-03-21T17:25:51.855541",
     "status": "completed"
    },
    "tags": [
     "injected-parameters"
    ]
   },
   "outputs": [],
   "source": [
    "# Parameters\n",
    "parameters = {\n",
    "    \"experiment_name\": \"tl_1v2:cores-oracle.run1.framed\",\n",
    "    \"device\": \"cuda\",\n",
    "    \"lr\": 0.0001,\n",
    "    \"n_shot\": 3,\n",
    "    \"n_query\": 2,\n",
    "    \"train_k_factor\": 3,\n",
    "    \"val_k_factor\": 2,\n",
    "    \"test_k_factor\": 2,\n",
    "    \"torch_default_dtype\": \"torch.float32\",\n",
    "    \"n_epoch\": 50,\n",
    "    \"patience\": 3,\n",
    "    \"criteria_for_best\": \"target_accuracy\",\n",
    "    \"x_net\": [\n",
    "        {\"class\": \"nnReshape\", \"kargs\": {\"shape\": [-1, 1, 2, 256]}},\n",
    "        {\n",
    "            \"class\": \"Conv2d\",\n",
    "            \"kargs\": {\n",
    "                \"in_channels\": 1,\n",
    "                \"out_channels\": 256,\n",
    "                \"kernel_size\": [1, 7],\n",
    "                \"bias\": False,\n",
    "                \"padding\": [0, 3],\n",
    "            },\n",
    "        },\n",
    "        {\"class\": \"ReLU\", \"kargs\": {\"inplace\": True}},\n",
    "        {\"class\": \"BatchNorm2d\", \"kargs\": {\"num_features\": 256}},\n",
    "        {\n",
    "            \"class\": \"Conv2d\",\n",
    "            \"kargs\": {\n",
    "                \"in_channels\": 256,\n",
    "                \"out_channels\": 80,\n",
    "                \"kernel_size\": [2, 7],\n",
    "                \"bias\": True,\n",
    "                \"padding\": [0, 3],\n",
    "            },\n",
    "        },\n",
    "        {\"class\": \"ReLU\", \"kargs\": {\"inplace\": True}},\n",
    "        {\"class\": \"BatchNorm2d\", \"kargs\": {\"num_features\": 80}},\n",
    "        {\"class\": \"Flatten\", \"kargs\": {}},\n",
    "        {\"class\": \"Linear\", \"kargs\": {\"in_features\": 20480, \"out_features\": 256}},\n",
    "        {\"class\": \"ReLU\", \"kargs\": {\"inplace\": True}},\n",
    "        {\"class\": \"BatchNorm1d\", \"kargs\": {\"num_features\": 256}},\n",
    "        {\"class\": \"Linear\", \"kargs\": {\"in_features\": 256, \"out_features\": 256}},\n",
    "    ],\n",
    "    \"NUM_LOGS_PER_EPOCH\": 10,\n",
    "    \"BEST_MODEL_PATH\": \"./best_model.pth\",\n",
    "    \"n_way\": 16,\n",
    "    \"datasets\": [\n",
    "        {\n",
    "            \"labels\": [\n",
    "                \"1-10.\",\n",
    "                \"1-11.\",\n",
    "                \"1-15.\",\n",
    "                \"1-16.\",\n",
    "                \"1-17.\",\n",
    "                \"1-18.\",\n",
    "                \"1-19.\",\n",
    "                \"10-4.\",\n",
    "                \"10-7.\",\n",
    "                \"11-1.\",\n",
    "                \"11-14.\",\n",
    "                \"11-17.\",\n",
    "                \"11-20.\",\n",
    "                \"11-7.\",\n",
    "                \"13-20.\",\n",
    "                \"13-8.\",\n",
    "                \"14-10.\",\n",
    "                \"14-11.\",\n",
    "                \"14-14.\",\n",
    "                \"14-7.\",\n",
    "                \"15-1.\",\n",
    "                \"15-20.\",\n",
    "                \"16-1.\",\n",
    "                \"16-16.\",\n",
    "                \"17-10.\",\n",
    "                \"17-11.\",\n",
    "                \"17-2.\",\n",
    "                \"19-1.\",\n",
    "                \"19-16.\",\n",
    "                \"19-19.\",\n",
    "                \"19-20.\",\n",
    "                \"19-3.\",\n",
    "                \"2-10.\",\n",
    "                \"2-11.\",\n",
    "                \"2-17.\",\n",
    "                \"2-18.\",\n",
    "                \"2-20.\",\n",
    "                \"2-3.\",\n",
    "                \"2-4.\",\n",
    "                \"2-5.\",\n",
    "                \"2-6.\",\n",
    "                \"2-7.\",\n",
    "                \"2-8.\",\n",
    "                \"3-13.\",\n",
    "                \"3-18.\",\n",
    "                \"3-3.\",\n",
    "                \"4-1.\",\n",
    "                \"4-10.\",\n",
    "                \"4-11.\",\n",
    "                \"4-19.\",\n",
    "                \"5-5.\",\n",
    "                \"6-15.\",\n",
    "                \"7-10.\",\n",
    "                \"7-14.\",\n",
    "                \"8-18.\",\n",
    "                \"8-20.\",\n",
    "                \"8-3.\",\n",
    "                \"8-8.\",\n",
    "            ],\n",
    "            \"domains\": [1, 2, 3, 4, 5],\n",
    "            \"num_examples_per_domain_per_label\": -1,\n",
    "            \"pickle_path\": \"/root/csc500-main/datasets/cores.stratified_ds.2022A.pkl\",\n",
    "            \"source_or_target_dataset\": \"source\",\n",
    "            \"x_transforms\": [\"unit_mag\"],\n",
    "            \"episode_transforms\": [],\n",
    "            \"domain_prefix\": \"CORES_\",\n",
    "        },\n",
    "        {\n",
    "            \"labels\": [\n",
    "                \"3123D52\",\n",
    "                \"3123D65\",\n",
    "                \"3123D79\",\n",
    "                \"3123D80\",\n",
    "                \"3123D54\",\n",
    "                \"3123D70\",\n",
    "                \"3123D7B\",\n",
    "                \"3123D89\",\n",
    "                \"3123D58\",\n",
    "                \"3123D76\",\n",
    "                \"3123D7D\",\n",
    "                \"3123EFE\",\n",
    "                \"3123D64\",\n",
    "                \"3123D78\",\n",
    "                \"3123D7E\",\n",
    "                \"3124E4A\",\n",
    "            ],\n",
    "            \"domains\": [32, 38, 8, 44, 14, 50, 20, 26],\n",
    "            \"num_examples_per_domain_per_label\": 2000,\n",
    "            \"pickle_path\": \"/root/csc500-main/datasets/oracle.Run1_framed_2000Examples_stratified_ds.2022A.pkl\",\n",
    "            \"source_or_target_dataset\": \"target\",\n",
    "            \"x_transforms\": [\"unit_mag\"],\n",
    "            \"episode_transforms\": [],\n",
    "            \"domain_prefix\": \"ORACLE.run1_\",\n",
    "        },\n",
    "    ],\n",
    "    \"dataset_seed\": 500,\n",
    "    \"seed\": 500,\n",
    "}\n"
   ]
  },
  {
   "cell_type": "code",
   "execution_count": 5,
   "id": "8fa1cc33",
   "metadata": {
    "execution": {
     "iopub.execute_input": "2022-03-21T17:25:51.956980Z",
     "iopub.status.busy": "2022-03-21T17:25:51.956605Z",
     "iopub.status.idle": "2022-03-21T17:25:51.976320Z",
     "shell.execute_reply": "2022-03-21T17:25:51.975578Z"
    },
    "papermill": {
     "duration": 0.043618,
     "end_time": "2022-03-21T17:25:51.976478",
     "exception": false,
     "start_time": "2022-03-21T17:25:51.932860",
     "status": "completed"
    },
    "tags": []
   },
   "outputs": [],
   "source": [
    "# Set this to True if you want to run this template directly\n",
    "STANDALONE = False\n",
    "if STANDALONE:\n",
    "    print(\"parameters not injected, running with standalone_parameters\")\n",
    "    parameters = standalone_parameters\n",
    "\n",
    "if not 'parameters' in locals() and not 'parameters' in globals():\n",
    "    raise Exception(\"Parameter injection failed\")\n",
    "\n",
    "#Use an easy dict for all the parameters\n",
    "p = EasyDict(parameters)\n",
    "\n",
    "if \"x_shape\" not in p:\n",
    "    p.x_shape = [2,256] # Default to this if we dont supply x_shape\n",
    "\n",
    "\n",
    "supplied_keys = set(p.keys())\n",
    "\n",
    "if  supplied_keys != required_parameters:\n",
    "    print(\"Parameters are incorrect\")\n",
    "    if len(supplied_keys - required_parameters)>0: print(\"Shouldn't have:\", str(supplied_keys - required_parameters))\n",
    "    if len(required_parameters - supplied_keys)>0: print(\"Need to have:\", str(required_parameters - supplied_keys))\n",
    "    raise RuntimeError(\"Parameters are incorrect\")"
   ]
  },
  {
   "cell_type": "code",
   "execution_count": 6,
   "id": "3a028d58",
   "metadata": {
    "execution": {
     "iopub.execute_input": "2022-03-21T17:25:52.025301Z",
     "iopub.status.busy": "2022-03-21T17:25:52.024935Z",
     "iopub.status.idle": "2022-03-21T17:25:52.044076Z",
     "shell.execute_reply": "2022-03-21T17:25:52.043353Z"
    },
    "papermill": {
     "duration": 0.041476,
     "end_time": "2022-03-21T17:25:52.044232",
     "exception": false,
     "start_time": "2022-03-21T17:25:52.002756",
     "status": "completed"
    },
    "tags": []
   },
   "outputs": [],
   "source": [
    "###################################\n",
    "# Set the RNGs and make it all deterministic\n",
    "###################################\n",
    "np.random.seed(p.seed)\n",
    "random.seed(p.seed)\n",
    "torch.manual_seed(p.seed)\n",
    "\n",
    "torch.use_deterministic_algorithms(True) "
   ]
  },
  {
   "cell_type": "code",
   "execution_count": 7,
   "id": "b691acf6",
   "metadata": {
    "execution": {
     "iopub.execute_input": "2022-03-21T17:25:52.094856Z",
     "iopub.status.busy": "2022-03-21T17:25:52.094491Z",
     "iopub.status.idle": "2022-03-21T17:25:52.112326Z",
     "shell.execute_reply": "2022-03-21T17:25:52.112997Z"
    },
    "papermill": {
     "duration": 0.040576,
     "end_time": "2022-03-21T17:25:52.113176",
     "exception": false,
     "start_time": "2022-03-21T17:25:52.072600",
     "status": "completed"
    },
    "tags": []
   },
   "outputs": [],
   "source": [
    "###########################################\n",
    "# The stratified datasets honor this\n",
    "###########################################\n",
    "torch.set_default_dtype(eval(p.torch_default_dtype))"
   ]
  },
  {
   "cell_type": "code",
   "execution_count": 8,
   "id": "b5fba671",
   "metadata": {
    "execution": {
     "iopub.execute_input": "2022-03-21T17:25:52.160675Z",
     "iopub.status.busy": "2022-03-21T17:25:52.160309Z",
     "iopub.status.idle": "2022-03-21T17:25:52.212050Z",
     "shell.execute_reply": "2022-03-21T17:25:52.211330Z"
    },
    "papermill": {
     "duration": 0.073309,
     "end_time": "2022-03-21T17:25:52.212214",
     "exception": false,
     "start_time": "2022-03-21T17:25:52.138905",
     "status": "completed"
    },
    "tags": []
   },
   "outputs": [],
   "source": [
    "###################################\n",
    "# Build the network(s)\n",
    "# Note: It's critical to do this AFTER setting the RNG\n",
    "###################################\n",
    "x_net = build_sequential(p.x_net)"
   ]
  },
  {
   "cell_type": "code",
   "execution_count": 9,
   "id": "5d7e61cc",
   "metadata": {
    "execution": {
     "iopub.execute_input": "2022-03-21T17:25:52.258610Z",
     "iopub.status.busy": "2022-03-21T17:25:52.258250Z",
     "iopub.status.idle": "2022-03-21T17:25:52.281995Z",
     "shell.execute_reply": "2022-03-21T17:25:52.282659Z"
    },
    "papermill": {
     "duration": 0.046621,
     "end_time": "2022-03-21T17:25:52.282833",
     "exception": false,
     "start_time": "2022-03-21T17:25:52.236212",
     "status": "completed"
    },
    "tags": []
   },
   "outputs": [],
   "source": [
    "start_time_secs = time.time()"
   ]
  },
  {
   "cell_type": "code",
   "execution_count": 10,
   "id": "c6b67dfd",
   "metadata": {
    "execution": {
     "iopub.execute_input": "2022-03-21T17:25:52.330996Z",
     "iopub.status.busy": "2022-03-21T17:25:52.330601Z",
     "iopub.status.idle": "2022-03-21T17:25:52.355103Z",
     "shell.execute_reply": "2022-03-21T17:25:52.354370Z"
    },
    "papermill": {
     "duration": 0.047612,
     "end_time": "2022-03-21T17:25:52.355255",
     "exception": false,
     "start_time": "2022-03-21T17:25:52.307643",
     "status": "completed"
    },
    "tags": []
   },
   "outputs": [],
   "source": [
    "p.domains_source = []\n",
    "p.domains_target = []\n",
    "\n",
    "\n",
    "train_original_source = []\n",
    "val_original_source   = []\n",
    "test_original_source  = []\n",
    "\n",
    "train_original_target = []\n",
    "val_original_target   = []\n",
    "test_original_target  = []"
   ]
  },
  {
   "cell_type": "code",
   "execution_count": 11,
   "id": "e3d9c3d3",
   "metadata": {
    "execution": {
     "iopub.execute_input": "2022-03-21T17:25:52.458744Z",
     "iopub.status.busy": "2022-03-21T17:25:52.458374Z",
     "iopub.status.idle": "2022-03-21T17:25:52.475932Z",
     "shell.execute_reply": "2022-03-21T17:25:52.476597Z"
    },
    "papermill": {
     "duration": 0.040523,
     "end_time": "2022-03-21T17:25:52.476790",
     "exception": false,
     "start_time": "2022-03-21T17:25:52.436267",
     "status": "completed"
    },
    "tags": []
   },
   "outputs": [],
   "source": [
    "# global_x_transform_func = lambda x: normalize(x.to(torch.get_default_dtype()), \"unit_power\") # unit_power, unit_mag\n",
    "# global_x_transform_func = lambda x: normalize(x, \"unit_power\") # unit_power, unit_mag"
   ]
  },
  {
   "cell_type": "code",
   "execution_count": 12,
   "id": "acb78fd2",
   "metadata": {
    "execution": {
     "iopub.execute_input": "2022-03-21T17:25:52.537424Z",
     "iopub.status.busy": "2022-03-21T17:25:52.536850Z",
     "iopub.status.idle": "2022-03-21T17:25:52.555376Z",
     "shell.execute_reply": "2022-03-21T17:25:52.556071Z"
    },
    "papermill": {
     "duration": 0.05165,
     "end_time": "2022-03-21T17:25:52.556247",
     "exception": false,
     "start_time": "2022-03-21T17:25:52.504597",
     "status": "completed"
    },
    "tags": []
   },
   "outputs": [],
   "source": [
    "def add_dataset(\n",
    "    labels,\n",
    "    domains,\n",
    "    pickle_path,\n",
    "    x_transforms,\n",
    "    episode_transforms,\n",
    "    domain_prefix,\n",
    "    num_examples_per_domain_per_label,\n",
    "    source_or_target_dataset:str,\n",
    "    iterator_seed=p.seed,\n",
    "    dataset_seed=p.dataset_seed,\n",
    "    n_shot=p.n_shot,\n",
    "    n_way=p.n_way,\n",
    "    n_query=p.n_query,\n",
    "    train_val_test_k_factors=(p.train_k_factor,p.val_k_factor,p.test_k_factor),\n",
    "):\n",
    "   \n",
    "    if x_transforms == []: x_transform = None\n",
    "    else: x_transform = get_chained_transform(x_transforms)\n",
    "    \n",
    "    if episode_transforms == []: episode_transform = None\n",
    "    else: raise Exception(\"episode_transforms not implemented\")\n",
    "    \n",
    "    episode_transform = lambda tup, _prefix=domain_prefix: (_prefix + str(tup[0]), tup[1])\n",
    "\n",
    "\n",
    "    eaf = Episodic_Accessor_Factory(\n",
    "        labels=labels,\n",
    "        domains=domains,\n",
    "        num_examples_per_domain_per_label=num_examples_per_domain_per_label,\n",
    "        iterator_seed=iterator_seed,\n",
    "        dataset_seed=dataset_seed,\n",
    "        n_shot=n_shot,\n",
    "        n_way=n_way,\n",
    "        n_query=n_query,\n",
    "        train_val_test_k_factors=train_val_test_k_factors,\n",
    "        pickle_path=pickle_path,\n",
    "        x_transform_func=x_transform,\n",
    "    )\n",
    "\n",
    "    train, val, test = eaf.get_train(), eaf.get_val(), eaf.get_test()\n",
    "    train = Lazy_Iterable_Wrapper(train, episode_transform)\n",
    "    val = Lazy_Iterable_Wrapper(val, episode_transform)\n",
    "    test = Lazy_Iterable_Wrapper(test, episode_transform)\n",
    "\n",
    "    if source_or_target_dataset==\"source\":\n",
    "        train_original_source.append(train)\n",
    "        val_original_source.append(val)\n",
    "        test_original_source.append(test)\n",
    "\n",
    "        p.domains_source.extend(\n",
    "            [domain_prefix + str(u) for u in domains]\n",
    "        )\n",
    "    elif source_or_target_dataset==\"target\":\n",
    "        train_original_target.append(train)\n",
    "        val_original_target.append(val)\n",
    "        test_original_target.append(test)\n",
    "        p.domains_target.extend(\n",
    "            [domain_prefix + str(u) for u in domains]\n",
    "        )\n",
    "    else:\n",
    "        raise Exception(f\"invalid source_or_target_dataset: {source_or_target_dataset}\")\n",
    "    "
   ]
  },
  {
   "cell_type": "code",
   "execution_count": 13,
   "id": "fe266617",
   "metadata": {
    "execution": {
     "iopub.execute_input": "2022-03-21T17:25:52.605595Z",
     "iopub.status.busy": "2022-03-21T17:25:52.605239Z",
     "iopub.status.idle": "2022-03-21T17:26:33.796279Z",
     "shell.execute_reply": "2022-03-21T17:26:33.795486Z"
    },
    "papermill": {
     "duration": 41.213538,
     "end_time": "2022-03-21T17:26:33.796457",
     "exception": false,
     "start_time": "2022-03-21T17:25:52.582919",
     "status": "completed"
    },
    "tags": []
   },
   "outputs": [],
   "source": [
    "for ds in p.datasets:\n",
    "    add_dataset(**ds)"
   ]
  },
  {
   "cell_type": "code",
   "execution_count": 14,
   "id": "b90d65ac",
   "metadata": {
    "execution": {
     "iopub.execute_input": "2022-03-21T17:26:33.848814Z",
     "iopub.status.busy": "2022-03-21T17:26:33.848350Z",
     "iopub.status.idle": "2022-03-21T17:26:33.870879Z",
     "shell.execute_reply": "2022-03-21T17:26:33.870084Z"
    },
    "papermill": {
     "duration": 0.04636,
     "end_time": "2022-03-21T17:26:33.871037",
     "exception": false,
     "start_time": "2022-03-21T17:26:33.824677",
     "status": "completed"
    },
    "tags": []
   },
   "outputs": [],
   "source": [
    "# from steves_utils.CORES.utils import (\n",
    "#     ALL_NODES,\n",
    "#     ALL_NODES_MINIMUM_1000_EXAMPLES,\n",
    "#     ALL_DAYS\n",
    "# )\n",
    "\n",
    "# add_dataset(\n",
    "#     labels=ALL_NODES,\n",
    "#     domains = ALL_DAYS,\n",
    "#     num_examples_per_domain_per_label=100,\n",
    "#     pickle_path=os.path.join(get_datasets_base_path(), \"cores.stratified_ds.2022A.pkl\"),\n",
    "#     source_or_target_dataset=\"target\",\n",
    "#     x_transform_func=global_x_transform_func,\n",
    "#     domain_modifier=lambda u: f\"cores_{u}\"\n",
    "# )"
   ]
  },
  {
   "cell_type": "code",
   "execution_count": 15,
   "id": "76db484d",
   "metadata": {
    "execution": {
     "iopub.execute_input": "2022-03-21T17:26:33.921745Z",
     "iopub.status.busy": "2022-03-21T17:26:33.921174Z",
     "iopub.status.idle": "2022-03-21T17:26:33.944800Z",
     "shell.execute_reply": "2022-03-21T17:26:33.944063Z"
    },
    "papermill": {
     "duration": 0.0477,
     "end_time": "2022-03-21T17:26:33.944955",
     "exception": false,
     "start_time": "2022-03-21T17:26:33.897255",
     "status": "completed"
    },
    "tags": []
   },
   "outputs": [],
   "source": [
    "# from steves_utils.ORACLE.utils_v2 import (\n",
    "#     ALL_DISTANCES_FEET,\n",
    "#     ALL_RUNS,\n",
    "#     ALL_SERIAL_NUMBERS,\n",
    "# )\n",
    "\n",
    "\n",
    "# add_dataset(\n",
    "#     labels=ALL_SERIAL_NUMBERS,\n",
    "#     domains = list(set(ALL_DISTANCES_FEET) - {2,62}),\n",
    "#     num_examples_per_domain_per_label=100,\n",
    "#     pickle_path=os.path.join(get_datasets_base_path(), \"oracle.Run2_framed_2000Examples_stratified_ds.2022A.pkl\"),\n",
    "#     source_or_target_dataset=\"source\",\n",
    "#     x_transform_func=global_x_transform_func,\n",
    "#     domain_modifier=lambda u: f\"oracle1_{u}\"\n",
    "# )\n"
   ]
  },
  {
   "cell_type": "code",
   "execution_count": 16,
   "id": "97dea9d2",
   "metadata": {
    "execution": {
     "iopub.execute_input": "2022-03-21T17:26:33.998904Z",
     "iopub.status.busy": "2022-03-21T17:26:33.998115Z",
     "iopub.status.idle": "2022-03-21T17:26:34.021103Z",
     "shell.execute_reply": "2022-03-21T17:26:34.020306Z"
    },
    "papermill": {
     "duration": 0.04687,
     "end_time": "2022-03-21T17:26:34.021258",
     "exception": false,
     "start_time": "2022-03-21T17:26:33.974388",
     "status": "completed"
    },
    "tags": []
   },
   "outputs": [],
   "source": [
    "# from steves_utils.ORACLE.utils_v2 import (\n",
    "#     ALL_DISTANCES_FEET,\n",
    "#     ALL_RUNS,\n",
    "#     ALL_SERIAL_NUMBERS,\n",
    "# )\n",
    "\n",
    "\n",
    "# add_dataset(\n",
    "#     labels=ALL_SERIAL_NUMBERS,\n",
    "#     domains = list(set(ALL_DISTANCES_FEET) - {2,62,56}),\n",
    "#     num_examples_per_domain_per_label=100,\n",
    "#     pickle_path=os.path.join(get_datasets_base_path(), \"oracle.Run2_framed_2000Examples_stratified_ds.2022A.pkl\"),\n",
    "#     source_or_target_dataset=\"source\",\n",
    "#     x_transform_func=global_x_transform_func,\n",
    "#     domain_modifier=lambda u: f\"oracle2_{u}\"\n",
    "# )"
   ]
  },
  {
   "cell_type": "code",
   "execution_count": 17,
   "id": "6f289866",
   "metadata": {
    "execution": {
     "iopub.execute_input": "2022-03-21T17:26:34.074681Z",
     "iopub.status.busy": "2022-03-21T17:26:34.074312Z",
     "iopub.status.idle": "2022-03-21T17:26:34.096917Z",
     "shell.execute_reply": "2022-03-21T17:26:34.096219Z"
    },
    "papermill": {
     "duration": 0.046766,
     "end_time": "2022-03-21T17:26:34.097072",
     "exception": false,
     "start_time": "2022-03-21T17:26:34.050306",
     "status": "completed"
    },
    "tags": []
   },
   "outputs": [],
   "source": [
    "# add_dataset(\n",
    "#     labels=list(range(19)),\n",
    "#     domains = [0,1,2],\n",
    "#     num_examples_per_domain_per_label=100,\n",
    "#     pickle_path=os.path.join(get_datasets_base_path(), \"metehan.stratified_ds.2022A.pkl\"),\n",
    "#     source_or_target_dataset=\"target\",\n",
    "#     x_transform_func=global_x_transform_func,\n",
    "#     domain_modifier=lambda u: f\"met_{u}\"\n",
    "# )"
   ]
  },
  {
   "cell_type": "code",
   "execution_count": 18,
   "id": "86a863c3",
   "metadata": {
    "execution": {
     "iopub.execute_input": "2022-03-21T17:26:34.149401Z",
     "iopub.status.busy": "2022-03-21T17:26:34.149030Z",
     "iopub.status.idle": "2022-03-21T17:26:34.172376Z",
     "shell.execute_reply": "2022-03-21T17:26:34.171590Z"
    },
    "papermill": {
     "duration": 0.047721,
     "end_time": "2022-03-21T17:26:34.172532",
     "exception": false,
     "start_time": "2022-03-21T17:26:34.124811",
     "status": "completed"
    },
    "tags": []
   },
   "outputs": [],
   "source": [
    "# # from steves_utils.wisig.utils import (\n",
    "# #     ALL_NODES_MINIMUM_100_EXAMPLES,\n",
    "# #     ALL_NODES_MINIMUM_500_EXAMPLES,\n",
    "# #     ALL_NODES_MINIMUM_1000_EXAMPLES,\n",
    "# #     ALL_DAYS\n",
    "# # )\n",
    "\n",
    "# import steves_utils.wisig.utils as wisig\n",
    "\n",
    "\n",
    "# add_dataset(\n",
    "#     labels=wisig.ALL_NODES_MINIMUM_100_EXAMPLES,\n",
    "#     domains = wisig.ALL_DAYS,\n",
    "#     num_examples_per_domain_per_label=100,\n",
    "#     pickle_path=os.path.join(get_datasets_base_path(), \"wisig.node3-19.stratified_ds.2022A.pkl\"),\n",
    "#     source_or_target_dataset=\"target\",\n",
    "#     x_transform_func=global_x_transform_func,\n",
    "#     domain_modifier=lambda u: f\"wisig_{u}\"\n",
    "# )"
   ]
  },
  {
   "cell_type": "code",
   "execution_count": 19,
   "id": "fd5442bc",
   "metadata": {
    "execution": {
     "iopub.execute_input": "2022-03-21T17:26:34.230823Z",
     "iopub.status.busy": "2022-03-21T17:26:34.230207Z",
     "iopub.status.idle": "2022-03-21T17:26:34.251775Z",
     "shell.execute_reply": "2022-03-21T17:26:34.251003Z"
    },
    "papermill": {
     "duration": 0.051418,
     "end_time": "2022-03-21T17:26:34.251938",
     "exception": false,
     "start_time": "2022-03-21T17:26:34.200520",
     "status": "completed"
    },
    "tags": []
   },
   "outputs": [],
   "source": [
    "###################################\n",
    "# Build the dataset\n",
    "###################################\n",
    "train_original_source = Iterable_Aggregator(train_original_source, p.seed)\n",
    "val_original_source = Iterable_Aggregator(val_original_source, p.seed)\n",
    "test_original_source = Iterable_Aggregator(test_original_source, p.seed)\n",
    "\n",
    "\n",
    "train_original_target = Iterable_Aggregator(train_original_target, p.seed)\n",
    "val_original_target = Iterable_Aggregator(val_original_target, p.seed)\n",
    "test_original_target = Iterable_Aggregator(test_original_target, p.seed)\n",
    "\n",
    "# For CNN We only use X and Y. And we only train on the source.\n",
    "# Properly form the data using a transform lambda and Lazy_Iterable_Wrapper. Finally wrap them in a dataloader\n",
    "\n",
    "transform_lambda = lambda ex: ex[1] # Original is (<domain>, <episode>) so we strip down to episode only\n",
    "\n",
    "train_processed_source = Lazy_Iterable_Wrapper(train_original_source, transform_lambda)\n",
    "val_processed_source   = Lazy_Iterable_Wrapper(val_original_source, transform_lambda)\n",
    "test_processed_source  = Lazy_Iterable_Wrapper(test_original_source, transform_lambda)\n",
    "\n",
    "train_processed_target = Lazy_Iterable_Wrapper(train_original_target, transform_lambda)\n",
    "val_processed_target   = Lazy_Iterable_Wrapper(val_original_target, transform_lambda)\n",
    "test_processed_target  = Lazy_Iterable_Wrapper(test_original_target, transform_lambda)\n",
    "\n",
    "datasets = EasyDict({\n",
    "    \"source\": {\n",
    "        \"original\": {\"train\":train_original_source, \"val\":val_original_source, \"test\":test_original_source},\n",
    "        \"processed\": {\"train\":train_processed_source, \"val\":val_processed_source, \"test\":test_processed_source}\n",
    "    },\n",
    "    \"target\": {\n",
    "        \"original\": {\"train\":train_original_target, \"val\":val_original_target, \"test\":test_original_target},\n",
    "        \"processed\": {\"train\":train_processed_target, \"val\":val_processed_target, \"test\":test_processed_target}\n",
    "    },\n",
    "})"
   ]
  },
  {
   "cell_type": "code",
   "execution_count": 20,
   "id": "5b3c01fc",
   "metadata": {
    "execution": {
     "iopub.execute_input": "2022-03-21T17:26:34.306815Z",
     "iopub.status.busy": "2022-03-21T17:26:34.306440Z",
     "iopub.status.idle": "2022-03-21T17:26:49.718890Z",
     "shell.execute_reply": "2022-03-21T17:26:49.719629Z"
    },
    "papermill": {
     "duration": 15.439509,
     "end_time": "2022-03-21T17:26:49.719848",
     "exception": false,
     "start_time": "2022-03-21T17:26:34.280339",
     "status": "completed"
    },
    "tags": []
   },
   "outputs": [
    {
     "name": "stdout",
     "output_type": "stream",
     "text": [
      "{'CORES_1', 'CORES_2', 'CORES_3', 'CORES_4', 'CORES_5'}\n"
     ]
    },
    {
     "name": "stdout",
     "output_type": "stream",
     "text": [
      "{'ORACLE.run1_20', 'ORACLE.run1_50', 'ORACLE.run1_44', 'ORACLE.run1_38', 'ORACLE.run1_8', 'ORACLE.run1_14', 'ORACLE.run1_32', 'ORACLE.run1_26'}\n"
     ]
    },
    {
     "name": "stdout",
     "output_type": "stream",
     "text": [
      "tensor([[[-0.2025, -0.1828, -0.7562,  ..., -0.2428,  0.2293, -0.0578],\n",
      "         [-0.1188,  0.0372,  0.5826,  ...,  0.5175,  1.3233,  1.4772]],\n",
      "\n",
      "        [[-0.3487, -0.9944, -0.6302,  ..., -1.2537, -1.4513, -0.9922],\n",
      "         [-0.1744, -0.6699, -1.0584,  ...,  0.7328,  0.4999,  0.3918]],\n",
      "\n",
      "        [[-0.2253, -0.1259, -0.3755,  ...,  0.4639,  1.0415,  0.8825],\n",
      "         [-0.0144,  0.2739,  1.0692,  ...,  0.6505,  0.9587,  1.3000]],\n",
      "\n",
      "        ...,\n",
      "\n",
      "        [[-0.1854, -0.7895,  0.9817,  ..., -1.2998, -0.4897,  0.7804],\n",
      "         [ 0.4417, -0.7552, -0.6751,  ...,  0.2266,  0.1465, -0.3066]],\n",
      "\n",
      "        [[-0.5350,  0.1616,  1.1291,  ..., -1.1087, -0.1776,  0.7125],\n",
      "         [-0.0728, -1.0813,  0.5691,  ..., -0.5304, -0.0524,  0.3529]],\n",
      "\n",
      "        [[ 0.0000, -0.0376, -0.0699,  ...,  1.6531,  0.4032, -0.3602],\n",
      "         [-0.1129, -0.0564, -0.1451,  ..., -0.9623, -0.2795,  0.6128]]])\n"
     ]
    }
   ],
   "source": [
    "from steves_utils.transforms import get_average_magnitude, get_average_power\n",
    "\n",
    "print(set([u for u,_ in val_original_source]))\n",
    "print(set([u for u,_ in val_original_target]))\n",
    "\n",
    "s_x, s_y, q_x, q_y, _ = next(iter(train_processed_source))\n",
    "print(s_x)\n",
    "\n",
    "# for ds in [\n",
    "#     train_processed_source,\n",
    "#     val_processed_source,\n",
    "#     test_processed_source,\n",
    "#     train_processed_target,\n",
    "#     val_processed_target,\n",
    "#     test_processed_target\n",
    "# ]:\n",
    "#     for s_x, s_y, q_x, q_y, _ in ds:\n",
    "#         for X in (s_x, q_x):\n",
    "#             for x in X:\n",
    "#                 assert np.isclose(get_average_magnitude(x.numpy()), 1.0)\n",
    "#                 assert np.isclose(get_average_power(x.numpy()), 1.0)\n",
    "                "
   ]
  },
  {
   "cell_type": "code",
   "execution_count": 21,
   "id": "bbdacba1",
   "metadata": {
    "execution": {
     "iopub.execute_input": "2022-03-21T17:26:49.775701Z",
     "iopub.status.busy": "2022-03-21T17:26:49.775113Z",
     "iopub.status.idle": "2022-03-21T17:26:49.971240Z",
     "shell.execute_reply": "2022-03-21T17:26:49.972299Z"
    },
    "papermill": {
     "duration": 0.225239,
     "end_time": "2022-03-21T17:26:49.972620",
     "exception": false,
     "start_time": "2022-03-21T17:26:49.747381",
     "status": "completed"
    },
    "tags": []
   },
   "outputs": [
    {
     "name": "stdout",
     "output_type": "stream",
     "text": [
      "(2, 256)\n"
     ]
    }
   ],
   "source": [
    "###################################\n",
    "# Build the model\n",
    "###################################\n",
    "# easfsl only wants a tuple for the shape\n",
    "model = Steves_Prototypical_Network(x_net, device=p.device, x_shape=tuple(p.x_shape))\n",
    "optimizer = Adam(params=model.parameters(), lr=p.lr)"
   ]
  },
  {
   "cell_type": "code",
   "execution_count": 22,
   "id": "22b39ac5",
   "metadata": {
    "execution": {
     "iopub.execute_input": "2022-03-21T17:26:50.039200Z",
     "iopub.status.busy": "2022-03-21T17:26:50.038825Z",
     "iopub.status.idle": "2022-03-21T18:03:37.346703Z",
     "shell.execute_reply": "2022-03-21T18:03:37.346308Z"
    },
    "papermill": {
     "duration": 2207.334963,
     "end_time": "2022-03-21T18:03:37.346802",
     "exception": false,
     "start_time": "2022-03-21T17:26:50.011839",
     "status": "completed"
    },
    "tags": []
   },
   "outputs": [
    {
     "name": "stdout",
     "output_type": "stream",
     "text": [
      "epoch: 1, [batch: 1 / 6317], examples_per_second: 35.0626, train_label_loss: 2.6330, \n"
     ]
    },
    {
     "name": "stdout",
     "output_type": "stream",
     "text": [
      "epoch: 1, [batch: 632 / 6317], examples_per_second: 2668.5033, train_label_loss: 0.0432, \n"
     ]
    },
    {
     "name": "stdout",
     "output_type": "stream",
     "text": [
      "epoch: 1, [batch: 1264 / 6317], examples_per_second: 2376.5651, train_label_loss: 0.0042, \n"
     ]
    },
    {
     "name": "stdout",
     "output_type": "stream",
     "text": [
      "epoch: 1, [batch: 1895 / 6317], examples_per_second: 2611.6838, train_label_loss: 0.0039, \n"
     ]
    },
    {
     "name": "stdout",
     "output_type": "stream",
     "text": [
      "epoch: 1, [batch: 2527 / 6317], examples_per_second: 2713.6876, train_label_loss: 0.0127, \n"
     ]
    },
    {
     "name": "stdout",
     "output_type": "stream",
     "text": [
      "epoch: 1, [batch: 3159 / 6317], examples_per_second: 2922.3033, train_label_loss: 0.1083, \n"
     ]
    },
    {
     "name": "stdout",
     "output_type": "stream",
     "text": [
      "epoch: 1, [batch: 3790 / 6317], examples_per_second: 2523.4331, train_label_loss: 0.0105, \n"
     ]
    },
    {
     "name": "stdout",
     "output_type": "stream",
     "text": [
      "epoch: 1, [batch: 4422 / 6317], examples_per_second: 2559.2328, train_label_loss: 0.0002, \n"
     ]
    },
    {
     "name": "stdout",
     "output_type": "stream",
     "text": [
      "epoch: 1, [batch: 5053 / 6317], examples_per_second: 2542.4760, train_label_loss: 0.0021, \n"
     ]
    },
    {
     "name": "stdout",
     "output_type": "stream",
     "text": [
      "epoch: 1, [batch: 5685 / 6317], examples_per_second: 2610.7357, train_label_loss: 0.0028, \n"
     ]
    },
    {
     "name": "stdout",
     "output_type": "stream",
     "text": [
      "=============================================================\n",
      "epoch: 1, source_val_acc_label: 0.9985, target_val_acc_label: 0.2599, source_val_label_loss: 0.0066, target_val_label_loss: 2.1620, \n",
      "=============================================================\n"
     ]
    },
    {
     "name": "stdout",
     "output_type": "stream",
     "text": [
      "New best\n"
     ]
    },
    {
     "name": "stdout",
     "output_type": "stream",
     "text": [
      "epoch: 2, [batch: 1 / 6315], examples_per_second: 2.6645, train_label_loss: 0.0001, \n"
     ]
    },
    {
     "name": "stdout",
     "output_type": "stream",
     "text": [
      "epoch: 2, [batch: 632 / 6315], examples_per_second: 2740.0309, train_label_loss: 0.0001, \n"
     ]
    },
    {
     "name": "stdout",
     "output_type": "stream",
     "text": [
      "epoch: 2, [batch: 1263 / 6315], examples_per_second: 2598.9386, train_label_loss: 0.0000, \n"
     ]
    },
    {
     "name": "stdout",
     "output_type": "stream",
     "text": [
      "epoch: 2, [batch: 1895 / 6315], examples_per_second: 2452.7654, train_label_loss: 0.0000, \n"
     ]
    },
    {
     "name": "stdout",
     "output_type": "stream",
     "text": [
      "epoch: 2, [batch: 2526 / 6315], examples_per_second: 2661.5746, train_label_loss: 0.0017, \n"
     ]
    },
    {
     "name": "stdout",
     "output_type": "stream",
     "text": [
      "epoch: 2, [batch: 3158 / 6315], examples_per_second: 2613.0709, train_label_loss: 0.0000, \n"
     ]
    },
    {
     "name": "stdout",
     "output_type": "stream",
     "text": [
      "epoch: 2, [batch: 3789 / 6315], examples_per_second: 2547.5860, train_label_loss: 0.0000, \n"
     ]
    },
    {
     "name": "stdout",
     "output_type": "stream",
     "text": [
      "epoch: 2, [batch: 4420 / 6315], examples_per_second: 2347.6189, train_label_loss: 0.0000, \n"
     ]
    },
    {
     "name": "stdout",
     "output_type": "stream",
     "text": [
      "epoch: 2, [batch: 5052 / 6315], examples_per_second: 2339.6101, train_label_loss: 0.0000, \n"
     ]
    },
    {
     "name": "stdout",
     "output_type": "stream",
     "text": [
      "epoch: 2, [batch: 5683 / 6315], examples_per_second: 2319.7999, train_label_loss: 0.0000, \n"
     ]
    },
    {
     "name": "stdout",
     "output_type": "stream",
     "text": [
      "=============================================================\n",
      "epoch: 2, source_val_acc_label: 0.9993, target_val_acc_label: 0.2435, source_val_label_loss: 0.0059, target_val_label_loss: 2.4376, \n",
      "=============================================================\n"
     ]
    },
    {
     "name": "stdout",
     "output_type": "stream",
     "text": [
      "epoch: 3, [batch: 1 / 6325], examples_per_second: 2.1188, train_label_loss: 0.0000, \n"
     ]
    },
    {
     "name": "stdout",
     "output_type": "stream",
     "text": [
      "epoch: 3, [batch: 633 / 6325], examples_per_second: 2629.4420, train_label_loss: 0.0000, \n"
     ]
    },
    {
     "name": "stdout",
     "output_type": "stream",
     "text": [
      "epoch: 3, [batch: 1265 / 6325], examples_per_second: 2613.4999, train_label_loss: 0.0000, \n"
     ]
    },
    {
     "name": "stdout",
     "output_type": "stream",
     "text": [
      "epoch: 3, [batch: 1898 / 6325], examples_per_second: 2626.0473, train_label_loss: 0.0000, \n"
     ]
    },
    {
     "name": "stdout",
     "output_type": "stream",
     "text": [
      "epoch: 3, [batch: 2530 / 6325], examples_per_second: 2531.7745, train_label_loss: 0.0000, \n"
     ]
    },
    {
     "name": "stdout",
     "output_type": "stream",
     "text": [
      "epoch: 3, [batch: 3163 / 6325], examples_per_second: 2622.4425, train_label_loss: 0.0000, \n"
     ]
    },
    {
     "name": "stdout",
     "output_type": "stream",
     "text": [
      "epoch: 3, [batch: 3795 / 6325], examples_per_second: 2649.0851, train_label_loss: 0.0000, \n"
     ]
    },
    {
     "name": "stdout",
     "output_type": "stream",
     "text": [
      "epoch: 3, [batch: 4427 / 6325], examples_per_second: 2517.6038, train_label_loss: 0.0001, \n"
     ]
    },
    {
     "name": "stdout",
     "output_type": "stream",
     "text": [
      "epoch: 3, [batch: 5060 / 6325], examples_per_second: 2339.2594, train_label_loss: 0.0003, \n"
     ]
    },
    {
     "name": "stdout",
     "output_type": "stream",
     "text": [
      "epoch: 3, [batch: 5692 / 6325], examples_per_second: 2322.4171, train_label_loss: 0.0000, \n"
     ]
    },
    {
     "name": "stdout",
     "output_type": "stream",
     "text": [
      "=============================================================\n",
      "epoch: 3, source_val_acc_label: 0.9992, target_val_acc_label: 0.2380, source_val_label_loss: 0.0064, target_val_label_loss: 2.8918, \n",
      "=============================================================\n"
     ]
    },
    {
     "name": "stdout",
     "output_type": "stream",
     "text": [
      "epoch: 4, [batch: 1 / 6307], examples_per_second: 2.1163, train_label_loss: 0.0000, \n"
     ]
    },
    {
     "name": "stdout",
     "output_type": "stream",
     "text": [
      "epoch: 4, [batch: 631 / 6307], examples_per_second: 2388.3529, train_label_loss: 0.0000, \n"
     ]
    },
    {
     "name": "stdout",
     "output_type": "stream",
     "text": [
      "epoch: 4, [batch: 1262 / 6307], examples_per_second: 2601.0633, train_label_loss: 0.0000, \n"
     ]
    },
    {
     "name": "stdout",
     "output_type": "stream",
     "text": [
      "epoch: 4, [batch: 1892 / 6307], examples_per_second: 2651.8594, train_label_loss: 0.0000, \n"
     ]
    },
    {
     "name": "stdout",
     "output_type": "stream",
     "text": [
      "epoch: 4, [batch: 2523 / 6307], examples_per_second: 2613.9482, train_label_loss: 0.0000, \n"
     ]
    },
    {
     "name": "stdout",
     "output_type": "stream",
     "text": [
      "epoch: 4, [batch: 3154 / 6307], examples_per_second: 2913.2722, train_label_loss: 0.0000, \n"
     ]
    },
    {
     "name": "stdout",
     "output_type": "stream",
     "text": [
      "epoch: 4, [batch: 3784 / 6307], examples_per_second: 2953.9108, train_label_loss: 0.0000, \n"
     ]
    },
    {
     "name": "stdout",
     "output_type": "stream",
     "text": [
      "epoch: 4, [batch: 4415 / 6307], examples_per_second: 2999.3988, train_label_loss: 0.0000, \n"
     ]
    },
    {
     "name": "stdout",
     "output_type": "stream",
     "text": [
      "epoch: 4, [batch: 5045 / 6307], examples_per_second: 2740.5534, train_label_loss: 0.0000, \n"
     ]
    },
    {
     "name": "stdout",
     "output_type": "stream",
     "text": [
      "epoch: 4, [batch: 5676 / 6307], examples_per_second: 2635.2135, train_label_loss: 0.0001, \n"
     ]
    },
    {
     "name": "stdout",
     "output_type": "stream",
     "text": [
      "=============================================================\n",
      "epoch: 4, source_val_acc_label: 0.9990, target_val_acc_label: 0.2647, source_val_label_loss: 0.0081, target_val_label_loss: 2.5621, \n",
      "=============================================================\n"
     ]
    },
    {
     "name": "stdout",
     "output_type": "stream",
     "text": [
      "New best\n"
     ]
    },
    {
     "name": "stdout",
     "output_type": "stream",
     "text": [
      "epoch: 5, [batch: 1 / 6302], examples_per_second: 2.3928, train_label_loss: 0.0000, \n"
     ]
    },
    {
     "name": "stdout",
     "output_type": "stream",
     "text": [
      "epoch: 5, [batch: 631 / 6302], examples_per_second: 2683.4745, train_label_loss: 0.0000, \n"
     ]
    },
    {
     "name": "stdout",
     "output_type": "stream",
     "text": [
      "epoch: 5, [batch: 1261 / 6302], examples_per_second: 3047.5953, train_label_loss: 0.0000, \n"
     ]
    },
    {
     "name": "stdout",
     "output_type": "stream",
     "text": [
      "epoch: 5, [batch: 1891 / 6302], examples_per_second: 3018.1284, train_label_loss: 0.0000, \n"
     ]
    },
    {
     "name": "stdout",
     "output_type": "stream",
     "text": [
      "epoch: 5, [batch: 2521 / 6302], examples_per_second: 3079.5190, train_label_loss: 0.0000, \n"
     ]
    },
    {
     "name": "stdout",
     "output_type": "stream",
     "text": [
      "epoch: 5, [batch: 3151 / 6302], examples_per_second: 2993.3364, train_label_loss: 0.0000, \n"
     ]
    },
    {
     "name": "stdout",
     "output_type": "stream",
     "text": [
      "epoch: 5, [batch: 3781 / 6302], examples_per_second: 3432.9120, train_label_loss: 0.0000, \n"
     ]
    },
    {
     "name": "stdout",
     "output_type": "stream",
     "text": [
      "epoch: 5, [batch: 4411 / 6302], examples_per_second: 3293.8949, train_label_loss: 0.0000, \n"
     ]
    },
    {
     "name": "stdout",
     "output_type": "stream",
     "text": [
      "epoch: 5, [batch: 5041 / 6302], examples_per_second: 3459.9891, train_label_loss: 0.0000, \n"
     ]
    },
    {
     "name": "stdout",
     "output_type": "stream",
     "text": [
      "epoch: 5, [batch: 5671 / 6302], examples_per_second: 2671.5870, train_label_loss: 0.0000, \n"
     ]
    },
    {
     "name": "stdout",
     "output_type": "stream",
     "text": [
      "=============================================================\n",
      "epoch: 5, source_val_acc_label: 0.9995, target_val_acc_label: 0.3024, source_val_label_loss: 0.0045, target_val_label_loss: 2.2480, \n",
      "=============================================================\n"
     ]
    },
    {
     "name": "stdout",
     "output_type": "stream",
     "text": [
      "New best\n"
     ]
    },
    {
     "name": "stdout",
     "output_type": "stream",
     "text": [
      "epoch: 6, [batch: 1 / 6311], examples_per_second: 2.0992, train_label_loss: 0.0000, \n"
     ]
    },
    {
     "name": "stdout",
     "output_type": "stream",
     "text": [
      "epoch: 6, [batch: 632 / 6311], examples_per_second: 2293.2274, train_label_loss: 0.0000, \n"
     ]
    },
    {
     "name": "stdout",
     "output_type": "stream",
     "text": [
      "epoch: 6, [batch: 1263 / 6311], examples_per_second: 2299.8253, train_label_loss: 0.0000, \n"
     ]
    },
    {
     "name": "stdout",
     "output_type": "stream",
     "text": [
      "epoch: 6, [batch: 1894 / 6311], examples_per_second: 2569.3920, train_label_loss: 0.0000, \n"
     ]
    },
    {
     "name": "stdout",
     "output_type": "stream",
     "text": [
      "epoch: 6, [batch: 2525 / 6311], examples_per_second: 2625.3606, train_label_loss: 0.0000, \n"
     ]
    },
    {
     "name": "stdout",
     "output_type": "stream",
     "text": [
      "epoch: 6, [batch: 3156 / 6311], examples_per_second: 2602.5380, train_label_loss: 0.0000, \n"
     ]
    },
    {
     "name": "stdout",
     "output_type": "stream",
     "text": [
      "epoch: 6, [batch: 3787 / 6311], examples_per_second: 2641.9857, train_label_loss: 0.0000, \n"
     ]
    },
    {
     "name": "stdout",
     "output_type": "stream",
     "text": [
      "epoch: 6, [batch: 4418 / 6311], examples_per_second: 2985.1239, train_label_loss: 0.0000, \n"
     ]
    },
    {
     "name": "stdout",
     "output_type": "stream",
     "text": [
      "epoch: 6, [batch: 5049 / 6311], examples_per_second: 3166.3882, train_label_loss: 0.0000, \n"
     ]
    },
    {
     "name": "stdout",
     "output_type": "stream",
     "text": [
      "epoch: 6, [batch: 5680 / 6311], examples_per_second: 3350.8523, train_label_loss: 0.0000, \n"
     ]
    },
    {
     "name": "stdout",
     "output_type": "stream",
     "text": [
      "=============================================================\n",
      "epoch: 6, source_val_acc_label: 0.9990, target_val_acc_label: 0.2807, source_val_label_loss: 0.0096, target_val_label_loss: 2.7462, \n",
      "=============================================================\n"
     ]
    },
    {
     "name": "stdout",
     "output_type": "stream",
     "text": [
      "epoch: 7, [batch: 1 / 6310], examples_per_second: 2.5505, train_label_loss: 0.0000, \n"
     ]
    },
    {
     "name": "stdout",
     "output_type": "stream",
     "text": [
      "epoch: 7, [batch: 631 / 6310], examples_per_second: 2305.8443, train_label_loss: 0.0000, \n"
     ]
    },
    {
     "name": "stdout",
     "output_type": "stream",
     "text": [
      "epoch: 7, [batch: 1262 / 6310], examples_per_second: 2319.7577, train_label_loss: 0.0000, \n"
     ]
    },
    {
     "name": "stdout",
     "output_type": "stream",
     "text": [
      "epoch: 7, [batch: 1893 / 6310], examples_per_second: 2304.9587, train_label_loss: 0.0000, \n"
     ]
    },
    {
     "name": "stdout",
     "output_type": "stream",
     "text": [
      "epoch: 7, [batch: 2524 / 6310], examples_per_second: 2291.3839, train_label_loss: 0.0000, \n"
     ]
    },
    {
     "name": "stdout",
     "output_type": "stream",
     "text": [
      "epoch: 7, [batch: 3155 / 6310], examples_per_second: 2313.4683, train_label_loss: 0.0000, \n"
     ]
    },
    {
     "name": "stdout",
     "output_type": "stream",
     "text": [
      "epoch: 7, [batch: 3786 / 6310], examples_per_second: 2332.8824, train_label_loss: 0.0000, \n"
     ]
    },
    {
     "name": "stdout",
     "output_type": "stream",
     "text": [
      "epoch: 7, [batch: 4417 / 6310], examples_per_second: 2454.7213, train_label_loss: 0.0000, \n"
     ]
    },
    {
     "name": "stdout",
     "output_type": "stream",
     "text": [
      "epoch: 7, [batch: 5048 / 6310], examples_per_second: 2769.8298, train_label_loss: 0.0000, \n"
     ]
    },
    {
     "name": "stdout",
     "output_type": "stream",
     "text": [
      "epoch: 7, [batch: 5679 / 6310], examples_per_second: 2950.9267, train_label_loss: 0.0000, \n"
     ]
    },
    {
     "name": "stdout",
     "output_type": "stream",
     "text": [
      "=============================================================\n",
      "epoch: 7, source_val_acc_label: 0.9996, target_val_acc_label: 0.2943, source_val_label_loss: 0.0060, target_val_label_loss: 2.5219, \n",
      "=============================================================\n"
     ]
    },
    {
     "name": "stdout",
     "output_type": "stream",
     "text": [
      "epoch: 8, [batch: 1 / 6331], examples_per_second: 2.2839, train_label_loss: 0.0000, \n"
     ]
    },
    {
     "name": "stdout",
     "output_type": "stream",
     "text": [
      "epoch: 8, [batch: 634 / 6331], examples_per_second: 2299.8485, train_label_loss: 0.0000, \n"
     ]
    },
    {
     "name": "stdout",
     "output_type": "stream",
     "text": [
      "epoch: 8, [batch: 1267 / 6331], examples_per_second: 2300.5412, train_label_loss: 0.0000, \n"
     ]
    },
    {
     "name": "stdout",
     "output_type": "stream",
     "text": [
      "epoch: 8, [batch: 1900 / 6331], examples_per_second: 2304.1765, train_label_loss: 0.0000, \n"
     ]
    },
    {
     "name": "stdout",
     "output_type": "stream",
     "text": [
      "epoch: 8, [batch: 2533 / 6331], examples_per_second: 2307.6362, train_label_loss: 0.0000, \n"
     ]
    },
    {
     "name": "stdout",
     "output_type": "stream",
     "text": [
      "epoch: 8, [batch: 3166 / 6331], examples_per_second: 2303.3653, train_label_loss: 0.0000, \n"
     ]
    },
    {
     "name": "stdout",
     "output_type": "stream",
     "text": [
      "epoch: 8, [batch: 3799 / 6331], examples_per_second: 2285.6447, train_label_loss: 0.0000, \n"
     ]
    },
    {
     "name": "stdout",
     "output_type": "stream",
     "text": [
      "epoch: 8, [batch: 4432 / 6331], examples_per_second: 2310.5024, train_label_loss: 0.0000, \n"
     ]
    },
    {
     "name": "stdout",
     "output_type": "stream",
     "text": [
      "epoch: 8, [batch: 5065 / 6331], examples_per_second: 2585.0486, train_label_loss: 0.0000, \n"
     ]
    },
    {
     "name": "stdout",
     "output_type": "stream",
     "text": [
      "epoch: 8, [batch: 5698 / 6331], examples_per_second: 2816.6145, train_label_loss: 0.0000, \n"
     ]
    },
    {
     "name": "stdout",
     "output_type": "stream",
     "text": [
      "=============================================================\n",
      "epoch: 8, source_val_acc_label: 0.9996, target_val_acc_label: 0.2744, source_val_label_loss: 0.0049, target_val_label_loss: 3.2143, \n",
      "=============================================================\n"
     ]
    },
    {
     "name": "stdout",
     "output_type": "stream",
     "text": [
      "epoch: 9, [batch: 1 / 6311], examples_per_second: 2.4342, train_label_loss: 0.0000, \n"
     ]
    },
    {
     "name": "stdout",
     "output_type": "stream",
     "text": [
      "epoch: 9, [batch: 632 / 6311], examples_per_second: 2305.3589, train_label_loss: 0.0000, \n"
     ]
    },
    {
     "name": "stdout",
     "output_type": "stream",
     "text": [
      "epoch: 9, [batch: 1263 / 6311], examples_per_second: 2314.9100, train_label_loss: 0.0000, \n"
     ]
    },
    {
     "name": "stdout",
     "output_type": "stream",
     "text": [
      "epoch: 9, [batch: 1894 / 6311], examples_per_second: 2313.6057, train_label_loss: 0.0000, \n"
     ]
    },
    {
     "name": "stdout",
     "output_type": "stream",
     "text": [
      "epoch: 9, [batch: 2525 / 6311], examples_per_second: 2296.0857, train_label_loss: 0.0000, \n"
     ]
    },
    {
     "name": "stdout",
     "output_type": "stream",
     "text": [
      "epoch: 9, [batch: 3156 / 6311], examples_per_second: 2294.2156, train_label_loss: 0.0000, \n"
     ]
    },
    {
     "name": "stdout",
     "output_type": "stream",
     "text": [
      "epoch: 9, [batch: 3787 / 6311], examples_per_second: 2303.3824, train_label_loss: 0.0000, \n"
     ]
    },
    {
     "name": "stdout",
     "output_type": "stream",
     "text": [
      "epoch: 9, [batch: 4418 / 6311], examples_per_second: 2306.5036, train_label_loss: 0.0000, \n"
     ]
    },
    {
     "name": "stdout",
     "output_type": "stream",
     "text": [
      "epoch: 9, [batch: 5049 / 6311], examples_per_second: 2330.7518, train_label_loss: 0.0000, \n"
     ]
    },
    {
     "name": "stdout",
     "output_type": "stream",
     "text": [
      "epoch: 9, [batch: 5680 / 6311], examples_per_second: 2592.6002, train_label_loss: 0.0000, \n"
     ]
    },
    {
     "name": "stdout",
     "output_type": "stream",
     "text": [
      "=============================================================\n",
      "epoch: 9, source_val_acc_label: 0.9994, target_val_acc_label: 0.2382, source_val_label_loss: 0.0085, target_val_label_loss: 3.3669, \n",
      "=============================================================\n"
     ]
    },
    {
     "name": "stdout",
     "output_type": "stream",
     "text": [
      "Patience (3) exhausted\n"
     ]
    }
   ],
   "source": [
    "###################################\n",
    "# train\n",
    "###################################\n",
    "jig = PTN_Train_Eval_Test_Jig(model, p.BEST_MODEL_PATH, p.device)\n",
    "\n",
    "jig.train(\n",
    "    train_iterable=datasets.source.processed.train,\n",
    "    source_val_iterable=datasets.source.processed.val,\n",
    "    target_val_iterable=datasets.target.processed.val,\n",
    "    num_epochs=p.n_epoch,\n",
    "    num_logs_per_epoch=p.NUM_LOGS_PER_EPOCH,\n",
    "    patience=p.patience,\n",
    "    optimizer=optimizer,\n",
    "    criteria_for_best=p.criteria_for_best,\n",
    ")"
   ]
  },
  {
   "cell_type": "code",
   "execution_count": 23,
   "id": "31e8fabf",
   "metadata": {
    "execution": {
     "iopub.execute_input": "2022-03-21T18:03:37.449155Z",
     "iopub.status.busy": "2022-03-21T18:03:37.448597Z",
     "iopub.status.idle": "2022-03-21T18:03:37.479429Z",
     "shell.execute_reply": "2022-03-21T18:03:37.478628Z"
    },
    "papermill": {
     "duration": 0.084645,
     "end_time": "2022-03-21T18:03:37.479602",
     "exception": false,
     "start_time": "2022-03-21T18:03:37.394957",
     "status": "completed"
    },
    "tags": []
   },
   "outputs": [],
   "source": [
    "total_experiment_time_secs = time.time() - start_time_secs"
   ]
  },
  {
   "cell_type": "code",
   "execution_count": 24,
   "id": "87b9595b",
   "metadata": {
    "execution": {
     "iopub.execute_input": "2022-03-21T18:03:37.593387Z",
     "iopub.status.busy": "2022-03-21T18:03:37.592523Z",
     "iopub.status.idle": "2022-03-21T18:08:12.135600Z",
     "shell.execute_reply": "2022-03-21T18:08:12.136304Z"
    },
    "papermill": {
     "duration": 274.604055,
     "end_time": "2022-03-21T18:08:12.136558",
     "exception": false,
     "start_time": "2022-03-21T18:03:37.532503",
     "status": "completed"
    },
    "tags": []
   },
   "outputs": [],
   "source": [
    "###################################\n",
    "# Evaluate the model\n",
    "###################################\n",
    "source_test_label_accuracy, source_test_label_loss = jig.test(datasets.source.processed.test)\n",
    "target_test_label_accuracy, target_test_label_loss = jig.test(datasets.target.processed.test)\n",
    "\n",
    "source_val_label_accuracy, source_val_label_loss = jig.test(datasets.source.processed.val)\n",
    "target_val_label_accuracy, target_val_label_loss = jig.test(datasets.target.processed.val)\n",
    "\n",
    "history = jig.get_history()\n",
    "\n",
    "total_epochs_trained = len(history[\"epoch_indices\"])\n",
    "\n",
    "val_dl = Iterable_Aggregator((datasets.source.original.val,datasets.target.original.val))\n",
    "\n",
    "confusion = ptn_confusion_by_domain_over_dataloader(model, p.device, val_dl)\n",
    "per_domain_accuracy = per_domain_accuracy_from_confusion(confusion)\n",
    "\n",
    "# Add a key to per_domain_accuracy for if it was a source domain\n",
    "for domain, accuracy in per_domain_accuracy.items():\n",
    "    per_domain_accuracy[domain] = {\n",
    "        \"accuracy\": accuracy,\n",
    "        \"source?\": domain in p.domains_source\n",
    "    }\n",
    "\n",
    "# Do an independent accuracy assesment JUST TO BE SURE!\n",
    "# _source_test_label_accuracy = independent_accuracy_assesment(model, datasets.source.processed.test, p.device)\n",
    "# _target_test_label_accuracy = independent_accuracy_assesment(model, datasets.target.processed.test, p.device)\n",
    "# _source_val_label_accuracy = independent_accuracy_assesment(model, datasets.source.processed.val, p.device)\n",
    "# _target_val_label_accuracy = independent_accuracy_assesment(model, datasets.target.processed.val, p.device)\n",
    "\n",
    "# assert(_source_test_label_accuracy == source_test_label_accuracy)\n",
    "# assert(_target_test_label_accuracy == target_test_label_accuracy)\n",
    "# assert(_source_val_label_accuracy == source_val_label_accuracy)\n",
    "# assert(_target_val_label_accuracy == target_val_label_accuracy)\n",
    "\n",
    "experiment = {\n",
    "    \"experiment_name\": p.experiment_name,\n",
    "    \"parameters\": dict(p),\n",
    "    \"results\": {\n",
    "        \"source_test_label_accuracy\": source_test_label_accuracy,\n",
    "        \"source_test_label_loss\": source_test_label_loss,\n",
    "        \"target_test_label_accuracy\": target_test_label_accuracy,\n",
    "        \"target_test_label_loss\": target_test_label_loss,\n",
    "        \"source_val_label_accuracy\": source_val_label_accuracy,\n",
    "        \"source_val_label_loss\": source_val_label_loss,\n",
    "        \"target_val_label_accuracy\": target_val_label_accuracy,\n",
    "        \"target_val_label_loss\": target_val_label_loss,\n",
    "        \"total_epochs_trained\": total_epochs_trained,\n",
    "        \"total_experiment_time_secs\": total_experiment_time_secs,\n",
    "        \"confusion\": confusion,\n",
    "        \"per_domain_accuracy\": per_domain_accuracy,\n",
    "    },\n",
    "    \"history\": history,\n",
    "    \"dataset_metrics\": get_dataset_metrics(datasets, \"ptn\"),\n",
    "}"
   ]
  },
  {
   "cell_type": "code",
   "execution_count": 25,
   "id": "54a21829",
   "metadata": {
    "execution": {
     "iopub.execute_input": "2022-03-21T18:08:12.246819Z",
     "iopub.status.busy": "2022-03-21T18:08:12.246438Z",
     "iopub.status.idle": "2022-03-21T18:08:12.471003Z",
     "shell.execute_reply": "2022-03-21T18:08:12.471716Z"
    },
    "papermill": {
     "duration": 0.280013,
     "end_time": "2022-03-21T18:08:12.471950",
     "exception": false,
     "start_time": "2022-03-21T18:08:12.191937",
     "status": "completed"
    },
    "tags": []
   },
   "outputs": [
    {
     "data": {
      "image/png": "[encoded data removed]",
      "text/plain": [
       "<Figure size 1080x504 with 1 Axes>"
      ]
     },
     "metadata": {
      "needs_background": "light"
     },
     "output_type": "display_data"
    }
   ],
   "source": [
    "ax = get_loss_curve(experiment)\n",
    "plt.show()"
   ]
  },
  {
   "cell_type": "code",
   "execution_count": 26,
   "id": "fd8a0f60",
   "metadata": {
    "execution": {
     "iopub.execute_input": "2022-03-21T18:08:12.579686Z",
     "iopub.status.busy": "2022-03-21T18:08:12.579155Z",
     "iopub.status.idle": "2022-03-21T18:08:12.944731Z",
     "shell.execute_reply": "2022-03-21T18:08:12.945177Z"
    },
    "papermill": {
     "duration": 0.419297,
     "end_time": "2022-03-21T18:08:12.945355",
     "exception": false,
     "start_time": "2022-03-21T18:08:12.526058",
     "status": "completed"
    },
    "tags": []
   },
   "outputs": [
    {
     "data": {
      "text/plain": [
       "<AxesSubplot:title={'center':'Results'}>"
      ]
     },
     "execution_count": 26,
     "metadata": {},
     "output_type": "execute_result"
    },
    {
     "data": {
      "image/png": "[encoded data removed]",
      "text/plain": [
       "<Figure size 1080x504 with 1 Axes>"
      ]
     },
     "metadata": {
      "needs_background": "light"
     },
     "output_type": "display_data"
    }
   ],
   "source": [
    "get_results_table(experiment)"
   ]
  },
  {
   "cell_type": "code",
   "execution_count": 27,
   "id": "cf8dc689",
   "metadata": {
    "execution": {
     "iopub.execute_input": "2022-03-21T18:08:13.079939Z",
     "iopub.status.busy": "2022-03-21T18:08:13.079525Z",
     "iopub.status.idle": "2022-03-21T18:08:13.338183Z",
     "shell.execute_reply": "2022-03-21T18:08:13.338863Z"
    },
    "papermill": {
     "duration": 0.325924,
     "end_time": "2022-03-21T18:08:13.339096",
     "exception": false,
     "start_time": "2022-03-21T18:08:13.013172",
     "status": "completed"
    },
    "tags": []
   },
   "outputs": [
    {
     "data": {
      "text/plain": [
       "<AxesSubplot:title={'center':'Per Domain Validation Accuracy'}, xlabel='domain'>"
      ]
     },
     "execution_count": 27,
     "metadata": {},
     "output_type": "execute_result"
    },
    {
     "data": {
      "image/png": "[encoded data removed]",
      "text/plain": [
       "<Figure size 1080x504 with 1 Axes>"
      ]
     },
     "metadata": {
      "needs_background": "light"
     },
     "output_type": "display_data"
    }
   ],
   "source": [
    "get_domain_accuracies(experiment)"
   ]
  },
  {
   "cell_type": "code",
   "execution_count": 28,
   "id": "a74ae082",
   "metadata": {
    "execution": {
     "iopub.execute_input": "2022-03-21T18:08:13.454472Z",
     "iopub.status.busy": "2022-03-21T18:08:13.453941Z",
     "iopub.status.idle": "2022-03-21T18:08:13.476382Z",
     "shell.execute_reply": "2022-03-21T18:08:13.477063Z"
    },
    "papermill": {
     "duration": 0.079591,
     "end_time": "2022-03-21T18:08:13.477264",
     "exception": false,
     "start_time": "2022-03-21T18:08:13.397673",
     "status": "completed"
    },
    "tags": []
   },
   "outputs": [
    {
     "name": "stdout",
     "output_type": "stream",
     "text": [
      "Source Test Label Accuracy: 0.9991573033707866 Target Test Label Accuracy: 0.30247395833333335\n",
      "Source Val Label Accuracy: 0.9995357142857143 Target Val Label Accuracy: 0.30244140625\n"
     ]
    }
   ],
   "source": [
    "print(\"Source Test Label Accuracy:\", experiment[\"results\"][\"source_test_label_accuracy\"], \"Target Test Label Accuracy:\", experiment[\"results\"][\"target_test_label_accuracy\"])\n",
    "print(\"Source Val Label Accuracy:\", experiment[\"results\"][\"source_val_label_accuracy\"], \"Target Val Label Accuracy:\", experiment[\"results\"][\"target_val_label_accuracy\"])"
   ]
  },
  {
   "cell_type": "code",
   "execution_count": 29,
   "id": "dacca602",
   "metadata": {
    "execution": {
     "iopub.execute_input": "2022-03-21T18:08:13.594018Z",
     "iopub.status.busy": "2022-03-21T18:08:13.593456Z",
     "iopub.status.idle": "2022-03-21T18:08:13.617507Z",
     "shell.execute_reply": "2022-03-21T18:08:13.618183Z"
    },
    "papermill": {
     "duration": 0.081814,
     "end_time": "2022-03-21T18:08:13.618389",
     "exception": false,
     "start_time": "2022-03-21T18:08:13.536575",
     "status": "completed"
    },
    "tags": [
     "experiment_json"
    ]
   },
   "outputs": [
    {
     "data": {
      "text/plain": [
       "'{\"experiment_name\": \"tl_1v2:cores-oracle.run1.framed\", \"parameters\": {\"experiment_name\": \"tl_1v2:cores-oracle.run1.framed\", \"device\": \"cuda\", \"lr\": 0.0001, \"n_shot\": 3, \"n_query\": 2, \"train_k_factor\": 3, \"val_k_factor\": 2, \"test_k_factor\": 2, \"torch_default_dtype\": \"torch.float32\", \"n_epoch\": 50, \"patience\": 3, \"criteria_for_best\": \"target_accuracy\", \"x_net\": [{\"class\": \"nnReshape\", \"kargs\": {\"shape\": [-1, 1, 2, 256]}}, {\"class\": \"Conv2d\", \"kargs\": {\"in_channels\": 1, \"out_channels\": 256, \"kernel_size\": [1, 7], \"bias\": false, \"padding\": [0, 3]}}, {\"class\": \"ReLU\", \"kargs\": {\"inplace\": true}}, {\"class\": \"BatchNorm2d\", \"kargs\": {\"num_features\": 256}}, {\"class\": \"Conv2d\", \"kargs\": {\"in_channels\": 256, \"out_channels\": 80, \"kernel_size\": [2, 7], \"bias\": true, \"padding\": [0, 3]}}, {\"class\": \"ReLU\", \"kargs\": {\"inplace\": true}}, {\"class\": \"BatchNorm2d\", \"kargs\": {\"num_features\": 80}}, {\"class\": \"Flatten\", \"kargs\": {}}, {\"class\": \"Linear\", \"kargs\": {\"in_features\": 20480, \"out_features\": 256}}, {\"class\": \"ReLU\", \"kargs\": {\"inplace\": true}}, {\"class\": \"BatchNorm1d\", \"kargs\": {\"num_features\": 256}}, {\"class\": \"Linear\", \"kargs\": {\"in_features\": 256, \"out_features\": 256}}], \"NUM_LOGS_PER_EPOCH\": 10, \"BEST_MODEL_PATH\": \"./best_model.pth\", \"n_way\": 16, \"datasets\": [{\"labels\": [\"1-10.\", \"1-11.\", \"1-15.\", \"1-16.\", \"1-17.\", \"1-18.\", \"1-19.\", \"10-4.\", \"10-7.\", \"11-1.\", \"11-14.\", \"11-17.\", \"11-20.\", \"11-7.\", \"13-20.\", \"13-8.\", \"14-10.\", \"14-11.\", \"14-14.\", \"14-7.\", \"15-1.\", \"15-20.\", \"16-1.\", \"16-16.\", \"17-10.\", \"17-11.\", \"17-2.\", \"19-1.\", \"19-16.\", \"19-19.\", \"19-20.\", \"19-3.\", \"2-10.\", \"2-11.\", \"2-17.\", \"2-18.\", \"2-20.\", \"2-3.\", \"2-4.\", \"2-5.\", \"2-6.\", \"2-7.\", \"2-8.\", \"3-13.\", \"3-18.\", \"3-3.\", \"4-1.\", \"4-10.\", \"4-11.\", \"4-19.\", \"5-5.\", \"6-15.\", \"7-10.\", \"7-14.\", \"8-18.\", \"8-20.\", \"8-3.\", \"8-8.\"], \"domains\": [1, 2, 3, 4, 5], \"num_examples_per_domain_per_label\": -1, \"pickle_path\": \"/root/csc500-main/datasets/cores.stratified_ds.2022A.pkl\", \"source_or_target_dataset\": \"source\", \"x_transforms\": [\"unit_mag\"], \"episode_transforms\": [], \"domain_prefix\": \"CORES_\"}, {\"labels\": [\"3123D52\", \"3123D65\", \"3123D79\", \"3123D80\", \"3123D54\", \"3123D70\", \"3123D7B\", \"3123D89\", \"3123D58\", \"3123D76\", \"3123D7D\", \"3123EFE\", \"3123D64\", \"3123D78\", \"3123D7E\", \"3124E4A\"], \"domains\": [32, 38, 8, 44, 14, 50, 20, 26], \"num_examples_per_domain_per_label\": 2000, \"pickle_path\": \"/root/csc500-main/datasets/oracle.Run1_framed_2000Examples_stratified_ds.2022A.pkl\", \"source_or_target_dataset\": \"target\", \"x_transforms\": [\"unit_mag\"], \"episode_transforms\": [], \"domain_prefix\": \"ORACLE.run1_\"}], \"dataset_seed\": 500, \"seed\": 500, \"x_shape\": [2, 256], \"domains_source\": [\"CORES_1\", \"CORES_2\", \"CORES_3\", \"CORES_4\", \"CORES_5\"], \"domains_target\": [\"ORACLE.run1_32\", \"ORACLE.run1_38\", \"ORACLE.run1_8\", \"ORACLE.run1_44\", \"ORACLE.run1_14\", \"ORACLE.run1_50\", \"ORACLE.run1_20\", \"ORACLE.run1_26\"]}, \"results\": {\"source_test_label_accuracy\": 0.9991573033707866, \"source_test_label_loss\": 0.008402536623179913, \"target_test_label_accuracy\": 0.30247395833333335, \"target_test_label_loss\": 2.2371692657470703, \"source_val_label_accuracy\": 0.9995357142857143, \"source_val_label_loss\": 0.0045052641071379185, \"target_val_label_accuracy\": 0.30244140625, \"target_val_label_loss\": 2.248042345046997, \"total_epochs_trained\": 9, \"total_experiment_time_secs\": 2265.1959080696106, \"confusion\": {\"CORES_4\": {\"38\": {\"38\": 40}, \"3\": {\"3\": 124}, \"24\": {\"24\": 56}, \"49\": {\"49\": 20}, \"7\": {\"7\": 24}, \"17\": {\"17\": 80}, \"43\": {\"43\": 148}, \"30\": {\"30\": 44}, \"44\": {\"44\": 132}, \"23\": {\"23\": 144}, \"37\": {\"37\": 24}, \"4\": {\"4\": 132}, \"57\": {\"57\": 100}, \"16\": {\"16\": 96}, \"18\": {\"18\": 107, \"3\": 1}, \"20\": {\"20\": 124}, \"45\": {\"45\": 96}, \"15\": {\"15\": 132}, \"52\": {\"52\": 116}, \"19\": {\"19\": 140}, \"54\": {\"54\": 108}, \"56\": {\"56\": 130}, \"40\": {\"40\": 134}, \"28\": {\"28\": 32}, \"2\": {\"2\": 36}, \"9\": {\"9\": 120}, \"0\": {\"0\": 80}, \"36\": {\"36\": 92}, \"55\": {\"55\": 130}, \"35\": {\"35\": 40}, \"39\": {\"39\": 20}, \"31\": {\"31\": 28}, \"14\": {\"14\": 16}, \"12\": {\"12\": 92}, \"6\": {\"6\": 110, \"3\": 1, \"5\": 1}, \"26\": {\"26\": 24}, \"50\": {\"50\": 132}, \"21\": {\"21\": 122}, \"46\": {\"46\": 140}, \"51\": {\"51\": 140}, \"41\": {\"41\": 36}, \"34\": {\"34\": 24}, \"47\": {\"47\": 120}, \"5\": {\"5\": 108}, \"1\": {\"1\": 40}, \"48\": {\"48\": 134}, \"29\": {\"29\": 118}, \"22\": {\"22\": 128}, \"10\": {\"10\": 132}, \"32\": {\"32\": 24}, \"13\": {\"13\": 112}, \"42\": {\"42\": 32}, \"27\": {\"27\": 138}, \"8\": {\"8\": 142}, \"33\": {\"33\": 36}, \"25\": {\"25\": 132}, \"11\": {\"11\": 104}, \"53\": {\"53\": 112}}, \"CORES_2\": {\"32\": {\"32\": 28}, \"17\": {\"17\": 104}, \"38\": {\"38\": 20}, \"2\": {\"2\": 32}, \"43\": {\"43\": 144}, \"56\": {\"56\": 144}, \"37\": {\"37\": 36}, \"49\": {\"49\": 24}, \"0\": {\"0\": 48}, \"29\": {\"29\": 128}, \"35\": {\"35\": 32}, \"18\": {\"18\": 48}, \"25\": {\"25\": 136}, \"23\": {\"23\": 124}, \"15\": {\"15\": 146}, \"21\": {\"21\": 120}, \"51\": {\"51\": 128}, \"20\": {\"20\": 138}, \"7\": {\"7\": 36}, \"50\": {\"50\": 136}, \"31\": {\"31\": 28}, \"30\": {\"30\": 140}, \"19\": {\"19\": 156}, \"9\": {\"9\": 144}, \"52\": {\"52\": 124}, \"45\": {\"45\": 128}, \"8\": {\"8\": 154}, \"55\": {\"55\": 160}, \"12\": {\"12\": 92}, \"40\": {\"40\": 140}, \"28\": {\"28\": 28}, \"36\": {\"36\": 116}, \"39\": {\"39\": 28}, \"46\": {\"46\": 122}, \"14\": {\"14\": 24}, \"57\": {\"57\": 142}, \"34\": {\"34\": 28}, \"1\": {\"1\": 112}, \"53\": {\"53\": 136}, \"48\": {\"48\": 130}, \"3\": {\"3\": 92}, \"16\": {\"16\": 152}, \"6\": {\"6\": 124}, \"10\": {\"10\": 112}, \"13\": {\"13\": 116}, \"26\": {\"26\": 24}, \"24\": {\"24\": 93, \"13\": 3}, \"44\": {\"44\": 100}, \"27\": {\"27\": 150}, \"22\": {\"22\": 128}, \"33\": {\"33\": 28}, \"47\": {\"47\": 118}, \"5\": {\"5\": 120}, \"4\": {\"4\": 138}, \"41\": {\"41\": 20}, \"11\": {\"11\": 150}, \"54\": {\"54\": 108}, \"42\": {\"42\": 36}}, \"CORES_3\": {\"5\": {\"5\": 116}, \"32\": {\"32\": 28}, \"33\": {\"33\": 28}, \"49\": {\"49\": 20}, \"39\": {\"39\": 16}, \"11\": {\"11\": 142}, \"8\": {\"8\": 116}, \"26\": {\"26\": 24}, \"51\": {\"51\": 122}, \"4\": {\"4\": 146}, \"52\": {\"52\": 118}, \"47\": {\"47\": 92}, \"17\": {\"17\": 107, \"56\": 1}, \"53\": {\"53\": 136}, \"2\": {\"2\": 32}, \"12\": {\"12\": 92}, \"37\": {\"37\": 28}, \"9\": {\"9\": 148}, \"13\": {\"13\": 128}, \"54\": {\"54\": 100}, \"31\": {\"31\": 28}, \"34\": {\"34\": 32}, \"24\": {\"24\": 104}, \"7\": {\"7\": 36}, \"50\": {\"50\": 118}, \"46\": {\"46\": 128}, \"44\": {\"44\": 88}, \"40\": {\"40\": 116}, \"21\": {\"21\": 128}, \"45\": {\"45\": 60}, \"16\": {\"16\": 126}, \"14\": {\"14\": 39, \"57\": 1}, \"36\": {\"36\": 100}, \"56\": {\"56\": 114}, \"10\": {\"10\": 64}, \"18\": {\"18\": 84}, \"48\": {\"48\": 116}, \"38\": {\"38\": 28}, \"27\": {\"27\": 130}, \"42\": {\"42\": 28}, \"15\": {\"15\": 134}, \"1\": {\"1\": 100}, \"28\": {\"28\": 28}, \"43\": {\"43\": 136}, \"0\": {\"0\": 124}, \"57\": {\"57\": 124}, \"3\": {\"3\": 148}, \"29\": {\"29\": 124}, \"41\": {\"41\": 28}, \"25\": {\"25\": 146}, \"6\": {\"6\": 87, \"11\": 1}, \"35\": {\"35\": 28}, \"20\": {\"20\": 126}, \"23\": {\"23\": 134}, \"22\": {\"22\": 140}, \"19\": {\"19\": 116}, \"55\": {\"55\": 124}, \"30\": {\"30\": 120}}, \"CORES_1\": {\"24\": {\"24\": 107, \"22\": 1}, \"25\": {\"25\": 140}, \"45\": {\"45\": 144}, \"42\": {\"42\": 39, \"45\": 1}, \"2\": {\"2\": 36}, \"9\": {\"9\": 150}, \"21\": {\"21\": 124}, \"26\": {\"26\": 24}, \"49\": {\"49\": 32}, \"39\": {\"39\": 28}, \"46\": {\"46\": 136}, \"17\": {\"17\": 64}, \"19\": {\"19\": 156}, \"23\": {\"23\": 132}, \"1\": {\"1\": 100}, \"29\": {\"29\": 140}, \"56\": {\"56\": 150}, \"37\": {\"37\": 32}, \"33\": {\"33\": 32}, \"55\": {\"55\": 142}, \"30\": {\"30\": 120}, \"0\": {\"0\": 152}, \"36\": {\"36\": 64}, \"32\": {\"32\": 32}, \"31\": {\"31\": 28}, \"15\": {\"15\": 138}, \"12\": {\"12\": 116}, \"38\": {\"38\": 24}, \"40\": {\"40\": 146}, \"14\": {\"14\": 24}, \"13\": {\"13\": 150}, \"48\": {\"48\": 148}, \"34\": {\"34\": 24}, \"44\": {\"44\": 130}, \"5\": {\"5\": 152}, \"11\": {\"11\": 140}, \"7\": {\"7\": 28}, \"18\": {\"18\": 72}, \"52\": {\"52\": 132}, \"51\": {\"51\": 142}, \"41\": {\"41\": 24}, \"16\": {\"16\": 140}, \"22\": {\"22\": 133, \"24\": 1}, \"3\": {\"3\": 140}, \"54\": {\"54\": 104}, \"27\": {\"27\": 144}, \"20\": {\"20\": 140}, \"8\": {\"8\": 138}, \"50\": {\"50\": 144}, \"57\": {\"57\": 140}, \"4\": {\"4\": 132}, \"47\": {\"47\": 146}, \"10\": {\"10\": 96}, \"35\": {\"35\": 36}, \"53\": {\"53\": 126}, \"6\": {\"6\": 96}, \"43\": {\"43\": 140}, \"28\": {\"28\": 28}}, \"CORES_5\": {\"35\": {\"35\": 36}, \"57\": {\"57\": 132}, \"20\": {\"20\": 144}, \"12\": {\"12\": 96}, \"32\": {\"32\": 32}, \"25\": {\"25\": 138}, \"44\": {\"44\": 148}, \"31\": {\"31\": 36}, \"11\": {\"11\": 150}, \"47\": {\"47\": 100}, \"23\": {\"23\": 124}, \"43\": {\"43\": 144}, \"37\": {\"37\": 24}, \"5\": {\"5\": 128}, \"45\": {\"45\": 124}, \"7\": {\"7\": 32}, \"13\": {\"13\": 136}, \"49\": {\"49\": 36}, \"46\": {\"46\": 148}, \"16\": {\"16\": 136}, \"54\": {\"54\": 112}, \"19\": {\"19\": 152}, \"55\": {\"55\": 150}, \"30\": {\"30\": 128}, \"34\": {\"34\": 36}, \"50\": {\"50\": 134}, \"3\": {\"3\": 100}, \"10\": {\"10\": 68}, \"27\": {\"27\": 142}, \"33\": {\"33\": 32}, \"56\": {\"56\": 142}, \"9\": {\"9\": 150}, \"14\": {\"14\": 44}, \"4\": {\"4\": 100}, \"42\": {\"42\": 40}, \"24\": {\"24\": 80}, \"39\": {\"39\": 20}, \"52\": {\"52\": 130}, \"2\": {\"2\": 28}, \"28\": {\"28\": 32}, \"53\": {\"53\": 122}, \"17\": {\"17\": 116}, \"29\": {\"29\": 132}, \"38\": {\"38\": 32}, \"15\": {\"15\": 144}, \"26\": {\"26\": 24}, \"21\": {\"21\": 144}, \"41\": {\"41\": 28}, \"48\": {\"48\": 136}, \"22\": {\"22\": 28}, \"8\": {\"8\": 148}, \"18\": {\"18\": 64}, \"0\": {\"0\": 122}, \"1\": {\"1\": 138}, \"40\": {\"40\": 124}, \"6\": {\"6\": 127, \"50\": 1}, \"51\": {\"51\": 142}, \"36\": {\"36\": 92}}, \"ORACLE.run1_50\": {\"7\": {\"13\": 60, \"10\": 30, \"6\": 19, \"7\": 53, \"5\": 44, \"0\": 10, \"8\": 3, \"2\": 4, \"4\": 5, \"3\": 4, \"15\": 3, \"1\": 5}, \"10\": {\"10\": 81, \"13\": 23, \"5\": 11, \"8\": 38, \"0\": 41, \"2\": 12, \"7\": 23, \"3\": 8, \"6\": 2, \"1\": 1}, \"0\": {\"10\": 43, \"0\": 86, \"2\": 59, \"5\": 14, \"6\": 3, \"8\": 11, \"7\": 4, \"4\": 2, \"13\": 12, \"1\": 6}, \"11\": {\"15\": 23, \"4\": 15, \"11\": 77, \"9\": 59, \"1\": 21, \"12\": 23, \"14\": 19, \"6\": 2, \"5\": 1}, \"2\": {\"2\": 129, \"0\": 72, \"14\": 7, \"5\": 6, \"7\": 3, \"10\": 10, \"4\": 4, \"1\": 3, \"6\": 2, \"8\": 2, \"11\": 1, \"13\": 1}, \"14\": {\"2\": 16, \"9\": 12, \"14\": 105, \"12\": 32, \"4\": 21, \"11\": 19, \"15\": 10, \"0\": 2, \"5\": 5, \"1\": 15, \"6\": 3}, \"9\": {\"12\": 42, \"9\": 116, \"11\": 58, \"14\": 14, \"15\": 6, \"1\": 3, \"4\": 1}, \"13\": {\"13\": 44, \"6\": 28, \"10\": 29, \"4\": 14, \"7\": 47, \"5\": 47, \"0\": 14, \"1\": 9, \"2\": 4, \"8\": 1, \"15\": 2, \"3\": 1}, \"8\": {\"8\": 132, \"3\": 51, \"10\": 33, \"5\": 1, \"0\": 17, \"13\": 2, \"7\": 4}, \"15\": {\"15\": 66, \"13\": 7, \"11\": 36, \"14\": 13, \"1\": 29, \"4\": 38, \"6\": 26, \"5\": 19, \"9\": 5, \"7\": 1}, \"4\": {\"4\": 46, \"1\": 34, \"6\": 26, \"5\": 29, \"15\": 38, \"7\": 11, \"12\": 4, \"14\": 14, \"11\": 15, \"13\": 18, \"9\": 3, \"0\": 1, \"2\": 1}, \"5\": {\"7\": 37, \"4\": 25, \"6\": 27, \"1\": 20, \"13\": 40, \"15\": 12, \"5\": 42, \"2\": 8, \"10\": 14, \"14\": 3, \"0\": 9, \"8\": 1, \"11\": 2}, \"3\": {\"3\": 163, \"8\": 70, \"13\": 1, \"10\": 4, \"7\": 1, \"5\": 1}, \"1\": {\"5\": 22, \"15\": 39, \"11\": 16, \"1\": 55, \"7\": 5, \"14\": 20, \"6\": 27, \"12\": 3, \"4\": 35, \"2\": 4, \"13\": 7, \"9\": 3, \"0\": 4}, \"6\": {\"1\": 28, \"5\": 35, \"0\": 6, \"6\": 51, \"15\": 15, \"4\": 34, \"14\": 4, \"13\": 29, \"7\": 24, \"11\": 5, \"2\": 4, \"10\": 5}, \"12\": {\"14\": 49, \"12\": 95, \"9\": 64, \"11\": 23, \"1\": 5, \"4\": 3, \"15\": 1}}, \"ORACLE.run1_14\": {\"14\": {\"10\": 13, \"3\": 25, \"6\": 37, \"5\": 14, \"1\": 10, \"14\": 51, \"2\": 35, \"13\": 26, \"0\": 11, \"4\": 13, \"8\": 1, \"11\": 4}, \"6\": {\"14\": 42, \"1\": 3, \"2\": 41, \"6\": 45, \"4\": 15, \"13\": 43, \"7\": 15, \"15\": 7, \"5\": 14, \"10\": 5, \"3\": 10}, \"5\": {\"14\": 13, \"4\": 28, \"6\": 28, \"13\": 24, \"3\": 17, \"5\": 36, \"2\": 27, \"1\": 43, \"0\": 4, \"7\": 12, \"10\": 3, \"8\": 3, \"15\": 2}, \"15\": {\"1\": 6, \"15\": 134, \"7\": 76, \"5\": 8, \"13\": 6, \"4\": 4, \"2\": 4, \"6\": 2}, \"11\": {\"0\": 38, \"11\": 111, \"10\": 24, \"9\": 33, \"12\": 15, \"8\": 9, \"3\": 5, \"14\": 4, \"13\": 1}, \"8\": {\"0\": 14, \"8\": 136, \"3\": 17, \"11\": 4, \"5\": 7, \"10\": 27, \"9\": 12, \"1\": 17, \"2\": 2, \"4\": 4}, \"12\": {\"12\": 185, \"11\": 6, \"9\": 48, \"8\": 1}, \"1\": {\"8\": 10, \"7\": 21, \"1\": 55, \"3\": 25, \"5\": 42, \"6\": 9, \"4\": 37, \"2\": 14, \"10\": 8, \"15\": 3, \"13\": 5, \"0\": 2, \"14\": 9}, \"2\": {\"1\": 24, \"7\": 14, \"14\": 30, \"13\": 37, \"2\": 33, \"3\": 17, \"6\": 29, \"5\": 25, \"4\": 16, \"0\": 3, \"15\": 5, \"10\": 7}, \"13\": {\"3\": 14, \"13\": 50, \"6\": 50, \"10\": 9, \"2\": 37, \"4\": 21, \"14\": 26, \"0\": 4, \"15\": 8, \"7\": 6, \"5\": 10, \"1\": 5}, \"3\": {\"0\": 20, \"10\": 34, \"13\": 11, \"4\": 29, \"1\": 26, \"3\": 37, \"11\": 5, \"6\": 7, \"5\": 18, \"14\": 25, \"2\": 17, \"8\": 11}, \"0\": {\"11\": 38, \"10\": 51, \"14\": 10, \"8\": 17, \"0\": 66, \"3\": 22, \"2\": 7, \"5\": 2, \"4\": 5, \"13\": 3, \"9\": 14, \"1\": 1, \"6\": 3, \"12\": 1}, \"9\": {\"0\": 14, \"9\": 111, \"11\": 44, \"12\": 56, \"8\": 8, \"3\": 1, \"10\": 6}, \"4\": {\"1\": 32, \"10\": 14, \"5\": 46, \"4\": 43, \"2\": 24, \"14\": 7, \"6\": 15, \"13\": 12, \"3\": 30, \"7\": 5, \"0\": 4, \"15\": 2, \"8\": 6}, \"7\": {\"7\": 88, \"15\": 79, \"5\": 19, \"4\": 14, \"1\": 19, \"2\": 6, \"6\": 11, \"13\": 4}, \"10\": {\"11\": 22, \"10\": 75, \"9\": 6, \"3\": 43, \"0\": 36, \"14\": 17, \"6\": 4, \"1\": 2, \"13\": 8, \"8\": 17, \"2\": 3, \"4\": 5, \"5\": 2}}, \"ORACLE.run1_32\": {\"4\": {\"7\": 28, \"13\": 15, \"5\": 26, \"4\": 52, \"0\": 32, \"14\": 12, \"2\": 56, \"3\": 2, \"8\": 14, \"11\": 1, \"15\": 1, \"9\": 1}, \"14\": {\"13\": 18, \"4\": 9, \"11\": 56, \"5\": 21, \"15\": 2, \"7\": 37, \"14\": 41, \"0\": 22, \"8\": 15, \"2\": 9, \"3\": 10}, \"5\": {\"5\": 39, \"11\": 16, \"4\": 25, \"7\": 31, \"14\": 20, \"0\": 19, \"2\": 16, \"3\": 17, \"8\": 25, \"13\": 26, \"15\": 6}, \"10\": {\"1\": 40, \"10\": 190, \"6\": 10}, \"13\": {\"2\": 11, \"11\": 11, \"0\": 17, \"8\": 42, \"13\": 43, \"5\": 25, \"15\": 12, \"7\": 16, \"4\": 26, \"3\": 23, \"14\": 14}, \"9\": {\"9\": 192, \"12\": 36, \"2\": 10, \"0\": 2}, \"6\": {\"6\": 205, \"10\": 13, \"1\": 3, \"12\": 19}, \"3\": {\"15\": 44, \"11\": 22, \"3\": 99, \"13\": 23, \"8\": 25, \"14\": 7, \"7\": 1, \"5\": 18, \"0\": 1}, \"15\": {\"15\": 147, \"3\": 46, \"13\": 11, \"8\": 25, \"14\": 3, \"5\": 7, \"4\": 1}, \"7\": {\"2\": 19, \"14\": 38, \"4\": 25, \"5\": 19, \"7\": 44, \"11\": 19, \"0\": 31, \"8\": 22, \"3\": 3, \"13\": 20}, \"12\": {\"12\": 195, \"9\": 32, \"6\": 9, \"10\": 4}, \"8\": {\"7\": 13, \"11\": 13, \"0\": 21, \"4\": 25, \"8\": 48, \"13\": 34, \"2\": 14, \"15\": 16, \"3\": 16, \"5\": 28, \"14\": 12}, \"11\": {\"3\": 21, \"8\": 8, \"14\": 57, \"7\": 28, \"11\": 94, \"4\": 3, \"0\": 14, \"13\": 7, \"2\": 2, \"5\": 6}, \"2\": {\"13\": 9, \"2\": 86, \"7\": 20, \"8\": 11, \"4\": 48, \"9\": 11, \"0\": 39, \"5\": 9, \"14\": 7}, \"1\": {\"1\": 195, \"10\": 44, \"6\": 1}, \"0\": {\"4\": 41, \"2\": 36, \"14\": 22, \"0\": 39, \"7\": 27, \"5\": 22, \"13\": 12, \"11\": 13, \"8\": 24, \"3\": 3, \"9\": 1}}, \"ORACLE.run1_44\": {\"8\": {\"15\": 29, \"8\": 107, \"0\": 82, \"5\": 17, \"14\": 4, \"4\": 1}, \"11\": {\"2\": 8, \"11\": 75, \"7\": 21, \"13\": 36, \"9\": 36, \"6\": 50, \"4\": 3, \"10\": 3, \"1\": 5, \"3\": 2, \"14\": 1}, \"14\": {\"14\": 79, \"5\": 38, \"4\": 69, \"15\": 38, \"0\": 9, \"8\": 2, \"9\": 1, \"11\": 1, \"13\": 3}, \"10\": {\"1\": 35, \"12\": 55, \"10\": 87, \"2\": 39, \"7\": 11, \"6\": 3, \"11\": 1, \"3\": 8, \"9\": 1}, \"3\": {\"10\": 11, \"1\": 41, \"7\": 31, \"3\": 96, \"9\": 11, \"2\": 25, \"13\": 2, \"12\": 19, \"11\": 4}, \"15\": {\"4\": 18, \"15\": 77, \"0\": 32, \"5\": 41, \"14\": 38, \"8\": 34}, \"2\": {\"2\": 53, \"6\": 17, \"7\": 34, \"10\": 37, \"3\": 16, \"13\": 7, \"9\": 19, \"12\": 18, \"1\": 27, \"11\": 12}, \"12\": {\"12\": 89, \"7\": 7, \"1\": 52, \"10\": 57, \"3\": 20, \"2\": 13, \"6\": 1, \"9\": 1}, \"4\": {\"14\": 89, \"5\": 15, \"4\": 96, \"13\": 10, \"15\": 16, \"7\": 1, \"9\": 6, \"0\": 2, \"6\": 2, \"11\": 3}, \"1\": {\"7\": 18, \"12\": 50, \"2\": 28, \"11\": 1, \"1\": 57, \"3\": 43, \"10\": 33, \"13\": 1, \"9\": 8, \"6\": 1}, \"0\": {\"8\": 74, \"15\": 36, \"0\": 71, \"5\": 47, \"4\": 8, \"14\": 4}, \"9\": {\"13\": 37, \"9\": 48, \"11\": 31, \"2\": 25, \"4\": 6, \"3\": 9, \"7\": 39, \"6\": 36, \"14\": 2, \"1\": 4, \"10\": 2, \"12\": 1}, \"5\": {\"5\": 103, \"0\": 44, \"15\": 24, \"8\": 34, \"4\": 13, \"14\": 22}, \"6\": {\"13\": 41, \"2\": 19, \"11\": 50, \"6\": 64, \"9\": 32, \"7\": 24, \"10\": 5, \"1\": 2, \"4\": 2, \"3\": 1}, \"7\": {\"2\": 38, \"13\": 22, \"7\": 48, \"3\": 22, \"1\": 16, \"12\": 9, \"10\": 9, \"9\": 34, \"11\": 21, \"6\": 21}, \"13\": {\"9\": 56, \"11\": 46, \"13\": 60, \"6\": 39, \"7\": 16, \"2\": 6, \"4\": 13, \"14\": 2, \"3\": 2}}, \"ORACLE.run1_8\": {\"13\": {\"14\": 23, \"10\": 36, \"8\": 11, \"4\": 28, \"5\": 11, \"7\": 18, \"11\": 6, \"1\": 12, \"13\": 33, \"0\": 33, \"6\": 28, \"15\": 1}, \"3\": {\"8\": 11, \"2\": 67, \"3\": 83, \"12\": 41, \"15\": 26, \"0\": 2, \"6\": 2, \"7\": 7, \"4\": 1}, \"15\": {\"3\": 35, \"1\": 3, \"15\": 45, \"8\": 34, \"2\": 27, \"6\": 15, \"12\": 39, \"13\": 2, \"7\": 17, \"0\": 7, \"10\": 1, \"4\": 10, \"11\": 2, \"14\": 3}, \"4\": {\"7\": 15, \"10\": 21, \"6\": 29, \"4\": 39, \"11\": 17, \"0\": 29, \"1\": 15, \"8\": 13, \"13\": 19, \"14\": 25, \"12\": 2, \"5\": 10, \"15\": 3, \"2\": 3}, \"7\": {\"2\": 17, \"1\": 9, \"0\": 31, \"7\": 41, \"8\": 11, \"3\": 5, \"4\": 24, \"13\": 28, \"6\": 24, \"10\": 9, \"12\": 5, \"14\": 17, \"15\": 17, \"5\": 1, \"11\": 1}, \"2\": {\"15\": 30, \"12\": 23, \"7\": 19, \"2\": 70, \"3\": 62, \"8\": 10, \"4\": 3, \"13\": 3, \"6\": 11, \"14\": 3, \"0\": 6}, \"1\": {\"11\": 54, \"4\": 17, \"13\": 14, \"14\": 28, \"5\": 32, \"1\": 44, \"8\": 15, \"0\": 6, \"6\": 5, \"10\": 20, \"7\": 2, \"15\": 3}, \"0\": {\"13\": 30, \"4\": 25, \"7\": 26, \"5\": 12, \"8\": 13, \"0\": 43, \"6\": 24, \"10\": 20, \"14\": 26, \"11\": 1, \"2\": 5, \"15\": 8, \"3\": 1, \"1\": 6}, \"12\": {\"15\": 47, \"3\": 42, \"2\": 33, \"8\": 29, \"12\": 59, \"6\": 10, \"7\": 10, \"1\": 1, \"4\": 5, \"13\": 2, \"11\": 1, \"14\": 1}, \"6\": {\"0\": 27, \"8\": 24, \"13\": 26, \"10\": 16, \"7\": 31, \"12\": 5, \"6\": 33, \"4\": 21, \"2\": 9, \"14\": 21, \"11\": 3, \"1\": 7, \"3\": 3, \"15\": 13, \"5\": 1}, \"11\": {\"11\": 56, \"6\": 4, \"4\": 24, \"8\": 15, \"1\": 43, \"5\": 34, \"10\": 25, \"7\": 4, \"14\": 22, \"0\": 1, \"13\": 10, \"15\": 2}, \"9\": {\"9\": 229, \"5\": 8, \"13\": 2, \"10\": 1}, \"5\": {\"6\": 9, \"5\": 72, \"4\": 14, \"11\": 32, \"1\": 31, \"10\": 37, \"13\": 15, \"14\": 19, \"0\": 7, \"9\": 1, \"8\": 2, \"7\": 1}, \"10\": {\"6\": 15, \"4\": 29, \"10\": 40, \"14\": 27, \"7\": 10, \"13\": 26, \"0\": 19, \"11\": 13, \"5\": 39, \"15\": 4, \"1\": 16, \"8\": 2}, \"14\": {\"14\": 37, \"6\": 17, \"4\": 23, \"8\": 10, \"1\": 20, \"10\": 38, \"5\": 16, \"13\": 28, \"11\": 13, \"0\": 25, \"7\": 13}, \"8\": {\"7\": 11, \"1\": 21, \"4\": 22, \"6\": 22, \"8\": 52, \"15\": 32, \"2\": 8, \"5\": 1, \"12\": 24, \"13\": 2, \"14\": 13, \"0\": 8, \"11\": 16, \"3\": 8}}, \"ORACLE.run1_20\": {\"6\": {\"12\": 7, \"1\": 2, \"4\": 12, \"6\": 44, \"13\": 2, \"14\": 46, \"11\": 26, \"8\": 18, \"10\": 44, \"9\": 8, \"7\": 13, \"3\": 7, \"2\": 8, \"5\": 1, \"0\": 2}, \"11\": {\"11\": 92, \"2\": 13, \"15\": 2, \"14\": 15, \"7\": 20, \"6\": 30, \"9\": 20, \"13\": 10, \"10\": 12, \"5\": 2, \"3\": 12, \"0\": 1, \"4\": 2, \"12\": 4, \"8\": 2, \"1\": 3}, \"5\": {\"1\": 23, \"2\": 12, \"0\": 31, \"15\": 38, \"13\": 22, \"3\": 14, \"9\": 13, \"8\": 5, \"4\": 19, \"7\": 5, \"5\": 29, \"10\": 5, \"12\": 21, \"14\": 1, \"6\": 2}, \"14\": {\"10\": 46, \"8\": 24, \"4\": 13, \"14\": 48, \"7\": 15, \"12\": 8, \"9\": 5, \"6\": 48, \"13\": 6, \"5\": 5, \"1\": 3, \"2\": 5, \"3\": 6, \"0\": 5, \"11\": 3}, \"2\": {\"13\": 27, \"5\": 13, \"9\": 32, \"1\": 18, \"11\": 15, \"15\": 13, \"12\": 18, \"10\": 11, \"3\": 16, \"2\": 27, \"7\": 18, \"8\": 9, \"14\": 4, \"4\": 5, \"0\": 6, \"6\": 8}, \"7\": {\"8\": 22, \"9\": 24, \"11\": 24, \"13\": 10, \"7\": 24, \"4\": 12, \"15\": 5, \"12\": 14, \"14\": 13, \"3\": 20, \"0\": 9, \"10\": 17, \"1\": 10, \"5\": 10, \"2\": 14, \"6\": 12}, \"3\": {\"12\": 21, \"4\": 20, \"3\": 25, \"9\": 12, \"15\": 18, \"5\": 17, \"2\": 17, \"14\": 8, \"7\": 18, \"10\": 13, \"1\": 19, \"0\": 11, \"8\": 16, \"6\": 7, \"13\": 10, \"11\": 8}, \"4\": {\"1\": 19, \"0\": 21, \"13\": 5, \"9\": 12, \"2\": 15, \"7\": 11, \"8\": 22, \"14\": 10, \"12\": 17, \"3\": 24, \"5\": 14, \"4\": 29, \"6\": 15, \"10\": 20, \"15\": 5, \"11\": 1}, \"9\": {\"13\": 22, \"12\": 29, \"2\": 23, \"14\": 4, \"7\": 19, \"11\": 11, \"4\": 13, \"1\": 14, \"9\": 22, \"15\": 20, \"3\": 28, \"8\": 5, \"6\": 7, \"10\": 13, \"5\": 5, \"0\": 5}, \"12\": {\"0\": 27, \"8\": 9, \"12\": 23, \"1\": 24, \"2\": 19, \"15\": 20, \"11\": 2, \"13\": 25, \"9\": 18, \"14\": 2, \"4\": 18, \"6\": 2, \"5\": 23, \"3\": 14, \"7\": 7, \"10\": 7}, \"0\": {\"7\": 9, \"9\": 12, \"13\": 12, \"1\": 24, \"2\": 6, \"4\": 15, \"12\": 23, \"15\": 34, \"5\": 36, \"3\": 11, \"0\": 41, \"8\": 12, \"10\": 2, \"6\": 1, \"14\": 2}, \"10\": {\"8\": 25, \"10\": 38, \"4\": 31, \"14\": 41, \"2\": 7, \"6\": 32, \"7\": 16, \"9\": 6, \"3\": 12, \"13\": 5, \"0\": 6, \"11\": 9, \"12\": 6, \"1\": 3, \"5\": 3}, \"8\": {\"8\": 32, \"0\": 9, \"7\": 24, \"5\": 10, \"13\": 4, \"4\": 18, \"14\": 26, \"10\": 32, \"6\": 15, \"3\": 16, \"9\": 10, \"1\": 11, \"12\": 10, \"2\": 11, \"11\": 7, \"15\": 5}, \"13\": {\"10\": 7, \"15\": 25, \"2\": 27, \"7\": 15, \"5\": 22, \"13\": 31, \"9\": 21, \"0\": 14, \"1\": 25, \"12\": 19, \"3\": 15, \"8\": 6, \"4\": 3, \"11\": 7, \"6\": 1, \"14\": 2}, \"1\": {\"5\": 19, \"4\": 14, \"1\": 25, \"7\": 9, \"13\": 31, \"15\": 30, \"2\": 20, \"12\": 35, \"3\": 17, \"0\": 18, \"9\": 15, \"8\": 3, \"10\": 1, \"6\": 2, \"14\": 1}, \"15\": {\"4\": 8, \"13\": 24, \"0\": 30, \"3\": 16, \"2\": 8, \"12\": 20, \"1\": 26, \"9\": 19, \"10\": 1, \"15\": 44, \"5\": 33, \"7\": 7, \"8\": 3, \"11\": 1}}, \"ORACLE.run1_38\": {\"3\": {\"7\": 24, \"6\": 22, \"3\": 131, \"9\": 39, \"5\": 7, \"0\": 15, \"8\": 1, \"4\": 1}, \"8\": {\"5\": 42, \"0\": 29, \"10\": 37, \"8\": 47, \"11\": 1, \"3\": 1, \"12\": 8, \"15\": 21, \"13\": 10, \"2\": 2, \"6\": 13, \"7\": 14, \"1\": 11, \"9\": 2, \"4\": 1, \"14\": 1}, \"0\": {\"8\": 37, \"0\": 39, \"3\": 17, \"9\": 9, \"7\": 41, \"6\": 15, \"4\": 9, \"15\": 7, \"5\": 23, \"10\": 27, \"12\": 7, \"1\": 4, \"13\": 5}, \"2\": {\"2\": 125, \"14\": 39, \"11\": 29, \"10\": 5, \"15\": 15, \"5\": 1, \"13\": 16, \"1\": 8, \"8\": 2}, \"4\": {\"12\": 47, \"4\": 156, \"0\": 13, \"7\": 19, \"10\": 1, \"8\": 2, \"5\": 2}, \"7\": {\"4\": 6, \"7\": 95, \"9\": 17, \"8\": 14, \"3\": 14, \"10\": 13, \"0\": 31, \"6\": 21, \"5\": 23, \"13\": 2, \"12\": 3, \"11\": 1}, \"12\": {\"12\": 152, \"4\": 51, \"7\": 3, \"11\": 8, \"14\": 4, \"10\": 15, \"15\": 1, \"13\": 1, \"0\": 3, \"8\": 2}, \"6\": {\"6\": 86, \"1\": 10, \"9\": 67, \"7\": 16, \"5\": 26, \"8\": 10, \"0\": 13, \"3\": 8, \"15\": 2, \"13\": 2}, \"15\": {\"2\": 20, \"15\": 48, \"1\": 50, \"5\": 18, \"13\": 38, \"10\": 25, \"8\": 30, \"0\": 3, \"6\": 2, \"14\": 3, \"7\": 1, \"11\": 1, \"12\": 1}, \"11\": {\"14\": 91, \"11\": 76, \"10\": 12, \"2\": 20, \"0\": 2, \"13\": 9, \"12\": 23, \"15\": 4, \"1\": 1, \"4\": 1, \"8\": 1}, \"9\": {\"6\": 65, \"13\": 2, \"9\": 96, \"5\": 15, \"3\": 29, \"8\": 7, \"7\": 11, \"0\": 10, \"15\": 3, \"1\": 2}, \"14\": {\"11\": 69, \"14\": 99, \"2\": 37, \"8\": 2, \"0\": 1, \"12\": 12, \"15\": 8, \"10\": 11, \"4\": 1}, \"10\": {\"15\": 21, \"5\": 16, \"0\": 17, \"8\": 37, \"1\": 10, \"10\": 57, \"13\": 15, \"2\": 6, \"12\": 11, \"11\": 15, \"7\": 8, \"14\": 17, \"6\": 3, \"9\": 1, \"4\": 6}, \"5\": {\"0\": 24, \"7\": 37, \"8\": 35, \"6\": 25, \"3\": 6, \"9\": 15, \"11\": 2, \"13\": 12, \"10\": 16, \"1\": 12, \"15\": 17, \"5\": 37, \"12\": 2}, \"1\": {\"1\": 97, \"13\": 47, \"6\": 12, \"15\": 36, \"7\": 1, \"10\": 11, \"5\": 12, \"2\": 9, \"9\": 3, \"8\": 12}, \"13\": {\"10\": 21, \"8\": 22, \"5\": 9, \"1\": 51, \"15\": 45, \"13\": 56, \"2\": 19, \"11\": 3, \"14\": 4, \"0\": 5, \"7\": 2, \"9\": 2, \"6\": 1}}, \"ORACLE.run1_26\": {\"5\": {\"13\": 34, \"10\": 7, \"3\": 14, \"15\": 19, \"2\": 17, \"4\": 8, \"8\": 11, \"14\": 12, \"6\": 13, \"9\": 25, \"5\": 46, \"1\": 10, \"7\": 15, \"12\": 2, \"0\": 7}, \"8\": {\"6\": 18, \"14\": 27, \"4\": 19, \"10\": 26, \"9\": 14, \"3\": 10, \"7\": 14, \"15\": 21, \"0\": 17, \"2\": 13, \"8\": 24, \"1\": 19, \"12\": 1, \"5\": 11, \"13\": 6}, \"4\": {\"0\": 19, \"2\": 19, \"10\": 18, \"13\": 4, \"7\": 33, \"4\": 22, \"14\": 25, \"9\": 11, \"3\": 18, \"15\": 17, \"1\": 33, \"6\": 9, \"8\": 11, \"5\": 1}, \"12\": {\"12\": 174, \"10\": 4, \"6\": 9, \"11\": 48, \"13\": 1, \"15\": 1, \"4\": 1, \"14\": 1, \"1\": 1}, \"6\": {\"9\": 29, \"8\": 24, \"6\": 40, \"15\": 24, \"14\": 11, \"13\": 22, \"10\": 18, \"11\": 2, \"1\": 8, \"5\": 13, \"7\": 5, \"12\": 15, \"0\": 14, \"2\": 3, \"4\": 10, \"3\": 2}, \"7\": {\"2\": 27, \"6\": 7, \"15\": 12, \"3\": 37, \"0\": 15, \"1\": 21, \"9\": 12, \"4\": 23, \"8\": 15, \"14\": 15, \"5\": 16, \"7\": 29, \"10\": 6, \"13\": 5}, \"10\": {\"0\": 23, \"6\": 29, \"10\": 17, \"9\": 23, \"14\": 23, \"1\": 21, \"5\": 14, \"15\": 19, \"13\": 8, \"8\": 18, \"3\": 6, \"4\": 23, \"2\": 8, \"7\": 7, \"12\": 1}, \"0\": {\"10\": 25, \"0\": 27, \"6\": 26, \"9\": 16, \"15\": 20, \"8\": 19, \"7\": 14, \"1\": 15, \"4\": 20, \"14\": 36, \"5\": 5, \"2\": 5, \"13\": 4, \"3\": 7, \"12\": 1}, \"15\": {\"0\": 15, \"5\": 27, \"15\": 23, \"9\": 31, \"6\": 16, \"13\": 23, \"10\": 18, \"12\": 3, \"7\": 13, \"3\": 13, \"14\": 6, \"4\": 13, \"1\": 9, \"8\": 17, \"2\": 13}, \"9\": {\"13\": 23, \"12\": 7, \"7\": 13, \"9\": 29, \"1\": 12, \"8\": 21, \"6\": 34, \"15\": 28, \"10\": 15, \"4\": 8, \"5\": 16, \"14\": 11, \"0\": 15, \"2\": 7, \"3\": 1}, \"11\": {\"11\": 192, \"12\": 34, \"15\": 4, \"6\": 4, \"5\": 1, \"10\": 3, \"9\": 1, \"13\": 1}, \"14\": {\"1\": 24, \"8\": 24, \"0\": 29, \"14\": 25, \"6\": 18, \"4\": 28, \"7\": 15, \"3\": 14, \"10\": 18, \"15\": 12, \"5\": 8, \"9\": 13, \"2\": 11, \"13\": 1}, \"2\": {\"4\": 11, \"7\": 27, \"3\": 35, \"0\": 6, \"13\": 12, \"5\": 28, \"2\": 42, \"9\": 7, \"15\": 21, \"1\": 18, \"8\": 14, \"10\": 10, \"14\": 6, \"6\": 3}, \"13\": {\"2\": 11, \"10\": 13, \"13\": 41, \"8\": 14, \"5\": 30, \"6\": 24, \"15\": 33, \"9\": 29, \"1\": 4, \"4\": 8, \"14\": 2, \"12\": 7, \"11\": 6, \"3\": 12, \"0\": 3, \"7\": 3}, \"3\": {\"3\": 65, \"14\": 14, \"15\": 16, \"0\": 10, \"2\": 23, \"4\": 15, \"7\": 25, \"1\": 15, \"5\": 15, \"9\": 13, \"8\": 13, \"10\": 9, \"13\": 2, \"6\": 5}, \"1\": {\"0\": 25, \"14\": 26, \"6\": 16, \"4\": 26, \"2\": 13, \"1\": 32, \"7\": 23, \"10\": 19, \"3\": 15, \"8\": 18, \"15\": 7, \"5\": 9, \"9\": 9, \"12\": 1, \"13\": 1}}}, \"per_domain_accuracy\": {\"CORES_4\": {\"accuracy\": 0.9994318181818181, \"source?\": true}, \"CORES_2\": {\"accuracy\": 0.9994733146067416, \"source?\": true}, \"CORES_3\": {\"accuracy\": 0.9994419642857143, \"source?\": true}, \"CORES_1\": {\"accuracy\": 0.9994932432432433, \"source?\": true}, \"CORES_5\": {\"accuracy\": 0.9998254189944135, \"source?\": true}, \"ORACLE.run1_50\": {\"accuracy\": 0.34921875, \"source?\": false}, \"ORACLE.run1_14\": {\"accuracy\": 0.32708333333333334, \"source?\": false}, \"ORACLE.run1_32\": {\"accuracy\": 0.44505208333333335, \"source?\": false}, \"ORACLE.run1_44\": {\"accuracy\": 0.3151041666666667, \"source?\": false}, \"ORACLE.run1_8\": {\"accuracy\": 0.25416666666666665, \"source?\": false}, \"ORACLE.run1_20\": {\"accuracy\": 0.14947916666666666, \"source?\": false}, \"ORACLE.run1_38\": {\"accuracy\": 0.36380208333333336, \"source?\": false}, \"ORACLE.run1_26\": {\"accuracy\": 0.215625, \"source?\": false}}}, \"history\": {\"epoch_indices\": [1, 2, 3, 4, 5, 6, 7, 8, 9], \"train_label_loss\": [0.026504711236010597, 0.007098113348027119, 0.004560621920442269, 0.003957106692929265, 0.0037943093920359957, 0.0029223428474915783, 0.002524006302431579, 0.0024185182405667967, 0.002670037769330327], \"source_val_label_loss\": [0.006579089444130659, 0.0059143793769180775, 0.006435403134673834, 0.008138833567500114, 0.0045052641071379185, 0.009600399062037468, 0.006025883834809065, 0.004850390832871199, 0.008466703817248344], \"target_val_label_loss\": [2.1619856357574463, 2.4376227855682373, 2.891836404800415, 2.562103509902954, 2.248042345046997, 2.7462170124053955, 2.5219147205352783, 3.2143452167510986, 3.36686110496521], \"source_val_acc_label\": [0.9985, 0.9993214285714286, 0.9992142857142857, 0.9990357142857142, 0.9995357142857143, 0.999, 0.9995714285714286, 0.9996071428571428, 0.9993571428571428], \"target_val_acc_label\": [0.2599283854166667, 0.24352213541666667, 0.23795572916666666, 0.26468098958333336, 0.30244140625, 0.28069661458333334, 0.2942708333333333, 0.27438151041666664, 0.23818359375]}, \"dataset_metrics\": {\"source\": {\"train\": {\"n_unique_x\": 175193, \"n_unique_y\": 58, \"n_batch/episode\": 6309}, \"val\": {\"n_unique_x\": 37166, \"n_unique_y\": 58, \"n_batch/episode\": 875}, \"test\": {\"n_unique_x\": 37642, \"n_unique_y\": 58, \"n_batch/episode\": 890}}, \"target\": {\"train\": {\"n_unique_x\": 179200, \"n_unique_y\": 16, \"n_batch/episode\": 6720}, \"val\": {\"n_unique_x\": 38400, \"n_unique_y\": 16, \"n_batch/episode\": 960}, \"test\": {\"n_unique_x\": 38400, \"n_unique_y\": 16, \"n_batch/episode\": 960}}}}'"
      ]
     },
     "execution_count": 29,
     "metadata": {},
     "output_type": "execute_result"
    }
   ],
   "source": [
    "json.dumps(experiment)"
   ]
  }
 ],
 "metadata": {
  "celltoolbar": "Tags",
  "kernelspec": {
   "display_name": "Python 3 (ipykernel)",
   "language": "python",
   "name": "python3"
  },
  "language_info": {
   "codemirror_mode": {
    "name": "ipython",
    "version": 3
   },
   "file_extension": ".py",
   "mimetype": "text/x-python",
   "name": "python",
   "nbconvert_exporter": "python",
   "pygments_lexer": "ipython3",
   "version": "3.8.12"
  },
  "papermill": {
   "default_parameters": {},
   "duration": 2547.424631,
   "end_time": "2022-03-21T18:08:16.189993",
   "environment_variables": {},
   "exception": null,
   "input_path": "/root/csc500-main/csc500-notebooks/templates/tl_ptn_template.ipynb",
   "output_path": "trial.ipynb",
   "parameters": {
    "parameters": {
     "BEST_MODEL_PATH": "./best_model.pth",
     "NUM_LOGS_PER_EPOCH": 10,
     "criteria_for_best": "target_accuracy",
     "dataset_seed": 500,
     "datasets": [
      {
       "domain_prefix": "CORES_",
       "domains": [
        1,
        2,
        3,
        4,
        5
       ],
       "episode_transforms": [],
       "labels": [
        "1-10.",
        "1-11.",
        "1-15.",
        "1-16.",
        "1-17.",
        "1-18.",
        "1-19.",
        "10-4.",
        "10-7.",
        "11-1.",
        "11-14.",
        "11-17.",
        "11-20.",
        "11-7.",
        "13-20.",
        "13-8.",
        "14-10.",
        "14-11.",
        "14-14.",
        "14-7.",
        "15-1.",
        "15-20.",
        "16-1.",
        "16-16.",
        "17-10.",
        "17-11.",
        "17-2.",
        "19-1.",
        "19-16.",
        "19-19.",
        "19-20.",
        "19-3.",
        "2-10.",
        "2-11.",
        "2-17.",
        "2-18.",
        "2-20.",
        "2-3.",
        "2-4.",
        "2-5.",
        "2-6.",
        "2-7.",
        "2-8.",
        "3-13.",
        "3-18.",
        "3-3.",
        "4-1.",
        "4-10.",
        "4-11.",
        "4-19.",
        "5-5.",
        "6-15.",
        "7-10.",
        "7-14.",
        "8-18.",
        "8-20.",
        "8-3.",
        "8-8."
       ],
       "num_examples_per_domain_per_label": -1,
       "pickle_path": "/root/csc500-main/datasets/cores.stratified_ds.2022A.pkl",
       "source_or_target_dataset": "source",
       "x_transforms": [
        "unit_mag"
       ]
      },
      {
       "domain_prefix": "ORACLE.run1_",
       "domains": [
        32,
        38,
        8,
        44,
        14,
        50,
        20,
        26
       ],
       "episode_transforms": [],
       "labels": [
        "3123D52",
        "3123D65",
        "3123D79",
        "3123D80",
        "3123D54",
        "3123D70",
        "3123D7B",
        "3123D89",
        "3123D58",
        "3123D76",
        "3123D7D",
        "3123EFE",
        "3123D64",
        "3123D78",
        "3123D7E",
        "3124E4A"
       ],
       "num_examples_per_domain_per_label": 2000,
       "pickle_path": "/root/csc500-main/datasets/oracle.Run1_framed_2000Examples_stratified_ds.2022A.pkl",
       "source_or_target_dataset": "target",
       "x_transforms": [
        "unit_mag"
       ]
      }
     ],
     "device": "cuda",
     "experiment_name": "tl_1v2:cores-oracle.run1.framed",
     "lr": 0.0001,
     "n_epoch": 50,
     "n_query": 2,
     "n_shot": 3,
     "n_way": 16,
     "patience": 3,
     "seed": 500,
     "test_k_factor": 2,
     "torch_default_dtype": "torch.float32",
     "train_k_factor": 3,
     "val_k_factor": 2,
     "x_net": [
      {
       "class": "nnReshape",
       "kargs": {
        "shape": [
         -1,
         1,
         2,
         256
        ]
       }
      },
      {
       "class": "Conv2d",
       "kargs": {
        "bias": false,
        "in_channels": 1,
        "kernel_size": [
         1,
         7
        ],
        "out_channels": 256,
        "padding": [
         0,
         3
        ]
       }
      },
      {
       "class": "ReLU",
       "kargs": {
        "inplace": true
       }
      },
      {
       "class": "BatchNorm2d",
       "kargs": {
        "num_features": 256
       }
      },
      {
       "class": "Conv2d",
       "kargs": {
        "bias": true,
        "in_channels": 256,
        "kernel_size": [
         2,
         7
        ],
        "out_channels": 80,
        "padding": [
         0,
         3
        ]
       }
      },
      {
       "class": "ReLU",
       "kargs": {
        "inplace": true
       }
      },
      {
       "class": "BatchNorm2d",
       "kargs": {
        "num_features": 80
       }
      },
      {
       "class": "Flatten",
       "kargs": {}
      },
      {
       "class": "Linear",
       "kargs": {
        "in_features": 20480,
        "out_features": 256
       }
      },
      {
       "class": "ReLU",
       "kargs": {
        "inplace": true
       }
      },
      {
       "class": "BatchNorm1d",
       "kargs": {
        "num_features": 256
       }
      },
      {
       "class": "Linear",
       "kargs": {
        "in_features": 256,
        "out_features": 256
       }
      }
     ]
    }
   },
   "start_time": "2022-03-21T17:25:48.765362",
   "version": "2.3.4"
  }
 },
 "nbformat": 4,
 "nbformat_minor": 5
}