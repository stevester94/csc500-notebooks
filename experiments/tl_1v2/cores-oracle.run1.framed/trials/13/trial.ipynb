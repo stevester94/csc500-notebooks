{
 "cells": [
  {
   "cell_type": "markdown",
   "id": "9fea5f46",
   "metadata": {
    "papermill": {
     "duration": 0.030295,
     "end_time": "2022-03-21T09:43:57.993287",
     "exception": false,
     "start_time": "2022-03-21T09:43:57.962992",
     "status": "completed"
    },
    "tags": []
   },
   "source": [
    "# Transfer Learning Template"
   ]
  },
  {
   "cell_type": "code",
   "execution_count": 1,
   "id": "0902182a",
   "metadata": {
    "execution": {
     "iopub.execute_input": "2022-03-21T09:43:58.054744Z",
     "iopub.status.busy": "2022-03-21T09:43:58.053809Z",
     "iopub.status.idle": "2022-03-21T09:43:59.931572Z",
     "shell.execute_reply": "2022-03-21T09:43:59.932062Z"
    },
    "papermill": {
     "duration": 1.917074,
     "end_time": "2022-03-21T09:43:59.932371",
     "exception": false,
     "start_time": "2022-03-21T09:43:58.015297",
     "status": "completed"
    },
    "tags": []
   },
   "outputs": [],
   "source": [
    "%load_ext autoreload\n",
    "%autoreload 2\n",
    "%matplotlib inline\n",
    "\n",
    "    \n",
    "import os, json, sys, time, random\n",
    "import numpy as np\n",
    "import torch\n",
    "from torch.optim import Adam\n",
    "from  easydict import EasyDict\n",
    "import matplotlib.pyplot as plt\n",
    "\n",
    "from steves_models.steves_ptn import Steves_Prototypical_Network\n",
    "\n",
    "from steves_utils.lazy_iterable_wrapper import Lazy_Iterable_Wrapper\n",
    "from steves_utils.iterable_aggregator import Iterable_Aggregator\n",
    "from steves_utils.ptn_train_eval_test_jig import  PTN_Train_Eval_Test_Jig\n",
    "from steves_utils.torch_sequential_builder import build_sequential\n",
    "from steves_utils.torch_utils import get_dataset_metrics, ptn_confusion_by_domain_over_dataloader\n",
    "from steves_utils.utils_v2 import (per_domain_accuracy_from_confusion, get_datasets_base_path)\n",
    "from steves_utils.PTN.utils import independent_accuracy_assesment\n",
    "\n",
    "from torch.utils.data import DataLoader\n",
    "\n",
    "from steves_utils.stratified_dataset.episodic_accessor import Episodic_Accessor_Factory\n",
    "\n",
    "from steves_utils.ptn_do_report import (\n",
    "    get_loss_curve,\n",
    "    get_results_table,\n",
    "    get_parameters_table,\n",
    "    get_domain_accuracies,\n",
    ")\n",
    "\n",
    "from steves_utils.transforms import get_chained_transform"
   ]
  },
  {
   "cell_type": "markdown",
   "id": "41c840b4",
   "metadata": {
    "papermill": {
     "duration": 0.019604,
     "end_time": "2022-03-21T09:43:59.973894",
     "exception": false,
     "start_time": "2022-03-21T09:43:59.954290",
     "status": "completed"
    },
    "tags": []
   },
   "source": [
    "# Allowed Parameters\n",
    "These are allowed parameters, not defaults\n",
    "Each of these values need to be present in the injected parameters (the notebook will raise an exception if they are not present)\n",
    "\n",
    "Papermill uses the cell tag \"parameters\" to inject the real parameters below this cell.\n",
    "Enable tags to see what I mean"
   ]
  },
  {
   "cell_type": "code",
   "execution_count": 2,
   "id": "fd44eb83",
   "metadata": {
    "execution": {
     "iopub.execute_input": "2022-03-21T09:44:00.018625Z",
     "iopub.status.busy": "2022-03-21T09:44:00.018240Z",
     "iopub.status.idle": "2022-03-21T09:44:00.040705Z",
     "shell.execute_reply": "2022-03-21T09:44:00.041163Z"
    },
    "papermill": {
     "duration": 0.048016,
     "end_time": "2022-03-21T09:44:00.041298",
     "exception": false,
     "start_time": "2022-03-21T09:43:59.993282",
     "status": "completed"
    },
    "tags": []
   },
   "outputs": [],
   "source": [
    "required_parameters = {\n",
    "    \"experiment_name\",\n",
    "    \"lr\",\n",
    "    \"device\",\n",
    "    \"seed\",\n",
    "    \"dataset_seed\",\n",
    "    \"n_shot\",\n",
    "    \"n_query\",\n",
    "    \"n_way\",\n",
    "    \"train_k_factor\",\n",
    "    \"val_k_factor\",\n",
    "    \"test_k_factor\",\n",
    "    \"n_epoch\",\n",
    "    \"patience\",\n",
    "    \"criteria_for_best\",\n",
    "    \"x_net\",\n",
    "    \"datasets\",\n",
    "    \"torch_default_dtype\",\n",
    "    \"NUM_LOGS_PER_EPOCH\",\n",
    "    \"BEST_MODEL_PATH\",\n",
    "    \"x_shape\",\n",
    "}"
   ]
  },
  {
   "cell_type": "code",
   "execution_count": 3,
   "id": "fa3f0049",
   "metadata": {
    "execution": {
     "iopub.execute_input": "2022-03-21T09:44:00.097318Z",
     "iopub.status.busy": "2022-03-21T09:44:00.086701Z",
     "iopub.status.idle": "2022-03-21T09:44:00.121522Z",
     "shell.execute_reply": "2022-03-21T09:44:00.121041Z"
    },
    "papermill": {
     "duration": 0.056643,
     "end_time": "2022-03-21T09:44:00.121628",
     "exception": false,
     "start_time": "2022-03-21T09:44:00.064985",
     "status": "completed"
    },
    "tags": [
     "parameters"
    ]
   },
   "outputs": [],
   "source": [
    "from steves_utils.CORES.utils import (\n",
    "    ALL_NODES,\n",
    "    ALL_NODES_MINIMUM_1000_EXAMPLES,\n",
    "    ALL_DAYS\n",
    ")\n",
    "\n",
    "from steves_utils.ORACLE.utils_v2 import (\n",
    "    ALL_DISTANCES_FEET_NARROWED,\n",
    "    ALL_RUNS,\n",
    "    ALL_SERIAL_NUMBERS,\n",
    ")\n",
    "\n",
    "standalone_parameters = {}\n",
    "standalone_parameters[\"experiment_name\"] = \"STANDALONE PTN\"\n",
    "standalone_parameters[\"lr\"] = 0.001\n",
    "standalone_parameters[\"device\"] = \"cuda\"\n",
    "\n",
    "standalone_parameters[\"seed\"] = 1337\n",
    "standalone_parameters[\"dataset_seed\"] = 1337\n",
    "\n",
    "standalone_parameters[\"n_way\"] = 8\n",
    "standalone_parameters[\"n_shot\"] = 3\n",
    "standalone_parameters[\"n_query\"]  = 2\n",
    "standalone_parameters[\"train_k_factor\"] = 1\n",
    "standalone_parameters[\"val_k_factor\"] = 2\n",
    "standalone_parameters[\"test_k_factor\"] = 2\n",
    "\n",
    "\n",
    "standalone_parameters[\"n_epoch\"] = 50\n",
    "\n",
    "standalone_parameters[\"patience\"] = 10\n",
    "standalone_parameters[\"criteria_for_best\"] = \"source_loss\"\n",
    "\n",
    "standalone_parameters[\"datasets\"] = [\n",
    "    {\n",
    "        \"labels\": ALL_SERIAL_NUMBERS,\n",
    "        \"domains\": ALL_DISTANCES_FEET_NARROWED,\n",
    "        \"num_examples_per_domain_per_label\": 100,\n",
    "        \"pickle_path\": os.path.join(get_datasets_base_path(), \"oracle.Run1_framed_2000Examples_stratified_ds.2022A.pkl\"),\n",
    "        \"source_or_target_dataset\": \"source\",\n",
    "        \"x_transforms\": [\"unit_mag\", \"minus_two\"],\n",
    "        \"episode_transforms\": [],\n",
    "        \"domain_prefix\": \"ORACLE_\"\n",
    "    },\n",
    "    {\n",
    "        \"labels\": ALL_NODES,\n",
    "        \"domains\": ALL_DAYS,\n",
    "        \"num_examples_per_domain_per_label\": 100,\n",
    "        \"pickle_path\": os.path.join(get_datasets_base_path(), \"cores.stratified_ds.2022A.pkl\"),\n",
    "        \"source_or_target_dataset\": \"target\",\n",
    "        \"x_transforms\": [\"unit_power\", \"times_zero\"],\n",
    "        \"episode_transforms\": [],\n",
    "        \"domain_prefix\": \"CORES_\"\n",
    "    }   \n",
    "]\n",
    "\n",
    "standalone_parameters[\"torch_default_dtype\"] = \"torch.float32\" \n",
    "\n",
    "\n",
    "\n",
    "standalone_parameters[\"x_net\"] =     [\n",
    "    {\"class\": \"nnReshape\", \"kargs\": {\"shape\":[-1, 1, 2, 256]}},\n",
    "    {\"class\": \"Conv2d\", \"kargs\": { \"in_channels\":1, \"out_channels\":256, \"kernel_size\":(1,7), \"bias\":False, \"padding\":(0,3), },},\n",
    "    {\"class\": \"ReLU\", \"kargs\": {\"inplace\": True}},\n",
    "    {\"class\": \"BatchNorm2d\", \"kargs\": {\"num_features\":256}},\n",
    "\n",
    "    {\"class\": \"Conv2d\", \"kargs\": { \"in_channels\":256, \"out_channels\":80, \"kernel_size\":(2,7), \"bias\":True, \"padding\":(0,3), },},\n",
    "    {\"class\": \"ReLU\", \"kargs\": {\"inplace\": True}},\n",
    "    {\"class\": \"BatchNorm2d\", \"kargs\": {\"num_features\":80}},\n",
    "    {\"class\": \"Flatten\", \"kargs\": {}},\n",
    "\n",
    "    {\"class\": \"Linear\", \"kargs\": {\"in_features\": 80*256, \"out_features\": 256}}, # 80 units per IQ pair\n",
    "    {\"class\": \"ReLU\", \"kargs\": {\"inplace\": True}},\n",
    "    {\"class\": \"BatchNorm1d\", \"kargs\": {\"num_features\":256}},\n",
    "\n",
    "    {\"class\": \"Linear\", \"kargs\": {\"in_features\": 256, \"out_features\": 256}},\n",
    "]\n",
    "\n",
    "# Parameters relevant to results\n",
    "# These parameters will basically never need to change\n",
    "standalone_parameters[\"NUM_LOGS_PER_EPOCH\"] = 10\n",
    "standalone_parameters[\"BEST_MODEL_PATH\"] = \"./best_model.pth\"\n",
    "\n",
    "\n",
    "\n",
    "\n"
   ]
  },
  {
   "cell_type": "code",
   "execution_count": 4,
   "id": "4dbe4c5f",
   "metadata": {
    "execution": {
     "iopub.execute_input": "2022-03-21T09:44:00.180721Z",
     "iopub.status.busy": "2022-03-21T09:44:00.179047Z",
     "iopub.status.idle": "2022-03-21T09:44:00.201383Z",
     "shell.execute_reply": "2022-03-21T09:44:00.202011Z"
    },
    "papermill": {
     "duration": 0.056075,
     "end_time": "2022-03-21T09:44:00.202194",
     "exception": false,
     "start_time": "2022-03-21T09:44:00.146119",
     "status": "completed"
    },
    "tags": [
     "injected-parameters"
    ]
   },
   "outputs": [],
   "source": [
    "# Parameters\n",
    "parameters = {\n",
    "    \"experiment_name\": \"tl_1v2:cores-oracle.run1.framed\",\n",
    "    \"device\": \"cuda\",\n",
    "    \"lr\": 0.0001,\n",
    "    \"n_shot\": 3,\n",
    "    \"n_query\": 2,\n",
    "    \"train_k_factor\": 3,\n",
    "    \"val_k_factor\": 2,\n",
    "    \"test_k_factor\": 2,\n",
    "    \"torch_default_dtype\": \"torch.float32\",\n",
    "    \"n_epoch\": 50,\n",
    "    \"patience\": 3,\n",
    "    \"criteria_for_best\": \"target_accuracy\",\n",
    "    \"x_net\": [\n",
    "        {\"class\": \"nnReshape\", \"kargs\": {\"shape\": [-1, 1, 2, 256]}},\n",
    "        {\n",
    "            \"class\": \"Conv2d\",\n",
    "            \"kargs\": {\n",
    "                \"in_channels\": 1,\n",
    "                \"out_channels\": 256,\n",
    "                \"kernel_size\": [1, 7],\n",
    "                \"bias\": False,\n",
    "                \"padding\": [0, 3],\n",
    "            },\n",
    "        },\n",
    "        {\"class\": \"ReLU\", \"kargs\": {\"inplace\": True}},\n",
    "        {\"class\": \"BatchNorm2d\", \"kargs\": {\"num_features\": 256}},\n",
    "        {\n",
    "            \"class\": \"Conv2d\",\n",
    "            \"kargs\": {\n",
    "                \"in_channels\": 256,\n",
    "                \"out_channels\": 80,\n",
    "                \"kernel_size\": [2, 7],\n",
    "                \"bias\": True,\n",
    "                \"padding\": [0, 3],\n",
    "            },\n",
    "        },\n",
    "        {\"class\": \"ReLU\", \"kargs\": {\"inplace\": True}},\n",
    "        {\"class\": \"BatchNorm2d\", \"kargs\": {\"num_features\": 80}},\n",
    "        {\"class\": \"Flatten\", \"kargs\": {}},\n",
    "        {\"class\": \"Linear\", \"kargs\": {\"in_features\": 20480, \"out_features\": 256}},\n",
    "        {\"class\": \"ReLU\", \"kargs\": {\"inplace\": True}},\n",
    "        {\"class\": \"BatchNorm1d\", \"kargs\": {\"num_features\": 256}},\n",
    "        {\"class\": \"Linear\", \"kargs\": {\"in_features\": 256, \"out_features\": 256}},\n",
    "    ],\n",
    "    \"NUM_LOGS_PER_EPOCH\": 10,\n",
    "    \"BEST_MODEL_PATH\": \"./best_model.pth\",\n",
    "    \"n_way\": 16,\n",
    "    \"datasets\": [\n",
    "        {\n",
    "            \"labels\": [\n",
    "                \"1-10.\",\n",
    "                \"1-11.\",\n",
    "                \"1-15.\",\n",
    "                \"1-16.\",\n",
    "                \"1-17.\",\n",
    "                \"1-18.\",\n",
    "                \"1-19.\",\n",
    "                \"10-4.\",\n",
    "                \"10-7.\",\n",
    "                \"11-1.\",\n",
    "                \"11-14.\",\n",
    "                \"11-17.\",\n",
    "                \"11-20.\",\n",
    "                \"11-7.\",\n",
    "                \"13-20.\",\n",
    "                \"13-8.\",\n",
    "                \"14-10.\",\n",
    "                \"14-11.\",\n",
    "                \"14-14.\",\n",
    "                \"14-7.\",\n",
    "                \"15-1.\",\n",
    "                \"15-20.\",\n",
    "                \"16-1.\",\n",
    "                \"16-16.\",\n",
    "                \"17-10.\",\n",
    "                \"17-11.\",\n",
    "                \"17-2.\",\n",
    "                \"19-1.\",\n",
    "                \"19-16.\",\n",
    "                \"19-19.\",\n",
    "                \"19-20.\",\n",
    "                \"19-3.\",\n",
    "                \"2-10.\",\n",
    "                \"2-11.\",\n",
    "                \"2-17.\",\n",
    "                \"2-18.\",\n",
    "                \"2-20.\",\n",
    "                \"2-3.\",\n",
    "                \"2-4.\",\n",
    "                \"2-5.\",\n",
    "                \"2-6.\",\n",
    "                \"2-7.\",\n",
    "                \"2-8.\",\n",
    "                \"3-13.\",\n",
    "                \"3-18.\",\n",
    "                \"3-3.\",\n",
    "                \"4-1.\",\n",
    "                \"4-10.\",\n",
    "                \"4-11.\",\n",
    "                \"4-19.\",\n",
    "                \"5-5.\",\n",
    "                \"6-15.\",\n",
    "                \"7-10.\",\n",
    "                \"7-14.\",\n",
    "                \"8-18.\",\n",
    "                \"8-20.\",\n",
    "                \"8-3.\",\n",
    "                \"8-8.\",\n",
    "            ],\n",
    "            \"domains\": [1, 2, 3, 4, 5],\n",
    "            \"num_examples_per_domain_per_label\": -1,\n",
    "            \"pickle_path\": \"/root/csc500-main/datasets/cores.stratified_ds.2022A.pkl\",\n",
    "            \"source_or_target_dataset\": \"source\",\n",
    "            \"x_transforms\": [\"unit_mag\"],\n",
    "            \"episode_transforms\": [],\n",
    "            \"domain_prefix\": \"CORES_\",\n",
    "        },\n",
    "        {\n",
    "            \"labels\": [\n",
    "                \"3123D52\",\n",
    "                \"3123D65\",\n",
    "                \"3123D79\",\n",
    "                \"3123D80\",\n",
    "                \"3123D54\",\n",
    "                \"3123D70\",\n",
    "                \"3123D7B\",\n",
    "                \"3123D89\",\n",
    "                \"3123D58\",\n",
    "                \"3123D76\",\n",
    "                \"3123D7D\",\n",
    "                \"3123EFE\",\n",
    "                \"3123D64\",\n",
    "                \"3123D78\",\n",
    "                \"3123D7E\",\n",
    "                \"3124E4A\",\n",
    "            ],\n",
    "            \"domains\": [32, 38, 8, 44, 14, 50, 20, 26],\n",
    "            \"num_examples_per_domain_per_label\": 2000,\n",
    "            \"pickle_path\": \"/root/csc500-main/datasets/oracle.Run1_framed_2000Examples_stratified_ds.2022A.pkl\",\n",
    "            \"source_or_target_dataset\": \"target\",\n",
    "            \"x_transforms\": [\"unit_mag\"],\n",
    "            \"episode_transforms\": [],\n",
    "            \"domain_prefix\": \"ORACLE.run1_\",\n",
    "        },\n",
    "    ],\n",
    "    \"dataset_seed\": 154325,\n",
    "    \"seed\": 154325,\n",
    "}\n"
   ]
  },
  {
   "cell_type": "code",
   "execution_count": 5,
   "id": "8fa1cc33",
   "metadata": {
    "execution": {
     "iopub.execute_input": "2022-03-21T09:44:00.252193Z",
     "iopub.status.busy": "2022-03-21T09:44:00.251823Z",
     "iopub.status.idle": "2022-03-21T09:44:00.273415Z",
     "shell.execute_reply": "2022-03-21T09:44:00.274049Z"
    },
    "papermill": {
     "duration": 0.0466,
     "end_time": "2022-03-21T09:44:00.274230",
     "exception": false,
     "start_time": "2022-03-21T09:44:00.227630",
     "status": "completed"
    },
    "tags": []
   },
   "outputs": [],
   "source": [
    "# Set this to True if you want to run this template directly\n",
    "STANDALONE = False\n",
    "if STANDALONE:\n",
    "    print(\"parameters not injected, running with standalone_parameters\")\n",
    "    parameters = standalone_parameters\n",
    "\n",
    "if not 'parameters' in locals() and not 'parameters' in globals():\n",
    "    raise Exception(\"Parameter injection failed\")\n",
    "\n",
    "#Use an easy dict for all the parameters\n",
    "p = EasyDict(parameters)\n",
    "\n",
    "if \"x_shape\" not in p:\n",
    "    p.x_shape = [2,256] # Default to this if we dont supply x_shape\n",
    "\n",
    "\n",
    "supplied_keys = set(p.keys())\n",
    "\n",
    "if  supplied_keys != required_parameters:\n",
    "    print(\"Parameters are incorrect\")\n",
    "    if len(supplied_keys - required_parameters)>0: print(\"Shouldn't have:\", str(supplied_keys - required_parameters))\n",
    "    if len(required_parameters - supplied_keys)>0: print(\"Need to have:\", str(required_parameters - supplied_keys))\n",
    "    raise RuntimeError(\"Parameters are incorrect\")"
   ]
  },
  {
   "cell_type": "code",
   "execution_count": 6,
   "id": "3a028d58",
   "metadata": {
    "execution": {
     "iopub.execute_input": "2022-03-21T09:44:00.322861Z",
     "iopub.status.busy": "2022-03-21T09:44:00.322281Z",
     "iopub.status.idle": "2022-03-21T09:44:00.344624Z",
     "shell.execute_reply": "2022-03-21T09:44:00.343824Z"
    },
    "papermill": {
     "duration": 0.045403,
     "end_time": "2022-03-21T09:44:00.344777",
     "exception": false,
     "start_time": "2022-03-21T09:44:00.299374",
     "status": "completed"
    },
    "tags": []
   },
   "outputs": [],
   "source": [
    "###################################\n",
    "# Set the RNGs and make it all deterministic\n",
    "###################################\n",
    "np.random.seed(p.seed)\n",
    "random.seed(p.seed)\n",
    "torch.manual_seed(p.seed)\n",
    "\n",
    "torch.use_deterministic_algorithms(True) "
   ]
  },
  {
   "cell_type": "code",
   "execution_count": 7,
   "id": "b691acf6",
   "metadata": {
    "execution": {
     "iopub.execute_input": "2022-03-21T09:44:00.396655Z",
     "iopub.status.busy": "2022-03-21T09:44:00.395230Z",
     "iopub.status.idle": "2022-03-21T09:44:00.420563Z",
     "shell.execute_reply": "2022-03-21T09:44:00.419761Z"
    },
    "papermill": {
     "duration": 0.047656,
     "end_time": "2022-03-21T09:44:00.420715",
     "exception": false,
     "start_time": "2022-03-21T09:44:00.373059",
     "status": "completed"
    },
    "tags": []
   },
   "outputs": [],
   "source": [
    "###########################################\n",
    "# The stratified datasets honor this\n",
    "###########################################\n",
    "torch.set_default_dtype(eval(p.torch_default_dtype))"
   ]
  },
  {
   "cell_type": "code",
   "execution_count": 8,
   "id": "b5fba671",
   "metadata": {
    "execution": {
     "iopub.execute_input": "2022-03-21T09:44:00.470311Z",
     "iopub.status.busy": "2022-03-21T09:44:00.469946Z",
     "iopub.status.idle": "2022-03-21T09:44:00.526637Z",
     "shell.execute_reply": "2022-03-21T09:44:00.525928Z"
    },
    "papermill": {
     "duration": 0.079736,
     "end_time": "2022-03-21T09:44:00.526792",
     "exception": false,
     "start_time": "2022-03-21T09:44:00.447056",
     "status": "completed"
    },
    "tags": []
   },
   "outputs": [],
   "source": [
    "###################################\n",
    "# Build the network(s)\n",
    "# Note: It's critical to do this AFTER setting the RNG\n",
    "###################################\n",
    "x_net = build_sequential(p.x_net)"
   ]
  },
  {
   "cell_type": "code",
   "execution_count": 9,
   "id": "5d7e61cc",
   "metadata": {
    "execution": {
     "iopub.execute_input": "2022-03-21T09:44:00.576087Z",
     "iopub.status.busy": "2022-03-21T09:44:00.575725Z",
     "iopub.status.idle": "2022-03-21T09:44:00.603348Z",
     "shell.execute_reply": "2022-03-21T09:44:00.602538Z"
    },
    "papermill": {
     "duration": 0.051332,
     "end_time": "2022-03-21T09:44:00.603517",
     "exception": false,
     "start_time": "2022-03-21T09:44:00.552185",
     "status": "completed"
    },
    "tags": []
   },
   "outputs": [],
   "source": [
    "start_time_secs = time.time()"
   ]
  },
  {
   "cell_type": "code",
   "execution_count": 10,
   "id": "c6b67dfd",
   "metadata": {
    "execution": {
     "iopub.execute_input": "2022-03-21T09:44:00.655423Z",
     "iopub.status.busy": "2022-03-21T09:44:00.655059Z",
     "iopub.status.idle": "2022-03-21T09:44:00.677864Z",
     "shell.execute_reply": "2022-03-21T09:44:00.677058Z"
    },
    "papermill": {
     "duration": 0.047312,
     "end_time": "2022-03-21T09:44:00.678018",
     "exception": false,
     "start_time": "2022-03-21T09:44:00.630706",
     "status": "completed"
    },
    "tags": []
   },
   "outputs": [],
   "source": [
    "p.domains_source = []\n",
    "p.domains_target = []\n",
    "\n",
    "\n",
    "train_original_source = []\n",
    "val_original_source   = []\n",
    "test_original_source  = []\n",
    "\n",
    "train_original_target = []\n",
    "val_original_target   = []\n",
    "test_original_target  = []"
   ]
  },
  {
   "cell_type": "code",
   "execution_count": 11,
   "id": "e3d9c3d3",
   "metadata": {
    "execution": {
     "iopub.execute_input": "2022-03-21T09:44:00.726679Z",
     "iopub.status.busy": "2022-03-21T09:44:00.725898Z",
     "iopub.status.idle": "2022-03-21T09:44:00.751490Z",
     "shell.execute_reply": "2022-03-21T09:44:00.750686Z"
    },
    "papermill": {
     "duration": 0.047822,
     "end_time": "2022-03-21T09:44:00.751662",
     "exception": false,
     "start_time": "2022-03-21T09:44:00.703840",
     "status": "completed"
    },
    "tags": []
   },
   "outputs": [],
   "source": [
    "# global_x_transform_func = lambda x: normalize(x.to(torch.get_default_dtype()), \"unit_power\") # unit_power, unit_mag\n",
    "# global_x_transform_func = lambda x: normalize(x, \"unit_power\") # unit_power, unit_mag"
   ]
  },
  {
   "cell_type": "code",
   "execution_count": 12,
   "id": "acb78fd2",
   "metadata": {
    "execution": {
     "iopub.execute_input": "2022-03-21T09:44:00.809072Z",
     "iopub.status.busy": "2022-03-21T09:44:00.807595Z",
     "iopub.status.idle": "2022-03-21T09:44:00.827877Z",
     "shell.execute_reply": "2022-03-21T09:44:00.827052Z"
    },
    "papermill": {
     "duration": 0.051428,
     "end_time": "2022-03-21T09:44:00.828034",
     "exception": false,
     "start_time": "2022-03-21T09:44:00.776606",
     "status": "completed"
    },
    "tags": []
   },
   "outputs": [],
   "source": [
    "def add_dataset(\n",
    "    labels,\n",
    "    domains,\n",
    "    pickle_path,\n",
    "    x_transforms,\n",
    "    episode_transforms,\n",
    "    domain_prefix,\n",
    "    num_examples_per_domain_per_label,\n",
    "    source_or_target_dataset:str,\n",
    "    iterator_seed=p.seed,\n",
    "    dataset_seed=p.dataset_seed,\n",
    "    n_shot=p.n_shot,\n",
    "    n_way=p.n_way,\n",
    "    n_query=p.n_query,\n",
    "    train_val_test_k_factors=(p.train_k_factor,p.val_k_factor,p.test_k_factor),\n",
    "):\n",
    "   \n",
    "    if x_transforms == []: x_transform = None\n",
    "    else: x_transform = get_chained_transform(x_transforms)\n",
    "    \n",
    "    if episode_transforms == []: episode_transform = None\n",
    "    else: raise Exception(\"episode_transforms not implemented\")\n",
    "    \n",
    "    episode_transform = lambda tup, _prefix=domain_prefix: (_prefix + str(tup[0]), tup[1])\n",
    "\n",
    "\n",
    "    eaf = Episodic_Accessor_Factory(\n",
    "        labels=labels,\n",
    "        domains=domains,\n",
    "        num_examples_per_domain_per_label=num_examples_per_domain_per_label,\n",
    "        iterator_seed=iterator_seed,\n",
    "        dataset_seed=dataset_seed,\n",
    "        n_shot=n_shot,\n",
    "        n_way=n_way,\n",
    "        n_query=n_query,\n",
    "        train_val_test_k_factors=train_val_test_k_factors,\n",
    "        pickle_path=pickle_path,\n",
    "        x_transform_func=x_transform,\n",
    "    )\n",
    "\n",
    "    train, val, test = eaf.get_train(), eaf.get_val(), eaf.get_test()\n",
    "    train = Lazy_Iterable_Wrapper(train, episode_transform)\n",
    "    val = Lazy_Iterable_Wrapper(val, episode_transform)\n",
    "    test = Lazy_Iterable_Wrapper(test, episode_transform)\n",
    "\n",
    "    if source_or_target_dataset==\"source\":\n",
    "        train_original_source.append(train)\n",
    "        val_original_source.append(val)\n",
    "        test_original_source.append(test)\n",
    "\n",
    "        p.domains_source.extend(\n",
    "            [domain_prefix + str(u) for u in domains]\n",
    "        )\n",
    "    elif source_or_target_dataset==\"target\":\n",
    "        train_original_target.append(train)\n",
    "        val_original_target.append(val)\n",
    "        test_original_target.append(test)\n",
    "        p.domains_target.extend(\n",
    "            [domain_prefix + str(u) for u in domains]\n",
    "        )\n",
    "    else:\n",
    "        raise Exception(f\"invalid source_or_target_dataset: {source_or_target_dataset}\")\n",
    "    "
   ]
  },
  {
   "cell_type": "code",
   "execution_count": 13,
   "id": "fe266617",
   "metadata": {
    "execution": {
     "iopub.execute_input": "2022-03-21T09:44:00.881542Z",
     "iopub.status.busy": "2022-03-21T09:44:00.880878Z",
     "iopub.status.idle": "2022-03-21T09:44:42.094387Z",
     "shell.execute_reply": "2022-03-21T09:44:42.093935Z"
    },
    "papermill": {
     "duration": 41.237539,
     "end_time": "2022-03-21T09:44:42.094492",
     "exception": false,
     "start_time": "2022-03-21T09:44:00.856953",
     "status": "completed"
    },
    "tags": []
   },
   "outputs": [],
   "source": [
    "for ds in p.datasets:\n",
    "    add_dataset(**ds)"
   ]
  },
  {
   "cell_type": "code",
   "execution_count": 14,
   "id": "b90d65ac",
   "metadata": {
    "execution": {
     "iopub.execute_input": "2022-03-21T09:44:42.158452Z",
     "iopub.status.busy": "2022-03-21T09:44:42.158068Z",
     "iopub.status.idle": "2022-03-21T09:44:42.182554Z",
     "shell.execute_reply": "2022-03-21T09:44:42.181732Z"
    },
    "papermill": {
     "duration": 0.061213,
     "end_time": "2022-03-21T09:44:42.182722",
     "exception": false,
     "start_time": "2022-03-21T09:44:42.121509",
     "status": "completed"
    },
    "tags": []
   },
   "outputs": [],
   "source": [
    "# from steves_utils.CORES.utils import (\n",
    "#     ALL_NODES,\n",
    "#     ALL_NODES_MINIMUM_1000_EXAMPLES,\n",
    "#     ALL_DAYS\n",
    "# )\n",
    "\n",
    "# add_dataset(\n",
    "#     labels=ALL_NODES,\n",
    "#     domains = ALL_DAYS,\n",
    "#     num_examples_per_domain_per_label=100,\n",
    "#     pickle_path=os.path.join(get_datasets_base_path(), \"cores.stratified_ds.2022A.pkl\"),\n",
    "#     source_or_target_dataset=\"target\",\n",
    "#     x_transform_func=global_x_transform_func,\n",
    "#     domain_modifier=lambda u: f\"cores_{u}\"\n",
    "# )"
   ]
  },
  {
   "cell_type": "code",
   "execution_count": 15,
   "id": "76db484d",
   "metadata": {
    "execution": {
     "iopub.execute_input": "2022-03-21T09:44:42.239443Z",
     "iopub.status.busy": "2022-03-21T09:44:42.238638Z",
     "iopub.status.idle": "2022-03-21T09:44:42.252001Z",
     "shell.execute_reply": "2022-03-21T09:44:42.251193Z"
    },
    "papermill": {
     "duration": 0.043611,
     "end_time": "2022-03-21T09:44:42.252158",
     "exception": false,
     "start_time": "2022-03-21T09:44:42.208547",
     "status": "completed"
    },
    "tags": []
   },
   "outputs": [],
   "source": [
    "# from steves_utils.ORACLE.utils_v2 import (\n",
    "#     ALL_DISTANCES_FEET,\n",
    "#     ALL_RUNS,\n",
    "#     ALL_SERIAL_NUMBERS,\n",
    "# )\n",
    "\n",
    "\n",
    "# add_dataset(\n",
    "#     labels=ALL_SERIAL_NUMBERS,\n",
    "#     domains = list(set(ALL_DISTANCES_FEET) - {2,62}),\n",
    "#     num_examples_per_domain_per_label=100,\n",
    "#     pickle_path=os.path.join(get_datasets_base_path(), \"oracle.Run2_framed_2000Examples_stratified_ds.2022A.pkl\"),\n",
    "#     source_or_target_dataset=\"source\",\n",
    "#     x_transform_func=global_x_transform_func,\n",
    "#     domain_modifier=lambda u: f\"oracle1_{u}\"\n",
    "# )\n"
   ]
  },
  {
   "cell_type": "code",
   "execution_count": 16,
   "id": "97dea9d2",
   "metadata": {
    "execution": {
     "iopub.execute_input": "2022-03-21T09:44:42.304837Z",
     "iopub.status.busy": "2022-03-21T09:44:42.303845Z",
     "iopub.status.idle": "2022-03-21T09:44:42.325844Z",
     "shell.execute_reply": "2022-03-21T09:44:42.325046Z"
    },
    "papermill": {
     "duration": 0.045092,
     "end_time": "2022-03-21T09:44:42.325998",
     "exception": false,
     "start_time": "2022-03-21T09:44:42.280906",
     "status": "completed"
    },
    "tags": []
   },
   "outputs": [],
   "source": [
    "# from steves_utils.ORACLE.utils_v2 import (\n",
    "#     ALL_DISTANCES_FEET,\n",
    "#     ALL_RUNS,\n",
    "#     ALL_SERIAL_NUMBERS,\n",
    "# )\n",
    "\n",
    "\n",
    "# add_dataset(\n",
    "#     labels=ALL_SERIAL_NUMBERS,\n",
    "#     domains = list(set(ALL_DISTANCES_FEET) - {2,62,56}),\n",
    "#     num_examples_per_domain_per_label=100,\n",
    "#     pickle_path=os.path.join(get_datasets_base_path(), \"oracle.Run2_framed_2000Examples_stratified_ds.2022A.pkl\"),\n",
    "#     source_or_target_dataset=\"source\",\n",
    "#     x_transform_func=global_x_transform_func,\n",
    "#     domain_modifier=lambda u: f\"oracle2_{u}\"\n",
    "# )"
   ]
  },
  {
   "cell_type": "code",
   "execution_count": 17,
   "id": "6f289866",
   "metadata": {
    "execution": {
     "iopub.execute_input": "2022-03-21T09:44:42.377034Z",
     "iopub.status.busy": "2022-03-21T09:44:42.375668Z",
     "iopub.status.idle": "2022-03-21T09:44:42.397067Z",
     "shell.execute_reply": "2022-03-21T09:44:42.396269Z"
    },
    "papermill": {
     "duration": 0.045572,
     "end_time": "2022-03-21T09:44:42.397220",
     "exception": false,
     "start_time": "2022-03-21T09:44:42.351648",
     "status": "completed"
    },
    "tags": []
   },
   "outputs": [],
   "source": [
    "# add_dataset(\n",
    "#     labels=list(range(19)),\n",
    "#     domains = [0,1,2],\n",
    "#     num_examples_per_domain_per_label=100,\n",
    "#     pickle_path=os.path.join(get_datasets_base_path(), \"metehan.stratified_ds.2022A.pkl\"),\n",
    "#     source_or_target_dataset=\"target\",\n",
    "#     x_transform_func=global_x_transform_func,\n",
    "#     domain_modifier=lambda u: f\"met_{u}\"\n",
    "# )"
   ]
  },
  {
   "cell_type": "code",
   "execution_count": 18,
   "id": "86a863c3",
   "metadata": {
    "execution": {
     "iopub.execute_input": "2022-03-21T09:44:42.449326Z",
     "iopub.status.busy": "2022-03-21T09:44:42.448765Z",
     "iopub.status.idle": "2022-03-21T09:44:42.465908Z",
     "shell.execute_reply": "2022-03-21T09:44:42.465107Z"
    },
    "papermill": {
     "duration": 0.040213,
     "end_time": "2022-03-21T09:44:42.466061",
     "exception": false,
     "start_time": "2022-03-21T09:44:42.425848",
     "status": "completed"
    },
    "tags": []
   },
   "outputs": [],
   "source": [
    "# # from steves_utils.wisig.utils import (\n",
    "# #     ALL_NODES_MINIMUM_100_EXAMPLES,\n",
    "# #     ALL_NODES_MINIMUM_500_EXAMPLES,\n",
    "# #     ALL_NODES_MINIMUM_1000_EXAMPLES,\n",
    "# #     ALL_DAYS\n",
    "# # )\n",
    "\n",
    "# import steves_utils.wisig.utils as wisig\n",
    "\n",
    "\n",
    "# add_dataset(\n",
    "#     labels=wisig.ALL_NODES_MINIMUM_100_EXAMPLES,\n",
    "#     domains = wisig.ALL_DAYS,\n",
    "#     num_examples_per_domain_per_label=100,\n",
    "#     pickle_path=os.path.join(get_datasets_base_path(), \"wisig.node3-19.stratified_ds.2022A.pkl\"),\n",
    "#     source_or_target_dataset=\"target\",\n",
    "#     x_transform_func=global_x_transform_func,\n",
    "#     domain_modifier=lambda u: f\"wisig_{u}\"\n",
    "# )"
   ]
  },
  {
   "cell_type": "code",
   "execution_count": 19,
   "id": "fd5442bc",
   "metadata": {
    "execution": {
     "iopub.execute_input": "2022-03-21T09:44:42.522153Z",
     "iopub.status.busy": "2022-03-21T09:44:42.521587Z",
     "iopub.status.idle": "2022-03-21T09:44:42.544416Z",
     "shell.execute_reply": "2022-03-21T09:44:42.543721Z"
    },
    "papermill": {
     "duration": 0.052555,
     "end_time": "2022-03-21T09:44:42.544571",
     "exception": false,
     "start_time": "2022-03-21T09:44:42.492016",
     "status": "completed"
    },
    "tags": []
   },
   "outputs": [],
   "source": [
    "###################################\n",
    "# Build the dataset\n",
    "###################################\n",
    "train_original_source = Iterable_Aggregator(train_original_source, p.seed)\n",
    "val_original_source = Iterable_Aggregator(val_original_source, p.seed)\n",
    "test_original_source = Iterable_Aggregator(test_original_source, p.seed)\n",
    "\n",
    "\n",
    "train_original_target = Iterable_Aggregator(train_original_target, p.seed)\n",
    "val_original_target = Iterable_Aggregator(val_original_target, p.seed)\n",
    "test_original_target = Iterable_Aggregator(test_original_target, p.seed)\n",
    "\n",
    "# For CNN We only use X and Y. And we only train on the source.\n",
    "# Properly form the data using a transform lambda and Lazy_Iterable_Wrapper. Finally wrap them in a dataloader\n",
    "\n",
    "transform_lambda = lambda ex: ex[1] # Original is (<domain>, <episode>) so we strip down to episode only\n",
    "\n",
    "train_processed_source = Lazy_Iterable_Wrapper(train_original_source, transform_lambda)\n",
    "val_processed_source   = Lazy_Iterable_Wrapper(val_original_source, transform_lambda)\n",
    "test_processed_source  = Lazy_Iterable_Wrapper(test_original_source, transform_lambda)\n",
    "\n",
    "train_processed_target = Lazy_Iterable_Wrapper(train_original_target, transform_lambda)\n",
    "val_processed_target   = Lazy_Iterable_Wrapper(val_original_target, transform_lambda)\n",
    "test_processed_target  = Lazy_Iterable_Wrapper(test_original_target, transform_lambda)\n",
    "\n",
    "datasets = EasyDict({\n",
    "    \"source\": {\n",
    "        \"original\": {\"train\":train_original_source, \"val\":val_original_source, \"test\":test_original_source},\n",
    "        \"processed\": {\"train\":train_processed_source, \"val\":val_processed_source, \"test\":test_processed_source}\n",
    "    },\n",
    "    \"target\": {\n",
    "        \"original\": {\"train\":train_original_target, \"val\":val_original_target, \"test\":test_original_target},\n",
    "        \"processed\": {\"train\":train_processed_target, \"val\":val_processed_target, \"test\":test_processed_target}\n",
    "    },\n",
    "})"
   ]
  },
  {
   "cell_type": "code",
   "execution_count": 20,
   "id": "5b3c01fc",
   "metadata": {
    "execution": {
     "iopub.execute_input": "2022-03-21T09:44:42.597216Z",
     "iopub.status.busy": "2022-03-21T09:44:42.596844Z",
     "iopub.status.idle": "2022-03-21T09:44:57.882452Z",
     "shell.execute_reply": "2022-03-21T09:44:57.883183Z"
    },
    "papermill": {
     "duration": 15.31244,
     "end_time": "2022-03-21T09:44:57.883403",
     "exception": false,
     "start_time": "2022-03-21T09:44:42.570963",
     "status": "completed"
    },
    "tags": []
   },
   "outputs": [
    {
     "name": "stdout",
     "output_type": "stream",
     "text": [
      "{'CORES_4', 'CORES_2', 'CORES_1', 'CORES_5', 'CORES_3'}\n"
     ]
    },
    {
     "name": "stdout",
     "output_type": "stream",
     "text": [
      "{'ORACLE.run1_50', 'ORACLE.run1_8', 'ORACLE.run1_14', 'ORACLE.run1_20', 'ORACLE.run1_26', 'ORACLE.run1_38', 'ORACLE.run1_32', 'ORACLE.run1_44'}\n"
     ]
    },
    {
     "name": "stdout",
     "output_type": "stream",
     "text": [
      "tensor([[[-0.6096, -0.3575,  1.3054,  ..., -0.0319, -0.4341,  0.3543],\n",
      "         [ 0.2809, -1.0565, -0.6001,  ...,  0.2617,  0.1915, -1.4172]],\n",
      "\n",
      "        [[-0.2739,  0.1879,  1.3725,  ...,  0.1943, -0.4076,  0.2675],\n",
      "         [ 0.0159, -0.7993,  0.3216,  ...,  0.0955, -0.1911, -0.2356]],\n",
      "\n",
      "        [[ 0.3657, -1.2910, -0.7981,  ...,  0.8490,  0.5469, -0.8267],\n",
      "         [ 1.3768,  0.2703, -0.7536,  ...,  0.5437,  1.4818,  0.2544]],\n",
      "\n",
      "        ...,\n",
      "\n",
      "        [[-0.2034,  0.2271,  0.5356,  ...,  0.2881, -0.3458,  1.1153],\n",
      "         [ 0.5559,  0.5898, -0.1322,  ...,  0.0441,  0.2881,  0.2814]],\n",
      "\n",
      "        [[-0.0036,  0.3244, -0.1895,  ..., -0.7144, -0.6197,  0.3718],\n",
      "         [-0.0474, -0.5322, -0.5942,  ..., -0.9623,  0.1130, -0.2552]],\n",
      "\n",
      "        [[-0.1316,  0.1316,  0.2148,  ...,  0.1974, -0.9664, -0.9006],\n",
      "         [-0.0485,  0.0312,  0.0173,  ..., -1.3439, -1.0946,  0.8140]]])\n"
     ]
    }
   ],
   "source": [
    "from steves_utils.transforms import get_average_magnitude, get_average_power\n",
    "\n",
    "print(set([u for u,_ in val_original_source]))\n",
    "print(set([u for u,_ in val_original_target]))\n",
    "\n",
    "s_x, s_y, q_x, q_y, _ = next(iter(train_processed_source))\n",
    "print(s_x)\n",
    "\n",
    "# for ds in [\n",
    "#     train_processed_source,\n",
    "#     val_processed_source,\n",
    "#     test_processed_source,\n",
    "#     train_processed_target,\n",
    "#     val_processed_target,\n",
    "#     test_processed_target\n",
    "# ]:\n",
    "#     for s_x, s_y, q_x, q_y, _ in ds:\n",
    "#         for X in (s_x, q_x):\n",
    "#             for x in X:\n",
    "#                 assert np.isclose(get_average_magnitude(x.numpy()), 1.0)\n",
    "#                 assert np.isclose(get_average_power(x.numpy()), 1.0)\n",
    "                "
   ]
  },
  {
   "cell_type": "code",
   "execution_count": 21,
   "id": "bbdacba1",
   "metadata": {
    "execution": {
     "iopub.execute_input": "2022-03-21T09:44:57.940003Z",
     "iopub.status.busy": "2022-03-21T09:44:57.939628Z",
     "iopub.status.idle": "2022-03-21T09:44:58.081398Z",
     "shell.execute_reply": "2022-03-21T09:44:58.081699Z"
    },
    "papermill": {
     "duration": 0.169446,
     "end_time": "2022-03-21T09:44:58.081810",
     "exception": false,
     "start_time": "2022-03-21T09:44:57.912364",
     "status": "completed"
    },
    "tags": []
   },
   "outputs": [
    {
     "name": "stdout",
     "output_type": "stream",
     "text": [
      "(2, 256)\n"
     ]
    }
   ],
   "source": [
    "###################################\n",
    "# Build the model\n",
    "###################################\n",
    "# easfsl only wants a tuple for the shape\n",
    "model = Steves_Prototypical_Network(x_net, device=p.device, x_shape=tuple(p.x_shape))\n",
    "optimizer = Adam(params=model.parameters(), lr=p.lr)"
   ]
  },
  {
   "cell_type": "code",
   "execution_count": 22,
   "id": "22b39ac5",
   "metadata": {
    "execution": {
     "iopub.execute_input": "2022-03-21T09:44:58.134317Z",
     "iopub.status.busy": "2022-03-21T09:44:58.133948Z",
     "iopub.status.idle": "2022-03-21T10:08:13.320893Z",
     "shell.execute_reply": "2022-03-21T10:08:13.320547Z"
    },
    "papermill": {
     "duration": 1395.21658,
     "end_time": "2022-03-21T10:08:13.320982",
     "exception": false,
     "start_time": "2022-03-21T09:44:58.104402",
     "status": "completed"
    },
    "tags": []
   },
   "outputs": [
    {
     "name": "stdout",
     "output_type": "stream",
     "text": [
      "epoch: 1, [batch: 1 / 6297], examples_per_second: 33.3829, train_label_loss: 2.4863, \n"
     ]
    },
    {
     "name": "stdout",
     "output_type": "stream",
     "text": [
      "epoch: 1, [batch: 630 / 6297], examples_per_second: 2797.6832, train_label_loss: 0.0720, \n"
     ]
    },
    {
     "name": "stdout",
     "output_type": "stream",
     "text": [
      "epoch: 1, [batch: 1260 / 6297], examples_per_second: 2950.1519, train_label_loss: 0.0091, \n"
     ]
    },
    {
     "name": "stdout",
     "output_type": "stream",
     "text": [
      "epoch: 1, [batch: 1889 / 6297], examples_per_second: 2914.6641, train_label_loss: 0.0024, \n"
     ]
    },
    {
     "name": "stdout",
     "output_type": "stream",
     "text": [
      "epoch: 1, [batch: 2519 / 6297], examples_per_second: 2916.0145, train_label_loss: 0.0013, \n"
     ]
    },
    {
     "name": "stdout",
     "output_type": "stream",
     "text": [
      "epoch: 1, [batch: 3149 / 6297], examples_per_second: 2948.6784, train_label_loss: 0.0122, \n"
     ]
    },
    {
     "name": "stdout",
     "output_type": "stream",
     "text": [
      "epoch: 1, [batch: 3778 / 6297], examples_per_second: 2968.9083, train_label_loss: 0.0022, \n"
     ]
    },
    {
     "name": "stdout",
     "output_type": "stream",
     "text": [
      "epoch: 1, [batch: 4408 / 6297], examples_per_second: 2905.4788, train_label_loss: 0.0005, \n"
     ]
    },
    {
     "name": "stdout",
     "output_type": "stream",
     "text": [
      "epoch: 1, [batch: 5037 / 6297], examples_per_second: 2940.0754, train_label_loss: 0.0001, \n"
     ]
    },
    {
     "name": "stdout",
     "output_type": "stream",
     "text": [
      "epoch: 1, [batch: 5667 / 6297], examples_per_second: 3003.7479, train_label_loss: 0.0003, \n"
     ]
    },
    {
     "name": "stdout",
     "output_type": "stream",
     "text": [
      "=============================================================\n",
      "epoch: 1, source_val_acc_label: 0.9981, target_val_acc_label: 0.2095, source_val_label_loss: 0.0109, target_val_label_loss: 2.3767, \n",
      "=============================================================\n"
     ]
    },
    {
     "name": "stdout",
     "output_type": "stream",
     "text": [
      "New best\n"
     ]
    },
    {
     "name": "stdout",
     "output_type": "stream",
     "text": [
      "epoch: 2, [batch: 1 / 6333], examples_per_second: 3.3033, train_label_loss: 0.0001, \n"
     ]
    },
    {
     "name": "stdout",
     "output_type": "stream",
     "text": [
      "epoch: 2, [batch: 634 / 6333], examples_per_second: 3942.9349, train_label_loss: 0.0000, \n"
     ]
    },
    {
     "name": "stdout",
     "output_type": "stream",
     "text": [
      "epoch: 2, [batch: 1267 / 6333], examples_per_second: 3934.4691, train_label_loss: 0.0002, \n"
     ]
    },
    {
     "name": "stdout",
     "output_type": "stream",
     "text": [
      "epoch: 2, [batch: 1900 / 6333], examples_per_second: 3934.1722, train_label_loss: 0.0000, \n"
     ]
    },
    {
     "name": "stdout",
     "output_type": "stream",
     "text": [
      "epoch: 2, [batch: 2533 / 6333], examples_per_second: 3802.4530, train_label_loss: 0.0000, \n"
     ]
    },
    {
     "name": "stdout",
     "output_type": "stream",
     "text": [
      "epoch: 2, [batch: 3167 / 6333], examples_per_second: 3985.8591, train_label_loss: 0.0000, \n"
     ]
    },
    {
     "name": "stdout",
     "output_type": "stream",
     "text": [
      "epoch: 2, [batch: 3800 / 6333], examples_per_second: 3909.9297, train_label_loss: 0.0000, \n"
     ]
    },
    {
     "name": "stdout",
     "output_type": "stream",
     "text": [
      "epoch: 2, [batch: 4433 / 6333], examples_per_second: 3865.4270, train_label_loss: 0.0000, \n"
     ]
    },
    {
     "name": "stdout",
     "output_type": "stream",
     "text": [
      "epoch: 2, [batch: 5066 / 6333], examples_per_second: 3824.5048, train_label_loss: 0.0007, \n"
     ]
    },
    {
     "name": "stdout",
     "output_type": "stream",
     "text": [
      "epoch: 2, [batch: 5699 / 6333], examples_per_second: 3376.4718, train_label_loss: 0.0000, \n"
     ]
    },
    {
     "name": "stdout",
     "output_type": "stream",
     "text": [
      "=============================================================\n",
      "epoch: 2, source_val_acc_label: 0.9964, target_val_acc_label: 0.2451, source_val_label_loss: 0.0230, target_val_label_loss: 2.3445, \n",
      "=============================================================\n"
     ]
    },
    {
     "name": "stdout",
     "output_type": "stream",
     "text": [
      "New best\n"
     ]
    },
    {
     "name": "stdout",
     "output_type": "stream",
     "text": [
      "epoch: 3, [batch: 1 / 6305], examples_per_second: 2.1272, train_label_loss: 0.0000, \n"
     ]
    },
    {
     "name": "stdout",
     "output_type": "stream",
     "text": [
      "epoch: 3, [batch: 631 / 6305], examples_per_second: 2588.8106, train_label_loss: 0.0000, \n"
     ]
    },
    {
     "name": "stdout",
     "output_type": "stream",
     "text": [
      "epoch: 3, [batch: 1261 / 6305], examples_per_second: 2578.5601, train_label_loss: 0.0000, \n"
     ]
    },
    {
     "name": "stdout",
     "output_type": "stream",
     "text": [
      "epoch: 3, [batch: 1892 / 6305], examples_per_second: 2594.6511, train_label_loss: 0.0000, \n"
     ]
    },
    {
     "name": "stdout",
     "output_type": "stream",
     "text": [
      "epoch: 3, [batch: 2522 / 6305], examples_per_second: 2562.5426, train_label_loss: 0.0000, \n"
     ]
    },
    {
     "name": "stdout",
     "output_type": "stream",
     "text": [
      "epoch: 3, [batch: 3153 / 6305], examples_per_second: 2550.7806, train_label_loss: 0.0000, \n"
     ]
    },
    {
     "name": "stdout",
     "output_type": "stream",
     "text": [
      "epoch: 3, [batch: 3783 / 6305], examples_per_second: 2608.4616, train_label_loss: 0.0001, \n"
     ]
    },
    {
     "name": "stdout",
     "output_type": "stream",
     "text": [
      "epoch: 3, [batch: 4413 / 6305], examples_per_second: 2763.4814, train_label_loss: 0.0000, \n"
     ]
    },
    {
     "name": "stdout",
     "output_type": "stream",
     "text": [
      "epoch: 3, [batch: 5044 / 6305], examples_per_second: 3749.0350, train_label_loss: 0.0000, \n"
     ]
    },
    {
     "name": "stdout",
     "output_type": "stream",
     "text": [
      "epoch: 3, [batch: 5674 / 6305], examples_per_second: 4026.9660, train_label_loss: 0.0000, \n"
     ]
    },
    {
     "name": "stdout",
     "output_type": "stream",
     "text": [
      "=============================================================\n",
      "epoch: 3, source_val_acc_label: 0.9993, target_val_acc_label: 0.2203, source_val_label_loss: 0.0088, target_val_label_loss: 2.6768, \n",
      "=============================================================\n"
     ]
    },
    {
     "name": "stdout",
     "output_type": "stream",
     "text": [
      "epoch: 4, [batch: 1 / 6323], examples_per_second: 2.1956, train_label_loss: 0.0000, \n"
     ]
    },
    {
     "name": "stdout",
     "output_type": "stream",
     "text": [
      "epoch: 4, [batch: 633 / 6323], examples_per_second: 2321.0378, train_label_loss: 0.0000, \n"
     ]
    },
    {
     "name": "stdout",
     "output_type": "stream",
     "text": [
      "epoch: 4, [batch: 1265 / 6323], examples_per_second: 2324.7863, train_label_loss: 0.0000, \n"
     ]
    },
    {
     "name": "stdout",
     "output_type": "stream",
     "text": [
      "epoch: 4, [batch: 1897 / 6323], examples_per_second: 2305.7049, train_label_loss: 0.0000, \n"
     ]
    },
    {
     "name": "stdout",
     "output_type": "stream",
     "text": [
      "epoch: 4, [batch: 2529 / 6323], examples_per_second: 2304.0438, train_label_loss: 0.0001, \n"
     ]
    },
    {
     "name": "stdout",
     "output_type": "stream",
     "text": [
      "epoch: 4, [batch: 3162 / 6323], examples_per_second: 2301.5994, train_label_loss: 0.0000, \n"
     ]
    },
    {
     "name": "stdout",
     "output_type": "stream",
     "text": [
      "epoch: 4, [batch: 3794 / 6323], examples_per_second: 2321.7899, train_label_loss: 0.0000, \n"
     ]
    },
    {
     "name": "stdout",
     "output_type": "stream",
     "text": [
      "epoch: 4, [batch: 4426 / 6323], examples_per_second: 2304.9950, train_label_loss: 0.0013, \n"
     ]
    },
    {
     "name": "stdout",
     "output_type": "stream",
     "text": [
      "epoch: 4, [batch: 5058 / 6323], examples_per_second: 2823.5646, train_label_loss: 0.0000, \n"
     ]
    },
    {
     "name": "stdout",
     "output_type": "stream",
     "text": [
      "epoch: 4, [batch: 5690 / 6323], examples_per_second: 2939.4491, train_label_loss: 0.0000, \n"
     ]
    },
    {
     "name": "stdout",
     "output_type": "stream",
     "text": [
      "=============================================================\n",
      "epoch: 4, source_val_acc_label: 0.9991, target_val_acc_label: 0.1940, source_val_label_loss: 0.0086, target_val_label_loss: 2.9263, \n",
      "=============================================================\n"
     ]
    },
    {
     "name": "stdout",
     "output_type": "stream",
     "text": [
      "epoch: 5, [batch: 1 / 6317], examples_per_second: 2.3024, train_label_loss: 0.0000, \n"
     ]
    },
    {
     "name": "stdout",
     "output_type": "stream",
     "text": [
      "epoch: 5, [batch: 632 / 6317], examples_per_second: 2329.7100, train_label_loss: 0.0000, \n"
     ]
    },
    {
     "name": "stdout",
     "output_type": "stream",
     "text": [
      "epoch: 5, [batch: 1264 / 6317], examples_per_second: 2327.2438, train_label_loss: 0.0000, \n"
     ]
    },
    {
     "name": "stdout",
     "output_type": "stream",
     "text": [
      "epoch: 5, [batch: 1895 / 6317], examples_per_second: 2341.1977, train_label_loss: 0.0000, \n"
     ]
    },
    {
     "name": "stdout",
     "output_type": "stream",
     "text": [
      "epoch: 5, [batch: 2527 / 6317], examples_per_second: 2320.9212, train_label_loss: 0.0000, \n"
     ]
    },
    {
     "name": "stdout",
     "output_type": "stream",
     "text": [
      "epoch: 5, [batch: 3159 / 6317], examples_per_second: 2315.3275, train_label_loss: 0.0001, \n"
     ]
    },
    {
     "name": "stdout",
     "output_type": "stream",
     "text": [
      "epoch: 5, [batch: 3790 / 6317], examples_per_second: 2336.9353, train_label_loss: 0.0002, \n"
     ]
    },
    {
     "name": "stdout",
     "output_type": "stream",
     "text": [
      "epoch: 5, [batch: 4422 / 6317], examples_per_second: 2322.5645, train_label_loss: 0.0000, \n"
     ]
    },
    {
     "name": "stdout",
     "output_type": "stream",
     "text": [
      "epoch: 5, [batch: 5053 / 6317], examples_per_second: 2358.7726, train_label_loss: 0.0000, \n"
     ]
    },
    {
     "name": "stdout",
     "output_type": "stream",
     "text": [
      "epoch: 5, [batch: 5685 / 6317], examples_per_second: 2929.4012, train_label_loss: 0.0000, \n"
     ]
    },
    {
     "name": "stdout",
     "output_type": "stream",
     "text": [
      "=============================================================\n",
      "epoch: 5, source_val_acc_label: 0.9992, target_val_acc_label: 0.2325, source_val_label_loss: 0.0093, target_val_label_loss: 2.6821, \n",
      "=============================================================\n"
     ]
    },
    {
     "name": "stdout",
     "output_type": "stream",
     "text": [
      "epoch: 6, [batch: 1 / 6329], examples_per_second: 2.6080, train_label_loss: 0.0000, \n"
     ]
    },
    {
     "name": "stdout",
     "output_type": "stream",
     "text": [
      "epoch: 6, [batch: 633 / 6329], examples_per_second: 2298.1816, train_label_loss: 0.0000, \n"
     ]
    },
    {
     "name": "stdout",
     "output_type": "stream",
     "text": [
      "epoch: 6, [batch: 1266 / 6329], examples_per_second: 2318.4483, train_label_loss: 0.0000, \n"
     ]
    },
    {
     "name": "stdout",
     "output_type": "stream",
     "text": [
      "epoch: 6, [batch: 1899 / 6329], examples_per_second: 2292.8697, train_label_loss: 0.0000, \n"
     ]
    },
    {
     "name": "stdout",
     "output_type": "stream",
     "text": [
      "epoch: 6, [batch: 2532 / 6329], examples_per_second: 2324.4362, train_label_loss: 0.0000, \n"
     ]
    },
    {
     "name": "stdout",
     "output_type": "stream",
     "text": [
      "epoch: 6, [batch: 3165 / 6329], examples_per_second: 2307.8529, train_label_loss: 0.0000, \n"
     ]
    },
    {
     "name": "stdout",
     "output_type": "stream",
     "text": [
      "epoch: 6, [batch: 3797 / 6329], examples_per_second: 2312.3725, train_label_loss: 0.0000, \n"
     ]
    },
    {
     "name": "stdout",
     "output_type": "stream",
     "text": [
      "epoch: 6, [batch: 4430 / 6329], examples_per_second: 2325.1497, train_label_loss: 0.0000, \n"
     ]
    },
    {
     "name": "stdout",
     "output_type": "stream",
     "text": [
      "epoch: 6, [batch: 5063 / 6329], examples_per_second: 2315.9692, train_label_loss: 0.0000, \n"
     ]
    },
    {
     "name": "stdout",
     "output_type": "stream",
     "text": [
      "epoch: 6, [batch: 5696 / 6329], examples_per_second: 2344.6559, train_label_loss: 0.0000, \n"
     ]
    },
    {
     "name": "stdout",
     "output_type": "stream",
     "text": [
      "=============================================================\n",
      "epoch: 6, source_val_acc_label: 0.9995, target_val_acc_label: 0.2405, source_val_label_loss: 0.0091, target_val_label_loss: 3.2564, \n",
      "=============================================================\n"
     ]
    },
    {
     "name": "stdout",
     "output_type": "stream",
     "text": [
      "Patience (3) exhausted\n"
     ]
    }
   ],
   "source": [
    "###################################\n",
    "# train\n",
    "###################################\n",
    "jig = PTN_Train_Eval_Test_Jig(model, p.BEST_MODEL_PATH, p.device)\n",
    "\n",
    "jig.train(\n",
    "    train_iterable=datasets.source.processed.train,\n",
    "    source_val_iterable=datasets.source.processed.val,\n",
    "    target_val_iterable=datasets.target.processed.val,\n",
    "    num_epochs=p.n_epoch,\n",
    "    num_logs_per_epoch=p.NUM_LOGS_PER_EPOCH,\n",
    "    patience=p.patience,\n",
    "    optimizer=optimizer,\n",
    "    criteria_for_best=p.criteria_for_best,\n",
    ")"
   ]
  },
  {
   "cell_type": "code",
   "execution_count": 23,
   "id": "31e8fabf",
   "metadata": {
    "execution": {
     "iopub.execute_input": "2022-03-21T10:08:13.411261Z",
     "iopub.status.busy": "2022-03-21T10:08:13.410888Z",
     "iopub.status.idle": "2022-03-21T10:08:13.444304Z",
     "shell.execute_reply": "2022-03-21T10:08:13.443563Z"
    },
    "papermill": {
     "duration": 0.078492,
     "end_time": "2022-03-21T10:08:13.444473",
     "exception": false,
     "start_time": "2022-03-21T10:08:13.365981",
     "status": "completed"
    },
    "tags": []
   },
   "outputs": [],
   "source": [
    "total_experiment_time_secs = time.time() - start_time_secs"
   ]
  },
  {
   "cell_type": "code",
   "execution_count": 24,
   "id": "87b9595b",
   "metadata": {
    "execution": {
     "iopub.execute_input": "2022-03-21T10:08:13.545863Z",
     "iopub.status.busy": "2022-03-21T10:08:13.544994Z",
     "iopub.status.idle": "2022-03-21T10:12:51.694562Z",
     "shell.execute_reply": "2022-03-21T10:12:51.695236Z"
    },
    "papermill": {
     "duration": 278.202789,
     "end_time": "2022-03-21T10:12:51.695471",
     "exception": false,
     "start_time": "2022-03-21T10:08:13.492682",
     "status": "completed"
    },
    "tags": []
   },
   "outputs": [],
   "source": [
    "###################################\n",
    "# Evaluate the model\n",
    "###################################\n",
    "source_test_label_accuracy, source_test_label_loss = jig.test(datasets.source.processed.test)\n",
    "target_test_label_accuracy, target_test_label_loss = jig.test(datasets.target.processed.test)\n",
    "\n",
    "source_val_label_accuracy, source_val_label_loss = jig.test(datasets.source.processed.val)\n",
    "target_val_label_accuracy, target_val_label_loss = jig.test(datasets.target.processed.val)\n",
    "\n",
    "history = jig.get_history()\n",
    "\n",
    "total_epochs_trained = len(history[\"epoch_indices\"])\n",
    "\n",
    "val_dl = Iterable_Aggregator((datasets.source.original.val,datasets.target.original.val))\n",
    "\n",
    "confusion = ptn_confusion_by_domain_over_dataloader(model, p.device, val_dl)\n",
    "per_domain_accuracy = per_domain_accuracy_from_confusion(confusion)\n",
    "\n",
    "# Add a key to per_domain_accuracy for if it was a source domain\n",
    "for domain, accuracy in per_domain_accuracy.items():\n",
    "    per_domain_accuracy[domain] = {\n",
    "        \"accuracy\": accuracy,\n",
    "        \"source?\": domain in p.domains_source\n",
    "    }\n",
    "\n",
    "# Do an independent accuracy assesment JUST TO BE SURE!\n",
    "# _source_test_label_accuracy = independent_accuracy_assesment(model, datasets.source.processed.test, p.device)\n",
    "# _target_test_label_accuracy = independent_accuracy_assesment(model, datasets.target.processed.test, p.device)\n",
    "# _source_val_label_accuracy = independent_accuracy_assesment(model, datasets.source.processed.val, p.device)\n",
    "# _target_val_label_accuracy = independent_accuracy_assesment(model, datasets.target.processed.val, p.device)\n",
    "\n",
    "# assert(_source_test_label_accuracy == source_test_label_accuracy)\n",
    "# assert(_target_test_label_accuracy == target_test_label_accuracy)\n",
    "# assert(_source_val_label_accuracy == source_val_label_accuracy)\n",
    "# assert(_target_val_label_accuracy == target_val_label_accuracy)\n",
    "\n",
    "experiment = {\n",
    "    \"experiment_name\": p.experiment_name,\n",
    "    \"parameters\": dict(p),\n",
    "    \"results\": {\n",
    "        \"source_test_label_accuracy\": source_test_label_accuracy,\n",
    "        \"source_test_label_loss\": source_test_label_loss,\n",
    "        \"target_test_label_accuracy\": target_test_label_accuracy,\n",
    "        \"target_test_label_loss\": target_test_label_loss,\n",
    "        \"source_val_label_accuracy\": source_val_label_accuracy,\n",
    "        \"source_val_label_loss\": source_val_label_loss,\n",
    "        \"target_val_label_accuracy\": target_val_label_accuracy,\n",
    "        \"target_val_label_loss\": target_val_label_loss,\n",
    "        \"total_epochs_trained\": total_epochs_trained,\n",
    "        \"total_experiment_time_secs\": total_experiment_time_secs,\n",
    "        \"confusion\": confusion,\n",
    "        \"per_domain_accuracy\": per_domain_accuracy,\n",
    "    },\n",
    "    \"history\": history,\n",
    "    \"dataset_metrics\": get_dataset_metrics(datasets, \"ptn\"),\n",
    "}"
   ]
  },
  {
   "cell_type": "code",
   "execution_count": 25,
   "id": "54a21829",
   "metadata": {
    "execution": {
     "iopub.execute_input": "2022-03-21T10:12:51.789630Z",
     "iopub.status.busy": "2022-03-21T10:12:51.788821Z",
     "iopub.status.idle": "2022-03-21T10:12:52.005847Z",
     "shell.execute_reply": "2022-03-21T10:12:52.006530Z"
    },
    "papermill": {
     "duration": 0.263712,
     "end_time": "2022-03-21T10:12:52.006747",
     "exception": false,
     "start_time": "2022-03-21T10:12:51.743035",
     "status": "completed"
    },
    "tags": []
   },
   "outputs": [
    {
     "data": {
      "image/png": "[encoded data removed]",
      "text/plain": [
       "<Figure size 1080x504 with 1 Axes>"
      ]
     },
     "metadata": {
      "needs_background": "light"
     },
     "output_type": "display_data"
    }
   ],
   "source": [
    "ax = get_loss_curve(experiment)\n",
    "plt.show()"
   ]
  },
  {
   "cell_type": "code",
   "execution_count": 26,
   "id": "fd8a0f60",
   "metadata": {
    "execution": {
     "iopub.execute_input": "2022-03-21T10:12:52.100897Z",
     "iopub.status.busy": "2022-03-21T10:12:52.100517Z",
     "iopub.status.idle": "2022-03-21T10:12:52.477400Z",
     "shell.execute_reply": "2022-03-21T10:12:52.477717Z"
    },
    "papermill": {
     "duration": 0.424656,
     "end_time": "2022-03-21T10:12:52.477838",
     "exception": false,
     "start_time": "2022-03-21T10:12:52.053182",
     "status": "completed"
    },
    "tags": []
   },
   "outputs": [
    {
     "data": {
      "text/plain": [
       "<AxesSubplot:title={'center':'Results'}>"
      ]
     },
     "execution_count": 26,
     "metadata": {},
     "output_type": "execute_result"
    },
    {
     "data": {
      "image/png": "[encoded data removed]",
      "text/plain": [
       "<Figure size 1080x504 with 1 Axes>"
      ]
     },
     "metadata": {
      "needs_background": "light"
     },
     "output_type": "display_data"
    }
   ],
   "source": [
    "get_results_table(experiment)"
   ]
  },
  {
   "cell_type": "code",
   "execution_count": 27,
   "id": "cf8dc689",
   "metadata": {
    "execution": {
     "iopub.execute_input": "2022-03-21T10:12:52.570960Z",
     "iopub.status.busy": "2022-03-21T10:12:52.570587Z",
     "iopub.status.idle": "2022-03-21T10:12:52.831975Z",
     "shell.execute_reply": "2022-03-21T10:12:52.832291Z"
    },
    "papermill": {
     "duration": 0.310026,
     "end_time": "2022-03-21T10:12:52.832416",
     "exception": false,
     "start_time": "2022-03-21T10:12:52.522390",
     "status": "completed"
    },
    "tags": []
   },
   "outputs": [
    {
     "data": {
      "text/plain": [
       "<AxesSubplot:title={'center':'Per Domain Validation Accuracy'}, xlabel='domain'>"
      ]
     },
     "execution_count": 27,
     "metadata": {},
     "output_type": "execute_result"
    },
    {
     "data": {
      "image/png": "[encoded data removed]",
      "text/plain": [
       "<Figure size 1080x504 with 1 Axes>"
      ]
     },
     "metadata": {
      "needs_background": "light"
     },
     "output_type": "display_data"
    }
   ],
   "source": [
    "get_domain_accuracies(experiment)"
   ]
  },
  {
   "cell_type": "code",
   "execution_count": 28,
   "id": "a74ae082",
   "metadata": {
    "execution": {
     "iopub.execute_input": "2022-03-21T10:12:52.928805Z",
     "iopub.status.busy": "2022-03-21T10:12:52.928422Z",
     "iopub.status.idle": "2022-03-21T10:12:52.956260Z",
     "shell.execute_reply": "2022-03-21T10:12:52.956704Z"
    },
    "papermill": {
     "duration": 0.078568,
     "end_time": "2022-03-21T10:12:52.956869",
     "exception": false,
     "start_time": "2022-03-21T10:12:52.878301",
     "status": "completed"
    },
    "tags": []
   },
   "outputs": [
    {
     "name": "stdout",
     "output_type": "stream",
     "text": [
      "Source Test Label Accuracy: 0.9972704367301232 Target Test Label Accuracy: 0.24625651041666666\n",
      "Source Val Label Accuracy: 0.9964244851258581 Target Val Label Accuracy: 0.24514973958333333\n"
     ]
    }
   ],
   "source": [
    "print(\"Source Test Label Accuracy:\", experiment[\"results\"][\"source_test_label_accuracy\"], \"Target Test Label Accuracy:\", experiment[\"results\"][\"target_test_label_accuracy\"])\n",
    "print(\"Source Val Label Accuracy:\", experiment[\"results\"][\"source_val_label_accuracy\"], \"Target Val Label Accuracy:\", experiment[\"results\"][\"target_val_label_accuracy\"])"
   ]
  },
  {
   "cell_type": "code",
   "execution_count": 29,
   "id": "dacca602",
   "metadata": {
    "execution": {
     "iopub.execute_input": "2022-03-21T10:12:53.061932Z",
     "iopub.status.busy": "2022-03-21T10:12:53.061553Z",
     "iopub.status.idle": "2022-03-21T10:12:53.092505Z",
     "shell.execute_reply": "2022-03-21T10:12:53.093188Z"
    },
    "papermill": {
     "duration": 0.083473,
     "end_time": "2022-03-21T10:12:53.093409",
     "exception": false,
     "start_time": "2022-03-21T10:12:53.009936",
     "status": "completed"
    },
    "tags": [
     "experiment_json"
    ]
   },
   "outputs": [
    {
     "data": {
      "text/plain": [
       "'{\"experiment_name\": \"tl_1v2:cores-oracle.run1.framed\", \"parameters\": {\"experiment_name\": \"tl_1v2:cores-oracle.run1.framed\", \"device\": \"cuda\", \"lr\": 0.0001, \"n_shot\": 3, \"n_query\": 2, \"train_k_factor\": 3, \"val_k_factor\": 2, \"test_k_factor\": 2, \"torch_default_dtype\": \"torch.float32\", \"n_epoch\": 50, \"patience\": 3, \"criteria_for_best\": \"target_accuracy\", \"x_net\": [{\"class\": \"nnReshape\", \"kargs\": {\"shape\": [-1, 1, 2, 256]}}, {\"class\": \"Conv2d\", \"kargs\": {\"in_channels\": 1, \"out_channels\": 256, \"kernel_size\": [1, 7], \"bias\": false, \"padding\": [0, 3]}}, {\"class\": \"ReLU\", \"kargs\": {\"inplace\": true}}, {\"class\": \"BatchNorm2d\", \"kargs\": {\"num_features\": 256}}, {\"class\": \"Conv2d\", \"kargs\": {\"in_channels\": 256, \"out_channels\": 80, \"kernel_size\": [2, 7], \"bias\": true, \"padding\": [0, 3]}}, {\"class\": \"ReLU\", \"kargs\": {\"inplace\": true}}, {\"class\": \"BatchNorm2d\", \"kargs\": {\"num_features\": 80}}, {\"class\": \"Flatten\", \"kargs\": {}}, {\"class\": \"Linear\", \"kargs\": {\"in_features\": 20480, \"out_features\": 256}}, {\"class\": \"ReLU\", \"kargs\": {\"inplace\": true}}, {\"class\": \"BatchNorm1d\", \"kargs\": {\"num_features\": 256}}, {\"class\": \"Linear\", \"kargs\": {\"in_features\": 256, \"out_features\": 256}}], \"NUM_LOGS_PER_EPOCH\": 10, \"BEST_MODEL_PATH\": \"./best_model.pth\", \"n_way\": 16, \"datasets\": [{\"labels\": [\"1-10.\", \"1-11.\", \"1-15.\", \"1-16.\", \"1-17.\", \"1-18.\", \"1-19.\", \"10-4.\", \"10-7.\", \"11-1.\", \"11-14.\", \"11-17.\", \"11-20.\", \"11-7.\", \"13-20.\", \"13-8.\", \"14-10.\", \"14-11.\", \"14-14.\", \"14-7.\", \"15-1.\", \"15-20.\", \"16-1.\", \"16-16.\", \"17-10.\", \"17-11.\", \"17-2.\", \"19-1.\", \"19-16.\", \"19-19.\", \"19-20.\", \"19-3.\", \"2-10.\", \"2-11.\", \"2-17.\", \"2-18.\", \"2-20.\", \"2-3.\", \"2-4.\", \"2-5.\", \"2-6.\", \"2-7.\", \"2-8.\", \"3-13.\", \"3-18.\", \"3-3.\", \"4-1.\", \"4-10.\", \"4-11.\", \"4-19.\", \"5-5.\", \"6-15.\", \"7-10.\", \"7-14.\", \"8-18.\", \"8-20.\", \"8-3.\", \"8-8.\"], \"domains\": [1, 2, 3, 4, 5], \"num_examples_per_domain_per_label\": -1, \"pickle_path\": \"/root/csc500-main/datasets/cores.stratified_ds.2022A.pkl\", \"source_or_target_dataset\": \"source\", \"x_transforms\": [\"unit_mag\"], \"episode_transforms\": [], \"domain_prefix\": \"CORES_\"}, {\"labels\": [\"3123D52\", \"3123D65\", \"3123D79\", \"3123D80\", \"3123D54\", \"3123D70\", \"3123D7B\", \"3123D89\", \"3123D58\", \"3123D76\", \"3123D7D\", \"3123EFE\", \"3123D64\", \"3123D78\", \"3123D7E\", \"3124E4A\"], \"domains\": [32, 38, 8, 44, 14, 50, 20, 26], \"num_examples_per_domain_per_label\": 2000, \"pickle_path\": \"/root/csc500-main/datasets/oracle.Run1_framed_2000Examples_stratified_ds.2022A.pkl\", \"source_or_target_dataset\": \"target\", \"x_transforms\": [\"unit_mag\"], \"episode_transforms\": [], \"domain_prefix\": \"ORACLE.run1_\"}], \"dataset_seed\": 154325, \"seed\": 154325, \"x_shape\": [2, 256], \"domains_source\": [\"CORES_1\", \"CORES_2\", \"CORES_3\", \"CORES_4\", \"CORES_5\"], \"domains_target\": [\"ORACLE.run1_32\", \"ORACLE.run1_38\", \"ORACLE.run1_8\", \"ORACLE.run1_44\", \"ORACLE.run1_14\", \"ORACLE.run1_50\", \"ORACLE.run1_20\", \"ORACLE.run1_26\"]}, \"results\": {\"source_test_label_accuracy\": 0.9972704367301232, \"source_test_label_loss\": 0.014130008406937122, \"target_test_label_accuracy\": 0.24625651041666666, \"target_test_label_loss\": 2.3426637649536133, \"source_val_label_accuracy\": 0.9964244851258581, \"source_val_label_loss\": 0.023025711998343468, \"target_val_label_accuracy\": 0.24514973958333333, \"target_val_label_loss\": 2.3445398807525635, \"total_epochs_trained\": 6, \"total_experiment_time_secs\": 1452.8406207561493, \"confusion\": {\"CORES_2\": {\"21\": {\"21\": 118, \"53\": 2}, \"4\": {\"4\": 130}, \"6\": {\"6\": 124}, \"10\": {\"10\": 112}, \"33\": {\"33\": 28}, \"56\": {\"56\": 122}, \"20\": {\"20\": 128, \"36\": 3, \"51\": 1}, \"24\": {\"24\": 96}, \"45\": {\"45\": 128}, \"32\": {\"32\": 28}, \"27\": {\"27\": 148}, \"53\": {\"53\": 136}, \"8\": {\"8\": 160}, \"54\": {\"54\": 108}, \"50\": {\"50\": 134}, \"44\": {\"44\": 100}, \"5\": {\"5\": 120}, \"38\": {\"38\": 20}, \"19\": {\"19\": 132}, \"1\": {\"1\": 112}, \"30\": {\"30\": 144}, \"15\": {\"15\": 144}, \"23\": {\"23\": 146}, \"35\": {\"35\": 32}, \"22\": {\"22\": 128}, \"40\": {\"40\": 140}, \"46\": {\"46\": 126}, \"3\": {\"3\": 91, \"15\": 1}, \"48\": {\"48\": 148}, \"52\": {\"52\": 124}, \"2\": {\"2\": 32}, \"26\": {\"26\": 24}, \"17\": {\"17\": 104}, \"55\": {\"55\": 144}, \"51\": {\"51\": 116, \"20\": 4, \"50\": 1, \"36\": 1}, \"42\": {\"42\": 36}, \"41\": {\"41\": 20}, \"31\": {\"31\": 28}, \"16\": {\"16\": 138}, \"36\": {\"36\": 116}, \"49\": {\"49\": 24}, \"0\": {\"0\": 48}, \"18\": {\"18\": 47, \"30\": 1}, \"25\": {\"25\": 146}, \"9\": {\"9\": 122}, \"47\": {\"47\": 132}, \"7\": {\"7\": 36}, \"37\": {\"37\": 36}, \"13\": {\"13\": 113, \"24\": 3}, \"14\": {\"14\": 24}, \"34\": {\"34\": 28}, \"57\": {\"0\": 1, \"57\": 139}, \"11\": {\"11\": 138}, \"39\": {\"39\": 28}, \"12\": {\"12\": 92}, \"28\": {\"28\": 28}, \"29\": {\"29\": 128}, \"43\": {\"43\": 140}}, \"CORES_5\": {\"12\": {\"12\": 96}, \"8\": {\"8\": 142}, \"29\": {\"29\": 132}, \"57\": {\"57\": 126}, \"38\": {\"38\": 32}, \"23\": {\"23\": 124}, \"56\": {\"56\": 138}, \"49\": {\"49\": 36}, \"4\": {\"4\": 100}, \"48\": {\"48\": 136}, \"21\": {\"21\": 144}, \"30\": {\"30\": 128}, \"1\": {\"1\": 148}, \"34\": {\"34\": 36}, \"35\": {\"35\": 36}, \"55\": {\"55\": 152}, \"5\": {\"5\": 122}, \"52\": {\"52\": 126}, \"6\": {\"6\": 124, \"53\": 1, \"17\": 3}, \"36\": {\"36\": 92}, \"41\": {\"41\": 28}, \"3\": {\"3\": 100}, \"28\": {\"28\": 32}, \"18\": {\"18\": 64}, \"25\": {\"25\": 136}, \"47\": {\"47\": 100}, \"13\": {\"13\": 160}, \"11\": {\"11\": 144}, \"53\": {\"53\": 138, \"6\": 4, \"17\": 2}, \"33\": {\"33\": 32}, \"46\": {\"46\": 148}, \"50\": {\"50\": 148}, \"10\": {\"10\": 68}, \"15\": {\"15\": 138}, \"44\": {\"44\": 140}, \"2\": {\"2\": 28}, \"7\": {\"7\": 32}, \"43\": {\"43\": 138}, \"32\": {\"32\": 32}, \"0\": {\"0\": 124}, \"39\": {\"39\": 20}, \"26\": {\"26\": 24}, \"27\": {\"27\": 112}, \"54\": {\"54\": 112}, \"17\": {\"17\": 116}, \"14\": {\"14\": 43, \"5\": 1}, \"16\": {\"16\": 148}, \"9\": {\"9\": 145, \"17\": 2, \"6\": 1}, \"19\": {\"19\": 152}, \"20\": {\"20\": 138}, \"37\": {\"37\": 24}, \"24\": {\"24\": 80}, \"40\": {\"40\": 121, \"28\": 1}, \"45\": {\"45\": 122, \"53\": 1, \"17\": 1}, \"22\": {\"22\": 28}, \"42\": {\"42\": 38, \"56\": 2}, \"51\": {\"51\": 118}, \"31\": {\"31\": 36}}, \"CORES_1\": {\"27\": {\"27\": 142}, \"2\": {\"2\": 36}, \"33\": {\"33\": 32}, \"45\": {\"45\": 156}, \"38\": {\"38\": 24}, \"4\": {\"4\": 132}, \"31\": {\"31\": 28}, \"55\": {\"55\": 140}, \"32\": {\"32\": 31, \"44\": 1}, \"57\": {\"57\": 139, \"1\": 1}, \"14\": {\"14\": 23, \"30\": 1}, \"16\": {\"16\": 140}, \"34\": {\"34\": 24}, \"56\": {\"56\": 126}, \"24\": {\"24\": 98, \"22\": 10}, \"30\": {\"30\": 112}, \"17\": {\"17\": 64}, \"13\": {\"13\": 138}, \"39\": {\"39\": 27, \"10\": 1}, \"50\": {\"50\": 146}, \"20\": {\"20\": 140}, \"41\": {\"41\": 24}, \"53\": {\"53\": 119, \"9\": 7}, \"48\": {\"48\": 142}, \"36\": {\"36\": 64}, \"8\": {\"8\": 140}, \"15\": {\"15\": 131, \"11\": 1}, \"40\": {\"40\": 156}, \"37\": {\"37\": 32}, \"21\": {\"21\": 120}, \"35\": {\"35\": 36}, \"49\": {\"49\": 32}, \"26\": {\"26\": 24}, \"28\": {\"28\": 27, \"10\": 1}, \"12\": {\"12\": 116}, \"5\": {\"5\": 152}, \"29\": {\"29\": 140}, \"47\": {\"47\": 140}, \"10\": {\"10\": 94, \"39\": 2}, \"18\": {\"18\": 71, \"50\": 1}, \"9\": {\"9\": 126}, \"3\": {\"3\": 137, \"23\": 1, \"55\": 2}, \"52\": {\"52\": 132}, \"25\": {\"25\": 136}, \"19\": {\"19\": 156}, \"11\": {\"11\": 136}, \"7\": {\"7\": 28}, \"23\": {\"23\": 136}, \"44\": {\"44\": 132}, \"42\": {\"42\": 40}, \"54\": {\"54\": 104}, \"1\": {\"1\": 97, \"57\": 3}, \"46\": {\"46\": 128}, \"6\": {\"6\": 96}, \"43\": {\"43\": 144}, \"51\": {\"51\": 142}, \"22\": {\"22\": 135, \"24\": 1}, \"0\": {\"0\": 128}}, \"CORES_4\": {\"32\": {\"32\": 24}, \"2\": {\"2\": 36}, \"41\": {\"41\": 36}, \"11\": {\"11\": 99, \"15\": 3}, \"57\": {\"57\": 100}, \"6\": {\"6\": 111, \"3\": 1}, \"23\": {\"23\": 136}, \"52\": {\"52\": 116}, \"38\": {\"38\": 40}, \"50\": {\"50\": 132}, \"55\": {\"55\": 152}, \"46\": {\"32\": 3, \"46\": 149, \"0\": 1, \"11\": 1}, \"37\": {\"37\": 24}, \"20\": {\"20\": 118}, \"49\": {\"49\": 20}, \"45\": {\"45\": 96}, \"54\": {\"54\": 108}, \"3\": {\"3\": 122, \"50\": 2}, \"13\": {\"13\": 152}, \"18\": {\"18\": 108}, \"21\": {\"21\": 124, \"50\": 2}, \"43\": {\"43\": 144}, \"47\": {\"47\": 120}, \"4\": {\"4\": 132}, \"12\": {\"12\": 92}, \"9\": {\"9\": 128}, \"7\": {\"7\": 24}, \"56\": {\"56\": 112}, \"28\": {\"28\": 32}, \"44\": {\"44\": 132}, \"24\": {\"24\": 56}, \"33\": {\"33\": 36}, \"35\": {\"35\": 40}, \"51\": {\"51\": 136, \"21\": 1, \"30\": 1}, \"39\": {\"39\": 20}, \"36\": {\"36\": 92}, \"19\": {\"19\": 140}, \"0\": {\"0\": 79, \"46\": 1}, \"15\": {\"15\": 136}, \"29\": {\"29\": 124}, \"30\": {\"30\": 44}, \"1\": {\"1\": 40}, \"22\": {\"22\": 128}, \"40\": {\"40\": 146}, \"8\": {\"8\": 128}, \"53\": {\"53\": 137, \"50\": 1}, \"34\": {\"34\": 24}, \"10\": {\"10\": 122}, \"31\": {\"31\": 28}, \"17\": {\"17\": 80}, \"16\": {\"16\": 96}, \"42\": {\"42\": 32}, \"27\": {\"27\": 142}, \"14\": {\"14\": 16}, \"25\": {\"25\": 122}, \"48\": {\"48\": 132}, \"26\": {\"26\": 24}, \"5\": {\"5\": 108}}, \"CORES_3\": {\"14\": {\"14\": 39, \"55\": 1}, \"18\": {\"18\": 84}, \"30\": {\"30\": 120}, \"16\": {\"16\": 156}, \"1\": {\"1\": 100}, \"20\": {\"20\": 132}, \"7\": {\"7\": 36}, \"52\": {\"52\": 130}, \"9\": {\"9\": 140}, \"23\": {\"23\": 144}, \"55\": {\"55\": 164}, \"29\": {\"29\": 126}, \"56\": {\"56\": 134}, \"3\": {\"3\": 124}, \"42\": {\"42\": 28}, \"6\": {\"6\": 87, \"50\": 1}, \"5\": {\"5\": 115, \"3\": 1}, \"27\": {\"27\": 144}, \"47\": {\"47\": 92}, \"39\": {\"39\": 16}, \"34\": {\"34\": 32}, \"4\": {\"4\": 126}, \"24\": {\"24\": 103, \"13\": 1}, \"46\": {\"46\": 118}, \"50\": {\"50\": 125, \"53\": 1}, \"38\": {\"38\": 28}, \"54\": {\"54\": 100}, \"35\": {\"35\": 28}, \"2\": {\"2\": 32}, \"41\": {\"41\": 28}, \"57\": {\"57\": 117, \"0\": 1}, \"25\": {\"25\": 150}, \"48\": {\"48\": 116}, \"33\": {\"33\": 28}, \"45\": {\"45\": 60}, \"13\": {\"13\": 126}, \"36\": {\"36\": 100}, \"43\": {\"43\": 132}, \"28\": {\"28\": 28}, \"0\": {\"0\": 124}, \"12\": {\"12\": 91, \"46\": 1}, \"31\": {\"31\": 28}, \"40\": {\"40\": 116}, \"44\": {\"44\": 87, \"40\": 1}, \"32\": {\"32\": 28}, \"26\": {\"26\": 24}, \"8\": {\"8\": 116}, \"10\": {\"10\": 64}, \"15\": {\"15\": 142}, \"21\": {\"21\": 126, \"53\": 2}, \"37\": {\"37\": 28}, \"17\": {\"17\": 108}, \"51\": {\"51\": 123, \"36\": 1}, \"53\": {\"53\": 142, \"50\": 2}, \"19\": {\"19\": 136}, \"49\": {\"49\": 20}, \"11\": {\"11\": 138}, \"22\": {\"22\": 130}}, \"ORACLE.run1_8\": {\"13\": {\"15\": 6, \"7\": 20, \"4\": 32, \"0\": 26, \"14\": 26, \"1\": 14, \"10\": 24, \"6\": 19, \"3\": 6, \"8\": 9, \"11\": 12, \"5\": 25, \"2\": 7, \"13\": 12, \"12\": 2}, \"9\": {\"9\": 217, \"14\": 1, \"5\": 10, \"10\": 9, \"6\": 1, \"13\": 2}, \"15\": {\"3\": 41, \"15\": 37, \"8\": 41, \"2\": 19, \"6\": 11, \"1\": 8, \"12\": 38, \"11\": 9, \"13\": 10, \"4\": 10, \"0\": 2, \"7\": 11, \"14\": 2, \"10\": 1}, \"2\": {\"8\": 12, \"2\": 56, \"3\": 50, \"6\": 11, \"4\": 14, \"7\": 25, \"12\": 22, \"0\": 17, \"13\": 5, \"14\": 9, \"15\": 12, \"10\": 2, \"1\": 2, \"11\": 2, \"5\": 1}, \"3\": {\"12\": 41, \"2\": 49, \"6\": 14, \"3\": 45, \"7\": 14, \"15\": 33, \"8\": 19, \"13\": 10, \"11\": 1, \"0\": 4, \"4\": 4, \"1\": 3, \"10\": 3}, \"8\": {\"12\": 30, \"3\": 20, \"6\": 11, \"8\": 42, \"13\": 8, \"7\": 15, \"4\": 10, \"1\": 21, \"2\": 10, \"15\": 35, \"0\": 2, \"11\": 21, \"10\": 6, \"14\": 7, \"5\": 2}, \"5\": {\"5\": 49, \"14\": 20, \"1\": 25, \"4\": 15, \"11\": 22, \"6\": 10, \"0\": 16, \"10\": 45, \"13\": 15, \"8\": 5, \"7\": 5, \"9\": 10, \"12\": 1, \"2\": 1, \"15\": 1}, \"14\": {\"0\": 21, \"5\": 36, \"6\": 23, \"10\": 26, \"11\": 23, \"1\": 16, \"4\": 14, \"8\": 6, \"13\": 17, \"7\": 20, \"14\": 18, \"3\": 8, \"15\": 4, \"2\": 7, \"12\": 1}, \"1\": {\"1\": 43, \"15\": 11, \"5\": 27, \"11\": 42, \"0\": 10, \"6\": 12, \"10\": 23, \"4\": 23, \"3\": 2, \"7\": 4, \"14\": 17, \"13\": 15, \"8\": 9, \"12\": 2}, \"0\": {\"7\": 30, \"4\": 27, \"13\": 27, \"0\": 45, \"1\": 6, \"8\": 6, \"5\": 12, \"6\": 15, \"3\": 8, \"11\": 10, \"10\": 14, \"14\": 25, \"2\": 12, \"15\": 3}, \"10\": {\"6\": 11, \"7\": 19, \"3\": 4, \"1\": 16, \"13\": 18, \"10\": 39, \"0\": 29, \"5\": 30, \"4\": 26, \"11\": 14, \"14\": 25, \"9\": 1, \"2\": 3, \"15\": 1, \"8\": 4}, \"6\": {\"13\": 21, \"8\": 14, \"14\": 13, \"7\": 30, \"1\": 21, \"3\": 11, \"5\": 7, \"0\": 21, \"10\": 13, \"6\": 32, \"2\": 12, \"4\": 20, \"15\": 8, \"11\": 13, \"12\": 4}, \"11\": {\"1\": 33, \"0\": 14, \"11\": 42, \"5\": 34, \"6\": 18, \"4\": 13, \"7\": 12, \"10\": 15, \"13\": 14, \"8\": 18, \"3\": 2, \"14\": 14, \"15\": 4, \"12\": 5, \"2\": 2}, \"7\": {\"8\": 8, \"15\": 15, \"4\": 20, \"0\": 17, \"2\": 29, \"7\": 33, \"14\": 17, \"11\": 10, \"1\": 3, \"6\": 22, \"10\": 16, \"13\": 17, \"3\": 19, \"12\": 6, \"5\": 8}, \"4\": {\"7\": 28, \"3\": 8, \"8\": 12, \"13\": 23, \"6\": 22, \"5\": 19, \"10\": 22, \"15\": 5, \"14\": 15, \"11\": 21, \"4\": 17, \"1\": 20, \"2\": 10, \"0\": 18}, \"12\": {\"15\": 45, \"8\": 36, \"2\": 19, \"12\": 64, \"7\": 9, \"3\": 40, \"1\": 5, \"6\": 9, \"14\": 2, \"11\": 5, \"5\": 1, \"13\": 2, \"4\": 2, \"10\": 1}}, \"ORACLE.run1_38\": {\"13\": {\"15\": 34, \"10\": 21, \"2\": 45, \"13\": 58, \"9\": 3, \"0\": 6, \"1\": 39, \"5\": 12, \"8\": 7, \"14\": 10, \"6\": 1, \"7\": 1, \"11\": 3}, \"12\": {\"13\": 1, \"4\": 63, \"14\": 18, \"12\": 115, \"7\": 7, \"10\": 15, \"0\": 5, \"8\": 3, \"5\": 2, \"11\": 10, \"2\": 1}, \"2\": {\"2\": 104, \"13\": 32, \"10\": 27, \"11\": 9, \"14\": 32, \"1\": 10, \"15\": 17, \"8\": 5, \"5\": 2, \"0\": 2}, \"9\": {\"6\": 66, \"8\": 11, \"9\": 59, \"3\": 39, \"7\": 9, \"5\": 24, \"0\": 9, \"1\": 17, \"10\": 1, \"13\": 3, \"15\": 2}, \"15\": {\"15\": 47, \"10\": 22, \"5\": 10, \"1\": 50, \"2\": 25, \"4\": 2, \"8\": 23, \"13\": 27, \"9\": 5, \"6\": 6, \"0\": 7, \"14\": 7, \"7\": 6, \"11\": 3}, \"5\": {\"0\": 31, \"15\": 12, \"7\": 38, \"6\": 26, \"8\": 34, \"13\": 10, \"5\": 27, \"10\": 22, \"9\": 8, \"1\": 22, \"2\": 3, \"3\": 5, \"12\": 2}, \"14\": {\"14\": 95, \"11\": 42, \"15\": 5, \"4\": 5, \"2\": 41, \"13\": 9, \"12\": 19, \"10\": 17, \"8\": 5, \"0\": 1, \"5\": 1}, \"0\": {\"8\": 34, \"5\": 27, \"7\": 44, \"6\": 15, \"4\": 4, \"0\": 35, \"3\": 21, \"10\": 14, \"14\": 5, \"9\": 11, \"12\": 12, \"15\": 6, \"1\": 9, \"13\": 2, \"2\": 1}, \"3\": {\"9\": 49, \"3\": 116, \"8\": 5, \"0\": 18, \"7\": 17, \"6\": 21, \"1\": 4, \"5\": 7, \"10\": 2, \"13\": 1}, \"1\": {\"1\": 75, \"8\": 24, \"13\": 30, \"7\": 3, \"9\": 15, \"0\": 8, \"15\": 40, \"10\": 7, \"2\": 8, \"6\": 18, \"5\": 12}, \"11\": {\"2\": 26, \"4\": 12, \"14\": 57, \"11\": 97, \"10\": 18, \"15\": 6, \"12\": 13, \"13\": 9, \"8\": 1, \"1\": 1}, \"7\": {\"0\": 38, \"7\": 55, \"1\": 7, \"9\": 7, \"4\": 13, \"5\": 36, \"12\": 17, \"10\": 9, \"3\": 11, \"8\": 25, \"15\": 9, \"6\": 13}, \"8\": {\"0\": 28, \"10\": 19, \"8\": 34, \"6\": 12, \"1\": 22, \"7\": 33, \"15\": 23, \"13\": 10, \"5\": 30, \"12\": 11, \"14\": 6, \"2\": 5, \"3\": 3, \"9\": 3, \"11\": 1}, \"4\": {\"4\": 148, \"12\": 65, \"0\": 3, \"10\": 4, \"7\": 6, \"14\": 6, \"8\": 3, \"11\": 5}, \"10\": {\"13\": 13, \"8\": 34, \"7\": 20, \"2\": 13, \"12\": 15, \"4\": 12, \"5\": 14, \"11\": 18, \"10\": 51, \"14\": 19, \"0\": 11, \"15\": 15, \"1\": 4, \"6\": 1}, \"6\": {\"1\": 25, \"8\": 10, \"5\": 25, \"7\": 17, \"6\": 57, \"0\": 28, \"9\": 52, \"3\": 14, \"13\": 3, \"10\": 3, \"15\": 6}}, \"ORACLE.run1_26\": {\"10\": {\"4\": 17, \"2\": 12, \"6\": 24, \"9\": 6, \"10\": 36, \"1\": 26, \"12\": 13, \"14\": 22, \"3\": 13, \"0\": 19, \"5\": 3, \"7\": 21, \"8\": 17, \"15\": 7, \"13\": 4}, \"12\": {\"12\": 131, \"6\": 19, \"10\": 8, \"9\": 11, \"4\": 5, \"5\": 10, \"13\": 10, \"0\": 6, \"15\": 5, \"11\": 29, \"1\": 4, \"2\": 1, \"8\": 1}, \"1\": {\"6\": 14, \"5\": 13, \"10\": 33, \"0\": 27, \"8\": 19, \"1\": 20, \"2\": 14, \"14\": 21, \"7\": 22, \"4\": 16, \"9\": 9, \"15\": 15, \"3\": 13, \"13\": 1, \"12\": 3}, \"0\": {\"6\": 20, \"10\": 23, \"3\": 12, \"15\": 15, \"2\": 15, \"1\": 30, \"14\": 25, \"12\": 6, \"0\": 32, \"8\": 15, \"13\": 6, \"7\": 15, \"5\": 4, \"4\": 19, \"9\": 3}, \"15\": {\"8\": 20, \"13\": 23, \"15\": 18, \"7\": 14, \"2\": 16, \"10\": 19, \"3\": 15, \"6\": 16, \"1\": 18, \"9\": 18, \"0\": 17, \"5\": 22, \"4\": 11, \"14\": 8, \"12\": 5}, \"13\": {\"6\": 17, \"11\": 12, \"1\": 9, \"9\": 28, \"13\": 50, \"5\": 40, \"2\": 12, \"12\": 16, \"3\": 10, \"0\": 3, \"14\": 4, \"7\": 4, \"15\": 14, \"4\": 6, \"8\": 9, \"10\": 6}, \"8\": {\"2\": 13, \"14\": 22, \"6\": 19, \"1\": 18, \"10\": 21, \"13\": 6, \"15\": 22, \"4\": 16, \"0\": 23, \"3\": 16, \"8\": 15, \"7\": 23, \"5\": 15, \"12\": 4, \"9\": 7}, \"3\": {\"4\": 10, \"2\": 34, \"15\": 24, \"1\": 18, \"7\": 22, \"9\": 12, \"0\": 13, \"10\": 12, \"3\": 33, \"6\": 18, \"8\": 11, \"14\": 9, \"5\": 15, \"13\": 9}, \"11\": {\"11\": 142, \"12\": 65, \"3\": 1, \"9\": 1, \"6\": 5, \"15\": 2, \"13\": 14, \"5\": 8, \"14\": 1, \"0\": 1}, \"4\": {\"14\": 29, \"2\": 15, \"10\": 21, \"4\": 21, \"13\": 3, \"3\": 17, \"15\": 9, \"6\": 16, \"0\": 22, \"8\": 25, \"9\": 11, \"1\": 25, \"7\": 22, \"5\": 3, \"12\": 1}, \"6\": {\"12\": 22, \"8\": 12, \"5\": 14, \"6\": 21, \"9\": 18, \"2\": 12, \"0\": 25, \"13\": 21, \"15\": 22, \"1\": 14, \"7\": 9, \"3\": 4, \"10\": 16, \"4\": 17, \"14\": 9, \"11\": 4}, \"7\": {\"6\": 15, \"8\": 20, \"15\": 18, \"2\": 17, \"3\": 24, \"4\": 15, \"14\": 13, \"13\": 12, \"7\": 27, \"0\": 16, \"5\": 14, \"1\": 22, \"10\": 24, \"12\": 1, \"9\": 2}, \"14\": {\"1\": 26, \"8\": 18, \"14\": 33, \"10\": 25, \"2\": 10, \"3\": 17, \"7\": 18, \"15\": 12, \"6\": 16, \"4\": 26, \"5\": 6, \"0\": 26, \"12\": 4, \"13\": 2, \"9\": 1}, \"2\": {\"3\": 37, \"15\": 21, \"10\": 17, \"1\": 15, \"2\": 22, \"9\": 10, \"6\": 13, \"12\": 1, \"4\": 13, \"7\": 23, \"13\": 11, \"14\": 10, \"5\": 21, \"8\": 12, \"0\": 14}, \"5\": {\"15\": 22, \"1\": 14, \"5\": 28, \"13\": 46, \"9\": 23, \"2\": 22, \"7\": 8, \"6\": 20, \"12\": 16, \"3\": 13, \"0\": 2, \"8\": 6, \"11\": 4, \"10\": 6, \"4\": 3, \"14\": 7}, \"9\": {\"0\": 5, \"12\": 10, \"6\": 28, \"7\": 10, \"13\": 26, \"10\": 8, \"5\": 16, \"9\": 42, \"3\": 15, \"1\": 18, \"8\": 12, \"14\": 8, \"15\": 26, \"4\": 4, \"2\": 10, \"11\": 2}}, \"ORACLE.run1_20\": {\"5\": {\"4\": 11, \"12\": 18, \"10\": 12, \"13\": 18, \"0\": 27, \"1\": 24, \"5\": 16, \"7\": 9, \"15\": 17, \"3\": 20, \"8\": 7, \"14\": 9, \"2\": 21, \"9\": 22, \"6\": 8, \"11\": 1}, \"15\": {\"15\": 30, \"2\": 14, \"0\": 20, \"1\": 22, \"5\": 30, \"12\": 23, \"7\": 13, \"9\": 22, \"6\": 1, \"11\": 6, \"13\": 20, \"3\": 15, \"4\": 15, \"8\": 4, \"14\": 3, \"10\": 2}, \"9\": {\"9\": 27, \"15\": 20, \"4\": 10, \"6\": 7, \"0\": 18, \"11\": 18, \"12\": 19, \"7\": 20, \"1\": 24, \"2\": 23, \"3\": 15, \"5\": 13, \"8\": 10, \"14\": 2, \"13\": 13, \"10\": 1}, \"7\": {\"14\": 15, \"6\": 23, \"2\": 14, \"5\": 18, \"1\": 13, \"11\": 19, \"3\": 18, \"12\": 13, \"7\": 19, \"0\": 11, \"13\": 13, \"4\": 17, \"8\": 17, \"10\": 8, \"15\": 12, \"9\": 10}, \"3\": {\"4\": 15, \"5\": 22, \"1\": 20, \"6\": 10, \"9\": 9, \"13\": 20, \"3\": 10, \"11\": 10, \"7\": 17, \"2\": 20, \"10\": 12, \"0\": 14, \"8\": 13, \"12\": 28, \"15\": 14, \"14\": 6}, \"8\": {\"12\": 9, \"14\": 28, \"6\": 28, \"8\": 20, \"7\": 21, \"4\": 29, \"10\": 28, \"11\": 8, \"9\": 6, \"1\": 7, \"3\": 13, \"5\": 10, \"2\": 12, \"0\": 11, \"13\": 9, \"15\": 1}, \"4\": {\"4\": 21, \"8\": 26, \"13\": 10, \"5\": 19, \"15\": 5, \"7\": 18, \"3\": 23, \"2\": 16, \"0\": 9, \"10\": 21, \"14\": 23, \"9\": 10, \"12\": 16, \"1\": 7, \"6\": 12, \"11\": 4}, \"6\": {\"1\": 5, \"10\": 21, \"11\": 18, \"4\": 16, \"6\": 50, \"8\": 25, \"14\": 35, \"7\": 25, \"3\": 12, \"5\": 5, \"12\": 6, \"0\": 4, \"2\": 8, \"9\": 5, \"13\": 4, \"15\": 1}, \"2\": {\"6\": 9, \"13\": 15, \"5\": 22, \"1\": 21, \"3\": 15, \"2\": 16, \"9\": 25, \"7\": 19, \"10\": 5, \"15\": 14, \"0\": 10, \"11\": 24, \"8\": 13, \"12\": 12, \"4\": 18, \"14\": 2}, \"12\": {\"7\": 19, \"0\": 20, \"15\": 23, \"12\": 17, \"2\": 17, \"9\": 18, \"1\": 16, \"10\": 5, \"13\": 21, \"11\": 7, \"5\": 28, \"4\": 13, \"8\": 10, \"14\": 5, \"3\": 15, \"6\": 6}, \"0\": {\"4\": 13, \"15\": 12, \"7\": 15, \"9\": 16, \"13\": 18, \"5\": 26, \"11\": 9, \"1\": 32, \"8\": 10, \"6\": 3, \"12\": 24, \"0\": 24, \"2\": 15, \"3\": 16, \"10\": 6, \"14\": 1}, \"13\": {\"12\": 19, \"15\": 17, \"8\": 9, \"5\": 23, \"0\": 19, \"2\": 16, \"13\": 30, \"1\": 23, \"6\": 8, \"14\": 5, \"9\": 21, \"11\": 14, \"7\": 10, \"3\": 12, \"4\": 8, \"10\": 6}, \"10\": {\"10\": 38, \"4\": 19, \"11\": 2, \"9\": 8, \"14\": 34, \"7\": 19, \"6\": 31, \"13\": 9, \"8\": 29, \"3\": 12, \"5\": 14, \"12\": 5, \"1\": 3, \"0\": 8, \"2\": 6, \"15\": 3}, \"11\": {\"7\": 17, \"6\": 25, \"8\": 11, \"11\": 87, \"14\": 4, \"12\": 7, \"9\": 13, \"1\": 8, \"0\": 10, \"4\": 6, \"3\": 6, \"13\": 19, \"2\": 15, \"15\": 6, \"5\": 5, \"10\": 1}, \"14\": {\"6\": 44, \"14\": 47, \"8\": 34, \"13\": 3, \"7\": 15, \"10\": 31, \"4\": 23, \"11\": 9, \"0\": 5, \"2\": 9, \"3\": 4, \"5\": 6, \"1\": 5, \"12\": 2, \"9\": 2, \"15\": 1}, \"1\": {\"9\": 28, \"7\": 12, \"5\": 22, \"0\": 28, \"11\": 6, \"15\": 24, \"1\": 30, \"3\": 21, \"2\": 18, \"4\": 12, \"13\": 15, \"14\": 1, \"12\": 16, \"8\": 2, \"10\": 5}}, \"ORACLE.run1_50\": {\"1\": {\"4\": 31, \"11\": 25, \"6\": 28, \"15\": 31, \"14\": 19, \"2\": 8, \"0\": 11, \"13\": 14, \"1\": 31, \"9\": 8, \"5\": 16, \"10\": 3, \"12\": 10, \"7\": 5}, \"2\": {\"2\": 98, \"0\": 46, \"6\": 8, \"1\": 8, \"5\": 9, \"4\": 5, \"13\": 10, \"7\": 6, \"14\": 18, \"10\": 18, \"12\": 2, \"8\": 8, \"15\": 1, \"9\": 1, \"11\": 2}, \"8\": {\"8\": 91, \"3\": 57, \"2\": 9, \"10\": 38, \"7\": 12, \"5\": 6, \"4\": 1, \"0\": 22, \"13\": 4}, \"7\": {\"2\": 6, \"15\": 5, \"1\": 9, \"7\": 44, \"5\": 47, \"13\": 36, \"8\": 10, \"4\": 15, \"0\": 13, \"10\": 37, \"6\": 11, \"3\": 6, \"14\": 1}, \"14\": {\"14\": 51, \"12\": 35, \"2\": 23, \"11\": 34, \"1\": 22, \"0\": 7, \"4\": 11, \"15\": 18, \"6\": 10, \"9\": 24, \"5\": 3, \"13\": 2}, \"6\": {\"1\": 36, \"13\": 29, \"15\": 35, \"4\": 26, \"5\": 27, \"0\": 9, \"6\": 34, \"14\": 8, \"7\": 13, \"2\": 10, \"10\": 8, \"11\": 3, \"12\": 2}, \"3\": {\"3\": 159, \"10\": 10, \"8\": 59, \"7\": 8, \"5\": 1, \"0\": 2, \"13\": 1}, \"4\": {\"1\": 39, \"13\": 22, \"6\": 30, \"0\": 5, \"4\": 36, \"12\": 3, \"5\": 25, \"2\": 6, \"11\": 10, \"9\": 3, \"15\": 29, \"10\": 7, \"7\": 16, \"14\": 9}, \"12\": {\"12\": 79, \"11\": 33, \"14\": 44, \"9\": 62, \"0\": 1, \"1\": 8, \"15\": 4, \"2\": 6, \"6\": 2, \"5\": 1}, \"15\": {\"4\": 35, \"13\": 8, \"11\": 39, \"9\": 17, \"15\": 45, \"1\": 35, \"6\": 21, \"5\": 19, \"14\": 9, \"7\": 6, \"2\": 3, \"0\": 2, \"10\": 1}, \"11\": {\"1\": 13, \"9\": 61, \"11\": 60, \"14\": 31, \"6\": 4, \"15\": 28, \"4\": 14, \"12\": 22, \"13\": 3, \"2\": 1, \"0\": 2, \"5\": 1}, \"0\": {\"10\": 48, \"0\": 63, \"3\": 3, \"2\": 40, \"5\": 19, \"7\": 14, \"4\": 4, \"8\": 11, \"13\": 20, \"6\": 6, \"1\": 10, \"14\": 1, \"15\": 1}, \"9\": {\"12\": 55, \"11\": 59, \"9\": 74, \"14\": 29, \"15\": 16, \"4\": 2, \"1\": 4, \"6\": 1}, \"10\": {\"10\": 49, \"0\": 50, \"5\": 24, \"13\": 22, \"2\": 16, \"7\": 19, \"8\": 39, \"1\": 3, \"6\": 8, \"3\": 3, \"4\": 5, \"15\": 2}, \"5\": {\"13\": 33, \"5\": 36, \"1\": 22, \"11\": 3, \"10\": 10, \"6\": 22, \"7\": 42, \"2\": 9, \"15\": 14, \"0\": 10, \"12\": 1, \"4\": 25, \"14\": 7, \"8\": 5, \"3\": 1}, \"13\": {\"6\": 20, \"13\": 37, \"4\": 22, \"10\": 24, \"1\": 19, \"2\": 7, \"0\": 11, \"5\": 34, \"7\": 46, \"15\": 11, \"8\": 5, \"11\": 3, \"14\": 1}}, \"ORACLE.run1_32\": {\"2\": {\"14\": 17, \"4\": 32, \"0\": 34, \"2\": 59, \"8\": 13, \"5\": 13, \"9\": 18, \"7\": 35, \"13\": 5, \"11\": 11, \"15\": 2, \"3\": 1}, \"6\": {\"1\": 6, \"6\": 192, \"10\": 33, \"12\": 7, \"9\": 2}, \"5\": {\"15\": 10, \"11\": 19, \"13\": 21, \"4\": 25, \"14\": 28, \"5\": 24, \"7\": 30, \"0\": 19, \"8\": 19, \"9\": 3, \"3\": 22, \"2\": 20}, \"12\": {\"12\": 154, \"9\": 52, \"10\": 9, \"6\": 25}, \"13\": {\"2\": 14, \"7\": 18, \"13\": 47, \"11\": 17, \"0\": 11, \"15\": 16, \"8\": 22, \"9\": 1, \"5\": 27, \"14\": 16, \"3\": 35, \"4\": 16}, \"9\": {\"9\": 162, \"12\": 50, \"0\": 9, \"5\": 1, \"2\": 11, \"6\": 2, \"4\": 2, \"8\": 2, \"7\": 1}, \"11\": {\"4\": 12, \"11\": 65, \"7\": 18, \"8\": 14, \"14\": 62, \"5\": 20, \"3\": 17, \"13\": 13, \"2\": 12, \"0\": 7}, \"1\": {\"1\": 189, \"10\": 41, \"6\": 9, \"12\": 1}, \"3\": {\"3\": 94, \"15\": 36, \"11\": 21, \"8\": 20, \"4\": 6, \"5\": 21, \"13\": 26, \"14\": 8, \"7\": 6, \"2\": 2}, \"7\": {\"7\": 33, \"2\": 25, \"4\": 21, \"5\": 31, \"11\": 35, \"8\": 21, \"15\": 1, \"14\": 28, \"0\": 19, \"13\": 13, \"3\": 10, \"9\": 3}, \"14\": {\"14\": 51, \"11\": 48, \"0\": 14, \"8\": 14, \"7\": 25, \"5\": 14, \"13\": 13, \"4\": 22, \"15\": 1, \"2\": 20, \"3\": 14, \"9\": 4}, \"8\": {\"4\": 23, \"15\": 19, \"0\": 21, \"11\": 15, \"13\": 28, \"8\": 37, \"3\": 19, \"5\": 26, \"14\": 17, \"9\": 4, \"7\": 16, \"2\": 15}, \"4\": {\"4\": 42, \"7\": 32, \"0\": 21, \"11\": 19, \"5\": 22, \"2\": 31, \"8\": 30, \"3\": 4, \"9\": 10, \"14\": 17, \"13\": 10, \"15\": 2}, \"0\": {\"11\": 14, \"4\": 32, \"13\": 13, \"14\": 12, \"7\": 35, \"8\": 31, \"5\": 15, \"2\": 33, \"0\": 40, \"9\": 11, \"15\": 4}, \"10\": {\"10\": 173, \"1\": 42, \"6\": 17, \"12\": 8}, \"15\": {\"8\": 29, \"15\": 142, \"13\": 18, \"5\": 9, \"0\": 4, \"3\": 29, \"9\": 1, \"11\": 2, \"2\": 3, \"4\": 3}}, \"ORACLE.run1_44\": {\"13\": {\"7\": 28, \"4\": 18, \"13\": 51, \"6\": 37, \"3\": 3, \"2\": 8, \"9\": 31, \"11\": 49, \"14\": 9, \"5\": 3, \"1\": 2, \"0\": 1}, \"4\": {\"4\": 83, \"0\": 4, \"14\": 67, \"5\": 18, \"9\": 9, \"11\": 10, \"13\": 20, \"8\": 2, \"3\": 1, \"7\": 2, \"15\": 23, \"6\": 1}, \"6\": {\"6\": 56, \"2\": 28, \"4\": 7, \"11\": 22, \"13\": 39, \"9\": 33, \"7\": 36, \"1\": 5, \"3\": 5, \"12\": 2, \"14\": 2, \"10\": 5}, \"0\": {\"0\": 71, \"8\": 65, \"15\": 37, \"5\": 42, \"14\": 17, \"4\": 8}, \"10\": {\"12\": 60, \"10\": 75, \"1\": 31, \"2\": 38, \"3\": 14, \"7\": 15, \"9\": 4, \"6\": 2, \"13\": 1}, \"7\": {\"6\": 38, \"4\": 2, \"9\": 37, \"3\": 23, \"2\": 47, \"13\": 22, \"7\": 34, \"1\": 14, \"12\": 10, \"11\": 4, \"10\": 9}, \"14\": {\"0\": 19, \"4\": 67, \"5\": 39, \"8\": 9, \"11\": 2, \"13\": 4, \"14\": 68, \"15\": 24, \"9\": 4, \"7\": 1, \"3\": 2, \"6\": 1}, \"15\": {\"15\": 63, \"8\": 41, \"5\": 24, \"14\": 41, \"3\": 1, \"4\": 21, \"0\": 45, \"9\": 2, \"11\": 1, \"13\": 1}, \"5\": {\"13\": 3, \"0\": 32, \"5\": 70, \"15\": 32, \"4\": 31, \"8\": 38, \"14\": 30, \"11\": 4}, \"2\": {\"12\": 33, \"2\": 57, \"7\": 34, \"1\": 24, \"10\": 33, \"9\": 12, \"3\": 19, \"6\": 20, \"11\": 1, \"13\": 7}, \"9\": {\"2\": 19, \"13\": 43, \"7\": 40, \"9\": 46, \"10\": 4, \"6\": 28, \"11\": 13, \"4\": 13, \"14\": 3, \"3\": 14, \"1\": 11, \"12\": 3, \"15\": 1, \"5\": 2}, \"12\": {\"3\": 36, \"2\": 19, \"10\": 54, \"12\": 75, \"1\": 40, \"7\": 8, \"9\": 5, \"6\": 3}, \"8\": {\"8\": 90, \"15\": 50, \"0\": 55, \"14\": 9, \"5\": 33, \"4\": 3}, \"3\": {\"1\": 50, \"10\": 14, \"3\": 62, \"12\": 35, \"7\": 25, \"13\": 7, \"2\": 21, \"9\": 18, \"4\": 4, \"6\": 3, \"14\": 1}, \"1\": {\"12\": 45, \"3\": 31, \"1\": 49, \"7\": 21, \"2\": 38, \"9\": 13, \"10\": 40, \"6\": 3}, \"11\": {\"13\": 42, \"7\": 13, \"11\": 82, \"6\": 46, \"4\": 18, \"14\": 8, \"9\": 24, \"2\": 4, \"3\": 1, \"10\": 1, \"5\": 1}}, \"ORACLE.run1_14\": {\"1\": {\"5\": 24, \"1\": 34, \"15\": 18, \"3\": 22, \"7\": 29, \"8\": 17, \"2\": 16, \"6\": 10, \"14\": 8, \"10\": 8, \"4\": 28, \"9\": 2, \"0\": 12, \"13\": 11, \"11\": 1}, \"15\": {\"15\": 84, \"13\": 12, \"7\": 67, \"2\": 8, \"5\": 21, \"4\": 8, \"6\": 13, \"3\": 6, \"1\": 17, \"14\": 3, \"8\": 1}, \"10\": {\"0\": 36, \"14\": 14, \"13\": 13, \"10\": 44, \"5\": 13, \"11\": 31, \"3\": 28, \"12\": 7, \"9\": 18, \"7\": 2, \"6\": 12, \"4\": 11, \"2\": 3, \"1\": 5, \"8\": 3}, \"2\": {\"11\": 4, \"2\": 34, \"0\": 8, \"14\": 28, \"3\": 15, \"1\": 21, \"6\": 21, \"13\": 25, \"5\": 27, \"7\": 16, \"4\": 13, \"15\": 18, \"10\": 10}, \"9\": {\"9\": 86, \"12\": 61, \"0\": 15, \"11\": 33, \"3\": 3, \"4\": 3, \"10\": 17, \"8\": 21, \"14\": 1}, \"5\": {\"5\": 26, \"0\": 16, \"1\": 31, \"13\": 24, \"15\": 17, \"7\": 22, \"4\": 21, \"6\": 17, \"2\": 16, \"14\": 19, \"10\": 10, \"3\": 13, \"8\": 3, \"9\": 1, \"11\": 4}, \"7\": {\"1\": 26, \"7\": 89, \"15\": 72, \"5\": 18, \"2\": 4, \"3\": 7, \"14\": 1, \"4\": 9, \"13\": 5, \"6\": 4, \"0\": 1, \"8\": 4}, \"13\": {\"3\": 15, \"6\": 44, \"10\": 10, \"2\": 25, \"14\": 34, \"4\": 17, \"13\": 40, \"5\": 13, \"0\": 11, \"1\": 12, \"11\": 7, \"7\": 7, \"15\": 3, \"8\": 1, \"9\": 1}, \"8\": {\"10\": 9, \"4\": 27, \"3\": 8, \"5\": 7, \"13\": 4, \"9\": 33, \"8\": 78, \"11\": 21, \"0\": 18, \"1\": 22, \"12\": 6, \"7\": 5, \"15\": 1, \"2\": 1}, \"6\": {\"5\": 17, \"14\": 30, \"11\": 7, \"10\": 15, \"1\": 15, \"13\": 38, \"4\": 8, \"6\": 32, \"2\": 27, \"15\": 10, \"3\": 24, \"0\": 10, \"7\": 7}, \"3\": {\"3\": 19, \"5\": 28, \"0\": 19, \"4\": 21, \"11\": 8, \"6\": 15, \"13\": 23, \"14\": 17, \"10\": 26, \"1\": 25, \"9\": 9, \"7\": 3, \"2\": 13, \"15\": 7, \"8\": 7}, \"12\": {\"12\": 141, \"9\": 66, \"10\": 9, \"11\": 11, \"0\": 8, \"8\": 4, \"4\": 1}, \"0\": {\"9\": 17, \"10\": 36, \"5\": 7, \"13\": 13, \"4\": 19, \"14\": 12, \"0\": 48, \"11\": 29, \"12\": 8, \"3\": 13, \"6\": 9, \"8\": 21, \"1\": 7, \"2\": 1}, \"4\": {\"3\": 18, \"4\": 28, \"15\": 9, \"2\": 11, \"6\": 13, \"0\": 15, \"1\": 31, \"14\": 5, \"13\": 25, \"7\": 15, \"5\": 27, \"11\": 10, \"8\": 15, \"10\": 14, \"9\": 4}, \"14\": {\"6\": 42, \"14\": 44, \"13\": 38, \"4\": 8, \"11\": 8, \"0\": 13, \"15\": 3, \"2\": 30, \"5\": 14, \"1\": 5, \"10\": 16, \"9\": 3, \"7\": 3, \"3\": 13}, \"11\": {\"8\": 3, \"0\": 48, \"11\": 64, \"9\": 35, \"5\": 2, \"10\": 38, \"14\": 9, \"6\": 2, \"4\": 5, \"12\": 21, \"13\": 5, \"1\": 1, \"3\": 7}}}, \"per_domain_accuracy\": {\"CORES_2\": {\"accuracy\": 0.9968039772727273, \"source?\": true}, \"CORES_5\": {\"accuracy\": 0.9966643258426966, \"source?\": true}, \"CORES_1\": {\"accuracy\": 0.9943337912087912, \"source?\": true}, \"CORES_4\": {\"accuracy\": 0.9968188622754491, \"source?\": true}, \"CORES_3\": {\"accuracy\": 0.997624269005848, \"source?\": true}, \"ORACLE.run1_8\": {\"accuracy\": 0.20598958333333334, \"source?\": false}, \"ORACLE.run1_38\": {\"accuracy\": 0.30546875, \"source?\": false}, \"ORACLE.run1_26\": {\"accuracy\": 0.17473958333333334, \"source?\": false}, \"ORACLE.run1_20\": {\"accuracy\": 0.12552083333333333, \"source?\": false}, \"ORACLE.run1_50\": {\"accuracy\": 0.25703125, \"source?\": false}, \"ORACLE.run1_32\": {\"accuracy\": 0.39166666666666666, \"source?\": false}, \"ORACLE.run1_44\": {\"accuracy\": 0.26875, \"source?\": false}, \"ORACLE.run1_14\": {\"accuracy\": 0.23203125, \"source?\": false}}}, \"history\": {\"epoch_indices\": [1, 2, 3, 4, 5, 6], \"train_label_loss\": [0.026422635245273326, 0.006361671057604855, 0.00509353914918657, 0.003764655462129443, 0.0032663277429826132, 0.0027347702571354536], \"source_val_label_loss\": [0.010877124965190887, 0.023025711998343468, 0.008823443204164505, 0.008610552176833153, 0.009283279068768024, 0.009128750301897526], \"target_val_label_loss\": [2.376654863357544, 2.3445398807525635, 2.6768295764923096, 2.9263458251953125, 2.6821024417877197, 3.256448984146118], \"source_val_acc_label\": [0.9981407322654462, 0.9964244851258581, 0.9993206521739131, 0.9991061212814645, 0.9991776315789473, 0.9994636727688787], \"target_val_acc_label\": [0.20950520833333333, 0.24514973958333333, 0.2203125, 0.19397786458333333, 0.23251953125, 0.24049479166666668]}, \"dataset_metrics\": {\"source\": {\"train\": {\"n_unique_x\": 175171, \"n_unique_y\": 58, \"n_batch/episode\": 6316}, \"val\": {\"n_unique_x\": 37135, \"n_unique_y\": 58, \"n_batch/episode\": 874}, \"test\": {\"n_unique_x\": 37673, \"n_unique_y\": 58, \"n_batch/episode\": 893}}, \"target\": {\"train\": {\"n_unique_x\": 179200, \"n_unique_y\": 16, \"n_batch/episode\": 6720}, \"val\": {\"n_unique_x\": 38400, \"n_unique_y\": 16, \"n_batch/episode\": 960}, \"test\": {\"n_unique_x\": 38400, \"n_unique_y\": 16, \"n_batch/episode\": 960}}}}'"
      ]
     },
     "execution_count": 29,
     "metadata": {},
     "output_type": "execute_result"
    }
   ],
   "source": [
    "json.dumps(experiment)"
   ]
  }
 ],
 "metadata": {
  "celltoolbar": "Tags",
  "kernelspec": {
   "display_name": "Python 3 (ipykernel)",
   "language": "python",
   "name": "python3"
  },
  "language_info": {
   "codemirror_mode": {
    "name": "ipython",
    "version": 3
   },
   "file_extension": ".py",
   "mimetype": "text/x-python",
   "name": "python",
   "nbconvert_exporter": "python",
   "pygments_lexer": "ipython3",
   "version": "3.8.12"
  },
  "papermill": {
   "default_parameters": {},
   "duration": 1739.723172,
   "end_time": "2022-03-21T10:12:56.745304",
   "environment_variables": {},
   "exception": null,
   "input_path": "/root/csc500-main/csc500-notebooks/templates/tl_ptn_template.ipynb",
   "output_path": "trial.ipynb",
   "parameters": {
    "parameters": {
     "BEST_MODEL_PATH": "./best_model.pth",
     "NUM_LOGS_PER_EPOCH": 10,
     "criteria_for_best": "target_accuracy",
     "dataset_seed": 154325,
     "datasets": [
      {
       "domain_prefix": "CORES_",
       "domains": [
        1,
        2,
        3,
        4,
        5
       ],
       "episode_transforms": [],
       "labels": [
        "1-10.",
        "1-11.",
        "1-15.",
        "1-16.",
        "1-17.",
        "1-18.",
        "1-19.",
        "10-4.",
        "10-7.",
        "11-1.",
        "11-14.",
        "11-17.",
        "11-20.",
        "11-7.",
        "13-20.",
        "13-8.",
        "14-10.",
        "14-11.",
        "14-14.",
        "14-7.",
        "15-1.",
        "15-20.",
        "16-1.",
        "16-16.",
        "17-10.",
        "17-11.",
        "17-2.",
        "19-1.",
        "19-16.",
        "19-19.",
        "19-20.",
        "19-3.",
        "2-10.",
        "2-11.",
        "2-17.",
        "2-18.",
        "2-20.",
        "2-3.",
        "2-4.",
        "2-5.",
        "2-6.",
        "2-7.",
        "2-8.",
        "3-13.",
        "3-18.",
        "3-3.",
        "4-1.",
        "4-10.",
        "4-11.",
        "4-19.",
        "5-5.",
        "6-15.",
        "7-10.",
        "7-14.",
        "8-18.",
        "8-20.",
        "8-3.",
        "8-8."
       ],
       "num_examples_per_domain_per_label": -1,
       "pickle_path": "/root/csc500-main/datasets/cores.stratified_ds.2022A.pkl",
       "source_or_target_dataset": "source",
       "x_transforms": [
        "unit_mag"
       ]
      },
      {
       "domain_prefix": "ORACLE.run1_",
       "domains": [
        32,
        38,
        8,
        44,
        14,
        50,
        20,
        26
       ],
       "episode_transforms": [],
       "labels": [
        "3123D52",
        "3123D65",
        "3123D79",
        "3123D80",
        "3123D54",
        "3123D70",
        "3123D7B",
        "3123D89",
        "3123D58",
        "3123D76",
        "3123D7D",
        "3123EFE",
        "3123D64",
        "3123D78",
        "3123D7E",
        "3124E4A"
       ],
       "num_examples_per_domain_per_label": 2000,
       "pickle_path": "/root/csc500-main/datasets/oracle.Run1_framed_2000Examples_stratified_ds.2022A.pkl",
       "source_or_target_dataset": "target",
       "x_transforms": [
        "unit_mag"
       ]
      }
     ],
     "device": "cuda",
     "experiment_name": "tl_1v2:cores-oracle.run1.framed",
     "lr": 0.0001,
     "n_epoch": 50,
     "n_query": 2,
     "n_shot": 3,
     "n_way": 16,
     "patience": 3,
     "seed": 154325,
     "test_k_factor": 2,
     "torch_default_dtype": "torch.float32",
     "train_k_factor": 3,
     "val_k_factor": 2,
     "x_net": [
      {
       "class": "nnReshape",
       "kargs": {
        "shape": [
         -1,
         1,
         2,
         256
        ]
       }
      },
      {
       "class": "Conv2d",
       "kargs": {
        "bias": false,
        "in_channels": 1,
        "kernel_size": [
         1,
         7
        ],
        "out_channels": 256,
        "padding": [
         0,
         3
        ]
       }
      },
      {
       "class": "ReLU",
       "kargs": {
        "inplace": true
       }
      },
      {
       "class": "BatchNorm2d",
       "kargs": {
        "num_features": 256
       }
      },
      {
       "class": "Conv2d",
       "kargs": {
        "bias": true,
        "in_channels": 256,
        "kernel_size": [
         2,
         7
        ],
        "out_channels": 80,
        "padding": [
         0,
         3
        ]
       }
      },
      {
       "class": "ReLU",
       "kargs": {
        "inplace": true
       }
      },
      {
       "class": "BatchNorm2d",
       "kargs": {
        "num_features": 80
       }
      },
      {
       "class": "Flatten",
       "kargs": {}
      },
      {
       "class": "Linear",
       "kargs": {
        "in_features": 20480,
        "out_features": 256
       }
      },
      {
       "class": "ReLU",
       "kargs": {
        "inplace": true
       }
      },
      {
       "class": "BatchNorm1d",
       "kargs": {
        "num_features": 256
       }
      },
      {
       "class": "Linear",
       "kargs": {
        "in_features": 256,
        "out_features": 256
       }
      }
     ]
    }
   },
   "start_time": "2022-03-21T09:43:57.022132",
   "version": "2.3.4"
  }
 },
 "nbformat": 4,
 "nbformat_minor": 5
}