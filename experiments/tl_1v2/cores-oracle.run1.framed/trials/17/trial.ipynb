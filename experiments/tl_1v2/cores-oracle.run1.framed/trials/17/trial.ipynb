{
 "cells": [
  {
   "cell_type": "markdown",
   "id": "9fea5f46",
   "metadata": {
    "papermill": {
     "duration": 0.029584,
     "end_time": "2022-03-21T12:17:42.214214",
     "exception": false,
     "start_time": "2022-03-21T12:17:42.184630",
     "status": "completed"
    },
    "tags": []
   },
   "source": [
    "# Transfer Learning Template"
   ]
  },
  {
   "cell_type": "code",
   "execution_count": 1,
   "id": "0902182a",
   "metadata": {
    "execution": {
     "iopub.execute_input": "2022-03-21T12:17:42.277685Z",
     "iopub.status.busy": "2022-03-21T12:17:42.276829Z",
     "iopub.status.idle": "2022-03-21T12:17:44.119772Z",
     "shell.execute_reply": "2022-03-21T12:17:44.119271Z"
    },
    "papermill": {
     "duration": 1.882088,
     "end_time": "2022-03-21T12:17:44.119897",
     "exception": false,
     "start_time": "2022-03-21T12:17:42.237809",
     "status": "completed"
    },
    "tags": []
   },
   "outputs": [],
   "source": [
    "%load_ext autoreload\n",
    "%autoreload 2\n",
    "%matplotlib inline\n",
    "\n",
    "    \n",
    "import os, json, sys, time, random\n",
    "import numpy as np\n",
    "import torch\n",
    "from torch.optim import Adam\n",
    "from  easydict import EasyDict\n",
    "import matplotlib.pyplot as plt\n",
    "\n",
    "from steves_models.steves_ptn import Steves_Prototypical_Network\n",
    "\n",
    "from steves_utils.lazy_iterable_wrapper import Lazy_Iterable_Wrapper\n",
    "from steves_utils.iterable_aggregator import Iterable_Aggregator\n",
    "from steves_utils.ptn_train_eval_test_jig import  PTN_Train_Eval_Test_Jig\n",
    "from steves_utils.torch_sequential_builder import build_sequential\n",
    "from steves_utils.torch_utils import get_dataset_metrics, ptn_confusion_by_domain_over_dataloader\n",
    "from steves_utils.utils_v2 import (per_domain_accuracy_from_confusion, get_datasets_base_path)\n",
    "from steves_utils.PTN.utils import independent_accuracy_assesment\n",
    "\n",
    "from torch.utils.data import DataLoader\n",
    "\n",
    "from steves_utils.stratified_dataset.episodic_accessor import Episodic_Accessor_Factory\n",
    "\n",
    "from steves_utils.ptn_do_report import (\n",
    "    get_loss_curve,\n",
    "    get_results_table,\n",
    "    get_parameters_table,\n",
    "    get_domain_accuracies,\n",
    ")\n",
    "\n",
    "from steves_utils.transforms import get_chained_transform"
   ]
  },
  {
   "cell_type": "markdown",
   "id": "41c840b4",
   "metadata": {
    "papermill": {
     "duration": 0.018424,
     "end_time": "2022-03-21T12:17:44.158107",
     "exception": false,
     "start_time": "2022-03-21T12:17:44.139683",
     "status": "completed"
    },
    "tags": []
   },
   "source": [
    "# Allowed Parameters\n",
    "These are allowed parameters, not defaults\n",
    "Each of these values need to be present in the injected parameters (the notebook will raise an exception if they are not present)\n",
    "\n",
    "Papermill uses the cell tag \"parameters\" to inject the real parameters below this cell.\n",
    "Enable tags to see what I mean"
   ]
  },
  {
   "cell_type": "code",
   "execution_count": 2,
   "id": "fd44eb83",
   "metadata": {
    "execution": {
     "iopub.execute_input": "2022-03-21T12:17:44.198934Z",
     "iopub.status.busy": "2022-03-21T12:17:44.198557Z",
     "iopub.status.idle": "2022-03-21T12:17:44.218283Z",
     "shell.execute_reply": "2022-03-21T12:17:44.217917Z"
    },
    "papermill": {
     "duration": 0.041786,
     "end_time": "2022-03-21T12:17:44.218357",
     "exception": false,
     "start_time": "2022-03-21T12:17:44.176571",
     "status": "completed"
    },
    "tags": []
   },
   "outputs": [],
   "source": [
    "required_parameters = {\n",
    "    \"experiment_name\",\n",
    "    \"lr\",\n",
    "    \"device\",\n",
    "    \"seed\",\n",
    "    \"dataset_seed\",\n",
    "    \"n_shot\",\n",
    "    \"n_query\",\n",
    "    \"n_way\",\n",
    "    \"train_k_factor\",\n",
    "    \"val_k_factor\",\n",
    "    \"test_k_factor\",\n",
    "    \"n_epoch\",\n",
    "    \"patience\",\n",
    "    \"criteria_for_best\",\n",
    "    \"x_net\",\n",
    "    \"datasets\",\n",
    "    \"torch_default_dtype\",\n",
    "    \"NUM_LOGS_PER_EPOCH\",\n",
    "    \"BEST_MODEL_PATH\",\n",
    "    \"x_shape\",\n",
    "}"
   ]
  },
  {
   "cell_type": "code",
   "execution_count": 3,
   "id": "fa3f0049",
   "metadata": {
    "execution": {
     "iopub.execute_input": "2022-03-21T12:17:44.265804Z",
     "iopub.status.busy": "2022-03-21T12:17:44.265400Z",
     "iopub.status.idle": "2022-03-21T12:17:44.286244Z",
     "shell.execute_reply": "2022-03-21T12:17:44.285875Z"
    },
    "papermill": {
     "duration": 0.049109,
     "end_time": "2022-03-21T12:17:44.286320",
     "exception": false,
     "start_time": "2022-03-21T12:17:44.237211",
     "status": "completed"
    },
    "tags": [
     "parameters"
    ]
   },
   "outputs": [],
   "source": [
    "from steves_utils.CORES.utils import (\n",
    "    ALL_NODES,\n",
    "    ALL_NODES_MINIMUM_1000_EXAMPLES,\n",
    "    ALL_DAYS\n",
    ")\n",
    "\n",
    "from steves_utils.ORACLE.utils_v2 import (\n",
    "    ALL_DISTANCES_FEET_NARROWED,\n",
    "    ALL_RUNS,\n",
    "    ALL_SERIAL_NUMBERS,\n",
    ")\n",
    "\n",
    "standalone_parameters = {}\n",
    "standalone_parameters[\"experiment_name\"] = \"STANDALONE PTN\"\n",
    "standalone_parameters[\"lr\"] = 0.001\n",
    "standalone_parameters[\"device\"] = \"cuda\"\n",
    "\n",
    "standalone_parameters[\"seed\"] = 1337\n",
    "standalone_parameters[\"dataset_seed\"] = 1337\n",
    "\n",
    "standalone_parameters[\"n_way\"] = 8\n",
    "standalone_parameters[\"n_shot\"] = 3\n",
    "standalone_parameters[\"n_query\"]  = 2\n",
    "standalone_parameters[\"train_k_factor\"] = 1\n",
    "standalone_parameters[\"val_k_factor\"] = 2\n",
    "standalone_parameters[\"test_k_factor\"] = 2\n",
    "\n",
    "\n",
    "standalone_parameters[\"n_epoch\"] = 50\n",
    "\n",
    "standalone_parameters[\"patience\"] = 10\n",
    "standalone_parameters[\"criteria_for_best\"] = \"source_loss\"\n",
    "\n",
    "standalone_parameters[\"datasets\"] = [\n",
    "    {\n",
    "        \"labels\": ALL_SERIAL_NUMBERS,\n",
    "        \"domains\": ALL_DISTANCES_FEET_NARROWED,\n",
    "        \"num_examples_per_domain_per_label\": 100,\n",
    "        \"pickle_path\": os.path.join(get_datasets_base_path(), \"oracle.Run1_framed_2000Examples_stratified_ds.2022A.pkl\"),\n",
    "        \"source_or_target_dataset\": \"source\",\n",
    "        \"x_transforms\": [\"unit_mag\", \"minus_two\"],\n",
    "        \"episode_transforms\": [],\n",
    "        \"domain_prefix\": \"ORACLE_\"\n",
    "    },\n",
    "    {\n",
    "        \"labels\": ALL_NODES,\n",
    "        \"domains\": ALL_DAYS,\n",
    "        \"num_examples_per_domain_per_label\": 100,\n",
    "        \"pickle_path\": os.path.join(get_datasets_base_path(), \"cores.stratified_ds.2022A.pkl\"),\n",
    "        \"source_or_target_dataset\": \"target\",\n",
    "        \"x_transforms\": [\"unit_power\", \"times_zero\"],\n",
    "        \"episode_transforms\": [],\n",
    "        \"domain_prefix\": \"CORES_\"\n",
    "    }   \n",
    "]\n",
    "\n",
    "standalone_parameters[\"torch_default_dtype\"] = \"torch.float32\" \n",
    "\n",
    "\n",
    "\n",
    "standalone_parameters[\"x_net\"] =     [\n",
    "    {\"class\": \"nnReshape\", \"kargs\": {\"shape\":[-1, 1, 2, 256]}},\n",
    "    {\"class\": \"Conv2d\", \"kargs\": { \"in_channels\":1, \"out_channels\":256, \"kernel_size\":(1,7), \"bias\":False, \"padding\":(0,3), },},\n",
    "    {\"class\": \"ReLU\", \"kargs\": {\"inplace\": True}},\n",
    "    {\"class\": \"BatchNorm2d\", \"kargs\": {\"num_features\":256}},\n",
    "\n",
    "    {\"class\": \"Conv2d\", \"kargs\": { \"in_channels\":256, \"out_channels\":80, \"kernel_size\":(2,7), \"bias\":True, \"padding\":(0,3), },},\n",
    "    {\"class\": \"ReLU\", \"kargs\": {\"inplace\": True}},\n",
    "    {\"class\": \"BatchNorm2d\", \"kargs\": {\"num_features\":80}},\n",
    "    {\"class\": \"Flatten\", \"kargs\": {}},\n",
    "\n",
    "    {\"class\": \"Linear\", \"kargs\": {\"in_features\": 80*256, \"out_features\": 256}}, # 80 units per IQ pair\n",
    "    {\"class\": \"ReLU\", \"kargs\": {\"inplace\": True}},\n",
    "    {\"class\": \"BatchNorm1d\", \"kargs\": {\"num_features\":256}},\n",
    "\n",
    "    {\"class\": \"Linear\", \"kargs\": {\"in_features\": 256, \"out_features\": 256}},\n",
    "]\n",
    "\n",
    "# Parameters relevant to results\n",
    "# These parameters will basically never need to change\n",
    "standalone_parameters[\"NUM_LOGS_PER_EPOCH\"] = 10\n",
    "standalone_parameters[\"BEST_MODEL_PATH\"] = \"./best_model.pth\"\n",
    "\n",
    "\n",
    "\n",
    "\n"
   ]
  },
  {
   "cell_type": "code",
   "execution_count": 4,
   "id": "2df1055d",
   "metadata": {
    "execution": {
     "iopub.execute_input": "2022-03-21T12:17:44.333312Z",
     "iopub.status.busy": "2022-03-21T12:17:44.332879Z",
     "iopub.status.idle": "2022-03-21T12:17:44.353244Z",
     "shell.execute_reply": "2022-03-21T12:17:44.352878Z"
    },
    "papermill": {
     "duration": 0.047911,
     "end_time": "2022-03-21T12:17:44.353316",
     "exception": false,
     "start_time": "2022-03-21T12:17:44.305405",
     "status": "completed"
    },
    "tags": [
     "injected-parameters"
    ]
   },
   "outputs": [],
   "source": [
    "# Parameters\n",
    "parameters = {\n",
    "    \"experiment_name\": \"tl_1v2:cores-oracle.run1.framed\",\n",
    "    \"device\": \"cuda\",\n",
    "    \"lr\": 0.0001,\n",
    "    \"n_shot\": 3,\n",
    "    \"n_query\": 2,\n",
    "    \"train_k_factor\": 3,\n",
    "    \"val_k_factor\": 2,\n",
    "    \"test_k_factor\": 2,\n",
    "    \"torch_default_dtype\": \"torch.float32\",\n",
    "    \"n_epoch\": 50,\n",
    "    \"patience\": 3,\n",
    "    \"criteria_for_best\": \"target_accuracy\",\n",
    "    \"x_net\": [\n",
    "        {\"class\": \"nnReshape\", \"kargs\": {\"shape\": [-1, 1, 2, 256]}},\n",
    "        {\n",
    "            \"class\": \"Conv2d\",\n",
    "            \"kargs\": {\n",
    "                \"in_channels\": 1,\n",
    "                \"out_channels\": 256,\n",
    "                \"kernel_size\": [1, 7],\n",
    "                \"bias\": False,\n",
    "                \"padding\": [0, 3],\n",
    "            },\n",
    "        },\n",
    "        {\"class\": \"ReLU\", \"kargs\": {\"inplace\": True}},\n",
    "        {\"class\": \"BatchNorm2d\", \"kargs\": {\"num_features\": 256}},\n",
    "        {\n",
    "            \"class\": \"Conv2d\",\n",
    "            \"kargs\": {\n",
    "                \"in_channels\": 256,\n",
    "                \"out_channels\": 80,\n",
    "                \"kernel_size\": [2, 7],\n",
    "                \"bias\": True,\n",
    "                \"padding\": [0, 3],\n",
    "            },\n",
    "        },\n",
    "        {\"class\": \"ReLU\", \"kargs\": {\"inplace\": True}},\n",
    "        {\"class\": \"BatchNorm2d\", \"kargs\": {\"num_features\": 80}},\n",
    "        {\"class\": \"Flatten\", \"kargs\": {}},\n",
    "        {\"class\": \"Linear\", \"kargs\": {\"in_features\": 20480, \"out_features\": 256}},\n",
    "        {\"class\": \"ReLU\", \"kargs\": {\"inplace\": True}},\n",
    "        {\"class\": \"BatchNorm1d\", \"kargs\": {\"num_features\": 256}},\n",
    "        {\"class\": \"Linear\", \"kargs\": {\"in_features\": 256, \"out_features\": 256}},\n",
    "    ],\n",
    "    \"NUM_LOGS_PER_EPOCH\": 10,\n",
    "    \"BEST_MODEL_PATH\": \"./best_model.pth\",\n",
    "    \"n_way\": 16,\n",
    "    \"datasets\": [\n",
    "        {\n",
    "            \"labels\": [\n",
    "                \"1-10.\",\n",
    "                \"1-11.\",\n",
    "                \"1-15.\",\n",
    "                \"1-16.\",\n",
    "                \"1-17.\",\n",
    "                \"1-18.\",\n",
    "                \"1-19.\",\n",
    "                \"10-4.\",\n",
    "                \"10-7.\",\n",
    "                \"11-1.\",\n",
    "                \"11-14.\",\n",
    "                \"11-17.\",\n",
    "                \"11-20.\",\n",
    "                \"11-7.\",\n",
    "                \"13-20.\",\n",
    "                \"13-8.\",\n",
    "                \"14-10.\",\n",
    "                \"14-11.\",\n",
    "                \"14-14.\",\n",
    "                \"14-7.\",\n",
    "                \"15-1.\",\n",
    "                \"15-20.\",\n",
    "                \"16-1.\",\n",
    "                \"16-16.\",\n",
    "                \"17-10.\",\n",
    "                \"17-11.\",\n",
    "                \"17-2.\",\n",
    "                \"19-1.\",\n",
    "                \"19-16.\",\n",
    "                \"19-19.\",\n",
    "                \"19-20.\",\n",
    "                \"19-3.\",\n",
    "                \"2-10.\",\n",
    "                \"2-11.\",\n",
    "                \"2-17.\",\n",
    "                \"2-18.\",\n",
    "                \"2-20.\",\n",
    "                \"2-3.\",\n",
    "                \"2-4.\",\n",
    "                \"2-5.\",\n",
    "                \"2-6.\",\n",
    "                \"2-7.\",\n",
    "                \"2-8.\",\n",
    "                \"3-13.\",\n",
    "                \"3-18.\",\n",
    "                \"3-3.\",\n",
    "                \"4-1.\",\n",
    "                \"4-10.\",\n",
    "                \"4-11.\",\n",
    "                \"4-19.\",\n",
    "                \"5-5.\",\n",
    "                \"6-15.\",\n",
    "                \"7-10.\",\n",
    "                \"7-14.\",\n",
    "                \"8-18.\",\n",
    "                \"8-20.\",\n",
    "                \"8-3.\",\n",
    "                \"8-8.\",\n",
    "            ],\n",
    "            \"domains\": [1, 2, 3, 4, 5],\n",
    "            \"num_examples_per_domain_per_label\": -1,\n",
    "            \"pickle_path\": \"/root/csc500-main/datasets/cores.stratified_ds.2022A.pkl\",\n",
    "            \"source_or_target_dataset\": \"target\",\n",
    "            \"x_transforms\": [],\n",
    "            \"episode_transforms\": [],\n",
    "            \"domain_prefix\": \"CORES_\",\n",
    "        },\n",
    "        {\n",
    "            \"labels\": [\n",
    "                \"3123D52\",\n",
    "                \"3123D65\",\n",
    "                \"3123D79\",\n",
    "                \"3123D80\",\n",
    "                \"3123D54\",\n",
    "                \"3123D70\",\n",
    "                \"3123D7B\",\n",
    "                \"3123D89\",\n",
    "                \"3123D58\",\n",
    "                \"3123D76\",\n",
    "                \"3123D7D\",\n",
    "                \"3123EFE\",\n",
    "                \"3123D64\",\n",
    "                \"3123D78\",\n",
    "                \"3123D7E\",\n",
    "                \"3124E4A\",\n",
    "            ],\n",
    "            \"domains\": [32, 38, 8, 44, 14, 50, 20, 26],\n",
    "            \"num_examples_per_domain_per_label\": 2000,\n",
    "            \"pickle_path\": \"/root/csc500-main/datasets/oracle.Run1_framed_2000Examples_stratified_ds.2022A.pkl\",\n",
    "            \"source_or_target_dataset\": \"source\",\n",
    "            \"x_transforms\": [],\n",
    "            \"episode_transforms\": [],\n",
    "            \"domain_prefix\": \"ORACLE.run1_\",\n",
    "        },\n",
    "    ],\n",
    "    \"dataset_seed\": 154325,\n",
    "    \"seed\": 154325,\n",
    "}\n"
   ]
  },
  {
   "cell_type": "code",
   "execution_count": 5,
   "id": "8fa1cc33",
   "metadata": {
    "execution": {
     "iopub.execute_input": "2022-03-21T12:17:44.395656Z",
     "iopub.status.busy": "2022-03-21T12:17:44.395265Z",
     "iopub.status.idle": "2022-03-21T12:17:44.413131Z",
     "shell.execute_reply": "2022-03-21T12:17:44.412768Z"
    },
    "papermill": {
     "duration": 0.040837,
     "end_time": "2022-03-21T12:17:44.413202",
     "exception": false,
     "start_time": "2022-03-21T12:17:44.372365",
     "status": "completed"
    },
    "tags": []
   },
   "outputs": [],
   "source": [
    "# Set this to True if you want to run this template directly\n",
    "STANDALONE = False\n",
    "if STANDALONE:\n",
    "    print(\"parameters not injected, running with standalone_parameters\")\n",
    "    parameters = standalone_parameters\n",
    "\n",
    "if not 'parameters' in locals() and not 'parameters' in globals():\n",
    "    raise Exception(\"Parameter injection failed\")\n",
    "\n",
    "#Use an easy dict for all the parameters\n",
    "p = EasyDict(parameters)\n",
    "\n",
    "if \"x_shape\" not in p:\n",
    "    p.x_shape = [2,256] # Default to this if we dont supply x_shape\n",
    "\n",
    "\n",
    "supplied_keys = set(p.keys())\n",
    "\n",
    "if  supplied_keys != required_parameters:\n",
    "    print(\"Parameters are incorrect\")\n",
    "    if len(supplied_keys - required_parameters)>0: print(\"Shouldn't have:\", str(supplied_keys - required_parameters))\n",
    "    if len(required_parameters - supplied_keys)>0: print(\"Need to have:\", str(required_parameters - supplied_keys))\n",
    "    raise RuntimeError(\"Parameters are incorrect\")"
   ]
  },
  {
   "cell_type": "code",
   "execution_count": 6,
   "id": "3a028d58",
   "metadata": {
    "execution": {
     "iopub.execute_input": "2022-03-21T12:17:44.456273Z",
     "iopub.status.busy": "2022-03-21T12:17:44.455420Z",
     "iopub.status.idle": "2022-03-21T12:17:44.475551Z",
     "shell.execute_reply": "2022-03-21T12:17:44.475175Z"
    },
    "papermill": {
     "duration": 0.043028,
     "end_time": "2022-03-21T12:17:44.475625",
     "exception": false,
     "start_time": "2022-03-21T12:17:44.432597",
     "status": "completed"
    },
    "tags": []
   },
   "outputs": [],
   "source": [
    "###################################\n",
    "# Set the RNGs and make it all deterministic\n",
    "###################################\n",
    "np.random.seed(p.seed)\n",
    "random.seed(p.seed)\n",
    "torch.manual_seed(p.seed)\n",
    "\n",
    "torch.use_deterministic_algorithms(True) "
   ]
  },
  {
   "cell_type": "code",
   "execution_count": 7,
   "id": "b691acf6",
   "metadata": {
    "execution": {
     "iopub.execute_input": "2022-03-21T12:17:44.517859Z",
     "iopub.status.busy": "2022-03-21T12:17:44.517435Z",
     "iopub.status.idle": "2022-03-21T12:17:44.537784Z",
     "shell.execute_reply": "2022-03-21T12:17:44.537422Z"
    },
    "papermill": {
     "duration": 0.043308,
     "end_time": "2022-03-21T12:17:44.537856",
     "exception": false,
     "start_time": "2022-03-21T12:17:44.494548",
     "status": "completed"
    },
    "tags": []
   },
   "outputs": [],
   "source": [
    "###########################################\n",
    "# The stratified datasets honor this\n",
    "###########################################\n",
    "torch.set_default_dtype(eval(p.torch_default_dtype))"
   ]
  },
  {
   "cell_type": "code",
   "execution_count": 8,
   "id": "b5fba671",
   "metadata": {
    "execution": {
     "iopub.execute_input": "2022-03-21T12:17:44.580580Z",
     "iopub.status.busy": "2022-03-21T12:17:44.579317Z",
     "iopub.status.idle": "2022-03-21T12:17:44.634944Z",
     "shell.execute_reply": "2022-03-21T12:17:44.634549Z"
    },
    "papermill": {
     "duration": 0.077761,
     "end_time": "2022-03-21T12:17:44.635056",
     "exception": false,
     "start_time": "2022-03-21T12:17:44.557295",
     "status": "completed"
    },
    "tags": []
   },
   "outputs": [],
   "source": [
    "###################################\n",
    "# Build the network(s)\n",
    "# Note: It's critical to do this AFTER setting the RNG\n",
    "###################################\n",
    "x_net = build_sequential(p.x_net)"
   ]
  },
  {
   "cell_type": "code",
   "execution_count": 9,
   "id": "5d7e61cc",
   "metadata": {
    "execution": {
     "iopub.execute_input": "2022-03-21T12:17:44.678791Z",
     "iopub.status.busy": "2022-03-21T12:17:44.678429Z",
     "iopub.status.idle": "2022-03-21T12:17:44.702221Z",
     "shell.execute_reply": "2022-03-21T12:17:44.701853Z"
    },
    "papermill": {
     "duration": 0.047001,
     "end_time": "2022-03-21T12:17:44.702293",
     "exception": false,
     "start_time": "2022-03-21T12:17:44.655292",
     "status": "completed"
    },
    "tags": []
   },
   "outputs": [],
   "source": [
    "start_time_secs = time.time()"
   ]
  },
  {
   "cell_type": "code",
   "execution_count": 10,
   "id": "c6b67dfd",
   "metadata": {
    "execution": {
     "iopub.execute_input": "2022-03-21T12:17:44.745667Z",
     "iopub.status.busy": "2022-03-21T12:17:44.745279Z",
     "iopub.status.idle": "2022-03-21T12:17:44.766036Z",
     "shell.execute_reply": "2022-03-21T12:17:44.765674Z"
    },
    "papermill": {
     "duration": 0.044271,
     "end_time": "2022-03-21T12:17:44.766107",
     "exception": false,
     "start_time": "2022-03-21T12:17:44.721836",
     "status": "completed"
    },
    "tags": []
   },
   "outputs": [],
   "source": [
    "p.domains_source = []\n",
    "p.domains_target = []\n",
    "\n",
    "\n",
    "train_original_source = []\n",
    "val_original_source   = []\n",
    "test_original_source  = []\n",
    "\n",
    "train_original_target = []\n",
    "val_original_target   = []\n",
    "test_original_target  = []"
   ]
  },
  {
   "cell_type": "code",
   "execution_count": 11,
   "id": "e3d9c3d3",
   "metadata": {
    "execution": {
     "iopub.execute_input": "2022-03-21T12:17:44.808246Z",
     "iopub.status.busy": "2022-03-21T12:17:44.807809Z",
     "iopub.status.idle": "2022-03-21T12:17:44.828627Z",
     "shell.execute_reply": "2022-03-21T12:17:44.828264Z"
    },
    "papermill": {
     "duration": 0.043154,
     "end_time": "2022-03-21T12:17:44.828698",
     "exception": false,
     "start_time": "2022-03-21T12:17:44.785544",
     "status": "completed"
    },
    "tags": []
   },
   "outputs": [],
   "source": [
    "# global_x_transform_func = lambda x: normalize(x.to(torch.get_default_dtype()), \"unit_power\") # unit_power, unit_mag\n",
    "# global_x_transform_func = lambda x: normalize(x, \"unit_power\") # unit_power, unit_mag"
   ]
  },
  {
   "cell_type": "code",
   "execution_count": 12,
   "id": "acb78fd2",
   "metadata": {
    "execution": {
     "iopub.execute_input": "2022-03-21T12:17:44.881432Z",
     "iopub.status.busy": "2022-03-21T12:17:44.880582Z",
     "iopub.status.idle": "2022-03-21T12:17:44.899451Z",
     "shell.execute_reply": "2022-03-21T12:17:44.898646Z"
    },
    "papermill": {
     "duration": 0.051312,
     "end_time": "2022-03-21T12:17:44.899628",
     "exception": false,
     "start_time": "2022-03-21T12:17:44.848316",
     "status": "completed"
    },
    "tags": []
   },
   "outputs": [],
   "source": [
    "def add_dataset(\n",
    "    labels,\n",
    "    domains,\n",
    "    pickle_path,\n",
    "    x_transforms,\n",
    "    episode_transforms,\n",
    "    domain_prefix,\n",
    "    num_examples_per_domain_per_label,\n",
    "    source_or_target_dataset:str,\n",
    "    iterator_seed=p.seed,\n",
    "    dataset_seed=p.dataset_seed,\n",
    "    n_shot=p.n_shot,\n",
    "    n_way=p.n_way,\n",
    "    n_query=p.n_query,\n",
    "    train_val_test_k_factors=(p.train_k_factor,p.val_k_factor,p.test_k_factor),\n",
    "):\n",
    "   \n",
    "    if x_transforms == []: x_transform = None\n",
    "    else: x_transform = get_chained_transform(x_transforms)\n",
    "    \n",
    "    if episode_transforms == []: episode_transform = None\n",
    "    else: raise Exception(\"episode_transforms not implemented\")\n",
    "    \n",
    "    episode_transform = lambda tup, _prefix=domain_prefix: (_prefix + str(tup[0]), tup[1])\n",
    "\n",
    "\n",
    "    eaf = Episodic_Accessor_Factory(\n",
    "        labels=labels,\n",
    "        domains=domains,\n",
    "        num_examples_per_domain_per_label=num_examples_per_domain_per_label,\n",
    "        iterator_seed=iterator_seed,\n",
    "        dataset_seed=dataset_seed,\n",
    "        n_shot=n_shot,\n",
    "        n_way=n_way,\n",
    "        n_query=n_query,\n",
    "        train_val_test_k_factors=train_val_test_k_factors,\n",
    "        pickle_path=pickle_path,\n",
    "        x_transform_func=x_transform,\n",
    "    )\n",
    "\n",
    "    train, val, test = eaf.get_train(), eaf.get_val(), eaf.get_test()\n",
    "    train = Lazy_Iterable_Wrapper(train, episode_transform)\n",
    "    val = Lazy_Iterable_Wrapper(val, episode_transform)\n",
    "    test = Lazy_Iterable_Wrapper(test, episode_transform)\n",
    "\n",
    "    if source_or_target_dataset==\"source\":\n",
    "        train_original_source.append(train)\n",
    "        val_original_source.append(val)\n",
    "        test_original_source.append(test)\n",
    "\n",
    "        p.domains_source.extend(\n",
    "            [domain_prefix + str(u) for u in domains]\n",
    "        )\n",
    "    elif source_or_target_dataset==\"target\":\n",
    "        train_original_target.append(train)\n",
    "        val_original_target.append(val)\n",
    "        test_original_target.append(test)\n",
    "        p.domains_target.extend(\n",
    "            [domain_prefix + str(u) for u in domains]\n",
    "        )\n",
    "    else:\n",
    "        raise Exception(f\"invalid source_or_target_dataset: {source_or_target_dataset}\")\n",
    "    "
   ]
  },
  {
   "cell_type": "code",
   "execution_count": 13,
   "id": "fe266617",
   "metadata": {
    "execution": {
     "iopub.execute_input": "2022-03-21T12:17:44.947911Z",
     "iopub.status.busy": "2022-03-21T12:17:44.947508Z",
     "iopub.status.idle": "2022-03-21T12:17:48.808931Z",
     "shell.execute_reply": "2022-03-21T12:17:48.808202Z"
    },
    "papermill": {
     "duration": 3.884557,
     "end_time": "2022-03-21T12:17:48.809121",
     "exception": false,
     "start_time": "2022-03-21T12:17:44.924564",
     "status": "completed"
    },
    "tags": []
   },
   "outputs": [],
   "source": [
    "for ds in p.datasets:\n",
    "    add_dataset(**ds)"
   ]
  },
  {
   "cell_type": "code",
   "execution_count": 14,
   "id": "b90d65ac",
   "metadata": {
    "execution": {
     "iopub.execute_input": "2022-03-21T12:17:48.858915Z",
     "iopub.status.busy": "2022-03-21T12:17:48.858541Z",
     "iopub.status.idle": "2022-03-21T12:17:48.883039Z",
     "shell.execute_reply": "2022-03-21T12:17:48.882341Z"
    },
    "papermill": {
     "duration": 0.049141,
     "end_time": "2022-03-21T12:17:48.883195",
     "exception": false,
     "start_time": "2022-03-21T12:17:48.834054",
     "status": "completed"
    },
    "tags": []
   },
   "outputs": [],
   "source": [
    "# from steves_utils.CORES.utils import (\n",
    "#     ALL_NODES,\n",
    "#     ALL_NODES_MINIMUM_1000_EXAMPLES,\n",
    "#     ALL_DAYS\n",
    "# )\n",
    "\n",
    "# add_dataset(\n",
    "#     labels=ALL_NODES,\n",
    "#     domains = ALL_DAYS,\n",
    "#     num_examples_per_domain_per_label=100,\n",
    "#     pickle_path=os.path.join(get_datasets_base_path(), \"cores.stratified_ds.2022A.pkl\"),\n",
    "#     source_or_target_dataset=\"target\",\n",
    "#     x_transform_func=global_x_transform_func,\n",
    "#     domain_modifier=lambda u: f\"cores_{u}\"\n",
    "# )"
   ]
  },
  {
   "cell_type": "code",
   "execution_count": 15,
   "id": "76db484d",
   "metadata": {
    "execution": {
     "iopub.execute_input": "2022-03-21T12:17:48.937302Z",
     "iopub.status.busy": "2022-03-21T12:17:48.936735Z",
     "iopub.status.idle": "2022-03-21T12:17:48.960262Z",
     "shell.execute_reply": "2022-03-21T12:17:48.959442Z"
    },
    "papermill": {
     "duration": 0.047649,
     "end_time": "2022-03-21T12:17:48.960416",
     "exception": false,
     "start_time": "2022-03-21T12:17:48.912767",
     "status": "completed"
    },
    "tags": []
   },
   "outputs": [],
   "source": [
    "# from steves_utils.ORACLE.utils_v2 import (\n",
    "#     ALL_DISTANCES_FEET,\n",
    "#     ALL_RUNS,\n",
    "#     ALL_SERIAL_NUMBERS,\n",
    "# )\n",
    "\n",
    "\n",
    "# add_dataset(\n",
    "#     labels=ALL_SERIAL_NUMBERS,\n",
    "#     domains = list(set(ALL_DISTANCES_FEET) - {2,62}),\n",
    "#     num_examples_per_domain_per_label=100,\n",
    "#     pickle_path=os.path.join(get_datasets_base_path(), \"oracle.Run2_framed_2000Examples_stratified_ds.2022A.pkl\"),\n",
    "#     source_or_target_dataset=\"source\",\n",
    "#     x_transform_func=global_x_transform_func,\n",
    "#     domain_modifier=lambda u: f\"oracle1_{u}\"\n",
    "# )\n"
   ]
  },
  {
   "cell_type": "code",
   "execution_count": 16,
   "id": "97dea9d2",
   "metadata": {
    "execution": {
     "iopub.execute_input": "2022-03-21T12:17:49.010076Z",
     "iopub.status.busy": "2022-03-21T12:17:49.009700Z",
     "iopub.status.idle": "2022-03-21T12:17:49.031944Z",
     "shell.execute_reply": "2022-03-21T12:17:49.031130Z"
    },
    "papermill": {
     "duration": 0.046426,
     "end_time": "2022-03-21T12:17:49.032098",
     "exception": false,
     "start_time": "2022-03-21T12:17:48.985672",
     "status": "completed"
    },
    "tags": []
   },
   "outputs": [],
   "source": [
    "# from steves_utils.ORACLE.utils_v2 import (\n",
    "#     ALL_DISTANCES_FEET,\n",
    "#     ALL_RUNS,\n",
    "#     ALL_SERIAL_NUMBERS,\n",
    "# )\n",
    "\n",
    "\n",
    "# add_dataset(\n",
    "#     labels=ALL_SERIAL_NUMBERS,\n",
    "#     domains = list(set(ALL_DISTANCES_FEET) - {2,62,56}),\n",
    "#     num_examples_per_domain_per_label=100,\n",
    "#     pickle_path=os.path.join(get_datasets_base_path(), \"oracle.Run2_framed_2000Examples_stratified_ds.2022A.pkl\"),\n",
    "#     source_or_target_dataset=\"source\",\n",
    "#     x_transform_func=global_x_transform_func,\n",
    "#     domain_modifier=lambda u: f\"oracle2_{u}\"\n",
    "# )"
   ]
  },
  {
   "cell_type": "code",
   "execution_count": 17,
   "id": "6f289866",
   "metadata": {
    "execution": {
     "iopub.execute_input": "2022-03-21T12:17:49.083882Z",
     "iopub.status.busy": "2022-03-21T12:17:49.083154Z",
     "iopub.status.idle": "2022-03-21T12:17:49.106790Z",
     "shell.execute_reply": "2022-03-21T12:17:49.106131Z"
    },
    "papermill": {
     "duration": 0.047747,
     "end_time": "2022-03-21T12:17:49.106944",
     "exception": false,
     "start_time": "2022-03-21T12:17:49.059197",
     "status": "completed"
    },
    "tags": []
   },
   "outputs": [],
   "source": [
    "# add_dataset(\n",
    "#     labels=list(range(19)),\n",
    "#     domains = [0,1,2],\n",
    "#     num_examples_per_domain_per_label=100,\n",
    "#     pickle_path=os.path.join(get_datasets_base_path(), \"metehan.stratified_ds.2022A.pkl\"),\n",
    "#     source_or_target_dataset=\"target\",\n",
    "#     x_transform_func=global_x_transform_func,\n",
    "#     domain_modifier=lambda u: f\"met_{u}\"\n",
    "# )"
   ]
  },
  {
   "cell_type": "code",
   "execution_count": 18,
   "id": "86a863c3",
   "metadata": {
    "execution": {
     "iopub.execute_input": "2022-03-21T12:17:49.156940Z",
     "iopub.status.busy": "2022-03-21T12:17:49.156518Z",
     "iopub.status.idle": "2022-03-21T12:17:49.179566Z",
     "shell.execute_reply": "2022-03-21T12:17:49.178744Z"
    },
    "papermill": {
     "duration": 0.046725,
     "end_time": "2022-03-21T12:17:49.179721",
     "exception": false,
     "start_time": "2022-03-21T12:17:49.132996",
     "status": "completed"
    },
    "tags": []
   },
   "outputs": [],
   "source": [
    "# # from steves_utils.wisig.utils import (\n",
    "# #     ALL_NODES_MINIMUM_100_EXAMPLES,\n",
    "# #     ALL_NODES_MINIMUM_500_EXAMPLES,\n",
    "# #     ALL_NODES_MINIMUM_1000_EXAMPLES,\n",
    "# #     ALL_DAYS\n",
    "# # )\n",
    "\n",
    "# import steves_utils.wisig.utils as wisig\n",
    "\n",
    "\n",
    "# add_dataset(\n",
    "#     labels=wisig.ALL_NODES_MINIMUM_100_EXAMPLES,\n",
    "#     domains = wisig.ALL_DAYS,\n",
    "#     num_examples_per_domain_per_label=100,\n",
    "#     pickle_path=os.path.join(get_datasets_base_path(), \"wisig.node3-19.stratified_ds.2022A.pkl\"),\n",
    "#     source_or_target_dataset=\"target\",\n",
    "#     x_transform_func=global_x_transform_func,\n",
    "#     domain_modifier=lambda u: f\"wisig_{u}\"\n",
    "# )"
   ]
  },
  {
   "cell_type": "code",
   "execution_count": 19,
   "id": "fd5442bc",
   "metadata": {
    "execution": {
     "iopub.execute_input": "2022-03-21T12:17:49.238018Z",
     "iopub.status.busy": "2022-03-21T12:17:49.237362Z",
     "iopub.status.idle": "2022-03-21T12:17:49.258308Z",
     "shell.execute_reply": "2022-03-21T12:17:49.257520Z"
    },
    "papermill": {
     "duration": 0.050892,
     "end_time": "2022-03-21T12:17:49.258464",
     "exception": false,
     "start_time": "2022-03-21T12:17:49.207572",
     "status": "completed"
    },
    "tags": []
   },
   "outputs": [],
   "source": [
    "###################################\n",
    "# Build the dataset\n",
    "###################################\n",
    "train_original_source = Iterable_Aggregator(train_original_source, p.seed)\n",
    "val_original_source = Iterable_Aggregator(val_original_source, p.seed)\n",
    "test_original_source = Iterable_Aggregator(test_original_source, p.seed)\n",
    "\n",
    "\n",
    "train_original_target = Iterable_Aggregator(train_original_target, p.seed)\n",
    "val_original_target = Iterable_Aggregator(val_original_target, p.seed)\n",
    "test_original_target = Iterable_Aggregator(test_original_target, p.seed)\n",
    "\n",
    "# For CNN We only use X and Y. And we only train on the source.\n",
    "# Properly form the data using a transform lambda and Lazy_Iterable_Wrapper. Finally wrap them in a dataloader\n",
    "\n",
    "transform_lambda = lambda ex: ex[1] # Original is (<domain>, <episode>) so we strip down to episode only\n",
    "\n",
    "train_processed_source = Lazy_Iterable_Wrapper(train_original_source, transform_lambda)\n",
    "val_processed_source   = Lazy_Iterable_Wrapper(val_original_source, transform_lambda)\n",
    "test_processed_source  = Lazy_Iterable_Wrapper(test_original_source, transform_lambda)\n",
    "\n",
    "train_processed_target = Lazy_Iterable_Wrapper(train_original_target, transform_lambda)\n",
    "val_processed_target   = Lazy_Iterable_Wrapper(val_original_target, transform_lambda)\n",
    "test_processed_target  = Lazy_Iterable_Wrapper(test_original_target, transform_lambda)\n",
    "\n",
    "datasets = EasyDict({\n",
    "    \"source\": {\n",
    "        \"original\": {\"train\":train_original_source, \"val\":val_original_source, \"test\":test_original_source},\n",
    "        \"processed\": {\"train\":train_processed_source, \"val\":val_processed_source, \"test\":test_processed_source}\n",
    "    },\n",
    "    \"target\": {\n",
    "        \"original\": {\"train\":train_original_target, \"val\":val_original_target, \"test\":test_original_target},\n",
    "        \"processed\": {\"train\":train_processed_target, \"val\":val_processed_target, \"test\":test_processed_target}\n",
    "    },\n",
    "})"
   ]
  },
  {
   "cell_type": "code",
   "execution_count": 20,
   "id": "5b3c01fc",
   "metadata": {
    "execution": {
     "iopub.execute_input": "2022-03-21T12:17:49.309166Z",
     "iopub.status.busy": "2022-03-21T12:17:49.308535Z",
     "iopub.status.idle": "2022-03-21T12:18:04.328960Z",
     "shell.execute_reply": "2022-03-21T12:18:04.328220Z"
    },
    "papermill": {
     "duration": 15.044819,
     "end_time": "2022-03-21T12:18:04.329132",
     "exception": false,
     "start_time": "2022-03-21T12:17:49.284313",
     "status": "completed"
    },
    "tags": []
   },
   "outputs": [
    {
     "name": "stdout",
     "output_type": "stream",
     "text": [
      "{'ORACLE.run1_8', 'ORACLE.run1_38', 'ORACLE.run1_50', 'ORACLE.run1_32', 'ORACLE.run1_14', 'ORACLE.run1_44', 'ORACLE.run1_20', 'ORACLE.run1_26'}\n"
     ]
    },
    {
     "name": "stdout",
     "output_type": "stream",
     "text": [
      "{'CORES_1', 'CORES_2', 'CORES_3', 'CORES_5', 'CORES_4'}\n"
     ]
    },
    {
     "name": "stdout",
     "output_type": "stream",
     "text": [
      "tensor([[[-0.0013,  0.0068, -0.0012,  ..., -0.0069,  0.0031,  0.0037],\n",
      "         [-0.0027,  0.0023,  0.0033,  ..., -0.0003, -0.0062, -0.0068]],\n",
      "\n",
      "        [[ 0.0003,  0.0075, -0.0019,  ..., -0.0059, -0.0003, -0.0047],\n",
      "         [-0.0026, -0.0019,  0.0040,  ...,  0.0021, -0.0082, -0.0054]],\n",
      "\n",
      "        [[-0.0045, -0.0010,  0.0059,  ..., -0.0004, -0.0087,  0.0002],\n",
      "         [-0.0027, -0.0060,  0.0040,  ...,  0.0053,  0.0020,  0.0089]],\n",
      "\n",
      "        ...,\n",
      "\n",
      "        [[ 0.0006,  0.0037, -0.0006,  ..., -0.0046, -0.0049, -0.0058],\n",
      "         [-0.0050, -0.0015,  0.0073,  ...,  0.0005, -0.0057,  0.0046]],\n",
      "\n",
      "        [[-0.0014,  0.0061,  0.0001,  ..., -0.0058,  0.0011,  0.0016],\n",
      "         [-0.0027,  0.0002,  0.0035,  ...,  0.0014, -0.0059, -0.0058]],\n",
      "\n",
      "        [[-0.0042, -0.0043,  0.0056,  ...,  0.0034, -0.0011,  0.0072],\n",
      "         [ 0.0029, -0.0009, -0.0042,  ...,  0.0030,  0.0071,  0.0013]]])\n"
     ]
    }
   ],
   "source": [
    "from steves_utils.transforms import get_average_magnitude, get_average_power\n",
    "\n",
    "print(set([u for u,_ in val_original_source]))\n",
    "print(set([u for u,_ in val_original_target]))\n",
    "\n",
    "s_x, s_y, q_x, q_y, _ = next(iter(train_processed_source))\n",
    "print(s_x)\n",
    "\n",
    "# for ds in [\n",
    "#     train_processed_source,\n",
    "#     val_processed_source,\n",
    "#     test_processed_source,\n",
    "#     train_processed_target,\n",
    "#     val_processed_target,\n",
    "#     test_processed_target\n",
    "# ]:\n",
    "#     for s_x, s_y, q_x, q_y, _ in ds:\n",
    "#         for X in (s_x, q_x):\n",
    "#             for x in X:\n",
    "#                 assert np.isclose(get_average_magnitude(x.numpy()), 1.0)\n",
    "#                 assert np.isclose(get_average_power(x.numpy()), 1.0)\n",
    "                "
   ]
  },
  {
   "cell_type": "code",
   "execution_count": 21,
   "id": "bbdacba1",
   "metadata": {
    "execution": {
     "iopub.execute_input": "2022-03-21T12:18:04.383261Z",
     "iopub.status.busy": "2022-03-21T12:18:04.382700Z",
     "iopub.status.idle": "2022-03-21T12:18:04.668146Z",
     "shell.execute_reply": "2022-03-21T12:18:04.667517Z"
    },
    "papermill": {
     "duration": 0.312633,
     "end_time": "2022-03-21T12:18:04.668306",
     "exception": false,
     "start_time": "2022-03-21T12:18:04.355673",
     "status": "completed"
    },
    "tags": []
   },
   "outputs": [
    {
     "name": "stdout",
     "output_type": "stream",
     "text": [
      "(2, 256)\n"
     ]
    }
   ],
   "source": [
    "###################################\n",
    "# Build the model\n",
    "###################################\n",
    "# easfsl only wants a tuple for the shape\n",
    "model = Steves_Prototypical_Network(x_net, device=p.device, x_shape=tuple(p.x_shape))\n",
    "optimizer = Adam(params=model.parameters(), lr=p.lr)"
   ]
  },
  {
   "cell_type": "code",
   "execution_count": 22,
   "id": "22b39ac5",
   "metadata": {
    "execution": {
     "iopub.execute_input": "2022-03-21T12:18:04.728021Z",
     "iopub.status.busy": "2022-03-21T12:18:04.727636Z",
     "iopub.status.idle": "2022-03-21T12:39:45.678332Z",
     "shell.execute_reply": "2022-03-21T12:39:45.677981Z"
    },
    "papermill": {
     "duration": 1300.978679,
     "end_time": "2022-03-21T12:39:45.678423",
     "exception": false,
     "start_time": "2022-03-21T12:18:04.699744",
     "status": "completed"
    },
    "tags": []
   },
   "outputs": [
    {
     "name": "stdout",
     "output_type": "stream",
     "text": [
      "epoch: 1, [batch: 1 / 6720], examples_per_second: 33.8956, train_label_loss: 2.8349, \n"
     ]
    },
    {
     "name": "stdout",
     "output_type": "stream",
     "text": [
      "epoch: 1, [batch: 672 / 6720], examples_per_second: 2797.0417, train_label_loss: 0.4085, \n"
     ]
    },
    {
     "name": "stdout",
     "output_type": "stream",
     "text": [
      "epoch: 1, [batch: 1344 / 6720], examples_per_second: 2806.0528, train_label_loss: 0.5268, \n"
     ]
    },
    {
     "name": "stdout",
     "output_type": "stream",
     "text": [
      "epoch: 1, [batch: 2016 / 6720], examples_per_second: 2699.6681, train_label_loss: 0.8909, \n"
     ]
    },
    {
     "name": "stdout",
     "output_type": "stream",
     "text": [
      "epoch: 1, [batch: 2688 / 6720], examples_per_second: 2337.2102, train_label_loss: 0.5310, \n"
     ]
    },
    {
     "name": "stdout",
     "output_type": "stream",
     "text": [
      "epoch: 1, [batch: 3360 / 6720], examples_per_second: 2325.8499, train_label_loss: 0.3633, \n"
     ]
    },
    {
     "name": "stdout",
     "output_type": "stream",
     "text": [
      "epoch: 1, [batch: 4032 / 6720], examples_per_second: 2304.8260, train_label_loss: 0.3697, \n"
     ]
    },
    {
     "name": "stdout",
     "output_type": "stream",
     "text": [
      "epoch: 1, [batch: 4704 / 6720], examples_per_second: 2330.7691, train_label_loss: 0.2710, \n"
     ]
    },
    {
     "name": "stdout",
     "output_type": "stream",
     "text": [
      "epoch: 1, [batch: 5376 / 6720], examples_per_second: 2303.6253, train_label_loss: 0.2769, \n"
     ]
    },
    {
     "name": "stdout",
     "output_type": "stream",
     "text": [
      "epoch: 1, [batch: 6048 / 6720], examples_per_second: 2306.9142, train_label_loss: 0.1586, \n"
     ]
    },
    {
     "name": "stdout",
     "output_type": "stream",
     "text": [
      "=============================================================\n",
      "epoch: 1, source_val_acc_label: 0.6668, target_val_acc_label: 0.9236, source_val_label_loss: 122.8557, target_val_label_loss: 568.5656, \n",
      "=============================================================\n"
     ]
    },
    {
     "name": "stdout",
     "output_type": "stream",
     "text": [
      "New best\n"
     ]
    },
    {
     "name": "stdout",
     "output_type": "stream",
     "text": [
      "epoch: 2, [batch: 1 / 6720], examples_per_second: 2.3144, train_label_loss: 214.2908, \n"
     ]
    },
    {
     "name": "stdout",
     "output_type": "stream",
     "text": [
      "epoch: 2, [batch: 672 / 6720], examples_per_second: 3139.8552, train_label_loss: 0.3093, \n"
     ]
    },
    {
     "name": "stdout",
     "output_type": "stream",
     "text": [
      "epoch: 2, [batch: 1344 / 6720], examples_per_second: 3187.9529, train_label_loss: 1.8583, \n"
     ]
    },
    {
     "name": "stdout",
     "output_type": "stream",
     "text": [
      "epoch: 2, [batch: 2016 / 6720], examples_per_second: 3000.5132, train_label_loss: 0.1642, \n"
     ]
    },
    {
     "name": "stdout",
     "output_type": "stream",
     "text": [
      "epoch: 2, [batch: 2688 / 6720], examples_per_second: 2819.4295, train_label_loss: 0.4955, \n"
     ]
    },
    {
     "name": "stdout",
     "output_type": "stream",
     "text": [
      "epoch: 2, [batch: 3360 / 6720], examples_per_second: 2709.4412, train_label_loss: 0.3284, \n"
     ]
    },
    {
     "name": "stdout",
     "output_type": "stream",
     "text": [
      "epoch: 2, [batch: 4032 / 6720], examples_per_second: 2984.2222, train_label_loss: 1.0646, \n"
     ]
    },
    {
     "name": "stdout",
     "output_type": "stream",
     "text": [
      "epoch: 2, [batch: 4704 / 6720], examples_per_second: 2386.0850, train_label_loss: 0.3331, \n"
     ]
    },
    {
     "name": "stdout",
     "output_type": "stream",
     "text": [
      "epoch: 2, [batch: 5376 / 6720], examples_per_second: 2301.4720, train_label_loss: 0.2466, \n"
     ]
    },
    {
     "name": "stdout",
     "output_type": "stream",
     "text": [
      "epoch: 2, [batch: 6048 / 6720], examples_per_second: 2322.6338, train_label_loss: 0.1791, \n"
     ]
    },
    {
     "name": "stdout",
     "output_type": "stream",
     "text": [
      "=============================================================\n",
      "epoch: 2, source_val_acc_label: 0.9051, target_val_acc_label: 0.7402, source_val_label_loss: 0.2747, target_val_label_loss: 100.4973, \n",
      "=============================================================\n"
     ]
    },
    {
     "name": "stdout",
     "output_type": "stream",
     "text": [
      "epoch: 3, [batch: 1 / 6720], examples_per_second: 2.1359, train_label_loss: 0.5473, \n"
     ]
    },
    {
     "name": "stdout",
     "output_type": "stream",
     "text": [
      "epoch: 3, [batch: 672 / 6720], examples_per_second: 2770.2122, train_label_loss: 0.0300, \n"
     ]
    },
    {
     "name": "stdout",
     "output_type": "stream",
     "text": [
      "epoch: 3, [batch: 1344 / 6720], examples_per_second: 2864.3725, train_label_loss: 0.1654, \n"
     ]
    },
    {
     "name": "stdout",
     "output_type": "stream",
     "text": [
      "epoch: 3, [batch: 2016 / 6720], examples_per_second: 2655.1808, train_label_loss: 0.5376, \n"
     ]
    },
    {
     "name": "stdout",
     "output_type": "stream",
     "text": [
      "epoch: 3, [batch: 2688 / 6720], examples_per_second: 2395.6630, train_label_loss: 0.2225, \n"
     ]
    },
    {
     "name": "stdout",
     "output_type": "stream",
     "text": [
      "epoch: 3, [batch: 3360 / 6720], examples_per_second: 2341.4462, train_label_loss: 0.0472, \n"
     ]
    },
    {
     "name": "stdout",
     "output_type": "stream",
     "text": [
      "epoch: 3, [batch: 4032 / 6720], examples_per_second: 2344.3664, train_label_loss: 0.1705, \n"
     ]
    },
    {
     "name": "stdout",
     "output_type": "stream",
     "text": [
      "epoch: 3, [batch: 4704 / 6720], examples_per_second: 2333.1125, train_label_loss: 0.2236, \n"
     ]
    },
    {
     "name": "stdout",
     "output_type": "stream",
     "text": [
      "epoch: 3, [batch: 5376 / 6720], examples_per_second: 2325.4228, train_label_loss: 0.1600, \n"
     ]
    },
    {
     "name": "stdout",
     "output_type": "stream",
     "text": [
      "epoch: 3, [batch: 6048 / 6720], examples_per_second: 2330.9620, train_label_loss: 0.2473, \n"
     ]
    },
    {
     "name": "stdout",
     "output_type": "stream",
     "text": [
      "=============================================================\n",
      "epoch: 3, source_val_acc_label: 0.9220, target_val_acc_label: 0.7147, source_val_label_loss: 0.2344, target_val_label_loss: 90.2413, \n",
      "=============================================================\n"
     ]
    },
    {
     "name": "stdout",
     "output_type": "stream",
     "text": [
      "epoch: 4, [batch: 1 / 6720], examples_per_second: 2.1610, train_label_loss: 0.0639, \n"
     ]
    },
    {
     "name": "stdout",
     "output_type": "stream",
     "text": [
      "epoch: 4, [batch: 672 / 6720], examples_per_second: 2682.3358, train_label_loss: 0.0924, \n"
     ]
    },
    {
     "name": "stdout",
     "output_type": "stream",
     "text": [
      "epoch: 4, [batch: 1344 / 6720], examples_per_second: 2861.2115, train_label_loss: 0.5554, \n"
     ]
    },
    {
     "name": "stdout",
     "output_type": "stream",
     "text": [
      "epoch: 4, [batch: 2016 / 6720], examples_per_second: 2563.8463, train_label_loss: 0.0896, \n"
     ]
    },
    {
     "name": "stdout",
     "output_type": "stream",
     "text": [
      "epoch: 4, [batch: 2688 / 6720], examples_per_second: 2388.6696, train_label_loss: 0.2816, \n"
     ]
    },
    {
     "name": "stdout",
     "output_type": "stream",
     "text": [
      "epoch: 4, [batch: 3360 / 6720], examples_per_second: 2309.9538, train_label_loss: 0.0456, \n"
     ]
    },
    {
     "name": "stdout",
     "output_type": "stream",
     "text": [
      "epoch: 4, [batch: 4032 / 6720], examples_per_second: 2315.8145, train_label_loss: 0.1056, \n"
     ]
    },
    {
     "name": "stdout",
     "output_type": "stream",
     "text": [
      "epoch: 4, [batch: 4704 / 6720], examples_per_second: 2320.9511, train_label_loss: 0.1730, \n"
     ]
    },
    {
     "name": "stdout",
     "output_type": "stream",
     "text": [
      "epoch: 4, [batch: 5376 / 6720], examples_per_second: 2309.4151, train_label_loss: 0.1309, \n"
     ]
    },
    {
     "name": "stdout",
     "output_type": "stream",
     "text": [
      "epoch: 4, [batch: 6048 / 6720], examples_per_second: 2316.1793, train_label_loss: 0.2826, \n"
     ]
    },
    {
     "name": "stdout",
     "output_type": "stream",
     "text": [
      "=============================================================\n",
      "epoch: 4, source_val_acc_label: 0.9349, target_val_acc_label: 0.8195, source_val_label_loss: 0.1909, target_val_label_loss: 37.7901, \n",
      "=============================================================\n"
     ]
    },
    {
     "name": "stdout",
     "output_type": "stream",
     "text": [
      "epoch: 5, [batch: 1 / 6720], examples_per_second: 2.1519, train_label_loss: 0.1586, \n"
     ]
    },
    {
     "name": "stdout",
     "output_type": "stream",
     "text": [
      "epoch: 5, [batch: 672 / 6720], examples_per_second: 2818.2362, train_label_loss: 0.4679, \n"
     ]
    },
    {
     "name": "stdout",
     "output_type": "stream",
     "text": [
      "epoch: 5, [batch: 1344 / 6720], examples_per_second: 3022.1484, train_label_loss: 0.3476, \n"
     ]
    },
    {
     "name": "stdout",
     "output_type": "stream",
     "text": [
      "epoch: 5, [batch: 2016 / 6720], examples_per_second: 3000.1744, train_label_loss: 0.2909, \n"
     ]
    },
    {
     "name": "stdout",
     "output_type": "stream",
     "text": [
      "epoch: 5, [batch: 2688 / 6720], examples_per_second: 2771.5316, train_label_loss: 0.0775, \n"
     ]
    },
    {
     "name": "stdout",
     "output_type": "stream",
     "text": [
      "epoch: 5, [batch: 3360 / 6720], examples_per_second: 2601.7620, train_label_loss: 0.2844, \n"
     ]
    },
    {
     "name": "stdout",
     "output_type": "stream",
     "text": [
      "epoch: 5, [batch: 4032 / 6720], examples_per_second: 2657.7200, train_label_loss: 0.0980, \n"
     ]
    },
    {
     "name": "stdout",
     "output_type": "stream",
     "text": [
      "epoch: 5, [batch: 4704 / 6720], examples_per_second: 2655.2461, train_label_loss: 0.1781, \n"
     ]
    },
    {
     "name": "stdout",
     "output_type": "stream",
     "text": [
      "epoch: 5, [batch: 5376 / 6720], examples_per_second: 2615.0883, train_label_loss: 0.0574, \n"
     ]
    },
    {
     "name": "stdout",
     "output_type": "stream",
     "text": [
      "epoch: 5, [batch: 6048 / 6720], examples_per_second: 2553.9953, train_label_loss: 0.2944, \n"
     ]
    },
    {
     "name": "stdout",
     "output_type": "stream",
     "text": [
      "=============================================================\n",
      "epoch: 5, source_val_acc_label: 0.9224, target_val_acc_label: 0.8324, source_val_label_loss: 0.2169, target_val_label_loss: 38.3122, \n",
      "=============================================================\n"
     ]
    },
    {
     "name": "stdout",
     "output_type": "stream",
     "text": [
      "Patience (3) exhausted\n"
     ]
    }
   ],
   "source": [
    "###################################\n",
    "# train\n",
    "###################################\n",
    "jig = PTN_Train_Eval_Test_Jig(model, p.BEST_MODEL_PATH, p.device)\n",
    "\n",
    "jig.train(\n",
    "    train_iterable=datasets.source.processed.train,\n",
    "    source_val_iterable=datasets.source.processed.val,\n",
    "    target_val_iterable=datasets.target.processed.val,\n",
    "    num_epochs=p.n_epoch,\n",
    "    num_logs_per_epoch=p.NUM_LOGS_PER_EPOCH,\n",
    "    patience=p.patience,\n",
    "    optimizer=optimizer,\n",
    "    criteria_for_best=p.criteria_for_best,\n",
    ")"
   ]
  },
  {
   "cell_type": "code",
   "execution_count": 23,
   "id": "31e8fabf",
   "metadata": {
    "execution": {
     "iopub.execute_input": "2022-03-21T12:39:45.762109Z",
     "iopub.status.busy": "2022-03-21T12:39:45.761401Z",
     "iopub.status.idle": "2022-03-21T12:39:45.795823Z",
     "shell.execute_reply": "2022-03-21T12:39:45.795091Z"
    },
    "papermill": {
     "duration": 0.078813,
     "end_time": "2022-03-21T12:39:45.796008",
     "exception": false,
     "start_time": "2022-03-21T12:39:45.717195",
     "status": "completed"
    },
    "tags": []
   },
   "outputs": [],
   "source": [
    "total_experiment_time_secs = time.time() - start_time_secs"
   ]
  },
  {
   "cell_type": "code",
   "execution_count": 24,
   "id": "87b9595b",
   "metadata": {
    "execution": {
     "iopub.execute_input": "2022-03-21T12:39:45.886576Z",
     "iopub.status.busy": "2022-03-21T12:39:45.885668Z",
     "iopub.status.idle": "2022-03-21T12:43:10.059279Z",
     "shell.execute_reply": "2022-03-21T12:43:10.058499Z"
    },
    "papermill": {
     "duration": 204.220163,
     "end_time": "2022-03-21T12:43:10.059463",
     "exception": false,
     "start_time": "2022-03-21T12:39:45.839300",
     "status": "completed"
    },
    "tags": []
   },
   "outputs": [],
   "source": [
    "###################################\n",
    "# Evaluate the model\n",
    "###################################\n",
    "source_test_label_accuracy, source_test_label_loss = jig.test(datasets.source.processed.test)\n",
    "target_test_label_accuracy, target_test_label_loss = jig.test(datasets.target.processed.test)\n",
    "\n",
    "source_val_label_accuracy, source_val_label_loss = jig.test(datasets.source.processed.val)\n",
    "target_val_label_accuracy, target_val_label_loss = jig.test(datasets.target.processed.val)\n",
    "\n",
    "history = jig.get_history()\n",
    "\n",
    "total_epochs_trained = len(history[\"epoch_indices\"])\n",
    "\n",
    "val_dl = Iterable_Aggregator((datasets.source.original.val,datasets.target.original.val))\n",
    "\n",
    "confusion = ptn_confusion_by_domain_over_dataloader(model, p.device, val_dl)\n",
    "per_domain_accuracy = per_domain_accuracy_from_confusion(confusion)\n",
    "\n",
    "# Add a key to per_domain_accuracy for if it was a source domain\n",
    "for domain, accuracy in per_domain_accuracy.items():\n",
    "    per_domain_accuracy[domain] = {\n",
    "        \"accuracy\": accuracy,\n",
    "        \"source?\": domain in p.domains_source\n",
    "    }\n",
    "\n",
    "# Do an independent accuracy assesment JUST TO BE SURE!\n",
    "# _source_test_label_accuracy = independent_accuracy_assesment(model, datasets.source.processed.test, p.device)\n",
    "# _target_test_label_accuracy = independent_accuracy_assesment(model, datasets.target.processed.test, p.device)\n",
    "# _source_val_label_accuracy = independent_accuracy_assesment(model, datasets.source.processed.val, p.device)\n",
    "# _target_val_label_accuracy = independent_accuracy_assesment(model, datasets.target.processed.val, p.device)\n",
    "\n",
    "# assert(_source_test_label_accuracy == source_test_label_accuracy)\n",
    "# assert(_target_test_label_accuracy == target_test_label_accuracy)\n",
    "# assert(_source_val_label_accuracy == source_val_label_accuracy)\n",
    "# assert(_target_val_label_accuracy == target_val_label_accuracy)\n",
    "\n",
    "experiment = {\n",
    "    \"experiment_name\": p.experiment_name,\n",
    "    \"parameters\": dict(p),\n",
    "    \"results\": {\n",
    "        \"source_test_label_accuracy\": source_test_label_accuracy,\n",
    "        \"source_test_label_loss\": source_test_label_loss,\n",
    "        \"target_test_label_accuracy\": target_test_label_accuracy,\n",
    "        \"target_test_label_loss\": target_test_label_loss,\n",
    "        \"source_val_label_accuracy\": source_val_label_accuracy,\n",
    "        \"source_val_label_loss\": source_val_label_loss,\n",
    "        \"target_val_label_accuracy\": target_val_label_accuracy,\n",
    "        \"target_val_label_loss\": target_val_label_loss,\n",
    "        \"total_epochs_trained\": total_epochs_trained,\n",
    "        \"total_experiment_time_secs\": total_experiment_time_secs,\n",
    "        \"confusion\": confusion,\n",
    "        \"per_domain_accuracy\": per_domain_accuracy,\n",
    "    },\n",
    "    \"history\": history,\n",
    "    \"dataset_metrics\": get_dataset_metrics(datasets, \"ptn\"),\n",
    "}"
   ]
  },
  {
   "cell_type": "code",
   "execution_count": 25,
   "id": "54a21829",
   "metadata": {
    "execution": {
     "iopub.execute_input": "2022-03-21T12:43:10.147772Z",
     "iopub.status.busy": "2022-03-21T12:43:10.147381Z",
     "iopub.status.idle": "2022-03-21T12:43:10.357955Z",
     "shell.execute_reply": "2022-03-21T12:43:10.358625Z"
    },
    "papermill": {
     "duration": 0.253509,
     "end_time": "2022-03-21T12:43:10.358843",
     "exception": false,
     "start_time": "2022-03-21T12:43:10.105334",
     "status": "completed"
    },
    "tags": []
   },
   "outputs": [
    {
     "data": {
      "image/png": "[encoded data removed]",
      "text/plain": [
       "<Figure size 1080x504 with 1 Axes>"
      ]
     },
     "metadata": {
      "needs_background": "light"
     },
     "output_type": "display_data"
    }
   ],
   "source": [
    "ax = get_loss_curve(experiment)\n",
    "plt.show()"
   ]
  },
  {
   "cell_type": "code",
   "execution_count": 26,
   "id": "fd8a0f60",
   "metadata": {
    "execution": {
     "iopub.execute_input": "2022-03-21T12:43:10.443404Z",
     "iopub.status.busy": "2022-03-21T12:43:10.443043Z",
     "iopub.status.idle": "2022-03-21T12:43:10.777255Z",
     "shell.execute_reply": "2022-03-21T12:43:10.777650Z"
    },
    "papermill": {
     "duration": 0.377059,
     "end_time": "2022-03-21T12:43:10.777811",
     "exception": false,
     "start_time": "2022-03-21T12:43:10.400752",
     "status": "completed"
    },
    "tags": []
   },
   "outputs": [
    {
     "data": {
      "text/plain": [
       "<AxesSubplot:title={'center':'Results'}>"
      ]
     },
     "execution_count": 26,
     "metadata": {},
     "output_type": "execute_result"
    },
    {
     "data": {
      "image/png": "[encoded data removed]",
      "text/plain": [
       "<Figure size 1080x504 with 1 Axes>"
      ]
     },
     "metadata": {
      "needs_background": "light"
     },
     "output_type": "display_data"
    }
   ],
   "source": [
    "get_results_table(experiment)"
   ]
  },
  {
   "cell_type": "code",
   "execution_count": 27,
   "id": "cf8dc689",
   "metadata": {
    "execution": {
     "iopub.execute_input": "2022-03-21T12:43:10.860902Z",
     "iopub.status.busy": "2022-03-21T12:43:10.860545Z",
     "iopub.status.idle": "2022-03-21T12:43:11.133556Z",
     "shell.execute_reply": "2022-03-21T12:43:11.132794Z"
    },
    "papermill": {
     "duration": 0.315203,
     "end_time": "2022-03-21T12:43:11.133734",
     "exception": false,
     "start_time": "2022-03-21T12:43:10.818531",
     "status": "completed"
    },
    "tags": []
   },
   "outputs": [
    {
     "data": {
      "text/plain": [
       "<AxesSubplot:title={'center':'Per Domain Validation Accuracy'}, xlabel='domain'>"
      ]
     },
     "execution_count": 27,
     "metadata": {},
     "output_type": "execute_result"
    },
    {
     "data": {
      "image/png": "[encoded data removed]",
      "text/plain": [
       "<Figure size 1080x504 with 1 Axes>"
      ]
     },
     "metadata": {
      "needs_background": "light"
     },
     "output_type": "display_data"
    }
   ],
   "source": [
    "get_domain_accuracies(experiment)"
   ]
  },
  {
   "cell_type": "code",
   "execution_count": 28,
   "id": "a74ae082",
   "metadata": {
    "execution": {
     "iopub.execute_input": "2022-03-21T12:43:11.225563Z",
     "iopub.status.busy": "2022-03-21T12:43:11.225195Z",
     "iopub.status.idle": "2022-03-21T12:43:11.253660Z",
     "shell.execute_reply": "2022-03-21T12:43:11.252933Z"
    },
    "papermill": {
     "duration": 0.073266,
     "end_time": "2022-03-21T12:43:11.253830",
     "exception": false,
     "start_time": "2022-03-21T12:43:11.180564",
     "status": "completed"
    },
    "tags": []
   },
   "outputs": [
    {
     "name": "stdout",
     "output_type": "stream",
     "text": [
      "Source Test Label Accuracy: 0.6644205729166667 Target Test Label Accuracy: 0.9210876259798432\n",
      "Source Val Label Accuracy: 0.666796875 Target Val Label Accuracy: 0.9236270022883295\n"
     ]
    }
   ],
   "source": [
    "print(\"Source Test Label Accuracy:\", experiment[\"results\"][\"source_test_label_accuracy\"], \"Target Test Label Accuracy:\", experiment[\"results\"][\"target_test_label_accuracy\"])\n",
    "print(\"Source Val Label Accuracy:\", experiment[\"results\"][\"source_val_label_accuracy\"], \"Target Val Label Accuracy:\", experiment[\"results\"][\"target_val_label_accuracy\"])"
   ]
  },
  {
   "cell_type": "code",
   "execution_count": 29,
   "id": "dacca602",
   "metadata": {
    "execution": {
     "iopub.execute_input": "2022-03-21T12:43:11.347207Z",
     "iopub.status.busy": "2022-03-21T12:43:11.346811Z",
     "iopub.status.idle": "2022-03-21T12:43:11.375374Z",
     "shell.execute_reply": "2022-03-21T12:43:11.376075Z"
    },
    "papermill": {
     "duration": 0.073961,
     "end_time": "2022-03-21T12:43:11.376272",
     "exception": false,
     "start_time": "2022-03-21T12:43:11.302311",
     "status": "completed"
    },
    "tags": [
     "experiment_json"
    ]
   },
   "outputs": [
    {
     "data": {
      "text/plain": [
       "'{\"experiment_name\": \"tl_1v2:cores-oracle.run1.framed\", \"parameters\": {\"experiment_name\": \"tl_1v2:cores-oracle.run1.framed\", \"device\": \"cuda\", \"lr\": 0.0001, \"n_shot\": 3, \"n_query\": 2, \"train_k_factor\": 3, \"val_k_factor\": 2, \"test_k_factor\": 2, \"torch_default_dtype\": \"torch.float32\", \"n_epoch\": 50, \"patience\": 3, \"criteria_for_best\": \"target_accuracy\", \"x_net\": [{\"class\": \"nnReshape\", \"kargs\": {\"shape\": [-1, 1, 2, 256]}}, {\"class\": \"Conv2d\", \"kargs\": {\"in_channels\": 1, \"out_channels\": 256, \"kernel_size\": [1, 7], \"bias\": false, \"padding\": [0, 3]}}, {\"class\": \"ReLU\", \"kargs\": {\"inplace\": true}}, {\"class\": \"BatchNorm2d\", \"kargs\": {\"num_features\": 256}}, {\"class\": \"Conv2d\", \"kargs\": {\"in_channels\": 256, \"out_channels\": 80, \"kernel_size\": [2, 7], \"bias\": true, \"padding\": [0, 3]}}, {\"class\": \"ReLU\", \"kargs\": {\"inplace\": true}}, {\"class\": \"BatchNorm2d\", \"kargs\": {\"num_features\": 80}}, {\"class\": \"Flatten\", \"kargs\": {}}, {\"class\": \"Linear\", \"kargs\": {\"in_features\": 20480, \"out_features\": 256}}, {\"class\": \"ReLU\", \"kargs\": {\"inplace\": true}}, {\"class\": \"BatchNorm1d\", \"kargs\": {\"num_features\": 256}}, {\"class\": \"Linear\", \"kargs\": {\"in_features\": 256, \"out_features\": 256}}], \"NUM_LOGS_PER_EPOCH\": 10, \"BEST_MODEL_PATH\": \"./best_model.pth\", \"n_way\": 16, \"datasets\": [{\"labels\": [\"1-10.\", \"1-11.\", \"1-15.\", \"1-16.\", \"1-17.\", \"1-18.\", \"1-19.\", \"10-4.\", \"10-7.\", \"11-1.\", \"11-14.\", \"11-17.\", \"11-20.\", \"11-7.\", \"13-20.\", \"13-8.\", \"14-10.\", \"14-11.\", \"14-14.\", \"14-7.\", \"15-1.\", \"15-20.\", \"16-1.\", \"16-16.\", \"17-10.\", \"17-11.\", \"17-2.\", \"19-1.\", \"19-16.\", \"19-19.\", \"19-20.\", \"19-3.\", \"2-10.\", \"2-11.\", \"2-17.\", \"2-18.\", \"2-20.\", \"2-3.\", \"2-4.\", \"2-5.\", \"2-6.\", \"2-7.\", \"2-8.\", \"3-13.\", \"3-18.\", \"3-3.\", \"4-1.\", \"4-10.\", \"4-11.\", \"4-19.\", \"5-5.\", \"6-15.\", \"7-10.\", \"7-14.\", \"8-18.\", \"8-20.\", \"8-3.\", \"8-8.\"], \"domains\": [1, 2, 3, 4, 5], \"num_examples_per_domain_per_label\": -1, \"pickle_path\": \"/root/csc500-main/datasets/cores.stratified_ds.2022A.pkl\", \"source_or_target_dataset\": \"target\", \"x_transforms\": [], \"episode_transforms\": [], \"domain_prefix\": \"CORES_\"}, {\"labels\": [\"3123D52\", \"3123D65\", \"3123D79\", \"3123D80\", \"3123D54\", \"3123D70\", \"3123D7B\", \"3123D89\", \"3123D58\", \"3123D76\", \"3123D7D\", \"3123EFE\", \"3123D64\", \"3123D78\", \"3123D7E\", \"3124E4A\"], \"domains\": [32, 38, 8, 44, 14, 50, 20, 26], \"num_examples_per_domain_per_label\": 2000, \"pickle_path\": \"/root/csc500-main/datasets/oracle.Run1_framed_2000Examples_stratified_ds.2022A.pkl\", \"source_or_target_dataset\": \"source\", \"x_transforms\": [], \"episode_transforms\": [], \"domain_prefix\": \"ORACLE.run1_\"}], \"dataset_seed\": 154325, \"seed\": 154325, \"x_shape\": [2, 256], \"domains_source\": [\"ORACLE.run1_32\", \"ORACLE.run1_38\", \"ORACLE.run1_8\", \"ORACLE.run1_44\", \"ORACLE.run1_14\", \"ORACLE.run1_50\", \"ORACLE.run1_20\", \"ORACLE.run1_26\"], \"domains_target\": [\"CORES_1\", \"CORES_2\", \"CORES_3\", \"CORES_4\", \"CORES_5\"]}, \"results\": {\"source_test_label_accuracy\": 0.6644205729166667, \"source_test_label_loss\": 121.91546630859375, \"target_test_label_accuracy\": 0.9210876259798432, \"target_test_label_loss\": 596.1113891601562, \"source_val_label_accuracy\": 0.666796875, \"source_val_label_loss\": 122.85566711425781, \"target_val_label_accuracy\": 0.9236270022883295, \"target_val_label_loss\": 568.5655517578125, \"total_epochs_trained\": 5, \"total_experiment_time_secs\": 1321.0916695594788, \"confusion\": {\"ORACLE.run1_8\": {\"13\": {\"6\": 29, \"13\": 74, \"5\": 26, \"4\": 13, \"10\": 48, \"1\": 3, \"14\": 1, \"7\": 42, \"8\": 1, \"11\": 3}, \"9\": {\"9\": 226, \"3\": 7, \"2\": 6, \"15\": 1}, \"15\": {\"15\": 100, \"12\": 92, \"3\": 14, \"2\": 34}, \"2\": {\"2\": 111, \"3\": 62, \"15\": 37, \"12\": 26, \"9\": 4}, \"3\": {\"3\": 205, \"12\": 3, \"2\": 28, \"15\": 4}, \"8\": {\"11\": 26, \"8\": 158, \"6\": 8, \"7\": 8, \"1\": 30, \"4\": 4, \"14\": 5, \"5\": 1}, \"5\": {\"4\": 20, \"1\": 35, \"5\": 81, \"10\": 50, \"13\": 29, \"14\": 3, \"11\": 13, \"6\": 6, \"7\": 3}, \"14\": {\"14\": 137, \"6\": 8, \"4\": 71, \"11\": 7, \"13\": 2, \"10\": 5, \"0\": 7, \"5\": 2, \"7\": 1}, \"1\": {\"11\": 59, \"13\": 10, \"1\": 79, \"4\": 8, \"5\": 43, \"7\": 9, \"8\": 7, \"10\": 9, \"14\": 5, \"12\": 1, \"6\": 10}, \"0\": {\"0\": 226, \"14\": 14}, \"10\": {\"10\": 63, \"4\": 23, \"6\": 22, \"5\": 27, \"13\": 55, \"14\": 9, \"1\": 9, \"11\": 11, \"7\": 21}, \"6\": {\"6\": 47, \"10\": 35, \"7\": 37, \"4\": 33, \"13\": 42, \"5\": 6, \"1\": 14, \"11\": 12, \"14\": 11, \"8\": 3}, \"11\": {\"11\": 71, \"1\": 63, \"4\": 11, \"14\": 15, \"10\": 13, \"0\": 2, \"13\": 10, \"5\": 33, \"8\": 13, \"6\": 7, \"7\": 2}, \"7\": {\"13\": 65, \"10\": 20, \"7\": 57, \"6\": 56, \"1\": 9, \"5\": 3, \"4\": 18, \"11\": 5, \"14\": 6, \"8\": 1}, \"4\": {\"4\": 85, \"14\": 62, \"13\": 14, \"6\": 26, \"0\": 1, \"5\": 2, \"1\": 2, \"11\": 8, \"7\": 22, \"10\": 18}, \"12\": {\"12\": 110, \"15\": 96, \"13\": 1, \"3\": 12, \"2\": 19, \"11\": 1, \"7\": 1}}, \"ORACLE.run1_38\": {\"13\": {\"13\": 231, \"10\": 4, \"0\": 4, \"2\": 1}, \"12\": {\"12\": 240}, \"2\": {\"2\": 232, \"14\": 8}, \"9\": {\"9\": 240}, \"15\": {\"15\": 237, \"1\": 2, \"5\": 1}, \"5\": {\"5\": 137, \"8\": 63, \"7\": 21, \"9\": 12, \"0\": 2, \"15\": 3, \"13\": 2}, \"14\": {\"14\": 234, \"2\": 6}, \"0\": {\"7\": 24, \"0\": 108, \"10\": 73, \"13\": 29, \"8\": 5, \"5\": 1}, \"3\": {\"0\": 16, \"3\": 208, \"10\": 15, \"11\": 1}, \"1\": {\"1\": 240}, \"11\": {\"11\": 162, \"3\": 76, \"10\": 2}, \"7\": {\"7\": 233, \"8\": 6, \"5\": 1}, \"8\": {\"8\": 148, \"5\": 52, \"13\": 8, \"7\": 22, \"0\": 3, \"15\": 7}, \"4\": {\"4\": 240}, \"10\": {\"10\": 202, \"0\": 30, \"13\": 7, \"4\": 1}, \"6\": {\"6\": 240}}, \"ORACLE.run1_26\": {\"10\": {\"10\": 158, \"14\": 49, \"6\": 3, \"0\": 25, \"15\": 5}, \"12\": {\"9\": 50, \"12\": 152, \"7\": 4, \"8\": 12, \"4\": 6, \"13\": 10, \"3\": 6}, \"1\": {\"1\": 189, \"2\": 1, \"14\": 37, \"6\": 7, \"10\": 5, \"3\": 1}, \"0\": {\"0\": 158, \"10\": 42, \"14\": 27, \"8\": 13}, \"15\": {\"5\": 26, \"15\": 183, \"10\": 5, \"6\": 23, \"1\": 1, \"0\": 1, \"14\": 1}, \"13\": {\"13\": 122, \"3\": 20, \"4\": 24, \"12\": 4, \"9\": 47, \"2\": 13, \"8\": 2, \"7\": 8}, \"8\": {\"8\": 149, \"9\": 31, \"7\": 34, \"0\": 6, \"2\": 18, \"13\": 1, \"3\": 1}, \"3\": {\"3\": 126, \"7\": 56, \"12\": 7, \"9\": 12, \"4\": 15, \"2\": 7, \"13\": 15, \"8\": 2}, \"11\": {\"11\": 240}, \"4\": {\"3\": 63, \"13\": 58, \"4\": 81, \"12\": 3, \"9\": 16, \"7\": 14, \"14\": 4, \"8\": 1}, \"6\": {\"6\": 227, \"15\": 11, \"10\": 2}, \"7\": {\"7\": 130, \"2\": 31, \"9\": 18, \"13\": 3, \"3\": 12, \"8\": 40, \"4\": 6}, \"14\": {\"1\": 11, \"14\": 172, \"10\": 46, \"0\": 10, \"15\": 1}, \"2\": {\"2\": 135, \"7\": 41, \"0\": 9, \"3\": 9, \"8\": 20, \"9\": 18, \"12\": 2, \"15\": 1, \"4\": 2, \"13\": 3}, \"5\": {\"5\": 220, \"15\": 19, \"6\": 1}, \"9\": {\"9\": 118, \"8\": 54, \"2\": 18, \"7\": 20, \"13\": 21, \"3\": 6, \"0\": 1, \"4\": 1, \"12\": 1}}, \"ORACLE.run1_20\": {\"5\": {\"12\": 13, \"5\": 42, \"13\": 5, \"0\": 24, \"15\": 14, \"9\": 17, \"7\": 22, \"1\": 34, \"3\": 24, \"6\": 8, \"14\": 1, \"8\": 9, \"2\": 9, \"11\": 11, \"4\": 7}, \"15\": {\"15\": 52, \"13\": 60, \"1\": 25, \"5\": 15, \"7\": 17, \"9\": 15, \"2\": 19, \"12\": 31, \"3\": 4, \"10\": 1, \"4\": 1}, \"9\": {\"11\": 6, \"4\": 6, \"3\": 28, \"12\": 19, \"1\": 29, \"5\": 21, \"6\": 7, \"9\": 21, \"8\": 10, \"13\": 11, \"7\": 30, \"0\": 9, \"15\": 22, \"2\": 20, \"10\": 1}, \"7\": {\"5\": 23, \"6\": 18, \"1\": 23, \"3\": 20, \"2\": 21, \"12\": 17, \"8\": 6, \"15\": 11, \"9\": 29, \"0\": 7, \"7\": 29, \"13\": 14, \"11\": 4, \"10\": 4, \"4\": 14}, \"3\": {\"3\": 38, \"5\": 29, \"9\": 18, \"4\": 13, \"6\": 21, \"8\": 24, \"0\": 18, \"12\": 9, \"2\": 14, \"15\": 8, \"1\": 18, \"7\": 13, \"11\": 12, \"14\": 4, \"13\": 1}, \"8\": {\"5\": 9, \"6\": 21, \"8\": 80, \"9\": 3, \"11\": 32, \"3\": 24, \"0\": 28, \"14\": 26, \"1\": 3, \"4\": 8, \"7\": 5, \"2\": 1}, \"4\": {\"10\": 37, \"4\": 73, \"3\": 19, \"15\": 5, \"7\": 18, \"2\": 16, \"1\": 7, \"5\": 13, \"9\": 10, \"6\": 19, \"12\": 10, \"8\": 9, \"14\": 3, \"13\": 1}, \"6\": {\"6\": 56, \"10\": 31, \"8\": 35, \"4\": 28, \"3\": 12, \"13\": 1, \"11\": 5, \"14\": 24, \"1\": 9, \"7\": 14, \"0\": 2, \"2\": 8, \"9\": 8, \"5\": 3, \"12\": 4}, \"2\": {\"9\": 25, \"15\": 23, \"5\": 19, \"7\": 26, \"2\": 31, \"1\": 19, \"12\": 32, \"6\": 6, \"3\": 14, \"13\": 22, \"4\": 13, \"8\": 3, \"0\": 3, \"10\": 2, \"11\": 2}, \"12\": {\"7\": 23, \"9\": 20, \"12\": 44, \"5\": 20, \"1\": 20, \"2\": 27, \"13\": 26, \"15\": 28, \"4\": 10, \"0\": 1, \"3\": 15, \"10\": 3, \"11\": 1, \"6\": 1, \"8\": 1}, \"0\": {\"8\": 24, \"0\": 109, \"11\": 61, \"3\": 18, \"7\": 6, \"5\": 7, \"6\": 3, \"1\": 6, \"4\": 2, \"9\": 2, \"14\": 1, \"2\": 1}, \"13\": {\"9\": 11, \"13\": 86, \"2\": 22, \"12\": 31, \"15\": 68, \"7\": 10, \"4\": 1, \"1\": 7, \"5\": 3, \"3\": 1}, \"10\": {\"10\": 147, \"4\": 31, \"15\": 1, \"6\": 35, \"8\": 4, \"14\": 13, \"12\": 2, \"7\": 4, \"13\": 2, \"3\": 1}, \"11\": {\"8\": 16, \"3\": 6, \"11\": 154, \"0\": 46, \"2\": 2, \"9\": 2, \"14\": 3, \"5\": 7, \"1\": 3, \"7\": 1}, \"14\": {\"14\": 99, \"8\": 57, \"6\": 27, \"11\": 28, \"4\": 12, \"10\": 14, \"0\": 2, \"7\": 1}, \"1\": {\"1\": 35, \"5\": 37, \"4\": 2, \"12\": 23, \"2\": 27, \"15\": 23, \"13\": 10, \"3\": 23, \"9\": 18, \"7\": 20, \"6\": 5, \"11\": 4, \"8\": 2, \"0\": 11}}, \"ORACLE.run1_50\": {\"1\": {\"1\": 240}, \"2\": {\"2\": 237, \"0\": 3}, \"8\": {\"8\": 239, \"10\": 1}, \"7\": {\"7\": 232, \"5\": 7, \"4\": 1}, \"14\": {\"14\": 240}, \"6\": {\"6\": 199, \"5\": 40, \"15\": 1}, \"3\": {\"3\": 240}, \"4\": {\"4\": 206, \"7\": 15, \"5\": 14, \"15\": 5}, \"12\": {\"12\": 236, \"9\": 4}, \"15\": {\"15\": 232, \"6\": 4, \"5\": 3, \"11\": 1}, \"11\": {\"11\": 236, \"15\": 1, \"12\": 2, \"9\": 1}, \"0\": {\"0\": 232, \"2\": 8}, \"9\": {\"11\": 2, \"9\": 221, \"12\": 17}, \"10\": {\"10\": 236, \"0\": 1, \"8\": 3}, \"5\": {\"6\": 38, \"1\": 4, \"4\": 13, \"7\": 65, \"5\": 104, \"13\": 10, \"15\": 6}, \"13\": {\"13\": 240}}, \"ORACLE.run1_32\": {\"2\": {\"2\": 214, \"4\": 26}, \"6\": {\"6\": 196, \"12\": 21, \"10\": 22, \"9\": 1}, \"5\": {\"5\": 120, \"14\": 8, \"0\": 60, \"7\": 29, \"8\": 23}, \"12\": {\"12\": 240}, \"13\": {\"4\": 23, \"13\": 197, \"3\": 18, \"11\": 2}, \"9\": {\"9\": 239, \"12\": 1}, \"11\": {\"11\": 240}, \"1\": {\"1\": 233, \"10\": 7}, \"3\": {\"3\": 237, \"13\": 3}, \"7\": {\"7\": 162, \"5\": 20, \"0\": 42, \"14\": 15, \"8\": 1}, \"14\": {\"14\": 162, \"7\": 56, \"0\": 6, \"8\": 1, \"5\": 9, \"2\": 1, \"4\": 3, \"3\": 1, \"13\": 1}, \"8\": {\"8\": 214, \"0\": 13, \"5\": 9, \"14\": 2, \"7\": 2}, \"4\": {\"4\": 216, \"2\": 24}, \"0\": {\"0\": 170, \"5\": 14, \"7\": 40, \"8\": 10, \"2\": 2, \"4\": 1, \"14\": 3}, \"10\": {\"10\": 226, \"12\": 13, \"1\": 1}, \"15\": {\"15\": 240}}, \"ORACLE.run1_44\": {\"13\": {\"13\": 198, \"6\": 34, \"9\": 8}, \"4\": {\"4\": 156, \"14\": 82, \"15\": 2}, \"6\": {\"6\": 177, \"13\": 50, \"9\": 12, \"7\": 1}, \"0\": {\"0\": 226, \"8\": 14}, \"10\": {\"10\": 236, \"1\": 2, \"7\": 1, \"2\": 1}, \"7\": {\"7\": 213, \"9\": 22, \"6\": 2, \"10\": 1, \"2\": 2}, \"14\": {\"14\": 179, \"4\": 52, \"5\": 4, \"15\": 5}, \"15\": {\"14\": 8, \"15\": 221, \"0\": 3, \"5\": 4, \"8\": 4}, \"5\": {\"5\": 227, \"15\": 8, \"14\": 4, \"8\": 1}, \"2\": {\"2\": 234, \"1\": 4, \"7\": 1, \"10\": 1}, \"9\": {\"9\": 137, \"13\": 19, \"7\": 57, \"6\": 27}, \"12\": {\"12\": 238, \"3\": 2}, \"8\": {\"8\": 163, \"0\": 69, \"15\": 4, \"5\": 4}, \"3\": {\"3\": 240}, \"1\": {\"1\": 234, \"2\": 5, \"10\": 1}, \"11\": {\"11\": 240}}, \"ORACLE.run1_14\": {\"1\": {\"1\": 172, \"10\": 18, \"9\": 7, \"4\": 40, \"7\": 2, \"2\": 1}, \"15\": {\"15\": 240}, \"10\": {\"5\": 33, \"7\": 18, \"4\": 45, \"10\": 81, \"2\": 10, \"1\": 37, \"8\": 1, \"9\": 9, \"13\": 2, \"0\": 1, \"12\": 1, \"14\": 1, \"3\": 1}, \"2\": {\"7\": 36, \"15\": 13, \"6\": 11, \"13\": 10, \"2\": 35, \"4\": 24, \"5\": 41, \"3\": 8, \"14\": 16, \"0\": 16, \"8\": 15, \"10\": 15}, \"9\": {\"9\": 178, \"10\": 16, \"1\": 11, \"12\": 31, \"11\": 1, \"8\": 2, \"4\": 1}, \"5\": {\"5\": 62, \"7\": 48, \"6\": 11, \"10\": 11, \"0\": 6, \"4\": 43, \"8\": 11, \"2\": 21, \"3\": 6, \"14\": 15, \"13\": 4, \"1\": 2}, \"7\": {\"5\": 49, \"7\": 55, \"4\": 37, \"13\": 7, \"0\": 17, \"10\": 10, \"2\": 29, \"8\": 8, \"3\": 8, \"6\": 7, \"14\": 10, \"1\": 2, \"15\": 1}, \"13\": {\"13\": 20, \"15\": 70, \"0\": 18, \"3\": 27, \"5\": 12, \"7\": 19, \"14\": 19, \"4\": 4, \"6\": 24, \"10\": 3, \"8\": 10, \"2\": 14}, \"8\": {\"2\": 15, \"13\": 11, \"4\": 18, \"6\": 15, \"0\": 26, \"15\": 14, \"5\": 22, \"14\": 17, \"12\": 16, \"3\": 29, \"8\": 34, \"7\": 17, \"10\": 4, \"1\": 1, \"9\": 1}, \"6\": {\"15\": 62, \"6\": 23, \"13\": 24, \"2\": 14, \"0\": 25, \"14\": 11, \"7\": 15, \"3\": 46, \"8\": 8, \"5\": 11, \"10\": 1}, \"3\": {\"2\": 10, \"15\": 81, \"14\": 10, \"0\": 29, \"5\": 10, \"13\": 20, \"3\": 43, \"6\": 18, \"8\": 10, \"7\": 7, \"4\": 2}, \"12\": {\"12\": 163, \"10\": 8, \"8\": 24, \"14\": 5, \"7\": 2, \"9\": 22, \"6\": 2, \"3\": 3, \"13\": 1, \"0\": 8, \"2\": 1, \"1\": 1}, \"0\": {\"6\": 21, \"14\": 11, \"3\": 48, \"0\": 31, \"7\": 15, \"5\": 11, \"15\": 50, \"13\": 24, \"4\": 5, \"8\": 10, \"2\": 10, \"12\": 2, \"10\": 2}, \"4\": {\"10\": 31, \"4\": 79, \"5\": 39, \"7\": 41, \"2\": 16, \"1\": 24, \"12\": 1, \"8\": 4, \"9\": 3, \"14\": 1, \"6\": 1}, \"14\": {\"7\": 27, \"5\": 9, \"2\": 28, \"0\": 26, \"13\": 23, \"3\": 20, \"4\": 5, \"6\": 42, \"14\": 24, \"8\": 12, \"15\": 21, \"10\": 3}, \"11\": {\"11\": 231, \"9\": 6, \"1\": 2, \"10\": 1}}, \"CORES_2\": {\"21\": {\"21\": 119, \"40\": 1}, \"4\": {\"4\": 128, \"9\": 2}, \"6\": {\"6\": 107, \"50\": 8, \"45\": 1, \"3\": 8}, \"10\": {\"10\": 112}, \"33\": {\"33\": 20, \"47\": 1, \"2\": 2, \"35\": 1, \"39\": 1, \"29\": 1, \"57\": 2}, \"56\": {\"56\": 117, \"0\": 2, \"22\": 3}, \"20\": {\"20\": 121, \"8\": 5, \"27\": 5, \"9\": 1}, \"24\": {\"24\": 95, \"43\": 1}, \"45\": {\"45\": 110, \"3\": 1, \"6\": 10, \"50\": 3, \"21\": 1, \"12\": 3}, \"32\": {\"32\": 25, \"35\": 1, \"36\": 2}, \"27\": {\"27\": 137, \"8\": 6, \"9\": 5}, \"53\": {\"53\": 136}, \"8\": {\"8\": 117, \"20\": 10, \"27\": 17, \"9\": 14, \"4\": 2}, \"54\": {\"54\": 108}, \"50\": {\"6\": 9, \"50\": 108, \"3\": 8, \"46\": 5, \"21\": 1, \"40\": 3}, \"44\": {\"44\": 97, \"46\": 2, \"5\": 1}, \"5\": {\"5\": 107, \"46\": 8, \"44\": 4, \"3\": 1}, \"38\": {\"38\": 20}, \"19\": {\"19\": 131, \"34\": 1}, \"1\": {\"1\": 98, \"41\": 2, \"47\": 5, \"29\": 4, \"57\": 3}, \"30\": {\"30\": 142, \"40\": 2}, \"15\": {\"15\": 134, \"16\": 8, \"11\": 2}, \"23\": {\"23\": 136, \"19\": 5, \"49\": 3, \"42\": 1, \"34\": 1}, \"35\": {\"35\": 27, \"55\": 1, \"54\": 1, \"17\": 1, \"7\": 1, \"36\": 1}, \"22\": {\"22\": 128}, \"40\": {\"40\": 135, \"30\": 1, \"46\": 2, \"21\": 2}, \"46\": {\"46\": 100, \"5\": 9, \"50\": 5, \"44\": 10, \"40\": 1, \"6\": 1}, \"3\": {\"3\": 72, \"6\": 9, \"44\": 2, \"46\": 2, \"50\": 6, \"21\": 1}, \"48\": {\"48\": 136, \"9\": 7, \"52\": 3, \"8\": 2}, \"52\": {\"52\": 120, \"30\": 4}, \"2\": {\"2\": 32}, \"26\": {\"26\": 23, \"53\": 1}, \"17\": {\"17\": 104}, \"55\": {\"55\": 142, \"7\": 2}, \"51\": {\"51\": 119, \"36\": 3}, \"42\": {\"42\": 34, \"49\": 1, \"39\": 1}, \"41\": {\"41\": 16, \"47\": 1, \"1\": 2, \"46\": 1}, \"31\": {\"31\": 26, \"43\": 2}, \"16\": {\"16\": 115, \"15\": 13, \"11\": 10}, \"36\": {\"36\": 115, \"54\": 1}, \"49\": {\"49\": 15, \"7\": 1, \"55\": 2, \"39\": 2, \"23\": 3, \"19\": 1}, \"0\": {\"0\": 48}, \"18\": {\"18\": 48}, \"25\": {\"25\": 122, \"15\": 17, \"16\": 2, \"19\": 3, \"11\": 1, \"34\": 1}, \"9\": {\"9\": 114, \"48\": 2, \"8\": 5, \"27\": 1}, \"47\": {\"47\": 122, \"29\": 4, \"1\": 1, \"57\": 5}, \"7\": {\"7\": 25, \"55\": 4, \"39\": 2, \"23\": 2, \"42\": 2, \"34\": 1}, \"37\": {\"37\": 35, \"33\": 1}, \"13\": {\"13\": 113, \"14\": 1, \"38\": 1, \"56\": 1}, \"14\": {\"14\": 20, \"56\": 1, \"13\": 3}, \"34\": {\"34\": 23, \"49\": 3, \"19\": 2}, \"57\": {\"57\": 131, \"29\": 6, \"47\": 3}, \"11\": {\"11\": 125, \"25\": 1, \"16\": 9, \"15\": 3}, \"39\": {\"39\": 23, \"13\": 1, \"2\": 1, \"55\": 2, \"14\": 1}, \"12\": {\"12\": 87, \"45\": 3, \"3\": 1, \"50\": 1}, \"28\": {\"28\": 28}, \"29\": {\"29\": 101, \"1\": 8, \"57\": 12, \"13\": 1, \"52\": 2, \"56\": 1, \"2\": 1, \"47\": 2}, \"43\": {\"43\": 131, \"11\": 1, \"24\": 6, \"15\": 1, \"23\": 1}}, \"CORES_5\": {\"12\": {\"12\": 92, \"30\": 1, \"4\": 2, \"45\": 1}, \"8\": {\"48\": 10, \"8\": 113, \"27\": 14, \"20\": 4, \"1\": 1}, \"29\": {\"29\": 132}, \"57\": {\"57\": 124, \"52\": 1, \"47\": 1}, \"38\": {\"8\": 1, \"38\": 29, \"7\": 1, \"26\": 1}, \"23\": {\"23\": 109, \"19\": 11, \"54\": 3, \"42\": 1}, \"56\": {\"56\": 134, \"0\": 4}, \"49\": {\"49\": 36}, \"4\": {\"4\": 97, \"30\": 2, \"9\": 1}, \"48\": {\"48\": 101, \"1\": 16, \"20\": 11, \"8\": 5, \"9\": 1, \"27\": 2}, \"21\": {\"21\": 143, \"46\": 1}, \"30\": {\"30\": 125, \"9\": 3}, \"1\": {\"1\": 148}, \"34\": {\"34\": 32, \"49\": 2, \"35\": 1, \"33\": 1}, \"35\": {\"35\": 33, \"36\": 1, \"43\": 1, \"49\": 1}, \"55\": {\"55\": 150, \"53\": 2}, \"5\": {\"5\": 121, \"3\": 1}, \"52\": {\"52\": 126}, \"6\": {\"6\": 115, \"50\": 6, \"45\": 7}, \"36\": {\"36\": 92}, \"41\": {\"41\": 18, \"33\": 1, \"47\": 1, \"39\": 1, \"35\": 2, \"27\": 2, \"56\": 1, \"29\": 1, \"32\": 1}, \"3\": {\"3\": 82, \"0\": 1, \"44\": 6, \"46\": 3, \"5\": 2, \"40\": 5, \"22\": 1}, \"28\": {\"28\": 32}, \"18\": {\"18\": 64}, \"25\": {\"25\": 124, \"16\": 3, \"19\": 2, \"11\": 5, \"53\": 2}, \"47\": {\"47\": 96, \"57\": 4}, \"13\": {\"13\": 152, \"29\": 5, \"56\": 2, \"36\": 1}, \"11\": {\"11\": 140, \"15\": 3, \"16\": 1}, \"53\": {\"53\": 140, \"19\": 1, \"54\": 2, \"55\": 1}, \"33\": {\"33\": 31, \"29\": 1}, \"46\": {\"46\": 140, \"22\": 2, \"0\": 1, \"40\": 4, \"3\": 1}, \"50\": {\"50\": 137, \"4\": 2, \"5\": 1, \"6\": 5, \"45\": 3}, \"10\": {\"10\": 68}, \"15\": {\"15\": 124, \"16\": 12, \"11\": 2}, \"44\": {\"44\": 138, \"3\": 1, \"40\": 1}, \"2\": {\"2\": 15, \"33\": 1, \"43\": 7, \"49\": 1, \"37\": 1, \"14\": 1, \"13\": 1, \"42\": 1}, \"7\": {\"7\": 31, \"51\": 1}, \"43\": {\"43\": 132, \"2\": 3, \"37\": 1, \"42\": 1, \"36\": 1}, \"32\": {\"32\": 31, \"39\": 1}, \"0\": {\"0\": 124}, \"39\": {\"32\": 1, \"39\": 18, \"41\": 1}, \"26\": {\"53\": 4, \"17\": 3, \"26\": 15, \"38\": 2}, \"27\": {\"27\": 102, \"8\": 9, \"48\": 1}, \"54\": {\"54\": 109, \"23\": 1, \"19\": 2}, \"17\": {\"17\": 116}, \"14\": {\"14\": 41, \"36\": 2, \"13\": 1}, \"16\": {\"16\": 133, \"15\": 13, \"11\": 2}, \"9\": {\"9\": 134, \"4\": 3, \"30\": 7, \"40\": 2, \"5\": 1, \"21\": 1}, \"19\": {\"19\": 150, \"42\": 1, \"23\": 1}, \"20\": {\"20\": 121, \"48\": 12, \"21\": 1, \"1\": 4}, \"37\": {\"2\": 4, \"37\": 16, \"13\": 1, \"14\": 1, \"36\": 2}, \"24\": {\"24\": 78, \"31\": 2}, \"40\": {\"40\": 118, \"46\": 3, \"3\": 1}, \"45\": {\"45\": 110, \"6\": 10, \"50\": 4}, \"22\": {\"22\": 25, \"0\": 3}, \"42\": {\"42\": 36, \"19\": 4}, \"51\": {\"51\": 113, \"8\": 1, \"27\": 1, \"17\": 1, \"48\": 2}, \"31\": {\"31\": 31, \"10\": 1, \"24\": 4}}, \"CORES_1\": {\"27\": {\"27\": 142}, \"2\": {\"2\": 36}, \"33\": {\"33\": 32}, \"45\": {\"45\": 156}, \"38\": {\"38\": 18, \"33\": 1, \"21\": 1, \"36\": 1, \"39\": 2, \"32\": 1}, \"4\": {\"4\": 131, \"12\": 1}, \"31\": {\"31\": 25, \"24\": 3}, \"55\": {\"55\": 135, \"37\": 3, \"39\": 1, \"33\": 1}, \"32\": {\"32\": 31, \"37\": 1}, \"57\": {\"57\": 138, \"29\": 2}, \"14\": {\"14\": 22, \"12\": 1, \"57\": 1}, \"16\": {\"16\": 132, \"15\": 3, \"25\": 5}, \"34\": {\"34\": 22, \"23\": 2}, \"56\": {\"56\": 119, \"45\": 2, \"44\": 1, \"3\": 4}, \"24\": {\"24\": 107, \"35\": 1}, \"30\": {\"30\": 104, \"12\": 6, \"0\": 1, \"40\": 1}, \"17\": {\"17\": 64}, \"13\": {\"13\": 133, \"30\": 2, \"12\": 3}, \"39\": {\"39\": 22, \"27\": 1, \"1\": 1, \"37\": 1, \"33\": 2, \"38\": 1}, \"50\": {\"50\": 143, \"6\": 1, \"4\": 2}, \"20\": {\"20\": 134, \"30\": 1, \"13\": 2, \"8\": 2, \"12\": 1}, \"41\": {\"41\": 22, \"7\": 1, \"48\": 1}, \"53\": {\"53\": 126}, \"48\": {\"48\": 141, \"2\": 1}, \"36\": {\"36\": 64}, \"8\": {\"8\": 140}, \"15\": {\"15\": 132}, \"40\": {\"40\": 153, \"45\": 1, \"20\": 2}, \"37\": {\"33\": 1, \"32\": 1, \"37\": 24, \"52\": 1, \"27\": 2, \"36\": 2, \"1\": 1}, \"21\": {\"21\": 108, \"29\": 1, \"52\": 10, \"27\": 1}, \"35\": {\"35\": 28, \"34\": 2, \"31\": 4, \"19\": 1, \"23\": 1}, \"49\": {\"49\": 27, \"43\": 4, \"39\": 1}, \"26\": {\"26\": 22, \"34\": 1, \"19\": 1}, \"28\": {\"28\": 28}, \"12\": {\"12\": 108, \"30\": 8}, \"5\": {\"5\": 151, \"50\": 1}, \"29\": {\"29\": 123, \"1\": 2, \"21\": 5, \"52\": 9, \"47\": 1}, \"47\": {\"47\": 137, \"27\": 2, \"57\": 1}, \"10\": {\"10\": 96}, \"18\": {\"18\": 71, \"50\": 1}, \"9\": {\"9\": 126}, \"3\": {\"3\": 130, \"56\": 6, \"44\": 1, \"45\": 3}, \"52\": {\"52\": 99, \"22\": 3, \"21\": 24, \"29\": 6}, \"25\": {\"25\": 120, \"16\": 15, \"11\": 1}, \"19\": {\"19\": 154, \"26\": 1, \"54\": 1}, \"11\": {\"11\": 132, \"15\": 2, \"16\": 2}, \"7\": {\"7\": 28}, \"23\": {\"23\": 127, \"24\": 7, \"34\": 2}, \"44\": {\"44\": 132}, \"42\": {\"42\": 37, \"34\": 1, \"55\": 1, \"54\": 1}, \"54\": {\"54\": 103, \"42\": 1}, \"1\": {\"1\": 100}, \"46\": {\"6\": 12, \"46\": 94, \"50\": 10, \"40\": 3, \"5\": 9}, \"6\": {\"6\": 86, \"46\": 6, \"50\": 2, \"4\": 1, \"5\": 1}, \"43\": {\"49\": 3, \"43\": 141}, \"51\": {\"51\": 142}, \"22\": {\"22\": 131, \"0\": 4, \"57\": 1}, \"0\": {\"0\": 128}}, \"CORES_4\": {\"32\": {\"32\": 21, \"24\": 1, \"42\": 2}, \"2\": {\"2\": 32, \"49\": 1, \"37\": 1, \"14\": 2}, \"41\": {\"41\": 25, \"37\": 3, \"42\": 2, \"2\": 1, \"14\": 1, \"49\": 2, \"7\": 2}, \"11\": {\"11\": 86, \"24\": 1, \"10\": 3, \"15\": 11, \"16\": 1}, \"57\": {\"57\": 79, \"29\": 19, \"47\": 1, \"1\": 1}, \"6\": {\"50\": 9, \"6\": 84, \"5\": 1, \"3\": 17, \"45\": 1}, \"23\": {\"23\": 95, \"54\": 1, \"19\": 30, \"31\": 2, \"42\": 3, \"55\": 5}, \"52\": {\"52\": 116}, \"38\": {\"38\": 37, \"49\": 1, \"14\": 1, \"13\": 1}, \"50\": {\"50\": 103, \"6\": 13, \"3\": 16}, \"55\": {\"55\": 139, \"54\": 13}, \"46\": {\"46\": 127, \"22\": 20, \"44\": 5, \"0\": 2}, \"37\": {\"2\": 3, \"37\": 15, \"35\": 2, \"57\": 1, \"7\": 2, \"14\": 1}, \"20\": {\"46\": 2, \"20\": 82, \"9\": 7, \"52\": 1, \"4\": 3, \"8\": 12, \"48\": 11}, \"49\": {\"32\": 1, \"37\": 4, \"43\": 2, \"7\": 3, \"49\": 6, \"41\": 2, \"33\": 1, \"35\": 1}, \"45\": {\"45\": 91, \"50\": 1, \"12\": 1, \"30\": 2, \"21\": 1}, \"54\": {\"54\": 98, \"23\": 2, \"55\": 6, \"53\": 1, \"19\": 1}, \"3\": {\"3\": 106, \"6\": 9, \"50\": 7, \"5\": 2}, \"13\": {\"13\": 152}, \"18\": {\"18\": 107, \"15\": 1}, \"21\": {\"21\": 123, \"30\": 3}, \"43\": {\"43\": 144}, \"47\": {\"47\": 119, \"29\": 1}, \"4\": {\"4\": 123, \"27\": 2, \"48\": 4, \"8\": 2, \"9\": 1}, \"12\": {\"12\": 89, \"21\": 3}, \"9\": {\"9\": 119, \"27\": 2, \"8\": 3, \"20\": 4}, \"7\": {\"7\": 15, \"33\": 1, \"49\": 3, \"41\": 1, \"37\": 2, \"32\": 1, \"2\": 1}, \"56\": {\"56\": 103, \"0\": 9}, \"28\": {\"28\": 29, \"34\": 3}, \"44\": {\"44\": 130, \"40\": 2}, \"24\": {\"24\": 54, \"43\": 1, \"13\": 1}, \"33\": {\"33\": 36}, \"35\": {\"35\": 27, \"19\": 2, \"43\": 1, \"24\": 2, \"41\": 2, \"49\": 2, \"2\": 2, \"32\": 1, \"55\": 1}, \"51\": {\"51\": 136, \"36\": 1, \"27\": 1}, \"39\": {\"36\": 1, \"39\": 19}, \"36\": {\"36\": 84, \"53\": 1, \"51\": 4, \"57\": 1, \"54\": 1, \"55\": 1}, \"19\": {\"19\": 129, \"23\": 11}, \"0\": {\"0\": 79, \"46\": 1}, \"15\": {\"15\": 123, \"16\": 11, \"19\": 2}, \"29\": {\"29\": 109, \"47\": 1, \"57\": 14}, \"30\": {\"30\": 44}, \"1\": {\"1\": 38, \"29\": 2}, \"22\": {\"22\": 115, \"46\": 11, \"44\": 1, \"0\": 1}, \"40\": {\"40\": 143, \"46\": 3}, \"8\": {\"8\": 81, \"4\": 4, \"20\": 18, \"27\": 4, \"9\": 15, \"48\": 6}, \"53\": {\"53\": 138}, \"34\": {\"34\": 21, \"42\": 1, \"28\": 1, \"19\": 1}, \"10\": {\"10\": 121, \"43\": 1}, \"31\": {\"31\": 21, \"7\": 1, \"26\": 2, \"23\": 1, \"55\": 1, \"42\": 2}, \"17\": {\"17\": 79, \"51\": 1}, \"16\": {\"16\": 83, \"15\": 11, \"11\": 2}, \"42\": {\"7\": 1, \"42\": 27, \"26\": 1, \"28\": 1, \"31\": 1, \"32\": 1}, \"27\": {\"27\": 135, \"8\": 4, \"9\": 1, \"20\": 2}, \"14\": {\"14\": 15, \"57\": 1}, \"25\": {\"25\": 117, \"15\": 4, \"28\": 1}, \"48\": {\"48\": 81, \"4\": 22, \"8\": 16, \"20\": 8, \"9\": 2, \"27\": 3}, \"26\": {\"26\": 17, \"19\": 1, \"42\": 2, \"31\": 2, \"28\": 2}, \"5\": {\"5\": 106, \"46\": 1, \"3\": 1}}, \"CORES_3\": {\"14\": {\"14\": 36, \"39\": 1, \"13\": 3}, \"18\": {\"18\": 84}, \"30\": {\"30\": 120}, \"16\": {\"16\": 150, \"15\": 6}, \"1\": {\"1\": 97, \"47\": 1, \"57\": 2}, \"20\": {\"20\": 117, \"8\": 12, \"9\": 2, \"4\": 1}, \"7\": {\"42\": 2, \"7\": 23, \"55\": 1, \"34\": 1, \"1\": 1, \"14\": 2, \"43\": 1, \"13\": 3, \"57\": 1, \"33\": 1}, \"52\": {\"52\": 130}, \"9\": {\"9\": 129, \"27\": 9, \"48\": 2}, \"23\": {\"23\": 138, \"26\": 1, \"19\": 3, \"43\": 1, \"55\": 1}, \"55\": {\"55\": 163, \"37\": 1}, \"29\": {\"1\": 11, \"29\": 109, \"47\": 2, \"57\": 3, \"22\": 1}, \"56\": {\"56\": 127, \"22\": 5, \"57\": 2}, \"3\": {\"3\": 92, \"50\": 19, \"6\": 6, \"44\": 5, \"46\": 2}, \"42\": {\"42\": 20, \"55\": 4, \"34\": 2, \"37\": 2}, \"6\": {\"6\": 77, \"3\": 7, \"44\": 2, \"50\": 2}, \"5\": {\"5\": 112, \"46\": 4}, \"27\": {\"27\": 117, \"41\": 2, \"9\": 13, \"4\": 1, \"48\": 10, \"8\": 1}, \"47\": {\"47\": 87, \"29\": 2, \"1\": 3}, \"39\": {\"39\": 14, \"14\": 1, \"57\": 1}, \"34\": {\"34\": 21, \"35\": 4, \"26\": 1, \"7\": 1, \"55\": 2, \"23\": 2, \"31\": 1}, \"4\": {\"4\": 114, \"20\": 4, \"8\": 3, \"9\": 4, \"27\": 1}, \"24\": {\"24\": 104}, \"46\": {\"46\": 94, \"3\": 2, \"5\": 13, \"40\": 3, \"44\": 2, \"21\": 4}, \"50\": {\"46\": 4, \"50\": 106, \"3\": 8, \"6\": 1, \"44\": 2, \"21\": 4, \"40\": 1}, \"38\": {\"38\": 26, \"51\": 1, \"57\": 1}, \"54\": {\"54\": 98, \"53\": 1, \"19\": 1}, \"35\": {\"35\": 20, \"7\": 1, \"23\": 3, \"34\": 1, \"42\": 2, \"49\": 1}, \"2\": {\"2\": 26, \"36\": 4, \"32\": 2}, \"41\": {\"41\": 19, \"27\": 2, \"9\": 1, \"52\": 2, \"7\": 1, \"2\": 1, \"57\": 1, \"33\": 1}, \"57\": {\"57\": 104, \"1\": 6, \"29\": 6, \"47\": 1, \"22\": 1}, \"25\": {\"25\": 115, \"16\": 14, \"15\": 16, \"53\": 3, \"19\": 1, \"11\": 1}, \"48\": {\"48\": 81, \"27\": 20, \"9\": 13, \"52\": 1, \"22\": 1}, \"33\": {\"33\": 27, \"48\": 1}, \"45\": {\"45\": 56, \"6\": 2, \"50\": 1, \"21\": 1}, \"13\": {\"14\": 2, \"13\": 124}, \"36\": {\"36\": 97, \"2\": 1, \"17\": 1, \"51\": 1}, \"43\": {\"43\": 130, \"49\": 1, \"24\": 1}, \"28\": {\"28\": 26, \"31\": 1, \"26\": 1}, \"0\": {\"0\": 124}, \"12\": {\"12\": 92}, \"31\": {\"31\": 28}, \"40\": {\"40\": 111, \"30\": 2, \"46\": 2, \"5\": 1}, \"44\": {\"44\": 81, \"3\": 5, \"50\": 1, \"12\": 1}, \"32\": {\"32\": 25, \"36\": 3}, \"26\": {\"26\": 24}, \"8\": {\"8\": 80, \"20\": 24, \"4\": 11, \"27\": 1}, \"10\": {\"10\": 64}, \"15\": {\"15\": 126, \"24\": 2, \"11\": 6, \"25\": 1, \"16\": 7}, \"21\": {\"21\": 120, \"50\": 6, \"46\": 2}, \"37\": {\"37\": 27, \"35\": 1}, \"17\": {\"17\": 108}, \"51\": {\"51\": 119, \"17\": 2, \"8\": 1, \"38\": 1, \"20\": 1}, \"53\": {\"53\": 139, \"54\": 4, \"25\": 1}, \"19\": {\"19\": 136}, \"49\": {\"49\": 14, \"14\": 1, \"43\": 4, \"55\": 1}, \"11\": {\"11\": 115, \"15\": 15, \"16\": 8}, \"22\": {\"22\": 122, \"0\": 4, \"56\": 4}}}, \"per_domain_accuracy\": {\"ORACLE.run1_8\": {\"accuracy\": 0.4765625, \"source?\": true}, \"ORACLE.run1_38\": {\"accuracy\": 0.8677083333333333, \"source?\": true}, \"ORACLE.run1_26\": {\"accuracy\": 0.6666666666666666, \"source?\": true}, \"ORACLE.run1_20\": {\"accuracy\": 0.28541666666666665, \"source?\": true}, \"ORACLE.run1_50\": {\"accuracy\": 0.9296875, \"source?\": true}, \"ORACLE.run1_32\": {\"accuracy\": 0.8609375, \"source?\": true}, \"ORACLE.run1_44\": {\"accuracy\": 0.8643229166666667, \"source?\": true}, \"ORACLE.run1_14\": {\"accuracy\": 0.38307291666666665, \"source?\": true}, \"CORES_2\": {\"accuracy\": 0.9197443181818182, \"source?\": false}, \"CORES_5\": {\"accuracy\": 0.9369733146067416, \"source?\": false}, \"CORES_1\": {\"accuracy\": 0.9541552197802198, \"source?\": false}, \"CORES_4\": {\"accuracy\": 0.8931511976047904, \"source?\": false}, \"CORES_3\": {\"accuracy\": 0.9110014619883041, \"source?\": false}}}, \"history\": {\"epoch_indices\": [1, 2, 3, 4, 5], \"train_label_loss\": [0.4028333060726124, 2.97557304271807, 0.22799113387702077, 0.23504186563236762, 0.19084073767922485], \"source_val_label_loss\": [122.85566711425781, 0.27470993995666504, 0.23439116775989532, 0.19091764092445374, 0.21689051389694214], \"target_val_label_loss\": [568.5655517578125, 100.4973373413086, 90.24125671386719, 37.790096282958984, 38.312198638916016], \"source_val_acc_label\": [0.666796875, 0.905078125, 0.9220377604166666, 0.93486328125, 0.9223958333333333], \"target_val_acc_label\": [0.9236270022883295, 0.7402388443935927, 0.7147096681922197, 0.8195437643020596, 0.8323798627002288]}, \"dataset_metrics\": {\"source\": {\"train\": {\"n_unique_x\": 179200, \"n_unique_y\": 16, \"n_batch/episode\": 6720}, \"val\": {\"n_unique_x\": 38400, \"n_unique_y\": 16, \"n_batch/episode\": 960}, \"test\": {\"n_unique_x\": 38400, \"n_unique_y\": 16, \"n_batch/episode\": 960}}, \"target\": {\"train\": {\"n_unique_x\": 175127, \"n_unique_y\": 58, \"n_batch/episode\": 6303}, \"val\": {\"n_unique_x\": 37135, \"n_unique_y\": 58, \"n_batch/episode\": 874}, \"test\": {\"n_unique_x\": 37673, \"n_unique_y\": 58, \"n_batch/episode\": 893}}}}'"
      ]
     },
     "execution_count": 29,
     "metadata": {},
     "output_type": "execute_result"
    }
   ],
   "source": [
    "json.dumps(experiment)"
   ]
  }
 ],
 "metadata": {
  "celltoolbar": "Tags",
  "kernelspec": {
   "display_name": "Python 3 (ipykernel)",
   "language": "python",
   "name": "python3"
  },
  "language_info": {
   "codemirror_mode": {
    "name": "ipython",
    "version": 3
   },
   "file_extension": ".py",
   "mimetype": "text/x-python",
   "name": "python",
   "nbconvert_exporter": "python",
   "pygments_lexer": "ipython3",
   "version": "3.8.12"
  },
  "papermill": {
   "default_parameters": {},
   "duration": 1532.666107,
   "end_time": "2022-03-21T12:43:14.008830",
   "environment_variables": {},
   "exception": null,
   "input_path": "/root/csc500-main/csc500-notebooks/templates/tl_ptn_template.ipynb",
   "output_path": "trial.ipynb",
   "parameters": {
    "parameters": {
     "BEST_MODEL_PATH": "./best_model.pth",
     "NUM_LOGS_PER_EPOCH": 10,
     "criteria_for_best": "target_accuracy",
     "dataset_seed": 154325,
     "datasets": [
      {
       "domain_prefix": "CORES_",
       "domains": [
        1,
        2,
        3,
        4,
        5
       ],
       "episode_transforms": [],
       "labels": [
        "1-10.",
        "1-11.",
        "1-15.",
        "1-16.",
        "1-17.",
        "1-18.",
        "1-19.",
        "10-4.",
        "10-7.",
        "11-1.",
        "11-14.",
        "11-17.",
        "11-20.",
        "11-7.",
        "13-20.",
        "13-8.",
        "14-10.",
        "14-11.",
        "14-14.",
        "14-7.",
        "15-1.",
        "15-20.",
        "16-1.",
        "16-16.",
        "17-10.",
        "17-11.",
        "17-2.",
        "19-1.",
        "19-16.",
        "19-19.",
        "19-20.",
        "19-3.",
        "2-10.",
        "2-11.",
        "2-17.",
        "2-18.",
        "2-20.",
        "2-3.",
        "2-4.",
        "2-5.",
        "2-6.",
        "2-7.",
        "2-8.",
        "3-13.",
        "3-18.",
        "3-3.",
        "4-1.",
        "4-10.",
        "4-11.",
        "4-19.",
        "5-5.",
        "6-15.",
        "7-10.",
        "7-14.",
        "8-18.",
        "8-20.",
        "8-3.",
        "8-8."
       ],
       "num_examples_per_domain_per_label": -1,
       "pickle_path": "/root/csc500-main/datasets/cores.stratified_ds.2022A.pkl",
       "source_or_target_dataset": "target",
       "x_transforms": []
      },
      {
       "domain_prefix": "ORACLE.run1_",
       "domains": [
        32,
        38,
        8,
        44,
        14,
        50,
        20,
        26
       ],
       "episode_transforms": [],
       "labels": [
        "3123D52",
        "3123D65",
        "3123D79",
        "3123D80",
        "3123D54",
        "3123D70",
        "3123D7B",
        "3123D89",
        "3123D58",
        "3123D76",
        "3123D7D",
        "3123EFE",
        "3123D64",
        "3123D78",
        "3123D7E",
        "3124E4A"
       ],
       "num_examples_per_domain_per_label": 2000,
       "pickle_path": "/root/csc500-main/datasets/oracle.Run1_framed_2000Examples_stratified_ds.2022A.pkl",
       "source_or_target_dataset": "source",
       "x_transforms": []
      }
     ],
     "device": "cuda",
     "experiment_name": "tl_1v2:cores-oracle.run1.framed",
     "lr": 0.0001,
     "n_epoch": 50,
     "n_query": 2,
     "n_shot": 3,
     "n_way": 16,
     "patience": 3,
     "seed": 154325,
     "test_k_factor": 2,
     "torch_default_dtype": "torch.float32",
     "train_k_factor": 3,
     "val_k_factor": 2,
     "x_net": [
      {
       "class": "nnReshape",
       "kargs": {
        "shape": [
         -1,
         1,
         2,
         256
        ]
       }
      },
      {
       "class": "Conv2d",
       "kargs": {
        "bias": false,
        "in_channels": 1,
        "kernel_size": [
         1,
         7
        ],
        "out_channels": 256,
        "padding": [
         0,
         3
        ]
       }
      },
      {
       "class": "ReLU",
       "kargs": {
        "inplace": true
       }
      },
      {
       "class": "BatchNorm2d",
       "kargs": {
        "num_features": 256
       }
      },
      {
       "class": "Conv2d",
       "kargs": {
        "bias": true,
        "in_channels": 256,
        "kernel_size": [
         2,
         7
        ],
        "out_channels": 80,
        "padding": [
         0,
         3
        ]
       }
      },
      {
       "class": "ReLU",
       "kargs": {
        "inplace": true
       }
      },
      {
       "class": "BatchNorm2d",
       "kargs": {
        "num_features": 80
       }
      },
      {
       "class": "Flatten",
       "kargs": {}
      },
      {
       "class": "Linear",
       "kargs": {
        "in_features": 20480,
        "out_features": 256
       }
      },
      {
       "class": "ReLU",
       "kargs": {
        "inplace": true
       }
      },
      {
       "class": "BatchNorm1d",
       "kargs": {
        "num_features": 256
       }
      },
      {
       "class": "Linear",
       "kargs": {
        "in_features": 256,
        "out_features": 256
       }
      }
     ]
    }
   },
   "start_time": "2022-03-21T12:17:41.342723",
   "version": "2.3.4"
  }
 },
 "nbformat": 4,
 "nbformat_minor": 5
}