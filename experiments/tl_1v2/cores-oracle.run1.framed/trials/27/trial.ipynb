{
 "cells": [
  {
   "cell_type": "markdown",
   "id": "9fea5f46",
   "metadata": {
    "papermill": {
     "duration": 0.026371,
     "end_time": "2022-03-21T18:31:38.979195",
     "exception": false,
     "start_time": "2022-03-21T18:31:38.952824",
     "status": "completed"
    },
    "tags": []
   },
   "source": [
    "# Transfer Learning Template"
   ]
  },
  {
   "cell_type": "code",
   "execution_count": 1,
   "id": "0902182a",
   "metadata": {
    "execution": {
     "iopub.execute_input": "2022-03-21T18:31:39.046249Z",
     "iopub.status.busy": "2022-03-21T18:31:39.034286Z",
     "iopub.status.idle": "2022-03-21T18:31:40.923421Z",
     "shell.execute_reply": "2022-03-21T18:31:40.923755Z"
    },
    "papermill": {
     "duration": 1.91599,
     "end_time": "2022-03-21T18:31:40.923945",
     "exception": false,
     "start_time": "2022-03-21T18:31:39.007955",
     "status": "completed"
    },
    "tags": []
   },
   "outputs": [],
   "source": [
    "%load_ext autoreload\n",
    "%autoreload 2\n",
    "%matplotlib inline\n",
    "\n",
    "    \n",
    "import os, json, sys, time, random\n",
    "import numpy as np\n",
    "import torch\n",
    "from torch.optim import Adam\n",
    "from  easydict import EasyDict\n",
    "import matplotlib.pyplot as plt\n",
    "\n",
    "from steves_models.steves_ptn import Steves_Prototypical_Network\n",
    "\n",
    "from steves_utils.lazy_iterable_wrapper import Lazy_Iterable_Wrapper\n",
    "from steves_utils.iterable_aggregator import Iterable_Aggregator\n",
    "from steves_utils.ptn_train_eval_test_jig import  PTN_Train_Eval_Test_Jig\n",
    "from steves_utils.torch_sequential_builder import build_sequential\n",
    "from steves_utils.torch_utils import get_dataset_metrics, ptn_confusion_by_domain_over_dataloader\n",
    "from steves_utils.utils_v2 import (per_domain_accuracy_from_confusion, get_datasets_base_path)\n",
    "from steves_utils.PTN.utils import independent_accuracy_assesment\n",
    "\n",
    "from torch.utils.data import DataLoader\n",
    "\n",
    "from steves_utils.stratified_dataset.episodic_accessor import Episodic_Accessor_Factory\n",
    "\n",
    "from steves_utils.ptn_do_report import (\n",
    "    get_loss_curve,\n",
    "    get_results_table,\n",
    "    get_parameters_table,\n",
    "    get_domain_accuracies,\n",
    ")\n",
    "\n",
    "from steves_utils.transforms import get_chained_transform"
   ]
  },
  {
   "cell_type": "markdown",
   "id": "41c840b4",
   "metadata": {
    "papermill": {
     "duration": 0.018608,
     "end_time": "2022-03-21T18:31:40.962699",
     "exception": false,
     "start_time": "2022-03-21T18:31:40.944091",
     "status": "completed"
    },
    "tags": []
   },
   "source": [
    "# Allowed Parameters\n",
    "These are allowed parameters, not defaults\n",
    "Each of these values need to be present in the injected parameters (the notebook will raise an exception if they are not present)\n",
    "\n",
    "Papermill uses the cell tag \"parameters\" to inject the real parameters below this cell.\n",
    "Enable tags to see what I mean"
   ]
  },
  {
   "cell_type": "code",
   "execution_count": 2,
   "id": "fd44eb83",
   "metadata": {
    "execution": {
     "iopub.execute_input": "2022-03-21T18:31:41.005440Z",
     "iopub.status.busy": "2022-03-21T18:31:41.005065Z",
     "iopub.status.idle": "2022-03-21T18:31:41.026403Z",
     "shell.execute_reply": "2022-03-21T18:31:41.026083Z"
    },
    "papermill": {
     "duration": 0.04501,
     "end_time": "2022-03-21T18:31:41.026473",
     "exception": false,
     "start_time": "2022-03-21T18:31:40.981463",
     "status": "completed"
    },
    "tags": []
   },
   "outputs": [],
   "source": [
    "required_parameters = {\n",
    "    \"experiment_name\",\n",
    "    \"lr\",\n",
    "    \"device\",\n",
    "    \"seed\",\n",
    "    \"dataset_seed\",\n",
    "    \"n_shot\",\n",
    "    \"n_query\",\n",
    "    \"n_way\",\n",
    "    \"train_k_factor\",\n",
    "    \"val_k_factor\",\n",
    "    \"test_k_factor\",\n",
    "    \"n_epoch\",\n",
    "    \"patience\",\n",
    "    \"criteria_for_best\",\n",
    "    \"x_net\",\n",
    "    \"datasets\",\n",
    "    \"torch_default_dtype\",\n",
    "    \"NUM_LOGS_PER_EPOCH\",\n",
    "    \"BEST_MODEL_PATH\",\n",
    "    \"x_shape\",\n",
    "}"
   ]
  },
  {
   "cell_type": "code",
   "execution_count": 3,
   "id": "fa3f0049",
   "metadata": {
    "execution": {
     "iopub.execute_input": "2022-03-21T18:31:41.079094Z",
     "iopub.status.busy": "2022-03-21T18:31:41.078689Z",
     "iopub.status.idle": "2022-03-21T18:31:41.096984Z",
     "shell.execute_reply": "2022-03-21T18:31:41.097284Z"
    },
    "papermill": {
     "duration": 0.052162,
     "end_time": "2022-03-21T18:31:41.097362",
     "exception": false,
     "start_time": "2022-03-21T18:31:41.045200",
     "status": "completed"
    },
    "tags": [
     "parameters"
    ]
   },
   "outputs": [],
   "source": [
    "from steves_utils.CORES.utils import (\n",
    "    ALL_NODES,\n",
    "    ALL_NODES_MINIMUM_1000_EXAMPLES,\n",
    "    ALL_DAYS\n",
    ")\n",
    "\n",
    "from steves_utils.ORACLE.utils_v2 import (\n",
    "    ALL_DISTANCES_FEET_NARROWED,\n",
    "    ALL_RUNS,\n",
    "    ALL_SERIAL_NUMBERS,\n",
    ")\n",
    "\n",
    "standalone_parameters = {}\n",
    "standalone_parameters[\"experiment_name\"] = \"STANDALONE PTN\"\n",
    "standalone_parameters[\"lr\"] = 0.001\n",
    "standalone_parameters[\"device\"] = \"cuda\"\n",
    "\n",
    "standalone_parameters[\"seed\"] = 1337\n",
    "standalone_parameters[\"dataset_seed\"] = 1337\n",
    "\n",
    "standalone_parameters[\"n_way\"] = 8\n",
    "standalone_parameters[\"n_shot\"] = 3\n",
    "standalone_parameters[\"n_query\"]  = 2\n",
    "standalone_parameters[\"train_k_factor\"] = 1\n",
    "standalone_parameters[\"val_k_factor\"] = 2\n",
    "standalone_parameters[\"test_k_factor\"] = 2\n",
    "\n",
    "\n",
    "standalone_parameters[\"n_epoch\"] = 50\n",
    "\n",
    "standalone_parameters[\"patience\"] = 10\n",
    "standalone_parameters[\"criteria_for_best\"] = \"source_loss\"\n",
    "\n",
    "standalone_parameters[\"datasets\"] = [\n",
    "    {\n",
    "        \"labels\": ALL_SERIAL_NUMBERS,\n",
    "        \"domains\": ALL_DISTANCES_FEET_NARROWED,\n",
    "        \"num_examples_per_domain_per_label\": 100,\n",
    "        \"pickle_path\": os.path.join(get_datasets_base_path(), \"oracle.Run1_framed_2000Examples_stratified_ds.2022A.pkl\"),\n",
    "        \"source_or_target_dataset\": \"source\",\n",
    "        \"x_transforms\": [\"unit_mag\", \"minus_two\"],\n",
    "        \"episode_transforms\": [],\n",
    "        \"domain_prefix\": \"ORACLE_\"\n",
    "    },\n",
    "    {\n",
    "        \"labels\": ALL_NODES,\n",
    "        \"domains\": ALL_DAYS,\n",
    "        \"num_examples_per_domain_per_label\": 100,\n",
    "        \"pickle_path\": os.path.join(get_datasets_base_path(), \"cores.stratified_ds.2022A.pkl\"),\n",
    "        \"source_or_target_dataset\": \"target\",\n",
    "        \"x_transforms\": [\"unit_power\", \"times_zero\"],\n",
    "        \"episode_transforms\": [],\n",
    "        \"domain_prefix\": \"CORES_\"\n",
    "    }   \n",
    "]\n",
    "\n",
    "standalone_parameters[\"torch_default_dtype\"] = \"torch.float32\" \n",
    "\n",
    "\n",
    "\n",
    "standalone_parameters[\"x_net\"] =     [\n",
    "    {\"class\": \"nnReshape\", \"kargs\": {\"shape\":[-1, 1, 2, 256]}},\n",
    "    {\"class\": \"Conv2d\", \"kargs\": { \"in_channels\":1, \"out_channels\":256, \"kernel_size\":(1,7), \"bias\":False, \"padding\":(0,3), },},\n",
    "    {\"class\": \"ReLU\", \"kargs\": {\"inplace\": True}},\n",
    "    {\"class\": \"BatchNorm2d\", \"kargs\": {\"num_features\":256}},\n",
    "\n",
    "    {\"class\": \"Conv2d\", \"kargs\": { \"in_channels\":256, \"out_channels\":80, \"kernel_size\":(2,7), \"bias\":True, \"padding\":(0,3), },},\n",
    "    {\"class\": \"ReLU\", \"kargs\": {\"inplace\": True}},\n",
    "    {\"class\": \"BatchNorm2d\", \"kargs\": {\"num_features\":80}},\n",
    "    {\"class\": \"Flatten\", \"kargs\": {}},\n",
    "\n",
    "    {\"class\": \"Linear\", \"kargs\": {\"in_features\": 80*256, \"out_features\": 256}}, # 80 units per IQ pair\n",
    "    {\"class\": \"ReLU\", \"kargs\": {\"inplace\": True}},\n",
    "    {\"class\": \"BatchNorm1d\", \"kargs\": {\"num_features\":256}},\n",
    "\n",
    "    {\"class\": \"Linear\", \"kargs\": {\"in_features\": 256, \"out_features\": 256}},\n",
    "]\n",
    "\n",
    "# Parameters relevant to results\n",
    "# These parameters will basically never need to change\n",
    "standalone_parameters[\"NUM_LOGS_PER_EPOCH\"] = 10\n",
    "standalone_parameters[\"BEST_MODEL_PATH\"] = \"./best_model.pth\"\n",
    "\n",
    "\n",
    "\n",
    "\n"
   ]
  },
  {
   "cell_type": "code",
   "execution_count": 4,
   "id": "5145a235",
   "metadata": {
    "execution": {
     "iopub.execute_input": "2022-03-21T18:31:41.143017Z",
     "iopub.status.busy": "2022-03-21T18:31:41.137762Z",
     "iopub.status.idle": "2022-03-21T18:31:41.170161Z",
     "shell.execute_reply": "2022-03-21T18:31:41.170462Z"
    },
    "papermill": {
     "duration": 0.054232,
     "end_time": "2022-03-21T18:31:41.170541",
     "exception": false,
     "start_time": "2022-03-21T18:31:41.116309",
     "status": "completed"
    },
    "tags": [
     "injected-parameters"
    ]
   },
   "outputs": [],
   "source": [
    "# Parameters\n",
    "parameters = {\n",
    "    \"experiment_name\": \"tl_1v2:cores-oracle.run1.framed\",\n",
    "    \"device\": \"cuda\",\n",
    "    \"lr\": 0.0001,\n",
    "    \"n_shot\": 3,\n",
    "    \"n_query\": 2,\n",
    "    \"train_k_factor\": 3,\n",
    "    \"val_k_factor\": 2,\n",
    "    \"test_k_factor\": 2,\n",
    "    \"torch_default_dtype\": \"torch.float32\",\n",
    "    \"n_epoch\": 50,\n",
    "    \"patience\": 3,\n",
    "    \"criteria_for_best\": \"target_accuracy\",\n",
    "    \"x_net\": [\n",
    "        {\"class\": \"nnReshape\", \"kargs\": {\"shape\": [-1, 1, 2, 256]}},\n",
    "        {\n",
    "            \"class\": \"Conv2d\",\n",
    "            \"kargs\": {\n",
    "                \"in_channels\": 1,\n",
    "                \"out_channels\": 256,\n",
    "                \"kernel_size\": [1, 7],\n",
    "                \"bias\": False,\n",
    "                \"padding\": [0, 3],\n",
    "            },\n",
    "        },\n",
    "        {\"class\": \"ReLU\", \"kargs\": {\"inplace\": True}},\n",
    "        {\"class\": \"BatchNorm2d\", \"kargs\": {\"num_features\": 256}},\n",
    "        {\n",
    "            \"class\": \"Conv2d\",\n",
    "            \"kargs\": {\n",
    "                \"in_channels\": 256,\n",
    "                \"out_channels\": 80,\n",
    "                \"kernel_size\": [2, 7],\n",
    "                \"bias\": True,\n",
    "                \"padding\": [0, 3],\n",
    "            },\n",
    "        },\n",
    "        {\"class\": \"ReLU\", \"kargs\": {\"inplace\": True}},\n",
    "        {\"class\": \"BatchNorm2d\", \"kargs\": {\"num_features\": 80}},\n",
    "        {\"class\": \"Flatten\", \"kargs\": {}},\n",
    "        {\"class\": \"Linear\", \"kargs\": {\"in_features\": 20480, \"out_features\": 256}},\n",
    "        {\"class\": \"ReLU\", \"kargs\": {\"inplace\": True}},\n",
    "        {\"class\": \"BatchNorm1d\", \"kargs\": {\"num_features\": 256}},\n",
    "        {\"class\": \"Linear\", \"kargs\": {\"in_features\": 256, \"out_features\": 256}},\n",
    "    ],\n",
    "    \"NUM_LOGS_PER_EPOCH\": 10,\n",
    "    \"BEST_MODEL_PATH\": \"./best_model.pth\",\n",
    "    \"n_way\": 16,\n",
    "    \"datasets\": [\n",
    "        {\n",
    "            \"labels\": [\n",
    "                \"1-10.\",\n",
    "                \"1-11.\",\n",
    "                \"1-15.\",\n",
    "                \"1-16.\",\n",
    "                \"1-17.\",\n",
    "                \"1-18.\",\n",
    "                \"1-19.\",\n",
    "                \"10-4.\",\n",
    "                \"10-7.\",\n",
    "                \"11-1.\",\n",
    "                \"11-14.\",\n",
    "                \"11-17.\",\n",
    "                \"11-20.\",\n",
    "                \"11-7.\",\n",
    "                \"13-20.\",\n",
    "                \"13-8.\",\n",
    "                \"14-10.\",\n",
    "                \"14-11.\",\n",
    "                \"14-14.\",\n",
    "                \"14-7.\",\n",
    "                \"15-1.\",\n",
    "                \"15-20.\",\n",
    "                \"16-1.\",\n",
    "                \"16-16.\",\n",
    "                \"17-10.\",\n",
    "                \"17-11.\",\n",
    "                \"17-2.\",\n",
    "                \"19-1.\",\n",
    "                \"19-16.\",\n",
    "                \"19-19.\",\n",
    "                \"19-20.\",\n",
    "                \"19-3.\",\n",
    "                \"2-10.\",\n",
    "                \"2-11.\",\n",
    "                \"2-17.\",\n",
    "                \"2-18.\",\n",
    "                \"2-20.\",\n",
    "                \"2-3.\",\n",
    "                \"2-4.\",\n",
    "                \"2-5.\",\n",
    "                \"2-6.\",\n",
    "                \"2-7.\",\n",
    "                \"2-8.\",\n",
    "                \"3-13.\",\n",
    "                \"3-18.\",\n",
    "                \"3-3.\",\n",
    "                \"4-1.\",\n",
    "                \"4-10.\",\n",
    "                \"4-11.\",\n",
    "                \"4-19.\",\n",
    "                \"5-5.\",\n",
    "                \"6-15.\",\n",
    "                \"7-10.\",\n",
    "                \"7-14.\",\n",
    "                \"8-18.\",\n",
    "                \"8-20.\",\n",
    "                \"8-3.\",\n",
    "                \"8-8.\",\n",
    "            ],\n",
    "            \"domains\": [1, 2, 3, 4, 5],\n",
    "            \"num_examples_per_domain_per_label\": -1,\n",
    "            \"pickle_path\": \"/root/csc500-main/datasets/cores.stratified_ds.2022A.pkl\",\n",
    "            \"source_or_target_dataset\": \"target\",\n",
    "            \"x_transforms\": [\"unit_power\"],\n",
    "            \"episode_transforms\": [],\n",
    "            \"domain_prefix\": \"CORES_\",\n",
    "        },\n",
    "        {\n",
    "            \"labels\": [\n",
    "                \"3123D52\",\n",
    "                \"3123D65\",\n",
    "                \"3123D79\",\n",
    "                \"3123D80\",\n",
    "                \"3123D54\",\n",
    "                \"3123D70\",\n",
    "                \"3123D7B\",\n",
    "                \"3123D89\",\n",
    "                \"3123D58\",\n",
    "                \"3123D76\",\n",
    "                \"3123D7D\",\n",
    "                \"3123EFE\",\n",
    "                \"3123D64\",\n",
    "                \"3123D78\",\n",
    "                \"3123D7E\",\n",
    "                \"3124E4A\",\n",
    "            ],\n",
    "            \"domains\": [32, 38, 8, 44, 14, 50, 20, 26],\n",
    "            \"num_examples_per_domain_per_label\": 2000,\n",
    "            \"pickle_path\": \"/root/csc500-main/datasets/oracle.Run1_framed_2000Examples_stratified_ds.2022A.pkl\",\n",
    "            \"source_or_target_dataset\": \"source\",\n",
    "            \"x_transforms\": [\"unit_power\"],\n",
    "            \"episode_transforms\": [],\n",
    "            \"domain_prefix\": \"ORACLE.run1_\",\n",
    "        },\n",
    "    ],\n",
    "    \"dataset_seed\": 500,\n",
    "    \"seed\": 500,\n",
    "}\n"
   ]
  },
  {
   "cell_type": "code",
   "execution_count": 5,
   "id": "8fa1cc33",
   "metadata": {
    "execution": {
     "iopub.execute_input": "2022-03-21T18:31:41.216093Z",
     "iopub.status.busy": "2022-03-21T18:31:41.215727Z",
     "iopub.status.idle": "2022-03-21T18:31:41.237037Z",
     "shell.execute_reply": "2022-03-21T18:31:41.237335Z"
    },
    "papermill": {
     "duration": 0.04769,
     "end_time": "2022-03-21T18:31:41.237419",
     "exception": false,
     "start_time": "2022-03-21T18:31:41.189729",
     "status": "completed"
    },
    "tags": []
   },
   "outputs": [],
   "source": [
    "# Set this to True if you want to run this template directly\n",
    "STANDALONE = False\n",
    "if STANDALONE:\n",
    "    print(\"parameters not injected, running with standalone_parameters\")\n",
    "    parameters = standalone_parameters\n",
    "\n",
    "if not 'parameters' in locals() and not 'parameters' in globals():\n",
    "    raise Exception(\"Parameter injection failed\")\n",
    "\n",
    "#Use an easy dict for all the parameters\n",
    "p = EasyDict(parameters)\n",
    "\n",
    "if \"x_shape\" not in p:\n",
    "    p.x_shape = [2,256] # Default to this if we dont supply x_shape\n",
    "\n",
    "\n",
    "supplied_keys = set(p.keys())\n",
    "\n",
    "if  supplied_keys != required_parameters:\n",
    "    print(\"Parameters are incorrect\")\n",
    "    if len(supplied_keys - required_parameters)>0: print(\"Shouldn't have:\", str(supplied_keys - required_parameters))\n",
    "    if len(required_parameters - supplied_keys)>0: print(\"Need to have:\", str(required_parameters - supplied_keys))\n",
    "    raise RuntimeError(\"Parameters are incorrect\")"
   ]
  },
  {
   "cell_type": "code",
   "execution_count": 6,
   "id": "3a028d58",
   "metadata": {
    "execution": {
     "iopub.execute_input": "2022-03-21T18:31:41.280418Z",
     "iopub.status.busy": "2022-03-21T18:31:41.279912Z",
     "iopub.status.idle": "2022-03-21T18:31:41.307777Z",
     "shell.execute_reply": "2022-03-21T18:31:41.308428Z"
    },
    "papermill": {
     "duration": 0.05205,
     "end_time": "2022-03-21T18:31:41.308615",
     "exception": false,
     "start_time": "2022-03-21T18:31:41.256565",
     "status": "completed"
    },
    "tags": []
   },
   "outputs": [],
   "source": [
    "###################################\n",
    "# Set the RNGs and make it all deterministic\n",
    "###################################\n",
    "np.random.seed(p.seed)\n",
    "random.seed(p.seed)\n",
    "torch.manual_seed(p.seed)\n",
    "\n",
    "torch.use_deterministic_algorithms(True) "
   ]
  },
  {
   "cell_type": "code",
   "execution_count": 7,
   "id": "b691acf6",
   "metadata": {
    "execution": {
     "iopub.execute_input": "2022-03-21T18:31:41.357439Z",
     "iopub.status.busy": "2022-03-21T18:31:41.357068Z",
     "iopub.status.idle": "2022-03-21T18:31:41.377739Z",
     "shell.execute_reply": "2022-03-21T18:31:41.378398Z"
    },
    "papermill": {
     "duration": 0.043678,
     "end_time": "2022-03-21T18:31:41.378578",
     "exception": false,
     "start_time": "2022-03-21T18:31:41.334900",
     "status": "completed"
    },
    "tags": []
   },
   "outputs": [],
   "source": [
    "###########################################\n",
    "# The stratified datasets honor this\n",
    "###########################################\n",
    "torch.set_default_dtype(eval(p.torch_default_dtype))"
   ]
  },
  {
   "cell_type": "code",
   "execution_count": 8,
   "id": "b5fba671",
   "metadata": {
    "execution": {
     "iopub.execute_input": "2022-03-21T18:31:41.428681Z",
     "iopub.status.busy": "2022-03-21T18:31:41.428255Z",
     "iopub.status.idle": "2022-03-21T18:31:41.480534Z",
     "shell.execute_reply": "2022-03-21T18:31:41.481211Z"
    },
    "papermill": {
     "duration": 0.075514,
     "end_time": "2022-03-21T18:31:41.481424",
     "exception": false,
     "start_time": "2022-03-21T18:31:41.405910",
     "status": "completed"
    },
    "tags": []
   },
   "outputs": [],
   "source": [
    "###################################\n",
    "# Build the network(s)\n",
    "# Note: It's critical to do this AFTER setting the RNG\n",
    "###################################\n",
    "x_net = build_sequential(p.x_net)"
   ]
  },
  {
   "cell_type": "code",
   "execution_count": 9,
   "id": "5d7e61cc",
   "metadata": {
    "execution": {
     "iopub.execute_input": "2022-03-21T18:31:41.530447Z",
     "iopub.status.busy": "2022-03-21T18:31:41.530084Z",
     "iopub.status.idle": "2022-03-21T18:31:41.553169Z",
     "shell.execute_reply": "2022-03-21T18:31:41.553826Z"
    },
    "papermill": {
     "duration": 0.046114,
     "end_time": "2022-03-21T18:31:41.554007",
     "exception": false,
     "start_time": "2022-03-21T18:31:41.507893",
     "status": "completed"
    },
    "tags": []
   },
   "outputs": [],
   "source": [
    "start_time_secs = time.time()"
   ]
  },
  {
   "cell_type": "code",
   "execution_count": 10,
   "id": "c6b67dfd",
   "metadata": {
    "execution": {
     "iopub.execute_input": "2022-03-21T18:31:41.603021Z",
     "iopub.status.busy": "2022-03-21T18:31:41.601853Z",
     "iopub.status.idle": "2022-03-21T18:31:41.619773Z",
     "shell.execute_reply": "2022-03-21T18:31:41.620430Z"
    },
    "papermill": {
     "duration": 0.040669,
     "end_time": "2022-03-21T18:31:41.620608",
     "exception": false,
     "start_time": "2022-03-21T18:31:41.579939",
     "status": "completed"
    },
    "tags": []
   },
   "outputs": [],
   "source": [
    "p.domains_source = []\n",
    "p.domains_target = []\n",
    "\n",
    "\n",
    "train_original_source = []\n",
    "val_original_source   = []\n",
    "test_original_source  = []\n",
    "\n",
    "train_original_target = []\n",
    "val_original_target   = []\n",
    "test_original_target  = []"
   ]
  },
  {
   "cell_type": "code",
   "execution_count": 11,
   "id": "e3d9c3d3",
   "metadata": {
    "execution": {
     "iopub.execute_input": "2022-03-21T18:31:41.672803Z",
     "iopub.status.busy": "2022-03-21T18:31:41.672142Z",
     "iopub.status.idle": "2022-03-21T18:31:41.689356Z",
     "shell.execute_reply": "2022-03-21T18:31:41.688581Z"
    },
    "papermill": {
     "duration": 0.039749,
     "end_time": "2022-03-21T18:31:41.689507",
     "exception": false,
     "start_time": "2022-03-21T18:31:41.649758",
     "status": "completed"
    },
    "tags": []
   },
   "outputs": [],
   "source": [
    "# global_x_transform_func = lambda x: normalize(x.to(torch.get_default_dtype()), \"unit_power\") # unit_power, unit_mag\n",
    "# global_x_transform_func = lambda x: normalize(x, \"unit_power\") # unit_power, unit_mag"
   ]
  },
  {
   "cell_type": "code",
   "execution_count": 12,
   "id": "acb78fd2",
   "metadata": {
    "execution": {
     "iopub.execute_input": "2022-03-21T18:31:41.746485Z",
     "iopub.status.busy": "2022-03-21T18:31:41.745668Z",
     "iopub.status.idle": "2022-03-21T18:31:41.762913Z",
     "shell.execute_reply": "2022-03-21T18:31:41.763590Z"
    },
    "papermill": {
     "duration": 0.046309,
     "end_time": "2022-03-21T18:31:41.763772",
     "exception": false,
     "start_time": "2022-03-21T18:31:41.717463",
     "status": "completed"
    },
    "tags": []
   },
   "outputs": [],
   "source": [
    "def add_dataset(\n",
    "    labels,\n",
    "    domains,\n",
    "    pickle_path,\n",
    "    x_transforms,\n",
    "    episode_transforms,\n",
    "    domain_prefix,\n",
    "    num_examples_per_domain_per_label,\n",
    "    source_or_target_dataset:str,\n",
    "    iterator_seed=p.seed,\n",
    "    dataset_seed=p.dataset_seed,\n",
    "    n_shot=p.n_shot,\n",
    "    n_way=p.n_way,\n",
    "    n_query=p.n_query,\n",
    "    train_val_test_k_factors=(p.train_k_factor,p.val_k_factor,p.test_k_factor),\n",
    "):\n",
    "   \n",
    "    if x_transforms == []: x_transform = None\n",
    "    else: x_transform = get_chained_transform(x_transforms)\n",
    "    \n",
    "    if episode_transforms == []: episode_transform = None\n",
    "    else: raise Exception(\"episode_transforms not implemented\")\n",
    "    \n",
    "    episode_transform = lambda tup, _prefix=domain_prefix: (_prefix + str(tup[0]), tup[1])\n",
    "\n",
    "\n",
    "    eaf = Episodic_Accessor_Factory(\n",
    "        labels=labels,\n",
    "        domains=domains,\n",
    "        num_examples_per_domain_per_label=num_examples_per_domain_per_label,\n",
    "        iterator_seed=iterator_seed,\n",
    "        dataset_seed=dataset_seed,\n",
    "        n_shot=n_shot,\n",
    "        n_way=n_way,\n",
    "        n_query=n_query,\n",
    "        train_val_test_k_factors=train_val_test_k_factors,\n",
    "        pickle_path=pickle_path,\n",
    "        x_transform_func=x_transform,\n",
    "    )\n",
    "\n",
    "    train, val, test = eaf.get_train(), eaf.get_val(), eaf.get_test()\n",
    "    train = Lazy_Iterable_Wrapper(train, episode_transform)\n",
    "    val = Lazy_Iterable_Wrapper(val, episode_transform)\n",
    "    test = Lazy_Iterable_Wrapper(test, episode_transform)\n",
    "\n",
    "    if source_or_target_dataset==\"source\":\n",
    "        train_original_source.append(train)\n",
    "        val_original_source.append(val)\n",
    "        test_original_source.append(test)\n",
    "\n",
    "        p.domains_source.extend(\n",
    "            [domain_prefix + str(u) for u in domains]\n",
    "        )\n",
    "    elif source_or_target_dataset==\"target\":\n",
    "        train_original_target.append(train)\n",
    "        val_original_target.append(val)\n",
    "        test_original_target.append(test)\n",
    "        p.domains_target.extend(\n",
    "            [domain_prefix + str(u) for u in domains]\n",
    "        )\n",
    "    else:\n",
    "        raise Exception(f\"invalid source_or_target_dataset: {source_or_target_dataset}\")\n",
    "    "
   ]
  },
  {
   "cell_type": "code",
   "execution_count": 13,
   "id": "fe266617",
   "metadata": {
    "execution": {
     "iopub.execute_input": "2022-03-21T18:31:41.810930Z",
     "iopub.status.busy": "2022-03-21T18:31:41.810573Z",
     "iopub.status.idle": "2022-03-21T18:32:24.018175Z",
     "shell.execute_reply": "2022-03-21T18:32:24.017451Z"
    },
    "papermill": {
     "duration": 42.230034,
     "end_time": "2022-03-21T18:32:24.018360",
     "exception": false,
     "start_time": "2022-03-21T18:31:41.788326",
     "status": "completed"
    },
    "tags": []
   },
   "outputs": [],
   "source": [
    "for ds in p.datasets:\n",
    "    add_dataset(**ds)"
   ]
  },
  {
   "cell_type": "code",
   "execution_count": 14,
   "id": "b90d65ac",
   "metadata": {
    "execution": {
     "iopub.execute_input": "2022-03-21T18:32:24.071335Z",
     "iopub.status.busy": "2022-03-21T18:32:24.070966Z",
     "iopub.status.idle": "2022-03-21T18:32:24.094791Z",
     "shell.execute_reply": "2022-03-21T18:32:24.095454Z"
    },
    "papermill": {
     "duration": 0.048472,
     "end_time": "2022-03-21T18:32:24.095694",
     "exception": false,
     "start_time": "2022-03-21T18:32:24.047222",
     "status": "completed"
    },
    "tags": []
   },
   "outputs": [],
   "source": [
    "# from steves_utils.CORES.utils import (\n",
    "#     ALL_NODES,\n",
    "#     ALL_NODES_MINIMUM_1000_EXAMPLES,\n",
    "#     ALL_DAYS\n",
    "# )\n",
    "\n",
    "# add_dataset(\n",
    "#     labels=ALL_NODES,\n",
    "#     domains = ALL_DAYS,\n",
    "#     num_examples_per_domain_per_label=100,\n",
    "#     pickle_path=os.path.join(get_datasets_base_path(), \"cores.stratified_ds.2022A.pkl\"),\n",
    "#     source_or_target_dataset=\"target\",\n",
    "#     x_transform_func=global_x_transform_func,\n",
    "#     domain_modifier=lambda u: f\"cores_{u}\"\n",
    "# )"
   ]
  },
  {
   "cell_type": "code",
   "execution_count": 15,
   "id": "76db484d",
   "metadata": {
    "execution": {
     "iopub.execute_input": "2022-03-21T18:32:24.146308Z",
     "iopub.status.busy": "2022-03-21T18:32:24.145940Z",
     "iopub.status.idle": "2022-03-21T18:32:24.168890Z",
     "shell.execute_reply": "2022-03-21T18:32:24.168193Z"
    },
    "papermill": {
     "duration": 0.046344,
     "end_time": "2022-03-21T18:32:24.169045",
     "exception": false,
     "start_time": "2022-03-21T18:32:24.122701",
     "status": "completed"
    },
    "tags": []
   },
   "outputs": [],
   "source": [
    "# from steves_utils.ORACLE.utils_v2 import (\n",
    "#     ALL_DISTANCES_FEET,\n",
    "#     ALL_RUNS,\n",
    "#     ALL_SERIAL_NUMBERS,\n",
    "# )\n",
    "\n",
    "\n",
    "# add_dataset(\n",
    "#     labels=ALL_SERIAL_NUMBERS,\n",
    "#     domains = list(set(ALL_DISTANCES_FEET) - {2,62}),\n",
    "#     num_examples_per_domain_per_label=100,\n",
    "#     pickle_path=os.path.join(get_datasets_base_path(), \"oracle.Run2_framed_2000Examples_stratified_ds.2022A.pkl\"),\n",
    "#     source_or_target_dataset=\"source\",\n",
    "#     x_transform_func=global_x_transform_func,\n",
    "#     domain_modifier=lambda u: f\"oracle1_{u}\"\n",
    "# )\n"
   ]
  },
  {
   "cell_type": "code",
   "execution_count": 16,
   "id": "97dea9d2",
   "metadata": {
    "execution": {
     "iopub.execute_input": "2022-03-21T18:32:24.220579Z",
     "iopub.status.busy": "2022-03-21T18:32:24.220143Z",
     "iopub.status.idle": "2022-03-21T18:32:24.244004Z",
     "shell.execute_reply": "2022-03-21T18:32:24.243175Z"
    },
    "papermill": {
     "duration": 0.048403,
     "end_time": "2022-03-21T18:32:24.244163",
     "exception": false,
     "start_time": "2022-03-21T18:32:24.195760",
     "status": "completed"
    },
    "tags": []
   },
   "outputs": [],
   "source": [
    "# from steves_utils.ORACLE.utils_v2 import (\n",
    "#     ALL_DISTANCES_FEET,\n",
    "#     ALL_RUNS,\n",
    "#     ALL_SERIAL_NUMBERS,\n",
    "# )\n",
    "\n",
    "\n",
    "# add_dataset(\n",
    "#     labels=ALL_SERIAL_NUMBERS,\n",
    "#     domains = list(set(ALL_DISTANCES_FEET) - {2,62,56}),\n",
    "#     num_examples_per_domain_per_label=100,\n",
    "#     pickle_path=os.path.join(get_datasets_base_path(), \"oracle.Run2_framed_2000Examples_stratified_ds.2022A.pkl\"),\n",
    "#     source_or_target_dataset=\"source\",\n",
    "#     x_transform_func=global_x_transform_func,\n",
    "#     domain_modifier=lambda u: f\"oracle2_{u}\"\n",
    "# )"
   ]
  },
  {
   "cell_type": "code",
   "execution_count": 17,
   "id": "6f289866",
   "metadata": {
    "execution": {
     "iopub.execute_input": "2022-03-21T18:32:24.297366Z",
     "iopub.status.busy": "2022-03-21T18:32:24.296997Z",
     "iopub.status.idle": "2022-03-21T18:32:24.319114Z",
     "shell.execute_reply": "2022-03-21T18:32:24.318331Z"
    },
    "papermill": {
     "duration": 0.045981,
     "end_time": "2022-03-21T18:32:24.319269",
     "exception": false,
     "start_time": "2022-03-21T18:32:24.273288",
     "status": "completed"
    },
    "tags": []
   },
   "outputs": [],
   "source": [
    "# add_dataset(\n",
    "#     labels=list(range(19)),\n",
    "#     domains = [0,1,2],\n",
    "#     num_examples_per_domain_per_label=100,\n",
    "#     pickle_path=os.path.join(get_datasets_base_path(), \"metehan.stratified_ds.2022A.pkl\"),\n",
    "#     source_or_target_dataset=\"target\",\n",
    "#     x_transform_func=global_x_transform_func,\n",
    "#     domain_modifier=lambda u: f\"met_{u}\"\n",
    "# )"
   ]
  },
  {
   "cell_type": "code",
   "execution_count": 18,
   "id": "86a863c3",
   "metadata": {
    "execution": {
     "iopub.execute_input": "2022-03-21T18:32:24.372108Z",
     "iopub.status.busy": "2022-03-21T18:32:24.371738Z",
     "iopub.status.idle": "2022-03-21T18:32:24.394688Z",
     "shell.execute_reply": "2022-03-21T18:32:24.394000Z"
    },
    "papermill": {
     "duration": 0.046901,
     "end_time": "2022-03-21T18:32:24.394841",
     "exception": false,
     "start_time": "2022-03-21T18:32:24.347940",
     "status": "completed"
    },
    "tags": []
   },
   "outputs": [],
   "source": [
    "# # from steves_utils.wisig.utils import (\n",
    "# #     ALL_NODES_MINIMUM_100_EXAMPLES,\n",
    "# #     ALL_NODES_MINIMUM_500_EXAMPLES,\n",
    "# #     ALL_NODES_MINIMUM_1000_EXAMPLES,\n",
    "# #     ALL_DAYS\n",
    "# # )\n",
    "\n",
    "# import steves_utils.wisig.utils as wisig\n",
    "\n",
    "\n",
    "# add_dataset(\n",
    "#     labels=wisig.ALL_NODES_MINIMUM_100_EXAMPLES,\n",
    "#     domains = wisig.ALL_DAYS,\n",
    "#     num_examples_per_domain_per_label=100,\n",
    "#     pickle_path=os.path.join(get_datasets_base_path(), \"wisig.node3-19.stratified_ds.2022A.pkl\"),\n",
    "#     source_or_target_dataset=\"target\",\n",
    "#     x_transform_func=global_x_transform_func,\n",
    "#     domain_modifier=lambda u: f\"wisig_{u}\"\n",
    "# )"
   ]
  },
  {
   "cell_type": "code",
   "execution_count": 19,
   "id": "fd5442bc",
   "metadata": {
    "execution": {
     "iopub.execute_input": "2022-03-21T18:32:24.452605Z",
     "iopub.status.busy": "2022-03-21T18:32:24.452173Z",
     "iopub.status.idle": "2022-03-21T18:32:24.472733Z",
     "shell.execute_reply": "2022-03-21T18:32:24.472037Z"
    },
    "papermill": {
     "duration": 0.049794,
     "end_time": "2022-03-21T18:32:24.472888",
     "exception": false,
     "start_time": "2022-03-21T18:32:24.423094",
     "status": "completed"
    },
    "tags": []
   },
   "outputs": [],
   "source": [
    "###################################\n",
    "# Build the dataset\n",
    "###################################\n",
    "train_original_source = Iterable_Aggregator(train_original_source, p.seed)\n",
    "val_original_source = Iterable_Aggregator(val_original_source, p.seed)\n",
    "test_original_source = Iterable_Aggregator(test_original_source, p.seed)\n",
    "\n",
    "\n",
    "train_original_target = Iterable_Aggregator(train_original_target, p.seed)\n",
    "val_original_target = Iterable_Aggregator(val_original_target, p.seed)\n",
    "test_original_target = Iterable_Aggregator(test_original_target, p.seed)\n",
    "\n",
    "# For CNN We only use X and Y. And we only train on the source.\n",
    "# Properly form the data using a transform lambda and Lazy_Iterable_Wrapper. Finally wrap them in a dataloader\n",
    "\n",
    "transform_lambda = lambda ex: ex[1] # Original is (<domain>, <episode>) so we strip down to episode only\n",
    "\n",
    "train_processed_source = Lazy_Iterable_Wrapper(train_original_source, transform_lambda)\n",
    "val_processed_source   = Lazy_Iterable_Wrapper(val_original_source, transform_lambda)\n",
    "test_processed_source  = Lazy_Iterable_Wrapper(test_original_source, transform_lambda)\n",
    "\n",
    "train_processed_target = Lazy_Iterable_Wrapper(train_original_target, transform_lambda)\n",
    "val_processed_target   = Lazy_Iterable_Wrapper(val_original_target, transform_lambda)\n",
    "test_processed_target  = Lazy_Iterable_Wrapper(test_original_target, transform_lambda)\n",
    "\n",
    "datasets = EasyDict({\n",
    "    \"source\": {\n",
    "        \"original\": {\"train\":train_original_source, \"val\":val_original_source, \"test\":test_original_source},\n",
    "        \"processed\": {\"train\":train_processed_source, \"val\":val_processed_source, \"test\":test_processed_source}\n",
    "    },\n",
    "    \"target\": {\n",
    "        \"original\": {\"train\":train_original_target, \"val\":val_original_target, \"test\":test_original_target},\n",
    "        \"processed\": {\"train\":train_processed_target, \"val\":val_processed_target, \"test\":test_processed_target}\n",
    "    },\n",
    "})"
   ]
  },
  {
   "cell_type": "code",
   "execution_count": 20,
   "id": "5b3c01fc",
   "metadata": {
    "execution": {
     "iopub.execute_input": "2022-03-21T18:32:24.526913Z",
     "iopub.status.busy": "2022-03-21T18:32:24.526361Z",
     "iopub.status.idle": "2022-03-21T18:32:40.094294Z",
     "shell.execute_reply": "2022-03-21T18:32:40.094973Z"
    },
    "papermill": {
     "duration": 15.594867,
     "end_time": "2022-03-21T18:32:40.095182",
     "exception": false,
     "start_time": "2022-03-21T18:32:24.500315",
     "status": "completed"
    },
    "tags": []
   },
   "outputs": [
    {
     "name": "stdout",
     "output_type": "stream",
     "text": [
      "{'ORACLE.run1_32', 'ORACLE.run1_20', 'ORACLE.run1_26', 'ORACLE.run1_38', 'ORACLE.run1_50', 'ORACLE.run1_14', 'ORACLE.run1_44', 'ORACLE.run1_8'}\n"
     ]
    },
    {
     "name": "stdout",
     "output_type": "stream",
     "text": [
      "{'CORES_4', 'CORES_1', 'CORES_3', 'CORES_2', 'CORES_5'}\n"
     ]
    },
    {
     "name": "stdout",
     "output_type": "stream",
     "text": [
      "tensor([[[ 0.5241,  0.9130, -0.9299,  ..., -0.7101,  0.4903, -0.7777],\n",
      "         [-0.4058,  0.3719,  0.1183,  ..., -0.4058, -1.0989, -0.8961]],\n",
      "\n",
      "        [[ 0.1035,  1.1901, -0.4657,  ..., -0.9142,  0.3450, -0.9487],\n",
      "         [-0.6554,  0.0862,  0.5692,  ..., -0.1035, -1.0349, -0.5865]],\n",
      "\n",
      "        [[-0.9837,  0.4315,  1.3634,  ..., -0.4832,  0.1898,  1.2081],\n",
      "         [-0.2934, -0.2416,  0.0345,  ...,  1.1218,  1.0010,  0.1726]],\n",
      "\n",
      "        ...,\n",
      "\n",
      "        [[-0.3340,  0.2733,  0.3644,  ..., -0.4251, -1.3816, -0.9869],\n",
      "         [-0.2733, -1.0932,  0.5769,  ...,  0.9413, -0.5466,  0.3492]],\n",
      "\n",
      "        [[ 0.5510, -0.4765, -0.5808,  ...,  0.2681,  1.2956,  0.6255],\n",
      "         [ 0.8786,  0.8935, -1.0126,  ..., -0.7446,  0.4021, -0.9233]],\n",
      "\n",
      "        [[ 0.4354, -0.7207, -0.5405,  ...,  0.8558,  1.0360,  0.3754],\n",
      "         [ 1.0210,  0.7658, -1.1111,  ..., -0.4655,  0.4504, -1.1561]]])\n"
     ]
    }
   ],
   "source": [
    "from steves_utils.transforms import get_average_magnitude, get_average_power\n",
    "\n",
    "print(set([u for u,_ in val_original_source]))\n",
    "print(set([u for u,_ in val_original_target]))\n",
    "\n",
    "s_x, s_y, q_x, q_y, _ = next(iter(train_processed_source))\n",
    "print(s_x)\n",
    "\n",
    "# for ds in [\n",
    "#     train_processed_source,\n",
    "#     val_processed_source,\n",
    "#     test_processed_source,\n",
    "#     train_processed_target,\n",
    "#     val_processed_target,\n",
    "#     test_processed_target\n",
    "# ]:\n",
    "#     for s_x, s_y, q_x, q_y, _ in ds:\n",
    "#         for X in (s_x, q_x):\n",
    "#             for x in X:\n",
    "#                 assert np.isclose(get_average_magnitude(x.numpy()), 1.0)\n",
    "#                 assert np.isclose(get_average_power(x.numpy()), 1.0)\n",
    "                "
   ]
  },
  {
   "cell_type": "code",
   "execution_count": 21,
   "id": "bbdacba1",
   "metadata": {
    "execution": {
     "iopub.execute_input": "2022-03-21T18:32:40.149252Z",
     "iopub.status.busy": "2022-03-21T18:32:40.148616Z",
     "iopub.status.idle": "2022-03-21T18:32:40.267616Z",
     "shell.execute_reply": "2022-03-21T18:32:40.267925Z"
    },
    "papermill": {
     "duration": 0.147598,
     "end_time": "2022-03-21T18:32:40.268051",
     "exception": false,
     "start_time": "2022-03-21T18:32:40.120453",
     "status": "completed"
    },
    "tags": []
   },
   "outputs": [
    {
     "name": "stdout",
     "output_type": "stream",
     "text": [
      "(2, 256)\n"
     ]
    }
   ],
   "source": [
    "###################################\n",
    "# Build the model\n",
    "###################################\n",
    "# easfsl only wants a tuple for the shape\n",
    "model = Steves_Prototypical_Network(x_net, device=p.device, x_shape=tuple(p.x_shape))\n",
    "optimizer = Adam(params=model.parameters(), lr=p.lr)"
   ]
  },
  {
   "cell_type": "code",
   "execution_count": 22,
   "id": "22b39ac5",
   "metadata": {
    "execution": {
     "iopub.execute_input": "2022-03-21T18:32:40.317577Z",
     "iopub.status.busy": "2022-03-21T18:32:40.317206Z",
     "iopub.status.idle": "2022-03-21T18:56:33.337888Z",
     "shell.execute_reply": "2022-03-21T18:56:33.337548Z"
    },
    "papermill": {
     "duration": 1433.047309,
     "end_time": "2022-03-21T18:56:33.337974",
     "exception": false,
     "start_time": "2022-03-21T18:32:40.290665",
     "status": "completed"
    },
    "tags": []
   },
   "outputs": [
    {
     "name": "stdout",
     "output_type": "stream",
     "text": [
      "epoch: 1, [batch: 1 / 6720], examples_per_second: 33.1973, train_label_loss: 2.9158, \n"
     ]
    },
    {
     "name": "stdout",
     "output_type": "stream",
     "text": [
      "epoch: 1, [batch: 672 / 6720], examples_per_second: 2855.7584, train_label_loss: 1.6906, \n"
     ]
    },
    {
     "name": "stdout",
     "output_type": "stream",
     "text": [
      "epoch: 1, [batch: 1344 / 6720], examples_per_second: 2774.3526, train_label_loss: 0.7525, \n"
     ]
    },
    {
     "name": "stdout",
     "output_type": "stream",
     "text": [
      "epoch: 1, [batch: 2016 / 6720], examples_per_second: 2580.4917, train_label_loss: 0.7658, \n"
     ]
    },
    {
     "name": "stdout",
     "output_type": "stream",
     "text": [
      "epoch: 1, [batch: 2688 / 6720], examples_per_second: 2524.9591, train_label_loss: 0.5707, \n"
     ]
    },
    {
     "name": "stdout",
     "output_type": "stream",
     "text": [
      "epoch: 1, [batch: 3360 / 6720], examples_per_second: 2542.9130, train_label_loss: 0.4608, \n"
     ]
    },
    {
     "name": "stdout",
     "output_type": "stream",
     "text": [
      "epoch: 1, [batch: 4032 / 6720], examples_per_second: 2550.1721, train_label_loss: 0.6100, \n"
     ]
    },
    {
     "name": "stdout",
     "output_type": "stream",
     "text": [
      "epoch: 1, [batch: 4704 / 6720], examples_per_second: 2597.5093, train_label_loss: 0.4145, \n"
     ]
    },
    {
     "name": "stdout",
     "output_type": "stream",
     "text": [
      "epoch: 1, [batch: 5376 / 6720], examples_per_second: 2872.0777, train_label_loss: 0.6067, \n"
     ]
    },
    {
     "name": "stdout",
     "output_type": "stream",
     "text": [
      "epoch: 1, [batch: 6048 / 6720], examples_per_second: 2917.6333, train_label_loss: 0.6282, \n"
     ]
    },
    {
     "name": "stdout",
     "output_type": "stream",
     "text": [
      "=============================================================\n",
      "epoch: 1, source_val_acc_label: 0.7371, target_val_acc_label: 0.7521, source_val_label_loss: 0.8605, target_val_label_loss: 1.9281, \n",
      "=============================================================\n"
     ]
    },
    {
     "name": "stdout",
     "output_type": "stream",
     "text": [
      "New best\n"
     ]
    },
    {
     "name": "stdout",
     "output_type": "stream",
     "text": [
      "epoch: 2, [batch: 1 / 6720], examples_per_second: 3.1003, train_label_loss: 0.8821, \n"
     ]
    },
    {
     "name": "stdout",
     "output_type": "stream",
     "text": [
      "epoch: 2, [batch: 672 / 6720], examples_per_second: 3476.6844, train_label_loss: 0.7944, \n"
     ]
    },
    {
     "name": "stdout",
     "output_type": "stream",
     "text": [
      "epoch: 2, [batch: 1344 / 6720], examples_per_second: 3331.7624, train_label_loss: 0.4800, \n"
     ]
    },
    {
     "name": "stdout",
     "output_type": "stream",
     "text": [
      "epoch: 2, [batch: 2016 / 6720], examples_per_second: 3004.6579, train_label_loss: 0.5196, \n"
     ]
    },
    {
     "name": "stdout",
     "output_type": "stream",
     "text": [
      "epoch: 2, [batch: 2688 / 6720], examples_per_second: 2971.5548, train_label_loss: 0.5800, \n"
     ]
    },
    {
     "name": "stdout",
     "output_type": "stream",
     "text": [
      "epoch: 2, [batch: 3360 / 6720], examples_per_second: 3000.1132, train_label_loss: 0.2681, \n"
     ]
    },
    {
     "name": "stdout",
     "output_type": "stream",
     "text": [
      "epoch: 2, [batch: 4032 / 6720], examples_per_second: 2942.6014, train_label_loss: 0.5249, \n"
     ]
    },
    {
     "name": "stdout",
     "output_type": "stream",
     "text": [
      "epoch: 2, [batch: 4704 / 6720], examples_per_second: 2999.5260, train_label_loss: 0.4382, \n"
     ]
    },
    {
     "name": "stdout",
     "output_type": "stream",
     "text": [
      "epoch: 2, [batch: 5376 / 6720], examples_per_second: 3239.1056, train_label_loss: 0.8692, \n"
     ]
    },
    {
     "name": "stdout",
     "output_type": "stream",
     "text": [
      "epoch: 2, [batch: 6048 / 6720], examples_per_second: 3407.4047, train_label_loss: 0.1643, \n"
     ]
    },
    {
     "name": "stdout",
     "output_type": "stream",
     "text": [
      "=============================================================\n",
      "epoch: 2, source_val_acc_label: 0.8493, target_val_acc_label: 0.8571, source_val_label_loss: 0.4192, target_val_label_loss: 1.1791, \n",
      "=============================================================\n"
     ]
    },
    {
     "name": "stdout",
     "output_type": "stream",
     "text": [
      "New best\n"
     ]
    },
    {
     "name": "stdout",
     "output_type": "stream",
     "text": [
      "epoch: 3, [batch: 1 / 6720], examples_per_second: 3.0890, train_label_loss: 0.7303, \n"
     ]
    },
    {
     "name": "stdout",
     "output_type": "stream",
     "text": [
      "epoch: 3, [batch: 672 / 6720], examples_per_second: 3352.5794, train_label_loss: 0.3095, \n"
     ]
    },
    {
     "name": "stdout",
     "output_type": "stream",
     "text": [
      "epoch: 3, [batch: 1344 / 6720], examples_per_second: 3212.0280, train_label_loss: 0.1463, \n"
     ]
    },
    {
     "name": "stdout",
     "output_type": "stream",
     "text": [
      "epoch: 3, [batch: 2016 / 6720], examples_per_second: 2927.9580, train_label_loss: 0.1486, \n"
     ]
    },
    {
     "name": "stdout",
     "output_type": "stream",
     "text": [
      "epoch: 3, [batch: 2688 / 6720], examples_per_second: 2988.4643, train_label_loss: 0.5604, \n"
     ]
    },
    {
     "name": "stdout",
     "output_type": "stream",
     "text": [
      "epoch: 3, [batch: 3360 / 6720], examples_per_second: 3013.5682, train_label_loss: 0.3632, \n"
     ]
    },
    {
     "name": "stdout",
     "output_type": "stream",
     "text": [
      "epoch: 3, [batch: 4032 / 6720], examples_per_second: 2364.9749, train_label_loss: 0.3847, \n"
     ]
    },
    {
     "name": "stdout",
     "output_type": "stream",
     "text": [
      "epoch: 3, [batch: 4704 / 6720], examples_per_second: 2312.6555, train_label_loss: 0.5121, \n"
     ]
    },
    {
     "name": "stdout",
     "output_type": "stream",
     "text": [
      "epoch: 3, [batch: 5376 / 6720], examples_per_second: 2494.9445, train_label_loss: 0.4388, \n"
     ]
    },
    {
     "name": "stdout",
     "output_type": "stream",
     "text": [
      "epoch: 3, [batch: 6048 / 6720], examples_per_second: 2614.7184, train_label_loss: 0.5540, \n"
     ]
    },
    {
     "name": "stdout",
     "output_type": "stream",
     "text": [
      "=============================================================\n",
      "epoch: 3, source_val_acc_label: 0.8705, target_val_acc_label: 0.8468, source_val_label_loss: 0.3597, target_val_label_loss: 1.2815, \n",
      "=============================================================\n"
     ]
    },
    {
     "name": "stdout",
     "output_type": "stream",
     "text": [
      "epoch: 4, [batch: 1 / 6720], examples_per_second: 2.3006, train_label_loss: 0.3347, \n"
     ]
    },
    {
     "name": "stdout",
     "output_type": "stream",
     "text": [
      "epoch: 4, [batch: 672 / 6720], examples_per_second: 2564.7613, train_label_loss: 0.2674, \n"
     ]
    },
    {
     "name": "stdout",
     "output_type": "stream",
     "text": [
      "epoch: 4, [batch: 1344 / 6720], examples_per_second: 2587.3290, train_label_loss: 0.4443, \n"
     ]
    },
    {
     "name": "stdout",
     "output_type": "stream",
     "text": [
      "epoch: 4, [batch: 2016 / 6720], examples_per_second: 2612.0863, train_label_loss: 0.2160, \n"
     ]
    },
    {
     "name": "stdout",
     "output_type": "stream",
     "text": [
      "epoch: 4, [batch: 2688 / 6720], examples_per_second: 2589.7562, train_label_loss: 0.2914, \n"
     ]
    },
    {
     "name": "stdout",
     "output_type": "stream",
     "text": [
      "epoch: 4, [batch: 3360 / 6720], examples_per_second: 2631.3454, train_label_loss: 0.5004, \n"
     ]
    },
    {
     "name": "stdout",
     "output_type": "stream",
     "text": [
      "epoch: 4, [batch: 4032 / 6720], examples_per_second: 2525.0229, train_label_loss: 0.2522, \n"
     ]
    },
    {
     "name": "stdout",
     "output_type": "stream",
     "text": [
      "epoch: 4, [batch: 4704 / 6720], examples_per_second: 2561.2337, train_label_loss: 0.7549, \n"
     ]
    },
    {
     "name": "stdout",
     "output_type": "stream",
     "text": [
      "epoch: 4, [batch: 5376 / 6720], examples_per_second: 2708.9890, train_label_loss: 0.4467, \n"
     ]
    },
    {
     "name": "stdout",
     "output_type": "stream",
     "text": [
      "epoch: 4, [batch: 6048 / 6720], examples_per_second: 2934.8791, train_label_loss: 0.2767, \n"
     ]
    },
    {
     "name": "stdout",
     "output_type": "stream",
     "text": [
      "=============================================================\n",
      "epoch: 4, source_val_acc_label: 0.8868, target_val_acc_label: 0.8334, source_val_label_loss: 0.3174, target_val_label_loss: 1.5880, \n",
      "=============================================================\n"
     ]
    },
    {
     "name": "stdout",
     "output_type": "stream",
     "text": [
      "epoch: 5, [batch: 1 / 6720], examples_per_second: 2.8456, train_label_loss: 0.2611, \n"
     ]
    },
    {
     "name": "stdout",
     "output_type": "stream",
     "text": [
      "epoch: 5, [batch: 672 / 6720], examples_per_second: 2934.3097, train_label_loss: 0.3036, \n"
     ]
    },
    {
     "name": "stdout",
     "output_type": "stream",
     "text": [
      "epoch: 5, [batch: 1344 / 6720], examples_per_second: 3077.3624, train_label_loss: 0.3091, \n"
     ]
    },
    {
     "name": "stdout",
     "output_type": "stream",
     "text": [
      "epoch: 5, [batch: 2016 / 6720], examples_per_second: 3029.9366, train_label_loss: 0.0568, \n"
     ]
    },
    {
     "name": "stdout",
     "output_type": "stream",
     "text": [
      "epoch: 5, [batch: 2688 / 6720], examples_per_second: 2979.6640, train_label_loss: 0.3404, \n"
     ]
    },
    {
     "name": "stdout",
     "output_type": "stream",
     "text": [
      "epoch: 5, [batch: 3360 / 6720], examples_per_second: 2989.0841, train_label_loss: 0.1583, \n"
     ]
    },
    {
     "name": "stdout",
     "output_type": "stream",
     "text": [
      "epoch: 5, [batch: 4032 / 6720], examples_per_second: 2979.8345, train_label_loss: 0.1846, \n"
     ]
    },
    {
     "name": "stdout",
     "output_type": "stream",
     "text": [
      "epoch: 5, [batch: 4704 / 6720], examples_per_second: 2893.2771, train_label_loss: 0.2212, \n"
     ]
    },
    {
     "name": "stdout",
     "output_type": "stream",
     "text": [
      "epoch: 5, [batch: 5376 / 6720], examples_per_second: 2506.7730, train_label_loss: 0.1144, \n"
     ]
    },
    {
     "name": "stdout",
     "output_type": "stream",
     "text": [
      "epoch: 5, [batch: 6048 / 6720], examples_per_second: 2556.9971, train_label_loss: 0.2895, \n"
     ]
    },
    {
     "name": "stdout",
     "output_type": "stream",
     "text": [
      "=============================================================\n",
      "epoch: 5, source_val_acc_label: 0.8902, target_val_acc_label: 0.8031, source_val_label_loss: 0.3055, target_val_label_loss: 2.2761, \n",
      "=============================================================\n"
     ]
    },
    {
     "name": "stdout",
     "output_type": "stream",
     "text": [
      "epoch: 6, [batch: 1 / 6720], examples_per_second: 2.2422, train_label_loss: 0.4987, \n"
     ]
    },
    {
     "name": "stdout",
     "output_type": "stream",
     "text": [
      "epoch: 6, [batch: 672 / 6720], examples_per_second: 2328.0993, train_label_loss: 0.3811, \n"
     ]
    },
    {
     "name": "stdout",
     "output_type": "stream",
     "text": [
      "epoch: 6, [batch: 1344 / 6720], examples_per_second: 2304.2008, train_label_loss: 0.2110, \n"
     ]
    },
    {
     "name": "stdout",
     "output_type": "stream",
     "text": [
      "epoch: 6, [batch: 2016 / 6720], examples_per_second: 2307.4416, train_label_loss: 0.2234, \n"
     ]
    },
    {
     "name": "stdout",
     "output_type": "stream",
     "text": [
      "epoch: 6, [batch: 2688 / 6720], examples_per_second: 2309.0253, train_label_loss: 0.2814, \n"
     ]
    },
    {
     "name": "stdout",
     "output_type": "stream",
     "text": [
      "epoch: 6, [batch: 3360 / 6720], examples_per_second: 2357.2060, train_label_loss: 0.2072, \n"
     ]
    },
    {
     "name": "stdout",
     "output_type": "stream",
     "text": [
      "epoch: 6, [batch: 4032 / 6720], examples_per_second: 2568.4731, train_label_loss: 0.3780, \n"
     ]
    },
    {
     "name": "stdout",
     "output_type": "stream",
     "text": [
      "epoch: 6, [batch: 4704 / 6720], examples_per_second: 2609.4058, train_label_loss: 0.3745, \n"
     ]
    },
    {
     "name": "stdout",
     "output_type": "stream",
     "text": [
      "epoch: 6, [batch: 5376 / 6720], examples_per_second: 2533.0687, train_label_loss: 0.0484, \n"
     ]
    },
    {
     "name": "stdout",
     "output_type": "stream",
     "text": [
      "epoch: 6, [batch: 6048 / 6720], examples_per_second: 2514.4153, train_label_loss: 0.6538, \n"
     ]
    },
    {
     "name": "stdout",
     "output_type": "stream",
     "text": [
      "=============================================================\n",
      "epoch: 6, source_val_acc_label: 0.8889, target_val_acc_label: 0.8063, source_val_label_loss: 0.3091, target_val_label_loss: 2.5559, \n",
      "=============================================================\n"
     ]
    },
    {
     "name": "stdout",
     "output_type": "stream",
     "text": [
      "Patience (3) exhausted\n"
     ]
    }
   ],
   "source": [
    "###################################\n",
    "# train\n",
    "###################################\n",
    "jig = PTN_Train_Eval_Test_Jig(model, p.BEST_MODEL_PATH, p.device)\n",
    "\n",
    "jig.train(\n",
    "    train_iterable=datasets.source.processed.train,\n",
    "    source_val_iterable=datasets.source.processed.val,\n",
    "    target_val_iterable=datasets.target.processed.val,\n",
    "    num_epochs=p.n_epoch,\n",
    "    num_logs_per_epoch=p.NUM_LOGS_PER_EPOCH,\n",
    "    patience=p.patience,\n",
    "    optimizer=optimizer,\n",
    "    criteria_for_best=p.criteria_for_best,\n",
    ")"
   ]
  },
  {
   "cell_type": "code",
   "execution_count": 23,
   "id": "31e8fabf",
   "metadata": {
    "execution": {
     "iopub.execute_input": "2022-03-21T18:56:33.424690Z",
     "iopub.status.busy": "2022-03-21T18:56:33.424128Z",
     "iopub.status.idle": "2022-03-21T18:56:33.456077Z",
     "shell.execute_reply": "2022-03-21T18:56:33.455346Z"
    },
    "papermill": {
     "duration": 0.077694,
     "end_time": "2022-03-21T18:56:33.456248",
     "exception": false,
     "start_time": "2022-03-21T18:56:33.378554",
     "status": "completed"
    },
    "tags": []
   },
   "outputs": [],
   "source": [
    "total_experiment_time_secs = time.time() - start_time_secs"
   ]
  },
  {
   "cell_type": "code",
   "execution_count": 24,
   "id": "87b9595b",
   "metadata": {
    "execution": {
     "iopub.execute_input": "2022-03-21T18:56:33.555190Z",
     "iopub.status.busy": "2022-03-21T18:56:33.554595Z",
     "iopub.status.idle": "2022-03-21T19:00:50.199077Z",
     "shell.execute_reply": "2022-03-21T19:00:50.199836Z"
    },
    "papermill": {
     "duration": 256.69543,
     "end_time": "2022-03-21T19:00:50.200091",
     "exception": false,
     "start_time": "2022-03-21T18:56:33.504661",
     "status": "completed"
    },
    "tags": []
   },
   "outputs": [],
   "source": [
    "###################################\n",
    "# Evaluate the model\n",
    "###################################\n",
    "source_test_label_accuracy, source_test_label_loss = jig.test(datasets.source.processed.test)\n",
    "target_test_label_accuracy, target_test_label_loss = jig.test(datasets.target.processed.test)\n",
    "\n",
    "source_val_label_accuracy, source_val_label_loss = jig.test(datasets.source.processed.val)\n",
    "target_val_label_accuracy, target_val_label_loss = jig.test(datasets.target.processed.val)\n",
    "\n",
    "history = jig.get_history()\n",
    "\n",
    "total_epochs_trained = len(history[\"epoch_indices\"])\n",
    "\n",
    "val_dl = Iterable_Aggregator((datasets.source.original.val,datasets.target.original.val))\n",
    "\n",
    "confusion = ptn_confusion_by_domain_over_dataloader(model, p.device, val_dl)\n",
    "per_domain_accuracy = per_domain_accuracy_from_confusion(confusion)\n",
    "\n",
    "# Add a key to per_domain_accuracy for if it was a source domain\n",
    "for domain, accuracy in per_domain_accuracy.items():\n",
    "    per_domain_accuracy[domain] = {\n",
    "        \"accuracy\": accuracy,\n",
    "        \"source?\": domain in p.domains_source\n",
    "    }\n",
    "\n",
    "# Do an independent accuracy assesment JUST TO BE SURE!\n",
    "# _source_test_label_accuracy = independent_accuracy_assesment(model, datasets.source.processed.test, p.device)\n",
    "# _target_test_label_accuracy = independent_accuracy_assesment(model, datasets.target.processed.test, p.device)\n",
    "# _source_val_label_accuracy = independent_accuracy_assesment(model, datasets.source.processed.val, p.device)\n",
    "# _target_val_label_accuracy = independent_accuracy_assesment(model, datasets.target.processed.val, p.device)\n",
    "\n",
    "# assert(_source_test_label_accuracy == source_test_label_accuracy)\n",
    "# assert(_target_test_label_accuracy == target_test_label_accuracy)\n",
    "# assert(_source_val_label_accuracy == source_val_label_accuracy)\n",
    "# assert(_target_val_label_accuracy == target_val_label_accuracy)\n",
    "\n",
    "experiment = {\n",
    "    \"experiment_name\": p.experiment_name,\n",
    "    \"parameters\": dict(p),\n",
    "    \"results\": {\n",
    "        \"source_test_label_accuracy\": source_test_label_accuracy,\n",
    "        \"source_test_label_loss\": source_test_label_loss,\n",
    "        \"target_test_label_accuracy\": target_test_label_accuracy,\n",
    "        \"target_test_label_loss\": target_test_label_loss,\n",
    "        \"source_val_label_accuracy\": source_val_label_accuracy,\n",
    "        \"source_val_label_loss\": source_val_label_loss,\n",
    "        \"target_val_label_accuracy\": target_val_label_accuracy,\n",
    "        \"target_val_label_loss\": target_val_label_loss,\n",
    "        \"total_epochs_trained\": total_epochs_trained,\n",
    "        \"total_experiment_time_secs\": total_experiment_time_secs,\n",
    "        \"confusion\": confusion,\n",
    "        \"per_domain_accuracy\": per_domain_accuracy,\n",
    "    },\n",
    "    \"history\": history,\n",
    "    \"dataset_metrics\": get_dataset_metrics(datasets, \"ptn\"),\n",
    "}"
   ]
  },
  {
   "cell_type": "code",
   "execution_count": 25,
   "id": "54a21829",
   "metadata": {
    "execution": {
     "iopub.execute_input": "2022-03-21T19:00:50.297762Z",
     "iopub.status.busy": "2022-03-21T19:00:50.297184Z",
     "iopub.status.idle": "2022-03-21T19:00:50.511189Z",
     "shell.execute_reply": "2022-03-21T19:00:50.511895Z"
    },
    "papermill": {
     "duration": 0.260576,
     "end_time": "2022-03-21T19:00:50.512129",
     "exception": false,
     "start_time": "2022-03-21T19:00:50.251553",
     "status": "completed"
    },
    "tags": []
   },
   "outputs": [
    {
     "data": {
      "image/png": "[encoded data removed]",
      "text/plain": [
       "<Figure size 1080x504 with 1 Axes>"
      ]
     },
     "metadata": {
      "needs_background": "light"
     },
     "output_type": "display_data"
    }
   ],
   "source": [
    "ax = get_loss_curve(experiment)\n",
    "plt.show()"
   ]
  },
  {
   "cell_type": "code",
   "execution_count": 26,
   "id": "fd8a0f60",
   "metadata": {
    "execution": {
     "iopub.execute_input": "2022-03-21T19:00:50.602177Z",
     "iopub.status.busy": "2022-03-21T19:00:50.601613Z",
     "iopub.status.idle": "2022-03-21T19:00:50.988698Z",
     "shell.execute_reply": "2022-03-21T19:00:50.989011Z"
    },
    "papermill": {
     "duration": 0.431403,
     "end_time": "2022-03-21T19:00:50.989132",
     "exception": false,
     "start_time": "2022-03-21T19:00:50.557729",
     "status": "completed"
    },
    "tags": []
   },
   "outputs": [
    {
     "data": {
      "text/plain": [
       "<AxesSubplot:title={'center':'Results'}>"
      ]
     },
     "execution_count": 26,
     "metadata": {},
     "output_type": "execute_result"
    },
    {
     "data": {
      "image/png": "[encoded data removed]",
      "text/plain": [
       "<Figure size 1080x504 with 1 Axes>"
      ]
     },
     "metadata": {
      "needs_background": "light"
     },
     "output_type": "display_data"
    }
   ],
   "source": [
    "get_results_table(experiment)"
   ]
  },
  {
   "cell_type": "code",
   "execution_count": 27,
   "id": "cf8dc689",
   "metadata": {
    "execution": {
     "iopub.execute_input": "2022-03-21T19:00:51.091199Z",
     "iopub.status.busy": "2022-03-21T19:00:51.090823Z",
     "iopub.status.idle": "2022-03-21T19:00:51.368433Z",
     "shell.execute_reply": "2022-03-21T19:00:51.367595Z"
    },
    "papermill": {
     "duration": 0.32618,
     "end_time": "2022-03-21T19:00:51.368600",
     "exception": false,
     "start_time": "2022-03-21T19:00:51.042420",
     "status": "completed"
    },
    "tags": []
   },
   "outputs": [
    {
     "data": {
      "text/plain": [
       "<AxesSubplot:title={'center':'Per Domain Validation Accuracy'}, xlabel='domain'>"
      ]
     },
     "execution_count": 27,
     "metadata": {},
     "output_type": "execute_result"
    },
    {
     "data": {
      "image/png": "[encoded data removed]",
      "text/plain": [
       "<Figure size 1080x504 with 1 Axes>"
      ]
     },
     "metadata": {
      "needs_background": "light"
     },
     "output_type": "display_data"
    }
   ],
   "source": [
    "get_domain_accuracies(experiment)"
   ]
  },
  {
   "cell_type": "code",
   "execution_count": 28,
   "id": "a74ae082",
   "metadata": {
    "execution": {
     "iopub.execute_input": "2022-03-21T19:00:51.467641Z",
     "iopub.status.busy": "2022-03-21T19:00:51.467258Z",
     "iopub.status.idle": "2022-03-21T19:00:51.494470Z",
     "shell.execute_reply": "2022-03-21T19:00:51.493808Z"
    },
    "papermill": {
     "duration": 0.076747,
     "end_time": "2022-03-21T19:00:51.494626",
     "exception": false,
     "start_time": "2022-03-21T19:00:51.417879",
     "status": "completed"
    },
    "tags": []
   },
   "outputs": [
    {
     "name": "stdout",
     "output_type": "stream",
     "text": [
      "Source Test Label Accuracy: 0.8516927083333333 Target Test Label Accuracy: 0.858813202247191\n",
      "Source Val Label Accuracy: 0.8493489583333333 Target Val Label Accuracy: 0.8571071428571428\n"
     ]
    }
   ],
   "source": [
    "print(\"Source Test Label Accuracy:\", experiment[\"results\"][\"source_test_label_accuracy\"], \"Target Test Label Accuracy:\", experiment[\"results\"][\"target_test_label_accuracy\"])\n",
    "print(\"Source Val Label Accuracy:\", experiment[\"results\"][\"source_val_label_accuracy\"], \"Target Val Label Accuracy:\", experiment[\"results\"][\"target_val_label_accuracy\"])"
   ]
  },
  {
   "cell_type": "code",
   "execution_count": 29,
   "id": "dacca602",
   "metadata": {
    "execution": {
     "iopub.execute_input": "2022-03-21T19:00:51.593143Z",
     "iopub.status.busy": "2022-03-21T19:00:51.592780Z",
     "iopub.status.idle": "2022-03-21T19:00:51.622977Z",
     "shell.execute_reply": "2022-03-21T19:00:51.623661Z"
    },
    "papermill": {
     "duration": 0.080475,
     "end_time": "2022-03-21T19:00:51.623843",
     "exception": false,
     "start_time": "2022-03-21T19:00:51.543368",
     "status": "completed"
    },
    "tags": [
     "experiment_json"
    ]
   },
   "outputs": [
    {
     "data": {
      "text/plain": [
       "'{\"experiment_name\": \"tl_1v2:cores-oracle.run1.framed\", \"parameters\": {\"experiment_name\": \"tl_1v2:cores-oracle.run1.framed\", \"device\": \"cuda\", \"lr\": 0.0001, \"n_shot\": 3, \"n_query\": 2, \"train_k_factor\": 3, \"val_k_factor\": 2, \"test_k_factor\": 2, \"torch_default_dtype\": \"torch.float32\", \"n_epoch\": 50, \"patience\": 3, \"criteria_for_best\": \"target_accuracy\", \"x_net\": [{\"class\": \"nnReshape\", \"kargs\": {\"shape\": [-1, 1, 2, 256]}}, {\"class\": \"Conv2d\", \"kargs\": {\"in_channels\": 1, \"out_channels\": 256, \"kernel_size\": [1, 7], \"bias\": false, \"padding\": [0, 3]}}, {\"class\": \"ReLU\", \"kargs\": {\"inplace\": true}}, {\"class\": \"BatchNorm2d\", \"kargs\": {\"num_features\": 256}}, {\"class\": \"Conv2d\", \"kargs\": {\"in_channels\": 256, \"out_channels\": 80, \"kernel_size\": [2, 7], \"bias\": true, \"padding\": [0, 3]}}, {\"class\": \"ReLU\", \"kargs\": {\"inplace\": true}}, {\"class\": \"BatchNorm2d\", \"kargs\": {\"num_features\": 80}}, {\"class\": \"Flatten\", \"kargs\": {}}, {\"class\": \"Linear\", \"kargs\": {\"in_features\": 20480, \"out_features\": 256}}, {\"class\": \"ReLU\", \"kargs\": {\"inplace\": true}}, {\"class\": \"BatchNorm1d\", \"kargs\": {\"num_features\": 256}}, {\"class\": \"Linear\", \"kargs\": {\"in_features\": 256, \"out_features\": 256}}], \"NUM_LOGS_PER_EPOCH\": 10, \"BEST_MODEL_PATH\": \"./best_model.pth\", \"n_way\": 16, \"datasets\": [{\"labels\": [\"1-10.\", \"1-11.\", \"1-15.\", \"1-16.\", \"1-17.\", \"1-18.\", \"1-19.\", \"10-4.\", \"10-7.\", \"11-1.\", \"11-14.\", \"11-17.\", \"11-20.\", \"11-7.\", \"13-20.\", \"13-8.\", \"14-10.\", \"14-11.\", \"14-14.\", \"14-7.\", \"15-1.\", \"15-20.\", \"16-1.\", \"16-16.\", \"17-10.\", \"17-11.\", \"17-2.\", \"19-1.\", \"19-16.\", \"19-19.\", \"19-20.\", \"19-3.\", \"2-10.\", \"2-11.\", \"2-17.\", \"2-18.\", \"2-20.\", \"2-3.\", \"2-4.\", \"2-5.\", \"2-6.\", \"2-7.\", \"2-8.\", \"3-13.\", \"3-18.\", \"3-3.\", \"4-1.\", \"4-10.\", \"4-11.\", \"4-19.\", \"5-5.\", \"6-15.\", \"7-10.\", \"7-14.\", \"8-18.\", \"8-20.\", \"8-3.\", \"8-8.\"], \"domains\": [1, 2, 3, 4, 5], \"num_examples_per_domain_per_label\": -1, \"pickle_path\": \"/root/csc500-main/datasets/cores.stratified_ds.2022A.pkl\", \"source_or_target_dataset\": \"target\", \"x_transforms\": [\"unit_power\"], \"episode_transforms\": [], \"domain_prefix\": \"CORES_\"}, {\"labels\": [\"3123D52\", \"3123D65\", \"3123D79\", \"3123D80\", \"3123D54\", \"3123D70\", \"3123D7B\", \"3123D89\", \"3123D58\", \"3123D76\", \"3123D7D\", \"3123EFE\", \"3123D64\", \"3123D78\", \"3123D7E\", \"3124E4A\"], \"domains\": [32, 38, 8, 44, 14, 50, 20, 26], \"num_examples_per_domain_per_label\": 2000, \"pickle_path\": \"/root/csc500-main/datasets/oracle.Run1_framed_2000Examples_stratified_ds.2022A.pkl\", \"source_or_target_dataset\": \"source\", \"x_transforms\": [\"unit_power\"], \"episode_transforms\": [], \"domain_prefix\": \"ORACLE.run1_\"}], \"dataset_seed\": 500, \"seed\": 500, \"x_shape\": [2, 256], \"domains_source\": [\"ORACLE.run1_32\", \"ORACLE.run1_38\", \"ORACLE.run1_8\", \"ORACLE.run1_44\", \"ORACLE.run1_14\", \"ORACLE.run1_50\", \"ORACLE.run1_20\", \"ORACLE.run1_26\"], \"domains_target\": [\"CORES_1\", \"CORES_2\", \"CORES_3\", \"CORES_4\", \"CORES_5\"]}, \"results\": {\"source_test_label_accuracy\": 0.8516927083333333, \"source_test_label_loss\": 0.4173485338687897, \"target_test_label_accuracy\": 0.858813202247191, \"target_test_label_loss\": 1.191283106803894, \"source_val_label_accuracy\": 0.8493489583333333, \"source_val_label_loss\": 0.4192086458206177, \"target_val_label_accuracy\": 0.8571071428571428, \"target_val_label_loss\": 1.179139494895935, \"total_epochs_trained\": 6, \"total_experiment_time_secs\": 1491.901569366455, \"confusion\": {\"ORACLE.run1_50\": {\"7\": {\"13\": 27, \"7\": 195, \"5\": 10, \"10\": 4, \"6\": 4}, \"10\": {\"10\": 236, \"13\": 1, \"8\": 1, \"0\": 2}, \"0\": {\"0\": 220, \"2\": 16, \"10\": 4}, \"11\": {\"11\": 229, \"15\": 9, \"9\": 2}, \"2\": {\"2\": 224, \"0\": 16}, \"14\": {\"14\": 240}, \"9\": {\"9\": 229, \"11\": 8, \"12\": 3}, \"13\": {\"7\": 11, \"13\": 202, \"5\": 13, \"10\": 3, \"6\": 9, \"0\": 1, \"4\": 1}, \"8\": {\"8\": 240}, \"15\": {\"15\": 213, \"1\": 17, \"4\": 7, \"6\": 2, \"11\": 1}, \"4\": {\"4\": 144, \"5\": 42, \"15\": 16, \"1\": 27, \"13\": 5, \"6\": 4, \"7\": 1, \"11\": 1}, \"5\": {\"4\": 35, \"13\": 36, \"5\": 139, \"6\": 2, \"7\": 17, \"1\": 9, \"15\": 1, \"10\": 1}, \"3\": {\"3\": 240}, \"1\": {\"1\": 178, \"4\": 20, \"15\": 31, \"5\": 4, \"13\": 1, \"6\": 5, \"11\": 1}, \"6\": {\"1\": 4, \"6\": 223, \"13\": 7, \"7\": 2, \"4\": 2, \"5\": 2}, \"12\": {\"12\": 231, \"11\": 6, \"9\": 2, \"14\": 1}}, \"ORACLE.run1_14\": {\"14\": {\"14\": 223, \"2\": 15, \"13\": 2}, \"6\": {\"6\": 187, \"13\": 48, \"2\": 3, \"14\": 2}, \"5\": {\"5\": 191, \"4\": 28, \"2\": 5, \"1\": 15, \"3\": 1}, \"15\": {\"15\": 240}, \"11\": {\"11\": 227, \"9\": 12, \"0\": 1}, \"8\": {\"8\": 240}, \"12\": {\"12\": 240}, \"1\": {\"1\": 229, \"5\": 8, \"4\": 3}, \"2\": {\"2\": 159, \"14\": 45, \"6\": 12, \"13\": 3, \"5\": 16, \"3\": 3, \"4\": 2}, \"13\": {\"13\": 132, \"6\": 76, \"4\": 3, \"2\": 11, \"3\": 2, \"14\": 14, \"5\": 2}, \"3\": {\"3\": 234, \"2\": 2, \"4\": 3, \"14\": 1}, \"0\": {\"0\": 237, \"14\": 1, \"3\": 1, \"10\": 1}, \"9\": {\"9\": 240}, \"4\": {\"4\": 216, \"3\": 2, \"5\": 21, \"1\": 1}, \"7\": {\"7\": 240}, \"10\": {\"10\": 240}}, \"ORACLE.run1_32\": {\"4\": {\"4\": 192, \"5\": 9, \"13\": 4, \"2\": 27, \"7\": 8}, \"14\": {\"14\": 153, \"11\": 60, \"7\": 7, \"5\": 3, \"0\": 16, \"13\": 1}, \"5\": {\"5\": 136, \"4\": 14, \"13\": 26, \"7\": 45, \"2\": 2, \"3\": 10, \"8\": 3, \"14\": 2, \"0\": 2}, \"10\": {\"10\": 240}, \"13\": {\"7\": 6, \"13\": 186, \"5\": 12, \"8\": 10, \"3\": 12, \"4\": 9, \"0\": 5}, \"9\": {\"9\": 240}, \"6\": {\"6\": 240}, \"3\": {\"3\": 232, \"13\": 4, \"5\": 1, \"8\": 3}, \"15\": {\"15\": 240}, \"7\": {\"7\": 183, \"4\": 14, \"5\": 27, \"13\": 2, \"14\": 8, \"2\": 3, \"11\": 1, \"0\": 2}, \"12\": {\"12\": 240}, \"8\": {\"8\": 206, \"13\": 17, \"0\": 11, \"14\": 2, \"5\": 3, \"3\": 1}, \"11\": {\"14\": 31, \"11\": 209}, \"2\": {\"2\": 184, \"4\": 52, \"5\": 1, \"7\": 3}, \"1\": {\"1\": 240}, \"0\": {\"0\": 212, \"8\": 16, \"13\": 3, \"14\": 6, \"7\": 3}}, \"ORACLE.run1_44\": {\"8\": {\"0\": 74, \"8\": 160, \"5\": 3, \"15\": 3}, \"11\": {\"11\": 237, \"13\": 3}, \"14\": {\"14\": 185, \"4\": 49, \"5\": 1, \"15\": 5}, \"10\": {\"10\": 208, \"1\": 16, \"2\": 13, \"12\": 3}, \"3\": {\"3\": 234, \"1\": 5, \"12\": 1}, \"15\": {\"15\": 206, \"8\": 3, \"14\": 12, \"0\": 15, \"5\": 4}, \"2\": {\"2\": 197, \"7\": 33, \"10\": 8, \"3\": 1, \"1\": 1}, \"12\": {\"12\": 220, \"1\": 20}, \"4\": {\"14\": 67, \"4\": 173}, \"1\": {\"1\": 162, \"12\": 45, \"10\": 15, \"3\": 13, \"2\": 5}, \"0\": {\"0\": 172, \"8\": 56, \"15\": 9, \"5\": 3}, \"9\": {\"6\": 12, \"7\": 70, \"9\": 132, \"13\": 26}, \"5\": {\"5\": 200, \"0\": 17, \"14\": 9, \"8\": 5, \"15\": 8, \"4\": 1}, \"6\": {\"6\": 183, \"13\": 37, \"9\": 16, \"7\": 4}, \"7\": {\"7\": 168, \"9\": 44, \"6\": 5, \"2\": 22, \"1\": 1}, \"13\": {\"13\": 160, \"9\": 28, \"6\": 48, \"11\": 2, \"4\": 1, \"7\": 1}}, \"ORACLE.run1_8\": {\"13\": {\"13\": 130, \"4\": 28, \"0\": 45, \"10\": 22, \"14\": 7, \"6\": 7, \"7\": 1}, \"3\": {\"3\": 240}, \"15\": {\"12\": 18, \"15\": 222}, \"4\": {\"4\": 198, \"6\": 9, \"13\": 22, \"14\": 11}, \"7\": {\"7\": 199, \"6\": 39, \"13\": 1, \"0\": 1}, \"2\": {\"2\": 228, \"3\": 8, \"7\": 4}, \"1\": {\"1\": 237, \"14\": 2, \"11\": 1}, \"0\": {\"0\": 219, \"13\": 18, \"10\": 1, \"6\": 1, \"7\": 1}, \"12\": {\"15\": 54, \"12\": 178, \"3\": 5, \"8\": 3}, \"6\": {\"6\": 188, \"7\": 33, \"4\": 16, \"13\": 3}, \"11\": {\"11\": 230, \"1\": 10}, \"9\": {\"9\": 240}, \"5\": {\"5\": 225, \"1\": 3, \"10\": 7, \"14\": 5}, \"10\": {\"10\": 215, \"4\": 3, \"5\": 1, \"14\": 10, \"13\": 11}, \"14\": {\"14\": 192, \"4\": 23, \"10\": 16, \"13\": 6, \"1\": 3}, \"8\": {\"8\": 237, \"15\": 3}}, \"ORACLE.run1_20\": {\"6\": {\"6\": 227, \"14\": 12, \"8\": 1}, \"11\": {\"11\": 240}, \"5\": {\"5\": 208, \"0\": 14, \"15\": 12, \"1\": 2, \"12\": 3, \"4\": 1}, \"14\": {\"14\": 231, \"6\": 7, \"8\": 2}, \"2\": {\"2\": 178, \"9\": 37, \"12\": 11, \"3\": 4, \"7\": 6, \"13\": 2, \"1\": 2}, \"7\": {\"7\": 229, \"2\": 10, \"8\": 1}, \"3\": {\"3\": 161, \"12\": 38, \"2\": 13, \"9\": 23, \"4\": 3, \"7\": 1, \"5\": 1}, \"4\": {\"4\": 237, \"8\": 3}, \"9\": {\"9\": 180, \"12\": 7, \"2\": 27, \"3\": 26}, \"12\": {\"12\": 142, \"1\": 37, \"3\": 38, \"2\": 11, \"5\": 3, \"9\": 9}, \"0\": {\"5\": 30, \"0\": 193, \"15\": 17}, \"10\": {\"10\": 238, \"14\": 1, \"4\": 1}, \"8\": {\"8\": 233, \"14\": 1, \"4\": 6}, \"13\": {\"13\": 235, \"2\": 4, \"15\": 1}, \"1\": {\"1\": 189, \"12\": 32, \"15\": 12, \"0\": 1, \"5\": 3, \"2\": 2, \"3\": 1}, \"15\": {\"13\": 5, \"15\": 203, \"5\": 11, \"0\": 9, \"1\": 11, \"12\": 1}}, \"ORACLE.run1_38\": {\"3\": {\"3\": 235, \"0\": 2, \"9\": 3}, \"8\": {\"5\": 32, \"8\": 183, \"0\": 14, \"7\": 7, \"15\": 2, \"10\": 2}, \"0\": {\"0\": 162, \"7\": 24, \"8\": 36, \"10\": 4, \"3\": 10, \"5\": 4}, \"2\": {\"2\": 226, \"14\": 11, \"13\": 3}, \"4\": {\"4\": 239, \"12\": 1}, \"7\": {\"7\": 218, \"8\": 11, \"5\": 8, \"0\": 3}, \"12\": {\"12\": 239, \"4\": 1}, \"6\": {\"6\": 233, \"9\": 6, \"5\": 1}, \"15\": {\"15\": 205, \"1\": 20, \"10\": 1, \"5\": 3, \"13\": 8, \"8\": 3}, \"11\": {\"11\": 223, \"14\": 14, \"10\": 1, \"0\": 1, \"4\": 1}, \"9\": {\"9\": 224, \"6\": 16}, \"14\": {\"14\": 234, \"11\": 3, \"2\": 3}, \"10\": {\"10\": 218, \"8\": 7, \"13\": 8, \"14\": 2, \"0\": 1, \"11\": 1, \"7\": 2, \"4\": 1}, \"5\": {\"5\": 145, \"8\": 43, \"7\": 29, \"6\": 6, \"15\": 8, \"0\": 3, \"9\": 6}, \"1\": {\"1\": 238, \"15\": 2}, \"13\": {\"10\": 8, \"13\": 206, \"8\": 1, \"15\": 13, \"1\": 2, \"2\": 6, \"0\": 3, \"5\": 1}}, \"ORACLE.run1_26\": {\"5\": {\"5\": 204, \"2\": 11, \"15\": 1, \"13\": 22, \"3\": 1, \"9\": 1}, \"8\": {\"4\": 14, \"0\": 14, \"8\": 147, \"7\": 16, \"10\": 45, \"14\": 1, \"15\": 1, \"2\": 2}, \"4\": {\"14\": 71, \"0\": 21, \"4\": 120, \"10\": 11, \"8\": 9, \"1\": 2, \"7\": 6}, \"12\": {\"12\": 240}, \"6\": {\"6\": 212, \"15\": 4, \"10\": 10, \"9\": 11, \"0\": 3}, \"7\": {\"7\": 194, \"2\": 9, \"8\": 8, \"3\": 19, \"4\": 7, \"1\": 2, \"0\": 1}, \"10\": {\"10\": 120, \"14\": 9, \"8\": 28, \"15\": 1, \"0\": 68, \"4\": 10, \"6\": 4}, \"0\": {\"0\": 108, \"4\": 28, \"14\": 29, \"10\": 58, \"8\": 15, \"7\": 2}, \"15\": {\"15\": 155, \"9\": 69, \"6\": 8, \"7\": 1, \"13\": 4, \"2\": 1, \"8\": 2}, \"9\": {\"9\": 165, \"15\": 50, \"6\": 16, \"10\": 3, \"13\": 3, \"8\": 2, \"5\": 1}, \"11\": {\"11\": 240}, \"14\": {\"4\": 61, \"14\": 140, \"7\": 1, \"0\": 24, \"8\": 2, \"1\": 8, \"10\": 4}, \"2\": {\"2\": 119, \"3\": 80, \"15\": 14, \"7\": 10, \"8\": 4, \"5\": 12, \"13\": 1}, \"13\": {\"13\": 192, \"5\": 42, \"2\": 1, \"15\": 4, \"9\": 1}, \"3\": {\"3\": 196, \"7\": 12, \"2\": 32}, \"1\": {\"14\": 11, \"1\": 222, \"4\": 6, \"8\": 1}}, \"CORES_4\": {\"38\": {\"38\": 39, \"22\": 1}, \"3\": {\"3\": 68, \"44\": 1, \"26\": 2, \"48\": 16, \"4\": 7, \"36\": 8, \"25\": 7, \"27\": 1, \"50\": 1, \"20\": 1, \"53\": 6, \"8\": 2, \"29\": 1, \"18\": 1, \"40\": 2}, \"24\": {\"24\": 56}, \"49\": {\"49\": 20}, \"7\": {\"7\": 22, \"43\": 2}, \"17\": {\"17\": 78, \"50\": 2}, \"43\": {\"43\": 145, \"0\": 3}, \"30\": {\"30\": 39, \"21\": 4, \"17\": 1}, \"44\": {\"44\": 95, \"19\": 25, \"6\": 7, \"40\": 2, \"51\": 3}, \"23\": {\"23\": 142, \"42\": 2}, \"37\": {\"37\": 24}, \"4\": {\"4\": 127, \"50\": 1, \"9\": 1, \"45\": 1, \"21\": 1, \"8\": 1}, \"57\": {\"57\": 94, \"52\": 3, \"47\": 3}, \"16\": {\"16\": 82, \"47\": 4, \"57\": 2, \"11\": 2, \"46\": 2, \"1\": 2, \"35\": 1, \"56\": 1}, \"18\": {\"18\": 100, \"54\": 1, \"34\": 2, \"55\": 1, \"23\": 2, \"44\": 1, \"10\": 1}, \"20\": {\"20\": 107, \"30\": 1, \"9\": 2, \"3\": 1, \"50\": 1, \"53\": 9, \"6\": 1, \"4\": 2}, \"45\": {\"45\": 67, \"51\": 5, \"21\": 5, \"12\": 4, \"9\": 6, \"50\": 5, \"44\": 1, \"17\": 2, \"20\": 1}, \"15\": {\"15\": 121, \"11\": 6, \"10\": 1, \"56\": 2, \"46\": 2}, \"52\": {\"52\": 95, \"39\": 5, \"46\": 1, \"47\": 5, \"57\": 9, \"23\": 1}, \"19\": {\"19\": 126, \"44\": 9, \"40\": 2, \"51\": 2, \"6\": 1}, \"54\": {\"54\": 108}, \"56\": {\"56\": 112, \"10\": 13, \"22\": 5}, \"40\": {\"40\": 122, \"50\": 1, \"28\": 2, \"19\": 2, \"44\": 3, \"25\": 2, \"6\": 1, \"51\": 1}, \"28\": {\"28\": 22, \"33\": 6, \"3\": 1, \"34\": 2, \"25\": 1}, \"2\": {\"2\": 36}, \"9\": {\"30\": 6, \"9\": 91, \"50\": 5, \"21\": 9, \"45\": 1, \"4\": 2, \"51\": 1, \"20\": 4, \"53\": 1}, \"0\": {\"0\": 63, \"43\": 15, \"47\": 1, \"11\": 1}, \"36\": {\"36\": 85, \"48\": 4, \"51\": 1, \"3\": 1, \"18\": 1}, \"55\": {\"55\": 128, \"40\": 1, \"25\": 1}, \"35\": {\"35\": 40}, \"39\": {\"39\": 17, \"52\": 3}, \"31\": {\"31\": 28}, \"14\": {\"38\": 2, \"31\": 1, \"14\": 8, \"1\": 1, \"24\": 3, \"37\": 1}, \"12\": {\"12\": 87, \"21\": 1, \"51\": 2, \"20\": 1, \"45\": 1}, \"6\": {\"20\": 6, \"6\": 38, \"44\": 10, \"40\": 5, \"9\": 3, \"4\": 13, \"33\": 1, \"19\": 6, \"53\": 6, \"50\": 3, \"8\": 1, \"51\": 6, \"3\": 4, \"27\": 2, \"55\": 2, \"21\": 2, \"17\": 3, \"25\": 1}, \"26\": {\"26\": 22, \"9\": 1, \"4\": 1}, \"50\": {\"51\": 2, \"50\": 42, \"45\": 1, \"44\": 9, \"21\": 15, \"8\": 10, \"17\": 2, \"20\": 10, \"6\": 5, \"3\": 1, \"25\": 1, \"19\": 4, \"27\": 13, \"9\": 3, \"12\": 1, \"53\": 8, \"30\": 2, \"4\": 2, \"40\": 1}, \"21\": {\"21\": 117, \"17\": 1, \"9\": 2, \"50\": 2}, \"46\": {\"1\": 4, \"46\": 88, \"41\": 1, \"7\": 2, \"35\": 4, \"11\": 6, \"16\": 8, \"15\": 9, \"52\": 4, \"5\": 1, \"10\": 2, \"47\": 1, \"23\": 1, \"49\": 2, \"32\": 4, \"57\": 1, \"0\": 1, \"43\": 1}, \"51\": {\"51\": 136, \"20\": 4}, \"41\": {\"41\": 36}, \"34\": {\"34\": 23, \"25\": 1}, \"47\": {\"47\": 93, \"16\": 2, \"52\": 12, \"5\": 4, \"57\": 7, \"46\": 1, \"15\": 1}, \"5\": {\"47\": 12, \"4\": 1, \"5\": 61, \"15\": 5, \"16\": 7, \"23\": 5, \"54\": 1, \"18\": 1, \"55\": 1, \"57\": 1, \"52\": 3, \"29\": 7, \"1\": 2, \"48\": 1}, \"1\": {\"1\": 29, \"46\": 4, \"32\": 2, \"16\": 2, \"52\": 1, \"49\": 1, \"11\": 1}, \"48\": {\"48\": 74, \"36\": 11, \"25\": 10, \"27\": 6, \"4\": 7, \"53\": 5, \"3\": 5, \"18\": 3, \"17\": 3, \"40\": 2, \"8\": 5, \"50\": 1, \"51\": 1, \"44\": 1}, \"29\": {\"29\": 112, \"36\": 1, \"55\": 1, \"5\": 2, \"18\": 1, \"44\": 1}, \"22\": {\"10\": 11, \"22\": 109, \"2\": 1, \"24\": 2, \"56\": 4, \"13\": 1}, \"10\": {\"10\": 128, \"56\": 3, \"22\": 1}, \"32\": {\"32\": 22, \"11\": 1, \"1\": 1}, \"13\": {\"13\": 112}, \"42\": {\"42\": 32}, \"27\": {\"27\": 135, \"8\": 3}, \"8\": {\"8\": 114, \"27\": 24, \"17\": 4}, \"33\": {\"33\": 36}, \"25\": {\"25\": 81, \"33\": 3, \"40\": 13, \"36\": 10, \"19\": 4, \"34\": 5, \"48\": 6, \"54\": 2, \"18\": 7, \"3\": 1}, \"11\": {\"11\": 86, \"10\": 2, \"15\": 10, \"1\": 2, \"46\": 2, \"56\": 2}, \"53\": {\"8\": 6, \"50\": 7, \"53\": 89, \"48\": 1, \"44\": 1, \"51\": 1, \"4\": 5, \"6\": 1, \"3\": 1}}, \"CORES_2\": {\"32\": {\"32\": 23, \"36\": 4, \"27\": 1}, \"17\": {\"17\": 98, \"44\": 1, \"53\": 3, \"8\": 1, \"9\": 1}, \"38\": {\"38\": 20}, \"2\": {\"2\": 31, \"52\": 1}, \"43\": {\"43\": 143, \"22\": 1}, \"56\": {\"56\": 128, \"10\": 6, \"24\": 8, \"22\": 2}, \"37\": {\"37\": 35, \"11\": 1}, \"49\": {\"49\": 24}, \"0\": {\"0\": 48}, \"29\": {\"29\": 110, \"25\": 1, \"34\": 1, \"46\": 6, \"48\": 2, \"21\": 1, \"33\": 7}, \"35\": {\"35\": 31, \"45\": 1}, \"18\": {\"18\": 43, \"49\": 2, \"48\": 1, \"41\": 1, \"30\": 1}, \"25\": {\"25\": 91, \"34\": 4, \"41\": 1, \"50\": 1, \"18\": 1, \"3\": 9, \"44\": 2, \"46\": 2, \"19\": 4, \"48\": 12, \"40\": 5, \"6\": 3, \"29\": 1}, \"23\": {\"23\": 116, \"57\": 8}, \"15\": {\"15\": 124, \"47\": 9, \"5\": 5, \"16\": 6, \"11\": 1, \"57\": 1}, \"21\": {\"21\": 114, \"33\": 1, \"50\": 1, \"6\": 1, \"40\": 1, \"9\": 1, \"44\": 1}, \"51\": {\"51\": 122, \"20\": 6}, \"20\": {\"20\": 116, \"51\": 19, \"4\": 1, \"45\": 2}, \"7\": {\"7\": 30, \"2\": 1, \"16\": 2, \"1\": 2, \"15\": 1}, \"50\": {\"50\": 93, \"6\": 8, \"3\": 5, \"18\": 1, \"36\": 17, \"17\": 4, \"54\": 2, \"44\": 1, \"19\": 1, \"25\": 3, \"48\": 1}, \"31\": {\"31\": 28}, \"30\": {\"30\": 131, \"49\": 2, \"33\": 1, \"18\": 2, \"48\": 2, \"52\": 1, \"36\": 1}, \"19\": {\"19\": 134, \"40\": 9, \"44\": 8, \"51\": 1, \"21\": 1, \"4\": 1, \"45\": 2}, \"9\": {\"9\": 141, \"44\": 1, \"17\": 2}, \"52\": {\"7\": 2, \"52\": 114, \"15\": 1, \"30\": 1, \"23\": 3, \"57\": 1, \"1\": 2}, \"45\": {\"9\": 7, \"20\": 14, \"45\": 62, \"35\": 1, \"4\": 22, \"8\": 1, \"12\": 7, \"51\": 11, \"40\": 1, \"27\": 1, \"21\": 1}, \"8\": {\"8\": 141, \"27\": 12, \"36\": 1}, \"55\": {\"55\": 155, \"46\": 1, \"16\": 1, \"52\": 1, \"1\": 1, \"11\": 1}, \"12\": {\"12\": 81, \"45\": 5, \"20\": 3, \"51\": 1, \"4\": 2}, \"40\": {\"40\": 114, \"12\": 1, \"21\": 7, \"19\": 16, \"51\": 1, \"6\": 1}, \"28\": {\"28\": 26, \"0\": 2}, \"36\": {\"36\": 108, \"32\": 2, \"50\": 2, \"8\": 3, \"27\": 1}, \"39\": {\"28\": 1, \"39\": 23, \"37\": 1, \"0\": 1, \"16\": 2}, \"46\": {\"46\": 75, \"34\": 2, \"1\": 3, \"50\": 3, \"29\": 10, \"33\": 1, \"25\": 7, \"3\": 2, \"55\": 6, \"44\": 2, \"30\": 3, \"13\": 2, \"48\": 4, \"6\": 1, \"11\": 1}, \"14\": {\"56\": 1, \"37\": 3, \"14\": 11, \"55\": 2, \"7\": 2, \"10\": 2, \"43\": 1, \"47\": 1, \"11\": 1}, \"57\": {\"57\": 129, \"23\": 10, \"52\": 1, \"16\": 2}, \"34\": {\"34\": 24, \"46\": 1, \"25\": 3}, \"1\": {\"1\": 89, \"52\": 9, \"15\": 7, \"42\": 3, \"16\": 1, \"47\": 2, \"7\": 1}, \"53\": {\"53\": 115, \"17\": 4, \"8\": 11, \"27\": 5, \"36\": 1}, \"48\": {\"48\": 68, \"3\": 6, \"6\": 4, \"30\": 16, \"41\": 1, \"18\": 2, \"1\": 2, \"52\": 5, \"50\": 5, \"25\": 12, \"2\": 2, \"29\": 4, \"42\": 1, \"46\": 1, \"53\": 1}, \"3\": {\"21\": 2, \"34\": 1, \"3\": 36, \"41\": 1, \"25\": 15, \"50\": 6, \"53\": 2, \"46\": 2, \"2\": 1, \"29\": 9, \"48\": 7, \"30\": 2, \"6\": 4, \"49\": 1, \"17\": 1, \"19\": 1, \"9\": 1}, \"16\": {\"16\": 141, \"15\": 3, \"7\": 1, \"11\": 1, \"57\": 5, \"13\": 1}, \"6\": {\"6\": 73, \"40\": 3, \"27\": 1, \"53\": 2, \"3\": 6, \"25\": 7, \"50\": 15, \"48\": 2, \"8\": 3, \"9\": 1, \"29\": 2, \"19\": 1, \"36\": 3, \"41\": 1, \"32\": 1, \"54\": 2, \"46\": 1}, \"10\": {\"10\": 112}, \"13\": {\"13\": 113, \"22\": 2, \"10\": 1}, \"26\": {\"26\": 21, \"27\": 3}, \"24\": {\"24\": 90, \"56\": 5, \"22\": 1}, \"44\": {\"44\": 80, \"35\": 1, \"3\": 1, \"19\": 11, \"40\": 3, \"34\": 1, \"25\": 1, \"21\": 2}, \"27\": {\"27\": 149, \"8\": 1}, \"22\": {\"22\": 118, \"10\": 8, \"13\": 1, \"56\": 1}, \"33\": {\"33\": 27, \"29\": 1}, \"47\": {\"47\": 93, \"15\": 13, \"57\": 4, \"5\": 4, \"16\": 4}, \"5\": {\"5\": 111, \"13\": 2, \"11\": 5, \"15\": 2}, \"4\": {\"4\": 127, \"17\": 1, \"20\": 2, \"9\": 3, \"45\": 3, \"51\": 2}, \"41\": {\"41\": 20}, \"11\": {\"11\": 140, \"37\": 4, \"16\": 1, \"15\": 3, \"5\": 1, \"47\": 1}, \"54\": {\"54\": 108}, \"42\": {\"42\": 33, \"1\": 3}}, \"CORES_3\": {\"5\": {\"5\": 90, \"15\": 11, \"55\": 2, \"16\": 2, \"47\": 5, \"57\": 1, \"35\": 1, \"34\": 1, \"26\": 1, \"1\": 2}, \"32\": {\"32\": 20, \"8\": 6, \"36\": 1, \"17\": 1}, \"33\": {\"33\": 26, \"30\": 1, \"3\": 1}, \"49\": {\"49\": 20}, \"39\": {\"39\": 15, \"23\": 1}, \"11\": {\"11\": 134, \"15\": 3, \"14\": 2, \"47\": 1, \"1\": 1, \"5\": 1}, \"8\": {\"8\": 112, \"38\": 1, \"21\": 1, \"17\": 1, \"32\": 1}, \"26\": {\"26\": 14, \"39\": 1, \"34\": 1, \"23\": 1, \"57\": 1, \"16\": 1, \"37\": 4, \"5\": 1}, \"51\": {\"51\": 122}, \"4\": {\"4\": 140, \"51\": 4, \"2\": 2}, \"52\": {\"52\": 110, \"48\": 4, \"3\": 2, \"29\": 2}, \"47\": {\"47\": 54, \"5\": 11, \"35\": 1, \"1\": 2, \"55\": 1, \"11\": 2, \"15\": 9, \"13\": 3, \"14\": 1, \"26\": 1, \"34\": 2, \"16\": 2, \"23\": 1, \"57\": 2}, \"17\": {\"17\": 91, \"53\": 7, \"27\": 4, \"8\": 2, \"38\": 1, \"56\": 1, \"6\": 1, \"4\": 1}, \"53\": {\"53\": 130, \"17\": 3, \"8\": 3}, \"2\": {\"2\": 32}, \"12\": {\"12\": 81, \"51\": 4, \"45\": 2, \"4\": 3, \"20\": 2}, \"37\": {\"37\": 28}, \"9\": {\"9\": 142, \"36\": 1, \"19\": 1, \"53\": 2, \"21\": 1, \"3\": 1}, \"13\": {\"13\": 128}, \"54\": {\"54\": 97, \"36\": 2, \"20\": 1}, \"31\": {\"31\": 28}, \"34\": {\"34\": 28, \"57\": 1, \"35\": 1, \"26\": 1, \"42\": 1}, \"24\": {\"24\": 104}, \"7\": {\"7\": 30, \"14\": 3, \"22\": 1, \"13\": 1, \"31\": 1}, \"50\": {\"50\": 72, \"27\": 6, \"30\": 3, \"44\": 1, \"3\": 5, \"25\": 4, \"54\": 2, \"6\": 4, \"55\": 1, \"9\": 8, \"53\": 1, \"46\": 1, \"29\": 2, \"33\": 1, \"36\": 5, \"17\": 1, \"18\": 1}, \"46\": {\"46\": 70, \"6\": 7, \"25\": 10, \"9\": 7, \"18\": 1, \"48\": 2, \"55\": 3, \"29\": 7, \"52\": 2, \"30\": 6, \"1\": 3, \"11\": 1, \"3\": 5, \"17\": 1, \"50\": 3}, \"44\": {\"45\": 2, \"40\": 6, \"44\": 74, \"19\": 3, \"21\": 2, \"9\": 1}, \"40\": {\"40\": 93, \"44\": 6, \"19\": 11, \"21\": 2, \"6\": 3, \"51\": 1}, \"21\": {\"21\": 112, \"44\": 4, \"36\": 2, \"4\": 1, \"40\": 2, \"20\": 2, \"38\": 1, \"8\": 1, \"6\": 1, \"53\": 1, \"19\": 1}, \"45\": {\"45\": 36, \"32\": 1, \"4\": 5, \"12\": 8, \"51\": 4, \"20\": 4, \"19\": 1, \"21\": 1}, \"16\": {\"16\": 111, \"37\": 1, \"26\": 1, \"5\": 3, \"55\": 1, \"15\": 2, \"57\": 4, \"47\": 1, \"23\": 1, \"35\": 1}, \"14\": {\"7\": 1, \"10\": 4, \"43\": 3, \"14\": 19, \"55\": 3, \"22\": 2, \"56\": 1, \"24\": 3, \"5\": 1, \"13\": 1, \"31\": 1, \"11\": 1}, \"36\": {\"36\": 92, \"32\": 4, \"50\": 1, \"27\": 1, \"8\": 1, \"17\": 1}, \"56\": {\"56\": 95, \"10\": 8, \"24\": 8, \"14\": 1, \"22\": 1, \"13\": 1}, \"10\": {\"10\": 64}, \"18\": {\"18\": 83, \"25\": 1}, \"48\": {\"48\": 52, \"18\": 8, \"1\": 5, \"3\": 3, \"41\": 4, \"42\": 3, \"30\": 6, \"16\": 3, \"52\": 12, \"57\": 4, \"25\": 8, \"29\": 3, \"50\": 2, \"6\": 1, \"37\": 1, \"34\": 1}, \"38\": {\"38\": 24, \"53\": 2, \"44\": 1, \"17\": 1}, \"27\": {\"27\": 113, \"8\": 3, \"17\": 6, \"36\": 1, \"9\": 1, \"53\": 4, \"50\": 1, \"32\": 1}, \"42\": {\"1\": 3, \"42\": 20, \"41\": 2, \"57\": 1, \"3\": 1, \"34\": 1}, \"15\": {\"15\": 110, \"5\": 9, \"37\": 1, \"47\": 4, \"28\": 1, \"55\": 3, \"16\": 3, \"11\": 2, \"7\": 1}, \"1\": {\"1\": 81, \"34\": 2, \"15\": 1, \"57\": 3, \"47\": 5, \"48\": 2, \"16\": 1, \"11\": 1, \"52\": 2, \"46\": 1, \"5\": 1}, \"28\": {\"28\": 28}, \"43\": {\"43\": 136}, \"0\": {\"0\": 124}, \"57\": {\"57\": 119, \"34\": 1, \"23\": 2, \"16\": 2}, \"3\": {\"9\": 7, \"3\": 56, \"25\": 20, \"48\": 11, \"30\": 12, \"29\": 16, \"33\": 2, \"46\": 7, \"52\": 5, \"6\": 2, \"50\": 4, \"41\": 1, \"18\": 4, \"1\": 1}, \"29\": {\"29\": 120, \"25\": 1, \"41\": 1, \"6\": 1, \"46\": 1}, \"41\": {\"41\": 23, \"3\": 1, \"48\": 2, \"46\": 1, \"18\": 1}, \"25\": {\"6\": 10, \"25\": 81, \"18\": 3, \"30\": 17, \"3\": 8, \"29\": 3, \"50\": 2, \"46\": 8, \"9\": 3, \"48\": 7, \"21\": 1, \"40\": 3}, \"6\": {\"6\": 21, \"20\": 3, \"36\": 3, \"9\": 5, \"40\": 2, \"30\": 9, \"33\": 4, \"3\": 8, \"50\": 9, \"21\": 5, \"18\": 3, \"51\": 1, \"27\": 1, \"53\": 1, \"25\": 2, \"29\": 2, \"52\": 1, \"46\": 3, \"44\": 3, \"19\": 2}, \"35\": {\"35\": 28}, \"20\": {\"20\": 120, \"21\": 2, \"51\": 2, \"17\": 1, \"36\": 1}, \"23\": {\"23\": 133, \"39\": 1}, \"22\": {\"22\": 124, \"31\": 1, \"13\": 14, \"56\": 1}, \"19\": {\"19\": 105, \"51\": 3, \"44\": 2, \"40\": 6}, \"55\": {\"55\": 115, \"11\": 4, \"46\": 1, \"1\": 2, \"47\": 2}, \"30\": {\"30\": 103, \"50\": 4, \"9\": 3, \"25\": 5, \"6\": 2, \"48\": 2, \"33\": 1}}, \"CORES_1\": {\"24\": {\"24\": 98, \"22\": 9, \"27\": 1}, \"25\": {\"25\": 118, \"56\": 4, \"42\": 2, \"19\": 2, \"45\": 4, \"1\": 1, \"29\": 4, \"18\": 5}, \"45\": {\"42\": 3, \"45\": 136, \"37\": 1, \"25\": 3, \"18\": 1}, \"42\": {\"42\": 36, \"25\": 1, \"45\": 2, \"20\": 1}, \"2\": {\"2\": 35, \"5\": 1}, \"9\": {\"9\": 146, \"12\": 1, \"53\": 2, \"51\": 1}, \"21\": {\"21\": 123, \"27\": 1}, \"26\": {\"26\": 21, \"30\": 1, \"18\": 2}, \"49\": {\"49\": 32}, \"39\": {\"39\": 28}, \"46\": {\"46\": 103, \"48\": 7, \"5\": 1, \"6\": 1, \"50\": 5, \"4\": 14, \"41\": 3, \"40\": 2}, \"17\": {\"17\": 64}, \"19\": {\"19\": 141, \"57\": 3, \"56\": 11, \"30\": 1}, \"23\": {\"21\": 2, \"23\": 130}, \"1\": {\"1\": 81, \"45\": 2, \"19\": 5, \"25\": 5, \"20\": 2, \"57\": 4, \"56\": 1}, \"29\": {\"29\": 127, \"13\": 1, \"20\": 1, \"19\": 2, \"57\": 4, \"56\": 5}, \"56\": {\"56\": 112, \"57\": 21, \"19\": 11, \"29\": 2, \"55\": 3, \"45\": 1}, \"37\": {\"37\": 32}, \"33\": {\"33\": 32}, \"55\": {\"55\": 107, \"35\": 2, \"44\": 6, \"3\": 6, \"16\": 6, \"57\": 2, \"1\": 4, \"45\": 4, \"54\": 2, \"47\": 3}, \"30\": {\"30\": 119, \"18\": 1}, \"0\": {\"0\": 149, \"15\": 2, \"38\": 1}, \"36\": {\"36\": 61, \"32\": 2, \"15\": 1}, \"32\": {\"32\": 30, \"47\": 1, \"54\": 1}, \"31\": {\"31\": 26, \"22\": 1, \"24\": 1}, \"15\": {\"15\": 127, \"0\": 9, \"11\": 1, \"22\": 1}, \"12\": {\"12\": 106, \"20\": 9, \"13\": 1}, \"38\": {\"0\": 1, \"38\": 22, \"23\": 1}, \"40\": {\"40\": 129, \"41\": 1, \"4\": 4, \"51\": 10, \"12\": 1, \"46\": 1}, \"14\": {\"14\": 17, \"18\": 1, \"26\": 1, \"30\": 2, \"53\": 2, \"5\": 1}, \"13\": {\"13\": 150}, \"48\": {\"48\": 141, \"6\": 6, \"50\": 1}, \"34\": {\"34\": 24}, \"44\": {\"44\": 119, \"35\": 5, \"55\": 6}, \"5\": {\"5\": 134, \"48\": 6, \"6\": 4, \"8\": 6, \"17\": 2}, \"11\": {\"11\": 129, \"10\": 1, \"15\": 8, \"47\": 2}, \"7\": {\"7\": 26, \"13\": 2}, \"18\": {\"18\": 69, \"25\": 1, \"45\": 2}, \"52\": {\"52\": 115, \"28\": 3, \"22\": 2, \"43\": 5, \"24\": 2, \"10\": 4, \"27\": 1}, \"51\": {\"51\": 140, \"7\": 1, \"12\": 1}, \"41\": {\"41\": 24}, \"16\": {\"16\": 135, \"54\": 4, \"55\": 1}, \"22\": {\"24\": 18, \"22\": 104, \"10\": 2, \"27\": 2, \"31\": 1, \"43\": 1, \"15\": 1, \"39\": 1, \"49\": 1, \"21\": 3}, \"3\": {\"3\": 137, \"44\": 2, \"55\": 1}, \"54\": {\"54\": 102, \"16\": 2}, \"27\": {\"27\": 143, \"24\": 1}, \"20\": {\"20\": 138, \"7\": 1, \"12\": 1}, \"8\": {\"8\": 135, \"17\": 1, \"9\": 1, \"53\": 1}, \"50\": {\"50\": 142, \"48\": 2}, \"57\": {\"57\": 111, \"19\": 6, \"56\": 17, \"1\": 6}, \"4\": {\"4\": 119, \"50\": 4, \"46\": 7, \"40\": 1, \"48\": 1}, \"47\": {\"47\": 146}, \"10\": {\"10\": 93, \"31\": 1, \"22\": 1, \"11\": 1}, \"35\": {\"35\": 34, \"44\": 2}, \"53\": {\"53\": 119, \"8\": 4, \"14\": 1, \"9\": 2}, \"6\": {\"2\": 5, \"6\": 72, \"5\": 7, \"48\": 10, \"17\": 1, \"46\": 1}, \"43\": {\"43\": 139, \"22\": 1}, \"28\": {\"28\": 25, \"52\": 1, \"11\": 1, \"47\": 1}}, \"CORES_5\": {\"35\": {\"35\": 36}, \"57\": {\"57\": 130, \"52\": 2}, \"20\": {\"32\": 3, \"20\": 105, \"48\": 2, \"50\": 1, \"51\": 14, \"55\": 1, \"1\": 2, \"9\": 9, \"27\": 1, \"6\": 3, \"53\": 3}, \"12\": {\"12\": 85, \"45\": 5, \"38\": 2, \"51\": 1, \"7\": 1, \"4\": 1, \"30\": 1}, \"32\": {\"32\": 17, \"8\": 3, \"48\": 4, \"27\": 4, \"30\": 1, \"55\": 1, \"51\": 1, \"53\": 1}, \"25\": {\"25\": 115, \"50\": 3, \"5\": 4, \"18\": 5, \"21\": 5, \"19\": 3, \"33\": 3}, \"44\": {\"5\": 3, \"44\": 127, \"40\": 17, \"18\": 1}, \"31\": {\"31\": 35, \"46\": 1}, \"11\": {\"11\": 122, \"29\": 6, \"43\": 9, \"15\": 8, \"44\": 1, \"3\": 1, \"14\": 2, \"16\": 1}, \"47\": {\"47\": 87, \"52\": 2, \"16\": 7, \"49\": 2, \"39\": 1, \"36\": 1}, \"23\": {\"23\": 118, \"41\": 3, \"54\": 3}, \"43\": {\"43\": 134, \"11\": 3, \"2\": 1, \"15\": 6}, \"37\": {\"37\": 23, \"16\": 1}, \"5\": {\"5\": 124, \"40\": 4}, \"45\": {\"20\": 5, \"12\": 15, \"45\": 44, \"38\": 6, \"17\": 2, \"53\": 1, \"30\": 12, \"4\": 13, \"6\": 9, \"9\": 7, \"51\": 2, \"55\": 6, \"26\": 1, \"7\": 1}, \"7\": {\"7\": 28, \"45\": 1, \"38\": 2, \"6\": 1}, \"13\": {\"13\": 128, \"24\": 1, \"10\": 6, \"56\": 1}, \"49\": {\"49\": 34, \"3\": 1, \"36\": 1}, \"46\": {\"46\": 121, \"31\": 2, \"52\": 12, \"3\": 8, \"10\": 1, \"43\": 2, \"16\": 1, \"14\": 1}, \"16\": {\"47\": 7, \"16\": 121, \"36\": 2, \"43\": 2, \"46\": 1, \"29\": 1, \"3\": 1, \"11\": 1}, \"54\": {\"54\": 109, \"23\": 3}, \"19\": {\"19\": 150, \"6\": 1, \"55\": 1}, \"55\": {\"55\": 118, \"19\": 3, \"26\": 1, \"45\": 6, \"51\": 10, \"4\": 5, \"1\": 1, \"9\": 2, \"7\": 1, \"6\": 2, \"20\": 1}, \"30\": {\"30\": 118, \"17\": 4, \"6\": 6}, \"34\": {\"34\": 31, \"33\": 1, \"5\": 1, \"54\": 1, \"14\": 1, \"22\": 1}, \"50\": {\"19\": 5, \"50\": 59, \"1\": 19, \"21\": 13, \"18\": 4, \"12\": 1, \"25\": 8, \"9\": 1, \"48\": 6, \"53\": 5, \"27\": 2, \"5\": 3, \"33\": 2, \"55\": 1, \"8\": 2, \"51\": 1, \"20\": 2}, \"3\": {\"46\": 12, \"3\": 60, \"14\": 1, \"56\": 2, \"49\": 1, \"36\": 2, \"11\": 4, \"43\": 2, \"15\": 6, \"16\": 4, \"52\": 2, \"37\": 1, \"29\": 2, \"0\": 1}, \"10\": {\"10\": 66, \"13\": 2}, \"27\": {\"27\": 86, \"8\": 12, \"30\": 4, \"48\": 18, \"1\": 7, \"9\": 2, \"53\": 5, \"17\": 2, \"32\": 1, \"6\": 4, \"50\": 1}, \"33\": {\"33\": 32}, \"56\": {\"56\": 136, \"15\": 3, \"24\": 1, \"10\": 1, \"43\": 1}, \"9\": {\"55\": 1, \"9\": 94, \"30\": 10, \"27\": 4, \"12\": 1, \"48\": 1, \"1\": 3, \"53\": 8, \"6\": 11, \"17\": 4, \"51\": 4, \"8\": 5, \"45\": 2, \"26\": 1, \"4\": 1}, \"14\": {\"31\": 6, \"14\": 11, \"43\": 3, \"15\": 1, \"47\": 3, \"40\": 6, \"36\": 1, \"34\": 2, \"29\": 3, \"3\": 2, \"37\": 1, \"52\": 1, \"2\": 1, \"46\": 2, \"44\": 1}, \"4\": {\"4\": 78, \"7\": 1, \"9\": 3, \"55\": 4, \"12\": 1, \"45\": 9, \"20\": 1, \"30\": 1, \"51\": 2}, \"42\": {\"42\": 37, \"39\": 2, \"33\": 1}, \"24\": {\"24\": 80}, \"39\": {\"39\": 19, \"42\": 1}, \"52\": {\"28\": 1, \"49\": 1, \"57\": 9, \"52\": 100, \"44\": 1, \"16\": 4, \"46\": 12, \"37\": 1, \"29\": 1}, \"2\": {\"2\": 21, \"15\": 5, \"29\": 1, \"37\": 1}, \"28\": {\"28\": 32}, \"53\": {\"53\": 94, \"48\": 11, \"8\": 7, \"27\": 3, \"6\": 2, \"9\": 4, \"32\": 1}, \"17\": {\"26\": 2, \"17\": 111, \"48\": 1, \"6\": 1, \"30\": 1}, \"29\": {\"29\": 131, \"44\": 1}, \"38\": {\"38\": 32}, \"15\": {\"15\": 134, \"43\": 6, \"56\": 1, \"11\": 2, \"3\": 1}, \"26\": {\"26\": 20, \"48\": 2, \"6\": 2}, \"21\": {\"21\": 143, \"50\": 1}, \"41\": {\"41\": 25, \"34\": 2, \"5\": 1}, \"48\": {\"48\": 67, \"27\": 14, \"32\": 2, \"1\": 15, \"8\": 20, \"50\": 2, \"53\": 11, \"6\": 2, \"17\": 2, \"30\": 1}, \"22\": {\"22\": 28}, \"8\": {\"8\": 102, \"27\": 7, \"48\": 18, \"53\": 19, \"1\": 1, \"32\": 1}, \"18\": {\"18\": 63, \"25\": 1}, \"0\": {\"0\": 122}, \"1\": {\"1\": 97, \"48\": 13, \"32\": 2, \"50\": 4, \"8\": 13, \"53\": 4, \"27\": 5}, \"40\": {\"40\": 104, \"44\": 15, \"5\": 3, \"29\": 1, \"25\": 1}, \"6\": {\"7\": 4, \"30\": 14, \"6\": 41, \"51\": 8, \"26\": 4, \"45\": 12, \"48\": 3, \"4\": 1, \"12\": 2, \"55\": 3, \"8\": 7, \"17\": 11, \"19\": 1, \"20\": 5, \"53\": 2, \"27\": 3, \"9\": 7}, \"51\": {\"51\": 133, \"45\": 1, \"20\": 6, \"6\": 1, \"9\": 1}, \"36\": {\"36\": 85, \"37\": 1, \"16\": 3, \"43\": 1, \"3\": 2}}}, \"per_domain_accuracy\": {\"ORACLE.run1_50\": {\"accuracy\": 0.8809895833333333, \"source?\": true}, \"ORACLE.run1_14\": {\"accuracy\": 0.9049479166666666, \"source?\": true}, \"ORACLE.run1_32\": {\"accuracy\": 0.86796875, \"source?\": true}, \"ORACLE.run1_44\": {\"accuracy\": 0.78046875, \"source?\": true}, \"ORACLE.run1_8\": {\"accuracy\": 0.8796875, \"source?\": true}, \"ORACLE.run1_20\": {\"accuracy\": 0.865625, \"source?\": true}, \"ORACLE.run1_38\": {\"accuracy\": 0.8927083333333333, \"source?\": true}, \"ORACLE.run1_26\": {\"accuracy\": 0.7223958333333333, \"source?\": true}, \"CORES_4\": {\"accuracy\": 0.8350378787878788, \"source?\": false}, \"CORES_2\": {\"accuracy\": 0.8604283707865169, \"source?\": false}, \"CORES_3\": {\"accuracy\": 0.8431919642857143, \"source?\": false}, \"CORES_1\": {\"accuracy\": 0.9211148648648648, \"source?\": false}, \"CORES_5\": {\"accuracy\": 0.821054469273743, \"source?\": false}}}, \"history\": {\"epoch_indices\": [1, 2, 3, 4, 5, 6], \"train_label_loss\": [0.7876654366031289, 0.48083027662276956, 0.3847535903490747, 0.33062082959901695, 0.2936192553193818, 0.2640758523039126], \"source_val_label_loss\": [0.8605479001998901, 0.4192086458206177, 0.3597303032875061, 0.31742408871650696, 0.30548232793807983, 0.30907145142555237], \"target_val_label_loss\": [1.9281113147735596, 1.179139494895935, 1.2814750671386719, 1.5880414247512817, 2.276092290878296, 2.5559465885162354], \"source_val_acc_label\": [0.7371419270833334, 0.8493489583333333, 0.8705078125, 0.8868489583333333, 0.890234375, 0.8888997395833333], \"target_val_acc_label\": [0.7521428571428571, 0.8571071428571428, 0.8468214285714286, 0.8333928571428572, 0.8031428571428572, 0.8063214285714285]}, \"dataset_metrics\": {\"source\": {\"train\": {\"n_unique_x\": 179200, \"n_unique_y\": 16, \"n_batch/episode\": 6720}, \"val\": {\"n_unique_x\": 38400, \"n_unique_y\": 16, \"n_batch/episode\": 960}, \"test\": {\"n_unique_x\": 38400, \"n_unique_y\": 16, \"n_batch/episode\": 960}}, \"target\": {\"train\": {\"n_unique_x\": 175197, \"n_unique_y\": 58, \"n_batch/episode\": 6309}, \"val\": {\"n_unique_x\": 37166, \"n_unique_y\": 58, \"n_batch/episode\": 875}, \"test\": {\"n_unique_x\": 37642, \"n_unique_y\": 58, \"n_batch/episode\": 890}}}}'"
      ]
     },
     "execution_count": 29,
     "metadata": {},
     "output_type": "execute_result"
    }
   ],
   "source": [
    "json.dumps(experiment)"
   ]
  }
 ],
 "metadata": {
  "celltoolbar": "Tags",
  "kernelspec": {
   "display_name": "Python 3 (ipykernel)",
   "language": "python",
   "name": "python3"
  },
  "language_info": {
   "codemirror_mode": {
    "name": "ipython",
    "version": 3
   },
   "file_extension": ".py",
   "mimetype": "text/x-python",
   "name": "python",
   "nbconvert_exporter": "python",
   "pygments_lexer": "ipython3",
   "version": "3.8.12"
  },
  "papermill": {
   "default_parameters": {},
   "duration": 1756.719478,
   "end_time": "2022-03-21T19:00:54.905266",
   "environment_variables": {},
   "exception": null,
   "input_path": "/root/csc500-main/csc500-notebooks/templates/tl_ptn_template.ipynb",
   "output_path": "trial.ipynb",
   "parameters": {
    "parameters": {
     "BEST_MODEL_PATH": "./best_model.pth",
     "NUM_LOGS_PER_EPOCH": 10,
     "criteria_for_best": "target_accuracy",
     "dataset_seed": 500,
     "datasets": [
      {
       "domain_prefix": "CORES_",
       "domains": [
        1,
        2,
        3,
        4,
        5
       ],
       "episode_transforms": [],
       "labels": [
        "1-10.",
        "1-11.",
        "1-15.",
        "1-16.",
        "1-17.",
        "1-18.",
        "1-19.",
        "10-4.",
        "10-7.",
        "11-1.",
        "11-14.",
        "11-17.",
        "11-20.",
        "11-7.",
        "13-20.",
        "13-8.",
        "14-10.",
        "14-11.",
        "14-14.",
        "14-7.",
        "15-1.",
        "15-20.",
        "16-1.",
        "16-16.",
        "17-10.",
        "17-11.",
        "17-2.",
        "19-1.",
        "19-16.",
        "19-19.",
        "19-20.",
        "19-3.",
        "2-10.",
        "2-11.",
        "2-17.",
        "2-18.",
        "2-20.",
        "2-3.",
        "2-4.",
        "2-5.",
        "2-6.",
        "2-7.",
        "2-8.",
        "3-13.",
        "3-18.",
        "3-3.",
        "4-1.",
        "4-10.",
        "4-11.",
        "4-19.",
        "5-5.",
        "6-15.",
        "7-10.",
        "7-14.",
        "8-18.",
        "8-20.",
        "8-3.",
        "8-8."
       ],
       "num_examples_per_domain_per_label": -1,
       "pickle_path": "/root/csc500-main/datasets/cores.stratified_ds.2022A.pkl",
       "source_or_target_dataset": "target",
       "x_transforms": [
        "unit_power"
       ]
      },
      {
       "domain_prefix": "ORACLE.run1_",
       "domains": [
        32,
        38,
        8,
        44,
        14,
        50,
        20,
        26
       ],
       "episode_transforms": [],
       "labels": [
        "3123D52",
        "3123D65",
        "3123D79",
        "3123D80",
        "3123D54",
        "3123D70",
        "3123D7B",
        "3123D89",
        "3123D58",
        "3123D76",
        "3123D7D",
        "3123EFE",
        "3123D64",
        "3123D78",
        "3123D7E",
        "3124E4A"
       ],
       "num_examples_per_domain_per_label": 2000,
       "pickle_path": "/root/csc500-main/datasets/oracle.Run1_framed_2000Examples_stratified_ds.2022A.pkl",
       "source_or_target_dataset": "source",
       "x_transforms": [
        "unit_power"
       ]
      }
     ],
     "device": "cuda",
     "experiment_name": "tl_1v2:cores-oracle.run1.framed",
     "lr": 0.0001,
     "n_epoch": 50,
     "n_query": 2,
     "n_shot": 3,
     "n_way": 16,
     "patience": 3,
     "seed": 500,
     "test_k_factor": 2,
     "torch_default_dtype": "torch.float32",
     "train_k_factor": 3,
     "val_k_factor": 2,
     "x_net": [
      {
       "class": "nnReshape",
       "kargs": {
        "shape": [
         -1,
         1,
         2,
         256
        ]
       }
      },
      {
       "class": "Conv2d",
       "kargs": {
        "bias": false,
        "in_channels": 1,
        "kernel_size": [
         1,
         7
        ],
        "out_channels": 256,
        "padding": [
         0,
         3
        ]
       }
      },
      {
       "class": "ReLU",
       "kargs": {
        "inplace": true
       }
      },
      {
       "class": "BatchNorm2d",
       "kargs": {
        "num_features": 256
       }
      },
      {
       "class": "Conv2d",
       "kargs": {
        "bias": true,
        "in_channels": 256,
        "kernel_size": [
         2,
         7
        ],
        "out_channels": 80,
        "padding": [
         0,
         3
        ]
       }
      },
      {
       "class": "ReLU",
       "kargs": {
        "inplace": true
       }
      },
      {
       "class": "BatchNorm2d",
       "kargs": {
        "num_features": 80
       }
      },
      {
       "class": "Flatten",
       "kargs": {}
      },
      {
       "class": "Linear",
       "kargs": {
        "in_features": 20480,
        "out_features": 256
       }
      },
      {
       "class": "ReLU",
       "kargs": {
        "inplace": true
       }
      },
      {
       "class": "BatchNorm1d",
       "kargs": {
        "num_features": 256
       }
      },
      {
       "class": "Linear",
       "kargs": {
        "in_features": 256,
        "out_features": 256
       }
      }
     ]
    }
   },
   "start_time": "2022-03-21T18:31:38.185788",
   "version": "2.3.4"
  }
 },
 "nbformat": 4,
 "nbformat_minor": 5
}