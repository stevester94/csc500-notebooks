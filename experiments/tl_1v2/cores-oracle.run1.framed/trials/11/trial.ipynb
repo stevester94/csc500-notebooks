{
 "cells": [
  {
   "cell_type": "markdown",
   "id": "9fea5f46",
   "metadata": {
    "papermill": {
     "duration": 0.033969,
     "end_time": "2022-03-21T08:43:47.350777",
     "exception": false,
     "start_time": "2022-03-21T08:43:47.316808",
     "status": "completed"
    },
    "tags": []
   },
   "source": [
    "# Transfer Learning Template"
   ]
  },
  {
   "cell_type": "code",
   "execution_count": 1,
   "id": "0902182a",
   "metadata": {
    "execution": {
     "iopub.execute_input": "2022-03-21T08:43:47.412965Z",
     "iopub.status.busy": "2022-03-21T08:43:47.401040Z",
     "iopub.status.idle": "2022-03-21T08:43:49.322076Z",
     "shell.execute_reply": "2022-03-21T08:43:49.321198Z"
    },
    "papermill": {
     "duration": 1.948858,
     "end_time": "2022-03-21T08:43:49.322276",
     "exception": false,
     "start_time": "2022-03-21T08:43:47.373418",
     "status": "completed"
    },
    "tags": []
   },
   "outputs": [],
   "source": [
    "%load_ext autoreload\n",
    "%autoreload 2\n",
    "%matplotlib inline\n",
    "\n",
    "    \n",
    "import os, json, sys, time, random\n",
    "import numpy as np\n",
    "import torch\n",
    "from torch.optim import Adam\n",
    "from  easydict import EasyDict\n",
    "import matplotlib.pyplot as plt\n",
    "\n",
    "from steves_models.steves_ptn import Steves_Prototypical_Network\n",
    "\n",
    "from steves_utils.lazy_iterable_wrapper import Lazy_Iterable_Wrapper\n",
    "from steves_utils.iterable_aggregator import Iterable_Aggregator\n",
    "from steves_utils.ptn_train_eval_test_jig import  PTN_Train_Eval_Test_Jig\n",
    "from steves_utils.torch_sequential_builder import build_sequential\n",
    "from steves_utils.torch_utils import get_dataset_metrics, ptn_confusion_by_domain_over_dataloader\n",
    "from steves_utils.utils_v2 import (per_domain_accuracy_from_confusion, get_datasets_base_path)\n",
    "from steves_utils.PTN.utils import independent_accuracy_assesment\n",
    "\n",
    "from torch.utils.data import DataLoader\n",
    "\n",
    "from steves_utils.stratified_dataset.episodic_accessor import Episodic_Accessor_Factory\n",
    "\n",
    "from steves_utils.ptn_do_report import (\n",
    "    get_loss_curve,\n",
    "    get_results_table,\n",
    "    get_parameters_table,\n",
    "    get_domain_accuracies,\n",
    ")\n",
    "\n",
    "from steves_utils.transforms import get_chained_transform"
   ]
  },
  {
   "cell_type": "markdown",
   "id": "41c840b4",
   "metadata": {
    "papermill": {
     "duration": 0.018185,
     "end_time": "2022-03-21T08:43:49.365656",
     "exception": false,
     "start_time": "2022-03-21T08:43:49.347471",
     "status": "completed"
    },
    "tags": []
   },
   "source": [
    "# Allowed Parameters\n",
    "These are allowed parameters, not defaults\n",
    "Each of these values need to be present in the injected parameters (the notebook will raise an exception if they are not present)\n",
    "\n",
    "Papermill uses the cell tag \"parameters\" to inject the real parameters below this cell.\n",
    "Enable tags to see what I mean"
   ]
  },
  {
   "cell_type": "code",
   "execution_count": 2,
   "id": "fd44eb83",
   "metadata": {
    "execution": {
     "iopub.execute_input": "2022-03-21T08:43:49.407660Z",
     "iopub.status.busy": "2022-03-21T08:43:49.407258Z",
     "iopub.status.idle": "2022-03-21T08:43:49.430207Z",
     "shell.execute_reply": "2022-03-21T08:43:49.429418Z"
    },
    "papermill": {
     "duration": 0.046315,
     "end_time": "2022-03-21T08:43:49.430358",
     "exception": false,
     "start_time": "2022-03-21T08:43:49.384043",
     "status": "completed"
    },
    "tags": []
   },
   "outputs": [],
   "source": [
    "required_parameters = {\n",
    "    \"experiment_name\",\n",
    "    \"lr\",\n",
    "    \"device\",\n",
    "    \"seed\",\n",
    "    \"dataset_seed\",\n",
    "    \"n_shot\",\n",
    "    \"n_query\",\n",
    "    \"n_way\",\n",
    "    \"train_k_factor\",\n",
    "    \"val_k_factor\",\n",
    "    \"test_k_factor\",\n",
    "    \"n_epoch\",\n",
    "    \"patience\",\n",
    "    \"criteria_for_best\",\n",
    "    \"x_net\",\n",
    "    \"datasets\",\n",
    "    \"torch_default_dtype\",\n",
    "    \"NUM_LOGS_PER_EPOCH\",\n",
    "    \"BEST_MODEL_PATH\",\n",
    "    \"x_shape\",\n",
    "}"
   ]
  },
  {
   "cell_type": "code",
   "execution_count": 3,
   "id": "fa3f0049",
   "metadata": {
    "execution": {
     "iopub.execute_input": "2022-03-21T08:43:49.488714Z",
     "iopub.status.busy": "2022-03-21T08:43:49.487785Z",
     "iopub.status.idle": "2022-03-21T08:43:49.507805Z",
     "shell.execute_reply": "2022-03-21T08:43:49.507057Z"
    },
    "papermill": {
     "duration": 0.053405,
     "end_time": "2022-03-21T08:43:49.507959",
     "exception": false,
     "start_time": "2022-03-21T08:43:49.454554",
     "status": "completed"
    },
    "tags": [
     "parameters"
    ]
   },
   "outputs": [],
   "source": [
    "from steves_utils.CORES.utils import (\n",
    "    ALL_NODES,\n",
    "    ALL_NODES_MINIMUM_1000_EXAMPLES,\n",
    "    ALL_DAYS\n",
    ")\n",
    "\n",
    "from steves_utils.ORACLE.utils_v2 import (\n",
    "    ALL_DISTANCES_FEET_NARROWED,\n",
    "    ALL_RUNS,\n",
    "    ALL_SERIAL_NUMBERS,\n",
    ")\n",
    "\n",
    "standalone_parameters = {}\n",
    "standalone_parameters[\"experiment_name\"] = \"STANDALONE PTN\"\n",
    "standalone_parameters[\"lr\"] = 0.001\n",
    "standalone_parameters[\"device\"] = \"cuda\"\n",
    "\n",
    "standalone_parameters[\"seed\"] = 1337\n",
    "standalone_parameters[\"dataset_seed\"] = 1337\n",
    "\n",
    "standalone_parameters[\"n_way\"] = 8\n",
    "standalone_parameters[\"n_shot\"] = 3\n",
    "standalone_parameters[\"n_query\"]  = 2\n",
    "standalone_parameters[\"train_k_factor\"] = 1\n",
    "standalone_parameters[\"val_k_factor\"] = 2\n",
    "standalone_parameters[\"test_k_factor\"] = 2\n",
    "\n",
    "\n",
    "standalone_parameters[\"n_epoch\"] = 50\n",
    "\n",
    "standalone_parameters[\"patience\"] = 10\n",
    "standalone_parameters[\"criteria_for_best\"] = \"source_loss\"\n",
    "\n",
    "standalone_parameters[\"datasets\"] = [\n",
    "    {\n",
    "        \"labels\": ALL_SERIAL_NUMBERS,\n",
    "        \"domains\": ALL_DISTANCES_FEET_NARROWED,\n",
    "        \"num_examples_per_domain_per_label\": 100,\n",
    "        \"pickle_path\": os.path.join(get_datasets_base_path(), \"oracle.Run1_framed_2000Examples_stratified_ds.2022A.pkl\"),\n",
    "        \"source_or_target_dataset\": \"source\",\n",
    "        \"x_transforms\": [\"unit_mag\", \"minus_two\"],\n",
    "        \"episode_transforms\": [],\n",
    "        \"domain_prefix\": \"ORACLE_\"\n",
    "    },\n",
    "    {\n",
    "        \"labels\": ALL_NODES,\n",
    "        \"domains\": ALL_DAYS,\n",
    "        \"num_examples_per_domain_per_label\": 100,\n",
    "        \"pickle_path\": os.path.join(get_datasets_base_path(), \"cores.stratified_ds.2022A.pkl\"),\n",
    "        \"source_or_target_dataset\": \"target\",\n",
    "        \"x_transforms\": [\"unit_power\", \"times_zero\"],\n",
    "        \"episode_transforms\": [],\n",
    "        \"domain_prefix\": \"CORES_\"\n",
    "    }   \n",
    "]\n",
    "\n",
    "standalone_parameters[\"torch_default_dtype\"] = \"torch.float32\" \n",
    "\n",
    "\n",
    "\n",
    "standalone_parameters[\"x_net\"] =     [\n",
    "    {\"class\": \"nnReshape\", \"kargs\": {\"shape\":[-1, 1, 2, 256]}},\n",
    "    {\"class\": \"Conv2d\", \"kargs\": { \"in_channels\":1, \"out_channels\":256, \"kernel_size\":(1,7), \"bias\":False, \"padding\":(0,3), },},\n",
    "    {\"class\": \"ReLU\", \"kargs\": {\"inplace\": True}},\n",
    "    {\"class\": \"BatchNorm2d\", \"kargs\": {\"num_features\":256}},\n",
    "\n",
    "    {\"class\": \"Conv2d\", \"kargs\": { \"in_channels\":256, \"out_channels\":80, \"kernel_size\":(2,7), \"bias\":True, \"padding\":(0,3), },},\n",
    "    {\"class\": \"ReLU\", \"kargs\": {\"inplace\": True}},\n",
    "    {\"class\": \"BatchNorm2d\", \"kargs\": {\"num_features\":80}},\n",
    "    {\"class\": \"Flatten\", \"kargs\": {}},\n",
    "\n",
    "    {\"class\": \"Linear\", \"kargs\": {\"in_features\": 80*256, \"out_features\": 256}}, # 80 units per IQ pair\n",
    "    {\"class\": \"ReLU\", \"kargs\": {\"inplace\": True}},\n",
    "    {\"class\": \"BatchNorm1d\", \"kargs\": {\"num_features\":256}},\n",
    "\n",
    "    {\"class\": \"Linear\", \"kargs\": {\"in_features\": 256, \"out_features\": 256}},\n",
    "]\n",
    "\n",
    "# Parameters relevant to results\n",
    "# These parameters will basically never need to change\n",
    "standalone_parameters[\"NUM_LOGS_PER_EPOCH\"] = 10\n",
    "standalone_parameters[\"BEST_MODEL_PATH\"] = \"./best_model.pth\"\n",
    "\n",
    "\n",
    "\n",
    "\n"
   ]
  },
  {
   "cell_type": "code",
   "execution_count": 4,
   "id": "19d38855",
   "metadata": {
    "execution": {
     "iopub.execute_input": "2022-03-21T08:43:49.564939Z",
     "iopub.status.busy": "2022-03-21T08:43:49.563026Z",
     "iopub.status.idle": "2022-03-21T08:43:49.583502Z",
     "shell.execute_reply": "2022-03-21T08:43:49.582703Z"
    },
    "papermill": {
     "duration": 0.052431,
     "end_time": "2022-03-21T08:43:49.583686",
     "exception": false,
     "start_time": "2022-03-21T08:43:49.531255",
     "status": "completed"
    },
    "tags": [
     "injected-parameters"
    ]
   },
   "outputs": [],
   "source": [
    "# Parameters\n",
    "parameters = {\n",
    "    \"experiment_name\": \"tl_1v2:cores-oracle.run1.framed\",\n",
    "    \"device\": \"cuda\",\n",
    "    \"lr\": 0.0001,\n",
    "    \"n_shot\": 3,\n",
    "    \"n_query\": 2,\n",
    "    \"train_k_factor\": 3,\n",
    "    \"val_k_factor\": 2,\n",
    "    \"test_k_factor\": 2,\n",
    "    \"torch_default_dtype\": \"torch.float32\",\n",
    "    \"n_epoch\": 50,\n",
    "    \"patience\": 3,\n",
    "    \"criteria_for_best\": \"target_accuracy\",\n",
    "    \"x_net\": [\n",
    "        {\"class\": \"nnReshape\", \"kargs\": {\"shape\": [-1, 1, 2, 256]}},\n",
    "        {\n",
    "            \"class\": \"Conv2d\",\n",
    "            \"kargs\": {\n",
    "                \"in_channels\": 1,\n",
    "                \"out_channels\": 256,\n",
    "                \"kernel_size\": [1, 7],\n",
    "                \"bias\": False,\n",
    "                \"padding\": [0, 3],\n",
    "            },\n",
    "        },\n",
    "        {\"class\": \"ReLU\", \"kargs\": {\"inplace\": True}},\n",
    "        {\"class\": \"BatchNorm2d\", \"kargs\": {\"num_features\": 256}},\n",
    "        {\n",
    "            \"class\": \"Conv2d\",\n",
    "            \"kargs\": {\n",
    "                \"in_channels\": 256,\n",
    "                \"out_channels\": 80,\n",
    "                \"kernel_size\": [2, 7],\n",
    "                \"bias\": True,\n",
    "                \"padding\": [0, 3],\n",
    "            },\n",
    "        },\n",
    "        {\"class\": \"ReLU\", \"kargs\": {\"inplace\": True}},\n",
    "        {\"class\": \"BatchNorm2d\", \"kargs\": {\"num_features\": 80}},\n",
    "        {\"class\": \"Flatten\", \"kargs\": {}},\n",
    "        {\"class\": \"Linear\", \"kargs\": {\"in_features\": 20480, \"out_features\": 256}},\n",
    "        {\"class\": \"ReLU\", \"kargs\": {\"inplace\": True}},\n",
    "        {\"class\": \"BatchNorm1d\", \"kargs\": {\"num_features\": 256}},\n",
    "        {\"class\": \"Linear\", \"kargs\": {\"in_features\": 256, \"out_features\": 256}},\n",
    "    ],\n",
    "    \"NUM_LOGS_PER_EPOCH\": 10,\n",
    "    \"BEST_MODEL_PATH\": \"./best_model.pth\",\n",
    "    \"n_way\": 16,\n",
    "    \"datasets\": [\n",
    "        {\n",
    "            \"labels\": [\n",
    "                \"1-10.\",\n",
    "                \"1-11.\",\n",
    "                \"1-15.\",\n",
    "                \"1-16.\",\n",
    "                \"1-17.\",\n",
    "                \"1-18.\",\n",
    "                \"1-19.\",\n",
    "                \"10-4.\",\n",
    "                \"10-7.\",\n",
    "                \"11-1.\",\n",
    "                \"11-14.\",\n",
    "                \"11-17.\",\n",
    "                \"11-20.\",\n",
    "                \"11-7.\",\n",
    "                \"13-20.\",\n",
    "                \"13-8.\",\n",
    "                \"14-10.\",\n",
    "                \"14-11.\",\n",
    "                \"14-14.\",\n",
    "                \"14-7.\",\n",
    "                \"15-1.\",\n",
    "                \"15-20.\",\n",
    "                \"16-1.\",\n",
    "                \"16-16.\",\n",
    "                \"17-10.\",\n",
    "                \"17-11.\",\n",
    "                \"17-2.\",\n",
    "                \"19-1.\",\n",
    "                \"19-16.\",\n",
    "                \"19-19.\",\n",
    "                \"19-20.\",\n",
    "                \"19-3.\",\n",
    "                \"2-10.\",\n",
    "                \"2-11.\",\n",
    "                \"2-17.\",\n",
    "                \"2-18.\",\n",
    "                \"2-20.\",\n",
    "                \"2-3.\",\n",
    "                \"2-4.\",\n",
    "                \"2-5.\",\n",
    "                \"2-6.\",\n",
    "                \"2-7.\",\n",
    "                \"2-8.\",\n",
    "                \"3-13.\",\n",
    "                \"3-18.\",\n",
    "                \"3-3.\",\n",
    "                \"4-1.\",\n",
    "                \"4-10.\",\n",
    "                \"4-11.\",\n",
    "                \"4-19.\",\n",
    "                \"5-5.\",\n",
    "                \"6-15.\",\n",
    "                \"7-10.\",\n",
    "                \"7-14.\",\n",
    "                \"8-18.\",\n",
    "                \"8-20.\",\n",
    "                \"8-3.\",\n",
    "                \"8-8.\",\n",
    "            ],\n",
    "            \"domains\": [1, 2, 3, 4, 5],\n",
    "            \"num_examples_per_domain_per_label\": -1,\n",
    "            \"pickle_path\": \"/root/csc500-main/datasets/cores.stratified_ds.2022A.pkl\",\n",
    "            \"source_or_target_dataset\": \"target\",\n",
    "            \"x_transforms\": [],\n",
    "            \"episode_transforms\": [],\n",
    "            \"domain_prefix\": \"CORES_\",\n",
    "        },\n",
    "        {\n",
    "            \"labels\": [\n",
    "                \"3123D52\",\n",
    "                \"3123D65\",\n",
    "                \"3123D79\",\n",
    "                \"3123D80\",\n",
    "                \"3123D54\",\n",
    "                \"3123D70\",\n",
    "                \"3123D7B\",\n",
    "                \"3123D89\",\n",
    "                \"3123D58\",\n",
    "                \"3123D76\",\n",
    "                \"3123D7D\",\n",
    "                \"3123EFE\",\n",
    "                \"3123D64\",\n",
    "                \"3123D78\",\n",
    "                \"3123D7E\",\n",
    "                \"3124E4A\",\n",
    "            ],\n",
    "            \"domains\": [32, 38, 8, 44, 14, 50, 20, 26],\n",
    "            \"num_examples_per_domain_per_label\": 2000,\n",
    "            \"pickle_path\": \"/root/csc500-main/datasets/oracle.Run1_framed_2000Examples_stratified_ds.2022A.pkl\",\n",
    "            \"source_or_target_dataset\": \"source\",\n",
    "            \"x_transforms\": [],\n",
    "            \"episode_transforms\": [],\n",
    "            \"domain_prefix\": \"ORACLE.run1_\",\n",
    "        },\n",
    "    ],\n",
    "    \"dataset_seed\": 420,\n",
    "    \"seed\": 420,\n",
    "}\n"
   ]
  },
  {
   "cell_type": "code",
   "execution_count": 5,
   "id": "8fa1cc33",
   "metadata": {
    "execution": {
     "iopub.execute_input": "2022-03-21T08:43:49.637257Z",
     "iopub.status.busy": "2022-03-21T08:43:49.636065Z",
     "iopub.status.idle": "2022-03-21T08:43:49.655614Z",
     "shell.execute_reply": "2022-03-21T08:43:49.656284Z"
    },
    "papermill": {
     "duration": 0.046439,
     "end_time": "2022-03-21T08:43:49.656461",
     "exception": false,
     "start_time": "2022-03-21T08:43:49.610022",
     "status": "completed"
    },
    "tags": []
   },
   "outputs": [],
   "source": [
    "# Set this to True if you want to run this template directly\n",
    "STANDALONE = False\n",
    "if STANDALONE:\n",
    "    print(\"parameters not injected, running with standalone_parameters\")\n",
    "    parameters = standalone_parameters\n",
    "\n",
    "if not 'parameters' in locals() and not 'parameters' in globals():\n",
    "    raise Exception(\"Parameter injection failed\")\n",
    "\n",
    "#Use an easy dict for all the parameters\n",
    "p = EasyDict(parameters)\n",
    "\n",
    "if \"x_shape\" not in p:\n",
    "    p.x_shape = [2,256] # Default to this if we dont supply x_shape\n",
    "\n",
    "\n",
    "supplied_keys = set(p.keys())\n",
    "\n",
    "if  supplied_keys != required_parameters:\n",
    "    print(\"Parameters are incorrect\")\n",
    "    if len(supplied_keys - required_parameters)>0: print(\"Shouldn't have:\", str(supplied_keys - required_parameters))\n",
    "    if len(required_parameters - supplied_keys)>0: print(\"Need to have:\", str(required_parameters - supplied_keys))\n",
    "    raise RuntimeError(\"Parameters are incorrect\")"
   ]
  },
  {
   "cell_type": "code",
   "execution_count": 6,
   "id": "3a028d58",
   "metadata": {
    "execution": {
     "iopub.execute_input": "2022-03-21T08:43:49.704057Z",
     "iopub.status.busy": "2022-03-21T08:43:49.703696Z",
     "iopub.status.idle": "2022-03-21T08:43:49.721709Z",
     "shell.execute_reply": "2022-03-21T08:43:49.720908Z"
    },
    "papermill": {
     "duration": 0.039924,
     "end_time": "2022-03-21T08:43:49.721904",
     "exception": false,
     "start_time": "2022-03-21T08:43:49.681980",
     "status": "completed"
    },
    "tags": []
   },
   "outputs": [],
   "source": [
    "###################################\n",
    "# Set the RNGs and make it all deterministic\n",
    "###################################\n",
    "np.random.seed(p.seed)\n",
    "random.seed(p.seed)\n",
    "torch.manual_seed(p.seed)\n",
    "\n",
    "torch.use_deterministic_algorithms(True) "
   ]
  },
  {
   "cell_type": "code",
   "execution_count": 7,
   "id": "b691acf6",
   "metadata": {
    "execution": {
     "iopub.execute_input": "2022-03-21T08:43:49.771464Z",
     "iopub.status.busy": "2022-03-21T08:43:49.771081Z",
     "iopub.status.idle": "2022-03-21T08:43:49.793619Z",
     "shell.execute_reply": "2022-03-21T08:43:49.792903Z"
    },
    "papermill": {
     "duration": 0.045872,
     "end_time": "2022-03-21T08:43:49.793783",
     "exception": false,
     "start_time": "2022-03-21T08:43:49.747911",
     "status": "completed"
    },
    "tags": []
   },
   "outputs": [],
   "source": [
    "###########################################\n",
    "# The stratified datasets honor this\n",
    "###########################################\n",
    "torch.set_default_dtype(eval(p.torch_default_dtype))"
   ]
  },
  {
   "cell_type": "code",
   "execution_count": 8,
   "id": "b5fba671",
   "metadata": {
    "execution": {
     "iopub.execute_input": "2022-03-21T08:43:49.844214Z",
     "iopub.status.busy": "2022-03-21T08:43:49.843843Z",
     "iopub.status.idle": "2022-03-21T08:43:49.894562Z",
     "shell.execute_reply": "2022-03-21T08:43:49.893837Z"
    },
    "papermill": {
     "duration": 0.07285,
     "end_time": "2022-03-21T08:43:49.894728",
     "exception": false,
     "start_time": "2022-03-21T08:43:49.821878",
     "status": "completed"
    },
    "tags": []
   },
   "outputs": [],
   "source": [
    "###################################\n",
    "# Build the network(s)\n",
    "# Note: It's critical to do this AFTER setting the RNG\n",
    "###################################\n",
    "x_net = build_sequential(p.x_net)"
   ]
  },
  {
   "cell_type": "code",
   "execution_count": 9,
   "id": "5d7e61cc",
   "metadata": {
    "execution": {
     "iopub.execute_input": "2022-03-21T08:43:49.944704Z",
     "iopub.status.busy": "2022-03-21T08:43:49.944334Z",
     "iopub.status.idle": "2022-03-21T08:43:49.971172Z",
     "shell.execute_reply": "2022-03-21T08:43:49.970456Z"
    },
    "papermill": {
     "duration": 0.050982,
     "end_time": "2022-03-21T08:43:49.971333",
     "exception": false,
     "start_time": "2022-03-21T08:43:49.920351",
     "status": "completed"
    },
    "tags": []
   },
   "outputs": [],
   "source": [
    "start_time_secs = time.time()"
   ]
  },
  {
   "cell_type": "code",
   "execution_count": 10,
   "id": "c6b67dfd",
   "metadata": {
    "execution": {
     "iopub.execute_input": "2022-03-21T08:43:50.021719Z",
     "iopub.status.busy": "2022-03-21T08:43:50.021155Z",
     "iopub.status.idle": "2022-03-21T08:43:50.041283Z",
     "shell.execute_reply": "2022-03-21T08:43:50.040476Z"
    },
    "papermill": {
     "duration": 0.043288,
     "end_time": "2022-03-21T08:43:50.041440",
     "exception": false,
     "start_time": "2022-03-21T08:43:49.998152",
     "status": "completed"
    },
    "tags": []
   },
   "outputs": [],
   "source": [
    "p.domains_source = []\n",
    "p.domains_target = []\n",
    "\n",
    "\n",
    "train_original_source = []\n",
    "val_original_source   = []\n",
    "test_original_source  = []\n",
    "\n",
    "train_original_target = []\n",
    "val_original_target   = []\n",
    "test_original_target  = []"
   ]
  },
  {
   "cell_type": "code",
   "execution_count": 11,
   "id": "e3d9c3d3",
   "metadata": {
    "execution": {
     "iopub.execute_input": "2022-03-21T08:43:50.091563Z",
     "iopub.status.busy": "2022-03-21T08:43:50.091181Z",
     "iopub.status.idle": "2022-03-21T08:43:50.115369Z",
     "shell.execute_reply": "2022-03-21T08:43:50.114557Z"
    },
    "papermill": {
     "duration": 0.047888,
     "end_time": "2022-03-21T08:43:50.115556",
     "exception": false,
     "start_time": "2022-03-21T08:43:50.067668",
     "status": "completed"
    },
    "tags": []
   },
   "outputs": [],
   "source": [
    "# global_x_transform_func = lambda x: normalize(x.to(torch.get_default_dtype()), \"unit_power\") # unit_power, unit_mag\n",
    "# global_x_transform_func = lambda x: normalize(x, \"unit_power\") # unit_power, unit_mag"
   ]
  },
  {
   "cell_type": "code",
   "execution_count": 12,
   "id": "acb78fd2",
   "metadata": {
    "execution": {
     "iopub.execute_input": "2022-03-21T08:43:50.175740Z",
     "iopub.status.busy": "2022-03-21T08:43:50.174861Z",
     "iopub.status.idle": "2022-03-21T08:43:50.192909Z",
     "shell.execute_reply": "2022-03-21T08:43:50.192180Z"
    },
    "papermill": {
     "duration": 0.05021,
     "end_time": "2022-03-21T08:43:50.193070",
     "exception": false,
     "start_time": "2022-03-21T08:43:50.142860",
     "status": "completed"
    },
    "tags": []
   },
   "outputs": [],
   "source": [
    "def add_dataset(\n",
    "    labels,\n",
    "    domains,\n",
    "    pickle_path,\n",
    "    x_transforms,\n",
    "    episode_transforms,\n",
    "    domain_prefix,\n",
    "    num_examples_per_domain_per_label,\n",
    "    source_or_target_dataset:str,\n",
    "    iterator_seed=p.seed,\n",
    "    dataset_seed=p.dataset_seed,\n",
    "    n_shot=p.n_shot,\n",
    "    n_way=p.n_way,\n",
    "    n_query=p.n_query,\n",
    "    train_val_test_k_factors=(p.train_k_factor,p.val_k_factor,p.test_k_factor),\n",
    "):\n",
    "   \n",
    "    if x_transforms == []: x_transform = None\n",
    "    else: x_transform = get_chained_transform(x_transforms)\n",
    "    \n",
    "    if episode_transforms == []: episode_transform = None\n",
    "    else: raise Exception(\"episode_transforms not implemented\")\n",
    "    \n",
    "    episode_transform = lambda tup, _prefix=domain_prefix: (_prefix + str(tup[0]), tup[1])\n",
    "\n",
    "\n",
    "    eaf = Episodic_Accessor_Factory(\n",
    "        labels=labels,\n",
    "        domains=domains,\n",
    "        num_examples_per_domain_per_label=num_examples_per_domain_per_label,\n",
    "        iterator_seed=iterator_seed,\n",
    "        dataset_seed=dataset_seed,\n",
    "        n_shot=n_shot,\n",
    "        n_way=n_way,\n",
    "        n_query=n_query,\n",
    "        train_val_test_k_factors=train_val_test_k_factors,\n",
    "        pickle_path=pickle_path,\n",
    "        x_transform_func=x_transform,\n",
    "    )\n",
    "\n",
    "    train, val, test = eaf.get_train(), eaf.get_val(), eaf.get_test()\n",
    "    train = Lazy_Iterable_Wrapper(train, episode_transform)\n",
    "    val = Lazy_Iterable_Wrapper(val, episode_transform)\n",
    "    test = Lazy_Iterable_Wrapper(test, episode_transform)\n",
    "\n",
    "    if source_or_target_dataset==\"source\":\n",
    "        train_original_source.append(train)\n",
    "        val_original_source.append(val)\n",
    "        test_original_source.append(test)\n",
    "\n",
    "        p.domains_source.extend(\n",
    "            [domain_prefix + str(u) for u in domains]\n",
    "        )\n",
    "    elif source_or_target_dataset==\"target\":\n",
    "        train_original_target.append(train)\n",
    "        val_original_target.append(val)\n",
    "        test_original_target.append(test)\n",
    "        p.domains_target.extend(\n",
    "            [domain_prefix + str(u) for u in domains]\n",
    "        )\n",
    "    else:\n",
    "        raise Exception(f\"invalid source_or_target_dataset: {source_or_target_dataset}\")\n",
    "    "
   ]
  },
  {
   "cell_type": "code",
   "execution_count": 13,
   "id": "fe266617",
   "metadata": {
    "execution": {
     "iopub.execute_input": "2022-03-21T08:43:50.249168Z",
     "iopub.status.busy": "2022-03-21T08:43:50.243814Z",
     "iopub.status.idle": "2022-03-21T08:43:55.350237Z",
     "shell.execute_reply": "2022-03-21T08:43:55.349443Z"
    },
    "papermill": {
     "duration": 5.129886,
     "end_time": "2022-03-21T08:43:55.350413",
     "exception": false,
     "start_time": "2022-03-21T08:43:50.220527",
     "status": "completed"
    },
    "tags": []
   },
   "outputs": [],
   "source": [
    "for ds in p.datasets:\n",
    "    add_dataset(**ds)"
   ]
  },
  {
   "cell_type": "code",
   "execution_count": 14,
   "id": "b90d65ac",
   "metadata": {
    "execution": {
     "iopub.execute_input": "2022-03-21T08:43:55.399182Z",
     "iopub.status.busy": "2022-03-21T08:43:55.398805Z",
     "iopub.status.idle": "2022-03-21T08:43:55.424089Z",
     "shell.execute_reply": "2022-03-21T08:43:55.423239Z"
    },
    "papermill": {
     "duration": 0.049407,
     "end_time": "2022-03-21T08:43:55.424251",
     "exception": false,
     "start_time": "2022-03-21T08:43:55.374844",
     "status": "completed"
    },
    "tags": []
   },
   "outputs": [],
   "source": [
    "# from steves_utils.CORES.utils import (\n",
    "#     ALL_NODES,\n",
    "#     ALL_NODES_MINIMUM_1000_EXAMPLES,\n",
    "#     ALL_DAYS\n",
    "# )\n",
    "\n",
    "# add_dataset(\n",
    "#     labels=ALL_NODES,\n",
    "#     domains = ALL_DAYS,\n",
    "#     num_examples_per_domain_per_label=100,\n",
    "#     pickle_path=os.path.join(get_datasets_base_path(), \"cores.stratified_ds.2022A.pkl\"),\n",
    "#     source_or_target_dataset=\"target\",\n",
    "#     x_transform_func=global_x_transform_func,\n",
    "#     domain_modifier=lambda u: f\"cores_{u}\"\n",
    "# )"
   ]
  },
  {
   "cell_type": "code",
   "execution_count": 15,
   "id": "76db484d",
   "metadata": {
    "execution": {
     "iopub.execute_input": "2022-03-21T08:43:55.477681Z",
     "iopub.status.busy": "2022-03-21T08:43:55.476386Z",
     "iopub.status.idle": "2022-03-21T08:43:55.499660Z",
     "shell.execute_reply": "2022-03-21T08:43:55.498826Z"
    },
    "papermill": {
     "duration": 0.047704,
     "end_time": "2022-03-21T08:43:55.499823",
     "exception": false,
     "start_time": "2022-03-21T08:43:55.452119",
     "status": "completed"
    },
    "tags": []
   },
   "outputs": [],
   "source": [
    "# from steves_utils.ORACLE.utils_v2 import (\n",
    "#     ALL_DISTANCES_FEET,\n",
    "#     ALL_RUNS,\n",
    "#     ALL_SERIAL_NUMBERS,\n",
    "# )\n",
    "\n",
    "\n",
    "# add_dataset(\n",
    "#     labels=ALL_SERIAL_NUMBERS,\n",
    "#     domains = list(set(ALL_DISTANCES_FEET) - {2,62}),\n",
    "#     num_examples_per_domain_per_label=100,\n",
    "#     pickle_path=os.path.join(get_datasets_base_path(), \"oracle.Run2_framed_2000Examples_stratified_ds.2022A.pkl\"),\n",
    "#     source_or_target_dataset=\"source\",\n",
    "#     x_transform_func=global_x_transform_func,\n",
    "#     domain_modifier=lambda u: f\"oracle1_{u}\"\n",
    "# )\n"
   ]
  },
  {
   "cell_type": "code",
   "execution_count": 16,
   "id": "97dea9d2",
   "metadata": {
    "execution": {
     "iopub.execute_input": "2022-03-21T08:43:55.552255Z",
     "iopub.status.busy": "2022-03-21T08:43:55.551882Z",
     "iopub.status.idle": "2022-03-21T08:43:55.568881Z",
     "shell.execute_reply": "2022-03-21T08:43:55.568150Z"
    },
    "papermill": {
     "duration": 0.040081,
     "end_time": "2022-03-21T08:43:55.569036",
     "exception": false,
     "start_time": "2022-03-21T08:43:55.528955",
     "status": "completed"
    },
    "tags": []
   },
   "outputs": [],
   "source": [
    "# from steves_utils.ORACLE.utils_v2 import (\n",
    "#     ALL_DISTANCES_FEET,\n",
    "#     ALL_RUNS,\n",
    "#     ALL_SERIAL_NUMBERS,\n",
    "# )\n",
    "\n",
    "\n",
    "# add_dataset(\n",
    "#     labels=ALL_SERIAL_NUMBERS,\n",
    "#     domains = list(set(ALL_DISTANCES_FEET) - {2,62,56}),\n",
    "#     num_examples_per_domain_per_label=100,\n",
    "#     pickle_path=os.path.join(get_datasets_base_path(), \"oracle.Run2_framed_2000Examples_stratified_ds.2022A.pkl\"),\n",
    "#     source_or_target_dataset=\"source\",\n",
    "#     x_transform_func=global_x_transform_func,\n",
    "#     domain_modifier=lambda u: f\"oracle2_{u}\"\n",
    "# )"
   ]
  },
  {
   "cell_type": "code",
   "execution_count": 17,
   "id": "6f289866",
   "metadata": {
    "execution": {
     "iopub.execute_input": "2022-03-21T08:43:55.620253Z",
     "iopub.status.busy": "2022-03-21T08:43:55.619197Z",
     "iopub.status.idle": "2022-03-21T08:43:55.639692Z",
     "shell.execute_reply": "2022-03-21T08:43:55.638845Z"
    },
    "papermill": {
     "duration": 0.045359,
     "end_time": "2022-03-21T08:43:55.639860",
     "exception": false,
     "start_time": "2022-03-21T08:43:55.594501",
     "status": "completed"
    },
    "tags": []
   },
   "outputs": [],
   "source": [
    "# add_dataset(\n",
    "#     labels=list(range(19)),\n",
    "#     domains = [0,1,2],\n",
    "#     num_examples_per_domain_per_label=100,\n",
    "#     pickle_path=os.path.join(get_datasets_base_path(), \"metehan.stratified_ds.2022A.pkl\"),\n",
    "#     source_or_target_dataset=\"target\",\n",
    "#     x_transform_func=global_x_transform_func,\n",
    "#     domain_modifier=lambda u: f\"met_{u}\"\n",
    "# )"
   ]
  },
  {
   "cell_type": "code",
   "execution_count": 18,
   "id": "86a863c3",
   "metadata": {
    "execution": {
     "iopub.execute_input": "2022-03-21T08:43:55.695435Z",
     "iopub.status.busy": "2022-03-21T08:43:55.694363Z",
     "iopub.status.idle": "2022-03-21T08:43:55.714620Z",
     "shell.execute_reply": "2022-03-21T08:43:55.713804Z"
    },
    "papermill": {
     "duration": 0.045343,
     "end_time": "2022-03-21T08:43:55.714782",
     "exception": false,
     "start_time": "2022-03-21T08:43:55.669439",
     "status": "completed"
    },
    "tags": []
   },
   "outputs": [],
   "source": [
    "# # from steves_utils.wisig.utils import (\n",
    "# #     ALL_NODES_MINIMUM_100_EXAMPLES,\n",
    "# #     ALL_NODES_MINIMUM_500_EXAMPLES,\n",
    "# #     ALL_NODES_MINIMUM_1000_EXAMPLES,\n",
    "# #     ALL_DAYS\n",
    "# # )\n",
    "\n",
    "# import steves_utils.wisig.utils as wisig\n",
    "\n",
    "\n",
    "# add_dataset(\n",
    "#     labels=wisig.ALL_NODES_MINIMUM_100_EXAMPLES,\n",
    "#     domains = wisig.ALL_DAYS,\n",
    "#     num_examples_per_domain_per_label=100,\n",
    "#     pickle_path=os.path.join(get_datasets_base_path(), \"wisig.node3-19.stratified_ds.2022A.pkl\"),\n",
    "#     source_or_target_dataset=\"target\",\n",
    "#     x_transform_func=global_x_transform_func,\n",
    "#     domain_modifier=lambda u: f\"wisig_{u}\"\n",
    "# )"
   ]
  },
  {
   "cell_type": "code",
   "execution_count": 19,
   "id": "fd5442bc",
   "metadata": {
    "execution": {
     "iopub.execute_input": "2022-03-21T08:43:55.775565Z",
     "iopub.status.busy": "2022-03-21T08:43:55.774957Z",
     "iopub.status.idle": "2022-03-21T08:43:55.792886Z",
     "shell.execute_reply": "2022-03-21T08:43:55.792079Z"
    },
    "papermill": {
     "duration": 0.049331,
     "end_time": "2022-03-21T08:43:55.793051",
     "exception": false,
     "start_time": "2022-03-21T08:43:55.743720",
     "status": "completed"
    },
    "tags": []
   },
   "outputs": [],
   "source": [
    "###################################\n",
    "# Build the dataset\n",
    "###################################\n",
    "train_original_source = Iterable_Aggregator(train_original_source, p.seed)\n",
    "val_original_source = Iterable_Aggregator(val_original_source, p.seed)\n",
    "test_original_source = Iterable_Aggregator(test_original_source, p.seed)\n",
    "\n",
    "\n",
    "train_original_target = Iterable_Aggregator(train_original_target, p.seed)\n",
    "val_original_target = Iterable_Aggregator(val_original_target, p.seed)\n",
    "test_original_target = Iterable_Aggregator(test_original_target, p.seed)\n",
    "\n",
    "# For CNN We only use X and Y. And we only train on the source.\n",
    "# Properly form the data using a transform lambda and Lazy_Iterable_Wrapper. Finally wrap them in a dataloader\n",
    "\n",
    "transform_lambda = lambda ex: ex[1] # Original is (<domain>, <episode>) so we strip down to episode only\n",
    "\n",
    "train_processed_source = Lazy_Iterable_Wrapper(train_original_source, transform_lambda)\n",
    "val_processed_source   = Lazy_Iterable_Wrapper(val_original_source, transform_lambda)\n",
    "test_processed_source  = Lazy_Iterable_Wrapper(test_original_source, transform_lambda)\n",
    "\n",
    "train_processed_target = Lazy_Iterable_Wrapper(train_original_target, transform_lambda)\n",
    "val_processed_target   = Lazy_Iterable_Wrapper(val_original_target, transform_lambda)\n",
    "test_processed_target  = Lazy_Iterable_Wrapper(test_original_target, transform_lambda)\n",
    "\n",
    "datasets = EasyDict({\n",
    "    \"source\": {\n",
    "        \"original\": {\"train\":train_original_source, \"val\":val_original_source, \"test\":test_original_source},\n",
    "        \"processed\": {\"train\":train_processed_source, \"val\":val_processed_source, \"test\":test_processed_source}\n",
    "    },\n",
    "    \"target\": {\n",
    "        \"original\": {\"train\":train_original_target, \"val\":val_original_target, \"test\":test_original_target},\n",
    "        \"processed\": {\"train\":train_processed_target, \"val\":val_processed_target, \"test\":test_processed_target}\n",
    "    },\n",
    "})"
   ]
  },
  {
   "cell_type": "code",
   "execution_count": 20,
   "id": "5b3c01fc",
   "metadata": {
    "execution": {
     "iopub.execute_input": "2022-03-21T08:43:55.847881Z",
     "iopub.status.busy": "2022-03-21T08:43:55.846877Z",
     "iopub.status.idle": "2022-03-21T08:44:11.013371Z",
     "shell.execute_reply": "2022-03-21T08:44:11.012522Z"
    },
    "papermill": {
     "duration": 15.192314,
     "end_time": "2022-03-21T08:44:11.013547",
     "exception": false,
     "start_time": "2022-03-21T08:43:55.821233",
     "status": "completed"
    },
    "tags": []
   },
   "outputs": [
    {
     "name": "stdout",
     "output_type": "stream",
     "text": [
      "{'ORACLE.run1_38', 'ORACLE.run1_32', 'ORACLE.run1_8', 'ORACLE.run1_50', 'ORACLE.run1_14', 'ORACLE.run1_44', 'ORACLE.run1_20', 'ORACLE.run1_26'}\n"
     ]
    },
    {
     "name": "stdout",
     "output_type": "stream",
     "text": [
      "{'CORES_3', 'CORES_5', 'CORES_2', 'CORES_4', 'CORES_1'}\n"
     ]
    },
    {
     "name": "stdout",
     "output_type": "stream",
     "text": [
      "tensor([[[ 2.1668e-03,  1.0681e-03, -3.2655e-03,  ..., -9.1556e-04,\n",
      "           4.6083e-03,  1.5870e-03],\n",
      "         [ 5.1881e-04,  4.0590e-03, -1.0376e-03,  ..., -3.5401e-03,\n",
      "          -5.7985e-04, -2.3499e-03]],\n",
      "\n",
      "        [[-2.1973e-03,  1.7396e-03,  1.8006e-03,  ..., -1.8006e-03,\n",
      "          -3.9979e-03, -2.5330e-03],\n",
      "         [-1.6480e-03, -3.4181e-03,  3.1434e-03,  ...,  3.4486e-03,\n",
      "          -2.5941e-03,  9.4607e-04]],\n",
      "\n",
      "        [[-1.2207e-04,  3.7538e-03, -7.6296e-04,  ..., -3.6012e-03,\n",
      "          -5.1881e-04, -2.4415e-03],\n",
      "         [-1.9227e-03, -5.4933e-04,  3.3570e-03,  ..., -6.1037e-05,\n",
      "          -4.8219e-03, -1.8311e-03]],\n",
      "\n",
      "        ...,\n",
      "\n",
      "        [[ 2.9908e-03,  6.7141e-04, -4.0284e-03,  ..., -1.1292e-03,\n",
      "           5.7375e-03,  1.6785e-03],\n",
      "         [ 7.0193e-04,  4.5778e-03, -1.7396e-03,  ..., -4.6693e-03,\n",
      "          -6.1037e-04, -3.9979e-03]],\n",
      "\n",
      "        [[ 4.4862e-03,  1.3733e-03, -5.8596e-03,  ..., -4.8830e-04,\n",
      "           4.6999e-03, -3.4181e-03],\n",
      "         [ 4.5778e-04,  3.8148e-03, -5.4933e-04,  ..., -4.3336e-03,\n",
      "          -3.7233e-03, -4.3336e-03]],\n",
      "\n",
      "        [[ 3.9064e-03,  2.4110e-03, -4.4557e-03,  ..., -3.4486e-03,\n",
      "          -9.1556e-04, -5.9816e-03],\n",
      "         [-3.1434e-03,  2.3804e-03,  4.1505e-03,  ..., -3.6317e-03,\n",
      "          -5.3713e-03,  1.0987e-03]]])\n"
     ]
    }
   ],
   "source": [
    "from steves_utils.transforms import get_average_magnitude, get_average_power\n",
    "\n",
    "print(set([u for u,_ in val_original_source]))\n",
    "print(set([u for u,_ in val_original_target]))\n",
    "\n",
    "s_x, s_y, q_x, q_y, _ = next(iter(train_processed_source))\n",
    "print(s_x)\n",
    "\n",
    "# for ds in [\n",
    "#     train_processed_source,\n",
    "#     val_processed_source,\n",
    "#     test_processed_source,\n",
    "#     train_processed_target,\n",
    "#     val_processed_target,\n",
    "#     test_processed_target\n",
    "# ]:\n",
    "#     for s_x, s_y, q_x, q_y, _ in ds:\n",
    "#         for X in (s_x, q_x):\n",
    "#             for x in X:\n",
    "#                 assert np.isclose(get_average_magnitude(x.numpy()), 1.0)\n",
    "#                 assert np.isclose(get_average_power(x.numpy()), 1.0)\n",
    "                "
   ]
  },
  {
   "cell_type": "code",
   "execution_count": 21,
   "id": "bbdacba1",
   "metadata": {
    "execution": {
     "iopub.execute_input": "2022-03-21T08:44:11.069724Z",
     "iopub.status.busy": "2022-03-21T08:44:11.069345Z",
     "iopub.status.idle": "2022-03-21T08:44:11.284171Z",
     "shell.execute_reply": "2022-03-21T08:44:11.283366Z"
    },
    "papermill": {
     "duration": 0.242557,
     "end_time": "2022-03-21T08:44:11.284364",
     "exception": false,
     "start_time": "2022-03-21T08:44:11.041807",
     "status": "completed"
    },
    "tags": []
   },
   "outputs": [
    {
     "name": "stdout",
     "output_type": "stream",
     "text": [
      "(2, 256)\n"
     ]
    }
   ],
   "source": [
    "###################################\n",
    "# Build the model\n",
    "###################################\n",
    "# easfsl only wants a tuple for the shape\n",
    "model = Steves_Prototypical_Network(x_net, device=p.device, x_shape=tuple(p.x_shape))\n",
    "optimizer = Adam(params=model.parameters(), lr=p.lr)"
   ]
  },
  {
   "cell_type": "code",
   "execution_count": 22,
   "id": "22b39ac5",
   "metadata": {
    "execution": {
     "iopub.execute_input": "2022-03-21T08:44:11.377922Z",
     "iopub.status.busy": "2022-03-21T08:44:11.377532Z",
     "iopub.status.idle": "2022-03-21T09:14:20.392194Z",
     "shell.execute_reply": "2022-03-21T09:14:20.391848Z"
    },
    "papermill": {
     "duration": 1809.040675,
     "end_time": "2022-03-21T09:14:20.392289",
     "exception": false,
     "start_time": "2022-03-21T08:44:11.351614",
     "status": "completed"
    },
    "tags": []
   },
   "outputs": [
    {
     "name": "stdout",
     "output_type": "stream",
     "text": [
      "epoch: 1, [batch: 1 / 6720], examples_per_second: 33.9714, train_label_loss: 2.9245, \n"
     ]
    },
    {
     "name": "stdout",
     "output_type": "stream",
     "text": [
      "epoch: 1, [batch: 672 / 6720], examples_per_second: 2309.6740, train_label_loss: 0.5419, \n"
     ]
    },
    {
     "name": "stdout",
     "output_type": "stream",
     "text": [
      "epoch: 1, [batch: 1344 / 6720], examples_per_second: 2302.3247, train_label_loss: 0.4279, \n"
     ]
    },
    {
     "name": "stdout",
     "output_type": "stream",
     "text": [
      "epoch: 1, [batch: 2016 / 6720], examples_per_second: 2322.6595, train_label_loss: 0.5916, \n"
     ]
    },
    {
     "name": "stdout",
     "output_type": "stream",
     "text": [
      "epoch: 1, [batch: 2688 / 6720], examples_per_second: 2295.9841, train_label_loss: 0.6834, \n"
     ]
    },
    {
     "name": "stdout",
     "output_type": "stream",
     "text": [
      "epoch: 1, [batch: 3360 / 6720], examples_per_second: 2533.5035, train_label_loss: 0.0959, \n"
     ]
    },
    {
     "name": "stdout",
     "output_type": "stream",
     "text": [
      "epoch: 1, [batch: 4032 / 6720], examples_per_second: 2715.5237, train_label_loss: 0.0831, \n"
     ]
    },
    {
     "name": "stdout",
     "output_type": "stream",
     "text": [
      "epoch: 1, [batch: 4704 / 6720], examples_per_second: 2921.9879, train_label_loss: 0.1378, \n"
     ]
    },
    {
     "name": "stdout",
     "output_type": "stream",
     "text": [
      "epoch: 1, [batch: 5376 / 6720], examples_per_second: 2599.2099, train_label_loss: 0.2118, \n"
     ]
    },
    {
     "name": "stdout",
     "output_type": "stream",
     "text": [
      "epoch: 1, [batch: 6048 / 6720], examples_per_second: 2401.7494, train_label_loss: 0.3340, \n"
     ]
    },
    {
     "name": "stdout",
     "output_type": "stream",
     "text": [
      "=============================================================\n",
      "epoch: 1, source_val_acc_label: 0.6995, target_val_acc_label: 0.8467, source_val_label_loss: 15.8548, target_val_label_loss: 522.3120, \n",
      "=============================================================\n"
     ]
    },
    {
     "name": "stdout",
     "output_type": "stream",
     "text": [
      "New best\n"
     ]
    },
    {
     "name": "stdout",
     "output_type": "stream",
     "text": [
      "epoch: 2, [batch: 1 / 6720], examples_per_second: 2.0614, train_label_loss: 0.3487, \n"
     ]
    },
    {
     "name": "stdout",
     "output_type": "stream",
     "text": [
      "epoch: 2, [batch: 672 / 6720], examples_per_second: 2317.5448, train_label_loss: 0.1119, \n"
     ]
    },
    {
     "name": "stdout",
     "output_type": "stream",
     "text": [
      "epoch: 2, [batch: 1344 / 6720], examples_per_second: 2323.2732, train_label_loss: 0.3085, \n"
     ]
    },
    {
     "name": "stdout",
     "output_type": "stream",
     "text": [
      "epoch: 2, [batch: 2016 / 6720], examples_per_second: 2322.9523, train_label_loss: 0.1518, \n"
     ]
    },
    {
     "name": "stdout",
     "output_type": "stream",
     "text": [
      "epoch: 2, [batch: 2688 / 6720], examples_per_second: 2309.1387, train_label_loss: 0.3047, \n"
     ]
    },
    {
     "name": "stdout",
     "output_type": "stream",
     "text": [
      "epoch: 2, [batch: 3360 / 6720], examples_per_second: 2586.4638, train_label_loss: 0.2281, \n"
     ]
    },
    {
     "name": "stdout",
     "output_type": "stream",
     "text": [
      "epoch: 2, [batch: 4032 / 6720], examples_per_second: 2684.7834, train_label_loss: 0.2978, \n"
     ]
    },
    {
     "name": "stdout",
     "output_type": "stream",
     "text": [
      "epoch: 2, [batch: 4704 / 6720], examples_per_second: 2923.4921, train_label_loss: 0.2760, \n"
     ]
    },
    {
     "name": "stdout",
     "output_type": "stream",
     "text": [
      "epoch: 2, [batch: 5376 / 6720], examples_per_second: 2610.7991, train_label_loss: 0.3216, \n"
     ]
    },
    {
     "name": "stdout",
     "output_type": "stream",
     "text": [
      "epoch: 2, [batch: 6048 / 6720], examples_per_second: 2667.5151, train_label_loss: 0.1555, \n"
     ]
    },
    {
     "name": "stdout",
     "output_type": "stream",
     "text": [
      "=============================================================\n",
      "epoch: 2, source_val_acc_label: 0.9060, target_val_acc_label: 0.8591, source_val_label_loss: 0.2668, target_val_label_loss: 260.1024, \n",
      "=============================================================\n"
     ]
    },
    {
     "name": "stdout",
     "output_type": "stream",
     "text": [
      "New best\n"
     ]
    },
    {
     "name": "stdout",
     "output_type": "stream",
     "text": [
      "epoch: 3, [batch: 1 / 6720], examples_per_second: 2.3659, train_label_loss: 0.1917, \n"
     ]
    },
    {
     "name": "stdout",
     "output_type": "stream",
     "text": [
      "epoch: 3, [batch: 672 / 6720], examples_per_second: 2636.4812, train_label_loss: 0.2973, \n"
     ]
    },
    {
     "name": "stdout",
     "output_type": "stream",
     "text": [
      "epoch: 3, [batch: 1344 / 6720], examples_per_second: 2571.5096, train_label_loss: 0.2324, \n"
     ]
    },
    {
     "name": "stdout",
     "output_type": "stream",
     "text": [
      "epoch: 3, [batch: 2016 / 6720], examples_per_second: 2600.6705, train_label_loss: 0.1924, \n"
     ]
    },
    {
     "name": "stdout",
     "output_type": "stream",
     "text": [
      "epoch: 3, [batch: 2688 / 6720], examples_per_second: 2586.7571, train_label_loss: 0.1751, \n"
     ]
    },
    {
     "name": "stdout",
     "output_type": "stream",
     "text": [
      "epoch: 3, [batch: 3360 / 6720], examples_per_second: 2937.1232, train_label_loss: 0.3609, \n"
     ]
    },
    {
     "name": "stdout",
     "output_type": "stream",
     "text": [
      "epoch: 3, [batch: 4032 / 6720], examples_per_second: 3404.6517, train_label_loss: 0.5167, \n"
     ]
    },
    {
     "name": "stdout",
     "output_type": "stream",
     "text": [
      "epoch: 3, [batch: 4704 / 6720], examples_per_second: 3673.1838, train_label_loss: 0.1198, \n"
     ]
    },
    {
     "name": "stdout",
     "output_type": "stream",
     "text": [
      "epoch: 3, [batch: 5376 / 6720], examples_per_second: 3402.7835, train_label_loss: 0.2450, \n"
     ]
    },
    {
     "name": "stdout",
     "output_type": "stream",
     "text": [
      "epoch: 3, [batch: 6048 / 6720], examples_per_second: 3367.0844, train_label_loss: 0.1890, \n"
     ]
    },
    {
     "name": "stdout",
     "output_type": "stream",
     "text": [
      "=============================================================\n",
      "epoch: 3, source_val_acc_label: 0.9348, target_val_acc_label: 0.8602, source_val_label_loss: 0.1900, target_val_label_loss: 313.3034, \n",
      "=============================================================\n"
     ]
    },
    {
     "name": "stdout",
     "output_type": "stream",
     "text": [
      "New best\n"
     ]
    },
    {
     "name": "stdout",
     "output_type": "stream",
     "text": [
      "epoch: 4, [batch: 1 / 6720], examples_per_second: 3.2938, train_label_loss: 0.1012, \n"
     ]
    },
    {
     "name": "stdout",
     "output_type": "stream",
     "text": [
      "epoch: 4, [batch: 672 / 6720], examples_per_second: 3701.0782, train_label_loss: 0.0490, \n"
     ]
    },
    {
     "name": "stdout",
     "output_type": "stream",
     "text": [
      "epoch: 4, [batch: 1344 / 6720], examples_per_second: 3970.9920, train_label_loss: 0.1227, \n"
     ]
    },
    {
     "name": "stdout",
     "output_type": "stream",
     "text": [
      "epoch: 4, [batch: 2016 / 6720], examples_per_second: 3089.7741, train_label_loss: 0.0565, \n"
     ]
    },
    {
     "name": "stdout",
     "output_type": "stream",
     "text": [
      "epoch: 4, [batch: 2688 / 6720], examples_per_second: 2538.2536, train_label_loss: 0.2081, \n"
     ]
    },
    {
     "name": "stdout",
     "output_type": "stream",
     "text": [
      "epoch: 4, [batch: 3360 / 6720], examples_per_second: 2489.2634, train_label_loss: 0.2336, \n"
     ]
    },
    {
     "name": "stdout",
     "output_type": "stream",
     "text": [
      "epoch: 4, [batch: 4032 / 6720], examples_per_second: 2555.3901, train_label_loss: 0.2366, \n"
     ]
    },
    {
     "name": "stdout",
     "output_type": "stream",
     "text": [
      "epoch: 4, [batch: 4704 / 6720], examples_per_second: 2629.8257, train_label_loss: 0.4723, \n"
     ]
    },
    {
     "name": "stdout",
     "output_type": "stream",
     "text": [
      "epoch: 4, [batch: 5376 / 6720], examples_per_second: 2299.6094, train_label_loss: 0.0811, \n"
     ]
    },
    {
     "name": "stdout",
     "output_type": "stream",
     "text": [
      "epoch: 4, [batch: 6048 / 6720], examples_per_second: 2310.2976, train_label_loss: 0.0373, \n"
     ]
    },
    {
     "name": "stdout",
     "output_type": "stream",
     "text": [
      "=============================================================\n",
      "epoch: 4, source_val_acc_label: 0.9317, target_val_acc_label: 0.8585, source_val_label_loss: 0.1953, target_val_label_loss: 310.1473, \n",
      "=============================================================\n"
     ]
    },
    {
     "name": "stdout",
     "output_type": "stream",
     "text": [
      "epoch: 5, [batch: 1 / 6720], examples_per_second: 2.0744, train_label_loss: 0.2124, \n"
     ]
    },
    {
     "name": "stdout",
     "output_type": "stream",
     "text": [
      "epoch: 5, [batch: 672 / 6720], examples_per_second: 2352.4766, train_label_loss: 0.1679, \n"
     ]
    },
    {
     "name": "stdout",
     "output_type": "stream",
     "text": [
      "epoch: 5, [batch: 1344 / 6720], examples_per_second: 2581.3121, train_label_loss: 0.2518, \n"
     ]
    },
    {
     "name": "stdout",
     "output_type": "stream",
     "text": [
      "epoch: 5, [batch: 2016 / 6720], examples_per_second: 2619.7015, train_label_loss: 0.3116, \n"
     ]
    },
    {
     "name": "stdout",
     "output_type": "stream",
     "text": [
      "epoch: 5, [batch: 2688 / 6720], examples_per_second: 2508.8937, train_label_loss: 0.1282, \n"
     ]
    },
    {
     "name": "stdout",
     "output_type": "stream",
     "text": [
      "epoch: 5, [batch: 3360 / 6720], examples_per_second: 2490.1305, train_label_loss: 0.1566, \n"
     ]
    },
    {
     "name": "stdout",
     "output_type": "stream",
     "text": [
      "epoch: 5, [batch: 4032 / 6720], examples_per_second: 2585.0257, train_label_loss: 0.3843, \n"
     ]
    },
    {
     "name": "stdout",
     "output_type": "stream",
     "text": [
      "epoch: 5, [batch: 4704 / 6720], examples_per_second: 2754.7975, train_label_loss: 0.1601, \n"
     ]
    },
    {
     "name": "stdout",
     "output_type": "stream",
     "text": [
      "epoch: 5, [batch: 5376 / 6720], examples_per_second: 2406.6342, train_label_loss: 0.1224, \n"
     ]
    },
    {
     "name": "stdout",
     "output_type": "stream",
     "text": [
      "epoch: 5, [batch: 6048 / 6720], examples_per_second: 2323.6604, train_label_loss: 0.0777, \n"
     ]
    },
    {
     "name": "stdout",
     "output_type": "stream",
     "text": [
      "=============================================================\n",
      "epoch: 5, source_val_acc_label: 0.9419, target_val_acc_label: 0.8320, source_val_label_loss: 0.1623, target_val_label_loss: 560.8434, \n",
      "=============================================================\n"
     ]
    },
    {
     "name": "stdout",
     "output_type": "stream",
     "text": [
      "epoch: 6, [batch: 1 / 6720], examples_per_second: 2.0781, train_label_loss: 0.0942, \n"
     ]
    },
    {
     "name": "stdout",
     "output_type": "stream",
     "text": [
      "epoch: 6, [batch: 672 / 6720], examples_per_second: 2328.1431, train_label_loss: 0.0786, \n"
     ]
    },
    {
     "name": "stdout",
     "output_type": "stream",
     "text": [
      "epoch: 6, [batch: 1344 / 6720], examples_per_second: 2584.0797, train_label_loss: 0.3887, \n"
     ]
    },
    {
     "name": "stdout",
     "output_type": "stream",
     "text": [
      "epoch: 6, [batch: 2016 / 6720], examples_per_second: 2582.5462, train_label_loss: 0.2720, \n"
     ]
    },
    {
     "name": "stdout",
     "output_type": "stream",
     "text": [
      "epoch: 6, [batch: 2688 / 6720], examples_per_second: 2611.8441, train_label_loss: 0.2704, \n"
     ]
    },
    {
     "name": "stdout",
     "output_type": "stream",
     "text": [
      "epoch: 6, [batch: 3360 / 6720], examples_per_second: 2444.7910, train_label_loss: 0.0501, \n"
     ]
    },
    {
     "name": "stdout",
     "output_type": "stream",
     "text": [
      "epoch: 6, [batch: 4032 / 6720], examples_per_second: 2649.9564, train_label_loss: 0.2186, \n"
     ]
    },
    {
     "name": "stdout",
     "output_type": "stream",
     "text": [
      "epoch: 6, [batch: 4704 / 6720], examples_per_second: 2602.8260, train_label_loss: 0.2632, \n"
     ]
    },
    {
     "name": "stdout",
     "output_type": "stream",
     "text": [
      "epoch: 6, [batch: 5376 / 6720], examples_per_second: 2479.3598, train_label_loss: 0.1713, \n"
     ]
    },
    {
     "name": "stdout",
     "output_type": "stream",
     "text": [
      "epoch: 6, [batch: 6048 / 6720], examples_per_second: 2324.1597, train_label_loss: 0.5230, \n"
     ]
    },
    {
     "name": "stdout",
     "output_type": "stream",
     "text": [
      "=============================================================\n",
      "epoch: 6, source_val_acc_label: 0.9394, target_val_acc_label: 0.8287, source_val_label_loss: 0.1694, target_val_label_loss: 586.9146, \n",
      "=============================================================\n"
     ]
    },
    {
     "name": "stdout",
     "output_type": "stream",
     "text": [
      "epoch: 7, [batch: 1 / 6720], examples_per_second: 2.0884, train_label_loss: 0.0127, \n"
     ]
    },
    {
     "name": "stdout",
     "output_type": "stream",
     "text": [
      "epoch: 7, [batch: 672 / 6720], examples_per_second: 2318.3691, train_label_loss: 0.0704, \n"
     ]
    },
    {
     "name": "stdout",
     "output_type": "stream",
     "text": [
      "epoch: 7, [batch: 1344 / 6720], examples_per_second: 2519.9962, train_label_loss: 0.0464, \n"
     ]
    },
    {
     "name": "stdout",
     "output_type": "stream",
     "text": [
      "epoch: 7, [batch: 2016 / 6720], examples_per_second: 2574.1110, train_label_loss: 0.2976, \n"
     ]
    },
    {
     "name": "stdout",
     "output_type": "stream",
     "text": [
      "epoch: 7, [batch: 2688 / 6720], examples_per_second: 2609.3234, train_label_loss: 0.0805, \n"
     ]
    },
    {
     "name": "stdout",
     "output_type": "stream",
     "text": [
      "epoch: 7, [batch: 3360 / 6720], examples_per_second: 2475.4141, train_label_loss: 0.2241, \n"
     ]
    },
    {
     "name": "stdout",
     "output_type": "stream",
     "text": [
      "epoch: 7, [batch: 4032 / 6720], examples_per_second: 2681.0453, train_label_loss: 0.1939, \n"
     ]
    },
    {
     "name": "stdout",
     "output_type": "stream",
     "text": [
      "epoch: 7, [batch: 4704 / 6720], examples_per_second: 2560.7133, train_label_loss: 0.2820, \n"
     ]
    },
    {
     "name": "stdout",
     "output_type": "stream",
     "text": [
      "epoch: 7, [batch: 5376 / 6720], examples_per_second: 2478.6140, train_label_loss: 0.2536, \n"
     ]
    },
    {
     "name": "stdout",
     "output_type": "stream",
     "text": [
      "epoch: 7, [batch: 6048 / 6720], examples_per_second: 2326.7498, train_label_loss: 0.0190, \n"
     ]
    },
    {
     "name": "stdout",
     "output_type": "stream",
     "text": [
      "=============================================================\n",
      "epoch: 7, source_val_acc_label: 0.9461, target_val_acc_label: 0.8443, source_val_label_loss: 0.1525, target_val_label_loss: 343.0046, \n",
      "=============================================================\n"
     ]
    },
    {
     "name": "stdout",
     "output_type": "stream",
     "text": [
      "Patience (3) exhausted\n"
     ]
    }
   ],
   "source": [
    "###################################\n",
    "# train\n",
    "###################################\n",
    "jig = PTN_Train_Eval_Test_Jig(model, p.BEST_MODEL_PATH, p.device)\n",
    "\n",
    "jig.train(\n",
    "    train_iterable=datasets.source.processed.train,\n",
    "    source_val_iterable=datasets.source.processed.val,\n",
    "    target_val_iterable=datasets.target.processed.val,\n",
    "    num_epochs=p.n_epoch,\n",
    "    num_logs_per_epoch=p.NUM_LOGS_PER_EPOCH,\n",
    "    patience=p.patience,\n",
    "    optimizer=optimizer,\n",
    "    criteria_for_best=p.criteria_for_best,\n",
    ")"
   ]
  },
  {
   "cell_type": "code",
   "execution_count": 23,
   "id": "31e8fabf",
   "metadata": {
    "execution": {
     "iopub.execute_input": "2022-03-21T09:14:20.483284Z",
     "iopub.status.busy": "2022-03-21T09:14:20.482666Z",
     "iopub.status.idle": "2022-03-21T09:14:20.516078Z",
     "shell.execute_reply": "2022-03-21T09:14:20.515252Z"
    },
    "papermill": {
     "duration": 0.081514,
     "end_time": "2022-03-21T09:14:20.516242",
     "exception": false,
     "start_time": "2022-03-21T09:14:20.434728",
     "status": "completed"
    },
    "tags": []
   },
   "outputs": [],
   "source": [
    "total_experiment_time_secs = time.time() - start_time_secs"
   ]
  },
  {
   "cell_type": "code",
   "execution_count": 24,
   "id": "87b9595b",
   "metadata": {
    "execution": {
     "iopub.execute_input": "2022-03-21T09:14:20.618077Z",
     "iopub.status.busy": "2022-03-21T09:14:20.617534Z",
     "iopub.status.idle": "2022-03-21T09:18:19.811808Z",
     "shell.execute_reply": "2022-03-21T09:18:19.811010Z"
    },
    "papermill": {
     "duration": 239.243401,
     "end_time": "2022-03-21T09:18:19.811992",
     "exception": false,
     "start_time": "2022-03-21T09:14:20.568591",
     "status": "completed"
    },
    "tags": []
   },
   "outputs": [],
   "source": [
    "###################################\n",
    "# Evaluate the model\n",
    "###################################\n",
    "source_test_label_accuracy, source_test_label_loss = jig.test(datasets.source.processed.test)\n",
    "target_test_label_accuracy, target_test_label_loss = jig.test(datasets.target.processed.test)\n",
    "\n",
    "source_val_label_accuracy, source_val_label_loss = jig.test(datasets.source.processed.val)\n",
    "target_val_label_accuracy, target_val_label_loss = jig.test(datasets.target.processed.val)\n",
    "\n",
    "history = jig.get_history()\n",
    "\n",
    "total_epochs_trained = len(history[\"epoch_indices\"])\n",
    "\n",
    "val_dl = Iterable_Aggregator((datasets.source.original.val,datasets.target.original.val))\n",
    "\n",
    "confusion = ptn_confusion_by_domain_over_dataloader(model, p.device, val_dl)\n",
    "per_domain_accuracy = per_domain_accuracy_from_confusion(confusion)\n",
    "\n",
    "# Add a key to per_domain_accuracy for if it was a source domain\n",
    "for domain, accuracy in per_domain_accuracy.items():\n",
    "    per_domain_accuracy[domain] = {\n",
    "        \"accuracy\": accuracy,\n",
    "        \"source?\": domain in p.domains_source\n",
    "    }\n",
    "\n",
    "# Do an independent accuracy assesment JUST TO BE SURE!\n",
    "# _source_test_label_accuracy = independent_accuracy_assesment(model, datasets.source.processed.test, p.device)\n",
    "# _target_test_label_accuracy = independent_accuracy_assesment(model, datasets.target.processed.test, p.device)\n",
    "# _source_val_label_accuracy = independent_accuracy_assesment(model, datasets.source.processed.val, p.device)\n",
    "# _target_val_label_accuracy = independent_accuracy_assesment(model, datasets.target.processed.val, p.device)\n",
    "\n",
    "# assert(_source_test_label_accuracy == source_test_label_accuracy)\n",
    "# assert(_target_test_label_accuracy == target_test_label_accuracy)\n",
    "# assert(_source_val_label_accuracy == source_val_label_accuracy)\n",
    "# assert(_target_val_label_accuracy == target_val_label_accuracy)\n",
    "\n",
    "experiment = {\n",
    "    \"experiment_name\": p.experiment_name,\n",
    "    \"parameters\": dict(p),\n",
    "    \"results\": {\n",
    "        \"source_test_label_accuracy\": source_test_label_accuracy,\n",
    "        \"source_test_label_loss\": source_test_label_loss,\n",
    "        \"target_test_label_accuracy\": target_test_label_accuracy,\n",
    "        \"target_test_label_loss\": target_test_label_loss,\n",
    "        \"source_val_label_accuracy\": source_val_label_accuracy,\n",
    "        \"source_val_label_loss\": source_val_label_loss,\n",
    "        \"target_val_label_accuracy\": target_val_label_accuracy,\n",
    "        \"target_val_label_loss\": target_val_label_loss,\n",
    "        \"total_epochs_trained\": total_epochs_trained,\n",
    "        \"total_experiment_time_secs\": total_experiment_time_secs,\n",
    "        \"confusion\": confusion,\n",
    "        \"per_domain_accuracy\": per_domain_accuracy,\n",
    "    },\n",
    "    \"history\": history,\n",
    "    \"dataset_metrics\": get_dataset_metrics(datasets, \"ptn\"),\n",
    "}"
   ]
  },
  {
   "cell_type": "code",
   "execution_count": 25,
   "id": "54a21829",
   "metadata": {
    "execution": {
     "iopub.execute_input": "2022-03-21T09:18:19.910562Z",
     "iopub.status.busy": "2022-03-21T09:18:19.909982Z",
     "iopub.status.idle": "2022-03-21T09:18:20.138201Z",
     "shell.execute_reply": "2022-03-21T09:18:20.138889Z"
    },
    "papermill": {
     "duration": 0.276513,
     "end_time": "2022-03-21T09:18:20.139097",
     "exception": false,
     "start_time": "2022-03-21T09:18:19.862584",
     "status": "completed"
    },
    "tags": []
   },
   "outputs": [
    {
     "data": {
      "image/png": "[encoded data removed]",
      "text/plain": [
       "<Figure size 1080x504 with 1 Axes>"
      ]
     },
     "metadata": {
      "needs_background": "light"
     },
     "output_type": "display_data"
    }
   ],
   "source": [
    "ax = get_loss_curve(experiment)\n",
    "plt.show()"
   ]
  },
  {
   "cell_type": "code",
   "execution_count": 26,
   "id": "fd8a0f60",
   "metadata": {
    "execution": {
     "iopub.execute_input": "2022-03-21T09:18:20.233953Z",
     "iopub.status.busy": "2022-03-21T09:18:20.233579Z",
     "iopub.status.idle": "2022-03-21T09:18:20.569916Z",
     "shell.execute_reply": "2022-03-21T09:18:20.570601Z"
    },
    "papermill": {
     "duration": 0.383206,
     "end_time": "2022-03-21T09:18:20.570829",
     "exception": false,
     "start_time": "2022-03-21T09:18:20.187623",
     "status": "completed"
    },
    "tags": []
   },
   "outputs": [
    {
     "data": {
      "text/plain": [
       "<AxesSubplot:title={'center':'Results'}>"
      ]
     },
     "execution_count": 26,
     "metadata": {},
     "output_type": "execute_result"
    },
    {
     "data": {
      "image/png": "[encoded data removed]",
      "text/plain": [
       "<Figure size 1080x504 with 1 Axes>"
      ]
     },
     "metadata": {
      "needs_background": "light"
     },
     "output_type": "display_data"
    }
   ],
   "source": [
    "get_results_table(experiment)"
   ]
  },
  {
   "cell_type": "code",
   "execution_count": 27,
   "id": "cf8dc689",
   "metadata": {
    "execution": {
     "iopub.execute_input": "2022-03-21T09:18:20.672017Z",
     "iopub.status.busy": "2022-03-21T09:18:20.671645Z",
     "iopub.status.idle": "2022-03-21T09:18:20.935728Z",
     "shell.execute_reply": "2022-03-21T09:18:20.936431Z"
    },
    "papermill": {
     "duration": 0.314675,
     "end_time": "2022-03-21T09:18:20.936660",
     "exception": false,
     "start_time": "2022-03-21T09:18:20.621985",
     "status": "completed"
    },
    "tags": []
   },
   "outputs": [
    {
     "data": {
      "text/plain": [
       "<AxesSubplot:title={'center':'Per Domain Validation Accuracy'}, xlabel='domain'>"
      ]
     },
     "execution_count": 27,
     "metadata": {},
     "output_type": "execute_result"
    },
    {
     "data": {
      "image/png": "[encoded data removed]",
      "text/plain": [
       "<Figure size 1080x504 with 1 Axes>"
      ]
     },
     "metadata": {
      "needs_background": "light"
     },
     "output_type": "display_data"
    }
   ],
   "source": [
    "get_domain_accuracies(experiment)"
   ]
  },
  {
   "cell_type": "code",
   "execution_count": 28,
   "id": "a74ae082",
   "metadata": {
    "execution": {
     "iopub.execute_input": "2022-03-21T09:18:21.040301Z",
     "iopub.status.busy": "2022-03-21T09:18:21.039807Z",
     "iopub.status.idle": "2022-03-21T09:18:21.066130Z",
     "shell.execute_reply": "2022-03-21T09:18:21.065419Z"
    },
    "papermill": {
     "duration": 0.078264,
     "end_time": "2022-03-21T09:18:21.066308",
     "exception": false,
     "start_time": "2022-03-21T09:18:20.988044",
     "status": "completed"
    },
    "tags": []
   },
   "outputs": [
    {
     "name": "stdout",
     "output_type": "stream",
     "text": [
      "Source Test Label Accuracy: 0.93359375 Target Test Label Accuracy: 0.8618439616252822\n",
      "Source Val Label Accuracy: 0.9348307291666667 Target Val Label Accuracy: 0.8602142857142857\n"
     ]
    }
   ],
   "source": [
    "print(\"Source Test Label Accuracy:\", experiment[\"results\"][\"source_test_label_accuracy\"], \"Target Test Label Accuracy:\", experiment[\"results\"][\"target_test_label_accuracy\"])\n",
    "print(\"Source Val Label Accuracy:\", experiment[\"results\"][\"source_val_label_accuracy\"], \"Target Val Label Accuracy:\", experiment[\"results\"][\"target_val_label_accuracy\"])"
   ]
  },
  {
   "cell_type": "code",
   "execution_count": 29,
   "id": "dacca602",
   "metadata": {
    "execution": {
     "iopub.execute_input": "2022-03-21T09:18:21.178215Z",
     "iopub.status.busy": "2022-03-21T09:18:21.177722Z",
     "iopub.status.idle": "2022-03-21T09:18:21.202069Z",
     "shell.execute_reply": "2022-03-21T09:18:21.202733Z"
    },
    "papermill": {
     "duration": 0.08303,
     "end_time": "2022-03-21T09:18:21.202934",
     "exception": false,
     "start_time": "2022-03-21T09:18:21.119904",
     "status": "completed"
    },
    "tags": [
     "experiment_json"
    ]
   },
   "outputs": [
    {
     "data": {
      "text/plain": [
       "'{\"experiment_name\": \"tl_1v2:cores-oracle.run1.framed\", \"parameters\": {\"experiment_name\": \"tl_1v2:cores-oracle.run1.framed\", \"device\": \"cuda\", \"lr\": 0.0001, \"n_shot\": 3, \"n_query\": 2, \"train_k_factor\": 3, \"val_k_factor\": 2, \"test_k_factor\": 2, \"torch_default_dtype\": \"torch.float32\", \"n_epoch\": 50, \"patience\": 3, \"criteria_for_best\": \"target_accuracy\", \"x_net\": [{\"class\": \"nnReshape\", \"kargs\": {\"shape\": [-1, 1, 2, 256]}}, {\"class\": \"Conv2d\", \"kargs\": {\"in_channels\": 1, \"out_channels\": 256, \"kernel_size\": [1, 7], \"bias\": false, \"padding\": [0, 3]}}, {\"class\": \"ReLU\", \"kargs\": {\"inplace\": true}}, {\"class\": \"BatchNorm2d\", \"kargs\": {\"num_features\": 256}}, {\"class\": \"Conv2d\", \"kargs\": {\"in_channels\": 256, \"out_channels\": 80, \"kernel_size\": [2, 7], \"bias\": true, \"padding\": [0, 3]}}, {\"class\": \"ReLU\", \"kargs\": {\"inplace\": true}}, {\"class\": \"BatchNorm2d\", \"kargs\": {\"num_features\": 80}}, {\"class\": \"Flatten\", \"kargs\": {}}, {\"class\": \"Linear\", \"kargs\": {\"in_features\": 20480, \"out_features\": 256}}, {\"class\": \"ReLU\", \"kargs\": {\"inplace\": true}}, {\"class\": \"BatchNorm1d\", \"kargs\": {\"num_features\": 256}}, {\"class\": \"Linear\", \"kargs\": {\"in_features\": 256, \"out_features\": 256}}], \"NUM_LOGS_PER_EPOCH\": 10, \"BEST_MODEL_PATH\": \"./best_model.pth\", \"n_way\": 16, \"datasets\": [{\"labels\": [\"1-10.\", \"1-11.\", \"1-15.\", \"1-16.\", \"1-17.\", \"1-18.\", \"1-19.\", \"10-4.\", \"10-7.\", \"11-1.\", \"11-14.\", \"11-17.\", \"11-20.\", \"11-7.\", \"13-20.\", \"13-8.\", \"14-10.\", \"14-11.\", \"14-14.\", \"14-7.\", \"15-1.\", \"15-20.\", \"16-1.\", \"16-16.\", \"17-10.\", \"17-11.\", \"17-2.\", \"19-1.\", \"19-16.\", \"19-19.\", \"19-20.\", \"19-3.\", \"2-10.\", \"2-11.\", \"2-17.\", \"2-18.\", \"2-20.\", \"2-3.\", \"2-4.\", \"2-5.\", \"2-6.\", \"2-7.\", \"2-8.\", \"3-13.\", \"3-18.\", \"3-3.\", \"4-1.\", \"4-10.\", \"4-11.\", \"4-19.\", \"5-5.\", \"6-15.\", \"7-10.\", \"7-14.\", \"8-18.\", \"8-20.\", \"8-3.\", \"8-8.\"], \"domains\": [1, 2, 3, 4, 5], \"num_examples_per_domain_per_label\": -1, \"pickle_path\": \"/root/csc500-main/datasets/cores.stratified_ds.2022A.pkl\", \"source_or_target_dataset\": \"target\", \"x_transforms\": [], \"episode_transforms\": [], \"domain_prefix\": \"CORES_\"}, {\"labels\": [\"3123D52\", \"3123D65\", \"3123D79\", \"3123D80\", \"3123D54\", \"3123D70\", \"3123D7B\", \"3123D89\", \"3123D58\", \"3123D76\", \"3123D7D\", \"3123EFE\", \"3123D64\", \"3123D78\", \"3123D7E\", \"3124E4A\"], \"domains\": [32, 38, 8, 44, 14, 50, 20, 26], \"num_examples_per_domain_per_label\": 2000, \"pickle_path\": \"/root/csc500-main/datasets/oracle.Run1_framed_2000Examples_stratified_ds.2022A.pkl\", \"source_or_target_dataset\": \"source\", \"x_transforms\": [], \"episode_transforms\": [], \"domain_prefix\": \"ORACLE.run1_\"}], \"dataset_seed\": 420, \"seed\": 420, \"x_shape\": [2, 256], \"domains_source\": [\"ORACLE.run1_32\", \"ORACLE.run1_38\", \"ORACLE.run1_8\", \"ORACLE.run1_44\", \"ORACLE.run1_14\", \"ORACLE.run1_50\", \"ORACLE.run1_20\", \"ORACLE.run1_26\"], \"domains_target\": [\"CORES_1\", \"CORES_2\", \"CORES_3\", \"CORES_4\", \"CORES_5\"]}, \"results\": {\"source_test_label_accuracy\": 0.93359375, \"source_test_label_loss\": 0.19294658303260803, \"target_test_label_accuracy\": 0.8618439616252822, \"target_test_label_loss\": 321.3971252441406, \"source_val_label_accuracy\": 0.9348307291666667, \"source_val_label_loss\": 0.18999014794826508, \"target_val_label_accuracy\": 0.8602142857142857, \"target_val_label_loss\": 313.3034362792969, \"total_epochs_trained\": 7, \"total_experiment_time_secs\": 1830.5446655750275, \"confusion\": {\"ORACLE.run1_14\": {\"15\": {\"15\": 240}, \"5\": {\"5\": 236, \"3\": 1, \"2\": 3}, \"7\": {\"7\": 240}, \"4\": {\"4\": 238, \"5\": 2}, \"10\": {\"10\": 240}, \"11\": {\"11\": 240}, \"12\": {\"12\": 240}, \"0\": {\"0\": 240}, \"14\": {\"14\": 234, \"13\": 2, \"3\": 1, \"2\": 3}, \"8\": {\"8\": 240}, \"13\": {\"6\": 102, \"13\": 106, \"14\": 17, \"3\": 1, \"2\": 12, \"15\": 2}, \"6\": {\"13\": 41, \"6\": 190, \"2\": 7, \"14\": 2}, \"1\": {\"1\": 240}, \"3\": {\"3\": 238, \"14\": 1, \"2\": 1}, \"9\": {\"9\": 240}, \"2\": {\"2\": 178, \"3\": 4, \"5\": 15, \"13\": 6, \"14\": 29, \"4\": 1, \"6\": 7}}, \"ORACLE.run1_20\": {\"4\": {\"4\": 240}, \"10\": {\"10\": 240}, \"15\": {\"15\": 236, \"1\": 4}, \"0\": {\"0\": 239, \"5\": 1}, \"6\": {\"6\": 240}, \"3\": {\"3\": 235, \"9\": 4, \"5\": 1}, \"7\": {\"7\": 233, \"2\": 4, \"9\": 3}, \"2\": {\"7\": 3, \"2\": 220, \"12\": 14, \"15\": 3}, \"8\": {\"8\": 239, \"3\": 1}, \"11\": {\"11\": 240}, \"14\": {\"14\": 240}, \"12\": {\"12\": 232, \"2\": 7, \"15\": 1}, \"13\": {\"13\": 240}, \"9\": {\"9\": 233, \"7\": 2, \"1\": 4, \"3\": 1}, \"5\": {\"5\": 238, \"1\": 1, \"3\": 1}, \"1\": {\"1\": 233, \"9\": 5, \"5\": 1, \"3\": 1}}, \"ORACLE.run1_50\": {\"5\": {\"7\": 46, \"5\": 147, \"4\": 15, \"6\": 19, \"13\": 5, \"15\": 4, \"1\": 4}, \"12\": {\"12\": 235, \"9\": 4, \"11\": 1}, \"14\": {\"14\": 240}, \"4\": {\"4\": 200, \"7\": 13, \"15\": 14, \"5\": 11, \"6\": 2}, \"13\": {\"13\": 240}, \"10\": {\"10\": 240}, \"9\": {\"9\": 223, \"12\": 8, \"11\": 9}, \"15\": {\"15\": 236, \"6\": 1, \"11\": 1, \"4\": 1, \"5\": 1}, \"6\": {\"6\": 235, \"5\": 4, \"15\": 1}, \"2\": {\"2\": 230, \"0\": 10}, \"0\": {\"0\": 231, \"2\": 8, \"10\": 1}, \"11\": {\"11\": 234, \"12\": 1, \"9\": 3, \"15\": 2}, \"3\": {\"3\": 240}, \"8\": {\"8\": 240}, \"7\": {\"7\": 229, \"5\": 11}, \"1\": {\"1\": 239, \"13\": 1}}, \"ORACLE.run1_26\": {\"7\": {\"7\": 221, \"8\": 12, \"2\": 6, \"3\": 1}, \"6\": {\"6\": 229, \"15\": 10, \"10\": 1}, \"14\": {\"14\": 213, \"10\": 19, \"0\": 8}, \"15\": {\"15\": 212, \"6\": 16, \"5\": 11, \"10\": 1}, \"5\": {\"5\": 238, \"15\": 2}, \"10\": {\"10\": 210, \"14\": 15, \"0\": 11, \"6\": 1, \"15\": 3}, \"4\": {\"4\": 240}, \"11\": {\"11\": 240}, \"13\": {\"13\": 221, \"9\": 6, \"2\": 12, \"3\": 1}, \"2\": {\"9\": 3, \"2\": 177, \"7\": 30, \"3\": 20, \"0\": 3, \"8\": 6, \"13\": 1}, \"0\": {\"10\": 35, \"0\": 187, \"14\": 16, \"8\": 2}, \"12\": {\"12\": 240}, \"3\": {\"3\": 233, \"7\": 6, \"2\": 1}, \"9\": {\"9\": 226, \"8\": 11, \"13\": 3}, \"8\": {\"8\": 212, \"7\": 25, \"0\": 1, \"2\": 2}, \"1\": {\"1\": 216, \"14\": 24}}, \"ORACLE.run1_32\": {\"7\": {\"7\": 214, \"5\": 21, \"14\": 4, \"0\": 1}, \"2\": {\"2\": 232, \"4\": 8}, \"5\": {\"5\": 168, \"7\": 53, \"8\": 11, \"0\": 3, \"14\": 5}, \"6\": {\"6\": 240}, \"13\": {\"13\": 216, \"3\": 16, \"4\": 8}, \"4\": {\"4\": 221, \"2\": 18, \"13\": 1}, \"3\": {\"3\": 239, \"13\": 1}, \"0\": {\"0\": 213, \"7\": 10, \"14\": 6, \"8\": 10, \"5\": 1}, \"9\": {\"9\": 239, \"12\": 1}, \"12\": {\"12\": 240}, \"8\": {\"8\": 222, \"5\": 6, \"0\": 11, \"7\": 1}, \"14\": {\"14\": 212, \"0\": 9, \"7\": 12, \"2\": 2, \"5\": 3, \"8\": 1, \"4\": 1}, \"15\": {\"15\": 240}, \"11\": {\"11\": 240}, \"10\": {\"10\": 240}, \"1\": {\"1\": 240}}, \"ORACLE.run1_44\": {\"11\": {\"11\": 240}, \"7\": {\"7\": 223, \"9\": 17}, \"6\": {\"13\": 30, \"6\": 199, \"9\": 10, \"7\": 1}, \"12\": {\"12\": 239, \"3\": 1}, \"4\": {\"4\": 156, \"14\": 84}, \"13\": {\"13\": 206, \"6\": 30, \"9\": 4}, \"8\": {\"8\": 188, \"0\": 44, \"5\": 4, \"15\": 4}, \"5\": {\"5\": 233, \"14\": 3, \"8\": 1, \"15\": 3}, \"14\": {\"14\": 183, \"4\": 52, \"5\": 1, \"15\": 4}, \"3\": {\"3\": 237, \"12\": 3}, \"10\": {\"10\": 229, \"1\": 6, \"2\": 3, \"7\": 2}, \"1\": {\"1\": 237, \"2\": 3}, \"2\": {\"2\": 238, \"1\": 2}, \"15\": {\"15\": 218, \"14\": 10, \"8\": 7, \"4\": 1, \"5\": 4}, \"9\": {\"9\": 140, \"6\": 20, \"7\": 53, \"13\": 27}, \"0\": {\"8\": 21, \"0\": 219}}, \"ORACLE.run1_8\": {\"10\": {\"10\": 223, \"13\": 14, \"4\": 2, \"5\": 1}, \"6\": {\"6\": 222, \"13\": 3, \"7\": 15}, \"13\": {\"13\": 200, \"10\": 28, \"7\": 8, \"6\": 4}, \"3\": {\"3\": 240}, \"9\": {\"9\": 240}, \"1\": {\"1\": 236, \"11\": 2, \"5\": 2}, \"5\": {\"5\": 222, \"10\": 9, \"1\": 8, \"11\": 1}, \"11\": {\"11\": 206, \"1\": 33, \"14\": 1}, \"4\": {\"4\": 240}, \"14\": {\"14\": 239, \"4\": 1}, \"12\": {\"15\": 42, \"12\": 198}, \"7\": {\"7\": 225, \"6\": 14, \"13\": 1}, \"0\": {\"0\": 240}, \"15\": {\"15\": 226, \"12\": 14}, \"2\": {\"2\": 225, \"3\": 5, \"12\": 7, \"15\": 3}, \"8\": {\"8\": 240}}, \"ORACLE.run1_38\": {\"4\": {\"4\": 240}, \"7\": {\"7\": 237, \"8\": 2, \"5\": 1}, \"12\": {\"12\": 240}, \"10\": {\"0\": 4, \"10\": 231, \"13\": 5}, \"0\": {\"0\": 198, \"7\": 7, \"10\": 12, \"3\": 10, \"5\": 2, \"13\": 8, \"8\": 3}, \"1\": {\"1\": 240}, \"5\": {\"7\": 18, \"5\": 133, \"8\": 81, \"9\": 6, \"15\": 1, \"13\": 1}, \"15\": {\"15\": 232, \"8\": 5, \"5\": 2, \"1\": 1}, \"9\": {\"9\": 239, \"5\": 1}, \"11\": {\"11\": 238, \"3\": 2}, \"14\": {\"14\": 230, \"2\": 10}, \"6\": {\"6\": 240}, \"8\": {\"8\": 176, \"5\": 52, \"7\": 9, \"15\": 1, \"0\": 1, \"13\": 1}, \"3\": {\"3\": 237, \"11\": 3}, \"2\": {\"2\": 237, \"14\": 3}, \"13\": {\"13\": 235, \"10\": 3, \"2\": 1, \"0\": 1}}, \"CORES_4\": {\"42\": {\"42\": 18, \"31\": 3, \"7\": 2, \"54\": 2, \"41\": 2, \"19\": 2, \"32\": 1, \"55\": 2}, \"0\": {\"0\": 80}, \"1\": {\"1\": 28, \"57\": 4, \"47\": 1, \"52\": 3, \"29\": 4}, \"39\": {\"39\": 20}, \"28\": {\"34\": 5, \"28\": 23, \"31\": 1, \"53\": 1, \"26\": 1, \"15\": 1}, \"53\": {\"53\": 122, \"19\": 1, \"23\": 1}, \"19\": {\"19\": 131, \"43\": 1, \"42\": 1, \"26\": 1, \"23\": 7, \"55\": 3}, \"34\": {\"28\": 3, \"43\": 1, \"34\": 9, \"25\": 1, \"23\": 1, \"26\": 2, \"16\": 2, \"24\": 2, \"19\": 2, \"15\": 1}, \"33\": {\"33\": 34, \"37\": 1, \"7\": 1}, \"32\": {\"32\": 16, \"23\": 1, \"35\": 1, \"43\": 2, \"38\": 2, \"7\": 1, \"41\": 1}, \"10\": {\"28\": 1, \"10\": 135}, \"46\": {\"40\": 17, \"46\": 99, \"22\": 11, \"0\": 4, \"44\": 3}, \"20\": {\"20\": 87, \"8\": 11, \"4\": 6, \"9\": 1, \"27\": 2, \"48\": 14, \"21\": 1}, \"5\": {\"5\": 85, \"3\": 10, \"6\": 3, \"44\": 6, \"50\": 3, \"22\": 1}, \"40\": {\"0\": 1, \"40\": 98, \"52\": 2, \"46\": 7, \"22\": 5, \"44\": 10, \"5\": 1}, \"51\": {\"51\": 141, \"36\": 3}, \"37\": {\"37\": 13, \"41\": 5, \"13\": 1, \"7\": 3, \"29\": 1, \"33\": 1}, \"17\": {\"17\": 80}, \"45\": {\"45\": 76, \"3\": 6, \"50\": 7, \"44\": 1, \"6\": 6}, \"13\": {\"13\": 140, \"2\": 1, \"47\": 1}, \"27\": {\"27\": 110, \"51\": 1, \"8\": 18, \"20\": 6, \"47\": 1, \"9\": 1, \"39\": 1, \"48\": 4, \"4\": 2}, \"24\": {\"24\": 56}, \"30\": {\"30\": 43, \"6\": 1}, \"31\": {\"31\": 21, \"26\": 1, \"23\": 2, \"42\": 1, \"55\": 3}, \"41\": {\"41\": 32, \"32\": 2, \"49\": 2}, \"36\": {\"36\": 82, \"51\": 4, \"54\": 2, \"17\": 1, \"37\": 1, \"33\": 1, \"55\": 1}, \"16\": {\"16\": 88, \"15\": 5, \"53\": 2, \"11\": 1}, \"22\": {\"22\": 106, \"0\": 2, \"52\": 1, \"46\": 13, \"40\": 2, \"56\": 2, \"44\": 2}, \"44\": {\"44\": 90, \"12\": 2, \"46\": 7, \"5\": 8, \"22\": 7, \"3\": 3, \"40\": 14, \"0\": 1}, \"9\": {\"9\": 117, \"8\": 3, \"47\": 1, \"4\": 5, \"48\": 7, \"29\": 1, \"27\": 3, \"20\": 3}, \"57\": {\"57\": 71, \"52\": 2, \"1\": 4, \"29\": 11, \"47\": 12}, \"8\": {\"8\": 91, \"20\": 12, \"27\": 11, \"9\": 10, \"48\": 13, \"4\": 1}, \"23\": {\"23\": 94, \"54\": 3, \"31\": 2, \"19\": 15, \"43\": 4, \"55\": 13, \"41\": 1}, \"47\": {\"47\": 94, \"1\": 3, \"29\": 14, \"57\": 9}, \"43\": {\"49\": 1, \"43\": 135, \"41\": 1, \"23\": 1}, \"49\": {\"24\": 1, \"7\": 1, \"43\": 1, \"38\": 3, \"49\": 7, \"37\": 2, \"33\": 3, \"41\": 2}, \"3\": {\"3\": 92, \"5\": 11, \"6\": 7, \"50\": 11, \"44\": 3}, \"12\": {\"12\": 79, \"21\": 8, \"6\": 1, \"30\": 1, \"45\": 1, \"3\": 1, \"40\": 1}, \"38\": {\"7\": 3, \"14\": 3, \"38\": 26, \"2\": 6, \"41\": 1, \"35\": 1}, \"7\": {\"43\": 4, \"7\": 5, \"38\": 3, \"36\": 3, \"51\": 3, \"35\": 1, \"33\": 2, \"37\": 1, \"55\": 1, \"42\": 1}, \"14\": {\"14\": 10, \"1\": 1, \"33\": 1, \"13\": 2, \"57\": 1, \"35\": 1}, \"15\": {\"15\": 125, \"10\": 4, \"16\": 7, \"11\": 8, \"18\": 1, \"25\": 1}, \"25\": {\"25\": 114, \"16\": 5, \"15\": 7, \"11\": 2}, \"26\": {\"26\": 14, \"43\": 1, \"53\": 3, \"23\": 1, \"42\": 1, \"31\": 1, \"54\": 2, \"7\": 1}, \"21\": {\"21\": 127, \"30\": 1, \"12\": 4}, \"48\": {\"48\": 75, \"8\": 14, \"4\": 8, \"20\": 19, \"9\": 17, \"27\": 6, \"29\": 2, \"52\": 2, \"47\": 1}, \"56\": {\"56\": 126, \"29\": 2, \"57\": 1, \"0\": 4, \"1\": 1}, \"11\": {\"15\": 12, \"11\": 89, \"10\": 1, \"16\": 2}, \"2\": {\"2\": 30, \"41\": 1, \"38\": 2, \"13\": 3}, \"6\": {\"6\": 84, \"3\": 12, \"5\": 4, \"50\": 9, \"44\": 2, \"40\": 1}, \"55\": {\"55\": 111, \"7\": 1, \"32\": 3, \"24\": 1, \"31\": 1, \"42\": 3, \"23\": 7, \"43\": 4, \"17\": 1, \"54\": 4, \"19\": 4}, \"54\": {\"54\": 97, \"32\": 1, \"42\": 1, \"23\": 1, \"17\": 2, \"43\": 1, \"55\": 5}, \"29\": {\"47\": 14, \"29\": 90, \"57\": 15, \"52\": 2, \"13\": 3}, \"50\": {\"50\": 94, \"6\": 12, \"44\": 2, \"3\": 11, \"45\": 1, \"5\": 2}, \"52\": {\"52\": 110, \"1\": 2, \"47\": 2, \"29\": 1, \"4\": 1}, \"35\": {\"35\": 30, \"42\": 1, \"2\": 3, \"13\": 4, \"55\": 1, \"7\": 1}, \"4\": {\"4\": 93, \"8\": 2, \"20\": 4, \"29\": 2, \"9\": 9, \"47\": 1, \"48\": 4, \"0\": 2, \"52\": 2, \"27\": 1}, \"18\": {\"18\": 108}}, \"CORES_5\": {\"43\": {\"43\": 146, \"41\": 1, \"24\": 1, \"2\": 1, \"34\": 2, \"19\": 1}, \"35\": {\"35\": 27, \"37\": 3, \"43\": 3, \"2\": 1, \"36\": 1, \"34\": 1}, \"54\": {\"43\": 2, \"54\": 99, \"17\": 2, \"23\": 3, \"55\": 2, \"19\": 2, \"31\": 1, \"49\": 1}, \"22\": {\"22\": 25, \"0\": 2, \"40\": 1}, \"16\": {\"16\": 126, \"15\": 13, \"53\": 1, \"25\": 6}, \"5\": {\"5\": 114, \"3\": 4, \"44\": 3, \"40\": 5, \"4\": 1, \"22\": 1}, \"28\": {\"28\": 31, \"15\": 1}, \"14\": {\"14\": 37, \"36\": 4, \"13\": 2, \"29\": 1}, \"51\": {\"51\": 121, \"27\": 2, \"32\": 2, \"49\": 1, \"17\": 2}, \"19\": {\"31\": 4, \"19\": 132, \"10\": 1, \"55\": 1, \"23\": 2}, \"31\": {\"31\": 36}, \"10\": {\"10\": 68}, \"21\": {\"21\": 130, \"20\": 1, \"52\": 3, \"57\": 1, \"46\": 1}, \"3\": {\"22\": 3, \"3\": 69, \"40\": 12, \"44\": 12, \"46\": 2, \"0\": 1, \"5\": 1}, \"57\": {\"21\": 1, \"57\": 114, \"52\": 17}, \"9\": {\"9\": 127, \"21\": 2, \"30\": 7, \"57\": 2, \"12\": 2, \"52\": 1, \"4\": 2, \"5\": 1, \"46\": 1, \"44\": 1}, \"8\": {\"8\": 116, \"27\": 6, \"48\": 5, \"20\": 3, \"21\": 1, \"1\": 1}, \"46\": {\"46\": 131, \"0\": 6, \"57\": 1, \"40\": 1, \"56\": 1}, \"23\": {\"23\": 101, \"42\": 8, \"53\": 1, \"19\": 10, \"55\": 1, \"24\": 1, \"34\": 1, \"43\": 1}, \"37\": {\"48\": 1, \"37\": 20, \"41\": 1, \"35\": 1, \"32\": 1}, \"34\": {\"34\": 33, \"54\": 1, \"43\": 1, \"42\": 1}, \"4\": {\"46\": 3, \"4\": 62, \"9\": 2, \"44\": 3, \"30\": 5, \"1\": 3, \"5\": 11, \"12\": 6, \"40\": 1, \"21\": 1, \"50\": 2, \"6\": 1}, \"6\": {\"6\": 105, \"45\": 15, \"50\": 7, \"4\": 1}, \"48\": {\"48\": 71, \"8\": 9, \"27\": 20, \"57\": 1, \"30\": 1, \"1\": 15, \"20\": 14, \"21\": 3, \"14\": 1, \"36\": 1}, \"44\": {\"40\": 4, \"44\": 121, \"3\": 3, \"22\": 1, \"5\": 8, \"46\": 1}, \"40\": {\"40\": 99, \"46\": 4, \"3\": 7, \"5\": 1, \"44\": 13}, \"12\": {\"12\": 85, \"4\": 3, \"9\": 4, \"6\": 2, \"30\": 1, \"5\": 1}, \"30\": {\"30\": 121, \"9\": 7}, \"39\": {\"39\": 15, \"41\": 1, \"36\": 2, \"14\": 2}, \"45\": {\"45\": 98, \"9\": 1, \"3\": 1, \"6\": 11, \"50\": 8, \"44\": 2, \"5\": 3}, \"36\": {\"36\": 90, \"29\": 1, \"27\": 1}, \"27\": {\"27\": 100, \"8\": 9, \"48\": 19, \"14\": 1, \"20\": 7, \"1\": 3, \"13\": 1}, \"32\": {\"32\": 28, \"33\": 2, \"7\": 2}, \"52\": {\"52\": 105, \"57\": 25}, \"0\": {\"0\": 124}, \"26\": {\"26\": 15, \"38\": 2, \"42\": 1, \"23\": 1, \"53\": 2, \"19\": 1, \"55\": 1, \"17\": 1}, \"1\": {\"1\": 135, \"20\": 7, \"48\": 1, \"21\": 4, \"30\": 1}, \"53\": {\"53\": 143, \"26\": 1, \"19\": 2}, \"25\": {\"25\": 131, \"28\": 1, \"16\": 10, \"15\": 2}, \"24\": {\"24\": 79, \"31\": 1}, \"7\": {\"7\": 29, \"51\": 3}, \"18\": {\"18\": 64}, \"20\": {\"20\": 126, \"27\": 5, \"48\": 7, \"21\": 1, \"1\": 5}, \"33\": {\"33\": 29, \"41\": 3}, \"55\": {\"55\": 115, \"31\": 1, \"26\": 1, \"17\": 2, \"19\": 7, \"23\": 6, \"53\": 8}, \"41\": {\"33\": 5, \"41\": 13, \"43\": 1, \"2\": 1, \"37\": 2, \"27\": 1, \"34\": 1, \"14\": 1, \"56\": 1, \"36\": 1, \"32\": 1}, \"42\": {\"42\": 29, \"23\": 5, \"53\": 2, \"24\": 2, \"43\": 1, \"34\": 1}, \"49\": {\"49\": 34, \"2\": 1, \"33\": 1}, \"13\": {\"13\": 142, \"56\": 3, \"14\": 1, \"29\": 1, \"52\": 1}, \"38\": {\"38\": 26, \"17\": 2, \"8\": 1, \"32\": 1, \"41\": 1, \"51\": 1}, \"2\": {\"2\": 24, \"33\": 1, \"43\": 1, \"41\": 1, \"49\": 1}, \"47\": {\"47\": 100}, \"17\": {\"17\": 113, \"51\": 2, \"54\": 1}, \"11\": {\"11\": 147, \"15\": 5, \"25\": 2}, \"29\": {\"29\": 116, \"52\": 1, \"36\": 2, \"56\": 4, \"47\": 6, \"13\": 2, \"57\": 1}, \"50\": {\"50\": 122, \"5\": 2, \"45\": 6, \"6\": 6, \"44\": 2}, \"56\": {\"56\": 136, \"0\": 2, \"52\": 3, \"46\": 1, \"57\": 1, \"29\": 5}, \"15\": {\"15\": 127, \"16\": 14, \"11\": 1}}, \"CORES_2\": {\"49\": {\"49\": 15, \"55\": 1, \"19\": 3, \"13\": 1, \"42\": 2, \"23\": 2}, \"13\": {\"13\": 116}, \"37\": {\"37\": 34, \"31\": 1, \"51\": 1}, \"41\": {\"41\": 15, \"33\": 2, \"22\": 1, \"47\": 1, \"48\": 1}, \"15\": {\"15\": 122, \"16\": 10, \"11\": 8, \"25\": 2}, \"56\": {\"47\": 5, \"56\": 132, \"22\": 2, \"11\": 1, \"0\": 1, \"9\": 1}, \"14\": {\"38\": 2, \"14\": 20, \"13\": 2}, \"3\": {\"6\": 18, \"12\": 1, \"3\": 62, \"44\": 9, \"50\": 2}, \"38\": {\"38\": 16, \"13\": 2, \"2\": 2}, \"43\": {\"43\": 133, \"24\": 1, \"23\": 1, \"31\": 2, \"37\": 1}, \"33\": {\"33\": 14, \"36\": 2, \"14\": 2, \"38\": 1, \"48\": 1, \"29\": 1, \"41\": 2, \"1\": 1, \"8\": 3, \"32\": 1}, \"47\": {\"47\": 107, \"57\": 17, \"29\": 6, \"1\": 8}, \"30\": {\"30\": 143, \"52\": 1}, \"39\": {\"39\": 21, \"33\": 1, \"55\": 3, \"32\": 1, \"41\": 1, \"14\": 1}, \"12\": {\"12\": 86, \"50\": 2, \"40\": 2, \"44\": 1, \"6\": 1}, \"6\": {\"3\": 9, \"6\": 101, \"45\": 6, \"50\": 6, \"44\": 1, \"46\": 1}, \"51\": {\"51\": 133, \"20\": 1}, \"5\": {\"5\": 109, \"46\": 5, \"3\": 1, \"6\": 1, \"44\": 2, \"50\": 1, \"40\": 1}, \"34\": {\"34\": 23, \"11\": 1, \"53\": 3, \"54\": 1}, \"35\": {\"35\": 23, \"33\": 2, \"7\": 2, \"32\": 1, \"55\": 1, \"13\": 1, \"51\": 2}, \"0\": {\"0\": 48}, \"7\": {\"42\": 1, \"34\": 2, \"7\": 28, \"55\": 2, \"19\": 1, \"54\": 1, \"53\": 1}, \"24\": {\"24\": 94, \"43\": 2}, \"8\": {\"8\": 91, \"20\": 14, \"27\": 24, \"48\": 3, \"9\": 4}, \"20\": {\"8\": 27, \"20\": 93, \"27\": 3, \"9\": 1}, \"36\": {\"36\": 114, \"35\": 1, \"51\": 1}, \"42\": {\"42\": 32, \"23\": 2, \"49\": 1, \"7\": 1}, \"1\": {\"1\": 65, \"52\": 10, \"29\": 17, \"47\": 9, \"57\": 6, \"9\": 2, \"48\": 1, \"4\": 1, \"56\": 1}, \"4\": {\"4\": 136, \"29\": 3, \"9\": 3, \"48\": 2, \"8\": 2, \"20\": 1, \"30\": 1}, \"28\": {\"28\": 27, \"15\": 1}, \"50\": {\"50\": 105, \"21\": 5, \"44\": 2, \"6\": 6, \"12\": 2, \"3\": 3, \"40\": 10, \"0\": 1, \"46\": 2}, \"45\": {\"45\": 90, \"6\": 19, \"40\": 3, \"3\": 3, \"44\": 5, \"5\": 1, \"50\": 6, \"46\": 1}, \"18\": {\"18\": 48}, \"57\": {\"57\": 97, \"47\": 11, \"1\": 9, \"29\": 3}, \"46\": {\"46\": 77, \"40\": 20, \"21\": 3, \"44\": 2, \"5\": 12, \"50\": 11, \"6\": 1, \"3\": 1, \"30\": 1}, \"23\": {\"19\": 7, \"23\": 122, \"7\": 4, \"42\": 6, \"34\": 1, \"24\": 2, \"43\": 3, \"55\": 1, \"49\": 2}, \"27\": {\"27\": 114, \"8\": 16, \"20\": 8}, \"19\": {\"19\": 120, \"53\": 6, \"49\": 4, \"16\": 1, \"25\": 1, \"10\": 1, \"23\": 1}, \"22\": {\"22\": 132, \"56\": 3, \"30\": 1}, \"17\": {\"17\": 101, \"55\": 1, \"23\": 1, \"51\": 1}, \"55\": {\"17\": 4, \"23\": 9, \"55\": 107, \"42\": 2, \"43\": 6, \"24\": 1, \"54\": 2, \"19\": 1, \"7\": 1, \"51\": 3}, \"44\": {\"44\": 75, \"3\": 3, \"40\": 2, \"6\": 10, \"5\": 7, \"46\": 1, \"50\": 2}, \"26\": {\"17\": 1, \"26\": 13, \"23\": 2, \"54\": 2, \"53\": 5, \"43\": 1}, \"31\": {\"31\": 28}, \"16\": {\"11\": 9, \"16\": 116, \"15\": 4, \"25\": 1}, \"11\": {\"11\": 92, \"16\": 22, \"15\": 13, \"25\": 1}, \"25\": {\"25\": 89, \"15\": 19, \"16\": 13, \"11\": 5}, \"54\": {\"54\": 108}, \"32\": {\"32\": 24, \"2\": 2, \"41\": 2}, \"52\": {\"52\": 119, \"30\": 1, \"1\": 2, \"29\": 2}, \"40\": {\"40\": 104, \"46\": 9, \"30\": 5, \"50\": 2, \"21\": 3, \"4\": 1, \"9\": 1, \"3\": 1, \"6\": 1, \"5\": 4, \"44\": 1}, \"2\": {\"2\": 27, \"14\": 3, \"38\": 1, \"33\": 1}, \"10\": {\"10\": 110}, \"53\": {\"53\": 136}, \"9\": {\"4\": 7, \"9\": 134, \"8\": 2, \"52\": 2, \"20\": 1, \"47\": 1, \"29\": 1, \"27\": 1, \"30\": 1}, \"21\": {\"21\": 112, \"9\": 3, \"50\": 1, \"30\": 1, \"1\": 1, \"40\": 2}, \"48\": {\"48\": 71, \"1\": 3, \"47\": 3, \"27\": 5, \"9\": 26, \"4\": 2, \"8\": 8, \"29\": 6, \"52\": 7, \"20\": 6, \"57\": 1}, \"29\": {\"29\": 89, \"47\": 8, \"57\": 16, \"1\": 10, \"52\": 2, \"48\": 2, \"27\": 1}}, \"CORES_1\": {\"9\": {\"9\": 142}, \"25\": {\"25\": 115, \"16\": 3, \"15\": 8, \"11\": 2}, \"41\": {\"7\": 4, \"41\": 16, \"32\": 1, \"51\": 2, \"2\": 1}, \"29\": {\"29\": 109, \"57\": 4, \"1\": 3, \"13\": 2, \"30\": 1, \"21\": 8, \"52\": 7, \"47\": 4, \"22\": 2}, \"46\": {\"46\": 87, \"20\": 1, \"40\": 9, \"6\": 7, \"50\": 11, \"45\": 2, \"3\": 2, \"44\": 5, \"4\": 2, \"5\": 2}, \"4\": {\"4\": 111, \"57\": 2, \"13\": 1, \"12\": 2, \"40\": 1, \"46\": 1, \"50\": 4, \"29\": 1, \"6\": 3, \"56\": 2, \"8\": 1, \"30\": 2, \"20\": 1}, \"31\": {\"31\": 26, \"24\": 1, \"35\": 1}, \"36\": {\"36\": 64}, \"20\": {\"20\": 122, \"12\": 3, \"40\": 1, \"13\": 2}, \"7\": {\"7\": 22, \"41\": 2, \"51\": 3, \"55\": 1}, \"6\": {\"46\": 7, \"50\": 7, \"6\": 80, \"4\": 1, \"40\": 1}, \"16\": {\"16\": 129, \"15\": 4, \"25\": 5}, \"17\": {\"17\": 64}, \"50\": {\"4\": 2, \"50\": 146}, \"57\": {\"57\": 139, \"13\": 2, \"52\": 1, \"21\": 1, \"29\": 1}, \"23\": {\"23\": 123, \"19\": 6, \"24\": 5, \"53\": 2}, \"3\": {\"20\": 1, \"3\": 118, \"56\": 4, \"0\": 1, \"22\": 1, \"40\": 1}, \"53\": {\"53\": 140}, \"49\": {\"49\": 31, \"39\": 1}, \"56\": {\"56\": 138, \"3\": 6, \"45\": 8}, \"51\": {\"51\": 138, \"9\": 2, \"7\": 1, \"41\": 1}, \"26\": {\"26\": 22, \"23\": 1, \"25\": 1}, \"43\": {\"49\": 3, \"43\": 137, \"39\": 1, \"19\": 1, \"37\": 2}, \"22\": {\"22\": 128, \"21\": 3, \"20\": 1, \"30\": 1, \"0\": 3}, \"45\": {\"45\": 140, \"56\": 3, \"40\": 1, \"44\": 2}, \"13\": {\"13\": 151, \"30\": 1}, \"12\": {\"12\": 97, \"13\": 7, \"57\": 2, \"30\": 5, \"14\": 1, \"4\": 1, \"20\": 2, \"9\": 1}, \"54\": {\"54\": 103, \"42\": 1}, \"24\": {\"24\": 106, \"31\": 1, \"23\": 1}, \"44\": {\"44\": 119, \"56\": 10, \"45\": 7}, \"28\": {\"28\": 28}, \"33\": {\"33\": 32}, \"38\": {\"42\": 2, \"36\": 2, \"38\": 8, \"43\": 1, \"37\": 3, \"39\": 4, \"52\": 1, \"49\": 2, \"35\": 1}, \"0\": {\"0\": 144}, \"47\": {\"47\": 142, \"36\": 3, \"27\": 2, \"29\": 1, \"52\": 6}, \"42\": {\"42\": 27, \"54\": 1, \"23\": 2, \"41\": 1, \"55\": 5, \"19\": 1, \"43\": 1, \"51\": 2}, \"34\": {\"34\": 17, \"55\": 1, \"24\": 3, \"23\": 2, \"39\": 1}, \"48\": {\"48\": 132, \"8\": 5, \"9\": 4, \"2\": 1}, \"35\": {\"35\": 32, \"19\": 1, \"23\": 1, \"43\": 1, \"31\": 1}, \"2\": {\"2\": 36}, \"30\": {\"30\": 116, \"13\": 3, \"8\": 1}, \"18\": {\"18\": 72}, \"37\": {\"36\": 1, \"37\": 25, \"29\": 1, \"55\": 1, \"27\": 1, \"32\": 1, \"1\": 2}, \"1\": {\"1\": 98, \"29\": 1, \"36\": 1}, \"11\": {\"11\": 138}, \"55\": {\"55\": 97, \"37\": 4, \"49\": 4, \"33\": 3, \"17\": 1, \"38\": 2, \"42\": 1, \"51\": 8, \"54\": 1, \"9\": 1, \"43\": 6, \"35\": 1, \"39\": 1}, \"15\": {\"15\": 149, \"25\": 1}, \"10\": {\"10\": 95, \"25\": 1}, \"27\": {\"27\": 158, \"21\": 2}, \"19\": {\"19\": 142, \"15\": 1, \"23\": 1, \"53\": 1, \"25\": 1}, \"14\": {\"14\": 23, \"12\": 1}, \"8\": {\"8\": 139, \"14\": 1}, \"5\": {\"5\": 136}, \"39\": {\"42\": 1, \"33\": 2, \"39\": 18, \"32\": 3, \"35\": 3, \"38\": 1}, \"52\": {\"21\": 9, \"52\": 100, \"29\": 8, \"47\": 2, \"27\": 2, \"22\": 1}, \"21\": {\"21\": 117, \"52\": 3, \"1\": 1, \"22\": 2, \"29\": 1}, \"40\": {\"40\": 115, \"20\": 8, \"0\": 5, \"56\": 9, \"4\": 1, \"3\": 3, \"50\": 2, \"13\": 1, \"12\": 2, \"6\": 5, \"46\": 1}, \"32\": {\"32\": 32}}, \"CORES_3\": {\"56\": {\"22\": 16, \"56\": 100, \"57\": 2, \"0\": 1, \"47\": 1}, \"4\": {\"4\": 128, \"30\": 3, \"41\": 3, \"1\": 3, \"29\": 3, \"48\": 4, \"27\": 2}, \"34\": {\"34\": 23, \"42\": 1, \"24\": 1, \"7\": 2, \"55\": 3, \"37\": 1, \"19\": 1}, \"52\": {\"52\": 123, \"9\": 9, \"4\": 1, \"1\": 2, \"27\": 1}, \"32\": {\"32\": 25, \"8\": 1, \"36\": 2}, \"46\": {\"40\": 20, \"46\": 89, \"5\": 6, \"50\": 6, \"30\": 3, \"21\": 9, \"6\": 1, \"12\": 1, \"0\": 1}, \"12\": {\"12\": 73, \"50\": 5, \"40\": 2, \"44\": 3, \"3\": 1, \"21\": 4, \"45\": 2, \"5\": 1, \"46\": 1}, \"20\": {\"20\": 112, \"52\": 1, \"27\": 2, \"48\": 2, \"8\": 12, \"9\": 3}, \"54\": {\"54\": 95, \"17\": 2, \"53\": 1, \"55\": 1, \"19\": 1}, \"22\": {\"22\": 125, \"30\": 1, \"47\": 1, \"56\": 9, \"0\": 4}, \"26\": {\"26\": 21, \"23\": 3}, \"31\": {\"31\": 27, \"24\": 1}, \"10\": {\"10\": 64}, \"27\": {\"27\": 86, \"4\": 13, \"33\": 1, \"9\": 17, \"41\": 1, \"52\": 6, \"29\": 1, \"57\": 2, \"48\": 5, \"20\": 7, \"8\": 2, \"1\": 2, \"32\": 1}, \"40\": {\"40\": 103, \"21\": 9, \"46\": 15, \"22\": 1, \"0\": 3, \"30\": 2, \"9\": 1, \"52\": 1, \"50\": 1}, \"28\": {\"28\": 27, \"19\": 1}, \"5\": {\"5\": 110, \"44\": 2, \"46\": 1, \"3\": 2, \"50\": 1}, \"30\": {\"30\": 118, \"21\": 2}, \"7\": {\"7\": 8, \"13\": 4, \"42\": 5, \"35\": 7, \"34\": 2, \"38\": 1, \"43\": 2, \"55\": 4, \"57\": 1, \"37\": 2}, \"18\": {\"18\": 84}, \"39\": {\"7\": 1, \"39\": 11, \"14\": 2, \"33\": 2}, \"50\": {\"50\": 108, \"40\": 7, \"3\": 6, \"21\": 7, \"46\": 2, \"5\": 2, \"44\": 3, \"45\": 1}, \"49\": {\"7\": 2, \"49\": 6, \"34\": 2, \"26\": 1, \"24\": 5, \"42\": 1, \"43\": 3}, \"43\": {\"43\": 112, \"24\": 3, \"31\": 2, \"55\": 3, \"49\": 2}, \"29\": {\"52\": 1, \"29\": 85, \"1\": 14, \"57\": 7, \"9\": 4, \"47\": 2, \"13\": 1}, \"35\": {\"7\": 4, \"35\": 21, \"14\": 1, \"13\": 2}, \"13\": {\"13\": 122, \"36\": 2}, \"36\": {\"36\": 98, \"2\": 1, \"51\": 1}, \"11\": {\"11\": 108, \"16\": 13, \"15\": 19, \"25\": 6}, \"57\": {\"57\": 96, \"41\": 1, \"47\": 9, \"29\": 12, \"1\": 6}, \"9\": {\"9\": 106, \"52\": 7, \"27\": 12, \"48\": 1, \"20\": 1, \"4\": 3}, \"25\": {\"25\": 89, \"11\": 11, \"15\": 16, \"16\": 14}, \"16\": {\"16\": 121, \"11\": 2, \"15\": 2, \"25\": 1}, \"53\": {\"53\": 115, \"19\": 2, \"15\": 1}, \"33\": {\"33\": 24, \"1\": 1, \"41\": 3}, \"51\": {\"51\": 124, \"38\": 1, \"17\": 3}, \"44\": {\"5\": 4, \"44\": 61, \"3\": 7, \"50\": 6, \"6\": 6, \"46\": 3, \"21\": 1}, \"48\": {\"27\": 13, \"48\": 68, \"4\": 3, \"29\": 3, \"30\": 1, \"1\": 1, \"57\": 3, \"52\": 4, \"9\": 11, \"20\": 1, \"33\": 1, \"41\": 2, \"8\": 2, \"47\": 1}, \"6\": {\"6\": 69, \"44\": 6, \"50\": 1, \"5\": 1, \"3\": 11}, \"23\": {\"23\": 142, \"26\": 1, \"19\": 1}, \"1\": {\"1\": 56, \"57\": 16, \"48\": 3, \"52\": 4, \"47\": 10, \"9\": 1, \"29\": 10}, \"17\": {\"51\": 5, \"17\": 102, \"2\": 1}, \"21\": {\"21\": 103, \"46\": 6, \"40\": 6, \"50\": 6, \"4\": 1}, \"14\": {\"39\": 1, \"14\": 33, \"57\": 2, \"13\": 3, \"12\": 1}, \"55\": {\"34\": 2, \"23\": 8, \"55\": 116, \"36\": 1, \"43\": 1, \"54\": 3, \"51\": 2, \"37\": 2, \"24\": 2, \"26\": 1, \"7\": 2, \"13\": 1, \"17\": 3}, \"41\": {\"33\": 2, \"41\": 22, \"1\": 1, \"8\": 1, \"48\": 2}, \"3\": {\"3\": 101, \"6\": 20, \"12\": 1, \"50\": 6, \"44\": 8, \"46\": 1, \"40\": 1}, \"38\": {\"38\": 26, \"2\": 2}, \"2\": {\"2\": 18, \"17\": 2, \"42\": 3, \"51\": 4, \"34\": 2, \"14\": 1, \"55\": 1, \"23\": 1}, \"8\": {\"8\": 111, \"20\": 21, \"9\": 4, \"4\": 2, \"48\": 2, \"27\": 2}, \"37\": {\"37\": 28}, \"45\": {\"44\": 5, \"45\": 40, \"12\": 4, \"6\": 4, \"3\": 3, \"50\": 3, \"21\": 1}, \"42\": {\"42\": 25, \"34\": 1, \"23\": 2}, \"24\": {\"24\": 104}, \"15\": {\"15\": 115, \"16\": 2, \"11\": 16, \"25\": 3}, \"0\": {\"0\": 122, \"22\": 2}, \"47\": {\"47\": 64, \"22\": 1, \"4\": 1, \"1\": 17, \"57\": 5, \"29\": 3, \"9\": 1}, \"19\": {\"19\": 106, \"24\": 2, \"23\": 5, \"53\": 2, \"25\": 1, \"26\": 2, \"43\": 2}}}, \"per_domain_accuracy\": {\"ORACLE.run1_14\": {\"accuracy\": 0.9322916666666666, \"source?\": true}, \"ORACLE.run1_20\": {\"accuracy\": 0.9838541666666667, \"source?\": true}, \"ORACLE.run1_50\": {\"accuracy\": 0.94765625, \"source?\": true}, \"ORACLE.run1_26\": {\"accuracy\": 0.9153645833333334, \"source?\": true}, \"ORACLE.run1_32\": {\"accuracy\": 0.9416666666666667, \"source?\": true}, \"ORACLE.run1_44\": {\"accuracy\": 0.8815104166666666, \"source?\": true}, \"ORACLE.run1_8\": {\"accuracy\": 0.9432291666666667, \"source?\": true}, \"ORACLE.run1_38\": {\"accuracy\": 0.9330729166666667, \"source?\": true}, \"CORES_4\": {\"accuracy\": 0.8235404191616766, \"source?\": false}, \"CORES_5\": {\"accuracy\": 0.8767458100558659, \"source?\": false}, \"CORES_2\": {\"accuracy\": 0.8416071428571429, \"source?\": false}, \"CORES_1\": {\"accuracy\": 0.9223845108695652, \"source?\": false}, \"CORES_3\": {\"accuracy\": 0.8306985294117647, \"source?\": false}}}, \"history\": {\"epoch_indices\": [1, 2, 3, 4, 5, 6, 7], \"train_label_loss\": [0.4007534895627205, 0.5206617149845919, 0.22126071201173111, 0.1895921271919395, 0.16867544784202307, 0.15536688948916327, 0.1611683987500891], \"source_val_label_loss\": [15.85476016998291, 0.2667810618877411, 0.18999014794826508, 0.19530919194221497, 0.16229264438152313, 0.16939739882946014, 0.15251004695892334], \"target_val_label_loss\": [522.31201171875, 260.10235595703125, 313.3034362792969, 310.1473083496094, 560.8434448242188, 586.9146118164062, 343.004638671875], \"source_val_acc_label\": [0.6995442708333334, 0.90595703125, 0.9348307291666667, 0.9316731770833333, 0.94189453125, 0.9393880208333333, 0.94609375], \"target_val_acc_label\": [0.8466785714285714, 0.8591071428571428, 0.8602142857142857, 0.8584642857142857, 0.8320357142857143, 0.8287142857142857, 0.8442857142857143]}, \"dataset_metrics\": {\"source\": {\"train\": {\"n_unique_x\": 179200, \"n_unique_y\": 16, \"n_batch/episode\": 6720}, \"val\": {\"n_unique_x\": 38400, \"n_unique_y\": 16, \"n_batch/episode\": 960}, \"test\": {\"n_unique_x\": 38400, \"n_unique_y\": 16, \"n_batch/episode\": 960}}, \"target\": {\"train\": {\"n_unique_x\": 175158, \"n_unique_y\": 58, \"n_batch/episode\": 6317}, \"val\": {\"n_unique_x\": 37216, \"n_unique_y\": 58, \"n_batch/episode\": 875}, \"test\": {\"n_unique_x\": 37596, \"n_unique_y\": 58, \"n_batch/episode\": 886}}}}'"
      ]
     },
     "execution_count": 29,
     "metadata": {},
     "output_type": "execute_result"
    }
   ],
   "source": [
    "json.dumps(experiment)"
   ]
  }
 ],
 "metadata": {
  "celltoolbar": "Tags",
  "kernelspec": {
   "display_name": "Python 3 (ipykernel)",
   "language": "python",
   "name": "python3"
  },
  "language_info": {
   "codemirror_mode": {
    "name": "ipython",
    "version": 3
   },
   "file_extension": ".py",
   "mimetype": "text/x-python",
   "name": "python",
   "nbconvert_exporter": "python",
   "pygments_lexer": "ipython3",
   "version": "3.8.12"
  },
  "papermill": {
   "default_parameters": {},
   "duration": 2076.518434,
   "end_time": "2022-03-21T09:18:23.074059",
   "environment_variables": {},
   "exception": null,
   "input_path": "/root/csc500-main/csc500-notebooks/templates/tl_ptn_template.ipynb",
   "output_path": "trial.ipynb",
   "parameters": {
    "parameters": {
     "BEST_MODEL_PATH": "./best_model.pth",
     "NUM_LOGS_PER_EPOCH": 10,
     "criteria_for_best": "target_accuracy",
     "dataset_seed": 420,
     "datasets": [
      {
       "domain_prefix": "CORES_",
       "domains": [
        1,
        2,
        3,
        4,
        5
       ],
       "episode_transforms": [],
       "labels": [
        "1-10.",
        "1-11.",
        "1-15.",
        "1-16.",
        "1-17.",
        "1-18.",
        "1-19.",
        "10-4.",
        "10-7.",
        "11-1.",
        "11-14.",
        "11-17.",
        "11-20.",
        "11-7.",
        "13-20.",
        "13-8.",
        "14-10.",
        "14-11.",
        "14-14.",
        "14-7.",
        "15-1.",
        "15-20.",
        "16-1.",
        "16-16.",
        "17-10.",
        "17-11.",
        "17-2.",
        "19-1.",
        "19-16.",
        "19-19.",
        "19-20.",
        "19-3.",
        "2-10.",
        "2-11.",
        "2-17.",
        "2-18.",
        "2-20.",
        "2-3.",
        "2-4.",
        "2-5.",
        "2-6.",
        "2-7.",
        "2-8.",
        "3-13.",
        "3-18.",
        "3-3.",
        "4-1.",
        "4-10.",
        "4-11.",
        "4-19.",
        "5-5.",
        "6-15.",
        "7-10.",
        "7-14.",
        "8-18.",
        "8-20.",
        "8-3.",
        "8-8."
       ],
       "num_examples_per_domain_per_label": -1,
       "pickle_path": "/root/csc500-main/datasets/cores.stratified_ds.2022A.pkl",
       "source_or_target_dataset": "target",
       "x_transforms": []
      },
      {
       "domain_prefix": "ORACLE.run1_",
       "domains": [
        32,
        38,
        8,
        44,
        14,
        50,
        20,
        26
       ],
       "episode_transforms": [],
       "labels": [
        "3123D52",
        "3123D65",
        "3123D79",
        "3123D80",
        "3123D54",
        "3123D70",
        "3123D7B",
        "3123D89",
        "3123D58",
        "3123D76",
        "3123D7D",
        "3123EFE",
        "3123D64",
        "3123D78",
        "3123D7E",
        "3124E4A"
       ],
       "num_examples_per_domain_per_label": 2000,
       "pickle_path": "/root/csc500-main/datasets/oracle.Run1_framed_2000Examples_stratified_ds.2022A.pkl",
       "source_or_target_dataset": "source",
       "x_transforms": []
      }
     ],
     "device": "cuda",
     "experiment_name": "tl_1v2:cores-oracle.run1.framed",
     "lr": 0.0001,
     "n_epoch": 50,
     "n_query": 2,
     "n_shot": 3,
     "n_way": 16,
     "patience": 3,
     "seed": 420,
     "test_k_factor": 2,
     "torch_default_dtype": "torch.float32",
     "train_k_factor": 3,
     "val_k_factor": 2,
     "x_net": [
      {
       "class": "nnReshape",
       "kargs": {
        "shape": [
         -1,
         1,
         2,
         256
        ]
       }
      },
      {
       "class": "Conv2d",
       "kargs": {
        "bias": false,
        "in_channels": 1,
        "kernel_size": [
         1,
         7
        ],
        "out_channels": 256,
        "padding": [
         0,
         3
        ]
       }
      },
      {
       "class": "ReLU",
       "kargs": {
        "inplace": true
       }
      },
      {
       "class": "BatchNorm2d",
       "kargs": {
        "num_features": 256
       }
      },
      {
       "class": "Conv2d",
       "kargs": {
        "bias": true,
        "in_channels": 256,
        "kernel_size": [
         2,
         7
        ],
        "out_channels": 80,
        "padding": [
         0,
         3
        ]
       }
      },
      {
       "class": "ReLU",
       "kargs": {
        "inplace": true
       }
      },
      {
       "class": "BatchNorm2d",
       "kargs": {
        "num_features": 80
       }
      },
      {
       "class": "Flatten",
       "kargs": {}
      },
      {
       "class": "Linear",
       "kargs": {
        "in_features": 20480,
        "out_features": 256
       }
      },
      {
       "class": "ReLU",
       "kargs": {
        "inplace": true
       }
      },
      {
       "class": "BatchNorm1d",
       "kargs": {
        "num_features": 256
       }
      },
      {
       "class": "Linear",
       "kargs": {
        "in_features": 256,
        "out_features": 256
       }
      }
     ]
    }
   },
   "start_time": "2022-03-21T08:43:46.555625",
   "version": "2.3.4"
  }
 },
 "nbformat": 4,
 "nbformat_minor": 5
}