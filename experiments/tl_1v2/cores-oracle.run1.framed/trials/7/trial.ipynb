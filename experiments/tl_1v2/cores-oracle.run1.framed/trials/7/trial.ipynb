{
 "cells": [
  {
   "cell_type": "markdown",
   "id": "9fea5f46",
   "metadata": {
    "papermill": {
     "duration": 0.029706,
     "end_time": "2022-03-21T06:19:14.337582",
     "exception": false,
     "start_time": "2022-03-21T06:19:14.307876",
     "status": "completed"
    },
    "tags": []
   },
   "source": [
    "# Transfer Learning Template"
   ]
  },
  {
   "cell_type": "code",
   "execution_count": 1,
   "id": "0902182a",
   "metadata": {
    "execution": {
     "iopub.execute_input": "2022-03-21T06:19:14.397862Z",
     "iopub.status.busy": "2022-03-21T06:19:14.387318Z",
     "iopub.status.idle": "2022-03-21T06:19:16.493454Z",
     "shell.execute_reply": "2022-03-21T06:19:16.492595Z"
    },
    "papermill": {
     "duration": 2.132798,
     "end_time": "2022-03-21T06:19:16.493647",
     "exception": false,
     "start_time": "2022-03-21T06:19:14.360849",
     "status": "completed"
    },
    "tags": []
   },
   "outputs": [],
   "source": [
    "%load_ext autoreload\n",
    "%autoreload 2\n",
    "%matplotlib inline\n",
    "\n",
    "    \n",
    "import os, json, sys, time, random\n",
    "import numpy as np\n",
    "import torch\n",
    "from torch.optim import Adam\n",
    "from  easydict import EasyDict\n",
    "import matplotlib.pyplot as plt\n",
    "\n",
    "from steves_models.steves_ptn import Steves_Prototypical_Network\n",
    "\n",
    "from steves_utils.lazy_iterable_wrapper import Lazy_Iterable_Wrapper\n",
    "from steves_utils.iterable_aggregator import Iterable_Aggregator\n",
    "from steves_utils.ptn_train_eval_test_jig import  PTN_Train_Eval_Test_Jig\n",
    "from steves_utils.torch_sequential_builder import build_sequential\n",
    "from steves_utils.torch_utils import get_dataset_metrics, ptn_confusion_by_domain_over_dataloader\n",
    "from steves_utils.utils_v2 import (per_domain_accuracy_from_confusion, get_datasets_base_path)\n",
    "from steves_utils.PTN.utils import independent_accuracy_assesment\n",
    "\n",
    "from torch.utils.data import DataLoader\n",
    "\n",
    "from steves_utils.stratified_dataset.episodic_accessor import Episodic_Accessor_Factory\n",
    "\n",
    "from steves_utils.ptn_do_report import (\n",
    "    get_loss_curve,\n",
    "    get_results_table,\n",
    "    get_parameters_table,\n",
    "    get_domain_accuracies,\n",
    ")\n",
    "\n",
    "from steves_utils.transforms import get_chained_transform"
   ]
  },
  {
   "cell_type": "markdown",
   "id": "41c840b4",
   "metadata": {
    "papermill": {
     "duration": 0.018414,
     "end_time": "2022-03-21T06:19:16.535728",
     "exception": false,
     "start_time": "2022-03-21T06:19:16.517314",
     "status": "completed"
    },
    "tags": []
   },
   "source": [
    "# Allowed Parameters\n",
    "These are allowed parameters, not defaults\n",
    "Each of these values need to be present in the injected parameters (the notebook will raise an exception if they are not present)\n",
    "\n",
    "Papermill uses the cell tag \"parameters\" to inject the real parameters below this cell.\n",
    "Enable tags to see what I mean"
   ]
  },
  {
   "cell_type": "code",
   "execution_count": 2,
   "id": "fd44eb83",
   "metadata": {
    "execution": {
     "iopub.execute_input": "2022-03-21T06:19:16.577967Z",
     "iopub.status.busy": "2022-03-21T06:19:16.577594Z",
     "iopub.status.idle": "2022-03-21T06:19:16.606137Z",
     "shell.execute_reply": "2022-03-21T06:19:16.605477Z"
    },
    "papermill": {
     "duration": 0.05212,
     "end_time": "2022-03-21T06:19:16.606294",
     "exception": false,
     "start_time": "2022-03-21T06:19:16.554174",
     "status": "completed"
    },
    "tags": []
   },
   "outputs": [],
   "source": [
    "required_parameters = {\n",
    "    \"experiment_name\",\n",
    "    \"lr\",\n",
    "    \"device\",\n",
    "    \"seed\",\n",
    "    \"dataset_seed\",\n",
    "    \"n_shot\",\n",
    "    \"n_query\",\n",
    "    \"n_way\",\n",
    "    \"train_k_factor\",\n",
    "    \"val_k_factor\",\n",
    "    \"test_k_factor\",\n",
    "    \"n_epoch\",\n",
    "    \"patience\",\n",
    "    \"criteria_for_best\",\n",
    "    \"x_net\",\n",
    "    \"datasets\",\n",
    "    \"torch_default_dtype\",\n",
    "    \"NUM_LOGS_PER_EPOCH\",\n",
    "    \"BEST_MODEL_PATH\",\n",
    "    \"x_shape\",\n",
    "}"
   ]
  },
  {
   "cell_type": "code",
   "execution_count": 3,
   "id": "fa3f0049",
   "metadata": {
    "execution": {
     "iopub.execute_input": "2022-03-21T06:19:16.665579Z",
     "iopub.status.busy": "2022-03-21T06:19:16.664688Z",
     "iopub.status.idle": "2022-03-21T06:19:16.689943Z",
     "shell.execute_reply": "2022-03-21T06:19:16.689153Z"
    },
    "papermill": {
     "duration": 0.059176,
     "end_time": "2022-03-21T06:19:16.690096",
     "exception": false,
     "start_time": "2022-03-21T06:19:16.630920",
     "status": "completed"
    },
    "tags": [
     "parameters"
    ]
   },
   "outputs": [],
   "source": [
    "from steves_utils.CORES.utils import (\n",
    "    ALL_NODES,\n",
    "    ALL_NODES_MINIMUM_1000_EXAMPLES,\n",
    "    ALL_DAYS\n",
    ")\n",
    "\n",
    "from steves_utils.ORACLE.utils_v2 import (\n",
    "    ALL_DISTANCES_FEET_NARROWED,\n",
    "    ALL_RUNS,\n",
    "    ALL_SERIAL_NUMBERS,\n",
    ")\n",
    "\n",
    "standalone_parameters = {}\n",
    "standalone_parameters[\"experiment_name\"] = \"STANDALONE PTN\"\n",
    "standalone_parameters[\"lr\"] = 0.001\n",
    "standalone_parameters[\"device\"] = \"cuda\"\n",
    "\n",
    "standalone_parameters[\"seed\"] = 1337\n",
    "standalone_parameters[\"dataset_seed\"] = 1337\n",
    "\n",
    "standalone_parameters[\"n_way\"] = 8\n",
    "standalone_parameters[\"n_shot\"] = 3\n",
    "standalone_parameters[\"n_query\"]  = 2\n",
    "standalone_parameters[\"train_k_factor\"] = 1\n",
    "standalone_parameters[\"val_k_factor\"] = 2\n",
    "standalone_parameters[\"test_k_factor\"] = 2\n",
    "\n",
    "\n",
    "standalone_parameters[\"n_epoch\"] = 50\n",
    "\n",
    "standalone_parameters[\"patience\"] = 10\n",
    "standalone_parameters[\"criteria_for_best\"] = \"source_loss\"\n",
    "\n",
    "standalone_parameters[\"datasets\"] = [\n",
    "    {\n",
    "        \"labels\": ALL_SERIAL_NUMBERS,\n",
    "        \"domains\": ALL_DISTANCES_FEET_NARROWED,\n",
    "        \"num_examples_per_domain_per_label\": 100,\n",
    "        \"pickle_path\": os.path.join(get_datasets_base_path(), \"oracle.Run1_framed_2000Examples_stratified_ds.2022A.pkl\"),\n",
    "        \"source_or_target_dataset\": \"source\",\n",
    "        \"x_transforms\": [\"unit_mag\", \"minus_two\"],\n",
    "        \"episode_transforms\": [],\n",
    "        \"domain_prefix\": \"ORACLE_\"\n",
    "    },\n",
    "    {\n",
    "        \"labels\": ALL_NODES,\n",
    "        \"domains\": ALL_DAYS,\n",
    "        \"num_examples_per_domain_per_label\": 100,\n",
    "        \"pickle_path\": os.path.join(get_datasets_base_path(), \"cores.stratified_ds.2022A.pkl\"),\n",
    "        \"source_or_target_dataset\": \"target\",\n",
    "        \"x_transforms\": [\"unit_power\", \"times_zero\"],\n",
    "        \"episode_transforms\": [],\n",
    "        \"domain_prefix\": \"CORES_\"\n",
    "    }   \n",
    "]\n",
    "\n",
    "standalone_parameters[\"torch_default_dtype\"] = \"torch.float32\" \n",
    "\n",
    "\n",
    "\n",
    "standalone_parameters[\"x_net\"] =     [\n",
    "    {\"class\": \"nnReshape\", \"kargs\": {\"shape\":[-1, 1, 2, 256]}},\n",
    "    {\"class\": \"Conv2d\", \"kargs\": { \"in_channels\":1, \"out_channels\":256, \"kernel_size\":(1,7), \"bias\":False, \"padding\":(0,3), },},\n",
    "    {\"class\": \"ReLU\", \"kargs\": {\"inplace\": True}},\n",
    "    {\"class\": \"BatchNorm2d\", \"kargs\": {\"num_features\":256}},\n",
    "\n",
    "    {\"class\": \"Conv2d\", \"kargs\": { \"in_channels\":256, \"out_channels\":80, \"kernel_size\":(2,7), \"bias\":True, \"padding\":(0,3), },},\n",
    "    {\"class\": \"ReLU\", \"kargs\": {\"inplace\": True}},\n",
    "    {\"class\": \"BatchNorm2d\", \"kargs\": {\"num_features\":80}},\n",
    "    {\"class\": \"Flatten\", \"kargs\": {}},\n",
    "\n",
    "    {\"class\": \"Linear\", \"kargs\": {\"in_features\": 80*256, \"out_features\": 256}}, # 80 units per IQ pair\n",
    "    {\"class\": \"ReLU\", \"kargs\": {\"inplace\": True}},\n",
    "    {\"class\": \"BatchNorm1d\", \"kargs\": {\"num_features\":256}},\n",
    "\n",
    "    {\"class\": \"Linear\", \"kargs\": {\"in_features\": 256, \"out_features\": 256}},\n",
    "]\n",
    "\n",
    "# Parameters relevant to results\n",
    "# These parameters will basically never need to change\n",
    "standalone_parameters[\"NUM_LOGS_PER_EPOCH\"] = 10\n",
    "standalone_parameters[\"BEST_MODEL_PATH\"] = \"./best_model.pth\"\n",
    "\n",
    "\n",
    "\n",
    "\n"
   ]
  },
  {
   "cell_type": "code",
   "execution_count": 4,
   "id": "e25a0fca",
   "metadata": {
    "execution": {
     "iopub.execute_input": "2022-03-21T06:19:16.752598Z",
     "iopub.status.busy": "2022-03-21T06:19:16.751659Z",
     "iopub.status.idle": "2022-03-21T06:19:16.775138Z",
     "shell.execute_reply": "2022-03-21T06:19:16.774347Z"
    },
    "papermill": {
     "duration": 0.05869,
     "end_time": "2022-03-21T06:19:16.775288",
     "exception": false,
     "start_time": "2022-03-21T06:19:16.716598",
     "status": "completed"
    },
    "tags": [
     "injected-parameters"
    ]
   },
   "outputs": [],
   "source": [
    "# Parameters\n",
    "parameters = {\n",
    "    \"experiment_name\": \"tl_1v2:cores-oracle.run1.framed\",\n",
    "    \"device\": \"cuda\",\n",
    "    \"lr\": 0.0001,\n",
    "    \"n_shot\": 3,\n",
    "    \"n_query\": 2,\n",
    "    \"train_k_factor\": 3,\n",
    "    \"val_k_factor\": 2,\n",
    "    \"test_k_factor\": 2,\n",
    "    \"torch_default_dtype\": \"torch.float32\",\n",
    "    \"n_epoch\": 50,\n",
    "    \"patience\": 3,\n",
    "    \"criteria_for_best\": \"target_accuracy\",\n",
    "    \"x_net\": [\n",
    "        {\"class\": \"nnReshape\", \"kargs\": {\"shape\": [-1, 1, 2, 256]}},\n",
    "        {\n",
    "            \"class\": \"Conv2d\",\n",
    "            \"kargs\": {\n",
    "                \"in_channels\": 1,\n",
    "                \"out_channels\": 256,\n",
    "                \"kernel_size\": [1, 7],\n",
    "                \"bias\": False,\n",
    "                \"padding\": [0, 3],\n",
    "            },\n",
    "        },\n",
    "        {\"class\": \"ReLU\", \"kargs\": {\"inplace\": True}},\n",
    "        {\"class\": \"BatchNorm2d\", \"kargs\": {\"num_features\": 256}},\n",
    "        {\n",
    "            \"class\": \"Conv2d\",\n",
    "            \"kargs\": {\n",
    "                \"in_channels\": 256,\n",
    "                \"out_channels\": 80,\n",
    "                \"kernel_size\": [2, 7],\n",
    "                \"bias\": True,\n",
    "                \"padding\": [0, 3],\n",
    "            },\n",
    "        },\n",
    "        {\"class\": \"ReLU\", \"kargs\": {\"inplace\": True}},\n",
    "        {\"class\": \"BatchNorm2d\", \"kargs\": {\"num_features\": 80}},\n",
    "        {\"class\": \"Flatten\", \"kargs\": {}},\n",
    "        {\"class\": \"Linear\", \"kargs\": {\"in_features\": 20480, \"out_features\": 256}},\n",
    "        {\"class\": \"ReLU\", \"kargs\": {\"inplace\": True}},\n",
    "        {\"class\": \"BatchNorm1d\", \"kargs\": {\"num_features\": 256}},\n",
    "        {\"class\": \"Linear\", \"kargs\": {\"in_features\": 256, \"out_features\": 256}},\n",
    "    ],\n",
    "    \"NUM_LOGS_PER_EPOCH\": 10,\n",
    "    \"BEST_MODEL_PATH\": \"./best_model.pth\",\n",
    "    \"n_way\": 16,\n",
    "    \"datasets\": [\n",
    "        {\n",
    "            \"labels\": [\n",
    "                \"1-10.\",\n",
    "                \"1-11.\",\n",
    "                \"1-15.\",\n",
    "                \"1-16.\",\n",
    "                \"1-17.\",\n",
    "                \"1-18.\",\n",
    "                \"1-19.\",\n",
    "                \"10-4.\",\n",
    "                \"10-7.\",\n",
    "                \"11-1.\",\n",
    "                \"11-14.\",\n",
    "                \"11-17.\",\n",
    "                \"11-20.\",\n",
    "                \"11-7.\",\n",
    "                \"13-20.\",\n",
    "                \"13-8.\",\n",
    "                \"14-10.\",\n",
    "                \"14-11.\",\n",
    "                \"14-14.\",\n",
    "                \"14-7.\",\n",
    "                \"15-1.\",\n",
    "                \"15-20.\",\n",
    "                \"16-1.\",\n",
    "                \"16-16.\",\n",
    "                \"17-10.\",\n",
    "                \"17-11.\",\n",
    "                \"17-2.\",\n",
    "                \"19-1.\",\n",
    "                \"19-16.\",\n",
    "                \"19-19.\",\n",
    "                \"19-20.\",\n",
    "                \"19-3.\",\n",
    "                \"2-10.\",\n",
    "                \"2-11.\",\n",
    "                \"2-17.\",\n",
    "                \"2-18.\",\n",
    "                \"2-20.\",\n",
    "                \"2-3.\",\n",
    "                \"2-4.\",\n",
    "                \"2-5.\",\n",
    "                \"2-6.\",\n",
    "                \"2-7.\",\n",
    "                \"2-8.\",\n",
    "                \"3-13.\",\n",
    "                \"3-18.\",\n",
    "                \"3-3.\",\n",
    "                \"4-1.\",\n",
    "                \"4-10.\",\n",
    "                \"4-11.\",\n",
    "                \"4-19.\",\n",
    "                \"5-5.\",\n",
    "                \"6-15.\",\n",
    "                \"7-10.\",\n",
    "                \"7-14.\",\n",
    "                \"8-18.\",\n",
    "                \"8-20.\",\n",
    "                \"8-3.\",\n",
    "                \"8-8.\",\n",
    "            ],\n",
    "            \"domains\": [1, 2, 3, 4, 5],\n",
    "            \"num_examples_per_domain_per_label\": -1,\n",
    "            \"pickle_path\": \"/root/csc500-main/datasets/cores.stratified_ds.2022A.pkl\",\n",
    "            \"source_or_target_dataset\": \"source\",\n",
    "            \"x_transforms\": [\"unit_mag\"],\n",
    "            \"episode_transforms\": [],\n",
    "            \"domain_prefix\": \"CORES_\",\n",
    "        },\n",
    "        {\n",
    "            \"labels\": [\n",
    "                \"3123D52\",\n",
    "                \"3123D65\",\n",
    "                \"3123D79\",\n",
    "                \"3123D80\",\n",
    "                \"3123D54\",\n",
    "                \"3123D70\",\n",
    "                \"3123D7B\",\n",
    "                \"3123D89\",\n",
    "                \"3123D58\",\n",
    "                \"3123D76\",\n",
    "                \"3123D7D\",\n",
    "                \"3123EFE\",\n",
    "                \"3123D64\",\n",
    "                \"3123D78\",\n",
    "                \"3123D7E\",\n",
    "                \"3124E4A\",\n",
    "            ],\n",
    "            \"domains\": [32, 38, 8, 44, 14, 50, 20, 26],\n",
    "            \"num_examples_per_domain_per_label\": 2000,\n",
    "            \"pickle_path\": \"/root/csc500-main/datasets/oracle.Run1_framed_2000Examples_stratified_ds.2022A.pkl\",\n",
    "            \"source_or_target_dataset\": \"target\",\n",
    "            \"x_transforms\": [\"unit_mag\"],\n",
    "            \"episode_transforms\": [],\n",
    "            \"domain_prefix\": \"ORACLE.run1_\",\n",
    "        },\n",
    "    ],\n",
    "    \"dataset_seed\": 420,\n",
    "    \"seed\": 420,\n",
    "}\n"
   ]
  },
  {
   "cell_type": "code",
   "execution_count": 5,
   "id": "8fa1cc33",
   "metadata": {
    "execution": {
     "iopub.execute_input": "2022-03-21T06:19:16.828248Z",
     "iopub.status.busy": "2022-03-21T06:19:16.827684Z",
     "iopub.status.idle": "2022-03-21T06:19:16.852031Z",
     "shell.execute_reply": "2022-03-21T06:19:16.851208Z"
    },
    "papermill": {
     "duration": 0.050422,
     "end_time": "2022-03-21T06:19:16.852182",
     "exception": false,
     "start_time": "2022-03-21T06:19:16.801760",
     "status": "completed"
    },
    "tags": []
   },
   "outputs": [],
   "source": [
    "# Set this to True if you want to run this template directly\n",
    "STANDALONE = False\n",
    "if STANDALONE:\n",
    "    print(\"parameters not injected, running with standalone_parameters\")\n",
    "    parameters = standalone_parameters\n",
    "\n",
    "if not 'parameters' in locals() and not 'parameters' in globals():\n",
    "    raise Exception(\"Parameter injection failed\")\n",
    "\n",
    "#Use an easy dict for all the parameters\n",
    "p = EasyDict(parameters)\n",
    "\n",
    "if \"x_shape\" not in p:\n",
    "    p.x_shape = [2,256] # Default to this if we dont supply x_shape\n",
    "\n",
    "\n",
    "supplied_keys = set(p.keys())\n",
    "\n",
    "if  supplied_keys != required_parameters:\n",
    "    print(\"Parameters are incorrect\")\n",
    "    if len(supplied_keys - required_parameters)>0: print(\"Shouldn't have:\", str(supplied_keys - required_parameters))\n",
    "    if len(required_parameters - supplied_keys)>0: print(\"Need to have:\", str(required_parameters - supplied_keys))\n",
    "    raise RuntimeError(\"Parameters are incorrect\")"
   ]
  },
  {
   "cell_type": "code",
   "execution_count": 6,
   "id": "3a028d58",
   "metadata": {
    "execution": {
     "iopub.execute_input": "2022-03-21T06:19:16.901014Z",
     "iopub.status.busy": "2022-03-21T06:19:16.900161Z",
     "iopub.status.idle": "2022-03-21T06:19:16.923898Z",
     "shell.execute_reply": "2022-03-21T06:19:16.923094Z"
    },
    "papermill": {
     "duration": 0.046178,
     "end_time": "2022-03-21T06:19:16.924048",
     "exception": false,
     "start_time": "2022-03-21T06:19:16.877870",
     "status": "completed"
    },
    "tags": []
   },
   "outputs": [],
   "source": [
    "###################################\n",
    "# Set the RNGs and make it all deterministic\n",
    "###################################\n",
    "np.random.seed(p.seed)\n",
    "random.seed(p.seed)\n",
    "torch.manual_seed(p.seed)\n",
    "\n",
    "torch.use_deterministic_algorithms(True) "
   ]
  },
  {
   "cell_type": "code",
   "execution_count": 7,
   "id": "b691acf6",
   "metadata": {
    "execution": {
     "iopub.execute_input": "2022-03-21T06:19:16.973491Z",
     "iopub.status.busy": "2022-03-21T06:19:16.972939Z",
     "iopub.status.idle": "2022-03-21T06:19:16.997372Z",
     "shell.execute_reply": "2022-03-21T06:19:16.996575Z"
    },
    "papermill": {
     "duration": 0.047667,
     "end_time": "2022-03-21T06:19:16.997524",
     "exception": false,
     "start_time": "2022-03-21T06:19:16.949857",
     "status": "completed"
    },
    "tags": []
   },
   "outputs": [],
   "source": [
    "###########################################\n",
    "# The stratified datasets honor this\n",
    "###########################################\n",
    "torch.set_default_dtype(eval(p.torch_default_dtype))"
   ]
  },
  {
   "cell_type": "code",
   "execution_count": 8,
   "id": "b5fba671",
   "metadata": {
    "execution": {
     "iopub.execute_input": "2022-03-21T06:19:17.046648Z",
     "iopub.status.busy": "2022-03-21T06:19:17.045262Z",
     "iopub.status.idle": "2022-03-21T06:19:17.100917Z",
     "shell.execute_reply": "2022-03-21T06:19:17.100229Z"
    },
    "papermill": {
     "duration": 0.078574,
     "end_time": "2022-03-21T06:19:17.101068",
     "exception": false,
     "start_time": "2022-03-21T06:19:17.022494",
     "status": "completed"
    },
    "tags": []
   },
   "outputs": [],
   "source": [
    "###################################\n",
    "# Build the network(s)\n",
    "# Note: It's critical to do this AFTER setting the RNG\n",
    "###################################\n",
    "x_net = build_sequential(p.x_net)"
   ]
  },
  {
   "cell_type": "code",
   "execution_count": 9,
   "id": "5d7e61cc",
   "metadata": {
    "execution": {
     "iopub.execute_input": "2022-03-21T06:19:17.147813Z",
     "iopub.status.busy": "2022-03-21T06:19:17.147438Z",
     "iopub.status.idle": "2022-03-21T06:19:17.172531Z",
     "shell.execute_reply": "2022-03-21T06:19:17.173187Z"
    },
    "papermill": {
     "duration": 0.048953,
     "end_time": "2022-03-21T06:19:17.173362",
     "exception": false,
     "start_time": "2022-03-21T06:19:17.124409",
     "status": "completed"
    },
    "tags": []
   },
   "outputs": [],
   "source": [
    "start_time_secs = time.time()"
   ]
  },
  {
   "cell_type": "code",
   "execution_count": 10,
   "id": "c6b67dfd",
   "metadata": {
    "execution": {
     "iopub.execute_input": "2022-03-21T06:19:17.223241Z",
     "iopub.status.busy": "2022-03-21T06:19:17.222881Z",
     "iopub.status.idle": "2022-03-21T06:19:17.243134Z",
     "shell.execute_reply": "2022-03-21T06:19:17.242449Z"
    },
    "papermill": {
     "duration": 0.042479,
     "end_time": "2022-03-21T06:19:17.243283",
     "exception": false,
     "start_time": "2022-03-21T06:19:17.200804",
     "status": "completed"
    },
    "tags": []
   },
   "outputs": [],
   "source": [
    "p.domains_source = []\n",
    "p.domains_target = []\n",
    "\n",
    "\n",
    "train_original_source = []\n",
    "val_original_source   = []\n",
    "test_original_source  = []\n",
    "\n",
    "train_original_target = []\n",
    "val_original_target   = []\n",
    "test_original_target  = []"
   ]
  },
  {
   "cell_type": "code",
   "execution_count": 11,
   "id": "e3d9c3d3",
   "metadata": {
    "execution": {
     "iopub.execute_input": "2022-03-21T06:19:17.289596Z",
     "iopub.status.busy": "2022-03-21T06:19:17.289236Z",
     "iopub.status.idle": "2022-03-21T06:19:17.309668Z",
     "shell.execute_reply": "2022-03-21T06:19:17.308976Z"
    },
    "papermill": {
     "duration": 0.041859,
     "end_time": "2022-03-21T06:19:17.309818",
     "exception": false,
     "start_time": "2022-03-21T06:19:17.267959",
     "status": "completed"
    },
    "tags": []
   },
   "outputs": [],
   "source": [
    "# global_x_transform_func = lambda x: normalize(x.to(torch.get_default_dtype()), \"unit_power\") # unit_power, unit_mag\n",
    "# global_x_transform_func = lambda x: normalize(x, \"unit_power\") # unit_power, unit_mag"
   ]
  },
  {
   "cell_type": "code",
   "execution_count": 12,
   "id": "acb78fd2",
   "metadata": {
    "execution": {
     "iopub.execute_input": "2022-03-21T06:19:17.366746Z",
     "iopub.status.busy": "2022-03-21T06:19:17.366174Z",
     "iopub.status.idle": "2022-03-21T06:19:17.387652Z",
     "shell.execute_reply": "2022-03-21T06:19:17.386945Z"
    },
    "papermill": {
     "duration": 0.052549,
     "end_time": "2022-03-21T06:19:17.387802",
     "exception": false,
     "start_time": "2022-03-21T06:19:17.335253",
     "status": "completed"
    },
    "tags": []
   },
   "outputs": [],
   "source": [
    "def add_dataset(\n",
    "    labels,\n",
    "    domains,\n",
    "    pickle_path,\n",
    "    x_transforms,\n",
    "    episode_transforms,\n",
    "    domain_prefix,\n",
    "    num_examples_per_domain_per_label,\n",
    "    source_or_target_dataset:str,\n",
    "    iterator_seed=p.seed,\n",
    "    dataset_seed=p.dataset_seed,\n",
    "    n_shot=p.n_shot,\n",
    "    n_way=p.n_way,\n",
    "    n_query=p.n_query,\n",
    "    train_val_test_k_factors=(p.train_k_factor,p.val_k_factor,p.test_k_factor),\n",
    "):\n",
    "   \n",
    "    if x_transforms == []: x_transform = None\n",
    "    else: x_transform = get_chained_transform(x_transforms)\n",
    "    \n",
    "    if episode_transforms == []: episode_transform = None\n",
    "    else: raise Exception(\"episode_transforms not implemented\")\n",
    "    \n",
    "    episode_transform = lambda tup, _prefix=domain_prefix: (_prefix + str(tup[0]), tup[1])\n",
    "\n",
    "\n",
    "    eaf = Episodic_Accessor_Factory(\n",
    "        labels=labels,\n",
    "        domains=domains,\n",
    "        num_examples_per_domain_per_label=num_examples_per_domain_per_label,\n",
    "        iterator_seed=iterator_seed,\n",
    "        dataset_seed=dataset_seed,\n",
    "        n_shot=n_shot,\n",
    "        n_way=n_way,\n",
    "        n_query=n_query,\n",
    "        train_val_test_k_factors=train_val_test_k_factors,\n",
    "        pickle_path=pickle_path,\n",
    "        x_transform_func=x_transform,\n",
    "    )\n",
    "\n",
    "    train, val, test = eaf.get_train(), eaf.get_val(), eaf.get_test()\n",
    "    train = Lazy_Iterable_Wrapper(train, episode_transform)\n",
    "    val = Lazy_Iterable_Wrapper(val, episode_transform)\n",
    "    test = Lazy_Iterable_Wrapper(test, episode_transform)\n",
    "\n",
    "    if source_or_target_dataset==\"source\":\n",
    "        train_original_source.append(train)\n",
    "        val_original_source.append(val)\n",
    "        test_original_source.append(test)\n",
    "\n",
    "        p.domains_source.extend(\n",
    "            [domain_prefix + str(u) for u in domains]\n",
    "        )\n",
    "    elif source_or_target_dataset==\"target\":\n",
    "        train_original_target.append(train)\n",
    "        val_original_target.append(val)\n",
    "        test_original_target.append(test)\n",
    "        p.domains_target.extend(\n",
    "            [domain_prefix + str(u) for u in domains]\n",
    "        )\n",
    "    else:\n",
    "        raise Exception(f\"invalid source_or_target_dataset: {source_or_target_dataset}\")\n",
    "    "
   ]
  },
  {
   "cell_type": "code",
   "execution_count": 13,
   "id": "fe266617",
   "metadata": {
    "execution": {
     "iopub.execute_input": "2022-03-21T06:19:17.438937Z",
     "iopub.status.busy": "2022-03-21T06:19:17.438579Z",
     "iopub.status.idle": "2022-03-21T06:19:59.360389Z",
     "shell.execute_reply": "2022-03-21T06:19:59.359663Z"
    },
    "papermill": {
     "duration": 41.943972,
     "end_time": "2022-03-21T06:19:59.360577",
     "exception": false,
     "start_time": "2022-03-21T06:19:17.416605",
     "status": "completed"
    },
    "tags": []
   },
   "outputs": [],
   "source": [
    "for ds in p.datasets:\n",
    "    add_dataset(**ds)"
   ]
  },
  {
   "cell_type": "code",
   "execution_count": 14,
   "id": "b90d65ac",
   "metadata": {
    "execution": {
     "iopub.execute_input": "2022-03-21T06:19:59.414441Z",
     "iopub.status.busy": "2022-03-21T06:19:59.413871Z",
     "iopub.status.idle": "2022-03-21T06:19:59.438809Z",
     "shell.execute_reply": "2022-03-21T06:19:59.438108Z"
    },
    "papermill": {
     "duration": 0.048988,
     "end_time": "2022-03-21T06:19:59.438967",
     "exception": false,
     "start_time": "2022-03-21T06:19:59.389979",
     "status": "completed"
    },
    "tags": []
   },
   "outputs": [],
   "source": [
    "# from steves_utils.CORES.utils import (\n",
    "#     ALL_NODES,\n",
    "#     ALL_NODES_MINIMUM_1000_EXAMPLES,\n",
    "#     ALL_DAYS\n",
    "# )\n",
    "\n",
    "# add_dataset(\n",
    "#     labels=ALL_NODES,\n",
    "#     domains = ALL_DAYS,\n",
    "#     num_examples_per_domain_per_label=100,\n",
    "#     pickle_path=os.path.join(get_datasets_base_path(), \"cores.stratified_ds.2022A.pkl\"),\n",
    "#     source_or_target_dataset=\"target\",\n",
    "#     x_transform_func=global_x_transform_func,\n",
    "#     domain_modifier=lambda u: f\"cores_{u}\"\n",
    "# )"
   ]
  },
  {
   "cell_type": "code",
   "execution_count": 15,
   "id": "76db484d",
   "metadata": {
    "execution": {
     "iopub.execute_input": "2022-03-21T06:19:59.490909Z",
     "iopub.status.busy": "2022-03-21T06:19:59.488737Z",
     "iopub.status.idle": "2022-03-21T06:19:59.510666Z",
     "shell.execute_reply": "2022-03-21T06:19:59.509880Z"
    },
    "papermill": {
     "duration": 0.04641,
     "end_time": "2022-03-21T06:19:59.510822",
     "exception": false,
     "start_time": "2022-03-21T06:19:59.464412",
     "status": "completed"
    },
    "tags": []
   },
   "outputs": [],
   "source": [
    "# from steves_utils.ORACLE.utils_v2 import (\n",
    "#     ALL_DISTANCES_FEET,\n",
    "#     ALL_RUNS,\n",
    "#     ALL_SERIAL_NUMBERS,\n",
    "# )\n",
    "\n",
    "\n",
    "# add_dataset(\n",
    "#     labels=ALL_SERIAL_NUMBERS,\n",
    "#     domains = list(set(ALL_DISTANCES_FEET) - {2,62}),\n",
    "#     num_examples_per_domain_per_label=100,\n",
    "#     pickle_path=os.path.join(get_datasets_base_path(), \"oracle.Run2_framed_2000Examples_stratified_ds.2022A.pkl\"),\n",
    "#     source_or_target_dataset=\"source\",\n",
    "#     x_transform_func=global_x_transform_func,\n",
    "#     domain_modifier=lambda u: f\"oracle1_{u}\"\n",
    "# )\n"
   ]
  },
  {
   "cell_type": "code",
   "execution_count": 16,
   "id": "97dea9d2",
   "metadata": {
    "execution": {
     "iopub.execute_input": "2022-03-21T06:19:59.560690Z",
     "iopub.status.busy": "2022-03-21T06:19:59.559866Z",
     "iopub.status.idle": "2022-03-21T06:19:59.582478Z",
     "shell.execute_reply": "2022-03-21T06:19:59.581801Z"
    },
    "papermill": {
     "duration": 0.046011,
     "end_time": "2022-03-21T06:19:59.582642",
     "exception": false,
     "start_time": "2022-03-21T06:19:59.536631",
     "status": "completed"
    },
    "tags": []
   },
   "outputs": [],
   "source": [
    "# from steves_utils.ORACLE.utils_v2 import (\n",
    "#     ALL_DISTANCES_FEET,\n",
    "#     ALL_RUNS,\n",
    "#     ALL_SERIAL_NUMBERS,\n",
    "# )\n",
    "\n",
    "\n",
    "# add_dataset(\n",
    "#     labels=ALL_SERIAL_NUMBERS,\n",
    "#     domains = list(set(ALL_DISTANCES_FEET) - {2,62,56}),\n",
    "#     num_examples_per_domain_per_label=100,\n",
    "#     pickle_path=os.path.join(get_datasets_base_path(), \"oracle.Run2_framed_2000Examples_stratified_ds.2022A.pkl\"),\n",
    "#     source_or_target_dataset=\"source\",\n",
    "#     x_transform_func=global_x_transform_func,\n",
    "#     domain_modifier=lambda u: f\"oracle2_{u}\"\n",
    "# )"
   ]
  },
  {
   "cell_type": "code",
   "execution_count": 17,
   "id": "6f289866",
   "metadata": {
    "execution": {
     "iopub.execute_input": "2022-03-21T06:19:59.631673Z",
     "iopub.status.busy": "2022-03-21T06:19:59.631274Z",
     "iopub.status.idle": "2022-03-21T06:19:59.653936Z",
     "shell.execute_reply": "2022-03-21T06:19:59.653237Z"
    },
    "papermill": {
     "duration": 0.045613,
     "end_time": "2022-03-21T06:19:59.654092",
     "exception": false,
     "start_time": "2022-03-21T06:19:59.608479",
     "status": "completed"
    },
    "tags": []
   },
   "outputs": [],
   "source": [
    "# add_dataset(\n",
    "#     labels=list(range(19)),\n",
    "#     domains = [0,1,2],\n",
    "#     num_examples_per_domain_per_label=100,\n",
    "#     pickle_path=os.path.join(get_datasets_base_path(), \"metehan.stratified_ds.2022A.pkl\"),\n",
    "#     source_or_target_dataset=\"target\",\n",
    "#     x_transform_func=global_x_transform_func,\n",
    "#     domain_modifier=lambda u: f\"met_{u}\"\n",
    "# )"
   ]
  },
  {
   "cell_type": "code",
   "execution_count": 18,
   "id": "86a863c3",
   "metadata": {
    "execution": {
     "iopub.execute_input": "2022-03-21T06:19:59.705007Z",
     "iopub.status.busy": "2022-03-21T06:19:59.704182Z",
     "iopub.status.idle": "2022-03-21T06:19:59.725068Z",
     "shell.execute_reply": "2022-03-21T06:19:59.724384Z"
    },
    "papermill": {
     "duration": 0.044182,
     "end_time": "2022-03-21T06:19:59.725232",
     "exception": false,
     "start_time": "2022-03-21T06:19:59.681050",
     "status": "completed"
    },
    "tags": []
   },
   "outputs": [],
   "source": [
    "# # from steves_utils.wisig.utils import (\n",
    "# #     ALL_NODES_MINIMUM_100_EXAMPLES,\n",
    "# #     ALL_NODES_MINIMUM_500_EXAMPLES,\n",
    "# #     ALL_NODES_MINIMUM_1000_EXAMPLES,\n",
    "# #     ALL_DAYS\n",
    "# # )\n",
    "\n",
    "# import steves_utils.wisig.utils as wisig\n",
    "\n",
    "\n",
    "# add_dataset(\n",
    "#     labels=wisig.ALL_NODES_MINIMUM_100_EXAMPLES,\n",
    "#     domains = wisig.ALL_DAYS,\n",
    "#     num_examples_per_domain_per_label=100,\n",
    "#     pickle_path=os.path.join(get_datasets_base_path(), \"wisig.node3-19.stratified_ds.2022A.pkl\"),\n",
    "#     source_or_target_dataset=\"target\",\n",
    "#     x_transform_func=global_x_transform_func,\n",
    "#     domain_modifier=lambda u: f\"wisig_{u}\"\n",
    "# )"
   ]
  },
  {
   "cell_type": "code",
   "execution_count": 19,
   "id": "fd5442bc",
   "metadata": {
    "execution": {
     "iopub.execute_input": "2022-03-21T06:19:59.779621Z",
     "iopub.status.busy": "2022-03-21T06:19:59.778268Z",
     "iopub.status.idle": "2022-03-21T06:19:59.800124Z",
     "shell.execute_reply": "2022-03-21T06:19:59.799361Z"
    },
    "papermill": {
     "duration": 0.049981,
     "end_time": "2022-03-21T06:19:59.800285",
     "exception": false,
     "start_time": "2022-03-21T06:19:59.750304",
     "status": "completed"
    },
    "tags": []
   },
   "outputs": [],
   "source": [
    "###################################\n",
    "# Build the dataset\n",
    "###################################\n",
    "train_original_source = Iterable_Aggregator(train_original_source, p.seed)\n",
    "val_original_source = Iterable_Aggregator(val_original_source, p.seed)\n",
    "test_original_source = Iterable_Aggregator(test_original_source, p.seed)\n",
    "\n",
    "\n",
    "train_original_target = Iterable_Aggregator(train_original_target, p.seed)\n",
    "val_original_target = Iterable_Aggregator(val_original_target, p.seed)\n",
    "test_original_target = Iterable_Aggregator(test_original_target, p.seed)\n",
    "\n",
    "# For CNN We only use X and Y. And we only train on the source.\n",
    "# Properly form the data using a transform lambda and Lazy_Iterable_Wrapper. Finally wrap them in a dataloader\n",
    "\n",
    "transform_lambda = lambda ex: ex[1] # Original is (<domain>, <episode>) so we strip down to episode only\n",
    "\n",
    "train_processed_source = Lazy_Iterable_Wrapper(train_original_source, transform_lambda)\n",
    "val_processed_source   = Lazy_Iterable_Wrapper(val_original_source, transform_lambda)\n",
    "test_processed_source  = Lazy_Iterable_Wrapper(test_original_source, transform_lambda)\n",
    "\n",
    "train_processed_target = Lazy_Iterable_Wrapper(train_original_target, transform_lambda)\n",
    "val_processed_target   = Lazy_Iterable_Wrapper(val_original_target, transform_lambda)\n",
    "test_processed_target  = Lazy_Iterable_Wrapper(test_original_target, transform_lambda)\n",
    "\n",
    "datasets = EasyDict({\n",
    "    \"source\": {\n",
    "        \"original\": {\"train\":train_original_source, \"val\":val_original_source, \"test\":test_original_source},\n",
    "        \"processed\": {\"train\":train_processed_source, \"val\":val_processed_source, \"test\":test_processed_source}\n",
    "    },\n",
    "    \"target\": {\n",
    "        \"original\": {\"train\":train_original_target, \"val\":val_original_target, \"test\":test_original_target},\n",
    "        \"processed\": {\"train\":train_processed_target, \"val\":val_processed_target, \"test\":test_processed_target}\n",
    "    },\n",
    "})"
   ]
  },
  {
   "cell_type": "code",
   "execution_count": 20,
   "id": "5b3c01fc",
   "metadata": {
    "execution": {
     "iopub.execute_input": "2022-03-21T06:19:59.852160Z",
     "iopub.status.busy": "2022-03-21T06:19:59.851789Z",
     "iopub.status.idle": "2022-03-21T06:20:14.936729Z",
     "shell.execute_reply": "2022-03-21T06:20:14.935884Z"
    },
    "papermill": {
     "duration": 15.108256,
     "end_time": "2022-03-21T06:20:14.936900",
     "exception": false,
     "start_time": "2022-03-21T06:19:59.828644",
     "status": "completed"
    },
    "tags": []
   },
   "outputs": [
    {
     "name": "stdout",
     "output_type": "stream",
     "text": [
      "{'CORES_5', 'CORES_3', 'CORES_1', 'CORES_4', 'CORES_2'}\n"
     ]
    },
    {
     "name": "stdout",
     "output_type": "stream",
     "text": [
      "{'ORACLE.run1_44', 'ORACLE.run1_20', 'ORACLE.run1_50', 'ORACLE.run1_8', 'ORACLE.run1_26', 'ORACLE.run1_38', 'ORACLE.run1_14', 'ORACLE.run1_32'}\n"
     ]
    },
    {
     "name": "stdout",
     "output_type": "stream",
     "text": [
      "tensor([[[ 0.2207, -0.8955, -1.4148,  ...,  0.8358,  0.5855, -0.6649],\n",
      "         [ 0.5143,  0.5559, -0.0257,  ...,  0.7904,  0.6348,  0.2624]],\n",
      "\n",
      "        [[ 0.3813,  0.0901, -1.0879,  ...,  0.6459,  1.1710,  0.1941],\n",
      "         [ 0.1369,  0.6194,  0.7569,  ...,  0.3198,  0.4811,  0.3219]],\n",
      "\n",
      "        [[-0.5253, -0.1609,  0.6507,  ..., -1.0444, -1.0304,  0.0376],\n",
      "         [-0.0125, -0.7998, -1.2360,  ...,  0.1756,  0.2041, -0.5121]],\n",
      "\n",
      "        ...,\n",
      "\n",
      "        [[ 0.0857,  0.1039,  0.2637,  ...,  0.6418,  0.1429,  0.4326],\n",
      "         [-0.0091, -0.0221,  0.6678,  ...,  0.5924,  0.2858, -0.1494]],\n",
      "\n",
      "        [[-0.4718, -0.7281,  1.0813,  ..., -0.1224,  0.3392,  1.0660],\n",
      "         [ 0.1734, -0.9487, -0.8237,  ...,  0.4182, -0.0587, -0.7013]],\n",
      "\n",
      "        [[-0.8310,  0.1315,  1.4780,  ...,  0.0039,  0.8284,  0.9665],\n",
      "         [-0.2932, -1.2663,  0.2682,  ...,  0.3997, -0.6364, -0.0868]]])\n"
     ]
    }
   ],
   "source": [
    "from steves_utils.transforms import get_average_magnitude, get_average_power\n",
    "\n",
    "print(set([u for u,_ in val_original_source]))\n",
    "print(set([u for u,_ in val_original_target]))\n",
    "\n",
    "s_x, s_y, q_x, q_y, _ = next(iter(train_processed_source))\n",
    "print(s_x)\n",
    "\n",
    "# for ds in [\n",
    "#     train_processed_source,\n",
    "#     val_processed_source,\n",
    "#     test_processed_source,\n",
    "#     train_processed_target,\n",
    "#     val_processed_target,\n",
    "#     test_processed_target\n",
    "# ]:\n",
    "#     for s_x, s_y, q_x, q_y, _ in ds:\n",
    "#         for X in (s_x, q_x):\n",
    "#             for x in X:\n",
    "#                 assert np.isclose(get_average_magnitude(x.numpy()), 1.0)\n",
    "#                 assert np.isclose(get_average_power(x.numpy()), 1.0)\n",
    "                "
   ]
  },
  {
   "cell_type": "code",
   "execution_count": 21,
   "id": "bbdacba1",
   "metadata": {
    "execution": {
     "iopub.execute_input": "2022-03-21T06:20:14.990823Z",
     "iopub.status.busy": "2022-03-21T06:20:14.989998Z",
     "iopub.status.idle": "2022-03-21T06:20:15.182880Z",
     "shell.execute_reply": "2022-03-21T06:20:15.183593Z"
    },
    "papermill": {
     "duration": 0.220503,
     "end_time": "2022-03-21T06:20:15.183822",
     "exception": false,
     "start_time": "2022-03-21T06:20:14.963319",
     "status": "completed"
    },
    "tags": []
   },
   "outputs": [
    {
     "name": "stdout",
     "output_type": "stream",
     "text": [
      "(2, 256)\n"
     ]
    }
   ],
   "source": [
    "###################################\n",
    "# Build the model\n",
    "###################################\n",
    "# easfsl only wants a tuple for the shape\n",
    "model = Steves_Prototypical_Network(x_net, device=p.device, x_shape=tuple(p.x_shape))\n",
    "optimizer = Adam(params=model.parameters(), lr=p.lr)"
   ]
  },
  {
   "cell_type": "code",
   "execution_count": 22,
   "id": "22b39ac5",
   "metadata": {
    "execution": {
     "iopub.execute_input": "2022-03-21T06:20:15.258971Z",
     "iopub.status.busy": "2022-03-21T06:20:15.258151Z",
     "iopub.status.idle": "2022-03-21T06:48:29.642778Z",
     "shell.execute_reply": "2022-03-21T06:48:29.642388Z"
    },
    "papermill": {
     "duration": 1694.430064,
     "end_time": "2022-03-21T06:48:29.642864",
     "exception": false,
     "start_time": "2022-03-21T06:20:15.212800",
     "status": "completed"
    },
    "tags": []
   },
   "outputs": [
    {
     "name": "stdout",
     "output_type": "stream",
     "text": [
      "epoch: 1, [batch: 1 / 6315], examples_per_second: 35.1797, train_label_loss: 2.6447, \n"
     ]
    },
    {
     "name": "stdout",
     "output_type": "stream",
     "text": [
      "epoch: 1, [batch: 632 / 6315], examples_per_second: 2969.1972, train_label_loss: 0.0050, \n"
     ]
    },
    {
     "name": "stdout",
     "output_type": "stream",
     "text": [
      "epoch: 1, [batch: 1263 / 6315], examples_per_second: 2550.0124, train_label_loss: 0.0266, \n"
     ]
    },
    {
     "name": "stdout",
     "output_type": "stream",
     "text": [
      "epoch: 1, [batch: 1895 / 6315], examples_per_second: 2594.3259, train_label_loss: 0.0018, \n"
     ]
    },
    {
     "name": "stdout",
     "output_type": "stream",
     "text": [
      "epoch: 1, [batch: 2526 / 6315], examples_per_second: 2531.8285, train_label_loss: 0.0007, \n"
     ]
    },
    {
     "name": "stdout",
     "output_type": "stream",
     "text": [
      "epoch: 1, [batch: 3158 / 6315], examples_per_second: 2576.4347, train_label_loss: 0.0003, \n"
     ]
    },
    {
     "name": "stdout",
     "output_type": "stream",
     "text": [
      "epoch: 1, [batch: 3789 / 6315], examples_per_second: 2608.2720, train_label_loss: 0.0081, \n"
     ]
    },
    {
     "name": "stdout",
     "output_type": "stream",
     "text": [
      "epoch: 1, [batch: 4420 / 6315], examples_per_second: 2553.4232, train_label_loss: 0.0016, \n"
     ]
    },
    {
     "name": "stdout",
     "output_type": "stream",
     "text": [
      "epoch: 1, [batch: 5052 / 6315], examples_per_second: 2664.3985, train_label_loss: 0.0011, \n"
     ]
    },
    {
     "name": "stdout",
     "output_type": "stream",
     "text": [
      "epoch: 1, [batch: 5683 / 6315], examples_per_second: 2688.8144, train_label_loss: 0.0001, \n"
     ]
    },
    {
     "name": "stdout",
     "output_type": "stream",
     "text": [
      "=============================================================\n",
      "epoch: 1, source_val_acc_label: 0.9968, target_val_acc_label: 0.2594, source_val_label_loss: 0.0128, target_val_label_loss: 2.1903, \n",
      "=============================================================\n"
     ]
    },
    {
     "name": "stdout",
     "output_type": "stream",
     "text": [
      "New best\n"
     ]
    },
    {
     "name": "stdout",
     "output_type": "stream",
     "text": [
      "epoch: 2, [batch: 1 / 6307], examples_per_second: 2.5081, train_label_loss: 0.0010, \n"
     ]
    },
    {
     "name": "stdout",
     "output_type": "stream",
     "text": [
      "epoch: 2, [batch: 631 / 6307], examples_per_second: 2963.5928, train_label_loss: 0.0007, \n"
     ]
    },
    {
     "name": "stdout",
     "output_type": "stream",
     "text": [
      "epoch: 2, [batch: 1262 / 6307], examples_per_second: 2760.3390, train_label_loss: 0.0000, \n"
     ]
    },
    {
     "name": "stdout",
     "output_type": "stream",
     "text": [
      "epoch: 2, [batch: 1892 / 6307], examples_per_second: 2319.1398, train_label_loss: 0.0000, \n"
     ]
    },
    {
     "name": "stdout",
     "output_type": "stream",
     "text": [
      "epoch: 2, [batch: 2523 / 6307], examples_per_second: 2302.1043, train_label_loss: 0.0003, \n"
     ]
    },
    {
     "name": "stdout",
     "output_type": "stream",
     "text": [
      "epoch: 2, [batch: 3154 / 6307], examples_per_second: 2322.6527, train_label_loss: 0.0000, \n"
     ]
    },
    {
     "name": "stdout",
     "output_type": "stream",
     "text": [
      "epoch: 2, [batch: 3784 / 6307], examples_per_second: 2335.2235, train_label_loss: 0.0036, \n"
     ]
    },
    {
     "name": "stdout",
     "output_type": "stream",
     "text": [
      "epoch: 2, [batch: 4415 / 6307], examples_per_second: 2279.8365, train_label_loss: 0.0000, \n"
     ]
    },
    {
     "name": "stdout",
     "output_type": "stream",
     "text": [
      "epoch: 2, [batch: 5045 / 6307], examples_per_second: 2306.5691, train_label_loss: 0.0000, \n"
     ]
    },
    {
     "name": "stdout",
     "output_type": "stream",
     "text": [
      "epoch: 2, [batch: 5676 / 6307], examples_per_second: 2316.3184, train_label_loss: 0.0000, \n"
     ]
    },
    {
     "name": "stdout",
     "output_type": "stream",
     "text": [
      "=============================================================\n",
      "epoch: 2, source_val_acc_label: 0.9989, target_val_acc_label: 0.2660, source_val_label_loss: 0.0094, target_val_label_loss: 2.1830, \n",
      "=============================================================\n"
     ]
    },
    {
     "name": "stdout",
     "output_type": "stream",
     "text": [
      "New best\n"
     ]
    },
    {
     "name": "stdout",
     "output_type": "stream",
     "text": [
      "epoch: 3, [batch: 1 / 6326], examples_per_second: 2.1857, train_label_loss: 0.0000, \n"
     ]
    },
    {
     "name": "stdout",
     "output_type": "stream",
     "text": [
      "epoch: 3, [batch: 633 / 6326], examples_per_second: 2931.9831, train_label_loss: 0.0000, \n"
     ]
    },
    {
     "name": "stdout",
     "output_type": "stream",
     "text": [
      "epoch: 3, [batch: 1266 / 6326], examples_per_second: 3110.1218, train_label_loss: 0.0000, \n"
     ]
    },
    {
     "name": "stdout",
     "output_type": "stream",
     "text": [
      "epoch: 3, [batch: 1898 / 6326], examples_per_second: 2613.4968, train_label_loss: 0.0002, \n"
     ]
    },
    {
     "name": "stdout",
     "output_type": "stream",
     "text": [
      "epoch: 3, [batch: 2531 / 6326], examples_per_second: 2566.7504, train_label_loss: 0.0000, \n"
     ]
    },
    {
     "name": "stdout",
     "output_type": "stream",
     "text": [
      "epoch: 3, [batch: 3163 / 6326], examples_per_second: 2567.3223, train_label_loss: 0.0000, \n"
     ]
    },
    {
     "name": "stdout",
     "output_type": "stream",
     "text": [
      "epoch: 3, [batch: 3796 / 6326], examples_per_second: 2595.3029, train_label_loss: 0.0000, \n"
     ]
    },
    {
     "name": "stdout",
     "output_type": "stream",
     "text": [
      "epoch: 3, [batch: 4428 / 6326], examples_per_second: 2644.0339, train_label_loss: 0.0000, \n"
     ]
    },
    {
     "name": "stdout",
     "output_type": "stream",
     "text": [
      "epoch: 3, [batch: 5061 / 6326], examples_per_second: 2583.6521, train_label_loss: 0.0000, \n"
     ]
    },
    {
     "name": "stdout",
     "output_type": "stream",
     "text": [
      "epoch: 3, [batch: 5693 / 6326], examples_per_second: 2576.3367, train_label_loss: 0.0000, \n"
     ]
    },
    {
     "name": "stdout",
     "output_type": "stream",
     "text": [
      "=============================================================\n",
      "epoch: 3, source_val_acc_label: 0.9987, target_val_acc_label: 0.2718, source_val_label_loss: 0.0100, target_val_label_loss: 2.3571, \n",
      "=============================================================\n"
     ]
    },
    {
     "name": "stdout",
     "output_type": "stream",
     "text": [
      "New best\n"
     ]
    },
    {
     "name": "stdout",
     "output_type": "stream",
     "text": [
      "epoch: 4, [batch: 1 / 6302], examples_per_second: 2.4810, train_label_loss: 0.0000, \n"
     ]
    },
    {
     "name": "stdout",
     "output_type": "stream",
     "text": [
      "epoch: 4, [batch: 631 / 6302], examples_per_second: 3391.7649, train_label_loss: 0.0000, \n"
     ]
    },
    {
     "name": "stdout",
     "output_type": "stream",
     "text": [
      "epoch: 4, [batch: 1261 / 6302], examples_per_second: 3422.1963, train_label_loss: 0.0001, \n"
     ]
    },
    {
     "name": "stdout",
     "output_type": "stream",
     "text": [
      "epoch: 4, [batch: 1891 / 6302], examples_per_second: 3326.3308, train_label_loss: 0.0000, \n"
     ]
    },
    {
     "name": "stdout",
     "output_type": "stream",
     "text": [
      "epoch: 4, [batch: 2521 / 6302], examples_per_second: 2954.3281, train_label_loss: 0.0000, \n"
     ]
    },
    {
     "name": "stdout",
     "output_type": "stream",
     "text": [
      "epoch: 4, [batch: 3151 / 6302], examples_per_second: 2999.2955, train_label_loss: 0.0000, \n"
     ]
    },
    {
     "name": "stdout",
     "output_type": "stream",
     "text": [
      "epoch: 4, [batch: 3781 / 6302], examples_per_second: 2929.8172, train_label_loss: 0.0000, \n"
     ]
    },
    {
     "name": "stdout",
     "output_type": "stream",
     "text": [
      "epoch: 4, [batch: 4411 / 6302], examples_per_second: 2982.9841, train_label_loss: 0.0000, \n"
     ]
    },
    {
     "name": "stdout",
     "output_type": "stream",
     "text": [
      "epoch: 4, [batch: 5041 / 6302], examples_per_second: 3080.9103, train_label_loss: 0.0000, \n"
     ]
    },
    {
     "name": "stdout",
     "output_type": "stream",
     "text": [
      "epoch: 4, [batch: 5671 / 6302], examples_per_second: 2979.3256, train_label_loss: 0.0000, \n"
     ]
    },
    {
     "name": "stdout",
     "output_type": "stream",
     "text": [
      "=============================================================\n",
      "epoch: 4, source_val_acc_label: 0.9986, target_val_acc_label: 0.2675, source_val_label_loss: 0.0118, target_val_label_loss: 2.4409, \n",
      "=============================================================\n"
     ]
    },
    {
     "name": "stdout",
     "output_type": "stream",
     "text": [
      "epoch: 5, [batch: 1 / 6324], examples_per_second: 2.1379, train_label_loss: 0.0000, \n"
     ]
    },
    {
     "name": "stdout",
     "output_type": "stream",
     "text": [
      "epoch: 5, [batch: 633 / 6324], examples_per_second: 2497.5515, train_label_loss: 0.0000, \n"
     ]
    },
    {
     "name": "stdout",
     "output_type": "stream",
     "text": [
      "epoch: 5, [batch: 1265 / 6324], examples_per_second: 2622.3328, train_label_loss: 0.0002, \n"
     ]
    },
    {
     "name": "stdout",
     "output_type": "stream",
     "text": [
      "epoch: 5, [batch: 1897 / 6324], examples_per_second: 2624.3910, train_label_loss: 0.0000, \n"
     ]
    },
    {
     "name": "stdout",
     "output_type": "stream",
     "text": [
      "epoch: 5, [batch: 2530 / 6324], examples_per_second: 2438.4365, train_label_loss: 0.0041, \n"
     ]
    },
    {
     "name": "stdout",
     "output_type": "stream",
     "text": [
      "epoch: 5, [batch: 3162 / 6324], examples_per_second: 2317.9496, train_label_loss: 0.0000, \n"
     ]
    },
    {
     "name": "stdout",
     "output_type": "stream",
     "text": [
      "epoch: 5, [batch: 3794 / 6324], examples_per_second: 2332.0087, train_label_loss: 0.0000, \n"
     ]
    },
    {
     "name": "stdout",
     "output_type": "stream",
     "text": [
      "epoch: 5, [batch: 4427 / 6324], examples_per_second: 2311.1211, train_label_loss: 0.0000, \n"
     ]
    },
    {
     "name": "stdout",
     "output_type": "stream",
     "text": [
      "epoch: 5, [batch: 5059 / 6324], examples_per_second: 2571.8578, train_label_loss: 0.0000, \n"
     ]
    },
    {
     "name": "stdout",
     "output_type": "stream",
     "text": [
      "epoch: 5, [batch: 5691 / 6324], examples_per_second: 2681.6982, train_label_loss: 0.0000, \n"
     ]
    },
    {
     "name": "stdout",
     "output_type": "stream",
     "text": [
      "=============================================================\n",
      "epoch: 5, source_val_acc_label: 0.9993, target_val_acc_label: 0.2342, source_val_label_loss: 0.0090, target_val_label_loss: 3.1712, \n",
      "=============================================================\n"
     ]
    },
    {
     "name": "stdout",
     "output_type": "stream",
     "text": [
      "epoch: 6, [batch: 1 / 6313], examples_per_second: 2.2565, train_label_loss: 0.0000, \n"
     ]
    },
    {
     "name": "stdout",
     "output_type": "stream",
     "text": [
      "epoch: 6, [batch: 632 / 6313], examples_per_second: 2610.4232, train_label_loss: 0.0000, \n"
     ]
    },
    {
     "name": "stdout",
     "output_type": "stream",
     "text": [
      "epoch: 6, [batch: 1263 / 6313], examples_per_second: 2900.9625, train_label_loss: 0.0000, \n"
     ]
    },
    {
     "name": "stdout",
     "output_type": "stream",
     "text": [
      "epoch: 6, [batch: 1894 / 6313], examples_per_second: 2973.8869, train_label_loss: 0.0000, \n"
     ]
    },
    {
     "name": "stdout",
     "output_type": "stream",
     "text": [
      "epoch: 6, [batch: 2525 / 6313], examples_per_second: 3023.5762, train_label_loss: 0.0000, \n"
     ]
    },
    {
     "name": "stdout",
     "output_type": "stream",
     "text": [
      "epoch: 6, [batch: 3157 / 6313], examples_per_second: 2664.1548, train_label_loss: 0.0000, \n"
     ]
    },
    {
     "name": "stdout",
     "output_type": "stream",
     "text": [
      "epoch: 6, [batch: 3788 / 6313], examples_per_second: 2632.7989, train_label_loss: 0.0000, \n"
     ]
    },
    {
     "name": "stdout",
     "output_type": "stream",
     "text": [
      "epoch: 6, [batch: 4419 / 6313], examples_per_second: 2560.6117, train_label_loss: 0.0000, \n"
     ]
    },
    {
     "name": "stdout",
     "output_type": "stream",
     "text": [
      "epoch: 6, [batch: 5050 / 6313], examples_per_second: 3008.2223, train_label_loss: 0.0000, \n"
     ]
    },
    {
     "name": "stdout",
     "output_type": "stream",
     "text": [
      "epoch: 6, [batch: 5681 / 6313], examples_per_second: 3005.6907, train_label_loss: 0.0000, \n"
     ]
    },
    {
     "name": "stdout",
     "output_type": "stream",
     "text": [
      "=============================================================\n",
      "epoch: 6, source_val_acc_label: 0.9995, target_val_acc_label: 0.2271, source_val_label_loss: 0.0100, target_val_label_loss: 3.5629, \n",
      "=============================================================\n"
     ]
    },
    {
     "name": "stdout",
     "output_type": "stream",
     "text": [
      "epoch: 7, [batch: 1 / 6295], examples_per_second: 2.3342, train_label_loss: 0.0000, \n"
     ]
    },
    {
     "name": "stdout",
     "output_type": "stream",
     "text": [
      "epoch: 7, [batch: 630 / 6295], examples_per_second: 2313.8953, train_label_loss: 0.0000, \n"
     ]
    },
    {
     "name": "stdout",
     "output_type": "stream",
     "text": [
      "epoch: 7, [batch: 1259 / 6295], examples_per_second: 2314.8827, train_label_loss: 0.0000, \n"
     ]
    },
    {
     "name": "stdout",
     "output_type": "stream",
     "text": [
      "epoch: 7, [batch: 1889 / 6295], examples_per_second: 2554.0005, train_label_loss: 0.0000, \n"
     ]
    },
    {
     "name": "stdout",
     "output_type": "stream",
     "text": [
      "epoch: 7, [batch: 2518 / 6295], examples_per_second: 2560.1649, train_label_loss: 0.0000, \n"
     ]
    },
    {
     "name": "stdout",
     "output_type": "stream",
     "text": [
      "epoch: 7, [batch: 3148 / 6295], examples_per_second: 2662.1410, train_label_loss: 0.0001, \n"
     ]
    },
    {
     "name": "stdout",
     "output_type": "stream",
     "text": [
      "epoch: 7, [batch: 3777 / 6295], examples_per_second: 2308.6147, train_label_loss: 0.0000, \n"
     ]
    },
    {
     "name": "stdout",
     "output_type": "stream",
     "text": [
      "epoch: 7, [batch: 4406 / 6295], examples_per_second: 2281.7637, train_label_loss: 0.0000, \n"
     ]
    },
    {
     "name": "stdout",
     "output_type": "stream",
     "text": [
      "epoch: 7, [batch: 5036 / 6295], examples_per_second: 2284.1773, train_label_loss: 0.0000, \n"
     ]
    },
    {
     "name": "stdout",
     "output_type": "stream",
     "text": [
      "epoch: 7, [batch: 5665 / 6295], examples_per_second: 2358.7425, train_label_loss: 0.0000, \n"
     ]
    },
    {
     "name": "stdout",
     "output_type": "stream",
     "text": [
      "=============================================================\n",
      "epoch: 7, source_val_acc_label: 0.9996, target_val_acc_label: 0.2617, source_val_label_loss: 0.0103, target_val_label_loss: 3.1179, \n",
      "=============================================================\n"
     ]
    },
    {
     "name": "stdout",
     "output_type": "stream",
     "text": [
      "Patience (3) exhausted\n"
     ]
    }
   ],
   "source": [
    "###################################\n",
    "# train\n",
    "###################################\n",
    "jig = PTN_Train_Eval_Test_Jig(model, p.BEST_MODEL_PATH, p.device)\n",
    "\n",
    "jig.train(\n",
    "    train_iterable=datasets.source.processed.train,\n",
    "    source_val_iterable=datasets.source.processed.val,\n",
    "    target_val_iterable=datasets.target.processed.val,\n",
    "    num_epochs=p.n_epoch,\n",
    "    num_logs_per_epoch=p.NUM_LOGS_PER_EPOCH,\n",
    "    patience=p.patience,\n",
    "    optimizer=optimizer,\n",
    "    criteria_for_best=p.criteria_for_best,\n",
    ")"
   ]
  },
  {
   "cell_type": "code",
   "execution_count": 23,
   "id": "31e8fabf",
   "metadata": {
    "execution": {
     "iopub.execute_input": "2022-03-21T06:48:29.738223Z",
     "iopub.status.busy": "2022-03-21T06:48:29.737255Z",
     "iopub.status.idle": "2022-03-21T06:48:29.771889Z",
     "shell.execute_reply": "2022-03-21T06:48:29.771043Z"
    },
    "papermill": {
     "duration": 0.085637,
     "end_time": "2022-03-21T06:48:29.772065",
     "exception": false,
     "start_time": "2022-03-21T06:48:29.686428",
     "status": "completed"
    },
    "tags": []
   },
   "outputs": [],
   "source": [
    "total_experiment_time_secs = time.time() - start_time_secs"
   ]
  },
  {
   "cell_type": "code",
   "execution_count": 24,
   "id": "87b9595b",
   "metadata": {
    "execution": {
     "iopub.execute_input": "2022-03-21T06:48:29.879614Z",
     "iopub.status.busy": "2022-03-21T06:48:29.878739Z",
     "iopub.status.idle": "2022-03-21T06:52:56.698654Z",
     "shell.execute_reply": "2022-03-21T06:52:56.697788Z"
    },
    "papermill": {
     "duration": 266.875914,
     "end_time": "2022-03-21T06:52:56.698843",
     "exception": false,
     "start_time": "2022-03-21T06:48:29.822929",
     "status": "completed"
    },
    "tags": []
   },
   "outputs": [],
   "source": [
    "###################################\n",
    "# Evaluate the model\n",
    "###################################\n",
    "source_test_label_accuracy, source_test_label_loss = jig.test(datasets.source.processed.test)\n",
    "target_test_label_accuracy, target_test_label_loss = jig.test(datasets.target.processed.test)\n",
    "\n",
    "source_val_label_accuracy, source_val_label_loss = jig.test(datasets.source.processed.val)\n",
    "target_val_label_accuracy, target_val_label_loss = jig.test(datasets.target.processed.val)\n",
    "\n",
    "history = jig.get_history()\n",
    "\n",
    "total_epochs_trained = len(history[\"epoch_indices\"])\n",
    "\n",
    "val_dl = Iterable_Aggregator((datasets.source.original.val,datasets.target.original.val))\n",
    "\n",
    "confusion = ptn_confusion_by_domain_over_dataloader(model, p.device, val_dl)\n",
    "per_domain_accuracy = per_domain_accuracy_from_confusion(confusion)\n",
    "\n",
    "# Add a key to per_domain_accuracy for if it was a source domain\n",
    "for domain, accuracy in per_domain_accuracy.items():\n",
    "    per_domain_accuracy[domain] = {\n",
    "        \"accuracy\": accuracy,\n",
    "        \"source?\": domain in p.domains_source\n",
    "    }\n",
    "\n",
    "# Do an independent accuracy assesment JUST TO BE SURE!\n",
    "# _source_test_label_accuracy = independent_accuracy_assesment(model, datasets.source.processed.test, p.device)\n",
    "# _target_test_label_accuracy = independent_accuracy_assesment(model, datasets.target.processed.test, p.device)\n",
    "# _source_val_label_accuracy = independent_accuracy_assesment(model, datasets.source.processed.val, p.device)\n",
    "# _target_val_label_accuracy = independent_accuracy_assesment(model, datasets.target.processed.val, p.device)\n",
    "\n",
    "# assert(_source_test_label_accuracy == source_test_label_accuracy)\n",
    "# assert(_target_test_label_accuracy == target_test_label_accuracy)\n",
    "# assert(_source_val_label_accuracy == source_val_label_accuracy)\n",
    "# assert(_target_val_label_accuracy == target_val_label_accuracy)\n",
    "\n",
    "experiment = {\n",
    "    \"experiment_name\": p.experiment_name,\n",
    "    \"parameters\": dict(p),\n",
    "    \"results\": {\n",
    "        \"source_test_label_accuracy\": source_test_label_accuracy,\n",
    "        \"source_test_label_loss\": source_test_label_loss,\n",
    "        \"target_test_label_accuracy\": target_test_label_accuracy,\n",
    "        \"target_test_label_loss\": target_test_label_loss,\n",
    "        \"source_val_label_accuracy\": source_val_label_accuracy,\n",
    "        \"source_val_label_loss\": source_val_label_loss,\n",
    "        \"target_val_label_accuracy\": target_val_label_accuracy,\n",
    "        \"target_val_label_loss\": target_val_label_loss,\n",
    "        \"total_epochs_trained\": total_epochs_trained,\n",
    "        \"total_experiment_time_secs\": total_experiment_time_secs,\n",
    "        \"confusion\": confusion,\n",
    "        \"per_domain_accuracy\": per_domain_accuracy,\n",
    "    },\n",
    "    \"history\": history,\n",
    "    \"dataset_metrics\": get_dataset_metrics(datasets, \"ptn\"),\n",
    "}"
   ]
  },
  {
   "cell_type": "code",
   "execution_count": 25,
   "id": "54a21829",
   "metadata": {
    "execution": {
     "iopub.execute_input": "2022-03-21T06:52:56.797678Z",
     "iopub.status.busy": "2022-03-21T06:52:56.797312Z",
     "iopub.status.idle": "2022-03-21T06:52:57.022688Z",
     "shell.execute_reply": "2022-03-21T06:52:57.023370Z"
    },
    "papermill": {
     "duration": 0.273469,
     "end_time": "2022-03-21T06:52:57.023591",
     "exception": false,
     "start_time": "2022-03-21T06:52:56.750122",
     "status": "completed"
    },
    "tags": []
   },
   "outputs": [
    {
     "data": {
      "image/png": "[encoded data removed]",
      "text/plain": [
       "<Figure size 1080x504 with 1 Axes>"
      ]
     },
     "metadata": {
      "needs_background": "light"
     },
     "output_type": "display_data"
    }
   ],
   "source": [
    "ax = get_loss_curve(experiment)\n",
    "plt.show()"
   ]
  },
  {
   "cell_type": "code",
   "execution_count": 26,
   "id": "fd8a0f60",
   "metadata": {
    "execution": {
     "iopub.execute_input": "2022-03-21T06:52:57.124180Z",
     "iopub.status.busy": "2022-03-21T06:52:57.123670Z",
     "iopub.status.idle": "2022-03-21T06:52:57.473264Z",
     "shell.execute_reply": "2022-03-21T06:52:57.473934Z"
    },
    "papermill": {
     "duration": 0.400208,
     "end_time": "2022-03-21T06:52:57.474123",
     "exception": false,
     "start_time": "2022-03-21T06:52:57.073915",
     "status": "completed"
    },
    "tags": []
   },
   "outputs": [
    {
     "data": {
      "text/plain": [
       "<AxesSubplot:title={'center':'Results'}>"
      ]
     },
     "execution_count": 26,
     "metadata": {},
     "output_type": "execute_result"
    },
    {
     "data": {
      "image/png": "[encoded data removed]",
      "text/plain": [
       "<Figure size 1080x504 with 1 Axes>"
      ]
     },
     "metadata": {
      "needs_background": "light"
     },
     "output_type": "display_data"
    }
   ],
   "source": [
    "get_results_table(experiment)"
   ]
  },
  {
   "cell_type": "code",
   "execution_count": 27,
   "id": "cf8dc689",
   "metadata": {
    "execution": {
     "iopub.execute_input": "2022-03-21T06:52:57.577229Z",
     "iopub.status.busy": "2022-03-21T06:52:57.576861Z",
     "iopub.status.idle": "2022-03-21T06:52:57.832496Z",
     "shell.execute_reply": "2022-03-21T06:52:57.833176Z"
    },
    "papermill": {
     "duration": 0.306523,
     "end_time": "2022-03-21T06:52:57.833365",
     "exception": false,
     "start_time": "2022-03-21T06:52:57.526842",
     "status": "completed"
    },
    "tags": []
   },
   "outputs": [
    {
     "data": {
      "text/plain": [
       "<AxesSubplot:title={'center':'Per Domain Validation Accuracy'}, xlabel='domain'>"
      ]
     },
     "execution_count": 27,
     "metadata": {},
     "output_type": "execute_result"
    },
    {
     "data": {
      "image/png": "[encoded data removed]",
      "text/plain": [
       "<Figure size 1080x504 with 1 Axes>"
      ]
     },
     "metadata": {
      "needs_background": "light"
     },
     "output_type": "display_data"
    }
   ],
   "source": [
    "get_domain_accuracies(experiment)"
   ]
  },
  {
   "cell_type": "code",
   "execution_count": 28,
   "id": "a74ae082",
   "metadata": {
    "execution": {
     "iopub.execute_input": "2022-03-21T06:52:57.947293Z",
     "iopub.status.busy": "2022-03-21T06:52:57.946920Z",
     "iopub.status.idle": "2022-03-21T06:52:57.971869Z",
     "shell.execute_reply": "2022-03-21T06:52:57.972550Z"
    },
    "papermill": {
     "duration": 0.081809,
     "end_time": "2022-03-21T06:52:57.972736",
     "exception": false,
     "start_time": "2022-03-21T06:52:57.890927",
     "status": "completed"
    },
    "tags": []
   },
   "outputs": [
    {
     "name": "stdout",
     "output_type": "stream",
     "text": [
      "Source Test Label Accuracy: 0.9990124153498872 Target Test Label Accuracy: 0.27177734375\n",
      "Source Val Label Accuracy: 0.9987142857142857 Target Val Label Accuracy: 0.2718098958333333\n"
     ]
    }
   ],
   "source": [
    "print(\"Source Test Label Accuracy:\", experiment[\"results\"][\"source_test_label_accuracy\"], \"Target Test Label Accuracy:\", experiment[\"results\"][\"target_test_label_accuracy\"])\n",
    "print(\"Source Val Label Accuracy:\", experiment[\"results\"][\"source_val_label_accuracy\"], \"Target Val Label Accuracy:\", experiment[\"results\"][\"target_val_label_accuracy\"])"
   ]
  },
  {
   "cell_type": "code",
   "execution_count": 29,
   "id": "dacca602",
   "metadata": {
    "execution": {
     "iopub.execute_input": "2022-03-21T06:52:58.081476Z",
     "iopub.status.busy": "2022-03-21T06:52:58.081112Z",
     "iopub.status.idle": "2022-03-21T06:52:58.109104Z",
     "shell.execute_reply": "2022-03-21T06:52:58.109779Z"
    },
    "papermill": {
     "duration": 0.082389,
     "end_time": "2022-03-21T06:52:58.109965",
     "exception": false,
     "start_time": "2022-03-21T06:52:58.027576",
     "status": "completed"
    },
    "tags": [
     "experiment_json"
    ]
   },
   "outputs": [
    {
     "data": {
      "text/plain": [
       "'{\"experiment_name\": \"tl_1v2:cores-oracle.run1.framed\", \"parameters\": {\"experiment_name\": \"tl_1v2:cores-oracle.run1.framed\", \"device\": \"cuda\", \"lr\": 0.0001, \"n_shot\": 3, \"n_query\": 2, \"train_k_factor\": 3, \"val_k_factor\": 2, \"test_k_factor\": 2, \"torch_default_dtype\": \"torch.float32\", \"n_epoch\": 50, \"patience\": 3, \"criteria_for_best\": \"target_accuracy\", \"x_net\": [{\"class\": \"nnReshape\", \"kargs\": {\"shape\": [-1, 1, 2, 256]}}, {\"class\": \"Conv2d\", \"kargs\": {\"in_channels\": 1, \"out_channels\": 256, \"kernel_size\": [1, 7], \"bias\": false, \"padding\": [0, 3]}}, {\"class\": \"ReLU\", \"kargs\": {\"inplace\": true}}, {\"class\": \"BatchNorm2d\", \"kargs\": {\"num_features\": 256}}, {\"class\": \"Conv2d\", \"kargs\": {\"in_channels\": 256, \"out_channels\": 80, \"kernel_size\": [2, 7], \"bias\": true, \"padding\": [0, 3]}}, {\"class\": \"ReLU\", \"kargs\": {\"inplace\": true}}, {\"class\": \"BatchNorm2d\", \"kargs\": {\"num_features\": 80}}, {\"class\": \"Flatten\", \"kargs\": {}}, {\"class\": \"Linear\", \"kargs\": {\"in_features\": 20480, \"out_features\": 256}}, {\"class\": \"ReLU\", \"kargs\": {\"inplace\": true}}, {\"class\": \"BatchNorm1d\", \"kargs\": {\"num_features\": 256}}, {\"class\": \"Linear\", \"kargs\": {\"in_features\": 256, \"out_features\": 256}}], \"NUM_LOGS_PER_EPOCH\": 10, \"BEST_MODEL_PATH\": \"./best_model.pth\", \"n_way\": 16, \"datasets\": [{\"labels\": [\"1-10.\", \"1-11.\", \"1-15.\", \"1-16.\", \"1-17.\", \"1-18.\", \"1-19.\", \"10-4.\", \"10-7.\", \"11-1.\", \"11-14.\", \"11-17.\", \"11-20.\", \"11-7.\", \"13-20.\", \"13-8.\", \"14-10.\", \"14-11.\", \"14-14.\", \"14-7.\", \"15-1.\", \"15-20.\", \"16-1.\", \"16-16.\", \"17-10.\", \"17-11.\", \"17-2.\", \"19-1.\", \"19-16.\", \"19-19.\", \"19-20.\", \"19-3.\", \"2-10.\", \"2-11.\", \"2-17.\", \"2-18.\", \"2-20.\", \"2-3.\", \"2-4.\", \"2-5.\", \"2-6.\", \"2-7.\", \"2-8.\", \"3-13.\", \"3-18.\", \"3-3.\", \"4-1.\", \"4-10.\", \"4-11.\", \"4-19.\", \"5-5.\", \"6-15.\", \"7-10.\", \"7-14.\", \"8-18.\", \"8-20.\", \"8-3.\", \"8-8.\"], \"domains\": [1, 2, 3, 4, 5], \"num_examples_per_domain_per_label\": -1, \"pickle_path\": \"/root/csc500-main/datasets/cores.stratified_ds.2022A.pkl\", \"source_or_target_dataset\": \"source\", \"x_transforms\": [\"unit_mag\"], \"episode_transforms\": [], \"domain_prefix\": \"CORES_\"}, {\"labels\": [\"3123D52\", \"3123D65\", \"3123D79\", \"3123D80\", \"3123D54\", \"3123D70\", \"3123D7B\", \"3123D89\", \"3123D58\", \"3123D76\", \"3123D7D\", \"3123EFE\", \"3123D64\", \"3123D78\", \"3123D7E\", \"3124E4A\"], \"domains\": [32, 38, 8, 44, 14, 50, 20, 26], \"num_examples_per_domain_per_label\": 2000, \"pickle_path\": \"/root/csc500-main/datasets/oracle.Run1_framed_2000Examples_stratified_ds.2022A.pkl\", \"source_or_target_dataset\": \"target\", \"x_transforms\": [\"unit_mag\"], \"episode_transforms\": [], \"domain_prefix\": \"ORACLE.run1_\"}], \"dataset_seed\": 420, \"seed\": 420, \"x_shape\": [2, 256], \"domains_source\": [\"CORES_1\", \"CORES_2\", \"CORES_3\", \"CORES_4\", \"CORES_5\"], \"domains_target\": [\"ORACLE.run1_32\", \"ORACLE.run1_38\", \"ORACLE.run1_8\", \"ORACLE.run1_44\", \"ORACLE.run1_14\", \"ORACLE.run1_50\", \"ORACLE.run1_20\", \"ORACLE.run1_26\"]}, \"results\": {\"source_test_label_accuracy\": 0.9990124153498872, \"source_test_label_loss\": 0.009159998968243599, \"target_test_label_accuracy\": 0.27177734375, \"target_test_label_loss\": 2.353891372680664, \"source_val_label_accuracy\": 0.9987142857142857, \"source_val_label_loss\": 0.009976303204894066, \"target_val_label_accuracy\": 0.2718098958333333, \"target_val_label_loss\": 2.3570940494537354, \"total_epochs_trained\": 7, \"total_experiment_time_secs\": 1752.5981621742249, \"confusion\": {\"CORES_4\": {\"42\": {\"42\": 32}, \"0\": {\"0\": 80}, \"1\": {\"1\": 40}, \"39\": {\"39\": 20}, \"28\": {\"28\": 32}, \"53\": {\"53\": 123, \"50\": 1}, \"19\": {\"19\": 144}, \"34\": {\"34\": 24}, \"33\": {\"33\": 36}, \"32\": {\"32\": 24}, \"10\": {\"10\": 136}, \"46\": {\"46\": 133, \"47\": 1}, \"20\": {\"20\": 119, \"50\": 1, \"21\": 1, \"3\": 1}, \"5\": {\"5\": 107, \"3\": 1}, \"40\": {\"40\": 124}, \"51\": {\"51\": 144}, \"37\": {\"37\": 24}, \"17\": {\"17\": 80}, \"45\": {\"45\": 96}, \"13\": {\"13\": 142}, \"27\": {\"27\": 144}, \"24\": {\"24\": 56}, \"30\": {\"30\": 44}, \"31\": {\"31\": 27, \"1\": 1}, \"41\": {\"41\": 34, \"10\": 1, \"13\": 1}, \"36\": {\"36\": 92}, \"16\": {\"16\": 96}, \"22\": {\"22\": 128}, \"44\": {\"44\": 132}, \"9\": {\"9\": 140}, \"57\": {\"57\": 100}, \"8\": {\"8\": 138}, \"23\": {\"23\": 132}, \"47\": {\"47\": 120}, \"43\": {\"43\": 138}, \"49\": {\"49\": 20}, \"3\": {\"3\": 123, \"50\": 1}, \"12\": {\"12\": 92}, \"38\": {\"38\": 40}, \"7\": {\"7\": 24}, \"14\": {\"14\": 16}, \"15\": {\"15\": 146}, \"25\": {\"25\": 128}, \"26\": {\"26\": 24}, \"21\": {\"21\": 132}, \"48\": {\"48\": 144}, \"56\": {\"56\": 134}, \"11\": {\"11\": 103, \"15\": 1}, \"2\": {\"2\": 36}, \"6\": {\"6\": 111, \"3\": 1}, \"55\": {\"55\": 140}, \"54\": {\"54\": 108}, \"29\": {\"29\": 124}, \"50\": {\"21\": 1, \"50\": 120, \"3\": 1}, \"52\": {\"52\": 116}, \"35\": {\"35\": 40}, \"4\": {\"4\": 120}, \"18\": {\"18\": 108}}, \"CORES_5\": {\"43\": {\"43\": 152}, \"35\": {\"35\": 36}, \"54\": {\"54\": 112}, \"22\": {\"22\": 28}, \"16\": {\"16\": 146}, \"5\": {\"5\": 128}, \"28\": {\"28\": 32}, \"14\": {\"14\": 44}, \"51\": {\"51\": 128}, \"19\": {\"19\": 140}, \"31\": {\"31\": 36}, \"10\": {\"10\": 67, \"24\": 1}, \"21\": {\"21\": 136}, \"3\": {\"3\": 100}, \"57\": {\"57\": 132}, \"9\": {\"9\": 146}, \"8\": {\"8\": 132}, \"46\": {\"46\": 140}, \"23\": {\"23\": 124}, \"37\": {\"37\": 24}, \"34\": {\"34\": 36}, \"4\": {\"4\": 100}, \"6\": {\"6\": 125, \"17\": 3}, \"48\": {\"48\": 136}, \"44\": {\"44\": 138}, \"40\": {\"40\": 124}, \"12\": {\"12\": 96}, \"30\": {\"30\": 128}, \"39\": {\"39\": 20}, \"45\": {\"45\": 124}, \"36\": {\"36\": 91, \"57\": 1}, \"27\": {\"27\": 140}, \"32\": {\"32\": 32}, \"52\": {\"52\": 130}, \"0\": {\"0\": 124}, \"26\": {\"26\": 24}, \"1\": {\"1\": 145, \"48\": 1, \"9\": 1, \"6\": 1}, \"53\": {\"53\": 145, \"17\": 1}, \"25\": {\"25\": 144}, \"24\": {\"24\": 80}, \"7\": {\"7\": 32}, \"18\": {\"18\": 64}, \"20\": {\"20\": 144}, \"33\": {\"33\": 32}, \"55\": {\"55\": 140}, \"41\": {\"41\": 28}, \"42\": {\"42\": 39, \"11\": 1}, \"49\": {\"49\": 36}, \"13\": {\"13\": 148}, \"38\": {\"38\": 32}, \"2\": {\"2\": 28}, \"47\": {\"47\": 100}, \"17\": {\"17\": 116}, \"11\": {\"11\": 153, \"46\": 1}, \"29\": {\"29\": 132}, \"50\": {\"50\": 138}, \"56\": {\"56\": 148}, \"15\": {\"15\": 142}}, \"CORES_2\": {\"49\": {\"49\": 24}, \"13\": {\"13\": 116}, \"37\": {\"37\": 36}, \"41\": {\"41\": 20}, \"15\": {\"15\": 142}, \"56\": {\"56\": 142}, \"14\": {\"14\": 24}, \"3\": {\"3\": 92}, \"38\": {\"38\": 20}, \"43\": {\"43\": 138}, \"33\": {\"33\": 28}, \"47\": {\"47\": 138}, \"30\": {\"30\": 144}, \"39\": {\"39\": 28}, \"12\": {\"12\": 92}, \"6\": {\"6\": 124}, \"51\": {\"51\": 134}, \"5\": {\"5\": 120}, \"34\": {\"34\": 28}, \"35\": {\"35\": 32}, \"0\": {\"0\": 48}, \"7\": {\"7\": 36}, \"24\": {\"24\": 96}, \"8\": {\"8\": 136}, \"20\": {\"20\": 124}, \"36\": {\"36\": 116}, \"42\": {\"42\": 36}, \"1\": {\"1\": 112}, \"4\": {\"4\": 148}, \"28\": {\"28\": 28}, \"50\": {\"50\": 136}, \"45\": {\"45\": 128}, \"18\": {\"18\": 48}, \"57\": {\"57\": 120}, \"46\": {\"46\": 128}, \"23\": {\"23\": 148}, \"27\": {\"27\": 138}, \"19\": {\"19\": 134}, \"22\": {\"22\": 136}, \"17\": {\"17\": 104}, \"55\": {\"55\": 136}, \"44\": {\"44\": 100}, \"26\": {\"26\": 24}, \"31\": {\"31\": 28}, \"16\": {\"16\": 130}, \"11\": {\"11\": 128}, \"25\": {\"25\": 126}, \"54\": {\"54\": 108}, \"32\": {\"32\": 28}, \"52\": {\"52\": 124}, \"40\": {\"40\": 132}, \"2\": {\"2\": 32}, \"10\": {\"10\": 110}, \"53\": {\"53\": 136}, \"9\": {\"9\": 150}, \"21\": {\"21\": 120}, \"48\": {\"48\": 137, \"1\": 1}, \"29\": {\"29\": 128}}, \"CORES_1\": {\"9\": {\"9\": 142}, \"25\": {\"25\": 128}, \"41\": {\"41\": 24}, \"29\": {\"29\": 140}, \"46\": {\"46\": 128}, \"4\": {\"4\": 132}, \"31\": {\"31\": 28}, \"36\": {\"36\": 64}, \"20\": {\"20\": 128}, \"7\": {\"7\": 28}, \"6\": {\"6\": 96}, \"16\": {\"16\": 138}, \"17\": {\"17\": 64}, \"50\": {\"50\": 147, \"48\": 1}, \"57\": {\"57\": 144}, \"23\": {\"23\": 136}, \"3\": {\"3\": 126}, \"53\": {\"53\": 140}, \"49\": {\"49\": 32}, \"56\": {\"56\": 152}, \"51\": {\"51\": 142}, \"26\": {\"26\": 24}, \"43\": {\"43\": 144}, \"22\": {\"22\": 136}, \"45\": {\"45\": 146}, \"13\": {\"13\": 152}, \"12\": {\"12\": 116}, \"54\": {\"54\": 104}, \"24\": {\"24\": 107, \"22\": 1}, \"44\": {\"44\": 136}, \"28\": {\"28\": 28}, \"33\": {\"33\": 32}, \"38\": {\"38\": 24}, \"0\": {\"0\": 144}, \"47\": {\"47\": 154}, \"42\": {\"42\": 40}, \"34\": {\"34\": 24}, \"48\": {\"48\": 141, \"50\": 1}, \"35\": {\"35\": 36}, \"2\": {\"2\": 36}, \"30\": {\"30\": 120}, \"18\": {\"18\": 72}, \"37\": {\"37\": 32}, \"1\": {\"1\": 100}, \"11\": {\"11\": 138}, \"55\": {\"55\": 130}, \"15\": {\"15\": 150}, \"10\": {\"10\": 96}, \"27\": {\"27\": 160}, \"19\": {\"19\": 146}, \"14\": {\"8\": 1, \"14\": 23}, \"8\": {\"8\": 140}, \"5\": {\"5\": 136}, \"39\": {\"39\": 28}, \"52\": {\"52\": 122}, \"21\": {\"21\": 124}, \"40\": {\"40\": 152}, \"32\": {\"32\": 32}}, \"CORES_3\": {\"56\": {\"56\": 120}, \"4\": {\"4\": 146}, \"34\": {\"34\": 32}, \"52\": {\"52\": 136}, \"32\": {\"32\": 28}, \"46\": {\"46\": 136}, \"12\": {\"12\": 90, \"51\": 2}, \"20\": {\"20\": 132}, \"54\": {\"54\": 100}, \"22\": {\"22\": 140}, \"26\": {\"26\": 24}, \"31\": {\"31\": 28}, \"10\": {\"10\": 64}, \"27\": {\"27\": 144}, \"40\": {\"40\": 136}, \"28\": {\"28\": 28}, \"5\": {\"5\": 116}, \"30\": {\"30\": 120}, \"7\": {\"7\": 36}, \"18\": {\"18\": 84}, \"39\": {\"39\": 16}, \"50\": {\"50\": 136}, \"49\": {\"49\": 20}, \"43\": {\"43\": 122}, \"29\": {\"29\": 114}, \"35\": {\"35\": 28}, \"13\": {\"13\": 124}, \"36\": {\"36\": 100}, \"11\": {\"11\": 146}, \"57\": {\"57\": 124}, \"9\": {\"9\": 130}, \"25\": {\"25\": 130}, \"16\": {\"16\": 126}, \"53\": {\"53\": 118}, \"33\": {\"33\": 28}, \"51\": {\"51\": 128}, \"44\": {\"44\": 88}, \"48\": {\"48\": 114}, \"6\": {\"6\": 88}, \"23\": {\"23\": 144}, \"1\": {\"1\": 100}, \"17\": {\"41\": 1, \"33\": 1, \"17\": 105, \"53\": 1}, \"21\": {\"21\": 122}, \"14\": {\"14\": 40}, \"55\": {\"55\": 144}, \"41\": {\"41\": 28}, \"3\": {\"3\": 138}, \"38\": {\"38\": 28}, \"2\": {\"2\": 32}, \"8\": {\"8\": 142}, \"37\": {\"37\": 28}, \"45\": {\"45\": 60}, \"42\": {\"42\": 28}, \"24\": {\"24\": 104}, \"15\": {\"15\": 136}, \"0\": {\"0\": 124}, \"47\": {\"47\": 91, \"6\": 1}, \"19\": {\"19\": 120}}, \"ORACLE.run1_14\": {\"15\": {\"5\": 13, \"15\": 105, \"6\": 9, \"2\": 12, \"7\": 70, \"13\": 11, \"14\": 2, \"1\": 11, \"4\": 7}, \"5\": {\"3\": 21, \"2\": 19, \"5\": 33, \"1\": 32, \"6\": 14, \"0\": 15, \"7\": 23, \"15\": 15, \"10\": 7, \"13\": 15, \"4\": 27, \"14\": 8, \"8\": 11}, \"7\": {\"7\": 71, \"1\": 26, \"15\": 73, \"6\": 10, \"2\": 8, \"4\": 19, \"5\": 16, \"8\": 2, \"13\": 11, \"0\": 1, \"14\": 2, \"3\": 1}, \"4\": {\"13\": 19, \"10\": 13, \"4\": 39, \"1\": 23, \"5\": 17, \"2\": 6, \"7\": 16, \"3\": 40, \"0\": 18, \"8\": 11, \"15\": 14, \"14\": 13, \"6\": 11}, \"10\": {\"10\": 56, \"11\": 34, \"0\": 39, \"3\": 28, \"5\": 8, \"14\": 4, \"4\": 24, \"2\": 6, \"8\": 8, \"6\": 10, \"13\": 5, \"9\": 14, \"1\": 4}, \"11\": {\"0\": 32, \"11\": 99, \"12\": 14, \"9\": 31, \"10\": 32, \"4\": 8, \"14\": 7, \"5\": 4, \"3\": 6, \"13\": 3, \"8\": 1, \"6\": 3}, \"12\": {\"9\": 47, \"12\": 176, \"11\": 13, \"8\": 3, \"10\": 1}, \"0\": {\"0\": 36, \"4\": 20, \"10\": 42, \"3\": 22, \"9\": 19, \"5\": 9, \"1\": 12, \"14\": 7, \"11\": 52, \"8\": 12, \"2\": 3, \"6\": 1, \"13\": 5}, \"14\": {\"15\": 5, \"2\": 28, \"14\": 60, \"13\": 28, \"10\": 12, \"0\": 10, \"5\": 15, \"6\": 37, \"3\": 14, \"11\": 6, \"4\": 15, \"7\": 5, \"1\": 5}, \"8\": {\"8\": 121, \"10\": 14, \"9\": 36, \"4\": 16, \"1\": 16, \"3\": 9, \"11\": 4, \"5\": 5, \"12\": 3, \"0\": 11, \"7\": 3, \"13\": 1, \"15\": 1}, \"13\": {\"2\": 35, \"14\": 40, \"13\": 36, \"4\": 13, \"6\": 33, \"7\": 10, \"3\": 18, \"10\": 16, \"15\": 8, \"5\": 17, \"0\": 7, \"1\": 5, \"11\": 2}, \"6\": {\"3\": 13, \"6\": 46, \"13\": 39, \"5\": 15, \"2\": 36, \"11\": 3, \"0\": 7, \"7\": 6, \"15\": 9, \"14\": 41, \"4\": 7, \"10\": 11, \"1\": 7}, \"1\": {\"1\": 58, \"4\": 29, \"5\": 31, \"10\": 9, \"2\": 13, \"3\": 21, \"15\": 15, \"7\": 19, \"8\": 22, \"13\": 7, \"14\": 5, \"6\": 8, \"11\": 1, \"0\": 2}, \"3\": {\"10\": 40, \"3\": 33, \"5\": 20, \"11\": 1, \"14\": 14, \"1\": 19, \"4\": 19, \"8\": 14, \"2\": 17, \"0\": 26, \"6\": 14, \"15\": 5, \"13\": 9, \"7\": 6, \"9\": 3}, \"9\": {\"0\": 11, \"9\": 86, \"8\": 35, \"12\": 60, \"11\": 30, \"3\": 4, \"10\": 11, \"4\": 3}, \"2\": {\"1\": 10, \"2\": 26, \"4\": 16, \"3\": 20, \"10\": 9, \"6\": 27, \"5\": 22, \"7\": 14, \"14\": 34, \"13\": 31, \"15\": 19, \"0\": 12}}, \"ORACLE.run1_20\": {\"4\": {\"10\": 29, \"8\": 26, \"6\": 14, \"7\": 16, \"9\": 8, \"14\": 22, \"4\": 36, \"5\": 18, \"15\": 4, \"3\": 23, \"0\": 14, \"12\": 10, \"11\": 4, \"1\": 6, \"2\": 7, \"13\": 3}, \"10\": {\"4\": 26, \"10\": 48, \"9\": 6, \"14\": 31, \"5\": 9, \"7\": 17, \"8\": 27, \"6\": 36, \"3\": 11, \"0\": 3, \"2\": 7, \"11\": 10, \"12\": 2, \"1\": 6, \"13\": 1}, \"15\": {\"11\": 9, \"7\": 13, \"15\": 20, \"13\": 22, \"5\": 26, \"12\": 34, \"1\": 34, \"0\": 18, \"8\": 6, \"6\": 2, \"2\": 17, \"3\": 19, \"10\": 2, \"4\": 4, \"9\": 13, \"14\": 1}, \"0\": {\"0\": 44, \"11\": 10, \"3\": 17, \"1\": 22, \"5\": 22, \"7\": 14, \"14\": 2, \"4\": 12, \"12\": 25, \"8\": 7, \"15\": 19, \"9\": 12, \"13\": 14, \"2\": 12, \"6\": 4, \"10\": 4}, \"6\": {\"10\": 30, \"8\": 29, \"7\": 25, \"13\": 6, \"11\": 24, \"2\": 12, \"14\": 35, \"6\": 48, \"3\": 3, \"4\": 17, \"12\": 3, \"15\": 1, \"1\": 1, \"0\": 3, \"9\": 2, \"5\": 1}, \"3\": {\"8\": 16, \"9\": 21, \"2\": 12, \"10\": 8, \"12\": 22, \"11\": 18, \"0\": 13, \"5\": 19, \"4\": 15, \"3\": 18, \"6\": 8, \"13\": 16, \"1\": 12, \"15\": 19, \"14\": 9, \"7\": 14}, \"7\": {\"0\": 12, \"6\": 24, \"11\": 26, \"9\": 23, \"3\": 20, \"10\": 14, \"4\": 23, \"7\": 19, \"15\": 11, \"8\": 11, \"5\": 7, \"13\": 14, \"2\": 18, \"1\": 6, \"14\": 3, \"12\": 9}, \"2\": {\"4\": 8, \"13\": 24, \"11\": 31, \"14\": 6, \"8\": 10, \"3\": 16, \"10\": 7, \"5\": 18, \"7\": 15, \"1\": 15, \"9\": 19, \"2\": 17, \"15\": 18, \"0\": 13, \"12\": 19, \"6\": 4}, \"8\": {\"0\": 16, \"5\": 14, \"3\": 19, \"10\": 25, \"8\": 33, \"7\": 12, \"2\": 8, \"4\": 21, \"6\": 32, \"1\": 5, \"11\": 7, \"15\": 8, \"12\": 9, \"9\": 7, \"14\": 20, \"13\": 4}, \"11\": {\"3\": 10, \"11\": 104, \"1\": 14, \"9\": 11, \"0\": 8, \"14\": 4, \"6\": 20, \"7\": 21, \"10\": 4, \"2\": 9, \"5\": 1, \"8\": 4, \"12\": 7, \"13\": 16, \"4\": 5, \"15\": 2}, \"14\": {\"4\": 30, \"7\": 14, \"10\": 38, \"14\": 37, \"3\": 6, \"6\": 46, \"0\": 6, \"8\": 42, \"11\": 7, \"1\": 1, \"15\": 3, \"2\": 2, \"9\": 3, \"13\": 4, \"5\": 1}, \"12\": {\"8\": 6, \"5\": 31, \"12\": 21, \"1\": 27, \"0\": 21, \"7\": 15, \"11\": 12, \"9\": 22, \"3\": 15, \"10\": 7, \"2\": 18, \"15\": 11, \"13\": 15, \"14\": 2, \"4\": 10, \"6\": 7}, \"13\": {\"11\": 28, \"0\": 18, \"12\": 25, \"15\": 20, \"13\": 27, \"5\": 19, \"3\": 13, \"2\": 23, \"9\": 21, \"1\": 16, \"7\": 15, \"10\": 2, \"14\": 2, \"4\": 7, \"6\": 3, \"8\": 1}, \"9\": {\"9\": 21, \"7\": 17, \"10\": 7, \"12\": 25, \"5\": 14, \"15\": 25, \"14\": 2, \"11\": 18, \"4\": 7, \"0\": 20, \"2\": 17, \"1\": 14, \"6\": 5, \"3\": 17, \"13\": 25, \"8\": 6}, \"5\": {\"15\": 25, \"4\": 19, \"10\": 5, \"9\": 16, \"1\": 18, \"0\": 34, \"13\": 14, \"2\": 14, \"11\": 10, \"5\": 32, \"3\": 23, \"7\": 11, \"8\": 4, \"12\": 14, \"14\": 1}, \"1\": {\"15\": 16, \"13\": 27, \"2\": 24, \"3\": 16, \"7\": 18, \"1\": 32, \"0\": 19, \"9\": 29, \"12\": 15, \"4\": 6, \"5\": 22, \"14\": 1, \"11\": 10, \"8\": 3, \"10\": 2}}, \"ORACLE.run1_50\": {\"5\": {\"5\": 43, \"7\": 31, \"6\": 36, \"8\": 3, \"4\": 27, \"2\": 7, \"11\": 3, \"1\": 26, \"10\": 15, \"13\": 35, \"15\": 7, \"14\": 2, \"9\": 1, \"3\": 1, \"0\": 2, \"12\": 1}, \"12\": {\"9\": 37, \"12\": 105, \"11\": 31, \"0\": 1, \"14\": 55, \"15\": 1, \"1\": 5, \"4\": 3, \"6\": 2}, \"14\": {\"9\": 24, \"1\": 24, \"12\": 65, \"2\": 16, \"0\": 3, \"14\": 65, \"6\": 4, \"11\": 22, \"13\": 1, \"5\": 5, \"15\": 6, \"4\": 4, \"10\": 1}, \"4\": {\"13\": 29, \"15\": 34, \"5\": 29, \"4\": 35, \"7\": 10, \"6\": 27, \"11\": 15, \"1\": 39, \"14\": 7, \"12\": 2, \"8\": 2, \"10\": 3, \"0\": 3, \"2\": 1, \"9\": 4}, \"13\": {\"7\": 50, \"13\": 45, \"5\": 40, \"6\": 22, \"4\": 17, \"15\": 4, \"10\": 29, \"0\": 12, \"1\": 14, \"11\": 2, \"2\": 4, \"8\": 1}, \"10\": {\"8\": 48, \"10\": 66, \"1\": 2, \"13\": 16, \"5\": 18, \"0\": 35, \"15\": 2, \"7\": 13, \"2\": 18, \"3\": 17, \"6\": 5}, \"9\": {\"11\": 54, \"9\": 87, \"4\": 4, \"12\": 43, \"1\": 10, \"14\": 27, \"15\": 13, \"6\": 2}, \"15\": {\"1\": 39, \"15\": 61, \"5\": 7, \"9\": 16, \"6\": 23, \"11\": 37, \"4\": 43, \"7\": 1, \"14\": 3, \"13\": 8, \"12\": 2}, \"6\": {\"15\": 34, \"13\": 31, \"5\": 26, \"4\": 25, \"1\": 27, \"7\": 25, \"6\": 43, \"0\": 5, \"14\": 5, \"11\": 7, \"10\": 10, \"2\": 1, \"9\": 1}, \"2\": {\"0\": 59, \"1\": 4, \"2\": 96, \"6\": 2, \"10\": 26, \"7\": 2, \"14\": 31, \"12\": 5, \"13\": 3, \"8\": 6, \"11\": 2, \"5\": 4}, \"0\": {\"0\": 71, \"7\": 7, \"2\": 68, \"10\": 38, \"8\": 27, \"14\": 11, \"13\": 5, \"3\": 2, \"1\": 2, \"5\": 4, \"11\": 1, \"12\": 2, \"6\": 1, \"4\": 1}, \"11\": {\"14\": 26, \"11\": 58, \"9\": 68, \"12\": 20, \"15\": 23, \"4\": 12, \"2\": 1, \"1\": 23, \"5\": 3, \"6\": 5, \"13\": 1}, \"3\": {\"10\": 21, \"3\": 138, \"8\": 75, \"0\": 2, \"13\": 2, \"2\": 2}, \"8\": {\"8\": 96, \"10\": 35, \"3\": 59, \"13\": 5, \"0\": 29, \"2\": 13, \"7\": 3}, \"7\": {\"13\": 41, \"7\": 49, \"5\": 28, \"4\": 14, \"0\": 13, \"10\": 31, \"3\": 7, \"8\": 8, \"1\": 10, \"6\": 29, \"2\": 3, \"15\": 7}, \"1\": {\"1\": 57, \"15\": 21, \"11\": 20, \"5\": 18, \"2\": 3, \"7\": 5, \"0\": 6, \"4\": 25, \"14\": 14, \"6\": 33, \"13\": 18, \"9\": 15, \"10\": 3, \"12\": 2}}, \"ORACLE.run1_26\": {\"7\": {\"3\": 27, \"1\": 15, \"7\": 25, \"15\": 23, \"6\": 11, \"9\": 14, \"2\": 16, \"0\": 20, \"4\": 20, \"10\": 16, \"8\": 23, \"14\": 15, \"5\": 10, \"13\": 5}, \"6\": {\"3\": 11, \"15\": 20, \"4\": 14, \"9\": 21, \"10\": 18, \"13\": 17, \"0\": 21, \"2\": 11, \"14\": 16, \"12\": 13, \"5\": 11, \"1\": 5, \"8\": 18, \"6\": 39, \"7\": 5}, \"14\": {\"1\": 31, \"0\": 23, \"8\": 16, \"6\": 18, \"7\": 14, \"4\": 24, \"3\": 20, \"2\": 12, \"14\": 32, \"10\": 18, \"5\": 2, \"15\": 15, \"12\": 2, \"13\": 3, \"9\": 10}, \"15\": {\"13\": 24, \"6\": 22, \"8\": 16, \"15\": 26, \"5\": 21, \"0\": 13, \"9\": 16, \"7\": 13, \"3\": 20, \"4\": 12, \"2\": 22, \"14\": 11, \"10\": 18, \"12\": 3, \"1\": 3}, \"5\": {\"8\": 11, \"9\": 29, \"5\": 39, \"7\": 8, \"2\": 28, \"3\": 18, \"13\": 39, \"10\": 7, \"15\": 20, \"12\": 5, \"6\": 18, \"1\": 8, \"4\": 5, \"11\": 1, \"0\": 1, \"14\": 3}, \"10\": {\"13\": 9, \"14\": 27, \"10\": 29, \"8\": 19, \"2\": 10, \"9\": 13, \"1\": 18, \"0\": 29, \"3\": 29, \"12\": 3, \"6\": 21, \"15\": 10, \"4\": 8, \"5\": 5, \"7\": 10}, \"4\": {\"14\": 31, \"1\": 25, \"10\": 23, \"3\": 28, \"0\": 31, \"2\": 9, \"6\": 14, \"8\": 20, \"13\": 6, \"4\": 22, \"7\": 14, \"9\": 5, \"15\": 8, \"5\": 3, \"12\": 1}, \"11\": {\"11\": 168, \"5\": 11, \"12\": 44, \"9\": 1, \"13\": 13, \"8\": 1, \"15\": 1, \"6\": 1}, \"13\": {\"13\": 56, \"15\": 21, \"9\": 20, \"5\": 44, \"7\": 5, \"2\": 29, \"6\": 18, \"12\": 7, \"11\": 8, \"3\": 11, \"1\": 1, \"8\": 8, \"4\": 3, \"10\": 7, \"0\": 1, \"14\": 1}, \"2\": {\"15\": 26, \"2\": 29, \"7\": 25, \"5\": 18, \"3\": 38, \"4\": 10, \"6\": 5, \"13\": 22, \"0\": 8, \"8\": 17, \"9\": 15, \"14\": 8, \"1\": 11, \"10\": 8}, \"0\": {\"10\": 18, \"3\": 14, \"1\": 27, \"4\": 30, \"6\": 16, \"0\": 27, \"8\": 23, \"2\": 12, \"9\": 12, \"14\": 26, \"7\": 21, \"12\": 2, \"15\": 9, \"5\": 1, \"13\": 2}, \"12\": {\"9\": 14, \"13\": 10, \"12\": 149, \"2\": 3, \"10\": 7, \"11\": 22, \"5\": 8, \"0\": 2, \"6\": 14, \"4\": 1, \"7\": 2, \"15\": 5, \"1\": 1, \"8\": 2}, \"3\": {\"3\": 37, \"15\": 13, \"7\": 20, \"4\": 11, \"14\": 21, \"2\": 34, \"13\": 6, \"6\": 8, \"8\": 19, \"1\": 14, \"9\": 13, \"5\": 19, \"0\": 15, \"10\": 10}, \"9\": {\"10\": 15, \"13\": 23, \"4\": 12, \"7\": 8, \"2\": 15, \"9\": 33, \"8\": 11, \"6\": 20, \"5\": 27, \"3\": 25, \"0\": 11, \"12\": 14, \"15\": 15, \"14\": 7, \"1\": 4}, \"8\": {\"3\": 15, \"12\": 4, \"14\": 18, \"10\": 27, \"2\": 16, \"7\": 16, \"0\": 26, \"1\": 18, \"15\": 13, \"6\": 23, \"4\": 17, \"5\": 5, \"9\": 12, \"8\": 19, \"13\": 10, \"11\": 1}, \"1\": {\"4\": 25, \"10\": 31, \"7\": 20, \"15\": 6, \"6\": 9, \"1\": 27, \"3\": 22, \"14\": 41, \"0\": 27, \"2\": 9, \"9\": 8, \"5\": 3, \"13\": 2, \"8\": 8, \"12\": 2}}, \"ORACLE.run1_32\": {\"7\": {\"11\": 31, \"14\": 37, \"7\": 41, \"4\": 21, \"5\": 18, \"0\": 37, \"13\": 9, \"2\": 30, \"8\": 12, \"15\": 1, \"3\": 3}, \"2\": {\"2\": 77, \"0\": 50, \"4\": 36, \"14\": 16, \"13\": 9, \"11\": 11, \"7\": 14, \"5\": 7, \"9\": 13, \"8\": 7}, \"5\": {\"5\": 45, \"3\": 24, \"14\": 15, \"11\": 18, \"0\": 17, \"8\": 37, \"15\": 9, \"7\": 20, \"4\": 21, \"2\": 14, \"13\": 20}, \"6\": {\"6\": 172, \"12\": 11, \"1\": 18, \"10\": 33, \"9\": 6}, \"13\": {\"8\": 45, \"3\": 36, \"13\": 34, \"7\": 12, \"2\": 16, \"0\": 20, \"5\": 17, \"4\": 32, \"14\": 9, \"11\": 8, \"15\": 11}, \"4\": {\"0\": 43, \"5\": 25, \"2\": 46, \"4\": 34, \"8\": 19, \"3\": 6, \"14\": 13, \"7\": 22, \"11\": 14, \"13\": 17, \"9\": 1}, \"3\": {\"3\": 99, \"15\": 30, \"14\": 11, \"5\": 18, \"7\": 7, \"13\": 31, \"0\": 4, \"4\": 3, \"8\": 26, \"11\": 11}, \"0\": {\"2\": 52, \"11\": 23, \"5\": 19, \"0\": 50, \"4\": 26, \"14\": 14, \"7\": 22, \"13\": 13, \"8\": 15, \"3\": 3, \"15\": 1, \"9\": 2}, \"9\": {\"9\": 165, \"12\": 51, \"0\": 5, \"2\": 15, \"6\": 1, \"4\": 3}, \"12\": {\"9\": 45, \"10\": 15, \"12\": 166, \"6\": 14}, \"8\": {\"13\": 35, \"5\": 36, \"7\": 11, \"3\": 29, \"11\": 5, \"4\": 22, \"0\": 18, \"15\": 17, \"14\": 4, \"2\": 16, \"8\": 47}, \"14\": {\"14\": 51, \"11\": 58, \"5\": 17, \"7\": 33, \"8\": 14, \"13\": 11, \"0\": 12, \"4\": 18, \"3\": 9, \"2\": 17}, \"15\": {\"15\": 158, \"3\": 52, \"13\": 10, \"5\": 7, \"8\": 11, \"4\": 2}, \"11\": {\"11\": 86, \"14\": 72, \"7\": 31, \"8\": 4, \"13\": 15, \"0\": 7, \"3\": 10, \"5\": 8, \"2\": 2, \"4\": 5}, \"10\": {\"1\": 42, \"10\": 166, \"6\": 17, \"12\": 15}, \"1\": {\"1\": 176, \"10\": 56, \"6\": 8}}, \"ORACLE.run1_44\": {\"11\": {\"13\": 58, \"11\": 82, \"6\": 48, \"9\": 20, \"7\": 13, \"4\": 7, \"2\": 5, \"3\": 2, \"10\": 4, \"14\": 1}, \"7\": {\"2\": 39, \"6\": 18, \"13\": 21, \"10\": 21, \"9\": 38, \"4\": 3, \"11\": 21, \"7\": 49, \"3\": 8, \"1\": 10, \"12\": 11, \"14\": 1}, \"6\": {\"6\": 67, \"7\": 25, \"11\": 45, \"13\": 45, \"2\": 19, \"10\": 7, \"9\": 30, \"1\": 2}, \"12\": {\"1\": 71, \"10\": 30, \"12\": 75, \"2\": 15, \"3\": 32, \"9\": 2, \"7\": 14, \"11\": 1}, \"4\": {\"14\": 65, \"5\": 29, \"3\": 4, \"13\": 10, \"4\": 96, \"7\": 6, \"0\": 2, \"9\": 10, \"6\": 2, \"11\": 1, \"15\": 15}, \"13\": {\"13\": 51, \"9\": 38, \"6\": 41, \"7\": 24, \"11\": 43, \"2\": 14, \"4\": 20, \"14\": 3, \"10\": 4, \"3\": 2}, \"8\": {\"8\": 94, \"0\": 88, \"15\": 33, \"4\": 1, \"5\": 22, \"14\": 2}, \"5\": {\"4\": 22, \"5\": 85, \"0\": 54, \"15\": 28, \"8\": 27, \"14\": 24}, \"14\": {\"0\": 10, \"4\": 73, \"14\": 69, \"15\": 41, \"5\": 32, \"7\": 2, \"9\": 4, \"8\": 5, \"13\": 2, \"3\": 2}, \"3\": {\"1\": 46, \"3\": 99, \"2\": 9, \"9\": 14, \"12\": 50, \"7\": 14, \"6\": 3, \"10\": 4, \"13\": 1}, \"10\": {\"10\": 71, \"3\": 13, \"12\": 44, \"2\": 49, \"7\": 24, \"1\": 27, \"6\": 5, \"9\": 6, \"13\": 1}, \"1\": {\"7\": 18, \"1\": 51, \"12\": 64, \"10\": 24, \"2\": 17, \"13\": 2, \"3\": 47, \"9\": 16, \"6\": 1}, \"2\": {\"10\": 43, \"11\": 7, \"9\": 33, \"2\": 56, \"6\": 14, \"1\": 22, \"12\": 14, \"3\": 7, \"13\": 8, \"7\": 36}, \"15\": {\"4\": 12, \"14\": 41, \"8\": 29, \"0\": 49, \"15\": 78, \"5\": 28, \"7\": 1, \"3\": 1, \"9\": 1}, \"9\": {\"9\": 50, \"13\": 41, \"10\": 7, \"7\": 34, \"2\": 24, \"12\": 3, \"3\": 6, \"6\": 26, \"11\": 30, \"4\": 11, \"1\": 5, \"14\": 3}, \"0\": {\"0\": 75, \"14\": 11, \"8\": 67, \"5\": 41, \"15\": 40, \"4\": 6}}, \"ORACLE.run1_8\": {\"10\": {\"14\": 18, \"11\": 21, \"13\": 22, \"10\": 42, \"6\": 24, \"0\": 21, \"8\": 2, \"4\": 14, \"1\": 18, \"5\": 37, \"7\": 15, \"2\": 4, \"12\": 1, \"9\": 1}, \"6\": {\"0\": 22, \"15\": 6, \"2\": 21, \"6\": 21, \"14\": 11, \"7\": 18, \"11\": 18, \"4\": 21, \"1\": 19, \"5\": 14, \"10\": 21, \"3\": 8, \"8\": 18, \"13\": 19, \"12\": 3}, \"13\": {\"4\": 24, \"0\": 28, \"10\": 27, \"1\": 19, \"6\": 17, \"2\": 13, \"5\": 21, \"11\": 12, \"7\": 19, \"13\": 35, \"14\": 21, \"8\": 2, \"3\": 2}, \"3\": {\"3\": 46, \"15\": 38, \"12\": 34, \"2\": 51, \"6\": 15, \"13\": 4, \"7\": 21, \"0\": 3, \"8\": 18, \"4\": 5, \"10\": 4, \"14\": 1}, \"9\": {\"9\": 226, \"10\": 3, \"5\": 7, \"6\": 1, \"13\": 1, \"0\": 2}, \"1\": {\"6\": 14, \"1\": 44, \"4\": 16, \"13\": 10, \"10\": 18, \"5\": 35, \"11\": 48, \"14\": 13, \"8\": 16, \"7\": 14, \"12\": 1, \"15\": 4, \"0\": 4, \"2\": 1, \"3\": 2}, \"5\": {\"5\": 65, \"1\": 37, \"0\": 8, \"11\": 26, \"10\": 30, \"4\": 18, \"13\": 17, \"3\": 1, \"14\": 27, \"6\": 5, \"8\": 1, \"7\": 2, \"9\": 3}, \"11\": {\"1\": 59, \"11\": 61, \"4\": 11, \"5\": 23, \"8\": 17, \"14\": 15, \"15\": 10, \"6\": 9, \"7\": 6, \"13\": 7, \"10\": 11, \"3\": 3, \"2\": 3, \"12\": 3, \"0\": 2}, \"4\": {\"15\": 3, \"13\": 24, \"2\": 20, \"6\": 22, \"10\": 21, \"11\": 16, \"8\": 9, \"1\": 22, \"0\": 18, \"5\": 14, \"14\": 25, \"7\": 23, \"3\": 6, \"4\": 16, \"12\": 1}, \"14\": {\"11\": 31, \"1\": 19, \"5\": 25, \"14\": 16, \"6\": 17, \"0\": 24, \"13\": 21, \"10\": 27, \"4\": 20, \"2\": 14, \"7\": 23, \"3\": 2, \"8\": 1}, \"12\": {\"2\": 24, \"15\": 52, \"8\": 45, \"4\": 6, \"3\": 39, \"6\": 8, \"11\": 4, \"12\": 49, \"13\": 4, \"7\": 7, \"1\": 2}, \"7\": {\"5\": 5, \"1\": 9, \"0\": 29, \"2\": 32, \"6\": 20, \"7\": 27, \"3\": 12, \"4\": 29, \"13\": 20, \"11\": 11, \"10\": 16, \"8\": 13, \"14\": 10, \"15\": 5, \"12\": 2}, \"0\": {\"13\": 31, \"14\": 27, \"0\": 35, \"6\": 21, \"1\": 8, \"10\": 22, \"4\": 29, \"5\": 10, \"2\": 27, \"12\": 1, \"7\": 17, \"3\": 3, \"11\": 5, \"8\": 3, \"15\": 1}, \"15\": {\"10\": 3, \"7\": 14, \"0\": 5, \"15\": 46, \"12\": 46, \"3\": 32, \"13\": 3, \"2\": 13, \"6\": 18, \"11\": 7, \"8\": 36, \"4\": 12, \"14\": 2, \"1\": 3}, \"2\": {\"10\": 6, \"3\": 53, \"13\": 8, \"15\": 24, \"7\": 24, \"12\": 14, \"2\": 54, \"6\": 13, \"0\": 13, \"4\": 4, \"8\": 16, \"11\": 3, \"14\": 7, \"1\": 1}, \"8\": {\"4\": 10, \"1\": 20, \"6\": 14, \"15\": 35, \"8\": 40, \"11\": 35, \"2\": 15, \"12\": 26, \"3\": 19, \"10\": 3, \"5\": 4, \"7\": 5, \"0\": 2, \"14\": 5, \"13\": 7}}, \"ORACLE.run1_38\": {\"4\": {\"4\": 153, \"12\": 75, \"7\": 6, \"11\": 1, \"10\": 2, \"0\": 3}, \"7\": {\"3\": 23, \"5\": 25, \"0\": 43, \"7\": 82, \"10\": 8, \"8\": 28, \"4\": 5, \"15\": 6, \"12\": 5, \"6\": 6, \"9\": 6, \"1\": 2, \"11\": 1}, \"12\": {\"10\": 7, \"12\": 137, \"4\": 70, \"7\": 4, \"0\": 2, \"11\": 6, \"8\": 1, \"14\": 13}, \"10\": {\"7\": 22, \"15\": 22, \"0\": 19, \"8\": 28, \"10\": 32, \"2\": 14, \"11\": 20, \"14\": 38, \"13\": 11, \"12\": 10, \"5\": 10, \"6\": 4, \"1\": 7, \"4\": 3}, \"0\": {\"3\": 30, \"0\": 42, \"5\": 23, \"12\": 11, \"8\": 34, \"10\": 21, \"9\": 14, \"4\": 5, \"15\": 7, \"13\": 5, \"11\": 2, \"7\": 32, \"6\": 8, \"1\": 1, \"14\": 5}, \"1\": {\"1\": 75, \"9\": 12, \"15\": 60, \"13\": 35, \"6\": 21, \"8\": 8, \"5\": 6, \"0\": 3, \"2\": 8, \"10\": 11, \"14\": 1}, \"5\": {\"5\": 32, \"1\": 24, \"13\": 8, \"7\": 29, \"3\": 6, \"9\": 16, \"6\": 28, \"15\": 16, \"8\": 30, \"10\": 22, \"14\": 2, \"0\": 26, \"11\": 1}, \"15\": {\"1\": 48, \"8\": 18, \"5\": 21, \"6\": 8, \"15\": 43, \"2\": 17, \"14\": 9, \"13\": 42, \"11\": 4, \"9\": 4, \"7\": 4, \"3\": 1, \"10\": 20, \"0\": 1}, \"9\": {\"9\": 106, \"8\": 9, \"7\": 11, \"6\": 50, \"1\": 8, \"3\": 28, \"13\": 1, \"0\": 10, \"5\": 13, \"15\": 2, \"14\": 2}, \"11\": {\"11\": 97, \"15\": 2, \"12\": 9, \"14\": 78, \"2\": 16, \"10\": 21, \"13\": 3, \"0\": 4, \"8\": 4, \"5\": 2, \"4\": 4}, \"14\": {\"11\": 60, \"10\": 30, \"14\": 86, \"2\": 31, \"12\": 8, \"13\": 5, \"15\": 9, \"8\": 6, \"5\": 3, \"0\": 2}, \"6\": {\"1\": 17, \"9\": 67, \"0\": 8, \"6\": 85, \"5\": 23, \"3\": 12, \"7\": 8, \"8\": 14, \"15\": 4, \"13\": 1, \"10\": 1}, \"8\": {\"0\": 17, \"5\": 30, \"14\": 8, \"8\": 49, \"7\": 29, \"12\": 3, \"1\": 13, \"15\": 25, \"3\": 10, \"10\": 30, \"13\": 6, \"9\": 9, \"6\": 7, \"2\": 2, \"4\": 2}, \"3\": {\"9\": 41, \"3\": 110, \"7\": 31, \"8\": 10, \"5\": 9, \"6\": 23, \"0\": 15, \"1\": 1}, \"2\": {\"2\": 116, \"11\": 21, \"15\": 23, \"13\": 29, \"1\": 9, \"14\": 22, \"10\": 11, \"8\": 4, \"0\": 1, \"5\": 4}, \"13\": {\"8\": 7, \"10\": 13, \"13\": 57, \"2\": 35, \"1\": 44, \"11\": 5, \"15\": 37, \"0\": 5, \"14\": 6, \"5\": 17, \"9\": 7, \"6\": 6, \"7\": 1}}}, \"per_domain_accuracy\": {\"CORES_4\": {\"accuracy\": 0.9973802395209581, \"source?\": true}, \"CORES_5\": {\"accuracy\": 0.9980796089385475, \"source?\": true}, \"CORES_2\": {\"accuracy\": 0.9998214285714285, \"source?\": true}, \"CORES_1\": {\"accuracy\": 0.9993206521739131, \"source?\": true}, \"CORES_3\": {\"accuracy\": 0.9988970588235294, \"source?\": true}, \"ORACLE.run1_14\": {\"accuracy\": 0.28151041666666665, \"source?\": false}, \"ORACLE.run1_20\": {\"accuracy\": 0.14505208333333333, \"source?\": false}, \"ORACLE.run1_50\": {\"accuracy\": 0.2903645833333333, \"source?\": false}, \"ORACLE.run1_26\": {\"accuracy\": 0.19713541666666667, \"source?\": false}, \"ORACLE.run1_32\": {\"accuracy\": 0.4080729166666667, \"source?\": false}, \"ORACLE.run1_44\": {\"accuracy\": 0.2989583333333333, \"source?\": false}, \"ORACLE.run1_8\": {\"accuracy\": 0.21432291666666667, \"source?\": false}, \"ORACLE.run1_38\": {\"accuracy\": 0.3390625, \"source?\": false}}}, \"history\": {\"epoch_indices\": [1, 2, 3, 4, 5, 6, 7], \"train_label_loss\": [0.02491357015407087, 0.007669503319320386, 0.004054192582338426, 0.004350410219132038, 0.003105884445241124, 0.0021752740576839354, 0.0023801519717465865], \"source_val_label_loss\": [0.012751626782119274, 0.009407732635736465, 0.009976303204894066, 0.011819490231573582, 0.008970960043370724, 0.009976373054087162, 0.010304952040314674], \"target_val_label_loss\": [2.1902711391448975, 2.1829946041107178, 2.3570940494537354, 2.4408857822418213, 3.171182870864868, 3.5628743171691895, 3.117910146713257], \"source_val_acc_label\": [0.99675, 0.9988928571428571, 0.9987142857142857, 0.9986071428571428, 0.9993214285714286, 0.9995357142857143, 0.9996071428571428], \"target_val_acc_label\": [0.2594075520833333, 0.26604817708333334, 0.2718098958333333, 0.26754557291666664, 0.2341796875, 0.22708333333333333, 0.26168619791666664]}, \"dataset_metrics\": {\"source\": {\"train\": {\"n_unique_x\": 175174, \"n_unique_y\": 58, \"n_batch/episode\": 6293}, \"val\": {\"n_unique_x\": 37216, \"n_unique_y\": 58, \"n_batch/episode\": 875}, \"test\": {\"n_unique_x\": 37596, \"n_unique_y\": 58, \"n_batch/episode\": 886}}, \"target\": {\"train\": {\"n_unique_x\": 179200, \"n_unique_y\": 16, \"n_batch/episode\": 6720}, \"val\": {\"n_unique_x\": 38400, \"n_unique_y\": 16, \"n_batch/episode\": 960}, \"test\": {\"n_unique_x\": 38400, \"n_unique_y\": 16, \"n_batch/episode\": 960}}}}'"
      ]
     },
     "execution_count": 29,
     "metadata": {},
     "output_type": "execute_result"
    }
   ],
   "source": [
    "json.dumps(experiment)"
   ]
  }
 ],
 "metadata": {
  "celltoolbar": "Tags",
  "kernelspec": {
   "display_name": "Python 3 (ipykernel)",
   "language": "python",
   "name": "python3"
  },
  "language_info": {
   "codemirror_mode": {
    "name": "ipython",
    "version": 3
   },
   "file_extension": ".py",
   "mimetype": "text/x-python",
   "name": "python",
   "nbconvert_exporter": "python",
   "pygments_lexer": "ipython3",
   "version": "3.8.12"
  },
  "papermill": {
   "default_parameters": {},
   "duration": 2027.84829,
   "end_time": "2022-03-21T06:53:01.425219",
   "environment_variables": {},
   "exception": null,
   "input_path": "/root/csc500-main/csc500-notebooks/templates/tl_ptn_template.ipynb",
   "output_path": "trial.ipynb",
   "parameters": {
    "parameters": {
     "BEST_MODEL_PATH": "./best_model.pth",
     "NUM_LOGS_PER_EPOCH": 10,
     "criteria_for_best": "target_accuracy",
     "dataset_seed": 420,
     "datasets": [
      {
       "domain_prefix": "CORES_",
       "domains": [
        1,
        2,
        3,
        4,
        5
       ],
       "episode_transforms": [],
       "labels": [
        "1-10.",
        "1-11.",
        "1-15.",
        "1-16.",
        "1-17.",
        "1-18.",
        "1-19.",
        "10-4.",
        "10-7.",
        "11-1.",
        "11-14.",
        "11-17.",
        "11-20.",
        "11-7.",
        "13-20.",
        "13-8.",
        "14-10.",
        "14-11.",
        "14-14.",
        "14-7.",
        "15-1.",
        "15-20.",
        "16-1.",
        "16-16.",
        "17-10.",
        "17-11.",
        "17-2.",
        "19-1.",
        "19-16.",
        "19-19.",
        "19-20.",
        "19-3.",
        "2-10.",
        "2-11.",
        "2-17.",
        "2-18.",
        "2-20.",
        "2-3.",
        "2-4.",
        "2-5.",
        "2-6.",
        "2-7.",
        "2-8.",
        "3-13.",
        "3-18.",
        "3-3.",
        "4-1.",
        "4-10.",
        "4-11.",
        "4-19.",
        "5-5.",
        "6-15.",
        "7-10.",
        "7-14.",
        "8-18.",
        "8-20.",
        "8-3.",
        "8-8."
       ],
       "num_examples_per_domain_per_label": -1,
       "pickle_path": "/root/csc500-main/datasets/cores.stratified_ds.2022A.pkl",
       "source_or_target_dataset": "source",
       "x_transforms": [
        "unit_mag"
       ]
      },
      {
       "domain_prefix": "ORACLE.run1_",
       "domains": [
        32,
        38,
        8,
        44,
        14,
        50,
        20,
        26
       ],
       "episode_transforms": [],
       "labels": [
        "3123D52",
        "3123D65",
        "3123D79",
        "3123D80",
        "3123D54",
        "3123D70",
        "3123D7B",
        "3123D89",
        "3123D58",
        "3123D76",
        "3123D7D",
        "3123EFE",
        "3123D64",
        "3123D78",
        "3123D7E",
        "3124E4A"
       ],
       "num_examples_per_domain_per_label": 2000,
       "pickle_path": "/root/csc500-main/datasets/oracle.Run1_framed_2000Examples_stratified_ds.2022A.pkl",
       "source_or_target_dataset": "target",
       "x_transforms": [
        "unit_mag"
       ]
      }
     ],
     "device": "cuda",
     "experiment_name": "tl_1v2:cores-oracle.run1.framed",
     "lr": 0.0001,
     "n_epoch": 50,
     "n_query": 2,
     "n_shot": 3,
     "n_way": 16,
     "patience": 3,
     "seed": 420,
     "test_k_factor": 2,
     "torch_default_dtype": "torch.float32",
     "train_k_factor": 3,
     "val_k_factor": 2,
     "x_net": [
      {
       "class": "nnReshape",
       "kargs": {
        "shape": [
         -1,
         1,
         2,
         256
        ]
       }
      },
      {
       "class": "Conv2d",
       "kargs": {
        "bias": false,
        "in_channels": 1,
        "kernel_size": [
         1,
         7
        ],
        "out_channels": 256,
        "padding": [
         0,
         3
        ]
       }
      },
      {
       "class": "ReLU",
       "kargs": {
        "inplace": true
       }
      },
      {
       "class": "BatchNorm2d",
       "kargs": {
        "num_features": 256
       }
      },
      {
       "class": "Conv2d",
       "kargs": {
        "bias": true,
        "in_channels": 256,
        "kernel_size": [
         2,
         7
        ],
        "out_channels": 80,
        "padding": [
         0,
         3
        ]
       }
      },
      {
       "class": "ReLU",
       "kargs": {
        "inplace": true
       }
      },
      {
       "class": "BatchNorm2d",
       "kargs": {
        "num_features": 80
       }
      },
      {
       "class": "Flatten",
       "kargs": {}
      },
      {
       "class": "Linear",
       "kargs": {
        "in_features": 20480,
        "out_features": 256
       }
      },
      {
       "class": "ReLU",
       "kargs": {
        "inplace": true
       }
      },
      {
       "class": "BatchNorm1d",
       "kargs": {
        "num_features": 256
       }
      },
      {
       "class": "Linear",
       "kargs": {
        "in_features": 256,
        "out_features": 256
       }
      }
     ]
    }
   },
   "start_time": "2022-03-21T06:19:13.576929",
   "version": "2.3.4"
  }
 },
 "nbformat": 4,
 "nbformat_minor": 5
}