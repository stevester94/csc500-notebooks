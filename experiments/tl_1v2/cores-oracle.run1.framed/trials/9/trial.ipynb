{
 "cells": [
  {
   "cell_type": "markdown",
   "id": "9fea5f46",
   "metadata": {
    "papermill": {
     "duration": 0.064792,
     "end_time": "2022-03-21T07:21:26.374596",
     "exception": false,
     "start_time": "2022-03-21T07:21:26.309804",
     "status": "completed"
    },
    "tags": []
   },
   "source": [
    "# Transfer Learning Template"
   ]
  },
  {
   "cell_type": "code",
   "execution_count": 1,
   "id": "0902182a",
   "metadata": {
    "execution": {
     "iopub.execute_input": "2022-03-21T07:21:26.432377Z",
     "iopub.status.busy": "2022-03-21T07:21:26.431503Z",
     "iopub.status.idle": "2022-03-21T07:21:28.341872Z",
     "shell.execute_reply": "2022-03-21T07:21:28.341032Z"
    },
    "papermill": {
     "duration": 1.947757,
     "end_time": "2022-03-21T07:21:28.342072",
     "exception": false,
     "start_time": "2022-03-21T07:21:26.394315",
     "status": "completed"
    },
    "tags": []
   },
   "outputs": [],
   "source": [
    "%load_ext autoreload\n",
    "%autoreload 2\n",
    "%matplotlib inline\n",
    "\n",
    "    \n",
    "import os, json, sys, time, random\n",
    "import numpy as np\n",
    "import torch\n",
    "from torch.optim import Adam\n",
    "from  easydict import EasyDict\n",
    "import matplotlib.pyplot as plt\n",
    "\n",
    "from steves_models.steves_ptn import Steves_Prototypical_Network\n",
    "\n",
    "from steves_utils.lazy_iterable_wrapper import Lazy_Iterable_Wrapper\n",
    "from steves_utils.iterable_aggregator import Iterable_Aggregator\n",
    "from steves_utils.ptn_train_eval_test_jig import  PTN_Train_Eval_Test_Jig\n",
    "from steves_utils.torch_sequential_builder import build_sequential\n",
    "from steves_utils.torch_utils import get_dataset_metrics, ptn_confusion_by_domain_over_dataloader\n",
    "from steves_utils.utils_v2 import (per_domain_accuracy_from_confusion, get_datasets_base_path)\n",
    "from steves_utils.PTN.utils import independent_accuracy_assesment\n",
    "\n",
    "from torch.utils.data import DataLoader\n",
    "\n",
    "from steves_utils.stratified_dataset.episodic_accessor import Episodic_Accessor_Factory\n",
    "\n",
    "from steves_utils.ptn_do_report import (\n",
    "    get_loss_curve,\n",
    "    get_results_table,\n",
    "    get_parameters_table,\n",
    "    get_domain_accuracies,\n",
    ")\n",
    "\n",
    "from steves_utils.transforms import get_chained_transform"
   ]
  },
  {
   "cell_type": "markdown",
   "id": "41c840b4",
   "metadata": {
    "papermill": {
     "duration": 0.025026,
     "end_time": "2022-03-21T07:21:28.393068",
     "exception": false,
     "start_time": "2022-03-21T07:21:28.368042",
     "status": "completed"
    },
    "tags": []
   },
   "source": [
    "# Allowed Parameters\n",
    "These are allowed parameters, not defaults\n",
    "Each of these values need to be present in the injected parameters (the notebook will raise an exception if they are not present)\n",
    "\n",
    "Papermill uses the cell tag \"parameters\" to inject the real parameters below this cell.\n",
    "Enable tags to see what I mean"
   ]
  },
  {
   "cell_type": "code",
   "execution_count": 2,
   "id": "fd44eb83",
   "metadata": {
    "execution": {
     "iopub.execute_input": "2022-03-21T07:21:28.440205Z",
     "iopub.status.busy": "2022-03-21T07:21:28.439825Z",
     "iopub.status.idle": "2022-03-21T07:21:28.461868Z",
     "shell.execute_reply": "2022-03-21T07:21:28.461085Z"
    },
    "papermill": {
     "duration": 0.045792,
     "end_time": "2022-03-21T07:21:28.462025",
     "exception": false,
     "start_time": "2022-03-21T07:21:28.416233",
     "status": "completed"
    },
    "tags": []
   },
   "outputs": [],
   "source": [
    "required_parameters = {\n",
    "    \"experiment_name\",\n",
    "    \"lr\",\n",
    "    \"device\",\n",
    "    \"seed\",\n",
    "    \"dataset_seed\",\n",
    "    \"n_shot\",\n",
    "    \"n_query\",\n",
    "    \"n_way\",\n",
    "    \"train_k_factor\",\n",
    "    \"val_k_factor\",\n",
    "    \"test_k_factor\",\n",
    "    \"n_epoch\",\n",
    "    \"patience\",\n",
    "    \"criteria_for_best\",\n",
    "    \"x_net\",\n",
    "    \"datasets\",\n",
    "    \"torch_default_dtype\",\n",
    "    \"NUM_LOGS_PER_EPOCH\",\n",
    "    \"BEST_MODEL_PATH\",\n",
    "    \"x_shape\",\n",
    "}"
   ]
  },
  {
   "cell_type": "code",
   "execution_count": 3,
   "id": "fa3f0049",
   "metadata": {
    "execution": {
     "iopub.execute_input": "2022-03-21T07:21:28.521093Z",
     "iopub.status.busy": "2022-03-21T07:21:28.520261Z",
     "iopub.status.idle": "2022-03-21T07:21:28.543667Z",
     "shell.execute_reply": "2022-03-21T07:21:28.542860Z"
    },
    "papermill": {
     "duration": 0.056702,
     "end_time": "2022-03-21T07:21:28.543819",
     "exception": false,
     "start_time": "2022-03-21T07:21:28.487117",
     "status": "completed"
    },
    "tags": [
     "parameters"
    ]
   },
   "outputs": [],
   "source": [
    "from steves_utils.CORES.utils import (\n",
    "    ALL_NODES,\n",
    "    ALL_NODES_MINIMUM_1000_EXAMPLES,\n",
    "    ALL_DAYS\n",
    ")\n",
    "\n",
    "from steves_utils.ORACLE.utils_v2 import (\n",
    "    ALL_DISTANCES_FEET_NARROWED,\n",
    "    ALL_RUNS,\n",
    "    ALL_SERIAL_NUMBERS,\n",
    ")\n",
    "\n",
    "standalone_parameters = {}\n",
    "standalone_parameters[\"experiment_name\"] = \"STANDALONE PTN\"\n",
    "standalone_parameters[\"lr\"] = 0.001\n",
    "standalone_parameters[\"device\"] = \"cuda\"\n",
    "\n",
    "standalone_parameters[\"seed\"] = 1337\n",
    "standalone_parameters[\"dataset_seed\"] = 1337\n",
    "\n",
    "standalone_parameters[\"n_way\"] = 8\n",
    "standalone_parameters[\"n_shot\"] = 3\n",
    "standalone_parameters[\"n_query\"]  = 2\n",
    "standalone_parameters[\"train_k_factor\"] = 1\n",
    "standalone_parameters[\"val_k_factor\"] = 2\n",
    "standalone_parameters[\"test_k_factor\"] = 2\n",
    "\n",
    "\n",
    "standalone_parameters[\"n_epoch\"] = 50\n",
    "\n",
    "standalone_parameters[\"patience\"] = 10\n",
    "standalone_parameters[\"criteria_for_best\"] = \"source_loss\"\n",
    "\n",
    "standalone_parameters[\"datasets\"] = [\n",
    "    {\n",
    "        \"labels\": ALL_SERIAL_NUMBERS,\n",
    "        \"domains\": ALL_DISTANCES_FEET_NARROWED,\n",
    "        \"num_examples_per_domain_per_label\": 100,\n",
    "        \"pickle_path\": os.path.join(get_datasets_base_path(), \"oracle.Run1_framed_2000Examples_stratified_ds.2022A.pkl\"),\n",
    "        \"source_or_target_dataset\": \"source\",\n",
    "        \"x_transforms\": [\"unit_mag\", \"minus_two\"],\n",
    "        \"episode_transforms\": [],\n",
    "        \"domain_prefix\": \"ORACLE_\"\n",
    "    },\n",
    "    {\n",
    "        \"labels\": ALL_NODES,\n",
    "        \"domains\": ALL_DAYS,\n",
    "        \"num_examples_per_domain_per_label\": 100,\n",
    "        \"pickle_path\": os.path.join(get_datasets_base_path(), \"cores.stratified_ds.2022A.pkl\"),\n",
    "        \"source_or_target_dataset\": \"target\",\n",
    "        \"x_transforms\": [\"unit_power\", \"times_zero\"],\n",
    "        \"episode_transforms\": [],\n",
    "        \"domain_prefix\": \"CORES_\"\n",
    "    }   \n",
    "]\n",
    "\n",
    "standalone_parameters[\"torch_default_dtype\"] = \"torch.float32\" \n",
    "\n",
    "\n",
    "\n",
    "standalone_parameters[\"x_net\"] =     [\n",
    "    {\"class\": \"nnReshape\", \"kargs\": {\"shape\":[-1, 1, 2, 256]}},\n",
    "    {\"class\": \"Conv2d\", \"kargs\": { \"in_channels\":1, \"out_channels\":256, \"kernel_size\":(1,7), \"bias\":False, \"padding\":(0,3), },},\n",
    "    {\"class\": \"ReLU\", \"kargs\": {\"inplace\": True}},\n",
    "    {\"class\": \"BatchNorm2d\", \"kargs\": {\"num_features\":256}},\n",
    "\n",
    "    {\"class\": \"Conv2d\", \"kargs\": { \"in_channels\":256, \"out_channels\":80, \"kernel_size\":(2,7), \"bias\":True, \"padding\":(0,3), },},\n",
    "    {\"class\": \"ReLU\", \"kargs\": {\"inplace\": True}},\n",
    "    {\"class\": \"BatchNorm2d\", \"kargs\": {\"num_features\":80}},\n",
    "    {\"class\": \"Flatten\", \"kargs\": {}},\n",
    "\n",
    "    {\"class\": \"Linear\", \"kargs\": {\"in_features\": 80*256, \"out_features\": 256}}, # 80 units per IQ pair\n",
    "    {\"class\": \"ReLU\", \"kargs\": {\"inplace\": True}},\n",
    "    {\"class\": \"BatchNorm1d\", \"kargs\": {\"num_features\":256}},\n",
    "\n",
    "    {\"class\": \"Linear\", \"kargs\": {\"in_features\": 256, \"out_features\": 256}},\n",
    "]\n",
    "\n",
    "# Parameters relevant to results\n",
    "# These parameters will basically never need to change\n",
    "standalone_parameters[\"NUM_LOGS_PER_EPOCH\"] = 10\n",
    "standalone_parameters[\"BEST_MODEL_PATH\"] = \"./best_model.pth\"\n",
    "\n",
    "\n",
    "\n",
    "\n"
   ]
  },
  {
   "cell_type": "code",
   "execution_count": 4,
   "id": "ba729fdc",
   "metadata": {
    "execution": {
     "iopub.execute_input": "2022-03-21T07:21:28.608785Z",
     "iopub.status.busy": "2022-03-21T07:21:28.607830Z",
     "iopub.status.idle": "2022-03-21T07:21:28.629013Z",
     "shell.execute_reply": "2022-03-21T07:21:28.628211Z"
    },
    "papermill": {
     "duration": 0.055861,
     "end_time": "2022-03-21T07:21:28.629165",
     "exception": false,
     "start_time": "2022-03-21T07:21:28.573304",
     "status": "completed"
    },
    "tags": [
     "injected-parameters"
    ]
   },
   "outputs": [],
   "source": [
    "# Parameters\n",
    "parameters = {\n",
    "    \"experiment_name\": \"tl_1v2:cores-oracle.run1.framed\",\n",
    "    \"device\": \"cuda\",\n",
    "    \"lr\": 0.0001,\n",
    "    \"n_shot\": 3,\n",
    "    \"n_query\": 2,\n",
    "    \"train_k_factor\": 3,\n",
    "    \"val_k_factor\": 2,\n",
    "    \"test_k_factor\": 2,\n",
    "    \"torch_default_dtype\": \"torch.float32\",\n",
    "    \"n_epoch\": 50,\n",
    "    \"patience\": 3,\n",
    "    \"criteria_for_best\": \"target_accuracy\",\n",
    "    \"x_net\": [\n",
    "        {\"class\": \"nnReshape\", \"kargs\": {\"shape\": [-1, 1, 2, 256]}},\n",
    "        {\n",
    "            \"class\": \"Conv2d\",\n",
    "            \"kargs\": {\n",
    "                \"in_channels\": 1,\n",
    "                \"out_channels\": 256,\n",
    "                \"kernel_size\": [1, 7],\n",
    "                \"bias\": False,\n",
    "                \"padding\": [0, 3],\n",
    "            },\n",
    "        },\n",
    "        {\"class\": \"ReLU\", \"kargs\": {\"inplace\": True}},\n",
    "        {\"class\": \"BatchNorm2d\", \"kargs\": {\"num_features\": 256}},\n",
    "        {\n",
    "            \"class\": \"Conv2d\",\n",
    "            \"kargs\": {\n",
    "                \"in_channels\": 256,\n",
    "                \"out_channels\": 80,\n",
    "                \"kernel_size\": [2, 7],\n",
    "                \"bias\": True,\n",
    "                \"padding\": [0, 3],\n",
    "            },\n",
    "        },\n",
    "        {\"class\": \"ReLU\", \"kargs\": {\"inplace\": True}},\n",
    "        {\"class\": \"BatchNorm2d\", \"kargs\": {\"num_features\": 80}},\n",
    "        {\"class\": \"Flatten\", \"kargs\": {}},\n",
    "        {\"class\": \"Linear\", \"kargs\": {\"in_features\": 20480, \"out_features\": 256}},\n",
    "        {\"class\": \"ReLU\", \"kargs\": {\"inplace\": True}},\n",
    "        {\"class\": \"BatchNorm1d\", \"kargs\": {\"num_features\": 256}},\n",
    "        {\"class\": \"Linear\", \"kargs\": {\"in_features\": 256, \"out_features\": 256}},\n",
    "    ],\n",
    "    \"NUM_LOGS_PER_EPOCH\": 10,\n",
    "    \"BEST_MODEL_PATH\": \"./best_model.pth\",\n",
    "    \"n_way\": 16,\n",
    "    \"datasets\": [\n",
    "        {\n",
    "            \"labels\": [\n",
    "                \"1-10.\",\n",
    "                \"1-11.\",\n",
    "                \"1-15.\",\n",
    "                \"1-16.\",\n",
    "                \"1-17.\",\n",
    "                \"1-18.\",\n",
    "                \"1-19.\",\n",
    "                \"10-4.\",\n",
    "                \"10-7.\",\n",
    "                \"11-1.\",\n",
    "                \"11-14.\",\n",
    "                \"11-17.\",\n",
    "                \"11-20.\",\n",
    "                \"11-7.\",\n",
    "                \"13-20.\",\n",
    "                \"13-8.\",\n",
    "                \"14-10.\",\n",
    "                \"14-11.\",\n",
    "                \"14-14.\",\n",
    "                \"14-7.\",\n",
    "                \"15-1.\",\n",
    "                \"15-20.\",\n",
    "                \"16-1.\",\n",
    "                \"16-16.\",\n",
    "                \"17-10.\",\n",
    "                \"17-11.\",\n",
    "                \"17-2.\",\n",
    "                \"19-1.\",\n",
    "                \"19-16.\",\n",
    "                \"19-19.\",\n",
    "                \"19-20.\",\n",
    "                \"19-3.\",\n",
    "                \"2-10.\",\n",
    "                \"2-11.\",\n",
    "                \"2-17.\",\n",
    "                \"2-18.\",\n",
    "                \"2-20.\",\n",
    "                \"2-3.\",\n",
    "                \"2-4.\",\n",
    "                \"2-5.\",\n",
    "                \"2-6.\",\n",
    "                \"2-7.\",\n",
    "                \"2-8.\",\n",
    "                \"3-13.\",\n",
    "                \"3-18.\",\n",
    "                \"3-3.\",\n",
    "                \"4-1.\",\n",
    "                \"4-10.\",\n",
    "                \"4-11.\",\n",
    "                \"4-19.\",\n",
    "                \"5-5.\",\n",
    "                \"6-15.\",\n",
    "                \"7-10.\",\n",
    "                \"7-14.\",\n",
    "                \"8-18.\",\n",
    "                \"8-20.\",\n",
    "                \"8-3.\",\n",
    "                \"8-8.\",\n",
    "            ],\n",
    "            \"domains\": [1, 2, 3, 4, 5],\n",
    "            \"num_examples_per_domain_per_label\": -1,\n",
    "            \"pickle_path\": \"/root/csc500-main/datasets/cores.stratified_ds.2022A.pkl\",\n",
    "            \"source_or_target_dataset\": \"target\",\n",
    "            \"x_transforms\": [\"unit_power\"],\n",
    "            \"episode_transforms\": [],\n",
    "            \"domain_prefix\": \"CORES_\",\n",
    "        },\n",
    "        {\n",
    "            \"labels\": [\n",
    "                \"3123D52\",\n",
    "                \"3123D65\",\n",
    "                \"3123D79\",\n",
    "                \"3123D80\",\n",
    "                \"3123D54\",\n",
    "                \"3123D70\",\n",
    "                \"3123D7B\",\n",
    "                \"3123D89\",\n",
    "                \"3123D58\",\n",
    "                \"3123D76\",\n",
    "                \"3123D7D\",\n",
    "                \"3123EFE\",\n",
    "                \"3123D64\",\n",
    "                \"3123D78\",\n",
    "                \"3123D7E\",\n",
    "                \"3124E4A\",\n",
    "            ],\n",
    "            \"domains\": [32, 38, 8, 44, 14, 50, 20, 26],\n",
    "            \"num_examples_per_domain_per_label\": 2000,\n",
    "            \"pickle_path\": \"/root/csc500-main/datasets/oracle.Run1_framed_2000Examples_stratified_ds.2022A.pkl\",\n",
    "            \"source_or_target_dataset\": \"source\",\n",
    "            \"x_transforms\": [\"unit_power\"],\n",
    "            \"episode_transforms\": [],\n",
    "            \"domain_prefix\": \"ORACLE.run1_\",\n",
    "        },\n",
    "    ],\n",
    "    \"dataset_seed\": 420,\n",
    "    \"seed\": 420,\n",
    "}\n"
   ]
  },
  {
   "cell_type": "code",
   "execution_count": 5,
   "id": "8fa1cc33",
   "metadata": {
    "execution": {
     "iopub.execute_input": "2022-03-21T07:21:28.683929Z",
     "iopub.status.busy": "2022-03-21T07:21:28.683412Z",
     "iopub.status.idle": "2022-03-21T07:21:28.704930Z",
     "shell.execute_reply": "2022-03-21T07:21:28.705586Z"
    },
    "papermill": {
     "duration": 0.048452,
     "end_time": "2022-03-21T07:21:28.705760",
     "exception": false,
     "start_time": "2022-03-21T07:21:28.657308",
     "status": "completed"
    },
    "tags": []
   },
   "outputs": [],
   "source": [
    "# Set this to True if you want to run this template directly\n",
    "STANDALONE = False\n",
    "if STANDALONE:\n",
    "    print(\"parameters not injected, running with standalone_parameters\")\n",
    "    parameters = standalone_parameters\n",
    "\n",
    "if not 'parameters' in locals() and not 'parameters' in globals():\n",
    "    raise Exception(\"Parameter injection failed\")\n",
    "\n",
    "#Use an easy dict for all the parameters\n",
    "p = EasyDict(parameters)\n",
    "\n",
    "if \"x_shape\" not in p:\n",
    "    p.x_shape = [2,256] # Default to this if we dont supply x_shape\n",
    "\n",
    "\n",
    "supplied_keys = set(p.keys())\n",
    "\n",
    "if  supplied_keys != required_parameters:\n",
    "    print(\"Parameters are incorrect\")\n",
    "    if len(supplied_keys - required_parameters)>0: print(\"Shouldn't have:\", str(supplied_keys - required_parameters))\n",
    "    if len(required_parameters - supplied_keys)>0: print(\"Need to have:\", str(required_parameters - supplied_keys))\n",
    "    raise RuntimeError(\"Parameters are incorrect\")"
   ]
  },
  {
   "cell_type": "code",
   "execution_count": 6,
   "id": "3a028d58",
   "metadata": {
    "execution": {
     "iopub.execute_input": "2022-03-21T07:21:28.761773Z",
     "iopub.status.busy": "2022-03-21T07:21:28.759631Z",
     "iopub.status.idle": "2022-03-21T07:21:28.776665Z",
     "shell.execute_reply": "2022-03-21T07:21:28.775875Z"
    },
    "papermill": {
     "duration": 0.044114,
     "end_time": "2022-03-21T07:21:28.776814",
     "exception": false,
     "start_time": "2022-03-21T07:21:28.732700",
     "status": "completed"
    },
    "tags": []
   },
   "outputs": [],
   "source": [
    "###################################\n",
    "# Set the RNGs and make it all deterministic\n",
    "###################################\n",
    "np.random.seed(p.seed)\n",
    "random.seed(p.seed)\n",
    "torch.manual_seed(p.seed)\n",
    "\n",
    "torch.use_deterministic_algorithms(True) "
   ]
  },
  {
   "cell_type": "code",
   "execution_count": 7,
   "id": "b691acf6",
   "metadata": {
    "execution": {
     "iopub.execute_input": "2022-03-21T07:21:28.827934Z",
     "iopub.status.busy": "2022-03-21T07:21:28.826776Z",
     "iopub.status.idle": "2022-03-21T07:21:28.849921Z",
     "shell.execute_reply": "2022-03-21T07:21:28.850580Z"
    },
    "papermill": {
     "duration": 0.046427,
     "end_time": "2022-03-21T07:21:28.850754",
     "exception": false,
     "start_time": "2022-03-21T07:21:28.804327",
     "status": "completed"
    },
    "tags": []
   },
   "outputs": [],
   "source": [
    "###########################################\n",
    "# The stratified datasets honor this\n",
    "###########################################\n",
    "torch.set_default_dtype(eval(p.torch_default_dtype))"
   ]
  },
  {
   "cell_type": "code",
   "execution_count": 8,
   "id": "b5fba671",
   "metadata": {
    "execution": {
     "iopub.execute_input": "2022-03-21T07:21:28.899315Z",
     "iopub.status.busy": "2022-03-21T07:21:28.898954Z",
     "iopub.status.idle": "2022-03-21T07:21:28.950857Z",
     "shell.execute_reply": "2022-03-21T07:21:28.950168Z"
    },
    "papermill": {
     "duration": 0.073494,
     "end_time": "2022-03-21T07:21:28.951008",
     "exception": false,
     "start_time": "2022-03-21T07:21:28.877514",
     "status": "completed"
    },
    "tags": []
   },
   "outputs": [],
   "source": [
    "###################################\n",
    "# Build the network(s)\n",
    "# Note: It's critical to do this AFTER setting the RNG\n",
    "###################################\n",
    "x_net = build_sequential(p.x_net)"
   ]
  },
  {
   "cell_type": "code",
   "execution_count": 9,
   "id": "5d7e61cc",
   "metadata": {
    "execution": {
     "iopub.execute_input": "2022-03-21T07:21:28.999494Z",
     "iopub.status.busy": "2022-03-21T07:21:28.999132Z",
     "iopub.status.idle": "2022-03-21T07:21:29.023791Z",
     "shell.execute_reply": "2022-03-21T07:21:29.022992Z"
    },
    "papermill": {
     "duration": 0.048088,
     "end_time": "2022-03-21T07:21:29.023943",
     "exception": false,
     "start_time": "2022-03-21T07:21:28.975855",
     "status": "completed"
    },
    "tags": []
   },
   "outputs": [],
   "source": [
    "start_time_secs = time.time()"
   ]
  },
  {
   "cell_type": "code",
   "execution_count": 10,
   "id": "c6b67dfd",
   "metadata": {
    "execution": {
     "iopub.execute_input": "2022-03-21T07:21:29.077429Z",
     "iopub.status.busy": "2022-03-21T07:21:29.077068Z",
     "iopub.status.idle": "2022-03-21T07:21:29.098451Z",
     "shell.execute_reply": "2022-03-21T07:21:29.097660Z"
    },
    "papermill": {
     "duration": 0.046385,
     "end_time": "2022-03-21T07:21:29.098600",
     "exception": false,
     "start_time": "2022-03-21T07:21:29.052215",
     "status": "completed"
    },
    "tags": []
   },
   "outputs": [],
   "source": [
    "p.domains_source = []\n",
    "p.domains_target = []\n",
    "\n",
    "\n",
    "train_original_source = []\n",
    "val_original_source   = []\n",
    "test_original_source  = []\n",
    "\n",
    "train_original_target = []\n",
    "val_original_target   = []\n",
    "test_original_target  = []"
   ]
  },
  {
   "cell_type": "code",
   "execution_count": 11,
   "id": "e3d9c3d3",
   "metadata": {
    "execution": {
     "iopub.execute_input": "2022-03-21T07:21:29.146856Z",
     "iopub.status.busy": "2022-03-21T07:21:29.146494Z",
     "iopub.status.idle": "2022-03-21T07:21:29.170021Z",
     "shell.execute_reply": "2022-03-21T07:21:29.169231Z"
    },
    "papermill": {
     "duration": 0.046172,
     "end_time": "2022-03-21T07:21:29.170173",
     "exception": false,
     "start_time": "2022-03-21T07:21:29.124001",
     "status": "completed"
    },
    "tags": []
   },
   "outputs": [],
   "source": [
    "# global_x_transform_func = lambda x: normalize(x.to(torch.get_default_dtype()), \"unit_power\") # unit_power, unit_mag\n",
    "# global_x_transform_func = lambda x: normalize(x, \"unit_power\") # unit_power, unit_mag"
   ]
  },
  {
   "cell_type": "code",
   "execution_count": 12,
   "id": "acb78fd2",
   "metadata": {
    "execution": {
     "iopub.execute_input": "2022-03-21T07:21:29.228225Z",
     "iopub.status.busy": "2022-03-21T07:21:29.223541Z",
     "iopub.status.idle": "2022-03-21T07:21:29.248029Z",
     "shell.execute_reply": "2022-03-21T07:21:29.247203Z"
    },
    "papermill": {
     "duration": 0.052381,
     "end_time": "2022-03-21T07:21:29.248184",
     "exception": false,
     "start_time": "2022-03-21T07:21:29.195803",
     "status": "completed"
    },
    "tags": []
   },
   "outputs": [],
   "source": [
    "def add_dataset(\n",
    "    labels,\n",
    "    domains,\n",
    "    pickle_path,\n",
    "    x_transforms,\n",
    "    episode_transforms,\n",
    "    domain_prefix,\n",
    "    num_examples_per_domain_per_label,\n",
    "    source_or_target_dataset:str,\n",
    "    iterator_seed=p.seed,\n",
    "    dataset_seed=p.dataset_seed,\n",
    "    n_shot=p.n_shot,\n",
    "    n_way=p.n_way,\n",
    "    n_query=p.n_query,\n",
    "    train_val_test_k_factors=(p.train_k_factor,p.val_k_factor,p.test_k_factor),\n",
    "):\n",
    "   \n",
    "    if x_transforms == []: x_transform = None\n",
    "    else: x_transform = get_chained_transform(x_transforms)\n",
    "    \n",
    "    if episode_transforms == []: episode_transform = None\n",
    "    else: raise Exception(\"episode_transforms not implemented\")\n",
    "    \n",
    "    episode_transform = lambda tup, _prefix=domain_prefix: (_prefix + str(tup[0]), tup[1])\n",
    "\n",
    "\n",
    "    eaf = Episodic_Accessor_Factory(\n",
    "        labels=labels,\n",
    "        domains=domains,\n",
    "        num_examples_per_domain_per_label=num_examples_per_domain_per_label,\n",
    "        iterator_seed=iterator_seed,\n",
    "        dataset_seed=dataset_seed,\n",
    "        n_shot=n_shot,\n",
    "        n_way=n_way,\n",
    "        n_query=n_query,\n",
    "        train_val_test_k_factors=train_val_test_k_factors,\n",
    "        pickle_path=pickle_path,\n",
    "        x_transform_func=x_transform,\n",
    "    )\n",
    "\n",
    "    train, val, test = eaf.get_train(), eaf.get_val(), eaf.get_test()\n",
    "    train = Lazy_Iterable_Wrapper(train, episode_transform)\n",
    "    val = Lazy_Iterable_Wrapper(val, episode_transform)\n",
    "    test = Lazy_Iterable_Wrapper(test, episode_transform)\n",
    "\n",
    "    if source_or_target_dataset==\"source\":\n",
    "        train_original_source.append(train)\n",
    "        val_original_source.append(val)\n",
    "        test_original_source.append(test)\n",
    "\n",
    "        p.domains_source.extend(\n",
    "            [domain_prefix + str(u) for u in domains]\n",
    "        )\n",
    "    elif source_or_target_dataset==\"target\":\n",
    "        train_original_target.append(train)\n",
    "        val_original_target.append(val)\n",
    "        test_original_target.append(test)\n",
    "        p.domains_target.extend(\n",
    "            [domain_prefix + str(u) for u in domains]\n",
    "        )\n",
    "    else:\n",
    "        raise Exception(f\"invalid source_or_target_dataset: {source_or_target_dataset}\")\n",
    "    "
   ]
  },
  {
   "cell_type": "code",
   "execution_count": 13,
   "id": "fe266617",
   "metadata": {
    "execution": {
     "iopub.execute_input": "2022-03-21T07:21:29.299153Z",
     "iopub.status.busy": "2022-03-21T07:21:29.298791Z",
     "iopub.status.idle": "2022-03-21T07:22:12.480495Z",
     "shell.execute_reply": "2022-03-21T07:22:12.479731Z"
    },
    "papermill": {
     "duration": 43.205774,
     "end_time": "2022-03-21T07:22:12.480675",
     "exception": false,
     "start_time": "2022-03-21T07:21:29.274901",
     "status": "completed"
    },
    "tags": []
   },
   "outputs": [],
   "source": [
    "for ds in p.datasets:\n",
    "    add_dataset(**ds)"
   ]
  },
  {
   "cell_type": "code",
   "execution_count": 14,
   "id": "b90d65ac",
   "metadata": {
    "execution": {
     "iopub.execute_input": "2022-03-21T07:22:12.531013Z",
     "iopub.status.busy": "2022-03-21T07:22:12.530504Z",
     "iopub.status.idle": "2022-03-21T07:22:12.554983Z",
     "shell.execute_reply": "2022-03-21T07:22:12.554150Z"
    },
    "papermill": {
     "duration": 0.049205,
     "end_time": "2022-03-21T07:22:12.555153",
     "exception": false,
     "start_time": "2022-03-21T07:22:12.505948",
     "status": "completed"
    },
    "tags": []
   },
   "outputs": [],
   "source": [
    "# from steves_utils.CORES.utils import (\n",
    "#     ALL_NODES,\n",
    "#     ALL_NODES_MINIMUM_1000_EXAMPLES,\n",
    "#     ALL_DAYS\n",
    "# )\n",
    "\n",
    "# add_dataset(\n",
    "#     labels=ALL_NODES,\n",
    "#     domains = ALL_DAYS,\n",
    "#     num_examples_per_domain_per_label=100,\n",
    "#     pickle_path=os.path.join(get_datasets_base_path(), \"cores.stratified_ds.2022A.pkl\"),\n",
    "#     source_or_target_dataset=\"target\",\n",
    "#     x_transform_func=global_x_transform_func,\n",
    "#     domain_modifier=lambda u: f\"cores_{u}\"\n",
    "# )"
   ]
  },
  {
   "cell_type": "code",
   "execution_count": 15,
   "id": "76db484d",
   "metadata": {
    "execution": {
     "iopub.execute_input": "2022-03-21T07:22:12.613180Z",
     "iopub.status.busy": "2022-03-21T07:22:12.612797Z",
     "iopub.status.idle": "2022-03-21T07:22:12.629625Z",
     "shell.execute_reply": "2022-03-21T07:22:12.628892Z"
    },
    "papermill": {
     "duration": 0.046198,
     "end_time": "2022-03-21T07:22:12.629785",
     "exception": false,
     "start_time": "2022-03-21T07:22:12.583587",
     "status": "completed"
    },
    "tags": []
   },
   "outputs": [],
   "source": [
    "# from steves_utils.ORACLE.utils_v2 import (\n",
    "#     ALL_DISTANCES_FEET,\n",
    "#     ALL_RUNS,\n",
    "#     ALL_SERIAL_NUMBERS,\n",
    "# )\n",
    "\n",
    "\n",
    "# add_dataset(\n",
    "#     labels=ALL_SERIAL_NUMBERS,\n",
    "#     domains = list(set(ALL_DISTANCES_FEET) - {2,62}),\n",
    "#     num_examples_per_domain_per_label=100,\n",
    "#     pickle_path=os.path.join(get_datasets_base_path(), \"oracle.Run2_framed_2000Examples_stratified_ds.2022A.pkl\"),\n",
    "#     source_or_target_dataset=\"source\",\n",
    "#     x_transform_func=global_x_transform_func,\n",
    "#     domain_modifier=lambda u: f\"oracle1_{u}\"\n",
    "# )\n"
   ]
  },
  {
   "cell_type": "code",
   "execution_count": 16,
   "id": "97dea9d2",
   "metadata": {
    "execution": {
     "iopub.execute_input": "2022-03-21T07:22:12.679850Z",
     "iopub.status.busy": "2022-03-21T07:22:12.679460Z",
     "iopub.status.idle": "2022-03-21T07:22:12.696314Z",
     "shell.execute_reply": "2022-03-21T07:22:12.695611Z"
    },
    "papermill": {
     "duration": 0.040153,
     "end_time": "2022-03-21T07:22:12.696473",
     "exception": false,
     "start_time": "2022-03-21T07:22:12.656320",
     "status": "completed"
    },
    "tags": []
   },
   "outputs": [],
   "source": [
    "# from steves_utils.ORACLE.utils_v2 import (\n",
    "#     ALL_DISTANCES_FEET,\n",
    "#     ALL_RUNS,\n",
    "#     ALL_SERIAL_NUMBERS,\n",
    "# )\n",
    "\n",
    "\n",
    "# add_dataset(\n",
    "#     labels=ALL_SERIAL_NUMBERS,\n",
    "#     domains = list(set(ALL_DISTANCES_FEET) - {2,62,56}),\n",
    "#     num_examples_per_domain_per_label=100,\n",
    "#     pickle_path=os.path.join(get_datasets_base_path(), \"oracle.Run2_framed_2000Examples_stratified_ds.2022A.pkl\"),\n",
    "#     source_or_target_dataset=\"source\",\n",
    "#     x_transform_func=global_x_transform_func,\n",
    "#     domain_modifier=lambda u: f\"oracle2_{u}\"\n",
    "# )"
   ]
  },
  {
   "cell_type": "code",
   "execution_count": 17,
   "id": "6f289866",
   "metadata": {
    "execution": {
     "iopub.execute_input": "2022-03-21T07:22:12.745514Z",
     "iopub.status.busy": "2022-03-21T07:22:12.745141Z",
     "iopub.status.idle": "2022-03-21T07:22:12.763991Z",
     "shell.execute_reply": "2022-03-21T07:22:12.763299Z"
    },
    "papermill": {
     "duration": 0.042749,
     "end_time": "2022-03-21T07:22:12.764155",
     "exception": false,
     "start_time": "2022-03-21T07:22:12.721406",
     "status": "completed"
    },
    "tags": []
   },
   "outputs": [],
   "source": [
    "# add_dataset(\n",
    "#     labels=list(range(19)),\n",
    "#     domains = [0,1,2],\n",
    "#     num_examples_per_domain_per_label=100,\n",
    "#     pickle_path=os.path.join(get_datasets_base_path(), \"metehan.stratified_ds.2022A.pkl\"),\n",
    "#     source_or_target_dataset=\"target\",\n",
    "#     x_transform_func=global_x_transform_func,\n",
    "#     domain_modifier=lambda u: f\"met_{u}\"\n",
    "# )"
   ]
  },
  {
   "cell_type": "code",
   "execution_count": 18,
   "id": "86a863c3",
   "metadata": {
    "execution": {
     "iopub.execute_input": "2022-03-21T07:22:12.813265Z",
     "iopub.status.busy": "2022-03-21T07:22:12.812887Z",
     "iopub.status.idle": "2022-03-21T07:22:12.829705Z",
     "shell.execute_reply": "2022-03-21T07:22:12.828994Z"
    },
    "papermill": {
     "duration": 0.040328,
     "end_time": "2022-03-21T07:22:12.829871",
     "exception": false,
     "start_time": "2022-03-21T07:22:12.789543",
     "status": "completed"
    },
    "tags": []
   },
   "outputs": [],
   "source": [
    "# # from steves_utils.wisig.utils import (\n",
    "# #     ALL_NODES_MINIMUM_100_EXAMPLES,\n",
    "# #     ALL_NODES_MINIMUM_500_EXAMPLES,\n",
    "# #     ALL_NODES_MINIMUM_1000_EXAMPLES,\n",
    "# #     ALL_DAYS\n",
    "# # )\n",
    "\n",
    "# import steves_utils.wisig.utils as wisig\n",
    "\n",
    "\n",
    "# add_dataset(\n",
    "#     labels=wisig.ALL_NODES_MINIMUM_100_EXAMPLES,\n",
    "#     domains = wisig.ALL_DAYS,\n",
    "#     num_examples_per_domain_per_label=100,\n",
    "#     pickle_path=os.path.join(get_datasets_base_path(), \"wisig.node3-19.stratified_ds.2022A.pkl\"),\n",
    "#     source_or_target_dataset=\"target\",\n",
    "#     x_transform_func=global_x_transform_func,\n",
    "#     domain_modifier=lambda u: f\"wisig_{u}\"\n",
    "# )"
   ]
  },
  {
   "cell_type": "code",
   "execution_count": 19,
   "id": "fd5442bc",
   "metadata": {
    "execution": {
     "iopub.execute_input": "2022-03-21T07:22:12.885507Z",
     "iopub.status.busy": "2022-03-21T07:22:12.884841Z",
     "iopub.status.idle": "2022-03-21T07:22:12.904360Z",
     "shell.execute_reply": "2022-03-21T07:22:12.903661Z"
    },
    "papermill": {
     "duration": 0.046975,
     "end_time": "2022-03-21T07:22:12.904514",
     "exception": false,
     "start_time": "2022-03-21T07:22:12.857539",
     "status": "completed"
    },
    "tags": []
   },
   "outputs": [],
   "source": [
    "###################################\n",
    "# Build the dataset\n",
    "###################################\n",
    "train_original_source = Iterable_Aggregator(train_original_source, p.seed)\n",
    "val_original_source = Iterable_Aggregator(val_original_source, p.seed)\n",
    "test_original_source = Iterable_Aggregator(test_original_source, p.seed)\n",
    "\n",
    "\n",
    "train_original_target = Iterable_Aggregator(train_original_target, p.seed)\n",
    "val_original_target = Iterable_Aggregator(val_original_target, p.seed)\n",
    "test_original_target = Iterable_Aggregator(test_original_target, p.seed)\n",
    "\n",
    "# For CNN We only use X and Y. And we only train on the source.\n",
    "# Properly form the data using a transform lambda and Lazy_Iterable_Wrapper. Finally wrap them in a dataloader\n",
    "\n",
    "transform_lambda = lambda ex: ex[1] # Original is (<domain>, <episode>) so we strip down to episode only\n",
    "\n",
    "train_processed_source = Lazy_Iterable_Wrapper(train_original_source, transform_lambda)\n",
    "val_processed_source   = Lazy_Iterable_Wrapper(val_original_source, transform_lambda)\n",
    "test_processed_source  = Lazy_Iterable_Wrapper(test_original_source, transform_lambda)\n",
    "\n",
    "train_processed_target = Lazy_Iterable_Wrapper(train_original_target, transform_lambda)\n",
    "val_processed_target   = Lazy_Iterable_Wrapper(val_original_target, transform_lambda)\n",
    "test_processed_target  = Lazy_Iterable_Wrapper(test_original_target, transform_lambda)\n",
    "\n",
    "datasets = EasyDict({\n",
    "    \"source\": {\n",
    "        \"original\": {\"train\":train_original_source, \"val\":val_original_source, \"test\":test_original_source},\n",
    "        \"processed\": {\"train\":train_processed_source, \"val\":val_processed_source, \"test\":test_processed_source}\n",
    "    },\n",
    "    \"target\": {\n",
    "        \"original\": {\"train\":train_original_target, \"val\":val_original_target, \"test\":test_original_target},\n",
    "        \"processed\": {\"train\":train_processed_target, \"val\":val_processed_target, \"test\":test_processed_target}\n",
    "    },\n",
    "})"
   ]
  },
  {
   "cell_type": "code",
   "execution_count": 20,
   "id": "5b3c01fc",
   "metadata": {
    "execution": {
     "iopub.execute_input": "2022-03-21T07:22:12.957963Z",
     "iopub.status.busy": "2022-03-21T07:22:12.957585Z",
     "iopub.status.idle": "2022-03-21T07:22:28.154986Z",
     "shell.execute_reply": "2022-03-21T07:22:28.155809Z"
    },
    "papermill": {
     "duration": 15.222761,
     "end_time": "2022-03-21T07:22:28.156034",
     "exception": false,
     "start_time": "2022-03-21T07:22:12.933273",
     "status": "completed"
    },
    "tags": []
   },
   "outputs": [
    {
     "name": "stdout",
     "output_type": "stream",
     "text": [
      "{'ORACLE.run1_26', 'ORACLE.run1_44', 'ORACLE.run1_38', 'ORACLE.run1_8', 'ORACLE.run1_14', 'ORACLE.run1_20', 'ORACLE.run1_50', 'ORACLE.run1_32'}\n"
     ]
    },
    {
     "name": "stdout",
     "output_type": "stream",
     "text": [
      "{'CORES_5', 'CORES_2', 'CORES_1', 'CORES_3', 'CORES_4'}\n"
     ]
    },
    {
     "name": "stdout",
     "output_type": "stream",
     "text": [
      "tensor([[[ 0.6495,  0.3202, -0.9787,  ..., -0.2744,  1.3812,  0.4757],\n",
      "         [ 0.1555,  1.2166, -0.3110,  ..., -1.0611, -0.1738, -0.7043]],\n",
      "\n",
      "        [[-0.6653,  0.5267,  0.5452,  ..., -0.5452, -1.2104, -0.7669],\n",
      "         [-0.4990, -1.0349,  0.9517,  ...,  1.0441, -0.7854,  0.2864]],\n",
      "\n",
      "        [[-0.0370,  1.1380, -0.2313,  ..., -1.0917, -0.1573, -0.7402],\n",
      "         [-0.5829, -0.1665,  1.0177,  ..., -0.0185, -1.4618, -0.5551]],\n",
      "\n",
      "        ...,\n",
      "\n",
      "        [[ 0.7020,  0.1576, -0.9455,  ..., -0.2650,  1.3467,  0.3940],\n",
      "         [ 0.1648,  1.0745, -0.4083,  ..., -1.0960, -0.1433, -0.9384]],\n",
      "\n",
      "        [[ 0.9806,  0.3002, -1.2808,  ..., -0.1067,  1.0273, -0.7472],\n",
      "         [ 0.1001,  0.8339, -0.1201,  ..., -0.9473, -0.8139, -0.9473]],\n",
      "\n",
      "        [[ 0.8709,  0.5375, -0.9934,  ..., -0.7689, -0.2041, -1.3336],\n",
      "         [-0.7008,  0.5307,  0.9254,  ..., -0.8097, -1.1976,  0.2450]]])\n"
     ]
    }
   ],
   "source": [
    "from steves_utils.transforms import get_average_magnitude, get_average_power\n",
    "\n",
    "print(set([u for u,_ in val_original_source]))\n",
    "print(set([u for u,_ in val_original_target]))\n",
    "\n",
    "s_x, s_y, q_x, q_y, _ = next(iter(train_processed_source))\n",
    "print(s_x)\n",
    "\n",
    "# for ds in [\n",
    "#     train_processed_source,\n",
    "#     val_processed_source,\n",
    "#     test_processed_source,\n",
    "#     train_processed_target,\n",
    "#     val_processed_target,\n",
    "#     test_processed_target\n",
    "# ]:\n",
    "#     for s_x, s_y, q_x, q_y, _ in ds:\n",
    "#         for X in (s_x, q_x):\n",
    "#             for x in X:\n",
    "#                 assert np.isclose(get_average_magnitude(x.numpy()), 1.0)\n",
    "#                 assert np.isclose(get_average_power(x.numpy()), 1.0)\n",
    "                "
   ]
  },
  {
   "cell_type": "code",
   "execution_count": 21,
   "id": "bbdacba1",
   "metadata": {
    "execution": {
     "iopub.execute_input": "2022-03-21T07:22:28.214051Z",
     "iopub.status.busy": "2022-03-21T07:22:28.213136Z",
     "iopub.status.idle": "2022-03-21T07:22:28.483165Z",
     "shell.execute_reply": "2022-03-21T07:22:28.482591Z"
    },
    "papermill": {
     "duration": 0.297339,
     "end_time": "2022-03-21T07:22:28.483324",
     "exception": false,
     "start_time": "2022-03-21T07:22:28.185985",
     "status": "completed"
    },
    "tags": []
   },
   "outputs": [
    {
     "name": "stdout",
     "output_type": "stream",
     "text": [
      "(2, 256)\n"
     ]
    }
   ],
   "source": [
    "###################################\n",
    "# Build the model\n",
    "###################################\n",
    "# easfsl only wants a tuple for the shape\n",
    "model = Steves_Prototypical_Network(x_net, device=p.device, x_shape=tuple(p.x_shape))\n",
    "optimizer = Adam(params=model.parameters(), lr=p.lr)"
   ]
  },
  {
   "cell_type": "code",
   "execution_count": 22,
   "id": "22b39ac5",
   "metadata": {
    "execution": {
     "iopub.execute_input": "2022-03-21T07:22:28.552411Z",
     "iopub.status.busy": "2022-03-21T07:22:28.551836Z",
     "iopub.status.idle": "2022-03-21T07:43:44.578742Z",
     "shell.execute_reply": "2022-03-21T07:43:44.578359Z"
    },
    "papermill": {
     "duration": 1276.067913,
     "end_time": "2022-03-21T07:43:44.578827",
     "exception": false,
     "start_time": "2022-03-21T07:22:28.510914",
     "status": "completed"
    },
    "tags": []
   },
   "outputs": [
    {
     "name": "stdout",
     "output_type": "stream",
     "text": [
      "epoch: 1, [batch: 1 / 6720], examples_per_second: 32.8138, train_label_loss: 3.0184, \n"
     ]
    },
    {
     "name": "stdout",
     "output_type": "stream",
     "text": [
      "epoch: 1, [batch: 672 / 6720], examples_per_second: 2290.5152, train_label_loss: 0.9097, \n"
     ]
    },
    {
     "name": "stdout",
     "output_type": "stream",
     "text": [
      "epoch: 1, [batch: 1344 / 6720], examples_per_second: 2294.4242, train_label_loss: 0.6771, \n"
     ]
    },
    {
     "name": "stdout",
     "output_type": "stream",
     "text": [
      "epoch: 1, [batch: 2016 / 6720], examples_per_second: 2297.5614, train_label_loss: 0.8936, \n"
     ]
    },
    {
     "name": "stdout",
     "output_type": "stream",
     "text": [
      "epoch: 1, [batch: 2688 / 6720], examples_per_second: 2280.4518, train_label_loss: 0.5017, \n"
     ]
    },
    {
     "name": "stdout",
     "output_type": "stream",
     "text": [
      "epoch: 1, [batch: 3360 / 6720], examples_per_second: 2285.3756, train_label_loss: 0.8468, \n"
     ]
    },
    {
     "name": "stdout",
     "output_type": "stream",
     "text": [
      "epoch: 1, [batch: 4032 / 6720], examples_per_second: 2283.2401, train_label_loss: 0.4590, \n"
     ]
    },
    {
     "name": "stdout",
     "output_type": "stream",
     "text": [
      "epoch: 1, [batch: 4704 / 6720], examples_per_second: 2822.6969, train_label_loss: 0.4310, \n"
     ]
    },
    {
     "name": "stdout",
     "output_type": "stream",
     "text": [
      "epoch: 1, [batch: 5376 / 6720], examples_per_second: 2952.6821, train_label_loss: 0.7015, \n"
     ]
    },
    {
     "name": "stdout",
     "output_type": "stream",
     "text": [
      "epoch: 1, [batch: 6048 / 6720], examples_per_second: 3074.1685, train_label_loss: 0.3798, \n"
     ]
    },
    {
     "name": "stdout",
     "output_type": "stream",
     "text": [
      "=============================================================\n",
      "epoch: 1, source_val_acc_label: 0.7799, target_val_acc_label: 0.8159, source_val_label_loss: 7.1634, target_val_label_loss: 119.4977, \n",
      "=============================================================\n"
     ]
    },
    {
     "name": "stdout",
     "output_type": "stream",
     "text": [
      "New best\n"
     ]
    },
    {
     "name": "stdout",
     "output_type": "stream",
     "text": [
      "epoch: 2, [batch: 1 / 6720], examples_per_second: 2.0670, train_label_loss: 0.5487, \n"
     ]
    },
    {
     "name": "stdout",
     "output_type": "stream",
     "text": [
      "epoch: 2, [batch: 672 / 6720], examples_per_second: 2288.9417, train_label_loss: 0.6204, \n"
     ]
    },
    {
     "name": "stdout",
     "output_type": "stream",
     "text": [
      "epoch: 2, [batch: 1344 / 6720], examples_per_second: 2296.3075, train_label_loss: 0.5185, \n"
     ]
    },
    {
     "name": "stdout",
     "output_type": "stream",
     "text": [
      "epoch: 2, [batch: 2016 / 6720], examples_per_second: 2345.6142, train_label_loss: 0.2307, \n"
     ]
    },
    {
     "name": "stdout",
     "output_type": "stream",
     "text": [
      "epoch: 2, [batch: 2688 / 6720], examples_per_second: 2300.7453, train_label_loss: 0.5807, \n"
     ]
    },
    {
     "name": "stdout",
     "output_type": "stream",
     "text": [
      "epoch: 2, [batch: 3360 / 6720], examples_per_second: 2304.1901, train_label_loss: 0.4704, \n"
     ]
    },
    {
     "name": "stdout",
     "output_type": "stream",
     "text": [
      "epoch: 2, [batch: 4032 / 6720], examples_per_second: 2284.1983, train_label_loss: 0.3779, \n"
     ]
    },
    {
     "name": "stdout",
     "output_type": "stream",
     "text": [
      "epoch: 2, [batch: 4704 / 6720], examples_per_second: 2781.5103, train_label_loss: 0.5043, \n"
     ]
    },
    {
     "name": "stdout",
     "output_type": "stream",
     "text": [
      "epoch: 2, [batch: 5376 / 6720], examples_per_second: 2981.4636, train_label_loss: 0.6888, \n"
     ]
    },
    {
     "name": "stdout",
     "output_type": "stream",
     "text": [
      "epoch: 2, [batch: 6048 / 6720], examples_per_second: 3030.1878, train_label_loss: 0.1998, \n"
     ]
    },
    {
     "name": "stdout",
     "output_type": "stream",
     "text": [
      "=============================================================\n",
      "epoch: 2, source_val_acc_label: 0.8053, target_val_acc_label: 0.7751, source_val_label_loss: 0.5305, target_val_label_loss: 85.9208, \n",
      "=============================================================\n"
     ]
    },
    {
     "name": "stdout",
     "output_type": "stream",
     "text": [
      "epoch: 3, [batch: 1 / 6720], examples_per_second: 2.3684, train_label_loss: 0.3085, \n"
     ]
    },
    {
     "name": "stdout",
     "output_type": "stream",
     "text": [
      "epoch: 3, [batch: 672 / 6720], examples_per_second: 2577.0102, train_label_loss: 0.5682, \n"
     ]
    },
    {
     "name": "stdout",
     "output_type": "stream",
     "text": [
      "epoch: 3, [batch: 1344 / 6720], examples_per_second: 2613.3365, train_label_loss: 0.9622, \n"
     ]
    },
    {
     "name": "stdout",
     "output_type": "stream",
     "text": [
      "epoch: 3, [batch: 2016 / 6720], examples_per_second: 2609.4352, train_label_loss: 0.2045, \n"
     ]
    },
    {
     "name": "stdout",
     "output_type": "stream",
     "text": [
      "epoch: 3, [batch: 2688 / 6720], examples_per_second: 2604.4299, train_label_loss: 0.5913, \n"
     ]
    },
    {
     "name": "stdout",
     "output_type": "stream",
     "text": [
      "epoch: 3, [batch: 3360 / 6720], examples_per_second: 2607.9425, train_label_loss: 0.6173, \n"
     ]
    },
    {
     "name": "stdout",
     "output_type": "stream",
     "text": [
      "epoch: 3, [batch: 4032 / 6720], examples_per_second: 2835.6937, train_label_loss: 0.4030, \n"
     ]
    },
    {
     "name": "stdout",
     "output_type": "stream",
     "text": [
      "epoch: 3, [batch: 4704 / 6720], examples_per_second: 3346.1458, train_label_loss: 0.2875, \n"
     ]
    },
    {
     "name": "stdout",
     "output_type": "stream",
     "text": [
      "epoch: 3, [batch: 5376 / 6720], examples_per_second: 3436.9368, train_label_loss: 0.5294, \n"
     ]
    },
    {
     "name": "stdout",
     "output_type": "stream",
     "text": [
      "epoch: 3, [batch: 6048 / 6720], examples_per_second: 3487.0736, train_label_loss: 0.2600, \n"
     ]
    },
    {
     "name": "stdout",
     "output_type": "stream",
     "text": [
      "=============================================================\n",
      "epoch: 3, source_val_acc_label: 0.8492, target_val_acc_label: 0.7986, source_val_label_loss: 0.4118, target_val_label_loss: 95.4540, \n",
      "=============================================================\n"
     ]
    },
    {
     "name": "stdout",
     "output_type": "stream",
     "text": [
      "epoch: 4, [batch: 1 / 6720], examples_per_second: 2.8295, train_label_loss: 0.3357, \n"
     ]
    },
    {
     "name": "stdout",
     "output_type": "stream",
     "text": [
      "epoch: 4, [batch: 672 / 6720], examples_per_second: 2994.9761, train_label_loss: 0.3497, \n"
     ]
    },
    {
     "name": "stdout",
     "output_type": "stream",
     "text": [
      "epoch: 4, [batch: 1344 / 6720], examples_per_second: 2894.9050, train_label_loss: 0.1919, \n"
     ]
    },
    {
     "name": "stdout",
     "output_type": "stream",
     "text": [
      "epoch: 4, [batch: 2016 / 6720], examples_per_second: 2670.9986, train_label_loss: 0.1855, \n"
     ]
    },
    {
     "name": "stdout",
     "output_type": "stream",
     "text": [
      "epoch: 4, [batch: 2688 / 6720], examples_per_second: 2296.3824, train_label_loss: 0.4039, \n"
     ]
    },
    {
     "name": "stdout",
     "output_type": "stream",
     "text": [
      "epoch: 4, [batch: 3360 / 6720], examples_per_second: 2293.6268, train_label_loss: 0.9648, \n"
     ]
    },
    {
     "name": "stdout",
     "output_type": "stream",
     "text": [
      "epoch: 4, [batch: 4032 / 6720], examples_per_second: 2313.4962, train_label_loss: 0.2556, \n"
     ]
    },
    {
     "name": "stdout",
     "output_type": "stream",
     "text": [
      "epoch: 4, [batch: 4704 / 6720], examples_per_second: 2692.8328, train_label_loss: 0.3620, \n"
     ]
    },
    {
     "name": "stdout",
     "output_type": "stream",
     "text": [
      "epoch: 4, [batch: 5376 / 6720], examples_per_second: 2947.9456, train_label_loss: 0.4411, \n"
     ]
    },
    {
     "name": "stdout",
     "output_type": "stream",
     "text": [
      "epoch: 4, [batch: 6048 / 6720], examples_per_second: 3008.6740, train_label_loss: 0.2412, \n"
     ]
    },
    {
     "name": "stdout",
     "output_type": "stream",
     "text": [
      "=============================================================\n",
      "epoch: 4, source_val_acc_label: 0.8562, target_val_acc_label: 0.7973, source_val_label_loss: 0.3917, target_val_label_loss: 105.3764, \n",
      "=============================================================\n"
     ]
    },
    {
     "name": "stdout",
     "output_type": "stream",
     "text": [
      "epoch: 5, [batch: 1 / 6720], examples_per_second: 2.3601, train_label_loss: 0.2215, \n"
     ]
    },
    {
     "name": "stdout",
     "output_type": "stream",
     "text": [
      "epoch: 5, [batch: 672 / 6720], examples_per_second: 2924.0416, train_label_loss: 0.6836, \n"
     ]
    },
    {
     "name": "stdout",
     "output_type": "stream",
     "text": [
      "epoch: 5, [batch: 1344 / 6720], examples_per_second: 3404.2925, train_label_loss: 0.4045, \n"
     ]
    },
    {
     "name": "stdout",
     "output_type": "stream",
     "text": [
      "epoch: 5, [batch: 2016 / 6720], examples_per_second: 2817.1543, train_label_loss: 0.4292, \n"
     ]
    },
    {
     "name": "stdout",
     "output_type": "stream",
     "text": [
      "epoch: 5, [batch: 2688 / 6720], examples_per_second: 2292.7596, train_label_loss: 0.4604, \n"
     ]
    },
    {
     "name": "stdout",
     "output_type": "stream",
     "text": [
      "epoch: 5, [batch: 3360 / 6720], examples_per_second: 2312.7193, train_label_loss: 0.3248, \n"
     ]
    },
    {
     "name": "stdout",
     "output_type": "stream",
     "text": [
      "epoch: 5, [batch: 4032 / 6720], examples_per_second: 2310.8583, train_label_loss: 0.3782, \n"
     ]
    },
    {
     "name": "stdout",
     "output_type": "stream",
     "text": [
      "epoch: 5, [batch: 4704 / 6720], examples_per_second: 2482.1616, train_label_loss: 0.2240, \n"
     ]
    },
    {
     "name": "stdout",
     "output_type": "stream",
     "text": [
      "epoch: 5, [batch: 5376 / 6720], examples_per_second: 2598.3849, train_label_loss: 0.3000, \n"
     ]
    },
    {
     "name": "stdout",
     "output_type": "stream",
     "text": [
      "epoch: 5, [batch: 6048 / 6720], examples_per_second: 2627.9505, train_label_loss: 0.1333, \n"
     ]
    },
    {
     "name": "stdout",
     "output_type": "stream",
     "text": [
      "=============================================================\n",
      "epoch: 5, source_val_acc_label: 0.8862, target_val_acc_label: 0.8077, source_val_label_loss: 0.3164, target_val_label_loss: 100.0448, \n",
      "=============================================================\n"
     ]
    },
    {
     "name": "stdout",
     "output_type": "stream",
     "text": [
      "Patience (3) exhausted\n"
     ]
    }
   ],
   "source": [
    "###################################\n",
    "# train\n",
    "###################################\n",
    "jig = PTN_Train_Eval_Test_Jig(model, p.BEST_MODEL_PATH, p.device)\n",
    "\n",
    "jig.train(\n",
    "    train_iterable=datasets.source.processed.train,\n",
    "    source_val_iterable=datasets.source.processed.val,\n",
    "    target_val_iterable=datasets.target.processed.val,\n",
    "    num_epochs=p.n_epoch,\n",
    "    num_logs_per_epoch=p.NUM_LOGS_PER_EPOCH,\n",
    "    patience=p.patience,\n",
    "    optimizer=optimizer,\n",
    "    criteria_for_best=p.criteria_for_best,\n",
    ")"
   ]
  },
  {
   "cell_type": "code",
   "execution_count": 23,
   "id": "31e8fabf",
   "metadata": {
    "execution": {
     "iopub.execute_input": "2022-03-21T07:43:44.666327Z",
     "iopub.status.busy": "2022-03-21T07:43:44.665939Z",
     "iopub.status.idle": "2022-03-21T07:43:44.699186Z",
     "shell.execute_reply": "2022-03-21T07:43:44.698440Z"
    },
    "papermill": {
     "duration": 0.07614,
     "end_time": "2022-03-21T07:43:44.699366",
     "exception": false,
     "start_time": "2022-03-21T07:43:44.623226",
     "status": "completed"
    },
    "tags": []
   },
   "outputs": [],
   "source": [
    "total_experiment_time_secs = time.time() - start_time_secs"
   ]
  },
  {
   "cell_type": "code",
   "execution_count": 24,
   "id": "87b9595b",
   "metadata": {
    "execution": {
     "iopub.execute_input": "2022-03-21T07:43:44.793496Z",
     "iopub.status.busy": "2022-03-21T07:43:44.792604Z",
     "iopub.status.idle": "2022-03-21T07:48:04.909554Z",
     "shell.execute_reply": "2022-03-21T07:48:04.908458Z"
    },
    "papermill": {
     "duration": 260.165615,
     "end_time": "2022-03-21T07:48:04.909840",
     "exception": false,
     "start_time": "2022-03-21T07:43:44.744225",
     "status": "completed"
    },
    "tags": []
   },
   "outputs": [],
   "source": [
    "###################################\n",
    "# Evaluate the model\n",
    "###################################\n",
    "source_test_label_accuracy, source_test_label_loss = jig.test(datasets.source.processed.test)\n",
    "target_test_label_accuracy, target_test_label_loss = jig.test(datasets.target.processed.test)\n",
    "\n",
    "source_val_label_accuracy, source_val_label_loss = jig.test(datasets.source.processed.val)\n",
    "target_val_label_accuracy, target_val_label_loss = jig.test(datasets.target.processed.val)\n",
    "\n",
    "history = jig.get_history()\n",
    "\n",
    "total_epochs_trained = len(history[\"epoch_indices\"])\n",
    "\n",
    "val_dl = Iterable_Aggregator((datasets.source.original.val,datasets.target.original.val))\n",
    "\n",
    "confusion = ptn_confusion_by_domain_over_dataloader(model, p.device, val_dl)\n",
    "per_domain_accuracy = per_domain_accuracy_from_confusion(confusion)\n",
    "\n",
    "# Add a key to per_domain_accuracy for if it was a source domain\n",
    "for domain, accuracy in per_domain_accuracy.items():\n",
    "    per_domain_accuracy[domain] = {\n",
    "        \"accuracy\": accuracy,\n",
    "        \"source?\": domain in p.domains_source\n",
    "    }\n",
    "\n",
    "# Do an independent accuracy assesment JUST TO BE SURE!\n",
    "# _source_test_label_accuracy = independent_accuracy_assesment(model, datasets.source.processed.test, p.device)\n",
    "# _target_test_label_accuracy = independent_accuracy_assesment(model, datasets.target.processed.test, p.device)\n",
    "# _source_val_label_accuracy = independent_accuracy_assesment(model, datasets.source.processed.val, p.device)\n",
    "# _target_val_label_accuracy = independent_accuracy_assesment(model, datasets.target.processed.val, p.device)\n",
    "\n",
    "# assert(_source_test_label_accuracy == source_test_label_accuracy)\n",
    "# assert(_target_test_label_accuracy == target_test_label_accuracy)\n",
    "# assert(_source_val_label_accuracy == source_val_label_accuracy)\n",
    "# assert(_target_val_label_accuracy == target_val_label_accuracy)\n",
    "\n",
    "experiment = {\n",
    "    \"experiment_name\": p.experiment_name,\n",
    "    \"parameters\": dict(p),\n",
    "    \"results\": {\n",
    "        \"source_test_label_accuracy\": source_test_label_accuracy,\n",
    "        \"source_test_label_loss\": source_test_label_loss,\n",
    "        \"target_test_label_accuracy\": target_test_label_accuracy,\n",
    "        \"target_test_label_loss\": target_test_label_loss,\n",
    "        \"source_val_label_accuracy\": source_val_label_accuracy,\n",
    "        \"source_val_label_loss\": source_val_label_loss,\n",
    "        \"target_val_label_accuracy\": target_val_label_accuracy,\n",
    "        \"target_val_label_loss\": target_val_label_loss,\n",
    "        \"total_epochs_trained\": total_epochs_trained,\n",
    "        \"total_experiment_time_secs\": total_experiment_time_secs,\n",
    "        \"confusion\": confusion,\n",
    "        \"per_domain_accuracy\": per_domain_accuracy,\n",
    "    },\n",
    "    \"history\": history,\n",
    "    \"dataset_metrics\": get_dataset_metrics(datasets, \"ptn\"),\n",
    "}"
   ]
  },
  {
   "cell_type": "code",
   "execution_count": 25,
   "id": "54a21829",
   "metadata": {
    "execution": {
     "iopub.execute_input": "2022-03-21T07:48:04.995627Z",
     "iopub.status.busy": "2022-03-21T07:48:04.995228Z",
     "iopub.status.idle": "2022-03-21T07:48:05.213113Z",
     "shell.execute_reply": "2022-03-21T07:48:05.213816Z"
    },
    "papermill": {
     "duration": 0.261488,
     "end_time": "2022-03-21T07:48:05.214050",
     "exception": false,
     "start_time": "2022-03-21T07:48:04.952562",
     "status": "completed"
    },
    "tags": []
   },
   "outputs": [
    {
     "data": {
      "image/png": "[encoded data removed]",
      "text/plain": [
       "<Figure size 1080x504 with 1 Axes>"
      ]
     },
     "metadata": {
      "needs_background": "light"
     },
     "output_type": "display_data"
    }
   ],
   "source": [
    "ax = get_loss_curve(experiment)\n",
    "plt.show()"
   ]
  },
  {
   "cell_type": "code",
   "execution_count": 26,
   "id": "fd8a0f60",
   "metadata": {
    "execution": {
     "iopub.execute_input": "2022-03-21T07:48:05.298840Z",
     "iopub.status.busy": "2022-03-21T07:48:05.298460Z",
     "iopub.status.idle": "2022-03-21T07:48:05.675453Z",
     "shell.execute_reply": "2022-03-21T07:48:05.674659Z"
    },
    "papermill": {
     "duration": 0.41901,
     "end_time": "2022-03-21T07:48:05.675660",
     "exception": false,
     "start_time": "2022-03-21T07:48:05.256650",
     "status": "completed"
    },
    "tags": []
   },
   "outputs": [
    {
     "data": {
      "text/plain": [
       "<AxesSubplot:title={'center':'Results'}>"
      ]
     },
     "execution_count": 26,
     "metadata": {},
     "output_type": "execute_result"
    },
    {
     "data": {
      "image/png": "[encoded data removed]",
      "text/plain": [
       "<Figure size 1080x504 with 1 Axes>"
      ]
     },
     "metadata": {
      "needs_background": "light"
     },
     "output_type": "display_data"
    }
   ],
   "source": [
    "get_results_table(experiment)"
   ]
  },
  {
   "cell_type": "code",
   "execution_count": 27,
   "id": "cf8dc689",
   "metadata": {
    "execution": {
     "iopub.execute_input": "2022-03-21T07:48:05.763805Z",
     "iopub.status.busy": "2022-03-21T07:48:05.763338Z",
     "iopub.status.idle": "2022-03-21T07:48:06.022051Z",
     "shell.execute_reply": "2022-03-21T07:48:06.022734Z"
    },
    "papermill": {
     "duration": 0.303729,
     "end_time": "2022-03-21T07:48:06.022965",
     "exception": false,
     "start_time": "2022-03-21T07:48:05.719236",
     "status": "completed"
    },
    "tags": []
   },
   "outputs": [
    {
     "data": {
      "text/plain": [
       "<AxesSubplot:title={'center':'Per Domain Validation Accuracy'}, xlabel='domain'>"
      ]
     },
     "execution_count": 27,
     "metadata": {},
     "output_type": "execute_result"
    },
    {
     "data": {
      "image/png": "[encoded data removed]",
      "text/plain": [
       "<Figure size 1080x504 with 1 Axes>"
      ]
     },
     "metadata": {
      "needs_background": "light"
     },
     "output_type": "display_data"
    }
   ],
   "source": [
    "get_domain_accuracies(experiment)"
   ]
  },
  {
   "cell_type": "code",
   "execution_count": 28,
   "id": "a74ae082",
   "metadata": {
    "execution": {
     "iopub.execute_input": "2022-03-21T07:48:06.113021Z",
     "iopub.status.busy": "2022-03-21T07:48:06.112634Z",
     "iopub.status.idle": "2022-03-21T07:48:06.136003Z",
     "shell.execute_reply": "2022-03-21T07:48:06.135262Z"
    },
    "papermill": {
     "duration": 0.067973,
     "end_time": "2022-03-21T07:48:06.136175",
     "exception": false,
     "start_time": "2022-03-21T07:48:06.068202",
     "status": "completed"
    },
    "tags": []
   },
   "outputs": [
    {
     "name": "stdout",
     "output_type": "stream",
     "text": [
      "Source Test Label Accuracy: 0.78056640625 Target Test Label Accuracy: 0.8144751693002258\n",
      "Source Val Label Accuracy: 0.7799153645833333 Target Val Label Accuracy: 0.8158571428571428\n"
     ]
    }
   ],
   "source": [
    "print(\"Source Test Label Accuracy:\", experiment[\"results\"][\"source_test_label_accuracy\"], \"Target Test Label Accuracy:\", experiment[\"results\"][\"target_test_label_accuracy\"])\n",
    "print(\"Source Val Label Accuracy:\", experiment[\"results\"][\"source_val_label_accuracy\"], \"Target Val Label Accuracy:\", experiment[\"results\"][\"target_val_label_accuracy\"])"
   ]
  },
  {
   "cell_type": "code",
   "execution_count": 29,
   "id": "dacca602",
   "metadata": {
    "execution": {
     "iopub.execute_input": "2022-03-21T07:48:06.228657Z",
     "iopub.status.busy": "2022-03-21T07:48:06.228283Z",
     "iopub.status.idle": "2022-03-21T07:48:06.249367Z",
     "shell.execute_reply": "2022-03-21T07:48:06.250041Z"
    },
    "papermill": {
     "duration": 0.066556,
     "end_time": "2022-03-21T07:48:06.250256",
     "exception": false,
     "start_time": "2022-03-21T07:48:06.183700",
     "status": "completed"
    },
    "tags": [
     "experiment_json"
    ]
   },
   "outputs": [
    {
     "data": {
      "text/plain": [
       "'{\"experiment_name\": \"tl_1v2:cores-oracle.run1.framed\", \"parameters\": {\"experiment_name\": \"tl_1v2:cores-oracle.run1.framed\", \"device\": \"cuda\", \"lr\": 0.0001, \"n_shot\": 3, \"n_query\": 2, \"train_k_factor\": 3, \"val_k_factor\": 2, \"test_k_factor\": 2, \"torch_default_dtype\": \"torch.float32\", \"n_epoch\": 50, \"patience\": 3, \"criteria_for_best\": \"target_accuracy\", \"x_net\": [{\"class\": \"nnReshape\", \"kargs\": {\"shape\": [-1, 1, 2, 256]}}, {\"class\": \"Conv2d\", \"kargs\": {\"in_channels\": 1, \"out_channels\": 256, \"kernel_size\": [1, 7], \"bias\": false, \"padding\": [0, 3]}}, {\"class\": \"ReLU\", \"kargs\": {\"inplace\": true}}, {\"class\": \"BatchNorm2d\", \"kargs\": {\"num_features\": 256}}, {\"class\": \"Conv2d\", \"kargs\": {\"in_channels\": 256, \"out_channels\": 80, \"kernel_size\": [2, 7], \"bias\": true, \"padding\": [0, 3]}}, {\"class\": \"ReLU\", \"kargs\": {\"inplace\": true}}, {\"class\": \"BatchNorm2d\", \"kargs\": {\"num_features\": 80}}, {\"class\": \"Flatten\", \"kargs\": {}}, {\"class\": \"Linear\", \"kargs\": {\"in_features\": 20480, \"out_features\": 256}}, {\"class\": \"ReLU\", \"kargs\": {\"inplace\": true}}, {\"class\": \"BatchNorm1d\", \"kargs\": {\"num_features\": 256}}, {\"class\": \"Linear\", \"kargs\": {\"in_features\": 256, \"out_features\": 256}}], \"NUM_LOGS_PER_EPOCH\": 10, \"BEST_MODEL_PATH\": \"./best_model.pth\", \"n_way\": 16, \"datasets\": [{\"labels\": [\"1-10.\", \"1-11.\", \"1-15.\", \"1-16.\", \"1-17.\", \"1-18.\", \"1-19.\", \"10-4.\", \"10-7.\", \"11-1.\", \"11-14.\", \"11-17.\", \"11-20.\", \"11-7.\", \"13-20.\", \"13-8.\", \"14-10.\", \"14-11.\", \"14-14.\", \"14-7.\", \"15-1.\", \"15-20.\", \"16-1.\", \"16-16.\", \"17-10.\", \"17-11.\", \"17-2.\", \"19-1.\", \"19-16.\", \"19-19.\", \"19-20.\", \"19-3.\", \"2-10.\", \"2-11.\", \"2-17.\", \"2-18.\", \"2-20.\", \"2-3.\", \"2-4.\", \"2-5.\", \"2-6.\", \"2-7.\", \"2-8.\", \"3-13.\", \"3-18.\", \"3-3.\", \"4-1.\", \"4-10.\", \"4-11.\", \"4-19.\", \"5-5.\", \"6-15.\", \"7-10.\", \"7-14.\", \"8-18.\", \"8-20.\", \"8-3.\", \"8-8.\"], \"domains\": [1, 2, 3, 4, 5], \"num_examples_per_domain_per_label\": -1, \"pickle_path\": \"/root/csc500-main/datasets/cores.stratified_ds.2022A.pkl\", \"source_or_target_dataset\": \"target\", \"x_transforms\": [\"unit_power\"], \"episode_transforms\": [], \"domain_prefix\": \"CORES_\"}, {\"labels\": [\"3123D52\", \"3123D65\", \"3123D79\", \"3123D80\", \"3123D54\", \"3123D70\", \"3123D7B\", \"3123D89\", \"3123D58\", \"3123D76\", \"3123D7D\", \"3123EFE\", \"3123D64\", \"3123D78\", \"3123D7E\", \"3124E4A\"], \"domains\": [32, 38, 8, 44, 14, 50, 20, 26], \"num_examples_per_domain_per_label\": 2000, \"pickle_path\": \"/root/csc500-main/datasets/oracle.Run1_framed_2000Examples_stratified_ds.2022A.pkl\", \"source_or_target_dataset\": \"source\", \"x_transforms\": [\"unit_power\"], \"episode_transforms\": [], \"domain_prefix\": \"ORACLE.run1_\"}], \"dataset_seed\": 420, \"seed\": 420, \"x_shape\": [2, 256], \"domains_source\": [\"ORACLE.run1_32\", \"ORACLE.run1_38\", \"ORACLE.run1_8\", \"ORACLE.run1_44\", \"ORACLE.run1_14\", \"ORACLE.run1_50\", \"ORACLE.run1_20\", \"ORACLE.run1_26\"], \"domains_target\": [\"CORES_1\", \"CORES_2\", \"CORES_3\", \"CORES_4\", \"CORES_5\"]}, \"results\": {\"source_test_label_accuracy\": 0.78056640625, \"source_test_label_loss\": 9.534235954284668, \"target_test_label_accuracy\": 0.8144751693002258, \"target_test_label_loss\": 121.14164733886719, \"source_val_label_accuracy\": 0.7799153645833333, \"source_val_label_loss\": 7.163368225097656, \"target_val_label_accuracy\": 0.8158571428571428, \"target_val_label_loss\": 119.4977035522461, \"total_epochs_trained\": 5, \"total_experiment_time_secs\": 1335.6749110221863, \"confusion\": {\"ORACLE.run1_14\": {\"15\": {\"15\": 238, \"7\": 2}, \"5\": {\"5\": 186, \"1\": 18, \"4\": 30, \"3\": 4, \"2\": 2}, \"7\": {\"7\": 240}, \"4\": {\"4\": 223, \"5\": 12, \"1\": 2, \"13\": 1, \"3\": 1, \"2\": 1}, \"10\": {\"10\": 239, \"0\": 1}, \"11\": {\"11\": 227, \"0\": 9, \"9\": 4}, \"12\": {\"12\": 239, \"9\": 1}, \"0\": {\"0\": 230, \"10\": 7, \"3\": 3}, \"14\": {\"14\": 228, \"2\": 8, \"3\": 1, \"13\": 3}, \"8\": {\"8\": 240}, \"13\": {\"6\": 94, \"13\": 82, \"14\": 35, \"2\": 24, \"3\": 1, \"5\": 3, \"4\": 1}, \"6\": {\"13\": 66, \"6\": 166, \"14\": 4, \"2\": 4}, \"1\": {\"1\": 233, \"5\": 7}, \"3\": {\"3\": 231, \"4\": 5, \"2\": 3, \"14\": 1}, \"9\": {\"9\": 240}, \"2\": {\"2\": 145, \"13\": 12, \"14\": 43, \"3\": 13, \"6\": 9, \"15\": 3, \"4\": 5, \"5\": 10}}, \"ORACLE.run1_20\": {\"4\": {\"4\": 225, \"8\": 14, \"3\": 1}, \"10\": {\"10\": 237, \"14\": 3}, \"15\": {\"15\": 207, \"1\": 11, \"12\": 1, \"5\": 8, \"0\": 12, \"13\": 1}, \"0\": {\"5\": 58, \"0\": 166, \"15\": 15, \"8\": 1}, \"6\": {\"6\": 231, \"14\": 8, \"7\": 1}, \"3\": {\"9\": 26, \"3\": 156, \"12\": 41, \"4\": 4, \"7\": 3, \"1\": 2, \"2\": 8}, \"7\": {\"7\": 221, \"8\": 1, \"2\": 10, \"9\": 4, \"3\": 4}, \"2\": {\"7\": 22, \"9\": 47, \"2\": 150, \"3\": 10, \"12\": 7, \"13\": 3, \"1\": 1}, \"8\": {\"8\": 232, \"7\": 3, \"4\": 4, \"14\": 1}, \"11\": {\"11\": 240}, \"14\": {\"14\": 232, \"6\": 6, \"10\": 2}, \"12\": {\"2\": 4, \"12\": 141, \"3\": 44, \"1\": 37, \"9\": 10, \"15\": 1, \"5\": 3}, \"13\": {\"13\": 238, \"15\": 1, \"2\": 1}, \"9\": {\"9\": 143, \"3\": 27, \"2\": 60, \"12\": 8, \"7\": 2}, \"5\": {\"5\": 181, \"0\": 33, \"15\": 10, \"1\": 11, \"12\": 5}, \"1\": {\"1\": 184, \"12\": 37, \"2\": 1, \"5\": 9, \"15\": 7, \"3\": 1, \"9\": 1}}, \"ORACLE.run1_50\": {\"5\": {\"5\": 116, \"7\": 23, \"1\": 15, \"13\": 41, \"4\": 42, \"10\": 2, \"6\": 1}, \"12\": {\"12\": 236, \"9\": 3, \"14\": 1}, \"14\": {\"14\": 240}, \"4\": {\"4\": 123, \"7\": 4, \"1\": 56, \"5\": 25, \"13\": 6, \"15\": 23, \"6\": 3}, \"13\": {\"7\": 41, \"13\": 167, \"5\": 21, \"6\": 7, \"4\": 1, \"10\": 2, \"0\": 1}, \"10\": {\"10\": 234, \"8\": 1, \"13\": 1, \"7\": 1, \"0\": 3}, \"9\": {\"11\": 13, \"9\": 217, \"12\": 10}, \"15\": {\"15\": 194, \"1\": 36, \"11\": 3, \"4\": 7}, \"6\": {\"6\": 216, \"13\": 12, \"1\": 6, \"4\": 3, \"5\": 1, \"15\": 2}, \"2\": {\"2\": 224, \"0\": 16}, \"0\": {\"0\": 218, \"10\": 9, \"2\": 13}, \"11\": {\"11\": 222, \"1\": 2, \"15\": 7, \"9\": 4, \"12\": 2, \"14\": 3}, \"3\": {\"8\": 12, \"3\": 228}, \"8\": {\"8\": 235, \"10\": 4, \"3\": 1}, \"7\": {\"7\": 167, \"10\": 12, \"13\": 47, \"5\": 8, \"3\": 2, \"6\": 2, \"8\": 2}, \"1\": {\"1\": 165, \"15\": 38, \"4\": 27, \"11\": 1, \"5\": 4, \"6\": 5}}, \"ORACLE.run1_26\": {\"7\": {\"7\": 174, \"3\": 24, \"8\": 10, \"2\": 15, \"4\": 9, \"14\": 3, \"15\": 1, \"0\": 3, \"10\": 1}, \"6\": {\"6\": 200, \"9\": 31, \"15\": 5, \"8\": 1, \"0\": 2, \"10\": 1}, \"14\": {\"14\": 123, \"4\": 61, \"0\": 32, \"8\": 3, \"1\": 15, \"10\": 6}, \"15\": {\"15\": 136, \"13\": 9, \"9\": 72, \"8\": 8, \"5\": 6, \"0\": 1, \"10\": 1, \"2\": 3, \"7\": 2, \"6\": 2}, \"5\": {\"5\": 195, \"15\": 11, \"13\": 22, \"2\": 8, \"9\": 2, \"3\": 1, \"8\": 1}, \"10\": {\"10\": 118, \"0\": 60, \"8\": 38, \"6\": 4, \"14\": 12, \"4\": 7, \"1\": 1}, \"4\": {\"4\": 117, \"14\": 70, \"10\": 3, \"1\": 7, \"7\": 7, \"0\": 27, \"8\": 9}, \"11\": {\"11\": 240}, \"13\": {\"13\": 190, \"15\": 5, \"5\": 41, \"2\": 1, \"9\": 3}, \"2\": {\"5\": 31, \"2\": 99, \"3\": 65, \"7\": 35, \"15\": 7, \"8\": 2, \"9\": 1}, \"0\": {\"0\": 99, \"4\": 28, \"8\": 18, \"14\": 27, \"10\": 62, \"6\": 1, \"7\": 3, \"9\": 1, \"15\": 1}, \"12\": {\"12\": 240}, \"3\": {\"3\": 187, \"2\": 35, \"7\": 17, \"4\": 1}, \"9\": {\"9\": 135, \"6\": 21, \"15\": 76, \"0\": 1, \"8\": 5, \"5\": 1, \"10\": 1}, \"8\": {\"8\": 126, \"0\": 30, \"9\": 4, \"10\": 33, \"7\": 19, \"4\": 15, \"15\": 5, \"2\": 2, \"6\": 1, \"14\": 5}, \"1\": {\"1\": 201, \"14\": 18, \"4\": 16, \"8\": 3, \"10\": 2}}, \"ORACLE.run1_32\": {\"7\": {\"7\": 162, \"13\": 14, \"2\": 4, \"14\": 7, \"5\": 15, \"4\": 23, \"11\": 13, \"0\": 2}, \"2\": {\"2\": 214, \"4\": 26}, \"5\": {\"5\": 80, \"13\": 91, \"11\": 4, \"4\": 26, \"7\": 27, \"0\": 2, \"3\": 3, \"2\": 3, \"8\": 2, \"14\": 2}, \"6\": {\"6\": 240}, \"13\": {\"13\": 94, \"5\": 79, \"7\": 20, \"8\": 21, \"11\": 6, \"4\": 10, \"0\": 6, \"14\": 1, \"3\": 3}, \"4\": {\"4\": 186, \"2\": 33, \"7\": 16, \"5\": 4, \"13\": 1}, \"3\": {\"1\": 4, \"15\": 20, \"11\": 51, \"3\": 94, \"5\": 28, \"8\": 5, \"13\": 31, \"14\": 7}, \"0\": {\"0\": 213, \"14\": 3, \"7\": 6, \"8\": 11, \"13\": 3, \"4\": 1, \"2\": 1, \"5\": 2}, \"9\": {\"9\": 239, \"12\": 1}, \"12\": {\"12\": 240}, \"8\": {\"8\": 204, \"13\": 12, \"3\": 1, \"5\": 9, \"0\": 13, \"14\": 1}, \"14\": {\"11\": 79, \"14\": 110, \"0\": 24, \"5\": 3, \"13\": 3, \"3\": 3, \"7\": 16, \"8\": 2}, \"15\": {\"15\": 193, \"3\": 31, \"1\": 11, \"8\": 5}, \"11\": {\"11\": 175, \"14\": 56, \"7\": 4, \"3\": 3, \"5\": 1, \"13\": 1}, \"10\": {\"10\": 233, \"1\": 7}, \"1\": {\"1\": 214, \"10\": 25, \"15\": 1}}, \"ORACLE.run1_44\": {\"11\": {\"11\": 143, \"10\": 21, \"13\": 67, \"1\": 1, \"12\": 3, \"6\": 3, \"2\": 1, \"9\": 1}, \"7\": {\"7\": 160, \"9\": 43, \"2\": 26, \"6\": 9, \"3\": 1, \"13\": 1}, \"6\": {\"6\": 171, \"13\": 42, \"9\": 18, \"7\": 6, \"12\": 1, \"10\": 2}, \"12\": {\"10\": 24, \"1\": 77, \"12\": 120, \"2\": 8, \"3\": 5, \"11\": 6}, \"4\": {\"4\": 180, \"14\": 59, \"15\": 1}, \"13\": {\"6\": 36, \"13\": 174, \"9\": 27, \"11\": 2, \"7\": 1}, \"8\": {\"8\": 163, \"0\": 70, \"5\": 2, \"15\": 4, \"14\": 1}, \"5\": {\"5\": 209, \"0\": 19, \"14\": 8, \"15\": 4}, \"14\": {\"15\": 6, \"14\": 167, \"4\": 65, \"5\": 2}, \"3\": {\"3\": 219, \"1\": 16, \"2\": 4, \"12\": 1}, \"10\": {\"10\": 99, \"1\": 43, \"12\": 68, \"11\": 8, \"2\": 19, \"6\": 3}, \"1\": {\"10\": 4, \"3\": 35, \"1\": 151, \"12\": 38, \"2\": 12}, \"2\": {\"2\": 154, \"1\": 16, \"7\": 54, \"10\": 11, \"12\": 5}, \"15\": {\"15\": 190, \"14\": 15, \"5\": 8, \"0\": 18, \"4\": 3, \"8\": 6}, \"9\": {\"9\": 150, \"2\": 1, \"6\": 25, \"13\": 23, \"7\": 41}, \"0\": {\"8\": 58, \"0\": 158, \"15\": 8, \"5\": 16}}, \"ORACLE.run1_8\": {\"10\": {\"10\": 197, \"13\": 10, \"14\": 30, \"4\": 2, \"5\": 1}, \"6\": {\"6\": 189, \"7\": 30, \"4\": 14, \"0\": 5, \"13\": 2}, \"13\": {\"0\": 69, \"13\": 88, \"14\": 11, \"10\": 36, \"6\": 5, \"4\": 30, \"7\": 1}, \"3\": {\"3\": 237, \"2\": 2, \"12\": 1}, \"9\": {\"9\": 240}, \"1\": {\"1\": 235, \"11\": 4, \"14\": 1}, \"5\": {\"5\": 227, \"10\": 9, \"14\": 2, \"1\": 2}, \"11\": {\"11\": 217, \"1\": 23}, \"4\": {\"4\": 192, \"6\": 10, \"13\": 24, \"14\": 12, \"10\": 2}, \"14\": {\"14\": 182, \"4\": 18, \"1\": 4, \"10\": 34, \"13\": 2}, \"12\": {\"12\": 150, \"15\": 68, \"3\": 21, \"8\": 1}, \"7\": {\"7\": 204, \"6\": 32, \"13\": 1, \"0\": 2, \"1\": 1}, \"0\": {\"0\": 155, \"13\": 68, \"7\": 11, \"6\": 5, \"4\": 1}, \"15\": {\"15\": 203, \"12\": 34, \"8\": 3}, \"2\": {\"2\": 221, \"3\": 10, \"7\": 4, \"15\": 3, \"12\": 2}, \"8\": {\"8\": 240}}, \"ORACLE.run1_38\": {\"4\": {\"4\": 185, \"11\": 8, \"12\": 43, \"14\": 4}, \"7\": {\"7\": 208, \"0\": 14, \"5\": 16, \"8\": 2}, \"12\": {\"12\": 236, \"4\": 3, \"14\": 1}, \"10\": {\"7\": 3, \"10\": 206, \"8\": 6, \"0\": 3, \"13\": 16, \"5\": 2, \"4\": 1, \"15\": 2, \"14\": 1}, \"0\": {\"8\": 56, \"0\": 124, \"7\": 31, \"3\": 8, \"5\": 18, \"13\": 1, \"15\": 1, \"10\": 1}, \"1\": {\"1\": 238, \"13\": 1, \"15\": 1}, \"5\": {\"7\": 26, \"5\": 117, \"13\": 1, \"0\": 9, \"3\": 3, \"8\": 55, \"1\": 4, \"6\": 15, \"9\": 1, \"10\": 3, \"15\": 6}, \"15\": {\"15\": 168, \"13\": 45, \"8\": 5, \"1\": 16, \"5\": 4, \"10\": 2}, \"9\": {\"9\": 192, \"6\": 43, \"5\": 1, \"3\": 4}, \"11\": {\"2\": 9, \"14\": 148, \"11\": 80, \"4\": 3}, \"14\": {\"14\": 204, \"11\": 6, \"2\": 27, \"13\": 2, \"10\": 1}, \"6\": {\"9\": 23, \"6\": 215, \"5\": 2}, \"8\": {\"7\": 2, \"8\": 152, \"0\": 46, \"5\": 30, \"15\": 4, \"10\": 6}, \"3\": {\"3\": 199, \"11\": 2, \"0\": 5, \"6\": 2, \"7\": 5, \"5\": 5, \"9\": 20, \"2\": 2}, \"2\": {\"2\": 227, \"14\": 10, \"13\": 3}, \"13\": {\"13\": 179, \"10\": 8, \"5\": 1, \"1\": 2, \"15\": 45, \"2\": 3, \"8\": 2}}, \"CORES_4\": {\"42\": {\"42\": 31, \"18\": 1}, \"0\": {\"0\": 63, \"32\": 1, \"14\": 1, \"43\": 7, \"16\": 2, \"47\": 2, \"7\": 2, \"15\": 2}, \"1\": {\"39\": 1, \"46\": 4, \"11\": 1, \"57\": 6, \"1\": 18, \"47\": 3, \"15\": 2, \"35\": 2, \"41\": 2, \"52\": 1}, \"39\": {\"39\": 20}, \"28\": {\"28\": 29, \"25\": 2, \"34\": 1}, \"53\": {\"53\": 115, \"3\": 2, \"51\": 1, \"36\": 1, \"8\": 1, \"48\": 3, \"55\": 1}, \"19\": {\"19\": 122, \"44\": 6, \"51\": 2, \"40\": 9, \"4\": 2, \"26\": 2, \"55\": 1}, \"34\": {\"34\": 21, \"25\": 1, \"36\": 1, \"28\": 1}, \"33\": {\"40\": 2, \"33\": 29, \"55\": 1, \"39\": 1, \"35\": 1, \"13\": 1, \"31\": 1}, \"32\": {\"32\": 18, \"41\": 2, \"16\": 1, \"57\": 2, \"35\": 1}, \"10\": {\"10\": 131, \"22\": 4, \"2\": 1}, \"46\": {\"39\": 1, \"1\": 3, \"5\": 7, \"7\": 1, \"47\": 12, \"46\": 74, \"11\": 3, \"16\": 6, \"52\": 5, \"15\": 9, \"57\": 3, \"29\": 1, \"32\": 2, \"35\": 1, \"41\": 2, \"56\": 1, \"43\": 2, \"23\": 1}, \"20\": {\"20\": 110, \"51\": 2, \"6\": 1, \"50\": 5, \"44\": 3, \"9\": 1}, \"5\": {\"39\": 3, \"1\": 5, \"47\": 17, \"5\": 50, \"46\": 7, \"29\": 8, \"57\": 2, \"52\": 4, \"16\": 2, \"15\": 4, \"35\": 1, \"34\": 1, \"7\": 1, \"31\": 1, \"25\": 1, \"23\": 1}, \"40\": {\"19\": 7, \"40\": 107, \"25\": 3, \"26\": 2, \"33\": 1, \"55\": 2, \"44\": 2}, \"51\": {\"51\": 144}, \"37\": {\"37\": 24}, \"17\": {\"17\": 76, \"27\": 3, \"8\": 1}, \"45\": {\"45\": 71, \"12\": 7, \"9\": 12, \"21\": 4, \"51\": 2}, \"13\": {\"13\": 142}, \"27\": {\"27\": 127, \"17\": 7, \"8\": 8, \"21\": 1, \"48\": 1}, \"24\": {\"24\": 52, \"10\": 1, \"38\": 2, \"2\": 1}, \"30\": {\"17\": 1, \"30\": 37, \"21\": 5, \"8\": 1}, \"31\": {\"31\": 26, \"29\": 1, \"55\": 1}, \"41\": {\"41\": 34, \"10\": 1, \"13\": 1}, \"36\": {\"36\": 86, \"54\": 2, \"19\": 1, \"6\": 1, \"48\": 2}, \"16\": {\"16\": 84, \"41\": 2, \"46\": 3, \"13\": 1, \"32\": 1, \"47\": 2, \"57\": 2, \"22\": 1}, \"22\": {\"24\": 6, \"22\": 101, \"43\": 2, \"56\": 9, \"10\": 8, \"14\": 1, \"2\": 1}, \"44\": {\"44\": 111, \"40\": 4, \"19\": 13, \"6\": 3, \"4\": 1}, \"9\": {\"30\": 2, \"9\": 98, \"45\": 1, \"27\": 7, \"8\": 2, \"21\": 8, \"50\": 4, \"17\": 5, \"51\": 7, \"44\": 1, \"4\": 3, \"6\": 1, \"20\": 1}, \"57\": {\"57\": 69, \"1\": 4, \"37\": 1, \"46\": 5, \"47\": 7, \"52\": 3, \"16\": 6, \"32\": 3, \"41\": 1, \"15\": 1}, \"8\": {\"8\": 122, \"27\": 5, \"48\": 10, \"36\": 1}, \"23\": {\"23\": 120, \"18\": 10, \"54\": 2}, \"47\": {\"47\": 84, \"5\": 6, \"32\": 1, \"46\": 12, \"16\": 5, \"57\": 7, \"41\": 2, \"15\": 1, \"52\": 1, \"29\": 1}, \"43\": {\"0\": 5, \"43\": 133}, \"49\": {\"49\": 20}, \"3\": {\"3\": 59, \"48\": 10, \"26\": 2, \"36\": 11, \"54\": 7, \"23\": 3, \"25\": 6, \"50\": 1, \"53\": 14, \"18\": 3, \"40\": 2, \"4\": 1, \"28\": 1, \"20\": 1, \"5\": 1, \"19\": 2}, \"12\": {\"12\": 81, \"21\": 4, \"45\": 6, \"9\": 1}, \"38\": {\"38\": 34, \"24\": 4, \"43\": 1, \"22\": 1}, \"7\": {\"49\": 2, \"7\": 20, \"35\": 2}, \"14\": {\"49\": 3, \"14\": 8, \"0\": 2, \"22\": 1, \"37\": 1, \"38\": 1}, \"15\": {\"15\": 137, \"24\": 1, \"46\": 1, \"16\": 3, \"11\": 3, \"13\": 1}, \"25\": {\"34\": 2, \"25\": 100, \"40\": 9, \"26\": 1, \"52\": 1, \"18\": 2, \"5\": 2, \"53\": 1, \"19\": 6, \"3\": 1, \"28\": 1, \"36\": 1, \"23\": 1}, \"26\": {\"28\": 1, \"26\": 23}, \"21\": {\"21\": 129, \"30\": 3}, \"48\": {\"48\": 77, \"8\": 30, \"53\": 13, \"27\": 9, \"3\": 6, \"36\": 4, \"54\": 1, \"50\": 3, \"25\": 1}, \"56\": {\"56\": 94, \"2\": 3, \"38\": 1, \"22\": 12, \"10\": 14, \"24\": 3, \"43\": 6, \"37\": 1}, \"11\": {\"11\": 100, \"15\": 3, \"49\": 1}, \"2\": {\"2\": 31, \"22\": 1, \"38\": 1, \"24\": 3}, \"6\": {\"6\": 35, \"17\": 2, \"51\": 6, \"29\": 1, \"48\": 3, \"27\": 3, \"40\": 2, \"9\": 5, \"33\": 1, \"4\": 8, \"3\": 4, \"50\": 8, \"55\": 3, \"44\": 4, \"54\": 1, \"20\": 9, \"25\": 2, \"19\": 5, \"53\": 5, \"28\": 1, \"26\": 2, \"30\": 2}, \"55\": {\"55\": 133, \"44\": 1, \"5\": 1, \"47\": 1, \"11\": 2, \"40\": 1, \"15\": 1}, \"54\": {\"54\": 99, \"23\": 6, \"18\": 3}, \"29\": {\"29\": 81, \"52\": 7, \"33\": 5, \"37\": 1, \"57\": 4, \"42\": 1, \"47\": 5, \"10\": 1, \"5\": 6, \"15\": 2, \"46\": 4, \"55\": 2, \"25\": 2, \"35\": 2, \"28\": 1}, \"50\": {\"8\": 3, \"48\": 6, \"4\": 13, \"44\": 4, \"50\": 52, \"20\": 9, \"36\": 2, \"21\": 3, \"17\": 2, \"6\": 6, \"45\": 2, \"3\": 1, \"27\": 10, \"53\": 1, \"19\": 2, \"9\": 4, \"30\": 1, \"51\": 1}, \"52\": {\"42\": 4, \"52\": 102, \"23\": 4, \"41\": 1, \"18\": 5}, \"35\": {\"35\": 32, \"32\": 1, \"41\": 1, \"49\": 1, \"1\": 2, \"46\": 1, \"15\": 2}, \"4\": {\"4\": 87, \"44\": 6, \"20\": 3, \"6\": 5, \"3\": 1, \"48\": 3, \"9\": 1, \"53\": 2, \"50\": 4, \"19\": 3, \"26\": 1, \"34\": 1, \"25\": 1, \"51\": 2}, \"18\": {\"18\": 92, \"23\": 8, \"54\": 5, \"3\": 1, \"42\": 2}}, \"CORES_5\": {\"43\": {\"43\": 140, \"15\": 9, \"3\": 1, \"11\": 1, \"37\": 1}, \"35\": {\"35\": 32, \"15\": 1, \"56\": 3}, \"54\": {\"54\": 90, \"23\": 17, \"18\": 5}, \"22\": {\"22\": 27, \"13\": 1}, \"16\": {\"16\": 121, \"37\": 2, \"47\": 5, \"3\": 7, \"14\": 1, \"44\": 1, \"46\": 7, \"36\": 2}, \"5\": {\"5\": 111, \"44\": 4, \"40\": 11, \"33\": 1, \"34\": 1}, \"28\": {\"14\": 1, \"28\": 30, \"37\": 1}, \"14\": {\"57\": 2, \"28\": 1, \"3\": 1, \"14\": 17, \"44\": 2, \"49\": 1, \"11\": 3, \"40\": 5, \"46\": 4, \"29\": 3, \"16\": 2, \"43\": 2, \"52\": 1}, \"51\": {\"51\": 118, \"20\": 9, \"4\": 1}, \"19\": {\"19\": 132, \"40\": 1, \"25\": 3, \"50\": 4}, \"31\": {\"31\": 36}, \"10\": {\"10\": 60, \"13\": 6, \"24\": 1, \"56\": 1}, \"21\": {\"21\": 130, \"25\": 3, \"50\": 2, \"53\": 1}, \"3\": {\"43\": 2, \"16\": 7, \"0\": 4, \"3\": 37, \"31\": 2, \"41\": 1, \"49\": 2, \"18\": 1, \"47\": 11, \"2\": 1, \"36\": 3, \"11\": 1, \"15\": 5, \"46\": 11, \"52\": 5, \"40\": 1, \"57\": 2, \"14\": 1, \"10\": 1, \"25\": 1, \"56\": 1}, \"57\": {\"57\": 111, \"49\": 4, \"41\": 2, \"46\": 1, \"52\": 11, \"36\": 3}, \"9\": {\"9\": 69, \"51\": 5, \"32\": 1, \"27\": 10, \"4\": 1, \"48\": 15, \"30\": 11, \"20\": 3, \"17\": 2, \"6\": 11, \"12\": 1, \"55\": 7, \"1\": 5, \"8\": 1, \"45\": 4}, \"8\": {\"8\": 103, \"1\": 13, \"55\": 1, \"53\": 11, \"27\": 2, \"48\": 2}, \"46\": {\"46\": 98, \"3\": 4, \"16\": 11, \"49\": 2, \"29\": 2, \"36\": 3, \"47\": 7, \"14\": 3, \"11\": 3, \"57\": 1, \"52\": 5, \"28\": 1}, \"23\": {\"23\": 97, \"18\": 9, \"57\": 1, \"54\": 16, \"40\": 1}, \"37\": {\"37\": 23, \"31\": 1}, \"34\": {\"34\": 30, \"41\": 1, \"36\": 3, \"21\": 1, \"49\": 1}, \"4\": {\"12\": 4, \"4\": 65, \"45\": 9, \"51\": 4, \"30\": 3, \"55\": 8, \"7\": 3, \"6\": 2, \"9\": 2}, \"6\": {\"48\": 4, \"45\": 10, \"20\": 8, \"30\": 17, \"6\": 52, \"27\": 4, \"9\": 9, \"51\": 3, \"17\": 7, \"4\": 2, \"55\": 5, \"1\": 2, \"38\": 1, \"32\": 1, \"8\": 1, \"53\": 1, \"21\": 1}, \"48\": {\"30\": 1, \"48\": 67, \"27\": 26, \"32\": 2, \"8\": 6, \"26\": 3, \"17\": 15, \"4\": 1, \"53\": 4, \"9\": 3, \"1\": 4, \"6\": 3, \"51\": 1}, \"44\": {\"44\": 118, \"25\": 1, \"40\": 12, \"5\": 4, \"29\": 2, \"11\": 1}, \"40\": {\"40\": 98, \"44\": 11, \"28\": 2, \"14\": 1, \"5\": 6, \"29\": 4, \"33\": 1, \"34\": 1}, \"12\": {\"12\": 91, \"6\": 3, \"4\": 2}, \"30\": {\"48\": 6, \"30\": 98, \"9\": 10, \"6\": 3, \"17\": 4, \"27\": 4, \"45\": 1, \"26\": 1, \"20\": 1}, \"39\": {\"39\": 19, \"42\": 1}, \"45\": {\"45\": 51, \"7\": 1, \"30\": 2, \"17\": 4, \"48\": 5, \"4\": 10, \"38\": 1, \"55\": 14, \"51\": 5, \"6\": 6, \"20\": 4, \"27\": 3, \"9\": 12, \"8\": 1, \"32\": 2, \"26\": 1, \"12\": 1, \"1\": 1}, \"36\": {\"36\": 76, \"46\": 3, \"2\": 1, \"43\": 1, \"52\": 1, \"47\": 6, \"16\": 1, \"3\": 2, \"28\": 1}, \"27\": {\"48\": 16, \"32\": 3, \"27\": 87, \"9\": 2, \"8\": 8, \"20\": 1, \"1\": 10, \"17\": 6, \"53\": 4, \"51\": 3}, \"32\": {\"32\": 28, \"9\": 1, \"8\": 1, \"1\": 1, \"51\": 1}, \"52\": {\"52\": 92, \"57\": 13, \"54\": 2, \"36\": 1, \"39\": 1, \"49\": 2, \"46\": 12, \"47\": 2, \"14\": 1, \"23\": 1, \"41\": 1, \"42\": 1, \"18\": 1}, \"0\": {\"0\": 121, \"3\": 1, \"56\": 1, \"31\": 1}, \"26\": {\"26\": 24}, \"1\": {\"32\": 1, \"53\": 22, \"1\": 92, \"8\": 14, \"9\": 1, \"27\": 10, \"48\": 4, \"20\": 1, \"51\": 2, \"17\": 1}, \"53\": {\"53\": 119, \"55\": 2, \"8\": 14, \"1\": 9, \"51\": 1, \"19\": 1}, \"25\": {\"25\": 125, \"50\": 8, \"19\": 4, \"21\": 7}, \"24\": {\"24\": 77, \"56\": 2, \"35\": 1}, \"7\": {\"7\": 32}, \"18\": {\"18\": 54, \"54\": 7, \"23\": 3}, \"20\": {\"20\": 139, \"51\": 2, \"45\": 1, \"6\": 1, \"48\": 1}, \"33\": {\"33\": 30, \"41\": 2}, \"55\": {\"55\": 127, \"4\": 3, \"9\": 2, \"45\": 7, \"6\": 1}, \"41\": {\"41\": 23, \"42\": 2, \"14\": 1, \"49\": 1, \"36\": 1}, \"42\": {\"42\": 33, \"57\": 2, \"11\": 1, \"52\": 2, \"36\": 1, \"18\": 1}, \"49\": {\"49\": 31, \"3\": 1, \"47\": 2, \"36\": 1, \"57\": 1}, \"13\": {\"13\": 141, \"10\": 7}, \"38\": {\"38\": 30, \"7\": 2}, \"2\": {\"2\": 18, \"43\": 1, \"31\": 1, \"16\": 1, \"11\": 1, \"46\": 1, \"3\": 1, \"37\": 2, \"57\": 1, \"56\": 1}, \"47\": {\"47\": 56, \"34\": 4, \"16\": 8, \"46\": 17, \"3\": 6, \"36\": 4, \"57\": 2, \"28\": 1, \"52\": 2}, \"17\": {\"17\": 107, \"48\": 3, \"51\": 1, \"30\": 2, \"27\": 2, \"20\": 1}, \"11\": {\"11\": 145, \"43\": 3, \"15\": 5, \"35\": 1}, \"29\": {\"28\": 3, \"11\": 1, \"2\": 1, \"29\": 105, \"31\": 1, \"3\": 6, \"47\": 2, \"14\": 1, \"16\": 7, \"43\": 1, \"40\": 2, \"34\": 1, \"15\": 1}, \"50\": {\"32\": 1, \"54\": 7, \"50\": 72, \"23\": 5, \"5\": 3, \"21\": 14, \"20\": 2, \"19\": 6, \"52\": 1, \"25\": 11, \"40\": 3, \"47\": 1, \"51\": 1, \"44\": 2, \"18\": 1, \"1\": 2, \"53\": 1, \"8\": 1, \"27\": 3, \"55\": 1}, \"56\": {\"56\": 126, \"0\": 4, \"35\": 6, \"24\": 3, \"15\": 4, \"29\": 1, \"43\": 3, \"3\": 1}, \"15\": {\"15\": 130, \"43\": 4, \"11\": 7, \"42\": 1}}, \"CORES_2\": {\"49\": {\"49\": 24}, \"13\": {\"13\": 113, \"10\": 3}, \"37\": {\"37\": 35, \"38\": 1}, \"41\": {\"41\": 19, \"30\": 1}, \"15\": {\"15\": 123, \"0\": 3, \"57\": 3, \"16\": 10, \"47\": 2, \"1\": 1}, \"56\": {\"56\": 121, \"22\": 6, \"24\": 5, \"10\": 5, \"13\": 5}, \"14\": {\"43\": 4, \"14\": 11, \"22\": 1, \"38\": 1, \"31\": 4, \"10\": 1, \"16\": 2}, \"3\": {\"3\": 36, \"41\": 1, \"40\": 5, \"34\": 1, \"30\": 6, \"29\": 11, \"32\": 1, \"49\": 3, \"48\": 5, \"19\": 2, \"33\": 1, \"46\": 5, \"52\": 1, \"25\": 6, \"50\": 3, \"6\": 3, \"18\": 1, \"17\": 1}, \"38\": {\"38\": 17, \"43\": 3}, \"43\": {\"43\": 138}, \"33\": {\"3\": 2, \"33\": 22, \"1\": 1, \"46\": 2, \"34\": 1}, \"47\": {\"47\": 103, \"5\": 9, \"0\": 4, \"16\": 6, \"28\": 3, \"15\": 9, \"1\": 1, \"57\": 3}, \"30\": {\"30\": 133, \"11\": 1, \"18\": 5, \"48\": 2, \"49\": 1, \"23\": 1, \"47\": 1}, \"39\": {\"39\": 26, \"16\": 1, \"0\": 1}, \"12\": {\"12\": 73, \"4\": 3, \"51\": 2, \"45\": 10, \"20\": 3, \"17\": 1}, \"6\": {\"3\": 4, \"41\": 1, \"40\": 2, \"6\": 69, \"50\": 11, \"36\": 5, \"48\": 15, \"21\": 1, \"53\": 3, \"8\": 2, \"19\": 1, \"30\": 1, \"9\": 2, \"46\": 1, \"32\": 1, \"54\": 2, \"55\": 1, \"29\": 1, \"17\": 1}, \"51\": {\"51\": 128, \"20\": 6}, \"5\": {\"5\": 102, \"38\": 1, \"47\": 8, \"11\": 4, \"13\": 1, \"1\": 1, \"14\": 1, \"15\": 1, \"22\": 1}, \"34\": {\"34\": 22, \"1\": 1, \"29\": 1, \"25\": 2, \"49\": 2}, \"35\": {\"35\": 32}, \"0\": {\"15\": 6, \"0\": 32, \"28\": 4, \"39\": 2, \"16\": 2, \"5\": 1, \"57\": 1}, \"7\": {\"7\": 34, \"2\": 1, \"1\": 1}, \"24\": {\"24\": 82, \"56\": 4, \"10\": 10}, \"8\": {\"8\": 101, \"32\": 1, \"54\": 13, \"53\": 11, \"36\": 4, \"17\": 1, \"6\": 1, \"27\": 4}, \"20\": {\"20\": 123, \"51\": 1}, \"36\": {\"36\": 108, \"8\": 3, \"6\": 2, \"48\": 1, \"50\": 1, \"54\": 1}, \"42\": {\"42\": 26, \"7\": 3, \"1\": 1, \"46\": 1, \"23\": 3, \"52\": 2}, \"1\": {\"15\": 4, \"42\": 2, \"1\": 59, \"52\": 9, \"30\": 4, \"23\": 12, \"46\": 2, \"29\": 7, \"47\": 4, \"57\": 3, \"48\": 2, \"2\": 1, \"49\": 1, \"3\": 1, \"7\": 1}, \"4\": {\"4\": 139, \"44\": 1, \"45\": 2, \"51\": 4, \"20\": 1, \"9\": 1}, \"28\": {\"28\": 28}, \"50\": {\"50\": 73, \"41\": 2, \"34\": 1, \"6\": 5, \"21\": 2, \"46\": 1, \"3\": 3, \"48\": 21, \"36\": 15, \"53\": 3, \"25\": 2, \"40\": 1, \"19\": 2, \"33\": 1, \"29\": 1, \"1\": 1, \"8\": 1, \"44\": 1}, \"45\": {\"45\": 80, \"35\": 1, \"4\": 18, \"12\": 10, \"20\": 12, \"21\": 1, \"17\": 1, \"51\": 4, \"9\": 1}, \"18\": {\"18\": 44, \"41\": 1, \"30\": 3}, \"57\": {\"57\": 99, \"42\": 2, \"47\": 7, \"52\": 2, \"15\": 6, \"0\": 3, \"16\": 1}, \"46\": {\"15\": 3, \"7\": 3, \"46\": 86, \"25\": 3, \"57\": 1, \"29\": 14, \"16\": 1, \"2\": 4, \"1\": 4, \"55\": 1, \"52\": 1, \"5\": 2, \"13\": 1, \"23\": 1, \"11\": 1, \"30\": 1, \"22\": 1}, \"23\": {\"23\": 144, \"52\": 1, \"30\": 3}, \"27\": {\"27\": 123, \"8\": 6, \"54\": 1, \"17\": 8}, \"19\": {\"19\": 104, \"21\": 3, \"44\": 4, \"40\": 18, \"33\": 2, \"25\": 1, \"51\": 1, \"9\": 1}, \"22\": {\"22\": 110, \"56\": 13, \"10\": 6, \"13\": 6, \"24\": 1}, \"17\": {\"17\": 84, \"32\": 3, \"9\": 2, \"8\": 10, \"6\": 1, \"51\": 1, \"27\": 3}, \"55\": {\"55\": 134, \"11\": 1, \"19\": 1}, \"44\": {\"44\": 91, \"2\": 1, \"19\": 5, \"40\": 1, \"34\": 1, \"55\": 1}, \"26\": {\"26\": 24}, \"31\": {\"31\": 28}, \"16\": {\"16\": 122, \"39\": 3, \"52\": 2, \"57\": 1, \"15\": 1, \"47\": 1}, \"11\": {\"11\": 123, \"5\": 5}, \"25\": {\"25\": 91, \"34\": 3, \"3\": 2, \"50\": 2, \"30\": 9, \"29\": 6, \"48\": 3, \"1\": 2, \"49\": 1, \"52\": 1, \"46\": 5, \"40\": 1}, \"54\": {\"54\": 108}, \"32\": {\"32\": 22, \"54\": 3, \"8\": 2, \"36\": 1}, \"52\": {\"52\": 105, \"23\": 6, \"49\": 1, \"57\": 4, \"1\": 4, \"30\": 1, \"7\": 1, \"46\": 1, \"16\": 1}, \"40\": {\"40\": 113, \"44\": 2, \"19\": 12, \"4\": 1, \"21\": 1, \"33\": 1, \"6\": 2}, \"2\": {\"2\": 30, \"52\": 2}, \"10\": {\"13\": 3, \"10\": 100, \"24\": 7}, \"53\": {\"53\": 126, \"8\": 3, \"17\": 3, \"36\": 3, \"6\": 1}, \"9\": {\"9\": 130, \"32\": 1, \"40\": 3, \"17\": 6, \"21\": 3, \"51\": 3, \"6\": 1, \"53\": 2, \"19\": 1}, \"21\": {\"21\": 117, \"40\": 2, \"25\": 1}, \"48\": {\"49\": 2, \"36\": 20, \"25\": 11, \"48\": 55, \"30\": 6, \"54\": 12, \"18\": 1, \"53\": 1, \"3\": 5, \"50\": 13, \"6\": 1, \"8\": 8, \"9\": 1, \"29\": 1, \"19\": 1}, \"29\": {\"29\": 100, \"3\": 1, \"33\": 1, \"49\": 1, \"2\": 1, \"25\": 7, \"1\": 3, \"46\": 4, \"52\": 1, \"40\": 1, \"34\": 4, \"21\": 1, \"11\": 1, \"19\": 1, \"30\": 1}}, \"CORES_1\": {\"9\": {\"9\": 139, \"8\": 3}, \"25\": {\"25\": 101, \"42\": 3, \"19\": 2, \"45\": 15, \"1\": 1, \"16\": 1, \"29\": 2, \"57\": 1, \"56\": 2}, \"41\": {\"41\": 24}, \"29\": {\"29\": 122, \"19\": 2, \"56\": 5, \"57\": 5, \"20\": 1, \"55\": 2, \"35\": 1, \"3\": 1, \"44\": 1}, \"46\": {\"46\": 97, \"4\": 11, \"7\": 1, \"50\": 5, \"6\": 1, \"5\": 5, \"12\": 1, \"9\": 1, \"40\": 4, \"8\": 2}, \"4\": {\"46\": 11, \"4\": 111, \"48\": 2, \"5\": 4, \"50\": 2, \"40\": 1, \"6\": 1}, \"31\": {\"31\": 27, \"22\": 1}, \"36\": {\"36\": 60, \"16\": 1, \"15\": 2, \"38\": 1}, \"20\": {\"20\": 127, \"12\": 1}, \"7\": {\"7\": 28}, \"6\": {\"6\": 78, \"17\": 1, \"5\": 6, \"50\": 2, \"48\": 5, \"2\": 2, \"41\": 1, \"40\": 1}, \"16\": {\"16\": 134, \"45\": 1, \"1\": 1, \"54\": 2}, \"17\": {\"17\": 64}, \"50\": {\"4\": 1, \"50\": 138, \"48\": 8, \"46\": 1}, \"57\": {\"29\": 5, \"57\": 105, \"56\": 23, \"19\": 5, \"25\": 1, \"44\": 3, \"55\": 2}, \"23\": {\"23\": 135, \"36\": 1}, \"3\": {\"3\": 113, \"55\": 4, \"44\": 6, \"11\": 2, \"47\": 1}, \"53\": {\"9\": 14, \"53\": 125, \"30\": 1}, \"49\": {\"49\": 27, \"39\": 3, \"31\": 1, \"22\": 1}, \"56\": {\"56\": 91, \"57\": 19, \"29\": 6, \"42\": 5, \"45\": 2, \"19\": 17, \"1\": 7, \"3\": 1, \"54\": 1, \"16\": 1, \"44\": 1, \"25\": 1}, \"51\": {\"51\": 134, \"12\": 5, \"41\": 2, \"20\": 1}, \"26\": {\"26\": 23, \"30\": 1}, \"43\": {\"22\": 1, \"43\": 131, \"27\": 7, \"10\": 4, \"52\": 1}, \"22\": {\"22\": 100, \"10\": 9, \"24\": 8, \"27\": 3, \"21\": 4, \"11\": 3, \"52\": 4, \"28\": 1, \"31\": 1, \"0\": 1, \"39\": 1, \"15\": 1}, \"45\": {\"45\": 126, \"1\": 8, \"19\": 3, \"42\": 3, \"13\": 1, \"37\": 1, \"16\": 1, \"57\": 1, \"25\": 2}, \"13\": {\"13\": 152}, \"12\": {\"12\": 107, \"51\": 3, \"20\": 5, \"5\": 1}, \"54\": {\"54\": 100, \"32\": 2, \"16\": 2}, \"24\": {\"24\": 89, \"10\": 13, \"22\": 5, \"47\": 1}, \"44\": {\"44\": 113, \"36\": 1, \"35\": 4, \"3\": 7, \"47\": 4, \"57\": 2, \"16\": 1, \"55\": 3, \"15\": 1}, \"28\": {\"28\": 24, \"0\": 3, \"21\": 1}, \"33\": {\"33\": 32}, \"38\": {\"38\": 20, \"36\": 1, \"23\": 2, \"32\": 1}, \"0\": {\"0\": 128, \"11\": 2, \"15\": 7, \"23\": 4, \"36\": 1, \"21\": 2}, \"47\": {\"47\": 127, \"31\": 2, \"24\": 1, \"21\": 1, \"11\": 13, \"15\": 1, \"0\": 3, \"52\": 3, \"22\": 1, \"49\": 1, \"44\": 1}, \"42\": {\"45\": 5, \"25\": 3, \"42\": 28, \"12\": 1, \"54\": 1, \"56\": 1, \"29\": 1}, \"34\": {\"33\": 1, \"34\": 23}, \"48\": {\"48\": 97, \"50\": 26, \"6\": 6, \"8\": 3, \"17\": 7, \"5\": 2, \"2\": 1}, \"35\": {\"35\": 33, \"44\": 1, \"36\": 1, \"16\": 1}, \"2\": {\"2\": 30, \"6\": 3, \"48\": 2, \"17\": 1}, \"30\": {\"18\": 1, \"30\": 109, \"26\": 7, \"53\": 3}, \"18\": {\"18\": 69, \"37\": 1, \"30\": 2}, \"37\": {\"37\": 31, \"18\": 1}, \"1\": {\"56\": 5, \"37\": 4, \"45\": 13, \"1\": 54, \"19\": 13, \"25\": 4, \"42\": 1, \"57\": 3, \"30\": 1, \"18\": 1, \"54\": 1}, \"11\": {\"11\": 137, \"52\": 1}, \"55\": {\"35\": 2, \"29\": 2, \"55\": 88, \"57\": 2, \"47\": 12, \"44\": 6, \"56\": 5, \"11\": 5, \"3\": 6, \"36\": 1, \"52\": 1}, \"15\": {\"15\": 133, \"44\": 1, \"0\": 13, \"21\": 3}, \"10\": {\"10\": 65, \"24\": 18, \"22\": 4, \"52\": 4, \"11\": 1, \"43\": 2, \"27\": 2}, \"27\": {\"27\": 148, \"43\": 7, \"10\": 1, \"24\": 2, \"52\": 2}, \"19\": {\"19\": 100, \"1\": 10, \"45\": 10, \"25\": 6, \"56\": 7, \"57\": 8, \"42\": 1, \"51\": 2, \"29\": 2}, \"14\": {\"45\": 4, \"14\": 15, \"17\": 1, \"42\": 2, \"1\": 2}, \"8\": {\"9\": 24, \"8\": 112, \"53\": 4}, \"5\": {\"5\": 124, \"2\": 1, \"6\": 1, \"48\": 5, \"50\": 2, \"17\": 2, \"46\": 1}, \"39\": {\"39\": 24, \"49\": 1, \"0\": 1, \"21\": 1, \"22\": 1}, \"52\": {\"52\": 85, \"22\": 5, \"10\": 8, \"11\": 6, \"24\": 9, \"47\": 3, \"43\": 3, \"27\": 2, \"0\": 1}, \"21\": {\"21\": 121, \"0\": 1, \"15\": 1, \"22\": 1}, \"40\": {\"40\": 129, \"46\": 4, \"51\": 7, \"20\": 4, \"12\": 7, \"5\": 1}, \"32\": {\"32\": 29, \"0\": 2, \"21\": 1}}, \"CORES_3\": {\"56\": {\"31\": 1, \"10\": 4, \"56\": 96, \"13\": 3, \"24\": 8, \"22\": 8}, \"4\": {\"4\": 134, \"2\": 1, \"51\": 3, \"20\": 5, \"21\": 1, \"17\": 1, \"38\": 1}, \"34\": {\"34\": 23, \"1\": 1, \"15\": 2, \"42\": 2, \"57\": 2, \"16\": 2}, \"52\": {\"52\": 131, \"23\": 2, \"3\": 3}, \"32\": {\"32\": 20, \"17\": 4, \"27\": 3, \"19\": 1}, \"46\": {\"46\": 81, \"52\": 3, \"23\": 3, \"3\": 7, \"14\": 1, \"9\": 1, \"29\": 8, \"25\": 14, \"40\": 1, \"1\": 1, \"50\": 1, \"16\": 1, \"19\": 1, \"55\": 5, \"6\": 1, \"42\": 1, \"41\": 2, \"48\": 4}, \"12\": {\"12\": 71, \"4\": 4, \"27\": 1, \"2\": 2, \"45\": 9, \"17\": 1, \"51\": 3, \"32\": 1}, \"20\": {\"20\": 123, \"21\": 9}, \"54\": {\"54\": 89, \"36\": 2, \"17\": 2, \"8\": 6, \"48\": 1}, \"22\": {\"22\": 113, \"24\": 2, \"13\": 8, \"14\": 4, \"31\": 4, \"43\": 3, \"56\": 4, \"49\": 1, \"10\": 1}, \"26\": {\"26\": 22, \"34\": 1, \"57\": 1}, \"31\": {\"22\": 1, \"31\": 27}, \"10\": {\"10\": 59, \"24\": 4, \"13\": 1}, \"27\": {\"27\": 93, \"36\": 3, \"6\": 3, \"32\": 3, \"53\": 7, \"40\": 1, \"54\": 6, \"8\": 17, \"20\": 1, \"17\": 5, \"9\": 4, \"19\": 1}, \"40\": {\"40\": 106, \"6\": 2, \"19\": 18, \"44\": 4, \"21\": 2, \"20\": 1, \"9\": 1, \"46\": 1, \"25\": 1}, \"28\": {\"28\": 25, \"14\": 2, \"15\": 1}, \"5\": {\"35\": 3, \"5\": 89, \"15\": 4, \"34\": 1, \"55\": 3, \"47\": 11, \"57\": 2, \"0\": 1, \"16\": 1, \"28\": 1}, \"30\": {\"30\": 99, \"18\": 5, \"52\": 2, \"48\": 6, \"50\": 4, \"21\": 1, \"6\": 3}, \"7\": {\"7\": 36}, \"18\": {\"18\": 79, \"30\": 1, \"48\": 2, \"52\": 2}, \"39\": {\"39\": 16}, \"50\": {\"29\": 1, \"50\": 69, \"48\": 16, \"52\": 2, \"30\": 10, \"18\": 3, \"44\": 1, \"1\": 1, \"41\": 2, \"9\": 3, \"3\": 9, \"6\": 6, \"27\": 1, \"36\": 6, \"46\": 1, \"5\": 1, \"55\": 1, \"40\": 3}, \"49\": {\"49\": 18, \"10\": 1, \"22\": 1}, \"43\": {\"43\": 122}, \"29\": {\"29\": 83, \"34\": 1, \"25\": 7, \"55\": 1, \"3\": 8, \"9\": 2, \"1\": 4, \"46\": 3, \"11\": 2, \"5\": 1, \"57\": 1, \"52\": 1}, \"35\": {\"35\": 25, \"5\": 2, \"15\": 1}, \"13\": {\"13\": 122, \"22\": 2}, \"36\": {\"36\": 97, \"8\": 3}, \"11\": {\"11\": 139, \"7\": 4, \"5\": 1, \"47\": 1, \"28\": 1}, \"57\": {\"57\": 86, \"16\": 9, \"34\": 3, \"15\": 6, \"1\": 8, \"35\": 1, \"23\": 2, \"5\": 3, \"47\": 4, \"26\": 1, \"0\": 1}, \"9\": {\"33\": 1, \"9\": 114, \"48\": 4, \"21\": 2, \"50\": 4, \"27\": 3, \"30\": 2}, \"25\": {\"25\": 70, \"46\": 11, \"42\": 3, \"52\": 11, \"41\": 3, \"30\": 5, \"48\": 3, \"3\": 11, \"11\": 1, \"29\": 7, \"1\": 2, \"9\": 2, \"6\": 1}, \"16\": {\"16\": 121, \"0\": 1, \"55\": 1, \"37\": 1, \"23\": 1, \"52\": 1}, \"53\": {\"53\": 107, \"36\": 2, \"8\": 4, \"17\": 3, \"27\": 2}, \"33\": {\"33\": 26, \"36\": 1, \"50\": 1}, \"51\": {\"51\": 128}, \"44\": {\"44\": 78, \"19\": 7, \"40\": 2, \"21\": 1}, \"48\": {\"6\": 4, \"48\": 56, \"25\": 3, \"42\": 3, \"33\": 4, \"30\": 7, \"29\": 2, \"50\": 8, \"52\": 2, \"36\": 7, \"3\": 8, \"9\": 2, \"8\": 2, \"18\": 4, \"55\": 1, \"54\": 1}, \"6\": {\"6\": 20, \"44\": 1, \"3\": 4, \"33\": 1, \"51\": 3, \"48\": 5, \"46\": 3, \"9\": 9, \"30\": 12, \"50\": 7, \"36\": 5, \"53\": 3, \"8\": 1, \"27\": 2, \"20\": 3, \"52\": 1, \"40\": 3, \"25\": 3, \"19\": 2}, \"23\": {\"23\": 143, \"52\": 1}, \"1\": {\"41\": 1, \"1\": 47, \"42\": 4, \"47\": 7, \"23\": 16, \"35\": 1, \"57\": 9, \"16\": 1, \"15\": 3, \"0\": 1, \"3\": 1, \"5\": 5, \"34\": 1, \"46\": 1, \"26\": 1, \"29\": 1}, \"17\": {\"38\": 2, \"17\": 96, \"8\": 9, \"32\": 1}, \"21\": {\"21\": 103, \"19\": 5, \"51\": 1, \"20\": 8, \"3\": 1, \"4\": 1, \"9\": 1, \"40\": 2}, \"14\": {\"14\": 12, \"43\": 6, \"24\": 1, \"7\": 2, \"13\": 3, \"22\": 8, \"5\": 2, \"10\": 3, \"28\": 1, \"49\": 1, \"11\": 1}, \"55\": {\"14\": 1, \"55\": 138, \"11\": 3, \"29\": 1, \"28\": 1}, \"41\": {\"41\": 25, \"18\": 2, \"42\": 1}, \"3\": {\"3\": 64, \"17\": 1, \"25\": 14, \"50\": 6, \"29\": 10, \"52\": 11, \"41\": 1, \"30\": 4, \"6\": 4, \"18\": 3, \"57\": 1, \"46\": 4, \"9\": 4, \"40\": 2, \"47\": 1, \"55\": 1, \"48\": 4, \"23\": 1, \"44\": 1, \"20\": 1}, \"38\": {\"38\": 28}, \"2\": {\"2\": 31, \"8\": 1}, \"8\": {\"8\": 126, \"27\": 2, \"54\": 6, \"17\": 4, \"53\": 2, \"36\": 2}, \"37\": {\"37\": 26, \"0\": 1, \"39\": 1}, \"45\": {\"44\": 1, \"45\": 34, \"12\": 14, \"4\": 8, \"38\": 1, \"51\": 2}, \"42\": {\"42\": 14, \"5\": 1, \"23\": 1, \"39\": 2, \"3\": 1, \"1\": 3, \"34\": 1, \"30\": 1, \"46\": 2, \"48\": 2}, \"24\": {\"24\": 89, \"56\": 6, \"10\": 9}, \"15\": {\"15\": 119, \"47\": 6, \"37\": 1, \"5\": 4, \"0\": 4, \"11\": 1, \"57\": 1}, \"0\": {\"0\": 99, \"39\": 2, \"35\": 1, \"16\": 5, \"15\": 8, \"57\": 2, \"47\": 6, \"11\": 1}, \"47\": {\"47\": 42, \"22\": 1, \"14\": 1, \"15\": 13, \"5\": 11, \"0\": 7, \"57\": 5, \"11\": 3, \"35\": 4, \"34\": 5}, \"19\": {\"19\": 98, \"9\": 1, \"40\": 13, \"25\": 1, \"4\": 1, \"44\": 1, \"6\": 3, \"20\": 1, \"21\": 1}}}, \"per_domain_accuracy\": {\"ORACLE.run1_14\": {\"accuracy\": 0.88203125, \"source?\": true}, \"ORACLE.run1_20\": {\"accuracy\": 0.8291666666666667, \"source?\": true}, \"ORACLE.run1_50\": {\"accuracy\": 0.8338541666666667, \"source?\": true}, \"ORACLE.run1_26\": {\"accuracy\": 0.671875, \"source?\": true}, \"ORACLE.run1_32\": {\"accuracy\": 0.7528645833333333, \"source?\": true}, \"ORACLE.run1_44\": {\"accuracy\": 0.6791666666666667, \"source?\": true}, \"ORACLE.run1_8\": {\"accuracy\": 0.82734375, \"source?\": true}, \"ORACLE.run1_38\": {\"accuracy\": 0.7630208333333334, \"source?\": true}, \"CORES_4\": {\"accuracy\": 0.8055763473053892, \"source?\": false}, \"CORES_5\": {\"accuracy\": 0.7875349162011173, \"source?\": false}, \"CORES_2\": {\"accuracy\": 0.8294642857142858, \"source?\": false}, \"CORES_1\": {\"accuracy\": 0.8552989130434783, \"source?\": false}, \"CORES_3\": {\"accuracy\": 0.7990808823529412, \"source?\": false}}}, \"history\": {\"epoch_indices\": [1, 2, 3, 4, 5], \"train_label_loss\": [0.7585159232729071, 0.6564759118948131, 0.42434425953487376, 0.36336227976273566, 0.3165750056453925], \"source_val_label_loss\": [7.163368225097656, 0.5305345058441162, 0.41181379556655884, 0.3917390704154968, 0.3163532614707947], \"target_val_label_loss\": [119.4977035522461, 85.92081451416016, 95.45398712158203, 105.37638854980469, 100.04476928710938], \"source_val_acc_label\": [0.7799153645833333, 0.8053385416666666, 0.84921875, 0.85615234375, 0.88623046875], \"target_val_acc_label\": [0.8158571428571428, 0.7750714285714285, 0.7985714285714286, 0.7973214285714286, 0.8077142857142857]}, \"dataset_metrics\": {\"source\": {\"train\": {\"n_unique_x\": 179200, \"n_unique_y\": 16, \"n_batch/episode\": 6720}, \"val\": {\"n_unique_x\": 38400, \"n_unique_y\": 16, \"n_batch/episode\": 960}, \"test\": {\"n_unique_x\": 38400, \"n_unique_y\": 16, \"n_batch/episode\": 960}}, \"target\": {\"train\": {\"n_unique_x\": 175158, \"n_unique_y\": 58, \"n_batch/episode\": 6317}, \"val\": {\"n_unique_x\": 37216, \"n_unique_y\": 58, \"n_batch/episode\": 875}, \"test\": {\"n_unique_x\": 37596, \"n_unique_y\": 58, \"n_batch/episode\": 886}}}}'"
      ]
     },
     "execution_count": 29,
     "metadata": {},
     "output_type": "execute_result"
    }
   ],
   "source": [
    "json.dumps(experiment)"
   ]
  }
 ],
 "metadata": {
  "celltoolbar": "Tags",
  "kernelspec": {
   "display_name": "Python 3 (ipykernel)",
   "language": "python",
   "name": "python3"
  },
  "language_info": {
   "codemirror_mode": {
    "name": "ipython",
    "version": 3
   },
   "file_extension": ".py",
   "mimetype": "text/x-python",
   "name": "python",
   "nbconvert_exporter": "python",
   "pygments_lexer": "ipython3",
   "version": "3.8.12"
  },
  "papermill": {
   "default_parameters": {},
   "duration": 1603.29385,
   "end_time": "2022-03-21T07:48:08.809812",
   "environment_variables": {},
   "exception": null,
   "input_path": "/root/csc500-main/csc500-notebooks/templates/tl_ptn_template.ipynb",
   "output_path": "trial.ipynb",
   "parameters": {
    "parameters": {
     "BEST_MODEL_PATH": "./best_model.pth",
     "NUM_LOGS_PER_EPOCH": 10,
     "criteria_for_best": "target_accuracy",
     "dataset_seed": 420,
     "datasets": [
      {
       "domain_prefix": "CORES_",
       "domains": [
        1,
        2,
        3,
        4,
        5
       ],
       "episode_transforms": [],
       "labels": [
        "1-10.",
        "1-11.",
        "1-15.",
        "1-16.",
        "1-17.",
        "1-18.",
        "1-19.",
        "10-4.",
        "10-7.",
        "11-1.",
        "11-14.",
        "11-17.",
        "11-20.",
        "11-7.",
        "13-20.",
        "13-8.",
        "14-10.",
        "14-11.",
        "14-14.",
        "14-7.",
        "15-1.",
        "15-20.",
        "16-1.",
        "16-16.",
        "17-10.",
        "17-11.",
        "17-2.",
        "19-1.",
        "19-16.",
        "19-19.",
        "19-20.",
        "19-3.",
        "2-10.",
        "2-11.",
        "2-17.",
        "2-18.",
        "2-20.",
        "2-3.",
        "2-4.",
        "2-5.",
        "2-6.",
        "2-7.",
        "2-8.",
        "3-13.",
        "3-18.",
        "3-3.",
        "4-1.",
        "4-10.",
        "4-11.",
        "4-19.",
        "5-5.",
        "6-15.",
        "7-10.",
        "7-14.",
        "8-18.",
        "8-20.",
        "8-3.",
        "8-8."
       ],
       "num_examples_per_domain_per_label": -1,
       "pickle_path": "/root/csc500-main/datasets/cores.stratified_ds.2022A.pkl",
       "source_or_target_dataset": "target",
       "x_transforms": [
        "unit_power"
       ]
      },
      {
       "domain_prefix": "ORACLE.run1_",
       "domains": [
        32,
        38,
        8,
        44,
        14,
        50,
        20,
        26
       ],
       "episode_transforms": [],
       "labels": [
        "3123D52",
        "3123D65",
        "3123D79",
        "3123D80",
        "3123D54",
        "3123D70",
        "3123D7B",
        "3123D89",
        "3123D58",
        "3123D76",
        "3123D7D",
        "3123EFE",
        "3123D64",
        "3123D78",
        "3123D7E",
        "3124E4A"
       ],
       "num_examples_per_domain_per_label": 2000,
       "pickle_path": "/root/csc500-main/datasets/oracle.Run1_framed_2000Examples_stratified_ds.2022A.pkl",
       "source_or_target_dataset": "source",
       "x_transforms": [
        "unit_power"
       ]
      }
     ],
     "device": "cuda",
     "experiment_name": "tl_1v2:cores-oracle.run1.framed",
     "lr": 0.0001,
     "n_epoch": 50,
     "n_query": 2,
     "n_shot": 3,
     "n_way": 16,
     "patience": 3,
     "seed": 420,
     "test_k_factor": 2,
     "torch_default_dtype": "torch.float32",
     "train_k_factor": 3,
     "val_k_factor": 2,
     "x_net": [
      {
       "class": "nnReshape",
       "kargs": {
        "shape": [
         -1,
         1,
         2,
         256
        ]
       }
      },
      {
       "class": "Conv2d",
       "kargs": {
        "bias": false,
        "in_channels": 1,
        "kernel_size": [
         1,
         7
        ],
        "out_channels": 256,
        "padding": [
         0,
         3
        ]
       }
      },
      {
       "class": "ReLU",
       "kargs": {
        "inplace": true
       }
      },
      {
       "class": "BatchNorm2d",
       "kargs": {
        "num_features": 256
       }
      },
      {
       "class": "Conv2d",
       "kargs": {
        "bias": true,
        "in_channels": 256,
        "kernel_size": [
         2,
         7
        ],
        "out_channels": 80,
        "padding": [
         0,
         3
        ]
       }
      },
      {
       "class": "ReLU",
       "kargs": {
        "inplace": true
       }
      },
      {
       "class": "BatchNorm2d",
       "kargs": {
        "num_features": 80
       }
      },
      {
       "class": "Flatten",
       "kargs": {}
      },
      {
       "class": "Linear",
       "kargs": {
        "in_features": 20480,
        "out_features": 256
       }
      },
      {
       "class": "ReLU",
       "kargs": {
        "inplace": true
       }
      },
      {
       "class": "BatchNorm1d",
       "kargs": {
        "num_features": 256
       }
      },
      {
       "class": "Linear",
       "kargs": {
        "in_features": 256,
        "out_features": 256
       }
      }
     ]
    }
   },
   "start_time": "2022-03-21T07:21:25.515962",
   "version": "2.3.4"
  }
 },
 "nbformat": 4,
 "nbformat_minor": 5
}