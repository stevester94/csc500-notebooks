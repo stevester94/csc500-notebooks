{
 "cells": [
  {
   "cell_type": "markdown",
   "id": "9fea5f46",
   "metadata": {
    "papermill": {
     "duration": 0.028417,
     "end_time": "2022-03-21T10:46:03.439237",
     "exception": false,
     "start_time": "2022-03-21T10:46:03.410820",
     "status": "completed"
    },
    "tags": []
   },
   "source": [
    "# Transfer Learning Template"
   ]
  },
  {
   "cell_type": "code",
   "execution_count": 1,
   "id": "0902182a",
   "metadata": {
    "execution": {
     "iopub.execute_input": "2022-03-21T10:46:03.502175Z",
     "iopub.status.busy": "2022-03-21T10:46:03.501321Z",
     "iopub.status.idle": "2022-03-21T10:46:05.422963Z",
     "shell.execute_reply": "2022-03-21T10:46:05.422508Z"
    },
    "papermill": {
     "duration": 1.960357,
     "end_time": "2022-03-21T10:46:05.423069",
     "exception": false,
     "start_time": "2022-03-21T10:46:03.462712",
     "status": "completed"
    },
    "tags": []
   },
   "outputs": [],
   "source": [
    "%load_ext autoreload\n",
    "%autoreload 2\n",
    "%matplotlib inline\n",
    "\n",
    "    \n",
    "import os, json, sys, time, random\n",
    "import numpy as np\n",
    "import torch\n",
    "from torch.optim import Adam\n",
    "from  easydict import EasyDict\n",
    "import matplotlib.pyplot as plt\n",
    "\n",
    "from steves_models.steves_ptn import Steves_Prototypical_Network\n",
    "\n",
    "from steves_utils.lazy_iterable_wrapper import Lazy_Iterable_Wrapper\n",
    "from steves_utils.iterable_aggregator import Iterable_Aggregator\n",
    "from steves_utils.ptn_train_eval_test_jig import  PTN_Train_Eval_Test_Jig\n",
    "from steves_utils.torch_sequential_builder import build_sequential\n",
    "from steves_utils.torch_utils import get_dataset_metrics, ptn_confusion_by_domain_over_dataloader\n",
    "from steves_utils.utils_v2 import (per_domain_accuracy_from_confusion, get_datasets_base_path)\n",
    "from steves_utils.PTN.utils import independent_accuracy_assesment\n",
    "\n",
    "from torch.utils.data import DataLoader\n",
    "\n",
    "from steves_utils.stratified_dataset.episodic_accessor import Episodic_Accessor_Factory\n",
    "\n",
    "from steves_utils.ptn_do_report import (\n",
    "    get_loss_curve,\n",
    "    get_results_table,\n",
    "    get_parameters_table,\n",
    "    get_domain_accuracies,\n",
    ")\n",
    "\n",
    "from steves_utils.transforms import get_chained_transform"
   ]
  },
  {
   "cell_type": "markdown",
   "id": "41c840b4",
   "metadata": {
    "papermill": {
     "duration": 0.019124,
     "end_time": "2022-03-21T10:46:05.462156",
     "exception": false,
     "start_time": "2022-03-21T10:46:05.443032",
     "status": "completed"
    },
    "tags": []
   },
   "source": [
    "# Allowed Parameters\n",
    "These are allowed parameters, not defaults\n",
    "Each of these values need to be present in the injected parameters (the notebook will raise an exception if they are not present)\n",
    "\n",
    "Papermill uses the cell tag \"parameters\" to inject the real parameters below this cell.\n",
    "Enable tags to see what I mean"
   ]
  },
  {
   "cell_type": "code",
   "execution_count": 2,
   "id": "fd44eb83",
   "metadata": {
    "execution": {
     "iopub.execute_input": "2022-03-21T10:46:05.504826Z",
     "iopub.status.busy": "2022-03-21T10:46:05.504446Z",
     "iopub.status.idle": "2022-03-21T10:46:05.524263Z",
     "shell.execute_reply": "2022-03-21T10:46:05.523410Z"
    },
    "papermill": {
     "duration": 0.0429,
     "end_time": "2022-03-21T10:46:05.524419",
     "exception": false,
     "start_time": "2022-03-21T10:46:05.481519",
     "status": "completed"
    },
    "tags": []
   },
   "outputs": [],
   "source": [
    "required_parameters = {\n",
    "    \"experiment_name\",\n",
    "    \"lr\",\n",
    "    \"device\",\n",
    "    \"seed\",\n",
    "    \"dataset_seed\",\n",
    "    \"n_shot\",\n",
    "    \"n_query\",\n",
    "    \"n_way\",\n",
    "    \"train_k_factor\",\n",
    "    \"val_k_factor\",\n",
    "    \"test_k_factor\",\n",
    "    \"n_epoch\",\n",
    "    \"patience\",\n",
    "    \"criteria_for_best\",\n",
    "    \"x_net\",\n",
    "    \"datasets\",\n",
    "    \"torch_default_dtype\",\n",
    "    \"NUM_LOGS_PER_EPOCH\",\n",
    "    \"BEST_MODEL_PATH\",\n",
    "    \"x_shape\",\n",
    "}"
   ]
  },
  {
   "cell_type": "code",
   "execution_count": 3,
   "id": "fa3f0049",
   "metadata": {
    "execution": {
     "iopub.execute_input": "2022-03-21T10:46:05.580626Z",
     "iopub.status.busy": "2022-03-21T10:46:05.579714Z",
     "iopub.status.idle": "2022-03-21T10:46:05.599282Z",
     "shell.execute_reply": "2022-03-21T10:46:05.598482Z"
    },
    "papermill": {
     "duration": 0.048847,
     "end_time": "2022-03-21T10:46:05.599436",
     "exception": false,
     "start_time": "2022-03-21T10:46:05.550589",
     "status": "completed"
    },
    "tags": [
     "parameters"
    ]
   },
   "outputs": [],
   "source": [
    "from steves_utils.CORES.utils import (\n",
    "    ALL_NODES,\n",
    "    ALL_NODES_MINIMUM_1000_EXAMPLES,\n",
    "    ALL_DAYS\n",
    ")\n",
    "\n",
    "from steves_utils.ORACLE.utils_v2 import (\n",
    "    ALL_DISTANCES_FEET_NARROWED,\n",
    "    ALL_RUNS,\n",
    "    ALL_SERIAL_NUMBERS,\n",
    ")\n",
    "\n",
    "standalone_parameters = {}\n",
    "standalone_parameters[\"experiment_name\"] = \"STANDALONE PTN\"\n",
    "standalone_parameters[\"lr\"] = 0.001\n",
    "standalone_parameters[\"device\"] = \"cuda\"\n",
    "\n",
    "standalone_parameters[\"seed\"] = 1337\n",
    "standalone_parameters[\"dataset_seed\"] = 1337\n",
    "\n",
    "standalone_parameters[\"n_way\"] = 8\n",
    "standalone_parameters[\"n_shot\"] = 3\n",
    "standalone_parameters[\"n_query\"]  = 2\n",
    "standalone_parameters[\"train_k_factor\"] = 1\n",
    "standalone_parameters[\"val_k_factor\"] = 2\n",
    "standalone_parameters[\"test_k_factor\"] = 2\n",
    "\n",
    "\n",
    "standalone_parameters[\"n_epoch\"] = 50\n",
    "\n",
    "standalone_parameters[\"patience\"] = 10\n",
    "standalone_parameters[\"criteria_for_best\"] = \"source_loss\"\n",
    "\n",
    "standalone_parameters[\"datasets\"] = [\n",
    "    {\n",
    "        \"labels\": ALL_SERIAL_NUMBERS,\n",
    "        \"domains\": ALL_DISTANCES_FEET_NARROWED,\n",
    "        \"num_examples_per_domain_per_label\": 100,\n",
    "        \"pickle_path\": os.path.join(get_datasets_base_path(), \"oracle.Run1_framed_2000Examples_stratified_ds.2022A.pkl\"),\n",
    "        \"source_or_target_dataset\": \"source\",\n",
    "        \"x_transforms\": [\"unit_mag\", \"minus_two\"],\n",
    "        \"episode_transforms\": [],\n",
    "        \"domain_prefix\": \"ORACLE_\"\n",
    "    },\n",
    "    {\n",
    "        \"labels\": ALL_NODES,\n",
    "        \"domains\": ALL_DAYS,\n",
    "        \"num_examples_per_domain_per_label\": 100,\n",
    "        \"pickle_path\": os.path.join(get_datasets_base_path(), \"cores.stratified_ds.2022A.pkl\"),\n",
    "        \"source_or_target_dataset\": \"target\",\n",
    "        \"x_transforms\": [\"unit_power\", \"times_zero\"],\n",
    "        \"episode_transforms\": [],\n",
    "        \"domain_prefix\": \"CORES_\"\n",
    "    }   \n",
    "]\n",
    "\n",
    "standalone_parameters[\"torch_default_dtype\"] = \"torch.float32\" \n",
    "\n",
    "\n",
    "\n",
    "standalone_parameters[\"x_net\"] =     [\n",
    "    {\"class\": \"nnReshape\", \"kargs\": {\"shape\":[-1, 1, 2, 256]}},\n",
    "    {\"class\": \"Conv2d\", \"kargs\": { \"in_channels\":1, \"out_channels\":256, \"kernel_size\":(1,7), \"bias\":False, \"padding\":(0,3), },},\n",
    "    {\"class\": \"ReLU\", \"kargs\": {\"inplace\": True}},\n",
    "    {\"class\": \"BatchNorm2d\", \"kargs\": {\"num_features\":256}},\n",
    "\n",
    "    {\"class\": \"Conv2d\", \"kargs\": { \"in_channels\":256, \"out_channels\":80, \"kernel_size\":(2,7), \"bias\":True, \"padding\":(0,3), },},\n",
    "    {\"class\": \"ReLU\", \"kargs\": {\"inplace\": True}},\n",
    "    {\"class\": \"BatchNorm2d\", \"kargs\": {\"num_features\":80}},\n",
    "    {\"class\": \"Flatten\", \"kargs\": {}},\n",
    "\n",
    "    {\"class\": \"Linear\", \"kargs\": {\"in_features\": 80*256, \"out_features\": 256}}, # 80 units per IQ pair\n",
    "    {\"class\": \"ReLU\", \"kargs\": {\"inplace\": True}},\n",
    "    {\"class\": \"BatchNorm1d\", \"kargs\": {\"num_features\":256}},\n",
    "\n",
    "    {\"class\": \"Linear\", \"kargs\": {\"in_features\": 256, \"out_features\": 256}},\n",
    "]\n",
    "\n",
    "# Parameters relevant to results\n",
    "# These parameters will basically never need to change\n",
    "standalone_parameters[\"NUM_LOGS_PER_EPOCH\"] = 10\n",
    "standalone_parameters[\"BEST_MODEL_PATH\"] = \"./best_model.pth\"\n",
    "\n",
    "\n",
    "\n",
    "\n"
   ]
  },
  {
   "cell_type": "code",
   "execution_count": 4,
   "id": "8a8c1235",
   "metadata": {
    "execution": {
     "iopub.execute_input": "2022-03-21T10:46:05.660609Z",
     "iopub.status.busy": "2022-03-21T10:46:05.659646Z",
     "iopub.status.idle": "2022-03-21T10:46:05.678978Z",
     "shell.execute_reply": "2022-03-21T10:46:05.678174Z"
    },
    "papermill": {
     "duration": 0.055233,
     "end_time": "2022-03-21T10:46:05.679133",
     "exception": false,
     "start_time": "2022-03-21T10:46:05.623900",
     "status": "completed"
    },
    "tags": [
     "injected-parameters"
    ]
   },
   "outputs": [],
   "source": [
    "# Parameters\n",
    "parameters = {\n",
    "    \"experiment_name\": \"tl_1v2:cores-oracle.run1.framed\",\n",
    "    \"device\": \"cuda\",\n",
    "    \"lr\": 0.0001,\n",
    "    \"n_shot\": 3,\n",
    "    \"n_query\": 2,\n",
    "    \"train_k_factor\": 3,\n",
    "    \"val_k_factor\": 2,\n",
    "    \"test_k_factor\": 2,\n",
    "    \"torch_default_dtype\": \"torch.float32\",\n",
    "    \"n_epoch\": 50,\n",
    "    \"patience\": 3,\n",
    "    \"criteria_for_best\": \"target_accuracy\",\n",
    "    \"x_net\": [\n",
    "        {\"class\": \"nnReshape\", \"kargs\": {\"shape\": [-1, 1, 2, 256]}},\n",
    "        {\n",
    "            \"class\": \"Conv2d\",\n",
    "            \"kargs\": {\n",
    "                \"in_channels\": 1,\n",
    "                \"out_channels\": 256,\n",
    "                \"kernel_size\": [1, 7],\n",
    "                \"bias\": False,\n",
    "                \"padding\": [0, 3],\n",
    "            },\n",
    "        },\n",
    "        {\"class\": \"ReLU\", \"kargs\": {\"inplace\": True}},\n",
    "        {\"class\": \"BatchNorm2d\", \"kargs\": {\"num_features\": 256}},\n",
    "        {\n",
    "            \"class\": \"Conv2d\",\n",
    "            \"kargs\": {\n",
    "                \"in_channels\": 256,\n",
    "                \"out_channels\": 80,\n",
    "                \"kernel_size\": [2, 7],\n",
    "                \"bias\": True,\n",
    "                \"padding\": [0, 3],\n",
    "            },\n",
    "        },\n",
    "        {\"class\": \"ReLU\", \"kargs\": {\"inplace\": True}},\n",
    "        {\"class\": \"BatchNorm2d\", \"kargs\": {\"num_features\": 80}},\n",
    "        {\"class\": \"Flatten\", \"kargs\": {}},\n",
    "        {\"class\": \"Linear\", \"kargs\": {\"in_features\": 20480, \"out_features\": 256}},\n",
    "        {\"class\": \"ReLU\", \"kargs\": {\"inplace\": True}},\n",
    "        {\"class\": \"BatchNorm1d\", \"kargs\": {\"num_features\": 256}},\n",
    "        {\"class\": \"Linear\", \"kargs\": {\"in_features\": 256, \"out_features\": 256}},\n",
    "    ],\n",
    "    \"NUM_LOGS_PER_EPOCH\": 10,\n",
    "    \"BEST_MODEL_PATH\": \"./best_model.pth\",\n",
    "    \"n_way\": 16,\n",
    "    \"datasets\": [\n",
    "        {\n",
    "            \"labels\": [\n",
    "                \"1-10.\",\n",
    "                \"1-11.\",\n",
    "                \"1-15.\",\n",
    "                \"1-16.\",\n",
    "                \"1-17.\",\n",
    "                \"1-18.\",\n",
    "                \"1-19.\",\n",
    "                \"10-4.\",\n",
    "                \"10-7.\",\n",
    "                \"11-1.\",\n",
    "                \"11-14.\",\n",
    "                \"11-17.\",\n",
    "                \"11-20.\",\n",
    "                \"11-7.\",\n",
    "                \"13-20.\",\n",
    "                \"13-8.\",\n",
    "                \"14-10.\",\n",
    "                \"14-11.\",\n",
    "                \"14-14.\",\n",
    "                \"14-7.\",\n",
    "                \"15-1.\",\n",
    "                \"15-20.\",\n",
    "                \"16-1.\",\n",
    "                \"16-16.\",\n",
    "                \"17-10.\",\n",
    "                \"17-11.\",\n",
    "                \"17-2.\",\n",
    "                \"19-1.\",\n",
    "                \"19-16.\",\n",
    "                \"19-19.\",\n",
    "                \"19-20.\",\n",
    "                \"19-3.\",\n",
    "                \"2-10.\",\n",
    "                \"2-11.\",\n",
    "                \"2-17.\",\n",
    "                \"2-18.\",\n",
    "                \"2-20.\",\n",
    "                \"2-3.\",\n",
    "                \"2-4.\",\n",
    "                \"2-5.\",\n",
    "                \"2-6.\",\n",
    "                \"2-7.\",\n",
    "                \"2-8.\",\n",
    "                \"3-13.\",\n",
    "                \"3-18.\",\n",
    "                \"3-3.\",\n",
    "                \"4-1.\",\n",
    "                \"4-10.\",\n",
    "                \"4-11.\",\n",
    "                \"4-19.\",\n",
    "                \"5-5.\",\n",
    "                \"6-15.\",\n",
    "                \"7-10.\",\n",
    "                \"7-14.\",\n",
    "                \"8-18.\",\n",
    "                \"8-20.\",\n",
    "                \"8-3.\",\n",
    "                \"8-8.\",\n",
    "            ],\n",
    "            \"domains\": [1, 2, 3, 4, 5],\n",
    "            \"num_examples_per_domain_per_label\": -1,\n",
    "            \"pickle_path\": \"/root/csc500-main/datasets/cores.stratified_ds.2022A.pkl\",\n",
    "            \"source_or_target_dataset\": \"target\",\n",
    "            \"x_transforms\": [\"unit_power\"],\n",
    "            \"episode_transforms\": [],\n",
    "            \"domain_prefix\": \"CORES_\",\n",
    "        },\n",
    "        {\n",
    "            \"labels\": [\n",
    "                \"3123D52\",\n",
    "                \"3123D65\",\n",
    "                \"3123D79\",\n",
    "                \"3123D80\",\n",
    "                \"3123D54\",\n",
    "                \"3123D70\",\n",
    "                \"3123D7B\",\n",
    "                \"3123D89\",\n",
    "                \"3123D58\",\n",
    "                \"3123D76\",\n",
    "                \"3123D7D\",\n",
    "                \"3123EFE\",\n",
    "                \"3123D64\",\n",
    "                \"3123D78\",\n",
    "                \"3123D7E\",\n",
    "                \"3124E4A\",\n",
    "            ],\n",
    "            \"domains\": [32, 38, 8, 44, 14, 50, 20, 26],\n",
    "            \"num_examples_per_domain_per_label\": 2000,\n",
    "            \"pickle_path\": \"/root/csc500-main/datasets/oracle.Run1_framed_2000Examples_stratified_ds.2022A.pkl\",\n",
    "            \"source_or_target_dataset\": \"source\",\n",
    "            \"x_transforms\": [\"unit_power\"],\n",
    "            \"episode_transforms\": [],\n",
    "            \"domain_prefix\": \"ORACLE.run1_\",\n",
    "        },\n",
    "    ],\n",
    "    \"dataset_seed\": 154325,\n",
    "    \"seed\": 154325,\n",
    "}\n"
   ]
  },
  {
   "cell_type": "code",
   "execution_count": 5,
   "id": "8fa1cc33",
   "metadata": {
    "execution": {
     "iopub.execute_input": "2022-03-21T10:46:05.731563Z",
     "iopub.status.busy": "2022-03-21T10:46:05.730984Z",
     "iopub.status.idle": "2022-03-21T10:46:05.756403Z",
     "shell.execute_reply": "2022-03-21T10:46:05.755691Z"
    },
    "papermill": {
     "duration": 0.052627,
     "end_time": "2022-03-21T10:46:05.756559",
     "exception": false,
     "start_time": "2022-03-21T10:46:05.703932",
     "status": "completed"
    },
    "tags": []
   },
   "outputs": [],
   "source": [
    "# Set this to True if you want to run this template directly\n",
    "STANDALONE = False\n",
    "if STANDALONE:\n",
    "    print(\"parameters not injected, running with standalone_parameters\")\n",
    "    parameters = standalone_parameters\n",
    "\n",
    "if not 'parameters' in locals() and not 'parameters' in globals():\n",
    "    raise Exception(\"Parameter injection failed\")\n",
    "\n",
    "#Use an easy dict for all the parameters\n",
    "p = EasyDict(parameters)\n",
    "\n",
    "if \"x_shape\" not in p:\n",
    "    p.x_shape = [2,256] # Default to this if we dont supply x_shape\n",
    "\n",
    "\n",
    "supplied_keys = set(p.keys())\n",
    "\n",
    "if  supplied_keys != required_parameters:\n",
    "    print(\"Parameters are incorrect\")\n",
    "    if len(supplied_keys - required_parameters)>0: print(\"Shouldn't have:\", str(supplied_keys - required_parameters))\n",
    "    if len(required_parameters - supplied_keys)>0: print(\"Need to have:\", str(required_parameters - supplied_keys))\n",
    "    raise RuntimeError(\"Parameters are incorrect\")"
   ]
  },
  {
   "cell_type": "code",
   "execution_count": 6,
   "id": "3a028d58",
   "metadata": {
    "execution": {
     "iopub.execute_input": "2022-03-21T10:46:05.807608Z",
     "iopub.status.busy": "2022-03-21T10:46:05.807209Z",
     "iopub.status.idle": "2022-03-21T10:46:05.832312Z",
     "shell.execute_reply": "2022-03-21T10:46:05.831593Z"
    },
    "papermill": {
     "duration": 0.048962,
     "end_time": "2022-03-21T10:46:05.832479",
     "exception": false,
     "start_time": "2022-03-21T10:46:05.783517",
     "status": "completed"
    },
    "tags": []
   },
   "outputs": [],
   "source": [
    "###################################\n",
    "# Set the RNGs and make it all deterministic\n",
    "###################################\n",
    "np.random.seed(p.seed)\n",
    "random.seed(p.seed)\n",
    "torch.manual_seed(p.seed)\n",
    "\n",
    "torch.use_deterministic_algorithms(True) "
   ]
  },
  {
   "cell_type": "code",
   "execution_count": 7,
   "id": "b691acf6",
   "metadata": {
    "execution": {
     "iopub.execute_input": "2022-03-21T10:46:05.882591Z",
     "iopub.status.busy": "2022-03-21T10:46:05.882226Z",
     "iopub.status.idle": "2022-03-21T10:46:05.904913Z",
     "shell.execute_reply": "2022-03-21T10:46:05.905584Z"
    },
    "papermill": {
     "duration": 0.046851,
     "end_time": "2022-03-21T10:46:05.905764",
     "exception": false,
     "start_time": "2022-03-21T10:46:05.858913",
     "status": "completed"
    },
    "tags": []
   },
   "outputs": [],
   "source": [
    "###########################################\n",
    "# The stratified datasets honor this\n",
    "###########################################\n",
    "torch.set_default_dtype(eval(p.torch_default_dtype))"
   ]
  },
  {
   "cell_type": "code",
   "execution_count": 8,
   "id": "b5fba671",
   "metadata": {
    "execution": {
     "iopub.execute_input": "2022-03-21T10:46:05.953839Z",
     "iopub.status.busy": "2022-03-21T10:46:05.953374Z",
     "iopub.status.idle": "2022-03-21T10:46:06.005533Z",
     "shell.execute_reply": "2022-03-21T10:46:06.004717Z"
    },
    "papermill": {
     "duration": 0.074334,
     "end_time": "2022-03-21T10:46:06.005689",
     "exception": false,
     "start_time": "2022-03-21T10:46:05.931355",
     "status": "completed"
    },
    "tags": []
   },
   "outputs": [],
   "source": [
    "###################################\n",
    "# Build the network(s)\n",
    "# Note: It's critical to do this AFTER setting the RNG\n",
    "###################################\n",
    "x_net = build_sequential(p.x_net)"
   ]
  },
  {
   "cell_type": "code",
   "execution_count": 9,
   "id": "5d7e61cc",
   "metadata": {
    "execution": {
     "iopub.execute_input": "2022-03-21T10:46:06.054454Z",
     "iopub.status.busy": "2022-03-21T10:46:06.054023Z",
     "iopub.status.idle": "2022-03-21T10:46:06.075009Z",
     "shell.execute_reply": "2022-03-21T10:46:06.074197Z"
    },
    "papermill": {
     "duration": 0.043577,
     "end_time": "2022-03-21T10:46:06.075165",
     "exception": false,
     "start_time": "2022-03-21T10:46:06.031588",
     "status": "completed"
    },
    "tags": []
   },
   "outputs": [],
   "source": [
    "start_time_secs = time.time()"
   ]
  },
  {
   "cell_type": "code",
   "execution_count": 10,
   "id": "c6b67dfd",
   "metadata": {
    "execution": {
     "iopub.execute_input": "2022-03-21T10:46:06.122737Z",
     "iopub.status.busy": "2022-03-21T10:46:06.122373Z",
     "iopub.status.idle": "2022-03-21T10:46:06.140400Z",
     "shell.execute_reply": "2022-03-21T10:46:06.141104Z"
    },
    "papermill": {
     "duration": 0.041159,
     "end_time": "2022-03-21T10:46:06.141285",
     "exception": false,
     "start_time": "2022-03-21T10:46:06.100126",
     "status": "completed"
    },
    "tags": []
   },
   "outputs": [],
   "source": [
    "p.domains_source = []\n",
    "p.domains_target = []\n",
    "\n",
    "\n",
    "train_original_source = []\n",
    "val_original_source   = []\n",
    "test_original_source  = []\n",
    "\n",
    "train_original_target = []\n",
    "val_original_target   = []\n",
    "test_original_target  = []"
   ]
  },
  {
   "cell_type": "code",
   "execution_count": 11,
   "id": "e3d9c3d3",
   "metadata": {
    "execution": {
     "iopub.execute_input": "2022-03-21T10:46:06.191047Z",
     "iopub.status.busy": "2022-03-21T10:46:06.190684Z",
     "iopub.status.idle": "2022-03-21T10:46:06.214182Z",
     "shell.execute_reply": "2022-03-21T10:46:06.213375Z"
    },
    "papermill": {
     "duration": 0.046721,
     "end_time": "2022-03-21T10:46:06.214337",
     "exception": false,
     "start_time": "2022-03-21T10:46:06.167616",
     "status": "completed"
    },
    "tags": []
   },
   "outputs": [],
   "source": [
    "# global_x_transform_func = lambda x: normalize(x.to(torch.get_default_dtype()), \"unit_power\") # unit_power, unit_mag\n",
    "# global_x_transform_func = lambda x: normalize(x, \"unit_power\") # unit_power, unit_mag"
   ]
  },
  {
   "cell_type": "code",
   "execution_count": 12,
   "id": "acb78fd2",
   "metadata": {
    "execution": {
     "iopub.execute_input": "2022-03-21T10:46:06.267410Z",
     "iopub.status.busy": "2022-03-21T10:46:06.266831Z",
     "iopub.status.idle": "2022-03-21T10:46:06.287421Z",
     "shell.execute_reply": "2022-03-21T10:46:06.288116Z"
    },
    "papermill": {
     "duration": 0.048732,
     "end_time": "2022-03-21T10:46:06.288297",
     "exception": false,
     "start_time": "2022-03-21T10:46:06.239565",
     "status": "completed"
    },
    "tags": []
   },
   "outputs": [],
   "source": [
    "def add_dataset(\n",
    "    labels,\n",
    "    domains,\n",
    "    pickle_path,\n",
    "    x_transforms,\n",
    "    episode_transforms,\n",
    "    domain_prefix,\n",
    "    num_examples_per_domain_per_label,\n",
    "    source_or_target_dataset:str,\n",
    "    iterator_seed=p.seed,\n",
    "    dataset_seed=p.dataset_seed,\n",
    "    n_shot=p.n_shot,\n",
    "    n_way=p.n_way,\n",
    "    n_query=p.n_query,\n",
    "    train_val_test_k_factors=(p.train_k_factor,p.val_k_factor,p.test_k_factor),\n",
    "):\n",
    "   \n",
    "    if x_transforms == []: x_transform = None\n",
    "    else: x_transform = get_chained_transform(x_transforms)\n",
    "    \n",
    "    if episode_transforms == []: episode_transform = None\n",
    "    else: raise Exception(\"episode_transforms not implemented\")\n",
    "    \n",
    "    episode_transform = lambda tup, _prefix=domain_prefix: (_prefix + str(tup[0]), tup[1])\n",
    "\n",
    "\n",
    "    eaf = Episodic_Accessor_Factory(\n",
    "        labels=labels,\n",
    "        domains=domains,\n",
    "        num_examples_per_domain_per_label=num_examples_per_domain_per_label,\n",
    "        iterator_seed=iterator_seed,\n",
    "        dataset_seed=dataset_seed,\n",
    "        n_shot=n_shot,\n",
    "        n_way=n_way,\n",
    "        n_query=n_query,\n",
    "        train_val_test_k_factors=train_val_test_k_factors,\n",
    "        pickle_path=pickle_path,\n",
    "        x_transform_func=x_transform,\n",
    "    )\n",
    "\n",
    "    train, val, test = eaf.get_train(), eaf.get_val(), eaf.get_test()\n",
    "    train = Lazy_Iterable_Wrapper(train, episode_transform)\n",
    "    val = Lazy_Iterable_Wrapper(val, episode_transform)\n",
    "    test = Lazy_Iterable_Wrapper(test, episode_transform)\n",
    "\n",
    "    if source_or_target_dataset==\"source\":\n",
    "        train_original_source.append(train)\n",
    "        val_original_source.append(val)\n",
    "        test_original_source.append(test)\n",
    "\n",
    "        p.domains_source.extend(\n",
    "            [domain_prefix + str(u) for u in domains]\n",
    "        )\n",
    "    elif source_or_target_dataset==\"target\":\n",
    "        train_original_target.append(train)\n",
    "        val_original_target.append(val)\n",
    "        test_original_target.append(test)\n",
    "        p.domains_target.extend(\n",
    "            [domain_prefix + str(u) for u in domains]\n",
    "        )\n",
    "    else:\n",
    "        raise Exception(f\"invalid source_or_target_dataset: {source_or_target_dataset}\")\n",
    "    "
   ]
  },
  {
   "cell_type": "code",
   "execution_count": 13,
   "id": "fe266617",
   "metadata": {
    "execution": {
     "iopub.execute_input": "2022-03-21T10:46:06.341711Z",
     "iopub.status.busy": "2022-03-21T10:46:06.341344Z",
     "iopub.status.idle": "2022-03-21T10:46:48.589775Z",
     "shell.execute_reply": "2022-03-21T10:46:48.589262Z"
    },
    "papermill": {
     "duration": 42.272416,
     "end_time": "2022-03-21T10:46:48.589902",
     "exception": false,
     "start_time": "2022-03-21T10:46:06.317486",
     "status": "completed"
    },
    "tags": []
   },
   "outputs": [],
   "source": [
    "for ds in p.datasets:\n",
    "    add_dataset(**ds)"
   ]
  },
  {
   "cell_type": "code",
   "execution_count": 14,
   "id": "b90d65ac",
   "metadata": {
    "execution": {
     "iopub.execute_input": "2022-03-21T10:46:48.646622Z",
     "iopub.status.busy": "2022-03-21T10:46:48.646218Z",
     "iopub.status.idle": "2022-03-21T10:46:48.669103Z",
     "shell.execute_reply": "2022-03-21T10:46:48.668609Z"
    },
    "papermill": {
     "duration": 0.051934,
     "end_time": "2022-03-21T10:46:48.669231",
     "exception": false,
     "start_time": "2022-03-21T10:46:48.617297",
     "status": "completed"
    },
    "tags": []
   },
   "outputs": [],
   "source": [
    "# from steves_utils.CORES.utils import (\n",
    "#     ALL_NODES,\n",
    "#     ALL_NODES_MINIMUM_1000_EXAMPLES,\n",
    "#     ALL_DAYS\n",
    "# )\n",
    "\n",
    "# add_dataset(\n",
    "#     labels=ALL_NODES,\n",
    "#     domains = ALL_DAYS,\n",
    "#     num_examples_per_domain_per_label=100,\n",
    "#     pickle_path=os.path.join(get_datasets_base_path(), \"cores.stratified_ds.2022A.pkl\"),\n",
    "#     source_or_target_dataset=\"target\",\n",
    "#     x_transform_func=global_x_transform_func,\n",
    "#     domain_modifier=lambda u: f\"cores_{u}\"\n",
    "# )"
   ]
  },
  {
   "cell_type": "code",
   "execution_count": 15,
   "id": "76db484d",
   "metadata": {
    "execution": {
     "iopub.execute_input": "2022-03-21T10:46:48.722435Z",
     "iopub.status.busy": "2022-03-21T10:46:48.722050Z",
     "iopub.status.idle": "2022-03-21T10:46:48.743748Z",
     "shell.execute_reply": "2022-03-21T10:46:48.743160Z"
    },
    "papermill": {
     "duration": 0.046462,
     "end_time": "2022-03-21T10:46:48.743885",
     "exception": false,
     "start_time": "2022-03-21T10:46:48.697423",
     "status": "completed"
    },
    "tags": []
   },
   "outputs": [],
   "source": [
    "# from steves_utils.ORACLE.utils_v2 import (\n",
    "#     ALL_DISTANCES_FEET,\n",
    "#     ALL_RUNS,\n",
    "#     ALL_SERIAL_NUMBERS,\n",
    "# )\n",
    "\n",
    "\n",
    "# add_dataset(\n",
    "#     labels=ALL_SERIAL_NUMBERS,\n",
    "#     domains = list(set(ALL_DISTANCES_FEET) - {2,62}),\n",
    "#     num_examples_per_domain_per_label=100,\n",
    "#     pickle_path=os.path.join(get_datasets_base_path(), \"oracle.Run2_framed_2000Examples_stratified_ds.2022A.pkl\"),\n",
    "#     source_or_target_dataset=\"source\",\n",
    "#     x_transform_func=global_x_transform_func,\n",
    "#     domain_modifier=lambda u: f\"oracle1_{u}\"\n",
    "# )\n"
   ]
  },
  {
   "cell_type": "code",
   "execution_count": 16,
   "id": "97dea9d2",
   "metadata": {
    "execution": {
     "iopub.execute_input": "2022-03-21T10:46:48.798001Z",
     "iopub.status.busy": "2022-03-21T10:46:48.797619Z",
     "iopub.status.idle": "2022-03-21T10:46:48.817820Z",
     "shell.execute_reply": "2022-03-21T10:46:48.817316Z"
    },
    "papermill": {
     "duration": 0.04418,
     "end_time": "2022-03-21T10:46:48.817943",
     "exception": false,
     "start_time": "2022-03-21T10:46:48.773763",
     "status": "completed"
    },
    "tags": []
   },
   "outputs": [],
   "source": [
    "# from steves_utils.ORACLE.utils_v2 import (\n",
    "#     ALL_DISTANCES_FEET,\n",
    "#     ALL_RUNS,\n",
    "#     ALL_SERIAL_NUMBERS,\n",
    "# )\n",
    "\n",
    "\n",
    "# add_dataset(\n",
    "#     labels=ALL_SERIAL_NUMBERS,\n",
    "#     domains = list(set(ALL_DISTANCES_FEET) - {2,62,56}),\n",
    "#     num_examples_per_domain_per_label=100,\n",
    "#     pickle_path=os.path.join(get_datasets_base_path(), \"oracle.Run2_framed_2000Examples_stratified_ds.2022A.pkl\"),\n",
    "#     source_or_target_dataset=\"source\",\n",
    "#     x_transform_func=global_x_transform_func,\n",
    "#     domain_modifier=lambda u: f\"oracle2_{u}\"\n",
    "# )"
   ]
  },
  {
   "cell_type": "code",
   "execution_count": 17,
   "id": "6f289866",
   "metadata": {
    "execution": {
     "iopub.execute_input": "2022-03-21T10:46:48.874505Z",
     "iopub.status.busy": "2022-03-21T10:46:48.874125Z",
     "iopub.status.idle": "2022-03-21T10:46:48.890812Z",
     "shell.execute_reply": "2022-03-21T10:46:48.890096Z"
    },
    "papermill": {
     "duration": 0.040029,
     "end_time": "2022-03-21T10:46:48.890979",
     "exception": false,
     "start_time": "2022-03-21T10:46:48.850950",
     "status": "completed"
    },
    "tags": []
   },
   "outputs": [],
   "source": [
    "# add_dataset(\n",
    "#     labels=list(range(19)),\n",
    "#     domains = [0,1,2],\n",
    "#     num_examples_per_domain_per_label=100,\n",
    "#     pickle_path=os.path.join(get_datasets_base_path(), \"metehan.stratified_ds.2022A.pkl\"),\n",
    "#     source_or_target_dataset=\"target\",\n",
    "#     x_transform_func=global_x_transform_func,\n",
    "#     domain_modifier=lambda u: f\"met_{u}\"\n",
    "# )"
   ]
  },
  {
   "cell_type": "code",
   "execution_count": 18,
   "id": "86a863c3",
   "metadata": {
    "execution": {
     "iopub.execute_input": "2022-03-21T10:46:48.943275Z",
     "iopub.status.busy": "2022-03-21T10:46:48.942903Z",
     "iopub.status.idle": "2022-03-21T10:46:48.960283Z",
     "shell.execute_reply": "2022-03-21T10:46:48.959555Z"
    },
    "papermill": {
     "duration": 0.040716,
     "end_time": "2022-03-21T10:46:48.960439",
     "exception": false,
     "start_time": "2022-03-21T10:46:48.919723",
     "status": "completed"
    },
    "tags": []
   },
   "outputs": [],
   "source": [
    "# # from steves_utils.wisig.utils import (\n",
    "# #     ALL_NODES_MINIMUM_100_EXAMPLES,\n",
    "# #     ALL_NODES_MINIMUM_500_EXAMPLES,\n",
    "# #     ALL_NODES_MINIMUM_1000_EXAMPLES,\n",
    "# #     ALL_DAYS\n",
    "# # )\n",
    "\n",
    "# import steves_utils.wisig.utils as wisig\n",
    "\n",
    "\n",
    "# add_dataset(\n",
    "#     labels=wisig.ALL_NODES_MINIMUM_100_EXAMPLES,\n",
    "#     domains = wisig.ALL_DAYS,\n",
    "#     num_examples_per_domain_per_label=100,\n",
    "#     pickle_path=os.path.join(get_datasets_base_path(), \"wisig.node3-19.stratified_ds.2022A.pkl\"),\n",
    "#     source_or_target_dataset=\"target\",\n",
    "#     x_transform_func=global_x_transform_func,\n",
    "#     domain_modifier=lambda u: f\"wisig_{u}\"\n",
    "# )"
   ]
  },
  {
   "cell_type": "code",
   "execution_count": 19,
   "id": "fd5442bc",
   "metadata": {
    "execution": {
     "iopub.execute_input": "2022-03-21T10:46:49.017809Z",
     "iopub.status.busy": "2022-03-21T10:46:49.017068Z",
     "iopub.status.idle": "2022-03-21T10:46:49.037611Z",
     "shell.execute_reply": "2022-03-21T10:46:49.036799Z"
    },
    "papermill": {
     "duration": 0.047682,
     "end_time": "2022-03-21T10:46:49.037767",
     "exception": false,
     "start_time": "2022-03-21T10:46:48.990085",
     "status": "completed"
    },
    "tags": []
   },
   "outputs": [],
   "source": [
    "###################################\n",
    "# Build the dataset\n",
    "###################################\n",
    "train_original_source = Iterable_Aggregator(train_original_source, p.seed)\n",
    "val_original_source = Iterable_Aggregator(val_original_source, p.seed)\n",
    "test_original_source = Iterable_Aggregator(test_original_source, p.seed)\n",
    "\n",
    "\n",
    "train_original_target = Iterable_Aggregator(train_original_target, p.seed)\n",
    "val_original_target = Iterable_Aggregator(val_original_target, p.seed)\n",
    "test_original_target = Iterable_Aggregator(test_original_target, p.seed)\n",
    "\n",
    "# For CNN We only use X and Y. And we only train on the source.\n",
    "# Properly form the data using a transform lambda and Lazy_Iterable_Wrapper. Finally wrap them in a dataloader\n",
    "\n",
    "transform_lambda = lambda ex: ex[1] # Original is (<domain>, <episode>) so we strip down to episode only\n",
    "\n",
    "train_processed_source = Lazy_Iterable_Wrapper(train_original_source, transform_lambda)\n",
    "val_processed_source   = Lazy_Iterable_Wrapper(val_original_source, transform_lambda)\n",
    "test_processed_source  = Lazy_Iterable_Wrapper(test_original_source, transform_lambda)\n",
    "\n",
    "train_processed_target = Lazy_Iterable_Wrapper(train_original_target, transform_lambda)\n",
    "val_processed_target   = Lazy_Iterable_Wrapper(val_original_target, transform_lambda)\n",
    "test_processed_target  = Lazy_Iterable_Wrapper(test_original_target, transform_lambda)\n",
    "\n",
    "datasets = EasyDict({\n",
    "    \"source\": {\n",
    "        \"original\": {\"train\":train_original_source, \"val\":val_original_source, \"test\":test_original_source},\n",
    "        \"processed\": {\"train\":train_processed_source, \"val\":val_processed_source, \"test\":test_processed_source}\n",
    "    },\n",
    "    \"target\": {\n",
    "        \"original\": {\"train\":train_original_target, \"val\":val_original_target, \"test\":test_original_target},\n",
    "        \"processed\": {\"train\":train_processed_target, \"val\":val_processed_target, \"test\":test_processed_target}\n",
    "    },\n",
    "})"
   ]
  },
  {
   "cell_type": "code",
   "execution_count": 20,
   "id": "5b3c01fc",
   "metadata": {
    "execution": {
     "iopub.execute_input": "2022-03-21T10:46:49.092544Z",
     "iopub.status.busy": "2022-03-21T10:46:49.092173Z",
     "iopub.status.idle": "2022-03-21T10:47:04.439808Z",
     "shell.execute_reply": "2022-03-21T10:47:04.440500Z"
    },
    "papermill": {
     "duration": 15.373776,
     "end_time": "2022-03-21T10:47:04.440749",
     "exception": false,
     "start_time": "2022-03-21T10:46:49.066973",
     "status": "completed"
    },
    "tags": []
   },
   "outputs": [
    {
     "name": "stdout",
     "output_type": "stream",
     "text": [
      "{'ORACLE.run1_8', 'ORACLE.run1_32', 'ORACLE.run1_38', 'ORACLE.run1_44', 'ORACLE.run1_20', 'ORACLE.run1_14', 'ORACLE.run1_26', 'ORACLE.run1_50'}\n"
     ]
    },
    {
     "name": "stdout",
     "output_type": "stream",
     "text": [
      "{'CORES_5', 'CORES_4', 'CORES_3', 'CORES_1', 'CORES_2'}\n"
     ]
    },
    {
     "name": "stdout",
     "output_type": "stream",
     "text": [
      "tensor([[[-0.1928,  1.0235, -0.1790,  ..., -1.0418,  0.4590,  0.5508],\n",
      "         [-0.4039,  0.3534,  0.5003,  ..., -0.0505, -0.9271, -1.0281]],\n",
      "\n",
      "        [[ 0.0508,  1.1409, -0.2910,  ..., -0.8961, -0.0416, -0.7113],\n",
      "         [-0.3880, -0.2910,  0.6005,  ...,  0.3141, -1.2425, -0.8176]],\n",
      "\n",
      "        [[-0.6672, -0.1554,  0.8820,  ..., -0.0594, -1.3024,  0.0228],\n",
      "         [-0.4067, -0.9003,  0.5941,  ...,  0.7997,  0.3016,  1.3253]],\n",
      "\n",
      "        ...,\n",
      "\n",
      "        [[ 0.1032,  0.6571, -0.1032,  ..., -0.8254, -0.8634, -1.0317],\n",
      "         [-0.8906, -0.2715,  1.2924,  ...,  0.0923, -1.0209,  0.8200]],\n",
      "\n",
      "        [[-0.2576,  1.0962,  0.0219,  ..., -1.0414,  0.1918,  0.2905],\n",
      "         [-0.4823,  0.0329,  0.6358,  ...,  0.2521, -1.0633, -1.0359]],\n",
      "\n",
      "        [[-0.7553, -0.7776,  1.0164,  ...,  0.6165, -0.2055,  1.3107],\n",
      "         [ 0.5332, -0.1666, -0.7553,  ...,  0.5387,  1.2941,  0.2333]]])\n"
     ]
    }
   ],
   "source": [
    "from steves_utils.transforms import get_average_magnitude, get_average_power\n",
    "\n",
    "print(set([u for u,_ in val_original_source]))\n",
    "print(set([u for u,_ in val_original_target]))\n",
    "\n",
    "s_x, s_y, q_x, q_y, _ = next(iter(train_processed_source))\n",
    "print(s_x)\n",
    "\n",
    "# for ds in [\n",
    "#     train_processed_source,\n",
    "#     val_processed_source,\n",
    "#     test_processed_source,\n",
    "#     train_processed_target,\n",
    "#     val_processed_target,\n",
    "#     test_processed_target\n",
    "# ]:\n",
    "#     for s_x, s_y, q_x, q_y, _ in ds:\n",
    "#         for X in (s_x, q_x):\n",
    "#             for x in X:\n",
    "#                 assert np.isclose(get_average_magnitude(x.numpy()), 1.0)\n",
    "#                 assert np.isclose(get_average_power(x.numpy()), 1.0)\n",
    "                "
   ]
  },
  {
   "cell_type": "code",
   "execution_count": 21,
   "id": "bbdacba1",
   "metadata": {
    "execution": {
     "iopub.execute_input": "2022-03-21T10:47:04.493811Z",
     "iopub.status.busy": "2022-03-21T10:47:04.493247Z",
     "iopub.status.idle": "2022-03-21T10:47:04.766186Z",
     "shell.execute_reply": "2022-03-21T10:47:04.765822Z"
    },
    "papermill": {
     "duration": 0.29959,
     "end_time": "2022-03-21T10:47:04.766288",
     "exception": false,
     "start_time": "2022-03-21T10:47:04.466698",
     "status": "completed"
    },
    "tags": []
   },
   "outputs": [
    {
     "name": "stdout",
     "output_type": "stream",
     "text": [
      "(2, 256)\n"
     ]
    }
   ],
   "source": [
    "###################################\n",
    "# Build the model\n",
    "###################################\n",
    "# easfsl only wants a tuple for the shape\n",
    "model = Steves_Prototypical_Network(x_net, device=p.device, x_shape=tuple(p.x_shape))\n",
    "optimizer = Adam(params=model.parameters(), lr=p.lr)"
   ]
  },
  {
   "cell_type": "code",
   "execution_count": 22,
   "id": "22b39ac5",
   "metadata": {
    "execution": {
     "iopub.execute_input": "2022-03-21T10:47:04.816162Z",
     "iopub.status.busy": "2022-03-21T10:47:04.815672Z",
     "iopub.status.idle": "2022-03-21T11:28:35.134070Z",
     "shell.execute_reply": "2022-03-21T11:28:35.133727Z"
    },
    "papermill": {
     "duration": 2490.34495,
     "end_time": "2022-03-21T11:28:35.134157",
     "exception": false,
     "start_time": "2022-03-21T10:47:04.789207",
     "status": "completed"
    },
    "tags": []
   },
   "outputs": [
    {
     "name": "stdout",
     "output_type": "stream",
     "text": [
      "epoch: 1, [batch: 1 / 6720], examples_per_second: 32.6700, train_label_loss: 2.9355, \n"
     ]
    },
    {
     "name": "stdout",
     "output_type": "stream",
     "text": [
      "epoch: 1, [batch: 672 / 6720], examples_per_second: 2567.2117, train_label_loss: 0.7365, \n"
     ]
    },
    {
     "name": "stdout",
     "output_type": "stream",
     "text": [
      "epoch: 1, [batch: 1344 / 6720], examples_per_second: 2586.4032, train_label_loss: 0.7132, \n"
     ]
    },
    {
     "name": "stdout",
     "output_type": "stream",
     "text": [
      "epoch: 1, [batch: 2016 / 6720], examples_per_second: 2611.9204, train_label_loss: 0.5214, \n"
     ]
    },
    {
     "name": "stdout",
     "output_type": "stream",
     "text": [
      "epoch: 1, [batch: 2688 / 6720], examples_per_second: 2312.3547, train_label_loss: 0.3463, \n"
     ]
    },
    {
     "name": "stdout",
     "output_type": "stream",
     "text": [
      "epoch: 1, [batch: 3360 / 6720], examples_per_second: 2313.0640, train_label_loss: 0.4216, \n"
     ]
    },
    {
     "name": "stdout",
     "output_type": "stream",
     "text": [
      "epoch: 1, [batch: 4032 / 6720], examples_per_second: 2428.7151, train_label_loss: 0.6157, \n"
     ]
    },
    {
     "name": "stdout",
     "output_type": "stream",
     "text": [
      "epoch: 1, [batch: 4704 / 6720], examples_per_second: 2628.2849, train_label_loss: 0.3419, \n"
     ]
    },
    {
     "name": "stdout",
     "output_type": "stream",
     "text": [
      "epoch: 1, [batch: 5376 / 6720], examples_per_second: 2549.8643, train_label_loss: 0.4222, \n"
     ]
    },
    {
     "name": "stdout",
     "output_type": "stream",
     "text": [
      "epoch: 1, [batch: 6048 / 6720], examples_per_second: 2692.7635, train_label_loss: 0.5244, \n"
     ]
    },
    {
     "name": "stdout",
     "output_type": "stream",
     "text": [
      "=============================================================\n",
      "epoch: 1, source_val_acc_label: 0.7834, target_val_acc_label: 0.7435, source_val_label_loss: 0.6487, target_val_label_loss: 0.8536, \n",
      "=============================================================\n"
     ]
    },
    {
     "name": "stdout",
     "output_type": "stream",
     "text": [
      "New best\n"
     ]
    },
    {
     "name": "stdout",
     "output_type": "stream",
     "text": [
      "epoch: 2, [batch: 1 / 6720], examples_per_second: 2.6960, train_label_loss: 0.5037, \n"
     ]
    },
    {
     "name": "stdout",
     "output_type": "stream",
     "text": [
      "epoch: 2, [batch: 672 / 6720], examples_per_second: 3151.8168, train_label_loss: 0.5088, \n"
     ]
    },
    {
     "name": "stdout",
     "output_type": "stream",
     "text": [
      "epoch: 2, [batch: 1344 / 6720], examples_per_second: 3264.4320, train_label_loss: 0.9295, \n"
     ]
    },
    {
     "name": "stdout",
     "output_type": "stream",
     "text": [
      "epoch: 2, [batch: 2016 / 6720], examples_per_second: 3207.0798, train_label_loss: 0.2429, \n"
     ]
    },
    {
     "name": "stdout",
     "output_type": "stream",
     "text": [
      "epoch: 2, [batch: 2688 / 6720], examples_per_second: 3744.9736, train_label_loss: 0.5779, \n"
     ]
    },
    {
     "name": "stdout",
     "output_type": "stream",
     "text": [
      "epoch: 2, [batch: 3360 / 6720], examples_per_second: 3985.8135, train_label_loss: 0.3421, \n"
     ]
    },
    {
     "name": "stdout",
     "output_type": "stream",
     "text": [
      "epoch: 2, [batch: 4032 / 6720], examples_per_second: 3425.9758, train_label_loss: 0.2700, \n"
     ]
    },
    {
     "name": "stdout",
     "output_type": "stream",
     "text": [
      "epoch: 2, [batch: 4704 / 6720], examples_per_second: 3430.6564, train_label_loss: 0.1970, \n"
     ]
    },
    {
     "name": "stdout",
     "output_type": "stream",
     "text": [
      "epoch: 2, [batch: 5376 / 6720], examples_per_second: 3380.3241, train_label_loss: 1.1721, \n"
     ]
    },
    {
     "name": "stdout",
     "output_type": "stream",
     "text": [
      "epoch: 2, [batch: 6048 / 6720], examples_per_second: 3366.5396, train_label_loss: 0.4188, \n"
     ]
    },
    {
     "name": "stdout",
     "output_type": "stream",
     "text": [
      "=============================================================\n",
      "epoch: 2, source_val_acc_label: 0.8509, target_val_acc_label: 0.8329, source_val_label_loss: 0.4228, target_val_label_loss: 0.8457, \n",
      "=============================================================\n"
     ]
    },
    {
     "name": "stdout",
     "output_type": "stream",
     "text": [
      "New best\n"
     ]
    },
    {
     "name": "stdout",
     "output_type": "stream",
     "text": [
      "epoch: 3, [batch: 1 / 6720], examples_per_second: 3.5260, train_label_loss: 0.4281, \n"
     ]
    },
    {
     "name": "stdout",
     "output_type": "stream",
     "text": [
      "epoch: 3, [batch: 672 / 6720], examples_per_second: 3895.9310, train_label_loss: 0.3204, \n"
     ]
    },
    {
     "name": "stdout",
     "output_type": "stream",
     "text": [
      "epoch: 3, [batch: 1344 / 6720], examples_per_second: 3817.5804, train_label_loss: 0.8464, \n"
     ]
    },
    {
     "name": "stdout",
     "output_type": "stream",
     "text": [
      "epoch: 3, [batch: 2016 / 6720], examples_per_second: 3895.5555, train_label_loss: 0.4598, \n"
     ]
    },
    {
     "name": "stdout",
     "output_type": "stream",
     "text": [
      "epoch: 3, [batch: 2688 / 6720], examples_per_second: 3157.0916, train_label_loss: 0.2725, \n"
     ]
    },
    {
     "name": "stdout",
     "output_type": "stream",
     "text": [
      "epoch: 3, [batch: 3360 / 6720], examples_per_second: 2908.9018, train_label_loss: 0.2123, \n"
     ]
    },
    {
     "name": "stdout",
     "output_type": "stream",
     "text": [
      "epoch: 3, [batch: 4032 / 6720], examples_per_second: 2898.1710, train_label_loss: 0.3680, \n"
     ]
    },
    {
     "name": "stdout",
     "output_type": "stream",
     "text": [
      "epoch: 3, [batch: 4704 / 6720], examples_per_second: 2970.8486, train_label_loss: 0.3945, \n"
     ]
    },
    {
     "name": "stdout",
     "output_type": "stream",
     "text": [
      "epoch: 3, [batch: 5376 / 6720], examples_per_second: 2924.5461, train_label_loss: 0.1875, \n"
     ]
    },
    {
     "name": "stdout",
     "output_type": "stream",
     "text": [
      "epoch: 3, [batch: 6048 / 6720], examples_per_second: 2909.3741, train_label_loss: 0.4903, \n"
     ]
    },
    {
     "name": "stdout",
     "output_type": "stream",
     "text": [
      "=============================================================\n",
      "epoch: 3, source_val_acc_label: 0.8688, target_val_acc_label: 0.8389, source_val_label_loss: 0.3764, target_val_label_loss: 0.9942, \n",
      "=============================================================\n"
     ]
    },
    {
     "name": "stdout",
     "output_type": "stream",
     "text": [
      "New best\n"
     ]
    },
    {
     "name": "stdout",
     "output_type": "stream",
     "text": [
      "epoch: 4, [batch: 1 / 6720], examples_per_second: 2.0584, train_label_loss: 0.1863, \n"
     ]
    },
    {
     "name": "stdout",
     "output_type": "stream",
     "text": [
      "epoch: 4, [batch: 672 / 6720], examples_per_second: 2381.3649, train_label_loss: 0.1193, \n"
     ]
    },
    {
     "name": "stdout",
     "output_type": "stream",
     "text": [
      "epoch: 4, [batch: 1344 / 6720], examples_per_second: 2609.8247, train_label_loss: 0.2223, \n"
     ]
    },
    {
     "name": "stdout",
     "output_type": "stream",
     "text": [
      "epoch: 4, [batch: 2016 / 6720], examples_per_second: 2535.1358, train_label_loss: 0.2517, \n"
     ]
    },
    {
     "name": "stdout",
     "output_type": "stream",
     "text": [
      "epoch: 4, [batch: 2688 / 6720], examples_per_second: 2474.9833, train_label_loss: 0.4878, \n"
     ]
    },
    {
     "name": "stdout",
     "output_type": "stream",
     "text": [
      "epoch: 4, [batch: 3360 / 6720], examples_per_second: 2322.3952, train_label_loss: 0.1104, \n"
     ]
    },
    {
     "name": "stdout",
     "output_type": "stream",
     "text": [
      "epoch: 4, [batch: 4032 / 6720], examples_per_second: 2294.8828, train_label_loss: 0.3631, \n"
     ]
    },
    {
     "name": "stdout",
     "output_type": "stream",
     "text": [
      "epoch: 4, [batch: 4704 / 6720], examples_per_second: 2429.0082, train_label_loss: 0.1783, \n"
     ]
    },
    {
     "name": "stdout",
     "output_type": "stream",
     "text": [
      "epoch: 4, [batch: 5376 / 6720], examples_per_second: 2592.5617, train_label_loss: 0.2000, \n"
     ]
    },
    {
     "name": "stdout",
     "output_type": "stream",
     "text": [
      "epoch: 4, [batch: 6048 / 6720], examples_per_second: 2623.1585, train_label_loss: 0.1227, \n"
     ]
    },
    {
     "name": "stdout",
     "output_type": "stream",
     "text": [
      "=============================================================\n",
      "epoch: 4, source_val_acc_label: 0.8820, target_val_acc_label: 0.8425, source_val_label_loss: 0.3298, target_val_label_loss: 1.1425, \n",
      "=============================================================\n"
     ]
    },
    {
     "name": "stdout",
     "output_type": "stream",
     "text": [
      "New best\n"
     ]
    },
    {
     "name": "stdout",
     "output_type": "stream",
     "text": [
      "epoch: 5, [batch: 1 / 6720], examples_per_second: 2.1004, train_label_loss: 0.3570, \n"
     ]
    },
    {
     "name": "stdout",
     "output_type": "stream",
     "text": [
      "epoch: 5, [batch: 672 / 6720], examples_per_second: 2407.6539, train_label_loss: 0.8308, \n"
     ]
    },
    {
     "name": "stdout",
     "output_type": "stream",
     "text": [
      "epoch: 5, [batch: 1344 / 6720], examples_per_second: 2613.5315, train_label_loss: 0.1982, \n"
     ]
    },
    {
     "name": "stdout",
     "output_type": "stream",
     "text": [
      "epoch: 5, [batch: 2016 / 6720], examples_per_second: 2612.2882, train_label_loss: 0.9142, \n"
     ]
    },
    {
     "name": "stdout",
     "output_type": "stream",
     "text": [
      "epoch: 5, [batch: 2688 / 6720], examples_per_second: 2542.1163, train_label_loss: 0.1759, \n"
     ]
    },
    {
     "name": "stdout",
     "output_type": "stream",
     "text": [
      "epoch: 5, [batch: 3360 / 6720], examples_per_second: 2307.3338, train_label_loss: 0.7471, \n"
     ]
    },
    {
     "name": "stdout",
     "output_type": "stream",
     "text": [
      "epoch: 5, [batch: 4032 / 6720], examples_per_second: 2316.0921, train_label_loss: 0.1017, \n"
     ]
    },
    {
     "name": "stdout",
     "output_type": "stream",
     "text": [
      "epoch: 5, [batch: 4704 / 6720], examples_per_second: 2375.4032, train_label_loss: 0.4339, \n"
     ]
    },
    {
     "name": "stdout",
     "output_type": "stream",
     "text": [
      "epoch: 5, [batch: 5376 / 6720], examples_per_second: 2591.0612, train_label_loss: 0.0872, \n"
     ]
    },
    {
     "name": "stdout",
     "output_type": "stream",
     "text": [
      "epoch: 5, [batch: 6048 / 6720], examples_per_second: 2572.6163, train_label_loss: 0.3155, \n"
     ]
    },
    {
     "name": "stdout",
     "output_type": "stream",
     "text": [
      "=============================================================\n",
      "epoch: 5, source_val_acc_label: 0.8877, target_val_acc_label: 0.8484, source_val_label_loss: 0.3134, target_val_label_loss: 1.2169, \n",
      "=============================================================\n"
     ]
    },
    {
     "name": "stdout",
     "output_type": "stream",
     "text": [
      "New best\n"
     ]
    },
    {
     "name": "stdout",
     "output_type": "stream",
     "text": [
      "epoch: 6, [batch: 1 / 6720], examples_per_second: 2.1132, train_label_loss: 0.3075, \n"
     ]
    },
    {
     "name": "stdout",
     "output_type": "stream",
     "text": [
      "epoch: 6, [batch: 672 / 6720], examples_per_second: 2345.6924, train_label_loss: 0.1378, \n"
     ]
    },
    {
     "name": "stdout",
     "output_type": "stream",
     "text": [
      "epoch: 6, [batch: 1344 / 6720], examples_per_second: 2558.2038, train_label_loss: 0.1096, \n"
     ]
    },
    {
     "name": "stdout",
     "output_type": "stream",
     "text": [
      "epoch: 6, [batch: 2016 / 6720], examples_per_second: 2573.5027, train_label_loss: 0.2425, \n"
     ]
    },
    {
     "name": "stdout",
     "output_type": "stream",
     "text": [
      "epoch: 6, [batch: 2688 / 6720], examples_per_second: 2528.1656, train_label_loss: 0.3926, \n"
     ]
    },
    {
     "name": "stdout",
     "output_type": "stream",
     "text": [
      "epoch: 6, [batch: 3360 / 6720], examples_per_second: 2466.3965, train_label_loss: 0.2546, \n"
     ]
    },
    {
     "name": "stdout",
     "output_type": "stream",
     "text": [
      "epoch: 6, [batch: 4032 / 6720], examples_per_second: 2547.5715, train_label_loss: 0.2601, \n"
     ]
    },
    {
     "name": "stdout",
     "output_type": "stream",
     "text": [
      "epoch: 6, [batch: 4704 / 6720], examples_per_second: 2606.2274, train_label_loss: 0.4086, \n"
     ]
    },
    {
     "name": "stdout",
     "output_type": "stream",
     "text": [
      "epoch: 6, [batch: 5376 / 6720], examples_per_second: 2935.1149, train_label_loss: 0.3551, \n"
     ]
    },
    {
     "name": "stdout",
     "output_type": "stream",
     "text": [
      "epoch: 6, [batch: 6048 / 6720], examples_per_second: 2940.7386, train_label_loss: 0.2721, \n"
     ]
    },
    {
     "name": "stdout",
     "output_type": "stream",
     "text": [
      "=============================================================\n",
      "epoch: 6, source_val_acc_label: 0.8883, target_val_acc_label: 0.8661, source_val_label_loss: 0.3103, target_val_label_loss: 1.1354, \n",
      "=============================================================\n"
     ]
    },
    {
     "name": "stdout",
     "output_type": "stream",
     "text": [
      "New best\n"
     ]
    },
    {
     "name": "stdout",
     "output_type": "stream",
     "text": [
      "epoch: 7, [batch: 1 / 6720], examples_per_second: 2.5948, train_label_loss: 0.1449, \n"
     ]
    },
    {
     "name": "stdout",
     "output_type": "stream",
     "text": [
      "epoch: 7, [batch: 672 / 6720], examples_per_second: 2604.0688, train_label_loss: 0.1353, \n"
     ]
    },
    {
     "name": "stdout",
     "output_type": "stream",
     "text": [
      "epoch: 7, [batch: 1344 / 6720], examples_per_second: 2606.7329, train_label_loss: 0.2023, \n"
     ]
    },
    {
     "name": "stdout",
     "output_type": "stream",
     "text": [
      "epoch: 7, [batch: 2016 / 6720], examples_per_second: 2584.7612, train_label_loss: 0.1292, \n"
     ]
    },
    {
     "name": "stdout",
     "output_type": "stream",
     "text": [
      "epoch: 7, [batch: 2688 / 6720], examples_per_second: 2521.4734, train_label_loss: 0.0139, \n"
     ]
    },
    {
     "name": "stdout",
     "output_type": "stream",
     "text": [
      "epoch: 7, [batch: 3360 / 6720], examples_per_second: 2310.2297, train_label_loss: 0.0781, \n"
     ]
    },
    {
     "name": "stdout",
     "output_type": "stream",
     "text": [
      "epoch: 7, [batch: 4032 / 6720], examples_per_second: 2317.8249, train_label_loss: 0.1884, \n"
     ]
    },
    {
     "name": "stdout",
     "output_type": "stream",
     "text": [
      "epoch: 7, [batch: 4704 / 6720], examples_per_second: 2323.6342, train_label_loss: 0.1787, \n"
     ]
    },
    {
     "name": "stdout",
     "output_type": "stream",
     "text": [
      "epoch: 7, [batch: 5376 / 6720], examples_per_second: 2556.1786, train_label_loss: 0.3273, \n"
     ]
    },
    {
     "name": "stdout",
     "output_type": "stream",
     "text": [
      "epoch: 7, [batch: 6048 / 6720], examples_per_second: 2618.5341, train_label_loss: 0.2450, \n"
     ]
    },
    {
     "name": "stdout",
     "output_type": "stream",
     "text": [
      "=============================================================\n",
      "epoch: 7, source_val_acc_label: 0.8921, target_val_acc_label: 0.8637, source_val_label_loss: 0.3016, target_val_label_loss: 0.9674, \n",
      "=============================================================\n"
     ]
    },
    {
     "name": "stdout",
     "output_type": "stream",
     "text": [
      "epoch: 8, [batch: 1 / 6720], examples_per_second: 2.1617, train_label_loss: 0.1392, \n"
     ]
    },
    {
     "name": "stdout",
     "output_type": "stream",
     "text": [
      "epoch: 8, [batch: 672 / 6720], examples_per_second: 2319.1483, train_label_loss: 0.0913, \n"
     ]
    },
    {
     "name": "stdout",
     "output_type": "stream",
     "text": [
      "epoch: 8, [batch: 1344 / 6720], examples_per_second: 2552.6261, train_label_loss: 0.0311, \n"
     ]
    },
    {
     "name": "stdout",
     "output_type": "stream",
     "text": [
      "epoch: 8, [batch: 2016 / 6720], examples_per_second: 2577.4116, train_label_loss: 0.4237, \n"
     ]
    },
    {
     "name": "stdout",
     "output_type": "stream",
     "text": [
      "epoch: 8, [batch: 2688 / 6720], examples_per_second: 2603.1683, train_label_loss: 0.1247, \n"
     ]
    },
    {
     "name": "stdout",
     "output_type": "stream",
     "text": [
      "epoch: 8, [batch: 3360 / 6720], examples_per_second: 2350.9575, train_label_loss: 0.6839, \n"
     ]
    },
    {
     "name": "stdout",
     "output_type": "stream",
     "text": [
      "epoch: 8, [batch: 4032 / 6720], examples_per_second: 2310.7877, train_label_loss: 0.2293, \n"
     ]
    },
    {
     "name": "stdout",
     "output_type": "stream",
     "text": [
      "epoch: 8, [batch: 4704 / 6720], examples_per_second: 2310.1144, train_label_loss: 0.1647, \n"
     ]
    },
    {
     "name": "stdout",
     "output_type": "stream",
     "text": [
      "epoch: 8, [batch: 5376 / 6720], examples_per_second: 2491.5883, train_label_loss: 0.1148, \n"
     ]
    },
    {
     "name": "stdout",
     "output_type": "stream",
     "text": [
      "epoch: 8, [batch: 6048 / 6720], examples_per_second: 2594.5980, train_label_loss: 0.2346, \n"
     ]
    },
    {
     "name": "stdout",
     "output_type": "stream",
     "text": [
      "=============================================================\n",
      "epoch: 8, source_val_acc_label: 0.8978, target_val_acc_label: 0.8646, source_val_label_loss: 0.2806, target_val_label_loss: 1.0612, \n",
      "=============================================================\n"
     ]
    },
    {
     "name": "stdout",
     "output_type": "stream",
     "text": [
      "epoch: 9, [batch: 1 / 6720], examples_per_second: 2.3578, train_label_loss: 0.4345, \n"
     ]
    },
    {
     "name": "stdout",
     "output_type": "stream",
     "text": [
      "epoch: 9, [batch: 672 / 6720], examples_per_second: 2622.0425, train_label_loss: 0.3327, \n"
     ]
    },
    {
     "name": "stdout",
     "output_type": "stream",
     "text": [
      "epoch: 9, [batch: 1344 / 6720], examples_per_second: 2918.8246, train_label_loss: 0.2008, \n"
     ]
    },
    {
     "name": "stdout",
     "output_type": "stream",
     "text": [
      "epoch: 9, [batch: 2016 / 6720], examples_per_second: 2930.6101, train_label_loss: 0.1970, \n"
     ]
    },
    {
     "name": "stdout",
     "output_type": "stream",
     "text": [
      "epoch: 9, [batch: 2688 / 6720], examples_per_second: 2975.2957, train_label_loss: 0.3311, \n"
     ]
    },
    {
     "name": "stdout",
     "output_type": "stream",
     "text": [
      "epoch: 9, [batch: 3360 / 6720], examples_per_second: 2541.0892, train_label_loss: 0.4075, \n"
     ]
    },
    {
     "name": "stdout",
     "output_type": "stream",
     "text": [
      "epoch: 9, [batch: 4032 / 6720], examples_per_second: 2598.8300, train_label_loss: 0.2028, \n"
     ]
    },
    {
     "name": "stdout",
     "output_type": "stream",
     "text": [
      "epoch: 9, [batch: 4704 / 6720], examples_per_second: 2757.1409, train_label_loss: 0.1362, \n"
     ]
    },
    {
     "name": "stdout",
     "output_type": "stream",
     "text": [
      "epoch: 9, [batch: 5376 / 6720], examples_per_second: 3028.7603, train_label_loss: 0.1417, \n"
     ]
    },
    {
     "name": "stdout",
     "output_type": "stream",
     "text": [
      "epoch: 9, [batch: 6048 / 6720], examples_per_second: 3005.2037, train_label_loss: 0.2113, \n"
     ]
    },
    {
     "name": "stdout",
     "output_type": "stream",
     "text": [
      "=============================================================\n",
      "epoch: 9, source_val_acc_label: 0.8981, target_val_acc_label: 0.8547, source_val_label_loss: 0.2821, target_val_label_loss: 1.1824, \n",
      "=============================================================\n"
     ]
    },
    {
     "name": "stdout",
     "output_type": "stream",
     "text": [
      "epoch: 10, [batch: 1 / 6720], examples_per_second: 2.8387, train_label_loss: 0.2903, \n"
     ]
    },
    {
     "name": "stdout",
     "output_type": "stream",
     "text": [
      "epoch: 10, [batch: 672 / 6720], examples_per_second: 2936.9118, train_label_loss: 0.1196, \n"
     ]
    },
    {
     "name": "stdout",
     "output_type": "stream",
     "text": [
      "epoch: 10, [batch: 1344 / 6720], examples_per_second: 2797.2740, train_label_loss: 0.0824, \n"
     ]
    },
    {
     "name": "stdout",
     "output_type": "stream",
     "text": [
      "epoch: 10, [batch: 2016 / 6720], examples_per_second: 2633.6934, train_label_loss: 0.0684, \n"
     ]
    },
    {
     "name": "stdout",
     "output_type": "stream",
     "text": [
      "epoch: 10, [batch: 2688 / 6720], examples_per_second: 2618.2389, train_label_loss: 0.0203, \n"
     ]
    },
    {
     "name": "stdout",
     "output_type": "stream",
     "text": [
      "epoch: 10, [batch: 3360 / 6720], examples_per_second: 2396.1065, train_label_loss: 0.0636, \n"
     ]
    },
    {
     "name": "stdout",
     "output_type": "stream",
     "text": [
      "epoch: 10, [batch: 4032 / 6720], examples_per_second: 2322.3720, train_label_loss: 0.2218, \n"
     ]
    },
    {
     "name": "stdout",
     "output_type": "stream",
     "text": [
      "epoch: 10, [batch: 4704 / 6720], examples_per_second: 2306.8787, train_label_loss: 0.1496, \n"
     ]
    },
    {
     "name": "stdout",
     "output_type": "stream",
     "text": [
      "epoch: 10, [batch: 5376 / 6720], examples_per_second: 2311.3752, train_label_loss: 0.0265, \n"
     ]
    },
    {
     "name": "stdout",
     "output_type": "stream",
     "text": [
      "epoch: 10, [batch: 6048 / 6720], examples_per_second: 2300.9580, train_label_loss: 0.0980, \n"
     ]
    },
    {
     "name": "stdout",
     "output_type": "stream",
     "text": [
      "=============================================================\n",
      "epoch: 10, source_val_acc_label: 0.8987, target_val_acc_label: 0.8620, source_val_label_loss: 0.2792, target_val_label_loss: 1.3558, \n",
      "=============================================================\n"
     ]
    },
    {
     "name": "stdout",
     "output_type": "stream",
     "text": [
      "Patience (3) exhausted\n"
     ]
    }
   ],
   "source": [
    "###################################\n",
    "# train\n",
    "###################################\n",
    "jig = PTN_Train_Eval_Test_Jig(model, p.BEST_MODEL_PATH, p.device)\n",
    "\n",
    "jig.train(\n",
    "    train_iterable=datasets.source.processed.train,\n",
    "    source_val_iterable=datasets.source.processed.val,\n",
    "    target_val_iterable=datasets.target.processed.val,\n",
    "    num_epochs=p.n_epoch,\n",
    "    num_logs_per_epoch=p.NUM_LOGS_PER_EPOCH,\n",
    "    patience=p.patience,\n",
    "    optimizer=optimizer,\n",
    "    criteria_for_best=p.criteria_for_best,\n",
    ")"
   ]
  },
  {
   "cell_type": "code",
   "execution_count": 23,
   "id": "31e8fabf",
   "metadata": {
    "execution": {
     "iopub.execute_input": "2022-03-21T11:28:35.247300Z",
     "iopub.status.busy": "2022-03-21T11:28:35.246669Z",
     "iopub.status.idle": "2022-03-21T11:28:35.280323Z",
     "shell.execute_reply": "2022-03-21T11:28:35.279598Z"
    },
    "papermill": {
     "duration": 0.092464,
     "end_time": "2022-03-21T11:28:35.280495",
     "exception": false,
     "start_time": "2022-03-21T11:28:35.188031",
     "status": "completed"
    },
    "tags": []
   },
   "outputs": [],
   "source": [
    "total_experiment_time_secs = time.time() - start_time_secs"
   ]
  },
  {
   "cell_type": "code",
   "execution_count": 24,
   "id": "87b9595b",
   "metadata": {
    "execution": {
     "iopub.execute_input": "2022-03-21T11:28:35.404651Z",
     "iopub.status.busy": "2022-03-21T11:28:35.404246Z",
     "iopub.status.idle": "2022-03-21T11:32:31.949628Z",
     "shell.execute_reply": "2022-03-21T11:32:31.948852Z"
    },
    "papermill": {
     "duration": 236.60886,
     "end_time": "2022-03-21T11:32:31.949819",
     "exception": false,
     "start_time": "2022-03-21T11:28:35.340959",
     "status": "completed"
    },
    "tags": []
   },
   "outputs": [],
   "source": [
    "###################################\n",
    "# Evaluate the model\n",
    "###################################\n",
    "source_test_label_accuracy, source_test_label_loss = jig.test(datasets.source.processed.test)\n",
    "target_test_label_accuracy, target_test_label_loss = jig.test(datasets.target.processed.test)\n",
    "\n",
    "source_val_label_accuracy, source_val_label_loss = jig.test(datasets.source.processed.val)\n",
    "target_val_label_accuracy, target_val_label_loss = jig.test(datasets.target.processed.val)\n",
    "\n",
    "history = jig.get_history()\n",
    "\n",
    "total_epochs_trained = len(history[\"epoch_indices\"])\n",
    "\n",
    "val_dl = Iterable_Aggregator((datasets.source.original.val,datasets.target.original.val))\n",
    "\n",
    "confusion = ptn_confusion_by_domain_over_dataloader(model, p.device, val_dl)\n",
    "per_domain_accuracy = per_domain_accuracy_from_confusion(confusion)\n",
    "\n",
    "# Add a key to per_domain_accuracy for if it was a source domain\n",
    "for domain, accuracy in per_domain_accuracy.items():\n",
    "    per_domain_accuracy[domain] = {\n",
    "        \"accuracy\": accuracy,\n",
    "        \"source?\": domain in p.domains_source\n",
    "    }\n",
    "\n",
    "# Do an independent accuracy assesment JUST TO BE SURE!\n",
    "# _source_test_label_accuracy = independent_accuracy_assesment(model, datasets.source.processed.test, p.device)\n",
    "# _target_test_label_accuracy = independent_accuracy_assesment(model, datasets.target.processed.test, p.device)\n",
    "# _source_val_label_accuracy = independent_accuracy_assesment(model, datasets.source.processed.val, p.device)\n",
    "# _target_val_label_accuracy = independent_accuracy_assesment(model, datasets.target.processed.val, p.device)\n",
    "\n",
    "# assert(_source_test_label_accuracy == source_test_label_accuracy)\n",
    "# assert(_target_test_label_accuracy == target_test_label_accuracy)\n",
    "# assert(_source_val_label_accuracy == source_val_label_accuracy)\n",
    "# assert(_target_val_label_accuracy == target_val_label_accuracy)\n",
    "\n",
    "experiment = {\n",
    "    \"experiment_name\": p.experiment_name,\n",
    "    \"parameters\": dict(p),\n",
    "    \"results\": {\n",
    "        \"source_test_label_accuracy\": source_test_label_accuracy,\n",
    "        \"source_test_label_loss\": source_test_label_loss,\n",
    "        \"target_test_label_accuracy\": target_test_label_accuracy,\n",
    "        \"target_test_label_loss\": target_test_label_loss,\n",
    "        \"source_val_label_accuracy\": source_val_label_accuracy,\n",
    "        \"source_val_label_loss\": source_val_label_loss,\n",
    "        \"target_val_label_accuracy\": target_val_label_accuracy,\n",
    "        \"target_val_label_loss\": target_val_label_loss,\n",
    "        \"total_epochs_trained\": total_epochs_trained,\n",
    "        \"total_experiment_time_secs\": total_experiment_time_secs,\n",
    "        \"confusion\": confusion,\n",
    "        \"per_domain_accuracy\": per_domain_accuracy,\n",
    "    },\n",
    "    \"history\": history,\n",
    "    \"dataset_metrics\": get_dataset_metrics(datasets, \"ptn\"),\n",
    "}"
   ]
  },
  {
   "cell_type": "code",
   "execution_count": 25,
   "id": "54a21829",
   "metadata": {
    "execution": {
     "iopub.execute_input": "2022-03-21T11:32:32.066671Z",
     "iopub.status.busy": "2022-03-21T11:32:32.066296Z",
     "iopub.status.idle": "2022-03-21T11:32:32.284549Z",
     "shell.execute_reply": "2022-03-21T11:32:32.285219Z"
    },
    "papermill": {
     "duration": 0.275141,
     "end_time": "2022-03-21T11:32:32.285444",
     "exception": false,
     "start_time": "2022-03-21T11:32:32.010303",
     "status": "completed"
    },
    "tags": []
   },
   "outputs": [
    {
     "data": {
      "image/png": "[encoded data removed]",
      "text/plain": [
       "<Figure size 1080x504 with 1 Axes>"
      ]
     },
     "metadata": {
      "needs_background": "light"
     },
     "output_type": "display_data"
    }
   ],
   "source": [
    "ax = get_loss_curve(experiment)\n",
    "plt.show()"
   ]
  },
  {
   "cell_type": "code",
   "execution_count": 26,
   "id": "fd8a0f60",
   "metadata": {
    "execution": {
     "iopub.execute_input": "2022-03-21T11:32:32.404160Z",
     "iopub.status.busy": "2022-03-21T11:32:32.403648Z",
     "iopub.status.idle": "2022-03-21T11:32:32.765254Z",
     "shell.execute_reply": "2022-03-21T11:32:32.762782Z"
    },
    "papermill": {
     "duration": 0.419795,
     "end_time": "2022-03-21T11:32:32.765397",
     "exception": false,
     "start_time": "2022-03-21T11:32:32.345602",
     "status": "completed"
    },
    "tags": []
   },
   "outputs": [
    {
     "data": {
      "text/plain": [
       "<AxesSubplot:title={'center':'Results'}>"
      ]
     },
     "execution_count": 26,
     "metadata": {},
     "output_type": "execute_result"
    },
    {
     "data": {
      "image/png": "[encoded data removed]",
      "text/plain": [
       "<Figure size 1080x504 with 1 Axes>"
      ]
     },
     "metadata": {
      "needs_background": "light"
     },
     "output_type": "display_data"
    }
   ],
   "source": [
    "get_results_table(experiment)"
   ]
  },
  {
   "cell_type": "code",
   "execution_count": 27,
   "id": "cf8dc689",
   "metadata": {
    "execution": {
     "iopub.execute_input": "2022-03-21T11:32:32.892758Z",
     "iopub.status.busy": "2022-03-21T11:32:32.892246Z",
     "iopub.status.idle": "2022-03-21T11:32:33.158616Z",
     "shell.execute_reply": "2022-03-21T11:32:33.159285Z"
    },
    "papermill": {
     "duration": 0.329053,
     "end_time": "2022-03-21T11:32:33.159511",
     "exception": false,
     "start_time": "2022-03-21T11:32:32.830458",
     "status": "completed"
    },
    "tags": []
   },
   "outputs": [
    {
     "data": {
      "text/plain": [
       "<AxesSubplot:title={'center':'Per Domain Validation Accuracy'}, xlabel='domain'>"
      ]
     },
     "execution_count": 27,
     "metadata": {},
     "output_type": "execute_result"
    },
    {
     "data": {
      "image/png": "[encoded data removed]",
      "text/plain": [
       "<Figure size 1080x504 with 1 Axes>"
      ]
     },
     "metadata": {
      "needs_background": "light"
     },
     "output_type": "display_data"
    }
   ],
   "source": [
    "get_domain_accuracies(experiment)"
   ]
  },
  {
   "cell_type": "code",
   "execution_count": 28,
   "id": "a74ae082",
   "metadata": {
    "execution": {
     "iopub.execute_input": "2022-03-21T11:32:33.281001Z",
     "iopub.status.busy": "2022-03-21T11:32:33.280620Z",
     "iopub.status.idle": "2022-03-21T11:32:33.304641Z",
     "shell.execute_reply": "2022-03-21T11:32:33.303919Z"
    },
    "papermill": {
     "duration": 0.083807,
     "end_time": "2022-03-21T11:32:33.304814",
     "exception": false,
     "start_time": "2022-03-21T11:32:33.221007",
     "status": "completed"
    },
    "tags": []
   },
   "outputs": [
    {
     "name": "stdout",
     "output_type": "stream",
     "text": [
      "Source Test Label Accuracy: 0.8910807291666667 Target Test Label Accuracy: 0.8650265957446809\n",
      "Source Val Label Accuracy: 0.8883463541666666 Target Val Label Accuracy: 0.8660969679633868\n"
     ]
    }
   ],
   "source": [
    "print(\"Source Test Label Accuracy:\", experiment[\"results\"][\"source_test_label_accuracy\"], \"Target Test Label Accuracy:\", experiment[\"results\"][\"target_test_label_accuracy\"])\n",
    "print(\"Source Val Label Accuracy:\", experiment[\"results\"][\"source_val_label_accuracy\"], \"Target Val Label Accuracy:\", experiment[\"results\"][\"target_val_label_accuracy\"])"
   ]
  },
  {
   "cell_type": "code",
   "execution_count": 29,
   "id": "dacca602",
   "metadata": {
    "execution": {
     "iopub.execute_input": "2022-03-21T11:32:33.429577Z",
     "iopub.status.busy": "2022-03-21T11:32:33.429207Z",
     "iopub.status.idle": "2022-03-21T11:32:33.451088Z",
     "shell.execute_reply": "2022-03-21T11:32:33.451782Z"
    },
    "papermill": {
     "duration": 0.082183,
     "end_time": "2022-03-21T11:32:33.451948",
     "exception": false,
     "start_time": "2022-03-21T11:32:33.369765",
     "status": "completed"
    },
    "tags": [
     "experiment_json"
    ]
   },
   "outputs": [
    {
     "data": {
      "text/plain": [
       "'{\"experiment_name\": \"tl_1v2:cores-oracle.run1.framed\", \"parameters\": {\"experiment_name\": \"tl_1v2:cores-oracle.run1.framed\", \"device\": \"cuda\", \"lr\": 0.0001, \"n_shot\": 3, \"n_query\": 2, \"train_k_factor\": 3, \"val_k_factor\": 2, \"test_k_factor\": 2, \"torch_default_dtype\": \"torch.float32\", \"n_epoch\": 50, \"patience\": 3, \"criteria_for_best\": \"target_accuracy\", \"x_net\": [{\"class\": \"nnReshape\", \"kargs\": {\"shape\": [-1, 1, 2, 256]}}, {\"class\": \"Conv2d\", \"kargs\": {\"in_channels\": 1, \"out_channels\": 256, \"kernel_size\": [1, 7], \"bias\": false, \"padding\": [0, 3]}}, {\"class\": \"ReLU\", \"kargs\": {\"inplace\": true}}, {\"class\": \"BatchNorm2d\", \"kargs\": {\"num_features\": 256}}, {\"class\": \"Conv2d\", \"kargs\": {\"in_channels\": 256, \"out_channels\": 80, \"kernel_size\": [2, 7], \"bias\": true, \"padding\": [0, 3]}}, {\"class\": \"ReLU\", \"kargs\": {\"inplace\": true}}, {\"class\": \"BatchNorm2d\", \"kargs\": {\"num_features\": 80}}, {\"class\": \"Flatten\", \"kargs\": {}}, {\"class\": \"Linear\", \"kargs\": {\"in_features\": 20480, \"out_features\": 256}}, {\"class\": \"ReLU\", \"kargs\": {\"inplace\": true}}, {\"class\": \"BatchNorm1d\", \"kargs\": {\"num_features\": 256}}, {\"class\": \"Linear\", \"kargs\": {\"in_features\": 256, \"out_features\": 256}}], \"NUM_LOGS_PER_EPOCH\": 10, \"BEST_MODEL_PATH\": \"./best_model.pth\", \"n_way\": 16, \"datasets\": [{\"labels\": [\"1-10.\", \"1-11.\", \"1-15.\", \"1-16.\", \"1-17.\", \"1-18.\", \"1-19.\", \"10-4.\", \"10-7.\", \"11-1.\", \"11-14.\", \"11-17.\", \"11-20.\", \"11-7.\", \"13-20.\", \"13-8.\", \"14-10.\", \"14-11.\", \"14-14.\", \"14-7.\", \"15-1.\", \"15-20.\", \"16-1.\", \"16-16.\", \"17-10.\", \"17-11.\", \"17-2.\", \"19-1.\", \"19-16.\", \"19-19.\", \"19-20.\", \"19-3.\", \"2-10.\", \"2-11.\", \"2-17.\", \"2-18.\", \"2-20.\", \"2-3.\", \"2-4.\", \"2-5.\", \"2-6.\", \"2-7.\", \"2-8.\", \"3-13.\", \"3-18.\", \"3-3.\", \"4-1.\", \"4-10.\", \"4-11.\", \"4-19.\", \"5-5.\", \"6-15.\", \"7-10.\", \"7-14.\", \"8-18.\", \"8-20.\", \"8-3.\", \"8-8.\"], \"domains\": [1, 2, 3, 4, 5], \"num_examples_per_domain_per_label\": -1, \"pickle_path\": \"/root/csc500-main/datasets/cores.stratified_ds.2022A.pkl\", \"source_or_target_dataset\": \"target\", \"x_transforms\": [\"unit_power\"], \"episode_transforms\": [], \"domain_prefix\": \"CORES_\"}, {\"labels\": [\"3123D52\", \"3123D65\", \"3123D79\", \"3123D80\", \"3123D54\", \"3123D70\", \"3123D7B\", \"3123D89\", \"3123D58\", \"3123D76\", \"3123D7D\", \"3123EFE\", \"3123D64\", \"3123D78\", \"3123D7E\", \"3124E4A\"], \"domains\": [32, 38, 8, 44, 14, 50, 20, 26], \"num_examples_per_domain_per_label\": 2000, \"pickle_path\": \"/root/csc500-main/datasets/oracle.Run1_framed_2000Examples_stratified_ds.2022A.pkl\", \"source_or_target_dataset\": \"source\", \"x_transforms\": [\"unit_power\"], \"episode_transforms\": [], \"domain_prefix\": \"ORACLE.run1_\"}], \"dataset_seed\": 154325, \"seed\": 154325, \"x_shape\": [2, 256], \"domains_source\": [\"ORACLE.run1_32\", \"ORACLE.run1_38\", \"ORACLE.run1_8\", \"ORACLE.run1_44\", \"ORACLE.run1_14\", \"ORACLE.run1_50\", \"ORACLE.run1_20\", \"ORACLE.run1_26\"], \"domains_target\": [\"CORES_1\", \"CORES_2\", \"CORES_3\", \"CORES_4\", \"CORES_5\"]}, \"results\": {\"source_test_label_accuracy\": 0.8910807291666667, \"source_test_label_loss\": 0.30927520990371704, \"target_test_label_accuracy\": 0.8650265957446809, \"target_test_label_loss\": 1.11459481716156, \"source_val_label_accuracy\": 0.8883463541666666, \"source_val_label_loss\": 0.3102990686893463, \"target_val_label_accuracy\": 0.8660969679633868, \"target_val_label_loss\": 1.1353696584701538, \"total_epochs_trained\": 10, \"total_experiment_time_secs\": 2549.2047929763794, \"confusion\": {\"ORACLE.run1_8\": {\"13\": {\"4\": 32, \"13\": 144, \"0\": 23, \"10\": 29, \"6\": 8, \"7\": 1, \"14\": 3}, \"9\": {\"9\": 240}, \"15\": {\"15\": 227, \"12\": 13}, \"2\": {\"2\": 234, \"3\": 4, \"7\": 2}, \"3\": {\"3\": 240}, \"8\": {\"8\": 240}, \"5\": {\"1\": 7, \"5\": 230, \"10\": 2, \"14\": 1}, \"14\": {\"14\": 198, \"10\": 23, \"4\": 15, \"1\": 4}, \"1\": {\"1\": 229, \"11\": 8, \"5\": 1, \"14\": 2}, \"0\": {\"0\": 222, \"13\": 16, \"7\": 2}, \"10\": {\"10\": 223, \"13\": 3, \"14\": 13, \"4\": 1}, \"6\": {\"6\": 198, \"7\": 25, \"13\": 8, \"4\": 8, \"0\": 1}, \"11\": {\"11\": 233, \"1\": 7}, \"7\": {\"7\": 223, \"6\": 17}, \"4\": {\"4\": 198, \"13\": 33, \"14\": 6, \"0\": 1, \"6\": 2}, \"12\": {\"12\": 186, \"15\": 45, \"8\": 2, \"3\": 7}}, \"ORACLE.run1_38\": {\"13\": {\"13\": 230, \"10\": 3, \"15\": 4, \"2\": 3}, \"12\": {\"12\": 240}, \"2\": {\"2\": 235, \"13\": 2, \"14\": 3}, \"9\": {\"9\": 232, \"6\": 7, \"5\": 1}, \"15\": {\"15\": 224, \"1\": 9, \"8\": 5, \"5\": 1, \"13\": 1}, \"5\": {\"5\": 153, \"8\": 48, \"7\": 24, \"6\": 5, \"15\": 4, \"9\": 5, \"13\": 1}, \"14\": {\"14\": 238, \"2\": 1, \"10\": 1}, \"0\": {\"0\": 198, \"7\": 6, \"3\": 14, \"8\": 16, \"10\": 2, \"5\": 2, \"9\": 1, \"13\": 1}, \"3\": {\"3\": 240}, \"1\": {\"1\": 235, \"15\": 5}, \"11\": {\"11\": 239, \"10\": 1}, \"7\": {\"7\": 225, \"0\": 3, \"8\": 7, \"5\": 5}, \"8\": {\"8\": 193, \"15\": 3, \"5\": 28, \"0\": 10, \"13\": 1, \"7\": 4, \"10\": 1}, \"4\": {\"4\": 239, \"10\": 1}, \"10\": {\"10\": 231, \"13\": 6, \"0\": 1, \"8\": 1, \"14\": 1}, \"6\": {\"6\": 239, \"9\": 1}}, \"ORACLE.run1_26\": {\"10\": {\"0\": 73, \"10\": 132, \"14\": 13, \"8\": 20, \"6\": 1, \"4\": 1}, \"12\": {\"12\": 240}, \"1\": {\"1\": 220, \"4\": 4, \"14\": 12, \"7\": 3, \"10\": 1}, \"0\": {\"0\": 109, \"14\": 37, \"8\": 18, \"10\": 64, \"4\": 11, \"6\": 1}, \"15\": {\"15\": 195, \"9\": 19, \"8\": 10, \"6\": 6, \"5\": 2, \"2\": 3, \"7\": 1, \"13\": 4}, \"13\": {\"13\": 203, \"5\": 30, \"15\": 2, \"9\": 1, \"2\": 4}, \"8\": {\"8\": 144, \"0\": 26, \"4\": 14, \"10\": 33, \"14\": 7, \"7\": 12, \"2\": 3, \"15\": 1}, \"3\": {\"3\": 199, \"2\": 32, \"7\": 9}, \"11\": {\"11\": 240}, \"4\": {\"4\": 193, \"0\": 10, \"8\": 12, \"7\": 8, \"14\": 15, \"1\": 1, \"10\": 1}, \"6\": {\"6\": 227, \"9\": 5, \"15\": 4, \"10\": 3, \"8\": 1}, \"7\": {\"7\": 194, \"2\": 17, \"4\": 14, \"8\": 4, \"3\": 11}, \"14\": {\"0\": 29, \"14\": 156, \"10\": 12, \"4\": 30, \"1\": 7, \"8\": 6}, \"2\": {\"2\": 127, \"3\": 55, \"5\": 20, \"15\": 6, \"7\": 20, \"8\": 4, \"9\": 3, \"13\": 5}, \"5\": {\"5\": 212, \"13\": 17, \"2\": 9, \"15\": 2}, \"9\": {\"9\": 202, \"15\": 24, \"13\": 11, \"5\": 1, \"6\": 2}}, \"ORACLE.run1_20\": {\"5\": {\"5\": 223, \"0\": 11, \"15\": 6}, \"15\": {\"15\": 220, \"1\": 11, \"0\": 8, \"5\": 1}, \"9\": {\"9\": 194, \"12\": 9, \"3\": 10, \"2\": 27}, \"7\": {\"7\": 223, \"2\": 13, \"8\": 2, \"3\": 2}, \"3\": {\"3\": 175, \"2\": 9, \"12\": 34, \"9\": 12, \"4\": 4, \"7\": 6}, \"8\": {\"8\": 227, \"4\": 11, \"14\": 1, \"7\": 1}, \"4\": {\"4\": 231, \"8\": 8, \"3\": 1}, \"6\": {\"6\": 237, \"14\": 3}, \"2\": {\"2\": 177, \"7\": 14, \"9\": 38, \"3\": 5, \"13\": 2, \"12\": 4}, \"12\": {\"12\": 182, \"3\": 26, \"2\": 5, \"1\": 24, \"9\": 1, \"5\": 2}, \"0\": {\"5\": 19, \"0\": 209, \"7\": 1, \"15\": 10, \"12\": 1}, \"13\": {\"13\": 236, \"2\": 4}, \"10\": {\"10\": 239, \"14\": 1}, \"11\": {\"11\": 240}, \"14\": {\"14\": 236, \"6\": 4}, \"1\": {\"1\": 199, \"12\": 34, \"5\": 2, \"3\": 1, \"15\": 4}}, \"ORACLE.run1_50\": {\"1\": {\"1\": 222, \"15\": 9, \"4\": 5, \"13\": 1, \"6\": 2, \"11\": 1}, \"2\": {\"2\": 230, \"0\": 10}, \"8\": {\"8\": 239, \"3\": 1}, \"7\": {\"7\": 223, \"13\": 8, \"6\": 2, \"5\": 5, \"4\": 1, \"10\": 1}, \"14\": {\"14\": 240}, \"6\": {\"6\": 234, \"7\": 1, \"5\": 1, \"13\": 2, \"4\": 1, \"15\": 1}, \"3\": {\"3\": 237, \"8\": 3}, \"4\": {\"4\": 171, \"6\": 2, \"5\": 42, \"15\": 20, \"1\": 3, \"7\": 2}, \"12\": {\"12\": 234, \"9\": 5, \"11\": 1}, \"15\": {\"15\": 213, \"1\": 6, \"11\": 2, \"4\": 16, \"6\": 3}, \"11\": {\"11\": 232, \"15\": 3, \"12\": 2, \"9\": 2, \"14\": 1}, \"0\": {\"0\": 220, \"10\": 4, \"2\": 16}, \"9\": {\"9\": 237, \"12\": 3}, \"10\": {\"10\": 237, \"0\": 2, \"13\": 1}, \"5\": {\"13\": 16, \"5\": 184, \"1\": 7, \"4\": 20, \"7\": 10, \"15\": 1, \"6\": 1, \"9\": 1}, \"13\": {\"7\": 3, \"13\": 219, \"10\": 1, \"6\": 6, \"5\": 11}}, \"ORACLE.run1_32\": {\"2\": {\"2\": 215, \"4\": 25}, \"6\": {\"6\": 240}, \"5\": {\"5\": 173, \"7\": 39, \"13\": 10, \"3\": 8, \"8\": 5, \"4\": 3, \"14\": 2}, \"12\": {\"12\": 240}, \"13\": {\"13\": 204, \"3\": 13, \"4\": 11, \"5\": 6, \"8\": 1, \"7\": 5}, \"9\": {\"9\": 240}, \"11\": {\"11\": 236, \"14\": 4}, \"1\": {\"1\": 237, \"10\": 3}, \"3\": {\"3\": 235, \"8\": 3, \"13\": 2}, \"7\": {\"7\": 166, \"5\": 44, \"2\": 5, \"14\": 11, \"4\": 11, \"13\": 2, \"11\": 1}, \"14\": {\"14\": 202, \"11\": 13, \"7\": 8, \"5\": 2, \"0\": 13, \"8\": 2}, \"8\": {\"8\": 221, \"0\": 10, \"13\": 5, \"5\": 3, \"14\": 1}, \"4\": {\"4\": 190, \"13\": 6, \"7\": 10, \"2\": 32, \"5\": 2}, \"0\": {\"0\": 216, \"5\": 1, \"14\": 11, \"8\": 9, \"7\": 2, \"4\": 1}, \"10\": {\"10\": 236, \"1\": 4}, \"15\": {\"15\": 240}}, \"ORACLE.run1_44\": {\"13\": {\"13\": 187, \"6\": 32, \"9\": 20, \"7\": 1}, \"4\": {\"4\": 179, \"14\": 60, \"15\": 1}, \"6\": {\"6\": 191, \"13\": 31, \"9\": 15, \"7\": 3}, \"0\": {\"8\": 47, \"0\": 181, \"5\": 7, \"15\": 5}, \"10\": {\"10\": 213, \"1\": 16, \"7\": 1, \"12\": 3, \"2\": 7}, \"7\": {\"7\": 177, \"9\": 41, \"2\": 19, \"6\": 3}, \"14\": {\"14\": 173, \"4\": 55, \"15\": 11, \"5\": 1}, \"15\": {\"14\": 7, \"15\": 218, \"0\": 8, \"5\": 3, \"8\": 4}, \"5\": {\"5\": 217, \"8\": 3, \"14\": 5, \"0\": 10, \"15\": 4, \"4\": 1}, \"2\": {\"2\": 212, \"1\": 4, \"7\": 17, \"10\": 7}, \"9\": {\"9\": 168, \"7\": 41, \"6\": 14, \"13\": 17}, \"12\": {\"12\": 226, \"1\": 12, \"10\": 1, \"3\": 1}, \"8\": {\"8\": 161, \"0\": 73, \"15\": 2, \"5\": 4}, \"3\": {\"3\": 235, \"1\": 5}, \"1\": {\"1\": 213, \"12\": 13, \"10\": 8, \"2\": 3, \"3\": 3}, \"11\": {\"11\": 237, \"13\": 3}}, \"ORACLE.run1_14\": {\"1\": {\"1\": 232, \"5\": 7, \"4\": 1}, \"15\": {\"15\": 240}, \"10\": {\"10\": 240}, \"2\": {\"3\": 12, \"2\": 160, \"5\": 17, \"14\": 40, \"6\": 8, \"13\": 3}, \"9\": {\"9\": 240}, \"5\": {\"5\": 201, \"3\": 2, \"2\": 2, \"4\": 20, \"1\": 15}, \"7\": {\"7\": 240}, \"13\": {\"13\": 160, \"2\": 4, \"6\": 60, \"14\": 14, \"4\": 1, \"5\": 1}, \"8\": {\"8\": 240}, \"6\": {\"6\": 208, \"13\": 26, \"2\": 3, \"14\": 3}, \"3\": {\"3\": 232, \"2\": 4, \"1\": 1, \"4\": 2, \"14\": 1}, \"12\": {\"12\": 240}, \"0\": {\"0\": 238, \"10\": 1, \"11\": 1}, \"4\": {\"4\": 222, \"5\": 15, \"2\": 2, \"3\": 1}, \"14\": {\"14\": 213, \"2\": 17, \"6\": 7, \"13\": 3}, \"11\": {\"11\": 236, \"9\": 3, \"0\": 1}}, \"CORES_2\": {\"21\": {\"21\": 114, \"3\": 1, \"25\": 2, \"19\": 1, \"46\": 1, \"50\": 1}, \"4\": {\"4\": 117, \"9\": 6, \"27\": 5, \"40\": 1, \"17\": 1}, \"6\": {\"6\": 77, \"18\": 3, \"21\": 2, \"3\": 4, \"50\": 5, \"54\": 1, \"17\": 2, \"30\": 8, \"36\": 11, \"48\": 5, \"40\": 1, \"9\": 1, \"53\": 1, \"25\": 1, \"15\": 1, \"46\": 1}, \"10\": {\"10\": 95, \"56\": 8, \"13\": 2, \"22\": 3, \"43\": 2, \"24\": 2}, \"33\": {\"33\": 28}, \"56\": {\"56\": 111, \"10\": 1, \"13\": 1, \"22\": 7, \"24\": 2}, \"20\": {\"20\": 115, \"51\": 15, \"12\": 2}, \"24\": {\"24\": 93, \"56\": 2, \"10\": 1}, \"45\": {\"4\": 13, \"20\": 11, \"51\": 12, \"26\": 2, \"25\": 3, \"45\": 50, \"32\": 3, \"12\": 9, \"21\": 3, \"27\": 6, \"19\": 1, \"8\": 4, \"17\": 3, \"40\": 4, \"46\": 3, \"53\": 1}, \"32\": {\"32\": 25, \"17\": 3}, \"27\": {\"27\": 148}, \"53\": {\"53\": 122, \"8\": 9, \"17\": 3, \"50\": 2}, \"8\": {\"8\": 148, \"53\": 8, \"26\": 2, \"17\": 2}, \"54\": {\"54\": 107, \"48\": 1}, \"50\": {\"32\": 3, \"53\": 8, \"50\": 76, \"6\": 11, \"17\": 4, \"46\": 1, \"21\": 5, \"8\": 7, \"42\": 1, \"30\": 2, \"3\": 5, \"25\": 6, \"26\": 1, \"27\": 1, \"36\": 2, \"29\": 1}, \"44\": {\"44\": 82, \"19\": 8, \"47\": 1, \"25\": 2, \"40\": 3, \"29\": 2, \"55\": 1, \"46\": 1}, \"5\": {\"5\": 98, \"44\": 1, \"13\": 1, \"25\": 1, \"47\": 3, \"57\": 1, \"11\": 10, \"39\": 1, \"1\": 1, \"15\": 2, \"29\": 1}, \"38\": {\"38\": 20}, \"19\": {\"19\": 118, \"25\": 3, \"40\": 7, \"44\": 2, \"4\": 1, \"29\": 1}, \"1\": {\"23\": 9, \"1\": 91, \"57\": 4, \"15\": 2, \"7\": 1, \"46\": 1, \"16\": 1, \"52\": 3}, \"30\": {\"30\": 129, \"18\": 7, \"9\": 1, \"52\": 2, \"48\": 3, \"3\": 1, \"29\": 1}, \"15\": {\"15\": 124, \"11\": 3, \"16\": 13, \"47\": 2, \"57\": 1, \"0\": 1}, \"23\": {\"23\": 144, \"1\": 1, \"2\": 1}, \"35\": {\"35\": 32}, \"22\": {\"22\": 125, \"31\": 1, \"10\": 1, \"56\": 1}, \"40\": {\"40\": 121, \"19\": 10, \"44\": 2, \"13\": 1, \"17\": 1, \"25\": 3, \"9\": 1, \"46\": 1}, \"46\": {\"46\": 74, \"5\": 2, \"47\": 6, \"3\": 2, \"30\": 3, \"21\": 3, \"55\": 1, \"15\": 2, \"23\": 1, \"7\": 1, \"2\": 1, \"18\": 1, \"1\": 3, \"43\": 1, \"29\": 9, \"19\": 3, \"42\": 1, \"41\": 1, \"44\": 1, \"34\": 1, \"49\": 1, \"11\": 1, \"52\": 1, \"57\": 3, \"6\": 2, \"50\": 1}, \"3\": {\"30\": 6, \"3\": 42, \"25\": 6, \"55\": 1, \"33\": 3, \"21\": 5, \"48\": 1, \"46\": 5, \"27\": 1, \"19\": 2, \"29\": 3, \"50\": 6, \"6\": 2, \"40\": 2, \"53\": 2, \"47\": 1, \"9\": 2, \"2\": 1, \"36\": 1}, \"48\": {\"48\": 131, \"30\": 12, \"54\": 3, \"41\": 2}, \"52\": {\"52\": 107, \"23\": 16, \"16\": 1}, \"2\": {\"2\": 29, \"52\": 1, \"42\": 1, \"46\": 1}, \"26\": {\"26\": 22, \"45\": 1, \"8\": 1}, \"17\": {\"17\": 79, \"27\": 10, \"8\": 6, \"32\": 3, \"50\": 2, \"53\": 2, \"25\": 1, \"9\": 1}, \"55\": {\"55\": 116, \"42\": 2, \"46\": 6, \"5\": 2, \"25\": 1, \"47\": 5, \"10\": 1, \"11\": 2, \"37\": 1, \"44\": 5, \"29\": 1, \"1\": 1, \"22\": 1}, \"51\": {\"51\": 118, \"20\": 4}, \"42\": {\"42\": 32, \"2\": 2, \"46\": 1, \"29\": 1}, \"41\": {\"41\": 16, \"48\": 4}, \"31\": {\"31\": 28}, \"16\": {\"16\": 126, \"15\": 10, \"47\": 1, \"0\": 1}, \"36\": {\"36\": 116}, \"49\": {\"49\": 20, \"34\": 2, \"29\": 2}, \"0\": {\"0\": 48}, \"18\": {\"49\": 1, \"18\": 43, \"23\": 1, \"48\": 1, \"50\": 1, \"30\": 1}, \"25\": {\"25\": 127, \"40\": 2, \"33\": 3, \"35\": 1, \"44\": 3, \"3\": 3, \"29\": 1, \"55\": 2, \"30\": 1, \"21\": 3}, \"9\": {\"9\": 113, \"40\": 2, \"53\": 1, \"17\": 1, \"27\": 1, \"6\": 2, \"25\": 2}, \"47\": {\"47\": 120, \"0\": 2, \"5\": 1, \"15\": 3, \"16\": 2, \"57\": 2, \"11\": 2}, \"7\": {\"7\": 34, \"15\": 1, \"57\": 1}, \"37\": {\"37\": 36}, \"13\": {\"13\": 116}, \"14\": {\"14\": 13, \"56\": 3, \"31\": 4, \"43\": 2, \"10\": 1, \"5\": 1}, \"34\": {\"34\": 28}, \"57\": {\"0\": 1, \"57\": 131, \"15\": 4, \"1\": 2, \"52\": 1, \"47\": 1}, \"11\": {\"11\": 126, \"39\": 1, \"5\": 5, \"47\": 3, \"16\": 2, \"15\": 1}, \"39\": {\"39\": 28}, \"12\": {\"12\": 65, \"53\": 2, \"36\": 1, \"20\": 6, \"45\": 4, \"27\": 2, \"51\": 5, \"8\": 6, \"26\": 1}, \"28\": {\"28\": 27, \"57\": 1}, \"29\": {\"29\": 123, \"42\": 1, \"46\": 2, \"25\": 1, \"55\": 1}, \"43\": {\"43\": 137, \"56\": 1, \"10\": 1, \"24\": 1}}, \"CORES_5\": {\"12\": {\"12\": 86, \"9\": 1, \"38\": 1, \"4\": 1, \"17\": 1, \"30\": 3, \"6\": 1, \"55\": 1, \"45\": 1}, \"8\": {\"8\": 101, \"6\": 6, \"53\": 23, \"30\": 7, \"9\": 5}, \"29\": {\"29\": 122, \"43\": 5, \"3\": 3, \"5\": 1, \"14\": 1}, \"57\": {\"57\": 123, \"52\": 1, \"19\": 1, \"50\": 1}, \"38\": {\"38\": 32}, \"23\": {\"23\": 122, \"18\": 2}, \"56\": {\"56\": 121, \"29\": 1, \"0\": 5, \"24\": 3, \"43\": 5, \"15\": 2, \"13\": 1}, \"49\": {\"49\": 36}, \"4\": {\"4\": 80, \"50\": 1, \"12\": 2, \"32\": 3, \"45\": 6, \"25\": 2, \"55\": 1, \"9\": 1, \"19\": 3, \"30\": 1}, \"48\": {\"48\": 119, \"1\": 4, \"9\": 4, \"53\": 1, \"6\": 1, \"17\": 4, \"8\": 1, \"27\": 2}, \"21\": {\"21\": 143, \"8\": 1}, \"30\": {\"30\": 118, \"6\": 3, \"9\": 3, \"17\": 2, \"27\": 1, \"8\": 1}, \"1\": {\"1\": 144, \"8\": 2, \"9\": 1, \"48\": 1}, \"34\": {\"34\": 36}, \"35\": {\"35\": 30, \"56\": 1, \"31\": 2, \"24\": 3}, \"55\": {\"1\": 8, \"21\": 11, \"55\": 96, \"45\": 4, \"9\": 6, \"30\": 2, \"20\": 8, \"50\": 3, \"25\": 8, \"51\": 3, \"7\": 1, \"6\": 2}, \"5\": {\"5\": 106, \"44\": 3, \"40\": 10, \"47\": 2, \"29\": 1}, \"52\": {\"52\": 119, \"49\": 2, \"23\": 3, \"36\": 1, \"57\": 1}, \"6\": {\"6\": 58, \"53\": 5, \"8\": 12, \"9\": 9, \"1\": 8, \"50\": 1, \"20\": 5, \"48\": 6, \"17\": 4, \"30\": 9, \"45\": 3, \"27\": 2, \"55\": 2, \"26\": 1, \"51\": 2, \"7\": 1}, \"36\": {\"36\": 79, \"52\": 2, \"57\": 2, \"34\": 2, \"23\": 1, \"14\": 1, \"47\": 4, \"40\": 1}, \"41\": {\"41\": 28}, \"3\": {\"3\": 58, \"36\": 4, \"46\": 13, \"47\": 7, \"29\": 11, \"43\": 1, \"11\": 2, \"16\": 2, \"14\": 1, \"44\": 1}, \"28\": {\"28\": 29, \"3\": 3}, \"18\": {\"18\": 64}, \"25\": {\"25\": 112, \"41\": 1, \"21\": 4, \"5\": 4, \"50\": 8, \"20\": 2, \"44\": 5}, \"47\": {\"47\": 87, \"43\": 1, \"3\": 4, \"16\": 1, \"36\": 4, \"46\": 2, \"14\": 1}, \"13\": {\"13\": 157, \"10\": 3}, \"11\": {\"11\": 123, \"15\": 15, \"43\": 3, \"16\": 3}, \"53\": {\"53\": 111, \"6\": 2, \"8\": 25, \"19\": 1, \"5\": 2, \"48\": 1, \"55\": 1, \"27\": 1}, \"33\": {\"33\": 32}, \"46\": {\"46\": 119, \"11\": 4, \"44\": 1, \"16\": 9, \"36\": 2, \"21\": 1, \"3\": 2, \"47\": 2, \"57\": 4, \"14\": 1, \"29\": 1, \"43\": 1, \"15\": 1}, \"50\": {\"47\": 2, \"41\": 1, \"25\": 15, \"50\": 77, \"8\": 4, \"1\": 2, \"33\": 3, \"32\": 1, \"21\": 15, \"42\": 1, \"20\": 3, \"5\": 5, \"27\": 2, \"19\": 5, \"55\": 3, \"9\": 2, \"14\": 1, \"40\": 1, \"53\": 3, \"45\": 1, \"4\": 1}, \"10\": {\"10\": 64, \"24\": 1, \"13\": 3}, \"15\": {\"15\": 117, \"11\": 8, \"46\": 1, \"43\": 11, \"0\": 1}, \"44\": {\"44\": 126, \"40\": 5, \"2\": 2, \"37\": 1, \"28\": 1, \"29\": 3, \"47\": 1, \"5\": 1}, \"2\": {\"2\": 28}, \"7\": {\"7\": 27, \"51\": 2, \"30\": 2, \"6\": 1}, \"43\": {\"43\": 100, \"15\": 18, \"0\": 1, \"16\": 4, \"11\": 7, \"37\": 1, \"56\": 1, \"3\": 3, \"29\": 3}, \"32\": {\"32\": 28, \"50\": 1, \"9\": 2, \"27\": 1}, \"0\": {\"0\": 124}, \"39\": {\"39\": 20}, \"26\": {\"26\": 23, \"30\": 1}, \"27\": {\"27\": 104, \"17\": 1, \"48\": 1, \"9\": 4, \"32\": 1, \"53\": 1}, \"54\": {\"54\": 107, \"23\": 5}, \"17\": {\"17\": 107, \"26\": 3, \"48\": 4, \"6\": 1, \"53\": 1}, \"14\": {\"16\": 3, \"14\": 24, \"11\": 1, \"28\": 1, \"37\": 2, \"3\": 2, \"29\": 1, \"15\": 2, \"0\": 1, \"36\": 2, \"47\": 2, \"46\": 1, \"40\": 2}, \"16\": {\"16\": 128, \"47\": 4, \"46\": 8, \"57\": 1, \"11\": 5, \"36\": 1, \"43\": 1}, \"9\": {\"1\": 2, \"9\": 96, \"44\": 1, \"6\": 3, \"33\": 1, \"53\": 10, \"8\": 5, \"17\": 6, \"19\": 2, \"30\": 5, \"48\": 4, \"27\": 5, \"25\": 3, \"21\": 1, \"45\": 1, \"20\": 1, \"55\": 1, \"50\": 1}, \"19\": {\"19\": 147, \"4\": 2, \"50\": 1, \"33\": 1, \"27\": 1}, \"20\": {\"20\": 110, \"45\": 2, \"51\": 13, \"50\": 1, \"55\": 9, \"6\": 2, \"8\": 1}, \"37\": {\"37\": 22, \"14\": 2}, \"24\": {\"24\": 75, \"35\": 3, \"10\": 2}, \"40\": {\"40\": 113, \"47\": 1, \"5\": 5, \"25\": 1, \"44\": 1, \"28\": 1}, \"45\": {\"32\": 1, \"20\": 7, \"1\": 1, \"45\": 57, \"6\": 4, \"9\": 4, \"30\": 9, \"50\": 2, \"55\": 7, \"21\": 4, \"27\": 9, \"25\": 3, \"51\": 6, \"53\": 2, \"8\": 3, \"26\": 1, \"38\": 1, \"7\": 1, \"4\": 1, \"12\": 1}, \"22\": {\"22\": 28}, \"42\": {\"42\": 38, \"13\": 1, \"56\": 1}, \"51\": {\"51\": 111, \"20\": 3, \"25\": 4}, \"31\": {\"31\": 36}}, \"CORES_1\": {\"27\": {\"27\": 141, \"22\": 1}, \"2\": {\"2\": 36}, \"33\": {\"33\": 32}, \"45\": {\"45\": 143, \"19\": 10, \"1\": 2, \"42\": 1}, \"38\": {\"38\": 24}, \"4\": {\"4\": 123, \"14\": 1, \"50\": 4, \"46\": 2, \"51\": 2}, \"31\": {\"31\": 28}, \"55\": {\"55\": 115, \"3\": 10, \"57\": 3, \"56\": 2, \"1\": 1, \"29\": 3, \"44\": 3, \"47\": 2, \"35\": 1}, \"32\": {\"32\": 30, \"44\": 1, \"23\": 1}, \"57\": {\"57\": 116, \"56\": 12, \"29\": 9, \"55\": 1, \"1\": 2}, \"14\": {\"14\": 14, \"53\": 3, \"8\": 1, \"18\": 2, \"9\": 1, \"13\": 1, \"25\": 1, \"7\": 1}, \"16\": {\"16\": 139, \"54\": 1}, \"34\": {\"34\": 24}, \"56\": {\"57\": 13, \"56\": 95, \"19\": 6, \"55\": 1, \"29\": 5, \"25\": 4, \"45\": 1, \"1\": 1}, \"24\": {\"24\": 85, \"49\": 1, \"22\": 11, \"10\": 10, \"52\": 1}, \"30\": {\"14\": 1, \"30\": 104, \"53\": 3, \"26\": 1, \"13\": 1, \"8\": 1, \"3\": 1}, \"17\": {\"17\": 62, \"9\": 1, \"53\": 1}, \"13\": {\"13\": 137, \"44\": 1}, \"39\": {\"39\": 24, \"15\": 1, \"21\": 2, \"22\": 1}, \"50\": {\"50\": 143, \"5\": 1, \"6\": 1, \"48\": 1}, \"20\": {\"20\": 137, \"51\": 1, \"13\": 1, \"25\": 1}, \"41\": {\"41\": 24}, \"53\": {\"53\": 119, \"14\": 1, \"9\": 3, \"30\": 1, \"8\": 2}, \"48\": {\"48\": 139, \"2\": 1, \"6\": 1, \"5\": 1}, \"36\": {\"36\": 64}, \"8\": {\"8\": 132, \"17\": 2, \"9\": 5, \"53\": 1}, \"15\": {\"15\": 119, \"11\": 4, \"0\": 3, \"23\": 4, \"44\": 1, \"21\": 1}, \"40\": {\"40\": 143, \"12\": 1, \"51\": 2, \"45\": 1, \"25\": 4, \"29\": 2, \"20\": 1, \"13\": 2}, \"37\": {\"37\": 31, \"57\": 1}, \"21\": {\"21\": 113, \"0\": 2, \"39\": 2, \"22\": 1, \"15\": 2}, \"35\": {\"35\": 36}, \"49\": {\"49\": 31, \"10\": 1}, \"26\": {\"26\": 24}, \"28\": {\"28\": 23, \"3\": 3, \"10\": 1, \"52\": 1}, \"12\": {\"12\": 107, \"25\": 1, \"20\": 8}, \"5\": {\"5\": 137, \"8\": 5, \"17\": 1, \"53\": 1, \"48\": 4, \"9\": 2, \"6\": 2}, \"29\": {\"29\": 115, \"57\": 7, \"20\": 2, \"56\": 5, \"55\": 10, \"3\": 1}, \"47\": {\"47\": 130, \"28\": 1, \"11\": 1, \"15\": 1, \"43\": 1, \"49\": 1, \"52\": 1, \"3\": 1, \"44\": 2, \"0\": 1}, \"10\": {\"10\": 74, \"22\": 9, \"24\": 9, \"49\": 1, \"0\": 1, \"52\": 2}, \"18\": {\"18\": 68, \"26\": 1, \"50\": 1, \"8\": 1, \"56\": 1}, \"9\": {\"9\": 121, \"14\": 1, \"30\": 1, \"8\": 1, \"53\": 2}, \"3\": {\"3\": 128, \"55\": 7, \"44\": 3, \"0\": 1, \"47\": 1}, \"52\": {\"52\": 125, \"22\": 1, \"43\": 2, \"3\": 1, \"47\": 2, \"10\": 1}, \"25\": {\"25\": 132, \"56\": 2, \"29\": 1, \"13\": 1}, \"19\": {\"19\": 134, \"45\": 8, \"1\": 7, \"56\": 3, \"20\": 3, \"29\": 1}, \"11\": {\"11\": 119, \"0\": 8, \"10\": 2, \"15\": 3, \"22\": 1, \"24\": 1, \"21\": 1, \"3\": 1}, \"7\": {\"7\": 27, \"26\": 1}, \"23\": {\"23\": 134, \"15\": 2}, \"44\": {\"44\": 114, \"55\": 1, \"35\": 3, \"3\": 4, \"0\": 3, \"15\": 3, \"47\": 1, \"57\": 2, \"29\": 1}, \"42\": {\"42\": 38, \"45\": 2}, \"54\": {\"54\": 103, \"16\": 1}, \"1\": {\"1\": 93, \"42\": 1, \"45\": 1, \"19\": 4, \"25\": 1}, \"46\": {\"46\": 79, \"2\": 1, \"8\": 2, \"17\": 2, \"4\": 4, \"51\": 11, \"6\": 3, \"20\": 2, \"12\": 3, \"48\": 4, \"50\": 3, \"25\": 2, \"40\": 7, \"41\": 2, \"5\": 2, \"13\": 1}, \"6\": {\"2\": 1, \"6\": 89, \"40\": 1, \"48\": 2, \"46\": 1, \"17\": 1, \"8\": 1}, \"43\": {\"43\": 136, \"22\": 1, \"10\": 1, \"27\": 5, \"24\": 1}, \"51\": {\"51\": 141, \"25\": 1}, \"22\": {\"22\": 119, \"24\": 3, \"10\": 5, \"43\": 2, \"21\": 2, \"39\": 1, \"27\": 1, \"31\": 1, \"49\": 1, \"11\": 1}, \"0\": {\"0\": 120, \"11\": 5, \"44\": 2, \"15\": 1}}, \"CORES_4\": {\"32\": {\"49\": 1, \"57\": 1, \"32\": 22}, \"2\": {\"2\": 34, \"10\": 1, \"56\": 1}, \"41\": {\"41\": 35, \"15\": 1}, \"11\": {\"11\": 84, \"38\": 1, \"46\": 4, \"10\": 2, \"5\": 1, \"16\": 2, \"15\": 6, \"22\": 1, \"0\": 1}, \"57\": {\"41\": 2, \"57\": 92, \"47\": 3, \"46\": 1, \"5\": 2}, \"6\": {\"55\": 4, \"20\": 12, \"6\": 31, \"33\": 1, \"40\": 5, \"3\": 12, \"31\": 1, \"53\": 8, \"36\": 4, \"19\": 3, \"25\": 6, \"4\": 1, \"34\": 1, \"26\": 1, \"18\": 2, \"27\": 3, \"44\": 4, \"48\": 3, \"54\": 2, \"28\": 2, \"50\": 3, \"30\": 1, \"9\": 1, \"23\": 1}, \"23\": {\"23\": 136}, \"52\": {\"52\": 108, \"23\": 5, \"47\": 1, \"57\": 2}, \"38\": {\"38\": 32, \"2\": 1, \"43\": 2, \"14\": 1, \"22\": 2, \"24\": 2}, \"50\": {\"50\": 57, \"20\": 11, \"3\": 3, \"9\": 13, \"53\": 11, \"33\": 1, \"40\": 3, \"4\": 7, \"51\": 5, \"5\": 1, \"6\": 6, \"25\": 2, \"19\": 2, \"27\": 3, \"21\": 1, \"17\": 3, \"8\": 3}, \"55\": {\"55\": 124, \"31\": 3, \"25\": 1, \"35\": 2, \"40\": 6, \"5\": 6, \"11\": 1, \"46\": 1, \"33\": 2, \"29\": 4, \"47\": 1, \"15\": 1}, \"46\": {\"11\": 5, \"57\": 13, \"22\": 4, \"15\": 14, \"52\": 8, \"49\": 3, \"46\": 67, \"41\": 3, \"0\": 3, \"16\": 7, \"10\": 1, \"47\": 10, \"56\": 1, \"29\": 5, \"44\": 1, \"5\": 4, \"23\": 2, \"7\": 1, \"32\": 1, \"1\": 1}, \"37\": {\"37\": 24}, \"20\": {\"55\": 2, \"20\": 105, \"25\": 1, \"51\": 3, \"6\": 3, \"50\": 3, \"53\": 1}, \"49\": {\"49\": 19, \"0\": 1}, \"45\": {\"45\": 67, \"12\": 5, \"21\": 3, \"27\": 5, \"30\": 2, \"50\": 3, \"4\": 3, \"25\": 1, \"40\": 1, \"51\": 4, \"20\": 1, \"9\": 1}, \"54\": {\"54\": 105, \"23\": 3}, \"3\": {\"3\": 73, \"9\": 1, \"50\": 5, \"25\": 2, \"6\": 8, \"54\": 3, \"53\": 8, \"42\": 2, \"26\": 1, \"29\": 1, \"36\": 4, \"4\": 2, \"18\": 2, \"48\": 3, \"19\": 1, \"34\": 1, \"47\": 1, \"31\": 1, \"28\": 1, \"8\": 2, \"44\": 1, \"27\": 1}, \"13\": {\"13\": 152}, \"18\": {\"18\": 100, \"23\": 5, \"15\": 1, \"3\": 2}, \"21\": {\"21\": 125, \"30\": 1}, \"43\": {\"43\": 141, \"24\": 1, \"0\": 2}, \"47\": {\"47\": 88, \"57\": 9, \"41\": 4, \"46\": 8, \"5\": 8, \"29\": 1, \"11\": 1, \"52\": 1}, \"4\": {\"4\": 111, \"20\": 1, \"9\": 12, \"6\": 2, \"40\": 2, \"19\": 1, \"17\": 1, \"25\": 1, \"51\": 1}, \"12\": {\"12\": 88, \"21\": 3, \"30\": 1}, \"9\": {\"9\": 103, \"4\": 2, \"17\": 6, \"8\": 5, \"21\": 2, \"25\": 1, \"50\": 4, \"20\": 2, \"6\": 1, \"53\": 1, \"27\": 1}, \"7\": {\"7\": 19, \"11\": 3, \"49\": 1, \"15\": 1}, \"56\": {\"56\": 96, \"22\": 6, \"43\": 5, \"10\": 5}, \"28\": {\"28\": 29, \"34\": 1, \"40\": 1, \"25\": 1}, \"44\": {\"44\": 98, \"28\": 1, \"4\": 4, \"19\": 15, \"40\": 8, \"6\": 2, \"25\": 2, \"29\": 1, \"55\": 1}, \"24\": {\"24\": 54, \"2\": 2}, \"33\": {\"33\": 35, \"40\": 1}, \"35\": {\"35\": 40}, \"51\": {\"51\": 137, \"5\": 1}, \"39\": {\"39\": 20}, \"36\": {\"36\": 88, \"53\": 1, \"40\": 1, \"18\": 1, \"54\": 1}, \"19\": {\"19\": 124, \"4\": 2, \"44\": 4, \"29\": 2, \"40\": 4, \"55\": 2, \"25\": 2}, \"0\": {\"0\": 53, \"31\": 2, \"7\": 3, \"43\": 8, \"19\": 1, \"55\": 3, \"38\": 1, \"24\": 1, \"15\": 1, \"29\": 2, \"22\": 2, \"5\": 2, \"44\": 1}, \"15\": {\"35\": 1, \"15\": 116, \"1\": 2, \"46\": 5, \"16\": 8, \"11\": 1, \"5\": 1, \"10\": 1, \"56\": 1}, \"29\": {\"29\": 121, \"55\": 1, \"6\": 1, \"47\": 1}, \"30\": {\"30\": 40, \"21\": 4}, \"1\": {\"1\": 34, \"16\": 1, \"46\": 1, \"41\": 1, \"57\": 2, \"47\": 1}, \"22\": {\"22\": 107, \"10\": 5, \"56\": 15, \"38\": 1}, \"40\": {\"55\": 7, \"40\": 124, \"29\": 1, \"5\": 2, \"33\": 5, \"19\": 3, \"44\": 1, \"31\": 1, \"25\": 2}, \"8\": {\"8\": 120, \"27\": 3, \"17\": 2, \"50\": 1, \"9\": 2}, \"53\": {\"53\": 129, \"3\": 4, \"6\": 1, \"50\": 1, \"20\": 3}, \"34\": {\"34\": 23, \"28\": 1}, \"10\": {\"10\": 116, \"22\": 2, \"56\": 2, \"2\": 1, \"24\": 1}, \"31\": {\"31\": 28}, \"17\": {\"17\": 62, \"8\": 4, \"48\": 2, \"27\": 8, \"9\": 3, \"50\": 1}, \"16\": {\"16\": 86, \"41\": 1, \"15\": 6, \"46\": 2, \"47\": 1}, \"42\": {\"42\": 32}, \"27\": {\"27\": 127, \"48\": 1, \"8\": 4, \"17\": 7, \"53\": 2, \"4\": 1}, \"14\": {\"38\": 1, \"22\": 1, \"14\": 9, \"0\": 1, \"46\": 1, \"43\": 2, \"32\": 1}, \"25\": {\"25\": 98, \"20\": 5, \"40\": 9, \"42\": 1, \"6\": 4, \"55\": 2, \"50\": 2, \"5\": 1}, \"48\": {\"48\": 130, \"34\": 1, \"3\": 1}, \"26\": {\"3\": 2, \"26\": 22}, \"5\": {\"5\": 38, \"35\": 4, \"29\": 6, \"16\": 11, \"47\": 14, \"15\": 10, \"52\": 2, \"57\": 10, \"46\": 6, \"55\": 1, \"23\": 1, \"31\": 2, \"40\": 1, \"32\": 1, \"44\": 1}}, \"CORES_3\": {\"14\": {\"14\": 21, \"7\": 3, \"43\": 5, \"31\": 1, \"49\": 1, \"56\": 5, \"10\": 1, \"13\": 1, \"24\": 2}, \"18\": {\"18\": 78, \"52\": 2, \"6\": 1, \"9\": 1, \"48\": 1, \"30\": 1}, \"30\": {\"30\": 104, \"18\": 2, \"9\": 7, \"6\": 4, \"48\": 2, \"50\": 1}, \"16\": {\"16\": 146, \"15\": 9, \"57\": 1}, \"1\": {\"1\": 84, \"34\": 4, \"23\": 3, \"9\": 1, \"57\": 4, \"52\": 1, \"29\": 1, \"18\": 1, \"16\": 1}, \"20\": {\"20\": 124, \"21\": 7, \"12\": 1}, \"7\": {\"7\": 35, \"37\": 1}, \"52\": {\"52\": 126, \"48\": 2, \"41\": 1, \"18\": 1}, \"9\": {\"9\": 133, \"3\": 3, \"21\": 1, \"30\": 1, \"50\": 1, \"46\": 1}, \"23\": {\"23\": 139, \"52\": 4, \"47\": 1}, \"55\": {\"55\": 137, \"26\": 2, \"31\": 1, \"37\": 2, \"25\": 2, \"47\": 7, \"13\": 2, \"44\": 3, \"11\": 3, \"5\": 3, \"1\": 1, \"57\": 1}, \"29\": {\"29\": 119, \"42\": 5, \"57\": 1, \"47\": 1}, \"56\": {\"56\": 114, \"24\": 7, \"10\": 3, \"7\": 1, \"22\": 6, \"14\": 1, \"31\": 1, \"13\": 1}, \"3\": {\"29\": 8, \"3\": 60, \"50\": 7, \"26\": 2, \"25\": 7, \"9\": 5, \"18\": 1, \"23\": 1, \"52\": 4, \"46\": 8, \"21\": 3, \"30\": 3, \"6\": 4, \"11\": 1, \"55\": 2, \"20\": 2, \"16\": 2, \"27\": 1, \"44\": 1, \"57\": 1, \"48\": 1}, \"42\": {\"29\": 5, \"42\": 17, \"9\": 2, \"57\": 1, \"18\": 2, \"50\": 1}, \"6\": {\"18\": 7, \"6\": 32, \"30\": 9, \"32\": 1, \"55\": 2, \"25\": 1, \"46\": 3, \"27\": 2, \"57\": 1, \"9\": 9, \"20\": 2, \"3\": 10, \"50\": 2, \"48\": 2, \"21\": 1, \"52\": 2, \"40\": 1, \"36\": 1}, \"5\": {\"5\": 96, \"15\": 6, \"37\": 1, \"47\": 6, \"35\": 1, \"1\": 1, \"11\": 3, \"28\": 1, \"3\": 1}, \"27\": {\"27\": 132, \"17\": 9, \"54\": 1, \"9\": 1, \"33\": 1}, \"47\": {\"47\": 74, \"15\": 3, \"5\": 6, \"57\": 2, \"55\": 2, \"37\": 2, \"11\": 2, \"0\": 1}, \"39\": {\"39\": 16}, \"34\": {\"34\": 27, \"41\": 1, \"1\": 4}, \"4\": {\"4\": 102, \"2\": 2, \"27\": 3, \"45\": 2, \"40\": 2, \"19\": 11, \"8\": 3, \"17\": 1}, \"24\": {\"24\": 98, \"10\": 3, \"56\": 3}, \"46\": {\"46\": 65, \"5\": 1, \"3\": 11, \"37\": 1, \"9\": 9, \"30\": 2, \"47\": 3, \"29\": 4, \"1\": 1, \"16\": 3, \"40\": 1, \"11\": 1, \"50\": 3, \"6\": 2, \"21\": 3, \"48\": 2, \"26\": 1, \"41\": 1, \"25\": 2, \"55\": 1, \"52\": 1}, \"50\": {\"35\": 1, \"50\": 64, \"30\": 5, \"3\": 15, \"33\": 1, \"25\": 3, \"46\": 5, \"53\": 12, \"55\": 1, \"17\": 2, \"29\": 2, \"2\": 1, \"21\": 5, \"6\": 3, \"9\": 4, \"32\": 1, \"8\": 1}, \"38\": {\"38\": 23, \"36\": 2, \"17\": 2, \"25\": 1}, \"54\": {\"54\": 100}, \"35\": {\"35\": 28}, \"2\": {\"2\": 31, \"27\": 1}, \"41\": {\"41\": 25, \"9\": 1, \"33\": 1, \"46\": 1}, \"57\": {\"39\": 1, \"57\": 110, \"1\": 5, \"15\": 1, \"16\": 1}, \"25\": {\"25\": 116, \"55\": 2, \"3\": 11, \"46\": 4, \"21\": 1, \"44\": 5, \"29\": 3, \"50\": 1, \"40\": 6, \"20\": 1}, \"48\": {\"48\": 95, \"18\": 3, \"50\": 1, \"52\": 9, \"9\": 2, \"25\": 1, \"30\": 3, \"33\": 2}, \"33\": {\"33\": 27, \"50\": 1}, \"45\": {\"45\": 36, \"36\": 3, \"8\": 1, \"32\": 2, \"4\": 4, \"53\": 2, \"20\": 5, \"2\": 1, \"12\": 1, \"51\": 1, \"21\": 1, \"27\": 2, \"25\": 1}, \"13\": {\"13\": 126}, \"36\": {\"36\": 100}, \"43\": {\"43\": 131, \"49\": 1}, \"28\": {\"28\": 26, \"26\": 2}, \"0\": {\"0\": 124}, \"12\": {\"12\": 67, \"51\": 12, \"50\": 1, \"45\": 2, \"20\": 4, \"8\": 4, \"36\": 2}, \"31\": {\"31\": 28}, \"40\": {\"40\": 95, \"25\": 6, \"19\": 7, \"46\": 1, \"3\": 1, \"51\": 1, \"55\": 2, \"9\": 1, \"44\": 1, \"29\": 1}, \"44\": {\"3\": 1, \"44\": 75, \"11\": 1, \"40\": 4, \"25\": 2, \"19\": 2, \"55\": 2, \"51\": 1}, \"32\": {\"32\": 28}, \"26\": {\"26\": 20, \"46\": 1, \"5\": 2, \"57\": 1}, \"8\": {\"8\": 112, \"53\": 4}, \"10\": {\"10\": 59, \"24\": 4, \"13\": 1}, \"15\": {\"15\": 121, \"55\": 2, \"22\": 1, \"5\": 5, \"47\": 3, \"16\": 8, \"57\": 2}, \"21\": {\"50\": 4, \"2\": 1, \"21\": 98, \"27\": 1, \"25\": 3, \"53\": 2, \"40\": 2, \"3\": 2, \"51\": 1, \"19\": 3, \"9\": 2, \"20\": 6, \"36\": 2, \"33\": 1}, \"37\": {\"37\": 28}, \"17\": {\"17\": 91, \"54\": 1, \"27\": 7, \"8\": 6, \"32\": 1, \"53\": 2}, \"51\": {\"51\": 122, \"9\": 1, \"19\": 1}, \"53\": {\"53\": 135, \"8\": 5, \"36\": 2, \"17\": 1, \"25\": 1}, \"19\": {\"19\": 111, \"2\": 1, \"44\": 1, \"55\": 1, \"4\": 11, \"40\": 9, \"9\": 1, \"48\": 1}, \"49\": {\"49\": 20}, \"11\": {\"11\": 132, \"5\": 5, \"15\": 1}, \"22\": {\"22\": 120, \"31\": 1, \"13\": 6, \"43\": 1, \"56\": 2}}}, \"per_domain_accuracy\": {\"ORACLE.run1_8\": {\"accuracy\": 0.90234375, \"source?\": true}, \"ORACLE.run1_38\": {\"accuracy\": 0.93515625, \"source?\": true}, \"ORACLE.run1_26\": {\"accuracy\": 0.7794270833333333, \"source?\": true}, \"ORACLE.run1_20\": {\"accuracy\": 0.8979166666666667, \"source?\": true}, \"ORACLE.run1_50\": {\"accuracy\": 0.9302083333333333, \"source?\": true}, \"ORACLE.run1_32\": {\"accuracy\": 0.9091145833333333, \"source?\": true}, \"ORACLE.run1_44\": {\"accuracy\": 0.8302083333333333, \"source?\": true}, \"ORACLE.run1_14\": {\"accuracy\": 0.9223958333333333, \"source?\": true}, \"CORES_2\": {\"accuracy\": 0.8666548295454546, \"source?\": false}, \"CORES_5\": {\"accuracy\": 0.8476123595505618, \"source?\": false}, \"CORES_1\": {\"accuracy\": 0.9156936813186813, \"source?\": false}, \"CORES_4\": {\"accuracy\": 0.8379491017964071, \"source?\": false}, \"CORES_3\": {\"accuracy\": 0.8594663742690059, \"source?\": false}}}, \"history\": {\"epoch_indices\": [1, 2, 3, 4, 5, 6, 7, 8, 9, 10], \"train_label_loss\": [0.7651597324459415, 0.4807043753076522, 0.39110010936662243, 0.33058715995423316, 0.2949304795625808, 0.26856419071693727, 0.24828405316941263, 0.2287867262334441, 0.21116657508516384, 0.19681200149543224], \"source_val_label_loss\": [0.6487044095993042, 0.42282578349113464, 0.37639570236206055, 0.3297763168811798, 0.313372939825058, 0.3102990686893463, 0.30156227946281433, 0.2806364595890045, 0.28206977248191833, 0.2791514992713928], \"target_val_label_loss\": [0.853551983833313, 0.8456992506980896, 0.9941825270652771, 1.1424766778945923, 1.216949224472046, 1.1353696584701538, 0.9673875570297241, 1.0611572265625, 1.1824183464050293, 1.3558473587036133], \"source_val_acc_label\": [0.7833984375, 0.8509440104166667, 0.86884765625, 0.8819986979166666, 0.8877278645833333, 0.8883463541666666, 0.89208984375, 0.89775390625, 0.89814453125, 0.8986653645833333], \"target_val_acc_label\": [0.7434568077803204, 0.8328804347826086, 0.838887299771167, 0.8424628146453089, 0.848362414187643, 0.8660969679633868, 0.8637013729977117, 0.8645952517162472, 0.8546910755148741, 0.8619851258581236]}, \"dataset_metrics\": {\"source\": {\"train\": {\"n_unique_x\": 179200, \"n_unique_y\": 16, \"n_batch/episode\": 6720}, \"val\": {\"n_unique_x\": 38400, \"n_unique_y\": 16, \"n_batch/episode\": 960}, \"test\": {\"n_unique_x\": 38400, \"n_unique_y\": 16, \"n_batch/episode\": 960}}, \"target\": {\"train\": {\"n_unique_x\": 175127, \"n_unique_y\": 58, \"n_batch/episode\": 6303}, \"val\": {\"n_unique_x\": 37135, \"n_unique_y\": 58, \"n_batch/episode\": 874}, \"test\": {\"n_unique_x\": 37673, \"n_unique_y\": 58, \"n_batch/episode\": 893}}}}'"
      ]
     },
     "execution_count": 29,
     "metadata": {},
     "output_type": "execute_result"
    }
   ],
   "source": [
    "json.dumps(experiment)"
   ]
  }
 ],
 "metadata": {
  "celltoolbar": "Tags",
  "kernelspec": {
   "display_name": "Python 3 (ipykernel)",
   "language": "python",
   "name": "python3"
  },
  "language_info": {
   "codemirror_mode": {
    "name": "ipython",
    "version": 3
   },
   "file_extension": ".py",
   "mimetype": "text/x-python",
   "name": "python",
   "nbconvert_exporter": "python",
   "pygments_lexer": "ipython3",
   "version": "3.8.12"
  },
  "papermill": {
   "default_parameters": {},
   "duration": 2794.217451,
   "end_time": "2022-03-21T11:32:36.822630",
   "environment_variables": {},
   "exception": null,
   "input_path": "/root/csc500-main/csc500-notebooks/templates/tl_ptn_template.ipynb",
   "output_path": "trial.ipynb",
   "parameters": {
    "parameters": {
     "BEST_MODEL_PATH": "./best_model.pth",
     "NUM_LOGS_PER_EPOCH": 10,
     "criteria_for_best": "target_accuracy",
     "dataset_seed": 154325,
     "datasets": [
      {
       "domain_prefix": "CORES_",
       "domains": [
        1,
        2,
        3,
        4,
        5
       ],
       "episode_transforms": [],
       "labels": [
        "1-10.",
        "1-11.",
        "1-15.",
        "1-16.",
        "1-17.",
        "1-18.",
        "1-19.",
        "10-4.",
        "10-7.",
        "11-1.",
        "11-14.",
        "11-17.",
        "11-20.",
        "11-7.",
        "13-20.",
        "13-8.",
        "14-10.",
        "14-11.",
        "14-14.",
        "14-7.",
        "15-1.",
        "15-20.",
        "16-1.",
        "16-16.",
        "17-10.",
        "17-11.",
        "17-2.",
        "19-1.",
        "19-16.",
        "19-19.",
        "19-20.",
        "19-3.",
        "2-10.",
        "2-11.",
        "2-17.",
        "2-18.",
        "2-20.",
        "2-3.",
        "2-4.",
        "2-5.",
        "2-6.",
        "2-7.",
        "2-8.",
        "3-13.",
        "3-18.",
        "3-3.",
        "4-1.",
        "4-10.",
        "4-11.",
        "4-19.",
        "5-5.",
        "6-15.",
        "7-10.",
        "7-14.",
        "8-18.",
        "8-20.",
        "8-3.",
        "8-8."
       ],
       "num_examples_per_domain_per_label": -1,
       "pickle_path": "/root/csc500-main/datasets/cores.stratified_ds.2022A.pkl",
       "source_or_target_dataset": "target",
       "x_transforms": [
        "unit_power"
       ]
      },
      {
       "domain_prefix": "ORACLE.run1_",
       "domains": [
        32,
        38,
        8,
        44,
        14,
        50,
        20,
        26
       ],
       "episode_transforms": [],
       "labels": [
        "3123D52",
        "3123D65",
        "3123D79",
        "3123D80",
        "3123D54",
        "3123D70",
        "3123D7B",
        "3123D89",
        "3123D58",
        "3123D76",
        "3123D7D",
        "3123EFE",
        "3123D64",
        "3123D78",
        "3123D7E",
        "3124E4A"
       ],
       "num_examples_per_domain_per_label": 2000,
       "pickle_path": "/root/csc500-main/datasets/oracle.Run1_framed_2000Examples_stratified_ds.2022A.pkl",
       "source_or_target_dataset": "source",
       "x_transforms": [
        "unit_power"
       ]
      }
     ],
     "device": "cuda",
     "experiment_name": "tl_1v2:cores-oracle.run1.framed",
     "lr": 0.0001,
     "n_epoch": 50,
     "n_query": 2,
     "n_shot": 3,
     "n_way": 16,
     "patience": 3,
     "seed": 154325,
     "test_k_factor": 2,
     "torch_default_dtype": "torch.float32",
     "train_k_factor": 3,
     "val_k_factor": 2,
     "x_net": [
      {
       "class": "nnReshape",
       "kargs": {
        "shape": [
         -1,
         1,
         2,
         256
        ]
       }
      },
      {
       "class": "Conv2d",
       "kargs": {
        "bias": false,
        "in_channels": 1,
        "kernel_size": [
         1,
         7
        ],
        "out_channels": 256,
        "padding": [
         0,
         3
        ]
       }
      },
      {
       "class": "ReLU",
       "kargs": {
        "inplace": true
       }
      },
      {
       "class": "BatchNorm2d",
       "kargs": {
        "num_features": 256
       }
      },
      {
       "class": "Conv2d",
       "kargs": {
        "bias": true,
        "in_channels": 256,
        "kernel_size": [
         2,
         7
        ],
        "out_channels": 80,
        "padding": [
         0,
         3
        ]
       }
      },
      {
       "class": "ReLU",
       "kargs": {
        "inplace": true
       }
      },
      {
       "class": "BatchNorm2d",
       "kargs": {
        "num_features": 80
       }
      },
      {
       "class": "Flatten",
       "kargs": {}
      },
      {
       "class": "Linear",
       "kargs": {
        "in_features": 20480,
        "out_features": 256
       }
      },
      {
       "class": "ReLU",
       "kargs": {
        "inplace": true
       }
      },
      {
       "class": "BatchNorm1d",
       "kargs": {
        "num_features": 256
       }
      },
      {
       "class": "Linear",
       "kargs": {
        "in_features": 256,
        "out_features": 256
       }
      }
     ]
    }
   },
   "start_time": "2022-03-21T10:46:02.605179",
   "version": "2.3.4"
  }
 },
 "nbformat": 4,
 "nbformat_minor": 5
}