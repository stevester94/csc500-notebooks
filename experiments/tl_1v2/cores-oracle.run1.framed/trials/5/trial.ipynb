{
 "cells": [
  {
   "cell_type": "markdown",
   "id": "9fea5f46",
   "metadata": {
    "papermill": {
     "duration": 0.025225,
     "end_time": "2022-03-21T05:19:42.114684",
     "exception": false,
     "start_time": "2022-03-21T05:19:42.089459",
     "status": "completed"
    },
    "tags": []
   },
   "source": [
    "# Transfer Learning Template"
   ]
  },
  {
   "cell_type": "code",
   "execution_count": 1,
   "id": "0902182a",
   "metadata": {
    "execution": {
     "iopub.execute_input": "2022-03-21T05:19:42.172105Z",
     "iopub.status.busy": "2022-03-21T05:19:42.170965Z",
     "iopub.status.idle": "2022-03-21T05:19:44.125790Z",
     "shell.execute_reply": "2022-03-21T05:19:44.125320Z"
    },
    "papermill": {
     "duration": 1.992561,
     "end_time": "2022-03-21T05:19:44.125908",
     "exception": false,
     "start_time": "2022-03-21T05:19:42.133347",
     "status": "completed"
    },
    "tags": []
   },
   "outputs": [],
   "source": [
    "%load_ext autoreload\n",
    "%autoreload 2\n",
    "%matplotlib inline\n",
    "\n",
    "    \n",
    "import os, json, sys, time, random\n",
    "import numpy as np\n",
    "import torch\n",
    "from torch.optim import Adam\n",
    "from  easydict import EasyDict\n",
    "import matplotlib.pyplot as plt\n",
    "\n",
    "from steves_models.steves_ptn import Steves_Prototypical_Network\n",
    "\n",
    "from steves_utils.lazy_iterable_wrapper import Lazy_Iterable_Wrapper\n",
    "from steves_utils.iterable_aggregator import Iterable_Aggregator\n",
    "from steves_utils.ptn_train_eval_test_jig import  PTN_Train_Eval_Test_Jig\n",
    "from steves_utils.torch_sequential_builder import build_sequential\n",
    "from steves_utils.torch_utils import get_dataset_metrics, ptn_confusion_by_domain_over_dataloader\n",
    "from steves_utils.utils_v2 import (per_domain_accuracy_from_confusion, get_datasets_base_path)\n",
    "from steves_utils.PTN.utils import independent_accuracy_assesment\n",
    "\n",
    "from torch.utils.data import DataLoader\n",
    "\n",
    "from steves_utils.stratified_dataset.episodic_accessor import Episodic_Accessor_Factory\n",
    "\n",
    "from steves_utils.ptn_do_report import (\n",
    "    get_loss_curve,\n",
    "    get_results_table,\n",
    "    get_parameters_table,\n",
    "    get_domain_accuracies,\n",
    ")\n",
    "\n",
    "from steves_utils.transforms import get_chained_transform"
   ]
  },
  {
   "cell_type": "markdown",
   "id": "41c840b4",
   "metadata": {
    "papermill": {
     "duration": 0.01878,
     "end_time": "2022-03-21T05:19:44.164404",
     "exception": false,
     "start_time": "2022-03-21T05:19:44.145624",
     "status": "completed"
    },
    "tags": []
   },
   "source": [
    "# Allowed Parameters\n",
    "These are allowed parameters, not defaults\n",
    "Each of these values need to be present in the injected parameters (the notebook will raise an exception if they are not present)\n",
    "\n",
    "Papermill uses the cell tag \"parameters\" to inject the real parameters below this cell.\n",
    "Enable tags to see what I mean"
   ]
  },
  {
   "cell_type": "code",
   "execution_count": 2,
   "id": "fd44eb83",
   "metadata": {
    "execution": {
     "iopub.execute_input": "2022-03-21T05:19:44.207055Z",
     "iopub.status.busy": "2022-03-21T05:19:44.206467Z",
     "iopub.status.idle": "2022-03-21T05:19:44.226871Z",
     "shell.execute_reply": "2022-03-21T05:19:44.226084Z"
    },
    "papermill": {
     "duration": 0.043901,
     "end_time": "2022-03-21T05:19:44.227042",
     "exception": false,
     "start_time": "2022-03-21T05:19:44.183141",
     "status": "completed"
    },
    "tags": []
   },
   "outputs": [],
   "source": [
    "required_parameters = {\n",
    "    \"experiment_name\",\n",
    "    \"lr\",\n",
    "    \"device\",\n",
    "    \"seed\",\n",
    "    \"dataset_seed\",\n",
    "    \"n_shot\",\n",
    "    \"n_query\",\n",
    "    \"n_way\",\n",
    "    \"train_k_factor\",\n",
    "    \"val_k_factor\",\n",
    "    \"test_k_factor\",\n",
    "    \"n_epoch\",\n",
    "    \"patience\",\n",
    "    \"criteria_for_best\",\n",
    "    \"x_net\",\n",
    "    \"datasets\",\n",
    "    \"torch_default_dtype\",\n",
    "    \"NUM_LOGS_PER_EPOCH\",\n",
    "    \"BEST_MODEL_PATH\",\n",
    "    \"x_shape\",\n",
    "}"
   ]
  },
  {
   "cell_type": "code",
   "execution_count": 3,
   "id": "fa3f0049",
   "metadata": {
    "execution": {
     "iopub.execute_input": "2022-03-21T05:19:44.286020Z",
     "iopub.status.busy": "2022-03-21T05:19:44.285369Z",
     "iopub.status.idle": "2022-03-21T05:19:44.305174Z",
     "shell.execute_reply": "2022-03-21T05:19:44.304461Z"
    },
    "papermill": {
     "duration": 0.04997,
     "end_time": "2022-03-21T05:19:44.305341",
     "exception": false,
     "start_time": "2022-03-21T05:19:44.255371",
     "status": "completed"
    },
    "tags": [
     "parameters"
    ]
   },
   "outputs": [],
   "source": [
    "from steves_utils.CORES.utils import (\n",
    "    ALL_NODES,\n",
    "    ALL_NODES_MINIMUM_1000_EXAMPLES,\n",
    "    ALL_DAYS\n",
    ")\n",
    "\n",
    "from steves_utils.ORACLE.utils_v2 import (\n",
    "    ALL_DISTANCES_FEET_NARROWED,\n",
    "    ALL_RUNS,\n",
    "    ALL_SERIAL_NUMBERS,\n",
    ")\n",
    "\n",
    "standalone_parameters = {}\n",
    "standalone_parameters[\"experiment_name\"] = \"STANDALONE PTN\"\n",
    "standalone_parameters[\"lr\"] = 0.001\n",
    "standalone_parameters[\"device\"] = \"cuda\"\n",
    "\n",
    "standalone_parameters[\"seed\"] = 1337\n",
    "standalone_parameters[\"dataset_seed\"] = 1337\n",
    "\n",
    "standalone_parameters[\"n_way\"] = 8\n",
    "standalone_parameters[\"n_shot\"] = 3\n",
    "standalone_parameters[\"n_query\"]  = 2\n",
    "standalone_parameters[\"train_k_factor\"] = 1\n",
    "standalone_parameters[\"val_k_factor\"] = 2\n",
    "standalone_parameters[\"test_k_factor\"] = 2\n",
    "\n",
    "\n",
    "standalone_parameters[\"n_epoch\"] = 50\n",
    "\n",
    "standalone_parameters[\"patience\"] = 10\n",
    "standalone_parameters[\"criteria_for_best\"] = \"source_loss\"\n",
    "\n",
    "standalone_parameters[\"datasets\"] = [\n",
    "    {\n",
    "        \"labels\": ALL_SERIAL_NUMBERS,\n",
    "        \"domains\": ALL_DISTANCES_FEET_NARROWED,\n",
    "        \"num_examples_per_domain_per_label\": 100,\n",
    "        \"pickle_path\": os.path.join(get_datasets_base_path(), \"oracle.Run1_framed_2000Examples_stratified_ds.2022A.pkl\"),\n",
    "        \"source_or_target_dataset\": \"source\",\n",
    "        \"x_transforms\": [\"unit_mag\", \"minus_two\"],\n",
    "        \"episode_transforms\": [],\n",
    "        \"domain_prefix\": \"ORACLE_\"\n",
    "    },\n",
    "    {\n",
    "        \"labels\": ALL_NODES,\n",
    "        \"domains\": ALL_DAYS,\n",
    "        \"num_examples_per_domain_per_label\": 100,\n",
    "        \"pickle_path\": os.path.join(get_datasets_base_path(), \"cores.stratified_ds.2022A.pkl\"),\n",
    "        \"source_or_target_dataset\": \"target\",\n",
    "        \"x_transforms\": [\"unit_power\", \"times_zero\"],\n",
    "        \"episode_transforms\": [],\n",
    "        \"domain_prefix\": \"CORES_\"\n",
    "    }   \n",
    "]\n",
    "\n",
    "standalone_parameters[\"torch_default_dtype\"] = \"torch.float32\" \n",
    "\n",
    "\n",
    "\n",
    "standalone_parameters[\"x_net\"] =     [\n",
    "    {\"class\": \"nnReshape\", \"kargs\": {\"shape\":[-1, 1, 2, 256]}},\n",
    "    {\"class\": \"Conv2d\", \"kargs\": { \"in_channels\":1, \"out_channels\":256, \"kernel_size\":(1,7), \"bias\":False, \"padding\":(0,3), },},\n",
    "    {\"class\": \"ReLU\", \"kargs\": {\"inplace\": True}},\n",
    "    {\"class\": \"BatchNorm2d\", \"kargs\": {\"num_features\":256}},\n",
    "\n",
    "    {\"class\": \"Conv2d\", \"kargs\": { \"in_channels\":256, \"out_channels\":80, \"kernel_size\":(2,7), \"bias\":True, \"padding\":(0,3), },},\n",
    "    {\"class\": \"ReLU\", \"kargs\": {\"inplace\": True}},\n",
    "    {\"class\": \"BatchNorm2d\", \"kargs\": {\"num_features\":80}},\n",
    "    {\"class\": \"Flatten\", \"kargs\": {}},\n",
    "\n",
    "    {\"class\": \"Linear\", \"kargs\": {\"in_features\": 80*256, \"out_features\": 256}}, # 80 units per IQ pair\n",
    "    {\"class\": \"ReLU\", \"kargs\": {\"inplace\": True}},\n",
    "    {\"class\": \"BatchNorm1d\", \"kargs\": {\"num_features\":256}},\n",
    "\n",
    "    {\"class\": \"Linear\", \"kargs\": {\"in_features\": 256, \"out_features\": 256}},\n",
    "]\n",
    "\n",
    "# Parameters relevant to results\n",
    "# These parameters will basically never need to change\n",
    "standalone_parameters[\"NUM_LOGS_PER_EPOCH\"] = 10\n",
    "standalone_parameters[\"BEST_MODEL_PATH\"] = \"./best_model.pth\"\n",
    "\n",
    "\n",
    "\n",
    "\n"
   ]
  },
  {
   "cell_type": "code",
   "execution_count": 4,
   "id": "b977750c",
   "metadata": {
    "execution": {
     "iopub.execute_input": "2022-03-21T05:19:44.364330Z",
     "iopub.status.busy": "2022-03-21T05:19:44.362227Z",
     "iopub.status.idle": "2022-03-21T05:19:44.384907Z",
     "shell.execute_reply": "2022-03-21T05:19:44.384173Z"
    },
    "papermill": {
     "duration": 0.05504,
     "end_time": "2022-03-21T05:19:44.385080",
     "exception": false,
     "start_time": "2022-03-21T05:19:44.330040",
     "status": "completed"
    },
    "tags": [
     "injected-parameters"
    ]
   },
   "outputs": [],
   "source": [
    "# Parameters\n",
    "parameters = {\n",
    "    \"experiment_name\": \"tl_1v2:cores-oracle.run1.framed\",\n",
    "    \"device\": \"cuda\",\n",
    "    \"lr\": 0.0001,\n",
    "    \"n_shot\": 3,\n",
    "    \"n_query\": 2,\n",
    "    \"train_k_factor\": 3,\n",
    "    \"val_k_factor\": 2,\n",
    "    \"test_k_factor\": 2,\n",
    "    \"torch_default_dtype\": \"torch.float32\",\n",
    "    \"n_epoch\": 50,\n",
    "    \"patience\": 3,\n",
    "    \"criteria_for_best\": \"target_accuracy\",\n",
    "    \"x_net\": [\n",
    "        {\"class\": \"nnReshape\", \"kargs\": {\"shape\": [-1, 1, 2, 256]}},\n",
    "        {\n",
    "            \"class\": \"Conv2d\",\n",
    "            \"kargs\": {\n",
    "                \"in_channels\": 1,\n",
    "                \"out_channels\": 256,\n",
    "                \"kernel_size\": [1, 7],\n",
    "                \"bias\": False,\n",
    "                \"padding\": [0, 3],\n",
    "            },\n",
    "        },\n",
    "        {\"class\": \"ReLU\", \"kargs\": {\"inplace\": True}},\n",
    "        {\"class\": \"BatchNorm2d\", \"kargs\": {\"num_features\": 256}},\n",
    "        {\n",
    "            \"class\": \"Conv2d\",\n",
    "            \"kargs\": {\n",
    "                \"in_channels\": 256,\n",
    "                \"out_channels\": 80,\n",
    "                \"kernel_size\": [2, 7],\n",
    "                \"bias\": True,\n",
    "                \"padding\": [0, 3],\n",
    "            },\n",
    "        },\n",
    "        {\"class\": \"ReLU\", \"kargs\": {\"inplace\": True}},\n",
    "        {\"class\": \"BatchNorm2d\", \"kargs\": {\"num_features\": 80}},\n",
    "        {\"class\": \"Flatten\", \"kargs\": {}},\n",
    "        {\"class\": \"Linear\", \"kargs\": {\"in_features\": 20480, \"out_features\": 256}},\n",
    "        {\"class\": \"ReLU\", \"kargs\": {\"inplace\": True}},\n",
    "        {\"class\": \"BatchNorm1d\", \"kargs\": {\"num_features\": 256}},\n",
    "        {\"class\": \"Linear\", \"kargs\": {\"in_features\": 256, \"out_features\": 256}},\n",
    "    ],\n",
    "    \"NUM_LOGS_PER_EPOCH\": 10,\n",
    "    \"BEST_MODEL_PATH\": \"./best_model.pth\",\n",
    "    \"n_way\": 16,\n",
    "    \"datasets\": [\n",
    "        {\n",
    "            \"labels\": [\n",
    "                \"1-10.\",\n",
    "                \"1-11.\",\n",
    "                \"1-15.\",\n",
    "                \"1-16.\",\n",
    "                \"1-17.\",\n",
    "                \"1-18.\",\n",
    "                \"1-19.\",\n",
    "                \"10-4.\",\n",
    "                \"10-7.\",\n",
    "                \"11-1.\",\n",
    "                \"11-14.\",\n",
    "                \"11-17.\",\n",
    "                \"11-20.\",\n",
    "                \"11-7.\",\n",
    "                \"13-20.\",\n",
    "                \"13-8.\",\n",
    "                \"14-10.\",\n",
    "                \"14-11.\",\n",
    "                \"14-14.\",\n",
    "                \"14-7.\",\n",
    "                \"15-1.\",\n",
    "                \"15-20.\",\n",
    "                \"16-1.\",\n",
    "                \"16-16.\",\n",
    "                \"17-10.\",\n",
    "                \"17-11.\",\n",
    "                \"17-2.\",\n",
    "                \"19-1.\",\n",
    "                \"19-16.\",\n",
    "                \"19-19.\",\n",
    "                \"19-20.\",\n",
    "                \"19-3.\",\n",
    "                \"2-10.\",\n",
    "                \"2-11.\",\n",
    "                \"2-17.\",\n",
    "                \"2-18.\",\n",
    "                \"2-20.\",\n",
    "                \"2-3.\",\n",
    "                \"2-4.\",\n",
    "                \"2-5.\",\n",
    "                \"2-6.\",\n",
    "                \"2-7.\",\n",
    "                \"2-8.\",\n",
    "                \"3-13.\",\n",
    "                \"3-18.\",\n",
    "                \"3-3.\",\n",
    "                \"4-1.\",\n",
    "                \"4-10.\",\n",
    "                \"4-11.\",\n",
    "                \"4-19.\",\n",
    "                \"5-5.\",\n",
    "                \"6-15.\",\n",
    "                \"7-10.\",\n",
    "                \"7-14.\",\n",
    "                \"8-18.\",\n",
    "                \"8-20.\",\n",
    "                \"8-3.\",\n",
    "                \"8-8.\",\n",
    "            ],\n",
    "            \"domains\": [1, 2, 3, 4, 5],\n",
    "            \"num_examples_per_domain_per_label\": -1,\n",
    "            \"pickle_path\": \"/root/csc500-main/datasets/cores.stratified_ds.2022A.pkl\",\n",
    "            \"source_or_target_dataset\": \"target\",\n",
    "            \"x_transforms\": [],\n",
    "            \"episode_transforms\": [],\n",
    "            \"domain_prefix\": \"CORES_\",\n",
    "        },\n",
    "        {\n",
    "            \"labels\": [\n",
    "                \"3123D52\",\n",
    "                \"3123D65\",\n",
    "                \"3123D79\",\n",
    "                \"3123D80\",\n",
    "                \"3123D54\",\n",
    "                \"3123D70\",\n",
    "                \"3123D7B\",\n",
    "                \"3123D89\",\n",
    "                \"3123D58\",\n",
    "                \"3123D76\",\n",
    "                \"3123D7D\",\n",
    "                \"3123EFE\",\n",
    "                \"3123D64\",\n",
    "                \"3123D78\",\n",
    "                \"3123D7E\",\n",
    "                \"3124E4A\",\n",
    "            ],\n",
    "            \"domains\": [32, 38, 8, 44, 14, 50, 20, 26],\n",
    "            \"num_examples_per_domain_per_label\": 2000,\n",
    "            \"pickle_path\": \"/root/csc500-main/datasets/oracle.Run1_framed_2000Examples_stratified_ds.2022A.pkl\",\n",
    "            \"source_or_target_dataset\": \"source\",\n",
    "            \"x_transforms\": [],\n",
    "            \"episode_transforms\": [],\n",
    "            \"domain_prefix\": \"ORACLE.run1_\",\n",
    "        },\n",
    "    ],\n",
    "    \"dataset_seed\": 1337,\n",
    "    \"seed\": 1337,\n",
    "}\n"
   ]
  },
  {
   "cell_type": "code",
   "execution_count": 5,
   "id": "8fa1cc33",
   "metadata": {
    "execution": {
     "iopub.execute_input": "2022-03-21T05:19:44.440581Z",
     "iopub.status.busy": "2022-03-21T05:19:44.440072Z",
     "iopub.status.idle": "2022-03-21T05:19:44.459934Z",
     "shell.execute_reply": "2022-03-21T05:19:44.459237Z"
    },
    "papermill": {
     "duration": 0.048919,
     "end_time": "2022-03-21T05:19:44.460080",
     "exception": false,
     "start_time": "2022-03-21T05:19:44.411161",
     "status": "completed"
    },
    "tags": []
   },
   "outputs": [],
   "source": [
    "# Set this to True if you want to run this template directly\n",
    "STANDALONE = False\n",
    "if STANDALONE:\n",
    "    print(\"parameters not injected, running with standalone_parameters\")\n",
    "    parameters = standalone_parameters\n",
    "\n",
    "if not 'parameters' in locals() and not 'parameters' in globals():\n",
    "    raise Exception(\"Parameter injection failed\")\n",
    "\n",
    "#Use an easy dict for all the parameters\n",
    "p = EasyDict(parameters)\n",
    "\n",
    "if \"x_shape\" not in p:\n",
    "    p.x_shape = [2,256] # Default to this if we dont supply x_shape\n",
    "\n",
    "\n",
    "supplied_keys = set(p.keys())\n",
    "\n",
    "if  supplied_keys != required_parameters:\n",
    "    print(\"Parameters are incorrect\")\n",
    "    if len(supplied_keys - required_parameters)>0: print(\"Shouldn't have:\", str(supplied_keys - required_parameters))\n",
    "    if len(required_parameters - supplied_keys)>0: print(\"Need to have:\", str(required_parameters - supplied_keys))\n",
    "    raise RuntimeError(\"Parameters are incorrect\")"
   ]
  },
  {
   "cell_type": "code",
   "execution_count": 6,
   "id": "3a028d58",
   "metadata": {
    "execution": {
     "iopub.execute_input": "2022-03-21T05:19:44.513086Z",
     "iopub.status.busy": "2022-03-21T05:19:44.512677Z",
     "iopub.status.idle": "2022-03-21T05:19:44.529527Z",
     "shell.execute_reply": "2022-03-21T05:19:44.528954Z"
    },
    "papermill": {
     "duration": 0.042779,
     "end_time": "2022-03-21T05:19:44.529664",
     "exception": false,
     "start_time": "2022-03-21T05:19:44.486885",
     "status": "completed"
    },
    "tags": []
   },
   "outputs": [],
   "source": [
    "###################################\n",
    "# Set the RNGs and make it all deterministic\n",
    "###################################\n",
    "np.random.seed(p.seed)\n",
    "random.seed(p.seed)\n",
    "torch.manual_seed(p.seed)\n",
    "\n",
    "torch.use_deterministic_algorithms(True) "
   ]
  },
  {
   "cell_type": "code",
   "execution_count": 7,
   "id": "b691acf6",
   "metadata": {
    "execution": {
     "iopub.execute_input": "2022-03-21T05:19:44.585837Z",
     "iopub.status.busy": "2022-03-21T05:19:44.585146Z",
     "iopub.status.idle": "2022-03-21T05:19:44.607474Z",
     "shell.execute_reply": "2022-03-21T05:19:44.606800Z"
    },
    "papermill": {
     "duration": 0.049478,
     "end_time": "2022-03-21T05:19:44.607657",
     "exception": false,
     "start_time": "2022-03-21T05:19:44.558179",
     "status": "completed"
    },
    "tags": []
   },
   "outputs": [],
   "source": [
    "###########################################\n",
    "# The stratified datasets honor this\n",
    "###########################################\n",
    "torch.set_default_dtype(eval(p.torch_default_dtype))"
   ]
  },
  {
   "cell_type": "code",
   "execution_count": 8,
   "id": "b5fba671",
   "metadata": {
    "execution": {
     "iopub.execute_input": "2022-03-21T05:19:44.660518Z",
     "iopub.status.busy": "2022-03-21T05:19:44.660022Z",
     "iopub.status.idle": "2022-03-21T05:19:44.715500Z",
     "shell.execute_reply": "2022-03-21T05:19:44.714889Z"
    },
    "papermill": {
     "duration": 0.078979,
     "end_time": "2022-03-21T05:19:44.715691",
     "exception": false,
     "start_time": "2022-03-21T05:19:44.636712",
     "status": "completed"
    },
    "tags": []
   },
   "outputs": [],
   "source": [
    "###################################\n",
    "# Build the network(s)\n",
    "# Note: It's critical to do this AFTER setting the RNG\n",
    "###################################\n",
    "x_net = build_sequential(p.x_net)"
   ]
  },
  {
   "cell_type": "code",
   "execution_count": 9,
   "id": "5d7e61cc",
   "metadata": {
    "execution": {
     "iopub.execute_input": "2022-03-21T05:19:44.765305Z",
     "iopub.status.busy": "2022-03-21T05:19:44.764932Z",
     "iopub.status.idle": "2022-03-21T05:19:44.787637Z",
     "shell.execute_reply": "2022-03-21T05:19:44.786771Z"
    },
    "papermill": {
     "duration": 0.045743,
     "end_time": "2022-03-21T05:19:44.787814",
     "exception": false,
     "start_time": "2022-03-21T05:19:44.742071",
     "status": "completed"
    },
    "tags": []
   },
   "outputs": [],
   "source": [
    "start_time_secs = time.time()"
   ]
  },
  {
   "cell_type": "code",
   "execution_count": 10,
   "id": "c6b67dfd",
   "metadata": {
    "execution": {
     "iopub.execute_input": "2022-03-21T05:19:44.838492Z",
     "iopub.status.busy": "2022-03-21T05:19:44.838118Z",
     "iopub.status.idle": "2022-03-21T05:19:44.858609Z",
     "shell.execute_reply": "2022-03-21T05:19:44.857915Z"
    },
    "papermill": {
     "duration": 0.043848,
     "end_time": "2022-03-21T05:19:44.858779",
     "exception": false,
     "start_time": "2022-03-21T05:19:44.814931",
     "status": "completed"
    },
    "tags": []
   },
   "outputs": [],
   "source": [
    "p.domains_source = []\n",
    "p.domains_target = []\n",
    "\n",
    "\n",
    "train_original_source = []\n",
    "val_original_source   = []\n",
    "test_original_source  = []\n",
    "\n",
    "train_original_target = []\n",
    "val_original_target   = []\n",
    "test_original_target  = []"
   ]
  },
  {
   "cell_type": "code",
   "execution_count": 11,
   "id": "e3d9c3d3",
   "metadata": {
    "execution": {
     "iopub.execute_input": "2022-03-21T05:19:44.916182Z",
     "iopub.status.busy": "2022-03-21T05:19:44.915785Z",
     "iopub.status.idle": "2022-03-21T05:19:44.936783Z",
     "shell.execute_reply": "2022-03-21T05:19:44.936038Z"
    },
    "papermill": {
     "duration": 0.048503,
     "end_time": "2022-03-21T05:19:44.936962",
     "exception": false,
     "start_time": "2022-03-21T05:19:44.888459",
     "status": "completed"
    },
    "tags": []
   },
   "outputs": [],
   "source": [
    "# global_x_transform_func = lambda x: normalize(x.to(torch.get_default_dtype()), \"unit_power\") # unit_power, unit_mag\n",
    "# global_x_transform_func = lambda x: normalize(x, \"unit_power\") # unit_power, unit_mag"
   ]
  },
  {
   "cell_type": "code",
   "execution_count": 12,
   "id": "acb78fd2",
   "metadata": {
    "execution": {
     "iopub.execute_input": "2022-03-21T05:19:44.993085Z",
     "iopub.status.busy": "2022-03-21T05:19:44.992686Z",
     "iopub.status.idle": "2022-03-21T05:19:45.010077Z",
     "shell.execute_reply": "2022-03-21T05:19:45.009347Z"
    },
    "papermill": {
     "duration": 0.044622,
     "end_time": "2022-03-21T05:19:45.010248",
     "exception": false,
     "start_time": "2022-03-21T05:19:44.965626",
     "status": "completed"
    },
    "tags": []
   },
   "outputs": [],
   "source": [
    "def add_dataset(\n",
    "    labels,\n",
    "    domains,\n",
    "    pickle_path,\n",
    "    x_transforms,\n",
    "    episode_transforms,\n",
    "    domain_prefix,\n",
    "    num_examples_per_domain_per_label,\n",
    "    source_or_target_dataset:str,\n",
    "    iterator_seed=p.seed,\n",
    "    dataset_seed=p.dataset_seed,\n",
    "    n_shot=p.n_shot,\n",
    "    n_way=p.n_way,\n",
    "    n_query=p.n_query,\n",
    "    train_val_test_k_factors=(p.train_k_factor,p.val_k_factor,p.test_k_factor),\n",
    "):\n",
    "   \n",
    "    if x_transforms == []: x_transform = None\n",
    "    else: x_transform = get_chained_transform(x_transforms)\n",
    "    \n",
    "    if episode_transforms == []: episode_transform = None\n",
    "    else: raise Exception(\"episode_transforms not implemented\")\n",
    "    \n",
    "    episode_transform = lambda tup, _prefix=domain_prefix: (_prefix + str(tup[0]), tup[1])\n",
    "\n",
    "\n",
    "    eaf = Episodic_Accessor_Factory(\n",
    "        labels=labels,\n",
    "        domains=domains,\n",
    "        num_examples_per_domain_per_label=num_examples_per_domain_per_label,\n",
    "        iterator_seed=iterator_seed,\n",
    "        dataset_seed=dataset_seed,\n",
    "        n_shot=n_shot,\n",
    "        n_way=n_way,\n",
    "        n_query=n_query,\n",
    "        train_val_test_k_factors=train_val_test_k_factors,\n",
    "        pickle_path=pickle_path,\n",
    "        x_transform_func=x_transform,\n",
    "    )\n",
    "\n",
    "    train, val, test = eaf.get_train(), eaf.get_val(), eaf.get_test()\n",
    "    train = Lazy_Iterable_Wrapper(train, episode_transform)\n",
    "    val = Lazy_Iterable_Wrapper(val, episode_transform)\n",
    "    test = Lazy_Iterable_Wrapper(test, episode_transform)\n",
    "\n",
    "    if source_or_target_dataset==\"source\":\n",
    "        train_original_source.append(train)\n",
    "        val_original_source.append(val)\n",
    "        test_original_source.append(test)\n",
    "\n",
    "        p.domains_source.extend(\n",
    "            [domain_prefix + str(u) for u in domains]\n",
    "        )\n",
    "    elif source_or_target_dataset==\"target\":\n",
    "        train_original_target.append(train)\n",
    "        val_original_target.append(val)\n",
    "        test_original_target.append(test)\n",
    "        p.domains_target.extend(\n",
    "            [domain_prefix + str(u) for u in domains]\n",
    "        )\n",
    "    else:\n",
    "        raise Exception(f\"invalid source_or_target_dataset: {source_or_target_dataset}\")\n",
    "    "
   ]
  },
  {
   "cell_type": "code",
   "execution_count": 13,
   "id": "fe266617",
   "metadata": {
    "execution": {
     "iopub.execute_input": "2022-03-21T05:19:45.060597Z",
     "iopub.status.busy": "2022-03-21T05:19:45.060031Z",
     "iopub.status.idle": "2022-03-21T05:19:51.128176Z",
     "shell.execute_reply": "2022-03-21T05:19:51.127261Z"
    },
    "papermill": {
     "duration": 6.091651,
     "end_time": "2022-03-21T05:19:51.128361",
     "exception": false,
     "start_time": "2022-03-21T05:19:45.036710",
     "status": "completed"
    },
    "tags": []
   },
   "outputs": [],
   "source": [
    "for ds in p.datasets:\n",
    "    add_dataset(**ds)"
   ]
  },
  {
   "cell_type": "code",
   "execution_count": 14,
   "id": "b90d65ac",
   "metadata": {
    "execution": {
     "iopub.execute_input": "2022-03-21T05:19:51.178169Z",
     "iopub.status.busy": "2022-03-21T05:19:51.177791Z",
     "iopub.status.idle": "2022-03-21T05:19:51.202912Z",
     "shell.execute_reply": "2022-03-21T05:19:51.202104Z"
    },
    "papermill": {
     "duration": 0.049642,
     "end_time": "2022-03-21T05:19:51.203076",
     "exception": false,
     "start_time": "2022-03-21T05:19:51.153434",
     "status": "completed"
    },
    "tags": []
   },
   "outputs": [],
   "source": [
    "# from steves_utils.CORES.utils import (\n",
    "#     ALL_NODES,\n",
    "#     ALL_NODES_MINIMUM_1000_EXAMPLES,\n",
    "#     ALL_DAYS\n",
    "# )\n",
    "\n",
    "# add_dataset(\n",
    "#     labels=ALL_NODES,\n",
    "#     domains = ALL_DAYS,\n",
    "#     num_examples_per_domain_per_label=100,\n",
    "#     pickle_path=os.path.join(get_datasets_base_path(), \"cores.stratified_ds.2022A.pkl\"),\n",
    "#     source_or_target_dataset=\"target\",\n",
    "#     x_transform_func=global_x_transform_func,\n",
    "#     domain_modifier=lambda u: f\"cores_{u}\"\n",
    "# )"
   ]
  },
  {
   "cell_type": "code",
   "execution_count": 15,
   "id": "76db484d",
   "metadata": {
    "execution": {
     "iopub.execute_input": "2022-03-21T05:19:51.253827Z",
     "iopub.status.busy": "2022-03-21T05:19:51.253037Z",
     "iopub.status.idle": "2022-03-21T05:19:51.277129Z",
     "shell.execute_reply": "2022-03-21T05:19:51.276322Z"
    },
    "papermill": {
     "duration": 0.048134,
     "end_time": "2022-03-21T05:19:51.277291",
     "exception": false,
     "start_time": "2022-03-21T05:19:51.229157",
     "status": "completed"
    },
    "tags": []
   },
   "outputs": [],
   "source": [
    "# from steves_utils.ORACLE.utils_v2 import (\n",
    "#     ALL_DISTANCES_FEET,\n",
    "#     ALL_RUNS,\n",
    "#     ALL_SERIAL_NUMBERS,\n",
    "# )\n",
    "\n",
    "\n",
    "# add_dataset(\n",
    "#     labels=ALL_SERIAL_NUMBERS,\n",
    "#     domains = list(set(ALL_DISTANCES_FEET) - {2,62}),\n",
    "#     num_examples_per_domain_per_label=100,\n",
    "#     pickle_path=os.path.join(get_datasets_base_path(), \"oracle.Run2_framed_2000Examples_stratified_ds.2022A.pkl\"),\n",
    "#     source_or_target_dataset=\"source\",\n",
    "#     x_transform_func=global_x_transform_func,\n",
    "#     domain_modifier=lambda u: f\"oracle1_{u}\"\n",
    "# )\n"
   ]
  },
  {
   "cell_type": "code",
   "execution_count": 16,
   "id": "97dea9d2",
   "metadata": {
    "execution": {
     "iopub.execute_input": "2022-03-21T05:19:51.331200Z",
     "iopub.status.busy": "2022-03-21T05:19:51.330828Z",
     "iopub.status.idle": "2022-03-21T05:19:51.358273Z",
     "shell.execute_reply": "2022-03-21T05:19:51.357459Z"
    },
    "papermill": {
     "duration": 0.051879,
     "end_time": "2022-03-21T05:19:51.358439",
     "exception": false,
     "start_time": "2022-03-21T05:19:51.306560",
     "status": "completed"
    },
    "tags": []
   },
   "outputs": [],
   "source": [
    "# from steves_utils.ORACLE.utils_v2 import (\n",
    "#     ALL_DISTANCES_FEET,\n",
    "#     ALL_RUNS,\n",
    "#     ALL_SERIAL_NUMBERS,\n",
    "# )\n",
    "\n",
    "\n",
    "# add_dataset(\n",
    "#     labels=ALL_SERIAL_NUMBERS,\n",
    "#     domains = list(set(ALL_DISTANCES_FEET) - {2,62,56}),\n",
    "#     num_examples_per_domain_per_label=100,\n",
    "#     pickle_path=os.path.join(get_datasets_base_path(), \"oracle.Run2_framed_2000Examples_stratified_ds.2022A.pkl\"),\n",
    "#     source_or_target_dataset=\"source\",\n",
    "#     x_transform_func=global_x_transform_func,\n",
    "#     domain_modifier=lambda u: f\"oracle2_{u}\"\n",
    "# )"
   ]
  },
  {
   "cell_type": "code",
   "execution_count": 17,
   "id": "6f289866",
   "metadata": {
    "execution": {
     "iopub.execute_input": "2022-03-21T05:19:51.409657Z",
     "iopub.status.busy": "2022-03-21T05:19:51.409280Z",
     "iopub.status.idle": "2022-03-21T05:19:51.431730Z",
     "shell.execute_reply": "2022-03-21T05:19:51.430893Z"
    },
    "papermill": {
     "duration": 0.046497,
     "end_time": "2022-03-21T05:19:51.431893",
     "exception": false,
     "start_time": "2022-03-21T05:19:51.385396",
     "status": "completed"
    },
    "tags": []
   },
   "outputs": [],
   "source": [
    "# add_dataset(\n",
    "#     labels=list(range(19)),\n",
    "#     domains = [0,1,2],\n",
    "#     num_examples_per_domain_per_label=100,\n",
    "#     pickle_path=os.path.join(get_datasets_base_path(), \"metehan.stratified_ds.2022A.pkl\"),\n",
    "#     source_or_target_dataset=\"target\",\n",
    "#     x_transform_func=global_x_transform_func,\n",
    "#     domain_modifier=lambda u: f\"met_{u}\"\n",
    "# )"
   ]
  },
  {
   "cell_type": "code",
   "execution_count": 18,
   "id": "86a863c3",
   "metadata": {
    "execution": {
     "iopub.execute_input": "2022-03-21T05:19:51.484648Z",
     "iopub.status.busy": "2022-03-21T05:19:51.484067Z",
     "iopub.status.idle": "2022-03-21T05:19:51.509183Z",
     "shell.execute_reply": "2022-03-21T05:19:51.509860Z"
    },
    "papermill": {
     "duration": 0.050449,
     "end_time": "2022-03-21T05:19:51.510051",
     "exception": false,
     "start_time": "2022-03-21T05:19:51.459602",
     "status": "completed"
    },
    "tags": []
   },
   "outputs": [],
   "source": [
    "# # from steves_utils.wisig.utils import (\n",
    "# #     ALL_NODES_MINIMUM_100_EXAMPLES,\n",
    "# #     ALL_NODES_MINIMUM_500_EXAMPLES,\n",
    "# #     ALL_NODES_MINIMUM_1000_EXAMPLES,\n",
    "# #     ALL_DAYS\n",
    "# # )\n",
    "\n",
    "# import steves_utils.wisig.utils as wisig\n",
    "\n",
    "\n",
    "# add_dataset(\n",
    "#     labels=wisig.ALL_NODES_MINIMUM_100_EXAMPLES,\n",
    "#     domains = wisig.ALL_DAYS,\n",
    "#     num_examples_per_domain_per_label=100,\n",
    "#     pickle_path=os.path.join(get_datasets_base_path(), \"wisig.node3-19.stratified_ds.2022A.pkl\"),\n",
    "#     source_or_target_dataset=\"target\",\n",
    "#     x_transform_func=global_x_transform_func,\n",
    "#     domain_modifier=lambda u: f\"wisig_{u}\"\n",
    "# )"
   ]
  },
  {
   "cell_type": "code",
   "execution_count": 19,
   "id": "fd5442bc",
   "metadata": {
    "execution": {
     "iopub.execute_input": "2022-03-21T05:19:51.567071Z",
     "iopub.status.busy": "2022-03-21T05:19:51.566217Z",
     "iopub.status.idle": "2022-03-21T05:19:51.590151Z",
     "shell.execute_reply": "2022-03-21T05:19:51.589344Z"
    },
    "papermill": {
     "duration": 0.053504,
     "end_time": "2022-03-21T05:19:51.590316",
     "exception": false,
     "start_time": "2022-03-21T05:19:51.536812",
     "status": "completed"
    },
    "tags": []
   },
   "outputs": [],
   "source": [
    "###################################\n",
    "# Build the dataset\n",
    "###################################\n",
    "train_original_source = Iterable_Aggregator(train_original_source, p.seed)\n",
    "val_original_source = Iterable_Aggregator(val_original_source, p.seed)\n",
    "test_original_source = Iterable_Aggregator(test_original_source, p.seed)\n",
    "\n",
    "\n",
    "train_original_target = Iterable_Aggregator(train_original_target, p.seed)\n",
    "val_original_target = Iterable_Aggregator(val_original_target, p.seed)\n",
    "test_original_target = Iterable_Aggregator(test_original_target, p.seed)\n",
    "\n",
    "# For CNN We only use X and Y. And we only train on the source.\n",
    "# Properly form the data using a transform lambda and Lazy_Iterable_Wrapper. Finally wrap them in a dataloader\n",
    "\n",
    "transform_lambda = lambda ex: ex[1] # Original is (<domain>, <episode>) so we strip down to episode only\n",
    "\n",
    "train_processed_source = Lazy_Iterable_Wrapper(train_original_source, transform_lambda)\n",
    "val_processed_source   = Lazy_Iterable_Wrapper(val_original_source, transform_lambda)\n",
    "test_processed_source  = Lazy_Iterable_Wrapper(test_original_source, transform_lambda)\n",
    "\n",
    "train_processed_target = Lazy_Iterable_Wrapper(train_original_target, transform_lambda)\n",
    "val_processed_target   = Lazy_Iterable_Wrapper(val_original_target, transform_lambda)\n",
    "test_processed_target  = Lazy_Iterable_Wrapper(test_original_target, transform_lambda)\n",
    "\n",
    "datasets = EasyDict({\n",
    "    \"source\": {\n",
    "        \"original\": {\"train\":train_original_source, \"val\":val_original_source, \"test\":test_original_source},\n",
    "        \"processed\": {\"train\":train_processed_source, \"val\":val_processed_source, \"test\":test_processed_source}\n",
    "    },\n",
    "    \"target\": {\n",
    "        \"original\": {\"train\":train_original_target, \"val\":val_original_target, \"test\":test_original_target},\n",
    "        \"processed\": {\"train\":train_processed_target, \"val\":val_processed_target, \"test\":test_processed_target}\n",
    "    },\n",
    "})"
   ]
  },
  {
   "cell_type": "code",
   "execution_count": 20,
   "id": "5b3c01fc",
   "metadata": {
    "execution": {
     "iopub.execute_input": "2022-03-21T05:19:51.643063Z",
     "iopub.status.busy": "2022-03-21T05:19:51.642689Z",
     "iopub.status.idle": "2022-03-21T05:20:05.825990Z",
     "shell.execute_reply": "2022-03-21T05:20:05.826788Z"
    },
    "papermill": {
     "duration": 14.209395,
     "end_time": "2022-03-21T05:20:05.826998",
     "exception": false,
     "start_time": "2022-03-21T05:19:51.617603",
     "status": "completed"
    },
    "tags": []
   },
   "outputs": [
    {
     "name": "stdout",
     "output_type": "stream",
     "text": [
      "{'ORACLE.run1_44', 'ORACLE.run1_26', 'ORACLE.run1_32', 'ORACLE.run1_8', 'ORACLE.run1_14', 'ORACLE.run1_20', 'ORACLE.run1_50', 'ORACLE.run1_38'}\n"
     ]
    },
    {
     "name": "stdout",
     "output_type": "stream",
     "text": [
      "{'CORES_4', 'CORES_1', 'CORES_2', 'CORES_3', 'CORES_5'}\n"
     ]
    },
    {
     "name": "stdout",
     "output_type": "stream",
     "text": [
      "tensor([[[-0.0003,  0.0038, -0.0004,  ..., -0.0031, -0.0009, -0.0018],\n",
      "         [-0.0021, -0.0010,  0.0035,  ...,  0.0008, -0.0047, -0.0016]],\n",
      "\n",
      "        [[-0.0015,  0.0022,  0.0018,  ..., -0.0041, -0.0038, -0.0004],\n",
      "         [-0.0037, -0.0010,  0.0036,  ...,  0.0013, -0.0005,  0.0040]],\n",
      "\n",
      "        [[ 0.0021, -0.0012, -0.0025,  ...,  0.0026,  0.0045,  0.0011],\n",
      "         [ 0.0027,  0.0022, -0.0029,  ..., -0.0025,  0.0015, -0.0038]],\n",
      "\n",
      "        ...,\n",
      "\n",
      "        [[ 0.0048, -0.0012, -0.0057,  ...,  0.0031,  0.0048, -0.0031],\n",
      "         [ 0.0027,  0.0034, -0.0018,  ..., -0.0047, -0.0030, -0.0054]],\n",
      "\n",
      "        [[ 0.0001, -0.0048,  0.0014,  ...,  0.0043,  0.0023,  0.0052],\n",
      "         [ 0.0038,  0.0020, -0.0055,  ..., -0.0006,  0.0061, -0.0011]],\n",
      "\n",
      "        [[ 0.0023,  0.0016, -0.0035,  ..., -0.0022,  0.0060,  0.0049],\n",
      "         [-0.0020,  0.0053, -0.0002,  ..., -0.0052, -0.0003, -0.0012]]])\n"
     ]
    }
   ],
   "source": [
    "from steves_utils.transforms import get_average_magnitude, get_average_power\n",
    "\n",
    "print(set([u for u,_ in val_original_source]))\n",
    "print(set([u for u,_ in val_original_target]))\n",
    "\n",
    "s_x, s_y, q_x, q_y, _ = next(iter(train_processed_source))\n",
    "print(s_x)\n",
    "\n",
    "# for ds in [\n",
    "#     train_processed_source,\n",
    "#     val_processed_source,\n",
    "#     test_processed_source,\n",
    "#     train_processed_target,\n",
    "#     val_processed_target,\n",
    "#     test_processed_target\n",
    "# ]:\n",
    "#     for s_x, s_y, q_x, q_y, _ in ds:\n",
    "#         for X in (s_x, q_x):\n",
    "#             for x in X:\n",
    "#                 assert np.isclose(get_average_magnitude(x.numpy()), 1.0)\n",
    "#                 assert np.isclose(get_average_power(x.numpy()), 1.0)\n",
    "                "
   ]
  },
  {
   "cell_type": "code",
   "execution_count": 21,
   "id": "bbdacba1",
   "metadata": {
    "execution": {
     "iopub.execute_input": "2022-03-21T05:20:05.881254Z",
     "iopub.status.busy": "2022-03-21T05:20:05.880294Z",
     "iopub.status.idle": "2022-03-21T05:20:06.171716Z",
     "shell.execute_reply": "2022-03-21T05:20:06.171177Z"
    },
    "papermill": {
     "duration": 0.318112,
     "end_time": "2022-03-21T05:20:06.171869",
     "exception": false,
     "start_time": "2022-03-21T05:20:05.853757",
     "status": "completed"
    },
    "tags": []
   },
   "outputs": [
    {
     "name": "stdout",
     "output_type": "stream",
     "text": [
      "(2, 256)\n"
     ]
    }
   ],
   "source": [
    "###################################\n",
    "# Build the model\n",
    "###################################\n",
    "# easfsl only wants a tuple for the shape\n",
    "model = Steves_Prototypical_Network(x_net, device=p.device, x_shape=tuple(p.x_shape))\n",
    "optimizer = Adam(params=model.parameters(), lr=p.lr)"
   ]
  },
  {
   "cell_type": "code",
   "execution_count": 22,
   "id": "22b39ac5",
   "metadata": {
    "execution": {
     "iopub.execute_input": "2022-03-21T05:20:06.236216Z",
     "iopub.status.busy": "2022-03-21T05:20:06.235572Z",
     "iopub.status.idle": "2022-03-21T05:40:52.619376Z",
     "shell.execute_reply": "2022-03-21T05:40:52.619033Z"
    },
    "papermill": {
     "duration": 1246.414208,
     "end_time": "2022-03-21T05:40:52.619462",
     "exception": false,
     "start_time": "2022-03-21T05:20:06.205254",
     "status": "completed"
    },
    "tags": []
   },
   "outputs": [
    {
     "name": "stdout",
     "output_type": "stream",
     "text": [
      "epoch: 1, [batch: 1 / 6720], examples_per_second: 33.7309, train_label_loss: 2.8228, \n"
     ]
    },
    {
     "name": "stdout",
     "output_type": "stream",
     "text": [
      "epoch: 1, [batch: 672 / 6720], examples_per_second: 3755.4784, train_label_loss: 0.6830, \n"
     ]
    },
    {
     "name": "stdout",
     "output_type": "stream",
     "text": [
      "epoch: 1, [batch: 1344 / 6720], examples_per_second: 3817.9529, train_label_loss: 0.4555, \n"
     ]
    },
    {
     "name": "stdout",
     "output_type": "stream",
     "text": [
      "epoch: 1, [batch: 2016 / 6720], examples_per_second: 3986.9261, train_label_loss: 0.2466, \n"
     ]
    },
    {
     "name": "stdout",
     "output_type": "stream",
     "text": [
      "epoch: 1, [batch: 2688 / 6720], examples_per_second: 3280.9400, train_label_loss: 0.2682, \n"
     ]
    },
    {
     "name": "stdout",
     "output_type": "stream",
     "text": [
      "epoch: 1, [batch: 3360 / 6720], examples_per_second: 2922.7604, train_label_loss: 0.1685, \n"
     ]
    },
    {
     "name": "stdout",
     "output_type": "stream",
     "text": [
      "epoch: 1, [batch: 4032 / 6720], examples_per_second: 2918.3282, train_label_loss: 0.3928, \n"
     ]
    },
    {
     "name": "stdout",
     "output_type": "stream",
     "text": [
      "epoch: 1, [batch: 4704 / 6720], examples_per_second: 2918.6816, train_label_loss: 0.4085, \n"
     ]
    },
    {
     "name": "stdout",
     "output_type": "stream",
     "text": [
      "epoch: 1, [batch: 5376 / 6720], examples_per_second: 2878.0692, train_label_loss: 0.1623, \n"
     ]
    },
    {
     "name": "stdout",
     "output_type": "stream",
     "text": [
      "epoch: 1, [batch: 6048 / 6720], examples_per_second: 2893.7276, train_label_loss: 0.0980, \n"
     ]
    },
    {
     "name": "stdout",
     "output_type": "stream",
     "text": [
      "=============================================================\n",
      "epoch: 1, source_val_acc_label: 0.6115, target_val_acc_label: 0.9202, source_val_label_loss: 108.5831, target_val_label_loss: 444.5653, \n",
      "=============================================================\n"
     ]
    },
    {
     "name": "stdout",
     "output_type": "stream",
     "text": [
      "New best\n"
     ]
    },
    {
     "name": "stdout",
     "output_type": "stream",
     "text": [
      "epoch: 2, [batch: 1 / 6720], examples_per_second: 3.2645, train_label_loss: 197.5786, \n"
     ]
    },
    {
     "name": "stdout",
     "output_type": "stream",
     "text": [
      "epoch: 2, [batch: 672 / 6720], examples_per_second: 2961.2000, train_label_loss: 0.7388, \n"
     ]
    },
    {
     "name": "stdout",
     "output_type": "stream",
     "text": [
      "epoch: 2, [batch: 1344 / 6720], examples_per_second: 3290.8165, train_label_loss: 0.3736, \n"
     ]
    },
    {
     "name": "stdout",
     "output_type": "stream",
     "text": [
      "epoch: 2, [batch: 2016 / 6720], examples_per_second: 3501.3686, train_label_loss: 0.5443, \n"
     ]
    },
    {
     "name": "stdout",
     "output_type": "stream",
     "text": [
      "epoch: 2, [batch: 2688 / 6720], examples_per_second: 3614.4880, train_label_loss: 0.3782, \n"
     ]
    },
    {
     "name": "stdout",
     "output_type": "stream",
     "text": [
      "epoch: 2, [batch: 3360 / 6720], examples_per_second: 2965.7465, train_label_loss: 0.1497, \n"
     ]
    },
    {
     "name": "stdout",
     "output_type": "stream",
     "text": [
      "epoch: 2, [batch: 4032 / 6720], examples_per_second: 3021.0146, train_label_loss: 0.2637, \n"
     ]
    },
    {
     "name": "stdout",
     "output_type": "stream",
     "text": [
      "epoch: 2, [batch: 4704 / 6720], examples_per_second: 2958.5950, train_label_loss: 0.1701, \n"
     ]
    },
    {
     "name": "stdout",
     "output_type": "stream",
     "text": [
      "epoch: 2, [batch: 5376 / 6720], examples_per_second: 2464.0374, train_label_loss: 0.2748, \n"
     ]
    },
    {
     "name": "stdout",
     "output_type": "stream",
     "text": [
      "epoch: 2, [batch: 6048 / 6720], examples_per_second: 2289.9098, train_label_loss: 0.6734, \n"
     ]
    },
    {
     "name": "stdout",
     "output_type": "stream",
     "text": [
      "=============================================================\n",
      "epoch: 2, source_val_acc_label: 0.9061, target_val_acc_label: 0.8738, source_val_label_loss: 0.2715, target_val_label_loss: 287.6520, \n",
      "=============================================================\n"
     ]
    },
    {
     "name": "stdout",
     "output_type": "stream",
     "text": [
      "epoch: 3, [batch: 1 / 6720], examples_per_second: 2.3264, train_label_loss: 0.1019, \n"
     ]
    },
    {
     "name": "stdout",
     "output_type": "stream",
     "text": [
      "epoch: 3, [batch: 672 / 6720], examples_per_second: 2289.5777, train_label_loss: 0.1623, \n"
     ]
    },
    {
     "name": "stdout",
     "output_type": "stream",
     "text": [
      "epoch: 3, [batch: 1344 / 6720], examples_per_second: 2456.7974, train_label_loss: 0.1775, \n"
     ]
    },
    {
     "name": "stdout",
     "output_type": "stream",
     "text": [
      "epoch: 3, [batch: 2016 / 6720], examples_per_second: 2615.4130, train_label_loss: 0.2445, \n"
     ]
    },
    {
     "name": "stdout",
     "output_type": "stream",
     "text": [
      "epoch: 3, [batch: 2688 / 6720], examples_per_second: 2612.2232, train_label_loss: 0.2618, \n"
     ]
    },
    {
     "name": "stdout",
     "output_type": "stream",
     "text": [
      "epoch: 3, [batch: 3360 / 6720], examples_per_second: 2478.9495, train_label_loss: 0.3747, \n"
     ]
    },
    {
     "name": "stdout",
     "output_type": "stream",
     "text": [
      "epoch: 3, [batch: 4032 / 6720], examples_per_second: 2326.5249, train_label_loss: 0.2327, \n"
     ]
    },
    {
     "name": "stdout",
     "output_type": "stream",
     "text": [
      "epoch: 3, [batch: 4704 / 6720], examples_per_second: 2310.4480, train_label_loss: 0.1705, \n"
     ]
    },
    {
     "name": "stdout",
     "output_type": "stream",
     "text": [
      "epoch: 3, [batch: 5376 / 6720], examples_per_second: 2313.3256, train_label_loss: 0.1410, \n"
     ]
    },
    {
     "name": "stdout",
     "output_type": "stream",
     "text": [
      "epoch: 3, [batch: 6048 / 6720], examples_per_second: 2344.4659, train_label_loss: 0.1077, \n"
     ]
    },
    {
     "name": "stdout",
     "output_type": "stream",
     "text": [
      "=============================================================\n",
      "epoch: 3, source_val_acc_label: 0.9155, target_val_acc_label: 0.8831, source_val_label_loss: 0.2338, target_val_label_loss: 224.9384, \n",
      "=============================================================\n"
     ]
    },
    {
     "name": "stdout",
     "output_type": "stream",
     "text": [
      "epoch: 4, [batch: 1 / 6720], examples_per_second: 2.2754, train_label_loss: 0.1940, \n"
     ]
    },
    {
     "name": "stdout",
     "output_type": "stream",
     "text": [
      "epoch: 4, [batch: 672 / 6720], examples_per_second: 2336.8544, train_label_loss: 0.1530, \n"
     ]
    },
    {
     "name": "stdout",
     "output_type": "stream",
     "text": [
      "epoch: 4, [batch: 1344 / 6720], examples_per_second: 2365.4638, train_label_loss: 0.3035, \n"
     ]
    },
    {
     "name": "stdout",
     "output_type": "stream",
     "text": [
      "epoch: 4, [batch: 2016 / 6720], examples_per_second: 2570.9289, train_label_loss: 0.1844, \n"
     ]
    },
    {
     "name": "stdout",
     "output_type": "stream",
     "text": [
      "epoch: 4, [batch: 2688 / 6720], examples_per_second: 2603.5934, train_label_loss: 0.3402, \n"
     ]
    },
    {
     "name": "stdout",
     "output_type": "stream",
     "text": [
      "epoch: 4, [batch: 3360 / 6720], examples_per_second: 2598.5087, train_label_loss: 0.2008, \n"
     ]
    },
    {
     "name": "stdout",
     "output_type": "stream",
     "text": [
      "epoch: 4, [batch: 4032 / 6720], examples_per_second: 2300.2570, train_label_loss: 0.1464, \n"
     ]
    },
    {
     "name": "stdout",
     "output_type": "stream",
     "text": [
      "epoch: 4, [batch: 4704 / 6720], examples_per_second: 2301.3425, train_label_loss: 0.3310, \n"
     ]
    },
    {
     "name": "stdout",
     "output_type": "stream",
     "text": [
      "epoch: 4, [batch: 5376 / 6720], examples_per_second: 2302.1220, train_label_loss: 0.0576, \n"
     ]
    },
    {
     "name": "stdout",
     "output_type": "stream",
     "text": [
      "epoch: 4, [batch: 6048 / 6720], examples_per_second: 2301.1578, train_label_loss: 0.1645, \n"
     ]
    },
    {
     "name": "stdout",
     "output_type": "stream",
     "text": [
      "=============================================================\n",
      "epoch: 4, source_val_acc_label: 0.9223, target_val_acc_label: 0.8788, source_val_label_loss: 0.2192, target_val_label_loss: 229.3624, \n",
      "=============================================================\n"
     ]
    },
    {
     "name": "stdout",
     "output_type": "stream",
     "text": [
      "epoch: 5, [batch: 1 / 6720], examples_per_second: 2.2551, train_label_loss: 0.0983, \n"
     ]
    },
    {
     "name": "stdout",
     "output_type": "stream",
     "text": [
      "epoch: 5, [batch: 672 / 6720], examples_per_second: 2384.1329, train_label_loss: 0.0995, \n"
     ]
    },
    {
     "name": "stdout",
     "output_type": "stream",
     "text": [
      "epoch: 5, [batch: 1344 / 6720], examples_per_second: 2302.3371, train_label_loss: 0.4557, \n"
     ]
    },
    {
     "name": "stdout",
     "output_type": "stream",
     "text": [
      "epoch: 5, [batch: 2016 / 6720], examples_per_second: 2572.4228, train_label_loss: 0.2826, \n"
     ]
    },
    {
     "name": "stdout",
     "output_type": "stream",
     "text": [
      "epoch: 5, [batch: 2688 / 6720], examples_per_second: 2621.9734, train_label_loss: 0.1722, \n"
     ]
    },
    {
     "name": "stdout",
     "output_type": "stream",
     "text": [
      "epoch: 5, [batch: 3360 / 6720], examples_per_second: 2708.6931, train_label_loss: 0.2157, \n"
     ]
    },
    {
     "name": "stdout",
     "output_type": "stream",
     "text": [
      "epoch: 5, [batch: 4032 / 6720], examples_per_second: 2332.7682, train_label_loss: 0.0607, \n"
     ]
    },
    {
     "name": "stdout",
     "output_type": "stream",
     "text": [
      "epoch: 5, [batch: 4704 / 6720], examples_per_second: 2306.9029, train_label_loss: 0.0611, \n"
     ]
    },
    {
     "name": "stdout",
     "output_type": "stream",
     "text": [
      "epoch: 5, [batch: 5376 / 6720], examples_per_second: 2312.2160, train_label_loss: 0.0707, \n"
     ]
    },
    {
     "name": "stdout",
     "output_type": "stream",
     "text": [
      "epoch: 5, [batch: 6048 / 6720], examples_per_second: 2319.3612, train_label_loss: 0.2227, \n"
     ]
    },
    {
     "name": "stdout",
     "output_type": "stream",
     "text": [
      "=============================================================\n",
      "epoch: 5, source_val_acc_label: 0.9323, target_val_acc_label: 0.8460, source_val_label_loss: 0.1902, target_val_label_loss: 312.8307, \n",
      "=============================================================\n"
     ]
    },
    {
     "name": "stdout",
     "output_type": "stream",
     "text": [
      "Patience (3) exhausted\n"
     ]
    }
   ],
   "source": [
    "###################################\n",
    "# train\n",
    "###################################\n",
    "jig = PTN_Train_Eval_Test_Jig(model, p.BEST_MODEL_PATH, p.device)\n",
    "\n",
    "jig.train(\n",
    "    train_iterable=datasets.source.processed.train,\n",
    "    source_val_iterable=datasets.source.processed.val,\n",
    "    target_val_iterable=datasets.target.processed.val,\n",
    "    num_epochs=p.n_epoch,\n",
    "    num_logs_per_epoch=p.NUM_LOGS_PER_EPOCH,\n",
    "    patience=p.patience,\n",
    "    optimizer=optimizer,\n",
    "    criteria_for_best=p.criteria_for_best,\n",
    ")"
   ]
  },
  {
   "cell_type": "code",
   "execution_count": 23,
   "id": "31e8fabf",
   "metadata": {
    "execution": {
     "iopub.execute_input": "2022-03-21T05:40:52.700149Z",
     "iopub.status.busy": "2022-03-21T05:40:52.699778Z",
     "iopub.status.idle": "2022-03-21T05:40:52.730475Z",
     "shell.execute_reply": "2022-03-21T05:40:52.729662Z"
    },
    "papermill": {
     "duration": 0.073528,
     "end_time": "2022-03-21T05:40:52.730636",
     "exception": false,
     "start_time": "2022-03-21T05:40:52.657108",
     "status": "completed"
    },
    "tags": []
   },
   "outputs": [],
   "source": [
    "total_experiment_time_secs = time.time() - start_time_secs"
   ]
  },
  {
   "cell_type": "code",
   "execution_count": 24,
   "id": "87b9595b",
   "metadata": {
    "execution": {
     "iopub.execute_input": "2022-03-21T05:40:52.821787Z",
     "iopub.status.busy": "2022-03-21T05:40:52.821196Z",
     "iopub.status.idle": "2022-03-21T05:44:52.250595Z",
     "shell.execute_reply": "2022-03-21T05:44:52.249851Z"
    },
    "papermill": {
     "duration": 239.475761,
     "end_time": "2022-03-21T05:44:52.250777",
     "exception": false,
     "start_time": "2022-03-21T05:40:52.775016",
     "status": "completed"
    },
    "tags": []
   },
   "outputs": [],
   "source": [
    "###################################\n",
    "# Evaluate the model\n",
    "###################################\n",
    "source_test_label_accuracy, source_test_label_loss = jig.test(datasets.source.processed.test)\n",
    "target_test_label_accuracy, target_test_label_loss = jig.test(datasets.target.processed.test)\n",
    "\n",
    "source_val_label_accuracy, source_val_label_loss = jig.test(datasets.source.processed.val)\n",
    "target_val_label_accuracy, target_val_label_loss = jig.test(datasets.target.processed.val)\n",
    "\n",
    "history = jig.get_history()\n",
    "\n",
    "total_epochs_trained = len(history[\"epoch_indices\"])\n",
    "\n",
    "val_dl = Iterable_Aggregator((datasets.source.original.val,datasets.target.original.val))\n",
    "\n",
    "confusion = ptn_confusion_by_domain_over_dataloader(model, p.device, val_dl)\n",
    "per_domain_accuracy = per_domain_accuracy_from_confusion(confusion)\n",
    "\n",
    "# Add a key to per_domain_accuracy for if it was a source domain\n",
    "for domain, accuracy in per_domain_accuracy.items():\n",
    "    per_domain_accuracy[domain] = {\n",
    "        \"accuracy\": accuracy,\n",
    "        \"source?\": domain in p.domains_source\n",
    "    }\n",
    "\n",
    "# Do an independent accuracy assesment JUST TO BE SURE!\n",
    "# _source_test_label_accuracy = independent_accuracy_assesment(model, datasets.source.processed.test, p.device)\n",
    "# _target_test_label_accuracy = independent_accuracy_assesment(model, datasets.target.processed.test, p.device)\n",
    "# _source_val_label_accuracy = independent_accuracy_assesment(model, datasets.source.processed.val, p.device)\n",
    "# _target_val_label_accuracy = independent_accuracy_assesment(model, datasets.target.processed.val, p.device)\n",
    "\n",
    "# assert(_source_test_label_accuracy == source_test_label_accuracy)\n",
    "# assert(_target_test_label_accuracy == target_test_label_accuracy)\n",
    "# assert(_source_val_label_accuracy == source_val_label_accuracy)\n",
    "# assert(_target_val_label_accuracy == target_val_label_accuracy)\n",
    "\n",
    "experiment = {\n",
    "    \"experiment_name\": p.experiment_name,\n",
    "    \"parameters\": dict(p),\n",
    "    \"results\": {\n",
    "        \"source_test_label_accuracy\": source_test_label_accuracy,\n",
    "        \"source_test_label_loss\": source_test_label_loss,\n",
    "        \"target_test_label_accuracy\": target_test_label_accuracy,\n",
    "        \"target_test_label_loss\": target_test_label_loss,\n",
    "        \"source_val_label_accuracy\": source_val_label_accuracy,\n",
    "        \"source_val_label_loss\": source_val_label_loss,\n",
    "        \"target_val_label_accuracy\": target_val_label_accuracy,\n",
    "        \"target_val_label_loss\": target_val_label_loss,\n",
    "        \"total_epochs_trained\": total_epochs_trained,\n",
    "        \"total_experiment_time_secs\": total_experiment_time_secs,\n",
    "        \"confusion\": confusion,\n",
    "        \"per_domain_accuracy\": per_domain_accuracy,\n",
    "    },\n",
    "    \"history\": history,\n",
    "    \"dataset_metrics\": get_dataset_metrics(datasets, \"ptn\"),\n",
    "}"
   ]
  },
  {
   "cell_type": "code",
   "execution_count": 25,
   "id": "54a21829",
   "metadata": {
    "execution": {
     "iopub.execute_input": "2022-03-21T05:44:52.338888Z",
     "iopub.status.busy": "2022-03-21T05:44:52.338500Z",
     "iopub.status.idle": "2022-03-21T05:44:52.549995Z",
     "shell.execute_reply": "2022-03-21T05:44:52.550674Z"
    },
    "papermill": {
     "duration": 0.255794,
     "end_time": "2022-03-21T05:44:52.550882",
     "exception": false,
     "start_time": "2022-03-21T05:44:52.295088",
     "status": "completed"
    },
    "tags": []
   },
   "outputs": [
    {
     "data": {
      "image/png": "[encoded data removed]",
      "text/plain": [
       "<Figure size 1080x504 with 1 Axes>"
      ]
     },
     "metadata": {
      "needs_background": "light"
     },
     "output_type": "display_data"
    }
   ],
   "source": [
    "ax = get_loss_curve(experiment)\n",
    "plt.show()"
   ]
  },
  {
   "cell_type": "code",
   "execution_count": 26,
   "id": "fd8a0f60",
   "metadata": {
    "execution": {
     "iopub.execute_input": "2022-03-21T05:44:52.641215Z",
     "iopub.status.busy": "2022-03-21T05:44:52.640842Z",
     "iopub.status.idle": "2022-03-21T05:44:52.988545Z",
     "shell.execute_reply": "2022-03-21T05:44:52.989244Z"
    },
    "papermill": {
     "duration": 0.393088,
     "end_time": "2022-03-21T05:44:52.989465",
     "exception": false,
     "start_time": "2022-03-21T05:44:52.596377",
     "status": "completed"
    },
    "tags": []
   },
   "outputs": [
    {
     "data": {
      "text/plain": [
       "<AxesSubplot:title={'center':'Results'}>"
      ]
     },
     "execution_count": 26,
     "metadata": {},
     "output_type": "execute_result"
    },
    {
     "data": {
      "image/png": "[encoded data removed]",
      "text/plain": [
       "<Figure size 1080x504 with 1 Axes>"
      ]
     },
     "metadata": {
      "needs_background": "light"
     },
     "output_type": "display_data"
    }
   ],
   "source": [
    "get_results_table(experiment)"
   ]
  },
  {
   "cell_type": "code",
   "execution_count": 27,
   "id": "cf8dc689",
   "metadata": {
    "execution": {
     "iopub.execute_input": "2022-03-21T05:44:53.084525Z",
     "iopub.status.busy": "2022-03-21T05:44:53.083880Z",
     "iopub.status.idle": "2022-03-21T05:44:53.341928Z",
     "shell.execute_reply": "2022-03-21T05:44:53.341095Z"
    },
    "papermill": {
     "duration": 0.305455,
     "end_time": "2022-03-21T05:44:53.342103",
     "exception": false,
     "start_time": "2022-03-21T05:44:53.036648",
     "status": "completed"
    },
    "tags": []
   },
   "outputs": [
    {
     "data": {
      "text/plain": [
       "<AxesSubplot:title={'center':'Per Domain Validation Accuracy'}, xlabel='domain'>"
      ]
     },
     "execution_count": 27,
     "metadata": {},
     "output_type": "execute_result"
    },
    {
     "data": {
      "image/png": "[encoded data removed]",
      "text/plain": [
       "<Figure size 1080x504 with 1 Axes>"
      ]
     },
     "metadata": {
      "needs_background": "light"
     },
     "output_type": "display_data"
    }
   ],
   "source": [
    "get_domain_accuracies(experiment)"
   ]
  },
  {
   "cell_type": "code",
   "execution_count": 28,
   "id": "a74ae082",
   "metadata": {
    "execution": {
     "iopub.execute_input": "2022-03-21T05:44:53.434287Z",
     "iopub.status.busy": "2022-03-21T05:44:53.433646Z",
     "iopub.status.idle": "2022-03-21T05:44:53.457502Z",
     "shell.execute_reply": "2022-03-21T05:44:53.456709Z"
    },
    "papermill": {
     "duration": 0.069813,
     "end_time": "2022-03-21T05:44:53.457664",
     "exception": false,
     "start_time": "2022-03-21T05:44:53.387851",
     "status": "completed"
    },
    "tags": []
   },
   "outputs": [
    {
     "name": "stdout",
     "output_type": "stream",
     "text": [
      "Source Test Label Accuracy: 0.6094401041666667 Target Test Label Accuracy: 0.9190165544332211\n",
      "Source Val Label Accuracy: 0.6114908854166666 Target Val Label Accuracy: 0.9201626712328768\n"
     ]
    }
   ],
   "source": [
    "print(\"Source Test Label Accuracy:\", experiment[\"results\"][\"source_test_label_accuracy\"], \"Target Test Label Accuracy:\", experiment[\"results\"][\"target_test_label_accuracy\"])\n",
    "print(\"Source Val Label Accuracy:\", experiment[\"results\"][\"source_val_label_accuracy\"], \"Target Val Label Accuracy:\", experiment[\"results\"][\"target_val_label_accuracy\"])"
   ]
  },
  {
   "cell_type": "code",
   "execution_count": 29,
   "id": "dacca602",
   "metadata": {
    "execution": {
     "iopub.execute_input": "2022-03-21T05:44:53.550463Z",
     "iopub.status.busy": "2022-03-21T05:44:53.550088Z",
     "iopub.status.idle": "2022-03-21T05:44:53.577869Z",
     "shell.execute_reply": "2022-03-21T05:44:53.578542Z"
    },
    "papermill": {
     "duration": 0.074949,
     "end_time": "2022-03-21T05:44:53.578737",
     "exception": false,
     "start_time": "2022-03-21T05:44:53.503788",
     "status": "completed"
    },
    "tags": [
     "experiment_json"
    ]
   },
   "outputs": [
    {
     "data": {
      "text/plain": [
       "'{\"experiment_name\": \"tl_1v2:cores-oracle.run1.framed\", \"parameters\": {\"experiment_name\": \"tl_1v2:cores-oracle.run1.framed\", \"device\": \"cuda\", \"lr\": 0.0001, \"n_shot\": 3, \"n_query\": 2, \"train_k_factor\": 3, \"val_k_factor\": 2, \"test_k_factor\": 2, \"torch_default_dtype\": \"torch.float32\", \"n_epoch\": 50, \"patience\": 3, \"criteria_for_best\": \"target_accuracy\", \"x_net\": [{\"class\": \"nnReshape\", \"kargs\": {\"shape\": [-1, 1, 2, 256]}}, {\"class\": \"Conv2d\", \"kargs\": {\"in_channels\": 1, \"out_channels\": 256, \"kernel_size\": [1, 7], \"bias\": false, \"padding\": [0, 3]}}, {\"class\": \"ReLU\", \"kargs\": {\"inplace\": true}}, {\"class\": \"BatchNorm2d\", \"kargs\": {\"num_features\": 256}}, {\"class\": \"Conv2d\", \"kargs\": {\"in_channels\": 256, \"out_channels\": 80, \"kernel_size\": [2, 7], \"bias\": true, \"padding\": [0, 3]}}, {\"class\": \"ReLU\", \"kargs\": {\"inplace\": true}}, {\"class\": \"BatchNorm2d\", \"kargs\": {\"num_features\": 80}}, {\"class\": \"Flatten\", \"kargs\": {}}, {\"class\": \"Linear\", \"kargs\": {\"in_features\": 20480, \"out_features\": 256}}, {\"class\": \"ReLU\", \"kargs\": {\"inplace\": true}}, {\"class\": \"BatchNorm1d\", \"kargs\": {\"num_features\": 256}}, {\"class\": \"Linear\", \"kargs\": {\"in_features\": 256, \"out_features\": 256}}], \"NUM_LOGS_PER_EPOCH\": 10, \"BEST_MODEL_PATH\": \"./best_model.pth\", \"n_way\": 16, \"datasets\": [{\"labels\": [\"1-10.\", \"1-11.\", \"1-15.\", \"1-16.\", \"1-17.\", \"1-18.\", \"1-19.\", \"10-4.\", \"10-7.\", \"11-1.\", \"11-14.\", \"11-17.\", \"11-20.\", \"11-7.\", \"13-20.\", \"13-8.\", \"14-10.\", \"14-11.\", \"14-14.\", \"14-7.\", \"15-1.\", \"15-20.\", \"16-1.\", \"16-16.\", \"17-10.\", \"17-11.\", \"17-2.\", \"19-1.\", \"19-16.\", \"19-19.\", \"19-20.\", \"19-3.\", \"2-10.\", \"2-11.\", \"2-17.\", \"2-18.\", \"2-20.\", \"2-3.\", \"2-4.\", \"2-5.\", \"2-6.\", \"2-7.\", \"2-8.\", \"3-13.\", \"3-18.\", \"3-3.\", \"4-1.\", \"4-10.\", \"4-11.\", \"4-19.\", \"5-5.\", \"6-15.\", \"7-10.\", \"7-14.\", \"8-18.\", \"8-20.\", \"8-3.\", \"8-8.\"], \"domains\": [1, 2, 3, 4, 5], \"num_examples_per_domain_per_label\": -1, \"pickle_path\": \"/root/csc500-main/datasets/cores.stratified_ds.2022A.pkl\", \"source_or_target_dataset\": \"target\", \"x_transforms\": [], \"episode_transforms\": [], \"domain_prefix\": \"CORES_\"}, {\"labels\": [\"3123D52\", \"3123D65\", \"3123D79\", \"3123D80\", \"3123D54\", \"3123D70\", \"3123D7B\", \"3123D89\", \"3123D58\", \"3123D76\", \"3123D7D\", \"3123EFE\", \"3123D64\", \"3123D78\", \"3123D7E\", \"3124E4A\"], \"domains\": [32, 38, 8, 44, 14, 50, 20, 26], \"num_examples_per_domain_per_label\": 2000, \"pickle_path\": \"/root/csc500-main/datasets/oracle.Run1_framed_2000Examples_stratified_ds.2022A.pkl\", \"source_or_target_dataset\": \"source\", \"x_transforms\": [], \"episode_transforms\": [], \"domain_prefix\": \"ORACLE.run1_\"}], \"dataset_seed\": 1337, \"seed\": 1337, \"x_shape\": [2, 256], \"domains_source\": [\"ORACLE.run1_32\", \"ORACLE.run1_38\", \"ORACLE.run1_8\", \"ORACLE.run1_44\", \"ORACLE.run1_14\", \"ORACLE.run1_50\", \"ORACLE.run1_20\", \"ORACLE.run1_26\"], \"domains_target\": [\"CORES_1\", \"CORES_2\", \"CORES_3\", \"CORES_4\", \"CORES_5\"]}, \"results\": {\"source_test_label_accuracy\": 0.6094401041666667, \"source_test_label_loss\": 108.56092834472656, \"target_test_label_accuracy\": 0.9190165544332211, \"target_test_label_loss\": 388.7978210449219, \"source_val_label_accuracy\": 0.6114908854166666, \"source_val_label_loss\": 108.58313751220703, \"target_val_label_accuracy\": 0.9201626712328768, \"target_val_label_loss\": 444.5653381347656, \"total_epochs_trained\": 5, \"total_experiment_time_secs\": 1267.9427371025085, \"confusion\": {\"ORACLE.run1_14\": {\"15\": {\"15\": 240}, \"3\": {\"3\": 233, \"0\": 4, \"7\": 1, \"13\": 1, \"14\": 1}, \"6\": {\"6\": 107, \"13\": 33, \"3\": 63, \"14\": 23, \"7\": 3, \"2\": 9, \"11\": 2}, \"1\": {\"1\": 240}, \"8\": {\"8\": 236, \"0\": 4}, \"10\": {\"10\": 240}, \"9\": {\"9\": 240}, \"13\": {\"5\": 19, \"14\": 36, \"4\": 9, \"6\": 51, \"15\": 16, \"2\": 38, \"13\": 32, \"3\": 27, \"11\": 5, \"0\": 1, \"10\": 4, \"7\": 2}, \"12\": {\"12\": 240}, \"5\": {\"5\": 229, \"2\": 8, \"14\": 2, \"4\": 1}, \"0\": {\"3\": 59, \"8\": 58, \"0\": 100, \"14\": 9, \"10\": 5, \"2\": 2, \"5\": 5, \"7\": 2}, \"2\": {\"4\": 33, \"5\": 79, \"14\": 24, \"3\": 15, \"13\": 9, \"2\": 59, \"6\": 14, \"7\": 7}, \"11\": {\"11\": 227, \"0\": 10, \"8\": 1, \"14\": 2}, \"14\": {\"14\": 156, \"6\": 6, \"2\": 43, \"13\": 13, \"7\": 3, \"3\": 15, \"0\": 3, \"5\": 1}, \"7\": {\"7\": 209, \"3\": 4, \"5\": 13, \"2\": 10, \"14\": 4}, \"4\": {\"4\": 238, \"5\": 2}}, \"ORACLE.run1_20\": {\"3\": {\"3\": 183, \"1\": 3, \"5\": 15, \"9\": 16, \"0\": 1, \"8\": 22}, \"15\": {\"15\": 210, \"12\": 18, \"1\": 8, \"2\": 3, \"9\": 1}, \"8\": {\"8\": 234, \"14\": 3, \"3\": 3}, \"4\": {\"4\": 239, \"12\": 1}, \"14\": {\"14\": 239, \"8\": 1}, \"0\": {\"0\": 238, \"5\": 1, \"3\": 1}, \"7\": {\"7\": 220, \"9\": 12, \"2\": 5, \"6\": 2, \"12\": 1}, \"6\": {\"6\": 237, \"7\": 3}, \"10\": {\"10\": 240}, \"5\": {\"5\": 220, \"1\": 12, \"3\": 8}, \"2\": {\"2\": 209, \"12\": 28, \"15\": 1, \"7\": 2}, \"12\": {\"12\": 209, \"2\": 25, \"15\": 6}, \"9\": {\"9\": 220, \"7\": 7, \"1\": 11, \"3\": 2}, \"1\": {\"1\": 220, \"5\": 13, \"9\": 6, \"3\": 1}, \"11\": {\"11\": 240}, \"13\": {\"13\": 238, \"12\": 1, \"15\": 1}}, \"ORACLE.run1_38\": {\"5\": {\"12\": 49, \"8\": 60, \"5\": 58, \"9\": 33, \"14\": 5, \"15\": 18, \"2\": 13, \"7\": 4}, \"8\": {\"2\": 27, \"8\": 46, \"12\": 59, \"9\": 28, \"14\": 9, \"5\": 48, \"15\": 13, \"7\": 10}, \"11\": {\"11\": 228, \"3\": 12}, \"1\": {\"1\": 145, \"6\": 95}, \"10\": {\"0\": 65, \"10\": 155, \"13\": 15, \"4\": 5}, \"15\": {\"15\": 173, \"12\": 38, \"6\": 14, \"8\": 5, \"1\": 4, \"5\": 6}, \"3\": {\"3\": 231, \"11\": 9}, \"7\": {\"7\": 116, \"2\": 31, \"14\": 73, \"4\": 1, \"9\": 10, \"13\": 5, \"0\": 3, \"8\": 1}, \"4\": {\"4\": 185, \"0\": 22, \"10\": 9, \"13\": 23, \"7\": 1}, \"14\": {\"2\": 44, \"7\": 85, \"14\": 76, \"9\": 25, \"13\": 2, \"8\": 3, \"5\": 4, \"0\": 1}, \"9\": {\"9\": 95, \"5\": 25, \"2\": 68, \"8\": 26, \"14\": 15, \"7\": 11}, \"12\": {\"12\": 201, \"5\": 20, \"8\": 15, \"15\": 4}, \"6\": {\"1\": 89, \"6\": 151}, \"2\": {\"9\": 66, \"7\": 26, \"5\": 6, \"14\": 32, \"2\": 100, \"8\": 10}, \"0\": {\"13\": 67, \"14\": 6, \"0\": 51, \"7\": 14, \"10\": 75, \"3\": 5, \"4\": 20, \"2\": 2}, \"13\": {\"13\": 132, \"4\": 30, \"0\": 54, \"10\": 15, \"7\": 6, \"14\": 3}}, \"ORACLE.run1_8\": {\"9\": {\"9\": 240}, \"10\": {\"5\": 30, \"13\": 69, \"6\": 29, \"1\": 16, \"10\": 90, \"11\": 4, \"7\": 2}, \"13\": {\"13\": 146, \"10\": 54, \"7\": 30, \"5\": 10}, \"0\": {\"0\": 117, \"14\": 97, \"9\": 19, \"11\": 4, \"8\": 2, \"1\": 1}, \"1\": {\"11\": 43, \"1\": 149, \"5\": 24, \"6\": 12, \"10\": 10, \"13\": 2}, \"15\": {\"15\": 221, \"12\": 19}, \"5\": {\"5\": 141, \"10\": 53, \"11\": 11, \"1\": 12, \"4\": 2, \"9\": 1, \"13\": 19, \"6\": 1}, \"3\": {\"3\": 240}, \"6\": {\"6\": 219, \"7\": 17, \"1\": 3, \"11\": 1}, \"11\": {\"1\": 88, \"11\": 102, \"8\": 6, \"14\": 7, \"4\": 23, \"6\": 1, \"10\": 4, \"5\": 8, \"9\": 1}, \"8\": {\"8\": 189, \"4\": 27, \"6\": 15, \"11\": 6, \"14\": 3}, \"4\": {\"4\": 232, \"14\": 4, \"8\": 3, \"11\": 1}, \"12\": {\"12\": 207, \"15\": 33}, \"14\": {\"14\": 201, \"4\": 37, \"11\": 1, \"8\": 1}, \"2\": {\"3\": 49, \"15\": 4, \"2\": 180, \"12\": 7}, \"7\": {\"7\": 217, \"6\": 21, \"13\": 2}}, \"ORACLE.run1_50\": {\"7\": {\"7\": 159, \"4\": 75, \"5\": 6}, \"3\": {\"11\": 101, \"3\": 86, \"6\": 12, \"12\": 30, \"5\": 4, \"15\": 5, \"13\": 2}, \"8\": {\"8\": 209, \"1\": 28, \"10\": 3}, \"2\": {\"2\": 112, \"14\": 103, \"0\": 25}, \"14\": {\"2\": 108, \"14\": 88, \"0\": 44}, \"4\": {\"7\": 105, \"4\": 115, \"5\": 17, \"15\": 2, \"9\": 1}, \"6\": {\"12\": 77, \"6\": 51, \"9\": 38, \"15\": 46, \"11\": 7, \"5\": 15, \"3\": 6}, \"15\": {\"6\": 59, \"9\": 55, \"12\": 36, \"11\": 3, \"15\": 56, \"5\": 29, \"3\": 2}, \"10\": {\"10\": 217, \"0\": 10, \"8\": 12, \"1\": 1}, \"11\": {\"3\": 112, \"11\": 100, \"6\": 8, \"12\": 17, \"5\": 3}, \"13\": {\"13\": 218, \"1\": 20, \"3\": 2}, \"9\": {\"6\": 44, \"15\": 41, \"9\": 80, \"5\": 49, \"7\": 3, \"12\": 18, \"4\": 3, \"3\": 2}, \"0\": {\"14\": 57, \"0\": 139, \"10\": 17, \"2\": 27}, \"1\": {\"13\": 51, \"1\": 124, \"8\": 47, \"10\": 18}, \"12\": {\"11\": 17, \"12\": 75, \"6\": 64, \"9\": 23, \"5\": 6, \"3\": 17, \"15\": 38}, \"5\": {\"5\": 69, \"4\": 17, \"7\": 34, \"15\": 22, \"3\": 10, \"9\": 35, \"11\": 20, \"13\": 8, \"6\": 16, \"12\": 9}}, \"ORACLE.run1_32\": {\"8\": {\"2\": 24, \"14\": 61, \"8\": 79, \"0\": 56, \"7\": 14, \"15\": 1, \"5\": 4, \"4\": 1}, \"14\": {\"14\": 66, \"7\": 36, \"2\": 19, \"8\": 66, \"0\": 41, \"5\": 12}, \"2\": {\"2\": 173, \"4\": 54, \"1\": 2, \"8\": 3, \"3\": 8}, \"0\": {\"7\": 49, \"0\": 65, \"8\": 55, \"14\": 62, \"15\": 1, \"5\": 8}, \"1\": {\"2\": 4, \"1\": 79, \"4\": 50, \"13\": 33, \"3\": 73, \"14\": 1}, \"10\": {\"10\": 239, \"6\": 1}, \"11\": {\"11\": 150, \"9\": 86, \"13\": 4}, \"5\": {\"5\": 74, \"15\": 59, \"7\": 48, \"0\": 32, \"8\": 12, \"14\": 15}, \"15\": {\"7\": 43, \"15\": 137, \"0\": 4, \"5\": 54, \"8\": 1, \"14\": 1}, \"3\": {\"1\": 61, \"4\": 58, \"13\": 32, \"2\": 11, \"3\": 78}, \"12\": {\"12\": 239, \"9\": 1}, \"7\": {\"0\": 42, \"7\": 111, \"5\": 51, \"14\": 20, \"8\": 6, \"15\": 10}, \"13\": {\"1\": 38, \"13\": 118, \"11\": 16, \"3\": 37, \"9\": 12, \"2\": 7, \"4\": 12}, \"6\": {\"6\": 232, \"10\": 8}, \"4\": {\"2\": 56, \"4\": 101, \"13\": 5, \"3\": 42, \"1\": 36}, \"9\": {\"12\": 50, \"1\": 5, \"11\": 74, \"9\": 87, \"13\": 24}}, \"ORACLE.run1_26\": {\"4\": {\"4\": 238, \"13\": 2}, \"12\": {\"12\": 73, \"3\": 41, \"13\": 57, \"4\": 38, \"7\": 8, \"9\": 18, \"8\": 5}, \"10\": {\"14\": 68, \"10\": 95, \"15\": 22, \"2\": 1, \"0\": 44, \"6\": 7, \"5\": 3}, \"0\": {\"2\": 43, \"0\": 131, \"10\": 40, \"9\": 2, \"14\": 16, \"15\": 3, \"6\": 2, \"8\": 3}, \"13\": {\"8\": 6, \"4\": 74, \"13\": 97, \"9\": 4, \"2\": 13, \"7\": 1, \"12\": 23, \"3\": 22}, \"9\": {\"0\": 14, \"12\": 34, \"3\": 28, \"4\": 8, \"8\": 28, \"9\": 27, \"7\": 32, \"13\": 26, \"2\": 43}, \"3\": {\"12\": 56, \"13\": 62, \"9\": 17, \"4\": 38, \"3\": 43, \"7\": 15, \"8\": 7, \"2\": 2}, \"2\": {\"0\": 49, \"9\": 24, \"7\": 31, \"2\": 96, \"8\": 31, \"3\": 2, \"13\": 2, \"12\": 4, \"10\": 1}, \"5\": {\"5\": 77, \"11\": 28, \"6\": 44, \"15\": 30, \"1\": 57, \"14\": 4}, \"14\": {\"14\": 93, \"10\": 81, \"0\": 18, \"15\": 34, \"2\": 1, \"6\": 10, \"1\": 1, \"5\": 1, \"11\": 1}, \"8\": {\"7\": 59, \"9\": 44, \"8\": 50, \"2\": 46, \"3\": 15, \"13\": 9, \"12\": 11, \"0\": 5, \"4\": 1}, \"7\": {\"7\": 60, \"8\": 48, \"9\": 41, \"2\": 30, \"3\": 19, \"12\": 24, \"0\": 1, \"13\": 15, \"4\": 2}, \"6\": {\"5\": 44, \"6\": 67, \"11\": 10, \"14\": 11, \"1\": 23, \"15\": 72, \"10\": 13}, \"11\": {\"11\": 113, \"6\": 19, \"1\": 55, \"5\": 45, \"10\": 1, \"15\": 4, \"14\": 3}, \"15\": {\"14\": 41, \"5\": 29, \"11\": 11, \"10\": 30, \"15\": 65, \"6\": 37, \"1\": 23, \"0\": 4}, \"1\": {\"11\": 59, \"15\": 33, \"6\": 31, \"1\": 50, \"14\": 17, \"5\": 43, \"10\": 7}}, \"ORACLE.run1_44\": {\"12\": {\"12\": 113, \"3\": 126, \"0\": 1}, \"7\": {\"7\": 99, \"9\": 36, \"4\": 28, \"10\": 74, \"5\": 1, \"14\": 2}, \"5\": {\"2\": 23, \"5\": 50, \"14\": 70, \"15\": 25, \"8\": 3, \"4\": 38, \"7\": 6, \"1\": 15, \"9\": 4, \"10\": 6}, \"15\": {\"2\": 35, \"5\": 49, \"15\": 66, \"14\": 26, \"1\": 36, \"4\": 5, \"8\": 20, \"9\": 2, \"10\": 1}, \"8\": {\"0\": 54, \"8\": 91, \"1\": 66, \"15\": 14, \"2\": 8, \"5\": 6, \"14\": 1}, \"2\": {\"15\": 56, \"2\": 121, \"8\": 5, \"5\": 15, \"14\": 4, \"1\": 37, \"4\": 2}, \"13\": {\"13\": 176, \"6\": 58, \"9\": 6}, \"4\": {\"10\": 46, \"14\": 9, \"9\": 28, \"7\": 56, \"5\": 17, \"1\": 12, \"15\": 26, \"8\": 1, \"6\": 2, \"2\": 18, \"4\": 25}, \"0\": {\"8\": 26, \"0\": 212, \"1\": 1, \"3\": 1}, \"6\": {\"13\": 37, \"9\": 22, \"6\": 179, \"7\": 1, \"10\": 1}, \"9\": {\"4\": 19, \"5\": 17, \"14\": 27, \"7\": 42, \"13\": 38, \"9\": 42, \"6\": 21, \"15\": 3, \"10\": 30, \"2\": 1}, \"11\": {\"11\": 240}, \"10\": {\"7\": 76, \"9\": 39, \"4\": 29, \"10\": 73, \"15\": 1, \"1\": 5, \"6\": 5, \"14\": 7, \"2\": 3, \"5\": 1, \"8\": 1}, \"14\": {\"5\": 67, \"14\": 101, \"15\": 19, \"4\": 36, \"9\": 3, \"10\": 5, \"2\": 4, \"1\": 2, \"7\": 3}, \"1\": {\"1\": 107, \"15\": 27, \"8\": 57, \"2\": 43, \"5\": 4, \"0\": 1, \"4\": 1}, \"3\": {\"12\": 106, \"3\": 133, \"0\": 1}}, \"CORES_3\": {\"43\": {\"43\": 119, \"31\": 2, \"37\": 1, \"24\": 4, \"55\": 1, \"49\": 1}, \"9\": {\"9\": 134, \"20\": 2, \"27\": 4, \"48\": 10}, \"6\": {\"3\": 9, \"6\": 78, \"50\": 1}, \"3\": {\"6\": 12, \"46\": 4, \"44\": 6, \"3\": 105, \"50\": 17}, \"16\": {\"16\": 112, \"11\": 13, \"15\": 9}, \"51\": {\"51\": 126, \"36\": 2}, \"31\": {\"31\": 27, \"24\": 1}, \"46\": {\"46\": 102, \"44\": 3, \"3\": 3, \"21\": 3, \"50\": 13, \"0\": 2, \"5\": 4, \"40\": 3, \"30\": 1}, \"19\": {\"19\": 124}, \"8\": {\"8\": 131, \"20\": 9, \"4\": 4, \"27\": 6, \"9\": 2}, \"18\": {\"18\": 84}, \"37\": {\"37\": 25, \"34\": 3}, \"24\": {\"24\": 101, \"31\": 2, \"43\": 1}, \"10\": {\"10\": 64}, \"44\": {\"44\": 81, \"50\": 1, \"3\": 3, \"5\": 1, \"46\": 1, \"21\": 1}, \"14\": {\"14\": 29, \"13\": 9, \"39\": 1, \"56\": 1}, \"38\": {\"38\": 28}, \"53\": {\"53\": 137, \"15\": 1, \"19\": 2}, \"20\": {\"20\": 99, \"8\": 9, \"9\": 14, \"27\": 8, \"48\": 1, \"4\": 1}, \"32\": {\"32\": 28}, \"36\": {\"36\": 96, \"17\": 3, \"54\": 1}, \"33\": {\"33\": 26, \"27\": 2}, \"56\": {\"56\": 126, \"1\": 1, \"22\": 7, \"0\": 2}, \"23\": {\"23\": 126, \"19\": 3, \"26\": 1}, \"54\": {\"54\": 99, \"53\": 1}, \"21\": {\"21\": 115, \"46\": 7, \"44\": 1, \"50\": 2, \"40\": 1}, \"28\": {\"28\": 28}, \"26\": {\"26\": 24}, \"48\": {\"48\": 88, \"52\": 2, \"9\": 17, \"40\": 1, \"20\": 3, \"27\": 4, \"0\": 1}, \"52\": {\"52\": 116, \"27\": 1, \"48\": 1}, \"39\": {\"39\": 14, \"13\": 1, \"7\": 1}, \"22\": {\"22\": 121, \"0\": 10, \"56\": 9}, \"13\": {\"13\": 127, \"14\": 1}, \"2\": {\"51\": 2, \"2\": 21, \"36\": 5, \"32\": 2, \"17\": 1, \"8\": 1}, \"34\": {\"37\": 2, \"35\": 4, \"34\": 22, \"7\": 1, \"42\": 2, \"55\": 1}, \"27\": {\"27\": 112, \"48\": 7, \"9\": 9, \"8\": 3, \"33\": 1}, \"45\": {\"45\": 56, \"12\": 3, \"6\": 1}, \"35\": {\"35\": 21, \"24\": 1, \"42\": 1, \"34\": 2, \"49\": 1, \"55\": 2}, \"29\": {\"29\": 113, \"41\": 3, \"1\": 8, \"57\": 3, \"47\": 1}, \"25\": {\"25\": 136, \"15\": 6, \"16\": 2}, \"0\": {\"0\": 115, \"22\": 9}, \"41\": {\"41\": 18, \"29\": 5, \"52\": 1, \"47\": 4}, \"11\": {\"11\": 111, \"15\": 15, \"16\": 16}, \"5\": {\"5\": 108}, \"1\": {\"41\": 2, \"1\": 96, \"47\": 1, \"57\": 1}, \"57\": {\"57\": 101, \"41\": 2, \"1\": 6, \"29\": 7}, \"17\": {\"54\": 1, \"17\": 104, \"10\": 1, \"51\": 1, \"24\": 1}, \"7\": {\"37\": 4, \"39\": 2, \"7\": 19, \"29\": 1, \"14\": 3, \"13\": 4, \"34\": 2, \"26\": 1}, \"12\": {\"12\": 89, \"6\": 1, \"45\": 1, \"46\": 1}, \"47\": {\"47\": 88, \"1\": 4}, \"40\": {\"40\": 133, \"21\": 1, \"46\": 2}, \"15\": {\"15\": 126, \"11\": 10, \"16\": 6}, \"42\": {\"42\": 22, \"35\": 3, \"24\": 1, \"55\": 1, \"37\": 1}, \"55\": {\"55\": 132, \"42\": 4, \"34\": 5, \"37\": 2, \"43\": 3, \"13\": 1, \"49\": 1, \"35\": 2}, \"49\": {\"49\": 8, \"35\": 2, \"14\": 1, \"13\": 2, \"43\": 2, \"7\": 2, \"24\": 3}, \"30\": {\"30\": 115, \"0\": 1, \"40\": 3, \"22\": 1}, \"50\": {\"46\": 11, \"50\": 101, \"21\": 4, \"44\": 2, \"3\": 14, \"6\": 2}, \"4\": {\"4\": 129, \"20\": 2, \"48\": 2, \"9\": 2, \"27\": 1}}, \"CORES_4\": {\"35\": {\"14\": 1, \"35\": 19, \"37\": 3, \"49\": 2, \"41\": 2, \"7\": 3, \"42\": 2, \"23\": 1, \"31\": 1, \"24\": 1, \"36\": 1, \"55\": 1, \"54\": 1, \"2\": 2}, \"25\": {\"25\": 131, \"16\": 1, \"11\": 1, \"18\": 1}, \"24\": {\"24\": 53, \"43\": 3}, \"48\": {\"48\": 113, \"8\": 13, \"20\": 5, \"4\": 6, \"9\": 1}, \"51\": {\"51\": 138, \"36\": 6}, \"13\": {\"13\": 120}, \"14\": {\"14\": 12, \"39\": 1, \"37\": 2, \"52\": 1}, \"32\": {\"14\": 1, \"32\": 10, \"24\": 4, \"37\": 2, \"49\": 2, \"2\": 1, \"43\": 1, \"35\": 1, \"54\": 2}, \"30\": {\"30\": 43, \"21\": 1}, \"34\": {\"32\": 1, \"34\": 21, \"42\": 1, \"19\": 1}, \"9\": {\"9\": 128, \"8\": 3, \"4\": 1, \"20\": 3, \"48\": 1}, \"1\": {\"1\": 39, \"47\": 1}, \"0\": {\"0\": 78, \"56\": 2}, \"38\": {\"38\": 35, \"37\": 4, \"13\": 1}, \"22\": {\"22\": 108, \"46\": 16, \"5\": 2, \"44\": 2}, \"40\": {\"40\": 115, \"22\": 1, \"46\": 4}, \"6\": {\"6\": 94, \"50\": 7, \"3\": 6, \"5\": 5}, \"16\": {\"16\": 81, \"11\": 4, \"15\": 11}, \"11\": {\"11\": 100, \"16\": 2, \"15\": 2}, \"20\": {\"20\": 105, \"48\": 6, \"8\": 5, \"4\": 5, \"9\": 1}, \"17\": {\"17\": 80}, \"26\": {\"54\": 2, \"19\": 1, \"26\": 13, \"31\": 3, \"53\": 2, \"23\": 1, \"55\": 2}, \"54\": {\"54\": 101, \"42\": 1, \"53\": 1, \"36\": 2, \"33\": 1, \"19\": 1, \"23\": 1}, \"55\": {\"55\": 135, \"32\": 3, \"54\": 7, \"35\": 1, \"43\": 3, \"42\": 1, \"33\": 1, \"41\": 2, \"19\": 1}, \"50\": {\"6\": 11, \"50\": 106, \"3\": 11, \"5\": 2, \"18\": 1, \"44\": 1}, \"19\": {\"19\": 134, \"31\": 3, \"26\": 1, \"42\": 1, \"23\": 2, \"16\": 1}, \"44\": {\"44\": 118, \"22\": 1, \"46\": 3}, \"47\": {\"47\": 112, \"1\": 2, \"57\": 3, \"29\": 3}, \"33\": {\"33\": 35, \"39\": 1}, \"5\": {\"44\": 2, \"5\": 99, \"6\": 4, \"3\": 2, \"50\": 1}, \"18\": {\"18\": 106, \"25\": 2}, \"21\": {\"21\": 124}, \"41\": {\"39\": 2, \"7\": 2, \"41\": 22, \"43\": 2, \"29\": 1, \"55\": 1, \"32\": 2, \"14\": 1, \"38\": 2, \"2\": 1}, \"23\": {\"54\": 2, \"23\": 92, \"42\": 3, \"31\": 3, \"53\": 5, \"19\": 10, \"55\": 9, \"26\": 3, \"43\": 1}, \"39\": {\"39\": 20}, \"37\": {\"37\": 13, \"39\": 1, \"49\": 2, \"29\": 1, \"35\": 5, \"38\": 1, \"14\": 1}, \"8\": {\"8\": 98, \"20\": 3, \"48\": 27, \"9\": 13, \"4\": 1, \"27\": 2}, \"49\": {\"49\": 6, \"35\": 4, \"38\": 2, \"37\": 4, \"2\": 2, \"32\": 1, \"42\": 1}, \"53\": {\"53\": 139, \"26\": 1}, \"31\": {\"19\": 1, \"31\": 25, \"55\": 1, \"42\": 1}, \"28\": {\"28\": 32}, \"3\": {\"3\": 97, \"50\": 6, \"6\": 14, \"5\": 6, \"44\": 1}, \"27\": {\"27\": 134, \"9\": 2, \"48\": 2}, \"46\": {\"46\": 107, \"40\": 3, \"22\": 11, \"44\": 7}, \"12\": {\"12\": 88, \"21\": 4}, \"7\": {\"24\": 1, \"7\": 11, \"32\": 2, \"41\": 6, \"2\": 1, \"33\": 1, \"13\": 1, \"35\": 1}, \"4\": {\"4\": 123, \"48\": 6, \"20\": 2, \"9\": 1}, \"42\": {\"42\": 22, \"31\": 2, \"26\": 1, \"54\": 1, \"19\": 1, \"33\": 3, \"28\": 1, \"23\": 1}, \"43\": {\"43\": 126, \"49\": 1, \"55\": 1, \"24\": 1, \"38\": 1}, \"29\": {\"29\": 102, \"57\": 12, \"47\": 5, \"1\": 1}, \"57\": {\"57\": 87, \"47\": 4, \"29\": 9}, \"52\": {\"52\": 104}, \"45\": {\"45\": 93, \"30\": 2, \"12\": 1}, \"36\": {\"36\": 83, \"54\": 3, \"55\": 2, \"51\": 2, \"17\": 1, \"19\": 1}, \"10\": {\"10\": 126}, \"15\": {\"15\": 113, \"16\": 14, \"11\": 5, \"18\": 2}, \"56\": {\"56\": 121, \"0\": 3}, \"2\": {\"2\": 31, \"57\": 1, \"13\": 3, \"38\": 1}}, \"CORES_5\": {\"47\": {\"47\": 91, \"57\": 9}, \"53\": {\"53\": 145, \"19\": 5}, \"29\": {\"29\": 126}, \"52\": {\"52\": 130}, \"55\": {\"55\": 135, \"38\": 1, \"53\": 3, \"19\": 2, \"17\": 3}, \"17\": {\"17\": 116}, \"42\": {\"42\": 35, \"19\": 2, \"54\": 1, \"23\": 2}, \"33\": {\"33\": 29, \"41\": 3}, \"11\": {\"11\": 141, \"15\": 7}, \"19\": {\"19\": 118}, \"1\": {\"1\": 144}, \"44\": {\"44\": 138, \"3\": 3, \"5\": 1}, \"49\": {\"49\": 36}, \"4\": {\"4\": 97, \"30\": 1, \"9\": 1, \"12\": 1}, \"6\": {\"6\": 106, \"45\": 9, \"50\": 1}, \"39\": {\"39\": 20}, \"50\": {\"50\": 136, \"45\": 7, \"6\": 3, \"44\": 1, \"5\": 1}, \"56\": {\"56\": 127, \"0\": 3}, \"25\": {\"25\": 144}, \"28\": {\"28\": 32}, \"35\": {\"35\": 29, \"37\": 1, \"43\": 3, \"13\": 1, \"23\": 1, \"31\": 1}, \"24\": {\"24\": 79, \"31\": 1}, \"21\": {\"21\": 132}, \"45\": {\"45\": 110, \"6\": 11, \"50\": 1, \"4\": 1, \"12\": 1}, \"16\": {\"16\": 135, \"15\": 5, \"11\": 4}, \"37\": {\"37\": 17, \"29\": 1, \"49\": 2, \"56\": 2, \"43\": 2}, \"57\": {\"57\": 129, \"47\": 2, \"52\": 1}, \"34\": {\"34\": 31, \"49\": 4, \"42\": 1}, \"38\": {\"38\": 25, \"17\": 4, \"8\": 1, \"32\": 1, \"51\": 1}, \"48\": {\"48\": 116, \"1\": 4, \"27\": 4, \"8\": 3, \"20\": 3}, \"26\": {\"26\": 19, \"17\": 2, \"55\": 1, \"51\": 1, \"38\": 1}, \"9\": {\"9\": 148, \"30\": 3, \"21\": 1}, \"18\": {\"18\": 64}, \"3\": {\"3\": 77, \"40\": 3, \"44\": 10, \"5\": 4, \"22\": 1, \"46\": 5}, \"23\": {\"23\": 118, \"42\": 1, \"19\": 1, \"53\": 2, \"54\": 1, \"55\": 1}, \"15\": {\"15\": 142, \"16\": 10, \"11\": 2}, \"10\": {\"10\": 68}, \"46\": {\"46\": 144, \"0\": 1, \"40\": 2, \"22\": 1}, \"22\": {\"22\": 22, \"3\": 2, \"56\": 1, \"40\": 2, \"46\": 1}, \"54\": {\"54\": 106, \"31\": 1, \"43\": 1, \"37\": 1, \"19\": 1, \"53\": 2}, \"27\": {\"27\": 147, \"32\": 1, \"8\": 12}, \"41\": {\"39\": 2, \"41\": 17, \"27\": 1, \"14\": 3, \"33\": 3, \"32\": 1, \"47\": 1}, \"31\": {\"31\": 34, \"24\": 1, \"43\": 1}, \"0\": {\"0\": 123, \"22\": 1}, \"7\": {\"7\": 31, \"51\": 1}, \"2\": {\"2\": 25, \"36\": 1, \"37\": 1, \"43\": 1}, \"14\": {\"14\": 39, \"13\": 2, \"29\": 1, \"36\": 2}, \"40\": {\"46\": 1, \"40\": 122, \"3\": 1}, \"5\": {\"5\": 114, \"3\": 5, \"44\": 9}, \"12\": {\"12\": 90, \"6\": 4, \"45\": 2}, \"43\": {\"2\": 2, \"43\": 135, \"36\": 1, \"34\": 1, \"23\": 1, \"24\": 1, \"53\": 1}, \"13\": {\"13\": 146, \"29\": 2}, \"36\": {\"36\": 87, \"8\": 1, \"14\": 4}, \"8\": {\"8\": 108, \"27\": 27, \"20\": 8, \"48\": 7}, \"32\": {\"32\": 32}, \"30\": {\"30\": 124, \"9\": 4}, \"51\": {\"51\": 138}, \"20\": {\"20\": 125, \"48\": 6, \"8\": 1, \"1\": 6}}, \"CORES_1\": {\"46\": {\"46\": 101, \"50\": 10, \"6\": 12, \"5\": 11, \"40\": 3, \"44\": 1, \"4\": 1, \"45\": 1}, \"16\": {\"16\": 126, \"25\": 8}, \"26\": {\"26\": 23, \"19\": 1}, \"10\": {\"10\": 96}, \"9\": {\"9\": 153, \"17\": 1, \"8\": 1, \"51\": 1}, \"28\": {\"28\": 28}, \"51\": {\"51\": 153, \"7\": 1, \"41\": 2}, \"1\": {\"1\": 99, \"57\": 1}, \"55\": {\"55\": 139, \"33\": 4, \"38\": 2, \"32\": 2, \"37\": 1}, \"27\": {\"27\": 120, \"52\": 1, \"21\": 1, \"47\": 2}, \"22\": {\"22\": 117, \"0\": 3, \"52\": 1, \"47\": 1, \"21\": 2}, \"52\": {\"52\": 94, \"21\": 21, \"27\": 8, \"22\": 3}, \"3\": {\"3\": 132, \"56\": 6, \"45\": 2}, \"33\": {\"33\": 32}, \"47\": {\"47\": 118, \"36\": 1, \"27\": 1}, \"42\": {\"42\": 33, \"26\": 1, \"54\": 1, \"37\": 2, \"55\": 1, \"24\": 1, \"19\": 1}, \"12\": {\"12\": 113, \"30\": 2, \"13\": 1}, \"23\": {\"23\": 123, \"24\": 5, \"34\": 2, \"35\": 1, \"54\": 1}, \"49\": {\"49\": 27, \"43\": 3, \"39\": 2}, \"7\": {\"7\": 25, \"51\": 3}, \"4\": {\"4\": 132}, \"50\": {\"50\": 132, \"6\": 2}, \"19\": {\"19\": 151, \"26\": 1, \"53\": 2}, \"11\": {\"11\": 140}, \"31\": {\"31\": 26, \"24\": 2}, \"41\": {\"41\": 14, \"51\": 6, \"7\": 2, \"1\": 2}, \"56\": {\"56\": 113, \"44\": 4, \"3\": 6, \"45\": 15}, \"0\": {\"0\": 146, \"22\": 2}, \"57\": {\"57\": 128}, \"53\": {\"26\": 1, \"53\": 139}, \"43\": {\"43\": 143, \"55\": 1}, \"37\": {\"33\": 1, \"37\": 20, \"36\": 5, \"55\": 4, \"51\": 1, \"47\": 1}, \"2\": {\"2\": 35, \"48\": 1}, \"6\": {\"6\": 87, \"50\": 5, \"46\": 4}, \"13\": {\"13\": 145, \"30\": 1, \"12\": 2, \"14\": 1, \"20\": 1}, \"18\": {\"18\": 72}, \"36\": {\"36\": 64}, \"29\": {\"29\": 133, \"52\": 2, \"57\": 3, \"47\": 2}, \"39\": {\"39\": 23, \"47\": 1, \"1\": 1, \"49\": 2, \"27\": 1}, \"17\": {\"17\": 64}, \"21\": {\"21\": 116, \"52\": 8}, \"25\": {\"25\": 124, \"16\": 6, \"15\": 1, \"11\": 1}, \"45\": {\"45\": 130, \"44\": 8, \"56\": 4}, \"38\": {\"52\": 2, \"38\": 11, \"36\": 3, \"29\": 1, \"55\": 4, \"33\": 2, \"49\": 1}, \"30\": {\"30\": 117, \"13\": 2, \"12\": 1}, \"24\": {\"24\": 107, \"31\": 1}, \"20\": {\"20\": 128, \"40\": 5, \"12\": 1, \"13\": 6}, \"8\": {\"8\": 140}, \"35\": {\"39\": 1, \"35\": 29, \"43\": 1, \"31\": 1, \"54\": 2, \"24\": 2}, \"54\": {\"54\": 102, \"34\": 2}, \"5\": {\"5\": 148}, \"48\": {\"48\": 140, \"2\": 4}, \"15\": {\"15\": 141, \"10\": 1}, \"34\": {\"34\": 11, \"23\": 3, \"19\": 3, \"38\": 1, \"35\": 3, \"33\": 1, \"42\": 2}, \"14\": {\"14\": 24}, \"32\": {\"32\": 32}, \"40\": {\"40\": 143, \"20\": 5}, \"44\": {\"44\": 118, \"45\": 17, \"3\": 1}}, \"CORES_2\": {\"36\": {\"36\": 110, \"17\": 1, \"51\": 5}, \"5\": {\"5\": 107, \"44\": 6, \"46\": 6, \"3\": 1}, \"45\": {\"45\": 117, \"3\": 1, \"6\": 7, \"12\": 2, \"21\": 1}, \"49\": {\"49\": 14, \"34\": 2, \"35\": 1, \"37\": 1, \"55\": 1, \"39\": 2, \"23\": 1, \"19\": 1, \"7\": 1}, \"50\": {\"50\": 115, \"3\": 8, \"6\": 5, \"44\": 4, \"46\": 3, \"5\": 1}, \"4\": {\"4\": 132, \"48\": 3, \"9\": 3}, \"43\": {\"43\": 126, \"24\": 16, \"37\": 1, \"23\": 2, \"16\": 1, \"31\": 2}, \"41\": {\"41\": 19, \"52\": 1}, \"37\": {\"37\": 31, \"55\": 3, \"2\": 1, \"13\": 1}, \"12\": {\"12\": 91, \"3\": 1}, \"33\": {\"33\": 17, \"41\": 5, \"14\": 1, \"39\": 1, \"2\": 2, \"48\": 1, \"36\": 1}, \"7\": {\"7\": 31, \"23\": 3, \"17\": 1, \"19\": 1}, \"56\": {\"56\": 134, \"22\": 6}, \"14\": {\"14\": 21, \"13\": 3}, \"52\": {\"52\": 124}, \"44\": {\"44\": 87, \"50\": 1, \"46\": 3, \"5\": 5}, \"48\": {\"48\": 139, \"8\": 1, \"9\": 4}, \"20\": {\"20\": 109, \"8\": 14, \"27\": 2, \"48\": 1, \"9\": 2}, \"55\": {\"55\": 138, \"37\": 2, \"39\": 2, \"31\": 1, \"36\": 1}, \"32\": {\"32\": 25, \"17\": 1, \"36\": 1, \"54\": 1}, \"40\": {\"40\": 132, \"9\": 1, \"30\": 3}, \"54\": {\"54\": 108}, \"17\": {\"17\": 103, \"54\": 1}, \"38\": {\"38\": 20}, \"24\": {\"24\": 89, \"43\": 7}, \"1\": {\"1\": 107, \"57\": 1, \"47\": 4}, \"6\": {\"6\": 118, \"3\": 4, \"50\": 1, \"45\": 1}, \"34\": {\"34\": 20, \"19\": 3, \"42\": 1, \"28\": 2, \"23\": 2}, \"11\": {\"11\": 119, \"16\": 15, \"15\": 2}, \"9\": {\"9\": 146, \"8\": 2, \"48\": 2}, \"8\": {\"9\": 16, \"8\": 99, \"27\": 13, \"20\": 20, \"48\": 4}, \"22\": {\"22\": 135, \"56\": 1}, \"26\": {\"26\": 20, \"35\": 1, \"53\": 2, \"54\": 1}, \"23\": {\"23\": 130, \"42\": 2, \"7\": 5, \"19\": 7, \"49\": 2}, \"10\": {\"10\": 112}, \"18\": {\"18\": 48}, \"13\": {\"13\": 115, \"38\": 1}, \"30\": {\"30\": 124, \"40\": 2, \"4\": 1, \"21\": 1}, \"42\": {\"42\": 31, \"24\": 1, \"39\": 1, \"23\": 2, \"7\": 1}, \"31\": {\"31\": 27, \"43\": 1}, \"46\": {\"46\": 90, \"5\": 7, \"6\": 2, \"44\": 15, \"50\": 4, \"3\": 5, \"21\": 1, \"40\": 3, \"30\": 1}, \"57\": {\"57\": 134, \"1\": 5, \"29\": 3}, \"47\": {\"47\": 132, \"57\": 6}, \"35\": {\"17\": 3, \"35\": 26, \"36\": 2, \"54\": 1}, \"15\": {\"15\": 119, \"11\": 3, \"16\": 10}, \"25\": {\"25\": 134, \"15\": 1, \"16\": 1}, \"19\": {\"19\": 136}, \"51\": {\"51\": 121, \"36\": 7}, \"53\": {\"53\": 134}, \"21\": {\"21\": 118, \"40\": 2}, \"39\": {\"7\": 2, \"39\": 19, \"13\": 3, \"55\": 2, \"41\": 1, \"2\": 1}, \"2\": {\"2\": 32}, \"16\": {\"16\": 128, \"15\": 17, \"11\": 5}, \"0\": {\"0\": 48}, \"3\": {\"3\": 81, \"50\": 6, \"6\": 4, \"44\": 1}, \"27\": {\"27\": 139, \"20\": 1, \"8\": 1, \"9\": 1}, \"28\": {\"28\": 28}, \"29\": {\"29\": 114, \"47\": 4, \"1\": 3, \"57\": 7}}}, \"per_domain_accuracy\": {\"ORACLE.run1_14\": {\"accuracy\": 0.7880208333333333, \"source?\": true}, \"ORACLE.run1_20\": {\"accuracy\": 0.9364583333333333, \"source?\": true}, \"ORACLE.run1_38\": {\"accuracy\": 0.5580729166666667, \"source?\": true}, \"ORACLE.run1_8\": {\"accuracy\": 0.7528645833333333, \"source?\": true}, \"ORACLE.run1_50\": {\"accuracy\": 0.4942708333333333, \"source?\": true}, \"ORACLE.run1_32\": {\"accuracy\": 0.528125, \"source?\": true}, \"ORACLE.run1_26\": {\"accuracy\": 0.3580729166666667, \"source?\": true}, \"ORACLE.run1_44\": {\"accuracy\": 0.47604166666666664, \"source?\": true}, \"CORES_3\": {\"accuracy\": 0.8968023255813954, \"source?\": false}, \"CORES_4\": {\"accuracy\": 0.8941287878787879, \"source?\": false}, \"CORES_5\": {\"accuracy\": 0.9416899441340782, \"source?\": false}, \"CORES_1\": {\"accuracy\": 0.9426229508196722, \"source?\": false}, \"CORES_2\": {\"accuracy\": 0.9221398305084746, \"source?\": false}}}, \"history\": {\"epoch_indices\": [1, 2, 3, 4, 5], \"train_label_loss\": [0.4055890071377646, 1.0907082903577248, 0.24964452791145525, 0.20081828164762727, 0.18029057048697722], \"source_val_label_loss\": [108.58313751220703, 0.27146679162979126, 0.23378600180149078, 0.21917445957660675, 0.1901930868625641], \"target_val_label_loss\": [444.5653381347656, 287.65203857421875, 224.9384307861328, 229.36236572265625, 312.83074951171875], \"source_val_acc_label\": [0.6114908854166666, 0.9060872395833334, 0.91552734375, 0.9223307291666667, 0.93232421875], \"target_val_acc_label\": [0.9201626712328768, 0.873787100456621, 0.8831335616438356, 0.8788170662100456, 0.8459974315068494]}, \"dataset_metrics\": {\"source\": {\"train\": {\"n_unique_x\": 179200, \"n_unique_y\": 16, \"n_batch/episode\": 6720}, \"val\": {\"n_unique_x\": 38400, \"n_unique_y\": 16, \"n_batch/episode\": 960}, \"test\": {\"n_unique_x\": 38400, \"n_unique_y\": 16, \"n_batch/episode\": 960}}, \"target\": {\"train\": {\"n_unique_x\": 175212, \"n_unique_y\": 58, \"n_batch/episode\": 6322}, \"val\": {\"n_unique_x\": 37196, \"n_unique_y\": 58, \"n_batch/episode\": 876}, \"test\": {\"n_unique_x\": 37634, \"n_unique_y\": 58, \"n_batch/episode\": 891}}}}'"
      ]
     },
     "execution_count": 29,
     "metadata": {},
     "output_type": "execute_result"
    }
   ],
   "source": [
    "json.dumps(experiment)"
   ]
  }
 ],
 "metadata": {
  "celltoolbar": "Tags",
  "kernelspec": {
   "display_name": "Python 3 (ipykernel)",
   "language": "python",
   "name": "python3"
  },
  "language_info": {
   "codemirror_mode": {
    "name": "ipython",
    "version": 3
   },
   "file_extension": ".py",
   "mimetype": "text/x-python",
   "name": "python",
   "nbconvert_exporter": "python",
   "pygments_lexer": "ipython3",
   "version": "3.8.12"
  },
  "papermill": {
   "default_parameters": {},
   "duration": 1514.107911,
   "end_time": "2022-03-21T05:44:55.446596",
   "environment_variables": {},
   "exception": null,
   "input_path": "/root/csc500-main/csc500-notebooks/templates/tl_ptn_template.ipynb",
   "output_path": "trial.ipynb",
   "parameters": {
    "parameters": {
     "BEST_MODEL_PATH": "./best_model.pth",
     "NUM_LOGS_PER_EPOCH": 10,
     "criteria_for_best": "target_accuracy",
     "dataset_seed": 1337,
     "datasets": [
      {
       "domain_prefix": "CORES_",
       "domains": [
        1,
        2,
        3,
        4,
        5
       ],
       "episode_transforms": [],
       "labels": [
        "1-10.",
        "1-11.",
        "1-15.",
        "1-16.",
        "1-17.",
        "1-18.",
        "1-19.",
        "10-4.",
        "10-7.",
        "11-1.",
        "11-14.",
        "11-17.",
        "11-20.",
        "11-7.",
        "13-20.",
        "13-8.",
        "14-10.",
        "14-11.",
        "14-14.",
        "14-7.",
        "15-1.",
        "15-20.",
        "16-1.",
        "16-16.",
        "17-10.",
        "17-11.",
        "17-2.",
        "19-1.",
        "19-16.",
        "19-19.",
        "19-20.",
        "19-3.",
        "2-10.",
        "2-11.",
        "2-17.",
        "2-18.",
        "2-20.",
        "2-3.",
        "2-4.",
        "2-5.",
        "2-6.",
        "2-7.",
        "2-8.",
        "3-13.",
        "3-18.",
        "3-3.",
        "4-1.",
        "4-10.",
        "4-11.",
        "4-19.",
        "5-5.",
        "6-15.",
        "7-10.",
        "7-14.",
        "8-18.",
        "8-20.",
        "8-3.",
        "8-8."
       ],
       "num_examples_per_domain_per_label": -1,
       "pickle_path": "/root/csc500-main/datasets/cores.stratified_ds.2022A.pkl",
       "source_or_target_dataset": "target",
       "x_transforms": []
      },
      {
       "domain_prefix": "ORACLE.run1_",
       "domains": [
        32,
        38,
        8,
        44,
        14,
        50,
        20,
        26
       ],
       "episode_transforms": [],
       "labels": [
        "3123D52",
        "3123D65",
        "3123D79",
        "3123D80",
        "3123D54",
        "3123D70",
        "3123D7B",
        "3123D89",
        "3123D58",
        "3123D76",
        "3123D7D",
        "3123EFE",
        "3123D64",
        "3123D78",
        "3123D7E",
        "3124E4A"
       ],
       "num_examples_per_domain_per_label": 2000,
       "pickle_path": "/root/csc500-main/datasets/oracle.Run1_framed_2000Examples_stratified_ds.2022A.pkl",
       "source_or_target_dataset": "source",
       "x_transforms": []
      }
     ],
     "device": "cuda",
     "experiment_name": "tl_1v2:cores-oracle.run1.framed",
     "lr": 0.0001,
     "n_epoch": 50,
     "n_query": 2,
     "n_shot": 3,
     "n_way": 16,
     "patience": 3,
     "seed": 1337,
     "test_k_factor": 2,
     "torch_default_dtype": "torch.float32",
     "train_k_factor": 3,
     "val_k_factor": 2,
     "x_net": [
      {
       "class": "nnReshape",
       "kargs": {
        "shape": [
         -1,
         1,
         2,
         256
        ]
       }
      },
      {
       "class": "Conv2d",
       "kargs": {
        "bias": false,
        "in_channels": 1,
        "kernel_size": [
         1,
         7
        ],
        "out_channels": 256,
        "padding": [
         0,
         3
        ]
       }
      },
      {
       "class": "ReLU",
       "kargs": {
        "inplace": true
       }
      },
      {
       "class": "BatchNorm2d",
       "kargs": {
        "num_features": 256
       }
      },
      {
       "class": "Conv2d",
       "kargs": {
        "bias": true,
        "in_channels": 256,
        "kernel_size": [
         2,
         7
        ],
        "out_channels": 80,
        "padding": [
         0,
         3
        ]
       }
      },
      {
       "class": "ReLU",
       "kargs": {
        "inplace": true
       }
      },
      {
       "class": "BatchNorm2d",
       "kargs": {
        "num_features": 80
       }
      },
      {
       "class": "Flatten",
       "kargs": {}
      },
      {
       "class": "Linear",
       "kargs": {
        "in_features": 20480,
        "out_features": 256
       }
      },
      {
       "class": "ReLU",
       "kargs": {
        "inplace": true
       }
      },
      {
       "class": "BatchNorm1d",
       "kargs": {
        "num_features": 256
       }
      },
      {
       "class": "Linear",
       "kargs": {
        "in_features": 256,
        "out_features": 256
       }
      }
     ]
    }
   },
   "start_time": "2022-03-21T05:19:41.338685",
   "version": "2.3.4"
  }
 },
 "nbformat": 4,
 "nbformat_minor": 5
}