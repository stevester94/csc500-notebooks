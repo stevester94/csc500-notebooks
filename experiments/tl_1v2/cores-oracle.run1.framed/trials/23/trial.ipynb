{
 "cells": [
  {
   "cell_type": "markdown",
   "id": "9fea5f46",
   "metadata": {
    "papermill": {
     "duration": 0.028167,
     "end_time": "2022-03-21T16:26:13.463247",
     "exception": false,
     "start_time": "2022-03-21T16:26:13.435080",
     "status": "completed"
    },
    "tags": []
   },
   "source": [
    "# Transfer Learning Template"
   ]
  },
  {
   "cell_type": "code",
   "execution_count": 1,
   "id": "0902182a",
   "metadata": {
    "execution": {
     "iopub.execute_input": "2022-03-21T16:26:13.530693Z",
     "iopub.status.busy": "2022-03-21T16:26:13.527657Z",
     "iopub.status.idle": "2022-03-21T16:26:15.544902Z",
     "shell.execute_reply": "2022-03-21T16:26:15.544001Z"
    },
    "papermill": {
     "duration": 2.056152,
     "end_time": "2022-03-21T16:26:15.545106",
     "exception": false,
     "start_time": "2022-03-21T16:26:13.488954",
     "status": "completed"
    },
    "tags": []
   },
   "outputs": [],
   "source": [
    "%load_ext autoreload\n",
    "%autoreload 2\n",
    "%matplotlib inline\n",
    "\n",
    "    \n",
    "import os, json, sys, time, random\n",
    "import numpy as np\n",
    "import torch\n",
    "from torch.optim import Adam\n",
    "from  easydict import EasyDict\n",
    "import matplotlib.pyplot as plt\n",
    "\n",
    "from steves_models.steves_ptn import Steves_Prototypical_Network\n",
    "\n",
    "from steves_utils.lazy_iterable_wrapper import Lazy_Iterable_Wrapper\n",
    "from steves_utils.iterable_aggregator import Iterable_Aggregator\n",
    "from steves_utils.ptn_train_eval_test_jig import  PTN_Train_Eval_Test_Jig\n",
    "from steves_utils.torch_sequential_builder import build_sequential\n",
    "from steves_utils.torch_utils import get_dataset_metrics, ptn_confusion_by_domain_over_dataloader\n",
    "from steves_utils.utils_v2 import (per_domain_accuracy_from_confusion, get_datasets_base_path)\n",
    "from steves_utils.PTN.utils import independent_accuracy_assesment\n",
    "\n",
    "from torch.utils.data import DataLoader\n",
    "\n",
    "from steves_utils.stratified_dataset.episodic_accessor import Episodic_Accessor_Factory\n",
    "\n",
    "from steves_utils.ptn_do_report import (\n",
    "    get_loss_curve,\n",
    "    get_results_table,\n",
    "    get_parameters_table,\n",
    "    get_domain_accuracies,\n",
    ")\n",
    "\n",
    "from steves_utils.transforms import get_chained_transform"
   ]
  },
  {
   "cell_type": "markdown",
   "id": "41c840b4",
   "metadata": {
    "papermill": {
     "duration": 0.019601,
     "end_time": "2022-03-21T16:26:15.590971",
     "exception": false,
     "start_time": "2022-03-21T16:26:15.571370",
     "status": "completed"
    },
    "tags": []
   },
   "source": [
    "# Allowed Parameters\n",
    "These are allowed parameters, not defaults\n",
    "Each of these values need to be present in the injected parameters (the notebook will raise an exception if they are not present)\n",
    "\n",
    "Papermill uses the cell tag \"parameters\" to inject the real parameters below this cell.\n",
    "Enable tags to see what I mean"
   ]
  },
  {
   "cell_type": "code",
   "execution_count": 2,
   "id": "fd44eb83",
   "metadata": {
    "execution": {
     "iopub.execute_input": "2022-03-21T16:26:15.637206Z",
     "iopub.status.busy": "2022-03-21T16:26:15.636817Z",
     "iopub.status.idle": "2022-03-21T16:26:15.662849Z",
     "shell.execute_reply": "2022-03-21T16:26:15.662097Z"
    },
    "papermill": {
     "duration": 0.05211,
     "end_time": "2022-03-21T16:26:15.663033",
     "exception": false,
     "start_time": "2022-03-21T16:26:15.610923",
     "status": "completed"
    },
    "tags": []
   },
   "outputs": [],
   "source": [
    "required_parameters = {\n",
    "    \"experiment_name\",\n",
    "    \"lr\",\n",
    "    \"device\",\n",
    "    \"seed\",\n",
    "    \"dataset_seed\",\n",
    "    \"n_shot\",\n",
    "    \"n_query\",\n",
    "    \"n_way\",\n",
    "    \"train_k_factor\",\n",
    "    \"val_k_factor\",\n",
    "    \"test_k_factor\",\n",
    "    \"n_epoch\",\n",
    "    \"patience\",\n",
    "    \"criteria_for_best\",\n",
    "    \"x_net\",\n",
    "    \"datasets\",\n",
    "    \"torch_default_dtype\",\n",
    "    \"NUM_LOGS_PER_EPOCH\",\n",
    "    \"BEST_MODEL_PATH\",\n",
    "    \"x_shape\",\n",
    "}"
   ]
  },
  {
   "cell_type": "code",
   "execution_count": 3,
   "id": "fa3f0049",
   "metadata": {
    "execution": {
     "iopub.execute_input": "2022-03-21T16:26:15.722501Z",
     "iopub.status.busy": "2022-03-21T16:26:15.721584Z",
     "iopub.status.idle": "2022-03-21T16:26:15.747394Z",
     "shell.execute_reply": "2022-03-21T16:26:15.746643Z"
    },
    "papermill": {
     "duration": 0.05726,
     "end_time": "2022-03-21T16:26:15.747587",
     "exception": false,
     "start_time": "2022-03-21T16:26:15.690327",
     "status": "completed"
    },
    "tags": [
     "parameters"
    ]
   },
   "outputs": [],
   "source": [
    "from steves_utils.CORES.utils import (\n",
    "    ALL_NODES,\n",
    "    ALL_NODES_MINIMUM_1000_EXAMPLES,\n",
    "    ALL_DAYS\n",
    ")\n",
    "\n",
    "from steves_utils.ORACLE.utils_v2 import (\n",
    "    ALL_DISTANCES_FEET_NARROWED,\n",
    "    ALL_RUNS,\n",
    "    ALL_SERIAL_NUMBERS,\n",
    ")\n",
    "\n",
    "standalone_parameters = {}\n",
    "standalone_parameters[\"experiment_name\"] = \"STANDALONE PTN\"\n",
    "standalone_parameters[\"lr\"] = 0.001\n",
    "standalone_parameters[\"device\"] = \"cuda\"\n",
    "\n",
    "standalone_parameters[\"seed\"] = 1337\n",
    "standalone_parameters[\"dataset_seed\"] = 1337\n",
    "\n",
    "standalone_parameters[\"n_way\"] = 8\n",
    "standalone_parameters[\"n_shot\"] = 3\n",
    "standalone_parameters[\"n_query\"]  = 2\n",
    "standalone_parameters[\"train_k_factor\"] = 1\n",
    "standalone_parameters[\"val_k_factor\"] = 2\n",
    "standalone_parameters[\"test_k_factor\"] = 2\n",
    "\n",
    "\n",
    "standalone_parameters[\"n_epoch\"] = 50\n",
    "\n",
    "standalone_parameters[\"patience\"] = 10\n",
    "standalone_parameters[\"criteria_for_best\"] = \"source_loss\"\n",
    "\n",
    "standalone_parameters[\"datasets\"] = [\n",
    "    {\n",
    "        \"labels\": ALL_SERIAL_NUMBERS,\n",
    "        \"domains\": ALL_DISTANCES_FEET_NARROWED,\n",
    "        \"num_examples_per_domain_per_label\": 100,\n",
    "        \"pickle_path\": os.path.join(get_datasets_base_path(), \"oracle.Run1_framed_2000Examples_stratified_ds.2022A.pkl\"),\n",
    "        \"source_or_target_dataset\": \"source\",\n",
    "        \"x_transforms\": [\"unit_mag\", \"minus_two\"],\n",
    "        \"episode_transforms\": [],\n",
    "        \"domain_prefix\": \"ORACLE_\"\n",
    "    },\n",
    "    {\n",
    "        \"labels\": ALL_NODES,\n",
    "        \"domains\": ALL_DAYS,\n",
    "        \"num_examples_per_domain_per_label\": 100,\n",
    "        \"pickle_path\": os.path.join(get_datasets_base_path(), \"cores.stratified_ds.2022A.pkl\"),\n",
    "        \"source_or_target_dataset\": \"target\",\n",
    "        \"x_transforms\": [\"unit_power\", \"times_zero\"],\n",
    "        \"episode_transforms\": [],\n",
    "        \"domain_prefix\": \"CORES_\"\n",
    "    }   \n",
    "]\n",
    "\n",
    "standalone_parameters[\"torch_default_dtype\"] = \"torch.float32\" \n",
    "\n",
    "\n",
    "\n",
    "standalone_parameters[\"x_net\"] =     [\n",
    "    {\"class\": \"nnReshape\", \"kargs\": {\"shape\":[-1, 1, 2, 256]}},\n",
    "    {\"class\": \"Conv2d\", \"kargs\": { \"in_channels\":1, \"out_channels\":256, \"kernel_size\":(1,7), \"bias\":False, \"padding\":(0,3), },},\n",
    "    {\"class\": \"ReLU\", \"kargs\": {\"inplace\": True}},\n",
    "    {\"class\": \"BatchNorm2d\", \"kargs\": {\"num_features\":256}},\n",
    "\n",
    "    {\"class\": \"Conv2d\", \"kargs\": { \"in_channels\":256, \"out_channels\":80, \"kernel_size\":(2,7), \"bias\":True, \"padding\":(0,3), },},\n",
    "    {\"class\": \"ReLU\", \"kargs\": {\"inplace\": True}},\n",
    "    {\"class\": \"BatchNorm2d\", \"kargs\": {\"num_features\":80}},\n",
    "    {\"class\": \"Flatten\", \"kargs\": {}},\n",
    "\n",
    "    {\"class\": \"Linear\", \"kargs\": {\"in_features\": 80*256, \"out_features\": 256}}, # 80 units per IQ pair\n",
    "    {\"class\": \"ReLU\", \"kargs\": {\"inplace\": True}},\n",
    "    {\"class\": \"BatchNorm1d\", \"kargs\": {\"num_features\":256}},\n",
    "\n",
    "    {\"class\": \"Linear\", \"kargs\": {\"in_features\": 256, \"out_features\": 256}},\n",
    "]\n",
    "\n",
    "# Parameters relevant to results\n",
    "# These parameters will basically never need to change\n",
    "standalone_parameters[\"NUM_LOGS_PER_EPOCH\"] = 10\n",
    "standalone_parameters[\"BEST_MODEL_PATH\"] = \"./best_model.pth\"\n",
    "\n",
    "\n",
    "\n",
    "\n"
   ]
  },
  {
   "cell_type": "code",
   "execution_count": 4,
   "id": "a723df07",
   "metadata": {
    "execution": {
     "iopub.execute_input": "2022-03-21T16:26:15.807927Z",
     "iopub.status.busy": "2022-03-21T16:26:15.807115Z",
     "iopub.status.idle": "2022-03-21T16:26:15.829105Z",
     "shell.execute_reply": "2022-03-21T16:26:15.828374Z"
    },
    "papermill": {
     "duration": 0.051958,
     "end_time": "2022-03-21T16:26:15.829281",
     "exception": false,
     "start_time": "2022-03-21T16:26:15.777323",
     "status": "completed"
    },
    "tags": [
     "injected-parameters"
    ]
   },
   "outputs": [],
   "source": [
    "# Parameters\n",
    "parameters = {\n",
    "    \"experiment_name\": \"tl_1v2:cores-oracle.run1.framed\",\n",
    "    \"device\": \"cuda\",\n",
    "    \"lr\": 0.0001,\n",
    "    \"n_shot\": 3,\n",
    "    \"n_query\": 2,\n",
    "    \"train_k_factor\": 3,\n",
    "    \"val_k_factor\": 2,\n",
    "    \"test_k_factor\": 2,\n",
    "    \"torch_default_dtype\": \"torch.float32\",\n",
    "    \"n_epoch\": 50,\n",
    "    \"patience\": 3,\n",
    "    \"criteria_for_best\": \"target_accuracy\",\n",
    "    \"x_net\": [\n",
    "        {\"class\": \"nnReshape\", \"kargs\": {\"shape\": [-1, 1, 2, 256]}},\n",
    "        {\n",
    "            \"class\": \"Conv2d\",\n",
    "            \"kargs\": {\n",
    "                \"in_channels\": 1,\n",
    "                \"out_channels\": 256,\n",
    "                \"kernel_size\": [1, 7],\n",
    "                \"bias\": False,\n",
    "                \"padding\": [0, 3],\n",
    "            },\n",
    "        },\n",
    "        {\"class\": \"ReLU\", \"kargs\": {\"inplace\": True}},\n",
    "        {\"class\": \"BatchNorm2d\", \"kargs\": {\"num_features\": 256}},\n",
    "        {\n",
    "            \"class\": \"Conv2d\",\n",
    "            \"kargs\": {\n",
    "                \"in_channels\": 256,\n",
    "                \"out_channels\": 80,\n",
    "                \"kernel_size\": [2, 7],\n",
    "                \"bias\": True,\n",
    "                \"padding\": [0, 3],\n",
    "            },\n",
    "        },\n",
    "        {\"class\": \"ReLU\", \"kargs\": {\"inplace\": True}},\n",
    "        {\"class\": \"BatchNorm2d\", \"kargs\": {\"num_features\": 80}},\n",
    "        {\"class\": \"Flatten\", \"kargs\": {}},\n",
    "        {\"class\": \"Linear\", \"kargs\": {\"in_features\": 20480, \"out_features\": 256}},\n",
    "        {\"class\": \"ReLU\", \"kargs\": {\"inplace\": True}},\n",
    "        {\"class\": \"BatchNorm1d\", \"kargs\": {\"num_features\": 256}},\n",
    "        {\"class\": \"Linear\", \"kargs\": {\"in_features\": 256, \"out_features\": 256}},\n",
    "    ],\n",
    "    \"NUM_LOGS_PER_EPOCH\": 10,\n",
    "    \"BEST_MODEL_PATH\": \"./best_model.pth\",\n",
    "    \"n_way\": 16,\n",
    "    \"datasets\": [\n",
    "        {\n",
    "            \"labels\": [\n",
    "                \"1-10.\",\n",
    "                \"1-11.\",\n",
    "                \"1-15.\",\n",
    "                \"1-16.\",\n",
    "                \"1-17.\",\n",
    "                \"1-18.\",\n",
    "                \"1-19.\",\n",
    "                \"10-4.\",\n",
    "                \"10-7.\",\n",
    "                \"11-1.\",\n",
    "                \"11-14.\",\n",
    "                \"11-17.\",\n",
    "                \"11-20.\",\n",
    "                \"11-7.\",\n",
    "                \"13-20.\",\n",
    "                \"13-8.\",\n",
    "                \"14-10.\",\n",
    "                \"14-11.\",\n",
    "                \"14-14.\",\n",
    "                \"14-7.\",\n",
    "                \"15-1.\",\n",
    "                \"15-20.\",\n",
    "                \"16-1.\",\n",
    "                \"16-16.\",\n",
    "                \"17-10.\",\n",
    "                \"17-11.\",\n",
    "                \"17-2.\",\n",
    "                \"19-1.\",\n",
    "                \"19-16.\",\n",
    "                \"19-19.\",\n",
    "                \"19-20.\",\n",
    "                \"19-3.\",\n",
    "                \"2-10.\",\n",
    "                \"2-11.\",\n",
    "                \"2-17.\",\n",
    "                \"2-18.\",\n",
    "                \"2-20.\",\n",
    "                \"2-3.\",\n",
    "                \"2-4.\",\n",
    "                \"2-5.\",\n",
    "                \"2-6.\",\n",
    "                \"2-7.\",\n",
    "                \"2-8.\",\n",
    "                \"3-13.\",\n",
    "                \"3-18.\",\n",
    "                \"3-3.\",\n",
    "                \"4-1.\",\n",
    "                \"4-10.\",\n",
    "                \"4-11.\",\n",
    "                \"4-19.\",\n",
    "                \"5-5.\",\n",
    "                \"6-15.\",\n",
    "                \"7-10.\",\n",
    "                \"7-14.\",\n",
    "                \"8-18.\",\n",
    "                \"8-20.\",\n",
    "                \"8-3.\",\n",
    "                \"8-8.\",\n",
    "            ],\n",
    "            \"domains\": [1, 2, 3, 4, 5],\n",
    "            \"num_examples_per_domain_per_label\": -1,\n",
    "            \"pickle_path\": \"/root/csc500-main/datasets/cores.stratified_ds.2022A.pkl\",\n",
    "            \"source_or_target_dataset\": \"target\",\n",
    "            \"x_transforms\": [],\n",
    "            \"episode_transforms\": [],\n",
    "            \"domain_prefix\": \"CORES_\",\n",
    "        },\n",
    "        {\n",
    "            \"labels\": [\n",
    "                \"3123D52\",\n",
    "                \"3123D65\",\n",
    "                \"3123D79\",\n",
    "                \"3123D80\",\n",
    "                \"3123D54\",\n",
    "                \"3123D70\",\n",
    "                \"3123D7B\",\n",
    "                \"3123D89\",\n",
    "                \"3123D58\",\n",
    "                \"3123D76\",\n",
    "                \"3123D7D\",\n",
    "                \"3123EFE\",\n",
    "                \"3123D64\",\n",
    "                \"3123D78\",\n",
    "                \"3123D7E\",\n",
    "                \"3124E4A\",\n",
    "            ],\n",
    "            \"domains\": [32, 38, 8, 44, 14, 50, 20, 26],\n",
    "            \"num_examples_per_domain_per_label\": 2000,\n",
    "            \"pickle_path\": \"/root/csc500-main/datasets/oracle.Run1_framed_2000Examples_stratified_ds.2022A.pkl\",\n",
    "            \"source_or_target_dataset\": \"source\",\n",
    "            \"x_transforms\": [],\n",
    "            \"episode_transforms\": [],\n",
    "            \"domain_prefix\": \"ORACLE.run1_\",\n",
    "        },\n",
    "    ],\n",
    "    \"dataset_seed\": 7,\n",
    "    \"seed\": 7,\n",
    "}\n"
   ]
  },
  {
   "cell_type": "code",
   "execution_count": 5,
   "id": "8fa1cc33",
   "metadata": {
    "execution": {
     "iopub.execute_input": "2022-03-21T16:26:15.881807Z",
     "iopub.status.busy": "2022-03-21T16:26:15.881428Z",
     "iopub.status.idle": "2022-03-21T16:26:15.900796Z",
     "shell.execute_reply": "2022-03-21T16:26:15.901480Z"
    },
    "papermill": {
     "duration": 0.043948,
     "end_time": "2022-03-21T16:26:15.901696",
     "exception": false,
     "start_time": "2022-03-21T16:26:15.857748",
     "status": "completed"
    },
    "tags": []
   },
   "outputs": [],
   "source": [
    "# Set this to True if you want to run this template directly\n",
    "STANDALONE = False\n",
    "if STANDALONE:\n",
    "    print(\"parameters not injected, running with standalone_parameters\")\n",
    "    parameters = standalone_parameters\n",
    "\n",
    "if not 'parameters' in locals() and not 'parameters' in globals():\n",
    "    raise Exception(\"Parameter injection failed\")\n",
    "\n",
    "#Use an easy dict for all the parameters\n",
    "p = EasyDict(parameters)\n",
    "\n",
    "if \"x_shape\" not in p:\n",
    "    p.x_shape = [2,256] # Default to this if we dont supply x_shape\n",
    "\n",
    "\n",
    "supplied_keys = set(p.keys())\n",
    "\n",
    "if  supplied_keys != required_parameters:\n",
    "    print(\"Parameters are incorrect\")\n",
    "    if len(supplied_keys - required_parameters)>0: print(\"Shouldn't have:\", str(supplied_keys - required_parameters))\n",
    "    if len(required_parameters - supplied_keys)>0: print(\"Need to have:\", str(required_parameters - supplied_keys))\n",
    "    raise RuntimeError(\"Parameters are incorrect\")"
   ]
  },
  {
   "cell_type": "code",
   "execution_count": 6,
   "id": "3a028d58",
   "metadata": {
    "execution": {
     "iopub.execute_input": "2022-03-21T16:26:15.952436Z",
     "iopub.status.busy": "2022-03-21T16:26:15.951554Z",
     "iopub.status.idle": "2022-03-21T16:26:15.975942Z",
     "shell.execute_reply": "2022-03-21T16:26:15.975059Z"
    },
    "papermill": {
     "duration": 0.048558,
     "end_time": "2022-03-21T16:26:15.976122",
     "exception": false,
     "start_time": "2022-03-21T16:26:15.927564",
     "status": "completed"
    },
    "tags": []
   },
   "outputs": [],
   "source": [
    "###################################\n",
    "# Set the RNGs and make it all deterministic\n",
    "###################################\n",
    "np.random.seed(p.seed)\n",
    "random.seed(p.seed)\n",
    "torch.manual_seed(p.seed)\n",
    "\n",
    "torch.use_deterministic_algorithms(True) "
   ]
  },
  {
   "cell_type": "code",
   "execution_count": 7,
   "id": "b691acf6",
   "metadata": {
    "execution": {
     "iopub.execute_input": "2022-03-21T16:26:16.027182Z",
     "iopub.status.busy": "2022-03-21T16:26:16.026809Z",
     "iopub.status.idle": "2022-03-21T16:26:16.050985Z",
     "shell.execute_reply": "2022-03-21T16:26:16.050244Z"
    },
    "papermill": {
     "duration": 0.047689,
     "end_time": "2022-03-21T16:26:16.051160",
     "exception": false,
     "start_time": "2022-03-21T16:26:16.003471",
     "status": "completed"
    },
    "tags": []
   },
   "outputs": [],
   "source": [
    "###########################################\n",
    "# The stratified datasets honor this\n",
    "###########################################\n",
    "torch.set_default_dtype(eval(p.torch_default_dtype))"
   ]
  },
  {
   "cell_type": "code",
   "execution_count": 8,
   "id": "b5fba671",
   "metadata": {
    "execution": {
     "iopub.execute_input": "2022-03-21T16:26:16.103051Z",
     "iopub.status.busy": "2022-03-21T16:26:16.102304Z",
     "iopub.status.idle": "2022-03-21T16:26:16.157268Z",
     "shell.execute_reply": "2022-03-21T16:26:16.156404Z"
    },
    "papermill": {
     "duration": 0.078714,
     "end_time": "2022-03-21T16:26:16.157446",
     "exception": false,
     "start_time": "2022-03-21T16:26:16.078732",
     "status": "completed"
    },
    "tags": []
   },
   "outputs": [],
   "source": [
    "###################################\n",
    "# Build the network(s)\n",
    "# Note: It's critical to do this AFTER setting the RNG\n",
    "###################################\n",
    "x_net = build_sequential(p.x_net)"
   ]
  },
  {
   "cell_type": "code",
   "execution_count": 9,
   "id": "5d7e61cc",
   "metadata": {
    "execution": {
     "iopub.execute_input": "2022-03-21T16:26:16.208593Z",
     "iopub.status.busy": "2022-03-21T16:26:16.207973Z",
     "iopub.status.idle": "2022-03-21T16:26:16.235426Z",
     "shell.execute_reply": "2022-03-21T16:26:16.234586Z"
    },
    "papermill": {
     "duration": 0.051612,
     "end_time": "2022-03-21T16:26:16.235635",
     "exception": false,
     "start_time": "2022-03-21T16:26:16.184023",
     "status": "completed"
    },
    "tags": []
   },
   "outputs": [],
   "source": [
    "start_time_secs = time.time()"
   ]
  },
  {
   "cell_type": "code",
   "execution_count": 10,
   "id": "c6b67dfd",
   "metadata": {
    "execution": {
     "iopub.execute_input": "2022-03-21T16:26:16.287251Z",
     "iopub.status.busy": "2022-03-21T16:26:16.286880Z",
     "iopub.status.idle": "2022-03-21T16:26:16.316700Z",
     "shell.execute_reply": "2022-03-21T16:26:16.315873Z"
    },
    "papermill": {
     "duration": 0.053884,
     "end_time": "2022-03-21T16:26:16.316874",
     "exception": false,
     "start_time": "2022-03-21T16:26:16.262990",
     "status": "completed"
    },
    "tags": []
   },
   "outputs": [],
   "source": [
    "p.domains_source = []\n",
    "p.domains_target = []\n",
    "\n",
    "\n",
    "train_original_source = []\n",
    "val_original_source   = []\n",
    "test_original_source  = []\n",
    "\n",
    "train_original_target = []\n",
    "val_original_target   = []\n",
    "test_original_target  = []"
   ]
  },
  {
   "cell_type": "code",
   "execution_count": 11,
   "id": "e3d9c3d3",
   "metadata": {
    "execution": {
     "iopub.execute_input": "2022-03-21T16:26:16.369865Z",
     "iopub.status.busy": "2022-03-21T16:26:16.369488Z",
     "iopub.status.idle": "2022-03-21T16:26:16.390990Z",
     "shell.execute_reply": "2022-03-21T16:26:16.391688Z"
    },
    "papermill": {
     "duration": 0.04524,
     "end_time": "2022-03-21T16:26:16.391893",
     "exception": false,
     "start_time": "2022-03-21T16:26:16.346653",
     "status": "completed"
    },
    "tags": []
   },
   "outputs": [],
   "source": [
    "# global_x_transform_func = lambda x: normalize(x.to(torch.get_default_dtype()), \"unit_power\") # unit_power, unit_mag\n",
    "# global_x_transform_func = lambda x: normalize(x, \"unit_power\") # unit_power, unit_mag"
   ]
  },
  {
   "cell_type": "code",
   "execution_count": 12,
   "id": "acb78fd2",
   "metadata": {
    "execution": {
     "iopub.execute_input": "2022-03-21T16:26:16.451443Z",
     "iopub.status.busy": "2022-03-21T16:26:16.450606Z",
     "iopub.status.idle": "2022-03-21T16:26:16.473403Z",
     "shell.execute_reply": "2022-03-21T16:26:16.472580Z"
    },
    "papermill": {
     "duration": 0.056458,
     "end_time": "2022-03-21T16:26:16.473572",
     "exception": false,
     "start_time": "2022-03-21T16:26:16.417114",
     "status": "completed"
    },
    "tags": []
   },
   "outputs": [],
   "source": [
    "def add_dataset(\n",
    "    labels,\n",
    "    domains,\n",
    "    pickle_path,\n",
    "    x_transforms,\n",
    "    episode_transforms,\n",
    "    domain_prefix,\n",
    "    num_examples_per_domain_per_label,\n",
    "    source_or_target_dataset:str,\n",
    "    iterator_seed=p.seed,\n",
    "    dataset_seed=p.dataset_seed,\n",
    "    n_shot=p.n_shot,\n",
    "    n_way=p.n_way,\n",
    "    n_query=p.n_query,\n",
    "    train_val_test_k_factors=(p.train_k_factor,p.val_k_factor,p.test_k_factor),\n",
    "):\n",
    "   \n",
    "    if x_transforms == []: x_transform = None\n",
    "    else: x_transform = get_chained_transform(x_transforms)\n",
    "    \n",
    "    if episode_transforms == []: episode_transform = None\n",
    "    else: raise Exception(\"episode_transforms not implemented\")\n",
    "    \n",
    "    episode_transform = lambda tup, _prefix=domain_prefix: (_prefix + str(tup[0]), tup[1])\n",
    "\n",
    "\n",
    "    eaf = Episodic_Accessor_Factory(\n",
    "        labels=labels,\n",
    "        domains=domains,\n",
    "        num_examples_per_domain_per_label=num_examples_per_domain_per_label,\n",
    "        iterator_seed=iterator_seed,\n",
    "        dataset_seed=dataset_seed,\n",
    "        n_shot=n_shot,\n",
    "        n_way=n_way,\n",
    "        n_query=n_query,\n",
    "        train_val_test_k_factors=train_val_test_k_factors,\n",
    "        pickle_path=pickle_path,\n",
    "        x_transform_func=x_transform,\n",
    "    )\n",
    "\n",
    "    train, val, test = eaf.get_train(), eaf.get_val(), eaf.get_test()\n",
    "    train = Lazy_Iterable_Wrapper(train, episode_transform)\n",
    "    val = Lazy_Iterable_Wrapper(val, episode_transform)\n",
    "    test = Lazy_Iterable_Wrapper(test, episode_transform)\n",
    "\n",
    "    if source_or_target_dataset==\"source\":\n",
    "        train_original_source.append(train)\n",
    "        val_original_source.append(val)\n",
    "        test_original_source.append(test)\n",
    "\n",
    "        p.domains_source.extend(\n",
    "            [domain_prefix + str(u) for u in domains]\n",
    "        )\n",
    "    elif source_or_target_dataset==\"target\":\n",
    "        train_original_target.append(train)\n",
    "        val_original_target.append(val)\n",
    "        test_original_target.append(test)\n",
    "        p.domains_target.extend(\n",
    "            [domain_prefix + str(u) for u in domains]\n",
    "        )\n",
    "    else:\n",
    "        raise Exception(f\"invalid source_or_target_dataset: {source_or_target_dataset}\")\n",
    "    "
   ]
  },
  {
   "cell_type": "code",
   "execution_count": 13,
   "id": "fe266617",
   "metadata": {
    "execution": {
     "iopub.execute_input": "2022-03-21T16:26:16.522969Z",
     "iopub.status.busy": "2022-03-21T16:26:16.522603Z",
     "iopub.status.idle": "2022-03-21T16:26:20.235158Z",
     "shell.execute_reply": "2022-03-21T16:26:20.234371Z"
    },
    "papermill": {
     "duration": 3.737149,
     "end_time": "2022-03-21T16:26:20.235354",
     "exception": false,
     "start_time": "2022-03-21T16:26:16.498205",
     "status": "completed"
    },
    "tags": []
   },
   "outputs": [],
   "source": [
    "for ds in p.datasets:\n",
    "    add_dataset(**ds)"
   ]
  },
  {
   "cell_type": "code",
   "execution_count": 14,
   "id": "b90d65ac",
   "metadata": {
    "execution": {
     "iopub.execute_input": "2022-03-21T16:26:20.284025Z",
     "iopub.status.busy": "2022-03-21T16:26:20.283642Z",
     "iopub.status.idle": "2022-03-21T16:26:20.309640Z",
     "shell.execute_reply": "2022-03-21T16:26:20.308822Z"
    },
    "papermill": {
     "duration": 0.049291,
     "end_time": "2022-03-21T16:26:20.309809",
     "exception": false,
     "start_time": "2022-03-21T16:26:20.260518",
     "status": "completed"
    },
    "tags": []
   },
   "outputs": [],
   "source": [
    "# from steves_utils.CORES.utils import (\n",
    "#     ALL_NODES,\n",
    "#     ALL_NODES_MINIMUM_1000_EXAMPLES,\n",
    "#     ALL_DAYS\n",
    "# )\n",
    "\n",
    "# add_dataset(\n",
    "#     labels=ALL_NODES,\n",
    "#     domains = ALL_DAYS,\n",
    "#     num_examples_per_domain_per_label=100,\n",
    "#     pickle_path=os.path.join(get_datasets_base_path(), \"cores.stratified_ds.2022A.pkl\"),\n",
    "#     source_or_target_dataset=\"target\",\n",
    "#     x_transform_func=global_x_transform_func,\n",
    "#     domain_modifier=lambda u: f\"cores_{u}\"\n",
    "# )"
   ]
  },
  {
   "cell_type": "code",
   "execution_count": 15,
   "id": "76db484d",
   "metadata": {
    "execution": {
     "iopub.execute_input": "2022-03-21T16:26:20.359454Z",
     "iopub.status.busy": "2022-03-21T16:26:20.359079Z",
     "iopub.status.idle": "2022-03-21T16:26:20.380284Z",
     "shell.execute_reply": "2022-03-21T16:26:20.379504Z"
    },
    "papermill": {
     "duration": 0.04423,
     "end_time": "2022-03-21T16:26:20.380451",
     "exception": false,
     "start_time": "2022-03-21T16:26:20.336221",
     "status": "completed"
    },
    "tags": []
   },
   "outputs": [],
   "source": [
    "# from steves_utils.ORACLE.utils_v2 import (\n",
    "#     ALL_DISTANCES_FEET,\n",
    "#     ALL_RUNS,\n",
    "#     ALL_SERIAL_NUMBERS,\n",
    "# )\n",
    "\n",
    "\n",
    "# add_dataset(\n",
    "#     labels=ALL_SERIAL_NUMBERS,\n",
    "#     domains = list(set(ALL_DISTANCES_FEET) - {2,62}),\n",
    "#     num_examples_per_domain_per_label=100,\n",
    "#     pickle_path=os.path.join(get_datasets_base_path(), \"oracle.Run2_framed_2000Examples_stratified_ds.2022A.pkl\"),\n",
    "#     source_or_target_dataset=\"source\",\n",
    "#     x_transform_func=global_x_transform_func,\n",
    "#     domain_modifier=lambda u: f\"oracle1_{u}\"\n",
    "# )\n"
   ]
  },
  {
   "cell_type": "code",
   "execution_count": 16,
   "id": "97dea9d2",
   "metadata": {
    "execution": {
     "iopub.execute_input": "2022-03-21T16:26:20.430790Z",
     "iopub.status.busy": "2022-03-21T16:26:20.430415Z",
     "iopub.status.idle": "2022-03-21T16:26:20.451413Z",
     "shell.execute_reply": "2022-03-21T16:26:20.450364Z"
    },
    "papermill": {
     "duration": 0.044988,
     "end_time": "2022-03-21T16:26:20.451609",
     "exception": false,
     "start_time": "2022-03-21T16:26:20.406621",
     "status": "completed"
    },
    "tags": []
   },
   "outputs": [],
   "source": [
    "# from steves_utils.ORACLE.utils_v2 import (\n",
    "#     ALL_DISTANCES_FEET,\n",
    "#     ALL_RUNS,\n",
    "#     ALL_SERIAL_NUMBERS,\n",
    "# )\n",
    "\n",
    "\n",
    "# add_dataset(\n",
    "#     labels=ALL_SERIAL_NUMBERS,\n",
    "#     domains = list(set(ALL_DISTANCES_FEET) - {2,62,56}),\n",
    "#     num_examples_per_domain_per_label=100,\n",
    "#     pickle_path=os.path.join(get_datasets_base_path(), \"oracle.Run2_framed_2000Examples_stratified_ds.2022A.pkl\"),\n",
    "#     source_or_target_dataset=\"source\",\n",
    "#     x_transform_func=global_x_transform_func,\n",
    "#     domain_modifier=lambda u: f\"oracle2_{u}\"\n",
    "# )"
   ]
  },
  {
   "cell_type": "code",
   "execution_count": 17,
   "id": "6f289866",
   "metadata": {
    "execution": {
     "iopub.execute_input": "2022-03-21T16:26:20.500254Z",
     "iopub.status.busy": "2022-03-21T16:26:20.499691Z",
     "iopub.status.idle": "2022-03-21T16:26:20.516385Z",
     "shell.execute_reply": "2022-03-21T16:26:20.515581Z"
    },
    "papermill": {
     "duration": 0.039104,
     "end_time": "2022-03-21T16:26:20.516550",
     "exception": false,
     "start_time": "2022-03-21T16:26:20.477446",
     "status": "completed"
    },
    "tags": []
   },
   "outputs": [],
   "source": [
    "# add_dataset(\n",
    "#     labels=list(range(19)),\n",
    "#     domains = [0,1,2],\n",
    "#     num_examples_per_domain_per_label=100,\n",
    "#     pickle_path=os.path.join(get_datasets_base_path(), \"metehan.stratified_ds.2022A.pkl\"),\n",
    "#     source_or_target_dataset=\"target\",\n",
    "#     x_transform_func=global_x_transform_func,\n",
    "#     domain_modifier=lambda u: f\"met_{u}\"\n",
    "# )"
   ]
  },
  {
   "cell_type": "code",
   "execution_count": 18,
   "id": "86a863c3",
   "metadata": {
    "execution": {
     "iopub.execute_input": "2022-03-21T16:26:20.575981Z",
     "iopub.status.busy": "2022-03-21T16:26:20.567479Z",
     "iopub.status.idle": "2022-03-21T16:26:20.587296Z",
     "shell.execute_reply": "2022-03-21T16:26:20.587972Z"
    },
    "papermill": {
     "duration": 0.044412,
     "end_time": "2022-03-21T16:26:20.588198",
     "exception": false,
     "start_time": "2022-03-21T16:26:20.543786",
     "status": "completed"
    },
    "tags": []
   },
   "outputs": [],
   "source": [
    "# # from steves_utils.wisig.utils import (\n",
    "# #     ALL_NODES_MINIMUM_100_EXAMPLES,\n",
    "# #     ALL_NODES_MINIMUM_500_EXAMPLES,\n",
    "# #     ALL_NODES_MINIMUM_1000_EXAMPLES,\n",
    "# #     ALL_DAYS\n",
    "# # )\n",
    "\n",
    "# import steves_utils.wisig.utils as wisig\n",
    "\n",
    "\n",
    "# add_dataset(\n",
    "#     labels=wisig.ALL_NODES_MINIMUM_100_EXAMPLES,\n",
    "#     domains = wisig.ALL_DAYS,\n",
    "#     num_examples_per_domain_per_label=100,\n",
    "#     pickle_path=os.path.join(get_datasets_base_path(), \"wisig.node3-19.stratified_ds.2022A.pkl\"),\n",
    "#     source_or_target_dataset=\"target\",\n",
    "#     x_transform_func=global_x_transform_func,\n",
    "#     domain_modifier=lambda u: f\"wisig_{u}\"\n",
    "# )"
   ]
  },
  {
   "cell_type": "code",
   "execution_count": 19,
   "id": "fd5442bc",
   "metadata": {
    "execution": {
     "iopub.execute_input": "2022-03-21T16:26:20.643404Z",
     "iopub.status.busy": "2022-03-21T16:26:20.642908Z",
     "iopub.status.idle": "2022-03-21T16:26:20.662092Z",
     "shell.execute_reply": "2022-03-21T16:26:20.661270Z"
    },
    "papermill": {
     "duration": 0.048295,
     "end_time": "2022-03-21T16:26:20.662270",
     "exception": false,
     "start_time": "2022-03-21T16:26:20.613975",
     "status": "completed"
    },
    "tags": []
   },
   "outputs": [],
   "source": [
    "###################################\n",
    "# Build the dataset\n",
    "###################################\n",
    "train_original_source = Iterable_Aggregator(train_original_source, p.seed)\n",
    "val_original_source = Iterable_Aggregator(val_original_source, p.seed)\n",
    "test_original_source = Iterable_Aggregator(test_original_source, p.seed)\n",
    "\n",
    "\n",
    "train_original_target = Iterable_Aggregator(train_original_target, p.seed)\n",
    "val_original_target = Iterable_Aggregator(val_original_target, p.seed)\n",
    "test_original_target = Iterable_Aggregator(test_original_target, p.seed)\n",
    "\n",
    "# For CNN We only use X and Y. And we only train on the source.\n",
    "# Properly form the data using a transform lambda and Lazy_Iterable_Wrapper. Finally wrap them in a dataloader\n",
    "\n",
    "transform_lambda = lambda ex: ex[1] # Original is (<domain>, <episode>) so we strip down to episode only\n",
    "\n",
    "train_processed_source = Lazy_Iterable_Wrapper(train_original_source, transform_lambda)\n",
    "val_processed_source   = Lazy_Iterable_Wrapper(val_original_source, transform_lambda)\n",
    "test_processed_source  = Lazy_Iterable_Wrapper(test_original_source, transform_lambda)\n",
    "\n",
    "train_processed_target = Lazy_Iterable_Wrapper(train_original_target, transform_lambda)\n",
    "val_processed_target   = Lazy_Iterable_Wrapper(val_original_target, transform_lambda)\n",
    "test_processed_target  = Lazy_Iterable_Wrapper(test_original_target, transform_lambda)\n",
    "\n",
    "datasets = EasyDict({\n",
    "    \"source\": {\n",
    "        \"original\": {\"train\":train_original_source, \"val\":val_original_source, \"test\":test_original_source},\n",
    "        \"processed\": {\"train\":train_processed_source, \"val\":val_processed_source, \"test\":test_processed_source}\n",
    "    },\n",
    "    \"target\": {\n",
    "        \"original\": {\"train\":train_original_target, \"val\":val_original_target, \"test\":test_original_target},\n",
    "        \"processed\": {\"train\":train_processed_target, \"val\":val_processed_target, \"test\":test_processed_target}\n",
    "    },\n",
    "})"
   ]
  },
  {
   "cell_type": "code",
   "execution_count": 20,
   "id": "5b3c01fc",
   "metadata": {
    "execution": {
     "iopub.execute_input": "2022-03-21T16:26:20.715393Z",
     "iopub.status.busy": "2022-03-21T16:26:20.714834Z",
     "iopub.status.idle": "2022-03-21T16:26:36.278610Z",
     "shell.execute_reply": "2022-03-21T16:26:36.277776Z"
    },
    "papermill": {
     "duration": 15.589907,
     "end_time": "2022-03-21T16:26:36.278787",
     "exception": false,
     "start_time": "2022-03-21T16:26:20.688880",
     "status": "completed"
    },
    "tags": []
   },
   "outputs": [
    {
     "name": "stdout",
     "output_type": "stream",
     "text": [
      "{'ORACLE.run1_44', 'ORACLE.run1_8', 'ORACLE.run1_32', 'ORACLE.run1_26', 'ORACLE.run1_20', 'ORACLE.run1_50', 'ORACLE.run1_38', 'ORACLE.run1_14'}\n"
     ]
    },
    {
     "name": "stdout",
     "output_type": "stream",
     "text": [
      "{'CORES_4', 'CORES_2', 'CORES_3', 'CORES_1', 'CORES_5'}\n"
     ]
    },
    {
     "name": "stdout",
     "output_type": "stream",
     "text": [
      "tensor([[[ 3.1434e-03,  2.3804e-03, -3.1434e-03,  ..., -2.6246e-03,\n",
      "           3.0519e-05, -4.3031e-03],\n",
      "         [-1.9837e-03,  1.5564e-03,  3.2350e-03,  ..., -2.6856e-03,\n",
      "          -4.7609e-03, -1.2207e-04]],\n",
      "\n",
      "        [[ 1.5564e-03,  3.7233e-03, -2.5025e-03,  ..., -2.7161e-03,\n",
      "           3.1434e-03, -9.1556e-05],\n",
      "         [-1.3123e-03,  2.2279e-03,  1.1902e-03,  ..., -1.8006e-03,\n",
      "          -3.5096e-03, -3.3570e-03]],\n",
      "\n",
      "        [[-1.2207e-03, -2.4110e-03,  3.0519e-03,  ...,  2.5941e-03,\n",
      "          -3.8148e-03, -1.3123e-03],\n",
      "         [ 9.1556e-04, -3.2655e-03, -6.7141e-04,  ...,  2.7467e-03,\n",
      "           2.4720e-03,  2.8382e-03]],\n",
      "\n",
      "        ...,\n",
      "\n",
      "        [[-1.5564e-03, -3.5707e-03,  1.5259e-03,  ...,  3.5707e-03,\n",
      "           1.4954e-03,  3.9674e-03],\n",
      "         [ 3.6927e-03,  2.4415e-04, -4.2421e-03,  ...,  2.1363e-04,\n",
      "           4.4252e-03, -9.7659e-04]],\n",
      "\n",
      "        [[ 1.8921e-03,  3.0519e-05, -2.7161e-03,  ..., -2.7467e-04,\n",
      "           4.5778e-03,  2.7772e-03],\n",
      "         [ 0.0000e+00,  4.0895e-03, -1.5259e-03,  ..., -3.2350e-03,\n",
      "           5.4933e-04, -2.1363e-03]],\n",
      "\n",
      "        [[ 3.5707e-03,  1.8616e-03, -3.8453e-03,  ..., -2.5330e-03,\n",
      "           3.0519e-05, -5.1271e-03],\n",
      "         [-2.0142e-03,  1.9227e-03,  2.8687e-03,  ..., -3.1434e-03,\n",
      "          -4.4862e-03,  4.8830e-04]]])\n"
     ]
    }
   ],
   "source": [
    "from steves_utils.transforms import get_average_magnitude, get_average_power\n",
    "\n",
    "print(set([u for u,_ in val_original_source]))\n",
    "print(set([u for u,_ in val_original_target]))\n",
    "\n",
    "s_x, s_y, q_x, q_y, _ = next(iter(train_processed_source))\n",
    "print(s_x)\n",
    "\n",
    "# for ds in [\n",
    "#     train_processed_source,\n",
    "#     val_processed_source,\n",
    "#     test_processed_source,\n",
    "#     train_processed_target,\n",
    "#     val_processed_target,\n",
    "#     test_processed_target\n",
    "# ]:\n",
    "#     for s_x, s_y, q_x, q_y, _ in ds:\n",
    "#         for X in (s_x, q_x):\n",
    "#             for x in X:\n",
    "#                 assert np.isclose(get_average_magnitude(x.numpy()), 1.0)\n",
    "#                 assert np.isclose(get_average_power(x.numpy()), 1.0)\n",
    "                "
   ]
  },
  {
   "cell_type": "code",
   "execution_count": 21,
   "id": "bbdacba1",
   "metadata": {
    "execution": {
     "iopub.execute_input": "2022-03-21T16:26:36.335041Z",
     "iopub.status.busy": "2022-03-21T16:26:36.334151Z",
     "iopub.status.idle": "2022-03-21T16:26:36.569705Z",
     "shell.execute_reply": "2022-03-21T16:26:36.570352Z"
    },
    "papermill": {
     "duration": 0.263275,
     "end_time": "2022-03-21T16:26:36.570598",
     "exception": false,
     "start_time": "2022-03-21T16:26:36.307323",
     "status": "completed"
    },
    "tags": []
   },
   "outputs": [
    {
     "name": "stdout",
     "output_type": "stream",
     "text": [
      "(2, 256)\n"
     ]
    }
   ],
   "source": [
    "###################################\n",
    "# Build the model\n",
    "###################################\n",
    "# easfsl only wants a tuple for the shape\n",
    "model = Steves_Prototypical_Network(x_net, device=p.device, x_shape=tuple(p.x_shape))\n",
    "optimizer = Adam(params=model.parameters(), lr=p.lr)"
   ]
  },
  {
   "cell_type": "code",
   "execution_count": 22,
   "id": "22b39ac5",
   "metadata": {
    "execution": {
     "iopub.execute_input": "2022-03-21T16:26:36.628619Z",
     "iopub.status.busy": "2022-03-21T16:26:36.628250Z",
     "iopub.status.idle": "2022-03-21T16:56:16.036583Z",
     "shell.execute_reply": "2022-03-21T16:56:16.036090Z"
    },
    "papermill": {
     "duration": 1779.436074,
     "end_time": "2022-03-21T16:56:16.036710",
     "exception": false,
     "start_time": "2022-03-21T16:26:36.600636",
     "status": "completed"
    },
    "tags": []
   },
   "outputs": [
    {
     "name": "stdout",
     "output_type": "stream",
     "text": [
      "epoch: 1, [batch: 1 / 6720], examples_per_second: 33.5600, train_label_loss: 2.9645, \n"
     ]
    },
    {
     "name": "stdout",
     "output_type": "stream",
     "text": [
      "epoch: 1, [batch: 672 / 6720], examples_per_second: 2284.1976, train_label_loss: 0.5518, \n"
     ]
    },
    {
     "name": "stdout",
     "output_type": "stream",
     "text": [
      "epoch: 1, [batch: 1344 / 6720], examples_per_second: 2302.5166, train_label_loss: 0.5476, \n"
     ]
    },
    {
     "name": "stdout",
     "output_type": "stream",
     "text": [
      "epoch: 1, [batch: 2016 / 6720], examples_per_second: 2302.5743, train_label_loss: 0.5073, \n"
     ]
    },
    {
     "name": "stdout",
     "output_type": "stream",
     "text": [
      "epoch: 1, [batch: 2688 / 6720], examples_per_second: 2287.8218, train_label_loss: 0.2736, \n"
     ]
    },
    {
     "name": "stdout",
     "output_type": "stream",
     "text": [
      "epoch: 1, [batch: 3360 / 6720], examples_per_second: 2700.9759, train_label_loss: 0.2351, \n"
     ]
    },
    {
     "name": "stdout",
     "output_type": "stream",
     "text": [
      "epoch: 1, [batch: 4032 / 6720], examples_per_second: 2947.3251, train_label_loss: 0.2555, \n"
     ]
    },
    {
     "name": "stdout",
     "output_type": "stream",
     "text": [
      "epoch: 1, [batch: 4704 / 6720], examples_per_second: 3102.4733, train_label_loss: 0.4152, \n"
     ]
    },
    {
     "name": "stdout",
     "output_type": "stream",
     "text": [
      "epoch: 1, [batch: 5376 / 6720], examples_per_second: 2394.3448, train_label_loss: 0.4984, \n"
     ]
    },
    {
     "name": "stdout",
     "output_type": "stream",
     "text": [
      "epoch: 1, [batch: 6048 / 6720], examples_per_second: 2328.6907, train_label_loss: 0.2161, \n"
     ]
    },
    {
     "name": "stdout",
     "output_type": "stream",
     "text": [
      "=============================================================\n",
      "epoch: 1, source_val_acc_label: 0.6420, target_val_acc_label: 0.9156, source_val_label_loss: 110.6516, target_val_label_loss: 771.2606, \n",
      "=============================================================\n"
     ]
    },
    {
     "name": "stdout",
     "output_type": "stream",
     "text": [
      "New best\n"
     ]
    },
    {
     "name": "stdout",
     "output_type": "stream",
     "text": [
      "epoch: 2, [batch: 1 / 6720], examples_per_second: 2.0738, train_label_loss: 364.7686, \n"
     ]
    },
    {
     "name": "stdout",
     "output_type": "stream",
     "text": [
      "epoch: 2, [batch: 672 / 6720], examples_per_second: 2333.8229, train_label_loss: 0.4853, \n"
     ]
    },
    {
     "name": "stdout",
     "output_type": "stream",
     "text": [
      "epoch: 2, [batch: 1344 / 6720], examples_per_second: 2652.3220, train_label_loss: 2.9322, \n"
     ]
    },
    {
     "name": "stdout",
     "output_type": "stream",
     "text": [
      "epoch: 2, [batch: 2016 / 6720], examples_per_second: 2611.6703, train_label_loss: 0.2368, \n"
     ]
    },
    {
     "name": "stdout",
     "output_type": "stream",
     "text": [
      "epoch: 2, [batch: 2688 / 6720], examples_per_second: 2604.0346, train_label_loss: 0.3122, \n"
     ]
    },
    {
     "name": "stdout",
     "output_type": "stream",
     "text": [
      "epoch: 2, [batch: 3360 / 6720], examples_per_second: 2951.0132, train_label_loss: 0.4933, \n"
     ]
    },
    {
     "name": "stdout",
     "output_type": "stream",
     "text": [
      "epoch: 2, [batch: 4032 / 6720], examples_per_second: 3371.3672, train_label_loss: 0.2754, \n"
     ]
    },
    {
     "name": "stdout",
     "output_type": "stream",
     "text": [
      "epoch: 2, [batch: 4704 / 6720], examples_per_second: 3319.9764, train_label_loss: 0.2621, \n"
     ]
    },
    {
     "name": "stdout",
     "output_type": "stream",
     "text": [
      "epoch: 2, [batch: 5376 / 6720], examples_per_second: 3057.4131, train_label_loss: 0.1596, \n"
     ]
    },
    {
     "name": "stdout",
     "output_type": "stream",
     "text": [
      "epoch: 2, [batch: 6048 / 6720], examples_per_second: 2848.5510, train_label_loss: 0.2683, \n"
     ]
    },
    {
     "name": "stdout",
     "output_type": "stream",
     "text": [
      "=============================================================\n",
      "epoch: 2, source_val_acc_label: 0.9122, target_val_acc_label: 0.7465, source_val_label_loss: 0.2645, target_val_label_loss: 163.0198, \n",
      "=============================================================\n"
     ]
    },
    {
     "name": "stdout",
     "output_type": "stream",
     "text": [
      "epoch: 3, [batch: 1 / 6720], examples_per_second: 2.1958, train_label_loss: 0.1406, \n"
     ]
    },
    {
     "name": "stdout",
     "output_type": "stream",
     "text": [
      "epoch: 3, [batch: 672 / 6720], examples_per_second: 2326.4438, train_label_loss: 0.4496, \n"
     ]
    },
    {
     "name": "stdout",
     "output_type": "stream",
     "text": [
      "epoch: 3, [batch: 1344 / 6720], examples_per_second: 2339.3354, train_label_loss: 0.1568, \n"
     ]
    },
    {
     "name": "stdout",
     "output_type": "stream",
     "text": [
      "epoch: 3, [batch: 2016 / 6720], examples_per_second: 2316.5288, train_label_loss: 0.2657, \n"
     ]
    },
    {
     "name": "stdout",
     "output_type": "stream",
     "text": [
      "epoch: 3, [batch: 2688 / 6720], examples_per_second: 2317.4133, train_label_loss: 0.1752, \n"
     ]
    },
    {
     "name": "stdout",
     "output_type": "stream",
     "text": [
      "epoch: 3, [batch: 3360 / 6720], examples_per_second: 2528.6943, train_label_loss: 0.2743, \n"
     ]
    },
    {
     "name": "stdout",
     "output_type": "stream",
     "text": [
      "epoch: 3, [batch: 4032 / 6720], examples_per_second: 2961.5788, train_label_loss: 0.0618, \n"
     ]
    },
    {
     "name": "stdout",
     "output_type": "stream",
     "text": [
      "epoch: 3, [batch: 4704 / 6720], examples_per_second: 2939.9843, train_label_loss: 0.0344, \n"
     ]
    },
    {
     "name": "stdout",
     "output_type": "stream",
     "text": [
      "epoch: 3, [batch: 5376 / 6720], examples_per_second: 2731.8887, train_label_loss: 0.2538, \n"
     ]
    },
    {
     "name": "stdout",
     "output_type": "stream",
     "text": [
      "epoch: 3, [batch: 6048 / 6720], examples_per_second: 2296.5982, train_label_loss: 0.2211, \n"
     ]
    },
    {
     "name": "stdout",
     "output_type": "stream",
     "text": [
      "=============================================================\n",
      "epoch: 3, source_val_acc_label: 0.9169, target_val_acc_label: 0.9350, source_val_label_loss: 0.2488, target_val_label_loss: 4.7485, \n",
      "=============================================================\n"
     ]
    },
    {
     "name": "stdout",
     "output_type": "stream",
     "text": [
      "New best\n"
     ]
    },
    {
     "name": "stdout",
     "output_type": "stream",
     "text": [
      "epoch: 4, [batch: 1 / 6720], examples_per_second: 2.0644, train_label_loss: 0.2054, \n"
     ]
    },
    {
     "name": "stdout",
     "output_type": "stream",
     "text": [
      "epoch: 4, [batch: 672 / 6720], examples_per_second: 2302.4348, train_label_loss: 0.1754, \n"
     ]
    },
    {
     "name": "stdout",
     "output_type": "stream",
     "text": [
      "epoch: 4, [batch: 1344 / 6720], examples_per_second: 2331.5259, train_label_loss: 0.2061, \n"
     ]
    },
    {
     "name": "stdout",
     "output_type": "stream",
     "text": [
      "epoch: 4, [batch: 2016 / 6720], examples_per_second: 2313.8318, train_label_loss: 0.1830, \n"
     ]
    },
    {
     "name": "stdout",
     "output_type": "stream",
     "text": [
      "epoch: 4, [batch: 2688 / 6720], examples_per_second: 2309.2981, train_label_loss: 0.4827, \n"
     ]
    },
    {
     "name": "stdout",
     "output_type": "stream",
     "text": [
      "epoch: 4, [batch: 3360 / 6720], examples_per_second: 2490.8769, train_label_loss: 0.5706, \n"
     ]
    },
    {
     "name": "stdout",
     "output_type": "stream",
     "text": [
      "epoch: 4, [batch: 4032 / 6720], examples_per_second: 2918.5354, train_label_loss: 0.1969, \n"
     ]
    },
    {
     "name": "stdout",
     "output_type": "stream",
     "text": [
      "epoch: 4, [batch: 4704 / 6720], examples_per_second: 2989.2153, train_label_loss: 0.2299, \n"
     ]
    },
    {
     "name": "stdout",
     "output_type": "stream",
     "text": [
      "epoch: 4, [batch: 5376 / 6720], examples_per_second: 2809.4052, train_label_loss: 0.0500, \n"
     ]
    },
    {
     "name": "stdout",
     "output_type": "stream",
     "text": [
      "epoch: 4, [batch: 6048 / 6720], examples_per_second: 2316.6860, train_label_loss: 0.0559, \n"
     ]
    },
    {
     "name": "stdout",
     "output_type": "stream",
     "text": [
      "=============================================================\n",
      "epoch: 4, source_val_acc_label: 0.9295, target_val_acc_label: 0.9136, source_val_label_loss: 0.2025, target_val_label_loss: 22.3008, \n",
      "=============================================================\n"
     ]
    },
    {
     "name": "stdout",
     "output_type": "stream",
     "text": [
      "epoch: 5, [batch: 1 / 6720], examples_per_second: 2.0750, train_label_loss: 0.2536, \n"
     ]
    },
    {
     "name": "stdout",
     "output_type": "stream",
     "text": [
      "epoch: 5, [batch: 672 / 6720], examples_per_second: 2323.8830, train_label_loss: 0.1279, \n"
     ]
    },
    {
     "name": "stdout",
     "output_type": "stream",
     "text": [
      "epoch: 5, [batch: 1344 / 6720], examples_per_second: 2326.0540, train_label_loss: 0.1465, \n"
     ]
    },
    {
     "name": "stdout",
     "output_type": "stream",
     "text": [
      "epoch: 5, [batch: 2016 / 6720], examples_per_second: 2322.4420, train_label_loss: 0.2911, \n"
     ]
    },
    {
     "name": "stdout",
     "output_type": "stream",
     "text": [
      "epoch: 5, [batch: 2688 / 6720], examples_per_second: 2314.5083, train_label_loss: 0.0544, \n"
     ]
    },
    {
     "name": "stdout",
     "output_type": "stream",
     "text": [
      "epoch: 5, [batch: 3360 / 6720], examples_per_second: 2438.4637, train_label_loss: 0.1643, \n"
     ]
    },
    {
     "name": "stdout",
     "output_type": "stream",
     "text": [
      "epoch: 5, [batch: 4032 / 6720], examples_per_second: 2992.1671, train_label_loss: 0.1613, \n"
     ]
    },
    {
     "name": "stdout",
     "output_type": "stream",
     "text": [
      "epoch: 5, [batch: 4704 / 6720], examples_per_second: 2952.7487, train_label_loss: 0.1466, \n"
     ]
    },
    {
     "name": "stdout",
     "output_type": "stream",
     "text": [
      "epoch: 5, [batch: 5376 / 6720], examples_per_second: 3067.7945, train_label_loss: 0.0225, \n"
     ]
    },
    {
     "name": "stdout",
     "output_type": "stream",
     "text": [
      "epoch: 5, [batch: 6048 / 6720], examples_per_second: 2686.8967, train_label_loss: 0.0807, \n"
     ]
    },
    {
     "name": "stdout",
     "output_type": "stream",
     "text": [
      "=============================================================\n",
      "epoch: 5, source_val_acc_label: 0.9415, target_val_acc_label: 0.9119, source_val_label_loss: 0.1772, target_val_label_loss: 25.0119, \n",
      "=============================================================\n"
     ]
    },
    {
     "name": "stdout",
     "output_type": "stream",
     "text": [
      "epoch: 6, [batch: 1 / 6720], examples_per_second: 2.3899, train_label_loss: 0.1280, \n"
     ]
    },
    {
     "name": "stdout",
     "output_type": "stream",
     "text": [
      "epoch: 6, [batch: 672 / 6720], examples_per_second: 2605.4310, train_label_loss: 0.2931, \n"
     ]
    },
    {
     "name": "stdout",
     "output_type": "stream",
     "text": [
      "epoch: 6, [batch: 1344 / 6720], examples_per_second: 2672.6088, train_label_loss: 0.0303, \n"
     ]
    },
    {
     "name": "stdout",
     "output_type": "stream",
     "text": [
      "epoch: 6, [batch: 2016 / 6720], examples_per_second: 2563.5552, train_label_loss: 0.1714, \n"
     ]
    },
    {
     "name": "stdout",
     "output_type": "stream",
     "text": [
      "epoch: 6, [batch: 2688 / 6720], examples_per_second: 2564.0450, train_label_loss: 0.0165, \n"
     ]
    },
    {
     "name": "stdout",
     "output_type": "stream",
     "text": [
      "epoch: 6, [batch: 3360 / 6720], examples_per_second: 3043.9600, train_label_loss: 0.1671, \n"
     ]
    },
    {
     "name": "stdout",
     "output_type": "stream",
     "text": [
      "epoch: 6, [batch: 4032 / 6720], examples_per_second: 3310.2828, train_label_loss: 0.0546, \n"
     ]
    },
    {
     "name": "stdout",
     "output_type": "stream",
     "text": [
      "epoch: 6, [batch: 4704 / 6720], examples_per_second: 3477.9699, train_label_loss: 0.2388, \n"
     ]
    },
    {
     "name": "stdout",
     "output_type": "stream",
     "text": [
      "epoch: 6, [batch: 5376 / 6720], examples_per_second: 3554.9994, train_label_loss: 0.2876, \n"
     ]
    },
    {
     "name": "stdout",
     "output_type": "stream",
     "text": [
      "epoch: 6, [batch: 6048 / 6720], examples_per_second: 2967.1971, train_label_loss: 0.1577, \n"
     ]
    },
    {
     "name": "stdout",
     "output_type": "stream",
     "text": [
      "=============================================================\n",
      "epoch: 6, source_val_acc_label: 0.9446, target_val_acc_label: 0.9276, source_val_label_loss: 0.1690, target_val_label_loss: 71.0791, \n",
      "=============================================================\n"
     ]
    },
    {
     "name": "stdout",
     "output_type": "stream",
     "text": [
      "epoch: 7, [batch: 1 / 6720], examples_per_second: 3.1243, train_label_loss: 0.0868, \n"
     ]
    },
    {
     "name": "stdout",
     "output_type": "stream",
     "text": [
      "epoch: 7, [batch: 672 / 6720], examples_per_second: 3365.0505, train_label_loss: 0.1606, \n"
     ]
    },
    {
     "name": "stdout",
     "output_type": "stream",
     "text": [
      "epoch: 7, [batch: 1344 / 6720], examples_per_second: 3417.8693, train_label_loss: 0.3137, \n"
     ]
    },
    {
     "name": "stdout",
     "output_type": "stream",
     "text": [
      "epoch: 7, [batch: 2016 / 6720], examples_per_second: 2789.1588, train_label_loss: 0.3920, \n"
     ]
    },
    {
     "name": "stdout",
     "output_type": "stream",
     "text": [
      "epoch: 7, [batch: 2688 / 6720], examples_per_second: 2814.3940, train_label_loss: 0.0353, \n"
     ]
    },
    {
     "name": "stdout",
     "output_type": "stream",
     "text": [
      "epoch: 7, [batch: 3360 / 6720], examples_per_second: 2796.1633, train_label_loss: 0.2100, \n"
     ]
    },
    {
     "name": "stdout",
     "output_type": "stream",
     "text": [
      "epoch: 7, [batch: 4032 / 6720], examples_per_second: 2470.4315, train_label_loss: 0.0442, \n"
     ]
    },
    {
     "name": "stdout",
     "output_type": "stream",
     "text": [
      "epoch: 7, [batch: 4704 / 6720], examples_per_second: 2649.1214, train_label_loss: 0.0677, \n"
     ]
    },
    {
     "name": "stdout",
     "output_type": "stream",
     "text": [
      "epoch: 7, [batch: 5376 / 6720], examples_per_second: 2606.4236, train_label_loss: 0.1340, \n"
     ]
    },
    {
     "name": "stdout",
     "output_type": "stream",
     "text": [
      "epoch: 7, [batch: 6048 / 6720], examples_per_second: 2483.2411, train_label_loss: 0.0999, \n"
     ]
    },
    {
     "name": "stdout",
     "output_type": "stream",
     "text": [
      "=============================================================\n",
      "epoch: 7, source_val_acc_label: 0.9501, target_val_acc_label: 0.8798, source_val_label_loss: 0.1499, target_val_label_loss: 183.4165, \n",
      "=============================================================\n"
     ]
    },
    {
     "name": "stdout",
     "output_type": "stream",
     "text": [
      "Patience (3) exhausted\n"
     ]
    }
   ],
   "source": [
    "###################################\n",
    "# train\n",
    "###################################\n",
    "jig = PTN_Train_Eval_Test_Jig(model, p.BEST_MODEL_PATH, p.device)\n",
    "\n",
    "jig.train(\n",
    "    train_iterable=datasets.source.processed.train,\n",
    "    source_val_iterable=datasets.source.processed.val,\n",
    "    target_val_iterable=datasets.target.processed.val,\n",
    "    num_epochs=p.n_epoch,\n",
    "    num_logs_per_epoch=p.NUM_LOGS_PER_EPOCH,\n",
    "    patience=p.patience,\n",
    "    optimizer=optimizer,\n",
    "    criteria_for_best=p.criteria_for_best,\n",
    ")"
   ]
  },
  {
   "cell_type": "code",
   "execution_count": 23,
   "id": "31e8fabf",
   "metadata": {
    "execution": {
     "iopub.execute_input": "2022-03-21T16:56:16.132571Z",
     "iopub.status.busy": "2022-03-21T16:56:16.131477Z",
     "iopub.status.idle": "2022-03-21T16:56:16.162278Z",
     "shell.execute_reply": "2022-03-21T16:56:16.161464Z"
    },
    "papermill": {
     "duration": 0.078932,
     "end_time": "2022-03-21T16:56:16.162434",
     "exception": false,
     "start_time": "2022-03-21T16:56:16.083502",
     "status": "completed"
    },
    "tags": []
   },
   "outputs": [],
   "source": [
    "total_experiment_time_secs = time.time() - start_time_secs"
   ]
  },
  {
   "cell_type": "code",
   "execution_count": 24,
   "id": "87b9595b",
   "metadata": {
    "execution": {
     "iopub.execute_input": "2022-03-21T16:56:16.266037Z",
     "iopub.status.busy": "2022-03-21T16:56:16.265445Z",
     "iopub.status.idle": "2022-03-21T17:00:34.560824Z",
     "shell.execute_reply": "2022-03-21T17:00:34.561537Z"
    },
    "papermill": {
     "duration": 258.350473,
     "end_time": "2022-03-21T17:00:34.561822",
     "exception": false,
     "start_time": "2022-03-21T16:56:16.211349",
     "status": "completed"
    },
    "tags": []
   },
   "outputs": [],
   "source": [
    "###################################\n",
    "# Evaluate the model\n",
    "###################################\n",
    "source_test_label_accuracy, source_test_label_loss = jig.test(datasets.source.processed.test)\n",
    "target_test_label_accuracy, target_test_label_loss = jig.test(datasets.target.processed.test)\n",
    "\n",
    "source_val_label_accuracy, source_val_label_loss = jig.test(datasets.source.processed.val)\n",
    "target_val_label_accuracy, target_val_label_loss = jig.test(datasets.target.processed.val)\n",
    "\n",
    "history = jig.get_history()\n",
    "\n",
    "total_epochs_trained = len(history[\"epoch_indices\"])\n",
    "\n",
    "val_dl = Iterable_Aggregator((datasets.source.original.val,datasets.target.original.val))\n",
    "\n",
    "confusion = ptn_confusion_by_domain_over_dataloader(model, p.device, val_dl)\n",
    "per_domain_accuracy = per_domain_accuracy_from_confusion(confusion)\n",
    "\n",
    "# Add a key to per_domain_accuracy for if it was a source domain\n",
    "for domain, accuracy in per_domain_accuracy.items():\n",
    "    per_domain_accuracy[domain] = {\n",
    "        \"accuracy\": accuracy,\n",
    "        \"source?\": domain in p.domains_source\n",
    "    }\n",
    "\n",
    "# Do an independent accuracy assesment JUST TO BE SURE!\n",
    "# _source_test_label_accuracy = independent_accuracy_assesment(model, datasets.source.processed.test, p.device)\n",
    "# _target_test_label_accuracy = independent_accuracy_assesment(model, datasets.target.processed.test, p.device)\n",
    "# _source_val_label_accuracy = independent_accuracy_assesment(model, datasets.source.processed.val, p.device)\n",
    "# _target_val_label_accuracy = independent_accuracy_assesment(model, datasets.target.processed.val, p.device)\n",
    "\n",
    "# assert(_source_test_label_accuracy == source_test_label_accuracy)\n",
    "# assert(_target_test_label_accuracy == target_test_label_accuracy)\n",
    "# assert(_source_val_label_accuracy == source_val_label_accuracy)\n",
    "# assert(_target_val_label_accuracy == target_val_label_accuracy)\n",
    "\n",
    "experiment = {\n",
    "    \"experiment_name\": p.experiment_name,\n",
    "    \"parameters\": dict(p),\n",
    "    \"results\": {\n",
    "        \"source_test_label_accuracy\": source_test_label_accuracy,\n",
    "        \"source_test_label_loss\": source_test_label_loss,\n",
    "        \"target_test_label_accuracy\": target_test_label_accuracy,\n",
    "        \"target_test_label_loss\": target_test_label_loss,\n",
    "        \"source_val_label_accuracy\": source_val_label_accuracy,\n",
    "        \"source_val_label_loss\": source_val_label_loss,\n",
    "        \"target_val_label_accuracy\": target_val_label_accuracy,\n",
    "        \"target_val_label_loss\": target_val_label_loss,\n",
    "        \"total_epochs_trained\": total_epochs_trained,\n",
    "        \"total_experiment_time_secs\": total_experiment_time_secs,\n",
    "        \"confusion\": confusion,\n",
    "        \"per_domain_accuracy\": per_domain_accuracy,\n",
    "    },\n",
    "    \"history\": history,\n",
    "    \"dataset_metrics\": get_dataset_metrics(datasets, \"ptn\"),\n",
    "}"
   ]
  },
  {
   "cell_type": "code",
   "execution_count": 25,
   "id": "54a21829",
   "metadata": {
    "execution": {
     "iopub.execute_input": "2022-03-21T17:00:34.662841Z",
     "iopub.status.busy": "2022-03-21T17:00:34.662187Z",
     "iopub.status.idle": "2022-03-21T17:00:34.902961Z",
     "shell.execute_reply": "2022-03-21T17:00:34.903679Z"
    },
    "papermill": {
     "duration": 0.290788,
     "end_time": "2022-03-21T17:00:34.903892",
     "exception": false,
     "start_time": "2022-03-21T17:00:34.613104",
     "status": "completed"
    },
    "tags": []
   },
   "outputs": [
    {
     "data": {
      "image/png": "[encoded data removed]",
      "text/plain": [
       "<Figure size 1080x504 with 1 Axes>"
      ]
     },
     "metadata": {
      "needs_background": "light"
     },
     "output_type": "display_data"
    }
   ],
   "source": [
    "ax = get_loss_curve(experiment)\n",
    "plt.show()"
   ]
  },
  {
   "cell_type": "code",
   "execution_count": 26,
   "id": "fd8a0f60",
   "metadata": {
    "execution": {
     "iopub.execute_input": "2022-03-21T17:00:35.006475Z",
     "iopub.status.busy": "2022-03-21T17:00:35.006097Z",
     "iopub.status.idle": "2022-03-21T17:00:35.381301Z",
     "shell.execute_reply": "2022-03-21T17:00:35.381976Z"
    },
    "papermill": {
     "duration": 0.425274,
     "end_time": "2022-03-21T17:00:35.382191",
     "exception": false,
     "start_time": "2022-03-21T17:00:34.956917",
     "status": "completed"
    },
    "tags": []
   },
   "outputs": [
    {
     "data": {
      "text/plain": [
       "<AxesSubplot:title={'center':'Results'}>"
      ]
     },
     "execution_count": 26,
     "metadata": {},
     "output_type": "execute_result"
    },
    {
     "data": {
      "image/png": "[encoded data removed]",
      "text/plain": [
       "<Figure size 1080x504 with 1 Axes>"
      ]
     },
     "metadata": {
      "needs_background": "light"
     },
     "output_type": "display_data"
    }
   ],
   "source": [
    "get_results_table(experiment)"
   ]
  },
  {
   "cell_type": "code",
   "execution_count": 27,
   "id": "cf8dc689",
   "metadata": {
    "execution": {
     "iopub.execute_input": "2022-03-21T17:00:35.495353Z",
     "iopub.status.busy": "2022-03-21T17:00:35.494979Z",
     "iopub.status.idle": "2022-03-21T17:00:35.758899Z",
     "shell.execute_reply": "2022-03-21T17:00:35.759587Z"
    },
    "papermill": {
     "duration": 0.32456,
     "end_time": "2022-03-21T17:00:35.759790",
     "exception": false,
     "start_time": "2022-03-21T17:00:35.435230",
     "status": "completed"
    },
    "tags": []
   },
   "outputs": [
    {
     "data": {
      "text/plain": [
       "<AxesSubplot:title={'center':'Per Domain Validation Accuracy'}, xlabel='domain'>"
      ]
     },
     "execution_count": 27,
     "metadata": {},
     "output_type": "execute_result"
    },
    {
     "data": {
      "image/png": "[encoded data removed]",
      "text/plain": [
       "<Figure size 1080x504 with 1 Axes>"
      ]
     },
     "metadata": {
      "needs_background": "light"
     },
     "output_type": "display_data"
    }
   ],
   "source": [
    "get_domain_accuracies(experiment)"
   ]
  },
  {
   "cell_type": "code",
   "execution_count": 28,
   "id": "a74ae082",
   "metadata": {
    "execution": {
     "iopub.execute_input": "2022-03-21T17:00:35.863232Z",
     "iopub.status.busy": "2022-03-21T17:00:35.862863Z",
     "iopub.status.idle": "2022-03-21T17:00:35.888327Z",
     "shell.execute_reply": "2022-03-21T17:00:35.887625Z"
    },
    "papermill": {
     "duration": 0.076892,
     "end_time": "2022-03-21T17:00:35.888481",
     "exception": false,
     "start_time": "2022-03-21T17:00:35.811589",
     "status": "completed"
    },
    "tags": []
   },
   "outputs": [
    {
     "name": "stdout",
     "output_type": "stream",
     "text": [
      "Source Test Label Accuracy: 0.9168294270833334 Target Test Label Accuracy: 0.9383121468926554\n",
      "Source Val Label Accuracy: 0.9169270833333333 Target Val Label Accuracy: 0.9349642857142857\n"
     ]
    }
   ],
   "source": [
    "print(\"Source Test Label Accuracy:\", experiment[\"results\"][\"source_test_label_accuracy\"], \"Target Test Label Accuracy:\", experiment[\"results\"][\"target_test_label_accuracy\"])\n",
    "print(\"Source Val Label Accuracy:\", experiment[\"results\"][\"source_val_label_accuracy\"], \"Target Val Label Accuracy:\", experiment[\"results\"][\"target_val_label_accuracy\"])"
   ]
  },
  {
   "cell_type": "code",
   "execution_count": 29,
   "id": "dacca602",
   "metadata": {
    "execution": {
     "iopub.execute_input": "2022-03-21T17:00:35.993835Z",
     "iopub.status.busy": "2022-03-21T17:00:35.993476Z",
     "iopub.status.idle": "2022-03-21T17:00:36.019157Z",
     "shell.execute_reply": "2022-03-21T17:00:36.019860Z"
    },
    "papermill": {
     "duration": 0.076319,
     "end_time": "2022-03-21T17:00:36.020036",
     "exception": false,
     "start_time": "2022-03-21T17:00:35.943717",
     "status": "completed"
    },
    "tags": [
     "experiment_json"
    ]
   },
   "outputs": [
    {
     "data": {
      "text/plain": [
       "'{\"experiment_name\": \"tl_1v2:cores-oracle.run1.framed\", \"parameters\": {\"experiment_name\": \"tl_1v2:cores-oracle.run1.framed\", \"device\": \"cuda\", \"lr\": 0.0001, \"n_shot\": 3, \"n_query\": 2, \"train_k_factor\": 3, \"val_k_factor\": 2, \"test_k_factor\": 2, \"torch_default_dtype\": \"torch.float32\", \"n_epoch\": 50, \"patience\": 3, \"criteria_for_best\": \"target_accuracy\", \"x_net\": [{\"class\": \"nnReshape\", \"kargs\": {\"shape\": [-1, 1, 2, 256]}}, {\"class\": \"Conv2d\", \"kargs\": {\"in_channels\": 1, \"out_channels\": 256, \"kernel_size\": [1, 7], \"bias\": false, \"padding\": [0, 3]}}, {\"class\": \"ReLU\", \"kargs\": {\"inplace\": true}}, {\"class\": \"BatchNorm2d\", \"kargs\": {\"num_features\": 256}}, {\"class\": \"Conv2d\", \"kargs\": {\"in_channels\": 256, \"out_channels\": 80, \"kernel_size\": [2, 7], \"bias\": true, \"padding\": [0, 3]}}, {\"class\": \"ReLU\", \"kargs\": {\"inplace\": true}}, {\"class\": \"BatchNorm2d\", \"kargs\": {\"num_features\": 80}}, {\"class\": \"Flatten\", \"kargs\": {}}, {\"class\": \"Linear\", \"kargs\": {\"in_features\": 20480, \"out_features\": 256}}, {\"class\": \"ReLU\", \"kargs\": {\"inplace\": true}}, {\"class\": \"BatchNorm1d\", \"kargs\": {\"num_features\": 256}}, {\"class\": \"Linear\", \"kargs\": {\"in_features\": 256, \"out_features\": 256}}], \"NUM_LOGS_PER_EPOCH\": 10, \"BEST_MODEL_PATH\": \"./best_model.pth\", \"n_way\": 16, \"datasets\": [{\"labels\": [\"1-10.\", \"1-11.\", \"1-15.\", \"1-16.\", \"1-17.\", \"1-18.\", \"1-19.\", \"10-4.\", \"10-7.\", \"11-1.\", \"11-14.\", \"11-17.\", \"11-20.\", \"11-7.\", \"13-20.\", \"13-8.\", \"14-10.\", \"14-11.\", \"14-14.\", \"14-7.\", \"15-1.\", \"15-20.\", \"16-1.\", \"16-16.\", \"17-10.\", \"17-11.\", \"17-2.\", \"19-1.\", \"19-16.\", \"19-19.\", \"19-20.\", \"19-3.\", \"2-10.\", \"2-11.\", \"2-17.\", \"2-18.\", \"2-20.\", \"2-3.\", \"2-4.\", \"2-5.\", \"2-6.\", \"2-7.\", \"2-8.\", \"3-13.\", \"3-18.\", \"3-3.\", \"4-1.\", \"4-10.\", \"4-11.\", \"4-19.\", \"5-5.\", \"6-15.\", \"7-10.\", \"7-14.\", \"8-18.\", \"8-20.\", \"8-3.\", \"8-8.\"], \"domains\": [1, 2, 3, 4, 5], \"num_examples_per_domain_per_label\": -1, \"pickle_path\": \"/root/csc500-main/datasets/cores.stratified_ds.2022A.pkl\", \"source_or_target_dataset\": \"target\", \"x_transforms\": [], \"episode_transforms\": [], \"domain_prefix\": \"CORES_\"}, {\"labels\": [\"3123D52\", \"3123D65\", \"3123D79\", \"3123D80\", \"3123D54\", \"3123D70\", \"3123D7B\", \"3123D89\", \"3123D58\", \"3123D76\", \"3123D7D\", \"3123EFE\", \"3123D64\", \"3123D78\", \"3123D7E\", \"3124E4A\"], \"domains\": [32, 38, 8, 44, 14, 50, 20, 26], \"num_examples_per_domain_per_label\": 2000, \"pickle_path\": \"/root/csc500-main/datasets/oracle.Run1_framed_2000Examples_stratified_ds.2022A.pkl\", \"source_or_target_dataset\": \"source\", \"x_transforms\": [], \"episode_transforms\": [], \"domain_prefix\": \"ORACLE.run1_\"}], \"dataset_seed\": 7, \"seed\": 7, \"x_shape\": [2, 256], \"domains_source\": [\"ORACLE.run1_32\", \"ORACLE.run1_38\", \"ORACLE.run1_8\", \"ORACLE.run1_44\", \"ORACLE.run1_14\", \"ORACLE.run1_50\", \"ORACLE.run1_20\", \"ORACLE.run1_26\"], \"domains_target\": [\"CORES_1\", \"CORES_2\", \"CORES_3\", \"CORES_4\", \"CORES_5\"]}, \"results\": {\"source_test_label_accuracy\": 0.9168294270833334, \"source_test_label_loss\": 0.24384334683418274, \"target_test_label_accuracy\": 0.9383121468926554, \"target_test_label_loss\": 4.6899333000183105, \"source_val_label_accuracy\": 0.9169270833333333, \"source_val_label_loss\": 0.24880929291248322, \"target_val_label_accuracy\": 0.9349642857142857, \"target_val_label_loss\": 4.748476505279541, \"total_epochs_trained\": 7, \"total_experiment_time_secs\": 1799.9266028404236, \"confusion\": {\"ORACLE.run1_26\": {\"0\": {\"0\": 177, \"14\": 22, \"10\": 37, \"8\": 2, \"6\": 1, \"1\": 1}, \"4\": {\"4\": 240}, \"14\": {\"10\": 32, \"14\": 193, \"0\": 12, \"1\": 3}, \"12\": {\"12\": 240}, \"8\": {\"7\": 33, \"8\": 191, \"9\": 11, \"2\": 4, \"0\": 1}, \"7\": {\"7\": 217, \"8\": 13, \"3\": 3, \"2\": 7}, \"13\": {\"13\": 217, \"2\": 14, \"9\": 6, \"4\": 1, \"3\": 2}, \"5\": {\"5\": 219, \"15\": 21}, \"15\": {\"15\": 204, \"5\": 10, \"6\": 26}, \"10\": {\"10\": 178, \"14\": 38, \"0\": 20, \"1\": 1, \"15\": 1, \"6\": 2}, \"3\": {\"3\": 225, \"2\": 5, \"7\": 10}, \"9\": {\"9\": 211, \"8\": 20, \"2\": 1, \"13\": 6, \"7\": 2}, \"6\": {\"6\": 230, \"15\": 8, \"10\": 2}, \"1\": {\"1\": 215, \"14\": 25}, \"11\": {\"11\": 240}, \"2\": {\"2\": 175, \"7\": 33, \"3\": 19, \"8\": 6, \"9\": 4, \"0\": 3}}, \"ORACLE.run1_44\": {\"1\": {\"1\": 240}, \"11\": {\"11\": 240}, \"3\": {\"3\": 238, \"12\": 2}, \"6\": {\"6\": 199, \"13\": 30, \"9\": 10, \"7\": 1}, \"7\": {\"7\": 220, \"9\": 18, \"2\": 1, \"10\": 1}, \"5\": {\"5\": 225, \"8\": 2, \"14\": 9, \"15\": 3, \"4\": 1}, \"2\": {\"2\": 228, \"7\": 6, \"1\": 2, \"10\": 3, \"9\": 1}, \"15\": {\"15\": 220, \"5\": 7, \"8\": 1, \"14\": 11, \"4\": 1}, \"10\": {\"10\": 231, \"7\": 4, \"1\": 3, \"2\": 2}, \"13\": {\"13\": 209, \"6\": 29, \"9\": 2}, \"8\": {\"8\": 177, \"0\": 54, \"15\": 6, \"5\": 3}, \"4\": {\"4\": 193, \"14\": 46, \"5\": 1}, \"9\": {\"9\": 142, \"7\": 42, \"13\": 27, \"6\": 29}, \"14\": {\"4\": 42, \"14\": 186, \"5\": 7, \"15\": 5}, \"0\": {\"0\": 214, \"8\": 26}, \"12\": {\"12\": 238, \"3\": 2}}, \"ORACLE.run1_50\": {\"15\": {\"15\": 236, \"11\": 2, \"4\": 1, \"6\": 1}, \"4\": {\"4\": 201, \"5\": 11, \"15\": 12, \"7\": 15, \"6\": 1}, \"6\": {\"6\": 224, \"5\": 11, \"15\": 5}, \"2\": {\"2\": 233, \"0\": 7}, \"5\": {\"5\": 176, \"7\": 30, \"4\": 10, \"6\": 18, \"13\": 2, \"15\": 3, \"1\": 1}, \"9\": {\"9\": 222, \"12\": 8, \"11\": 10}, \"8\": {\"8\": 238, \"10\": 2}, \"12\": {\"12\": 232, \"9\": 8}, \"10\": {\"10\": 240}, \"1\": {\"1\": 238, \"13\": 1, \"5\": 1}, \"0\": {\"0\": 234, \"2\": 4, \"10\": 2}, \"3\": {\"3\": 240}, \"13\": {\"13\": 239, \"5\": 1}, \"11\": {\"11\": 221, \"12\": 6, \"9\": 7, \"15\": 6}, \"7\": {\"7\": 230, \"5\": 9, \"4\": 1}, \"14\": {\"14\": 240}}, \"ORACLE.run1_38\": {\"15\": {\"15\": 226, \"5\": 6, \"8\": 7, \"1\": 1}, \"11\": {\"11\": 240}, \"10\": {\"10\": 230, \"13\": 7, \"0\": 3}, \"14\": {\"14\": 231, \"2\": 8, \"13\": 1}, \"6\": {\"6\": 240}, \"4\": {\"4\": 240}, \"13\": {\"13\": 228, \"2\": 1, \"0\": 4, \"10\": 7}, \"3\": {\"3\": 240}, \"7\": {\"7\": 228, \"5\": 5, \"0\": 5, \"8\": 2}, \"8\": {\"8\": 185, \"5\": 49, \"0\": 1, \"7\": 5}, \"1\": {\"1\": 240}, \"5\": {\"5\": 118, \"15\": 5, \"8\": 94, \"7\": 13, \"9\": 10}, \"0\": {\"0\": 218, \"7\": 7, \"10\": 8, \"5\": 3, \"13\": 3, \"8\": 1}, \"2\": {\"2\": 237, \"14\": 3}, \"12\": {\"12\": 240}, \"9\": {\"9\": 239, \"5\": 1}}, \"ORACLE.run1_20\": {\"10\": {\"10\": 240}, \"7\": {\"7\": 221, \"9\": 6, \"2\": 12, \"4\": 1}, \"4\": {\"4\": 240}, \"13\": {\"13\": 236, \"2\": 4}, \"1\": {\"1\": 215, \"5\": 18, \"15\": 2, \"9\": 4, \"3\": 1}, \"0\": {\"5\": 1, \"0\": 238, \"8\": 1}, \"12\": {\"12\": 224, \"2\": 14, \"15\": 1, \"1\": 1}, \"5\": {\"1\": 28, \"5\": 205, \"3\": 7}, \"6\": {\"6\": 239, \"7\": 1}, \"2\": {\"12\": 29, \"2\": 189, \"7\": 16, \"9\": 4, \"1\": 1, \"15\": 1}, \"8\": {\"8\": 235, \"14\": 5}, \"11\": {\"11\": 240}, \"9\": {\"9\": 217, \"3\": 10, \"1\": 2, \"7\": 8, \"2\": 3}, \"14\": {\"14\": 236, \"8\": 4}, \"15\": {\"1\": 21, \"15\": 217, \"12\": 1, \"13\": 1}, \"3\": {\"3\": 213, \"9\": 16, \"8\": 4, \"5\": 5, \"1\": 2}}, \"ORACLE.run1_14\": {\"14\": {\"14\": 224, \"3\": 2, \"2\": 5, \"13\": 7, \"6\": 2}, \"0\": {\"0\": 236, \"14\": 1, \"3\": 3}, \"4\": {\"4\": 235, \"5\": 5}, \"11\": {\"11\": 240}, \"13\": {\"6\": 107, \"13\": 71, \"14\": 35, \"2\": 21, \"15\": 6}, \"9\": {\"9\": 240}, \"3\": {\"3\": 239, \"0\": 1}, \"6\": {\"13\": 53, \"6\": 183, \"14\": 3, \"2\": 1}, \"1\": {\"1\": 240}, \"5\": {\"5\": 234, \"2\": 3, \"4\": 3}, \"12\": {\"12\": 240}, \"10\": {\"10\": 240}, \"8\": {\"8\": 240}, \"7\": {\"7\": 239, \"5\": 1}, \"15\": {\"15\": 240}, \"2\": {\"14\": 32, \"2\": 143, \"6\": 18, \"5\": 37, \"13\": 7, \"4\": 3}}, \"ORACLE.run1_32\": {\"11\": {\"11\": 240}, \"1\": {\"1\": 240}, \"2\": {\"2\": 226, \"4\": 14}, \"0\": {\"0\": 204, \"5\": 7, \"7\": 14, \"8\": 7, \"14\": 8}, \"3\": {\"3\": 231, \"13\": 9}, \"8\": {\"5\": 10, \"8\": 215, \"0\": 11, \"14\": 4}, \"12\": {\"12\": 240}, \"5\": {\"5\": 174, \"7\": 51, \"0\": 7, \"14\": 2, \"8\": 6}, \"15\": {\"15\": 240}, \"7\": {\"7\": 185, \"5\": 35, \"0\": 11, \"14\": 8, \"8\": 1}, \"4\": {\"4\": 219, \"2\": 19, \"13\": 2}, \"14\": {\"0\": 15, \"14\": 202, \"7\": 18, \"5\": 2, \"8\": 3}, \"10\": {\"10\": 240}, \"6\": {\"6\": 240}, \"13\": {\"13\": 222, \"4\": 6, \"3\": 12}, \"9\": {\"9\": 239, \"2\": 1}}, \"ORACLE.run1_8\": {\"9\": {\"9\": 240}, \"11\": {\"11\": 194, \"1\": 46}, \"8\": {\"8\": 240}, \"4\": {\"4\": 239, \"14\": 1}, \"13\": {\"10\": 21, \"13\": 206, \"7\": 10, \"6\": 3}, \"14\": {\"14\": 236, \"4\": 4}, \"2\": {\"2\": 206, \"3\": 22, \"12\": 11, \"15\": 1}, \"3\": {\"3\": 240}, \"1\": {\"1\": 219, \"11\": 17, \"5\": 4}, \"0\": {\"0\": 240}, \"5\": {\"5\": 186, \"10\": 28, \"1\": 19, \"13\": 2, \"11\": 2, \"14\": 3}, \"15\": {\"15\": 230, \"12\": 10}, \"10\": {\"10\": 203, \"13\": 33, \"6\": 3, \"5\": 1}, \"12\": {\"12\": 194, \"15\": 46}, \"6\": {\"6\": 226, \"7\": 14}, \"7\": {\"7\": 227, \"6\": 13}}, \"CORES_5\": {\"26\": {\"26\": 22, \"38\": 1, \"53\": 1}, \"7\": {\"7\": 32}, \"56\": {\"56\": 142}, \"36\": {\"14\": 1, \"36\": 86, \"37\": 1, \"41\": 1, \"2\": 1, \"13\": 1, \"29\": 1}, \"47\": {\"47\": 90, \"57\": 8, \"52\": 2}, \"2\": {\"36\": 1, \"2\": 23, \"37\": 3, \"43\": 1}, \"15\": {\"15\": 129, \"16\": 15, \"11\": 8}, \"14\": {\"14\": 43, \"36\": 1}, \"27\": {\"27\": 134, \"8\": 12}, \"40\": {\"40\": 116, \"3\": 3, \"44\": 5}, \"49\": {\"49\": 36}, \"45\": {\"45\": 114, \"6\": 10}, \"46\": {\"46\": 132, \"22\": 1, \"40\": 1, \"0\": 2}, \"11\": {\"11\": 115, \"16\": 11, \"15\": 4}, \"30\": {\"30\": 104, \"9\": 8}, \"0\": {\"0\": 124}, \"10\": {\"10\": 67, \"24\": 1}, \"1\": {\"1\": 138, \"20\": 10}, \"42\": {\"42\": 40}, \"54\": {\"54\": 109, \"53\": 1, \"23\": 1, \"19\": 1}, \"55\": {\"55\": 142, \"17\": 5, \"53\": 3, \"32\": 1, \"23\": 1}, \"23\": {\"23\": 110, \"34\": 1, \"42\": 2, \"19\": 9, \"54\": 1, \"49\": 1}, \"25\": {\"25\": 152}, \"28\": {\"28\": 32}, \"32\": {\"32\": 32}, \"9\": {\"9\": 139, \"30\": 3}, \"39\": {\"39\": 19, \"14\": 1}, \"3\": {\"3\": 93, \"44\": 3, \"40\": 3, \"46\": 1}, \"29\": {\"29\": 118}, \"17\": {\"17\": 115, \"51\": 1}, \"35\": {\"42\": 1, \"35\": 30, \"13\": 2, \"49\": 1, \"36\": 1, \"34\": 1}, \"44\": {\"44\": 128, \"3\": 14, \"40\": 10}, \"5\": {\"5\": 128}, \"33\": {\"33\": 30, \"36\": 2}, \"34\": {\"34\": 34, \"49\": 2}, \"13\": {\"47\": 2, \"13\": 133, \"29\": 2, \"56\": 1}, \"41\": {\"41\": 19, \"39\": 1, \"33\": 5, \"54\": 1, \"47\": 1, \"36\": 1}, \"6\": {\"6\": 117, \"45\": 8, \"50\": 3}, \"51\": {\"51\": 134, \"32\": 3, \"27\": 1}, \"50\": {\"50\": 144}, \"37\": {\"2\": 3, \"14\": 1, \"37\": 16, \"13\": 1, \"36\": 1, \"0\": 1, \"29\": 1}, \"19\": {\"19\": 144}, \"57\": {\"57\": 117, \"47\": 5, \"52\": 10}, \"21\": {\"21\": 144}, \"24\": {\"24\": 79, \"31\": 1}, \"8\": {\"8\": 102, \"27\": 19, \"48\": 6, \"20\": 3}, \"12\": {\"12\": 96}, \"48\": {\"48\": 131, \"20\": 1}, \"43\": {\"43\": 148, \"2\": 1, \"24\": 1}, \"53\": {\"53\": 132, \"19\": 12, \"23\": 3, \"25\": 1}, \"38\": {\"38\": 30, \"7\": 2}, \"16\": {\"15\": 14, \"16\": 123, \"11\": 3, \"25\": 2}, \"22\": {\"22\": 27, \"46\": 1}, \"4\": {\"4\": 100}, \"18\": {\"18\": 62, \"25\": 2}, \"20\": {\"20\": 114, \"21\": 1, \"48\": 4, \"1\": 25}, \"52\": {\"52\": 124, \"21\": 4, \"57\": 10, \"47\": 2}, \"31\": {\"31\": 36}}, \"CORES_1\": {\"41\": {\"51\": 2, \"41\": 19, \"57\": 1, \"8\": 2}, \"40\": {\"40\": 110}, \"45\": {\"45\": 137, \"56\": 1}, \"51\": {\"51\": 146, \"41\": 2}, \"5\": {\"5\": 154}, \"30\": {\"30\": 111, \"14\": 1, \"13\": 7, \"57\": 1}, \"42\": {\"42\": 34, \"19\": 4, \"54\": 2}, \"46\": {\"46\": 120, \"6\": 11, \"50\": 5}, \"48\": {\"48\": 134}, \"53\": {\"53\": 141, \"19\": 3}, \"47\": {\"47\": 149, \"52\": 3}, \"49\": {\"49\": 28, \"39\": 2, \"43\": 2}, \"36\": {\"36\": 62, \"47\": 2}, \"32\": {\"32\": 29, \"36\": 1, \"38\": 2}, \"34\": {\"34\": 19, \"37\": 1, \"55\": 2, \"23\": 2}, \"29\": {\"29\": 138, \"13\": 1, \"1\": 1}, \"35\": {\"35\": 34, \"31\": 1, \"23\": 1}, \"3\": {\"3\": 131, \"44\": 2, \"56\": 1}, \"16\": {\"16\": 114, \"25\": 21, \"15\": 5}, \"26\": {\"26\": 22, \"19\": 2}, \"57\": {\"57\": 144}, \"44\": {\"44\": 128}, \"0\": {\"0\": 152}, \"4\": {\"4\": 132}, \"31\": {\"31\": 28}, \"11\": {\"11\": 140}, \"6\": {\"6\": 87, \"46\": 9}, \"54\": {\"54\": 103, \"23\": 1}, \"17\": {\"17\": 64}, \"20\": {\"20\": 128}, \"13\": {\"13\": 148, \"30\": 1, \"57\": 1}, \"33\": {\"33\": 32}, \"24\": {\"24\": 101, \"23\": 7}, \"52\": {\"52\": 100, \"21\": 18, \"22\": 5, \"47\": 9}, \"2\": {\"2\": 35, \"48\": 1}, \"19\": {\"19\": 148, \"53\": 3, \"26\": 3, \"25\": 1, \"54\": 1}, \"39\": {\"33\": 1, \"39\": 21, \"36\": 2, \"32\": 1, \"49\": 2, \"55\": 1}, \"8\": {\"8\": 140}, \"21\": {\"21\": 123, \"52\": 1}, \"10\": {\"10\": 92, \"15\": 3, \"11\": 1}, \"37\": {\"37\": 29, \"47\": 1, \"36\": 2}, \"25\": {\"25\": 138, \"16\": 3, \"18\": 2, \"15\": 1}, \"27\": {\"27\": 130}, \"23\": {\"23\": 131, \"24\": 3, \"16\": 1, \"15\": 1}, \"1\": {\"1\": 100}, \"50\": {\"50\": 152}, \"12\": {\"12\": 112, \"20\": 3, \"8\": 1}, \"18\": {\"18\": 72}, \"38\": {\"38\": 17, \"36\": 2, \"47\": 2, \"32\": 2, \"49\": 1}, \"14\": {\"14\": 19, \"30\": 1, \"13\": 2, \"57\": 1, \"20\": 1}, \"56\": {\"56\": 121, \"3\": 9, \"45\": 6, \"44\": 6}, \"55\": {\"55\": 156, \"38\": 1, \"33\": 3}, \"9\": {\"9\": 138}, \"15\": {\"15\": 142, \"28\": 1, \"16\": 3}, \"28\": {\"28\": 26, \"15\": 2}, \"7\": {\"51\": 1, \"7\": 27}, \"43\": {\"43\": 134, \"49\": 2}, \"22\": {\"22\": 134, \"21\": 1, \"0\": 1}}, \"CORES_3\": {\"1\": {\"1\": 99, \"29\": 1}, \"9\": {\"9\": 109, \"48\": 7, \"52\": 2, \"8\": 1, \"27\": 4, \"20\": 1}, \"22\": {\"22\": 132, \"0\": 4}, \"43\": {\"43\": 130, \"31\": 2, \"49\": 3, \"24\": 1}, \"49\": {\"49\": 8, \"31\": 4, \"43\": 6, \"24\": 1, \"34\": 1}, \"50\": {\"50\": 127, \"44\": 8, \"40\": 1, \"3\": 2}, \"53\": {\"53\": 135, \"19\": 1}, \"10\": {\"10\": 64}, \"48\": {\"48\": 101, \"9\": 10, \"30\": 1, \"52\": 3, \"20\": 1}, \"8\": {\"8\": 108, \"20\": 6, \"27\": 10, \"4\": 12, \"9\": 1, \"48\": 1}, \"31\": {\"31\": 27, \"43\": 1}, \"56\": {\"56\": 133, \"22\": 1}, \"25\": {\"25\": 127, \"11\": 4, \"16\": 5, \"15\": 6}, \"28\": {\"28\": 28}, \"38\": {\"38\": 28}, \"5\": {\"5\": 116}, \"12\": {\"12\": 91, \"45\": 1}, \"6\": {\"6\": 84, \"3\": 4}, \"19\": {\"19\": 150, \"53\": 2}, \"26\": {\"26\": 23, \"23\": 1}, \"32\": {\"32\": 28}, \"33\": {\"33\": 26, \"41\": 2}, \"3\": {\"3\": 110, \"44\": 3, \"50\": 5}, \"51\": {\"51\": 120, \"38\": 4, \"2\": 2, \"36\": 2}, \"16\": {\"25\": 4, \"16\": 98, \"11\": 15, \"15\": 21}, \"46\": {\"46\": 136, \"5\": 3, \"50\": 1}, \"7\": {\"7\": 20, \"37\": 3, \"14\": 2, \"34\": 2, \"35\": 2, \"13\": 3, \"42\": 1, \"55\": 3}, \"47\": {\"47\": 85, \"1\": 3, \"22\": 1, \"0\": 2, \"57\": 1}, \"39\": {\"39\": 16}, \"40\": {\"40\": 133, \"30\": 2, \"21\": 1}, \"14\": {\"39\": 5, \"14\": 27, \"13\": 6, \"57\": 1, \"7\": 1}, \"37\": {\"37\": 27, \"14\": 1}, \"2\": {\"2\": 26, \"54\": 1, \"51\": 4, \"38\": 1}, \"21\": {\"21\": 116, \"50\": 2, \"44\": 1, \"3\": 1}, \"35\": {\"35\": 25, \"37\": 1, \"55\": 1, \"14\": 1}, \"54\": {\"54\": 94, \"19\": 1, \"53\": 5}, \"52\": {\"52\": 114, \"48\": 1, \"41\": 1}, \"29\": {\"29\": 107, \"1\": 3, \"57\": 8}, \"20\": {\"20\": 105, \"8\": 4, \"4\": 12, \"30\": 2, \"52\": 3, \"9\": 3, \"27\": 1, \"48\": 2}, \"18\": {\"18\": 82, \"15\": 1, \"25\": 1}, \"11\": {\"11\": 112, \"15\": 23, \"16\": 7}, \"0\": {\"0\": 122, \"22\": 2}, \"36\": {\"36\": 100}, \"17\": {\"17\": 107, \"2\": 1}, \"30\": {\"30\": 113, \"40\": 1}, \"42\": {\"42\": 20, \"23\": 1, \"7\": 2, \"26\": 1, \"34\": 2, \"55\": 2}, \"45\": {\"45\": 59, \"6\": 1}, \"4\": {\"4\": 146, \"20\": 1, \"8\": 1}, \"23\": {\"23\": 127, \"42\": 1, \"26\": 3, \"55\": 3}, \"13\": {\"13\": 126, \"14\": 2}, \"15\": {\"15\": 102, \"16\": 12, \"11\": 13, \"25\": 1}, \"57\": {\"57\": 114, \"29\": 8, \"1\": 2}, \"27\": {\"9\": 8, \"27\": 122, \"8\": 2, \"48\": 2}, \"44\": {\"44\": 74, \"3\": 1, \"50\": 11, \"40\": 1, \"46\": 1}, \"34\": {\"34\": 30, \"26\": 1, \"55\": 1}, \"41\": {\"41\": 21, \"48\": 4, \"1\": 1, \"33\": 1, \"9\": 1}, \"24\": {\"24\": 104}, \"55\": {\"55\": 100, \"37\": 3, \"35\": 2, \"7\": 2, \"34\": 3, \"23\": 2, \"13\": 6}}, \"CORES_4\": {\"52\": {\"52\": 113, \"47\": 3}, \"6\": {\"6\": 78, \"50\": 21, \"3\": 12, \"45\": 1}, \"14\": {\"14\": 14, \"0\": 1, \"37\": 1}, \"49\": {\"41\": 3, \"2\": 2, \"49\": 11, \"32\": 2, \"37\": 1, \"13\": 1}, \"0\": {\"0\": 80}, \"46\": {\"46\": 150, \"22\": 6}, \"41\": {\"49\": 2, \"39\": 1, \"41\": 31, \"33\": 1, \"14\": 1}, \"24\": {\"24\": 55, \"43\": 1}, \"25\": {\"25\": 148, \"34\": 1, \"18\": 2, \"15\": 1}, \"40\": {\"40\": 136, \"44\": 2}, \"38\": {\"38\": 33, \"2\": 1, \"37\": 2, \"13\": 2, \"39\": 1, \"43\": 1}, \"13\": {\"13\": 151, \"2\": 1}, \"9\": {\"9\": 87, \"20\": 6, \"4\": 2, \"48\": 7, \"8\": 6}, \"45\": {\"45\": 96}, \"43\": {\"43\": 144}, \"10\": {\"10\": 129, \"11\": 1}, \"15\": {\"15\": 112, \"16\": 12, \"18\": 1, \"11\": 1, \"10\": 1, \"25\": 1}, \"39\": {\"39\": 20}, \"4\": {\"4\": 124, \"8\": 5, \"48\": 2, \"20\": 1}, \"53\": {\"53\": 116, \"26\": 3, \"23\": 8, \"19\": 4, \"55\": 1}, \"1\": {\"1\": 37, \"47\": 1, \"57\": 2}, \"28\": {\"28\": 29, \"34\": 1, \"25\": 2}, \"54\": {\"54\": 108}, \"21\": {\"21\": 132}, \"7\": {\"41\": 1, \"7\": 13, \"32\": 1, \"43\": 1, \"2\": 1, \"35\": 4, \"14\": 1, \"13\": 1, \"33\": 1}, \"8\": {\"4\": 10, \"8\": 104, \"48\": 9, \"9\": 8, \"20\": 5}, \"42\": {\"42\": 32}, \"11\": {\"11\": 88, \"16\": 6, \"15\": 7, \"10\": 3}, \"33\": {\"33\": 35, \"36\": 1}, \"27\": {\"27\": 140, \"8\": 1, \"48\": 1}, \"19\": {\"19\": 139, \"53\": 1, \"23\": 4}, \"2\": {\"2\": 28, \"13\": 6, \"38\": 1, \"37\": 1}, \"3\": {\"3\": 117, \"50\": 3}, \"57\": {\"57\": 89, \"29\": 6, \"1\": 4, \"47\": 1}, \"20\": {\"20\": 91, \"8\": 7, \"48\": 9, \"9\": 1, \"4\": 3, \"40\": 1}, \"23\": {\"23\": 113, \"19\": 12, \"55\": 3}, \"22\": {\"22\": 112, \"0\": 1, \"46\": 14, \"56\": 1}, \"29\": {\"57\": 11, \"47\": 3, \"29\": 110}, \"36\": {\"36\": 89, \"27\": 1, \"51\": 2}, \"51\": {\"51\": 125, \"27\": 2, \"36\": 5}, \"31\": {\"31\": 24, \"33\": 1, \"19\": 1, \"41\": 1, \"37\": 1}, \"12\": {\"12\": 92}, \"56\": {\"56\": 138}, \"5\": {\"5\": 108}, \"35\": {\"14\": 3, \"35\": 22, \"37\": 3, \"38\": 2, \"43\": 3, \"13\": 2, \"7\": 1, \"1\": 1, \"41\": 1, \"33\": 2}, \"17\": {\"17\": 80}, \"32\": {\"32\": 17, \"33\": 1, \"2\": 1, \"43\": 1, \"35\": 1, \"49\": 1, \"31\": 2}, \"47\": {\"47\": 113, \"57\": 3, \"29\": 1, \"52\": 3}, \"18\": {\"18\": 105, \"29\": 1, \"16\": 1, \"25\": 1}, \"26\": {\"26\": 19, \"53\": 3, \"36\": 1, \"19\": 1}, \"50\": {\"50\": 105, \"6\": 11, \"3\": 6}, \"55\": {\"55\": 93, \"19\": 9, \"23\": 6, \"26\": 1, \"54\": 6, \"42\": 1, \"35\": 3, \"43\": 2, \"41\": 1, \"31\": 1, \"53\": 1}, \"34\": {\"34\": 18, \"28\": 4, \"23\": 2}, \"30\": {\"6\": 1, \"30\": 43}, \"37\": {\"37\": 19, \"41\": 2, \"35\": 1, \"1\": 1, \"13\": 1}, \"44\": {\"44\": 128, \"40\": 4}, \"48\": {\"48\": 115, \"4\": 2, \"8\": 1}, \"16\": {\"15\": 9, \"16\": 83, \"11\": 4}}, \"CORES_2\": {\"11\": {\"10\": 4, \"11\": 87, \"16\": 25, \"15\": 14}, \"21\": {\"21\": 112, \"40\": 6, \"46\": 1, \"50\": 1}, \"19\": {\"19\": 139, \"23\": 1}, \"20\": {\"20\": 106, \"9\": 6, \"4\": 12, \"8\": 4}, \"9\": {\"9\": 122, \"4\": 3, \"8\": 10, \"27\": 1, \"48\": 3, \"20\": 1}, \"10\": {\"10\": 112}, \"37\": {\"37\": 32, \"31\": 1, \"39\": 2, \"38\": 1}, \"32\": {\"32\": 28}, \"3\": {\"3\": 84, \"6\": 7, \"44\": 1}, \"39\": {\"39\": 21, \"29\": 1, \"41\": 2, \"38\": 1, \"2\": 1, \"57\": 2}, \"45\": {\"45\": 126, \"6\": 1, \"12\": 1}, \"50\": {\"50\": 134, \"3\": 2}, \"40\": {\"40\": 136, \"50\": 1, \"48\": 1, \"21\": 1, \"9\": 1}, \"46\": {\"46\": 121, \"50\": 1, \"5\": 2, \"44\": 4}, \"12\": {\"12\": 92}, \"13\": {\"13\": 116}, \"47\": {\"29\": 1, \"47\": 118, \"57\": 8, \"1\": 4, \"22\": 1}, \"15\": {\"15\": 131, \"16\": 6, \"11\": 5}, \"54\": {\"54\": 108}, \"48\": {\"48\": 148}, \"23\": {\"23\": 132, \"49\": 1, \"42\": 3, \"55\": 2, \"7\": 2, \"19\": 2}, \"29\": {\"29\": 117, \"1\": 9, \"57\": 2}, \"38\": {\"38\": 20}, \"53\": {\"53\": 136}, \"27\": {\"27\": 136, \"48\": 1, \"8\": 6, \"9\": 5, \"32\": 2}, \"43\": {\"43\": 137, \"31\": 1, \"37\": 1, \"24\": 4, \"16\": 1}, \"35\": {\"35\": 27, \"54\": 2, \"51\": 1, \"36\": 1, \"17\": 1}, \"0\": {\"0\": 48}, \"52\": {\"52\": 121, \"30\": 3}, \"8\": {\"9\": 18, \"8\": 95, \"27\": 3, \"4\": 5, \"48\": 3, \"20\": 4}, \"24\": {\"24\": 90, \"43\": 5, \"31\": 1}, \"18\": {\"18\": 48}, \"25\": {\"25\": 142, \"15\": 6}, \"57\": {\"57\": 130, \"47\": 5, \"1\": 1}, \"55\": {\"37\": 3, \"55\": 107, \"14\": 1, \"13\": 6, \"42\": 1, \"7\": 10, \"23\": 5, \"39\": 1}, \"36\": {\"36\": 115, \"17\": 1}, \"17\": {\"17\": 104}, \"2\": {\"2\": 32}, \"34\": {\"34\": 24, \"49\": 2, \"15\": 1, \"42\": 1}, \"1\": {\"1\": 110, \"47\": 2}, \"51\": {\"32\": 4, \"51\": 120, \"36\": 9, \"27\": 3}, \"31\": {\"31\": 24, \"37\": 4}, \"49\": {\"49\": 23, \"37\": 1}, \"14\": {\"13\": 3, \"14\": 18, \"33\": 1, \"38\": 1, \"2\": 1}, \"33\": {\"33\": 24, \"29\": 1, \"41\": 1, \"38\": 1, \"57\": 1}, \"41\": {\"41\": 17, \"9\": 1, \"48\": 1, \"52\": 1}, \"28\": {\"28\": 27, \"34\": 1}, \"5\": {\"5\": 119, \"44\": 1}, \"16\": {\"16\": 121, \"11\": 16, \"15\": 13}, \"4\": {\"4\": 128}, \"22\": {\"22\": 136}, \"6\": {\"6\": 114, \"50\": 2, \"3\": 2}, \"30\": {\"30\": 123, \"52\": 1}, \"26\": {\"26\": 22, \"54\": 2}, \"56\": {\"56\": 142}, \"42\": {\"42\": 31, \"23\": 3, \"55\": 1, \"7\": 1}, \"44\": {\"44\": 94, \"46\": 2, \"50\": 4}, \"7\": {\"23\": 1, \"7\": 31, \"55\": 1, \"19\": 3}}}, \"per_domain_accuracy\": {\"ORACLE.run1_26\": {\"accuracy\": 0.878125, \"source?\": true}, \"ORACLE.run1_44\": {\"accuracy\": 0.8854166666666666, \"source?\": true}, \"ORACLE.run1_50\": {\"accuracy\": 0.9489583333333333, \"source?\": true}, \"ORACLE.run1_38\": {\"accuracy\": 0.9322916666666666, \"source?\": true}, \"ORACLE.run1_20\": {\"accuracy\": 0.9388020833333334, \"source?\": true}, \"ORACLE.run1_14\": {\"accuracy\": 0.9072916666666667, \"source?\": true}, \"ORACLE.run1_32\": {\"accuracy\": 0.9263020833333333, \"source?\": true}, \"ORACLE.run1_8\": {\"accuracy\": 0.9182291666666667, \"source?\": true}, \"CORES_5\": {\"accuracy\": 0.9375, \"source?\": false}, \"CORES_1\": {\"accuracy\": 0.9605978260869565, \"source?\": false}, \"CORES_3\": {\"accuracy\": 0.9216911764705882, \"source?\": false}, \"CORES_4\": {\"accuracy\": 0.9188629518072289, \"source?\": false}, \"CORES_2\": {\"accuracy\": 0.93359375, \"source?\": false}}}, \"history\": {\"epoch_indices\": [1, 2, 3, 4, 5, 6, 7], \"train_label_loss\": [0.39671367095960747, 1.2875113021839795, 0.23131725233383588, 0.19317884899875415, 0.17276111414962325, 0.15844839535715263, 0.1434845707688683], \"source_val_label_loss\": [110.65164947509766, 0.2644902765750885, 0.24880929291248322, 0.202468141913414, 0.17724691331386566, 0.1690153330564499, 0.14994041621685028], \"target_val_label_loss\": [771.2606201171875, 163.01976013183594, 4.748476505279541, 22.30082130432129, 25.011945724487305, 71.07907104492188, 183.4164581298828], \"source_val_acc_label\": [0.6420247395833333, 0.91220703125, 0.9169270833333333, 0.9294921875, 0.9414713541666667, 0.9445963541666667, 0.9501302083333333], \"target_val_acc_label\": [0.9155714285714286, 0.7465, 0.9349642857142857, 0.9135714285714286, 0.9118928571428572, 0.9276428571428571, 0.8797857142857143]}, \"dataset_metrics\": {\"source\": {\"train\": {\"n_unique_x\": 179200, \"n_unique_y\": 16, \"n_batch/episode\": 6720}, \"val\": {\"n_unique_x\": 38400, \"n_unique_y\": 16, \"n_batch/episode\": 960}, \"test\": {\"n_unique_x\": 38400, \"n_unique_y\": 16, \"n_batch/episode\": 960}}, \"target\": {\"train\": {\"n_unique_x\": 175203, \"n_unique_y\": 58, \"n_batch/episode\": 6321}, \"val\": {\"n_unique_x\": 37151, \"n_unique_y\": 58, \"n_batch/episode\": 875}, \"test\": {\"n_unique_x\": 37548, \"n_unique_y\": 58, \"n_batch/episode\": 885}}}}'"
      ]
     },
     "execution_count": 29,
     "metadata": {},
     "output_type": "execute_result"
    }
   ],
   "source": [
    "json.dumps(experiment)"
   ]
  }
 ],
 "metadata": {
  "celltoolbar": "Tags",
  "kernelspec": {
   "display_name": "Python 3 (ipykernel)",
   "language": "python",
   "name": "python3"
  },
  "language_info": {
   "codemirror_mode": {
    "name": "ipython",
    "version": 3
   },
   "file_extension": ".py",
   "mimetype": "text/x-python",
   "name": "python",
   "nbconvert_exporter": "python",
   "pygments_lexer": "ipython3",
   "version": "3.8.12"
  },
  "papermill": {
   "default_parameters": {},
   "duration": 2065.404789,
   "end_time": "2022-03-21T17:00:38.092026",
   "environment_variables": {},
   "exception": null,
   "input_path": "/root/csc500-main/csc500-notebooks/templates/tl_ptn_template.ipynb",
   "output_path": "trial.ipynb",
   "parameters": {
    "parameters": {
     "BEST_MODEL_PATH": "./best_model.pth",
     "NUM_LOGS_PER_EPOCH": 10,
     "criteria_for_best": "target_accuracy",
     "dataset_seed": 7,
     "datasets": [
      {
       "domain_prefix": "CORES_",
       "domains": [
        1,
        2,
        3,
        4,
        5
       ],
       "episode_transforms": [],
       "labels": [
        "1-10.",
        "1-11.",
        "1-15.",
        "1-16.",
        "1-17.",
        "1-18.",
        "1-19.",
        "10-4.",
        "10-7.",
        "11-1.",
        "11-14.",
        "11-17.",
        "11-20.",
        "11-7.",
        "13-20.",
        "13-8.",
        "14-10.",
        "14-11.",
        "14-14.",
        "14-7.",
        "15-1.",
        "15-20.",
        "16-1.",
        "16-16.",
        "17-10.",
        "17-11.",
        "17-2.",
        "19-1.",
        "19-16.",
        "19-19.",
        "19-20.",
        "19-3.",
        "2-10.",
        "2-11.",
        "2-17.",
        "2-18.",
        "2-20.",
        "2-3.",
        "2-4.",
        "2-5.",
        "2-6.",
        "2-7.",
        "2-8.",
        "3-13.",
        "3-18.",
        "3-3.",
        "4-1.",
        "4-10.",
        "4-11.",
        "4-19.",
        "5-5.",
        "6-15.",
        "7-10.",
        "7-14.",
        "8-18.",
        "8-20.",
        "8-3.",
        "8-8."
       ],
       "num_examples_per_domain_per_label": -1,
       "pickle_path": "/root/csc500-main/datasets/cores.stratified_ds.2022A.pkl",
       "source_or_target_dataset": "target",
       "x_transforms": []
      },
      {
       "domain_prefix": "ORACLE.run1_",
       "domains": [
        32,
        38,
        8,
        44,
        14,
        50,
        20,
        26
       ],
       "episode_transforms": [],
       "labels": [
        "3123D52",
        "3123D65",
        "3123D79",
        "3123D80",
        "3123D54",
        "3123D70",
        "3123D7B",
        "3123D89",
        "3123D58",
        "3123D76",
        "3123D7D",
        "3123EFE",
        "3123D64",
        "3123D78",
        "3123D7E",
        "3124E4A"
       ],
       "num_examples_per_domain_per_label": 2000,
       "pickle_path": "/root/csc500-main/datasets/oracle.Run1_framed_2000Examples_stratified_ds.2022A.pkl",
       "source_or_target_dataset": "source",
       "x_transforms": []
      }
     ],
     "device": "cuda",
     "experiment_name": "tl_1v2:cores-oracle.run1.framed",
     "lr": 0.0001,
     "n_epoch": 50,
     "n_query": 2,
     "n_shot": 3,
     "n_way": 16,
     "patience": 3,
     "seed": 7,
     "test_k_factor": 2,
     "torch_default_dtype": "torch.float32",
     "train_k_factor": 3,
     "val_k_factor": 2,
     "x_net": [
      {
       "class": "nnReshape",
       "kargs": {
        "shape": [
         -1,
         1,
         2,
         256
        ]
       }
      },
      {
       "class": "Conv2d",
       "kargs": {
        "bias": false,
        "in_channels": 1,
        "kernel_size": [
         1,
         7
        ],
        "out_channels": 256,
        "padding": [
         0,
         3
        ]
       }
      },
      {
       "class": "ReLU",
       "kargs": {
        "inplace": true
       }
      },
      {
       "class": "BatchNorm2d",
       "kargs": {
        "num_features": 256
       }
      },
      {
       "class": "Conv2d",
       "kargs": {
        "bias": true,
        "in_channels": 256,
        "kernel_size": [
         2,
         7
        ],
        "out_channels": 80,
        "padding": [
         0,
         3
        ]
       }
      },
      {
       "class": "ReLU",
       "kargs": {
        "inplace": true
       }
      },
      {
       "class": "BatchNorm2d",
       "kargs": {
        "num_features": 80
       }
      },
      {
       "class": "Flatten",
       "kargs": {}
      },
      {
       "class": "Linear",
       "kargs": {
        "in_features": 20480,
        "out_features": 256
       }
      },
      {
       "class": "ReLU",
       "kargs": {
        "inplace": true
       }
      },
      {
       "class": "BatchNorm1d",
       "kargs": {
        "num_features": 256
       }
      },
      {
       "class": "Linear",
       "kargs": {
        "in_features": 256,
        "out_features": 256
       }
      }
     ]
    }
   },
   "start_time": "2022-03-21T16:26:12.687237",
   "version": "2.3.4"
  }
 },
 "nbformat": 4,
 "nbformat_minor": 5
}