{
 "cells": [
  {
   "cell_type": "markdown",
   "id": "9fea5f46",
   "metadata": {
    "papermill": {
     "duration": 0.026442,
     "end_time": "2022-03-21T18:08:17.178199",
     "exception": false,
     "start_time": "2022-03-21T18:08:17.151757",
     "status": "completed"
    },
    "tags": []
   },
   "source": [
    "# Transfer Learning Template"
   ]
  },
  {
   "cell_type": "code",
   "execution_count": 1,
   "id": "0902182a",
   "metadata": {
    "execution": {
     "iopub.execute_input": "2022-03-21T18:08:17.241234Z",
     "iopub.status.busy": "2022-03-21T18:08:17.229972Z",
     "iopub.status.idle": "2022-03-21T18:08:19.141946Z",
     "shell.execute_reply": "2022-03-21T18:08:19.141501Z"
    },
    "papermill": {
     "duration": 1.939965,
     "end_time": "2022-03-21T18:08:19.142051",
     "exception": false,
     "start_time": "2022-03-21T18:08:17.202086",
     "status": "completed"
    },
    "tags": []
   },
   "outputs": [],
   "source": [
    "%load_ext autoreload\n",
    "%autoreload 2\n",
    "%matplotlib inline\n",
    "\n",
    "    \n",
    "import os, json, sys, time, random\n",
    "import numpy as np\n",
    "import torch\n",
    "from torch.optim import Adam\n",
    "from  easydict import EasyDict\n",
    "import matplotlib.pyplot as plt\n",
    "\n",
    "from steves_models.steves_ptn import Steves_Prototypical_Network\n",
    "\n",
    "from steves_utils.lazy_iterable_wrapper import Lazy_Iterable_Wrapper\n",
    "from steves_utils.iterable_aggregator import Iterable_Aggregator\n",
    "from steves_utils.ptn_train_eval_test_jig import  PTN_Train_Eval_Test_Jig\n",
    "from steves_utils.torch_sequential_builder import build_sequential\n",
    "from steves_utils.torch_utils import get_dataset_metrics, ptn_confusion_by_domain_over_dataloader\n",
    "from steves_utils.utils_v2 import (per_domain_accuracy_from_confusion, get_datasets_base_path)\n",
    "from steves_utils.PTN.utils import independent_accuracy_assesment\n",
    "\n",
    "from torch.utils.data import DataLoader\n",
    "\n",
    "from steves_utils.stratified_dataset.episodic_accessor import Episodic_Accessor_Factory\n",
    "\n",
    "from steves_utils.ptn_do_report import (\n",
    "    get_loss_curve,\n",
    "    get_results_table,\n",
    "    get_parameters_table,\n",
    "    get_domain_accuracies,\n",
    ")\n",
    "\n",
    "from steves_utils.transforms import get_chained_transform"
   ]
  },
  {
   "cell_type": "markdown",
   "id": "41c840b4",
   "metadata": {
    "papermill": {
     "duration": 0.019412,
     "end_time": "2022-03-21T18:08:19.181500",
     "exception": false,
     "start_time": "2022-03-21T18:08:19.162088",
     "status": "completed"
    },
    "tags": []
   },
   "source": [
    "# Allowed Parameters\n",
    "These are allowed parameters, not defaults\n",
    "Each of these values need to be present in the injected parameters (the notebook will raise an exception if they are not present)\n",
    "\n",
    "Papermill uses the cell tag \"parameters\" to inject the real parameters below this cell.\n",
    "Enable tags to see what I mean"
   ]
  },
  {
   "cell_type": "code",
   "execution_count": 2,
   "id": "fd44eb83",
   "metadata": {
    "execution": {
     "iopub.execute_input": "2022-03-21T18:08:19.226288Z",
     "iopub.status.busy": "2022-03-21T18:08:19.225906Z",
     "iopub.status.idle": "2022-03-21T18:08:19.251772Z",
     "shell.execute_reply": "2022-03-21T18:08:19.251390Z"
    },
    "papermill": {
     "duration": 0.051104,
     "end_time": "2022-03-21T18:08:19.251844",
     "exception": false,
     "start_time": "2022-03-21T18:08:19.200740",
     "status": "completed"
    },
    "tags": []
   },
   "outputs": [],
   "source": [
    "required_parameters = {\n",
    "    \"experiment_name\",\n",
    "    \"lr\",\n",
    "    \"device\",\n",
    "    \"seed\",\n",
    "    \"dataset_seed\",\n",
    "    \"n_shot\",\n",
    "    \"n_query\",\n",
    "    \"n_way\",\n",
    "    \"train_k_factor\",\n",
    "    \"val_k_factor\",\n",
    "    \"test_k_factor\",\n",
    "    \"n_epoch\",\n",
    "    \"patience\",\n",
    "    \"criteria_for_best\",\n",
    "    \"x_net\",\n",
    "    \"datasets\",\n",
    "    \"torch_default_dtype\",\n",
    "    \"NUM_LOGS_PER_EPOCH\",\n",
    "    \"BEST_MODEL_PATH\",\n",
    "    \"x_shape\",\n",
    "}"
   ]
  },
  {
   "cell_type": "code",
   "execution_count": 3,
   "id": "fa3f0049",
   "metadata": {
    "execution": {
     "iopub.execute_input": "2022-03-21T18:08:19.304990Z",
     "iopub.status.busy": "2022-03-21T18:08:19.304578Z",
     "iopub.status.idle": "2022-03-21T18:08:19.329232Z",
     "shell.execute_reply": "2022-03-21T18:08:19.328866Z"
    },
    "papermill": {
     "duration": 0.058057,
     "end_time": "2022-03-21T18:08:19.329302",
     "exception": false,
     "start_time": "2022-03-21T18:08:19.271245",
     "status": "completed"
    },
    "tags": [
     "parameters"
    ]
   },
   "outputs": [],
   "source": [
    "from steves_utils.CORES.utils import (\n",
    "    ALL_NODES,\n",
    "    ALL_NODES_MINIMUM_1000_EXAMPLES,\n",
    "    ALL_DAYS\n",
    ")\n",
    "\n",
    "from steves_utils.ORACLE.utils_v2 import (\n",
    "    ALL_DISTANCES_FEET_NARROWED,\n",
    "    ALL_RUNS,\n",
    "    ALL_SERIAL_NUMBERS,\n",
    ")\n",
    "\n",
    "standalone_parameters = {}\n",
    "standalone_parameters[\"experiment_name\"] = \"STANDALONE PTN\"\n",
    "standalone_parameters[\"lr\"] = 0.001\n",
    "standalone_parameters[\"device\"] = \"cuda\"\n",
    "\n",
    "standalone_parameters[\"seed\"] = 1337\n",
    "standalone_parameters[\"dataset_seed\"] = 1337\n",
    "\n",
    "standalone_parameters[\"n_way\"] = 8\n",
    "standalone_parameters[\"n_shot\"] = 3\n",
    "standalone_parameters[\"n_query\"]  = 2\n",
    "standalone_parameters[\"train_k_factor\"] = 1\n",
    "standalone_parameters[\"val_k_factor\"] = 2\n",
    "standalone_parameters[\"test_k_factor\"] = 2\n",
    "\n",
    "\n",
    "standalone_parameters[\"n_epoch\"] = 50\n",
    "\n",
    "standalone_parameters[\"patience\"] = 10\n",
    "standalone_parameters[\"criteria_for_best\"] = \"source_loss\"\n",
    "\n",
    "standalone_parameters[\"datasets\"] = [\n",
    "    {\n",
    "        \"labels\": ALL_SERIAL_NUMBERS,\n",
    "        \"domains\": ALL_DISTANCES_FEET_NARROWED,\n",
    "        \"num_examples_per_domain_per_label\": 100,\n",
    "        \"pickle_path\": os.path.join(get_datasets_base_path(), \"oracle.Run1_framed_2000Examples_stratified_ds.2022A.pkl\"),\n",
    "        \"source_or_target_dataset\": \"source\",\n",
    "        \"x_transforms\": [\"unit_mag\", \"minus_two\"],\n",
    "        \"episode_transforms\": [],\n",
    "        \"domain_prefix\": \"ORACLE_\"\n",
    "    },\n",
    "    {\n",
    "        \"labels\": ALL_NODES,\n",
    "        \"domains\": ALL_DAYS,\n",
    "        \"num_examples_per_domain_per_label\": 100,\n",
    "        \"pickle_path\": os.path.join(get_datasets_base_path(), \"cores.stratified_ds.2022A.pkl\"),\n",
    "        \"source_or_target_dataset\": \"target\",\n",
    "        \"x_transforms\": [\"unit_power\", \"times_zero\"],\n",
    "        \"episode_transforms\": [],\n",
    "        \"domain_prefix\": \"CORES_\"\n",
    "    }   \n",
    "]\n",
    "\n",
    "standalone_parameters[\"torch_default_dtype\"] = \"torch.float32\" \n",
    "\n",
    "\n",
    "\n",
    "standalone_parameters[\"x_net\"] =     [\n",
    "    {\"class\": \"nnReshape\", \"kargs\": {\"shape\":[-1, 1, 2, 256]}},\n",
    "    {\"class\": \"Conv2d\", \"kargs\": { \"in_channels\":1, \"out_channels\":256, \"kernel_size\":(1,7), \"bias\":False, \"padding\":(0,3), },},\n",
    "    {\"class\": \"ReLU\", \"kargs\": {\"inplace\": True}},\n",
    "    {\"class\": \"BatchNorm2d\", \"kargs\": {\"num_features\":256}},\n",
    "\n",
    "    {\"class\": \"Conv2d\", \"kargs\": { \"in_channels\":256, \"out_channels\":80, \"kernel_size\":(2,7), \"bias\":True, \"padding\":(0,3), },},\n",
    "    {\"class\": \"ReLU\", \"kargs\": {\"inplace\": True}},\n",
    "    {\"class\": \"BatchNorm2d\", \"kargs\": {\"num_features\":80}},\n",
    "    {\"class\": \"Flatten\", \"kargs\": {}},\n",
    "\n",
    "    {\"class\": \"Linear\", \"kargs\": {\"in_features\": 80*256, \"out_features\": 256}}, # 80 units per IQ pair\n",
    "    {\"class\": \"ReLU\", \"kargs\": {\"inplace\": True}},\n",
    "    {\"class\": \"BatchNorm1d\", \"kargs\": {\"num_features\":256}},\n",
    "\n",
    "    {\"class\": \"Linear\", \"kargs\": {\"in_features\": 256, \"out_features\": 256}},\n",
    "]\n",
    "\n",
    "# Parameters relevant to results\n",
    "# These parameters will basically never need to change\n",
    "standalone_parameters[\"NUM_LOGS_PER_EPOCH\"] = 10\n",
    "standalone_parameters[\"BEST_MODEL_PATH\"] = \"./best_model.pth\"\n",
    "\n",
    "\n",
    "\n",
    "\n"
   ]
  },
  {
   "cell_type": "code",
   "execution_count": 4,
   "id": "7971c8da",
   "metadata": {
    "execution": {
     "iopub.execute_input": "2022-03-21T18:08:19.384546Z",
     "iopub.status.busy": "2022-03-21T18:08:19.375896Z",
     "iopub.status.idle": "2022-03-21T18:08:19.405889Z",
     "shell.execute_reply": "2022-03-21T18:08:19.406190Z"
    },
    "papermill": {
     "duration": 0.057788,
     "end_time": "2022-03-21T18:08:19.406270",
     "exception": false,
     "start_time": "2022-03-21T18:08:19.348482",
     "status": "completed"
    },
    "tags": [
     "injected-parameters"
    ]
   },
   "outputs": [],
   "source": [
    "# Parameters\n",
    "parameters = {\n",
    "    \"experiment_name\": \"tl_1v2:cores-oracle.run1.framed\",\n",
    "    \"device\": \"cuda\",\n",
    "    \"lr\": 0.0001,\n",
    "    \"n_shot\": 3,\n",
    "    \"n_query\": 2,\n",
    "    \"train_k_factor\": 3,\n",
    "    \"val_k_factor\": 2,\n",
    "    \"test_k_factor\": 2,\n",
    "    \"torch_default_dtype\": \"torch.float32\",\n",
    "    \"n_epoch\": 50,\n",
    "    \"patience\": 3,\n",
    "    \"criteria_for_best\": \"target_accuracy\",\n",
    "    \"x_net\": [\n",
    "        {\"class\": \"nnReshape\", \"kargs\": {\"shape\": [-1, 1, 2, 256]}},\n",
    "        {\n",
    "            \"class\": \"Conv2d\",\n",
    "            \"kargs\": {\n",
    "                \"in_channels\": 1,\n",
    "                \"out_channels\": 256,\n",
    "                \"kernel_size\": [1, 7],\n",
    "                \"bias\": False,\n",
    "                \"padding\": [0, 3],\n",
    "            },\n",
    "        },\n",
    "        {\"class\": \"ReLU\", \"kargs\": {\"inplace\": True}},\n",
    "        {\"class\": \"BatchNorm2d\", \"kargs\": {\"num_features\": 256}},\n",
    "        {\n",
    "            \"class\": \"Conv2d\",\n",
    "            \"kargs\": {\n",
    "                \"in_channels\": 256,\n",
    "                \"out_channels\": 80,\n",
    "                \"kernel_size\": [2, 7],\n",
    "                \"bias\": True,\n",
    "                \"padding\": [0, 3],\n",
    "            },\n",
    "        },\n",
    "        {\"class\": \"ReLU\", \"kargs\": {\"inplace\": True}},\n",
    "        {\"class\": \"BatchNorm2d\", \"kargs\": {\"num_features\": 80}},\n",
    "        {\"class\": \"Flatten\", \"kargs\": {}},\n",
    "        {\"class\": \"Linear\", \"kargs\": {\"in_features\": 20480, \"out_features\": 256}},\n",
    "        {\"class\": \"ReLU\", \"kargs\": {\"inplace\": True}},\n",
    "        {\"class\": \"BatchNorm1d\", \"kargs\": {\"num_features\": 256}},\n",
    "        {\"class\": \"Linear\", \"kargs\": {\"in_features\": 256, \"out_features\": 256}},\n",
    "    ],\n",
    "    \"NUM_LOGS_PER_EPOCH\": 10,\n",
    "    \"BEST_MODEL_PATH\": \"./best_model.pth\",\n",
    "    \"n_way\": 16,\n",
    "    \"datasets\": [\n",
    "        {\n",
    "            \"labels\": [\n",
    "                \"1-10.\",\n",
    "                \"1-11.\",\n",
    "                \"1-15.\",\n",
    "                \"1-16.\",\n",
    "                \"1-17.\",\n",
    "                \"1-18.\",\n",
    "                \"1-19.\",\n",
    "                \"10-4.\",\n",
    "                \"10-7.\",\n",
    "                \"11-1.\",\n",
    "                \"11-14.\",\n",
    "                \"11-17.\",\n",
    "                \"11-20.\",\n",
    "                \"11-7.\",\n",
    "                \"13-20.\",\n",
    "                \"13-8.\",\n",
    "                \"14-10.\",\n",
    "                \"14-11.\",\n",
    "                \"14-14.\",\n",
    "                \"14-7.\",\n",
    "                \"15-1.\",\n",
    "                \"15-20.\",\n",
    "                \"16-1.\",\n",
    "                \"16-16.\",\n",
    "                \"17-10.\",\n",
    "                \"17-11.\",\n",
    "                \"17-2.\",\n",
    "                \"19-1.\",\n",
    "                \"19-16.\",\n",
    "                \"19-19.\",\n",
    "                \"19-20.\",\n",
    "                \"19-3.\",\n",
    "                \"2-10.\",\n",
    "                \"2-11.\",\n",
    "                \"2-17.\",\n",
    "                \"2-18.\",\n",
    "                \"2-20.\",\n",
    "                \"2-3.\",\n",
    "                \"2-4.\",\n",
    "                \"2-5.\",\n",
    "                \"2-6.\",\n",
    "                \"2-7.\",\n",
    "                \"2-8.\",\n",
    "                \"3-13.\",\n",
    "                \"3-18.\",\n",
    "                \"3-3.\",\n",
    "                \"4-1.\",\n",
    "                \"4-10.\",\n",
    "                \"4-11.\",\n",
    "                \"4-19.\",\n",
    "                \"5-5.\",\n",
    "                \"6-15.\",\n",
    "                \"7-10.\",\n",
    "                \"7-14.\",\n",
    "                \"8-18.\",\n",
    "                \"8-20.\",\n",
    "                \"8-3.\",\n",
    "                \"8-8.\",\n",
    "            ],\n",
    "            \"domains\": [1, 2, 3, 4, 5],\n",
    "            \"num_examples_per_domain_per_label\": -1,\n",
    "            \"pickle_path\": \"/root/csc500-main/datasets/cores.stratified_ds.2022A.pkl\",\n",
    "            \"source_or_target_dataset\": \"source\",\n",
    "            \"x_transforms\": [],\n",
    "            \"episode_transforms\": [],\n",
    "            \"domain_prefix\": \"CORES_\",\n",
    "        },\n",
    "        {\n",
    "            \"labels\": [\n",
    "                \"3123D52\",\n",
    "                \"3123D65\",\n",
    "                \"3123D79\",\n",
    "                \"3123D80\",\n",
    "                \"3123D54\",\n",
    "                \"3123D70\",\n",
    "                \"3123D7B\",\n",
    "                \"3123D89\",\n",
    "                \"3123D58\",\n",
    "                \"3123D76\",\n",
    "                \"3123D7D\",\n",
    "                \"3123EFE\",\n",
    "                \"3123D64\",\n",
    "                \"3123D78\",\n",
    "                \"3123D7E\",\n",
    "                \"3124E4A\",\n",
    "            ],\n",
    "            \"domains\": [32, 38, 8, 44, 14, 50, 20, 26],\n",
    "            \"num_examples_per_domain_per_label\": 2000,\n",
    "            \"pickle_path\": \"/root/csc500-main/datasets/oracle.Run1_framed_2000Examples_stratified_ds.2022A.pkl\",\n",
    "            \"source_or_target_dataset\": \"target\",\n",
    "            \"x_transforms\": [],\n",
    "            \"episode_transforms\": [],\n",
    "            \"domain_prefix\": \"ORACLE.run1_\",\n",
    "        },\n",
    "    ],\n",
    "    \"dataset_seed\": 500,\n",
    "    \"seed\": 500,\n",
    "}\n"
   ]
  },
  {
   "cell_type": "code",
   "execution_count": 5,
   "id": "8fa1cc33",
   "metadata": {
    "execution": {
     "iopub.execute_input": "2022-03-21T18:08:19.451057Z",
     "iopub.status.busy": "2022-03-21T18:08:19.449930Z",
     "iopub.status.idle": "2022-03-21T18:08:19.477232Z",
     "shell.execute_reply": "2022-03-21T18:08:19.476873Z"
    },
    "papermill": {
     "duration": 0.051724,
     "end_time": "2022-03-21T18:08:19.477301",
     "exception": false,
     "start_time": "2022-03-21T18:08:19.425577",
     "status": "completed"
    },
    "tags": []
   },
   "outputs": [],
   "source": [
    "# Set this to True if you want to run this template directly\n",
    "STANDALONE = False\n",
    "if STANDALONE:\n",
    "    print(\"parameters not injected, running with standalone_parameters\")\n",
    "    parameters = standalone_parameters\n",
    "\n",
    "if not 'parameters' in locals() and not 'parameters' in globals():\n",
    "    raise Exception(\"Parameter injection failed\")\n",
    "\n",
    "#Use an easy dict for all the parameters\n",
    "p = EasyDict(parameters)\n",
    "\n",
    "if \"x_shape\" not in p:\n",
    "    p.x_shape = [2,256] # Default to this if we dont supply x_shape\n",
    "\n",
    "\n",
    "supplied_keys = set(p.keys())\n",
    "\n",
    "if  supplied_keys != required_parameters:\n",
    "    print(\"Parameters are incorrect\")\n",
    "    if len(supplied_keys - required_parameters)>0: print(\"Shouldn't have:\", str(supplied_keys - required_parameters))\n",
    "    if len(required_parameters - supplied_keys)>0: print(\"Need to have:\", str(required_parameters - supplied_keys))\n",
    "    raise RuntimeError(\"Parameters are incorrect\")"
   ]
  },
  {
   "cell_type": "code",
   "execution_count": 6,
   "id": "3a028d58",
   "metadata": {
    "execution": {
     "iopub.execute_input": "2022-03-21T18:08:19.520699Z",
     "iopub.status.busy": "2022-03-21T18:08:19.520336Z",
     "iopub.status.idle": "2022-03-21T18:08:19.545077Z",
     "shell.execute_reply": "2022-03-21T18:08:19.544718Z"
    },
    "papermill": {
     "duration": 0.048912,
     "end_time": "2022-03-21T18:08:19.545145",
     "exception": false,
     "start_time": "2022-03-21T18:08:19.496233",
     "status": "completed"
    },
    "tags": []
   },
   "outputs": [],
   "source": [
    "###################################\n",
    "# Set the RNGs and make it all deterministic\n",
    "###################################\n",
    "np.random.seed(p.seed)\n",
    "random.seed(p.seed)\n",
    "torch.manual_seed(p.seed)\n",
    "\n",
    "torch.use_deterministic_algorithms(True) "
   ]
  },
  {
   "cell_type": "code",
   "execution_count": 7,
   "id": "b691acf6",
   "metadata": {
    "execution": {
     "iopub.execute_input": "2022-03-21T18:08:19.587917Z",
     "iopub.status.busy": "2022-03-21T18:08:19.587553Z",
     "iopub.status.idle": "2022-03-21T18:08:19.616158Z",
     "shell.execute_reply": "2022-03-21T18:08:19.615799Z"
    },
    "papermill": {
     "duration": 0.051941,
     "end_time": "2022-03-21T18:08:19.616226",
     "exception": false,
     "start_time": "2022-03-21T18:08:19.564285",
     "status": "completed"
    },
    "tags": []
   },
   "outputs": [],
   "source": [
    "###########################################\n",
    "# The stratified datasets honor this\n",
    "###########################################\n",
    "torch.set_default_dtype(eval(p.torch_default_dtype))"
   ]
  },
  {
   "cell_type": "code",
   "execution_count": 8,
   "id": "b5fba671",
   "metadata": {
    "execution": {
     "iopub.execute_input": "2022-03-21T18:08:19.659264Z",
     "iopub.status.busy": "2022-03-21T18:08:19.658678Z",
     "iopub.status.idle": "2022-03-21T18:08:19.718785Z",
     "shell.execute_reply": "2022-03-21T18:08:19.718456Z"
    },
    "papermill": {
     "duration": 0.083515,
     "end_time": "2022-03-21T18:08:19.718852",
     "exception": false,
     "start_time": "2022-03-21T18:08:19.635337",
     "status": "completed"
    },
    "tags": []
   },
   "outputs": [],
   "source": [
    "###################################\n",
    "# Build the network(s)\n",
    "# Note: It's critical to do this AFTER setting the RNG\n",
    "###################################\n",
    "x_net = build_sequential(p.x_net)"
   ]
  },
  {
   "cell_type": "code",
   "execution_count": 9,
   "id": "5d7e61cc",
   "metadata": {
    "execution": {
     "iopub.execute_input": "2022-03-21T18:08:19.761931Z",
     "iopub.status.busy": "2022-03-21T18:08:19.761272Z",
     "iopub.status.idle": "2022-03-21T18:08:19.783290Z",
     "shell.execute_reply": "2022-03-21T18:08:19.782978Z"
    },
    "papermill": {
     "duration": 0.045065,
     "end_time": "2022-03-21T18:08:19.783358",
     "exception": false,
     "start_time": "2022-03-21T18:08:19.738293",
     "status": "completed"
    },
    "tags": []
   },
   "outputs": [],
   "source": [
    "start_time_secs = time.time()"
   ]
  },
  {
   "cell_type": "code",
   "execution_count": 10,
   "id": "c6b67dfd",
   "metadata": {
    "execution": {
     "iopub.execute_input": "2022-03-21T18:08:19.826469Z",
     "iopub.status.busy": "2022-03-21T18:08:19.826062Z",
     "iopub.status.idle": "2022-03-21T18:08:19.847672Z",
     "shell.execute_reply": "2022-03-21T18:08:19.847346Z"
    },
    "papermill": {
     "duration": 0.044832,
     "end_time": "2022-03-21T18:08:19.847740",
     "exception": false,
     "start_time": "2022-03-21T18:08:19.802908",
     "status": "completed"
    },
    "tags": []
   },
   "outputs": [],
   "source": [
    "p.domains_source = []\n",
    "p.domains_target = []\n",
    "\n",
    "\n",
    "train_original_source = []\n",
    "val_original_source   = []\n",
    "test_original_source  = []\n",
    "\n",
    "train_original_target = []\n",
    "val_original_target   = []\n",
    "test_original_target  = []"
   ]
  },
  {
   "cell_type": "code",
   "execution_count": 11,
   "id": "e3d9c3d3",
   "metadata": {
    "execution": {
     "iopub.execute_input": "2022-03-21T18:08:19.890954Z",
     "iopub.status.busy": "2022-03-21T18:08:19.890595Z",
     "iopub.status.idle": "2022-03-21T18:08:19.914168Z",
     "shell.execute_reply": "2022-03-21T18:08:19.913855Z"
    },
    "papermill": {
     "duration": 0.046638,
     "end_time": "2022-03-21T18:08:19.914237",
     "exception": false,
     "start_time": "2022-03-21T18:08:19.867599",
     "status": "completed"
    },
    "tags": []
   },
   "outputs": [],
   "source": [
    "# global_x_transform_func = lambda x: normalize(x.to(torch.get_default_dtype()), \"unit_power\") # unit_power, unit_mag\n",
    "# global_x_transform_func = lambda x: normalize(x, \"unit_power\") # unit_power, unit_mag"
   ]
  },
  {
   "cell_type": "code",
   "execution_count": 12,
   "id": "acb78fd2",
   "metadata": {
    "execution": {
     "iopub.execute_input": "2022-03-21T18:08:19.961767Z",
     "iopub.status.busy": "2022-03-21T18:08:19.961391Z",
     "iopub.status.idle": "2022-03-21T18:08:19.984811Z",
     "shell.execute_reply": "2022-03-21T18:08:19.984452Z"
    },
    "papermill": {
     "duration": 0.051012,
     "end_time": "2022-03-21T18:08:19.984879",
     "exception": false,
     "start_time": "2022-03-21T18:08:19.933867",
     "status": "completed"
    },
    "tags": []
   },
   "outputs": [],
   "source": [
    "def add_dataset(\n",
    "    labels,\n",
    "    domains,\n",
    "    pickle_path,\n",
    "    x_transforms,\n",
    "    episode_transforms,\n",
    "    domain_prefix,\n",
    "    num_examples_per_domain_per_label,\n",
    "    source_or_target_dataset:str,\n",
    "    iterator_seed=p.seed,\n",
    "    dataset_seed=p.dataset_seed,\n",
    "    n_shot=p.n_shot,\n",
    "    n_way=p.n_way,\n",
    "    n_query=p.n_query,\n",
    "    train_val_test_k_factors=(p.train_k_factor,p.val_k_factor,p.test_k_factor),\n",
    "):\n",
    "   \n",
    "    if x_transforms == []: x_transform = None\n",
    "    else: x_transform = get_chained_transform(x_transforms)\n",
    "    \n",
    "    if episode_transforms == []: episode_transform = None\n",
    "    else: raise Exception(\"episode_transforms not implemented\")\n",
    "    \n",
    "    episode_transform = lambda tup, _prefix=domain_prefix: (_prefix + str(tup[0]), tup[1])\n",
    "\n",
    "\n",
    "    eaf = Episodic_Accessor_Factory(\n",
    "        labels=labels,\n",
    "        domains=domains,\n",
    "        num_examples_per_domain_per_label=num_examples_per_domain_per_label,\n",
    "        iterator_seed=iterator_seed,\n",
    "        dataset_seed=dataset_seed,\n",
    "        n_shot=n_shot,\n",
    "        n_way=n_way,\n",
    "        n_query=n_query,\n",
    "        train_val_test_k_factors=train_val_test_k_factors,\n",
    "        pickle_path=pickle_path,\n",
    "        x_transform_func=x_transform,\n",
    "    )\n",
    "\n",
    "    train, val, test = eaf.get_train(), eaf.get_val(), eaf.get_test()\n",
    "    train = Lazy_Iterable_Wrapper(train, episode_transform)\n",
    "    val = Lazy_Iterable_Wrapper(val, episode_transform)\n",
    "    test = Lazy_Iterable_Wrapper(test, episode_transform)\n",
    "\n",
    "    if source_or_target_dataset==\"source\":\n",
    "        train_original_source.append(train)\n",
    "        val_original_source.append(val)\n",
    "        test_original_source.append(test)\n",
    "\n",
    "        p.domains_source.extend(\n",
    "            [domain_prefix + str(u) for u in domains]\n",
    "        )\n",
    "    elif source_or_target_dataset==\"target\":\n",
    "        train_original_target.append(train)\n",
    "        val_original_target.append(val)\n",
    "        test_original_target.append(test)\n",
    "        p.domains_target.extend(\n",
    "            [domain_prefix + str(u) for u in domains]\n",
    "        )\n",
    "    else:\n",
    "        raise Exception(f\"invalid source_or_target_dataset: {source_or_target_dataset}\")\n",
    "    "
   ]
  },
  {
   "cell_type": "code",
   "execution_count": 13,
   "id": "fe266617",
   "metadata": {
    "execution": {
     "iopub.execute_input": "2022-03-21T18:08:20.029476Z",
     "iopub.status.busy": "2022-03-21T18:08:20.028757Z",
     "iopub.status.idle": "2022-03-21T18:08:23.697561Z",
     "shell.execute_reply": "2022-03-21T18:08:23.698219Z"
    },
    "papermill": {
     "duration": 3.693565,
     "end_time": "2022-03-21T18:08:23.698444",
     "exception": false,
     "start_time": "2022-03-21T18:08:20.004879",
     "status": "completed"
    },
    "tags": []
   },
   "outputs": [],
   "source": [
    "for ds in p.datasets:\n",
    "    add_dataset(**ds)"
   ]
  },
  {
   "cell_type": "code",
   "execution_count": 14,
   "id": "b90d65ac",
   "metadata": {
    "execution": {
     "iopub.execute_input": "2022-03-21T18:08:23.748542Z",
     "iopub.status.busy": "2022-03-21T18:08:23.748172Z",
     "iopub.status.idle": "2022-03-21T18:08:23.773752Z",
     "shell.execute_reply": "2022-03-21T18:08:23.772967Z"
    },
    "papermill": {
     "duration": 0.049478,
     "end_time": "2022-03-21T18:08:23.773908",
     "exception": false,
     "start_time": "2022-03-21T18:08:23.724430",
     "status": "completed"
    },
    "tags": []
   },
   "outputs": [],
   "source": [
    "# from steves_utils.CORES.utils import (\n",
    "#     ALL_NODES,\n",
    "#     ALL_NODES_MINIMUM_1000_EXAMPLES,\n",
    "#     ALL_DAYS\n",
    "# )\n",
    "\n",
    "# add_dataset(\n",
    "#     labels=ALL_NODES,\n",
    "#     domains = ALL_DAYS,\n",
    "#     num_examples_per_domain_per_label=100,\n",
    "#     pickle_path=os.path.join(get_datasets_base_path(), \"cores.stratified_ds.2022A.pkl\"),\n",
    "#     source_or_target_dataset=\"target\",\n",
    "#     x_transform_func=global_x_transform_func,\n",
    "#     domain_modifier=lambda u: f\"cores_{u}\"\n",
    "# )"
   ]
  },
  {
   "cell_type": "code",
   "execution_count": 15,
   "id": "76db484d",
   "metadata": {
    "execution": {
     "iopub.execute_input": "2022-03-21T18:08:23.824672Z",
     "iopub.status.busy": "2022-03-21T18:08:23.824140Z",
     "iopub.status.idle": "2022-03-21T18:08:23.846224Z",
     "shell.execute_reply": "2022-03-21T18:08:23.845435Z"
    },
    "papermill": {
     "duration": 0.046267,
     "end_time": "2022-03-21T18:08:23.846386",
     "exception": false,
     "start_time": "2022-03-21T18:08:23.800119",
     "status": "completed"
    },
    "tags": []
   },
   "outputs": [],
   "source": [
    "# from steves_utils.ORACLE.utils_v2 import (\n",
    "#     ALL_DISTANCES_FEET,\n",
    "#     ALL_RUNS,\n",
    "#     ALL_SERIAL_NUMBERS,\n",
    "# )\n",
    "\n",
    "\n",
    "# add_dataset(\n",
    "#     labels=ALL_SERIAL_NUMBERS,\n",
    "#     domains = list(set(ALL_DISTANCES_FEET) - {2,62}),\n",
    "#     num_examples_per_domain_per_label=100,\n",
    "#     pickle_path=os.path.join(get_datasets_base_path(), \"oracle.Run2_framed_2000Examples_stratified_ds.2022A.pkl\"),\n",
    "#     source_or_target_dataset=\"source\",\n",
    "#     x_transform_func=global_x_transform_func,\n",
    "#     domain_modifier=lambda u: f\"oracle1_{u}\"\n",
    "# )\n"
   ]
  },
  {
   "cell_type": "code",
   "execution_count": 16,
   "id": "97dea9d2",
   "metadata": {
    "execution": {
     "iopub.execute_input": "2022-03-21T18:08:23.896052Z",
     "iopub.status.busy": "2022-03-21T18:08:23.895687Z",
     "iopub.status.idle": "2022-03-21T18:08:23.918136Z",
     "shell.execute_reply": "2022-03-21T18:08:23.917352Z"
    },
    "papermill": {
     "duration": 0.046181,
     "end_time": "2022-03-21T18:08:23.918289",
     "exception": false,
     "start_time": "2022-03-21T18:08:23.872108",
     "status": "completed"
    },
    "tags": []
   },
   "outputs": [],
   "source": [
    "# from steves_utils.ORACLE.utils_v2 import (\n",
    "#     ALL_DISTANCES_FEET,\n",
    "#     ALL_RUNS,\n",
    "#     ALL_SERIAL_NUMBERS,\n",
    "# )\n",
    "\n",
    "\n",
    "# add_dataset(\n",
    "#     labels=ALL_SERIAL_NUMBERS,\n",
    "#     domains = list(set(ALL_DISTANCES_FEET) - {2,62,56}),\n",
    "#     num_examples_per_domain_per_label=100,\n",
    "#     pickle_path=os.path.join(get_datasets_base_path(), \"oracle.Run2_framed_2000Examples_stratified_ds.2022A.pkl\"),\n",
    "#     source_or_target_dataset=\"source\",\n",
    "#     x_transform_func=global_x_transform_func,\n",
    "#     domain_modifier=lambda u: f\"oracle2_{u}\"\n",
    "# )"
   ]
  },
  {
   "cell_type": "code",
   "execution_count": 17,
   "id": "6f289866",
   "metadata": {
    "execution": {
     "iopub.execute_input": "2022-03-21T18:08:23.968185Z",
     "iopub.status.busy": "2022-03-21T18:08:23.967108Z",
     "iopub.status.idle": "2022-03-21T18:08:23.990654Z",
     "shell.execute_reply": "2022-03-21T18:08:23.989865Z"
    },
    "papermill": {
     "duration": 0.046806,
     "end_time": "2022-03-21T18:08:23.990805",
     "exception": false,
     "start_time": "2022-03-21T18:08:23.943999",
     "status": "completed"
    },
    "tags": []
   },
   "outputs": [],
   "source": [
    "# add_dataset(\n",
    "#     labels=list(range(19)),\n",
    "#     domains = [0,1,2],\n",
    "#     num_examples_per_domain_per_label=100,\n",
    "#     pickle_path=os.path.join(get_datasets_base_path(), \"metehan.stratified_ds.2022A.pkl\"),\n",
    "#     source_or_target_dataset=\"target\",\n",
    "#     x_transform_func=global_x_transform_func,\n",
    "#     domain_modifier=lambda u: f\"met_{u}\"\n",
    "# )"
   ]
  },
  {
   "cell_type": "code",
   "execution_count": 18,
   "id": "86a863c3",
   "metadata": {
    "execution": {
     "iopub.execute_input": "2022-03-21T18:08:24.041542Z",
     "iopub.status.busy": "2022-03-21T18:08:24.040504Z",
     "iopub.status.idle": "2022-03-21T18:08:24.062161Z",
     "shell.execute_reply": "2022-03-21T18:08:24.061381Z"
    },
    "papermill": {
     "duration": 0.045963,
     "end_time": "2022-03-21T18:08:24.062310",
     "exception": false,
     "start_time": "2022-03-21T18:08:24.016347",
     "status": "completed"
    },
    "tags": []
   },
   "outputs": [],
   "source": [
    "# # from steves_utils.wisig.utils import (\n",
    "# #     ALL_NODES_MINIMUM_100_EXAMPLES,\n",
    "# #     ALL_NODES_MINIMUM_500_EXAMPLES,\n",
    "# #     ALL_NODES_MINIMUM_1000_EXAMPLES,\n",
    "# #     ALL_DAYS\n",
    "# # )\n",
    "\n",
    "# import steves_utils.wisig.utils as wisig\n",
    "\n",
    "\n",
    "# add_dataset(\n",
    "#     labels=wisig.ALL_NODES_MINIMUM_100_EXAMPLES,\n",
    "#     domains = wisig.ALL_DAYS,\n",
    "#     num_examples_per_domain_per_label=100,\n",
    "#     pickle_path=os.path.join(get_datasets_base_path(), \"wisig.node3-19.stratified_ds.2022A.pkl\"),\n",
    "#     source_or_target_dataset=\"target\",\n",
    "#     x_transform_func=global_x_transform_func,\n",
    "#     domain_modifier=lambda u: f\"wisig_{u}\"\n",
    "# )"
   ]
  },
  {
   "cell_type": "code",
   "execution_count": 19,
   "id": "fd5442bc",
   "metadata": {
    "execution": {
     "iopub.execute_input": "2022-03-21T18:08:24.118973Z",
     "iopub.status.busy": "2022-03-21T18:08:24.118597Z",
     "iopub.status.idle": "2022-03-21T18:08:24.138604Z",
     "shell.execute_reply": "2022-03-21T18:08:24.137819Z"
    },
    "papermill": {
     "duration": 0.050241,
     "end_time": "2022-03-21T18:08:24.138756",
     "exception": false,
     "start_time": "2022-03-21T18:08:24.088515",
     "status": "completed"
    },
    "tags": []
   },
   "outputs": [],
   "source": [
    "###################################\n",
    "# Build the dataset\n",
    "###################################\n",
    "train_original_source = Iterable_Aggregator(train_original_source, p.seed)\n",
    "val_original_source = Iterable_Aggregator(val_original_source, p.seed)\n",
    "test_original_source = Iterable_Aggregator(test_original_source, p.seed)\n",
    "\n",
    "\n",
    "train_original_target = Iterable_Aggregator(train_original_target, p.seed)\n",
    "val_original_target = Iterable_Aggregator(val_original_target, p.seed)\n",
    "test_original_target = Iterable_Aggregator(test_original_target, p.seed)\n",
    "\n",
    "# For CNN We only use X and Y. And we only train on the source.\n",
    "# Properly form the data using a transform lambda and Lazy_Iterable_Wrapper. Finally wrap them in a dataloader\n",
    "\n",
    "transform_lambda = lambda ex: ex[1] # Original is (<domain>, <episode>) so we strip down to episode only\n",
    "\n",
    "train_processed_source = Lazy_Iterable_Wrapper(train_original_source, transform_lambda)\n",
    "val_processed_source   = Lazy_Iterable_Wrapper(val_original_source, transform_lambda)\n",
    "test_processed_source  = Lazy_Iterable_Wrapper(test_original_source, transform_lambda)\n",
    "\n",
    "train_processed_target = Lazy_Iterable_Wrapper(train_original_target, transform_lambda)\n",
    "val_processed_target   = Lazy_Iterable_Wrapper(val_original_target, transform_lambda)\n",
    "test_processed_target  = Lazy_Iterable_Wrapper(test_original_target, transform_lambda)\n",
    "\n",
    "datasets = EasyDict({\n",
    "    \"source\": {\n",
    "        \"original\": {\"train\":train_original_source, \"val\":val_original_source, \"test\":test_original_source},\n",
    "        \"processed\": {\"train\":train_processed_source, \"val\":val_processed_source, \"test\":test_processed_source}\n",
    "    },\n",
    "    \"target\": {\n",
    "        \"original\": {\"train\":train_original_target, \"val\":val_original_target, \"test\":test_original_target},\n",
    "        \"processed\": {\"train\":train_processed_target, \"val\":val_processed_target, \"test\":test_processed_target}\n",
    "    },\n",
    "})"
   ]
  },
  {
   "cell_type": "code",
   "execution_count": 20,
   "id": "5b3c01fc",
   "metadata": {
    "execution": {
     "iopub.execute_input": "2022-03-21T18:08:24.191344Z",
     "iopub.status.busy": "2022-03-21T18:08:24.190979Z",
     "iopub.status.idle": "2022-03-21T18:08:39.680977Z",
     "shell.execute_reply": "2022-03-21T18:08:39.680280Z"
    },
    "papermill": {
     "duration": 15.516464,
     "end_time": "2022-03-21T18:08:39.681155",
     "exception": false,
     "start_time": "2022-03-21T18:08:24.164691",
     "status": "completed"
    },
    "tags": []
   },
   "outputs": [
    {
     "name": "stdout",
     "output_type": "stream",
     "text": [
      "{'CORES_1', 'CORES_5', 'CORES_4', 'CORES_2', 'CORES_3'}\n"
     ]
    },
    {
     "name": "stdout",
     "output_type": "stream",
     "text": [
      "{'ORACLE.run1_26', 'ORACLE.run1_38', 'ORACLE.run1_20', 'ORACLE.run1_44', 'ORACLE.run1_8', 'ORACLE.run1_14', 'ORACLE.run1_32', 'ORACLE.run1_50'}\n"
     ]
    },
    {
     "name": "stdout",
     "output_type": "stream",
     "text": [
      "tensor([[[-0.0060, -0.0054, -0.0223,  ..., -0.0072,  0.0068, -0.0017],\n",
      "         [-0.0035,  0.0011,  0.0172,  ...,  0.0153,  0.0391,  0.0436]],\n",
      "\n",
      "        [[-0.0096, -0.0275, -0.0174,  ..., -0.0347, -0.0401, -0.0274],\n",
      "         [-0.0048, -0.0185, -0.0293,  ...,  0.0203,  0.0138,  0.0108]],\n",
      "\n",
      "        [[-0.0062, -0.0035, -0.0104,  ...,  0.0128,  0.0288,  0.0244],\n",
      "         [-0.0004,  0.0076,  0.0295,  ...,  0.0180,  0.0265,  0.0359]],\n",
      "\n",
      "        ...,\n",
      "\n",
      "        [[-0.0025, -0.0105,  0.0131,  ..., -0.0173, -0.0065,  0.0104],\n",
      "         [ 0.0059, -0.0101, -0.0090,  ...,  0.0030,  0.0020, -0.0041]],\n",
      "\n",
      "        [[-0.0072,  0.0022,  0.0151,  ..., -0.0149, -0.0024,  0.0096],\n",
      "         [-0.0010, -0.0145,  0.0076,  ..., -0.0071, -0.0007,  0.0047]],\n",
      "\n",
      "        [[ 0.0000, -0.0004, -0.0008,  ...,  0.0188,  0.0046, -0.0041],\n",
      "         [-0.0013, -0.0006, -0.0016,  ..., -0.0109, -0.0032,  0.0070]]])\n"
     ]
    }
   ],
   "source": [
    "from steves_utils.transforms import get_average_magnitude, get_average_power\n",
    "\n",
    "print(set([u for u,_ in val_original_source]))\n",
    "print(set([u for u,_ in val_original_target]))\n",
    "\n",
    "s_x, s_y, q_x, q_y, _ = next(iter(train_processed_source))\n",
    "print(s_x)\n",
    "\n",
    "# for ds in [\n",
    "#     train_processed_source,\n",
    "#     val_processed_source,\n",
    "#     test_processed_source,\n",
    "#     train_processed_target,\n",
    "#     val_processed_target,\n",
    "#     test_processed_target\n",
    "# ]:\n",
    "#     for s_x, s_y, q_x, q_y, _ in ds:\n",
    "#         for X in (s_x, q_x):\n",
    "#             for x in X:\n",
    "#                 assert np.isclose(get_average_magnitude(x.numpy()), 1.0)\n",
    "#                 assert np.isclose(get_average_power(x.numpy()), 1.0)\n",
    "                "
   ]
  },
  {
   "cell_type": "code",
   "execution_count": 21,
   "id": "bbdacba1",
   "metadata": {
    "execution": {
     "iopub.execute_input": "2022-03-21T18:08:39.735928Z",
     "iopub.status.busy": "2022-03-21T18:08:39.735340Z",
     "iopub.status.idle": "2022-03-21T18:08:39.980065Z",
     "shell.execute_reply": "2022-03-21T18:08:39.979675Z"
    },
    "papermill": {
     "duration": 0.272509,
     "end_time": "2022-03-21T18:08:39.980174",
     "exception": false,
     "start_time": "2022-03-21T18:08:39.707665",
     "status": "completed"
    },
    "tags": []
   },
   "outputs": [
    {
     "name": "stdout",
     "output_type": "stream",
     "text": [
      "(2, 256)\n"
     ]
    }
   ],
   "source": [
    "###################################\n",
    "# Build the model\n",
    "###################################\n",
    "# easfsl only wants a tuple for the shape\n",
    "model = Steves_Prototypical_Network(x_net, device=p.device, x_shape=tuple(p.x_shape))\n",
    "optimizer = Adam(params=model.parameters(), lr=p.lr)"
   ]
  },
  {
   "cell_type": "code",
   "execution_count": 22,
   "id": "22b39ac5",
   "metadata": {
    "execution": {
     "iopub.execute_input": "2022-03-21T18:08:40.030017Z",
     "iopub.status.busy": "2022-03-21T18:08:40.029637Z",
     "iopub.status.idle": "2022-03-21T18:27:43.004262Z",
     "shell.execute_reply": "2022-03-21T18:27:43.003873Z"
    },
    "papermill": {
     "duration": 1143.001393,
     "end_time": "2022-03-21T18:27:43.004349",
     "exception": false,
     "start_time": "2022-03-21T18:08:40.002956",
     "status": "completed"
    },
    "tags": []
   },
   "outputs": [
    {
     "name": "stdout",
     "output_type": "stream",
     "text": [
      "epoch: 1, [batch: 1 / 6317], examples_per_second: 35.6220, train_label_loss: 2.1049, \n"
     ]
    },
    {
     "name": "stdout",
     "output_type": "stream",
     "text": [
      "epoch: 1, [batch: 632 / 6317], examples_per_second: 2547.1842, train_label_loss: 0.0363, \n"
     ]
    },
    {
     "name": "stdout",
     "output_type": "stream",
     "text": [
      "epoch: 1, [batch: 1264 / 6317], examples_per_second: 2633.5245, train_label_loss: 0.0003, \n"
     ]
    },
    {
     "name": "stdout",
     "output_type": "stream",
     "text": [
      "epoch: 1, [batch: 1895 / 6317], examples_per_second: 2542.7348, train_label_loss: 0.0019, \n"
     ]
    },
    {
     "name": "stdout",
     "output_type": "stream",
     "text": [
      "epoch: 1, [batch: 2527 / 6317], examples_per_second: 2856.9271, train_label_loss: 0.0073, \n"
     ]
    },
    {
     "name": "stdout",
     "output_type": "stream",
     "text": [
      "epoch: 1, [batch: 3159 / 6317], examples_per_second: 2762.7063, train_label_loss: 0.0076, \n"
     ]
    },
    {
     "name": "stdout",
     "output_type": "stream",
     "text": [
      "epoch: 1, [batch: 3790 / 6317], examples_per_second: 2601.3738, train_label_loss: 0.0004, \n"
     ]
    },
    {
     "name": "stdout",
     "output_type": "stream",
     "text": [
      "epoch: 1, [batch: 4422 / 6317], examples_per_second: 2828.6310, train_label_loss: 0.0020, \n"
     ]
    },
    {
     "name": "stdout",
     "output_type": "stream",
     "text": [
      "epoch: 1, [batch: 5053 / 6317], examples_per_second: 2975.9918, train_label_loss: 0.0006, \n"
     ]
    },
    {
     "name": "stdout",
     "output_type": "stream",
     "text": [
      "epoch: 1, [batch: 5685 / 6317], examples_per_second: 2648.1253, train_label_loss: 0.0003, \n"
     ]
    },
    {
     "name": "stdout",
     "output_type": "stream",
     "text": [
      "=============================================================\n",
      "epoch: 1, source_val_acc_label: 0.9982, target_val_acc_label: 0.5639, source_val_label_loss: 0.0096, target_val_label_loss: 1.8425, \n",
      "=============================================================\n"
     ]
    },
    {
     "name": "stdout",
     "output_type": "stream",
     "text": [
      "New best\n"
     ]
    },
    {
     "name": "stdout",
     "output_type": "stream",
     "text": [
      "epoch: 2, [batch: 1 / 6315], examples_per_second: 2.1476, train_label_loss: 0.0007, \n"
     ]
    },
    {
     "name": "stdout",
     "output_type": "stream",
     "text": [
      "epoch: 2, [batch: 632 / 6315], examples_per_second: 2301.1498, train_label_loss: 0.0001, \n"
     ]
    },
    {
     "name": "stdout",
     "output_type": "stream",
     "text": [
      "epoch: 2, [batch: 1263 / 6315], examples_per_second: 2306.8533, train_label_loss: 0.0000, \n"
     ]
    },
    {
     "name": "stdout",
     "output_type": "stream",
     "text": [
      "epoch: 2, [batch: 1895 / 6315], examples_per_second: 2349.5403, train_label_loss: 0.0001, \n"
     ]
    },
    {
     "name": "stdout",
     "output_type": "stream",
     "text": [
      "epoch: 2, [batch: 2526 / 6315], examples_per_second: 2314.3829, train_label_loss: 0.0005, \n"
     ]
    },
    {
     "name": "stdout",
     "output_type": "stream",
     "text": [
      "epoch: 2, [batch: 3158 / 6315], examples_per_second: 2318.1629, train_label_loss: 0.0000, \n"
     ]
    },
    {
     "name": "stdout",
     "output_type": "stream",
     "text": [
      "epoch: 2, [batch: 3789 / 6315], examples_per_second: 2435.1152, train_label_loss: 0.0004, \n"
     ]
    },
    {
     "name": "stdout",
     "output_type": "stream",
     "text": [
      "epoch: 2, [batch: 4420 / 6315], examples_per_second: 2575.6579, train_label_loss: 0.0002, \n"
     ]
    },
    {
     "name": "stdout",
     "output_type": "stream",
     "text": [
      "epoch: 2, [batch: 5052 / 6315], examples_per_second: 2816.3988, train_label_loss: 0.0290, \n"
     ]
    },
    {
     "name": "stdout",
     "output_type": "stream",
     "text": [
      "epoch: 2, [batch: 5683 / 6315], examples_per_second: 2953.2498, train_label_loss: 0.0004, \n"
     ]
    },
    {
     "name": "stdout",
     "output_type": "stream",
     "text": [
      "=============================================================\n",
      "epoch: 2, source_val_acc_label: 0.9978, target_val_acc_label: 0.5264, source_val_label_loss: 0.0119, target_val_label_loss: 1.8196, \n",
      "=============================================================\n"
     ]
    },
    {
     "name": "stdout",
     "output_type": "stream",
     "text": [
      "epoch: 3, [batch: 1 / 6325], examples_per_second: 2.7729, train_label_loss: 0.0001, \n"
     ]
    },
    {
     "name": "stdout",
     "output_type": "stream",
     "text": [
      "epoch: 3, [batch: 633 / 6325], examples_per_second: 2982.3403, train_label_loss: 0.0000, \n"
     ]
    },
    {
     "name": "stdout",
     "output_type": "stream",
     "text": [
      "epoch: 3, [batch: 1265 / 6325], examples_per_second: 2912.4786, train_label_loss: 0.0000, \n"
     ]
    },
    {
     "name": "stdout",
     "output_type": "stream",
     "text": [
      "epoch: 3, [batch: 1898 / 6325], examples_per_second: 2926.6195, train_label_loss: 0.0000, \n"
     ]
    },
    {
     "name": "stdout",
     "output_type": "stream",
     "text": [
      "epoch: 3, [batch: 2530 / 6325], examples_per_second: 2952.0418, train_label_loss: 0.0000, \n"
     ]
    },
    {
     "name": "stdout",
     "output_type": "stream",
     "text": [
      "epoch: 3, [batch: 3163 / 6325], examples_per_second: 2957.2633, train_label_loss: 0.0003, \n"
     ]
    },
    {
     "name": "stdout",
     "output_type": "stream",
     "text": [
      "epoch: 3, [batch: 3795 / 6325], examples_per_second: 3324.5379, train_label_loss: 0.0000, \n"
     ]
    },
    {
     "name": "stdout",
     "output_type": "stream",
     "text": [
      "epoch: 3, [batch: 4427 / 6325], examples_per_second: 3499.7177, train_label_loss: 0.0000, \n"
     ]
    },
    {
     "name": "stdout",
     "output_type": "stream",
     "text": [
      "epoch: 3, [batch: 5060 / 6325], examples_per_second: 3850.7955, train_label_loss: 0.0000, \n"
     ]
    },
    {
     "name": "stdout",
     "output_type": "stream",
     "text": [
      "epoch: 3, [batch: 5692 / 6325], examples_per_second: 3869.2901, train_label_loss: 0.0000, \n"
     ]
    },
    {
     "name": "stdout",
     "output_type": "stream",
     "text": [
      "=============================================================\n",
      "epoch: 3, source_val_acc_label: 0.9995, target_val_acc_label: 0.4725, source_val_label_loss: 0.0038, target_val_label_loss: 1.6973, \n",
      "=============================================================\n"
     ]
    },
    {
     "name": "stdout",
     "output_type": "stream",
     "text": [
      "epoch: 4, [batch: 1 / 6307], examples_per_second: 4.1232, train_label_loss: 0.0000, \n"
     ]
    },
    {
     "name": "stdout",
     "output_type": "stream",
     "text": [
      "epoch: 4, [batch: 631 / 6307], examples_per_second: 3851.8207, train_label_loss: 0.0001, \n"
     ]
    },
    {
     "name": "stdout",
     "output_type": "stream",
     "text": [
      "epoch: 4, [batch: 1262 / 6307], examples_per_second: 3880.5354, train_label_loss: 0.0000, \n"
     ]
    },
    {
     "name": "stdout",
     "output_type": "stream",
     "text": [
      "epoch: 4, [batch: 1892 / 6307], examples_per_second: 3243.2260, train_label_loss: 0.0000, \n"
     ]
    },
    {
     "name": "stdout",
     "output_type": "stream",
     "text": [
      "epoch: 4, [batch: 2523 / 6307], examples_per_second: 2967.3178, train_label_loss: 0.0000, \n"
     ]
    },
    {
     "name": "stdout",
     "output_type": "stream",
     "text": [
      "epoch: 4, [batch: 3154 / 6307], examples_per_second: 2965.0636, train_label_loss: 0.0000, \n"
     ]
    },
    {
     "name": "stdout",
     "output_type": "stream",
     "text": [
      "epoch: 4, [batch: 3784 / 6307], examples_per_second: 2935.4094, train_label_loss: 0.0001, \n"
     ]
    },
    {
     "name": "stdout",
     "output_type": "stream",
     "text": [
      "epoch: 4, [batch: 4415 / 6307], examples_per_second: 2436.3193, train_label_loss: 0.0000, \n"
     ]
    },
    {
     "name": "stdout",
     "output_type": "stream",
     "text": [
      "epoch: 4, [batch: 5045 / 6307], examples_per_second: 2280.3225, train_label_loss: 0.0000, \n"
     ]
    },
    {
     "name": "stdout",
     "output_type": "stream",
     "text": [
      "epoch: 4, [batch: 5676 / 6307], examples_per_second: 2276.9068, train_label_loss: 0.0001, \n"
     ]
    },
    {
     "name": "stdout",
     "output_type": "stream",
     "text": [
      "=============================================================\n",
      "epoch: 4, source_val_acc_label: 0.9994, target_val_acc_label: 0.4898, source_val_label_loss: 0.0055, target_val_label_loss: 1.7410, \n",
      "=============================================================\n"
     ]
    },
    {
     "name": "stdout",
     "output_type": "stream",
     "text": [
      "epoch: 5, [batch: 1 / 6302], examples_per_second: 2.0967, train_label_loss: 0.1021, \n"
     ]
    },
    {
     "name": "stdout",
     "output_type": "stream",
     "text": [
      "epoch: 5, [batch: 631 / 6302], examples_per_second: 2544.1382, train_label_loss: 0.0000, \n"
     ]
    },
    {
     "name": "stdout",
     "output_type": "stream",
     "text": [
      "epoch: 5, [batch: 1261 / 6302], examples_per_second: 2581.0066, train_label_loss: 0.0000, \n"
     ]
    },
    {
     "name": "stdout",
     "output_type": "stream",
     "text": [
      "epoch: 5, [batch: 1891 / 6302], examples_per_second: 2629.2172, train_label_loss: 0.2912, \n"
     ]
    },
    {
     "name": "stdout",
     "output_type": "stream",
     "text": [
      "epoch: 5, [batch: 2521 / 6302], examples_per_second: 2367.2795, train_label_loss: 0.0000, \n"
     ]
    },
    {
     "name": "stdout",
     "output_type": "stream",
     "text": [
      "epoch: 5, [batch: 3151 / 6302], examples_per_second: 2556.6413, train_label_loss: 0.0001, \n"
     ]
    },
    {
     "name": "stdout",
     "output_type": "stream",
     "text": [
      "epoch: 5, [batch: 3781 / 6302], examples_per_second: 2621.8607, train_label_loss: 0.0001, \n"
     ]
    },
    {
     "name": "stdout",
     "output_type": "stream",
     "text": [
      "epoch: 5, [batch: 4411 / 6302], examples_per_second: 2677.2785, train_label_loss: 0.0003, \n"
     ]
    },
    {
     "name": "stdout",
     "output_type": "stream",
     "text": [
      "epoch: 5, [batch: 5041 / 6302], examples_per_second: 2605.5103, train_label_loss: 0.0001, \n"
     ]
    },
    {
     "name": "stdout",
     "output_type": "stream",
     "text": [
      "epoch: 5, [batch: 5671 / 6302], examples_per_second: 2611.9789, train_label_loss: 0.0000, \n"
     ]
    },
    {
     "name": "stdout",
     "output_type": "stream",
     "text": [
      "=============================================================\n",
      "epoch: 5, source_val_acc_label: 0.9994, target_val_acc_label: 0.5220, source_val_label_loss: 0.0047, target_val_label_loss: 1.7127, \n",
      "=============================================================\n"
     ]
    },
    {
     "name": "stdout",
     "output_type": "stream",
     "text": [
      "Patience (3) exhausted\n"
     ]
    }
   ],
   "source": [
    "###################################\n",
    "# train\n",
    "###################################\n",
    "jig = PTN_Train_Eval_Test_Jig(model, p.BEST_MODEL_PATH, p.device)\n",
    "\n",
    "jig.train(\n",
    "    train_iterable=datasets.source.processed.train,\n",
    "    source_val_iterable=datasets.source.processed.val,\n",
    "    target_val_iterable=datasets.target.processed.val,\n",
    "    num_epochs=p.n_epoch,\n",
    "    num_logs_per_epoch=p.NUM_LOGS_PER_EPOCH,\n",
    "    patience=p.patience,\n",
    "    optimizer=optimizer,\n",
    "    criteria_for_best=p.criteria_for_best,\n",
    ")"
   ]
  },
  {
   "cell_type": "code",
   "execution_count": 23,
   "id": "31e8fabf",
   "metadata": {
    "execution": {
     "iopub.execute_input": "2022-03-21T18:27:43.093247Z",
     "iopub.status.busy": "2022-03-21T18:27:43.091751Z",
     "iopub.status.idle": "2022-03-21T18:27:43.121688Z",
     "shell.execute_reply": "2022-03-21T18:27:43.120868Z"
    },
    "papermill": {
     "duration": 0.074115,
     "end_time": "2022-03-21T18:27:43.121865",
     "exception": false,
     "start_time": "2022-03-21T18:27:43.047750",
     "status": "completed"
    },
    "tags": []
   },
   "outputs": [],
   "source": [
    "total_experiment_time_secs = time.time() - start_time_secs"
   ]
  },
  {
   "cell_type": "code",
   "execution_count": 24,
   "id": "87b9595b",
   "metadata": {
    "execution": {
     "iopub.execute_input": "2022-03-21T18:27:43.219577Z",
     "iopub.status.busy": "2022-03-21T18:27:43.218953Z",
     "iopub.status.idle": "2022-03-21T18:31:33.735025Z",
     "shell.execute_reply": "2022-03-21T18:31:33.734288Z"
    },
    "papermill": {
     "duration": 230.560568,
     "end_time": "2022-03-21T18:31:33.735216",
     "exception": false,
     "start_time": "2022-03-21T18:27:43.174648",
     "status": "completed"
    },
    "tags": []
   },
   "outputs": [],
   "source": [
    "###################################\n",
    "# Evaluate the model\n",
    "###################################\n",
    "source_test_label_accuracy, source_test_label_loss = jig.test(datasets.source.processed.test)\n",
    "target_test_label_accuracy, target_test_label_loss = jig.test(datasets.target.processed.test)\n",
    "\n",
    "source_val_label_accuracy, source_val_label_loss = jig.test(datasets.source.processed.val)\n",
    "target_val_label_accuracy, target_val_label_loss = jig.test(datasets.target.processed.val)\n",
    "\n",
    "history = jig.get_history()\n",
    "\n",
    "total_epochs_trained = len(history[\"epoch_indices\"])\n",
    "\n",
    "val_dl = Iterable_Aggregator((datasets.source.original.val,datasets.target.original.val))\n",
    "\n",
    "confusion = ptn_confusion_by_domain_over_dataloader(model, p.device, val_dl)\n",
    "per_domain_accuracy = per_domain_accuracy_from_confusion(confusion)\n",
    "\n",
    "# Add a key to per_domain_accuracy for if it was a source domain\n",
    "for domain, accuracy in per_domain_accuracy.items():\n",
    "    per_domain_accuracy[domain] = {\n",
    "        \"accuracy\": accuracy,\n",
    "        \"source?\": domain in p.domains_source\n",
    "    }\n",
    "\n",
    "# Do an independent accuracy assesment JUST TO BE SURE!\n",
    "# _source_test_label_accuracy = independent_accuracy_assesment(model, datasets.source.processed.test, p.device)\n",
    "# _target_test_label_accuracy = independent_accuracy_assesment(model, datasets.target.processed.test, p.device)\n",
    "# _source_val_label_accuracy = independent_accuracy_assesment(model, datasets.source.processed.val, p.device)\n",
    "# _target_val_label_accuracy = independent_accuracy_assesment(model, datasets.target.processed.val, p.device)\n",
    "\n",
    "# assert(_source_test_label_accuracy == source_test_label_accuracy)\n",
    "# assert(_target_test_label_accuracy == target_test_label_accuracy)\n",
    "# assert(_source_val_label_accuracy == source_val_label_accuracy)\n",
    "# assert(_target_val_label_accuracy == target_val_label_accuracy)\n",
    "\n",
    "experiment = {\n",
    "    \"experiment_name\": p.experiment_name,\n",
    "    \"parameters\": dict(p),\n",
    "    \"results\": {\n",
    "        \"source_test_label_accuracy\": source_test_label_accuracy,\n",
    "        \"source_test_label_loss\": source_test_label_loss,\n",
    "        \"target_test_label_accuracy\": target_test_label_accuracy,\n",
    "        \"target_test_label_loss\": target_test_label_loss,\n",
    "        \"source_val_label_accuracy\": source_val_label_accuracy,\n",
    "        \"source_val_label_loss\": source_val_label_loss,\n",
    "        \"target_val_label_accuracy\": target_val_label_accuracy,\n",
    "        \"target_val_label_loss\": target_val_label_loss,\n",
    "        \"total_epochs_trained\": total_epochs_trained,\n",
    "        \"total_experiment_time_secs\": total_experiment_time_secs,\n",
    "        \"confusion\": confusion,\n",
    "        \"per_domain_accuracy\": per_domain_accuracy,\n",
    "    },\n",
    "    \"history\": history,\n",
    "    \"dataset_metrics\": get_dataset_metrics(datasets, \"ptn\"),\n",
    "}"
   ]
  },
  {
   "cell_type": "code",
   "execution_count": 25,
   "id": "54a21829",
   "metadata": {
    "execution": {
     "iopub.execute_input": "2022-03-21T18:31:33.821231Z",
     "iopub.status.busy": "2022-03-21T18:31:33.820661Z",
     "iopub.status.idle": "2022-03-21T18:31:34.044705Z",
     "shell.execute_reply": "2022-03-21T18:31:34.045394Z"
    },
    "papermill": {
     "duration": 0.267349,
     "end_time": "2022-03-21T18:31:34.045609",
     "exception": false,
     "start_time": "2022-03-21T18:31:33.778260",
     "status": "completed"
    },
    "tags": []
   },
   "outputs": [
    {
     "data": {
      "image/png": "[encoded data removed]",
      "text/plain": [
       "<Figure size 1080x504 with 1 Axes>"
      ]
     },
     "metadata": {
      "needs_background": "light"
     },
     "output_type": "display_data"
    }
   ],
   "source": [
    "ax = get_loss_curve(experiment)\n",
    "plt.show()"
   ]
  },
  {
   "cell_type": "code",
   "execution_count": 26,
   "id": "fd8a0f60",
   "metadata": {
    "execution": {
     "iopub.execute_input": "2022-03-21T18:31:34.132046Z",
     "iopub.status.busy": "2022-03-21T18:31:34.131652Z",
     "iopub.status.idle": "2022-03-21T18:31:34.476857Z",
     "shell.execute_reply": "2022-03-21T18:31:34.477526Z"
    },
    "papermill": {
     "duration": 0.387035,
     "end_time": "2022-03-21T18:31:34.477715",
     "exception": false,
     "start_time": "2022-03-21T18:31:34.090680",
     "status": "completed"
    },
    "tags": []
   },
   "outputs": [
    {
     "data": {
      "text/plain": [
       "<AxesSubplot:title={'center':'Results'}>"
      ]
     },
     "execution_count": 26,
     "metadata": {},
     "output_type": "execute_result"
    },
    {
     "data": {
      "image/png": "[encoded data removed]",
      "text/plain": [
       "<Figure size 1080x504 with 1 Axes>"
      ]
     },
     "metadata": {
      "needs_background": "light"
     },
     "output_type": "display_data"
    }
   ],
   "source": [
    "get_results_table(experiment)"
   ]
  },
  {
   "cell_type": "code",
   "execution_count": 27,
   "id": "cf8dc689",
   "metadata": {
    "execution": {
     "iopub.execute_input": "2022-03-21T18:31:34.565195Z",
     "iopub.status.busy": "2022-03-21T18:31:34.564578Z",
     "iopub.status.idle": "2022-03-21T18:31:34.824162Z",
     "shell.execute_reply": "2022-03-21T18:31:34.823312Z"
    },
    "papermill": {
     "duration": 0.303091,
     "end_time": "2022-03-21T18:31:34.824318",
     "exception": false,
     "start_time": "2022-03-21T18:31:34.521227",
     "status": "completed"
    },
    "tags": []
   },
   "outputs": [
    {
     "data": {
      "text/plain": [
       "<AxesSubplot:title={'center':'Per Domain Validation Accuracy'}, xlabel='domain'>"
      ]
     },
     "execution_count": 27,
     "metadata": {},
     "output_type": "execute_result"
    },
    {
     "data": {
      "image/png": "[encoded data removed]",
      "text/plain": [
       "<Figure size 1080x504 with 1 Axes>"
      ]
     },
     "metadata": {
      "needs_background": "light"
     },
     "output_type": "display_data"
    }
   ],
   "source": [
    "get_domain_accuracies(experiment)"
   ]
  },
  {
   "cell_type": "code",
   "execution_count": 28,
   "id": "a74ae082",
   "metadata": {
    "execution": {
     "iopub.execute_input": "2022-03-21T18:31:34.918686Z",
     "iopub.status.busy": "2022-03-21T18:31:34.918302Z",
     "iopub.status.idle": "2022-03-21T18:31:34.946247Z",
     "shell.execute_reply": "2022-03-21T18:31:34.945523Z"
    },
    "papermill": {
     "duration": 0.075245,
     "end_time": "2022-03-21T18:31:34.946408",
     "exception": false,
     "start_time": "2022-03-21T18:31:34.871163",
     "status": "completed"
    },
    "tags": []
   },
   "outputs": [
    {
     "name": "stdout",
     "output_type": "stream",
     "text": [
      "Source Test Label Accuracy: 0.9983848314606741 Target Test Label Accuracy: 0.5681640625\n",
      "Source Val Label Accuracy: 0.99825 Target Val Label Accuracy: 0.5638671875\n"
     ]
    }
   ],
   "source": [
    "print(\"Source Test Label Accuracy:\", experiment[\"results\"][\"source_test_label_accuracy\"], \"Target Test Label Accuracy:\", experiment[\"results\"][\"target_test_label_accuracy\"])\n",
    "print(\"Source Val Label Accuracy:\", experiment[\"results\"][\"source_val_label_accuracy\"], \"Target Val Label Accuracy:\", experiment[\"results\"][\"target_val_label_accuracy\"])"
   ]
  },
  {
   "cell_type": "code",
   "execution_count": 29,
   "id": "dacca602",
   "metadata": {
    "execution": {
     "iopub.execute_input": "2022-03-21T18:31:35.038399Z",
     "iopub.status.busy": "2022-03-21T18:31:35.038034Z",
     "iopub.status.idle": "2022-03-21T18:31:35.063255Z",
     "shell.execute_reply": "2022-03-21T18:31:35.063977Z"
    },
    "papermill": {
     "duration": 0.071046,
     "end_time": "2022-03-21T18:31:35.064126",
     "exception": false,
     "start_time": "2022-03-21T18:31:34.993080",
     "status": "completed"
    },
    "tags": [
     "experiment_json"
    ]
   },
   "outputs": [
    {
     "data": {
      "text/plain": [
       "'{\"experiment_name\": \"tl_1v2:cores-oracle.run1.framed\", \"parameters\": {\"experiment_name\": \"tl_1v2:cores-oracle.run1.framed\", \"device\": \"cuda\", \"lr\": 0.0001, \"n_shot\": 3, \"n_query\": 2, \"train_k_factor\": 3, \"val_k_factor\": 2, \"test_k_factor\": 2, \"torch_default_dtype\": \"torch.float32\", \"n_epoch\": 50, \"patience\": 3, \"criteria_for_best\": \"target_accuracy\", \"x_net\": [{\"class\": \"nnReshape\", \"kargs\": {\"shape\": [-1, 1, 2, 256]}}, {\"class\": \"Conv2d\", \"kargs\": {\"in_channels\": 1, \"out_channels\": 256, \"kernel_size\": [1, 7], \"bias\": false, \"padding\": [0, 3]}}, {\"class\": \"ReLU\", \"kargs\": {\"inplace\": true}}, {\"class\": \"BatchNorm2d\", \"kargs\": {\"num_features\": 256}}, {\"class\": \"Conv2d\", \"kargs\": {\"in_channels\": 256, \"out_channels\": 80, \"kernel_size\": [2, 7], \"bias\": true, \"padding\": [0, 3]}}, {\"class\": \"ReLU\", \"kargs\": {\"inplace\": true}}, {\"class\": \"BatchNorm2d\", \"kargs\": {\"num_features\": 80}}, {\"class\": \"Flatten\", \"kargs\": {}}, {\"class\": \"Linear\", \"kargs\": {\"in_features\": 20480, \"out_features\": 256}}, {\"class\": \"ReLU\", \"kargs\": {\"inplace\": true}}, {\"class\": \"BatchNorm1d\", \"kargs\": {\"num_features\": 256}}, {\"class\": \"Linear\", \"kargs\": {\"in_features\": 256, \"out_features\": 256}}], \"NUM_LOGS_PER_EPOCH\": 10, \"BEST_MODEL_PATH\": \"./best_model.pth\", \"n_way\": 16, \"datasets\": [{\"labels\": [\"1-10.\", \"1-11.\", \"1-15.\", \"1-16.\", \"1-17.\", \"1-18.\", \"1-19.\", \"10-4.\", \"10-7.\", \"11-1.\", \"11-14.\", \"11-17.\", \"11-20.\", \"11-7.\", \"13-20.\", \"13-8.\", \"14-10.\", \"14-11.\", \"14-14.\", \"14-7.\", \"15-1.\", \"15-20.\", \"16-1.\", \"16-16.\", \"17-10.\", \"17-11.\", \"17-2.\", \"19-1.\", \"19-16.\", \"19-19.\", \"19-20.\", \"19-3.\", \"2-10.\", \"2-11.\", \"2-17.\", \"2-18.\", \"2-20.\", \"2-3.\", \"2-4.\", \"2-5.\", \"2-6.\", \"2-7.\", \"2-8.\", \"3-13.\", \"3-18.\", \"3-3.\", \"4-1.\", \"4-10.\", \"4-11.\", \"4-19.\", \"5-5.\", \"6-15.\", \"7-10.\", \"7-14.\", \"8-18.\", \"8-20.\", \"8-3.\", \"8-8.\"], \"domains\": [1, 2, 3, 4, 5], \"num_examples_per_domain_per_label\": -1, \"pickle_path\": \"/root/csc500-main/datasets/cores.stratified_ds.2022A.pkl\", \"source_or_target_dataset\": \"source\", \"x_transforms\": [], \"episode_transforms\": [], \"domain_prefix\": \"CORES_\"}, {\"labels\": [\"3123D52\", \"3123D65\", \"3123D79\", \"3123D80\", \"3123D54\", \"3123D70\", \"3123D7B\", \"3123D89\", \"3123D58\", \"3123D76\", \"3123D7D\", \"3123EFE\", \"3123D64\", \"3123D78\", \"3123D7E\", \"3124E4A\"], \"domains\": [32, 38, 8, 44, 14, 50, 20, 26], \"num_examples_per_domain_per_label\": 2000, \"pickle_path\": \"/root/csc500-main/datasets/oracle.Run1_framed_2000Examples_stratified_ds.2022A.pkl\", \"source_or_target_dataset\": \"target\", \"x_transforms\": [], \"episode_transforms\": [], \"domain_prefix\": \"ORACLE.run1_\"}], \"dataset_seed\": 500, \"seed\": 500, \"x_shape\": [2, 256], \"domains_source\": [\"CORES_1\", \"CORES_2\", \"CORES_3\", \"CORES_4\", \"CORES_5\"], \"domains_target\": [\"ORACLE.run1_32\", \"ORACLE.run1_38\", \"ORACLE.run1_8\", \"ORACLE.run1_44\", \"ORACLE.run1_14\", \"ORACLE.run1_50\", \"ORACLE.run1_20\", \"ORACLE.run1_26\"]}, \"results\": {\"source_test_label_accuracy\": 0.9983848314606741, \"source_test_label_loss\": 0.007528386078774929, \"target_test_label_accuracy\": 0.5681640625, \"target_test_label_loss\": 1.8389028310775757, \"source_val_label_accuracy\": 0.99825, \"source_val_label_loss\": 0.009553978219628334, \"target_val_label_accuracy\": 0.5638671875, \"target_val_label_loss\": 1.8424521684646606, \"total_epochs_trained\": 5, \"total_experiment_time_secs\": 1163.3374230861664, \"confusion\": {\"CORES_4\": {\"38\": {\"38\": 40}, \"3\": {\"3\": 124}, \"24\": {\"24\": 56}, \"49\": {\"49\": 20}, \"7\": {\"7\": 24}, \"17\": {\"17\": 80}, \"43\": {\"43\": 148}, \"30\": {\"30\": 44}, \"44\": {\"44\": 132}, \"23\": {\"23\": 144}, \"37\": {\"37\": 24}, \"4\": {\"4\": 132}, \"57\": {\"57\": 100}, \"16\": {\"16\": 96}, \"18\": {\"18\": 107, \"20\": 1}, \"20\": {\"20\": 124}, \"45\": {\"45\": 96}, \"15\": {\"15\": 132}, \"52\": {\"52\": 116}, \"19\": {\"19\": 139, \"28\": 1}, \"54\": {\"54\": 108}, \"56\": {\"56\": 130}, \"40\": {\"40\": 134}, \"28\": {\"28\": 31, \"34\": 1}, \"2\": {\"2\": 36}, \"9\": {\"9\": 120}, \"0\": {\"0\": 80}, \"36\": {\"36\": 91, \"51\": 1}, \"55\": {\"55\": 130}, \"35\": {\"35\": 40}, \"39\": {\"39\": 20}, \"31\": {\"31\": 28}, \"14\": {\"14\": 13, \"38\": 2, \"1\": 1}, \"12\": {\"12\": 92}, \"6\": {\"6\": 112}, \"26\": {\"26\": 24}, \"50\": {\"50\": 132}, \"21\": {\"21\": 122}, \"46\": {\"46\": 139, \"22\": 1}, \"51\": {\"51\": 140}, \"41\": {\"41\": 36}, \"34\": {\"34\": 23, \"28\": 1}, \"47\": {\"47\": 120}, \"5\": {\"5\": 108}, \"1\": {\"1\": 40}, \"48\": {\"48\": 134}, \"29\": {\"29\": 118}, \"22\": {\"22\": 128}, \"10\": {\"10\": 132}, \"32\": {\"32\": 24}, \"13\": {\"13\": 112}, \"42\": {\"42\": 32}, \"27\": {\"27\": 138}, \"8\": {\"8\": 142}, \"33\": {\"33\": 36}, \"25\": {\"25\": 131, \"18\": 1}, \"11\": {\"11\": 103, \"15\": 1}, \"53\": {\"53\": 112}}, \"CORES_2\": {\"32\": {\"32\": 28}, \"17\": {\"17\": 104}, \"38\": {\"38\": 20}, \"2\": {\"2\": 32}, \"43\": {\"43\": 143, \"37\": 1}, \"56\": {\"56\": 144}, \"37\": {\"37\": 36}, \"49\": {\"49\": 23, \"32\": 1}, \"0\": {\"0\": 48}, \"29\": {\"29\": 128}, \"35\": {\"35\": 32}, \"18\": {\"18\": 48}, \"25\": {\"25\": 136}, \"23\": {\"23\": 124}, \"15\": {\"15\": 146}, \"21\": {\"21\": 120}, \"51\": {\"51\": 127, \"36\": 1}, \"20\": {\"20\": 138}, \"7\": {\"7\": 36}, \"50\": {\"50\": 136}, \"31\": {\"31\": 28}, \"30\": {\"30\": 140}, \"19\": {\"19\": 156}, \"9\": {\"9\": 144}, \"52\": {\"52\": 124}, \"45\": {\"45\": 128}, \"8\": {\"8\": 154}, \"55\": {\"55\": 160}, \"12\": {\"12\": 92}, \"40\": {\"40\": 139, \"29\": 1}, \"28\": {\"28\": 28}, \"36\": {\"36\": 116}, \"39\": {\"39\": 28}, \"46\": {\"46\": 122}, \"14\": {\"14\": 24}, \"57\": {\"57\": 142}, \"34\": {\"34\": 27, \"23\": 1}, \"1\": {\"1\": 112}, \"53\": {\"53\": 136}, \"48\": {\"48\": 130}, \"3\": {\"3\": 92}, \"16\": {\"16\": 152}, \"6\": {\"6\": 124}, \"10\": {\"10\": 112}, \"13\": {\"13\": 116}, \"26\": {\"26\": 24}, \"24\": {\"24\": 94, \"13\": 2}, \"44\": {\"44\": 100}, \"27\": {\"27\": 150}, \"22\": {\"22\": 128}, \"33\": {\"33\": 28}, \"47\": {\"47\": 118}, \"5\": {\"5\": 120}, \"4\": {\"4\": 138}, \"41\": {\"41\": 20}, \"11\": {\"11\": 150}, \"54\": {\"54\": 108}, \"42\": {\"42\": 36}}, \"CORES_3\": {\"5\": {\"5\": 116}, \"32\": {\"32\": 28}, \"33\": {\"33\": 28}, \"49\": {\"49\": 20}, \"39\": {\"39\": 16}, \"11\": {\"11\": 142}, \"8\": {\"8\": 116}, \"26\": {\"26\": 24}, \"51\": {\"51\": 122}, \"4\": {\"4\": 146}, \"52\": {\"52\": 118}, \"47\": {\"47\": 92}, \"17\": {\"17\": 105, \"53\": 2, \"56\": 1}, \"53\": {\"53\": 136}, \"2\": {\"2\": 32}, \"12\": {\"12\": 92}, \"37\": {\"37\": 28}, \"9\": {\"9\": 148}, \"13\": {\"13\": 128}, \"54\": {\"54\": 100}, \"31\": {\"31\": 28}, \"34\": {\"34\": 32}, \"24\": {\"24\": 104}, \"7\": {\"7\": 36}, \"50\": {\"50\": 115, \"46\": 1, \"6\": 1, \"3\": 1}, \"46\": {\"46\": 128}, \"44\": {\"44\": 88}, \"40\": {\"40\": 116}, \"21\": {\"21\": 127, \"50\": 1}, \"45\": {\"45\": 60}, \"16\": {\"16\": 126}, \"14\": {\"14\": 39, \"31\": 1}, \"36\": {\"36\": 100}, \"56\": {\"56\": 114}, \"10\": {\"10\": 64}, \"18\": {\"18\": 84}, \"48\": {\"48\": 116}, \"38\": {\"38\": 28}, \"27\": {\"27\": 130}, \"42\": {\"42\": 28}, \"15\": {\"15\": 131, \"11\": 2, \"16\": 1}, \"1\": {\"1\": 100}, \"28\": {\"28\": 28}, \"43\": {\"43\": 136}, \"0\": {\"0\": 124}, \"57\": {\"57\": 124}, \"3\": {\"3\": 148}, \"29\": {\"29\": 124}, \"41\": {\"41\": 27, \"48\": 1}, \"25\": {\"25\": 146}, \"6\": {\"6\": 87, \"46\": 1}, \"35\": {\"35\": 28}, \"20\": {\"20\": 126}, \"23\": {\"23\": 134}, \"22\": {\"22\": 140}, \"19\": {\"19\": 116}, \"55\": {\"55\": 124}, \"30\": {\"30\": 120}}, \"CORES_1\": {\"24\": {\"24\": 108}, \"25\": {\"25\": 140}, \"45\": {\"45\": 143, \"56\": 1}, \"42\": {\"19\": 1, \"42\": 39}, \"2\": {\"2\": 36}, \"9\": {\"9\": 150}, \"21\": {\"21\": 124}, \"26\": {\"26\": 24}, \"49\": {\"49\": 32}, \"39\": {\"39\": 26, \"47\": 2}, \"46\": {\"46\": 136}, \"17\": {\"17\": 64}, \"19\": {\"19\": 156}, \"23\": {\"23\": 132}, \"1\": {\"1\": 100}, \"29\": {\"29\": 140}, \"56\": {\"56\": 150}, \"37\": {\"37\": 32}, \"33\": {\"33\": 32}, \"55\": {\"55\": 142}, \"30\": {\"30\": 120}, \"0\": {\"0\": 152}, \"36\": {\"36\": 64}, \"32\": {\"32\": 30, \"55\": 2}, \"31\": {\"31\": 28}, \"15\": {\"15\": 138}, \"12\": {\"12\": 116}, \"38\": {\"38\": 24}, \"40\": {\"40\": 146}, \"14\": {\"14\": 23, \"30\": 1}, \"13\": {\"13\": 150}, \"48\": {\"48\": 148}, \"34\": {\"34\": 24}, \"44\": {\"44\": 130}, \"5\": {\"5\": 152}, \"11\": {\"11\": 140}, \"7\": {\"7\": 28}, \"18\": {\"18\": 72}, \"52\": {\"52\": 132}, \"51\": {\"51\": 142}, \"41\": {\"41\": 24}, \"16\": {\"16\": 140}, \"22\": {\"22\": 134}, \"3\": {\"3\": 140}, \"54\": {\"54\": 104}, \"27\": {\"27\": 144}, \"20\": {\"20\": 140}, \"8\": {\"8\": 138}, \"50\": {\"50\": 144}, \"57\": {\"57\": 140}, \"4\": {\"4\": 132}, \"47\": {\"47\": 146}, \"10\": {\"10\": 95, \"28\": 1}, \"35\": {\"35\": 36}, \"53\": {\"53\": 126}, \"6\": {\"6\": 96}, \"43\": {\"43\": 140}, \"28\": {\"28\": 28}}, \"CORES_5\": {\"35\": {\"35\": 36}, \"57\": {\"57\": 132}, \"20\": {\"20\": 144}, \"12\": {\"12\": 96}, \"32\": {\"32\": 30, \"27\": 2}, \"25\": {\"25\": 138}, \"44\": {\"44\": 148}, \"31\": {\"31\": 36}, \"11\": {\"11\": 150}, \"47\": {\"47\": 100}, \"23\": {\"23\": 124}, \"43\": {\"43\": 144}, \"37\": {\"37\": 24}, \"5\": {\"5\": 128}, \"45\": {\"45\": 124}, \"7\": {\"7\": 32}, \"13\": {\"13\": 136}, \"49\": {\"49\": 36}, \"46\": {\"46\": 148}, \"16\": {\"16\": 136}, \"54\": {\"54\": 112}, \"19\": {\"19\": 152}, \"55\": {\"55\": 150}, \"30\": {\"30\": 128}, \"34\": {\"34\": 36}, \"50\": {\"50\": 134}, \"3\": {\"3\": 100}, \"10\": {\"10\": 68}, \"27\": {\"27\": 141, \"32\": 1}, \"33\": {\"33\": 31, \"36\": 1}, \"56\": {\"56\": 142}, \"9\": {\"9\": 150}, \"14\": {\"14\": 44}, \"4\": {\"4\": 100}, \"42\": {\"42\": 40}, \"24\": {\"24\": 80}, \"39\": {\"39\": 20}, \"52\": {\"52\": 130}, \"2\": {\"2\": 28}, \"28\": {\"28\": 32}, \"53\": {\"53\": 122}, \"17\": {\"17\": 116}, \"29\": {\"29\": 132}, \"38\": {\"38\": 29, \"7\": 1, \"53\": 2}, \"15\": {\"15\": 144}, \"26\": {\"26\": 22, \"55\": 2}, \"21\": {\"21\": 144}, \"41\": {\"41\": 28}, \"48\": {\"48\": 136}, \"22\": {\"22\": 28}, \"8\": {\"8\": 148}, \"18\": {\"18\": 64}, \"0\": {\"0\": 122}, \"1\": {\"1\": 138}, \"40\": {\"40\": 124}, \"6\": {\"6\": 127, \"50\": 1}, \"51\": {\"51\": 142}, \"36\": {\"36\": 92}}, \"ORACLE.run1_50\": {\"7\": {\"7\": 140, \"4\": 95, \"5\": 5}, \"10\": {\"10\": 204, \"8\": 14, \"0\": 17, \"1\": 5}, \"0\": {\"14\": 18, \"0\": 153, \"2\": 51, \"10\": 18}, \"11\": {\"11\": 188, \"3\": 8, \"12\": 17, \"13\": 2, \"9\": 3, \"15\": 4, \"6\": 10, \"5\": 8}, \"2\": {\"2\": 132, \"14\": 65, \"0\": 43}, \"14\": {\"2\": 77, \"14\": 144, \"0\": 19}, \"9\": {\"9\": 134, \"6\": 21, \"15\": 28, \"12\": 40, \"11\": 6, \"4\": 2, \"5\": 9}, \"13\": {\"13\": 204, \"1\": 29, \"8\": 3, \"11\": 4}, \"8\": {\"8\": 203, \"1\": 30, \"13\": 3, \"10\": 4}, \"15\": {\"6\": 80, \"15\": 90, \"9\": 22, \"5\": 33, \"3\": 7, \"11\": 4, \"12\": 3, \"4\": 1}, \"4\": {\"4\": 105, \"7\": 119, \"6\": 3, \"5\": 9, \"15\": 1, \"9\": 3}, \"5\": {\"5\": 82, \"7\": 36, \"4\": 29, \"11\": 11, \"15\": 27, \"9\": 9, \"6\": 20, \"13\": 7, \"3\": 19}, \"3\": {\"3\": 165, \"5\": 11, \"15\": 15, \"6\": 33, \"12\": 1, \"11\": 11, \"9\": 4}, \"1\": {\"1\": 131, \"8\": 38, \"13\": 47, \"10\": 22, \"0\": 2}, \"6\": {\"9\": 25, \"15\": 76, \"6\": 86, \"5\": 16, \"3\": 26, \"12\": 6, \"11\": 5}, \"12\": {\"12\": 171, \"9\": 50, \"11\": 13, \"6\": 5, \"5\": 1}}, \"ORACLE.run1_14\": {\"14\": {\"2\": 34, \"6\": 12, \"0\": 27, \"14\": 118, \"3\": 9, \"13\": 27, \"5\": 13}, \"6\": {\"6\": 96, \"3\": 52, \"14\": 20, \"13\": 51, \"0\": 10, \"2\": 10, \"5\": 1}, \"5\": {\"14\": 16, \"5\": 129, \"2\": 39, \"8\": 29, \"13\": 4, \"0\": 16, \"12\": 2, \"4\": 2, \"7\": 3}, \"15\": {\"15\": 240}, \"11\": {\"11\": 240}, \"8\": {\"5\": 42, \"8\": 168, \"0\": 9, \"12\": 1, \"7\": 16, \"3\": 1, \"2\": 2, \"14\": 1}, \"12\": {\"12\": 211, \"2\": 5, \"5\": 3, \"0\": 17, \"8\": 3, \"4\": 1}, \"1\": {\"1\": 219, \"9\": 13, \"10\": 8}, \"2\": {\"3\": 26, \"2\": 57, \"14\": 29, \"4\": 35, \"5\": 33, \"13\": 19, \"6\": 13, \"0\": 18, \"12\": 4, \"7\": 5, \"8\": 1}, \"13\": {\"5\": 12, \"14\": 27, \"6\": 57, \"2\": 30, \"13\": 36, \"3\": 27, \"0\": 21, \"15\": 15, \"4\": 12, \"12\": 2, \"7\": 1}, \"3\": {\"3\": 125, \"7\": 14, \"14\": 4, \"6\": 51, \"0\": 16, \"13\": 23, \"2\": 7}, \"0\": {\"0\": 64, \"13\": 15, \"14\": 34, \"2\": 26, \"12\": 16, \"4\": 8, \"6\": 18, \"3\": 36, \"5\": 14, \"7\": 3, \"8\": 5, \"10\": 1}, \"9\": {\"9\": 185, \"10\": 30, \"1\": 25}, \"4\": {\"2\": 11, \"4\": 186, \"5\": 16, \"10\": 17, \"13\": 1, \"0\": 4, \"12\": 5}, \"7\": {\"8\": 20, \"7\": 198, \"3\": 10, \"5\": 3, \"2\": 4, \"6\": 2, \"0\": 2, \"13\": 1}, \"10\": {\"10\": 202, \"4\": 12, \"9\": 24, \"0\": 1, \"1\": 1}}, \"ORACLE.run1_32\": {\"4\": {\"2\": 65, \"3\": 28, \"4\": 137, \"13\": 8, \"8\": 2}, \"14\": {\"8\": 17, \"14\": 86, \"0\": 41, \"7\": 51, \"5\": 18, \"2\": 26, \"4\": 1}, \"5\": {\"5\": 93, \"8\": 21, \"7\": 68, \"14\": 18, \"0\": 29, \"15\": 11}, \"10\": {\"10\": 239, \"12\": 1}, \"13\": {\"3\": 70, \"13\": 105, \"9\": 35, \"4\": 22, \"2\": 1, \"11\": 7}, \"9\": {\"12\": 37, \"13\": 57, \"11\": 12, \"9\": 109, \"4\": 5, \"3\": 19, \"2\": 1}, \"6\": {\"6\": 233, \"10\": 7}, \"3\": {\"3\": 138, \"13\": 72, \"4\": 26, \"9\": 3, \"2\": 1}, \"15\": {\"15\": 207, \"0\": 5, \"5\": 9, \"8\": 19}, \"7\": {\"0\": 42, \"7\": 106, \"5\": 45, \"14\": 41, \"8\": 5, \"15\": 1}, \"12\": {\"12\": 229, \"9\": 9, \"10\": 2}, \"8\": {\"8\": 121, \"2\": 14, \"0\": 48, \"5\": 15, \"14\": 16, \"15\": 9, \"4\": 9, \"7\": 7, \"3\": 1}, \"11\": {\"11\": 223, \"9\": 12, \"13\": 4, \"3\": 1}, \"2\": {\"2\": 171, \"4\": 63, \"8\": 1, \"14\": 2, \"13\": 2, \"3\": 1}, \"1\": {\"1\": 240}, \"0\": {\"8\": 56, \"7\": 42, \"5\": 40, \"0\": 63, \"14\": 36, \"15\": 3}}, \"ORACLE.run1_44\": {\"8\": {\"0\": 50, \"8\": 116, \"14\": 4, \"2\": 3, \"15\": 50, \"1\": 14, \"5\": 3}, \"11\": {\"11\": 240}, \"14\": {\"5\": 71, \"15\": 16, \"10\": 23, \"14\": 74, \"9\": 8, \"4\": 36, \"7\": 10, \"2\": 2}, \"10\": {\"7\": 65, \"9\": 27, \"14\": 19, \"10\": 76, \"4\": 28, \"15\": 4, \"2\": 3, \"5\": 16, \"13\": 1, \"1\": 1}, \"3\": {\"3\": 146, \"12\": 94}, \"15\": {\"14\": 39, \"8\": 45, \"15\": 110, \"1\": 5, \"10\": 5, \"4\": 9, \"5\": 19, \"2\": 5, \"0\": 3}, \"2\": {\"1\": 38, \"8\": 5, \"2\": 183, \"15\": 10, \"4\": 2, \"5\": 2}, \"12\": {\"12\": 137, \"3\": 103}, \"4\": {\"5\": 23, \"8\": 6, \"2\": 19, \"7\": 46, \"9\": 30, \"4\": 34, \"14\": 22, \"15\": 18, \"10\": 31, \"6\": 9, \"1\": 1, \"13\": 1}, \"1\": {\"8\": 28, \"1\": 142, \"2\": 42, \"0\": 18, \"15\": 9, \"5\": 1}, \"0\": {\"0\": 183, \"8\": 30, \"2\": 3, \"1\": 24}, \"9\": {\"7\": 53, \"6\": 27, \"13\": 40, \"9\": 44, \"14\": 18, \"5\": 14, \"4\": 21, \"10\": 15, \"15\": 4, \"2\": 4}, \"5\": {\"5\": 66, \"14\": 60, \"10\": 10, \"15\": 24, \"4\": 43, \"7\": 11, \"2\": 7, \"8\": 4, \"9\": 13, \"1\": 1, \"6\": 1}, \"6\": {\"6\": 156, \"13\": 59, \"9\": 20, \"7\": 1, \"4\": 3, \"10\": 1}, \"7\": {\"9\": 45, \"7\": 100, \"5\": 11, \"10\": 52, \"4\": 22, \"14\": 7, \"6\": 3}, \"13\": {\"13\": 168, \"6\": 63, \"9\": 9}}, \"ORACLE.run1_8\": {\"13\": {\"10\": 59, \"5\": 38, \"13\": 102, \"1\": 5, \"7\": 31, \"6\": 4, \"11\": 1}, \"3\": {\"3\": 236, \"2\": 4}, \"15\": {\"15\": 132, \"12\": 88, \"2\": 20}, \"4\": {\"4\": 132, \"14\": 25, \"8\": 51, \"11\": 17, \"1\": 5, \"5\": 2, \"6\": 7, \"10\": 1}, \"7\": {\"13\": 33, \"7\": 98, \"10\": 44, \"6\": 43, \"1\": 13, \"5\": 6, \"11\": 3}, \"2\": {\"2\": 139, \"3\": 50, \"15\": 31, \"12\": 20}, \"1\": {\"5\": 30, \"11\": 49, \"1\": 84, \"10\": 24, \"6\": 24, \"13\": 11, \"7\": 9, \"8\": 3, \"4\": 6}, \"0\": {\"0\": 240}, \"12\": {\"12\": 169, \"15\": 69, \"2\": 2}, \"6\": {\"6\": 109, \"5\": 10, \"11\": 15, \"1\": 26, \"10\": 25, \"7\": 43, \"4\": 7, \"13\": 5}, \"11\": {\"8\": 39, \"14\": 5, \"4\": 34, \"1\": 45, \"11\": 82, \"10\": 10, \"6\": 15, \"5\": 4, \"7\": 5, \"13\": 1}, \"9\": {\"9\": 240}, \"5\": {\"1\": 34, \"13\": 57, \"11\": 15, \"5\": 71, \"10\": 40, \"6\": 12, \"4\": 3, \"7\": 6, \"8\": 1, \"14\": 1}, \"10\": {\"6\": 36, \"7\": 37, \"13\": 54, \"10\": 59, \"1\": 16, \"5\": 37, \"11\": 1}, \"14\": {\"14\": 178, \"4\": 38, \"8\": 17, \"11\": 7}, \"8\": {\"4\": 52, \"8\": 108, \"1\": 10, \"6\": 7, \"11\": 38, \"14\": 24, \"5\": 1}}, \"ORACLE.run1_20\": {\"6\": {\"2\": 19, \"12\": 23, \"13\": 7, \"7\": 43, \"6\": 81, \"4\": 29, \"9\": 13, \"14\": 5, \"1\": 8, \"15\": 8, \"8\": 1, \"5\": 3}, \"11\": {\"11\": 222, \"0\": 18}, \"5\": {\"5\": 63, \"3\": 45, \"1\": 38, \"8\": 14, \"9\": 42, \"2\": 2, \"14\": 19, \"15\": 9, \"7\": 5, \"4\": 1, \"6\": 1, \"12\": 1}, \"14\": {\"14\": 98, \"8\": 62, \"7\": 3, \"9\": 14, \"3\": 24, \"5\": 32, \"1\": 5, \"0\": 1, \"15\": 1}, \"2\": {\"7\": 34, \"6\": 26, \"2\": 35, \"12\": 47, \"13\": 22, \"15\": 36, \"9\": 17, \"1\": 13, \"4\": 10}, \"7\": {\"1\": 28, \"2\": 31, \"12\": 19, \"4\": 9, \"6\": 37, \"7\": 46, \"13\": 2, \"3\": 8, \"15\": 26, \"9\": 25, \"14\": 4, \"5\": 5}, \"3\": {\"1\": 34, \"14\": 30, \"9\": 30, \"5\": 45, \"0\": 4, \"3\": 54, \"8\": 35, \"7\": 5, \"15\": 2, \"6\": 1}, \"4\": {\"4\": 91, \"12\": 42, \"6\": 25, \"2\": 18, \"7\": 14, \"10\": 17, \"13\": 23, \"15\": 9, \"1\": 1}, \"9\": {\"7\": 41, \"1\": 41, \"5\": 27, \"9\": 58, \"3\": 29, \"12\": 5, \"14\": 7, \"2\": 12, \"15\": 10, \"6\": 5, \"8\": 5}, \"12\": {\"6\": 20, \"4\": 35, \"2\": 45, \"13\": 25, \"12\": 45, \"15\": 40, \"1\": 5, \"9\": 3, \"7\": 22}, \"0\": {\"0\": 186, \"11\": 23, \"8\": 20, \"5\": 4, \"3\": 3, \"14\": 3, \"9\": 1}, \"10\": {\"10\": 196, \"4\": 31, \"6\": 1, \"13\": 9, \"15\": 1, \"2\": 2}, \"8\": {\"8\": 102, \"3\": 46, \"14\": 51, \"5\": 31, \"1\": 3, \"0\": 3, \"9\": 3, \"15\": 1}, \"13\": {\"4\": 29, \"13\": 96, \"10\": 7, \"12\": 34, \"15\": 32, \"2\": 32, \"7\": 7, \"6\": 2, \"1\": 1}, \"1\": {\"15\": 19, \"7\": 18, \"1\": 58, \"5\": 27, \"9\": 56, \"3\": 24, \"2\": 13, \"12\": 7, \"8\": 4, \"6\": 2, \"4\": 1, \"14\": 11}, \"15\": {\"6\": 10, \"7\": 29, \"1\": 20, \"2\": 35, \"12\": 38, \"15\": 60, \"13\": 19, \"4\": 8, \"9\": 15, \"3\": 3, \"5\": 3}}, \"ORACLE.run1_38\": {\"3\": {\"3\": 240}, \"8\": {\"8\": 70, \"12\": 10, \"5\": 61, \"9\": 10, \"2\": 30, \"15\": 28, \"7\": 27, \"14\": 4}, \"0\": {\"0\": 50, \"13\": 85, \"14\": 3, \"10\": 74, \"2\": 15, \"7\": 11, \"4\": 2}, \"2\": {\"2\": 144, \"14\": 29, \"7\": 56, \"9\": 7, \"8\": 2, \"5\": 2}, \"4\": {\"4\": 230, \"0\": 1, \"10\": 5, \"14\": 3, \"13\": 1}, \"7\": {\"14\": 34, \"2\": 79, \"9\": 2, \"7\": 119, \"0\": 2, \"5\": 2, \"8\": 2}, \"12\": {\"12\": 236, \"15\": 1, \"8\": 3}, \"6\": {\"1\": 119, \"6\": 121}, \"15\": {\"15\": 174, \"5\": 28, \"6\": 9, \"12\": 6, \"8\": 16, \"1\": 7}, \"11\": {\"11\": 240}, \"9\": {\"9\": 188, \"5\": 23, \"8\": 11, \"7\": 8, \"2\": 10}, \"14\": {\"14\": 168, \"7\": 26, \"2\": 33, \"4\": 12, \"13\": 1}, \"10\": {\"10\": 181, \"13\": 13, \"0\": 43, \"4\": 3}, \"5\": {\"7\": 18, \"8\": 80, \"5\": 74, \"12\": 2, \"15\": 30, \"2\": 14, \"9\": 21, \"14\": 1}, \"1\": {\"1\": 138, \"6\": 102}, \"13\": {\"13\": 162, \"0\": 63, \"10\": 9, \"2\": 2, \"14\": 3, \"7\": 1}}, \"ORACLE.run1_26\": {\"5\": {\"5\": 129, \"15\": 56, \"1\": 15, \"6\": 29, \"11\": 11}, \"8\": {\"8\": 70, \"12\": 29, \"9\": 21, \"7\": 66, \"0\": 9, \"2\": 40, \"3\": 4, \"13\": 1}, \"4\": {\"4\": 233, \"13\": 6, \"3\": 1}, \"12\": {\"8\": 23, \"12\": 145, \"2\": 4, \"7\": 25, \"9\": 26, \"3\": 6, \"13\": 11}, \"6\": {\"5\": 29, \"6\": 86, \"15\": 69, \"1\": 41, \"10\": 7, \"14\": 8}, \"7\": {\"7\": 91, \"9\": 32, \"8\": 59, \"2\": 19, \"3\": 23, \"12\": 11, \"13\": 5}, \"10\": {\"1\": 9, \"10\": 89, \"14\": 79, \"15\": 21, \"0\": 33, \"6\": 7, \"5\": 2}, \"0\": {\"0\": 125, \"14\": 35, \"2\": 23, \"10\": 46, \"8\": 6, \"15\": 2, \"6\": 2, \"9\": 1}, \"15\": {\"6\": 45, \"5\": 49, \"15\": 82, \"14\": 11, \"10\": 24, \"1\": 25, \"0\": 4}, \"9\": {\"13\": 26, \"7\": 34, \"2\": 52, \"9\": 49, \"12\": 16, \"3\": 34, \"8\": 26, \"0\": 3}, \"11\": {\"11\": 184, \"6\": 12, \"15\": 10, \"5\": 31, \"1\": 3}, \"14\": {\"0\": 29, \"14\": 98, \"10\": 74, \"1\": 14, \"6\": 12, \"15\": 13}, \"2\": {\"2\": 98, \"8\": 38, \"9\": 47, \"10\": 4, \"13\": 4, \"0\": 19, \"12\": 4, \"7\": 20, \"3\": 5, \"15\": 1}, \"13\": {\"4\": 13, \"3\": 50, \"2\": 6, \"13\": 134, \"12\": 7, \"9\": 23, \"7\": 6, \"8\": 1}, \"3\": {\"12\": 6, \"13\": 51, \"3\": 112, \"7\": 33, \"8\": 5, \"2\": 4, \"9\": 29}, \"1\": {\"1\": 111, \"15\": 29, \"6\": 56, \"10\": 15, \"14\": 15, \"0\": 2, \"5\": 8, \"11\": 4}}}, \"per_domain_accuracy\": {\"CORES_4\": {\"accuracy\": 0.9979166666666667, \"source?\": true}, \"CORES_2\": {\"accuracy\": 0.9987710674157303, \"source?\": true}, \"CORES_3\": {\"accuracy\": 0.9975818452380952, \"source?\": true}, \"CORES_1\": {\"accuracy\": 0.9986486486486487, \"source?\": true}, \"CORES_5\": {\"accuracy\": 0.9982541899441341, \"source?\": true}, \"ORACLE.run1_50\": {\"accuracy\": 0.6072916666666667, \"source?\": false}, \"ORACLE.run1_14\": {\"accuracy\": 0.6442708333333333, \"source?\": false}, \"ORACLE.run1_32\": {\"accuracy\": 0.6510416666666666, \"source?\": false}, \"ORACLE.run1_44\": {\"accuracy\": 0.5143229166666666, \"source?\": false}, \"ORACLE.run1_8\": {\"accuracy\": 0.5674479166666667, \"source?\": false}, \"ORACLE.run1_20\": {\"accuracy\": 0.38828125, \"source?\": false}, \"ORACLE.run1_38\": {\"accuracy\": 0.66015625, \"source?\": false}, \"ORACLE.run1_26\": {\"accuracy\": 0.478125, \"source?\": false}}}, \"history\": {\"epoch_indices\": [1, 2, 3, 4, 5], \"train_label_loss\": [0.02701911732556408, 0.009203939275874703, 0.006932016518201318, 0.005435668096809952, 0.0063385938222409715], \"source_val_label_loss\": [0.009553978219628334, 0.011906431056559086, 0.003844622988253832, 0.005519389174878597, 0.004748813807964325], \"target_val_label_loss\": [1.8424521684646606, 1.81955885887146, 1.6972532272338867, 1.7410047054290771, 1.7126764059066772], \"source_val_acc_label\": [0.99825, 0.9977857142857143, 0.9994642857142857, 0.9993928571428572, 0.9993928571428572], \"target_val_acc_label\": [0.5638671875, 0.5264322916666667, 0.4724609375, 0.48981119791666666, 0.52197265625]}, \"dataset_metrics\": {\"source\": {\"train\": {\"n_unique_x\": 175169, \"n_unique_y\": 58, \"n_batch/episode\": 6311}, \"val\": {\"n_unique_x\": 37166, \"n_unique_y\": 58, \"n_batch/episode\": 875}, \"test\": {\"n_unique_x\": 37642, \"n_unique_y\": 58, \"n_batch/episode\": 890}}, \"target\": {\"train\": {\"n_unique_x\": 179200, \"n_unique_y\": 16, \"n_batch/episode\": 6720}, \"val\": {\"n_unique_x\": 38400, \"n_unique_y\": 16, \"n_batch/episode\": 960}, \"test\": {\"n_unique_x\": 38400, \"n_unique_y\": 16, \"n_batch/episode\": 960}}}}'"
      ]
     },
     "execution_count": 29,
     "metadata": {},
     "output_type": "execute_result"
    }
   ],
   "source": [
    "json.dumps(experiment)"
   ]
  }
 ],
 "metadata": {
  "celltoolbar": "Tags",
  "kernelspec": {
   "display_name": "Python 3 (ipykernel)",
   "language": "python",
   "name": "python3"
  },
  "language_info": {
   "codemirror_mode": {
    "name": "ipython",
    "version": 3
   },
   "file_extension": ".py",
   "mimetype": "text/x-python",
   "name": "python",
   "nbconvert_exporter": "python",
   "pygments_lexer": "ipython3",
   "version": "3.8.12"
  },
  "papermill": {
   "default_parameters": {},
   "duration": 1401.632689,
   "end_time": "2022-03-21T18:31:37.995932",
   "environment_variables": {},
   "exception": null,
   "input_path": "/root/csc500-main/csc500-notebooks/templates/tl_ptn_template.ipynb",
   "output_path": "trial.ipynb",
   "parameters": {
    "parameters": {
     "BEST_MODEL_PATH": "./best_model.pth",
     "NUM_LOGS_PER_EPOCH": 10,
     "criteria_for_best": "target_accuracy",
     "dataset_seed": 500,
     "datasets": [
      {
       "domain_prefix": "CORES_",
       "domains": [
        1,
        2,
        3,
        4,
        5
       ],
       "episode_transforms": [],
       "labels": [
        "1-10.",
        "1-11.",
        "1-15.",
        "1-16.",
        "1-17.",
        "1-18.",
        "1-19.",
        "10-4.",
        "10-7.",
        "11-1.",
        "11-14.",
        "11-17.",
        "11-20.",
        "11-7.",
        "13-20.",
        "13-8.",
        "14-10.",
        "14-11.",
        "14-14.",
        "14-7.",
        "15-1.",
        "15-20.",
        "16-1.",
        "16-16.",
        "17-10.",
        "17-11.",
        "17-2.",
        "19-1.",
        "19-16.",
        "19-19.",
        "19-20.",
        "19-3.",
        "2-10.",
        "2-11.",
        "2-17.",
        "2-18.",
        "2-20.",
        "2-3.",
        "2-4.",
        "2-5.",
        "2-6.",
        "2-7.",
        "2-8.",
        "3-13.",
        "3-18.",
        "3-3.",
        "4-1.",
        "4-10.",
        "4-11.",
        "4-19.",
        "5-5.",
        "6-15.",
        "7-10.",
        "7-14.",
        "8-18.",
        "8-20.",
        "8-3.",
        "8-8."
       ],
       "num_examples_per_domain_per_label": -1,
       "pickle_path": "/root/csc500-main/datasets/cores.stratified_ds.2022A.pkl",
       "source_or_target_dataset": "source",
       "x_transforms": []
      },
      {
       "domain_prefix": "ORACLE.run1_",
       "domains": [
        32,
        38,
        8,
        44,
        14,
        50,
        20,
        26
       ],
       "episode_transforms": [],
       "labels": [
        "3123D52",
        "3123D65",
        "3123D79",
        "3123D80",
        "3123D54",
        "3123D70",
        "3123D7B",
        "3123D89",
        "3123D58",
        "3123D76",
        "3123D7D",
        "3123EFE",
        "3123D64",
        "3123D78",
        "3123D7E",
        "3124E4A"
       ],
       "num_examples_per_domain_per_label": 2000,
       "pickle_path": "/root/csc500-main/datasets/oracle.Run1_framed_2000Examples_stratified_ds.2022A.pkl",
       "source_or_target_dataset": "target",
       "x_transforms": []
      }
     ],
     "device": "cuda",
     "experiment_name": "tl_1v2:cores-oracle.run1.framed",
     "lr": 0.0001,
     "n_epoch": 50,
     "n_query": 2,
     "n_shot": 3,
     "n_way": 16,
     "patience": 3,
     "seed": 500,
     "test_k_factor": 2,
     "torch_default_dtype": "torch.float32",
     "train_k_factor": 3,
     "val_k_factor": 2,
     "x_net": [
      {
       "class": "nnReshape",
       "kargs": {
        "shape": [
         -1,
         1,
         2,
         256
        ]
       }
      },
      {
       "class": "Conv2d",
       "kargs": {
        "bias": false,
        "in_channels": 1,
        "kernel_size": [
         1,
         7
        ],
        "out_channels": 256,
        "padding": [
         0,
         3
        ]
       }
      },
      {
       "class": "ReLU",
       "kargs": {
        "inplace": true
       }
      },
      {
       "class": "BatchNorm2d",
       "kargs": {
        "num_features": 256
       }
      },
      {
       "class": "Conv2d",
       "kargs": {
        "bias": true,
        "in_channels": 256,
        "kernel_size": [
         2,
         7
        ],
        "out_channels": 80,
        "padding": [
         0,
         3
        ]
       }
      },
      {
       "class": "ReLU",
       "kargs": {
        "inplace": true
       }
      },
      {
       "class": "BatchNorm2d",
       "kargs": {
        "num_features": 80
       }
      },
      {
       "class": "Flatten",
       "kargs": {}
      },
      {
       "class": "Linear",
       "kargs": {
        "in_features": 20480,
        "out_features": 256
       }
      },
      {
       "class": "ReLU",
       "kargs": {
        "inplace": true
       }
      },
      {
       "class": "BatchNorm1d",
       "kargs": {
        "num_features": 256
       }
      },
      {
       "class": "Linear",
       "kargs": {
        "in_features": 256,
        "out_features": 256
       }
      }
     ]
    }
   },
   "start_time": "2022-03-21T18:08:16.363243",
   "version": "2.3.4"
  }
 },
 "nbformat": 4,
 "nbformat_minor": 5
}