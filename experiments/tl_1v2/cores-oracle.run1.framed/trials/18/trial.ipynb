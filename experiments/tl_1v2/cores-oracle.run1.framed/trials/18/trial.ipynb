{
 "cells": [
  {
   "cell_type": "markdown",
   "id": "9fea5f46",
   "metadata": {
    "papermill": {
     "duration": 0.02995,
     "end_time": "2022-03-21T12:43:15.143481",
     "exception": false,
     "start_time": "2022-03-21T12:43:15.113531",
     "status": "completed"
    },
    "tags": []
   },
   "source": [
    "# Transfer Learning Template"
   ]
  },
  {
   "cell_type": "code",
   "execution_count": 1,
   "id": "0902182a",
   "metadata": {
    "execution": {
     "iopub.execute_input": "2022-03-21T12:43:15.213533Z",
     "iopub.status.busy": "2022-03-21T12:43:15.208481Z",
     "iopub.status.idle": "2022-03-21T12:43:17.121097Z",
     "shell.execute_reply": "2022-03-21T12:43:17.120449Z"
    },
    "papermill": {
     "duration": 1.950932,
     "end_time": "2022-03-21T12:43:17.121256",
     "exception": false,
     "start_time": "2022-03-21T12:43:15.170324",
     "status": "completed"
    },
    "tags": []
   },
   "outputs": [],
   "source": [
    "%load_ext autoreload\n",
    "%autoreload 2\n",
    "%matplotlib inline\n",
    "\n",
    "    \n",
    "import os, json, sys, time, random\n",
    "import numpy as np\n",
    "import torch\n",
    "from torch.optim import Adam\n",
    "from  easydict import EasyDict\n",
    "import matplotlib.pyplot as plt\n",
    "\n",
    "from steves_models.steves_ptn import Steves_Prototypical_Network\n",
    "\n",
    "from steves_utils.lazy_iterable_wrapper import Lazy_Iterable_Wrapper\n",
    "from steves_utils.iterable_aggregator import Iterable_Aggregator\n",
    "from steves_utils.ptn_train_eval_test_jig import  PTN_Train_Eval_Test_Jig\n",
    "from steves_utils.torch_sequential_builder import build_sequential\n",
    "from steves_utils.torch_utils import get_dataset_metrics, ptn_confusion_by_domain_over_dataloader\n",
    "from steves_utils.utils_v2 import (per_domain_accuracy_from_confusion, get_datasets_base_path)\n",
    "from steves_utils.PTN.utils import independent_accuracy_assesment\n",
    "\n",
    "from torch.utils.data import DataLoader\n",
    "\n",
    "from steves_utils.stratified_dataset.episodic_accessor import Episodic_Accessor_Factory\n",
    "\n",
    "from steves_utils.ptn_do_report import (\n",
    "    get_loss_curve,\n",
    "    get_results_table,\n",
    "    get_parameters_table,\n",
    "    get_domain_accuracies,\n",
    ")\n",
    "\n",
    "from steves_utils.transforms import get_chained_transform"
   ]
  },
  {
   "cell_type": "markdown",
   "id": "41c840b4",
   "metadata": {
    "papermill": {
     "duration": 0.020482,
     "end_time": "2022-03-21T12:43:17.164975",
     "exception": false,
     "start_time": "2022-03-21T12:43:17.144493",
     "status": "completed"
    },
    "tags": []
   },
   "source": [
    "# Allowed Parameters\n",
    "These are allowed parameters, not defaults\n",
    "Each of these values need to be present in the injected parameters (the notebook will raise an exception if they are not present)\n",
    "\n",
    "Papermill uses the cell tag \"parameters\" to inject the real parameters below this cell.\n",
    "Enable tags to see what I mean"
   ]
  },
  {
   "cell_type": "code",
   "execution_count": 2,
   "id": "fd44eb83",
   "metadata": {
    "execution": {
     "iopub.execute_input": "2022-03-21T12:43:17.212378Z",
     "iopub.status.busy": "2022-03-21T12:43:17.211985Z",
     "iopub.status.idle": "2022-03-21T12:43:17.233808Z",
     "shell.execute_reply": "2022-03-21T12:43:17.234738Z"
    },
    "papermill": {
     "duration": 0.049239,
     "end_time": "2022-03-21T12:43:17.235056",
     "exception": false,
     "start_time": "2022-03-21T12:43:17.185817",
     "status": "completed"
    },
    "tags": []
   },
   "outputs": [],
   "source": [
    "required_parameters = {\n",
    "    \"experiment_name\",\n",
    "    \"lr\",\n",
    "    \"device\",\n",
    "    \"seed\",\n",
    "    \"dataset_seed\",\n",
    "    \"n_shot\",\n",
    "    \"n_query\",\n",
    "    \"n_way\",\n",
    "    \"train_k_factor\",\n",
    "    \"val_k_factor\",\n",
    "    \"test_k_factor\",\n",
    "    \"n_epoch\",\n",
    "    \"patience\",\n",
    "    \"criteria_for_best\",\n",
    "    \"x_net\",\n",
    "    \"datasets\",\n",
    "    \"torch_default_dtype\",\n",
    "    \"NUM_LOGS_PER_EPOCH\",\n",
    "    \"BEST_MODEL_PATH\",\n",
    "    \"x_shape\",\n",
    "}"
   ]
  },
  {
   "cell_type": "code",
   "execution_count": 3,
   "id": "fa3f0049",
   "metadata": {
    "execution": {
     "iopub.execute_input": "2022-03-21T12:43:17.297125Z",
     "iopub.status.busy": "2022-03-21T12:43:17.289990Z",
     "iopub.status.idle": "2022-03-21T12:43:17.319652Z",
     "shell.execute_reply": "2022-03-21T12:43:17.318810Z"
    },
    "papermill": {
     "duration": 0.058827,
     "end_time": "2022-03-21T12:43:17.319845",
     "exception": false,
     "start_time": "2022-03-21T12:43:17.261018",
     "status": "completed"
    },
    "tags": [
     "parameters"
    ]
   },
   "outputs": [],
   "source": [
    "from steves_utils.CORES.utils import (\n",
    "    ALL_NODES,\n",
    "    ALL_NODES_MINIMUM_1000_EXAMPLES,\n",
    "    ALL_DAYS\n",
    ")\n",
    "\n",
    "from steves_utils.ORACLE.utils_v2 import (\n",
    "    ALL_DISTANCES_FEET_NARROWED,\n",
    "    ALL_RUNS,\n",
    "    ALL_SERIAL_NUMBERS,\n",
    ")\n",
    "\n",
    "standalone_parameters = {}\n",
    "standalone_parameters[\"experiment_name\"] = \"STANDALONE PTN\"\n",
    "standalone_parameters[\"lr\"] = 0.001\n",
    "standalone_parameters[\"device\"] = \"cuda\"\n",
    "\n",
    "standalone_parameters[\"seed\"] = 1337\n",
    "standalone_parameters[\"dataset_seed\"] = 1337\n",
    "\n",
    "standalone_parameters[\"n_way\"] = 8\n",
    "standalone_parameters[\"n_shot\"] = 3\n",
    "standalone_parameters[\"n_query\"]  = 2\n",
    "standalone_parameters[\"train_k_factor\"] = 1\n",
    "standalone_parameters[\"val_k_factor\"] = 2\n",
    "standalone_parameters[\"test_k_factor\"] = 2\n",
    "\n",
    "\n",
    "standalone_parameters[\"n_epoch\"] = 50\n",
    "\n",
    "standalone_parameters[\"patience\"] = 10\n",
    "standalone_parameters[\"criteria_for_best\"] = \"source_loss\"\n",
    "\n",
    "standalone_parameters[\"datasets\"] = [\n",
    "    {\n",
    "        \"labels\": ALL_SERIAL_NUMBERS,\n",
    "        \"domains\": ALL_DISTANCES_FEET_NARROWED,\n",
    "        \"num_examples_per_domain_per_label\": 100,\n",
    "        \"pickle_path\": os.path.join(get_datasets_base_path(), \"oracle.Run1_framed_2000Examples_stratified_ds.2022A.pkl\"),\n",
    "        \"source_or_target_dataset\": \"source\",\n",
    "        \"x_transforms\": [\"unit_mag\", \"minus_two\"],\n",
    "        \"episode_transforms\": [],\n",
    "        \"domain_prefix\": \"ORACLE_\"\n",
    "    },\n",
    "    {\n",
    "        \"labels\": ALL_NODES,\n",
    "        \"domains\": ALL_DAYS,\n",
    "        \"num_examples_per_domain_per_label\": 100,\n",
    "        \"pickle_path\": os.path.join(get_datasets_base_path(), \"cores.stratified_ds.2022A.pkl\"),\n",
    "        \"source_or_target_dataset\": \"target\",\n",
    "        \"x_transforms\": [\"unit_power\", \"times_zero\"],\n",
    "        \"episode_transforms\": [],\n",
    "        \"domain_prefix\": \"CORES_\"\n",
    "    }   \n",
    "]\n",
    "\n",
    "standalone_parameters[\"torch_default_dtype\"] = \"torch.float32\" \n",
    "\n",
    "\n",
    "\n",
    "standalone_parameters[\"x_net\"] =     [\n",
    "    {\"class\": \"nnReshape\", \"kargs\": {\"shape\":[-1, 1, 2, 256]}},\n",
    "    {\"class\": \"Conv2d\", \"kargs\": { \"in_channels\":1, \"out_channels\":256, \"kernel_size\":(1,7), \"bias\":False, \"padding\":(0,3), },},\n",
    "    {\"class\": \"ReLU\", \"kargs\": {\"inplace\": True}},\n",
    "    {\"class\": \"BatchNorm2d\", \"kargs\": {\"num_features\":256}},\n",
    "\n",
    "    {\"class\": \"Conv2d\", \"kargs\": { \"in_channels\":256, \"out_channels\":80, \"kernel_size\":(2,7), \"bias\":True, \"padding\":(0,3), },},\n",
    "    {\"class\": \"ReLU\", \"kargs\": {\"inplace\": True}},\n",
    "    {\"class\": \"BatchNorm2d\", \"kargs\": {\"num_features\":80}},\n",
    "    {\"class\": \"Flatten\", \"kargs\": {}},\n",
    "\n",
    "    {\"class\": \"Linear\", \"kargs\": {\"in_features\": 80*256, \"out_features\": 256}}, # 80 units per IQ pair\n",
    "    {\"class\": \"ReLU\", \"kargs\": {\"inplace\": True}},\n",
    "    {\"class\": \"BatchNorm1d\", \"kargs\": {\"num_features\":256}},\n",
    "\n",
    "    {\"class\": \"Linear\", \"kargs\": {\"in_features\": 256, \"out_features\": 256}},\n",
    "]\n",
    "\n",
    "# Parameters relevant to results\n",
    "# These parameters will basically never need to change\n",
    "standalone_parameters[\"NUM_LOGS_PER_EPOCH\"] = 10\n",
    "standalone_parameters[\"BEST_MODEL_PATH\"] = \"./best_model.pth\"\n",
    "\n",
    "\n",
    "\n",
    "\n"
   ]
  },
  {
   "cell_type": "code",
   "execution_count": 4,
   "id": "2a867233",
   "metadata": {
    "execution": {
     "iopub.execute_input": "2022-03-21T12:43:17.384742Z",
     "iopub.status.busy": "2022-03-21T12:43:17.378525Z",
     "iopub.status.idle": "2022-03-21T12:43:17.405151Z",
     "shell.execute_reply": "2022-03-21T12:43:17.404347Z"
    },
    "papermill": {
     "duration": 0.056266,
     "end_time": "2022-03-21T12:43:17.405336",
     "exception": false,
     "start_time": "2022-03-21T12:43:17.349070",
     "status": "completed"
    },
    "tags": [
     "injected-parameters"
    ]
   },
   "outputs": [],
   "source": [
    "# Parameters\n",
    "parameters = {\n",
    "    \"experiment_name\": \"tl_1v2:cores-oracle.run1.framed\",\n",
    "    \"device\": \"cuda\",\n",
    "    \"lr\": 0.0001,\n",
    "    \"n_shot\": 3,\n",
    "    \"n_query\": 2,\n",
    "    \"train_k_factor\": 3,\n",
    "    \"val_k_factor\": 2,\n",
    "    \"test_k_factor\": 2,\n",
    "    \"torch_default_dtype\": \"torch.float32\",\n",
    "    \"n_epoch\": 50,\n",
    "    \"patience\": 3,\n",
    "    \"criteria_for_best\": \"target_accuracy\",\n",
    "    \"x_net\": [\n",
    "        {\"class\": \"nnReshape\", \"kargs\": {\"shape\": [-1, 1, 2, 256]}},\n",
    "        {\n",
    "            \"class\": \"Conv2d\",\n",
    "            \"kargs\": {\n",
    "                \"in_channels\": 1,\n",
    "                \"out_channels\": 256,\n",
    "                \"kernel_size\": [1, 7],\n",
    "                \"bias\": False,\n",
    "                \"padding\": [0, 3],\n",
    "            },\n",
    "        },\n",
    "        {\"class\": \"ReLU\", \"kargs\": {\"inplace\": True}},\n",
    "        {\"class\": \"BatchNorm2d\", \"kargs\": {\"num_features\": 256}},\n",
    "        {\n",
    "            \"class\": \"Conv2d\",\n",
    "            \"kargs\": {\n",
    "                \"in_channels\": 256,\n",
    "                \"out_channels\": 80,\n",
    "                \"kernel_size\": [2, 7],\n",
    "                \"bias\": True,\n",
    "                \"padding\": [0, 3],\n",
    "            },\n",
    "        },\n",
    "        {\"class\": \"ReLU\", \"kargs\": {\"inplace\": True}},\n",
    "        {\"class\": \"BatchNorm2d\", \"kargs\": {\"num_features\": 80}},\n",
    "        {\"class\": \"Flatten\", \"kargs\": {}},\n",
    "        {\"class\": \"Linear\", \"kargs\": {\"in_features\": 20480, \"out_features\": 256}},\n",
    "        {\"class\": \"ReLU\", \"kargs\": {\"inplace\": True}},\n",
    "        {\"class\": \"BatchNorm1d\", \"kargs\": {\"num_features\": 256}},\n",
    "        {\"class\": \"Linear\", \"kargs\": {\"in_features\": 256, \"out_features\": 256}},\n",
    "    ],\n",
    "    \"NUM_LOGS_PER_EPOCH\": 10,\n",
    "    \"BEST_MODEL_PATH\": \"./best_model.pth\",\n",
    "    \"n_way\": 16,\n",
    "    \"datasets\": [\n",
    "        {\n",
    "            \"labels\": [\n",
    "                \"1-10.\",\n",
    "                \"1-11.\",\n",
    "                \"1-15.\",\n",
    "                \"1-16.\",\n",
    "                \"1-17.\",\n",
    "                \"1-18.\",\n",
    "                \"1-19.\",\n",
    "                \"10-4.\",\n",
    "                \"10-7.\",\n",
    "                \"11-1.\",\n",
    "                \"11-14.\",\n",
    "                \"11-17.\",\n",
    "                \"11-20.\",\n",
    "                \"11-7.\",\n",
    "                \"13-20.\",\n",
    "                \"13-8.\",\n",
    "                \"14-10.\",\n",
    "                \"14-11.\",\n",
    "                \"14-14.\",\n",
    "                \"14-7.\",\n",
    "                \"15-1.\",\n",
    "                \"15-20.\",\n",
    "                \"16-1.\",\n",
    "                \"16-16.\",\n",
    "                \"17-10.\",\n",
    "                \"17-11.\",\n",
    "                \"17-2.\",\n",
    "                \"19-1.\",\n",
    "                \"19-16.\",\n",
    "                \"19-19.\",\n",
    "                \"19-20.\",\n",
    "                \"19-3.\",\n",
    "                \"2-10.\",\n",
    "                \"2-11.\",\n",
    "                \"2-17.\",\n",
    "                \"2-18.\",\n",
    "                \"2-20.\",\n",
    "                \"2-3.\",\n",
    "                \"2-4.\",\n",
    "                \"2-5.\",\n",
    "                \"2-6.\",\n",
    "                \"2-7.\",\n",
    "                \"2-8.\",\n",
    "                \"3-13.\",\n",
    "                \"3-18.\",\n",
    "                \"3-3.\",\n",
    "                \"4-1.\",\n",
    "                \"4-10.\",\n",
    "                \"4-11.\",\n",
    "                \"4-19.\",\n",
    "                \"5-5.\",\n",
    "                \"6-15.\",\n",
    "                \"7-10.\",\n",
    "                \"7-14.\",\n",
    "                \"8-18.\",\n",
    "                \"8-20.\",\n",
    "                \"8-3.\",\n",
    "                \"8-8.\",\n",
    "            ],\n",
    "            \"domains\": [1, 2, 3, 4, 5],\n",
    "            \"num_examples_per_domain_per_label\": -1,\n",
    "            \"pickle_path\": \"/root/csc500-main/datasets/cores.stratified_ds.2022A.pkl\",\n",
    "            \"source_or_target_dataset\": \"source\",\n",
    "            \"x_transforms\": [\"unit_power\"],\n",
    "            \"episode_transforms\": [],\n",
    "            \"domain_prefix\": \"CORES_\",\n",
    "        },\n",
    "        {\n",
    "            \"labels\": [\n",
    "                \"3123D52\",\n",
    "                \"3123D65\",\n",
    "                \"3123D79\",\n",
    "                \"3123D80\",\n",
    "                \"3123D54\",\n",
    "                \"3123D70\",\n",
    "                \"3123D7B\",\n",
    "                \"3123D89\",\n",
    "                \"3123D58\",\n",
    "                \"3123D76\",\n",
    "                \"3123D7D\",\n",
    "                \"3123EFE\",\n",
    "                \"3123D64\",\n",
    "                \"3123D78\",\n",
    "                \"3123D7E\",\n",
    "                \"3124E4A\",\n",
    "            ],\n",
    "            \"domains\": [32, 38, 8, 44, 14, 50, 20, 26],\n",
    "            \"num_examples_per_domain_per_label\": 2000,\n",
    "            \"pickle_path\": \"/root/csc500-main/datasets/oracle.Run1_framed_2000Examples_stratified_ds.2022A.pkl\",\n",
    "            \"source_or_target_dataset\": \"target\",\n",
    "            \"x_transforms\": [\"unit_power\"],\n",
    "            \"episode_transforms\": [],\n",
    "            \"domain_prefix\": \"ORACLE.run1_\",\n",
    "        },\n",
    "    ],\n",
    "    \"dataset_seed\": 7,\n",
    "    \"seed\": 7,\n",
    "}\n"
   ]
  },
  {
   "cell_type": "code",
   "execution_count": 5,
   "id": "8fa1cc33",
   "metadata": {
    "execution": {
     "iopub.execute_input": "2022-03-21T12:43:17.459967Z",
     "iopub.status.busy": "2022-03-21T12:43:17.459561Z",
     "iopub.status.idle": "2022-03-21T12:43:17.486729Z",
     "shell.execute_reply": "2022-03-21T12:43:17.485984Z"
    },
    "papermill": {
     "duration": 0.053274,
     "end_time": "2022-03-21T12:43:17.486906",
     "exception": false,
     "start_time": "2022-03-21T12:43:17.433632",
     "status": "completed"
    },
    "tags": []
   },
   "outputs": [],
   "source": [
    "# Set this to True if you want to run this template directly\n",
    "STANDALONE = False\n",
    "if STANDALONE:\n",
    "    print(\"parameters not injected, running with standalone_parameters\")\n",
    "    parameters = standalone_parameters\n",
    "\n",
    "if not 'parameters' in locals() and not 'parameters' in globals():\n",
    "    raise Exception(\"Parameter injection failed\")\n",
    "\n",
    "#Use an easy dict for all the parameters\n",
    "p = EasyDict(parameters)\n",
    "\n",
    "if \"x_shape\" not in p:\n",
    "    p.x_shape = [2,256] # Default to this if we dont supply x_shape\n",
    "\n",
    "\n",
    "supplied_keys = set(p.keys())\n",
    "\n",
    "if  supplied_keys != required_parameters:\n",
    "    print(\"Parameters are incorrect\")\n",
    "    if len(supplied_keys - required_parameters)>0: print(\"Shouldn't have:\", str(supplied_keys - required_parameters))\n",
    "    if len(required_parameters - supplied_keys)>0: print(\"Need to have:\", str(required_parameters - supplied_keys))\n",
    "    raise RuntimeError(\"Parameters are incorrect\")"
   ]
  },
  {
   "cell_type": "code",
   "execution_count": 6,
   "id": "3a028d58",
   "metadata": {
    "execution": {
     "iopub.execute_input": "2022-03-21T12:43:17.540126Z",
     "iopub.status.busy": "2022-03-21T12:43:17.539563Z",
     "iopub.status.idle": "2022-03-21T12:43:17.565556Z",
     "shell.execute_reply": "2022-03-21T12:43:17.564476Z"
    },
    "papermill": {
     "duration": 0.051909,
     "end_time": "2022-03-21T12:43:17.565829",
     "exception": false,
     "start_time": "2022-03-21T12:43:17.513920",
     "status": "completed"
    },
    "tags": []
   },
   "outputs": [],
   "source": [
    "###################################\n",
    "# Set the RNGs and make it all deterministic\n",
    "###################################\n",
    "np.random.seed(p.seed)\n",
    "random.seed(p.seed)\n",
    "torch.manual_seed(p.seed)\n",
    "\n",
    "torch.use_deterministic_algorithms(True) "
   ]
  },
  {
   "cell_type": "code",
   "execution_count": 7,
   "id": "b691acf6",
   "metadata": {
    "execution": {
     "iopub.execute_input": "2022-03-21T12:43:17.620162Z",
     "iopub.status.busy": "2022-03-21T12:43:17.619775Z",
     "iopub.status.idle": "2022-03-21T12:43:17.644555Z",
     "shell.execute_reply": "2022-03-21T12:43:17.643789Z"
    },
    "papermill": {
     "duration": 0.049458,
     "end_time": "2022-03-21T12:43:17.644738",
     "exception": false,
     "start_time": "2022-03-21T12:43:17.595280",
     "status": "completed"
    },
    "tags": []
   },
   "outputs": [],
   "source": [
    "###########################################\n",
    "# The stratified datasets honor this\n",
    "###########################################\n",
    "torch.set_default_dtype(eval(p.torch_default_dtype))"
   ]
  },
  {
   "cell_type": "code",
   "execution_count": 8,
   "id": "b5fba671",
   "metadata": {
    "execution": {
     "iopub.execute_input": "2022-03-21T12:43:17.698956Z",
     "iopub.status.busy": "2022-03-21T12:43:17.698447Z",
     "iopub.status.idle": "2022-03-21T12:43:17.750683Z",
     "shell.execute_reply": "2022-03-21T12:43:17.749924Z"
    },
    "papermill": {
     "duration": 0.075261,
     "end_time": "2022-03-21T12:43:17.750867",
     "exception": false,
     "start_time": "2022-03-21T12:43:17.675606",
     "status": "completed"
    },
    "tags": []
   },
   "outputs": [],
   "source": [
    "###################################\n",
    "# Build the network(s)\n",
    "# Note: It's critical to do this AFTER setting the RNG\n",
    "###################################\n",
    "x_net = build_sequential(p.x_net)"
   ]
  },
  {
   "cell_type": "code",
   "execution_count": 9,
   "id": "5d7e61cc",
   "metadata": {
    "execution": {
     "iopub.execute_input": "2022-03-21T12:43:17.802452Z",
     "iopub.status.busy": "2022-03-21T12:43:17.802068Z",
     "iopub.status.idle": "2022-03-21T12:43:17.827927Z",
     "shell.execute_reply": "2022-03-21T12:43:17.827149Z"
    },
    "papermill": {
     "duration": 0.050906,
     "end_time": "2022-03-21T12:43:17.828104",
     "exception": false,
     "start_time": "2022-03-21T12:43:17.777198",
     "status": "completed"
    },
    "tags": []
   },
   "outputs": [],
   "source": [
    "start_time_secs = time.time()"
   ]
  },
  {
   "cell_type": "code",
   "execution_count": 10,
   "id": "c6b67dfd",
   "metadata": {
    "execution": {
     "iopub.execute_input": "2022-03-21T12:43:17.887378Z",
     "iopub.status.busy": "2022-03-21T12:43:17.887005Z",
     "iopub.status.idle": "2022-03-21T12:43:17.906332Z",
     "shell.execute_reply": "2022-03-21T12:43:17.907000Z"
    },
    "papermill": {
     "duration": 0.043575,
     "end_time": "2022-03-21T12:43:17.907195",
     "exception": false,
     "start_time": "2022-03-21T12:43:17.863620",
     "status": "completed"
    },
    "tags": []
   },
   "outputs": [],
   "source": [
    "p.domains_source = []\n",
    "p.domains_target = []\n",
    "\n",
    "\n",
    "train_original_source = []\n",
    "val_original_source   = []\n",
    "test_original_source  = []\n",
    "\n",
    "train_original_target = []\n",
    "val_original_target   = []\n",
    "test_original_target  = []"
   ]
  },
  {
   "cell_type": "code",
   "execution_count": 11,
   "id": "e3d9c3d3",
   "metadata": {
    "execution": {
     "iopub.execute_input": "2022-03-21T12:43:17.958190Z",
     "iopub.status.busy": "2022-03-21T12:43:17.957826Z",
     "iopub.status.idle": "2022-03-21T12:43:17.977595Z",
     "shell.execute_reply": "2022-03-21T12:43:17.976810Z"
    },
    "papermill": {
     "duration": 0.041886,
     "end_time": "2022-03-21T12:43:17.977748",
     "exception": false,
     "start_time": "2022-03-21T12:43:17.935862",
     "status": "completed"
    },
    "tags": []
   },
   "outputs": [],
   "source": [
    "# global_x_transform_func = lambda x: normalize(x.to(torch.get_default_dtype()), \"unit_power\") # unit_power, unit_mag\n",
    "# global_x_transform_func = lambda x: normalize(x, \"unit_power\") # unit_power, unit_mag"
   ]
  },
  {
   "cell_type": "code",
   "execution_count": 12,
   "id": "acb78fd2",
   "metadata": {
    "execution": {
     "iopub.execute_input": "2022-03-21T12:43:18.029355Z",
     "iopub.status.busy": "2022-03-21T12:43:18.028781Z",
     "iopub.status.idle": "2022-03-21T12:43:18.046280Z",
     "shell.execute_reply": "2022-03-21T12:43:18.045555Z"
    },
    "papermill": {
     "duration": 0.043685,
     "end_time": "2022-03-21T12:43:18.046432",
     "exception": false,
     "start_time": "2022-03-21T12:43:18.002747",
     "status": "completed"
    },
    "tags": []
   },
   "outputs": [],
   "source": [
    "def add_dataset(\n",
    "    labels,\n",
    "    domains,\n",
    "    pickle_path,\n",
    "    x_transforms,\n",
    "    episode_transforms,\n",
    "    domain_prefix,\n",
    "    num_examples_per_domain_per_label,\n",
    "    source_or_target_dataset:str,\n",
    "    iterator_seed=p.seed,\n",
    "    dataset_seed=p.dataset_seed,\n",
    "    n_shot=p.n_shot,\n",
    "    n_way=p.n_way,\n",
    "    n_query=p.n_query,\n",
    "    train_val_test_k_factors=(p.train_k_factor,p.val_k_factor,p.test_k_factor),\n",
    "):\n",
    "   \n",
    "    if x_transforms == []: x_transform = None\n",
    "    else: x_transform = get_chained_transform(x_transforms)\n",
    "    \n",
    "    if episode_transforms == []: episode_transform = None\n",
    "    else: raise Exception(\"episode_transforms not implemented\")\n",
    "    \n",
    "    episode_transform = lambda tup, _prefix=domain_prefix: (_prefix + str(tup[0]), tup[1])\n",
    "\n",
    "\n",
    "    eaf = Episodic_Accessor_Factory(\n",
    "        labels=labels,\n",
    "        domains=domains,\n",
    "        num_examples_per_domain_per_label=num_examples_per_domain_per_label,\n",
    "        iterator_seed=iterator_seed,\n",
    "        dataset_seed=dataset_seed,\n",
    "        n_shot=n_shot,\n",
    "        n_way=n_way,\n",
    "        n_query=n_query,\n",
    "        train_val_test_k_factors=train_val_test_k_factors,\n",
    "        pickle_path=pickle_path,\n",
    "        x_transform_func=x_transform,\n",
    "    )\n",
    "\n",
    "    train, val, test = eaf.get_train(), eaf.get_val(), eaf.get_test()\n",
    "    train = Lazy_Iterable_Wrapper(train, episode_transform)\n",
    "    val = Lazy_Iterable_Wrapper(val, episode_transform)\n",
    "    test = Lazy_Iterable_Wrapper(test, episode_transform)\n",
    "\n",
    "    if source_or_target_dataset==\"source\":\n",
    "        train_original_source.append(train)\n",
    "        val_original_source.append(val)\n",
    "        test_original_source.append(test)\n",
    "\n",
    "        p.domains_source.extend(\n",
    "            [domain_prefix + str(u) for u in domains]\n",
    "        )\n",
    "    elif source_or_target_dataset==\"target\":\n",
    "        train_original_target.append(train)\n",
    "        val_original_target.append(val)\n",
    "        test_original_target.append(test)\n",
    "        p.domains_target.extend(\n",
    "            [domain_prefix + str(u) for u in domains]\n",
    "        )\n",
    "    else:\n",
    "        raise Exception(f\"invalid source_or_target_dataset: {source_or_target_dataset}\")\n",
    "    "
   ]
  },
  {
   "cell_type": "code",
   "execution_count": 13,
   "id": "fe266617",
   "metadata": {
    "execution": {
     "iopub.execute_input": "2022-03-21T12:43:18.093940Z",
     "iopub.status.busy": "2022-03-21T12:43:18.093580Z",
     "iopub.status.idle": "2022-03-21T12:44:01.158404Z",
     "shell.execute_reply": "2022-03-21T12:44:01.157574Z"
    },
    "papermill": {
     "duration": 43.087294,
     "end_time": "2022-03-21T12:44:01.158600",
     "exception": false,
     "start_time": "2022-03-21T12:43:18.071306",
     "status": "completed"
    },
    "tags": []
   },
   "outputs": [],
   "source": [
    "for ds in p.datasets:\n",
    "    add_dataset(**ds)"
   ]
  },
  {
   "cell_type": "code",
   "execution_count": 14,
   "id": "b90d65ac",
   "metadata": {
    "execution": {
     "iopub.execute_input": "2022-03-21T12:44:01.206270Z",
     "iopub.status.busy": "2022-03-21T12:44:01.205870Z",
     "iopub.status.idle": "2022-03-21T12:44:01.227864Z",
     "shell.execute_reply": "2022-03-21T12:44:01.227085Z"
    },
    "papermill": {
     "duration": 0.04614,
     "end_time": "2022-03-21T12:44:01.228043",
     "exception": false,
     "start_time": "2022-03-21T12:44:01.181903",
     "status": "completed"
    },
    "tags": []
   },
   "outputs": [],
   "source": [
    "# from steves_utils.CORES.utils import (\n",
    "#     ALL_NODES,\n",
    "#     ALL_NODES_MINIMUM_1000_EXAMPLES,\n",
    "#     ALL_DAYS\n",
    "# )\n",
    "\n",
    "# add_dataset(\n",
    "#     labels=ALL_NODES,\n",
    "#     domains = ALL_DAYS,\n",
    "#     num_examples_per_domain_per_label=100,\n",
    "#     pickle_path=os.path.join(get_datasets_base_path(), \"cores.stratified_ds.2022A.pkl\"),\n",
    "#     source_or_target_dataset=\"target\",\n",
    "#     x_transform_func=global_x_transform_func,\n",
    "#     domain_modifier=lambda u: f\"cores_{u}\"\n",
    "# )"
   ]
  },
  {
   "cell_type": "code",
   "execution_count": 15,
   "id": "76db484d",
   "metadata": {
    "execution": {
     "iopub.execute_input": "2022-03-21T12:44:01.280696Z",
     "iopub.status.busy": "2022-03-21T12:44:01.280316Z",
     "iopub.status.idle": "2022-03-21T12:44:01.303732Z",
     "shell.execute_reply": "2022-03-21T12:44:01.302939Z"
    },
    "papermill": {
     "duration": 0.047516,
     "end_time": "2022-03-21T12:44:01.303916",
     "exception": false,
     "start_time": "2022-03-21T12:44:01.256400",
     "status": "completed"
    },
    "tags": []
   },
   "outputs": [],
   "source": [
    "# from steves_utils.ORACLE.utils_v2 import (\n",
    "#     ALL_DISTANCES_FEET,\n",
    "#     ALL_RUNS,\n",
    "#     ALL_SERIAL_NUMBERS,\n",
    "# )\n",
    "\n",
    "\n",
    "# add_dataset(\n",
    "#     labels=ALL_SERIAL_NUMBERS,\n",
    "#     domains = list(set(ALL_DISTANCES_FEET) - {2,62}),\n",
    "#     num_examples_per_domain_per_label=100,\n",
    "#     pickle_path=os.path.join(get_datasets_base_path(), \"oracle.Run2_framed_2000Examples_stratified_ds.2022A.pkl\"),\n",
    "#     source_or_target_dataset=\"source\",\n",
    "#     x_transform_func=global_x_transform_func,\n",
    "#     domain_modifier=lambda u: f\"oracle1_{u}\"\n",
    "# )\n"
   ]
  },
  {
   "cell_type": "code",
   "execution_count": 16,
   "id": "97dea9d2",
   "metadata": {
    "execution": {
     "iopub.execute_input": "2022-03-21T12:44:01.355760Z",
     "iopub.status.busy": "2022-03-21T12:44:01.355358Z",
     "iopub.status.idle": "2022-03-21T12:44:01.378519Z",
     "shell.execute_reply": "2022-03-21T12:44:01.377794Z"
    },
    "papermill": {
     "duration": 0.04699,
     "end_time": "2022-03-21T12:44:01.378696",
     "exception": false,
     "start_time": "2022-03-21T12:44:01.331706",
     "status": "completed"
    },
    "tags": []
   },
   "outputs": [],
   "source": [
    "# from steves_utils.ORACLE.utils_v2 import (\n",
    "#     ALL_DISTANCES_FEET,\n",
    "#     ALL_RUNS,\n",
    "#     ALL_SERIAL_NUMBERS,\n",
    "# )\n",
    "\n",
    "\n",
    "# add_dataset(\n",
    "#     labels=ALL_SERIAL_NUMBERS,\n",
    "#     domains = list(set(ALL_DISTANCES_FEET) - {2,62,56}),\n",
    "#     num_examples_per_domain_per_label=100,\n",
    "#     pickle_path=os.path.join(get_datasets_base_path(), \"oracle.Run2_framed_2000Examples_stratified_ds.2022A.pkl\"),\n",
    "#     source_or_target_dataset=\"source\",\n",
    "#     x_transform_func=global_x_transform_func,\n",
    "#     domain_modifier=lambda u: f\"oracle2_{u}\"\n",
    "# )"
   ]
  },
  {
   "cell_type": "code",
   "execution_count": 17,
   "id": "6f289866",
   "metadata": {
    "execution": {
     "iopub.execute_input": "2022-03-21T12:44:01.427958Z",
     "iopub.status.busy": "2022-03-21T12:44:01.427573Z",
     "iopub.status.idle": "2022-03-21T12:44:01.445391Z",
     "shell.execute_reply": "2022-03-21T12:44:01.444652Z"
    },
    "papermill": {
     "duration": 0.04077,
     "end_time": "2022-03-21T12:44:01.445569",
     "exception": false,
     "start_time": "2022-03-21T12:44:01.404799",
     "status": "completed"
    },
    "tags": []
   },
   "outputs": [],
   "source": [
    "# add_dataset(\n",
    "#     labels=list(range(19)),\n",
    "#     domains = [0,1,2],\n",
    "#     num_examples_per_domain_per_label=100,\n",
    "#     pickle_path=os.path.join(get_datasets_base_path(), \"metehan.stratified_ds.2022A.pkl\"),\n",
    "#     source_or_target_dataset=\"target\",\n",
    "#     x_transform_func=global_x_transform_func,\n",
    "#     domain_modifier=lambda u: f\"met_{u}\"\n",
    "# )"
   ]
  },
  {
   "cell_type": "code",
   "execution_count": 18,
   "id": "86a863c3",
   "metadata": {
    "execution": {
     "iopub.execute_input": "2022-03-21T12:44:01.496861Z",
     "iopub.status.busy": "2022-03-21T12:44:01.496479Z",
     "iopub.status.idle": "2022-03-21T12:44:01.516600Z",
     "shell.execute_reply": "2022-03-21T12:44:01.515855Z"
    },
    "papermill": {
     "duration": 0.043484,
     "end_time": "2022-03-21T12:44:01.516781",
     "exception": false,
     "start_time": "2022-03-21T12:44:01.473297",
     "status": "completed"
    },
    "tags": []
   },
   "outputs": [],
   "source": [
    "# # from steves_utils.wisig.utils import (\n",
    "# #     ALL_NODES_MINIMUM_100_EXAMPLES,\n",
    "# #     ALL_NODES_MINIMUM_500_EXAMPLES,\n",
    "# #     ALL_NODES_MINIMUM_1000_EXAMPLES,\n",
    "# #     ALL_DAYS\n",
    "# # )\n",
    "\n",
    "# import steves_utils.wisig.utils as wisig\n",
    "\n",
    "\n",
    "# add_dataset(\n",
    "#     labels=wisig.ALL_NODES_MINIMUM_100_EXAMPLES,\n",
    "#     domains = wisig.ALL_DAYS,\n",
    "#     num_examples_per_domain_per_label=100,\n",
    "#     pickle_path=os.path.join(get_datasets_base_path(), \"wisig.node3-19.stratified_ds.2022A.pkl\"),\n",
    "#     source_or_target_dataset=\"target\",\n",
    "#     x_transform_func=global_x_transform_func,\n",
    "#     domain_modifier=lambda u: f\"wisig_{u}\"\n",
    "# )"
   ]
  },
  {
   "cell_type": "code",
   "execution_count": 19,
   "id": "fd5442bc",
   "metadata": {
    "execution": {
     "iopub.execute_input": "2022-03-21T12:44:01.570863Z",
     "iopub.status.busy": "2022-03-21T12:44:01.570474Z",
     "iopub.status.idle": "2022-03-21T12:44:01.590899Z",
     "shell.execute_reply": "2022-03-21T12:44:01.590171Z"
    },
    "papermill": {
     "duration": 0.04639,
     "end_time": "2022-03-21T12:44:01.591073",
     "exception": false,
     "start_time": "2022-03-21T12:44:01.544683",
     "status": "completed"
    },
    "tags": []
   },
   "outputs": [],
   "source": [
    "###################################\n",
    "# Build the dataset\n",
    "###################################\n",
    "train_original_source = Iterable_Aggregator(train_original_source, p.seed)\n",
    "val_original_source = Iterable_Aggregator(val_original_source, p.seed)\n",
    "test_original_source = Iterable_Aggregator(test_original_source, p.seed)\n",
    "\n",
    "\n",
    "train_original_target = Iterable_Aggregator(train_original_target, p.seed)\n",
    "val_original_target = Iterable_Aggregator(val_original_target, p.seed)\n",
    "test_original_target = Iterable_Aggregator(test_original_target, p.seed)\n",
    "\n",
    "# For CNN We only use X and Y. And we only train on the source.\n",
    "# Properly form the data using a transform lambda and Lazy_Iterable_Wrapper. Finally wrap them in a dataloader\n",
    "\n",
    "transform_lambda = lambda ex: ex[1] # Original is (<domain>, <episode>) so we strip down to episode only\n",
    "\n",
    "train_processed_source = Lazy_Iterable_Wrapper(train_original_source, transform_lambda)\n",
    "val_processed_source   = Lazy_Iterable_Wrapper(val_original_source, transform_lambda)\n",
    "test_processed_source  = Lazy_Iterable_Wrapper(test_original_source, transform_lambda)\n",
    "\n",
    "train_processed_target = Lazy_Iterable_Wrapper(train_original_target, transform_lambda)\n",
    "val_processed_target   = Lazy_Iterable_Wrapper(val_original_target, transform_lambda)\n",
    "test_processed_target  = Lazy_Iterable_Wrapper(test_original_target, transform_lambda)\n",
    "\n",
    "datasets = EasyDict({\n",
    "    \"source\": {\n",
    "        \"original\": {\"train\":train_original_source, \"val\":val_original_source, \"test\":test_original_source},\n",
    "        \"processed\": {\"train\":train_processed_source, \"val\":val_processed_source, \"test\":test_processed_source}\n",
    "    },\n",
    "    \"target\": {\n",
    "        \"original\": {\"train\":train_original_target, \"val\":val_original_target, \"test\":test_original_target},\n",
    "        \"processed\": {\"train\":train_processed_target, \"val\":val_processed_target, \"test\":test_processed_target}\n",
    "    },\n",
    "})"
   ]
  },
  {
   "cell_type": "code",
   "execution_count": 20,
   "id": "5b3c01fc",
   "metadata": {
    "execution": {
     "iopub.execute_input": "2022-03-21T12:44:01.641376Z",
     "iopub.status.busy": "2022-03-21T12:44:01.640739Z",
     "iopub.status.idle": "2022-03-21T12:44:17.259930Z",
     "shell.execute_reply": "2022-03-21T12:44:17.259104Z"
    },
    "papermill": {
     "duration": 15.642686,
     "end_time": "2022-03-21T12:44:17.260123",
     "exception": false,
     "start_time": "2022-03-21T12:44:01.617437",
     "status": "completed"
    },
    "tags": []
   },
   "outputs": [
    {
     "name": "stdout",
     "output_type": "stream",
     "text": [
      "{'CORES_3', 'CORES_1', 'CORES_2', 'CORES_4', 'CORES_5'}\n"
     ]
    },
    {
     "name": "stdout",
     "output_type": "stream",
     "text": [
      "{'ORACLE.run1_20', 'ORACLE.run1_32', 'ORACLE.run1_38', 'ORACLE.run1_44', 'ORACLE.run1_8', 'ORACLE.run1_50', 'ORACLE.run1_14', 'ORACLE.run1_26'}\n"
     ]
    },
    {
     "name": "stdout",
     "output_type": "stream",
     "text": [
      "tensor([[[ 0.0524, -0.0192,  0.2434,  ..., -0.3926, -1.4305, -0.1936],\n",
      "         [ 0.3654, -0.5299, -1.1645,  ..., -0.8482,  1.2706,  0.7454]],\n",
      "\n",
      "        [[ 0.0572, -0.0221, -0.7470,  ..., -1.0398,  1.0619,  1.7274],\n",
      "         [-0.3453, -0.0358,  0.6868,  ...,  0.6540,  0.6083, -0.5443]],\n",
      "\n",
      "        [[-0.1402, -0.3477,  0.6240,  ...,  0.9844,  0.5949, -1.6548],\n",
      "         [ 0.1866,  0.1800, -0.0698,  ...,  0.4318, -0.6811, -1.0420]],\n",
      "\n",
      "        ...,\n",
      "\n",
      "        [[-0.3116, -0.1290,  0.7961,  ...,  0.8301,  0.7376, -0.0536],\n",
      "         [-0.0049, -0.6841, -0.1388,  ..., -0.6500, -1.4631, -0.4455]],\n",
      "\n",
      "        [[ 0.2958,  0.4473, -0.5699,  ..., -0.0697,  0.4448,  0.3006],\n",
      "         [-0.2116,  0.5410,  0.6444,  ...,  1.0965,  1.5077,  0.1154]],\n",
      "\n",
      "        [[-0.1283, -0.1333,  0.6886,  ...,  0.5504,  1.2341,  1.4267],\n",
      "         [ 0.0469, -0.4048, -0.2592,  ...,  0.3974,  0.0173, -0.3752]]])\n"
     ]
    }
   ],
   "source": [
    "from steves_utils.transforms import get_average_magnitude, get_average_power\n",
    "\n",
    "print(set([u for u,_ in val_original_source]))\n",
    "print(set([u for u,_ in val_original_target]))\n",
    "\n",
    "s_x, s_y, q_x, q_y, _ = next(iter(train_processed_source))\n",
    "print(s_x)\n",
    "\n",
    "# for ds in [\n",
    "#     train_processed_source,\n",
    "#     val_processed_source,\n",
    "#     test_processed_source,\n",
    "#     train_processed_target,\n",
    "#     val_processed_target,\n",
    "#     test_processed_target\n",
    "# ]:\n",
    "#     for s_x, s_y, q_x, q_y, _ in ds:\n",
    "#         for X in (s_x, q_x):\n",
    "#             for x in X:\n",
    "#                 assert np.isclose(get_average_magnitude(x.numpy()), 1.0)\n",
    "#                 assert np.isclose(get_average_power(x.numpy()), 1.0)\n",
    "                "
   ]
  },
  {
   "cell_type": "code",
   "execution_count": 21,
   "id": "bbdacba1",
   "metadata": {
    "execution": {
     "iopub.execute_input": "2022-03-21T12:44:17.315373Z",
     "iopub.status.busy": "2022-03-21T12:44:17.314992Z",
     "iopub.status.idle": "2022-03-21T12:44:17.481431Z",
     "shell.execute_reply": "2022-03-21T12:44:17.481760Z"
    },
    "papermill": {
     "duration": 0.194319,
     "end_time": "2022-03-21T12:44:17.481905",
     "exception": false,
     "start_time": "2022-03-21T12:44:17.287586",
     "status": "completed"
    },
    "tags": []
   },
   "outputs": [
    {
     "name": "stdout",
     "output_type": "stream",
     "text": [
      "(2, 256)\n"
     ]
    }
   ],
   "source": [
    "###################################\n",
    "# Build the model\n",
    "###################################\n",
    "# easfsl only wants a tuple for the shape\n",
    "model = Steves_Prototypical_Network(x_net, device=p.device, x_shape=tuple(p.x_shape))\n",
    "optimizer = Adam(params=model.parameters(), lr=p.lr)"
   ]
  },
  {
   "cell_type": "code",
   "execution_count": 22,
   "id": "22b39ac5",
   "metadata": {
    "execution": {
     "iopub.execute_input": "2022-03-21T12:44:17.534587Z",
     "iopub.status.busy": "2022-03-21T12:44:17.533943Z",
     "iopub.status.idle": "2022-03-21T13:20:38.376902Z",
     "shell.execute_reply": "2022-03-21T13:20:38.376567Z"
    },
    "papermill": {
     "duration": 2180.871924,
     "end_time": "2022-03-21T13:20:38.376987",
     "exception": false,
     "start_time": "2022-03-21T12:44:17.505063",
     "status": "completed"
    },
    "tags": []
   },
   "outputs": [
    {
     "name": "stdout",
     "output_type": "stream",
     "text": [
      "epoch: 1, [batch: 1 / 6316], examples_per_second: 33.3015, train_label_loss: 2.5510, \n"
     ]
    },
    {
     "name": "stdout",
     "output_type": "stream",
     "text": [
      "epoch: 1, [batch: 632 / 6316], examples_per_second: 2547.1350, train_label_loss: 0.0097, \n"
     ]
    },
    {
     "name": "stdout",
     "output_type": "stream",
     "text": [
      "epoch: 1, [batch: 1264 / 6316], examples_per_second: 2907.1853, train_label_loss: 0.0034, \n"
     ]
    },
    {
     "name": "stdout",
     "output_type": "stream",
     "text": [
      "epoch: 1, [batch: 1895 / 6316], examples_per_second: 2996.8307, train_label_loss: 0.0021, \n"
     ]
    },
    {
     "name": "stdout",
     "output_type": "stream",
     "text": [
      "epoch: 1, [batch: 2527 / 6316], examples_per_second: 3004.7832, train_label_loss: 0.0011, \n"
     ]
    },
    {
     "name": "stdout",
     "output_type": "stream",
     "text": [
      "epoch: 1, [batch: 3158 / 6316], examples_per_second: 2575.8622, train_label_loss: 0.0003, \n"
     ]
    },
    {
     "name": "stdout",
     "output_type": "stream",
     "text": [
      "epoch: 1, [batch: 3790 / 6316], examples_per_second: 2593.4343, train_label_loss: 0.0001, \n"
     ]
    },
    {
     "name": "stdout",
     "output_type": "stream",
     "text": [
      "epoch: 1, [batch: 4421 / 6316], examples_per_second: 2642.4327, train_label_loss: 0.0003, \n"
     ]
    },
    {
     "name": "stdout",
     "output_type": "stream",
     "text": [
      "epoch: 1, [batch: 5053 / 6316], examples_per_second: 2918.2134, train_label_loss: 0.0097, \n"
     ]
    },
    {
     "name": "stdout",
     "output_type": "stream",
     "text": [
      "epoch: 1, [batch: 5684 / 6316], examples_per_second: 2950.7511, train_label_loss: 0.0001, \n"
     ]
    },
    {
     "name": "stdout",
     "output_type": "stream",
     "text": [
      "=============================================================\n",
      "epoch: 1, source_val_acc_label: 0.9988, target_val_acc_label: 0.2146, source_val_label_loss: 0.0066, target_val_label_loss: 2.3329, \n",
      "=============================================================\n"
     ]
    },
    {
     "name": "stdout",
     "output_type": "stream",
     "text": [
      "New best\n"
     ]
    },
    {
     "name": "stdout",
     "output_type": "stream",
     "text": [
      "epoch: 2, [batch: 1 / 6296], examples_per_second: 2.8878, train_label_loss: 0.0006, \n"
     ]
    },
    {
     "name": "stdout",
     "output_type": "stream",
     "text": [
      "epoch: 2, [batch: 630 / 6296], examples_per_second: 2884.9287, train_label_loss: 0.0003, \n"
     ]
    },
    {
     "name": "stdout",
     "output_type": "stream",
     "text": [
      "epoch: 2, [batch: 1260 / 6296], examples_per_second: 3091.9608, train_label_loss: 0.0001, \n"
     ]
    },
    {
     "name": "stdout",
     "output_type": "stream",
     "text": [
      "epoch: 2, [batch: 1889 / 6296], examples_per_second: 3426.1050, train_label_loss: 0.0073, \n"
     ]
    },
    {
     "name": "stdout",
     "output_type": "stream",
     "text": [
      "epoch: 2, [batch: 2519 / 6296], examples_per_second: 3326.5401, train_label_loss: 0.0000, \n"
     ]
    },
    {
     "name": "stdout",
     "output_type": "stream",
     "text": [
      "epoch: 2, [batch: 3148 / 6296], examples_per_second: 2828.0057, train_label_loss: 0.0009, \n"
     ]
    },
    {
     "name": "stdout",
     "output_type": "stream",
     "text": [
      "epoch: 2, [batch: 3778 / 6296], examples_per_second: 2302.9712, train_label_loss: 0.0000, \n"
     ]
    },
    {
     "name": "stdout",
     "output_type": "stream",
     "text": [
      "epoch: 2, [batch: 4407 / 6296], examples_per_second: 2283.9564, train_label_loss: 0.0004, \n"
     ]
    },
    {
     "name": "stdout",
     "output_type": "stream",
     "text": [
      "epoch: 2, [batch: 5037 / 6296], examples_per_second: 2311.8532, train_label_loss: 0.0001, \n"
     ]
    },
    {
     "name": "stdout",
     "output_type": "stream",
     "text": [
      "epoch: 2, [batch: 5666 / 6296], examples_per_second: 2326.8971, train_label_loss: 0.0000, \n"
     ]
    },
    {
     "name": "stdout",
     "output_type": "stream",
     "text": [
      "=============================================================\n",
      "epoch: 2, source_val_acc_label: 0.9994, target_val_acc_label: 0.2641, source_val_label_loss: 0.0075, target_val_label_loss: 2.1624, \n",
      "=============================================================\n"
     ]
    },
    {
     "name": "stdout",
     "output_type": "stream",
     "text": [
      "New best\n"
     ]
    },
    {
     "name": "stdout",
     "output_type": "stream",
     "text": [
      "epoch: 3, [batch: 1 / 6299], examples_per_second: 2.0883, train_label_loss: 0.0013, \n"
     ]
    },
    {
     "name": "stdout",
     "output_type": "stream",
     "text": [
      "epoch: 3, [batch: 630 / 6299], examples_per_second: 2293.2549, train_label_loss: 0.0016, \n"
     ]
    },
    {
     "name": "stdout",
     "output_type": "stream",
     "text": [
      "epoch: 3, [batch: 1260 / 6299], examples_per_second: 2287.5068, train_label_loss: 0.0000, \n"
     ]
    },
    {
     "name": "stdout",
     "output_type": "stream",
     "text": [
      "epoch: 3, [batch: 1890 / 6299], examples_per_second: 2739.2528, train_label_loss: 0.0000, \n"
     ]
    },
    {
     "name": "stdout",
     "output_type": "stream",
     "text": [
      "epoch: 3, [batch: 2520 / 6299], examples_per_second: 2949.1878, train_label_loss: 0.0020, \n"
     ]
    },
    {
     "name": "stdout",
     "output_type": "stream",
     "text": [
      "epoch: 3, [batch: 3150 / 6299], examples_per_second: 3068.5012, train_label_loss: 0.0001, \n"
     ]
    },
    {
     "name": "stdout",
     "output_type": "stream",
     "text": [
      "epoch: 3, [batch: 3779 / 6299], examples_per_second: 2563.4907, train_label_loss: 0.0000, \n"
     ]
    },
    {
     "name": "stdout",
     "output_type": "stream",
     "text": [
      "epoch: 3, [batch: 4409 / 6299], examples_per_second: 2304.9688, train_label_loss: 0.0000, \n"
     ]
    },
    {
     "name": "stdout",
     "output_type": "stream",
     "text": [
      "epoch: 3, [batch: 5039 / 6299], examples_per_second: 2319.8487, train_label_loss: 0.0000, \n"
     ]
    },
    {
     "name": "stdout",
     "output_type": "stream",
     "text": [
      "epoch: 3, [batch: 5669 / 6299], examples_per_second: 2304.3936, train_label_loss: 0.0244, \n"
     ]
    },
    {
     "name": "stdout",
     "output_type": "stream",
     "text": [
      "=============================================================\n",
      "epoch: 3, source_val_acc_label: 0.9991, target_val_acc_label: 0.3071, source_val_label_loss: 0.0079, target_val_label_loss: 2.0310, \n",
      "=============================================================\n"
     ]
    },
    {
     "name": "stdout",
     "output_type": "stream",
     "text": [
      "New best\n"
     ]
    },
    {
     "name": "stdout",
     "output_type": "stream",
     "text": [
      "epoch: 4, [batch: 1 / 6316], examples_per_second: 2.0896, train_label_loss: 0.0000, \n"
     ]
    },
    {
     "name": "stdout",
     "output_type": "stream",
     "text": [
      "epoch: 4, [batch: 632 / 6316], examples_per_second: 2303.5287, train_label_loss: 0.0005, \n"
     ]
    },
    {
     "name": "stdout",
     "output_type": "stream",
     "text": [
      "epoch: 4, [batch: 1264 / 6316], examples_per_second: 2307.6986, train_label_loss: 0.0000, \n"
     ]
    },
    {
     "name": "stdout",
     "output_type": "stream",
     "text": [
      "epoch: 4, [batch: 1895 / 6316], examples_per_second: 2333.8400, train_label_loss: 0.0000, \n"
     ]
    },
    {
     "name": "stdout",
     "output_type": "stream",
     "text": [
      "epoch: 4, [batch: 2527 / 6316], examples_per_second: 2865.9613, train_label_loss: 0.0000, \n"
     ]
    },
    {
     "name": "stdout",
     "output_type": "stream",
     "text": [
      "epoch: 4, [batch: 3158 / 6316], examples_per_second: 2976.7935, train_label_loss: 0.0000, \n"
     ]
    },
    {
     "name": "stdout",
     "output_type": "stream",
     "text": [
      "epoch: 4, [batch: 3790 / 6316], examples_per_second: 3282.0733, train_label_loss: 0.0000, \n"
     ]
    },
    {
     "name": "stdout",
     "output_type": "stream",
     "text": [
      "epoch: 4, [batch: 4421 / 6316], examples_per_second: 2297.3855, train_label_loss: 0.0000, \n"
     ]
    },
    {
     "name": "stdout",
     "output_type": "stream",
     "text": [
      "epoch: 4, [batch: 5053 / 6316], examples_per_second: 2285.4266, train_label_loss: 0.0000, \n"
     ]
    },
    {
     "name": "stdout",
     "output_type": "stream",
     "text": [
      "epoch: 4, [batch: 5684 / 6316], examples_per_second: 2308.2056, train_label_loss: 0.0000, \n"
     ]
    },
    {
     "name": "stdout",
     "output_type": "stream",
     "text": [
      "=============================================================\n",
      "epoch: 4, source_val_acc_label: 0.9992, target_val_acc_label: 0.3280, source_val_label_loss: 0.0084, target_val_label_loss: 1.9397, \n",
      "=============================================================\n"
     ]
    },
    {
     "name": "stdout",
     "output_type": "stream",
     "text": [
      "New best\n"
     ]
    },
    {
     "name": "stdout",
     "output_type": "stream",
     "text": [
      "epoch: 5, [batch: 1 / 6313], examples_per_second: 2.3011, train_label_loss: 0.0000, \n"
     ]
    },
    {
     "name": "stdout",
     "output_type": "stream",
     "text": [
      "epoch: 5, [batch: 632 / 6313], examples_per_second: 2582.1869, train_label_loss: 0.0000, \n"
     ]
    },
    {
     "name": "stdout",
     "output_type": "stream",
     "text": [
      "epoch: 5, [batch: 1263 / 6313], examples_per_second: 2636.4963, train_label_loss: 0.0000, \n"
     ]
    },
    {
     "name": "stdout",
     "output_type": "stream",
     "text": [
      "epoch: 5, [batch: 1894 / 6313], examples_per_second: 2589.8920, train_label_loss: 0.0000, \n"
     ]
    },
    {
     "name": "stdout",
     "output_type": "stream",
     "text": [
      "epoch: 5, [batch: 2525 / 6313], examples_per_second: 2899.8626, train_label_loss: 0.0104, \n"
     ]
    },
    {
     "name": "stdout",
     "output_type": "stream",
     "text": [
      "epoch: 5, [batch: 3157 / 6313], examples_per_second: 3472.5572, train_label_loss: 0.0000, \n"
     ]
    },
    {
     "name": "stdout",
     "output_type": "stream",
     "text": [
      "epoch: 5, [batch: 3788 / 6313], examples_per_second: 3835.1998, train_label_loss: 0.0000, \n"
     ]
    },
    {
     "name": "stdout",
     "output_type": "stream",
     "text": [
      "epoch: 5, [batch: 4419 / 6313], examples_per_second: 3561.2471, train_label_loss: 0.0000, \n"
     ]
    },
    {
     "name": "stdout",
     "output_type": "stream",
     "text": [
      "epoch: 5, [batch: 5050 / 6313], examples_per_second: 2320.6526, train_label_loss: 0.0000, \n"
     ]
    },
    {
     "name": "stdout",
     "output_type": "stream",
     "text": [
      "epoch: 5, [batch: 5681 / 6313], examples_per_second: 2297.8156, train_label_loss: 0.0000, \n"
     ]
    },
    {
     "name": "stdout",
     "output_type": "stream",
     "text": [
      "=============================================================\n",
      "epoch: 5, source_val_acc_label: 0.9995, target_val_acc_label: 0.3364, source_val_label_loss: 0.0082, target_val_label_loss: 2.0957, \n",
      "=============================================================\n"
     ]
    },
    {
     "name": "stdout",
     "output_type": "stream",
     "text": [
      "New best\n"
     ]
    },
    {
     "name": "stdout",
     "output_type": "stream",
     "text": [
      "epoch: 6, [batch: 1 / 6307], examples_per_second: 2.0916, train_label_loss: 0.0000, \n"
     ]
    },
    {
     "name": "stdout",
     "output_type": "stream",
     "text": [
      "epoch: 6, [batch: 631 / 6307], examples_per_second: 2293.3887, train_label_loss: 0.0000, \n"
     ]
    },
    {
     "name": "stdout",
     "output_type": "stream",
     "text": [
      "epoch: 6, [batch: 1262 / 6307], examples_per_second: 2289.5428, train_label_loss: 0.0000, \n"
     ]
    },
    {
     "name": "stdout",
     "output_type": "stream",
     "text": [
      "epoch: 6, [batch: 1892 / 6307], examples_per_second: 2322.4761, train_label_loss: 0.0000, \n"
     ]
    },
    {
     "name": "stdout",
     "output_type": "stream",
     "text": [
      "epoch: 6, [batch: 2523 / 6307], examples_per_second: 2304.5336, train_label_loss: 0.0000, \n"
     ]
    },
    {
     "name": "stdout",
     "output_type": "stream",
     "text": [
      "epoch: 6, [batch: 3154 / 6307], examples_per_second: 2692.2713, train_label_loss: 0.0000, \n"
     ]
    },
    {
     "name": "stdout",
     "output_type": "stream",
     "text": [
      "epoch: 6, [batch: 3784 / 6307], examples_per_second: 2986.1452, train_label_loss: 0.0000, \n"
     ]
    },
    {
     "name": "stdout",
     "output_type": "stream",
     "text": [
      "epoch: 6, [batch: 4415 / 6307], examples_per_second: 2998.1697, train_label_loss: 0.0000, \n"
     ]
    },
    {
     "name": "stdout",
     "output_type": "stream",
     "text": [
      "epoch: 6, [batch: 5045 / 6307], examples_per_second: 2671.8431, train_label_loss: 0.0000, \n"
     ]
    },
    {
     "name": "stdout",
     "output_type": "stream",
     "text": [
      "epoch: 6, [batch: 5676 / 6307], examples_per_second: 2318.9715, train_label_loss: 0.0000, \n"
     ]
    },
    {
     "name": "stdout",
     "output_type": "stream",
     "text": [
      "=============================================================\n",
      "epoch: 6, source_val_acc_label: 0.9993, target_val_acc_label: 0.2541, source_val_label_loss: 0.0073, target_val_label_loss: 2.8956, \n",
      "=============================================================\n"
     ]
    },
    {
     "name": "stdout",
     "output_type": "stream",
     "text": [
      "epoch: 7, [batch: 1 / 6303], examples_per_second: 2.1146, train_label_loss: 0.0006, \n"
     ]
    },
    {
     "name": "stdout",
     "output_type": "stream",
     "text": [
      "epoch: 7, [batch: 631 / 6303], examples_per_second: 2319.7871, train_label_loss: 0.0000, \n"
     ]
    },
    {
     "name": "stdout",
     "output_type": "stream",
     "text": [
      "epoch: 7, [batch: 1261 / 6303], examples_per_second: 2330.9113, train_label_loss: 0.0000, \n"
     ]
    },
    {
     "name": "stdout",
     "output_type": "stream",
     "text": [
      "epoch: 7, [batch: 1891 / 6303], examples_per_second: 2334.1925, train_label_loss: 0.0000, \n"
     ]
    },
    {
     "name": "stdout",
     "output_type": "stream",
     "text": [
      "epoch: 7, [batch: 2521 / 6303], examples_per_second: 2312.5963, train_label_loss: 0.0000, \n"
     ]
    },
    {
     "name": "stdout",
     "output_type": "stream",
     "text": [
      "epoch: 7, [batch: 3152 / 6303], examples_per_second: 2337.4801, train_label_loss: 0.0000, \n"
     ]
    },
    {
     "name": "stdout",
     "output_type": "stream",
     "text": [
      "epoch: 7, [batch: 3782 / 6303], examples_per_second: 2801.8212, train_label_loss: 0.0000, \n"
     ]
    },
    {
     "name": "stdout",
     "output_type": "stream",
     "text": [
      "epoch: 7, [batch: 4412 / 6303], examples_per_second: 2915.4119, train_label_loss: 0.0000, \n"
     ]
    },
    {
     "name": "stdout",
     "output_type": "stream",
     "text": [
      "epoch: 7, [batch: 5042 / 6303], examples_per_second: 3169.0830, train_label_loss: 0.0000, \n"
     ]
    },
    {
     "name": "stdout",
     "output_type": "stream",
     "text": [
      "epoch: 7, [batch: 5672 / 6303], examples_per_second: 2429.1371, train_label_loss: 0.0000, \n"
     ]
    },
    {
     "name": "stdout",
     "output_type": "stream",
     "text": [
      "=============================================================\n",
      "epoch: 7, source_val_acc_label: 0.9961, target_val_acc_label: 0.2500, source_val_label_loss: 0.0278, target_val_label_loss: 2.7000, \n",
      "=============================================================\n"
     ]
    },
    {
     "name": "stdout",
     "output_type": "stream",
     "text": [
      "epoch: 8, [batch: 1 / 6292], examples_per_second: 2.1033, train_label_loss: 0.0000, \n"
     ]
    },
    {
     "name": "stdout",
     "output_type": "stream",
     "text": [
      "epoch: 8, [batch: 630 / 6292], examples_per_second: 2300.1252, train_label_loss: 0.0000, \n"
     ]
    },
    {
     "name": "stdout",
     "output_type": "stream",
     "text": [
      "epoch: 8, [batch: 1259 / 6292], examples_per_second: 2303.1819, train_label_loss: 0.0000, \n"
     ]
    },
    {
     "name": "stdout",
     "output_type": "stream",
     "text": [
      "epoch: 8, [batch: 1888 / 6292], examples_per_second: 2321.5507, train_label_loss: 0.0000, \n"
     ]
    },
    {
     "name": "stdout",
     "output_type": "stream",
     "text": [
      "epoch: 8, [batch: 2517 / 6292], examples_per_second: 2315.0479, train_label_loss: 0.0000, \n"
     ]
    },
    {
     "name": "stdout",
     "output_type": "stream",
     "text": [
      "epoch: 8, [batch: 3146 / 6292], examples_per_second: 2309.1018, train_label_loss: 0.0000, \n"
     ]
    },
    {
     "name": "stdout",
     "output_type": "stream",
     "text": [
      "epoch: 8, [batch: 3775 / 6292], examples_per_second: 2352.2258, train_label_loss: 0.0000, \n"
     ]
    },
    {
     "name": "stdout",
     "output_type": "stream",
     "text": [
      "epoch: 8, [batch: 4404 / 6292], examples_per_second: 2899.6990, train_label_loss: 0.0000, \n"
     ]
    },
    {
     "name": "stdout",
     "output_type": "stream",
     "text": [
      "epoch: 8, [batch: 5033 / 6292], examples_per_second: 2957.4767, train_label_loss: 0.0000, \n"
     ]
    },
    {
     "name": "stdout",
     "output_type": "stream",
     "text": [
      "epoch: 8, [batch: 5662 / 6292], examples_per_second: 3053.0557, train_label_loss: 0.0000, \n"
     ]
    },
    {
     "name": "stdout",
     "output_type": "stream",
     "text": [
      "=============================================================\n",
      "epoch: 8, source_val_acc_label: 0.9992, target_val_acc_label: 0.2502, source_val_label_loss: 0.0153, target_val_label_loss: 2.8496, \n",
      "=============================================================\n"
     ]
    },
    {
     "name": "stdout",
     "output_type": "stream",
     "text": [
      "epoch: 9, [batch: 1 / 6305], examples_per_second: 2.4096, train_label_loss: 0.0000, \n"
     ]
    },
    {
     "name": "stdout",
     "output_type": "stream",
     "text": [
      "epoch: 9, [batch: 631 / 6305], examples_per_second: 2547.8160, train_label_loss: 0.0000, \n"
     ]
    },
    {
     "name": "stdout",
     "output_type": "stream",
     "text": [
      "epoch: 9, [batch: 1261 / 6305], examples_per_second: 2593.8530, train_label_loss: 0.0000, \n"
     ]
    },
    {
     "name": "stdout",
     "output_type": "stream",
     "text": [
      "epoch: 9, [batch: 1892 / 6305], examples_per_second: 2585.6696, train_label_loss: 0.0000, \n"
     ]
    },
    {
     "name": "stdout",
     "output_type": "stream",
     "text": [
      "epoch: 9, [batch: 2522 / 6305], examples_per_second: 2520.9631, train_label_loss: 0.0054, \n"
     ]
    },
    {
     "name": "stdout",
     "output_type": "stream",
     "text": [
      "epoch: 9, [batch: 3153 / 6305], examples_per_second: 2598.3127, train_label_loss: 0.0000, \n"
     ]
    },
    {
     "name": "stdout",
     "output_type": "stream",
     "text": [
      "epoch: 9, [batch: 3783 / 6305], examples_per_second: 2676.3123, train_label_loss: 0.0000, \n"
     ]
    },
    {
     "name": "stdout",
     "output_type": "stream",
     "text": [
      "epoch: 9, [batch: 4413 / 6305], examples_per_second: 3131.2343, train_label_loss: 0.0000, \n"
     ]
    },
    {
     "name": "stdout",
     "output_type": "stream",
     "text": [
      "epoch: 9, [batch: 5044 / 6305], examples_per_second: 3432.3044, train_label_loss: 0.0000, \n"
     ]
    },
    {
     "name": "stdout",
     "output_type": "stream",
     "text": [
      "epoch: 9, [batch: 5674 / 6305], examples_per_second: 3504.5863, train_label_loss: 0.0000, \n"
     ]
    },
    {
     "name": "stdout",
     "output_type": "stream",
     "text": [
      "=============================================================\n",
      "epoch: 9, source_val_acc_label: 0.9996, target_val_acc_label: 0.2642, source_val_label_loss: 0.0078, target_val_label_loss: 3.1075, \n",
      "=============================================================\n"
     ]
    },
    {
     "name": "stdout",
     "output_type": "stream",
     "text": [
      "Patience (3) exhausted\n"
     ]
    }
   ],
   "source": [
    "###################################\n",
    "# train\n",
    "###################################\n",
    "jig = PTN_Train_Eval_Test_Jig(model, p.BEST_MODEL_PATH, p.device)\n",
    "\n",
    "jig.train(\n",
    "    train_iterable=datasets.source.processed.train,\n",
    "    source_val_iterable=datasets.source.processed.val,\n",
    "    target_val_iterable=datasets.target.processed.val,\n",
    "    num_epochs=p.n_epoch,\n",
    "    num_logs_per_epoch=p.NUM_LOGS_PER_EPOCH,\n",
    "    patience=p.patience,\n",
    "    optimizer=optimizer,\n",
    "    criteria_for_best=p.criteria_for_best,\n",
    ")"
   ]
  },
  {
   "cell_type": "code",
   "execution_count": 23,
   "id": "31e8fabf",
   "metadata": {
    "execution": {
     "iopub.execute_input": "2022-03-21T13:20:38.480067Z",
     "iopub.status.busy": "2022-03-21T13:20:38.478733Z",
     "iopub.status.idle": "2022-03-21T13:20:38.510924Z",
     "shell.execute_reply": "2022-03-21T13:20:38.510126Z"
    },
    "papermill": {
     "duration": 0.086058,
     "end_time": "2022-03-21T13:20:38.511082",
     "exception": false,
     "start_time": "2022-03-21T13:20:38.425024",
     "status": "completed"
    },
    "tags": []
   },
   "outputs": [],
   "source": [
    "total_experiment_time_secs = time.time() - start_time_secs"
   ]
  },
  {
   "cell_type": "code",
   "execution_count": 24,
   "id": "87b9595b",
   "metadata": {
    "execution": {
     "iopub.execute_input": "2022-03-21T13:20:38.624868Z",
     "iopub.status.busy": "2022-03-21T13:20:38.624007Z",
     "iopub.status.idle": "2022-03-21T13:24:39.148769Z",
     "shell.execute_reply": "2022-03-21T13:24:39.147874Z"
    },
    "papermill": {
     "duration": 240.583875,
     "end_time": "2022-03-21T13:24:39.148955",
     "exception": false,
     "start_time": "2022-03-21T13:20:38.565080",
     "status": "completed"
    },
    "tags": []
   },
   "outputs": [],
   "source": [
    "###################################\n",
    "# Evaluate the model\n",
    "###################################\n",
    "source_test_label_accuracy, source_test_label_loss = jig.test(datasets.source.processed.test)\n",
    "target_test_label_accuracy, target_test_label_loss = jig.test(datasets.target.processed.test)\n",
    "\n",
    "source_val_label_accuracy, source_val_label_loss = jig.test(datasets.source.processed.val)\n",
    "target_val_label_accuracy, target_val_label_loss = jig.test(datasets.target.processed.val)\n",
    "\n",
    "history = jig.get_history()\n",
    "\n",
    "total_epochs_trained = len(history[\"epoch_indices\"])\n",
    "\n",
    "val_dl = Iterable_Aggregator((datasets.source.original.val,datasets.target.original.val))\n",
    "\n",
    "confusion = ptn_confusion_by_domain_over_dataloader(model, p.device, val_dl)\n",
    "per_domain_accuracy = per_domain_accuracy_from_confusion(confusion)\n",
    "\n",
    "# Add a key to per_domain_accuracy for if it was a source domain\n",
    "for domain, accuracy in per_domain_accuracy.items():\n",
    "    per_domain_accuracy[domain] = {\n",
    "        \"accuracy\": accuracy,\n",
    "        \"source?\": domain in p.domains_source\n",
    "    }\n",
    "\n",
    "# Do an independent accuracy assesment JUST TO BE SURE!\n",
    "# _source_test_label_accuracy = independent_accuracy_assesment(model, datasets.source.processed.test, p.device)\n",
    "# _target_test_label_accuracy = independent_accuracy_assesment(model, datasets.target.processed.test, p.device)\n",
    "# _source_val_label_accuracy = independent_accuracy_assesment(model, datasets.source.processed.val, p.device)\n",
    "# _target_val_label_accuracy = independent_accuracy_assesment(model, datasets.target.processed.val, p.device)\n",
    "\n",
    "# assert(_source_test_label_accuracy == source_test_label_accuracy)\n",
    "# assert(_target_test_label_accuracy == target_test_label_accuracy)\n",
    "# assert(_source_val_label_accuracy == source_val_label_accuracy)\n",
    "# assert(_target_val_label_accuracy == target_val_label_accuracy)\n",
    "\n",
    "experiment = {\n",
    "    \"experiment_name\": p.experiment_name,\n",
    "    \"parameters\": dict(p),\n",
    "    \"results\": {\n",
    "        \"source_test_label_accuracy\": source_test_label_accuracy,\n",
    "        \"source_test_label_loss\": source_test_label_loss,\n",
    "        \"target_test_label_accuracy\": target_test_label_accuracy,\n",
    "        \"target_test_label_loss\": target_test_label_loss,\n",
    "        \"source_val_label_accuracy\": source_val_label_accuracy,\n",
    "        \"source_val_label_loss\": source_val_label_loss,\n",
    "        \"target_val_label_accuracy\": target_val_label_accuracy,\n",
    "        \"target_val_label_loss\": target_val_label_loss,\n",
    "        \"total_epochs_trained\": total_epochs_trained,\n",
    "        \"total_experiment_time_secs\": total_experiment_time_secs,\n",
    "        \"confusion\": confusion,\n",
    "        \"per_domain_accuracy\": per_domain_accuracy,\n",
    "    },\n",
    "    \"history\": history,\n",
    "    \"dataset_metrics\": get_dataset_metrics(datasets, \"ptn\"),\n",
    "}"
   ]
  },
  {
   "cell_type": "code",
   "execution_count": 25,
   "id": "54a21829",
   "metadata": {
    "execution": {
     "iopub.execute_input": "2022-03-21T13:24:39.269093Z",
     "iopub.status.busy": "2022-03-21T13:24:39.268715Z",
     "iopub.status.idle": "2022-03-21T13:24:39.493415Z",
     "shell.execute_reply": "2022-03-21T13:24:39.494102Z"
    },
    "papermill": {
     "duration": 0.289181,
     "end_time": "2022-03-21T13:24:39.494302",
     "exception": false,
     "start_time": "2022-03-21T13:24:39.205121",
     "status": "completed"
    },
    "tags": []
   },
   "outputs": [
    {
     "data": {
      "image/png": "[encoded data removed]",
      "text/plain": [
       "<Figure size 1080x504 with 1 Axes>"
      ]
     },
     "metadata": {
      "needs_background": "light"
     },
     "output_type": "display_data"
    }
   ],
   "source": [
    "ax = get_loss_curve(experiment)\n",
    "plt.show()"
   ]
  },
  {
   "cell_type": "code",
   "execution_count": 26,
   "id": "fd8a0f60",
   "metadata": {
    "execution": {
     "iopub.execute_input": "2022-03-21T13:24:39.605611Z",
     "iopub.status.busy": "2022-03-21T13:24:39.605242Z",
     "iopub.status.idle": "2022-03-21T13:24:39.977961Z",
     "shell.execute_reply": "2022-03-21T13:24:39.978637Z"
    },
    "papermill": {
     "duration": 0.429241,
     "end_time": "2022-03-21T13:24:39.978828",
     "exception": false,
     "start_time": "2022-03-21T13:24:39.549587",
     "status": "completed"
    },
    "tags": []
   },
   "outputs": [
    {
     "data": {
      "text/plain": [
       "<AxesSubplot:title={'center':'Results'}>"
      ]
     },
     "execution_count": 26,
     "metadata": {},
     "output_type": "execute_result"
    },
    {
     "data": {
      "image/png": "[encoded data removed]",
      "text/plain": [
       "<Figure size 1080x504 with 1 Axes>"
      ]
     },
     "metadata": {
      "needs_background": "light"
     },
     "output_type": "display_data"
    }
   ],
   "source": [
    "get_results_table(experiment)"
   ]
  },
  {
   "cell_type": "code",
   "execution_count": 27,
   "id": "cf8dc689",
   "metadata": {
    "execution": {
     "iopub.execute_input": "2022-03-21T13:24:40.096213Z",
     "iopub.status.busy": "2022-03-21T13:24:40.095789Z",
     "iopub.status.idle": "2022-03-21T13:24:40.353855Z",
     "shell.execute_reply": "2022-03-21T13:24:40.354540Z"
    },
    "papermill": {
     "duration": 0.315151,
     "end_time": "2022-03-21T13:24:40.354746",
     "exception": false,
     "start_time": "2022-03-21T13:24:40.039595",
     "status": "completed"
    },
    "tags": []
   },
   "outputs": [
    {
     "data": {
      "text/plain": [
       "<AxesSubplot:title={'center':'Per Domain Validation Accuracy'}, xlabel='domain'>"
      ]
     },
     "execution_count": 27,
     "metadata": {},
     "output_type": "execute_result"
    },
    {
     "data": {
      "image/png": "[encoded data removed]",
      "text/plain": [
       "<Figure size 1080x504 with 1 Axes>"
      ]
     },
     "metadata": {
      "needs_background": "light"
     },
     "output_type": "display_data"
    }
   ],
   "source": [
    "get_domain_accuracies(experiment)"
   ]
  },
  {
   "cell_type": "code",
   "execution_count": 28,
   "id": "a74ae082",
   "metadata": {
    "execution": {
     "iopub.execute_input": "2022-03-21T13:24:40.470245Z",
     "iopub.status.busy": "2022-03-21T13:24:40.469871Z",
     "iopub.status.idle": "2022-03-21T13:24:40.493791Z",
     "shell.execute_reply": "2022-03-21T13:24:40.492975Z"
    },
    "papermill": {
     "duration": 0.082211,
     "end_time": "2022-03-21T13:24:40.493949",
     "exception": false,
     "start_time": "2022-03-21T13:24:40.411738",
     "status": "completed"
    },
    "tags": []
   },
   "outputs": [
    {
     "name": "stdout",
     "output_type": "stream",
     "text": [
      "Source Test Label Accuracy: 0.9993997175141243 Target Test Label Accuracy: 0.33912760416666665\n",
      "Source Val Label Accuracy: 0.9995357142857143 Target Val Label Accuracy: 0.33642578125\n"
     ]
    }
   ],
   "source": [
    "print(\"Source Test Label Accuracy:\", experiment[\"results\"][\"source_test_label_accuracy\"], \"Target Test Label Accuracy:\", experiment[\"results\"][\"target_test_label_accuracy\"])\n",
    "print(\"Source Val Label Accuracy:\", experiment[\"results\"][\"source_val_label_accuracy\"], \"Target Val Label Accuracy:\", experiment[\"results\"][\"target_val_label_accuracy\"])"
   ]
  },
  {
   "cell_type": "code",
   "execution_count": 29,
   "id": "dacca602",
   "metadata": {
    "execution": {
     "iopub.execute_input": "2022-03-21T13:24:40.612158Z",
     "iopub.status.busy": "2022-03-21T13:24:40.611761Z",
     "iopub.status.idle": "2022-03-21T13:24:40.632188Z",
     "shell.execute_reply": "2022-03-21T13:24:40.632872Z"
    },
    "papermill": {
     "duration": 0.078849,
     "end_time": "2022-03-21T13:24:40.633055",
     "exception": false,
     "start_time": "2022-03-21T13:24:40.554206",
     "status": "completed"
    },
    "tags": [
     "experiment_json"
    ]
   },
   "outputs": [
    {
     "data": {
      "text/plain": [
       "'{\"experiment_name\": \"tl_1v2:cores-oracle.run1.framed\", \"parameters\": {\"experiment_name\": \"tl_1v2:cores-oracle.run1.framed\", \"device\": \"cuda\", \"lr\": 0.0001, \"n_shot\": 3, \"n_query\": 2, \"train_k_factor\": 3, \"val_k_factor\": 2, \"test_k_factor\": 2, \"torch_default_dtype\": \"torch.float32\", \"n_epoch\": 50, \"patience\": 3, \"criteria_for_best\": \"target_accuracy\", \"x_net\": [{\"class\": \"nnReshape\", \"kargs\": {\"shape\": [-1, 1, 2, 256]}}, {\"class\": \"Conv2d\", \"kargs\": {\"in_channels\": 1, \"out_channels\": 256, \"kernel_size\": [1, 7], \"bias\": false, \"padding\": [0, 3]}}, {\"class\": \"ReLU\", \"kargs\": {\"inplace\": true}}, {\"class\": \"BatchNorm2d\", \"kargs\": {\"num_features\": 256}}, {\"class\": \"Conv2d\", \"kargs\": {\"in_channels\": 256, \"out_channels\": 80, \"kernel_size\": [2, 7], \"bias\": true, \"padding\": [0, 3]}}, {\"class\": \"ReLU\", \"kargs\": {\"inplace\": true}}, {\"class\": \"BatchNorm2d\", \"kargs\": {\"num_features\": 80}}, {\"class\": \"Flatten\", \"kargs\": {}}, {\"class\": \"Linear\", \"kargs\": {\"in_features\": 20480, \"out_features\": 256}}, {\"class\": \"ReLU\", \"kargs\": {\"inplace\": true}}, {\"class\": \"BatchNorm1d\", \"kargs\": {\"num_features\": 256}}, {\"class\": \"Linear\", \"kargs\": {\"in_features\": 256, \"out_features\": 256}}], \"NUM_LOGS_PER_EPOCH\": 10, \"BEST_MODEL_PATH\": \"./best_model.pth\", \"n_way\": 16, \"datasets\": [{\"labels\": [\"1-10.\", \"1-11.\", \"1-15.\", \"1-16.\", \"1-17.\", \"1-18.\", \"1-19.\", \"10-4.\", \"10-7.\", \"11-1.\", \"11-14.\", \"11-17.\", \"11-20.\", \"11-7.\", \"13-20.\", \"13-8.\", \"14-10.\", \"14-11.\", \"14-14.\", \"14-7.\", \"15-1.\", \"15-20.\", \"16-1.\", \"16-16.\", \"17-10.\", \"17-11.\", \"17-2.\", \"19-1.\", \"19-16.\", \"19-19.\", \"19-20.\", \"19-3.\", \"2-10.\", \"2-11.\", \"2-17.\", \"2-18.\", \"2-20.\", \"2-3.\", \"2-4.\", \"2-5.\", \"2-6.\", \"2-7.\", \"2-8.\", \"3-13.\", \"3-18.\", \"3-3.\", \"4-1.\", \"4-10.\", \"4-11.\", \"4-19.\", \"5-5.\", \"6-15.\", \"7-10.\", \"7-14.\", \"8-18.\", \"8-20.\", \"8-3.\", \"8-8.\"], \"domains\": [1, 2, 3, 4, 5], \"num_examples_per_domain_per_label\": -1, \"pickle_path\": \"/root/csc500-main/datasets/cores.stratified_ds.2022A.pkl\", \"source_or_target_dataset\": \"source\", \"x_transforms\": [\"unit_power\"], \"episode_transforms\": [], \"domain_prefix\": \"CORES_\"}, {\"labels\": [\"3123D52\", \"3123D65\", \"3123D79\", \"3123D80\", \"3123D54\", \"3123D70\", \"3123D7B\", \"3123D89\", \"3123D58\", \"3123D76\", \"3123D7D\", \"3123EFE\", \"3123D64\", \"3123D78\", \"3123D7E\", \"3124E4A\"], \"domains\": [32, 38, 8, 44, 14, 50, 20, 26], \"num_examples_per_domain_per_label\": 2000, \"pickle_path\": \"/root/csc500-main/datasets/oracle.Run1_framed_2000Examples_stratified_ds.2022A.pkl\", \"source_or_target_dataset\": \"target\", \"x_transforms\": [\"unit_power\"], \"episode_transforms\": [], \"domain_prefix\": \"ORACLE.run1_\"}], \"dataset_seed\": 7, \"seed\": 7, \"x_shape\": [2, 256], \"domains_source\": [\"CORES_1\", \"CORES_2\", \"CORES_3\", \"CORES_4\", \"CORES_5\"], \"domains_target\": [\"ORACLE.run1_32\", \"ORACLE.run1_38\", \"ORACLE.run1_8\", \"ORACLE.run1_44\", \"ORACLE.run1_14\", \"ORACLE.run1_50\", \"ORACLE.run1_20\", \"ORACLE.run1_26\"]}, \"results\": {\"source_test_label_accuracy\": 0.9993997175141243, \"source_test_label_loss\": 0.007526563946157694, \"target_test_label_accuracy\": 0.33912760416666665, \"target_test_label_loss\": 2.079288959503174, \"source_val_label_accuracy\": 0.9995357142857143, \"source_val_label_loss\": 0.008152246475219727, \"target_val_label_accuracy\": 0.33642578125, \"target_val_label_loss\": 2.0957369804382324, \"total_epochs_trained\": 9, \"total_experiment_time_secs\": 2240.682704925537, \"confusion\": {\"CORES_5\": {\"26\": {\"26\": 24}, \"7\": {\"7\": 32}, \"56\": {\"56\": 142}, \"36\": {\"36\": 92}, \"47\": {\"47\": 100}, \"2\": {\"2\": 28}, \"15\": {\"15\": 152}, \"14\": {\"14\": 44}, \"27\": {\"27\": 146}, \"40\": {\"40\": 124}, \"49\": {\"49\": 36}, \"45\": {\"45\": 123, \"9\": 1}, \"46\": {\"46\": 136}, \"11\": {\"11\": 130}, \"30\": {\"30\": 112}, \"0\": {\"0\": 124}, \"10\": {\"10\": 68}, \"1\": {\"1\": 148}, \"42\": {\"42\": 38, \"10\": 1, \"3\": 1}, \"54\": {\"54\": 112}, \"55\": {\"55\": 152}, \"23\": {\"23\": 124}, \"25\": {\"25\": 152}, \"28\": {\"28\": 32}, \"32\": {\"32\": 32}, \"9\": {\"9\": 142}, \"39\": {\"39\": 20}, \"3\": {\"3\": 100}, \"29\": {\"29\": 118}, \"17\": {\"17\": 116}, \"35\": {\"35\": 36}, \"44\": {\"44\": 152}, \"5\": {\"5\": 128}, \"33\": {\"33\": 32}, \"34\": {\"44\": 1, \"34\": 35}, \"13\": {\"13\": 138}, \"41\": {\"41\": 28}, \"6\": {\"6\": 128}, \"51\": {\"51\": 138}, \"50\": {\"50\": 144}, \"37\": {\"37\": 24}, \"19\": {\"19\": 144}, \"57\": {\"57\": 132}, \"21\": {\"21\": 144}, \"24\": {\"24\": 80}, \"8\": {\"8\": 130}, \"12\": {\"12\": 96}, \"48\": {\"48\": 132}, \"43\": {\"43\": 150}, \"53\": {\"53\": 148}, \"38\": {\"38\": 32}, \"16\": {\"16\": 142}, \"22\": {\"22\": 28}, \"4\": {\"4\": 100}, \"18\": {\"18\": 64}, \"20\": {\"20\": 144}, \"52\": {\"52\": 140}, \"31\": {\"31\": 36}}, \"CORES_1\": {\"41\": {\"41\": 24}, \"40\": {\"40\": 110}, \"45\": {\"45\": 138}, \"51\": {\"51\": 148}, \"5\": {\"5\": 154}, \"30\": {\"30\": 120}, \"42\": {\"42\": 40}, \"46\": {\"46\": 136}, \"48\": {\"48\": 134}, \"53\": {\"53\": 144}, \"47\": {\"47\": 152}, \"49\": {\"49\": 32}, \"36\": {\"36\": 64}, \"32\": {\"32\": 32}, \"34\": {\"34\": 24}, \"29\": {\"29\": 140}, \"35\": {\"35\": 36}, \"3\": {\"3\": 134}, \"16\": {\"16\": 140}, \"26\": {\"26\": 24}, \"57\": {\"57\": 144}, \"44\": {\"44\": 128}, \"0\": {\"0\": 152}, \"4\": {\"4\": 132}, \"31\": {\"31\": 28}, \"11\": {\"11\": 140}, \"6\": {\"6\": 96}, \"54\": {\"54\": 104}, \"17\": {\"17\": 64}, \"20\": {\"20\": 128}, \"13\": {\"13\": 150}, \"33\": {\"33\": 32}, \"24\": {\"24\": 108}, \"52\": {\"52\": 132}, \"2\": {\"2\": 36}, \"19\": {\"19\": 156}, \"39\": {\"39\": 28}, \"8\": {\"8\": 140}, \"21\": {\"21\": 124}, \"10\": {\"10\": 95, \"22\": 1}, \"37\": {\"37\": 32}, \"25\": {\"25\": 144}, \"27\": {\"27\": 130}, \"23\": {\"23\": 136}, \"1\": {\"1\": 100}, \"50\": {\"50\": 152}, \"12\": {\"12\": 116}, \"18\": {\"18\": 72}, \"38\": {\"38\": 24}, \"14\": {\"14\": 24}, \"56\": {\"56\": 140, \"29\": 2}, \"55\": {\"55\": 160}, \"9\": {\"9\": 138}, \"15\": {\"15\": 146}, \"28\": {\"28\": 28}, \"7\": {\"7\": 28}, \"43\": {\"43\": 136}, \"22\": {\"22\": 136}}, \"CORES_3\": {\"1\": {\"1\": 100}, \"9\": {\"9\": 124}, \"22\": {\"22\": 136}, \"43\": {\"43\": 136}, \"49\": {\"49\": 20}, \"50\": {\"50\": 138}, \"53\": {\"53\": 136}, \"10\": {\"10\": 64}, \"48\": {\"48\": 116}, \"8\": {\"8\": 138}, \"31\": {\"31\": 28}, \"56\": {\"56\": 134}, \"25\": {\"25\": 142}, \"28\": {\"28\": 28}, \"38\": {\"38\": 28}, \"5\": {\"5\": 116}, \"12\": {\"12\": 92}, \"6\": {\"6\": 88}, \"19\": {\"19\": 152}, \"26\": {\"26\": 24}, \"32\": {\"32\": 28}, \"33\": {\"33\": 28}, \"3\": {\"3\": 118}, \"51\": {\"51\": 128}, \"16\": {\"16\": 138}, \"46\": {\"46\": 140}, \"7\": {\"7\": 36}, \"47\": {\"47\": 91, \"22\": 1}, \"39\": {\"39\": 16}, \"40\": {\"40\": 136}, \"14\": {\"14\": 40}, \"37\": {\"37\": 28}, \"2\": {\"2\": 32}, \"21\": {\"21\": 120}, \"35\": {\"35\": 28}, \"54\": {\"54\": 100}, \"52\": {\"52\": 116}, \"29\": {\"29\": 118}, \"20\": {\"20\": 132}, \"18\": {\"18\": 84}, \"11\": {\"11\": 142}, \"0\": {\"0\": 124}, \"36\": {\"36\": 100}, \"17\": {\"17\": 108}, \"30\": {\"30\": 114}, \"42\": {\"42\": 28}, \"45\": {\"45\": 60}, \"4\": {\"4\": 148}, \"23\": {\"23\": 134}, \"13\": {\"13\": 128}, \"15\": {\"15\": 128}, \"57\": {\"57\": 124}, \"27\": {\"27\": 134}, \"44\": {\"44\": 88}, \"34\": {\"34\": 32}, \"41\": {\"41\": 28}, \"24\": {\"24\": 104}, \"55\": {\"55\": 118}}, \"CORES_4\": {\"52\": {\"52\": 116}, \"6\": {\"6\": 112}, \"14\": {\"14\": 16}, \"49\": {\"49\": 20}, \"0\": {\"0\": 80}, \"46\": {\"46\": 156}, \"41\": {\"41\": 36}, \"24\": {\"24\": 56}, \"25\": {\"25\": 152}, \"40\": {\"40\": 138}, \"38\": {\"38\": 40}, \"13\": {\"13\": 152}, \"9\": {\"9\": 108}, \"45\": {\"45\": 96}, \"43\": {\"43\": 144}, \"10\": {\"10\": 130}, \"15\": {\"15\": 127, \"11\": 1}, \"39\": {\"39\": 20}, \"4\": {\"4\": 132}, \"53\": {\"53\": 132}, \"1\": {\"1\": 40}, \"28\": {\"28\": 32}, \"54\": {\"54\": 108}, \"21\": {\"21\": 132}, \"7\": {\"7\": 24}, \"8\": {\"8\": 136}, \"42\": {\"42\": 32}, \"11\": {\"11\": 104}, \"33\": {\"33\": 36}, \"27\": {\"27\": 142}, \"19\": {\"19\": 144}, \"2\": {\"2\": 36}, \"3\": {\"3\": 118, \"53\": 2}, \"57\": {\"57\": 100}, \"20\": {\"20\": 112}, \"23\": {\"23\": 128}, \"22\": {\"22\": 128}, \"29\": {\"29\": 123, \"40\": 1}, \"36\": {\"36\": 92}, \"51\": {\"51\": 132}, \"31\": {\"31\": 28}, \"12\": {\"12\": 92}, \"56\": {\"56\": 138}, \"5\": {\"5\": 108}, \"35\": {\"35\": 40}, \"17\": {\"17\": 80}, \"32\": {\"32\": 24}, \"47\": {\"47\": 120}, \"18\": {\"18\": 107, \"3\": 1}, \"26\": {\"26\": 24}, \"50\": {\"50\": 122}, \"55\": {\"55\": 124}, \"34\": {\"34\": 24}, \"30\": {\"30\": 44}, \"37\": {\"37\": 24}, \"44\": {\"44\": 132}, \"48\": {\"48\": 118}, \"16\": {\"16\": 96}}, \"CORES_2\": {\"11\": {\"11\": 130}, \"21\": {\"21\": 120}, \"19\": {\"19\": 140}, \"20\": {\"20\": 128}, \"9\": {\"9\": 140}, \"10\": {\"10\": 112}, \"37\": {\"37\": 36}, \"32\": {\"32\": 28}, \"3\": {\"3\": 92}, \"39\": {\"39\": 28}, \"45\": {\"45\": 128}, \"50\": {\"50\": 136}, \"40\": {\"40\": 140}, \"46\": {\"46\": 128}, \"12\": {\"12\": 92}, \"13\": {\"13\": 116}, \"47\": {\"47\": 132}, \"15\": {\"15\": 142}, \"54\": {\"54\": 108}, \"48\": {\"48\": 148}, \"23\": {\"23\": 142}, \"29\": {\"29\": 128}, \"38\": {\"38\": 20}, \"53\": {\"53\": 136}, \"27\": {\"27\": 150}, \"43\": {\"43\": 144}, \"35\": {\"35\": 32}, \"0\": {\"0\": 48}, \"52\": {\"52\": 124}, \"8\": {\"8\": 128}, \"24\": {\"24\": 96}, \"18\": {\"18\": 48}, \"25\": {\"25\": 148}, \"57\": {\"57\": 136}, \"55\": {\"55\": 134}, \"36\": {\"36\": 116}, \"17\": {\"17\": 104}, \"2\": {\"2\": 32}, \"34\": {\"34\": 28}, \"1\": {\"1\": 112}, \"51\": {\"51\": 136}, \"31\": {\"31\": 28}, \"49\": {\"49\": 24}, \"14\": {\"14\": 24}, \"33\": {\"33\": 28}, \"41\": {\"41\": 20}, \"28\": {\"28\": 28}, \"5\": {\"5\": 120}, \"16\": {\"16\": 150}, \"4\": {\"4\": 128}, \"22\": {\"22\": 136}, \"6\": {\"6\": 118}, \"30\": {\"30\": 124}, \"26\": {\"26\": 24}, \"56\": {\"56\": 142}, \"42\": {\"42\": 36}, \"44\": {\"44\": 100}, \"7\": {\"7\": 36}}, \"ORACLE.run1_26\": {\"0\": {\"15\": 14, \"6\": 19, \"5\": 7, \"4\": 28, \"8\": 25, \"1\": 12, \"10\": 33, \"14\": 31, \"0\": 21, \"9\": 15, \"7\": 17, \"2\": 11, \"13\": 5, \"3\": 2}, \"4\": {\"6\": 6, \"14\": 30, \"8\": 20, \"4\": 29, \"9\": 12, \"1\": 28, \"10\": 22, \"7\": 15, \"0\": 28, \"5\": 6, \"3\": 12, \"2\": 12, \"15\": 13, \"13\": 7}, \"14\": {\"0\": 29, \"10\": 31, \"8\": 27, \"14\": 30, \"1\": 32, \"15\": 9, \"7\": 18, \"4\": 22, \"6\": 11, \"2\": 11, \"3\": 10, \"5\": 2, \"9\": 8}, \"12\": {\"12\": 179, \"11\": 37, \"6\": 13, \"10\": 4, \"14\": 1, \"15\": 1, \"0\": 3, \"9\": 2}, \"8\": {\"10\": 19, \"6\": 26, \"15\": 17, \"14\": 21, \"1\": 17, \"9\": 13, \"5\": 9, \"8\": 34, \"7\": 21, \"4\": 16, \"0\": 20, \"3\": 8, \"13\": 7, \"2\": 12}, \"7\": {\"9\": 12, \"0\": 16, \"15\": 15, \"4\": 29, \"3\": 26, \"10\": 14, \"6\": 5, \"14\": 16, \"1\": 27, \"7\": 28, \"8\": 17, \"2\": 13, \"13\": 11, \"5\": 11}, \"13\": {\"13\": 80, \"5\": 30, \"14\": 6, \"9\": 33, \"6\": 18, \"8\": 6, \"10\": 11, \"3\": 6, \"2\": 3, \"15\": 30, \"1\": 6, \"4\": 2, \"12\": 1, \"0\": 4, \"7\": 4}, \"5\": {\"9\": 30, \"13\": 33, \"15\": 28, \"5\": 48, \"2\": 20, \"1\": 6, \"7\": 18, \"4\": 2, \"6\": 12, \"8\": 16, \"3\": 11, \"10\": 10, \"0\": 6}, \"15\": {\"6\": 26, \"5\": 21, \"9\": 28, \"15\": 32, \"13\": 21, \"7\": 16, \"10\": 22, \"4\": 13, \"14\": 11, \"1\": 9, \"3\": 5, \"0\": 12, \"8\": 19, \"2\": 5}, \"10\": {\"10\": 33, \"14\": 22, \"8\": 32, \"4\": 15, \"9\": 20, \"0\": 21, \"6\": 32, \"15\": 17, \"7\": 8, \"1\": 23, \"2\": 5, \"13\": 4, \"3\": 3, \"5\": 5}, \"3\": {\"7\": 42, \"2\": 44, \"3\": 54, \"1\": 16, \"5\": 14, \"14\": 10, \"15\": 15, \"4\": 19, \"8\": 9, \"13\": 6, \"0\": 7, \"9\": 2, \"10\": 2}, \"9\": {\"8\": 21, \"6\": 24, \"9\": 49, \"15\": 28, \"1\": 12, \"7\": 9, \"10\": 21, \"13\": 25, \"4\": 6, \"5\": 18, \"2\": 6, \"14\": 11, \"0\": 9, \"3\": 1}, \"6\": {\"6\": 51, \"0\": 19, \"9\": 22, \"10\": 28, \"15\": 27, \"7\": 8, \"13\": 15, \"4\": 12, \"8\": 22, \"1\": 6, \"5\": 12, \"12\": 6, \"14\": 10, \"3\": 1, \"2\": 1}, \"1\": {\"15\": 8, \"0\": 18, \"14\": 26, \"8\": 22, \"5\": 2, \"10\": 30, \"6\": 8, \"1\": 33, \"4\": 38, \"7\": 30, \"2\": 6, \"9\": 5, \"3\": 8, \"13\": 6}, \"11\": {\"12\": 56, \"11\": 182, \"13\": 2}, \"2\": {\"1\": 14, \"9\": 13, \"4\": 12, \"3\": 38, \"15\": 18, \"7\": 30, \"2\": 42, \"13\": 14, \"14\": 12, \"0\": 5, \"5\": 22, \"8\": 14, \"10\": 5, \"6\": 1}}, \"ORACLE.run1_44\": {\"1\": {\"12\": 47, \"1\": 61, \"3\": 53, \"2\": 19, \"10\": 50, \"7\": 10}, \"11\": {\"13\": 57, \"11\": 108, \"4\": 6, \"6\": 30, \"7\": 9, \"9\": 28, \"14\": 2}, \"3\": {\"3\": 112, \"12\": 17, \"1\": 41, \"10\": 17, \"9\": 8, \"7\": 21, \"2\": 24}, \"6\": {\"2\": 12, \"13\": 28, \"9\": 55, \"6\": 88, \"7\": 33, \"11\": 20, \"3\": 3, \"1\": 1}, \"7\": {\"9\": 36, \"3\": 26, \"2\": 44, \"7\": 72, \"6\": 33, \"11\": 7, \"1\": 4, \"10\": 4, \"12\": 2, \"13\": 12}, \"5\": {\"5\": 94, \"0\": 60, \"8\": 27, \"14\": 21, \"4\": 14, \"15\": 24}, \"2\": {\"3\": 23, \"2\": 88, \"1\": 30, \"11\": 4, \"7\": 42, \"12\": 9, \"6\": 12, \"9\": 8, \"10\": 23, \"13\": 1}, \"15\": {\"14\": 42, \"15\": 82, \"5\": 28, \"8\": 34, \"0\": 37, \"4\": 17}, \"10\": {\"1\": 51, \"10\": 79, \"2\": 29, \"12\": 67, \"3\": 11, \"6\": 1, \"7\": 2}, \"13\": {\"9\": 45, \"6\": 45, \"13\": 65, \"11\": 38, \"7\": 26, \"4\": 15, \"14\": 4, \"2\": 2}, \"8\": {\"15\": 20, \"0\": 88, \"8\": 99, \"5\": 30, \"14\": 3}, \"4\": {\"4\": 113, \"5\": 8, \"14\": 77, \"15\": 21, \"9\": 4, \"11\": 2, \"13\": 13, \"6\": 1, \"0\": 1}, \"9\": {\"13\": 54, \"9\": 62, \"6\": 47, \"7\": 41, \"4\": 3, \"2\": 14, \"11\": 12, \"12\": 2, \"1\": 1, \"3\": 4}, \"14\": {\"4\": 76, \"14\": 78, \"15\": 46, \"13\": 11, \"5\": 24, \"0\": 2, \"9\": 2, \"11\": 1}, \"0\": {\"0\": 84, \"15\": 40, \"5\": 54, \"8\": 57, \"14\": 4, \"4\": 1}, \"12\": {\"1\": 50, \"12\": 93, \"10\": 64, \"2\": 12, \"3\": 20, \"7\": 1}}, \"ORACLE.run1_50\": {\"15\": {\"15\": 87, \"14\": 17, \"13\": 3, \"4\": 36, \"1\": 44, \"11\": 30, \"6\": 16, \"5\": 2, \"9\": 3, \"7\": 1, \"12\": 1}, \"4\": {\"4\": 46, \"13\": 22, \"1\": 56, \"6\": 34, \"5\": 26, \"14\": 5, \"15\": 25, \"0\": 2, \"8\": 1, \"7\": 13, \"2\": 4, \"11\": 4, \"10\": 2}, \"6\": {\"0\": 5, \"4\": 35, \"15\": 16, \"13\": 32, \"6\": 71, \"1\": 31, \"7\": 18, \"5\": 23, \"10\": 1, \"2\": 4, \"11\": 2, \"14\": 2}, \"2\": {\"2\": 123, \"0\": 65, \"1\": 8, \"13\": 11, \"10\": 12, \"14\": 4, \"5\": 7, \"6\": 4, \"4\": 4, \"7\": 1, \"15\": 1}, \"5\": {\"5\": 44, \"1\": 12, \"6\": 32, \"4\": 27, \"13\": 58, \"10\": 19, \"7\": 31, \"0\": 10, \"2\": 2, \"11\": 2, \"15\": 1, \"8\": 2}, \"9\": {\"15\": 2, \"9\": 125, \"11\": 39, \"12\": 59, \"1\": 2, \"14\": 13}, \"8\": {\"8\": 117, \"0\": 9, \"3\": 53, \"5\": 1, \"10\": 50, \"7\": 6, \"2\": 1, \"13\": 3}, \"12\": {\"12\": 125, \"14\": 37, \"9\": 56, \"11\": 20, \"1\": 1, \"15\": 1}, \"10\": {\"8\": 25, \"10\": 99, \"13\": 25, \"2\": 8, \"5\": 14, \"7\": 31, \"0\": 31, \"6\": 4, \"4\": 2, \"3\": 1}, \"1\": {\"4\": 41, \"1\": 52, \"15\": 56, \"6\": 27, \"2\": 11, \"5\": 18, \"11\": 11, \"14\": 10, \"9\": 1, \"13\": 8, \"0\": 3, \"7\": 2}, \"0\": {\"8\": 4, \"2\": 45, \"5\": 17, \"6\": 4, \"10\": 53, \"1\": 2, \"0\": 89, \"13\": 15, \"7\": 9, \"4\": 2}, \"3\": {\"3\": 172, \"8\": 59, \"7\": 2, \"10\": 7}, \"13\": {\"0\": 13, \"10\": 23, \"13\": 50, \"7\": 51, \"1\": 2, \"5\": 41, \"4\": 17, \"15\": 3, \"2\": 9, \"6\": 30, \"8\": 1}, \"11\": {\"1\": 12, \"12\": 19, \"11\": 90, \"9\": 44, \"14\": 39, \"15\": 26, \"4\": 10}, \"7\": {\"7\": 72, \"10\": 32, \"5\": 40, \"0\": 10, \"4\": 9, \"6\": 18, \"13\": 48, \"2\": 3, \"8\": 5, \"1\": 2, \"3\": 1}, \"14\": {\"14\": 122, \"6\": 1, \"12\": 24, \"1\": 15, \"4\": 9, \"11\": 34, \"9\": 13, \"15\": 15, \"2\": 7}}, \"ORACLE.run1_38\": {\"15\": {\"13\": 56, \"15\": 80, \"8\": 14, \"1\": 38, \"0\": 3, \"5\": 6, \"10\": 24, \"2\": 13, \"14\": 4, \"6\": 1, \"11\": 1}, \"11\": {\"11\": 96, \"14\": 76, \"15\": 4, \"12\": 12, \"10\": 15, \"2\": 25, \"7\": 1, \"13\": 8, \"4\": 3}, \"10\": {\"10\": 65, \"8\": 23, \"15\": 27, \"13\": 35, \"12\": 9, \"14\": 13, \"7\": 8, \"5\": 10, \"1\": 8, \"2\": 13, \"4\": 15, \"0\": 8, \"11\": 6}, \"14\": {\"10\": 14, \"14\": 121, \"12\": 6, \"15\": 3, \"2\": 39, \"7\": 1, \"11\": 51, \"13\": 3, \"1\": 1, \"4\": 1}, \"6\": {\"9\": 55, \"6\": 96, \"8\": 12, \"5\": 28, \"7\": 20, \"0\": 15, \"3\": 10, \"1\": 4}, \"4\": {\"7\": 7, \"4\": 154, \"12\": 52, \"0\": 8, \"8\": 11, \"10\": 6, \"5\": 2}, \"13\": {\"8\": 15, \"10\": 31, \"14\": 3, \"15\": 49, \"13\": 62, \"2\": 30, \"1\": 33, \"11\": 4, \"0\": 6, \"5\": 4, \"7\": 1, \"4\": 1, \"12\": 1}, \"3\": {\"3\": 150, \"0\": 9, \"9\": 48, \"6\": 17, \"7\": 11, \"5\": 5}, \"7\": {\"0\": 53, \"6\": 31, \"7\": 71, \"8\": 32, \"9\": 10, \"5\": 25, \"3\": 7, \"12\": 1, \"10\": 4, \"4\": 5, \"1\": 1}, \"8\": {\"10\": 17, \"8\": 61, \"0\": 36, \"5\": 44, \"7\": 20, \"13\": 7, \"15\": 21, \"4\": 5, \"9\": 2, \"6\": 12, \"1\": 12, \"12\": 3}, \"1\": {\"2\": 2, \"1\": 94, \"15\": 55, \"13\": 40, \"8\": 20, \"5\": 11, \"6\": 4, \"10\": 8, \"9\": 1, \"0\": 5}, \"5\": {\"8\": 37, \"13\": 7, \"6\": 27, \"9\": 11, \"5\": 41, \"7\": 30, \"0\": 38, \"15\": 15, \"10\": 10, \"1\": 18, \"3\": 4, \"4\": 1, \"14\": 1}, \"0\": {\"7\": 44, \"0\": 52, \"5\": 45, \"6\": 16, \"9\": 10, \"3\": 14, \"8\": 35, \"12\": 6, \"1\": 5, \"15\": 5, \"10\": 5, \"13\": 3}, \"2\": {\"2\": 102, \"14\": 52, \"10\": 8, \"13\": 29, \"15\": 16, \"11\": 26, \"1\": 5, \"5\": 1, \"8\": 1}, \"12\": {\"12\": 140, \"4\": 53, \"10\": 16, \"14\": 7, \"0\": 3, \"11\": 3, \"15\": 7, \"8\": 7, \"7\": 2, \"5\": 2}, \"9\": {\"9\": 90, \"8\": 4, \"6\": 81, \"0\": 11, \"5\": 10, \"3\": 31, \"7\": 12, \"1\": 1}}, \"ORACLE.run1_20\": {\"10\": {\"8\": 32, \"9\": 12, \"6\": 38, \"14\": 38, \"0\": 4, \"4\": 34, \"12\": 4, \"2\": 7, \"13\": 4, \"7\": 22, \"10\": 33, \"3\": 6, \"15\": 1, \"5\": 5}, \"7\": {\"2\": 22, \"8\": 23, \"7\": 39, \"9\": 25, \"11\": 4, \"6\": 15, \"14\": 12, \"13\": 17, \"4\": 19, \"10\": 16, \"0\": 5, \"3\": 16, \"12\": 14, \"5\": 5, \"1\": 5, \"15\": 3}, \"4\": {\"8\": 25, \"9\": 23, \"4\": 47, \"14\": 16, \"3\": 16, \"5\": 21, \"12\": 18, \"6\": 13, \"7\": 16, \"1\": 8, \"13\": 7, \"0\": 8, \"15\": 2, \"10\": 14, \"2\": 6}, \"13\": {\"12\": 23, \"6\": 5, \"9\": 30, \"2\": 34, \"13\": 26, \"7\": 12, \"1\": 23, \"5\": 15, \"3\": 20, \"0\": 18, \"8\": 4, \"15\": 20, \"4\": 9, \"11\": 1}, \"1\": {\"15\": 41, \"7\": 6, \"0\": 32, \"9\": 16, \"5\": 29, \"10\": 2, \"3\": 11, \"12\": 25, \"1\": 31, \"2\": 16, \"4\": 11, \"13\": 14, \"8\": 6}, \"0\": {\"0\": 47, \"1\": 27, \"4\": 20, \"12\": 15, \"2\": 8, \"14\": 1, \"13\": 11, \"7\": 8, \"15\": 30, \"5\": 28, \"9\": 12, \"3\": 12, \"8\": 15, \"10\": 2, \"6\": 3, \"11\": 1}, \"12\": {\"12\": 23, \"4\": 17, \"2\": 9, \"7\": 11, \"0\": 20, \"11\": 1, \"13\": 14, \"3\": 25, \"5\": 22, \"1\": 34, \"15\": 19, \"8\": 5, \"9\": 32, \"10\": 5, \"14\": 2, \"6\": 1}, \"5\": {\"1\": 33, \"12\": 20, \"15\": 26, \"5\": 44, \"2\": 10, \"4\": 16, \"0\": 32, \"7\": 7, \"3\": 17, \"13\": 9, \"8\": 8, \"9\": 10, \"10\": 6, \"6\": 2}, \"6\": {\"8\": 25, \"6\": 65, \"10\": 32, \"7\": 24, \"14\": 56, \"11\": 23, \"0\": 1, \"9\": 2, \"13\": 3, \"4\": 4, \"5\": 1, \"2\": 4}, \"2\": {\"8\": 10, \"12\": 23, \"5\": 10, \"3\": 25, \"6\": 1, \"15\": 14, \"13\": 18, \"0\": 16, \"2\": 30, \"7\": 25, \"4\": 14, \"9\": 27, \"10\": 4, \"14\": 8, \"1\": 14, \"11\": 1}, \"8\": {\"13\": 9, \"8\": 36, \"12\": 8, \"7\": 25, \"0\": 7, \"14\": 28, \"4\": 23, \"3\": 22, \"9\": 18, \"6\": 27, \"10\": 19, \"15\": 3, \"2\": 5, \"5\": 7, \"1\": 2, \"11\": 1}, \"11\": {\"6\": 34, \"11\": 135, \"8\": 6, \"2\": 15, \"4\": 1, \"7\": 20, \"10\": 5, \"14\": 8, \"13\": 7, \"9\": 8, \"5\": 1}, \"9\": {\"2\": 27, \"7\": 22, \"9\": 30, \"0\": 17, \"8\": 4, \"13\": 23, \"4\": 20, \"3\": 17, \"5\": 10, \"6\": 7, \"15\": 13, \"10\": 9, \"1\": 15, \"12\": 25, \"14\": 1}, \"14\": {\"6\": 47, \"4\": 12, \"11\": 9, \"14\": 63, \"8\": 30, \"7\": 18, \"10\": 43, \"0\": 1, \"9\": 3, \"3\": 1, \"13\": 1, \"2\": 7, \"5\": 3, \"12\": 1, \"15\": 1}, \"15\": {\"12\": 21, \"15\": 37, \"9\": 20, \"1\": 34, \"0\": 35, \"13\": 22, \"5\": 28, \"4\": 10, \"3\": 12, \"7\": 7, \"2\": 10, \"10\": 1, \"8\": 3}, \"3\": {\"5\": 20, \"0\": 11, \"4\": 16, \"11\": 1, \"9\": 20, \"8\": 12, \"12\": 20, \"3\": 30, \"2\": 25, \"15\": 14, \"1\": 14, \"13\": 19, \"6\": 6, \"7\": 24, \"10\": 7, \"14\": 1}}, \"ORACLE.run1_14\": {\"14\": {\"2\": 48, \"3\": 33, \"6\": 33, \"14\": 53, \"5\": 6, \"13\": 36, \"4\": 19, \"10\": 5, \"1\": 4, \"15\": 1, \"0\": 2}, \"0\": {\"10\": 69, \"0\": 85, \"3\": 24, \"5\": 2, \"11\": 32, \"8\": 8, \"14\": 5, \"9\": 4, \"13\": 6, \"6\": 1, \"2\": 1, \"4\": 3}, \"4\": {\"5\": 40, \"13\": 24, \"6\": 24, \"4\": 61, \"3\": 37, \"10\": 2, \"1\": 22, \"2\": 13, \"14\": 14, \"0\": 1, \"8\": 2}, \"11\": {\"10\": 24, \"9\": 59, \"11\": 102, \"0\": 47, \"12\": 3, \"3\": 4, \"14\": 1}, \"13\": {\"15\": 3, \"13\": 44, \"1\": 8, \"6\": 49, \"2\": 40, \"14\": 46, \"3\": 15, \"5\": 9, \"4\": 20, \"10\": 4, \"7\": 2}, \"9\": {\"9\": 124, \"12\": 44, \"11\": 48, \"0\": 17, \"8\": 3, \"10\": 4}, \"3\": {\"13\": 21, \"5\": 11, \"3\": 63, \"10\": 25, \"4\": 27, \"14\": 24, \"2\": 14, \"0\": 20, \"6\": 17, \"11\": 1, \"1\": 10, \"8\": 7}, \"6\": {\"13\": 58, \"2\": 43, \"6\": 48, \"5\": 15, \"14\": 39, \"4\": 19, \"3\": 13, \"1\": 4, \"15\": 1}, \"1\": {\"4\": 49, \"1\": 73, \"2\": 21, \"5\": 58, \"13\": 7, \"3\": 4, \"7\": 7, \"15\": 3, \"6\": 9, \"8\": 5, \"14\": 4}, \"5\": {\"2\": 28, \"14\": 6, \"5\": 51, \"1\": 54, \"4\": 39, \"3\": 12, \"6\": 14, \"13\": 15, \"15\": 12, \"7\": 9}, \"12\": {\"9\": 43, \"12\": 188, \"11\": 9}, \"10\": {\"10\": 101, \"0\": 75, \"3\": 20, \"11\": 22, \"9\": 1, \"5\": 2, \"14\": 7, \"8\": 3, \"4\": 1, \"13\": 5, \"2\": 2, \"6\": 1}, \"8\": {\"0\": 15, \"8\": 179, \"4\": 5, \"3\": 16, \"6\": 2, \"1\": 7, \"9\": 2, \"11\": 1, \"10\": 11, \"5\": 2}, \"7\": {\"7\": 127, \"15\": 96, \"5\": 10, \"1\": 7}, \"15\": {\"7\": 75, \"15\": 143, \"5\": 6, \"1\": 12, \"13\": 2, \"4\": 1, \"2\": 1}, \"2\": {\"15\": 4, \"13\": 43, \"6\": 43, \"2\": 38, \"14\": 32, \"4\": 20, \"3\": 17, \"5\": 22, \"1\": 16, \"10\": 1, \"7\": 3, \"0\": 1}}, \"ORACLE.run1_32\": {\"11\": {\"14\": 63, \"11\": 100, \"3\": 19, \"7\": 23, \"8\": 6, \"4\": 1, \"13\": 8, \"5\": 16, \"15\": 1, \"0\": 3}, \"1\": {\"1\": 172, \"10\": 61, \"6\": 7}, \"2\": {\"4\": 51, \"8\": 5, \"0\": 39, \"2\": 101, \"5\": 13, \"7\": 21, \"3\": 1, \"14\": 4, \"13\": 5}, \"0\": {\"7\": 24, \"4\": 40, \"0\": 64, \"5\": 15, \"2\": 45, \"14\": 8, \"8\": 22, \"13\": 15, \"11\": 2, \"15\": 4, \"3\": 1}, \"3\": {\"15\": 12, \"13\": 32, \"3\": 128, \"11\": 18, \"7\": 4, \"14\": 17, \"5\": 18, \"8\": 10, \"4\": 1}, \"8\": {\"8\": 62, \"4\": 27, \"5\": 27, \"3\": 10, \"14\": 6, \"13\": 37, \"15\": 28, \"0\": 29, \"2\": 7, \"7\": 7}, \"12\": {\"12\": 196, \"6\": 22, \"9\": 22}, \"5\": {\"5\": 48, \"4\": 34, \"7\": 30, \"11\": 9, \"13\": 38, \"0\": 14, \"3\": 14, \"8\": 22, \"14\": 18, \"2\": 12, \"15\": 1}, \"15\": {\"15\": 162, \"3\": 30, \"13\": 15, \"8\": 24, \"5\": 3, \"0\": 2, \"4\": 2, \"11\": 1, \"7\": 1}, \"7\": {\"14\": 37, \"0\": 17, \"7\": 45, \"4\": 26, \"5\": 36, \"2\": 10, \"11\": 21, \"13\": 18, \"3\": 16, \"8\": 13, \"15\": 1}, \"4\": {\"5\": 27, \"4\": 50, \"8\": 31, \"7\": 19, \"2\": 38, \"13\": 30, \"0\": 43, \"14\": 1, \"11\": 1}, \"14\": {\"4\": 6, \"2\": 9, \"5\": 22, \"7\": 35, \"13\": 25, \"11\": 58, \"14\": 53, \"3\": 14, \"8\": 6, \"0\": 11, \"15\": 1}, \"10\": {\"10\": 190, \"6\": 16, \"1\": 30, \"12\": 4}, \"6\": {\"6\": 204, \"12\": 19, \"10\": 15, \"9\": 1, \"1\": 1}, \"13\": {\"15\": 7, \"8\": 41, \"13\": 59, \"5\": 34, \"7\": 22, \"3\": 21, \"4\": 24, \"0\": 13, \"11\": 4, \"14\": 9, \"2\": 6}, \"9\": {\"9\": 215, \"12\": 19, \"0\": 2, \"2\": 3, \"4\": 1}}, \"ORACLE.run1_8\": {\"9\": {\"9\": 223, \"10\": 2, \"5\": 14, \"0\": 1}, \"11\": {\"6\": 4, \"11\": 55, \"10\": 21, \"7\": 7, \"15\": 5, \"1\": 59, \"5\": 25, \"4\": 19, \"13\": 12, \"8\": 17, \"14\": 14, \"0\": 2}, \"8\": {\"8\": 65, \"15\": 33, \"2\": 7, \"6\": 27, \"7\": 25, \"13\": 7, \"14\": 4, \"1\": 12, \"12\": 25, \"0\": 9, \"3\": 2, \"11\": 8, \"4\": 12, \"10\": 3, \"5\": 1}, \"4\": {\"7\": 23, \"13\": 28, \"10\": 24, \"0\": 27, \"14\": 28, \"11\": 13, \"4\": 33, \"8\": 14, \"2\": 2, \"5\": 5, \"15\": 3, \"1\": 19, \"6\": 21}, \"13\": {\"14\": 32, \"7\": 12, \"0\": 23, \"10\": 31, \"13\": 42, \"4\": 29, \"1\": 13, \"6\": 29, \"11\": 6, \"8\": 8, \"5\": 6, \"12\": 1, \"2\": 3, \"15\": 5}, \"14\": {\"13\": 25, \"0\": 19, \"10\": 34, \"8\": 7, \"14\": 33, \"4\": 35, \"11\": 23, \"6\": 13, \"7\": 11, \"5\": 18, \"1\": 18, \"12\": 2, \"2\": 2}, \"2\": {\"15\": 32, \"0\": 7, \"6\": 16, \"12\": 26, \"3\": 68, \"2\": 66, \"13\": 2, \"8\": 7, \"14\": 2, \"7\": 11, \"4\": 3}, \"3\": {\"8\": 8, \"2\": 51, \"3\": 84, \"12\": 47, \"15\": 38, \"7\": 10, \"6\": 1, \"0\": 1}, \"1\": {\"1\": 55, \"10\": 23, \"7\": 2, \"11\": 51, \"14\": 23, \"5\": 28, \"0\": 7, \"4\": 20, \"6\": 9, \"13\": 11, \"8\": 10, \"15\": 1}, \"0\": {\"7\": 23, \"6\": 40, \"4\": 33, \"15\": 5, \"0\": 37, \"13\": 33, \"5\": 3, \"14\": 25, \"10\": 19, \"11\": 4, \"12\": 6, \"8\": 9, \"2\": 2, \"9\": 1}, \"5\": {\"5\": 81, \"11\": 28, \"1\": 38, \"8\": 4, \"4\": 12, \"14\": 22, \"10\": 30, \"15\": 1, \"13\": 9, \"0\": 7, \"6\": 1, \"9\": 3, \"7\": 4}, \"15\": {\"3\": 22, \"15\": 69, \"8\": 45, \"7\": 18, \"12\": 39, \"6\": 13, \"2\": 23, \"13\": 3, \"14\": 2, \"0\": 2, \"11\": 1, \"4\": 2, \"1\": 1}, \"10\": {\"14\": 37, \"1\": 17, \"0\": 22, \"13\": 30, \"15\": 2, \"4\": 34, \"7\": 5, \"10\": 41, \"11\": 15, \"5\": 24, \"6\": 9, \"8\": 4}, \"12\": {\"2\": 36, \"15\": 55, \"12\": 63, \"3\": 47, \"8\": 20, \"6\": 11, \"7\": 7, \"4\": 1}, \"6\": {\"6\": 36, \"14\": 22, \"0\": 23, \"4\": 29, \"13\": 22, \"10\": 15, \"7\": 36, \"8\": 24, \"15\": 8, \"2\": 5, \"1\": 8, \"11\": 4, \"12\": 6, \"5\": 2}, \"7\": {\"0\": 29, \"7\": 45, \"12\": 9, \"8\": 32, \"4\": 14, \"6\": 37, \"2\": 15, \"11\": 1, \"13\": 24, \"3\": 3, \"15\": 11, \"14\": 9, \"10\": 9, \"1\": 2}}}, \"per_domain_accuracy\": {\"CORES_5\": {\"accuracy\": 0.9993016759776536, \"source?\": true}, \"CORES_1\": {\"accuracy\": 0.9994904891304348, \"source?\": true}, \"CORES_3\": {\"accuracy\": 0.9998161764705882, \"source?\": true}, \"CORES_4\": {\"accuracy\": 0.999058734939759, \"source?\": true}, \"CORES_2\": {\"accuracy\": 1.0, \"source?\": true}, \"ORACLE.run1_26\": {\"accuracy\": 0.24088541666666666, \"source?\": false}, \"ORACLE.run1_44\": {\"accuracy\": 0.35885416666666664, \"source?\": false}, \"ORACLE.run1_50\": {\"accuracy\": 0.38645833333333335, \"source?\": false}, \"ORACLE.run1_38\": {\"accuracy\": 0.3841145833333333, \"source?\": false}, \"ORACLE.run1_20\": {\"accuracy\": 0.18645833333333334, \"source?\": false}, \"ORACLE.run1_14\": {\"accuracy\": 0.3854166666666667, \"source?\": false}, \"ORACLE.run1_32\": {\"accuracy\": 0.48151041666666666, \"source?\": false}, \"ORACLE.run1_8\": {\"accuracy\": 0.2677083333333333, \"source?\": false}}}, \"history\": {\"epoch_indices\": [1, 2, 3, 4, 5, 6, 7, 8, 9], \"train_label_loss\": [0.02482282913056777, 0.006964238827707394, 0.005098477220140582, 0.0035528834735699595, 0.0029362525477836412, 0.003477260956240525, 0.0033033646799947715, 0.002241277784751728, 0.002637416814540555], \"source_val_label_loss\": [0.006630427204072475, 0.007477003149688244, 0.007948325015604496, 0.008390198461711407, 0.008152246475219727, 0.00732874171808362, 0.027783887460827827, 0.015273423865437508, 0.007820374332368374], \"target_val_label_loss\": [2.332864761352539, 2.1624388694763184, 2.0310497283935547, 1.9396730661392212, 2.0957369804382324, 2.8955771923065186, 2.6999995708465576, 2.8495540618896484, 3.107468605041504], \"source_val_acc_label\": [0.9988214285714285, 0.9994285714285714, 0.9991071428571429, 0.9992142857142857, 0.9995357142857143, 0.9993214285714286, 0.9961428571428571, 0.99925, 0.9995714285714286], \"target_val_acc_label\": [0.21455078125, 0.26412760416666664, 0.30709635416666664, 0.3279622395833333, 0.33642578125, 0.2540690104166667, 0.25, 0.25022786458333335, 0.26422526041666666]}, \"dataset_metrics\": {\"source\": {\"train\": {\"n_unique_x\": 175192, \"n_unique_y\": 58, \"n_batch/episode\": 6298}, \"val\": {\"n_unique_x\": 37151, \"n_unique_y\": 58, \"n_batch/episode\": 875}, \"test\": {\"n_unique_x\": 37548, \"n_unique_y\": 58, \"n_batch/episode\": 885}}, \"target\": {\"train\": {\"n_unique_x\": 179200, \"n_unique_y\": 16, \"n_batch/episode\": 6720}, \"val\": {\"n_unique_x\": 38400, \"n_unique_y\": 16, \"n_batch/episode\": 960}, \"test\": {\"n_unique_x\": 38400, \"n_unique_y\": 16, \"n_batch/episode\": 960}}}}'"
      ]
     },
     "execution_count": 29,
     "metadata": {},
     "output_type": "execute_result"
    }
   ],
   "source": [
    "json.dumps(experiment)"
   ]
  }
 ],
 "metadata": {
  "celltoolbar": "Tags",
  "kernelspec": {
   "display_name": "Python 3 (ipykernel)",
   "language": "python",
   "name": "python3"
  },
  "language_info": {
   "codemirror_mode": {
    "name": "ipython",
    "version": 3
   },
   "file_extension": ".py",
   "mimetype": "text/x-python",
   "name": "python",
   "nbconvert_exporter": "python",
   "pygments_lexer": "ipython3",
   "version": "3.8.12"
  },
  "papermill": {
   "default_parameters": {},
   "duration": 2490.086044,
   "end_time": "2022-03-21T13:24:44.236365",
   "environment_variables": {},
   "exception": null,
   "input_path": "/root/csc500-main/csc500-notebooks/templates/tl_ptn_template.ipynb",
   "output_path": "trial.ipynb",
   "parameters": {
    "parameters": {
     "BEST_MODEL_PATH": "./best_model.pth",
     "NUM_LOGS_PER_EPOCH": 10,
     "criteria_for_best": "target_accuracy",
     "dataset_seed": 7,
     "datasets": [
      {
       "domain_prefix": "CORES_",
       "domains": [
        1,
        2,
        3,
        4,
        5
       ],
       "episode_transforms": [],
       "labels": [
        "1-10.",
        "1-11.",
        "1-15.",
        "1-16.",
        "1-17.",
        "1-18.",
        "1-19.",
        "10-4.",
        "10-7.",
        "11-1.",
        "11-14.",
        "11-17.",
        "11-20.",
        "11-7.",
        "13-20.",
        "13-8.",
        "14-10.",
        "14-11.",
        "14-14.",
        "14-7.",
        "15-1.",
        "15-20.",
        "16-1.",
        "16-16.",
        "17-10.",
        "17-11.",
        "17-2.",
        "19-1.",
        "19-16.",
        "19-19.",
        "19-20.",
        "19-3.",
        "2-10.",
        "2-11.",
        "2-17.",
        "2-18.",
        "2-20.",
        "2-3.",
        "2-4.",
        "2-5.",
        "2-6.",
        "2-7.",
        "2-8.",
        "3-13.",
        "3-18.",
        "3-3.",
        "4-1.",
        "4-10.",
        "4-11.",
        "4-19.",
        "5-5.",
        "6-15.",
        "7-10.",
        "7-14.",
        "8-18.",
        "8-20.",
        "8-3.",
        "8-8."
       ],
       "num_examples_per_domain_per_label": -1,
       "pickle_path": "/root/csc500-main/datasets/cores.stratified_ds.2022A.pkl",
       "source_or_target_dataset": "source",
       "x_transforms": [
        "unit_power"
       ]
      },
      {
       "domain_prefix": "ORACLE.run1_",
       "domains": [
        32,
        38,
        8,
        44,
        14,
        50,
        20,
        26
       ],
       "episode_transforms": [],
       "labels": [
        "3123D52",
        "3123D65",
        "3123D79",
        "3123D80",
        "3123D54",
        "3123D70",
        "3123D7B",
        "3123D89",
        "3123D58",
        "3123D76",
        "3123D7D",
        "3123EFE",
        "3123D64",
        "3123D78",
        "3123D7E",
        "3124E4A"
       ],
       "num_examples_per_domain_per_label": 2000,
       "pickle_path": "/root/csc500-main/datasets/oracle.Run1_framed_2000Examples_stratified_ds.2022A.pkl",
       "source_or_target_dataset": "target",
       "x_transforms": [
        "unit_power"
       ]
      }
     ],
     "device": "cuda",
     "experiment_name": "tl_1v2:cores-oracle.run1.framed",
     "lr": 0.0001,
     "n_epoch": 50,
     "n_query": 2,
     "n_shot": 3,
     "n_way": 16,
     "patience": 3,
     "seed": 7,
     "test_k_factor": 2,
     "torch_default_dtype": "torch.float32",
     "train_k_factor": 3,
     "val_k_factor": 2,
     "x_net": [
      {
       "class": "nnReshape",
       "kargs": {
        "shape": [
         -1,
         1,
         2,
         256
        ]
       }
      },
      {
       "class": "Conv2d",
       "kargs": {
        "bias": false,
        "in_channels": 1,
        "kernel_size": [
         1,
         7
        ],
        "out_channels": 256,
        "padding": [
         0,
         3
        ]
       }
      },
      {
       "class": "ReLU",
       "kargs": {
        "inplace": true
       }
      },
      {
       "class": "BatchNorm2d",
       "kargs": {
        "num_features": 256
       }
      },
      {
       "class": "Conv2d",
       "kargs": {
        "bias": true,
        "in_channels": 256,
        "kernel_size": [
         2,
         7
        ],
        "out_channels": 80,
        "padding": [
         0,
         3
        ]
       }
      },
      {
       "class": "ReLU",
       "kargs": {
        "inplace": true
       }
      },
      {
       "class": "BatchNorm2d",
       "kargs": {
        "num_features": 80
       }
      },
      {
       "class": "Flatten",
       "kargs": {}
      },
      {
       "class": "Linear",
       "kargs": {
        "in_features": 20480,
        "out_features": 256
       }
      },
      {
       "class": "ReLU",
       "kargs": {
        "inplace": true
       }
      },
      {
       "class": "BatchNorm1d",
       "kargs": {
        "num_features": 256
       }
      },
      {
       "class": "Linear",
       "kargs": {
        "in_features": 256,
        "out_features": 256
       }
      }
     ]
    }
   },
   "start_time": "2022-03-21T12:43:14.150321",
   "version": "2.3.4"
  }
 },
 "nbformat": 4,
 "nbformat_minor": 5
}