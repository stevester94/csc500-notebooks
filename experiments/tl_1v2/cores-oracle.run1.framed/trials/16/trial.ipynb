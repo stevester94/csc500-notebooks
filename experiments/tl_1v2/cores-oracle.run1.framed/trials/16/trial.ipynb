{
 "cells": [
  {
   "cell_type": "markdown",
   "id": "9fea5f46",
   "metadata": {
    "papermill": {
     "duration": 0.028996,
     "end_time": "2022-03-21T11:32:37.985794",
     "exception": false,
     "start_time": "2022-03-21T11:32:37.956798",
     "status": "completed"
    },
    "tags": []
   },
   "source": [
    "# Transfer Learning Template"
   ]
  },
  {
   "cell_type": "code",
   "execution_count": 1,
   "id": "0902182a",
   "metadata": {
    "execution": {
     "iopub.execute_input": "2022-03-21T11:32:38.045649Z",
     "iopub.status.busy": "2022-03-21T11:32:38.044787Z",
     "iopub.status.idle": "2022-03-21T11:32:39.876005Z",
     "shell.execute_reply": "2022-03-21T11:32:39.876683Z"
    },
    "papermill": {
     "duration": 1.869576,
     "end_time": "2022-03-21T11:32:39.877040",
     "exception": false,
     "start_time": "2022-03-21T11:32:38.007464",
     "status": "completed"
    },
    "tags": []
   },
   "outputs": [],
   "source": [
    "%load_ext autoreload\n",
    "%autoreload 2\n",
    "%matplotlib inline\n",
    "\n",
    "    \n",
    "import os, json, sys, time, random\n",
    "import numpy as np\n",
    "import torch\n",
    "from torch.optim import Adam\n",
    "from  easydict import EasyDict\n",
    "import matplotlib.pyplot as plt\n",
    "\n",
    "from steves_models.steves_ptn import Steves_Prototypical_Network\n",
    "\n",
    "from steves_utils.lazy_iterable_wrapper import Lazy_Iterable_Wrapper\n",
    "from steves_utils.iterable_aggregator import Iterable_Aggregator\n",
    "from steves_utils.ptn_train_eval_test_jig import  PTN_Train_Eval_Test_Jig\n",
    "from steves_utils.torch_sequential_builder import build_sequential\n",
    "from steves_utils.torch_utils import get_dataset_metrics, ptn_confusion_by_domain_over_dataloader\n",
    "from steves_utils.utils_v2 import (per_domain_accuracy_from_confusion, get_datasets_base_path)\n",
    "from steves_utils.PTN.utils import independent_accuracy_assesment\n",
    "\n",
    "from torch.utils.data import DataLoader\n",
    "\n",
    "from steves_utils.stratified_dataset.episodic_accessor import Episodic_Accessor_Factory\n",
    "\n",
    "from steves_utils.ptn_do_report import (\n",
    "    get_loss_curve,\n",
    "    get_results_table,\n",
    "    get_parameters_table,\n",
    "    get_domain_accuracies,\n",
    ")\n",
    "\n",
    "from steves_utils.transforms import get_chained_transform"
   ]
  },
  {
   "cell_type": "markdown",
   "id": "41c840b4",
   "metadata": {
    "papermill": {
     "duration": 0.018623,
     "end_time": "2022-03-21T11:32:39.918919",
     "exception": false,
     "start_time": "2022-03-21T11:32:39.900296",
     "status": "completed"
    },
    "tags": []
   },
   "source": [
    "# Allowed Parameters\n",
    "These are allowed parameters, not defaults\n",
    "Each of these values need to be present in the injected parameters (the notebook will raise an exception if they are not present)\n",
    "\n",
    "Papermill uses the cell tag \"parameters\" to inject the real parameters below this cell.\n",
    "Enable tags to see what I mean"
   ]
  },
  {
   "cell_type": "code",
   "execution_count": 2,
   "id": "fd44eb83",
   "metadata": {
    "execution": {
     "iopub.execute_input": "2022-03-21T11:32:39.961136Z",
     "iopub.status.busy": "2022-03-21T11:32:39.960571Z",
     "iopub.status.idle": "2022-03-21T11:32:39.982616Z",
     "shell.execute_reply": "2022-03-21T11:32:39.983277Z"
    },
    "papermill": {
     "duration": 0.045906,
     "end_time": "2022-03-21T11:32:39.983455",
     "exception": false,
     "start_time": "2022-03-21T11:32:39.937549",
     "status": "completed"
    },
    "tags": []
   },
   "outputs": [],
   "source": [
    "required_parameters = {\n",
    "    \"experiment_name\",\n",
    "    \"lr\",\n",
    "    \"device\",\n",
    "    \"seed\",\n",
    "    \"dataset_seed\",\n",
    "    \"n_shot\",\n",
    "    \"n_query\",\n",
    "    \"n_way\",\n",
    "    \"train_k_factor\",\n",
    "    \"val_k_factor\",\n",
    "    \"test_k_factor\",\n",
    "    \"n_epoch\",\n",
    "    \"patience\",\n",
    "    \"criteria_for_best\",\n",
    "    \"x_net\",\n",
    "    \"datasets\",\n",
    "    \"torch_default_dtype\",\n",
    "    \"NUM_LOGS_PER_EPOCH\",\n",
    "    \"BEST_MODEL_PATH\",\n",
    "    \"x_shape\",\n",
    "}"
   ]
  },
  {
   "cell_type": "code",
   "execution_count": 3,
   "id": "fa3f0049",
   "metadata": {
    "execution": {
     "iopub.execute_input": "2022-03-21T11:32:40.039414Z",
     "iopub.status.busy": "2022-03-21T11:32:40.038802Z",
     "iopub.status.idle": "2022-03-21T11:32:40.058482Z",
     "shell.execute_reply": "2022-03-21T11:32:40.057786Z"
    },
    "papermill": {
     "duration": 0.047617,
     "end_time": "2022-03-21T11:32:40.058631",
     "exception": false,
     "start_time": "2022-03-21T11:32:40.011014",
     "status": "completed"
    },
    "tags": [
     "parameters"
    ]
   },
   "outputs": [],
   "source": [
    "from steves_utils.CORES.utils import (\n",
    "    ALL_NODES,\n",
    "    ALL_NODES_MINIMUM_1000_EXAMPLES,\n",
    "    ALL_DAYS\n",
    ")\n",
    "\n",
    "from steves_utils.ORACLE.utils_v2 import (\n",
    "    ALL_DISTANCES_FEET_NARROWED,\n",
    "    ALL_RUNS,\n",
    "    ALL_SERIAL_NUMBERS,\n",
    ")\n",
    "\n",
    "standalone_parameters = {}\n",
    "standalone_parameters[\"experiment_name\"] = \"STANDALONE PTN\"\n",
    "standalone_parameters[\"lr\"] = 0.001\n",
    "standalone_parameters[\"device\"] = \"cuda\"\n",
    "\n",
    "standalone_parameters[\"seed\"] = 1337\n",
    "standalone_parameters[\"dataset_seed\"] = 1337\n",
    "\n",
    "standalone_parameters[\"n_way\"] = 8\n",
    "standalone_parameters[\"n_shot\"] = 3\n",
    "standalone_parameters[\"n_query\"]  = 2\n",
    "standalone_parameters[\"train_k_factor\"] = 1\n",
    "standalone_parameters[\"val_k_factor\"] = 2\n",
    "standalone_parameters[\"test_k_factor\"] = 2\n",
    "\n",
    "\n",
    "standalone_parameters[\"n_epoch\"] = 50\n",
    "\n",
    "standalone_parameters[\"patience\"] = 10\n",
    "standalone_parameters[\"criteria_for_best\"] = \"source_loss\"\n",
    "\n",
    "standalone_parameters[\"datasets\"] = [\n",
    "    {\n",
    "        \"labels\": ALL_SERIAL_NUMBERS,\n",
    "        \"domains\": ALL_DISTANCES_FEET_NARROWED,\n",
    "        \"num_examples_per_domain_per_label\": 100,\n",
    "        \"pickle_path\": os.path.join(get_datasets_base_path(), \"oracle.Run1_framed_2000Examples_stratified_ds.2022A.pkl\"),\n",
    "        \"source_or_target_dataset\": \"source\",\n",
    "        \"x_transforms\": [\"unit_mag\", \"minus_two\"],\n",
    "        \"episode_transforms\": [],\n",
    "        \"domain_prefix\": \"ORACLE_\"\n",
    "    },\n",
    "    {\n",
    "        \"labels\": ALL_NODES,\n",
    "        \"domains\": ALL_DAYS,\n",
    "        \"num_examples_per_domain_per_label\": 100,\n",
    "        \"pickle_path\": os.path.join(get_datasets_base_path(), \"cores.stratified_ds.2022A.pkl\"),\n",
    "        \"source_or_target_dataset\": \"target\",\n",
    "        \"x_transforms\": [\"unit_power\", \"times_zero\"],\n",
    "        \"episode_transforms\": [],\n",
    "        \"domain_prefix\": \"CORES_\"\n",
    "    }   \n",
    "]\n",
    "\n",
    "standalone_parameters[\"torch_default_dtype\"] = \"torch.float32\" \n",
    "\n",
    "\n",
    "\n",
    "standalone_parameters[\"x_net\"] =     [\n",
    "    {\"class\": \"nnReshape\", \"kargs\": {\"shape\":[-1, 1, 2, 256]}},\n",
    "    {\"class\": \"Conv2d\", \"kargs\": { \"in_channels\":1, \"out_channels\":256, \"kernel_size\":(1,7), \"bias\":False, \"padding\":(0,3), },},\n",
    "    {\"class\": \"ReLU\", \"kargs\": {\"inplace\": True}},\n",
    "    {\"class\": \"BatchNorm2d\", \"kargs\": {\"num_features\":256}},\n",
    "\n",
    "    {\"class\": \"Conv2d\", \"kargs\": { \"in_channels\":256, \"out_channels\":80, \"kernel_size\":(2,7), \"bias\":True, \"padding\":(0,3), },},\n",
    "    {\"class\": \"ReLU\", \"kargs\": {\"inplace\": True}},\n",
    "    {\"class\": \"BatchNorm2d\", \"kargs\": {\"num_features\":80}},\n",
    "    {\"class\": \"Flatten\", \"kargs\": {}},\n",
    "\n",
    "    {\"class\": \"Linear\", \"kargs\": {\"in_features\": 80*256, \"out_features\": 256}}, # 80 units per IQ pair\n",
    "    {\"class\": \"ReLU\", \"kargs\": {\"inplace\": True}},\n",
    "    {\"class\": \"BatchNorm1d\", \"kargs\": {\"num_features\":256}},\n",
    "\n",
    "    {\"class\": \"Linear\", \"kargs\": {\"in_features\": 256, \"out_features\": 256}},\n",
    "]\n",
    "\n",
    "# Parameters relevant to results\n",
    "# These parameters will basically never need to change\n",
    "standalone_parameters[\"NUM_LOGS_PER_EPOCH\"] = 10\n",
    "standalone_parameters[\"BEST_MODEL_PATH\"] = \"./best_model.pth\"\n",
    "\n",
    "\n",
    "\n",
    "\n"
   ]
  },
  {
   "cell_type": "code",
   "execution_count": 4,
   "id": "d2b0e76a",
   "metadata": {
    "execution": {
     "iopub.execute_input": "2022-03-21T11:32:40.107804Z",
     "iopub.status.busy": "2022-03-21T11:32:40.102112Z",
     "iopub.status.idle": "2022-03-21T11:32:40.134192Z",
     "shell.execute_reply": "2022-03-21T11:32:40.133401Z"
    },
    "papermill": {
     "duration": 0.053122,
     "end_time": "2022-03-21T11:32:40.134343",
     "exception": false,
     "start_time": "2022-03-21T11:32:40.081221",
     "status": "completed"
    },
    "tags": [
     "injected-parameters"
    ]
   },
   "outputs": [],
   "source": [
    "# Parameters\n",
    "parameters = {\n",
    "    \"experiment_name\": \"tl_1v2:cores-oracle.run1.framed\",\n",
    "    \"device\": \"cuda\",\n",
    "    \"lr\": 0.0001,\n",
    "    \"n_shot\": 3,\n",
    "    \"n_query\": 2,\n",
    "    \"train_k_factor\": 3,\n",
    "    \"val_k_factor\": 2,\n",
    "    \"test_k_factor\": 2,\n",
    "    \"torch_default_dtype\": \"torch.float32\",\n",
    "    \"n_epoch\": 50,\n",
    "    \"patience\": 3,\n",
    "    \"criteria_for_best\": \"target_accuracy\",\n",
    "    \"x_net\": [\n",
    "        {\"class\": \"nnReshape\", \"kargs\": {\"shape\": [-1, 1, 2, 256]}},\n",
    "        {\n",
    "            \"class\": \"Conv2d\",\n",
    "            \"kargs\": {\n",
    "                \"in_channels\": 1,\n",
    "                \"out_channels\": 256,\n",
    "                \"kernel_size\": [1, 7],\n",
    "                \"bias\": False,\n",
    "                \"padding\": [0, 3],\n",
    "            },\n",
    "        },\n",
    "        {\"class\": \"ReLU\", \"kargs\": {\"inplace\": True}},\n",
    "        {\"class\": \"BatchNorm2d\", \"kargs\": {\"num_features\": 256}},\n",
    "        {\n",
    "            \"class\": \"Conv2d\",\n",
    "            \"kargs\": {\n",
    "                \"in_channels\": 256,\n",
    "                \"out_channels\": 80,\n",
    "                \"kernel_size\": [2, 7],\n",
    "                \"bias\": True,\n",
    "                \"padding\": [0, 3],\n",
    "            },\n",
    "        },\n",
    "        {\"class\": \"ReLU\", \"kargs\": {\"inplace\": True}},\n",
    "        {\"class\": \"BatchNorm2d\", \"kargs\": {\"num_features\": 80}},\n",
    "        {\"class\": \"Flatten\", \"kargs\": {}},\n",
    "        {\"class\": \"Linear\", \"kargs\": {\"in_features\": 20480, \"out_features\": 256}},\n",
    "        {\"class\": \"ReLU\", \"kargs\": {\"inplace\": True}},\n",
    "        {\"class\": \"BatchNorm1d\", \"kargs\": {\"num_features\": 256}},\n",
    "        {\"class\": \"Linear\", \"kargs\": {\"in_features\": 256, \"out_features\": 256}},\n",
    "    ],\n",
    "    \"NUM_LOGS_PER_EPOCH\": 10,\n",
    "    \"BEST_MODEL_PATH\": \"./best_model.pth\",\n",
    "    \"n_way\": 16,\n",
    "    \"datasets\": [\n",
    "        {\n",
    "            \"labels\": [\n",
    "                \"1-10.\",\n",
    "                \"1-11.\",\n",
    "                \"1-15.\",\n",
    "                \"1-16.\",\n",
    "                \"1-17.\",\n",
    "                \"1-18.\",\n",
    "                \"1-19.\",\n",
    "                \"10-4.\",\n",
    "                \"10-7.\",\n",
    "                \"11-1.\",\n",
    "                \"11-14.\",\n",
    "                \"11-17.\",\n",
    "                \"11-20.\",\n",
    "                \"11-7.\",\n",
    "                \"13-20.\",\n",
    "                \"13-8.\",\n",
    "                \"14-10.\",\n",
    "                \"14-11.\",\n",
    "                \"14-14.\",\n",
    "                \"14-7.\",\n",
    "                \"15-1.\",\n",
    "                \"15-20.\",\n",
    "                \"16-1.\",\n",
    "                \"16-16.\",\n",
    "                \"17-10.\",\n",
    "                \"17-11.\",\n",
    "                \"17-2.\",\n",
    "                \"19-1.\",\n",
    "                \"19-16.\",\n",
    "                \"19-19.\",\n",
    "                \"19-20.\",\n",
    "                \"19-3.\",\n",
    "                \"2-10.\",\n",
    "                \"2-11.\",\n",
    "                \"2-17.\",\n",
    "                \"2-18.\",\n",
    "                \"2-20.\",\n",
    "                \"2-3.\",\n",
    "                \"2-4.\",\n",
    "                \"2-5.\",\n",
    "                \"2-6.\",\n",
    "                \"2-7.\",\n",
    "                \"2-8.\",\n",
    "                \"3-13.\",\n",
    "                \"3-18.\",\n",
    "                \"3-3.\",\n",
    "                \"4-1.\",\n",
    "                \"4-10.\",\n",
    "                \"4-11.\",\n",
    "                \"4-19.\",\n",
    "                \"5-5.\",\n",
    "                \"6-15.\",\n",
    "                \"7-10.\",\n",
    "                \"7-14.\",\n",
    "                \"8-18.\",\n",
    "                \"8-20.\",\n",
    "                \"8-3.\",\n",
    "                \"8-8.\",\n",
    "            ],\n",
    "            \"domains\": [1, 2, 3, 4, 5],\n",
    "            \"num_examples_per_domain_per_label\": -1,\n",
    "            \"pickle_path\": \"/root/csc500-main/datasets/cores.stratified_ds.2022A.pkl\",\n",
    "            \"source_or_target_dataset\": \"target\",\n",
    "            \"x_transforms\": [\"unit_mag\"],\n",
    "            \"episode_transforms\": [],\n",
    "            \"domain_prefix\": \"CORES_\",\n",
    "        },\n",
    "        {\n",
    "            \"labels\": [\n",
    "                \"3123D52\",\n",
    "                \"3123D65\",\n",
    "                \"3123D79\",\n",
    "                \"3123D80\",\n",
    "                \"3123D54\",\n",
    "                \"3123D70\",\n",
    "                \"3123D7B\",\n",
    "                \"3123D89\",\n",
    "                \"3123D58\",\n",
    "                \"3123D76\",\n",
    "                \"3123D7D\",\n",
    "                \"3123EFE\",\n",
    "                \"3123D64\",\n",
    "                \"3123D78\",\n",
    "                \"3123D7E\",\n",
    "                \"3124E4A\",\n",
    "            ],\n",
    "            \"domains\": [32, 38, 8, 44, 14, 50, 20, 26],\n",
    "            \"num_examples_per_domain_per_label\": 2000,\n",
    "            \"pickle_path\": \"/root/csc500-main/datasets/oracle.Run1_framed_2000Examples_stratified_ds.2022A.pkl\",\n",
    "            \"source_or_target_dataset\": \"source\",\n",
    "            \"x_transforms\": [\"unit_mag\"],\n",
    "            \"episode_transforms\": [],\n",
    "            \"domain_prefix\": \"ORACLE.run1_\",\n",
    "        },\n",
    "    ],\n",
    "    \"dataset_seed\": 154325,\n",
    "    \"seed\": 154325,\n",
    "}\n"
   ]
  },
  {
   "cell_type": "code",
   "execution_count": 5,
   "id": "8fa1cc33",
   "metadata": {
    "execution": {
     "iopub.execute_input": "2022-03-21T11:32:40.181788Z",
     "iopub.status.busy": "2022-03-21T11:32:40.181419Z",
     "iopub.status.idle": "2022-03-21T11:32:40.199005Z",
     "shell.execute_reply": "2022-03-21T11:32:40.198310Z"
    },
    "papermill": {
     "duration": 0.040421,
     "end_time": "2022-03-21T11:32:40.199156",
     "exception": false,
     "start_time": "2022-03-21T11:32:40.158735",
     "status": "completed"
    },
    "tags": []
   },
   "outputs": [],
   "source": [
    "# Set this to True if you want to run this template directly\n",
    "STANDALONE = False\n",
    "if STANDALONE:\n",
    "    print(\"parameters not injected, running with standalone_parameters\")\n",
    "    parameters = standalone_parameters\n",
    "\n",
    "if not 'parameters' in locals() and not 'parameters' in globals():\n",
    "    raise Exception(\"Parameter injection failed\")\n",
    "\n",
    "#Use an easy dict for all the parameters\n",
    "p = EasyDict(parameters)\n",
    "\n",
    "if \"x_shape\" not in p:\n",
    "    p.x_shape = [2,256] # Default to this if we dont supply x_shape\n",
    "\n",
    "\n",
    "supplied_keys = set(p.keys())\n",
    "\n",
    "if  supplied_keys != required_parameters:\n",
    "    print(\"Parameters are incorrect\")\n",
    "    if len(supplied_keys - required_parameters)>0: print(\"Shouldn't have:\", str(supplied_keys - required_parameters))\n",
    "    if len(required_parameters - supplied_keys)>0: print(\"Need to have:\", str(required_parameters - supplied_keys))\n",
    "    raise RuntimeError(\"Parameters are incorrect\")"
   ]
  },
  {
   "cell_type": "code",
   "execution_count": 6,
   "id": "3a028d58",
   "metadata": {
    "execution": {
     "iopub.execute_input": "2022-03-21T11:32:40.246895Z",
     "iopub.status.busy": "2022-03-21T11:32:40.246312Z",
     "iopub.status.idle": "2022-03-21T11:32:40.263733Z",
     "shell.execute_reply": "2022-03-21T11:32:40.263042Z"
    },
    "papermill": {
     "duration": 0.038889,
     "end_time": "2022-03-21T11:32:40.263891",
     "exception": false,
     "start_time": "2022-03-21T11:32:40.225002",
     "status": "completed"
    },
    "tags": []
   },
   "outputs": [],
   "source": [
    "###################################\n",
    "# Set the RNGs and make it all deterministic\n",
    "###################################\n",
    "np.random.seed(p.seed)\n",
    "random.seed(p.seed)\n",
    "torch.manual_seed(p.seed)\n",
    "\n",
    "torch.use_deterministic_algorithms(True) "
   ]
  },
  {
   "cell_type": "code",
   "execution_count": 7,
   "id": "b691acf6",
   "metadata": {
    "execution": {
     "iopub.execute_input": "2022-03-21T11:32:40.309566Z",
     "iopub.status.busy": "2022-03-21T11:32:40.309208Z",
     "iopub.status.idle": "2022-03-21T11:32:40.331340Z",
     "shell.execute_reply": "2022-03-21T11:32:40.332056Z"
    },
    "papermill": {
     "duration": 0.045222,
     "end_time": "2022-03-21T11:32:40.332235",
     "exception": false,
     "start_time": "2022-03-21T11:32:40.287013",
     "status": "completed"
    },
    "tags": []
   },
   "outputs": [],
   "source": [
    "###########################################\n",
    "# The stratified datasets honor this\n",
    "###########################################\n",
    "torch.set_default_dtype(eval(p.torch_default_dtype))"
   ]
  },
  {
   "cell_type": "code",
   "execution_count": 8,
   "id": "b5fba671",
   "metadata": {
    "execution": {
     "iopub.execute_input": "2022-03-21T11:32:40.378550Z",
     "iopub.status.busy": "2022-03-21T11:32:40.378007Z",
     "iopub.status.idle": "2022-03-21T11:32:40.427332Z",
     "shell.execute_reply": "2022-03-21T11:32:40.428019Z"
    },
    "papermill": {
     "duration": 0.07076,
     "end_time": "2022-03-21T11:32:40.428195",
     "exception": false,
     "start_time": "2022-03-21T11:32:40.357435",
     "status": "completed"
    },
    "tags": []
   },
   "outputs": [],
   "source": [
    "###################################\n",
    "# Build the network(s)\n",
    "# Note: It's critical to do this AFTER setting the RNG\n",
    "###################################\n",
    "x_net = build_sequential(p.x_net)"
   ]
  },
  {
   "cell_type": "code",
   "execution_count": 9,
   "id": "5d7e61cc",
   "metadata": {
    "execution": {
     "iopub.execute_input": "2022-03-21T11:32:40.479148Z",
     "iopub.status.busy": "2022-03-21T11:32:40.478729Z",
     "iopub.status.idle": "2022-03-21T11:32:40.503224Z",
     "shell.execute_reply": "2022-03-21T11:32:40.502531Z"
    },
    "papermill": {
     "duration": 0.047496,
     "end_time": "2022-03-21T11:32:40.503376",
     "exception": false,
     "start_time": "2022-03-21T11:32:40.455880",
     "status": "completed"
    },
    "tags": []
   },
   "outputs": [],
   "source": [
    "start_time_secs = time.time()"
   ]
  },
  {
   "cell_type": "code",
   "execution_count": 10,
   "id": "c6b67dfd",
   "metadata": {
    "execution": {
     "iopub.execute_input": "2022-03-21T11:32:40.553925Z",
     "iopub.status.busy": "2022-03-21T11:32:40.553383Z",
     "iopub.status.idle": "2022-03-21T11:32:40.573776Z",
     "shell.execute_reply": "2022-03-21T11:32:40.573077Z"
    },
    "papermill": {
     "duration": 0.043412,
     "end_time": "2022-03-21T11:32:40.573927",
     "exception": false,
     "start_time": "2022-03-21T11:32:40.530515",
     "status": "completed"
    },
    "tags": []
   },
   "outputs": [],
   "source": [
    "p.domains_source = []\n",
    "p.domains_target = []\n",
    "\n",
    "\n",
    "train_original_source = []\n",
    "val_original_source   = []\n",
    "test_original_source  = []\n",
    "\n",
    "train_original_target = []\n",
    "val_original_target   = []\n",
    "test_original_target  = []"
   ]
  },
  {
   "cell_type": "code",
   "execution_count": 11,
   "id": "e3d9c3d3",
   "metadata": {
    "execution": {
     "iopub.execute_input": "2022-03-21T11:32:40.622860Z",
     "iopub.status.busy": "2022-03-21T11:32:40.622501Z",
     "iopub.status.idle": "2022-03-21T11:32:40.643559Z",
     "shell.execute_reply": "2022-03-21T11:32:40.644197Z"
    },
    "papermill": {
     "duration": 0.043684,
     "end_time": "2022-03-21T11:32:40.644378",
     "exception": false,
     "start_time": "2022-03-21T11:32:40.600694",
     "status": "completed"
    },
    "tags": []
   },
   "outputs": [],
   "source": [
    "# global_x_transform_func = lambda x: normalize(x.to(torch.get_default_dtype()), \"unit_power\") # unit_power, unit_mag\n",
    "# global_x_transform_func = lambda x: normalize(x, \"unit_power\") # unit_power, unit_mag"
   ]
  },
  {
   "cell_type": "code",
   "execution_count": 12,
   "id": "acb78fd2",
   "metadata": {
    "execution": {
     "iopub.execute_input": "2022-03-21T11:32:40.698226Z",
     "iopub.status.busy": "2022-03-21T11:32:40.697654Z",
     "iopub.status.idle": "2022-03-21T11:32:40.714285Z",
     "shell.execute_reply": "2022-03-21T11:32:40.714948Z"
    },
    "papermill": {
     "duration": 0.047796,
     "end_time": "2022-03-21T11:32:40.715125",
     "exception": false,
     "start_time": "2022-03-21T11:32:40.667329",
     "status": "completed"
    },
    "tags": []
   },
   "outputs": [],
   "source": [
    "def add_dataset(\n",
    "    labels,\n",
    "    domains,\n",
    "    pickle_path,\n",
    "    x_transforms,\n",
    "    episode_transforms,\n",
    "    domain_prefix,\n",
    "    num_examples_per_domain_per_label,\n",
    "    source_or_target_dataset:str,\n",
    "    iterator_seed=p.seed,\n",
    "    dataset_seed=p.dataset_seed,\n",
    "    n_shot=p.n_shot,\n",
    "    n_way=p.n_way,\n",
    "    n_query=p.n_query,\n",
    "    train_val_test_k_factors=(p.train_k_factor,p.val_k_factor,p.test_k_factor),\n",
    "):\n",
    "   \n",
    "    if x_transforms == []: x_transform = None\n",
    "    else: x_transform = get_chained_transform(x_transforms)\n",
    "    \n",
    "    if episode_transforms == []: episode_transform = None\n",
    "    else: raise Exception(\"episode_transforms not implemented\")\n",
    "    \n",
    "    episode_transform = lambda tup, _prefix=domain_prefix: (_prefix + str(tup[0]), tup[1])\n",
    "\n",
    "\n",
    "    eaf = Episodic_Accessor_Factory(\n",
    "        labels=labels,\n",
    "        domains=domains,\n",
    "        num_examples_per_domain_per_label=num_examples_per_domain_per_label,\n",
    "        iterator_seed=iterator_seed,\n",
    "        dataset_seed=dataset_seed,\n",
    "        n_shot=n_shot,\n",
    "        n_way=n_way,\n",
    "        n_query=n_query,\n",
    "        train_val_test_k_factors=train_val_test_k_factors,\n",
    "        pickle_path=pickle_path,\n",
    "        x_transform_func=x_transform,\n",
    "    )\n",
    "\n",
    "    train, val, test = eaf.get_train(), eaf.get_val(), eaf.get_test()\n",
    "    train = Lazy_Iterable_Wrapper(train, episode_transform)\n",
    "    val = Lazy_Iterable_Wrapper(val, episode_transform)\n",
    "    test = Lazy_Iterable_Wrapper(test, episode_transform)\n",
    "\n",
    "    if source_or_target_dataset==\"source\":\n",
    "        train_original_source.append(train)\n",
    "        val_original_source.append(val)\n",
    "        test_original_source.append(test)\n",
    "\n",
    "        p.domains_source.extend(\n",
    "            [domain_prefix + str(u) for u in domains]\n",
    "        )\n",
    "    elif source_or_target_dataset==\"target\":\n",
    "        train_original_target.append(train)\n",
    "        val_original_target.append(val)\n",
    "        test_original_target.append(test)\n",
    "        p.domains_target.extend(\n",
    "            [domain_prefix + str(u) for u in domains]\n",
    "        )\n",
    "    else:\n",
    "        raise Exception(f\"invalid source_or_target_dataset: {source_or_target_dataset}\")\n",
    "    "
   ]
  },
  {
   "cell_type": "code",
   "execution_count": 13,
   "id": "fe266617",
   "metadata": {
    "execution": {
     "iopub.execute_input": "2022-03-21T11:32:40.766362Z",
     "iopub.status.busy": "2022-03-21T11:32:40.766006Z",
     "iopub.status.idle": "2022-03-21T11:33:22.175905Z",
     "shell.execute_reply": "2022-03-21T11:33:22.174781Z"
    },
    "papermill": {
     "duration": 41.432186,
     "end_time": "2022-03-21T11:33:22.176153",
     "exception": false,
     "start_time": "2022-03-21T11:32:40.743967",
     "status": "completed"
    },
    "tags": []
   },
   "outputs": [],
   "source": [
    "for ds in p.datasets:\n",
    "    add_dataset(**ds)"
   ]
  },
  {
   "cell_type": "code",
   "execution_count": 14,
   "id": "b90d65ac",
   "metadata": {
    "execution": {
     "iopub.execute_input": "2022-03-21T11:33:22.228140Z",
     "iopub.status.busy": "2022-03-21T11:33:22.227752Z",
     "iopub.status.idle": "2022-03-21T11:33:22.248913Z",
     "shell.execute_reply": "2022-03-21T11:33:22.248210Z"
    },
    "papermill": {
     "duration": 0.043718,
     "end_time": "2022-03-21T11:33:22.249072",
     "exception": false,
     "start_time": "2022-03-21T11:33:22.205354",
     "status": "completed"
    },
    "tags": []
   },
   "outputs": [],
   "source": [
    "# from steves_utils.CORES.utils import (\n",
    "#     ALL_NODES,\n",
    "#     ALL_NODES_MINIMUM_1000_EXAMPLES,\n",
    "#     ALL_DAYS\n",
    "# )\n",
    "\n",
    "# add_dataset(\n",
    "#     labels=ALL_NODES,\n",
    "#     domains = ALL_DAYS,\n",
    "#     num_examples_per_domain_per_label=100,\n",
    "#     pickle_path=os.path.join(get_datasets_base_path(), \"cores.stratified_ds.2022A.pkl\"),\n",
    "#     source_or_target_dataset=\"target\",\n",
    "#     x_transform_func=global_x_transform_func,\n",
    "#     domain_modifier=lambda u: f\"cores_{u}\"\n",
    "# )"
   ]
  },
  {
   "cell_type": "code",
   "execution_count": 15,
   "id": "76db484d",
   "metadata": {
    "execution": {
     "iopub.execute_input": "2022-03-21T11:33:22.300051Z",
     "iopub.status.busy": "2022-03-21T11:33:22.299681Z",
     "iopub.status.idle": "2022-03-21T11:33:22.317266Z",
     "shell.execute_reply": "2022-03-21T11:33:22.317934Z"
    },
    "papermill": {
     "duration": 0.04098,
     "end_time": "2022-03-21T11:33:22.318111",
     "exception": false,
     "start_time": "2022-03-21T11:33:22.277131",
     "status": "completed"
    },
    "tags": []
   },
   "outputs": [],
   "source": [
    "# from steves_utils.ORACLE.utils_v2 import (\n",
    "#     ALL_DISTANCES_FEET,\n",
    "#     ALL_RUNS,\n",
    "#     ALL_SERIAL_NUMBERS,\n",
    "# )\n",
    "\n",
    "\n",
    "# add_dataset(\n",
    "#     labels=ALL_SERIAL_NUMBERS,\n",
    "#     domains = list(set(ALL_DISTANCES_FEET) - {2,62}),\n",
    "#     num_examples_per_domain_per_label=100,\n",
    "#     pickle_path=os.path.join(get_datasets_base_path(), \"oracle.Run2_framed_2000Examples_stratified_ds.2022A.pkl\"),\n",
    "#     source_or_target_dataset=\"source\",\n",
    "#     x_transform_func=global_x_transform_func,\n",
    "#     domain_modifier=lambda u: f\"oracle1_{u}\"\n",
    "# )\n"
   ]
  },
  {
   "cell_type": "code",
   "execution_count": 16,
   "id": "97dea9d2",
   "metadata": {
    "execution": {
     "iopub.execute_input": "2022-03-21T11:33:22.367486Z",
     "iopub.status.busy": "2022-03-21T11:33:22.367114Z",
     "iopub.status.idle": "2022-03-21T11:33:22.389940Z",
     "shell.execute_reply": "2022-03-21T11:33:22.389139Z"
    },
    "papermill": {
     "duration": 0.046262,
     "end_time": "2022-03-21T11:33:22.390093",
     "exception": false,
     "start_time": "2022-03-21T11:33:22.343831",
     "status": "completed"
    },
    "tags": []
   },
   "outputs": [],
   "source": [
    "# from steves_utils.ORACLE.utils_v2 import (\n",
    "#     ALL_DISTANCES_FEET,\n",
    "#     ALL_RUNS,\n",
    "#     ALL_SERIAL_NUMBERS,\n",
    "# )\n",
    "\n",
    "\n",
    "# add_dataset(\n",
    "#     labels=ALL_SERIAL_NUMBERS,\n",
    "#     domains = list(set(ALL_DISTANCES_FEET) - {2,62,56}),\n",
    "#     num_examples_per_domain_per_label=100,\n",
    "#     pickle_path=os.path.join(get_datasets_base_path(), \"oracle.Run2_framed_2000Examples_stratified_ds.2022A.pkl\"),\n",
    "#     source_or_target_dataset=\"source\",\n",
    "#     x_transform_func=global_x_transform_func,\n",
    "#     domain_modifier=lambda u: f\"oracle2_{u}\"\n",
    "# )"
   ]
  },
  {
   "cell_type": "code",
   "execution_count": 17,
   "id": "6f289866",
   "metadata": {
    "execution": {
     "iopub.execute_input": "2022-03-21T11:33:22.438634Z",
     "iopub.status.busy": "2022-03-21T11:33:22.438268Z",
     "iopub.status.idle": "2022-03-21T11:33:22.455817Z",
     "shell.execute_reply": "2022-03-21T11:33:22.455075Z"
    },
    "papermill": {
     "duration": 0.040036,
     "end_time": "2022-03-21T11:33:22.455970",
     "exception": false,
     "start_time": "2022-03-21T11:33:22.415934",
     "status": "completed"
    },
    "tags": []
   },
   "outputs": [],
   "source": [
    "# add_dataset(\n",
    "#     labels=list(range(19)),\n",
    "#     domains = [0,1,2],\n",
    "#     num_examples_per_domain_per_label=100,\n",
    "#     pickle_path=os.path.join(get_datasets_base_path(), \"metehan.stratified_ds.2022A.pkl\"),\n",
    "#     source_or_target_dataset=\"target\",\n",
    "#     x_transform_func=global_x_transform_func,\n",
    "#     domain_modifier=lambda u: f\"met_{u}\"\n",
    "# )"
   ]
  },
  {
   "cell_type": "code",
   "execution_count": 18,
   "id": "86a863c3",
   "metadata": {
    "execution": {
     "iopub.execute_input": "2022-03-21T11:33:22.506802Z",
     "iopub.status.busy": "2022-03-21T11:33:22.506431Z",
     "iopub.status.idle": "2022-03-21T11:33:22.527594Z",
     "shell.execute_reply": "2022-03-21T11:33:22.526840Z"
    },
    "papermill": {
     "duration": 0.044519,
     "end_time": "2022-03-21T11:33:22.527746",
     "exception": false,
     "start_time": "2022-03-21T11:33:22.483227",
     "status": "completed"
    },
    "tags": []
   },
   "outputs": [],
   "source": [
    "# # from steves_utils.wisig.utils import (\n",
    "# #     ALL_NODES_MINIMUM_100_EXAMPLES,\n",
    "# #     ALL_NODES_MINIMUM_500_EXAMPLES,\n",
    "# #     ALL_NODES_MINIMUM_1000_EXAMPLES,\n",
    "# #     ALL_DAYS\n",
    "# # )\n",
    "\n",
    "# import steves_utils.wisig.utils as wisig\n",
    "\n",
    "\n",
    "# add_dataset(\n",
    "#     labels=wisig.ALL_NODES_MINIMUM_100_EXAMPLES,\n",
    "#     domains = wisig.ALL_DAYS,\n",
    "#     num_examples_per_domain_per_label=100,\n",
    "#     pickle_path=os.path.join(get_datasets_base_path(), \"wisig.node3-19.stratified_ds.2022A.pkl\"),\n",
    "#     source_or_target_dataset=\"target\",\n",
    "#     x_transform_func=global_x_transform_func,\n",
    "#     domain_modifier=lambda u: f\"wisig_{u}\"\n",
    "# )"
   ]
  },
  {
   "cell_type": "code",
   "execution_count": 19,
   "id": "fd5442bc",
   "metadata": {
    "execution": {
     "iopub.execute_input": "2022-03-21T11:33:22.580500Z",
     "iopub.status.busy": "2022-03-21T11:33:22.579991Z",
     "iopub.status.idle": "2022-03-21T11:33:22.600677Z",
     "shell.execute_reply": "2022-03-21T11:33:22.599978Z"
    },
    "papermill": {
     "duration": 0.047731,
     "end_time": "2022-03-21T11:33:22.600828",
     "exception": false,
     "start_time": "2022-03-21T11:33:22.553097",
     "status": "completed"
    },
    "tags": []
   },
   "outputs": [],
   "source": [
    "###################################\n",
    "# Build the dataset\n",
    "###################################\n",
    "train_original_source = Iterable_Aggregator(train_original_source, p.seed)\n",
    "val_original_source = Iterable_Aggregator(val_original_source, p.seed)\n",
    "test_original_source = Iterable_Aggregator(test_original_source, p.seed)\n",
    "\n",
    "\n",
    "train_original_target = Iterable_Aggregator(train_original_target, p.seed)\n",
    "val_original_target = Iterable_Aggregator(val_original_target, p.seed)\n",
    "test_original_target = Iterable_Aggregator(test_original_target, p.seed)\n",
    "\n",
    "# For CNN We only use X and Y. And we only train on the source.\n",
    "# Properly form the data using a transform lambda and Lazy_Iterable_Wrapper. Finally wrap them in a dataloader\n",
    "\n",
    "transform_lambda = lambda ex: ex[1] # Original is (<domain>, <episode>) so we strip down to episode only\n",
    "\n",
    "train_processed_source = Lazy_Iterable_Wrapper(train_original_source, transform_lambda)\n",
    "val_processed_source   = Lazy_Iterable_Wrapper(val_original_source, transform_lambda)\n",
    "test_processed_source  = Lazy_Iterable_Wrapper(test_original_source, transform_lambda)\n",
    "\n",
    "train_processed_target = Lazy_Iterable_Wrapper(train_original_target, transform_lambda)\n",
    "val_processed_target   = Lazy_Iterable_Wrapper(val_original_target, transform_lambda)\n",
    "test_processed_target  = Lazy_Iterable_Wrapper(test_original_target, transform_lambda)\n",
    "\n",
    "datasets = EasyDict({\n",
    "    \"source\": {\n",
    "        \"original\": {\"train\":train_original_source, \"val\":val_original_source, \"test\":test_original_source},\n",
    "        \"processed\": {\"train\":train_processed_source, \"val\":val_processed_source, \"test\":test_processed_source}\n",
    "    },\n",
    "    \"target\": {\n",
    "        \"original\": {\"train\":train_original_target, \"val\":val_original_target, \"test\":test_original_target},\n",
    "        \"processed\": {\"train\":train_processed_target, \"val\":val_processed_target, \"test\":test_processed_target}\n",
    "    },\n",
    "})"
   ]
  },
  {
   "cell_type": "code",
   "execution_count": 20,
   "id": "5b3c01fc",
   "metadata": {
    "execution": {
     "iopub.execute_input": "2022-03-21T11:33:22.651602Z",
     "iopub.status.busy": "2022-03-21T11:33:22.651032Z",
     "iopub.status.idle": "2022-03-21T11:33:38.166315Z",
     "shell.execute_reply": "2022-03-21T11:33:38.167485Z"
    },
    "papermill": {
     "duration": 15.542425,
     "end_time": "2022-03-21T11:33:38.167796",
     "exception": false,
     "start_time": "2022-03-21T11:33:22.625371",
     "status": "completed"
    },
    "tags": []
   },
   "outputs": [
    {
     "name": "stdout",
     "output_type": "stream",
     "text": [
      "{'ORACLE.run1_50', 'ORACLE.run1_32', 'ORACLE.run1_14', 'ORACLE.run1_8', 'ORACLE.run1_38', 'ORACLE.run1_26', 'ORACLE.run1_44', 'ORACLE.run1_20'}\n"
     ]
    },
    {
     "name": "stdout",
     "output_type": "stream",
     "text": [
      "{'CORES_4', 'CORES_1', 'CORES_2', 'CORES_3', 'CORES_5'}\n"
     ]
    },
    {
     "name": "stdout",
     "output_type": "stream",
     "text": [
      "tensor([[[-0.2017,  1.0708, -0.1873,  ..., -1.0900,  0.4802,  0.5762],\n",
      "         [-0.4225,  0.3697,  0.5234,  ..., -0.0528, -0.9699, -1.0756]],\n",
      "\n",
      "        [[ 0.0526,  1.1818, -0.3014,  ..., -0.9282, -0.0431, -0.7369],\n",
      "         [-0.4019, -0.3014,  0.6220,  ...,  0.3254, -1.2871, -0.8469]],\n",
      "\n",
      "        [[-0.6893, -0.1605,  0.9112,  ..., -0.0614, -1.3455,  0.0236],\n",
      "         [-0.4202, -0.9301,  0.6137,  ...,  0.8262,  0.3116,  1.3691]],\n",
      "\n",
      "        ...,\n",
      "\n",
      "        [[ 0.1071,  0.6820, -0.1071,  ..., -0.8567, -0.8961, -1.0709],\n",
      "         [-0.9243, -0.2818,  1.3414,  ...,  0.0958, -1.0596,  0.8511]],\n",
      "\n",
      "        [[-0.2684,  1.1422,  0.0228,  ..., -1.0851,  0.1999,  0.3027],\n",
      "         [-0.5026,  0.0343,  0.6625,  ...,  0.2627, -1.1079, -1.0794]],\n",
      "\n",
      "        [[-0.7840, -0.8071,  1.0550,  ...,  0.6399, -0.2133,  1.3605],\n",
      "         [ 0.5534, -0.1729, -0.7840,  ...,  0.5592,  1.3432,  0.2421]]])\n"
     ]
    }
   ],
   "source": [
    "from steves_utils.transforms import get_average_magnitude, get_average_power\n",
    "\n",
    "print(set([u for u,_ in val_original_source]))\n",
    "print(set([u for u,_ in val_original_target]))\n",
    "\n",
    "s_x, s_y, q_x, q_y, _ = next(iter(train_processed_source))\n",
    "print(s_x)\n",
    "\n",
    "# for ds in [\n",
    "#     train_processed_source,\n",
    "#     val_processed_source,\n",
    "#     test_processed_source,\n",
    "#     train_processed_target,\n",
    "#     val_processed_target,\n",
    "#     test_processed_target\n",
    "# ]:\n",
    "#     for s_x, s_y, q_x, q_y, _ in ds:\n",
    "#         for X in (s_x, q_x):\n",
    "#             for x in X:\n",
    "#                 assert np.isclose(get_average_magnitude(x.numpy()), 1.0)\n",
    "#                 assert np.isclose(get_average_power(x.numpy()), 1.0)\n",
    "                "
   ]
  },
  {
   "cell_type": "code",
   "execution_count": 21,
   "id": "bbdacba1",
   "metadata": {
    "execution": {
     "iopub.execute_input": "2022-03-21T11:33:38.222936Z",
     "iopub.status.busy": "2022-03-21T11:33:38.222561Z",
     "iopub.status.idle": "2022-03-21T11:33:38.477918Z",
     "shell.execute_reply": "2022-03-21T11:33:38.477213Z"
    },
    "papermill": {
     "duration": 0.283737,
     "end_time": "2022-03-21T11:33:38.478086",
     "exception": false,
     "start_time": "2022-03-21T11:33:38.194349",
     "status": "completed"
    },
    "tags": []
   },
   "outputs": [
    {
     "name": "stdout",
     "output_type": "stream",
     "text": [
      "(2, 256)\n"
     ]
    }
   ],
   "source": [
    "###################################\n",
    "# Build the model\n",
    "###################################\n",
    "# easfsl only wants a tuple for the shape\n",
    "model = Steves_Prototypical_Network(x_net, device=p.device, x_shape=tuple(p.x_shape))\n",
    "optimizer = Adam(params=model.parameters(), lr=p.lr)"
   ]
  },
  {
   "cell_type": "code",
   "execution_count": 22,
   "id": "22b39ac5",
   "metadata": {
    "execution": {
     "iopub.execute_input": "2022-03-21T11:33:38.534607Z",
     "iopub.status.busy": "2022-03-21T11:33:38.533985Z",
     "iopub.status.idle": "2022-03-21T12:13:17.638550Z",
     "shell.execute_reply": "2022-03-21T12:13:17.638220Z"
    },
    "papermill": {
     "duration": 2379.1323,
     "end_time": "2022-03-21T12:13:17.638635",
     "exception": false,
     "start_time": "2022-03-21T11:33:38.506335",
     "status": "completed"
    },
    "tags": []
   },
   "outputs": [
    {
     "name": "stdout",
     "output_type": "stream",
     "text": [
      "epoch: 1, [batch: 1 / 6720], examples_per_second: 33.1366, train_label_loss: 2.9394, \n"
     ]
    },
    {
     "name": "stdout",
     "output_type": "stream",
     "text": [
      "epoch: 1, [batch: 672 / 6720], examples_per_second: 2577.6892, train_label_loss: 0.9610, \n"
     ]
    },
    {
     "name": "stdout",
     "output_type": "stream",
     "text": [
      "epoch: 1, [batch: 1344 / 6720], examples_per_second: 2564.5194, train_label_loss: 0.7227, \n"
     ]
    },
    {
     "name": "stdout",
     "output_type": "stream",
     "text": [
      "epoch: 1, [batch: 2016 / 6720], examples_per_second: 2558.3265, train_label_loss: 0.4542, \n"
     ]
    },
    {
     "name": "stdout",
     "output_type": "stream",
     "text": [
      "epoch: 1, [batch: 2688 / 6720], examples_per_second: 2604.9611, train_label_loss: 0.3084, \n"
     ]
    },
    {
     "name": "stdout",
     "output_type": "stream",
     "text": [
      "epoch: 1, [batch: 3360 / 6720], examples_per_second: 2581.0308, train_label_loss: 0.4438, \n"
     ]
    },
    {
     "name": "stdout",
     "output_type": "stream",
     "text": [
      "epoch: 1, [batch: 4032 / 6720], examples_per_second: 2868.3355, train_label_loss: 0.5627, \n"
     ]
    },
    {
     "name": "stdout",
     "output_type": "stream",
     "text": [
      "epoch: 1, [batch: 4704 / 6720], examples_per_second: 2913.4796, train_label_loss: 0.3059, \n"
     ]
    },
    {
     "name": "stdout",
     "output_type": "stream",
     "text": [
      "epoch: 1, [batch: 5376 / 6720], examples_per_second: 3278.3014, train_label_loss: 0.4149, \n"
     ]
    },
    {
     "name": "stdout",
     "output_type": "stream",
     "text": [
      "epoch: 1, [batch: 6048 / 6720], examples_per_second: 2996.5024, train_label_loss: 0.4789, \n"
     ]
    },
    {
     "name": "stdout",
     "output_type": "stream",
     "text": [
      "=============================================================\n",
      "epoch: 1, source_val_acc_label: 0.7684, target_val_acc_label: 0.6529, source_val_label_loss: 0.6833, target_val_label_loss: 1.3807, \n",
      "=============================================================\n"
     ]
    },
    {
     "name": "stdout",
     "output_type": "stream",
     "text": [
      "New best\n"
     ]
    },
    {
     "name": "stdout",
     "output_type": "stream",
     "text": [
      "epoch: 2, [batch: 1 / 6720], examples_per_second: 2.4692, train_label_loss: 0.5684, \n"
     ]
    },
    {
     "name": "stdout",
     "output_type": "stream",
     "text": [
      "epoch: 2, [batch: 672 / 6720], examples_per_second: 2637.9035, train_label_loss: 0.4576, \n"
     ]
    },
    {
     "name": "stdout",
     "output_type": "stream",
     "text": [
      "epoch: 2, [batch: 1344 / 6720], examples_per_second: 2871.8345, train_label_loss: 0.9588, \n"
     ]
    },
    {
     "name": "stdout",
     "output_type": "stream",
     "text": [
      "epoch: 2, [batch: 2016 / 6720], examples_per_second: 3024.0763, train_label_loss: 0.3411, \n"
     ]
    },
    {
     "name": "stdout",
     "output_type": "stream",
     "text": [
      "epoch: 2, [batch: 2688 / 6720], examples_per_second: 3008.3621, train_label_loss: 0.5462, \n"
     ]
    },
    {
     "name": "stdout",
     "output_type": "stream",
     "text": [
      "epoch: 2, [batch: 3360 / 6720], examples_per_second: 3038.4086, train_label_loss: 0.4429, \n"
     ]
    },
    {
     "name": "stdout",
     "output_type": "stream",
     "text": [
      "epoch: 2, [batch: 4032 / 6720], examples_per_second: 3129.9218, train_label_loss: 0.2872, \n"
     ]
    },
    {
     "name": "stdout",
     "output_type": "stream",
     "text": [
      "epoch: 2, [batch: 4704 / 6720], examples_per_second: 3453.8595, train_label_loss: 0.2286, \n"
     ]
    },
    {
     "name": "stdout",
     "output_type": "stream",
     "text": [
      "epoch: 2, [batch: 5376 / 6720], examples_per_second: 3675.5903, train_label_loss: 1.1701, \n"
     ]
    },
    {
     "name": "stdout",
     "output_type": "stream",
     "text": [
      "epoch: 2, [batch: 6048 / 6720], examples_per_second: 3745.4728, train_label_loss: 0.3868, \n"
     ]
    },
    {
     "name": "stdout",
     "output_type": "stream",
     "text": [
      "=============================================================\n",
      "epoch: 2, source_val_acc_label: 0.8493, target_val_acc_label: 0.8069, source_val_label_loss: 0.4254, target_val_label_loss: 0.9445, \n",
      "=============================================================\n"
     ]
    },
    {
     "name": "stdout",
     "output_type": "stream",
     "text": [
      "New best\n"
     ]
    },
    {
     "name": "stdout",
     "output_type": "stream",
     "text": [
      "epoch: 3, [batch: 1 / 6720], examples_per_second: 3.0197, train_label_loss: 0.4738, \n"
     ]
    },
    {
     "name": "stdout",
     "output_type": "stream",
     "text": [
      "epoch: 3, [batch: 672 / 6720], examples_per_second: 3066.9267, train_label_loss: 0.3983, \n"
     ]
    },
    {
     "name": "stdout",
     "output_type": "stream",
     "text": [
      "epoch: 3, [batch: 1344 / 6720], examples_per_second: 3035.0625, train_label_loss: 0.8034, \n"
     ]
    },
    {
     "name": "stdout",
     "output_type": "stream",
     "text": [
      "epoch: 3, [batch: 2016 / 6720], examples_per_second: 3020.3452, train_label_loss: 0.4650, \n"
     ]
    },
    {
     "name": "stdout",
     "output_type": "stream",
     "text": [
      "epoch: 3, [batch: 2688 / 6720], examples_per_second: 2991.1268, train_label_loss: 0.3078, \n"
     ]
    },
    {
     "name": "stdout",
     "output_type": "stream",
     "text": [
      "epoch: 3, [batch: 3360 / 6720], examples_per_second: 3010.2041, train_label_loss: 0.2166, \n"
     ]
    },
    {
     "name": "stdout",
     "output_type": "stream",
     "text": [
      "epoch: 3, [batch: 4032 / 6720], examples_per_second: 2943.3557, train_label_loss: 0.3495, \n"
     ]
    },
    {
     "name": "stdout",
     "output_type": "stream",
     "text": [
      "epoch: 3, [batch: 4704 / 6720], examples_per_second: 3315.0106, train_label_loss: 0.3001, \n"
     ]
    },
    {
     "name": "stdout",
     "output_type": "stream",
     "text": [
      "epoch: 3, [batch: 5376 / 6720], examples_per_second: 3603.9407, train_label_loss: 0.1892, \n"
     ]
    },
    {
     "name": "stdout",
     "output_type": "stream",
     "text": [
      "epoch: 3, [batch: 6048 / 6720], examples_per_second: 3963.6991, train_label_loss: 0.3673, \n"
     ]
    },
    {
     "name": "stdout",
     "output_type": "stream",
     "text": [
      "=============================================================\n",
      "epoch: 3, source_val_acc_label: 0.8674, target_val_acc_label: 0.8348, source_val_label_loss: 0.3769, target_val_label_loss: 0.9240, \n",
      "=============================================================\n"
     ]
    },
    {
     "name": "stdout",
     "output_type": "stream",
     "text": [
      "New best\n"
     ]
    },
    {
     "name": "stdout",
     "output_type": "stream",
     "text": [
      "epoch: 4, [batch: 1 / 6720], examples_per_second: 3.0169, train_label_loss: 0.1930, \n"
     ]
    },
    {
     "name": "stdout",
     "output_type": "stream",
     "text": [
      "epoch: 4, [batch: 672 / 6720], examples_per_second: 2978.3643, train_label_loss: 0.2273, \n"
     ]
    },
    {
     "name": "stdout",
     "output_type": "stream",
     "text": [
      "epoch: 4, [batch: 1344 / 6720], examples_per_second: 2936.0783, train_label_loss: 0.2419, \n"
     ]
    },
    {
     "name": "stdout",
     "output_type": "stream",
     "text": [
      "epoch: 4, [batch: 2016 / 6720], examples_per_second: 2972.6934, train_label_loss: 0.2500, \n"
     ]
    },
    {
     "name": "stdout",
     "output_type": "stream",
     "text": [
      "epoch: 4, [batch: 2688 / 6720], examples_per_second: 2941.4393, train_label_loss: 0.4245, \n"
     ]
    },
    {
     "name": "stdout",
     "output_type": "stream",
     "text": [
      "epoch: 4, [batch: 3360 / 6720], examples_per_second: 2856.2955, train_label_loss: 0.1335, \n"
     ]
    },
    {
     "name": "stdout",
     "output_type": "stream",
     "text": [
      "epoch: 4, [batch: 4032 / 6720], examples_per_second: 2334.1207, train_label_loss: 0.3494, \n"
     ]
    },
    {
     "name": "stdout",
     "output_type": "stream",
     "text": [
      "epoch: 4, [batch: 4704 / 6720], examples_per_second: 2472.4710, train_label_loss: 0.1787, \n"
     ]
    },
    {
     "name": "stdout",
     "output_type": "stream",
     "text": [
      "epoch: 4, [batch: 5376 / 6720], examples_per_second: 2760.7892, train_label_loss: 0.1018, \n"
     ]
    },
    {
     "name": "stdout",
     "output_type": "stream",
     "text": [
      "epoch: 4, [batch: 6048 / 6720], examples_per_second: 3049.4050, train_label_loss: 0.1698, \n"
     ]
    },
    {
     "name": "stdout",
     "output_type": "stream",
     "text": [
      "=============================================================\n",
      "epoch: 4, source_val_acc_label: 0.8845, target_val_acc_label: 0.8520, source_val_label_loss: 0.3258, target_val_label_loss: 0.8906, \n",
      "=============================================================\n"
     ]
    },
    {
     "name": "stdout",
     "output_type": "stream",
     "text": [
      "New best\n"
     ]
    },
    {
     "name": "stdout",
     "output_type": "stream",
     "text": [
      "epoch: 5, [batch: 1 / 6720], examples_per_second: 2.2183, train_label_loss: 0.3518, \n"
     ]
    },
    {
     "name": "stdout",
     "output_type": "stream",
     "text": [
      "epoch: 5, [batch: 672 / 6720], examples_per_second: 2318.8835, train_label_loss: 0.7208, \n"
     ]
    },
    {
     "name": "stdout",
     "output_type": "stream",
     "text": [
      "epoch: 5, [batch: 1344 / 6720], examples_per_second: 2331.3299, train_label_loss: 0.1906, \n"
     ]
    },
    {
     "name": "stdout",
     "output_type": "stream",
     "text": [
      "epoch: 5, [batch: 2016 / 6720], examples_per_second: 2324.0746, train_label_loss: 0.8887, \n"
     ]
    },
    {
     "name": "stdout",
     "output_type": "stream",
     "text": [
      "epoch: 5, [batch: 2688 / 6720], examples_per_second: 2320.9103, train_label_loss: 0.3010, \n"
     ]
    },
    {
     "name": "stdout",
     "output_type": "stream",
     "text": [
      "epoch: 5, [batch: 3360 / 6720], examples_per_second: 2332.5171, train_label_loss: 0.7310, \n"
     ]
    },
    {
     "name": "stdout",
     "output_type": "stream",
     "text": [
      "epoch: 5, [batch: 4032 / 6720], examples_per_second: 2324.1745, train_label_loss: 0.1436, \n"
     ]
    },
    {
     "name": "stdout",
     "output_type": "stream",
     "text": [
      "epoch: 5, [batch: 4704 / 6720], examples_per_second: 2361.6248, train_label_loss: 0.3889, \n"
     ]
    },
    {
     "name": "stdout",
     "output_type": "stream",
     "text": [
      "epoch: 5, [batch: 5376 / 6720], examples_per_second: 2728.5825, train_label_loss: 0.1011, \n"
     ]
    },
    {
     "name": "stdout",
     "output_type": "stream",
     "text": [
      "epoch: 5, [batch: 6048 / 6720], examples_per_second: 2959.6883, train_label_loss: 0.3592, \n"
     ]
    },
    {
     "name": "stdout",
     "output_type": "stream",
     "text": [
      "=============================================================\n",
      "epoch: 5, source_val_acc_label: 0.8915, target_val_acc_label: 0.8416, source_val_label_loss: 0.3027, target_val_label_loss: 1.1462, \n",
      "=============================================================\n"
     ]
    },
    {
     "name": "stdout",
     "output_type": "stream",
     "text": [
      "epoch: 6, [batch: 1 / 6720], examples_per_second: 2.7525, train_label_loss: 0.1860, \n"
     ]
    },
    {
     "name": "stdout",
     "output_type": "stream",
     "text": [
      "epoch: 6, [batch: 672 / 6720], examples_per_second: 2936.2869, train_label_loss: 0.1805, \n"
     ]
    },
    {
     "name": "stdout",
     "output_type": "stream",
     "text": [
      "epoch: 6, [batch: 1344 / 6720], examples_per_second: 2972.1846, train_label_loss: 0.1768, \n"
     ]
    },
    {
     "name": "stdout",
     "output_type": "stream",
     "text": [
      "epoch: 6, [batch: 2016 / 6720], examples_per_second: 2942.6613, train_label_loss: 0.2603, \n"
     ]
    },
    {
     "name": "stdout",
     "output_type": "stream",
     "text": [
      "epoch: 6, [batch: 2688 / 6720], examples_per_second: 2885.4423, train_label_loss: 0.3587, \n"
     ]
    },
    {
     "name": "stdout",
     "output_type": "stream",
     "text": [
      "epoch: 6, [batch: 3360 / 6720], examples_per_second: 2896.0476, train_label_loss: 0.2738, \n"
     ]
    },
    {
     "name": "stdout",
     "output_type": "stream",
     "text": [
      "epoch: 6, [batch: 4032 / 6720], examples_per_second: 2985.1945, train_label_loss: 0.2198, \n"
     ]
    },
    {
     "name": "stdout",
     "output_type": "stream",
     "text": [
      "epoch: 6, [batch: 4704 / 6720], examples_per_second: 3597.7009, train_label_loss: 0.3552, \n"
     ]
    },
    {
     "name": "stdout",
     "output_type": "stream",
     "text": [
      "epoch: 6, [batch: 5376 / 6720], examples_per_second: 3950.9706, train_label_loss: 0.3626, \n"
     ]
    },
    {
     "name": "stdout",
     "output_type": "stream",
     "text": [
      "epoch: 6, [batch: 6048 / 6720], examples_per_second: 3893.0314, train_label_loss: 0.2974, \n"
     ]
    },
    {
     "name": "stdout",
     "output_type": "stream",
     "text": [
      "=============================================================\n",
      "epoch: 6, source_val_acc_label: 0.8903, target_val_acc_label: 0.8529, source_val_label_loss: 0.3076, target_val_label_loss: 0.9528, \n",
      "=============================================================\n"
     ]
    },
    {
     "name": "stdout",
     "output_type": "stream",
     "text": [
      "New best\n"
     ]
    },
    {
     "name": "stdout",
     "output_type": "stream",
     "text": [
      "epoch: 7, [batch: 1 / 6720], examples_per_second: 4.0586, train_label_loss: 0.1219, \n"
     ]
    },
    {
     "name": "stdout",
     "output_type": "stream",
     "text": [
      "epoch: 7, [batch: 672 / 6720], examples_per_second: 3819.7570, train_label_loss: 0.1111, \n"
     ]
    },
    {
     "name": "stdout",
     "output_type": "stream",
     "text": [
      "epoch: 7, [batch: 1344 / 6720], examples_per_second: 3801.5269, train_label_loss: 0.2785, \n"
     ]
    },
    {
     "name": "stdout",
     "output_type": "stream",
     "text": [
      "epoch: 7, [batch: 2016 / 6720], examples_per_second: 3855.7162, train_label_loss: 0.0685, \n"
     ]
    },
    {
     "name": "stdout",
     "output_type": "stream",
     "text": [
      "epoch: 7, [batch: 2688 / 6720], examples_per_second: 3592.6166, train_label_loss: 0.0099, \n"
     ]
    },
    {
     "name": "stdout",
     "output_type": "stream",
     "text": [
      "epoch: 7, [batch: 3360 / 6720], examples_per_second: 2953.8302, train_label_loss: 0.0437, \n"
     ]
    },
    {
     "name": "stdout",
     "output_type": "stream",
     "text": [
      "epoch: 7, [batch: 4032 / 6720], examples_per_second: 2547.5271, train_label_loss: 0.1594, \n"
     ]
    },
    {
     "name": "stdout",
     "output_type": "stream",
     "text": [
      "epoch: 7, [batch: 4704 / 6720], examples_per_second: 2306.2332, train_label_loss: 0.1386, \n"
     ]
    },
    {
     "name": "stdout",
     "output_type": "stream",
     "text": [
      "epoch: 7, [batch: 5376 / 6720], examples_per_second: 2312.8830, train_label_loss: 0.2428, \n"
     ]
    },
    {
     "name": "stdout",
     "output_type": "stream",
     "text": [
      "epoch: 7, [batch: 6048 / 6720], examples_per_second: 2306.6091, train_label_loss: 0.2599, \n"
     ]
    },
    {
     "name": "stdout",
     "output_type": "stream",
     "text": [
      "=============================================================\n",
      "epoch: 7, source_val_acc_label: 0.9010, target_val_acc_label: 0.8383, source_val_label_loss: 0.2776, target_val_label_loss: 1.2177, \n",
      "=============================================================\n"
     ]
    },
    {
     "name": "stdout",
     "output_type": "stream",
     "text": [
      "epoch: 8, [batch: 1 / 6720], examples_per_second: 2.0540, train_label_loss: 0.0773, \n"
     ]
    },
    {
     "name": "stdout",
     "output_type": "stream",
     "text": [
      "epoch: 8, [batch: 672 / 6720], examples_per_second: 2295.9852, train_label_loss: 0.1418, \n"
     ]
    },
    {
     "name": "stdout",
     "output_type": "stream",
     "text": [
      "epoch: 8, [batch: 1344 / 6720], examples_per_second: 2517.5845, train_label_loss: 0.0312, \n"
     ]
    },
    {
     "name": "stdout",
     "output_type": "stream",
     "text": [
      "epoch: 8, [batch: 2016 / 6720], examples_per_second: 2609.9123, train_label_loss: 0.3933, \n"
     ]
    },
    {
     "name": "stdout",
     "output_type": "stream",
     "text": [
      "epoch: 8, [batch: 2688 / 6720], examples_per_second: 3074.6781, train_label_loss: 0.1149, \n"
     ]
    },
    {
     "name": "stdout",
     "output_type": "stream",
     "text": [
      "epoch: 8, [batch: 3360 / 6720], examples_per_second: 2628.3610, train_label_loss: 0.6438, \n"
     ]
    },
    {
     "name": "stdout",
     "output_type": "stream",
     "text": [
      "epoch: 8, [batch: 4032 / 6720], examples_per_second: 2824.8184, train_label_loss: 0.3477, \n"
     ]
    },
    {
     "name": "stdout",
     "output_type": "stream",
     "text": [
      "epoch: 8, [batch: 4704 / 6720], examples_per_second: 2539.1606, train_label_loss: 0.1281, \n"
     ]
    },
    {
     "name": "stdout",
     "output_type": "stream",
     "text": [
      "epoch: 8, [batch: 5376 / 6720], examples_per_second: 2594.1246, train_label_loss: 0.1045, \n"
     ]
    },
    {
     "name": "stdout",
     "output_type": "stream",
     "text": [
      "epoch: 8, [batch: 6048 / 6720], examples_per_second: 2634.5469, train_label_loss: 0.1433, \n"
     ]
    },
    {
     "name": "stdout",
     "output_type": "stream",
     "text": [
      "=============================================================\n",
      "epoch: 8, source_val_acc_label: 0.8984, target_val_acc_label: 0.8457, source_val_label_loss: 0.2830, target_val_label_loss: 1.1904, \n",
      "=============================================================\n"
     ]
    },
    {
     "name": "stdout",
     "output_type": "stream",
     "text": [
      "epoch: 9, [batch: 1 / 6720], examples_per_second: 2.3853, train_label_loss: 0.3682, \n"
     ]
    },
    {
     "name": "stdout",
     "output_type": "stream",
     "text": [
      "epoch: 9, [batch: 672 / 6720], examples_per_second: 2978.4272, train_label_loss: 0.3685, \n"
     ]
    },
    {
     "name": "stdout",
     "output_type": "stream",
     "text": [
      "epoch: 9, [batch: 1344 / 6720], examples_per_second: 2767.1181, train_label_loss: 0.2194, \n"
     ]
    },
    {
     "name": "stdout",
     "output_type": "stream",
     "text": [
      "epoch: 9, [batch: 2016 / 6720], examples_per_second: 2580.0805, train_label_loss: 0.2939, \n"
     ]
    },
    {
     "name": "stdout",
     "output_type": "stream",
     "text": [
      "epoch: 9, [batch: 2688 / 6720], examples_per_second: 2916.9964, train_label_loss: 0.2804, \n"
     ]
    },
    {
     "name": "stdout",
     "output_type": "stream",
     "text": [
      "epoch: 9, [batch: 3360 / 6720], examples_per_second: 2624.9115, train_label_loss: 0.4754, \n"
     ]
    },
    {
     "name": "stdout",
     "output_type": "stream",
     "text": [
      "epoch: 9, [batch: 4032 / 6720], examples_per_second: 2664.7479, train_label_loss: 0.2891, \n"
     ]
    },
    {
     "name": "stdout",
     "output_type": "stream",
     "text": [
      "epoch: 9, [batch: 4704 / 6720], examples_per_second: 2342.6539, train_label_loss: 0.1189, \n"
     ]
    },
    {
     "name": "stdout",
     "output_type": "stream",
     "text": [
      "epoch: 9, [batch: 5376 / 6720], examples_per_second: 2331.3673, train_label_loss: 0.1527, \n"
     ]
    },
    {
     "name": "stdout",
     "output_type": "stream",
     "text": [
      "epoch: 9, [batch: 6048 / 6720], examples_per_second: 2326.2359, train_label_loss: 0.2883, \n"
     ]
    },
    {
     "name": "stdout",
     "output_type": "stream",
     "text": [
      "=============================================================\n",
      "epoch: 9, source_val_acc_label: 0.9033, target_val_acc_label: 0.8501, source_val_label_loss: 0.2732, target_val_label_loss: 1.2839, \n",
      "=============================================================\n"
     ]
    },
    {
     "name": "stdout",
     "output_type": "stream",
     "text": [
      "epoch: 10, [batch: 1 / 6720], examples_per_second: 2.0674, train_label_loss: 0.2417, \n"
     ]
    },
    {
     "name": "stdout",
     "output_type": "stream",
     "text": [
      "epoch: 10, [batch: 672 / 6720], examples_per_second: 2314.4173, train_label_loss: 0.1054, \n"
     ]
    },
    {
     "name": "stdout",
     "output_type": "stream",
     "text": [
      "epoch: 10, [batch: 1344 / 6720], examples_per_second: 2423.7023, train_label_loss: 0.1010, \n"
     ]
    },
    {
     "name": "stdout",
     "output_type": "stream",
     "text": [
      "epoch: 10, [batch: 2016 / 6720], examples_per_second: 2594.3036, train_label_loss: 0.0642, \n"
     ]
    },
    {
     "name": "stdout",
     "output_type": "stream",
     "text": [
      "epoch: 10, [batch: 2688 / 6720], examples_per_second: 2858.8476, train_label_loss: 0.0178, \n"
     ]
    },
    {
     "name": "stdout",
     "output_type": "stream",
     "text": [
      "epoch: 10, [batch: 3360 / 6720], examples_per_second: 2744.9737, train_label_loss: 0.1003, \n"
     ]
    },
    {
     "name": "stdout",
     "output_type": "stream",
     "text": [
      "epoch: 10, [batch: 4032 / 6720], examples_per_second: 2651.2704, train_label_loss: 0.1852, \n"
     ]
    },
    {
     "name": "stdout",
     "output_type": "stream",
     "text": [
      "epoch: 10, [batch: 4704 / 6720], examples_per_second: 2300.5471, train_label_loss: 0.1791, \n"
     ]
    },
    {
     "name": "stdout",
     "output_type": "stream",
     "text": [
      "epoch: 10, [batch: 5376 / 6720], examples_per_second: 2310.1449, train_label_loss: 0.0700, \n"
     ]
    },
    {
     "name": "stdout",
     "output_type": "stream",
     "text": [
      "epoch: 10, [batch: 6048 / 6720], examples_per_second: 2317.1726, train_label_loss: 0.0469, \n"
     ]
    },
    {
     "name": "stdout",
     "output_type": "stream",
     "text": [
      "=============================================================\n",
      "epoch: 10, source_val_acc_label: 0.9007, target_val_acc_label: 0.8488, source_val_label_loss: 0.2778, target_val_label_loss: 1.3501, \n",
      "=============================================================\n"
     ]
    },
    {
     "name": "stdout",
     "output_type": "stream",
     "text": [
      "Patience (3) exhausted\n"
     ]
    }
   ],
   "source": [
    "###################################\n",
    "# train\n",
    "###################################\n",
    "jig = PTN_Train_Eval_Test_Jig(model, p.BEST_MODEL_PATH, p.device)\n",
    "\n",
    "jig.train(\n",
    "    train_iterable=datasets.source.processed.train,\n",
    "    source_val_iterable=datasets.source.processed.val,\n",
    "    target_val_iterable=datasets.target.processed.val,\n",
    "    num_epochs=p.n_epoch,\n",
    "    num_logs_per_epoch=p.NUM_LOGS_PER_EPOCH,\n",
    "    patience=p.patience,\n",
    "    optimizer=optimizer,\n",
    "    criteria_for_best=p.criteria_for_best,\n",
    ")"
   ]
  },
  {
   "cell_type": "code",
   "execution_count": 23,
   "id": "31e8fabf",
   "metadata": {
    "execution": {
     "iopub.execute_input": "2022-03-21T12:13:17.748947Z",
     "iopub.status.busy": "2022-03-21T12:13:17.748585Z",
     "iopub.status.idle": "2022-03-21T12:13:17.782076Z",
     "shell.execute_reply": "2022-03-21T12:13:17.781274Z"
    },
    "papermill": {
     "duration": 0.091604,
     "end_time": "2022-03-21T12:13:17.782230",
     "exception": false,
     "start_time": "2022-03-21T12:13:17.690626",
     "status": "completed"
    },
    "tags": []
   },
   "outputs": [],
   "source": [
    "total_experiment_time_secs = time.time() - start_time_secs"
   ]
  },
  {
   "cell_type": "code",
   "execution_count": 24,
   "id": "87b9595b",
   "metadata": {
    "execution": {
     "iopub.execute_input": "2022-03-21T12:13:17.898039Z",
     "iopub.status.busy": "2022-03-21T12:13:17.897653Z",
     "iopub.status.idle": "2022-03-21T12:17:37.191433Z",
     "shell.execute_reply": "2022-03-21T12:17:37.192140Z"
    },
    "papermill": {
     "duration": 259.354095,
     "end_time": "2022-03-21T12:17:37.192368",
     "exception": false,
     "start_time": "2022-03-21T12:13:17.838273",
     "status": "completed"
    },
    "tags": []
   },
   "outputs": [],
   "source": [
    "###################################\n",
    "# Evaluate the model\n",
    "###################################\n",
    "source_test_label_accuracy, source_test_label_loss = jig.test(datasets.source.processed.test)\n",
    "target_test_label_accuracy, target_test_label_loss = jig.test(datasets.target.processed.test)\n",
    "\n",
    "source_val_label_accuracy, source_val_label_loss = jig.test(datasets.source.processed.val)\n",
    "target_val_label_accuracy, target_val_label_loss = jig.test(datasets.target.processed.val)\n",
    "\n",
    "history = jig.get_history()\n",
    "\n",
    "total_epochs_trained = len(history[\"epoch_indices\"])\n",
    "\n",
    "val_dl = Iterable_Aggregator((datasets.source.original.val,datasets.target.original.val))\n",
    "\n",
    "confusion = ptn_confusion_by_domain_over_dataloader(model, p.device, val_dl)\n",
    "per_domain_accuracy = per_domain_accuracy_from_confusion(confusion)\n",
    "\n",
    "# Add a key to per_domain_accuracy for if it was a source domain\n",
    "for domain, accuracy in per_domain_accuracy.items():\n",
    "    per_domain_accuracy[domain] = {\n",
    "        \"accuracy\": accuracy,\n",
    "        \"source?\": domain in p.domains_source\n",
    "    }\n",
    "\n",
    "# Do an independent accuracy assesment JUST TO BE SURE!\n",
    "# _source_test_label_accuracy = independent_accuracy_assesment(model, datasets.source.processed.test, p.device)\n",
    "# _target_test_label_accuracy = independent_accuracy_assesment(model, datasets.target.processed.test, p.device)\n",
    "# _source_val_label_accuracy = independent_accuracy_assesment(model, datasets.source.processed.val, p.device)\n",
    "# _target_val_label_accuracy = independent_accuracy_assesment(model, datasets.target.processed.val, p.device)\n",
    "\n",
    "# assert(_source_test_label_accuracy == source_test_label_accuracy)\n",
    "# assert(_target_test_label_accuracy == target_test_label_accuracy)\n",
    "# assert(_source_val_label_accuracy == source_val_label_accuracy)\n",
    "# assert(_target_val_label_accuracy == target_val_label_accuracy)\n",
    "\n",
    "experiment = {\n",
    "    \"experiment_name\": p.experiment_name,\n",
    "    \"parameters\": dict(p),\n",
    "    \"results\": {\n",
    "        \"source_test_label_accuracy\": source_test_label_accuracy,\n",
    "        \"source_test_label_loss\": source_test_label_loss,\n",
    "        \"target_test_label_accuracy\": target_test_label_accuracy,\n",
    "        \"target_test_label_loss\": target_test_label_loss,\n",
    "        \"source_val_label_accuracy\": source_val_label_accuracy,\n",
    "        \"source_val_label_loss\": source_val_label_loss,\n",
    "        \"target_val_label_accuracy\": target_val_label_accuracy,\n",
    "        \"target_val_label_loss\": target_val_label_loss,\n",
    "        \"total_epochs_trained\": total_epochs_trained,\n",
    "        \"total_experiment_time_secs\": total_experiment_time_secs,\n",
    "        \"confusion\": confusion,\n",
    "        \"per_domain_accuracy\": per_domain_accuracy,\n",
    "    },\n",
    "    \"history\": history,\n",
    "    \"dataset_metrics\": get_dataset_metrics(datasets, \"ptn\"),\n",
    "}"
   ]
  },
  {
   "cell_type": "code",
   "execution_count": 25,
   "id": "54a21829",
   "metadata": {
    "execution": {
     "iopub.execute_input": "2022-03-21T12:17:37.320314Z",
     "iopub.status.busy": "2022-03-21T12:17:37.319747Z",
     "iopub.status.idle": "2022-03-21T12:17:37.544797Z",
     "shell.execute_reply": "2022-03-21T12:17:37.545488Z"
    },
    "papermill": {
     "duration": 0.291538,
     "end_time": "2022-03-21T12:17:37.545699",
     "exception": false,
     "start_time": "2022-03-21T12:17:37.254161",
     "status": "completed"
    },
    "tags": []
   },
   "outputs": [
    {
     "data": {
      "image/png": "[encoded data removed]",
      "text/plain": [
       "<Figure size 1080x504 with 1 Axes>"
      ]
     },
     "metadata": {
      "needs_background": "light"
     },
     "output_type": "display_data"
    }
   ],
   "source": [
    "ax = get_loss_curve(experiment)\n",
    "plt.show()"
   ]
  },
  {
   "cell_type": "code",
   "execution_count": 26,
   "id": "fd8a0f60",
   "metadata": {
    "execution": {
     "iopub.execute_input": "2022-03-21T12:17:37.664271Z",
     "iopub.status.busy": "2022-03-21T12:17:37.663896Z",
     "iopub.status.idle": "2022-03-21T12:17:37.969467Z",
     "shell.execute_reply": "2022-03-21T12:17:37.969786Z"
    },
    "papermill": {
     "duration": 0.364089,
     "end_time": "2022-03-21T12:17:37.969906",
     "exception": false,
     "start_time": "2022-03-21T12:17:37.605817",
     "status": "completed"
    },
    "tags": []
   },
   "outputs": [
    {
     "data": {
      "text/plain": [
       "<AxesSubplot:title={'center':'Results'}>"
      ]
     },
     "execution_count": 26,
     "metadata": {},
     "output_type": "execute_result"
    },
    {
     "data": {
      "image/png": "[encoded data removed]",
      "text/plain": [
       "<Figure size 1080x504 with 1 Axes>"
      ]
     },
     "metadata": {
      "needs_background": "light"
     },
     "output_type": "display_data"
    }
   ],
   "source": [
    "get_results_table(experiment)"
   ]
  },
  {
   "cell_type": "code",
   "execution_count": 27,
   "id": "cf8dc689",
   "metadata": {
    "execution": {
     "iopub.execute_input": "2022-03-21T12:17:38.096358Z",
     "iopub.status.busy": "2022-03-21T12:17:38.095984Z",
     "iopub.status.idle": "2022-03-21T12:17:38.353998Z",
     "shell.execute_reply": "2022-03-21T12:17:38.354469Z"
    },
    "papermill": {
     "duration": 0.320848,
     "end_time": "2022-03-21T12:17:38.354679",
     "exception": false,
     "start_time": "2022-03-21T12:17:38.033831",
     "status": "completed"
    },
    "tags": []
   },
   "outputs": [
    {
     "data": {
      "text/plain": [
       "<AxesSubplot:title={'center':'Per Domain Validation Accuracy'}, xlabel='domain'>"
      ]
     },
     "execution_count": 27,
     "metadata": {},
     "output_type": "execute_result"
    },
    {
     "data": {
      "image/png": "[encoded data removed]",
      "text/plain": [
       "<Figure size 1080x504 with 1 Axes>"
      ]
     },
     "metadata": {
      "needs_background": "light"
     },
     "output_type": "display_data"
    }
   ],
   "source": [
    "get_domain_accuracies(experiment)"
   ]
  },
  {
   "cell_type": "code",
   "execution_count": 28,
   "id": "a74ae082",
   "metadata": {
    "execution": {
     "iopub.execute_input": "2022-03-21T12:17:38.492676Z",
     "iopub.status.busy": "2022-03-21T12:17:38.492293Z",
     "iopub.status.idle": "2022-03-21T12:17:38.516571Z",
     "shell.execute_reply": "2022-03-21T12:17:38.515857Z"
    },
    "papermill": {
     "duration": 0.084673,
     "end_time": "2022-03-21T12:17:38.516745",
     "exception": false,
     "start_time": "2022-03-21T12:17:38.432072",
     "status": "completed"
    },
    "tags": []
   },
   "outputs": [
    {
     "name": "stdout",
     "output_type": "stream",
     "text": [
      "Source Test Label Accuracy: 0.8886067708333333 Target Test Label Accuracy: 0.8506089025755879\n",
      "Source Val Label Accuracy: 0.89033203125 Target Val Label Accuracy: 0.8529390732265446\n"
     ]
    }
   ],
   "source": [
    "print(\"Source Test Label Accuracy:\", experiment[\"results\"][\"source_test_label_accuracy\"], \"Target Test Label Accuracy:\", experiment[\"results\"][\"target_test_label_accuracy\"])\n",
    "print(\"Source Val Label Accuracy:\", experiment[\"results\"][\"source_val_label_accuracy\"], \"Target Val Label Accuracy:\", experiment[\"results\"][\"target_val_label_accuracy\"])"
   ]
  },
  {
   "cell_type": "code",
   "execution_count": 29,
   "id": "dacca602",
   "metadata": {
    "execution": {
     "iopub.execute_input": "2022-03-21T12:17:38.653805Z",
     "iopub.status.busy": "2022-03-21T12:17:38.653426Z",
     "iopub.status.idle": "2022-03-21T12:17:38.679176Z",
     "shell.execute_reply": "2022-03-21T12:17:38.679879Z"
    },
    "papermill": {
     "duration": 0.09664,
     "end_time": "2022-03-21T12:17:38.680089",
     "exception": false,
     "start_time": "2022-03-21T12:17:38.583449",
     "status": "completed"
    },
    "tags": [
     "experiment_json"
    ]
   },
   "outputs": [
    {
     "data": {
      "text/plain": [
       "'{\"experiment_name\": \"tl_1v2:cores-oracle.run1.framed\", \"parameters\": {\"experiment_name\": \"tl_1v2:cores-oracle.run1.framed\", \"device\": \"cuda\", \"lr\": 0.0001, \"n_shot\": 3, \"n_query\": 2, \"train_k_factor\": 3, \"val_k_factor\": 2, \"test_k_factor\": 2, \"torch_default_dtype\": \"torch.float32\", \"n_epoch\": 50, \"patience\": 3, \"criteria_for_best\": \"target_accuracy\", \"x_net\": [{\"class\": \"nnReshape\", \"kargs\": {\"shape\": [-1, 1, 2, 256]}}, {\"class\": \"Conv2d\", \"kargs\": {\"in_channels\": 1, \"out_channels\": 256, \"kernel_size\": [1, 7], \"bias\": false, \"padding\": [0, 3]}}, {\"class\": \"ReLU\", \"kargs\": {\"inplace\": true}}, {\"class\": \"BatchNorm2d\", \"kargs\": {\"num_features\": 256}}, {\"class\": \"Conv2d\", \"kargs\": {\"in_channels\": 256, \"out_channels\": 80, \"kernel_size\": [2, 7], \"bias\": true, \"padding\": [0, 3]}}, {\"class\": \"ReLU\", \"kargs\": {\"inplace\": true}}, {\"class\": \"BatchNorm2d\", \"kargs\": {\"num_features\": 80}}, {\"class\": \"Flatten\", \"kargs\": {}}, {\"class\": \"Linear\", \"kargs\": {\"in_features\": 20480, \"out_features\": 256}}, {\"class\": \"ReLU\", \"kargs\": {\"inplace\": true}}, {\"class\": \"BatchNorm1d\", \"kargs\": {\"num_features\": 256}}, {\"class\": \"Linear\", \"kargs\": {\"in_features\": 256, \"out_features\": 256}}], \"NUM_LOGS_PER_EPOCH\": 10, \"BEST_MODEL_PATH\": \"./best_model.pth\", \"n_way\": 16, \"datasets\": [{\"labels\": [\"1-10.\", \"1-11.\", \"1-15.\", \"1-16.\", \"1-17.\", \"1-18.\", \"1-19.\", \"10-4.\", \"10-7.\", \"11-1.\", \"11-14.\", \"11-17.\", \"11-20.\", \"11-7.\", \"13-20.\", \"13-8.\", \"14-10.\", \"14-11.\", \"14-14.\", \"14-7.\", \"15-1.\", \"15-20.\", \"16-1.\", \"16-16.\", \"17-10.\", \"17-11.\", \"17-2.\", \"19-1.\", \"19-16.\", \"19-19.\", \"19-20.\", \"19-3.\", \"2-10.\", \"2-11.\", \"2-17.\", \"2-18.\", \"2-20.\", \"2-3.\", \"2-4.\", \"2-5.\", \"2-6.\", \"2-7.\", \"2-8.\", \"3-13.\", \"3-18.\", \"3-3.\", \"4-1.\", \"4-10.\", \"4-11.\", \"4-19.\", \"5-5.\", \"6-15.\", \"7-10.\", \"7-14.\", \"8-18.\", \"8-20.\", \"8-3.\", \"8-8.\"], \"domains\": [1, 2, 3, 4, 5], \"num_examples_per_domain_per_label\": -1, \"pickle_path\": \"/root/csc500-main/datasets/cores.stratified_ds.2022A.pkl\", \"source_or_target_dataset\": \"target\", \"x_transforms\": [\"unit_mag\"], \"episode_transforms\": [], \"domain_prefix\": \"CORES_\"}, {\"labels\": [\"3123D52\", \"3123D65\", \"3123D79\", \"3123D80\", \"3123D54\", \"3123D70\", \"3123D7B\", \"3123D89\", \"3123D58\", \"3123D76\", \"3123D7D\", \"3123EFE\", \"3123D64\", \"3123D78\", \"3123D7E\", \"3124E4A\"], \"domains\": [32, 38, 8, 44, 14, 50, 20, 26], \"num_examples_per_domain_per_label\": 2000, \"pickle_path\": \"/root/csc500-main/datasets/oracle.Run1_framed_2000Examples_stratified_ds.2022A.pkl\", \"source_or_target_dataset\": \"source\", \"x_transforms\": [\"unit_mag\"], \"episode_transforms\": [], \"domain_prefix\": \"ORACLE.run1_\"}], \"dataset_seed\": 154325, \"seed\": 154325, \"x_shape\": [2, 256], \"domains_source\": [\"ORACLE.run1_32\", \"ORACLE.run1_38\", \"ORACLE.run1_8\", \"ORACLE.run1_44\", \"ORACLE.run1_14\", \"ORACLE.run1_50\", \"ORACLE.run1_20\", \"ORACLE.run1_26\"], \"domains_target\": [\"CORES_1\", \"CORES_2\", \"CORES_3\", \"CORES_4\", \"CORES_5\"]}, \"results\": {\"source_test_label_accuracy\": 0.8886067708333333, \"source_test_label_loss\": 0.31140562891960144, \"target_test_label_accuracy\": 0.8506089025755879, \"target_test_label_loss\": 0.942540168762207, \"source_val_label_accuracy\": 0.89033203125, \"source_val_label_loss\": 0.30763623118400574, \"target_val_label_accuracy\": 0.8529390732265446, \"target_val_label_loss\": 0.9527896046638489, \"total_epochs_trained\": 10, \"total_experiment_time_secs\": 2437.2784762382507, \"confusion\": {\"ORACLE.run1_8\": {\"13\": {\"10\": 28, \"13\": 150, \"4\": 27, \"0\": 17, \"6\": 14, \"7\": 2, \"14\": 2}, \"9\": {\"9\": 240}, \"15\": {\"15\": 230, \"12\": 10}, \"2\": {\"2\": 236, \"3\": 2, \"7\": 2}, \"3\": {\"3\": 240}, \"8\": {\"8\": 240}, \"5\": {\"1\": 6, \"5\": 231, \"10\": 1, \"14\": 2}, \"14\": {\"14\": 194, \"10\": 26, \"4\": 14, \"1\": 4, \"5\": 2}, \"1\": {\"1\": 237, \"11\": 3}, \"0\": {\"0\": 222, \"13\": 13, \"7\": 2, \"10\": 3}, \"10\": {\"10\": 220, \"13\": 6, \"14\": 13, \"5\": 1}, \"6\": {\"6\": 192, \"13\": 4, \"7\": 31, \"4\": 12, \"0\": 1}, \"11\": {\"11\": 235, \"1\": 5}, \"7\": {\"7\": 222, \"6\": 18}, \"4\": {\"4\": 201, \"13\": 28, \"14\": 7, \"0\": 1, \"10\": 1, \"6\": 2}, \"12\": {\"12\": 187, \"15\": 39, \"8\": 4, \"3\": 10}}, \"ORACLE.run1_38\": {\"13\": {\"13\": 229, \"10\": 6, \"15\": 3, \"2\": 2}, \"12\": {\"12\": 240}, \"2\": {\"2\": 235, \"13\": 2, \"14\": 3}, \"9\": {\"9\": 236, \"6\": 3, \"5\": 1}, \"15\": {\"15\": 216, \"1\": 13, \"8\": 8, \"5\": 2, \"13\": 1}, \"5\": {\"5\": 164, \"8\": 45, \"7\": 17, \"6\": 4, \"15\": 5, \"13\": 1, \"9\": 4}, \"14\": {\"14\": 238, \"2\": 1, \"10\": 1}, \"0\": {\"0\": 207, \"3\": 8, \"8\": 15, \"7\": 4, \"10\": 2, \"5\": 2, \"13\": 2}, \"3\": {\"3\": 238, \"0\": 2}, \"1\": {\"1\": 236, \"15\": 4}, \"11\": {\"11\": 239, \"10\": 1}, \"7\": {\"7\": 227, \"0\": 4, \"8\": 7, \"5\": 2}, \"8\": {\"8\": 185, \"0\": 14, \"5\": 30, \"7\": 4, \"13\": 2, \"15\": 3, \"10\": 2}, \"4\": {\"4\": 239, \"12\": 1}, \"10\": {\"10\": 231, \"13\": 6, \"0\": 1, \"8\": 1, \"14\": 1}, \"6\": {\"6\": 239, \"9\": 1}}, \"ORACLE.run1_26\": {\"10\": {\"0\": 74, \"10\": 125, \"14\": 14, \"8\": 23, \"6\": 2, \"4\": 2}, \"12\": {\"12\": 240}, \"1\": {\"1\": 221, \"4\": 5, \"14\": 10, \"3\": 1, \"7\": 2, \"10\": 1}, \"0\": {\"0\": 116, \"14\": 32, \"8\": 21, \"10\": 59, \"4\": 10, \"6\": 1, \"7\": 1}, \"15\": {\"15\": 198, \"9\": 16, \"6\": 7, \"8\": 9, \"5\": 1, \"2\": 2, \"7\": 2, \"13\": 4, \"10\": 1}, \"13\": {\"13\": 208, \"5\": 27, \"15\": 2, \"9\": 1, \"2\": 2}, \"8\": {\"8\": 147, \"4\": 13, \"0\": 23, \"14\": 8, \"10\": 28, \"7\": 16, \"15\": 2, \"2\": 3}, \"3\": {\"3\": 204, \"2\": 26, \"7\": 10}, \"11\": {\"11\": 240}, \"4\": {\"4\": 195, \"8\": 10, \"0\": 9, \"7\": 6, \"14\": 17, \"10\": 3}, \"6\": {\"6\": 225, \"9\": 4, \"15\": 8, \"10\": 2, \"8\": 1}, \"7\": {\"7\": 197, \"4\": 15, \"2\": 13, \"8\": 7, \"3\": 8}, \"14\": {\"0\": 26, \"4\": 22, \"10\": 10, \"14\": 166, \"1\": 9, \"8\": 6, \"7\": 1}, \"2\": {\"5\": 20, \"2\": 132, \"3\": 51, \"15\": 4, \"7\": 21, \"8\": 4, \"9\": 2, \"13\": 6}, \"5\": {\"5\": 211, \"13\": 17, \"2\": 9, \"9\": 1, \"3\": 1, \"15\": 1}, \"9\": {\"9\": 205, \"5\": 2, \"15\": 20, \"13\": 9, \"6\": 4}}, \"ORACLE.run1_20\": {\"5\": {\"5\": 224, \"0\": 5, \"15\": 6, \"1\": 4, \"3\": 1}, \"15\": {\"15\": 222, \"1\": 8, \"0\": 10}, \"9\": {\"9\": 184, \"2\": 34, \"3\": 16, \"12\": 6}, \"7\": {\"7\": 221, \"2\": 15, \"3\": 3, \"8\": 1}, \"3\": {\"4\": 4, \"2\": 10, \"12\": 36, \"3\": 167, \"9\": 14, \"7\": 9}, \"8\": {\"8\": 224, \"4\": 15, \"7\": 1}, \"4\": {\"4\": 232, \"8\": 7, \"3\": 1}, \"6\": {\"6\": 237, \"14\": 3}, \"2\": {\"2\": 172, \"7\": 16, \"9\": 42, \"13\": 3, \"12\": 3, \"3\": 4}, \"12\": {\"12\": 174, \"2\": 8, \"3\": 29, \"1\": 25, \"9\": 2, \"5\": 2}, \"0\": {\"0\": 211, \"5\": 19, \"15\": 9, \"4\": 1}, \"13\": {\"13\": 238, \"15\": 1, \"2\": 1}, \"10\": {\"10\": 238, \"14\": 2}, \"11\": {\"11\": 240}, \"14\": {\"14\": 234, \"6\": 6}, \"1\": {\"13\": 2, \"1\": 198, \"12\": 32, \"3\": 1, \"15\": 5, \"5\": 2}}, \"ORACLE.run1_50\": {\"1\": {\"1\": 223, \"4\": 5, \"15\": 7, \"13\": 1, \"5\": 1, \"6\": 2, \"11\": 1}, \"2\": {\"2\": 229, \"0\": 11}, \"8\": {\"8\": 238, \"3\": 2}, \"7\": {\"7\": 216, \"13\": 9, \"6\": 1, \"5\": 12, \"4\": 1, \"10\": 1}, \"14\": {\"14\": 240}, \"6\": {\"6\": 232, \"15\": 2, \"7\": 1, \"5\": 2, \"4\": 1, \"13\": 2}, \"3\": {\"3\": 238, \"8\": 2}, \"4\": {\"4\": 185, \"6\": 3, \"5\": 33, \"15\": 16, \"11\": 1, \"7\": 1, \"1\": 1}, \"12\": {\"12\": 229, \"9\": 8, \"11\": 3}, \"15\": {\"15\": 213, \"1\": 8, \"4\": 15, \"6\": 3, \"11\": 1}, \"11\": {\"11\": 231, \"15\": 5, \"9\": 3, \"12\": 1}, \"0\": {\"0\": 217, \"10\": 6, \"2\": 17}, \"9\": {\"9\": 237, \"12\": 3}, \"10\": {\"10\": 236, \"0\": 2, \"13\": 2}, \"5\": {\"13\": 13, \"5\": 187, \"1\": 7, \"4\": 19, \"7\": 10, \"9\": 2, \"15\": 1, \"6\": 1}, \"13\": {\"7\": 4, \"13\": 227, \"6\": 3, \"5\": 6}}, \"ORACLE.run1_32\": {\"2\": {\"2\": 213, \"4\": 27}, \"6\": {\"6\": 240}, \"5\": {\"5\": 162, \"7\": 46, \"13\": 12, \"3\": 6, \"8\": 5, \"4\": 7, \"0\": 1, \"14\": 1}, \"12\": {\"12\": 240}, \"13\": {\"13\": 209, \"5\": 1, \"3\": 14, \"4\": 10, \"8\": 3, \"7\": 3}, \"9\": {\"9\": 240}, \"11\": {\"11\": 231, \"14\": 9}, \"1\": {\"1\": 240}, \"3\": {\"3\": 236, \"8\": 2, \"13\": 2}, \"7\": {\"7\": 172, \"5\": 39, \"2\": 4, \"14\": 10, \"4\": 12, \"13\": 2, \"8\": 1}, \"14\": {\"14\": 190, \"11\": 20, \"7\": 11, \"0\": 15, \"8\": 2, \"5\": 2}, \"8\": {\"8\": 222, \"0\": 12, \"13\": 2, \"5\": 4}, \"4\": {\"4\": 195, \"7\": 8, \"2\": 30, \"13\": 6, \"5\": 1}, \"0\": {\"0\": 216, \"14\": 12, \"8\": 11, \"7\": 1}, \"10\": {\"10\": 236, \"1\": 4}, \"15\": {\"15\": 240}}, \"ORACLE.run1_44\": {\"13\": {\"13\": 195, \"6\": 31, \"11\": 2, \"9\": 12}, \"4\": {\"4\": 186, \"14\": 53, \"15\": 1}, \"6\": {\"13\": 28, \"6\": 193, \"9\": 14, \"7\": 5}, \"0\": {\"0\": 189, \"8\": 39, \"5\": 6, \"15\": 6}, \"10\": {\"10\": 222, \"1\": 10, \"7\": 2, \"12\": 2, \"2\": 4}, \"7\": {\"7\": 179, \"6\": 4, \"9\": 38, \"2\": 18, \"13\": 1}, \"14\": {\"14\": 161, \"4\": 63, \"15\": 15, \"5\": 1}, \"15\": {\"14\": 8, \"15\": 213, \"5\": 5, \"0\": 11, \"8\": 3}, \"5\": {\"5\": 218, \"8\": 3, \"15\": 4, \"14\": 4, \"4\": 2, \"0\": 9}, \"2\": {\"2\": 216, \"1\": 3, \"10\": 9, \"7\": 12}, \"9\": {\"9\": 170, \"13\": 21, \"6\": 14, \"7\": 35}, \"12\": {\"12\": 224, \"1\": 13, \"3\": 2, \"10\": 1}, \"8\": {\"8\": 159, \"0\": 73, \"15\": 4, \"5\": 4}, \"3\": {\"3\": 232, \"1\": 8}, \"1\": {\"1\": 209, \"3\": 7, \"10\": 7, \"12\": 13, \"2\": 4}, \"11\": {\"11\": 238, \"13\": 2}}, \"ORACLE.run1_14\": {\"1\": {\"1\": 232, \"5\": 7, \"4\": 1}, \"15\": {\"15\": 240}, \"10\": {\"10\": 240}, \"2\": {\"3\": 9, \"2\": 160, \"14\": 46, \"5\": 13, \"6\": 10, \"13\": 2}, \"9\": {\"9\": 240}, \"5\": {\"5\": 203, \"2\": 4, \"3\": 1, \"4\": 19, \"1\": 13}, \"7\": {\"7\": 240}, \"13\": {\"13\": 170, \"2\": 4, \"14\": 11, \"6\": 52, \"4\": 2, \"5\": 1}, \"8\": {\"8\": 240}, \"6\": {\"6\": 210, \"14\": 2, \"13\": 25, \"2\": 3}, \"3\": {\"3\": 235, \"2\": 3, \"14\": 2}, \"12\": {\"12\": 240}, \"0\": {\"0\": 237, \"3\": 2, \"11\": 1}, \"4\": {\"4\": 223, \"5\": 15, \"2\": 1, \"1\": 1}, \"14\": {\"14\": 219, \"2\": 12, \"6\": 3, \"13\": 6}, \"11\": {\"11\": 236, \"9\": 3, \"0\": 1}}, \"CORES_2\": {\"21\": {\"21\": 103, \"3\": 4, \"25\": 3, \"40\": 1, \"50\": 1, \"36\": 1, \"48\": 1, \"46\": 3, \"19\": 1, \"51\": 1, \"20\": 1}, \"4\": {\"4\": 118, \"9\": 7, \"27\": 4, \"40\": 1}, \"6\": {\"6\": 82, \"8\": 2, \"46\": 2, \"3\": 3, \"53\": 1, \"50\": 13, \"21\": 1, \"17\": 3, \"25\": 3, \"54\": 4, \"44\": 1, \"29\": 1, \"48\": 4, \"1\": 2, \"30\": 1, \"36\": 1}, \"10\": {\"10\": 82, \"56\": 15, \"24\": 8, \"43\": 6, \"22\": 1}, \"33\": {\"33\": 27, \"29\": 1}, \"56\": {\"56\": 116, \"13\": 2, \"22\": 4}, \"20\": {\"20\": 121, \"51\": 7, \"12\": 3, \"8\": 1}, \"24\": {\"56\": 6, \"10\": 11, \"24\": 78, \"43\": 1}, \"45\": {\"4\": 9, \"20\": 13, \"45\": 54, \"17\": 2, \"26\": 1, \"32\": 5, \"12\": 10, \"21\": 3, \"51\": 9, \"27\": 9, \"36\": 2, \"40\": 2, \"8\": 6, \"53\": 2, \"9\": 1}, \"32\": {\"32\": 28}, \"27\": {\"27\": 143, \"17\": 5}, \"53\": {\"53\": 108, \"48\": 2, \"36\": 6, \"8\": 12, \"50\": 2, \"27\": 3, \"54\": 2, \"6\": 1}, \"8\": {\"8\": 138, \"53\": 10, \"26\": 1, \"36\": 4, \"50\": 4, \"6\": 2, \"32\": 1}, \"54\": {\"54\": 106, \"36\": 1, \"8\": 1}, \"50\": {\"6\": 13, \"50\": 93, \"17\": 2, \"25\": 7, \"8\": 5, \"21\": 4, \"9\": 2, \"53\": 3, \"3\": 3, \"40\": 1, \"36\": 1}, \"44\": {\"44\": 88, \"19\": 8, \"3\": 1, \"25\": 1, \"46\": 1, \"40\": 1}, \"5\": {\"5\": 101, \"47\": 8, \"37\": 1, \"13\": 1, \"57\": 3, \"11\": 3, \"15\": 2, \"29\": 1}, \"38\": {\"38\": 20}, \"19\": {\"19\": 130, \"40\": 2}, \"1\": {\"1\": 98, \"57\": 7, \"46\": 2, \"29\": 2, \"15\": 1, \"7\": 1, \"47\": 1}, \"30\": {\"30\": 124, \"2\": 1, \"18\": 8, \"9\": 1, \"52\": 4, \"48\": 3, \"23\": 1, \"6\": 1, \"25\": 1}, \"15\": {\"15\": 130, \"11\": 2, \"16\": 5, \"5\": 5, \"0\": 2}, \"23\": {\"23\": 135, \"52\": 5, \"1\": 2, \"57\": 3, \"30\": 1}, \"35\": {\"35\": 32}, \"22\": {\"22\": 128}, \"40\": {\"40\": 129, \"19\": 4, \"44\": 2, \"55\": 1, \"25\": 2, \"9\": 2}, \"46\": {\"46\": 90, \"14\": 1, \"47\": 2, \"48\": 5, \"1\": 3, \"7\": 2, \"2\": 1, \"3\": 2, \"5\": 1, \"57\": 1, \"55\": 2, \"6\": 1, \"29\": 5, \"25\": 2, \"33\": 1, \"41\": 1, \"44\": 1, \"34\": 1, \"11\": 1, \"19\": 2, \"50\": 1}, \"3\": {\"3\": 59, \"25\": 3, \"55\": 1, \"41\": 1, \"33\": 1, \"21\": 7, \"34\": 1, \"46\": 3, \"40\": 1, \"9\": 5, \"30\": 1, \"50\": 3, \"48\": 2, \"6\": 3, \"35\": 1}, \"48\": {\"48\": 133, \"30\": 6, \"6\": 3, \"17\": 2, \"50\": 1, \"41\": 3}, \"52\": {\"52\": 91, \"2\": 1, \"23\": 6, \"57\": 7, \"30\": 8, \"15\": 6, \"46\": 1, \"29\": 1, \"7\": 1, \"16\": 1, \"18\": 1}, \"2\": {\"2\": 27, \"49\": 1, \"57\": 1, \"1\": 1, \"7\": 1, \"46\": 1}, \"26\": {\"26\": 24}, \"17\": {\"17\": 97, \"27\": 5, \"20\": 1, \"50\": 1}, \"55\": {\"55\": 95, \"47\": 10, \"25\": 3, \"49\": 2, \"33\": 2, \"42\": 4, \"5\": 3, \"7\": 1, \"46\": 7, \"44\": 9, \"22\": 1, \"37\": 1, \"29\": 2, \"28\": 1, \"21\": 1, \"40\": 2}, \"51\": {\"51\": 117, \"20\": 4, \"8\": 1}, \"42\": {\"42\": 33, \"46\": 2, \"29\": 1}, \"41\": {\"41\": 16, \"48\": 4}, \"31\": {\"31\": 26, \"37\": 2}, \"16\": {\"16\": 122, \"5\": 4, \"15\": 10, \"57\": 1, \"47\": 1}, \"36\": {\"36\": 113, \"54\": 2, \"53\": 1}, \"49\": {\"49\": 20, \"34\": 2, \"2\": 1, \"29\": 1}, \"0\": {\"0\": 47, \"16\": 1}, \"18\": {\"18\": 39, \"23\": 2, \"30\": 4, \"48\": 1, \"2\": 1, \"6\": 1}, \"25\": {\"25\": 126, \"34\": 2, \"35\": 1, \"3\": 2, \"9\": 2, \"50\": 4, \"41\": 1, \"19\": 2, \"33\": 1, \"40\": 3, \"4\": 1, \"6\": 1}, \"9\": {\"9\": 114, \"21\": 1, \"4\": 1, \"27\": 2, \"40\": 2, \"6\": 1, \"20\": 1}, \"47\": {\"47\": 108, \"15\": 1, \"5\": 10, \"28\": 1, \"57\": 8, \"11\": 2, \"0\": 1, \"1\": 1}, \"7\": {\"7\": 34, \"47\": 1, \"57\": 1}, \"37\": {\"37\": 34, \"31\": 2}, \"13\": {\"13\": 114, \"22\": 2}, \"14\": {\"13\": 2, \"31\": 2, \"56\": 2, \"14\": 10, \"47\": 2, \"10\": 3, \"43\": 1, \"5\": 2}, \"34\": {\"34\": 25, \"29\": 2, \"49\": 1}, \"57\": {\"57\": 136, \"1\": 1, \"47\": 1, \"52\": 1, \"15\": 1}, \"11\": {\"11\": 121, \"39\": 1, \"15\": 4, \"5\": 9, \"16\": 3}, \"39\": {\"39\": 28}, \"12\": {\"12\": 75, \"36\": 1, \"20\": 7, \"45\": 3, \"27\": 3, \"8\": 2, \"4\": 1}, \"28\": {\"28\": 28}, \"29\": {\"29\": 125, \"46\": 3}, \"43\": {\"43\": 131, \"10\": 5, \"11\": 1, \"24\": 2, \"22\": 1}}, \"CORES_5\": {\"12\": {\"12\": 89, \"38\": 1, \"7\": 1, \"30\": 3, \"45\": 1, \"4\": 1}, \"8\": {\"1\": 10, \"8\": 94, \"6\": 8, \"53\": 15, \"9\": 2, \"30\": 9, \"48\": 4}, \"29\": {\"29\": 130, \"46\": 1, \"28\": 1}, \"57\": {\"57\": 121, \"42\": 1, \"52\": 2, \"5\": 1, \"21\": 1}, \"38\": {\"38\": 32}, \"23\": {\"23\": 111, \"18\": 4, \"54\": 3, \"57\": 4, \"42\": 2}, \"56\": {\"56\": 120, \"3\": 2, \"24\": 3, \"0\": 5, \"15\": 5, \"43\": 2, \"29\": 1}, \"49\": {\"49\": 35, \"44\": 1}, \"4\": {\"4\": 79, \"50\": 2, \"12\": 2, \"32\": 3, \"7\": 1, \"45\": 3, \"55\": 4, \"9\": 3, \"20\": 2, \"27\": 1}, \"48\": {\"48\": 112, \"17\": 4, \"1\": 8, \"8\": 3, \"53\": 7, \"9\": 2}, \"21\": {\"21\": 142, \"8\": 1, \"50\": 1}, \"30\": {\"30\": 123, \"1\": 1, \"6\": 1, \"27\": 1, \"8\": 2}, \"1\": {\"1\": 134, \"48\": 8, \"8\": 5, \"53\": 1}, \"34\": {\"34\": 32, \"47\": 1, \"49\": 2, \"23\": 1}, \"35\": {\"35\": 33, \"56\": 2, \"24\": 1}, \"55\": {\"8\": 1, \"21\": 3, \"55\": 108, \"45\": 8, \"6\": 2, \"20\": 16, \"30\": 3, \"51\": 11}, \"5\": {\"5\": 117, \"44\": 3, \"19\": 1, \"40\": 1}, \"52\": {\"52\": 90, \"54\": 1, \"57\": 18, \"46\": 5, \"23\": 5, \"3\": 2, \"47\": 4, \"43\": 1}, \"6\": {\"6\": 58, \"20\": 9, \"1\": 10, \"4\": 1, \"53\": 6, \"50\": 1, \"30\": 5, \"48\": 18, \"17\": 6, \"45\": 2, \"8\": 7, \"9\": 1, \"26\": 2, \"51\": 2}, \"36\": {\"36\": 75, \"28\": 1, \"57\": 2, \"47\": 3, \"34\": 1, \"42\": 1, \"3\": 1, \"29\": 4, \"44\": 1, \"14\": 2, \"52\": 1}, \"41\": {\"41\": 28}, \"3\": {\"28\": 2, \"46\": 8, \"3\": 72, \"47\": 3, \"44\": 1, \"11\": 3, \"57\": 1, \"29\": 5, \"14\": 2, \"36\": 1, \"49\": 1, \"40\": 1}, \"28\": {\"28\": 26, \"3\": 3, \"36\": 2, \"47\": 1}, \"18\": {\"18\": 59, \"54\": 3, \"23\": 2}, \"25\": {\"25\": 120, \"41\": 1, \"21\": 1, \"9\": 2, \"19\": 3, \"5\": 4, \"50\": 5}, \"47\": {\"47\": 89, \"34\": 1, \"52\": 1, \"3\": 3, \"49\": 1, \"29\": 1, \"36\": 3, \"46\": 1}, \"13\": {\"13\": 152, \"35\": 1, \"10\": 5, \"24\": 1, \"56\": 1}, \"11\": {\"11\": 108, \"46\": 3, \"15\": 14, \"43\": 15, \"3\": 1, \"16\": 3}, \"53\": {\"53\": 92, \"6\": 1, \"8\": 19, \"18\": 1, \"1\": 17, \"32\": 1, \"20\": 1, \"30\": 3, \"5\": 2, \"48\": 3, \"51\": 2, \"50\": 1, \"55\": 1}, \"33\": {\"33\": 32}, \"46\": {\"46\": 127, \"11\": 5, \"37\": 1, \"16\": 4, \"28\": 1, \"29\": 1, \"52\": 2, \"57\": 3, \"14\": 2, \"36\": 1, \"15\": 1}, \"50\": {\"33\": 2, \"41\": 2, \"50\": 82, \"48\": 1, \"8\": 10, \"1\": 7, \"32\": 2, \"27\": 3, \"49\": 1, \"5\": 5, \"20\": 5, \"9\": 4, \"21\": 13, \"25\": 6, \"19\": 3, \"53\": 1, \"55\": 1}, \"10\": {\"10\": 59, \"24\": 2, \"13\": 4, \"56\": 2, \"35\": 1}, \"15\": {\"15\": 121, \"31\": 2, \"43\": 8, \"11\": 7}, \"44\": {\"44\": 126, \"28\": 1, \"3\": 1, \"29\": 4, \"40\": 7, \"5\": 1}, \"2\": {\"2\": 28}, \"7\": {\"7\": 26, \"51\": 3, \"6\": 1, \"55\": 2}, \"43\": {\"43\": 74, \"11\": 23, \"36\": 1, \"46\": 5, \"31\": 1, \"15\": 19, \"29\": 5, \"3\": 5, \"37\": 1, \"16\": 3, \"47\": 1}, \"32\": {\"32\": 26, \"50\": 1, \"9\": 3, \"27\": 1, \"4\": 1}, \"0\": {\"0\": 124}, \"39\": {\"39\": 19, \"41\": 1}, \"26\": {\"26\": 23, \"30\": 1}, \"27\": {\"27\": 98, \"30\": 1, \"9\": 12, \"8\": 1}, \"54\": {\"54\": 103, \"1\": 3, \"50\": 2, \"18\": 3, \"21\": 1}, \"17\": {\"17\": 112, \"6\": 1, \"48\": 2, \"1\": 1}, \"14\": {\"3\": 6, \"34\": 2, \"14\": 21, \"11\": 3, \"28\": 1, \"36\": 1, \"5\": 3, \"44\": 3, \"2\": 1, \"15\": 1, \"37\": 1, \"40\": 1}, \"16\": {\"3\": 2, \"16\": 119, \"46\": 17, \"15\": 1, \"11\": 5, \"57\": 1, \"43\": 1, \"47\": 1, \"29\": 1}, \"9\": {\"9\": 95, \"1\": 1, \"20\": 2, \"4\": 2, \"6\": 1, \"32\": 1, \"17\": 4, \"27\": 20, \"45\": 2, \"30\": 5, \"25\": 4, \"48\": 4, \"8\": 4, \"21\": 1, \"50\": 2}, \"19\": {\"19\": 149, \"50\": 3}, \"20\": {\"20\": 102, \"30\": 5, \"21\": 5, \"51\": 7, \"53\": 3, \"50\": 4, \"6\": 2, \"8\": 6, \"55\": 2, \"7\": 1, \"45\": 1}, \"37\": {\"37\": 23, \"14\": 1}, \"24\": {\"24\": 73, \"35\": 1, \"56\": 5, \"10\": 1}, \"40\": {\"40\": 111, \"49\": 1, \"44\": 5, \"5\": 2, \"14\": 2, \"47\": 1}, \"45\": {\"20\": 6, \"9\": 9, \"53\": 4, \"45\": 55, \"6\": 1, \"4\": 5, \"30\": 7, \"55\": 8, \"21\": 1, \"51\": 8, \"8\": 6, \"27\": 8, \"25\": 2, \"48\": 1, \"19\": 1, \"38\": 1, \"7\": 1}, \"22\": {\"22\": 28}, \"42\": {\"42\": 38, \"13\": 1, \"56\": 1}, \"51\": {\"51\": 107, \"55\": 1, \"20\": 5, \"25\": 3, \"8\": 1, \"6\": 1}, \"31\": {\"31\": 35, \"56\": 1}}, \"CORES_1\": {\"27\": {\"27\": 135, \"24\": 1, \"22\": 1, \"43\": 3, \"39\": 1, \"10\": 1}, \"2\": {\"2\": 35, \"48\": 1}, \"33\": {\"33\": 31, \"34\": 1}, \"45\": {\"45\": 132, \"19\": 11, \"42\": 2, \"1\": 9, \"57\": 2}, \"38\": {\"38\": 24}, \"4\": {\"4\": 125, \"14\": 1, \"46\": 1, \"51\": 2, \"12\": 1, \"5\": 2}, \"31\": {\"24\": 1, \"31\": 24, \"10\": 1, \"22\": 2}, \"55\": {\"55\": 97, \"57\": 4, \"3\": 14, \"56\": 5, \"52\": 5, \"1\": 2, \"29\": 4, \"47\": 5, \"42\": 1, \"44\": 2, \"54\": 1}, \"32\": {\"32\": 26, \"44\": 5, \"47\": 1}, \"57\": {\"57\": 120, \"1\": 5, \"45\": 1, \"56\": 11, \"19\": 3}, \"14\": {\"14\": 18, \"30\": 1, \"53\": 3, \"8\": 1, \"13\": 1}, \"16\": {\"16\": 132, \"33\": 3, \"34\": 1, \"54\": 4}, \"34\": {\"33\": 3, \"34\": 21}, \"56\": {\"57\": 14, \"56\": 97, \"19\": 5, \"1\": 1, \"29\": 3, \"25\": 5, \"45\": 1}, \"24\": {\"31\": 2, \"24\": 76, \"49\": 2, \"22\": 12, \"10\": 8, \"43\": 4, \"27\": 2, \"11\": 2}, \"30\": {\"30\": 99, \"53\": 3, \"26\": 1, \"8\": 5, \"9\": 2, \"12\": 1, \"40\": 1}, \"17\": {\"17\": 58, \"53\": 2, \"8\": 1, \"9\": 3}, \"13\": {\"13\": 132, \"7\": 2, \"25\": 1, \"51\": 2, \"57\": 1}, \"39\": {\"39\": 25, \"15\": 2, \"21\": 1}, \"50\": {\"50\": 145, \"6\": 1}, \"20\": {\"20\": 139, \"13\": 1}, \"41\": {\"41\": 24}, \"53\": {\"53\": 106, \"14\": 4, \"30\": 3, \"9\": 6, \"17\": 1, \"8\": 4, \"18\": 1, \"48\": 1}, \"48\": {\"48\": 141, \"2\": 1}, \"36\": {\"36\": 58, \"15\": 1, \"0\": 1, \"23\": 2, \"38\": 1, \"44\": 1}, \"8\": {\"8\": 133, \"17\": 2, \"9\": 5}, \"15\": {\"21\": 4, \"15\": 113, \"11\": 5, \"0\": 4, \"23\": 4, \"44\": 1, \"22\": 1}, \"40\": {\"40\": 147, \"12\": 3, \"25\": 2, \"51\": 1, \"20\": 1, \"13\": 2}, \"37\": {\"37\": 32}, \"21\": {\"15\": 7, \"21\": 108, \"23\": 5}, \"35\": {\"35\": 35, \"44\": 1}, \"49\": {\"49\": 30, \"10\": 2}, \"26\": {\"26\": 23, \"53\": 1}, \"28\": {\"3\": 2, \"28\": 20, \"49\": 2, \"52\": 2, \"38\": 1, \"47\": 1}, \"12\": {\"12\": 105, \"25\": 1, \"46\": 1, \"20\": 6, \"3\": 1, \"41\": 1, \"51\": 1}, \"5\": {\"5\": 137, \"14\": 1, \"6\": 6, \"46\": 3, \"48\": 3, \"8\": 1, \"50\": 1}, \"29\": {\"29\": 131, \"20\": 2, \"56\": 2, \"19\": 1, \"55\": 2, \"3\": 1, \"25\": 1}, \"47\": {\"47\": 132, \"28\": 2, \"3\": 2, \"44\": 2, \"49\": 2}, \"10\": {\"10\": 69, \"21\": 1, \"24\": 9, \"49\": 1, \"22\": 8, \"0\": 1, \"27\": 2, \"43\": 2, \"39\": 2, \"11\": 1}, \"18\": {\"18\": 68, \"1\": 1, \"46\": 1, \"54\": 1, \"8\": 1}, \"9\": {\"9\": 123, \"8\": 3}, \"3\": {\"3\": 111, \"32\": 1, \"55\": 11, \"44\": 10, \"56\": 1, \"54\": 1, \"29\": 3, \"47\": 1, \"25\": 1}, \"52\": {\"52\": 110, \"31\": 1, \"47\": 10, \"0\": 3, \"24\": 2, \"11\": 1, \"22\": 1, \"28\": 1, \"3\": 2, \"44\": 1}, \"25\": {\"25\": 131, \"57\": 4, \"45\": 1}, \"19\": {\"19\": 130, \"45\": 6, \"42\": 1, \"1\": 12, \"57\": 3, \"20\": 3, \"29\": 1}, \"11\": {\"11\": 102, \"10\": 3, \"15\": 12, \"0\": 5, \"22\": 9, \"24\": 3, \"21\": 1, \"27\": 1}, \"7\": {\"7\": 22, \"14\": 1, \"13\": 1, \"53\": 1, \"20\": 1, \"37\": 1, \"19\": 1}, \"23\": {\"23\": 119, \"15\": 10, \"21\": 5, \"36\": 2}, \"44\": {\"44\": 121, \"35\": 4, \"3\": 2, \"47\": 1, \"0\": 1, \"38\": 1, \"32\": 2}, \"42\": {\"42\": 36, \"57\": 2, \"45\": 2}, \"54\": {\"54\": 104}, \"1\": {\"1\": 86, \"45\": 4, \"57\": 2, \"19\": 7, \"42\": 1}, \"46\": {\"6\": 6, \"8\": 3, \"46\": 72, \"17\": 2, \"4\": 5, \"51\": 5, \"50\": 7, \"40\": 6, \"48\": 6, \"9\": 1, \"5\": 10, \"41\": 2, \"53\": 1, \"12\": 2}, \"6\": {\"6\": 86, \"4\": 1, \"2\": 1, \"5\": 5, \"46\": 1, \"48\": 2}, \"43\": {\"43\": 133, \"27\": 6, \"10\": 3, \"24\": 2}, \"51\": {\"51\": 137, \"20\": 3, \"13\": 2}, \"22\": {\"22\": 104, \"24\": 6, \"11\": 7, \"15\": 3, \"43\": 3, \"10\": 5, \"39\": 1, \"21\": 3, \"31\": 1, \"49\": 2, \"0\": 1}, \"0\": {\"0\": 113, \"49\": 1, \"22\": 1, \"31\": 1, \"24\": 2, \"11\": 5, \"44\": 1, \"15\": 4}}, \"CORES_4\": {\"32\": {\"32\": 24}, \"2\": {\"2\": 32, \"24\": 2, \"35\": 1, \"10\": 1}, \"41\": {\"41\": 33, \"46\": 2, \"1\": 1}, \"11\": {\"11\": 83, \"37\": 2, \"0\": 3, \"32\": 1, \"16\": 1, \"15\": 9, \"43\": 1, \"46\": 1, \"56\": 1}, \"57\": {\"57\": 94, \"46\": 1, \"47\": 5}, \"6\": {\"6\": 32, \"20\": 8, \"28\": 1, \"33\": 2, \"40\": 3, \"36\": 7, \"3\": 13, \"55\": 4, \"31\": 1, \"51\": 2, \"21\": 3, \"18\": 3, \"4\": 2, \"34\": 1, \"44\": 5, \"27\": 2, \"50\": 3, \"8\": 3, \"48\": 3, \"54\": 4, \"53\": 4, \"26\": 2, \"42\": 1, \"25\": 3}, \"23\": {\"23\": 124, \"52\": 4, \"18\": 6, \"42\": 1, \"54\": 1}, \"52\": {\"23\": 12, \"52\": 93, \"41\": 3, \"18\": 1, \"57\": 3, \"47\": 3, \"5\": 1}, \"38\": {\"2\": 5, \"38\": 34, \"13\": 1}, \"50\": {\"50\": 86, \"3\": 7, \"28\": 1, \"36\": 2, \"8\": 10, \"20\": 2, \"55\": 1, \"51\": 3, \"9\": 7, \"25\": 5, \"30\": 2, \"27\": 1, \"4\": 2, \"6\": 3}, \"55\": {\"55\": 105, \"31\": 3, \"25\": 6, \"26\": 1, \"35\": 2, \"29\": 4, \"44\": 2, \"5\": 5, \"3\": 3, \"6\": 1, \"47\": 2, \"22\": 1, \"40\": 9, \"50\": 2, \"33\": 2, \"28\": 1, \"46\": 2, \"20\": 1}, \"46\": {\"11\": 4, \"32\": 1, \"22\": 5, \"15\": 11, \"49\": 1, \"52\": 4, \"57\": 16, \"46\": 79, \"55\": 1, \"0\": 1, \"5\": 6, \"35\": 1, \"47\": 13, \"56\": 2, \"19\": 1, \"23\": 2, \"41\": 1, \"7\": 2, \"1\": 1, \"16\": 1, \"29\": 1}, \"37\": {\"37\": 24}, \"20\": {\"20\": 88, \"6\": 2, \"50\": 11, \"30\": 1, \"8\": 1, \"51\": 9, \"55\": 1, \"21\": 3, \"53\": 2}, \"49\": {\"49\": 20}, \"45\": {\"45\": 67, \"12\": 7, \"27\": 5, \"30\": 2, \"50\": 2, \"21\": 2, \"4\": 1, \"9\": 6, \"51\": 3, \"20\": 1}, \"54\": {\"54\": 101, \"48\": 3, \"36\": 4}, \"3\": {\"3\": 84, \"50\": 3, \"6\": 4, \"4\": 4, \"53\": 4, \"17\": 1, \"27\": 1, \"48\": 6, \"36\": 5, \"40\": 1, \"54\": 2, \"8\": 1, \"34\": 1, \"55\": 1, \"31\": 1, \"20\": 1, \"26\": 1, \"25\": 1, \"44\": 2}, \"13\": {\"13\": 152}, \"18\": {\"23\": 10, \"18\": 96, \"6\": 1, \"36\": 1}, \"21\": {\"21\": 115, \"30\": 4, \"45\": 1, \"27\": 1, \"51\": 2, \"8\": 3}, \"43\": {\"43\": 138, \"0\": 3, \"24\": 2, \"56\": 1}, \"47\": {\"47\": 78, \"57\": 11, \"46\": 9, \"29\": 7, \"41\": 3, \"52\": 1, \"1\": 1, \"5\": 9, \"7\": 1}, \"4\": {\"4\": 111, \"20\": 1, \"6\": 3, \"26\": 1, \"9\": 8, \"53\": 1, \"36\": 1, \"27\": 2, \"33\": 1, \"17\": 1, \"51\": 2}, \"12\": {\"12\": 89, \"21\": 2, \"45\": 1}, \"9\": {\"9\": 107, \"27\": 12, \"4\": 3, \"53\": 2, \"51\": 1, \"20\": 1, \"36\": 1, \"50\": 1}, \"7\": {\"7\": 23, \"32\": 1}, \"56\": {\"56\": 103, \"0\": 1, \"22\": 5, \"10\": 3}, \"28\": {\"28\": 30, \"40\": 1, \"25\": 1}, \"44\": {\"44\": 107, \"28\": 4, \"19\": 13, \"40\": 5, \"6\": 1, \"20\": 1, \"55\": 1}, \"24\": {\"24\": 49, \"43\": 3, \"0\": 1, \"10\": 2, \"2\": 1}, \"33\": {\"33\": 34, \"40\": 2}, \"35\": {\"35\": 40}, \"51\": {\"51\": 121, \"20\": 17}, \"39\": {\"39\": 19, \"42\": 1}, \"36\": {\"36\": 86, \"53\": 2, \"44\": 1, \"17\": 1, \"6\": 1, \"54\": 1}, \"19\": {\"19\": 130, \"44\": 5, \"40\": 3, \"34\": 1, \"55\": 1}, \"0\": {\"15\": 3, \"0\": 55, \"46\": 3, \"43\": 9, \"31\": 1, \"57\": 1, \"24\": 2, \"29\": 2, \"16\": 1, \"22\": 1, \"5\": 1, \"55\": 1}, \"15\": {\"15\": 118, \"1\": 2, \"11\": 3, \"41\": 2, \"32\": 1, \"35\": 1, \"16\": 4, \"46\": 4, \"55\": 1}, \"29\": {\"29\": 120, \"44\": 2, \"5\": 1, \"47\": 1}, \"30\": {\"30\": 33, \"8\": 4, \"21\": 5, \"50\": 1, \"20\": 1}, \"1\": {\"1\": 36, \"16\": 1, \"57\": 2, \"35\": 1}, \"22\": {\"22\": 106, \"10\": 1, \"56\": 15, \"0\": 3, \"46\": 1, \"11\": 2}, \"40\": {\"40\": 126, \"31\": 1, \"25\": 3, \"44\": 4, \"33\": 5, \"19\": 3, \"6\": 1, \"20\": 1, \"29\": 1, \"55\": 1}, \"8\": {\"8\": 104, \"36\": 3, \"30\": 3, \"17\": 2, \"50\": 2, \"21\": 9, \"27\": 2, \"53\": 1, \"48\": 2}, \"53\": {\"53\": 88, \"8\": 12, \"36\": 6, \"3\": 9, \"6\": 2, \"27\": 3, \"50\": 3, \"20\": 6, \"26\": 1, \"4\": 1, \"18\": 1, \"54\": 2, \"51\": 3, \"48\": 1}, \"34\": {\"34\": 23, \"28\": 1}, \"10\": {\"10\": 106, \"13\": 1, \"43\": 3, \"56\": 5, \"24\": 2, \"2\": 1, \"38\": 2, \"22\": 2}, \"31\": {\"31\": 28}, \"17\": {\"17\": 70, \"27\": 7, \"48\": 2, \"51\": 1}, \"16\": {\"16\": 81, \"1\": 1, \"35\": 1, \"15\": 4, \"11\": 5, \"47\": 1, \"41\": 1, \"46\": 2}, \"42\": {\"42\": 32}, \"27\": {\"27\": 129, \"48\": 1, \"4\": 1, \"36\": 2, \"17\": 4, \"53\": 2, \"8\": 3}, \"14\": {\"38\": 1, \"22\": 1, \"14\": 9, \"0\": 1, \"46\": 1, \"43\": 2, \"31\": 1}, \"25\": {\"25\": 98, \"3\": 3, \"40\": 7, \"4\": 5, \"6\": 3, \"44\": 4, \"8\": 1, \"55\": 1}, \"48\": {\"48\": 129, \"3\": 1, \"17\": 1, \"27\": 1}, \"26\": {\"3\": 2, \"26\": 20, \"27\": 2}, \"5\": {\"5\": 61, \"39\": 1, \"29\": 10, \"47\": 11, \"52\": 2, \"57\": 8, \"23\": 2, \"35\": 2, \"46\": 6, \"55\": 1, \"1\": 1, \"42\": 2, \"33\": 1}}, \"CORES_3\": {\"14\": {\"55\": 5, \"7\": 1, \"14\": 17, \"24\": 3, \"28\": 1, \"56\": 4, \"31\": 1, \"10\": 3, \"49\": 1, \"43\": 1, \"22\": 1, \"11\": 2}, \"18\": {\"18\": 75, \"52\": 5, \"30\": 1, \"53\": 1, \"41\": 2}, \"30\": {\"30\": 104, \"48\": 4, \"8\": 1, \"18\": 1, \"54\": 1, \"52\": 1, \"36\": 3, \"53\": 2, \"6\": 3}, \"16\": {\"16\": 135, \"11\": 3, \"15\": 14, \"39\": 1, \"5\": 2, \"23\": 1}, \"1\": {\"1\": 87, \"34\": 3, \"57\": 7, \"5\": 2, \"47\": 1}, \"20\": {\"20\": 115, \"21\": 12, \"6\": 1, \"51\": 2, \"25\": 1, \"3\": 1}, \"7\": {\"7\": 36}, \"52\": {\"52\": 113, \"18\": 5, \"48\": 7, \"41\": 1, \"46\": 1, \"57\": 1, \"23\": 1, \"3\": 1}, \"9\": {\"9\": 134, \"3\": 2, \"21\": 1, \"46\": 1, \"6\": 1, \"20\": 1}, \"23\": {\"23\": 134, \"47\": 1, \"16\": 5, \"57\": 3, \"52\": 1}, \"55\": {\"55\": 118, \"14\": 2, \"26\": 2, \"40\": 1, \"5\": 6, \"25\": 14, \"3\": 1, \"29\": 3, \"44\": 6, \"47\": 1, \"21\": 1, \"46\": 1, \"13\": 2, \"22\": 6}, \"29\": {\"29\": 125, \"1\": 1}, \"56\": {\"56\": 125, \"10\": 3, \"13\": 1, \"24\": 3, \"14\": 2}, \"3\": {\"29\": 4, \"3\": 77, \"50\": 4, \"26\": 1, \"25\": 2, \"9\": 11, \"46\": 9, \"41\": 2, \"52\": 1, \"48\": 1, \"6\": 4, \"40\": 2, \"57\": 1, \"20\": 1, \"27\": 1, \"44\": 1, \"55\": 1, \"1\": 1}, \"42\": {\"29\": 6, \"42\": 15, \"26\": 2, \"44\": 2, \"46\": 2, \"55\": 1}, \"6\": {\"30\": 11, \"6\": 35, \"50\": 5, \"26\": 1, \"25\": 2, \"46\": 3, \"29\": 2, \"9\": 8, \"18\": 1, \"53\": 2, \"36\": 1, \"48\": 4, \"1\": 1, \"21\": 2, \"51\": 1, \"3\": 6, \"55\": 1, \"20\": 1, \"27\": 1}, \"5\": {\"5\": 96, \"47\": 6, \"1\": 2, \"57\": 11, \"3\": 1}, \"27\": {\"27\": 137, \"4\": 1, \"54\": 1, \"9\": 1, \"53\": 1, \"17\": 3}, \"47\": {\"47\": 78, \"5\": 6, \"37\": 1, \"34\": 2, \"57\": 2, \"1\": 1, \"0\": 1, \"55\": 1}, \"39\": {\"34\": 1, \"39\": 12, \"37\": 1, \"57\": 2}, \"34\": {\"34\": 27, \"5\": 2, \"1\": 2, \"29\": 1}, \"4\": {\"4\": 112, \"2\": 1, \"40\": 2, \"27\": 4, \"53\": 2, \"19\": 1, \"50\": 2, \"8\": 1, \"17\": 1}, \"24\": {\"24\": 93, \"10\": 5, \"43\": 2, \"56\": 4}, \"46\": {\"46\": 78, \"55\": 2, \"9\": 6, \"3\": 14, \"6\": 4, \"50\": 4, \"47\": 2, \"40\": 1, \"48\": 3, \"41\": 1, \"29\": 2, \"25\": 1}, \"50\": {\"46\": 4, \"27\": 3, \"50\": 87, \"3\": 8, \"21\": 6, \"25\": 2, \"29\": 2, \"41\": 1, \"17\": 3, \"48\": 2, \"30\": 2, \"6\": 2, \"9\": 2, \"53\": 1, \"8\": 1}, \"38\": {\"38\": 26, \"17\": 1, \"25\": 1}, \"54\": {\"54\": 98, \"36\": 2}, \"35\": {\"35\": 28}, \"2\": {\"2\": 32}, \"41\": {\"41\": 24, \"33\": 3, \"50\": 1}, \"57\": {\"57\": 106, \"34\": 2, \"5\": 5, \"1\": 5}, \"25\": {\"25\": 129, \"55\": 1, \"3\": 4, \"20\": 1, \"50\": 4, \"6\": 1, \"44\": 4, \"29\": 2, \"40\": 2, \"17\": 1, \"9\": 1}, \"48\": {\"48\": 100, \"18\": 1, \"52\": 6, \"17\": 1, \"30\": 1, \"6\": 4, \"25\": 1, \"33\": 2}, \"33\": {\"33\": 22, \"50\": 3, \"9\": 2, \"27\": 1}, \"45\": {\"45\": 32, \"36\": 4, \"8\": 1, \"4\": 9, \"53\": 2, \"21\": 1, \"20\": 4, \"12\": 2, \"51\": 2, \"54\": 1, \"27\": 2}, \"13\": {\"14\": 1, \"13\": 117, \"31\": 1, \"7\": 1, \"22\": 6}, \"36\": {\"36\": 97, \"8\": 1, \"53\": 1, \"38\": 1}, \"43\": {\"43\": 128, \"10\": 1, \"11\": 1, \"0\": 1, \"24\": 1}, \"28\": {\"28\": 25, \"26\": 2, \"35\": 1}, \"0\": {\"0\": 123, \"15\": 1}, \"12\": {\"12\": 81, \"51\": 3, \"45\": 1, \"20\": 1, \"4\": 3, \"36\": 1, \"8\": 2}, \"31\": {\"31\": 28}, \"40\": {\"40\": 95, \"25\": 3, \"19\": 13, \"44\": 3, \"51\": 1, \"20\": 1}, \"44\": {\"44\": 80, \"20\": 1, \"19\": 4, \"40\": 2, \"51\": 1}, \"32\": {\"32\": 28}, \"26\": {\"26\": 21, \"57\": 2, \"3\": 1}, \"8\": {\"8\": 102, \"38\": 1, \"36\": 4, \"53\": 7, \"17\": 2}, \"10\": {\"10\": 54, \"14\": 1, \"24\": 4, \"56\": 5}, \"15\": {\"15\": 128, \"31\": 1, \"22\": 1, \"47\": 1, \"57\": 1, \"5\": 3, \"55\": 1, \"16\": 4, \"37\": 1, \"0\": 1}, \"21\": {\"21\": 87, \"50\": 4, \"51\": 5, \"33\": 2, \"20\": 14, \"40\": 2, \"53\": 1, \"48\": 1, \"6\": 2, \"25\": 5, \"36\": 1, \"2\": 1, \"9\": 2, \"3\": 1}, \"37\": {\"37\": 28}, \"17\": {\"17\": 100, \"27\": 3, \"30\": 1, \"8\": 1, \"33\": 1, \"50\": 1, \"53\": 1}, \"51\": {\"51\": 122, \"20\": 1, \"25\": 1}, \"53\": {\"53\": 118, \"21\": 1, \"50\": 1, \"36\": 8, \"8\": 8, \"54\": 1, \"30\": 2, \"51\": 1, \"20\": 2, \"17\": 1, \"25\": 1}, \"19\": {\"19\": 120, \"25\": 2, \"46\": 1, \"40\": 9, \"9\": 2, \"48\": 1, \"4\": 1}, \"49\": {\"49\": 19, \"31\": 1}, \"11\": {\"11\": 131, \"0\": 1, \"15\": 5, \"37\": 1}, \"22\": {\"22\": 128, \"13\": 2}}}, \"per_domain_accuracy\": {\"ORACLE.run1_8\": {\"accuracy\": 0.90546875, \"source?\": true}, \"ORACLE.run1_38\": {\"accuracy\": 0.9372395833333333, \"source?\": true}, \"ORACLE.run1_26\": {\"accuracy\": 0.7890625, \"source?\": true}, \"ORACLE.run1_20\": {\"accuracy\": 0.8895833333333333, \"source?\": true}, \"ORACLE.run1_50\": {\"accuracy\": 0.9317708333333333, \"source?\": true}, \"ORACLE.run1_32\": {\"accuracy\": 0.9067708333333333, \"source?\": true}, \"ORACLE.run1_44\": {\"accuracy\": 0.834375, \"source?\": true}, \"ORACLE.run1_14\": {\"accuracy\": 0.9283854166666666, \"source?\": true}, \"CORES_2\": {\"accuracy\": 0.8647017045454546, \"source?\": false}, \"CORES_5\": {\"accuracy\": 0.828125, \"source?\": false}, \"CORES_1\": {\"accuracy\": 0.883070054945055, \"source?\": false}, \"CORES_4\": {\"accuracy\": 0.8239146706586826, \"source?\": false}, \"CORES_3\": {\"accuracy\": 0.8629385964912281, \"source?\": false}}}, \"history\": {\"epoch_indices\": [1, 2, 3, 4, 5, 6, 7, 8, 9, 10], \"train_label_loss\": [0.7670667858816506, 0.4954499306484303, 0.39187113115857797, 0.3319668067814616, 0.2931198256075038, 0.26592781732996673, 0.24605511413205283, 0.22791995615996366, 0.21068796118381128, 0.19613719567451404], \"source_val_label_loss\": [0.6832687854766846, 0.4253719747066498, 0.37685906887054443, 0.3258414566516876, 0.30267950892448425, 0.30763623118400574, 0.27755069732666016, 0.28304529190063477, 0.2731763422489166, 0.27779409289360046], \"target_val_label_loss\": [1.3807122707366943, 0.9444947242736816, 0.923970103263855, 0.8906322121620178, 1.1461817026138306, 0.9527896046638489, 1.2177103757858276, 1.1904441118240356, 1.2839162349700928, 1.3500953912734985], \"source_val_acc_label\": [0.7684244791666667, 0.8493489583333333, 0.8674479166666667, 0.8845052083333333, 0.8914713541666667, 0.89033203125, 0.9009765625, 0.8983723958333333, 0.9032552083333333, 0.9007486979166667], \"target_val_acc_label\": [0.6529247711670481, 0.8068506864988558, 0.8348112128146453, 0.8519736842105263, 0.8415689359267735, 0.8529390732265446, 0.8382794622425629, 0.8456807780320366, 0.8501144164759725, 0.84879147597254]}, \"dataset_metrics\": {\"source\": {\"train\": {\"n_unique_x\": 179200, \"n_unique_y\": 16, \"n_batch/episode\": 6720}, \"val\": {\"n_unique_x\": 38400, \"n_unique_y\": 16, \"n_batch/episode\": 960}, \"test\": {\"n_unique_x\": 38400, \"n_unique_y\": 16, \"n_batch/episode\": 960}}, \"target\": {\"train\": {\"n_unique_x\": 175127, \"n_unique_y\": 58, \"n_batch/episode\": 6303}, \"val\": {\"n_unique_x\": 37135, \"n_unique_y\": 58, \"n_batch/episode\": 874}, \"test\": {\"n_unique_x\": 37673, \"n_unique_y\": 58, \"n_batch/episode\": 893}}}}'"
      ]
     },
     "execution_count": 29,
     "metadata": {},
     "output_type": "execute_result"
    }
   ],
   "source": [
    "json.dumps(experiment)"
   ]
  }
 ],
 "metadata": {
  "celltoolbar": "Tags",
  "kernelspec": {
   "display_name": "Python 3 (ipykernel)",
   "language": "python",
   "name": "python3"
  },
  "language_info": {
   "codemirror_mode": {
    "name": "ipython",
    "version": 3
   },
   "file_extension": ".py",
   "mimetype": "text/x-python",
   "name": "python",
   "nbconvert_exporter": "python",
   "pygments_lexer": "ipython3",
   "version": "3.8.12"
  },
  "papermill": {
   "default_parameters": {},
   "duration": 2704.148123,
   "end_time": "2022-03-21T12:17:41.164024",
   "environment_variables": {},
   "exception": null,
   "input_path": "/root/csc500-main/csc500-notebooks/templates/tl_ptn_template.ipynb",
   "output_path": "trial.ipynb",
   "parameters": {
    "parameters": {
     "BEST_MODEL_PATH": "./best_model.pth",
     "NUM_LOGS_PER_EPOCH": 10,
     "criteria_for_best": "target_accuracy",
     "dataset_seed": 154325,
     "datasets": [
      {
       "domain_prefix": "CORES_",
       "domains": [
        1,
        2,
        3,
        4,
        5
       ],
       "episode_transforms": [],
       "labels": [
        "1-10.",
        "1-11.",
        "1-15.",
        "1-16.",
        "1-17.",
        "1-18.",
        "1-19.",
        "10-4.",
        "10-7.",
        "11-1.",
        "11-14.",
        "11-17.",
        "11-20.",
        "11-7.",
        "13-20.",
        "13-8.",
        "14-10.",
        "14-11.",
        "14-14.",
        "14-7.",
        "15-1.",
        "15-20.",
        "16-1.",
        "16-16.",
        "17-10.",
        "17-11.",
        "17-2.",
        "19-1.",
        "19-16.",
        "19-19.",
        "19-20.",
        "19-3.",
        "2-10.",
        "2-11.",
        "2-17.",
        "2-18.",
        "2-20.",
        "2-3.",
        "2-4.",
        "2-5.",
        "2-6.",
        "2-7.",
        "2-8.",
        "3-13.",
        "3-18.",
        "3-3.",
        "4-1.",
        "4-10.",
        "4-11.",
        "4-19.",
        "5-5.",
        "6-15.",
        "7-10.",
        "7-14.",
        "8-18.",
        "8-20.",
        "8-3.",
        "8-8."
       ],
       "num_examples_per_domain_per_label": -1,
       "pickle_path": "/root/csc500-main/datasets/cores.stratified_ds.2022A.pkl",
       "source_or_target_dataset": "target",
       "x_transforms": [
        "unit_mag"
       ]
      },
      {
       "domain_prefix": "ORACLE.run1_",
       "domains": [
        32,
        38,
        8,
        44,
        14,
        50,
        20,
        26
       ],
       "episode_transforms": [],
       "labels": [
        "3123D52",
        "3123D65",
        "3123D79",
        "3123D80",
        "3123D54",
        "3123D70",
        "3123D7B",
        "3123D89",
        "3123D58",
        "3123D76",
        "3123D7D",
        "3123EFE",
        "3123D64",
        "3123D78",
        "3123D7E",
        "3124E4A"
       ],
       "num_examples_per_domain_per_label": 2000,
       "pickle_path": "/root/csc500-main/datasets/oracle.Run1_framed_2000Examples_stratified_ds.2022A.pkl",
       "source_or_target_dataset": "source",
       "x_transforms": [
        "unit_mag"
       ]
      }
     ],
     "device": "cuda",
     "experiment_name": "tl_1v2:cores-oracle.run1.framed",
     "lr": 0.0001,
     "n_epoch": 50,
     "n_query": 2,
     "n_shot": 3,
     "n_way": 16,
     "patience": 3,
     "seed": 154325,
     "test_k_factor": 2,
     "torch_default_dtype": "torch.float32",
     "train_k_factor": 3,
     "val_k_factor": 2,
     "x_net": [
      {
       "class": "nnReshape",
       "kargs": {
        "shape": [
         -1,
         1,
         2,
         256
        ]
       }
      },
      {
       "class": "Conv2d",
       "kargs": {
        "bias": false,
        "in_channels": 1,
        "kernel_size": [
         1,
         7
        ],
        "out_channels": 256,
        "padding": [
         0,
         3
        ]
       }
      },
      {
       "class": "ReLU",
       "kargs": {
        "inplace": true
       }
      },
      {
       "class": "BatchNorm2d",
       "kargs": {
        "num_features": 256
       }
      },
      {
       "class": "Conv2d",
       "kargs": {
        "bias": true,
        "in_channels": 256,
        "kernel_size": [
         2,
         7
        ],
        "out_channels": 80,
        "padding": [
         0,
         3
        ]
       }
      },
      {
       "class": "ReLU",
       "kargs": {
        "inplace": true
       }
      },
      {
       "class": "BatchNorm2d",
       "kargs": {
        "num_features": 80
       }
      },
      {
       "class": "Flatten",
       "kargs": {}
      },
      {
       "class": "Linear",
       "kargs": {
        "in_features": 20480,
        "out_features": 256
       }
      },
      {
       "class": "ReLU",
       "kargs": {
        "inplace": true
       }
      },
      {
       "class": "BatchNorm1d",
       "kargs": {
        "num_features": 256
       }
      },
      {
       "class": "Linear",
       "kargs": {
        "in_features": 256,
        "out_features": 256
       }
      }
     ]
    }
   },
   "start_time": "2022-03-21T11:32:37.015901",
   "version": "2.3.4"
  }
 },
 "nbformat": 4,
 "nbformat_minor": 5
}