{
 "cells": [
  {
   "cell_type": "markdown",
   "id": "9fea5f46",
   "metadata": {
    "papermill": {
     "duration": 0.031207,
     "end_time": "2022-03-21T19:45:25.134283",
     "exception": false,
     "start_time": "2022-03-21T19:45:25.103076",
     "status": "completed"
    },
    "tags": []
   },
   "source": [
    "# Transfer Learning Template"
   ]
  },
  {
   "cell_type": "code",
   "execution_count": 1,
   "id": "0902182a",
   "metadata": {
    "execution": {
     "iopub.execute_input": "2022-03-21T19:45:25.197928Z",
     "iopub.status.busy": "2022-03-21T19:45:25.196594Z",
     "iopub.status.idle": "2022-03-21T19:45:27.032016Z",
     "shell.execute_reply": "2022-03-21T19:45:27.031489Z"
    },
    "papermill": {
     "duration": 1.874433,
     "end_time": "2022-03-21T19:45:27.032146",
     "exception": false,
     "start_time": "2022-03-21T19:45:25.157713",
     "status": "completed"
    },
    "tags": []
   },
   "outputs": [],
   "source": [
    "%load_ext autoreload\n",
    "%autoreload 2\n",
    "%matplotlib inline\n",
    "\n",
    "    \n",
    "import os, json, sys, time, random\n",
    "import numpy as np\n",
    "import torch\n",
    "from torch.optim import Adam\n",
    "from  easydict import EasyDict\n",
    "import matplotlib.pyplot as plt\n",
    "\n",
    "from steves_models.steves_ptn import Steves_Prototypical_Network\n",
    "\n",
    "from steves_utils.lazy_iterable_wrapper import Lazy_Iterable_Wrapper\n",
    "from steves_utils.iterable_aggregator import Iterable_Aggregator\n",
    "from steves_utils.ptn_train_eval_test_jig import  PTN_Train_Eval_Test_Jig\n",
    "from steves_utils.torch_sequential_builder import build_sequential\n",
    "from steves_utils.torch_utils import get_dataset_metrics, ptn_confusion_by_domain_over_dataloader\n",
    "from steves_utils.utils_v2 import (per_domain_accuracy_from_confusion, get_datasets_base_path)\n",
    "from steves_utils.PTN.utils import independent_accuracy_assesment\n",
    "\n",
    "from torch.utils.data import DataLoader\n",
    "\n",
    "from steves_utils.stratified_dataset.episodic_accessor import Episodic_Accessor_Factory\n",
    "\n",
    "from steves_utils.ptn_do_report import (\n",
    "    get_loss_curve,\n",
    "    get_results_table,\n",
    "    get_parameters_table,\n",
    "    get_domain_accuracies,\n",
    ")\n",
    "\n",
    "from steves_utils.transforms import get_chained_transform"
   ]
  },
  {
   "cell_type": "markdown",
   "id": "41c840b4",
   "metadata": {
    "papermill": {
     "duration": 0.018942,
     "end_time": "2022-03-21T19:45:27.070511",
     "exception": false,
     "start_time": "2022-03-21T19:45:27.051569",
     "status": "completed"
    },
    "tags": []
   },
   "source": [
    "# Allowed Parameters\n",
    "These are allowed parameters, not defaults\n",
    "Each of these values need to be present in the injected parameters (the notebook will raise an exception if they are not present)\n",
    "\n",
    "Papermill uses the cell tag \"parameters\" to inject the real parameters below this cell.\n",
    "Enable tags to see what I mean"
   ]
  },
  {
   "cell_type": "code",
   "execution_count": 2,
   "id": "fd44eb83",
   "metadata": {
    "execution": {
     "iopub.execute_input": "2022-03-21T19:45:27.112977Z",
     "iopub.status.busy": "2022-03-21T19:45:27.112402Z",
     "iopub.status.idle": "2022-03-21T19:45:27.136895Z",
     "shell.execute_reply": "2022-03-21T19:45:27.136482Z"
    },
    "papermill": {
     "duration": 0.047704,
     "end_time": "2022-03-21T19:45:27.136989",
     "exception": false,
     "start_time": "2022-03-21T19:45:27.089285",
     "status": "completed"
    },
    "tags": []
   },
   "outputs": [],
   "source": [
    "required_parameters = {\n",
    "    \"experiment_name\",\n",
    "    \"lr\",\n",
    "    \"device\",\n",
    "    \"seed\",\n",
    "    \"dataset_seed\",\n",
    "    \"n_shot\",\n",
    "    \"n_query\",\n",
    "    \"n_way\",\n",
    "    \"train_k_factor\",\n",
    "    \"val_k_factor\",\n",
    "    \"test_k_factor\",\n",
    "    \"n_epoch\",\n",
    "    \"patience\",\n",
    "    \"criteria_for_best\",\n",
    "    \"x_net\",\n",
    "    \"datasets\",\n",
    "    \"torch_default_dtype\",\n",
    "    \"NUM_LOGS_PER_EPOCH\",\n",
    "    \"BEST_MODEL_PATH\",\n",
    "    \"x_shape\",\n",
    "}"
   ]
  },
  {
   "cell_type": "code",
   "execution_count": 3,
   "id": "fa3f0049",
   "metadata": {
    "execution": {
     "iopub.execute_input": "2022-03-21T19:45:27.188786Z",
     "iopub.status.busy": "2022-03-21T19:45:27.188145Z",
     "iopub.status.idle": "2022-03-21T19:45:27.213041Z",
     "shell.execute_reply": "2022-03-21T19:45:27.212686Z"
    },
    "papermill": {
     "duration": 0.05665,
     "end_time": "2022-03-21T19:45:27.213145",
     "exception": false,
     "start_time": "2022-03-21T19:45:27.156495",
     "status": "completed"
    },
    "tags": [
     "parameters"
    ]
   },
   "outputs": [],
   "source": [
    "from steves_utils.CORES.utils import (\n",
    "    ALL_NODES,\n",
    "    ALL_NODES_MINIMUM_1000_EXAMPLES,\n",
    "    ALL_DAYS\n",
    ")\n",
    "\n",
    "from steves_utils.ORACLE.utils_v2 import (\n",
    "    ALL_DISTANCES_FEET_NARROWED,\n",
    "    ALL_RUNS,\n",
    "    ALL_SERIAL_NUMBERS,\n",
    ")\n",
    "\n",
    "standalone_parameters = {}\n",
    "standalone_parameters[\"experiment_name\"] = \"STANDALONE PTN\"\n",
    "standalone_parameters[\"lr\"] = 0.001\n",
    "standalone_parameters[\"device\"] = \"cuda\"\n",
    "\n",
    "standalone_parameters[\"seed\"] = 1337\n",
    "standalone_parameters[\"dataset_seed\"] = 1337\n",
    "\n",
    "standalone_parameters[\"n_way\"] = 8\n",
    "standalone_parameters[\"n_shot\"] = 3\n",
    "standalone_parameters[\"n_query\"]  = 2\n",
    "standalone_parameters[\"train_k_factor\"] = 1\n",
    "standalone_parameters[\"val_k_factor\"] = 2\n",
    "standalone_parameters[\"test_k_factor\"] = 2\n",
    "\n",
    "\n",
    "standalone_parameters[\"n_epoch\"] = 50\n",
    "\n",
    "standalone_parameters[\"patience\"] = 10\n",
    "standalone_parameters[\"criteria_for_best\"] = \"source_loss\"\n",
    "\n",
    "standalone_parameters[\"datasets\"] = [\n",
    "    {\n",
    "        \"labels\": ALL_SERIAL_NUMBERS,\n",
    "        \"domains\": ALL_DISTANCES_FEET_NARROWED,\n",
    "        \"num_examples_per_domain_per_label\": 100,\n",
    "        \"pickle_path\": os.path.join(get_datasets_base_path(), \"oracle.Run1_framed_2000Examples_stratified_ds.2022A.pkl\"),\n",
    "        \"source_or_target_dataset\": \"source\",\n",
    "        \"x_transforms\": [\"unit_mag\", \"minus_two\"],\n",
    "        \"episode_transforms\": [],\n",
    "        \"domain_prefix\": \"ORACLE_\"\n",
    "    },\n",
    "    {\n",
    "        \"labels\": ALL_NODES,\n",
    "        \"domains\": ALL_DAYS,\n",
    "        \"num_examples_per_domain_per_label\": 100,\n",
    "        \"pickle_path\": os.path.join(get_datasets_base_path(), \"cores.stratified_ds.2022A.pkl\"),\n",
    "        \"source_or_target_dataset\": \"target\",\n",
    "        \"x_transforms\": [\"unit_power\", \"times_zero\"],\n",
    "        \"episode_transforms\": [],\n",
    "        \"domain_prefix\": \"CORES_\"\n",
    "    }   \n",
    "]\n",
    "\n",
    "standalone_parameters[\"torch_default_dtype\"] = \"torch.float32\" \n",
    "\n",
    "\n",
    "\n",
    "standalone_parameters[\"x_net\"] =     [\n",
    "    {\"class\": \"nnReshape\", \"kargs\": {\"shape\":[-1, 1, 2, 256]}},\n",
    "    {\"class\": \"Conv2d\", \"kargs\": { \"in_channels\":1, \"out_channels\":256, \"kernel_size\":(1,7), \"bias\":False, \"padding\":(0,3), },},\n",
    "    {\"class\": \"ReLU\", \"kargs\": {\"inplace\": True}},\n",
    "    {\"class\": \"BatchNorm2d\", \"kargs\": {\"num_features\":256}},\n",
    "\n",
    "    {\"class\": \"Conv2d\", \"kargs\": { \"in_channels\":256, \"out_channels\":80, \"kernel_size\":(2,7), \"bias\":True, \"padding\":(0,3), },},\n",
    "    {\"class\": \"ReLU\", \"kargs\": {\"inplace\": True}},\n",
    "    {\"class\": \"BatchNorm2d\", \"kargs\": {\"num_features\":80}},\n",
    "    {\"class\": \"Flatten\", \"kargs\": {}},\n",
    "\n",
    "    {\"class\": \"Linear\", \"kargs\": {\"in_features\": 80*256, \"out_features\": 256}}, # 80 units per IQ pair\n",
    "    {\"class\": \"ReLU\", \"kargs\": {\"inplace\": True}},\n",
    "    {\"class\": \"BatchNorm1d\", \"kargs\": {\"num_features\":256}},\n",
    "\n",
    "    {\"class\": \"Linear\", \"kargs\": {\"in_features\": 256, \"out_features\": 256}},\n",
    "]\n",
    "\n",
    "# Parameters relevant to results\n",
    "# These parameters will basically never need to change\n",
    "standalone_parameters[\"NUM_LOGS_PER_EPOCH\"] = 10\n",
    "standalone_parameters[\"BEST_MODEL_PATH\"] = \"./best_model.pth\"\n",
    "\n",
    "\n",
    "\n",
    "\n"
   ]
  },
  {
   "cell_type": "code",
   "execution_count": 4,
   "id": "277d057d",
   "metadata": {
    "execution": {
     "iopub.execute_input": "2022-03-21T19:45:27.268183Z",
     "iopub.status.busy": "2022-03-21T19:45:27.267172Z",
     "iopub.status.idle": "2022-03-21T19:45:27.290741Z",
     "shell.execute_reply": "2022-03-21T19:45:27.290323Z"
    },
    "papermill": {
     "duration": 0.054896,
     "end_time": "2022-03-21T19:45:27.290837",
     "exception": false,
     "start_time": "2022-03-21T19:45:27.235941",
     "status": "completed"
    },
    "tags": [
     "injected-parameters"
    ]
   },
   "outputs": [],
   "source": [
    "# Parameters\n",
    "parameters = {\n",
    "    \"experiment_name\": \"tl_1v2:cores-oracle.run1.framed\",\n",
    "    \"device\": \"cuda\",\n",
    "    \"lr\": 0.0001,\n",
    "    \"n_shot\": 3,\n",
    "    \"n_query\": 2,\n",
    "    \"train_k_factor\": 3,\n",
    "    \"val_k_factor\": 2,\n",
    "    \"test_k_factor\": 2,\n",
    "    \"torch_default_dtype\": \"torch.float32\",\n",
    "    \"n_epoch\": 50,\n",
    "    \"patience\": 3,\n",
    "    \"criteria_for_best\": \"target_accuracy\",\n",
    "    \"x_net\": [\n",
    "        {\"class\": \"nnReshape\", \"kargs\": {\"shape\": [-1, 1, 2, 256]}},\n",
    "        {\n",
    "            \"class\": \"Conv2d\",\n",
    "            \"kargs\": {\n",
    "                \"in_channels\": 1,\n",
    "                \"out_channels\": 256,\n",
    "                \"kernel_size\": [1, 7],\n",
    "                \"bias\": False,\n",
    "                \"padding\": [0, 3],\n",
    "            },\n",
    "        },\n",
    "        {\"class\": \"ReLU\", \"kargs\": {\"inplace\": True}},\n",
    "        {\"class\": \"BatchNorm2d\", \"kargs\": {\"num_features\": 256}},\n",
    "        {\n",
    "            \"class\": \"Conv2d\",\n",
    "            \"kargs\": {\n",
    "                \"in_channels\": 256,\n",
    "                \"out_channels\": 80,\n",
    "                \"kernel_size\": [2, 7],\n",
    "                \"bias\": True,\n",
    "                \"padding\": [0, 3],\n",
    "            },\n",
    "        },\n",
    "        {\"class\": \"ReLU\", \"kargs\": {\"inplace\": True}},\n",
    "        {\"class\": \"BatchNorm2d\", \"kargs\": {\"num_features\": 80}},\n",
    "        {\"class\": \"Flatten\", \"kargs\": {}},\n",
    "        {\"class\": \"Linear\", \"kargs\": {\"in_features\": 20480, \"out_features\": 256}},\n",
    "        {\"class\": \"ReLU\", \"kargs\": {\"inplace\": True}},\n",
    "        {\"class\": \"BatchNorm1d\", \"kargs\": {\"num_features\": 256}},\n",
    "        {\"class\": \"Linear\", \"kargs\": {\"in_features\": 256, \"out_features\": 256}},\n",
    "    ],\n",
    "    \"NUM_LOGS_PER_EPOCH\": 10,\n",
    "    \"BEST_MODEL_PATH\": \"./best_model.pth\",\n",
    "    \"n_way\": 16,\n",
    "    \"datasets\": [\n",
    "        {\n",
    "            \"labels\": [\n",
    "                \"1-10.\",\n",
    "                \"1-11.\",\n",
    "                \"1-15.\",\n",
    "                \"1-16.\",\n",
    "                \"1-17.\",\n",
    "                \"1-18.\",\n",
    "                \"1-19.\",\n",
    "                \"10-4.\",\n",
    "                \"10-7.\",\n",
    "                \"11-1.\",\n",
    "                \"11-14.\",\n",
    "                \"11-17.\",\n",
    "                \"11-20.\",\n",
    "                \"11-7.\",\n",
    "                \"13-20.\",\n",
    "                \"13-8.\",\n",
    "                \"14-10.\",\n",
    "                \"14-11.\",\n",
    "                \"14-14.\",\n",
    "                \"14-7.\",\n",
    "                \"15-1.\",\n",
    "                \"15-20.\",\n",
    "                \"16-1.\",\n",
    "                \"16-16.\",\n",
    "                \"17-10.\",\n",
    "                \"17-11.\",\n",
    "                \"17-2.\",\n",
    "                \"19-1.\",\n",
    "                \"19-16.\",\n",
    "                \"19-19.\",\n",
    "                \"19-20.\",\n",
    "                \"19-3.\",\n",
    "                \"2-10.\",\n",
    "                \"2-11.\",\n",
    "                \"2-17.\",\n",
    "                \"2-18.\",\n",
    "                \"2-20.\",\n",
    "                \"2-3.\",\n",
    "                \"2-4.\",\n",
    "                \"2-5.\",\n",
    "                \"2-6.\",\n",
    "                \"2-7.\",\n",
    "                \"2-8.\",\n",
    "                \"3-13.\",\n",
    "                \"3-18.\",\n",
    "                \"3-3.\",\n",
    "                \"4-1.\",\n",
    "                \"4-10.\",\n",
    "                \"4-11.\",\n",
    "                \"4-19.\",\n",
    "                \"5-5.\",\n",
    "                \"6-15.\",\n",
    "                \"7-10.\",\n",
    "                \"7-14.\",\n",
    "                \"8-18.\",\n",
    "                \"8-20.\",\n",
    "                \"8-3.\",\n",
    "                \"8-8.\",\n",
    "            ],\n",
    "            \"domains\": [1, 2, 3, 4, 5],\n",
    "            \"num_examples_per_domain_per_label\": -1,\n",
    "            \"pickle_path\": \"/root/csc500-main/datasets/cores.stratified_ds.2022A.pkl\",\n",
    "            \"source_or_target_dataset\": \"target\",\n",
    "            \"x_transforms\": [],\n",
    "            \"episode_transforms\": [],\n",
    "            \"domain_prefix\": \"CORES_\",\n",
    "        },\n",
    "        {\n",
    "            \"labels\": [\n",
    "                \"3123D52\",\n",
    "                \"3123D65\",\n",
    "                \"3123D79\",\n",
    "                \"3123D80\",\n",
    "                \"3123D54\",\n",
    "                \"3123D70\",\n",
    "                \"3123D7B\",\n",
    "                \"3123D89\",\n",
    "                \"3123D58\",\n",
    "                \"3123D76\",\n",
    "                \"3123D7D\",\n",
    "                \"3123EFE\",\n",
    "                \"3123D64\",\n",
    "                \"3123D78\",\n",
    "                \"3123D7E\",\n",
    "                \"3124E4A\",\n",
    "            ],\n",
    "            \"domains\": [32, 38, 8, 44, 14, 50, 20, 26],\n",
    "            \"num_examples_per_domain_per_label\": 2000,\n",
    "            \"pickle_path\": \"/root/csc500-main/datasets/oracle.Run1_framed_2000Examples_stratified_ds.2022A.pkl\",\n",
    "            \"source_or_target_dataset\": \"source\",\n",
    "            \"x_transforms\": [],\n",
    "            \"episode_transforms\": [],\n",
    "            \"domain_prefix\": \"ORACLE.run1_\",\n",
    "        },\n",
    "    ],\n",
    "    \"dataset_seed\": 500,\n",
    "    \"seed\": 500,\n",
    "}\n"
   ]
  },
  {
   "cell_type": "code",
   "execution_count": 5,
   "id": "8fa1cc33",
   "metadata": {
    "execution": {
     "iopub.execute_input": "2022-03-21T19:45:27.335561Z",
     "iopub.status.busy": "2022-03-21T19:45:27.334985Z",
     "iopub.status.idle": "2022-03-21T19:45:27.357095Z",
     "shell.execute_reply": "2022-03-21T19:45:27.356732Z"
    },
    "papermill": {
     "duration": 0.046315,
     "end_time": "2022-03-21T19:45:27.357191",
     "exception": false,
     "start_time": "2022-03-21T19:45:27.310876",
     "status": "completed"
    },
    "tags": []
   },
   "outputs": [],
   "source": [
    "# Set this to True if you want to run this template directly\n",
    "STANDALONE = False\n",
    "if STANDALONE:\n",
    "    print(\"parameters not injected, running with standalone_parameters\")\n",
    "    parameters = standalone_parameters\n",
    "\n",
    "if not 'parameters' in locals() and not 'parameters' in globals():\n",
    "    raise Exception(\"Parameter injection failed\")\n",
    "\n",
    "#Use an easy dict for all the parameters\n",
    "p = EasyDict(parameters)\n",
    "\n",
    "if \"x_shape\" not in p:\n",
    "    p.x_shape = [2,256] # Default to this if we dont supply x_shape\n",
    "\n",
    "\n",
    "supplied_keys = set(p.keys())\n",
    "\n",
    "if  supplied_keys != required_parameters:\n",
    "    print(\"Parameters are incorrect\")\n",
    "    if len(supplied_keys - required_parameters)>0: print(\"Shouldn't have:\", str(supplied_keys - required_parameters))\n",
    "    if len(required_parameters - supplied_keys)>0: print(\"Need to have:\", str(required_parameters - supplied_keys))\n",
    "    raise RuntimeError(\"Parameters are incorrect\")"
   ]
  },
  {
   "cell_type": "code",
   "execution_count": 6,
   "id": "3a028d58",
   "metadata": {
    "execution": {
     "iopub.execute_input": "2022-03-21T19:45:27.403474Z",
     "iopub.status.busy": "2022-03-21T19:45:27.402678Z",
     "iopub.status.idle": "2022-03-21T19:45:27.426876Z",
     "shell.execute_reply": "2022-03-21T19:45:27.426461Z"
    },
    "papermill": {
     "duration": 0.046007,
     "end_time": "2022-03-21T19:45:27.426970",
     "exception": false,
     "start_time": "2022-03-21T19:45:27.380963",
     "status": "completed"
    },
    "tags": []
   },
   "outputs": [],
   "source": [
    "###################################\n",
    "# Set the RNGs and make it all deterministic\n",
    "###################################\n",
    "np.random.seed(p.seed)\n",
    "random.seed(p.seed)\n",
    "torch.manual_seed(p.seed)\n",
    "\n",
    "torch.use_deterministic_algorithms(True) "
   ]
  },
  {
   "cell_type": "code",
   "execution_count": 7,
   "id": "b691acf6",
   "metadata": {
    "execution": {
     "iopub.execute_input": "2022-03-21T19:45:27.473051Z",
     "iopub.status.busy": "2022-03-21T19:45:27.472324Z",
     "iopub.status.idle": "2022-03-21T19:45:27.495877Z",
     "shell.execute_reply": "2022-03-21T19:45:27.495438Z"
    },
    "papermill": {
     "duration": 0.046075,
     "end_time": "2022-03-21T19:45:27.495969",
     "exception": false,
     "start_time": "2022-03-21T19:45:27.449894",
     "status": "completed"
    },
    "tags": []
   },
   "outputs": [],
   "source": [
    "###########################################\n",
    "# The stratified datasets honor this\n",
    "###########################################\n",
    "torch.set_default_dtype(eval(p.torch_default_dtype))"
   ]
  },
  {
   "cell_type": "code",
   "execution_count": 8,
   "id": "b5fba671",
   "metadata": {
    "execution": {
     "iopub.execute_input": "2022-03-21T19:45:27.541561Z",
     "iopub.status.busy": "2022-03-21T19:45:27.540336Z",
     "iopub.status.idle": "2022-03-21T19:45:27.597405Z",
     "shell.execute_reply": "2022-03-21T19:45:27.597005Z"
    },
    "papermill": {
     "duration": 0.07929,
     "end_time": "2022-03-21T19:45:27.597521",
     "exception": false,
     "start_time": "2022-03-21T19:45:27.518231",
     "status": "completed"
    },
    "tags": []
   },
   "outputs": [],
   "source": [
    "###################################\n",
    "# Build the network(s)\n",
    "# Note: It's critical to do this AFTER setting the RNG\n",
    "###################################\n",
    "x_net = build_sequential(p.x_net)"
   ]
  },
  {
   "cell_type": "code",
   "execution_count": 9,
   "id": "5d7e61cc",
   "metadata": {
    "execution": {
     "iopub.execute_input": "2022-03-21T19:45:27.646307Z",
     "iopub.status.busy": "2022-03-21T19:45:27.645478Z",
     "iopub.status.idle": "2022-03-21T19:45:27.669518Z",
     "shell.execute_reply": "2022-03-21T19:45:27.669111Z"
    },
    "papermill": {
     "duration": 0.047528,
     "end_time": "2022-03-21T19:45:27.669611",
     "exception": false,
     "start_time": "2022-03-21T19:45:27.622083",
     "status": "completed"
    },
    "tags": []
   },
   "outputs": [],
   "source": [
    "start_time_secs = time.time()"
   ]
  },
  {
   "cell_type": "code",
   "execution_count": 10,
   "id": "c6b67dfd",
   "metadata": {
    "execution": {
     "iopub.execute_input": "2022-03-21T19:45:27.716703Z",
     "iopub.status.busy": "2022-03-21T19:45:27.716332Z",
     "iopub.status.idle": "2022-03-21T19:45:27.746211Z",
     "shell.execute_reply": "2022-03-21T19:45:27.746664Z"
    },
    "papermill": {
     "duration": 0.053172,
     "end_time": "2022-03-21T19:45:27.746795",
     "exception": false,
     "start_time": "2022-03-21T19:45:27.693623",
     "status": "completed"
    },
    "tags": []
   },
   "outputs": [],
   "source": [
    "p.domains_source = []\n",
    "p.domains_target = []\n",
    "\n",
    "\n",
    "train_original_source = []\n",
    "val_original_source   = []\n",
    "test_original_source  = []\n",
    "\n",
    "train_original_target = []\n",
    "val_original_target   = []\n",
    "test_original_target  = []"
   ]
  },
  {
   "cell_type": "code",
   "execution_count": 11,
   "id": "e3d9c3d3",
   "metadata": {
    "execution": {
     "iopub.execute_input": "2022-03-21T19:45:27.794103Z",
     "iopub.status.busy": "2022-03-21T19:45:27.793736Z",
     "iopub.status.idle": "2022-03-21T19:45:27.818404Z",
     "shell.execute_reply": "2022-03-21T19:45:27.817898Z"
    },
    "papermill": {
     "duration": 0.047059,
     "end_time": "2022-03-21T19:45:27.818512",
     "exception": false,
     "start_time": "2022-03-21T19:45:27.771453",
     "status": "completed"
    },
    "tags": []
   },
   "outputs": [],
   "source": [
    "# global_x_transform_func = lambda x: normalize(x.to(torch.get_default_dtype()), \"unit_power\") # unit_power, unit_mag\n",
    "# global_x_transform_func = lambda x: normalize(x, \"unit_power\") # unit_power, unit_mag"
   ]
  },
  {
   "cell_type": "code",
   "execution_count": 12,
   "id": "acb78fd2",
   "metadata": {
    "execution": {
     "iopub.execute_input": "2022-03-21T19:45:27.874281Z",
     "iopub.status.busy": "2022-03-21T19:45:27.873703Z",
     "iopub.status.idle": "2022-03-21T19:45:27.895477Z",
     "shell.execute_reply": "2022-03-21T19:45:27.894998Z"
    },
    "papermill": {
     "duration": 0.054079,
     "end_time": "2022-03-21T19:45:27.895601",
     "exception": false,
     "start_time": "2022-03-21T19:45:27.841522",
     "status": "completed"
    },
    "tags": []
   },
   "outputs": [],
   "source": [
    "def add_dataset(\n",
    "    labels,\n",
    "    domains,\n",
    "    pickle_path,\n",
    "    x_transforms,\n",
    "    episode_transforms,\n",
    "    domain_prefix,\n",
    "    num_examples_per_domain_per_label,\n",
    "    source_or_target_dataset:str,\n",
    "    iterator_seed=p.seed,\n",
    "    dataset_seed=p.dataset_seed,\n",
    "    n_shot=p.n_shot,\n",
    "    n_way=p.n_way,\n",
    "    n_query=p.n_query,\n",
    "    train_val_test_k_factors=(p.train_k_factor,p.val_k_factor,p.test_k_factor),\n",
    "):\n",
    "   \n",
    "    if x_transforms == []: x_transform = None\n",
    "    else: x_transform = get_chained_transform(x_transforms)\n",
    "    \n",
    "    if episode_transforms == []: episode_transform = None\n",
    "    else: raise Exception(\"episode_transforms not implemented\")\n",
    "    \n",
    "    episode_transform = lambda tup, _prefix=domain_prefix: (_prefix + str(tup[0]), tup[1])\n",
    "\n",
    "\n",
    "    eaf = Episodic_Accessor_Factory(\n",
    "        labels=labels,\n",
    "        domains=domains,\n",
    "        num_examples_per_domain_per_label=num_examples_per_domain_per_label,\n",
    "        iterator_seed=iterator_seed,\n",
    "        dataset_seed=dataset_seed,\n",
    "        n_shot=n_shot,\n",
    "        n_way=n_way,\n",
    "        n_query=n_query,\n",
    "        train_val_test_k_factors=train_val_test_k_factors,\n",
    "        pickle_path=pickle_path,\n",
    "        x_transform_func=x_transform,\n",
    "    )\n",
    "\n",
    "    train, val, test = eaf.get_train(), eaf.get_val(), eaf.get_test()\n",
    "    train = Lazy_Iterable_Wrapper(train, episode_transform)\n",
    "    val = Lazy_Iterable_Wrapper(val, episode_transform)\n",
    "    test = Lazy_Iterable_Wrapper(test, episode_transform)\n",
    "\n",
    "    if source_or_target_dataset==\"source\":\n",
    "        train_original_source.append(train)\n",
    "        val_original_source.append(val)\n",
    "        test_original_source.append(test)\n",
    "\n",
    "        p.domains_source.extend(\n",
    "            [domain_prefix + str(u) for u in domains]\n",
    "        )\n",
    "    elif source_or_target_dataset==\"target\":\n",
    "        train_original_target.append(train)\n",
    "        val_original_target.append(val)\n",
    "        test_original_target.append(test)\n",
    "        p.domains_target.extend(\n",
    "            [domain_prefix + str(u) for u in domains]\n",
    "        )\n",
    "    else:\n",
    "        raise Exception(f\"invalid source_or_target_dataset: {source_or_target_dataset}\")\n",
    "    "
   ]
  },
  {
   "cell_type": "code",
   "execution_count": 13,
   "id": "fe266617",
   "metadata": {
    "execution": {
     "iopub.execute_input": "2022-03-21T19:45:27.944578Z",
     "iopub.status.busy": "2022-03-21T19:45:27.944212Z",
     "iopub.status.idle": "2022-03-21T19:45:32.501105Z",
     "shell.execute_reply": "2022-03-21T19:45:32.501787Z"
    },
    "papermill": {
     "duration": 4.580708,
     "end_time": "2022-03-21T19:45:32.502034",
     "exception": false,
     "start_time": "2022-03-21T19:45:27.921326",
     "status": "completed"
    },
    "tags": []
   },
   "outputs": [],
   "source": [
    "for ds in p.datasets:\n",
    "    add_dataset(**ds)"
   ]
  },
  {
   "cell_type": "code",
   "execution_count": 14,
   "id": "b90d65ac",
   "metadata": {
    "execution": {
     "iopub.execute_input": "2022-03-21T19:45:32.554482Z",
     "iopub.status.busy": "2022-03-21T19:45:32.553912Z",
     "iopub.status.idle": "2022-03-21T19:45:32.580346Z",
     "shell.execute_reply": "2022-03-21T19:45:32.579493Z"
    },
    "papermill": {
     "duration": 0.05161,
     "end_time": "2022-03-21T19:45:32.580505",
     "exception": false,
     "start_time": "2022-03-21T19:45:32.528895",
     "status": "completed"
    },
    "tags": []
   },
   "outputs": [],
   "source": [
    "# from steves_utils.CORES.utils import (\n",
    "#     ALL_NODES,\n",
    "#     ALL_NODES_MINIMUM_1000_EXAMPLES,\n",
    "#     ALL_DAYS\n",
    "# )\n",
    "\n",
    "# add_dataset(\n",
    "#     labels=ALL_NODES,\n",
    "#     domains = ALL_DAYS,\n",
    "#     num_examples_per_domain_per_label=100,\n",
    "#     pickle_path=os.path.join(get_datasets_base_path(), \"cores.stratified_ds.2022A.pkl\"),\n",
    "#     source_or_target_dataset=\"target\",\n",
    "#     x_transform_func=global_x_transform_func,\n",
    "#     domain_modifier=lambda u: f\"cores_{u}\"\n",
    "# )"
   ]
  },
  {
   "cell_type": "code",
   "execution_count": 15,
   "id": "76db484d",
   "metadata": {
    "execution": {
     "iopub.execute_input": "2022-03-21T19:45:32.639440Z",
     "iopub.status.busy": "2022-03-21T19:45:32.638612Z",
     "iopub.status.idle": "2022-03-21T19:45:32.658007Z",
     "shell.execute_reply": "2022-03-21T19:45:32.657188Z"
    },
    "papermill": {
     "duration": 0.050113,
     "end_time": "2022-03-21T19:45:32.658165",
     "exception": false,
     "start_time": "2022-03-21T19:45:32.608052",
     "status": "completed"
    },
    "tags": []
   },
   "outputs": [],
   "source": [
    "# from steves_utils.ORACLE.utils_v2 import (\n",
    "#     ALL_DISTANCES_FEET,\n",
    "#     ALL_RUNS,\n",
    "#     ALL_SERIAL_NUMBERS,\n",
    "# )\n",
    "\n",
    "\n",
    "# add_dataset(\n",
    "#     labels=ALL_SERIAL_NUMBERS,\n",
    "#     domains = list(set(ALL_DISTANCES_FEET) - {2,62}),\n",
    "#     num_examples_per_domain_per_label=100,\n",
    "#     pickle_path=os.path.join(get_datasets_base_path(), \"oracle.Run2_framed_2000Examples_stratified_ds.2022A.pkl\"),\n",
    "#     source_or_target_dataset=\"source\",\n",
    "#     x_transform_func=global_x_transform_func,\n",
    "#     domain_modifier=lambda u: f\"oracle1_{u}\"\n",
    "# )\n"
   ]
  },
  {
   "cell_type": "code",
   "execution_count": 16,
   "id": "97dea9d2",
   "metadata": {
    "execution": {
     "iopub.execute_input": "2022-03-21T19:45:32.708354Z",
     "iopub.status.busy": "2022-03-21T19:45:32.707987Z",
     "iopub.status.idle": "2022-03-21T19:45:32.725786Z",
     "shell.execute_reply": "2022-03-21T19:45:32.724979Z"
    },
    "papermill": {
     "duration": 0.040935,
     "end_time": "2022-03-21T19:45:32.725941",
     "exception": false,
     "start_time": "2022-03-21T19:45:32.685006",
     "status": "completed"
    },
    "tags": []
   },
   "outputs": [],
   "source": [
    "# from steves_utils.ORACLE.utils_v2 import (\n",
    "#     ALL_DISTANCES_FEET,\n",
    "#     ALL_RUNS,\n",
    "#     ALL_SERIAL_NUMBERS,\n",
    "# )\n",
    "\n",
    "\n",
    "# add_dataset(\n",
    "#     labels=ALL_SERIAL_NUMBERS,\n",
    "#     domains = list(set(ALL_DISTANCES_FEET) - {2,62,56}),\n",
    "#     num_examples_per_domain_per_label=100,\n",
    "#     pickle_path=os.path.join(get_datasets_base_path(), \"oracle.Run2_framed_2000Examples_stratified_ds.2022A.pkl\"),\n",
    "#     source_or_target_dataset=\"source\",\n",
    "#     x_transform_func=global_x_transform_func,\n",
    "#     domain_modifier=lambda u: f\"oracle2_{u}\"\n",
    "# )"
   ]
  },
  {
   "cell_type": "code",
   "execution_count": 17,
   "id": "6f289866",
   "metadata": {
    "execution": {
     "iopub.execute_input": "2022-03-21T19:45:32.777315Z",
     "iopub.status.busy": "2022-03-21T19:45:32.776317Z",
     "iopub.status.idle": "2022-03-21T19:45:32.799202Z",
     "shell.execute_reply": "2022-03-21T19:45:32.798389Z"
    },
    "papermill": {
     "duration": 0.047025,
     "end_time": "2022-03-21T19:45:32.799359",
     "exception": false,
     "start_time": "2022-03-21T19:45:32.752334",
     "status": "completed"
    },
    "tags": []
   },
   "outputs": [],
   "source": [
    "# add_dataset(\n",
    "#     labels=list(range(19)),\n",
    "#     domains = [0,1,2],\n",
    "#     num_examples_per_domain_per_label=100,\n",
    "#     pickle_path=os.path.join(get_datasets_base_path(), \"metehan.stratified_ds.2022A.pkl\"),\n",
    "#     source_or_target_dataset=\"target\",\n",
    "#     x_transform_func=global_x_transform_func,\n",
    "#     domain_modifier=lambda u: f\"met_{u}\"\n",
    "# )"
   ]
  },
  {
   "cell_type": "code",
   "execution_count": 18,
   "id": "86a863c3",
   "metadata": {
    "execution": {
     "iopub.execute_input": "2022-03-21T19:45:32.853052Z",
     "iopub.status.busy": "2022-03-21T19:45:32.852404Z",
     "iopub.status.idle": "2022-03-21T19:45:32.876911Z",
     "shell.execute_reply": "2022-03-21T19:45:32.876099Z"
    },
    "papermill": {
     "duration": 0.049348,
     "end_time": "2022-03-21T19:45:32.877066",
     "exception": false,
     "start_time": "2022-03-21T19:45:32.827718",
     "status": "completed"
    },
    "tags": []
   },
   "outputs": [],
   "source": [
    "# # from steves_utils.wisig.utils import (\n",
    "# #     ALL_NODES_MINIMUM_100_EXAMPLES,\n",
    "# #     ALL_NODES_MINIMUM_500_EXAMPLES,\n",
    "# #     ALL_NODES_MINIMUM_1000_EXAMPLES,\n",
    "# #     ALL_DAYS\n",
    "# # )\n",
    "\n",
    "# import steves_utils.wisig.utils as wisig\n",
    "\n",
    "\n",
    "# add_dataset(\n",
    "#     labels=wisig.ALL_NODES_MINIMUM_100_EXAMPLES,\n",
    "#     domains = wisig.ALL_DAYS,\n",
    "#     num_examples_per_domain_per_label=100,\n",
    "#     pickle_path=os.path.join(get_datasets_base_path(), \"wisig.node3-19.stratified_ds.2022A.pkl\"),\n",
    "#     source_or_target_dataset=\"target\",\n",
    "#     x_transform_func=global_x_transform_func,\n",
    "#     domain_modifier=lambda u: f\"wisig_{u}\"\n",
    "# )"
   ]
  },
  {
   "cell_type": "code",
   "execution_count": 19,
   "id": "fd5442bc",
   "metadata": {
    "execution": {
     "iopub.execute_input": "2022-03-21T19:45:32.938149Z",
     "iopub.status.busy": "2022-03-21T19:45:32.935909Z",
     "iopub.status.idle": "2022-03-21T19:45:32.961851Z",
     "shell.execute_reply": "2022-03-21T19:45:32.961041Z"
    },
    "papermill": {
     "duration": 0.055329,
     "end_time": "2022-03-21T19:45:32.962006",
     "exception": false,
     "start_time": "2022-03-21T19:45:32.906677",
     "status": "completed"
    },
    "tags": []
   },
   "outputs": [],
   "source": [
    "###################################\n",
    "# Build the dataset\n",
    "###################################\n",
    "train_original_source = Iterable_Aggregator(train_original_source, p.seed)\n",
    "val_original_source = Iterable_Aggregator(val_original_source, p.seed)\n",
    "test_original_source = Iterable_Aggregator(test_original_source, p.seed)\n",
    "\n",
    "\n",
    "train_original_target = Iterable_Aggregator(train_original_target, p.seed)\n",
    "val_original_target = Iterable_Aggregator(val_original_target, p.seed)\n",
    "test_original_target = Iterable_Aggregator(test_original_target, p.seed)\n",
    "\n",
    "# For CNN We only use X and Y. And we only train on the source.\n",
    "# Properly form the data using a transform lambda and Lazy_Iterable_Wrapper. Finally wrap them in a dataloader\n",
    "\n",
    "transform_lambda = lambda ex: ex[1] # Original is (<domain>, <episode>) so we strip down to episode only\n",
    "\n",
    "train_processed_source = Lazy_Iterable_Wrapper(train_original_source, transform_lambda)\n",
    "val_processed_source   = Lazy_Iterable_Wrapper(val_original_source, transform_lambda)\n",
    "test_processed_source  = Lazy_Iterable_Wrapper(test_original_source, transform_lambda)\n",
    "\n",
    "train_processed_target = Lazy_Iterable_Wrapper(train_original_target, transform_lambda)\n",
    "val_processed_target   = Lazy_Iterable_Wrapper(val_original_target, transform_lambda)\n",
    "test_processed_target  = Lazy_Iterable_Wrapper(test_original_target, transform_lambda)\n",
    "\n",
    "datasets = EasyDict({\n",
    "    \"source\": {\n",
    "        \"original\": {\"train\":train_original_source, \"val\":val_original_source, \"test\":test_original_source},\n",
    "        \"processed\": {\"train\":train_processed_source, \"val\":val_processed_source, \"test\":test_processed_source}\n",
    "    },\n",
    "    \"target\": {\n",
    "        \"original\": {\"train\":train_original_target, \"val\":val_original_target, \"test\":test_original_target},\n",
    "        \"processed\": {\"train\":train_processed_target, \"val\":val_processed_target, \"test\":test_processed_target}\n",
    "    },\n",
    "})"
   ]
  },
  {
   "cell_type": "code",
   "execution_count": 20,
   "id": "5b3c01fc",
   "metadata": {
    "execution": {
     "iopub.execute_input": "2022-03-21T19:45:33.015677Z",
     "iopub.status.busy": "2022-03-21T19:45:33.015295Z",
     "iopub.status.idle": "2022-03-21T19:45:48.450598Z",
     "shell.execute_reply": "2022-03-21T19:45:48.451294Z"
    },
    "papermill": {
     "duration": 15.462796,
     "end_time": "2022-03-21T19:45:48.451510",
     "exception": false,
     "start_time": "2022-03-21T19:45:32.988714",
     "status": "completed"
    },
    "tags": []
   },
   "outputs": [
    {
     "name": "stdout",
     "output_type": "stream",
     "text": [
      "{'ORACLE.run1_26', 'ORACLE.run1_50', 'ORACLE.run1_20', 'ORACLE.run1_8', 'ORACLE.run1_44', 'ORACLE.run1_14', 'ORACLE.run1_32', 'ORACLE.run1_38'}\n"
     ]
    },
    {
     "name": "stdout",
     "output_type": "stream",
     "text": [
      "{'CORES_4', 'CORES_2', 'CORES_1', 'CORES_3', 'CORES_5'}\n"
     ]
    },
    {
     "name": "stdout",
     "output_type": "stream",
     "text": [
      "tensor([[[ 9.4607e-04,  1.6480e-03, -1.6785e-03,  ..., -1.2818e-03,\n",
      "           8.8504e-04, -1.4039e-03],\n",
      "         [-7.3244e-04,  6.7141e-04,  2.1363e-04,  ..., -7.3244e-04,\n",
      "          -1.9837e-03, -1.6175e-03]],\n",
      "\n",
      "        [[ 1.8311e-04,  2.1058e-03, -8.2400e-04,  ..., -1.6175e-03,\n",
      "           6.1037e-04, -1.6785e-03],\n",
      "         [-1.1597e-03,  1.5259e-04,  1.0071e-03,  ..., -1.8311e-04,\n",
      "          -1.8311e-03, -1.0376e-03]],\n",
      "\n",
      "        [[-1.7396e-03,  7.6296e-04,  2.4110e-03,  ..., -8.5452e-04,\n",
      "           3.3570e-04,  2.1363e-03],\n",
      "         [-5.1881e-04, -4.2726e-04,  6.1037e-05,  ...,  1.9837e-03,\n",
      "           1.7701e-03,  3.0519e-04]],\n",
      "\n",
      "        ...,\n",
      "\n",
      "        [[-6.7141e-04,  5.4933e-04,  7.3244e-04,  ..., -8.5452e-04,\n",
      "          -2.7772e-03, -1.9837e-03],\n",
      "         [-5.4933e-04, -2.1973e-03,  1.1597e-03,  ...,  1.8921e-03,\n",
      "          -1.0987e-03,  7.0193e-04]],\n",
      "\n",
      "        [[ 1.1292e-03, -9.7659e-04, -1.1902e-03,  ...,  5.4933e-04,\n",
      "           2.6551e-03,  1.2818e-03],\n",
      "         [ 1.8006e-03,  1.8311e-03, -2.0753e-03,  ..., -1.5259e-03,\n",
      "           8.2400e-04, -1.8921e-03]],\n",
      "\n",
      "        [[ 8.8504e-04, -1.4649e-03, -1.0987e-03,  ...,  1.7396e-03,\n",
      "           2.1058e-03,  7.6296e-04],\n",
      "         [ 2.0753e-03,  1.5564e-03, -2.2584e-03,  ..., -9.4607e-04,\n",
      "           9.1556e-04, -2.3499e-03]]])\n"
     ]
    }
   ],
   "source": [
    "from steves_utils.transforms import get_average_magnitude, get_average_power\n",
    "\n",
    "print(set([u for u,_ in val_original_source]))\n",
    "print(set([u for u,_ in val_original_target]))\n",
    "\n",
    "s_x, s_y, q_x, q_y, _ = next(iter(train_processed_source))\n",
    "print(s_x)\n",
    "\n",
    "# for ds in [\n",
    "#     train_processed_source,\n",
    "#     val_processed_source,\n",
    "#     test_processed_source,\n",
    "#     train_processed_target,\n",
    "#     val_processed_target,\n",
    "#     test_processed_target\n",
    "# ]:\n",
    "#     for s_x, s_y, q_x, q_y, _ in ds:\n",
    "#         for X in (s_x, q_x):\n",
    "#             for x in X:\n",
    "#                 assert np.isclose(get_average_magnitude(x.numpy()), 1.0)\n",
    "#                 assert np.isclose(get_average_power(x.numpy()), 1.0)\n",
    "                "
   ]
  },
  {
   "cell_type": "code",
   "execution_count": 21,
   "id": "bbdacba1",
   "metadata": {
    "execution": {
     "iopub.execute_input": "2022-03-21T19:45:48.506508Z",
     "iopub.status.busy": "2022-03-21T19:45:48.505940Z",
     "iopub.status.idle": "2022-03-21T19:45:48.771883Z",
     "shell.execute_reply": "2022-03-21T19:45:48.772540Z"
    },
    "papermill": {
     "duration": 0.293755,
     "end_time": "2022-03-21T19:45:48.772737",
     "exception": false,
     "start_time": "2022-03-21T19:45:48.478982",
     "status": "completed"
    },
    "tags": []
   },
   "outputs": [
    {
     "name": "stdout",
     "output_type": "stream",
     "text": [
      "(2, 256)\n"
     ]
    }
   ],
   "source": [
    "###################################\n",
    "# Build the model\n",
    "###################################\n",
    "# easfsl only wants a tuple for the shape\n",
    "model = Steves_Prototypical_Network(x_net, device=p.device, x_shape=tuple(p.x_shape))\n",
    "optimizer = Adam(params=model.parameters(), lr=p.lr)"
   ]
  },
  {
   "cell_type": "code",
   "execution_count": 22,
   "id": "22b39ac5",
   "metadata": {
    "execution": {
     "iopub.execute_input": "2022-03-21T19:45:48.828975Z",
     "iopub.status.busy": "2022-03-21T19:45:48.828606Z",
     "iopub.status.idle": "2022-03-21T20:35:49.562397Z",
     "shell.execute_reply": "2022-03-21T20:35:49.561850Z"
    },
    "papermill": {
     "duration": 3000.761439,
     "end_time": "2022-03-21T20:35:49.562745",
     "exception": false,
     "start_time": "2022-03-21T19:45:48.801306",
     "status": "completed"
    },
    "tags": []
   },
   "outputs": [
    {
     "name": "stdout",
     "output_type": "stream",
     "text": [
      "epoch: 1, [batch: 1 / 6720], examples_per_second: 33.9201, train_label_loss: 2.8085, \n"
     ]
    },
    {
     "name": "stdout",
     "output_type": "stream",
     "text": [
      "epoch: 1, [batch: 672 / 6720], examples_per_second: 2587.6306, train_label_loss: 0.3279, \n"
     ]
    },
    {
     "name": "stdout",
     "output_type": "stream",
     "text": [
      "epoch: 1, [batch: 1344 / 6720], examples_per_second: 2914.6465, train_label_loss: 0.4266, \n"
     ]
    },
    {
     "name": "stdout",
     "output_type": "stream",
     "text": [
      "epoch: 1, [batch: 2016 / 6720], examples_per_second: 3006.6697, train_label_loss: 0.4143, \n"
     ]
    },
    {
     "name": "stdout",
     "output_type": "stream",
     "text": [
      "epoch: 1, [batch: 2688 / 6720], examples_per_second: 2596.9937, train_label_loss: 0.3996, \n"
     ]
    },
    {
     "name": "stdout",
     "output_type": "stream",
     "text": [
      "epoch: 1, [batch: 3360 / 6720], examples_per_second: 2323.0910, train_label_loss: 0.3017, \n"
     ]
    },
    {
     "name": "stdout",
     "output_type": "stream",
     "text": [
      "epoch: 1, [batch: 4032 / 6720], examples_per_second: 2319.4941, train_label_loss: 0.1550, \n"
     ]
    },
    {
     "name": "stdout",
     "output_type": "stream",
     "text": [
      "epoch: 1, [batch: 4704 / 6720], examples_per_second: 2320.5065, train_label_loss: 0.4276, \n"
     ]
    },
    {
     "name": "stdout",
     "output_type": "stream",
     "text": [
      "epoch: 1, [batch: 5376 / 6720], examples_per_second: 2307.8648, train_label_loss: 0.2222, \n"
     ]
    },
    {
     "name": "stdout",
     "output_type": "stream",
     "text": [
      "epoch: 1, [batch: 6048 / 6720], examples_per_second: 2300.4070, train_label_loss: 0.1772, \n"
     ]
    },
    {
     "name": "stdout",
     "output_type": "stream",
     "text": [
      "=============================================================\n",
      "epoch: 1, source_val_acc_label: 0.6193, target_val_acc_label: 0.9156, source_val_label_loss: 118.0416, target_val_label_loss: 485.2297, \n",
      "=============================================================\n"
     ]
    },
    {
     "name": "stdout",
     "output_type": "stream",
     "text": [
      "New best\n"
     ]
    },
    {
     "name": "stdout",
     "output_type": "stream",
     "text": [
      "epoch: 2, [batch: 1 / 6720], examples_per_second: 2.0757, train_label_loss: 0.5953, \n"
     ]
    },
    {
     "name": "stdout",
     "output_type": "stream",
     "text": [
      "epoch: 2, [batch: 672 / 6720], examples_per_second: 2553.5274, train_label_loss: 2.2670, \n"
     ]
    },
    {
     "name": "stdout",
     "output_type": "stream",
     "text": [
      "epoch: 2, [batch: 1344 / 6720], examples_per_second: 2936.4994, train_label_loss: 7.3133, \n"
     ]
    },
    {
     "name": "stdout",
     "output_type": "stream",
     "text": [
      "epoch: 2, [batch: 2016 / 6720], examples_per_second: 3034.8973, train_label_loss: 0.1543, \n"
     ]
    },
    {
     "name": "stdout",
     "output_type": "stream",
     "text": [
      "epoch: 2, [batch: 2688 / 6720], examples_per_second: 3064.9416, train_label_loss: 0.0521, \n"
     ]
    },
    {
     "name": "stdout",
     "output_type": "stream",
     "text": [
      "epoch: 2, [batch: 3360 / 6720], examples_per_second: 2662.6727, train_label_loss: 0.3876, \n"
     ]
    },
    {
     "name": "stdout",
     "output_type": "stream",
     "text": [
      "epoch: 2, [batch: 4032 / 6720], examples_per_second: 2612.2631, train_label_loss: 2.4335, \n"
     ]
    },
    {
     "name": "stdout",
     "output_type": "stream",
     "text": [
      "epoch: 2, [batch: 4704 / 6720], examples_per_second: 2583.6857, train_label_loss: 3.2153, \n"
     ]
    },
    {
     "name": "stdout",
     "output_type": "stream",
     "text": [
      "epoch: 2, [batch: 5376 / 6720], examples_per_second: 2651.8155, train_label_loss: 0.2983, \n"
     ]
    },
    {
     "name": "stdout",
     "output_type": "stream",
     "text": [
      "epoch: 2, [batch: 6048 / 6720], examples_per_second: 2601.6893, train_label_loss: 0.1692, \n"
     ]
    },
    {
     "name": "stdout",
     "output_type": "stream",
     "text": [
      "=============================================================\n",
      "epoch: 2, source_val_acc_label: 0.9007, target_val_acc_label: 0.8935, source_val_label_loss: 0.3134, target_val_label_loss: 19.2951, \n",
      "=============================================================\n"
     ]
    },
    {
     "name": "stdout",
     "output_type": "stream",
     "text": [
      "epoch: 3, [batch: 1 / 6720], examples_per_second: 2.3510, train_label_loss: 0.6325, \n"
     ]
    },
    {
     "name": "stdout",
     "output_type": "stream",
     "text": [
      "epoch: 3, [batch: 672 / 6720], examples_per_second: 3025.7395, train_label_loss: 0.1796, \n"
     ]
    },
    {
     "name": "stdout",
     "output_type": "stream",
     "text": [
      "epoch: 3, [batch: 1344 / 6720], examples_per_second: 3336.8990, train_label_loss: 0.2807, \n"
     ]
    },
    {
     "name": "stdout",
     "output_type": "stream",
     "text": [
      "epoch: 3, [batch: 2016 / 6720], examples_per_second: 3379.5020, train_label_loss: 0.3646, \n"
     ]
    },
    {
     "name": "stdout",
     "output_type": "stream",
     "text": [
      "epoch: 3, [batch: 2688 / 6720], examples_per_second: 3422.6239, train_label_loss: 0.1359, \n"
     ]
    },
    {
     "name": "stdout",
     "output_type": "stream",
     "text": [
      "epoch: 3, [batch: 3360 / 6720], examples_per_second: 3007.8809, train_label_loss: 0.2098, \n"
     ]
    },
    {
     "name": "stdout",
     "output_type": "stream",
     "text": [
      "epoch: 3, [batch: 4032 / 6720], examples_per_second: 2919.6191, train_label_loss: 0.2285, \n"
     ]
    },
    {
     "name": "stdout",
     "output_type": "stream",
     "text": [
      "epoch: 3, [batch: 4704 / 6720], examples_per_second: 3035.0695, train_label_loss: 0.3350, \n"
     ]
    },
    {
     "name": "stdout",
     "output_type": "stream",
     "text": [
      "epoch: 3, [batch: 5376 / 6720], examples_per_second: 3405.9034, train_label_loss: 0.2361, \n"
     ]
    },
    {
     "name": "stdout",
     "output_type": "stream",
     "text": [
      "epoch: 3, [batch: 6048 / 6720], examples_per_second: 3316.0771, train_label_loss: 0.1460, \n"
     ]
    },
    {
     "name": "stdout",
     "output_type": "stream",
     "text": [
      "=============================================================\n",
      "epoch: 3, source_val_acc_label: 0.9276, target_val_acc_label: 0.8904, source_val_label_loss: 0.2386, target_val_label_loss: 21.5714, \n",
      "=============================================================\n"
     ]
    },
    {
     "name": "stdout",
     "output_type": "stream",
     "text": [
      "epoch: 4, [batch: 1 / 6720], examples_per_second: 2.4148, train_label_loss: 0.4347, \n"
     ]
    },
    {
     "name": "stdout",
     "output_type": "stream",
     "text": [
      "epoch: 4, [batch: 672 / 6720], examples_per_second: 2615.8220, train_label_loss: 0.0832, \n"
     ]
    },
    {
     "name": "stdout",
     "output_type": "stream",
     "text": [
      "epoch: 4, [batch: 1344 / 6720], examples_per_second: 3281.2107, train_label_loss: 0.2443, \n"
     ]
    },
    {
     "name": "stdout",
     "output_type": "stream",
     "text": [
      "epoch: 4, [batch: 2016 / 6720], examples_per_second: 3025.1865, train_label_loss: 0.0330, \n"
     ]
    },
    {
     "name": "stdout",
     "output_type": "stream",
     "text": [
      "epoch: 4, [batch: 2688 / 6720], examples_per_second: 2530.4738, train_label_loss: 0.1234, \n"
     ]
    },
    {
     "name": "stdout",
     "output_type": "stream",
     "text": [
      "epoch: 4, [batch: 3360 / 6720], examples_per_second: 2331.4234, train_label_loss: 0.2179, \n"
     ]
    },
    {
     "name": "stdout",
     "output_type": "stream",
     "text": [
      "epoch: 4, [batch: 4032 / 6720], examples_per_second: 2304.3341, train_label_loss: 0.1917, \n"
     ]
    },
    {
     "name": "stdout",
     "output_type": "stream",
     "text": [
      "epoch: 4, [batch: 4704 / 6720], examples_per_second: 2374.3470, train_label_loss: 0.4464, \n"
     ]
    },
    {
     "name": "stdout",
     "output_type": "stream",
     "text": [
      "epoch: 4, [batch: 5376 / 6720], examples_per_second: 2615.4896, train_label_loss: 0.2618, \n"
     ]
    },
    {
     "name": "stdout",
     "output_type": "stream",
     "text": [
      "epoch: 4, [batch: 6048 / 6720], examples_per_second: 2609.9485, train_label_loss: 0.4303, \n"
     ]
    },
    {
     "name": "stdout",
     "output_type": "stream",
     "text": [
      "=============================================================\n",
      "epoch: 4, source_val_acc_label: 0.9169, target_val_acc_label: 0.9184, source_val_label_loss: 0.2435, target_val_label_loss: 3.6075, \n",
      "=============================================================\n"
     ]
    },
    {
     "name": "stdout",
     "output_type": "stream",
     "text": [
      "New best\n"
     ]
    },
    {
     "name": "stdout",
     "output_type": "stream",
     "text": [
      "epoch: 5, [batch: 1 / 6720], examples_per_second: 2.1479, train_label_loss: 0.1798, \n"
     ]
    },
    {
     "name": "stdout",
     "output_type": "stream",
     "text": [
      "epoch: 5, [batch: 672 / 6720], examples_per_second: 2298.8763, train_label_loss: 0.5136, \n"
     ]
    },
    {
     "name": "stdout",
     "output_type": "stream",
     "text": [
      "epoch: 5, [batch: 1344 / 6720], examples_per_second: 2575.4578, train_label_loss: 0.1956, \n"
     ]
    },
    {
     "name": "stdout",
     "output_type": "stream",
     "text": [
      "epoch: 5, [batch: 2016 / 6720], examples_per_second: 2602.3492, train_label_loss: 0.2324, \n"
     ]
    },
    {
     "name": "stdout",
     "output_type": "stream",
     "text": [
      "epoch: 5, [batch: 2688 / 6720], examples_per_second: 2626.7166, train_label_loss: 0.1210, \n"
     ]
    },
    {
     "name": "stdout",
     "output_type": "stream",
     "text": [
      "epoch: 5, [batch: 3360 / 6720], examples_per_second: 2334.1639, train_label_loss: 0.2171, \n"
     ]
    },
    {
     "name": "stdout",
     "output_type": "stream",
     "text": [
      "epoch: 5, [batch: 4032 / 6720], examples_per_second: 2314.7285, train_label_loss: 0.0185, \n"
     ]
    },
    {
     "name": "stdout",
     "output_type": "stream",
     "text": [
      "epoch: 5, [batch: 4704 / 6720], examples_per_second: 2324.1399, train_label_loss: 0.1571, \n"
     ]
    },
    {
     "name": "stdout",
     "output_type": "stream",
     "text": [
      "epoch: 5, [batch: 5376 / 6720], examples_per_second: 2576.5918, train_label_loss: 0.1908, \n"
     ]
    },
    {
     "name": "stdout",
     "output_type": "stream",
     "text": [
      "epoch: 5, [batch: 6048 / 6720], examples_per_second: 2610.5391, train_label_loss: 0.3704, \n"
     ]
    },
    {
     "name": "stdout",
     "output_type": "stream",
     "text": [
      "=============================================================\n",
      "epoch: 5, source_val_acc_label: 0.9280, target_val_acc_label: 0.9290, source_val_label_loss: 0.2133, target_val_label_loss: 3.9740, \n",
      "=============================================================\n"
     ]
    },
    {
     "name": "stdout",
     "output_type": "stream",
     "text": [
      "New best\n"
     ]
    },
    {
     "name": "stdout",
     "output_type": "stream",
     "text": [
      "epoch: 6, [batch: 1 / 6720], examples_per_second: 2.1508, train_label_loss: 0.2128, \n"
     ]
    },
    {
     "name": "stdout",
     "output_type": "stream",
     "text": [
      "epoch: 6, [batch: 672 / 6720], examples_per_second: 2332.1597, train_label_loss: 0.3787, \n"
     ]
    },
    {
     "name": "stdout",
     "output_type": "stream",
     "text": [
      "epoch: 6, [batch: 1344 / 6720], examples_per_second: 2585.1653, train_label_loss: 0.1140, \n"
     ]
    },
    {
     "name": "stdout",
     "output_type": "stream",
     "text": [
      "epoch: 6, [batch: 2016 / 6720], examples_per_second: 2600.9883, train_label_loss: 0.1702, \n"
     ]
    },
    {
     "name": "stdout",
     "output_type": "stream",
     "text": [
      "epoch: 6, [batch: 2688 / 6720], examples_per_second: 2574.9473, train_label_loss: 0.0988, \n"
     ]
    },
    {
     "name": "stdout",
     "output_type": "stream",
     "text": [
      "epoch: 6, [batch: 3360 / 6720], examples_per_second: 2308.4610, train_label_loss: 0.1042, \n"
     ]
    },
    {
     "name": "stdout",
     "output_type": "stream",
     "text": [
      "epoch: 6, [batch: 4032 / 6720], examples_per_second: 2324.7091, train_label_loss: 0.0951, \n"
     ]
    },
    {
     "name": "stdout",
     "output_type": "stream",
     "text": [
      "epoch: 6, [batch: 4704 / 6720], examples_per_second: 2314.3920, train_label_loss: 0.0877, \n"
     ]
    },
    {
     "name": "stdout",
     "output_type": "stream",
     "text": [
      "epoch: 6, [batch: 5376 / 6720], examples_per_second: 2508.2049, train_label_loss: 0.0458, \n"
     ]
    },
    {
     "name": "stdout",
     "output_type": "stream",
     "text": [
      "epoch: 6, [batch: 6048 / 6720], examples_per_second: 2639.8136, train_label_loss: 0.5042, \n"
     ]
    },
    {
     "name": "stdout",
     "output_type": "stream",
     "text": [
      "=============================================================\n",
      "epoch: 6, source_val_acc_label: 0.9307, target_val_acc_label: 0.9284, source_val_label_loss: 0.1969, target_val_label_loss: 3.8553, \n",
      "=============================================================\n"
     ]
    },
    {
     "name": "stdout",
     "output_type": "stream",
     "text": [
      "epoch: 7, [batch: 1 / 6720], examples_per_second: 2.2044, train_label_loss: 0.0993, \n"
     ]
    },
    {
     "name": "stdout",
     "output_type": "stream",
     "text": [
      "epoch: 7, [batch: 672 / 6720], examples_per_second: 2347.8884, train_label_loss: 0.0488, \n"
     ]
    },
    {
     "name": "stdout",
     "output_type": "stream",
     "text": [
      "epoch: 7, [batch: 1344 / 6720], examples_per_second: 2586.8215, train_label_loss: 0.3716, \n"
     ]
    },
    {
     "name": "stdout",
     "output_type": "stream",
     "text": [
      "epoch: 7, [batch: 2016 / 6720], examples_per_second: 2718.0042, train_label_loss: 0.1081, \n"
     ]
    },
    {
     "name": "stdout",
     "output_type": "stream",
     "text": [
      "epoch: 7, [batch: 2688 / 6720], examples_per_second: 2651.1025, train_label_loss: 0.0471, \n"
     ]
    },
    {
     "name": "stdout",
     "output_type": "stream",
     "text": [
      "epoch: 7, [batch: 3360 / 6720], examples_per_second: 2623.4695, train_label_loss: 0.0745, \n"
     ]
    },
    {
     "name": "stdout",
     "output_type": "stream",
     "text": [
      "epoch: 7, [batch: 4032 / 6720], examples_per_second: 2620.4946, train_label_loss: 0.1934, \n"
     ]
    },
    {
     "name": "stdout",
     "output_type": "stream",
     "text": [
      "epoch: 7, [batch: 4704 / 6720], examples_per_second: 2626.1820, train_label_loss: 0.1456, \n"
     ]
    },
    {
     "name": "stdout",
     "output_type": "stream",
     "text": [
      "epoch: 7, [batch: 5376 / 6720], examples_per_second: 2695.2465, train_label_loss: 0.0650, \n"
     ]
    },
    {
     "name": "stdout",
     "output_type": "stream",
     "text": [
      "epoch: 7, [batch: 6048 / 6720], examples_per_second: 3003.8508, train_label_loss: 0.2994, \n"
     ]
    },
    {
     "name": "stdout",
     "output_type": "stream",
     "text": [
      "=============================================================\n",
      "epoch: 7, source_val_acc_label: 0.9425, target_val_acc_label: 0.9117, source_val_label_loss: 0.1705, target_val_label_loss: 9.2058, \n",
      "=============================================================\n"
     ]
    },
    {
     "name": "stdout",
     "output_type": "stream",
     "text": [
      "epoch: 8, [batch: 1 / 6720], examples_per_second: 2.5493, train_label_loss: 0.2768, \n"
     ]
    },
    {
     "name": "stdout",
     "output_type": "stream",
     "text": [
      "epoch: 8, [batch: 672 / 6720], examples_per_second: 2768.0056, train_label_loss: 0.0911, \n"
     ]
    },
    {
     "name": "stdout",
     "output_type": "stream",
     "text": [
      "epoch: 8, [batch: 1344 / 6720], examples_per_second: 3007.0157, train_label_loss: 0.0764, \n"
     ]
    },
    {
     "name": "stdout",
     "output_type": "stream",
     "text": [
      "epoch: 8, [batch: 2016 / 6720], examples_per_second: 3194.8912, train_label_loss: 0.1605, \n"
     ]
    },
    {
     "name": "stdout",
     "output_type": "stream",
     "text": [
      "epoch: 8, [batch: 2688 / 6720], examples_per_second: 3435.3561, train_label_loss: 0.0495, \n"
     ]
    },
    {
     "name": "stdout",
     "output_type": "stream",
     "text": [
      "epoch: 8, [batch: 3360 / 6720], examples_per_second: 3414.4120, train_label_loss: 0.0925, \n"
     ]
    },
    {
     "name": "stdout",
     "output_type": "stream",
     "text": [
      "epoch: 8, [batch: 4032 / 6720], examples_per_second: 3445.9000, train_label_loss: 0.1790, \n"
     ]
    },
    {
     "name": "stdout",
     "output_type": "stream",
     "text": [
      "epoch: 8, [batch: 4704 / 6720], examples_per_second: 3241.2797, train_label_loss: 0.0674, \n"
     ]
    },
    {
     "name": "stdout",
     "output_type": "stream",
     "text": [
      "epoch: 8, [batch: 5376 / 6720], examples_per_second: 3521.7374, train_label_loss: 0.1576, \n"
     ]
    },
    {
     "name": "stdout",
     "output_type": "stream",
     "text": [
      "epoch: 8, [batch: 6048 / 6720], examples_per_second: 3786.5520, train_label_loss: 0.0261, \n"
     ]
    },
    {
     "name": "stdout",
     "output_type": "stream",
     "text": [
      "=============================================================\n",
      "epoch: 8, source_val_acc_label: 0.9432, target_val_acc_label: 0.9545, source_val_label_loss: 0.1700, target_val_label_loss: 2.9239, \n",
      "=============================================================\n"
     ]
    },
    {
     "name": "stdout",
     "output_type": "stream",
     "text": [
      "New best\n"
     ]
    },
    {
     "name": "stdout",
     "output_type": "stream",
     "text": [
      "epoch: 9, [batch: 1 / 6720], examples_per_second: 4.2539, train_label_loss: 0.0564, \n"
     ]
    },
    {
     "name": "stdout",
     "output_type": "stream",
     "text": [
      "epoch: 9, [batch: 672 / 6720], examples_per_second: 3005.6868, train_label_loss: 0.1231, \n"
     ]
    },
    {
     "name": "stdout",
     "output_type": "stream",
     "text": [
      "epoch: 9, [batch: 1344 / 6720], examples_per_second: 3049.2165, train_label_loss: 0.2019, \n"
     ]
    },
    {
     "name": "stdout",
     "output_type": "stream",
     "text": [
      "epoch: 9, [batch: 2016 / 6720], examples_per_second: 3008.6921, train_label_loss: 0.4025, \n"
     ]
    },
    {
     "name": "stdout",
     "output_type": "stream",
     "text": [
      "epoch: 9, [batch: 2688 / 6720], examples_per_second: 2927.7693, train_label_loss: 0.1675, \n"
     ]
    },
    {
     "name": "stdout",
     "output_type": "stream",
     "text": [
      "epoch: 9, [batch: 3360 / 6720], examples_per_second: 2944.4850, train_label_loss: 0.0442, \n"
     ]
    },
    {
     "name": "stdout",
     "output_type": "stream",
     "text": [
      "epoch: 9, [batch: 4032 / 6720], examples_per_second: 2653.1354, train_label_loss: 0.0779, \n"
     ]
    },
    {
     "name": "stdout",
     "output_type": "stream",
     "text": [
      "epoch: 9, [batch: 4704 / 6720], examples_per_second: 2305.5175, train_label_loss: 0.0741, \n"
     ]
    },
    {
     "name": "stdout",
     "output_type": "stream",
     "text": [
      "epoch: 9, [batch: 5376 / 6720], examples_per_second: 2322.0219, train_label_loss: 0.0483, \n"
     ]
    },
    {
     "name": "stdout",
     "output_type": "stream",
     "text": [
      "epoch: 9, [batch: 6048 / 6720], examples_per_second: 2368.7696, train_label_loss: 0.0446, \n"
     ]
    },
    {
     "name": "stdout",
     "output_type": "stream",
     "text": [
      "=============================================================\n",
      "epoch: 9, source_val_acc_label: 0.9486, target_val_acc_label: 0.9270, source_val_label_loss: 0.1488, target_val_label_loss: 19.1853, \n",
      "=============================================================\n"
     ]
    },
    {
     "name": "stdout",
     "output_type": "stream",
     "text": [
      "epoch: 10, [batch: 1 / 6720], examples_per_second: 2.2976, train_label_loss: 0.0589, \n"
     ]
    },
    {
     "name": "stdout",
     "output_type": "stream",
     "text": [
      "epoch: 10, [batch: 672 / 6720], examples_per_second: 2331.3164, train_label_loss: 0.0949, \n"
     ]
    },
    {
     "name": "stdout",
     "output_type": "stream",
     "text": [
      "epoch: 10, [batch: 1344 / 6720], examples_per_second: 2319.6703, train_label_loss: 0.1593, \n"
     ]
    },
    {
     "name": "stdout",
     "output_type": "stream",
     "text": [
      "epoch: 10, [batch: 2016 / 6720], examples_per_second: 2321.3561, train_label_loss: 0.1401, \n"
     ]
    },
    {
     "name": "stdout",
     "output_type": "stream",
     "text": [
      "epoch: 10, [batch: 2688 / 6720], examples_per_second: 2506.9562, train_label_loss: 0.1071, \n"
     ]
    },
    {
     "name": "stdout",
     "output_type": "stream",
     "text": [
      "epoch: 10, [batch: 3360 / 6720], examples_per_second: 2603.1153, train_label_loss: 0.0114, \n"
     ]
    },
    {
     "name": "stdout",
     "output_type": "stream",
     "text": [
      "epoch: 10, [batch: 4032 / 6720], examples_per_second: 2568.0684, train_label_loss: 0.2550, \n"
     ]
    },
    {
     "name": "stdout",
     "output_type": "stream",
     "text": [
      "epoch: 10, [batch: 4704 / 6720], examples_per_second: 2564.8709, train_label_loss: 0.0648, \n"
     ]
    },
    {
     "name": "stdout",
     "output_type": "stream",
     "text": [
      "epoch: 10, [batch: 5376 / 6720], examples_per_second: 2581.0806, train_label_loss: 0.0341, \n"
     ]
    },
    {
     "name": "stdout",
     "output_type": "stream",
     "text": [
      "epoch: 10, [batch: 6048 / 6720], examples_per_second: 2632.9779, train_label_loss: 0.1468, \n"
     ]
    },
    {
     "name": "stdout",
     "output_type": "stream",
     "text": [
      "=============================================================\n",
      "epoch: 10, source_val_acc_label: 0.9458, target_val_acc_label: 0.9008, source_val_label_loss: 0.1588, target_val_label_loss: 65.7498, \n",
      "=============================================================\n"
     ]
    },
    {
     "name": "stdout",
     "output_type": "stream",
     "text": [
      "epoch: 11, [batch: 1 / 6720], examples_per_second: 2.6195, train_label_loss: 0.0401, \n"
     ]
    },
    {
     "name": "stdout",
     "output_type": "stream",
     "text": [
      "epoch: 11, [batch: 672 / 6720], examples_per_second: 2323.4683, train_label_loss: 0.1335, \n"
     ]
    },
    {
     "name": "stdout",
     "output_type": "stream",
     "text": [
      "epoch: 11, [batch: 1344 / 6720], examples_per_second: 2336.7002, train_label_loss: 0.1976, \n"
     ]
    },
    {
     "name": "stdout",
     "output_type": "stream",
     "text": [
      "epoch: 11, [batch: 2016 / 6720], examples_per_second: 2338.7272, train_label_loss: 0.1683, \n"
     ]
    },
    {
     "name": "stdout",
     "output_type": "stream",
     "text": [
      "epoch: 11, [batch: 2688 / 6720], examples_per_second: 2319.4518, train_label_loss: 0.2475, \n"
     ]
    },
    {
     "name": "stdout",
     "output_type": "stream",
     "text": [
      "epoch: 11, [batch: 3360 / 6720], examples_per_second: 2318.6403, train_label_loss: 0.0234, \n"
     ]
    },
    {
     "name": "stdout",
     "output_type": "stream",
     "text": [
      "epoch: 11, [batch: 4032 / 6720], examples_per_second: 2323.0300, train_label_loss: 0.0550, \n"
     ]
    },
    {
     "name": "stdout",
     "output_type": "stream",
     "text": [
      "epoch: 11, [batch: 4704 / 6720], examples_per_second: 2305.4106, train_label_loss: 0.1510, \n"
     ]
    },
    {
     "name": "stdout",
     "output_type": "stream",
     "text": [
      "epoch: 11, [batch: 5376 / 6720], examples_per_second: 2332.1981, train_label_loss: 0.0302, \n"
     ]
    },
    {
     "name": "stdout",
     "output_type": "stream",
     "text": [
      "epoch: 11, [batch: 6048 / 6720], examples_per_second: 2344.3843, train_label_loss: 0.0103, \n"
     ]
    },
    {
     "name": "stdout",
     "output_type": "stream",
     "text": [
      "=============================================================\n",
      "epoch: 11, source_val_acc_label: 0.9509, target_val_acc_label: 0.9465, source_val_label_loss: 0.1514, target_val_label_loss: 5.4405, \n",
      "=============================================================\n"
     ]
    },
    {
     "name": "stdout",
     "output_type": "stream",
     "text": [
      "epoch: 12, [batch: 1 / 6720], examples_per_second: 2.6829, train_label_loss: 0.1112, \n"
     ]
    },
    {
     "name": "stdout",
     "output_type": "stream",
     "text": [
      "epoch: 12, [batch: 672 / 6720], examples_per_second: 2558.7006, train_label_loss: 0.1168, \n"
     ]
    },
    {
     "name": "stdout",
     "output_type": "stream",
     "text": [
      "epoch: 12, [batch: 1344 / 6720], examples_per_second: 2581.3875, train_label_loss: 0.0353, \n"
     ]
    },
    {
     "name": "stdout",
     "output_type": "stream",
     "text": [
      "epoch: 12, [batch: 2016 / 6720], examples_per_second: 2585.1457, train_label_loss: 0.0641, \n"
     ]
    },
    {
     "name": "stdout",
     "output_type": "stream",
     "text": [
      "epoch: 12, [batch: 2688 / 6720], examples_per_second: 2694.3557, train_label_loss: 0.1027, \n"
     ]
    },
    {
     "name": "stdout",
     "output_type": "stream",
     "text": [
      "epoch: 12, [batch: 3360 / 6720], examples_per_second: 2316.1810, train_label_loss: 0.0397, \n"
     ]
    },
    {
     "name": "stdout",
     "output_type": "stream",
     "text": [
      "epoch: 12, [batch: 4032 / 6720], examples_per_second: 2300.0488, train_label_loss: 0.0765, \n"
     ]
    },
    {
     "name": "stdout",
     "output_type": "stream",
     "text": [
      "epoch: 12, [batch: 4704 / 6720], examples_per_second: 2310.6490, train_label_loss: 0.1262, \n"
     ]
    },
    {
     "name": "stdout",
     "output_type": "stream",
     "text": [
      "epoch: 12, [batch: 5376 / 6720], examples_per_second: 2297.0506, train_label_loss: 0.0622, \n"
     ]
    },
    {
     "name": "stdout",
     "output_type": "stream",
     "text": [
      "epoch: 12, [batch: 6048 / 6720], examples_per_second: 2310.5284, train_label_loss: 0.1895, \n"
     ]
    },
    {
     "name": "stdout",
     "output_type": "stream",
     "text": [
      "=============================================================\n",
      "epoch: 12, source_val_acc_label: 0.9530, target_val_acc_label: 0.9224, source_val_label_loss: 0.1370, target_val_label_loss: 36.0286, \n",
      "=============================================================\n"
     ]
    },
    {
     "name": "stdout",
     "output_type": "stream",
     "text": [
      "Patience (3) exhausted\n"
     ]
    }
   ],
   "source": [
    "###################################\n",
    "# train\n",
    "###################################\n",
    "jig = PTN_Train_Eval_Test_Jig(model, p.BEST_MODEL_PATH, p.device)\n",
    "\n",
    "jig.train(\n",
    "    train_iterable=datasets.source.processed.train,\n",
    "    source_val_iterable=datasets.source.processed.val,\n",
    "    target_val_iterable=datasets.target.processed.val,\n",
    "    num_epochs=p.n_epoch,\n",
    "    num_logs_per_epoch=p.NUM_LOGS_PER_EPOCH,\n",
    "    patience=p.patience,\n",
    "    optimizer=optimizer,\n",
    "    criteria_for_best=p.criteria_for_best,\n",
    ")"
   ]
  },
  {
   "cell_type": "code",
   "execution_count": 23,
   "id": "31e8fabf",
   "metadata": {
    "execution": {
     "iopub.execute_input": "2022-03-21T20:35:49.686068Z",
     "iopub.status.busy": "2022-03-21T20:35:49.685698Z",
     "iopub.status.idle": "2022-03-21T20:35:49.720819Z",
     "shell.execute_reply": "2022-03-21T20:35:49.720057Z"
    },
    "papermill": {
     "duration": 0.098687,
     "end_time": "2022-03-21T20:35:49.721004",
     "exception": false,
     "start_time": "2022-03-21T20:35:49.622317",
     "status": "completed"
    },
    "tags": []
   },
   "outputs": [],
   "source": [
    "total_experiment_time_secs = time.time() - start_time_secs"
   ]
  },
  {
   "cell_type": "code",
   "execution_count": 24,
   "id": "87b9595b",
   "metadata": {
    "execution": {
     "iopub.execute_input": "2022-03-21T20:35:49.856745Z",
     "iopub.status.busy": "2022-03-21T20:35:49.856016Z",
     "iopub.status.idle": "2022-03-21T20:39:36.787276Z",
     "shell.execute_reply": "2022-03-21T20:39:36.786475Z"
    },
    "papermill": {
     "duration": 226.99996,
     "end_time": "2022-03-21T20:39:36.787474",
     "exception": false,
     "start_time": "2022-03-21T20:35:49.787514",
     "status": "completed"
    },
    "tags": []
   },
   "outputs": [],
   "source": [
    "###################################\n",
    "# Evaluate the model\n",
    "###################################\n",
    "source_test_label_accuracy, source_test_label_loss = jig.test(datasets.source.processed.test)\n",
    "target_test_label_accuracy, target_test_label_loss = jig.test(datasets.target.processed.test)\n",
    "\n",
    "source_val_label_accuracy, source_val_label_loss = jig.test(datasets.source.processed.val)\n",
    "target_val_label_accuracy, target_val_label_loss = jig.test(datasets.target.processed.val)\n",
    "\n",
    "history = jig.get_history()\n",
    "\n",
    "total_epochs_trained = len(history[\"epoch_indices\"])\n",
    "\n",
    "val_dl = Iterable_Aggregator((datasets.source.original.val,datasets.target.original.val))\n",
    "\n",
    "confusion = ptn_confusion_by_domain_over_dataloader(model, p.device, val_dl)\n",
    "per_domain_accuracy = per_domain_accuracy_from_confusion(confusion)\n",
    "\n",
    "# Add a key to per_domain_accuracy for if it was a source domain\n",
    "for domain, accuracy in per_domain_accuracy.items():\n",
    "    per_domain_accuracy[domain] = {\n",
    "        \"accuracy\": accuracy,\n",
    "        \"source?\": domain in p.domains_source\n",
    "    }\n",
    "\n",
    "# Do an independent accuracy assesment JUST TO BE SURE!\n",
    "# _source_test_label_accuracy = independent_accuracy_assesment(model, datasets.source.processed.test, p.device)\n",
    "# _target_test_label_accuracy = independent_accuracy_assesment(model, datasets.target.processed.test, p.device)\n",
    "# _source_val_label_accuracy = independent_accuracy_assesment(model, datasets.source.processed.val, p.device)\n",
    "# _target_val_label_accuracy = independent_accuracy_assesment(model, datasets.target.processed.val, p.device)\n",
    "\n",
    "# assert(_source_test_label_accuracy == source_test_label_accuracy)\n",
    "# assert(_target_test_label_accuracy == target_test_label_accuracy)\n",
    "# assert(_source_val_label_accuracy == source_val_label_accuracy)\n",
    "# assert(_target_val_label_accuracy == target_val_label_accuracy)\n",
    "\n",
    "experiment = {\n",
    "    \"experiment_name\": p.experiment_name,\n",
    "    \"parameters\": dict(p),\n",
    "    \"results\": {\n",
    "        \"source_test_label_accuracy\": source_test_label_accuracy,\n",
    "        \"source_test_label_loss\": source_test_label_loss,\n",
    "        \"target_test_label_accuracy\": target_test_label_accuracy,\n",
    "        \"target_test_label_loss\": target_test_label_loss,\n",
    "        \"source_val_label_accuracy\": source_val_label_accuracy,\n",
    "        \"source_val_label_loss\": source_val_label_loss,\n",
    "        \"target_val_label_accuracy\": target_val_label_accuracy,\n",
    "        \"target_val_label_loss\": target_val_label_loss,\n",
    "        \"total_epochs_trained\": total_epochs_trained,\n",
    "        \"total_experiment_time_secs\": total_experiment_time_secs,\n",
    "        \"confusion\": confusion,\n",
    "        \"per_domain_accuracy\": per_domain_accuracy,\n",
    "    },\n",
    "    \"history\": history,\n",
    "    \"dataset_metrics\": get_dataset_metrics(datasets, \"ptn\"),\n",
    "}"
   ]
  },
  {
   "cell_type": "code",
   "execution_count": 25,
   "id": "54a21829",
   "metadata": {
    "execution": {
     "iopub.execute_input": "2022-03-21T20:39:36.922600Z",
     "iopub.status.busy": "2022-03-21T20:39:36.922027Z",
     "iopub.status.idle": "2022-03-21T20:39:37.150460Z",
     "shell.execute_reply": "2022-03-21T20:39:37.151168Z"
    },
    "papermill": {
     "duration": 0.296127,
     "end_time": "2022-03-21T20:39:37.151402",
     "exception": false,
     "start_time": "2022-03-21T20:39:36.855275",
     "status": "completed"
    },
    "tags": []
   },
   "outputs": [
    {
     "data": {
      "image/png": "[encoded data removed]",
      "text/plain": [
       "<Figure size 1080x504 with 1 Axes>"
      ]
     },
     "metadata": {
      "needs_background": "light"
     },
     "output_type": "display_data"
    }
   ],
   "source": [
    "ax = get_loss_curve(experiment)\n",
    "plt.show()"
   ]
  },
  {
   "cell_type": "code",
   "execution_count": 26,
   "id": "fd8a0f60",
   "metadata": {
    "execution": {
     "iopub.execute_input": "2022-03-21T20:39:37.281580Z",
     "iopub.status.busy": "2022-03-21T20:39:37.281214Z",
     "iopub.status.idle": "2022-03-21T20:39:37.606689Z",
     "shell.execute_reply": "2022-03-21T20:39:37.607375Z"
    },
    "papermill": {
     "duration": 0.391456,
     "end_time": "2022-03-21T20:39:37.607595",
     "exception": false,
     "start_time": "2022-03-21T20:39:37.216139",
     "status": "completed"
    },
    "tags": []
   },
   "outputs": [
    {
     "data": {
      "text/plain": [
       "<AxesSubplot:title={'center':'Results'}>"
      ]
     },
     "execution_count": 26,
     "metadata": {},
     "output_type": "execute_result"
    },
    {
     "data": {
      "image/png": "[encoded data removed]",
      "text/plain": [
       "<Figure size 1080x504 with 1 Axes>"
      ]
     },
     "metadata": {
      "needs_background": "light"
     },
     "output_type": "display_data"
    }
   ],
   "source": [
    "get_results_table(experiment)"
   ]
  },
  {
   "cell_type": "code",
   "execution_count": 27,
   "id": "cf8dc689",
   "metadata": {
    "execution": {
     "iopub.execute_input": "2022-03-21T20:39:37.736082Z",
     "iopub.status.busy": "2022-03-21T20:39:37.735715Z",
     "iopub.status.idle": "2022-03-21T20:39:38.025353Z",
     "shell.execute_reply": "2022-03-21T20:39:38.024571Z"
    },
    "papermill": {
     "duration": 0.35342,
     "end_time": "2022-03-21T20:39:38.025517",
     "exception": false,
     "start_time": "2022-03-21T20:39:37.672097",
     "status": "completed"
    },
    "tags": []
   },
   "outputs": [
    {
     "data": {
      "text/plain": [
       "<AxesSubplot:title={'center':'Per Domain Validation Accuracy'}, xlabel='domain'>"
      ]
     },
     "execution_count": 27,
     "metadata": {},
     "output_type": "execute_result"
    },
    {
     "data": {
      "image/png": "[encoded data removed]",
      "text/plain": [
       "<Figure size 1080x504 with 1 Axes>"
      ]
     },
     "metadata": {
      "needs_background": "light"
     },
     "output_type": "display_data"
    }
   ],
   "source": [
    "get_domain_accuracies(experiment)"
   ]
  },
  {
   "cell_type": "code",
   "execution_count": 28,
   "id": "a74ae082",
   "metadata": {
    "execution": {
     "iopub.execute_input": "2022-03-21T20:39:38.156096Z",
     "iopub.status.busy": "2022-03-21T20:39:38.155726Z",
     "iopub.status.idle": "2022-03-21T20:39:38.178580Z",
     "shell.execute_reply": "2022-03-21T20:39:38.177775Z"
    },
    "papermill": {
     "duration": 0.087848,
     "end_time": "2022-03-21T20:39:38.178740",
     "exception": false,
     "start_time": "2022-03-21T20:39:38.090892",
     "status": "completed"
    },
    "tags": []
   },
   "outputs": [
    {
     "name": "stdout",
     "output_type": "stream",
     "text": [
      "Source Test Label Accuracy: 0.9449544270833333 Target Test Label Accuracy: 0.9560393258426966\n",
      "Source Val Label Accuracy: 0.9432291666666667 Target Val Label Accuracy: 0.9545357142857143\n"
     ]
    }
   ],
   "source": [
    "print(\"Source Test Label Accuracy:\", experiment[\"results\"][\"source_test_label_accuracy\"], \"Target Test Label Accuracy:\", experiment[\"results\"][\"target_test_label_accuracy\"])\n",
    "print(\"Source Val Label Accuracy:\", experiment[\"results\"][\"source_val_label_accuracy\"], \"Target Val Label Accuracy:\", experiment[\"results\"][\"target_val_label_accuracy\"])"
   ]
  },
  {
   "cell_type": "code",
   "execution_count": 29,
   "id": "dacca602",
   "metadata": {
    "execution": {
     "iopub.execute_input": "2022-03-21T20:39:38.310061Z",
     "iopub.status.busy": "2022-03-21T20:39:38.309703Z",
     "iopub.status.idle": "2022-03-21T20:39:38.329850Z",
     "shell.execute_reply": "2022-03-21T20:39:38.330515Z"
    },
    "papermill": {
     "duration": 0.08518,
     "end_time": "2022-03-21T20:39:38.330699",
     "exception": false,
     "start_time": "2022-03-21T20:39:38.245519",
     "status": "completed"
    },
    "tags": [
     "experiment_json"
    ]
   },
   "outputs": [
    {
     "data": {
      "text/plain": [
       "'{\"experiment_name\": \"tl_1v2:cores-oracle.run1.framed\", \"parameters\": {\"experiment_name\": \"tl_1v2:cores-oracle.run1.framed\", \"device\": \"cuda\", \"lr\": 0.0001, \"n_shot\": 3, \"n_query\": 2, \"train_k_factor\": 3, \"val_k_factor\": 2, \"test_k_factor\": 2, \"torch_default_dtype\": \"torch.float32\", \"n_epoch\": 50, \"patience\": 3, \"criteria_for_best\": \"target_accuracy\", \"x_net\": [{\"class\": \"nnReshape\", \"kargs\": {\"shape\": [-1, 1, 2, 256]}}, {\"class\": \"Conv2d\", \"kargs\": {\"in_channels\": 1, \"out_channels\": 256, \"kernel_size\": [1, 7], \"bias\": false, \"padding\": [0, 3]}}, {\"class\": \"ReLU\", \"kargs\": {\"inplace\": true}}, {\"class\": \"BatchNorm2d\", \"kargs\": {\"num_features\": 256}}, {\"class\": \"Conv2d\", \"kargs\": {\"in_channels\": 256, \"out_channels\": 80, \"kernel_size\": [2, 7], \"bias\": true, \"padding\": [0, 3]}}, {\"class\": \"ReLU\", \"kargs\": {\"inplace\": true}}, {\"class\": \"BatchNorm2d\", \"kargs\": {\"num_features\": 80}}, {\"class\": \"Flatten\", \"kargs\": {}}, {\"class\": \"Linear\", \"kargs\": {\"in_features\": 20480, \"out_features\": 256}}, {\"class\": \"ReLU\", \"kargs\": {\"inplace\": true}}, {\"class\": \"BatchNorm1d\", \"kargs\": {\"num_features\": 256}}, {\"class\": \"Linear\", \"kargs\": {\"in_features\": 256, \"out_features\": 256}}], \"NUM_LOGS_PER_EPOCH\": 10, \"BEST_MODEL_PATH\": \"./best_model.pth\", \"n_way\": 16, \"datasets\": [{\"labels\": [\"1-10.\", \"1-11.\", \"1-15.\", \"1-16.\", \"1-17.\", \"1-18.\", \"1-19.\", \"10-4.\", \"10-7.\", \"11-1.\", \"11-14.\", \"11-17.\", \"11-20.\", \"11-7.\", \"13-20.\", \"13-8.\", \"14-10.\", \"14-11.\", \"14-14.\", \"14-7.\", \"15-1.\", \"15-20.\", \"16-1.\", \"16-16.\", \"17-10.\", \"17-11.\", \"17-2.\", \"19-1.\", \"19-16.\", \"19-19.\", \"19-20.\", \"19-3.\", \"2-10.\", \"2-11.\", \"2-17.\", \"2-18.\", \"2-20.\", \"2-3.\", \"2-4.\", \"2-5.\", \"2-6.\", \"2-7.\", \"2-8.\", \"3-13.\", \"3-18.\", \"3-3.\", \"4-1.\", \"4-10.\", \"4-11.\", \"4-19.\", \"5-5.\", \"6-15.\", \"7-10.\", \"7-14.\", \"8-18.\", \"8-20.\", \"8-3.\", \"8-8.\"], \"domains\": [1, 2, 3, 4, 5], \"num_examples_per_domain_per_label\": -1, \"pickle_path\": \"/root/csc500-main/datasets/cores.stratified_ds.2022A.pkl\", \"source_or_target_dataset\": \"target\", \"x_transforms\": [], \"episode_transforms\": [], \"domain_prefix\": \"CORES_\"}, {\"labels\": [\"3123D52\", \"3123D65\", \"3123D79\", \"3123D80\", \"3123D54\", \"3123D70\", \"3123D7B\", \"3123D89\", \"3123D58\", \"3123D76\", \"3123D7D\", \"3123EFE\", \"3123D64\", \"3123D78\", \"3123D7E\", \"3124E4A\"], \"domains\": [32, 38, 8, 44, 14, 50, 20, 26], \"num_examples_per_domain_per_label\": 2000, \"pickle_path\": \"/root/csc500-main/datasets/oracle.Run1_framed_2000Examples_stratified_ds.2022A.pkl\", \"source_or_target_dataset\": \"source\", \"x_transforms\": [], \"episode_transforms\": [], \"domain_prefix\": \"ORACLE.run1_\"}], \"dataset_seed\": 500, \"seed\": 500, \"x_shape\": [2, 256], \"domains_source\": [\"ORACLE.run1_32\", \"ORACLE.run1_38\", \"ORACLE.run1_8\", \"ORACLE.run1_44\", \"ORACLE.run1_14\", \"ORACLE.run1_50\", \"ORACLE.run1_20\", \"ORACLE.run1_26\"], \"domains_target\": [\"CORES_1\", \"CORES_2\", \"CORES_3\", \"CORES_4\", \"CORES_5\"]}, \"results\": {\"source_test_label_accuracy\": 0.9449544270833333, \"source_test_label_loss\": 0.16611415147781372, \"target_test_label_accuracy\": 0.9560393258426966, \"target_test_label_loss\": 2.984529733657837, \"source_val_label_accuracy\": 0.9432291666666667, \"source_val_label_loss\": 0.17002780735492706, \"target_val_label_accuracy\": 0.9545357142857143, \"target_val_label_loss\": 2.923856019973755, \"total_epochs_trained\": 12, \"total_experiment_time_secs\": 3022.049986600876, \"confusion\": {\"ORACLE.run1_50\": {\"7\": {\"7\": 239, \"5\": 1}, \"10\": {\"10\": 240}, \"0\": {\"0\": 233, \"2\": 5, \"10\": 2}, \"11\": {\"11\": 238, \"9\": 1, \"15\": 1}, \"2\": {\"2\": 237, \"0\": 3}, \"14\": {\"14\": 240}, \"9\": {\"11\": 5, \"9\": 232, \"12\": 3}, \"13\": {\"13\": 240}, \"8\": {\"8\": 240}, \"15\": {\"15\": 239, \"6\": 1}, \"4\": {\"4\": 214, \"7\": 10, \"5\": 11, \"15\": 4, \"1\": 1}, \"5\": {\"4\": 11, \"5\": 209, \"6\": 5, \"13\": 4, \"7\": 6, \"15\": 3, \"1\": 2}, \"3\": {\"3\": 240}, \"1\": {\"1\": 235, \"5\": 4, \"13\": 1}, \"6\": {\"6\": 239, \"5\": 1}, \"12\": {\"12\": 233, \"11\": 5, \"9\": 2}}, \"ORACLE.run1_14\": {\"14\": {\"14\": 232, \"2\": 6, \"13\": 2}, \"6\": {\"6\": 193, \"13\": 45, \"2\": 2}, \"5\": {\"4\": 3, \"5\": 230, \"2\": 6, \"3\": 1}, \"15\": {\"15\": 240}, \"11\": {\"11\": 240}, \"8\": {\"8\": 240}, \"12\": {\"12\": 240}, \"1\": {\"1\": 240}, \"2\": {\"14\": 44, \"2\": 146, \"13\": 4, \"4\": 1, \"6\": 9, \"3\": 8, \"5\": 28}, \"13\": {\"13\": 108, \"2\": 18, \"14\": 27, \"6\": 87}, \"3\": {\"3\": 240}, \"0\": {\"0\": 240}, \"9\": {\"9\": 240}, \"4\": {\"4\": 238, \"5\": 2}, \"7\": {\"7\": 240}, \"10\": {\"10\": 240}}, \"ORACLE.run1_32\": {\"4\": {\"4\": 224, \"2\": 15, \"13\": 1}, \"14\": {\"14\": 215, \"7\": 6, \"0\": 14, \"5\": 3, \"8\": 2}, \"5\": {\"5\": 186, \"7\": 51, \"8\": 1, \"0\": 2}, \"10\": {\"10\": 240}, \"13\": {\"13\": 217, \"4\": 9, \"3\": 14}, \"9\": {\"9\": 238, \"12\": 2}, \"6\": {\"6\": 240}, \"3\": {\"3\": 240}, \"15\": {\"15\": 240}, \"7\": {\"7\": 215, \"5\": 25}, \"12\": {\"12\": 240}, \"8\": {\"8\": 225, \"0\": 11, \"14\": 1, \"5\": 2, \"13\": 1}, \"11\": {\"11\": 240}, \"2\": {\"2\": 218, \"4\": 22}, \"1\": {\"1\": 240}, \"0\": {\"0\": 218, \"7\": 5, \"14\": 5, \"8\": 12}}, \"ORACLE.run1_44\": {\"8\": {\"0\": 52, \"8\": 181, \"15\": 2, \"5\": 5}, \"11\": {\"11\": 239, \"13\": 1}, \"14\": {\"14\": 227, \"4\": 10, \"5\": 1, \"15\": 2}, \"10\": {\"10\": 234, \"1\": 4, \"7\": 2}, \"3\": {\"3\": 240}, \"15\": {\"15\": 217, \"14\": 12, \"5\": 4, \"8\": 6, \"0\": 1}, \"2\": {\"2\": 235, \"7\": 2, \"9\": 1, \"1\": 2}, \"12\": {\"12\": 239, \"3\": 1}, \"4\": {\"14\": 55, \"4\": 185}, \"1\": {\"1\": 236, \"10\": 1, \"2\": 3}, \"0\": {\"0\": 217, \"8\": 23}, \"9\": {\"6\": 21, \"7\": 58, \"9\": 139, \"13\": 20, \"2\": 2}, \"5\": {\"5\": 226, \"8\": 2, \"14\": 3, \"15\": 8, \"4\": 1}, \"6\": {\"6\": 219, \"9\": 9, \"13\": 12}, \"7\": {\"7\": 229, \"9\": 11}, \"13\": {\"13\": 208, \"6\": 28, \"9\": 4}}, \"ORACLE.run1_8\": {\"13\": {\"13\": 214, \"6\": 1, \"10\": 18, \"7\": 6, \"5\": 1}, \"3\": {\"3\": 240}, \"15\": {\"15\": 232, \"12\": 8}, \"4\": {\"4\": 240}, \"7\": {\"7\": 238, \"6\": 2}, \"2\": {\"3\": 31, \"2\": 203, \"12\": 6}, \"1\": {\"1\": 235, \"11\": 2, \"10\": 1, \"5\": 2}, \"0\": {\"0\": 240}, \"12\": {\"12\": 205, \"15\": 35}, \"6\": {\"6\": 237, \"7\": 3}, \"11\": {\"11\": 221, \"1\": 18, \"14\": 1}, \"9\": {\"9\": 240}, \"5\": {\"5\": 202, \"1\": 11, \"14\": 3, \"10\": 23, \"13\": 1}, \"10\": {\"10\": 205, \"13\": 33, \"4\": 1, \"5\": 1}, \"14\": {\"14\": 235, \"4\": 5}, \"8\": {\"8\": 240}}, \"ORACLE.run1_20\": {\"6\": {\"6\": 240}, \"11\": {\"11\": 240}, \"5\": {\"5\": 233, \"1\": 6, \"15\": 1}, \"14\": {\"14\": 240}, \"2\": {\"2\": 227, \"12\": 11, \"9\": 1, \"7\": 1}, \"7\": {\"7\": 233, \"6\": 1, \"2\": 6}, \"3\": {\"3\": 222, \"9\": 15, \"1\": 3}, \"4\": {\"4\": 239, \"12\": 1}, \"9\": {\"9\": 235, \"1\": 1, \"3\": 3, \"2\": 1}, \"12\": {\"12\": 229, \"2\": 11}, \"0\": {\"0\": 238, \"5\": 2}, \"10\": {\"10\": 240}, \"8\": {\"8\": 240}, \"13\": {\"13\": 240}, \"1\": {\"1\": 235, \"9\": 2, \"15\": 1, \"5\": 1, \"3\": 1}, \"15\": {\"15\": 232, \"1\": 6, \"12\": 2}}, \"ORACLE.run1_38\": {\"3\": {\"3\": 240}, \"8\": {\"8\": 197, \"5\": 40, \"7\": 3}, \"0\": {\"0\": 223, \"8\": 5, \"10\": 4, \"13\": 7, \"7\": 1}, \"2\": {\"2\": 232, \"14\": 8}, \"4\": {\"4\": 240}, \"7\": {\"7\": 236, \"8\": 3, \"5\": 1}, \"12\": {\"12\": 240}, \"6\": {\"6\": 240}, \"15\": {\"15\": 226, \"8\": 4, \"2\": 5, \"5\": 4, \"1\": 1}, \"11\": {\"11\": 240}, \"9\": {\"9\": 238, \"5\": 2}, \"14\": {\"14\": 238, \"2\": 2}, \"10\": {\"10\": 235, \"0\": 3, \"13\": 2}, \"5\": {\"5\": 165, \"8\": 49, \"7\": 9, \"9\": 15, \"15\": 2}, \"1\": {\"1\": 240}, \"13\": {\"13\": 232, \"0\": 3, \"2\": 1, \"10\": 4}}, \"ORACLE.run1_26\": {\"5\": {\"5\": 233, \"15\": 7}, \"8\": {\"7\": 19, \"8\": 216, \"0\": 4, \"9\": 1}, \"4\": {\"4\": 240}, \"12\": {\"12\": 240}, \"6\": {\"6\": 237, \"15\": 2, \"10\": 1}, \"7\": {\"7\": 222, \"2\": 9, \"3\": 6, \"8\": 3}, \"10\": {\"10\": 189, \"15\": 2, \"0\": 31, \"14\": 17, \"6\": 1}, \"0\": {\"0\": 175, \"14\": 18, \"10\": 39, \"8\": 8}, \"15\": {\"15\": 220, \"6\": 14, \"5\": 4, \"10\": 2}, \"9\": {\"9\": 236, \"13\": 2, \"8\": 2}, \"11\": {\"11\": 240}, \"14\": {\"0\": 25, \"14\": 200, \"10\": 13, \"1\": 2}, \"2\": {\"2\": 187, \"9\": 6, \"3\": 29, \"7\": 12, \"8\": 6}, \"13\": {\"13\": 227, \"2\": 10, \"9\": 3}, \"3\": {\"3\": 234, \"2\": 4, \"7\": 2}, \"1\": {\"1\": 226, \"14\": 14}}, \"CORES_4\": {\"38\": {\"49\": 1, \"38\": 34, \"37\": 2, \"2\": 2, \"43\": 1}, \"3\": {\"3\": 123, \"50\": 1}, \"24\": {\"24\": 56}, \"49\": {\"43\": 5, \"7\": 1, \"37\": 4, \"49\": 8, \"35\": 1, \"32\": 1}, \"7\": {\"7\": 11, \"32\": 3, \"2\": 2, \"43\": 4, \"13\": 1, \"33\": 1, \"35\": 2}, \"17\": {\"17\": 80}, \"43\": {\"43\": 144, \"49\": 3, \"32\": 1}, \"30\": {\"30\": 44}, \"44\": {\"44\": 126, \"6\": 1, \"40\": 5}, \"23\": {\"23\": 122, \"19\": 20, \"53\": 1, \"55\": 1}, \"37\": {\"57\": 2, \"37\": 20, \"49\": 2}, \"4\": {\"4\": 131, \"48\": 1}, \"57\": {\"57\": 92, \"29\": 8}, \"16\": {\"16\": 91, \"15\": 2, \"11\": 2, \"43\": 1}, \"18\": {\"18\": 106, \"11\": 1, \"13\": 1}, \"20\": {\"20\": 108, \"9\": 11, \"48\": 4, \"4\": 1}, \"45\": {\"45\": 96}, \"15\": {\"15\": 118, \"11\": 6, \"34\": 1, \"16\": 6, \"10\": 1}, \"52\": {\"52\": 113, \"47\": 3}, \"19\": {\"19\": 135, \"23\": 4, \"16\": 1}, \"54\": {\"54\": 107, \"53\": 1}, \"56\": {\"56\": 130}, \"40\": {\"40\": 133, \"44\": 1}, \"28\": {\"28\": 30, \"34\": 2}, \"2\": {\"2\": 31, \"13\": 4, \"43\": 1}, \"9\": {\"9\": 99, \"8\": 8, \"20\": 9, \"4\": 4}, \"0\": {\"0\": 80}, \"36\": {\"36\": 86, \"54\": 2, \"51\": 3, \"23\": 1}, \"55\": {\"55\": 123, \"54\": 2, \"23\": 3, \"19\": 2}, \"35\": {\"35\": 36, \"23\": 1, \"42\": 1, \"41\": 1, \"43\": 1}, \"39\": {\"39\": 18, \"29\": 2}, \"31\": {\"31\": 28}, \"14\": {\"14\": 13, \"13\": 2, \"2\": 1}, \"12\": {\"12\": 92}, \"6\": {\"6\": 104, \"3\": 7, \"5\": 1}, \"26\": {\"26\": 19, \"51\": 2, \"54\": 2, \"33\": 1}, \"50\": {\"50\": 127, \"3\": 4, \"6\": 1}, \"21\": {\"21\": 122}, \"46\": {\"46\": 137, \"22\": 3}, \"51\": {\"51\": 133, \"36\": 4, \"27\": 3}, \"41\": {\"41\": 34, \"29\": 1, \"1\": 1}, \"34\": {\"34\": 21, \"28\": 3}, \"47\": {\"47\": 111, \"1\": 3, \"57\": 5, \"29\": 1}, \"5\": {\"5\": 108}, \"1\": {\"1\": 39, \"47\": 1}, \"48\": {\"48\": 133, \"20\": 1}, \"29\": {\"29\": 105, \"57\": 13}, \"22\": {\"22\": 125, \"0\": 2, \"46\": 1}, \"10\": {\"10\": 130, \"15\": 2}, \"32\": {\"32\": 14, \"43\": 5, \"33\": 1, \"37\": 1, \"35\": 1, \"13\": 1, \"2\": 1}, \"13\": {\"13\": 110, \"2\": 2}, \"42\": {\"42\": 32}, \"27\": {\"27\": 138}, \"8\": {\"8\": 105, \"9\": 19, \"20\": 3, \"27\": 3, \"4\": 12}, \"33\": {\"33\": 36}, \"25\": {\"25\": 131, \"18\": 1}, \"11\": {\"11\": 87, \"10\": 3, \"16\": 3, \"15\": 11}, \"53\": {\"53\": 108, \"23\": 4}}, \"CORES_2\": {\"32\": {\"32\": 28}, \"17\": {\"17\": 101, \"54\": 3}, \"38\": {\"38\": 20}, \"2\": {\"2\": 32}, \"43\": {\"43\": 142, \"37\": 1, \"24\": 1}, \"56\": {\"56\": 143, \"22\": 1}, \"37\": {\"37\": 34, \"39\": 1, \"31\": 1}, \"49\": {\"49\": 22, \"39\": 1, \"19\": 1}, \"0\": {\"0\": 48}, \"29\": {\"29\": 122, \"57\": 5, \"47\": 1}, \"35\": {\"35\": 32}, \"18\": {\"18\": 48}, \"25\": {\"25\": 136}, \"23\": {\"23\": 120, \"19\": 3, \"55\": 1}, \"15\": {\"15\": 135, \"11\": 7, \"16\": 4}, \"21\": {\"21\": 119, \"46\": 1}, \"51\": {\"51\": 120, \"36\": 8}, \"20\": {\"20\": 122, \"4\": 12, \"8\": 4}, \"7\": {\"7\": 29, \"55\": 3, \"23\": 3, \"19\": 1}, \"50\": {\"50\": 135, \"3\": 1}, \"31\": {\"31\": 27, \"37\": 1}, \"30\": {\"30\": 139, \"52\": 1}, \"19\": {\"19\": 153, \"16\": 1, \"23\": 1, \"53\": 1}, \"9\": {\"8\": 5, \"9\": 135, \"20\": 2, \"4\": 2}, \"52\": {\"52\": 117, \"30\": 3, \"48\": 1, \"0\": 1, \"47\": 2}, \"45\": {\"45\": 128}, \"8\": {\"8\": 126, \"27\": 7, \"4\": 12, \"9\": 6, \"20\": 3}, \"55\": {\"7\": 5, \"55\": 147, \"38\": 1, \"13\": 3, \"23\": 2, \"42\": 1, \"39\": 1}, \"12\": {\"12\": 92}, \"40\": {\"40\": 134, \"44\": 1, \"30\": 1, \"50\": 1, \"8\": 1, \"4\": 2}, \"28\": {\"28\": 28}, \"36\": {\"36\": 115, \"17\": 1}, \"39\": {\"39\": 24, \"2\": 1, \"33\": 2, \"57\": 1}, \"46\": {\"46\": 122}, \"14\": {\"14\": 13, \"2\": 5, \"52\": 1, \"33\": 1, \"13\": 2, \"55\": 1, \"57\": 1}, \"57\": {\"29\": 9, \"57\": 132, \"2\": 1}, \"34\": {\"19\": 5, \"15\": 2, \"34\": 17, \"23\": 3, \"16\": 1}, \"1\": {\"1\": 112}, \"53\": {\"53\": 135, \"54\": 1}, \"48\": {\"48\": 130}, \"3\": {\"3\": 86, \"50\": 4, \"6\": 2}, \"16\": {\"16\": 139, \"11\": 6, \"15\": 7}, \"6\": {\"6\": 124}, \"10\": {\"10\": 112}, \"13\": {\"14\": 3, \"13\": 113}, \"26\": {\"26\": 24}, \"24\": {\"24\": 96}, \"44\": {\"44\": 100}, \"27\": {\"27\": 149, \"8\": 1}, \"22\": {\"22\": 128}, \"33\": {\"35\": 2, \"33\": 24, \"2\": 1, \"29\": 1}, \"47\": {\"47\": 115, \"57\": 3}, \"5\": {\"5\": 118, \"46\": 2}, \"4\": {\"4\": 135, \"20\": 1, \"9\": 1, \"8\": 1}, \"41\": {\"41\": 20}, \"11\": {\"11\": 126, \"15\": 14, \"16\": 8, \"10\": 1, \"28\": 1}, \"54\": {\"54\": 108}, \"42\": {\"42\": 34, \"55\": 2}}, \"CORES_3\": {\"5\": {\"5\": 115, \"3\": 1}, \"32\": {\"32\": 28}, \"33\": {\"33\": 25, \"9\": 1, \"1\": 1, \"48\": 1}, \"49\": {\"49\": 12, \"43\": 1, \"7\": 1, \"55\": 2, \"14\": 2, \"24\": 2}, \"39\": {\"39\": 16}, \"11\": {\"11\": 113, \"15\": 25, \"16\": 4}, \"8\": {\"8\": 103, \"27\": 5, \"4\": 7, \"20\": 1}, \"26\": {\"26\": 24}, \"51\": {\"51\": 112, \"2\": 4, \"36\": 6}, \"4\": {\"4\": 143, \"20\": 2, \"8\": 1}, \"52\": {\"52\": 112, \"9\": 3, \"20\": 3}, \"47\": {\"47\": 86, \"0\": 3, \"29\": 1, \"1\": 2}, \"17\": {\"17\": 104, \"51\": 2, \"24\": 1, \"54\": 1}, \"53\": {\"53\": 134, \"19\": 2}, \"2\": {\"2\": 32}, \"12\": {\"12\": 88, \"45\": 4}, \"37\": {\"37\": 28}, \"9\": {\"9\": 142, \"41\": 1, \"48\": 1, \"20\": 2, \"52\": 2}, \"13\": {\"13\": 122, \"14\": 4, \"56\": 2}, \"54\": {\"54\": 99, \"53\": 1}, \"31\": {\"31\": 28}, \"34\": {\"34\": 26, \"43\": 2, \"42\": 1, \"26\": 1, \"23\": 2}, \"24\": {\"24\": 104}, \"7\": {\"7\": 25, \"34\": 1, \"56\": 1, \"55\": 2, \"13\": 1, \"42\": 1, \"14\": 4, \"29\": 1}, \"50\": {\"50\": 101, \"44\": 6, \"3\": 9, \"46\": 1, \"21\": 1}, \"46\": {\"46\": 124, \"5\": 2, \"50\": 1, \"21\": 1}, \"44\": {\"44\": 81, \"50\": 5, \"46\": 1, \"3\": 1}, \"40\": {\"40\": 116}, \"21\": {\"21\": 124, \"46\": 2, \"50\": 1, \"3\": 1}, \"45\": {\"45\": 58, \"12\": 2}, \"16\": {\"16\": 113, \"15\": 5, \"11\": 8}, \"14\": {\"14\": 27, \"13\": 5, \"35\": 2, \"7\": 4, \"56\": 1, \"39\": 1}, \"36\": {\"36\": 99, \"17\": 1}, \"56\": {\"56\": 114}, \"10\": {\"10\": 64}, \"18\": {\"18\": 84}, \"48\": {\"48\": 115, \"9\": 1}, \"38\": {\"38\": 28}, \"27\": {\"27\": 128, \"9\": 2}, \"42\": {\"42\": 19, \"26\": 1, \"23\": 2, \"19\": 2, \"55\": 2, \"13\": 1, \"34\": 1}, \"15\": {\"15\": 107, \"11\": 22, \"16\": 4, \"18\": 1}, \"1\": {\"1\": 100}, \"28\": {\"28\": 28}, \"43\": {\"43\": 136}, \"0\": {\"0\": 124}, \"57\": {\"57\": 118, \"29\": 6}, \"3\": {\"3\": 141, \"50\": 4, \"6\": 1, \"44\": 2}, \"29\": {\"29\": 116, \"57\": 8}, \"41\": {\"41\": 24, \"48\": 1, \"1\": 2, \"9\": 1}, \"25\": {\"25\": 146}, \"6\": {\"6\": 88}, \"35\": {\"35\": 28}, \"20\": {\"4\": 11, \"20\": 101, \"52\": 8, \"30\": 3, \"9\": 1, \"48\": 1, \"40\": 1}, \"23\": {\"23\": 134}, \"22\": {\"22\": 140}, \"19\": {\"19\": 113, \"25\": 1, \"23\": 2}, \"55\": {\"55\": 113, \"42\": 3, \"34\": 3, \"13\": 2, \"23\": 1, \"43\": 1, \"26\": 1}, \"30\": {\"30\": 119, \"40\": 1}}, \"CORES_1\": {\"24\": {\"24\": 99, \"23\": 9}, \"25\": {\"25\": 139, \"18\": 1}, \"45\": {\"45\": 142, \"3\": 1, \"56\": 1}, \"42\": {\"19\": 2, \"42\": 33, \"37\": 1, \"32\": 2, \"55\": 1, \"35\": 1}, \"2\": {\"2\": 34, \"48\": 2}, \"9\": {\"9\": 149, \"51\": 1}, \"21\": {\"21\": 120, \"22\": 4}, \"26\": {\"26\": 23, \"34\": 1}, \"49\": {\"49\": 32}, \"39\": {\"39\": 23, \"43\": 2, \"38\": 1, \"37\": 1, \"47\": 1}, \"46\": {\"46\": 127, \"6\": 9}, \"17\": {\"17\": 64}, \"19\": {\"19\": 150, \"53\": 1, \"25\": 3, \"42\": 1, \"54\": 1}, \"23\": {\"24\": 10, \"23\": 120, \"35\": 1, \"15\": 1}, \"1\": {\"1\": 97, \"29\": 3}, \"29\": {\"29\": 139, \"1\": 1}, \"56\": {\"56\": 141, \"44\": 4, \"45\": 4, \"3\": 1}, \"37\": {\"37\": 31, \"1\": 1}, \"33\": {\"33\": 32}, \"55\": {\"55\": 141, \"32\": 1}, \"30\": {\"30\": 116, \"13\": 4}, \"0\": {\"0\": 152}, \"36\": {\"36\": 62, \"27\": 1, \"47\": 1}, \"32\": {\"32\": 30, \"47\": 1, \"55\": 1}, \"31\": {\"31\": 28}, \"15\": {\"15\": 137, \"28\": 1}, \"12\": {\"12\": 106, \"20\": 10}, \"38\": {\"33\": 2, \"38\": 16, \"55\": 1, \"32\": 1, \"49\": 1, \"47\": 1, \"39\": 1, \"27\": 1}, \"40\": {\"40\": 146}, \"14\": {\"14\": 20, \"57\": 1, \"30\": 2, \"8\": 1}, \"13\": {\"13\": 147, \"57\": 1, \"30\": 1, \"12\": 1}, \"48\": {\"48\": 145, \"2\": 3}, \"34\": {\"34\": 21, \"33\": 2, \"32\": 1}, \"44\": {\"44\": 130}, \"5\": {\"5\": 152}, \"11\": {\"11\": 129, \"10\": 11}, \"7\": {\"7\": 28}, \"18\": {\"18\": 72}, \"52\": {\"52\": 118, \"47\": 7, \"29\": 1, \"21\": 6}, \"51\": {\"51\": 142}, \"41\": {\"41\": 20, \"14\": 1, \"9\": 2, \"30\": 1}, \"16\": {\"16\": 138, \"15\": 2}, \"22\": {\"22\": 131, \"21\": 2, \"0\": 1}, \"3\": {\"3\": 132, \"44\": 5, \"56\": 3}, \"54\": {\"54\": 104}, \"27\": {\"27\": 144}, \"20\": {\"20\": 138, \"13\": 1, \"12\": 1}, \"8\": {\"8\": 138}, \"50\": {\"50\": 144}, \"57\": {\"57\": 139, \"13\": 1}, \"4\": {\"4\": 132}, \"47\": {\"47\": 145, \"52\": 1}, \"10\": {\"11\": 9, \"10\": 85, \"15\": 2}, \"35\": {\"35\": 36}, \"53\": {\"53\": 126}, \"6\": {\"6\": 87, \"46\": 9}, \"43\": {\"43\": 138, \"39\": 1, \"49\": 1}, \"28\": {\"28\": 25, \"15\": 3}}, \"CORES_5\": {\"35\": {\"35\": 31, \"13\": 4, \"31\": 1}, \"57\": {\"57\": 132}, \"20\": {\"20\": 112, \"1\": 23, \"9\": 3, \"21\": 5, \"48\": 1}, \"12\": {\"12\": 96}, \"32\": {\"32\": 31, \"8\": 1}, \"25\": {\"25\": 138}, \"44\": {\"44\": 140, \"3\": 8}, \"31\": {\"31\": 36}, \"11\": {\"11\": 132, \"15\": 17, \"16\": 1}, \"47\": {\"47\": 97, \"57\": 3}, \"23\": {\"23\": 110, \"19\": 9, \"34\": 2, \"54\": 1, \"43\": 2}, \"43\": {\"43\": 141, \"37\": 2, \"2\": 1}, \"37\": {\"37\": 23, \"41\": 1}, \"5\": {\"5\": 127, \"40\": 1}, \"45\": {\"45\": 114, \"6\": 10}, \"7\": {\"7\": 32}, \"13\": {\"13\": 133, \"29\": 2, \"56\": 1}, \"49\": {\"49\": 36}, \"46\": {\"46\": 146, \"3\": 1, \"40\": 1}, \"16\": {\"16\": 123, \"11\": 6, \"15\": 7}, \"54\": {\"54\": 110, \"19\": 2}, \"19\": {\"19\": 148, \"23\": 4}, \"55\": {\"55\": 149, \"53\": 1}, \"30\": {\"30\": 124, \"9\": 4}, \"34\": {\"34\": 33, \"49\": 1, \"23\": 1, \"13\": 1}, \"50\": {\"50\": 134}, \"3\": {\"44\": 11, \"3\": 88, \"46\": 1}, \"10\": {\"10\": 67, \"24\": 1}, \"27\": {\"27\": 131, \"8\": 11}, \"33\": {\"33\": 31, \"39\": 1}, \"56\": {\"56\": 140, \"13\": 1, \"0\": 1}, \"9\": {\"9\": 149, \"30\": 1}, \"14\": {\"14\": 30, \"29\": 9, \"37\": 2, \"36\": 1, \"47\": 2}, \"4\": {\"4\": 99, \"30\": 1}, \"42\": {\"42\": 39, \"33\": 1}, \"24\": {\"24\": 79, \"31\": 1}, \"39\": {\"47\": 1, \"39\": 18, \"36\": 1}, \"52\": {\"52\": 125, \"46\": 1, \"57\": 1, \"47\": 3}, \"2\": {\"2\": 26, \"49\": 1, \"43\": 1}, \"28\": {\"28\": 32}, \"53\": {\"53\": 115, \"19\": 4, \"54\": 1, \"23\": 2}, \"17\": {\"17\": 115, \"51\": 1}, \"29\": {\"29\": 132}, \"38\": {\"38\": 30, \"7\": 2}, \"15\": {\"15\": 131, \"16\": 3, \"11\": 7, \"10\": 3}, \"26\": {\"26\": 20, \"38\": 1, \"17\": 2, \"51\": 1}, \"21\": {\"21\": 144}, \"41\": {\"41\": 24, \"39\": 1, \"47\": 1, \"29\": 1, \"27\": 1}, \"48\": {\"48\": 136}, \"22\": {\"22\": 26, \"0\": 2}, \"8\": {\"8\": 125, \"27\": 21, \"20\": 2}, \"18\": {\"18\": 64}, \"0\": {\"0\": 122}, \"1\": {\"1\": 129, \"20\": 9}, \"40\": {\"40\": 122, \"3\": 1, \"46\": 1}, \"6\": {\"6\": 118, \"45\": 10}, \"51\": {\"51\": 136, \"8\": 2, \"27\": 3, \"17\": 1}, \"36\": {\"36\": 91, \"37\": 1}}}, \"per_domain_accuracy\": {\"ORACLE.run1_50\": {\"accuracy\": 0.9760416666666667, \"source?\": true}, \"ORACLE.run1_14\": {\"accuracy\": 0.9236979166666667, \"source?\": true}, \"ORACLE.run1_32\": {\"accuracy\": 0.946875, \"source?\": true}, \"ORACLE.run1_44\": {\"accuracy\": 0.90390625, \"source?\": true}, \"ORACLE.run1_8\": {\"accuracy\": 0.94453125, \"source?\": true}, \"ORACLE.run1_20\": {\"accuracy\": 0.9799479166666667, \"source?\": true}, \"ORACLE.run1_38\": {\"accuracy\": 0.9536458333333333, \"source?\": true}, \"ORACLE.run1_26\": {\"accuracy\": 0.9171875, \"source?\": true}, \"CORES_4\": {\"accuracy\": 0.9418560606060606, \"source?\": false}, \"CORES_2\": {\"accuracy\": 0.9594452247191011, \"source?\": false}, \"CORES_3\": {\"accuracy\": 0.9471726190476191, \"source?\": false}, \"CORES_1\": {\"accuracy\": 0.96875, \"source?\": false}, \"CORES_5\": {\"accuracy\": 0.9535614525139665, \"source?\": false}}}, \"history\": {\"epoch_indices\": [1, 2, 3, 4, 5, 6, 7, 8, 9, 10, 11, 12], \"train_label_loss\": [0.40326905060071677, 4.291855214799201, 0.24076516097009604, 0.24794131582346468, 0.1894055411486382, 0.17420039526020575, 0.16089300394250175, 0.14929829618285156, 0.13771394295205633, 0.12884482647541085, 0.40323071763467894, 0.11440250263977284], \"source_val_label_loss\": [118.04157257080078, 0.3133710026741028, 0.23856154084205627, 0.2434995472431183, 0.21331436932086945, 0.1968601495027542, 0.17047123610973358, 0.17002780735492706, 0.14879664778709412, 0.15880858898162842, 0.15137922763824463, 0.1369587928056717], \"target_val_label_loss\": [485.229736328125, 19.295146942138672, 21.5714111328125, 3.607466697692871, 3.974013566970825, 3.855344533920288, 9.205819129943848, 2.923856019973755, 19.18529510498047, 65.7497787475586, 5.440456867218018, 36.028621673583984], \"source_val_acc_label\": [0.6193033854166666, 0.9007161458333334, 0.92763671875, 0.91689453125, 0.92802734375, 0.9307291666666667, 0.94248046875, 0.9432291666666667, 0.9486328125, 0.94580078125, 0.9509114583333333, 0.95302734375], \"target_val_acc_label\": [0.9156071428571428, 0.8935357142857143, 0.8903571428571428, 0.9183571428571429, 0.929, 0.9284285714285714, 0.9116785714285714, 0.9545357142857143, 0.9270357142857143, 0.90075, 0.9465357142857143, 0.9223571428571429]}, \"dataset_metrics\": {\"source\": {\"train\": {\"n_unique_x\": 179200, \"n_unique_y\": 16, \"n_batch/episode\": 6720}, \"val\": {\"n_unique_x\": 38400, \"n_unique_y\": 16, \"n_batch/episode\": 960}, \"test\": {\"n_unique_x\": 38400, \"n_unique_y\": 16, \"n_batch/episode\": 960}}, \"target\": {\"train\": {\"n_unique_x\": 175197, \"n_unique_y\": 58, \"n_batch/episode\": 6309}, \"val\": {\"n_unique_x\": 37166, \"n_unique_y\": 58, \"n_batch/episode\": 875}, \"test\": {\"n_unique_x\": 37642, \"n_unique_y\": 58, \"n_batch/episode\": 890}}}}'"
      ]
     },
     "execution_count": 29,
     "metadata": {},
     "output_type": "execute_result"
    }
   ],
   "source": [
    "json.dumps(experiment)"
   ]
  }
 ],
 "metadata": {
  "celltoolbar": "Tags",
  "kernelspec": {
   "display_name": "Python 3 (ipykernel)",
   "language": "python",
   "name": "python3"
  },
  "language_info": {
   "codemirror_mode": {
    "name": "ipython",
    "version": 3
   },
   "file_extension": ".py",
   "mimetype": "text/x-python",
   "name": "python",
   "nbconvert_exporter": "python",
   "pygments_lexer": "ipython3",
   "version": "3.8.12"
  },
  "papermill": {
   "default_parameters": {},
   "duration": 3256.201704,
   "end_time": "2022-03-21T20:39:40.440571",
   "environment_variables": {},
   "exception": null,
   "input_path": "/root/csc500-main/csc500-notebooks/templates/tl_ptn_template.ipynb",
   "output_path": "trial.ipynb",
   "parameters": {
    "parameters": {
     "BEST_MODEL_PATH": "./best_model.pth",
     "NUM_LOGS_PER_EPOCH": 10,
     "criteria_for_best": "target_accuracy",
     "dataset_seed": 500,
     "datasets": [
      {
       "domain_prefix": "CORES_",
       "domains": [
        1,
        2,
        3,
        4,
        5
       ],
       "episode_transforms": [],
       "labels": [
        "1-10.",
        "1-11.",
        "1-15.",
        "1-16.",
        "1-17.",
        "1-18.",
        "1-19.",
        "10-4.",
        "10-7.",
        "11-1.",
        "11-14.",
        "11-17.",
        "11-20.",
        "11-7.",
        "13-20.",
        "13-8.",
        "14-10.",
        "14-11.",
        "14-14.",
        "14-7.",
        "15-1.",
        "15-20.",
        "16-1.",
        "16-16.",
        "17-10.",
        "17-11.",
        "17-2.",
        "19-1.",
        "19-16.",
        "19-19.",
        "19-20.",
        "19-3.",
        "2-10.",
        "2-11.",
        "2-17.",
        "2-18.",
        "2-20.",
        "2-3.",
        "2-4.",
        "2-5.",
        "2-6.",
        "2-7.",
        "2-8.",
        "3-13.",
        "3-18.",
        "3-3.",
        "4-1.",
        "4-10.",
        "4-11.",
        "4-19.",
        "5-5.",
        "6-15.",
        "7-10.",
        "7-14.",
        "8-18.",
        "8-20.",
        "8-3.",
        "8-8."
       ],
       "num_examples_per_domain_per_label": -1,
       "pickle_path": "/root/csc500-main/datasets/cores.stratified_ds.2022A.pkl",
       "source_or_target_dataset": "target",
       "x_transforms": []
      },
      {
       "domain_prefix": "ORACLE.run1_",
       "domains": [
        32,
        38,
        8,
        44,
        14,
        50,
        20,
        26
       ],
       "episode_transforms": [],
       "labels": [
        "3123D52",
        "3123D65",
        "3123D79",
        "3123D80",
        "3123D54",
        "3123D70",
        "3123D7B",
        "3123D89",
        "3123D58",
        "3123D76",
        "3123D7D",
        "3123EFE",
        "3123D64",
        "3123D78",
        "3123D7E",
        "3124E4A"
       ],
       "num_examples_per_domain_per_label": 2000,
       "pickle_path": "/root/csc500-main/datasets/oracle.Run1_framed_2000Examples_stratified_ds.2022A.pkl",
       "source_or_target_dataset": "source",
       "x_transforms": []
      }
     ],
     "device": "cuda",
     "experiment_name": "tl_1v2:cores-oracle.run1.framed",
     "lr": 0.0001,
     "n_epoch": 50,
     "n_query": 2,
     "n_shot": 3,
     "n_way": 16,
     "patience": 3,
     "seed": 500,
     "test_k_factor": 2,
     "torch_default_dtype": "torch.float32",
     "train_k_factor": 3,
     "val_k_factor": 2,
     "x_net": [
      {
       "class": "nnReshape",
       "kargs": {
        "shape": [
         -1,
         1,
         2,
         256
        ]
       }
      },
      {
       "class": "Conv2d",
       "kargs": {
        "bias": false,
        "in_channels": 1,
        "kernel_size": [
         1,
         7
        ],
        "out_channels": 256,
        "padding": [
         0,
         3
        ]
       }
      },
      {
       "class": "ReLU",
       "kargs": {
        "inplace": true
       }
      },
      {
       "class": "BatchNorm2d",
       "kargs": {
        "num_features": 256
       }
      },
      {
       "class": "Conv2d",
       "kargs": {
        "bias": true,
        "in_channels": 256,
        "kernel_size": [
         2,
         7
        ],
        "out_channels": 80,
        "padding": [
         0,
         3
        ]
       }
      },
      {
       "class": "ReLU",
       "kargs": {
        "inplace": true
       }
      },
      {
       "class": "BatchNorm2d",
       "kargs": {
        "num_features": 80
       }
      },
      {
       "class": "Flatten",
       "kargs": {}
      },
      {
       "class": "Linear",
       "kargs": {
        "in_features": 20480,
        "out_features": 256
       }
      },
      {
       "class": "ReLU",
       "kargs": {
        "inplace": true
       }
      },
      {
       "class": "BatchNorm1d",
       "kargs": {
        "num_features": 256
       }
      },
      {
       "class": "Linear",
       "kargs": {
        "in_features": 256,
        "out_features": 256
       }
      }
     ]
    }
   },
   "start_time": "2022-03-21T19:45:24.238867",
   "version": "2.3.4"
  }
 },
 "nbformat": 4,
 "nbformat_minor": 5
}