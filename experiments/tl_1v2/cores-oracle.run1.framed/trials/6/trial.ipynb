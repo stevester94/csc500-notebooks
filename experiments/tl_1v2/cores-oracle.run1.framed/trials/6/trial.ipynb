{
 "cells": [
  {
   "cell_type": "markdown",
   "id": "9fea5f46",
   "metadata": {
    "papermill": {
     "duration": 0.030777,
     "end_time": "2022-03-21T05:44:56.569401",
     "exception": false,
     "start_time": "2022-03-21T05:44:56.538624",
     "status": "completed"
    },
    "tags": []
   },
   "source": [
    "# Transfer Learning Template"
   ]
  },
  {
   "cell_type": "code",
   "execution_count": 1,
   "id": "0902182a",
   "metadata": {
    "execution": {
     "iopub.execute_input": "2022-03-21T05:44:56.636010Z",
     "iopub.status.busy": "2022-03-21T05:44:56.628942Z",
     "iopub.status.idle": "2022-03-21T05:44:58.529814Z",
     "shell.execute_reply": "2022-03-21T05:44:58.528981Z"
    },
    "papermill": {
     "duration": 1.935414,
     "end_time": "2022-03-21T05:44:58.530015",
     "exception": false,
     "start_time": "2022-03-21T05:44:56.594601",
     "status": "completed"
    },
    "tags": []
   },
   "outputs": [],
   "source": [
    "%load_ext autoreload\n",
    "%autoreload 2\n",
    "%matplotlib inline\n",
    "\n",
    "    \n",
    "import os, json, sys, time, random\n",
    "import numpy as np\n",
    "import torch\n",
    "from torch.optim import Adam\n",
    "from  easydict import EasyDict\n",
    "import matplotlib.pyplot as plt\n",
    "\n",
    "from steves_models.steves_ptn import Steves_Prototypical_Network\n",
    "\n",
    "from steves_utils.lazy_iterable_wrapper import Lazy_Iterable_Wrapper\n",
    "from steves_utils.iterable_aggregator import Iterable_Aggregator\n",
    "from steves_utils.ptn_train_eval_test_jig import  PTN_Train_Eval_Test_Jig\n",
    "from steves_utils.torch_sequential_builder import build_sequential\n",
    "from steves_utils.torch_utils import get_dataset_metrics, ptn_confusion_by_domain_over_dataloader\n",
    "from steves_utils.utils_v2 import (per_domain_accuracy_from_confusion, get_datasets_base_path)\n",
    "from steves_utils.PTN.utils import independent_accuracy_assesment\n",
    "\n",
    "from torch.utils.data import DataLoader\n",
    "\n",
    "from steves_utils.stratified_dataset.episodic_accessor import Episodic_Accessor_Factory\n",
    "\n",
    "from steves_utils.ptn_do_report import (\n",
    "    get_loss_curve,\n",
    "    get_results_table,\n",
    "    get_parameters_table,\n",
    "    get_domain_accuracies,\n",
    ")\n",
    "\n",
    "from steves_utils.transforms import get_chained_transform"
   ]
  },
  {
   "cell_type": "markdown",
   "id": "41c840b4",
   "metadata": {
    "papermill": {
     "duration": 0.019366,
     "end_time": "2022-03-21T05:44:58.573096",
     "exception": false,
     "start_time": "2022-03-21T05:44:58.553730",
     "status": "completed"
    },
    "tags": []
   },
   "source": [
    "# Allowed Parameters\n",
    "These are allowed parameters, not defaults\n",
    "Each of these values need to be present in the injected parameters (the notebook will raise an exception if they are not present)\n",
    "\n",
    "Papermill uses the cell tag \"parameters\" to inject the real parameters below this cell.\n",
    "Enable tags to see what I mean"
   ]
  },
  {
   "cell_type": "code",
   "execution_count": 2,
   "id": "fd44eb83",
   "metadata": {
    "execution": {
     "iopub.execute_input": "2022-03-21T05:44:58.616938Z",
     "iopub.status.busy": "2022-03-21T05:44:58.616553Z",
     "iopub.status.idle": "2022-03-21T05:44:58.641981Z",
     "shell.execute_reply": "2022-03-21T05:44:58.641157Z"
    },
    "papermill": {
     "duration": 0.049527,
     "end_time": "2022-03-21T05:44:58.642139",
     "exception": false,
     "start_time": "2022-03-21T05:44:58.592612",
     "status": "completed"
    },
    "tags": []
   },
   "outputs": [],
   "source": [
    "required_parameters = {\n",
    "    \"experiment_name\",\n",
    "    \"lr\",\n",
    "    \"device\",\n",
    "    \"seed\",\n",
    "    \"dataset_seed\",\n",
    "    \"n_shot\",\n",
    "    \"n_query\",\n",
    "    \"n_way\",\n",
    "    \"train_k_factor\",\n",
    "    \"val_k_factor\",\n",
    "    \"test_k_factor\",\n",
    "    \"n_epoch\",\n",
    "    \"patience\",\n",
    "    \"criteria_for_best\",\n",
    "    \"x_net\",\n",
    "    \"datasets\",\n",
    "    \"torch_default_dtype\",\n",
    "    \"NUM_LOGS_PER_EPOCH\",\n",
    "    \"BEST_MODEL_PATH\",\n",
    "    \"x_shape\",\n",
    "}"
   ]
  },
  {
   "cell_type": "code",
   "execution_count": 3,
   "id": "fa3f0049",
   "metadata": {
    "execution": {
     "iopub.execute_input": "2022-03-21T05:44:58.701478Z",
     "iopub.status.busy": "2022-03-21T05:44:58.700568Z",
     "iopub.status.idle": "2022-03-21T05:44:58.723033Z",
     "shell.execute_reply": "2022-03-21T05:44:58.723705Z"
    },
    "papermill": {
     "duration": 0.056863,
     "end_time": "2022-03-21T05:44:58.723923",
     "exception": false,
     "start_time": "2022-03-21T05:44:58.667060",
     "status": "completed"
    },
    "tags": [
     "parameters"
    ]
   },
   "outputs": [],
   "source": [
    "from steves_utils.CORES.utils import (\n",
    "    ALL_NODES,\n",
    "    ALL_NODES_MINIMUM_1000_EXAMPLES,\n",
    "    ALL_DAYS\n",
    ")\n",
    "\n",
    "from steves_utils.ORACLE.utils_v2 import (\n",
    "    ALL_DISTANCES_FEET_NARROWED,\n",
    "    ALL_RUNS,\n",
    "    ALL_SERIAL_NUMBERS,\n",
    ")\n",
    "\n",
    "standalone_parameters = {}\n",
    "standalone_parameters[\"experiment_name\"] = \"STANDALONE PTN\"\n",
    "standalone_parameters[\"lr\"] = 0.001\n",
    "standalone_parameters[\"device\"] = \"cuda\"\n",
    "\n",
    "standalone_parameters[\"seed\"] = 1337\n",
    "standalone_parameters[\"dataset_seed\"] = 1337\n",
    "\n",
    "standalone_parameters[\"n_way\"] = 8\n",
    "standalone_parameters[\"n_shot\"] = 3\n",
    "standalone_parameters[\"n_query\"]  = 2\n",
    "standalone_parameters[\"train_k_factor\"] = 1\n",
    "standalone_parameters[\"val_k_factor\"] = 2\n",
    "standalone_parameters[\"test_k_factor\"] = 2\n",
    "\n",
    "\n",
    "standalone_parameters[\"n_epoch\"] = 50\n",
    "\n",
    "standalone_parameters[\"patience\"] = 10\n",
    "standalone_parameters[\"criteria_for_best\"] = \"source_loss\"\n",
    "\n",
    "standalone_parameters[\"datasets\"] = [\n",
    "    {\n",
    "        \"labels\": ALL_SERIAL_NUMBERS,\n",
    "        \"domains\": ALL_DISTANCES_FEET_NARROWED,\n",
    "        \"num_examples_per_domain_per_label\": 100,\n",
    "        \"pickle_path\": os.path.join(get_datasets_base_path(), \"oracle.Run1_framed_2000Examples_stratified_ds.2022A.pkl\"),\n",
    "        \"source_or_target_dataset\": \"source\",\n",
    "        \"x_transforms\": [\"unit_mag\", \"minus_two\"],\n",
    "        \"episode_transforms\": [],\n",
    "        \"domain_prefix\": \"ORACLE_\"\n",
    "    },\n",
    "    {\n",
    "        \"labels\": ALL_NODES,\n",
    "        \"domains\": ALL_DAYS,\n",
    "        \"num_examples_per_domain_per_label\": 100,\n",
    "        \"pickle_path\": os.path.join(get_datasets_base_path(), \"cores.stratified_ds.2022A.pkl\"),\n",
    "        \"source_or_target_dataset\": \"target\",\n",
    "        \"x_transforms\": [\"unit_power\", \"times_zero\"],\n",
    "        \"episode_transforms\": [],\n",
    "        \"domain_prefix\": \"CORES_\"\n",
    "    }   \n",
    "]\n",
    "\n",
    "standalone_parameters[\"torch_default_dtype\"] = \"torch.float32\" \n",
    "\n",
    "\n",
    "\n",
    "standalone_parameters[\"x_net\"] =     [\n",
    "    {\"class\": \"nnReshape\", \"kargs\": {\"shape\":[-1, 1, 2, 256]}},\n",
    "    {\"class\": \"Conv2d\", \"kargs\": { \"in_channels\":1, \"out_channels\":256, \"kernel_size\":(1,7), \"bias\":False, \"padding\":(0,3), },},\n",
    "    {\"class\": \"ReLU\", \"kargs\": {\"inplace\": True}},\n",
    "    {\"class\": \"BatchNorm2d\", \"kargs\": {\"num_features\":256}},\n",
    "\n",
    "    {\"class\": \"Conv2d\", \"kargs\": { \"in_channels\":256, \"out_channels\":80, \"kernel_size\":(2,7), \"bias\":True, \"padding\":(0,3), },},\n",
    "    {\"class\": \"ReLU\", \"kargs\": {\"inplace\": True}},\n",
    "    {\"class\": \"BatchNorm2d\", \"kargs\": {\"num_features\":80}},\n",
    "    {\"class\": \"Flatten\", \"kargs\": {}},\n",
    "\n",
    "    {\"class\": \"Linear\", \"kargs\": {\"in_features\": 80*256, \"out_features\": 256}}, # 80 units per IQ pair\n",
    "    {\"class\": \"ReLU\", \"kargs\": {\"inplace\": True}},\n",
    "    {\"class\": \"BatchNorm1d\", \"kargs\": {\"num_features\":256}},\n",
    "\n",
    "    {\"class\": \"Linear\", \"kargs\": {\"in_features\": 256, \"out_features\": 256}},\n",
    "]\n",
    "\n",
    "# Parameters relevant to results\n",
    "# These parameters will basically never need to change\n",
    "standalone_parameters[\"NUM_LOGS_PER_EPOCH\"] = 10\n",
    "standalone_parameters[\"BEST_MODEL_PATH\"] = \"./best_model.pth\"\n",
    "\n",
    "\n",
    "\n",
    "\n"
   ]
  },
  {
   "cell_type": "code",
   "execution_count": 4,
   "id": "b450644d",
   "metadata": {
    "execution": {
     "iopub.execute_input": "2022-03-21T05:44:58.783310Z",
     "iopub.status.busy": "2022-03-21T05:44:58.782461Z",
     "iopub.status.idle": "2022-03-21T05:44:58.805141Z",
     "shell.execute_reply": "2022-03-21T05:44:58.804336Z"
    },
    "papermill": {
     "duration": 0.05794,
     "end_time": "2022-03-21T05:44:58.805300",
     "exception": false,
     "start_time": "2022-03-21T05:44:58.747360",
     "status": "completed"
    },
    "tags": [
     "injected-parameters"
    ]
   },
   "outputs": [],
   "source": [
    "# Parameters\n",
    "parameters = {\n",
    "    \"experiment_name\": \"tl_1v2:cores-oracle.run1.framed\",\n",
    "    \"device\": \"cuda\",\n",
    "    \"lr\": 0.0001,\n",
    "    \"n_shot\": 3,\n",
    "    \"n_query\": 2,\n",
    "    \"train_k_factor\": 3,\n",
    "    \"val_k_factor\": 2,\n",
    "    \"test_k_factor\": 2,\n",
    "    \"torch_default_dtype\": \"torch.float32\",\n",
    "    \"n_epoch\": 50,\n",
    "    \"patience\": 3,\n",
    "    \"criteria_for_best\": \"target_accuracy\",\n",
    "    \"x_net\": [\n",
    "        {\"class\": \"nnReshape\", \"kargs\": {\"shape\": [-1, 1, 2, 256]}},\n",
    "        {\n",
    "            \"class\": \"Conv2d\",\n",
    "            \"kargs\": {\n",
    "                \"in_channels\": 1,\n",
    "                \"out_channels\": 256,\n",
    "                \"kernel_size\": [1, 7],\n",
    "                \"bias\": False,\n",
    "                \"padding\": [0, 3],\n",
    "            },\n",
    "        },\n",
    "        {\"class\": \"ReLU\", \"kargs\": {\"inplace\": True}},\n",
    "        {\"class\": \"BatchNorm2d\", \"kargs\": {\"num_features\": 256}},\n",
    "        {\n",
    "            \"class\": \"Conv2d\",\n",
    "            \"kargs\": {\n",
    "                \"in_channels\": 256,\n",
    "                \"out_channels\": 80,\n",
    "                \"kernel_size\": [2, 7],\n",
    "                \"bias\": True,\n",
    "                \"padding\": [0, 3],\n",
    "            },\n",
    "        },\n",
    "        {\"class\": \"ReLU\", \"kargs\": {\"inplace\": True}},\n",
    "        {\"class\": \"BatchNorm2d\", \"kargs\": {\"num_features\": 80}},\n",
    "        {\"class\": \"Flatten\", \"kargs\": {}},\n",
    "        {\"class\": \"Linear\", \"kargs\": {\"in_features\": 20480, \"out_features\": 256}},\n",
    "        {\"class\": \"ReLU\", \"kargs\": {\"inplace\": True}},\n",
    "        {\"class\": \"BatchNorm1d\", \"kargs\": {\"num_features\": 256}},\n",
    "        {\"class\": \"Linear\", \"kargs\": {\"in_features\": 256, \"out_features\": 256}},\n",
    "    ],\n",
    "    \"NUM_LOGS_PER_EPOCH\": 10,\n",
    "    \"BEST_MODEL_PATH\": \"./best_model.pth\",\n",
    "    \"n_way\": 16,\n",
    "    \"datasets\": [\n",
    "        {\n",
    "            \"labels\": [\n",
    "                \"1-10.\",\n",
    "                \"1-11.\",\n",
    "                \"1-15.\",\n",
    "                \"1-16.\",\n",
    "                \"1-17.\",\n",
    "                \"1-18.\",\n",
    "                \"1-19.\",\n",
    "                \"10-4.\",\n",
    "                \"10-7.\",\n",
    "                \"11-1.\",\n",
    "                \"11-14.\",\n",
    "                \"11-17.\",\n",
    "                \"11-20.\",\n",
    "                \"11-7.\",\n",
    "                \"13-20.\",\n",
    "                \"13-8.\",\n",
    "                \"14-10.\",\n",
    "                \"14-11.\",\n",
    "                \"14-14.\",\n",
    "                \"14-7.\",\n",
    "                \"15-1.\",\n",
    "                \"15-20.\",\n",
    "                \"16-1.\",\n",
    "                \"16-16.\",\n",
    "                \"17-10.\",\n",
    "                \"17-11.\",\n",
    "                \"17-2.\",\n",
    "                \"19-1.\",\n",
    "                \"19-16.\",\n",
    "                \"19-19.\",\n",
    "                \"19-20.\",\n",
    "                \"19-3.\",\n",
    "                \"2-10.\",\n",
    "                \"2-11.\",\n",
    "                \"2-17.\",\n",
    "                \"2-18.\",\n",
    "                \"2-20.\",\n",
    "                \"2-3.\",\n",
    "                \"2-4.\",\n",
    "                \"2-5.\",\n",
    "                \"2-6.\",\n",
    "                \"2-7.\",\n",
    "                \"2-8.\",\n",
    "                \"3-13.\",\n",
    "                \"3-18.\",\n",
    "                \"3-3.\",\n",
    "                \"4-1.\",\n",
    "                \"4-10.\",\n",
    "                \"4-11.\",\n",
    "                \"4-19.\",\n",
    "                \"5-5.\",\n",
    "                \"6-15.\",\n",
    "                \"7-10.\",\n",
    "                \"7-14.\",\n",
    "                \"8-18.\",\n",
    "                \"8-20.\",\n",
    "                \"8-3.\",\n",
    "                \"8-8.\",\n",
    "            ],\n",
    "            \"domains\": [1, 2, 3, 4, 5],\n",
    "            \"num_examples_per_domain_per_label\": -1,\n",
    "            \"pickle_path\": \"/root/csc500-main/datasets/cores.stratified_ds.2022A.pkl\",\n",
    "            \"source_or_target_dataset\": \"source\",\n",
    "            \"x_transforms\": [\"unit_power\"],\n",
    "            \"episode_transforms\": [],\n",
    "            \"domain_prefix\": \"CORES_\",\n",
    "        },\n",
    "        {\n",
    "            \"labels\": [\n",
    "                \"3123D52\",\n",
    "                \"3123D65\",\n",
    "                \"3123D79\",\n",
    "                \"3123D80\",\n",
    "                \"3123D54\",\n",
    "                \"3123D70\",\n",
    "                \"3123D7B\",\n",
    "                \"3123D89\",\n",
    "                \"3123D58\",\n",
    "                \"3123D76\",\n",
    "                \"3123D7D\",\n",
    "                \"3123EFE\",\n",
    "                \"3123D64\",\n",
    "                \"3123D78\",\n",
    "                \"3123D7E\",\n",
    "                \"3124E4A\",\n",
    "            ],\n",
    "            \"domains\": [32, 38, 8, 44, 14, 50, 20, 26],\n",
    "            \"num_examples_per_domain_per_label\": 2000,\n",
    "            \"pickle_path\": \"/root/csc500-main/datasets/oracle.Run1_framed_2000Examples_stratified_ds.2022A.pkl\",\n",
    "            \"source_or_target_dataset\": \"target\",\n",
    "            \"x_transforms\": [\"unit_power\"],\n",
    "            \"episode_transforms\": [],\n",
    "            \"domain_prefix\": \"ORACLE.run1_\",\n",
    "        },\n",
    "    ],\n",
    "    \"dataset_seed\": 420,\n",
    "    \"seed\": 420,\n",
    "}\n"
   ]
  },
  {
   "cell_type": "code",
   "execution_count": 5,
   "id": "8fa1cc33",
   "metadata": {
    "execution": {
     "iopub.execute_input": "2022-03-21T05:44:58.856784Z",
     "iopub.status.busy": "2022-03-21T05:44:58.856026Z",
     "iopub.status.idle": "2022-03-21T05:44:58.879230Z",
     "shell.execute_reply": "2022-03-21T05:44:58.878427Z"
    },
    "papermill": {
     "duration": 0.048904,
     "end_time": "2022-03-21T05:44:58.879389",
     "exception": false,
     "start_time": "2022-03-21T05:44:58.830485",
     "status": "completed"
    },
    "tags": []
   },
   "outputs": [],
   "source": [
    "# Set this to True if you want to run this template directly\n",
    "STANDALONE = False\n",
    "if STANDALONE:\n",
    "    print(\"parameters not injected, running with standalone_parameters\")\n",
    "    parameters = standalone_parameters\n",
    "\n",
    "if not 'parameters' in locals() and not 'parameters' in globals():\n",
    "    raise Exception(\"Parameter injection failed\")\n",
    "\n",
    "#Use an easy dict for all the parameters\n",
    "p = EasyDict(parameters)\n",
    "\n",
    "if \"x_shape\" not in p:\n",
    "    p.x_shape = [2,256] # Default to this if we dont supply x_shape\n",
    "\n",
    "\n",
    "supplied_keys = set(p.keys())\n",
    "\n",
    "if  supplied_keys != required_parameters:\n",
    "    print(\"Parameters are incorrect\")\n",
    "    if len(supplied_keys - required_parameters)>0: print(\"Shouldn't have:\", str(supplied_keys - required_parameters))\n",
    "    if len(required_parameters - supplied_keys)>0: print(\"Need to have:\", str(required_parameters - supplied_keys))\n",
    "    raise RuntimeError(\"Parameters are incorrect\")"
   ]
  },
  {
   "cell_type": "code",
   "execution_count": 6,
   "id": "3a028d58",
   "metadata": {
    "execution": {
     "iopub.execute_input": "2022-03-21T05:44:58.930392Z",
     "iopub.status.busy": "2022-03-21T05:44:58.929496Z",
     "iopub.status.idle": "2022-03-21T05:44:58.953611Z",
     "shell.execute_reply": "2022-03-21T05:44:58.952912Z"
    },
    "papermill": {
     "duration": 0.047826,
     "end_time": "2022-03-21T05:44:58.953768",
     "exception": false,
     "start_time": "2022-03-21T05:44:58.905942",
     "status": "completed"
    },
    "tags": []
   },
   "outputs": [],
   "source": [
    "###################################\n",
    "# Set the RNGs and make it all deterministic\n",
    "###################################\n",
    "np.random.seed(p.seed)\n",
    "random.seed(p.seed)\n",
    "torch.manual_seed(p.seed)\n",
    "\n",
    "torch.use_deterministic_algorithms(True) "
   ]
  },
  {
   "cell_type": "code",
   "execution_count": 7,
   "id": "b691acf6",
   "metadata": {
    "execution": {
     "iopub.execute_input": "2022-03-21T05:44:59.004440Z",
     "iopub.status.busy": "2022-03-21T05:44:59.004026Z",
     "iopub.status.idle": "2022-03-21T05:44:59.025626Z",
     "shell.execute_reply": "2022-03-21T05:44:59.024922Z"
    },
    "papermill": {
     "duration": 0.04665,
     "end_time": "2022-03-21T05:44:59.025783",
     "exception": false,
     "start_time": "2022-03-21T05:44:58.979133",
     "status": "completed"
    },
    "tags": []
   },
   "outputs": [],
   "source": [
    "###########################################\n",
    "# The stratified datasets honor this\n",
    "###########################################\n",
    "torch.set_default_dtype(eval(p.torch_default_dtype))"
   ]
  },
  {
   "cell_type": "code",
   "execution_count": 8,
   "id": "b5fba671",
   "metadata": {
    "execution": {
     "iopub.execute_input": "2022-03-21T05:44:59.075122Z",
     "iopub.status.busy": "2022-03-21T05:44:59.074755Z",
     "iopub.status.idle": "2022-03-21T05:44:59.131598Z",
     "shell.execute_reply": "2022-03-21T05:44:59.130839Z"
    },
    "papermill": {
     "duration": 0.080417,
     "end_time": "2022-03-21T05:44:59.131783",
     "exception": false,
     "start_time": "2022-03-21T05:44:59.051366",
     "status": "completed"
    },
    "tags": []
   },
   "outputs": [],
   "source": [
    "###################################\n",
    "# Build the network(s)\n",
    "# Note: It's critical to do this AFTER setting the RNG\n",
    "###################################\n",
    "x_net = build_sequential(p.x_net)"
   ]
  },
  {
   "cell_type": "code",
   "execution_count": 9,
   "id": "5d7e61cc",
   "metadata": {
    "execution": {
     "iopub.execute_input": "2022-03-21T05:44:59.180793Z",
     "iopub.status.busy": "2022-03-21T05:44:59.180234Z",
     "iopub.status.idle": "2022-03-21T05:44:59.205512Z",
     "shell.execute_reply": "2022-03-21T05:44:59.204709Z"
    },
    "papermill": {
     "duration": 0.049086,
     "end_time": "2022-03-21T05:44:59.205668",
     "exception": false,
     "start_time": "2022-03-21T05:44:59.156582",
     "status": "completed"
    },
    "tags": []
   },
   "outputs": [],
   "source": [
    "start_time_secs = time.time()"
   ]
  },
  {
   "cell_type": "code",
   "execution_count": 10,
   "id": "c6b67dfd",
   "metadata": {
    "execution": {
     "iopub.execute_input": "2022-03-21T05:44:59.255215Z",
     "iopub.status.busy": "2022-03-21T05:44:59.254847Z",
     "iopub.status.idle": "2022-03-21T05:44:59.276595Z",
     "shell.execute_reply": "2022-03-21T05:44:59.275794Z"
    },
    "papermill": {
     "duration": 0.045537,
     "end_time": "2022-03-21T05:44:59.276754",
     "exception": false,
     "start_time": "2022-03-21T05:44:59.231217",
     "status": "completed"
    },
    "tags": []
   },
   "outputs": [],
   "source": [
    "p.domains_source = []\n",
    "p.domains_target = []\n",
    "\n",
    "\n",
    "train_original_source = []\n",
    "val_original_source   = []\n",
    "test_original_source  = []\n",
    "\n",
    "train_original_target = []\n",
    "val_original_target   = []\n",
    "test_original_target  = []"
   ]
  },
  {
   "cell_type": "code",
   "execution_count": 11,
   "id": "e3d9c3d3",
   "metadata": {
    "execution": {
     "iopub.execute_input": "2022-03-21T05:44:59.327430Z",
     "iopub.status.busy": "2022-03-21T05:44:59.326934Z",
     "iopub.status.idle": "2022-03-21T05:44:59.347807Z",
     "shell.execute_reply": "2022-03-21T05:44:59.346976Z"
    },
    "papermill": {
     "duration": 0.043607,
     "end_time": "2022-03-21T05:44:59.347963",
     "exception": false,
     "start_time": "2022-03-21T05:44:59.304356",
     "status": "completed"
    },
    "tags": []
   },
   "outputs": [],
   "source": [
    "# global_x_transform_func = lambda x: normalize(x.to(torch.get_default_dtype()), \"unit_power\") # unit_power, unit_mag\n",
    "# global_x_transform_func = lambda x: normalize(x, \"unit_power\") # unit_power, unit_mag"
   ]
  },
  {
   "cell_type": "code",
   "execution_count": 12,
   "id": "acb78fd2",
   "metadata": {
    "execution": {
     "iopub.execute_input": "2022-03-21T05:44:59.402432Z",
     "iopub.status.busy": "2022-03-21T05:44:59.401775Z",
     "iopub.status.idle": "2022-03-21T05:44:59.425104Z",
     "shell.execute_reply": "2022-03-21T05:44:59.424271Z"
    },
    "papermill": {
     "duration": 0.050623,
     "end_time": "2022-03-21T05:44:59.425269",
     "exception": false,
     "start_time": "2022-03-21T05:44:59.374646",
     "status": "completed"
    },
    "tags": []
   },
   "outputs": [],
   "source": [
    "def add_dataset(\n",
    "    labels,\n",
    "    domains,\n",
    "    pickle_path,\n",
    "    x_transforms,\n",
    "    episode_transforms,\n",
    "    domain_prefix,\n",
    "    num_examples_per_domain_per_label,\n",
    "    source_or_target_dataset:str,\n",
    "    iterator_seed=p.seed,\n",
    "    dataset_seed=p.dataset_seed,\n",
    "    n_shot=p.n_shot,\n",
    "    n_way=p.n_way,\n",
    "    n_query=p.n_query,\n",
    "    train_val_test_k_factors=(p.train_k_factor,p.val_k_factor,p.test_k_factor),\n",
    "):\n",
    "   \n",
    "    if x_transforms == []: x_transform = None\n",
    "    else: x_transform = get_chained_transform(x_transforms)\n",
    "    \n",
    "    if episode_transforms == []: episode_transform = None\n",
    "    else: raise Exception(\"episode_transforms not implemented\")\n",
    "    \n",
    "    episode_transform = lambda tup, _prefix=domain_prefix: (_prefix + str(tup[0]), tup[1])\n",
    "\n",
    "\n",
    "    eaf = Episodic_Accessor_Factory(\n",
    "        labels=labels,\n",
    "        domains=domains,\n",
    "        num_examples_per_domain_per_label=num_examples_per_domain_per_label,\n",
    "        iterator_seed=iterator_seed,\n",
    "        dataset_seed=dataset_seed,\n",
    "        n_shot=n_shot,\n",
    "        n_way=n_way,\n",
    "        n_query=n_query,\n",
    "        train_val_test_k_factors=train_val_test_k_factors,\n",
    "        pickle_path=pickle_path,\n",
    "        x_transform_func=x_transform,\n",
    "    )\n",
    "\n",
    "    train, val, test = eaf.get_train(), eaf.get_val(), eaf.get_test()\n",
    "    train = Lazy_Iterable_Wrapper(train, episode_transform)\n",
    "    val = Lazy_Iterable_Wrapper(val, episode_transform)\n",
    "    test = Lazy_Iterable_Wrapper(test, episode_transform)\n",
    "\n",
    "    if source_or_target_dataset==\"source\":\n",
    "        train_original_source.append(train)\n",
    "        val_original_source.append(val)\n",
    "        test_original_source.append(test)\n",
    "\n",
    "        p.domains_source.extend(\n",
    "            [domain_prefix + str(u) for u in domains]\n",
    "        )\n",
    "    elif source_or_target_dataset==\"target\":\n",
    "        train_original_target.append(train)\n",
    "        val_original_target.append(val)\n",
    "        test_original_target.append(test)\n",
    "        p.domains_target.extend(\n",
    "            [domain_prefix + str(u) for u in domains]\n",
    "        )\n",
    "    else:\n",
    "        raise Exception(f\"invalid source_or_target_dataset: {source_or_target_dataset}\")\n",
    "    "
   ]
  },
  {
   "cell_type": "code",
   "execution_count": 13,
   "id": "fe266617",
   "metadata": {
    "execution": {
     "iopub.execute_input": "2022-03-21T05:44:59.478317Z",
     "iopub.status.busy": "2022-03-21T05:44:59.477306Z",
     "iopub.status.idle": "2022-03-21T05:45:42.137172Z",
     "shell.execute_reply": "2022-03-21T05:45:42.136445Z"
    },
    "papermill": {
     "duration": 42.683369,
     "end_time": "2022-03-21T05:45:42.137358",
     "exception": false,
     "start_time": "2022-03-21T05:44:59.453989",
     "status": "completed"
    },
    "tags": []
   },
   "outputs": [],
   "source": [
    "for ds in p.datasets:\n",
    "    add_dataset(**ds)"
   ]
  },
  {
   "cell_type": "code",
   "execution_count": 14,
   "id": "b90d65ac",
   "metadata": {
    "execution": {
     "iopub.execute_input": "2022-03-21T05:45:42.186995Z",
     "iopub.status.busy": "2022-03-21T05:45:42.186518Z",
     "iopub.status.idle": "2022-03-21T05:45:42.212749Z",
     "shell.execute_reply": "2022-03-21T05:45:42.211985Z"
    },
    "papermill": {
     "duration": 0.050398,
     "end_time": "2022-03-21T05:45:42.212912",
     "exception": false,
     "start_time": "2022-03-21T05:45:42.162514",
     "status": "completed"
    },
    "tags": []
   },
   "outputs": [],
   "source": [
    "# from steves_utils.CORES.utils import (\n",
    "#     ALL_NODES,\n",
    "#     ALL_NODES_MINIMUM_1000_EXAMPLES,\n",
    "#     ALL_DAYS\n",
    "# )\n",
    "\n",
    "# add_dataset(\n",
    "#     labels=ALL_NODES,\n",
    "#     domains = ALL_DAYS,\n",
    "#     num_examples_per_domain_per_label=100,\n",
    "#     pickle_path=os.path.join(get_datasets_base_path(), \"cores.stratified_ds.2022A.pkl\"),\n",
    "#     source_or_target_dataset=\"target\",\n",
    "#     x_transform_func=global_x_transform_func,\n",
    "#     domain_modifier=lambda u: f\"cores_{u}\"\n",
    "# )"
   ]
  },
  {
   "cell_type": "code",
   "execution_count": 15,
   "id": "76db484d",
   "metadata": {
    "execution": {
     "iopub.execute_input": "2022-03-21T05:45:42.264626Z",
     "iopub.status.busy": "2022-03-21T05:45:42.262455Z",
     "iopub.status.idle": "2022-03-21T05:45:42.284206Z",
     "shell.execute_reply": "2022-03-21T05:45:42.283375Z"
    },
    "papermill": {
     "duration": 0.046442,
     "end_time": "2022-03-21T05:45:42.284362",
     "exception": false,
     "start_time": "2022-03-21T05:45:42.237920",
     "status": "completed"
    },
    "tags": []
   },
   "outputs": [],
   "source": [
    "# from steves_utils.ORACLE.utils_v2 import (\n",
    "#     ALL_DISTANCES_FEET,\n",
    "#     ALL_RUNS,\n",
    "#     ALL_SERIAL_NUMBERS,\n",
    "# )\n",
    "\n",
    "\n",
    "# add_dataset(\n",
    "#     labels=ALL_SERIAL_NUMBERS,\n",
    "#     domains = list(set(ALL_DISTANCES_FEET) - {2,62}),\n",
    "#     num_examples_per_domain_per_label=100,\n",
    "#     pickle_path=os.path.join(get_datasets_base_path(), \"oracle.Run2_framed_2000Examples_stratified_ds.2022A.pkl\"),\n",
    "#     source_or_target_dataset=\"source\",\n",
    "#     x_transform_func=global_x_transform_func,\n",
    "#     domain_modifier=lambda u: f\"oracle1_{u}\"\n",
    "# )\n"
   ]
  },
  {
   "cell_type": "code",
   "execution_count": 16,
   "id": "97dea9d2",
   "metadata": {
    "execution": {
     "iopub.execute_input": "2022-03-21T05:45:42.339251Z",
     "iopub.status.busy": "2022-03-21T05:45:42.338878Z",
     "iopub.status.idle": "2022-03-21T05:45:42.358971Z",
     "shell.execute_reply": "2022-03-21T05:45:42.358264Z"
    },
    "papermill": {
     "duration": 0.044412,
     "end_time": "2022-03-21T05:45:42.359127",
     "exception": false,
     "start_time": "2022-03-21T05:45:42.314715",
     "status": "completed"
    },
    "tags": []
   },
   "outputs": [],
   "source": [
    "# from steves_utils.ORACLE.utils_v2 import (\n",
    "#     ALL_DISTANCES_FEET,\n",
    "#     ALL_RUNS,\n",
    "#     ALL_SERIAL_NUMBERS,\n",
    "# )\n",
    "\n",
    "\n",
    "# add_dataset(\n",
    "#     labels=ALL_SERIAL_NUMBERS,\n",
    "#     domains = list(set(ALL_DISTANCES_FEET) - {2,62,56}),\n",
    "#     num_examples_per_domain_per_label=100,\n",
    "#     pickle_path=os.path.join(get_datasets_base_path(), \"oracle.Run2_framed_2000Examples_stratified_ds.2022A.pkl\"),\n",
    "#     source_or_target_dataset=\"source\",\n",
    "#     x_transform_func=global_x_transform_func,\n",
    "#     domain_modifier=lambda u: f\"oracle2_{u}\"\n",
    "# )"
   ]
  },
  {
   "cell_type": "code",
   "execution_count": 17,
   "id": "6f289866",
   "metadata": {
    "execution": {
     "iopub.execute_input": "2022-03-21T05:45:42.412822Z",
     "iopub.status.busy": "2022-03-21T05:45:42.412236Z",
     "iopub.status.idle": "2022-03-21T05:45:42.436375Z",
     "shell.execute_reply": "2022-03-21T05:45:42.435524Z"
    },
    "papermill": {
     "duration": 0.048493,
     "end_time": "2022-03-21T05:45:42.436534",
     "exception": false,
     "start_time": "2022-03-21T05:45:42.388041",
     "status": "completed"
    },
    "tags": []
   },
   "outputs": [],
   "source": [
    "# add_dataset(\n",
    "#     labels=list(range(19)),\n",
    "#     domains = [0,1,2],\n",
    "#     num_examples_per_domain_per_label=100,\n",
    "#     pickle_path=os.path.join(get_datasets_base_path(), \"metehan.stratified_ds.2022A.pkl\"),\n",
    "#     source_or_target_dataset=\"target\",\n",
    "#     x_transform_func=global_x_transform_func,\n",
    "#     domain_modifier=lambda u: f\"met_{u}\"\n",
    "# )"
   ]
  },
  {
   "cell_type": "code",
   "execution_count": 18,
   "id": "86a863c3",
   "metadata": {
    "execution": {
     "iopub.execute_input": "2022-03-21T05:45:42.488957Z",
     "iopub.status.busy": "2022-03-21T05:45:42.488586Z",
     "iopub.status.idle": "2022-03-21T05:45:42.514365Z",
     "shell.execute_reply": "2022-03-21T05:45:42.513581Z"
    },
    "papermill": {
     "duration": 0.050369,
     "end_time": "2022-03-21T05:45:42.514523",
     "exception": false,
     "start_time": "2022-03-21T05:45:42.464154",
     "status": "completed"
    },
    "tags": []
   },
   "outputs": [],
   "source": [
    "# # from steves_utils.wisig.utils import (\n",
    "# #     ALL_NODES_MINIMUM_100_EXAMPLES,\n",
    "# #     ALL_NODES_MINIMUM_500_EXAMPLES,\n",
    "# #     ALL_NODES_MINIMUM_1000_EXAMPLES,\n",
    "# #     ALL_DAYS\n",
    "# # )\n",
    "\n",
    "# import steves_utils.wisig.utils as wisig\n",
    "\n",
    "\n",
    "# add_dataset(\n",
    "#     labels=wisig.ALL_NODES_MINIMUM_100_EXAMPLES,\n",
    "#     domains = wisig.ALL_DAYS,\n",
    "#     num_examples_per_domain_per_label=100,\n",
    "#     pickle_path=os.path.join(get_datasets_base_path(), \"wisig.node3-19.stratified_ds.2022A.pkl\"),\n",
    "#     source_or_target_dataset=\"target\",\n",
    "#     x_transform_func=global_x_transform_func,\n",
    "#     domain_modifier=lambda u: f\"wisig_{u}\"\n",
    "# )"
   ]
  },
  {
   "cell_type": "code",
   "execution_count": 19,
   "id": "fd5442bc",
   "metadata": {
    "execution": {
     "iopub.execute_input": "2022-03-21T05:45:42.572790Z",
     "iopub.status.busy": "2022-03-21T05:45:42.572215Z",
     "iopub.status.idle": "2022-03-21T05:45:42.595216Z",
     "shell.execute_reply": "2022-03-21T05:45:42.594518Z"
    },
    "papermill": {
     "duration": 0.052184,
     "end_time": "2022-03-21T05:45:42.595373",
     "exception": false,
     "start_time": "2022-03-21T05:45:42.543189",
     "status": "completed"
    },
    "tags": []
   },
   "outputs": [],
   "source": [
    "###################################\n",
    "# Build the dataset\n",
    "###################################\n",
    "train_original_source = Iterable_Aggregator(train_original_source, p.seed)\n",
    "val_original_source = Iterable_Aggregator(val_original_source, p.seed)\n",
    "test_original_source = Iterable_Aggregator(test_original_source, p.seed)\n",
    "\n",
    "\n",
    "train_original_target = Iterable_Aggregator(train_original_target, p.seed)\n",
    "val_original_target = Iterable_Aggregator(val_original_target, p.seed)\n",
    "test_original_target = Iterable_Aggregator(test_original_target, p.seed)\n",
    "\n",
    "# For CNN We only use X and Y. And we only train on the source.\n",
    "# Properly form the data using a transform lambda and Lazy_Iterable_Wrapper. Finally wrap them in a dataloader\n",
    "\n",
    "transform_lambda = lambda ex: ex[1] # Original is (<domain>, <episode>) so we strip down to episode only\n",
    "\n",
    "train_processed_source = Lazy_Iterable_Wrapper(train_original_source, transform_lambda)\n",
    "val_processed_source   = Lazy_Iterable_Wrapper(val_original_source, transform_lambda)\n",
    "test_processed_source  = Lazy_Iterable_Wrapper(test_original_source, transform_lambda)\n",
    "\n",
    "train_processed_target = Lazy_Iterable_Wrapper(train_original_target, transform_lambda)\n",
    "val_processed_target   = Lazy_Iterable_Wrapper(val_original_target, transform_lambda)\n",
    "test_processed_target  = Lazy_Iterable_Wrapper(test_original_target, transform_lambda)\n",
    "\n",
    "datasets = EasyDict({\n",
    "    \"source\": {\n",
    "        \"original\": {\"train\":train_original_source, \"val\":val_original_source, \"test\":test_original_source},\n",
    "        \"processed\": {\"train\":train_processed_source, \"val\":val_processed_source, \"test\":test_processed_source}\n",
    "    },\n",
    "    \"target\": {\n",
    "        \"original\": {\"train\":train_original_target, \"val\":val_original_target, \"test\":test_original_target},\n",
    "        \"processed\": {\"train\":train_processed_target, \"val\":val_processed_target, \"test\":test_processed_target}\n",
    "    },\n",
    "})"
   ]
  },
  {
   "cell_type": "code",
   "execution_count": 20,
   "id": "5b3c01fc",
   "metadata": {
    "execution": {
     "iopub.execute_input": "2022-03-21T05:45:42.650812Z",
     "iopub.status.busy": "2022-03-21T05:45:42.650148Z",
     "iopub.status.idle": "2022-03-21T05:45:57.500188Z",
     "shell.execute_reply": "2022-03-21T05:45:57.500833Z"
    },
    "papermill": {
     "duration": 14.877536,
     "end_time": "2022-03-21T05:45:57.501049",
     "exception": false,
     "start_time": "2022-03-21T05:45:42.623513",
     "status": "completed"
    },
    "tags": []
   },
   "outputs": [
    {
     "name": "stdout",
     "output_type": "stream",
     "text": [
      "{'CORES_5', 'CORES_3', 'CORES_1', 'CORES_4', 'CORES_2'}\n"
     ]
    },
    {
     "name": "stdout",
     "output_type": "stream",
     "text": [
      "{'ORACLE.run1_8', 'ORACLE.run1_44', 'ORACLE.run1_26', 'ORACLE.run1_20', 'ORACLE.run1_14', 'ORACLE.run1_38', 'ORACLE.run1_50', 'ORACLE.run1_32'}\n"
     ]
    },
    {
     "name": "stdout",
     "output_type": "stream",
     "text": [
      "tensor([[[ 0.2082, -0.8446, -1.3343,  ...,  0.7883,  0.5522, -0.6271],\n",
      "         [ 0.4851,  0.5243, -0.0243,  ...,  0.7454,  0.5987,  0.2474]],\n",
      "\n",
      "        [[ 0.3609,  0.0853, -1.0298,  ...,  0.6114,  1.1085,  0.1838],\n",
      "         [ 0.1296,  0.5863,  0.7165,  ...,  0.3027,  0.4554,  0.3047]],\n",
      "\n",
      "        [[-0.4983, -0.1526,  0.6172,  ..., -0.9906, -0.9773,  0.0357],\n",
      "         [-0.0119, -0.7586, -1.1723,  ...,  0.1665,  0.1936, -0.4857]],\n",
      "\n",
      "        ...,\n",
      "\n",
      "        [[ 0.0802,  0.0972,  0.2467,  ...,  0.6003,  0.1337,  0.4047],\n",
      "         [-0.0085, -0.0207,  0.6246,  ...,  0.5541,  0.2674, -0.1398]],\n",
      "\n",
      "        [[-0.4455, -0.6875,  1.0210,  ..., -0.1156,  0.3203,  1.0065],\n",
      "         [ 0.1637, -0.8958, -0.7778,  ...,  0.3949, -0.0554, -0.6622]],\n",
      "\n",
      "        [[-0.7660,  0.1212,  1.3623,  ...,  0.0036,  0.7636,  0.8908],\n",
      "         [-0.2703, -1.1672,  0.2472,  ...,  0.3684, -0.5866, -0.0800]]])\n"
     ]
    }
   ],
   "source": [
    "from steves_utils.transforms import get_average_magnitude, get_average_power\n",
    "\n",
    "print(set([u for u,_ in val_original_source]))\n",
    "print(set([u for u,_ in val_original_target]))\n",
    "\n",
    "s_x, s_y, q_x, q_y, _ = next(iter(train_processed_source))\n",
    "print(s_x)\n",
    "\n",
    "# for ds in [\n",
    "#     train_processed_source,\n",
    "#     val_processed_source,\n",
    "#     test_processed_source,\n",
    "#     train_processed_target,\n",
    "#     val_processed_target,\n",
    "#     test_processed_target\n",
    "# ]:\n",
    "#     for s_x, s_y, q_x, q_y, _ in ds:\n",
    "#         for X in (s_x, q_x):\n",
    "#             for x in X:\n",
    "#                 assert np.isclose(get_average_magnitude(x.numpy()), 1.0)\n",
    "#                 assert np.isclose(get_average_power(x.numpy()), 1.0)\n",
    "                "
   ]
  },
  {
   "cell_type": "code",
   "execution_count": 21,
   "id": "bbdacba1",
   "metadata": {
    "execution": {
     "iopub.execute_input": "2022-03-21T05:45:57.555813Z",
     "iopub.status.busy": "2022-03-21T05:45:57.555152Z",
     "iopub.status.idle": "2022-03-21T05:45:57.734105Z",
     "shell.execute_reply": "2022-03-21T05:45:57.734743Z"
    },
    "papermill": {
     "duration": 0.207522,
     "end_time": "2022-03-21T05:45:57.734988",
     "exception": false,
     "start_time": "2022-03-21T05:45:57.527466",
     "status": "completed"
    },
    "tags": []
   },
   "outputs": [
    {
     "name": "stdout",
     "output_type": "stream",
     "text": [
      "(2, 256)\n"
     ]
    }
   ],
   "source": [
    "###################################\n",
    "# Build the model\n",
    "###################################\n",
    "# easfsl only wants a tuple for the shape\n",
    "model = Steves_Prototypical_Network(x_net, device=p.device, x_shape=tuple(p.x_shape))\n",
    "optimizer = Adam(params=model.parameters(), lr=p.lr)"
   ]
  },
  {
   "cell_type": "code",
   "execution_count": 22,
   "id": "22b39ac5",
   "metadata": {
    "execution": {
     "iopub.execute_input": "2022-03-21T05:45:57.794955Z",
     "iopub.status.busy": "2022-03-21T05:45:57.794322Z",
     "iopub.status.idle": "2022-03-21T06:14:51.835461Z",
     "shell.execute_reply": "2022-03-21T06:14:51.835116Z"
    },
    "papermill": {
     "duration": 1734.072352,
     "end_time": "2022-03-21T06:14:51.835567",
     "exception": false,
     "start_time": "2022-03-21T05:45:57.763215",
     "status": "completed"
    },
    "tags": []
   },
   "outputs": [
    {
     "name": "stdout",
     "output_type": "stream",
     "text": [
      "epoch: 1, [batch: 1 / 6315], examples_per_second: 34.1651, train_label_loss: 2.6458, \n"
     ]
    },
    {
     "name": "stdout",
     "output_type": "stream",
     "text": [
      "epoch: 1, [batch: 632 / 6315], examples_per_second: 2971.5555, train_label_loss: 0.0081, \n"
     ]
    },
    {
     "name": "stdout",
     "output_type": "stream",
     "text": [
      "epoch: 1, [batch: 1263 / 6315], examples_per_second: 2566.7350, train_label_loss: 0.0298, \n"
     ]
    },
    {
     "name": "stdout",
     "output_type": "stream",
     "text": [
      "epoch: 1, [batch: 1895 / 6315], examples_per_second: 2552.0346, train_label_loss: 0.0002, \n"
     ]
    },
    {
     "name": "stdout",
     "output_type": "stream",
     "text": [
      "epoch: 1, [batch: 2526 / 6315], examples_per_second: 2615.1003, train_label_loss: 0.0006, \n"
     ]
    },
    {
     "name": "stdout",
     "output_type": "stream",
     "text": [
      "epoch: 1, [batch: 3158 / 6315], examples_per_second: 3025.2558, train_label_loss: 0.0002, \n"
     ]
    },
    {
     "name": "stdout",
     "output_type": "stream",
     "text": [
      "epoch: 1, [batch: 3789 / 6315], examples_per_second: 2982.9383, train_label_loss: 0.0017, \n"
     ]
    },
    {
     "name": "stdout",
     "output_type": "stream",
     "text": [
      "epoch: 1, [batch: 4420 / 6315], examples_per_second: 2954.0898, train_label_loss: 0.0103, \n"
     ]
    },
    {
     "name": "stdout",
     "output_type": "stream",
     "text": [
      "epoch: 1, [batch: 5052 / 6315], examples_per_second: 2968.2090, train_label_loss: 0.0000, \n"
     ]
    },
    {
     "name": "stdout",
     "output_type": "stream",
     "text": [
      "epoch: 1, [batch: 5683 / 6315], examples_per_second: 2954.9695, train_label_loss: 0.0004, \n"
     ]
    },
    {
     "name": "stdout",
     "output_type": "stream",
     "text": [
      "=============================================================\n",
      "epoch: 1, source_val_acc_label: 0.9982, target_val_acc_label: 0.1959, source_val_label_loss: 0.0082, target_val_label_loss: 2.4196, \n",
      "=============================================================\n"
     ]
    },
    {
     "name": "stdout",
     "output_type": "stream",
     "text": [
      "New best\n"
     ]
    },
    {
     "name": "stdout",
     "output_type": "stream",
     "text": [
      "epoch: 2, [batch: 1 / 6307], examples_per_second: 2.9892, train_label_loss: 0.0020, \n"
     ]
    },
    {
     "name": "stdout",
     "output_type": "stream",
     "text": [
      "epoch: 2, [batch: 631 / 6307], examples_per_second: 3329.0298, train_label_loss: 0.0001, \n"
     ]
    },
    {
     "name": "stdout",
     "output_type": "stream",
     "text": [
      "epoch: 2, [batch: 1262 / 6307], examples_per_second: 2900.8536, train_label_loss: 0.0000, \n"
     ]
    },
    {
     "name": "stdout",
     "output_type": "stream",
     "text": [
      "epoch: 2, [batch: 1892 / 6307], examples_per_second: 2324.1404, train_label_loss: 0.0000, \n"
     ]
    },
    {
     "name": "stdout",
     "output_type": "stream",
     "text": [
      "epoch: 2, [batch: 2523 / 6307], examples_per_second: 2318.6479, train_label_loss: 0.0005, \n"
     ]
    },
    {
     "name": "stdout",
     "output_type": "stream",
     "text": [
      "epoch: 2, [batch: 3154 / 6307], examples_per_second: 2322.8339, train_label_loss: 0.0000, \n"
     ]
    },
    {
     "name": "stdout",
     "output_type": "stream",
     "text": [
      "epoch: 2, [batch: 3784 / 6307], examples_per_second: 2314.8058, train_label_loss: 0.0000, \n"
     ]
    },
    {
     "name": "stdout",
     "output_type": "stream",
     "text": [
      "epoch: 2, [batch: 4415 / 6307], examples_per_second: 2320.4312, train_label_loss: 0.0000, \n"
     ]
    },
    {
     "name": "stdout",
     "output_type": "stream",
     "text": [
      "epoch: 2, [batch: 5045 / 6307], examples_per_second: 2325.4910, train_label_loss: 0.0002, \n"
     ]
    },
    {
     "name": "stdout",
     "output_type": "stream",
     "text": [
      "epoch: 2, [batch: 5676 / 6307], examples_per_second: 2329.8363, train_label_loss: 0.0000, \n"
     ]
    },
    {
     "name": "stdout",
     "output_type": "stream",
     "text": [
      "=============================================================\n",
      "epoch: 2, source_val_acc_label: 0.9986, target_val_acc_label: 0.1984, source_val_label_loss: 0.0115, target_val_label_loss: 2.7326, \n",
      "=============================================================\n"
     ]
    },
    {
     "name": "stdout",
     "output_type": "stream",
     "text": [
      "New best\n"
     ]
    },
    {
     "name": "stdout",
     "output_type": "stream",
     "text": [
      "epoch: 3, [batch: 1 / 6326], examples_per_second: 2.1458, train_label_loss: 0.0000, \n"
     ]
    },
    {
     "name": "stdout",
     "output_type": "stream",
     "text": [
      "epoch: 3, [batch: 633 / 6326], examples_per_second: 2950.0303, train_label_loss: 0.0000, \n"
     ]
    },
    {
     "name": "stdout",
     "output_type": "stream",
     "text": [
      "epoch: 3, [batch: 1266 / 6326], examples_per_second: 3109.1438, train_label_loss: 0.0000, \n"
     ]
    },
    {
     "name": "stdout",
     "output_type": "stream",
     "text": [
      "epoch: 3, [batch: 1898 / 6326], examples_per_second: 2496.7287, train_label_loss: 0.0001, \n"
     ]
    },
    {
     "name": "stdout",
     "output_type": "stream",
     "text": [
      "epoch: 3, [batch: 2531 / 6326], examples_per_second: 2354.3832, train_label_loss: 0.0000, \n"
     ]
    },
    {
     "name": "stdout",
     "output_type": "stream",
     "text": [
      "epoch: 3, [batch: 3163 / 6326], examples_per_second: 2305.9738, train_label_loss: 0.0000, \n"
     ]
    },
    {
     "name": "stdout",
     "output_type": "stream",
     "text": [
      "epoch: 3, [batch: 3796 / 6326], examples_per_second: 2321.4698, train_label_loss: 0.0000, \n"
     ]
    },
    {
     "name": "stdout",
     "output_type": "stream",
     "text": [
      "epoch: 3, [batch: 4428 / 6326], examples_per_second: 2304.6614, train_label_loss: 0.0000, \n"
     ]
    },
    {
     "name": "stdout",
     "output_type": "stream",
     "text": [
      "epoch: 3, [batch: 5061 / 6326], examples_per_second: 2328.2424, train_label_loss: 0.0008, \n"
     ]
    },
    {
     "name": "stdout",
     "output_type": "stream",
     "text": [
      "epoch: 3, [batch: 5693 / 6326], examples_per_second: 2315.4283, train_label_loss: 0.0000, \n"
     ]
    },
    {
     "name": "stdout",
     "output_type": "stream",
     "text": [
      "=============================================================\n",
      "epoch: 3, source_val_acc_label: 0.9994, target_val_acc_label: 0.2613, source_val_label_loss: 0.0090, target_val_label_loss: 2.4990, \n",
      "=============================================================\n"
     ]
    },
    {
     "name": "stdout",
     "output_type": "stream",
     "text": [
      "New best\n"
     ]
    },
    {
     "name": "stdout",
     "output_type": "stream",
     "text": [
      "epoch: 4, [batch: 1 / 6302], examples_per_second: 2.1014, train_label_loss: 0.0002, \n"
     ]
    },
    {
     "name": "stdout",
     "output_type": "stream",
     "text": [
      "epoch: 4, [batch: 631 / 6302], examples_per_second: 2866.5617, train_label_loss: 0.0000, \n"
     ]
    },
    {
     "name": "stdout",
     "output_type": "stream",
     "text": [
      "epoch: 4, [batch: 1261 / 6302], examples_per_second: 2962.6994, train_label_loss: 0.1168, \n"
     ]
    },
    {
     "name": "stdout",
     "output_type": "stream",
     "text": [
      "epoch: 4, [batch: 1891 / 6302], examples_per_second: 3266.6219, train_label_loss: 0.0036, \n"
     ]
    },
    {
     "name": "stdout",
     "output_type": "stream",
     "text": [
      "epoch: 4, [batch: 2521 / 6302], examples_per_second: 2344.1339, train_label_loss: 0.0000, \n"
     ]
    },
    {
     "name": "stdout",
     "output_type": "stream",
     "text": [
      "epoch: 4, [batch: 3151 / 6302], examples_per_second: 2315.4434, train_label_loss: 0.0000, \n"
     ]
    },
    {
     "name": "stdout",
     "output_type": "stream",
     "text": [
      "epoch: 4, [batch: 3781 / 6302], examples_per_second: 2325.3128, train_label_loss: 0.0000, \n"
     ]
    },
    {
     "name": "stdout",
     "output_type": "stream",
     "text": [
      "epoch: 4, [batch: 4411 / 6302], examples_per_second: 2338.3323, train_label_loss: 0.0000, \n"
     ]
    },
    {
     "name": "stdout",
     "output_type": "stream",
     "text": [
      "epoch: 4, [batch: 5041 / 6302], examples_per_second: 2314.1442, train_label_loss: 0.0000, \n"
     ]
    },
    {
     "name": "stdout",
     "output_type": "stream",
     "text": [
      "epoch: 4, [batch: 5671 / 6302], examples_per_second: 2490.4973, train_label_loss: 0.0000, \n"
     ]
    },
    {
     "name": "stdout",
     "output_type": "stream",
     "text": [
      "=============================================================\n",
      "epoch: 4, source_val_acc_label: 0.9988, target_val_acc_label: 0.2089, source_val_label_loss: 0.0124, target_val_label_loss: 3.3438, \n",
      "=============================================================\n"
     ]
    },
    {
     "name": "stdout",
     "output_type": "stream",
     "text": [
      "epoch: 5, [batch: 1 / 6324], examples_per_second: 2.3941, train_label_loss: 0.0000, \n"
     ]
    },
    {
     "name": "stdout",
     "output_type": "stream",
     "text": [
      "epoch: 5, [batch: 633 / 6324], examples_per_second: 2666.7616, train_label_loss: 0.0000, \n"
     ]
    },
    {
     "name": "stdout",
     "output_type": "stream",
     "text": [
      "epoch: 5, [batch: 1265 / 6324], examples_per_second: 3201.7722, train_label_loss: 0.0076, \n"
     ]
    },
    {
     "name": "stdout",
     "output_type": "stream",
     "text": [
      "epoch: 5, [batch: 1897 / 6324], examples_per_second: 3333.0003, train_label_loss: 0.0000, \n"
     ]
    },
    {
     "name": "stdout",
     "output_type": "stream",
     "text": [
      "epoch: 5, [batch: 2530 / 6324], examples_per_second: 3875.7700, train_label_loss: 0.0000, \n"
     ]
    },
    {
     "name": "stdout",
     "output_type": "stream",
     "text": [
      "epoch: 5, [batch: 3162 / 6324], examples_per_second: 2987.1161, train_label_loss: 0.0043, \n"
     ]
    },
    {
     "name": "stdout",
     "output_type": "stream",
     "text": [
      "epoch: 5, [batch: 3794 / 6324], examples_per_second: 2350.0256, train_label_loss: 0.0000, \n"
     ]
    },
    {
     "name": "stdout",
     "output_type": "stream",
     "text": [
      "epoch: 5, [batch: 4427 / 6324], examples_per_second: 2296.4648, train_label_loss: 0.0000, \n"
     ]
    },
    {
     "name": "stdout",
     "output_type": "stream",
     "text": [
      "epoch: 5, [batch: 5059 / 6324], examples_per_second: 2350.7214, train_label_loss: 0.0000, \n"
     ]
    },
    {
     "name": "stdout",
     "output_type": "stream",
     "text": [
      "epoch: 5, [batch: 5691 / 6324], examples_per_second: 2291.6170, train_label_loss: 0.0000, \n"
     ]
    },
    {
     "name": "stdout",
     "output_type": "stream",
     "text": [
      "=============================================================\n",
      "epoch: 5, source_val_acc_label: 0.9991, target_val_acc_label: 0.2458, source_val_label_loss: 0.0114, target_val_label_loss: 2.8708, \n",
      "=============================================================\n"
     ]
    },
    {
     "name": "stdout",
     "output_type": "stream",
     "text": [
      "epoch: 6, [batch: 1 / 6313], examples_per_second: 2.1038, train_label_loss: 0.0000, \n"
     ]
    },
    {
     "name": "stdout",
     "output_type": "stream",
     "text": [
      "epoch: 6, [batch: 632 / 6313], examples_per_second: 2322.7300, train_label_loss: 0.0000, \n"
     ]
    },
    {
     "name": "stdout",
     "output_type": "stream",
     "text": [
      "epoch: 6, [batch: 1263 / 6313], examples_per_second: 2510.0328, train_label_loss: 0.0000, \n"
     ]
    },
    {
     "name": "stdout",
     "output_type": "stream",
     "text": [
      "epoch: 6, [batch: 1894 / 6313], examples_per_second: 2954.4930, train_label_loss: 0.0000, \n"
     ]
    },
    {
     "name": "stdout",
     "output_type": "stream",
     "text": [
      "epoch: 6, [batch: 2525 / 6313], examples_per_second: 2866.2822, train_label_loss: 0.0000, \n"
     ]
    },
    {
     "name": "stdout",
     "output_type": "stream",
     "text": [
      "epoch: 6, [batch: 3157 / 6313], examples_per_second: 2918.6264, train_label_loss: 0.0000, \n"
     ]
    },
    {
     "name": "stdout",
     "output_type": "stream",
     "text": [
      "epoch: 6, [batch: 3788 / 6313], examples_per_second: 2334.8630, train_label_loss: 0.0000, \n"
     ]
    },
    {
     "name": "stdout",
     "output_type": "stream",
     "text": [
      "epoch: 6, [batch: 4419 / 6313], examples_per_second: 2310.5264, train_label_loss: 0.0000, \n"
     ]
    },
    {
     "name": "stdout",
     "output_type": "stream",
     "text": [
      "epoch: 6, [batch: 5050 / 6313], examples_per_second: 2309.7311, train_label_loss: 0.0000, \n"
     ]
    },
    {
     "name": "stdout",
     "output_type": "stream",
     "text": [
      "epoch: 6, [batch: 5681 / 6313], examples_per_second: 2349.7688, train_label_loss: 0.0000, \n"
     ]
    },
    {
     "name": "stdout",
     "output_type": "stream",
     "text": [
      "=============================================================\n",
      "epoch: 6, source_val_acc_label: 0.9994, target_val_acc_label: 0.2363, source_val_label_loss: 0.0080, target_val_label_loss: 3.0480, \n",
      "=============================================================\n"
     ]
    },
    {
     "name": "stdout",
     "output_type": "stream",
     "text": [
      "epoch: 7, [batch: 1 / 6295], examples_per_second: 2.1170, train_label_loss: 0.0000, \n"
     ]
    },
    {
     "name": "stdout",
     "output_type": "stream",
     "text": [
      "epoch: 7, [batch: 630 / 6295], examples_per_second: 2319.1608, train_label_loss: 0.0000, \n"
     ]
    },
    {
     "name": "stdout",
     "output_type": "stream",
     "text": [
      "epoch: 7, [batch: 1259 / 6295], examples_per_second: 2325.7291, train_label_loss: 0.0000, \n"
     ]
    },
    {
     "name": "stdout",
     "output_type": "stream",
     "text": [
      "epoch: 7, [batch: 1889 / 6295], examples_per_second: 2606.7893, train_label_loss: 0.0000, \n"
     ]
    },
    {
     "name": "stdout",
     "output_type": "stream",
     "text": [
      "epoch: 7, [batch: 2518 / 6295], examples_per_second: 2946.8155, train_label_loss: 0.0000, \n"
     ]
    },
    {
     "name": "stdout",
     "output_type": "stream",
     "text": [
      "epoch: 7, [batch: 3148 / 6295], examples_per_second: 2948.3360, train_label_loss: 0.0000, \n"
     ]
    },
    {
     "name": "stdout",
     "output_type": "stream",
     "text": [
      "epoch: 7, [batch: 3777 / 6295], examples_per_second: 2840.1693, train_label_loss: 0.0000, \n"
     ]
    },
    {
     "name": "stdout",
     "output_type": "stream",
     "text": [
      "epoch: 7, [batch: 4406 / 6295], examples_per_second: 2308.6934, train_label_loss: 0.0000, \n"
     ]
    },
    {
     "name": "stdout",
     "output_type": "stream",
     "text": [
      "epoch: 7, [batch: 5036 / 6295], examples_per_second: 2302.2621, train_label_loss: 0.0000, \n"
     ]
    },
    {
     "name": "stdout",
     "output_type": "stream",
     "text": [
      "epoch: 7, [batch: 5665 / 6295], examples_per_second: 2357.9734, train_label_loss: 0.0000, \n"
     ]
    },
    {
     "name": "stdout",
     "output_type": "stream",
     "text": [
      "=============================================================\n",
      "epoch: 7, source_val_acc_label: 0.9994, target_val_acc_label: 0.2282, source_val_label_loss: 0.0087, target_val_label_loss: 3.3620, \n",
      "=============================================================\n"
     ]
    },
    {
     "name": "stdout",
     "output_type": "stream",
     "text": [
      "Patience (3) exhausted\n"
     ]
    }
   ],
   "source": [
    "###################################\n",
    "# train\n",
    "###################################\n",
    "jig = PTN_Train_Eval_Test_Jig(model, p.BEST_MODEL_PATH, p.device)\n",
    "\n",
    "jig.train(\n",
    "    train_iterable=datasets.source.processed.train,\n",
    "    source_val_iterable=datasets.source.processed.val,\n",
    "    target_val_iterable=datasets.target.processed.val,\n",
    "    num_epochs=p.n_epoch,\n",
    "    num_logs_per_epoch=p.NUM_LOGS_PER_EPOCH,\n",
    "    patience=p.patience,\n",
    "    optimizer=optimizer,\n",
    "    criteria_for_best=p.criteria_for_best,\n",
    ")"
   ]
  },
  {
   "cell_type": "code",
   "execution_count": 23,
   "id": "31e8fabf",
   "metadata": {
    "execution": {
     "iopub.execute_input": "2022-03-21T06:14:51.929360Z",
     "iopub.status.busy": "2022-03-21T06:14:51.928984Z",
     "iopub.status.idle": "2022-03-21T06:14:51.964057Z",
     "shell.execute_reply": "2022-03-21T06:14:51.963291Z"
    },
    "papermill": {
     "duration": 0.084101,
     "end_time": "2022-03-21T06:14:51.964232",
     "exception": false,
     "start_time": "2022-03-21T06:14:51.880131",
     "status": "completed"
    },
    "tags": []
   },
   "outputs": [],
   "source": [
    "total_experiment_time_secs = time.time() - start_time_secs"
   ]
  },
  {
   "cell_type": "code",
   "execution_count": 24,
   "id": "87b9595b",
   "metadata": {
    "execution": {
     "iopub.execute_input": "2022-03-21T06:14:52.061011Z",
     "iopub.status.busy": "2022-03-21T06:14:52.060619Z",
     "iopub.status.idle": "2022-03-21T06:19:08.489986Z",
     "shell.execute_reply": "2022-03-21T06:19:08.489211Z"
    },
    "papermill": {
     "duration": 256.478273,
     "end_time": "2022-03-21T06:19:08.490178",
     "exception": false,
     "start_time": "2022-03-21T06:14:52.011905",
     "status": "completed"
    },
    "tags": []
   },
   "outputs": [],
   "source": [
    "###################################\n",
    "# Evaluate the model\n",
    "###################################\n",
    "source_test_label_accuracy, source_test_label_loss = jig.test(datasets.source.processed.test)\n",
    "target_test_label_accuracy, target_test_label_loss = jig.test(datasets.target.processed.test)\n",
    "\n",
    "source_val_label_accuracy, source_val_label_loss = jig.test(datasets.source.processed.val)\n",
    "target_val_label_accuracy, target_val_label_loss = jig.test(datasets.target.processed.val)\n",
    "\n",
    "history = jig.get_history()\n",
    "\n",
    "total_epochs_trained = len(history[\"epoch_indices\"])\n",
    "\n",
    "val_dl = Iterable_Aggregator((datasets.source.original.val,datasets.target.original.val))\n",
    "\n",
    "confusion = ptn_confusion_by_domain_over_dataloader(model, p.device, val_dl)\n",
    "per_domain_accuracy = per_domain_accuracy_from_confusion(confusion)\n",
    "\n",
    "# Add a key to per_domain_accuracy for if it was a source domain\n",
    "for domain, accuracy in per_domain_accuracy.items():\n",
    "    per_domain_accuracy[domain] = {\n",
    "        \"accuracy\": accuracy,\n",
    "        \"source?\": domain in p.domains_source\n",
    "    }\n",
    "\n",
    "# Do an independent accuracy assesment JUST TO BE SURE!\n",
    "# _source_test_label_accuracy = independent_accuracy_assesment(model, datasets.source.processed.test, p.device)\n",
    "# _target_test_label_accuracy = independent_accuracy_assesment(model, datasets.target.processed.test, p.device)\n",
    "# _source_val_label_accuracy = independent_accuracy_assesment(model, datasets.source.processed.val, p.device)\n",
    "# _target_val_label_accuracy = independent_accuracy_assesment(model, datasets.target.processed.val, p.device)\n",
    "\n",
    "# assert(_source_test_label_accuracy == source_test_label_accuracy)\n",
    "# assert(_target_test_label_accuracy == target_test_label_accuracy)\n",
    "# assert(_source_val_label_accuracy == source_val_label_accuracy)\n",
    "# assert(_target_val_label_accuracy == target_val_label_accuracy)\n",
    "\n",
    "experiment = {\n",
    "    \"experiment_name\": p.experiment_name,\n",
    "    \"parameters\": dict(p),\n",
    "    \"results\": {\n",
    "        \"source_test_label_accuracy\": source_test_label_accuracy,\n",
    "        \"source_test_label_loss\": source_test_label_loss,\n",
    "        \"target_test_label_accuracy\": target_test_label_accuracy,\n",
    "        \"target_test_label_loss\": target_test_label_loss,\n",
    "        \"source_val_label_accuracy\": source_val_label_accuracy,\n",
    "        \"source_val_label_loss\": source_val_label_loss,\n",
    "        \"target_val_label_accuracy\": target_val_label_accuracy,\n",
    "        \"target_val_label_loss\": target_val_label_loss,\n",
    "        \"total_epochs_trained\": total_epochs_trained,\n",
    "        \"total_experiment_time_secs\": total_experiment_time_secs,\n",
    "        \"confusion\": confusion,\n",
    "        \"per_domain_accuracy\": per_domain_accuracy,\n",
    "    },\n",
    "    \"history\": history,\n",
    "    \"dataset_metrics\": get_dataset_metrics(datasets, \"ptn\"),\n",
    "}"
   ]
  },
  {
   "cell_type": "code",
   "execution_count": 25,
   "id": "54a21829",
   "metadata": {
    "execution": {
     "iopub.execute_input": "2022-03-21T06:19:08.691611Z",
     "iopub.status.busy": "2022-03-21T06:19:08.690051Z",
     "iopub.status.idle": "2022-03-21T06:19:08.927971Z",
     "shell.execute_reply": "2022-03-21T06:19:08.927173Z"
    },
    "papermill": {
     "duration": 0.286421,
     "end_time": "2022-03-21T06:19:08.928169",
     "exception": false,
     "start_time": "2022-03-21T06:19:08.641748",
     "status": "completed"
    },
    "tags": []
   },
   "outputs": [
    {
     "data": {
      "image/png": "[encoded data removed]",
      "text/plain": [
       "<Figure size 1080x504 with 1 Axes>"
      ]
     },
     "metadata": {
      "needs_background": "light"
     },
     "output_type": "display_data"
    }
   ],
   "source": [
    "ax = get_loss_curve(experiment)\n",
    "plt.show()"
   ]
  },
  {
   "cell_type": "code",
   "execution_count": 26,
   "id": "fd8a0f60",
   "metadata": {
    "execution": {
     "iopub.execute_input": "2022-03-21T06:19:09.033474Z",
     "iopub.status.busy": "2022-03-21T06:19:09.033102Z",
     "iopub.status.idle": "2022-03-21T06:19:09.384054Z",
     "shell.execute_reply": "2022-03-21T06:19:09.383696Z"
    },
    "papermill": {
     "duration": 0.402038,
     "end_time": "2022-03-21T06:19:09.384146",
     "exception": false,
     "start_time": "2022-03-21T06:19:08.982108",
     "status": "completed"
    },
    "tags": []
   },
   "outputs": [
    {
     "data": {
      "text/plain": [
       "<AxesSubplot:title={'center':'Results'}>"
      ]
     },
     "execution_count": 26,
     "metadata": {},
     "output_type": "execute_result"
    },
    {
     "data": {
      "image/png": "[encoded data removed]",
      "text/plain": [
       "<Figure size 1080x504 with 1 Axes>"
      ]
     },
     "metadata": {
      "needs_background": "light"
     },
     "output_type": "display_data"
    }
   ],
   "source": [
    "get_results_table(experiment)"
   ]
  },
  {
   "cell_type": "code",
   "execution_count": 27,
   "id": "cf8dc689",
   "metadata": {
    "execution": {
     "iopub.execute_input": "2022-03-21T06:19:09.482595Z",
     "iopub.status.busy": "2022-03-21T06:19:09.482236Z",
     "iopub.status.idle": "2022-03-21T06:19:09.751233Z",
     "shell.execute_reply": "2022-03-21T06:19:09.750409Z"
    },
    "papermill": {
     "duration": 0.320459,
     "end_time": "2022-03-21T06:19:09.751391",
     "exception": false,
     "start_time": "2022-03-21T06:19:09.430932",
     "status": "completed"
    },
    "tags": []
   },
   "outputs": [
    {
     "data": {
      "text/plain": [
       "<AxesSubplot:title={'center':'Per Domain Validation Accuracy'}, xlabel='domain'>"
      ]
     },
     "execution_count": 27,
     "metadata": {},
     "output_type": "execute_result"
    },
    {
     "data": {
      "image/png": "[encoded data removed]",
      "text/plain": [
       "<Figure size 1080x504 with 1 Axes>"
      ]
     },
     "metadata": {
      "needs_background": "light"
     },
     "output_type": "display_data"
    }
   ],
   "source": [
    "get_domain_accuracies(experiment)"
   ]
  },
  {
   "cell_type": "code",
   "execution_count": 28,
   "id": "a74ae082",
   "metadata": {
    "execution": {
     "iopub.execute_input": "2022-03-21T06:19:09.857033Z",
     "iopub.status.busy": "2022-03-21T06:19:09.856498Z",
     "iopub.status.idle": "2022-03-21T06:19:09.885969Z",
     "shell.execute_reply": "2022-03-21T06:19:09.885285Z"
    },
    "papermill": {
     "duration": 0.081196,
     "end_time": "2022-03-21T06:19:09.886122",
     "exception": false,
     "start_time": "2022-03-21T06:19:09.804926",
     "status": "completed"
    },
    "tags": []
   },
   "outputs": [
    {
     "name": "stdout",
     "output_type": "stream",
     "text": [
      "Source Test Label Accuracy: 0.9991534988713319 Target Test Label Accuracy: 0.25380859375\n",
      "Source Val Label Accuracy: 0.9993928571428572 Target Val Label Accuracy: 0.26129557291666666\n"
     ]
    }
   ],
   "source": [
    "print(\"Source Test Label Accuracy:\", experiment[\"results\"][\"source_test_label_accuracy\"], \"Target Test Label Accuracy:\", experiment[\"results\"][\"target_test_label_accuracy\"])\n",
    "print(\"Source Val Label Accuracy:\", experiment[\"results\"][\"source_val_label_accuracy\"], \"Target Val Label Accuracy:\", experiment[\"results\"][\"target_val_label_accuracy\"])"
   ]
  },
  {
   "cell_type": "code",
   "execution_count": 29,
   "id": "dacca602",
   "metadata": {
    "execution": {
     "iopub.execute_input": "2022-03-21T06:19:09.990682Z",
     "iopub.status.busy": "2022-03-21T06:19:09.990316Z",
     "iopub.status.idle": "2022-03-21T06:19:10.018690Z",
     "shell.execute_reply": "2022-03-21T06:19:10.019382Z"
    },
    "papermill": {
     "duration": 0.080812,
     "end_time": "2022-03-21T06:19:10.019570",
     "exception": false,
     "start_time": "2022-03-21T06:19:09.938758",
     "status": "completed"
    },
    "tags": [
     "experiment_json"
    ]
   },
   "outputs": [
    {
     "data": {
      "text/plain": [
       "'{\"experiment_name\": \"tl_1v2:cores-oracle.run1.framed\", \"parameters\": {\"experiment_name\": \"tl_1v2:cores-oracle.run1.framed\", \"device\": \"cuda\", \"lr\": 0.0001, \"n_shot\": 3, \"n_query\": 2, \"train_k_factor\": 3, \"val_k_factor\": 2, \"test_k_factor\": 2, \"torch_default_dtype\": \"torch.float32\", \"n_epoch\": 50, \"patience\": 3, \"criteria_for_best\": \"target_accuracy\", \"x_net\": [{\"class\": \"nnReshape\", \"kargs\": {\"shape\": [-1, 1, 2, 256]}}, {\"class\": \"Conv2d\", \"kargs\": {\"in_channels\": 1, \"out_channels\": 256, \"kernel_size\": [1, 7], \"bias\": false, \"padding\": [0, 3]}}, {\"class\": \"ReLU\", \"kargs\": {\"inplace\": true}}, {\"class\": \"BatchNorm2d\", \"kargs\": {\"num_features\": 256}}, {\"class\": \"Conv2d\", \"kargs\": {\"in_channels\": 256, \"out_channels\": 80, \"kernel_size\": [2, 7], \"bias\": true, \"padding\": [0, 3]}}, {\"class\": \"ReLU\", \"kargs\": {\"inplace\": true}}, {\"class\": \"BatchNorm2d\", \"kargs\": {\"num_features\": 80}}, {\"class\": \"Flatten\", \"kargs\": {}}, {\"class\": \"Linear\", \"kargs\": {\"in_features\": 20480, \"out_features\": 256}}, {\"class\": \"ReLU\", \"kargs\": {\"inplace\": true}}, {\"class\": \"BatchNorm1d\", \"kargs\": {\"num_features\": 256}}, {\"class\": \"Linear\", \"kargs\": {\"in_features\": 256, \"out_features\": 256}}], \"NUM_LOGS_PER_EPOCH\": 10, \"BEST_MODEL_PATH\": \"./best_model.pth\", \"n_way\": 16, \"datasets\": [{\"labels\": [\"1-10.\", \"1-11.\", \"1-15.\", \"1-16.\", \"1-17.\", \"1-18.\", \"1-19.\", \"10-4.\", \"10-7.\", \"11-1.\", \"11-14.\", \"11-17.\", \"11-20.\", \"11-7.\", \"13-20.\", \"13-8.\", \"14-10.\", \"14-11.\", \"14-14.\", \"14-7.\", \"15-1.\", \"15-20.\", \"16-1.\", \"16-16.\", \"17-10.\", \"17-11.\", \"17-2.\", \"19-1.\", \"19-16.\", \"19-19.\", \"19-20.\", \"19-3.\", \"2-10.\", \"2-11.\", \"2-17.\", \"2-18.\", \"2-20.\", \"2-3.\", \"2-4.\", \"2-5.\", \"2-6.\", \"2-7.\", \"2-8.\", \"3-13.\", \"3-18.\", \"3-3.\", \"4-1.\", \"4-10.\", \"4-11.\", \"4-19.\", \"5-5.\", \"6-15.\", \"7-10.\", \"7-14.\", \"8-18.\", \"8-20.\", \"8-3.\", \"8-8.\"], \"domains\": [1, 2, 3, 4, 5], \"num_examples_per_domain_per_label\": -1, \"pickle_path\": \"/root/csc500-main/datasets/cores.stratified_ds.2022A.pkl\", \"source_or_target_dataset\": \"source\", \"x_transforms\": [\"unit_power\"], \"episode_transforms\": [], \"domain_prefix\": \"CORES_\"}, {\"labels\": [\"3123D52\", \"3123D65\", \"3123D79\", \"3123D80\", \"3123D54\", \"3123D70\", \"3123D7B\", \"3123D89\", \"3123D58\", \"3123D76\", \"3123D7D\", \"3123EFE\", \"3123D64\", \"3123D78\", \"3123D7E\", \"3124E4A\"], \"domains\": [32, 38, 8, 44, 14, 50, 20, 26], \"num_examples_per_domain_per_label\": 2000, \"pickle_path\": \"/root/csc500-main/datasets/oracle.Run1_framed_2000Examples_stratified_ds.2022A.pkl\", \"source_or_target_dataset\": \"target\", \"x_transforms\": [\"unit_power\"], \"episode_transforms\": [], \"domain_prefix\": \"ORACLE.run1_\"}], \"dataset_seed\": 420, \"seed\": 420, \"x_shape\": [2, 256], \"domains_source\": [\"CORES_1\", \"CORES_2\", \"CORES_3\", \"CORES_4\", \"CORES_5\"], \"domains_target\": [\"ORACLE.run1_32\", \"ORACLE.run1_38\", \"ORACLE.run1_8\", \"ORACLE.run1_44\", \"ORACLE.run1_14\", \"ORACLE.run1_50\", \"ORACLE.run1_20\", \"ORACLE.run1_26\"]}, \"results\": {\"source_test_label_accuracy\": 0.9991534988713319, \"source_test_label_loss\": 0.008050937205553055, \"target_test_label_accuracy\": 0.25380859375, \"target_test_label_loss\": 2.520787239074707, \"source_val_label_accuracy\": 0.9993928571428572, \"source_val_label_loss\": 0.009031277149915695, \"target_val_label_accuracy\": 0.26129557291666666, \"target_val_label_loss\": 2.498959541320801, \"total_epochs_trained\": 7, \"total_experiment_time_secs\": 1792.7585279941559, \"confusion\": {\"CORES_4\": {\"42\": {\"42\": 32}, \"0\": {\"0\": 80}, \"1\": {\"1\": 40}, \"39\": {\"39\": 20}, \"28\": {\"28\": 32}, \"53\": {\"53\": 124}, \"19\": {\"19\": 144}, \"34\": {\"34\": 24}, \"33\": {\"33\": 36}, \"32\": {\"32\": 24}, \"10\": {\"10\": 136}, \"46\": {\"46\": 133, \"15\": 1}, \"20\": {\"20\": 122}, \"5\": {\"5\": 108}, \"40\": {\"40\": 124}, \"51\": {\"51\": 144}, \"37\": {\"37\": 24}, \"17\": {\"17\": 80}, \"45\": {\"45\": 96}, \"13\": {\"13\": 142}, \"27\": {\"27\": 144}, \"24\": {\"24\": 56}, \"30\": {\"30\": 44}, \"31\": {\"31\": 28}, \"41\": {\"41\": 34, \"10\": 1, \"13\": 1}, \"36\": {\"36\": 92}, \"16\": {\"16\": 96}, \"22\": {\"22\": 128}, \"44\": {\"44\": 132}, \"9\": {\"9\": 140}, \"57\": {\"57\": 100}, \"8\": {\"8\": 138}, \"23\": {\"23\": 132}, \"47\": {\"47\": 120}, \"43\": {\"43\": 138}, \"49\": {\"49\": 20}, \"3\": {\"3\": 122, \"50\": 2}, \"12\": {\"12\": 92}, \"38\": {\"38\": 40}, \"7\": {\"7\": 24}, \"14\": {\"14\": 16}, \"15\": {\"15\": 146}, \"25\": {\"25\": 128}, \"26\": {\"26\": 24}, \"21\": {\"21\": 132}, \"48\": {\"48\": 144}, \"56\": {\"56\": 134}, \"11\": {\"11\": 104}, \"2\": {\"2\": 36}, \"6\": {\"6\": 111, \"3\": 1}, \"55\": {\"55\": 140}, \"54\": {\"54\": 108}, \"29\": {\"29\": 124}, \"50\": {\"50\": 122}, \"52\": {\"52\": 116}, \"35\": {\"35\": 40}, \"4\": {\"4\": 119, \"27\": 1}, \"18\": {\"18\": 108}}, \"CORES_5\": {\"43\": {\"43\": 152}, \"35\": {\"35\": 36}, \"54\": {\"54\": 112}, \"22\": {\"22\": 28}, \"16\": {\"16\": 146}, \"5\": {\"5\": 128}, \"28\": {\"28\": 32}, \"14\": {\"14\": 44}, \"51\": {\"51\": 128}, \"19\": {\"19\": 140}, \"31\": {\"31\": 36}, \"10\": {\"10\": 68}, \"21\": {\"21\": 136}, \"3\": {\"3\": 100}, \"57\": {\"57\": 131, \"14\": 1}, \"9\": {\"9\": 146}, \"8\": {\"8\": 132}, \"46\": {\"46\": 140}, \"23\": {\"23\": 124}, \"37\": {\"37\": 24}, \"34\": {\"34\": 36}, \"4\": {\"4\": 100}, \"6\": {\"6\": 128}, \"48\": {\"48\": 136}, \"44\": {\"44\": 138}, \"40\": {\"40\": 124}, \"12\": {\"12\": 96}, \"30\": {\"30\": 128}, \"39\": {\"39\": 20}, \"45\": {\"45\": 124}, \"36\": {\"36\": 92}, \"27\": {\"27\": 140}, \"32\": {\"32\": 32}, \"52\": {\"52\": 130}, \"0\": {\"0\": 124}, \"26\": {\"26\": 24}, \"1\": {\"1\": 148}, \"53\": {\"53\": 146}, \"25\": {\"25\": 144}, \"24\": {\"24\": 80}, \"7\": {\"7\": 32}, \"18\": {\"18\": 64}, \"20\": {\"20\": 144}, \"33\": {\"33\": 32}, \"55\": {\"55\": 140}, \"41\": {\"41\": 28}, \"42\": {\"42\": 39, \"11\": 1}, \"49\": {\"49\": 36}, \"13\": {\"13\": 148}, \"38\": {\"38\": 32}, \"2\": {\"2\": 28}, \"47\": {\"47\": 100}, \"17\": {\"17\": 116}, \"11\": {\"11\": 154}, \"29\": {\"29\": 132}, \"50\": {\"50\": 138}, \"56\": {\"56\": 148}, \"15\": {\"15\": 142}}, \"CORES_2\": {\"49\": {\"49\": 24}, \"13\": {\"13\": 116}, \"37\": {\"37\": 36}, \"41\": {\"41\": 20}, \"15\": {\"15\": 142}, \"56\": {\"56\": 142}, \"14\": {\"14\": 24}, \"3\": {\"3\": 92}, \"38\": {\"38\": 20}, \"43\": {\"43\": 138}, \"33\": {\"33\": 27, \"49\": 1}, \"47\": {\"47\": 138}, \"30\": {\"30\": 144}, \"39\": {\"39\": 28}, \"12\": {\"12\": 92}, \"6\": {\"6\": 124}, \"51\": {\"51\": 134}, \"5\": {\"5\": 120}, \"34\": {\"34\": 28}, \"35\": {\"35\": 32}, \"0\": {\"0\": 48}, \"7\": {\"7\": 36}, \"24\": {\"24\": 96}, \"8\": {\"8\": 136}, \"20\": {\"20\": 124}, \"36\": {\"36\": 116}, \"42\": {\"42\": 36}, \"1\": {\"1\": 112}, \"4\": {\"4\": 148}, \"28\": {\"28\": 28}, \"50\": {\"50\": 136}, \"45\": {\"45\": 128}, \"18\": {\"18\": 48}, \"57\": {\"57\": 120}, \"46\": {\"46\": 128}, \"23\": {\"23\": 148}, \"27\": {\"27\": 138}, \"19\": {\"19\": 134}, \"22\": {\"22\": 136}, \"17\": {\"17\": 104}, \"55\": {\"55\": 136}, \"44\": {\"44\": 99, \"29\": 1}, \"26\": {\"26\": 24}, \"31\": {\"31\": 28}, \"16\": {\"16\": 130}, \"11\": {\"11\": 128}, \"25\": {\"25\": 126}, \"54\": {\"54\": 108}, \"32\": {\"32\": 28}, \"52\": {\"52\": 124}, \"40\": {\"40\": 132}, \"2\": {\"2\": 32}, \"10\": {\"10\": 110}, \"53\": {\"53\": 136}, \"9\": {\"9\": 150}, \"21\": {\"21\": 120}, \"48\": {\"48\": 138}, \"29\": {\"29\": 128}}, \"CORES_1\": {\"9\": {\"9\": 142}, \"25\": {\"25\": 128}, \"41\": {\"41\": 24}, \"29\": {\"29\": 140}, \"46\": {\"46\": 128}, \"4\": {\"4\": 132}, \"31\": {\"31\": 28}, \"36\": {\"36\": 64}, \"20\": {\"20\": 128}, \"7\": {\"7\": 28}, \"6\": {\"6\": 96}, \"16\": {\"16\": 138}, \"17\": {\"17\": 64}, \"50\": {\"50\": 148}, \"57\": {\"57\": 144}, \"23\": {\"23\": 136}, \"3\": {\"3\": 126}, \"53\": {\"53\": 140}, \"49\": {\"49\": 32}, \"56\": {\"56\": 152}, \"51\": {\"51\": 142}, \"26\": {\"26\": 24}, \"43\": {\"43\": 144}, \"22\": {\"22\": 136}, \"45\": {\"45\": 146}, \"13\": {\"13\": 152}, \"12\": {\"12\": 116}, \"54\": {\"54\": 104}, \"24\": {\"24\": 108}, \"44\": {\"44\": 136}, \"28\": {\"28\": 28}, \"33\": {\"33\": 32}, \"38\": {\"38\": 24}, \"0\": {\"0\": 144}, \"47\": {\"47\": 154}, \"42\": {\"42\": 40}, \"34\": {\"34\": 24}, \"48\": {\"48\": 142}, \"35\": {\"35\": 36}, \"2\": {\"2\": 36}, \"30\": {\"30\": 120}, \"18\": {\"18\": 72}, \"37\": {\"37\": 32}, \"1\": {\"1\": 100}, \"11\": {\"11\": 138}, \"55\": {\"55\": 130}, \"15\": {\"15\": 150}, \"10\": {\"10\": 96}, \"27\": {\"27\": 160}, \"19\": {\"19\": 146}, \"14\": {\"14\": 24}, \"8\": {\"8\": 140}, \"5\": {\"5\": 136}, \"39\": {\"39\": 28}, \"52\": {\"52\": 122}, \"21\": {\"21\": 124}, \"40\": {\"40\": 152}, \"32\": {\"32\": 32}}, \"CORES_3\": {\"56\": {\"56\": 120}, \"4\": {\"4\": 146}, \"34\": {\"34\": 32}, \"52\": {\"52\": 136}, \"32\": {\"32\": 28}, \"46\": {\"46\": 136}, \"12\": {\"12\": 91, \"51\": 1}, \"20\": {\"20\": 132}, \"54\": {\"54\": 100}, \"22\": {\"22\": 140}, \"26\": {\"26\": 24}, \"31\": {\"31\": 28}, \"10\": {\"10\": 64}, \"27\": {\"27\": 144}, \"40\": {\"40\": 136}, \"28\": {\"28\": 28}, \"5\": {\"5\": 116}, \"30\": {\"30\": 120}, \"7\": {\"7\": 36}, \"18\": {\"18\": 84}, \"39\": {\"39\": 16}, \"50\": {\"50\": 136}, \"49\": {\"49\": 20}, \"43\": {\"43\": 122}, \"29\": {\"29\": 114}, \"35\": {\"35\": 28}, \"13\": {\"13\": 124}, \"36\": {\"36\": 100}, \"11\": {\"11\": 146}, \"57\": {\"57\": 124}, \"9\": {\"9\": 130}, \"25\": {\"25\": 130}, \"16\": {\"16\": 126}, \"53\": {\"53\": 118}, \"33\": {\"33\": 28}, \"51\": {\"51\": 128}, \"44\": {\"44\": 88}, \"48\": {\"48\": 114}, \"6\": {\"6\": 88}, \"23\": {\"23\": 144}, \"1\": {\"1\": 100}, \"17\": {\"38\": 2, \"17\": 106}, \"21\": {\"21\": 122}, \"14\": {\"14\": 40}, \"55\": {\"55\": 144}, \"41\": {\"41\": 28}, \"3\": {\"3\": 137, \"50\": 1}, \"38\": {\"38\": 28}, \"2\": {\"2\": 32}, \"8\": {\"8\": 142}, \"37\": {\"37\": 28}, \"45\": {\"45\": 60}, \"42\": {\"42\": 28}, \"24\": {\"24\": 104}, \"15\": {\"15\": 136}, \"0\": {\"0\": 122, \"57\": 2}, \"47\": {\"47\": 92}, \"19\": {\"19\": 120}}, \"ORACLE.run1_14\": {\"15\": {\"7\": 50, \"15\": 100, \"5\": 15, \"2\": 13, \"6\": 11, \"3\": 5, \"1\": 21, \"14\": 7, \"4\": 12, \"10\": 1, \"13\": 4, \"0\": 1}, \"5\": {\"0\": 14, \"2\": 20, \"6\": 16, \"5\": 27, \"11\": 2, \"14\": 12, \"7\": 29, \"1\": 21, \"13\": 14, \"4\": 29, \"15\": 24, \"3\": 16, \"8\": 5, \"10\": 10, \"9\": 1}, \"7\": {\"4\": 11, \"1\": 20, \"15\": 73, \"7\": 67, \"2\": 21, \"5\": 18, \"3\": 8, \"14\": 3, \"6\": 7, \"13\": 8, \"0\": 3, \"8\": 1}, \"4\": {\"13\": 10, \"10\": 22, \"8\": 8, \"4\": 40, \"1\": 20, \"5\": 28, \"14\": 15, \"3\": 24, \"0\": 20, \"2\": 15, \"6\": 11, \"15\": 10, \"7\": 14, \"9\": 2, \"11\": 1}, \"10\": {\"0\": 43, \"10\": 53, \"11\": 25, \"3\": 28, \"8\": 23, \"14\": 6, \"13\": 8, \"5\": 10, \"9\": 6, \"2\": 6, \"1\": 8, \"6\": 8, \"4\": 13, \"12\": 3}, \"11\": {\"0\": 33, \"11\": 82, \"14\": 5, \"9\": 27, \"10\": 38, \"3\": 16, \"8\": 8, \"13\": 4, \"6\": 4, \"12\": 17, \"4\": 4, \"5\": 2}, \"12\": {\"12\": 161, \"9\": 59, \"11\": 12, \"8\": 5, \"0\": 3}, \"0\": {\"11\": 48, \"8\": 16, \"9\": 18, \"3\": 19, \"10\": 42, \"0\": 42, \"13\": 6, \"14\": 12, \"4\": 12, \"2\": 3, \"5\": 9, \"1\": 8, \"12\": 1, \"6\": 3, \"15\": 1}, \"14\": {\"3\": 15, \"13\": 41, \"15\": 7, \"14\": 44, \"2\": 32, \"10\": 13, \"11\": 7, \"6\": 39, \"5\": 15, \"7\": 4, \"0\": 5, \"4\": 17, \"1\": 1}, \"8\": {\"8\": 134, \"10\": 14, \"4\": 20, \"3\": 11, \"1\": 16, \"9\": 25, \"5\": 1, \"0\": 10, \"11\": 5, \"12\": 3, \"2\": 1}, \"13\": {\"6\": 28, \"5\": 18, \"7\": 10, \"14\": 36, \"13\": 53, \"2\": 32, \"0\": 9, \"1\": 3, \"15\": 4, \"4\": 17, \"10\": 15, \"3\": 10, \"11\": 5}, \"6\": {\"0\": 9, \"6\": 39, \"2\": 28, \"13\": 49, \"5\": 19, \"14\": 39, \"4\": 18, \"7\": 3, \"11\": 4, \"1\": 11, \"10\": 6, \"15\": 7, \"3\": 8}, \"1\": {\"1\": 48, \"10\": 11, \"15\": 25, \"6\": 11, \"4\": 28, \"7\": 26, \"8\": 16, \"2\": 10, \"5\": 33, \"3\": 15, \"0\": 10, \"13\": 4, \"14\": 3}, \"3\": {\"11\": 8, \"4\": 18, \"0\": 27, \"5\": 26, \"6\": 12, \"15\": 7, \"3\": 33, \"10\": 28, \"1\": 19, \"14\": 14, \"7\": 8, \"2\": 15, \"13\": 11, \"8\": 12, \"9\": 2}, \"9\": {\"0\": 11, \"9\": 96, \"11\": 37, \"10\": 14, \"12\": 60, \"3\": 1, \"8\": 20, \"14\": 1}, \"2\": {\"1\": 18, \"6\": 40, \"2\": 43, \"5\": 16, \"4\": 16, \"7\": 18, \"14\": 35, \"0\": 7, \"15\": 8, \"13\": 14, \"3\": 16, \"10\": 8, \"11\": 1}}, \"ORACLE.run1_20\": {\"4\": {\"10\": 33, \"3\": 12, \"8\": 22, \"7\": 16, \"4\": 23, \"9\": 13, \"14\": 23, \"6\": 14, \"0\": 12, \"5\": 18, \"11\": 9, \"2\": 11, \"12\": 14, \"1\": 10, \"15\": 6, \"13\": 4}, \"10\": {\"14\": 37, \"6\": 32, \"2\": 7, \"8\": 30, \"10\": 39, \"7\": 14, \"11\": 17, \"5\": 4, \"0\": 7, \"4\": 21, \"1\": 5, \"3\": 7, \"13\": 4, \"12\": 5, \"9\": 11}, \"15\": {\"5\": 28, \"7\": 11, \"12\": 24, \"2\": 15, \"9\": 27, \"0\": 22, \"15\": 35, \"1\": 26, \"13\": 25, \"3\": 17, \"4\": 4, \"10\": 3, \"8\": 1, \"11\": 2}, \"0\": {\"0\": 38, \"12\": 19, \"14\": 3, \"1\": 23, \"5\": 26, \"11\": 5, \"3\": 19, \"7\": 10, \"10\": 5, \"2\": 14, \"13\": 19, \"8\": 10, \"15\": 25, \"4\": 11, \"9\": 12, \"6\": 1}, \"6\": {\"10\": 40, \"14\": 39, \"6\": 55, \"7\": 15, \"11\": 20, \"9\": 8, \"4\": 19, \"2\": 5, \"8\": 21, \"3\": 5, \"0\": 4, \"1\": 2, \"15\": 2, \"13\": 3, \"12\": 1, \"5\": 1}, \"3\": {\"3\": 22, \"13\": 16, \"7\": 13, \"2\": 21, \"5\": 18, \"12\": 22, \"11\": 12, \"4\": 13, \"10\": 15, \"0\": 12, \"8\": 17, \"1\": 22, \"15\": 9, \"9\": 19, \"14\": 6, \"6\": 3}, \"7\": {\"11\": 25, \"4\": 23, \"3\": 15, \"8\": 13, \"10\": 14, \"9\": 24, \"13\": 8, \"14\": 12, \"15\": 17, \"0\": 15, \"6\": 9, \"7\": 16, \"1\": 5, \"12\": 11, \"2\": 21, \"5\": 12}, \"2\": {\"4\": 11, \"12\": 20, \"3\": 20, \"9\": 16, \"8\": 12, \"11\": 29, \"2\": 21, \"5\": 12, \"14\": 3, \"15\": 17, \"13\": 20, \"7\": 18, \"0\": 16, \"1\": 16, \"10\": 7, \"6\": 2}, \"8\": {\"0\": 10, \"1\": 6, \"12\": 9, \"14\": 33, \"2\": 5, \"8\": 35, \"9\": 10, \"6\": 24, \"10\": 23, \"11\": 6, \"5\": 19, \"7\": 21, \"4\": 21, \"15\": 8, \"3\": 8, \"13\": 2}, \"11\": {\"6\": 19, \"0\": 3, \"4\": 7, \"13\": 17, \"9\": 19, \"2\": 12, \"11\": 80, \"7\": 25, \"3\": 12, \"1\": 9, \"10\": 5, \"12\": 8, \"15\": 6, \"8\": 9, \"14\": 7, \"5\": 2}, \"14\": {\"10\": 37, \"6\": 49, \"14\": 45, \"9\": 12, \"8\": 22, \"5\": 5, \"2\": 6, \"11\": 14, \"15\": 3, \"4\": 19, \"3\": 6, \"0\": 4, \"7\": 13, \"13\": 1, \"1\": 2, \"12\": 2}, \"12\": {\"3\": 32, \"0\": 16, \"12\": 16, \"7\": 19, \"9\": 17, \"5\": 23, \"8\": 6, \"15\": 20, \"6\": 3, \"1\": 25, \"13\": 19, \"11\": 9, \"2\": 17, \"4\": 9, \"10\": 7, \"14\": 2}, \"13\": {\"11\": 14, \"9\": 25, \"12\": 22, \"13\": 28, \"2\": 21, \"3\": 16, \"4\": 7, \"7\": 15, \"0\": 10, \"15\": 27, \"5\": 25, \"10\": 2, \"1\": 15, \"14\": 3, \"6\": 3, \"8\": 7}, \"9\": {\"12\": 18, \"7\": 23, \"10\": 9, \"5\": 17, \"3\": 16, \"14\": 3, \"9\": 31, \"8\": 13, \"11\": 15, \"15\": 19, \"2\": 17, \"0\": 14, \"4\": 8, \"13\": 24, \"1\": 9, \"6\": 4}, \"5\": {\"15\": 30, \"4\": 16, \"0\": 27, \"3\": 21, \"13\": 16, \"2\": 20, \"1\": 17, \"8\": 13, \"10\": 8, \"7\": 16, \"5\": 17, \"9\": 19, \"12\": 14, \"14\": 2, \"11\": 2, \"6\": 2}, \"1\": {\"15\": 23, \"12\": 24, \"13\": 28, \"2\": 16, \"11\": 11, \"3\": 21, \"1\": 19, \"7\": 14, \"0\": 21, \"5\": 20, \"9\": 23, \"4\": 13, \"8\": 6, \"10\": 1}}, \"ORACLE.run1_50\": {\"5\": {\"7\": 35, \"3\": 2, \"5\": 42, \"2\": 9, \"13\": 38, \"4\": 20, \"1\": 20, \"8\": 5, \"10\": 16, \"15\": 13, \"6\": 20, \"0\": 5, \"11\": 11, \"9\": 2, \"14\": 2}, \"12\": {\"9\": 41, \"12\": 103, \"11\": 20, \"2\": 8, \"14\": 54, \"0\": 1, \"6\": 2, \"15\": 3, \"10\": 1, \"1\": 3, \"4\": 4}, \"14\": {\"14\": 71, \"11\": 25, \"2\": 17, \"1\": 27, \"12\": 55, \"4\": 8, \"15\": 10, \"6\": 4, \"9\": 15, \"0\": 4, \"7\": 1, \"13\": 1, \"5\": 2}, \"4\": {\"4\": 36, \"13\": 26, \"15\": 36, \"11\": 21, \"9\": 7, \"12\": 3, \"1\": 39, \"7\": 8, \"6\": 30, \"5\": 17, \"14\": 11, \"8\": 1, \"0\": 1, \"10\": 2, \"2\": 2}, \"13\": {\"5\": 39, \"7\": 41, \"6\": 21, \"13\": 48, \"0\": 14, \"10\": 26, \"15\": 4, \"4\": 17, \"1\": 14, \"2\": 12, \"14\": 1, \"11\": 3}, \"10\": {\"7\": 26, \"8\": 32, \"10\": 74, \"0\": 39, \"13\": 17, \"5\": 15, \"3\": 11, \"2\": 23, \"6\": 1, \"14\": 1, \"1\": 1}, \"9\": {\"11\": 47, \"9\": 73, \"1\": 15, \"12\": 55, \"4\": 6, \"14\": 27, \"15\": 15, \"6\": 1, \"2\": 1}, \"15\": {\"12\": 3, \"1\": 32, \"15\": 63, \"11\": 35, \"4\": 33, \"5\": 14, \"9\": 12, \"13\": 6, \"6\": 21, \"7\": 6, \"14\": 15}, \"6\": {\"15\": 22, \"13\": 35, \"11\": 10, \"6\": 35, \"7\": 21, \"4\": 28, \"14\": 11, \"1\": 28, \"5\": 32, \"9\": 4, \"2\": 6, \"0\": 5, \"12\": 1, \"10\": 2}, \"2\": {\"2\": 97, \"5\": 4, \"10\": 32, \"0\": 61, \"13\": 9, \"7\": 5, \"8\": 9, \"14\": 8, \"12\": 6, \"1\": 3, \"6\": 3, \"4\": 2, \"11\": 1}, \"0\": {\"10\": 41, \"2\": 67, \"0\": 72, \"8\": 20, \"6\": 6, \"14\": 4, \"7\": 12, \"5\": 4, \"3\": 4, \"13\": 8, \"15\": 1, \"4\": 1}, \"11\": {\"9\": 57, \"11\": 60, \"1\": 21, \"15\": 35, \"12\": 26, \"14\": 19, \"6\": 8, \"5\": 2, \"4\": 11, \"7\": 1}, \"3\": {\"10\": 17, \"3\": 118, \"8\": 97, \"0\": 5, \"7\": 2, \"5\": 1}, \"8\": {\"3\": 60, \"10\": 42, \"8\": 99, \"2\": 7, \"0\": 28, \"7\": 4}, \"7\": {\"7\": 59, \"13\": 40, \"6\": 26, \"4\": 10, \"10\": 24, \"2\": 9, \"0\": 9, \"15\": 7, \"5\": 39, \"8\": 6, \"3\": 6, \"1\": 5}, \"1\": {\"13\": 14, \"4\": 32, \"1\": 59, \"11\": 24, \"12\": 5, \"15\": 22, \"6\": 18, \"14\": 27, \"5\": 17, \"0\": 5, \"2\": 2, \"7\": 9, \"9\": 6}}, \"ORACLE.run1_26\": {\"7\": {\"7\": 28, \"1\": 22, \"14\": 20, \"5\": 16, \"8\": 12, \"4\": 9, \"6\": 12, \"15\": 15, \"10\": 23, \"13\": 5, \"9\": 14, \"2\": 19, \"12\": 2, \"3\": 16, \"0\": 27}, \"6\": {\"7\": 10, \"10\": 19, \"15\": 27, \"1\": 11, \"4\": 19, \"14\": 6, \"6\": 21, \"8\": 18, \"13\": 23, \"12\": 15, \"5\": 15, \"3\": 7, \"0\": 11, \"9\": 30, \"2\": 8}, \"14\": {\"0\": 22, \"10\": 23, \"8\": 23, \"5\": 9, \"6\": 7, \"3\": 15, \"14\": 27, \"4\": 27, \"15\": 17, \"1\": 26, \"7\": 12, \"13\": 6, \"2\": 15, \"12\": 3, \"9\": 8}, \"15\": {\"13\": 27, \"9\": 13, \"4\": 12, \"15\": 33, \"5\": 12, \"14\": 12, \"10\": 17, \"0\": 16, \"3\": 18, \"2\": 21, \"6\": 21, \"8\": 18, \"7\": 11, \"1\": 6, \"12\": 3}, \"5\": {\"9\": 29, \"15\": 25, \"5\": 36, \"2\": 21, \"13\": 35, \"7\": 9, \"10\": 10, \"14\": 8, \"0\": 8, \"6\": 20, \"3\": 13, \"12\": 4, \"1\": 5, \"11\": 3, \"8\": 9, \"4\": 5}, \"10\": {\"8\": 26, \"14\": 27, \"4\": 28, \"15\": 13, \"10\": 23, \"1\": 19, \"7\": 9, \"0\": 29, \"9\": 14, \"12\": 5, \"2\": 9, \"3\": 17, \"5\": 5, \"6\": 12, \"13\": 4}, \"4\": {\"0\": 21, \"1\": 30, \"8\": 18, \"7\": 11, \"10\": 22, \"3\": 22, \"4\": 30, \"9\": 11, \"15\": 6, \"2\": 7, \"12\": 7, \"14\": 35, \"5\": 3, \"13\": 3, \"6\": 14}, \"11\": {\"11\": 170, \"12\": 54, \"13\": 10, \"5\": 3, \"6\": 2, \"15\": 1}, \"13\": {\"13\": 50, \"15\": 25, \"6\": 27, \"2\": 14, \"9\": 21, \"8\": 10, \"5\": 44, \"10\": 10, \"7\": 3, \"11\": 8, \"4\": 2, \"1\": 4, \"12\": 8, \"0\": 3, \"3\": 6, \"14\": 5}, \"2\": {\"5\": 22, \"2\": 39, \"15\": 14, \"7\": 20, \"1\": 14, \"9\": 13, \"4\": 17, \"13\": 7, \"3\": 27, \"0\": 14, \"14\": 12, \"8\": 15, \"10\": 13, \"6\": 11, \"11\": 2}, \"0\": {\"4\": 25, \"7\": 23, \"1\": 31, \"0\": 29, \"10\": 30, \"15\": 7, \"6\": 10, \"8\": 19, \"5\": 7, \"14\": 24, \"9\": 8, \"3\": 13, \"12\": 1, \"13\": 6, \"2\": 7}, \"12\": {\"12\": 143, \"15\": 9, \"13\": 15, \"11\": 32, \"8\": 5, \"0\": 4, \"6\": 14, \"5\": 7, \"10\": 1, \"9\": 9, \"14\": 1}, \"3\": {\"3\": 36, \"15\": 17, \"7\": 22, \"2\": 29, \"14\": 22, \"10\": 12, \"1\": 21, \"5\": 19, \"4\": 20, \"0\": 13, \"9\": 6, \"6\": 4, \"12\": 1, \"8\": 18}, \"9\": {\"14\": 10, \"15\": 13, \"0\": 16, \"7\": 15, \"9\": 26, \"12\": 16, \"2\": 10, \"4\": 16, \"1\": 16, \"5\": 21, \"10\": 15, \"3\": 10, \"6\": 19, \"8\": 20, \"13\": 16, \"11\": 1}, \"8\": {\"7\": 18, \"15\": 18, \"8\": 22, \"14\": 21, \"4\": 20, \"13\": 7, \"6\": 14, \"5\": 11, \"2\": 14, \"0\": 21, \"3\": 19, \"10\": 26, \"1\": 20, \"9\": 5, \"12\": 4}, \"1\": {\"4\": 25, \"14\": 21, \"10\": 25, \"6\": 13, \"9\": 13, \"3\": 16, \"13\": 2, \"8\": 17, \"1\": 29, \"7\": 18, \"5\": 6, \"2\": 14, \"0\": 27, \"15\": 9, \"12\": 5}}, \"ORACLE.run1_32\": {\"7\": {\"2\": 33, \"14\": 35, \"11\": 35, \"7\": 36, \"4\": 15, \"0\": 22, \"13\": 15, \"5\": 18, \"8\": 24, \"15\": 1, \"3\": 5, \"9\": 1}, \"2\": {\"2\": 63, \"11\": 12, \"8\": 9, \"4\": 33, \"0\": 39, \"14\": 15, \"13\": 8, \"7\": 23, \"9\": 20, \"5\": 16, \"12\": 2}, \"5\": {\"5\": 44, \"0\": 19, \"14\": 16, \"13\": 26, \"7\": 27, \"8\": 33, \"3\": 27, \"15\": 7, \"11\": 15, \"2\": 4, \"4\": 19, \"9\": 2, \"12\": 1}, \"6\": {\"10\": 48, \"6\": 169, \"12\": 14, \"1\": 9}, \"13\": {\"8\": 34, \"3\": 38, \"13\": 33, \"5\": 32, \"0\": 17, \"2\": 8, \"11\": 17, \"7\": 14, \"14\": 14, \"4\": 22, \"15\": 10, \"9\": 1}, \"4\": {\"4\": 44, \"3\": 2, \"2\": 31, \"13\": 17, \"0\": 35, \"8\": 28, \"14\": 18, \"7\": 22, \"11\": 12, \"5\": 22, \"9\": 9}, \"3\": {\"3\": 99, \"15\": 38, \"13\": 18, \"5\": 23, \"7\": 5, \"0\": 2, \"4\": 5, \"8\": 25, \"11\": 17, \"14\": 8}, \"0\": {\"2\": 36, \"11\": 21, \"9\": 9, \"0\": 37, \"8\": 20, \"7\": 29, \"4\": 38, \"13\": 15, \"15\": 1, \"14\": 17, \"5\": 16, \"3\": 1}, \"9\": {\"9\": 163, \"12\": 59, \"2\": 7, \"4\": 5, \"8\": 1, \"0\": 3, \"6\": 1, \"14\": 1}, \"12\": {\"12\": 155, \"10\": 11, \"9\": 67, \"6\": 7}, \"8\": {\"13\": 29, \"8\": 31, \"2\": 15, \"4\": 22, \"15\": 21, \"0\": 21, \"11\": 13, \"14\": 9, \"5\": 30, \"3\": 32, \"7\": 16, \"9\": 1}, \"14\": {\"7\": 29, \"11\": 56, \"14\": 54, \"0\": 21, \"5\": 16, \"2\": 10, \"4\": 11, \"3\": 15, \"8\": 11, \"13\": 14, \"9\": 3}, \"15\": {\"3\": 40, \"15\": 145, \"5\": 15, \"0\": 3, \"13\": 15, \"8\": 15, \"4\": 4, \"2\": 1, \"11\": 1, \"14\": 1}, \"11\": {\"11\": 93, \"14\": 56, \"7\": 28, \"3\": 16, \"4\": 9, \"13\": 5, \"2\": 11, \"5\": 7, \"0\": 11, \"8\": 4}, \"10\": {\"1\": 26, \"10\": 151, \"6\": 54, \"12\": 9}, \"1\": {\"1\": 165, \"6\": 23, \"10\": 52}}, \"ORACLE.run1_44\": {\"11\": {\"13\": 53, \"4\": 5, \"11\": 66, \"6\": 31, \"9\": 32, \"3\": 3, \"7\": 20, \"10\": 5, \"14\": 5, \"1\": 5, \"2\": 15}, \"7\": {\"13\": 33, \"10\": 16, \"6\": 24, \"3\": 18, \"1\": 12, \"7\": 35, \"12\": 13, \"11\": 20, \"9\": 35, \"2\": 24, \"4\": 8, \"14\": 2}, \"6\": {\"11\": 48, \"13\": 31, \"10\": 5, \"7\": 32, \"6\": 58, \"9\": 34, \"2\": 27, \"3\": 2, \"12\": 1, \"4\": 1, \"1\": 1}, \"12\": {\"1\": 53, \"12\": 78, \"9\": 3, \"3\": 23, \"10\": 48, \"7\": 16, \"2\": 19}, \"4\": {\"4\": 91, \"14\": 65, \"5\": 25, \"15\": 23, \"9\": 10, \"6\": 2, \"3\": 5, \"11\": 3, \"13\": 12, \"2\": 2, \"0\": 2}, \"13\": {\"7\": 26, \"6\": 38, \"9\": 35, \"2\": 8, \"10\": 3, \"11\": 50, \"13\": 54, \"14\": 3, \"5\": 1, \"4\": 12, \"3\": 7, \"1\": 3}, \"8\": {\"8\": 94, \"0\": 83, \"15\": 34, \"5\": 26, \"14\": 3}, \"5\": {\"15\": 30, \"4\": 25, \"5\": 81, \"0\": 49, \"8\": 22, \"14\": 32, \"13\": 1}, \"14\": {\"0\": 10, \"4\": 70, \"14\": 74, \"15\": 32, \"5\": 32, \"1\": 1, \"2\": 1, \"11\": 2, \"9\": 4, \"8\": 4, \"13\": 7, \"7\": 3}, \"3\": {\"7\": 21, \"3\": 77, \"1\": 51, \"10\": 11, \"12\": 35, \"13\": 3, \"9\": 13, \"2\": 18, \"4\": 7, \"11\": 2, \"14\": 2}, \"10\": {\"10\": 82, \"12\": 47, \"1\": 23, \"2\": 42, \"7\": 20, \"3\": 8, \"11\": 3, \"9\": 8, \"6\": 6, \"13\": 1}, \"1\": {\"10\": 38, \"2\": 21, \"12\": 52, \"1\": 58, \"7\": 19, \"3\": 40, \"9\": 8, \"13\": 4}, \"2\": {\"10\": 44, \"7\": 34, \"12\": 17, \"2\": 45, \"6\": 16, \"11\": 12, \"3\": 14, \"1\": 27, \"9\": 22, \"13\": 7, \"4\": 2}, \"15\": {\"5\": 46, \"0\": 38, \"8\": 37, \"15\": 68, \"14\": 33, \"4\": 17, \"3\": 1}, \"9\": {\"9\": 48, \"13\": 42, \"1\": 8, \"11\": 28, \"7\": 29, \"3\": 17, \"2\": 14, \"6\": 26, \"10\": 9, \"14\": 4, \"4\": 11, \"12\": 4}, \"0\": {\"0\": 68, \"8\": 64, \"15\": 48, \"5\": 46, \"14\": 12, \"4\": 2}}, \"ORACLE.run1_8\": {\"10\": {\"1\": 20, \"5\": 29, \"4\": 20, \"10\": 42, \"6\": 21, \"0\": 22, \"13\": 27, \"7\": 15, \"11\": 17, \"8\": 5, \"14\": 19, \"9\": 1, \"3\": 1, \"15\": 1}, \"6\": {\"13\": 26, \"15\": 5, \"0\": 22, \"4\": 18, \"7\": 22, \"2\": 14, \"8\": 15, \"6\": 32, \"3\": 6, \"11\": 17, \"10\": 11, \"12\": 5, \"1\": 17, \"14\": 17, \"5\": 13}, \"13\": {\"4\": 27, \"13\": 34, \"14\": 22, \"1\": 13, \"6\": 24, \"0\": 27, \"8\": 6, \"11\": 15, \"7\": 21, \"5\": 19, \"2\": 7, \"10\": 19, \"15\": 3, \"12\": 2, \"3\": 1}, \"3\": {\"2\": 49, \"12\": 42, \"8\": 22, \"15\": 36, \"13\": 2, \"3\": 54, \"6\": 14, \"4\": 5, \"14\": 1, \"7\": 10, \"0\": 4, \"10\": 1}, \"9\": {\"9\": 224, \"5\": 11, \"10\": 5}, \"1\": {\"14\": 21, \"1\": 36, \"6\": 18, \"0\": 18, \"13\": 13, \"5\": 26, \"10\": 20, \"11\": 35, \"7\": 9, \"4\": 23, \"2\": 1, \"12\": 2, \"8\": 15, \"15\": 3}, \"5\": {\"10\": 35, \"13\": 27, \"0\": 15, \"5\": 48, \"11\": 23, \"6\": 11, \"4\": 30, \"14\": 28, \"7\": 5, \"1\": 14, \"8\": 1, \"9\": 2, \"2\": 1}, \"11\": {\"13\": 17, \"14\": 17, \"1\": 46, \"4\": 26, \"11\": 44, \"0\": 13, \"5\": 12, \"8\": 24, \"6\": 13, \"15\": 5, \"3\": 1, \"10\": 10, \"2\": 2, \"7\": 9, \"12\": 1}, \"4\": {\"6\": 21, \"15\": 7, \"4\": 27, \"14\": 25, \"11\": 20, \"0\": 28, \"2\": 6, \"5\": 15, \"13\": 17, \"7\": 21, \"10\": 20, \"12\": 3, \"1\": 20, \"8\": 9, \"3\": 1}, \"14\": {\"6\": 17, \"8\": 4, \"5\": 23, \"14\": 29, \"0\": 26, \"13\": 20, \"11\": 22, \"10\": 24, \"15\": 5, \"7\": 18, \"4\": 23, \"12\": 4, \"1\": 23, \"3\": 1, \"2\": 1}, \"12\": {\"12\": 66, \"8\": 32, \"15\": 54, \"6\": 6, \"7\": 6, \"2\": 16, \"4\": 1, \"3\": 45, \"13\": 2, \"11\": 4, \"1\": 5, \"14\": 2, \"10\": 1}, \"7\": {\"5\": 9, \"10\": 10, \"7\": 38, \"6\": 26, \"4\": 22, \"2\": 15, \"0\": 32, \"8\": 14, \"13\": 19, \"1\": 11, \"12\": 4, \"11\": 9, \"15\": 10, \"14\": 13, \"3\": 8}, \"0\": {\"13\": 33, \"14\": 26, \"0\": 39, \"6\": 22, \"1\": 14, \"4\": 31, \"7\": 17, \"10\": 25, \"5\": 15, \"2\": 10, \"15\": 3, \"11\": 5}, \"15\": {\"7\": 19, \"3\": 25, \"15\": 49, \"12\": 47, \"11\": 7, \"6\": 9, \"8\": 34, \"4\": 9, \"5\": 2, \"2\": 28, \"13\": 2, \"0\": 3, \"14\": 2, \"1\": 2, \"10\": 2}, \"2\": {\"12\": 25, \"7\": 23, \"15\": 30, \"3\": 41, \"8\": 22, \"2\": 54, \"14\": 4, \"6\": 8, \"4\": 6, \"1\": 3, \"10\": 2, \"0\": 9, \"13\": 12, \"11\": 1}, \"8\": {\"4\": 13, \"10\": 2, \"11\": 23, \"15\": 39, \"8\": 42, \"3\": 17, \"12\": 30, \"7\": 11, \"6\": 16, \"1\": 13, \"14\": 3, \"0\": 3, \"2\": 16, \"5\": 4, \"13\": 8}}, \"ORACLE.run1_38\": {\"4\": {\"7\": 19, \"4\": 128, \"12\": 74, \"0\": 10, \"14\": 2, \"8\": 4, \"11\": 1, \"10\": 1, \"5\": 1}, \"7\": {\"0\": 41, \"5\": 27, \"8\": 22, \"7\": 72, \"15\": 7, \"9\": 16, \"3\": 22, \"1\": 1, \"6\": 11, \"12\": 7, \"4\": 7, \"10\": 7}, \"12\": {\"10\": 7, \"7\": 6, \"12\": 119, \"4\": 72, \"0\": 12, \"14\": 12, \"8\": 5, \"15\": 2, \"11\": 4, \"5\": 1}, \"10\": {\"3\": 5, \"15\": 20, \"12\": 10, \"10\": 34, \"8\": 25, \"11\": 21, \"14\": 24, \"7\": 19, \"2\": 8, \"5\": 25, \"0\": 23, \"13\": 11, \"6\": 5, \"1\": 8, \"4\": 2}, \"0\": {\"8\": 33, \"3\": 25, \"10\": 18, \"14\": 6, \"6\": 16, \"7\": 40, \"0\": 42, \"4\": 7, \"13\": 2, \"12\": 16, \"9\": 5, \"5\": 23, \"11\": 1, \"15\": 6}, \"1\": {\"13\": 29, \"1\": 80, \"2\": 8, \"15\": 43, \"6\": 21, \"9\": 18, \"5\": 17, \"0\": 3, \"8\": 5, \"10\": 12, \"14\": 2, \"3\": 1, \"7\": 1}, \"5\": {\"10\": 15, \"2\": 3, \"6\": 36, \"9\": 29, \"0\": 28, \"7\": 28, \"5\": 28, \"1\": 7, \"8\": 32, \"3\": 8, \"15\": 12, \"11\": 5, \"13\": 7, \"12\": 1, \"14\": 1}, \"15\": {\"1\": 34, \"8\": 20, \"10\": 22, \"13\": 29, \"15\": 65, \"6\": 10, \"9\": 7, \"2\": 19, \"0\": 7, \"5\": 14, \"7\": 1, \"11\": 3, \"14\": 8, \"12\": 1}, \"9\": {\"9\": 78, \"15\": 5, \"1\": 13, \"3\": 29, \"8\": 12, \"0\": 6, \"6\": 57, \"5\": 20, \"7\": 14, \"13\": 4, \"10\": 2}, \"11\": {\"11\": 69, \"14\": 83, \"10\": 25, \"8\": 5, \"0\": 4, \"2\": 18, \"5\": 4, \"13\": 6, \"12\": 5, \"15\": 10, \"7\": 2, \"4\": 4, \"1\": 5}, \"14\": {\"11\": 55, \"14\": 95, \"0\": 8, \"15\": 7, \"2\": 31, \"10\": 24, \"13\": 2, \"5\": 3, \"1\": 7, \"12\": 4, \"8\": 4}, \"6\": {\"13\": 6, \"9\": 81, \"6\": 64, \"7\": 11, \"5\": 17, \"3\": 17, \"8\": 12, \"15\": 11, \"10\": 4, \"0\": 10, \"1\": 7}, \"8\": {\"4\": 3, \"9\": 8, \"8\": 56, \"3\": 10, \"0\": 28, \"10\": 28, \"5\": 23, \"13\": 5, \"12\": 5, \"11\": 3, \"1\": 10, \"7\": 20, \"6\": 17, \"15\": 16, \"2\": 4, \"14\": 4}, \"3\": {\"3\": 115, \"7\": 29, \"6\": 11, \"0\": 22, \"9\": 32, \"8\": 10, \"1\": 2, \"5\": 8, \"15\": 3, \"10\": 4, \"4\": 1, \"12\": 3}, \"2\": {\"1\": 24, \"2\": 92, \"11\": 32, \"13\": 32, \"15\": 26, \"14\": 20, \"5\": 3, \"10\": 10, \"0\": 1}, \"13\": {\"1\": 60, \"7\": 1, \"13\": 40, \"9\": 6, \"8\": 5, \"2\": 31, \"10\": 15, \"15\": 47, \"5\": 12, \"14\": 12, \"11\": 3, \"6\": 6, \"0\": 2}}}, \"per_domain_accuracy\": {\"CORES_4\": {\"accuracy\": 0.9986901197604791, \"source?\": true}, \"CORES_5\": {\"accuracy\": 0.9996508379888268, \"source?\": true}, \"CORES_2\": {\"accuracy\": 0.9996428571428572, \"source?\": true}, \"CORES_1\": {\"accuracy\": 1.0, \"source?\": true}, \"CORES_3\": {\"accuracy\": 0.9988970588235294, \"source?\": true}, \"ORACLE.run1_14\": {\"accuracy\": 0.2765625, \"source?\": false}, \"ORACLE.run1_20\": {\"accuracy\": 0.13541666666666666, \"source?\": false}, \"ORACLE.run1_50\": {\"accuracy\": 0.28880208333333335, \"source?\": false}, \"ORACLE.run1_26\": {\"accuracy\": 0.19322916666666667, \"source?\": false}, \"ORACLE.run1_32\": {\"accuracy\": 0.3859375, \"source?\": false}, \"ORACLE.run1_44\": {\"accuracy\": 0.28046875, \"source?\": false}, \"ORACLE.run1_8\": {\"accuracy\": 0.2234375, \"source?\": false}, \"ORACLE.run1_38\": {\"accuracy\": 0.3065104166666667, \"source?\": false}}}, \"history\": {\"epoch_indices\": [1, 2, 3, 4, 5, 6, 7], \"train_label_loss\": [0.02499479584335536, 0.006677153839069744, 0.004666039392861062, 0.0036045054396734865, 0.0027973093977138605, 0.0028781815182938064, 0.002218368338017866], \"source_val_label_loss\": [0.008161576464772224, 0.011500314809381962, 0.009031277149915695, 0.012437914498150349, 0.011420952156186104, 0.007976316846907139, 0.008680688217282295], \"target_val_label_loss\": [2.419637680053711, 2.7325711250305176, 2.498959541320801, 3.343792200088501, 2.8708384037017822, 3.047954797744751, 3.361981153488159], \"source_val_acc_label\": [0.9982142857142857, 0.9985714285714286, 0.9993928571428572, 0.9988214285714285, 0.9991428571428571, 0.9993928571428572, 0.9993571428571428], \"target_val_acc_label\": [0.19586588541666666, 0.19837239583333333, 0.26129557291666666, 0.20891927083333334, 0.24583333333333332, 0.23626302083333334, 0.22819010416666666]}, \"dataset_metrics\": {\"source\": {\"train\": {\"n_unique_x\": 175174, \"n_unique_y\": 58, \"n_batch/episode\": 6293}, \"val\": {\"n_unique_x\": 37216, \"n_unique_y\": 58, \"n_batch/episode\": 875}, \"test\": {\"n_unique_x\": 37596, \"n_unique_y\": 58, \"n_batch/episode\": 886}}, \"target\": {\"train\": {\"n_unique_x\": 179200, \"n_unique_y\": 16, \"n_batch/episode\": 6720}, \"val\": {\"n_unique_x\": 38400, \"n_unique_y\": 16, \"n_batch/episode\": 960}, \"test\": {\"n_unique_x\": 38400, \"n_unique_y\": 16, \"n_batch/episode\": 960}}}}'"
      ]
     },
     "execution_count": 29,
     "metadata": {},
     "output_type": "execute_result"
    }
   ],
   "source": [
    "json.dumps(experiment)"
   ]
  }
 ],
 "metadata": {
  "celltoolbar": "Tags",
  "kernelspec": {
   "display_name": "Python 3 (ipykernel)",
   "language": "python",
   "name": "python3"
  },
  "language_info": {
   "codemirror_mode": {
    "name": "ipython",
    "version": 3
   },
   "file_extension": ".py",
   "mimetype": "text/x-python",
   "name": "python",
   "nbconvert_exporter": "python",
   "pygments_lexer": "ipython3",
   "version": "3.8.12"
  },
  "papermill": {
   "default_parameters": {},
   "duration": 2057.830609,
   "end_time": "2022-03-21T06:19:13.422712",
   "environment_variables": {},
   "exception": null,
   "input_path": "/root/csc500-main/csc500-notebooks/templates/tl_ptn_template.ipynb",
   "output_path": "trial.ipynb",
   "parameters": {
    "parameters": {
     "BEST_MODEL_PATH": "./best_model.pth",
     "NUM_LOGS_PER_EPOCH": 10,
     "criteria_for_best": "target_accuracy",
     "dataset_seed": 420,
     "datasets": [
      {
       "domain_prefix": "CORES_",
       "domains": [
        1,
        2,
        3,
        4,
        5
       ],
       "episode_transforms": [],
       "labels": [
        "1-10.",
        "1-11.",
        "1-15.",
        "1-16.",
        "1-17.",
        "1-18.",
        "1-19.",
        "10-4.",
        "10-7.",
        "11-1.",
        "11-14.",
        "11-17.",
        "11-20.",
        "11-7.",
        "13-20.",
        "13-8.",
        "14-10.",
        "14-11.",
        "14-14.",
        "14-7.",
        "15-1.",
        "15-20.",
        "16-1.",
        "16-16.",
        "17-10.",
        "17-11.",
        "17-2.",
        "19-1.",
        "19-16.",
        "19-19.",
        "19-20.",
        "19-3.",
        "2-10.",
        "2-11.",
        "2-17.",
        "2-18.",
        "2-20.",
        "2-3.",
        "2-4.",
        "2-5.",
        "2-6.",
        "2-7.",
        "2-8.",
        "3-13.",
        "3-18.",
        "3-3.",
        "4-1.",
        "4-10.",
        "4-11.",
        "4-19.",
        "5-5.",
        "6-15.",
        "7-10.",
        "7-14.",
        "8-18.",
        "8-20.",
        "8-3.",
        "8-8."
       ],
       "num_examples_per_domain_per_label": -1,
       "pickle_path": "/root/csc500-main/datasets/cores.stratified_ds.2022A.pkl",
       "source_or_target_dataset": "source",
       "x_transforms": [
        "unit_power"
       ]
      },
      {
       "domain_prefix": "ORACLE.run1_",
       "domains": [
        32,
        38,
        8,
        44,
        14,
        50,
        20,
        26
       ],
       "episode_transforms": [],
       "labels": [
        "3123D52",
        "3123D65",
        "3123D79",
        "3123D80",
        "3123D54",
        "3123D70",
        "3123D7B",
        "3123D89",
        "3123D58",
        "3123D76",
        "3123D7D",
        "3123EFE",
        "3123D64",
        "3123D78",
        "3123D7E",
        "3124E4A"
       ],
       "num_examples_per_domain_per_label": 2000,
       "pickle_path": "/root/csc500-main/datasets/oracle.Run1_framed_2000Examples_stratified_ds.2022A.pkl",
       "source_or_target_dataset": "target",
       "x_transforms": [
        "unit_power"
       ]
      }
     ],
     "device": "cuda",
     "experiment_name": "tl_1v2:cores-oracle.run1.framed",
     "lr": 0.0001,
     "n_epoch": 50,
     "n_query": 2,
     "n_shot": 3,
     "n_way": 16,
     "patience": 3,
     "seed": 420,
     "test_k_factor": 2,
     "torch_default_dtype": "torch.float32",
     "train_k_factor": 3,
     "val_k_factor": 2,
     "x_net": [
      {
       "class": "nnReshape",
       "kargs": {
        "shape": [
         -1,
         1,
         2,
         256
        ]
       }
      },
      {
       "class": "Conv2d",
       "kargs": {
        "bias": false,
        "in_channels": 1,
        "kernel_size": [
         1,
         7
        ],
        "out_channels": 256,
        "padding": [
         0,
         3
        ]
       }
      },
      {
       "class": "ReLU",
       "kargs": {
        "inplace": true
       }
      },
      {
       "class": "BatchNorm2d",
       "kargs": {
        "num_features": 256
       }
      },
      {
       "class": "Conv2d",
       "kargs": {
        "bias": true,
        "in_channels": 256,
        "kernel_size": [
         2,
         7
        ],
        "out_channels": 80,
        "padding": [
         0,
         3
        ]
       }
      },
      {
       "class": "ReLU",
       "kargs": {
        "inplace": true
       }
      },
      {
       "class": "BatchNorm2d",
       "kargs": {
        "num_features": 80
       }
      },
      {
       "class": "Flatten",
       "kargs": {}
      },
      {
       "class": "Linear",
       "kargs": {
        "in_features": 20480,
        "out_features": 256
       }
      },
      {
       "class": "ReLU",
       "kargs": {
        "inplace": true
       }
      },
      {
       "class": "BatchNorm1d",
       "kargs": {
        "num_features": 256
       }
      },
      {
       "class": "Linear",
       "kargs": {
        "in_features": 256,
        "out_features": 256
       }
      }
     ]
    }
   },
   "start_time": "2022-03-21T05:44:55.592103",
   "version": "2.3.4"
  }
 },
 "nbformat": 4,
 "nbformat_minor": 5
}