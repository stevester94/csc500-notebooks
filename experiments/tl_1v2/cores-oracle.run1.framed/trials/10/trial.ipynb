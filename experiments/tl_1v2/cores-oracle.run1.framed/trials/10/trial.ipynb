{
 "cells": [
  {
   "cell_type": "markdown",
   "id": "9fea5f46",
   "metadata": {
    "papermill": {
     "duration": 0.044792,
     "end_time": "2022-03-21T07:48:10.020810",
     "exception": false,
     "start_time": "2022-03-21T07:48:09.976018",
     "status": "completed"
    },
    "tags": []
   },
   "source": [
    "# Transfer Learning Template"
   ]
  },
  {
   "cell_type": "code",
   "execution_count": 1,
   "id": "0902182a",
   "metadata": {
    "execution": {
     "iopub.execute_input": "2022-03-21T07:48:10.091631Z",
     "iopub.status.busy": "2022-03-21T07:48:10.078284Z",
     "iopub.status.idle": "2022-03-21T07:48:11.926672Z",
     "shell.execute_reply": "2022-03-21T07:48:11.925776Z"
    },
    "papermill": {
     "duration": 1.881044,
     "end_time": "2022-03-21T07:48:11.926872",
     "exception": false,
     "start_time": "2022-03-21T07:48:10.045828",
     "status": "completed"
    },
    "tags": []
   },
   "outputs": [],
   "source": [
    "%load_ext autoreload\n",
    "%autoreload 2\n",
    "%matplotlib inline\n",
    "\n",
    "    \n",
    "import os, json, sys, time, random\n",
    "import numpy as np\n",
    "import torch\n",
    "from torch.optim import Adam\n",
    "from  easydict import EasyDict\n",
    "import matplotlib.pyplot as plt\n",
    "\n",
    "from steves_models.steves_ptn import Steves_Prototypical_Network\n",
    "\n",
    "from steves_utils.lazy_iterable_wrapper import Lazy_Iterable_Wrapper\n",
    "from steves_utils.iterable_aggregator import Iterable_Aggregator\n",
    "from steves_utils.ptn_train_eval_test_jig import  PTN_Train_Eval_Test_Jig\n",
    "from steves_utils.torch_sequential_builder import build_sequential\n",
    "from steves_utils.torch_utils import get_dataset_metrics, ptn_confusion_by_domain_over_dataloader\n",
    "from steves_utils.utils_v2 import (per_domain_accuracy_from_confusion, get_datasets_base_path)\n",
    "from steves_utils.PTN.utils import independent_accuracy_assesment\n",
    "\n",
    "from torch.utils.data import DataLoader\n",
    "\n",
    "from steves_utils.stratified_dataset.episodic_accessor import Episodic_Accessor_Factory\n",
    "\n",
    "from steves_utils.ptn_do_report import (\n",
    "    get_loss_curve,\n",
    "    get_results_table,\n",
    "    get_parameters_table,\n",
    "    get_domain_accuracies,\n",
    ")\n",
    "\n",
    "from steves_utils.transforms import get_chained_transform"
   ]
  },
  {
   "cell_type": "markdown",
   "id": "41c840b4",
   "metadata": {
    "papermill": {
     "duration": 0.019691,
     "end_time": "2022-03-21T07:48:11.971660",
     "exception": false,
     "start_time": "2022-03-21T07:48:11.951969",
     "status": "completed"
    },
    "tags": []
   },
   "source": [
    "# Allowed Parameters\n",
    "These are allowed parameters, not defaults\n",
    "Each of these values need to be present in the injected parameters (the notebook will raise an exception if they are not present)\n",
    "\n",
    "Papermill uses the cell tag \"parameters\" to inject the real parameters below this cell.\n",
    "Enable tags to see what I mean"
   ]
  },
  {
   "cell_type": "code",
   "execution_count": 2,
   "id": "fd44eb83",
   "metadata": {
    "execution": {
     "iopub.execute_input": "2022-03-21T07:48:12.015940Z",
     "iopub.status.busy": "2022-03-21T07:48:12.015130Z",
     "iopub.status.idle": "2022-03-21T07:48:12.036008Z",
     "shell.execute_reply": "2022-03-21T07:48:12.036697Z"
    },
    "papermill": {
     "duration": 0.045998,
     "end_time": "2022-03-21T07:48:12.036932",
     "exception": false,
     "start_time": "2022-03-21T07:48:11.990934",
     "status": "completed"
    },
    "tags": []
   },
   "outputs": [],
   "source": [
    "required_parameters = {\n",
    "    \"experiment_name\",\n",
    "    \"lr\",\n",
    "    \"device\",\n",
    "    \"seed\",\n",
    "    \"dataset_seed\",\n",
    "    \"n_shot\",\n",
    "    \"n_query\",\n",
    "    \"n_way\",\n",
    "    \"train_k_factor\",\n",
    "    \"val_k_factor\",\n",
    "    \"test_k_factor\",\n",
    "    \"n_epoch\",\n",
    "    \"patience\",\n",
    "    \"criteria_for_best\",\n",
    "    \"x_net\",\n",
    "    \"datasets\",\n",
    "    \"torch_default_dtype\",\n",
    "    \"NUM_LOGS_PER_EPOCH\",\n",
    "    \"BEST_MODEL_PATH\",\n",
    "    \"x_shape\",\n",
    "}"
   ]
  },
  {
   "cell_type": "code",
   "execution_count": 3,
   "id": "fa3f0049",
   "metadata": {
    "execution": {
     "iopub.execute_input": "2022-03-21T07:48:12.093330Z",
     "iopub.status.busy": "2022-03-21T07:48:12.090482Z",
     "iopub.status.idle": "2022-03-21T07:48:12.113269Z",
     "shell.execute_reply": "2022-03-21T07:48:12.112493Z"
    },
    "papermill": {
     "duration": 0.049516,
     "end_time": "2022-03-21T07:48:12.113449",
     "exception": false,
     "start_time": "2022-03-21T07:48:12.063933",
     "status": "completed"
    },
    "tags": [
     "parameters"
    ]
   },
   "outputs": [],
   "source": [
    "from steves_utils.CORES.utils import (\n",
    "    ALL_NODES,\n",
    "    ALL_NODES_MINIMUM_1000_EXAMPLES,\n",
    "    ALL_DAYS\n",
    ")\n",
    "\n",
    "from steves_utils.ORACLE.utils_v2 import (\n",
    "    ALL_DISTANCES_FEET_NARROWED,\n",
    "    ALL_RUNS,\n",
    "    ALL_SERIAL_NUMBERS,\n",
    ")\n",
    "\n",
    "standalone_parameters = {}\n",
    "standalone_parameters[\"experiment_name\"] = \"STANDALONE PTN\"\n",
    "standalone_parameters[\"lr\"] = 0.001\n",
    "standalone_parameters[\"device\"] = \"cuda\"\n",
    "\n",
    "standalone_parameters[\"seed\"] = 1337\n",
    "standalone_parameters[\"dataset_seed\"] = 1337\n",
    "\n",
    "standalone_parameters[\"n_way\"] = 8\n",
    "standalone_parameters[\"n_shot\"] = 3\n",
    "standalone_parameters[\"n_query\"]  = 2\n",
    "standalone_parameters[\"train_k_factor\"] = 1\n",
    "standalone_parameters[\"val_k_factor\"] = 2\n",
    "standalone_parameters[\"test_k_factor\"] = 2\n",
    "\n",
    "\n",
    "standalone_parameters[\"n_epoch\"] = 50\n",
    "\n",
    "standalone_parameters[\"patience\"] = 10\n",
    "standalone_parameters[\"criteria_for_best\"] = \"source_loss\"\n",
    "\n",
    "standalone_parameters[\"datasets\"] = [\n",
    "    {\n",
    "        \"labels\": ALL_SERIAL_NUMBERS,\n",
    "        \"domains\": ALL_DISTANCES_FEET_NARROWED,\n",
    "        \"num_examples_per_domain_per_label\": 100,\n",
    "        \"pickle_path\": os.path.join(get_datasets_base_path(), \"oracle.Run1_framed_2000Examples_stratified_ds.2022A.pkl\"),\n",
    "        \"source_or_target_dataset\": \"source\",\n",
    "        \"x_transforms\": [\"unit_mag\", \"minus_two\"],\n",
    "        \"episode_transforms\": [],\n",
    "        \"domain_prefix\": \"ORACLE_\"\n",
    "    },\n",
    "    {\n",
    "        \"labels\": ALL_NODES,\n",
    "        \"domains\": ALL_DAYS,\n",
    "        \"num_examples_per_domain_per_label\": 100,\n",
    "        \"pickle_path\": os.path.join(get_datasets_base_path(), \"cores.stratified_ds.2022A.pkl\"),\n",
    "        \"source_or_target_dataset\": \"target\",\n",
    "        \"x_transforms\": [\"unit_power\", \"times_zero\"],\n",
    "        \"episode_transforms\": [],\n",
    "        \"domain_prefix\": \"CORES_\"\n",
    "    }   \n",
    "]\n",
    "\n",
    "standalone_parameters[\"torch_default_dtype\"] = \"torch.float32\" \n",
    "\n",
    "\n",
    "\n",
    "standalone_parameters[\"x_net\"] =     [\n",
    "    {\"class\": \"nnReshape\", \"kargs\": {\"shape\":[-1, 1, 2, 256]}},\n",
    "    {\"class\": \"Conv2d\", \"kargs\": { \"in_channels\":1, \"out_channels\":256, \"kernel_size\":(1,7), \"bias\":False, \"padding\":(0,3), },},\n",
    "    {\"class\": \"ReLU\", \"kargs\": {\"inplace\": True}},\n",
    "    {\"class\": \"BatchNorm2d\", \"kargs\": {\"num_features\":256}},\n",
    "\n",
    "    {\"class\": \"Conv2d\", \"kargs\": { \"in_channels\":256, \"out_channels\":80, \"kernel_size\":(2,7), \"bias\":True, \"padding\":(0,3), },},\n",
    "    {\"class\": \"ReLU\", \"kargs\": {\"inplace\": True}},\n",
    "    {\"class\": \"BatchNorm2d\", \"kargs\": {\"num_features\":80}},\n",
    "    {\"class\": \"Flatten\", \"kargs\": {}},\n",
    "\n",
    "    {\"class\": \"Linear\", \"kargs\": {\"in_features\": 80*256, \"out_features\": 256}}, # 80 units per IQ pair\n",
    "    {\"class\": \"ReLU\", \"kargs\": {\"inplace\": True}},\n",
    "    {\"class\": \"BatchNorm1d\", \"kargs\": {\"num_features\":256}},\n",
    "\n",
    "    {\"class\": \"Linear\", \"kargs\": {\"in_features\": 256, \"out_features\": 256}},\n",
    "]\n",
    "\n",
    "# Parameters relevant to results\n",
    "# These parameters will basically never need to change\n",
    "standalone_parameters[\"NUM_LOGS_PER_EPOCH\"] = 10\n",
    "standalone_parameters[\"BEST_MODEL_PATH\"] = \"./best_model.pth\"\n",
    "\n",
    "\n",
    "\n",
    "\n"
   ]
  },
  {
   "cell_type": "code",
   "execution_count": 4,
   "id": "75e1e0f9",
   "metadata": {
    "execution": {
     "iopub.execute_input": "2022-03-21T07:48:12.172318Z",
     "iopub.status.busy": "2022-03-21T07:48:12.170450Z",
     "iopub.status.idle": "2022-03-21T07:48:12.192154Z",
     "shell.execute_reply": "2022-03-21T07:48:12.191317Z"
    },
    "papermill": {
     "duration": 0.055158,
     "end_time": "2022-03-21T07:48:12.192334",
     "exception": false,
     "start_time": "2022-03-21T07:48:12.137176",
     "status": "completed"
    },
    "tags": [
     "injected-parameters"
    ]
   },
   "outputs": [],
   "source": [
    "# Parameters\n",
    "parameters = {\n",
    "    \"experiment_name\": \"tl_1v2:cores-oracle.run1.framed\",\n",
    "    \"device\": \"cuda\",\n",
    "    \"lr\": 0.0001,\n",
    "    \"n_shot\": 3,\n",
    "    \"n_query\": 2,\n",
    "    \"train_k_factor\": 3,\n",
    "    \"val_k_factor\": 2,\n",
    "    \"test_k_factor\": 2,\n",
    "    \"torch_default_dtype\": \"torch.float32\",\n",
    "    \"n_epoch\": 50,\n",
    "    \"patience\": 3,\n",
    "    \"criteria_for_best\": \"target_accuracy\",\n",
    "    \"x_net\": [\n",
    "        {\"class\": \"nnReshape\", \"kargs\": {\"shape\": [-1, 1, 2, 256]}},\n",
    "        {\n",
    "            \"class\": \"Conv2d\",\n",
    "            \"kargs\": {\n",
    "                \"in_channels\": 1,\n",
    "                \"out_channels\": 256,\n",
    "                \"kernel_size\": [1, 7],\n",
    "                \"bias\": False,\n",
    "                \"padding\": [0, 3],\n",
    "            },\n",
    "        },\n",
    "        {\"class\": \"ReLU\", \"kargs\": {\"inplace\": True}},\n",
    "        {\"class\": \"BatchNorm2d\", \"kargs\": {\"num_features\": 256}},\n",
    "        {\n",
    "            \"class\": \"Conv2d\",\n",
    "            \"kargs\": {\n",
    "                \"in_channels\": 256,\n",
    "                \"out_channels\": 80,\n",
    "                \"kernel_size\": [2, 7],\n",
    "                \"bias\": True,\n",
    "                \"padding\": [0, 3],\n",
    "            },\n",
    "        },\n",
    "        {\"class\": \"ReLU\", \"kargs\": {\"inplace\": True}},\n",
    "        {\"class\": \"BatchNorm2d\", \"kargs\": {\"num_features\": 80}},\n",
    "        {\"class\": \"Flatten\", \"kargs\": {}},\n",
    "        {\"class\": \"Linear\", \"kargs\": {\"in_features\": 20480, \"out_features\": 256}},\n",
    "        {\"class\": \"ReLU\", \"kargs\": {\"inplace\": True}},\n",
    "        {\"class\": \"BatchNorm1d\", \"kargs\": {\"num_features\": 256}},\n",
    "        {\"class\": \"Linear\", \"kargs\": {\"in_features\": 256, \"out_features\": 256}},\n",
    "    ],\n",
    "    \"NUM_LOGS_PER_EPOCH\": 10,\n",
    "    \"BEST_MODEL_PATH\": \"./best_model.pth\",\n",
    "    \"n_way\": 16,\n",
    "    \"datasets\": [\n",
    "        {\n",
    "            \"labels\": [\n",
    "                \"1-10.\",\n",
    "                \"1-11.\",\n",
    "                \"1-15.\",\n",
    "                \"1-16.\",\n",
    "                \"1-17.\",\n",
    "                \"1-18.\",\n",
    "                \"1-19.\",\n",
    "                \"10-4.\",\n",
    "                \"10-7.\",\n",
    "                \"11-1.\",\n",
    "                \"11-14.\",\n",
    "                \"11-17.\",\n",
    "                \"11-20.\",\n",
    "                \"11-7.\",\n",
    "                \"13-20.\",\n",
    "                \"13-8.\",\n",
    "                \"14-10.\",\n",
    "                \"14-11.\",\n",
    "                \"14-14.\",\n",
    "                \"14-7.\",\n",
    "                \"15-1.\",\n",
    "                \"15-20.\",\n",
    "                \"16-1.\",\n",
    "                \"16-16.\",\n",
    "                \"17-10.\",\n",
    "                \"17-11.\",\n",
    "                \"17-2.\",\n",
    "                \"19-1.\",\n",
    "                \"19-16.\",\n",
    "                \"19-19.\",\n",
    "                \"19-20.\",\n",
    "                \"19-3.\",\n",
    "                \"2-10.\",\n",
    "                \"2-11.\",\n",
    "                \"2-17.\",\n",
    "                \"2-18.\",\n",
    "                \"2-20.\",\n",
    "                \"2-3.\",\n",
    "                \"2-4.\",\n",
    "                \"2-5.\",\n",
    "                \"2-6.\",\n",
    "                \"2-7.\",\n",
    "                \"2-8.\",\n",
    "                \"3-13.\",\n",
    "                \"3-18.\",\n",
    "                \"3-3.\",\n",
    "                \"4-1.\",\n",
    "                \"4-10.\",\n",
    "                \"4-11.\",\n",
    "                \"4-19.\",\n",
    "                \"5-5.\",\n",
    "                \"6-15.\",\n",
    "                \"7-10.\",\n",
    "                \"7-14.\",\n",
    "                \"8-18.\",\n",
    "                \"8-20.\",\n",
    "                \"8-3.\",\n",
    "                \"8-8.\",\n",
    "            ],\n",
    "            \"domains\": [1, 2, 3, 4, 5],\n",
    "            \"num_examples_per_domain_per_label\": -1,\n",
    "            \"pickle_path\": \"/root/csc500-main/datasets/cores.stratified_ds.2022A.pkl\",\n",
    "            \"source_or_target_dataset\": \"target\",\n",
    "            \"x_transforms\": [\"unit_mag\"],\n",
    "            \"episode_transforms\": [],\n",
    "            \"domain_prefix\": \"CORES_\",\n",
    "        },\n",
    "        {\n",
    "            \"labels\": [\n",
    "                \"3123D52\",\n",
    "                \"3123D65\",\n",
    "                \"3123D79\",\n",
    "                \"3123D80\",\n",
    "                \"3123D54\",\n",
    "                \"3123D70\",\n",
    "                \"3123D7B\",\n",
    "                \"3123D89\",\n",
    "                \"3123D58\",\n",
    "                \"3123D76\",\n",
    "                \"3123D7D\",\n",
    "                \"3123EFE\",\n",
    "                \"3123D64\",\n",
    "                \"3123D78\",\n",
    "                \"3123D7E\",\n",
    "                \"3124E4A\",\n",
    "            ],\n",
    "            \"domains\": [32, 38, 8, 44, 14, 50, 20, 26],\n",
    "            \"num_examples_per_domain_per_label\": 2000,\n",
    "            \"pickle_path\": \"/root/csc500-main/datasets/oracle.Run1_framed_2000Examples_stratified_ds.2022A.pkl\",\n",
    "            \"source_or_target_dataset\": \"source\",\n",
    "            \"x_transforms\": [\"unit_mag\"],\n",
    "            \"episode_transforms\": [],\n",
    "            \"domain_prefix\": \"ORACLE.run1_\",\n",
    "        },\n",
    "    ],\n",
    "    \"dataset_seed\": 420,\n",
    "    \"seed\": 420,\n",
    "}\n"
   ]
  },
  {
   "cell_type": "code",
   "execution_count": 5,
   "id": "8fa1cc33",
   "metadata": {
    "execution": {
     "iopub.execute_input": "2022-03-21T07:48:12.246707Z",
     "iopub.status.busy": "2022-03-21T07:48:12.245852Z",
     "iopub.status.idle": "2022-03-21T07:48:12.264631Z",
     "shell.execute_reply": "2022-03-21T07:48:12.263781Z"
    },
    "papermill": {
     "duration": 0.046314,
     "end_time": "2022-03-21T07:48:12.264809",
     "exception": false,
     "start_time": "2022-03-21T07:48:12.218495",
     "status": "completed"
    },
    "tags": []
   },
   "outputs": [],
   "source": [
    "# Set this to True if you want to run this template directly\n",
    "STANDALONE = False\n",
    "if STANDALONE:\n",
    "    print(\"parameters not injected, running with standalone_parameters\")\n",
    "    parameters = standalone_parameters\n",
    "\n",
    "if not 'parameters' in locals() and not 'parameters' in globals():\n",
    "    raise Exception(\"Parameter injection failed\")\n",
    "\n",
    "#Use an easy dict for all the parameters\n",
    "p = EasyDict(parameters)\n",
    "\n",
    "if \"x_shape\" not in p:\n",
    "    p.x_shape = [2,256] # Default to this if we dont supply x_shape\n",
    "\n",
    "\n",
    "supplied_keys = set(p.keys())\n",
    "\n",
    "if  supplied_keys != required_parameters:\n",
    "    print(\"Parameters are incorrect\")\n",
    "    if len(supplied_keys - required_parameters)>0: print(\"Shouldn't have:\", str(supplied_keys - required_parameters))\n",
    "    if len(required_parameters - supplied_keys)>0: print(\"Need to have:\", str(required_parameters - supplied_keys))\n",
    "    raise RuntimeError(\"Parameters are incorrect\")"
   ]
  },
  {
   "cell_type": "code",
   "execution_count": 6,
   "id": "3a028d58",
   "metadata": {
    "execution": {
     "iopub.execute_input": "2022-03-21T07:48:12.318388Z",
     "iopub.status.busy": "2022-03-21T07:48:12.314810Z",
     "iopub.status.idle": "2022-03-21T07:48:12.335583Z",
     "shell.execute_reply": "2022-03-21T07:48:12.334758Z"
    },
    "papermill": {
     "duration": 0.044702,
     "end_time": "2022-03-21T07:48:12.335753",
     "exception": false,
     "start_time": "2022-03-21T07:48:12.291051",
     "status": "completed"
    },
    "tags": []
   },
   "outputs": [],
   "source": [
    "###################################\n",
    "# Set the RNGs and make it all deterministic\n",
    "###################################\n",
    "np.random.seed(p.seed)\n",
    "random.seed(p.seed)\n",
    "torch.manual_seed(p.seed)\n",
    "\n",
    "torch.use_deterministic_algorithms(True) "
   ]
  },
  {
   "cell_type": "code",
   "execution_count": 7,
   "id": "b691acf6",
   "metadata": {
    "execution": {
     "iopub.execute_input": "2022-03-21T07:48:12.390522Z",
     "iopub.status.busy": "2022-03-21T07:48:12.390141Z",
     "iopub.status.idle": "2022-03-21T07:48:12.413289Z",
     "shell.execute_reply": "2022-03-21T07:48:12.412434Z"
    },
    "papermill": {
     "duration": 0.047796,
     "end_time": "2022-03-21T07:48:12.413466",
     "exception": false,
     "start_time": "2022-03-21T07:48:12.365670",
     "status": "completed"
    },
    "tags": []
   },
   "outputs": [],
   "source": [
    "###########################################\n",
    "# The stratified datasets honor this\n",
    "###########################################\n",
    "torch.set_default_dtype(eval(p.torch_default_dtype))"
   ]
  },
  {
   "cell_type": "code",
   "execution_count": 8,
   "id": "b5fba671",
   "metadata": {
    "execution": {
     "iopub.execute_input": "2022-03-21T07:48:12.465768Z",
     "iopub.status.busy": "2022-03-21T07:48:12.465394Z",
     "iopub.status.idle": "2022-03-21T07:48:12.522162Z",
     "shell.execute_reply": "2022-03-21T07:48:12.521319Z"
    },
    "papermill": {
     "duration": 0.080515,
     "end_time": "2022-03-21T07:48:12.522338",
     "exception": false,
     "start_time": "2022-03-21T07:48:12.441823",
     "status": "completed"
    },
    "tags": []
   },
   "outputs": [],
   "source": [
    "###################################\n",
    "# Build the network(s)\n",
    "# Note: It's critical to do this AFTER setting the RNG\n",
    "###################################\n",
    "x_net = build_sequential(p.x_net)"
   ]
  },
  {
   "cell_type": "code",
   "execution_count": 9,
   "id": "5d7e61cc",
   "metadata": {
    "execution": {
     "iopub.execute_input": "2022-03-21T07:48:12.571424Z",
     "iopub.status.busy": "2022-03-21T07:48:12.571056Z",
     "iopub.status.idle": "2022-03-21T07:48:12.592198Z",
     "shell.execute_reply": "2022-03-21T07:48:12.591396Z"
    },
    "papermill": {
     "duration": 0.044699,
     "end_time": "2022-03-21T07:48:12.592374",
     "exception": false,
     "start_time": "2022-03-21T07:48:12.547675",
     "status": "completed"
    },
    "tags": []
   },
   "outputs": [],
   "source": [
    "start_time_secs = time.time()"
   ]
  },
  {
   "cell_type": "code",
   "execution_count": 10,
   "id": "c6b67dfd",
   "metadata": {
    "execution": {
     "iopub.execute_input": "2022-03-21T07:48:12.642089Z",
     "iopub.status.busy": "2022-03-21T07:48:12.641528Z",
     "iopub.status.idle": "2022-03-21T07:48:12.662031Z",
     "shell.execute_reply": "2022-03-21T07:48:12.661310Z"
    },
    "papermill": {
     "duration": 0.04525,
     "end_time": "2022-03-21T07:48:12.662200",
     "exception": false,
     "start_time": "2022-03-21T07:48:12.616950",
     "status": "completed"
    },
    "tags": []
   },
   "outputs": [],
   "source": [
    "p.domains_source = []\n",
    "p.domains_target = []\n",
    "\n",
    "\n",
    "train_original_source = []\n",
    "val_original_source   = []\n",
    "test_original_source  = []\n",
    "\n",
    "train_original_target = []\n",
    "val_original_target   = []\n",
    "test_original_target  = []"
   ]
  },
  {
   "cell_type": "code",
   "execution_count": 11,
   "id": "e3d9c3d3",
   "metadata": {
    "execution": {
     "iopub.execute_input": "2022-03-21T07:48:12.710805Z",
     "iopub.status.busy": "2022-03-21T07:48:12.710223Z",
     "iopub.status.idle": "2022-03-21T07:48:12.726305Z",
     "shell.execute_reply": "2022-03-21T07:48:12.726949Z"
    },
    "papermill": {
     "duration": 0.03925,
     "end_time": "2022-03-21T07:48:12.727159",
     "exception": false,
     "start_time": "2022-03-21T07:48:12.687909",
     "status": "completed"
    },
    "tags": []
   },
   "outputs": [],
   "source": [
    "# global_x_transform_func = lambda x: normalize(x.to(torch.get_default_dtype()), \"unit_power\") # unit_power, unit_mag\n",
    "# global_x_transform_func = lambda x: normalize(x, \"unit_power\") # unit_power, unit_mag"
   ]
  },
  {
   "cell_type": "code",
   "execution_count": 12,
   "id": "acb78fd2",
   "metadata": {
    "execution": {
     "iopub.execute_input": "2022-03-21T07:48:12.784566Z",
     "iopub.status.busy": "2022-03-21T07:48:12.783986Z",
     "iopub.status.idle": "2022-03-21T07:48:12.801775Z",
     "shell.execute_reply": "2022-03-21T07:48:12.801056Z"
    },
    "papermill": {
     "duration": 0.047559,
     "end_time": "2022-03-21T07:48:12.801939",
     "exception": false,
     "start_time": "2022-03-21T07:48:12.754380",
     "status": "completed"
    },
    "tags": []
   },
   "outputs": [],
   "source": [
    "def add_dataset(\n",
    "    labels,\n",
    "    domains,\n",
    "    pickle_path,\n",
    "    x_transforms,\n",
    "    episode_transforms,\n",
    "    domain_prefix,\n",
    "    num_examples_per_domain_per_label,\n",
    "    source_or_target_dataset:str,\n",
    "    iterator_seed=p.seed,\n",
    "    dataset_seed=p.dataset_seed,\n",
    "    n_shot=p.n_shot,\n",
    "    n_way=p.n_way,\n",
    "    n_query=p.n_query,\n",
    "    train_val_test_k_factors=(p.train_k_factor,p.val_k_factor,p.test_k_factor),\n",
    "):\n",
    "   \n",
    "    if x_transforms == []: x_transform = None\n",
    "    else: x_transform = get_chained_transform(x_transforms)\n",
    "    \n",
    "    if episode_transforms == []: episode_transform = None\n",
    "    else: raise Exception(\"episode_transforms not implemented\")\n",
    "    \n",
    "    episode_transform = lambda tup, _prefix=domain_prefix: (_prefix + str(tup[0]), tup[1])\n",
    "\n",
    "\n",
    "    eaf = Episodic_Accessor_Factory(\n",
    "        labels=labels,\n",
    "        domains=domains,\n",
    "        num_examples_per_domain_per_label=num_examples_per_domain_per_label,\n",
    "        iterator_seed=iterator_seed,\n",
    "        dataset_seed=dataset_seed,\n",
    "        n_shot=n_shot,\n",
    "        n_way=n_way,\n",
    "        n_query=n_query,\n",
    "        train_val_test_k_factors=train_val_test_k_factors,\n",
    "        pickle_path=pickle_path,\n",
    "        x_transform_func=x_transform,\n",
    "    )\n",
    "\n",
    "    train, val, test = eaf.get_train(), eaf.get_val(), eaf.get_test()\n",
    "    train = Lazy_Iterable_Wrapper(train, episode_transform)\n",
    "    val = Lazy_Iterable_Wrapper(val, episode_transform)\n",
    "    test = Lazy_Iterable_Wrapper(test, episode_transform)\n",
    "\n",
    "    if source_or_target_dataset==\"source\":\n",
    "        train_original_source.append(train)\n",
    "        val_original_source.append(val)\n",
    "        test_original_source.append(test)\n",
    "\n",
    "        p.domains_source.extend(\n",
    "            [domain_prefix + str(u) for u in domains]\n",
    "        )\n",
    "    elif source_or_target_dataset==\"target\":\n",
    "        train_original_target.append(train)\n",
    "        val_original_target.append(val)\n",
    "        test_original_target.append(test)\n",
    "        p.domains_target.extend(\n",
    "            [domain_prefix + str(u) for u in domains]\n",
    "        )\n",
    "    else:\n",
    "        raise Exception(f\"invalid source_or_target_dataset: {source_or_target_dataset}\")\n",
    "    "
   ]
  },
  {
   "cell_type": "code",
   "execution_count": 13,
   "id": "fe266617",
   "metadata": {
    "execution": {
     "iopub.execute_input": "2022-03-21T07:48:12.850985Z",
     "iopub.status.busy": "2022-03-21T07:48:12.850614Z",
     "iopub.status.idle": "2022-03-21T07:48:54.595243Z",
     "shell.execute_reply": "2022-03-21T07:48:54.594845Z"
    },
    "papermill": {
     "duration": 41.767848,
     "end_time": "2022-03-21T07:48:54.595350",
     "exception": false,
     "start_time": "2022-03-21T07:48:12.827502",
     "status": "completed"
    },
    "tags": []
   },
   "outputs": [],
   "source": [
    "for ds in p.datasets:\n",
    "    add_dataset(**ds)"
   ]
  },
  {
   "cell_type": "code",
   "execution_count": 14,
   "id": "b90d65ac",
   "metadata": {
    "execution": {
     "iopub.execute_input": "2022-03-21T07:48:54.641800Z",
     "iopub.status.busy": "2022-03-21T07:48:54.641415Z",
     "iopub.status.idle": "2022-03-21T07:48:54.667441Z",
     "shell.execute_reply": "2022-03-21T07:48:54.666607Z"
    },
    "papermill": {
     "duration": 0.050146,
     "end_time": "2022-03-21T07:48:54.667632",
     "exception": false,
     "start_time": "2022-03-21T07:48:54.617486",
     "status": "completed"
    },
    "tags": []
   },
   "outputs": [],
   "source": [
    "# from steves_utils.CORES.utils import (\n",
    "#     ALL_NODES,\n",
    "#     ALL_NODES_MINIMUM_1000_EXAMPLES,\n",
    "#     ALL_DAYS\n",
    "# )\n",
    "\n",
    "# add_dataset(\n",
    "#     labels=ALL_NODES,\n",
    "#     domains = ALL_DAYS,\n",
    "#     num_examples_per_domain_per_label=100,\n",
    "#     pickle_path=os.path.join(get_datasets_base_path(), \"cores.stratified_ds.2022A.pkl\"),\n",
    "#     source_or_target_dataset=\"target\",\n",
    "#     x_transform_func=global_x_transform_func,\n",
    "#     domain_modifier=lambda u: f\"cores_{u}\"\n",
    "# )"
   ]
  },
  {
   "cell_type": "code",
   "execution_count": 15,
   "id": "76db484d",
   "metadata": {
    "execution": {
     "iopub.execute_input": "2022-03-21T07:48:54.722213Z",
     "iopub.status.busy": "2022-03-21T07:48:54.721464Z",
     "iopub.status.idle": "2022-03-21T07:48:54.746802Z",
     "shell.execute_reply": "2022-03-21T07:48:54.746100Z"
    },
    "papermill": {
     "duration": 0.049223,
     "end_time": "2022-03-21T07:48:54.746985",
     "exception": false,
     "start_time": "2022-03-21T07:48:54.697762",
     "status": "completed"
    },
    "tags": []
   },
   "outputs": [],
   "source": [
    "# from steves_utils.ORACLE.utils_v2 import (\n",
    "#     ALL_DISTANCES_FEET,\n",
    "#     ALL_RUNS,\n",
    "#     ALL_SERIAL_NUMBERS,\n",
    "# )\n",
    "\n",
    "\n",
    "# add_dataset(\n",
    "#     labels=ALL_SERIAL_NUMBERS,\n",
    "#     domains = list(set(ALL_DISTANCES_FEET) - {2,62}),\n",
    "#     num_examples_per_domain_per_label=100,\n",
    "#     pickle_path=os.path.join(get_datasets_base_path(), \"oracle.Run2_framed_2000Examples_stratified_ds.2022A.pkl\"),\n",
    "#     source_or_target_dataset=\"source\",\n",
    "#     x_transform_func=global_x_transform_func,\n",
    "#     domain_modifier=lambda u: f\"oracle1_{u}\"\n",
    "# )\n"
   ]
  },
  {
   "cell_type": "code",
   "execution_count": 16,
   "id": "97dea9d2",
   "metadata": {
    "execution": {
     "iopub.execute_input": "2022-03-21T07:48:54.800432Z",
     "iopub.status.busy": "2022-03-21T07:48:54.800048Z",
     "iopub.status.idle": "2022-03-21T07:48:54.826352Z",
     "shell.execute_reply": "2022-03-21T07:48:54.825583Z"
    },
    "papermill": {
     "duration": 0.050942,
     "end_time": "2022-03-21T07:48:54.826528",
     "exception": false,
     "start_time": "2022-03-21T07:48:54.775586",
     "status": "completed"
    },
    "tags": []
   },
   "outputs": [],
   "source": [
    "# from steves_utils.ORACLE.utils_v2 import (\n",
    "#     ALL_DISTANCES_FEET,\n",
    "#     ALL_RUNS,\n",
    "#     ALL_SERIAL_NUMBERS,\n",
    "# )\n",
    "\n",
    "\n",
    "# add_dataset(\n",
    "#     labels=ALL_SERIAL_NUMBERS,\n",
    "#     domains = list(set(ALL_DISTANCES_FEET) - {2,62,56}),\n",
    "#     num_examples_per_domain_per_label=100,\n",
    "#     pickle_path=os.path.join(get_datasets_base_path(), \"oracle.Run2_framed_2000Examples_stratified_ds.2022A.pkl\"),\n",
    "#     source_or_target_dataset=\"source\",\n",
    "#     x_transform_func=global_x_transform_func,\n",
    "#     domain_modifier=lambda u: f\"oracle2_{u}\"\n",
    "# )"
   ]
  },
  {
   "cell_type": "code",
   "execution_count": 17,
   "id": "6f289866",
   "metadata": {
    "execution": {
     "iopub.execute_input": "2022-03-21T07:48:54.878411Z",
     "iopub.status.busy": "2022-03-21T07:48:54.877771Z",
     "iopub.status.idle": "2022-03-21T07:48:54.902090Z",
     "shell.execute_reply": "2022-03-21T07:48:54.901314Z"
    },
    "papermill": {
     "duration": 0.04968,
     "end_time": "2022-03-21T07:48:54.902269",
     "exception": false,
     "start_time": "2022-03-21T07:48:54.852589",
     "status": "completed"
    },
    "tags": []
   },
   "outputs": [],
   "source": [
    "# add_dataset(\n",
    "#     labels=list(range(19)),\n",
    "#     domains = [0,1,2],\n",
    "#     num_examples_per_domain_per_label=100,\n",
    "#     pickle_path=os.path.join(get_datasets_base_path(), \"metehan.stratified_ds.2022A.pkl\"),\n",
    "#     source_or_target_dataset=\"target\",\n",
    "#     x_transform_func=global_x_transform_func,\n",
    "#     domain_modifier=lambda u: f\"met_{u}\"\n",
    "# )"
   ]
  },
  {
   "cell_type": "code",
   "execution_count": 18,
   "id": "86a863c3",
   "metadata": {
    "execution": {
     "iopub.execute_input": "2022-03-21T07:48:54.957380Z",
     "iopub.status.busy": "2022-03-21T07:48:54.956737Z",
     "iopub.status.idle": "2022-03-21T07:48:54.981476Z",
     "shell.execute_reply": "2022-03-21T07:48:54.982113Z"
    },
    "papermill": {
     "duration": 0.051274,
     "end_time": "2022-03-21T07:48:54.982337",
     "exception": false,
     "start_time": "2022-03-21T07:48:54.931063",
     "status": "completed"
    },
    "tags": []
   },
   "outputs": [],
   "source": [
    "# # from steves_utils.wisig.utils import (\n",
    "# #     ALL_NODES_MINIMUM_100_EXAMPLES,\n",
    "# #     ALL_NODES_MINIMUM_500_EXAMPLES,\n",
    "# #     ALL_NODES_MINIMUM_1000_EXAMPLES,\n",
    "# #     ALL_DAYS\n",
    "# # )\n",
    "\n",
    "# import steves_utils.wisig.utils as wisig\n",
    "\n",
    "\n",
    "# add_dataset(\n",
    "#     labels=wisig.ALL_NODES_MINIMUM_100_EXAMPLES,\n",
    "#     domains = wisig.ALL_DAYS,\n",
    "#     num_examples_per_domain_per_label=100,\n",
    "#     pickle_path=os.path.join(get_datasets_base_path(), \"wisig.node3-19.stratified_ds.2022A.pkl\"),\n",
    "#     source_or_target_dataset=\"target\",\n",
    "#     x_transform_func=global_x_transform_func,\n",
    "#     domain_modifier=lambda u: f\"wisig_{u}\"\n",
    "# )"
   ]
  },
  {
   "cell_type": "code",
   "execution_count": 19,
   "id": "fd5442bc",
   "metadata": {
    "execution": {
     "iopub.execute_input": "2022-03-21T07:48:55.041946Z",
     "iopub.status.busy": "2022-03-21T07:48:55.041118Z",
     "iopub.status.idle": "2022-03-21T07:48:55.063593Z",
     "shell.execute_reply": "2022-03-21T07:48:55.062722Z"
    },
    "papermill": {
     "duration": 0.052397,
     "end_time": "2022-03-21T07:48:55.063778",
     "exception": false,
     "start_time": "2022-03-21T07:48:55.011381",
     "status": "completed"
    },
    "tags": []
   },
   "outputs": [],
   "source": [
    "###################################\n",
    "# Build the dataset\n",
    "###################################\n",
    "train_original_source = Iterable_Aggregator(train_original_source, p.seed)\n",
    "val_original_source = Iterable_Aggregator(val_original_source, p.seed)\n",
    "test_original_source = Iterable_Aggregator(test_original_source, p.seed)\n",
    "\n",
    "\n",
    "train_original_target = Iterable_Aggregator(train_original_target, p.seed)\n",
    "val_original_target = Iterable_Aggregator(val_original_target, p.seed)\n",
    "test_original_target = Iterable_Aggregator(test_original_target, p.seed)\n",
    "\n",
    "# For CNN We only use X and Y. And we only train on the source.\n",
    "# Properly form the data using a transform lambda and Lazy_Iterable_Wrapper. Finally wrap them in a dataloader\n",
    "\n",
    "transform_lambda = lambda ex: ex[1] # Original is (<domain>, <episode>) so we strip down to episode only\n",
    "\n",
    "train_processed_source = Lazy_Iterable_Wrapper(train_original_source, transform_lambda)\n",
    "val_processed_source   = Lazy_Iterable_Wrapper(val_original_source, transform_lambda)\n",
    "test_processed_source  = Lazy_Iterable_Wrapper(test_original_source, transform_lambda)\n",
    "\n",
    "train_processed_target = Lazy_Iterable_Wrapper(train_original_target, transform_lambda)\n",
    "val_processed_target   = Lazy_Iterable_Wrapper(val_original_target, transform_lambda)\n",
    "test_processed_target  = Lazy_Iterable_Wrapper(test_original_target, transform_lambda)\n",
    "\n",
    "datasets = EasyDict({\n",
    "    \"source\": {\n",
    "        \"original\": {\"train\":train_original_source, \"val\":val_original_source, \"test\":test_original_source},\n",
    "        \"processed\": {\"train\":train_processed_source, \"val\":val_processed_source, \"test\":test_processed_source}\n",
    "    },\n",
    "    \"target\": {\n",
    "        \"original\": {\"train\":train_original_target, \"val\":val_original_target, \"test\":test_original_target},\n",
    "        \"processed\": {\"train\":train_processed_target, \"val\":val_processed_target, \"test\":test_processed_target}\n",
    "    },\n",
    "})"
   ]
  },
  {
   "cell_type": "code",
   "execution_count": 20,
   "id": "5b3c01fc",
   "metadata": {
    "execution": {
     "iopub.execute_input": "2022-03-21T07:48:55.119720Z",
     "iopub.status.busy": "2022-03-21T07:48:55.119303Z",
     "iopub.status.idle": "2022-03-21T07:49:10.663724Z",
     "shell.execute_reply": "2022-03-21T07:49:10.664430Z"
    },
    "papermill": {
     "duration": 15.571932,
     "end_time": "2022-03-21T07:49:10.664651",
     "exception": false,
     "start_time": "2022-03-21T07:48:55.092719",
     "status": "completed"
    },
    "tags": []
   },
   "outputs": [
    {
     "name": "stdout",
     "output_type": "stream",
     "text": [
      "{'ORACLE.run1_20', 'ORACLE.run1_14', 'ORACLE.run1_44', 'ORACLE.run1_8', 'ORACLE.run1_32', 'ORACLE.run1_50', 'ORACLE.run1_38', 'ORACLE.run1_26'}\n"
     ]
    },
    {
     "name": "stdout",
     "output_type": "stream",
     "text": [
      "{'CORES_2', 'CORES_1', 'CORES_3', 'CORES_5', 'CORES_4'}\n"
     ]
    },
    {
     "name": "stdout",
     "output_type": "stream",
     "text": [
      "tensor([[[ 0.6700,  0.3303, -1.0098,  ..., -0.2831,  1.4250,  0.4907],\n",
      "         [ 0.1604,  1.2551, -0.3209,  ..., -1.0947, -0.1793, -0.7266]],\n",
      "\n",
      "        [[-0.6870,  0.5439,  0.5630,  ..., -0.5630, -1.2500, -0.7920],\n",
      "         [-0.5153, -1.0687,  0.9828,  ...,  1.0782, -0.8110,  0.2958]],\n",
      "\n",
      "        [[-0.0381,  1.1716, -0.2381,  ..., -1.1240, -0.1619, -0.7620],\n",
      "         [-0.6001, -0.1715,  1.0478,  ..., -0.0191, -1.5050, -0.5715]],\n",
      "\n",
      "        ...,\n",
      "\n",
      "        [[ 0.7217,  0.1620, -0.9721,  ..., -0.2725,  1.3845,  0.4050],\n",
      "         [ 0.1694,  1.1046, -0.4198,  ..., -1.1267, -0.1473, -0.9647]],\n",
      "\n",
      "        [[ 1.0139,  0.3104, -1.3243,  ..., -0.1104,  1.0622, -0.7725],\n",
      "         [ 0.1035,  0.8622, -0.1242,  ..., -0.9794, -0.8415, -0.9794]],\n",
      "\n",
      "        [[ 0.9075,  0.5601, -1.0351,  ..., -0.8012, -0.2127, -1.3897],\n",
      "         [-0.7303,  0.5530,  0.9642,  ..., -0.8437, -1.2478,  0.2552]]])\n"
     ]
    }
   ],
   "source": [
    "from steves_utils.transforms import get_average_magnitude, get_average_power\n",
    "\n",
    "print(set([u for u,_ in val_original_source]))\n",
    "print(set([u for u,_ in val_original_target]))\n",
    "\n",
    "s_x, s_y, q_x, q_y, _ = next(iter(train_processed_source))\n",
    "print(s_x)\n",
    "\n",
    "# for ds in [\n",
    "#     train_processed_source,\n",
    "#     val_processed_source,\n",
    "#     test_processed_source,\n",
    "#     train_processed_target,\n",
    "#     val_processed_target,\n",
    "#     test_processed_target\n",
    "# ]:\n",
    "#     for s_x, s_y, q_x, q_y, _ in ds:\n",
    "#         for X in (s_x, q_x):\n",
    "#             for x in X:\n",
    "#                 assert np.isclose(get_average_magnitude(x.numpy()), 1.0)\n",
    "#                 assert np.isclose(get_average_power(x.numpy()), 1.0)\n",
    "                "
   ]
  },
  {
   "cell_type": "code",
   "execution_count": 21,
   "id": "bbdacba1",
   "metadata": {
    "execution": {
     "iopub.execute_input": "2022-03-21T07:49:10.721417Z",
     "iopub.status.busy": "2022-03-21T07:49:10.721030Z",
     "iopub.status.idle": "2022-03-21T07:49:10.963095Z",
     "shell.execute_reply": "2022-03-21T07:49:10.963418Z"
    },
    "papermill": {
     "duration": 0.271441,
     "end_time": "2022-03-21T07:49:10.963573",
     "exception": false,
     "start_time": "2022-03-21T07:49:10.692132",
     "status": "completed"
    },
    "tags": []
   },
   "outputs": [
    {
     "name": "stdout",
     "output_type": "stream",
     "text": [
      "(2, 256)\n"
     ]
    }
   ],
   "source": [
    "###################################\n",
    "# Build the model\n",
    "###################################\n",
    "# easfsl only wants a tuple for the shape\n",
    "model = Steves_Prototypical_Network(x_net, device=p.device, x_shape=tuple(p.x_shape))\n",
    "optimizer = Adam(params=model.parameters(), lr=p.lr)"
   ]
  },
  {
   "cell_type": "code",
   "execution_count": 22,
   "id": "22b39ac5",
   "metadata": {
    "execution": {
     "iopub.execute_input": "2022-03-21T07:49:11.013362Z",
     "iopub.status.busy": "2022-03-21T07:49:11.012990Z",
     "iopub.status.idle": "2022-03-21T08:40:01.514053Z",
     "shell.execute_reply": "2022-03-21T08:40:01.513708Z"
    },
    "papermill": {
     "duration": 3050.527551,
     "end_time": "2022-03-21T08:40:01.514137",
     "exception": false,
     "start_time": "2022-03-21T07:49:10.986586",
     "status": "completed"
    },
    "tags": []
   },
   "outputs": [
    {
     "name": "stdout",
     "output_type": "stream",
     "text": [
      "epoch: 1, [batch: 1 / 6720], examples_per_second: 30.1195, train_label_loss: 3.0194, \n"
     ]
    },
    {
     "name": "stdout",
     "output_type": "stream",
     "text": [
      "epoch: 1, [batch: 672 / 6720], examples_per_second: 2295.4490, train_label_loss: 0.9365, \n"
     ]
    },
    {
     "name": "stdout",
     "output_type": "stream",
     "text": [
      "epoch: 1, [batch: 1344 / 6720], examples_per_second: 2549.3262, train_label_loss: 0.6428, \n"
     ]
    },
    {
     "name": "stdout",
     "output_type": "stream",
     "text": [
      "epoch: 1, [batch: 2016 / 6720], examples_per_second: 2623.6801, train_label_loss: 0.9551, \n"
     ]
    },
    {
     "name": "stdout",
     "output_type": "stream",
     "text": [
      "epoch: 1, [batch: 2688 / 6720], examples_per_second: 2652.7400, train_label_loss: 0.6521, \n"
     ]
    },
    {
     "name": "stdout",
     "output_type": "stream",
     "text": [
      "epoch: 1, [batch: 3360 / 6720], examples_per_second: 2309.8142, train_label_loss: 0.8198, \n"
     ]
    },
    {
     "name": "stdout",
     "output_type": "stream",
     "text": [
      "epoch: 1, [batch: 4032 / 6720], examples_per_second: 2323.6106, train_label_loss: 0.4345, \n"
     ]
    },
    {
     "name": "stdout",
     "output_type": "stream",
     "text": [
      "epoch: 1, [batch: 4704 / 6720], examples_per_second: 2278.0724, train_label_loss: 0.5576, \n"
     ]
    },
    {
     "name": "stdout",
     "output_type": "stream",
     "text": [
      "epoch: 1, [batch: 5376 / 6720], examples_per_second: 2303.1442, train_label_loss: 1.0136, \n"
     ]
    },
    {
     "name": "stdout",
     "output_type": "stream",
     "text": [
      "epoch: 1, [batch: 6048 / 6720], examples_per_second: 2512.9134, train_label_loss: 0.3670, \n"
     ]
    },
    {
     "name": "stdout",
     "output_type": "stream",
     "text": [
      "=============================================================\n",
      "epoch: 1, source_val_acc_label: 0.7771, target_val_acc_label: 0.7670, source_val_label_loss: 4.8270, target_val_label_loss: 125.3656, \n",
      "=============================================================\n"
     ]
    },
    {
     "name": "stdout",
     "output_type": "stream",
     "text": [
      "New best\n"
     ]
    },
    {
     "name": "stdout",
     "output_type": "stream",
     "text": [
      "epoch: 2, [batch: 1 / 6720], examples_per_second: 2.2853, train_label_loss: 0.5795, \n"
     ]
    },
    {
     "name": "stdout",
     "output_type": "stream",
     "text": [
      "epoch: 2, [batch: 672 / 6720], examples_per_second: 2349.1595, train_label_loss: 0.5264, \n"
     ]
    },
    {
     "name": "stdout",
     "output_type": "stream",
     "text": [
      "epoch: 2, [batch: 1344 / 6720], examples_per_second: 2518.3938, train_label_loss: 0.5794, \n"
     ]
    },
    {
     "name": "stdout",
     "output_type": "stream",
     "text": [
      "epoch: 2, [batch: 2016 / 6720], examples_per_second: 2629.7873, train_label_loss: 0.2109, \n"
     ]
    },
    {
     "name": "stdout",
     "output_type": "stream",
     "text": [
      "epoch: 2, [batch: 2688 / 6720], examples_per_second: 2615.3759, train_label_loss: 0.6824, \n"
     ]
    },
    {
     "name": "stdout",
     "output_type": "stream",
     "text": [
      "epoch: 2, [batch: 3360 / 6720], examples_per_second: 2403.9077, train_label_loss: 0.5296, \n"
     ]
    },
    {
     "name": "stdout",
     "output_type": "stream",
     "text": [
      "epoch: 2, [batch: 4032 / 6720], examples_per_second: 2316.3871, train_label_loss: 0.3780, \n"
     ]
    },
    {
     "name": "stdout",
     "output_type": "stream",
     "text": [
      "epoch: 2, [batch: 4704 / 6720], examples_per_second: 2309.9978, train_label_loss: 0.5027, \n"
     ]
    },
    {
     "name": "stdout",
     "output_type": "stream",
     "text": [
      "epoch: 2, [batch: 5376 / 6720], examples_per_second: 2313.1816, train_label_loss: 0.6985, \n"
     ]
    },
    {
     "name": "stdout",
     "output_type": "stream",
     "text": [
      "epoch: 2, [batch: 6048 / 6720], examples_per_second: 2390.6770, train_label_loss: 0.2011, \n"
     ]
    },
    {
     "name": "stdout",
     "output_type": "stream",
     "text": [
      "=============================================================\n",
      "epoch: 2, source_val_acc_label: 0.8056, target_val_acc_label: 0.7424, source_val_label_loss: 0.5296, target_val_label_loss: 50.9296, \n",
      "=============================================================\n"
     ]
    },
    {
     "name": "stdout",
     "output_type": "stream",
     "text": [
      "epoch: 3, [batch: 1 / 6720], examples_per_second: 2.6777, train_label_loss: 0.2968, \n"
     ]
    },
    {
     "name": "stdout",
     "output_type": "stream",
     "text": [
      "epoch: 3, [batch: 672 / 6720], examples_per_second: 2925.2678, train_label_loss: 0.4454, \n"
     ]
    },
    {
     "name": "stdout",
     "output_type": "stream",
     "text": [
      "epoch: 3, [batch: 1344 / 6720], examples_per_second: 3061.4177, train_label_loss: 0.9419, \n"
     ]
    },
    {
     "name": "stdout",
     "output_type": "stream",
     "text": [
      "epoch: 3, [batch: 2016 / 6720], examples_per_second: 3376.8371, train_label_loss: 0.2213, \n"
     ]
    },
    {
     "name": "stdout",
     "output_type": "stream",
     "text": [
      "epoch: 3, [batch: 2688 / 6720], examples_per_second: 3569.8571, train_label_loss: 0.5947, \n"
     ]
    },
    {
     "name": "stdout",
     "output_type": "stream",
     "text": [
      "epoch: 3, [batch: 3360 / 6720], examples_per_second: 3476.4697, train_label_loss: 0.5359, \n"
     ]
    },
    {
     "name": "stdout",
     "output_type": "stream",
     "text": [
      "epoch: 3, [batch: 4032 / 6720], examples_per_second: 2671.9608, train_label_loss: 0.3936, \n"
     ]
    },
    {
     "name": "stdout",
     "output_type": "stream",
     "text": [
      "epoch: 3, [batch: 4704 / 6720], examples_per_second: 2556.6649, train_label_loss: 0.3245, \n"
     ]
    },
    {
     "name": "stdout",
     "output_type": "stream",
     "text": [
      "epoch: 3, [batch: 5376 / 6720], examples_per_second: 2832.0062, train_label_loss: 0.4488, \n"
     ]
    },
    {
     "name": "stdout",
     "output_type": "stream",
     "text": [
      "epoch: 3, [batch: 6048 / 6720], examples_per_second: 2975.2931, train_label_loss: 0.3347, \n"
     ]
    },
    {
     "name": "stdout",
     "output_type": "stream",
     "text": [
      "=============================================================\n",
      "epoch: 3, source_val_acc_label: 0.8470, target_val_acc_label: 0.7550, source_val_label_loss: 0.4185, target_val_label_loss: 64.1233, \n",
      "=============================================================\n"
     ]
    },
    {
     "name": "stdout",
     "output_type": "stream",
     "text": [
      "epoch: 4, [batch: 1 / 6720], examples_per_second: 2.8383, train_label_loss: 0.3826, \n"
     ]
    },
    {
     "name": "stdout",
     "output_type": "stream",
     "text": [
      "epoch: 4, [batch: 672 / 6720], examples_per_second: 2920.1736, train_label_loss: 0.3581, \n"
     ]
    },
    {
     "name": "stdout",
     "output_type": "stream",
     "text": [
      "epoch: 4, [batch: 1344 / 6720], examples_per_second: 3139.2878, train_label_loss: 0.2074, \n"
     ]
    },
    {
     "name": "stdout",
     "output_type": "stream",
     "text": [
      "epoch: 4, [batch: 2016 / 6720], examples_per_second: 3438.7928, train_label_loss: 0.1961, \n"
     ]
    },
    {
     "name": "stdout",
     "output_type": "stream",
     "text": [
      "epoch: 4, [batch: 2688 / 6720], examples_per_second: 3402.2476, train_label_loss: 0.4575, \n"
     ]
    },
    {
     "name": "stdout",
     "output_type": "stream",
     "text": [
      "epoch: 4, [batch: 3360 / 6720], examples_per_second: 2840.2788, train_label_loss: 0.8903, \n"
     ]
    },
    {
     "name": "stdout",
     "output_type": "stream",
     "text": [
      "epoch: 4, [batch: 4032 / 6720], examples_per_second: 2299.7602, train_label_loss: 0.2218, \n"
     ]
    },
    {
     "name": "stdout",
     "output_type": "stream",
     "text": [
      "epoch: 4, [batch: 4704 / 6720], examples_per_second: 2288.3432, train_label_loss: 0.3403, \n"
     ]
    },
    {
     "name": "stdout",
     "output_type": "stream",
     "text": [
      "epoch: 4, [batch: 5376 / 6720], examples_per_second: 2311.5535, train_label_loss: 0.3184, \n"
     ]
    },
    {
     "name": "stdout",
     "output_type": "stream",
     "text": [
      "epoch: 4, [batch: 6048 / 6720], examples_per_second: 2320.3297, train_label_loss: 0.2637, \n"
     ]
    },
    {
     "name": "stdout",
     "output_type": "stream",
     "text": [
      "=============================================================\n",
      "epoch: 4, source_val_acc_label: 0.8497, target_val_acc_label: 0.7527, source_val_label_loss: 0.4084, target_val_label_loss: 78.2018, \n",
      "=============================================================\n"
     ]
    },
    {
     "name": "stdout",
     "output_type": "stream",
     "text": [
      "epoch: 5, [batch: 1 / 6720], examples_per_second: 2.0752, train_label_loss: 0.2670, \n"
     ]
    },
    {
     "name": "stdout",
     "output_type": "stream",
     "text": [
      "epoch: 5, [batch: 672 / 6720], examples_per_second: 2295.3421, train_label_loss: 0.7017, \n"
     ]
    },
    {
     "name": "stdout",
     "output_type": "stream",
     "text": [
      "epoch: 5, [batch: 1344 / 6720], examples_per_second: 2393.9622, train_label_loss: 0.3118, \n"
     ]
    },
    {
     "name": "stdout",
     "output_type": "stream",
     "text": [
      "epoch: 5, [batch: 2016 / 6720], examples_per_second: 2822.3822, train_label_loss: 0.4160, \n"
     ]
    },
    {
     "name": "stdout",
     "output_type": "stream",
     "text": [
      "epoch: 5, [batch: 2688 / 6720], examples_per_second: 2921.2008, train_label_loss: 0.4666, \n"
     ]
    },
    {
     "name": "stdout",
     "output_type": "stream",
     "text": [
      "epoch: 5, [batch: 3360 / 6720], examples_per_second: 2783.3722, train_label_loss: 0.3216, \n"
     ]
    },
    {
     "name": "stdout",
     "output_type": "stream",
     "text": [
      "epoch: 5, [batch: 4032 / 6720], examples_per_second: 2302.0120, train_label_loss: 0.3987, \n"
     ]
    },
    {
     "name": "stdout",
     "output_type": "stream",
     "text": [
      "epoch: 5, [batch: 4704 / 6720], examples_per_second: 2303.5187, train_label_loss: 0.2856, \n"
     ]
    },
    {
     "name": "stdout",
     "output_type": "stream",
     "text": [
      "epoch: 5, [batch: 5376 / 6720], examples_per_second: 2301.3586, train_label_loss: 0.2542, \n"
     ]
    },
    {
     "name": "stdout",
     "output_type": "stream",
     "text": [
      "epoch: 5, [batch: 6048 / 6720], examples_per_second: 2308.5211, train_label_loss: 0.1001, \n"
     ]
    },
    {
     "name": "stdout",
     "output_type": "stream",
     "text": [
      "=============================================================\n",
      "epoch: 5, source_val_acc_label: 0.8914, target_val_acc_label: 0.7791, source_val_label_loss: 0.3072, target_val_label_loss: 79.4031, \n",
      "=============================================================\n"
     ]
    },
    {
     "name": "stdout",
     "output_type": "stream",
     "text": [
      "New best\n"
     ]
    },
    {
     "name": "stdout",
     "output_type": "stream",
     "text": [
      "epoch: 6, [batch: 1 / 6720], examples_per_second: 2.0655, train_label_loss: 0.2079, \n"
     ]
    },
    {
     "name": "stdout",
     "output_type": "stream",
     "text": [
      "epoch: 6, [batch: 672 / 6720], examples_per_second: 2314.3986, train_label_loss: 0.1120, \n"
     ]
    },
    {
     "name": "stdout",
     "output_type": "stream",
     "text": [
      "epoch: 6, [batch: 1344 / 6720], examples_per_second: 2489.1919, train_label_loss: 0.4098, \n"
     ]
    },
    {
     "name": "stdout",
     "output_type": "stream",
     "text": [
      "epoch: 6, [batch: 2016 / 6720], examples_per_second: 2799.2896, train_label_loss: 0.8664, \n"
     ]
    },
    {
     "name": "stdout",
     "output_type": "stream",
     "text": [
      "epoch: 6, [batch: 2688 / 6720], examples_per_second: 2921.9884, train_label_loss: 0.1228, \n"
     ]
    },
    {
     "name": "stdout",
     "output_type": "stream",
     "text": [
      "epoch: 6, [batch: 3360 / 6720], examples_per_second: 2924.7816, train_label_loss: 0.1737, \n"
     ]
    },
    {
     "name": "stdout",
     "output_type": "stream",
     "text": [
      "epoch: 6, [batch: 4032 / 6720], examples_per_second: 2383.4771, train_label_loss: 0.2642, \n"
     ]
    },
    {
     "name": "stdout",
     "output_type": "stream",
     "text": [
      "epoch: 6, [batch: 4704 / 6720], examples_per_second: 2311.0998, train_label_loss: 0.3628, \n"
     ]
    },
    {
     "name": "stdout",
     "output_type": "stream",
     "text": [
      "epoch: 6, [batch: 5376 / 6720], examples_per_second: 2323.9844, train_label_loss: 0.4864, \n"
     ]
    },
    {
     "name": "stdout",
     "output_type": "stream",
     "text": [
      "epoch: 6, [batch: 6048 / 6720], examples_per_second: 2320.6272, train_label_loss: 0.5538, \n"
     ]
    },
    {
     "name": "stdout",
     "output_type": "stream",
     "text": [
      "=============================================================\n",
      "epoch: 6, source_val_acc_label: 0.8979, target_val_acc_label: 0.7811, source_val_label_loss: 0.2911, target_val_label_loss: 81.4223, \n",
      "=============================================================\n"
     ]
    },
    {
     "name": "stdout",
     "output_type": "stream",
     "text": [
      "New best\n"
     ]
    },
    {
     "name": "stdout",
     "output_type": "stream",
     "text": [
      "epoch: 7, [batch: 1 / 6720], examples_per_second: 2.0552, train_label_loss: 0.1310, \n"
     ]
    },
    {
     "name": "stdout",
     "output_type": "stream",
     "text": [
      "epoch: 7, [batch: 672 / 6720], examples_per_second: 2337.5294, train_label_loss: 0.3308, \n"
     ]
    },
    {
     "name": "stdout",
     "output_type": "stream",
     "text": [
      "epoch: 7, [batch: 1344 / 6720], examples_per_second: 2385.8257, train_label_loss: 0.0356, \n"
     ]
    },
    {
     "name": "stdout",
     "output_type": "stream",
     "text": [
      "epoch: 7, [batch: 2016 / 6720], examples_per_second: 2761.3309, train_label_loss: 0.2417, \n"
     ]
    },
    {
     "name": "stdout",
     "output_type": "stream",
     "text": [
      "epoch: 7, [batch: 2688 / 6720], examples_per_second: 2904.7137, train_label_loss: 0.1585, \n"
     ]
    },
    {
     "name": "stdout",
     "output_type": "stream",
     "text": [
      "epoch: 7, [batch: 3360 / 6720], examples_per_second: 2945.9651, train_label_loss: 0.2372, \n"
     ]
    },
    {
     "name": "stdout",
     "output_type": "stream",
     "text": [
      "epoch: 7, [batch: 4032 / 6720], examples_per_second: 2774.9161, train_label_loss: 0.2969, \n"
     ]
    },
    {
     "name": "stdout",
     "output_type": "stream",
     "text": [
      "epoch: 7, [batch: 4704 / 6720], examples_per_second: 2539.7970, train_label_loss: 0.6149, \n"
     ]
    },
    {
     "name": "stdout",
     "output_type": "stream",
     "text": [
      "epoch: 7, [batch: 5376 / 6720], examples_per_second: 2608.5741, train_label_loss: 0.2390, \n"
     ]
    },
    {
     "name": "stdout",
     "output_type": "stream",
     "text": [
      "epoch: 7, [batch: 6048 / 6720], examples_per_second: 2616.5307, train_label_loss: 0.1860, \n"
     ]
    },
    {
     "name": "stdout",
     "output_type": "stream",
     "text": [
      "=============================================================\n",
      "epoch: 7, source_val_acc_label: 0.8912, target_val_acc_label: 0.7864, source_val_label_loss: 0.3062, target_val_label_loss: 92.2042, \n",
      "=============================================================\n"
     ]
    },
    {
     "name": "stdout",
     "output_type": "stream",
     "text": [
      "New best\n"
     ]
    },
    {
     "name": "stdout",
     "output_type": "stream",
     "text": [
      "epoch: 8, [batch: 1 / 6720], examples_per_second: 2.4309, train_label_loss: 0.0970, \n"
     ]
    },
    {
     "name": "stdout",
     "output_type": "stream",
     "text": [
      "epoch: 8, [batch: 672 / 6720], examples_per_second: 2838.7691, train_label_loss: 0.1657, \n"
     ]
    },
    {
     "name": "stdout",
     "output_type": "stream",
     "text": [
      "epoch: 8, [batch: 1344 / 6720], examples_per_second: 2365.2199, train_label_loss: 0.0544, \n"
     ]
    },
    {
     "name": "stdout",
     "output_type": "stream",
     "text": [
      "epoch: 8, [batch: 2016 / 6720], examples_per_second: 2609.7255, train_label_loss: 0.2632, \n"
     ]
    },
    {
     "name": "stdout",
     "output_type": "stream",
     "text": [
      "epoch: 8, [batch: 2688 / 6720], examples_per_second: 2931.3822, train_label_loss: 0.1168, \n"
     ]
    },
    {
     "name": "stdout",
     "output_type": "stream",
     "text": [
      "epoch: 8, [batch: 3360 / 6720], examples_per_second: 3005.8923, train_label_loss: 0.0629, \n"
     ]
    },
    {
     "name": "stdout",
     "output_type": "stream",
     "text": [
      "epoch: 8, [batch: 4032 / 6720], examples_per_second: 2678.7196, train_label_loss: 0.1085, \n"
     ]
    },
    {
     "name": "stdout",
     "output_type": "stream",
     "text": [
      "epoch: 8, [batch: 4704 / 6720], examples_per_second: 2336.0541, train_label_loss: 0.3887, \n"
     ]
    },
    {
     "name": "stdout",
     "output_type": "stream",
     "text": [
      "epoch: 8, [batch: 5376 / 6720], examples_per_second: 2313.7690, train_label_loss: 0.0508, \n"
     ]
    },
    {
     "name": "stdout",
     "output_type": "stream",
     "text": [
      "epoch: 8, [batch: 6048 / 6720], examples_per_second: 2317.3769, train_label_loss: 0.2021, \n"
     ]
    },
    {
     "name": "stdout",
     "output_type": "stream",
     "text": [
      "=============================================================\n",
      "epoch: 8, source_val_acc_label: 0.8991, target_val_acc_label: 0.7886, source_val_label_loss: 0.2828, target_val_label_loss: 104.1241, \n",
      "=============================================================\n"
     ]
    },
    {
     "name": "stdout",
     "output_type": "stream",
     "text": [
      "New best\n"
     ]
    },
    {
     "name": "stdout",
     "output_type": "stream",
     "text": [
      "epoch: 9, [batch: 1 / 6720], examples_per_second: 2.0787, train_label_loss: 0.5368, \n"
     ]
    },
    {
     "name": "stdout",
     "output_type": "stream",
     "text": [
      "epoch: 9, [batch: 672 / 6720], examples_per_second: 2301.6019, train_label_loss: 0.3752, \n"
     ]
    },
    {
     "name": "stdout",
     "output_type": "stream",
     "text": [
      "epoch: 9, [batch: 1344 / 6720], examples_per_second: 2325.1545, train_label_loss: 0.3273, \n"
     ]
    },
    {
     "name": "stdout",
     "output_type": "stream",
     "text": [
      "epoch: 9, [batch: 2016 / 6720], examples_per_second: 2587.6502, train_label_loss: 0.4563, \n"
     ]
    },
    {
     "name": "stdout",
     "output_type": "stream",
     "text": [
      "epoch: 9, [batch: 2688 / 6720], examples_per_second: 2825.8874, train_label_loss: 0.1647, \n"
     ]
    },
    {
     "name": "stdout",
     "output_type": "stream",
     "text": [
      "epoch: 9, [batch: 3360 / 6720], examples_per_second: 2997.6484, train_label_loss: 0.7386, \n"
     ]
    },
    {
     "name": "stdout",
     "output_type": "stream",
     "text": [
      "epoch: 9, [batch: 4032 / 6720], examples_per_second: 2652.3998, train_label_loss: 0.3864, \n"
     ]
    },
    {
     "name": "stdout",
     "output_type": "stream",
     "text": [
      "epoch: 9, [batch: 4704 / 6720], examples_per_second: 2612.7067, train_label_loss: 0.2443, \n"
     ]
    },
    {
     "name": "stdout",
     "output_type": "stream",
     "text": [
      "epoch: 9, [batch: 5376 / 6720], examples_per_second: 2619.1737, train_label_loss: 0.0160, \n"
     ]
    },
    {
     "name": "stdout",
     "output_type": "stream",
     "text": [
      "epoch: 9, [batch: 6048 / 6720], examples_per_second: 2565.8597, train_label_loss: 0.3585, \n"
     ]
    },
    {
     "name": "stdout",
     "output_type": "stream",
     "text": [
      "=============================================================\n",
      "epoch: 9, source_val_acc_label: 0.9031, target_val_acc_label: 0.7520, source_val_label_loss: 0.2782, target_val_label_loss: 148.2008, \n",
      "=============================================================\n"
     ]
    },
    {
     "name": "stdout",
     "output_type": "stream",
     "text": [
      "epoch: 10, [batch: 1 / 6720], examples_per_second: 2.3499, train_label_loss: 0.1515, \n"
     ]
    },
    {
     "name": "stdout",
     "output_type": "stream",
     "text": [
      "epoch: 10, [batch: 672 / 6720], examples_per_second: 2573.5187, train_label_loss: 0.2483, \n"
     ]
    },
    {
     "name": "stdout",
     "output_type": "stream",
     "text": [
      "epoch: 10, [batch: 1344 / 6720], examples_per_second: 2622.0361, train_label_loss: 0.1204, \n"
     ]
    },
    {
     "name": "stdout",
     "output_type": "stream",
     "text": [
      "epoch: 10, [batch: 2016 / 6720], examples_per_second: 2984.7381, train_label_loss: 0.2048, \n"
     ]
    },
    {
     "name": "stdout",
     "output_type": "stream",
     "text": [
      "epoch: 10, [batch: 2688 / 6720], examples_per_second: 3449.1193, train_label_loss: 0.0943, \n"
     ]
    },
    {
     "name": "stdout",
     "output_type": "stream",
     "text": [
      "epoch: 10, [batch: 3360 / 6720], examples_per_second: 3397.5686, train_label_loss: 0.2943, \n"
     ]
    },
    {
     "name": "stdout",
     "output_type": "stream",
     "text": [
      "epoch: 10, [batch: 4032 / 6720], examples_per_second: 2976.9740, train_label_loss: 0.1304, \n"
     ]
    },
    {
     "name": "stdout",
     "output_type": "stream",
     "text": [
      "epoch: 10, [batch: 4704 / 6720], examples_per_second: 2912.2529, train_label_loss: 0.2145, \n"
     ]
    },
    {
     "name": "stdout",
     "output_type": "stream",
     "text": [
      "epoch: 10, [batch: 5376 / 6720], examples_per_second: 2945.2302, train_label_loss: 0.1074, \n"
     ]
    },
    {
     "name": "stdout",
     "output_type": "stream",
     "text": [
      "epoch: 10, [batch: 6048 / 6720], examples_per_second: 2885.1096, train_label_loss: 0.1612, \n"
     ]
    },
    {
     "name": "stdout",
     "output_type": "stream",
     "text": [
      "=============================================================\n",
      "epoch: 10, source_val_acc_label: 0.9063, target_val_acc_label: 0.7593, source_val_label_loss: 0.2640, target_val_label_loss: 154.0028, \n",
      "=============================================================\n"
     ]
    },
    {
     "name": "stdout",
     "output_type": "stream",
     "text": [
      "epoch: 11, [batch: 1 / 6720], examples_per_second: 2.2089, train_label_loss: 0.2951, \n"
     ]
    },
    {
     "name": "stdout",
     "output_type": "stream",
     "text": [
      "epoch: 11, [batch: 672 / 6720], examples_per_second: 2332.4289, train_label_loss: 0.1958, \n"
     ]
    },
    {
     "name": "stdout",
     "output_type": "stream",
     "text": [
      "epoch: 11, [batch: 1344 / 6720], examples_per_second: 2302.3438, train_label_loss: 0.2099, \n"
     ]
    },
    {
     "name": "stdout",
     "output_type": "stream",
     "text": [
      "epoch: 11, [batch: 2016 / 6720], examples_per_second: 2580.0913, train_label_loss: 0.3877, \n"
     ]
    },
    {
     "name": "stdout",
     "output_type": "stream",
     "text": [
      "epoch: 11, [batch: 2688 / 6720], examples_per_second: 2570.8689, train_label_loss: 0.0344, \n"
     ]
    },
    {
     "name": "stdout",
     "output_type": "stream",
     "text": [
      "epoch: 11, [batch: 3360 / 6720], examples_per_second: 2624.5448, train_label_loss: 0.3742, \n"
     ]
    },
    {
     "name": "stdout",
     "output_type": "stream",
     "text": [
      "epoch: 11, [batch: 4032 / 6720], examples_per_second: 2300.2999, train_label_loss: 0.3169, \n"
     ]
    },
    {
     "name": "stdout",
     "output_type": "stream",
     "text": [
      "epoch: 11, [batch: 4704 / 6720], examples_per_second: 2297.8122, train_label_loss: 0.3528, \n"
     ]
    },
    {
     "name": "stdout",
     "output_type": "stream",
     "text": [
      "epoch: 11, [batch: 5376 / 6720], examples_per_second: 2458.4834, train_label_loss: 0.0563, \n"
     ]
    },
    {
     "name": "stdout",
     "output_type": "stream",
     "text": [
      "epoch: 11, [batch: 6048 / 6720], examples_per_second: 2594.3838, train_label_loss: 0.0055, \n"
     ]
    },
    {
     "name": "stdout",
     "output_type": "stream",
     "text": [
      "=============================================================\n",
      "epoch: 11, source_val_acc_label: 0.9012, target_val_acc_label: 0.7300, source_val_label_loss: 0.2828, target_val_label_loss: 251.6370, \n",
      "=============================================================\n"
     ]
    },
    {
     "name": "stdout",
     "output_type": "stream",
     "text": [
      "epoch: 12, [batch: 1 / 6720], examples_per_second: 2.1932, train_label_loss: 0.2054, \n"
     ]
    },
    {
     "name": "stdout",
     "output_type": "stream",
     "text": [
      "epoch: 12, [batch: 672 / 6720], examples_per_second: 2433.1763, train_label_loss: 0.4714, \n"
     ]
    },
    {
     "name": "stdout",
     "output_type": "stream",
     "text": [
      "epoch: 12, [batch: 1344 / 6720], examples_per_second: 2617.2132, train_label_loss: 0.0771, \n"
     ]
    },
    {
     "name": "stdout",
     "output_type": "stream",
     "text": [
      "epoch: 12, [batch: 2016 / 6720], examples_per_second: 2840.6162, train_label_loss: 0.3785, \n"
     ]
    },
    {
     "name": "stdout",
     "output_type": "stream",
     "text": [
      "epoch: 12, [batch: 2688 / 6720], examples_per_second: 2922.3238, train_label_loss: 0.1372, \n"
     ]
    },
    {
     "name": "stdout",
     "output_type": "stream",
     "text": [
      "epoch: 12, [batch: 3360 / 6720], examples_per_second: 2924.3981, train_label_loss: 0.4285, \n"
     ]
    },
    {
     "name": "stdout",
     "output_type": "stream",
     "text": [
      "epoch: 12, [batch: 4032 / 6720], examples_per_second: 2911.8438, train_label_loss: 0.4797, \n"
     ]
    },
    {
     "name": "stdout",
     "output_type": "stream",
     "text": [
      "epoch: 12, [batch: 4704 / 6720], examples_per_second: 3028.8128, train_label_loss: 0.0716, \n"
     ]
    },
    {
     "name": "stdout",
     "output_type": "stream",
     "text": [
      "epoch: 12, [batch: 5376 / 6720], examples_per_second: 3174.0690, train_label_loss: 0.2129, \n"
     ]
    },
    {
     "name": "stdout",
     "output_type": "stream",
     "text": [
      "epoch: 12, [batch: 6048 / 6720], examples_per_second: 3863.8917, train_label_loss: 0.3950, \n"
     ]
    },
    {
     "name": "stdout",
     "output_type": "stream",
     "text": [
      "=============================================================\n",
      "epoch: 12, source_val_acc_label: 0.9001, target_val_acc_label: 0.7577, source_val_label_loss: 0.2767, target_val_label_loss: 194.8417, \n",
      "=============================================================\n"
     ]
    },
    {
     "name": "stdout",
     "output_type": "stream",
     "text": [
      "Patience (3) exhausted\n"
     ]
    }
   ],
   "source": [
    "###################################\n",
    "# train\n",
    "###################################\n",
    "jig = PTN_Train_Eval_Test_Jig(model, p.BEST_MODEL_PATH, p.device)\n",
    "\n",
    "jig.train(\n",
    "    train_iterable=datasets.source.processed.train,\n",
    "    source_val_iterable=datasets.source.processed.val,\n",
    "    target_val_iterable=datasets.target.processed.val,\n",
    "    num_epochs=p.n_epoch,\n",
    "    num_logs_per_epoch=p.NUM_LOGS_PER_EPOCH,\n",
    "    patience=p.patience,\n",
    "    optimizer=optimizer,\n",
    "    criteria_for_best=p.criteria_for_best,\n",
    ")"
   ]
  },
  {
   "cell_type": "code",
   "execution_count": 23,
   "id": "31e8fabf",
   "metadata": {
    "execution": {
     "iopub.execute_input": "2022-03-21T08:40:01.635506Z",
     "iopub.status.busy": "2022-03-21T08:40:01.634880Z",
     "iopub.status.idle": "2022-03-21T08:40:01.666966Z",
     "shell.execute_reply": "2022-03-21T08:40:01.667660Z"
    },
    "papermill": {
     "duration": 0.096636,
     "end_time": "2022-03-21T08:40:01.667868",
     "exception": false,
     "start_time": "2022-03-21T08:40:01.571232",
     "status": "completed"
    },
    "tags": []
   },
   "outputs": [],
   "source": [
    "total_experiment_time_secs = time.time() - start_time_secs"
   ]
  },
  {
   "cell_type": "code",
   "execution_count": 24,
   "id": "87b9595b",
   "metadata": {
    "execution": {
     "iopub.execute_input": "2022-03-21T08:40:01.817181Z",
     "iopub.status.busy": "2022-03-21T08:40:01.815862Z",
     "iopub.status.idle": "2022-03-21T08:43:41.241982Z",
     "shell.execute_reply": "2022-03-21T08:43:41.241238Z"
    },
    "papermill": {
     "duration": 219.497851,
     "end_time": "2022-03-21T08:43:41.242172",
     "exception": false,
     "start_time": "2022-03-21T08:40:01.744321",
     "status": "completed"
    },
    "tags": []
   },
   "outputs": [],
   "source": [
    "###################################\n",
    "# Evaluate the model\n",
    "###################################\n",
    "source_test_label_accuracy, source_test_label_loss = jig.test(datasets.source.processed.test)\n",
    "target_test_label_accuracy, target_test_label_loss = jig.test(datasets.target.processed.test)\n",
    "\n",
    "source_val_label_accuracy, source_val_label_loss = jig.test(datasets.source.processed.val)\n",
    "target_val_label_accuracy, target_val_label_loss = jig.test(datasets.target.processed.val)\n",
    "\n",
    "history = jig.get_history()\n",
    "\n",
    "total_epochs_trained = len(history[\"epoch_indices\"])\n",
    "\n",
    "val_dl = Iterable_Aggregator((datasets.source.original.val,datasets.target.original.val))\n",
    "\n",
    "confusion = ptn_confusion_by_domain_over_dataloader(model, p.device, val_dl)\n",
    "per_domain_accuracy = per_domain_accuracy_from_confusion(confusion)\n",
    "\n",
    "# Add a key to per_domain_accuracy for if it was a source domain\n",
    "for domain, accuracy in per_domain_accuracy.items():\n",
    "    per_domain_accuracy[domain] = {\n",
    "        \"accuracy\": accuracy,\n",
    "        \"source?\": domain in p.domains_source\n",
    "    }\n",
    "\n",
    "# Do an independent accuracy assesment JUST TO BE SURE!\n",
    "# _source_test_label_accuracy = independent_accuracy_assesment(model, datasets.source.processed.test, p.device)\n",
    "# _target_test_label_accuracy = independent_accuracy_assesment(model, datasets.target.processed.test, p.device)\n",
    "# _source_val_label_accuracy = independent_accuracy_assesment(model, datasets.source.processed.val, p.device)\n",
    "# _target_val_label_accuracy = independent_accuracy_assesment(model, datasets.target.processed.val, p.device)\n",
    "\n",
    "# assert(_source_test_label_accuracy == source_test_label_accuracy)\n",
    "# assert(_target_test_label_accuracy == target_test_label_accuracy)\n",
    "# assert(_source_val_label_accuracy == source_val_label_accuracy)\n",
    "# assert(_target_val_label_accuracy == target_val_label_accuracy)\n",
    "\n",
    "experiment = {\n",
    "    \"experiment_name\": p.experiment_name,\n",
    "    \"parameters\": dict(p),\n",
    "    \"results\": {\n",
    "        \"source_test_label_accuracy\": source_test_label_accuracy,\n",
    "        \"source_test_label_loss\": source_test_label_loss,\n",
    "        \"target_test_label_accuracy\": target_test_label_accuracy,\n",
    "        \"target_test_label_loss\": target_test_label_loss,\n",
    "        \"source_val_label_accuracy\": source_val_label_accuracy,\n",
    "        \"source_val_label_loss\": source_val_label_loss,\n",
    "        \"target_val_label_accuracy\": target_val_label_accuracy,\n",
    "        \"target_val_label_loss\": target_val_label_loss,\n",
    "        \"total_epochs_trained\": total_epochs_trained,\n",
    "        \"total_experiment_time_secs\": total_experiment_time_secs,\n",
    "        \"confusion\": confusion,\n",
    "        \"per_domain_accuracy\": per_domain_accuracy,\n",
    "    },\n",
    "    \"history\": history,\n",
    "    \"dataset_metrics\": get_dataset_metrics(datasets, \"ptn\"),\n",
    "}"
   ]
  },
  {
   "cell_type": "code",
   "execution_count": 25,
   "id": "54a21829",
   "metadata": {
    "execution": {
     "iopub.execute_input": "2022-03-21T08:43:41.371719Z",
     "iopub.status.busy": "2022-03-21T08:43:41.371294Z",
     "iopub.status.idle": "2022-03-21T08:43:41.588642Z",
     "shell.execute_reply": "2022-03-21T08:43:41.587887Z"
    },
    "papermill": {
     "duration": 0.280126,
     "end_time": "2022-03-21T08:43:41.588805",
     "exception": false,
     "start_time": "2022-03-21T08:43:41.308679",
     "status": "completed"
    },
    "tags": []
   },
   "outputs": [
    {
     "data": {
      "image/png": "[encoded data removed]",
      "text/plain": [
       "<Figure size 1080x504 with 1 Axes>"
      ]
     },
     "metadata": {
      "needs_background": "light"
     },
     "output_type": "display_data"
    }
   ],
   "source": [
    "ax = get_loss_curve(experiment)\n",
    "plt.show()"
   ]
  },
  {
   "cell_type": "code",
   "execution_count": 26,
   "id": "fd8a0f60",
   "metadata": {
    "execution": {
     "iopub.execute_input": "2022-03-21T08:43:41.719014Z",
     "iopub.status.busy": "2022-03-21T08:43:41.718626Z",
     "iopub.status.idle": "2022-03-21T08:43:42.065274Z",
     "shell.execute_reply": "2022-03-21T08:43:42.064545Z"
    },
    "papermill": {
     "duration": 0.411087,
     "end_time": "2022-03-21T08:43:42.065443",
     "exception": false,
     "start_time": "2022-03-21T08:43:41.654356",
     "status": "completed"
    },
    "tags": []
   },
   "outputs": [
    {
     "data": {
      "text/plain": [
       "<AxesSubplot:title={'center':'Results'}>"
      ]
     },
     "execution_count": 26,
     "metadata": {},
     "output_type": "execute_result"
    },
    {
     "data": {
      "image/png": "[encoded data removed]",
      "text/plain": [
       "<Figure size 1080x504 with 1 Axes>"
      ]
     },
     "metadata": {
      "needs_background": "light"
     },
     "output_type": "display_data"
    }
   ],
   "source": [
    "get_results_table(experiment)"
   ]
  },
  {
   "cell_type": "code",
   "execution_count": 27,
   "id": "cf8dc689",
   "metadata": {
    "execution": {
     "iopub.execute_input": "2022-03-21T08:43:42.199084Z",
     "iopub.status.busy": "2022-03-21T08:43:42.198708Z",
     "iopub.status.idle": "2022-03-21T08:43:42.455512Z",
     "shell.execute_reply": "2022-03-21T08:43:42.455822Z"
    },
    "papermill": {
     "duration": 0.324317,
     "end_time": "2022-03-21T08:43:42.455923",
     "exception": false,
     "start_time": "2022-03-21T08:43:42.131606",
     "status": "completed"
    },
    "tags": []
   },
   "outputs": [
    {
     "data": {
      "text/plain": [
       "<AxesSubplot:title={'center':'Per Domain Validation Accuracy'}, xlabel='domain'>"
      ]
     },
     "execution_count": 27,
     "metadata": {},
     "output_type": "execute_result"
    },
    {
     "data": {
      "image/png": "[encoded data removed]",
      "text/plain": [
       "<Figure size 1080x504 with 1 Axes>"
      ]
     },
     "metadata": {
      "needs_background": "light"
     },
     "output_type": "display_data"
    }
   ],
   "source": [
    "get_domain_accuracies(experiment)"
   ]
  },
  {
   "cell_type": "code",
   "execution_count": 28,
   "id": "a74ae082",
   "metadata": {
    "execution": {
     "iopub.execute_input": "2022-03-21T08:43:42.589245Z",
     "iopub.status.busy": "2022-03-21T08:43:42.588671Z",
     "iopub.status.idle": "2022-03-21T08:43:42.615175Z",
     "shell.execute_reply": "2022-03-21T08:43:42.614462Z"
    },
    "papermill": {
     "duration": 0.095361,
     "end_time": "2022-03-21T08:43:42.615333",
     "exception": false,
     "start_time": "2022-03-21T08:43:42.519972",
     "status": "completed"
    },
    "tags": []
   },
   "outputs": [
    {
     "name": "stdout",
     "output_type": "stream",
     "text": [
      "Source Test Label Accuracy: 0.89775390625 Target Test Label Accuracy: 0.7924308690744921\n",
      "Source Val Label Accuracy: 0.8990559895833333 Target Val Label Accuracy: 0.7885714285714286\n"
     ]
    }
   ],
   "source": [
    "print(\"Source Test Label Accuracy:\", experiment[\"results\"][\"source_test_label_accuracy\"], \"Target Test Label Accuracy:\", experiment[\"results\"][\"target_test_label_accuracy\"])\n",
    "print(\"Source Val Label Accuracy:\", experiment[\"results\"][\"source_val_label_accuracy\"], \"Target Val Label Accuracy:\", experiment[\"results\"][\"target_val_label_accuracy\"])"
   ]
  },
  {
   "cell_type": "code",
   "execution_count": 29,
   "id": "dacca602",
   "metadata": {
    "execution": {
     "iopub.execute_input": "2022-03-21T08:43:42.752094Z",
     "iopub.status.busy": "2022-03-21T08:43:42.751729Z",
     "iopub.status.idle": "2022-03-21T08:43:42.778661Z",
     "shell.execute_reply": "2022-03-21T08:43:42.779336Z"
    },
    "papermill": {
     "duration": 0.095161,
     "end_time": "2022-03-21T08:43:42.779518",
     "exception": false,
     "start_time": "2022-03-21T08:43:42.684357",
     "status": "completed"
    },
    "tags": [
     "experiment_json"
    ]
   },
   "outputs": [
    {
     "data": {
      "text/plain": [
       "'{\"experiment_name\": \"tl_1v2:cores-oracle.run1.framed\", \"parameters\": {\"experiment_name\": \"tl_1v2:cores-oracle.run1.framed\", \"device\": \"cuda\", \"lr\": 0.0001, \"n_shot\": 3, \"n_query\": 2, \"train_k_factor\": 3, \"val_k_factor\": 2, \"test_k_factor\": 2, \"torch_default_dtype\": \"torch.float32\", \"n_epoch\": 50, \"patience\": 3, \"criteria_for_best\": \"target_accuracy\", \"x_net\": [{\"class\": \"nnReshape\", \"kargs\": {\"shape\": [-1, 1, 2, 256]}}, {\"class\": \"Conv2d\", \"kargs\": {\"in_channels\": 1, \"out_channels\": 256, \"kernel_size\": [1, 7], \"bias\": false, \"padding\": [0, 3]}}, {\"class\": \"ReLU\", \"kargs\": {\"inplace\": true}}, {\"class\": \"BatchNorm2d\", \"kargs\": {\"num_features\": 256}}, {\"class\": \"Conv2d\", \"kargs\": {\"in_channels\": 256, \"out_channels\": 80, \"kernel_size\": [2, 7], \"bias\": true, \"padding\": [0, 3]}}, {\"class\": \"ReLU\", \"kargs\": {\"inplace\": true}}, {\"class\": \"BatchNorm2d\", \"kargs\": {\"num_features\": 80}}, {\"class\": \"Flatten\", \"kargs\": {}}, {\"class\": \"Linear\", \"kargs\": {\"in_features\": 20480, \"out_features\": 256}}, {\"class\": \"ReLU\", \"kargs\": {\"inplace\": true}}, {\"class\": \"BatchNorm1d\", \"kargs\": {\"num_features\": 256}}, {\"class\": \"Linear\", \"kargs\": {\"in_features\": 256, \"out_features\": 256}}], \"NUM_LOGS_PER_EPOCH\": 10, \"BEST_MODEL_PATH\": \"./best_model.pth\", \"n_way\": 16, \"datasets\": [{\"labels\": [\"1-10.\", \"1-11.\", \"1-15.\", \"1-16.\", \"1-17.\", \"1-18.\", \"1-19.\", \"10-4.\", \"10-7.\", \"11-1.\", \"11-14.\", \"11-17.\", \"11-20.\", \"11-7.\", \"13-20.\", \"13-8.\", \"14-10.\", \"14-11.\", \"14-14.\", \"14-7.\", \"15-1.\", \"15-20.\", \"16-1.\", \"16-16.\", \"17-10.\", \"17-11.\", \"17-2.\", \"19-1.\", \"19-16.\", \"19-19.\", \"19-20.\", \"19-3.\", \"2-10.\", \"2-11.\", \"2-17.\", \"2-18.\", \"2-20.\", \"2-3.\", \"2-4.\", \"2-5.\", \"2-6.\", \"2-7.\", \"2-8.\", \"3-13.\", \"3-18.\", \"3-3.\", \"4-1.\", \"4-10.\", \"4-11.\", \"4-19.\", \"5-5.\", \"6-15.\", \"7-10.\", \"7-14.\", \"8-18.\", \"8-20.\", \"8-3.\", \"8-8.\"], \"domains\": [1, 2, 3, 4, 5], \"num_examples_per_domain_per_label\": -1, \"pickle_path\": \"/root/csc500-main/datasets/cores.stratified_ds.2022A.pkl\", \"source_or_target_dataset\": \"target\", \"x_transforms\": [\"unit_mag\"], \"episode_transforms\": [], \"domain_prefix\": \"CORES_\"}, {\"labels\": [\"3123D52\", \"3123D65\", \"3123D79\", \"3123D80\", \"3123D54\", \"3123D70\", \"3123D7B\", \"3123D89\", \"3123D58\", \"3123D76\", \"3123D7D\", \"3123EFE\", \"3123D64\", \"3123D78\", \"3123D7E\", \"3124E4A\"], \"domains\": [32, 38, 8, 44, 14, 50, 20, 26], \"num_examples_per_domain_per_label\": 2000, \"pickle_path\": \"/root/csc500-main/datasets/oracle.Run1_framed_2000Examples_stratified_ds.2022A.pkl\", \"source_or_target_dataset\": \"source\", \"x_transforms\": [\"unit_mag\"], \"episode_transforms\": [], \"domain_prefix\": \"ORACLE.run1_\"}], \"dataset_seed\": 420, \"seed\": 420, \"x_shape\": [2, 256], \"domains_source\": [\"ORACLE.run1_32\", \"ORACLE.run1_38\", \"ORACLE.run1_8\", \"ORACLE.run1_44\", \"ORACLE.run1_14\", \"ORACLE.run1_50\", \"ORACLE.run1_20\", \"ORACLE.run1_26\"], \"domains_target\": [\"CORES_1\", \"CORES_2\", \"CORES_3\", \"CORES_4\", \"CORES_5\"]}, \"results\": {\"source_test_label_accuracy\": 0.89775390625, \"source_test_label_loss\": 0.2881307005882263, \"target_test_label_accuracy\": 0.7924308690744921, \"target_test_label_loss\": 99.14907836914062, \"source_val_label_accuracy\": 0.8990559895833333, \"source_val_label_loss\": 0.28281745314598083, \"target_val_label_accuracy\": 0.7885714285714286, \"target_val_label_loss\": 104.12413024902344, \"total_epochs_trained\": 12, \"total_experiment_time_secs\": 3109.074553966522, \"confusion\": {\"ORACLE.run1_14\": {\"15\": {\"15\": 240}, \"5\": {\"5\": 212, \"2\": 3, \"4\": 15, \"3\": 4, \"7\": 1, \"1\": 5}, \"7\": {\"7\": 240}, \"4\": {\"4\": 236, \"5\": 2, \"3\": 1, \"1\": 1}, \"10\": {\"10\": 240}, \"11\": {\"11\": 236, \"9\": 2, \"0\": 2}, \"12\": {\"12\": 240}, \"0\": {\"0\": 239, \"10\": 1}, \"14\": {\"14\": 223, \"2\": 14, \"13\": 2, \"6\": 1}, \"8\": {\"8\": 240}, \"13\": {\"13\": 175, \"6\": 54, \"14\": 4, \"4\": 2, \"2\": 3, \"5\": 2}, \"6\": {\"13\": 21, \"6\": 214, \"14\": 4, \"4\": 1}, \"1\": {\"1\": 234, \"5\": 6}, \"3\": {\"3\": 235, \"2\": 2, \"14\": 2, \"0\": 1}, \"9\": {\"9\": 240}, \"2\": {\"2\": 176, \"6\": 3, \"5\": 12, \"14\": 43, \"3\": 4, \"13\": 2}}, \"ORACLE.run1_20\": {\"4\": {\"4\": 236, \"8\": 2, \"7\": 1, \"3\": 1}, \"10\": {\"10\": 240}, \"15\": {\"15\": 224, \"5\": 7, \"1\": 8, \"0\": 1}, \"0\": {\"0\": 209, \"5\": 23, \"15\": 7, \"8\": 1}, \"6\": {\"6\": 234, \"14\": 6}, \"3\": {\"3\": 185, \"9\": 12, \"12\": 33, \"1\": 3, \"4\": 3, \"7\": 3, \"2\": 1}, \"7\": {\"7\": 227, \"2\": 7, \"8\": 2, \"9\": 2, \"4\": 1, \"3\": 1}, \"2\": {\"9\": 26, \"2\": 190, \"3\": 5, \"12\": 7, \"13\": 5, \"1\": 2, \"7\": 5}, \"8\": {\"8\": 234, \"7\": 3, \"4\": 3}, \"11\": {\"11\": 240}, \"14\": {\"14\": 236, \"6\": 4}, \"12\": {\"12\": 186, \"1\": 19, \"3\": 29, \"9\": 6}, \"13\": {\"13\": 238, \"2\": 2}, \"9\": {\"9\": 205, \"2\": 22, \"3\": 10, \"12\": 3}, \"5\": {\"0\": 7, \"5\": 221, \"15\": 9, \"12\": 2, \"1\": 1}, \"1\": {\"1\": 207, \"12\": 24, \"15\": 7, \"3\": 1, \"9\": 1}}, \"ORACLE.run1_50\": {\"5\": {\"5\": 178, \"4\": 31, \"1\": 10, \"7\": 10, \"13\": 10, \"6\": 1}, \"12\": {\"12\": 235, \"14\": 1, \"11\": 2, \"9\": 2}, \"14\": {\"14\": 240}, \"4\": {\"4\": 184, \"7\": 4, \"5\": 31, \"15\": 19, \"1\": 2}, \"13\": {\"13\": 224, \"5\": 7, \"6\": 4, \"7\": 4, \"10\": 1}, \"10\": {\"10\": 234, \"13\": 2, \"8\": 1, \"0\": 3}, \"9\": {\"9\": 231, \"11\": 3, \"12\": 6}, \"15\": {\"15\": 226, \"4\": 5, \"1\": 5, \"11\": 2, \"6\": 1, \"5\": 1}, \"6\": {\"6\": 233, \"5\": 1, \"1\": 1, \"13\": 3, \"7\": 2}, \"2\": {\"2\": 228, \"0\": 12}, \"0\": {\"0\": 221, \"2\": 14, \"10\": 5}, \"11\": {\"11\": 224, \"9\": 1, \"1\": 2, \"15\": 11, \"12\": 2}, \"3\": {\"3\": 240}, \"8\": {\"8\": 238, \"10\": 2}, \"7\": {\"7\": 209, \"13\": 9, \"6\": 13, \"5\": 9}, \"1\": {\"1\": 220, \"4\": 3, \"15\": 14, \"5\": 3}}, \"ORACLE.run1_26\": {\"7\": {\"7\": 208, \"3\": 10, \"2\": 12, \"4\": 8, \"8\": 2}, \"6\": {\"6\": 225, \"15\": 9, \"10\": 4, \"9\": 2}, \"14\": {\"1\": 9, \"0\": 21, \"14\": 169, \"8\": 3, \"4\": 23, \"10\": 14, \"7\": 1}, \"15\": {\"15\": 212, \"13\": 1, \"9\": 15, \"5\": 1, \"8\": 2, \"7\": 2, \"2\": 1, \"6\": 5, \"10\": 1}, \"5\": {\"5\": 220, \"13\": 10, \"2\": 5, \"15\": 5}, \"10\": {\"10\": 147, \"8\": 19, \"0\": 59, \"14\": 12, \"1\": 1, \"15\": 1, \"6\": 1}, \"4\": {\"0\": 11, \"4\": 187, \"1\": 2, \"14\": 26, \"8\": 8, \"7\": 5, \"10\": 1}, \"11\": {\"11\": 240}, \"13\": {\"13\": 212, \"5\": 23, \"2\": 2, \"9\": 1, \"15\": 2}, \"2\": {\"5\": 19, \"2\": 132, \"3\": 62, \"8\": 4, \"7\": 16, \"15\": 4, \"13\": 2, \"9\": 1}, \"0\": {\"8\": 8, \"0\": 114, \"10\": 65, \"14\": 34, \"4\": 15, \"7\": 2, \"1\": 1, \"6\": 1}, \"12\": {\"12\": 240}, \"3\": {\"3\": 194, \"2\": 34, \"7\": 12}, \"9\": {\"9\": 218, \"15\": 13, \"8\": 3, \"13\": 3, \"6\": 2, \"10\": 1}, \"8\": {\"8\": 152, \"0\": 20, \"7\": 15, \"4\": 12, \"14\": 10, \"10\": 30, \"15\": 1}, \"1\": {\"1\": 217, \"14\": 15, \"0\": 1, \"4\": 6, \"7\": 1}}, \"ORACLE.run1_32\": {\"7\": {\"7\": 191, \"5\": 35, \"4\": 5, \"13\": 2, \"2\": 2, \"14\": 5}, \"2\": {\"2\": 209, \"4\": 30, \"7\": 1}, \"5\": {\"5\": 163, \"7\": 47, \"4\": 11, \"8\": 4, \"13\": 9, \"3\": 3, \"14\": 3}, \"6\": {\"6\": 240}, \"13\": {\"13\": 200, \"3\": 16, \"8\": 5, \"4\": 13, \"7\": 2, \"0\": 1, \"11\": 1, \"5\": 2}, \"4\": {\"4\": 203, \"2\": 20, \"13\": 5, \"7\": 9, \"5\": 3}, \"3\": {\"3\": 235, \"11\": 1, \"13\": 2, \"8\": 2}, \"0\": {\"0\": 217, \"8\": 9, \"5\": 3, \"7\": 2, \"14\": 9}, \"9\": {\"9\": 240}, \"12\": {\"12\": 240}, \"8\": {\"8\": 218, \"0\": 15, \"13\": 3, \"14\": 1, \"5\": 2, \"3\": 1}, \"14\": {\"14\": 208, \"5\": 1, \"0\": 13, \"11\": 16, \"8\": 1, \"7\": 1}, \"15\": {\"15\": 238, \"8\": 1, \"0\": 1}, \"11\": {\"11\": 231, \"14\": 9}, \"10\": {\"10\": 240}, \"1\": {\"1\": 240}}, \"ORACLE.run1_44\": {\"11\": {\"11\": 239, \"13\": 1}, \"7\": {\"7\": 201, \"9\": 27, \"2\": 9, \"6\": 3}, \"6\": {\"6\": 194, \"13\": 30, \"9\": 13, \"7\": 3}, \"12\": {\"12\": 223, \"1\": 14, \"3\": 3}, \"4\": {\"4\": 177, \"14\": 62, \"15\": 1}, \"13\": {\"6\": 26, \"13\": 196, \"9\": 16, \"7\": 1, \"11\": 1}, \"8\": {\"8\": 173, \"0\": 63, \"5\": 3, \"15\": 1}, \"5\": {\"5\": 223, \"0\": 8, \"4\": 1, \"14\": 5, \"15\": 2, \"8\": 1}, \"14\": {\"14\": 179, \"4\": 56, \"5\": 1, \"15\": 4}, \"3\": {\"1\": 9, \"3\": 228, \"12\": 2, \"2\": 1}, \"10\": {\"10\": 223, \"2\": 7, \"1\": 10}, \"1\": {\"10\": 10, \"1\": 195, \"2\": 6, \"3\": 12, \"12\": 17}, \"2\": {\"10\": 5, \"2\": 210, \"7\": 19, \"1\": 6}, \"15\": {\"15\": 204, \"5\": 5, \"14\": 15, \"0\": 10, \"8\": 5, \"4\": 1}, \"9\": {\"9\": 154, \"7\": 40, \"6\": 25, \"13\": 21}, \"0\": {\"8\": 54, \"0\": 175, \"5\": 5, \"15\": 6}}, \"ORACLE.run1_8\": {\"10\": {\"10\": 220, \"4\": 3, \"13\": 10, \"14\": 7}, \"6\": {\"6\": 217, \"7\": 15, \"4\": 4, \"13\": 4}, \"13\": {\"13\": 150, \"14\": 1, \"4\": 31, \"0\": 20, \"10\": 34, \"6\": 3, \"7\": 1}, \"3\": {\"3\": 240}, \"9\": {\"9\": 240}, \"1\": {\"1\": 240}, \"5\": {\"5\": 232, \"10\": 6, \"11\": 1, \"14\": 1}, \"11\": {\"11\": 233, \"1\": 7}, \"4\": {\"4\": 216, \"13\": 14, \"6\": 2, \"14\": 7, \"0\": 1}, \"14\": {\"14\": 216, \"4\": 8, \"10\": 10, \"1\": 2, \"13\": 3, \"5\": 1}, \"12\": {\"12\": 210, \"8\": 4, \"15\": 23, \"3\": 3}, \"7\": {\"7\": 208, \"6\": 31, \"12\": 1}, \"0\": {\"0\": 207, \"7\": 5, \"13\": 22, \"10\": 3, \"4\": 1, \"6\": 2}, \"15\": {\"15\": 229, \"12\": 10, \"8\": 1}, \"2\": {\"3\": 4, \"2\": 233, \"7\": 3}, \"8\": {\"8\": 240}}, \"ORACLE.run1_38\": {\"4\": {\"4\": 240}, \"7\": {\"7\": 219, \"0\": 6, \"5\": 12, \"8\": 2, \"10\": 1}, \"12\": {\"12\": 240}, \"10\": {\"7\": 2, \"10\": 229, \"0\": 3, \"13\": 6}, \"0\": {\"0\": 205, \"5\": 4, \"8\": 20, \"3\": 6, \"7\": 2, \"10\": 1, \"13\": 2}, \"1\": {\"1\": 238, \"15\": 2}, \"5\": {\"7\": 21, \"5\": 163, \"8\": 47, \"9\": 3, \"0\": 3, \"15\": 1, \"6\": 2}, \"15\": {\"15\": 214, \"8\": 9, \"13\": 3, \"1\": 6, \"5\": 8}, \"9\": {\"9\": 237, \"6\": 1, \"5\": 1, \"0\": 1}, \"11\": {\"11\": 236, \"10\": 3, \"0\": 1}, \"14\": {\"14\": 234, \"2\": 4, \"13\": 1, \"10\": 1}, \"6\": {\"6\": 240}, \"8\": {\"8\": 199, \"5\": 29, \"15\": 2, \"0\": 3, \"10\": 2, \"7\": 5}, \"3\": {\"3\": 238, \"11\": 1, \"0\": 1}, \"2\": {\"2\": 233, \"13\": 3, \"14\": 4}, \"13\": {\"13\": 232, \"0\": 3, \"15\": 1, \"8\": 1, \"2\": 2, \"10\": 1}}, \"CORES_4\": {\"42\": {\"42\": 32}, \"0\": {\"0\": 69, \"41\": 1, \"43\": 6, \"22\": 1, \"11\": 1, \"15\": 2}, \"1\": {\"1\": 38, \"57\": 1, \"5\": 1}, \"39\": {\"39\": 14, \"5\": 1, \"52\": 1, \"57\": 2, \"47\": 2}, \"28\": {\"28\": 28, \"33\": 2, \"19\": 2}, \"53\": {\"53\": 102, \"26\": 3, \"19\": 1, \"50\": 5, \"4\": 4, \"51\": 5, \"20\": 2, \"9\": 1, \"40\": 1}, \"19\": {\"19\": 122, \"44\": 13, \"25\": 4, \"29\": 3, \"40\": 1, \"55\": 1}, \"34\": {\"34\": 17, \"26\": 4, \"25\": 1, \"42\": 1, \"28\": 1}, \"33\": {\"33\": 32, \"6\": 2, \"13\": 1, \"40\": 1}, \"32\": {\"32\": 23, \"55\": 1}, \"10\": {\"10\": 121, \"14\": 2, \"24\": 1, \"38\": 2, \"56\": 6, \"43\": 2, \"2\": 1, \"22\": 1}, \"46\": {\"1\": 5, \"46\": 64, \"14\": 1, \"15\": 4, \"47\": 9, \"22\": 6, \"0\": 4, \"5\": 9, \"16\": 5, \"29\": 3, \"52\": 2, \"55\": 4, \"11\": 2, \"57\": 5, \"23\": 2, \"39\": 1, \"35\": 1, \"41\": 1, \"56\": 5, \"43\": 1}, \"20\": {\"51\": 19, \"20\": 83, \"19\": 3, \"5\": 1, \"36\": 2, \"4\": 1, \"50\": 2, \"29\": 1, \"53\": 7, \"25\": 2, \"44\": 1}, \"5\": {\"39\": 5, \"5\": 43, \"46\": 13, \"1\": 4, \"57\": 14, \"41\": 1, \"47\": 14, \"16\": 1, \"15\": 1, \"40\": 1, \"52\": 2, \"7\": 1, \"44\": 1, \"29\": 2, \"6\": 1, \"11\": 1, \"55\": 1, \"25\": 2}, \"40\": {\"32\": 1, \"40\": 106, \"33\": 2, \"47\": 2, \"31\": 1, \"25\": 1, \"19\": 2, \"29\": 5, \"44\": 3, \"55\": 1}, \"51\": {\"20\": 15, \"51\": 116, \"50\": 3, \"3\": 1, \"53\": 5, \"4\": 1, \"9\": 1, \"6\": 1, \"25\": 1}, \"37\": {\"37\": 24}, \"17\": {\"27\": 2, \"17\": 77, \"48\": 1}, \"45\": {\"45\": 46, \"9\": 6, \"50\": 3, \"30\": 3, \"51\": 2, \"4\": 3, \"17\": 2, \"8\": 1, \"27\": 14, \"48\": 3, \"12\": 2, \"21\": 10, \"20\": 1}, \"13\": {\"13\": 138, \"10\": 2, \"38\": 1, \"2\": 1}, \"27\": {\"27\": 129, \"17\": 11, \"48\": 1, \"12\": 1, \"45\": 2}, \"24\": {\"22\": 3, \"24\": 40, \"0\": 2, \"43\": 3, \"10\": 5, \"56\": 2, \"38\": 1}, \"30\": {\"45\": 3, \"30\": 31, \"8\": 6, \"27\": 1, \"21\": 2, \"12\": 1}, \"31\": {\"31\": 27, \"37\": 1}, \"41\": {\"41\": 29, \"15\": 1, \"16\": 3, \"38\": 1, \"13\": 1, \"32\": 1}, \"36\": {\"36\": 74, \"53\": 1, \"54\": 9, \"21\": 1, \"19\": 1, \"6\": 1, \"3\": 2, \"48\": 3}, \"16\": {\"16\": 74, \"1\": 1, \"15\": 7, \"57\": 3, \"46\": 2, \"5\": 4, \"11\": 3, \"41\": 1, \"22\": 1}, \"22\": {\"37\": 2, \"24\": 7, \"0\": 10, \"22\": 69, \"43\": 10, \"56\": 15, \"10\": 7, \"46\": 1, \"11\": 4, \"16\": 1, \"35\": 1, \"13\": 1}, \"44\": {\"44\": 89, \"28\": 2, \"40\": 11, \"25\": 3, \"19\": 17, \"6\": 6, \"5\": 1, \"31\": 1, \"33\": 1, \"55\": 1}, \"9\": {\"30\": 4, \"9\": 95, \"3\": 1, \"26\": 1, \"8\": 10, \"21\": 8, \"4\": 2, \"12\": 1, \"50\": 4, \"19\": 1, \"25\": 1, \"27\": 3, \"28\": 1, \"48\": 1, \"45\": 2, \"51\": 2, \"20\": 3}, \"57\": {\"57\": 69, \"47\": 8, \"5\": 9, \"35\": 1, \"46\": 6, \"1\": 3, \"16\": 2, \"41\": 2}, \"8\": {\"8\": 125, \"21\": 10, \"30\": 2, \"9\": 1}, \"23\": {\"23\": 114, \"18\": 9, \"52\": 6, \"54\": 1, \"36\": 1, \"3\": 1}, \"47\": {\"47\": 94, \"29\": 7, \"46\": 5, \"5\": 7, \"57\": 7}, \"43\": {\"43\": 123, \"24\": 2, \"14\": 1, \"0\": 8, \"56\": 2, \"22\": 1, \"11\": 1}, \"49\": {\"49\": 20}, \"3\": {\"3\": 53, \"9\": 4, \"36\": 7, \"5\": 2, \"30\": 3, \"26\": 2, \"25\": 5, \"29\": 1, \"54\": 11, \"50\": 6, \"18\": 7, \"23\": 5, \"48\": 2, \"53\": 5, \"20\": 3, \"4\": 2, \"51\": 3, \"57\": 1, \"27\": 1, \"47\": 1}, \"12\": {\"45\": 6, \"12\": 57, \"27\": 6, \"30\": 4, \"8\": 3, \"17\": 5, \"48\": 1, \"21\": 9, \"9\": 1}, \"38\": {\"38\": 35, \"2\": 1, \"10\": 2, \"24\": 2}, \"7\": {\"7\": 23, \"15\": 1}, \"14\": {\"43\": 1, \"14\": 12, \"22\": 1, \"37\": 1, \"0\": 1}, \"15\": {\"15\": 118, \"5\": 2, \"24\": 1, \"41\": 3, \"46\": 4, \"11\": 10, \"16\": 4, \"55\": 2, \"22\": 2}, \"25\": {\"25\": 89, \"51\": 10, \"47\": 1, \"44\": 6, \"6\": 5, \"29\": 3, \"5\": 1, \"40\": 8, \"18\": 1, \"28\": 1, \"33\": 1, \"55\": 1, \"19\": 1}, \"26\": {\"44\": 1, \"26\": 21, \"34\": 2}, \"21\": {\"21\": 122, \"8\": 7, \"27\": 2, \"12\": 1}, \"48\": {\"48\": 124, \"54\": 3, \"27\": 11, \"17\": 4, \"36\": 1, \"3\": 1}, \"56\": {\"56\": 108, \"10\": 14, \"22\": 8, \"43\": 3, \"24\": 1}, \"11\": {\"7\": 1, \"11\": 81, \"35\": 7, \"15\": 7, \"49\": 2, \"16\": 2, \"0\": 3, \"22\": 1}, \"2\": {\"2\": 29, \"38\": 2, \"24\": 2, \"10\": 3}, \"6\": {\"3\": 4, \"6\": 28, \"40\": 9, \"8\": 1, \"51\": 2, \"29\": 6, \"4\": 9, \"54\": 9, \"18\": 5, \"5\": 2, \"33\": 3, \"20\": 3, \"57\": 1, \"25\": 5, \"52\": 1, \"44\": 2, \"53\": 5, \"23\": 3, \"28\": 2, \"34\": 2, \"36\": 2, \"50\": 1, \"1\": 1, \"19\": 4, \"55\": 1, \"47\": 1}, \"55\": {\"55\": 118, \"35\": 1, \"32\": 1, \"37\": 1, \"31\": 2, \"47\": 2, \"29\": 3, \"33\": 1, \"22\": 3, \"46\": 3, \"40\": 2, \"15\": 1, \"25\": 1, \"44\": 1}, \"54\": {\"54\": 103, \"36\": 3, \"18\": 1, \"3\": 1}, \"29\": {\"29\": 88, \"28\": 1, \"47\": 7, \"37\": 1, \"6\": 1, \"22\": 1, \"33\": 3, \"44\": 1, \"25\": 1, \"15\": 1, \"57\": 5, \"40\": 3, \"46\": 4, \"5\": 5, \"16\": 1, \"41\": 1}, \"50\": {\"8\": 13, \"50\": 37, \"51\": 4, \"25\": 4, \"9\": 18, \"20\": 10, \"28\": 1, \"4\": 11, \"3\": 7, \"19\": 1, \"44\": 3, \"54\": 1, \"12\": 2, \"40\": 1, \"6\": 1, \"48\": 1, \"30\": 3, \"36\": 1, \"27\": 3}, \"52\": {\"52\": 103, \"23\": 7, \"39\": 1, \"5\": 1, \"18\": 3, \"57\": 1}, \"35\": {\"35\": 37, \"0\": 2, \"15\": 1}, \"4\": {\"50\": 3, \"33\": 1, \"4\": 96, \"44\": 4, \"9\": 5, \"6\": 3, \"54\": 2, \"26\": 1, \"8\": 1, \"53\": 2, \"55\": 1, \"40\": 1}, \"18\": {\"18\": 93, \"23\": 9, \"42\": 1, \"52\": 1, \"6\": 2, \"36\": 1, \"54\": 1}}, \"CORES_5\": {\"43\": {\"43\": 107, \"11\": 18, \"15\": 18, \"29\": 1, \"16\": 2, \"31\": 3, \"2\": 1, \"3\": 1, \"0\": 1}, \"35\": {\"35\": 31, \"24\": 4, \"56\": 1}, \"54\": {\"54\": 109, \"50\": 1, \"18\": 1, \"23\": 1}, \"22\": {\"22\": 21, \"29\": 4, \"0\": 1, \"14\": 1, \"35\": 1}, \"16\": {\"16\": 122, \"46\": 11, \"3\": 5, \"0\": 1, \"11\": 3, \"36\": 1, \"47\": 1, \"29\": 2}, \"5\": {\"5\": 110, \"40\": 7, \"36\": 3, \"44\": 7, \"14\": 1}, \"28\": {\"14\": 1, \"28\": 28, \"2\": 2, \"43\": 1}, \"14\": {\"16\": 4, \"22\": 1, \"3\": 2, \"14\": 22, \"44\": 3, \"40\": 6, \"46\": 1, \"29\": 2, \"36\": 1, \"43\": 1, \"2\": 1}, \"51\": {\"51\": 105, \"53\": 1, \"45\": 2, \"4\": 3, \"32\": 1, \"50\": 1, \"20\": 14, \"55\": 1}, \"19\": {\"19\": 124, \"34\": 1, \"50\": 9, \"45\": 1, \"20\": 3, \"21\": 2}, \"31\": {\"31\": 33, \"28\": 1, \"37\": 1, \"0\": 1}, \"10\": {\"10\": 59, \"24\": 1, \"13\": 8}, \"21\": {\"21\": 135, \"50\": 1}, \"3\": {\"14\": 5, \"3\": 50, \"40\": 6, \"11\": 4, \"41\": 2, \"16\": 5, \"29\": 4, \"2\": 1, \"23\": 1, \"15\": 1, \"34\": 1, \"43\": 1, \"56\": 3, \"36\": 1, \"47\": 4, \"57\": 5, \"46\": 4, \"44\": 1, \"0\": 1}, \"57\": {\"3\": 2, \"42\": 7, \"57\": 112, \"25\": 2, \"52\": 4, \"46\": 3, \"21\": 2}, \"9\": {\"9\": 76, \"54\": 1, \"30\": 5, \"27\": 15, \"5\": 1, \"17\": 3, \"48\": 7, \"20\": 1, \"6\": 8, \"32\": 1, \"50\": 4, \"33\": 1, \"1\": 9, \"8\": 3, \"19\": 5, \"25\": 2, \"40\": 1, \"55\": 2, \"45\": 1}, \"8\": {\"8\": 105, \"12\": 1, \"47\": 1, \"7\": 1, \"53\": 15, \"27\": 3, \"30\": 2, \"4\": 2, \"45\": 1, \"51\": 1}, \"46\": {\"46\": 106, \"3\": 3, \"57\": 4, \"22\": 1, \"11\": 4, \"14\": 1, \"16\": 8, \"29\": 1, \"47\": 2, \"52\": 6, \"56\": 2, \"28\": 1, \"34\": 1}, \"23\": {\"23\": 102, \"18\": 6, \"41\": 2, \"54\": 9, \"52\": 2, \"21\": 1, \"29\": 1, \"25\": 1}, \"37\": {\"37\": 22, \"36\": 1, \"31\": 1}, \"34\": {\"34\": 28, \"3\": 1, \"47\": 4, \"5\": 1, \"40\": 1, \"36\": 1}, \"4\": {\"19\": 4, \"4\": 75, \"27\": 2, \"8\": 2, \"40\": 1, \"45\": 6, \"6\": 2, \"55\": 4, \"53\": 1, \"32\": 1, \"9\": 1, \"25\": 1}, \"6\": {\"19\": 4, \"8\": 3, \"6\": 27, \"32\": 1, \"54\": 3, \"20\": 3, \"38\": 3, \"17\": 20, \"25\": 1, \"45\": 4, \"48\": 16, \"53\": 5, \"1\": 9, \"9\": 7, \"51\": 4, \"50\": 6, \"27\": 5, \"23\": 1, \"55\": 1, \"26\": 1, \"30\": 2, \"4\": 2}, \"48\": {\"48\": 103, \"26\": 3, \"17\": 19, \"5\": 1, \"6\": 4, \"1\": 4, \"9\": 1, \"19\": 1}, \"44\": {\"44\": 100, \"14\": 2, \"2\": 1, \"25\": 1, \"36\": 4, \"29\": 9, \"40\": 13, \"5\": 7, \"47\": 1}, \"40\": {\"40\": 100, \"44\": 8, \"29\": 9, \"36\": 2, \"5\": 1, \"43\": 1, \"14\": 2, \"11\": 1}, \"12\": {\"12\": 67, \"48\": 4, \"30\": 7, \"7\": 1, \"4\": 3, \"8\": 4, \"27\": 2, \"6\": 3, \"32\": 1, \"26\": 1, \"9\": 2, \"1\": 1}, \"30\": {\"6\": 3, \"30\": 102, \"7\": 2, \"48\": 1, \"32\": 1, \"27\": 11, \"8\": 4, \"17\": 1, \"25\": 1, \"1\": 1, \"19\": 1}, \"39\": {\"39\": 18, \"57\": 1, \"42\": 1}, \"45\": {\"27\": 9, \"30\": 3, \"4\": 12, \"45\": 28, \"17\": 1, \"19\": 5, \"7\": 1, \"55\": 7, \"51\": 4, \"6\": 7, \"9\": 11, \"1\": 4, \"8\": 5, \"21\": 1, \"53\": 8, \"25\": 6, \"20\": 4, \"50\": 4, \"32\": 1, \"12\": 2, \"23\": 1}, \"36\": {\"36\": 56, \"33\": 1, \"2\": 1, \"40\": 5, \"14\": 1, \"11\": 1, \"35\": 1, \"3\": 2, \"23\": 1, \"29\": 8, \"34\": 3, \"44\": 4, \"47\": 3, \"16\": 4, \"57\": 1}, \"27\": {\"27\": 108, \"9\": 7, \"50\": 1, \"30\": 9, \"8\": 3, \"6\": 7, \"53\": 5}, \"32\": {\"32\": 31, \"33\": 1}, \"52\": {\"52\": 111, \"57\": 14, \"23\": 1, \"41\": 1, \"39\": 1, \"54\": 2}, \"0\": {\"0\": 120, \"15\": 1, \"56\": 3}, \"26\": {\"26\": 22, \"17\": 2}, \"1\": {\"1\": 136, \"48\": 5, \"6\": 3, \"19\": 2, \"17\": 2}, \"53\": {\"53\": 116, \"32\": 4, \"9\": 3, \"27\": 10, \"51\": 2, \"25\": 1, \"6\": 2, \"8\": 4, \"5\": 1, \"45\": 1, \"19\": 2}, \"25\": {\"25\": 118, \"44\": 2, \"33\": 2, \"50\": 7, \"21\": 7, \"40\": 2, \"19\": 4, \"41\": 1, \"5\": 1}, \"24\": {\"24\": 71, \"0\": 2, \"56\": 1, \"35\": 5, \"15\": 1}, \"7\": {\"7\": 29, \"8\": 3}, \"18\": {\"18\": 50, \"23\": 8, \"54\": 6}, \"20\": {\"20\": 115, \"51\": 24, \"19\": 3, \"6\": 1, \"45\": 1}, \"33\": {\"33\": 28, \"41\": 3, \"5\": 1}, \"55\": {\"55\": 119, \"4\": 1, \"19\": 7, \"50\": 5, \"45\": 5, \"27\": 1, \"30\": 1, \"53\": 1}, \"41\": {\"41\": 22, \"33\": 1, \"21\": 1, \"57\": 3, \"42\": 1}, \"42\": {\"42\": 37, \"40\": 1, \"46\": 1, \"18\": 1}, \"49\": {\"49\": 34, \"3\": 1, \"14\": 1}, \"13\": {\"13\": 138, \"10\": 7, \"56\": 2, \"24\": 1}, \"38\": {\"38\": 26, \"6\": 1, \"30\": 1, \"17\": 2, \"26\": 1, \"8\": 1}, \"2\": {\"2\": 18, \"28\": 1, \"16\": 1, \"56\": 2, \"46\": 1, \"3\": 1, \"37\": 1, \"57\": 1, \"11\": 1, \"36\": 1}, \"47\": {\"47\": 87, \"33\": 2, \"21\": 1, \"34\": 4, \"57\": 1, \"40\": 1, \"5\": 3, \"44\": 1}, \"17\": {\"17\": 98, \"26\": 2, \"48\": 10, \"30\": 1, \"38\": 3, \"6\": 2}, \"11\": {\"29\": 2, \"11\": 101, \"15\": 19, \"28\": 2, \"16\": 5, \"14\": 2, \"43\": 22, \"35\": 1}, \"29\": {\"29\": 111, \"11\": 2, \"36\": 4, \"3\": 1, \"44\": 1, \"43\": 6, \"0\": 1, \"40\": 4, \"28\": 1, \"15\": 1}, \"50\": {\"50\": 51, \"47\": 2, \"23\": 12, \"5\": 4, \"21\": 7, \"51\": 7, \"18\": 1, \"9\": 3, \"36\": 1, \"54\": 10, \"45\": 2, \"57\": 4, \"19\": 4, \"40\": 1, \"20\": 6, \"25\": 15, \"16\": 1, \"53\": 1, \"52\": 4, \"44\": 1, \"46\": 1}, \"56\": {\"56\": 136, \"0\": 8, \"24\": 3, \"43\": 1}, \"15\": {\"15\": 98, \"11\": 14, \"43\": 17, \"0\": 6, \"16\": 1, \"29\": 2, \"56\": 1, \"28\": 1, \"2\": 2}}, \"CORES_2\": {\"49\": {\"49\": 23, \"50\": 1}, \"13\": {\"13\": 105, \"24\": 5, \"10\": 5, \"56\": 1}, \"37\": {\"37\": 35, \"13\": 1}, \"41\": {\"41\": 20}, \"15\": {\"15\": 109, \"0\": 8, \"16\": 11, \"47\": 5, \"57\": 8, \"5\": 1}, \"56\": {\"13\": 1, \"56\": 131, \"14\": 1, \"24\": 3, \"10\": 6}, \"14\": {\"56\": 5, \"14\": 11, \"55\": 1, \"10\": 2, \"31\": 2, \"37\": 2, \"43\": 1}, \"3\": {\"49\": 2, \"47\": 1, \"41\": 2, \"23\": 5, \"3\": 41, \"2\": 1, \"53\": 1, \"29\": 13, \"19\": 1, \"33\": 1, \"46\": 2, \"52\": 1, \"1\": 2, \"44\": 2, \"48\": 1, \"51\": 2, \"25\": 3, \"30\": 3, \"34\": 2, \"50\": 2, \"21\": 2, \"18\": 1, \"40\": 1}, \"38\": {\"38\": 17, \"22\": 1, \"31\": 2}, \"43\": {\"43\": 129, \"10\": 5, \"24\": 2, \"22\": 1, \"56\": 1}, \"33\": {\"3\": 3, \"33\": 22, \"40\": 1, \"46\": 2}, \"47\": {\"47\": 115, \"46\": 3, \"0\": 2, \"28\": 2, \"16\": 5, \"15\": 4, \"57\": 4, \"11\": 1, \"5\": 2}, \"30\": {\"30\": 134, \"42\": 1, \"18\": 1, \"29\": 2, \"52\": 4, \"3\": 1, \"23\": 1}, \"39\": {\"39\": 23, \"28\": 4, \"16\": 1}, \"12\": {\"6\": 1, \"12\": 59, \"51\": 4, \"32\": 3, \"26\": 2, \"9\": 2, \"8\": 3, \"45\": 2, \"36\": 3, \"53\": 6, \"4\": 3, \"17\": 1, \"20\": 1, \"27\": 1, \"29\": 1}, \"6\": {\"6\": 56, \"3\": 4, \"48\": 23, \"29\": 3, \"18\": 1, \"17\": 9, \"50\": 7, \"51\": 3, \"36\": 3, \"45\": 3, \"30\": 2, \"27\": 1, \"25\": 2, \"53\": 2, \"21\": 1, \"40\": 1, \"41\": 2, \"20\": 1}, \"51\": {\"51\": 106, \"53\": 5, \"50\": 6, \"20\": 5, \"12\": 3, \"4\": 3, \"8\": 1, \"45\": 4, \"40\": 1}, \"5\": {\"5\": 96, \"11\": 17, \"47\": 2, \"13\": 1, \"28\": 1, \"46\": 1, \"16\": 1, \"22\": 1}, \"34\": {\"34\": 26, \"3\": 1, \"29\": 1}, \"35\": {\"35\": 31, \"44\": 1}, \"0\": {\"15\": 5, \"5\": 1, \"0\": 34, \"28\": 2, \"16\": 4, \"57\": 1, \"47\": 1}, \"7\": {\"7\": 33, \"0\": 1, \"47\": 1, \"1\": 1}, \"24\": {\"24\": 67, \"31\": 1, \"13\": 10, \"10\": 6, \"56\": 9, \"22\": 2, \"43\": 1}, \"8\": {\"8\": 134, \"53\": 2}, \"20\": {\"20\": 116, \"12\": 4, \"8\": 2, \"51\": 2}, \"36\": {\"36\": 107, \"27\": 3, \"54\": 2, \"53\": 1, \"32\": 1, \"6\": 2}, \"42\": {\"42\": 31, \"33\": 2, \"46\": 1, \"2\": 1, \"0\": 1}, \"1\": {\"1\": 90, \"52\": 2, \"18\": 1, \"23\": 11, \"29\": 2, \"57\": 3, \"7\": 1, \"3\": 1, \"15\": 1}, \"4\": {\"4\": 128, \"53\": 3, \"9\": 9, \"45\": 6, \"8\": 2}, \"28\": {\"28\": 23, \"0\": 4, \"15\": 1}, \"50\": {\"50\": 46, \"41\": 2, \"21\": 1, \"9\": 5, \"27\": 4, \"6\": 12, \"53\": 22, \"19\": 1, \"40\": 2, \"3\": 2, \"48\": 4, \"51\": 7, \"4\": 3, \"8\": 9, \"29\": 1, \"49\": 1, \"32\": 1, \"44\": 3, \"33\": 1, \"57\": 1, \"36\": 5, \"25\": 1, \"17\": 1, \"30\": 1}, \"45\": {\"8\": 7, \"45\": 36, \"40\": 3, \"22\": 1, \"4\": 11, \"17\": 10, \"54\": 9, \"51\": 4, \"26\": 5, \"20\": 6, \"29\": 1, \"27\": 14, \"44\": 1, \"9\": 3, \"53\": 4, \"36\": 2, \"32\": 2, \"19\": 5, \"12\": 4}, \"18\": {\"18\": 36, \"3\": 1, \"41\": 1, \"23\": 2, \"30\": 5, \"52\": 2, \"6\": 1}, \"57\": {\"57\": 100, \"16\": 3, \"15\": 10, \"0\": 3, \"1\": 2, \"47\": 1, \"46\": 1}, \"46\": {\"42\": 2, \"57\": 4, \"49\": 2, \"47\": 4, \"2\": 5, \"29\": 11, \"46\": 56, \"33\": 3, \"44\": 3, \"55\": 1, \"3\": 4, \"5\": 2, \"1\": 5, \"25\": 4, \"52\": 1, \"21\": 9, \"23\": 1, \"16\": 2, \"11\": 2, \"50\": 2, \"40\": 1, \"15\": 2, \"22\": 2}, \"23\": {\"23\": 120, \"1\": 8, \"52\": 11, \"57\": 2, \"30\": 3, \"46\": 1, \"3\": 1, \"18\": 2}, \"27\": {\"27\": 135, \"36\": 3}, \"19\": {\"19\": 102, \"29\": 8, \"42\": 1, \"40\": 14, \"25\": 3, \"46\": 1, \"57\": 1, \"21\": 3, \"55\": 1}, \"22\": {\"22\": 102, \"31\": 3, \"56\": 9, \"14\": 1, \"10\": 5, \"43\": 2, \"13\": 9, \"37\": 1, \"24\": 3, \"11\": 1}, \"17\": {\"17\": 92, \"54\": 6, \"53\": 2, \"19\": 1, \"36\": 2, \"27\": 1}, \"55\": {\"44\": 2, \"55\": 120, \"31\": 3, \"13\": 2, \"56\": 1, \"22\": 2, \"11\": 1, \"5\": 2, \"38\": 1, \"10\": 1, \"47\": 1}, \"44\": {\"44\": 91, \"19\": 1, \"46\": 1, \"29\": 2, \"35\": 1, \"33\": 1, \"25\": 3}, \"26\": {\"26\": 24}, \"31\": {\"31\": 28}, \"16\": {\"16\": 107, \"0\": 5, \"5\": 1, \"15\": 16, \"57\": 1}, \"11\": {\"11\": 108, \"16\": 3, \"5\": 15, \"28\": 1, \"0\": 1}, \"25\": {\"25\": 84, \"33\": 2, \"3\": 3, \"29\": 17, \"57\": 1, \"21\": 5, \"47\": 2, \"50\": 1, \"34\": 3, \"44\": 1, \"46\": 6, \"19\": 1}, \"54\": {\"54\": 88, \"27\": 16, \"26\": 2, \"17\": 2}, \"32\": {\"32\": 28}, \"52\": {\"52\": 92, \"23\": 16, \"30\": 12, \"57\": 1, \"1\": 2, \"46\": 1}, \"40\": {\"40\": 112, \"44\": 1, \"19\": 17, \"46\": 1, \"29\": 1}, \"2\": {\"2\": 29, \"1\": 1, \"23\": 1, \"47\": 1}, \"10\": {\"13\": 3, \"10\": 79, \"14\": 1, \"56\": 16, \"43\": 1, \"24\": 8, \"22\": 2}, \"53\": {\"53\": 120, \"36\": 1, \"50\": 4, \"8\": 8, \"9\": 1, \"45\": 1, \"4\": 1}, \"9\": {\"9\": 138, \"4\": 4, \"53\": 2, \"29\": 1, \"45\": 1, \"25\": 2, \"21\": 2}, \"21\": {\"21\": 98, \"19\": 1, \"51\": 1, \"29\": 6, \"3\": 4, \"25\": 1, \"42\": 1, \"46\": 6, \"33\": 2}, \"48\": {\"48\": 129, \"17\": 3, \"26\": 1, \"6\": 3, \"54\": 1, \"46\": 1}, \"29\": {\"29\": 106, \"33\": 1, \"21\": 3, \"40\": 2, \"25\": 4, \"1\": 3, \"3\": 2, \"47\": 1, \"34\": 1, \"46\": 1, \"44\": 1, \"11\": 1, \"30\": 1, \"19\": 1}}, \"CORES_1\": {\"9\": {\"9\": 142}, \"25\": {\"25\": 91, \"13\": 5, \"36\": 1, \"41\": 1, \"19\": 5, \"51\": 6, \"12\": 3, \"57\": 6, \"1\": 3, \"29\": 4, \"45\": 1, \"56\": 1, \"20\": 1}, \"41\": {\"41\": 24}, \"29\": {\"57\": 14, \"29\": 94, \"36\": 1, \"32\": 1, \"54\": 5, \"56\": 10, \"44\": 4, \"55\": 3, \"25\": 1, \"34\": 1, \"33\": 2, \"16\": 3, \"12\": 1}, \"46\": {\"46\": 70, \"1\": 1, \"5\": 12, \"50\": 2, \"40\": 9, \"4\": 10, \"30\": 1, \"6\": 4, \"9\": 3, \"8\": 8, \"51\": 1, \"53\": 5, \"56\": 1, \"14\": 1}, \"4\": {\"4\": 112, \"46\": 4, \"29\": 1, \"8\": 5, \"25\": 1, \"7\": 1, \"6\": 3, \"48\": 2, \"12\": 1, \"5\": 1, \"40\": 1}, \"31\": {\"31\": 26, \"24\": 1, \"10\": 1}, \"36\": {\"16\": 1, \"23\": 3, \"36\": 56, \"29\": 1, \"44\": 2, \"15\": 1}, \"20\": {\"20\": 124, \"12\": 2, \"54\": 1, \"56\": 1}, \"7\": {\"7\": 24, \"25\": 1, \"42\": 1, \"18\": 1, \"1\": 1}, \"6\": {\"6\": 73, \"19\": 1, \"50\": 4, \"46\": 2, \"48\": 6, \"5\": 5, \"17\": 3, \"4\": 1, \"8\": 1}, \"16\": {\"16\": 124, \"33\": 3, \"36\": 2, \"54\": 6, \"56\": 1, \"44\": 1, \"29\": 1}, \"17\": {\"17\": 50, \"6\": 1, \"2\": 3, \"48\": 10}, \"50\": {\"50\": 148}, \"57\": {\"57\": 110, \"25\": 8, \"56\": 20, \"54\": 4, \"13\": 1, \"19\": 1}, \"23\": {\"23\": 113, \"15\": 11, \"34\": 1, \"44\": 7, \"36\": 3, \"11\": 1}, \"3\": {\"3\": 107, \"38\": 1, \"55\": 3, \"15\": 1, \"44\": 4, \"0\": 4, \"24\": 1, \"35\": 1, \"11\": 1, \"23\": 1, \"52\": 1, \"47\": 1}, \"53\": {\"53\": 121, \"14\": 1, \"26\": 2, \"9\": 8, \"30\": 8}, \"49\": {\"49\": 31, \"52\": 1}, \"56\": {\"56\": 102, \"57\": 19, \"29\": 15, \"25\": 7, \"54\": 3, \"44\": 1, \"16\": 3, \"55\": 1, \"19\": 1}, \"51\": {\"51\": 118, \"12\": 2, \"57\": 2, \"13\": 14, \"25\": 1, \"41\": 3, \"42\": 1, \"20\": 1}, \"26\": {\"26\": 23, \"53\": 1}, \"43\": {\"49\": 1, \"43\": 119, \"24\": 3, \"27\": 11, \"31\": 1, \"10\": 4, \"22\": 3, \"52\": 1, \"28\": 1}, \"22\": {\"22\": 102, \"10\": 2, \"24\": 9, \"38\": 1, \"43\": 3, \"21\": 7, \"52\": 3, \"11\": 5, \"49\": 3, \"15\": 1}, \"45\": {\"45\": 133, \"19\": 3, \"42\": 2, \"1\": 6, \"25\": 1, \"20\": 1}, \"13\": {\"51\": 21, \"13\": 125, \"1\": 1, \"25\": 2, \"12\": 3}, \"12\": {\"12\": 96, \"55\": 2, \"20\": 10, \"13\": 1, \"51\": 3, \"40\": 1, \"29\": 3}, \"54\": {\"33\": 1, \"54\": 95, \"57\": 1, \"16\": 6, \"56\": 1}, \"24\": {\"24\": 71, \"31\": 3, \"10\": 13, \"39\": 1, \"27\": 3, \"22\": 6, \"11\": 3, \"0\": 2, \"21\": 2, \"43\": 3, \"49\": 1}, \"44\": {\"44\": 102, \"38\": 2, \"36\": 1, \"35\": 2, \"23\": 11, \"15\": 7, \"16\": 1, \"29\": 3, \"21\": 2, \"22\": 1, \"11\": 1, \"47\": 2, \"55\": 1}, \"28\": {\"28\": 22, \"31\": 1, \"52\": 3, \"24\": 1, \"22\": 1}, \"33\": {\"33\": 31, \"56\": 1}, \"38\": {\"38\": 23, \"47\": 1}, \"0\": {\"0\": 134, \"21\": 2, \"11\": 6, \"24\": 2}, \"47\": {\"47\": 118, \"38\": 2, \"21\": 2, \"49\": 1, \"35\": 3, \"23\": 1, \"0\": 3, \"52\": 10, \"3\": 5, \"11\": 6, \"22\": 1, \"55\": 1, \"44\": 1}, \"42\": {\"42\": 37, \"32\": 1, \"45\": 1, \"0\": 1}, \"34\": {\"34\": 24}, \"48\": {\"2\": 2, \"48\": 140}, \"35\": {\"35\": 31, \"47\": 1, \"38\": 3, \"32\": 1}, \"2\": {\"48\": 7, \"2\": 27, \"6\": 2}, \"30\": {\"18\": 2, \"30\": 107, \"26\": 1, \"14\": 4, \"53\": 6}, \"18\": {\"45\": 10, \"7\": 2, \"18\": 51, \"42\": 3, \"26\": 1, \"1\": 1, \"14\": 1, \"30\": 1, \"19\": 2}, \"37\": {\"37\": 30, \"42\": 1, \"45\": 1}, \"1\": {\"1\": 73, \"19\": 11, \"42\": 1, \"25\": 1, \"45\": 11, \"57\": 1, \"37\": 1, \"51\": 1}, \"11\": {\"11\": 85, \"49\": 1, \"24\": 4, \"22\": 10, \"10\": 1, \"52\": 6, \"47\": 4, \"21\": 19, \"15\": 3, \"23\": 1, \"0\": 3, \"44\": 1}, \"55\": {\"3\": 4, \"55\": 107, \"38\": 1, \"47\": 4, \"44\": 6, \"15\": 1, \"54\": 2, \"12\": 2, \"56\": 1, \"21\": 2}, \"15\": {\"15\": 108, \"23\": 17, \"38\": 3, \"35\": 2, \"21\": 7, \"11\": 3, \"47\": 4, \"44\": 4, \"22\": 1, \"55\": 1}, \"10\": {\"10\": 77, \"24\": 11, \"39\": 1, \"52\": 2, \"22\": 1, \"43\": 1, \"49\": 1, \"11\": 2}, \"27\": {\"27\": 143, \"43\": 14, \"24\": 1, \"49\": 1, \"10\": 1}, \"19\": {\"19\": 106, \"1\": 14, \"37\": 1, \"45\": 14, \"42\": 1, \"54\": 1, \"25\": 5, \"57\": 2, \"56\": 1, \"16\": 1}, \"14\": {\"30\": 5, \"14\": 12, \"26\": 2, \"6\": 1, \"51\": 1, \"9\": 1, \"2\": 1, \"5\": 1}, \"8\": {\"8\": 132, \"9\": 6, \"6\": 1, \"5\": 1}, \"5\": {\"5\": 91, \"17\": 3, \"48\": 6, \"2\": 1, \"6\": 9, \"4\": 1, \"8\": 7, \"9\": 6, \"50\": 6, \"46\": 3, \"53\": 3}, \"39\": {\"39\": 24, \"22\": 4}, \"52\": {\"52\": 75, \"47\": 11, \"21\": 6, \"0\": 9, \"10\": 7, \"24\": 5, \"43\": 3, \"11\": 5, \"31\": 1}, \"21\": {\"21\": 105, \"35\": 1, \"11\": 13, \"47\": 1, \"15\": 1, \"22\": 1, \"49\": 1, \"0\": 1}, \"40\": {\"40\": 141, \"56\": 1, \"29\": 3, \"12\": 4, \"20\": 2, \"13\": 1}, \"32\": {\"32\": 30, \"0\": 1, \"44\": 1}}, \"CORES_3\": {\"56\": {\"10\": 3, \"56\": 105, \"24\": 8, \"13\": 4}, \"4\": {\"4\": 125, \"27\": 7, \"12\": 1, \"20\": 1, \"8\": 5, \"19\": 1, \"45\": 2, \"54\": 1, \"50\": 1, \"53\": 2}, \"34\": {\"34\": 30, \"57\": 2}, \"52\": {\"52\": 122, \"30\": 9, \"50\": 1, \"23\": 2, \"6\": 1, \"18\": 1}, \"32\": {\"32\": 25, \"12\": 1, \"36\": 1, \"6\": 1}, \"46\": {\"26\": 2, \"57\": 7, \"46\": 69, \"18\": 6, \"23\": 3, \"11\": 2, \"25\": 5, \"14\": 1, \"29\": 6, \"12\": 2, \"47\": 2, \"5\": 2, \"3\": 11, \"6\": 3, \"55\": 4, \"9\": 1, \"22\": 1, \"42\": 1, \"41\": 1, \"30\": 1, \"21\": 2, \"1\": 2, \"44\": 1, \"16\": 1}, \"12\": {\"4\": 3, \"32\": 3, \"12\": 45, \"27\": 8, \"17\": 3, \"2\": 5, \"45\": 7, \"33\": 1, \"36\": 3, \"53\": 2, \"19\": 1, \"8\": 6, \"51\": 3, \"54\": 1, \"20\": 1}, \"20\": {\"20\": 110, \"19\": 4, \"51\": 11, \"25\": 2, \"50\": 1, \"4\": 2, \"9\": 1, \"21\": 1}, \"54\": {\"54\": 85, \"17\": 10, \"36\": 3, \"48\": 1, \"27\": 1}, \"22\": {\"22\": 93, \"49\": 2, \"28\": 7, \"13\": 11, \"55\": 6, \"31\": 3, \"43\": 9, \"11\": 1, \"56\": 2, \"10\": 1, \"7\": 1, \"14\": 1, \"24\": 3}, \"26\": {\"26\": 24}, \"31\": {\"31\": 28}, \"10\": {\"10\": 54, \"24\": 8, \"56\": 2}, \"27\": {\"27\": 128, \"33\": 1, \"32\": 2, \"4\": 3, \"9\": 3, \"53\": 6, \"8\": 1}, \"40\": {\"40\": 118, \"19\": 9, \"44\": 3, \"25\": 4, \"29\": 1, \"46\": 1}, \"28\": {\"28\": 26, \"43\": 1, \"35\": 1}, \"5\": {\"5\": 91, \"37\": 2, \"34\": 1, \"15\": 2, \"35\": 1, \"55\": 3, \"1\": 1, \"0\": 12, \"47\": 2, \"16\": 1}, \"30\": {\"30\": 101, \"33\": 1, \"52\": 3, \"9\": 2, \"18\": 4, \"48\": 3, \"21\": 1, \"50\": 1, \"6\": 4}, \"7\": {\"7\": 32, \"35\": 2, \"55\": 1, \"5\": 1}, \"18\": {\"52\": 10, \"18\": 61, \"6\": 5, \"50\": 1, \"48\": 2, \"30\": 2, \"3\": 3}, \"39\": {\"39\": 15, \"37\": 1}, \"50\": {\"29\": 7, \"50\": 53, \"8\": 6, \"9\": 2, \"27\": 8, \"3\": 6, \"33\": 2, \"51\": 8, \"52\": 1, \"44\": 3, \"1\": 2, \"41\": 3, \"18\": 3, \"53\": 8, \"36\": 4, \"6\": 3, \"40\": 1, \"54\": 1, \"20\": 1, \"4\": 1, \"16\": 1, \"48\": 3, \"12\": 2, \"21\": 3, \"30\": 2, \"55\": 1, \"25\": 1}, \"49\": {\"49\": 17, \"10\": 1, \"14\": 1, \"43\": 1}, \"43\": {\"43\": 117, \"7\": 2, \"22\": 1, \"49\": 1, \"24\": 1}, \"29\": {\"29\": 90, \"3\": 8, \"16\": 3, \"57\": 3, \"44\": 1, \"26\": 1, \"46\": 3, \"1\": 3, \"40\": 1, \"25\": 1}, \"35\": {\"35\": 26, \"37\": 1, \"11\": 1}, \"13\": {\"13\": 118, \"14\": 1, \"31\": 1, \"22\": 2, \"24\": 2}, \"36\": {\"36\": 92, \"17\": 1, \"38\": 1, \"54\": 5, \"53\": 1}, \"11\": {\"11\": 119, \"35\": 3, \"37\": 7, \"15\": 3, \"0\": 8, \"7\": 1, \"5\": 5}, \"57\": {\"57\": 109, \"26\": 1, \"46\": 1, \"16\": 3, \"1\": 4, \"47\": 1, \"15\": 4, \"34\": 1}, \"9\": {\"9\": 123, \"3\": 1, \"50\": 3, \"25\": 1, \"6\": 2}, \"25\": {\"25\": 86, \"57\": 1, \"6\": 2, \"46\": 8, \"3\": 5, \"29\": 14, \"21\": 6, \"44\": 2, \"40\": 1, \"20\": 4, \"34\": 1}, \"16\": {\"16\": 97, \"15\": 16, \"55\": 1, \"57\": 4, \"0\": 2, \"34\": 1, \"1\": 1, \"5\": 1, \"23\": 2, \"46\": 1}, \"53\": {\"53\": 106, \"27\": 3, \"8\": 7, \"4\": 1, \"12\": 1}, \"33\": {\"9\": 3, \"33\": 21, \"48\": 1, \"50\": 1, \"30\": 1, \"19\": 1}, \"51\": {\"51\": 114, \"50\": 1, \"12\": 1, \"20\": 11, \"53\": 1}, \"44\": {\"44\": 78, \"29\": 1, \"21\": 1, \"40\": 2, \"42\": 1, \"47\": 1, \"22\": 1, \"5\": 1, \"25\": 2}, \"48\": {\"48\": 106, \"29\": 1, \"52\": 3, \"6\": 1, \"36\": 1, \"1\": 1, \"30\": 1}, \"6\": {\"6\": 18, \"18\": 6, \"25\": 4, \"41\": 1, \"48\": 11, \"50\": 4, \"46\": 1, \"57\": 1, \"34\": 1, \"44\": 2, \"30\": 10, \"3\": 1, \"9\": 2, \"36\": 1, \"53\": 1, \"19\": 2, \"17\": 2, \"40\": 1, \"52\": 7, \"29\": 4, \"39\": 1, \"33\": 2, \"21\": 2, \"1\": 3}, \"23\": {\"23\": 135, \"1\": 1, \"52\": 1, \"3\": 2, \"57\": 4, \"16\": 1}, \"1\": {\"23\": 10, \"1\": 71, \"57\": 6, \"15\": 2, \"46\": 3, \"16\": 2, \"29\": 5, \"3\": 1}, \"17\": {\"38\": 2, \"17\": 92, \"54\": 14}, \"21\": {\"21\": 89, \"25\": 9, \"30\": 1, \"50\": 2, \"18\": 1, \"40\": 3, \"4\": 1, \"19\": 2, \"6\": 1, \"46\": 5, \"9\": 3, \"20\": 2, \"29\": 2, \"44\": 1}, \"14\": {\"14\": 23, \"43\": 2, \"13\": 5, \"55\": 2, \"24\": 1, \"22\": 3, \"10\": 3, \"28\": 1}, \"55\": {\"55\": 128, \"22\": 8, \"34\": 1, \"31\": 1, \"10\": 1, \"7\": 2, \"13\": 3}, \"41\": {\"41\": 22, \"6\": 2, \"23\": 1, \"3\": 2, \"18\": 1}, \"3\": {\"23\": 15, \"25\": 8, \"3\": 73, \"21\": 7, \"46\": 7, \"18\": 4, \"47\": 4, \"1\": 7, \"29\": 3, \"9\": 3, \"40\": 1, \"52\": 4, \"6\": 2}, \"38\": {\"38\": 27, \"17\": 1}, \"2\": {\"2\": 27, \"4\": 2, \"29\": 1, \"21\": 1, \"8\": 1}, \"8\": {\"8\": 136, \"53\": 6}, \"37\": {\"37\": 28}, \"45\": {\"44\": 1, \"20\": 2, \"45\": 18, \"27\": 2, \"12\": 12, \"2\": 1, \"38\": 3, \"40\": 3, \"17\": 3, \"36\": 4, \"8\": 2, \"6\": 1, \"48\": 1, \"4\": 2, \"32\": 4, \"51\": 1}, \"42\": {\"42\": 21, \"44\": 3, \"46\": 1, \"34\": 1, \"3\": 2}, \"24\": {\"24\": 80, \"49\": 1, \"10\": 7, \"56\": 10, \"43\": 1, \"13\": 5}, \"15\": {\"15\": 104, \"16\": 19, \"5\": 6, \"0\": 5, \"57\": 1, \"47\": 1}, \"0\": {\"11\": 4, \"0\": 106, \"39\": 2, \"15\": 3, \"5\": 6, \"47\": 2, \"37\": 1}, \"47\": {\"47\": 61, \"22\": 1, \"14\": 1, \"34\": 4, \"1\": 1, \"57\": 10, \"16\": 3, \"15\": 4, \"55\": 1, \"5\": 4, \"0\": 2}, \"19\": {\"19\": 108, \"20\": 1, \"29\": 2, \"6\": 1, \"25\": 2, \"50\": 1, \"40\": 4, \"51\": 1}}}, \"per_domain_accuracy\": {\"ORACLE.run1_14\": {\"accuracy\": 0.9427083333333334, \"source?\": true}, \"ORACLE.run1_20\": {\"accuracy\": 0.9145833333333333, \"source?\": true}, \"ORACLE.run1_50\": {\"accuracy\": 0.9283854166666666, \"source?\": true}, \"ORACLE.run1_26\": {\"accuracy\": 0.80390625, \"source?\": true}, \"ORACLE.run1_32\": {\"accuracy\": 0.91484375, \"source?\": true}, \"ORACLE.run1_44\": {\"accuracy\": 0.8317708333333333, \"source?\": true}, \"ORACLE.run1_8\": {\"accuracy\": 0.91953125, \"source?\": true}, \"ORACLE.run1_38\": {\"accuracy\": 0.93671875, \"source?\": true}, \"CORES_4\": {\"accuracy\": 0.7619760479041916, \"source?\": false}, \"CORES_5\": {\"accuracy\": 0.7706005586592178, \"source?\": false}, \"CORES_2\": {\"accuracy\": 0.7960714285714285, \"source?\": false}, \"CORES_1\": {\"accuracy\": 0.8169157608695652, \"source?\": false}, \"CORES_3\": {\"accuracy\": 0.7952205882352941, \"source?\": false}}}, \"history\": {\"epoch_indices\": [1, 2, 3, 4, 5, 6, 7, 8, 9, 10, 11, 12], \"train_label_loss\": [0.7847182609007827, 0.617198962555267, 0.42097976628131056, 0.35189229642814357, 0.3120490147328902, 0.2834556999116709, 0.26264683112666326, 0.24781461622721204, 0.2562560290030974, 0.24124433365636616, 0.2095190565977689, 0.20032678642576987], \"source_val_label_loss\": [4.826997756958008, 0.5296034216880798, 0.41848668456077576, 0.40839114785194397, 0.3072110116481781, 0.2910935878753662, 0.3062184154987335, 0.28281745314598083, 0.27818650007247925, 0.26398298144340515, 0.28284963965415955, 0.2766842842102051], \"target_val_label_loss\": [125.36563873291016, 50.92955780029297, 64.1233139038086, 78.20177459716797, 79.4030532836914, 81.42230987548828, 92.20417022705078, 104.12413024902344, 148.20083618164062, 154.0027618408203, 251.6370086669922, 194.84170532226562], \"source_val_acc_label\": [0.77705078125, 0.8055989583333333, 0.8470052083333334, 0.8496744791666667, 0.8914388020833334, 0.89794921875, 0.8912109375, 0.8990559895833333, 0.9030924479166667, 0.90634765625, 0.9012044270833334, 0.9000651041666666], \"target_val_acc_label\": [0.7670357142857143, 0.7423571428571428, 0.7549642857142858, 0.7526785714285714, 0.7791071428571429, 0.7811071428571429, 0.7863571428571429, 0.7885714285714286, 0.7519642857142858, 0.7592857142857142, 0.7300357142857142, 0.7577142857142857]}, \"dataset_metrics\": {\"source\": {\"train\": {\"n_unique_x\": 179200, \"n_unique_y\": 16, \"n_batch/episode\": 6720}, \"val\": {\"n_unique_x\": 38400, \"n_unique_y\": 16, \"n_batch/episode\": 960}, \"test\": {\"n_unique_x\": 38400, \"n_unique_y\": 16, \"n_batch/episode\": 960}}, \"target\": {\"train\": {\"n_unique_x\": 175158, \"n_unique_y\": 58, \"n_batch/episode\": 6317}, \"val\": {\"n_unique_x\": 37216, \"n_unique_y\": 58, \"n_batch/episode\": 875}, \"test\": {\"n_unique_x\": 37596, \"n_unique_y\": 58, \"n_batch/episode\": 886}}}}'"
      ]
     },
     "execution_count": 29,
     "metadata": {},
     "output_type": "execute_result"
    }
   ],
   "source": [
    "json.dumps(experiment)"
   ]
  }
 ],
 "metadata": {
  "celltoolbar": "Tags",
  "kernelspec": {
   "display_name": "Python 3 (ipykernel)",
   "language": "python",
   "name": "python3"
  },
  "language_info": {
   "codemirror_mode": {
    "name": "ipython",
    "version": 3
   },
   "file_extension": ".py",
   "mimetype": "text/x-python",
   "name": "python",
   "nbconvert_exporter": "python",
   "pygments_lexer": "ipython3",
   "version": "3.8.12"
  },
  "papermill": {
   "default_parameters": {},
   "duration": 3337.413532,
   "end_time": "2022-03-21T08:43:46.370268",
   "environment_variables": {},
   "exception": null,
   "input_path": "/root/csc500-main/csc500-notebooks/templates/tl_ptn_template.ipynb",
   "output_path": "trial.ipynb",
   "parameters": {
    "parameters": {
     "BEST_MODEL_PATH": "./best_model.pth",
     "NUM_LOGS_PER_EPOCH": 10,
     "criteria_for_best": "target_accuracy",
     "dataset_seed": 420,
     "datasets": [
      {
       "domain_prefix": "CORES_",
       "domains": [
        1,
        2,
        3,
        4,
        5
       ],
       "episode_transforms": [],
       "labels": [
        "1-10.",
        "1-11.",
        "1-15.",
        "1-16.",
        "1-17.",
        "1-18.",
        "1-19.",
        "10-4.",
        "10-7.",
        "11-1.",
        "11-14.",
        "11-17.",
        "11-20.",
        "11-7.",
        "13-20.",
        "13-8.",
        "14-10.",
        "14-11.",
        "14-14.",
        "14-7.",
        "15-1.",
        "15-20.",
        "16-1.",
        "16-16.",
        "17-10.",
        "17-11.",
        "17-2.",
        "19-1.",
        "19-16.",
        "19-19.",
        "19-20.",
        "19-3.",
        "2-10.",
        "2-11.",
        "2-17.",
        "2-18.",
        "2-20.",
        "2-3.",
        "2-4.",
        "2-5.",
        "2-6.",
        "2-7.",
        "2-8.",
        "3-13.",
        "3-18.",
        "3-3.",
        "4-1.",
        "4-10.",
        "4-11.",
        "4-19.",
        "5-5.",
        "6-15.",
        "7-10.",
        "7-14.",
        "8-18.",
        "8-20.",
        "8-3.",
        "8-8."
       ],
       "num_examples_per_domain_per_label": -1,
       "pickle_path": "/root/csc500-main/datasets/cores.stratified_ds.2022A.pkl",
       "source_or_target_dataset": "target",
       "x_transforms": [
        "unit_mag"
       ]
      },
      {
       "domain_prefix": "ORACLE.run1_",
       "domains": [
        32,
        38,
        8,
        44,
        14,
        50,
        20,
        26
       ],
       "episode_transforms": [],
       "labels": [
        "3123D52",
        "3123D65",
        "3123D79",
        "3123D80",
        "3123D54",
        "3123D70",
        "3123D7B",
        "3123D89",
        "3123D58",
        "3123D76",
        "3123D7D",
        "3123EFE",
        "3123D64",
        "3123D78",
        "3123D7E",
        "3124E4A"
       ],
       "num_examples_per_domain_per_label": 2000,
       "pickle_path": "/root/csc500-main/datasets/oracle.Run1_framed_2000Examples_stratified_ds.2022A.pkl",
       "source_or_target_dataset": "source",
       "x_transforms": [
        "unit_mag"
       ]
      }
     ],
     "device": "cuda",
     "experiment_name": "tl_1v2:cores-oracle.run1.framed",
     "lr": 0.0001,
     "n_epoch": 50,
     "n_query": 2,
     "n_shot": 3,
     "n_way": 16,
     "patience": 3,
     "seed": 420,
     "test_k_factor": 2,
     "torch_default_dtype": "torch.float32",
     "train_k_factor": 3,
     "val_k_factor": 2,
     "x_net": [
      {
       "class": "nnReshape",
       "kargs": {
        "shape": [
         -1,
         1,
         2,
         256
        ]
       }
      },
      {
       "class": "Conv2d",
       "kargs": {
        "bias": false,
        "in_channels": 1,
        "kernel_size": [
         1,
         7
        ],
        "out_channels": 256,
        "padding": [
         0,
         3
        ]
       }
      },
      {
       "class": "ReLU",
       "kargs": {
        "inplace": true
       }
      },
      {
       "class": "BatchNorm2d",
       "kargs": {
        "num_features": 256
       }
      },
      {
       "class": "Conv2d",
       "kargs": {
        "bias": true,
        "in_channels": 256,
        "kernel_size": [
         2,
         7
        ],
        "out_channels": 80,
        "padding": [
         0,
         3
        ]
       }
      },
      {
       "class": "ReLU",
       "kargs": {
        "inplace": true
       }
      },
      {
       "class": "BatchNorm2d",
       "kargs": {
        "num_features": 80
       }
      },
      {
       "class": "Flatten",
       "kargs": {}
      },
      {
       "class": "Linear",
       "kargs": {
        "in_features": 20480,
        "out_features": 256
       }
      },
      {
       "class": "ReLU",
       "kargs": {
        "inplace": true
       }
      },
      {
       "class": "BatchNorm1d",
       "kargs": {
        "num_features": 256
       }
      },
      {
       "class": "Linear",
       "kargs": {
        "in_features": 256,
        "out_features": 256
       }
      }
     ]
    }
   },
   "start_time": "2022-03-21T07:48:08.956736",
   "version": "2.3.4"
  }
 },
 "nbformat": 4,
 "nbformat_minor": 5
}