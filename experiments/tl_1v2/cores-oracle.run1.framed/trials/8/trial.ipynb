{
 "cells": [
  {
   "cell_type": "markdown",
   "id": "9fea5f46",
   "metadata": {
    "papermill": {
     "duration": 0.032822,
     "end_time": "2022-03-21T06:53:02.485914",
     "exception": false,
     "start_time": "2022-03-21T06:53:02.453092",
     "status": "completed"
    },
    "tags": []
   },
   "source": [
    "# Transfer Learning Template"
   ]
  },
  {
   "cell_type": "code",
   "execution_count": 1,
   "id": "0902182a",
   "metadata": {
    "execution": {
     "iopub.execute_input": "2022-03-21T06:53:02.552543Z",
     "iopub.status.busy": "2022-03-21T06:53:02.550702Z",
     "iopub.status.idle": "2022-03-21T06:53:04.452806Z",
     "shell.execute_reply": "2022-03-21T06:53:04.453485Z"
    },
    "papermill": {
     "duration": 1.940746,
     "end_time": "2022-03-21T06:53:04.453818",
     "exception": false,
     "start_time": "2022-03-21T06:53:02.513072",
     "status": "completed"
    },
    "tags": []
   },
   "outputs": [],
   "source": [
    "%load_ext autoreload\n",
    "%autoreload 2\n",
    "%matplotlib inline\n",
    "\n",
    "    \n",
    "import os, json, sys, time, random\n",
    "import numpy as np\n",
    "import torch\n",
    "from torch.optim import Adam\n",
    "from  easydict import EasyDict\n",
    "import matplotlib.pyplot as plt\n",
    "\n",
    "from steves_models.steves_ptn import Steves_Prototypical_Network\n",
    "\n",
    "from steves_utils.lazy_iterable_wrapper import Lazy_Iterable_Wrapper\n",
    "from steves_utils.iterable_aggregator import Iterable_Aggregator\n",
    "from steves_utils.ptn_train_eval_test_jig import  PTN_Train_Eval_Test_Jig\n",
    "from steves_utils.torch_sequential_builder import build_sequential\n",
    "from steves_utils.torch_utils import get_dataset_metrics, ptn_confusion_by_domain_over_dataloader\n",
    "from steves_utils.utils_v2 import (per_domain_accuracy_from_confusion, get_datasets_base_path)\n",
    "from steves_utils.PTN.utils import independent_accuracy_assesment\n",
    "\n",
    "from torch.utils.data import DataLoader\n",
    "\n",
    "from steves_utils.stratified_dataset.episodic_accessor import Episodic_Accessor_Factory\n",
    "\n",
    "from steves_utils.ptn_do_report import (\n",
    "    get_loss_curve,\n",
    "    get_results_table,\n",
    "    get_parameters_table,\n",
    "    get_domain_accuracies,\n",
    ")\n",
    "\n",
    "from steves_utils.transforms import get_chained_transform"
   ]
  },
  {
   "cell_type": "markdown",
   "id": "41c840b4",
   "metadata": {
    "papermill": {
     "duration": 0.019092,
     "end_time": "2022-03-21T06:53:04.496046",
     "exception": false,
     "start_time": "2022-03-21T06:53:04.476954",
     "status": "completed"
    },
    "tags": []
   },
   "source": [
    "# Allowed Parameters\n",
    "These are allowed parameters, not defaults\n",
    "Each of these values need to be present in the injected parameters (the notebook will raise an exception if they are not present)\n",
    "\n",
    "Papermill uses the cell tag \"parameters\" to inject the real parameters below this cell.\n",
    "Enable tags to see what I mean"
   ]
  },
  {
   "cell_type": "code",
   "execution_count": 2,
   "id": "fd44eb83",
   "metadata": {
    "execution": {
     "iopub.execute_input": "2022-03-21T06:53:04.540008Z",
     "iopub.status.busy": "2022-03-21T06:53:04.539624Z",
     "iopub.status.idle": "2022-03-21T06:53:04.561992Z",
     "shell.execute_reply": "2022-03-21T06:53:04.562623Z"
    },
    "papermill": {
     "duration": 0.047552,
     "end_time": "2022-03-21T06:53:04.562807",
     "exception": false,
     "start_time": "2022-03-21T06:53:04.515255",
     "status": "completed"
    },
    "tags": []
   },
   "outputs": [],
   "source": [
    "required_parameters = {\n",
    "    \"experiment_name\",\n",
    "    \"lr\",\n",
    "    \"device\",\n",
    "    \"seed\",\n",
    "    \"dataset_seed\",\n",
    "    \"n_shot\",\n",
    "    \"n_query\",\n",
    "    \"n_way\",\n",
    "    \"train_k_factor\",\n",
    "    \"val_k_factor\",\n",
    "    \"test_k_factor\",\n",
    "    \"n_epoch\",\n",
    "    \"patience\",\n",
    "    \"criteria_for_best\",\n",
    "    \"x_net\",\n",
    "    \"datasets\",\n",
    "    \"torch_default_dtype\",\n",
    "    \"NUM_LOGS_PER_EPOCH\",\n",
    "    \"BEST_MODEL_PATH\",\n",
    "    \"x_shape\",\n",
    "}"
   ]
  },
  {
   "cell_type": "code",
   "execution_count": 3,
   "id": "fa3f0049",
   "metadata": {
    "execution": {
     "iopub.execute_input": "2022-03-21T06:53:04.621709Z",
     "iopub.status.busy": "2022-03-21T06:53:04.620866Z",
     "iopub.status.idle": "2022-03-21T06:53:04.642940Z",
     "shell.execute_reply": "2022-03-21T06:53:04.643636Z"
    },
    "papermill": {
     "duration": 0.056113,
     "end_time": "2022-03-21T06:53:04.643820",
     "exception": false,
     "start_time": "2022-03-21T06:53:04.587707",
     "status": "completed"
    },
    "tags": [
     "parameters"
    ]
   },
   "outputs": [],
   "source": [
    "from steves_utils.CORES.utils import (\n",
    "    ALL_NODES,\n",
    "    ALL_NODES_MINIMUM_1000_EXAMPLES,\n",
    "    ALL_DAYS\n",
    ")\n",
    "\n",
    "from steves_utils.ORACLE.utils_v2 import (\n",
    "    ALL_DISTANCES_FEET_NARROWED,\n",
    "    ALL_RUNS,\n",
    "    ALL_SERIAL_NUMBERS,\n",
    ")\n",
    "\n",
    "standalone_parameters = {}\n",
    "standalone_parameters[\"experiment_name\"] = \"STANDALONE PTN\"\n",
    "standalone_parameters[\"lr\"] = 0.001\n",
    "standalone_parameters[\"device\"] = \"cuda\"\n",
    "\n",
    "standalone_parameters[\"seed\"] = 1337\n",
    "standalone_parameters[\"dataset_seed\"] = 1337\n",
    "\n",
    "standalone_parameters[\"n_way\"] = 8\n",
    "standalone_parameters[\"n_shot\"] = 3\n",
    "standalone_parameters[\"n_query\"]  = 2\n",
    "standalone_parameters[\"train_k_factor\"] = 1\n",
    "standalone_parameters[\"val_k_factor\"] = 2\n",
    "standalone_parameters[\"test_k_factor\"] = 2\n",
    "\n",
    "\n",
    "standalone_parameters[\"n_epoch\"] = 50\n",
    "\n",
    "standalone_parameters[\"patience\"] = 10\n",
    "standalone_parameters[\"criteria_for_best\"] = \"source_loss\"\n",
    "\n",
    "standalone_parameters[\"datasets\"] = [\n",
    "    {\n",
    "        \"labels\": ALL_SERIAL_NUMBERS,\n",
    "        \"domains\": ALL_DISTANCES_FEET_NARROWED,\n",
    "        \"num_examples_per_domain_per_label\": 100,\n",
    "        \"pickle_path\": os.path.join(get_datasets_base_path(), \"oracle.Run1_framed_2000Examples_stratified_ds.2022A.pkl\"),\n",
    "        \"source_or_target_dataset\": \"source\",\n",
    "        \"x_transforms\": [\"unit_mag\", \"minus_two\"],\n",
    "        \"episode_transforms\": [],\n",
    "        \"domain_prefix\": \"ORACLE_\"\n",
    "    },\n",
    "    {\n",
    "        \"labels\": ALL_NODES,\n",
    "        \"domains\": ALL_DAYS,\n",
    "        \"num_examples_per_domain_per_label\": 100,\n",
    "        \"pickle_path\": os.path.join(get_datasets_base_path(), \"cores.stratified_ds.2022A.pkl\"),\n",
    "        \"source_or_target_dataset\": \"target\",\n",
    "        \"x_transforms\": [\"unit_power\", \"times_zero\"],\n",
    "        \"episode_transforms\": [],\n",
    "        \"domain_prefix\": \"CORES_\"\n",
    "    }   \n",
    "]\n",
    "\n",
    "standalone_parameters[\"torch_default_dtype\"] = \"torch.float32\" \n",
    "\n",
    "\n",
    "\n",
    "standalone_parameters[\"x_net\"] =     [\n",
    "    {\"class\": \"nnReshape\", \"kargs\": {\"shape\":[-1, 1, 2, 256]}},\n",
    "    {\"class\": \"Conv2d\", \"kargs\": { \"in_channels\":1, \"out_channels\":256, \"kernel_size\":(1,7), \"bias\":False, \"padding\":(0,3), },},\n",
    "    {\"class\": \"ReLU\", \"kargs\": {\"inplace\": True}},\n",
    "    {\"class\": \"BatchNorm2d\", \"kargs\": {\"num_features\":256}},\n",
    "\n",
    "    {\"class\": \"Conv2d\", \"kargs\": { \"in_channels\":256, \"out_channels\":80, \"kernel_size\":(2,7), \"bias\":True, \"padding\":(0,3), },},\n",
    "    {\"class\": \"ReLU\", \"kargs\": {\"inplace\": True}},\n",
    "    {\"class\": \"BatchNorm2d\", \"kargs\": {\"num_features\":80}},\n",
    "    {\"class\": \"Flatten\", \"kargs\": {}},\n",
    "\n",
    "    {\"class\": \"Linear\", \"kargs\": {\"in_features\": 80*256, \"out_features\": 256}}, # 80 units per IQ pair\n",
    "    {\"class\": \"ReLU\", \"kargs\": {\"inplace\": True}},\n",
    "    {\"class\": \"BatchNorm1d\", \"kargs\": {\"num_features\":256}},\n",
    "\n",
    "    {\"class\": \"Linear\", \"kargs\": {\"in_features\": 256, \"out_features\": 256}},\n",
    "]\n",
    "\n",
    "# Parameters relevant to results\n",
    "# These parameters will basically never need to change\n",
    "standalone_parameters[\"NUM_LOGS_PER_EPOCH\"] = 10\n",
    "standalone_parameters[\"BEST_MODEL_PATH\"] = \"./best_model.pth\"\n",
    "\n",
    "\n",
    "\n",
    "\n"
   ]
  },
  {
   "cell_type": "code",
   "execution_count": 4,
   "id": "368e6843",
   "metadata": {
    "execution": {
     "iopub.execute_input": "2022-03-21T06:53:04.704673Z",
     "iopub.status.busy": "2022-03-21T06:53:04.699103Z",
     "iopub.status.idle": "2022-03-21T06:53:04.733783Z",
     "shell.execute_reply": "2022-03-21T06:53:04.733294Z"
    },
    "papermill": {
     "duration": 0.062264,
     "end_time": "2022-03-21T06:53:04.733912",
     "exception": false,
     "start_time": "2022-03-21T06:53:04.671648",
     "status": "completed"
    },
    "tags": [
     "injected-parameters"
    ]
   },
   "outputs": [],
   "source": [
    "# Parameters\n",
    "parameters = {\n",
    "    \"experiment_name\": \"tl_1v2:cores-oracle.run1.framed\",\n",
    "    \"device\": \"cuda\",\n",
    "    \"lr\": 0.0001,\n",
    "    \"n_shot\": 3,\n",
    "    \"n_query\": 2,\n",
    "    \"train_k_factor\": 3,\n",
    "    \"val_k_factor\": 2,\n",
    "    \"test_k_factor\": 2,\n",
    "    \"torch_default_dtype\": \"torch.float32\",\n",
    "    \"n_epoch\": 50,\n",
    "    \"patience\": 3,\n",
    "    \"criteria_for_best\": \"target_accuracy\",\n",
    "    \"x_net\": [\n",
    "        {\"class\": \"nnReshape\", \"kargs\": {\"shape\": [-1, 1, 2, 256]}},\n",
    "        {\n",
    "            \"class\": \"Conv2d\",\n",
    "            \"kargs\": {\n",
    "                \"in_channels\": 1,\n",
    "                \"out_channels\": 256,\n",
    "                \"kernel_size\": [1, 7],\n",
    "                \"bias\": False,\n",
    "                \"padding\": [0, 3],\n",
    "            },\n",
    "        },\n",
    "        {\"class\": \"ReLU\", \"kargs\": {\"inplace\": True}},\n",
    "        {\"class\": \"BatchNorm2d\", \"kargs\": {\"num_features\": 256}},\n",
    "        {\n",
    "            \"class\": \"Conv2d\",\n",
    "            \"kargs\": {\n",
    "                \"in_channels\": 256,\n",
    "                \"out_channels\": 80,\n",
    "                \"kernel_size\": [2, 7],\n",
    "                \"bias\": True,\n",
    "                \"padding\": [0, 3],\n",
    "            },\n",
    "        },\n",
    "        {\"class\": \"ReLU\", \"kargs\": {\"inplace\": True}},\n",
    "        {\"class\": \"BatchNorm2d\", \"kargs\": {\"num_features\": 80}},\n",
    "        {\"class\": \"Flatten\", \"kargs\": {}},\n",
    "        {\"class\": \"Linear\", \"kargs\": {\"in_features\": 20480, \"out_features\": 256}},\n",
    "        {\"class\": \"ReLU\", \"kargs\": {\"inplace\": True}},\n",
    "        {\"class\": \"BatchNorm1d\", \"kargs\": {\"num_features\": 256}},\n",
    "        {\"class\": \"Linear\", \"kargs\": {\"in_features\": 256, \"out_features\": 256}},\n",
    "    ],\n",
    "    \"NUM_LOGS_PER_EPOCH\": 10,\n",
    "    \"BEST_MODEL_PATH\": \"./best_model.pth\",\n",
    "    \"n_way\": 16,\n",
    "    \"datasets\": [\n",
    "        {\n",
    "            \"labels\": [\n",
    "                \"1-10.\",\n",
    "                \"1-11.\",\n",
    "                \"1-15.\",\n",
    "                \"1-16.\",\n",
    "                \"1-17.\",\n",
    "                \"1-18.\",\n",
    "                \"1-19.\",\n",
    "                \"10-4.\",\n",
    "                \"10-7.\",\n",
    "                \"11-1.\",\n",
    "                \"11-14.\",\n",
    "                \"11-17.\",\n",
    "                \"11-20.\",\n",
    "                \"11-7.\",\n",
    "                \"13-20.\",\n",
    "                \"13-8.\",\n",
    "                \"14-10.\",\n",
    "                \"14-11.\",\n",
    "                \"14-14.\",\n",
    "                \"14-7.\",\n",
    "                \"15-1.\",\n",
    "                \"15-20.\",\n",
    "                \"16-1.\",\n",
    "                \"16-16.\",\n",
    "                \"17-10.\",\n",
    "                \"17-11.\",\n",
    "                \"17-2.\",\n",
    "                \"19-1.\",\n",
    "                \"19-16.\",\n",
    "                \"19-19.\",\n",
    "                \"19-20.\",\n",
    "                \"19-3.\",\n",
    "                \"2-10.\",\n",
    "                \"2-11.\",\n",
    "                \"2-17.\",\n",
    "                \"2-18.\",\n",
    "                \"2-20.\",\n",
    "                \"2-3.\",\n",
    "                \"2-4.\",\n",
    "                \"2-5.\",\n",
    "                \"2-6.\",\n",
    "                \"2-7.\",\n",
    "                \"2-8.\",\n",
    "                \"3-13.\",\n",
    "                \"3-18.\",\n",
    "                \"3-3.\",\n",
    "                \"4-1.\",\n",
    "                \"4-10.\",\n",
    "                \"4-11.\",\n",
    "                \"4-19.\",\n",
    "                \"5-5.\",\n",
    "                \"6-15.\",\n",
    "                \"7-10.\",\n",
    "                \"7-14.\",\n",
    "                \"8-18.\",\n",
    "                \"8-20.\",\n",
    "                \"8-3.\",\n",
    "                \"8-8.\",\n",
    "            ],\n",
    "            \"domains\": [1, 2, 3, 4, 5],\n",
    "            \"num_examples_per_domain_per_label\": -1,\n",
    "            \"pickle_path\": \"/root/csc500-main/datasets/cores.stratified_ds.2022A.pkl\",\n",
    "            \"source_or_target_dataset\": \"source\",\n",
    "            \"x_transforms\": [],\n",
    "            \"episode_transforms\": [],\n",
    "            \"domain_prefix\": \"CORES_\",\n",
    "        },\n",
    "        {\n",
    "            \"labels\": [\n",
    "                \"3123D52\",\n",
    "                \"3123D65\",\n",
    "                \"3123D79\",\n",
    "                \"3123D80\",\n",
    "                \"3123D54\",\n",
    "                \"3123D70\",\n",
    "                \"3123D7B\",\n",
    "                \"3123D89\",\n",
    "                \"3123D58\",\n",
    "                \"3123D76\",\n",
    "                \"3123D7D\",\n",
    "                \"3123EFE\",\n",
    "                \"3123D64\",\n",
    "                \"3123D78\",\n",
    "                \"3123D7E\",\n",
    "                \"3124E4A\",\n",
    "            ],\n",
    "            \"domains\": [32, 38, 8, 44, 14, 50, 20, 26],\n",
    "            \"num_examples_per_domain_per_label\": 2000,\n",
    "            \"pickle_path\": \"/root/csc500-main/datasets/oracle.Run1_framed_2000Examples_stratified_ds.2022A.pkl\",\n",
    "            \"source_or_target_dataset\": \"target\",\n",
    "            \"x_transforms\": [],\n",
    "            \"episode_transforms\": [],\n",
    "            \"domain_prefix\": \"ORACLE.run1_\",\n",
    "        },\n",
    "    ],\n",
    "    \"dataset_seed\": 420,\n",
    "    \"seed\": 420,\n",
    "}\n"
   ]
  },
  {
   "cell_type": "code",
   "execution_count": 5,
   "id": "8fa1cc33",
   "metadata": {
    "execution": {
     "iopub.execute_input": "2022-03-21T06:53:04.795400Z",
     "iopub.status.busy": "2022-03-21T06:53:04.794743Z",
     "iopub.status.idle": "2022-03-21T06:53:04.819743Z",
     "shell.execute_reply": "2022-03-21T06:53:04.818986Z"
    },
    "papermill": {
     "duration": 0.056973,
     "end_time": "2022-03-21T06:53:04.819922",
     "exception": false,
     "start_time": "2022-03-21T06:53:04.762949",
     "status": "completed"
    },
    "tags": []
   },
   "outputs": [],
   "source": [
    "# Set this to True if you want to run this template directly\n",
    "STANDALONE = False\n",
    "if STANDALONE:\n",
    "    print(\"parameters not injected, running with standalone_parameters\")\n",
    "    parameters = standalone_parameters\n",
    "\n",
    "if not 'parameters' in locals() and not 'parameters' in globals():\n",
    "    raise Exception(\"Parameter injection failed\")\n",
    "\n",
    "#Use an easy dict for all the parameters\n",
    "p = EasyDict(parameters)\n",
    "\n",
    "if \"x_shape\" not in p:\n",
    "    p.x_shape = [2,256] # Default to this if we dont supply x_shape\n",
    "\n",
    "\n",
    "supplied_keys = set(p.keys())\n",
    "\n",
    "if  supplied_keys != required_parameters:\n",
    "    print(\"Parameters are incorrect\")\n",
    "    if len(supplied_keys - required_parameters)>0: print(\"Shouldn't have:\", str(supplied_keys - required_parameters))\n",
    "    if len(required_parameters - supplied_keys)>0: print(\"Need to have:\", str(required_parameters - supplied_keys))\n",
    "    raise RuntimeError(\"Parameters are incorrect\")"
   ]
  },
  {
   "cell_type": "code",
   "execution_count": 6,
   "id": "3a028d58",
   "metadata": {
    "execution": {
     "iopub.execute_input": "2022-03-21T06:53:04.870984Z",
     "iopub.status.busy": "2022-03-21T06:53:04.870604Z",
     "iopub.status.idle": "2022-03-21T06:53:04.893801Z",
     "shell.execute_reply": "2022-03-21T06:53:04.894479Z"
    },
    "papermill": {
     "duration": 0.047642,
     "end_time": "2022-03-21T06:53:04.894674",
     "exception": false,
     "start_time": "2022-03-21T06:53:04.847032",
     "status": "completed"
    },
    "tags": []
   },
   "outputs": [],
   "source": [
    "###################################\n",
    "# Set the RNGs and make it all deterministic\n",
    "###################################\n",
    "np.random.seed(p.seed)\n",
    "random.seed(p.seed)\n",
    "torch.manual_seed(p.seed)\n",
    "\n",
    "torch.use_deterministic_algorithms(True) "
   ]
  },
  {
   "cell_type": "code",
   "execution_count": 7,
   "id": "b691acf6",
   "metadata": {
    "execution": {
     "iopub.execute_input": "2022-03-21T06:53:04.943380Z",
     "iopub.status.busy": "2022-03-21T06:53:04.942956Z",
     "iopub.status.idle": "2022-03-21T06:53:04.968458Z",
     "shell.execute_reply": "2022-03-21T06:53:04.967748Z"
    },
    "papermill": {
     "duration": 0.049139,
     "end_time": "2022-03-21T06:53:04.968615",
     "exception": false,
     "start_time": "2022-03-21T06:53:04.919476",
     "status": "completed"
    },
    "tags": []
   },
   "outputs": [],
   "source": [
    "###########################################\n",
    "# The stratified datasets honor this\n",
    "###########################################\n",
    "torch.set_default_dtype(eval(p.torch_default_dtype))"
   ]
  },
  {
   "cell_type": "code",
   "execution_count": 8,
   "id": "b5fba671",
   "metadata": {
    "execution": {
     "iopub.execute_input": "2022-03-21T06:53:05.019778Z",
     "iopub.status.busy": "2022-03-21T06:53:05.019391Z",
     "iopub.status.idle": "2022-03-21T06:53:05.078104Z",
     "shell.execute_reply": "2022-03-21T06:53:05.077293Z"
    },
    "papermill": {
     "duration": 0.081847,
     "end_time": "2022-03-21T06:53:05.078263",
     "exception": false,
     "start_time": "2022-03-21T06:53:04.996416",
     "status": "completed"
    },
    "tags": []
   },
   "outputs": [],
   "source": [
    "###################################\n",
    "# Build the network(s)\n",
    "# Note: It's critical to do this AFTER setting the RNG\n",
    "###################################\n",
    "x_net = build_sequential(p.x_net)"
   ]
  },
  {
   "cell_type": "code",
   "execution_count": 9,
   "id": "5d7e61cc",
   "metadata": {
    "execution": {
     "iopub.execute_input": "2022-03-21T06:53:05.127209Z",
     "iopub.status.busy": "2022-03-21T06:53:05.126838Z",
     "iopub.status.idle": "2022-03-21T06:53:05.152013Z",
     "shell.execute_reply": "2022-03-21T06:53:05.151285Z"
    },
    "papermill": {
     "duration": 0.04853,
     "end_time": "2022-03-21T06:53:05.152176",
     "exception": false,
     "start_time": "2022-03-21T06:53:05.103646",
     "status": "completed"
    },
    "tags": []
   },
   "outputs": [],
   "source": [
    "start_time_secs = time.time()"
   ]
  },
  {
   "cell_type": "code",
   "execution_count": 10,
   "id": "c6b67dfd",
   "metadata": {
    "execution": {
     "iopub.execute_input": "2022-03-21T06:53:05.204997Z",
     "iopub.status.busy": "2022-03-21T06:53:05.204434Z",
     "iopub.status.idle": "2022-03-21T06:53:05.226128Z",
     "shell.execute_reply": "2022-03-21T06:53:05.225418Z"
    },
    "papermill": {
     "duration": 0.045782,
     "end_time": "2022-03-21T06:53:05.226285",
     "exception": false,
     "start_time": "2022-03-21T06:53:05.180503",
     "status": "completed"
    },
    "tags": []
   },
   "outputs": [],
   "source": [
    "p.domains_source = []\n",
    "p.domains_target = []\n",
    "\n",
    "\n",
    "train_original_source = []\n",
    "val_original_source   = []\n",
    "test_original_source  = []\n",
    "\n",
    "train_original_target = []\n",
    "val_original_target   = []\n",
    "test_original_target  = []"
   ]
  },
  {
   "cell_type": "code",
   "execution_count": 11,
   "id": "e3d9c3d3",
   "metadata": {
    "execution": {
     "iopub.execute_input": "2022-03-21T06:53:05.275892Z",
     "iopub.status.busy": "2022-03-21T06:53:05.275516Z",
     "iopub.status.idle": "2022-03-21T06:53:05.301415Z",
     "shell.execute_reply": "2022-03-21T06:53:05.300603Z"
    },
    "papermill": {
     "duration": 0.049592,
     "end_time": "2022-03-21T06:53:05.301573",
     "exception": false,
     "start_time": "2022-03-21T06:53:05.251981",
     "status": "completed"
    },
    "tags": []
   },
   "outputs": [],
   "source": [
    "# global_x_transform_func = lambda x: normalize(x.to(torch.get_default_dtype()), \"unit_power\") # unit_power, unit_mag\n",
    "# global_x_transform_func = lambda x: normalize(x, \"unit_power\") # unit_power, unit_mag"
   ]
  },
  {
   "cell_type": "code",
   "execution_count": 12,
   "id": "acb78fd2",
   "metadata": {
    "execution": {
     "iopub.execute_input": "2022-03-21T06:53:05.357859Z",
     "iopub.status.busy": "2022-03-21T06:53:05.357213Z",
     "iopub.status.idle": "2022-03-21T06:53:05.379505Z",
     "shell.execute_reply": "2022-03-21T06:53:05.378801Z"
    },
    "papermill": {
     "duration": 0.052104,
     "end_time": "2022-03-21T06:53:05.379689",
     "exception": false,
     "start_time": "2022-03-21T06:53:05.327585",
     "status": "completed"
    },
    "tags": []
   },
   "outputs": [],
   "source": [
    "def add_dataset(\n",
    "    labels,\n",
    "    domains,\n",
    "    pickle_path,\n",
    "    x_transforms,\n",
    "    episode_transforms,\n",
    "    domain_prefix,\n",
    "    num_examples_per_domain_per_label,\n",
    "    source_or_target_dataset:str,\n",
    "    iterator_seed=p.seed,\n",
    "    dataset_seed=p.dataset_seed,\n",
    "    n_shot=p.n_shot,\n",
    "    n_way=p.n_way,\n",
    "    n_query=p.n_query,\n",
    "    train_val_test_k_factors=(p.train_k_factor,p.val_k_factor,p.test_k_factor),\n",
    "):\n",
    "   \n",
    "    if x_transforms == []: x_transform = None\n",
    "    else: x_transform = get_chained_transform(x_transforms)\n",
    "    \n",
    "    if episode_transforms == []: episode_transform = None\n",
    "    else: raise Exception(\"episode_transforms not implemented\")\n",
    "    \n",
    "    episode_transform = lambda tup, _prefix=domain_prefix: (_prefix + str(tup[0]), tup[1])\n",
    "\n",
    "\n",
    "    eaf = Episodic_Accessor_Factory(\n",
    "        labels=labels,\n",
    "        domains=domains,\n",
    "        num_examples_per_domain_per_label=num_examples_per_domain_per_label,\n",
    "        iterator_seed=iterator_seed,\n",
    "        dataset_seed=dataset_seed,\n",
    "        n_shot=n_shot,\n",
    "        n_way=n_way,\n",
    "        n_query=n_query,\n",
    "        train_val_test_k_factors=train_val_test_k_factors,\n",
    "        pickle_path=pickle_path,\n",
    "        x_transform_func=x_transform,\n",
    "    )\n",
    "\n",
    "    train, val, test = eaf.get_train(), eaf.get_val(), eaf.get_test()\n",
    "    train = Lazy_Iterable_Wrapper(train, episode_transform)\n",
    "    val = Lazy_Iterable_Wrapper(val, episode_transform)\n",
    "    test = Lazy_Iterable_Wrapper(test, episode_transform)\n",
    "\n",
    "    if source_or_target_dataset==\"source\":\n",
    "        train_original_source.append(train)\n",
    "        val_original_source.append(val)\n",
    "        test_original_source.append(test)\n",
    "\n",
    "        p.domains_source.extend(\n",
    "            [domain_prefix + str(u) for u in domains]\n",
    "        )\n",
    "    elif source_or_target_dataset==\"target\":\n",
    "        train_original_target.append(train)\n",
    "        val_original_target.append(val)\n",
    "        test_original_target.append(test)\n",
    "        p.domains_target.extend(\n",
    "            [domain_prefix + str(u) for u in domains]\n",
    "        )\n",
    "    else:\n",
    "        raise Exception(f\"invalid source_or_target_dataset: {source_or_target_dataset}\")\n",
    "    "
   ]
  },
  {
   "cell_type": "code",
   "execution_count": 13,
   "id": "fe266617",
   "metadata": {
    "execution": {
     "iopub.execute_input": "2022-03-21T06:53:05.430977Z",
     "iopub.status.busy": "2022-03-21T06:53:05.430405Z",
     "iopub.status.idle": "2022-03-21T06:53:09.347123Z",
     "shell.execute_reply": "2022-03-21T06:53:09.346390Z"
    },
    "papermill": {
     "duration": 3.940385,
     "end_time": "2022-03-21T06:53:09.347306",
     "exception": false,
     "start_time": "2022-03-21T06:53:05.406921",
     "status": "completed"
    },
    "tags": []
   },
   "outputs": [],
   "source": [
    "for ds in p.datasets:\n",
    "    add_dataset(**ds)"
   ]
  },
  {
   "cell_type": "code",
   "execution_count": 14,
   "id": "b90d65ac",
   "metadata": {
    "execution": {
     "iopub.execute_input": "2022-03-21T06:53:09.404442Z",
     "iopub.status.busy": "2022-03-21T06:53:09.404057Z",
     "iopub.status.idle": "2022-03-21T06:53:09.426677Z",
     "shell.execute_reply": "2022-03-21T06:53:09.425912Z"
    },
    "papermill": {
     "duration": 0.045124,
     "end_time": "2022-03-21T06:53:09.426844",
     "exception": false,
     "start_time": "2022-03-21T06:53:09.381720",
     "status": "completed"
    },
    "tags": []
   },
   "outputs": [],
   "source": [
    "# from steves_utils.CORES.utils import (\n",
    "#     ALL_NODES,\n",
    "#     ALL_NODES_MINIMUM_1000_EXAMPLES,\n",
    "#     ALL_DAYS\n",
    "# )\n",
    "\n",
    "# add_dataset(\n",
    "#     labels=ALL_NODES,\n",
    "#     domains = ALL_DAYS,\n",
    "#     num_examples_per_domain_per_label=100,\n",
    "#     pickle_path=os.path.join(get_datasets_base_path(), \"cores.stratified_ds.2022A.pkl\"),\n",
    "#     source_or_target_dataset=\"target\",\n",
    "#     x_transform_func=global_x_transform_func,\n",
    "#     domain_modifier=lambda u: f\"cores_{u}\"\n",
    "# )"
   ]
  },
  {
   "cell_type": "code",
   "execution_count": 15,
   "id": "76db484d",
   "metadata": {
    "execution": {
     "iopub.execute_input": "2022-03-21T06:53:09.478821Z",
     "iopub.status.busy": "2022-03-21T06:53:09.478448Z",
     "iopub.status.idle": "2022-03-21T06:53:09.498581Z",
     "shell.execute_reply": "2022-03-21T06:53:09.497873Z"
    },
    "papermill": {
     "duration": 0.043732,
     "end_time": "2022-03-21T06:53:09.498736",
     "exception": false,
     "start_time": "2022-03-21T06:53:09.455004",
     "status": "completed"
    },
    "tags": []
   },
   "outputs": [],
   "source": [
    "# from steves_utils.ORACLE.utils_v2 import (\n",
    "#     ALL_DISTANCES_FEET,\n",
    "#     ALL_RUNS,\n",
    "#     ALL_SERIAL_NUMBERS,\n",
    "# )\n",
    "\n",
    "\n",
    "# add_dataset(\n",
    "#     labels=ALL_SERIAL_NUMBERS,\n",
    "#     domains = list(set(ALL_DISTANCES_FEET) - {2,62}),\n",
    "#     num_examples_per_domain_per_label=100,\n",
    "#     pickle_path=os.path.join(get_datasets_base_path(), \"oracle.Run2_framed_2000Examples_stratified_ds.2022A.pkl\"),\n",
    "#     source_or_target_dataset=\"source\",\n",
    "#     x_transform_func=global_x_transform_func,\n",
    "#     domain_modifier=lambda u: f\"oracle1_{u}\"\n",
    "# )\n"
   ]
  },
  {
   "cell_type": "code",
   "execution_count": 16,
   "id": "97dea9d2",
   "metadata": {
    "execution": {
     "iopub.execute_input": "2022-03-21T06:53:09.548658Z",
     "iopub.status.busy": "2022-03-21T06:53:09.548289Z",
     "iopub.status.idle": "2022-03-21T06:53:09.564858Z",
     "shell.execute_reply": "2022-03-21T06:53:09.564157Z"
    },
    "papermill": {
     "duration": 0.040531,
     "end_time": "2022-03-21T06:53:09.565011",
     "exception": false,
     "start_time": "2022-03-21T06:53:09.524480",
     "status": "completed"
    },
    "tags": []
   },
   "outputs": [],
   "source": [
    "# from steves_utils.ORACLE.utils_v2 import (\n",
    "#     ALL_DISTANCES_FEET,\n",
    "#     ALL_RUNS,\n",
    "#     ALL_SERIAL_NUMBERS,\n",
    "# )\n",
    "\n",
    "\n",
    "# add_dataset(\n",
    "#     labels=ALL_SERIAL_NUMBERS,\n",
    "#     domains = list(set(ALL_DISTANCES_FEET) - {2,62,56}),\n",
    "#     num_examples_per_domain_per_label=100,\n",
    "#     pickle_path=os.path.join(get_datasets_base_path(), \"oracle.Run2_framed_2000Examples_stratified_ds.2022A.pkl\"),\n",
    "#     source_or_target_dataset=\"source\",\n",
    "#     x_transform_func=global_x_transform_func,\n",
    "#     domain_modifier=lambda u: f\"oracle2_{u}\"\n",
    "# )"
   ]
  },
  {
   "cell_type": "code",
   "execution_count": 17,
   "id": "6f289866",
   "metadata": {
    "execution": {
     "iopub.execute_input": "2022-03-21T06:53:09.617442Z",
     "iopub.status.busy": "2022-03-21T06:53:09.617068Z",
     "iopub.status.idle": "2022-03-21T06:53:09.636675Z",
     "shell.execute_reply": "2022-03-21T06:53:09.635971Z"
    },
    "papermill": {
     "duration": 0.042883,
     "end_time": "2022-03-21T06:53:09.636829",
     "exception": false,
     "start_time": "2022-03-21T06:53:09.593946",
     "status": "completed"
    },
    "tags": []
   },
   "outputs": [],
   "source": [
    "# add_dataset(\n",
    "#     labels=list(range(19)),\n",
    "#     domains = [0,1,2],\n",
    "#     num_examples_per_domain_per_label=100,\n",
    "#     pickle_path=os.path.join(get_datasets_base_path(), \"metehan.stratified_ds.2022A.pkl\"),\n",
    "#     source_or_target_dataset=\"target\",\n",
    "#     x_transform_func=global_x_transform_func,\n",
    "#     domain_modifier=lambda u: f\"met_{u}\"\n",
    "# )"
   ]
  },
  {
   "cell_type": "code",
   "execution_count": 18,
   "id": "86a863c3",
   "metadata": {
    "execution": {
     "iopub.execute_input": "2022-03-21T06:53:09.688636Z",
     "iopub.status.busy": "2022-03-21T06:53:09.688265Z",
     "iopub.status.idle": "2022-03-21T06:53:09.710107Z",
     "shell.execute_reply": "2022-03-21T06:53:09.709401Z"
    },
    "papermill": {
     "duration": 0.045099,
     "end_time": "2022-03-21T06:53:09.710267",
     "exception": false,
     "start_time": "2022-03-21T06:53:09.665168",
     "status": "completed"
    },
    "tags": []
   },
   "outputs": [],
   "source": [
    "# # from steves_utils.wisig.utils import (\n",
    "# #     ALL_NODES_MINIMUM_100_EXAMPLES,\n",
    "# #     ALL_NODES_MINIMUM_500_EXAMPLES,\n",
    "# #     ALL_NODES_MINIMUM_1000_EXAMPLES,\n",
    "# #     ALL_DAYS\n",
    "# # )\n",
    "\n",
    "# import steves_utils.wisig.utils as wisig\n",
    "\n",
    "\n",
    "# add_dataset(\n",
    "#     labels=wisig.ALL_NODES_MINIMUM_100_EXAMPLES,\n",
    "#     domains = wisig.ALL_DAYS,\n",
    "#     num_examples_per_domain_per_label=100,\n",
    "#     pickle_path=os.path.join(get_datasets_base_path(), \"wisig.node3-19.stratified_ds.2022A.pkl\"),\n",
    "#     source_or_target_dataset=\"target\",\n",
    "#     x_transform_func=global_x_transform_func,\n",
    "#     domain_modifier=lambda u: f\"wisig_{u}\"\n",
    "# )"
   ]
  },
  {
   "cell_type": "code",
   "execution_count": 19,
   "id": "fd5442bc",
   "metadata": {
    "execution": {
     "iopub.execute_input": "2022-03-21T06:53:09.766056Z",
     "iopub.status.busy": "2022-03-21T06:53:09.765674Z",
     "iopub.status.idle": "2022-03-21T06:53:09.785509Z",
     "shell.execute_reply": "2022-03-21T06:53:09.784722Z"
    },
    "papermill": {
     "duration": 0.049075,
     "end_time": "2022-03-21T06:53:09.785663",
     "exception": false,
     "start_time": "2022-03-21T06:53:09.736588",
     "status": "completed"
    },
    "tags": []
   },
   "outputs": [],
   "source": [
    "###################################\n",
    "# Build the dataset\n",
    "###################################\n",
    "train_original_source = Iterable_Aggregator(train_original_source, p.seed)\n",
    "val_original_source = Iterable_Aggregator(val_original_source, p.seed)\n",
    "test_original_source = Iterable_Aggregator(test_original_source, p.seed)\n",
    "\n",
    "\n",
    "train_original_target = Iterable_Aggregator(train_original_target, p.seed)\n",
    "val_original_target = Iterable_Aggregator(val_original_target, p.seed)\n",
    "test_original_target = Iterable_Aggregator(test_original_target, p.seed)\n",
    "\n",
    "# For CNN We only use X and Y. And we only train on the source.\n",
    "# Properly form the data using a transform lambda and Lazy_Iterable_Wrapper. Finally wrap them in a dataloader\n",
    "\n",
    "transform_lambda = lambda ex: ex[1] # Original is (<domain>, <episode>) so we strip down to episode only\n",
    "\n",
    "train_processed_source = Lazy_Iterable_Wrapper(train_original_source, transform_lambda)\n",
    "val_processed_source   = Lazy_Iterable_Wrapper(val_original_source, transform_lambda)\n",
    "test_processed_source  = Lazy_Iterable_Wrapper(test_original_source, transform_lambda)\n",
    "\n",
    "train_processed_target = Lazy_Iterable_Wrapper(train_original_target, transform_lambda)\n",
    "val_processed_target   = Lazy_Iterable_Wrapper(val_original_target, transform_lambda)\n",
    "test_processed_target  = Lazy_Iterable_Wrapper(test_original_target, transform_lambda)\n",
    "\n",
    "datasets = EasyDict({\n",
    "    \"source\": {\n",
    "        \"original\": {\"train\":train_original_source, \"val\":val_original_source, \"test\":test_original_source},\n",
    "        \"processed\": {\"train\":train_processed_source, \"val\":val_processed_source, \"test\":test_processed_source}\n",
    "    },\n",
    "    \"target\": {\n",
    "        \"original\": {\"train\":train_original_target, \"val\":val_original_target, \"test\":test_original_target},\n",
    "        \"processed\": {\"train\":train_processed_target, \"val\":val_processed_target, \"test\":test_processed_target}\n",
    "    },\n",
    "})"
   ]
  },
  {
   "cell_type": "code",
   "execution_count": 20,
   "id": "5b3c01fc",
   "metadata": {
    "execution": {
     "iopub.execute_input": "2022-03-21T06:53:09.836525Z",
     "iopub.status.busy": "2022-03-21T06:53:09.835956Z",
     "iopub.status.idle": "2022-03-21T06:53:25.441172Z",
     "shell.execute_reply": "2022-03-21T06:53:25.440420Z"
    },
    "papermill": {
     "duration": 15.629644,
     "end_time": "2022-03-21T06:53:25.441348",
     "exception": false,
     "start_time": "2022-03-21T06:53:09.811704",
     "status": "completed"
    },
    "tags": []
   },
   "outputs": [
    {
     "name": "stdout",
     "output_type": "stream",
     "text": [
      "{'CORES_1', 'CORES_4', 'CORES_3', 'CORES_2', 'CORES_5'}\n"
     ]
    },
    {
     "name": "stdout",
     "output_type": "stream",
     "text": [
      "{'ORACLE.run1_14', 'ORACLE.run1_44', 'ORACLE.run1_32', 'ORACLE.run1_38', 'ORACLE.run1_26', 'ORACLE.run1_20', 'ORACLE.run1_50', 'ORACLE.run1_8'}\n"
     ]
    },
    {
     "name": "stdout",
     "output_type": "stream",
     "text": [
      "tensor([[[ 1.2299e-02, -4.9897e-02, -7.8829e-02,  ...,  4.6571e-02,\n",
      "           3.2624e-02, -3.7049e-02],\n",
      "         [ 2.8657e-02,  3.0976e-02, -1.4344e-03,  ...,  4.4038e-02,\n",
      "           3.5371e-02,  1.4618e-02]],\n",
      "\n",
      "        [[ 1.6663e-02,  3.9369e-03, -4.7548e-02,  ...,  2.8229e-02,\n",
      "           5.1179e-02,  8.4841e-03],\n",
      "         [ 5.9816e-03,  2.7070e-02,  3.3082e-02,  ...,  1.3977e-02,\n",
      "           2.1027e-02,  1.4069e-02]],\n",
      "\n",
      "        [[-2.3011e-02, -7.0497e-03,  2.8504e-02,  ..., -4.5747e-02,\n",
      "          -4.5137e-02,  1.6480e-03],\n",
      "         [-5.4933e-04, -3.5035e-02, -5.4140e-02,  ...,  7.6906e-03,\n",
      "           8.9419e-03, -2.2431e-02]],\n",
      "\n",
      "        ...,\n",
      "\n",
      "        [[ 2.0142e-03,  2.4415e-03,  6.1952e-03,  ...,  1.5076e-02,\n",
      "           3.3570e-03,  1.0163e-02],\n",
      "         [-2.1363e-04, -5.1881e-04,  1.5686e-02,  ...,  1.3916e-02,\n",
      "           6.7140e-03, -3.5096e-03]],\n",
      "\n",
      "        [[-1.1292e-02, -1.7426e-02,  2.5880e-02,  ..., -2.9298e-03,\n",
      "           8.1179e-03,  2.5513e-02],\n",
      "         [ 4.1505e-03, -2.2706e-02, -1.9715e-02,  ...,  1.0010e-02,\n",
      "          -1.4038e-03, -1.6785e-02]],\n",
      "\n",
      "        [[-1.9288e-02,  3.0518e-03,  3.4303e-02,  ...,  9.1555e-05,\n",
      "           1.9227e-02,  2.2431e-02],\n",
      "         [-6.8056e-03, -2.9389e-02,  6.2257e-03,  ...,  9.2776e-03,\n",
      "          -1.4771e-02, -2.0142e-03]]])\n"
     ]
    }
   ],
   "source": [
    "from steves_utils.transforms import get_average_magnitude, get_average_power\n",
    "\n",
    "print(set([u for u,_ in val_original_source]))\n",
    "print(set([u for u,_ in val_original_target]))\n",
    "\n",
    "s_x, s_y, q_x, q_y, _ = next(iter(train_processed_source))\n",
    "print(s_x)\n",
    "\n",
    "# for ds in [\n",
    "#     train_processed_source,\n",
    "#     val_processed_source,\n",
    "#     test_processed_source,\n",
    "#     train_processed_target,\n",
    "#     val_processed_target,\n",
    "#     test_processed_target\n",
    "# ]:\n",
    "#     for s_x, s_y, q_x, q_y, _ in ds:\n",
    "#         for X in (s_x, q_x):\n",
    "#             for x in X:\n",
    "#                 assert np.isclose(get_average_magnitude(x.numpy()), 1.0)\n",
    "#                 assert np.isclose(get_average_power(x.numpy()), 1.0)\n",
    "                "
   ]
  },
  {
   "cell_type": "code",
   "execution_count": 21,
   "id": "bbdacba1",
   "metadata": {
    "execution": {
     "iopub.execute_input": "2022-03-21T06:53:25.498788Z",
     "iopub.status.busy": "2022-03-21T06:53:25.497704Z",
     "iopub.status.idle": "2022-03-21T06:53:25.768205Z",
     "shell.execute_reply": "2022-03-21T06:53:25.768827Z"
    },
    "papermill": {
     "duration": 0.298129,
     "end_time": "2022-03-21T06:53:25.768954",
     "exception": false,
     "start_time": "2022-03-21T06:53:25.470825",
     "status": "completed"
    },
    "tags": []
   },
   "outputs": [
    {
     "name": "stdout",
     "output_type": "stream",
     "text": [
      "(2, 256)\n"
     ]
    }
   ],
   "source": [
    "###################################\n",
    "# Build the model\n",
    "###################################\n",
    "# easfsl only wants a tuple for the shape\n",
    "model = Steves_Prototypical_Network(x_net, device=p.device, x_shape=tuple(p.x_shape))\n",
    "optimizer = Adam(params=model.parameters(), lr=p.lr)"
   ]
  },
  {
   "cell_type": "code",
   "execution_count": 22,
   "id": "22b39ac5",
   "metadata": {
    "execution": {
     "iopub.execute_input": "2022-03-21T06:53:25.837583Z",
     "iopub.status.busy": "2022-03-21T06:53:25.837042Z",
     "iopub.status.idle": "2022-03-21T07:17:47.307349Z",
     "shell.execute_reply": "2022-03-21T07:17:47.307001Z"
    },
    "papermill": {
     "duration": 1461.505951,
     "end_time": "2022-03-21T07:17:47.307437",
     "exception": false,
     "start_time": "2022-03-21T06:53:25.801486",
     "status": "completed"
    },
    "tags": []
   },
   "outputs": [
    {
     "name": "stdout",
     "output_type": "stream",
     "text": [
      "epoch: 1, [batch: 1 / 6315], examples_per_second: 32.7463, train_label_loss: 2.1004, \n"
     ]
    },
    {
     "name": "stdout",
     "output_type": "stream",
     "text": [
      "epoch: 1, [batch: 632 / 6315], examples_per_second: 2597.0986, train_label_loss: 0.0516, \n"
     ]
    },
    {
     "name": "stdout",
     "output_type": "stream",
     "text": [
      "epoch: 1, [batch: 1263 / 6315], examples_per_second: 2553.6998, train_label_loss: 0.0598, \n"
     ]
    },
    {
     "name": "stdout",
     "output_type": "stream",
     "text": [
      "epoch: 1, [batch: 1895 / 6315], examples_per_second: 2449.0254, train_label_loss: 0.0026, \n"
     ]
    },
    {
     "name": "stdout",
     "output_type": "stream",
     "text": [
      "epoch: 1, [batch: 2526 / 6315], examples_per_second: 2285.5549, train_label_loss: 0.0007, \n"
     ]
    },
    {
     "name": "stdout",
     "output_type": "stream",
     "text": [
      "epoch: 1, [batch: 3158 / 6315], examples_per_second: 2306.5817, train_label_loss: 0.0006, \n"
     ]
    },
    {
     "name": "stdout",
     "output_type": "stream",
     "text": [
      "epoch: 1, [batch: 3789 / 6315], examples_per_second: 2315.6909, train_label_loss: 0.0355, \n"
     ]
    },
    {
     "name": "stdout",
     "output_type": "stream",
     "text": [
      "epoch: 1, [batch: 4420 / 6315], examples_per_second: 2583.8346, train_label_loss: 0.0001, \n"
     ]
    },
    {
     "name": "stdout",
     "output_type": "stream",
     "text": [
      "epoch: 1, [batch: 5052 / 6315], examples_per_second: 2541.7526, train_label_loss: 0.0001, \n"
     ]
    },
    {
     "name": "stdout",
     "output_type": "stream",
     "text": [
      "epoch: 1, [batch: 5683 / 6315], examples_per_second: 2603.9552, train_label_loss: 0.0000, \n"
     ]
    },
    {
     "name": "stdout",
     "output_type": "stream",
     "text": [
      "=============================================================\n",
      "epoch: 1, source_val_acc_label: 0.9985, target_val_acc_label: 0.5139, source_val_label_loss: 0.0133, target_val_label_loss: 1.9416, \n",
      "=============================================================\n"
     ]
    },
    {
     "name": "stdout",
     "output_type": "stream",
     "text": [
      "New best\n"
     ]
    },
    {
     "name": "stdout",
     "output_type": "stream",
     "text": [
      "epoch: 2, [batch: 1 / 6307], examples_per_second: 2.1021, train_label_loss: 0.0181, \n"
     ]
    },
    {
     "name": "stdout",
     "output_type": "stream",
     "text": [
      "epoch: 2, [batch: 631 / 6307], examples_per_second: 2599.5427, train_label_loss: 0.0319, \n"
     ]
    },
    {
     "name": "stdout",
     "output_type": "stream",
     "text": [
      "epoch: 2, [batch: 1262 / 6307], examples_per_second: 2567.2811, train_label_loss: 0.0000, \n"
     ]
    },
    {
     "name": "stdout",
     "output_type": "stream",
     "text": [
      "epoch: 2, [batch: 1892 / 6307], examples_per_second: 2729.1120, train_label_loss: 0.0001, \n"
     ]
    },
    {
     "name": "stdout",
     "output_type": "stream",
     "text": [
      "epoch: 2, [batch: 2523 / 6307], examples_per_second: 2312.2458, train_label_loss: 0.0111, \n"
     ]
    },
    {
     "name": "stdout",
     "output_type": "stream",
     "text": [
      "epoch: 2, [batch: 3154 / 6307], examples_per_second: 2325.2944, train_label_loss: 0.0003, \n"
     ]
    },
    {
     "name": "stdout",
     "output_type": "stream",
     "text": [
      "epoch: 2, [batch: 3784 / 6307], examples_per_second: 2317.2781, train_label_loss: 0.0000, \n"
     ]
    },
    {
     "name": "stdout",
     "output_type": "stream",
     "text": [
      "epoch: 2, [batch: 4415 / 6307], examples_per_second: 2496.7705, train_label_loss: 0.0019, \n"
     ]
    },
    {
     "name": "stdout",
     "output_type": "stream",
     "text": [
      "epoch: 2, [batch: 5045 / 6307], examples_per_second: 2880.9483, train_label_loss: 0.0001, \n"
     ]
    },
    {
     "name": "stdout",
     "output_type": "stream",
     "text": [
      "epoch: 2, [batch: 5676 / 6307], examples_per_second: 2907.4386, train_label_loss: 0.0014, \n"
     ]
    },
    {
     "name": "stdout",
     "output_type": "stream",
     "text": [
      "=============================================================\n",
      "epoch: 2, source_val_acc_label: 0.9990, target_val_acc_label: 0.5704, source_val_label_loss: 0.0151, target_val_label_loss: 1.7726, \n",
      "=============================================================\n"
     ]
    },
    {
     "name": "stdout",
     "output_type": "stream",
     "text": [
      "New best\n"
     ]
    },
    {
     "name": "stdout",
     "output_type": "stream",
     "text": [
      "epoch: 3, [batch: 1 / 6326], examples_per_second: 2.4378, train_label_loss: 0.0000, \n"
     ]
    },
    {
     "name": "stdout",
     "output_type": "stream",
     "text": [
      "epoch: 3, [batch: 633 / 6326], examples_per_second: 2738.8001, train_label_loss: 0.0000, \n"
     ]
    },
    {
     "name": "stdout",
     "output_type": "stream",
     "text": [
      "epoch: 3, [batch: 1266 / 6326], examples_per_second: 3268.7121, train_label_loss: 0.0000, \n"
     ]
    },
    {
     "name": "stdout",
     "output_type": "stream",
     "text": [
      "epoch: 3, [batch: 1898 / 6326], examples_per_second: 3454.9282, train_label_loss: 0.0000, \n"
     ]
    },
    {
     "name": "stdout",
     "output_type": "stream",
     "text": [
      "epoch: 3, [batch: 2531 / 6326], examples_per_second: 2582.9014, train_label_loss: 0.0011, \n"
     ]
    },
    {
     "name": "stdout",
     "output_type": "stream",
     "text": [
      "epoch: 3, [batch: 3163 / 6326], examples_per_second: 2321.0154, train_label_loss: 0.0000, \n"
     ]
    },
    {
     "name": "stdout",
     "output_type": "stream",
     "text": [
      "epoch: 3, [batch: 3796 / 6326], examples_per_second: 2290.0617, train_label_loss: 0.0019, \n"
     ]
    },
    {
     "name": "stdout",
     "output_type": "stream",
     "text": [
      "epoch: 3, [batch: 4428 / 6326], examples_per_second: 2308.9882, train_label_loss: 0.0000, \n"
     ]
    },
    {
     "name": "stdout",
     "output_type": "stream",
     "text": [
      "epoch: 3, [batch: 5061 / 6326], examples_per_second: 2492.8787, train_label_loss: 0.0000, \n"
     ]
    },
    {
     "name": "stdout",
     "output_type": "stream",
     "text": [
      "epoch: 3, [batch: 5693 / 6326], examples_per_second: 2604.4843, train_label_loss: 0.0000, \n"
     ]
    },
    {
     "name": "stdout",
     "output_type": "stream",
     "text": [
      "=============================================================\n",
      "epoch: 3, source_val_acc_label: 0.9989, target_val_acc_label: 0.4505, source_val_label_loss: 0.0133, target_val_label_loss: 1.9578, \n",
      "=============================================================\n"
     ]
    },
    {
     "name": "stdout",
     "output_type": "stream",
     "text": [
      "epoch: 4, [batch: 1 / 6302], examples_per_second: 2.3895, train_label_loss: 0.0000, \n"
     ]
    },
    {
     "name": "stdout",
     "output_type": "stream",
     "text": [
      "epoch: 4, [batch: 631 / 6302], examples_per_second: 2599.9588, train_label_loss: 0.0000, \n"
     ]
    },
    {
     "name": "stdout",
     "output_type": "stream",
     "text": [
      "epoch: 4, [batch: 1261 / 6302], examples_per_second: 2819.8829, train_label_loss: 0.0000, \n"
     ]
    },
    {
     "name": "stdout",
     "output_type": "stream",
     "text": [
      "epoch: 4, [batch: 1891 / 6302], examples_per_second: 3002.7853, train_label_loss: 0.0000, \n"
     ]
    },
    {
     "name": "stdout",
     "output_type": "stream",
     "text": [
      "epoch: 4, [batch: 2521 / 6302], examples_per_second: 2913.8505, train_label_loss: 0.0000, \n"
     ]
    },
    {
     "name": "stdout",
     "output_type": "stream",
     "text": [
      "epoch: 4, [batch: 3151 / 6302], examples_per_second: 2760.3054, train_label_loss: 0.0000, \n"
     ]
    },
    {
     "name": "stdout",
     "output_type": "stream",
     "text": [
      "epoch: 4, [batch: 3781 / 6302], examples_per_second: 2587.4422, train_label_loss: 0.0006, \n"
     ]
    },
    {
     "name": "stdout",
     "output_type": "stream",
     "text": [
      "epoch: 4, [batch: 4411 / 6302], examples_per_second: 2556.6170, train_label_loss: 0.0001, \n"
     ]
    },
    {
     "name": "stdout",
     "output_type": "stream",
     "text": [
      "epoch: 4, [batch: 5041 / 6302], examples_per_second: 2907.3382, train_label_loss: 0.0002, \n"
     ]
    },
    {
     "name": "stdout",
     "output_type": "stream",
     "text": [
      "epoch: 4, [batch: 5671 / 6302], examples_per_second: 2964.5161, train_label_loss: 0.0004, \n"
     ]
    },
    {
     "name": "stdout",
     "output_type": "stream",
     "text": [
      "=============================================================\n",
      "epoch: 4, source_val_acc_label: 0.9988, target_val_acc_label: 0.5362, source_val_label_loss: 0.0180, target_val_label_loss: 1.4592, \n",
      "=============================================================\n"
     ]
    },
    {
     "name": "stdout",
     "output_type": "stream",
     "text": [
      "epoch: 5, [batch: 1 / 6324], examples_per_second: 2.9006, train_label_loss: 0.0000, \n"
     ]
    },
    {
     "name": "stdout",
     "output_type": "stream",
     "text": [
      "epoch: 5, [batch: 633 / 6324], examples_per_second: 2879.3071, train_label_loss: 0.0000, \n"
     ]
    },
    {
     "name": "stdout",
     "output_type": "stream",
     "text": [
      "epoch: 5, [batch: 1265 / 6324], examples_per_second: 2934.0995, train_label_loss: 0.0001, \n"
     ]
    },
    {
     "name": "stdout",
     "output_type": "stream",
     "text": [
      "epoch: 5, [batch: 1897 / 6324], examples_per_second: 2504.6356, train_label_loss: 0.0000, \n"
     ]
    },
    {
     "name": "stdout",
     "output_type": "stream",
     "text": [
      "epoch: 5, [batch: 2530 / 6324], examples_per_second: 2584.4644, train_label_loss: 0.0001, \n"
     ]
    },
    {
     "name": "stdout",
     "output_type": "stream",
     "text": [
      "epoch: 5, [batch: 3162 / 6324], examples_per_second: 2597.7354, train_label_loss: 0.0039, \n"
     ]
    },
    {
     "name": "stdout",
     "output_type": "stream",
     "text": [
      "epoch: 5, [batch: 3794 / 6324], examples_per_second: 2478.3515, train_label_loss: 0.0000, \n"
     ]
    },
    {
     "name": "stdout",
     "output_type": "stream",
     "text": [
      "epoch: 5, [batch: 4427 / 6324], examples_per_second: 2302.2293, train_label_loss: 0.0000, \n"
     ]
    },
    {
     "name": "stdout",
     "output_type": "stream",
     "text": [
      "epoch: 5, [batch: 5059 / 6324], examples_per_second: 2298.6523, train_label_loss: 0.0000, \n"
     ]
    },
    {
     "name": "stdout",
     "output_type": "stream",
     "text": [
      "epoch: 5, [batch: 5691 / 6324], examples_per_second: 2295.5248, train_label_loss: 0.0000, \n"
     ]
    },
    {
     "name": "stdout",
     "output_type": "stream",
     "text": [
      "=============================================================\n",
      "epoch: 5, source_val_acc_label: 0.9983, target_val_acc_label: 0.4844, source_val_label_loss: 0.0176, target_val_label_loss: 1.5262, \n",
      "=============================================================\n"
     ]
    },
    {
     "name": "stdout",
     "output_type": "stream",
     "text": [
      "epoch: 6, [batch: 1 / 6313], examples_per_second: 2.0889, train_label_loss: 0.0000, \n"
     ]
    },
    {
     "name": "stdout",
     "output_type": "stream",
     "text": [
      "epoch: 6, [batch: 632 / 6313], examples_per_second: 2631.1190, train_label_loss: 0.0000, \n"
     ]
    },
    {
     "name": "stdout",
     "output_type": "stream",
     "text": [
      "epoch: 6, [batch: 1263 / 6313], examples_per_second: 2628.7548, train_label_loss: 0.0000, \n"
     ]
    },
    {
     "name": "stdout",
     "output_type": "stream",
     "text": [
      "epoch: 6, [batch: 1894 / 6313], examples_per_second: 2648.6600, train_label_loss: 0.0000, \n"
     ]
    },
    {
     "name": "stdout",
     "output_type": "stream",
     "text": [
      "epoch: 6, [batch: 2525 / 6313], examples_per_second: 2560.9366, train_label_loss: 0.0000, \n"
     ]
    },
    {
     "name": "stdout",
     "output_type": "stream",
     "text": [
      "epoch: 6, [batch: 3157 / 6313], examples_per_second: 2622.3952, train_label_loss: 0.0000, \n"
     ]
    },
    {
     "name": "stdout",
     "output_type": "stream",
     "text": [
      "epoch: 6, [batch: 3788 / 6313], examples_per_second: 2607.1164, train_label_loss: 0.0000, \n"
     ]
    },
    {
     "name": "stdout",
     "output_type": "stream",
     "text": [
      "epoch: 6, [batch: 4419 / 6313], examples_per_second: 2613.3075, train_label_loss: 0.0000, \n"
     ]
    },
    {
     "name": "stdout",
     "output_type": "stream",
     "text": [
      "epoch: 6, [batch: 5050 / 6313], examples_per_second: 2564.6897, train_label_loss: 0.0001, \n"
     ]
    },
    {
     "name": "stdout",
     "output_type": "stream",
     "text": [
      "epoch: 6, [batch: 5681 / 6313], examples_per_second: 2611.3596, train_label_loss: 0.0000, \n"
     ]
    },
    {
     "name": "stdout",
     "output_type": "stream",
     "text": [
      "=============================================================\n",
      "epoch: 6, source_val_acc_label: 0.9989, target_val_acc_label: 0.3443, source_val_label_loss: 0.0169, target_val_label_loss: 1.8899, \n",
      "=============================================================\n"
     ]
    },
    {
     "name": "stdout",
     "output_type": "stream",
     "text": [
      "Patience (3) exhausted\n"
     ]
    }
   ],
   "source": [
    "###################################\n",
    "# train\n",
    "###################################\n",
    "jig = PTN_Train_Eval_Test_Jig(model, p.BEST_MODEL_PATH, p.device)\n",
    "\n",
    "jig.train(\n",
    "    train_iterable=datasets.source.processed.train,\n",
    "    source_val_iterable=datasets.source.processed.val,\n",
    "    target_val_iterable=datasets.target.processed.val,\n",
    "    num_epochs=p.n_epoch,\n",
    "    num_logs_per_epoch=p.NUM_LOGS_PER_EPOCH,\n",
    "    patience=p.patience,\n",
    "    optimizer=optimizer,\n",
    "    criteria_for_best=p.criteria_for_best,\n",
    ")"
   ]
  },
  {
   "cell_type": "code",
   "execution_count": 23,
   "id": "31e8fabf",
   "metadata": {
    "execution": {
     "iopub.execute_input": "2022-03-21T07:17:47.392855Z",
     "iopub.status.busy": "2022-03-21T07:17:47.392484Z",
     "iopub.status.idle": "2022-03-21T07:17:47.423711Z",
     "shell.execute_reply": "2022-03-21T07:17:47.422977Z"
    },
    "papermill": {
     "duration": 0.076369,
     "end_time": "2022-03-21T07:17:47.423875",
     "exception": false,
     "start_time": "2022-03-21T07:17:47.347506",
     "status": "completed"
    },
    "tags": []
   },
   "outputs": [],
   "source": [
    "total_experiment_time_secs = time.time() - start_time_secs"
   ]
  },
  {
   "cell_type": "code",
   "execution_count": 24,
   "id": "87b9595b",
   "metadata": {
    "execution": {
     "iopub.execute_input": "2022-03-21T07:17:47.520025Z",
     "iopub.status.busy": "2022-03-21T07:17:47.519629Z",
     "iopub.status.idle": "2022-03-21T07:21:20.870201Z",
     "shell.execute_reply": "2022-03-21T07:21:20.869475Z"
    },
    "papermill": {
     "duration": 213.401577,
     "end_time": "2022-03-21T07:21:20.870389",
     "exception": false,
     "start_time": "2022-03-21T07:17:47.468812",
     "status": "completed"
    },
    "tags": []
   },
   "outputs": [],
   "source": [
    "###################################\n",
    "# Evaluate the model\n",
    "###################################\n",
    "source_test_label_accuracy, source_test_label_loss = jig.test(datasets.source.processed.test)\n",
    "target_test_label_accuracy, target_test_label_loss = jig.test(datasets.target.processed.test)\n",
    "\n",
    "source_val_label_accuracy, source_val_label_loss = jig.test(datasets.source.processed.val)\n",
    "target_val_label_accuracy, target_val_label_loss = jig.test(datasets.target.processed.val)\n",
    "\n",
    "history = jig.get_history()\n",
    "\n",
    "total_epochs_trained = len(history[\"epoch_indices\"])\n",
    "\n",
    "val_dl = Iterable_Aggregator((datasets.source.original.val,datasets.target.original.val))\n",
    "\n",
    "confusion = ptn_confusion_by_domain_over_dataloader(model, p.device, val_dl)\n",
    "per_domain_accuracy = per_domain_accuracy_from_confusion(confusion)\n",
    "\n",
    "# Add a key to per_domain_accuracy for if it was a source domain\n",
    "for domain, accuracy in per_domain_accuracy.items():\n",
    "    per_domain_accuracy[domain] = {\n",
    "        \"accuracy\": accuracy,\n",
    "        \"source?\": domain in p.domains_source\n",
    "    }\n",
    "\n",
    "# Do an independent accuracy assesment JUST TO BE SURE!\n",
    "# _source_test_label_accuracy = independent_accuracy_assesment(model, datasets.source.processed.test, p.device)\n",
    "# _target_test_label_accuracy = independent_accuracy_assesment(model, datasets.target.processed.test, p.device)\n",
    "# _source_val_label_accuracy = independent_accuracy_assesment(model, datasets.source.processed.val, p.device)\n",
    "# _target_val_label_accuracy = independent_accuracy_assesment(model, datasets.target.processed.val, p.device)\n",
    "\n",
    "# assert(_source_test_label_accuracy == source_test_label_accuracy)\n",
    "# assert(_target_test_label_accuracy == target_test_label_accuracy)\n",
    "# assert(_source_val_label_accuracy == source_val_label_accuracy)\n",
    "# assert(_target_val_label_accuracy == target_val_label_accuracy)\n",
    "\n",
    "experiment = {\n",
    "    \"experiment_name\": p.experiment_name,\n",
    "    \"parameters\": dict(p),\n",
    "    \"results\": {\n",
    "        \"source_test_label_accuracy\": source_test_label_accuracy,\n",
    "        \"source_test_label_loss\": source_test_label_loss,\n",
    "        \"target_test_label_accuracy\": target_test_label_accuracy,\n",
    "        \"target_test_label_loss\": target_test_label_loss,\n",
    "        \"source_val_label_accuracy\": source_val_label_accuracy,\n",
    "        \"source_val_label_loss\": source_val_label_loss,\n",
    "        \"target_val_label_accuracy\": target_val_label_accuracy,\n",
    "        \"target_val_label_loss\": target_val_label_loss,\n",
    "        \"total_epochs_trained\": total_epochs_trained,\n",
    "        \"total_experiment_time_secs\": total_experiment_time_secs,\n",
    "        \"confusion\": confusion,\n",
    "        \"per_domain_accuracy\": per_domain_accuracy,\n",
    "    },\n",
    "    \"history\": history,\n",
    "    \"dataset_metrics\": get_dataset_metrics(datasets, \"ptn\"),\n",
    "}"
   ]
  },
  {
   "cell_type": "code",
   "execution_count": 25,
   "id": "54a21829",
   "metadata": {
    "execution": {
     "iopub.execute_input": "2022-03-21T07:21:20.970946Z",
     "iopub.status.busy": "2022-03-21T07:21:20.970576Z",
     "iopub.status.idle": "2022-03-21T07:21:21.209311Z",
     "shell.execute_reply": "2022-03-21T07:21:21.209970Z"
    },
    "papermill": {
     "duration": 0.289378,
     "end_time": "2022-03-21T07:21:21.210167",
     "exception": false,
     "start_time": "2022-03-21T07:21:20.920789",
     "status": "completed"
    },
    "tags": []
   },
   "outputs": [
    {
     "data": {
      "image/png": "[encoded data removed]",
      "text/plain": [
       "<Figure size 1080x504 with 1 Axes>"
      ]
     },
     "metadata": {
      "needs_background": "light"
     },
     "output_type": "display_data"
    }
   ],
   "source": [
    "ax = get_loss_curve(experiment)\n",
    "plt.show()"
   ]
  },
  {
   "cell_type": "code",
   "execution_count": 26,
   "id": "fd8a0f60",
   "metadata": {
    "execution": {
     "iopub.execute_input": "2022-03-21T07:21:21.299195Z",
     "iopub.status.busy": "2022-03-21T07:21:21.298830Z",
     "iopub.status.idle": "2022-03-21T07:21:21.670528Z",
     "shell.execute_reply": "2022-03-21T07:21:21.670179Z"
    },
    "papermill": {
     "duration": 0.415916,
     "end_time": "2022-03-21T07:21:21.670622",
     "exception": false,
     "start_time": "2022-03-21T07:21:21.254706",
     "status": "completed"
    },
    "tags": []
   },
   "outputs": [
    {
     "data": {
      "text/plain": [
       "<AxesSubplot:title={'center':'Results'}>"
      ]
     },
     "execution_count": 26,
     "metadata": {},
     "output_type": "execute_result"
    },
    {
     "data": {
      "image/png": "[encoded data removed]",
      "text/plain": [
       "<Figure size 1080x504 with 1 Axes>"
      ]
     },
     "metadata": {
      "needs_background": "light"
     },
     "output_type": "display_data"
    }
   ],
   "source": [
    "get_results_table(experiment)"
   ]
  },
  {
   "cell_type": "code",
   "execution_count": 27,
   "id": "cf8dc689",
   "metadata": {
    "execution": {
     "iopub.execute_input": "2022-03-21T07:21:21.769753Z",
     "iopub.status.busy": "2022-03-21T07:21:21.769388Z",
     "iopub.status.idle": "2022-03-21T07:21:22.040773Z",
     "shell.execute_reply": "2022-03-21T07:21:22.041454Z"
    },
    "papermill": {
     "duration": 0.324157,
     "end_time": "2022-03-21T07:21:22.041665",
     "exception": false,
     "start_time": "2022-03-21T07:21:21.717508",
     "status": "completed"
    },
    "tags": []
   },
   "outputs": [
    {
     "data": {
      "text/plain": [
       "<AxesSubplot:title={'center':'Per Domain Validation Accuracy'}, xlabel='domain'>"
      ]
     },
     "execution_count": 27,
     "metadata": {},
     "output_type": "execute_result"
    },
    {
     "data": {
      "image/png": "[encoded data removed]",
      "text/plain": [
       "<Figure size 1080x504 with 1 Axes>"
      ]
     },
     "metadata": {
      "needs_background": "light"
     },
     "output_type": "display_data"
    }
   ],
   "source": [
    "get_domain_accuracies(experiment)"
   ]
  },
  {
   "cell_type": "code",
   "execution_count": 28,
   "id": "a74ae082",
   "metadata": {
    "execution": {
     "iopub.execute_input": "2022-03-21T07:21:22.140849Z",
     "iopub.status.busy": "2022-03-21T07:21:22.140476Z",
     "iopub.status.idle": "2022-03-21T07:21:22.169677Z",
     "shell.execute_reply": "2022-03-21T07:21:22.170345Z"
    },
    "papermill": {
     "duration": 0.079779,
     "end_time": "2022-03-21T07:21:22.170528",
     "exception": false,
     "start_time": "2022-03-21T07:21:22.090749",
     "status": "completed"
    },
    "tags": []
   },
   "outputs": [
    {
     "name": "stdout",
     "output_type": "stream",
     "text": [
      "Source Test Label Accuracy: 0.99940039503386 Target Test Label Accuracy: 0.569921875\n",
      "Source Val Label Accuracy: 0.999 Target Val Label Accuracy: 0.5703776041666667\n"
     ]
    }
   ],
   "source": [
    "print(\"Source Test Label Accuracy:\", experiment[\"results\"][\"source_test_label_accuracy\"], \"Target Test Label Accuracy:\", experiment[\"results\"][\"target_test_label_accuracy\"])\n",
    "print(\"Source Val Label Accuracy:\", experiment[\"results\"][\"source_val_label_accuracy\"], \"Target Val Label Accuracy:\", experiment[\"results\"][\"target_val_label_accuracy\"])"
   ]
  },
  {
   "cell_type": "code",
   "execution_count": 29,
   "id": "dacca602",
   "metadata": {
    "execution": {
     "iopub.execute_input": "2022-03-21T07:21:22.310477Z",
     "iopub.status.busy": "2022-03-21T07:21:22.310103Z",
     "iopub.status.idle": "2022-03-21T07:21:22.338082Z",
     "shell.execute_reply": "2022-03-21T07:21:22.338752Z"
    },
    "papermill": {
     "duration": 0.077759,
     "end_time": "2022-03-21T07:21:22.338946",
     "exception": false,
     "start_time": "2022-03-21T07:21:22.261187",
     "status": "completed"
    },
    "tags": [
     "experiment_json"
    ]
   },
   "outputs": [
    {
     "data": {
      "text/plain": [
       "'{\"experiment_name\": \"tl_1v2:cores-oracle.run1.framed\", \"parameters\": {\"experiment_name\": \"tl_1v2:cores-oracle.run1.framed\", \"device\": \"cuda\", \"lr\": 0.0001, \"n_shot\": 3, \"n_query\": 2, \"train_k_factor\": 3, \"val_k_factor\": 2, \"test_k_factor\": 2, \"torch_default_dtype\": \"torch.float32\", \"n_epoch\": 50, \"patience\": 3, \"criteria_for_best\": \"target_accuracy\", \"x_net\": [{\"class\": \"nnReshape\", \"kargs\": {\"shape\": [-1, 1, 2, 256]}}, {\"class\": \"Conv2d\", \"kargs\": {\"in_channels\": 1, \"out_channels\": 256, \"kernel_size\": [1, 7], \"bias\": false, \"padding\": [0, 3]}}, {\"class\": \"ReLU\", \"kargs\": {\"inplace\": true}}, {\"class\": \"BatchNorm2d\", \"kargs\": {\"num_features\": 256}}, {\"class\": \"Conv2d\", \"kargs\": {\"in_channels\": 256, \"out_channels\": 80, \"kernel_size\": [2, 7], \"bias\": true, \"padding\": [0, 3]}}, {\"class\": \"ReLU\", \"kargs\": {\"inplace\": true}}, {\"class\": \"BatchNorm2d\", \"kargs\": {\"num_features\": 80}}, {\"class\": \"Flatten\", \"kargs\": {}}, {\"class\": \"Linear\", \"kargs\": {\"in_features\": 20480, \"out_features\": 256}}, {\"class\": \"ReLU\", \"kargs\": {\"inplace\": true}}, {\"class\": \"BatchNorm1d\", \"kargs\": {\"num_features\": 256}}, {\"class\": \"Linear\", \"kargs\": {\"in_features\": 256, \"out_features\": 256}}], \"NUM_LOGS_PER_EPOCH\": 10, \"BEST_MODEL_PATH\": \"./best_model.pth\", \"n_way\": 16, \"datasets\": [{\"labels\": [\"1-10.\", \"1-11.\", \"1-15.\", \"1-16.\", \"1-17.\", \"1-18.\", \"1-19.\", \"10-4.\", \"10-7.\", \"11-1.\", \"11-14.\", \"11-17.\", \"11-20.\", \"11-7.\", \"13-20.\", \"13-8.\", \"14-10.\", \"14-11.\", \"14-14.\", \"14-7.\", \"15-1.\", \"15-20.\", \"16-1.\", \"16-16.\", \"17-10.\", \"17-11.\", \"17-2.\", \"19-1.\", \"19-16.\", \"19-19.\", \"19-20.\", \"19-3.\", \"2-10.\", \"2-11.\", \"2-17.\", \"2-18.\", \"2-20.\", \"2-3.\", \"2-4.\", \"2-5.\", \"2-6.\", \"2-7.\", \"2-8.\", \"3-13.\", \"3-18.\", \"3-3.\", \"4-1.\", \"4-10.\", \"4-11.\", \"4-19.\", \"5-5.\", \"6-15.\", \"7-10.\", \"7-14.\", \"8-18.\", \"8-20.\", \"8-3.\", \"8-8.\"], \"domains\": [1, 2, 3, 4, 5], \"num_examples_per_domain_per_label\": -1, \"pickle_path\": \"/root/csc500-main/datasets/cores.stratified_ds.2022A.pkl\", \"source_or_target_dataset\": \"source\", \"x_transforms\": [], \"episode_transforms\": [], \"domain_prefix\": \"CORES_\"}, {\"labels\": [\"3123D52\", \"3123D65\", \"3123D79\", \"3123D80\", \"3123D54\", \"3123D70\", \"3123D7B\", \"3123D89\", \"3123D58\", \"3123D76\", \"3123D7D\", \"3123EFE\", \"3123D64\", \"3123D78\", \"3123D7E\", \"3124E4A\"], \"domains\": [32, 38, 8, 44, 14, 50, 20, 26], \"num_examples_per_domain_per_label\": 2000, \"pickle_path\": \"/root/csc500-main/datasets/oracle.Run1_framed_2000Examples_stratified_ds.2022A.pkl\", \"source_or_target_dataset\": \"target\", \"x_transforms\": [], \"episode_transforms\": [], \"domain_prefix\": \"ORACLE.run1_\"}], \"dataset_seed\": 420, \"seed\": 420, \"x_shape\": [2, 256], \"domains_source\": [\"CORES_1\", \"CORES_2\", \"CORES_3\", \"CORES_4\", \"CORES_5\"], \"domains_target\": [\"ORACLE.run1_32\", \"ORACLE.run1_38\", \"ORACLE.run1_8\", \"ORACLE.run1_44\", \"ORACLE.run1_14\", \"ORACLE.run1_50\", \"ORACLE.run1_20\", \"ORACLE.run1_26\"]}, \"results\": {\"source_test_label_accuracy\": 0.99940039503386, \"source_test_label_loss\": 0.005906505975872278, \"target_test_label_accuracy\": 0.569921875, \"target_test_label_loss\": 1.7734158039093018, \"source_val_label_accuracy\": 0.999, \"source_val_label_loss\": 0.015139312483370304, \"target_val_label_accuracy\": 0.5703776041666667, \"target_val_label_loss\": 1.7725807428359985, \"total_epochs_trained\": 6, \"total_experiment_time_secs\": 1482.271295785904, \"confusion\": {\"CORES_4\": {\"42\": {\"42\": 32}, \"0\": {\"0\": 80}, \"1\": {\"1\": 40}, \"39\": {\"39\": 20}, \"28\": {\"28\": 32}, \"53\": {\"53\": 124}, \"19\": {\"19\": 144}, \"34\": {\"34\": 24}, \"33\": {\"33\": 36}, \"32\": {\"32\": 23, \"1\": 1}, \"10\": {\"10\": 136}, \"46\": {\"46\": 134}, \"20\": {\"20\": 122}, \"5\": {\"5\": 108}, \"40\": {\"40\": 124}, \"51\": {\"51\": 144}, \"37\": {\"37\": 24}, \"17\": {\"17\": 80}, \"45\": {\"45\": 96}, \"13\": {\"13\": 142}, \"27\": {\"27\": 144}, \"24\": {\"24\": 56}, \"30\": {\"30\": 44}, \"31\": {\"31\": 28}, \"41\": {\"41\": 34, \"10\": 1, \"49\": 1}, \"36\": {\"36\": 91, \"51\": 1}, \"16\": {\"16\": 94, \"11\": 1, \"22\": 1}, \"22\": {\"22\": 128}, \"44\": {\"44\": 132}, \"9\": {\"9\": 140}, \"57\": {\"57\": 100}, \"8\": {\"8\": 138}, \"23\": {\"23\": 132}, \"47\": {\"47\": 120}, \"43\": {\"43\": 138}, \"49\": {\"49\": 20}, \"3\": {\"3\": 123, \"50\": 1}, \"12\": {\"12\": 92}, \"38\": {\"38\": 40}, \"7\": {\"7\": 24}, \"14\": {\"14\": 16}, \"15\": {\"15\": 146}, \"25\": {\"25\": 128}, \"26\": {\"26\": 24}, \"21\": {\"21\": 132}, \"48\": {\"48\": 144}, \"56\": {\"56\": 134}, \"11\": {\"11\": 104}, \"2\": {\"2\": 36}, \"6\": {\"6\": 112}, \"55\": {\"55\": 140}, \"54\": {\"54\": 108}, \"29\": {\"29\": 124}, \"50\": {\"50\": 122}, \"52\": {\"52\": 116}, \"35\": {\"35\": 40}, \"4\": {\"4\": 120}, \"18\": {\"18\": 108}}, \"CORES_5\": {\"43\": {\"43\": 152}, \"35\": {\"35\": 36}, \"54\": {\"54\": 112}, \"22\": {\"22\": 28}, \"16\": {\"16\": 146}, \"5\": {\"5\": 128}, \"28\": {\"28\": 32}, \"14\": {\"14\": 44}, \"51\": {\"51\": 128}, \"19\": {\"19\": 140}, \"31\": {\"31\": 36}, \"10\": {\"10\": 68}, \"21\": {\"21\": 136}, \"3\": {\"3\": 100}, \"57\": {\"57\": 131, \"14\": 1}, \"9\": {\"9\": 146}, \"8\": {\"8\": 132}, \"46\": {\"46\": 140}, \"23\": {\"23\": 122, \"54\": 2}, \"37\": {\"37\": 24}, \"34\": {\"34\": 36}, \"4\": {\"4\": 100}, \"6\": {\"6\": 128}, \"48\": {\"48\": 136}, \"44\": {\"44\": 138}, \"40\": {\"40\": 124}, \"12\": {\"12\": 96}, \"30\": {\"30\": 128}, \"39\": {\"39\": 20}, \"45\": {\"45\": 122, \"50\": 1, \"6\": 1}, \"36\": {\"36\": 92}, \"27\": {\"27\": 140}, \"32\": {\"32\": 32}, \"52\": {\"52\": 130}, \"0\": {\"0\": 124}, \"26\": {\"26\": 24}, \"1\": {\"1\": 148}, \"53\": {\"53\": 146}, \"25\": {\"25\": 144}, \"24\": {\"24\": 80}, \"7\": {\"7\": 32}, \"18\": {\"18\": 64}, \"20\": {\"20\": 144}, \"33\": {\"33\": 32}, \"55\": {\"55\": 140}, \"41\": {\"41\": 28}, \"42\": {\"42\": 38, \"11\": 1, \"36\": 1}, \"49\": {\"49\": 36}, \"13\": {\"13\": 148}, \"38\": {\"38\": 32}, \"2\": {\"2\": 28}, \"47\": {\"47\": 100}, \"17\": {\"17\": 116}, \"11\": {\"11\": 154}, \"29\": {\"29\": 132}, \"50\": {\"50\": 138}, \"56\": {\"56\": 148}, \"15\": {\"15\": 142}}, \"CORES_2\": {\"49\": {\"49\": 24}, \"13\": {\"13\": 116}, \"37\": {\"37\": 36}, \"41\": {\"41\": 20}, \"15\": {\"15\": 142}, \"56\": {\"56\": 139, \"11\": 1, \"0\": 2}, \"14\": {\"14\": 24}, \"3\": {\"3\": 92}, \"38\": {\"38\": 20}, \"43\": {\"43\": 138}, \"33\": {\"33\": 28}, \"47\": {\"47\": 138}, \"30\": {\"30\": 144}, \"39\": {\"39\": 28}, \"12\": {\"12\": 92}, \"6\": {\"6\": 124}, \"51\": {\"51\": 134}, \"5\": {\"5\": 120}, \"34\": {\"34\": 28}, \"35\": {\"35\": 32}, \"0\": {\"0\": 48}, \"7\": {\"7\": 36}, \"24\": {\"24\": 96}, \"8\": {\"8\": 136}, \"20\": {\"20\": 124}, \"36\": {\"36\": 116}, \"42\": {\"42\": 36}, \"1\": {\"1\": 112}, \"4\": {\"4\": 148}, \"28\": {\"28\": 28}, \"50\": {\"50\": 136}, \"45\": {\"45\": 128}, \"18\": {\"18\": 48}, \"57\": {\"57\": 120}, \"46\": {\"46\": 128}, \"23\": {\"23\": 148}, \"27\": {\"27\": 138}, \"19\": {\"19\": 134}, \"22\": {\"22\": 136}, \"17\": {\"17\": 104}, \"55\": {\"55\": 136}, \"44\": {\"44\": 100}, \"26\": {\"26\": 24}, \"31\": {\"31\": 28}, \"16\": {\"16\": 130}, \"11\": {\"11\": 128}, \"25\": {\"25\": 126}, \"54\": {\"54\": 108}, \"32\": {\"32\": 28}, \"52\": {\"52\": 124}, \"40\": {\"40\": 131, \"29\": 1}, \"2\": {\"2\": 32}, \"10\": {\"10\": 110}, \"53\": {\"53\": 136}, \"9\": {\"9\": 150}, \"21\": {\"21\": 120}, \"48\": {\"48\": 138}, \"29\": {\"29\": 128}}, \"CORES_1\": {\"9\": {\"9\": 142}, \"25\": {\"25\": 128}, \"41\": {\"41\": 24}, \"29\": {\"29\": 140}, \"46\": {\"46\": 128}, \"4\": {\"4\": 132}, \"31\": {\"31\": 28}, \"36\": {\"36\": 64}, \"20\": {\"20\": 128}, \"7\": {\"7\": 28}, \"6\": {\"6\": 96}, \"16\": {\"16\": 138}, \"17\": {\"17\": 64}, \"50\": {\"50\": 148}, \"57\": {\"57\": 144}, \"23\": {\"23\": 136}, \"3\": {\"3\": 126}, \"53\": {\"53\": 140}, \"49\": {\"49\": 32}, \"56\": {\"56\": 152}, \"51\": {\"51\": 142}, \"26\": {\"26\": 24}, \"43\": {\"43\": 144}, \"22\": {\"22\": 136}, \"45\": {\"45\": 146}, \"13\": {\"13\": 152}, \"12\": {\"12\": 116}, \"54\": {\"54\": 104}, \"24\": {\"24\": 108}, \"44\": {\"44\": 136}, \"28\": {\"28\": 28}, \"33\": {\"33\": 32}, \"38\": {\"38\": 24}, \"0\": {\"0\": 144}, \"47\": {\"47\": 154}, \"42\": {\"42\": 40}, \"34\": {\"34\": 24}, \"48\": {\"48\": 142}, \"35\": {\"35\": 36}, \"2\": {\"2\": 36}, \"30\": {\"30\": 120}, \"18\": {\"18\": 72}, \"37\": {\"37\": 32}, \"1\": {\"1\": 100}, \"11\": {\"11\": 138}, \"55\": {\"55\": 130}, \"15\": {\"15\": 150}, \"10\": {\"10\": 96}, \"27\": {\"27\": 160}, \"19\": {\"19\": 146}, \"14\": {\"14\": 24}, \"8\": {\"8\": 140}, \"5\": {\"5\": 136}, \"39\": {\"39\": 28}, \"52\": {\"52\": 122}, \"21\": {\"21\": 124}, \"40\": {\"40\": 152}, \"32\": {\"32\": 32}}, \"CORES_3\": {\"56\": {\"56\": 120}, \"4\": {\"4\": 146}, \"34\": {\"34\": 32}, \"52\": {\"52\": 136}, \"32\": {\"32\": 28}, \"46\": {\"46\": 136}, \"12\": {\"12\": 90, \"21\": 2}, \"20\": {\"20\": 132}, \"54\": {\"54\": 100}, \"22\": {\"22\": 140}, \"26\": {\"26\": 24}, \"31\": {\"31\": 28}, \"10\": {\"10\": 64}, \"27\": {\"27\": 144}, \"40\": {\"40\": 136}, \"28\": {\"28\": 28}, \"5\": {\"5\": 116}, \"30\": {\"30\": 120}, \"7\": {\"7\": 36}, \"18\": {\"18\": 84}, \"39\": {\"39\": 16}, \"50\": {\"50\": 135, \"3\": 1}, \"49\": {\"49\": 20}, \"43\": {\"43\": 122}, \"29\": {\"29\": 113, \"57\": 1}, \"35\": {\"35\": 28}, \"13\": {\"13\": 122, \"43\": 2}, \"36\": {\"36\": 100}, \"11\": {\"11\": 146}, \"57\": {\"57\": 124}, \"9\": {\"9\": 130}, \"25\": {\"25\": 130}, \"16\": {\"16\": 126}, \"53\": {\"53\": 118}, \"33\": {\"33\": 28}, \"51\": {\"51\": 128}, \"44\": {\"44\": 88}, \"48\": {\"48\": 114}, \"6\": {\"6\": 88}, \"23\": {\"23\": 144}, \"1\": {\"1\": 100}, \"17\": {\"38\": 2, \"17\": 104, \"53\": 2}, \"21\": {\"21\": 122}, \"14\": {\"14\": 40}, \"55\": {\"55\": 144}, \"41\": {\"41\": 28}, \"3\": {\"3\": 138}, \"38\": {\"38\": 28}, \"2\": {\"2\": 32}, \"8\": {\"8\": 142}, \"37\": {\"37\": 28}, \"45\": {\"45\": 60}, \"42\": {\"42\": 28}, \"24\": {\"24\": 104}, \"15\": {\"15\": 136}, \"0\": {\"0\": 124}, \"47\": {\"47\": 92}, \"19\": {\"19\": 120}}, \"ORACLE.run1_14\": {\"15\": {\"15\": 240}, \"5\": {\"5\": 114, \"13\": 11, \"14\": 23, \"8\": 32, \"2\": 44, \"7\": 5, \"4\": 6, \"3\": 1, \"0\": 4}, \"7\": {\"7\": 220, \"3\": 3, \"13\": 4, \"5\": 5, \"8\": 3, \"2\": 1, \"6\": 4}, \"4\": {\"4\": 177, \"13\": 5, \"5\": 14, \"10\": 14, \"2\": 14, \"8\": 8, \"1\": 4, \"0\": 3, \"14\": 1}, \"10\": {\"10\": 189, \"9\": 29, \"1\": 7, \"12\": 5, \"4\": 10}, \"11\": {\"11\": 239, \"9\": 1}, \"12\": {\"12\": 227, \"0\": 10, \"8\": 1, \"10\": 1, \"4\": 1}, \"0\": {\"13\": 19, \"3\": 37, \"14\": 38, \"5\": 16, \"12\": 7, \"0\": 72, \"2\": 16, \"4\": 14, \"8\": 12, \"6\": 9}, \"14\": {\"5\": 23, \"14\": 97, \"13\": 24, \"6\": 13, \"2\": 46, \"0\": 25, \"3\": 11, \"4\": 1}, \"8\": {\"8\": 177, \"13\": 2, \"0\": 23, \"5\": 26, \"2\": 5, \"7\": 4, \"4\": 2, \"14\": 1}, \"13\": {\"3\": 39, \"2\": 23, \"0\": 15, \"14\": 30, \"13\": 35, \"7\": 1, \"5\": 18, \"6\": 61, \"15\": 14, \"4\": 4}, \"6\": {\"3\": 59, \"6\": 92, \"2\": 9, \"0\": 7, \"13\": 50, \"14\": 18, \"5\": 5}, \"1\": {\"1\": 212, \"4\": 8, \"10\": 14, \"9\": 6}, \"3\": {\"3\": 115, \"0\": 20, \"2\": 11, \"6\": 37, \"13\": 38, \"14\": 8, \"5\": 9, \"8\": 2}, \"9\": {\"10\": 29, \"9\": 204, \"1\": 7}, \"2\": {\"5\": 50, \"3\": 20, \"2\": 42, \"4\": 34, \"13\": 25, \"14\": 31, \"6\": 25, \"0\": 11, \"7\": 1, \"8\": 1}}, \"ORACLE.run1_20\": {\"4\": {\"4\": 102, \"15\": 15, \"12\": 37, \"2\": 10, \"13\": 30, \"10\": 27, \"7\": 4, \"1\": 4, \"5\": 2, \"9\": 2, \"6\": 6, \"3\": 1}, \"10\": {\"4\": 51, \"10\": 152, \"13\": 23, \"12\": 8, \"15\": 4, \"2\": 2}, \"15\": {\"15\": 51, \"7\": 16, \"2\": 29, \"4\": 16, \"1\": 22, \"12\": 42, \"9\": 13, \"5\": 14, \"13\": 28, \"6\": 5, \"3\": 4}, \"0\": {\"0\": 185, \"8\": 28, \"11\": 8, \"14\": 3, \"3\": 13, \"5\": 1, \"1\": 1, \"9\": 1}, \"6\": {\"6\": 98, \"4\": 2, \"13\": 4, \"7\": 45, \"15\": 4, \"14\": 19, \"9\": 18, \"8\": 8, \"2\": 17, \"1\": 11, \"5\": 3, \"3\": 8, \"12\": 3}, \"3\": {\"6\": 12, \"5\": 50, \"3\": 41, \"8\": 31, \"14\": 28, \"1\": 24, \"0\": 7, \"9\": 35, \"15\": 3, \"7\": 7, \"2\": 2}, \"7\": {\"7\": 47, \"6\": 44, \"13\": 8, \"1\": 16, \"9\": 26, \"5\": 15, \"2\": 28, \"15\": 24, \"12\": 7, \"3\": 14, \"8\": 2, \"4\": 3, \"14\": 6}, \"2\": {\"6\": 19, \"2\": 36, \"13\": 44, \"1\": 13, \"5\": 3, \"7\": 25, \"12\": 36, \"4\": 16, \"15\": 32, \"9\": 16}, \"8\": {\"3\": 48, \"14\": 64, \"8\": 87, \"5\": 17, \"0\": 9, \"7\": 5, \"6\": 5, \"9\": 5}, \"11\": {\"11\": 229, \"0\": 10, \"8\": 1}, \"14\": {\"6\": 17, \"3\": 28, \"5\": 12, \"8\": 67, \"14\": 101, \"7\": 6, \"9\": 6, \"0\": 1, \"1\": 2}, \"12\": {\"2\": 38, \"12\": 56, \"13\": 48, \"7\": 10, \"15\": 34, \"4\": 30, \"1\": 10, \"9\": 7, \"6\": 5, \"10\": 1, \"5\": 1}, \"13\": {\"12\": 47, \"13\": 90, \"15\": 30, \"5\": 1, \"7\": 8, \"4\": 20, \"9\": 2, \"2\": 32, \"6\": 3, \"10\": 4, \"1\": 3}, \"9\": {\"5\": 39, \"7\": 32, \"6\": 12, \"9\": 43, \"14\": 11, \"8\": 8, \"15\": 13, \"12\": 3, \"1\": 37, \"3\": 22, \"2\": 14, \"13\": 6}, \"5\": {\"6\": 13, \"1\": 36, \"3\": 40, \"9\": 28, \"5\": 55, \"7\": 25, \"15\": 10, \"8\": 13, \"14\": 10, \"2\": 7, \"12\": 2, \"4\": 1}, \"1\": {\"5\": 39, \"1\": 50, \"9\": 38, \"7\": 28, \"15\": 23, \"12\": 8, \"3\": 23, \"6\": 8, \"2\": 17, \"13\": 4, \"8\": 1, \"4\": 1}}, \"ORACLE.run1_50\": {\"5\": {\"4\": 23, \"7\": 57, \"6\": 43, \"15\": 25, \"13\": 6, \"5\": 65, \"3\": 6, \"11\": 14, \"1\": 1}, \"12\": {\"12\": 178, \"9\": 43, \"11\": 15, \"15\": 3, \"6\": 1}, \"14\": {\"14\": 168, \"2\": 46, \"0\": 26}, \"4\": {\"4\": 108, \"7\": 97, \"15\": 6, \"6\": 4, \"5\": 22, \"9\": 3}, \"13\": {\"3\": 4, \"13\": 186, \"1\": 46, \"5\": 2, \"8\": 2}, \"10\": {\"8\": 32, \"10\": 173, \"0\": 30, \"1\": 5}, \"9\": {\"11\": 26, \"9\": 102, \"12\": 61, \"15\": 38, \"6\": 9, \"5\": 2, \"4\": 2}, \"15\": {\"6\": 76, \"15\": 109, \"11\": 17, \"5\": 22, \"9\": 16}, \"6\": {\"15\": 72, \"6\": 95, \"11\": 8, \"5\": 50, \"12\": 4, \"3\": 5, \"9\": 6}, \"2\": {\"0\": 73, \"2\": 120, \"14\": 43, \"10\": 4}, \"0\": {\"0\": 124, \"2\": 65, \"10\": 41, \"14\": 10}, \"11\": {\"12\": 40, \"11\": 143, \"5\": 6, \"6\": 19, \"15\": 18, \"9\": 14}, \"3\": {\"3\": 225, \"7\": 1, \"13\": 5, \"15\": 1, \"6\": 6, \"5\": 2}, \"8\": {\"8\": 199, \"10\": 28, \"1\": 7, \"13\": 6}, \"7\": {\"4\": 72, \"7\": 147, \"5\": 21}, \"1\": {\"8\": 15, \"1\": 162, \"13\": 47, \"10\": 14, \"0\": 1, \"11\": 1}}, \"ORACLE.run1_26\": {\"7\": {\"7\": 75, \"9\": 37, \"0\": 5, \"13\": 4, \"8\": 67, \"3\": 23, \"2\": 29}, \"6\": {\"5\": 25, \"1\": 44, \"6\": 79, \"11\": 9, \"15\": 50, \"10\": 12, \"14\": 20, \"0\": 1}, \"14\": {\"14\": 67, \"10\": 74, \"0\": 36, \"6\": 21, \"1\": 26, \"15\": 13, \"5\": 2, \"2\": 1}, \"15\": {\"15\": 76, \"10\": 14, \"11\": 3, \"5\": 54, \"6\": 50, \"1\": 24, \"14\": 16, \"2\": 1, \"0\": 2}, \"5\": {\"5\": 126, \"15\": 61, \"6\": 23, \"11\": 5, \"1\": 22, \"10\": 3}, \"10\": {\"14\": 62, \"0\": 37, \"10\": 91, \"15\": 23, \"1\": 15, \"6\": 10, \"11\": 1, \"5\": 1}, \"4\": {\"4\": 227, \"3\": 2, \"13\": 5, \"12\": 5, \"7\": 1}, \"11\": {\"11\": 189, \"6\": 16, \"5\": 14, \"1\": 9, \"15\": 11, \"10\": 1}, \"13\": {\"13\": 130, \"4\": 12, \"12\": 12, \"3\": 37, \"9\": 27, \"7\": 10, \"2\": 8, \"8\": 4}, \"2\": {\"9\": 37, \"2\": 84, \"8\": 36, \"0\": 20, \"7\": 44, \"13\": 3, \"3\": 8, \"10\": 5, \"14\": 2, \"15\": 1}, \"0\": {\"0\": 97, \"8\": 15, \"6\": 2, \"14\": 45, \"2\": 15, \"10\": 61, \"9\": 1, \"15\": 2, \"1\": 1, \"7\": 1}, \"12\": {\"13\": 33, \"12\": 182, \"8\": 6, \"7\": 5, \"9\": 11, \"3\": 2, \"4\": 1}, \"3\": {\"3\": 109, \"9\": 37, \"7\": 44, \"8\": 18, \"13\": 24, \"2\": 8}, \"9\": {\"3\": 25, \"8\": 27, \"12\": 8, \"9\": 72, \"13\": 44, \"7\": 26, \"2\": 36, \"0\": 2}, \"8\": {\"7\": 64, \"8\": 97, \"9\": 21, \"3\": 14, \"2\": 22, \"0\": 20, \"12\": 2}, \"1\": {\"1\": 129, \"10\": 16, \"6\": 48, \"14\": 22, \"15\": 18, \"11\": 2, \"0\": 4, \"5\": 1}}, \"ORACLE.run1_32\": {\"7\": {\"7\": 101, \"5\": 53, \"0\": 29, \"14\": 47, \"8\": 9, \"15\": 1}, \"2\": {\"2\": 142, \"4\": 68, \"13\": 9, \"8\": 9, \"3\": 8, \"14\": 3, \"0\": 1}, \"5\": {\"5\": 90, \"8\": 22, \"7\": 62, \"14\": 18, \"0\": 37, \"15\": 11}, \"6\": {\"6\": 229, \"10\": 11}, \"13\": {\"4\": 47, \"13\": 117, \"3\": 51, \"11\": 14, \"2\": 8, \"9\": 2, \"8\": 1}, \"4\": {\"3\": 38, \"4\": 110, \"2\": 64, \"13\": 24, \"8\": 4}, \"3\": {\"3\": 142, \"2\": 4, \"13\": 61, \"4\": 32, \"11\": 1}, \"0\": {\"14\": 38, \"0\": 94, \"7\": 32, \"8\": 38, \"5\": 26, \"15\": 11, \"2\": 1}, \"9\": {\"9\": 211, \"12\": 19, \"4\": 3, \"13\": 3, \"11\": 1, \"1\": 1, \"3\": 2}, \"12\": {\"12\": 232, \"10\": 2, \"9\": 6}, \"8\": {\"8\": 85, \"0\": 69, \"2\": 5, \"7\": 19, \"5\": 18, \"15\": 19, \"14\": 20, \"4\": 5}, \"14\": {\"14\": 94, \"5\": 19, \"0\": 31, \"8\": 17, \"7\": 53, \"2\": 23, \"4\": 3}, \"15\": {\"8\": 12, \"15\": 199, \"0\": 10, \"5\": 16, \"7\": 3}, \"11\": {\"11\": 223, \"13\": 17}, \"10\": {\"10\": 238, \"6\": 2}, \"1\": {\"1\": 239, \"9\": 1}}, \"ORACLE.run1_44\": {\"11\": {\"11\": 239, \"13\": 1}, \"7\": {\"10\": 31, \"7\": 106, \"4\": 20, \"9\": 69, \"14\": 5, \"6\": 7, \"2\": 1, \"15\": 1}, \"6\": {\"6\": 132, \"13\": 80, \"9\": 24, \"7\": 3, \"4\": 1}, \"12\": {\"12\": 159, \"3\": 81}, \"4\": {\"5\": 31, \"14\": 42, \"4\": 66, \"7\": 26, \"2\": 7, \"9\": 39, \"8\": 1, \"15\": 19, \"6\": 7, \"10\": 2}, \"13\": {\"13\": 158, \"6\": 71, \"11\": 1, \"9\": 9, \"7\": 1}, \"8\": {\"15\": 53, \"0\": 53, \"8\": 112, \"5\": 15, \"14\": 3, \"4\": 3, \"2\": 1}, \"5\": {\"9\": 2, \"4\": 48, \"5\": 84, \"15\": 23, \"14\": 70, \"8\": 11, \"7\": 2}, \"14\": {\"14\": 90, \"5\": 47, \"4\": 48, \"9\": 11, \"15\": 31, \"10\": 3, \"7\": 8, \"2\": 2}, \"3\": {\"12\": 95, \"3\": 145}, \"10\": {\"7\": 49, \"10\": 143, \"1\": 12, \"2\": 10, \"9\": 20, \"4\": 4, \"6\": 1, \"14\": 1}, \"1\": {\"1\": 183, \"2\": 56, \"8\": 1}, \"2\": {\"2\": 178, \"1\": 43, \"4\": 3, \"15\": 3, \"14\": 4, \"10\": 3, \"9\": 3, \"7\": 3}, \"15\": {\"0\": 2, \"8\": 57, \"15\": 99, \"14\": 40, \"4\": 9, \"2\": 4, \"5\": 24, \"10\": 2, \"9\": 1, \"1\": 2}, \"9\": {\"9\": 61, \"13\": 25, \"7\": 53, \"4\": 17, \"6\": 47, \"14\": 10, \"2\": 7, \"10\": 17, \"5\": 2, \"15\": 1}, \"0\": {\"0\": 182, \"8\": 49, \"15\": 7, \"5\": 1, \"4\": 1}}, \"ORACLE.run1_8\": {\"10\": {\"5\": 27, \"10\": 72, \"13\": 34, \"6\": 43, \"7\": 34, \"1\": 19, \"4\": 5, \"11\": 4, \"8\": 2}, \"6\": {\"7\": 65, \"5\": 8, \"10\": 30, \"6\": 93, \"8\": 3, \"1\": 20, \"13\": 8, \"4\": 2, \"11\": 11}, \"13\": {\"7\": 55, \"5\": 29, \"13\": 104, \"6\": 14, \"1\": 1, \"10\": 36, \"11\": 1}, \"3\": {\"3\": 232, \"2\": 8}, \"9\": {\"9\": 240}, \"1\": {\"13\": 8, \"10\": 17, \"4\": 9, \"6\": 21, \"5\": 24, \"11\": 51, \"1\": 82, \"8\": 24, \"7\": 4}, \"5\": {\"13\": 27, \"10\": 52, \"1\": 36, \"7\": 18, \"5\": 76, \"4\": 9, \"11\": 10, \"6\": 9, \"8\": 1, \"14\": 1, \"15\": 1}, \"11\": {\"5\": 12, \"1\": 55, \"10\": 8, \"14\": 22, \"11\": 64, \"8\": 40, \"4\": 32, \"6\": 6, \"7\": 1}, \"4\": {\"4\": 117, \"11\": 54, \"1\": 9, \"6\": 5, \"14\": 13, \"8\": 38, \"10\": 3, \"5\": 1}, \"14\": {\"4\": 35, \"8\": 13, \"14\": 172, \"11\": 19, \"1\": 1}, \"12\": {\"15\": 101, \"12\": 134, \"2\": 5}, \"7\": {\"7\": 107, \"5\": 8, \"6\": 44, \"10\": 29, \"13\": 50, \"1\": 2}, \"0\": {\"0\": 240}, \"15\": {\"15\": 144, \"12\": 83, \"2\": 13}, \"2\": {\"3\": 40, \"2\": 154, \"15\": 28, \"12\": 18}, \"8\": {\"4\": 49, \"8\": 99, \"6\": 8, \"11\": 46, \"14\": 14, \"1\": 21, \"10\": 3}}, \"ORACLE.run1_38\": {\"4\": {\"4\": 228, \"10\": 7, \"0\": 1, \"14\": 4}, \"7\": {\"8\": 16, \"7\": 155, \"2\": 23, \"9\": 9, \"14\": 21, \"0\": 4, \"5\": 8, \"4\": 2, \"13\": 2}, \"12\": {\"12\": 237, \"8\": 1, \"5\": 1, \"15\": 1}, \"10\": {\"10\": 170, \"0\": 39, \"4\": 15, \"13\": 15, \"3\": 1}, \"0\": {\"13\": 65, \"0\": 64, \"8\": 3, \"10\": 74, \"7\": 14, \"4\": 7, \"3\": 9, \"9\": 3, \"2\": 1}, \"1\": {\"6\": 77, \"1\": 161, \"15\": 2}, \"5\": {\"8\": 79, \"2\": 8, \"5\": 84, \"9\": 31, \"7\": 15, \"15\": 20, \"12\": 2, \"0\": 1}, \"15\": {\"15\": 189, \"5\": 20, \"8\": 18, \"12\": 6, \"1\": 5, \"6\": 2}, \"9\": {\"9\": 197, \"8\": 11, \"5\": 18, \"2\": 3, \"7\": 11}, \"11\": {\"11\": 240}, \"14\": {\"14\": 162, \"8\": 2, \"4\": 8, \"2\": 50, \"7\": 17, \"0\": 1}, \"6\": {\"6\": 174, \"1\": 64, \"15\": 2}, \"8\": {\"8\": 68, \"2\": 25, \"5\": 71, \"15\": 19, \"7\": 34, \"9\": 11, \"14\": 3, \"12\": 8, \"0\": 1}, \"3\": {\"3\": 237, \"11\": 2, \"0\": 1}, \"2\": {\"2\": 162, \"14\": 38, \"5\": 6, \"7\": 26, \"8\": 4, \"13\": 1, \"9\": 3}, \"13\": {\"13\": 172, \"4\": 1, \"0\": 47, \"14\": 1, \"10\": 7, \"7\": 8, \"2\": 3, \"9\": 1}}}, \"per_domain_accuracy\": {\"CORES_4\": {\"accuracy\": 0.9986901197604791, \"source?\": true}, \"CORES_5\": {\"accuracy\": 0.9987779329608939, \"source?\": true}, \"CORES_2\": {\"accuracy\": 0.9992857142857143, \"source?\": true}, \"CORES_1\": {\"accuracy\": 1.0, \"source?\": true}, \"CORES_3\": {\"accuracy\": 0.9981617647058824, \"source?\": true}, \"ORACLE.run1_14\": {\"accuracy\": 0.6385416666666667, \"source?\": false}, \"ORACLE.run1_20\": {\"accuracy\": 0.37057291666666664, \"source?\": false}, \"ORACLE.run1_50\": {\"accuracy\": 0.6, \"source?\": false}, \"ORACLE.run1_26\": {\"accuracy\": 0.4765625, \"source?\": false}, \"ORACLE.run1_32\": {\"accuracy\": 0.6630208333333333, \"source?\": false}, \"ORACLE.run1_44\": {\"accuracy\": 0.5565104166666667, \"source?\": false}, \"ORACLE.run1_8\": {\"accuracy\": 0.5546875, \"source?\": false}, \"ORACLE.run1_38\": {\"accuracy\": 0.703125, \"source?\": false}}}, \"history\": {\"epoch_indices\": [1, 2, 3, 4, 5, 6], \"train_label_loss\": [0.026227179837662793, 0.008996746720106155, 0.007352438832925778, 0.004362049425715618, 0.004131929395335238, 0.004453742152443936], \"source_val_label_loss\": [0.013254583813250065, 0.015139312483370304, 0.013320554047822952, 0.01799309439957142, 0.017646033316850662, 0.016903312876820564], \"target_val_label_loss\": [1.9415947198867798, 1.7725807428359985, 1.9577794075012207, 1.459206223487854, 1.5261752605438232, 1.8899413347244263], \"source_val_acc_label\": [0.9985, 0.999, 0.9989285714285714, 0.9988214285714285, 0.9983214285714286, 0.9988928571428571], \"target_val_acc_label\": [0.5138997395833333, 0.5703776041666667, 0.45048828125, 0.5361979166666667, 0.484375, 0.34427083333333336]}, \"dataset_metrics\": {\"source\": {\"train\": {\"n_unique_x\": 175111, \"n_unique_y\": 58, \"n_batch/episode\": 6295}, \"val\": {\"n_unique_x\": 37216, \"n_unique_y\": 58, \"n_batch/episode\": 875}, \"test\": {\"n_unique_x\": 37596, \"n_unique_y\": 58, \"n_batch/episode\": 886}}, \"target\": {\"train\": {\"n_unique_x\": 179200, \"n_unique_y\": 16, \"n_batch/episode\": 6720}, \"val\": {\"n_unique_x\": 38400, \"n_unique_y\": 16, \"n_batch/episode\": 960}, \"test\": {\"n_unique_x\": 38400, \"n_unique_y\": 16, \"n_batch/episode\": 960}}}}'"
      ]
     },
     "execution_count": 29,
     "metadata": {},
     "output_type": "execute_result"
    }
   ],
   "source": [
    "json.dumps(experiment)"
   ]
  }
 ],
 "metadata": {
  "celltoolbar": "Tags",
  "kernelspec": {
   "display_name": "Python 3 (ipykernel)",
   "language": "python",
   "name": "python3"
  },
  "language_info": {
   "codemirror_mode": {
    "name": "ipython",
    "version": 3
   },
   "file_extension": ".py",
   "mimetype": "text/x-python",
   "name": "python",
   "nbconvert_exporter": "python",
   "pygments_lexer": "ipython3",
   "version": "3.8.12"
  },
  "papermill": {
   "default_parameters": {},
   "duration": 1703.785586,
   "end_time": "2022-03-21T07:21:25.367158",
   "environment_variables": {},
   "exception": null,
   "input_path": "/root/csc500-main/csc500-notebooks/templates/tl_ptn_template.ipynb",
   "output_path": "trial.ipynb",
   "parameters": {
    "parameters": {
     "BEST_MODEL_PATH": "./best_model.pth",
     "NUM_LOGS_PER_EPOCH": 10,
     "criteria_for_best": "target_accuracy",
     "dataset_seed": 420,
     "datasets": [
      {
       "domain_prefix": "CORES_",
       "domains": [
        1,
        2,
        3,
        4,
        5
       ],
       "episode_transforms": [],
       "labels": [
        "1-10.",
        "1-11.",
        "1-15.",
        "1-16.",
        "1-17.",
        "1-18.",
        "1-19.",
        "10-4.",
        "10-7.",
        "11-1.",
        "11-14.",
        "11-17.",
        "11-20.",
        "11-7.",
        "13-20.",
        "13-8.",
        "14-10.",
        "14-11.",
        "14-14.",
        "14-7.",
        "15-1.",
        "15-20.",
        "16-1.",
        "16-16.",
        "17-10.",
        "17-11.",
        "17-2.",
        "19-1.",
        "19-16.",
        "19-19.",
        "19-20.",
        "19-3.",
        "2-10.",
        "2-11.",
        "2-17.",
        "2-18.",
        "2-20.",
        "2-3.",
        "2-4.",
        "2-5.",
        "2-6.",
        "2-7.",
        "2-8.",
        "3-13.",
        "3-18.",
        "3-3.",
        "4-1.",
        "4-10.",
        "4-11.",
        "4-19.",
        "5-5.",
        "6-15.",
        "7-10.",
        "7-14.",
        "8-18.",
        "8-20.",
        "8-3.",
        "8-8."
       ],
       "num_examples_per_domain_per_label": -1,
       "pickle_path": "/root/csc500-main/datasets/cores.stratified_ds.2022A.pkl",
       "source_or_target_dataset": "source",
       "x_transforms": []
      },
      {
       "domain_prefix": "ORACLE.run1_",
       "domains": [
        32,
        38,
        8,
        44,
        14,
        50,
        20,
        26
       ],
       "episode_transforms": [],
       "labels": [
        "3123D52",
        "3123D65",
        "3123D79",
        "3123D80",
        "3123D54",
        "3123D70",
        "3123D7B",
        "3123D89",
        "3123D58",
        "3123D76",
        "3123D7D",
        "3123EFE",
        "3123D64",
        "3123D78",
        "3123D7E",
        "3124E4A"
       ],
       "num_examples_per_domain_per_label": 2000,
       "pickle_path": "/root/csc500-main/datasets/oracle.Run1_framed_2000Examples_stratified_ds.2022A.pkl",
       "source_or_target_dataset": "target",
       "x_transforms": []
      }
     ],
     "device": "cuda",
     "experiment_name": "tl_1v2:cores-oracle.run1.framed",
     "lr": 0.0001,
     "n_epoch": 50,
     "n_query": 2,
     "n_shot": 3,
     "n_way": 16,
     "patience": 3,
     "seed": 420,
     "test_k_factor": 2,
     "torch_default_dtype": "torch.float32",
     "train_k_factor": 3,
     "val_k_factor": 2,
     "x_net": [
      {
       "class": "nnReshape",
       "kargs": {
        "shape": [
         -1,
         1,
         2,
         256
        ]
       }
      },
      {
       "class": "Conv2d",
       "kargs": {
        "bias": false,
        "in_channels": 1,
        "kernel_size": [
         1,
         7
        ],
        "out_channels": 256,
        "padding": [
         0,
         3
        ]
       }
      },
      {
       "class": "ReLU",
       "kargs": {
        "inplace": true
       }
      },
      {
       "class": "BatchNorm2d",
       "kargs": {
        "num_features": 256
       }
      },
      {
       "class": "Conv2d",
       "kargs": {
        "bias": true,
        "in_channels": 256,
        "kernel_size": [
         2,
         7
        ],
        "out_channels": 80,
        "padding": [
         0,
         3
        ]
       }
      },
      {
       "class": "ReLU",
       "kargs": {
        "inplace": true
       }
      },
      {
       "class": "BatchNorm2d",
       "kargs": {
        "num_features": 80
       }
      },
      {
       "class": "Flatten",
       "kargs": {}
      },
      {
       "class": "Linear",
       "kargs": {
        "in_features": 20480,
        "out_features": 256
       }
      },
      {
       "class": "ReLU",
       "kargs": {
        "inplace": true
       }
      },
      {
       "class": "BatchNorm1d",
       "kargs": {
        "num_features": 256
       }
      },
      {
       "class": "Linear",
       "kargs": {
        "in_features": 256,
        "out_features": 256
       }
      }
     ]
    }
   },
   "start_time": "2022-03-21T06:53:01.581572",
   "version": "2.3.4"
  }
 },
 "nbformat": 4,
 "nbformat_minor": 5
}