{
 "cells": [
  {
   "cell_type": "markdown",
   "id": "9fea5f46",
   "metadata": {
    "papermill": {
     "duration": 0.027269,
     "end_time": "2022-03-21T17:00:39.223109",
     "exception": false,
     "start_time": "2022-03-21T17:00:39.195840",
     "status": "completed"
    },
    "tags": []
   },
   "source": [
    "# Transfer Learning Template"
   ]
  },
  {
   "cell_type": "code",
   "execution_count": 1,
   "id": "0902182a",
   "metadata": {
    "execution": {
     "iopub.execute_input": "2022-03-21T17:00:39.281354Z",
     "iopub.status.busy": "2022-03-21T17:00:39.270074Z",
     "iopub.status.idle": "2022-03-21T17:00:41.137963Z",
     "shell.execute_reply": "2022-03-21T17:00:41.138648Z"
    },
    "papermill": {
     "duration": 1.894516,
     "end_time": "2022-03-21T17:00:41.139008",
     "exception": false,
     "start_time": "2022-03-21T17:00:39.244492",
     "status": "completed"
    },
    "tags": []
   },
   "outputs": [],
   "source": [
    "%load_ext autoreload\n",
    "%autoreload 2\n",
    "%matplotlib inline\n",
    "\n",
    "    \n",
    "import os, json, sys, time, random\n",
    "import numpy as np\n",
    "import torch\n",
    "from torch.optim import Adam\n",
    "from  easydict import EasyDict\n",
    "import matplotlib.pyplot as plt\n",
    "\n",
    "from steves_models.steves_ptn import Steves_Prototypical_Network\n",
    "\n",
    "from steves_utils.lazy_iterable_wrapper import Lazy_Iterable_Wrapper\n",
    "from steves_utils.iterable_aggregator import Iterable_Aggregator\n",
    "from steves_utils.ptn_train_eval_test_jig import  PTN_Train_Eval_Test_Jig\n",
    "from steves_utils.torch_sequential_builder import build_sequential\n",
    "from steves_utils.torch_utils import get_dataset_metrics, ptn_confusion_by_domain_over_dataloader\n",
    "from steves_utils.utils_v2 import (per_domain_accuracy_from_confusion, get_datasets_base_path)\n",
    "from steves_utils.PTN.utils import independent_accuracy_assesment\n",
    "\n",
    "from torch.utils.data import DataLoader\n",
    "\n",
    "from steves_utils.stratified_dataset.episodic_accessor import Episodic_Accessor_Factory\n",
    "\n",
    "from steves_utils.ptn_do_report import (\n",
    "    get_loss_curve,\n",
    "    get_results_table,\n",
    "    get_parameters_table,\n",
    "    get_domain_accuracies,\n",
    ")\n",
    "\n",
    "from steves_utils.transforms import get_chained_transform"
   ]
  },
  {
   "cell_type": "markdown",
   "id": "41c840b4",
   "metadata": {
    "papermill": {
     "duration": 0.018841,
     "end_time": "2022-03-21T17:00:41.185261",
     "exception": false,
     "start_time": "2022-03-21T17:00:41.166420",
     "status": "completed"
    },
    "tags": []
   },
   "source": [
    "# Allowed Parameters\n",
    "These are allowed parameters, not defaults\n",
    "Each of these values need to be present in the injected parameters (the notebook will raise an exception if they are not present)\n",
    "\n",
    "Papermill uses the cell tag \"parameters\" to inject the real parameters below this cell.\n",
    "Enable tags to see what I mean"
   ]
  },
  {
   "cell_type": "code",
   "execution_count": 2,
   "id": "fd44eb83",
   "metadata": {
    "execution": {
     "iopub.execute_input": "2022-03-21T17:00:41.229400Z",
     "iopub.status.busy": "2022-03-21T17:00:41.228757Z",
     "iopub.status.idle": "2022-03-21T17:00:41.255179Z",
     "shell.execute_reply": "2022-03-21T17:00:41.254347Z"
    },
    "papermill": {
     "duration": 0.050733,
     "end_time": "2022-03-21T17:00:41.255349",
     "exception": false,
     "start_time": "2022-03-21T17:00:41.204616",
     "status": "completed"
    },
    "tags": []
   },
   "outputs": [],
   "source": [
    "required_parameters = {\n",
    "    \"experiment_name\",\n",
    "    \"lr\",\n",
    "    \"device\",\n",
    "    \"seed\",\n",
    "    \"dataset_seed\",\n",
    "    \"n_shot\",\n",
    "    \"n_query\",\n",
    "    \"n_way\",\n",
    "    \"train_k_factor\",\n",
    "    \"val_k_factor\",\n",
    "    \"test_k_factor\",\n",
    "    \"n_epoch\",\n",
    "    \"patience\",\n",
    "    \"criteria_for_best\",\n",
    "    \"x_net\",\n",
    "    \"datasets\",\n",
    "    \"torch_default_dtype\",\n",
    "    \"NUM_LOGS_PER_EPOCH\",\n",
    "    \"BEST_MODEL_PATH\",\n",
    "    \"x_shape\",\n",
    "}"
   ]
  },
  {
   "cell_type": "code",
   "execution_count": 3,
   "id": "fa3f0049",
   "metadata": {
    "execution": {
     "iopub.execute_input": "2022-03-21T17:00:41.314888Z",
     "iopub.status.busy": "2022-03-21T17:00:41.314231Z",
     "iopub.status.idle": "2022-03-21T17:00:41.338137Z",
     "shell.execute_reply": "2022-03-21T17:00:41.337292Z"
    },
    "papermill": {
     "duration": 0.052878,
     "end_time": "2022-03-21T17:00:41.338317",
     "exception": false,
     "start_time": "2022-03-21T17:00:41.285439",
     "status": "completed"
    },
    "tags": [
     "parameters"
    ]
   },
   "outputs": [],
   "source": [
    "from steves_utils.CORES.utils import (\n",
    "    ALL_NODES,\n",
    "    ALL_NODES_MINIMUM_1000_EXAMPLES,\n",
    "    ALL_DAYS\n",
    ")\n",
    "\n",
    "from steves_utils.ORACLE.utils_v2 import (\n",
    "    ALL_DISTANCES_FEET_NARROWED,\n",
    "    ALL_RUNS,\n",
    "    ALL_SERIAL_NUMBERS,\n",
    ")\n",
    "\n",
    "standalone_parameters = {}\n",
    "standalone_parameters[\"experiment_name\"] = \"STANDALONE PTN\"\n",
    "standalone_parameters[\"lr\"] = 0.001\n",
    "standalone_parameters[\"device\"] = \"cuda\"\n",
    "\n",
    "standalone_parameters[\"seed\"] = 1337\n",
    "standalone_parameters[\"dataset_seed\"] = 1337\n",
    "\n",
    "standalone_parameters[\"n_way\"] = 8\n",
    "standalone_parameters[\"n_shot\"] = 3\n",
    "standalone_parameters[\"n_query\"]  = 2\n",
    "standalone_parameters[\"train_k_factor\"] = 1\n",
    "standalone_parameters[\"val_k_factor\"] = 2\n",
    "standalone_parameters[\"test_k_factor\"] = 2\n",
    "\n",
    "\n",
    "standalone_parameters[\"n_epoch\"] = 50\n",
    "\n",
    "standalone_parameters[\"patience\"] = 10\n",
    "standalone_parameters[\"criteria_for_best\"] = \"source_loss\"\n",
    "\n",
    "standalone_parameters[\"datasets\"] = [\n",
    "    {\n",
    "        \"labels\": ALL_SERIAL_NUMBERS,\n",
    "        \"domains\": ALL_DISTANCES_FEET_NARROWED,\n",
    "        \"num_examples_per_domain_per_label\": 100,\n",
    "        \"pickle_path\": os.path.join(get_datasets_base_path(), \"oracle.Run1_framed_2000Examples_stratified_ds.2022A.pkl\"),\n",
    "        \"source_or_target_dataset\": \"source\",\n",
    "        \"x_transforms\": [\"unit_mag\", \"minus_two\"],\n",
    "        \"episode_transforms\": [],\n",
    "        \"domain_prefix\": \"ORACLE_\"\n",
    "    },\n",
    "    {\n",
    "        \"labels\": ALL_NODES,\n",
    "        \"domains\": ALL_DAYS,\n",
    "        \"num_examples_per_domain_per_label\": 100,\n",
    "        \"pickle_path\": os.path.join(get_datasets_base_path(), \"cores.stratified_ds.2022A.pkl\"),\n",
    "        \"source_or_target_dataset\": \"target\",\n",
    "        \"x_transforms\": [\"unit_power\", \"times_zero\"],\n",
    "        \"episode_transforms\": [],\n",
    "        \"domain_prefix\": \"CORES_\"\n",
    "    }   \n",
    "]\n",
    "\n",
    "standalone_parameters[\"torch_default_dtype\"] = \"torch.float32\" \n",
    "\n",
    "\n",
    "\n",
    "standalone_parameters[\"x_net\"] =     [\n",
    "    {\"class\": \"nnReshape\", \"kargs\": {\"shape\":[-1, 1, 2, 256]}},\n",
    "    {\"class\": \"Conv2d\", \"kargs\": { \"in_channels\":1, \"out_channels\":256, \"kernel_size\":(1,7), \"bias\":False, \"padding\":(0,3), },},\n",
    "    {\"class\": \"ReLU\", \"kargs\": {\"inplace\": True}},\n",
    "    {\"class\": \"BatchNorm2d\", \"kargs\": {\"num_features\":256}},\n",
    "\n",
    "    {\"class\": \"Conv2d\", \"kargs\": { \"in_channels\":256, \"out_channels\":80, \"kernel_size\":(2,7), \"bias\":True, \"padding\":(0,3), },},\n",
    "    {\"class\": \"ReLU\", \"kargs\": {\"inplace\": True}},\n",
    "    {\"class\": \"BatchNorm2d\", \"kargs\": {\"num_features\":80}},\n",
    "    {\"class\": \"Flatten\", \"kargs\": {}},\n",
    "\n",
    "    {\"class\": \"Linear\", \"kargs\": {\"in_features\": 80*256, \"out_features\": 256}}, # 80 units per IQ pair\n",
    "    {\"class\": \"ReLU\", \"kargs\": {\"inplace\": True}},\n",
    "    {\"class\": \"BatchNorm1d\", \"kargs\": {\"num_features\":256}},\n",
    "\n",
    "    {\"class\": \"Linear\", \"kargs\": {\"in_features\": 256, \"out_features\": 256}},\n",
    "]\n",
    "\n",
    "# Parameters relevant to results\n",
    "# These parameters will basically never need to change\n",
    "standalone_parameters[\"NUM_LOGS_PER_EPOCH\"] = 10\n",
    "standalone_parameters[\"BEST_MODEL_PATH\"] = \"./best_model.pth\"\n",
    "\n",
    "\n",
    "\n",
    "\n"
   ]
  },
  {
   "cell_type": "code",
   "execution_count": 4,
   "id": "ac0a0b57",
   "metadata": {
    "execution": {
     "iopub.execute_input": "2022-03-21T17:00:41.399898Z",
     "iopub.status.busy": "2022-03-21T17:00:41.396949Z",
     "iopub.status.idle": "2022-03-21T17:00:41.421529Z",
     "shell.execute_reply": "2022-03-21T17:00:41.420687Z"
    },
    "papermill": {
     "duration": 0.058334,
     "end_time": "2022-03-21T17:00:41.421704",
     "exception": false,
     "start_time": "2022-03-21T17:00:41.363370",
     "status": "completed"
    },
    "tags": [
     "injected-parameters"
    ]
   },
   "outputs": [],
   "source": [
    "# Parameters\n",
    "parameters = {\n",
    "    \"experiment_name\": \"tl_1v2:cores-oracle.run1.framed\",\n",
    "    \"device\": \"cuda\",\n",
    "    \"lr\": 0.0001,\n",
    "    \"n_shot\": 3,\n",
    "    \"n_query\": 2,\n",
    "    \"train_k_factor\": 3,\n",
    "    \"val_k_factor\": 2,\n",
    "    \"test_k_factor\": 2,\n",
    "    \"torch_default_dtype\": \"torch.float32\",\n",
    "    \"n_epoch\": 50,\n",
    "    \"patience\": 3,\n",
    "    \"criteria_for_best\": \"target_accuracy\",\n",
    "    \"x_net\": [\n",
    "        {\"class\": \"nnReshape\", \"kargs\": {\"shape\": [-1, 1, 2, 256]}},\n",
    "        {\n",
    "            \"class\": \"Conv2d\",\n",
    "            \"kargs\": {\n",
    "                \"in_channels\": 1,\n",
    "                \"out_channels\": 256,\n",
    "                \"kernel_size\": [1, 7],\n",
    "                \"bias\": False,\n",
    "                \"padding\": [0, 3],\n",
    "            },\n",
    "        },\n",
    "        {\"class\": \"ReLU\", \"kargs\": {\"inplace\": True}},\n",
    "        {\"class\": \"BatchNorm2d\", \"kargs\": {\"num_features\": 256}},\n",
    "        {\n",
    "            \"class\": \"Conv2d\",\n",
    "            \"kargs\": {\n",
    "                \"in_channels\": 256,\n",
    "                \"out_channels\": 80,\n",
    "                \"kernel_size\": [2, 7],\n",
    "                \"bias\": True,\n",
    "                \"padding\": [0, 3],\n",
    "            },\n",
    "        },\n",
    "        {\"class\": \"ReLU\", \"kargs\": {\"inplace\": True}},\n",
    "        {\"class\": \"BatchNorm2d\", \"kargs\": {\"num_features\": 80}},\n",
    "        {\"class\": \"Flatten\", \"kargs\": {}},\n",
    "        {\"class\": \"Linear\", \"kargs\": {\"in_features\": 20480, \"out_features\": 256}},\n",
    "        {\"class\": \"ReLU\", \"kargs\": {\"inplace\": True}},\n",
    "        {\"class\": \"BatchNorm1d\", \"kargs\": {\"num_features\": 256}},\n",
    "        {\"class\": \"Linear\", \"kargs\": {\"in_features\": 256, \"out_features\": 256}},\n",
    "    ],\n",
    "    \"NUM_LOGS_PER_EPOCH\": 10,\n",
    "    \"BEST_MODEL_PATH\": \"./best_model.pth\",\n",
    "    \"n_way\": 16,\n",
    "    \"datasets\": [\n",
    "        {\n",
    "            \"labels\": [\n",
    "                \"1-10.\",\n",
    "                \"1-11.\",\n",
    "                \"1-15.\",\n",
    "                \"1-16.\",\n",
    "                \"1-17.\",\n",
    "                \"1-18.\",\n",
    "                \"1-19.\",\n",
    "                \"10-4.\",\n",
    "                \"10-7.\",\n",
    "                \"11-1.\",\n",
    "                \"11-14.\",\n",
    "                \"11-17.\",\n",
    "                \"11-20.\",\n",
    "                \"11-7.\",\n",
    "                \"13-20.\",\n",
    "                \"13-8.\",\n",
    "                \"14-10.\",\n",
    "                \"14-11.\",\n",
    "                \"14-14.\",\n",
    "                \"14-7.\",\n",
    "                \"15-1.\",\n",
    "                \"15-20.\",\n",
    "                \"16-1.\",\n",
    "                \"16-16.\",\n",
    "                \"17-10.\",\n",
    "                \"17-11.\",\n",
    "                \"17-2.\",\n",
    "                \"19-1.\",\n",
    "                \"19-16.\",\n",
    "                \"19-19.\",\n",
    "                \"19-20.\",\n",
    "                \"19-3.\",\n",
    "                \"2-10.\",\n",
    "                \"2-11.\",\n",
    "                \"2-17.\",\n",
    "                \"2-18.\",\n",
    "                \"2-20.\",\n",
    "                \"2-3.\",\n",
    "                \"2-4.\",\n",
    "                \"2-5.\",\n",
    "                \"2-6.\",\n",
    "                \"2-7.\",\n",
    "                \"2-8.\",\n",
    "                \"3-13.\",\n",
    "                \"3-18.\",\n",
    "                \"3-3.\",\n",
    "                \"4-1.\",\n",
    "                \"4-10.\",\n",
    "                \"4-11.\",\n",
    "                \"4-19.\",\n",
    "                \"5-5.\",\n",
    "                \"6-15.\",\n",
    "                \"7-10.\",\n",
    "                \"7-14.\",\n",
    "                \"8-18.\",\n",
    "                \"8-20.\",\n",
    "                \"8-3.\",\n",
    "                \"8-8.\",\n",
    "            ],\n",
    "            \"domains\": [1, 2, 3, 4, 5],\n",
    "            \"num_examples_per_domain_per_label\": -1,\n",
    "            \"pickle_path\": \"/root/csc500-main/datasets/cores.stratified_ds.2022A.pkl\",\n",
    "            \"source_or_target_dataset\": \"source\",\n",
    "            \"x_transforms\": [\"unit_power\"],\n",
    "            \"episode_transforms\": [],\n",
    "            \"domain_prefix\": \"CORES_\",\n",
    "        },\n",
    "        {\n",
    "            \"labels\": [\n",
    "                \"3123D52\",\n",
    "                \"3123D65\",\n",
    "                \"3123D79\",\n",
    "                \"3123D80\",\n",
    "                \"3123D54\",\n",
    "                \"3123D70\",\n",
    "                \"3123D7B\",\n",
    "                \"3123D89\",\n",
    "                \"3123D58\",\n",
    "                \"3123D76\",\n",
    "                \"3123D7D\",\n",
    "                \"3123EFE\",\n",
    "                \"3123D64\",\n",
    "                \"3123D78\",\n",
    "                \"3123D7E\",\n",
    "                \"3124E4A\",\n",
    "            ],\n",
    "            \"domains\": [32, 38, 8, 44, 14, 50, 20, 26],\n",
    "            \"num_examples_per_domain_per_label\": 2000,\n",
    "            \"pickle_path\": \"/root/csc500-main/datasets/oracle.Run1_framed_2000Examples_stratified_ds.2022A.pkl\",\n",
    "            \"source_or_target_dataset\": \"target\",\n",
    "            \"x_transforms\": [\"unit_power\"],\n",
    "            \"episode_transforms\": [],\n",
    "            \"domain_prefix\": \"ORACLE.run1_\",\n",
    "        },\n",
    "    ],\n",
    "    \"dataset_seed\": 500,\n",
    "    \"seed\": 500,\n",
    "}\n"
   ]
  },
  {
   "cell_type": "code",
   "execution_count": 5,
   "id": "8fa1cc33",
   "metadata": {
    "execution": {
     "iopub.execute_input": "2022-03-21T17:00:41.476468Z",
     "iopub.status.busy": "2022-03-21T17:00:41.475972Z",
     "iopub.status.idle": "2022-03-21T17:00:41.499522Z",
     "shell.execute_reply": "2022-03-21T17:00:41.498330Z"
    },
    "papermill": {
     "duration": 0.049886,
     "end_time": "2022-03-21T17:00:41.499768",
     "exception": false,
     "start_time": "2022-03-21T17:00:41.449882",
     "status": "completed"
    },
    "tags": []
   },
   "outputs": [],
   "source": [
    "# Set this to True if you want to run this template directly\n",
    "STANDALONE = False\n",
    "if STANDALONE:\n",
    "    print(\"parameters not injected, running with standalone_parameters\")\n",
    "    parameters = standalone_parameters\n",
    "\n",
    "if not 'parameters' in locals() and not 'parameters' in globals():\n",
    "    raise Exception(\"Parameter injection failed\")\n",
    "\n",
    "#Use an easy dict for all the parameters\n",
    "p = EasyDict(parameters)\n",
    "\n",
    "if \"x_shape\" not in p:\n",
    "    p.x_shape = [2,256] # Default to this if we dont supply x_shape\n",
    "\n",
    "\n",
    "supplied_keys = set(p.keys())\n",
    "\n",
    "if  supplied_keys != required_parameters:\n",
    "    print(\"Parameters are incorrect\")\n",
    "    if len(supplied_keys - required_parameters)>0: print(\"Shouldn't have:\", str(supplied_keys - required_parameters))\n",
    "    if len(required_parameters - supplied_keys)>0: print(\"Need to have:\", str(required_parameters - supplied_keys))\n",
    "    raise RuntimeError(\"Parameters are incorrect\")"
   ]
  },
  {
   "cell_type": "code",
   "execution_count": 6,
   "id": "3a028d58",
   "metadata": {
    "execution": {
     "iopub.execute_input": "2022-03-21T17:00:41.549389Z",
     "iopub.status.busy": "2022-03-21T17:00:41.548355Z",
     "iopub.status.idle": "2022-03-21T17:00:41.570732Z",
     "shell.execute_reply": "2022-03-21T17:00:41.569881Z"
    },
    "papermill": {
     "duration": 0.046049,
     "end_time": "2022-03-21T17:00:41.570908",
     "exception": false,
     "start_time": "2022-03-21T17:00:41.524859",
     "status": "completed"
    },
    "tags": []
   },
   "outputs": [],
   "source": [
    "###################################\n",
    "# Set the RNGs and make it all deterministic\n",
    "###################################\n",
    "np.random.seed(p.seed)\n",
    "random.seed(p.seed)\n",
    "torch.manual_seed(p.seed)\n",
    "\n",
    "torch.use_deterministic_algorithms(True) "
   ]
  },
  {
   "cell_type": "code",
   "execution_count": 7,
   "id": "b691acf6",
   "metadata": {
    "execution": {
     "iopub.execute_input": "2022-03-21T17:00:41.623466Z",
     "iopub.status.busy": "2022-03-21T17:00:41.623077Z",
     "iopub.status.idle": "2022-03-21T17:00:41.647918Z",
     "shell.execute_reply": "2022-03-21T17:00:41.647146Z"
    },
    "papermill": {
     "duration": 0.049236,
     "end_time": "2022-03-21T17:00:41.648098",
     "exception": false,
     "start_time": "2022-03-21T17:00:41.598862",
     "status": "completed"
    },
    "tags": []
   },
   "outputs": [],
   "source": [
    "###########################################\n",
    "# The stratified datasets honor this\n",
    "###########################################\n",
    "torch.set_default_dtype(eval(p.torch_default_dtype))"
   ]
  },
  {
   "cell_type": "code",
   "execution_count": 8,
   "id": "b5fba671",
   "metadata": {
    "execution": {
     "iopub.execute_input": "2022-03-21T17:00:41.701158Z",
     "iopub.status.busy": "2022-03-21T17:00:41.700513Z",
     "iopub.status.idle": "2022-03-21T17:00:41.754635Z",
     "shell.execute_reply": "2022-03-21T17:00:41.753829Z"
    },
    "papermill": {
     "duration": 0.077162,
     "end_time": "2022-03-21T17:00:41.754820",
     "exception": false,
     "start_time": "2022-03-21T17:00:41.677658",
     "status": "completed"
    },
    "tags": []
   },
   "outputs": [],
   "source": [
    "###################################\n",
    "# Build the network(s)\n",
    "# Note: It's critical to do this AFTER setting the RNG\n",
    "###################################\n",
    "x_net = build_sequential(p.x_net)"
   ]
  },
  {
   "cell_type": "code",
   "execution_count": 9,
   "id": "5d7e61cc",
   "metadata": {
    "execution": {
     "iopub.execute_input": "2022-03-21T17:00:41.804060Z",
     "iopub.status.busy": "2022-03-21T17:00:41.803688Z",
     "iopub.status.idle": "2022-03-21T17:00:41.830697Z",
     "shell.execute_reply": "2022-03-21T17:00:41.829862Z"
    },
    "papermill": {
     "duration": 0.050384,
     "end_time": "2022-03-21T17:00:41.830873",
     "exception": false,
     "start_time": "2022-03-21T17:00:41.780489",
     "status": "completed"
    },
    "tags": []
   },
   "outputs": [],
   "source": [
    "start_time_secs = time.time()"
   ]
  },
  {
   "cell_type": "code",
   "execution_count": 10,
   "id": "c6b67dfd",
   "metadata": {
    "execution": {
     "iopub.execute_input": "2022-03-21T17:00:41.880474Z",
     "iopub.status.busy": "2022-03-21T17:00:41.880031Z",
     "iopub.status.idle": "2022-03-21T17:00:41.902290Z",
     "shell.execute_reply": "2022-03-21T17:00:41.901467Z"
    },
    "papermill": {
     "duration": 0.046012,
     "end_time": "2022-03-21T17:00:41.902462",
     "exception": false,
     "start_time": "2022-03-21T17:00:41.856450",
     "status": "completed"
    },
    "tags": []
   },
   "outputs": [],
   "source": [
    "p.domains_source = []\n",
    "p.domains_target = []\n",
    "\n",
    "\n",
    "train_original_source = []\n",
    "val_original_source   = []\n",
    "test_original_source  = []\n",
    "\n",
    "train_original_target = []\n",
    "val_original_target   = []\n",
    "test_original_target  = []"
   ]
  },
  {
   "cell_type": "code",
   "execution_count": 11,
   "id": "e3d9c3d3",
   "metadata": {
    "execution": {
     "iopub.execute_input": "2022-03-21T17:00:41.953280Z",
     "iopub.status.busy": "2022-03-21T17:00:41.952724Z",
     "iopub.status.idle": "2022-03-21T17:00:41.975444Z",
     "shell.execute_reply": "2022-03-21T17:00:41.974632Z"
    },
    "papermill": {
     "duration": 0.046115,
     "end_time": "2022-03-21T17:00:41.975654",
     "exception": false,
     "start_time": "2022-03-21T17:00:41.929539",
     "status": "completed"
    },
    "tags": []
   },
   "outputs": [],
   "source": [
    "# global_x_transform_func = lambda x: normalize(x.to(torch.get_default_dtype()), \"unit_power\") # unit_power, unit_mag\n",
    "# global_x_transform_func = lambda x: normalize(x, \"unit_power\") # unit_power, unit_mag"
   ]
  },
  {
   "cell_type": "code",
   "execution_count": 12,
   "id": "acb78fd2",
   "metadata": {
    "execution": {
     "iopub.execute_input": "2022-03-21T17:00:42.030699Z",
     "iopub.status.busy": "2022-03-21T17:00:42.030111Z",
     "iopub.status.idle": "2022-03-21T17:00:42.050550Z",
     "shell.execute_reply": "2022-03-21T17:00:42.049724Z"
    },
    "papermill": {
     "duration": 0.047841,
     "end_time": "2022-03-21T17:00:42.050723",
     "exception": false,
     "start_time": "2022-03-21T17:00:42.002882",
     "status": "completed"
    },
    "tags": []
   },
   "outputs": [],
   "source": [
    "def add_dataset(\n",
    "    labels,\n",
    "    domains,\n",
    "    pickle_path,\n",
    "    x_transforms,\n",
    "    episode_transforms,\n",
    "    domain_prefix,\n",
    "    num_examples_per_domain_per_label,\n",
    "    source_or_target_dataset:str,\n",
    "    iterator_seed=p.seed,\n",
    "    dataset_seed=p.dataset_seed,\n",
    "    n_shot=p.n_shot,\n",
    "    n_way=p.n_way,\n",
    "    n_query=p.n_query,\n",
    "    train_val_test_k_factors=(p.train_k_factor,p.val_k_factor,p.test_k_factor),\n",
    "):\n",
    "   \n",
    "    if x_transforms == []: x_transform = None\n",
    "    else: x_transform = get_chained_transform(x_transforms)\n",
    "    \n",
    "    if episode_transforms == []: episode_transform = None\n",
    "    else: raise Exception(\"episode_transforms not implemented\")\n",
    "    \n",
    "    episode_transform = lambda tup, _prefix=domain_prefix: (_prefix + str(tup[0]), tup[1])\n",
    "\n",
    "\n",
    "    eaf = Episodic_Accessor_Factory(\n",
    "        labels=labels,\n",
    "        domains=domains,\n",
    "        num_examples_per_domain_per_label=num_examples_per_domain_per_label,\n",
    "        iterator_seed=iterator_seed,\n",
    "        dataset_seed=dataset_seed,\n",
    "        n_shot=n_shot,\n",
    "        n_way=n_way,\n",
    "        n_query=n_query,\n",
    "        train_val_test_k_factors=train_val_test_k_factors,\n",
    "        pickle_path=pickle_path,\n",
    "        x_transform_func=x_transform,\n",
    "    )\n",
    "\n",
    "    train, val, test = eaf.get_train(), eaf.get_val(), eaf.get_test()\n",
    "    train = Lazy_Iterable_Wrapper(train, episode_transform)\n",
    "    val = Lazy_Iterable_Wrapper(val, episode_transform)\n",
    "    test = Lazy_Iterable_Wrapper(test, episode_transform)\n",
    "\n",
    "    if source_or_target_dataset==\"source\":\n",
    "        train_original_source.append(train)\n",
    "        val_original_source.append(val)\n",
    "        test_original_source.append(test)\n",
    "\n",
    "        p.domains_source.extend(\n",
    "            [domain_prefix + str(u) for u in domains]\n",
    "        )\n",
    "    elif source_or_target_dataset==\"target\":\n",
    "        train_original_target.append(train)\n",
    "        val_original_target.append(val)\n",
    "        test_original_target.append(test)\n",
    "        p.domains_target.extend(\n",
    "            [domain_prefix + str(u) for u in domains]\n",
    "        )\n",
    "    else:\n",
    "        raise Exception(f\"invalid source_or_target_dataset: {source_or_target_dataset}\")\n",
    "    "
   ]
  },
  {
   "cell_type": "code",
   "execution_count": 13,
   "id": "fe266617",
   "metadata": {
    "execution": {
     "iopub.execute_input": "2022-03-21T17:00:42.100917Z",
     "iopub.status.busy": "2022-03-21T17:00:42.100226Z",
     "iopub.status.idle": "2022-03-21T17:01:25.259907Z",
     "shell.execute_reply": "2022-03-21T17:01:25.259114Z"
    },
    "papermill": {
     "duration": 43.183806,
     "end_time": "2022-03-21T17:01:25.260089",
     "exception": false,
     "start_time": "2022-03-21T17:00:42.076283",
     "status": "completed"
    },
    "tags": []
   },
   "outputs": [],
   "source": [
    "for ds in p.datasets:\n",
    "    add_dataset(**ds)"
   ]
  },
  {
   "cell_type": "code",
   "execution_count": 14,
   "id": "b90d65ac",
   "metadata": {
    "execution": {
     "iopub.execute_input": "2022-03-21T17:01:25.309993Z",
     "iopub.status.busy": "2022-03-21T17:01:25.309211Z",
     "iopub.status.idle": "2022-03-21T17:01:25.336378Z",
     "shell.execute_reply": "2022-03-21T17:01:25.335632Z"
    },
    "papermill": {
     "duration": 0.051105,
     "end_time": "2022-03-21T17:01:25.336564",
     "exception": false,
     "start_time": "2022-03-21T17:01:25.285459",
     "status": "completed"
    },
    "tags": []
   },
   "outputs": [],
   "source": [
    "# from steves_utils.CORES.utils import (\n",
    "#     ALL_NODES,\n",
    "#     ALL_NODES_MINIMUM_1000_EXAMPLES,\n",
    "#     ALL_DAYS\n",
    "# )\n",
    "\n",
    "# add_dataset(\n",
    "#     labels=ALL_NODES,\n",
    "#     domains = ALL_DAYS,\n",
    "#     num_examples_per_domain_per_label=100,\n",
    "#     pickle_path=os.path.join(get_datasets_base_path(), \"cores.stratified_ds.2022A.pkl\"),\n",
    "#     source_or_target_dataset=\"target\",\n",
    "#     x_transform_func=global_x_transform_func,\n",
    "#     domain_modifier=lambda u: f\"cores_{u}\"\n",
    "# )"
   ]
  },
  {
   "cell_type": "code",
   "execution_count": 15,
   "id": "76db484d",
   "metadata": {
    "execution": {
     "iopub.execute_input": "2022-03-21T17:01:25.389609Z",
     "iopub.status.busy": "2022-03-21T17:01:25.389232Z",
     "iopub.status.idle": "2022-03-21T17:01:25.410779Z",
     "shell.execute_reply": "2022-03-21T17:01:25.410015Z"
    },
    "papermill": {
     "duration": 0.045157,
     "end_time": "2022-03-21T17:01:25.410955",
     "exception": false,
     "start_time": "2022-03-21T17:01:25.365798",
     "status": "completed"
    },
    "tags": []
   },
   "outputs": [],
   "source": [
    "# from steves_utils.ORACLE.utils_v2 import (\n",
    "#     ALL_DISTANCES_FEET,\n",
    "#     ALL_RUNS,\n",
    "#     ALL_SERIAL_NUMBERS,\n",
    "# )\n",
    "\n",
    "\n",
    "# add_dataset(\n",
    "#     labels=ALL_SERIAL_NUMBERS,\n",
    "#     domains = list(set(ALL_DISTANCES_FEET) - {2,62}),\n",
    "#     num_examples_per_domain_per_label=100,\n",
    "#     pickle_path=os.path.join(get_datasets_base_path(), \"oracle.Run2_framed_2000Examples_stratified_ds.2022A.pkl\"),\n",
    "#     source_or_target_dataset=\"source\",\n",
    "#     x_transform_func=global_x_transform_func,\n",
    "#     domain_modifier=lambda u: f\"oracle1_{u}\"\n",
    "# )\n"
   ]
  },
  {
   "cell_type": "code",
   "execution_count": 16,
   "id": "97dea9d2",
   "metadata": {
    "execution": {
     "iopub.execute_input": "2022-03-21T17:01:25.463578Z",
     "iopub.status.busy": "2022-03-21T17:01:25.463191Z",
     "iopub.status.idle": "2022-03-21T17:01:25.482624Z",
     "shell.execute_reply": "2022-03-21T17:01:25.481867Z"
    },
    "papermill": {
     "duration": 0.045403,
     "end_time": "2022-03-21T17:01:25.482808",
     "exception": false,
     "start_time": "2022-03-21T17:01:25.437405",
     "status": "completed"
    },
    "tags": []
   },
   "outputs": [],
   "source": [
    "# from steves_utils.ORACLE.utils_v2 import (\n",
    "#     ALL_DISTANCES_FEET,\n",
    "#     ALL_RUNS,\n",
    "#     ALL_SERIAL_NUMBERS,\n",
    "# )\n",
    "\n",
    "\n",
    "# add_dataset(\n",
    "#     labels=ALL_SERIAL_NUMBERS,\n",
    "#     domains = list(set(ALL_DISTANCES_FEET) - {2,62,56}),\n",
    "#     num_examples_per_domain_per_label=100,\n",
    "#     pickle_path=os.path.join(get_datasets_base_path(), \"oracle.Run2_framed_2000Examples_stratified_ds.2022A.pkl\"),\n",
    "#     source_or_target_dataset=\"source\",\n",
    "#     x_transform_func=global_x_transform_func,\n",
    "#     domain_modifier=lambda u: f\"oracle2_{u}\"\n",
    "# )"
   ]
  },
  {
   "cell_type": "code",
   "execution_count": 17,
   "id": "6f289866",
   "metadata": {
    "execution": {
     "iopub.execute_input": "2022-03-21T17:01:25.534108Z",
     "iopub.status.busy": "2022-03-21T17:01:25.532514Z",
     "iopub.status.idle": "2022-03-21T17:01:25.558113Z",
     "shell.execute_reply": "2022-03-21T17:01:25.557378Z"
    },
    "papermill": {
     "duration": 0.049171,
     "end_time": "2022-03-21T17:01:25.558288",
     "exception": false,
     "start_time": "2022-03-21T17:01:25.509117",
     "status": "completed"
    },
    "tags": []
   },
   "outputs": [],
   "source": [
    "# add_dataset(\n",
    "#     labels=list(range(19)),\n",
    "#     domains = [0,1,2],\n",
    "#     num_examples_per_domain_per_label=100,\n",
    "#     pickle_path=os.path.join(get_datasets_base_path(), \"metehan.stratified_ds.2022A.pkl\"),\n",
    "#     source_or_target_dataset=\"target\",\n",
    "#     x_transform_func=global_x_transform_func,\n",
    "#     domain_modifier=lambda u: f\"met_{u}\"\n",
    "# )"
   ]
  },
  {
   "cell_type": "code",
   "execution_count": 18,
   "id": "86a863c3",
   "metadata": {
    "execution": {
     "iopub.execute_input": "2022-03-21T17:01:25.609948Z",
     "iopub.status.busy": "2022-03-21T17:01:25.609160Z",
     "iopub.status.idle": "2022-03-21T17:01:25.630777Z",
     "shell.execute_reply": "2022-03-21T17:01:25.630027Z"
    },
    "papermill": {
     "duration": 0.04599,
     "end_time": "2022-03-21T17:01:25.630958",
     "exception": false,
     "start_time": "2022-03-21T17:01:25.584968",
     "status": "completed"
    },
    "tags": []
   },
   "outputs": [],
   "source": [
    "# # from steves_utils.wisig.utils import (\n",
    "# #     ALL_NODES_MINIMUM_100_EXAMPLES,\n",
    "# #     ALL_NODES_MINIMUM_500_EXAMPLES,\n",
    "# #     ALL_NODES_MINIMUM_1000_EXAMPLES,\n",
    "# #     ALL_DAYS\n",
    "# # )\n",
    "\n",
    "# import steves_utils.wisig.utils as wisig\n",
    "\n",
    "\n",
    "# add_dataset(\n",
    "#     labels=wisig.ALL_NODES_MINIMUM_100_EXAMPLES,\n",
    "#     domains = wisig.ALL_DAYS,\n",
    "#     num_examples_per_domain_per_label=100,\n",
    "#     pickle_path=os.path.join(get_datasets_base_path(), \"wisig.node3-19.stratified_ds.2022A.pkl\"),\n",
    "#     source_or_target_dataset=\"target\",\n",
    "#     x_transform_func=global_x_transform_func,\n",
    "#     domain_modifier=lambda u: f\"wisig_{u}\"\n",
    "# )"
   ]
  },
  {
   "cell_type": "code",
   "execution_count": 19,
   "id": "fd5442bc",
   "metadata": {
    "execution": {
     "iopub.execute_input": "2022-03-21T17:01:25.691763Z",
     "iopub.status.busy": "2022-03-21T17:01:25.691030Z",
     "iopub.status.idle": "2022-03-21T17:01:25.709594Z",
     "shell.execute_reply": "2022-03-21T17:01:25.708868Z"
    },
    "papermill": {
     "duration": 0.049518,
     "end_time": "2022-03-21T17:01:25.709772",
     "exception": false,
     "start_time": "2022-03-21T17:01:25.660254",
     "status": "completed"
    },
    "tags": []
   },
   "outputs": [],
   "source": [
    "###################################\n",
    "# Build the dataset\n",
    "###################################\n",
    "train_original_source = Iterable_Aggregator(train_original_source, p.seed)\n",
    "val_original_source = Iterable_Aggregator(val_original_source, p.seed)\n",
    "test_original_source = Iterable_Aggregator(test_original_source, p.seed)\n",
    "\n",
    "\n",
    "train_original_target = Iterable_Aggregator(train_original_target, p.seed)\n",
    "val_original_target = Iterable_Aggregator(val_original_target, p.seed)\n",
    "test_original_target = Iterable_Aggregator(test_original_target, p.seed)\n",
    "\n",
    "# For CNN We only use X and Y. And we only train on the source.\n",
    "# Properly form the data using a transform lambda and Lazy_Iterable_Wrapper. Finally wrap them in a dataloader\n",
    "\n",
    "transform_lambda = lambda ex: ex[1] # Original is (<domain>, <episode>) so we strip down to episode only\n",
    "\n",
    "train_processed_source = Lazy_Iterable_Wrapper(train_original_source, transform_lambda)\n",
    "val_processed_source   = Lazy_Iterable_Wrapper(val_original_source, transform_lambda)\n",
    "test_processed_source  = Lazy_Iterable_Wrapper(test_original_source, transform_lambda)\n",
    "\n",
    "train_processed_target = Lazy_Iterable_Wrapper(train_original_target, transform_lambda)\n",
    "val_processed_target   = Lazy_Iterable_Wrapper(val_original_target, transform_lambda)\n",
    "test_processed_target  = Lazy_Iterable_Wrapper(test_original_target, transform_lambda)\n",
    "\n",
    "datasets = EasyDict({\n",
    "    \"source\": {\n",
    "        \"original\": {\"train\":train_original_source, \"val\":val_original_source, \"test\":test_original_source},\n",
    "        \"processed\": {\"train\":train_processed_source, \"val\":val_processed_source, \"test\":test_processed_source}\n",
    "    },\n",
    "    \"target\": {\n",
    "        \"original\": {\"train\":train_original_target, \"val\":val_original_target, \"test\":test_original_target},\n",
    "        \"processed\": {\"train\":train_processed_target, \"val\":val_processed_target, \"test\":test_processed_target}\n",
    "    },\n",
    "})"
   ]
  },
  {
   "cell_type": "code",
   "execution_count": 20,
   "id": "5b3c01fc",
   "metadata": {
    "execution": {
     "iopub.execute_input": "2022-03-21T17:01:25.763954Z",
     "iopub.status.busy": "2022-03-21T17:01:25.763552Z",
     "iopub.status.idle": "2022-03-21T17:01:40.821081Z",
     "shell.execute_reply": "2022-03-21T17:01:40.821884Z"
    },
    "papermill": {
     "duration": 15.084701,
     "end_time": "2022-03-21T17:01:40.822121",
     "exception": false,
     "start_time": "2022-03-21T17:01:25.737420",
     "status": "completed"
    },
    "tags": []
   },
   "outputs": [
    {
     "name": "stdout",
     "output_type": "stream",
     "text": [
      "{'CORES_3', 'CORES_2', 'CORES_1', 'CORES_5', 'CORES_4'}\n"
     ]
    },
    {
     "name": "stdout",
     "output_type": "stream",
     "text": [
      "{'ORACLE.run1_26', 'ORACLE.run1_44', 'ORACLE.run1_14', 'ORACLE.run1_32', 'ORACLE.run1_50', 'ORACLE.run1_38', 'ORACLE.run1_20', 'ORACLE.run1_8'}\n"
     ]
    },
    {
     "name": "stdout",
     "output_type": "stream",
     "text": [
      "tensor([[[-0.1799, -0.1625, -0.6718,  ..., -0.2157,  0.2038, -0.0514],\n",
      "         [-0.1055,  0.0330,  0.5177,  ...,  0.4598,  1.1757,  1.3125]],\n",
      "\n",
      "        [[-0.3059, -0.8723, -0.5528,  ..., -1.0998, -1.2731, -0.8704],\n",
      "         [-0.1530, -0.5877, -0.9284,  ...,  0.6428,  0.4386,  0.3437]],\n",
      "\n",
      "        [[-0.1989, -0.1112, -0.3315,  ...,  0.4095,  0.9195,  0.7791],\n",
      "         [-0.0127,  0.2418,  0.9439,  ...,  0.5743,  0.8464,  1.1477]],\n",
      "\n",
      "        ...,\n",
      "\n",
      "        [[-0.1663, -0.7082,  0.8806,  ..., -1.1660, -0.4393,  0.7000],\n",
      "         [ 0.3962, -0.6774, -0.6056,  ...,  0.2032,  0.1314, -0.2751]],\n",
      "\n",
      "        [[-0.4844,  0.1464,  1.0224,  ..., -1.0039, -0.1608,  0.6452],\n",
      "         [-0.0660, -0.9791,  0.5153,  ..., -0.4803, -0.0474,  0.3195]],\n",
      "\n",
      "        [[ 0.0000, -0.0313, -0.0581,  ...,  1.3744,  0.3352, -0.2995],\n",
      "         [-0.0939, -0.0469, -0.1207,  ..., -0.8000, -0.2324,  0.5095]]])\n"
     ]
    }
   ],
   "source": [
    "from steves_utils.transforms import get_average_magnitude, get_average_power\n",
    "\n",
    "print(set([u for u,_ in val_original_source]))\n",
    "print(set([u for u,_ in val_original_target]))\n",
    "\n",
    "s_x, s_y, q_x, q_y, _ = next(iter(train_processed_source))\n",
    "print(s_x)\n",
    "\n",
    "# for ds in [\n",
    "#     train_processed_source,\n",
    "#     val_processed_source,\n",
    "#     test_processed_source,\n",
    "#     train_processed_target,\n",
    "#     val_processed_target,\n",
    "#     test_processed_target\n",
    "# ]:\n",
    "#     for s_x, s_y, q_x, q_y, _ in ds:\n",
    "#         for X in (s_x, q_x):\n",
    "#             for x in X:\n",
    "#                 assert np.isclose(get_average_magnitude(x.numpy()), 1.0)\n",
    "#                 assert np.isclose(get_average_power(x.numpy()), 1.0)\n",
    "                "
   ]
  },
  {
   "cell_type": "code",
   "execution_count": 21,
   "id": "bbdacba1",
   "metadata": {
    "execution": {
     "iopub.execute_input": "2022-03-21T17:01:40.880219Z",
     "iopub.status.busy": "2022-03-21T17:01:40.879828Z",
     "iopub.status.idle": "2022-03-21T17:01:41.056504Z",
     "shell.execute_reply": "2022-03-21T17:01:41.057280Z"
    },
    "papermill": {
     "duration": 0.207618,
     "end_time": "2022-03-21T17:01:41.057562",
     "exception": false,
     "start_time": "2022-03-21T17:01:40.849944",
     "status": "completed"
    },
    "tags": []
   },
   "outputs": [
    {
     "name": "stdout",
     "output_type": "stream",
     "text": [
      "(2, 256)\n"
     ]
    }
   ],
   "source": [
    "###################################\n",
    "# Build the model\n",
    "###################################\n",
    "# easfsl only wants a tuple for the shape\n",
    "model = Steves_Prototypical_Network(x_net, device=p.device, x_shape=tuple(p.x_shape))\n",
    "optimizer = Adam(params=model.parameters(), lr=p.lr)"
   ]
  },
  {
   "cell_type": "code",
   "execution_count": 22,
   "id": "22b39ac5",
   "metadata": {
    "execution": {
     "iopub.execute_input": "2022-03-21T17:01:41.119944Z",
     "iopub.status.busy": "2022-03-21T17:01:41.119275Z",
     "iopub.status.idle": "2022-03-21T17:21:22.509595Z",
     "shell.execute_reply": "2022-03-21T17:21:22.509253Z"
    },
    "papermill": {
     "duration": 1181.423242,
     "end_time": "2022-03-21T17:21:22.509681",
     "exception": false,
     "start_time": "2022-03-21T17:01:41.086439",
     "status": "completed"
    },
    "tags": []
   },
   "outputs": [
    {
     "name": "stdout",
     "output_type": "stream",
     "text": [
      "epoch: 1, [batch: 1 / 6317], examples_per_second: 34.4156, train_label_loss: 2.6334, \n"
     ]
    },
    {
     "name": "stdout",
     "output_type": "stream",
     "text": [
      "epoch: 1, [batch: 632 / 6317], examples_per_second: 2913.3790, train_label_loss: 0.0442, \n"
     ]
    },
    {
     "name": "stdout",
     "output_type": "stream",
     "text": [
      "epoch: 1, [batch: 1264 / 6317], examples_per_second: 2919.6115, train_label_loss: 0.0024, \n"
     ]
    },
    {
     "name": "stdout",
     "output_type": "stream",
     "text": [
      "epoch: 1, [batch: 1895 / 6317], examples_per_second: 2943.8805, train_label_loss: 0.0081, \n"
     ]
    },
    {
     "name": "stdout",
     "output_type": "stream",
     "text": [
      "epoch: 1, [batch: 2527 / 6317], examples_per_second: 2937.2334, train_label_loss: 0.1509, \n"
     ]
    },
    {
     "name": "stdout",
     "output_type": "stream",
     "text": [
      "epoch: 1, [batch: 3159 / 6317], examples_per_second: 2952.4460, train_label_loss: 0.0354, \n"
     ]
    },
    {
     "name": "stdout",
     "output_type": "stream",
     "text": [
      "epoch: 1, [batch: 3790 / 6317], examples_per_second: 2928.0065, train_label_loss: 0.0009, \n"
     ]
    },
    {
     "name": "stdout",
     "output_type": "stream",
     "text": [
      "epoch: 1, [batch: 4422 / 6317], examples_per_second: 3165.4094, train_label_loss: 0.0001, \n"
     ]
    },
    {
     "name": "stdout",
     "output_type": "stream",
     "text": [
      "epoch: 1, [batch: 5053 / 6317], examples_per_second: 2538.7874, train_label_loss: 0.0020, \n"
     ]
    },
    {
     "name": "stdout",
     "output_type": "stream",
     "text": [
      "epoch: 1, [batch: 5685 / 6317], examples_per_second: 2609.2428, train_label_loss: 0.0279, \n"
     ]
    },
    {
     "name": "stdout",
     "output_type": "stream",
     "text": [
      "=============================================================\n",
      "epoch: 1, source_val_acc_label: 0.9991, target_val_acc_label: 0.2884, source_val_label_loss: 0.0040, target_val_label_loss: 2.1301, \n",
      "=============================================================\n"
     ]
    },
    {
     "name": "stdout",
     "output_type": "stream",
     "text": [
      "New best\n"
     ]
    },
    {
     "name": "stdout",
     "output_type": "stream",
     "text": [
      "epoch: 2, [batch: 1 / 6315], examples_per_second: 2.1315, train_label_loss: 0.0000, \n"
     ]
    },
    {
     "name": "stdout",
     "output_type": "stream",
     "text": [
      "epoch: 2, [batch: 632 / 6315], examples_per_second: 2280.0109, train_label_loss: 0.0144, \n"
     ]
    },
    {
     "name": "stdout",
     "output_type": "stream",
     "text": [
      "epoch: 2, [batch: 1263 / 6315], examples_per_second: 2308.3344, train_label_loss: 0.0000, \n"
     ]
    },
    {
     "name": "stdout",
     "output_type": "stream",
     "text": [
      "epoch: 2, [batch: 1895 / 6315], examples_per_second: 2306.2650, train_label_loss: 0.0000, \n"
     ]
    },
    {
     "name": "stdout",
     "output_type": "stream",
     "text": [
      "epoch: 2, [batch: 2526 / 6315], examples_per_second: 2307.2688, train_label_loss: 0.0020, \n"
     ]
    },
    {
     "name": "stdout",
     "output_type": "stream",
     "text": [
      "epoch: 2, [batch: 3158 / 6315], examples_per_second: 2396.9737, train_label_loss: 0.0000, \n"
     ]
    },
    {
     "name": "stdout",
     "output_type": "stream",
     "text": [
      "epoch: 2, [batch: 3789 / 6315], examples_per_second: 2602.4763, train_label_loss: 0.0000, \n"
     ]
    },
    {
     "name": "stdout",
     "output_type": "stream",
     "text": [
      "epoch: 2, [batch: 4420 / 6315], examples_per_second: 2604.8687, train_label_loss: 0.0000, \n"
     ]
    },
    {
     "name": "stdout",
     "output_type": "stream",
     "text": [
      "epoch: 2, [batch: 5052 / 6315], examples_per_second: 2894.4644, train_label_loss: 0.0000, \n"
     ]
    },
    {
     "name": "stdout",
     "output_type": "stream",
     "text": [
      "epoch: 2, [batch: 5683 / 6315], examples_per_second: 2652.2274, train_label_loss: 0.0004, \n"
     ]
    },
    {
     "name": "stdout",
     "output_type": "stream",
     "text": [
      "=============================================================\n",
      "epoch: 2, source_val_acc_label: 0.9989, target_val_acc_label: 0.2220, source_val_label_loss: 0.0074, target_val_label_loss: 2.6203, \n",
      "=============================================================\n"
     ]
    },
    {
     "name": "stdout",
     "output_type": "stream",
     "text": [
      "epoch: 3, [batch: 1 / 6325], examples_per_second: 2.3441, train_label_loss: 0.0000, \n"
     ]
    },
    {
     "name": "stdout",
     "output_type": "stream",
     "text": [
      "epoch: 3, [batch: 633 / 6325], examples_per_second: 2560.2790, train_label_loss: 0.0000, \n"
     ]
    },
    {
     "name": "stdout",
     "output_type": "stream",
     "text": [
      "epoch: 3, [batch: 1265 / 6325], examples_per_second: 2624.8397, train_label_loss: 0.0000, \n"
     ]
    },
    {
     "name": "stdout",
     "output_type": "stream",
     "text": [
      "epoch: 3, [batch: 1898 / 6325], examples_per_second: 2644.0110, train_label_loss: 0.0000, \n"
     ]
    },
    {
     "name": "stdout",
     "output_type": "stream",
     "text": [
      "epoch: 3, [batch: 2530 / 6325], examples_per_second: 2597.6455, train_label_loss: 0.0000, \n"
     ]
    },
    {
     "name": "stdout",
     "output_type": "stream",
     "text": [
      "epoch: 3, [batch: 3163 / 6325], examples_per_second: 2655.2397, train_label_loss: 0.0000, \n"
     ]
    },
    {
     "name": "stdout",
     "output_type": "stream",
     "text": [
      "epoch: 3, [batch: 3795 / 6325], examples_per_second: 2708.7973, train_label_loss: 0.0000, \n"
     ]
    },
    {
     "name": "stdout",
     "output_type": "stream",
     "text": [
      "epoch: 3, [batch: 4427 / 6325], examples_per_second: 3247.2492, train_label_loss: 0.0001, \n"
     ]
    },
    {
     "name": "stdout",
     "output_type": "stream",
     "text": [
      "epoch: 3, [batch: 5060 / 6325], examples_per_second: 3303.1972, train_label_loss: 0.0000, \n"
     ]
    },
    {
     "name": "stdout",
     "output_type": "stream",
     "text": [
      "epoch: 3, [batch: 5692 / 6325], examples_per_second: 2681.8227, train_label_loss: 0.0002, \n"
     ]
    },
    {
     "name": "stdout",
     "output_type": "stream",
     "text": [
      "=============================================================\n",
      "epoch: 3, source_val_acc_label: 0.9983, target_val_acc_label: 0.2631, source_val_label_loss: 0.0124, target_val_label_loss: 2.5865, \n",
      "=============================================================\n"
     ]
    },
    {
     "name": "stdout",
     "output_type": "stream",
     "text": [
      "epoch: 4, [batch: 1 / 6307], examples_per_second: 2.3785, train_label_loss: 0.0000, \n"
     ]
    },
    {
     "name": "stdout",
     "output_type": "stream",
     "text": [
      "epoch: 4, [batch: 631 / 6307], examples_per_second: 2573.5266, train_label_loss: 0.0000, \n"
     ]
    },
    {
     "name": "stdout",
     "output_type": "stream",
     "text": [
      "epoch: 4, [batch: 1262 / 6307], examples_per_second: 2569.7508, train_label_loss: 0.0000, \n"
     ]
    },
    {
     "name": "stdout",
     "output_type": "stream",
     "text": [
      "epoch: 4, [batch: 1892 / 6307], examples_per_second: 2577.8663, train_label_loss: 0.0000, \n"
     ]
    },
    {
     "name": "stdout",
     "output_type": "stream",
     "text": [
      "epoch: 4, [batch: 2523 / 6307], examples_per_second: 2561.3915, train_label_loss: 0.0000, \n"
     ]
    },
    {
     "name": "stdout",
     "output_type": "stream",
     "text": [
      "epoch: 4, [batch: 3154 / 6307], examples_per_second: 2552.3374, train_label_loss: 0.0000, \n"
     ]
    },
    {
     "name": "stdout",
     "output_type": "stream",
     "text": [
      "epoch: 4, [batch: 3784 / 6307], examples_per_second: 2628.7045, train_label_loss: 0.0001, \n"
     ]
    },
    {
     "name": "stdout",
     "output_type": "stream",
     "text": [
      "epoch: 4, [batch: 4415 / 6307], examples_per_second: 2843.9835, train_label_loss: 0.0000, \n"
     ]
    },
    {
     "name": "stdout",
     "output_type": "stream",
     "text": [
      "epoch: 4, [batch: 5045 / 6307], examples_per_second: 2956.0625, train_label_loss: 0.0000, \n"
     ]
    },
    {
     "name": "stdout",
     "output_type": "stream",
     "text": [
      "epoch: 4, [batch: 5676 / 6307], examples_per_second: 3416.4700, train_label_loss: 0.0000, \n"
     ]
    },
    {
     "name": "stdout",
     "output_type": "stream",
     "text": [
      "=============================================================\n",
      "epoch: 4, source_val_acc_label: 0.9994, target_val_acc_label: 0.2666, source_val_label_loss: 0.0063, target_val_label_loss: 2.4755, \n",
      "=============================================================\n"
     ]
    },
    {
     "name": "stdout",
     "output_type": "stream",
     "text": [
      "epoch: 5, [batch: 1 / 6302], examples_per_second: 2.8703, train_label_loss: 0.0000, \n"
     ]
    },
    {
     "name": "stdout",
     "output_type": "stream",
     "text": [
      "epoch: 5, [batch: 631 / 6302], examples_per_second: 2921.2914, train_label_loss: 0.0000, \n"
     ]
    },
    {
     "name": "stdout",
     "output_type": "stream",
     "text": [
      "epoch: 5, [batch: 1261 / 6302], examples_per_second: 2904.6477, train_label_loss: 0.0000, \n"
     ]
    },
    {
     "name": "stdout",
     "output_type": "stream",
     "text": [
      "epoch: 5, [batch: 1891 / 6302], examples_per_second: 2980.2350, train_label_loss: 0.0000, \n"
     ]
    },
    {
     "name": "stdout",
     "output_type": "stream",
     "text": [
      "epoch: 5, [batch: 2521 / 6302], examples_per_second: 2967.8243, train_label_loss: 0.0000, \n"
     ]
    },
    {
     "name": "stdout",
     "output_type": "stream",
     "text": [
      "epoch: 5, [batch: 3151 / 6302], examples_per_second: 2927.2588, train_label_loss: 0.0000, \n"
     ]
    },
    {
     "name": "stdout",
     "output_type": "stream",
     "text": [
      "epoch: 5, [batch: 3781 / 6302], examples_per_second: 2528.4985, train_label_loss: 0.0000, \n"
     ]
    },
    {
     "name": "stdout",
     "output_type": "stream",
     "text": [
      "epoch: 5, [batch: 4411 / 6302], examples_per_second: 2408.5280, train_label_loss: 0.0000, \n"
     ]
    },
    {
     "name": "stdout",
     "output_type": "stream",
     "text": [
      "epoch: 5, [batch: 5041 / 6302], examples_per_second: 2626.6660, train_label_loss: 0.0000, \n"
     ]
    },
    {
     "name": "stdout",
     "output_type": "stream",
     "text": [
      "epoch: 5, [batch: 5671 / 6302], examples_per_second: 2527.7028, train_label_loss: 0.0000, \n"
     ]
    },
    {
     "name": "stdout",
     "output_type": "stream",
     "text": [
      "=============================================================\n",
      "epoch: 5, source_val_acc_label: 0.9991, target_val_acc_label: 0.2702, source_val_label_loss: 0.0068, target_val_label_loss: 2.4918, \n",
      "=============================================================\n"
     ]
    },
    {
     "name": "stdout",
     "output_type": "stream",
     "text": [
      "Patience (3) exhausted\n"
     ]
    }
   ],
   "source": [
    "###################################\n",
    "# train\n",
    "###################################\n",
    "jig = PTN_Train_Eval_Test_Jig(model, p.BEST_MODEL_PATH, p.device)\n",
    "\n",
    "jig.train(\n",
    "    train_iterable=datasets.source.processed.train,\n",
    "    source_val_iterable=datasets.source.processed.val,\n",
    "    target_val_iterable=datasets.target.processed.val,\n",
    "    num_epochs=p.n_epoch,\n",
    "    num_logs_per_epoch=p.NUM_LOGS_PER_EPOCH,\n",
    "    patience=p.patience,\n",
    "    optimizer=optimizer,\n",
    "    criteria_for_best=p.criteria_for_best,\n",
    ")"
   ]
  },
  {
   "cell_type": "code",
   "execution_count": 23,
   "id": "31e8fabf",
   "metadata": {
    "execution": {
     "iopub.execute_input": "2022-03-21T17:21:22.590522Z",
     "iopub.status.busy": "2022-03-21T17:21:22.590158Z",
     "iopub.status.idle": "2022-03-21T17:21:22.622010Z",
     "shell.execute_reply": "2022-03-21T17:21:22.621320Z"
    },
    "papermill": {
     "duration": 0.074324,
     "end_time": "2022-03-21T17:21:22.622161",
     "exception": false,
     "start_time": "2022-03-21T17:21:22.547837",
     "status": "completed"
    },
    "tags": []
   },
   "outputs": [],
   "source": [
    "total_experiment_time_secs = time.time() - start_time_secs"
   ]
  },
  {
   "cell_type": "code",
   "execution_count": 24,
   "id": "87b9595b",
   "metadata": {
    "execution": {
     "iopub.execute_input": "2022-03-21T17:21:22.716139Z",
     "iopub.status.busy": "2022-03-21T17:21:22.715523Z",
     "iopub.status.idle": "2022-03-21T17:25:44.628738Z",
     "shell.execute_reply": "2022-03-21T17:25:44.629403Z"
    },
    "papermill": {
     "duration": 261.962298,
     "end_time": "2022-03-21T17:25:44.629632",
     "exception": false,
     "start_time": "2022-03-21T17:21:22.667334",
     "status": "completed"
    },
    "tags": []
   },
   "outputs": [],
   "source": [
    "###################################\n",
    "# Evaluate the model\n",
    "###################################\n",
    "source_test_label_accuracy, source_test_label_loss = jig.test(datasets.source.processed.test)\n",
    "target_test_label_accuracy, target_test_label_loss = jig.test(datasets.target.processed.test)\n",
    "\n",
    "source_val_label_accuracy, source_val_label_loss = jig.test(datasets.source.processed.val)\n",
    "target_val_label_accuracy, target_val_label_loss = jig.test(datasets.target.processed.val)\n",
    "\n",
    "history = jig.get_history()\n",
    "\n",
    "total_epochs_trained = len(history[\"epoch_indices\"])\n",
    "\n",
    "val_dl = Iterable_Aggregator((datasets.source.original.val,datasets.target.original.val))\n",
    "\n",
    "confusion = ptn_confusion_by_domain_over_dataloader(model, p.device, val_dl)\n",
    "per_domain_accuracy = per_domain_accuracy_from_confusion(confusion)\n",
    "\n",
    "# Add a key to per_domain_accuracy for if it was a source domain\n",
    "for domain, accuracy in per_domain_accuracy.items():\n",
    "    per_domain_accuracy[domain] = {\n",
    "        \"accuracy\": accuracy,\n",
    "        \"source?\": domain in p.domains_source\n",
    "    }\n",
    "\n",
    "# Do an independent accuracy assesment JUST TO BE SURE!\n",
    "# _source_test_label_accuracy = independent_accuracy_assesment(model, datasets.source.processed.test, p.device)\n",
    "# _target_test_label_accuracy = independent_accuracy_assesment(model, datasets.target.processed.test, p.device)\n",
    "# _source_val_label_accuracy = independent_accuracy_assesment(model, datasets.source.processed.val, p.device)\n",
    "# _target_val_label_accuracy = independent_accuracy_assesment(model, datasets.target.processed.val, p.device)\n",
    "\n",
    "# assert(_source_test_label_accuracy == source_test_label_accuracy)\n",
    "# assert(_target_test_label_accuracy == target_test_label_accuracy)\n",
    "# assert(_source_val_label_accuracy == source_val_label_accuracy)\n",
    "# assert(_target_val_label_accuracy == target_val_label_accuracy)\n",
    "\n",
    "experiment = {\n",
    "    \"experiment_name\": p.experiment_name,\n",
    "    \"parameters\": dict(p),\n",
    "    \"results\": {\n",
    "        \"source_test_label_accuracy\": source_test_label_accuracy,\n",
    "        \"source_test_label_loss\": source_test_label_loss,\n",
    "        \"target_test_label_accuracy\": target_test_label_accuracy,\n",
    "        \"target_test_label_loss\": target_test_label_loss,\n",
    "        \"source_val_label_accuracy\": source_val_label_accuracy,\n",
    "        \"source_val_label_loss\": source_val_label_loss,\n",
    "        \"target_val_label_accuracy\": target_val_label_accuracy,\n",
    "        \"target_val_label_loss\": target_val_label_loss,\n",
    "        \"total_epochs_trained\": total_epochs_trained,\n",
    "        \"total_experiment_time_secs\": total_experiment_time_secs,\n",
    "        \"confusion\": confusion,\n",
    "        \"per_domain_accuracy\": per_domain_accuracy,\n",
    "    },\n",
    "    \"history\": history,\n",
    "    \"dataset_metrics\": get_dataset_metrics(datasets, \"ptn\"),\n",
    "}"
   ]
  },
  {
   "cell_type": "code",
   "execution_count": 25,
   "id": "54a21829",
   "metadata": {
    "execution": {
     "iopub.execute_input": "2022-03-21T17:25:44.718880Z",
     "iopub.status.busy": "2022-03-21T17:25:44.718317Z",
     "iopub.status.idle": "2022-03-21T17:25:44.935722Z",
     "shell.execute_reply": "2022-03-21T17:25:44.935163Z"
    },
    "papermill": {
     "duration": 0.26019,
     "end_time": "2022-03-21T17:25:44.935855",
     "exception": false,
     "start_time": "2022-03-21T17:25:44.675665",
     "status": "completed"
    },
    "tags": []
   },
   "outputs": [
    {
     "data": {
      "image/png": "[encoded data removed]",
      "text/plain": [
       "<Figure size 1080x504 with 1 Axes>"
      ]
     },
     "metadata": {
      "needs_background": "light"
     },
     "output_type": "display_data"
    }
   ],
   "source": [
    "ax = get_loss_curve(experiment)\n",
    "plt.show()"
   ]
  },
  {
   "cell_type": "code",
   "execution_count": 26,
   "id": "fd8a0f60",
   "metadata": {
    "execution": {
     "iopub.execute_input": "2022-03-21T17:25:45.018415Z",
     "iopub.status.busy": "2022-03-21T17:25:45.017779Z",
     "iopub.status.idle": "2022-03-21T17:25:45.374824Z",
     "shell.execute_reply": "2022-03-21T17:25:45.375511Z"
    },
    "papermill": {
     "duration": 0.401319,
     "end_time": "2022-03-21T17:25:45.375742",
     "exception": false,
     "start_time": "2022-03-21T17:25:44.974423",
     "status": "completed"
    },
    "tags": []
   },
   "outputs": [
    {
     "data": {
      "text/plain": [
       "<AxesSubplot:title={'center':'Results'}>"
      ]
     },
     "execution_count": 26,
     "metadata": {},
     "output_type": "execute_result"
    },
    {
     "data": {
      "image/png": "[encoded data removed]",
      "text/plain": [
       "<Figure size 1080x504 with 1 Axes>"
      ]
     },
     "metadata": {
      "needs_background": "light"
     },
     "output_type": "display_data"
    }
   ],
   "source": [
    "get_results_table(experiment)"
   ]
  },
  {
   "cell_type": "code",
   "execution_count": 27,
   "id": "cf8dc689",
   "metadata": {
    "execution": {
     "iopub.execute_input": "2022-03-21T17:25:45.470293Z",
     "iopub.status.busy": "2022-03-21T17:25:45.469723Z",
     "iopub.status.idle": "2022-03-21T17:25:45.725857Z",
     "shell.execute_reply": "2022-03-21T17:25:45.726535Z"
    },
    "papermill": {
     "duration": 0.305686,
     "end_time": "2022-03-21T17:25:45.726750",
     "exception": false,
     "start_time": "2022-03-21T17:25:45.421064",
     "status": "completed"
    },
    "tags": []
   },
   "outputs": [
    {
     "data": {
      "text/plain": [
       "<AxesSubplot:title={'center':'Per Domain Validation Accuracy'}, xlabel='domain'>"
      ]
     },
     "execution_count": 27,
     "metadata": {},
     "output_type": "execute_result"
    },
    {
     "data": {
      "image/png": "[encoded data removed]",
      "text/plain": [
       "<Figure size 1080x504 with 1 Axes>"
      ]
     },
     "metadata": {
      "needs_background": "light"
     },
     "output_type": "display_data"
    }
   ],
   "source": [
    "get_domain_accuracies(experiment)"
   ]
  },
  {
   "cell_type": "code",
   "execution_count": 28,
   "id": "a74ae082",
   "metadata": {
    "execution": {
     "iopub.execute_input": "2022-03-21T17:25:45.820128Z",
     "iopub.status.busy": "2022-03-21T17:25:45.819754Z",
     "iopub.status.idle": "2022-03-21T17:25:45.843419Z",
     "shell.execute_reply": "2022-03-21T17:25:45.842711Z"
    },
    "papermill": {
     "duration": 0.069145,
     "end_time": "2022-03-21T17:25:45.843591",
     "exception": false,
     "start_time": "2022-03-21T17:25:45.774446",
     "status": "completed"
    },
    "tags": []
   },
   "outputs": [
    {
     "name": "stdout",
     "output_type": "stream",
     "text": [
      "Source Test Label Accuracy: 0.9989817415730337 Target Test Label Accuracy: 0.28818359375\n",
      "Source Val Label Accuracy: 0.9991428571428571 Target Val Label Accuracy: 0.28837890625\n"
     ]
    }
   ],
   "source": [
    "print(\"Source Test Label Accuracy:\", experiment[\"results\"][\"source_test_label_accuracy\"], \"Target Test Label Accuracy:\", experiment[\"results\"][\"target_test_label_accuracy\"])\n",
    "print(\"Source Val Label Accuracy:\", experiment[\"results\"][\"source_val_label_accuracy\"], \"Target Val Label Accuracy:\", experiment[\"results\"][\"target_val_label_accuracy\"])"
   ]
  },
  {
   "cell_type": "code",
   "execution_count": 29,
   "id": "dacca602",
   "metadata": {
    "execution": {
     "iopub.execute_input": "2022-03-21T17:25:45.937601Z",
     "iopub.status.busy": "2022-03-21T17:25:45.937236Z",
     "iopub.status.idle": "2022-03-21T17:25:45.956905Z",
     "shell.execute_reply": "2022-03-21T17:25:45.957578Z"
    },
    "papermill": {
     "duration": 0.064965,
     "end_time": "2022-03-21T17:25:45.957761",
     "exception": false,
     "start_time": "2022-03-21T17:25:45.892796",
     "status": "completed"
    },
    "tags": [
     "experiment_json"
    ]
   },
   "outputs": [
    {
     "data": {
      "text/plain": [
       "'{\"experiment_name\": \"tl_1v2:cores-oracle.run1.framed\", \"parameters\": {\"experiment_name\": \"tl_1v2:cores-oracle.run1.framed\", \"device\": \"cuda\", \"lr\": 0.0001, \"n_shot\": 3, \"n_query\": 2, \"train_k_factor\": 3, \"val_k_factor\": 2, \"test_k_factor\": 2, \"torch_default_dtype\": \"torch.float32\", \"n_epoch\": 50, \"patience\": 3, \"criteria_for_best\": \"target_accuracy\", \"x_net\": [{\"class\": \"nnReshape\", \"kargs\": {\"shape\": [-1, 1, 2, 256]}}, {\"class\": \"Conv2d\", \"kargs\": {\"in_channels\": 1, \"out_channels\": 256, \"kernel_size\": [1, 7], \"bias\": false, \"padding\": [0, 3]}}, {\"class\": \"ReLU\", \"kargs\": {\"inplace\": true}}, {\"class\": \"BatchNorm2d\", \"kargs\": {\"num_features\": 256}}, {\"class\": \"Conv2d\", \"kargs\": {\"in_channels\": 256, \"out_channels\": 80, \"kernel_size\": [2, 7], \"bias\": true, \"padding\": [0, 3]}}, {\"class\": \"ReLU\", \"kargs\": {\"inplace\": true}}, {\"class\": \"BatchNorm2d\", \"kargs\": {\"num_features\": 80}}, {\"class\": \"Flatten\", \"kargs\": {}}, {\"class\": \"Linear\", \"kargs\": {\"in_features\": 20480, \"out_features\": 256}}, {\"class\": \"ReLU\", \"kargs\": {\"inplace\": true}}, {\"class\": \"BatchNorm1d\", \"kargs\": {\"num_features\": 256}}, {\"class\": \"Linear\", \"kargs\": {\"in_features\": 256, \"out_features\": 256}}], \"NUM_LOGS_PER_EPOCH\": 10, \"BEST_MODEL_PATH\": \"./best_model.pth\", \"n_way\": 16, \"datasets\": [{\"labels\": [\"1-10.\", \"1-11.\", \"1-15.\", \"1-16.\", \"1-17.\", \"1-18.\", \"1-19.\", \"10-4.\", \"10-7.\", \"11-1.\", \"11-14.\", \"11-17.\", \"11-20.\", \"11-7.\", \"13-20.\", \"13-8.\", \"14-10.\", \"14-11.\", \"14-14.\", \"14-7.\", \"15-1.\", \"15-20.\", \"16-1.\", \"16-16.\", \"17-10.\", \"17-11.\", \"17-2.\", \"19-1.\", \"19-16.\", \"19-19.\", \"19-20.\", \"19-3.\", \"2-10.\", \"2-11.\", \"2-17.\", \"2-18.\", \"2-20.\", \"2-3.\", \"2-4.\", \"2-5.\", \"2-6.\", \"2-7.\", \"2-8.\", \"3-13.\", \"3-18.\", \"3-3.\", \"4-1.\", \"4-10.\", \"4-11.\", \"4-19.\", \"5-5.\", \"6-15.\", \"7-10.\", \"7-14.\", \"8-18.\", \"8-20.\", \"8-3.\", \"8-8.\"], \"domains\": [1, 2, 3, 4, 5], \"num_examples_per_domain_per_label\": -1, \"pickle_path\": \"/root/csc500-main/datasets/cores.stratified_ds.2022A.pkl\", \"source_or_target_dataset\": \"source\", \"x_transforms\": [\"unit_power\"], \"episode_transforms\": [], \"domain_prefix\": \"CORES_\"}, {\"labels\": [\"3123D52\", \"3123D65\", \"3123D79\", \"3123D80\", \"3123D54\", \"3123D70\", \"3123D7B\", \"3123D89\", \"3123D58\", \"3123D76\", \"3123D7D\", \"3123EFE\", \"3123D64\", \"3123D78\", \"3123D7E\", \"3124E4A\"], \"domains\": [32, 38, 8, 44, 14, 50, 20, 26], \"num_examples_per_domain_per_label\": 2000, \"pickle_path\": \"/root/csc500-main/datasets/oracle.Run1_framed_2000Examples_stratified_ds.2022A.pkl\", \"source_or_target_dataset\": \"target\", \"x_transforms\": [\"unit_power\"], \"episode_transforms\": [], \"domain_prefix\": \"ORACLE.run1_\"}], \"dataset_seed\": 500, \"seed\": 500, \"x_shape\": [2, 256], \"domains_source\": [\"CORES_1\", \"CORES_2\", \"CORES_3\", \"CORES_4\", \"CORES_5\"], \"domains_target\": [\"ORACLE.run1_32\", \"ORACLE.run1_38\", \"ORACLE.run1_8\", \"ORACLE.run1_44\", \"ORACLE.run1_14\", \"ORACLE.run1_50\", \"ORACLE.run1_20\", \"ORACLE.run1_26\"]}, \"results\": {\"source_test_label_accuracy\": 0.9989817415730337, \"source_test_label_loss\": 0.0048163351602852345, \"target_test_label_accuracy\": 0.28818359375, \"target_test_label_loss\": 2.1359851360321045, \"source_val_label_accuracy\": 0.9991428571428571, \"source_val_label_loss\": 0.003994709346443415, \"target_val_label_accuracy\": 0.28837890625, \"target_val_label_loss\": 2.130101442337036, \"total_epochs_trained\": 5, \"total_experiment_time_secs\": 1240.7913048267365, \"confusion\": {\"CORES_4\": {\"38\": {\"38\": 40}, \"3\": {\"3\": 124}, \"24\": {\"24\": 56}, \"49\": {\"49\": 20}, \"7\": {\"7\": 24}, \"17\": {\"17\": 80}, \"43\": {\"43\": 148}, \"30\": {\"30\": 44}, \"44\": {\"44\": 132}, \"23\": {\"23\": 144}, \"37\": {\"37\": 24}, \"4\": {\"4\": 132}, \"57\": {\"57\": 100}, \"16\": {\"16\": 96}, \"18\": {\"18\": 107, \"3\": 1}, \"20\": {\"20\": 124}, \"45\": {\"45\": 96}, \"15\": {\"15\": 132}, \"52\": {\"52\": 116}, \"19\": {\"19\": 140}, \"54\": {\"54\": 108}, \"56\": {\"56\": 130}, \"40\": {\"40\": 134}, \"28\": {\"28\": 32}, \"2\": {\"2\": 36}, \"9\": {\"9\": 120}, \"0\": {\"0\": 80}, \"36\": {\"36\": 92}, \"55\": {\"55\": 130}, \"35\": {\"35\": 40}, \"39\": {\"39\": 20}, \"31\": {\"31\": 28}, \"14\": {\"14\": 16}, \"12\": {\"12\": 92}, \"6\": {\"6\": 111, \"5\": 1}, \"26\": {\"26\": 24}, \"50\": {\"50\": 132}, \"21\": {\"21\": 121, \"50\": 1}, \"46\": {\"46\": 140}, \"51\": {\"51\": 140}, \"41\": {\"41\": 36}, \"34\": {\"34\": 24}, \"47\": {\"47\": 120}, \"5\": {\"5\": 108}, \"1\": {\"1\": 40}, \"48\": {\"48\": 134}, \"29\": {\"29\": 118}, \"22\": {\"22\": 128}, \"10\": {\"10\": 132}, \"32\": {\"32\": 24}, \"13\": {\"13\": 112}, \"42\": {\"42\": 32}, \"27\": {\"27\": 138}, \"8\": {\"8\": 142}, \"33\": {\"33\": 36}, \"25\": {\"25\": 132}, \"11\": {\"11\": 104}, \"53\": {\"53\": 112}}, \"CORES_2\": {\"32\": {\"32\": 28}, \"17\": {\"17\": 104}, \"38\": {\"38\": 20}, \"2\": {\"2\": 32}, \"43\": {\"43\": 144}, \"56\": {\"56\": 144}, \"37\": {\"37\": 36}, \"49\": {\"49\": 24}, \"0\": {\"0\": 48}, \"29\": {\"29\": 128}, \"35\": {\"35\": 32}, \"18\": {\"18\": 48}, \"25\": {\"25\": 136}, \"23\": {\"23\": 124}, \"15\": {\"15\": 146}, \"21\": {\"21\": 120}, \"51\": {\"51\": 128}, \"20\": {\"20\": 138}, \"7\": {\"7\": 36}, \"50\": {\"50\": 136}, \"31\": {\"31\": 28}, \"30\": {\"30\": 140}, \"19\": {\"19\": 156}, \"9\": {\"9\": 144}, \"52\": {\"52\": 124}, \"45\": {\"45\": 126, \"4\": 2}, \"8\": {\"8\": 154}, \"55\": {\"55\": 160}, \"12\": {\"12\": 92}, \"40\": {\"40\": 140}, \"28\": {\"28\": 28}, \"36\": {\"36\": 116}, \"39\": {\"39\": 28}, \"46\": {\"46\": 122}, \"14\": {\"14\": 24}, \"57\": {\"57\": 142}, \"34\": {\"34\": 28}, \"1\": {\"1\": 112}, \"53\": {\"53\": 136}, \"48\": {\"48\": 130}, \"3\": {\"3\": 92}, \"16\": {\"16\": 152}, \"6\": {\"6\": 123, \"46\": 1}, \"10\": {\"10\": 112}, \"13\": {\"13\": 116}, \"26\": {\"26\": 24}, \"24\": {\"24\": 96}, \"44\": {\"44\": 100}, \"27\": {\"27\": 150}, \"22\": {\"22\": 128}, \"33\": {\"33\": 28}, \"47\": {\"47\": 118}, \"5\": {\"5\": 120}, \"4\": {\"4\": 138}, \"41\": {\"41\": 20}, \"11\": {\"11\": 150}, \"54\": {\"54\": 108}, \"42\": {\"42\": 36}}, \"CORES_3\": {\"5\": {\"5\": 116}, \"32\": {\"32\": 28}, \"33\": {\"33\": 28}, \"49\": {\"49\": 20}, \"39\": {\"39\": 16}, \"11\": {\"11\": 142}, \"8\": {\"8\": 116}, \"26\": {\"26\": 24}, \"51\": {\"51\": 122}, \"4\": {\"4\": 146}, \"52\": {\"52\": 118}, \"47\": {\"47\": 89, \"15\": 2, \"48\": 1}, \"17\": {\"17\": 107, \"56\": 1}, \"53\": {\"53\": 136}, \"2\": {\"2\": 32}, \"12\": {\"12\": 92}, \"37\": {\"37\": 28}, \"9\": {\"9\": 148}, \"13\": {\"13\": 128}, \"54\": {\"54\": 100}, \"31\": {\"31\": 28}, \"34\": {\"34\": 32}, \"24\": {\"24\": 104}, \"7\": {\"7\": 36}, \"50\": {\"50\": 118}, \"46\": {\"46\": 128}, \"44\": {\"44\": 88}, \"40\": {\"40\": 116}, \"21\": {\"21\": 127, \"50\": 1}, \"45\": {\"45\": 60}, \"16\": {\"16\": 126}, \"14\": {\"14\": 40}, \"36\": {\"36\": 100}, \"56\": {\"56\": 114}, \"10\": {\"10\": 64}, \"18\": {\"18\": 84}, \"48\": {\"48\": 116}, \"38\": {\"38\": 28}, \"27\": {\"27\": 130}, \"42\": {\"42\": 28}, \"15\": {\"15\": 133, \"11\": 1}, \"1\": {\"1\": 100}, \"28\": {\"28\": 28}, \"43\": {\"43\": 136}, \"0\": {\"0\": 124}, \"57\": {\"57\": 124}, \"3\": {\"3\": 148}, \"29\": {\"29\": 124}, \"41\": {\"41\": 28}, \"25\": {\"25\": 146}, \"6\": {\"6\": 87, \"11\": 1}, \"35\": {\"35\": 28}, \"20\": {\"20\": 126}, \"23\": {\"23\": 134}, \"22\": {\"22\": 140}, \"19\": {\"19\": 116}, \"55\": {\"55\": 124}, \"30\": {\"30\": 120}}, \"CORES_1\": {\"24\": {\"24\": 108}, \"25\": {\"25\": 140}, \"45\": {\"45\": 144}, \"42\": {\"42\": 40}, \"2\": {\"2\": 36}, \"9\": {\"9\": 150}, \"21\": {\"21\": 124}, \"26\": {\"26\": 24}, \"49\": {\"49\": 32}, \"39\": {\"39\": 28}, \"46\": {\"46\": 136}, \"17\": {\"17\": 64}, \"19\": {\"19\": 156}, \"23\": {\"23\": 132}, \"1\": {\"1\": 100}, \"29\": {\"29\": 140}, \"56\": {\"56\": 150}, \"37\": {\"37\": 32}, \"33\": {\"33\": 32}, \"55\": {\"55\": 142}, \"30\": {\"30\": 120}, \"0\": {\"0\": 152}, \"36\": {\"36\": 64}, \"32\": {\"32\": 32}, \"31\": {\"31\": 28}, \"15\": {\"15\": 138}, \"12\": {\"12\": 116}, \"38\": {\"38\": 24}, \"40\": {\"40\": 146}, \"14\": {\"14\": 24}, \"13\": {\"13\": 150}, \"48\": {\"48\": 148}, \"34\": {\"34\": 24}, \"44\": {\"44\": 130}, \"5\": {\"5\": 152}, \"11\": {\"11\": 140}, \"7\": {\"7\": 28}, \"18\": {\"18\": 72}, \"52\": {\"52\": 132}, \"51\": {\"51\": 142}, \"41\": {\"41\": 24}, \"16\": {\"16\": 140}, \"22\": {\"22\": 134}, \"3\": {\"3\": 140}, \"54\": {\"54\": 104}, \"27\": {\"27\": 144}, \"20\": {\"20\": 140}, \"8\": {\"8\": 138}, \"50\": {\"50\": 144}, \"57\": {\"57\": 140}, \"4\": {\"4\": 132}, \"47\": {\"47\": 146}, \"10\": {\"10\": 95, \"21\": 1}, \"35\": {\"35\": 36}, \"53\": {\"53\": 126}, \"6\": {\"6\": 96}, \"43\": {\"43\": 140}, \"28\": {\"28\": 28}}, \"CORES_5\": {\"35\": {\"35\": 36}, \"57\": {\"57\": 132}, \"20\": {\"20\": 144}, \"12\": {\"12\": 96}, \"32\": {\"32\": 32}, \"25\": {\"25\": 138}, \"44\": {\"44\": 148}, \"31\": {\"31\": 36}, \"11\": {\"11\": 150}, \"47\": {\"47\": 100}, \"23\": {\"23\": 124}, \"43\": {\"43\": 144}, \"37\": {\"37\": 24}, \"5\": {\"5\": 128}, \"45\": {\"45\": 122, \"55\": 1, \"6\": 1}, \"7\": {\"7\": 32}, \"13\": {\"13\": 136}, \"49\": {\"49\": 36}, \"46\": {\"46\": 147, \"14\": 1}, \"16\": {\"16\": 135, \"43\": 1}, \"54\": {\"54\": 112}, \"19\": {\"19\": 152}, \"55\": {\"55\": 150}, \"30\": {\"30\": 128}, \"34\": {\"34\": 36}, \"50\": {\"50\": 132, \"23\": 1, \"25\": 1}, \"3\": {\"3\": 99, \"46\": 1}, \"10\": {\"10\": 68}, \"27\": {\"27\": 142}, \"33\": {\"33\": 32}, \"56\": {\"56\": 142}, \"9\": {\"9\": 150}, \"14\": {\"14\": 41, \"31\": 2, \"46\": 1}, \"4\": {\"4\": 100}, \"42\": {\"42\": 40}, \"24\": {\"24\": 80}, \"39\": {\"39\": 20}, \"52\": {\"52\": 130}, \"2\": {\"2\": 28}, \"28\": {\"28\": 32}, \"53\": {\"53\": 122}, \"17\": {\"17\": 116}, \"29\": {\"29\": 132}, \"38\": {\"38\": 32}, \"15\": {\"15\": 144}, \"26\": {\"26\": 24}, \"21\": {\"21\": 144}, \"41\": {\"41\": 28}, \"48\": {\"48\": 136}, \"22\": {\"22\": 28}, \"8\": {\"8\": 148}, \"18\": {\"18\": 64}, \"0\": {\"0\": 122}, \"1\": {\"1\": 138}, \"40\": {\"40\": 124}, \"6\": {\"6\": 128}, \"51\": {\"51\": 142}, \"36\": {\"36\": 92}}, \"ORACLE.run1_50\": {\"7\": {\"7\": 38, \"10\": 43, \"6\": 24, \"13\": 32, \"5\": 37, \"0\": 14, \"2\": 9, \"3\": 10, \"8\": 19, \"4\": 4, \"1\": 6, \"15\": 3, \"14\": 1}, \"10\": {\"10\": 66, \"8\": 33, \"4\": 3, \"0\": 37, \"7\": 39, \"5\": 12, \"13\": 25, \"6\": 9, \"2\": 10, \"1\": 4, \"3\": 2}, \"0\": {\"7\": 21, \"13\": 15, \"10\": 34, \"2\": 54, \"0\": 49, \"6\": 23, \"4\": 6, \"5\": 19, \"1\": 8, \"8\": 7, \"15\": 3, \"11\": 1}, \"11\": {\"15\": 24, \"11\": 69, \"9\": 44, \"1\": 39, \"4\": 11, \"12\": 20, \"14\": 28, \"6\": 2, \"5\": 1, \"0\": 1, \"2\": 1}, \"2\": {\"2\": 100, \"0\": 58, \"1\": 11, \"15\": 2, \"14\": 17, \"6\": 18, \"5\": 9, \"4\": 6, \"10\": 9, \"12\": 3, \"13\": 3, \"11\": 2, \"8\": 1, \"7\": 1}, \"14\": {\"14\": 81, \"4\": 15, \"15\": 8, \"9\": 24, \"1\": 16, \"11\": 33, \"12\": 46, \"6\": 2, \"2\": 10, \"7\": 1, \"0\": 3, \"5\": 1}, \"9\": {\"11\": 59, \"9\": 95, \"14\": 29, \"12\": 46, \"15\": 6, \"1\": 4, \"5\": 1}, \"13\": {\"7\": 42, \"0\": 32, \"10\": 27, \"13\": 43, \"4\": 14, \"5\": 26, \"2\": 8, \"8\": 3, \"6\": 31, \"15\": 6, \"1\": 5, \"11\": 3}, \"8\": {\"2\": 8, \"7\": 20, \"10\": 39, \"8\": 112, \"6\": 3, \"3\": 39, \"13\": 5, \"0\": 11, \"5\": 3}, \"15\": {\"5\": 26, \"15\": 50, \"6\": 14, \"9\": 7, \"14\": 12, \"11\": 27, \"1\": 39, \"4\": 45, \"13\": 11, \"2\": 2, \"12\": 1, \"7\": 4, \"0\": 1, \"10\": 1}, \"4\": {\"15\": 32, \"2\": 15, \"1\": 35, \"5\": 29, \"11\": 16, \"4\": 44, \"13\": 16, \"0\": 6, \"6\": 18, \"9\": 4, \"7\": 9, \"14\": 13, \"10\": 2, \"12\": 1}, \"5\": {\"6\": 26, \"7\": 27, \"13\": 34, \"4\": 31, \"1\": 16, \"15\": 13, \"5\": 29, \"8\": 7, \"0\": 23, \"10\": 16, \"14\": 1, \"2\": 14, \"3\": 1, \"9\": 2}, \"3\": {\"8\": 67, \"3\": 153, \"7\": 6, \"10\": 9, \"5\": 1, \"13\": 4}, \"1\": {\"4\": 33, \"15\": 42, \"1\": 49, \"5\": 21, \"11\": 15, \"6\": 24, \"14\": 20, \"0\": 5, \"2\": 13, \"9\": 5, \"13\": 8, \"7\": 3, \"10\": 1, \"12\": 1}, \"6\": {\"5\": 33, \"13\": 38, \"6\": 39, \"7\": 25, \"2\": 10, \"0\": 5, \"1\": 26, \"4\": 26, \"15\": 17, \"10\": 14, \"8\": 1, \"9\": 1, \"14\": 2, \"12\": 1, \"11\": 2}, \"12\": {\"14\": 61, \"12\": 79, \"9\": 55, \"11\": 30, \"15\": 1, \"2\": 2, \"1\": 9, \"4\": 2, \"0\": 1}}, \"ORACLE.run1_14\": {\"14\": {\"14\": 73, \"2\": 33, \"10\": 16, \"6\": 30, \"13\": 32, \"5\": 13, \"3\": 22, \"1\": 12, \"0\": 5, \"4\": 4}, \"6\": {\"14\": 45, \"13\": 52, \"2\": 23, \"6\": 64, \"4\": 9, \"3\": 15, \"1\": 10, \"10\": 6, \"5\": 15, \"7\": 1}, \"5\": {\"13\": 27, \"4\": 41, \"5\": 40, \"2\": 30, \"3\": 19, \"1\": 44, \"6\": 11, \"15\": 4, \"7\": 7, \"14\": 6, \"10\": 8, \"8\": 2, \"0\": 1}, \"15\": {\"15\": 117, \"7\": 69, \"13\": 11, \"1\": 17, \"2\": 7, \"5\": 12, \"4\": 4, \"6\": 2, \"3\": 1}, \"11\": {\"10\": 23, \"9\": 48, \"11\": 95, \"12\": 15, \"3\": 6, \"8\": 9, \"0\": 39, \"14\": 4, \"2\": 1}, \"8\": {\"0\": 21, \"8\": 137, \"4\": 12, \"1\": 11, \"10\": 8, \"3\": 10, \"9\": 24, \"11\": 9, \"7\": 3, \"5\": 5}, \"12\": {\"12\": 170, \"9\": 50, \"11\": 19, \"0\": 1}, \"1\": {\"1\": 45, \"7\": 25, \"4\": 30, \"13\": 15, \"10\": 4, \"8\": 11, \"5\": 35, \"6\": 11, \"15\": 14, \"14\": 8, \"2\": 20, \"3\": 20, \"0\": 2}, \"2\": {\"13\": 36, \"6\": 31, \"14\": 38, \"1\": 22, \"2\": 37, \"3\": 22, \"4\": 15, \"5\": 24, \"10\": 10, \"0\": 3, \"15\": 2}, \"13\": {\"14\": 25, \"13\": 50, \"6\": 42, \"10\": 13, \"2\": 31, \"7\": 2, \"4\": 19, \"3\": 25, \"1\": 11, \"0\": 7, \"5\": 10, \"15\": 4, \"8\": 1}, \"3\": {\"0\": 18, \"14\": 22, \"2\": 12, \"3\": 37, \"4\": 26, \"8\": 8, \"10\": 40, \"13\": 20, \"6\": 18, \"1\": 10, \"5\": 26, \"7\": 1, \"11\": 2}, \"0\": {\"0\": 70, \"10\": 54, \"11\": 40, \"8\": 19, \"9\": 3, \"2\": 7, \"13\": 6, \"3\": 16, \"14\": 14, \"5\": 3, \"12\": 2, \"4\": 2, \"1\": 2, \"6\": 2}, \"9\": {\"9\": 113, \"8\": 14, \"11\": 56, \"12\": 48, \"0\": 6, \"10\": 2, \"3\": 1}, \"4\": {\"7\": 13, \"14\": 6, \"8\": 13, \"0\": 7, \"4\": 45, \"2\": 15, \"1\": 29, \"3\": 27, \"10\": 13, \"5\": 39, \"15\": 4, \"6\": 11, \"13\": 18}, \"7\": {\"4\": 18, \"7\": 91, \"15\": 64, \"2\": 2, \"1\": 35, \"5\": 25, \"13\": 3, \"6\": 2}, \"10\": {\"3\": 35, \"0\": 47, \"5\": 7, \"10\": 67, \"14\": 19, \"11\": 14, \"13\": 12, \"6\": 8, \"2\": 13, \"8\": 7, \"1\": 4, \"4\": 6, \"9\": 1}}, \"ORACLE.run1_32\": {\"4\": {\"5\": 27, \"2\": 50, \"7\": 28, \"0\": 30, \"13\": 19, \"4\": 43, \"8\": 19, \"9\": 2, \"14\": 10, \"11\": 6, \"3\": 6}, \"14\": {\"2\": 21, \"7\": 40, \"11\": 55, \"14\": 44, \"3\": 11, \"5\": 15, \"8\": 10, \"13\": 10, \"4\": 9, \"0\": 25}, \"5\": {\"5\": 31, \"13\": 17, \"11\": 15, \"3\": 20, \"4\": 35, \"9\": 1, \"14\": 22, \"0\": 27, \"7\": 30, \"2\": 17, \"8\": 25}, \"10\": {\"6\": 15, \"1\": 42, \"10\": 179, \"12\": 4}, \"13\": {\"2\": 8, \"8\": 41, \"4\": 29, \"13\": 52, \"15\": 9, \"3\": 32, \"7\": 11, \"5\": 28, \"11\": 9, \"0\": 15, \"14\": 6}, \"9\": {\"9\": 172, \"2\": 19, \"12\": 36, \"13\": 2, \"4\": 5, \"8\": 2, \"7\": 1, \"6\": 1, \"0\": 1, \"5\": 1}, \"6\": {\"6\": 201, \"10\": 8, \"12\": 25, \"9\": 5, \"1\": 1}, \"3\": {\"15\": 23, \"11\": 20, \"8\": 29, \"5\": 13, \"3\": 92, \"13\": 39, \"14\": 10, \"4\": 5, \"2\": 2, \"0\": 6, \"7\": 1}, \"15\": {\"15\": 176, \"3\": 33, \"8\": 15, \"13\": 12, \"5\": 2, \"7\": 1, \"0\": 1}, \"7\": {\"7\": 40, \"4\": 22, \"14\": 38, \"5\": 27, \"13\": 12, \"0\": 32, \"2\": 32, \"11\": 19, \"3\": 5, \"8\": 12, \"9\": 1}, \"12\": {\"12\": 180, \"9\": 39, \"10\": 5, \"6\": 16}, \"8\": {\"7\": 9, \"0\": 29, \"14\": 17, \"4\": 19, \"15\": 10, \"13\": 39, \"8\": 52, \"3\": 24, \"2\": 9, \"5\": 21, \"11\": 11}, \"11\": {\"8\": 11, \"7\": 33, \"14\": 52, \"11\": 80, \"5\": 25, \"3\": 14, \"0\": 14, \"2\": 1, \"13\": 8, \"4\": 2}, \"2\": {\"2\": 82, \"7\": 25, \"4\": 43, \"13\": 6, \"0\": 33, \"11\": 4, \"5\": 24, \"9\": 14, \"14\": 6, \"8\": 3}, \"1\": {\"1\": 191, \"6\": 4, \"10\": 45}, \"0\": {\"5\": 27, \"13\": 18, \"14\": 22, \"2\": 28, \"0\": 42, \"11\": 14, \"7\": 30, \"4\": 29, \"8\": 20, \"3\": 9, \"9\": 1}}, \"ORACLE.run1_44\": {\"8\": {\"0\": 80, \"8\": 83, \"15\": 32, \"14\": 6, \"5\": 35, \"4\": 4}, \"11\": {\"11\": 86, \"7\": 18, \"13\": 36, \"6\": 47, \"12\": 2, \"2\": 17, \"9\": 24, \"3\": 1, \"10\": 3, \"4\": 2, \"1\": 1, \"14\": 3}, \"14\": {\"14\": 70, \"0\": 12, \"4\": 69, \"9\": 5, \"5\": 31, \"15\": 39, \"8\": 8, \"13\": 5, \"3\": 1}, \"10\": {\"1\": 32, \"3\": 25, \"2\": 35, \"10\": 74, \"12\": 49, \"7\": 15, \"11\": 3, \"9\": 7}, \"3\": {\"3\": 91, \"9\": 15, \"12\": 38, \"1\": 43, \"10\": 16, \"13\": 4, \"2\": 13, \"7\": 15, \"6\": 2, \"4\": 3}, \"15\": {\"8\": 44, \"15\": 57, \"4\": 19, \"0\": 54, \"14\": 38, \"5\": 27, \"6\": 1}, \"2\": {\"10\": 34, \"12\": 13, \"2\": 57, \"7\": 31, \"9\": 25, \"13\": 7, \"11\": 12, \"1\": 32, \"3\": 17, \"6\": 12}, \"12\": {\"12\": 77, \"1\": 50, \"10\": 53, \"3\": 38, \"2\": 10, \"7\": 8, \"9\": 4}, \"4\": {\"4\": 85, \"14\": 77, \"0\": 7, \"15\": 21, \"6\": 5, \"9\": 5, \"5\": 17, \"13\": 15, \"8\": 5, \"7\": 1, \"2\": 1, \"3\": 1}, \"1\": {\"10\": 45, \"3\": 50, \"1\": 49, \"12\": 48, \"7\": 17, \"2\": 20, \"9\": 8, \"11\": 3}, \"0\": {\"14\": 13, \"15\": 41, \"0\": 76, \"8\": 74, \"5\": 32, \"4\": 4}, \"9\": {\"13\": 39, \"6\": 21, \"11\": 29, \"3\": 18, \"9\": 45, \"2\": 18, \"7\": 43, \"14\": 7, \"12\": 3, \"4\": 9, \"1\": 6, \"10\": 2}, \"5\": {\"14\": 32, \"5\": 81, \"8\": 38, \"0\": 45, \"4\": 20, \"15\": 24}, \"6\": {\"13\": 39, \"6\": 66, \"11\": 49, \"7\": 21, \"2\": 23, \"9\": 33, \"1\": 1, \"4\": 2, \"3\": 2, \"10\": 2, \"12\": 2}, \"7\": {\"7\": 43, \"11\": 22, \"10\": 13, \"9\": 35, \"2\": 42, \"1\": 19, \"13\": 17, \"6\": 25, \"12\": 8, \"3\": 14, \"4\": 1, \"15\": 1}, \"13\": {\"9\": 43, \"11\": 45, \"7\": 20, \"13\": 67, \"6\": 42, \"4\": 10, \"5\": 1, \"14\": 3, \"1\": 2, \"3\": 5, \"2\": 2}}, \"ORACLE.run1_8\": {\"13\": {\"6\": 22, \"2\": 6, \"4\": 31, \"7\": 17, \"11\": 8, \"10\": 33, \"14\": 29, \"13\": 40, \"1\": 8, \"0\": 26, \"5\": 12, \"15\": 1, \"8\": 3, \"12\": 2, \"3\": 2}, \"3\": {\"12\": 39, \"15\": 29, \"3\": 87, \"2\": 57, \"7\": 5, \"6\": 11, \"0\": 2, \"8\": 7, \"1\": 1, \"13\": 2}, \"15\": {\"15\": 63, \"12\": 51, \"8\": 46, \"13\": 7, \"4\": 5, \"2\": 14, \"6\": 11, \"7\": 16, \"3\": 20, \"1\": 2, \"11\": 1, \"14\": 1, \"0\": 1, \"10\": 2}, \"4\": {\"6\": 22, \"10\": 20, \"0\": 17, \"4\": 37, \"5\": 17, \"7\": 21, \"13\": 30, \"14\": 29, \"8\": 12, \"1\": 15, \"11\": 12, \"2\": 3, \"15\": 3, \"12\": 2}, \"7\": {\"4\": 29, \"7\": 31, \"6\": 34, \"13\": 28, \"8\": 13, \"14\": 14, \"2\": 19, \"0\": 32, \"15\": 12, \"12\": 11, \"1\": 3, \"10\": 8, \"5\": 1, \"3\": 4, \"11\": 1}, \"2\": {\"3\": 56, \"7\": 24, \"2\": 66, \"0\": 19, \"15\": 17, \"12\": 20, \"13\": 7, \"6\": 17, \"14\": 3, \"4\": 4, \"10\": 1, \"8\": 6}, \"1\": {\"1\": 49, \"8\": 16, \"10\": 14, \"5\": 22, \"14\": 28, \"11\": 58, \"13\": 20, \"15\": 3, \"6\": 6, \"4\": 17, \"7\": 5, \"0\": 2}, \"0\": {\"10\": 26, \"15\": 2, \"13\": 26, \"6\": 15, \"4\": 23, \"0\": 62, \"7\": 35, \"14\": 28, \"5\": 7, \"2\": 7, \"8\": 3, \"3\": 3, \"12\": 2, \"9\": 1}, \"12\": {\"15\": 52, \"3\": 32, \"2\": 15, \"8\": 32, \"12\": 65, \"13\": 4, \"7\": 19, \"4\": 3, \"6\": 14, \"10\": 1, \"0\": 2, \"14\": 1}, \"6\": {\"0\": 23, \"8\": 15, \"13\": 35, \"10\": 16, \"7\": 27, \"1\": 3, \"6\": 36, \"15\": 13, \"4\": 32, \"5\": 4, \"12\": 10, \"2\": 4, \"14\": 20, \"11\": 1, \"3\": 1}, \"11\": {\"8\": 13, \"4\": 13, \"11\": 67, \"1\": 59, \"5\": 41, \"10\": 18, \"14\": 13, \"13\": 10, \"0\": 2, \"7\": 1, \"15\": 2, \"9\": 1}, \"9\": {\"9\": 217, \"10\": 10, \"13\": 2, \"5\": 6, \"0\": 2, \"14\": 2, \"4\": 1}, \"5\": {\"0\": 4, \"1\": 31, \"10\": 24, \"5\": 72, \"11\": 41, \"14\": 23, \"13\": 15, \"4\": 17, \"6\": 4, \"9\": 2, \"8\": 3, \"7\": 3, \"12\": 1}, \"10\": {\"0\": 13, \"14\": 26, \"4\": 24, \"13\": 36, \"10\": 48, \"6\": 21, \"5\": 27, \"11\": 10, \"8\": 3, \"1\": 15, \"7\": 14, \"3\": 1, \"2\": 1, \"12\": 1}, \"14\": {\"4\": 27, \"1\": 24, \"14\": 31, \"8\": 12, \"0\": 13, \"10\": 39, \"13\": 26, \"11\": 23, \"6\": 14, \"7\": 8, \"5\": 19, \"15\": 2, \"2\": 2}, \"8\": {\"7\": 11, \"12\": 26, \"0\": 1, \"8\": 67, \"6\": 21, \"3\": 7, \"15\": 41, \"14\": 11, \"1\": 15, \"4\": 15, \"11\": 12, \"2\": 4, \"10\": 3, \"13\": 6}}, \"ORACLE.run1_20\": {\"6\": {\"12\": 3, \"6\": 48, \"14\": 54, \"10\": 35, \"2\": 10, \"3\": 12, \"8\": 15, \"9\": 11, \"13\": 3, \"7\": 15, \"4\": 20, \"0\": 1, \"15\": 2, \"11\": 8, \"5\": 2, \"1\": 1}, \"11\": {\"1\": 12, \"9\": 36, \"2\": 25, \"11\": 89, \"13\": 17, \"10\": 2, \"7\": 20, \"5\": 4, \"3\": 7, \"12\": 7, \"15\": 3, \"0\": 3, \"6\": 9, \"8\": 1, \"14\": 4, \"4\": 1}, \"5\": {\"0\": 37, \"4\": 19, \"1\": 23, \"9\": 12, \"6\": 3, \"15\": 26, \"13\": 18, \"8\": 10, \"12\": 22, \"5\": 28, \"2\": 9, \"7\": 12, \"14\": 4, \"10\": 6, \"3\": 11}, \"14\": {\"14\": 63, \"10\": 48, \"4\": 29, \"8\": 21, \"6\": 38, \"2\": 5, \"3\": 13, \"7\": 10, \"9\": 5, \"15\": 1, \"1\": 1, \"5\": 4, \"13\": 1, \"12\": 1}, \"2\": {\"11\": 13, \"1\": 21, \"9\": 25, \"6\": 12, \"13\": 22, \"12\": 25, \"8\": 11, \"10\": 6, \"3\": 15, \"2\": 20, \"14\": 6, \"0\": 7, \"15\": 14, \"7\": 27, \"5\": 11, \"4\": 5}, \"7\": {\"3\": 23, \"1\": 17, \"9\": 16, \"10\": 9, \"12\": 20, \"4\": 18, \"7\": 23, \"6\": 18, \"8\": 11, \"2\": 27, \"15\": 11, \"13\": 17, \"5\": 11, \"0\": 6, \"14\": 9, \"11\": 4}, \"3\": {\"12\": 28, \"3\": 17, \"13\": 10, \"6\": 11, \"9\": 12, \"5\": 17, \"15\": 15, \"7\": 22, \"1\": 25, \"14\": 11, \"4\": 18, \"8\": 18, \"0\": 7, \"11\": 2, \"2\": 16, \"10\": 11}, \"4\": {\"1\": 12, \"6\": 26, \"7\": 16, \"2\": 13, \"8\": 26, \"14\": 19, \"0\": 8, \"10\": 20, \"13\": 11, \"4\": 29, \"5\": 14, \"9\": 4, \"3\": 20, \"15\": 9, \"12\": 12, \"11\": 1}, \"9\": {\"13\": 25, \"12\": 20, \"7\": 25, \"9\": 29, \"1\": 19, \"2\": 23, \"8\": 7, \"15\": 17, \"14\": 3, \"0\": 9, \"4\": 9, \"5\": 10, \"6\": 8, \"3\": 23, \"11\": 9, \"10\": 4}, \"12\": {\"7\": 17, \"1\": 27, \"0\": 10, \"4\": 17, \"3\": 23, \"13\": 23, \"15\": 28, \"11\": 2, \"9\": 12, \"14\": 6, \"12\": 26, \"6\": 8, \"10\": 1, \"8\": 8, \"2\": 17, \"5\": 15}, \"0\": {\"15\": 43, \"12\": 19, \"5\": 34, \"4\": 9, \"0\": 44, \"8\": 5, \"1\": 29, \"3\": 21, \"13\": 15, \"14\": 2, \"7\": 6, \"9\": 7, \"2\": 6}, \"10\": {\"8\": 25, \"10\": 50, \"6\": 42, \"4\": 30, \"2\": 5, \"14\": 48, \"1\": 2, \"5\": 5, \"9\": 6, \"7\": 16, \"13\": 3, \"12\": 2, \"3\": 6}, \"8\": {\"8\": 37, \"12\": 16, \"13\": 15, \"5\": 19, \"14\": 18, \"7\": 17, \"4\": 24, \"2\": 9, \"3\": 24, \"6\": 19, \"1\": 9, \"0\": 5, \"15\": 8, \"10\": 14, \"11\": 2, \"9\": 4}, \"13\": {\"13\": 29, \"0\": 18, \"8\": 9, \"15\": 27, \"6\": 6, \"2\": 23, \"9\": 15, \"5\": 12, \"12\": 32, \"7\": 12, \"1\": 28, \"3\": 19, \"10\": 1, \"14\": 4, \"4\": 2, \"11\": 3}, \"1\": {\"1\": 33, \"15\": 27, \"0\": 18, \"6\": 4, \"13\": 25, \"5\": 14, \"2\": 22, \"7\": 17, \"3\": 13, \"9\": 15, \"12\": 22, \"14\": 4, \"4\": 17, \"8\": 6, \"11\": 3}, \"15\": {\"15\": 24, \"3\": 17, \"9\": 16, \"8\": 7, \"0\": 32, \"5\": 26, \"1\": 30, \"13\": 30, \"12\": 20, \"2\": 19, \"4\": 4, \"7\": 11, \"11\": 2, \"6\": 2}}, \"ORACLE.run1_38\": {\"3\": {\"6\": 45, \"1\": 4, \"3\": 81, \"8\": 7, \"7\": 11, \"9\": 61, \"0\": 15, \"5\": 12, \"15\": 3, \"13\": 1}, \"8\": {\"5\": 39, \"15\": 26, \"7\": 25, \"10\": 18, \"8\": 42, \"0\": 30, \"1\": 21, \"6\": 11, \"13\": 16, \"14\": 2, \"9\": 1, \"12\": 3, \"4\": 1, \"2\": 1, \"3\": 4}, \"0\": {\"7\": 40, \"3\": 9, \"10\": 23, \"15\": 20, \"4\": 4, \"13\": 12, \"0\": 36, \"8\": 27, \"5\": 35, \"1\": 13, \"6\": 12, \"9\": 5, \"2\": 2, \"12\": 2}, \"2\": {\"2\": 115, \"14\": 44, \"13\": 28, \"5\": 4, \"10\": 10, \"1\": 13, \"15\": 17, \"0\": 1, \"11\": 5, \"7\": 1, \"8\": 2}, \"4\": {\"12\": 49, \"4\": 171, \"0\": 2, \"10\": 5, \"14\": 1, \"7\": 8, \"8\": 2, \"11\": 2}, \"7\": {\"7\": 110, \"8\": 18, \"5\": 16, \"10\": 18, \"3\": 3, \"4\": 10, \"0\": 29, \"1\": 3, \"6\": 20, \"9\": 4, \"12\": 3, \"15\": 5, \"13\": 1}, \"12\": {\"12\": 139, \"11\": 21, \"4\": 43, \"14\": 24, \"10\": 12, \"2\": 1}, \"6\": {\"7\": 6, \"6\": 76, \"3\": 30, \"9\": 48, \"1\": 9, \"15\": 10, \"13\": 7, \"5\": 24, \"8\": 11, \"0\": 16, \"10\": 3}, \"15\": {\"2\": 18, \"8\": 34, \"1\": 45, \"15\": 37, \"13\": 35, \"10\": 17, \"5\": 22, \"6\": 6, \"0\": 19, \"7\": 1, \"14\": 6}, \"11\": {\"14\": 66, \"11\": 90, \"2\": 14, \"10\": 17, \"12\": 38, \"4\": 7, \"15\": 4, \"13\": 3, \"8\": 1}, \"9\": {\"9\": 80, \"6\": 58, \"3\": 56, \"0\": 12, \"15\": 3, \"5\": 9, \"13\": 2, \"7\": 11, \"1\": 5, \"8\": 4}, \"14\": {\"11\": 51, \"14\": 85, \"2\": 39, \"10\": 17, \"13\": 8, \"12\": 26, \"15\": 6, \"5\": 2, \"0\": 1, \"4\": 1, \"1\": 3, \"8\": 1}, \"10\": {\"10\": 45, \"5\": 16, \"0\": 30, \"8\": 23, \"1\": 12, \"15\": 27, \"13\": 12, \"7\": 18, \"4\": 13, \"2\": 8, \"12\": 10, \"14\": 12, \"3\": 1, \"11\": 9, \"9\": 2, \"6\": 2}, \"5\": {\"0\": 31, \"15\": 21, \"7\": 23, \"10\": 9, \"6\": 25, \"9\": 8, \"1\": 24, \"5\": 40, \"8\": 35, \"2\": 3, \"13\": 14, \"12\": 1, \"3\": 6}, \"1\": {\"15\": 42, \"2\": 10, \"1\": 81, \"6\": 11, \"13\": 52, \"8\": 13, \"9\": 6, \"10\": 4, \"0\": 7, \"5\": 10, \"7\": 1, \"3\": 3}, \"13\": {\"10\": 13, \"15\": 41, \"5\": 14, \"1\": 43, \"0\": 10, \"13\": 59, \"6\": 8, \"9\": 6, \"7\": 4, \"11\": 2, \"2\": 26, \"8\": 12, \"14\": 2}}, \"ORACLE.run1_26\": {\"5\": {\"13\": 50, \"5\": 47, \"9\": 34, \"7\": 10, \"2\": 22, \"15\": 25, \"3\": 11, \"14\": 2, \"6\": 10, \"4\": 5, \"11\": 4, \"0\": 4, \"10\": 8, \"1\": 6, \"8\": 2}, \"8\": {\"8\": 31, \"14\": 22, \"12\": 2, \"0\": 26, \"4\": 20, \"15\": 15, \"6\": 16, \"10\": 34, \"7\": 18, \"13\": 4, \"1\": 25, \"3\": 9, \"2\": 4, \"5\": 7, \"9\": 7}, \"4\": {\"1\": 39, \"10\": 27, \"0\": 22, \"6\": 11, \"3\": 13, \"4\": 24, \"2\": 14, \"14\": 26, \"5\": 6, \"7\": 18, \"8\": 25, \"15\": 12, \"9\": 2, \"13\": 1}, \"12\": {\"12\": 153, \"11\": 65, \"6\": 11, \"10\": 2, \"9\": 3, \"15\": 3, \"13\": 2, \"8\": 1}, \"6\": {\"14\": 12, \"8\": 20, \"10\": 21, \"2\": 9, \"7\": 8, \"0\": 12, \"6\": 47, \"13\": 17, \"9\": 32, \"1\": 7, \"4\": 9, \"15\": 20, \"3\": 6, \"11\": 8, \"5\": 11, \"12\": 1}, \"7\": {\"2\": 29, \"7\": 33, \"15\": 20, \"8\": 17, \"3\": 24, \"1\": 16, \"10\": 16, \"6\": 5, \"4\": 26, \"0\": 20, \"5\": 11, \"14\": 13, \"9\": 5, \"13\": 5}, \"10\": {\"0\": 28, \"6\": 28, \"7\": 12, \"9\": 10, \"1\": 23, \"14\": 22, \"5\": 10, \"13\": 6, \"4\": 28, \"3\": 6, \"8\": 21, \"10\": 22, \"2\": 6, \"15\": 18}, \"0\": {\"0\": 32, \"14\": 23, \"7\": 16, \"15\": 12, \"8\": 22, \"10\": 35, \"6\": 22, \"1\": 28, \"4\": 21, \"2\": 13, \"9\": 5, \"5\": 6, \"13\": 2, \"3\": 3}, \"15\": {\"14\": 10, \"13\": 21, \"2\": 19, \"9\": 29, \"1\": 7, \"6\": 18, \"3\": 16, \"7\": 13, \"10\": 15, \"15\": 32, \"0\": 12, \"8\": 15, \"5\": 16, \"12\": 2, \"4\": 15}, \"9\": {\"13\": 31, \"6\": 37, \"8\": 13, \"2\": 12, \"3\": 10, \"11\": 5, \"15\": 30, \"0\": 9, \"5\": 25, \"7\": 9, \"9\": 37, \"12\": 4, \"10\": 10, \"1\": 5, \"4\": 3}, \"11\": {\"11\": 142, \"12\": 65, \"13\": 12, \"6\": 6, \"5\": 4, \"9\": 7, \"15\": 3, \"10\": 1}, \"14\": {\"14\": 41, \"8\": 24, \"10\": 31, \"7\": 21, \"4\": 38, \"0\": 30, \"9\": 4, \"1\": 19, \"2\": 8, \"6\": 10, \"15\": 8, \"3\": 4, \"5\": 1, \"13\": 1}, \"2\": {\"4\": 12, \"7\": 26, \"2\": 45, \"3\": 32, \"5\": 17, \"13\": 17, \"8\": 10, \"0\": 10, \"9\": 9, \"15\": 23, \"14\": 5, \"1\": 14, \"6\": 8, \"10\": 12}, \"13\": {\"2\": 11, \"12\": 1, \"13\": 52, \"5\": 43, \"9\": 52, \"6\": 13, \"7\": 8, \"3\": 5, \"15\": 28, \"11\": 11, \"0\": 4, \"4\": 6, \"10\": 3, \"8\": 2, \"14\": 1}, \"3\": {\"3\": 57, \"13\": 10, \"2\": 30, \"15\": 19, \"10\": 6, \"7\": 22, \"14\": 12, \"4\": 7, \"8\": 12, \"0\": 9, \"1\": 16, \"5\": 20, \"9\": 16, \"6\": 4}, \"1\": {\"14\": 21, \"6\": 14, \"2\": 15, \"10\": 21, \"4\": 39, \"0\": 16, \"7\": 27, \"3\": 6, \"1\": 39, \"8\": 24, \"15\": 7, \"9\": 7, \"13\": 3, \"5\": 1}}}, \"per_domain_accuracy\": {\"CORES_4\": {\"accuracy\": 0.9994318181818181, \"source?\": true}, \"CORES_2\": {\"accuracy\": 0.9994733146067416, \"source?\": true}, \"CORES_3\": {\"accuracy\": 0.9986979166666666, \"source?\": true}, \"CORES_1\": {\"accuracy\": 0.9998310810810811, \"source?\": true}, \"CORES_5\": {\"accuracy\": 0.9982541899441341, \"source?\": true}, \"ORACLE.run1_50\": {\"accuracy\": 0.28541666666666665, \"source?\": false}, \"ORACLE.run1_14\": {\"accuracy\": 0.32578125, \"source?\": false}, \"ORACLE.run1_32\": {\"accuracy\": 0.4315104166666667, \"source?\": false}, \"ORACLE.run1_44\": {\"accuracy\": 0.28828125, \"source?\": false}, \"ORACLE.run1_8\": {\"accuracy\": 0.2703125, \"source?\": false}, \"ORACLE.run1_20\": {\"accuracy\": 0.15338541666666666, \"source?\": false}, \"ORACLE.run1_38\": {\"accuracy\": 0.33515625, \"source?\": false}, \"ORACLE.run1_26\": {\"accuracy\": 0.2171875, \"source?\": false}}}, \"history\": {\"epoch_indices\": [1, 2, 3, 4, 5], \"train_label_loss\": [0.02692659643517275, 0.006901793920700413, 0.004304522515655512, 0.004101933515270678, 0.0036860918355155915], \"source_val_label_loss\": [0.003994709346443415, 0.007409099489450455, 0.012356100603938103, 0.00633486220613122, 0.006810539867728949], \"target_val_label_loss\": [2.130101442337036, 2.620281934738159, 2.5864953994750977, 2.4754579067230225, 2.4917995929718018], \"source_val_acc_label\": [0.9991428571428571, 0.9988928571428571, 0.9982857142857143, 0.9994285714285714, 0.9991071428571429], \"target_val_acc_label\": [0.28837890625, 0.22197265625, 0.2630533854166667, 0.2666015625, 0.27024739583333335]}, \"dataset_metrics\": {\"source\": {\"train\": {\"n_unique_x\": 175169, \"n_unique_y\": 58, \"n_batch/episode\": 6311}, \"val\": {\"n_unique_x\": 37166, \"n_unique_y\": 58, \"n_batch/episode\": 875}, \"test\": {\"n_unique_x\": 37642, \"n_unique_y\": 58, \"n_batch/episode\": 890}}, \"target\": {\"train\": {\"n_unique_x\": 179200, \"n_unique_y\": 16, \"n_batch/episode\": 6720}, \"val\": {\"n_unique_x\": 38400, \"n_unique_y\": 16, \"n_batch/episode\": 960}, \"test\": {\"n_unique_x\": 38400, \"n_unique_y\": 16, \"n_batch/episode\": 960}}}}'"
      ]
     },
     "execution_count": 29,
     "metadata": {},
     "output_type": "execute_result"
    }
   ],
   "source": [
    "json.dumps(experiment)"
   ]
  }
 ],
 "metadata": {
  "celltoolbar": "Tags",
  "kernelspec": {
   "display_name": "Python 3 (ipykernel)",
   "language": "python",
   "name": "python3"
  },
  "language_info": {
   "codemirror_mode": {
    "name": "ipython",
    "version": 3
   },
   "file_extension": ".py",
   "mimetype": "text/x-python",
   "name": "python",
   "nbconvert_exporter": "python",
   "pygments_lexer": "ipython3",
   "version": "3.8.12"
  },
  "papermill": {
   "default_parameters": {},
   "duration": 1510.369732,
   "end_time": "2022-03-21T17:25:48.620293",
   "environment_variables": {},
   "exception": null,
   "input_path": "/root/csc500-main/csc500-notebooks/templates/tl_ptn_template.ipynb",
   "output_path": "trial.ipynb",
   "parameters": {
    "parameters": {
     "BEST_MODEL_PATH": "./best_model.pth",
     "NUM_LOGS_PER_EPOCH": 10,
     "criteria_for_best": "target_accuracy",
     "dataset_seed": 500,
     "datasets": [
      {
       "domain_prefix": "CORES_",
       "domains": [
        1,
        2,
        3,
        4,
        5
       ],
       "episode_transforms": [],
       "labels": [
        "1-10.",
        "1-11.",
        "1-15.",
        "1-16.",
        "1-17.",
        "1-18.",
        "1-19.",
        "10-4.",
        "10-7.",
        "11-1.",
        "11-14.",
        "11-17.",
        "11-20.",
        "11-7.",
        "13-20.",
        "13-8.",
        "14-10.",
        "14-11.",
        "14-14.",
        "14-7.",
        "15-1.",
        "15-20.",
        "16-1.",
        "16-16.",
        "17-10.",
        "17-11.",
        "17-2.",
        "19-1.",
        "19-16.",
        "19-19.",
        "19-20.",
        "19-3.",
        "2-10.",
        "2-11.",
        "2-17.",
        "2-18.",
        "2-20.",
        "2-3.",
        "2-4.",
        "2-5.",
        "2-6.",
        "2-7.",
        "2-8.",
        "3-13.",
        "3-18.",
        "3-3.",
        "4-1.",
        "4-10.",
        "4-11.",
        "4-19.",
        "5-5.",
        "6-15.",
        "7-10.",
        "7-14.",
        "8-18.",
        "8-20.",
        "8-3.",
        "8-8."
       ],
       "num_examples_per_domain_per_label": -1,
       "pickle_path": "/root/csc500-main/datasets/cores.stratified_ds.2022A.pkl",
       "source_or_target_dataset": "source",
       "x_transforms": [
        "unit_power"
       ]
      },
      {
       "domain_prefix": "ORACLE.run1_",
       "domains": [
        32,
        38,
        8,
        44,
        14,
        50,
        20,
        26
       ],
       "episode_transforms": [],
       "labels": [
        "3123D52",
        "3123D65",
        "3123D79",
        "3123D80",
        "3123D54",
        "3123D70",
        "3123D7B",
        "3123D89",
        "3123D58",
        "3123D76",
        "3123D7D",
        "3123EFE",
        "3123D64",
        "3123D78",
        "3123D7E",
        "3124E4A"
       ],
       "num_examples_per_domain_per_label": 2000,
       "pickle_path": "/root/csc500-main/datasets/oracle.Run1_framed_2000Examples_stratified_ds.2022A.pkl",
       "source_or_target_dataset": "target",
       "x_transforms": [
        "unit_power"
       ]
      }
     ],
     "device": "cuda",
     "experiment_name": "tl_1v2:cores-oracle.run1.framed",
     "lr": 0.0001,
     "n_epoch": 50,
     "n_query": 2,
     "n_shot": 3,
     "n_way": 16,
     "patience": 3,
     "seed": 500,
     "test_k_factor": 2,
     "torch_default_dtype": "torch.float32",
     "train_k_factor": 3,
     "val_k_factor": 2,
     "x_net": [
      {
       "class": "nnReshape",
       "kargs": {
        "shape": [
         -1,
         1,
         2,
         256
        ]
       }
      },
      {
       "class": "Conv2d",
       "kargs": {
        "bias": false,
        "in_channels": 1,
        "kernel_size": [
         1,
         7
        ],
        "out_channels": 256,
        "padding": [
         0,
         3
        ]
       }
      },
      {
       "class": "ReLU",
       "kargs": {
        "inplace": true
       }
      },
      {
       "class": "BatchNorm2d",
       "kargs": {
        "num_features": 256
       }
      },
      {
       "class": "Conv2d",
       "kargs": {
        "bias": true,
        "in_channels": 256,
        "kernel_size": [
         2,
         7
        ],
        "out_channels": 80,
        "padding": [
         0,
         3
        ]
       }
      },
      {
       "class": "ReLU",
       "kargs": {
        "inplace": true
       }
      },
      {
       "class": "BatchNorm2d",
       "kargs": {
        "num_features": 80
       }
      },
      {
       "class": "Flatten",
       "kargs": {}
      },
      {
       "class": "Linear",
       "kargs": {
        "in_features": 20480,
        "out_features": 256
       }
      },
      {
       "class": "ReLU",
       "kargs": {
        "inplace": true
       }
      },
      {
       "class": "BatchNorm1d",
       "kargs": {
        "num_features": 256
       }
      },
      {
       "class": "Linear",
       "kargs": {
        "in_features": 256,
        "out_features": 256
       }
      }
     ]
    }
   },
   "start_time": "2022-03-21T17:00:38.250561",
   "version": "2.3.4"
  }
 },
 "nbformat": 4,
 "nbformat_minor": 5
}