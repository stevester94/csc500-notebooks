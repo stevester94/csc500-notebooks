{
 "cells": [
  {
   "cell_type": "markdown",
   "id": "9fea5f46",
   "metadata": {
    "papermill": {
     "duration": 0.029672,
     "end_time": "2022-03-21T10:12:57.786510",
     "exception": false,
     "start_time": "2022-03-21T10:12:57.756838",
     "status": "completed"
    },
    "tags": []
   },
   "source": [
    "# Transfer Learning Template"
   ]
  },
  {
   "cell_type": "code",
   "execution_count": 1,
   "id": "0902182a",
   "metadata": {
    "execution": {
     "iopub.execute_input": "2022-03-21T10:12:57.849680Z",
     "iopub.status.busy": "2022-03-21T10:12:57.848819Z",
     "iopub.status.idle": "2022-03-21T10:12:59.817702Z",
     "shell.execute_reply": "2022-03-21T10:12:59.817295Z"
    },
    "papermill": {
     "duration": 2.007813,
     "end_time": "2022-03-21T10:12:59.817806",
     "exception": false,
     "start_time": "2022-03-21T10:12:57.809993",
     "status": "completed"
    },
    "tags": []
   },
   "outputs": [],
   "source": [
    "%load_ext autoreload\n",
    "%autoreload 2\n",
    "%matplotlib inline\n",
    "\n",
    "    \n",
    "import os, json, sys, time, random\n",
    "import numpy as np\n",
    "import torch\n",
    "from torch.optim import Adam\n",
    "from  easydict import EasyDict\n",
    "import matplotlib.pyplot as plt\n",
    "\n",
    "from steves_models.steves_ptn import Steves_Prototypical_Network\n",
    "\n",
    "from steves_utils.lazy_iterable_wrapper import Lazy_Iterable_Wrapper\n",
    "from steves_utils.iterable_aggregator import Iterable_Aggregator\n",
    "from steves_utils.ptn_train_eval_test_jig import  PTN_Train_Eval_Test_Jig\n",
    "from steves_utils.torch_sequential_builder import build_sequential\n",
    "from steves_utils.torch_utils import get_dataset_metrics, ptn_confusion_by_domain_over_dataloader\n",
    "from steves_utils.utils_v2 import (per_domain_accuracy_from_confusion, get_datasets_base_path)\n",
    "from steves_utils.PTN.utils import independent_accuracy_assesment\n",
    "\n",
    "from torch.utils.data import DataLoader\n",
    "\n",
    "from steves_utils.stratified_dataset.episodic_accessor import Episodic_Accessor_Factory\n",
    "\n",
    "from steves_utils.ptn_do_report import (\n",
    "    get_loss_curve,\n",
    "    get_results_table,\n",
    "    get_parameters_table,\n",
    "    get_domain_accuracies,\n",
    ")\n",
    "\n",
    "from steves_utils.transforms import get_chained_transform"
   ]
  },
  {
   "cell_type": "markdown",
   "id": "41c840b4",
   "metadata": {
    "papermill": {
     "duration": 0.018883,
     "end_time": "2022-03-21T10:12:59.856194",
     "exception": false,
     "start_time": "2022-03-21T10:12:59.837311",
     "status": "completed"
    },
    "tags": []
   },
   "source": [
    "# Allowed Parameters\n",
    "These are allowed parameters, not defaults\n",
    "Each of these values need to be present in the injected parameters (the notebook will raise an exception if they are not present)\n",
    "\n",
    "Papermill uses the cell tag \"parameters\" to inject the real parameters below this cell.\n",
    "Enable tags to see what I mean"
   ]
  },
  {
   "cell_type": "code",
   "execution_count": 2,
   "id": "fd44eb83",
   "metadata": {
    "execution": {
     "iopub.execute_input": "2022-03-21T10:12:59.897553Z",
     "iopub.status.busy": "2022-03-21T10:12:59.897163Z",
     "iopub.status.idle": "2022-03-21T10:12:59.916956Z",
     "shell.execute_reply": "2022-03-21T10:12:59.916212Z"
    },
    "papermill": {
     "duration": 0.042079,
     "end_time": "2022-03-21T10:12:59.917112",
     "exception": false,
     "start_time": "2022-03-21T10:12:59.875033",
     "status": "completed"
    },
    "tags": []
   },
   "outputs": [],
   "source": [
    "required_parameters = {\n",
    "    \"experiment_name\",\n",
    "    \"lr\",\n",
    "    \"device\",\n",
    "    \"seed\",\n",
    "    \"dataset_seed\",\n",
    "    \"n_shot\",\n",
    "    \"n_query\",\n",
    "    \"n_way\",\n",
    "    \"train_k_factor\",\n",
    "    \"val_k_factor\",\n",
    "    \"test_k_factor\",\n",
    "    \"n_epoch\",\n",
    "    \"patience\",\n",
    "    \"criteria_for_best\",\n",
    "    \"x_net\",\n",
    "    \"datasets\",\n",
    "    \"torch_default_dtype\",\n",
    "    \"NUM_LOGS_PER_EPOCH\",\n",
    "    \"BEST_MODEL_PATH\",\n",
    "    \"x_shape\",\n",
    "}"
   ]
  },
  {
   "cell_type": "code",
   "execution_count": 3,
   "id": "fa3f0049",
   "metadata": {
    "execution": {
     "iopub.execute_input": "2022-03-21T10:12:59.974558Z",
     "iopub.status.busy": "2022-03-21T10:12:59.973929Z",
     "iopub.status.idle": "2022-03-21T10:12:59.993840Z",
     "shell.execute_reply": "2022-03-21T10:12:59.993039Z"
    },
    "papermill": {
     "duration": 0.048837,
     "end_time": "2022-03-21T10:12:59.993999",
     "exception": false,
     "start_time": "2022-03-21T10:12:59.945162",
     "status": "completed"
    },
    "tags": [
     "parameters"
    ]
   },
   "outputs": [],
   "source": [
    "from steves_utils.CORES.utils import (\n",
    "    ALL_NODES,\n",
    "    ALL_NODES_MINIMUM_1000_EXAMPLES,\n",
    "    ALL_DAYS\n",
    ")\n",
    "\n",
    "from steves_utils.ORACLE.utils_v2 import (\n",
    "    ALL_DISTANCES_FEET_NARROWED,\n",
    "    ALL_RUNS,\n",
    "    ALL_SERIAL_NUMBERS,\n",
    ")\n",
    "\n",
    "standalone_parameters = {}\n",
    "standalone_parameters[\"experiment_name\"] = \"STANDALONE PTN\"\n",
    "standalone_parameters[\"lr\"] = 0.001\n",
    "standalone_parameters[\"device\"] = \"cuda\"\n",
    "\n",
    "standalone_parameters[\"seed\"] = 1337\n",
    "standalone_parameters[\"dataset_seed\"] = 1337\n",
    "\n",
    "standalone_parameters[\"n_way\"] = 8\n",
    "standalone_parameters[\"n_shot\"] = 3\n",
    "standalone_parameters[\"n_query\"]  = 2\n",
    "standalone_parameters[\"train_k_factor\"] = 1\n",
    "standalone_parameters[\"val_k_factor\"] = 2\n",
    "standalone_parameters[\"test_k_factor\"] = 2\n",
    "\n",
    "\n",
    "standalone_parameters[\"n_epoch\"] = 50\n",
    "\n",
    "standalone_parameters[\"patience\"] = 10\n",
    "standalone_parameters[\"criteria_for_best\"] = \"source_loss\"\n",
    "\n",
    "standalone_parameters[\"datasets\"] = [\n",
    "    {\n",
    "        \"labels\": ALL_SERIAL_NUMBERS,\n",
    "        \"domains\": ALL_DISTANCES_FEET_NARROWED,\n",
    "        \"num_examples_per_domain_per_label\": 100,\n",
    "        \"pickle_path\": os.path.join(get_datasets_base_path(), \"oracle.Run1_framed_2000Examples_stratified_ds.2022A.pkl\"),\n",
    "        \"source_or_target_dataset\": \"source\",\n",
    "        \"x_transforms\": [\"unit_mag\", \"minus_two\"],\n",
    "        \"episode_transforms\": [],\n",
    "        \"domain_prefix\": \"ORACLE_\"\n",
    "    },\n",
    "    {\n",
    "        \"labels\": ALL_NODES,\n",
    "        \"domains\": ALL_DAYS,\n",
    "        \"num_examples_per_domain_per_label\": 100,\n",
    "        \"pickle_path\": os.path.join(get_datasets_base_path(), \"cores.stratified_ds.2022A.pkl\"),\n",
    "        \"source_or_target_dataset\": \"target\",\n",
    "        \"x_transforms\": [\"unit_power\", \"times_zero\"],\n",
    "        \"episode_transforms\": [],\n",
    "        \"domain_prefix\": \"CORES_\"\n",
    "    }   \n",
    "]\n",
    "\n",
    "standalone_parameters[\"torch_default_dtype\"] = \"torch.float32\" \n",
    "\n",
    "\n",
    "\n",
    "standalone_parameters[\"x_net\"] =     [\n",
    "    {\"class\": \"nnReshape\", \"kargs\": {\"shape\":[-1, 1, 2, 256]}},\n",
    "    {\"class\": \"Conv2d\", \"kargs\": { \"in_channels\":1, \"out_channels\":256, \"kernel_size\":(1,7), \"bias\":False, \"padding\":(0,3), },},\n",
    "    {\"class\": \"ReLU\", \"kargs\": {\"inplace\": True}},\n",
    "    {\"class\": \"BatchNorm2d\", \"kargs\": {\"num_features\":256}},\n",
    "\n",
    "    {\"class\": \"Conv2d\", \"kargs\": { \"in_channels\":256, \"out_channels\":80, \"kernel_size\":(2,7), \"bias\":True, \"padding\":(0,3), },},\n",
    "    {\"class\": \"ReLU\", \"kargs\": {\"inplace\": True}},\n",
    "    {\"class\": \"BatchNorm2d\", \"kargs\": {\"num_features\":80}},\n",
    "    {\"class\": \"Flatten\", \"kargs\": {}},\n",
    "\n",
    "    {\"class\": \"Linear\", \"kargs\": {\"in_features\": 80*256, \"out_features\": 256}}, # 80 units per IQ pair\n",
    "    {\"class\": \"ReLU\", \"kargs\": {\"inplace\": True}},\n",
    "    {\"class\": \"BatchNorm1d\", \"kargs\": {\"num_features\":256}},\n",
    "\n",
    "    {\"class\": \"Linear\", \"kargs\": {\"in_features\": 256, \"out_features\": 256}},\n",
    "]\n",
    "\n",
    "# Parameters relevant to results\n",
    "# These parameters will basically never need to change\n",
    "standalone_parameters[\"NUM_LOGS_PER_EPOCH\"] = 10\n",
    "standalone_parameters[\"BEST_MODEL_PATH\"] = \"./best_model.pth\"\n",
    "\n",
    "\n",
    "\n",
    "\n"
   ]
  },
  {
   "cell_type": "code",
   "execution_count": 4,
   "id": "51b805a3",
   "metadata": {
    "execution": {
     "iopub.execute_input": "2022-03-21T10:13:00.049631Z",
     "iopub.status.busy": "2022-03-21T10:13:00.046144Z",
     "iopub.status.idle": "2022-03-21T10:13:00.067876Z",
     "shell.execute_reply": "2022-03-21T10:13:00.067055Z"
    },
    "papermill": {
     "duration": 0.048755,
     "end_time": "2022-03-21T10:13:00.068034",
     "exception": false,
     "start_time": "2022-03-21T10:13:00.019279",
     "status": "completed"
    },
    "tags": [
     "injected-parameters"
    ]
   },
   "outputs": [],
   "source": [
    "# Parameters\n",
    "parameters = {\n",
    "    \"experiment_name\": \"tl_1v2:cores-oracle.run1.framed\",\n",
    "    \"device\": \"cuda\",\n",
    "    \"lr\": 0.0001,\n",
    "    \"n_shot\": 3,\n",
    "    \"n_query\": 2,\n",
    "    \"train_k_factor\": 3,\n",
    "    \"val_k_factor\": 2,\n",
    "    \"test_k_factor\": 2,\n",
    "    \"torch_default_dtype\": \"torch.float32\",\n",
    "    \"n_epoch\": 50,\n",
    "    \"patience\": 3,\n",
    "    \"criteria_for_best\": \"target_accuracy\",\n",
    "    \"x_net\": [\n",
    "        {\"class\": \"nnReshape\", \"kargs\": {\"shape\": [-1, 1, 2, 256]}},\n",
    "        {\n",
    "            \"class\": \"Conv2d\",\n",
    "            \"kargs\": {\n",
    "                \"in_channels\": 1,\n",
    "                \"out_channels\": 256,\n",
    "                \"kernel_size\": [1, 7],\n",
    "                \"bias\": False,\n",
    "                \"padding\": [0, 3],\n",
    "            },\n",
    "        },\n",
    "        {\"class\": \"ReLU\", \"kargs\": {\"inplace\": True}},\n",
    "        {\"class\": \"BatchNorm2d\", \"kargs\": {\"num_features\": 256}},\n",
    "        {\n",
    "            \"class\": \"Conv2d\",\n",
    "            \"kargs\": {\n",
    "                \"in_channels\": 256,\n",
    "                \"out_channels\": 80,\n",
    "                \"kernel_size\": [2, 7],\n",
    "                \"bias\": True,\n",
    "                \"padding\": [0, 3],\n",
    "            },\n",
    "        },\n",
    "        {\"class\": \"ReLU\", \"kargs\": {\"inplace\": True}},\n",
    "        {\"class\": \"BatchNorm2d\", \"kargs\": {\"num_features\": 80}},\n",
    "        {\"class\": \"Flatten\", \"kargs\": {}},\n",
    "        {\"class\": \"Linear\", \"kargs\": {\"in_features\": 20480, \"out_features\": 256}},\n",
    "        {\"class\": \"ReLU\", \"kargs\": {\"inplace\": True}},\n",
    "        {\"class\": \"BatchNorm1d\", \"kargs\": {\"num_features\": 256}},\n",
    "        {\"class\": \"Linear\", \"kargs\": {\"in_features\": 256, \"out_features\": 256}},\n",
    "    ],\n",
    "    \"NUM_LOGS_PER_EPOCH\": 10,\n",
    "    \"BEST_MODEL_PATH\": \"./best_model.pth\",\n",
    "    \"n_way\": 16,\n",
    "    \"datasets\": [\n",
    "        {\n",
    "            \"labels\": [\n",
    "                \"1-10.\",\n",
    "                \"1-11.\",\n",
    "                \"1-15.\",\n",
    "                \"1-16.\",\n",
    "                \"1-17.\",\n",
    "                \"1-18.\",\n",
    "                \"1-19.\",\n",
    "                \"10-4.\",\n",
    "                \"10-7.\",\n",
    "                \"11-1.\",\n",
    "                \"11-14.\",\n",
    "                \"11-17.\",\n",
    "                \"11-20.\",\n",
    "                \"11-7.\",\n",
    "                \"13-20.\",\n",
    "                \"13-8.\",\n",
    "                \"14-10.\",\n",
    "                \"14-11.\",\n",
    "                \"14-14.\",\n",
    "                \"14-7.\",\n",
    "                \"15-1.\",\n",
    "                \"15-20.\",\n",
    "                \"16-1.\",\n",
    "                \"16-16.\",\n",
    "                \"17-10.\",\n",
    "                \"17-11.\",\n",
    "                \"17-2.\",\n",
    "                \"19-1.\",\n",
    "                \"19-16.\",\n",
    "                \"19-19.\",\n",
    "                \"19-20.\",\n",
    "                \"19-3.\",\n",
    "                \"2-10.\",\n",
    "                \"2-11.\",\n",
    "                \"2-17.\",\n",
    "                \"2-18.\",\n",
    "                \"2-20.\",\n",
    "                \"2-3.\",\n",
    "                \"2-4.\",\n",
    "                \"2-5.\",\n",
    "                \"2-6.\",\n",
    "                \"2-7.\",\n",
    "                \"2-8.\",\n",
    "                \"3-13.\",\n",
    "                \"3-18.\",\n",
    "                \"3-3.\",\n",
    "                \"4-1.\",\n",
    "                \"4-10.\",\n",
    "                \"4-11.\",\n",
    "                \"4-19.\",\n",
    "                \"5-5.\",\n",
    "                \"6-15.\",\n",
    "                \"7-10.\",\n",
    "                \"7-14.\",\n",
    "                \"8-18.\",\n",
    "                \"8-20.\",\n",
    "                \"8-3.\",\n",
    "                \"8-8.\",\n",
    "            ],\n",
    "            \"domains\": [1, 2, 3, 4, 5],\n",
    "            \"num_examples_per_domain_per_label\": -1,\n",
    "            \"pickle_path\": \"/root/csc500-main/datasets/cores.stratified_ds.2022A.pkl\",\n",
    "            \"source_or_target_dataset\": \"source\",\n",
    "            \"x_transforms\": [],\n",
    "            \"episode_transforms\": [],\n",
    "            \"domain_prefix\": \"CORES_\",\n",
    "        },\n",
    "        {\n",
    "            \"labels\": [\n",
    "                \"3123D52\",\n",
    "                \"3123D65\",\n",
    "                \"3123D79\",\n",
    "                \"3123D80\",\n",
    "                \"3123D54\",\n",
    "                \"3123D70\",\n",
    "                \"3123D7B\",\n",
    "                \"3123D89\",\n",
    "                \"3123D58\",\n",
    "                \"3123D76\",\n",
    "                \"3123D7D\",\n",
    "                \"3123EFE\",\n",
    "                \"3123D64\",\n",
    "                \"3123D78\",\n",
    "                \"3123D7E\",\n",
    "                \"3124E4A\",\n",
    "            ],\n",
    "            \"domains\": [32, 38, 8, 44, 14, 50, 20, 26],\n",
    "            \"num_examples_per_domain_per_label\": 2000,\n",
    "            \"pickle_path\": \"/root/csc500-main/datasets/oracle.Run1_framed_2000Examples_stratified_ds.2022A.pkl\",\n",
    "            \"source_or_target_dataset\": \"target\",\n",
    "            \"x_transforms\": [],\n",
    "            \"episode_transforms\": [],\n",
    "            \"domain_prefix\": \"ORACLE.run1_\",\n",
    "        },\n",
    "    ],\n",
    "    \"dataset_seed\": 154325,\n",
    "    \"seed\": 154325,\n",
    "}\n"
   ]
  },
  {
   "cell_type": "code",
   "execution_count": 5,
   "id": "8fa1cc33",
   "metadata": {
    "execution": {
     "iopub.execute_input": "2022-03-21T10:13:00.125184Z",
     "iopub.status.busy": "2022-03-21T10:13:00.124510Z",
     "iopub.status.idle": "2022-03-21T10:13:00.145691Z",
     "shell.execute_reply": "2022-03-21T10:13:00.144892Z"
    },
    "papermill": {
     "duration": 0.049077,
     "end_time": "2022-03-21T10:13:00.145847",
     "exception": false,
     "start_time": "2022-03-21T10:13:00.096770",
     "status": "completed"
    },
    "tags": []
   },
   "outputs": [],
   "source": [
    "# Set this to True if you want to run this template directly\n",
    "STANDALONE = False\n",
    "if STANDALONE:\n",
    "    print(\"parameters not injected, running with standalone_parameters\")\n",
    "    parameters = standalone_parameters\n",
    "\n",
    "if not 'parameters' in locals() and not 'parameters' in globals():\n",
    "    raise Exception(\"Parameter injection failed\")\n",
    "\n",
    "#Use an easy dict for all the parameters\n",
    "p = EasyDict(parameters)\n",
    "\n",
    "if \"x_shape\" not in p:\n",
    "    p.x_shape = [2,256] # Default to this if we dont supply x_shape\n",
    "\n",
    "\n",
    "supplied_keys = set(p.keys())\n",
    "\n",
    "if  supplied_keys != required_parameters:\n",
    "    print(\"Parameters are incorrect\")\n",
    "    if len(supplied_keys - required_parameters)>0: print(\"Shouldn't have:\", str(supplied_keys - required_parameters))\n",
    "    if len(required_parameters - supplied_keys)>0: print(\"Need to have:\", str(required_parameters - supplied_keys))\n",
    "    raise RuntimeError(\"Parameters are incorrect\")"
   ]
  },
  {
   "cell_type": "code",
   "execution_count": 6,
   "id": "3a028d58",
   "metadata": {
    "execution": {
     "iopub.execute_input": "2022-03-21T10:13:00.195554Z",
     "iopub.status.busy": "2022-03-21T10:13:00.193161Z",
     "iopub.status.idle": "2022-03-21T10:13:00.212822Z",
     "shell.execute_reply": "2022-03-21T10:13:00.212021Z"
    },
    "papermill": {
     "duration": 0.041806,
     "end_time": "2022-03-21T10:13:00.212977",
     "exception": false,
     "start_time": "2022-03-21T10:13:00.171171",
     "status": "completed"
    },
    "tags": []
   },
   "outputs": [],
   "source": [
    "###################################\n",
    "# Set the RNGs and make it all deterministic\n",
    "###################################\n",
    "np.random.seed(p.seed)\n",
    "random.seed(p.seed)\n",
    "torch.manual_seed(p.seed)\n",
    "\n",
    "torch.use_deterministic_algorithms(True) "
   ]
  },
  {
   "cell_type": "code",
   "execution_count": 7,
   "id": "b691acf6",
   "metadata": {
    "execution": {
     "iopub.execute_input": "2022-03-21T10:13:00.264334Z",
     "iopub.status.busy": "2022-03-21T10:13:00.262971Z",
     "iopub.status.idle": "2022-03-21T10:13:00.286836Z",
     "shell.execute_reply": "2022-03-21T10:13:00.286044Z"
    },
    "papermill": {
     "duration": 0.045838,
     "end_time": "2022-03-21T10:13:00.286995",
     "exception": false,
     "start_time": "2022-03-21T10:13:00.241157",
     "status": "completed"
    },
    "tags": []
   },
   "outputs": [],
   "source": [
    "###########################################\n",
    "# The stratified datasets honor this\n",
    "###########################################\n",
    "torch.set_default_dtype(eval(p.torch_default_dtype))"
   ]
  },
  {
   "cell_type": "code",
   "execution_count": 8,
   "id": "b5fba671",
   "metadata": {
    "execution": {
     "iopub.execute_input": "2022-03-21T10:13:00.335499Z",
     "iopub.status.busy": "2022-03-21T10:13:00.335121Z",
     "iopub.status.idle": "2022-03-21T10:13:00.391244Z",
     "shell.execute_reply": "2022-03-21T10:13:00.390542Z"
    },
    "papermill": {
     "duration": 0.079334,
     "end_time": "2022-03-21T10:13:00.391403",
     "exception": false,
     "start_time": "2022-03-21T10:13:00.312069",
     "status": "completed"
    },
    "tags": []
   },
   "outputs": [],
   "source": [
    "###################################\n",
    "# Build the network(s)\n",
    "# Note: It's critical to do this AFTER setting the RNG\n",
    "###################################\n",
    "x_net = build_sequential(p.x_net)"
   ]
  },
  {
   "cell_type": "code",
   "execution_count": 9,
   "id": "5d7e61cc",
   "metadata": {
    "execution": {
     "iopub.execute_input": "2022-03-21T10:13:00.440468Z",
     "iopub.status.busy": "2022-03-21T10:13:00.440056Z",
     "iopub.status.idle": "2022-03-21T10:13:00.465162Z",
     "shell.execute_reply": "2022-03-21T10:13:00.464352Z"
    },
    "papermill": {
     "duration": 0.048899,
     "end_time": "2022-03-21T10:13:00.465317",
     "exception": false,
     "start_time": "2022-03-21T10:13:00.416418",
     "status": "completed"
    },
    "tags": []
   },
   "outputs": [],
   "source": [
    "start_time_secs = time.time()"
   ]
  },
  {
   "cell_type": "code",
   "execution_count": 10,
   "id": "c6b67dfd",
   "metadata": {
    "execution": {
     "iopub.execute_input": "2022-03-21T10:13:00.514646Z",
     "iopub.status.busy": "2022-03-21T10:13:00.514219Z",
     "iopub.status.idle": "2022-03-21T10:13:00.535937Z",
     "shell.execute_reply": "2022-03-21T10:13:00.535121Z"
    },
    "papermill": {
     "duration": 0.04656,
     "end_time": "2022-03-21T10:13:00.536092",
     "exception": false,
     "start_time": "2022-03-21T10:13:00.489532",
     "status": "completed"
    },
    "tags": []
   },
   "outputs": [],
   "source": [
    "p.domains_source = []\n",
    "p.domains_target = []\n",
    "\n",
    "\n",
    "train_original_source = []\n",
    "val_original_source   = []\n",
    "test_original_source  = []\n",
    "\n",
    "train_original_target = []\n",
    "val_original_target   = []\n",
    "test_original_target  = []"
   ]
  },
  {
   "cell_type": "code",
   "execution_count": 11,
   "id": "e3d9c3d3",
   "metadata": {
    "execution": {
     "iopub.execute_input": "2022-03-21T10:13:00.585107Z",
     "iopub.status.busy": "2022-03-21T10:13:00.584264Z",
     "iopub.status.idle": "2022-03-21T10:13:00.606538Z",
     "shell.execute_reply": "2022-03-21T10:13:00.605741Z"
    },
    "papermill": {
     "duration": 0.045849,
     "end_time": "2022-03-21T10:13:00.606691",
     "exception": false,
     "start_time": "2022-03-21T10:13:00.560842",
     "status": "completed"
    },
    "tags": []
   },
   "outputs": [],
   "source": [
    "# global_x_transform_func = lambda x: normalize(x.to(torch.get_default_dtype()), \"unit_power\") # unit_power, unit_mag\n",
    "# global_x_transform_func = lambda x: normalize(x, \"unit_power\") # unit_power, unit_mag"
   ]
  },
  {
   "cell_type": "code",
   "execution_count": 12,
   "id": "acb78fd2",
   "metadata": {
    "execution": {
     "iopub.execute_input": "2022-03-21T10:13:00.659805Z",
     "iopub.status.busy": "2022-03-21T10:13:00.659207Z",
     "iopub.status.idle": "2022-03-21T10:13:00.678250Z",
     "shell.execute_reply": "2022-03-21T10:13:00.677454Z"
    },
    "papermill": {
     "duration": 0.046257,
     "end_time": "2022-03-21T10:13:00.678402",
     "exception": false,
     "start_time": "2022-03-21T10:13:00.632145",
     "status": "completed"
    },
    "tags": []
   },
   "outputs": [],
   "source": [
    "def add_dataset(\n",
    "    labels,\n",
    "    domains,\n",
    "    pickle_path,\n",
    "    x_transforms,\n",
    "    episode_transforms,\n",
    "    domain_prefix,\n",
    "    num_examples_per_domain_per_label,\n",
    "    source_or_target_dataset:str,\n",
    "    iterator_seed=p.seed,\n",
    "    dataset_seed=p.dataset_seed,\n",
    "    n_shot=p.n_shot,\n",
    "    n_way=p.n_way,\n",
    "    n_query=p.n_query,\n",
    "    train_val_test_k_factors=(p.train_k_factor,p.val_k_factor,p.test_k_factor),\n",
    "):\n",
    "   \n",
    "    if x_transforms == []: x_transform = None\n",
    "    else: x_transform = get_chained_transform(x_transforms)\n",
    "    \n",
    "    if episode_transforms == []: episode_transform = None\n",
    "    else: raise Exception(\"episode_transforms not implemented\")\n",
    "    \n",
    "    episode_transform = lambda tup, _prefix=domain_prefix: (_prefix + str(tup[0]), tup[1])\n",
    "\n",
    "\n",
    "    eaf = Episodic_Accessor_Factory(\n",
    "        labels=labels,\n",
    "        domains=domains,\n",
    "        num_examples_per_domain_per_label=num_examples_per_domain_per_label,\n",
    "        iterator_seed=iterator_seed,\n",
    "        dataset_seed=dataset_seed,\n",
    "        n_shot=n_shot,\n",
    "        n_way=n_way,\n",
    "        n_query=n_query,\n",
    "        train_val_test_k_factors=train_val_test_k_factors,\n",
    "        pickle_path=pickle_path,\n",
    "        x_transform_func=x_transform,\n",
    "    )\n",
    "\n",
    "    train, val, test = eaf.get_train(), eaf.get_val(), eaf.get_test()\n",
    "    train = Lazy_Iterable_Wrapper(train, episode_transform)\n",
    "    val = Lazy_Iterable_Wrapper(val, episode_transform)\n",
    "    test = Lazy_Iterable_Wrapper(test, episode_transform)\n",
    "\n",
    "    if source_or_target_dataset==\"source\":\n",
    "        train_original_source.append(train)\n",
    "        val_original_source.append(val)\n",
    "        test_original_source.append(test)\n",
    "\n",
    "        p.domains_source.extend(\n",
    "            [domain_prefix + str(u) for u in domains]\n",
    "        )\n",
    "    elif source_or_target_dataset==\"target\":\n",
    "        train_original_target.append(train)\n",
    "        val_original_target.append(val)\n",
    "        test_original_target.append(test)\n",
    "        p.domains_target.extend(\n",
    "            [domain_prefix + str(u) for u in domains]\n",
    "        )\n",
    "    else:\n",
    "        raise Exception(f\"invalid source_or_target_dataset: {source_or_target_dataset}\")\n",
    "    "
   ]
  },
  {
   "cell_type": "code",
   "execution_count": 13,
   "id": "fe266617",
   "metadata": {
    "execution": {
     "iopub.execute_input": "2022-03-21T10:13:00.727488Z",
     "iopub.status.busy": "2022-03-21T10:13:00.727126Z",
     "iopub.status.idle": "2022-03-21T10:13:04.432666Z",
     "shell.execute_reply": "2022-03-21T10:13:04.431813Z"
    },
    "papermill": {
     "duration": 3.728504,
     "end_time": "2022-03-21T10:13:04.432845",
     "exception": false,
     "start_time": "2022-03-21T10:13:00.704341",
     "status": "completed"
    },
    "tags": []
   },
   "outputs": [],
   "source": [
    "for ds in p.datasets:\n",
    "    add_dataset(**ds)"
   ]
  },
  {
   "cell_type": "code",
   "execution_count": 14,
   "id": "b90d65ac",
   "metadata": {
    "execution": {
     "iopub.execute_input": "2022-03-21T10:13:04.481662Z",
     "iopub.status.busy": "2022-03-21T10:13:04.481096Z",
     "iopub.status.idle": "2022-03-21T10:13:04.503604Z",
     "shell.execute_reply": "2022-03-21T10:13:04.502767Z"
    },
    "papermill": {
     "duration": 0.046206,
     "end_time": "2022-03-21T10:13:04.503763",
     "exception": false,
     "start_time": "2022-03-21T10:13:04.457557",
     "status": "completed"
    },
    "tags": []
   },
   "outputs": [],
   "source": [
    "# from steves_utils.CORES.utils import (\n",
    "#     ALL_NODES,\n",
    "#     ALL_NODES_MINIMUM_1000_EXAMPLES,\n",
    "#     ALL_DAYS\n",
    "# )\n",
    "\n",
    "# add_dataset(\n",
    "#     labels=ALL_NODES,\n",
    "#     domains = ALL_DAYS,\n",
    "#     num_examples_per_domain_per_label=100,\n",
    "#     pickle_path=os.path.join(get_datasets_base_path(), \"cores.stratified_ds.2022A.pkl\"),\n",
    "#     source_or_target_dataset=\"target\",\n",
    "#     x_transform_func=global_x_transform_func,\n",
    "#     domain_modifier=lambda u: f\"cores_{u}\"\n",
    "# )"
   ]
  },
  {
   "cell_type": "code",
   "execution_count": 15,
   "id": "76db484d",
   "metadata": {
    "execution": {
     "iopub.execute_input": "2022-03-21T10:13:04.554814Z",
     "iopub.status.busy": "2022-03-21T10:13:04.554437Z",
     "iopub.status.idle": "2022-03-21T10:13:04.571346Z",
     "shell.execute_reply": "2022-03-21T10:13:04.570544Z"
    },
    "papermill": {
     "duration": 0.039904,
     "end_time": "2022-03-21T10:13:04.571502",
     "exception": false,
     "start_time": "2022-03-21T10:13:04.531598",
     "status": "completed"
    },
    "tags": []
   },
   "outputs": [],
   "source": [
    "# from steves_utils.ORACLE.utils_v2 import (\n",
    "#     ALL_DISTANCES_FEET,\n",
    "#     ALL_RUNS,\n",
    "#     ALL_SERIAL_NUMBERS,\n",
    "# )\n",
    "\n",
    "\n",
    "# add_dataset(\n",
    "#     labels=ALL_SERIAL_NUMBERS,\n",
    "#     domains = list(set(ALL_DISTANCES_FEET) - {2,62}),\n",
    "#     num_examples_per_domain_per_label=100,\n",
    "#     pickle_path=os.path.join(get_datasets_base_path(), \"oracle.Run2_framed_2000Examples_stratified_ds.2022A.pkl\"),\n",
    "#     source_or_target_dataset=\"source\",\n",
    "#     x_transform_func=global_x_transform_func,\n",
    "#     domain_modifier=lambda u: f\"oracle1_{u}\"\n",
    "# )\n"
   ]
  },
  {
   "cell_type": "code",
   "execution_count": 16,
   "id": "97dea9d2",
   "metadata": {
    "execution": {
     "iopub.execute_input": "2022-03-21T10:13:04.629446Z",
     "iopub.status.busy": "2022-03-21T10:13:04.624516Z",
     "iopub.status.idle": "2022-03-21T10:13:04.650334Z",
     "shell.execute_reply": "2022-03-21T10:13:04.649530Z"
    },
    "papermill": {
     "duration": 0.051003,
     "end_time": "2022-03-21T10:13:04.650487",
     "exception": false,
     "start_time": "2022-03-21T10:13:04.599484",
     "status": "completed"
    },
    "tags": []
   },
   "outputs": [],
   "source": [
    "# from steves_utils.ORACLE.utils_v2 import (\n",
    "#     ALL_DISTANCES_FEET,\n",
    "#     ALL_RUNS,\n",
    "#     ALL_SERIAL_NUMBERS,\n",
    "# )\n",
    "\n",
    "\n",
    "# add_dataset(\n",
    "#     labels=ALL_SERIAL_NUMBERS,\n",
    "#     domains = list(set(ALL_DISTANCES_FEET) - {2,62,56}),\n",
    "#     num_examples_per_domain_per_label=100,\n",
    "#     pickle_path=os.path.join(get_datasets_base_path(), \"oracle.Run2_framed_2000Examples_stratified_ds.2022A.pkl\"),\n",
    "#     source_or_target_dataset=\"source\",\n",
    "#     x_transform_func=global_x_transform_func,\n",
    "#     domain_modifier=lambda u: f\"oracle2_{u}\"\n",
    "# )"
   ]
  },
  {
   "cell_type": "code",
   "execution_count": 17,
   "id": "6f289866",
   "metadata": {
    "execution": {
     "iopub.execute_input": "2022-03-21T10:13:04.698278Z",
     "iopub.status.busy": "2022-03-21T10:13:04.697721Z",
     "iopub.status.idle": "2022-03-21T10:13:04.717796Z",
     "shell.execute_reply": "2022-03-21T10:13:04.716991Z"
    },
    "papermill": {
     "duration": 0.043472,
     "end_time": "2022-03-21T10:13:04.717949",
     "exception": false,
     "start_time": "2022-03-21T10:13:04.674477",
     "status": "completed"
    },
    "tags": []
   },
   "outputs": [],
   "source": [
    "# add_dataset(\n",
    "#     labels=list(range(19)),\n",
    "#     domains = [0,1,2],\n",
    "#     num_examples_per_domain_per_label=100,\n",
    "#     pickle_path=os.path.join(get_datasets_base_path(), \"metehan.stratified_ds.2022A.pkl\"),\n",
    "#     source_or_target_dataset=\"target\",\n",
    "#     x_transform_func=global_x_transform_func,\n",
    "#     domain_modifier=lambda u: f\"met_{u}\"\n",
    "# )"
   ]
  },
  {
   "cell_type": "code",
   "execution_count": 18,
   "id": "86a863c3",
   "metadata": {
    "execution": {
     "iopub.execute_input": "2022-03-21T10:13:04.771214Z",
     "iopub.status.busy": "2022-03-21T10:13:04.770185Z",
     "iopub.status.idle": "2022-03-21T10:13:04.792466Z",
     "shell.execute_reply": "2022-03-21T10:13:04.791647Z"
    },
    "papermill": {
     "duration": 0.04808,
     "end_time": "2022-03-21T10:13:04.792647",
     "exception": false,
     "start_time": "2022-03-21T10:13:04.744567",
     "status": "completed"
    },
    "tags": []
   },
   "outputs": [],
   "source": [
    "# # from steves_utils.wisig.utils import (\n",
    "# #     ALL_NODES_MINIMUM_100_EXAMPLES,\n",
    "# #     ALL_NODES_MINIMUM_500_EXAMPLES,\n",
    "# #     ALL_NODES_MINIMUM_1000_EXAMPLES,\n",
    "# #     ALL_DAYS\n",
    "# # )\n",
    "\n",
    "# import steves_utils.wisig.utils as wisig\n",
    "\n",
    "\n",
    "# add_dataset(\n",
    "#     labels=wisig.ALL_NODES_MINIMUM_100_EXAMPLES,\n",
    "#     domains = wisig.ALL_DAYS,\n",
    "#     num_examples_per_domain_per_label=100,\n",
    "#     pickle_path=os.path.join(get_datasets_base_path(), \"wisig.node3-19.stratified_ds.2022A.pkl\"),\n",
    "#     source_or_target_dataset=\"target\",\n",
    "#     x_transform_func=global_x_transform_func,\n",
    "#     domain_modifier=lambda u: f\"wisig_{u}\"\n",
    "# )"
   ]
  },
  {
   "cell_type": "code",
   "execution_count": 19,
   "id": "fd5442bc",
   "metadata": {
    "execution": {
     "iopub.execute_input": "2022-03-21T10:13:04.849462Z",
     "iopub.status.busy": "2022-03-21T10:13:04.848263Z",
     "iopub.status.idle": "2022-03-21T10:13:04.872608Z",
     "shell.execute_reply": "2022-03-21T10:13:04.871771Z"
    },
    "papermill": {
     "duration": 0.054504,
     "end_time": "2022-03-21T10:13:04.872768",
     "exception": false,
     "start_time": "2022-03-21T10:13:04.818264",
     "status": "completed"
    },
    "tags": []
   },
   "outputs": [],
   "source": [
    "###################################\n",
    "# Build the dataset\n",
    "###################################\n",
    "train_original_source = Iterable_Aggregator(train_original_source, p.seed)\n",
    "val_original_source = Iterable_Aggregator(val_original_source, p.seed)\n",
    "test_original_source = Iterable_Aggregator(test_original_source, p.seed)\n",
    "\n",
    "\n",
    "train_original_target = Iterable_Aggregator(train_original_target, p.seed)\n",
    "val_original_target = Iterable_Aggregator(val_original_target, p.seed)\n",
    "test_original_target = Iterable_Aggregator(test_original_target, p.seed)\n",
    "\n",
    "# For CNN We only use X and Y. And we only train on the source.\n",
    "# Properly form the data using a transform lambda and Lazy_Iterable_Wrapper. Finally wrap them in a dataloader\n",
    "\n",
    "transform_lambda = lambda ex: ex[1] # Original is (<domain>, <episode>) so we strip down to episode only\n",
    "\n",
    "train_processed_source = Lazy_Iterable_Wrapper(train_original_source, transform_lambda)\n",
    "val_processed_source   = Lazy_Iterable_Wrapper(val_original_source, transform_lambda)\n",
    "test_processed_source  = Lazy_Iterable_Wrapper(test_original_source, transform_lambda)\n",
    "\n",
    "train_processed_target = Lazy_Iterable_Wrapper(train_original_target, transform_lambda)\n",
    "val_processed_target   = Lazy_Iterable_Wrapper(val_original_target, transform_lambda)\n",
    "test_processed_target  = Lazy_Iterable_Wrapper(test_original_target, transform_lambda)\n",
    "\n",
    "datasets = EasyDict({\n",
    "    \"source\": {\n",
    "        \"original\": {\"train\":train_original_source, \"val\":val_original_source, \"test\":test_original_source},\n",
    "        \"processed\": {\"train\":train_processed_source, \"val\":val_processed_source, \"test\":test_processed_source}\n",
    "    },\n",
    "    \"target\": {\n",
    "        \"original\": {\"train\":train_original_target, \"val\":val_original_target, \"test\":test_original_target},\n",
    "        \"processed\": {\"train\":train_processed_target, \"val\":val_processed_target, \"test\":test_processed_target}\n",
    "    },\n",
    "})"
   ]
  },
  {
   "cell_type": "code",
   "execution_count": 20,
   "id": "5b3c01fc",
   "metadata": {
    "execution": {
     "iopub.execute_input": "2022-03-21T10:13:04.929239Z",
     "iopub.status.busy": "2022-03-21T10:13:04.928159Z",
     "iopub.status.idle": "2022-03-21T10:13:20.044082Z",
     "shell.execute_reply": "2022-03-21T10:13:20.044764Z"
    },
    "papermill": {
     "duration": 15.142994,
     "end_time": "2022-03-21T10:13:20.044975",
     "exception": false,
     "start_time": "2022-03-21T10:13:04.901981",
     "status": "completed"
    },
    "tags": []
   },
   "outputs": [
    {
     "name": "stdout",
     "output_type": "stream",
     "text": [
      "{'CORES_3', 'CORES_4', 'CORES_1', 'CORES_5', 'CORES_2'}\n"
     ]
    },
    {
     "name": "stdout",
     "output_type": "stream",
     "text": [
      "{'ORACLE.run1_50', 'ORACLE.run1_26', 'ORACLE.run1_38', 'ORACLE.run1_44', 'ORACLE.run1_32', 'ORACLE.run1_20', 'ORACLE.run1_14', 'ORACLE.run1_8'}\n"
     ]
    },
    {
     "name": "stdout",
     "output_type": "stream",
     "text": [
      "tensor([[[-5.8290e-03, -3.4181e-03,  1.2482e-02,  ..., -3.0518e-04,\n",
      "          -4.1505e-03,  3.3875e-03],\n",
      "         [ 2.6856e-03, -1.0102e-02, -5.7374e-03,  ...,  2.5025e-03,\n",
      "           1.8311e-03, -1.3550e-02]],\n",
      "\n",
      "        [[-2.6246e-03,  1.8006e-03,  1.3153e-02,  ...,  1.8616e-03,\n",
      "          -3.9063e-03,  2.5635e-03],\n",
      "         [ 1.5259e-04, -7.6601e-03,  3.0824e-03,  ...,  9.1555e-04,\n",
      "          -1.8311e-03, -2.2584e-03]],\n",
      "\n",
      "        [[ 3.5096e-03, -1.2390e-02, -7.6601e-03,  ...,  8.1484e-03,\n",
      "           5.2492e-03, -7.9348e-03],\n",
      "         [ 1.3214e-02,  2.5941e-03, -7.2328e-03,  ...,  5.2186e-03,\n",
      "           1.4222e-02,  2.4415e-03]],\n",
      "\n",
      "        ...,\n",
      "\n",
      "        [[-1.8311e-03,  2.0447e-03,  4.8219e-03,  ...,  2.5941e-03,\n",
      "          -3.1129e-03,  1.0041e-02],\n",
      "         [ 5.0050e-03,  5.3102e-03, -1.1902e-03,  ...,  3.9674e-04,\n",
      "           2.5941e-03,  2.5330e-03]],\n",
      "\n",
      "        [[-3.0518e-05,  2.7161e-03, -1.5870e-03,  ..., -5.9816e-03,\n",
      "          -5.1881e-03,  3.1129e-03],\n",
      "         [-3.9674e-04, -4.4557e-03, -4.9745e-03,  ..., -8.0568e-03,\n",
      "           9.4607e-04, -2.1363e-03]],\n",
      "\n",
      "        [[-1.1597e-03,  1.1597e-03,  1.8921e-03,  ...,  1.7395e-03,\n",
      "          -8.5146e-03, -7.9348e-03],\n",
      "         [-4.2726e-04,  2.7467e-04,  1.5259e-04,  ..., -1.1841e-02,\n",
      "          -9.6438e-03,  7.1718e-03]]])\n"
     ]
    }
   ],
   "source": [
    "from steves_utils.transforms import get_average_magnitude, get_average_power\n",
    "\n",
    "print(set([u for u,_ in val_original_source]))\n",
    "print(set([u for u,_ in val_original_target]))\n",
    "\n",
    "s_x, s_y, q_x, q_y, _ = next(iter(train_processed_source))\n",
    "print(s_x)\n",
    "\n",
    "# for ds in [\n",
    "#     train_processed_source,\n",
    "#     val_processed_source,\n",
    "#     test_processed_source,\n",
    "#     train_processed_target,\n",
    "#     val_processed_target,\n",
    "#     test_processed_target\n",
    "# ]:\n",
    "#     for s_x, s_y, q_x, q_y, _ in ds:\n",
    "#         for X in (s_x, q_x):\n",
    "#             for x in X:\n",
    "#                 assert np.isclose(get_average_magnitude(x.numpy()), 1.0)\n",
    "#                 assert np.isclose(get_average_power(x.numpy()), 1.0)\n",
    "                "
   ]
  },
  {
   "cell_type": "code",
   "execution_count": 21,
   "id": "bbdacba1",
   "metadata": {
    "execution": {
     "iopub.execute_input": "2022-03-21T10:13:20.099112Z",
     "iopub.status.busy": "2022-03-21T10:13:20.098709Z",
     "iopub.status.idle": "2022-03-21T10:13:20.367979Z",
     "shell.execute_reply": "2022-03-21T10:13:20.368587Z"
    },
    "papermill": {
     "duration": 0.295783,
     "end_time": "2022-03-21T10:13:20.368755",
     "exception": false,
     "start_time": "2022-03-21T10:13:20.072972",
     "status": "completed"
    },
    "tags": []
   },
   "outputs": [
    {
     "name": "stdout",
     "output_type": "stream",
     "text": [
      "(2, 256)\n"
     ]
    }
   ],
   "source": [
    "###################################\n",
    "# Build the model\n",
    "###################################\n",
    "# easfsl only wants a tuple for the shape\n",
    "model = Steves_Prototypical_Network(x_net, device=p.device, x_shape=tuple(p.x_shape))\n",
    "optimizer = Adam(params=model.parameters(), lr=p.lr)"
   ]
  },
  {
   "cell_type": "code",
   "execution_count": 22,
   "id": "22b39ac5",
   "metadata": {
    "execution": {
     "iopub.execute_input": "2022-03-21T10:13:20.418600Z",
     "iopub.status.busy": "2022-03-21T10:13:20.418232Z",
     "iopub.status.idle": "2022-03-21T10:41:38.809871Z",
     "shell.execute_reply": "2022-03-21T10:41:38.809519Z"
    },
    "papermill": {
     "duration": 1698.418132,
     "end_time": "2022-03-21T10:41:38.809965",
     "exception": false,
     "start_time": "2022-03-21T10:13:20.391833",
     "status": "completed"
    },
    "tags": []
   },
   "outputs": [
    {
     "name": "stdout",
     "output_type": "stream",
     "text": [
      "epoch: 1, [batch: 1 / 6297], examples_per_second: 35.2027, train_label_loss: 2.0536, \n"
     ]
    },
    {
     "name": "stdout",
     "output_type": "stream",
     "text": [
      "epoch: 1, [batch: 630 / 6297], examples_per_second: 2965.7629, train_label_loss: 0.1451, \n"
     ]
    },
    {
     "name": "stdout",
     "output_type": "stream",
     "text": [
      "epoch: 1, [batch: 1260 / 6297], examples_per_second: 2522.8607, train_label_loss: 0.0341, \n"
     ]
    },
    {
     "name": "stdout",
     "output_type": "stream",
     "text": [
      "epoch: 1, [batch: 1889 / 6297], examples_per_second: 2299.8821, train_label_loss: 0.0015, \n"
     ]
    },
    {
     "name": "stdout",
     "output_type": "stream",
     "text": [
      "epoch: 1, [batch: 2519 / 6297], examples_per_second: 2277.3175, train_label_loss: 0.0006, \n"
     ]
    },
    {
     "name": "stdout",
     "output_type": "stream",
     "text": [
      "epoch: 1, [batch: 3149 / 6297], examples_per_second: 2323.3870, train_label_loss: 0.0001, \n"
     ]
    },
    {
     "name": "stdout",
     "output_type": "stream",
     "text": [
      "epoch: 1, [batch: 3778 / 6297], examples_per_second: 2774.7877, train_label_loss: 0.0033, \n"
     ]
    },
    {
     "name": "stdout",
     "output_type": "stream",
     "text": [
      "epoch: 1, [batch: 4408 / 6297], examples_per_second: 2924.4828, train_label_loss: 0.0014, \n"
     ]
    },
    {
     "name": "stdout",
     "output_type": "stream",
     "text": [
      "epoch: 1, [batch: 5037 / 6297], examples_per_second: 3066.6386, train_label_loss: 0.0001, \n"
     ]
    },
    {
     "name": "stdout",
     "output_type": "stream",
     "text": [
      "epoch: 1, [batch: 5667 / 6297], examples_per_second: 2406.3935, train_label_loss: 0.0000, \n"
     ]
    },
    {
     "name": "stdout",
     "output_type": "stream",
     "text": [
      "=============================================================\n",
      "epoch: 1, source_val_acc_label: 0.9981, target_val_acc_label: 0.5023, source_val_label_loss: 0.0099, target_val_label_loss: 1.8294, \n",
      "=============================================================\n"
     ]
    },
    {
     "name": "stdout",
     "output_type": "stream",
     "text": [
      "New best\n"
     ]
    },
    {
     "name": "stdout",
     "output_type": "stream",
     "text": [
      "epoch: 2, [batch: 1 / 6333], examples_per_second: 2.1093, train_label_loss: 0.0013, \n"
     ]
    },
    {
     "name": "stdout",
     "output_type": "stream",
     "text": [
      "epoch: 2, [batch: 634 / 6333], examples_per_second: 2293.8216, train_label_loss: 0.0000, \n"
     ]
    },
    {
     "name": "stdout",
     "output_type": "stream",
     "text": [
      "epoch: 2, [batch: 1267 / 6333], examples_per_second: 2315.3667, train_label_loss: 0.0003, \n"
     ]
    },
    {
     "name": "stdout",
     "output_type": "stream",
     "text": [
      "epoch: 2, [batch: 1900 / 6333], examples_per_second: 2333.9886, train_label_loss: 0.0000, \n"
     ]
    },
    {
     "name": "stdout",
     "output_type": "stream",
     "text": [
      "epoch: 2, [batch: 2533 / 6333], examples_per_second: 2293.1798, train_label_loss: 0.0000, \n"
     ]
    },
    {
     "name": "stdout",
     "output_type": "stream",
     "text": [
      "epoch: 2, [batch: 3167 / 6333], examples_per_second: 2301.9848, train_label_loss: 0.0281, \n"
     ]
    },
    {
     "name": "stdout",
     "output_type": "stream",
     "text": [
      "epoch: 2, [batch: 3800 / 6333], examples_per_second: 2422.9610, train_label_loss: 0.0000, \n"
     ]
    },
    {
     "name": "stdout",
     "output_type": "stream",
     "text": [
      "epoch: 2, [batch: 4433 / 6333], examples_per_second: 2949.6470, train_label_loss: 0.0000, \n"
     ]
    },
    {
     "name": "stdout",
     "output_type": "stream",
     "text": [
      "epoch: 2, [batch: 5066 / 6333], examples_per_second: 2946.2340, train_label_loss: 0.0001, \n"
     ]
    },
    {
     "name": "stdout",
     "output_type": "stream",
     "text": [
      "epoch: 2, [batch: 5699 / 6333], examples_per_second: 2959.0349, train_label_loss: 0.0006, \n"
     ]
    },
    {
     "name": "stdout",
     "output_type": "stream",
     "text": [
      "=============================================================\n",
      "epoch: 2, source_val_acc_label: 0.9990, target_val_acc_label: 0.4938, source_val_label_loss: 0.0118, target_val_label_loss: 1.8109, \n",
      "=============================================================\n"
     ]
    },
    {
     "name": "stdout",
     "output_type": "stream",
     "text": [
      "epoch: 3, [batch: 1 / 6305], examples_per_second: 2.1005, train_label_loss: 0.1548, \n"
     ]
    },
    {
     "name": "stdout",
     "output_type": "stream",
     "text": [
      "epoch: 3, [batch: 631 / 6305], examples_per_second: 2312.3005, train_label_loss: 0.0000, \n"
     ]
    },
    {
     "name": "stdout",
     "output_type": "stream",
     "text": [
      "epoch: 3, [batch: 1261 / 6305], examples_per_second: 2310.7044, train_label_loss: 0.0000, \n"
     ]
    },
    {
     "name": "stdout",
     "output_type": "stream",
     "text": [
      "epoch: 3, [batch: 1892 / 6305], examples_per_second: 2284.3319, train_label_loss: 0.0000, \n"
     ]
    },
    {
     "name": "stdout",
     "output_type": "stream",
     "text": [
      "epoch: 3, [batch: 2522 / 6305], examples_per_second: 2288.5996, train_label_loss: 0.0019, \n"
     ]
    },
    {
     "name": "stdout",
     "output_type": "stream",
     "text": [
      "epoch: 3, [batch: 3153 / 6305], examples_per_second: 2302.9378, train_label_loss: 0.0008, \n"
     ]
    },
    {
     "name": "stdout",
     "output_type": "stream",
     "text": [
      "epoch: 3, [batch: 3783 / 6305], examples_per_second: 2317.6567, train_label_loss: 0.0001, \n"
     ]
    },
    {
     "name": "stdout",
     "output_type": "stream",
     "text": [
      "epoch: 3, [batch: 4413 / 6305], examples_per_second: 2629.6410, train_label_loss: 0.0000, \n"
     ]
    },
    {
     "name": "stdout",
     "output_type": "stream",
     "text": [
      "epoch: 3, [batch: 5044 / 6305], examples_per_second: 2948.7519, train_label_loss: 0.0000, \n"
     ]
    },
    {
     "name": "stdout",
     "output_type": "stream",
     "text": [
      "epoch: 3, [batch: 5674 / 6305], examples_per_second: 2925.9210, train_label_loss: 0.0000, \n"
     ]
    },
    {
     "name": "stdout",
     "output_type": "stream",
     "text": [
      "=============================================================\n",
      "epoch: 3, source_val_acc_label: 0.9985, target_val_acc_label: 0.5096, source_val_label_loss: 0.0139, target_val_label_loss: 1.5156, \n",
      "=============================================================\n"
     ]
    },
    {
     "name": "stdout",
     "output_type": "stream",
     "text": [
      "New best\n"
     ]
    },
    {
     "name": "stdout",
     "output_type": "stream",
     "text": [
      "epoch: 4, [batch: 1 / 6323], examples_per_second: 2.4818, train_label_loss: 0.0000, \n"
     ]
    },
    {
     "name": "stdout",
     "output_type": "stream",
     "text": [
      "epoch: 4, [batch: 633 / 6323], examples_per_second: 2618.8573, train_label_loss: 0.0016, \n"
     ]
    },
    {
     "name": "stdout",
     "output_type": "stream",
     "text": [
      "epoch: 4, [batch: 1265 / 6323], examples_per_second: 2655.0463, train_label_loss: 0.0000, \n"
     ]
    },
    {
     "name": "stdout",
     "output_type": "stream",
     "text": [
      "epoch: 4, [batch: 1897 / 6323], examples_per_second: 2641.9424, train_label_loss: 0.0009, \n"
     ]
    },
    {
     "name": "stdout",
     "output_type": "stream",
     "text": [
      "epoch: 4, [batch: 2529 / 6323], examples_per_second: 2608.6441, train_label_loss: 0.0000, \n"
     ]
    },
    {
     "name": "stdout",
     "output_type": "stream",
     "text": [
      "epoch: 4, [batch: 3162 / 6323], examples_per_second: 2618.7761, train_label_loss: 0.0000, \n"
     ]
    },
    {
     "name": "stdout",
     "output_type": "stream",
     "text": [
      "epoch: 4, [batch: 3794 / 6323], examples_per_second: 2606.9824, train_label_loss: 0.0000, \n"
     ]
    },
    {
     "name": "stdout",
     "output_type": "stream",
     "text": [
      "epoch: 4, [batch: 4426 / 6323], examples_per_second: 2996.7024, train_label_loss: 0.0000, \n"
     ]
    },
    {
     "name": "stdout",
     "output_type": "stream",
     "text": [
      "epoch: 4, [batch: 5058 / 6323], examples_per_second: 3161.0483, train_label_loss: 0.0009, \n"
     ]
    },
    {
     "name": "stdout",
     "output_type": "stream",
     "text": [
      "epoch: 4, [batch: 5690 / 6323], examples_per_second: 3428.9735, train_label_loss: 0.0000, \n"
     ]
    },
    {
     "name": "stdout",
     "output_type": "stream",
     "text": [
      "=============================================================\n",
      "epoch: 4, source_val_acc_label: 0.9992, target_val_acc_label: 0.5031, source_val_label_loss: 0.0081, target_val_label_loss: 1.5908, \n",
      "=============================================================\n"
     ]
    },
    {
     "name": "stdout",
     "output_type": "stream",
     "text": [
      "epoch: 5, [batch: 1 / 6317], examples_per_second: 3.1511, train_label_loss: 0.0000, \n"
     ]
    },
    {
     "name": "stdout",
     "output_type": "stream",
     "text": [
      "epoch: 5, [batch: 632 / 6317], examples_per_second: 3032.8929, train_label_loss: 0.0000, \n"
     ]
    },
    {
     "name": "stdout",
     "output_type": "stream",
     "text": [
      "epoch: 5, [batch: 1264 / 6317], examples_per_second: 3008.8126, train_label_loss: 0.0000, \n"
     ]
    },
    {
     "name": "stdout",
     "output_type": "stream",
     "text": [
      "epoch: 5, [batch: 1895 / 6317], examples_per_second: 2982.8971, train_label_loss: 0.0000, \n"
     ]
    },
    {
     "name": "stdout",
     "output_type": "stream",
     "text": [
      "epoch: 5, [batch: 2527 / 6317], examples_per_second: 3030.2195, train_label_loss: 0.0000, \n"
     ]
    },
    {
     "name": "stdout",
     "output_type": "stream",
     "text": [
      "epoch: 5, [batch: 3159 / 6317], examples_per_second: 2776.7336, train_label_loss: 0.0000, \n"
     ]
    },
    {
     "name": "stdout",
     "output_type": "stream",
     "text": [
      "epoch: 5, [batch: 3790 / 6317], examples_per_second: 2599.8427, train_label_loss: 0.0000, \n"
     ]
    },
    {
     "name": "stdout",
     "output_type": "stream",
     "text": [
      "epoch: 5, [batch: 4422 / 6317], examples_per_second: 2651.3424, train_label_loss: 0.0002, \n"
     ]
    },
    {
     "name": "stdout",
     "output_type": "stream",
     "text": [
      "epoch: 5, [batch: 5053 / 6317], examples_per_second: 2677.2129, train_label_loss: 0.0001, \n"
     ]
    },
    {
     "name": "stdout",
     "output_type": "stream",
     "text": [
      "epoch: 5, [batch: 5685 / 6317], examples_per_second: 2734.6610, train_label_loss: 0.0000, \n"
     ]
    },
    {
     "name": "stdout",
     "output_type": "stream",
     "text": [
      "=============================================================\n",
      "epoch: 5, source_val_acc_label: 0.9993, target_val_acc_label: 0.4359, source_val_label_loss: 0.0070, target_val_label_loss: 1.7294, \n",
      "=============================================================\n"
     ]
    },
    {
     "name": "stdout",
     "output_type": "stream",
     "text": [
      "epoch: 6, [batch: 1 / 6329], examples_per_second: 2.9518, train_label_loss: 0.0000, \n"
     ]
    },
    {
     "name": "stdout",
     "output_type": "stream",
     "text": [
      "epoch: 6, [batch: 633 / 6329], examples_per_second: 2569.9074, train_label_loss: 0.0002, \n"
     ]
    },
    {
     "name": "stdout",
     "output_type": "stream",
     "text": [
      "epoch: 6, [batch: 1266 / 6329], examples_per_second: 2309.4806, train_label_loss: 0.0000, \n"
     ]
    },
    {
     "name": "stdout",
     "output_type": "stream",
     "text": [
      "epoch: 6, [batch: 1899 / 6329], examples_per_second: 2364.7848, train_label_loss: 0.0000, \n"
     ]
    },
    {
     "name": "stdout",
     "output_type": "stream",
     "text": [
      "epoch: 6, [batch: 2532 / 6329], examples_per_second: 2577.5447, train_label_loss: 0.0000, \n"
     ]
    },
    {
     "name": "stdout",
     "output_type": "stream",
     "text": [
      "epoch: 6, [batch: 3165 / 6329], examples_per_second: 2592.0784, train_label_loss: 0.0000, \n"
     ]
    },
    {
     "name": "stdout",
     "output_type": "stream",
     "text": [
      "epoch: 6, [batch: 3797 / 6329], examples_per_second: 2572.1078, train_label_loss: 0.0000, \n"
     ]
    },
    {
     "name": "stdout",
     "output_type": "stream",
     "text": [
      "epoch: 6, [batch: 4430 / 6329], examples_per_second: 2310.0280, train_label_loss: 0.0000, \n"
     ]
    },
    {
     "name": "stdout",
     "output_type": "stream",
     "text": [
      "epoch: 6, [batch: 5063 / 6329], examples_per_second: 2325.1569, train_label_loss: 0.0000, \n"
     ]
    },
    {
     "name": "stdout",
     "output_type": "stream",
     "text": [
      "epoch: 6, [batch: 5696 / 6329], examples_per_second: 2329.7399, train_label_loss: 0.0000, \n"
     ]
    },
    {
     "name": "stdout",
     "output_type": "stream",
     "text": [
      "=============================================================\n",
      "epoch: 6, source_val_acc_label: 0.9995, target_val_acc_label: 0.4802, source_val_label_loss: 0.0083, target_val_label_loss: 1.6213, \n",
      "=============================================================\n"
     ]
    },
    {
     "name": "stdout",
     "output_type": "stream",
     "text": [
      "epoch: 7, [batch: 1 / 6316], examples_per_second: 2.4063, train_label_loss: 0.0000, \n"
     ]
    },
    {
     "name": "stdout",
     "output_type": "stream",
     "text": [
      "epoch: 7, [batch: 632 / 6316], examples_per_second: 2328.3756, train_label_loss: 0.0008, \n"
     ]
    },
    {
     "name": "stdout",
     "output_type": "stream",
     "text": [
      "epoch: 7, [batch: 1264 / 6316], examples_per_second: 2335.9636, train_label_loss: 0.0000, \n"
     ]
    },
    {
     "name": "stdout",
     "output_type": "stream",
     "text": [
      "epoch: 7, [batch: 1895 / 6316], examples_per_second: 2354.2971, train_label_loss: 0.0000, \n"
     ]
    },
    {
     "name": "stdout",
     "output_type": "stream",
     "text": [
      "epoch: 7, [batch: 2527 / 6316], examples_per_second: 2422.8622, train_label_loss: 0.0210, \n"
     ]
    },
    {
     "name": "stdout",
     "output_type": "stream",
     "text": [
      "epoch: 7, [batch: 3158 / 6316], examples_per_second: 2635.8115, train_label_loss: 0.3969, \n"
     ]
    },
    {
     "name": "stdout",
     "output_type": "stream",
     "text": [
      "epoch: 7, [batch: 3790 / 6316], examples_per_second: 2705.1634, train_label_loss: 0.0000, \n"
     ]
    },
    {
     "name": "stdout",
     "output_type": "stream",
     "text": [
      "epoch: 7, [batch: 4421 / 6316], examples_per_second: 2619.0181, train_label_loss: 0.0000, \n"
     ]
    },
    {
     "name": "stdout",
     "output_type": "stream",
     "text": [
      "epoch: 7, [batch: 5053 / 6316], examples_per_second: 2334.6176, train_label_loss: 0.0000, \n"
     ]
    },
    {
     "name": "stdout",
     "output_type": "stream",
     "text": [
      "epoch: 7, [batch: 5684 / 6316], examples_per_second: 2324.6882, train_label_loss: 0.0004, \n"
     ]
    },
    {
     "name": "stdout",
     "output_type": "stream",
     "text": [
      "=============================================================\n",
      "epoch: 7, source_val_acc_label: 0.9991, target_val_acc_label: 0.4429, source_val_label_loss: 0.0125, target_val_label_loss: 1.6521, \n",
      "=============================================================\n"
     ]
    },
    {
     "name": "stdout",
     "output_type": "stream",
     "text": [
      "Patience (3) exhausted\n"
     ]
    }
   ],
   "source": [
    "###################################\n",
    "# train\n",
    "###################################\n",
    "jig = PTN_Train_Eval_Test_Jig(model, p.BEST_MODEL_PATH, p.device)\n",
    "\n",
    "jig.train(\n",
    "    train_iterable=datasets.source.processed.train,\n",
    "    source_val_iterable=datasets.source.processed.val,\n",
    "    target_val_iterable=datasets.target.processed.val,\n",
    "    num_epochs=p.n_epoch,\n",
    "    num_logs_per_epoch=p.NUM_LOGS_PER_EPOCH,\n",
    "    patience=p.patience,\n",
    "    optimizer=optimizer,\n",
    "    criteria_for_best=p.criteria_for_best,\n",
    ")"
   ]
  },
  {
   "cell_type": "code",
   "execution_count": 23,
   "id": "31e8fabf",
   "metadata": {
    "execution": {
     "iopub.execute_input": "2022-03-21T10:41:38.903679Z",
     "iopub.status.busy": "2022-03-21T10:41:38.903297Z",
     "iopub.status.idle": "2022-03-21T10:41:38.934200Z",
     "shell.execute_reply": "2022-03-21T10:41:38.933490Z"
    },
    "papermill": {
     "duration": 0.080798,
     "end_time": "2022-03-21T10:41:38.934366",
     "exception": false,
     "start_time": "2022-03-21T10:41:38.853568",
     "status": "completed"
    },
    "tags": []
   },
   "outputs": [],
   "source": [
    "total_experiment_time_secs = time.time() - start_time_secs"
   ]
  },
  {
   "cell_type": "code",
   "execution_count": 24,
   "id": "87b9595b",
   "metadata": {
    "execution": {
     "iopub.execute_input": "2022-03-21T10:41:39.047879Z",
     "iopub.status.busy": "2022-03-21T10:41:39.047464Z",
     "iopub.status.idle": "2022-03-21T10:45:59.140638Z",
     "shell.execute_reply": "2022-03-21T10:45:59.141304Z"
    },
    "papermill": {
     "duration": 260.156789,
     "end_time": "2022-03-21T10:45:59.141521",
     "exception": false,
     "start_time": "2022-03-21T10:41:38.984732",
     "status": "completed"
    },
    "tags": []
   },
   "outputs": [],
   "source": [
    "###################################\n",
    "# Evaluate the model\n",
    "###################################\n",
    "source_test_label_accuracy, source_test_label_loss = jig.test(datasets.source.processed.test)\n",
    "target_test_label_accuracy, target_test_label_loss = jig.test(datasets.target.processed.test)\n",
    "\n",
    "source_val_label_accuracy, source_val_label_loss = jig.test(datasets.source.processed.val)\n",
    "target_val_label_accuracy, target_val_label_loss = jig.test(datasets.target.processed.val)\n",
    "\n",
    "history = jig.get_history()\n",
    "\n",
    "total_epochs_trained = len(history[\"epoch_indices\"])\n",
    "\n",
    "val_dl = Iterable_Aggregator((datasets.source.original.val,datasets.target.original.val))\n",
    "\n",
    "confusion = ptn_confusion_by_domain_over_dataloader(model, p.device, val_dl)\n",
    "per_domain_accuracy = per_domain_accuracy_from_confusion(confusion)\n",
    "\n",
    "# Add a key to per_domain_accuracy for if it was a source domain\n",
    "for domain, accuracy in per_domain_accuracy.items():\n",
    "    per_domain_accuracy[domain] = {\n",
    "        \"accuracy\": accuracy,\n",
    "        \"source?\": domain in p.domains_source\n",
    "    }\n",
    "\n",
    "# Do an independent accuracy assesment JUST TO BE SURE!\n",
    "# _source_test_label_accuracy = independent_accuracy_assesment(model, datasets.source.processed.test, p.device)\n",
    "# _target_test_label_accuracy = independent_accuracy_assesment(model, datasets.target.processed.test, p.device)\n",
    "# _source_val_label_accuracy = independent_accuracy_assesment(model, datasets.source.processed.val, p.device)\n",
    "# _target_val_label_accuracy = independent_accuracy_assesment(model, datasets.target.processed.val, p.device)\n",
    "\n",
    "# assert(_source_test_label_accuracy == source_test_label_accuracy)\n",
    "# assert(_target_test_label_accuracy == target_test_label_accuracy)\n",
    "# assert(_source_val_label_accuracy == source_val_label_accuracy)\n",
    "# assert(_target_val_label_accuracy == target_val_label_accuracy)\n",
    "\n",
    "experiment = {\n",
    "    \"experiment_name\": p.experiment_name,\n",
    "    \"parameters\": dict(p),\n",
    "    \"results\": {\n",
    "        \"source_test_label_accuracy\": source_test_label_accuracy,\n",
    "        \"source_test_label_loss\": source_test_label_loss,\n",
    "        \"target_test_label_accuracy\": target_test_label_accuracy,\n",
    "        \"target_test_label_loss\": target_test_label_loss,\n",
    "        \"source_val_label_accuracy\": source_val_label_accuracy,\n",
    "        \"source_val_label_loss\": source_val_label_loss,\n",
    "        \"target_val_label_accuracy\": target_val_label_accuracy,\n",
    "        \"target_val_label_loss\": target_val_label_loss,\n",
    "        \"total_epochs_trained\": total_epochs_trained,\n",
    "        \"total_experiment_time_secs\": total_experiment_time_secs,\n",
    "        \"confusion\": confusion,\n",
    "        \"per_domain_accuracy\": per_domain_accuracy,\n",
    "    },\n",
    "    \"history\": history,\n",
    "    \"dataset_metrics\": get_dataset_metrics(datasets, \"ptn\"),\n",
    "}"
   ]
  },
  {
   "cell_type": "code",
   "execution_count": 25,
   "id": "54a21829",
   "metadata": {
    "execution": {
     "iopub.execute_input": "2022-03-21T10:45:59.235836Z",
     "iopub.status.busy": "2022-03-21T10:45:59.235440Z",
     "iopub.status.idle": "2022-03-21T10:45:59.473626Z",
     "shell.execute_reply": "2022-03-21T10:45:59.474309Z"
    },
    "papermill": {
     "duration": 0.285561,
     "end_time": "2022-03-21T10:45:59.474519",
     "exception": false,
     "start_time": "2022-03-21T10:45:59.188958",
     "status": "completed"
    },
    "tags": []
   },
   "outputs": [
    {
     "data": {
      "image/png": "[encoded data removed]",
      "text/plain": [
       "<Figure size 1080x504 with 1 Axes>"
      ]
     },
     "metadata": {
      "needs_background": "light"
     },
     "output_type": "display_data"
    }
   ],
   "source": [
    "ax = get_loss_curve(experiment)\n",
    "plt.show()"
   ]
  },
  {
   "cell_type": "code",
   "execution_count": 26,
   "id": "fd8a0f60",
   "metadata": {
    "execution": {
     "iopub.execute_input": "2022-03-21T10:45:59.570881Z",
     "iopub.status.busy": "2022-03-21T10:45:59.570254Z",
     "iopub.status.idle": "2022-03-21T10:45:59.890025Z",
     "shell.execute_reply": "2022-03-21T10:45:59.890699Z"
    },
    "papermill": {
     "duration": 0.36972,
     "end_time": "2022-03-21T10:45:59.890933",
     "exception": false,
     "start_time": "2022-03-21T10:45:59.521213",
     "status": "completed"
    },
    "tags": []
   },
   "outputs": [
    {
     "data": {
      "text/plain": [
       "<AxesSubplot:title={'center':'Results'}>"
      ]
     },
     "execution_count": 26,
     "metadata": {},
     "output_type": "execute_result"
    },
    {
     "data": {
      "image/png": "[encoded data removed]",
      "text/plain": [
       "<Figure size 1080x504 with 1 Axes>"
      ]
     },
     "metadata": {
      "needs_background": "light"
     },
     "output_type": "display_data"
    }
   ],
   "source": [
    "get_results_table(experiment)"
   ]
  },
  {
   "cell_type": "code",
   "execution_count": 27,
   "id": "cf8dc689",
   "metadata": {
    "execution": {
     "iopub.execute_input": "2022-03-21T10:45:59.991337Z",
     "iopub.status.busy": "2022-03-21T10:45:59.990964Z",
     "iopub.status.idle": "2022-03-21T10:46:00.271341Z",
     "shell.execute_reply": "2022-03-21T10:46:00.270759Z"
    },
    "papermill": {
     "duration": 0.331883,
     "end_time": "2022-03-21T10:46:00.271461",
     "exception": false,
     "start_time": "2022-03-21T10:45:59.939578",
     "status": "completed"
    },
    "tags": []
   },
   "outputs": [
    {
     "data": {
      "text/plain": [
       "<AxesSubplot:title={'center':'Per Domain Validation Accuracy'}, xlabel='domain'>"
      ]
     },
     "execution_count": 27,
     "metadata": {},
     "output_type": "execute_result"
    },
    {
     "data": {
      "image/png": "[encoded data removed]",
      "text/plain": [
       "<Figure size 1080x504 with 1 Axes>"
      ]
     },
     "metadata": {
      "needs_background": "light"
     },
     "output_type": "display_data"
    }
   ],
   "source": [
    "get_domain_accuracies(experiment)"
   ]
  },
  {
   "cell_type": "code",
   "execution_count": 28,
   "id": "a74ae082",
   "metadata": {
    "execution": {
     "iopub.execute_input": "2022-03-21T10:46:00.376049Z",
     "iopub.status.busy": "2022-03-21T10:46:00.375673Z",
     "iopub.status.idle": "2022-03-21T10:46:00.402434Z",
     "shell.execute_reply": "2022-03-21T10:46:00.401924Z"
    },
    "papermill": {
     "duration": 0.07986,
     "end_time": "2022-03-21T10:46:00.402540",
     "exception": false,
     "start_time": "2022-03-21T10:46:00.322680",
     "status": "completed"
    },
    "tags": []
   },
   "outputs": [
    {
     "name": "stdout",
     "output_type": "stream",
     "text": [
      "Source Test Label Accuracy: 0.9984252519596865 Target Test Label Accuracy: 0.5067708333333333\n",
      "Source Val Label Accuracy: 0.9984982837528604 Target Val Label Accuracy: 0.5095703125\n"
     ]
    }
   ],
   "source": [
    "print(\"Source Test Label Accuracy:\", experiment[\"results\"][\"source_test_label_accuracy\"], \"Target Test Label Accuracy:\", experiment[\"results\"][\"target_test_label_accuracy\"])\n",
    "print(\"Source Val Label Accuracy:\", experiment[\"results\"][\"source_val_label_accuracy\"], \"Target Val Label Accuracy:\", experiment[\"results\"][\"target_val_label_accuracy\"])"
   ]
  },
  {
   "cell_type": "code",
   "execution_count": 29,
   "id": "dacca602",
   "metadata": {
    "execution": {
     "iopub.execute_input": "2022-03-21T10:46:00.506594Z",
     "iopub.status.busy": "2022-03-21T10:46:00.506037Z",
     "iopub.status.idle": "2022-03-21T10:46:00.532719Z",
     "shell.execute_reply": "2022-03-21T10:46:00.532234Z"
    },
    "papermill": {
     "duration": 0.078747,
     "end_time": "2022-03-21T10:46:00.532826",
     "exception": false,
     "start_time": "2022-03-21T10:46:00.454079",
     "status": "completed"
    },
    "tags": [
     "experiment_json"
    ]
   },
   "outputs": [
    {
     "data": {
      "text/plain": [
       "'{\"experiment_name\": \"tl_1v2:cores-oracle.run1.framed\", \"parameters\": {\"experiment_name\": \"tl_1v2:cores-oracle.run1.framed\", \"device\": \"cuda\", \"lr\": 0.0001, \"n_shot\": 3, \"n_query\": 2, \"train_k_factor\": 3, \"val_k_factor\": 2, \"test_k_factor\": 2, \"torch_default_dtype\": \"torch.float32\", \"n_epoch\": 50, \"patience\": 3, \"criteria_for_best\": \"target_accuracy\", \"x_net\": [{\"class\": \"nnReshape\", \"kargs\": {\"shape\": [-1, 1, 2, 256]}}, {\"class\": \"Conv2d\", \"kargs\": {\"in_channels\": 1, \"out_channels\": 256, \"kernel_size\": [1, 7], \"bias\": false, \"padding\": [0, 3]}}, {\"class\": \"ReLU\", \"kargs\": {\"inplace\": true}}, {\"class\": \"BatchNorm2d\", \"kargs\": {\"num_features\": 256}}, {\"class\": \"Conv2d\", \"kargs\": {\"in_channels\": 256, \"out_channels\": 80, \"kernel_size\": [2, 7], \"bias\": true, \"padding\": [0, 3]}}, {\"class\": \"ReLU\", \"kargs\": {\"inplace\": true}}, {\"class\": \"BatchNorm2d\", \"kargs\": {\"num_features\": 80}}, {\"class\": \"Flatten\", \"kargs\": {}}, {\"class\": \"Linear\", \"kargs\": {\"in_features\": 20480, \"out_features\": 256}}, {\"class\": \"ReLU\", \"kargs\": {\"inplace\": true}}, {\"class\": \"BatchNorm1d\", \"kargs\": {\"num_features\": 256}}, {\"class\": \"Linear\", \"kargs\": {\"in_features\": 256, \"out_features\": 256}}], \"NUM_LOGS_PER_EPOCH\": 10, \"BEST_MODEL_PATH\": \"./best_model.pth\", \"n_way\": 16, \"datasets\": [{\"labels\": [\"1-10.\", \"1-11.\", \"1-15.\", \"1-16.\", \"1-17.\", \"1-18.\", \"1-19.\", \"10-4.\", \"10-7.\", \"11-1.\", \"11-14.\", \"11-17.\", \"11-20.\", \"11-7.\", \"13-20.\", \"13-8.\", \"14-10.\", \"14-11.\", \"14-14.\", \"14-7.\", \"15-1.\", \"15-20.\", \"16-1.\", \"16-16.\", \"17-10.\", \"17-11.\", \"17-2.\", \"19-1.\", \"19-16.\", \"19-19.\", \"19-20.\", \"19-3.\", \"2-10.\", \"2-11.\", \"2-17.\", \"2-18.\", \"2-20.\", \"2-3.\", \"2-4.\", \"2-5.\", \"2-6.\", \"2-7.\", \"2-8.\", \"3-13.\", \"3-18.\", \"3-3.\", \"4-1.\", \"4-10.\", \"4-11.\", \"4-19.\", \"5-5.\", \"6-15.\", \"7-10.\", \"7-14.\", \"8-18.\", \"8-20.\", \"8-3.\", \"8-8.\"], \"domains\": [1, 2, 3, 4, 5], \"num_examples_per_domain_per_label\": -1, \"pickle_path\": \"/root/csc500-main/datasets/cores.stratified_ds.2022A.pkl\", \"source_or_target_dataset\": \"source\", \"x_transforms\": [], \"episode_transforms\": [], \"domain_prefix\": \"CORES_\"}, {\"labels\": [\"3123D52\", \"3123D65\", \"3123D79\", \"3123D80\", \"3123D54\", \"3123D70\", \"3123D7B\", \"3123D89\", \"3123D58\", \"3123D76\", \"3123D7D\", \"3123EFE\", \"3123D64\", \"3123D78\", \"3123D7E\", \"3124E4A\"], \"domains\": [32, 38, 8, 44, 14, 50, 20, 26], \"num_examples_per_domain_per_label\": 2000, \"pickle_path\": \"/root/csc500-main/datasets/oracle.Run1_framed_2000Examples_stratified_ds.2022A.pkl\", \"source_or_target_dataset\": \"target\", \"x_transforms\": [], \"episode_transforms\": [], \"domain_prefix\": \"ORACLE.run1_\"}], \"dataset_seed\": 154325, \"seed\": 154325, \"x_shape\": [2, 256], \"domains_source\": [\"CORES_1\", \"CORES_2\", \"CORES_3\", \"CORES_4\", \"CORES_5\"], \"domains_target\": [\"ORACLE.run1_32\", \"ORACLE.run1_38\", \"ORACLE.run1_8\", \"ORACLE.run1_44\", \"ORACLE.run1_14\", \"ORACLE.run1_50\", \"ORACLE.run1_20\", \"ORACLE.run1_26\"]}, \"results\": {\"source_test_label_accuracy\": 0.9984252519596865, \"source_test_label_loss\": 0.012514517642557621, \"target_test_label_accuracy\": 0.5067708333333333, \"target_test_label_loss\": 1.520123839378357, \"source_val_label_accuracy\": 0.9984982837528604, \"source_val_label_loss\": 0.013853458687663078, \"target_val_label_accuracy\": 0.5095703125, \"target_val_label_loss\": 1.5156047344207764, \"total_epochs_trained\": 7, \"total_experiment_time_secs\": 1718.4686748981476, \"confusion\": {\"CORES_2\": {\"21\": {\"21\": 120}, \"4\": {\"4\": 130}, \"6\": {\"6\": 124}, \"10\": {\"10\": 112}, \"33\": {\"33\": 28}, \"56\": {\"56\": 121, \"22\": 1}, \"20\": {\"20\": 132}, \"24\": {\"24\": 96}, \"45\": {\"45\": 128}, \"32\": {\"32\": 28}, \"27\": {\"32\": 1, \"27\": 147}, \"53\": {\"53\": 136}, \"8\": {\"8\": 160}, \"54\": {\"54\": 108}, \"50\": {\"50\": 134}, \"44\": {\"44\": 100}, \"5\": {\"5\": 119, \"3\": 1}, \"38\": {\"38\": 20}, \"19\": {\"19\": 132}, \"1\": {\"1\": 112}, \"30\": {\"30\": 144}, \"15\": {\"15\": 144}, \"23\": {\"23\": 146}, \"35\": {\"35\": 32}, \"22\": {\"22\": 128}, \"40\": {\"40\": 140}, \"46\": {\"46\": 126}, \"3\": {\"3\": 92}, \"48\": {\"48\": 148}, \"52\": {\"52\": 124}, \"2\": {\"2\": 32}, \"26\": {\"26\": 24}, \"17\": {\"17\": 104}, \"55\": {\"55\": 144}, \"51\": {\"51\": 122}, \"42\": {\"42\": 36}, \"41\": {\"41\": 19, \"29\": 1}, \"31\": {\"31\": 28}, \"16\": {\"16\": 138}, \"36\": {\"36\": 116}, \"49\": {\"49\": 24}, \"0\": {\"0\": 48}, \"18\": {\"18\": 48}, \"25\": {\"25\": 146}, \"9\": {\"9\": 122}, \"47\": {\"47\": 132}, \"7\": {\"7\": 36}, \"37\": {\"37\": 36}, \"13\": {\"13\": 116}, \"14\": {\"14\": 24}, \"34\": {\"34\": 28}, \"57\": {\"57\": 140}, \"11\": {\"11\": 137, \"15\": 1}, \"39\": {\"39\": 28}, \"12\": {\"12\": 92}, \"28\": {\"28\": 28}, \"29\": {\"29\": 127, \"2\": 1}, \"43\": {\"43\": 140}}, \"CORES_5\": {\"12\": {\"12\": 96}, \"8\": {\"8\": 142}, \"29\": {\"29\": 132}, \"57\": {\"57\": 125, \"29\": 1}, \"38\": {\"38\": 32}, \"23\": {\"23\": 124}, \"56\": {\"56\": 138}, \"49\": {\"49\": 36}, \"4\": {\"4\": 100}, \"48\": {\"48\": 136}, \"21\": {\"21\": 144}, \"30\": {\"30\": 128}, \"1\": {\"1\": 148}, \"34\": {\"34\": 36}, \"35\": {\"35\": 36}, \"55\": {\"55\": 152}, \"5\": {\"5\": 122}, \"52\": {\"52\": 126}, \"6\": {\"6\": 125, \"50\": 3}, \"36\": {\"36\": 92}, \"41\": {\"41\": 28}, \"3\": {\"3\": 100}, \"28\": {\"28\": 32}, \"18\": {\"18\": 64}, \"25\": {\"25\": 136}, \"47\": {\"47\": 100}, \"13\": {\"13\": 160}, \"11\": {\"11\": 144}, \"53\": {\"53\": 143, \"17\": 1}, \"33\": {\"33\": 32}, \"46\": {\"46\": 148}, \"50\": {\"50\": 148}, \"10\": {\"10\": 68}, \"15\": {\"15\": 134, \"11\": 4}, \"44\": {\"44\": 140}, \"2\": {\"2\": 28}, \"7\": {\"7\": 32}, \"43\": {\"43\": 138}, \"32\": {\"32\": 32}, \"0\": {\"0\": 124}, \"39\": {\"39\": 20}, \"26\": {\"26\": 24}, \"27\": {\"27\": 112}, \"54\": {\"54\": 112}, \"17\": {\"17\": 116}, \"14\": {\"14\": 43, \"43\": 1}, \"16\": {\"16\": 148}, \"9\": {\"9\": 147, \"30\": 1}, \"19\": {\"19\": 152}, \"20\": {\"20\": 138}, \"37\": {\"37\": 24}, \"24\": {\"24\": 80}, \"40\": {\"40\": 122}, \"45\": {\"45\": 124}, \"22\": {\"22\": 28}, \"42\": {\"42\": 38, \"47\": 1, \"2\": 1}, \"51\": {\"51\": 118}, \"31\": {\"31\": 36}}, \"CORES_1\": {\"27\": {\"27\": 142}, \"2\": {\"2\": 36}, \"33\": {\"33\": 32}, \"45\": {\"45\": 156}, \"38\": {\"38\": 23, \"36\": 1}, \"4\": {\"4\": 132}, \"31\": {\"31\": 28}, \"55\": {\"55\": 140}, \"32\": {\"32\": 32}, \"57\": {\"57\": 140}, \"14\": {\"14\": 23, \"30\": 1}, \"16\": {\"16\": 140}, \"34\": {\"34\": 24}, \"56\": {\"56\": 126}, \"24\": {\"24\": 108}, \"30\": {\"30\": 112}, \"17\": {\"17\": 64}, \"13\": {\"13\": 138}, \"39\": {\"39\": 28}, \"50\": {\"50\": 146}, \"20\": {\"20\": 138, \"24\": 1, \"12\": 1}, \"41\": {\"41\": 24}, \"53\": {\"53\": 126}, \"48\": {\"48\": 142}, \"36\": {\"36\": 64}, \"8\": {\"8\": 140}, \"15\": {\"15\": 132}, \"40\": {\"40\": 156}, \"37\": {\"37\": 32}, \"21\": {\"21\": 120}, \"35\": {\"35\": 36}, \"49\": {\"49\": 32}, \"26\": {\"26\": 24}, \"28\": {\"28\": 28}, \"12\": {\"12\": 116}, \"5\": {\"5\": 152}, \"29\": {\"29\": 140}, \"47\": {\"47\": 140}, \"10\": {\"10\": 96}, \"18\": {\"18\": 71, \"50\": 1}, \"9\": {\"9\": 126}, \"3\": {\"3\": 140}, \"52\": {\"52\": 132}, \"25\": {\"25\": 136}, \"19\": {\"19\": 156}, \"11\": {\"11\": 136}, \"7\": {\"7\": 28}, \"23\": {\"23\": 136}, \"44\": {\"44\": 132}, \"42\": {\"42\": 40}, \"54\": {\"54\": 104}, \"1\": {\"1\": 100}, \"46\": {\"46\": 128}, \"6\": {\"6\": 96}, \"43\": {\"43\": 144}, \"51\": {\"51\": 142}, \"22\": {\"22\": 136}, \"0\": {\"0\": 128}}, \"CORES_4\": {\"32\": {\"32\": 24}, \"2\": {\"2\": 36}, \"41\": {\"41\": 34, \"39\": 2}, \"11\": {\"11\": 102}, \"57\": {\"57\": 100}, \"6\": {\"6\": 109, \"3\": 2, \"46\": 1}, \"23\": {\"23\": 136}, \"52\": {\"52\": 116}, \"38\": {\"38\": 40}, \"50\": {\"50\": 132}, \"55\": {\"55\": 152}, \"46\": {\"46\": 154}, \"37\": {\"37\": 24}, \"20\": {\"20\": 118}, \"49\": {\"49\": 20}, \"45\": {\"45\": 96}, \"54\": {\"54\": 108}, \"3\": {\"3\": 121, \"50\": 2, \"6\": 1}, \"13\": {\"13\": 152}, \"18\": {\"18\": 108}, \"21\": {\"21\": 126}, \"43\": {\"43\": 144}, \"47\": {\"47\": 120}, \"4\": {\"4\": 132}, \"12\": {\"12\": 92}, \"9\": {\"9\": 127, \"27\": 1}, \"7\": {\"7\": 24}, \"56\": {\"56\": 111, \"46\": 1}, \"28\": {\"28\": 32}, \"44\": {\"44\": 132}, \"24\": {\"24\": 56}, \"33\": {\"33\": 36}, \"35\": {\"35\": 40}, \"51\": {\"51\": 138}, \"39\": {\"39\": 20}, \"36\": {\"36\": 91, \"53\": 1}, \"19\": {\"19\": 140}, \"0\": {\"0\": 80}, \"15\": {\"15\": 136}, \"29\": {\"29\": 124}, \"30\": {\"30\": 44}, \"1\": {\"1\": 40}, \"22\": {\"22\": 128}, \"40\": {\"40\": 145, \"44\": 1}, \"8\": {\"8\": 128}, \"53\": {\"53\": 138}, \"34\": {\"34\": 24}, \"10\": {\"10\": 122}, \"31\": {\"31\": 28}, \"17\": {\"17\": 80}, \"16\": {\"16\": 96}, \"42\": {\"42\": 32}, \"27\": {\"27\": 142}, \"14\": {\"14\": 16}, \"25\": {\"25\": 122}, \"48\": {\"48\": 132}, \"26\": {\"26\": 24}, \"5\": {\"5\": 108}}, \"CORES_3\": {\"14\": {\"14\": 40}, \"18\": {\"18\": 84}, \"30\": {\"30\": 120}, \"16\": {\"16\": 156}, \"1\": {\"1\": 100}, \"20\": {\"20\": 132}, \"7\": {\"7\": 36}, \"52\": {\"52\": 130}, \"9\": {\"9\": 140}, \"23\": {\"23\": 144}, \"55\": {\"55\": 164}, \"29\": {\"29\": 126}, \"56\": {\"56\": 134}, \"3\": {\"3\": 123, \"50\": 1}, \"42\": {\"42\": 28}, \"6\": {\"6\": 88}, \"5\": {\"5\": 116}, \"27\": {\"27\": 144}, \"47\": {\"47\": 91, \"1\": 1}, \"39\": {\"39\": 16}, \"34\": {\"34\": 30, \"23\": 2}, \"4\": {\"4\": 126}, \"24\": {\"24\": 104}, \"46\": {\"46\": 118}, \"50\": {\"50\": 125, \"3\": 1}, \"38\": {\"38\": 28}, \"54\": {\"54\": 100}, \"35\": {\"35\": 28}, \"2\": {\"2\": 32}, \"41\": {\"41\": 28}, \"57\": {\"57\": 118}, \"25\": {\"25\": 150}, \"48\": {\"48\": 116}, \"33\": {\"33\": 28}, \"45\": {\"45\": 60}, \"13\": {\"13\": 126}, \"36\": {\"36\": 100}, \"43\": {\"43\": 132}, \"28\": {\"28\": 28}, \"0\": {\"0\": 124}, \"12\": {\"12\": 92}, \"31\": {\"31\": 28}, \"40\": {\"40\": 116}, \"44\": {\"44\": 88}, \"32\": {\"32\": 28}, \"26\": {\"26\": 24}, \"8\": {\"8\": 116}, \"10\": {\"10\": 64}, \"15\": {\"15\": 142}, \"21\": {\"21\": 128}, \"37\": {\"37\": 28}, \"17\": {\"17\": 107, \"2\": 1}, \"51\": {\"51\": 124}, \"53\": {\"53\": 144}, \"19\": {\"19\": 136}, \"49\": {\"49\": 20}, \"11\": {\"11\": 138}, \"22\": {\"22\": 130}}, \"ORACLE.run1_8\": {\"13\": {\"5\": 46, \"7\": 37, \"10\": 58, \"13\": 87, \"1\": 9, \"6\": 3}, \"9\": {\"9\": 224, \"3\": 16}, \"15\": {\"12\": 77, \"15\": 128, \"2\": 35}, \"2\": {\"2\": 130, \"12\": 21, \"15\": 52, \"13\": 1, \"3\": 35, \"5\": 1}, \"3\": {\"3\": 230, \"2\": 4, \"9\": 6}, \"8\": {\"4\": 54, \"8\": 82, \"11\": 52, \"14\": 22, \"1\": 14, \"5\": 1, \"6\": 14, \"7\": 1}, \"5\": {\"11\": 17, \"5\": 50, \"10\": 46, \"13\": 55, \"6\": 17, \"1\": 23, \"7\": 18, \"4\": 7, \"12\": 7}, \"14\": {\"4\": 43, \"14\": 163, \"8\": 28, \"11\": 6}, \"1\": {\"13\": 8, \"1\": 72, \"7\": 25, \"5\": 23, \"6\": 33, \"11\": 37, \"10\": 29, \"8\": 7, \"4\": 6}, \"0\": {\"0\": 240}, \"10\": {\"10\": 58, \"7\": 42, \"6\": 24, \"13\": 47, \"5\": 36, \"1\": 27, \"4\": 3, \"11\": 3}, \"6\": {\"1\": 38, \"6\": 81, \"7\": 54, \"10\": 15, \"11\": 24, \"5\": 10, \"8\": 5, \"13\": 3, \"4\": 10}, \"11\": {\"1\": 48, \"6\": 26, \"11\": 66, \"4\": 29, \"10\": 9, \"5\": 13, \"8\": 35, \"14\": 7, \"7\": 7}, \"7\": {\"6\": 59, \"1\": 29, \"7\": 77, \"5\": 19, \"10\": 35, \"13\": 18, \"11\": 2, \"4\": 1}, \"4\": {\"8\": 60, \"14\": 27, \"11\": 37, \"4\": 110, \"1\": 3, \"6\": 3}, \"12\": {\"15\": 76, \"12\": 159, \"2\": 5}}, \"ORACLE.run1_38\": {\"13\": {\"13\": 156, \"0\": 59, \"2\": 4, \"4\": 4, \"10\": 11, \"14\": 4, \"7\": 2}, \"12\": {\"12\": 217, \"8\": 12, \"5\": 8, \"15\": 3}, \"2\": {\"2\": 125, \"14\": 40, \"7\": 59, \"9\": 6, \"8\": 9, \"5\": 1}, \"9\": {\"9\": 186, \"8\": 21, \"7\": 7, \"5\": 19, \"2\": 7}, \"15\": {\"1\": 7, \"15\": 191, \"6\": 2, \"8\": 10, \"5\": 24, \"12\": 5, \"9\": 1}, \"5\": {\"5\": 76, \"2\": 12, \"7\": 13, \"8\": 59, \"9\": 40, \"15\": 28, \"12\": 9, \"14\": 3}, \"14\": {\"14\": 170, \"2\": 31, \"7\": 20, \"4\": 15, \"0\": 2, \"13\": 2}, \"0\": {\"2\": 7, \"0\": 62, \"13\": 66, \"7\": 12, \"10\": 71, \"3\": 6, \"14\": 6, \"4\": 9, \"5\": 1}, \"3\": {\"3\": 240}, \"1\": {\"6\": 111, \"1\": 128, \"15\": 1}, \"11\": {\"11\": 240}, \"7\": {\"7\": 111, \"2\": 78, \"14\": 40, \"9\": 2, \"8\": 4, \"5\": 3, \"0\": 1, \"13\": 1}, \"8\": {\"7\": 32, \"2\": 21, \"15\": 28, \"8\": 51, \"5\": 63, \"12\": 21, \"9\": 21, \"14\": 3}, \"4\": {\"4\": 229, \"10\": 6, \"13\": 2, \"0\": 2, \"14\": 1}, \"10\": {\"10\": 189, \"0\": 37, \"4\": 8, \"13\": 4, \"3\": 2}, \"6\": {\"6\": 128, \"1\": 112}}, \"ORACLE.run1_26\": {\"10\": {\"5\": 3, \"0\": 39, \"10\": 84, \"15\": 31, \"6\": 16, \"14\": 57, \"1\": 8, \"2\": 2}, \"12\": {\"12\": 109, \"9\": 44, \"3\": 23, \"8\": 21, \"13\": 8, \"7\": 25, \"2\": 10}, \"1\": {\"15\": 21, \"6\": 45, \"14\": 13, \"1\": 112, \"11\": 17, \"10\": 12, \"5\": 20}, \"0\": {\"0\": 108, \"8\": 11, \"15\": 9, \"1\": 5, \"10\": 43, \"14\": 32, \"2\": 26, \"6\": 5, \"7\": 1}, \"15\": {\"14\": 23, \"10\": 22, \"0\": 13, \"15\": 68, \"5\": 39, \"1\": 32, \"6\": 42, \"11\": 1}, \"13\": {\"13\": 104, \"12\": 22, \"4\": 17, \"3\": 61, \"7\": 5, \"9\": 22, \"8\": 4, \"2\": 5}, \"8\": {\"2\": 45, \"8\": 77, \"3\": 8, \"0\": 20, \"9\": 24, \"7\": 43, \"12\": 22, \"10\": 1}, \"3\": {\"12\": 25, \"9\": 29, \"13\": 75, \"3\": 80, \"7\": 21, \"8\": 6, \"4\": 1, \"2\": 3}, \"11\": {\"11\": 143, \"5\": 39, \"1\": 23, \"6\": 20, \"15\": 15}, \"4\": {\"4\": 217, \"13\": 12, \"7\": 1, \"12\": 3, \"3\": 7}, \"6\": {\"15\": 56, \"1\": 50, \"14\": 18, \"5\": 42, \"6\": 59, \"10\": 12, \"11\": 3}, \"7\": {\"8\": 52, \"7\": 68, \"3\": 23, \"9\": 37, \"2\": 24, \"13\": 10, \"12\": 25, \"0\": 1}, \"14\": {\"1\": 22, \"10\": 78, \"15\": 23, \"0\": 26, \"14\": 71, \"5\": 3, \"6\": 17}, \"2\": {\"7\": 45, \"2\": 66, \"0\": 25, \"9\": 32, \"8\": 44, \"12\": 11, \"3\": 9, \"13\": 7, \"10\": 1}, \"5\": {\"5\": 105, \"15\": 59, \"1\": 22, \"11\": 16, \"6\": 31, \"14\": 2, \"10\": 4, \"0\": 1}, \"9\": {\"8\": 27, \"9\": 50, \"7\": 27, \"13\": 31, \"2\": 34, \"3\": 37, \"12\": 31, \"0\": 3}}, \"ORACLE.run1_20\": {\"5\": {\"8\": 22, \"3\": 40, \"14\": 45, \"7\": 8, \"9\": 33, \"1\": 49, \"5\": 39, \"15\": 1, \"12\": 1, \"6\": 2}, \"15\": {\"1\": 13, \"15\": 46, \"7\": 40, \"4\": 18, \"12\": 29, \"2\": 37, \"6\": 14, \"13\": 19, \"9\": 15, \"5\": 5, \"14\": 1, \"3\": 3}, \"9\": {\"1\": 49, \"9\": 53, \"6\": 16, \"2\": 10, \"12\": 7, \"7\": 33, \"15\": 15, \"5\": 32, \"14\": 7, \"3\": 12, \"4\": 3, \"8\": 2, \"13\": 1}, \"7\": {\"4\": 15, \"6\": 33, \"7\": 32, \"1\": 24, \"15\": 31, \"9\": 26, \"2\": 32, \"12\": 22, \"3\": 2, \"5\": 14, \"14\": 4, \"13\": 5}, \"3\": {\"8\": 34, \"3\": 41, \"14\": 51, \"9\": 23, \"5\": 41, \"1\": 36, \"6\": 2, \"0\": 1, \"7\": 9, \"15\": 1, \"4\": 1}, \"8\": {\"14\": 80, \"1\": 7, \"5\": 25, \"3\": 41, \"8\": 78, \"0\": 5, \"9\": 4}, \"4\": {\"6\": 21, \"7\": 10, \"4\": 66, \"10\": 13, \"15\": 16, \"13\": 38, \"2\": 23, \"12\": 41, \"9\": 4, \"3\": 1, \"1\": 4, \"5\": 3}, \"6\": {\"7\": 32, \"8\": 1, \"12\": 29, \"6\": 57, \"4\": 21, \"15\": 30, \"13\": 5, \"2\": 23, \"1\": 17, \"3\": 3, \"9\": 15, \"5\": 5, \"14\": 2}, \"2\": {\"12\": 40, \"13\": 32, \"6\": 19, \"7\": 33, \"2\": 48, \"9\": 9, \"4\": 23, \"15\": 33, \"3\": 1, \"1\": 1, \"14\": 1}, \"12\": {\"7\": 25, \"15\": 29, \"12\": 47, \"6\": 25, \"13\": 28, \"2\": 39, \"1\": 7, \"4\": 28, \"9\": 10, \"5\": 2}, \"0\": {\"0\": 139, \"11\": 69, \"8\": 19, \"14\": 6, \"3\": 6, \"5\": 1}, \"13\": {\"2\": 34, \"13\": 88, \"15\": 18, \"12\": 37, \"4\": 33, \"10\": 20, \"6\": 6, \"7\": 3, \"1\": 1}, \"10\": {\"10\": 145, \"4\": 45, \"2\": 2, \"13\": 35, \"12\": 7, \"6\": 4, \"7\": 1, \"15\": 1}, \"11\": {\"11\": 182, \"0\": 56, \"8\": 2}, \"14\": {\"8\": 62, \"6\": 4, \"3\": 36, \"9\": 14, \"1\": 11, \"5\": 32, \"14\": 77, \"7\": 4}, \"1\": {\"3\": 31, \"7\": 28, \"5\": 29, \"1\": 59, \"9\": 46, \"14\": 10, \"6\": 11, \"15\": 10, \"2\": 8, \"12\": 6, \"8\": 2}}, \"ORACLE.run1_50\": {\"1\": {\"1\": 114, \"8\": 54, \"13\": 56, \"0\": 2, \"10\": 13, \"3\": 1}, \"2\": {\"14\": 64, \"2\": 131, \"0\": 45}, \"8\": {\"1\": 74, \"8\": 152, \"13\": 10, \"10\": 4}, \"7\": {\"7\": 139, \"4\": 89, \"5\": 11, \"9\": 1}, \"14\": {\"2\": 79, \"14\": 122, \"0\": 39}, \"6\": {\"6\": 73, \"9\": 40, \"15\": 74, \"3\": 18, \"11\": 5, \"5\": 24, \"12\": 6}, \"3\": {\"3\": 130, \"6\": 51, \"11\": 20, \"15\": 22, \"9\": 6, \"5\": 11}, \"4\": {\"7\": 116, \"4\": 101, \"5\": 18, \"6\": 2, \"9\": 2, \"15\": 1}, \"12\": {\"12\": 156, \"9\": 38, \"11\": 37, \"15\": 5, \"6\": 4}, \"15\": {\"15\": 93, \"6\": 60, \"9\": 36, \"5\": 36, \"11\": 3, \"3\": 11, \"7\": 1}, \"11\": {\"12\": 45, \"11\": 164, \"6\": 12, \"3\": 5, \"15\": 7, \"13\": 4, \"5\": 2, \"9\": 1}, \"0\": {\"0\": 156, \"14\": 23, \"2\": 34, \"10\": 27}, \"9\": {\"12\": 51, \"9\": 100, \"6\": 27, \"5\": 11, \"11\": 9, \"15\": 42}, \"10\": {\"10\": 190, \"0\": 25, \"1\": 11, \"8\": 14}, \"5\": {\"11\": 15, \"3\": 10, \"4\": 26, \"5\": 95, \"7\": 46, \"15\": 22, \"6\": 14, \"9\": 6, \"13\": 6}, \"13\": {\"13\": 199, \"1\": 27, \"8\": 4, \"11\": 7, \"3\": 3}}, \"ORACLE.run1_32\": {\"2\": {\"2\": 151, \"4\": 65, \"13\": 5, \"8\": 4, \"14\": 4, \"1\": 2, \"3\": 9}, \"6\": {\"6\": 238, \"10\": 2}, \"5\": {\"15\": 25, \"7\": 55, \"5\": 98, \"8\": 18, \"0\": 26, \"14\": 18}, \"12\": {\"12\": 211, \"9\": 10, \"11\": 8, \"10\": 11}, \"13\": {\"3\": 83, \"13\": 87, \"2\": 5, \"9\": 34, \"11\": 6, \"4\": 25}, \"9\": {\"4\": 9, \"9\": 93, \"11\": 28, \"13\": 45, \"12\": 33, \"3\": 28, \"2\": 4}, \"11\": {\"11\": 221, \"9\": 16, \"13\": 1, \"12\": 2}, \"1\": {\"1\": 230, \"4\": 2, \"8\": 4, \"2\": 4}, \"3\": {\"3\": 131, \"13\": 61, \"11\": 1, \"4\": 43, \"2\": 3, \"9\": 1}, \"7\": {\"7\": 88, \"5\": 56, \"8\": 18, \"0\": 43, \"14\": 33, \"15\": 2}, \"14\": {\"14\": 96, \"0\": 37, \"8\": 29, \"7\": 36, \"2\": 31, \"5\": 9, \"4\": 2}, \"8\": {\"14\": 36, \"8\": 85, \"5\": 16, \"0\": 62, \"2\": 12, \"4\": 2, \"15\": 10, \"7\": 16, \"1\": 1}, \"4\": {\"4\": 108, \"2\": 70, \"13\": 18, \"3\": 42, \"1\": 1, \"8\": 1}, \"0\": {\"5\": 36, \"7\": 48, \"14\": 28, \"0\": 86, \"8\": 40, \"15\": 2}, \"10\": {\"10\": 229, \"12\": 11}, \"15\": {\"15\": 211, \"5\": 17, \"7\": 4, \"8\": 5, \"0\": 3}}, \"ORACLE.run1_44\": {\"13\": {\"13\": 158, \"6\": 65, \"9\": 15, \"11\": 2}, \"4\": {\"9\": 41, \"14\": 31, \"15\": 25, \"10\": 14, \"4\": 49, \"2\": 17, \"7\": 30, \"5\": 13, \"6\": 13, \"8\": 7}, \"6\": {\"6\": 165, \"13\": 50, \"9\": 21, \"4\": 3, \"7\": 1}, \"0\": {\"0\": 181, \"8\": 30, \"2\": 4, \"1\": 25}, \"10\": {\"7\": 54, \"9\": 25, \"10\": 105, \"14\": 10, \"4\": 19, \"5\": 7, \"15\": 7, \"8\": 3, \"1\": 4, \"2\": 6}, \"7\": {\"4\": 41, \"10\": 43, \"7\": 88, \"9\": 46, \"5\": 9, \"6\": 1, \"14\": 12}, \"14\": {\"14\": 80, \"9\": 5, \"5\": 60, \"2\": 1, \"4\": 34, \"15\": 30, \"7\": 18, \"10\": 12}, \"15\": {\"5\": 23, \"14\": 26, \"15\": 97, \"8\": 48, \"2\": 17, \"1\": 16, \"10\": 5, \"4\": 7, \"0\": 1}, \"5\": {\"4\": 33, \"14\": 67, \"5\": 65, \"7\": 21, \"9\": 7, \"8\": 4, \"15\": 27, \"2\": 5, \"10\": 10, \"1\": 1}, \"2\": {\"2\": 173, \"15\": 14, \"1\": 35, \"8\": 10, \"10\": 2, \"14\": 4, \"5\": 2}, \"9\": {\"7\": 43, \"9\": 44, \"6\": 40, \"10\": 20, \"13\": 22, \"14\": 20, \"4\": 24, \"5\": 17, \"15\": 6, \"2\": 4}, \"12\": {\"3\": 95, \"12\": 145}, \"8\": {\"15\": 46, \"8\": 92, \"0\": 58, \"14\": 6, \"2\": 11, \"5\": 4, \"1\": 22, \"4\": 1}, \"3\": {\"3\": 128, \"12\": 112}, \"1\": {\"2\": 39, \"1\": 160, \"8\": 20, \"0\": 16, \"15\": 5}, \"11\": {\"11\": 240}}, \"ORACLE.run1_14\": {\"1\": {\"9\": 62, \"1\": 177, \"10\": 1}, \"15\": {\"15\": 240}, \"10\": {\"10\": 166, \"4\": 45, \"12\": 4, \"9\": 25}, \"2\": {\"5\": 50, \"0\": 25, \"4\": 17, \"7\": 11, \"2\": 45, \"12\": 25, \"14\": 24, \"13\": 10, \"8\": 5, \"6\": 13, \"3\": 14, \"10\": 1}, \"9\": {\"9\": 146, \"1\": 59, \"10\": 35}, \"5\": {\"8\": 42, \"12\": 17, \"14\": 10, \"2\": 57, \"5\": 81, \"4\": 6, \"7\": 4, \"0\": 18, \"13\": 5}, \"7\": {\"7\": 151, \"0\": 10, \"5\": 13, \"3\": 12, \"8\": 37, \"13\": 5, \"2\": 10, \"14\": 2}, \"13\": {\"3\": 30, \"6\": 62, \"15\": 20, \"5\": 16, \"2\": 18, \"14\": 28, \"4\": 4, \"0\": 15, \"13\": 36, \"12\": 5, \"8\": 3, \"7\": 1, \"10\": 2}, \"8\": {\"5\": 40, \"8\": 122, \"2\": 11, \"0\": 15, \"7\": 28, \"12\": 15, \"14\": 3, \"4\": 2, \"13\": 4}, \"6\": {\"13\": 51, \"6\": 84, \"14\": 18, \"3\": 67, \"0\": 13, \"7\": 3, \"2\": 3, \"5\": 1}, \"3\": {\"0\": 21, \"3\": 112, \"2\": 7, \"6\": 52, \"13\": 32, \"7\": 6, \"14\": 10}, \"12\": {\"5\": 16, \"12\": 156, \"13\": 1, \"8\": 25, \"4\": 9, \"2\": 17, \"0\": 14, \"14\": 2}, \"0\": {\"6\": 18, \"14\": 43, \"12\": 13, \"3\": 35, \"0\": 39, \"5\": 30, \"2\": 25, \"7\": 13, \"13\": 15, \"8\": 5, \"4\": 4}, \"4\": {\"5\": 5, \"4\": 157, \"12\": 21, \"10\": 43, \"2\": 7, \"8\": 4, \"9\": 1, \"0\": 1, \"1\": 1}, \"14\": {\"3\": 16, \"6\": 22, \"0\": 40, \"14\": 81, \"5\": 13, \"2\": 36, \"13\": 22, \"7\": 10}, \"11\": {\"11\": 239, \"1\": 1}}}, \"per_domain_accuracy\": {\"CORES_2\": {\"accuracy\": 0.9989346590909091, \"source?\": true}, \"CORES_5\": {\"accuracy\": 0.9977176966292135, \"source?\": true}, \"CORES_1\": {\"accuracy\": 0.9991414835164835, \"source?\": true}, \"CORES_4\": {\"accuracy\": 0.9977544910179641, \"source?\": true}, \"CORES_3\": {\"accuracy\": 0.9989035087719298, \"source?\": true}, \"ORACLE.run1_8\": {\"accuracy\": 0.5096354166666667, \"source?\": false}, \"ORACLE.run1_38\": {\"accuracy\": 0.65078125, \"source?\": false}, \"ORACLE.run1_26\": {\"accuracy\": 0.39609375, \"source?\": false}, \"ORACLE.run1_20\": {\"accuracy\": 0.31171875, \"source?\": false}, \"ORACLE.run1_50\": {\"accuracy\": 0.55078125, \"source?\": false}, \"ORACLE.run1_32\": {\"accuracy\": 0.6153645833333333, \"source?\": false}, \"ORACLE.run1_44\": {\"accuracy\": 0.5130208333333334, \"source?\": false}, \"ORACLE.run1_14\": {\"accuracy\": 0.5291666666666667, \"source?\": false}}}, \"history\": {\"epoch_indices\": [1, 2, 3, 4, 5, 6, 7], \"train_label_loss\": [0.029296626436401116, 0.009200547827144467, 0.00635028192895864, 0.005326096010322357, 0.004626048328209698, 0.002410800699100104, 0.0038988680912849785], \"source_val_label_loss\": [0.009868270717561245, 0.011827470734715462, 0.013853458687663078, 0.008069505915045738, 0.007000044919550419, 0.008283980190753937, 0.012491311877965927], \"target_val_label_loss\": [1.8293979167938232, 1.8109265565872192, 1.5156047344207764, 1.5907588005065918, 1.7293623685836792, 1.621324896812439, 1.6521037817001343], \"source_val_acc_label\": [0.9981407322654462, 0.9989631006864989, 0.9984982837528604, 0.9991776315789473, 0.9993206521739131, 0.9994994279176201, 0.9990703661327232], \"target_val_acc_label\": [0.5022786458333334, 0.4937825520833333, 0.5095703125, 0.5030924479166666, 0.4358723958333333, 0.48020833333333335, 0.44293619791666666]}, \"dataset_metrics\": {\"source\": {\"train\": {\"n_unique_x\": 175167, \"n_unique_y\": 58, \"n_batch/episode\": 6315}, \"val\": {\"n_unique_x\": 37135, \"n_unique_y\": 58, \"n_batch/episode\": 874}, \"test\": {\"n_unique_x\": 37673, \"n_unique_y\": 58, \"n_batch/episode\": 893}}, \"target\": {\"train\": {\"n_unique_x\": 179200, \"n_unique_y\": 16, \"n_batch/episode\": 6720}, \"val\": {\"n_unique_x\": 38400, \"n_unique_y\": 16, \"n_batch/episode\": 960}, \"test\": {\"n_unique_x\": 38400, \"n_unique_y\": 16, \"n_batch/episode\": 960}}}}'"
      ]
     },
     "execution_count": 29,
     "metadata": {},
     "output_type": "execute_result"
    }
   ],
   "source": [
    "json.dumps(experiment)"
   ]
  }
 ],
 "metadata": {
  "celltoolbar": "Tags",
  "kernelspec": {
   "display_name": "Python 3 (ipykernel)",
   "language": "python",
   "name": "python3"
  },
  "language_info": {
   "codemirror_mode": {
    "name": "ipython",
    "version": 3
   },
   "file_extension": ".py",
   "mimetype": "text/x-python",
   "name": "python",
   "nbconvert_exporter": "python",
   "pygments_lexer": "ipython3",
   "version": "3.8.12"
  },
  "papermill": {
   "default_parameters": {},
   "duration": 1985.501611,
   "end_time": "2022-03-21T10:46:02.404221",
   "environment_variables": {},
   "exception": null,
   "input_path": "/root/csc500-main/csc500-notebooks/templates/tl_ptn_template.ipynb",
   "output_path": "trial.ipynb",
   "parameters": {
    "parameters": {
     "BEST_MODEL_PATH": "./best_model.pth",
     "NUM_LOGS_PER_EPOCH": 10,
     "criteria_for_best": "target_accuracy",
     "dataset_seed": 154325,
     "datasets": [
      {
       "domain_prefix": "CORES_",
       "domains": [
        1,
        2,
        3,
        4,
        5
       ],
       "episode_transforms": [],
       "labels": [
        "1-10.",
        "1-11.",
        "1-15.",
        "1-16.",
        "1-17.",
        "1-18.",
        "1-19.",
        "10-4.",
        "10-7.",
        "11-1.",
        "11-14.",
        "11-17.",
        "11-20.",
        "11-7.",
        "13-20.",
        "13-8.",
        "14-10.",
        "14-11.",
        "14-14.",
        "14-7.",
        "15-1.",
        "15-20.",
        "16-1.",
        "16-16.",
        "17-10.",
        "17-11.",
        "17-2.",
        "19-1.",
        "19-16.",
        "19-19.",
        "19-20.",
        "19-3.",
        "2-10.",
        "2-11.",
        "2-17.",
        "2-18.",
        "2-20.",
        "2-3.",
        "2-4.",
        "2-5.",
        "2-6.",
        "2-7.",
        "2-8.",
        "3-13.",
        "3-18.",
        "3-3.",
        "4-1.",
        "4-10.",
        "4-11.",
        "4-19.",
        "5-5.",
        "6-15.",
        "7-10.",
        "7-14.",
        "8-18.",
        "8-20.",
        "8-3.",
        "8-8."
       ],
       "num_examples_per_domain_per_label": -1,
       "pickle_path": "/root/csc500-main/datasets/cores.stratified_ds.2022A.pkl",
       "source_or_target_dataset": "source",
       "x_transforms": []
      },
      {
       "domain_prefix": "ORACLE.run1_",
       "domains": [
        32,
        38,
        8,
        44,
        14,
        50,
        20,
        26
       ],
       "episode_transforms": [],
       "labels": [
        "3123D52",
        "3123D65",
        "3123D79",
        "3123D80",
        "3123D54",
        "3123D70",
        "3123D7B",
        "3123D89",
        "3123D58",
        "3123D76",
        "3123D7D",
        "3123EFE",
        "3123D64",
        "3123D78",
        "3123D7E",
        "3124E4A"
       ],
       "num_examples_per_domain_per_label": 2000,
       "pickle_path": "/root/csc500-main/datasets/oracle.Run1_framed_2000Examples_stratified_ds.2022A.pkl",
       "source_or_target_dataset": "target",
       "x_transforms": []
      }
     ],
     "device": "cuda",
     "experiment_name": "tl_1v2:cores-oracle.run1.framed",
     "lr": 0.0001,
     "n_epoch": 50,
     "n_query": 2,
     "n_shot": 3,
     "n_way": 16,
     "patience": 3,
     "seed": 154325,
     "test_k_factor": 2,
     "torch_default_dtype": "torch.float32",
     "train_k_factor": 3,
     "val_k_factor": 2,
     "x_net": [
      {
       "class": "nnReshape",
       "kargs": {
        "shape": [
         -1,
         1,
         2,
         256
        ]
       }
      },
      {
       "class": "Conv2d",
       "kargs": {
        "bias": false,
        "in_channels": 1,
        "kernel_size": [
         1,
         7
        ],
        "out_channels": 256,
        "padding": [
         0,
         3
        ]
       }
      },
      {
       "class": "ReLU",
       "kargs": {
        "inplace": true
       }
      },
      {
       "class": "BatchNorm2d",
       "kargs": {
        "num_features": 256
       }
      },
      {
       "class": "Conv2d",
       "kargs": {
        "bias": true,
        "in_channels": 256,
        "kernel_size": [
         2,
         7
        ],
        "out_channels": 80,
        "padding": [
         0,
         3
        ]
       }
      },
      {
       "class": "ReLU",
       "kargs": {
        "inplace": true
       }
      },
      {
       "class": "BatchNorm2d",
       "kargs": {
        "num_features": 80
       }
      },
      {
       "class": "Flatten",
       "kargs": {}
      },
      {
       "class": "Linear",
       "kargs": {
        "in_features": 20480,
        "out_features": 256
       }
      },
      {
       "class": "ReLU",
       "kargs": {
        "inplace": true
       }
      },
      {
       "class": "BatchNorm1d",
       "kargs": {
        "num_features": 256
       }
      },
      {
       "class": "Linear",
       "kargs": {
        "in_features": 256,
        "out_features": 256
       }
      }
     ]
    }
   },
   "start_time": "2022-03-21T10:12:56.902610",
   "version": "2.3.4"
  }
 },
 "nbformat": 4,
 "nbformat_minor": 5
}