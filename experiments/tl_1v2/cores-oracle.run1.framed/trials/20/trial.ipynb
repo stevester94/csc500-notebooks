{
 "cells": [
  {
   "cell_type": "markdown",
   "id": "9fea5f46",
   "metadata": {
    "papermill": {
     "duration": 0.028602,
     "end_time": "2022-03-21T14:05:54.766466",
     "exception": false,
     "start_time": "2022-03-21T14:05:54.737864",
     "status": "completed"
    },
    "tags": []
   },
   "source": [
    "# Transfer Learning Template"
   ]
  },
  {
   "cell_type": "code",
   "execution_count": 1,
   "id": "0902182a",
   "metadata": {
    "execution": {
     "iopub.execute_input": "2022-03-21T14:05:54.838396Z",
     "iopub.status.busy": "2022-03-21T14:05:54.823063Z",
     "iopub.status.idle": "2022-03-21T14:05:56.627299Z",
     "shell.execute_reply": "2022-03-21T14:05:56.626443Z"
    },
    "papermill": {
     "duration": 1.83769,
     "end_time": "2022-03-21T14:05:56.627490",
     "exception": false,
     "start_time": "2022-03-21T14:05:54.789800",
     "status": "completed"
    },
    "tags": []
   },
   "outputs": [],
   "source": [
    "%load_ext autoreload\n",
    "%autoreload 2\n",
    "%matplotlib inline\n",
    "\n",
    "    \n",
    "import os, json, sys, time, random\n",
    "import numpy as np\n",
    "import torch\n",
    "from torch.optim import Adam\n",
    "from  easydict import EasyDict\n",
    "import matplotlib.pyplot as plt\n",
    "\n",
    "from steves_models.steves_ptn import Steves_Prototypical_Network\n",
    "\n",
    "from steves_utils.lazy_iterable_wrapper import Lazy_Iterable_Wrapper\n",
    "from steves_utils.iterable_aggregator import Iterable_Aggregator\n",
    "from steves_utils.ptn_train_eval_test_jig import  PTN_Train_Eval_Test_Jig\n",
    "from steves_utils.torch_sequential_builder import build_sequential\n",
    "from steves_utils.torch_utils import get_dataset_metrics, ptn_confusion_by_domain_over_dataloader\n",
    "from steves_utils.utils_v2 import (per_domain_accuracy_from_confusion, get_datasets_base_path)\n",
    "from steves_utils.PTN.utils import independent_accuracy_assesment\n",
    "\n",
    "from torch.utils.data import DataLoader\n",
    "\n",
    "from steves_utils.stratified_dataset.episodic_accessor import Episodic_Accessor_Factory\n",
    "\n",
    "from steves_utils.ptn_do_report import (\n",
    "    get_loss_curve,\n",
    "    get_results_table,\n",
    "    get_parameters_table,\n",
    "    get_domain_accuracies,\n",
    ")\n",
    "\n",
    "from steves_utils.transforms import get_chained_transform"
   ]
  },
  {
   "cell_type": "markdown",
   "id": "41c840b4",
   "metadata": {
    "papermill": {
     "duration": 0.018754,
     "end_time": "2022-03-21T14:05:56.670526",
     "exception": false,
     "start_time": "2022-03-21T14:05:56.651772",
     "status": "completed"
    },
    "tags": []
   },
   "source": [
    "# Allowed Parameters\n",
    "These are allowed parameters, not defaults\n",
    "Each of these values need to be present in the injected parameters (the notebook will raise an exception if they are not present)\n",
    "\n",
    "Papermill uses the cell tag \"parameters\" to inject the real parameters below this cell.\n",
    "Enable tags to see what I mean"
   ]
  },
  {
   "cell_type": "code",
   "execution_count": 2,
   "id": "fd44eb83",
   "metadata": {
    "execution": {
     "iopub.execute_input": "2022-03-21T14:05:56.712468Z",
     "iopub.status.busy": "2022-03-21T14:05:56.711829Z",
     "iopub.status.idle": "2022-03-21T14:05:56.733079Z",
     "shell.execute_reply": "2022-03-21T14:05:56.732266Z"
    },
    "papermill": {
     "duration": 0.043782,
     "end_time": "2022-03-21T14:05:56.733244",
     "exception": false,
     "start_time": "2022-03-21T14:05:56.689462",
     "status": "completed"
    },
    "tags": []
   },
   "outputs": [],
   "source": [
    "required_parameters = {\n",
    "    \"experiment_name\",\n",
    "    \"lr\",\n",
    "    \"device\",\n",
    "    \"seed\",\n",
    "    \"dataset_seed\",\n",
    "    \"n_shot\",\n",
    "    \"n_query\",\n",
    "    \"n_way\",\n",
    "    \"train_k_factor\",\n",
    "    \"val_k_factor\",\n",
    "    \"test_k_factor\",\n",
    "    \"n_epoch\",\n",
    "    \"patience\",\n",
    "    \"criteria_for_best\",\n",
    "    \"x_net\",\n",
    "    \"datasets\",\n",
    "    \"torch_default_dtype\",\n",
    "    \"NUM_LOGS_PER_EPOCH\",\n",
    "    \"BEST_MODEL_PATH\",\n",
    "    \"x_shape\",\n",
    "}"
   ]
  },
  {
   "cell_type": "code",
   "execution_count": 3,
   "id": "fa3f0049",
   "metadata": {
    "execution": {
     "iopub.execute_input": "2022-03-21T14:05:56.791959Z",
     "iopub.status.busy": "2022-03-21T14:05:56.791104Z",
     "iopub.status.idle": "2022-03-21T14:05:56.814495Z",
     "shell.execute_reply": "2022-03-21T14:05:56.813692Z"
    },
    "papermill": {
     "duration": 0.053582,
     "end_time": "2022-03-21T14:05:56.814667",
     "exception": false,
     "start_time": "2022-03-21T14:05:56.761085",
     "status": "completed"
    },
    "tags": [
     "parameters"
    ]
   },
   "outputs": [],
   "source": [
    "from steves_utils.CORES.utils import (\n",
    "    ALL_NODES,\n",
    "    ALL_NODES_MINIMUM_1000_EXAMPLES,\n",
    "    ALL_DAYS\n",
    ")\n",
    "\n",
    "from steves_utils.ORACLE.utils_v2 import (\n",
    "    ALL_DISTANCES_FEET_NARROWED,\n",
    "    ALL_RUNS,\n",
    "    ALL_SERIAL_NUMBERS,\n",
    ")\n",
    "\n",
    "standalone_parameters = {}\n",
    "standalone_parameters[\"experiment_name\"] = \"STANDALONE PTN\"\n",
    "standalone_parameters[\"lr\"] = 0.001\n",
    "standalone_parameters[\"device\"] = \"cuda\"\n",
    "\n",
    "standalone_parameters[\"seed\"] = 1337\n",
    "standalone_parameters[\"dataset_seed\"] = 1337\n",
    "\n",
    "standalone_parameters[\"n_way\"] = 8\n",
    "standalone_parameters[\"n_shot\"] = 3\n",
    "standalone_parameters[\"n_query\"]  = 2\n",
    "standalone_parameters[\"train_k_factor\"] = 1\n",
    "standalone_parameters[\"val_k_factor\"] = 2\n",
    "standalone_parameters[\"test_k_factor\"] = 2\n",
    "\n",
    "\n",
    "standalone_parameters[\"n_epoch\"] = 50\n",
    "\n",
    "standalone_parameters[\"patience\"] = 10\n",
    "standalone_parameters[\"criteria_for_best\"] = \"source_loss\"\n",
    "\n",
    "standalone_parameters[\"datasets\"] = [\n",
    "    {\n",
    "        \"labels\": ALL_SERIAL_NUMBERS,\n",
    "        \"domains\": ALL_DISTANCES_FEET_NARROWED,\n",
    "        \"num_examples_per_domain_per_label\": 100,\n",
    "        \"pickle_path\": os.path.join(get_datasets_base_path(), \"oracle.Run1_framed_2000Examples_stratified_ds.2022A.pkl\"),\n",
    "        \"source_or_target_dataset\": \"source\",\n",
    "        \"x_transforms\": [\"unit_mag\", \"minus_two\"],\n",
    "        \"episode_transforms\": [],\n",
    "        \"domain_prefix\": \"ORACLE_\"\n",
    "    },\n",
    "    {\n",
    "        \"labels\": ALL_NODES,\n",
    "        \"domains\": ALL_DAYS,\n",
    "        \"num_examples_per_domain_per_label\": 100,\n",
    "        \"pickle_path\": os.path.join(get_datasets_base_path(), \"cores.stratified_ds.2022A.pkl\"),\n",
    "        \"source_or_target_dataset\": \"target\",\n",
    "        \"x_transforms\": [\"unit_power\", \"times_zero\"],\n",
    "        \"episode_transforms\": [],\n",
    "        \"domain_prefix\": \"CORES_\"\n",
    "    }   \n",
    "]\n",
    "\n",
    "standalone_parameters[\"torch_default_dtype\"] = \"torch.float32\" \n",
    "\n",
    "\n",
    "\n",
    "standalone_parameters[\"x_net\"] =     [\n",
    "    {\"class\": \"nnReshape\", \"kargs\": {\"shape\":[-1, 1, 2, 256]}},\n",
    "    {\"class\": \"Conv2d\", \"kargs\": { \"in_channels\":1, \"out_channels\":256, \"kernel_size\":(1,7), \"bias\":False, \"padding\":(0,3), },},\n",
    "    {\"class\": \"ReLU\", \"kargs\": {\"inplace\": True}},\n",
    "    {\"class\": \"BatchNorm2d\", \"kargs\": {\"num_features\":256}},\n",
    "\n",
    "    {\"class\": \"Conv2d\", \"kargs\": { \"in_channels\":256, \"out_channels\":80, \"kernel_size\":(2,7), \"bias\":True, \"padding\":(0,3), },},\n",
    "    {\"class\": \"ReLU\", \"kargs\": {\"inplace\": True}},\n",
    "    {\"class\": \"BatchNorm2d\", \"kargs\": {\"num_features\":80}},\n",
    "    {\"class\": \"Flatten\", \"kargs\": {}},\n",
    "\n",
    "    {\"class\": \"Linear\", \"kargs\": {\"in_features\": 80*256, \"out_features\": 256}}, # 80 units per IQ pair\n",
    "    {\"class\": \"ReLU\", \"kargs\": {\"inplace\": True}},\n",
    "    {\"class\": \"BatchNorm1d\", \"kargs\": {\"num_features\":256}},\n",
    "\n",
    "    {\"class\": \"Linear\", \"kargs\": {\"in_features\": 256, \"out_features\": 256}},\n",
    "]\n",
    "\n",
    "# Parameters relevant to results\n",
    "# These parameters will basically never need to change\n",
    "standalone_parameters[\"NUM_LOGS_PER_EPOCH\"] = 10\n",
    "standalone_parameters[\"BEST_MODEL_PATH\"] = \"./best_model.pth\"\n",
    "\n",
    "\n",
    "\n",
    "\n"
   ]
  },
  {
   "cell_type": "code",
   "execution_count": 4,
   "id": "9e945a2b",
   "metadata": {
    "execution": {
     "iopub.execute_input": "2022-03-21T14:05:56.869610Z",
     "iopub.status.busy": "2022-03-21T14:05:56.868652Z",
     "iopub.status.idle": "2022-03-21T14:05:56.891255Z",
     "shell.execute_reply": "2022-03-21T14:05:56.890460Z"
    },
    "papermill": {
     "duration": 0.051756,
     "end_time": "2022-03-21T14:05:56.891420",
     "exception": false,
     "start_time": "2022-03-21T14:05:56.839664",
     "status": "completed"
    },
    "tags": [
     "injected-parameters"
    ]
   },
   "outputs": [],
   "source": [
    "# Parameters\n",
    "parameters = {\n",
    "    \"experiment_name\": \"tl_1v2:cores-oracle.run1.framed\",\n",
    "    \"device\": \"cuda\",\n",
    "    \"lr\": 0.0001,\n",
    "    \"n_shot\": 3,\n",
    "    \"n_query\": 2,\n",
    "    \"train_k_factor\": 3,\n",
    "    \"val_k_factor\": 2,\n",
    "    \"test_k_factor\": 2,\n",
    "    \"torch_default_dtype\": \"torch.float32\",\n",
    "    \"n_epoch\": 50,\n",
    "    \"patience\": 3,\n",
    "    \"criteria_for_best\": \"target_accuracy\",\n",
    "    \"x_net\": [\n",
    "        {\"class\": \"nnReshape\", \"kargs\": {\"shape\": [-1, 1, 2, 256]}},\n",
    "        {\n",
    "            \"class\": \"Conv2d\",\n",
    "            \"kargs\": {\n",
    "                \"in_channels\": 1,\n",
    "                \"out_channels\": 256,\n",
    "                \"kernel_size\": [1, 7],\n",
    "                \"bias\": False,\n",
    "                \"padding\": [0, 3],\n",
    "            },\n",
    "        },\n",
    "        {\"class\": \"ReLU\", \"kargs\": {\"inplace\": True}},\n",
    "        {\"class\": \"BatchNorm2d\", \"kargs\": {\"num_features\": 256}},\n",
    "        {\n",
    "            \"class\": \"Conv2d\",\n",
    "            \"kargs\": {\n",
    "                \"in_channels\": 256,\n",
    "                \"out_channels\": 80,\n",
    "                \"kernel_size\": [2, 7],\n",
    "                \"bias\": True,\n",
    "                \"padding\": [0, 3],\n",
    "            },\n",
    "        },\n",
    "        {\"class\": \"ReLU\", \"kargs\": {\"inplace\": True}},\n",
    "        {\"class\": \"BatchNorm2d\", \"kargs\": {\"num_features\": 80}},\n",
    "        {\"class\": \"Flatten\", \"kargs\": {}},\n",
    "        {\"class\": \"Linear\", \"kargs\": {\"in_features\": 20480, \"out_features\": 256}},\n",
    "        {\"class\": \"ReLU\", \"kargs\": {\"inplace\": True}},\n",
    "        {\"class\": \"BatchNorm1d\", \"kargs\": {\"num_features\": 256}},\n",
    "        {\"class\": \"Linear\", \"kargs\": {\"in_features\": 256, \"out_features\": 256}},\n",
    "    ],\n",
    "    \"NUM_LOGS_PER_EPOCH\": 10,\n",
    "    \"BEST_MODEL_PATH\": \"./best_model.pth\",\n",
    "    \"n_way\": 16,\n",
    "    \"datasets\": [\n",
    "        {\n",
    "            \"labels\": [\n",
    "                \"1-10.\",\n",
    "                \"1-11.\",\n",
    "                \"1-15.\",\n",
    "                \"1-16.\",\n",
    "                \"1-17.\",\n",
    "                \"1-18.\",\n",
    "                \"1-19.\",\n",
    "                \"10-4.\",\n",
    "                \"10-7.\",\n",
    "                \"11-1.\",\n",
    "                \"11-14.\",\n",
    "                \"11-17.\",\n",
    "                \"11-20.\",\n",
    "                \"11-7.\",\n",
    "                \"13-20.\",\n",
    "                \"13-8.\",\n",
    "                \"14-10.\",\n",
    "                \"14-11.\",\n",
    "                \"14-14.\",\n",
    "                \"14-7.\",\n",
    "                \"15-1.\",\n",
    "                \"15-20.\",\n",
    "                \"16-1.\",\n",
    "                \"16-16.\",\n",
    "                \"17-10.\",\n",
    "                \"17-11.\",\n",
    "                \"17-2.\",\n",
    "                \"19-1.\",\n",
    "                \"19-16.\",\n",
    "                \"19-19.\",\n",
    "                \"19-20.\",\n",
    "                \"19-3.\",\n",
    "                \"2-10.\",\n",
    "                \"2-11.\",\n",
    "                \"2-17.\",\n",
    "                \"2-18.\",\n",
    "                \"2-20.\",\n",
    "                \"2-3.\",\n",
    "                \"2-4.\",\n",
    "                \"2-5.\",\n",
    "                \"2-6.\",\n",
    "                \"2-7.\",\n",
    "                \"2-8.\",\n",
    "                \"3-13.\",\n",
    "                \"3-18.\",\n",
    "                \"3-3.\",\n",
    "                \"4-1.\",\n",
    "                \"4-10.\",\n",
    "                \"4-11.\",\n",
    "                \"4-19.\",\n",
    "                \"5-5.\",\n",
    "                \"6-15.\",\n",
    "                \"7-10.\",\n",
    "                \"7-14.\",\n",
    "                \"8-18.\",\n",
    "                \"8-20.\",\n",
    "                \"8-3.\",\n",
    "                \"8-8.\",\n",
    "            ],\n",
    "            \"domains\": [1, 2, 3, 4, 5],\n",
    "            \"num_examples_per_domain_per_label\": -1,\n",
    "            \"pickle_path\": \"/root/csc500-main/datasets/cores.stratified_ds.2022A.pkl\",\n",
    "            \"source_or_target_dataset\": \"source\",\n",
    "            \"x_transforms\": [],\n",
    "            \"episode_transforms\": [],\n",
    "            \"domain_prefix\": \"CORES_\",\n",
    "        },\n",
    "        {\n",
    "            \"labels\": [\n",
    "                \"3123D52\",\n",
    "                \"3123D65\",\n",
    "                \"3123D79\",\n",
    "                \"3123D80\",\n",
    "                \"3123D54\",\n",
    "                \"3123D70\",\n",
    "                \"3123D7B\",\n",
    "                \"3123D89\",\n",
    "                \"3123D58\",\n",
    "                \"3123D76\",\n",
    "                \"3123D7D\",\n",
    "                \"3123EFE\",\n",
    "                \"3123D64\",\n",
    "                \"3123D78\",\n",
    "                \"3123D7E\",\n",
    "                \"3124E4A\",\n",
    "            ],\n",
    "            \"domains\": [32, 38, 8, 44, 14, 50, 20, 26],\n",
    "            \"num_examples_per_domain_per_label\": 2000,\n",
    "            \"pickle_path\": \"/root/csc500-main/datasets/oracle.Run1_framed_2000Examples_stratified_ds.2022A.pkl\",\n",
    "            \"source_or_target_dataset\": \"target\",\n",
    "            \"x_transforms\": [],\n",
    "            \"episode_transforms\": [],\n",
    "            \"domain_prefix\": \"ORACLE.run1_\",\n",
    "        },\n",
    "    ],\n",
    "    \"dataset_seed\": 7,\n",
    "    \"seed\": 7,\n",
    "}\n"
   ]
  },
  {
   "cell_type": "code",
   "execution_count": 5,
   "id": "8fa1cc33",
   "metadata": {
    "execution": {
     "iopub.execute_input": "2022-03-21T14:05:56.945690Z",
     "iopub.status.busy": "2022-03-21T14:05:56.945045Z",
     "iopub.status.idle": "2022-03-21T14:05:56.966732Z",
     "shell.execute_reply": "2022-03-21T14:05:56.965934Z"
    },
    "papermill": {
     "duration": 0.045688,
     "end_time": "2022-03-21T14:05:56.966899",
     "exception": false,
     "start_time": "2022-03-21T14:05:56.921211",
     "status": "completed"
    },
    "tags": []
   },
   "outputs": [],
   "source": [
    "# Set this to True if you want to run this template directly\n",
    "STANDALONE = False\n",
    "if STANDALONE:\n",
    "    print(\"parameters not injected, running with standalone_parameters\")\n",
    "    parameters = standalone_parameters\n",
    "\n",
    "if not 'parameters' in locals() and not 'parameters' in globals():\n",
    "    raise Exception(\"Parameter injection failed\")\n",
    "\n",
    "#Use an easy dict for all the parameters\n",
    "p = EasyDict(parameters)\n",
    "\n",
    "if \"x_shape\" not in p:\n",
    "    p.x_shape = [2,256] # Default to this if we dont supply x_shape\n",
    "\n",
    "\n",
    "supplied_keys = set(p.keys())\n",
    "\n",
    "if  supplied_keys != required_parameters:\n",
    "    print(\"Parameters are incorrect\")\n",
    "    if len(supplied_keys - required_parameters)>0: print(\"Shouldn't have:\", str(supplied_keys - required_parameters))\n",
    "    if len(required_parameters - supplied_keys)>0: print(\"Need to have:\", str(required_parameters - supplied_keys))\n",
    "    raise RuntimeError(\"Parameters are incorrect\")"
   ]
  },
  {
   "cell_type": "code",
   "execution_count": 6,
   "id": "3a028d58",
   "metadata": {
    "execution": {
     "iopub.execute_input": "2022-03-21T14:05:57.016981Z",
     "iopub.status.busy": "2022-03-21T14:05:57.016589Z",
     "iopub.status.idle": "2022-03-21T14:05:57.038542Z",
     "shell.execute_reply": "2022-03-21T14:05:57.037717Z"
    },
    "papermill": {
     "duration": 0.044735,
     "end_time": "2022-03-21T14:05:57.038708",
     "exception": false,
     "start_time": "2022-03-21T14:05:56.993973",
     "status": "completed"
    },
    "tags": []
   },
   "outputs": [],
   "source": [
    "###################################\n",
    "# Set the RNGs and make it all deterministic\n",
    "###################################\n",
    "np.random.seed(p.seed)\n",
    "random.seed(p.seed)\n",
    "torch.manual_seed(p.seed)\n",
    "\n",
    "torch.use_deterministic_algorithms(True) "
   ]
  },
  {
   "cell_type": "code",
   "execution_count": 7,
   "id": "b691acf6",
   "metadata": {
    "execution": {
     "iopub.execute_input": "2022-03-21T14:05:57.089186Z",
     "iopub.status.busy": "2022-03-21T14:05:57.088333Z",
     "iopub.status.idle": "2022-03-21T14:05:57.112961Z",
     "shell.execute_reply": "2022-03-21T14:05:57.112150Z"
    },
    "papermill": {
     "duration": 0.046647,
     "end_time": "2022-03-21T14:05:57.113128",
     "exception": false,
     "start_time": "2022-03-21T14:05:57.066481",
     "status": "completed"
    },
    "tags": []
   },
   "outputs": [],
   "source": [
    "###########################################\n",
    "# The stratified datasets honor this\n",
    "###########################################\n",
    "torch.set_default_dtype(eval(p.torch_default_dtype))"
   ]
  },
  {
   "cell_type": "code",
   "execution_count": 8,
   "id": "b5fba671",
   "metadata": {
    "execution": {
     "iopub.execute_input": "2022-03-21T14:05:57.161603Z",
     "iopub.status.busy": "2022-03-21T14:05:57.161187Z",
     "iopub.status.idle": "2022-03-21T14:05:57.218476Z",
     "shell.execute_reply": "2022-03-21T14:05:57.217746Z"
    },
    "papermill": {
     "duration": 0.080018,
     "end_time": "2022-03-21T14:05:57.218651",
     "exception": false,
     "start_time": "2022-03-21T14:05:57.138633",
     "status": "completed"
    },
    "tags": []
   },
   "outputs": [],
   "source": [
    "###################################\n",
    "# Build the network(s)\n",
    "# Note: It's critical to do this AFTER setting the RNG\n",
    "###################################\n",
    "x_net = build_sequential(p.x_net)"
   ]
  },
  {
   "cell_type": "code",
   "execution_count": 9,
   "id": "5d7e61cc",
   "metadata": {
    "execution": {
     "iopub.execute_input": "2022-03-21T14:05:57.267775Z",
     "iopub.status.busy": "2022-03-21T14:05:57.267375Z",
     "iopub.status.idle": "2022-03-21T14:05:57.295506Z",
     "shell.execute_reply": "2022-03-21T14:05:57.294706Z"
    },
    "papermill": {
     "duration": 0.05128,
     "end_time": "2022-03-21T14:05:57.295676",
     "exception": false,
     "start_time": "2022-03-21T14:05:57.244396",
     "status": "completed"
    },
    "tags": []
   },
   "outputs": [],
   "source": [
    "start_time_secs = time.time()"
   ]
  },
  {
   "cell_type": "code",
   "execution_count": 10,
   "id": "c6b67dfd",
   "metadata": {
    "execution": {
     "iopub.execute_input": "2022-03-21T14:05:57.344470Z",
     "iopub.status.busy": "2022-03-21T14:05:57.344101Z",
     "iopub.status.idle": "2022-03-21T14:05:57.363693Z",
     "shell.execute_reply": "2022-03-21T14:05:57.362834Z"
    },
    "papermill": {
     "duration": 0.043144,
     "end_time": "2022-03-21T14:05:57.363863",
     "exception": false,
     "start_time": "2022-03-21T14:05:57.320719",
     "status": "completed"
    },
    "tags": []
   },
   "outputs": [],
   "source": [
    "p.domains_source = []\n",
    "p.domains_target = []\n",
    "\n",
    "\n",
    "train_original_source = []\n",
    "val_original_source   = []\n",
    "test_original_source  = []\n",
    "\n",
    "train_original_target = []\n",
    "val_original_target   = []\n",
    "test_original_target  = []"
   ]
  },
  {
   "cell_type": "code",
   "execution_count": 11,
   "id": "e3d9c3d3",
   "metadata": {
    "execution": {
     "iopub.execute_input": "2022-03-21T14:05:57.415821Z",
     "iopub.status.busy": "2022-03-21T14:05:57.415430Z",
     "iopub.status.idle": "2022-03-21T14:05:57.437930Z",
     "shell.execute_reply": "2022-03-21T14:05:57.437117Z"
    },
    "papermill": {
     "duration": 0.046903,
     "end_time": "2022-03-21T14:05:57.438091",
     "exception": false,
     "start_time": "2022-03-21T14:05:57.391188",
     "status": "completed"
    },
    "tags": []
   },
   "outputs": [],
   "source": [
    "# global_x_transform_func = lambda x: normalize(x.to(torch.get_default_dtype()), \"unit_power\") # unit_power, unit_mag\n",
    "# global_x_transform_func = lambda x: normalize(x, \"unit_power\") # unit_power, unit_mag"
   ]
  },
  {
   "cell_type": "code",
   "execution_count": 12,
   "id": "acb78fd2",
   "metadata": {
    "execution": {
     "iopub.execute_input": "2022-03-21T14:05:57.491463Z",
     "iopub.status.busy": "2022-03-21T14:05:57.491072Z",
     "iopub.status.idle": "2022-03-21T14:05:57.510476Z",
     "shell.execute_reply": "2022-03-21T14:05:57.509658Z"
    },
    "papermill": {
     "duration": 0.046799,
     "end_time": "2022-03-21T14:05:57.510639",
     "exception": false,
     "start_time": "2022-03-21T14:05:57.463840",
     "status": "completed"
    },
    "tags": []
   },
   "outputs": [],
   "source": [
    "def add_dataset(\n",
    "    labels,\n",
    "    domains,\n",
    "    pickle_path,\n",
    "    x_transforms,\n",
    "    episode_transforms,\n",
    "    domain_prefix,\n",
    "    num_examples_per_domain_per_label,\n",
    "    source_or_target_dataset:str,\n",
    "    iterator_seed=p.seed,\n",
    "    dataset_seed=p.dataset_seed,\n",
    "    n_shot=p.n_shot,\n",
    "    n_way=p.n_way,\n",
    "    n_query=p.n_query,\n",
    "    train_val_test_k_factors=(p.train_k_factor,p.val_k_factor,p.test_k_factor),\n",
    "):\n",
    "   \n",
    "    if x_transforms == []: x_transform = None\n",
    "    else: x_transform = get_chained_transform(x_transforms)\n",
    "    \n",
    "    if episode_transforms == []: episode_transform = None\n",
    "    else: raise Exception(\"episode_transforms not implemented\")\n",
    "    \n",
    "    episode_transform = lambda tup, _prefix=domain_prefix: (_prefix + str(tup[0]), tup[1])\n",
    "\n",
    "\n",
    "    eaf = Episodic_Accessor_Factory(\n",
    "        labels=labels,\n",
    "        domains=domains,\n",
    "        num_examples_per_domain_per_label=num_examples_per_domain_per_label,\n",
    "        iterator_seed=iterator_seed,\n",
    "        dataset_seed=dataset_seed,\n",
    "        n_shot=n_shot,\n",
    "        n_way=n_way,\n",
    "        n_query=n_query,\n",
    "        train_val_test_k_factors=train_val_test_k_factors,\n",
    "        pickle_path=pickle_path,\n",
    "        x_transform_func=x_transform,\n",
    "    )\n",
    "\n",
    "    train, val, test = eaf.get_train(), eaf.get_val(), eaf.get_test()\n",
    "    train = Lazy_Iterable_Wrapper(train, episode_transform)\n",
    "    val = Lazy_Iterable_Wrapper(val, episode_transform)\n",
    "    test = Lazy_Iterable_Wrapper(test, episode_transform)\n",
    "\n",
    "    if source_or_target_dataset==\"source\":\n",
    "        train_original_source.append(train)\n",
    "        val_original_source.append(val)\n",
    "        test_original_source.append(test)\n",
    "\n",
    "        p.domains_source.extend(\n",
    "            [domain_prefix + str(u) for u in domains]\n",
    "        )\n",
    "    elif source_or_target_dataset==\"target\":\n",
    "        train_original_target.append(train)\n",
    "        val_original_target.append(val)\n",
    "        test_original_target.append(test)\n",
    "        p.domains_target.extend(\n",
    "            [domain_prefix + str(u) for u in domains]\n",
    "        )\n",
    "    else:\n",
    "        raise Exception(f\"invalid source_or_target_dataset: {source_or_target_dataset}\")\n",
    "    "
   ]
  },
  {
   "cell_type": "code",
   "execution_count": 13,
   "id": "fe266617",
   "metadata": {
    "execution": {
     "iopub.execute_input": "2022-03-21T14:05:57.564415Z",
     "iopub.status.busy": "2022-03-21T14:05:57.563221Z",
     "iopub.status.idle": "2022-03-21T14:06:01.301309Z",
     "shell.execute_reply": "2022-03-21T14:06:01.300558Z"
    },
    "papermill": {
     "duration": 3.76251,
     "end_time": "2022-03-21T14:06:01.301506",
     "exception": false,
     "start_time": "2022-03-21T14:05:57.538996",
     "status": "completed"
    },
    "tags": []
   },
   "outputs": [],
   "source": [
    "for ds in p.datasets:\n",
    "    add_dataset(**ds)"
   ]
  },
  {
   "cell_type": "code",
   "execution_count": 14,
   "id": "b90d65ac",
   "metadata": {
    "execution": {
     "iopub.execute_input": "2022-03-21T14:06:01.351283Z",
     "iopub.status.busy": "2022-03-21T14:06:01.350825Z",
     "iopub.status.idle": "2022-03-21T14:06:01.378314Z",
     "shell.execute_reply": "2022-03-21T14:06:01.377490Z"
    },
    "papermill": {
     "duration": 0.051955,
     "end_time": "2022-03-21T14:06:01.378477",
     "exception": false,
     "start_time": "2022-03-21T14:06:01.326522",
     "status": "completed"
    },
    "tags": []
   },
   "outputs": [],
   "source": [
    "# from steves_utils.CORES.utils import (\n",
    "#     ALL_NODES,\n",
    "#     ALL_NODES_MINIMUM_1000_EXAMPLES,\n",
    "#     ALL_DAYS\n",
    "# )\n",
    "\n",
    "# add_dataset(\n",
    "#     labels=ALL_NODES,\n",
    "#     domains = ALL_DAYS,\n",
    "#     num_examples_per_domain_per_label=100,\n",
    "#     pickle_path=os.path.join(get_datasets_base_path(), \"cores.stratified_ds.2022A.pkl\"),\n",
    "#     source_or_target_dataset=\"target\",\n",
    "#     x_transform_func=global_x_transform_func,\n",
    "#     domain_modifier=lambda u: f\"cores_{u}\"\n",
    "# )"
   ]
  },
  {
   "cell_type": "code",
   "execution_count": 15,
   "id": "76db484d",
   "metadata": {
    "execution": {
     "iopub.execute_input": "2022-03-21T14:06:01.435722Z",
     "iopub.status.busy": "2022-03-21T14:06:01.428504Z",
     "iopub.status.idle": "2022-03-21T14:06:01.449737Z",
     "shell.execute_reply": "2022-03-21T14:06:01.448925Z"
    },
    "papermill": {
     "duration": 0.044964,
     "end_time": "2022-03-21T14:06:01.449899",
     "exception": false,
     "start_time": "2022-03-21T14:06:01.404935",
     "status": "completed"
    },
    "tags": []
   },
   "outputs": [],
   "source": [
    "# from steves_utils.ORACLE.utils_v2 import (\n",
    "#     ALL_DISTANCES_FEET,\n",
    "#     ALL_RUNS,\n",
    "#     ALL_SERIAL_NUMBERS,\n",
    "# )\n",
    "\n",
    "\n",
    "# add_dataset(\n",
    "#     labels=ALL_SERIAL_NUMBERS,\n",
    "#     domains = list(set(ALL_DISTANCES_FEET) - {2,62}),\n",
    "#     num_examples_per_domain_per_label=100,\n",
    "#     pickle_path=os.path.join(get_datasets_base_path(), \"oracle.Run2_framed_2000Examples_stratified_ds.2022A.pkl\"),\n",
    "#     source_or_target_dataset=\"source\",\n",
    "#     x_transform_func=global_x_transform_func,\n",
    "#     domain_modifier=lambda u: f\"oracle1_{u}\"\n",
    "# )\n"
   ]
  },
  {
   "cell_type": "code",
   "execution_count": 16,
   "id": "97dea9d2",
   "metadata": {
    "execution": {
     "iopub.execute_input": "2022-03-21T14:06:01.499863Z",
     "iopub.status.busy": "2022-03-21T14:06:01.499470Z",
     "iopub.status.idle": "2022-03-21T14:06:01.517161Z",
     "shell.execute_reply": "2022-03-21T14:06:01.516329Z"
    },
    "papermill": {
     "duration": 0.04073,
     "end_time": "2022-03-21T14:06:01.517328",
     "exception": false,
     "start_time": "2022-03-21T14:06:01.476598",
     "status": "completed"
    },
    "tags": []
   },
   "outputs": [],
   "source": [
    "# from steves_utils.ORACLE.utils_v2 import (\n",
    "#     ALL_DISTANCES_FEET,\n",
    "#     ALL_RUNS,\n",
    "#     ALL_SERIAL_NUMBERS,\n",
    "# )\n",
    "\n",
    "\n",
    "# add_dataset(\n",
    "#     labels=ALL_SERIAL_NUMBERS,\n",
    "#     domains = list(set(ALL_DISTANCES_FEET) - {2,62,56}),\n",
    "#     num_examples_per_domain_per_label=100,\n",
    "#     pickle_path=os.path.join(get_datasets_base_path(), \"oracle.Run2_framed_2000Examples_stratified_ds.2022A.pkl\"),\n",
    "#     source_or_target_dataset=\"source\",\n",
    "#     x_transform_func=global_x_transform_func,\n",
    "#     domain_modifier=lambda u: f\"oracle2_{u}\"\n",
    "# )"
   ]
  },
  {
   "cell_type": "code",
   "execution_count": 17,
   "id": "6f289866",
   "metadata": {
    "execution": {
     "iopub.execute_input": "2022-03-21T14:06:01.567733Z",
     "iopub.status.busy": "2022-03-21T14:06:01.567356Z",
     "iopub.status.idle": "2022-03-21T14:06:01.588434Z",
     "shell.execute_reply": "2022-03-21T14:06:01.587621Z"
    },
    "papermill": {
     "duration": 0.04498,
     "end_time": "2022-03-21T14:06:01.588598",
     "exception": false,
     "start_time": "2022-03-21T14:06:01.543618",
     "status": "completed"
    },
    "tags": []
   },
   "outputs": [],
   "source": [
    "# add_dataset(\n",
    "#     labels=list(range(19)),\n",
    "#     domains = [0,1,2],\n",
    "#     num_examples_per_domain_per_label=100,\n",
    "#     pickle_path=os.path.join(get_datasets_base_path(), \"metehan.stratified_ds.2022A.pkl\"),\n",
    "#     source_or_target_dataset=\"target\",\n",
    "#     x_transform_func=global_x_transform_func,\n",
    "#     domain_modifier=lambda u: f\"met_{u}\"\n",
    "# )"
   ]
  },
  {
   "cell_type": "code",
   "execution_count": 18,
   "id": "86a863c3",
   "metadata": {
    "execution": {
     "iopub.execute_input": "2022-03-21T14:06:01.639768Z",
     "iopub.status.busy": "2022-03-21T14:06:01.639373Z",
     "iopub.status.idle": "2022-03-21T14:06:01.661275Z",
     "shell.execute_reply": "2022-03-21T14:06:01.660454Z"
    },
    "papermill": {
     "duration": 0.04566,
     "end_time": "2022-03-21T14:06:01.661441",
     "exception": false,
     "start_time": "2022-03-21T14:06:01.615781",
     "status": "completed"
    },
    "tags": []
   },
   "outputs": [],
   "source": [
    "# # from steves_utils.wisig.utils import (\n",
    "# #     ALL_NODES_MINIMUM_100_EXAMPLES,\n",
    "# #     ALL_NODES_MINIMUM_500_EXAMPLES,\n",
    "# #     ALL_NODES_MINIMUM_1000_EXAMPLES,\n",
    "# #     ALL_DAYS\n",
    "# # )\n",
    "\n",
    "# import steves_utils.wisig.utils as wisig\n",
    "\n",
    "\n",
    "# add_dataset(\n",
    "#     labels=wisig.ALL_NODES_MINIMUM_100_EXAMPLES,\n",
    "#     domains = wisig.ALL_DAYS,\n",
    "#     num_examples_per_domain_per_label=100,\n",
    "#     pickle_path=os.path.join(get_datasets_base_path(), \"wisig.node3-19.stratified_ds.2022A.pkl\"),\n",
    "#     source_or_target_dataset=\"target\",\n",
    "#     x_transform_func=global_x_transform_func,\n",
    "#     domain_modifier=lambda u: f\"wisig_{u}\"\n",
    "# )"
   ]
  },
  {
   "cell_type": "code",
   "execution_count": 19,
   "id": "fd5442bc",
   "metadata": {
    "execution": {
     "iopub.execute_input": "2022-03-21T14:06:01.719974Z",
     "iopub.status.busy": "2022-03-21T14:06:01.719375Z",
     "iopub.status.idle": "2022-03-21T14:06:01.738573Z",
     "shell.execute_reply": "2022-03-21T14:06:01.737756Z"
    },
    "papermill": {
     "duration": 0.050189,
     "end_time": "2022-03-21T14:06:01.738736",
     "exception": false,
     "start_time": "2022-03-21T14:06:01.688547",
     "status": "completed"
    },
    "tags": []
   },
   "outputs": [],
   "source": [
    "###################################\n",
    "# Build the dataset\n",
    "###################################\n",
    "train_original_source = Iterable_Aggregator(train_original_source, p.seed)\n",
    "val_original_source = Iterable_Aggregator(val_original_source, p.seed)\n",
    "test_original_source = Iterable_Aggregator(test_original_source, p.seed)\n",
    "\n",
    "\n",
    "train_original_target = Iterable_Aggregator(train_original_target, p.seed)\n",
    "val_original_target = Iterable_Aggregator(val_original_target, p.seed)\n",
    "test_original_target = Iterable_Aggregator(test_original_target, p.seed)\n",
    "\n",
    "# For CNN We only use X and Y. And we only train on the source.\n",
    "# Properly form the data using a transform lambda and Lazy_Iterable_Wrapper. Finally wrap them in a dataloader\n",
    "\n",
    "transform_lambda = lambda ex: ex[1] # Original is (<domain>, <episode>) so we strip down to episode only\n",
    "\n",
    "train_processed_source = Lazy_Iterable_Wrapper(train_original_source, transform_lambda)\n",
    "val_processed_source   = Lazy_Iterable_Wrapper(val_original_source, transform_lambda)\n",
    "test_processed_source  = Lazy_Iterable_Wrapper(test_original_source, transform_lambda)\n",
    "\n",
    "train_processed_target = Lazy_Iterable_Wrapper(train_original_target, transform_lambda)\n",
    "val_processed_target   = Lazy_Iterable_Wrapper(val_original_target, transform_lambda)\n",
    "test_processed_target  = Lazy_Iterable_Wrapper(test_original_target, transform_lambda)\n",
    "\n",
    "datasets = EasyDict({\n",
    "    \"source\": {\n",
    "        \"original\": {\"train\":train_original_source, \"val\":val_original_source, \"test\":test_original_source},\n",
    "        \"processed\": {\"train\":train_processed_source, \"val\":val_processed_source, \"test\":test_processed_source}\n",
    "    },\n",
    "    \"target\": {\n",
    "        \"original\": {\"train\":train_original_target, \"val\":val_original_target, \"test\":test_original_target},\n",
    "        \"processed\": {\"train\":train_processed_target, \"val\":val_processed_target, \"test\":test_processed_target}\n",
    "    },\n",
    "})"
   ]
  },
  {
   "cell_type": "code",
   "execution_count": 20,
   "id": "5b3c01fc",
   "metadata": {
    "execution": {
     "iopub.execute_input": "2022-03-21T14:06:01.801319Z",
     "iopub.status.busy": "2022-03-21T14:06:01.800132Z",
     "iopub.status.idle": "2022-03-21T14:06:16.764955Z",
     "shell.execute_reply": "2022-03-21T14:06:16.764250Z"
    },
    "papermill": {
     "duration": 14.997714,
     "end_time": "2022-03-21T14:06:16.765138",
     "exception": false,
     "start_time": "2022-03-21T14:06:01.767424",
     "status": "completed"
    },
    "tags": []
   },
   "outputs": [
    {
     "name": "stdout",
     "output_type": "stream",
     "text": [
      "{'CORES_3', 'CORES_5', 'CORES_4', 'CORES_2', 'CORES_1'}\n"
     ]
    },
    {
     "name": "stdout",
     "output_type": "stream",
     "text": [
      "{'ORACLE.run1_32', 'ORACLE.run1_20', 'ORACLE.run1_26', 'ORACLE.run1_38', 'ORACLE.run1_8', 'ORACLE.run1_14', 'ORACLE.run1_44', 'ORACLE.run1_50'}\n"
     ]
    },
    {
     "name": "stdout",
     "output_type": "stream",
     "text": [
      "tensor([[[ 2.4109e-03, -8.8503e-04,  1.1200e-02,  ..., -1.8067e-02,\n",
      "          -6.5828e-02, -8.9114e-03],\n",
      "         [ 1.6816e-02, -2.4384e-02, -5.3590e-02,  ..., -3.9033e-02,\n",
      "           5.8473e-02,  3.4303e-02]],\n",
      "\n",
      "        [[ 2.2889e-03, -8.8503e-04, -2.9908e-02,  ..., -4.1627e-02,\n",
      "           4.2512e-02,  6.9155e-02],\n",
      "         [-1.3825e-02, -1.4344e-03,  2.7497e-02,  ...,  2.6185e-02,\n",
      "           2.4354e-02, -2.1790e-02]],\n",
      "\n",
      "        [[-8.3925e-03, -2.0814e-02,  3.7354e-02,  ...,  5.8931e-02,\n",
      "           3.5615e-02, -9.9063e-02],\n",
      "         [ 1.1170e-02,  1.0773e-02, -4.1810e-03,  ...,  2.5849e-02,\n",
      "          -4.0773e-02, -6.2379e-02]],\n",
      "\n",
      "        ...,\n",
      "\n",
      "        [[-3.9063e-03, -1.6175e-03,  9.9795e-03,  ...,  1.0407e-02,\n",
      "           9.2471e-03, -6.7140e-04],\n",
      "         [-6.1037e-05, -8.5757e-03, -1.7395e-03,  ..., -8.1484e-03,\n",
      "          -1.8342e-02, -5.5849e-03]],\n",
      "\n",
      "        [[ 3.7538e-03,  5.6764e-03, -7.2328e-03,  ..., -8.8503e-04,\n",
      "           5.6459e-03,  3.8148e-03],\n",
      "         [-2.6856e-03,  6.8666e-03,  8.1789e-03,  ...,  1.3916e-02,\n",
      "           1.9135e-02,  1.4649e-03]],\n",
      "\n",
      "        [[-1.5870e-03, -1.6480e-03,  8.5146e-03,  ...,  6.8056e-03,\n",
      "           1.5259e-02,  1.7640e-02],\n",
      "         [ 5.7985e-04, -5.0050e-03, -3.2044e-03,  ...,  4.9135e-03,\n",
      "           2.1363e-04, -4.6388e-03]]])\n"
     ]
    }
   ],
   "source": [
    "from steves_utils.transforms import get_average_magnitude, get_average_power\n",
    "\n",
    "print(set([u for u,_ in val_original_source]))\n",
    "print(set([u for u,_ in val_original_target]))\n",
    "\n",
    "s_x, s_y, q_x, q_y, _ = next(iter(train_processed_source))\n",
    "print(s_x)\n",
    "\n",
    "# for ds in [\n",
    "#     train_processed_source,\n",
    "#     val_processed_source,\n",
    "#     test_processed_source,\n",
    "#     train_processed_target,\n",
    "#     val_processed_target,\n",
    "#     test_processed_target\n",
    "# ]:\n",
    "#     for s_x, s_y, q_x, q_y, _ in ds:\n",
    "#         for X in (s_x, q_x):\n",
    "#             for x in X:\n",
    "#                 assert np.isclose(get_average_magnitude(x.numpy()), 1.0)\n",
    "#                 assert np.isclose(get_average_power(x.numpy()), 1.0)\n",
    "                "
   ]
  },
  {
   "cell_type": "code",
   "execution_count": 21,
   "id": "bbdacba1",
   "metadata": {
    "execution": {
     "iopub.execute_input": "2022-03-21T14:06:16.823667Z",
     "iopub.status.busy": "2022-03-21T14:06:16.823275Z",
     "iopub.status.idle": "2022-03-21T14:06:17.085686Z",
     "shell.execute_reply": "2022-03-21T14:06:17.085365Z"
    },
    "papermill": {
     "duration": 0.289339,
     "end_time": "2022-03-21T14:06:17.085773",
     "exception": false,
     "start_time": "2022-03-21T14:06:16.796434",
     "status": "completed"
    },
    "tags": []
   },
   "outputs": [
    {
     "name": "stdout",
     "output_type": "stream",
     "text": [
      "(2, 256)\n"
     ]
    }
   ],
   "source": [
    "###################################\n",
    "# Build the model\n",
    "###################################\n",
    "# easfsl only wants a tuple for the shape\n",
    "model = Steves_Prototypical_Network(x_net, device=p.device, x_shape=tuple(p.x_shape))\n",
    "optimizer = Adam(params=model.parameters(), lr=p.lr)"
   ]
  },
  {
   "cell_type": "code",
   "execution_count": 22,
   "id": "22b39ac5",
   "metadata": {
    "execution": {
     "iopub.execute_input": "2022-03-21T14:06:17.156038Z",
     "iopub.status.busy": "2022-03-21T14:06:17.155671Z",
     "iopub.status.idle": "2022-03-21T14:42:49.158427Z",
     "shell.execute_reply": "2022-03-21T14:42:49.158078Z"
    },
    "papermill": {
     "duration": 2192.030386,
     "end_time": "2022-03-21T14:42:49.158525",
     "exception": false,
     "start_time": "2022-03-21T14:06:17.128139",
     "status": "completed"
    },
    "tags": []
   },
   "outputs": [
    {
     "name": "stdout",
     "output_type": "stream",
     "text": [
      "epoch: 1, [batch: 1 / 6316], examples_per_second: 34.2263, train_label_loss: 2.0591, \n"
     ]
    },
    {
     "name": "stdout",
     "output_type": "stream",
     "text": [
      "epoch: 1, [batch: 632 / 6316], examples_per_second: 2615.5663, train_label_loss: 0.0408, \n"
     ]
    },
    {
     "name": "stdout",
     "output_type": "stream",
     "text": [
      "epoch: 1, [batch: 1264 / 6316], examples_per_second: 2358.1022, train_label_loss: 0.0142, \n"
     ]
    },
    {
     "name": "stdout",
     "output_type": "stream",
     "text": [
      "epoch: 1, [batch: 1895 / 6316], examples_per_second: 2310.5535, train_label_loss: 0.0007, \n"
     ]
    },
    {
     "name": "stdout",
     "output_type": "stream",
     "text": [
      "epoch: 1, [batch: 2527 / 6316], examples_per_second: 2312.8974, train_label_loss: 0.0341, \n"
     ]
    },
    {
     "name": "stdout",
     "output_type": "stream",
     "text": [
      "epoch: 1, [batch: 3158 / 6316], examples_per_second: 2306.9061, train_label_loss: 0.0063, \n"
     ]
    },
    {
     "name": "stdout",
     "output_type": "stream",
     "text": [
      "epoch: 1, [batch: 3790 / 6316], examples_per_second: 2304.2386, train_label_loss: 0.0001, \n"
     ]
    },
    {
     "name": "stdout",
     "output_type": "stream",
     "text": [
      "epoch: 1, [batch: 4421 / 6316], examples_per_second: 2465.6339, train_label_loss: 0.0233, \n"
     ]
    },
    {
     "name": "stdout",
     "output_type": "stream",
     "text": [
      "epoch: 1, [batch: 5053 / 6316], examples_per_second: 2597.1537, train_label_loss: 0.0224, \n"
     ]
    },
    {
     "name": "stdout",
     "output_type": "stream",
     "text": [
      "epoch: 1, [batch: 5684 / 6316], examples_per_second: 2584.1405, train_label_loss: 0.0018, \n"
     ]
    },
    {
     "name": "stdout",
     "output_type": "stream",
     "text": [
      "=============================================================\n",
      "epoch: 1, source_val_acc_label: 0.9971, target_val_acc_label: 0.3840, source_val_label_loss: 0.0130, target_val_label_loss: 2.0578, \n",
      "=============================================================\n"
     ]
    },
    {
     "name": "stdout",
     "output_type": "stream",
     "text": [
      "New best\n"
     ]
    },
    {
     "name": "stdout",
     "output_type": "stream",
     "text": [
      "epoch: 2, [batch: 1 / 6296], examples_per_second: 2.4721, train_label_loss: 0.0195, \n"
     ]
    },
    {
     "name": "stdout",
     "output_type": "stream",
     "text": [
      "epoch: 2, [batch: 630 / 6296], examples_per_second: 2985.9036, train_label_loss: 0.0010, \n"
     ]
    },
    {
     "name": "stdout",
     "output_type": "stream",
     "text": [
      "epoch: 2, [batch: 1260 / 6296], examples_per_second: 2983.7482, train_label_loss: 0.0004, \n"
     ]
    },
    {
     "name": "stdout",
     "output_type": "stream",
     "text": [
      "epoch: 2, [batch: 1889 / 6296], examples_per_second: 2555.3034, train_label_loss: 0.0548, \n"
     ]
    },
    {
     "name": "stdout",
     "output_type": "stream",
     "text": [
      "epoch: 2, [batch: 2519 / 6296], examples_per_second: 2546.0271, train_label_loss: 0.0002, \n"
     ]
    },
    {
     "name": "stdout",
     "output_type": "stream",
     "text": [
      "epoch: 2, [batch: 3148 / 6296], examples_per_second: 2540.5055, train_label_loss: 0.0006, \n"
     ]
    },
    {
     "name": "stdout",
     "output_type": "stream",
     "text": [
      "epoch: 2, [batch: 3778 / 6296], examples_per_second: 2554.2408, train_label_loss: 0.0000, \n"
     ]
    },
    {
     "name": "stdout",
     "output_type": "stream",
     "text": [
      "epoch: 2, [batch: 4407 / 6296], examples_per_second: 2934.4330, train_label_loss: 0.0000, \n"
     ]
    },
    {
     "name": "stdout",
     "output_type": "stream",
     "text": [
      "epoch: 2, [batch: 5037 / 6296], examples_per_second: 3012.0674, train_label_loss: 0.0064, \n"
     ]
    },
    {
     "name": "stdout",
     "output_type": "stream",
     "text": [
      "epoch: 2, [batch: 5666 / 6296], examples_per_second: 3030.6128, train_label_loss: 0.0000, \n"
     ]
    },
    {
     "name": "stdout",
     "output_type": "stream",
     "text": [
      "=============================================================\n",
      "epoch: 2, source_val_acc_label: 0.9966, target_val_acc_label: 0.5177, source_val_label_loss: 0.0251, target_val_label_loss: 1.5919, \n",
      "=============================================================\n"
     ]
    },
    {
     "name": "stdout",
     "output_type": "stream",
     "text": [
      "New best\n"
     ]
    },
    {
     "name": "stdout",
     "output_type": "stream",
     "text": [
      "epoch: 3, [batch: 1 / 6299], examples_per_second: 2.8921, train_label_loss: 2.5181, \n"
     ]
    },
    {
     "name": "stdout",
     "output_type": "stream",
     "text": [
      "epoch: 3, [batch: 630 / 6299], examples_per_second: 3471.9761, train_label_loss: 0.0051, \n"
     ]
    },
    {
     "name": "stdout",
     "output_type": "stream",
     "text": [
      "epoch: 3, [batch: 1260 / 6299], examples_per_second: 3473.5194, train_label_loss: 0.0000, \n"
     ]
    },
    {
     "name": "stdout",
     "output_type": "stream",
     "text": [
      "epoch: 3, [batch: 1890 / 6299], examples_per_second: 3190.7816, train_label_loss: 0.0000, \n"
     ]
    },
    {
     "name": "stdout",
     "output_type": "stream",
     "text": [
      "epoch: 3, [batch: 2520 / 6299], examples_per_second: 2952.0791, train_label_loss: 0.0000, \n"
     ]
    },
    {
     "name": "stdout",
     "output_type": "stream",
     "text": [
      "epoch: 3, [batch: 3150 / 6299], examples_per_second: 2321.1333, train_label_loss: 0.0000, \n"
     ]
    },
    {
     "name": "stdout",
     "output_type": "stream",
     "text": [
      "epoch: 3, [batch: 3779 / 6299], examples_per_second: 2293.5434, train_label_loss: 0.0001, \n"
     ]
    },
    {
     "name": "stdout",
     "output_type": "stream",
     "text": [
      "epoch: 3, [batch: 4409 / 6299], examples_per_second: 2480.4321, train_label_loss: 0.0000, \n"
     ]
    },
    {
     "name": "stdout",
     "output_type": "stream",
     "text": [
      "epoch: 3, [batch: 5039 / 6299], examples_per_second: 2605.5231, train_label_loss: 0.0000, \n"
     ]
    },
    {
     "name": "stdout",
     "output_type": "stream",
     "text": [
      "epoch: 3, [batch: 5669 / 6299], examples_per_second: 2563.1146, train_label_loss: 0.0013, \n"
     ]
    },
    {
     "name": "stdout",
     "output_type": "stream",
     "text": [
      "=============================================================\n",
      "epoch: 3, source_val_acc_label: 0.9987, target_val_acc_label: 0.5042, source_val_label_loss: 0.0103, target_val_label_loss: 1.6941, \n",
      "=============================================================\n"
     ]
    },
    {
     "name": "stdout",
     "output_type": "stream",
     "text": [
      "epoch: 4, [batch: 1 / 6316], examples_per_second: 2.3813, train_label_loss: 0.0005, \n"
     ]
    },
    {
     "name": "stdout",
     "output_type": "stream",
     "text": [
      "epoch: 4, [batch: 632 / 6316], examples_per_second: 2868.0729, train_label_loss: 0.0000, \n"
     ]
    },
    {
     "name": "stdout",
     "output_type": "stream",
     "text": [
      "epoch: 4, [batch: 1264 / 6316], examples_per_second: 3261.3109, train_label_loss: 0.0000, \n"
     ]
    },
    {
     "name": "stdout",
     "output_type": "stream",
     "text": [
      "epoch: 4, [batch: 1895 / 6316], examples_per_second: 3918.5345, train_label_loss: 0.0017, \n"
     ]
    },
    {
     "name": "stdout",
     "output_type": "stream",
     "text": [
      "epoch: 4, [batch: 2527 / 6316], examples_per_second: 2698.0763, train_label_loss: 0.0000, \n"
     ]
    },
    {
     "name": "stdout",
     "output_type": "stream",
     "text": [
      "epoch: 4, [batch: 3158 / 6316], examples_per_second: 2628.6373, train_label_loss: 0.0000, \n"
     ]
    },
    {
     "name": "stdout",
     "output_type": "stream",
     "text": [
      "epoch: 4, [batch: 3790 / 6316], examples_per_second: 2314.8831, train_label_loss: 0.0000, \n"
     ]
    },
    {
     "name": "stdout",
     "output_type": "stream",
     "text": [
      "epoch: 4, [batch: 4421 / 6316], examples_per_second: 2306.4007, train_label_loss: 0.0000, \n"
     ]
    },
    {
     "name": "stdout",
     "output_type": "stream",
     "text": [
      "epoch: 4, [batch: 5053 / 6316], examples_per_second: 2309.7943, train_label_loss: 0.0000, \n"
     ]
    },
    {
     "name": "stdout",
     "output_type": "stream",
     "text": [
      "epoch: 4, [batch: 5684 / 6316], examples_per_second: 2325.6673, train_label_loss: 0.0001, \n"
     ]
    },
    {
     "name": "stdout",
     "output_type": "stream",
     "text": [
      "=============================================================\n",
      "epoch: 4, source_val_acc_label: 0.9987, target_val_acc_label: 0.4825, source_val_label_loss: 0.0187, target_val_label_loss: 1.7361, \n",
      "=============================================================\n"
     ]
    },
    {
     "name": "stdout",
     "output_type": "stream",
     "text": [
      "epoch: 5, [batch: 1 / 6313], examples_per_second: 2.1226, train_label_loss: 0.0000, \n"
     ]
    },
    {
     "name": "stdout",
     "output_type": "stream",
     "text": [
      "epoch: 5, [batch: 632 / 6313], examples_per_second: 2344.5990, train_label_loss: 0.0012, \n"
     ]
    },
    {
     "name": "stdout",
     "output_type": "stream",
     "text": [
      "epoch: 5, [batch: 1263 / 6313], examples_per_second: 2660.5977, train_label_loss: 0.0000, \n"
     ]
    },
    {
     "name": "stdout",
     "output_type": "stream",
     "text": [
      "epoch: 5, [batch: 1894 / 6313], examples_per_second: 2679.8165, train_label_loss: 0.0000, \n"
     ]
    },
    {
     "name": "stdout",
     "output_type": "stream",
     "text": [
      "epoch: 5, [batch: 2525 / 6313], examples_per_second: 3047.4788, train_label_loss: 0.0000, \n"
     ]
    },
    {
     "name": "stdout",
     "output_type": "stream",
     "text": [
      "epoch: 5, [batch: 3157 / 6313], examples_per_second: 2649.4404, train_label_loss: 0.0000, \n"
     ]
    },
    {
     "name": "stdout",
     "output_type": "stream",
     "text": [
      "epoch: 5, [batch: 3788 / 6313], examples_per_second: 2673.5119, train_label_loss: 0.0007, \n"
     ]
    },
    {
     "name": "stdout",
     "output_type": "stream",
     "text": [
      "epoch: 5, [batch: 4419 / 6313], examples_per_second: 2330.9192, train_label_loss: 0.0000, \n"
     ]
    },
    {
     "name": "stdout",
     "output_type": "stream",
     "text": [
      "epoch: 5, [batch: 5050 / 6313], examples_per_second: 2335.1392, train_label_loss: 0.0000, \n"
     ]
    },
    {
     "name": "stdout",
     "output_type": "stream",
     "text": [
      "epoch: 5, [batch: 5681 / 6313], examples_per_second: 2342.1882, train_label_loss: 0.0002, \n"
     ]
    },
    {
     "name": "stdout",
     "output_type": "stream",
     "text": [
      "=============================================================\n",
      "epoch: 5, source_val_acc_label: 0.9995, target_val_acc_label: 0.5269, source_val_label_loss: 0.0078, target_val_label_loss: 1.6571, \n",
      "=============================================================\n"
     ]
    },
    {
     "name": "stdout",
     "output_type": "stream",
     "text": [
      "New best\n"
     ]
    },
    {
     "name": "stdout",
     "output_type": "stream",
     "text": [
      "epoch: 6, [batch: 1 / 6307], examples_per_second: 2.1167, train_label_loss: 0.0000, \n"
     ]
    },
    {
     "name": "stdout",
     "output_type": "stream",
     "text": [
      "epoch: 6, [batch: 631 / 6307], examples_per_second: 2335.9540, train_label_loss: 0.0000, \n"
     ]
    },
    {
     "name": "stdout",
     "output_type": "stream",
     "text": [
      "epoch: 6, [batch: 1262 / 6307], examples_per_second: 2378.6746, train_label_loss: 0.0000, \n"
     ]
    },
    {
     "name": "stdout",
     "output_type": "stream",
     "text": [
      "epoch: 6, [batch: 1892 / 6307], examples_per_second: 2592.5490, train_label_loss: 0.0000, \n"
     ]
    },
    {
     "name": "stdout",
     "output_type": "stream",
     "text": [
      "epoch: 6, [batch: 2523 / 6307], examples_per_second: 2618.5733, train_label_loss: 0.0000, \n"
     ]
    },
    {
     "name": "stdout",
     "output_type": "stream",
     "text": [
      "epoch: 6, [batch: 3154 / 6307], examples_per_second: 3070.2713, train_label_loss: 0.0000, \n"
     ]
    },
    {
     "name": "stdout",
     "output_type": "stream",
     "text": [
      "epoch: 6, [batch: 3784 / 6307], examples_per_second: 2665.6549, train_label_loss: 0.0000, \n"
     ]
    },
    {
     "name": "stdout",
     "output_type": "stream",
     "text": [
      "epoch: 6, [batch: 4415 / 6307], examples_per_second: 2688.3617, train_label_loss: 0.0000, \n"
     ]
    },
    {
     "name": "stdout",
     "output_type": "stream",
     "text": [
      "epoch: 6, [batch: 5045 / 6307], examples_per_second: 2309.6208, train_label_loss: 0.0000, \n"
     ]
    },
    {
     "name": "stdout",
     "output_type": "stream",
     "text": [
      "epoch: 6, [batch: 5676 / 6307], examples_per_second: 2316.3288, train_label_loss: 0.0001, \n"
     ]
    },
    {
     "name": "stdout",
     "output_type": "stream",
     "text": [
      "=============================================================\n",
      "epoch: 6, source_val_acc_label: 0.9993, target_val_acc_label: 0.4128, source_val_label_loss: 0.0079, target_val_label_loss: 1.8764, \n",
      "=============================================================\n"
     ]
    },
    {
     "name": "stdout",
     "output_type": "stream",
     "text": [
      "epoch: 7, [batch: 1 / 6303], examples_per_second: 2.1255, train_label_loss: 0.0000, \n"
     ]
    },
    {
     "name": "stdout",
     "output_type": "stream",
     "text": [
      "epoch: 7, [batch: 631 / 6303], examples_per_second: 2346.6821, train_label_loss: 0.0000, \n"
     ]
    },
    {
     "name": "stdout",
     "output_type": "stream",
     "text": [
      "epoch: 7, [batch: 1261 / 6303], examples_per_second: 2321.8242, train_label_loss: 0.0000, \n"
     ]
    },
    {
     "name": "stdout",
     "output_type": "stream",
     "text": [
      "epoch: 7, [batch: 1891 / 6303], examples_per_second: 2348.6081, train_label_loss: 0.0000, \n"
     ]
    },
    {
     "name": "stdout",
     "output_type": "stream",
     "text": [
      "epoch: 7, [batch: 2521 / 6303], examples_per_second: 2554.5226, train_label_loss: 0.0000, \n"
     ]
    },
    {
     "name": "stdout",
     "output_type": "stream",
     "text": [
      "epoch: 7, [batch: 3152 / 6303], examples_per_second: 2685.0828, train_label_loss: 0.0000, \n"
     ]
    },
    {
     "name": "stdout",
     "output_type": "stream",
     "text": [
      "epoch: 7, [batch: 3782 / 6303], examples_per_second: 3024.8441, train_label_loss: 0.0000, \n"
     ]
    },
    {
     "name": "stdout",
     "output_type": "stream",
     "text": [
      "epoch: 7, [batch: 4412 / 6303], examples_per_second: 2588.5871, train_label_loss: 0.0000, \n"
     ]
    },
    {
     "name": "stdout",
     "output_type": "stream",
     "text": [
      "epoch: 7, [batch: 5042 / 6303], examples_per_second: 2685.9732, train_label_loss: 0.0000, \n"
     ]
    },
    {
     "name": "stdout",
     "output_type": "stream",
     "text": [
      "epoch: 7, [batch: 5672 / 6303], examples_per_second: 2348.5691, train_label_loss: 0.0000, \n"
     ]
    },
    {
     "name": "stdout",
     "output_type": "stream",
     "text": [
      "=============================================================\n",
      "epoch: 7, source_val_acc_label: 0.9979, target_val_acc_label: 0.3808, source_val_label_loss: 0.0166, target_val_label_loss: 2.0476, \n",
      "=============================================================\n"
     ]
    },
    {
     "name": "stdout",
     "output_type": "stream",
     "text": [
      "epoch: 8, [batch: 1 / 6292], examples_per_second: 2.1218, train_label_loss: 0.0000, \n"
     ]
    },
    {
     "name": "stdout",
     "output_type": "stream",
     "text": [
      "epoch: 8, [batch: 630 / 6292], examples_per_second: 2334.0518, train_label_loss: 0.0000, \n"
     ]
    },
    {
     "name": "stdout",
     "output_type": "stream",
     "text": [
      "epoch: 8, [batch: 1259 / 6292], examples_per_second: 2318.7739, train_label_loss: 0.0000, \n"
     ]
    },
    {
     "name": "stdout",
     "output_type": "stream",
     "text": [
      "epoch: 8, [batch: 1888 / 6292], examples_per_second: 2340.1893, train_label_loss: 0.0000, \n"
     ]
    },
    {
     "name": "stdout",
     "output_type": "stream",
     "text": [
      "epoch: 8, [batch: 2517 / 6292], examples_per_second: 2416.9274, train_label_loss: 0.0000, \n"
     ]
    },
    {
     "name": "stdout",
     "output_type": "stream",
     "text": [
      "epoch: 8, [batch: 3146 / 6292], examples_per_second: 2599.3508, train_label_loss: 0.0000, \n"
     ]
    },
    {
     "name": "stdout",
     "output_type": "stream",
     "text": [
      "epoch: 8, [batch: 3775 / 6292], examples_per_second: 2854.5607, train_label_loss: 0.0000, \n"
     ]
    },
    {
     "name": "stdout",
     "output_type": "stream",
     "text": [
      "epoch: 8, [batch: 4404 / 6292], examples_per_second: 3332.4964, train_label_loss: 0.0000, \n"
     ]
    },
    {
     "name": "stdout",
     "output_type": "stream",
     "text": [
      "epoch: 8, [batch: 5033 / 6292], examples_per_second: 2957.3064, train_label_loss: 0.0000, \n"
     ]
    },
    {
     "name": "stdout",
     "output_type": "stream",
     "text": [
      "epoch: 8, [batch: 5662 / 6292], examples_per_second: 3120.2911, train_label_loss: 0.0000, \n"
     ]
    },
    {
     "name": "stdout",
     "output_type": "stream",
     "text": [
      "=============================================================\n",
      "epoch: 8, source_val_acc_label: 0.9996, target_val_acc_label: 0.4601, source_val_label_loss: 0.0086, target_val_label_loss: 1.7008, \n",
      "=============================================================\n"
     ]
    },
    {
     "name": "stdout",
     "output_type": "stream",
     "text": [
      "epoch: 9, [batch: 1 / 6305], examples_per_second: 2.4325, train_label_loss: 0.0000, \n"
     ]
    },
    {
     "name": "stdout",
     "output_type": "stream",
     "text": [
      "epoch: 9, [batch: 631 / 6305], examples_per_second: 2837.5744, train_label_loss: 0.0000, \n"
     ]
    },
    {
     "name": "stdout",
     "output_type": "stream",
     "text": [
      "epoch: 9, [batch: 1261 / 6305], examples_per_second: 2831.7414, train_label_loss: 0.0004, \n"
     ]
    },
    {
     "name": "stdout",
     "output_type": "stream",
     "text": [
      "epoch: 9, [batch: 1892 / 6305], examples_per_second: 2308.4097, train_label_loss: 0.0000, \n"
     ]
    },
    {
     "name": "stdout",
     "output_type": "stream",
     "text": [
      "epoch: 9, [batch: 2522 / 6305], examples_per_second: 2308.3651, train_label_loss: 0.0000, \n"
     ]
    },
    {
     "name": "stdout",
     "output_type": "stream",
     "text": [
      "epoch: 9, [batch: 3153 / 6305], examples_per_second: 2398.8444, train_label_loss: 0.0000, \n"
     ]
    },
    {
     "name": "stdout",
     "output_type": "stream",
     "text": [
      "epoch: 9, [batch: 3783 / 6305], examples_per_second: 2619.6357, train_label_loss: 0.0000, \n"
     ]
    },
    {
     "name": "stdout",
     "output_type": "stream",
     "text": [
      "epoch: 9, [batch: 4413 / 6305], examples_per_second: 2610.8929, train_label_loss: 0.0000, \n"
     ]
    },
    {
     "name": "stdout",
     "output_type": "stream",
     "text": [
      "epoch: 9, [batch: 5044 / 6305], examples_per_second: 2914.6132, train_label_loss: 0.0000, \n"
     ]
    },
    {
     "name": "stdout",
     "output_type": "stream",
     "text": [
      "epoch: 9, [batch: 5674 / 6305], examples_per_second: 2643.3932, train_label_loss: 0.0000, \n"
     ]
    },
    {
     "name": "stdout",
     "output_type": "stream",
     "text": [
      "=============================================================\n",
      "epoch: 9, source_val_acc_label: 0.9992, target_val_acc_label: 0.3433, source_val_label_loss: 0.0070, target_val_label_loss: 1.9461, \n",
      "=============================================================\n"
     ]
    },
    {
     "name": "stdout",
     "output_type": "stream",
     "text": [
      "Patience (3) exhausted\n"
     ]
    }
   ],
   "source": [
    "###################################\n",
    "# train\n",
    "###################################\n",
    "jig = PTN_Train_Eval_Test_Jig(model, p.BEST_MODEL_PATH, p.device)\n",
    "\n",
    "jig.train(\n",
    "    train_iterable=datasets.source.processed.train,\n",
    "    source_val_iterable=datasets.source.processed.val,\n",
    "    target_val_iterable=datasets.target.processed.val,\n",
    "    num_epochs=p.n_epoch,\n",
    "    num_logs_per_epoch=p.NUM_LOGS_PER_EPOCH,\n",
    "    patience=p.patience,\n",
    "    optimizer=optimizer,\n",
    "    criteria_for_best=p.criteria_for_best,\n",
    ")"
   ]
  },
  {
   "cell_type": "code",
   "execution_count": 23,
   "id": "31e8fabf",
   "metadata": {
    "execution": {
     "iopub.execute_input": "2022-03-21T14:42:49.260699Z",
     "iopub.status.busy": "2022-03-21T14:42:49.260187Z",
     "iopub.status.idle": "2022-03-21T14:42:49.293639Z",
     "shell.execute_reply": "2022-03-21T14:42:49.294309Z"
    },
    "papermill": {
     "duration": 0.08731,
     "end_time": "2022-03-21T14:42:49.294533",
     "exception": false,
     "start_time": "2022-03-21T14:42:49.207223",
     "status": "completed"
    },
    "tags": []
   },
   "outputs": [],
   "source": [
    "total_experiment_time_secs = time.time() - start_time_secs"
   ]
  },
  {
   "cell_type": "code",
   "execution_count": 24,
   "id": "87b9595b",
   "metadata": {
    "execution": {
     "iopub.execute_input": "2022-03-21T14:42:49.407761Z",
     "iopub.status.busy": "2022-03-21T14:42:49.407305Z",
     "iopub.status.idle": "2022-03-21T14:46:43.191306Z",
     "shell.execute_reply": "2022-03-21T14:46:43.192080Z"
    },
    "papermill": {
     "duration": 233.842723,
     "end_time": "2022-03-21T14:46:43.192328",
     "exception": false,
     "start_time": "2022-03-21T14:42:49.349605",
     "status": "completed"
    },
    "tags": []
   },
   "outputs": [],
   "source": [
    "###################################\n",
    "# Evaluate the model\n",
    "###################################\n",
    "source_test_label_accuracy, source_test_label_loss = jig.test(datasets.source.processed.test)\n",
    "target_test_label_accuracy, target_test_label_loss = jig.test(datasets.target.processed.test)\n",
    "\n",
    "source_val_label_accuracy, source_val_label_loss = jig.test(datasets.source.processed.val)\n",
    "target_val_label_accuracy, target_val_label_loss = jig.test(datasets.target.processed.val)\n",
    "\n",
    "history = jig.get_history()\n",
    "\n",
    "total_epochs_trained = len(history[\"epoch_indices\"])\n",
    "\n",
    "val_dl = Iterable_Aggregator((datasets.source.original.val,datasets.target.original.val))\n",
    "\n",
    "confusion = ptn_confusion_by_domain_over_dataloader(model, p.device, val_dl)\n",
    "per_domain_accuracy = per_domain_accuracy_from_confusion(confusion)\n",
    "\n",
    "# Add a key to per_domain_accuracy for if it was a source domain\n",
    "for domain, accuracy in per_domain_accuracy.items():\n",
    "    per_domain_accuracy[domain] = {\n",
    "        \"accuracy\": accuracy,\n",
    "        \"source?\": domain in p.domains_source\n",
    "    }\n",
    "\n",
    "# Do an independent accuracy assesment JUST TO BE SURE!\n",
    "# _source_test_label_accuracy = independent_accuracy_assesment(model, datasets.source.processed.test, p.device)\n",
    "# _target_test_label_accuracy = independent_accuracy_assesment(model, datasets.target.processed.test, p.device)\n",
    "# _source_val_label_accuracy = independent_accuracy_assesment(model, datasets.source.processed.val, p.device)\n",
    "# _target_val_label_accuracy = independent_accuracy_assesment(model, datasets.target.processed.val, p.device)\n",
    "\n",
    "# assert(_source_test_label_accuracy == source_test_label_accuracy)\n",
    "# assert(_target_test_label_accuracy == target_test_label_accuracy)\n",
    "# assert(_source_val_label_accuracy == source_val_label_accuracy)\n",
    "# assert(_target_val_label_accuracy == target_val_label_accuracy)\n",
    "\n",
    "experiment = {\n",
    "    \"experiment_name\": p.experiment_name,\n",
    "    \"parameters\": dict(p),\n",
    "    \"results\": {\n",
    "        \"source_test_label_accuracy\": source_test_label_accuracy,\n",
    "        \"source_test_label_loss\": source_test_label_loss,\n",
    "        \"target_test_label_accuracy\": target_test_label_accuracy,\n",
    "        \"target_test_label_loss\": target_test_label_loss,\n",
    "        \"source_val_label_accuracy\": source_val_label_accuracy,\n",
    "        \"source_val_label_loss\": source_val_label_loss,\n",
    "        \"target_val_label_accuracy\": target_val_label_accuracy,\n",
    "        \"target_val_label_loss\": target_val_label_loss,\n",
    "        \"total_epochs_trained\": total_epochs_trained,\n",
    "        \"total_experiment_time_secs\": total_experiment_time_secs,\n",
    "        \"confusion\": confusion,\n",
    "        \"per_domain_accuracy\": per_domain_accuracy,\n",
    "    },\n",
    "    \"history\": history,\n",
    "    \"dataset_metrics\": get_dataset_metrics(datasets, \"ptn\"),\n",
    "}"
   ]
  },
  {
   "cell_type": "code",
   "execution_count": 25,
   "id": "54a21829",
   "metadata": {
    "execution": {
     "iopub.execute_input": "2022-03-21T14:46:43.304270Z",
     "iopub.status.busy": "2022-03-21T14:46:43.302881Z",
     "iopub.status.idle": "2022-03-21T14:46:43.533255Z",
     "shell.execute_reply": "2022-03-21T14:46:43.533949Z"
    },
    "papermill": {
     "duration": 0.284595,
     "end_time": "2022-03-21T14:46:43.534180",
     "exception": false,
     "start_time": "2022-03-21T14:46:43.249585",
     "status": "completed"
    },
    "tags": []
   },
   "outputs": [
    {
     "data": {
      "image/png": "[encoded data removed]",
      "text/plain": [
       "<Figure size 1080x504 with 1 Axes>"
      ]
     },
     "metadata": {
      "needs_background": "light"
     },
     "output_type": "display_data"
    }
   ],
   "source": [
    "ax = get_loss_curve(experiment)\n",
    "plt.show()"
   ]
  },
  {
   "cell_type": "code",
   "execution_count": 26,
   "id": "fd8a0f60",
   "metadata": {
    "execution": {
     "iopub.execute_input": "2022-03-21T14:46:43.645033Z",
     "iopub.status.busy": "2022-03-21T14:46:43.644658Z",
     "iopub.status.idle": "2022-03-21T14:46:43.975334Z",
     "shell.execute_reply": "2022-03-21T14:46:43.976408Z"
    },
    "papermill": {
     "duration": 0.385454,
     "end_time": "2022-03-21T14:46:43.976740",
     "exception": false,
     "start_time": "2022-03-21T14:46:43.591286",
     "status": "completed"
    },
    "tags": []
   },
   "outputs": [
    {
     "data": {
      "text/plain": [
       "<AxesSubplot:title={'center':'Results'}>"
      ]
     },
     "execution_count": 26,
     "metadata": {},
     "output_type": "execute_result"
    },
    {
     "data": {
      "image/png": "[encoded data removed]",
      "text/plain": [
       "<Figure size 1080x504 with 1 Axes>"
      ]
     },
     "metadata": {
      "needs_background": "light"
     },
     "output_type": "display_data"
    }
   ],
   "source": [
    "get_results_table(experiment)"
   ]
  },
  {
   "cell_type": "code",
   "execution_count": 27,
   "id": "cf8dc689",
   "metadata": {
    "execution": {
     "iopub.execute_input": "2022-03-21T14:46:44.097922Z",
     "iopub.status.busy": "2022-03-21T14:46:44.097350Z",
     "iopub.status.idle": "2022-03-21T14:46:44.356775Z",
     "shell.execute_reply": "2022-03-21T14:46:44.357420Z"
    },
    "papermill": {
     "duration": 0.316923,
     "end_time": "2022-03-21T14:46:44.357654",
     "exception": false,
     "start_time": "2022-03-21T14:46:44.040731",
     "status": "completed"
    },
    "tags": []
   },
   "outputs": [
    {
     "data": {
      "text/plain": [
       "<AxesSubplot:title={'center':'Per Domain Validation Accuracy'}, xlabel='domain'>"
      ]
     },
     "execution_count": 27,
     "metadata": {},
     "output_type": "execute_result"
    },
    {
     "data": {
      "image/png": "[encoded data removed]",
      "text/plain": [
       "<Figure size 1080x504 with 1 Axes>"
      ]
     },
     "metadata": {
      "needs_background": "light"
     },
     "output_type": "display_data"
    }
   ],
   "source": [
    "get_domain_accuracies(experiment)"
   ]
  },
  {
   "cell_type": "code",
   "execution_count": 28,
   "id": "a74ae082",
   "metadata": {
    "execution": {
     "iopub.execute_input": "2022-03-21T14:46:44.496003Z",
     "iopub.status.busy": "2022-03-21T14:46:44.495604Z",
     "iopub.status.idle": "2022-03-21T14:46:44.522324Z",
     "shell.execute_reply": "2022-03-21T14:46:44.521504Z"
    },
    "papermill": {
     "duration": 0.094847,
     "end_time": "2022-03-21T14:46:44.522493",
     "exception": false,
     "start_time": "2022-03-21T14:46:44.427646",
     "status": "completed"
    },
    "tags": []
   },
   "outputs": [
    {
     "name": "stdout",
     "output_type": "stream",
     "text": [
      "Source Test Label Accuracy: 0.9994703389830508 Target Test Label Accuracy: 0.5271484375\n",
      "Source Val Label Accuracy: 0.9995 Target Val Label Accuracy: 0.5269205729166667\n"
     ]
    }
   ],
   "source": [
    "print(\"Source Test Label Accuracy:\", experiment[\"results\"][\"source_test_label_accuracy\"], \"Target Test Label Accuracy:\", experiment[\"results\"][\"target_test_label_accuracy\"])\n",
    "print(\"Source Val Label Accuracy:\", experiment[\"results\"][\"source_val_label_accuracy\"], \"Target Val Label Accuracy:\", experiment[\"results\"][\"target_val_label_accuracy\"])"
   ]
  },
  {
   "cell_type": "code",
   "execution_count": 29,
   "id": "dacca602",
   "metadata": {
    "execution": {
     "iopub.execute_input": "2022-03-21T14:46:44.639186Z",
     "iopub.status.busy": "2022-03-21T14:46:44.638803Z",
     "iopub.status.idle": "2022-03-21T14:46:44.665204Z",
     "shell.execute_reply": "2022-03-21T14:46:44.665901Z"
    },
    "papermill": {
     "duration": 0.084493,
     "end_time": "2022-03-21T14:46:44.666117",
     "exception": false,
     "start_time": "2022-03-21T14:46:44.581624",
     "status": "completed"
    },
    "tags": [
     "experiment_json"
    ]
   },
   "outputs": [
    {
     "data": {
      "text/plain": [
       "'{\"experiment_name\": \"tl_1v2:cores-oracle.run1.framed\", \"parameters\": {\"experiment_name\": \"tl_1v2:cores-oracle.run1.framed\", \"device\": \"cuda\", \"lr\": 0.0001, \"n_shot\": 3, \"n_query\": 2, \"train_k_factor\": 3, \"val_k_factor\": 2, \"test_k_factor\": 2, \"torch_default_dtype\": \"torch.float32\", \"n_epoch\": 50, \"patience\": 3, \"criteria_for_best\": \"target_accuracy\", \"x_net\": [{\"class\": \"nnReshape\", \"kargs\": {\"shape\": [-1, 1, 2, 256]}}, {\"class\": \"Conv2d\", \"kargs\": {\"in_channels\": 1, \"out_channels\": 256, \"kernel_size\": [1, 7], \"bias\": false, \"padding\": [0, 3]}}, {\"class\": \"ReLU\", \"kargs\": {\"inplace\": true}}, {\"class\": \"BatchNorm2d\", \"kargs\": {\"num_features\": 256}}, {\"class\": \"Conv2d\", \"kargs\": {\"in_channels\": 256, \"out_channels\": 80, \"kernel_size\": [2, 7], \"bias\": true, \"padding\": [0, 3]}}, {\"class\": \"ReLU\", \"kargs\": {\"inplace\": true}}, {\"class\": \"BatchNorm2d\", \"kargs\": {\"num_features\": 80}}, {\"class\": \"Flatten\", \"kargs\": {}}, {\"class\": \"Linear\", \"kargs\": {\"in_features\": 20480, \"out_features\": 256}}, {\"class\": \"ReLU\", \"kargs\": {\"inplace\": true}}, {\"class\": \"BatchNorm1d\", \"kargs\": {\"num_features\": 256}}, {\"class\": \"Linear\", \"kargs\": {\"in_features\": 256, \"out_features\": 256}}], \"NUM_LOGS_PER_EPOCH\": 10, \"BEST_MODEL_PATH\": \"./best_model.pth\", \"n_way\": 16, \"datasets\": [{\"labels\": [\"1-10.\", \"1-11.\", \"1-15.\", \"1-16.\", \"1-17.\", \"1-18.\", \"1-19.\", \"10-4.\", \"10-7.\", \"11-1.\", \"11-14.\", \"11-17.\", \"11-20.\", \"11-7.\", \"13-20.\", \"13-8.\", \"14-10.\", \"14-11.\", \"14-14.\", \"14-7.\", \"15-1.\", \"15-20.\", \"16-1.\", \"16-16.\", \"17-10.\", \"17-11.\", \"17-2.\", \"19-1.\", \"19-16.\", \"19-19.\", \"19-20.\", \"19-3.\", \"2-10.\", \"2-11.\", \"2-17.\", \"2-18.\", \"2-20.\", \"2-3.\", \"2-4.\", \"2-5.\", \"2-6.\", \"2-7.\", \"2-8.\", \"3-13.\", \"3-18.\", \"3-3.\", \"4-1.\", \"4-10.\", \"4-11.\", \"4-19.\", \"5-5.\", \"6-15.\", \"7-10.\", \"7-14.\", \"8-18.\", \"8-20.\", \"8-3.\", \"8-8.\"], \"domains\": [1, 2, 3, 4, 5], \"num_examples_per_domain_per_label\": -1, \"pickle_path\": \"/root/csc500-main/datasets/cores.stratified_ds.2022A.pkl\", \"source_or_target_dataset\": \"source\", \"x_transforms\": [], \"episode_transforms\": [], \"domain_prefix\": \"CORES_\"}, {\"labels\": [\"3123D52\", \"3123D65\", \"3123D79\", \"3123D80\", \"3123D54\", \"3123D70\", \"3123D7B\", \"3123D89\", \"3123D58\", \"3123D76\", \"3123D7D\", \"3123EFE\", \"3123D64\", \"3123D78\", \"3123D7E\", \"3124E4A\"], \"domains\": [32, 38, 8, 44, 14, 50, 20, 26], \"num_examples_per_domain_per_label\": 2000, \"pickle_path\": \"/root/csc500-main/datasets/oracle.Run1_framed_2000Examples_stratified_ds.2022A.pkl\", \"source_or_target_dataset\": \"target\", \"x_transforms\": [], \"episode_transforms\": [], \"domain_prefix\": \"ORACLE.run1_\"}], \"dataset_seed\": 7, \"seed\": 7, \"x_shape\": [2, 256], \"domains_source\": [\"CORES_1\", \"CORES_2\", \"CORES_3\", \"CORES_4\", \"CORES_5\"], \"domains_target\": [\"ORACLE.run1_32\", \"ORACLE.run1_38\", \"ORACLE.run1_8\", \"ORACLE.run1_44\", \"ORACLE.run1_14\", \"ORACLE.run1_50\", \"ORACLE.run1_20\", \"ORACLE.run1_26\"]}, \"results\": {\"source_test_label_accuracy\": 0.9994703389830508, \"source_test_label_loss\": 0.006844525691121817, \"target_test_label_accuracy\": 0.5271484375, \"target_test_label_loss\": 1.660841464996338, \"source_val_label_accuracy\": 0.9995, \"source_val_label_loss\": 0.007808109745383263, \"target_val_label_accuracy\": 0.5269205729166667, \"target_val_label_loss\": 1.6570775508880615, \"total_epochs_trained\": 9, \"total_experiment_time_secs\": 2211.99880194664, \"confusion\": {\"CORES_5\": {\"26\": {\"26\": 24}, \"7\": {\"7\": 32}, \"56\": {\"56\": 142}, \"36\": {\"36\": 92}, \"47\": {\"47\": 100}, \"2\": {\"2\": 28}, \"15\": {\"15\": 152}, \"14\": {\"14\": 44}, \"27\": {\"27\": 146}, \"40\": {\"40\": 124}, \"49\": {\"49\": 36}, \"45\": {\"45\": 124}, \"46\": {\"46\": 136}, \"11\": {\"11\": 130}, \"30\": {\"30\": 112}, \"0\": {\"0\": 124}, \"10\": {\"10\": 68}, \"1\": {\"1\": 148}, \"42\": {\"42\": 38, \"10\": 1, \"16\": 1}, \"54\": {\"54\": 112}, \"55\": {\"55\": 152}, \"23\": {\"23\": 124}, \"25\": {\"25\": 152}, \"28\": {\"28\": 32}, \"32\": {\"32\": 32}, \"9\": {\"9\": 142}, \"39\": {\"39\": 20}, \"3\": {\"3\": 100}, \"29\": {\"29\": 118}, \"17\": {\"17\": 116}, \"35\": {\"35\": 36}, \"44\": {\"44\": 152}, \"5\": {\"5\": 128}, \"33\": {\"33\": 32}, \"34\": {\"34\": 36}, \"13\": {\"13\": 138}, \"41\": {\"41\": 28}, \"6\": {\"6\": 127, \"45\": 1}, \"51\": {\"51\": 138}, \"50\": {\"50\": 144}, \"37\": {\"37\": 24}, \"19\": {\"19\": 144}, \"57\": {\"57\": 132}, \"21\": {\"21\": 144}, \"24\": {\"24\": 80}, \"8\": {\"8\": 130}, \"12\": {\"12\": 96}, \"48\": {\"48\": 132}, \"43\": {\"43\": 150}, \"53\": {\"53\": 148}, \"38\": {\"38\": 32}, \"16\": {\"16\": 142}, \"22\": {\"22\": 28}, \"4\": {\"4\": 100}, \"18\": {\"18\": 64}, \"20\": {\"20\": 144}, \"52\": {\"52\": 140}, \"31\": {\"31\": 36}}, \"CORES_1\": {\"41\": {\"41\": 24}, \"40\": {\"40\": 110}, \"45\": {\"45\": 138}, \"51\": {\"51\": 148}, \"5\": {\"5\": 154}, \"30\": {\"30\": 120}, \"42\": {\"42\": 40}, \"46\": {\"46\": 136}, \"48\": {\"48\": 134}, \"53\": {\"53\": 144}, \"47\": {\"47\": 152}, \"49\": {\"49\": 32}, \"36\": {\"36\": 64}, \"32\": {\"32\": 32}, \"34\": {\"34\": 24}, \"29\": {\"29\": 140}, \"35\": {\"35\": 36}, \"3\": {\"3\": 134}, \"16\": {\"16\": 140}, \"26\": {\"26\": 24}, \"57\": {\"57\": 144}, \"44\": {\"44\": 128}, \"0\": {\"0\": 152}, \"4\": {\"4\": 132}, \"31\": {\"31\": 28}, \"11\": {\"11\": 140}, \"6\": {\"6\": 96}, \"54\": {\"54\": 104}, \"17\": {\"17\": 64}, \"20\": {\"20\": 128}, \"13\": {\"13\": 150}, \"33\": {\"33\": 32}, \"24\": {\"24\": 108}, \"52\": {\"52\": 132}, \"2\": {\"2\": 36}, \"19\": {\"19\": 156}, \"39\": {\"39\": 28}, \"8\": {\"8\": 140}, \"21\": {\"21\": 124}, \"10\": {\"10\": 96}, \"37\": {\"37\": 32}, \"25\": {\"25\": 144}, \"27\": {\"27\": 130}, \"23\": {\"23\": 136}, \"1\": {\"1\": 100}, \"50\": {\"50\": 152}, \"12\": {\"12\": 116}, \"18\": {\"18\": 72}, \"38\": {\"38\": 24}, \"14\": {\"14\": 24}, \"56\": {\"56\": 142}, \"55\": {\"55\": 160}, \"9\": {\"9\": 138}, \"15\": {\"15\": 146}, \"28\": {\"28\": 28}, \"7\": {\"7\": 28}, \"43\": {\"43\": 136}, \"22\": {\"22\": 136}}, \"CORES_3\": {\"1\": {\"1\": 100}, \"9\": {\"9\": 124}, \"22\": {\"22\": 136}, \"43\": {\"43\": 136}, \"49\": {\"49\": 20}, \"50\": {\"50\": 137, \"21\": 1}, \"53\": {\"53\": 136}, \"10\": {\"10\": 64}, \"48\": {\"48\": 115, \"41\": 1}, \"8\": {\"8\": 138}, \"31\": {\"31\": 28}, \"56\": {\"56\": 134}, \"25\": {\"25\": 142}, \"28\": {\"28\": 28}, \"38\": {\"38\": 28}, \"5\": {\"5\": 116}, \"12\": {\"12\": 92}, \"6\": {\"6\": 88}, \"19\": {\"19\": 152}, \"26\": {\"26\": 24}, \"32\": {\"32\": 28}, \"33\": {\"33\": 28}, \"3\": {\"3\": 118}, \"51\": {\"51\": 128}, \"16\": {\"16\": 138}, \"46\": {\"46\": 140}, \"7\": {\"7\": 36}, \"47\": {\"47\": 92}, \"39\": {\"39\": 16}, \"40\": {\"40\": 136}, \"14\": {\"14\": 40}, \"37\": {\"37\": 28}, \"2\": {\"2\": 32}, \"21\": {\"21\": 120}, \"35\": {\"35\": 28}, \"54\": {\"54\": 100}, \"52\": {\"52\": 116}, \"29\": {\"29\": 118}, \"20\": {\"20\": 132}, \"18\": {\"18\": 84}, \"11\": {\"11\": 142}, \"0\": {\"0\": 124}, \"36\": {\"36\": 100}, \"17\": {\"17\": 108}, \"30\": {\"30\": 114}, \"42\": {\"42\": 28}, \"45\": {\"45\": 60}, \"4\": {\"4\": 148}, \"23\": {\"23\": 134}, \"13\": {\"13\": 128}, \"15\": {\"15\": 128}, \"57\": {\"57\": 124}, \"27\": {\"27\": 134}, \"44\": {\"44\": 88}, \"34\": {\"34\": 32}, \"41\": {\"41\": 28}, \"24\": {\"24\": 104}, \"55\": {\"55\": 118}}, \"CORES_4\": {\"52\": {\"52\": 116}, \"6\": {\"6\": 111, \"3\": 1}, \"14\": {\"14\": 16}, \"49\": {\"49\": 20}, \"0\": {\"0\": 80}, \"46\": {\"46\": 156}, \"41\": {\"41\": 36}, \"24\": {\"24\": 56}, \"25\": {\"25\": 152}, \"40\": {\"40\": 138}, \"38\": {\"38\": 40}, \"13\": {\"13\": 152}, \"9\": {\"9\": 108}, \"45\": {\"45\": 96}, \"43\": {\"43\": 144}, \"10\": {\"10\": 130}, \"15\": {\"15\": 127, \"11\": 1}, \"39\": {\"39\": 20}, \"4\": {\"4\": 132}, \"53\": {\"53\": 132}, \"1\": {\"1\": 40}, \"28\": {\"28\": 32}, \"54\": {\"54\": 108}, \"21\": {\"21\": 132}, \"7\": {\"7\": 24}, \"8\": {\"8\": 136}, \"42\": {\"42\": 32}, \"11\": {\"11\": 103, \"15\": 1}, \"33\": {\"33\": 36}, \"27\": {\"27\": 142}, \"19\": {\"19\": 144}, \"2\": {\"2\": 36}, \"3\": {\"3\": 118, \"6\": 2}, \"57\": {\"57\": 100}, \"20\": {\"20\": 112}, \"23\": {\"23\": 128}, \"22\": {\"22\": 128}, \"29\": {\"29\": 124}, \"36\": {\"36\": 92}, \"51\": {\"51\": 132}, \"31\": {\"31\": 28}, \"12\": {\"12\": 92}, \"56\": {\"56\": 138}, \"5\": {\"5\": 108}, \"35\": {\"35\": 40}, \"17\": {\"17\": 80}, \"32\": {\"32\": 24}, \"47\": {\"47\": 120}, \"18\": {\"18\": 107, \"16\": 1}, \"26\": {\"26\": 24}, \"50\": {\"50\": 122}, \"55\": {\"55\": 124}, \"34\": {\"34\": 24}, \"30\": {\"30\": 44}, \"37\": {\"37\": 24}, \"44\": {\"44\": 132}, \"48\": {\"48\": 118}, \"16\": {\"16\": 96}}, \"CORES_2\": {\"11\": {\"11\": 130}, \"21\": {\"21\": 120}, \"19\": {\"19\": 140}, \"20\": {\"20\": 128}, \"9\": {\"9\": 140}, \"10\": {\"10\": 112}, \"37\": {\"37\": 36}, \"32\": {\"32\": 28}, \"3\": {\"3\": 92}, \"39\": {\"39\": 28}, \"45\": {\"45\": 128}, \"50\": {\"50\": 136}, \"40\": {\"40\": 140}, \"46\": {\"46\": 128}, \"12\": {\"12\": 92}, \"13\": {\"13\": 116}, \"47\": {\"47\": 132}, \"15\": {\"15\": 142}, \"54\": {\"54\": 108}, \"48\": {\"48\": 148}, \"23\": {\"23\": 142}, \"29\": {\"29\": 128}, \"38\": {\"38\": 20}, \"53\": {\"53\": 136}, \"27\": {\"27\": 150}, \"43\": {\"43\": 144}, \"35\": {\"35\": 32}, \"0\": {\"0\": 48}, \"52\": {\"52\": 124}, \"8\": {\"8\": 128}, \"24\": {\"24\": 96}, \"18\": {\"18\": 48}, \"25\": {\"25\": 148}, \"57\": {\"57\": 136}, \"55\": {\"55\": 134}, \"36\": {\"36\": 116}, \"17\": {\"17\": 104}, \"2\": {\"2\": 32}, \"34\": {\"34\": 28}, \"1\": {\"1\": 112}, \"51\": {\"51\": 136}, \"31\": {\"31\": 28}, \"49\": {\"49\": 24}, \"14\": {\"14\": 24}, \"33\": {\"33\": 28}, \"41\": {\"41\": 20}, \"28\": {\"28\": 26, \"23\": 1, \"55\": 1}, \"5\": {\"5\": 120}, \"16\": {\"16\": 150}, \"4\": {\"4\": 128}, \"22\": {\"22\": 135, \"56\": 1}, \"6\": {\"6\": 118}, \"30\": {\"30\": 124}, \"26\": {\"26\": 24}, \"56\": {\"56\": 142}, \"42\": {\"42\": 36}, \"44\": {\"44\": 100}, \"7\": {\"7\": 36}}, \"ORACLE.run1_26\": {\"0\": {\"10\": 51, \"0\": 81, \"7\": 4, \"15\": 14, \"14\": 43, \"8\": 17, \"2\": 14, \"11\": 1, \"9\": 2, \"1\": 4, \"6\": 6, \"5\": 3}, \"4\": {\"4\": 210, \"13\": 25, \"3\": 4, \"7\": 1}, \"14\": {\"14\": 71, \"10\": 61, \"15\": 21, \"0\": 36, \"1\": 23, \"6\": 26, \"5\": 2}, \"12\": {\"12\": 155, \"9\": 23, \"13\": 11, \"3\": 4, \"7\": 20, \"8\": 23, \"2\": 3, \"0\": 1}, \"8\": {\"9\": 26, \"8\": 86, \"7\": 53, \"2\": 35, \"13\": 3, \"0\": 10, \"12\": 21, \"3\": 4, \"10\": 2}, \"7\": {\"7\": 64, \"2\": 34, \"8\": 54, \"9\": 36, \"3\": 40, \"13\": 10, \"10\": 1, \"12\": 1}, \"13\": {\"13\": 116, \"9\": 36, \"3\": 37, \"7\": 8, \"12\": 14, \"4\": 16, \"8\": 5, \"2\": 7, \"0\": 1}, \"5\": {\"10\": 6, \"5\": 99, \"15\": 58, \"1\": 30, \"6\": 35, \"11\": 6, \"14\": 6}, \"15\": {\"14\": 26, \"11\": 4, \"15\": 46, \"5\": 59, \"10\": 13, \"0\": 6, \"6\": 61, \"1\": 25}, \"10\": {\"10\": 61, \"0\": 32, \"14\": 75, \"6\": 29, \"15\": 21, \"1\": 20, \"5\": 2}, \"3\": {\"3\": 98, \"13\": 45, \"9\": 32, \"2\": 9, \"4\": 3, \"7\": 44, \"8\": 9}, \"9\": {\"3\": 31, \"7\": 39, \"13\": 44, \"9\": 55, \"8\": 26, \"0\": 2, \"12\": 10, \"2\": 33}, \"6\": {\"11\": 8, \"15\": 38, \"5\": 28, \"6\": 83, \"14\": 23, \"1\": 41, \"0\": 4, \"10\": 15}, \"1\": {\"6\": 52, \"15\": 23, \"14\": 25, \"1\": 97, \"10\": 20, \"11\": 10, \"5\": 11, \"0\": 2}, \"11\": {\"11\": 174, \"5\": 16, \"1\": 13, \"6\": 26, \"15\": 10, \"10\": 1}, \"2\": {\"0\": 13, \"9\": 36, \"7\": 48, \"8\": 37, \"2\": 73, \"3\": 18, \"13\": 9, \"14\": 2, \"12\": 2, \"10\": 2}}, \"ORACLE.run1_44\": {\"1\": {\"1\": 171, \"2\": 40, \"8\": 11, \"15\": 11, \"4\": 1, \"10\": 3, \"0\": 2, \"9\": 1}, \"11\": {\"11\": 238, \"13\": 2}, \"3\": {\"3\": 142, \"12\": 98}, \"6\": {\"13\": 83, \"6\": 116, \"9\": 35, \"7\": 4, \"4\": 1, \"10\": 1}, \"7\": {\"7\": 91, \"14\": 16, \"5\": 4, \"4\": 30, \"10\": 49, \"9\": 48, \"6\": 2}, \"5\": {\"4\": 43, \"5\": 97, \"7\": 10, \"2\": 4, \"14\": 48, \"8\": 11, \"9\": 6, \"15\": 21}, \"2\": {\"10\": 7, \"2\": 154, \"7\": 4, \"14\": 10, \"15\": 18, \"1\": 31, \"4\": 7, \"9\": 6, \"5\": 1, \"8\": 2}, \"15\": {\"5\": 28, \"15\": 91, \"8\": 50, \"14\": 25, \"1\": 7, \"2\": 20, \"0\": 6, \"4\": 10, \"9\": 1, \"7\": 1, \"10\": 1}, \"10\": {\"7\": 69, \"10\": 108, \"2\": 11, \"5\": 1, \"1\": 7, \"4\": 14, \"9\": 21, \"13\": 1, \"14\": 6, \"15\": 2}, \"13\": {\"13\": 137, \"6\": 79, \"9\": 11, \"7\": 1, \"11\": 10, \"4\": 1, \"10\": 1}, \"8\": {\"15\": 42, \"8\": 116, \"0\": 55, \"4\": 4, \"5\": 9, \"1\": 6, \"14\": 6, \"2\": 2}, \"4\": {\"7\": 42, \"14\": 30, \"2\": 14, \"4\": 54, \"9\": 43, \"15\": 21, \"8\": 4, \"5\": 21, \"10\": 6, \"6\": 4, \"1\": 1}, \"9\": {\"10\": 16, \"9\": 40, \"4\": 26, \"6\": 42, \"14\": 13, \"7\": 50, \"13\": 30, \"2\": 14, \"5\": 6, \"15\": 3}, \"14\": {\"4\": 50, \"15\": 22, \"14\": 76, \"5\": 44, \"10\": 14, \"7\": 14, \"9\": 16, \"2\": 3, \"8\": 1}, \"0\": {\"8\": 59, \"0\": 164, \"15\": 8, \"1\": 7, \"2\": 2}, \"12\": {\"12\": 143, \"3\": 97}}, \"ORACLE.run1_50\": {\"15\": {\"15\": 79, \"6\": 62, \"5\": 33, \"9\": 34, \"11\": 22, \"4\": 1, \"12\": 4, \"7\": 4, \"3\": 1}, \"4\": {\"7\": 89, \"4\": 120, \"9\": 2, \"5\": 16, \"15\": 10, \"3\": 1, \"6\": 2}, \"6\": {\"15\": 71, \"5\": 31, \"6\": 83, \"4\": 2, \"3\": 18, \"11\": 13, \"9\": 17, \"7\": 1, \"12\": 4}, \"2\": {\"2\": 117, \"0\": 67, \"14\": 54, \"10\": 2}, \"5\": {\"7\": 49, \"4\": 30, \"11\": 12, \"5\": 65, \"15\": 26, \"3\": 10, \"13\": 13, \"6\": 30, \"9\": 2, \"1\": 2, \"12\": 1}, \"9\": {\"6\": 15, \"12\": 43, \"9\": 124, \"15\": 37, \"11\": 13, \"5\": 4, \"4\": 4}, \"8\": {\"8\": 191, \"1\": 19, \"10\": 24, \"13\": 5, \"0\": 1}, \"12\": {\"12\": 150, \"11\": 33, \"9\": 46, \"15\": 6, \"6\": 5}, \"10\": {\"8\": 36, \"10\": 160, \"0\": 38, \"2\": 1, \"1\": 5}, \"1\": {\"1\": 148, \"13\": 55, \"8\": 21, \"10\": 13, \"11\": 2, \"12\": 1}, \"0\": {\"2\": 62, \"0\": 124, \"14\": 18, \"10\": 35, \"8\": 1}, \"3\": {\"3\": 193, \"6\": 23, \"5\": 12, \"13\": 2, \"15\": 7, \"11\": 3}, \"13\": {\"13\": 165, \"1\": 45, \"11\": 5, \"8\": 18, \"3\": 6, \"6\": 1}, \"11\": {\"12\": 51, \"9\": 27, \"11\": 112, \"15\": 22, \"6\": 20, \"13\": 3, \"5\": 4, \"3\": 1}, \"7\": {\"7\": 149, \"4\": 57, \"5\": 31, \"15\": 1, \"6\": 1, \"9\": 1}, \"14\": {\"14\": 154, \"0\": 23, \"2\": 62, \"1\": 1}}, \"ORACLE.run1_38\": {\"15\": {\"15\": 174, \"5\": 16, \"8\": 17, \"1\": 19, \"12\": 8, \"6\": 6}, \"11\": {\"11\": 240}, \"10\": {\"10\": 145, \"13\": 17, \"0\": 51, \"4\": 24, \"3\": 3}, \"14\": {\"2\": 44, \"14\": 154, \"4\": 13, \"7\": 22, \"8\": 1, \"0\": 1, \"13\": 5}, \"6\": {\"6\": 153, \"1\": 87}, \"4\": {\"10\": 24, \"4\": 199, \"0\": 5, \"14\": 8, \"13\": 4}, \"13\": {\"0\": 56, \"13\": 134, \"2\": 7, \"7\": 13, \"10\": 23, \"4\": 4, \"14\": 3}, \"3\": {\"3\": 239, \"11\": 1}, \"7\": {\"7\": 131, \"13\": 15, \"2\": 54, \"8\": 7, \"0\": 10, \"9\": 8, \"5\": 6, \"14\": 9}, \"8\": {\"8\": 57, \"5\": 63, \"9\": 16, \"7\": 32, \"2\": 33, \"12\": 17, \"15\": 17, \"14\": 5}, \"1\": {\"1\": 158, \"6\": 82}, \"5\": {\"5\": 63, \"15\": 22, \"7\": 18, \"9\": 24, \"2\": 21, \"8\": 85, \"12\": 5, \"13\": 2}, \"0\": {\"3\": 16, \"10\": 52, \"13\": 61, \"0\": 83, \"2\": 3, \"7\": 17, \"4\": 6, \"14\": 1, \"8\": 1}, \"2\": {\"2\": 121, \"7\": 51, \"14\": 46, \"5\": 6, \"8\": 8, \"9\": 4, \"13\": 4}, \"12\": {\"12\": 211, \"5\": 7, \"8\": 20, \"15\": 2}, \"9\": {\"8\": 16, \"5\": 23, \"7\": 21, \"9\": 171, \"0\": 1, \"2\": 8}}, \"ORACLE.run1_20\": {\"10\": {\"10\": 134, \"13\": 34, \"4\": 50, \"2\": 3, \"7\": 2, \"6\": 3, \"12\": 13, \"15\": 1}, \"7\": {\"1\": 17, \"7\": 59, \"6\": 46, \"3\": 11, \"12\": 13, \"2\": 26, \"5\": 8, \"14\": 6, \"9\": 18, \"4\": 4, \"13\": 11, \"15\": 18, \"10\": 1, \"8\": 2}, \"4\": {\"7\": 12, \"15\": 16, \"6\": 14, \"4\": 88, \"2\": 27, \"13\": 21, \"12\": 30, \"10\": 21, \"1\": 5, \"14\": 3, \"5\": 1, \"9\": 2}, \"13\": {\"13\": 86, \"12\": 39, \"4\": 22, \"6\": 11, \"10\": 18, \"9\": 1, \"2\": 33, \"7\": 9, \"15\": 21}, \"1\": {\"7\": 24, \"1\": 62, \"2\": 4, \"5\": 50, \"3\": 23, \"9\": 26, \"8\": 8, \"6\": 6, \"4\": 5, \"15\": 18, \"12\": 8, \"14\": 5, \"13\": 1}, \"0\": {\"0\": 185, \"11\": 22, \"5\": 8, \"1\": 1, \"8\": 17, \"14\": 3, \"3\": 4}, \"12\": {\"13\": 24, \"9\": 9, \"4\": 33, \"2\": 40, \"7\": 22, \"6\": 8, \"1\": 13, \"12\": 43, \"15\": 40, \"5\": 2, \"3\": 1, \"10\": 5}, \"5\": {\"1\": 57, \"3\": 47, \"5\": 56, \"9\": 20, \"8\": 18, \"14\": 13, \"6\": 2, \"7\": 11, \"12\": 2, \"15\": 8, \"4\": 1, \"13\": 1, \"2\": 3, \"0\": 1}, \"6\": {\"12\": 8, \"7\": 49, \"6\": 86, \"2\": 25, \"9\": 13, \"4\": 13, \"14\": 10, \"10\": 4, \"13\": 10, \"15\": 9, \"1\": 3, \"5\": 3, \"3\": 5, \"8\": 2}, \"2\": {\"1\": 13, \"12\": 26, \"6\": 24, \"2\": 44, \"13\": 33, \"15\": 27, \"7\": 29, \"9\": 18, \"5\": 4, \"4\": 17, \"3\": 1, \"10\": 4}, \"8\": {\"8\": 72, \"14\": 56, \"3\": 46, \"1\": 8, \"9\": 11, \"5\": 29, \"7\": 3, \"0\": 10, \"6\": 2, \"15\": 1, \"2\": 1, \"11\": 1}, \"11\": {\"11\": 216, \"0\": 21, \"14\": 1, \"8\": 2}, \"9\": {\"1\": 33, \"14\": 7, \"9\": 54, \"12\": 4, \"7\": 29, \"3\": 23, \"2\": 16, \"5\": 28, \"8\": 2, \"6\": 27, \"15\": 16, \"4\": 1}, \"14\": {\"8\": 65, \"3\": 42, \"14\": 81, \"2\": 1, \"6\": 10, \"7\": 10, \"9\": 7, \"5\": 13, \"1\": 9, \"15\": 1, \"0\": 1}, \"15\": {\"12\": 33, \"7\": 19, \"2\": 44, \"15\": 42, \"1\": 26, \"5\": 9, \"6\": 7, \"4\": 22, \"9\": 16, \"13\": 21, \"3\": 1}, \"3\": {\"5\": 58, \"14\": 29, \"3\": 54, \"1\": 23, \"9\": 25, \"0\": 2, \"6\": 4, \"8\": 30, \"7\": 9, \"15\": 3, \"2\": 2, \"12\": 1}}, \"ORACLE.run1_14\": {\"14\": {\"14\": 78, \"3\": 15, \"2\": 49, \"8\": 5, \"13\": 32, \"6\": 15, \"0\": 32, \"5\": 14}, \"0\": {\"13\": 19, \"12\": 15, \"14\": 39, \"5\": 13, \"3\": 30, \"0\": 73, \"6\": 8, \"2\": 18, \"8\": 15, \"4\": 7, \"10\": 3}, \"4\": {\"4\": 187, \"10\": 16, \"1\": 2, \"5\": 18, \"8\": 2, \"2\": 13, \"0\": 1, \"9\": 1}, \"11\": {\"11\": 240}, \"13\": {\"6\": 57, \"2\": 35, \"4\": 4, \"14\": 24, \"0\": 12, \"3\": 30, \"13\": 49, \"15\": 18, \"7\": 2, \"5\": 5, \"8\": 3, \"12\": 1}, \"9\": {\"10\": 48, \"9\": 182, \"1\": 10}, \"3\": {\"3\": 107, \"0\": 24, \"2\": 10, \"6\": 44, \"14\": 14, \"8\": 8, \"13\": 33}, \"6\": {\"6\": 91, \"3\": 55, \"14\": 19, \"13\": 58, \"2\": 7, \"0\": 8, \"5\": 2}, \"1\": {\"1\": 229, \"10\": 6, \"9\": 4, \"4\": 1}, \"5\": {\"5\": 104, \"8\": 46, \"7\": 11, \"2\": 48, \"13\": 6, \"14\": 14, \"6\": 1, \"0\": 5, \"4\": 5}, \"12\": {\"12\": 219, \"0\": 13, \"4\": 1, \"8\": 6, \"10\": 1}, \"10\": {\"10\": 175, \"4\": 29, \"9\": 30, \"12\": 2, \"1\": 4}, \"8\": {\"8\": 163, \"2\": 8, \"5\": 36, \"7\": 7, \"4\": 1, \"12\": 2, \"0\": 14, \"13\": 6, \"14\": 2, \"3\": 1}, \"7\": {\"5\": 19, \"7\": 191, \"2\": 8, \"6\": 3, \"8\": 18, \"14\": 1}, \"15\": {\"15\": 240}, \"2\": {\"6\": 30, \"5\": 55, \"2\": 47, \"13\": 16, \"4\": 23, \"0\": 9, \"3\": 14, \"14\": 32, \"8\": 10, \"7\": 4}}, \"ORACLE.run1_32\": {\"11\": {\"11\": 230, \"13\": 6, \"3\": 3, \"9\": 1}, \"1\": {\"1\": 240}, \"2\": {\"2\": 122, \"4\": 82, \"3\": 14, \"14\": 6, \"13\": 8, \"8\": 5, \"9\": 1, \"0\": 2}, \"0\": {\"8\": 48, \"0\": 81, \"5\": 27, \"7\": 48, \"15\": 5, \"14\": 28, \"2\": 3}, \"3\": {\"4\": 40, \"3\": 127, \"13\": 68, \"2\": 5}, \"8\": {\"0\": 60, \"8\": 76, \"5\": 17, \"15\": 17, \"7\": 25, \"14\": 28, \"4\": 8, \"3\": 1, \"2\": 8}, \"12\": {\"12\": 220, \"10\": 3, \"9\": 17}, \"5\": {\"5\": 78, \"8\": 26, \"7\": 57, \"14\": 18, \"0\": 34, \"15\": 27}, \"15\": {\"15\": 201, \"5\": 14, \"0\": 16, \"8\": 5, \"7\": 4}, \"7\": {\"7\": 99, \"5\": 44, \"14\": 33, \"0\": 39, \"8\": 18, \"15\": 7}, \"4\": {\"4\": 95, \"13\": 32, \"3\": 38, \"8\": 3, \"2\": 69, \"14\": 2, \"9\": 1}, \"14\": {\"5\": 19, \"2\": 22, \"14\": 78, \"0\": 45, \"7\": 40, \"8\": 25, \"15\": 2, \"4\": 5, \"13\": 1, \"3\": 3}, \"10\": {\"10\": 230, \"12\": 9, \"6\": 1}, \"6\": {\"6\": 236, \"10\": 4}, \"13\": {\"3\": 74, \"4\": 37, \"13\": 107, \"2\": 12, \"9\": 5, \"11\": 5}, \"9\": {\"12\": 24, \"9\": 164, \"13\": 22, \"4\": 19, \"11\": 2, \"3\": 3, \"2\": 6}}, \"ORACLE.run1_8\": {\"9\": {\"9\": 237, \"3\": 3}, \"11\": {\"8\": 47, \"11\": 60, \"14\": 12, \"6\": 20, \"5\": 12, \"4\": 24, \"1\": 43, \"10\": 15, \"7\": 7}, \"8\": {\"8\": 101, \"14\": 19, \"11\": 33, \"4\": 58, \"6\": 13, \"7\": 6, \"10\": 3, \"1\": 7}, \"4\": {\"4\": 109, \"8\": 62, \"14\": 28, \"11\": 23, \"1\": 7, \"6\": 10, \"7\": 1}, \"13\": {\"10\": 52, \"7\": 42, \"5\": 22, \"13\": 93, \"6\": 21, \"1\": 10}, \"14\": {\"14\": 142, \"8\": 34, \"4\": 49, \"11\": 15}, \"2\": {\"2\": 127, \"15\": 46, \"3\": 41, \"12\": 26}, \"3\": {\"3\": 231, \"2\": 7, \"9\": 2}, \"1\": {\"1\": 65, \"13\": 10, \"5\": 28, \"6\": 23, \"11\": 49, \"10\": 28, \"7\": 13, \"8\": 13, \"4\": 11}, \"0\": {\"0\": 240}, \"5\": {\"13\": 42, \"1\": 34, \"7\": 9, \"4\": 2, \"10\": 47, \"5\": 78, \"11\": 22, \"6\": 4, \"12\": 1, \"8\": 1}, \"15\": {\"2\": 28, \"12\": 81, \"15\": 131}, \"10\": {\"1\": 21, \"7\": 45, \"11\": 6, \"5\": 35, \"10\": 56, \"6\": 36, \"13\": 41}, \"12\": {\"12\": 144, \"15\": 78, \"2\": 18}, \"6\": {\"6\": 80, \"7\": 70, \"11\": 9, \"4\": 10, \"1\": 22, \"5\": 6, \"10\": 30, \"8\": 7, \"13\": 6}, \"7\": {\"7\": 98, \"10\": 40, \"6\": 51, \"1\": 11, \"13\": 31, \"5\": 8, \"12\": 1}}}, \"per_domain_accuracy\": {\"CORES_5\": {\"accuracy\": 0.9994762569832403, \"source?\": true}, \"CORES_1\": {\"accuracy\": 1.0, \"source?\": true}, \"CORES_3\": {\"accuracy\": 0.9996323529411765, \"source?\": true}, \"CORES_4\": {\"accuracy\": 0.9988704819277109, \"source?\": true}, \"CORES_2\": {\"accuracy\": 0.9994673295454546, \"source?\": true}, \"ORACLE.run1_26\": {\"accuracy\": 0.40859375, \"source?\": false}, \"ORACLE.run1_44\": {\"accuracy\": 0.5046875, \"source?\": false}, \"ORACLE.run1_50\": {\"accuracy\": 0.5557291666666667, \"source?\": false}, \"ORACLE.run1_38\": {\"accuracy\": 0.63359375, \"source?\": false}, \"ORACLE.run1_20\": {\"accuracy\": 0.3546875, \"source?\": false}, \"ORACLE.run1_14\": {\"accuracy\": 0.6184895833333334, \"source?\": false}, \"ORACLE.run1_32\": {\"accuracy\": 0.6208333333333333, \"source?\": false}, \"ORACLE.run1_8\": {\"accuracy\": 0.51875, \"source?\": false}}}, \"history\": {\"epoch_indices\": [1, 2, 3, 4, 5, 6, 7, 8, 9], \"train_label_loss\": [0.025944210091891535, 0.00881474921862693, 0.006650601914348102, 0.005666992928121838, 0.004636210754664318, 0.004628838315590751, 0.0045255099290850654, 0.0053039921319211905, 0.0029562433814108212], \"source_val_label_loss\": [0.012977441772818565, 0.025092022493481636, 0.010341690853238106, 0.018650008365511894, 0.007808109745383263, 0.007888241671025753, 0.01661066710948944, 0.00858562346547842, 0.00704924063757062], \"target_val_label_loss\": [2.0578410625457764, 1.5919208526611328, 1.6941289901733398, 1.7361276149749756, 1.6570775508880615, 1.8764361143112183, 2.0475523471832275, 1.7007662057876587, 1.9461450576782227], \"source_val_acc_label\": [0.9971071428571429, 0.9966428571428572, 0.9987142857142857, 0.9987142857142857, 0.9995, 0.9992857142857143, 0.9979285714285714, 0.9996071428571428, 0.9991785714285715], \"target_val_acc_label\": [0.38401692708333335, 0.5177083333333333, 0.50419921875, 0.48245442708333336, 0.5269205729166667, 0.41282552083333335, 0.38082682291666664, 0.4601236979166667, 0.34329427083333336]}, \"dataset_metrics\": {\"source\": {\"train\": {\"n_unique_x\": 175192, \"n_unique_y\": 58, \"n_batch/episode\": 6298}, \"val\": {\"n_unique_x\": 37151, \"n_unique_y\": 58, \"n_batch/episode\": 875}, \"test\": {\"n_unique_x\": 37548, \"n_unique_y\": 58, \"n_batch/episode\": 885}}, \"target\": {\"train\": {\"n_unique_x\": 179200, \"n_unique_y\": 16, \"n_batch/episode\": 6720}, \"val\": {\"n_unique_x\": 38400, \"n_unique_y\": 16, \"n_batch/episode\": 960}, \"test\": {\"n_unique_x\": 38400, \"n_unique_y\": 16, \"n_batch/episode\": 960}}}}'"
      ]
     },
     "execution_count": 29,
     "metadata": {},
     "output_type": "execute_result"
    }
   ],
   "source": [
    "json.dumps(experiment)"
   ]
  }
 ],
 "metadata": {
  "celltoolbar": "Tags",
  "kernelspec": {
   "display_name": "Python 3 (ipykernel)",
   "language": "python",
   "name": "python3"
  },
  "language_info": {
   "codemirror_mode": {
    "name": "ipython",
    "version": 3
   },
   "file_extension": ".py",
   "mimetype": "text/x-python",
   "name": "python",
   "nbconvert_exporter": "python",
   "pygments_lexer": "ipython3",
   "version": "3.8.12"
  },
  "papermill": {
   "default_parameters": {},
   "duration": 2452.702642,
   "end_time": "2022-03-21T14:46:46.447252",
   "environment_variables": {},
   "exception": null,
   "input_path": "/root/csc500-main/csc500-notebooks/templates/tl_ptn_template.ipynb",
   "output_path": "trial.ipynb",
   "parameters": {
    "parameters": {
     "BEST_MODEL_PATH": "./best_model.pth",
     "NUM_LOGS_PER_EPOCH": 10,
     "criteria_for_best": "target_accuracy",
     "dataset_seed": 7,
     "datasets": [
      {
       "domain_prefix": "CORES_",
       "domains": [
        1,
        2,
        3,
        4,
        5
       ],
       "episode_transforms": [],
       "labels": [
        "1-10.",
        "1-11.",
        "1-15.",
        "1-16.",
        "1-17.",
        "1-18.",
        "1-19.",
        "10-4.",
        "10-7.",
        "11-1.",
        "11-14.",
        "11-17.",
        "11-20.",
        "11-7.",
        "13-20.",
        "13-8.",
        "14-10.",
        "14-11.",
        "14-14.",
        "14-7.",
        "15-1.",
        "15-20.",
        "16-1.",
        "16-16.",
        "17-10.",
        "17-11.",
        "17-2.",
        "19-1.",
        "19-16.",
        "19-19.",
        "19-20.",
        "19-3.",
        "2-10.",
        "2-11.",
        "2-17.",
        "2-18.",
        "2-20.",
        "2-3.",
        "2-4.",
        "2-5.",
        "2-6.",
        "2-7.",
        "2-8.",
        "3-13.",
        "3-18.",
        "3-3.",
        "4-1.",
        "4-10.",
        "4-11.",
        "4-19.",
        "5-5.",
        "6-15.",
        "7-10.",
        "7-14.",
        "8-18.",
        "8-20.",
        "8-3.",
        "8-8."
       ],
       "num_examples_per_domain_per_label": -1,
       "pickle_path": "/root/csc500-main/datasets/cores.stratified_ds.2022A.pkl",
       "source_or_target_dataset": "source",
       "x_transforms": []
      },
      {
       "domain_prefix": "ORACLE.run1_",
       "domains": [
        32,
        38,
        8,
        44,
        14,
        50,
        20,
        26
       ],
       "episode_transforms": [],
       "labels": [
        "3123D52",
        "3123D65",
        "3123D79",
        "3123D80",
        "3123D54",
        "3123D70",
        "3123D7B",
        "3123D89",
        "3123D58",
        "3123D76",
        "3123D7D",
        "3123EFE",
        "3123D64",
        "3123D78",
        "3123D7E",
        "3124E4A"
       ],
       "num_examples_per_domain_per_label": 2000,
       "pickle_path": "/root/csc500-main/datasets/oracle.Run1_framed_2000Examples_stratified_ds.2022A.pkl",
       "source_or_target_dataset": "target",
       "x_transforms": []
      }
     ],
     "device": "cuda",
     "experiment_name": "tl_1v2:cores-oracle.run1.framed",
     "lr": 0.0001,
     "n_epoch": 50,
     "n_query": 2,
     "n_shot": 3,
     "n_way": 16,
     "patience": 3,
     "seed": 7,
     "test_k_factor": 2,
     "torch_default_dtype": "torch.float32",
     "train_k_factor": 3,
     "val_k_factor": 2,
     "x_net": [
      {
       "class": "nnReshape",
       "kargs": {
        "shape": [
         -1,
         1,
         2,
         256
        ]
       }
      },
      {
       "class": "Conv2d",
       "kargs": {
        "bias": false,
        "in_channels": 1,
        "kernel_size": [
         1,
         7
        ],
        "out_channels": 256,
        "padding": [
         0,
         3
        ]
       }
      },
      {
       "class": "ReLU",
       "kargs": {
        "inplace": true
       }
      },
      {
       "class": "BatchNorm2d",
       "kargs": {
        "num_features": 256
       }
      },
      {
       "class": "Conv2d",
       "kargs": {
        "bias": true,
        "in_channels": 256,
        "kernel_size": [
         2,
         7
        ],
        "out_channels": 80,
        "padding": [
         0,
         3
        ]
       }
      },
      {
       "class": "ReLU",
       "kargs": {
        "inplace": true
       }
      },
      {
       "class": "BatchNorm2d",
       "kargs": {
        "num_features": 80
       }
      },
      {
       "class": "Flatten",
       "kargs": {}
      },
      {
       "class": "Linear",
       "kargs": {
        "in_features": 20480,
        "out_features": 256
       }
      },
      {
       "class": "ReLU",
       "kargs": {
        "inplace": true
       }
      },
      {
       "class": "BatchNorm1d",
       "kargs": {
        "num_features": 256
       }
      },
      {
       "class": "Linear",
       "kargs": {
        "in_features": 256,
        "out_features": 256
       }
      }
     ]
    }
   },
   "start_time": "2022-03-21T14:05:53.744610",
   "version": "2.3.4"
  }
 },
 "nbformat": 4,
 "nbformat_minor": 5
}