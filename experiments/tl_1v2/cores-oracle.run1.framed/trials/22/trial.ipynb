{
 "cells": [
  {
   "cell_type": "markdown",
   "id": "9fea5f46",
   "metadata": {
    "papermill": {
     "duration": 0.029349,
     "end_time": "2022-03-21T15:38:30.733990",
     "exception": false,
     "start_time": "2022-03-21T15:38:30.704641",
     "status": "completed"
    },
    "tags": []
   },
   "source": [
    "# Transfer Learning Template"
   ]
  },
  {
   "cell_type": "code",
   "execution_count": 1,
   "id": "0902182a",
   "metadata": {
    "execution": {
     "iopub.execute_input": "2022-03-21T15:38:30.793141Z",
     "iopub.status.busy": "2022-03-21T15:38:30.791995Z",
     "iopub.status.idle": "2022-03-21T15:38:32.624197Z",
     "shell.execute_reply": "2022-03-21T15:38:32.624519Z"
    },
    "papermill": {
     "duration": 1.869319,
     "end_time": "2022-03-21T15:38:32.624714",
     "exception": false,
     "start_time": "2022-03-21T15:38:30.755395",
     "status": "completed"
    },
    "tags": []
   },
   "outputs": [],
   "source": [
    "%load_ext autoreload\n",
    "%autoreload 2\n",
    "%matplotlib inline\n",
    "\n",
    "    \n",
    "import os, json, sys, time, random\n",
    "import numpy as np\n",
    "import torch\n",
    "from torch.optim import Adam\n",
    "from  easydict import EasyDict\n",
    "import matplotlib.pyplot as plt\n",
    "\n",
    "from steves_models.steves_ptn import Steves_Prototypical_Network\n",
    "\n",
    "from steves_utils.lazy_iterable_wrapper import Lazy_Iterable_Wrapper\n",
    "from steves_utils.iterable_aggregator import Iterable_Aggregator\n",
    "from steves_utils.ptn_train_eval_test_jig import  PTN_Train_Eval_Test_Jig\n",
    "from steves_utils.torch_sequential_builder import build_sequential\n",
    "from steves_utils.torch_utils import get_dataset_metrics, ptn_confusion_by_domain_over_dataloader\n",
    "from steves_utils.utils_v2 import (per_domain_accuracy_from_confusion, get_datasets_base_path)\n",
    "from steves_utils.PTN.utils import independent_accuracy_assesment\n",
    "\n",
    "from torch.utils.data import DataLoader\n",
    "\n",
    "from steves_utils.stratified_dataset.episodic_accessor import Episodic_Accessor_Factory\n",
    "\n",
    "from steves_utils.ptn_do_report import (\n",
    "    get_loss_curve,\n",
    "    get_results_table,\n",
    "    get_parameters_table,\n",
    "    get_domain_accuracies,\n",
    ")\n",
    "\n",
    "from steves_utils.transforms import get_chained_transform"
   ]
  },
  {
   "cell_type": "markdown",
   "id": "41c840b4",
   "metadata": {
    "papermill": {
     "duration": 0.018942,
     "end_time": "2022-03-21T15:38:32.663435",
     "exception": false,
     "start_time": "2022-03-21T15:38:32.644493",
     "status": "completed"
    },
    "tags": []
   },
   "source": [
    "# Allowed Parameters\n",
    "These are allowed parameters, not defaults\n",
    "Each of these values need to be present in the injected parameters (the notebook will raise an exception if they are not present)\n",
    "\n",
    "Papermill uses the cell tag \"parameters\" to inject the real parameters below this cell.\n",
    "Enable tags to see what I mean"
   ]
  },
  {
   "cell_type": "code",
   "execution_count": 2,
   "id": "fd44eb83",
   "metadata": {
    "execution": {
     "iopub.execute_input": "2022-03-21T15:38:32.705861Z",
     "iopub.status.busy": "2022-03-21T15:38:32.705278Z",
     "iopub.status.idle": "2022-03-21T15:38:32.727915Z",
     "shell.execute_reply": "2022-03-21T15:38:32.727094Z"
    },
    "papermill": {
     "duration": 0.045967,
     "end_time": "2022-03-21T15:38:32.728077",
     "exception": false,
     "start_time": "2022-03-21T15:38:32.682110",
     "status": "completed"
    },
    "tags": []
   },
   "outputs": [],
   "source": [
    "required_parameters = {\n",
    "    \"experiment_name\",\n",
    "    \"lr\",\n",
    "    \"device\",\n",
    "    \"seed\",\n",
    "    \"dataset_seed\",\n",
    "    \"n_shot\",\n",
    "    \"n_query\",\n",
    "    \"n_way\",\n",
    "    \"train_k_factor\",\n",
    "    \"val_k_factor\",\n",
    "    \"test_k_factor\",\n",
    "    \"n_epoch\",\n",
    "    \"patience\",\n",
    "    \"criteria_for_best\",\n",
    "    \"x_net\",\n",
    "    \"datasets\",\n",
    "    \"torch_default_dtype\",\n",
    "    \"NUM_LOGS_PER_EPOCH\",\n",
    "    \"BEST_MODEL_PATH\",\n",
    "    \"x_shape\",\n",
    "}"
   ]
  },
  {
   "cell_type": "code",
   "execution_count": 3,
   "id": "fa3f0049",
   "metadata": {
    "execution": {
     "iopub.execute_input": "2022-03-21T15:38:32.785981Z",
     "iopub.status.busy": "2022-03-21T15:38:32.785277Z",
     "iopub.status.idle": "2022-03-21T15:38:32.804365Z",
     "shell.execute_reply": "2022-03-21T15:38:32.803561Z"
    },
    "papermill": {
     "duration": 0.047295,
     "end_time": "2022-03-21T15:38:32.804524",
     "exception": false,
     "start_time": "2022-03-21T15:38:32.757229",
     "status": "completed"
    },
    "tags": [
     "parameters"
    ]
   },
   "outputs": [],
   "source": [
    "from steves_utils.CORES.utils import (\n",
    "    ALL_NODES,\n",
    "    ALL_NODES_MINIMUM_1000_EXAMPLES,\n",
    "    ALL_DAYS\n",
    ")\n",
    "\n",
    "from steves_utils.ORACLE.utils_v2 import (\n",
    "    ALL_DISTANCES_FEET_NARROWED,\n",
    "    ALL_RUNS,\n",
    "    ALL_SERIAL_NUMBERS,\n",
    ")\n",
    "\n",
    "standalone_parameters = {}\n",
    "standalone_parameters[\"experiment_name\"] = \"STANDALONE PTN\"\n",
    "standalone_parameters[\"lr\"] = 0.001\n",
    "standalone_parameters[\"device\"] = \"cuda\"\n",
    "\n",
    "standalone_parameters[\"seed\"] = 1337\n",
    "standalone_parameters[\"dataset_seed\"] = 1337\n",
    "\n",
    "standalone_parameters[\"n_way\"] = 8\n",
    "standalone_parameters[\"n_shot\"] = 3\n",
    "standalone_parameters[\"n_query\"]  = 2\n",
    "standalone_parameters[\"train_k_factor\"] = 1\n",
    "standalone_parameters[\"val_k_factor\"] = 2\n",
    "standalone_parameters[\"test_k_factor\"] = 2\n",
    "\n",
    "\n",
    "standalone_parameters[\"n_epoch\"] = 50\n",
    "\n",
    "standalone_parameters[\"patience\"] = 10\n",
    "standalone_parameters[\"criteria_for_best\"] = \"source_loss\"\n",
    "\n",
    "standalone_parameters[\"datasets\"] = [\n",
    "    {\n",
    "        \"labels\": ALL_SERIAL_NUMBERS,\n",
    "        \"domains\": ALL_DISTANCES_FEET_NARROWED,\n",
    "        \"num_examples_per_domain_per_label\": 100,\n",
    "        \"pickle_path\": os.path.join(get_datasets_base_path(), \"oracle.Run1_framed_2000Examples_stratified_ds.2022A.pkl\"),\n",
    "        \"source_or_target_dataset\": \"source\",\n",
    "        \"x_transforms\": [\"unit_mag\", \"minus_two\"],\n",
    "        \"episode_transforms\": [],\n",
    "        \"domain_prefix\": \"ORACLE_\"\n",
    "    },\n",
    "    {\n",
    "        \"labels\": ALL_NODES,\n",
    "        \"domains\": ALL_DAYS,\n",
    "        \"num_examples_per_domain_per_label\": 100,\n",
    "        \"pickle_path\": os.path.join(get_datasets_base_path(), \"cores.stratified_ds.2022A.pkl\"),\n",
    "        \"source_or_target_dataset\": \"target\",\n",
    "        \"x_transforms\": [\"unit_power\", \"times_zero\"],\n",
    "        \"episode_transforms\": [],\n",
    "        \"domain_prefix\": \"CORES_\"\n",
    "    }   \n",
    "]\n",
    "\n",
    "standalone_parameters[\"torch_default_dtype\"] = \"torch.float32\" \n",
    "\n",
    "\n",
    "\n",
    "standalone_parameters[\"x_net\"] =     [\n",
    "    {\"class\": \"nnReshape\", \"kargs\": {\"shape\":[-1, 1, 2, 256]}},\n",
    "    {\"class\": \"Conv2d\", \"kargs\": { \"in_channels\":1, \"out_channels\":256, \"kernel_size\":(1,7), \"bias\":False, \"padding\":(0,3), },},\n",
    "    {\"class\": \"ReLU\", \"kargs\": {\"inplace\": True}},\n",
    "    {\"class\": \"BatchNorm2d\", \"kargs\": {\"num_features\":256}},\n",
    "\n",
    "    {\"class\": \"Conv2d\", \"kargs\": { \"in_channels\":256, \"out_channels\":80, \"kernel_size\":(2,7), \"bias\":True, \"padding\":(0,3), },},\n",
    "    {\"class\": \"ReLU\", \"kargs\": {\"inplace\": True}},\n",
    "    {\"class\": \"BatchNorm2d\", \"kargs\": {\"num_features\":80}},\n",
    "    {\"class\": \"Flatten\", \"kargs\": {}},\n",
    "\n",
    "    {\"class\": \"Linear\", \"kargs\": {\"in_features\": 80*256, \"out_features\": 256}}, # 80 units per IQ pair\n",
    "    {\"class\": \"ReLU\", \"kargs\": {\"inplace\": True}},\n",
    "    {\"class\": \"BatchNorm1d\", \"kargs\": {\"num_features\":256}},\n",
    "\n",
    "    {\"class\": \"Linear\", \"kargs\": {\"in_features\": 256, \"out_features\": 256}},\n",
    "]\n",
    "\n",
    "# Parameters relevant to results\n",
    "# These parameters will basically never need to change\n",
    "standalone_parameters[\"NUM_LOGS_PER_EPOCH\"] = 10\n",
    "standalone_parameters[\"BEST_MODEL_PATH\"] = \"./best_model.pth\"\n",
    "\n",
    "\n",
    "\n",
    "\n"
   ]
  },
  {
   "cell_type": "code",
   "execution_count": 4,
   "id": "75da0d97",
   "metadata": {
    "execution": {
     "iopub.execute_input": "2022-03-21T15:38:32.868303Z",
     "iopub.status.busy": "2022-03-21T15:38:32.867335Z",
     "iopub.status.idle": "2022-03-21T15:38:32.899578Z",
     "shell.execute_reply": "2022-03-21T15:38:32.898747Z"
    },
    "papermill": {
     "duration": 0.067302,
     "end_time": "2022-03-21T15:38:32.899740",
     "exception": false,
     "start_time": "2022-03-21T15:38:32.832438",
     "status": "completed"
    },
    "tags": [
     "injected-parameters"
    ]
   },
   "outputs": [],
   "source": [
    "# Parameters\n",
    "parameters = {\n",
    "    \"experiment_name\": \"tl_1v2:cores-oracle.run1.framed\",\n",
    "    \"device\": \"cuda\",\n",
    "    \"lr\": 0.0001,\n",
    "    \"n_shot\": 3,\n",
    "    \"n_query\": 2,\n",
    "    \"train_k_factor\": 3,\n",
    "    \"val_k_factor\": 2,\n",
    "    \"test_k_factor\": 2,\n",
    "    \"torch_default_dtype\": \"torch.float32\",\n",
    "    \"n_epoch\": 50,\n",
    "    \"patience\": 3,\n",
    "    \"criteria_for_best\": \"target_accuracy\",\n",
    "    \"x_net\": [\n",
    "        {\"class\": \"nnReshape\", \"kargs\": {\"shape\": [-1, 1, 2, 256]}},\n",
    "        {\n",
    "            \"class\": \"Conv2d\",\n",
    "            \"kargs\": {\n",
    "                \"in_channels\": 1,\n",
    "                \"out_channels\": 256,\n",
    "                \"kernel_size\": [1, 7],\n",
    "                \"bias\": False,\n",
    "                \"padding\": [0, 3],\n",
    "            },\n",
    "        },\n",
    "        {\"class\": \"ReLU\", \"kargs\": {\"inplace\": True}},\n",
    "        {\"class\": \"BatchNorm2d\", \"kargs\": {\"num_features\": 256}},\n",
    "        {\n",
    "            \"class\": \"Conv2d\",\n",
    "            \"kargs\": {\n",
    "                \"in_channels\": 256,\n",
    "                \"out_channels\": 80,\n",
    "                \"kernel_size\": [2, 7],\n",
    "                \"bias\": True,\n",
    "                \"padding\": [0, 3],\n",
    "            },\n",
    "        },\n",
    "        {\"class\": \"ReLU\", \"kargs\": {\"inplace\": True}},\n",
    "        {\"class\": \"BatchNorm2d\", \"kargs\": {\"num_features\": 80}},\n",
    "        {\"class\": \"Flatten\", \"kargs\": {}},\n",
    "        {\"class\": \"Linear\", \"kargs\": {\"in_features\": 20480, \"out_features\": 256}},\n",
    "        {\"class\": \"ReLU\", \"kargs\": {\"inplace\": True}},\n",
    "        {\"class\": \"BatchNorm1d\", \"kargs\": {\"num_features\": 256}},\n",
    "        {\"class\": \"Linear\", \"kargs\": {\"in_features\": 256, \"out_features\": 256}},\n",
    "    ],\n",
    "    \"NUM_LOGS_PER_EPOCH\": 10,\n",
    "    \"BEST_MODEL_PATH\": \"./best_model.pth\",\n",
    "    \"n_way\": 16,\n",
    "    \"datasets\": [\n",
    "        {\n",
    "            \"labels\": [\n",
    "                \"1-10.\",\n",
    "                \"1-11.\",\n",
    "                \"1-15.\",\n",
    "                \"1-16.\",\n",
    "                \"1-17.\",\n",
    "                \"1-18.\",\n",
    "                \"1-19.\",\n",
    "                \"10-4.\",\n",
    "                \"10-7.\",\n",
    "                \"11-1.\",\n",
    "                \"11-14.\",\n",
    "                \"11-17.\",\n",
    "                \"11-20.\",\n",
    "                \"11-7.\",\n",
    "                \"13-20.\",\n",
    "                \"13-8.\",\n",
    "                \"14-10.\",\n",
    "                \"14-11.\",\n",
    "                \"14-14.\",\n",
    "                \"14-7.\",\n",
    "                \"15-1.\",\n",
    "                \"15-20.\",\n",
    "                \"16-1.\",\n",
    "                \"16-16.\",\n",
    "                \"17-10.\",\n",
    "                \"17-11.\",\n",
    "                \"17-2.\",\n",
    "                \"19-1.\",\n",
    "                \"19-16.\",\n",
    "                \"19-19.\",\n",
    "                \"19-20.\",\n",
    "                \"19-3.\",\n",
    "                \"2-10.\",\n",
    "                \"2-11.\",\n",
    "                \"2-17.\",\n",
    "                \"2-18.\",\n",
    "                \"2-20.\",\n",
    "                \"2-3.\",\n",
    "                \"2-4.\",\n",
    "                \"2-5.\",\n",
    "                \"2-6.\",\n",
    "                \"2-7.\",\n",
    "                \"2-8.\",\n",
    "                \"3-13.\",\n",
    "                \"3-18.\",\n",
    "                \"3-3.\",\n",
    "                \"4-1.\",\n",
    "                \"4-10.\",\n",
    "                \"4-11.\",\n",
    "                \"4-19.\",\n",
    "                \"5-5.\",\n",
    "                \"6-15.\",\n",
    "                \"7-10.\",\n",
    "                \"7-14.\",\n",
    "                \"8-18.\",\n",
    "                \"8-20.\",\n",
    "                \"8-3.\",\n",
    "                \"8-8.\",\n",
    "            ],\n",
    "            \"domains\": [1, 2, 3, 4, 5],\n",
    "            \"num_examples_per_domain_per_label\": -1,\n",
    "            \"pickle_path\": \"/root/csc500-main/datasets/cores.stratified_ds.2022A.pkl\",\n",
    "            \"source_or_target_dataset\": \"target\",\n",
    "            \"x_transforms\": [\"unit_mag\"],\n",
    "            \"episode_transforms\": [],\n",
    "            \"domain_prefix\": \"CORES_\",\n",
    "        },\n",
    "        {\n",
    "            \"labels\": [\n",
    "                \"3123D52\",\n",
    "                \"3123D65\",\n",
    "                \"3123D79\",\n",
    "                \"3123D80\",\n",
    "                \"3123D54\",\n",
    "                \"3123D70\",\n",
    "                \"3123D7B\",\n",
    "                \"3123D89\",\n",
    "                \"3123D58\",\n",
    "                \"3123D76\",\n",
    "                \"3123D7D\",\n",
    "                \"3123EFE\",\n",
    "                \"3123D64\",\n",
    "                \"3123D78\",\n",
    "                \"3123D7E\",\n",
    "                \"3124E4A\",\n",
    "            ],\n",
    "            \"domains\": [32, 38, 8, 44, 14, 50, 20, 26],\n",
    "            \"num_examples_per_domain_per_label\": 2000,\n",
    "            \"pickle_path\": \"/root/csc500-main/datasets/oracle.Run1_framed_2000Examples_stratified_ds.2022A.pkl\",\n",
    "            \"source_or_target_dataset\": \"source\",\n",
    "            \"x_transforms\": [\"unit_mag\"],\n",
    "            \"episode_transforms\": [],\n",
    "            \"domain_prefix\": \"ORACLE.run1_\",\n",
    "        },\n",
    "    ],\n",
    "    \"dataset_seed\": 7,\n",
    "    \"seed\": 7,\n",
    "}\n"
   ]
  },
  {
   "cell_type": "code",
   "execution_count": 5,
   "id": "8fa1cc33",
   "metadata": {
    "execution": {
     "iopub.execute_input": "2022-03-21T15:38:32.952812Z",
     "iopub.status.busy": "2022-03-21T15:38:32.952441Z",
     "iopub.status.idle": "2022-03-21T15:38:32.979463Z",
     "shell.execute_reply": "2022-03-21T15:38:32.980144Z"
    },
    "papermill": {
     "duration": 0.054104,
     "end_time": "2022-03-21T15:38:32.980320",
     "exception": false,
     "start_time": "2022-03-21T15:38:32.926216",
     "status": "completed"
    },
    "tags": []
   },
   "outputs": [],
   "source": [
    "# Set this to True if you want to run this template directly\n",
    "STANDALONE = False\n",
    "if STANDALONE:\n",
    "    print(\"parameters not injected, running with standalone_parameters\")\n",
    "    parameters = standalone_parameters\n",
    "\n",
    "if not 'parameters' in locals() and not 'parameters' in globals():\n",
    "    raise Exception(\"Parameter injection failed\")\n",
    "\n",
    "#Use an easy dict for all the parameters\n",
    "p = EasyDict(parameters)\n",
    "\n",
    "if \"x_shape\" not in p:\n",
    "    p.x_shape = [2,256] # Default to this if we dont supply x_shape\n",
    "\n",
    "\n",
    "supplied_keys = set(p.keys())\n",
    "\n",
    "if  supplied_keys != required_parameters:\n",
    "    print(\"Parameters are incorrect\")\n",
    "    if len(supplied_keys - required_parameters)>0: print(\"Shouldn't have:\", str(supplied_keys - required_parameters))\n",
    "    if len(required_parameters - supplied_keys)>0: print(\"Need to have:\", str(required_parameters - supplied_keys))\n",
    "    raise RuntimeError(\"Parameters are incorrect\")"
   ]
  },
  {
   "cell_type": "code",
   "execution_count": 6,
   "id": "3a028d58",
   "metadata": {
    "execution": {
     "iopub.execute_input": "2022-03-21T15:38:33.033067Z",
     "iopub.status.busy": "2022-03-21T15:38:33.032507Z",
     "iopub.status.idle": "2022-03-21T15:38:33.060542Z",
     "shell.execute_reply": "2022-03-21T15:38:33.059752Z"
    },
    "papermill": {
     "duration": 0.052797,
     "end_time": "2022-03-21T15:38:33.060692",
     "exception": false,
     "start_time": "2022-03-21T15:38:33.007895",
     "status": "completed"
    },
    "tags": []
   },
   "outputs": [],
   "source": [
    "###################################\n",
    "# Set the RNGs and make it all deterministic\n",
    "###################################\n",
    "np.random.seed(p.seed)\n",
    "random.seed(p.seed)\n",
    "torch.manual_seed(p.seed)\n",
    "\n",
    "torch.use_deterministic_algorithms(True) "
   ]
  },
  {
   "cell_type": "code",
   "execution_count": 7,
   "id": "b691acf6",
   "metadata": {
    "execution": {
     "iopub.execute_input": "2022-03-21T15:38:33.111879Z",
     "iopub.status.busy": "2022-03-21T15:38:33.111499Z",
     "iopub.status.idle": "2022-03-21T15:38:33.140162Z",
     "shell.execute_reply": "2022-03-21T15:38:33.140793Z"
    },
    "papermill": {
     "duration": 0.052629,
     "end_time": "2022-03-21T15:38:33.140973",
     "exception": false,
     "start_time": "2022-03-21T15:38:33.088344",
     "status": "completed"
    },
    "tags": []
   },
   "outputs": [],
   "source": [
    "###########################################\n",
    "# The stratified datasets honor this\n",
    "###########################################\n",
    "torch.set_default_dtype(eval(p.torch_default_dtype))"
   ]
  },
  {
   "cell_type": "code",
   "execution_count": 8,
   "id": "b5fba671",
   "metadata": {
    "execution": {
     "iopub.execute_input": "2022-03-21T15:38:33.187527Z",
     "iopub.status.busy": "2022-03-21T15:38:33.186862Z",
     "iopub.status.idle": "2022-03-21T15:38:33.249063Z",
     "shell.execute_reply": "2022-03-21T15:38:33.249698Z"
    },
    "papermill": {
     "duration": 0.0857,
     "end_time": "2022-03-21T15:38:33.249880",
     "exception": false,
     "start_time": "2022-03-21T15:38:33.164180",
     "status": "completed"
    },
    "tags": []
   },
   "outputs": [],
   "source": [
    "###################################\n",
    "# Build the network(s)\n",
    "# Note: It's critical to do this AFTER setting the RNG\n",
    "###################################\n",
    "x_net = build_sequential(p.x_net)"
   ]
  },
  {
   "cell_type": "code",
   "execution_count": 9,
   "id": "5d7e61cc",
   "metadata": {
    "execution": {
     "iopub.execute_input": "2022-03-21T15:38:33.297870Z",
     "iopub.status.busy": "2022-03-21T15:38:33.296430Z",
     "iopub.status.idle": "2022-03-21T15:38:33.322405Z",
     "shell.execute_reply": "2022-03-21T15:38:33.323073Z"
    },
    "papermill": {
     "duration": 0.048134,
     "end_time": "2022-03-21T15:38:33.323248",
     "exception": false,
     "start_time": "2022-03-21T15:38:33.275114",
     "status": "completed"
    },
    "tags": []
   },
   "outputs": [],
   "source": [
    "start_time_secs = time.time()"
   ]
  },
  {
   "cell_type": "code",
   "execution_count": 10,
   "id": "c6b67dfd",
   "metadata": {
    "execution": {
     "iopub.execute_input": "2022-03-21T15:38:33.371259Z",
     "iopub.status.busy": "2022-03-21T15:38:33.370901Z",
     "iopub.status.idle": "2022-03-21T15:38:33.399457Z",
     "shell.execute_reply": "2022-03-21T15:38:33.398681Z"
    },
    "papermill": {
     "duration": 0.052391,
     "end_time": "2022-03-21T15:38:33.399656",
     "exception": false,
     "start_time": "2022-03-21T15:38:33.347265",
     "status": "completed"
    },
    "tags": []
   },
   "outputs": [],
   "source": [
    "p.domains_source = []\n",
    "p.domains_target = []\n",
    "\n",
    "\n",
    "train_original_source = []\n",
    "val_original_source   = []\n",
    "test_original_source  = []\n",
    "\n",
    "train_original_target = []\n",
    "val_original_target   = []\n",
    "test_original_target  = []"
   ]
  },
  {
   "cell_type": "code",
   "execution_count": 11,
   "id": "e3d9c3d3",
   "metadata": {
    "execution": {
     "iopub.execute_input": "2022-03-21T15:38:33.454932Z",
     "iopub.status.busy": "2022-03-21T15:38:33.454566Z",
     "iopub.status.idle": "2022-03-21T15:38:33.479663Z",
     "shell.execute_reply": "2022-03-21T15:38:33.478928Z"
    },
    "papermill": {
     "duration": 0.048141,
     "end_time": "2022-03-21T15:38:33.479831",
     "exception": false,
     "start_time": "2022-03-21T15:38:33.431690",
     "status": "completed"
    },
    "tags": []
   },
   "outputs": [],
   "source": [
    "# global_x_transform_func = lambda x: normalize(x.to(torch.get_default_dtype()), \"unit_power\") # unit_power, unit_mag\n",
    "# global_x_transform_func = lambda x: normalize(x, \"unit_power\") # unit_power, unit_mag"
   ]
  },
  {
   "cell_type": "code",
   "execution_count": 12,
   "id": "acb78fd2",
   "metadata": {
    "execution": {
     "iopub.execute_input": "2022-03-21T15:38:33.536043Z",
     "iopub.status.busy": "2022-03-21T15:38:33.535665Z",
     "iopub.status.idle": "2022-03-21T15:38:33.561923Z",
     "shell.execute_reply": "2022-03-21T15:38:33.561229Z"
    },
    "papermill": {
     "duration": 0.053697,
     "end_time": "2022-03-21T15:38:33.562073",
     "exception": false,
     "start_time": "2022-03-21T15:38:33.508376",
     "status": "completed"
    },
    "tags": []
   },
   "outputs": [],
   "source": [
    "def add_dataset(\n",
    "    labels,\n",
    "    domains,\n",
    "    pickle_path,\n",
    "    x_transforms,\n",
    "    episode_transforms,\n",
    "    domain_prefix,\n",
    "    num_examples_per_domain_per_label,\n",
    "    source_or_target_dataset:str,\n",
    "    iterator_seed=p.seed,\n",
    "    dataset_seed=p.dataset_seed,\n",
    "    n_shot=p.n_shot,\n",
    "    n_way=p.n_way,\n",
    "    n_query=p.n_query,\n",
    "    train_val_test_k_factors=(p.train_k_factor,p.val_k_factor,p.test_k_factor),\n",
    "):\n",
    "   \n",
    "    if x_transforms == []: x_transform = None\n",
    "    else: x_transform = get_chained_transform(x_transforms)\n",
    "    \n",
    "    if episode_transforms == []: episode_transform = None\n",
    "    else: raise Exception(\"episode_transforms not implemented\")\n",
    "    \n",
    "    episode_transform = lambda tup, _prefix=domain_prefix: (_prefix + str(tup[0]), tup[1])\n",
    "\n",
    "\n",
    "    eaf = Episodic_Accessor_Factory(\n",
    "        labels=labels,\n",
    "        domains=domains,\n",
    "        num_examples_per_domain_per_label=num_examples_per_domain_per_label,\n",
    "        iterator_seed=iterator_seed,\n",
    "        dataset_seed=dataset_seed,\n",
    "        n_shot=n_shot,\n",
    "        n_way=n_way,\n",
    "        n_query=n_query,\n",
    "        train_val_test_k_factors=train_val_test_k_factors,\n",
    "        pickle_path=pickle_path,\n",
    "        x_transform_func=x_transform,\n",
    "    )\n",
    "\n",
    "    train, val, test = eaf.get_train(), eaf.get_val(), eaf.get_test()\n",
    "    train = Lazy_Iterable_Wrapper(train, episode_transform)\n",
    "    val = Lazy_Iterable_Wrapper(val, episode_transform)\n",
    "    test = Lazy_Iterable_Wrapper(test, episode_transform)\n",
    "\n",
    "    if source_or_target_dataset==\"source\":\n",
    "        train_original_source.append(train)\n",
    "        val_original_source.append(val)\n",
    "        test_original_source.append(test)\n",
    "\n",
    "        p.domains_source.extend(\n",
    "            [domain_prefix + str(u) for u in domains]\n",
    "        )\n",
    "    elif source_or_target_dataset==\"target\":\n",
    "        train_original_target.append(train)\n",
    "        val_original_target.append(val)\n",
    "        test_original_target.append(test)\n",
    "        p.domains_target.extend(\n",
    "            [domain_prefix + str(u) for u in domains]\n",
    "        )\n",
    "    else:\n",
    "        raise Exception(f\"invalid source_or_target_dataset: {source_or_target_dataset}\")\n",
    "    "
   ]
  },
  {
   "cell_type": "code",
   "execution_count": 13,
   "id": "fe266617",
   "metadata": {
    "execution": {
     "iopub.execute_input": "2022-03-21T15:38:33.610944Z",
     "iopub.status.busy": "2022-03-21T15:38:33.610587Z",
     "iopub.status.idle": "2022-03-21T15:39:16.154684Z",
     "shell.execute_reply": "2022-03-21T15:39:16.153921Z"
    },
    "papermill": {
     "duration": 42.567188,
     "end_time": "2022-03-21T15:39:16.154872",
     "exception": false,
     "start_time": "2022-03-21T15:38:33.587684",
     "status": "completed"
    },
    "tags": []
   },
   "outputs": [],
   "source": [
    "for ds in p.datasets:\n",
    "    add_dataset(**ds)"
   ]
  },
  {
   "cell_type": "code",
   "execution_count": 14,
   "id": "b90d65ac",
   "metadata": {
    "execution": {
     "iopub.execute_input": "2022-03-21T15:39:16.207263Z",
     "iopub.status.busy": "2022-03-21T15:39:16.206881Z",
     "iopub.status.idle": "2022-03-21T15:39:16.231347Z",
     "shell.execute_reply": "2022-03-21T15:39:16.230610Z"
    },
    "papermill": {
     "duration": 0.049428,
     "end_time": "2022-03-21T15:39:16.231522",
     "exception": false,
     "start_time": "2022-03-21T15:39:16.182094",
     "status": "completed"
    },
    "tags": []
   },
   "outputs": [],
   "source": [
    "# from steves_utils.CORES.utils import (\n",
    "#     ALL_NODES,\n",
    "#     ALL_NODES_MINIMUM_1000_EXAMPLES,\n",
    "#     ALL_DAYS\n",
    "# )\n",
    "\n",
    "# add_dataset(\n",
    "#     labels=ALL_NODES,\n",
    "#     domains = ALL_DAYS,\n",
    "#     num_examples_per_domain_per_label=100,\n",
    "#     pickle_path=os.path.join(get_datasets_base_path(), \"cores.stratified_ds.2022A.pkl\"),\n",
    "#     source_or_target_dataset=\"target\",\n",
    "#     x_transform_func=global_x_transform_func,\n",
    "#     domain_modifier=lambda u: f\"cores_{u}\"\n",
    "# )"
   ]
  },
  {
   "cell_type": "code",
   "execution_count": 15,
   "id": "76db484d",
   "metadata": {
    "execution": {
     "iopub.execute_input": "2022-03-21T15:39:16.287047Z",
     "iopub.status.busy": "2022-03-21T15:39:16.286668Z",
     "iopub.status.idle": "2022-03-21T15:39:16.307662Z",
     "shell.execute_reply": "2022-03-21T15:39:16.306557Z"
    },
    "papermill": {
     "duration": 0.045846,
     "end_time": "2022-03-21T15:39:16.307918",
     "exception": false,
     "start_time": "2022-03-21T15:39:16.262072",
     "status": "completed"
    },
    "tags": []
   },
   "outputs": [],
   "source": [
    "# from steves_utils.ORACLE.utils_v2 import (\n",
    "#     ALL_DISTANCES_FEET,\n",
    "#     ALL_RUNS,\n",
    "#     ALL_SERIAL_NUMBERS,\n",
    "# )\n",
    "\n",
    "\n",
    "# add_dataset(\n",
    "#     labels=ALL_SERIAL_NUMBERS,\n",
    "#     domains = list(set(ALL_DISTANCES_FEET) - {2,62}),\n",
    "#     num_examples_per_domain_per_label=100,\n",
    "#     pickle_path=os.path.join(get_datasets_base_path(), \"oracle.Run2_framed_2000Examples_stratified_ds.2022A.pkl\"),\n",
    "#     source_or_target_dataset=\"source\",\n",
    "#     x_transform_func=global_x_transform_func,\n",
    "#     domain_modifier=lambda u: f\"oracle1_{u}\"\n",
    "# )\n"
   ]
  },
  {
   "cell_type": "code",
   "execution_count": 16,
   "id": "97dea9d2",
   "metadata": {
    "execution": {
     "iopub.execute_input": "2022-03-21T15:39:16.373127Z",
     "iopub.status.busy": "2022-03-21T15:39:16.371558Z",
     "iopub.status.idle": "2022-03-21T15:39:16.395951Z",
     "shell.execute_reply": "2022-03-21T15:39:16.395109Z"
    },
    "papermill": {
     "duration": 0.053364,
     "end_time": "2022-03-21T15:39:16.396139",
     "exception": false,
     "start_time": "2022-03-21T15:39:16.342775",
     "status": "completed"
    },
    "tags": []
   },
   "outputs": [],
   "source": [
    "# from steves_utils.ORACLE.utils_v2 import (\n",
    "#     ALL_DISTANCES_FEET,\n",
    "#     ALL_RUNS,\n",
    "#     ALL_SERIAL_NUMBERS,\n",
    "# )\n",
    "\n",
    "\n",
    "# add_dataset(\n",
    "#     labels=ALL_SERIAL_NUMBERS,\n",
    "#     domains = list(set(ALL_DISTANCES_FEET) - {2,62,56}),\n",
    "#     num_examples_per_domain_per_label=100,\n",
    "#     pickle_path=os.path.join(get_datasets_base_path(), \"oracle.Run2_framed_2000Examples_stratified_ds.2022A.pkl\"),\n",
    "#     source_or_target_dataset=\"source\",\n",
    "#     x_transform_func=global_x_transform_func,\n",
    "#     domain_modifier=lambda u: f\"oracle2_{u}\"\n",
    "# )"
   ]
  },
  {
   "cell_type": "code",
   "execution_count": 17,
   "id": "6f289866",
   "metadata": {
    "execution": {
     "iopub.execute_input": "2022-03-21T15:39:16.453315Z",
     "iopub.status.busy": "2022-03-21T15:39:16.450799Z",
     "iopub.status.idle": "2022-03-21T15:39:16.473140Z",
     "shell.execute_reply": "2022-03-21T15:39:16.472300Z"
    },
    "papermill": {
     "duration": 0.047054,
     "end_time": "2022-03-21T15:39:16.473314",
     "exception": false,
     "start_time": "2022-03-21T15:39:16.426260",
     "status": "completed"
    },
    "tags": []
   },
   "outputs": [],
   "source": [
    "# add_dataset(\n",
    "#     labels=list(range(19)),\n",
    "#     domains = [0,1,2],\n",
    "#     num_examples_per_domain_per_label=100,\n",
    "#     pickle_path=os.path.join(get_datasets_base_path(), \"metehan.stratified_ds.2022A.pkl\"),\n",
    "#     source_or_target_dataset=\"target\",\n",
    "#     x_transform_func=global_x_transform_func,\n",
    "#     domain_modifier=lambda u: f\"met_{u}\"\n",
    "# )"
   ]
  },
  {
   "cell_type": "code",
   "execution_count": 18,
   "id": "86a863c3",
   "metadata": {
    "execution": {
     "iopub.execute_input": "2022-03-21T15:39:16.525714Z",
     "iopub.status.busy": "2022-03-21T15:39:16.523912Z",
     "iopub.status.idle": "2022-03-21T15:39:16.548363Z",
     "shell.execute_reply": "2022-03-21T15:39:16.547498Z"
    },
    "papermill": {
     "duration": 0.047767,
     "end_time": "2022-03-21T15:39:16.548540",
     "exception": false,
     "start_time": "2022-03-21T15:39:16.500773",
     "status": "completed"
    },
    "tags": []
   },
   "outputs": [],
   "source": [
    "# # from steves_utils.wisig.utils import (\n",
    "# #     ALL_NODES_MINIMUM_100_EXAMPLES,\n",
    "# #     ALL_NODES_MINIMUM_500_EXAMPLES,\n",
    "# #     ALL_NODES_MINIMUM_1000_EXAMPLES,\n",
    "# #     ALL_DAYS\n",
    "# # )\n",
    "\n",
    "# import steves_utils.wisig.utils as wisig\n",
    "\n",
    "\n",
    "# add_dataset(\n",
    "#     labels=wisig.ALL_NODES_MINIMUM_100_EXAMPLES,\n",
    "#     domains = wisig.ALL_DAYS,\n",
    "#     num_examples_per_domain_per_label=100,\n",
    "#     pickle_path=os.path.join(get_datasets_base_path(), \"wisig.node3-19.stratified_ds.2022A.pkl\"),\n",
    "#     source_or_target_dataset=\"target\",\n",
    "#     x_transform_func=global_x_transform_func,\n",
    "#     domain_modifier=lambda u: f\"wisig_{u}\"\n",
    "# )"
   ]
  },
  {
   "cell_type": "code",
   "execution_count": 19,
   "id": "fd5442bc",
   "metadata": {
    "execution": {
     "iopub.execute_input": "2022-03-21T15:39:16.606650Z",
     "iopub.status.busy": "2022-03-21T15:39:16.605979Z",
     "iopub.status.idle": "2022-03-21T15:39:16.624059Z",
     "shell.execute_reply": "2022-03-21T15:39:16.623198Z"
    },
    "papermill": {
     "duration": 0.048597,
     "end_time": "2022-03-21T15:39:16.624231",
     "exception": false,
     "start_time": "2022-03-21T15:39:16.575634",
     "status": "completed"
    },
    "tags": []
   },
   "outputs": [],
   "source": [
    "###################################\n",
    "# Build the dataset\n",
    "###################################\n",
    "train_original_source = Iterable_Aggregator(train_original_source, p.seed)\n",
    "val_original_source = Iterable_Aggregator(val_original_source, p.seed)\n",
    "test_original_source = Iterable_Aggregator(test_original_source, p.seed)\n",
    "\n",
    "\n",
    "train_original_target = Iterable_Aggregator(train_original_target, p.seed)\n",
    "val_original_target = Iterable_Aggregator(val_original_target, p.seed)\n",
    "test_original_target = Iterable_Aggregator(test_original_target, p.seed)\n",
    "\n",
    "# For CNN We only use X and Y. And we only train on the source.\n",
    "# Properly form the data using a transform lambda and Lazy_Iterable_Wrapper. Finally wrap them in a dataloader\n",
    "\n",
    "transform_lambda = lambda ex: ex[1] # Original is (<domain>, <episode>) so we strip down to episode only\n",
    "\n",
    "train_processed_source = Lazy_Iterable_Wrapper(train_original_source, transform_lambda)\n",
    "val_processed_source   = Lazy_Iterable_Wrapper(val_original_source, transform_lambda)\n",
    "test_processed_source  = Lazy_Iterable_Wrapper(test_original_source, transform_lambda)\n",
    "\n",
    "train_processed_target = Lazy_Iterable_Wrapper(train_original_target, transform_lambda)\n",
    "val_processed_target   = Lazy_Iterable_Wrapper(val_original_target, transform_lambda)\n",
    "test_processed_target  = Lazy_Iterable_Wrapper(test_original_target, transform_lambda)\n",
    "\n",
    "datasets = EasyDict({\n",
    "    \"source\": {\n",
    "        \"original\": {\"train\":train_original_source, \"val\":val_original_source, \"test\":test_original_source},\n",
    "        \"processed\": {\"train\":train_processed_source, \"val\":val_processed_source, \"test\":test_processed_source}\n",
    "    },\n",
    "    \"target\": {\n",
    "        \"original\": {\"train\":train_original_target, \"val\":val_original_target, \"test\":test_original_target},\n",
    "        \"processed\": {\"train\":train_processed_target, \"val\":val_processed_target, \"test\":test_processed_target}\n",
    "    },\n",
    "})"
   ]
  },
  {
   "cell_type": "code",
   "execution_count": 20,
   "id": "5b3c01fc",
   "metadata": {
    "execution": {
     "iopub.execute_input": "2022-03-21T15:39:16.680883Z",
     "iopub.status.busy": "2022-03-21T15:39:16.680047Z",
     "iopub.status.idle": "2022-03-21T15:39:31.801678Z",
     "shell.execute_reply": "2022-03-21T15:39:31.800954Z"
    },
    "papermill": {
     "duration": 15.147816,
     "end_time": "2022-03-21T15:39:31.801872",
     "exception": false,
     "start_time": "2022-03-21T15:39:16.654056",
     "status": "completed"
    },
    "tags": []
   },
   "outputs": [
    {
     "name": "stdout",
     "output_type": "stream",
     "text": [
      "{'ORACLE.run1_38', 'ORACLE.run1_20', 'ORACLE.run1_44', 'ORACLE.run1_8', 'ORACLE.run1_14', 'ORACLE.run1_32', 'ORACLE.run1_26', 'ORACLE.run1_50'}\n"
     ]
    },
    {
     "name": "stdout",
     "output_type": "stream",
     "text": [
      "{'CORES_5', 'CORES_4', 'CORES_1', 'CORES_3', 'CORES_2'}\n"
     ]
    },
    {
     "name": "stdout",
     "output_type": "stream",
     "text": [
      "tensor([[[ 0.8950,  0.6777, -0.8950,  ..., -0.7472,  0.0087, -1.2251],\n",
      "         [-0.5648,  0.4431,  0.9210,  ..., -0.7646, -1.3555, -0.0348]],\n",
      "\n",
      "        [[ 0.4454,  1.0655, -0.7162,  ..., -0.7773,  0.8996, -0.0262],\n",
      "         [-0.3756,  0.6376,  0.3406,  ..., -0.5153, -1.0044, -0.9607]],\n",
      "\n",
      "        [[-0.3479, -0.6871,  0.8698,  ...,  0.7393, -1.0872, -0.3740],\n",
      "         [ 0.2609, -0.9307, -0.1913,  ...,  0.7828,  0.7045,  0.8089]],\n",
      "\n",
      "        ...,\n",
      "\n",
      "        [[-0.4380, -1.0049,  0.4294,  ...,  1.0049,  0.4208,  1.1165],\n",
      "         [ 1.0392,  0.0687, -1.1938,  ...,  0.0601,  1.2454, -0.2748]],\n",
      "\n",
      "        [[ 0.5300,  0.0085, -0.7608,  ..., -0.0769,  1.2823,  0.7779],\n",
      "         [ 0.0000,  1.1455, -0.4274,  ..., -0.9062,  0.1539, -0.5984]],\n",
      "\n",
      "        [[ 0.9548,  0.4978, -1.0283,  ..., -0.6774,  0.0082, -1.3711],\n",
      "         [-0.5386,  0.5141,  0.7671,  ..., -0.8406, -1.1997,  0.1306]]])\n"
     ]
    }
   ],
   "source": [
    "from steves_utils.transforms import get_average_magnitude, get_average_power\n",
    "\n",
    "print(set([u for u,_ in val_original_source]))\n",
    "print(set([u for u,_ in val_original_target]))\n",
    "\n",
    "s_x, s_y, q_x, q_y, _ = next(iter(train_processed_source))\n",
    "print(s_x)\n",
    "\n",
    "# for ds in [\n",
    "#     train_processed_source,\n",
    "#     val_processed_source,\n",
    "#     test_processed_source,\n",
    "#     train_processed_target,\n",
    "#     val_processed_target,\n",
    "#     test_processed_target\n",
    "# ]:\n",
    "#     for s_x, s_y, q_x, q_y, _ in ds:\n",
    "#         for X in (s_x, q_x):\n",
    "#             for x in X:\n",
    "#                 assert np.isclose(get_average_magnitude(x.numpy()), 1.0)\n",
    "#                 assert np.isclose(get_average_power(x.numpy()), 1.0)\n",
    "                "
   ]
  },
  {
   "cell_type": "code",
   "execution_count": 21,
   "id": "bbdacba1",
   "metadata": {
    "execution": {
     "iopub.execute_input": "2022-03-21T15:39:31.854914Z",
     "iopub.status.busy": "2022-03-21T15:39:31.854021Z",
     "iopub.status.idle": "2022-03-21T15:39:32.072688Z",
     "shell.execute_reply": "2022-03-21T15:39:32.073008Z"
    },
    "papermill": {
     "duration": 0.245414,
     "end_time": "2022-03-21T15:39:32.073158",
     "exception": false,
     "start_time": "2022-03-21T15:39:31.827744",
     "status": "completed"
    },
    "tags": []
   },
   "outputs": [
    {
     "name": "stdout",
     "output_type": "stream",
     "text": [
      "(2, 256)\n"
     ]
    }
   ],
   "source": [
    "###################################\n",
    "# Build the model\n",
    "###################################\n",
    "# easfsl only wants a tuple for the shape\n",
    "model = Steves_Prototypical_Network(x_net, device=p.device, x_shape=tuple(p.x_shape))\n",
    "optimizer = Adam(params=model.parameters(), lr=p.lr)"
   ]
  },
  {
   "cell_type": "code",
   "execution_count": 22,
   "id": "22b39ac5",
   "metadata": {
    "execution": {
     "iopub.execute_input": "2022-03-21T15:39:32.124269Z",
     "iopub.status.busy": "2022-03-21T15:39:32.123901Z",
     "iopub.status.idle": "2022-03-21T16:21:36.129982Z",
     "shell.execute_reply": "2022-03-21T16:21:36.129641Z"
    },
    "papermill": {
     "duration": 2524.033789,
     "end_time": "2022-03-21T16:21:36.130067",
     "exception": false,
     "start_time": "2022-03-21T15:39:32.096278",
     "status": "completed"
    },
    "tags": []
   },
   "outputs": [
    {
     "name": "stdout",
     "output_type": "stream",
     "text": [
      "epoch: 1, [batch: 1 / 6720], examples_per_second: 31.2324, train_label_loss: 3.1039, \n"
     ]
    },
    {
     "name": "stdout",
     "output_type": "stream",
     "text": [
      "epoch: 1, [batch: 672 / 6720], examples_per_second: 3157.6059, train_label_loss: 1.7134, \n"
     ]
    },
    {
     "name": "stdout",
     "output_type": "stream",
     "text": [
      "epoch: 1, [batch: 1344 / 6720], examples_per_second: 2961.1189, train_label_loss: 0.7895, \n"
     ]
    },
    {
     "name": "stdout",
     "output_type": "stream",
     "text": [
      "epoch: 1, [batch: 2016 / 6720], examples_per_second: 2916.4607, train_label_loss: 0.7717, \n"
     ]
    },
    {
     "name": "stdout",
     "output_type": "stream",
     "text": [
      "epoch: 1, [batch: 2688 / 6720], examples_per_second: 2662.2675, train_label_loss: 0.7008, \n"
     ]
    },
    {
     "name": "stdout",
     "output_type": "stream",
     "text": [
      "epoch: 1, [batch: 3360 / 6720], examples_per_second: 2310.2517, train_label_loss: 0.5699, \n"
     ]
    },
    {
     "name": "stdout",
     "output_type": "stream",
     "text": [
      "epoch: 1, [batch: 4032 / 6720], examples_per_second: 2340.8984, train_label_loss: 0.6911, \n"
     ]
    },
    {
     "name": "stdout",
     "output_type": "stream",
     "text": [
      "epoch: 1, [batch: 4704 / 6720], examples_per_second: 2306.8344, train_label_loss: 0.8038, \n"
     ]
    },
    {
     "name": "stdout",
     "output_type": "stream",
     "text": [
      "epoch: 1, [batch: 5376 / 6720], examples_per_second: 2299.6521, train_label_loss: 0.9670, \n"
     ]
    },
    {
     "name": "stdout",
     "output_type": "stream",
     "text": [
      "epoch: 1, [batch: 6048 / 6720], examples_per_second: 2293.9913, train_label_loss: 0.4413, \n"
     ]
    },
    {
     "name": "stdout",
     "output_type": "stream",
     "text": [
      "=============================================================\n",
      "epoch: 1, source_val_acc_label: 0.7740, target_val_acc_label: 0.6205, source_val_label_loss: 8.6561, target_val_label_loss: 282.7185, \n",
      "=============================================================\n"
     ]
    },
    {
     "name": "stdout",
     "output_type": "stream",
     "text": [
      "New best\n"
     ]
    },
    {
     "name": "stdout",
     "output_type": "stream",
     "text": [
      "epoch: 2, [batch: 1 / 6720], examples_per_second: 2.2164, train_label_loss: 0.8748, \n"
     ]
    },
    {
     "name": "stdout",
     "output_type": "stream",
     "text": [
      "epoch: 2, [batch: 672 / 6720], examples_per_second: 2443.9865, train_label_loss: 0.7547, \n"
     ]
    },
    {
     "name": "stdout",
     "output_type": "stream",
     "text": [
      "epoch: 2, [batch: 1344 / 6720], examples_per_second: 2580.7202, train_label_loss: 0.8802, \n"
     ]
    },
    {
     "name": "stdout",
     "output_type": "stream",
     "text": [
      "epoch: 2, [batch: 2016 / 6720], examples_per_second: 2591.5132, train_label_loss: 0.3665, \n"
     ]
    },
    {
     "name": "stdout",
     "output_type": "stream",
     "text": [
      "epoch: 2, [batch: 2688 / 6720], examples_per_second: 2607.6029, train_label_loss: 0.8273, \n"
     ]
    },
    {
     "name": "stdout",
     "output_type": "stream",
     "text": [
      "epoch: 2, [batch: 3360 / 6720], examples_per_second: 2297.8043, train_label_loss: 0.5219, \n"
     ]
    },
    {
     "name": "stdout",
     "output_type": "stream",
     "text": [
      "epoch: 2, [batch: 4032 / 6720], examples_per_second: 2321.2336, train_label_loss: 0.3693, \n"
     ]
    },
    {
     "name": "stdout",
     "output_type": "stream",
     "text": [
      "epoch: 2, [batch: 4704 / 6720], examples_per_second: 2320.1414, train_label_loss: 0.4625, \n"
     ]
    },
    {
     "name": "stdout",
     "output_type": "stream",
     "text": [
      "epoch: 2, [batch: 5376 / 6720], examples_per_second: 2331.9090, train_label_loss: 0.0929, \n"
     ]
    },
    {
     "name": "stdout",
     "output_type": "stream",
     "text": [
      "epoch: 2, [batch: 6048 / 6720], examples_per_second: 2319.4005, train_label_loss: 0.4184, \n"
     ]
    },
    {
     "name": "stdout",
     "output_type": "stream",
     "text": [
      "=============================================================\n",
      "epoch: 2, source_val_acc_label: 0.8114, target_val_acc_label: 0.7131, source_val_label_loss: 0.5258, target_val_label_loss: 50.2376, \n",
      "=============================================================\n"
     ]
    },
    {
     "name": "stdout",
     "output_type": "stream",
     "text": [
      "New best\n"
     ]
    },
    {
     "name": "stdout",
     "output_type": "stream",
     "text": [
      "epoch: 3, [batch: 1 / 6720], examples_per_second: 2.2531, train_label_loss: 0.1514, \n"
     ]
    },
    {
     "name": "stdout",
     "output_type": "stream",
     "text": [
      "epoch: 3, [batch: 672 / 6720], examples_per_second: 2473.7364, train_label_loss: 0.4995, \n"
     ]
    },
    {
     "name": "stdout",
     "output_type": "stream",
     "text": [
      "epoch: 3, [batch: 1344 / 6720], examples_per_second: 2617.0865, train_label_loss: 0.2954, \n"
     ]
    },
    {
     "name": "stdout",
     "output_type": "stream",
     "text": [
      "epoch: 3, [batch: 2016 / 6720], examples_per_second: 2659.1014, train_label_loss: 0.6068, \n"
     ]
    },
    {
     "name": "stdout",
     "output_type": "stream",
     "text": [
      "epoch: 3, [batch: 2688 / 6720], examples_per_second: 2737.5712, train_label_loss: 0.3940, \n"
     ]
    },
    {
     "name": "stdout",
     "output_type": "stream",
     "text": [
      "epoch: 3, [batch: 3360 / 6720], examples_per_second: 2335.1612, train_label_loss: 0.5689, \n"
     ]
    },
    {
     "name": "stdout",
     "output_type": "stream",
     "text": [
      "epoch: 3, [batch: 4032 / 6720], examples_per_second: 2349.9548, train_label_loss: 0.3219, \n"
     ]
    },
    {
     "name": "stdout",
     "output_type": "stream",
     "text": [
      "epoch: 3, [batch: 4704 / 6720], examples_per_second: 2313.6825, train_label_loss: 0.3178, \n"
     ]
    },
    {
     "name": "stdout",
     "output_type": "stream",
     "text": [
      "epoch: 3, [batch: 5376 / 6720], examples_per_second: 2327.5660, train_label_loss: 0.5885, \n"
     ]
    },
    {
     "name": "stdout",
     "output_type": "stream",
     "text": [
      "epoch: 3, [batch: 6048 / 6720], examples_per_second: 2327.0607, train_label_loss: 0.5471, \n"
     ]
    },
    {
     "name": "stdout",
     "output_type": "stream",
     "text": [
      "=============================================================\n",
      "epoch: 3, source_val_acc_label: 0.8394, target_val_acc_label: 0.7674, source_val_label_loss: 0.4423, target_val_label_loss: 82.3048, \n",
      "=============================================================\n"
     ]
    },
    {
     "name": "stdout",
     "output_type": "stream",
     "text": [
      "New best\n"
     ]
    },
    {
     "name": "stdout",
     "output_type": "stream",
     "text": [
      "epoch: 4, [batch: 1 / 6720], examples_per_second: 2.2300, train_label_loss: 0.3949, \n"
     ]
    },
    {
     "name": "stdout",
     "output_type": "stream",
     "text": [
      "epoch: 4, [batch: 672 / 6720], examples_per_second: 2519.4075, train_label_loss: 0.2123, \n"
     ]
    },
    {
     "name": "stdout",
     "output_type": "stream",
     "text": [
      "epoch: 4, [batch: 1344 / 6720], examples_per_second: 2847.2445, train_label_loss: 0.4815, \n"
     ]
    },
    {
     "name": "stdout",
     "output_type": "stream",
     "text": [
      "epoch: 4, [batch: 2016 / 6720], examples_per_second: 2949.9956, train_label_loss: 0.3247, \n"
     ]
    },
    {
     "name": "stdout",
     "output_type": "stream",
     "text": [
      "epoch: 4, [batch: 2688 / 6720], examples_per_second: 3058.3199, train_label_loss: 0.2644, \n"
     ]
    },
    {
     "name": "stdout",
     "output_type": "stream",
     "text": [
      "epoch: 4, [batch: 3360 / 6720], examples_per_second: 2566.6880, train_label_loss: 0.3496, \n"
     ]
    },
    {
     "name": "stdout",
     "output_type": "stream",
     "text": [
      "epoch: 4, [batch: 4032 / 6720], examples_per_second: 2545.3338, train_label_loss: 0.1967, \n"
     ]
    },
    {
     "name": "stdout",
     "output_type": "stream",
     "text": [
      "epoch: 4, [batch: 4704 / 6720], examples_per_second: 2584.6998, train_label_loss: 0.8688, \n"
     ]
    },
    {
     "name": "stdout",
     "output_type": "stream",
     "text": [
      "epoch: 4, [batch: 5376 / 6720], examples_per_second: 2620.8628, train_label_loss: 0.2100, \n"
     ]
    },
    {
     "name": "stdout",
     "output_type": "stream",
     "text": [
      "epoch: 4, [batch: 6048 / 6720], examples_per_second: 2877.6278, train_label_loss: 0.2076, \n"
     ]
    },
    {
     "name": "stdout",
     "output_type": "stream",
     "text": [
      "=============================================================\n",
      "epoch: 4, source_val_acc_label: 0.8795, target_val_acc_label: 0.7659, source_val_label_loss: 0.3379, target_val_label_loss: 117.9294, \n",
      "=============================================================\n"
     ]
    },
    {
     "name": "stdout",
     "output_type": "stream",
     "text": [
      "epoch: 5, [batch: 1 / 6720], examples_per_second: 2.3466, train_label_loss: 0.6245, \n"
     ]
    },
    {
     "name": "stdout",
     "output_type": "stream",
     "text": [
      "epoch: 5, [batch: 672 / 6720], examples_per_second: 2515.9563, train_label_loss: 0.3745, \n"
     ]
    },
    {
     "name": "stdout",
     "output_type": "stream",
     "text": [
      "epoch: 5, [batch: 1344 / 6720], examples_per_second: 2464.4716, train_label_loss: 0.2354, \n"
     ]
    },
    {
     "name": "stdout",
     "output_type": "stream",
     "text": [
      "epoch: 5, [batch: 2016 / 6720], examples_per_second: 2612.4840, train_label_loss: 0.2657, \n"
     ]
    },
    {
     "name": "stdout",
     "output_type": "stream",
     "text": [
      "epoch: 5, [batch: 2688 / 6720], examples_per_second: 2697.9402, train_label_loss: 0.1491, \n"
     ]
    },
    {
     "name": "stdout",
     "output_type": "stream",
     "text": [
      "epoch: 5, [batch: 3360 / 6720], examples_per_second: 2340.4603, train_label_loss: 0.3591, \n"
     ]
    },
    {
     "name": "stdout",
     "output_type": "stream",
     "text": [
      "epoch: 5, [batch: 4032 / 6720], examples_per_second: 2326.0619, train_label_loss: 0.4537, \n"
     ]
    },
    {
     "name": "stdout",
     "output_type": "stream",
     "text": [
      "epoch: 5, [batch: 4704 / 6720], examples_per_second: 2303.8309, train_label_loss: 0.2485, \n"
     ]
    },
    {
     "name": "stdout",
     "output_type": "stream",
     "text": [
      "epoch: 5, [batch: 5376 / 6720], examples_per_second: 2335.5815, train_label_loss: 0.1755, \n"
     ]
    },
    {
     "name": "stdout",
     "output_type": "stream",
     "text": [
      "epoch: 5, [batch: 6048 / 6720], examples_per_second: 2315.3057, train_label_loss: 0.0625, \n"
     ]
    },
    {
     "name": "stdout",
     "output_type": "stream",
     "text": [
      "=============================================================\n",
      "epoch: 5, source_val_acc_label: 0.8844, target_val_acc_label: 0.7768, source_val_label_loss: 0.3258, target_val_label_loss: 122.3069, \n",
      "=============================================================\n"
     ]
    },
    {
     "name": "stdout",
     "output_type": "stream",
     "text": [
      "New best\n"
     ]
    },
    {
     "name": "stdout",
     "output_type": "stream",
     "text": [
      "epoch: 6, [batch: 1 / 6720], examples_per_second: 2.2193, train_label_loss: 0.2601, \n"
     ]
    },
    {
     "name": "stdout",
     "output_type": "stream",
     "text": [
      "epoch: 6, [batch: 672 / 6720], examples_per_second: 2532.1403, train_label_loss: 0.3940, \n"
     ]
    },
    {
     "name": "stdout",
     "output_type": "stream",
     "text": [
      "epoch: 6, [batch: 1344 / 6720], examples_per_second: 2489.8334, train_label_loss: 0.1998, \n"
     ]
    },
    {
     "name": "stdout",
     "output_type": "stream",
     "text": [
      "epoch: 6, [batch: 2016 / 6720], examples_per_second: 2654.4234, train_label_loss: 0.1993, \n"
     ]
    },
    {
     "name": "stdout",
     "output_type": "stream",
     "text": [
      "epoch: 6, [batch: 2688 / 6720], examples_per_second: 2680.9187, train_label_loss: 0.0556, \n"
     ]
    },
    {
     "name": "stdout",
     "output_type": "stream",
     "text": [
      "epoch: 6, [batch: 3360 / 6720], examples_per_second: 2407.4374, train_label_loss: 0.2784, \n"
     ]
    },
    {
     "name": "stdout",
     "output_type": "stream",
     "text": [
      "epoch: 6, [batch: 4032 / 6720], examples_per_second: 2326.1732, train_label_loss: 0.0849, \n"
     ]
    },
    {
     "name": "stdout",
     "output_type": "stream",
     "text": [
      "epoch: 6, [batch: 4704 / 6720], examples_per_second: 2303.9218, train_label_loss: 0.2565, \n"
     ]
    },
    {
     "name": "stdout",
     "output_type": "stream",
     "text": [
      "epoch: 6, [batch: 5376 / 6720], examples_per_second: 2348.6496, train_label_loss: 0.3348, \n"
     ]
    },
    {
     "name": "stdout",
     "output_type": "stream",
     "text": [
      "epoch: 6, [batch: 6048 / 6720], examples_per_second: 2323.1269, train_label_loss: 0.2793, \n"
     ]
    },
    {
     "name": "stdout",
     "output_type": "stream",
     "text": [
      "=============================================================\n",
      "epoch: 6, source_val_acc_label: 0.8732, target_val_acc_label: 0.7772, source_val_label_loss: 0.3575, target_val_label_loss: 248.5646, \n",
      "=============================================================\n"
     ]
    },
    {
     "name": "stdout",
     "output_type": "stream",
     "text": [
      "New best\n"
     ]
    },
    {
     "name": "stdout",
     "output_type": "stream",
     "text": [
      "epoch: 7, [batch: 1 / 6720], examples_per_second: 2.2168, train_label_loss: 0.0313, \n"
     ]
    },
    {
     "name": "stdout",
     "output_type": "stream",
     "text": [
      "epoch: 7, [batch: 672 / 6720], examples_per_second: 2537.1292, train_label_loss: 0.2611, \n"
     ]
    },
    {
     "name": "stdout",
     "output_type": "stream",
     "text": [
      "epoch: 7, [batch: 1344 / 6720], examples_per_second: 2441.7454, train_label_loss: 0.6763, \n"
     ]
    },
    {
     "name": "stdout",
     "output_type": "stream",
     "text": [
      "epoch: 7, [batch: 2016 / 6720], examples_per_second: 2619.7645, train_label_loss: 0.2924, \n"
     ]
    },
    {
     "name": "stdout",
     "output_type": "stream",
     "text": [
      "epoch: 7, [batch: 2688 / 6720], examples_per_second: 2649.1566, train_label_loss: 0.0226, \n"
     ]
    },
    {
     "name": "stdout",
     "output_type": "stream",
     "text": [
      "epoch: 7, [batch: 3360 / 6720], examples_per_second: 2498.8407, train_label_loss: 0.3804, \n"
     ]
    },
    {
     "name": "stdout",
     "output_type": "stream",
     "text": [
      "epoch: 7, [batch: 4032 / 6720], examples_per_second: 2342.8288, train_label_loss: 0.1718, \n"
     ]
    },
    {
     "name": "stdout",
     "output_type": "stream",
     "text": [
      "epoch: 7, [batch: 4704 / 6720], examples_per_second: 2298.8097, train_label_loss: 0.2251, \n"
     ]
    },
    {
     "name": "stdout",
     "output_type": "stream",
     "text": [
      "epoch: 7, [batch: 5376 / 6720], examples_per_second: 2272.7355, train_label_loss: 0.2842, \n"
     ]
    },
    {
     "name": "stdout",
     "output_type": "stream",
     "text": [
      "epoch: 7, [batch: 6048 / 6720], examples_per_second: 2306.0069, train_label_loss: 0.3165, \n"
     ]
    },
    {
     "name": "stdout",
     "output_type": "stream",
     "text": [
      "=============================================================\n",
      "epoch: 7, source_val_acc_label: 0.8943, target_val_acc_label: 0.6780, source_val_label_loss: 0.3584, target_val_label_loss: 929.8347, \n",
      "=============================================================\n"
     ]
    },
    {
     "name": "stdout",
     "output_type": "stream",
     "text": [
      "epoch: 8, [batch: 1 / 6720], examples_per_second: 2.2211, train_label_loss: 0.1901, \n"
     ]
    },
    {
     "name": "stdout",
     "output_type": "stream",
     "text": [
      "epoch: 8, [batch: 672 / 6720], examples_per_second: 2645.2974, train_label_loss: 0.1995, \n"
     ]
    },
    {
     "name": "stdout",
     "output_type": "stream",
     "text": [
      "epoch: 8, [batch: 1344 / 6720], examples_per_second: 2777.8716, train_label_loss: 0.2489, \n"
     ]
    },
    {
     "name": "stdout",
     "output_type": "stream",
     "text": [
      "epoch: 8, [batch: 2016 / 6720], examples_per_second: 2980.2344, train_label_loss: 0.5751, \n"
     ]
    },
    {
     "name": "stdout",
     "output_type": "stream",
     "text": [
      "epoch: 8, [batch: 2688 / 6720], examples_per_second: 2949.3275, train_label_loss: 0.6540, \n"
     ]
    },
    {
     "name": "stdout",
     "output_type": "stream",
     "text": [
      "epoch: 8, [batch: 3360 / 6720], examples_per_second: 2990.0799, train_label_loss: 0.1642, \n"
     ]
    },
    {
     "name": "stdout",
     "output_type": "stream",
     "text": [
      "epoch: 8, [batch: 4032 / 6720], examples_per_second: 2989.7297, train_label_loss: 0.2417, \n"
     ]
    },
    {
     "name": "stdout",
     "output_type": "stream",
     "text": [
      "epoch: 8, [batch: 4704 / 6720], examples_per_second: 2951.2688, train_label_loss: 0.1872, \n"
     ]
    },
    {
     "name": "stdout",
     "output_type": "stream",
     "text": [
      "epoch: 8, [batch: 5376 / 6720], examples_per_second: 2956.8656, train_label_loss: 0.2105, \n"
     ]
    },
    {
     "name": "stdout",
     "output_type": "stream",
     "text": [
      "epoch: 8, [batch: 6048 / 6720], examples_per_second: 2911.7547, train_label_loss: 0.6714, \n"
     ]
    },
    {
     "name": "stdout",
     "output_type": "stream",
     "text": [
      "=============================================================\n",
      "epoch: 8, source_val_acc_label: 0.8959, target_val_acc_label: 0.7067, source_val_label_loss: 0.3190, target_val_label_loss: 827.0596, \n",
      "=============================================================\n"
     ]
    },
    {
     "name": "stdout",
     "output_type": "stream",
     "text": [
      "epoch: 9, [batch: 1 / 6720], examples_per_second: 3.4491, train_label_loss: 0.1007, \n"
     ]
    },
    {
     "name": "stdout",
     "output_type": "stream",
     "text": [
      "epoch: 9, [batch: 672 / 6720], examples_per_second: 4275.8683, train_label_loss: 0.2890, \n"
     ]
    },
    {
     "name": "stdout",
     "output_type": "stream",
     "text": [
      "epoch: 9, [batch: 1344 / 6720], examples_per_second: 4426.7600, train_label_loss: 0.1026, \n"
     ]
    },
    {
     "name": "stdout",
     "output_type": "stream",
     "text": [
      "epoch: 9, [batch: 2016 / 6720], examples_per_second: 4965.7510, train_label_loss: 0.2013, \n"
     ]
    },
    {
     "name": "stdout",
     "output_type": "stream",
     "text": [
      "epoch: 9, [batch: 2688 / 6720], examples_per_second: 5330.8600, train_label_loss: 0.1831, \n"
     ]
    },
    {
     "name": "stdout",
     "output_type": "stream",
     "text": [
      "epoch: 9, [batch: 3360 / 6720], examples_per_second: 4939.5019, train_label_loss: 0.2024, \n"
     ]
    },
    {
     "name": "stdout",
     "output_type": "stream",
     "text": [
      "epoch: 9, [batch: 4032 / 6720], examples_per_second: 3928.7973, train_label_loss: 0.1668, \n"
     ]
    },
    {
     "name": "stdout",
     "output_type": "stream",
     "text": [
      "epoch: 9, [batch: 4704 / 6720], examples_per_second: 3930.5485, train_label_loss: 0.0971, \n"
     ]
    },
    {
     "name": "stdout",
     "output_type": "stream",
     "text": [
      "epoch: 9, [batch: 5376 / 6720], examples_per_second: 3898.4507, train_label_loss: 0.2628, \n"
     ]
    },
    {
     "name": "stdout",
     "output_type": "stream",
     "text": [
      "epoch: 9, [batch: 6048 / 6720], examples_per_second: 3784.6836, train_label_loss: 0.3734, \n"
     ]
    },
    {
     "name": "stdout",
     "output_type": "stream",
     "text": [
      "=============================================================\n",
      "epoch: 9, source_val_acc_label: 0.9030, target_val_acc_label: 0.6651, source_val_label_loss: 0.3476, target_val_label_loss: 1194.7177, \n",
      "=============================================================\n"
     ]
    },
    {
     "name": "stdout",
     "output_type": "stream",
     "text": [
      "epoch: 10, [batch: 1 / 6720], examples_per_second: 2.3959, train_label_loss: 0.1766, \n"
     ]
    },
    {
     "name": "stdout",
     "output_type": "stream",
     "text": [
      "epoch: 10, [batch: 672 / 6720], examples_per_second: 2274.6716, train_label_loss: 0.8014, \n"
     ]
    },
    {
     "name": "stdout",
     "output_type": "stream",
     "text": [
      "epoch: 10, [batch: 1344 / 6720], examples_per_second: 2310.9868, train_label_loss: 0.1992, \n"
     ]
    },
    {
     "name": "stdout",
     "output_type": "stream",
     "text": [
      "epoch: 10, [batch: 2016 / 6720], examples_per_second: 2290.6823, train_label_loss: 0.2021, \n"
     ]
    },
    {
     "name": "stdout",
     "output_type": "stream",
     "text": [
      "epoch: 10, [batch: 2688 / 6720], examples_per_second: 2282.1169, train_label_loss: 0.2633, \n"
     ]
    },
    {
     "name": "stdout",
     "output_type": "stream",
     "text": [
      "epoch: 10, [batch: 3360 / 6720], examples_per_second: 2302.1358, train_label_loss: 0.1752, \n"
     ]
    },
    {
     "name": "stdout",
     "output_type": "stream",
     "text": [
      "epoch: 10, [batch: 4032 / 6720], examples_per_second: 2291.8076, train_label_loss: 0.3752, \n"
     ]
    },
    {
     "name": "stdout",
     "output_type": "stream",
     "text": [
      "epoch: 10, [batch: 4704 / 6720], examples_per_second: 2288.5800, train_label_loss: 0.0905, \n"
     ]
    },
    {
     "name": "stdout",
     "output_type": "stream",
     "text": [
      "epoch: 10, [batch: 5376 / 6720], examples_per_second: 2586.7003, train_label_loss: 0.3175, \n"
     ]
    },
    {
     "name": "stdout",
     "output_type": "stream",
     "text": [
      "epoch: 10, [batch: 6048 / 6720], examples_per_second: 2981.7061, train_label_loss: 0.0905, \n"
     ]
    },
    {
     "name": "stdout",
     "output_type": "stream",
     "text": [
      "=============================================================\n",
      "epoch: 10, source_val_acc_label: 0.8935, target_val_acc_label: 0.6534, source_val_label_loss: 0.3057, target_val_label_loss: 1166.5262, \n",
      "=============================================================\n"
     ]
    },
    {
     "name": "stdout",
     "output_type": "stream",
     "text": [
      "Patience (3) exhausted\n"
     ]
    }
   ],
   "source": [
    "###################################\n",
    "# train\n",
    "###################################\n",
    "jig = PTN_Train_Eval_Test_Jig(model, p.BEST_MODEL_PATH, p.device)\n",
    "\n",
    "jig.train(\n",
    "    train_iterable=datasets.source.processed.train,\n",
    "    source_val_iterable=datasets.source.processed.val,\n",
    "    target_val_iterable=datasets.target.processed.val,\n",
    "    num_epochs=p.n_epoch,\n",
    "    num_logs_per_epoch=p.NUM_LOGS_PER_EPOCH,\n",
    "    patience=p.patience,\n",
    "    optimizer=optimizer,\n",
    "    criteria_for_best=p.criteria_for_best,\n",
    ")"
   ]
  },
  {
   "cell_type": "code",
   "execution_count": 23,
   "id": "31e8fabf",
   "metadata": {
    "execution": {
     "iopub.execute_input": "2022-03-21T16:21:36.251737Z",
     "iopub.status.busy": "2022-03-21T16:21:36.249829Z",
     "iopub.status.idle": "2022-03-21T16:21:36.282604Z",
     "shell.execute_reply": "2022-03-21T16:21:36.281919Z"
    },
    "papermill": {
     "duration": 0.099656,
     "end_time": "2022-03-21T16:21:36.282772",
     "exception": false,
     "start_time": "2022-03-21T16:21:36.183116",
     "status": "completed"
    },
    "tags": []
   },
   "outputs": [],
   "source": [
    "total_experiment_time_secs = time.time() - start_time_secs"
   ]
  },
  {
   "cell_type": "code",
   "execution_count": 24,
   "id": "87b9595b",
   "metadata": {
    "execution": {
     "iopub.execute_input": "2022-03-21T16:21:36.408567Z",
     "iopub.status.busy": "2022-03-21T16:21:36.407691Z",
     "iopub.status.idle": "2022-03-21T16:26:08.425447Z",
     "shell.execute_reply": "2022-03-21T16:26:08.424706Z"
    },
    "papermill": {
     "duration": 272.081705,
     "end_time": "2022-03-21T16:26:08.425648",
     "exception": false,
     "start_time": "2022-03-21T16:21:36.343943",
     "status": "completed"
    },
    "tags": []
   },
   "outputs": [],
   "source": [
    "###################################\n",
    "# Evaluate the model\n",
    "###################################\n",
    "source_test_label_accuracy, source_test_label_loss = jig.test(datasets.source.processed.test)\n",
    "target_test_label_accuracy, target_test_label_loss = jig.test(datasets.target.processed.test)\n",
    "\n",
    "source_val_label_accuracy, source_val_label_loss = jig.test(datasets.source.processed.val)\n",
    "target_val_label_accuracy, target_val_label_loss = jig.test(datasets.target.processed.val)\n",
    "\n",
    "history = jig.get_history()\n",
    "\n",
    "total_epochs_trained = len(history[\"epoch_indices\"])\n",
    "\n",
    "val_dl = Iterable_Aggregator((datasets.source.original.val,datasets.target.original.val))\n",
    "\n",
    "confusion = ptn_confusion_by_domain_over_dataloader(model, p.device, val_dl)\n",
    "per_domain_accuracy = per_domain_accuracy_from_confusion(confusion)\n",
    "\n",
    "# Add a key to per_domain_accuracy for if it was a source domain\n",
    "for domain, accuracy in per_domain_accuracy.items():\n",
    "    per_domain_accuracy[domain] = {\n",
    "        \"accuracy\": accuracy,\n",
    "        \"source?\": domain in p.domains_source\n",
    "    }\n",
    "\n",
    "# Do an independent accuracy assesment JUST TO BE SURE!\n",
    "# _source_test_label_accuracy = independent_accuracy_assesment(model, datasets.source.processed.test, p.device)\n",
    "# _target_test_label_accuracy = independent_accuracy_assesment(model, datasets.target.processed.test, p.device)\n",
    "# _source_val_label_accuracy = independent_accuracy_assesment(model, datasets.source.processed.val, p.device)\n",
    "# _target_val_label_accuracy = independent_accuracy_assesment(model, datasets.target.processed.val, p.device)\n",
    "\n",
    "# assert(_source_test_label_accuracy == source_test_label_accuracy)\n",
    "# assert(_target_test_label_accuracy == target_test_label_accuracy)\n",
    "# assert(_source_val_label_accuracy == source_val_label_accuracy)\n",
    "# assert(_target_val_label_accuracy == target_val_label_accuracy)\n",
    "\n",
    "experiment = {\n",
    "    \"experiment_name\": p.experiment_name,\n",
    "    \"parameters\": dict(p),\n",
    "    \"results\": {\n",
    "        \"source_test_label_accuracy\": source_test_label_accuracy,\n",
    "        \"source_test_label_loss\": source_test_label_loss,\n",
    "        \"target_test_label_accuracy\": target_test_label_accuracy,\n",
    "        \"target_test_label_loss\": target_test_label_loss,\n",
    "        \"source_val_label_accuracy\": source_val_label_accuracy,\n",
    "        \"source_val_label_loss\": source_val_label_loss,\n",
    "        \"target_val_label_accuracy\": target_val_label_accuracy,\n",
    "        \"target_val_label_loss\": target_val_label_loss,\n",
    "        \"total_epochs_trained\": total_epochs_trained,\n",
    "        \"total_experiment_time_secs\": total_experiment_time_secs,\n",
    "        \"confusion\": confusion,\n",
    "        \"per_domain_accuracy\": per_domain_accuracy,\n",
    "    },\n",
    "    \"history\": history,\n",
    "    \"dataset_metrics\": get_dataset_metrics(datasets, \"ptn\"),\n",
    "}"
   ]
  },
  {
   "cell_type": "code",
   "execution_count": 25,
   "id": "54a21829",
   "metadata": {
    "execution": {
     "iopub.execute_input": "2022-03-21T16:26:08.541210Z",
     "iopub.status.busy": "2022-03-21T16:26:08.539782Z",
     "iopub.status.idle": "2022-03-21T16:26:08.758658Z",
     "shell.execute_reply": "2022-03-21T16:26:08.757822Z"
    },
    "papermill": {
     "duration": 0.275991,
     "end_time": "2022-03-21T16:26:08.758822",
     "exception": false,
     "start_time": "2022-03-21T16:26:08.482831",
     "status": "completed"
    },
    "tags": []
   },
   "outputs": [
    {
     "data": {
      "image/png": "[encoded data removed]",
      "text/plain": [
       "<Figure size 1080x504 with 1 Axes>"
      ]
     },
     "metadata": {
      "needs_background": "light"
     },
     "output_type": "display_data"
    }
   ],
   "source": [
    "ax = get_loss_curve(experiment)\n",
    "plt.show()"
   ]
  },
  {
   "cell_type": "code",
   "execution_count": 26,
   "id": "fd8a0f60",
   "metadata": {
    "execution": {
     "iopub.execute_input": "2022-03-21T16:26:08.875702Z",
     "iopub.status.busy": "2022-03-21T16:26:08.875324Z",
     "iopub.status.idle": "2022-03-21T16:26:09.190008Z",
     "shell.execute_reply": "2022-03-21T16:26:09.190674Z"
    },
    "papermill": {
     "duration": 0.374564,
     "end_time": "2022-03-21T16:26:09.190859",
     "exception": false,
     "start_time": "2022-03-21T16:26:08.816295",
     "status": "completed"
    },
    "tags": []
   },
   "outputs": [
    {
     "data": {
      "text/plain": [
       "<AxesSubplot:title={'center':'Results'}>"
      ]
     },
     "execution_count": 26,
     "metadata": {},
     "output_type": "execute_result"
    },
    {
     "data": {
      "image/png": "[encoded data removed]",
      "text/plain": [
       "<Figure size 1080x504 with 1 Axes>"
      ]
     },
     "metadata": {
      "needs_background": "light"
     },
     "output_type": "display_data"
    }
   ],
   "source": [
    "get_results_table(experiment)"
   ]
  },
  {
   "cell_type": "code",
   "execution_count": 27,
   "id": "cf8dc689",
   "metadata": {
    "execution": {
     "iopub.execute_input": "2022-03-21T16:26:09.310741Z",
     "iopub.status.busy": "2022-03-21T16:26:09.310374Z",
     "iopub.status.idle": "2022-03-21T16:26:09.572494Z",
     "shell.execute_reply": "2022-03-21T16:26:09.571732Z"
    },
    "papermill": {
     "duration": 0.322781,
     "end_time": "2022-03-21T16:26:09.572652",
     "exception": false,
     "start_time": "2022-03-21T16:26:09.249871",
     "status": "completed"
    },
    "tags": []
   },
   "outputs": [
    {
     "data": {
      "text/plain": [
       "<AxesSubplot:title={'center':'Per Domain Validation Accuracy'}, xlabel='domain'>"
      ]
     },
     "execution_count": 27,
     "metadata": {},
     "output_type": "execute_result"
    },
    {
     "data": {
      "image/png": "[encoded data removed]",
      "text/plain": [
       "<Figure size 1080x504 with 1 Axes>"
      ]
     },
     "metadata": {
      "needs_background": "light"
     },
     "output_type": "display_data"
    }
   ],
   "source": [
    "get_domain_accuracies(experiment)"
   ]
  },
  {
   "cell_type": "code",
   "execution_count": 28,
   "id": "a74ae082",
   "metadata": {
    "execution": {
     "iopub.execute_input": "2022-03-21T16:26:09.697340Z",
     "iopub.status.busy": "2022-03-21T16:26:09.696772Z",
     "iopub.status.idle": "2022-03-21T16:26:09.724513Z",
     "shell.execute_reply": "2022-03-21T16:26:09.723704Z"
    },
    "papermill": {
     "duration": 0.090732,
     "end_time": "2022-03-21T16:26:09.724669",
     "exception": false,
     "start_time": "2022-03-21T16:26:09.633937",
     "status": "completed"
    },
    "tags": []
   },
   "outputs": [
    {
     "name": "stdout",
     "output_type": "stream",
     "text": [
      "Source Test Label Accuracy: 0.8744466145833333 Target Test Label Accuracy: 0.774611581920904\n",
      "Source Val Label Accuracy: 0.8731770833333333 Target Val Label Accuracy: 0.7771785714285714\n"
     ]
    }
   ],
   "source": [
    "print(\"Source Test Label Accuracy:\", experiment[\"results\"][\"source_test_label_accuracy\"], \"Target Test Label Accuracy:\", experiment[\"results\"][\"target_test_label_accuracy\"])\n",
    "print(\"Source Val Label Accuracy:\", experiment[\"results\"][\"source_val_label_accuracy\"], \"Target Val Label Accuracy:\", experiment[\"results\"][\"target_val_label_accuracy\"])"
   ]
  },
  {
   "cell_type": "code",
   "execution_count": 29,
   "id": "dacca602",
   "metadata": {
    "execution": {
     "iopub.execute_input": "2022-03-21T16:26:09.851700Z",
     "iopub.status.busy": "2022-03-21T16:26:09.851176Z",
     "iopub.status.idle": "2022-03-21T16:26:09.877286Z",
     "shell.execute_reply": "2022-03-21T16:26:09.877958Z"
    },
    "papermill": {
     "duration": 0.089043,
     "end_time": "2022-03-21T16:26:09.878140",
     "exception": false,
     "start_time": "2022-03-21T16:26:09.789097",
     "status": "completed"
    },
    "tags": [
     "experiment_json"
    ]
   },
   "outputs": [
    {
     "data": {
      "text/plain": [
       "'{\"experiment_name\": \"tl_1v2:cores-oracle.run1.framed\", \"parameters\": {\"experiment_name\": \"tl_1v2:cores-oracle.run1.framed\", \"device\": \"cuda\", \"lr\": 0.0001, \"n_shot\": 3, \"n_query\": 2, \"train_k_factor\": 3, \"val_k_factor\": 2, \"test_k_factor\": 2, \"torch_default_dtype\": \"torch.float32\", \"n_epoch\": 50, \"patience\": 3, \"criteria_for_best\": \"target_accuracy\", \"x_net\": [{\"class\": \"nnReshape\", \"kargs\": {\"shape\": [-1, 1, 2, 256]}}, {\"class\": \"Conv2d\", \"kargs\": {\"in_channels\": 1, \"out_channels\": 256, \"kernel_size\": [1, 7], \"bias\": false, \"padding\": [0, 3]}}, {\"class\": \"ReLU\", \"kargs\": {\"inplace\": true}}, {\"class\": \"BatchNorm2d\", \"kargs\": {\"num_features\": 256}}, {\"class\": \"Conv2d\", \"kargs\": {\"in_channels\": 256, \"out_channels\": 80, \"kernel_size\": [2, 7], \"bias\": true, \"padding\": [0, 3]}}, {\"class\": \"ReLU\", \"kargs\": {\"inplace\": true}}, {\"class\": \"BatchNorm2d\", \"kargs\": {\"num_features\": 80}}, {\"class\": \"Flatten\", \"kargs\": {}}, {\"class\": \"Linear\", \"kargs\": {\"in_features\": 20480, \"out_features\": 256}}, {\"class\": \"ReLU\", \"kargs\": {\"inplace\": true}}, {\"class\": \"BatchNorm1d\", \"kargs\": {\"num_features\": 256}}, {\"class\": \"Linear\", \"kargs\": {\"in_features\": 256, \"out_features\": 256}}], \"NUM_LOGS_PER_EPOCH\": 10, \"BEST_MODEL_PATH\": \"./best_model.pth\", \"n_way\": 16, \"datasets\": [{\"labels\": [\"1-10.\", \"1-11.\", \"1-15.\", \"1-16.\", \"1-17.\", \"1-18.\", \"1-19.\", \"10-4.\", \"10-7.\", \"11-1.\", \"11-14.\", \"11-17.\", \"11-20.\", \"11-7.\", \"13-20.\", \"13-8.\", \"14-10.\", \"14-11.\", \"14-14.\", \"14-7.\", \"15-1.\", \"15-20.\", \"16-1.\", \"16-16.\", \"17-10.\", \"17-11.\", \"17-2.\", \"19-1.\", \"19-16.\", \"19-19.\", \"19-20.\", \"19-3.\", \"2-10.\", \"2-11.\", \"2-17.\", \"2-18.\", \"2-20.\", \"2-3.\", \"2-4.\", \"2-5.\", \"2-6.\", \"2-7.\", \"2-8.\", \"3-13.\", \"3-18.\", \"3-3.\", \"4-1.\", \"4-10.\", \"4-11.\", \"4-19.\", \"5-5.\", \"6-15.\", \"7-10.\", \"7-14.\", \"8-18.\", \"8-20.\", \"8-3.\", \"8-8.\"], \"domains\": [1, 2, 3, 4, 5], \"num_examples_per_domain_per_label\": -1, \"pickle_path\": \"/root/csc500-main/datasets/cores.stratified_ds.2022A.pkl\", \"source_or_target_dataset\": \"target\", \"x_transforms\": [\"unit_mag\"], \"episode_transforms\": [], \"domain_prefix\": \"CORES_\"}, {\"labels\": [\"3123D52\", \"3123D65\", \"3123D79\", \"3123D80\", \"3123D54\", \"3123D70\", \"3123D7B\", \"3123D89\", \"3123D58\", \"3123D76\", \"3123D7D\", \"3123EFE\", \"3123D64\", \"3123D78\", \"3123D7E\", \"3124E4A\"], \"domains\": [32, 38, 8, 44, 14, 50, 20, 26], \"num_examples_per_domain_per_label\": 2000, \"pickle_path\": \"/root/csc500-main/datasets/oracle.Run1_framed_2000Examples_stratified_ds.2022A.pkl\", \"source_or_target_dataset\": \"source\", \"x_transforms\": [\"unit_mag\"], \"episode_transforms\": [], \"domain_prefix\": \"ORACLE.run1_\"}], \"dataset_seed\": 7, \"seed\": 7, \"x_shape\": [2, 256], \"domains_source\": [\"ORACLE.run1_32\", \"ORACLE.run1_38\", \"ORACLE.run1_8\", \"ORACLE.run1_44\", \"ORACLE.run1_14\", \"ORACLE.run1_50\", \"ORACLE.run1_20\", \"ORACLE.run1_26\"], \"domains_target\": [\"CORES_1\", \"CORES_2\", \"CORES_3\", \"CORES_4\", \"CORES_5\"]}, \"results\": {\"source_test_label_accuracy\": 0.8744466145833333, \"source_test_label_loss\": 0.35288646817207336, \"target_test_label_accuracy\": 0.774611581920904, \"target_test_label_loss\": 248.40057373046875, \"source_val_label_accuracy\": 0.8731770833333333, \"source_val_label_loss\": 0.3574952185153961, \"target_val_label_accuracy\": 0.7771785714285714, \"target_val_label_loss\": 248.56463623046875, \"total_epochs_trained\": 10, \"total_experiment_time_secs\": 2582.9598774909973, \"confusion\": {\"ORACLE.run1_26\": {\"0\": {\"10\": 65, \"0\": 98, \"8\": 22, \"14\": 38, \"4\": 16, \"15\": 1}, \"4\": {\"14\": 20, \"4\": 184, \"8\": 12, \"10\": 3, \"7\": 12, \"1\": 1, \"0\": 8}, \"14\": {\"14\": 165, \"0\": 18, \"8\": 3, \"4\": 30, \"1\": 10, \"10\": 14}, \"12\": {\"12\": 240}, \"8\": {\"8\": 122, \"14\": 5, \"4\": 28, \"10\": 35, \"0\": 27, \"7\": 19, \"15\": 4}, \"7\": {\"7\": 188, \"4\": 18, \"3\": 15, \"8\": 9, \"2\": 10}, \"13\": {\"13\": 198, \"2\": 7, \"5\": 31, \"9\": 1, \"15\": 3}, \"5\": {\"5\": 217, \"2\": 11, \"13\": 12}, \"15\": {\"15\": 177, \"13\": 2, \"6\": 13, \"9\": 34, \"2\": 3, \"7\": 1, \"8\": 4, \"10\": 4, \"5\": 1, \"0\": 1}, \"10\": {\"14\": 15, \"8\": 17, \"0\": 79, \"10\": 122, \"4\": 5, \"6\": 2}, \"3\": {\"3\": 189, \"7\": 16, \"2\": 34, \"5\": 1}, \"9\": {\"9\": 193, \"15\": 28, \"13\": 4, \"6\": 11, \"8\": 2, \"5\": 2}, \"6\": {\"6\": 220, \"9\": 11, \"10\": 4, \"15\": 3, \"0\": 2}, \"1\": {\"1\": 227, \"4\": 7, \"14\": 5, \"7\": 1}, \"11\": {\"11\": 240}, \"2\": {\"2\": 116, \"3\": 63, \"7\": 29, \"15\": 6, \"5\": 19, \"13\": 2, \"8\": 4, \"9\": 1}}, \"ORACLE.run1_44\": {\"1\": {\"1\": 202, \"3\": 6, \"12\": 20, \"10\": 9, \"2\": 3}, \"11\": {\"11\": 238, \"13\": 2}, \"3\": {\"3\": 237, \"1\": 3}, \"6\": {\"9\": 14, \"13\": 36, \"6\": 188, \"7\": 2}, \"7\": {\"7\": 187, \"9\": 32, \"2\": 17, \"6\": 4}, \"5\": {\"5\": 221, \"8\": 1, \"14\": 4, \"0\": 6, \"15\": 8}, \"2\": {\"2\": 207, \"7\": 24, \"1\": 6, \"10\": 2, \"9\": 1}, \"15\": {\"15\": 202, \"14\": 15, \"0\": 12, \"8\": 1, \"5\": 8, \"4\": 2}, \"10\": {\"10\": 213, \"1\": 18, \"2\": 7, \"12\": 2}, \"13\": {\"13\": 189, \"6\": 37, \"9\": 14}, \"8\": {\"0\": 76, \"8\": 157, \"15\": 4, \"5\": 3}, \"4\": {\"4\": 189, \"14\": 49, \"15\": 2}, \"9\": {\"9\": 139, \"13\": 29, \"6\": 26, \"7\": 45, \"2\": 1}, \"14\": {\"14\": 160, \"4\": 64, \"5\": 6, \"15\": 10}, \"0\": {\"0\": 172, \"15\": 4, \"8\": 51, \"5\": 13}, \"12\": {\"12\": 224, \"1\": 13, \"3\": 2, \"10\": 1}}, \"ORACLE.run1_50\": {\"15\": {\"15\": 220, \"11\": 4, \"1\": 10, \"4\": 5, \"6\": 1}, \"4\": {\"4\": 183, \"15\": 19, \"5\": 28, \"1\": 7, \"7\": 2, \"13\": 1}, \"6\": {\"6\": 215, \"4\": 3, \"13\": 12, \"5\": 2, \"15\": 4, \"1\": 2, \"7\": 2}, \"2\": {\"2\": 224, \"0\": 16}, \"5\": {\"5\": 180, \"7\": 18, \"4\": 21, \"13\": 10, \"1\": 10, \"6\": 1}, \"9\": {\"9\": 237, \"11\": 3}, \"8\": {\"8\": 235, \"10\": 4, \"3\": 1}, \"12\": {\"12\": 236, \"9\": 4}, \"10\": {\"10\": 237, \"13\": 2, \"0\": 1}, \"1\": {\"1\": 209, \"5\": 2, \"13\": 1, \"15\": 20, \"6\": 4, \"4\": 4}, \"0\": {\"0\": 224, \"2\": 9, \"10\": 6, \"13\": 1}, \"3\": {\"3\": 240}, \"13\": {\"13\": 226, \"6\": 3, \"10\": 1, \"5\": 6, \"7\": 4}, \"11\": {\"11\": 229, \"15\": 8, \"14\": 1, \"12\": 1, \"4\": 1}, \"7\": {\"6\": 6, \"7\": 208, \"5\": 15, \"13\": 9, \"4\": 2}, \"14\": {\"14\": 240}}, \"ORACLE.run1_38\": {\"15\": {\"15\": 221, \"8\": 12, \"1\": 4, \"5\": 1, \"13\": 2}, \"11\": {\"10\": 3, \"14\": 1, \"11\": 236}, \"10\": {\"10\": 224, \"8\": 1, \"13\": 13, \"0\": 2}, \"14\": {\"14\": 236, \"2\": 4}, \"6\": {\"6\": 239, \"9\": 1}, \"4\": {\"4\": 240}, \"13\": {\"13\": 217, \"0\": 5, \"15\": 4, \"2\": 4, \"8\": 5, \"10\": 5}, \"3\": {\"3\": 238, \"7\": 1, \"0\": 1}, \"7\": {\"7\": 217, \"5\": 14, \"8\": 6, \"0\": 3}, \"8\": {\"5\": 29, \"8\": 195, \"0\": 5, \"7\": 8, \"15\": 1, \"13\": 2}, \"1\": {\"1\": 235, \"15\": 5}, \"5\": {\"5\": 140, \"8\": 63, \"7\": 26, \"0\": 2, \"13\": 2, \"9\": 3, \"15\": 3, \"6\": 1}, \"0\": {\"0\": 215, \"7\": 10, \"5\": 2, \"3\": 5, \"10\": 2, \"13\": 1, \"8\": 5}, \"2\": {\"2\": 234, \"14\": 5, \"13\": 1}, \"12\": {\"12\": 240}, \"9\": {\"9\": 238, \"6\": 2}}, \"ORACLE.run1_20\": {\"10\": {\"10\": 239, \"14\": 1}, \"7\": {\"7\": 223, \"6\": 2, \"8\": 3, \"3\": 3, \"2\": 8, \"4\": 1}, \"4\": {\"4\": 227, \"8\": 11, \"5\": 1, \"3\": 1}, \"13\": {\"13\": 235, \"15\": 3, \"2\": 2}, \"1\": {\"1\": 180, \"12\": 53, \"3\": 1, \"15\": 2, \"9\": 2, \"2\": 1, \"5\": 1}, \"0\": {\"15\": 20, \"0\": 184, \"5\": 32, \"8\": 4}, \"12\": {\"12\": 152, \"3\": 25, \"2\": 14, \"7\": 2, \"9\": 5, \"1\": 42}, \"5\": {\"1\": 6, \"5\": 209, \"15\": 8, \"0\": 16, \"12\": 1}, \"6\": {\"6\": 226, \"14\": 12, \"8\": 2}, \"2\": {\"12\": 13, \"2\": 168, \"9\": 29, \"13\": 1, \"1\": 7, \"7\": 12, \"3\": 10}, \"8\": {\"8\": 228, \"4\": 10, \"7\": 1, \"14\": 1}, \"11\": {\"11\": 240}, \"9\": {\"9\": 178, \"3\": 26, \"2\": 28, \"12\": 6, \"1\": 2}, \"14\": {\"14\": 227, \"6\": 10, \"4\": 1, \"10\": 2}, \"15\": {\"15\": 211, \"1\": 4, \"13\": 4, \"5\": 10, \"0\": 11}, \"3\": {\"3\": 166, \"12\": 36, \"9\": 22, \"2\": 6, \"10\": 1, \"7\": 2, \"4\": 1, \"1\": 6}}, \"ORACLE.run1_14\": {\"14\": {\"14\": 220, \"3\": 2, \"2\": 16, \"6\": 2}, \"0\": {\"0\": 236, \"10\": 1, \"3\": 3}, \"4\": {\"4\": 232, \"5\": 8}, \"11\": {\"11\": 236, \"9\": 4}, \"13\": {\"13\": 137, \"6\": 82, \"2\": 8, \"5\": 6, \"4\": 4, \"14\": 3}, \"9\": {\"9\": 240}, \"3\": {\"3\": 233, \"2\": 5, \"5\": 2}, \"6\": {\"13\": 44, \"6\": 196}, \"1\": {\"1\": 239, \"5\": 1}, \"5\": {\"5\": 205, \"1\": 5, \"4\": 26, \"3\": 2, \"2\": 2}, \"12\": {\"12\": 240}, \"10\": {\"10\": 240}, \"8\": {\"8\": 240}, \"7\": {\"7\": 240}, \"15\": {\"15\": 240}, \"2\": {\"2\": 159, \"5\": 20, \"14\": 35, \"3\": 11, \"13\": 5, \"6\": 9, \"4\": 1}}, \"ORACLE.run1_32\": {\"11\": {\"11\": 235, \"14\": 5}, \"1\": {\"1\": 240}, \"2\": {\"2\": 205, \"4\": 35}, \"0\": {\"0\": 207, \"5\": 4, \"14\": 12, \"8\": 15, \"7\": 2}, \"3\": {\"3\": 238, \"14\": 1, \"13\": 1}, \"8\": {\"3\": 1, \"8\": 220, \"0\": 16, \"14\": 1, \"13\": 2}, \"12\": {\"12\": 240}, \"5\": {\"5\": 162, \"7\": 55, \"13\": 10, \"0\": 2, \"3\": 6, \"8\": 1, \"4\": 3, \"14\": 1}, \"15\": {\"15\": 239, \"8\": 1}, \"7\": {\"7\": 184, \"5\": 43, \"4\": 8, \"14\": 5}, \"4\": {\"2\": 38, \"4\": 189, \"7\": 5, \"5\": 6, \"13\": 2}, \"14\": {\"11\": 27, \"0\": 17, \"14\": 191, \"3\": 2, \"7\": 1, \"13\": 1, \"5\": 1}, \"10\": {\"10\": 240}, \"6\": {\"6\": 240}, \"13\": {\"13\": 205, \"5\": 9, \"4\": 11, \"3\": 11, \"7\": 2, \"8\": 2}, \"9\": {\"9\": 240}}, \"ORACLE.run1_8\": {\"9\": {\"9\": 240}, \"11\": {\"11\": 233, \"1\": 7}, \"8\": {\"8\": 240}, \"4\": {\"4\": 206, \"13\": 14, \"6\": 12, \"14\": 7, \"10\": 1}, \"13\": {\"13\": 139, \"4\": 20, \"10\": 22, \"0\": 50, \"6\": 9}, \"14\": {\"14\": 204, \"1\": 5, \"4\": 13, \"10\": 14, \"5\": 1, \"13\": 3}, \"2\": {\"2\": 232, \"7\": 5, \"12\": 1, \"3\": 2}, \"3\": {\"3\": 239, \"12\": 1}, \"1\": {\"1\": 240}, \"0\": {\"13\": 28, \"0\": 203, \"7\": 5, \"6\": 2, \"4\": 2}, \"5\": {\"5\": 219, \"1\": 11, \"10\": 7, \"14\": 3}, \"15\": {\"15\": 219, \"12\": 21}, \"10\": {\"10\": 219, \"14\": 9, \"13\": 11, \"4\": 1}, \"12\": {\"12\": 190, \"15\": 44, \"8\": 2, \"3\": 3, \"2\": 1}, \"6\": {\"0\": 2, \"6\": 179, \"4\": 19, \"13\": 4, \"7\": 36}, \"7\": {\"7\": 192, \"6\": 44, \"13\": 1, \"0\": 2, \"3\": 1}}, \"CORES_5\": {\"26\": {\"26\": 24}, \"7\": {\"30\": 1, \"7\": 29, \"12\": 1, \"38\": 1}, \"56\": {\"56\": 129, \"24\": 6, \"35\": 2, \"43\": 3, \"10\": 1, \"29\": 1}, \"36\": {\"36\": 62, \"28\": 3, \"49\": 2, \"47\": 6, \"16\": 5, \"21\": 2, \"11\": 2, \"3\": 2, \"43\": 5, \"46\": 1, \"52\": 2}, \"47\": {\"36\": 3, \"46\": 3, \"47\": 68, \"11\": 5, \"37\": 6, \"14\": 6, \"49\": 2, \"34\": 2, \"31\": 1, \"3\": 3, \"28\": 1}, \"2\": {\"15\": 1, \"2\": 17, \"29\": 2, \"40\": 3, \"3\": 1, \"43\": 1, \"0\": 1, \"44\": 1, \"14\": 1}, \"15\": {\"15\": 138, \"11\": 6, \"0\": 7, \"43\": 1}, \"14\": {\"40\": 6, \"11\": 6, \"14\": 11, \"56\": 2, \"44\": 2, \"47\": 5, \"5\": 4, \"15\": 1, \"43\": 2, \"36\": 1, \"3\": 1, \"0\": 1, \"49\": 1, \"46\": 1}, \"27\": {\"27\": 120, \"30\": 8, \"9\": 12, \"53\": 1, \"8\": 1, \"51\": 3, \"38\": 1}, \"40\": {\"40\": 94, \"43\": 4, \"34\": 1, \"5\": 4, \"44\": 7, \"29\": 5, \"47\": 3, \"19\": 1, \"2\": 1, \"14\": 1, \"3\": 1, \"36\": 1, \"56\": 1}, \"49\": {\"49\": 29, \"44\": 2, \"36\": 2, \"14\": 1, \"11\": 1, \"3\": 1}, \"45\": {\"47\": 1, \"45\": 54, \"32\": 4, \"6\": 4, \"27\": 8, \"5\": 1, \"19\": 2, \"12\": 4, \"53\": 2, \"55\": 7, \"25\": 8, \"8\": 1, \"9\": 7, \"20\": 7, \"4\": 4, \"50\": 4, \"1\": 2, \"30\": 2, \"51\": 2}, \"46\": {\"46\": 74, \"35\": 2, \"16\": 13, \"57\": 15, \"21\": 2, \"52\": 15, \"3\": 4, \"36\": 3, \"40\": 1, \"29\": 2, \"44\": 1, \"23\": 1, \"54\": 1, \"0\": 1, \"11\": 1}, \"11\": {\"11\": 126, \"0\": 2, \"15\": 2}, \"30\": {\"30\": 99, \"27\": 3, \"51\": 2, \"50\": 1, \"53\": 4, \"8\": 2, \"9\": 1}, \"0\": {\"0\": 116, \"15\": 5, \"11\": 1, \"43\": 2}, \"10\": {\"10\": 66, \"22\": 1, \"56\": 1}, \"1\": {\"17\": 10, \"1\": 119, \"8\": 1, \"48\": 15, \"53\": 3}, \"42\": {\"42\": 37, \"10\": 1, \"18\": 1, \"5\": 1}, \"54\": {\"54\": 83, \"21\": 2, \"42\": 3, \"23\": 14, \"12\": 1, \"53\": 2, \"50\": 2, \"18\": 2, \"9\": 1, \"6\": 1, \"48\": 1}, \"55\": {\"25\": 3, \"55\": 120, \"45\": 5, \"19\": 4, \"9\": 1, \"5\": 3, \"40\": 3, \"4\": 6, \"21\": 1, \"50\": 2, \"44\": 1, \"34\": 1, \"20\": 2}, \"23\": {\"23\": 121, \"18\": 1, \"42\": 2}, \"25\": {\"32\": 3, \"49\": 1, \"25\": 99, \"6\": 1, \"45\": 3, \"19\": 11, \"5\": 4, \"40\": 3, \"21\": 1, \"47\": 2, \"50\": 7, \"9\": 1, \"20\": 7, \"55\": 5, \"37\": 2, \"4\": 1, \"27\": 1}, \"28\": {\"28\": 31, \"3\": 1}, \"32\": {\"32\": 28, \"20\": 3, \"12\": 1}, \"9\": {\"9\": 80, \"27\": 20, \"12\": 3, \"45\": 3, \"51\": 9, \"50\": 7, \"6\": 2, \"53\": 2, \"30\": 8, \"20\": 1, \"25\": 3, \"19\": 2, \"55\": 2}, \"39\": {\"39\": 20}, \"3\": {\"3\": 39, \"46\": 6, \"16\": 7, \"34\": 1, \"28\": 3, \"22\": 2, \"31\": 1, \"29\": 3, \"11\": 6, \"52\": 4, \"47\": 8, \"15\": 5, \"23\": 1, \"57\": 1, \"40\": 1, \"56\": 1, \"0\": 1, \"43\": 3, \"36\": 2, \"10\": 1, \"24\": 3, \"37\": 1}, \"29\": {\"29\": 112, \"15\": 1, \"3\": 1, \"43\": 3, \"2\": 1}, \"17\": {\"17\": 99, \"1\": 7, \"48\": 8, \"55\": 1, \"6\": 1}, \"35\": {\"35\": 31, \"15\": 1, \"56\": 2, \"24\": 2}, \"44\": {\"5\": 7, \"44\": 111, \"29\": 12, \"49\": 1, \"2\": 2, \"40\": 12, \"43\": 5, \"56\": 2}, \"5\": {\"44\": 4, \"5\": 114, \"40\": 10}, \"33\": {\"33\": 31, \"41\": 1}, \"34\": {\"13\": 1, \"47\": 2, \"34\": 32, \"22\": 1}, \"13\": {\"13\": 128, \"10\": 5, \"56\": 3, \"22\": 2}, \"41\": {\"41\": 28}, \"6\": {\"42\": 1, \"50\": 3, \"6\": 20, \"32\": 2, \"51\": 6, \"18\": 2, \"1\": 13, \"12\": 2, \"48\": 14, \"17\": 12, \"25\": 5, \"30\": 3, \"20\": 6, \"53\": 10, \"9\": 8, \"45\": 4, \"8\": 6, \"55\": 1, \"4\": 1, \"26\": 1, \"38\": 4, \"33\": 1, \"21\": 1, \"19\": 1, \"54\": 1}, \"51\": {\"6\": 6, \"51\": 102, \"9\": 5, \"32\": 1, \"8\": 5, \"30\": 6, \"12\": 2, \"20\": 2, \"44\": 1, \"53\": 2, \"27\": 1, \"50\": 4, \"45\": 1}, \"50\": {\"41\": 4, \"6\": 4, \"32\": 2, \"27\": 4, \"50\": 40, \"8\": 8, \"5\": 4, \"20\": 10, \"30\": 6, \"19\": 5, \"55\": 6, \"51\": 18, \"25\": 13, \"54\": 3, \"9\": 6, \"21\": 2, \"29\": 1, \"38\": 1, \"18\": 1, \"45\": 1, \"53\": 2, \"44\": 1, \"3\": 1, \"40\": 1}, \"37\": {\"37\": 24}, \"19\": {\"50\": 3, \"19\": 128, \"4\": 3, \"5\": 1, \"36\": 1, \"25\": 3, \"45\": 1, \"29\": 1, \"9\": 1, \"55\": 1, \"44\": 1}, \"57\": {\"57\": 121, \"39\": 1, \"52\": 9, \"46\": 1}, \"21\": {\"21\": 142, \"25\": 1, \"50\": 1}, \"24\": {\"24\": 71, \"35\": 2, \"56\": 3, \"29\": 1, \"10\": 1, \"43\": 2}, \"8\": {\"8\": 91, \"6\": 2, \"38\": 2, \"30\": 4, \"53\": 17, \"1\": 6, \"48\": 3, \"51\": 3, \"17\": 1, \"27\": 1}, \"12\": {\"25\": 1, \"12\": 56, \"7\": 4, \"38\": 4, \"21\": 1, \"20\": 2, \"1\": 2, \"51\": 4, \"4\": 3, \"9\": 2, \"6\": 3, \"45\": 6, \"30\": 6, \"53\": 2}, \"48\": {\"26\": 3, \"48\": 88, \"17\": 13, \"1\": 20, \"53\": 3, \"6\": 3, \"8\": 2}, \"43\": {\"43\": 91, \"11\": 14, \"31\": 2, \"3\": 4, \"47\": 3, \"49\": 1, \"36\": 4, \"15\": 14, \"29\": 11, \"44\": 3, \"24\": 1, \"56\": 2}, \"53\": {\"26\": 3, \"53\": 77, \"38\": 2, \"30\": 4, \"17\": 7, \"6\": 8, \"27\": 6, \"1\": 15, \"8\": 15, \"48\": 10, \"12\": 1}, \"38\": {\"26\": 1, \"38\": 26, \"6\": 1, \"8\": 1, \"12\": 1, \"51\": 1, \"17\": 1}, \"16\": {\"16\": 133, \"46\": 8, \"52\": 1}, \"22\": {\"22\": 26, \"2\": 1, \"44\": 1}, \"4\": {\"4\": 97, \"20\": 1, \"9\": 1, \"55\": 1}, \"18\": {\"18\": 53, \"8\": 1, \"1\": 3, \"48\": 1, \"23\": 1, \"17\": 2, \"53\": 2, \"54\": 1}, \"20\": {\"50\": 13, \"20\": 97, \"21\": 6, \"25\": 8, \"9\": 5, \"6\": 2, \"27\": 3, \"51\": 5, \"45\": 3, \"7\": 1, \"30\": 1}, \"52\": {\"52\": 107, \"16\": 14, \"46\": 6, \"57\": 11, \"42\": 1, \"5\": 1}, \"31\": {\"31\": 34, \"15\": 1, \"3\": 1}}, \"CORES_1\": {\"41\": {\"41\": 24}, \"40\": {\"40\": 108, \"12\": 2}, \"45\": {\"42\": 6, \"45\": 126, \"25\": 1, \"16\": 1, \"19\": 3, \"1\": 1}, \"51\": {\"51\": 130, \"7\": 1, \"41\": 1, \"13\": 13, \"25\": 1, \"20\": 2}, \"5\": {\"48\": 5, \"53\": 13, \"5\": 105, \"6\": 2, \"9\": 5, \"8\": 4, \"50\": 7, \"30\": 1, \"46\": 6, \"25\": 2, \"14\": 1, \"18\": 2, \"45\": 1}, \"30\": {\"30\": 101, \"50\": 1, \"53\": 10, \"17\": 1, \"8\": 3, \"9\": 2, \"6\": 1, \"18\": 1}, \"42\": {\"42\": 37, \"1\": 1, \"19\": 2}, \"46\": {\"46\": 82, \"40\": 2, \"30\": 2, \"41\": 1, \"51\": 4, \"13\": 7, \"25\": 10, \"45\": 1, \"4\": 9, \"50\": 5, \"5\": 8, \"53\": 2, \"7\": 1, \"6\": 1, \"20\": 1}, \"48\": {\"48\": 123, \"2\": 1, \"9\": 1, \"8\": 9}, \"53\": {\"53\": 119, \"17\": 1, \"14\": 3, \"8\": 2, \"50\": 6, \"30\": 5, \"9\": 3, \"2\": 1, \"6\": 2, \"5\": 1, \"48\": 1}, \"47\": {\"47\": 120, \"49\": 5, \"52\": 9, \"39\": 1, \"28\": 1, \"38\": 3, \"11\": 4, \"10\": 3, \"22\": 2, \"27\": 1, \"55\": 1, \"24\": 2}, \"49\": {\"49\": 31, \"31\": 1}, \"36\": {\"36\": 60, \"23\": 2, \"16\": 1, \"57\": 1}, \"32\": {\"32\": 23, \"29\": 1, \"44\": 4, \"55\": 1, \"35\": 3}, \"34\": {\"34\": 22, \"37\": 1, \"33\": 1}, \"29\": {\"29\": 120, \"35\": 1, \"55\": 5, \"3\": 7, \"56\": 5, \"44\": 1, \"47\": 1}, \"35\": {\"32\": 3, \"35\": 32, \"44\": 1}, \"3\": {\"3\": 110, \"56\": 1, \"29\": 11, \"44\": 1, \"55\": 5, \"11\": 1, \"47\": 3, \"57\": 1, \"54\": 1}, \"16\": {\"16\": 139, \"33\": 1}, \"26\": {\"26\": 20, \"30\": 3, \"14\": 1}, \"57\": {\"57\": 127, \"56\": 12, \"20\": 2, \"29\": 3}, \"44\": {\"0\": 5, \"44\": 105, \"38\": 3, \"32\": 1, \"36\": 1, \"35\": 4, \"15\": 3, \"56\": 2, \"23\": 3, \"1\": 1}, \"0\": {\"11\": 15, \"0\": 114, \"55\": 1, \"21\": 4, \"23\": 1, \"47\": 1, \"15\": 13, \"38\": 1, \"44\": 2}, \"4\": {\"4\": 119, \"46\": 4, \"12\": 4, \"13\": 2, \"41\": 2, \"40\": 1}, \"31\": {\"31\": 25, \"52\": 1, \"24\": 1, \"49\": 1}, \"11\": {\"11\": 126, \"0\": 4, \"22\": 9, \"21\": 1}, \"6\": {\"48\": 8, \"26\": 1, \"9\": 3, \"8\": 20, \"6\": 47, \"14\": 2, \"5\": 3, \"50\": 4, \"2\": 2, \"30\": 4, \"17\": 2}, \"54\": {\"54\": 93, \"42\": 1, \"16\": 3, \"1\": 4, \"56\": 1, \"45\": 1, \"20\": 1}, \"17\": {\"2\": 8, \"17\": 34, \"8\": 11, \"53\": 2, \"30\": 1, \"9\": 3, \"6\": 3, \"50\": 2}, \"20\": {\"20\": 127, \"57\": 1}, \"13\": {\"13\": 134, \"51\": 10, \"25\": 2, \"20\": 4}, \"33\": {\"33\": 31, \"37\": 1}, \"24\": {\"24\": 71, \"52\": 9, \"31\": 2, \"22\": 5, \"39\": 5, \"10\": 10, \"43\": 1, \"49\": 1, \"11\": 1, \"27\": 3}, \"52\": {\"52\": 88, \"39\": 2, \"49\": 3, \"24\": 9, \"43\": 12, \"27\": 4, \"10\": 5, \"22\": 4, \"47\": 4, \"28\": 1}, \"2\": {\"2\": 36}, \"19\": {\"19\": 109, \"16\": 3, \"37\": 1, \"42\": 6, \"1\": 19, \"7\": 2, \"20\": 3, \"45\": 7, \"56\": 4, \"13\": 2}, \"39\": {\"24\": 5, \"39\": 22, \"22\": 1}, \"8\": {\"8\": 108, \"9\": 4, \"48\": 17, \"50\": 5, \"17\": 3, \"6\": 3}, \"21\": {\"21\": 118, \"15\": 4, \"22\": 1, \"0\": 1}, \"10\": {\"10\": 82, \"11\": 3, \"24\": 7, \"22\": 3, \"47\": 1}, \"37\": {\"37\": 31, \"33\": 1}, \"25\": {\"25\": 135, \"45\": 1, \"5\": 1, \"29\": 1, \"51\": 2, \"19\": 1, \"40\": 1, \"13\": 2}, \"27\": {\"27\": 90, \"10\": 10, \"52\": 4, \"11\": 2, \"31\": 1, \"43\": 10, \"22\": 7, \"47\": 5, \"24\": 1}, \"23\": {\"23\": 135, \"36\": 1}, \"1\": {\"42\": 1, \"1\": 83, \"19\": 14, \"57\": 1, \"45\": 1}, \"50\": {\"50\": 131, \"48\": 3, \"6\": 3, \"9\": 4, \"17\": 3, \"8\": 4, \"53\": 3, \"14\": 1}, \"12\": {\"12\": 114, \"20\": 2}, \"18\": {\"18\": 63, \"8\": 1, \"14\": 3, \"2\": 1, \"30\": 2, \"17\": 1, \"9\": 1}, \"38\": {\"38\": 20, \"0\": 3, \"47\": 1}, \"14\": {\"30\": 1, \"14\": 12, \"8\": 3, \"53\": 4, \"9\": 1, \"50\": 1, \"25\": 2}, \"56\": {\"56\": 112, \"57\": 23, \"29\": 4, \"20\": 2, \"19\": 1}, \"55\": {\"55\": 118, \"29\": 6, \"38\": 2, \"35\": 5, \"0\": 2, \"56\": 4, \"3\": 12, \"10\": 2, \"47\": 5, \"44\": 4}, \"9\": {\"9\": 128, \"48\": 5, \"8\": 3, \"17\": 2}, \"15\": {\"15\": 115, \"21\": 16, \"0\": 5, \"23\": 3, \"11\": 5, \"22\": 2}, \"28\": {\"28\": 28}, \"7\": {\"7\": 27, \"13\": 1}, \"43\": {\"43\": 99, \"27\": 22, \"47\": 2, \"10\": 3, \"52\": 7, \"24\": 3}, \"22\": {\"22\": 75, \"10\": 4, \"21\": 9, \"47\": 3, \"24\": 9, \"52\": 3, \"11\": 13, \"15\": 8, \"0\": 5, \"27\": 3, \"38\": 2, \"43\": 2}}, \"CORES_3\": {\"1\": {\"5\": 9, \"1\": 66, \"35\": 1, \"34\": 3, \"47\": 10, \"57\": 5, \"15\": 3, \"0\": 2, \"29\": 1}, \"9\": {\"9\": 112, \"6\": 1, \"25\": 1, \"46\": 1, \"30\": 1, \"53\": 1, \"21\": 3, \"50\": 1, \"41\": 1, \"27\": 1, \"3\": 1}, \"22\": {\"56\": 10, \"22\": 91, \"10\": 4, \"31\": 1, \"13\": 15, \"24\": 14, \"43\": 1}, \"43\": {\"43\": 119, \"49\": 4, \"7\": 6, \"11\": 2, \"24\": 2, \"47\": 2, \"28\": 1}, \"49\": {\"49\": 20}, \"50\": {\"38\": 3, \"36\": 1, \"33\": 1, \"50\": 34, \"19\": 5, \"27\": 13, \"20\": 4, \"54\": 1, \"53\": 15, \"8\": 6, \"30\": 13, \"3\": 6, \"21\": 5, \"9\": 1, \"51\": 5, \"17\": 3, \"13\": 1, \"46\": 5, \"48\": 1, \"25\": 6, \"40\": 2, \"45\": 1, \"2\": 1, \"6\": 2, \"12\": 1, \"18\": 1, \"29\": 1}, \"53\": {\"8\": 24, \"17\": 8, \"53\": 69, \"54\": 14, \"36\": 7, \"27\": 6, \"50\": 6, \"48\": 1, \"30\": 1}, \"10\": {\"10\": 60, \"22\": 1, \"24\": 3}, \"48\": {\"48\": 64, \"12\": 1, \"30\": 18, \"8\": 1, \"36\": 5, \"40\": 1, \"18\": 4, \"54\": 5, \"17\": 2, \"6\": 2, \"55\": 1, \"27\": 2, \"3\": 3, \"38\": 1, \"53\": 1, \"46\": 1, \"31\": 1, \"7\": 1, \"50\": 1, \"9\": 1}, \"8\": {\"8\": 105, \"38\": 1, \"17\": 5, \"54\": 6, \"36\": 7, \"53\": 11, \"50\": 1, \"45\": 1, \"30\": 1}, \"31\": {\"31\": 28}, \"56\": {\"22\": 9, \"56\": 117, \"24\": 4, \"10\": 3, \"31\": 1}, \"25\": {\"25\": 64, \"44\": 1, \"33\": 1, \"40\": 17, \"6\": 1, \"19\": 9, \"21\": 3, \"12\": 3, \"51\": 2, \"20\": 11, \"27\": 3, \"50\": 6, \"9\": 8, \"46\": 3, \"55\": 1, \"34\": 1, \"4\": 5, \"13\": 1, \"3\": 2}, \"28\": {\"28\": 22, \"11\": 3, \"47\": 2, \"43\": 1}, \"38\": {\"38\": 19, \"8\": 1, \"6\": 3, \"32\": 1, \"12\": 1, \"54\": 2, \"18\": 1}, \"5\": {\"5\": 94, \"43\": 1, \"47\": 6, \"35\": 1, \"11\": 2, \"46\": 1, \"0\": 3, \"1\": 4, \"29\": 2, \"57\": 2}, \"12\": {\"12\": 51, \"51\": 12, \"54\": 1, \"45\": 3, \"50\": 2, \"4\": 4, \"27\": 2, \"17\": 4, \"20\": 5, \"53\": 3, \"32\": 1, \"21\": 1, \"2\": 1, \"6\": 1, \"40\": 1}, \"6\": {\"33\": 2, \"46\": 4, \"44\": 2, \"6\": 13, \"19\": 2, \"48\": 6, \"30\": 4, \"36\": 6, \"54\": 2, \"1\": 3, \"40\": 3, \"52\": 1, \"3\": 4, \"21\": 3, \"9\": 8, \"17\": 5, \"29\": 1, \"25\": 2, \"4\": 2, \"20\": 2, \"27\": 1, \"5\": 1, \"50\": 3, \"26\": 2, \"8\": 5, \"57\": 1}, \"19\": {\"19\": 132, \"40\": 12, \"44\": 2, \"29\": 3, \"46\": 1, \"4\": 2}, \"26\": {\"26\": 22, \"39\": 1, \"41\": 1}, \"32\": {\"32\": 26, \"53\": 1, \"27\": 1}, \"33\": {\"51\": 2, \"33\": 22, \"3\": 1, \"27\": 3}, \"3\": {\"3\": 50, \"33\": 1, \"21\": 3, \"6\": 6, \"46\": 5, \"40\": 3, \"27\": 7, \"51\": 3, \"1\": 1, \"30\": 5, \"53\": 3, \"50\": 8, \"17\": 2, \"57\": 2, \"20\": 1, \"29\": 2, \"9\": 8, \"48\": 1, \"19\": 2, \"8\": 2, \"54\": 1, \"52\": 2}, \"51\": {\"51\": 109, \"12\": 5, \"53\": 5, \"27\": 2, \"50\": 4, \"20\": 2, \"38\": 1}, \"16\": {\"16\": 135, \"57\": 1, \"39\": 1, \"5\": 1}, \"46\": {\"3\": 13, \"46\": 62, \"9\": 9, \"37\": 2, \"41\": 2, \"34\": 1, \"26\": 4, \"6\": 7, \"44\": 5, \"50\": 6, \"40\": 2, \"47\": 1, \"29\": 8, \"13\": 2, \"30\": 1, \"5\": 1, \"43\": 1, \"19\": 2, \"21\": 2, \"7\": 2, \"57\": 1, \"27\": 1, \"25\": 1, \"51\": 2, \"1\": 2}, \"7\": {\"7\": 36}, \"47\": {\"47\": 65, \"35\": 2, \"5\": 8, \"28\": 1, \"0\": 3, \"1\": 4, \"43\": 1, \"11\": 6, \"55\": 1, \"57\": 1}, \"39\": {\"37\": 1, \"39\": 15}, \"40\": {\"40\": 125, \"21\": 1, \"19\": 8, \"25\": 2}, \"14\": {\"14\": 23, \"28\": 1, \"10\": 3, \"13\": 3, \"31\": 3, \"55\": 2, \"43\": 1, \"22\": 2, \"56\": 1, \"24\": 1}, \"37\": {\"37\": 28}, \"2\": {\"2\": 31, \"21\": 1}, \"21\": {\"21\": 103, \"20\": 3, \"50\": 3, \"25\": 4, \"4\": 2, \"9\": 1, \"12\": 1, \"51\": 2, \"46\": 1}, \"35\": {\"35\": 28}, \"54\": {\"54\": 69, \"36\": 11, \"17\": 6, \"53\": 9, \"8\": 1, \"32\": 1, \"30\": 2, \"50\": 1}, \"52\": {\"52\": 107, \"18\": 1, \"23\": 1, \"48\": 5, \"54\": 1, \"36\": 1}, \"29\": {\"29\": 115, \"57\": 1, \"1\": 2}, \"20\": {\"20\": 79, \"51\": 13, \"21\": 9, \"4\": 6, \"3\": 2, \"12\": 3, \"48\": 1, \"54\": 1, \"25\": 6, \"50\": 6, \"27\": 4, \"40\": 1, \"45\": 1}, \"18\": {\"18\": 69, \"30\": 2, \"52\": 3, \"54\": 1, \"36\": 1, \"48\": 8}, \"11\": {\"11\": 132, \"57\": 1, \"5\": 7, \"47\": 2}, \"0\": {\"0\": 105, \"11\": 2, \"15\": 17}, \"36\": {\"36\": 96, \"54\": 4}, \"17\": {\"17\": 75, \"36\": 9, \"6\": 1, \"38\": 1, \"54\": 9, \"53\": 5, \"30\": 2, \"8\": 5, \"27\": 1}, \"30\": {\"30\": 90, \"8\": 1, \"17\": 4, \"3\": 1, \"48\": 10, \"18\": 3, \"53\": 3, \"33\": 1, \"52\": 1}, \"42\": {\"42\": 24, \"19\": 2, \"44\": 2}, \"45\": {\"40\": 4, \"45\": 41, \"44\": 1, \"12\": 2, \"33\": 1, \"4\": 4, \"19\": 1, \"20\": 1, \"51\": 2, \"25\": 2, \"27\": 1}, \"4\": {\"45\": 3, \"4\": 143, \"20\": 1, \"3\": 1}, \"23\": {\"23\": 129, \"52\": 2, \"16\": 1, \"43\": 2}, \"13\": {\"13\": 119, \"31\": 1, \"22\": 7, \"14\": 1}, \"15\": {\"15\": 97, \"35\": 3, \"1\": 2, \"47\": 1, \"16\": 6, \"0\": 13, \"13\": 1, \"57\": 1, \"41\": 2, \"43\": 1, \"22\": 1}, \"57\": {\"57\": 109, \"1\": 7, \"5\": 4, \"29\": 2, \"35\": 1, \"15\": 1}, \"27\": {\"27\": 126, \"53\": 3, \"33\": 1, \"8\": 2, \"20\": 1, \"9\": 1}, \"44\": {\"44\": 79, \"19\": 3, \"40\": 4, \"29\": 2}, \"34\": {\"34\": 32}, \"41\": {\"41\": 24, \"11\": 1, \"9\": 1, \"46\": 1, \"29\": 1}, \"24\": {\"24\": 88, \"10\": 5, \"22\": 5, \"56\": 2, \"49\": 1, \"43\": 1, \"13\": 2}, \"55\": {\"55\": 98, \"43\": 1, \"22\": 4, \"24\": 1, \"13\": 12, \"14\": 2}}, \"CORES_4\": {\"52\": {\"52\": 99, \"39\": 2, \"23\": 7, \"46\": 3, \"41\": 1, \"42\": 1, \"57\": 1, \"5\": 1, \"18\": 1}, \"6\": {\"40\": 5, \"6\": 32, \"53\": 6, \"7\": 1, \"25\": 10, \"51\": 5, \"1\": 1, \"34\": 2, \"50\": 9, \"4\": 11, \"21\": 6, \"44\": 3, \"19\": 2, \"36\": 2, \"9\": 1, \"54\": 1, \"3\": 2, \"33\": 2, \"28\": 2, \"49\": 1, \"20\": 3, \"47\": 1, \"30\": 2, \"29\": 2}, \"14\": {\"14\": 12, \"43\": 1, \"24\": 1, \"10\": 1, \"22\": 1}, \"49\": {\"49\": 19, \"35\": 1}, \"0\": {\"43\": 6, \"57\": 1, \"0\": 69, \"11\": 2, \"56\": 1, \"46\": 1}, \"46\": {\"41\": 3, \"35\": 4, \"32\": 2, \"46\": 58, \"39\": 1, \"16\": 11, \"43\": 8, \"57\": 6, \"10\": 5, \"47\": 10, \"52\": 16, \"3\": 1, \"5\": 3, \"56\": 5, \"15\": 10, \"0\": 1, \"19\": 1, \"40\": 1, \"23\": 1, \"6\": 1, \"24\": 1, \"42\": 1, \"22\": 2, \"29\": 2, \"11\": 1, \"55\": 1}, \"41\": {\"41\": 36}, \"24\": {\"0\": 3, \"24\": 46, \"10\": 2, \"43\": 2, \"56\": 2, \"22\": 1}, \"25\": {\"40\": 8, \"25\": 86, \"20\": 13, \"51\": 12, \"3\": 4, \"50\": 12, \"44\": 3, \"19\": 7, \"6\": 3, \"28\": 1, \"34\": 1, \"4\": 1, \"9\": 1}, \"40\": {\"40\": 117, \"28\": 1, \"44\": 6, \"19\": 9, \"29\": 2, \"55\": 1, \"13\": 1, \"10\": 1}, \"38\": {\"13\": 3, \"38\": 29, \"56\": 3, \"24\": 1, \"22\": 2, \"14\": 1, \"2\": 1}, \"13\": {\"13\": 151, \"22\": 1}, \"9\": {\"9\": 82, \"20\": 4, \"4\": 10, \"51\": 5, \"3\": 2, \"40\": 1, \"12\": 1, \"6\": 1, \"27\": 1, \"50\": 1}, \"45\": {\"45\": 69, \"50\": 3, \"12\": 4, \"19\": 2, \"9\": 3, \"51\": 3, \"44\": 1, \"4\": 3, \"3\": 1, \"25\": 2, \"40\": 2, \"29\": 1, \"6\": 2}, \"43\": {\"43\": 115, \"0\": 12, \"46\": 3, \"11\": 4, \"24\": 4, \"15\": 2, \"22\": 1, \"7\": 1, \"10\": 2}, \"10\": {\"38\": 4, \"10\": 101, \"24\": 5, \"2\": 2, \"22\": 10, \"56\": 8}, \"15\": {\"11\": 10, \"15\": 102, \"16\": 3, \"22\": 1, \"5\": 2, \"46\": 7, \"57\": 1, \"10\": 1, \"56\": 1}, \"39\": {\"39\": 19, \"52\": 1}, \"4\": {\"4\": 114, \"9\": 6, \"6\": 5, \"50\": 4, \"34\": 1, \"3\": 1, \"20\": 1}, \"53\": {\"53\": 109, \"3\": 9, \"27\": 6, \"8\": 1, \"50\": 1, \"12\": 1, \"30\": 1, \"36\": 2, \"20\": 1, \"40\": 1}, \"1\": {\"15\": 4, \"1\": 29, \"35\": 3, \"57\": 2, \"56\": 1, \"7\": 1}, \"28\": {\"28\": 26, \"33\": 3, \"40\": 2, \"19\": 1}, \"54\": {\"54\": 64, \"53\": 5, \"21\": 4, \"42\": 1, \"48\": 14, \"36\": 10, \"27\": 4, \"8\": 2, \"23\": 1, \"17\": 2, \"18\": 1}, \"21\": {\"8\": 20, \"27\": 9, \"21\": 95, \"30\": 4, \"48\": 2, \"17\": 1, \"51\": 1}, \"7\": {\"7\": 17, \"24\": 1, \"43\": 1, \"1\": 2, \"46\": 1, \"15\": 1, \"10\": 1}, \"8\": {\"21\": 10, \"8\": 94, \"48\": 6, \"36\": 3, \"17\": 4, \"27\": 14, \"54\": 3, \"30\": 2}, \"42\": {\"42\": 32}, \"11\": {\"7\": 3, \"11\": 81, \"15\": 11, \"10\": 1, \"56\": 1, \"46\": 3, \"43\": 3, \"24\": 1}, \"33\": {\"33\": 35, \"40\": 1}, \"27\": {\"27\": 91, \"21\": 6, \"17\": 12, \"40\": 1, \"8\": 17, \"36\": 5, \"53\": 1, \"48\": 6, \"54\": 2, \"3\": 1}, \"19\": {\"19\": 122, \"33\": 3, \"40\": 9, \"44\": 8, \"31\": 1, \"4\": 1}, \"2\": {\"2\": 31, \"56\": 5}, \"3\": {\"3\": 54, \"6\": 3, \"53\": 11, \"36\": 3, \"28\": 2, \"30\": 3, \"21\": 5, \"25\": 5, \"27\": 3, \"48\": 2, \"8\": 6, \"9\": 2, \"54\": 3, \"50\": 6, \"20\": 5, \"51\": 3, \"34\": 1, \"4\": 3}, \"57\": {\"57\": 78, \"41\": 2, \"35\": 1, \"5\": 6, \"19\": 1, \"29\": 2, \"47\": 5, \"16\": 3, \"46\": 1, \"1\": 1}, \"20\": {\"20\": 64, \"30\": 2, \"51\": 18, \"50\": 5, \"53\": 2, \"6\": 4, \"3\": 4, \"4\": 3, \"55\": 2, \"21\": 2, \"25\": 3, \"12\": 1, \"9\": 2}, \"23\": {\"23\": 122, \"18\": 6}, \"22\": {\"22\": 87, \"2\": 3, \"38\": 6, \"10\": 15, \"14\": 1, \"0\": 2, \"56\": 7, \"13\": 3, \"24\": 4}, \"29\": {\"29\": 109, \"38\": 1, \"57\": 5, \"47\": 5, \"5\": 2, \"46\": 1, \"19\": 1}, \"36\": {\"36\": 76, \"48\": 4, \"3\": 1, \"27\": 1, \"44\": 2, \"21\": 3, \"8\": 2, \"42\": 1, \"54\": 2}, \"51\": {\"51\": 98, \"20\": 14, \"25\": 2, \"50\": 8, \"53\": 3, \"9\": 1, \"12\": 1, \"3\": 3, \"6\": 1, \"27\": 1}, \"31\": {\"31\": 24, \"19\": 2, \"37\": 1, \"32\": 1}, \"12\": {\"12\": 75, \"21\": 5, \"51\": 2, \"30\": 1, \"27\": 2, \"53\": 2, \"50\": 3, \"8\": 2}, \"56\": {\"2\": 3, \"56\": 113, \"38\": 2, \"10\": 13, \"22\": 6, \"24\": 1}, \"5\": {\"5\": 62, \"57\": 12, \"47\": 13, \"44\": 1, \"46\": 7, \"15\": 2, \"16\": 2, \"29\": 4, \"43\": 1, \"35\": 1, \"41\": 2, \"6\": 1}, \"35\": {\"35\": 38, \"10\": 1, \"40\": 1}, \"17\": {\"17\": 54, \"27\": 10, \"48\": 4, \"12\": 1, \"8\": 5, \"36\": 3, \"21\": 1, \"54\": 1, \"20\": 1}, \"32\": {\"32\": 24}, \"47\": {\"47\": 73, \"5\": 15, \"57\": 7, \"29\": 9, \"15\": 6, \"46\": 7, \"16\": 1, \"1\": 1, \"11\": 1}, \"18\": {\"18\": 89, \"44\": 1, \"23\": 7, \"13\": 1, \"19\": 1, \"42\": 1, \"48\": 4, \"54\": 4}, \"26\": {\"26\": 22, \"34\": 2}, \"50\": {\"12\": 6, \"50\": 44, \"34\": 3, \"4\": 9, \"25\": 14, \"53\": 8, \"3\": 7, \"40\": 3, \"9\": 8, \"27\": 2, \"21\": 2, \"51\": 6, \"19\": 3, \"6\": 3, \"45\": 1, \"20\": 3}, \"55\": {\"31\": 1, \"55\": 107, \"32\": 1, \"10\": 2, \"13\": 5, \"22\": 4, \"19\": 1, \"56\": 1, \"40\": 2}, \"34\": {\"34\": 20, \"26\": 1, \"28\": 1, \"20\": 1, \"6\": 1}, \"30\": {\"12\": 3, \"30\": 28, \"8\": 3, \"53\": 2, \"21\": 5, \"54\": 1, \"27\": 2}, \"37\": {\"37\": 24}, \"44\": {\"44\": 104, \"40\": 8, \"19\": 17, \"31\": 1, \"55\": 2}, \"48\": {\"30\": 1, \"17\": 7, \"54\": 4, \"19\": 2, \"48\": 80, \"8\": 7, \"27\": 8, \"21\": 7, \"3\": 1, \"44\": 1}, \"16\": {\"16\": 94, \"39\": 1, \"46\": 1}}, \"CORES_2\": {\"11\": {\"11\": 116, \"28\": 1, \"5\": 12, \"47\": 1}, \"21\": {\"21\": 113, \"20\": 1, \"3\": 1, \"46\": 2, \"25\": 1, \"9\": 2}, \"19\": {\"19\": 120, \"42\": 2, \"33\": 1, \"29\": 2, \"40\": 7, \"46\": 2, \"4\": 2, \"21\": 1, \"44\": 3}, \"20\": {\"20\": 95, \"12\": 9, \"3\": 4, \"51\": 9, \"25\": 2, \"9\": 3, \"40\": 1, \"50\": 1, \"6\": 1, \"4\": 1, \"44\": 1, \"45\": 1}, \"9\": {\"9\": 123, \"50\": 1, \"25\": 4, \"45\": 2, \"4\": 4, \"53\": 1, \"19\": 1, \"51\": 1, \"21\": 2, \"3\": 1}, \"10\": {\"10\": 98, \"24\": 12, \"22\": 2}, \"37\": {\"37\": 35, \"38\": 1}, \"32\": {\"32\": 27, \"8\": 1}, \"3\": {\"32\": 3, \"50\": 5, \"3\": 41, \"53\": 3, \"6\": 3, \"19\": 1, \"12\": 2, \"21\": 3, \"7\": 1, \"27\": 1, \"51\": 5, \"25\": 1, \"48\": 2, \"4\": 1, \"40\": 2, \"17\": 7, \"46\": 3, \"9\": 2, \"2\": 1, \"34\": 1, \"33\": 1, \"20\": 1, \"29\": 2}, \"39\": {\"39\": 27, \"0\": 1}, \"45\": {\"9\": 19, \"45\": 71, \"21\": 3, \"19\": 1, \"4\": 17, \"25\": 3, \"20\": 2, \"3\": 2, \"40\": 2, \"37\": 1, \"12\": 3, \"50\": 3, \"51\": 1}, \"50\": {\"32\": 2, \"46\": 3, \"48\": 4, \"4\": 1, \"17\": 11, \"33\": 1, \"26\": 1, \"50\": 42, \"8\": 10, \"3\": 3, \"27\": 11, \"36\": 3, \"6\": 5, \"9\": 2, \"53\": 10, \"21\": 5, \"40\": 2, \"54\": 6, \"25\": 4, \"20\": 6, \"51\": 3, \"29\": 1}, \"40\": {\"40\": 130, \"29\": 2, \"4\": 2, \"19\": 3, \"34\": 1, \"55\": 1, \"45\": 1}, \"46\": {\"40\": 4, \"21\": 9, \"46\": 44, \"29\": 11, \"11\": 1, \"50\": 1, \"10\": 2, \"2\": 3, \"43\": 4, \"3\": 4, \"44\": 8, \"1\": 7, \"19\": 2, \"25\": 5, \"57\": 5, \"9\": 6, \"33\": 1, \"47\": 2, \"38\": 1, \"42\": 1, \"51\": 1, \"52\": 1, \"13\": 2, \"55\": 1, \"22\": 2}, \"12\": {\"12\": 64, \"20\": 12, \"53\": 5, \"9\": 2, \"51\": 3, \"17\": 1, \"45\": 1, \"32\": 1, \"3\": 1, \"50\": 1, \"4\": 1}, \"13\": {\"13\": 115, \"56\": 1}, \"47\": {\"47\": 97, \"5\": 15, \"11\": 6, \"28\": 3, \"1\": 6, \"57\": 3, \"15\": 2}, \"15\": {\"15\": 129, \"29\": 1, \"16\": 5, \"57\": 3, \"7\": 1, \"0\": 3}, \"54\": {\"54\": 68, \"36\": 18, \"27\": 7, \"53\": 6, \"6\": 1, \"8\": 3, \"50\": 3, \"17\": 2}, \"48\": {\"48\": 100, \"54\": 9, \"8\": 3, \"30\": 8, \"36\": 10, \"6\": 6, \"27\": 6, \"18\": 1, \"51\": 1, \"53\": 3, \"50\": 1}, \"23\": {\"23\": 136, \"52\": 4, \"30\": 2}, \"29\": {\"46\": 5, \"29\": 119, \"33\": 1, \"1\": 2, \"57\": 1}, \"38\": {\"38\": 20}, \"53\": {\"27\": 12, \"50\": 5, \"8\": 19, \"53\": 77, \"32\": 2, \"36\": 2, \"17\": 4, \"54\": 6, \"51\": 4, \"6\": 3, \"26\": 1, \"48\": 1}, \"27\": {\"54\": 11, \"27\": 117, \"53\": 7, \"8\": 10, \"17\": 3, \"36\": 1, \"6\": 1}, \"43\": {\"43\": 136, \"14\": 1, \"5\": 2, \"28\": 1, \"10\": 1, \"56\": 1, \"22\": 2}, \"35\": {\"35\": 32}, \"0\": {\"57\": 4, \"0\": 34, \"39\": 1, \"15\": 4, \"16\": 5}, \"52\": {\"52\": 99, \"23\": 13, \"30\": 1, \"18\": 1, \"16\": 6, \"44\": 1, \"15\": 2, \"48\": 1}, \"8\": {\"53\": 14, \"8\": 86, \"27\": 10, \"54\": 8, \"51\": 1, \"17\": 2, \"50\": 4, \"36\": 3}, \"24\": {\"10\": 18, \"24\": 68, \"22\": 5, \"43\": 4, \"56\": 1}, \"18\": {\"18\": 43, \"30\": 1, \"48\": 2, \"36\": 2}, \"25\": {\"25\": 72, \"3\": 3, \"21\": 3, \"34\": 1, \"33\": 2, \"9\": 9, \"51\": 8, \"50\": 5, \"12\": 6, \"20\": 7, \"40\": 11, \"19\": 11, \"6\": 1, \"42\": 3, \"4\": 4, \"46\": 1, \"45\": 1}, \"57\": {\"57\": 125, \"1\": 6, \"15\": 3, \"16\": 2}, \"55\": {\"55\": 121, \"14\": 2, \"13\": 6, \"19\": 1, \"37\": 1, \"43\": 2, \"56\": 1}, \"36\": {\"36\": 116}, \"17\": {\"17\": 67, \"36\": 4, \"27\": 11, \"50\": 4, \"6\": 1, \"54\": 2, \"30\": 1, \"48\": 2, \"20\": 1, \"8\": 3, \"53\": 4, \"26\": 2, \"32\": 2}, \"2\": {\"2\": 31, \"46\": 1}, \"34\": {\"34\": 27, \"3\": 1}, \"1\": {\"57\": 9, \"1\": 80, \"39\": 2, \"29\": 7, \"7\": 3, \"21\": 1, \"16\": 2, \"47\": 4, \"0\": 2, \"46\": 1, \"15\": 1}, \"51\": {\"51\": 110, \"20\": 7, \"3\": 2, \"50\": 6, \"53\": 4, \"45\": 1, \"6\": 2, \"25\": 1, \"8\": 1, \"12\": 2}, \"31\": {\"31\": 28}, \"49\": {\"49\": 22, \"30\": 1, \"54\": 1}, \"14\": {\"13\": 3, \"14\": 14, \"24\": 2, \"56\": 1, \"55\": 2, \"43\": 1, \"31\": 1}, \"33\": {\"33\": 28}, \"41\": {\"17\": 1, \"41\": 16, \"53\": 1, \"18\": 2}, \"28\": {\"28\": 24, \"11\": 1, \"31\": 1, \"5\": 1, \"43\": 1}, \"5\": {\"5\": 101, \"47\": 9, \"11\": 9, \"57\": 1}, \"16\": {\"39\": 1, \"16\": 144, \"15\": 4, \"52\": 1}, \"4\": {\"4\": 117, \"45\": 1, \"20\": 1, \"29\": 1, \"25\": 1, \"34\": 2, \"9\": 3, \"40\": 2}, \"22\": {\"31\": 2, \"14\": 2, \"56\": 23, \"22\": 81, \"10\": 9, \"24\": 9, \"43\": 3, \"13\": 7}, \"6\": {\"40\": 4, \"34\": 1, \"27\": 12, \"6\": 38, \"53\": 6, \"41\": 1, \"54\": 8, \"50\": 5, \"36\": 6, \"8\": 3, \"17\": 2, \"57\": 1, \"4\": 3, \"51\": 4, \"48\": 7, \"30\": 1, \"3\": 2, \"29\": 1, \"20\": 1, \"49\": 1, \"32\": 1, \"2\": 1, \"12\": 1, \"28\": 1, \"18\": 2, \"9\": 1, \"21\": 1, \"25\": 3}, \"30\": {\"30\": 118, \"48\": 6}, \"26\": {\"26\": 23, \"54\": 1}, \"56\": {\"56\": 135, \"22\": 4, \"24\": 3}, \"42\": {\"42\": 25, \"19\": 2, \"46\": 5, \"40\": 2, \"29\": 2}, \"44\": {\"44\": 91, \"19\": 8, \"40\": 1}, \"7\": {\"1\": 2, \"7\": 27, \"11\": 2, \"15\": 1, \"29\": 1, \"0\": 1, \"2\": 1, \"57\": 1}}}, \"per_domain_accuracy\": {\"ORACLE.run1_26\": {\"accuracy\": 0.7541666666666667, \"source?\": true}, \"ORACLE.run1_44\": {\"accuracy\": 0.8138020833333334, \"source?\": true}, \"ORACLE.run1_50\": {\"accuracy\": 0.92265625, \"source?\": true}, \"ORACLE.run1_38\": {\"accuracy\": 0.9283854166666666, \"source?\": true}, \"ORACLE.run1_20\": {\"accuracy\": 0.8575520833333333, \"source?\": true}, \"ORACLE.run1_14\": {\"accuracy\": 0.9200520833333333, \"source?\": true}, \"ORACLE.run1_32\": {\"accuracy\": 0.9049479166666666, \"source?\": true}, \"ORACLE.run1_8\": {\"accuracy\": 0.8838541666666667, \"source?\": true}, \"CORES_5\": {\"accuracy\": 0.7582053072625698, \"source?\": false}, \"CORES_1\": {\"accuracy\": 0.8260869565217391, \"source?\": false}, \"CORES_3\": {\"accuracy\": 0.7731617647058824, \"source?\": false}, \"CORES_4\": {\"accuracy\": 0.7426581325301205, \"source?\": false}, \"CORES_2\": {\"accuracy\": 0.7817826704545454, \"source?\": false}}}, \"history\": {\"epoch_indices\": [1, 2, 3, 4, 5, 6, 7, 8, 9, 10], \"train_label_loss\": [0.7676461587393922, 0.7406607760415812, 0.44302708289081544, 0.36758631899914085, 0.32430232474615056, 0.29321146788106056, 0.2750259125495047, 0.2574541154136005, 0.2444233281839323, 0.23924569428988132], \"source_val_label_loss\": [8.656149864196777, 0.525822103023529, 0.4422517418861389, 0.33787792921066284, 0.32575470209121704, 0.3574952185153961, 0.3583695888519287, 0.31895047426223755, 0.347592830657959, 0.3056548237800598], \"target_val_label_loss\": [282.7185363769531, 50.23760223388672, 82.30484771728516, 117.92942810058594, 122.30689239501953, 248.56463623046875, 929.8346557617188, 827.0595703125, 1194.7176513671875, 1166.5262451171875], \"source_val_acc_label\": [0.7740234375, 0.8113606770833334, 0.83935546875, 0.8794921875, 0.884375, 0.8731770833333333, 0.8942708333333333, 0.8959309895833333, 0.90302734375, 0.89345703125], \"target_val_acc_label\": [0.6205357142857143, 0.7130714285714286, 0.7673928571428571, 0.7659285714285714, 0.7768214285714286, 0.7771785714285714, 0.6780357142857143, 0.70675, 0.6651428571428571, 0.6533571428571429]}, \"dataset_metrics\": {\"source\": {\"train\": {\"n_unique_x\": 179200, \"n_unique_y\": 16, \"n_batch/episode\": 6720}, \"val\": {\"n_unique_x\": 38400, \"n_unique_y\": 16, \"n_batch/episode\": 960}, \"test\": {\"n_unique_x\": 38400, \"n_unique_y\": 16, \"n_batch/episode\": 960}}, \"target\": {\"train\": {\"n_unique_x\": 175203, \"n_unique_y\": 58, \"n_batch/episode\": 6321}, \"val\": {\"n_unique_x\": 37151, \"n_unique_y\": 58, \"n_batch/episode\": 875}, \"test\": {\"n_unique_x\": 37548, \"n_unique_y\": 58, \"n_batch/episode\": 885}}}}'"
      ]
     },
     "execution_count": 29,
     "metadata": {},
     "output_type": "execute_result"
    }
   ],
   "source": [
    "json.dumps(experiment)"
   ]
  }
 ],
 "metadata": {
  "celltoolbar": "Tags",
  "kernelspec": {
   "display_name": "Python 3 (ipykernel)",
   "language": "python",
   "name": "python3"
  },
  "language_info": {
   "codemirror_mode": {
    "name": "ipython",
    "version": 3
   },
   "file_extension": ".py",
   "mimetype": "text/x-python",
   "name": "python",
   "nbconvert_exporter": "python",
   "pygments_lexer": "ipython3",
   "version": "3.8.12"
  },
  "papermill": {
   "default_parameters": {},
   "duration": 2862.594251,
   "end_time": "2022-03-21T16:26:12.455296",
   "environment_variables": {},
   "exception": null,
   "input_path": "/root/csc500-main/csc500-notebooks/templates/tl_ptn_template.ipynb",
   "output_path": "trial.ipynb",
   "parameters": {
    "parameters": {
     "BEST_MODEL_PATH": "./best_model.pth",
     "NUM_LOGS_PER_EPOCH": 10,
     "criteria_for_best": "target_accuracy",
     "dataset_seed": 7,
     "datasets": [
      {
       "domain_prefix": "CORES_",
       "domains": [
        1,
        2,
        3,
        4,
        5
       ],
       "episode_transforms": [],
       "labels": [
        "1-10.",
        "1-11.",
        "1-15.",
        "1-16.",
        "1-17.",
        "1-18.",
        "1-19.",
        "10-4.",
        "10-7.",
        "11-1.",
        "11-14.",
        "11-17.",
        "11-20.",
        "11-7.",
        "13-20.",
        "13-8.",
        "14-10.",
        "14-11.",
        "14-14.",
        "14-7.",
        "15-1.",
        "15-20.",
        "16-1.",
        "16-16.",
        "17-10.",
        "17-11.",
        "17-2.",
        "19-1.",
        "19-16.",
        "19-19.",
        "19-20.",
        "19-3.",
        "2-10.",
        "2-11.",
        "2-17.",
        "2-18.",
        "2-20.",
        "2-3.",
        "2-4.",
        "2-5.",
        "2-6.",
        "2-7.",
        "2-8.",
        "3-13.",
        "3-18.",
        "3-3.",
        "4-1.",
        "4-10.",
        "4-11.",
        "4-19.",
        "5-5.",
        "6-15.",
        "7-10.",
        "7-14.",
        "8-18.",
        "8-20.",
        "8-3.",
        "8-8."
       ],
       "num_examples_per_domain_per_label": -1,
       "pickle_path": "/root/csc500-main/datasets/cores.stratified_ds.2022A.pkl",
       "source_or_target_dataset": "target",
       "x_transforms": [
        "unit_mag"
       ]
      },
      {
       "domain_prefix": "ORACLE.run1_",
       "domains": [
        32,
        38,
        8,
        44,
        14,
        50,
        20,
        26
       ],
       "episode_transforms": [],
       "labels": [
        "3123D52",
        "3123D65",
        "3123D79",
        "3123D80",
        "3123D54",
        "3123D70",
        "3123D7B",
        "3123D89",
        "3123D58",
        "3123D76",
        "3123D7D",
        "3123EFE",
        "3123D64",
        "3123D78",
        "3123D7E",
        "3124E4A"
       ],
       "num_examples_per_domain_per_label": 2000,
       "pickle_path": "/root/csc500-main/datasets/oracle.Run1_framed_2000Examples_stratified_ds.2022A.pkl",
       "source_or_target_dataset": "source",
       "x_transforms": [
        "unit_mag"
       ]
      }
     ],
     "device": "cuda",
     "experiment_name": "tl_1v2:cores-oracle.run1.framed",
     "lr": 0.0001,
     "n_epoch": 50,
     "n_query": 2,
     "n_shot": 3,
     "n_way": 16,
     "patience": 3,
     "seed": 7,
     "test_k_factor": 2,
     "torch_default_dtype": "torch.float32",
     "train_k_factor": 3,
     "val_k_factor": 2,
     "x_net": [
      {
       "class": "nnReshape",
       "kargs": {
        "shape": [
         -1,
         1,
         2,
         256
        ]
       }
      },
      {
       "class": "Conv2d",
       "kargs": {
        "bias": false,
        "in_channels": 1,
        "kernel_size": [
         1,
         7
        ],
        "out_channels": 256,
        "padding": [
         0,
         3
        ]
       }
      },
      {
       "class": "ReLU",
       "kargs": {
        "inplace": true
       }
      },
      {
       "class": "BatchNorm2d",
       "kargs": {
        "num_features": 256
       }
      },
      {
       "class": "Conv2d",
       "kargs": {
        "bias": true,
        "in_channels": 256,
        "kernel_size": [
         2,
         7
        ],
        "out_channels": 80,
        "padding": [
         0,
         3
        ]
       }
      },
      {
       "class": "ReLU",
       "kargs": {
        "inplace": true
       }
      },
      {
       "class": "BatchNorm2d",
       "kargs": {
        "num_features": 80
       }
      },
      {
       "class": "Flatten",
       "kargs": {}
      },
      {
       "class": "Linear",
       "kargs": {
        "in_features": 20480,
        "out_features": 256
       }
      },
      {
       "class": "ReLU",
       "kargs": {
        "inplace": true
       }
      },
      {
       "class": "BatchNorm1d",
       "kargs": {
        "num_features": 256
       }
      },
      {
       "class": "Linear",
       "kargs": {
        "in_features": 256,
        "out_features": 256
       }
      }
     ]
    }
   },
   "start_time": "2022-03-21T15:38:29.861045",
   "version": "2.3.4"
  }
 },
 "nbformat": 4,
 "nbformat_minor": 5
}