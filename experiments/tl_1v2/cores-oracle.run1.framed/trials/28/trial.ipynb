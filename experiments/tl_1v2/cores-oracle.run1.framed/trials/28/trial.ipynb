{
 "cells": [
  {
   "cell_type": "markdown",
   "id": "9fea5f46",
   "metadata": {
    "papermill": {
     "duration": 0.029746,
     "end_time": "2022-03-21T19:00:56.087620",
     "exception": false,
     "start_time": "2022-03-21T19:00:56.057874",
     "status": "completed"
    },
    "tags": []
   },
   "source": [
    "# Transfer Learning Template"
   ]
  },
  {
   "cell_type": "code",
   "execution_count": 1,
   "id": "0902182a",
   "metadata": {
    "execution": {
     "iopub.execute_input": "2022-03-21T19:00:56.150951Z",
     "iopub.status.busy": "2022-03-21T19:00:56.149646Z",
     "iopub.status.idle": "2022-03-21T19:00:58.034683Z",
     "shell.execute_reply": "2022-03-21T19:00:58.034227Z"
    },
    "papermill": {
     "duration": 1.923147,
     "end_time": "2022-03-21T19:00:58.034810",
     "exception": false,
     "start_time": "2022-03-21T19:00:56.111663",
     "status": "completed"
    },
    "tags": []
   },
   "outputs": [],
   "source": [
    "%load_ext autoreload\n",
    "%autoreload 2\n",
    "%matplotlib inline\n",
    "\n",
    "    \n",
    "import os, json, sys, time, random\n",
    "import numpy as np\n",
    "import torch\n",
    "from torch.optim import Adam\n",
    "from  easydict import EasyDict\n",
    "import matplotlib.pyplot as plt\n",
    "\n",
    "from steves_models.steves_ptn import Steves_Prototypical_Network\n",
    "\n",
    "from steves_utils.lazy_iterable_wrapper import Lazy_Iterable_Wrapper\n",
    "from steves_utils.iterable_aggregator import Iterable_Aggregator\n",
    "from steves_utils.ptn_train_eval_test_jig import  PTN_Train_Eval_Test_Jig\n",
    "from steves_utils.torch_sequential_builder import build_sequential\n",
    "from steves_utils.torch_utils import get_dataset_metrics, ptn_confusion_by_domain_over_dataloader\n",
    "from steves_utils.utils_v2 import (per_domain_accuracy_from_confusion, get_datasets_base_path)\n",
    "from steves_utils.PTN.utils import independent_accuracy_assesment\n",
    "\n",
    "from torch.utils.data import DataLoader\n",
    "\n",
    "from steves_utils.stratified_dataset.episodic_accessor import Episodic_Accessor_Factory\n",
    "\n",
    "from steves_utils.ptn_do_report import (\n",
    "    get_loss_curve,\n",
    "    get_results_table,\n",
    "    get_parameters_table,\n",
    "    get_domain_accuracies,\n",
    ")\n",
    "\n",
    "from steves_utils.transforms import get_chained_transform"
   ]
  },
  {
   "cell_type": "markdown",
   "id": "41c840b4",
   "metadata": {
    "papermill": {
     "duration": 0.018785,
     "end_time": "2022-03-21T19:00:58.073267",
     "exception": false,
     "start_time": "2022-03-21T19:00:58.054482",
     "status": "completed"
    },
    "tags": []
   },
   "source": [
    "# Allowed Parameters\n",
    "These are allowed parameters, not defaults\n",
    "Each of these values need to be present in the injected parameters (the notebook will raise an exception if they are not present)\n",
    "\n",
    "Papermill uses the cell tag \"parameters\" to inject the real parameters below this cell.\n",
    "Enable tags to see what I mean"
   ]
  },
  {
   "cell_type": "code",
   "execution_count": 2,
   "id": "fd44eb83",
   "metadata": {
    "execution": {
     "iopub.execute_input": "2022-03-21T19:00:58.115966Z",
     "iopub.status.busy": "2022-03-21T19:00:58.115565Z",
     "iopub.status.idle": "2022-03-21T19:00:58.137043Z",
     "shell.execute_reply": "2022-03-21T19:00:58.136630Z"
    },
    "papermill": {
     "duration": 0.045127,
     "end_time": "2022-03-21T19:00:58.137147",
     "exception": false,
     "start_time": "2022-03-21T19:00:58.092020",
     "status": "completed"
    },
    "tags": []
   },
   "outputs": [],
   "source": [
    "required_parameters = {\n",
    "    \"experiment_name\",\n",
    "    \"lr\",\n",
    "    \"device\",\n",
    "    \"seed\",\n",
    "    \"dataset_seed\",\n",
    "    \"n_shot\",\n",
    "    \"n_query\",\n",
    "    \"n_way\",\n",
    "    \"train_k_factor\",\n",
    "    \"val_k_factor\",\n",
    "    \"test_k_factor\",\n",
    "    \"n_epoch\",\n",
    "    \"patience\",\n",
    "    \"criteria_for_best\",\n",
    "    \"x_net\",\n",
    "    \"datasets\",\n",
    "    \"torch_default_dtype\",\n",
    "    \"NUM_LOGS_PER_EPOCH\",\n",
    "    \"BEST_MODEL_PATH\",\n",
    "    \"x_shape\",\n",
    "}"
   ]
  },
  {
   "cell_type": "code",
   "execution_count": 3,
   "id": "fa3f0049",
   "metadata": {
    "execution": {
     "iopub.execute_input": "2022-03-21T19:00:58.186166Z",
     "iopub.status.busy": "2022-03-21T19:00:58.185735Z",
     "iopub.status.idle": "2022-03-21T19:00:58.209125Z",
     "shell.execute_reply": "2022-03-21T19:00:58.208744Z"
    },
    "papermill": {
     "duration": 0.052367,
     "end_time": "2022-03-21T19:00:58.209222",
     "exception": false,
     "start_time": "2022-03-21T19:00:58.156855",
     "status": "completed"
    },
    "tags": [
     "parameters"
    ]
   },
   "outputs": [],
   "source": [
    "from steves_utils.CORES.utils import (\n",
    "    ALL_NODES,\n",
    "    ALL_NODES_MINIMUM_1000_EXAMPLES,\n",
    "    ALL_DAYS\n",
    ")\n",
    "\n",
    "from steves_utils.ORACLE.utils_v2 import (\n",
    "    ALL_DISTANCES_FEET_NARROWED,\n",
    "    ALL_RUNS,\n",
    "    ALL_SERIAL_NUMBERS,\n",
    ")\n",
    "\n",
    "standalone_parameters = {}\n",
    "standalone_parameters[\"experiment_name\"] = \"STANDALONE PTN\"\n",
    "standalone_parameters[\"lr\"] = 0.001\n",
    "standalone_parameters[\"device\"] = \"cuda\"\n",
    "\n",
    "standalone_parameters[\"seed\"] = 1337\n",
    "standalone_parameters[\"dataset_seed\"] = 1337\n",
    "\n",
    "standalone_parameters[\"n_way\"] = 8\n",
    "standalone_parameters[\"n_shot\"] = 3\n",
    "standalone_parameters[\"n_query\"]  = 2\n",
    "standalone_parameters[\"train_k_factor\"] = 1\n",
    "standalone_parameters[\"val_k_factor\"] = 2\n",
    "standalone_parameters[\"test_k_factor\"] = 2\n",
    "\n",
    "\n",
    "standalone_parameters[\"n_epoch\"] = 50\n",
    "\n",
    "standalone_parameters[\"patience\"] = 10\n",
    "standalone_parameters[\"criteria_for_best\"] = \"source_loss\"\n",
    "\n",
    "standalone_parameters[\"datasets\"] = [\n",
    "    {\n",
    "        \"labels\": ALL_SERIAL_NUMBERS,\n",
    "        \"domains\": ALL_DISTANCES_FEET_NARROWED,\n",
    "        \"num_examples_per_domain_per_label\": 100,\n",
    "        \"pickle_path\": os.path.join(get_datasets_base_path(), \"oracle.Run1_framed_2000Examples_stratified_ds.2022A.pkl\"),\n",
    "        \"source_or_target_dataset\": \"source\",\n",
    "        \"x_transforms\": [\"unit_mag\", \"minus_two\"],\n",
    "        \"episode_transforms\": [],\n",
    "        \"domain_prefix\": \"ORACLE_\"\n",
    "    },\n",
    "    {\n",
    "        \"labels\": ALL_NODES,\n",
    "        \"domains\": ALL_DAYS,\n",
    "        \"num_examples_per_domain_per_label\": 100,\n",
    "        \"pickle_path\": os.path.join(get_datasets_base_path(), \"cores.stratified_ds.2022A.pkl\"),\n",
    "        \"source_or_target_dataset\": \"target\",\n",
    "        \"x_transforms\": [\"unit_power\", \"times_zero\"],\n",
    "        \"episode_transforms\": [],\n",
    "        \"domain_prefix\": \"CORES_\"\n",
    "    }   \n",
    "]\n",
    "\n",
    "standalone_parameters[\"torch_default_dtype\"] = \"torch.float32\" \n",
    "\n",
    "\n",
    "\n",
    "standalone_parameters[\"x_net\"] =     [\n",
    "    {\"class\": \"nnReshape\", \"kargs\": {\"shape\":[-1, 1, 2, 256]}},\n",
    "    {\"class\": \"Conv2d\", \"kargs\": { \"in_channels\":1, \"out_channels\":256, \"kernel_size\":(1,7), \"bias\":False, \"padding\":(0,3), },},\n",
    "    {\"class\": \"ReLU\", \"kargs\": {\"inplace\": True}},\n",
    "    {\"class\": \"BatchNorm2d\", \"kargs\": {\"num_features\":256}},\n",
    "\n",
    "    {\"class\": \"Conv2d\", \"kargs\": { \"in_channels\":256, \"out_channels\":80, \"kernel_size\":(2,7), \"bias\":True, \"padding\":(0,3), },},\n",
    "    {\"class\": \"ReLU\", \"kargs\": {\"inplace\": True}},\n",
    "    {\"class\": \"BatchNorm2d\", \"kargs\": {\"num_features\":80}},\n",
    "    {\"class\": \"Flatten\", \"kargs\": {}},\n",
    "\n",
    "    {\"class\": \"Linear\", \"kargs\": {\"in_features\": 80*256, \"out_features\": 256}}, # 80 units per IQ pair\n",
    "    {\"class\": \"ReLU\", \"kargs\": {\"inplace\": True}},\n",
    "    {\"class\": \"BatchNorm1d\", \"kargs\": {\"num_features\":256}},\n",
    "\n",
    "    {\"class\": \"Linear\", \"kargs\": {\"in_features\": 256, \"out_features\": 256}},\n",
    "]\n",
    "\n",
    "# Parameters relevant to results\n",
    "# These parameters will basically never need to change\n",
    "standalone_parameters[\"NUM_LOGS_PER_EPOCH\"] = 10\n",
    "standalone_parameters[\"BEST_MODEL_PATH\"] = \"./best_model.pth\"\n",
    "\n",
    "\n",
    "\n",
    "\n"
   ]
  },
  {
   "cell_type": "code",
   "execution_count": 4,
   "id": "272543bb",
   "metadata": {
    "execution": {
     "iopub.execute_input": "2022-03-21T19:00:58.266595Z",
     "iopub.status.busy": "2022-03-21T19:00:58.260998Z",
     "iopub.status.idle": "2022-03-21T19:00:58.290574Z",
     "shell.execute_reply": "2022-03-21T19:00:58.290177Z"
    },
    "papermill": {
     "duration": 0.062098,
     "end_time": "2022-03-21T19:00:58.290676",
     "exception": false,
     "start_time": "2022-03-21T19:00:58.228578",
     "status": "completed"
    },
    "tags": [
     "injected-parameters"
    ]
   },
   "outputs": [],
   "source": [
    "# Parameters\n",
    "parameters = {\n",
    "    \"experiment_name\": \"tl_1v2:cores-oracle.run1.framed\",\n",
    "    \"device\": \"cuda\",\n",
    "    \"lr\": 0.0001,\n",
    "    \"n_shot\": 3,\n",
    "    \"n_query\": 2,\n",
    "    \"train_k_factor\": 3,\n",
    "    \"val_k_factor\": 2,\n",
    "    \"test_k_factor\": 2,\n",
    "    \"torch_default_dtype\": \"torch.float32\",\n",
    "    \"n_epoch\": 50,\n",
    "    \"patience\": 3,\n",
    "    \"criteria_for_best\": \"target_accuracy\",\n",
    "    \"x_net\": [\n",
    "        {\"class\": \"nnReshape\", \"kargs\": {\"shape\": [-1, 1, 2, 256]}},\n",
    "        {\n",
    "            \"class\": \"Conv2d\",\n",
    "            \"kargs\": {\n",
    "                \"in_channels\": 1,\n",
    "                \"out_channels\": 256,\n",
    "                \"kernel_size\": [1, 7],\n",
    "                \"bias\": False,\n",
    "                \"padding\": [0, 3],\n",
    "            },\n",
    "        },\n",
    "        {\"class\": \"ReLU\", \"kargs\": {\"inplace\": True}},\n",
    "        {\"class\": \"BatchNorm2d\", \"kargs\": {\"num_features\": 256}},\n",
    "        {\n",
    "            \"class\": \"Conv2d\",\n",
    "            \"kargs\": {\n",
    "                \"in_channels\": 256,\n",
    "                \"out_channels\": 80,\n",
    "                \"kernel_size\": [2, 7],\n",
    "                \"bias\": True,\n",
    "                \"padding\": [0, 3],\n",
    "            },\n",
    "        },\n",
    "        {\"class\": \"ReLU\", \"kargs\": {\"inplace\": True}},\n",
    "        {\"class\": \"BatchNorm2d\", \"kargs\": {\"num_features\": 80}},\n",
    "        {\"class\": \"Flatten\", \"kargs\": {}},\n",
    "        {\"class\": \"Linear\", \"kargs\": {\"in_features\": 20480, \"out_features\": 256}},\n",
    "        {\"class\": \"ReLU\", \"kargs\": {\"inplace\": True}},\n",
    "        {\"class\": \"BatchNorm1d\", \"kargs\": {\"num_features\": 256}},\n",
    "        {\"class\": \"Linear\", \"kargs\": {\"in_features\": 256, \"out_features\": 256}},\n",
    "    ],\n",
    "    \"NUM_LOGS_PER_EPOCH\": 10,\n",
    "    \"BEST_MODEL_PATH\": \"./best_model.pth\",\n",
    "    \"n_way\": 16,\n",
    "    \"datasets\": [\n",
    "        {\n",
    "            \"labels\": [\n",
    "                \"1-10.\",\n",
    "                \"1-11.\",\n",
    "                \"1-15.\",\n",
    "                \"1-16.\",\n",
    "                \"1-17.\",\n",
    "                \"1-18.\",\n",
    "                \"1-19.\",\n",
    "                \"10-4.\",\n",
    "                \"10-7.\",\n",
    "                \"11-1.\",\n",
    "                \"11-14.\",\n",
    "                \"11-17.\",\n",
    "                \"11-20.\",\n",
    "                \"11-7.\",\n",
    "                \"13-20.\",\n",
    "                \"13-8.\",\n",
    "                \"14-10.\",\n",
    "                \"14-11.\",\n",
    "                \"14-14.\",\n",
    "                \"14-7.\",\n",
    "                \"15-1.\",\n",
    "                \"15-20.\",\n",
    "                \"16-1.\",\n",
    "                \"16-16.\",\n",
    "                \"17-10.\",\n",
    "                \"17-11.\",\n",
    "                \"17-2.\",\n",
    "                \"19-1.\",\n",
    "                \"19-16.\",\n",
    "                \"19-19.\",\n",
    "                \"19-20.\",\n",
    "                \"19-3.\",\n",
    "                \"2-10.\",\n",
    "                \"2-11.\",\n",
    "                \"2-17.\",\n",
    "                \"2-18.\",\n",
    "                \"2-20.\",\n",
    "                \"2-3.\",\n",
    "                \"2-4.\",\n",
    "                \"2-5.\",\n",
    "                \"2-6.\",\n",
    "                \"2-7.\",\n",
    "                \"2-8.\",\n",
    "                \"3-13.\",\n",
    "                \"3-18.\",\n",
    "                \"3-3.\",\n",
    "                \"4-1.\",\n",
    "                \"4-10.\",\n",
    "                \"4-11.\",\n",
    "                \"4-19.\",\n",
    "                \"5-5.\",\n",
    "                \"6-15.\",\n",
    "                \"7-10.\",\n",
    "                \"7-14.\",\n",
    "                \"8-18.\",\n",
    "                \"8-20.\",\n",
    "                \"8-3.\",\n",
    "                \"8-8.\",\n",
    "            ],\n",
    "            \"domains\": [1, 2, 3, 4, 5],\n",
    "            \"num_examples_per_domain_per_label\": -1,\n",
    "            \"pickle_path\": \"/root/csc500-main/datasets/cores.stratified_ds.2022A.pkl\",\n",
    "            \"source_or_target_dataset\": \"target\",\n",
    "            \"x_transforms\": [\"unit_mag\"],\n",
    "            \"episode_transforms\": [],\n",
    "            \"domain_prefix\": \"CORES_\",\n",
    "        },\n",
    "        {\n",
    "            \"labels\": [\n",
    "                \"3123D52\",\n",
    "                \"3123D65\",\n",
    "                \"3123D79\",\n",
    "                \"3123D80\",\n",
    "                \"3123D54\",\n",
    "                \"3123D70\",\n",
    "                \"3123D7B\",\n",
    "                \"3123D89\",\n",
    "                \"3123D58\",\n",
    "                \"3123D76\",\n",
    "                \"3123D7D\",\n",
    "                \"3123EFE\",\n",
    "                \"3123D64\",\n",
    "                \"3123D78\",\n",
    "                \"3123D7E\",\n",
    "                \"3124E4A\",\n",
    "            ],\n",
    "            \"domains\": [32, 38, 8, 44, 14, 50, 20, 26],\n",
    "            \"num_examples_per_domain_per_label\": 2000,\n",
    "            \"pickle_path\": \"/root/csc500-main/datasets/oracle.Run1_framed_2000Examples_stratified_ds.2022A.pkl\",\n",
    "            \"source_or_target_dataset\": \"source\",\n",
    "            \"x_transforms\": [\"unit_mag\"],\n",
    "            \"episode_transforms\": [],\n",
    "            \"domain_prefix\": \"ORACLE.run1_\",\n",
    "        },\n",
    "    ],\n",
    "    \"dataset_seed\": 500,\n",
    "    \"seed\": 500,\n",
    "}\n"
   ]
  },
  {
   "cell_type": "code",
   "execution_count": 5,
   "id": "8fa1cc33",
   "metadata": {
    "execution": {
     "iopub.execute_input": "2022-03-21T19:00:58.334046Z",
     "iopub.status.busy": "2022-03-21T19:00:58.333668Z",
     "iopub.status.idle": "2022-03-21T19:00:58.353007Z",
     "shell.execute_reply": "2022-03-21T19:00:58.352617Z"
    },
    "papermill": {
     "duration": 0.042493,
     "end_time": "2022-03-21T19:00:58.353103",
     "exception": false,
     "start_time": "2022-03-21T19:00:58.310610",
     "status": "completed"
    },
    "tags": []
   },
   "outputs": [],
   "source": [
    "# Set this to True if you want to run this template directly\n",
    "STANDALONE = False\n",
    "if STANDALONE:\n",
    "    print(\"parameters not injected, running with standalone_parameters\")\n",
    "    parameters = standalone_parameters\n",
    "\n",
    "if not 'parameters' in locals() and not 'parameters' in globals():\n",
    "    raise Exception(\"Parameter injection failed\")\n",
    "\n",
    "#Use an easy dict for all the parameters\n",
    "p = EasyDict(parameters)\n",
    "\n",
    "if \"x_shape\" not in p:\n",
    "    p.x_shape = [2,256] # Default to this if we dont supply x_shape\n",
    "\n",
    "\n",
    "supplied_keys = set(p.keys())\n",
    "\n",
    "if  supplied_keys != required_parameters:\n",
    "    print(\"Parameters are incorrect\")\n",
    "    if len(supplied_keys - required_parameters)>0: print(\"Shouldn't have:\", str(supplied_keys - required_parameters))\n",
    "    if len(required_parameters - supplied_keys)>0: print(\"Need to have:\", str(required_parameters - supplied_keys))\n",
    "    raise RuntimeError(\"Parameters are incorrect\")"
   ]
  },
  {
   "cell_type": "code",
   "execution_count": 6,
   "id": "3a028d58",
   "metadata": {
    "execution": {
     "iopub.execute_input": "2022-03-21T19:00:58.394853Z",
     "iopub.status.busy": "2022-03-21T19:00:58.394479Z",
     "iopub.status.idle": "2022-03-21T19:00:58.413068Z",
     "shell.execute_reply": "2022-03-21T19:00:58.412682Z"
    },
    "papermill": {
     "duration": 0.040615,
     "end_time": "2022-03-21T19:00:58.413161",
     "exception": false,
     "start_time": "2022-03-21T19:00:58.372546",
     "status": "completed"
    },
    "tags": []
   },
   "outputs": [],
   "source": [
    "###################################\n",
    "# Set the RNGs and make it all deterministic\n",
    "###################################\n",
    "np.random.seed(p.seed)\n",
    "random.seed(p.seed)\n",
    "torch.manual_seed(p.seed)\n",
    "\n",
    "torch.use_deterministic_algorithms(True) "
   ]
  },
  {
   "cell_type": "code",
   "execution_count": 7,
   "id": "b691acf6",
   "metadata": {
    "execution": {
     "iopub.execute_input": "2022-03-21T19:00:58.456914Z",
     "iopub.status.busy": "2022-03-21T19:00:58.454914Z",
     "iopub.status.idle": "2022-03-21T19:00:58.479821Z",
     "shell.execute_reply": "2022-03-21T19:00:58.478964Z"
    },
    "papermill": {
     "duration": 0.046862,
     "end_time": "2022-03-21T19:00:58.479995",
     "exception": false,
     "start_time": "2022-03-21T19:00:58.433133",
     "status": "completed"
    },
    "tags": []
   },
   "outputs": [],
   "source": [
    "###########################################\n",
    "# The stratified datasets honor this\n",
    "###########################################\n",
    "torch.set_default_dtype(eval(p.torch_default_dtype))"
   ]
  },
  {
   "cell_type": "code",
   "execution_count": 8,
   "id": "b5fba671",
   "metadata": {
    "execution": {
     "iopub.execute_input": "2022-03-21T19:00:58.530341Z",
     "iopub.status.busy": "2022-03-21T19:00:58.528397Z",
     "iopub.status.idle": "2022-03-21T19:00:58.587789Z",
     "shell.execute_reply": "2022-03-21T19:00:58.586919Z"
    },
    "papermill": {
     "duration": 0.081416,
     "end_time": "2022-03-21T19:00:58.587973",
     "exception": false,
     "start_time": "2022-03-21T19:00:58.506557",
     "status": "completed"
    },
    "tags": []
   },
   "outputs": [],
   "source": [
    "###################################\n",
    "# Build the network(s)\n",
    "# Note: It's critical to do this AFTER setting the RNG\n",
    "###################################\n",
    "x_net = build_sequential(p.x_net)"
   ]
  },
  {
   "cell_type": "code",
   "execution_count": 9,
   "id": "5d7e61cc",
   "metadata": {
    "execution": {
     "iopub.execute_input": "2022-03-21T19:00:58.640530Z",
     "iopub.status.busy": "2022-03-21T19:00:58.640065Z",
     "iopub.status.idle": "2022-03-21T19:00:58.664959Z",
     "shell.execute_reply": "2022-03-21T19:00:58.664235Z"
    },
    "papermill": {
     "duration": 0.050004,
     "end_time": "2022-03-21T19:00:58.665130",
     "exception": false,
     "start_time": "2022-03-21T19:00:58.615126",
     "status": "completed"
    },
    "tags": []
   },
   "outputs": [],
   "source": [
    "start_time_secs = time.time()"
   ]
  },
  {
   "cell_type": "code",
   "execution_count": 10,
   "id": "c6b67dfd",
   "metadata": {
    "execution": {
     "iopub.execute_input": "2022-03-21T19:00:58.717168Z",
     "iopub.status.busy": "2022-03-21T19:00:58.716787Z",
     "iopub.status.idle": "2022-03-21T19:00:58.744937Z",
     "shell.execute_reply": "2022-03-21T19:00:58.744193Z"
    },
    "papermill": {
     "duration": 0.053142,
     "end_time": "2022-03-21T19:00:58.745118",
     "exception": false,
     "start_time": "2022-03-21T19:00:58.691976",
     "status": "completed"
    },
    "tags": []
   },
   "outputs": [],
   "source": [
    "p.domains_source = []\n",
    "p.domains_target = []\n",
    "\n",
    "\n",
    "train_original_source = []\n",
    "val_original_source   = []\n",
    "test_original_source  = []\n",
    "\n",
    "train_original_target = []\n",
    "val_original_target   = []\n",
    "test_original_target  = []"
   ]
  },
  {
   "cell_type": "code",
   "execution_count": 11,
   "id": "e3d9c3d3",
   "metadata": {
    "execution": {
     "iopub.execute_input": "2022-03-21T19:00:58.799865Z",
     "iopub.status.busy": "2022-03-21T19:00:58.799448Z",
     "iopub.status.idle": "2022-03-21T19:00:58.824606Z",
     "shell.execute_reply": "2022-03-21T19:00:58.824214Z"
    },
    "papermill": {
     "duration": 0.054841,
     "end_time": "2022-03-21T19:00:58.824719",
     "exception": false,
     "start_time": "2022-03-21T19:00:58.769878",
     "status": "completed"
    },
    "tags": []
   },
   "outputs": [],
   "source": [
    "# global_x_transform_func = lambda x: normalize(x.to(torch.get_default_dtype()), \"unit_power\") # unit_power, unit_mag\n",
    "# global_x_transform_func = lambda x: normalize(x, \"unit_power\") # unit_power, unit_mag"
   ]
  },
  {
   "cell_type": "code",
   "execution_count": 12,
   "id": "acb78fd2",
   "metadata": {
    "execution": {
     "iopub.execute_input": "2022-03-21T19:00:58.891004Z",
     "iopub.status.busy": "2022-03-21T19:00:58.890159Z",
     "iopub.status.idle": "2022-03-21T19:00:58.914601Z",
     "shell.execute_reply": "2022-03-21T19:00:58.914066Z"
    },
    "papermill": {
     "duration": 0.058162,
     "end_time": "2022-03-21T19:00:58.914721",
     "exception": false,
     "start_time": "2022-03-21T19:00:58.856559",
     "status": "completed"
    },
    "tags": []
   },
   "outputs": [],
   "source": [
    "def add_dataset(\n",
    "    labels,\n",
    "    domains,\n",
    "    pickle_path,\n",
    "    x_transforms,\n",
    "    episode_transforms,\n",
    "    domain_prefix,\n",
    "    num_examples_per_domain_per_label,\n",
    "    source_or_target_dataset:str,\n",
    "    iterator_seed=p.seed,\n",
    "    dataset_seed=p.dataset_seed,\n",
    "    n_shot=p.n_shot,\n",
    "    n_way=p.n_way,\n",
    "    n_query=p.n_query,\n",
    "    train_val_test_k_factors=(p.train_k_factor,p.val_k_factor,p.test_k_factor),\n",
    "):\n",
    "   \n",
    "    if x_transforms == []: x_transform = None\n",
    "    else: x_transform = get_chained_transform(x_transforms)\n",
    "    \n",
    "    if episode_transforms == []: episode_transform = None\n",
    "    else: raise Exception(\"episode_transforms not implemented\")\n",
    "    \n",
    "    episode_transform = lambda tup, _prefix=domain_prefix: (_prefix + str(tup[0]), tup[1])\n",
    "\n",
    "\n",
    "    eaf = Episodic_Accessor_Factory(\n",
    "        labels=labels,\n",
    "        domains=domains,\n",
    "        num_examples_per_domain_per_label=num_examples_per_domain_per_label,\n",
    "        iterator_seed=iterator_seed,\n",
    "        dataset_seed=dataset_seed,\n",
    "        n_shot=n_shot,\n",
    "        n_way=n_way,\n",
    "        n_query=n_query,\n",
    "        train_val_test_k_factors=train_val_test_k_factors,\n",
    "        pickle_path=pickle_path,\n",
    "        x_transform_func=x_transform,\n",
    "    )\n",
    "\n",
    "    train, val, test = eaf.get_train(), eaf.get_val(), eaf.get_test()\n",
    "    train = Lazy_Iterable_Wrapper(train, episode_transform)\n",
    "    val = Lazy_Iterable_Wrapper(val, episode_transform)\n",
    "    test = Lazy_Iterable_Wrapper(test, episode_transform)\n",
    "\n",
    "    if source_or_target_dataset==\"source\":\n",
    "        train_original_source.append(train)\n",
    "        val_original_source.append(val)\n",
    "        test_original_source.append(test)\n",
    "\n",
    "        p.domains_source.extend(\n",
    "            [domain_prefix + str(u) for u in domains]\n",
    "        )\n",
    "    elif source_or_target_dataset==\"target\":\n",
    "        train_original_target.append(train)\n",
    "        val_original_target.append(val)\n",
    "        test_original_target.append(test)\n",
    "        p.domains_target.extend(\n",
    "            [domain_prefix + str(u) for u in domains]\n",
    "        )\n",
    "    else:\n",
    "        raise Exception(f\"invalid source_or_target_dataset: {source_or_target_dataset}\")\n",
    "    "
   ]
  },
  {
   "cell_type": "code",
   "execution_count": 13,
   "id": "fe266617",
   "metadata": {
    "execution": {
     "iopub.execute_input": "2022-03-21T19:00:58.971133Z",
     "iopub.status.busy": "2022-03-21T19:00:58.970510Z",
     "iopub.status.idle": "2022-03-21T19:01:40.554203Z",
     "shell.execute_reply": "2022-03-21T19:01:40.554879Z"
    },
    "papermill": {
     "duration": 41.606681,
     "end_time": "2022-03-21T19:01:40.555115",
     "exception": false,
     "start_time": "2022-03-21T19:00:58.948434",
     "status": "completed"
    },
    "tags": []
   },
   "outputs": [],
   "source": [
    "for ds in p.datasets:\n",
    "    add_dataset(**ds)"
   ]
  },
  {
   "cell_type": "code",
   "execution_count": 14,
   "id": "b90d65ac",
   "metadata": {
    "execution": {
     "iopub.execute_input": "2022-03-21T19:01:40.604940Z",
     "iopub.status.busy": "2022-03-21T19:01:40.604421Z",
     "iopub.status.idle": "2022-03-21T19:01:40.628086Z",
     "shell.execute_reply": "2022-03-21T19:01:40.628761Z"
    },
    "papermill": {
     "duration": 0.047873,
     "end_time": "2022-03-21T19:01:40.628944",
     "exception": false,
     "start_time": "2022-03-21T19:01:40.581071",
     "status": "completed"
    },
    "tags": []
   },
   "outputs": [],
   "source": [
    "# from steves_utils.CORES.utils import (\n",
    "#     ALL_NODES,\n",
    "#     ALL_NODES_MINIMUM_1000_EXAMPLES,\n",
    "#     ALL_DAYS\n",
    "# )\n",
    "\n",
    "# add_dataset(\n",
    "#     labels=ALL_NODES,\n",
    "#     domains = ALL_DAYS,\n",
    "#     num_examples_per_domain_per_label=100,\n",
    "#     pickle_path=os.path.join(get_datasets_base_path(), \"cores.stratified_ds.2022A.pkl\"),\n",
    "#     source_or_target_dataset=\"target\",\n",
    "#     x_transform_func=global_x_transform_func,\n",
    "#     domain_modifier=lambda u: f\"cores_{u}\"\n",
    "# )"
   ]
  },
  {
   "cell_type": "code",
   "execution_count": 15,
   "id": "76db484d",
   "metadata": {
    "execution": {
     "iopub.execute_input": "2022-03-21T19:01:40.679892Z",
     "iopub.status.busy": "2022-03-21T19:01:40.679496Z",
     "iopub.status.idle": "2022-03-21T19:01:40.705025Z",
     "shell.execute_reply": "2022-03-21T19:01:40.704311Z"
    },
    "papermill": {
     "duration": 0.049488,
     "end_time": "2022-03-21T19:01:40.705182",
     "exception": false,
     "start_time": "2022-03-21T19:01:40.655694",
     "status": "completed"
    },
    "tags": []
   },
   "outputs": [],
   "source": [
    "# from steves_utils.ORACLE.utils_v2 import (\n",
    "#     ALL_DISTANCES_FEET,\n",
    "#     ALL_RUNS,\n",
    "#     ALL_SERIAL_NUMBERS,\n",
    "# )\n",
    "\n",
    "\n",
    "# add_dataset(\n",
    "#     labels=ALL_SERIAL_NUMBERS,\n",
    "#     domains = list(set(ALL_DISTANCES_FEET) - {2,62}),\n",
    "#     num_examples_per_domain_per_label=100,\n",
    "#     pickle_path=os.path.join(get_datasets_base_path(), \"oracle.Run2_framed_2000Examples_stratified_ds.2022A.pkl\"),\n",
    "#     source_or_target_dataset=\"source\",\n",
    "#     x_transform_func=global_x_transform_func,\n",
    "#     domain_modifier=lambda u: f\"oracle1_{u}\"\n",
    "# )\n"
   ]
  },
  {
   "cell_type": "code",
   "execution_count": 16,
   "id": "97dea9d2",
   "metadata": {
    "execution": {
     "iopub.execute_input": "2022-03-21T19:01:40.755351Z",
     "iopub.status.busy": "2022-03-21T19:01:40.754986Z",
     "iopub.status.idle": "2022-03-21T19:01:40.778504Z",
     "shell.execute_reply": "2022-03-21T19:01:40.777803Z"
    },
    "papermill": {
     "duration": 0.046817,
     "end_time": "2022-03-21T19:01:40.778656",
     "exception": false,
     "start_time": "2022-03-21T19:01:40.731839",
     "status": "completed"
    },
    "tags": []
   },
   "outputs": [],
   "source": [
    "# from steves_utils.ORACLE.utils_v2 import (\n",
    "#     ALL_DISTANCES_FEET,\n",
    "#     ALL_RUNS,\n",
    "#     ALL_SERIAL_NUMBERS,\n",
    "# )\n",
    "\n",
    "\n",
    "# add_dataset(\n",
    "#     labels=ALL_SERIAL_NUMBERS,\n",
    "#     domains = list(set(ALL_DISTANCES_FEET) - {2,62,56}),\n",
    "#     num_examples_per_domain_per_label=100,\n",
    "#     pickle_path=os.path.join(get_datasets_base_path(), \"oracle.Run2_framed_2000Examples_stratified_ds.2022A.pkl\"),\n",
    "#     source_or_target_dataset=\"source\",\n",
    "#     x_transform_func=global_x_transform_func,\n",
    "#     domain_modifier=lambda u: f\"oracle2_{u}\"\n",
    "# )"
   ]
  },
  {
   "cell_type": "code",
   "execution_count": 17,
   "id": "6f289866",
   "metadata": {
    "execution": {
     "iopub.execute_input": "2022-03-21T19:01:40.830209Z",
     "iopub.status.busy": "2022-03-21T19:01:40.829850Z",
     "iopub.status.idle": "2022-03-21T19:01:40.852727Z",
     "shell.execute_reply": "2022-03-21T19:01:40.852029Z"
    },
    "papermill": {
     "duration": 0.046285,
     "end_time": "2022-03-21T19:01:40.852878",
     "exception": false,
     "start_time": "2022-03-21T19:01:40.806593",
     "status": "completed"
    },
    "tags": []
   },
   "outputs": [],
   "source": [
    "# add_dataset(\n",
    "#     labels=list(range(19)),\n",
    "#     domains = [0,1,2],\n",
    "#     num_examples_per_domain_per_label=100,\n",
    "#     pickle_path=os.path.join(get_datasets_base_path(), \"metehan.stratified_ds.2022A.pkl\"),\n",
    "#     source_or_target_dataset=\"target\",\n",
    "#     x_transform_func=global_x_transform_func,\n",
    "#     domain_modifier=lambda u: f\"met_{u}\"\n",
    "# )"
   ]
  },
  {
   "cell_type": "code",
   "execution_count": 18,
   "id": "86a863c3",
   "metadata": {
    "execution": {
     "iopub.execute_input": "2022-03-21T19:01:40.903696Z",
     "iopub.status.busy": "2022-03-21T19:01:40.903301Z",
     "iopub.status.idle": "2022-03-21T19:01:40.925157Z",
     "shell.execute_reply": "2022-03-21T19:01:40.924456Z"
    },
    "papermill": {
     "duration": 0.045476,
     "end_time": "2022-03-21T19:01:40.925310",
     "exception": false,
     "start_time": "2022-03-21T19:01:40.879834",
     "status": "completed"
    },
    "tags": []
   },
   "outputs": [],
   "source": [
    "# # from steves_utils.wisig.utils import (\n",
    "# #     ALL_NODES_MINIMUM_100_EXAMPLES,\n",
    "# #     ALL_NODES_MINIMUM_500_EXAMPLES,\n",
    "# #     ALL_NODES_MINIMUM_1000_EXAMPLES,\n",
    "# #     ALL_DAYS\n",
    "# # )\n",
    "\n",
    "# import steves_utils.wisig.utils as wisig\n",
    "\n",
    "\n",
    "# add_dataset(\n",
    "#     labels=wisig.ALL_NODES_MINIMUM_100_EXAMPLES,\n",
    "#     domains = wisig.ALL_DAYS,\n",
    "#     num_examples_per_domain_per_label=100,\n",
    "#     pickle_path=os.path.join(get_datasets_base_path(), \"wisig.node3-19.stratified_ds.2022A.pkl\"),\n",
    "#     source_or_target_dataset=\"target\",\n",
    "#     x_transform_func=global_x_transform_func,\n",
    "#     domain_modifier=lambda u: f\"wisig_{u}\"\n",
    "# )"
   ]
  },
  {
   "cell_type": "code",
   "execution_count": 19,
   "id": "fd5442bc",
   "metadata": {
    "execution": {
     "iopub.execute_input": "2022-03-21T19:01:40.980608Z",
     "iopub.status.busy": "2022-03-21T19:01:40.980044Z",
     "iopub.status.idle": "2022-03-21T19:01:41.000537Z",
     "shell.execute_reply": "2022-03-21T19:01:40.999846Z"
    },
    "papermill": {
     "duration": 0.04925,
     "end_time": "2022-03-21T19:01:41.000689",
     "exception": false,
     "start_time": "2022-03-21T19:01:40.951439",
     "status": "completed"
    },
    "tags": []
   },
   "outputs": [],
   "source": [
    "###################################\n",
    "# Build the dataset\n",
    "###################################\n",
    "train_original_source = Iterable_Aggregator(train_original_source, p.seed)\n",
    "val_original_source = Iterable_Aggregator(val_original_source, p.seed)\n",
    "test_original_source = Iterable_Aggregator(test_original_source, p.seed)\n",
    "\n",
    "\n",
    "train_original_target = Iterable_Aggregator(train_original_target, p.seed)\n",
    "val_original_target = Iterable_Aggregator(val_original_target, p.seed)\n",
    "test_original_target = Iterable_Aggregator(test_original_target, p.seed)\n",
    "\n",
    "# For CNN We only use X and Y. And we only train on the source.\n",
    "# Properly form the data using a transform lambda and Lazy_Iterable_Wrapper. Finally wrap them in a dataloader\n",
    "\n",
    "transform_lambda = lambda ex: ex[1] # Original is (<domain>, <episode>) so we strip down to episode only\n",
    "\n",
    "train_processed_source = Lazy_Iterable_Wrapper(train_original_source, transform_lambda)\n",
    "val_processed_source   = Lazy_Iterable_Wrapper(val_original_source, transform_lambda)\n",
    "test_processed_source  = Lazy_Iterable_Wrapper(test_original_source, transform_lambda)\n",
    "\n",
    "train_processed_target = Lazy_Iterable_Wrapper(train_original_target, transform_lambda)\n",
    "val_processed_target   = Lazy_Iterable_Wrapper(val_original_target, transform_lambda)\n",
    "test_processed_target  = Lazy_Iterable_Wrapper(test_original_target, transform_lambda)\n",
    "\n",
    "datasets = EasyDict({\n",
    "    \"source\": {\n",
    "        \"original\": {\"train\":train_original_source, \"val\":val_original_source, \"test\":test_original_source},\n",
    "        \"processed\": {\"train\":train_processed_source, \"val\":val_processed_source, \"test\":test_processed_source}\n",
    "    },\n",
    "    \"target\": {\n",
    "        \"original\": {\"train\":train_original_target, \"val\":val_original_target, \"test\":test_original_target},\n",
    "        \"processed\": {\"train\":train_processed_target, \"val\":val_processed_target, \"test\":test_processed_target}\n",
    "    },\n",
    "})"
   ]
  },
  {
   "cell_type": "code",
   "execution_count": 20,
   "id": "5b3c01fc",
   "metadata": {
    "execution": {
     "iopub.execute_input": "2022-03-21T19:01:41.054952Z",
     "iopub.status.busy": "2022-03-21T19:01:41.054592Z",
     "iopub.status.idle": "2022-03-21T19:01:56.235263Z",
     "shell.execute_reply": "2022-03-21T19:01:56.236007Z"
    },
    "papermill": {
     "duration": 15.20664,
     "end_time": "2022-03-21T19:01:56.236188",
     "exception": false,
     "start_time": "2022-03-21T19:01:41.029548",
     "status": "completed"
    },
    "tags": []
   },
   "outputs": [
    {
     "name": "stdout",
     "output_type": "stream",
     "text": [
      "{'ORACLE.run1_44', 'ORACLE.run1_50', 'ORACLE.run1_32', 'ORACLE.run1_20', 'ORACLE.run1_38', 'ORACLE.run1_14', 'ORACLE.run1_26', 'ORACLE.run1_8'}\n"
     ]
    },
    {
     "name": "stdout",
     "output_type": "stream",
     "text": [
      "{'CORES_1', 'CORES_2', 'CORES_3', 'CORES_5', 'CORES_4'}\n"
     ]
    },
    {
     "name": "stdout",
     "output_type": "stream",
     "text": [
      "tensor([[[ 0.5430,  0.9459, -0.9634,  ..., -0.7357,  0.5080, -0.8058],\n",
      "         [-0.4204,  0.3854,  0.1226,  ..., -0.4204, -1.1386, -0.9284]],\n",
      "\n",
      "        [[ 0.1073,  1.2338, -0.4828,  ..., -0.9477,  0.3576, -0.9835],\n",
      "         [-0.6795,  0.0894,  0.5901,  ..., -0.1073, -1.0729, -0.6080]],\n",
      "\n",
      "        [[-1.0279,  0.4508,  1.4246,  ..., -0.5049,  0.1984,  1.2623],\n",
      "         [-0.3066, -0.2525,  0.0361,  ...,  1.1722,  1.0459,  0.1803]],\n",
      "\n",
      "        ...,\n",
      "\n",
      "        [[-0.3467,  0.2836,  0.3782,  ..., -0.4412, -1.4339, -1.0242],\n",
      "         [-0.2836, -1.1345,  0.5988,  ...,  0.9770, -0.5673,  0.3624]],\n",
      "\n",
      "        [[ 0.5706, -0.4935, -0.6014,  ...,  0.2776,  1.3416,  0.6477],\n",
      "         [ 0.9098,  0.9252, -1.0486,  ..., -0.7710,  0.4163, -0.9561]],\n",
      "\n",
      "        [[ 0.4556, -0.7542, -0.5656,  ...,  0.8956,  1.0841,  0.3928],\n",
      "         [ 1.0684,  0.8013, -1.1627,  ..., -0.4871,  0.4714, -1.2098]]])\n"
     ]
    }
   ],
   "source": [
    "from steves_utils.transforms import get_average_magnitude, get_average_power\n",
    "\n",
    "print(set([u for u,_ in val_original_source]))\n",
    "print(set([u for u,_ in val_original_target]))\n",
    "\n",
    "s_x, s_y, q_x, q_y, _ = next(iter(train_processed_source))\n",
    "print(s_x)\n",
    "\n",
    "# for ds in [\n",
    "#     train_processed_source,\n",
    "#     val_processed_source,\n",
    "#     test_processed_source,\n",
    "#     train_processed_target,\n",
    "#     val_processed_target,\n",
    "#     test_processed_target\n",
    "# ]:\n",
    "#     for s_x, s_y, q_x, q_y, _ in ds:\n",
    "#         for X in (s_x, q_x):\n",
    "#             for x in X:\n",
    "#                 assert np.isclose(get_average_magnitude(x.numpy()), 1.0)\n",
    "#                 assert np.isclose(get_average_power(x.numpy()), 1.0)\n",
    "                "
   ]
  },
  {
   "cell_type": "code",
   "execution_count": 21,
   "id": "bbdacba1",
   "metadata": {
    "execution": {
     "iopub.execute_input": "2022-03-21T19:01:56.293905Z",
     "iopub.status.busy": "2022-03-21T19:01:56.293531Z",
     "iopub.status.idle": "2022-03-21T19:01:56.481560Z",
     "shell.execute_reply": "2022-03-21T19:01:56.481198Z"
    },
    "papermill": {
     "duration": 0.21628,
     "end_time": "2022-03-21T19:01:56.481660",
     "exception": false,
     "start_time": "2022-03-21T19:01:56.265380",
     "status": "completed"
    },
    "tags": []
   },
   "outputs": [
    {
     "name": "stdout",
     "output_type": "stream",
     "text": [
      "(2, 256)\n"
     ]
    }
   ],
   "source": [
    "###################################\n",
    "# Build the model\n",
    "###################################\n",
    "# easfsl only wants a tuple for the shape\n",
    "model = Steves_Prototypical_Network(x_net, device=p.device, x_shape=tuple(p.x_shape))\n",
    "optimizer = Adam(params=model.parameters(), lr=p.lr)"
   ]
  },
  {
   "cell_type": "code",
   "execution_count": 22,
   "id": "22b39ac5",
   "metadata": {
    "execution": {
     "iopub.execute_input": "2022-03-21T19:01:56.545855Z",
     "iopub.status.busy": "2022-03-21T19:01:56.545484Z",
     "iopub.status.idle": "2022-03-21T19:41:00.906689Z",
     "shell.execute_reply": "2022-03-21T19:41:00.906348Z"
    },
    "papermill": {
     "duration": 2344.402417,
     "end_time": "2022-03-21T19:41:00.906774",
     "exception": false,
     "start_time": "2022-03-21T19:01:56.504357",
     "status": "completed"
    },
    "tags": []
   },
   "outputs": [
    {
     "name": "stdout",
     "output_type": "stream",
     "text": [
      "epoch: 1, [batch: 1 / 6720], examples_per_second: 32.8958, train_label_loss: 2.9187, \n"
     ]
    },
    {
     "name": "stdout",
     "output_type": "stream",
     "text": [
      "epoch: 1, [batch: 672 / 6720], examples_per_second: 2560.4182, train_label_loss: 1.6592, \n"
     ]
    },
    {
     "name": "stdout",
     "output_type": "stream",
     "text": [
      "epoch: 1, [batch: 1344 / 6720], examples_per_second: 2505.7116, train_label_loss: 0.7357, \n"
     ]
    },
    {
     "name": "stdout",
     "output_type": "stream",
     "text": [
      "epoch: 1, [batch: 2016 / 6720], examples_per_second: 2452.8351, train_label_loss: 0.7290, \n"
     ]
    },
    {
     "name": "stdout",
     "output_type": "stream",
     "text": [
      "epoch: 1, [batch: 2688 / 6720], examples_per_second: 2575.2274, train_label_loss: 0.5670, \n"
     ]
    },
    {
     "name": "stdout",
     "output_type": "stream",
     "text": [
      "epoch: 1, [batch: 3360 / 6720], examples_per_second: 2672.1486, train_label_loss: 0.5410, \n"
     ]
    },
    {
     "name": "stdout",
     "output_type": "stream",
     "text": [
      "epoch: 1, [batch: 4032 / 6720], examples_per_second: 2382.5898, train_label_loss: 0.6328, \n"
     ]
    },
    {
     "name": "stdout",
     "output_type": "stream",
     "text": [
      "epoch: 1, [batch: 4704 / 6720], examples_per_second: 2302.7357, train_label_loss: 0.4294, \n"
     ]
    },
    {
     "name": "stdout",
     "output_type": "stream",
     "text": [
      "epoch: 1, [batch: 5376 / 6720], examples_per_second: 2319.7552, train_label_loss: 0.5701, \n"
     ]
    },
    {
     "name": "stdout",
     "output_type": "stream",
     "text": [
      "epoch: 1, [batch: 6048 / 6720], examples_per_second: 2310.6733, train_label_loss: 0.6145, \n"
     ]
    },
    {
     "name": "stdout",
     "output_type": "stream",
     "text": [
      "=============================================================\n",
      "epoch: 1, source_val_acc_label: 0.7296, target_val_acc_label: 0.7319, source_val_label_loss: 0.9710, target_val_label_loss: 2.6047, \n",
      "=============================================================\n"
     ]
    },
    {
     "name": "stdout",
     "output_type": "stream",
     "text": [
      "New best\n"
     ]
    },
    {
     "name": "stdout",
     "output_type": "stream",
     "text": [
      "epoch: 2, [batch: 1 / 6720], examples_per_second: 2.1348, train_label_loss: 0.8352, \n"
     ]
    },
    {
     "name": "stdout",
     "output_type": "stream",
     "text": [
      "epoch: 2, [batch: 672 / 6720], examples_per_second: 2626.7559, train_label_loss: 0.8532, \n"
     ]
    },
    {
     "name": "stdout",
     "output_type": "stream",
     "text": [
      "epoch: 2, [batch: 1344 / 6720], examples_per_second: 2569.9298, train_label_loss: 0.3959, \n"
     ]
    },
    {
     "name": "stdout",
     "output_type": "stream",
     "text": [
      "epoch: 2, [batch: 2016 / 6720], examples_per_second: 2512.2549, train_label_loss: 0.7818, \n"
     ]
    },
    {
     "name": "stdout",
     "output_type": "stream",
     "text": [
      "epoch: 2, [batch: 2688 / 6720], examples_per_second: 2574.1134, train_label_loss: 0.4742, \n"
     ]
    },
    {
     "name": "stdout",
     "output_type": "stream",
     "text": [
      "epoch: 2, [batch: 3360 / 6720], examples_per_second: 2590.7690, train_label_loss: 0.3738, \n"
     ]
    },
    {
     "name": "stdout",
     "output_type": "stream",
     "text": [
      "epoch: 2, [batch: 4032 / 6720], examples_per_second: 2459.9902, train_label_loss: 0.5970, \n"
     ]
    },
    {
     "name": "stdout",
     "output_type": "stream",
     "text": [
      "epoch: 2, [batch: 4704 / 6720], examples_per_second: 2316.5371, train_label_loss: 0.4815, \n"
     ]
    },
    {
     "name": "stdout",
     "output_type": "stream",
     "text": [
      "epoch: 2, [batch: 5376 / 6720], examples_per_second: 2327.0123, train_label_loss: 0.8795, \n"
     ]
    },
    {
     "name": "stdout",
     "output_type": "stream",
     "text": [
      "epoch: 2, [batch: 6048 / 6720], examples_per_second: 2344.4806, train_label_loss: 0.2338, \n"
     ]
    },
    {
     "name": "stdout",
     "output_type": "stream",
     "text": [
      "=============================================================\n",
      "epoch: 2, source_val_acc_label: 0.8402, target_val_acc_label: 0.8485, source_val_label_loss: 0.4440, target_val_label_loss: 1.4065, \n",
      "=============================================================\n"
     ]
    },
    {
     "name": "stdout",
     "output_type": "stream",
     "text": [
      "New best\n"
     ]
    },
    {
     "name": "stdout",
     "output_type": "stream",
     "text": [
      "epoch: 3, [batch: 1 / 6720], examples_per_second: 2.1196, train_label_loss: 0.7545, \n"
     ]
    },
    {
     "name": "stdout",
     "output_type": "stream",
     "text": [
      "epoch: 3, [batch: 672 / 6720], examples_per_second: 2555.1973, train_label_loss: 0.4987, \n"
     ]
    },
    {
     "name": "stdout",
     "output_type": "stream",
     "text": [
      "epoch: 3, [batch: 1344 / 6720], examples_per_second: 2540.8171, train_label_loss: 0.2043, \n"
     ]
    },
    {
     "name": "stdout",
     "output_type": "stream",
     "text": [
      "epoch: 3, [batch: 2016 / 6720], examples_per_second: 2447.3994, train_label_loss: 0.1544, \n"
     ]
    },
    {
     "name": "stdout",
     "output_type": "stream",
     "text": [
      "epoch: 3, [batch: 2688 / 6720], examples_per_second: 2589.9487, train_label_loss: 0.4949, \n"
     ]
    },
    {
     "name": "stdout",
     "output_type": "stream",
     "text": [
      "epoch: 3, [batch: 3360 / 6720], examples_per_second: 2576.4965, train_label_loss: 0.3224, \n"
     ]
    },
    {
     "name": "stdout",
     "output_type": "stream",
     "text": [
      "epoch: 3, [batch: 4032 / 6720], examples_per_second: 2476.1769, train_label_loss: 0.4204, \n"
     ]
    },
    {
     "name": "stdout",
     "output_type": "stream",
     "text": [
      "epoch: 3, [batch: 4704 / 6720], examples_per_second: 2335.2116, train_label_loss: 0.5051, \n"
     ]
    },
    {
     "name": "stdout",
     "output_type": "stream",
     "text": [
      "epoch: 3, [batch: 5376 / 6720], examples_per_second: 2322.2271, train_label_loss: 0.4802, \n"
     ]
    },
    {
     "name": "stdout",
     "output_type": "stream",
     "text": [
      "epoch: 3, [batch: 6048 / 6720], examples_per_second: 2313.5452, train_label_loss: 0.5212, \n"
     ]
    },
    {
     "name": "stdout",
     "output_type": "stream",
     "text": [
      "=============================================================\n",
      "epoch: 3, source_val_acc_label: 0.8712, target_val_acc_label: 0.8491, source_val_label_loss: 0.3616, target_val_label_loss: 1.5513, \n",
      "=============================================================\n"
     ]
    },
    {
     "name": "stdout",
     "output_type": "stream",
     "text": [
      "New best\n"
     ]
    },
    {
     "name": "stdout",
     "output_type": "stream",
     "text": [
      "epoch: 4, [batch: 1 / 6720], examples_per_second: 2.1405, train_label_loss: 0.2961, \n"
     ]
    },
    {
     "name": "stdout",
     "output_type": "stream",
     "text": [
      "epoch: 4, [batch: 672 / 6720], examples_per_second: 2661.4661, train_label_loss: 0.2564, \n"
     ]
    },
    {
     "name": "stdout",
     "output_type": "stream",
     "text": [
      "epoch: 4, [batch: 1344 / 6720], examples_per_second: 2661.3580, train_label_loss: 0.3279, \n"
     ]
    },
    {
     "name": "stdout",
     "output_type": "stream",
     "text": [
      "epoch: 4, [batch: 2016 / 6720], examples_per_second: 2745.2331, train_label_loss: 0.1659, \n"
     ]
    },
    {
     "name": "stdout",
     "output_type": "stream",
     "text": [
      "epoch: 4, [batch: 2688 / 6720], examples_per_second: 2975.8915, train_label_loss: 0.3081, \n"
     ]
    },
    {
     "name": "stdout",
     "output_type": "stream",
     "text": [
      "epoch: 4, [batch: 3360 / 6720], examples_per_second: 2923.5093, train_label_loss: 0.5380, \n"
     ]
    },
    {
     "name": "stdout",
     "output_type": "stream",
     "text": [
      "epoch: 4, [batch: 4032 / 6720], examples_per_second: 2832.3855, train_label_loss: 0.2818, \n"
     ]
    },
    {
     "name": "stdout",
     "output_type": "stream",
     "text": [
      "epoch: 4, [batch: 4704 / 6720], examples_per_second: 2851.4564, train_label_loss: 0.8330, \n"
     ]
    },
    {
     "name": "stdout",
     "output_type": "stream",
     "text": [
      "epoch: 4, [batch: 5376 / 6720], examples_per_second: 2963.7451, train_label_loss: 0.4068, \n"
     ]
    },
    {
     "name": "stdout",
     "output_type": "stream",
     "text": [
      "epoch: 4, [batch: 6048 / 6720], examples_per_second: 2926.2141, train_label_loss: 0.2773, \n"
     ]
    },
    {
     "name": "stdout",
     "output_type": "stream",
     "text": [
      "=============================================================\n",
      "epoch: 4, source_val_acc_label: 0.8857, target_val_acc_label: 0.8429, source_val_label_loss: 0.3130, target_val_label_loss: 1.8805, \n",
      "=============================================================\n"
     ]
    },
    {
     "name": "stdout",
     "output_type": "stream",
     "text": [
      "epoch: 5, [batch: 1 / 6720], examples_per_second: 2.9124, train_label_loss: 0.2810, \n"
     ]
    },
    {
     "name": "stdout",
     "output_type": "stream",
     "text": [
      "epoch: 5, [batch: 672 / 6720], examples_per_second: 3606.6384, train_label_loss: 0.3614, \n"
     ]
    },
    {
     "name": "stdout",
     "output_type": "stream",
     "text": [
      "epoch: 5, [batch: 1344 / 6720], examples_per_second: 4080.1754, train_label_loss: 0.2825, \n"
     ]
    },
    {
     "name": "stdout",
     "output_type": "stream",
     "text": [
      "epoch: 5, [batch: 2016 / 6720], examples_per_second: 3432.5238, train_label_loss: 0.0800, \n"
     ]
    },
    {
     "name": "stdout",
     "output_type": "stream",
     "text": [
      "epoch: 5, [batch: 2688 / 6720], examples_per_second: 3431.3945, train_label_loss: 0.3461, \n"
     ]
    },
    {
     "name": "stdout",
     "output_type": "stream",
     "text": [
      "epoch: 5, [batch: 3360 / 6720], examples_per_second: 3330.8997, train_label_loss: 0.1377, \n"
     ]
    },
    {
     "name": "stdout",
     "output_type": "stream",
     "text": [
      "epoch: 5, [batch: 4032 / 6720], examples_per_second: 3316.1748, train_label_loss: 0.1241, \n"
     ]
    },
    {
     "name": "stdout",
     "output_type": "stream",
     "text": [
      "epoch: 5, [batch: 4704 / 6720], examples_per_second: 2578.8950, train_label_loss: 0.1714, \n"
     ]
    },
    {
     "name": "stdout",
     "output_type": "stream",
     "text": [
      "epoch: 5, [batch: 5376 / 6720], examples_per_second: 2307.0460, train_label_loss: 0.1025, \n"
     ]
    },
    {
     "name": "stdout",
     "output_type": "stream",
     "text": [
      "epoch: 5, [batch: 6048 / 6720], examples_per_second: 2303.9680, train_label_loss: 0.3062, \n"
     ]
    },
    {
     "name": "stdout",
     "output_type": "stream",
     "text": [
      "=============================================================\n",
      "epoch: 5, source_val_acc_label: 0.8926, target_val_acc_label: 0.8562, source_val_label_loss: 0.2995, target_val_label_loss: 1.8065, \n",
      "=============================================================\n"
     ]
    },
    {
     "name": "stdout",
     "output_type": "stream",
     "text": [
      "New best\n"
     ]
    },
    {
     "name": "stdout",
     "output_type": "stream",
     "text": [
      "epoch: 6, [batch: 1 / 6720], examples_per_second: 2.0699, train_label_loss: 0.4842, \n"
     ]
    },
    {
     "name": "stdout",
     "output_type": "stream",
     "text": [
      "epoch: 6, [batch: 672 / 6720], examples_per_second: 2307.9976, train_label_loss: 0.3366, \n"
     ]
    },
    {
     "name": "stdout",
     "output_type": "stream",
     "text": [
      "epoch: 6, [batch: 1344 / 6720], examples_per_second: 2302.3311, train_label_loss: 0.1961, \n"
     ]
    },
    {
     "name": "stdout",
     "output_type": "stream",
     "text": [
      "epoch: 6, [batch: 2016 / 6720], examples_per_second: 2407.3648, train_label_loss: 0.1616, \n"
     ]
    },
    {
     "name": "stdout",
     "output_type": "stream",
     "text": [
      "epoch: 6, [batch: 2688 / 6720], examples_per_second: 2606.0181, train_label_loss: 0.2420, \n"
     ]
    },
    {
     "name": "stdout",
     "output_type": "stream",
     "text": [
      "epoch: 6, [batch: 3360 / 6720], examples_per_second: 2956.1620, train_label_loss: 0.1401, \n"
     ]
    },
    {
     "name": "stdout",
     "output_type": "stream",
     "text": [
      "epoch: 6, [batch: 4032 / 6720], examples_per_second: 2998.8291, train_label_loss: 0.2901, \n"
     ]
    },
    {
     "name": "stdout",
     "output_type": "stream",
     "text": [
      "epoch: 6, [batch: 4704 / 6720], examples_per_second: 2605.9380, train_label_loss: 0.3309, \n"
     ]
    },
    {
     "name": "stdout",
     "output_type": "stream",
     "text": [
      "epoch: 6, [batch: 5376 / 6720], examples_per_second: 2292.0761, train_label_loss: 0.0286, \n"
     ]
    },
    {
     "name": "stdout",
     "output_type": "stream",
     "text": [
      "epoch: 6, [batch: 6048 / 6720], examples_per_second: 2293.4089, train_label_loss: 0.6663, \n"
     ]
    },
    {
     "name": "stdout",
     "output_type": "stream",
     "text": [
      "=============================================================\n",
      "epoch: 6, source_val_acc_label: 0.8931, target_val_acc_label: 0.8377, source_val_label_loss: 0.2995, target_val_label_loss: 2.6603, \n",
      "=============================================================\n"
     ]
    },
    {
     "name": "stdout",
     "output_type": "stream",
     "text": [
      "epoch: 7, [batch: 1 / 6720], examples_per_second: 2.0623, train_label_loss: 0.2677, \n"
     ]
    },
    {
     "name": "stdout",
     "output_type": "stream",
     "text": [
      "epoch: 7, [batch: 672 / 6720], examples_per_second: 2341.7013, train_label_loss: 0.2097, \n"
     ]
    },
    {
     "name": "stdout",
     "output_type": "stream",
     "text": [
      "epoch: 7, [batch: 1344 / 6720], examples_per_second: 2311.4768, train_label_loss: 0.5243, \n"
     ]
    },
    {
     "name": "stdout",
     "output_type": "stream",
     "text": [
      "epoch: 7, [batch: 2016 / 6720], examples_per_second: 2317.6680, train_label_loss: 0.2547, \n"
     ]
    },
    {
     "name": "stdout",
     "output_type": "stream",
     "text": [
      "epoch: 7, [batch: 2688 / 6720], examples_per_second: 2546.4450, train_label_loss: 0.1610, \n"
     ]
    },
    {
     "name": "stdout",
     "output_type": "stream",
     "text": [
      "epoch: 7, [batch: 3360 / 6720], examples_per_second: 2930.0612, train_label_loss: 0.2249, \n"
     ]
    },
    {
     "name": "stdout",
     "output_type": "stream",
     "text": [
      "epoch: 7, [batch: 4032 / 6720], examples_per_second: 2930.4972, train_label_loss: 0.1825, \n"
     ]
    },
    {
     "name": "stdout",
     "output_type": "stream",
     "text": [
      "epoch: 7, [batch: 4704 / 6720], examples_per_second: 2522.0420, train_label_loss: 0.2193, \n"
     ]
    },
    {
     "name": "stdout",
     "output_type": "stream",
     "text": [
      "epoch: 7, [batch: 5376 / 6720], examples_per_second: 2329.9345, train_label_loss: 0.1758, \n"
     ]
    },
    {
     "name": "stdout",
     "output_type": "stream",
     "text": [
      "epoch: 7, [batch: 6048 / 6720], examples_per_second: 2309.9079, train_label_loss: 0.1486, \n"
     ]
    },
    {
     "name": "stdout",
     "output_type": "stream",
     "text": [
      "=============================================================\n",
      "epoch: 7, source_val_acc_label: 0.8944, target_val_acc_label: 0.7845, source_val_label_loss: 0.2975, target_val_label_loss: 6.5960, \n",
      "=============================================================\n"
     ]
    },
    {
     "name": "stdout",
     "output_type": "stream",
     "text": [
      "epoch: 8, [batch: 1 / 6720], examples_per_second: 2.0609, train_label_loss: 0.2653, \n"
     ]
    },
    {
     "name": "stdout",
     "output_type": "stream",
     "text": [
      "epoch: 8, [batch: 672 / 6720], examples_per_second: 2292.9076, train_label_loss: 0.2710, \n"
     ]
    },
    {
     "name": "stdout",
     "output_type": "stream",
     "text": [
      "epoch: 8, [batch: 1344 / 6720], examples_per_second: 2297.1678, train_label_loss: 0.0797, \n"
     ]
    },
    {
     "name": "stdout",
     "output_type": "stream",
     "text": [
      "epoch: 8, [batch: 2016 / 6720], examples_per_second: 2336.8354, train_label_loss: 0.3282, \n"
     ]
    },
    {
     "name": "stdout",
     "output_type": "stream",
     "text": [
      "epoch: 8, [batch: 2688 / 6720], examples_per_second: 2618.3576, train_label_loss: 0.1241, \n"
     ]
    },
    {
     "name": "stdout",
     "output_type": "stream",
     "text": [
      "epoch: 8, [batch: 3360 / 6720], examples_per_second: 2925.1065, train_label_loss: 0.1441, \n"
     ]
    },
    {
     "name": "stdout",
     "output_type": "stream",
     "text": [
      "epoch: 8, [batch: 4032 / 6720], examples_per_second: 2970.6876, train_label_loss: 0.4717, \n"
     ]
    },
    {
     "name": "stdout",
     "output_type": "stream",
     "text": [
      "epoch: 8, [batch: 4704 / 6720], examples_per_second: 2537.7892, train_label_loss: 0.1092, \n"
     ]
    },
    {
     "name": "stdout",
     "output_type": "stream",
     "text": [
      "epoch: 8, [batch: 5376 / 6720], examples_per_second: 2312.7495, train_label_loss: 0.2250, \n"
     ]
    },
    {
     "name": "stdout",
     "output_type": "stream",
     "text": [
      "epoch: 8, [batch: 6048 / 6720], examples_per_second: 2306.4377, train_label_loss: 0.2639, \n"
     ]
    },
    {
     "name": "stdout",
     "output_type": "stream",
     "text": [
      "=============================================================\n",
      "epoch: 8, source_val_acc_label: 0.9106, target_val_acc_label: 0.7504, source_val_label_loss: 0.2523, target_val_label_loss: 11.1628, \n",
      "=============================================================\n"
     ]
    },
    {
     "name": "stdout",
     "output_type": "stream",
     "text": [
      "epoch: 9, [batch: 1 / 6720], examples_per_second: 2.0423, train_label_loss: 0.0663, \n"
     ]
    },
    {
     "name": "stdout",
     "output_type": "stream",
     "text": [
      "epoch: 9, [batch: 672 / 6720], examples_per_second: 2303.2522, train_label_loss: 0.1620, \n"
     ]
    },
    {
     "name": "stdout",
     "output_type": "stream",
     "text": [
      "epoch: 9, [batch: 1344 / 6720], examples_per_second: 2360.4341, train_label_loss: 0.1600, \n"
     ]
    },
    {
     "name": "stdout",
     "output_type": "stream",
     "text": [
      "epoch: 9, [batch: 2016 / 6720], examples_per_second: 2607.5901, train_label_loss: 0.4715, \n"
     ]
    },
    {
     "name": "stdout",
     "output_type": "stream",
     "text": [
      "epoch: 9, [batch: 2688 / 6720], examples_per_second: 2976.3545, train_label_loss: 0.1265, \n"
     ]
    },
    {
     "name": "stdout",
     "output_type": "stream",
     "text": [
      "epoch: 9, [batch: 3360 / 6720], examples_per_second: 3269.6615, train_label_loss: 0.3901, \n"
     ]
    },
    {
     "name": "stdout",
     "output_type": "stream",
     "text": [
      "epoch: 9, [batch: 4032 / 6720], examples_per_second: 3147.2530, train_label_loss: 0.0840, \n"
     ]
    },
    {
     "name": "stdout",
     "output_type": "stream",
     "text": [
      "epoch: 9, [batch: 4704 / 6720], examples_per_second: 2817.1914, train_label_loss: 0.1849, \n"
     ]
    },
    {
     "name": "stdout",
     "output_type": "stream",
     "text": [
      "epoch: 9, [batch: 5376 / 6720], examples_per_second: 2599.4731, train_label_loss: 0.0375, \n"
     ]
    },
    {
     "name": "stdout",
     "output_type": "stream",
     "text": [
      "epoch: 9, [batch: 6048 / 6720], examples_per_second: 2692.3439, train_label_loss: 0.2020, \n"
     ]
    },
    {
     "name": "stdout",
     "output_type": "stream",
     "text": [
      "=============================================================\n",
      "epoch: 9, source_val_acc_label: 0.9049, target_val_acc_label: 0.7033, source_val_label_loss: 0.2670, target_val_label_loss: 18.2912, \n",
      "=============================================================\n"
     ]
    },
    {
     "name": "stdout",
     "output_type": "stream",
     "text": [
      "Patience (3) exhausted\n"
     ]
    }
   ],
   "source": [
    "###################################\n",
    "# train\n",
    "###################################\n",
    "jig = PTN_Train_Eval_Test_Jig(model, p.BEST_MODEL_PATH, p.device)\n",
    "\n",
    "jig.train(\n",
    "    train_iterable=datasets.source.processed.train,\n",
    "    source_val_iterable=datasets.source.processed.val,\n",
    "    target_val_iterable=datasets.target.processed.val,\n",
    "    num_epochs=p.n_epoch,\n",
    "    num_logs_per_epoch=p.NUM_LOGS_PER_EPOCH,\n",
    "    patience=p.patience,\n",
    "    optimizer=optimizer,\n",
    "    criteria_for_best=p.criteria_for_best,\n",
    ")"
   ]
  },
  {
   "cell_type": "code",
   "execution_count": 23,
   "id": "31e8fabf",
   "metadata": {
    "execution": {
     "iopub.execute_input": "2022-03-21T19:41:01.015096Z",
     "iopub.status.busy": "2022-03-21T19:41:01.014723Z",
     "iopub.status.idle": "2022-03-21T19:41:01.046385Z",
     "shell.execute_reply": "2022-03-21T19:41:01.045673Z"
    },
    "papermill": {
     "duration": 0.08634,
     "end_time": "2022-03-21T19:41:01.046552",
     "exception": false,
     "start_time": "2022-03-21T19:41:00.960212",
     "status": "completed"
    },
    "tags": []
   },
   "outputs": [],
   "source": [
    "total_experiment_time_secs = time.time() - start_time_secs"
   ]
  },
  {
   "cell_type": "code",
   "execution_count": 24,
   "id": "87b9595b",
   "metadata": {
    "execution": {
     "iopub.execute_input": "2022-03-21T19:41:01.163053Z",
     "iopub.status.busy": "2022-03-21T19:41:01.162463Z",
     "iopub.status.idle": "2022-03-21T19:45:19.039840Z",
     "shell.execute_reply": "2022-03-21T19:45:19.039038Z"
    },
    "papermill": {
     "duration": 257.936626,
     "end_time": "2022-03-21T19:45:19.040033",
     "exception": false,
     "start_time": "2022-03-21T19:41:01.103407",
     "status": "completed"
    },
    "tags": []
   },
   "outputs": [],
   "source": [
    "###################################\n",
    "# Evaluate the model\n",
    "###################################\n",
    "source_test_label_accuracy, source_test_label_loss = jig.test(datasets.source.processed.test)\n",
    "target_test_label_accuracy, target_test_label_loss = jig.test(datasets.target.processed.test)\n",
    "\n",
    "source_val_label_accuracy, source_val_label_loss = jig.test(datasets.source.processed.val)\n",
    "target_val_label_accuracy, target_val_label_loss = jig.test(datasets.target.processed.val)\n",
    "\n",
    "history = jig.get_history()\n",
    "\n",
    "total_epochs_trained = len(history[\"epoch_indices\"])\n",
    "\n",
    "val_dl = Iterable_Aggregator((datasets.source.original.val,datasets.target.original.val))\n",
    "\n",
    "confusion = ptn_confusion_by_domain_over_dataloader(model, p.device, val_dl)\n",
    "per_domain_accuracy = per_domain_accuracy_from_confusion(confusion)\n",
    "\n",
    "# Add a key to per_domain_accuracy for if it was a source domain\n",
    "for domain, accuracy in per_domain_accuracy.items():\n",
    "    per_domain_accuracy[domain] = {\n",
    "        \"accuracy\": accuracy,\n",
    "        \"source?\": domain in p.domains_source\n",
    "    }\n",
    "\n",
    "# Do an independent accuracy assesment JUST TO BE SURE!\n",
    "# _source_test_label_accuracy = independent_accuracy_assesment(model, datasets.source.processed.test, p.device)\n",
    "# _target_test_label_accuracy = independent_accuracy_assesment(model, datasets.target.processed.test, p.device)\n",
    "# _source_val_label_accuracy = independent_accuracy_assesment(model, datasets.source.processed.val, p.device)\n",
    "# _target_val_label_accuracy = independent_accuracy_assesment(model, datasets.target.processed.val, p.device)\n",
    "\n",
    "# assert(_source_test_label_accuracy == source_test_label_accuracy)\n",
    "# assert(_target_test_label_accuracy == target_test_label_accuracy)\n",
    "# assert(_source_val_label_accuracy == source_val_label_accuracy)\n",
    "# assert(_target_val_label_accuracy == target_val_label_accuracy)\n",
    "\n",
    "experiment = {\n",
    "    \"experiment_name\": p.experiment_name,\n",
    "    \"parameters\": dict(p),\n",
    "    \"results\": {\n",
    "        \"source_test_label_accuracy\": source_test_label_accuracy,\n",
    "        \"source_test_label_loss\": source_test_label_loss,\n",
    "        \"target_test_label_accuracy\": target_test_label_accuracy,\n",
    "        \"target_test_label_loss\": target_test_label_loss,\n",
    "        \"source_val_label_accuracy\": source_val_label_accuracy,\n",
    "        \"source_val_label_loss\": source_val_label_loss,\n",
    "        \"target_val_label_accuracy\": target_val_label_accuracy,\n",
    "        \"target_val_label_loss\": target_val_label_loss,\n",
    "        \"total_epochs_trained\": total_epochs_trained,\n",
    "        \"total_experiment_time_secs\": total_experiment_time_secs,\n",
    "        \"confusion\": confusion,\n",
    "        \"per_domain_accuracy\": per_domain_accuracy,\n",
    "    },\n",
    "    \"history\": history,\n",
    "    \"dataset_metrics\": get_dataset_metrics(datasets, \"ptn\"),\n",
    "}"
   ]
  },
  {
   "cell_type": "code",
   "execution_count": 25,
   "id": "54a21829",
   "metadata": {
    "execution": {
     "iopub.execute_input": "2022-03-21T19:45:19.148424Z",
     "iopub.status.busy": "2022-03-21T19:45:19.148044Z",
     "iopub.status.idle": "2022-03-21T19:45:19.381678Z",
     "shell.execute_reply": "2022-03-21T19:45:19.382355Z"
    },
    "papermill": {
     "duration": 0.286918,
     "end_time": "2022-03-21T19:45:19.382579",
     "exception": false,
     "start_time": "2022-03-21T19:45:19.095661",
     "status": "completed"
    },
    "tags": []
   },
   "outputs": [
    {
     "data": {
      "image/png": "[encoded data removed]",
      "text/plain": [
       "<Figure size 1080x504 with 1 Axes>"
      ]
     },
     "metadata": {
      "needs_background": "light"
     },
     "output_type": "display_data"
    }
   ],
   "source": [
    "ax = get_loss_curve(experiment)\n",
    "plt.show()"
   ]
  },
  {
   "cell_type": "code",
   "execution_count": 26,
   "id": "fd8a0f60",
   "metadata": {
    "execution": {
     "iopub.execute_input": "2022-03-21T19:45:19.495022Z",
     "iopub.status.busy": "2022-03-21T19:45:19.494650Z",
     "iopub.status.idle": "2022-03-21T19:45:19.887045Z",
     "shell.execute_reply": "2022-03-21T19:45:19.887753Z"
    },
    "papermill": {
     "duration": 0.448434,
     "end_time": "2022-03-21T19:45:19.887976",
     "exception": false,
     "start_time": "2022-03-21T19:45:19.439542",
     "status": "completed"
    },
    "tags": []
   },
   "outputs": [
    {
     "data": {
      "text/plain": [
       "<AxesSubplot:title={'center':'Results'}>"
      ]
     },
     "execution_count": 26,
     "metadata": {},
     "output_type": "execute_result"
    },
    {
     "data": {
      "image/png": "[encoded data removed]",
      "text/plain": [
       "<Figure size 1080x504 with 1 Axes>"
      ]
     },
     "metadata": {
      "needs_background": "light"
     },
     "output_type": "display_data"
    }
   ],
   "source": [
    "get_results_table(experiment)"
   ]
  },
  {
   "cell_type": "code",
   "execution_count": 27,
   "id": "cf8dc689",
   "metadata": {
    "execution": {
     "iopub.execute_input": "2022-03-21T19:45:20.002929Z",
     "iopub.status.busy": "2022-03-21T19:45:20.002556Z",
     "iopub.status.idle": "2022-03-21T19:45:20.261536Z",
     "shell.execute_reply": "2022-03-21T19:45:20.262518Z"
    },
    "papermill": {
     "duration": 0.316186,
     "end_time": "2022-03-21T19:45:20.262765",
     "exception": false,
     "start_time": "2022-03-21T19:45:19.946579",
     "status": "completed"
    },
    "tags": []
   },
   "outputs": [
    {
     "data": {
      "text/plain": [
       "<AxesSubplot:title={'center':'Per Domain Validation Accuracy'}, xlabel='domain'>"
      ]
     },
     "execution_count": 27,
     "metadata": {},
     "output_type": "execute_result"
    },
    {
     "data": {
      "image/png": "[encoded data removed]",
      "text/plain": [
       "<Figure size 1080x504 with 1 Axes>"
      ]
     },
     "metadata": {
      "needs_background": "light"
     },
     "output_type": "display_data"
    }
   ],
   "source": [
    "get_domain_accuracies(experiment)"
   ]
  },
  {
   "cell_type": "code",
   "execution_count": 28,
   "id": "a74ae082",
   "metadata": {
    "execution": {
     "iopub.execute_input": "2022-03-21T19:45:20.384063Z",
     "iopub.status.busy": "2022-03-21T19:45:20.383681Z",
     "iopub.status.idle": "2022-03-21T19:45:20.408019Z",
     "shell.execute_reply": "2022-03-21T19:45:20.407170Z"
    },
    "papermill": {
     "duration": 0.084328,
     "end_time": "2022-03-21T19:45:20.408200",
     "exception": false,
     "start_time": "2022-03-21T19:45:20.323872",
     "status": "completed"
    },
    "tags": []
   },
   "outputs": [
    {
     "name": "stdout",
     "output_type": "stream",
     "text": [
      "Source Test Label Accuracy: 0.8951822916666666 Target Test Label Accuracy: 0.8567064606741573\n",
      "Source Val Label Accuracy: 0.8926432291666667 Target Val Label Accuracy: 0.8562142857142857\n"
     ]
    }
   ],
   "source": [
    "print(\"Source Test Label Accuracy:\", experiment[\"results\"][\"source_test_label_accuracy\"], \"Target Test Label Accuracy:\", experiment[\"results\"][\"target_test_label_accuracy\"])\n",
    "print(\"Source Val Label Accuracy:\", experiment[\"results\"][\"source_val_label_accuracy\"], \"Target Val Label Accuracy:\", experiment[\"results\"][\"target_val_label_accuracy\"])"
   ]
  },
  {
   "cell_type": "code",
   "execution_count": 29,
   "id": "dacca602",
   "metadata": {
    "execution": {
     "iopub.execute_input": "2022-03-21T19:45:20.525789Z",
     "iopub.status.busy": "2022-03-21T19:45:20.524963Z",
     "iopub.status.idle": "2022-03-21T19:45:20.545827Z",
     "shell.execute_reply": "2022-03-21T19:45:20.546527Z"
    },
    "papermill": {
     "duration": 0.07776,
     "end_time": "2022-03-21T19:45:20.546730",
     "exception": false,
     "start_time": "2022-03-21T19:45:20.468970",
     "status": "completed"
    },
    "tags": [
     "experiment_json"
    ]
   },
   "outputs": [
    {
     "data": {
      "text/plain": [
       "'{\"experiment_name\": \"tl_1v2:cores-oracle.run1.framed\", \"parameters\": {\"experiment_name\": \"tl_1v2:cores-oracle.run1.framed\", \"device\": \"cuda\", \"lr\": 0.0001, \"n_shot\": 3, \"n_query\": 2, \"train_k_factor\": 3, \"val_k_factor\": 2, \"test_k_factor\": 2, \"torch_default_dtype\": \"torch.float32\", \"n_epoch\": 50, \"patience\": 3, \"criteria_for_best\": \"target_accuracy\", \"x_net\": [{\"class\": \"nnReshape\", \"kargs\": {\"shape\": [-1, 1, 2, 256]}}, {\"class\": \"Conv2d\", \"kargs\": {\"in_channels\": 1, \"out_channels\": 256, \"kernel_size\": [1, 7], \"bias\": false, \"padding\": [0, 3]}}, {\"class\": \"ReLU\", \"kargs\": {\"inplace\": true}}, {\"class\": \"BatchNorm2d\", \"kargs\": {\"num_features\": 256}}, {\"class\": \"Conv2d\", \"kargs\": {\"in_channels\": 256, \"out_channels\": 80, \"kernel_size\": [2, 7], \"bias\": true, \"padding\": [0, 3]}}, {\"class\": \"ReLU\", \"kargs\": {\"inplace\": true}}, {\"class\": \"BatchNorm2d\", \"kargs\": {\"num_features\": 80}}, {\"class\": \"Flatten\", \"kargs\": {}}, {\"class\": \"Linear\", \"kargs\": {\"in_features\": 20480, \"out_features\": 256}}, {\"class\": \"ReLU\", \"kargs\": {\"inplace\": true}}, {\"class\": \"BatchNorm1d\", \"kargs\": {\"num_features\": 256}}, {\"class\": \"Linear\", \"kargs\": {\"in_features\": 256, \"out_features\": 256}}], \"NUM_LOGS_PER_EPOCH\": 10, \"BEST_MODEL_PATH\": \"./best_model.pth\", \"n_way\": 16, \"datasets\": [{\"labels\": [\"1-10.\", \"1-11.\", \"1-15.\", \"1-16.\", \"1-17.\", \"1-18.\", \"1-19.\", \"10-4.\", \"10-7.\", \"11-1.\", \"11-14.\", \"11-17.\", \"11-20.\", \"11-7.\", \"13-20.\", \"13-8.\", \"14-10.\", \"14-11.\", \"14-14.\", \"14-7.\", \"15-1.\", \"15-20.\", \"16-1.\", \"16-16.\", \"17-10.\", \"17-11.\", \"17-2.\", \"19-1.\", \"19-16.\", \"19-19.\", \"19-20.\", \"19-3.\", \"2-10.\", \"2-11.\", \"2-17.\", \"2-18.\", \"2-20.\", \"2-3.\", \"2-4.\", \"2-5.\", \"2-6.\", \"2-7.\", \"2-8.\", \"3-13.\", \"3-18.\", \"3-3.\", \"4-1.\", \"4-10.\", \"4-11.\", \"4-19.\", \"5-5.\", \"6-15.\", \"7-10.\", \"7-14.\", \"8-18.\", \"8-20.\", \"8-3.\", \"8-8.\"], \"domains\": [1, 2, 3, 4, 5], \"num_examples_per_domain_per_label\": -1, \"pickle_path\": \"/root/csc500-main/datasets/cores.stratified_ds.2022A.pkl\", \"source_or_target_dataset\": \"target\", \"x_transforms\": [\"unit_mag\"], \"episode_transforms\": [], \"domain_prefix\": \"CORES_\"}, {\"labels\": [\"3123D52\", \"3123D65\", \"3123D79\", \"3123D80\", \"3123D54\", \"3123D70\", \"3123D7B\", \"3123D89\", \"3123D58\", \"3123D76\", \"3123D7D\", \"3123EFE\", \"3123D64\", \"3123D78\", \"3123D7E\", \"3124E4A\"], \"domains\": [32, 38, 8, 44, 14, 50, 20, 26], \"num_examples_per_domain_per_label\": 2000, \"pickle_path\": \"/root/csc500-main/datasets/oracle.Run1_framed_2000Examples_stratified_ds.2022A.pkl\", \"source_or_target_dataset\": \"source\", \"x_transforms\": [\"unit_mag\"], \"episode_transforms\": [], \"domain_prefix\": \"ORACLE.run1_\"}], \"dataset_seed\": 500, \"seed\": 500, \"x_shape\": [2, 256], \"domains_source\": [\"ORACLE.run1_32\", \"ORACLE.run1_38\", \"ORACLE.run1_8\", \"ORACLE.run1_44\", \"ORACLE.run1_14\", \"ORACLE.run1_50\", \"ORACLE.run1_20\", \"ORACLE.run1_26\"], \"domains_target\": [\"CORES_1\", \"CORES_2\", \"CORES_3\", \"CORES_4\", \"CORES_5\"]}, \"results\": {\"source_test_label_accuracy\": 0.8951822916666666, \"source_test_label_loss\": 0.2947787642478943, \"target_test_label_accuracy\": 0.8567064606741573, \"target_test_label_loss\": 1.7817997932434082, \"source_val_label_accuracy\": 0.8926432291666667, \"source_val_label_loss\": 0.29950910806655884, \"target_val_label_accuracy\": 0.8562142857142857, \"target_val_label_loss\": 1.806457281112671, \"total_epochs_trained\": 9, \"total_experiment_time_secs\": 2402.3817796707153, \"confusion\": {\"ORACLE.run1_50\": {\"7\": {\"7\": 227, \"5\": 8, \"6\": 3, \"13\": 2}, \"10\": {\"10\": 234, \"8\": 3, \"0\": 2, \"13\": 1}, \"0\": {\"0\": 223, \"2\": 13, \"10\": 4}, \"11\": {\"11\": 234, \"15\": 5, \"9\": 1}, \"2\": {\"2\": 234, \"0\": 6}, \"14\": {\"14\": 240}, \"9\": {\"9\": 233, \"11\": 5, \"12\": 2}, \"13\": {\"13\": 223, \"5\": 7, \"10\": 3, \"7\": 1, \"6\": 6}, \"8\": {\"8\": 238, \"10\": 2}, \"15\": {\"15\": 226, \"1\": 7, \"6\": 2, \"4\": 5}, \"4\": {\"4\": 168, \"5\": 42, \"15\": 19, \"6\": 3, \"1\": 3, \"13\": 1, \"7\": 3, \"11\": 1}, \"5\": {\"4\": 21, \"5\": 178, \"7\": 16, \"6\": 4, \"1\": 12, \"13\": 9}, \"3\": {\"3\": 239, \"8\": 1}, \"1\": {\"1\": 213, \"15\": 18, \"5\": 5, \"4\": 2, \"13\": 1, \"6\": 1}, \"6\": {\"6\": 230, \"13\": 6, \"4\": 1, \"5\": 2, \"15\": 1}, \"12\": {\"12\": 232, \"11\": 4, \"14\": 1, \"9\": 3}}, \"ORACLE.run1_14\": {\"14\": {\"14\": 226, \"2\": 12, \"13\": 2}, \"6\": {\"6\": 205, \"13\": 34, \"2\": 1}, \"5\": {\"5\": 205, \"2\": 7, \"4\": 23, \"1\": 5}, \"15\": {\"15\": 240}, \"11\": {\"11\": 235, \"9\": 5}, \"8\": {\"8\": 240}, \"12\": {\"12\": 240}, \"1\": {\"1\": 235, \"5\": 5}, \"2\": {\"2\": 158, \"14\": 46, \"5\": 19, \"6\": 11, \"13\": 3, \"3\": 3}, \"13\": {\"13\": 171, \"6\": 53, \"4\": 4, \"2\": 5, \"14\": 7}, \"3\": {\"3\": 238, \"2\": 1, \"4\": 1}, \"0\": {\"0\": 238, \"3\": 2}, \"9\": {\"9\": 240}, \"4\": {\"4\": 229, \"5\": 10, \"1\": 1}, \"7\": {\"7\": 240}, \"10\": {\"10\": 240}}, \"ORACLE.run1_32\": {\"4\": {\"4\": 207, \"7\": 6, \"2\": 23, \"13\": 4}, \"14\": {\"14\": 195, \"7\": 7, \"11\": 18, \"0\": 13, \"8\": 4, \"5\": 2, \"3\": 1}, \"5\": {\"5\": 161, \"7\": 49, \"13\": 13, \"4\": 4, \"0\": 6, \"3\": 4, \"14\": 2, \"8\": 1}, \"10\": {\"10\": 240}, \"13\": {\"13\": 209, \"7\": 5, \"3\": 7, \"5\": 8, \"8\": 3, \"4\": 8}, \"9\": {\"9\": 240}, \"6\": {\"6\": 240}, \"3\": {\"3\": 238, \"13\": 2}, \"15\": {\"15\": 239, \"8\": 1}, \"7\": {\"7\": 205, \"5\": 27, \"4\": 5, \"13\": 2, \"14\": 1}, \"12\": {\"12\": 240}, \"8\": {\"8\": 216, \"13\": 3, \"0\": 14, \"3\": 3, \"5\": 3, \"14\": 1}, \"11\": {\"11\": 238, \"14\": 2}, \"2\": {\"2\": 215, \"4\": 24, \"7\": 1}, \"1\": {\"1\": 240}, \"0\": {\"0\": 210, \"8\": 17, \"14\": 5, \"13\": 2, \"7\": 4, \"4\": 2}}, \"ORACLE.run1_44\": {\"8\": {\"0\": 69, \"8\": 161, \"5\": 4, \"15\": 6}, \"11\": {\"11\": 238, \"13\": 2}, \"14\": {\"14\": 182, \"4\": 47, \"15\": 10, \"5\": 1}, \"10\": {\"10\": 219, \"2\": 7, \"1\": 12, \"12\": 2}, \"3\": {\"3\": 236, \"12\": 1, \"1\": 3}, \"15\": {\"15\": 215, \"8\": 2, \"14\": 9, \"0\": 11, \"5\": 3}, \"2\": {\"2\": 212, \"10\": 11, \"7\": 16, \"3\": 1}, \"12\": {\"12\": 232, \"1\": 7, \"3\": 1}, \"4\": {\"14\": 69, \"4\": 170, \"15\": 1}, \"1\": {\"1\": 186, \"10\": 13, \"3\": 6, \"12\": 28, \"2\": 7}, \"0\": {\"0\": 183, \"15\": 4, \"8\": 49, \"5\": 4}, \"9\": {\"6\": 16, \"7\": 65, \"9\": 146, \"13\": 13}, \"5\": {\"5\": 211, \"0\": 11, \"14\": 7, \"8\": 2, \"15\": 8, \"4\": 1}, \"6\": {\"6\": 190, \"13\": 34, \"9\": 15, \"7\": 1}, \"7\": {\"7\": 179, \"9\": 46, \"2\": 13, \"6\": 2}, \"13\": {\"13\": 180, \"6\": 41, \"9\": 19}}, \"ORACLE.run1_8\": {\"13\": {\"13\": 152, \"0\": 20, \"10\": 28, \"4\": 29, \"6\": 7, \"7\": 1, \"14\": 3}, \"3\": {\"3\": 240}, \"15\": {\"12\": 20, \"15\": 220}, \"4\": {\"4\": 214, \"6\": 6, \"13\": 17, \"14\": 3}, \"7\": {\"7\": 217, \"6\": 23}, \"2\": {\"2\": 234, \"3\": 2, \"7\": 4}, \"1\": {\"1\": 236, \"14\": 3, \"5\": 1}, \"0\": {\"0\": 225, \"13\": 11, \"6\": 2, \"7\": 1, \"4\": 1}, \"12\": {\"12\": 194, \"15\": 37, \"8\": 2, \"3\": 7}, \"6\": {\"6\": 211, \"7\": 22, \"4\": 3, \"13\": 3, \"0\": 1}, \"11\": {\"11\": 235, \"1\": 5}, \"9\": {\"9\": 240}, \"5\": {\"5\": 228, \"14\": 7, \"10\": 5}, \"10\": {\"10\": 221, \"14\": 6, \"4\": 3, \"13\": 10}, \"14\": {\"14\": 213, \"10\": 11, \"4\": 12, \"1\": 4}, \"8\": {\"8\": 240}}, \"ORACLE.run1_20\": {\"6\": {\"6\": 232, \"14\": 8}, \"11\": {\"11\": 240}, \"5\": {\"5\": 202, \"15\": 18, \"0\": 13, \"12\": 4, \"1\": 2, \"4\": 1}, \"14\": {\"14\": 236, \"6\": 3, \"10\": 1}, \"2\": {\"2\": 196, \"9\": 17, \"7\": 12, \"3\": 7, \"12\": 4, \"1\": 3, \"13\": 1}, \"7\": {\"7\": 227, \"2\": 13}, \"3\": {\"3\": 179, \"2\": 13, \"9\": 17, \"12\": 27, \"4\": 3, \"1\": 1}, \"4\": {\"4\": 235, \"3\": 5}, \"9\": {\"2\": 28, \"9\": 203, \"12\": 4, \"3\": 5}, \"12\": {\"12\": 164, \"1\": 39, \"3\": 27, \"9\": 5, \"2\": 5}, \"0\": {\"0\": 204, \"15\": 15, \"5\": 21}, \"10\": {\"10\": 240}, \"8\": {\"8\": 233, \"7\": 5, \"4\": 1, \"6\": 1}, \"13\": {\"13\": 238, \"2\": 2}, \"1\": {\"1\": 194, \"12\": 36, \"15\": 7, \"5\": 1, \"3\": 2}, \"15\": {\"13\": 1, \"15\": 211, \"5\": 14, \"1\": 7, \"0\": 6, \"12\": 1}}, \"ORACLE.run1_38\": {\"3\": {\"3\": 237, \"9\": 1, \"0\": 2}, \"8\": {\"5\": 38, \"8\": 180, \"0\": 15, \"7\": 6, \"15\": 1}, \"0\": {\"0\": 196, \"7\": 12, \"8\": 19, \"10\": 8, \"13\": 3, \"3\": 2}, \"2\": {\"2\": 227, \"14\": 10, \"13\": 3}, \"4\": {\"4\": 240}, \"7\": {\"7\": 226, \"5\": 5, \"8\": 7, \"0\": 2}, \"12\": {\"12\": 240}, \"6\": {\"6\": 240}, \"15\": {\"15\": 214, \"1\": 16, \"8\": 5, \"13\": 3, \"5\": 2}, \"11\": {\"11\": 237, \"3\": 2, \"10\": 1}, \"9\": {\"9\": 237, \"5\": 1, \"6\": 2}, \"14\": {\"14\": 239, \"12\": 1}, \"10\": {\"10\": 229, \"0\": 6, \"13\": 5}, \"5\": {\"5\": 152, \"8\": 48, \"9\": 8, \"7\": 26, \"15\": 3, \"6\": 3}, \"1\": {\"1\": 239, \"15\": 1}, \"13\": {\"13\": 226, \"8\": 1, \"2\": 4, \"10\": 5, \"0\": 3, \"15\": 1}}, \"ORACLE.run1_26\": {\"5\": {\"5\": 216, \"13\": 15, \"2\": 9}, \"8\": {\"4\": 17, \"0\": 12, \"8\": 156, \"7\": 19, \"10\": 31, \"14\": 3, \"6\": 1, \"15\": 1}, \"4\": {\"4\": 184, \"8\": 14, \"10\": 4, \"7\": 6, \"0\": 7, \"14\": 22, \"1\": 3}, \"12\": {\"12\": 240}, \"6\": {\"6\": 232, \"10\": 4, \"15\": 3, \"9\": 1}, \"7\": {\"7\": 201, \"3\": 16, \"8\": 3, \"4\": 10, \"2\": 9, \"1\": 1}, \"10\": {\"8\": 20, \"10\": 132, \"14\": 12, \"0\": 67, \"15\": 2, \"6\": 5, \"9\": 1, \"4\": 1}, \"0\": {\"0\": 103, \"14\": 30, \"10\": 60, \"4\": 22, \"8\": 22, \"7\": 2, \"9\": 1}, \"15\": {\"15\": 205, \"13\": 2, \"9\": 23, \"8\": 4, \"2\": 2, \"6\": 3, \"10\": 1}, \"9\": {\"9\": 222, \"15\": 12, \"6\": 5, \"13\": 1}, \"11\": {\"11\": 240}, \"14\": {\"14\": 168, \"4\": 20, \"0\": 37, \"1\": 11, \"8\": 3, \"7\": 1}, \"2\": {\"2\": 138, \"3\": 72, \"15\": 3, \"7\": 11, \"5\": 14, \"8\": 1, \"13\": 1}, \"13\": {\"13\": 209, \"9\": 6, \"2\": 5, \"5\": 17, \"15\": 3}, \"3\": {\"3\": 212, \"2\": 26, \"7\": 2}, \"1\": {\"1\": 226, \"4\": 6, \"14\": 8}}, \"CORES_4\": {\"38\": {\"38\": 34, \"2\": 2, \"0\": 1, \"10\": 2, \"56\": 1}, \"3\": {\"3\": 55, \"20\": 8, \"21\": 2, \"51\": 11, \"50\": 3, \"36\": 5, \"8\": 10, \"25\": 5, \"40\": 2, \"27\": 2, \"48\": 2, \"53\": 14, \"54\": 1, \"19\": 1, \"6\": 2, \"9\": 1}, \"24\": {\"24\": 51, \"2\": 3, \"10\": 2}, \"49\": {\"49\": 20}, \"7\": {\"7\": 21, \"32\": 1, \"14\": 1, \"11\": 1}, \"17\": {\"17\": 76, \"27\": 4}, \"43\": {\"43\": 145, \"11\": 1, \"15\": 1, \"22\": 1}, \"30\": {\"30\": 39, \"8\": 1, \"21\": 3, \"50\": 1}, \"44\": {\"44\": 106, \"20\": 1, \"28\": 2, \"33\": 1, \"19\": 14, \"40\": 2, \"6\": 2, \"25\": 1, \"51\": 1, \"50\": 2}, \"23\": {\"23\": 129, \"18\": 13, \"52\": 2}, \"37\": {\"37\": 24}, \"4\": {\"4\": 102, \"50\": 3, \"8\": 6, \"9\": 9, \"27\": 6, \"21\": 1, \"25\": 1, \"53\": 1, \"17\": 2, \"44\": 1}, \"57\": {\"57\": 99, \"47\": 1}, \"16\": {\"7\": 2, \"16\": 88, \"47\": 2, \"46\": 1, \"1\": 2, \"5\": 1}, \"18\": {\"18\": 95, \"23\": 8, \"36\": 1, \"34\": 1, \"55\": 1, \"46\": 1, \"10\": 1}, \"20\": {\"20\": 96, \"28\": 1, \"6\": 2, \"51\": 20, \"25\": 3, \"8\": 1, \"50\": 1}, \"45\": {\"45\": 78, \"50\": 1, \"12\": 8, \"40\": 1, \"21\": 2, \"27\": 2, \"8\": 1, \"9\": 2, \"44\": 1}, \"15\": {\"15\": 121, \"11\": 2, \"43\": 1, \"46\": 4, \"7\": 1, \"56\": 1, \"22\": 1, \"16\": 1}, \"52\": {\"52\": 108, \"39\": 2, \"47\": 3, \"5\": 3}, \"19\": {\"40\": 9, \"19\": 116, \"44\": 8, \"50\": 2, \"53\": 1, \"25\": 1, \"26\": 2, \"51\": 1}, \"54\": {\"54\": 106, \"48\": 2}, \"56\": {\"56\": 121, \"10\": 7, \"22\": 2}, \"40\": {\"40\": 121, \"33\": 4, \"19\": 4, \"28\": 1, \"6\": 2, \"44\": 2}, \"28\": {\"28\": 28, \"25\": 1, \"34\": 1, \"3\": 1, \"48\": 1}, \"2\": {\"2\": 35, \"24\": 1}, \"9\": {\"9\": 95, \"27\": 6, \"44\": 1, \"4\": 8, \"21\": 7, \"30\": 1, \"45\": 1, \"50\": 1}, \"0\": {\"0\": 61, \"43\": 17, \"47\": 1, \"11\": 1}, \"36\": {\"36\": 88, \"48\": 2, \"8\": 1, \"51\": 1}, \"55\": {\"31\": 1, \"55\": 125, \"5\": 4}, \"35\": {\"35\": 40}, \"39\": {\"39\": 19, \"47\": 1}, \"31\": {\"31\": 28}, \"14\": {\"0\": 2, \"31\": 1, \"14\": 7, \"1\": 1, \"24\": 3, \"56\": 1, \"37\": 1}, \"12\": {\"12\": 90, \"50\": 1, \"45\": 1}, \"6\": {\"20\": 5, \"6\": 36, \"28\": 2, \"33\": 2, \"3\": 7, \"4\": 3, \"40\": 7, \"8\": 3, \"50\": 4, \"36\": 3, \"34\": 2, \"29\": 3, \"53\": 6, \"18\": 1, \"51\": 3, \"21\": 3, \"19\": 4, \"48\": 2, \"25\": 5, \"55\": 2, \"17\": 3, \"31\": 1, \"30\": 1, \"9\": 2, \"5\": 1, \"27\": 1}, \"26\": {\"26\": 23, \"4\": 1}, \"50\": {\"50\": 57, \"3\": 7, \"33\": 1, \"21\": 12, \"17\": 2, \"6\": 2, \"25\": 8, \"51\": 2, \"8\": 12, \"44\": 2, \"9\": 5, \"19\": 3, \"55\": 1, \"4\": 3, \"18\": 2, \"27\": 6, \"40\": 2, \"30\": 1, \"48\": 1, \"29\": 1, \"53\": 1, \"20\": 1}, \"21\": {\"21\": 109, \"30\": 2, \"4\": 3, \"8\": 4, \"27\": 3, \"9\": 1}, \"46\": {\"47\": 9, \"46\": 78, \"39\": 1, \"7\": 2, \"57\": 6, \"15\": 11, \"52\": 4, \"1\": 6, \"29\": 2, \"35\": 1, \"5\": 5, \"22\": 2, \"16\": 5, \"32\": 3, \"37\": 1, \"55\": 1, \"41\": 1, \"11\": 1, \"40\": 1}, \"51\": {\"51\": 108, \"20\": 24, \"50\": 1, \"3\": 4, \"25\": 1, \"44\": 1, \"6\": 1}, \"41\": {\"41\": 34, \"5\": 2}, \"34\": {\"34\": 22, \"28\": 2}, \"47\": {\"47\": 95, \"35\": 1, \"57\": 10, \"52\": 4, \"5\": 8, \"41\": 1, \"46\": 1}, \"5\": {\"57\": 10, \"1\": 3, \"3\": 1, \"5\": 46, \"41\": 3, \"35\": 6, \"46\": 5, \"39\": 1, \"47\": 14, \"40\": 1, \"8\": 1, \"6\": 1, \"29\": 9, \"16\": 1, \"48\": 1, \"52\": 3, \"23\": 2}, \"1\": {\"1\": 32, \"46\": 6, \"35\": 1, \"47\": 1}, \"48\": {\"48\": 120, \"54\": 3, \"36\": 3, \"53\": 6, \"19\": 1, \"44\": 1}, \"29\": {\"29\": 113, \"55\": 1, \"5\": 3, \"47\": 1}, \"22\": {\"22\": 104, \"56\": 16, \"10\": 5, \"0\": 2, \"43\": 1}, \"10\": {\"10\": 126, \"2\": 2, \"24\": 1, \"22\": 2, \"56\": 1}, \"32\": {\"32\": 19, \"15\": 1, \"37\": 2, \"7\": 1, \"46\": 1}, \"13\": {\"13\": 112}, \"42\": {\"42\": 32}, \"27\": {\"27\": 124, \"21\": 4, \"8\": 1, \"17\": 9}, \"8\": {\"8\": 114, \"27\": 15, \"21\": 4, \"50\": 1, \"17\": 7, \"9\": 1}, \"33\": {\"33\": 36}, \"25\": {\"25\": 80, \"28\": 2, \"40\": 7, \"19\": 3, \"4\": 10, \"53\": 4, \"6\": 3, \"20\": 9, \"36\": 2, \"51\": 1, \"3\": 4, \"48\": 1, \"34\": 3, \"50\": 2, \"44\": 1}, \"11\": {\"11\": 91, \"14\": 1, \"43\": 5, \"15\": 5, \"0\": 2}, \"53\": {\"36\": 4, \"53\": 94, \"21\": 4, \"44\": 1, \"19\": 1, \"48\": 1, \"27\": 2, \"8\": 3, \"3\": 2}}, \"CORES_2\": {\"32\": {\"32\": 27, \"27\": 1}, \"17\": {\"17\": 98, \"50\": 2, \"8\": 2, \"44\": 1, \"9\": 1}, \"38\": {\"38\": 15, \"37\": 3, \"11\": 1, \"28\": 1}, \"2\": {\"2\": 31, \"7\": 1}, \"43\": {\"43\": 142, \"22\": 1, \"10\": 1}, \"56\": {\"56\": 136, \"24\": 5, \"10\": 3}, \"37\": {\"37\": 36}, \"49\": {\"49\": 24}, \"0\": {\"0\": 47, \"16\": 1}, \"29\": {\"29\": 125, \"46\": 1, \"33\": 2}, \"35\": {\"35\": 32}, \"18\": {\"18\": 44, \"17\": 1, \"49\": 1, \"48\": 1, \"30\": 1}, \"25\": {\"17\": 4, \"25\": 87, \"34\": 4, \"3\": 6, \"19\": 10, \"50\": 3, \"40\": 5, \"21\": 1, \"6\": 2, \"9\": 10, \"33\": 1, \"4\": 1, \"27\": 1, \"51\": 1}, \"23\": {\"23\": 117, \"52\": 3, \"57\": 4}, \"15\": {\"0\": 1, \"15\": 129, \"16\": 12, \"57\": 1, \"5\": 2, \"47\": 1}, \"21\": {\"21\": 103, \"19\": 1, \"29\": 2, \"8\": 2, \"50\": 1, \"44\": 2, \"51\": 1, \"25\": 2, \"40\": 1, \"46\": 4, \"53\": 1}, \"51\": {\"51\": 111, \"40\": 1, \"4\": 1, \"20\": 5, \"6\": 1, \"25\": 1, \"21\": 1, \"50\": 4, \"3\": 3}, \"20\": {\"20\": 128, \"44\": 1, \"51\": 3, \"40\": 1, \"25\": 1, \"9\": 1, \"45\": 3}, \"7\": {\"7\": 36}, \"50\": {\"51\": 1, \"50\": 64, \"36\": 25, \"21\": 1, \"34\": 1, \"6\": 9, \"48\": 2, \"3\": 5, \"53\": 10, \"54\": 7, \"27\": 3, \"19\": 1, \"55\": 1, \"25\": 2, \"8\": 4}, \"31\": {\"31\": 28}, \"30\": {\"30\": 130, \"29\": 2, \"48\": 2, \"23\": 1, \"18\": 2, \"6\": 1, \"46\": 1, \"50\": 1}, \"19\": {\"19\": 140, \"40\": 11, \"44\": 2, \"29\": 2, \"35\": 1}, \"9\": {\"9\": 140, \"44\": 1, \"3\": 1, \"17\": 2}, \"52\": {\"23\": 7, \"52\": 112, \"57\": 1, \"1\": 4}, \"45\": {\"45\": 77, \"35\": 1, \"4\": 21, \"26\": 1, \"20\": 8, \"8\": 2, \"12\": 3, \"27\": 4, \"40\": 5, \"19\": 2, \"21\": 1, \"9\": 2, \"36\": 1}, \"8\": {\"8\": 137, \"27\": 9, \"53\": 1, \"36\": 7}, \"55\": {\"55\": 151, \"16\": 1, \"1\": 4, \"47\": 1, \"46\": 2, \"5\": 1}, \"12\": {\"12\": 76, \"45\": 6, \"20\": 4, \"4\": 3, \"8\": 1, \"32\": 1, \"26\": 1}, \"40\": {\"40\": 124, \"19\": 8, \"25\": 3, \"51\": 2, \"21\": 2, \"50\": 1}, \"28\": {\"28\": 26, \"0\": 2}, \"36\": {\"36\": 115, \"54\": 1}, \"39\": {\"28\": 1, \"39\": 23, \"46\": 1, \"0\": 1, \"16\": 2}, \"46\": {\"46\": 74, \"49\": 1, \"5\": 1, \"11\": 2, \"6\": 2, \"29\": 4, \"50\": 2, \"7\": 3, \"3\": 5, \"48\": 3, \"2\": 2, \"55\": 4, \"40\": 1, \"1\": 3, \"8\": 1, \"47\": 3, \"57\": 4, \"42\": 1, \"31\": 1, \"52\": 1, \"30\": 3, \"13\": 1}, \"14\": {\"56\": 1, \"37\": 3, \"14\": 9, \"55\": 4, \"10\": 3, \"7\": 2, \"43\": 1, \"47\": 1}, \"57\": {\"57\": 142}, \"34\": {\"34\": 25, \"46\": 1, \"49\": 1, \"25\": 1}, \"1\": {\"1\": 101, \"57\": 2, \"29\": 2, \"23\": 1, \"44\": 1, \"7\": 1, \"52\": 3, \"46\": 1}, \"53\": {\"53\": 117, \"27\": 9, \"36\": 7, \"54\": 1, \"8\": 2}, \"48\": {\"48\": 110, \"18\": 1, \"53\": 2, \"17\": 2, \"50\": 3, \"6\": 4, \"30\": 5, \"41\": 2, \"3\": 1}, \"3\": {\"3\": 49, \"21\": 3, \"42\": 1, \"41\": 2, \"1\": 1, \"50\": 8, \"2\": 1, \"29\": 5, \"40\": 2, \"48\": 1, \"25\": 8, \"53\": 1, \"6\": 3, \"49\": 1, \"19\": 3, \"17\": 1, \"46\": 1, \"57\": 1}, \"16\": {\"39\": 2, \"0\": 1, \"16\": 135, \"15\": 12, \"7\": 1, \"47\": 1}, \"6\": {\"53\": 7, \"6\": 49, \"18\": 3, \"41\": 1, \"17\": 5, \"27\": 1, \"3\": 9, \"50\": 15, \"48\": 6, \"54\": 8, \"51\": 3, \"9\": 2, \"30\": 2, \"29\": 1, \"36\": 2, \"25\": 3, \"19\": 3, \"32\": 1, \"20\": 1, \"8\": 2}, \"10\": {\"10\": 104, \"22\": 2, \"56\": 4, \"24\": 2}, \"13\": {\"13\": 114, \"22\": 2}, \"26\": {\"26\": 24}, \"24\": {\"24\": 82, \"56\": 9, \"22\": 1, \"10\": 3, \"13\": 1}, \"44\": {\"44\": 92, \"19\": 4, \"34\": 1, \"29\": 3}, \"27\": {\"27\": 141, \"8\": 4, \"32\": 1, \"50\": 1, \"17\": 2, \"4\": 1}, \"22\": {\"22\": 122, \"14\": 2, \"13\": 2, \"56\": 1, \"43\": 1}, \"33\": {\"33\": 26, \"29\": 2}, \"47\": {\"47\": 95, \"57\": 2, \"15\": 8, \"16\": 3, \"5\": 9, \"28\": 1}, \"5\": {\"5\": 108, \"7\": 1, \"13\": 2, \"15\": 3, \"47\": 2, \"11\": 3, \"28\": 1}, \"4\": {\"4\": 110, \"26\": 2, \"9\": 4, \"27\": 7, \"45\": 7, \"8\": 5, \"20\": 2, \"19\": 1}, \"41\": {\"41\": 20}, \"11\": {\"11\": 147, \"15\": 1, \"5\": 2}, \"54\": {\"54\": 106, \"36\": 2}, \"42\": {\"42\": 33, \"29\": 2, \"57\": 1}}, \"CORES_3\": {\"5\": {\"5\": 104, \"57\": 3, \"15\": 4, \"16\": 1, \"35\": 1, \"34\": 1, \"1\": 1, \"11\": 1}, \"32\": {\"32\": 24, \"8\": 2, \"36\": 2}, \"33\": {\"17\": 3, \"33\": 22, \"53\": 2, \"50\": 1}, \"49\": {\"49\": 20}, \"39\": {\"39\": 16}, \"11\": {\"11\": 133, \"0\": 4, \"28\": 1, \"15\": 3, \"47\": 1}, \"8\": {\"32\": 5, \"8\": 104, \"27\": 3, \"40\": 1, \"36\": 2, \"53\": 1}, \"26\": {\"26\": 21, \"1\": 1, \"46\": 2}, \"51\": {\"51\": 106, \"4\": 2, \"20\": 8, \"53\": 1, \"12\": 1, \"9\": 1, \"8\": 1, \"32\": 1, \"21\": 1}, \"4\": {\"4\": 133, \"2\": 1, \"27\": 5, \"32\": 2, \"45\": 2, \"8\": 2, \"12\": 1}, \"52\": {\"52\": 110, \"48\": 2, \"46\": 4, \"18\": 1, \"23\": 1}, \"47\": {\"47\": 68, \"5\": 11, \"35\": 2, \"55\": 1, \"16\": 3, \"11\": 1, \"22\": 1, \"13\": 1, \"34\": 1, \"57\": 2, \"15\": 1}, \"17\": {\"17\": 101, \"53\": 2, \"27\": 2, \"56\": 1, \"30\": 2}, \"53\": {\"53\": 127, \"27\": 1, \"17\": 1, \"36\": 3, \"8\": 3, \"38\": 1}, \"2\": {\"2\": 32}, \"12\": {\"12\": 71, \"2\": 2, \"45\": 5, \"53\": 1, \"51\": 4, \"4\": 4, \"8\": 2, \"38\": 2, \"40\": 1}, \"37\": {\"37\": 28}, \"9\": {\"9\": 139, \"48\": 1, \"3\": 3, \"33\": 1, \"30\": 1, \"25\": 2, \"53\": 1}, \"13\": {\"13\": 123, \"14\": 1, \"22\": 2, \"56\": 2}, \"54\": {\"54\": 95, \"36\": 4, \"20\": 1}, \"31\": {\"31\": 28}, \"34\": {\"34\": 29, \"57\": 3}, \"24\": {\"24\": 94, \"56\": 8, \"10\": 2}, \"7\": {\"7\": 32, \"22\": 1, \"13\": 1, \"11\": 1, \"31\": 1}, \"50\": {\"54\": 6, \"50\": 47, \"27\": 7, \"41\": 1, \"36\": 5, \"29\": 3, \"8\": 3, \"9\": 4, \"1\": 1, \"53\": 15, \"25\": 3, \"3\": 7, \"52\": 1, \"6\": 1, \"44\": 1, \"46\": 1, \"17\": 3, \"48\": 2, \"21\": 1, \"33\": 2, \"20\": 1, \"51\": 1, \"40\": 1, \"30\": 1}, \"46\": {\"37\": 2, \"46\": 69, \"42\": 2, \"3\": 10, \"29\": 2, \"18\": 1, \"57\": 5, \"9\": 2, \"55\": 5, \"1\": 6, \"5\": 2, \"21\": 3, \"47\": 1, \"52\": 2, \"53\": 2, \"30\": 3, \"26\": 4, \"14\": 1, \"48\": 3, \"6\": 1, \"50\": 2}, \"44\": {\"44\": 80, \"40\": 3, \"25\": 2, \"21\": 1, \"29\": 2}, \"40\": {\"40\": 96, \"44\": 3, \"9\": 5, \"21\": 1, \"19\": 9, \"25\": 2}, \"21\": {\"21\": 99, \"3\": 4, \"25\": 4, \"36\": 3, \"20\": 5, \"29\": 2, \"40\": 3, \"6\": 1, \"50\": 2, \"46\": 1, \"8\": 1, \"12\": 1, \"19\": 1, \"53\": 1}, \"45\": {\"45\": 37, \"32\": 1, \"4\": 7, \"12\": 5, \"25\": 3, \"29\": 1, \"51\": 2, \"2\": 1, \"53\": 2, \"50\": 1}, \"16\": {\"16\": 121, \"55\": 1, \"15\": 3, \"47\": 1}, \"14\": {\"14\": 18, \"10\": 2, \"43\": 2, \"55\": 4, \"31\": 3, \"22\": 1, \"56\": 2, \"24\": 5, \"5\": 1, \"28\": 1, \"13\": 1}, \"36\": {\"36\": 99, \"54\": 1}, \"56\": {\"56\": 101, \"10\": 5, \"14\": 1, \"24\": 7}, \"10\": {\"10\": 61, \"24\": 3}, \"18\": {\"18\": 82, \"48\": 2}, \"48\": {\"48\": 100, \"18\": 4, \"41\": 1, \"30\": 3, \"17\": 1, \"3\": 4, \"29\": 1, \"50\": 1, \"52\": 1}, \"38\": {\"38\": 20, \"36\": 2, \"53\": 2, \"17\": 2, \"44\": 1, \"33\": 1}, \"27\": {\"27\": 121, \"8\": 5, \"17\": 4}, \"42\": {\"42\": 25, \"19\": 2, \"41\": 1}, \"15\": {\"15\": 119, \"22\": 1, \"0\": 3, \"16\": 3, \"5\": 3, \"11\": 1, \"14\": 1, \"47\": 1, \"55\": 2}, \"1\": {\"1\": 83, \"26\": 1, \"57\": 12, \"46\": 2, \"39\": 2}, \"28\": {\"28\": 28}, \"43\": {\"43\": 136}, \"0\": {\"0\": 123, \"11\": 1}, \"57\": {\"57\": 122, \"39\": 1, \"1\": 1}, \"3\": {\"3\": 81, \"6\": 5, \"8\": 2, \"48\": 2, \"9\": 7, \"50\": 7, \"33\": 1, \"21\": 6, \"57\": 3, \"30\": 3, \"29\": 9, \"52\": 2, \"46\": 7, \"51\": 1, \"25\": 4, \"53\": 2, \"41\": 3, \"1\": 1, \"27\": 2}, \"29\": {\"29\": 123, \"1\": 1}, \"41\": {\"41\": 15, \"6\": 1, \"50\": 2, \"3\": 6, \"30\": 3, \"1\": 1}, \"25\": {\"3\": 5, \"25\": 81, \"9\": 19, \"6\": 4, \"20\": 5, \"50\": 3, \"40\": 8, \"44\": 2, \"21\": 9, \"53\": 1, \"30\": 4, \"19\": 3, \"27\": 1, \"51\": 1}, \"6\": {\"57\": 3, \"20\": 4, \"36\": 5, \"48\": 2, \"11\": 1, \"40\": 2, \"9\": 3, \"33\": 3, \"3\": 8, \"6\": 17, \"30\": 9, \"21\": 7, \"29\": 4, \"50\": 9, \"46\": 2, \"54\": 2, \"41\": 1, \"51\": 2, \"18\": 2, \"44\": 1, \"47\": 1}, \"35\": {\"35\": 28}, \"20\": {\"20\": 109, \"21\": 5, \"40\": 2, \"3\": 3, \"51\": 3, \"6\": 1, \"25\": 1, \"9\": 2}, \"23\": {\"23\": 133, \"39\": 1}, \"22\": {\"22\": 121, \"31\": 4, \"13\": 15}, \"19\": {\"19\": 95, \"20\": 1, \"4\": 2, \"40\": 11, \"25\": 2, \"50\": 1, \"9\": 4}, \"55\": {\"55\": 115, \"14\": 2, \"46\": 4, \"13\": 1, \"57\": 1, \"47\": 1}, \"30\": {\"30\": 109, \"9\": 4, \"41\": 1, \"48\": 1, \"50\": 2, \"18\": 1, \"25\": 2}}, \"CORES_1\": {\"24\": {\"24\": 77, \"22\": 11, \"10\": 12, \"27\": 4, \"43\": 3, \"31\": 1}, \"25\": {\"25\": 128, \"19\": 4, \"45\": 4, \"51\": 2, \"29\": 2}, \"45\": {\"45\": 125, \"1\": 6, \"56\": 1, \"57\": 1, \"19\": 8, \"25\": 2, \"42\": 1}, \"42\": {\"42\": 35, \"25\": 1, \"45\": 2, \"19\": 1, \"56\": 1}, \"2\": {\"2\": 36}, \"9\": {\"9\": 144, \"53\": 2, \"12\": 1, \"30\": 2, \"51\": 1}, \"21\": {\"21\": 117, \"22\": 1, \"15\": 3, \"11\": 3}, \"26\": {\"26\": 20, \"9\": 3, \"30\": 1}, \"49\": {\"49\": 32}, \"39\": {\"39\": 27, \"11\": 1}, \"46\": {\"46\": 58, \"9\": 1, \"48\": 12, \"8\": 1, \"41\": 4, \"5\": 11, \"4\": 17, \"6\": 6, \"50\": 10, \"40\": 4, \"29\": 3, \"51\": 5, \"25\": 2, \"13\": 1, \"12\": 1}, \"17\": {\"17\": 58, \"8\": 6}, \"19\": {\"1\": 13, \"19\": 130, \"57\": 1, \"45\": 9, \"56\": 1, \"42\": 2}, \"23\": {\"23\": 128, \"15\": 4}, \"1\": {\"1\": 85, \"45\": 4, \"19\": 9, \"57\": 2}, \"29\": {\"29\": 132, \"56\": 4, \"57\": 4}, \"56\": {\"56\": 111, \"57\": 29, \"19\": 4, \"29\": 4, \"20\": 1, \"55\": 1}, \"37\": {\"37\": 32}, \"33\": {\"33\": 32}, \"55\": {\"55\": 123, \"3\": 8, \"57\": 5, \"1\": 1, \"20\": 2, \"56\": 3}, \"30\": {\"30\": 104, \"9\": 10, \"53\": 6}, \"0\": {\"0\": 142, \"49\": 1, \"11\": 4, \"15\": 5}, \"36\": {\"36\": 64}, \"32\": {\"32\": 27, \"44\": 3, \"35\": 2}, \"31\": {\"31\": 28}, \"15\": {\"15\": 112, \"0\": 15, \"11\": 5, \"21\": 3, \"47\": 2, \"23\": 1}, \"12\": {\"12\": 103, \"29\": 1, \"20\": 9, \"51\": 1, \"19\": 1, \"3\": 1}, \"38\": {\"15\": 1, \"38\": 23}, \"40\": {\"40\": 145, \"46\": 1}, \"14\": {\"14\": 23, \"30\": 1}, \"13\": {\"13\": 150}, \"48\": {\"48\": 137, \"6\": 10, \"17\": 1}, \"34\": {\"34\": 24}, \"44\": {\"44\": 124, \"35\": 5, \"55\": 1}, \"5\": {\"5\": 127, \"6\": 7, \"48\": 14, \"8\": 2, \"50\": 1, \"53\": 1}, \"11\": {\"11\": 111, \"21\": 7, \"10\": 2, \"22\": 4, \"15\": 10, \"52\": 1, \"0\": 5}, \"7\": {\"7\": 26, \"14\": 1, \"41\": 1}, \"18\": {\"18\": 72}, \"52\": {\"52\": 115, \"11\": 5, \"49\": 3, \"24\": 1, \"0\": 5, \"22\": 1, \"31\": 1, \"21\": 1}, \"51\": {\"51\": 135, \"56\": 1, \"41\": 2, \"13\": 1, \"1\": 1, \"57\": 1, \"29\": 1}, \"41\": {\"51\": 2, \"41\": 22}, \"16\": {\"16\": 132, \"54\": 8}, \"22\": {\"22\": 105, \"24\": 10, \"11\": 4, \"52\": 2, \"27\": 2, \"21\": 5, \"39\": 1, \"10\": 4, \"43\": 1}, \"3\": {\"3\": 130, \"20\": 1, \"44\": 3, \"55\": 5, \"32\": 1}, \"54\": {\"54\": 102, \"16\": 2}, \"27\": {\"24\": 4, \"27\": 124, \"43\": 15, \"10\": 1}, \"20\": {\"20\": 140}, \"8\": {\"8\": 135, \"17\": 2, \"6\": 1}, \"50\": {\"50\": 144}, \"57\": {\"57\": 121, \"56\": 16, \"1\": 1, \"29\": 1, \"19\": 1}, \"4\": {\"4\": 130, \"50\": 1, \"46\": 1}, \"47\": {\"47\": 146}, \"10\": {\"24\": 8, \"10\": 78, \"22\": 6, \"39\": 2, \"31\": 1, \"11\": 1}, \"35\": {\"35\": 36}, \"53\": {\"53\": 116, \"17\": 1, \"30\": 3, \"9\": 3, \"14\": 1, \"8\": 2}, \"6\": {\"6\": 80, \"48\": 7, \"17\": 2, \"8\": 2, \"5\": 1, \"2\": 2, \"46\": 1, \"50\": 1}, \"43\": {\"43\": 121, \"27\": 16, \"22\": 1, \"10\": 1, \"39\": 1}, \"28\": {\"28\": 24, \"49\": 1, \"38\": 1, \"11\": 1, \"47\": 1}}, \"CORES_5\": {\"35\": {\"35\": 36}, \"57\": {\"57\": 132}, \"20\": {\"20\": 118, \"51\": 14, \"25\": 3, \"40\": 1, \"50\": 4, \"1\": 4}, \"12\": {\"12\": 87, \"30\": 3, \"38\": 1, \"4\": 2, \"19\": 1, \"7\": 1, \"6\": 1}, \"32\": {\"32\": 24, \"8\": 2, \"27\": 5, \"55\": 1}, \"25\": {\"25\": 115, \"19\": 9, \"50\": 4, \"55\": 3, \"20\": 2, \"1\": 1, \"51\": 1, \"5\": 2, \"9\": 1}, \"44\": {\"44\": 132, \"34\": 1, \"40\": 11, \"50\": 1, \"5\": 2, \"29\": 1}, \"31\": {\"31\": 36}, \"11\": {\"11\": 127, \"15\": 16, \"31\": 2, \"43\": 4, \"0\": 1}, \"47\": {\"47\": 86, \"57\": 3, \"52\": 1, \"14\": 1, \"36\": 4, \"3\": 3, \"2\": 1, \"28\": 1}, \"23\": {\"23\": 121, \"18\": 2, \"54\": 1}, \"43\": {\"43\": 129, \"16\": 3, \"11\": 10, \"37\": 1, \"3\": 1}, \"37\": {\"37\": 24}, \"5\": {\"5\": 117, \"44\": 9, \"40\": 2}, \"45\": {\"32\": 4, \"45\": 40, \"30\": 19, \"38\": 3, \"26\": 4, \"27\": 4, \"5\": 2, \"4\": 11, \"33\": 2, \"51\": 3, \"12\": 6, \"9\": 6, \"19\": 2, \"55\": 10, \"6\": 4, \"20\": 1, \"7\": 1, \"50\": 2}, \"7\": {\"7\": 28, \"4\": 1, \"45\": 1, \"9\": 1, \"6\": 1}, \"13\": {\"13\": 132, \"10\": 4}, \"49\": {\"49\": 36}, \"46\": {\"16\": 18, \"46\": 112, \"3\": 8, \"43\": 6, \"21\": 1, \"14\": 1, \"52\": 2}, \"16\": {\"16\": 112, \"46\": 15, \"52\": 1, \"29\": 2, \"43\": 2, \"31\": 1, \"28\": 1, \"3\": 2}, \"54\": {\"54\": 104, \"21\": 1, \"1\": 4, \"17\": 1, \"23\": 1, \"50\": 1}, \"19\": {\"19\": 142, \"25\": 3, \"50\": 2, \"9\": 3, \"33\": 2}, \"55\": {\"55\": 100, \"45\": 9, \"9\": 3, \"20\": 14, \"12\": 2, \"25\": 3, \"50\": 8, \"19\": 2, \"6\": 1, \"51\": 6, \"4\": 2}, \"30\": {\"30\": 123, \"6\": 3, \"8\": 2}, \"34\": {\"34\": 32, \"33\": 2, \"44\": 1, \"22\": 1}, \"50\": {\"5\": 3, \"30\": 1, \"50\": 41, \"53\": 12, \"1\": 21, \"51\": 4, \"8\": 6, \"55\": 1, \"19\": 10, \"54\": 3, \"21\": 9, \"6\": 1, \"18\": 1, \"25\": 8, \"45\": 2, \"27\": 1, \"41\": 1, \"33\": 2, \"9\": 2, \"26\": 1, \"47\": 1, \"29\": 1, \"48\": 2}, \"3\": {\"46\": 7, \"3\": 67, \"0\": 1, \"11\": 3, \"29\": 6, \"43\": 9, \"56\": 1, \"15\": 2, \"52\": 2, \"35\": 1, \"37\": 1}, \"10\": {\"10\": 62, \"13\": 4, \"24\": 2}, \"27\": {\"27\": 113, \"17\": 7, \"30\": 3, \"1\": 2, \"8\": 10, \"48\": 2, \"6\": 3, \"53\": 1, \"9\": 1}, \"33\": {\"33\": 32}, \"56\": {\"56\": 131, \"0\": 6, \"15\": 4, \"22\": 1}, \"9\": {\"32\": 1, \"9\": 107, \"7\": 1, \"27\": 7, \"12\": 1, \"48\": 2, \"30\": 5, \"17\": 10, \"8\": 4, \"6\": 4, \"5\": 2, \"19\": 1, \"26\": 1, \"45\": 2, \"1\": 1, \"53\": 1}, \"14\": {\"46\": 2, \"31\": 3, \"34\": 3, \"43\": 3, \"29\": 4, \"14\": 15, \"36\": 1, \"47\": 5, \"52\": 1, \"37\": 3, \"3\": 1, \"2\": 1, \"44\": 1, \"16\": 1}, \"4\": {\"4\": 81, \"55\": 3, \"12\": 2, \"45\": 5, \"30\": 6, \"9\": 1, \"25\": 1, \"8\": 1}, \"42\": {\"42\": 37, \"39\": 2, \"33\": 1}, \"24\": {\"10\": 4, \"24\": 76}, \"39\": {\"39\": 19, \"42\": 1}, \"52\": {\"52\": 112, \"42\": 1, \"2\": 1, \"57\": 10, \"23\": 1, \"3\": 1, \"29\": 1, \"46\": 2, \"21\": 1}, \"2\": {\"2\": 26, \"37\": 1, \"47\": 1}, \"28\": {\"28\": 32}, \"53\": {\"53\": 93, \"48\": 14, \"8\": 11, \"1\": 3, \"17\": 1}, \"17\": {\"17\": 114, \"48\": 2}, \"29\": {\"29\": 130, \"43\": 2}, \"38\": {\"38\": 32}, \"15\": {\"15\": 137, \"31\": 1, \"11\": 6}, \"26\": {\"26\": 20, \"48\": 2, \"6\": 2}, \"21\": {\"21\": 141, \"20\": 1, \"50\": 2}, \"41\": {\"41\": 26, \"51\": 1, \"40\": 1}, \"48\": {\"48\": 119, \"53\": 6, \"1\": 6, \"8\": 2, \"17\": 3}, \"22\": {\"22\": 28}, \"8\": {\"8\": 120, \"53\": 15, \"48\": 4, \"6\": 5, \"1\": 1, \"27\": 3}, \"18\": {\"18\": 62, \"54\": 2}, \"0\": {\"0\": 122}, \"1\": {\"1\": 100, \"8\": 7, \"6\": 3, \"48\": 16, \"53\": 6, \"17\": 1, \"27\": 5}, \"40\": {\"40\": 100, \"44\": 13, \"5\": 6, \"29\": 1, \"36\": 4}, \"6\": {\"32\": 4, \"30\": 5, \"17\": 12, \"6\": 34, \"8\": 20, \"48\": 7, \"19\": 1, \"44\": 1, \"55\": 3, \"9\": 6, \"45\": 9, \"1\": 4, \"25\": 2, \"12\": 1, \"53\": 5, \"20\": 4, \"26\": 3, \"7\": 3, \"51\": 1, \"27\": 2, \"4\": 1}, \"51\": {\"32\": 1, \"51\": 113, \"20\": 21, \"25\": 1, \"53\": 2, \"8\": 1, \"1\": 1, \"50\": 1, \"9\": 1}, \"36\": {\"36\": 87, \"47\": 3, \"40\": 1, \"39\": 1}}}, \"per_domain_accuracy\": {\"ORACLE.run1_50\": {\"accuracy\": 0.9302083333333333, \"source?\": true}, \"ORACLE.run1_14\": {\"accuracy\": 0.9322916666666666, \"source?\": true}, \"ORACLE.run1_32\": {\"accuracy\": 0.9200520833333333, \"source?\": true}, \"ORACLE.run1_44\": {\"accuracy\": 0.8177083333333334, \"source?\": true}, \"ORACLE.run1_8\": {\"accuracy\": 0.9166666666666666, \"source?\": true}, \"ORACLE.run1_20\": {\"accuracy\": 0.8942708333333333, \"source?\": true}, \"ORACLE.run1_38\": {\"accuracy\": 0.9268229166666667, \"source?\": true}, \"ORACLE.run1_26\": {\"accuracy\": 0.803125, \"source?\": true}, \"CORES_4\": {\"accuracy\": 0.828030303030303, \"source?\": false}, \"CORES_2\": {\"accuracy\": 0.8683286516853933, \"source?\": false}, \"CORES_3\": {\"accuracy\": 0.8508184523809523, \"source?\": false}, \"CORES_1\": {\"accuracy\": 0.8966216216216216, \"source?\": false}, \"CORES_5\": {\"accuracy\": 0.833449720670391, \"source?\": false}}}, \"history\": {\"epoch_indices\": [1, 2, 3, 4, 5, 6, 7, 8, 9], \"train_label_loss\": [0.8144337526456054, 0.5013450959082028, 0.3892083858325523, 0.3340566241154669, 0.29275095491701947, 0.2606963626706385, 0.24106201114108053, 0.22397065838851546, 0.20846847372678376], \"source_val_label_loss\": [0.970952570438385, 0.44400086998939514, 0.36159729957580566, 0.31300607323646545, 0.29950910806655884, 0.29950690269470215, 0.29748648405075073, 0.25228431820869446, 0.2670486867427826], \"target_val_label_loss\": [2.6046788692474365, 1.4064821004867554, 1.551345705986023, 1.8805218935012817, 1.806457281112671, 2.6603188514709473, 6.596024990081787, 11.162769317626953, 18.291196823120117], \"source_val_acc_label\": [0.7296223958333333, 0.840234375, 0.8711588541666667, 0.8857421875, 0.8926432291666667, 0.8930989583333333, 0.89443359375, 0.9105794270833333, 0.9049153645833333], \"target_val_acc_label\": [0.7318928571428571, 0.8485357142857143, 0.8491428571428571, 0.8428571428571429, 0.8562142857142857, 0.83775, 0.7844642857142857, 0.7503571428571428, 0.70325]}, \"dataset_metrics\": {\"source\": {\"train\": {\"n_unique_x\": 179200, \"n_unique_y\": 16, \"n_batch/episode\": 6720}, \"val\": {\"n_unique_x\": 38400, \"n_unique_y\": 16, \"n_batch/episode\": 960}, \"test\": {\"n_unique_x\": 38400, \"n_unique_y\": 16, \"n_batch/episode\": 960}}, \"target\": {\"train\": {\"n_unique_x\": 175197, \"n_unique_y\": 58, \"n_batch/episode\": 6309}, \"val\": {\"n_unique_x\": 37166, \"n_unique_y\": 58, \"n_batch/episode\": 875}, \"test\": {\"n_unique_x\": 37642, \"n_unique_y\": 58, \"n_batch/episode\": 890}}}}'"
      ]
     },
     "execution_count": 29,
     "metadata": {},
     "output_type": "execute_result"
    }
   ],
   "source": [
    "json.dumps(experiment)"
   ]
  }
 ],
 "metadata": {
  "celltoolbar": "Tags",
  "kernelspec": {
   "display_name": "Python 3 (ipykernel)",
   "language": "python",
   "name": "python3"
  },
  "language_info": {
   "codemirror_mode": {
    "name": "ipython",
    "version": 3
   },
   "file_extension": ".py",
   "mimetype": "text/x-python",
   "name": "python",
   "nbconvert_exporter": "python",
   "pygments_lexer": "ipython3",
   "version": "3.8.12"
  },
  "papermill": {
   "default_parameters": {},
   "duration": 2669.014861,
   "end_time": "2022-03-21T19:45:24.071629",
   "environment_variables": {},
   "exception": null,
   "input_path": "/root/csc500-main/csc500-notebooks/templates/tl_ptn_template.ipynb",
   "output_path": "trial.ipynb",
   "parameters": {
    "parameters": {
     "BEST_MODEL_PATH": "./best_model.pth",
     "NUM_LOGS_PER_EPOCH": 10,
     "criteria_for_best": "target_accuracy",
     "dataset_seed": 500,
     "datasets": [
      {
       "domain_prefix": "CORES_",
       "domains": [
        1,
        2,
        3,
        4,
        5
       ],
       "episode_transforms": [],
       "labels": [
        "1-10.",
        "1-11.",
        "1-15.",
        "1-16.",
        "1-17.",
        "1-18.",
        "1-19.",
        "10-4.",
        "10-7.",
        "11-1.",
        "11-14.",
        "11-17.",
        "11-20.",
        "11-7.",
        "13-20.",
        "13-8.",
        "14-10.",
        "14-11.",
        "14-14.",
        "14-7.",
        "15-1.",
        "15-20.",
        "16-1.",
        "16-16.",
        "17-10.",
        "17-11.",
        "17-2.",
        "19-1.",
        "19-16.",
        "19-19.",
        "19-20.",
        "19-3.",
        "2-10.",
        "2-11.",
        "2-17.",
        "2-18.",
        "2-20.",
        "2-3.",
        "2-4.",
        "2-5.",
        "2-6.",
        "2-7.",
        "2-8.",
        "3-13.",
        "3-18.",
        "3-3.",
        "4-1.",
        "4-10.",
        "4-11.",
        "4-19.",
        "5-5.",
        "6-15.",
        "7-10.",
        "7-14.",
        "8-18.",
        "8-20.",
        "8-3.",
        "8-8."
       ],
       "num_examples_per_domain_per_label": -1,
       "pickle_path": "/root/csc500-main/datasets/cores.stratified_ds.2022A.pkl",
       "source_or_target_dataset": "target",
       "x_transforms": [
        "unit_mag"
       ]
      },
      {
       "domain_prefix": "ORACLE.run1_",
       "domains": [
        32,
        38,
        8,
        44,
        14,
        50,
        20,
        26
       ],
       "episode_transforms": [],
       "labels": [
        "3123D52",
        "3123D65",
        "3123D79",
        "3123D80",
        "3123D54",
        "3123D70",
        "3123D7B",
        "3123D89",
        "3123D58",
        "3123D76",
        "3123D7D",
        "3123EFE",
        "3123D64",
        "3123D78",
        "3123D7E",
        "3124E4A"
       ],
       "num_examples_per_domain_per_label": 2000,
       "pickle_path": "/root/csc500-main/datasets/oracle.Run1_framed_2000Examples_stratified_ds.2022A.pkl",
       "source_or_target_dataset": "source",
       "x_transforms": [
        "unit_mag"
       ]
      }
     ],
     "device": "cuda",
     "experiment_name": "tl_1v2:cores-oracle.run1.framed",
     "lr": 0.0001,
     "n_epoch": 50,
     "n_query": 2,
     "n_shot": 3,
     "n_way": 16,
     "patience": 3,
     "seed": 500,
     "test_k_factor": 2,
     "torch_default_dtype": "torch.float32",
     "train_k_factor": 3,
     "val_k_factor": 2,
     "x_net": [
      {
       "class": "nnReshape",
       "kargs": {
        "shape": [
         -1,
         1,
         2,
         256
        ]
       }
      },
      {
       "class": "Conv2d",
       "kargs": {
        "bias": false,
        "in_channels": 1,
        "kernel_size": [
         1,
         7
        ],
        "out_channels": 256,
        "padding": [
         0,
         3
        ]
       }
      },
      {
       "class": "ReLU",
       "kargs": {
        "inplace": true
       }
      },
      {
       "class": "BatchNorm2d",
       "kargs": {
        "num_features": 256
       }
      },
      {
       "class": "Conv2d",
       "kargs": {
        "bias": true,
        "in_channels": 256,
        "kernel_size": [
         2,
         7
        ],
        "out_channels": 80,
        "padding": [
         0,
         3
        ]
       }
      },
      {
       "class": "ReLU",
       "kargs": {
        "inplace": true
       }
      },
      {
       "class": "BatchNorm2d",
       "kargs": {
        "num_features": 80
       }
      },
      {
       "class": "Flatten",
       "kargs": {}
      },
      {
       "class": "Linear",
       "kargs": {
        "in_features": 20480,
        "out_features": 256
       }
      },
      {
       "class": "ReLU",
       "kargs": {
        "inplace": true
       }
      },
      {
       "class": "BatchNorm1d",
       "kargs": {
        "num_features": 256
       }
      },
      {
       "class": "Linear",
       "kargs": {
        "in_features": 256,
        "out_features": 256
       }
      }
     ]
    }
   },
   "start_time": "2022-03-21T19:00:55.056768",
   "version": "2.3.4"
  }
 },
 "nbformat": 4,
 "nbformat_minor": 5
}