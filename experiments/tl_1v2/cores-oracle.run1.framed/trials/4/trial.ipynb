{
 "cells": [
  {
   "cell_type": "markdown",
   "id": "9fea5f46",
   "metadata": {
    "papermill": {
     "duration": 0.02873,
     "end_time": "2022-03-21T04:46:33.538619",
     "exception": false,
     "start_time": "2022-03-21T04:46:33.509889",
     "status": "completed"
    },
    "tags": []
   },
   "source": [
    "# Transfer Learning Template"
   ]
  },
  {
   "cell_type": "code",
   "execution_count": 1,
   "id": "0902182a",
   "metadata": {
    "execution": {
     "iopub.execute_input": "2022-03-21T04:46:33.600696Z",
     "iopub.status.busy": "2022-03-21T04:46:33.599416Z",
     "iopub.status.idle": "2022-03-21T04:46:35.436280Z",
     "shell.execute_reply": "2022-03-21T04:46:35.435822Z"
    },
    "papermill": {
     "duration": 1.87441,
     "end_time": "2022-03-21T04:46:35.436402",
     "exception": false,
     "start_time": "2022-03-21T04:46:33.561992",
     "status": "completed"
    },
    "tags": []
   },
   "outputs": [],
   "source": [
    "%load_ext autoreload\n",
    "%autoreload 2\n",
    "%matplotlib inline\n",
    "\n",
    "    \n",
    "import os, json, sys, time, random\n",
    "import numpy as np\n",
    "import torch\n",
    "from torch.optim import Adam\n",
    "from  easydict import EasyDict\n",
    "import matplotlib.pyplot as plt\n",
    "\n",
    "from steves_models.steves_ptn import Steves_Prototypical_Network\n",
    "\n",
    "from steves_utils.lazy_iterable_wrapper import Lazy_Iterable_Wrapper\n",
    "from steves_utils.iterable_aggregator import Iterable_Aggregator\n",
    "from steves_utils.ptn_train_eval_test_jig import  PTN_Train_Eval_Test_Jig\n",
    "from steves_utils.torch_sequential_builder import build_sequential\n",
    "from steves_utils.torch_utils import get_dataset_metrics, ptn_confusion_by_domain_over_dataloader\n",
    "from steves_utils.utils_v2 import (per_domain_accuracy_from_confusion, get_datasets_base_path)\n",
    "from steves_utils.PTN.utils import independent_accuracy_assesment\n",
    "\n",
    "from torch.utils.data import DataLoader\n",
    "\n",
    "from steves_utils.stratified_dataset.episodic_accessor import Episodic_Accessor_Factory\n",
    "\n",
    "from steves_utils.ptn_do_report import (\n",
    "    get_loss_curve,\n",
    "    get_results_table,\n",
    "    get_parameters_table,\n",
    "    get_domain_accuracies,\n",
    ")\n",
    "\n",
    "from steves_utils.transforms import get_chained_transform"
   ]
  },
  {
   "cell_type": "markdown",
   "id": "41c840b4",
   "metadata": {
    "papermill": {
     "duration": 0.018308,
     "end_time": "2022-03-21T04:46:35.474333",
     "exception": false,
     "start_time": "2022-03-21T04:46:35.456025",
     "status": "completed"
    },
    "tags": []
   },
   "source": [
    "# Allowed Parameters\n",
    "These are allowed parameters, not defaults\n",
    "Each of these values need to be present in the injected parameters (the notebook will raise an exception if they are not present)\n",
    "\n",
    "Papermill uses the cell tag \"parameters\" to inject the real parameters below this cell.\n",
    "Enable tags to see what I mean"
   ]
  },
  {
   "cell_type": "code",
   "execution_count": 2,
   "id": "fd44eb83",
   "metadata": {
    "execution": {
     "iopub.execute_input": "2022-03-21T04:46:35.516648Z",
     "iopub.status.busy": "2022-03-21T04:46:35.516272Z",
     "iopub.status.idle": "2022-03-21T04:46:35.537909Z",
     "shell.execute_reply": "2022-03-21T04:46:35.537116Z"
    },
    "papermill": {
     "duration": 0.04561,
     "end_time": "2022-03-21T04:46:35.538061",
     "exception": false,
     "start_time": "2022-03-21T04:46:35.492451",
     "status": "completed"
    },
    "tags": []
   },
   "outputs": [],
   "source": [
    "required_parameters = {\n",
    "    \"experiment_name\",\n",
    "    \"lr\",\n",
    "    \"device\",\n",
    "    \"seed\",\n",
    "    \"dataset_seed\",\n",
    "    \"n_shot\",\n",
    "    \"n_query\",\n",
    "    \"n_way\",\n",
    "    \"train_k_factor\",\n",
    "    \"val_k_factor\",\n",
    "    \"test_k_factor\",\n",
    "    \"n_epoch\",\n",
    "    \"patience\",\n",
    "    \"criteria_for_best\",\n",
    "    \"x_net\",\n",
    "    \"datasets\",\n",
    "    \"torch_default_dtype\",\n",
    "    \"NUM_LOGS_PER_EPOCH\",\n",
    "    \"BEST_MODEL_PATH\",\n",
    "    \"x_shape\",\n",
    "}"
   ]
  },
  {
   "cell_type": "code",
   "execution_count": 3,
   "id": "fa3f0049",
   "metadata": {
    "execution": {
     "iopub.execute_input": "2022-03-21T04:46:35.601186Z",
     "iopub.status.busy": "2022-03-21T04:46:35.590628Z",
     "iopub.status.idle": "2022-03-21T04:46:35.623498Z",
     "shell.execute_reply": "2022-03-21T04:46:35.622699Z"
    },
    "papermill": {
     "duration": 0.059067,
     "end_time": "2022-03-21T04:46:35.623672",
     "exception": false,
     "start_time": "2022-03-21T04:46:35.564605",
     "status": "completed"
    },
    "tags": [
     "parameters"
    ]
   },
   "outputs": [],
   "source": [
    "from steves_utils.CORES.utils import (\n",
    "    ALL_NODES,\n",
    "    ALL_NODES_MINIMUM_1000_EXAMPLES,\n",
    "    ALL_DAYS\n",
    ")\n",
    "\n",
    "from steves_utils.ORACLE.utils_v2 import (\n",
    "    ALL_DISTANCES_FEET_NARROWED,\n",
    "    ALL_RUNS,\n",
    "    ALL_SERIAL_NUMBERS,\n",
    ")\n",
    "\n",
    "standalone_parameters = {}\n",
    "standalone_parameters[\"experiment_name\"] = \"STANDALONE PTN\"\n",
    "standalone_parameters[\"lr\"] = 0.001\n",
    "standalone_parameters[\"device\"] = \"cuda\"\n",
    "\n",
    "standalone_parameters[\"seed\"] = 1337\n",
    "standalone_parameters[\"dataset_seed\"] = 1337\n",
    "\n",
    "standalone_parameters[\"n_way\"] = 8\n",
    "standalone_parameters[\"n_shot\"] = 3\n",
    "standalone_parameters[\"n_query\"]  = 2\n",
    "standalone_parameters[\"train_k_factor\"] = 1\n",
    "standalone_parameters[\"val_k_factor\"] = 2\n",
    "standalone_parameters[\"test_k_factor\"] = 2\n",
    "\n",
    "\n",
    "standalone_parameters[\"n_epoch\"] = 50\n",
    "\n",
    "standalone_parameters[\"patience\"] = 10\n",
    "standalone_parameters[\"criteria_for_best\"] = \"source_loss\"\n",
    "\n",
    "standalone_parameters[\"datasets\"] = [\n",
    "    {\n",
    "        \"labels\": ALL_SERIAL_NUMBERS,\n",
    "        \"domains\": ALL_DISTANCES_FEET_NARROWED,\n",
    "        \"num_examples_per_domain_per_label\": 100,\n",
    "        \"pickle_path\": os.path.join(get_datasets_base_path(), \"oracle.Run1_framed_2000Examples_stratified_ds.2022A.pkl\"),\n",
    "        \"source_or_target_dataset\": \"source\",\n",
    "        \"x_transforms\": [\"unit_mag\", \"minus_two\"],\n",
    "        \"episode_transforms\": [],\n",
    "        \"domain_prefix\": \"ORACLE_\"\n",
    "    },\n",
    "    {\n",
    "        \"labels\": ALL_NODES,\n",
    "        \"domains\": ALL_DAYS,\n",
    "        \"num_examples_per_domain_per_label\": 100,\n",
    "        \"pickle_path\": os.path.join(get_datasets_base_path(), \"cores.stratified_ds.2022A.pkl\"),\n",
    "        \"source_or_target_dataset\": \"target\",\n",
    "        \"x_transforms\": [\"unit_power\", \"times_zero\"],\n",
    "        \"episode_transforms\": [],\n",
    "        \"domain_prefix\": \"CORES_\"\n",
    "    }   \n",
    "]\n",
    "\n",
    "standalone_parameters[\"torch_default_dtype\"] = \"torch.float32\" \n",
    "\n",
    "\n",
    "\n",
    "standalone_parameters[\"x_net\"] =     [\n",
    "    {\"class\": \"nnReshape\", \"kargs\": {\"shape\":[-1, 1, 2, 256]}},\n",
    "    {\"class\": \"Conv2d\", \"kargs\": { \"in_channels\":1, \"out_channels\":256, \"kernel_size\":(1,7), \"bias\":False, \"padding\":(0,3), },},\n",
    "    {\"class\": \"ReLU\", \"kargs\": {\"inplace\": True}},\n",
    "    {\"class\": \"BatchNorm2d\", \"kargs\": {\"num_features\":256}},\n",
    "\n",
    "    {\"class\": \"Conv2d\", \"kargs\": { \"in_channels\":256, \"out_channels\":80, \"kernel_size\":(2,7), \"bias\":True, \"padding\":(0,3), },},\n",
    "    {\"class\": \"ReLU\", \"kargs\": {\"inplace\": True}},\n",
    "    {\"class\": \"BatchNorm2d\", \"kargs\": {\"num_features\":80}},\n",
    "    {\"class\": \"Flatten\", \"kargs\": {}},\n",
    "\n",
    "    {\"class\": \"Linear\", \"kargs\": {\"in_features\": 80*256, \"out_features\": 256}}, # 80 units per IQ pair\n",
    "    {\"class\": \"ReLU\", \"kargs\": {\"inplace\": True}},\n",
    "    {\"class\": \"BatchNorm1d\", \"kargs\": {\"num_features\":256}},\n",
    "\n",
    "    {\"class\": \"Linear\", \"kargs\": {\"in_features\": 256, \"out_features\": 256}},\n",
    "]\n",
    "\n",
    "# Parameters relevant to results\n",
    "# These parameters will basically never need to change\n",
    "standalone_parameters[\"NUM_LOGS_PER_EPOCH\"] = 10\n",
    "standalone_parameters[\"BEST_MODEL_PATH\"] = \"./best_model.pth\"\n",
    "\n",
    "\n",
    "\n",
    "\n"
   ]
  },
  {
   "cell_type": "code",
   "execution_count": 4,
   "id": "d19952d7",
   "metadata": {
    "execution": {
     "iopub.execute_input": "2022-03-21T04:46:35.685174Z",
     "iopub.status.busy": "2022-03-21T04:46:35.683868Z",
     "iopub.status.idle": "2022-03-21T04:46:35.705710Z",
     "shell.execute_reply": "2022-03-21T04:46:35.704916Z"
    },
    "papermill": {
     "duration": 0.054639,
     "end_time": "2022-03-21T04:46:35.705860",
     "exception": false,
     "start_time": "2022-03-21T04:46:35.651221",
     "status": "completed"
    },
    "tags": [
     "injected-parameters"
    ]
   },
   "outputs": [],
   "source": [
    "# Parameters\n",
    "parameters = {\n",
    "    \"experiment_name\": \"tl_1v2:cores-oracle.run1.framed\",\n",
    "    \"device\": \"cuda\",\n",
    "    \"lr\": 0.0001,\n",
    "    \"n_shot\": 3,\n",
    "    \"n_query\": 2,\n",
    "    \"train_k_factor\": 3,\n",
    "    \"val_k_factor\": 2,\n",
    "    \"test_k_factor\": 2,\n",
    "    \"torch_default_dtype\": \"torch.float32\",\n",
    "    \"n_epoch\": 50,\n",
    "    \"patience\": 3,\n",
    "    \"criteria_for_best\": \"target_accuracy\",\n",
    "    \"x_net\": [\n",
    "        {\"class\": \"nnReshape\", \"kargs\": {\"shape\": [-1, 1, 2, 256]}},\n",
    "        {\n",
    "            \"class\": \"Conv2d\",\n",
    "            \"kargs\": {\n",
    "                \"in_channels\": 1,\n",
    "                \"out_channels\": 256,\n",
    "                \"kernel_size\": [1, 7],\n",
    "                \"bias\": False,\n",
    "                \"padding\": [0, 3],\n",
    "            },\n",
    "        },\n",
    "        {\"class\": \"ReLU\", \"kargs\": {\"inplace\": True}},\n",
    "        {\"class\": \"BatchNorm2d\", \"kargs\": {\"num_features\": 256}},\n",
    "        {\n",
    "            \"class\": \"Conv2d\",\n",
    "            \"kargs\": {\n",
    "                \"in_channels\": 256,\n",
    "                \"out_channels\": 80,\n",
    "                \"kernel_size\": [2, 7],\n",
    "                \"bias\": True,\n",
    "                \"padding\": [0, 3],\n",
    "            },\n",
    "        },\n",
    "        {\"class\": \"ReLU\", \"kargs\": {\"inplace\": True}},\n",
    "        {\"class\": \"BatchNorm2d\", \"kargs\": {\"num_features\": 80}},\n",
    "        {\"class\": \"Flatten\", \"kargs\": {}},\n",
    "        {\"class\": \"Linear\", \"kargs\": {\"in_features\": 20480, \"out_features\": 256}},\n",
    "        {\"class\": \"ReLU\", \"kargs\": {\"inplace\": True}},\n",
    "        {\"class\": \"BatchNorm1d\", \"kargs\": {\"num_features\": 256}},\n",
    "        {\"class\": \"Linear\", \"kargs\": {\"in_features\": 256, \"out_features\": 256}},\n",
    "    ],\n",
    "    \"NUM_LOGS_PER_EPOCH\": 10,\n",
    "    \"BEST_MODEL_PATH\": \"./best_model.pth\",\n",
    "    \"n_way\": 16,\n",
    "    \"datasets\": [\n",
    "        {\n",
    "            \"labels\": [\n",
    "                \"1-10.\",\n",
    "                \"1-11.\",\n",
    "                \"1-15.\",\n",
    "                \"1-16.\",\n",
    "                \"1-17.\",\n",
    "                \"1-18.\",\n",
    "                \"1-19.\",\n",
    "                \"10-4.\",\n",
    "                \"10-7.\",\n",
    "                \"11-1.\",\n",
    "                \"11-14.\",\n",
    "                \"11-17.\",\n",
    "                \"11-20.\",\n",
    "                \"11-7.\",\n",
    "                \"13-20.\",\n",
    "                \"13-8.\",\n",
    "                \"14-10.\",\n",
    "                \"14-11.\",\n",
    "                \"14-14.\",\n",
    "                \"14-7.\",\n",
    "                \"15-1.\",\n",
    "                \"15-20.\",\n",
    "                \"16-1.\",\n",
    "                \"16-16.\",\n",
    "                \"17-10.\",\n",
    "                \"17-11.\",\n",
    "                \"17-2.\",\n",
    "                \"19-1.\",\n",
    "                \"19-16.\",\n",
    "                \"19-19.\",\n",
    "                \"19-20.\",\n",
    "                \"19-3.\",\n",
    "                \"2-10.\",\n",
    "                \"2-11.\",\n",
    "                \"2-17.\",\n",
    "                \"2-18.\",\n",
    "                \"2-20.\",\n",
    "                \"2-3.\",\n",
    "                \"2-4.\",\n",
    "                \"2-5.\",\n",
    "                \"2-6.\",\n",
    "                \"2-7.\",\n",
    "                \"2-8.\",\n",
    "                \"3-13.\",\n",
    "                \"3-18.\",\n",
    "                \"3-3.\",\n",
    "                \"4-1.\",\n",
    "                \"4-10.\",\n",
    "                \"4-11.\",\n",
    "                \"4-19.\",\n",
    "                \"5-5.\",\n",
    "                \"6-15.\",\n",
    "                \"7-10.\",\n",
    "                \"7-14.\",\n",
    "                \"8-18.\",\n",
    "                \"8-20.\",\n",
    "                \"8-3.\",\n",
    "                \"8-8.\",\n",
    "            ],\n",
    "            \"domains\": [1, 2, 3, 4, 5],\n",
    "            \"num_examples_per_domain_per_label\": -1,\n",
    "            \"pickle_path\": \"/root/csc500-main/datasets/cores.stratified_ds.2022A.pkl\",\n",
    "            \"source_or_target_dataset\": \"target\",\n",
    "            \"x_transforms\": [\"unit_mag\"],\n",
    "            \"episode_transforms\": [],\n",
    "            \"domain_prefix\": \"CORES_\",\n",
    "        },\n",
    "        {\n",
    "            \"labels\": [\n",
    "                \"3123D52\",\n",
    "                \"3123D65\",\n",
    "                \"3123D79\",\n",
    "                \"3123D80\",\n",
    "                \"3123D54\",\n",
    "                \"3123D70\",\n",
    "                \"3123D7B\",\n",
    "                \"3123D89\",\n",
    "                \"3123D58\",\n",
    "                \"3123D76\",\n",
    "                \"3123D7D\",\n",
    "                \"3123EFE\",\n",
    "                \"3123D64\",\n",
    "                \"3123D78\",\n",
    "                \"3123D7E\",\n",
    "                \"3124E4A\",\n",
    "            ],\n",
    "            \"domains\": [32, 38, 8, 44, 14, 50, 20, 26],\n",
    "            \"num_examples_per_domain_per_label\": 2000,\n",
    "            \"pickle_path\": \"/root/csc500-main/datasets/oracle.Run1_framed_2000Examples_stratified_ds.2022A.pkl\",\n",
    "            \"source_or_target_dataset\": \"source\",\n",
    "            \"x_transforms\": [\"unit_mag\"],\n",
    "            \"episode_transforms\": [],\n",
    "            \"domain_prefix\": \"ORACLE.run1_\",\n",
    "        },\n",
    "    ],\n",
    "    \"dataset_seed\": 1337,\n",
    "    \"seed\": 1337,\n",
    "}\n"
   ]
  },
  {
   "cell_type": "code",
   "execution_count": 5,
   "id": "8fa1cc33",
   "metadata": {
    "execution": {
     "iopub.execute_input": "2022-03-21T04:46:35.762357Z",
     "iopub.status.busy": "2022-03-21T04:46:35.757888Z",
     "iopub.status.idle": "2022-03-21T04:46:35.779252Z",
     "shell.execute_reply": "2022-03-21T04:46:35.778568Z"
    },
    "papermill": {
     "duration": 0.046532,
     "end_time": "2022-03-21T04:46:35.779406",
     "exception": false,
     "start_time": "2022-03-21T04:46:35.732874",
     "status": "completed"
    },
    "tags": []
   },
   "outputs": [],
   "source": [
    "# Set this to True if you want to run this template directly\n",
    "STANDALONE = False\n",
    "if STANDALONE:\n",
    "    print(\"parameters not injected, running with standalone_parameters\")\n",
    "    parameters = standalone_parameters\n",
    "\n",
    "if not 'parameters' in locals() and not 'parameters' in globals():\n",
    "    raise Exception(\"Parameter injection failed\")\n",
    "\n",
    "#Use an easy dict for all the parameters\n",
    "p = EasyDict(parameters)\n",
    "\n",
    "if \"x_shape\" not in p:\n",
    "    p.x_shape = [2,256] # Default to this if we dont supply x_shape\n",
    "\n",
    "\n",
    "supplied_keys = set(p.keys())\n",
    "\n",
    "if  supplied_keys != required_parameters:\n",
    "    print(\"Parameters are incorrect\")\n",
    "    if len(supplied_keys - required_parameters)>0: print(\"Shouldn't have:\", str(supplied_keys - required_parameters))\n",
    "    if len(required_parameters - supplied_keys)>0: print(\"Need to have:\", str(required_parameters - supplied_keys))\n",
    "    raise RuntimeError(\"Parameters are incorrect\")"
   ]
  },
  {
   "cell_type": "code",
   "execution_count": 6,
   "id": "3a028d58",
   "metadata": {
    "execution": {
     "iopub.execute_input": "2022-03-21T04:46:35.828142Z",
     "iopub.status.busy": "2022-03-21T04:46:35.827758Z",
     "iopub.status.idle": "2022-03-21T04:46:35.848958Z",
     "shell.execute_reply": "2022-03-21T04:46:35.848171Z"
    },
    "papermill": {
     "duration": 0.044283,
     "end_time": "2022-03-21T04:46:35.849107",
     "exception": false,
     "start_time": "2022-03-21T04:46:35.804824",
     "status": "completed"
    },
    "tags": []
   },
   "outputs": [],
   "source": [
    "###################################\n",
    "# Set the RNGs and make it all deterministic\n",
    "###################################\n",
    "np.random.seed(p.seed)\n",
    "random.seed(p.seed)\n",
    "torch.manual_seed(p.seed)\n",
    "\n",
    "torch.use_deterministic_algorithms(True) "
   ]
  },
  {
   "cell_type": "code",
   "execution_count": 7,
   "id": "b691acf6",
   "metadata": {
    "execution": {
     "iopub.execute_input": "2022-03-21T04:46:35.895197Z",
     "iopub.status.busy": "2022-03-21T04:46:35.894841Z",
     "iopub.status.idle": "2022-03-21T04:46:35.916384Z",
     "shell.execute_reply": "2022-03-21T04:46:35.915592Z"
    },
    "papermill": {
     "duration": 0.044245,
     "end_time": "2022-03-21T04:46:35.916533",
     "exception": false,
     "start_time": "2022-03-21T04:46:35.872288",
     "status": "completed"
    },
    "tags": []
   },
   "outputs": [],
   "source": [
    "###########################################\n",
    "# The stratified datasets honor this\n",
    "###########################################\n",
    "torch.set_default_dtype(eval(p.torch_default_dtype))"
   ]
  },
  {
   "cell_type": "code",
   "execution_count": 8,
   "id": "b5fba671",
   "metadata": {
    "execution": {
     "iopub.execute_input": "2022-03-21T04:46:35.967746Z",
     "iopub.status.busy": "2022-03-21T04:46:35.967307Z",
     "iopub.status.idle": "2022-03-21T04:46:36.021355Z",
     "shell.execute_reply": "2022-03-21T04:46:36.020564Z"
    },
    "papermill": {
     "duration": 0.077526,
     "end_time": "2022-03-21T04:46:36.021506",
     "exception": false,
     "start_time": "2022-03-21T04:46:35.943980",
     "status": "completed"
    },
    "tags": []
   },
   "outputs": [],
   "source": [
    "###################################\n",
    "# Build the network(s)\n",
    "# Note: It's critical to do this AFTER setting the RNG\n",
    "###################################\n",
    "x_net = build_sequential(p.x_net)"
   ]
  },
  {
   "cell_type": "code",
   "execution_count": 9,
   "id": "5d7e61cc",
   "metadata": {
    "execution": {
     "iopub.execute_input": "2022-03-21T04:46:36.070491Z",
     "iopub.status.busy": "2022-03-21T04:46:36.069907Z",
     "iopub.status.idle": "2022-03-21T04:46:36.094299Z",
     "shell.execute_reply": "2022-03-21T04:46:36.093507Z"
    },
    "papermill": {
     "duration": 0.047809,
     "end_time": "2022-03-21T04:46:36.094452",
     "exception": false,
     "start_time": "2022-03-21T04:46:36.046643",
     "status": "completed"
    },
    "tags": []
   },
   "outputs": [],
   "source": [
    "start_time_secs = time.time()"
   ]
  },
  {
   "cell_type": "code",
   "execution_count": 10,
   "id": "c6b67dfd",
   "metadata": {
    "execution": {
     "iopub.execute_input": "2022-03-21T04:46:36.147881Z",
     "iopub.status.busy": "2022-03-21T04:46:36.144278Z",
     "iopub.status.idle": "2022-03-21T04:46:36.167636Z",
     "shell.execute_reply": "2022-03-21T04:46:36.166815Z"
    },
    "papermill": {
     "duration": 0.048586,
     "end_time": "2022-03-21T04:46:36.167787",
     "exception": false,
     "start_time": "2022-03-21T04:46:36.119201",
     "status": "completed"
    },
    "tags": []
   },
   "outputs": [],
   "source": [
    "p.domains_source = []\n",
    "p.domains_target = []\n",
    "\n",
    "\n",
    "train_original_source = []\n",
    "val_original_source   = []\n",
    "test_original_source  = []\n",
    "\n",
    "train_original_target = []\n",
    "val_original_target   = []\n",
    "test_original_target  = []"
   ]
  },
  {
   "cell_type": "code",
   "execution_count": 11,
   "id": "e3d9c3d3",
   "metadata": {
    "execution": {
     "iopub.execute_input": "2022-03-21T04:46:36.215872Z",
     "iopub.status.busy": "2022-03-21T04:46:36.215508Z",
     "iopub.status.idle": "2022-03-21T04:46:36.233630Z",
     "shell.execute_reply": "2022-03-21T04:46:36.232846Z"
    },
    "papermill": {
     "duration": 0.039747,
     "end_time": "2022-03-21T04:46:36.233780",
     "exception": false,
     "start_time": "2022-03-21T04:46:36.194033",
     "status": "completed"
    },
    "tags": []
   },
   "outputs": [],
   "source": [
    "# global_x_transform_func = lambda x: normalize(x.to(torch.get_default_dtype()), \"unit_power\") # unit_power, unit_mag\n",
    "# global_x_transform_func = lambda x: normalize(x, \"unit_power\") # unit_power, unit_mag"
   ]
  },
  {
   "cell_type": "code",
   "execution_count": 12,
   "id": "acb78fd2",
   "metadata": {
    "execution": {
     "iopub.execute_input": "2022-03-21T04:46:36.290580Z",
     "iopub.status.busy": "2022-03-21T04:46:36.286166Z",
     "iopub.status.idle": "2022-03-21T04:46:36.309235Z",
     "shell.execute_reply": "2022-03-21T04:46:36.308443Z"
    },
    "papermill": {
     "duration": 0.050225,
     "end_time": "2022-03-21T04:46:36.309386",
     "exception": false,
     "start_time": "2022-03-21T04:46:36.259161",
     "status": "completed"
    },
    "tags": []
   },
   "outputs": [],
   "source": [
    "def add_dataset(\n",
    "    labels,\n",
    "    domains,\n",
    "    pickle_path,\n",
    "    x_transforms,\n",
    "    episode_transforms,\n",
    "    domain_prefix,\n",
    "    num_examples_per_domain_per_label,\n",
    "    source_or_target_dataset:str,\n",
    "    iterator_seed=p.seed,\n",
    "    dataset_seed=p.dataset_seed,\n",
    "    n_shot=p.n_shot,\n",
    "    n_way=p.n_way,\n",
    "    n_query=p.n_query,\n",
    "    train_val_test_k_factors=(p.train_k_factor,p.val_k_factor,p.test_k_factor),\n",
    "):\n",
    "   \n",
    "    if x_transforms == []: x_transform = None\n",
    "    else: x_transform = get_chained_transform(x_transforms)\n",
    "    \n",
    "    if episode_transforms == []: episode_transform = None\n",
    "    else: raise Exception(\"episode_transforms not implemented\")\n",
    "    \n",
    "    episode_transform = lambda tup, _prefix=domain_prefix: (_prefix + str(tup[0]), tup[1])\n",
    "\n",
    "\n",
    "    eaf = Episodic_Accessor_Factory(\n",
    "        labels=labels,\n",
    "        domains=domains,\n",
    "        num_examples_per_domain_per_label=num_examples_per_domain_per_label,\n",
    "        iterator_seed=iterator_seed,\n",
    "        dataset_seed=dataset_seed,\n",
    "        n_shot=n_shot,\n",
    "        n_way=n_way,\n",
    "        n_query=n_query,\n",
    "        train_val_test_k_factors=train_val_test_k_factors,\n",
    "        pickle_path=pickle_path,\n",
    "        x_transform_func=x_transform,\n",
    "    )\n",
    "\n",
    "    train, val, test = eaf.get_train(), eaf.get_val(), eaf.get_test()\n",
    "    train = Lazy_Iterable_Wrapper(train, episode_transform)\n",
    "    val = Lazy_Iterable_Wrapper(val, episode_transform)\n",
    "    test = Lazy_Iterable_Wrapper(test, episode_transform)\n",
    "\n",
    "    if source_or_target_dataset==\"source\":\n",
    "        train_original_source.append(train)\n",
    "        val_original_source.append(val)\n",
    "        test_original_source.append(test)\n",
    "\n",
    "        p.domains_source.extend(\n",
    "            [domain_prefix + str(u) for u in domains]\n",
    "        )\n",
    "    elif source_or_target_dataset==\"target\":\n",
    "        train_original_target.append(train)\n",
    "        val_original_target.append(val)\n",
    "        test_original_target.append(test)\n",
    "        p.domains_target.extend(\n",
    "            [domain_prefix + str(u) for u in domains]\n",
    "        )\n",
    "    else:\n",
    "        raise Exception(f\"invalid source_or_target_dataset: {source_or_target_dataset}\")\n",
    "    "
   ]
  },
  {
   "cell_type": "code",
   "execution_count": 13,
   "id": "fe266617",
   "metadata": {
    "execution": {
     "iopub.execute_input": "2022-03-21T04:46:36.359208Z",
     "iopub.status.busy": "2022-03-21T04:46:36.358615Z",
     "iopub.status.idle": "2022-03-21T04:47:18.233253Z",
     "shell.execute_reply": "2022-03-21T04:47:18.233929Z"
    },
    "papermill": {
     "duration": 41.899026,
     "end_time": "2022-03-21T04:47:18.234160",
     "exception": false,
     "start_time": "2022-03-21T04:46:36.335134",
     "status": "completed"
    },
    "tags": []
   },
   "outputs": [],
   "source": [
    "for ds in p.datasets:\n",
    "    add_dataset(**ds)"
   ]
  },
  {
   "cell_type": "code",
   "execution_count": 14,
   "id": "b90d65ac",
   "metadata": {
    "execution": {
     "iopub.execute_input": "2022-03-21T04:47:18.287447Z",
     "iopub.status.busy": "2022-03-21T04:47:18.287073Z",
     "iopub.status.idle": "2022-03-21T04:47:18.314353Z",
     "shell.execute_reply": "2022-03-21T04:47:18.313556Z"
    },
    "papermill": {
     "duration": 0.051088,
     "end_time": "2022-03-21T04:47:18.314513",
     "exception": false,
     "start_time": "2022-03-21T04:47:18.263425",
     "status": "completed"
    },
    "tags": []
   },
   "outputs": [],
   "source": [
    "# from steves_utils.CORES.utils import (\n",
    "#     ALL_NODES,\n",
    "#     ALL_NODES_MINIMUM_1000_EXAMPLES,\n",
    "#     ALL_DAYS\n",
    "# )\n",
    "\n",
    "# add_dataset(\n",
    "#     labels=ALL_NODES,\n",
    "#     domains = ALL_DAYS,\n",
    "#     num_examples_per_domain_per_label=100,\n",
    "#     pickle_path=os.path.join(get_datasets_base_path(), \"cores.stratified_ds.2022A.pkl\"),\n",
    "#     source_or_target_dataset=\"target\",\n",
    "#     x_transform_func=global_x_transform_func,\n",
    "#     domain_modifier=lambda u: f\"cores_{u}\"\n",
    "# )"
   ]
  },
  {
   "cell_type": "code",
   "execution_count": 15,
   "id": "76db484d",
   "metadata": {
    "execution": {
     "iopub.execute_input": "2022-03-21T04:47:18.364084Z",
     "iopub.status.busy": "2022-03-21T04:47:18.363712Z",
     "iopub.status.idle": "2022-03-21T04:47:18.386731Z",
     "shell.execute_reply": "2022-03-21T04:47:18.387393Z"
    },
    "papermill": {
     "duration": 0.047118,
     "end_time": "2022-03-21T04:47:18.387606",
     "exception": false,
     "start_time": "2022-03-21T04:47:18.340488",
     "status": "completed"
    },
    "tags": []
   },
   "outputs": [],
   "source": [
    "# from steves_utils.ORACLE.utils_v2 import (\n",
    "#     ALL_DISTANCES_FEET,\n",
    "#     ALL_RUNS,\n",
    "#     ALL_SERIAL_NUMBERS,\n",
    "# )\n",
    "\n",
    "\n",
    "# add_dataset(\n",
    "#     labels=ALL_SERIAL_NUMBERS,\n",
    "#     domains = list(set(ALL_DISTANCES_FEET) - {2,62}),\n",
    "#     num_examples_per_domain_per_label=100,\n",
    "#     pickle_path=os.path.join(get_datasets_base_path(), \"oracle.Run2_framed_2000Examples_stratified_ds.2022A.pkl\"),\n",
    "#     source_or_target_dataset=\"source\",\n",
    "#     x_transform_func=global_x_transform_func,\n",
    "#     domain_modifier=lambda u: f\"oracle1_{u}\"\n",
    "# )\n"
   ]
  },
  {
   "cell_type": "code",
   "execution_count": 16,
   "id": "97dea9d2",
   "metadata": {
    "execution": {
     "iopub.execute_input": "2022-03-21T04:47:18.438837Z",
     "iopub.status.busy": "2022-03-21T04:47:18.438466Z",
     "iopub.status.idle": "2022-03-21T04:47:18.462893Z",
     "shell.execute_reply": "2022-03-21T04:47:18.462082Z"
    },
    "papermill": {
     "duration": 0.047697,
     "end_time": "2022-03-21T04:47:18.463056",
     "exception": false,
     "start_time": "2022-03-21T04:47:18.415359",
     "status": "completed"
    },
    "tags": []
   },
   "outputs": [],
   "source": [
    "# from steves_utils.ORACLE.utils_v2 import (\n",
    "#     ALL_DISTANCES_FEET,\n",
    "#     ALL_RUNS,\n",
    "#     ALL_SERIAL_NUMBERS,\n",
    "# )\n",
    "\n",
    "\n",
    "# add_dataset(\n",
    "#     labels=ALL_SERIAL_NUMBERS,\n",
    "#     domains = list(set(ALL_DISTANCES_FEET) - {2,62,56}),\n",
    "#     num_examples_per_domain_per_label=100,\n",
    "#     pickle_path=os.path.join(get_datasets_base_path(), \"oracle.Run2_framed_2000Examples_stratified_ds.2022A.pkl\"),\n",
    "#     source_or_target_dataset=\"source\",\n",
    "#     x_transform_func=global_x_transform_func,\n",
    "#     domain_modifier=lambda u: f\"oracle2_{u}\"\n",
    "# )"
   ]
  },
  {
   "cell_type": "code",
   "execution_count": 17,
   "id": "6f289866",
   "metadata": {
    "execution": {
     "iopub.execute_input": "2022-03-21T04:47:18.514157Z",
     "iopub.status.busy": "2022-03-21T04:47:18.513786Z",
     "iopub.status.idle": "2022-03-21T04:47:18.536997Z",
     "shell.execute_reply": "2022-03-21T04:47:18.536186Z"
    },
    "papermill": {
     "duration": 0.048045,
     "end_time": "2022-03-21T04:47:18.537160",
     "exception": false,
     "start_time": "2022-03-21T04:47:18.489115",
     "status": "completed"
    },
    "tags": []
   },
   "outputs": [],
   "source": [
    "# add_dataset(\n",
    "#     labels=list(range(19)),\n",
    "#     domains = [0,1,2],\n",
    "#     num_examples_per_domain_per_label=100,\n",
    "#     pickle_path=os.path.join(get_datasets_base_path(), \"metehan.stratified_ds.2022A.pkl\"),\n",
    "#     source_or_target_dataset=\"target\",\n",
    "#     x_transform_func=global_x_transform_func,\n",
    "#     domain_modifier=lambda u: f\"met_{u}\"\n",
    "# )"
   ]
  },
  {
   "cell_type": "code",
   "execution_count": 18,
   "id": "86a863c3",
   "metadata": {
    "execution": {
     "iopub.execute_input": "2022-03-21T04:47:18.591519Z",
     "iopub.status.busy": "2022-03-21T04:47:18.590877Z",
     "iopub.status.idle": "2022-03-21T04:47:18.616048Z",
     "shell.execute_reply": "2022-03-21T04:47:18.615210Z"
    },
    "papermill": {
     "duration": 0.049598,
     "end_time": "2022-03-21T04:47:18.616212",
     "exception": false,
     "start_time": "2022-03-21T04:47:18.566614",
     "status": "completed"
    },
    "tags": []
   },
   "outputs": [],
   "source": [
    "# # from steves_utils.wisig.utils import (\n",
    "# #     ALL_NODES_MINIMUM_100_EXAMPLES,\n",
    "# #     ALL_NODES_MINIMUM_500_EXAMPLES,\n",
    "# #     ALL_NODES_MINIMUM_1000_EXAMPLES,\n",
    "# #     ALL_DAYS\n",
    "# # )\n",
    "\n",
    "# import steves_utils.wisig.utils as wisig\n",
    "\n",
    "\n",
    "# add_dataset(\n",
    "#     labels=wisig.ALL_NODES_MINIMUM_100_EXAMPLES,\n",
    "#     domains = wisig.ALL_DAYS,\n",
    "#     num_examples_per_domain_per_label=100,\n",
    "#     pickle_path=os.path.join(get_datasets_base_path(), \"wisig.node3-19.stratified_ds.2022A.pkl\"),\n",
    "#     source_or_target_dataset=\"target\",\n",
    "#     x_transform_func=global_x_transform_func,\n",
    "#     domain_modifier=lambda u: f\"wisig_{u}\"\n",
    "# )"
   ]
  },
  {
   "cell_type": "code",
   "execution_count": 19,
   "id": "fd5442bc",
   "metadata": {
    "execution": {
     "iopub.execute_input": "2022-03-21T04:47:18.675507Z",
     "iopub.status.busy": "2022-03-21T04:47:18.674931Z",
     "iopub.status.idle": "2022-03-21T04:47:18.696970Z",
     "shell.execute_reply": "2022-03-21T04:47:18.696158Z"
    },
    "papermill": {
     "duration": 0.052735,
     "end_time": "2022-03-21T04:47:18.697134",
     "exception": false,
     "start_time": "2022-03-21T04:47:18.644399",
     "status": "completed"
    },
    "tags": []
   },
   "outputs": [],
   "source": [
    "###################################\n",
    "# Build the dataset\n",
    "###################################\n",
    "train_original_source = Iterable_Aggregator(train_original_source, p.seed)\n",
    "val_original_source = Iterable_Aggregator(val_original_source, p.seed)\n",
    "test_original_source = Iterable_Aggregator(test_original_source, p.seed)\n",
    "\n",
    "\n",
    "train_original_target = Iterable_Aggregator(train_original_target, p.seed)\n",
    "val_original_target = Iterable_Aggregator(val_original_target, p.seed)\n",
    "test_original_target = Iterable_Aggregator(test_original_target, p.seed)\n",
    "\n",
    "# For CNN We only use X and Y. And we only train on the source.\n",
    "# Properly form the data using a transform lambda and Lazy_Iterable_Wrapper. Finally wrap them in a dataloader\n",
    "\n",
    "transform_lambda = lambda ex: ex[1] # Original is (<domain>, <episode>) so we strip down to episode only\n",
    "\n",
    "train_processed_source = Lazy_Iterable_Wrapper(train_original_source, transform_lambda)\n",
    "val_processed_source   = Lazy_Iterable_Wrapper(val_original_source, transform_lambda)\n",
    "test_processed_source  = Lazy_Iterable_Wrapper(test_original_source, transform_lambda)\n",
    "\n",
    "train_processed_target = Lazy_Iterable_Wrapper(train_original_target, transform_lambda)\n",
    "val_processed_target   = Lazy_Iterable_Wrapper(val_original_target, transform_lambda)\n",
    "test_processed_target  = Lazy_Iterable_Wrapper(test_original_target, transform_lambda)\n",
    "\n",
    "datasets = EasyDict({\n",
    "    \"source\": {\n",
    "        \"original\": {\"train\":train_original_source, \"val\":val_original_source, \"test\":test_original_source},\n",
    "        \"processed\": {\"train\":train_processed_source, \"val\":val_processed_source, \"test\":test_processed_source}\n",
    "    },\n",
    "    \"target\": {\n",
    "        \"original\": {\"train\":train_original_target, \"val\":val_original_target, \"test\":test_original_target},\n",
    "        \"processed\": {\"train\":train_processed_target, \"val\":val_processed_target, \"test\":test_processed_target}\n",
    "    },\n",
    "})"
   ]
  },
  {
   "cell_type": "code",
   "execution_count": 20,
   "id": "5b3c01fc",
   "metadata": {
    "execution": {
     "iopub.execute_input": "2022-03-21T04:47:18.751947Z",
     "iopub.status.busy": "2022-03-21T04:47:18.751342Z",
     "iopub.status.idle": "2022-03-21T04:47:33.811451Z",
     "shell.execute_reply": "2022-03-21T04:47:33.810745Z"
    },
    "papermill": {
     "duration": 15.086926,
     "end_time": "2022-03-21T04:47:33.811652",
     "exception": false,
     "start_time": "2022-03-21T04:47:18.724726",
     "status": "completed"
    },
    "tags": []
   },
   "outputs": [
    {
     "name": "stdout",
     "output_type": "stream",
     "text": [
      "{'ORACLE.run1_38', 'ORACLE.run1_50', 'ORACLE.run1_32', 'ORACLE.run1_44', 'ORACLE.run1_26', 'ORACLE.run1_8', 'ORACLE.run1_14', 'ORACLE.run1_20'}\n"
     ]
    },
    {
     "name": "stdout",
     "output_type": "stream",
     "text": [
      "{'CORES_3', 'CORES_5', 'CORES_1', 'CORES_2', 'CORES_4'}\n"
     ]
    },
    {
     "name": "stdout",
     "output_type": "stream",
     "text": [
      "tensor([[[-0.0955,  1.1942, -0.1146,  ..., -0.9840, -0.2675, -0.5732],\n",
      "         [-0.6592, -0.3057,  1.0891,  ...,  0.2484, -1.4617, -0.4872]],\n",
      "\n",
      "        [[-0.4662,  0.7090,  0.5730,  ..., -1.3014, -1.2237, -0.1165],\n",
      "         [-1.1752, -0.3302,  1.1558,  ...,  0.4273, -0.1554,  1.2626]],\n",
      "\n",
      "        [[ 0.6763, -0.3671, -0.7922,  ...,  0.8212,  1.4202,  0.3381],\n",
      "         [ 0.8598,  0.7053, -0.9178,  ..., -0.7826,  0.4831, -1.1980]],\n",
      "\n",
      "        ...,\n",
      "\n",
      "        [[ 1.0255, -0.2498, -1.2227,  ...,  0.6639,  1.0255, -0.6771],\n",
      "         [ 0.5785,  0.7428, -0.3878,  ..., -1.0123, -0.6376, -1.1701]],\n",
      "\n",
      "        [[ 0.0260, -1.0137,  0.2924,  ...,  0.9227,  0.4808,  1.0981],\n",
      "         [ 0.8122,  0.4354, -1.1631,  ..., -0.1235,  1.2996, -0.2339]],\n",
      "\n",
      "        [[ 0.4980,  0.3408, -0.7471,  ..., -0.4718,  1.2779,  1.0616],\n",
      "         [-0.4260,  1.1468, -0.0328,  ..., -1.1141, -0.0590, -0.2556]]])\n"
     ]
    }
   ],
   "source": [
    "from steves_utils.transforms import get_average_magnitude, get_average_power\n",
    "\n",
    "print(set([u for u,_ in val_original_source]))\n",
    "print(set([u for u,_ in val_original_target]))\n",
    "\n",
    "s_x, s_y, q_x, q_y, _ = next(iter(train_processed_source))\n",
    "print(s_x)\n",
    "\n",
    "# for ds in [\n",
    "#     train_processed_source,\n",
    "#     val_processed_source,\n",
    "#     test_processed_source,\n",
    "#     train_processed_target,\n",
    "#     val_processed_target,\n",
    "#     test_processed_target\n",
    "# ]:\n",
    "#     for s_x, s_y, q_x, q_y, _ in ds:\n",
    "#         for X in (s_x, q_x):\n",
    "#             for x in X:\n",
    "#                 assert np.isclose(get_average_magnitude(x.numpy()), 1.0)\n",
    "#                 assert np.isclose(get_average_power(x.numpy()), 1.0)\n",
    "                "
   ]
  },
  {
   "cell_type": "code",
   "execution_count": 21,
   "id": "bbdacba1",
   "metadata": {
    "execution": {
     "iopub.execute_input": "2022-03-21T04:47:33.867668Z",
     "iopub.status.busy": "2022-03-21T04:47:33.867287Z",
     "iopub.status.idle": "2022-03-21T04:47:33.981561Z",
     "shell.execute_reply": "2022-03-21T04:47:33.981925Z"
    },
    "papermill": {
     "duration": 0.141785,
     "end_time": "2022-03-21T04:47:33.982064",
     "exception": false,
     "start_time": "2022-03-21T04:47:33.840279",
     "status": "completed"
    },
    "tags": []
   },
   "outputs": [
    {
     "name": "stdout",
     "output_type": "stream",
     "text": [
      "(2, 256)\n"
     ]
    }
   ],
   "source": [
    "###################################\n",
    "# Build the model\n",
    "###################################\n",
    "# easfsl only wants a tuple for the shape\n",
    "model = Steves_Prototypical_Network(x_net, device=p.device, x_shape=tuple(p.x_shape))\n",
    "optimizer = Adam(params=model.parameters(), lr=p.lr)"
   ]
  },
  {
   "cell_type": "code",
   "execution_count": 22,
   "id": "22b39ac5",
   "metadata": {
    "execution": {
     "iopub.execute_input": "2022-03-21T04:47:34.054134Z",
     "iopub.status.busy": "2022-03-21T04:47:34.053516Z",
     "iopub.status.idle": "2022-03-21T05:15:58.402747Z",
     "shell.execute_reply": "2022-03-21T05:15:58.402404Z"
    },
    "papermill": {
     "duration": 1704.398005,
     "end_time": "2022-03-21T05:15:58.402834",
     "exception": false,
     "start_time": "2022-03-21T04:47:34.004829",
     "status": "completed"
    },
    "tags": []
   },
   "outputs": [
    {
     "name": "stdout",
     "output_type": "stream",
     "text": [
      "epoch: 1, [batch: 1 / 6720], examples_per_second: 34.1389, train_label_loss: 2.9752, \n"
     ]
    },
    {
     "name": "stdout",
     "output_type": "stream",
     "text": [
      "epoch: 1, [batch: 672 / 6720], examples_per_second: 2632.6742, train_label_loss: 1.2066, \n"
     ]
    },
    {
     "name": "stdout",
     "output_type": "stream",
     "text": [
      "epoch: 1, [batch: 1344 / 6720], examples_per_second: 2406.1218, train_label_loss: 0.7028, \n"
     ]
    },
    {
     "name": "stdout",
     "output_type": "stream",
     "text": [
      "epoch: 1, [batch: 2016 / 6720], examples_per_second: 2302.9313, train_label_loss: 0.6098, \n"
     ]
    },
    {
     "name": "stdout",
     "output_type": "stream",
     "text": [
      "epoch: 1, [batch: 2688 / 6720], examples_per_second: 2399.5966, train_label_loss: 0.7252, \n"
     ]
    },
    {
     "name": "stdout",
     "output_type": "stream",
     "text": [
      "epoch: 1, [batch: 3360 / 6720], examples_per_second: 2619.6311, train_label_loss: 0.7617, \n"
     ]
    },
    {
     "name": "stdout",
     "output_type": "stream",
     "text": [
      "epoch: 1, [batch: 4032 / 6720], examples_per_second: 2581.1553, train_label_loss: 0.5823, \n"
     ]
    },
    {
     "name": "stdout",
     "output_type": "stream",
     "text": [
      "epoch: 1, [batch: 4704 / 6720], examples_per_second: 2565.9692, train_label_loss: 0.3169, \n"
     ]
    },
    {
     "name": "stdout",
     "output_type": "stream",
     "text": [
      "epoch: 1, [batch: 5376 / 6720], examples_per_second: 2546.3948, train_label_loss: 0.7134, \n"
     ]
    },
    {
     "name": "stdout",
     "output_type": "stream",
     "text": [
      "epoch: 1, [batch: 6048 / 6720], examples_per_second: 2588.3823, train_label_loss: 0.4008, \n"
     ]
    },
    {
     "name": "stdout",
     "output_type": "stream",
     "text": [
      "=============================================================\n",
      "epoch: 1, source_val_acc_label: 0.6384, target_val_acc_label: 0.5210, source_val_label_loss: 50.2479, target_val_label_loss: 302.5573, \n",
      "=============================================================\n"
     ]
    },
    {
     "name": "stdout",
     "output_type": "stream",
     "text": [
      "New best\n"
     ]
    },
    {
     "name": "stdout",
     "output_type": "stream",
     "text": [
      "epoch: 2, [batch: 1 / 6720], examples_per_second: 2.5202, train_label_loss: 71.1804, \n"
     ]
    },
    {
     "name": "stdout",
     "output_type": "stream",
     "text": [
      "epoch: 2, [batch: 672 / 6720], examples_per_second: 2937.7540, train_label_loss: 0.4903, \n"
     ]
    },
    {
     "name": "stdout",
     "output_type": "stream",
     "text": [
      "epoch: 2, [batch: 1344 / 6720], examples_per_second: 2997.6898, train_label_loss: 0.3579, \n"
     ]
    },
    {
     "name": "stdout",
     "output_type": "stream",
     "text": [
      "epoch: 2, [batch: 2016 / 6720], examples_per_second: 2947.8084, train_label_loss: 1.0303, \n"
     ]
    },
    {
     "name": "stdout",
     "output_type": "stream",
     "text": [
      "epoch: 2, [batch: 2688 / 6720], examples_per_second: 3023.4416, train_label_loss: 0.8005, \n"
     ]
    },
    {
     "name": "stdout",
     "output_type": "stream",
     "text": [
      "epoch: 2, [batch: 3360 / 6720], examples_per_second: 3316.1228, train_label_loss: 0.3773, \n"
     ]
    },
    {
     "name": "stdout",
     "output_type": "stream",
     "text": [
      "epoch: 2, [batch: 4032 / 6720], examples_per_second: 3421.9934, train_label_loss: 0.9030, \n"
     ]
    },
    {
     "name": "stdout",
     "output_type": "stream",
     "text": [
      "epoch: 2, [batch: 4704 / 6720], examples_per_second: 3153.5549, train_label_loss: 0.5715, \n"
     ]
    },
    {
     "name": "stdout",
     "output_type": "stream",
     "text": [
      "epoch: 2, [batch: 5376 / 6720], examples_per_second: 3016.9118, train_label_loss: 0.6734, \n"
     ]
    },
    {
     "name": "stdout",
     "output_type": "stream",
     "text": [
      "epoch: 2, [batch: 6048 / 6720], examples_per_second: 3002.8833, train_label_loss: 0.4504, \n"
     ]
    },
    {
     "name": "stdout",
     "output_type": "stream",
     "text": [
      "=============================================================\n",
      "epoch: 2, source_val_acc_label: 0.8188, target_val_acc_label: 0.6721, source_val_label_loss: 0.5055, target_val_label_loss: 32.0976, \n",
      "=============================================================\n"
     ]
    },
    {
     "name": "stdout",
     "output_type": "stream",
     "text": [
      "New best\n"
     ]
    },
    {
     "name": "stdout",
     "output_type": "stream",
     "text": [
      "epoch: 3, [batch: 1 / 6720], examples_per_second: 2.8320, train_label_loss: 0.6363, \n"
     ]
    },
    {
     "name": "stdout",
     "output_type": "stream",
     "text": [
      "epoch: 3, [batch: 672 / 6720], examples_per_second: 2983.6955, train_label_loss: 0.1827, \n"
     ]
    },
    {
     "name": "stdout",
     "output_type": "stream",
     "text": [
      "epoch: 3, [batch: 1344 / 6720], examples_per_second: 2870.5641, train_label_loss: 0.4586, \n"
     ]
    },
    {
     "name": "stdout",
     "output_type": "stream",
     "text": [
      "epoch: 3, [batch: 2016 / 6720], examples_per_second: 3116.4496, train_label_loss: 0.2593, \n"
     ]
    },
    {
     "name": "stdout",
     "output_type": "stream",
     "text": [
      "epoch: 3, [batch: 2688 / 6720], examples_per_second: 2729.6635, train_label_loss: 0.4283, \n"
     ]
    },
    {
     "name": "stdout",
     "output_type": "stream",
     "text": [
      "epoch: 3, [batch: 3360 / 6720], examples_per_second: 2892.3579, train_label_loss: 0.9415, \n"
     ]
    },
    {
     "name": "stdout",
     "output_type": "stream",
     "text": [
      "epoch: 3, [batch: 4032 / 6720], examples_per_second: 2939.4914, train_label_loss: 0.6835, \n"
     ]
    },
    {
     "name": "stdout",
     "output_type": "stream",
     "text": [
      "epoch: 3, [batch: 4704 / 6720], examples_per_second: 2824.5177, train_label_loss: 0.2133, \n"
     ]
    },
    {
     "name": "stdout",
     "output_type": "stream",
     "text": [
      "epoch: 3, [batch: 5376 / 6720], examples_per_second: 2625.3963, train_label_loss: 0.3164, \n"
     ]
    },
    {
     "name": "stdout",
     "output_type": "stream",
     "text": [
      "epoch: 3, [batch: 6048 / 6720], examples_per_second: 2624.3819, train_label_loss: 0.0990, \n"
     ]
    },
    {
     "name": "stdout",
     "output_type": "stream",
     "text": [
      "=============================================================\n",
      "epoch: 3, source_val_acc_label: 0.8543, target_val_acc_label: 0.7444, source_val_label_loss: 0.4060, target_val_label_loss: 42.1754, \n",
      "=============================================================\n"
     ]
    },
    {
     "name": "stdout",
     "output_type": "stream",
     "text": [
      "New best\n"
     ]
    },
    {
     "name": "stdout",
     "output_type": "stream",
     "text": [
      "epoch: 4, [batch: 1 / 6720], examples_per_second: 2.1307, train_label_loss: 0.1271, \n"
     ]
    },
    {
     "name": "stdout",
     "output_type": "stream",
     "text": [
      "epoch: 4, [batch: 672 / 6720], examples_per_second: 2469.9705, train_label_loss: 0.1536, \n"
     ]
    },
    {
     "name": "stdout",
     "output_type": "stream",
     "text": [
      "epoch: 4, [batch: 1344 / 6720], examples_per_second: 2654.3062, train_label_loss: 0.8748, \n"
     ]
    },
    {
     "name": "stdout",
     "output_type": "stream",
     "text": [
      "epoch: 4, [batch: 2016 / 6720], examples_per_second: 2654.6398, train_label_loss: 0.5233, \n"
     ]
    },
    {
     "name": "stdout",
     "output_type": "stream",
     "text": [
      "epoch: 4, [batch: 2688 / 6720], examples_per_second: 2482.5324, train_label_loss: 0.4475, \n"
     ]
    },
    {
     "name": "stdout",
     "output_type": "stream",
     "text": [
      "epoch: 4, [batch: 3360 / 6720], examples_per_second: 2582.1843, train_label_loss: 0.2698, \n"
     ]
    },
    {
     "name": "stdout",
     "output_type": "stream",
     "text": [
      "epoch: 4, [batch: 4032 / 6720], examples_per_second: 2620.3631, train_label_loss: 0.5863, \n"
     ]
    },
    {
     "name": "stdout",
     "output_type": "stream",
     "text": [
      "epoch: 4, [batch: 4704 / 6720], examples_per_second: 2860.4686, train_label_loss: 0.4775, \n"
     ]
    },
    {
     "name": "stdout",
     "output_type": "stream",
     "text": [
      "epoch: 4, [batch: 5376 / 6720], examples_per_second: 2640.3365, train_label_loss: 0.2324, \n"
     ]
    },
    {
     "name": "stdout",
     "output_type": "stream",
     "text": [
      "epoch: 4, [batch: 6048 / 6720], examples_per_second: 2608.7660, train_label_loss: 0.3597, \n"
     ]
    },
    {
     "name": "stdout",
     "output_type": "stream",
     "text": [
      "=============================================================\n",
      "epoch: 4, source_val_acc_label: 0.8443, target_val_acc_label: 0.7378, source_val_label_loss: 0.4247, target_val_label_loss: 59.1104, \n",
      "=============================================================\n"
     ]
    },
    {
     "name": "stdout",
     "output_type": "stream",
     "text": [
      "epoch: 5, [batch: 1 / 6720], examples_per_second: 2.3381, train_label_loss: 0.0885, \n"
     ]
    },
    {
     "name": "stdout",
     "output_type": "stream",
     "text": [
      "epoch: 5, [batch: 672 / 6720], examples_per_second: 2920.2611, train_label_loss: 0.1943, \n"
     ]
    },
    {
     "name": "stdout",
     "output_type": "stream",
     "text": [
      "epoch: 5, [batch: 1344 / 6720], examples_per_second: 2654.5037, train_label_loss: 0.4985, \n"
     ]
    },
    {
     "name": "stdout",
     "output_type": "stream",
     "text": [
      "epoch: 5, [batch: 2016 / 6720], examples_per_second: 2591.0460, train_label_loss: 0.6764, \n"
     ]
    },
    {
     "name": "stdout",
     "output_type": "stream",
     "text": [
      "epoch: 5, [batch: 2688 / 6720], examples_per_second: 2554.3234, train_label_loss: 0.3034, \n"
     ]
    },
    {
     "name": "stdout",
     "output_type": "stream",
     "text": [
      "epoch: 5, [batch: 3360 / 6720], examples_per_second: 2589.9591, train_label_loss: 0.1060, \n"
     ]
    },
    {
     "name": "stdout",
     "output_type": "stream",
     "text": [
      "epoch: 5, [batch: 4032 / 6720], examples_per_second: 2606.5086, train_label_loss: 0.1997, \n"
     ]
    },
    {
     "name": "stdout",
     "output_type": "stream",
     "text": [
      "epoch: 5, [batch: 4704 / 6720], examples_per_second: 2651.4014, train_label_loss: 0.1060, \n"
     ]
    },
    {
     "name": "stdout",
     "output_type": "stream",
     "text": [
      "epoch: 5, [batch: 5376 / 6720], examples_per_second: 2350.4253, train_label_loss: 0.5855, \n"
     ]
    },
    {
     "name": "stdout",
     "output_type": "stream",
     "text": [
      "epoch: 5, [batch: 6048 / 6720], examples_per_second: 2334.7867, train_label_loss: 0.3096, \n"
     ]
    },
    {
     "name": "stdout",
     "output_type": "stream",
     "text": [
      "=============================================================\n",
      "epoch: 5, source_val_acc_label: 0.8573, target_val_acc_label: 0.7157, source_val_label_loss: 0.4001, target_val_label_loss: 76.1042, \n",
      "=============================================================\n"
     ]
    },
    {
     "name": "stdout",
     "output_type": "stream",
     "text": [
      "epoch: 6, [batch: 1 / 6720], examples_per_second: 2.2456, train_label_loss: 0.2942, \n"
     ]
    },
    {
     "name": "stdout",
     "output_type": "stream",
     "text": [
      "epoch: 6, [batch: 672 / 6720], examples_per_second: 2623.3130, train_label_loss: 0.6309, \n"
     ]
    },
    {
     "name": "stdout",
     "output_type": "stream",
     "text": [
      "epoch: 6, [batch: 1344 / 6720], examples_per_second: 2883.1087, train_label_loss: 0.4930, \n"
     ]
    },
    {
     "name": "stdout",
     "output_type": "stream",
     "text": [
      "epoch: 6, [batch: 2016 / 6720], examples_per_second: 3005.9440, train_label_loss: 0.1450, \n"
     ]
    },
    {
     "name": "stdout",
     "output_type": "stream",
     "text": [
      "epoch: 6, [batch: 2688 / 6720], examples_per_second: 2998.9365, train_label_loss: 0.1076, \n"
     ]
    },
    {
     "name": "stdout",
     "output_type": "stream",
     "text": [
      "epoch: 6, [batch: 3360 / 6720], examples_per_second: 2948.4409, train_label_loss: 0.1274, \n"
     ]
    },
    {
     "name": "stdout",
     "output_type": "stream",
     "text": [
      "epoch: 6, [batch: 4032 / 6720], examples_per_second: 2995.9584, train_label_loss: 0.4782, \n"
     ]
    },
    {
     "name": "stdout",
     "output_type": "stream",
     "text": [
      "epoch: 6, [batch: 4704 / 6720], examples_per_second: 3086.9024, train_label_loss: 0.2840, \n"
     ]
    },
    {
     "name": "stdout",
     "output_type": "stream",
     "text": [
      "epoch: 6, [batch: 5376 / 6720], examples_per_second: 2630.0630, train_label_loss: 0.3669, \n"
     ]
    },
    {
     "name": "stdout",
     "output_type": "stream",
     "text": [
      "epoch: 6, [batch: 6048 / 6720], examples_per_second: 2638.5568, train_label_loss: 0.1377, \n"
     ]
    },
    {
     "name": "stdout",
     "output_type": "stream",
     "text": [
      "=============================================================\n",
      "epoch: 6, source_val_acc_label: 0.8843, target_val_acc_label: 0.7405, source_val_label_loss: 0.3239, target_val_label_loss: 90.1390, \n",
      "=============================================================\n"
     ]
    },
    {
     "name": "stdout",
     "output_type": "stream",
     "text": [
      "epoch: 7, [batch: 1 / 6720], examples_per_second: 2.3824, train_label_loss: 0.0688, \n"
     ]
    },
    {
     "name": "stdout",
     "output_type": "stream",
     "text": [
      "epoch: 7, [batch: 672 / 6720], examples_per_second: 2641.8978, train_label_loss: 0.4461, \n"
     ]
    },
    {
     "name": "stdout",
     "output_type": "stream",
     "text": [
      "epoch: 7, [batch: 1344 / 6720], examples_per_second: 2752.4978, train_label_loss: 0.1728, \n"
     ]
    },
    {
     "name": "stdout",
     "output_type": "stream",
     "text": [
      "epoch: 7, [batch: 2016 / 6720], examples_per_second: 2936.8448, train_label_loss: 0.3303, \n"
     ]
    },
    {
     "name": "stdout",
     "output_type": "stream",
     "text": [
      "epoch: 7, [batch: 2688 / 6720], examples_per_second: 2943.4812, train_label_loss: 0.4765, \n"
     ]
    },
    {
     "name": "stdout",
     "output_type": "stream",
     "text": [
      "epoch: 7, [batch: 3360 / 6720], examples_per_second: 2988.3345, train_label_loss: 0.6996, \n"
     ]
    },
    {
     "name": "stdout",
     "output_type": "stream",
     "text": [
      "epoch: 7, [batch: 4032 / 6720], examples_per_second: 2925.9011, train_label_loss: 0.1322, \n"
     ]
    },
    {
     "name": "stdout",
     "output_type": "stream",
     "text": [
      "epoch: 7, [batch: 4704 / 6720], examples_per_second: 3083.9161, train_label_loss: 0.2001, \n"
     ]
    },
    {
     "name": "stdout",
     "output_type": "stream",
     "text": [
      "epoch: 7, [batch: 5376 / 6720], examples_per_second: 2621.2436, train_label_loss: 0.2023, \n"
     ]
    },
    {
     "name": "stdout",
     "output_type": "stream",
     "text": [
      "epoch: 7, [batch: 6048 / 6720], examples_per_second: 2603.1315, train_label_loss: 0.1613, \n"
     ]
    },
    {
     "name": "stdout",
     "output_type": "stream",
     "text": [
      "=============================================================\n",
      "epoch: 7, source_val_acc_label: 0.8799, target_val_acc_label: 0.7413, source_val_label_loss: 0.3302, target_val_label_loss: 121.2761, \n",
      "=============================================================\n"
     ]
    },
    {
     "name": "stdout",
     "output_type": "stream",
     "text": [
      "Patience (3) exhausted\n"
     ]
    }
   ],
   "source": [
    "###################################\n",
    "# train\n",
    "###################################\n",
    "jig = PTN_Train_Eval_Test_Jig(model, p.BEST_MODEL_PATH, p.device)\n",
    "\n",
    "jig.train(\n",
    "    train_iterable=datasets.source.processed.train,\n",
    "    source_val_iterable=datasets.source.processed.val,\n",
    "    target_val_iterable=datasets.target.processed.val,\n",
    "    num_epochs=p.n_epoch,\n",
    "    num_logs_per_epoch=p.NUM_LOGS_PER_EPOCH,\n",
    "    patience=p.patience,\n",
    "    optimizer=optimizer,\n",
    "    criteria_for_best=p.criteria_for_best,\n",
    ")"
   ]
  },
  {
   "cell_type": "code",
   "execution_count": 23,
   "id": "31e8fabf",
   "metadata": {
    "execution": {
     "iopub.execute_input": "2022-03-21T05:15:58.497660Z",
     "iopub.status.busy": "2022-03-21T05:15:58.497291Z",
     "iopub.status.idle": "2022-03-21T05:15:58.530243Z",
     "shell.execute_reply": "2022-03-21T05:15:58.529564Z"
    },
    "papermill": {
     "duration": 0.082829,
     "end_time": "2022-03-21T05:15:58.530405",
     "exception": false,
     "start_time": "2022-03-21T05:15:58.447576",
     "status": "completed"
    },
    "tags": []
   },
   "outputs": [],
   "source": [
    "total_experiment_time_secs = time.time() - start_time_secs"
   ]
  },
  {
   "cell_type": "code",
   "execution_count": 24,
   "id": "87b9595b",
   "metadata": {
    "execution": {
     "iopub.execute_input": "2022-03-21T05:15:58.633539Z",
     "iopub.status.busy": "2022-03-21T05:15:58.633141Z",
     "iopub.status.idle": "2022-03-21T05:19:37.255353Z",
     "shell.execute_reply": "2022-03-21T05:19:37.256069Z"
    },
    "papermill": {
     "duration": 218.675825,
     "end_time": "2022-03-21T05:19:37.256309",
     "exception": false,
     "start_time": "2022-03-21T05:15:58.580484",
     "status": "completed"
    },
    "tags": []
   },
   "outputs": [],
   "source": [
    "###################################\n",
    "# Evaluate the model\n",
    "###################################\n",
    "source_test_label_accuracy, source_test_label_loss = jig.test(datasets.source.processed.test)\n",
    "target_test_label_accuracy, target_test_label_loss = jig.test(datasets.target.processed.test)\n",
    "\n",
    "source_val_label_accuracy, source_val_label_loss = jig.test(datasets.source.processed.val)\n",
    "target_val_label_accuracy, target_val_label_loss = jig.test(datasets.target.processed.val)\n",
    "\n",
    "history = jig.get_history()\n",
    "\n",
    "total_epochs_trained = len(history[\"epoch_indices\"])\n",
    "\n",
    "val_dl = Iterable_Aggregator((datasets.source.original.val,datasets.target.original.val))\n",
    "\n",
    "confusion = ptn_confusion_by_domain_over_dataloader(model, p.device, val_dl)\n",
    "per_domain_accuracy = per_domain_accuracy_from_confusion(confusion)\n",
    "\n",
    "# Add a key to per_domain_accuracy for if it was a source domain\n",
    "for domain, accuracy in per_domain_accuracy.items():\n",
    "    per_domain_accuracy[domain] = {\n",
    "        \"accuracy\": accuracy,\n",
    "        \"source?\": domain in p.domains_source\n",
    "    }\n",
    "\n",
    "# Do an independent accuracy assesment JUST TO BE SURE!\n",
    "# _source_test_label_accuracy = independent_accuracy_assesment(model, datasets.source.processed.test, p.device)\n",
    "# _target_test_label_accuracy = independent_accuracy_assesment(model, datasets.target.processed.test, p.device)\n",
    "# _source_val_label_accuracy = independent_accuracy_assesment(model, datasets.source.processed.val, p.device)\n",
    "# _target_val_label_accuracy = independent_accuracy_assesment(model, datasets.target.processed.val, p.device)\n",
    "\n",
    "# assert(_source_test_label_accuracy == source_test_label_accuracy)\n",
    "# assert(_target_test_label_accuracy == target_test_label_accuracy)\n",
    "# assert(_source_val_label_accuracy == source_val_label_accuracy)\n",
    "# assert(_target_val_label_accuracy == target_val_label_accuracy)\n",
    "\n",
    "experiment = {\n",
    "    \"experiment_name\": p.experiment_name,\n",
    "    \"parameters\": dict(p),\n",
    "    \"results\": {\n",
    "        \"source_test_label_accuracy\": source_test_label_accuracy,\n",
    "        \"source_test_label_loss\": source_test_label_loss,\n",
    "        \"target_test_label_accuracy\": target_test_label_accuracy,\n",
    "        \"target_test_label_loss\": target_test_label_loss,\n",
    "        \"source_val_label_accuracy\": source_val_label_accuracy,\n",
    "        \"source_val_label_loss\": source_val_label_loss,\n",
    "        \"target_val_label_accuracy\": target_val_label_accuracy,\n",
    "        \"target_val_label_loss\": target_val_label_loss,\n",
    "        \"total_epochs_trained\": total_epochs_trained,\n",
    "        \"total_experiment_time_secs\": total_experiment_time_secs,\n",
    "        \"confusion\": confusion,\n",
    "        \"per_domain_accuracy\": per_domain_accuracy,\n",
    "    },\n",
    "    \"history\": history,\n",
    "    \"dataset_metrics\": get_dataset_metrics(datasets, \"ptn\"),\n",
    "}"
   ]
  },
  {
   "cell_type": "code",
   "execution_count": 25,
   "id": "54a21829",
   "metadata": {
    "execution": {
     "iopub.execute_input": "2022-03-21T05:19:37.356012Z",
     "iopub.status.busy": "2022-03-21T05:19:37.355599Z",
     "iopub.status.idle": "2022-03-21T05:19:37.578445Z",
     "shell.execute_reply": "2022-03-21T05:19:37.577920Z"
    },
    "papermill": {
     "duration": 0.27233,
     "end_time": "2022-03-21T05:19:37.578585",
     "exception": false,
     "start_time": "2022-03-21T05:19:37.306255",
     "status": "completed"
    },
    "tags": []
   },
   "outputs": [
    {
     "data": {
      "image/png": "[encoded data removed]",
      "text/plain": [
       "<Figure size 1080x504 with 1 Axes>"
      ]
     },
     "metadata": {
      "needs_background": "light"
     },
     "output_type": "display_data"
    }
   ],
   "source": [
    "ax = get_loss_curve(experiment)\n",
    "plt.show()"
   ]
  },
  {
   "cell_type": "code",
   "execution_count": 26,
   "id": "fd8a0f60",
   "metadata": {
    "execution": {
     "iopub.execute_input": "2022-03-21T05:19:37.677839Z",
     "iopub.status.busy": "2022-03-21T05:19:37.677229Z",
     "iopub.status.idle": "2022-03-21T05:19:38.069214Z",
     "shell.execute_reply": "2022-03-21T05:19:38.069511Z"
    },
    "papermill": {
     "duration": 0.440754,
     "end_time": "2022-03-21T05:19:38.069604",
     "exception": false,
     "start_time": "2022-03-21T05:19:37.628850",
     "status": "completed"
    },
    "tags": []
   },
   "outputs": [
    {
     "data": {
      "text/plain": [
       "<AxesSubplot:title={'center':'Results'}>"
      ]
     },
     "execution_count": 26,
     "metadata": {},
     "output_type": "execute_result"
    },
    {
     "data": {
      "image/png": "[encoded data removed]",
      "text/plain": [
       "<Figure size 1080x504 with 1 Axes>"
      ]
     },
     "metadata": {
      "needs_background": "light"
     },
     "output_type": "display_data"
    }
   ],
   "source": [
    "get_results_table(experiment)"
   ]
  },
  {
   "cell_type": "code",
   "execution_count": 27,
   "id": "cf8dc689",
   "metadata": {
    "execution": {
     "iopub.execute_input": "2022-03-21T05:19:38.168675Z",
     "iopub.status.busy": "2022-03-21T05:19:38.168308Z",
     "iopub.status.idle": "2022-03-21T05:19:38.444246Z",
     "shell.execute_reply": "2022-03-21T05:19:38.443557Z"
    },
    "papermill": {
     "duration": 0.327033,
     "end_time": "2022-03-21T05:19:38.444411",
     "exception": false,
     "start_time": "2022-03-21T05:19:38.117378",
     "status": "completed"
    },
    "tags": []
   },
   "outputs": [
    {
     "data": {
      "text/plain": [
       "<AxesSubplot:title={'center':'Per Domain Validation Accuracy'}, xlabel='domain'>"
      ]
     },
     "execution_count": 27,
     "metadata": {},
     "output_type": "execute_result"
    },
    {
     "data": {
      "image/png": "[encoded data removed]",
      "text/plain": [
       "<Figure size 1080x504 with 1 Axes>"
      ]
     },
     "metadata": {
      "needs_background": "light"
     },
     "output_type": "display_data"
    }
   ],
   "source": [
    "get_domain_accuracies(experiment)"
   ]
  },
  {
   "cell_type": "code",
   "execution_count": 28,
   "id": "a74ae082",
   "metadata": {
    "execution": {
     "iopub.execute_input": "2022-03-21T05:19:38.549653Z",
     "iopub.status.busy": "2022-03-21T05:19:38.549280Z",
     "iopub.status.idle": "2022-03-21T05:19:38.577062Z",
     "shell.execute_reply": "2022-03-21T05:19:38.576241Z"
    },
    "papermill": {
     "duration": 0.080933,
     "end_time": "2022-03-21T05:19:38.577222",
     "exception": false,
     "start_time": "2022-03-21T05:19:38.496289",
     "status": "completed"
    },
    "tags": []
   },
   "outputs": [
    {
     "name": "stdout",
     "output_type": "stream",
     "text": [
      "Source Test Label Accuracy: 0.8610677083333333 Target Test Label Accuracy: 0.7320426487093153\n",
      "Source Val Label Accuracy: 0.8543294270833334 Target Val Label Accuracy: 0.7443992579908676\n"
     ]
    }
   ],
   "source": [
    "print(\"Source Test Label Accuracy:\", experiment[\"results\"][\"source_test_label_accuracy\"], \"Target Test Label Accuracy:\", experiment[\"results\"][\"target_test_label_accuracy\"])\n",
    "print(\"Source Val Label Accuracy:\", experiment[\"results\"][\"source_val_label_accuracy\"], \"Target Val Label Accuracy:\", experiment[\"results\"][\"target_val_label_accuracy\"])"
   ]
  },
  {
   "cell_type": "code",
   "execution_count": 29,
   "id": "dacca602",
   "metadata": {
    "execution": {
     "iopub.execute_input": "2022-03-21T05:19:38.683185Z",
     "iopub.status.busy": "2022-03-21T05:19:38.682823Z",
     "iopub.status.idle": "2022-03-21T05:19:38.708710Z",
     "shell.execute_reply": "2022-03-21T05:19:38.709386Z"
    },
    "papermill": {
     "duration": 0.078263,
     "end_time": "2022-03-21T05:19:38.709570",
     "exception": false,
     "start_time": "2022-03-21T05:19:38.631307",
     "status": "completed"
    },
    "tags": [
     "experiment_json"
    ]
   },
   "outputs": [
    {
     "data": {
      "text/plain": [
       "'{\"experiment_name\": \"tl_1v2:cores-oracle.run1.framed\", \"parameters\": {\"experiment_name\": \"tl_1v2:cores-oracle.run1.framed\", \"device\": \"cuda\", \"lr\": 0.0001, \"n_shot\": 3, \"n_query\": 2, \"train_k_factor\": 3, \"val_k_factor\": 2, \"test_k_factor\": 2, \"torch_default_dtype\": \"torch.float32\", \"n_epoch\": 50, \"patience\": 3, \"criteria_for_best\": \"target_accuracy\", \"x_net\": [{\"class\": \"nnReshape\", \"kargs\": {\"shape\": [-1, 1, 2, 256]}}, {\"class\": \"Conv2d\", \"kargs\": {\"in_channels\": 1, \"out_channels\": 256, \"kernel_size\": [1, 7], \"bias\": false, \"padding\": [0, 3]}}, {\"class\": \"ReLU\", \"kargs\": {\"inplace\": true}}, {\"class\": \"BatchNorm2d\", \"kargs\": {\"num_features\": 256}}, {\"class\": \"Conv2d\", \"kargs\": {\"in_channels\": 256, \"out_channels\": 80, \"kernel_size\": [2, 7], \"bias\": true, \"padding\": [0, 3]}}, {\"class\": \"ReLU\", \"kargs\": {\"inplace\": true}}, {\"class\": \"BatchNorm2d\", \"kargs\": {\"num_features\": 80}}, {\"class\": \"Flatten\", \"kargs\": {}}, {\"class\": \"Linear\", \"kargs\": {\"in_features\": 20480, \"out_features\": 256}}, {\"class\": \"ReLU\", \"kargs\": {\"inplace\": true}}, {\"class\": \"BatchNorm1d\", \"kargs\": {\"num_features\": 256}}, {\"class\": \"Linear\", \"kargs\": {\"in_features\": 256, \"out_features\": 256}}], \"NUM_LOGS_PER_EPOCH\": 10, \"BEST_MODEL_PATH\": \"./best_model.pth\", \"n_way\": 16, \"datasets\": [{\"labels\": [\"1-10.\", \"1-11.\", \"1-15.\", \"1-16.\", \"1-17.\", \"1-18.\", \"1-19.\", \"10-4.\", \"10-7.\", \"11-1.\", \"11-14.\", \"11-17.\", \"11-20.\", \"11-7.\", \"13-20.\", \"13-8.\", \"14-10.\", \"14-11.\", \"14-14.\", \"14-7.\", \"15-1.\", \"15-20.\", \"16-1.\", \"16-16.\", \"17-10.\", \"17-11.\", \"17-2.\", \"19-1.\", \"19-16.\", \"19-19.\", \"19-20.\", \"19-3.\", \"2-10.\", \"2-11.\", \"2-17.\", \"2-18.\", \"2-20.\", \"2-3.\", \"2-4.\", \"2-5.\", \"2-6.\", \"2-7.\", \"2-8.\", \"3-13.\", \"3-18.\", \"3-3.\", \"4-1.\", \"4-10.\", \"4-11.\", \"4-19.\", \"5-5.\", \"6-15.\", \"7-10.\", \"7-14.\", \"8-18.\", \"8-20.\", \"8-3.\", \"8-8.\"], \"domains\": [1, 2, 3, 4, 5], \"num_examples_per_domain_per_label\": -1, \"pickle_path\": \"/root/csc500-main/datasets/cores.stratified_ds.2022A.pkl\", \"source_or_target_dataset\": \"target\", \"x_transforms\": [\"unit_mag\"], \"episode_transforms\": [], \"domain_prefix\": \"CORES_\"}, {\"labels\": [\"3123D52\", \"3123D65\", \"3123D79\", \"3123D80\", \"3123D54\", \"3123D70\", \"3123D7B\", \"3123D89\", \"3123D58\", \"3123D76\", \"3123D7D\", \"3123EFE\", \"3123D64\", \"3123D78\", \"3123D7E\", \"3124E4A\"], \"domains\": [32, 38, 8, 44, 14, 50, 20, 26], \"num_examples_per_domain_per_label\": 2000, \"pickle_path\": \"/root/csc500-main/datasets/oracle.Run1_framed_2000Examples_stratified_ds.2022A.pkl\", \"source_or_target_dataset\": \"source\", \"x_transforms\": [\"unit_mag\"], \"episode_transforms\": [], \"domain_prefix\": \"ORACLE.run1_\"}], \"dataset_seed\": 1337, \"seed\": 1337, \"x_shape\": [2, 256], \"domains_source\": [\"ORACLE.run1_32\", \"ORACLE.run1_38\", \"ORACLE.run1_8\", \"ORACLE.run1_44\", \"ORACLE.run1_14\", \"ORACLE.run1_50\", \"ORACLE.run1_20\", \"ORACLE.run1_26\"], \"domains_target\": [\"CORES_1\", \"CORES_2\", \"CORES_3\", \"CORES_4\", \"CORES_5\"]}, \"results\": {\"source_test_label_accuracy\": 0.8610677083333333, \"source_test_label_loss\": 0.40165555477142334, \"target_test_label_accuracy\": 0.7320426487093153, \"target_test_label_loss\": 45.8968620300293, \"source_val_label_accuracy\": 0.8543294270833334, \"source_val_label_loss\": 0.4060022532939911, \"target_val_label_accuracy\": 0.7443992579908676, \"target_val_label_loss\": 42.17542266845703, \"total_epochs_trained\": 7, \"total_experiment_time_secs\": 1762.4358320236206, \"confusion\": {\"ORACLE.run1_14\": {\"15\": {\"15\": 240}, \"3\": {\"3\": 236, \"5\": 1, \"1\": 1, \"4\": 2}, \"6\": {\"6\": 183, \"13\": 57}, \"1\": {\"1\": 228, \"4\": 2, \"5\": 10}, \"8\": {\"8\": 240}, \"10\": {\"10\": 240}, \"9\": {\"9\": 240}, \"13\": {\"14\": 25, \"13\": 110, \"6\": 82, \"2\": 16, \"5\": 5, \"4\": 1, \"7\": 1}, \"12\": {\"12\": 240}, \"5\": {\"5\": 188, \"4\": 28, \"1\": 13, \"3\": 2, \"2\": 9}, \"0\": {\"0\": 238, \"11\": 1, \"3\": 1}, \"2\": {\"2\": 147, \"6\": 12, \"3\": 5, \"5\": 21, \"14\": 43, \"13\": 9, \"15\": 2, \"4\": 1}, \"11\": {\"11\": 228, \"9\": 11, \"0\": 1}, \"14\": {\"14\": 211, \"2\": 19, \"13\": 8, \"6\": 2}, \"7\": {\"7\": 240}, \"4\": {\"4\": 230, \"1\": 1, \"5\": 8, \"3\": 1}}, \"ORACLE.run1_20\": {\"3\": {\"12\": 31, \"3\": 173, \"9\": 21, \"2\": 12, \"4\": 3}, \"15\": {\"5\": 13, \"15\": 217, \"1\": 7, \"0\": 3}, \"8\": {\"8\": 230, \"4\": 7, \"7\": 2, \"14\": 1}, \"4\": {\"4\": 233, \"8\": 5, \"3\": 2}, \"14\": {\"14\": 232, \"10\": 1, \"6\": 7}, \"0\": {\"5\": 30, \"0\": 195, \"15\": 15}, \"7\": {\"7\": 218, \"4\": 2, \"2\": 12, \"8\": 5, \"3\": 1, \"9\": 2}, \"6\": {\"6\": 233, \"14\": 7}, \"10\": {\"10\": 240}, \"5\": {\"5\": 209, \"1\": 5, \"0\": 14, \"15\": 9, \"12\": 3}, \"2\": {\"2\": 154, \"12\": 22, \"9\": 44, \"3\": 7, \"7\": 10, \"13\": 2, \"1\": 1}, \"12\": {\"12\": 168, \"3\": 31, \"1\": 29, \"9\": 4, \"2\": 7, \"5\": 1}, \"9\": {\"9\": 171, \"12\": 3, \"2\": 39, \"3\": 26, \"7\": 1}, \"1\": {\"1\": 201, \"12\": 30, \"5\": 6, \"9\": 1, \"15\": 2}, \"11\": {\"11\": 240}, \"13\": {\"13\": 237, \"2\": 3}}, \"ORACLE.run1_38\": {\"5\": {\"8\": 54, \"5\": 135, \"7\": 25, \"15\": 11, \"9\": 9, \"6\": 4, \"13\": 1, \"0\": 1}, \"8\": {\"8\": 186, \"7\": 11, \"0\": 10, \"5\": 29, \"10\": 3, \"15\": 1}, \"11\": {\"11\": 236, \"14\": 3, \"4\": 1}, \"1\": {\"1\": 235, \"15\": 5}, \"10\": {\"10\": 219, \"7\": 1, \"8\": 4, \"13\": 15, \"14\": 1}, \"15\": {\"15\": 224, \"8\": 2, \"1\": 8, \"13\": 4, \"5\": 2}, \"3\": {\"3\": 238, \"0\": 1, \"9\": 1}, \"7\": {\"7\": 225, \"8\": 6, \"5\": 5, \"0\": 4}, \"4\": {\"4\": 240}, \"14\": {\"14\": 230, \"2\": 10}, \"9\": {\"9\": 226, \"6\": 12, \"5\": 2}, \"12\": {\"12\": 240}, \"6\": {\"9\": 2, \"6\": 238}, \"2\": {\"2\": 226, \"13\": 6, \"14\": 8}, \"0\": {\"8\": 30, \"0\": 177, \"7\": 9, \"3\": 11, \"11\": 2, \"10\": 6, \"13\": 1, \"5\": 4}, \"13\": {\"13\": 215, \"15\": 9, \"10\": 8, \"5\": 1, \"0\": 2, \"1\": 1, \"2\": 3, \"14\": 1}}, \"ORACLE.run1_8\": {\"9\": {\"9\": 240}, \"10\": {\"10\": 215, \"14\": 14, \"4\": 4, \"13\": 7}, \"13\": {\"13\": 139, \"0\": 42, \"6\": 5, \"14\": 3, \"10\": 26, \"4\": 25}, \"0\": {\"13\": 24, \"0\": 208, \"7\": 7, \"4\": 1}, \"1\": {\"1\": 237, \"5\": 2, \"11\": 1}, \"15\": {\"15\": 224, \"12\": 14, \"8\": 2}, \"5\": {\"5\": 227, \"10\": 8, \"1\": 3, \"14\": 2}, \"3\": {\"3\": 240}, \"6\": {\"6\": 197, \"7\": 33, \"13\": 3, \"4\": 6, \"0\": 1}, \"11\": {\"11\": 234, \"1\": 5, \"5\": 1}, \"8\": {\"8\": 239, \"15\": 1}, \"4\": {\"4\": 194, \"13\": 29, \"10\": 2, \"6\": 3, \"14\": 11, \"0\": 1}, \"12\": {\"12\": 165, \"15\": 55, \"3\": 19, \"2\": 1}, \"14\": {\"14\": 188, \"4\": 19, \"1\": 9, \"10\": 21, \"13\": 2, \"5\": 1}, \"2\": {\"2\": 229, \"7\": 6, \"3\": 5}, \"7\": {\"7\": 216, \"6\": 24}}, \"ORACLE.run1_50\": {\"7\": {\"7\": 220, \"13\": 10, \"5\": 5, \"10\": 3, \"6\": 2}, \"3\": {\"3\": 240}, \"8\": {\"8\": 238, \"10\": 2}, \"2\": {\"2\": 230, \"0\": 10}, \"14\": {\"14\": 240}, \"4\": {\"15\": 16, \"4\": 165, \"1\": 21, \"5\": 35, \"13\": 2, \"6\": 1}, \"6\": {\"6\": 219, \"13\": 14, \"7\": 2, \"4\": 1, \"5\": 3, \"1\": 1}, \"15\": {\"15\": 202, \"1\": 22, \"4\": 8, \"6\": 2, \"11\": 6}, \"10\": {\"7\": 3, \"10\": 231, \"8\": 3, \"13\": 2, \"0\": 1}, \"11\": {\"11\": 228, \"15\": 5, \"12\": 5, \"9\": 2}, \"13\": {\"13\": 214, \"7\": 7, \"6\": 6, \"5\": 8, \"10\": 3, \"1\": 1, \"0\": 1}, \"9\": {\"9\": 228, \"12\": 3, \"11\": 9}, \"0\": {\"0\": 219, \"2\": 17, \"10\": 4}, \"1\": {\"15\": 26, \"1\": 198, \"4\": 6, \"5\": 5, \"6\": 3, \"2\": 1, \"11\": 1}, \"12\": {\"12\": 236, \"11\": 1, \"9\": 2, \"14\": 1}, \"5\": {\"5\": 148, \"4\": 30, \"7\": 12, \"13\": 31, \"1\": 17, \"6\": 1, \"15\": 1}}, \"ORACLE.run1_32\": {\"8\": {\"13\": 12, \"8\": 205, \"0\": 15, \"14\": 4, \"3\": 3, \"5\": 1}, \"14\": {\"14\": 157, \"11\": 48, \"0\": 23, \"7\": 7, \"8\": 2, \"5\": 3}, \"2\": {\"2\": 213, \"4\": 27}, \"0\": {\"0\": 205, \"8\": 21, \"14\": 12, \"7\": 1, \"13\": 1}, \"1\": {\"1\": 240}, \"10\": {\"10\": 240}, \"11\": {\"11\": 222, \"14\": 17, \"7\": 1}, \"5\": {\"5\": 141, \"14\": 3, \"7\": 49, \"3\": 7, \"0\": 2, \"8\": 4, \"13\": 19, \"4\": 13, \"11\": 1, \"2\": 1}, \"15\": {\"15\": 240}, \"3\": {\"3\": 233, \"11\": 4, \"13\": 2, \"14\": 1}, \"12\": {\"12\": 240}, \"7\": {\"7\": 164, \"5\": 33, \"14\": 10, \"4\": 26, \"13\": 4, \"8\": 1, \"11\": 1, \"0\": 1}, \"13\": {\"13\": 204, \"3\": 8, \"5\": 7, \"14\": 3, \"4\": 10, \"7\": 5, \"11\": 1, \"8\": 2}, \"6\": {\"6\": 240}, \"4\": {\"2\": 27, \"4\": 183, \"5\": 8, \"7\": 13, \"13\": 9}, \"9\": {\"9\": 240}}, \"ORACLE.run1_26\": {\"4\": {\"4\": 162, \"1\": 4, \"14\": 45, \"7\": 6, \"0\": 7, \"8\": 16}, \"12\": {\"12\": 240}, \"10\": {\"14\": 12, \"10\": 138, \"0\": 51, \"8\": 34, \"6\": 1, \"4\": 2, \"15\": 1, \"9\": 1}, \"0\": {\"0\": 97, \"8\": 28, \"14\": 32, \"10\": 60, \"4\": 20, \"6\": 2, \"7\": 1}, \"13\": {\"13\": 186, \"5\": 45, \"15\": 5, \"2\": 1, \"9\": 3}, \"9\": {\"9\": 176, \"15\": 56, \"6\": 7, \"10\": 1}, \"3\": {\"3\": 189, \"7\": 14, \"2\": 37}, \"2\": {\"2\": 102, \"3\": 80, \"7\": 26, \"15\": 5, \"5\": 25, \"8\": 1, \"13\": 1}, \"5\": {\"5\": 205, \"13\": 18, \"2\": 9, \"9\": 2, \"15\": 5, \"7\": 1}, \"14\": {\"4\": 75, \"14\": 118, \"10\": 11, \"0\": 21, \"1\": 12, \"8\": 1, \"7\": 1, \"6\": 1}, \"8\": {\"7\": 21, \"8\": 136, \"0\": 21, \"10\": 32, \"15\": 6, \"4\": 20, \"14\": 3, \"2\": 1}, \"7\": {\"7\": 194, \"8\": 14, \"2\": 16, \"4\": 9, \"3\": 6, \"0\": 1}, \"6\": {\"6\": 217, \"9\": 14, \"10\": 2, \"15\": 7}, \"11\": {\"11\": 240}, \"15\": {\"15\": 163, \"9\": 39, \"8\": 15, \"13\": 5, \"5\": 6, \"6\": 3, \"2\": 2, \"10\": 5, \"0\": 2}, \"1\": {\"1\": 220, \"8\": 1, \"14\": 12, \"4\": 6, \"7\": 1}}, \"ORACLE.run1_44\": {\"12\": {\"12\": 215, \"1\": 23, \"10\": 1, \"3\": 1}, \"7\": {\"7\": 170, \"2\": 22, \"9\": 43, \"6\": 5}, \"5\": {\"5\": 214, \"0\": 13, \"14\": 5, \"15\": 5, \"8\": 3}, \"15\": {\"15\": 208, \"14\": 9, \"5\": 2, \"0\": 16, \"8\": 5}, \"8\": {\"0\": 90, \"8\": 145, \"15\": 4, \"5\": 1}, \"2\": {\"2\": 200, \"7\": 26, \"1\": 5, \"10\": 8, \"12\": 1}, \"13\": {\"13\": 162, \"9\": 38, \"6\": 40}, \"4\": {\"4\": 179, \"14\": 60, \"15\": 1}, \"0\": {\"0\": 157, \"8\": 64, \"5\": 13, \"15\": 6}, \"6\": {\"6\": 184, \"9\": 20, \"7\": 2, \"13\": 34}, \"9\": {\"13\": 35, \"7\": 45, \"9\": 146, \"6\": 12, \"4\": 2}, \"11\": {\"11\": 236, \"13\": 4}, \"10\": {\"1\": 13, \"10\": 206, \"12\": 12, \"2\": 9}, \"14\": {\"4\": 72, \"14\": 153, \"15\": 12, \"5\": 3}, \"1\": {\"3\": 17, \"1\": 164, \"2\": 11, \"12\": 41, \"10\": 7}, \"3\": {\"3\": 228, \"1\": 11, \"12\": 1}}, \"CORES_3\": {\"43\": {\"43\": 117, \"24\": 4, \"11\": 3, \"49\": 1, \"7\": 1, \"10\": 1, \"13\": 1}, \"9\": {\"9\": 133, \"33\": 2, \"27\": 6, \"25\": 1, \"18\": 1, \"50\": 3, \"17\": 1, \"30\": 2, \"6\": 1}, \"6\": {\"51\": 2, \"6\": 11, \"12\": 2, \"36\": 7, \"27\": 4, \"23\": 2, \"29\": 3, \"25\": 6, \"33\": 1, \"3\": 6, \"50\": 7, \"53\": 5, \"9\": 3, \"40\": 2, \"18\": 2, \"30\": 6, \"17\": 7, \"48\": 2, \"46\": 1, \"8\": 2, \"2\": 1, \"44\": 1, \"21\": 2, \"54\": 3}, \"3\": {\"6\": 5, \"3\": 42, \"18\": 3, \"30\": 16, \"50\": 15, \"27\": 7, \"17\": 4, \"9\": 16, \"48\": 7, \"25\": 16, \"40\": 1, \"21\": 2, \"8\": 1, \"33\": 2, \"52\": 2, \"53\": 2, \"12\": 1, \"4\": 1, \"20\": 1}, \"16\": {\"16\": 124, \"37\": 3, \"23\": 3, \"26\": 1, \"5\": 2, \"57\": 1}, \"51\": {\"51\": 119, \"32\": 1, \"20\": 2, \"54\": 1, \"4\": 1, \"53\": 3, \"2\": 1}, \"31\": {\"31\": 28}, \"46\": {\"19\": 3, \"18\": 11, \"46\": 26, \"3\": 5, \"52\": 21, \"21\": 4, \"44\": 2, \"48\": 7, \"29\": 3, \"30\": 7, \"25\": 11, \"1\": 1, \"27\": 2, \"50\": 3, \"11\": 1, \"55\": 3, \"23\": 3, \"20\": 3, \"37\": 1, \"33\": 1, \"41\": 1, \"8\": 1, \"6\": 2, \"57\": 4, \"45\": 2, \"16\": 2, \"47\": 1, \"40\": 1, \"9\": 2}, \"19\": {\"19\": 102, \"40\": 10, \"29\": 7, \"45\": 1, \"54\": 1, \"48\": 1, \"44\": 1, \"46\": 1}, \"8\": {\"8\": 123, \"54\": 9, \"32\": 2, \"38\": 5, \"36\": 8, \"53\": 3, \"27\": 1, \"20\": 1}, \"18\": {\"18\": 63, \"6\": 1, \"3\": 4, \"50\": 1, \"30\": 5, \"25\": 1, \"27\": 1, \"52\": 2, \"9\": 1, \"48\": 3, \"46\": 1, \"36\": 1}, \"37\": {\"37\": 28}, \"24\": {\"24\": 95, \"13\": 3, \"43\": 2, \"22\": 2, \"14\": 2}, \"10\": {\"10\": 62, \"56\": 1, \"13\": 1}, \"44\": {\"44\": 76, \"50\": 2, \"30\": 1, \"6\": 2, \"19\": 3, \"21\": 1, \"46\": 1, \"55\": 1, \"40\": 1}, \"14\": {\"44\": 2, \"22\": 4, \"14\": 4, \"56\": 3, \"24\": 7, \"43\": 1, \"10\": 4, \"55\": 3, \"34\": 1, \"46\": 4, \"21\": 1, \"31\": 1, \"13\": 2, \"11\": 1, \"19\": 1, \"15\": 1}, \"38\": {\"53\": 2, \"38\": 23, \"51\": 1, \"8\": 1, \"32\": 1}, \"53\": {\"53\": 107, \"38\": 2, \"36\": 3, \"20\": 4, \"27\": 6, \"8\": 4, \"54\": 4, \"51\": 2, \"50\": 1, \"17\": 3, \"21\": 2, \"9\": 2}, \"20\": {\"53\": 19, \"38\": 5, \"20\": 61, \"36\": 4, \"27\": 2, \"51\": 21, \"3\": 4, \"8\": 7, \"4\": 4, \"54\": 2, \"25\": 2, \"50\": 1}, \"32\": {\"32\": 26, \"8\": 2}, \"36\": {\"36\": 100}, \"33\": {\"33\": 23, \"6\": 2, \"25\": 1, \"27\": 2}, \"56\": {\"56\": 133, \"10\": 2, \"22\": 1}, \"23\": {\"23\": 120, \"57\": 5, \"37\": 2, \"26\": 1, \"16\": 1, \"52\": 1}, \"54\": {\"54\": 60, \"32\": 2, \"33\": 1, \"36\": 12, \"27\": 2, \"8\": 13, \"17\": 5, \"53\": 4, \"20\": 1}, \"21\": {\"21\": 68, \"20\": 11, \"12\": 3, \"6\": 1, \"51\": 7, \"48\": 2, \"41\": 1, \"54\": 2, \"4\": 2, \"9\": 2, \"36\": 2, \"50\": 5, \"53\": 4, \"8\": 2, \"27\": 2, \"25\": 7, \"3\": 1, \"19\": 1, \"17\": 1, \"40\": 1, \"52\": 1}, \"28\": {\"28\": 24, \"34\": 1, \"15\": 2, \"0\": 1}, \"26\": {\"26\": 17, \"37\": 2, \"23\": 2, \"57\": 1, \"30\": 1, \"52\": 1}, \"48\": {\"33\": 1, \"48\": 56, \"18\": 2, \"54\": 2, \"8\": 2, \"30\": 15, \"25\": 5, \"9\": 8, \"20\": 1, \"50\": 4, \"3\": 8, \"27\": 2, \"46\": 1, \"53\": 1, \"29\": 2, \"6\": 1, \"51\": 3, \"23\": 1, \"52\": 1}, \"52\": {\"52\": 79, \"46\": 8, \"48\": 8, \"23\": 5, \"3\": 5, \"9\": 1, \"30\": 4, \"25\": 2, \"18\": 4, \"36\": 1, \"50\": 1}, \"39\": {\"39\": 16}, \"22\": {\"22\": 113, \"14\": 4, \"31\": 3, \"13\": 13, \"10\": 1, \"24\": 4, \"43\": 1, \"56\": 1}, \"13\": {\"13\": 121, \"43\": 2, \"24\": 4, \"22\": 1}, \"2\": {\"2\": 24, \"4\": 2, \"8\": 2, \"53\": 1, \"51\": 2, \"32\": 1}, \"34\": {\"34\": 30, \"5\": 2}, \"27\": {\"27\": 93, \"17\": 16, \"8\": 5, \"50\": 1, \"36\": 1, \"53\": 7, \"9\": 8, \"25\": 1}, \"45\": {\"2\": 5, \"17\": 3, \"20\": 1, \"38\": 3, \"54\": 4, \"21\": 1, \"45\": 16, \"30\": 1, \"40\": 2, \"8\": 2, \"12\": 2, \"3\": 2, \"6\": 1, \"4\": 8, \"32\": 1, \"36\": 1, \"51\": 5, \"27\": 1, \"55\": 1}, \"35\": {\"35\": 25, \"0\": 3}, \"29\": {\"29\": 91, \"25\": 4, \"30\": 5, \"52\": 1, \"41\": 3, \"36\": 1, \"46\": 2, \"23\": 3, \"40\": 6, \"50\": 1, \"9\": 1, \"3\": 3, \"48\": 1, \"17\": 1, \"19\": 2, \"57\": 1, \"1\": 1, \"4\": 1}, \"25\": {\"27\": 10, \"25\": 86, \"36\": 1, \"33\": 3, \"6\": 2, \"30\": 6, \"53\": 3, \"3\": 9, \"48\": 3, \"4\": 5, \"50\": 8, \"29\": 1, \"51\": 2, \"17\": 3, \"44\": 1, \"9\": 1}, \"0\": {\"0\": 106, \"35\": 1, \"15\": 5, \"28\": 1, \"5\": 10, \"47\": 1}, \"41\": {\"25\": 2, \"41\": 17, \"57\": 1, \"48\": 1, \"33\": 2, \"27\": 2, \"29\": 2, \"19\": 1}, \"11\": {\"11\": 129, \"5\": 2, \"16\": 2, \"47\": 2, \"0\": 4, \"15\": 3}, \"5\": {\"5\": 66, \"0\": 12, \"35\": 3, \"15\": 4, \"1\": 6, \"47\": 3, \"23\": 5, \"57\": 5, \"16\": 1, \"29\": 1, \"28\": 1, \"52\": 1}, \"1\": {\"1\": 89, \"5\": 5, \"0\": 1, \"47\": 1, \"23\": 2, \"57\": 2}, \"57\": {\"57\": 80, \"23\": 16, \"41\": 2, \"29\": 5, \"16\": 4, \"1\": 2, \"37\": 2, \"5\": 2, \"18\": 1, \"46\": 1, \"52\": 1}, \"17\": {\"17\": 102, \"10\": 1, \"27\": 4, \"56\": 1}, \"7\": {\"7\": 35, \"24\": 1}, \"12\": {\"51\": 11, \"54\": 3, \"12\": 37, \"20\": 6, \"6\": 3, \"4\": 12, \"21\": 6, \"2\": 2, \"36\": 2, \"45\": 2, \"50\": 1, \"53\": 1, \"17\": 1, \"33\": 1, \"3\": 2, \"8\": 2}, \"47\": {\"47\": 48, \"35\": 4, \"41\": 1, \"44\": 1, \"5\": 6, \"1\": 6, \"15\": 3, \"46\": 1, \"0\": 13, \"16\": 5, \"39\": 1, \"28\": 1, \"57\": 2}, \"40\": {\"54\": 1, \"40\": 77, \"27\": 5, \"38\": 1, \"20\": 3, \"25\": 6, \"8\": 4, \"17\": 5, \"30\": 5, \"9\": 3, \"29\": 8, \"19\": 7, \"46\": 1, \"50\": 3, \"53\": 2, \"6\": 1, \"45\": 1, \"21\": 1, \"48\": 1, \"4\": 1}, \"15\": {\"15\": 122, \"47\": 1, \"5\": 3, \"0\": 12, \"35\": 2, \"13\": 1, \"24\": 1}, \"42\": {\"42\": 21, \"44\": 5, \"46\": 1, \"29\": 1}, \"55\": {\"55\": 130, \"22\": 9, \"13\": 7, \"44\": 1, \"14\": 1, \"46\": 1, \"43\": 1}, \"49\": {\"49\": 19, \"31\": 1}, \"30\": {\"30\": 109, \"48\": 1, \"9\": 3, \"3\": 4, \"18\": 1, \"19\": 1, \"20\": 1}, \"50\": {\"50\": 47, \"20\": 6, \"27\": 19, \"36\": 6, \"17\": 8, \"32\": 1, \"53\": 22, \"8\": 4, \"48\": 1, \"54\": 2, \"4\": 2, \"25\": 1, \"9\": 4, \"51\": 2, \"19\": 1, \"30\": 4, \"52\": 1, \"3\": 1, \"21\": 1, \"46\": 1}, \"4\": {\"32\": 2, \"4\": 112, \"36\": 1, \"19\": 4, \"20\": 3, \"40\": 2, \"27\": 2, \"51\": 8, \"17\": 2}}, \"CORES_4\": {\"35\": {\"35\": 39, \"47\": 1}, \"25\": {\"48\": 8, \"25\": 96, \"17\": 1, \"53\": 6, \"9\": 3, \"6\": 1, \"36\": 5, \"4\": 6, \"3\": 3, \"20\": 2, \"33\": 1, \"50\": 1, \"51\": 1}, \"24\": {\"22\": 5, \"24\": 41, \"43\": 6, \"0\": 2, \"56\": 1, \"11\": 1}, \"48\": {\"48\": 87, \"25\": 4, \"3\": 9, \"36\": 11, \"53\": 15, \"8\": 4, \"4\": 2, \"27\": 3, \"50\": 2, \"20\": 1}, \"51\": {\"25\": 7, \"9\": 5, \"21\": 15, \"8\": 4, \"51\": 45, \"30\": 3, \"53\": 5, \"20\": 25, \"50\": 19, \"4\": 5, \"3\": 7, \"48\": 1, \"27\": 1, \"17\": 1, \"36\": 1}, \"13\": {\"13\": 115, \"10\": 5}, \"14\": {\"14\": 6, \"22\": 4, \"38\": 1, \"57\": 2, \"32\": 1, \"5\": 1, \"35\": 1}, \"32\": {\"32\": 24}, \"30\": {\"30\": 38, \"21\": 3, \"53\": 1, \"20\": 1, \"8\": 1}, \"34\": {\"48\": 1, \"34\": 21, \"28\": 1, \"25\": 1}, \"9\": {\"9\": 93, \"8\": 1, \"12\": 2, \"26\": 1, \"25\": 3, \"50\": 4, \"17\": 4, \"27\": 5, \"4\": 10, \"20\": 4, \"53\": 1, \"21\": 5, \"29\": 1, \"51\": 2}, \"1\": {\"1\": 38, \"35\": 1, \"7\": 1}, \"0\": {\"0\": 72, \"24\": 1, \"43\": 6, \"11\": 1}, \"38\": {\"38\": 35, \"24\": 1, \"22\": 3, \"13\": 1}, \"22\": {\"14\": 1, \"38\": 7, \"22\": 82, \"10\": 5, \"24\": 9, \"0\": 4, \"56\": 10, \"43\": 9, \"13\": 1}, \"40\": {\"40\": 88, \"20\": 1, \"25\": 3, \"30\": 2, \"12\": 1, \"45\": 2, \"5\": 1, \"19\": 3, \"50\": 3, \"54\": 3, \"3\": 2, \"8\": 2, \"33\": 2, \"27\": 2, \"17\": 1, \"21\": 1, \"53\": 1, \"44\": 1, \"29\": 1}, \"6\": {\"17\": 5, \"6\": 16, \"21\": 6, \"44\": 4, \"33\": 2, \"28\": 1, \"27\": 4, \"41\": 1, \"26\": 1, \"25\": 4, \"56\": 1, \"4\": 5, \"40\": 4, \"30\": 3, \"3\": 3, \"16\": 2, \"54\": 4, \"50\": 1, \"20\": 6, \"48\": 4, \"12\": 2, \"9\": 4, \"22\": 1, \"53\": 8, \"18\": 2, \"36\": 3, \"34\": 1, \"51\": 3, \"8\": 4, \"23\": 1, \"46\": 1, \"55\": 2, \"15\": 1, \"52\": 1, \"19\": 1}, \"16\": {\"16\": 80, \"35\": 3, \"46\": 4, \"0\": 1, \"47\": 5, \"1\": 1, \"5\": 1, \"57\": 1}, \"11\": {\"11\": 97, \"37\": 1, \"15\": 6}, \"20\": {\"20\": 88, \"50\": 4, \"3\": 4, \"51\": 6, \"8\": 4, \"53\": 3, \"9\": 4, \"21\": 8, \"4\": 1}, \"17\": {\"17\": 68, \"8\": 1, \"3\": 1, \"27\": 7, \"53\": 3}, \"26\": {\"26\": 12, \"6\": 2, \"8\": 2, \"34\": 2, \"45\": 2, \"27\": 1, \"4\": 2, \"36\": 1}, \"54\": {\"54\": 98, \"3\": 1, \"25\": 2, \"48\": 4, \"36\": 2, \"18\": 1}, \"55\": {\"55\": 133, \"14\": 1, \"31\": 1, \"22\": 4, \"44\": 4, \"20\": 1, \"56\": 2, \"40\": 2, \"6\": 2, \"46\": 2, \"9\": 1, \"19\": 1}, \"50\": {\"50\": 39, \"20\": 18, \"21\": 22, \"17\": 4, \"4\": 2, \"8\": 7, \"9\": 6, \"12\": 2, \"51\": 8, \"19\": 1, \"27\": 5, \"44\": 1, \"53\": 3, \"22\": 1, \"25\": 2, \"30\": 2, \"45\": 4, \"3\": 4, \"36\": 1}, \"19\": {\"19\": 116, \"28\": 2, \"44\": 12, \"6\": 4, \"21\": 1, \"8\": 1, \"40\": 4, \"20\": 1, \"55\": 1}, \"44\": {\"44\": 93, \"19\": 21, \"40\": 1, \"26\": 1, \"55\": 1, \"6\": 4, \"25\": 1}, \"47\": {\"5\": 7, \"47\": 78, \"57\": 12, \"35\": 1, \"16\": 4, \"29\": 4, \"52\": 6, \"46\": 6, \"18\": 1, \"23\": 1}, \"33\": {\"48\": 2, \"33\": 21, \"17\": 3, \"54\": 2, \"25\": 3, \"53\": 2, \"3\": 1, \"34\": 1, \"4\": 1}, \"5\": {\"1\": 1, \"47\": 7, \"5\": 40, \"39\": 1, \"41\": 6, \"52\": 15, \"57\": 8, \"35\": 4, \"42\": 1, \"29\": 3, \"18\": 6, \"23\": 5, \"54\": 2, \"46\": 4, \"44\": 2, \"28\": 1, \"16\": 2}, \"18\": {\"18\": 63, \"23\": 16, \"53\": 3, \"33\": 2, \"42\": 2, \"36\": 5, \"54\": 6, \"48\": 5, \"4\": 1, \"19\": 2, \"25\": 2, \"8\": 1}, \"21\": {\"21\": 111, \"30\": 4, \"8\": 1, \"20\": 4, \"17\": 1, \"50\": 2, \"51\": 1}, \"41\": {\"41\": 32, \"52\": 2, \"35\": 1, \"5\": 1}, \"23\": {\"54\": 6, \"23\": 83, \"36\": 4, \"18\": 14, \"53\": 2, \"48\": 4, \"33\": 2, \"42\": 3, \"5\": 1, \"3\": 1, \"52\": 2, \"25\": 6}, \"39\": {\"18\": 2, \"39\": 11, \"25\": 1, \"23\": 1, \"36\": 1, \"52\": 1, \"54\": 1, \"53\": 1, \"42\": 1}, \"37\": {\"37\": 22, \"46\": 1, \"32\": 1}, \"8\": {\"8\": 100, \"3\": 5, \"17\": 6, \"27\": 15, \"50\": 5, \"4\": 1, \"53\": 3, \"48\": 4, \"9\": 3, \"21\": 2}, \"49\": {\"49\": 19, \"35\": 1}, \"53\": {\"3\": 6, \"53\": 122, \"48\": 4, \"25\": 1, \"4\": 3, \"36\": 2, \"8\": 1, \"20\": 1}, \"31\": {\"31\": 23, \"19\": 1, \"20\": 2, \"7\": 1, \"51\": 1}, \"28\": {\"3\": 3, \"28\": 17, \"34\": 1, \"25\": 4, \"21\": 1, \"33\": 1, \"8\": 1, \"20\": 1, \"36\": 1, \"53\": 1, \"54\": 1}, \"3\": {\"3\": 46, \"17\": 3, \"48\": 12, \"27\": 1, \"53\": 26, \"4\": 8, \"20\": 2, \"25\": 2, \"6\": 2, \"50\": 3, \"36\": 10, \"12\": 2, \"21\": 2, \"8\": 4, \"45\": 1}, \"27\": {\"17\": 14, \"27\": 95, \"8\": 14, \"4\": 5, \"50\": 1, \"21\": 1, \"36\": 1, \"53\": 4, \"9\": 2, \"20\": 1}, \"46\": {\"32\": 2, \"46\": 42, \"52\": 5, \"1\": 7, \"23\": 1, \"16\": 9, \"47\": 15, \"40\": 1, \"55\": 1, \"41\": 4, \"35\": 2, \"22\": 3, \"5\": 12, \"57\": 10, \"15\": 4, \"37\": 1, \"0\": 1, \"29\": 4, \"7\": 1, \"56\": 1, \"44\": 1, \"43\": 1}, \"12\": {\"21\": 7, \"12\": 59, \"8\": 2, \"30\": 5, \"45\": 5, \"20\": 2, \"6\": 3, \"50\": 3, \"9\": 2, \"51\": 1, \"26\": 1, \"3\": 1, \"17\": 1}, \"7\": {\"43\": 1, \"7\": 17, \"1\": 3, \"47\": 1, \"16\": 1, \"0\": 1}, \"4\": {\"4\": 112, \"48\": 2, \"21\": 1, \"53\": 5, \"3\": 2, \"20\": 1, \"26\": 1, \"6\": 1, \"27\": 3, \"9\": 1, \"17\": 3}, \"42\": {\"42\": 32}, \"43\": {\"43\": 107, \"24\": 3, \"0\": 8, \"2\": 1, \"11\": 5, \"22\": 4, \"15\": 2}, \"29\": {\"29\": 110, \"47\": 1, \"16\": 1, \"46\": 1, \"40\": 3, \"35\": 1, \"23\": 2, \"5\": 1}, \"57\": {\"57\": 69, \"35\": 1, \"52\": 7, \"47\": 14, \"5\": 7, \"41\": 1, \"46\": 1}, \"52\": {\"18\": 1, \"52\": 88, \"5\": 3, \"23\": 6, \"41\": 1, \"42\": 1, \"46\": 3, \"57\": 1}, \"45\": {\"8\": 1, \"12\": 8, \"20\": 5, \"26\": 1, \"50\": 8, \"30\": 9, \"40\": 1, \"27\": 5, \"45\": 33, \"25\": 2, \"21\": 10, \"53\": 1, \"4\": 2, \"51\": 4, \"6\": 1, \"9\": 4, \"44\": 1}, \"36\": {\"36\": 91, \"48\": 1}, \"10\": {\"10\": 124, \"56\": 1, \"22\": 1}, \"15\": {\"15\": 127, \"16\": 3, \"46\": 2, \"11\": 2}, \"56\": {\"56\": 110, \"38\": 2, \"10\": 5, \"22\": 7}, \"2\": {\"2\": 36}}, \"CORES_5\": {\"47\": {\"47\": 65, \"3\": 5, \"28\": 2, \"16\": 4, \"52\": 11, \"46\": 6, \"57\": 3, \"23\": 1, \"37\": 3}, \"53\": {\"53\": 116, \"48\": 5, \"20\": 2, \"27\": 3, \"8\": 17, \"1\": 2, \"51\": 5}, \"29\": {\"29\": 114, \"15\": 2, \"40\": 2, \"47\": 2, \"43\": 4, \"11\": 1, \"52\": 1}, \"52\": {\"52\": 104, \"16\": 1, \"46\": 4, \"29\": 1, \"57\": 19, \"47\": 1}, \"55\": {\"6\": 8, \"17\": 4, \"55\": 72, \"38\": 2, \"33\": 2, \"8\": 1, \"40\": 5, \"45\": 7, \"4\": 2, \"48\": 2, \"12\": 3, \"30\": 8, \"5\": 1, \"50\": 4, \"19\": 2, \"20\": 9, \"9\": 4, \"27\": 2, \"51\": 2, \"26\": 1, \"7\": 1, \"44\": 1, \"54\": 1}, \"17\": {\"17\": 111, \"8\": 1, \"9\": 2, \"6\": 1, \"48\": 1}, \"42\": {\"42\": 37, \"30\": 1, \"41\": 1, \"18\": 1}, \"33\": {\"33\": 26, \"54\": 1, \"25\": 1, \"41\": 1, \"27\": 2, \"1\": 1}, \"11\": {\"11\": 104, \"0\": 8, \"24\": 2, \"43\": 18, \"15\": 16}, \"19\": {\"19\": 114, \"5\": 2, \"1\": 1, \"9\": 1}, \"1\": {\"1\": 116, \"8\": 15, \"53\": 11, \"48\": 2}, \"44\": {\"44\": 131, \"40\": 7, \"2\": 1, \"5\": 2, \"55\": 1}, \"49\": {\"47\": 1, \"49\": 32, \"37\": 1, \"29\": 2}, \"4\": {\"4\": 65, \"17\": 3, \"6\": 2, \"20\": 5, \"30\": 8, \"50\": 1, \"27\": 4, \"48\": 1, \"5\": 2, \"55\": 1, \"45\": 2, \"9\": 3, \"26\": 1, \"32\": 1, \"1\": 1}, \"6\": {\"17\": 11, \"8\": 9, \"9\": 8, \"6\": 30, \"26\": 1, \"27\": 6, \"51\": 12, \"53\": 4, \"30\": 14, \"4\": 1, \"45\": 3, \"20\": 4, \"55\": 2, \"48\": 4, \"1\": 3, \"32\": 1, \"7\": 1, \"5\": 1, \"23\": 1}, \"39\": {\"42\": 4, \"39\": 9, \"52\": 2, \"41\": 2, \"21\": 3}, \"50\": {\"50\": 34, \"27\": 6, \"1\": 9, \"25\": 33, \"26\": 1, \"48\": 8, \"54\": 2, \"4\": 1, \"18\": 1, \"23\": 3, \"8\": 7, \"30\": 1, \"53\": 21, \"55\": 2, \"45\": 1, \"20\": 3, \"21\": 2, \"51\": 3, \"32\": 1, \"57\": 2, \"7\": 1, \"17\": 1, \"19\": 1, \"9\": 2, \"5\": 1, \"44\": 1}, \"56\": {\"56\": 122, \"24\": 4, \"15\": 2, \"35\": 1, \"0\": 1}, \"25\": {\"25\": 118, \"32\": 1, \"53\": 3, \"50\": 10, \"20\": 4, \"19\": 1, \"21\": 1, \"27\": 3, \"51\": 3}, \"28\": {\"28\": 30, \"46\": 1, \"47\": 1}, \"35\": {\"35\": 33, \"24\": 3}, \"24\": {\"24\": 65, \"35\": 2, \"15\": 5, \"0\": 3, \"11\": 1, \"56\": 4}, \"21\": {\"25\": 22, \"21\": 63, \"1\": 3, \"18\": 3, \"9\": 1, \"23\": 5, \"27\": 1, \"53\": 15, \"50\": 6, \"48\": 2, \"20\": 2, \"32\": 1, \"33\": 1, \"42\": 1, \"51\": 1, \"57\": 1, \"54\": 4}, \"45\": {\"45\": 24, \"17\": 8, \"26\": 3, \"12\": 9, \"38\": 2, \"1\": 1, \"30\": 17, \"25\": 1, \"6\": 8, \"5\": 2, \"4\": 8, \"21\": 1, \"20\": 8, \"48\": 3, \"55\": 4, \"18\": 1, \"50\": 2, \"53\": 3, \"40\": 1, \"9\": 10, \"32\": 1, \"7\": 2, \"27\": 2, \"44\": 1, \"8\": 1, \"51\": 1}, \"16\": {\"16\": 132, \"28\": 2, \"3\": 2, \"46\": 4, \"47\": 1, \"40\": 1, \"55\": 1, \"52\": 1}, \"37\": {\"37\": 19, \"46\": 4, \"16\": 1}, \"57\": {\"57\": 113, \"23\": 3, \"52\": 15, \"21\": 1}, \"34\": {\"34\": 32, \"39\": 1, \"37\": 3}, \"38\": {\"38\": 29, \"12\": 3}, \"48\": {\"17\": 4, \"48\": 50, \"8\": 17, \"20\": 4, \"9\": 6, \"53\": 10, \"30\": 2, \"27\": 12, \"51\": 9, \"1\": 11, \"6\": 4, \"32\": 1}, \"26\": {\"26\": 24}, \"9\": {\"48\": 7, \"8\": 5, \"9\": 92, \"27\": 15, \"17\": 8, \"51\": 5, \"4\": 1, \"30\": 5, \"6\": 6, \"1\": 1, \"50\": 2, \"54\": 1, \"32\": 1, \"55\": 2, \"12\": 1}, \"18\": {\"18\": 54, \"23\": 2, \"1\": 1, \"53\": 1, \"25\": 1, \"33\": 1, \"8\": 2, \"50\": 1, \"54\": 1}, \"3\": {\"47\": 12, \"3\": 45, \"46\": 8, \"16\": 9, \"14\": 1, \"28\": 8, \"5\": 1, \"52\": 2, \"43\": 1, \"40\": 1, \"29\": 3, \"36\": 1, \"44\": 2, \"57\": 3, \"56\": 1, \"11\": 1, \"35\": 1}, \"23\": {\"23\": 85, \"18\": 9, \"1\": 2, \"41\": 1, \"21\": 9, \"39\": 1, \"42\": 3, \"54\": 8, \"25\": 2, \"53\": 1, \"57\": 1, \"50\": 1, \"27\": 1}, \"15\": {\"15\": 125, \"11\": 12, \"24\": 3, \"0\": 7, \"43\": 4, \"13\": 2, \"35\": 1}, \"10\": {\"10\": 62, \"13\": 6}, \"46\": {\"46\": 106, \"3\": 11, \"2\": 1, \"52\": 10, \"57\": 6, \"16\": 10, \"28\": 1, \"47\": 3}, \"22\": {\"22\": 25, \"13\": 1, \"56\": 1, \"2\": 1}, \"54\": {\"42\": 1, \"23\": 9, \"54\": 47, \"33\": 1, \"25\": 18, \"39\": 2, \"53\": 6, \"1\": 7, \"50\": 6, \"57\": 1, \"18\": 4, \"27\": 3, \"4\": 1, \"8\": 2, \"48\": 1, \"9\": 2, \"21\": 1}, \"27\": {\"27\": 109, \"9\": 14, \"8\": 10, \"48\": 4, \"53\": 8, \"17\": 3, \"1\": 6, \"32\": 1, \"6\": 3, \"51\": 1, \"50\": 1}, \"41\": {\"41\": 26, \"50\": 2}, \"31\": {\"31\": 35, \"16\": 1}, \"0\": {\"0\": 119, \"24\": 1, \"11\": 2, \"15\": 2}, \"7\": {\"7\": 31, \"30\": 1}, \"2\": {\"2\": 26, \"56\": 2}, \"14\": {\"14\": 16, \"36\": 4, \"11\": 1, \"23\": 4, \"54\": 1, \"28\": 1, \"57\": 6, \"52\": 3, \"3\": 2, \"0\": 1, \"43\": 3, \"31\": 2}, \"40\": {\"40\": 101, \"49\": 1, \"44\": 2, \"47\": 1, \"46\": 2, \"5\": 5, \"43\": 2, \"36\": 1, \"29\": 5, \"34\": 1, \"14\": 2, \"3\": 1}, \"5\": {\"5\": 98, \"40\": 11, \"55\": 2, \"4\": 2, \"44\": 4, \"19\": 4, \"6\": 1, \"26\": 1, \"8\": 1, \"12\": 1, \"23\": 1, \"45\": 1, \"50\": 1}, \"12\": {\"12\": 51, \"17\": 1, \"7\": 7, \"30\": 14, \"45\": 2, \"48\": 1, \"55\": 2, \"20\": 5, \"9\": 3, \"51\": 5, \"38\": 2, \"8\": 2, \"5\": 1}, \"43\": {\"43\": 114, \"31\": 1, \"24\": 1, \"11\": 13, \"29\": 2, \"15\": 6, \"46\": 2, \"2\": 1, \"56\": 1, \"16\": 1}, \"13\": {\"13\": 134, \"10\": 8, \"15\": 1, \"56\": 5}, \"36\": {\"36\": 62, \"54\": 1, \"3\": 1, \"49\": 1, \"52\": 4, \"14\": 5, \"16\": 2, \"46\": 4, \"47\": 1, \"37\": 1, \"28\": 2, \"43\": 4, \"23\": 1, \"5\": 1, \"57\": 2}, \"8\": {\"48\": 6, \"8\": 97, \"1\": 19, \"27\": 6, \"53\": 14, \"9\": 2, \"17\": 2, \"55\": 1, \"5\": 1, \"51\": 1, \"6\": 1}, \"32\": {\"32\": 16, \"53\": 3, \"30\": 4, \"8\": 2, \"6\": 1, \"9\": 1, \"5\": 1, \"48\": 2, \"27\": 1, \"45\": 1}, \"30\": {\"30\": 108, \"9\": 9, \"6\": 3, \"17\": 2, \"20\": 2, \"51\": 2, \"45\": 2}, \"51\": {\"51\": 120, \"53\": 3, \"1\": 1, \"48\": 1, \"20\": 8, \"5\": 1, \"6\": 1, \"55\": 1, \"8\": 2}, \"20\": {\"30\": 1, \"20\": 107, \"51\": 21, \"50\": 1, \"53\": 4, \"32\": 1, \"27\": 1, \"1\": 1, \"48\": 1}}, \"CORES_1\": {\"46\": {\"51\": 11, \"7\": 1, \"50\": 14, \"46\": 34, \"6\": 8, \"4\": 6, \"8\": 2, \"12\": 3, \"17\": 1, \"5\": 6, \"48\": 31, \"53\": 4, \"2\": 5, \"13\": 1, \"40\": 8, \"41\": 2, \"20\": 1, \"19\": 1, \"29\": 1}, \"16\": {\"16\": 123, \"54\": 9, \"19\": 1, \"34\": 1}, \"26\": {\"26\": 23, \"30\": 1}, \"10\": {\"10\": 92, \"27\": 2, \"24\": 1, \"11\": 1}, \"9\": {\"9\": 146, \"8\": 8, \"25\": 2}, \"28\": {\"28\": 23, \"52\": 3, \"47\": 1, \"22\": 1}, \"51\": {\"51\": 85, \"13\": 16, \"1\": 1, \"25\": 10, \"14\": 3, \"6\": 6, \"53\": 16, \"18\": 5, \"8\": 4, \"45\": 2, \"41\": 2, \"17\": 2, \"48\": 3, \"9\": 1}, \"1\": {\"1\": 74, \"42\": 2, \"45\": 5, \"57\": 8, \"18\": 2, \"25\": 2, \"30\": 2, \"19\": 3, \"51\": 1, \"16\": 1}, \"55\": {\"55\": 106, \"11\": 1, \"56\": 4, \"57\": 3, \"3\": 14, \"38\": 1, \"29\": 9, \"48\": 1, \"0\": 1, \"44\": 3, \"47\": 1, \"21\": 1, \"54\": 1, \"20\": 1, \"15\": 1}, \"27\": {\"10\": 6, \"27\": 100, \"24\": 1, \"43\": 14, \"39\": 1, \"31\": 1, \"52\": 1}, \"22\": {\"10\": 2, \"22\": 69, \"11\": 17, \"31\": 1, \"24\": 7, \"23\": 3, \"15\": 6, \"49\": 1, \"21\": 9, \"0\": 8, \"47\": 1}, \"52\": {\"52\": 89, \"47\": 7, \"21\": 1, \"31\": 2, \"49\": 3, \"10\": 6, \"43\": 6, \"24\": 2, \"22\": 3, \"0\": 2, \"11\": 3, \"44\": 1, \"15\": 1}, \"3\": {\"55\": 12, \"3\": 105, \"29\": 1, \"32\": 2, \"35\": 2, \"44\": 9, \"56\": 1, \"47\": 2, \"0\": 1, \"23\": 2, \"36\": 1, \"1\": 1, \"19\": 1}, \"33\": {\"33\": 32}, \"47\": {\"47\": 110, \"52\": 6, \"11\": 3, \"49\": 1}, \"42\": {\"33\": 1, \"26\": 5, \"19\": 7, \"34\": 1, \"42\": 13, \"57\": 1, \"45\": 2, \"30\": 6, \"1\": 1, \"9\": 1, \"8\": 1, \"14\": 1}, \"12\": {\"12\": 105, \"46\": 3, \"20\": 3, \"3\": 2, \"17\": 1, \"7\": 1, \"55\": 1}, \"23\": {\"23\": 131, \"0\": 1}, \"49\": {\"49\": 32}, \"7\": {\"7\": 20, \"51\": 2, \"1\": 1, \"18\": 1, \"2\": 1, \"40\": 1, \"37\": 1, \"5\": 1}, \"4\": {\"50\": 4, \"4\": 99, \"6\": 5, \"48\": 6, \"5\": 10, \"40\": 3, \"46\": 2, \"8\": 3}, \"50\": {\"50\": 128, \"40\": 1, \"13\": 2, \"6\": 2, \"5\": 1}, \"19\": {\"19\": 97, \"9\": 5, \"26\": 3, \"45\": 11, \"1\": 7, \"14\": 2, \"42\": 5, \"30\": 11, \"18\": 1, \"57\": 5, \"25\": 4, \"17\": 1, \"56\": 1, \"8\": 1}, \"11\": {\"11\": 124, \"22\": 6, \"24\": 7, \"52\": 1, \"10\": 1, \"0\": 1}, \"31\": {\"31\": 28}, \"41\": {\"41\": 14, \"6\": 2, \"8\": 1, \"48\": 2, \"53\": 3, \"17\": 2}, \"56\": {\"56\": 108, \"1\": 3, \"42\": 1, \"57\": 10, \"19\": 3, \"54\": 4, \"45\": 3, \"40\": 3, \"33\": 1, \"16\": 1, \"29\": 1}, \"0\": {\"0\": 100, \"11\": 5, \"23\": 1, \"15\": 27, \"24\": 2, \"21\": 7, \"22\": 6}, \"57\": {\"57\": 74, \"56\": 6, \"1\": 18, \"55\": 1, \"19\": 17, \"45\": 5, \"25\": 2, \"16\": 1, \"42\": 2, \"37\": 2}, \"53\": {\"53\": 135, \"9\": 4, \"14\": 1}, \"43\": {\"43\": 127, \"27\": 14, \"52\": 1, \"10\": 2}, \"37\": {\"37\": 23, \"33\": 1, \"25\": 3, \"18\": 1, \"53\": 1, \"30\": 1, \"14\": 1, \"26\": 1}, \"2\": {\"2\": 32, \"48\": 4}, \"6\": {\"2\": 2, \"6\": 85, \"17\": 1, \"48\": 8}, \"13\": {\"13\": 123, \"25\": 6, \"45\": 4, \"8\": 8, \"53\": 4, \"14\": 1, \"17\": 2, \"30\": 1, \"9\": 1}, \"18\": {\"17\": 1, \"18\": 61, \"37\": 2, \"45\": 2, \"25\": 1, \"30\": 3, \"53\": 2}, \"36\": {\"36\": 61, \"23\": 1, \"32\": 1, \"54\": 1}, \"29\": {\"29\": 119, \"51\": 1, \"3\": 1, \"44\": 6, \"56\": 6, \"40\": 4, \"55\": 1, \"20\": 1, \"57\": 1}, \"39\": {\"39\": 27, \"10\": 1}, \"17\": {\"17\": 64}, \"21\": {\"21\": 110, \"15\": 8, \"0\": 4, \"22\": 2}, \"25\": {\"25\": 128, \"45\": 2, \"13\": 2}, \"45\": {\"25\": 26, \"45\": 87, \"26\": 2, \"30\": 7, \"8\": 2, \"9\": 8, \"13\": 5, \"53\": 4, \"18\": 1}, \"38\": {\"38\": 23, \"15\": 1}, \"30\": {\"30\": 111, \"53\": 3, \"9\": 6}, \"24\": {\"24\": 82, \"22\": 9, \"11\": 8, \"49\": 1, \"52\": 1, \"10\": 2, \"31\": 1, \"39\": 2, \"0\": 2}, \"20\": {\"20\": 140}, \"8\": {\"8\": 127, \"14\": 2, \"53\": 6, \"9\": 4, \"17\": 1}, \"35\": {\"35\": 36}, \"54\": {\"54\": 84, \"33\": 3, \"1\": 1, \"16\": 14, \"36\": 1, \"34\": 1}, \"5\": {\"8\": 8, \"5\": 79, \"50\": 4, \"6\": 10, \"17\": 3, \"53\": 7, \"48\": 23, \"51\": 1, \"13\": 2, \"4\": 1, \"45\": 1, \"46\": 3, \"9\": 2, \"25\": 2, \"41\": 1, \"2\": 1}, \"48\": {\"48\": 126, \"2\": 4, \"6\": 9, \"53\": 1, \"50\": 2, \"17\": 2}, \"15\": {\"15\": 101, \"21\": 15, \"22\": 1, \"0\": 20, \"23\": 2, \"38\": 1, \"44\": 1, \"11\": 1}, \"34\": {\"34\": 23, \"33\": 1}, \"14\": {\"14\": 19, \"30\": 1, \"8\": 3, \"53\": 1}, \"32\": {\"32\": 26, \"44\": 1, \"1\": 1, \"36\": 1, \"16\": 1, \"54\": 1, \"55\": 1}, \"40\": {\"40\": 116, \"46\": 8, \"17\": 1, \"12\": 2, \"6\": 1, \"51\": 4, \"8\": 2, \"5\": 5, \"29\": 2, \"42\": 1, \"4\": 1, \"19\": 1, \"1\": 1, \"48\": 3}, \"44\": {\"44\": 114, \"29\": 2, \"32\": 3, \"22\": 1, \"0\": 3, \"3\": 5, \"55\": 2, \"15\": 2, \"38\": 3, \"35\": 1}}, \"CORES_2\": {\"36\": {\"36\": 114, \"54\": 2}, \"5\": {\"5\": 89, \"47\": 12, \"28\": 2, \"0\": 3, \"2\": 1, \"1\": 4, \"15\": 5, \"16\": 3, \"21\": 1}, \"45\": {\"45\": 30, \"4\": 18, \"46\": 2, \"12\": 7, \"51\": 12, \"55\": 6, \"27\": 7, \"20\": 6, \"17\": 2, \"8\": 12, \"25\": 3, \"54\": 3, \"6\": 1, \"53\": 3, \"40\": 2, \"21\": 2, \"44\": 3, \"9\": 1, \"32\": 1, \"50\": 3, \"26\": 2, \"19\": 2}, \"49\": {\"49\": 23, \"35\": 1}, \"50\": {\"50\": 68, \"36\": 8, \"41\": 1, \"25\": 5, \"53\": 9, \"54\": 4, \"12\": 1, \"6\": 14, \"8\": 3, \"20\": 4, \"48\": 2, \"17\": 5, \"51\": 2, \"19\": 1, \"27\": 1, \"35\": 1, \"30\": 1, \"9\": 1, \"45\": 1, \"3\": 3, \"21\": 1}, \"4\": {\"4\": 113, \"27\": 10, \"40\": 2, \"54\": 1, \"53\": 1, \"17\": 1, \"29\": 2, \"30\": 1, \"8\": 4, \"51\": 2, \"9\": 1}, \"43\": {\"43\": 139, \"24\": 6, \"11\": 2, \"22\": 1}, \"41\": {\"33\": 2, \"41\": 17, \"3\": 1}, \"37\": {\"37\": 35, \"28\": 1}, \"12\": {\"4\": 5, \"12\": 48, \"26\": 2, \"45\": 4, \"8\": 5, \"27\": 4, \"21\": 6, \"20\": 9, \"53\": 1, \"51\": 6, \"6\": 1, \"32\": 1}, \"33\": {\"33\": 23, \"9\": 2, \"41\": 1, \"25\": 1, \"17\": 1}, \"7\": {\"7\": 22, \"15\": 3, \"47\": 3, \"42\": 1, \"23\": 2, \"30\": 2, \"46\": 1, \"1\": 1, \"16\": 1}, \"56\": {\"56\": 138, \"10\": 2}, \"14\": {\"56\": 3, \"24\": 3, \"10\": 2, \"42\": 4, \"14\": 5, \"43\": 4, \"13\": 2, \"1\": 1}, \"52\": {\"52\": 81, \"46\": 1, \"23\": 32, \"0\": 1, \"57\": 4, \"25\": 1, \"6\": 1, \"41\": 1, \"30\": 1, \"16\": 1}, \"44\": {\"44\": 83, \"19\": 8, \"35\": 1, \"12\": 2, \"46\": 2}, \"48\": {\"6\": 13, \"41\": 2, \"48\": 98, \"33\": 2, \"25\": 10, \"50\": 6, \"30\": 1, \"9\": 4, \"53\": 5, \"3\": 2, \"36\": 1}, \"20\": {\"20\": 116, \"8\": 3, \"17\": 2, \"51\": 3, \"55\": 1, \"26\": 1, \"54\": 2}, \"55\": {\"38\": 3, \"55\": 116, \"13\": 5, \"56\": 2, \"44\": 5, \"22\": 10, \"12\": 1, \"10\": 1, \"14\": 1}, \"32\": {\"36\": 3, \"32\": 20, \"50\": 2, \"53\": 2, \"27\": 1}, \"40\": {\"54\": 3, \"17\": 7, \"40\": 74, \"19\": 2, \"32\": 2, \"33\": 3, \"50\": 4, \"53\": 2, \"8\": 2, \"6\": 3, \"9\": 9, \"27\": 10, \"3\": 4, \"45\": 2, \"36\": 2, \"25\": 2, \"20\": 1, \"29\": 2, \"4\": 1, \"51\": 1}, \"54\": {\"36\": 8, \"54\": 79, \"8\": 11, \"50\": 1, \"17\": 3, \"51\": 2, \"6\": 1, \"53\": 2, \"9\": 1}, \"17\": {\"17\": 104}, \"38\": {\"38\": 17, \"22\": 2, \"24\": 1}, \"24\": {\"24\": 75, \"14\": 3, \"43\": 11, \"13\": 4, \"22\": 3}, \"1\": {\"1\": 79, \"34\": 1, \"57\": 8, \"0\": 2, \"2\": 2, \"46\": 2, \"52\": 3, \"23\": 4, \"29\": 1, \"15\": 1, \"47\": 2, \"39\": 2, \"42\": 1, \"5\": 2, \"7\": 1, \"16\": 1}, \"6\": {\"6\": 54, \"54\": 3, \"27\": 4, \"33\": 1, \"17\": 6, \"50\": 18, \"45\": 1, \"53\": 10, \"8\": 5, \"36\": 7, \"3\": 2, \"48\": 4, \"4\": 1, \"25\": 5, \"12\": 1, \"51\": 2}, \"34\": {\"34\": 24, \"40\": 2, \"33\": 1, \"29\": 1}, \"11\": {\"11\": 130, \"47\": 1, \"37\": 3, \"28\": 1, \"15\": 1}, \"9\": {\"9\": 133, \"17\": 8, \"20\": 2, \"27\": 4, \"6\": 1, \"53\": 2}, \"8\": {\"8\": 101, \"54\": 17, \"27\": 7, \"36\": 22, \"53\": 3, \"50\": 2}, \"22\": {\"14\": 1, \"22\": 108, \"24\": 10, \"56\": 5, \"13\": 6, \"43\": 3, \"10\": 3}, \"26\": {\"26\": 24}, \"23\": {\"23\": 114, \"2\": 2, \"52\": 21, \"3\": 1, \"57\": 7, \"46\": 1}, \"10\": {\"10\": 100, \"56\": 9, \"24\": 1, \"13\": 2}, \"18\": {\"30\": 4, \"18\": 34, \"48\": 5, \"49\": 1, \"54\": 1, \"41\": 1, \"33\": 1, \"6\": 1}, \"13\": {\"13\": 110, \"56\": 2, \"43\": 1, \"14\": 1, \"24\": 1, \"10\": 1}, \"30\": {\"30\": 73, \"48\": 18, \"50\": 4, \"18\": 5, \"25\": 9, \"3\": 3, \"6\": 11, \"54\": 2, \"49\": 2, \"36\": 1}, \"42\": {\"46\": 1, \"42\": 20, \"1\": 5, \"2\": 4, \"19\": 1, \"45\": 1, \"57\": 2, \"30\": 1, \"29\": 1}, \"31\": {\"31\": 28}, \"46\": {\"23\": 20, \"42\": 1, \"46\": 30, \"18\": 1, \"40\": 5, \"25\": 1, \"1\": 3, \"19\": 4, \"20\": 1, \"9\": 2, \"29\": 9, \"15\": 1, \"6\": 2, \"52\": 12, \"21\": 2, \"55\": 1, \"57\": 7, \"22\": 2, \"48\": 7, \"50\": 1, \"30\": 4, \"11\": 3, \"49\": 2, \"33\": 1, \"38\": 1, \"3\": 1, \"13\": 1, \"44\": 1, \"12\": 1, \"16\": 1}, \"57\": {\"23\": 23, \"57\": 98, \"52\": 8, \"1\": 4, \"2\": 2, \"16\": 5, \"46\": 1, \"29\": 1}, \"47\": {\"5\": 12, \"47\": 82, \"2\": 1, \"15\": 11, \"42\": 1, \"0\": 1, \"1\": 9, \"16\": 6, \"57\": 10, \"11\": 2, \"28\": 1, \"29\": 1, \"7\": 1}, \"35\": {\"35\": 31, \"19\": 1}, \"15\": {\"15\": 108, \"16\": 10, \"5\": 1, \"47\": 6, \"1\": 1, \"22\": 1, \"57\": 2, \"0\": 3}, \"25\": {\"25\": 101, \"50\": 4, \"40\": 2, \"53\": 4, \"6\": 4, \"48\": 10, \"3\": 2, \"4\": 3, \"17\": 1, \"33\": 2, \"27\": 2, \"9\": 1}, \"19\": {\"35\": 2, \"19\": 123, \"44\": 3, \"29\": 5, \"40\": 1, \"50\": 1, \"54\": 1}, \"51\": {\"51\": 117, \"8\": 2, \"36\": 3, \"53\": 3, \"20\": 1, \"54\": 2}, \"53\": {\"53\": 104, \"50\": 4, \"32\": 1, \"9\": 4, \"27\": 2, \"36\": 2, \"6\": 3, \"17\": 2, \"8\": 6, \"51\": 3, \"44\": 2, \"3\": 1}, \"21\": {\"21\": 80, \"34\": 1, \"9\": 1, \"49\": 1, \"3\": 3, \"46\": 1, \"20\": 8, \"12\": 3, \"51\": 4, \"4\": 1, \"40\": 1, \"36\": 1, \"25\": 1, \"45\": 3, \"52\": 2, \"42\": 1, \"2\": 1, \"29\": 2, \"53\": 2, \"48\": 3}, \"39\": {\"2\": 3, \"39\": 16, \"16\": 1, \"0\": 1, \"1\": 3, \"46\": 1, \"15\": 1, \"52\": 1, \"42\": 1}, \"2\": {\"2\": 27, \"52\": 2, \"57\": 2, \"23\": 1}, \"16\": {\"39\": 3, \"16\": 141, \"15\": 2, \"23\": 1, \"57\": 2, \"0\": 1}, \"0\": {\"0\": 42, \"47\": 1, \"5\": 2, \"16\": 3}, \"3\": {\"3\": 29, \"25\": 16, \"17\": 6, \"48\": 5, \"53\": 6, \"50\": 8, \"27\": 1, \"6\": 8, \"21\": 3, \"54\": 2, \"9\": 3, \"52\": 1, \"33\": 1, \"36\": 1, \"30\": 1, \"12\": 1}, \"27\": {\"27\": 119, \"8\": 5, \"54\": 2, \"17\": 6, \"53\": 3, \"9\": 6, \"32\": 1}, \"28\": {\"28\": 21, \"5\": 1, \"47\": 3, \"15\": 2, \"57\": 1}, \"29\": {\"29\": 110, \"48\": 1, \"54\": 1, \"46\": 1, \"30\": 1, \"40\": 3, \"23\": 2, \"3\": 2, \"16\": 1, \"34\": 2, \"17\": 1, \"52\": 1, \"1\": 1, \"57\": 1}}}, \"per_domain_accuracy\": {\"ORACLE.run1_14\": {\"accuracy\": 0.8955729166666667, \"source?\": true}, \"ORACLE.run1_20\": {\"accuracy\": 0.87265625, \"source?\": true}, \"ORACLE.run1_38\": {\"accuracy\": 0.9088541666666666, \"source?\": true}, \"ORACLE.run1_8\": {\"accuracy\": 0.8833333333333333, \"source?\": true}, \"ORACLE.run1_50\": {\"accuracy\": 0.9, \"source?\": true}, \"ORACLE.run1_32\": {\"accuracy\": 0.8768229166666667, \"source?\": true}, \"ORACLE.run1_26\": {\"accuracy\": 0.7247395833333333, \"source?\": true}, \"ORACLE.run1_44\": {\"accuracy\": 0.77265625, \"source?\": true}, \"CORES_3\": {\"accuracy\": 0.7287427325581395, \"source?\": false}, \"CORES_4\": {\"accuracy\": 0.7196969696969697, \"source?\": false}, \"CORES_5\": {\"accuracy\": 0.7236382681564246, \"source?\": false}, \"CORES_1\": {\"accuracy\": 0.7979849726775956, \"source?\": false}, \"CORES_2\": {\"accuracy\": 0.7482344632768362, \"source?\": false}}}, \"history\": {\"epoch_indices\": [1, 2, 3, 4, 5, 6, 7], \"train_label_loss\": [0.7857889641519813, 0.7147335038531483, 0.42784910788925895, 0.3684090298655931, 0.32424066612314034, 0.2980372122726597, 0.26705246469770955], \"source_val_label_loss\": [50.24793243408203, 0.5055316090583801, 0.4060022532939911, 0.42473703622817993, 0.40012770891189575, 0.32392463088035583, 0.3302375078201294], \"target_val_label_loss\": [302.5573425292969, 32.09763717651367, 42.17542266845703, 59.110416412353516, 76.10420989990234, 90.13904571533203, 121.27611541748047], \"source_val_acc_label\": [0.6384440104166667, 0.81884765625, 0.8543294270833334, 0.8442708333333333, 0.8572916666666667, 0.8843098958333333, 0.8799153645833333], \"target_val_acc_label\": [0.5210473744292238, 0.6720533675799086, 0.7443992579908676, 0.7377996575342466, 0.7157177511415526, 0.7405108447488584, 0.7412956621004566]}, \"dataset_metrics\": {\"source\": {\"train\": {\"n_unique_x\": 179200, \"n_unique_y\": 16, \"n_batch/episode\": 6720}, \"val\": {\"n_unique_x\": 38400, \"n_unique_y\": 16, \"n_batch/episode\": 960}, \"test\": {\"n_unique_x\": 38400, \"n_unique_y\": 16, \"n_batch/episode\": 960}}, \"target\": {\"train\": {\"n_unique_x\": 175212, \"n_unique_y\": 58, \"n_batch/episode\": 6322}, \"val\": {\"n_unique_x\": 37196, \"n_unique_y\": 58, \"n_batch/episode\": 876}, \"test\": {\"n_unique_x\": 37634, \"n_unique_y\": 58, \"n_batch/episode\": 891}}}}'"
      ]
     },
     "execution_count": 29,
     "metadata": {},
     "output_type": "execute_result"
    }
   ],
   "source": [
    "json.dumps(experiment)"
   ]
  }
 ],
 "metadata": {
  "celltoolbar": "Tags",
  "kernelspec": {
   "display_name": "Python 3 (ipykernel)",
   "language": "python",
   "name": "python3"
  },
  "language_info": {
   "codemirror_mode": {
    "name": "ipython",
    "version": 3
   },
   "file_extension": ".py",
   "mimetype": "text/x-python",
   "name": "python",
   "nbconvert_exporter": "python",
   "pygments_lexer": "ipython3",
   "version": "3.8.12"
  },
  "papermill": {
   "default_parameters": {},
   "duration": 1988.615033,
   "end_time": "2022-03-21T05:19:41.180303",
   "environment_variables": {},
   "exception": null,
   "input_path": "/root/csc500-main/csc500-notebooks/templates/tl_ptn_template.ipynb",
   "output_path": "trial.ipynb",
   "parameters": {
    "parameters": {
     "BEST_MODEL_PATH": "./best_model.pth",
     "NUM_LOGS_PER_EPOCH": 10,
     "criteria_for_best": "target_accuracy",
     "dataset_seed": 1337,
     "datasets": [
      {
       "domain_prefix": "CORES_",
       "domains": [
        1,
        2,
        3,
        4,
        5
       ],
       "episode_transforms": [],
       "labels": [
        "1-10.",
        "1-11.",
        "1-15.",
        "1-16.",
        "1-17.",
        "1-18.",
        "1-19.",
        "10-4.",
        "10-7.",
        "11-1.",
        "11-14.",
        "11-17.",
        "11-20.",
        "11-7.",
        "13-20.",
        "13-8.",
        "14-10.",
        "14-11.",
        "14-14.",
        "14-7.",
        "15-1.",
        "15-20.",
        "16-1.",
        "16-16.",
        "17-10.",
        "17-11.",
        "17-2.",
        "19-1.",
        "19-16.",
        "19-19.",
        "19-20.",
        "19-3.",
        "2-10.",
        "2-11.",
        "2-17.",
        "2-18.",
        "2-20.",
        "2-3.",
        "2-4.",
        "2-5.",
        "2-6.",
        "2-7.",
        "2-8.",
        "3-13.",
        "3-18.",
        "3-3.",
        "4-1.",
        "4-10.",
        "4-11.",
        "4-19.",
        "5-5.",
        "6-15.",
        "7-10.",
        "7-14.",
        "8-18.",
        "8-20.",
        "8-3.",
        "8-8."
       ],
       "num_examples_per_domain_per_label": -1,
       "pickle_path": "/root/csc500-main/datasets/cores.stratified_ds.2022A.pkl",
       "source_or_target_dataset": "target",
       "x_transforms": [
        "unit_mag"
       ]
      },
      {
       "domain_prefix": "ORACLE.run1_",
       "domains": [
        32,
        38,
        8,
        44,
        14,
        50,
        20,
        26
       ],
       "episode_transforms": [],
       "labels": [
        "3123D52",
        "3123D65",
        "3123D79",
        "3123D80",
        "3123D54",
        "3123D70",
        "3123D7B",
        "3123D89",
        "3123D58",
        "3123D76",
        "3123D7D",
        "3123EFE",
        "3123D64",
        "3123D78",
        "3123D7E",
        "3124E4A"
       ],
       "num_examples_per_domain_per_label": 2000,
       "pickle_path": "/root/csc500-main/datasets/oracle.Run1_framed_2000Examples_stratified_ds.2022A.pkl",
       "source_or_target_dataset": "source",
       "x_transforms": [
        "unit_mag"
       ]
      }
     ],
     "device": "cuda",
     "experiment_name": "tl_1v2:cores-oracle.run1.framed",
     "lr": 0.0001,
     "n_epoch": 50,
     "n_query": 2,
     "n_shot": 3,
     "n_way": 16,
     "patience": 3,
     "seed": 1337,
     "test_k_factor": 2,
     "torch_default_dtype": "torch.float32",
     "train_k_factor": 3,
     "val_k_factor": 2,
     "x_net": [
      {
       "class": "nnReshape",
       "kargs": {
        "shape": [
         -1,
         1,
         2,
         256
        ]
       }
      },
      {
       "class": "Conv2d",
       "kargs": {
        "bias": false,
        "in_channels": 1,
        "kernel_size": [
         1,
         7
        ],
        "out_channels": 256,
        "padding": [
         0,
         3
        ]
       }
      },
      {
       "class": "ReLU",
       "kargs": {
        "inplace": true
       }
      },
      {
       "class": "BatchNorm2d",
       "kargs": {
        "num_features": 256
       }
      },
      {
       "class": "Conv2d",
       "kargs": {
        "bias": true,
        "in_channels": 256,
        "kernel_size": [
         2,
         7
        ],
        "out_channels": 80,
        "padding": [
         0,
         3
        ]
       }
      },
      {
       "class": "ReLU",
       "kargs": {
        "inplace": true
       }
      },
      {
       "class": "BatchNorm2d",
       "kargs": {
        "num_features": 80
       }
      },
      {
       "class": "Flatten",
       "kargs": {}
      },
      {
       "class": "Linear",
       "kargs": {
        "in_features": 20480,
        "out_features": 256
       }
      },
      {
       "class": "ReLU",
       "kargs": {
        "inplace": true
       }
      },
      {
       "class": "BatchNorm1d",
       "kargs": {
        "num_features": 256
       }
      },
      {
       "class": "Linear",
       "kargs": {
        "in_features": 256,
        "out_features": 256
       }
      }
     ]
    }
   },
   "start_time": "2022-03-21T04:46:32.565270",
   "version": "2.3.4"
  }
 },
 "nbformat": 4,
 "nbformat_minor": 5
}