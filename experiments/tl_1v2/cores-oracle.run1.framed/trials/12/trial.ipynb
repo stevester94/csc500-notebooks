{
 "cells": [
  {
   "cell_type": "markdown",
   "id": "9fea5f46",
   "metadata": {
    "papermill": {
     "duration": 0.025646,
     "end_time": "2022-03-21T09:18:23.990950",
     "exception": false,
     "start_time": "2022-03-21T09:18:23.965304",
     "status": "completed"
    },
    "tags": []
   },
   "source": [
    "# Transfer Learning Template"
   ]
  },
  {
   "cell_type": "code",
   "execution_count": 1,
   "id": "0902182a",
   "metadata": {
    "execution": {
     "iopub.execute_input": "2022-03-21T09:18:24.054619Z",
     "iopub.status.busy": "2022-03-21T09:18:24.053788Z",
     "iopub.status.idle": "2022-03-21T09:18:25.922877Z",
     "shell.execute_reply": "2022-03-21T09:18:25.922398Z"
    },
    "papermill": {
     "duration": 1.906205,
     "end_time": "2022-03-21T09:18:25.923000",
     "exception": false,
     "start_time": "2022-03-21T09:18:24.016795",
     "status": "completed"
    },
    "tags": []
   },
   "outputs": [],
   "source": [
    "%load_ext autoreload\n",
    "%autoreload 2\n",
    "%matplotlib inline\n",
    "\n",
    "    \n",
    "import os, json, sys, time, random\n",
    "import numpy as np\n",
    "import torch\n",
    "from torch.optim import Adam\n",
    "from  easydict import EasyDict\n",
    "import matplotlib.pyplot as plt\n",
    "\n",
    "from steves_models.steves_ptn import Steves_Prototypical_Network\n",
    "\n",
    "from steves_utils.lazy_iterable_wrapper import Lazy_Iterable_Wrapper\n",
    "from steves_utils.iterable_aggregator import Iterable_Aggregator\n",
    "from steves_utils.ptn_train_eval_test_jig import  PTN_Train_Eval_Test_Jig\n",
    "from steves_utils.torch_sequential_builder import build_sequential\n",
    "from steves_utils.torch_utils import get_dataset_metrics, ptn_confusion_by_domain_over_dataloader\n",
    "from steves_utils.utils_v2 import (per_domain_accuracy_from_confusion, get_datasets_base_path)\n",
    "from steves_utils.PTN.utils import independent_accuracy_assesment\n",
    "\n",
    "from torch.utils.data import DataLoader\n",
    "\n",
    "from steves_utils.stratified_dataset.episodic_accessor import Episodic_Accessor_Factory\n",
    "\n",
    "from steves_utils.ptn_do_report import (\n",
    "    get_loss_curve,\n",
    "    get_results_table,\n",
    "    get_parameters_table,\n",
    "    get_domain_accuracies,\n",
    ")\n",
    "\n",
    "from steves_utils.transforms import get_chained_transform"
   ]
  },
  {
   "cell_type": "markdown",
   "id": "41c840b4",
   "metadata": {
    "papermill": {
     "duration": 0.019158,
     "end_time": "2022-03-21T09:18:25.968585",
     "exception": false,
     "start_time": "2022-03-21T09:18:25.949427",
     "status": "completed"
    },
    "tags": []
   },
   "source": [
    "# Allowed Parameters\n",
    "These are allowed parameters, not defaults\n",
    "Each of these values need to be present in the injected parameters (the notebook will raise an exception if they are not present)\n",
    "\n",
    "Papermill uses the cell tag \"parameters\" to inject the real parameters below this cell.\n",
    "Enable tags to see what I mean"
   ]
  },
  {
   "cell_type": "code",
   "execution_count": 2,
   "id": "fd44eb83",
   "metadata": {
    "execution": {
     "iopub.execute_input": "2022-03-21T09:18:26.010105Z",
     "iopub.status.busy": "2022-03-21T09:18:26.009721Z",
     "iopub.status.idle": "2022-03-21T09:18:26.029494Z",
     "shell.execute_reply": "2022-03-21T09:18:26.028761Z"
    },
    "papermill": {
     "duration": 0.041966,
     "end_time": "2022-03-21T09:18:26.029674",
     "exception": false,
     "start_time": "2022-03-21T09:18:25.987708",
     "status": "completed"
    },
    "tags": []
   },
   "outputs": [],
   "source": [
    "required_parameters = {\n",
    "    \"experiment_name\",\n",
    "    \"lr\",\n",
    "    \"device\",\n",
    "    \"seed\",\n",
    "    \"dataset_seed\",\n",
    "    \"n_shot\",\n",
    "    \"n_query\",\n",
    "    \"n_way\",\n",
    "    \"train_k_factor\",\n",
    "    \"val_k_factor\",\n",
    "    \"test_k_factor\",\n",
    "    \"n_epoch\",\n",
    "    \"patience\",\n",
    "    \"criteria_for_best\",\n",
    "    \"x_net\",\n",
    "    \"datasets\",\n",
    "    \"torch_default_dtype\",\n",
    "    \"NUM_LOGS_PER_EPOCH\",\n",
    "    \"BEST_MODEL_PATH\",\n",
    "    \"x_shape\",\n",
    "}"
   ]
  },
  {
   "cell_type": "code",
   "execution_count": 3,
   "id": "fa3f0049",
   "metadata": {
    "execution": {
     "iopub.execute_input": "2022-03-21T09:18:26.087909Z",
     "iopub.status.busy": "2022-03-21T09:18:26.087470Z",
     "iopub.status.idle": "2022-03-21T09:18:26.106752Z",
     "shell.execute_reply": "2022-03-21T09:18:26.106036Z"
    },
    "papermill": {
     "duration": 0.048932,
     "end_time": "2022-03-21T09:18:26.106918",
     "exception": false,
     "start_time": "2022-03-21T09:18:26.057986",
     "status": "completed"
    },
    "tags": [
     "parameters"
    ]
   },
   "outputs": [],
   "source": [
    "from steves_utils.CORES.utils import (\n",
    "    ALL_NODES,\n",
    "    ALL_NODES_MINIMUM_1000_EXAMPLES,\n",
    "    ALL_DAYS\n",
    ")\n",
    "\n",
    "from steves_utils.ORACLE.utils_v2 import (\n",
    "    ALL_DISTANCES_FEET_NARROWED,\n",
    "    ALL_RUNS,\n",
    "    ALL_SERIAL_NUMBERS,\n",
    ")\n",
    "\n",
    "standalone_parameters = {}\n",
    "standalone_parameters[\"experiment_name\"] = \"STANDALONE PTN\"\n",
    "standalone_parameters[\"lr\"] = 0.001\n",
    "standalone_parameters[\"device\"] = \"cuda\"\n",
    "\n",
    "standalone_parameters[\"seed\"] = 1337\n",
    "standalone_parameters[\"dataset_seed\"] = 1337\n",
    "\n",
    "standalone_parameters[\"n_way\"] = 8\n",
    "standalone_parameters[\"n_shot\"] = 3\n",
    "standalone_parameters[\"n_query\"]  = 2\n",
    "standalone_parameters[\"train_k_factor\"] = 1\n",
    "standalone_parameters[\"val_k_factor\"] = 2\n",
    "standalone_parameters[\"test_k_factor\"] = 2\n",
    "\n",
    "\n",
    "standalone_parameters[\"n_epoch\"] = 50\n",
    "\n",
    "standalone_parameters[\"patience\"] = 10\n",
    "standalone_parameters[\"criteria_for_best\"] = \"source_loss\"\n",
    "\n",
    "standalone_parameters[\"datasets\"] = [\n",
    "    {\n",
    "        \"labels\": ALL_SERIAL_NUMBERS,\n",
    "        \"domains\": ALL_DISTANCES_FEET_NARROWED,\n",
    "        \"num_examples_per_domain_per_label\": 100,\n",
    "        \"pickle_path\": os.path.join(get_datasets_base_path(), \"oracle.Run1_framed_2000Examples_stratified_ds.2022A.pkl\"),\n",
    "        \"source_or_target_dataset\": \"source\",\n",
    "        \"x_transforms\": [\"unit_mag\", \"minus_two\"],\n",
    "        \"episode_transforms\": [],\n",
    "        \"domain_prefix\": \"ORACLE_\"\n",
    "    },\n",
    "    {\n",
    "        \"labels\": ALL_NODES,\n",
    "        \"domains\": ALL_DAYS,\n",
    "        \"num_examples_per_domain_per_label\": 100,\n",
    "        \"pickle_path\": os.path.join(get_datasets_base_path(), \"cores.stratified_ds.2022A.pkl\"),\n",
    "        \"source_or_target_dataset\": \"target\",\n",
    "        \"x_transforms\": [\"unit_power\", \"times_zero\"],\n",
    "        \"episode_transforms\": [],\n",
    "        \"domain_prefix\": \"CORES_\"\n",
    "    }   \n",
    "]\n",
    "\n",
    "standalone_parameters[\"torch_default_dtype\"] = \"torch.float32\" \n",
    "\n",
    "\n",
    "\n",
    "standalone_parameters[\"x_net\"] =     [\n",
    "    {\"class\": \"nnReshape\", \"kargs\": {\"shape\":[-1, 1, 2, 256]}},\n",
    "    {\"class\": \"Conv2d\", \"kargs\": { \"in_channels\":1, \"out_channels\":256, \"kernel_size\":(1,7), \"bias\":False, \"padding\":(0,3), },},\n",
    "    {\"class\": \"ReLU\", \"kargs\": {\"inplace\": True}},\n",
    "    {\"class\": \"BatchNorm2d\", \"kargs\": {\"num_features\":256}},\n",
    "\n",
    "    {\"class\": \"Conv2d\", \"kargs\": { \"in_channels\":256, \"out_channels\":80, \"kernel_size\":(2,7), \"bias\":True, \"padding\":(0,3), },},\n",
    "    {\"class\": \"ReLU\", \"kargs\": {\"inplace\": True}},\n",
    "    {\"class\": \"BatchNorm2d\", \"kargs\": {\"num_features\":80}},\n",
    "    {\"class\": \"Flatten\", \"kargs\": {}},\n",
    "\n",
    "    {\"class\": \"Linear\", \"kargs\": {\"in_features\": 80*256, \"out_features\": 256}}, # 80 units per IQ pair\n",
    "    {\"class\": \"ReLU\", \"kargs\": {\"inplace\": True}},\n",
    "    {\"class\": \"BatchNorm1d\", \"kargs\": {\"num_features\":256}},\n",
    "\n",
    "    {\"class\": \"Linear\", \"kargs\": {\"in_features\": 256, \"out_features\": 256}},\n",
    "]\n",
    "\n",
    "# Parameters relevant to results\n",
    "# These parameters will basically never need to change\n",
    "standalone_parameters[\"NUM_LOGS_PER_EPOCH\"] = 10\n",
    "standalone_parameters[\"BEST_MODEL_PATH\"] = \"./best_model.pth\"\n",
    "\n",
    "\n",
    "\n",
    "\n"
   ]
  },
  {
   "cell_type": "code",
   "execution_count": 4,
   "id": "6b6a7053",
   "metadata": {
    "execution": {
     "iopub.execute_input": "2022-03-21T09:18:26.160118Z",
     "iopub.status.busy": "2022-03-21T09:18:26.159685Z",
     "iopub.status.idle": "2022-03-21T09:18:26.178520Z",
     "shell.execute_reply": "2022-03-21T09:18:26.177818Z"
    },
    "papermill": {
     "duration": 0.047217,
     "end_time": "2022-03-21T09:18:26.178675",
     "exception": false,
     "start_time": "2022-03-21T09:18:26.131458",
     "status": "completed"
    },
    "tags": [
     "injected-parameters"
    ]
   },
   "outputs": [],
   "source": [
    "# Parameters\n",
    "parameters = {\n",
    "    \"experiment_name\": \"tl_1v2:cores-oracle.run1.framed\",\n",
    "    \"device\": \"cuda\",\n",
    "    \"lr\": 0.0001,\n",
    "    \"n_shot\": 3,\n",
    "    \"n_query\": 2,\n",
    "    \"train_k_factor\": 3,\n",
    "    \"val_k_factor\": 2,\n",
    "    \"test_k_factor\": 2,\n",
    "    \"torch_default_dtype\": \"torch.float32\",\n",
    "    \"n_epoch\": 50,\n",
    "    \"patience\": 3,\n",
    "    \"criteria_for_best\": \"target_accuracy\",\n",
    "    \"x_net\": [\n",
    "        {\"class\": \"nnReshape\", \"kargs\": {\"shape\": [-1, 1, 2, 256]}},\n",
    "        {\n",
    "            \"class\": \"Conv2d\",\n",
    "            \"kargs\": {\n",
    "                \"in_channels\": 1,\n",
    "                \"out_channels\": 256,\n",
    "                \"kernel_size\": [1, 7],\n",
    "                \"bias\": False,\n",
    "                \"padding\": [0, 3],\n",
    "            },\n",
    "        },\n",
    "        {\"class\": \"ReLU\", \"kargs\": {\"inplace\": True}},\n",
    "        {\"class\": \"BatchNorm2d\", \"kargs\": {\"num_features\": 256}},\n",
    "        {\n",
    "            \"class\": \"Conv2d\",\n",
    "            \"kargs\": {\n",
    "                \"in_channels\": 256,\n",
    "                \"out_channels\": 80,\n",
    "                \"kernel_size\": [2, 7],\n",
    "                \"bias\": True,\n",
    "                \"padding\": [0, 3],\n",
    "            },\n",
    "        },\n",
    "        {\"class\": \"ReLU\", \"kargs\": {\"inplace\": True}},\n",
    "        {\"class\": \"BatchNorm2d\", \"kargs\": {\"num_features\": 80}},\n",
    "        {\"class\": \"Flatten\", \"kargs\": {}},\n",
    "        {\"class\": \"Linear\", \"kargs\": {\"in_features\": 20480, \"out_features\": 256}},\n",
    "        {\"class\": \"ReLU\", \"kargs\": {\"inplace\": True}},\n",
    "        {\"class\": \"BatchNorm1d\", \"kargs\": {\"num_features\": 256}},\n",
    "        {\"class\": \"Linear\", \"kargs\": {\"in_features\": 256, \"out_features\": 256}},\n",
    "    ],\n",
    "    \"NUM_LOGS_PER_EPOCH\": 10,\n",
    "    \"BEST_MODEL_PATH\": \"./best_model.pth\",\n",
    "    \"n_way\": 16,\n",
    "    \"datasets\": [\n",
    "        {\n",
    "            \"labels\": [\n",
    "                \"1-10.\",\n",
    "                \"1-11.\",\n",
    "                \"1-15.\",\n",
    "                \"1-16.\",\n",
    "                \"1-17.\",\n",
    "                \"1-18.\",\n",
    "                \"1-19.\",\n",
    "                \"10-4.\",\n",
    "                \"10-7.\",\n",
    "                \"11-1.\",\n",
    "                \"11-14.\",\n",
    "                \"11-17.\",\n",
    "                \"11-20.\",\n",
    "                \"11-7.\",\n",
    "                \"13-20.\",\n",
    "                \"13-8.\",\n",
    "                \"14-10.\",\n",
    "                \"14-11.\",\n",
    "                \"14-14.\",\n",
    "                \"14-7.\",\n",
    "                \"15-1.\",\n",
    "                \"15-20.\",\n",
    "                \"16-1.\",\n",
    "                \"16-16.\",\n",
    "                \"17-10.\",\n",
    "                \"17-11.\",\n",
    "                \"17-2.\",\n",
    "                \"19-1.\",\n",
    "                \"19-16.\",\n",
    "                \"19-19.\",\n",
    "                \"19-20.\",\n",
    "                \"19-3.\",\n",
    "                \"2-10.\",\n",
    "                \"2-11.\",\n",
    "                \"2-17.\",\n",
    "                \"2-18.\",\n",
    "                \"2-20.\",\n",
    "                \"2-3.\",\n",
    "                \"2-4.\",\n",
    "                \"2-5.\",\n",
    "                \"2-6.\",\n",
    "                \"2-7.\",\n",
    "                \"2-8.\",\n",
    "                \"3-13.\",\n",
    "                \"3-18.\",\n",
    "                \"3-3.\",\n",
    "                \"4-1.\",\n",
    "                \"4-10.\",\n",
    "                \"4-11.\",\n",
    "                \"4-19.\",\n",
    "                \"5-5.\",\n",
    "                \"6-15.\",\n",
    "                \"7-10.\",\n",
    "                \"7-14.\",\n",
    "                \"8-18.\",\n",
    "                \"8-20.\",\n",
    "                \"8-3.\",\n",
    "                \"8-8.\",\n",
    "            ],\n",
    "            \"domains\": [1, 2, 3, 4, 5],\n",
    "            \"num_examples_per_domain_per_label\": -1,\n",
    "            \"pickle_path\": \"/root/csc500-main/datasets/cores.stratified_ds.2022A.pkl\",\n",
    "            \"source_or_target_dataset\": \"source\",\n",
    "            \"x_transforms\": [\"unit_power\"],\n",
    "            \"episode_transforms\": [],\n",
    "            \"domain_prefix\": \"CORES_\",\n",
    "        },\n",
    "        {\n",
    "            \"labels\": [\n",
    "                \"3123D52\",\n",
    "                \"3123D65\",\n",
    "                \"3123D79\",\n",
    "                \"3123D80\",\n",
    "                \"3123D54\",\n",
    "                \"3123D70\",\n",
    "                \"3123D7B\",\n",
    "                \"3123D89\",\n",
    "                \"3123D58\",\n",
    "                \"3123D76\",\n",
    "                \"3123D7D\",\n",
    "                \"3123EFE\",\n",
    "                \"3123D64\",\n",
    "                \"3123D78\",\n",
    "                \"3123D7E\",\n",
    "                \"3124E4A\",\n",
    "            ],\n",
    "            \"domains\": [32, 38, 8, 44, 14, 50, 20, 26],\n",
    "            \"num_examples_per_domain_per_label\": 2000,\n",
    "            \"pickle_path\": \"/root/csc500-main/datasets/oracle.Run1_framed_2000Examples_stratified_ds.2022A.pkl\",\n",
    "            \"source_or_target_dataset\": \"target\",\n",
    "            \"x_transforms\": [\"unit_power\"],\n",
    "            \"episode_transforms\": [],\n",
    "            \"domain_prefix\": \"ORACLE.run1_\",\n",
    "        },\n",
    "    ],\n",
    "    \"dataset_seed\": 154325,\n",
    "    \"seed\": 154325,\n",
    "}\n"
   ]
  },
  {
   "cell_type": "code",
   "execution_count": 5,
   "id": "8fa1cc33",
   "metadata": {
    "execution": {
     "iopub.execute_input": "2022-03-21T09:18:26.226758Z",
     "iopub.status.busy": "2022-03-21T09:18:26.226328Z",
     "iopub.status.idle": "2022-03-21T09:18:26.243405Z",
     "shell.execute_reply": "2022-03-21T09:18:26.244109Z"
    },
    "papermill": {
     "duration": 0.040747,
     "end_time": "2022-03-21T09:18:26.244292",
     "exception": false,
     "start_time": "2022-03-21T09:18:26.203545",
     "status": "completed"
    },
    "tags": []
   },
   "outputs": [],
   "source": [
    "# Set this to True if you want to run this template directly\n",
    "STANDALONE = False\n",
    "if STANDALONE:\n",
    "    print(\"parameters not injected, running with standalone_parameters\")\n",
    "    parameters = standalone_parameters\n",
    "\n",
    "if not 'parameters' in locals() and not 'parameters' in globals():\n",
    "    raise Exception(\"Parameter injection failed\")\n",
    "\n",
    "#Use an easy dict for all the parameters\n",
    "p = EasyDict(parameters)\n",
    "\n",
    "if \"x_shape\" not in p:\n",
    "    p.x_shape = [2,256] # Default to this if we dont supply x_shape\n",
    "\n",
    "\n",
    "supplied_keys = set(p.keys())\n",
    "\n",
    "if  supplied_keys != required_parameters:\n",
    "    print(\"Parameters are incorrect\")\n",
    "    if len(supplied_keys - required_parameters)>0: print(\"Shouldn't have:\", str(supplied_keys - required_parameters))\n",
    "    if len(required_parameters - supplied_keys)>0: print(\"Need to have:\", str(required_parameters - supplied_keys))\n",
    "    raise RuntimeError(\"Parameters are incorrect\")"
   ]
  },
  {
   "cell_type": "code",
   "execution_count": 6,
   "id": "3a028d58",
   "metadata": {
    "execution": {
     "iopub.execute_input": "2022-03-21T09:18:26.293055Z",
     "iopub.status.busy": "2022-03-21T09:18:26.292690Z",
     "iopub.status.idle": "2022-03-21T09:18:26.310259Z",
     "shell.execute_reply": "2022-03-21T09:18:26.309534Z"
    },
    "papermill": {
     "duration": 0.039837,
     "end_time": "2022-03-21T09:18:26.310412",
     "exception": false,
     "start_time": "2022-03-21T09:18:26.270575",
     "status": "completed"
    },
    "tags": []
   },
   "outputs": [],
   "source": [
    "###################################\n",
    "# Set the RNGs and make it all deterministic\n",
    "###################################\n",
    "np.random.seed(p.seed)\n",
    "random.seed(p.seed)\n",
    "torch.manual_seed(p.seed)\n",
    "\n",
    "torch.use_deterministic_algorithms(True) "
   ]
  },
  {
   "cell_type": "code",
   "execution_count": 7,
   "id": "b691acf6",
   "metadata": {
    "execution": {
     "iopub.execute_input": "2022-03-21T09:18:26.357547Z",
     "iopub.status.busy": "2022-03-21T09:18:26.357182Z",
     "iopub.status.idle": "2022-03-21T09:18:26.373866Z",
     "shell.execute_reply": "2022-03-21T09:18:26.373054Z"
    },
    "papermill": {
     "duration": 0.03843,
     "end_time": "2022-03-21T09:18:26.374021",
     "exception": false,
     "start_time": "2022-03-21T09:18:26.335591",
     "status": "completed"
    },
    "tags": []
   },
   "outputs": [],
   "source": [
    "###########################################\n",
    "# The stratified datasets honor this\n",
    "###########################################\n",
    "torch.set_default_dtype(eval(p.torch_default_dtype))"
   ]
  },
  {
   "cell_type": "code",
   "execution_count": 8,
   "id": "b5fba671",
   "metadata": {
    "execution": {
     "iopub.execute_input": "2022-03-21T09:18:26.421808Z",
     "iopub.status.busy": "2022-03-21T09:18:26.421444Z",
     "iopub.status.idle": "2022-03-21T09:18:26.471695Z",
     "shell.execute_reply": "2022-03-21T09:18:26.470924Z"
    },
    "papermill": {
     "duration": 0.072449,
     "end_time": "2022-03-21T09:18:26.471853",
     "exception": false,
     "start_time": "2022-03-21T09:18:26.399404",
     "status": "completed"
    },
    "tags": []
   },
   "outputs": [],
   "source": [
    "###################################\n",
    "# Build the network(s)\n",
    "# Note: It's critical to do this AFTER setting the RNG\n",
    "###################################\n",
    "x_net = build_sequential(p.x_net)"
   ]
  },
  {
   "cell_type": "code",
   "execution_count": 9,
   "id": "5d7e61cc",
   "metadata": {
    "execution": {
     "iopub.execute_input": "2022-03-21T09:18:26.521605Z",
     "iopub.status.busy": "2022-03-21T09:18:26.521242Z",
     "iopub.status.idle": "2022-03-21T09:18:26.543371Z",
     "shell.execute_reply": "2022-03-21T09:18:26.542617Z"
    },
    "papermill": {
     "duration": 0.044857,
     "end_time": "2022-03-21T09:18:26.543528",
     "exception": false,
     "start_time": "2022-03-21T09:18:26.498671",
     "status": "completed"
    },
    "tags": []
   },
   "outputs": [],
   "source": [
    "start_time_secs = time.time()"
   ]
  },
  {
   "cell_type": "code",
   "execution_count": 10,
   "id": "c6b67dfd",
   "metadata": {
    "execution": {
     "iopub.execute_input": "2022-03-21T09:18:26.593979Z",
     "iopub.status.busy": "2022-03-21T09:18:26.593614Z",
     "iopub.status.idle": "2022-03-21T09:18:26.610249Z",
     "shell.execute_reply": "2022-03-21T09:18:26.609442Z"
    },
    "papermill": {
     "duration": 0.03955,
     "end_time": "2022-03-21T09:18:26.610401",
     "exception": false,
     "start_time": "2022-03-21T09:18:26.570851",
     "status": "completed"
    },
    "tags": []
   },
   "outputs": [],
   "source": [
    "p.domains_source = []\n",
    "p.domains_target = []\n",
    "\n",
    "\n",
    "train_original_source = []\n",
    "val_original_source   = []\n",
    "test_original_source  = []\n",
    "\n",
    "train_original_target = []\n",
    "val_original_target   = []\n",
    "test_original_target  = []"
   ]
  },
  {
   "cell_type": "code",
   "execution_count": 11,
   "id": "e3d9c3d3",
   "metadata": {
    "execution": {
     "iopub.execute_input": "2022-03-21T09:18:26.659172Z",
     "iopub.status.busy": "2022-03-21T09:18:26.658805Z",
     "iopub.status.idle": "2022-03-21T09:18:26.675440Z",
     "shell.execute_reply": "2022-03-21T09:18:26.674724Z"
    },
    "papermill": {
     "duration": 0.039237,
     "end_time": "2022-03-21T09:18:26.675635",
     "exception": false,
     "start_time": "2022-03-21T09:18:26.636398",
     "status": "completed"
    },
    "tags": []
   },
   "outputs": [],
   "source": [
    "# global_x_transform_func = lambda x: normalize(x.to(torch.get_default_dtype()), \"unit_power\") # unit_power, unit_mag\n",
    "# global_x_transform_func = lambda x: normalize(x, \"unit_power\") # unit_power, unit_mag"
   ]
  },
  {
   "cell_type": "code",
   "execution_count": 12,
   "id": "acb78fd2",
   "metadata": {
    "execution": {
     "iopub.execute_input": "2022-03-21T09:18:26.732920Z",
     "iopub.status.busy": "2022-03-21T09:18:26.732274Z",
     "iopub.status.idle": "2022-03-21T09:18:26.751135Z",
     "shell.execute_reply": "2022-03-21T09:18:26.750447Z"
    },
    "papermill": {
     "duration": 0.048478,
     "end_time": "2022-03-21T09:18:26.751289",
     "exception": false,
     "start_time": "2022-03-21T09:18:26.702811",
     "status": "completed"
    },
    "tags": []
   },
   "outputs": [],
   "source": [
    "def add_dataset(\n",
    "    labels,\n",
    "    domains,\n",
    "    pickle_path,\n",
    "    x_transforms,\n",
    "    episode_transforms,\n",
    "    domain_prefix,\n",
    "    num_examples_per_domain_per_label,\n",
    "    source_or_target_dataset:str,\n",
    "    iterator_seed=p.seed,\n",
    "    dataset_seed=p.dataset_seed,\n",
    "    n_shot=p.n_shot,\n",
    "    n_way=p.n_way,\n",
    "    n_query=p.n_query,\n",
    "    train_val_test_k_factors=(p.train_k_factor,p.val_k_factor,p.test_k_factor),\n",
    "):\n",
    "   \n",
    "    if x_transforms == []: x_transform = None\n",
    "    else: x_transform = get_chained_transform(x_transforms)\n",
    "    \n",
    "    if episode_transforms == []: episode_transform = None\n",
    "    else: raise Exception(\"episode_transforms not implemented\")\n",
    "    \n",
    "    episode_transform = lambda tup, _prefix=domain_prefix: (_prefix + str(tup[0]), tup[1])\n",
    "\n",
    "\n",
    "    eaf = Episodic_Accessor_Factory(\n",
    "        labels=labels,\n",
    "        domains=domains,\n",
    "        num_examples_per_domain_per_label=num_examples_per_domain_per_label,\n",
    "        iterator_seed=iterator_seed,\n",
    "        dataset_seed=dataset_seed,\n",
    "        n_shot=n_shot,\n",
    "        n_way=n_way,\n",
    "        n_query=n_query,\n",
    "        train_val_test_k_factors=train_val_test_k_factors,\n",
    "        pickle_path=pickle_path,\n",
    "        x_transform_func=x_transform,\n",
    "    )\n",
    "\n",
    "    train, val, test = eaf.get_train(), eaf.get_val(), eaf.get_test()\n",
    "    train = Lazy_Iterable_Wrapper(train, episode_transform)\n",
    "    val = Lazy_Iterable_Wrapper(val, episode_transform)\n",
    "    test = Lazy_Iterable_Wrapper(test, episode_transform)\n",
    "\n",
    "    if source_or_target_dataset==\"source\":\n",
    "        train_original_source.append(train)\n",
    "        val_original_source.append(val)\n",
    "        test_original_source.append(test)\n",
    "\n",
    "        p.domains_source.extend(\n",
    "            [domain_prefix + str(u) for u in domains]\n",
    "        )\n",
    "    elif source_or_target_dataset==\"target\":\n",
    "        train_original_target.append(train)\n",
    "        val_original_target.append(val)\n",
    "        test_original_target.append(test)\n",
    "        p.domains_target.extend(\n",
    "            [domain_prefix + str(u) for u in domains]\n",
    "        )\n",
    "    else:\n",
    "        raise Exception(f\"invalid source_or_target_dataset: {source_or_target_dataset}\")\n",
    "    "
   ]
  },
  {
   "cell_type": "code",
   "execution_count": 13,
   "id": "fe266617",
   "metadata": {
    "execution": {
     "iopub.execute_input": "2022-03-21T09:18:26.803843Z",
     "iopub.status.busy": "2022-03-21T09:18:26.803471Z",
     "iopub.status.idle": "2022-03-21T09:19:09.064150Z",
     "shell.execute_reply": "2022-03-21T09:19:09.063313Z"
    },
    "papermill": {
     "duration": 42.282856,
     "end_time": "2022-03-21T09:19:09.064344",
     "exception": false,
     "start_time": "2022-03-21T09:18:26.781488",
     "status": "completed"
    },
    "tags": []
   },
   "outputs": [],
   "source": [
    "for ds in p.datasets:\n",
    "    add_dataset(**ds)"
   ]
  },
  {
   "cell_type": "code",
   "execution_count": 14,
   "id": "b90d65ac",
   "metadata": {
    "execution": {
     "iopub.execute_input": "2022-03-21T09:19:09.116416Z",
     "iopub.status.busy": "2022-03-21T09:19:09.116035Z",
     "iopub.status.idle": "2022-03-21T09:19:09.142087Z",
     "shell.execute_reply": "2022-03-21T09:19:09.141267Z"
    },
    "papermill": {
     "duration": 0.050381,
     "end_time": "2022-03-21T09:19:09.142260",
     "exception": false,
     "start_time": "2022-03-21T09:19:09.091879",
     "status": "completed"
    },
    "tags": []
   },
   "outputs": [],
   "source": [
    "# from steves_utils.CORES.utils import (\n",
    "#     ALL_NODES,\n",
    "#     ALL_NODES_MINIMUM_1000_EXAMPLES,\n",
    "#     ALL_DAYS\n",
    "# )\n",
    "\n",
    "# add_dataset(\n",
    "#     labels=ALL_NODES,\n",
    "#     domains = ALL_DAYS,\n",
    "#     num_examples_per_domain_per_label=100,\n",
    "#     pickle_path=os.path.join(get_datasets_base_path(), \"cores.stratified_ds.2022A.pkl\"),\n",
    "#     source_or_target_dataset=\"target\",\n",
    "#     x_transform_func=global_x_transform_func,\n",
    "#     domain_modifier=lambda u: f\"cores_{u}\"\n",
    "# )"
   ]
  },
  {
   "cell_type": "code",
   "execution_count": 15,
   "id": "76db484d",
   "metadata": {
    "execution": {
     "iopub.execute_input": "2022-03-21T09:19:09.195519Z",
     "iopub.status.busy": "2022-03-21T09:19:09.195141Z",
     "iopub.status.idle": "2022-03-21T09:19:09.217606Z",
     "shell.execute_reply": "2022-03-21T09:19:09.216878Z"
    },
    "papermill": {
     "duration": 0.046804,
     "end_time": "2022-03-21T09:19:09.217780",
     "exception": false,
     "start_time": "2022-03-21T09:19:09.170976",
     "status": "completed"
    },
    "tags": []
   },
   "outputs": [],
   "source": [
    "# from steves_utils.ORACLE.utils_v2 import (\n",
    "#     ALL_DISTANCES_FEET,\n",
    "#     ALL_RUNS,\n",
    "#     ALL_SERIAL_NUMBERS,\n",
    "# )\n",
    "\n",
    "\n",
    "# add_dataset(\n",
    "#     labels=ALL_SERIAL_NUMBERS,\n",
    "#     domains = list(set(ALL_DISTANCES_FEET) - {2,62}),\n",
    "#     num_examples_per_domain_per_label=100,\n",
    "#     pickle_path=os.path.join(get_datasets_base_path(), \"oracle.Run2_framed_2000Examples_stratified_ds.2022A.pkl\"),\n",
    "#     source_or_target_dataset=\"source\",\n",
    "#     x_transform_func=global_x_transform_func,\n",
    "#     domain_modifier=lambda u: f\"oracle1_{u}\"\n",
    "# )\n"
   ]
  },
  {
   "cell_type": "code",
   "execution_count": 16,
   "id": "97dea9d2",
   "metadata": {
    "execution": {
     "iopub.execute_input": "2022-03-21T09:19:09.267736Z",
     "iopub.status.busy": "2022-03-21T09:19:09.267342Z",
     "iopub.status.idle": "2022-03-21T09:19:09.284139Z",
     "shell.execute_reply": "2022-03-21T09:19:09.283373Z"
    },
    "papermill": {
     "duration": 0.039724,
     "end_time": "2022-03-21T09:19:09.284310",
     "exception": false,
     "start_time": "2022-03-21T09:19:09.244586",
     "status": "completed"
    },
    "tags": []
   },
   "outputs": [],
   "source": [
    "# from steves_utils.ORACLE.utils_v2 import (\n",
    "#     ALL_DISTANCES_FEET,\n",
    "#     ALL_RUNS,\n",
    "#     ALL_SERIAL_NUMBERS,\n",
    "# )\n",
    "\n",
    "\n",
    "# add_dataset(\n",
    "#     labels=ALL_SERIAL_NUMBERS,\n",
    "#     domains = list(set(ALL_DISTANCES_FEET) - {2,62,56}),\n",
    "#     num_examples_per_domain_per_label=100,\n",
    "#     pickle_path=os.path.join(get_datasets_base_path(), \"oracle.Run2_framed_2000Examples_stratified_ds.2022A.pkl\"),\n",
    "#     source_or_target_dataset=\"source\",\n",
    "#     x_transform_func=global_x_transform_func,\n",
    "#     domain_modifier=lambda u: f\"oracle2_{u}\"\n",
    "# )"
   ]
  },
  {
   "cell_type": "code",
   "execution_count": 17,
   "id": "6f289866",
   "metadata": {
    "execution": {
     "iopub.execute_input": "2022-03-21T09:19:09.336928Z",
     "iopub.status.busy": "2022-03-21T09:19:09.336418Z",
     "iopub.status.idle": "2022-03-21T09:19:09.356026Z",
     "shell.execute_reply": "2022-03-21T09:19:09.355222Z"
    },
    "papermill": {
     "duration": 0.043201,
     "end_time": "2022-03-21T09:19:09.356202",
     "exception": false,
     "start_time": "2022-03-21T09:19:09.313001",
     "status": "completed"
    },
    "tags": []
   },
   "outputs": [],
   "source": [
    "# add_dataset(\n",
    "#     labels=list(range(19)),\n",
    "#     domains = [0,1,2],\n",
    "#     num_examples_per_domain_per_label=100,\n",
    "#     pickle_path=os.path.join(get_datasets_base_path(), \"metehan.stratified_ds.2022A.pkl\"),\n",
    "#     source_or_target_dataset=\"target\",\n",
    "#     x_transform_func=global_x_transform_func,\n",
    "#     domain_modifier=lambda u: f\"met_{u}\"\n",
    "# )"
   ]
  },
  {
   "cell_type": "code",
   "execution_count": 18,
   "id": "86a863c3",
   "metadata": {
    "execution": {
     "iopub.execute_input": "2022-03-21T09:19:09.408714Z",
     "iopub.status.busy": "2022-03-21T09:19:09.408275Z",
     "iopub.status.idle": "2022-03-21T09:19:09.425149Z",
     "shell.execute_reply": "2022-03-21T09:19:09.424423Z"
    },
    "papermill": {
     "duration": 0.040411,
     "end_time": "2022-03-21T09:19:09.425320",
     "exception": false,
     "start_time": "2022-03-21T09:19:09.384909",
     "status": "completed"
    },
    "tags": []
   },
   "outputs": [],
   "source": [
    "# # from steves_utils.wisig.utils import (\n",
    "# #     ALL_NODES_MINIMUM_100_EXAMPLES,\n",
    "# #     ALL_NODES_MINIMUM_500_EXAMPLES,\n",
    "# #     ALL_NODES_MINIMUM_1000_EXAMPLES,\n",
    "# #     ALL_DAYS\n",
    "# # )\n",
    "\n",
    "# import steves_utils.wisig.utils as wisig\n",
    "\n",
    "\n",
    "# add_dataset(\n",
    "#     labels=wisig.ALL_NODES_MINIMUM_100_EXAMPLES,\n",
    "#     domains = wisig.ALL_DAYS,\n",
    "#     num_examples_per_domain_per_label=100,\n",
    "#     pickle_path=os.path.join(get_datasets_base_path(), \"wisig.node3-19.stratified_ds.2022A.pkl\"),\n",
    "#     source_or_target_dataset=\"target\",\n",
    "#     x_transform_func=global_x_transform_func,\n",
    "#     domain_modifier=lambda u: f\"wisig_{u}\"\n",
    "# )"
   ]
  },
  {
   "cell_type": "code",
   "execution_count": 19,
   "id": "fd5442bc",
   "metadata": {
    "execution": {
     "iopub.execute_input": "2022-03-21T09:19:09.481165Z",
     "iopub.status.busy": "2022-03-21T09:19:09.480564Z",
     "iopub.status.idle": "2022-03-21T09:19:09.501332Z",
     "shell.execute_reply": "2022-03-21T09:19:09.500592Z"
    },
    "papermill": {
     "duration": 0.04869,
     "end_time": "2022-03-21T09:19:09.501508",
     "exception": false,
     "start_time": "2022-03-21T09:19:09.452818",
     "status": "completed"
    },
    "tags": []
   },
   "outputs": [],
   "source": [
    "###################################\n",
    "# Build the dataset\n",
    "###################################\n",
    "train_original_source = Iterable_Aggregator(train_original_source, p.seed)\n",
    "val_original_source = Iterable_Aggregator(val_original_source, p.seed)\n",
    "test_original_source = Iterable_Aggregator(test_original_source, p.seed)\n",
    "\n",
    "\n",
    "train_original_target = Iterable_Aggregator(train_original_target, p.seed)\n",
    "val_original_target = Iterable_Aggregator(val_original_target, p.seed)\n",
    "test_original_target = Iterable_Aggregator(test_original_target, p.seed)\n",
    "\n",
    "# For CNN We only use X and Y. And we only train on the source.\n",
    "# Properly form the data using a transform lambda and Lazy_Iterable_Wrapper. Finally wrap them in a dataloader\n",
    "\n",
    "transform_lambda = lambda ex: ex[1] # Original is (<domain>, <episode>) so we strip down to episode only\n",
    "\n",
    "train_processed_source = Lazy_Iterable_Wrapper(train_original_source, transform_lambda)\n",
    "val_processed_source   = Lazy_Iterable_Wrapper(val_original_source, transform_lambda)\n",
    "test_processed_source  = Lazy_Iterable_Wrapper(test_original_source, transform_lambda)\n",
    "\n",
    "train_processed_target = Lazy_Iterable_Wrapper(train_original_target, transform_lambda)\n",
    "val_processed_target   = Lazy_Iterable_Wrapper(val_original_target, transform_lambda)\n",
    "test_processed_target  = Lazy_Iterable_Wrapper(test_original_target, transform_lambda)\n",
    "\n",
    "datasets = EasyDict({\n",
    "    \"source\": {\n",
    "        \"original\": {\"train\":train_original_source, \"val\":val_original_source, \"test\":test_original_source},\n",
    "        \"processed\": {\"train\":train_processed_source, \"val\":val_processed_source, \"test\":test_processed_source}\n",
    "    },\n",
    "    \"target\": {\n",
    "        \"original\": {\"train\":train_original_target, \"val\":val_original_target, \"test\":test_original_target},\n",
    "        \"processed\": {\"train\":train_processed_target, \"val\":val_processed_target, \"test\":test_processed_target}\n",
    "    },\n",
    "})"
   ]
  },
  {
   "cell_type": "code",
   "execution_count": 20,
   "id": "5b3c01fc",
   "metadata": {
    "execution": {
     "iopub.execute_input": "2022-03-21T09:19:09.555735Z",
     "iopub.status.busy": "2022-03-21T09:19:09.555320Z",
     "iopub.status.idle": "2022-03-21T09:19:24.453624Z",
     "shell.execute_reply": "2022-03-21T09:19:24.452828Z"
    },
    "papermill": {
     "duration": 14.924393,
     "end_time": "2022-03-21T09:19:24.453813",
     "exception": false,
     "start_time": "2022-03-21T09:19:09.529420",
     "status": "completed"
    },
    "tags": []
   },
   "outputs": [
    {
     "name": "stdout",
     "output_type": "stream",
     "text": [
      "{'CORES_2', 'CORES_5', 'CORES_1', 'CORES_4', 'CORES_3'}\n"
     ]
    },
    {
     "name": "stdout",
     "output_type": "stream",
     "text": [
      "{'ORACLE.run1_32', 'ORACLE.run1_44', 'ORACLE.run1_14', 'ORACLE.run1_8', 'ORACLE.run1_38', 'ORACLE.run1_50', 'ORACLE.run1_26', 'ORACLE.run1_20'}\n"
     ]
    },
    {
     "name": "stdout",
     "output_type": "stream",
     "text": [
      "tensor([[[-0.5519, -0.3236,  1.1819,  ..., -0.0289, -0.3930,  0.3207],\n",
      "         [ 0.2543, -0.9565, -0.5432,  ...,  0.2369,  0.1734, -1.2830]],\n",
      "\n",
      "        [[-0.2484,  0.1704,  1.2448,  ...,  0.1762, -0.3697,  0.2426],\n",
      "         [ 0.0144, -0.7250,  0.2917,  ...,  0.0866, -0.1733, -0.2137]],\n",
      "\n",
      "        [[ 0.3357, -1.1851, -0.7326,  ...,  0.7793,  0.5021, -0.7589],\n",
      "         [ 1.2639,  0.2481, -0.6918,  ...,  0.4991,  1.3602,  0.2335]],\n",
      "\n",
      "        ...,\n",
      "\n",
      "        [[-0.1845,  0.2060,  0.4858,  ...,  0.2613, -0.3136,  1.0115],\n",
      "         [ 0.5042,  0.5349, -0.1199,  ...,  0.0400,  0.2613,  0.2552]],\n",
      "\n",
      "        [[-0.0033,  0.2911, -0.1701,  ..., -0.6410, -0.5560,  0.3336],\n",
      "         [-0.0425, -0.4775, -0.5331,  ..., -0.8634,  0.1014, -0.2289]],\n",
      "\n",
      "        [[-0.1189,  0.1189,  0.1940,  ...,  0.1784, -0.8732, -0.8137],\n",
      "         [-0.0438,  0.0282,  0.0156,  ..., -1.2143, -0.9890,  0.7355]]])\n"
     ]
    }
   ],
   "source": [
    "from steves_utils.transforms import get_average_magnitude, get_average_power\n",
    "\n",
    "print(set([u for u,_ in val_original_source]))\n",
    "print(set([u for u,_ in val_original_target]))\n",
    "\n",
    "s_x, s_y, q_x, q_y, _ = next(iter(train_processed_source))\n",
    "print(s_x)\n",
    "\n",
    "# for ds in [\n",
    "#     train_processed_source,\n",
    "#     val_processed_source,\n",
    "#     test_processed_source,\n",
    "#     train_processed_target,\n",
    "#     val_processed_target,\n",
    "#     test_processed_target\n",
    "# ]:\n",
    "#     for s_x, s_y, q_x, q_y, _ in ds:\n",
    "#         for X in (s_x, q_x):\n",
    "#             for x in X:\n",
    "#                 assert np.isclose(get_average_magnitude(x.numpy()), 1.0)\n",
    "#                 assert np.isclose(get_average_power(x.numpy()), 1.0)\n",
    "                "
   ]
  },
  {
   "cell_type": "code",
   "execution_count": 21,
   "id": "bbdacba1",
   "metadata": {
    "execution": {
     "iopub.execute_input": "2022-03-21T09:19:24.515562Z",
     "iopub.status.busy": "2022-03-21T09:19:24.515174Z",
     "iopub.status.idle": "2022-03-21T09:19:24.678870Z",
     "shell.execute_reply": "2022-03-21T09:19:24.679166Z"
    },
    "papermill": {
     "duration": 0.19156,
     "end_time": "2022-03-21T09:19:24.679282",
     "exception": false,
     "start_time": "2022-03-21T09:19:24.487722",
     "status": "completed"
    },
    "tags": []
   },
   "outputs": [
    {
     "name": "stdout",
     "output_type": "stream",
     "text": [
      "(2, 256)\n"
     ]
    }
   ],
   "source": [
    "###################################\n",
    "# Build the model\n",
    "###################################\n",
    "# easfsl only wants a tuple for the shape\n",
    "model = Steves_Prototypical_Network(x_net, device=p.device, x_shape=tuple(p.x_shape))\n",
    "optimizer = Adam(params=model.parameters(), lr=p.lr)"
   ]
  },
  {
   "cell_type": "code",
   "execution_count": 22,
   "id": "22b39ac5",
   "metadata": {
    "execution": {
     "iopub.execute_input": "2022-03-21T09:19:24.747945Z",
     "iopub.status.busy": "2022-03-21T09:19:24.747374Z",
     "iopub.status.idle": "2022-03-21T09:39:33.810919Z",
     "shell.execute_reply": "2022-03-21T09:39:33.810575Z"
    },
    "papermill": {
     "duration": 1209.109323,
     "end_time": "2022-03-21T09:39:33.811004",
     "exception": false,
     "start_time": "2022-03-21T09:19:24.701681",
     "status": "completed"
    },
    "tags": []
   },
   "outputs": [
    {
     "name": "stdout",
     "output_type": "stream",
     "text": [
      "epoch: 1, [batch: 1 / 6297], examples_per_second: 34.6907, train_label_loss: 2.4858, \n"
     ]
    },
    {
     "name": "stdout",
     "output_type": "stream",
     "text": [
      "epoch: 1, [batch: 630 / 6297], examples_per_second: 2928.7273, train_label_loss: 0.0828, \n"
     ]
    },
    {
     "name": "stdout",
     "output_type": "stream",
     "text": [
      "epoch: 1, [batch: 1260 / 6297], examples_per_second: 3008.5314, train_label_loss: 0.0061, \n"
     ]
    },
    {
     "name": "stdout",
     "output_type": "stream",
     "text": [
      "epoch: 1, [batch: 1889 / 6297], examples_per_second: 2583.5811, train_label_loss: 0.0044, \n"
     ]
    },
    {
     "name": "stdout",
     "output_type": "stream",
     "text": [
      "epoch: 1, [batch: 2519 / 6297], examples_per_second: 2604.5588, train_label_loss: 0.0088, \n"
     ]
    },
    {
     "name": "stdout",
     "output_type": "stream",
     "text": [
      "epoch: 1, [batch: 3149 / 6297], examples_per_second: 2583.9425, train_label_loss: 0.0317, \n"
     ]
    },
    {
     "name": "stdout",
     "output_type": "stream",
     "text": [
      "epoch: 1, [batch: 3778 / 6297], examples_per_second: 2622.1605, train_label_loss: 0.0003, \n"
     ]
    },
    {
     "name": "stdout",
     "output_type": "stream",
     "text": [
      "epoch: 1, [batch: 4408 / 6297], examples_per_second: 2560.7829, train_label_loss: 0.0002, \n"
     ]
    },
    {
     "name": "stdout",
     "output_type": "stream",
     "text": [
      "epoch: 1, [batch: 5037 / 6297], examples_per_second: 2548.5906, train_label_loss: 0.0002, \n"
     ]
    },
    {
     "name": "stdout",
     "output_type": "stream",
     "text": [
      "epoch: 1, [batch: 5667 / 6297], examples_per_second: 2962.0969, train_label_loss: 0.0004, \n"
     ]
    },
    {
     "name": "stdout",
     "output_type": "stream",
     "text": [
      "=============================================================\n",
      "epoch: 1, source_val_acc_label: 0.9982, target_val_acc_label: 0.2417, source_val_label_loss: 0.0100, target_val_label_loss: 2.2408, \n",
      "=============================================================\n"
     ]
    },
    {
     "name": "stdout",
     "output_type": "stream",
     "text": [
      "New best\n"
     ]
    },
    {
     "name": "stdout",
     "output_type": "stream",
     "text": [
      "epoch: 2, [batch: 1 / 6333], examples_per_second: 2.8962, train_label_loss: 0.0001, \n"
     ]
    },
    {
     "name": "stdout",
     "output_type": "stream",
     "text": [
      "epoch: 2, [batch: 634 / 6333], examples_per_second: 3319.6240, train_label_loss: 0.0001, \n"
     ]
    },
    {
     "name": "stdout",
     "output_type": "stream",
     "text": [
      "epoch: 2, [batch: 1267 / 6333], examples_per_second: 3314.1561, train_label_loss: 0.0006, \n"
     ]
    },
    {
     "name": "stdout",
     "output_type": "stream",
     "text": [
      "epoch: 2, [batch: 1900 / 6333], examples_per_second: 3234.9097, train_label_loss: 0.1799, \n"
     ]
    },
    {
     "name": "stdout",
     "output_type": "stream",
     "text": [
      "epoch: 2, [batch: 2533 / 6333], examples_per_second: 2988.3890, train_label_loss: 0.0002, \n"
     ]
    },
    {
     "name": "stdout",
     "output_type": "stream",
     "text": [
      "epoch: 2, [batch: 3167 / 6333], examples_per_second: 2906.8742, train_label_loss: 0.0000, \n"
     ]
    },
    {
     "name": "stdout",
     "output_type": "stream",
     "text": [
      "epoch: 2, [batch: 3800 / 6333], examples_per_second: 2835.7023, train_label_loss: 0.0000, \n"
     ]
    },
    {
     "name": "stdout",
     "output_type": "stream",
     "text": [
      "epoch: 2, [batch: 4433 / 6333], examples_per_second: 2292.0115, train_label_loss: 0.0000, \n"
     ]
    },
    {
     "name": "stdout",
     "output_type": "stream",
     "text": [
      "epoch: 2, [batch: 5066 / 6333], examples_per_second: 2302.3888, train_label_loss: 0.0011, \n"
     ]
    },
    {
     "name": "stdout",
     "output_type": "stream",
     "text": [
      "epoch: 2, [batch: 5699 / 6333], examples_per_second: 2294.9624, train_label_loss: 0.0000, \n"
     ]
    },
    {
     "name": "stdout",
     "output_type": "stream",
     "text": [
      "=============================================================\n",
      "epoch: 2, source_val_acc_label: 0.9979, target_val_acc_label: 0.2178, source_val_label_loss: 0.0131, target_val_label_loss: 2.6551, \n",
      "=============================================================\n"
     ]
    },
    {
     "name": "stdout",
     "output_type": "stream",
     "text": [
      "epoch: 3, [batch: 1 / 6305], examples_per_second: 2.0815, train_label_loss: 0.0000, \n"
     ]
    },
    {
     "name": "stdout",
     "output_type": "stream",
     "text": [
      "epoch: 3, [batch: 631 / 6305], examples_per_second: 2546.2977, train_label_loss: 0.0000, \n"
     ]
    },
    {
     "name": "stdout",
     "output_type": "stream",
     "text": [
      "epoch: 3, [batch: 1261 / 6305], examples_per_second: 2653.2612, train_label_loss: 0.0000, \n"
     ]
    },
    {
     "name": "stdout",
     "output_type": "stream",
     "text": [
      "epoch: 3, [batch: 1892 / 6305], examples_per_second: 2709.9895, train_label_loss: 0.0000, \n"
     ]
    },
    {
     "name": "stdout",
     "output_type": "stream",
     "text": [
      "epoch: 3, [batch: 2522 / 6305], examples_per_second: 2359.0812, train_label_loss: 0.2001, \n"
     ]
    },
    {
     "name": "stdout",
     "output_type": "stream",
     "text": [
      "epoch: 3, [batch: 3153 / 6305], examples_per_second: 2652.2186, train_label_loss: 0.0000, \n"
     ]
    },
    {
     "name": "stdout",
     "output_type": "stream",
     "text": [
      "epoch: 3, [batch: 3783 / 6305], examples_per_second: 2609.6630, train_label_loss: 0.0000, \n"
     ]
    },
    {
     "name": "stdout",
     "output_type": "stream",
     "text": [
      "epoch: 3, [batch: 4413 / 6305], examples_per_second: 2663.9358, train_label_loss: 0.0000, \n"
     ]
    },
    {
     "name": "stdout",
     "output_type": "stream",
     "text": [
      "epoch: 3, [batch: 5044 / 6305], examples_per_second: 2314.4320, train_label_loss: 0.0000, \n"
     ]
    },
    {
     "name": "stdout",
     "output_type": "stream",
     "text": [
      "epoch: 3, [batch: 5674 / 6305], examples_per_second: 2319.8814, train_label_loss: 0.0000, \n"
     ]
    },
    {
     "name": "stdout",
     "output_type": "stream",
     "text": [
      "=============================================================\n",
      "epoch: 3, source_val_acc_label: 0.9991, target_val_acc_label: 0.2226, source_val_label_loss: 0.0109, target_val_label_loss: 2.7860, \n",
      "=============================================================\n"
     ]
    },
    {
     "name": "stdout",
     "output_type": "stream",
     "text": [
      "epoch: 4, [batch: 1 / 6323], examples_per_second: 2.1097, train_label_loss: 0.0000, \n"
     ]
    },
    {
     "name": "stdout",
     "output_type": "stream",
     "text": [
      "epoch: 4, [batch: 633 / 6323], examples_per_second: 2351.9663, train_label_loss: 0.0000, \n"
     ]
    },
    {
     "name": "stdout",
     "output_type": "stream",
     "text": [
      "epoch: 4, [batch: 1265 / 6323], examples_per_second: 2557.0925, train_label_loss: 0.0000, \n"
     ]
    },
    {
     "name": "stdout",
     "output_type": "stream",
     "text": [
      "epoch: 4, [batch: 1897 / 6323], examples_per_second: 2560.9249, train_label_loss: 0.0000, \n"
     ]
    },
    {
     "name": "stdout",
     "output_type": "stream",
     "text": [
      "epoch: 4, [batch: 2529 / 6323], examples_per_second: 2597.0692, train_label_loss: 0.0000, \n"
     ]
    },
    {
     "name": "stdout",
     "output_type": "stream",
     "text": [
      "epoch: 4, [batch: 3162 / 6323], examples_per_second: 2436.5602, train_label_loss: 0.0000, \n"
     ]
    },
    {
     "name": "stdout",
     "output_type": "stream",
     "text": [
      "epoch: 4, [batch: 3794 / 6323], examples_per_second: 2654.0035, train_label_loss: 0.0000, \n"
     ]
    },
    {
     "name": "stdout",
     "output_type": "stream",
     "text": [
      "epoch: 4, [batch: 4426 / 6323], examples_per_second: 2609.5541, train_label_loss: 0.0000, \n"
     ]
    },
    {
     "name": "stdout",
     "output_type": "stream",
     "text": [
      "epoch: 4, [batch: 5058 / 6323], examples_per_second: 2918.6679, train_label_loss: 0.0000, \n"
     ]
    },
    {
     "name": "stdout",
     "output_type": "stream",
     "text": [
      "epoch: 4, [batch: 5690 / 6323], examples_per_second: 2601.8942, train_label_loss: 0.0000, \n"
     ]
    },
    {
     "name": "stdout",
     "output_type": "stream",
     "text": [
      "=============================================================\n",
      "epoch: 4, source_val_acc_label: 0.9991, target_val_acc_label: 0.2347, source_val_label_loss: 0.0113, target_val_label_loss: 2.7980, \n",
      "=============================================================\n"
     ]
    },
    {
     "name": "stdout",
     "output_type": "stream",
     "text": [
      "epoch: 5, [batch: 1 / 6317], examples_per_second: 2.3894, train_label_loss: 0.0000, \n"
     ]
    },
    {
     "name": "stdout",
     "output_type": "stream",
     "text": [
      "epoch: 5, [batch: 632 / 6317], examples_per_second: 2620.3155, train_label_loss: 0.0000, \n"
     ]
    },
    {
     "name": "stdout",
     "output_type": "stream",
     "text": [
      "epoch: 5, [batch: 1264 / 6317], examples_per_second: 2861.2656, train_label_loss: 0.0000, \n"
     ]
    },
    {
     "name": "stdout",
     "output_type": "stream",
     "text": [
      "epoch: 5, [batch: 1895 / 6317], examples_per_second: 3479.7823, train_label_loss: 0.0002, \n"
     ]
    },
    {
     "name": "stdout",
     "output_type": "stream",
     "text": [
      "epoch: 5, [batch: 2527 / 6317], examples_per_second: 2798.0838, train_label_loss: 0.0000, \n"
     ]
    },
    {
     "name": "stdout",
     "output_type": "stream",
     "text": [
      "epoch: 5, [batch: 3159 / 6317], examples_per_second: 2498.2204, train_label_loss: 0.0181, \n"
     ]
    },
    {
     "name": "stdout",
     "output_type": "stream",
     "text": [
      "epoch: 5, [batch: 3790 / 6317], examples_per_second: 2454.1621, train_label_loss: 0.0000, \n"
     ]
    },
    {
     "name": "stdout",
     "output_type": "stream",
     "text": [
      "epoch: 5, [batch: 4422 / 6317], examples_per_second: 2563.3149, train_label_loss: 0.0000, \n"
     ]
    },
    {
     "name": "stdout",
     "output_type": "stream",
     "text": [
      "epoch: 5, [batch: 5053 / 6317], examples_per_second: 2645.0162, train_label_loss: 0.0001, \n"
     ]
    },
    {
     "name": "stdout",
     "output_type": "stream",
     "text": [
      "epoch: 5, [batch: 5685 / 6317], examples_per_second: 2459.3673, train_label_loss: 0.1023, \n"
     ]
    },
    {
     "name": "stdout",
     "output_type": "stream",
     "text": [
      "=============================================================\n",
      "epoch: 5, source_val_acc_label: 0.9992, target_val_acc_label: 0.2186, source_val_label_loss: 0.0133, target_val_label_loss: 2.9286, \n",
      "=============================================================\n"
     ]
    },
    {
     "name": "stdout",
     "output_type": "stream",
     "text": [
      "Patience (3) exhausted\n"
     ]
    }
   ],
   "source": [
    "###################################\n",
    "# train\n",
    "###################################\n",
    "jig = PTN_Train_Eval_Test_Jig(model, p.BEST_MODEL_PATH, p.device)\n",
    "\n",
    "jig.train(\n",
    "    train_iterable=datasets.source.processed.train,\n",
    "    source_val_iterable=datasets.source.processed.val,\n",
    "    target_val_iterable=datasets.target.processed.val,\n",
    "    num_epochs=p.n_epoch,\n",
    "    num_logs_per_epoch=p.NUM_LOGS_PER_EPOCH,\n",
    "    patience=p.patience,\n",
    "    optimizer=optimizer,\n",
    "    criteria_for_best=p.criteria_for_best,\n",
    ")"
   ]
  },
  {
   "cell_type": "code",
   "execution_count": 23,
   "id": "31e8fabf",
   "metadata": {
    "execution": {
     "iopub.execute_input": "2022-03-21T09:39:33.890393Z",
     "iopub.status.busy": "2022-03-21T09:39:33.890019Z",
     "iopub.status.idle": "2022-03-21T09:39:33.922085Z",
     "shell.execute_reply": "2022-03-21T09:39:33.922730Z"
    },
    "papermill": {
     "duration": 0.074914,
     "end_time": "2022-03-21T09:39:33.922958",
     "exception": false,
     "start_time": "2022-03-21T09:39:33.848044",
     "status": "completed"
    },
    "tags": []
   },
   "outputs": [],
   "source": [
    "total_experiment_time_secs = time.time() - start_time_secs"
   ]
  },
  {
   "cell_type": "code",
   "execution_count": 24,
   "id": "87b9595b",
   "metadata": {
    "execution": {
     "iopub.execute_input": "2022-03-21T09:39:34.015326Z",
     "iopub.status.busy": "2022-03-21T09:39:34.014448Z",
     "iopub.status.idle": "2022-03-21T09:43:52.216243Z",
     "shell.execute_reply": "2022-03-21T09:43:52.216578Z"
    },
    "papermill": {
     "duration": 258.251428,
     "end_time": "2022-03-21T09:43:52.216728",
     "exception": false,
     "start_time": "2022-03-21T09:39:33.965300",
     "status": "completed"
    },
    "tags": []
   },
   "outputs": [],
   "source": [
    "###################################\n",
    "# Evaluate the model\n",
    "###################################\n",
    "source_test_label_accuracy, source_test_label_loss = jig.test(datasets.source.processed.test)\n",
    "target_test_label_accuracy, target_test_label_loss = jig.test(datasets.target.processed.test)\n",
    "\n",
    "source_val_label_accuracy, source_val_label_loss = jig.test(datasets.source.processed.val)\n",
    "target_val_label_accuracy, target_val_label_loss = jig.test(datasets.target.processed.val)\n",
    "\n",
    "history = jig.get_history()\n",
    "\n",
    "total_epochs_trained = len(history[\"epoch_indices\"])\n",
    "\n",
    "val_dl = Iterable_Aggregator((datasets.source.original.val,datasets.target.original.val))\n",
    "\n",
    "confusion = ptn_confusion_by_domain_over_dataloader(model, p.device, val_dl)\n",
    "per_domain_accuracy = per_domain_accuracy_from_confusion(confusion)\n",
    "\n",
    "# Add a key to per_domain_accuracy for if it was a source domain\n",
    "for domain, accuracy in per_domain_accuracy.items():\n",
    "    per_domain_accuracy[domain] = {\n",
    "        \"accuracy\": accuracy,\n",
    "        \"source?\": domain in p.domains_source\n",
    "    }\n",
    "\n",
    "# Do an independent accuracy assesment JUST TO BE SURE!\n",
    "# _source_test_label_accuracy = independent_accuracy_assesment(model, datasets.source.processed.test, p.device)\n",
    "# _target_test_label_accuracy = independent_accuracy_assesment(model, datasets.target.processed.test, p.device)\n",
    "# _source_val_label_accuracy = independent_accuracy_assesment(model, datasets.source.processed.val, p.device)\n",
    "# _target_val_label_accuracy = independent_accuracy_assesment(model, datasets.target.processed.val, p.device)\n",
    "\n",
    "# assert(_source_test_label_accuracy == source_test_label_accuracy)\n",
    "# assert(_target_test_label_accuracy == target_test_label_accuracy)\n",
    "# assert(_source_val_label_accuracy == source_val_label_accuracy)\n",
    "# assert(_target_val_label_accuracy == target_val_label_accuracy)\n",
    "\n",
    "experiment = {\n",
    "    \"experiment_name\": p.experiment_name,\n",
    "    \"parameters\": dict(p),\n",
    "    \"results\": {\n",
    "        \"source_test_label_accuracy\": source_test_label_accuracy,\n",
    "        \"source_test_label_loss\": source_test_label_loss,\n",
    "        \"target_test_label_accuracy\": target_test_label_accuracy,\n",
    "        \"target_test_label_loss\": target_test_label_loss,\n",
    "        \"source_val_label_accuracy\": source_val_label_accuracy,\n",
    "        \"source_val_label_loss\": source_val_label_loss,\n",
    "        \"target_val_label_accuracy\": target_val_label_accuracy,\n",
    "        \"target_val_label_loss\": target_val_label_loss,\n",
    "        \"total_epochs_trained\": total_epochs_trained,\n",
    "        \"total_experiment_time_secs\": total_experiment_time_secs,\n",
    "        \"confusion\": confusion,\n",
    "        \"per_domain_accuracy\": per_domain_accuracy,\n",
    "    },\n",
    "    \"history\": history,\n",
    "    \"dataset_metrics\": get_dataset_metrics(datasets, \"ptn\"),\n",
    "}"
   ]
  },
  {
   "cell_type": "code",
   "execution_count": 25,
   "id": "54a21829",
   "metadata": {
    "execution": {
     "iopub.execute_input": "2022-03-21T09:43:52.368003Z",
     "iopub.status.busy": "2022-03-21T09:43:52.367629Z",
     "iopub.status.idle": "2022-03-21T09:43:52.580147Z",
     "shell.execute_reply": "2022-03-21T09:43:52.580833Z"
    },
    "papermill": {
     "duration": 0.255749,
     "end_time": "2022-03-21T09:43:52.581035",
     "exception": false,
     "start_time": "2022-03-21T09:43:52.325286",
     "status": "completed"
    },
    "tags": []
   },
   "outputs": [
    {
     "data": {
      "image/png": "[encoded data removed]",
      "text/plain": [
       "<Figure size 1080x504 with 1 Axes>"
      ]
     },
     "metadata": {
      "needs_background": "light"
     },
     "output_type": "display_data"
    }
   ],
   "source": [
    "ax = get_loss_curve(experiment)\n",
    "plt.show()"
   ]
  },
  {
   "cell_type": "code",
   "execution_count": 26,
   "id": "fd8a0f60",
   "metadata": {
    "execution": {
     "iopub.execute_input": "2022-03-21T09:43:52.665945Z",
     "iopub.status.busy": "2022-03-21T09:43:52.665575Z",
     "iopub.status.idle": "2022-03-21T09:43:52.977736Z",
     "shell.execute_reply": "2022-03-21T09:43:52.978415Z"
    },
    "papermill": {
     "duration": 0.354576,
     "end_time": "2022-03-21T09:43:52.978621",
     "exception": false,
     "start_time": "2022-03-21T09:43:52.624045",
     "status": "completed"
    },
    "tags": []
   },
   "outputs": [
    {
     "data": {
      "text/plain": [
       "<AxesSubplot:title={'center':'Results'}>"
      ]
     },
     "execution_count": 26,
     "metadata": {},
     "output_type": "execute_result"
    },
    {
     "data": {
      "image/png": "[encoded data removed]",
      "text/plain": [
       "<Figure size 1080x504 with 1 Axes>"
      ]
     },
     "metadata": {
      "needs_background": "light"
     },
     "output_type": "display_data"
    }
   ],
   "source": [
    "get_results_table(experiment)"
   ]
  },
  {
   "cell_type": "code",
   "execution_count": 27,
   "id": "cf8dc689",
   "metadata": {
    "execution": {
     "iopub.execute_input": "2022-03-21T09:43:53.068111Z",
     "iopub.status.busy": "2022-03-21T09:43:53.067736Z",
     "iopub.status.idle": "2022-03-21T09:43:53.321820Z",
     "shell.execute_reply": "2022-03-21T09:43:53.322497Z"
    },
    "papermill": {
     "duration": 0.299425,
     "end_time": "2022-03-21T09:43:53.322709",
     "exception": false,
     "start_time": "2022-03-21T09:43:53.023284",
     "status": "completed"
    },
    "tags": []
   },
   "outputs": [
    {
     "data": {
      "text/plain": [
       "<AxesSubplot:title={'center':'Per Domain Validation Accuracy'}, xlabel='domain'>"
      ]
     },
     "execution_count": 27,
     "metadata": {},
     "output_type": "execute_result"
    },
    {
     "data": {
      "image/png": "[encoded data removed]",
      "text/plain": [
       "<Figure size 1080x504 with 1 Axes>"
      ]
     },
     "metadata": {
      "needs_background": "light"
     },
     "output_type": "display_data"
    }
   ],
   "source": [
    "get_domain_accuracies(experiment)"
   ]
  },
  {
   "cell_type": "code",
   "execution_count": 28,
   "id": "a74ae082",
   "metadata": {
    "execution": {
     "iopub.execute_input": "2022-03-21T09:43:53.414740Z",
     "iopub.status.busy": "2022-03-21T09:43:53.414361Z",
     "iopub.status.idle": "2022-03-21T09:43:53.437215Z",
     "shell.execute_reply": "2022-03-21T09:43:53.436421Z"
    },
    "papermill": {
     "duration": 0.068553,
     "end_time": "2022-03-21T09:43:53.437383",
     "exception": false,
     "start_time": "2022-03-21T09:43:53.368830",
     "status": "completed"
    },
    "tags": []
   },
   "outputs": [
    {
     "name": "stdout",
     "output_type": "stream",
     "text": [
      "Source Test Label Accuracy: 0.997795352743561 Target Test Label Accuracy: 0.24088541666666666\n",
      "Source Val Label Accuracy: 0.9982122425629291 Target Val Label Accuracy: 0.24173177083333333\n"
     ]
    }
   ],
   "source": [
    "print(\"Source Test Label Accuracy:\", experiment[\"results\"][\"source_test_label_accuracy\"], \"Target Test Label Accuracy:\", experiment[\"results\"][\"target_test_label_accuracy\"])\n",
    "print(\"Source Val Label Accuracy:\", experiment[\"results\"][\"source_val_label_accuracy\"], \"Target Val Label Accuracy:\", experiment[\"results\"][\"target_val_label_accuracy\"])"
   ]
  },
  {
   "cell_type": "code",
   "execution_count": 29,
   "id": "dacca602",
   "metadata": {
    "execution": {
     "iopub.execute_input": "2022-03-21T09:43:53.533797Z",
     "iopub.status.busy": "2022-03-21T09:43:53.533222Z",
     "iopub.status.idle": "2022-03-21T09:43:53.557787Z",
     "shell.execute_reply": "2022-03-21T09:43:53.558456Z"
    },
    "papermill": {
     "duration": 0.072265,
     "end_time": "2022-03-21T09:43:53.558647",
     "exception": false,
     "start_time": "2022-03-21T09:43:53.486382",
     "status": "completed"
    },
    "tags": [
     "experiment_json"
    ]
   },
   "outputs": [
    {
     "data": {
      "text/plain": [
       "'{\"experiment_name\": \"tl_1v2:cores-oracle.run1.framed\", \"parameters\": {\"experiment_name\": \"tl_1v2:cores-oracle.run1.framed\", \"device\": \"cuda\", \"lr\": 0.0001, \"n_shot\": 3, \"n_query\": 2, \"train_k_factor\": 3, \"val_k_factor\": 2, \"test_k_factor\": 2, \"torch_default_dtype\": \"torch.float32\", \"n_epoch\": 50, \"patience\": 3, \"criteria_for_best\": \"target_accuracy\", \"x_net\": [{\"class\": \"nnReshape\", \"kargs\": {\"shape\": [-1, 1, 2, 256]}}, {\"class\": \"Conv2d\", \"kargs\": {\"in_channels\": 1, \"out_channels\": 256, \"kernel_size\": [1, 7], \"bias\": false, \"padding\": [0, 3]}}, {\"class\": \"ReLU\", \"kargs\": {\"inplace\": true}}, {\"class\": \"BatchNorm2d\", \"kargs\": {\"num_features\": 256}}, {\"class\": \"Conv2d\", \"kargs\": {\"in_channels\": 256, \"out_channels\": 80, \"kernel_size\": [2, 7], \"bias\": true, \"padding\": [0, 3]}}, {\"class\": \"ReLU\", \"kargs\": {\"inplace\": true}}, {\"class\": \"BatchNorm2d\", \"kargs\": {\"num_features\": 80}}, {\"class\": \"Flatten\", \"kargs\": {}}, {\"class\": \"Linear\", \"kargs\": {\"in_features\": 20480, \"out_features\": 256}}, {\"class\": \"ReLU\", \"kargs\": {\"inplace\": true}}, {\"class\": \"BatchNorm1d\", \"kargs\": {\"num_features\": 256}}, {\"class\": \"Linear\", \"kargs\": {\"in_features\": 256, \"out_features\": 256}}], \"NUM_LOGS_PER_EPOCH\": 10, \"BEST_MODEL_PATH\": \"./best_model.pth\", \"n_way\": 16, \"datasets\": [{\"labels\": [\"1-10.\", \"1-11.\", \"1-15.\", \"1-16.\", \"1-17.\", \"1-18.\", \"1-19.\", \"10-4.\", \"10-7.\", \"11-1.\", \"11-14.\", \"11-17.\", \"11-20.\", \"11-7.\", \"13-20.\", \"13-8.\", \"14-10.\", \"14-11.\", \"14-14.\", \"14-7.\", \"15-1.\", \"15-20.\", \"16-1.\", \"16-16.\", \"17-10.\", \"17-11.\", \"17-2.\", \"19-1.\", \"19-16.\", \"19-19.\", \"19-20.\", \"19-3.\", \"2-10.\", \"2-11.\", \"2-17.\", \"2-18.\", \"2-20.\", \"2-3.\", \"2-4.\", \"2-5.\", \"2-6.\", \"2-7.\", \"2-8.\", \"3-13.\", \"3-18.\", \"3-3.\", \"4-1.\", \"4-10.\", \"4-11.\", \"4-19.\", \"5-5.\", \"6-15.\", \"7-10.\", \"7-14.\", \"8-18.\", \"8-20.\", \"8-3.\", \"8-8.\"], \"domains\": [1, 2, 3, 4, 5], \"num_examples_per_domain_per_label\": -1, \"pickle_path\": \"/root/csc500-main/datasets/cores.stratified_ds.2022A.pkl\", \"source_or_target_dataset\": \"source\", \"x_transforms\": [\"unit_power\"], \"episode_transforms\": [], \"domain_prefix\": \"CORES_\"}, {\"labels\": [\"3123D52\", \"3123D65\", \"3123D79\", \"3123D80\", \"3123D54\", \"3123D70\", \"3123D7B\", \"3123D89\", \"3123D58\", \"3123D76\", \"3123D7D\", \"3123EFE\", \"3123D64\", \"3123D78\", \"3123D7E\", \"3124E4A\"], \"domains\": [32, 38, 8, 44, 14, 50, 20, 26], \"num_examples_per_domain_per_label\": 2000, \"pickle_path\": \"/root/csc500-main/datasets/oracle.Run1_framed_2000Examples_stratified_ds.2022A.pkl\", \"source_or_target_dataset\": \"target\", \"x_transforms\": [\"unit_power\"], \"episode_transforms\": [], \"domain_prefix\": \"ORACLE.run1_\"}], \"dataset_seed\": 154325, \"seed\": 154325, \"x_shape\": [2, 256], \"domains_source\": [\"CORES_1\", \"CORES_2\", \"CORES_3\", \"CORES_4\", \"CORES_5\"], \"domains_target\": [\"ORACLE.run1_32\", \"ORACLE.run1_38\", \"ORACLE.run1_8\", \"ORACLE.run1_44\", \"ORACLE.run1_14\", \"ORACLE.run1_50\", \"ORACLE.run1_20\", \"ORACLE.run1_26\"]}, \"results\": {\"source_test_label_accuracy\": 0.997795352743561, \"source_test_label_loss\": 0.008742084726691246, \"target_test_label_accuracy\": 0.24088541666666666, \"target_test_label_loss\": 2.2440671920776367, \"source_val_label_accuracy\": 0.9982122425629291, \"source_val_label_loss\": 0.010011262260377407, \"target_val_label_accuracy\": 0.24173177083333333, \"target_val_label_loss\": 2.2407524585723877, \"total_epochs_trained\": 5, \"total_experiment_time_secs\": 1267.3790183067322, \"confusion\": {\"CORES_2\": {\"21\": {\"21\": 118, \"53\": 1, \"52\": 1}, \"4\": {\"4\": 130}, \"6\": {\"6\": 124}, \"10\": {\"10\": 112}, \"33\": {\"33\": 28}, \"56\": {\"56\": 122}, \"20\": {\"20\": 132}, \"24\": {\"24\": 96}, \"45\": {\"45\": 128}, \"32\": {\"32\": 28}, \"27\": {\"27\": 148}, \"53\": {\"53\": 136}, \"8\": {\"8\": 160}, \"54\": {\"54\": 108}, \"50\": {\"50\": 134}, \"44\": {\"44\": 100}, \"5\": {\"5\": 120}, \"38\": {\"38\": 20}, \"19\": {\"19\": 132}, \"1\": {\"1\": 112}, \"30\": {\"30\": 144}, \"15\": {\"15\": 144}, \"23\": {\"23\": 146}, \"35\": {\"35\": 32}, \"22\": {\"22\": 128}, \"40\": {\"40\": 140}, \"46\": {\"46\": 126}, \"3\": {\"3\": 92}, \"48\": {\"48\": 148}, \"52\": {\"52\": 124}, \"2\": {\"2\": 32}, \"26\": {\"26\": 24}, \"17\": {\"17\": 104}, \"55\": {\"55\": 144}, \"51\": {\"51\": 122}, \"42\": {\"42\": 36}, \"41\": {\"41\": 20}, \"31\": {\"31\": 28}, \"16\": {\"16\": 138}, \"36\": {\"36\": 116}, \"49\": {\"49\": 24}, \"0\": {\"0\": 48}, \"18\": {\"18\": 48}, \"25\": {\"25\": 146}, \"9\": {\"9\": 122}, \"47\": {\"47\": 132}, \"7\": {\"7\": 36}, \"37\": {\"37\": 36}, \"13\": {\"13\": 115, \"56\": 1}, \"14\": {\"31\": 2, \"14\": 22}, \"34\": {\"34\": 28}, \"57\": {\"57\": 140}, \"11\": {\"11\": 138}, \"39\": {\"39\": 28}, \"12\": {\"12\": 92}, \"28\": {\"28\": 28}, \"29\": {\"29\": 128}, \"43\": {\"43\": 140}}, \"CORES_5\": {\"12\": {\"12\": 96}, \"8\": {\"8\": 142}, \"29\": {\"29\": 132}, \"57\": {\"57\": 126}, \"38\": {\"38\": 32}, \"23\": {\"23\": 124}, \"56\": {\"56\": 138}, \"49\": {\"49\": 36}, \"4\": {\"4\": 100}, \"48\": {\"48\": 136}, \"21\": {\"21\": 144}, \"30\": {\"30\": 128}, \"1\": {\"1\": 148}, \"34\": {\"34\": 36}, \"35\": {\"35\": 36}, \"55\": {\"55\": 152}, \"5\": {\"5\": 122}, \"52\": {\"52\": 126}, \"6\": {\"6\": 128}, \"36\": {\"36\": 92}, \"41\": {\"41\": 28}, \"3\": {\"3\": 100}, \"28\": {\"28\": 32}, \"18\": {\"18\": 64}, \"25\": {\"25\": 136}, \"47\": {\"47\": 100}, \"13\": {\"13\": 160}, \"11\": {\"11\": 144}, \"53\": {\"53\": 144}, \"33\": {\"33\": 32}, \"46\": {\"46\": 148}, \"50\": {\"50\": 148}, \"10\": {\"10\": 68}, \"15\": {\"15\": 138}, \"44\": {\"44\": 140}, \"2\": {\"2\": 28}, \"7\": {\"7\": 32}, \"43\": {\"43\": 138}, \"32\": {\"32\": 31, \"27\": 1}, \"0\": {\"0\": 124}, \"39\": {\"39\": 20}, \"26\": {\"26\": 24}, \"27\": {\"27\": 112}, \"54\": {\"54\": 112}, \"17\": {\"17\": 116}, \"14\": {\"14\": 35, \"46\": 5, \"40\": 1, \"54\": 1, \"3\": 2}, \"16\": {\"16\": 148}, \"9\": {\"9\": 148}, \"19\": {\"19\": 152}, \"20\": {\"20\": 138}, \"37\": {\"37\": 24}, \"24\": {\"24\": 80}, \"40\": {\"40\": 122}, \"45\": {\"45\": 121, \"50\": 2, \"55\": 1}, \"22\": {\"22\": 28}, \"42\": {\"42\": 38, \"13\": 1, \"56\": 1}, \"51\": {\"51\": 116, \"53\": 1, \"20\": 1}, \"31\": {\"31\": 36}}, \"CORES_1\": {\"27\": {\"27\": 142}, \"2\": {\"2\": 36}, \"33\": {\"33\": 32}, \"45\": {\"45\": 156}, \"38\": {\"38\": 24}, \"4\": {\"4\": 132}, \"31\": {\"31\": 28}, \"55\": {\"55\": 140}, \"32\": {\"32\": 32}, \"57\": {\"57\": 140}, \"14\": {\"14\": 23, \"8\": 1}, \"16\": {\"16\": 140}, \"34\": {\"34\": 24}, \"56\": {\"56\": 126}, \"24\": {\"24\": 108}, \"30\": {\"30\": 112}, \"17\": {\"17\": 64}, \"13\": {\"13\": 138}, \"39\": {\"39\": 28}, \"50\": {\"50\": 145, \"48\": 1}, \"20\": {\"20\": 140}, \"41\": {\"41\": 24}, \"53\": {\"53\": 126}, \"48\": {\"48\": 142}, \"36\": {\"36\": 64}, \"8\": {\"8\": 140}, \"15\": {\"15\": 132}, \"40\": {\"40\": 156}, \"37\": {\"37\": 32}, \"21\": {\"21\": 120}, \"35\": {\"35\": 36}, \"49\": {\"49\": 32}, \"26\": {\"26\": 24}, \"28\": {\"28\": 28}, \"12\": {\"12\": 116}, \"5\": {\"5\": 152}, \"29\": {\"29\": 140}, \"47\": {\"47\": 140}, \"10\": {\"10\": 96}, \"18\": {\"18\": 71, \"50\": 1}, \"9\": {\"9\": 126}, \"3\": {\"3\": 140}, \"52\": {\"52\": 132}, \"25\": {\"25\": 136}, \"19\": {\"19\": 156}, \"11\": {\"11\": 136}, \"7\": {\"7\": 28}, \"23\": {\"23\": 136}, \"44\": {\"44\": 132}, \"42\": {\"42\": 40}, \"54\": {\"54\": 104}, \"1\": {\"1\": 100}, \"46\": {\"46\": 128}, \"6\": {\"6\": 96}, \"43\": {\"43\": 144}, \"51\": {\"51\": 142}, \"22\": {\"22\": 136}, \"0\": {\"0\": 128}}, \"CORES_4\": {\"32\": {\"32\": 24}, \"2\": {\"2\": 36}, \"41\": {\"41\": 36}, \"11\": {\"11\": 100, \"46\": 1, \"15\": 1}, \"57\": {\"57\": 100}, \"6\": {\"6\": 110, \"31\": 2}, \"23\": {\"23\": 136}, \"52\": {\"52\": 116}, \"38\": {\"38\": 40}, \"50\": {\"50\": 132}, \"55\": {\"55\": 152}, \"46\": {\"46\": 153, \"47\": 1}, \"37\": {\"37\": 24}, \"20\": {\"20\": 118}, \"49\": {\"49\": 20}, \"45\": {\"45\": 96}, \"54\": {\"54\": 108}, \"3\": {\"3\": 122, \"50\": 2}, \"13\": {\"13\": 152}, \"18\": {\"18\": 107, \"23\": 1}, \"21\": {\"21\": 124, \"50\": 2}, \"43\": {\"43\": 144}, \"47\": {\"47\": 120}, \"4\": {\"4\": 132}, \"12\": {\"12\": 92}, \"9\": {\"9\": 128}, \"7\": {\"7\": 24}, \"56\": {\"56\": 112}, \"28\": {\"28\": 32}, \"44\": {\"44\": 132}, \"24\": {\"24\": 56}, \"33\": {\"33\": 36}, \"35\": {\"35\": 40}, \"51\": {\"51\": 137, \"53\": 1}, \"39\": {\"39\": 20}, \"36\": {\"36\": 90, \"54\": 2}, \"19\": {\"19\": 140}, \"0\": {\"0\": 78, \"46\": 2}, \"15\": {\"15\": 136}, \"29\": {\"29\": 124}, \"30\": {\"30\": 44}, \"1\": {\"1\": 40}, \"22\": {\"22\": 128}, \"40\": {\"40\": 146}, \"8\": {\"8\": 128}, \"53\": {\"53\": 138}, \"34\": {\"34\": 24}, \"10\": {\"10\": 122}, \"31\": {\"31\": 28}, \"17\": {\"17\": 80}, \"16\": {\"16\": 96}, \"42\": {\"42\": 32}, \"27\": {\"27\": 142}, \"14\": {\"14\": 14, \"0\": 1, \"46\": 1}, \"25\": {\"25\": 122}, \"48\": {\"48\": 132}, \"26\": {\"26\": 24}, \"5\": {\"5\": 107, \"46\": 1}}, \"CORES_3\": {\"14\": {\"14\": 38, \"31\": 1, \"55\": 1}, \"18\": {\"18\": 84}, \"30\": {\"30\": 120}, \"16\": {\"16\": 156}, \"1\": {\"1\": 100}, \"20\": {\"20\": 132}, \"7\": {\"7\": 36}, \"52\": {\"52\": 130}, \"9\": {\"9\": 140}, \"23\": {\"23\": 144}, \"55\": {\"55\": 164}, \"29\": {\"29\": 126}, \"56\": {\"56\": 134}, \"3\": {\"3\": 124}, \"42\": {\"42\": 28}, \"6\": {\"6\": 88}, \"5\": {\"5\": 115, \"3\": 1}, \"27\": {\"27\": 144}, \"47\": {\"47\": 92}, \"39\": {\"39\": 16}, \"34\": {\"34\": 32}, \"4\": {\"4\": 126}, \"24\": {\"24\": 104}, \"46\": {\"46\": 118}, \"50\": {\"50\": 126}, \"38\": {\"38\": 28}, \"54\": {\"54\": 100}, \"35\": {\"35\": 28}, \"2\": {\"2\": 32}, \"41\": {\"41\": 28}, \"57\": {\"57\": 118}, \"25\": {\"25\": 150}, \"48\": {\"48\": 116}, \"33\": {\"33\": 28}, \"45\": {\"45\": 60}, \"13\": {\"13\": 126}, \"36\": {\"36\": 100}, \"43\": {\"43\": 132}, \"28\": {\"28\": 28}, \"0\": {\"0\": 124}, \"12\": {\"12\": 91, \"46\": 1}, \"31\": {\"31\": 28}, \"40\": {\"40\": 116}, \"44\": {\"44\": 87, \"40\": 1}, \"32\": {\"32\": 28}, \"26\": {\"26\": 24}, \"8\": {\"8\": 116}, \"10\": {\"10\": 64}, \"15\": {\"15\": 142}, \"21\": {\"21\": 126, \"50\": 2}, \"37\": {\"37\": 28}, \"17\": {\"17\": 108}, \"51\": {\"51\": 124}, \"53\": {\"53\": 144}, \"19\": {\"19\": 136}, \"49\": {\"49\": 20}, \"11\": {\"11\": 138}, \"22\": {\"22\": 130}}, \"ORACLE.run1_8\": {\"13\": {\"11\": 12, \"7\": 22, \"4\": 19, \"13\": 35, \"2\": 7, \"0\": 24, \"14\": 32, \"1\": 13, \"15\": 5, \"5\": 16, \"6\": 20, \"10\": 24, \"8\": 8, \"12\": 1, \"3\": 2}, \"9\": {\"9\": 187, \"5\": 22, \"14\": 7, \"1\": 8, \"11\": 3, \"13\": 2, \"10\": 8, \"0\": 1, \"6\": 1, \"4\": 1}, \"15\": {\"2\": 22, \"11\": 9, \"3\": 20, \"8\": 33, \"15\": 41, \"12\": 37, \"0\": 16, \"4\": 7, \"6\": 17, \"7\": 24, \"1\": 4, \"13\": 5, \"5\": 1, \"14\": 2, \"10\": 2}, \"2\": {\"6\": 11, \"2\": 55, \"7\": 19, \"3\": 50, \"15\": 36, \"12\": 29, \"13\": 8, \"4\": 5, \"0\": 14, \"8\": 12, \"10\": 1}, \"3\": {\"15\": 44, \"3\": 63, \"7\": 14, \"12\": 36, \"6\": 5, \"2\": 62, \"13\": 3, \"8\": 5, \"0\": 5, \"4\": 2, \"14\": 1}, \"8\": {\"15\": 30, \"10\": 9, \"6\": 26, \"2\": 4, \"7\": 20, \"0\": 14, \"12\": 22, \"4\": 17, \"8\": 35, \"13\": 15, \"14\": 14, \"1\": 9, \"11\": 13, \"3\": 11, \"5\": 1}, \"5\": {\"5\": 57, \"11\": 36, \"1\": 37, \"4\": 14, \"10\": 31, \"2\": 1, \"14\": 25, \"9\": 8, \"6\": 4, \"13\": 13, \"8\": 4, \"7\": 1, \"0\": 9}, \"14\": {\"11\": 27, \"7\": 18, \"6\": 18, \"1\": 27, \"13\": 27, \"10\": 20, \"14\": 27, \"15\": 6, \"3\": 1, \"5\": 11, \"0\": 24, \"4\": 21, \"8\": 11, \"12\": 1, \"2\": 1}, \"1\": {\"5\": 27, \"1\": 39, \"0\": 19, \"14\": 26, \"13\": 21, \"11\": 39, \"10\": 24, \"7\": 4, \"4\": 21, \"6\": 8, \"8\": 10, \"15\": 2}, \"0\": {\"7\": 20, \"0\": 35, \"13\": 34, \"8\": 12, \"14\": 30, \"2\": 8, \"3\": 8, \"4\": 21, \"6\": 23, \"15\": 10, \"5\": 2, \"1\": 10, \"11\": 7, \"10\": 16, \"12\": 4}, \"10\": {\"10\": 27, \"7\": 11, \"14\": 32, \"1\": 29, \"8\": 4, \"4\": 27, \"5\": 27, \"13\": 25, \"0\": 13, \"6\": 21, \"11\": 21, \"15\": 2, \"2\": 1}, \"6\": {\"13\": 28, \"14\": 18, \"1\": 10, \"2\": 8, \"6\": 26, \"0\": 30, \"7\": 34, \"10\": 15, \"12\": 7, \"4\": 23, \"8\": 12, \"15\": 17, \"3\": 3, \"11\": 7, \"5\": 2}, \"11\": {\"11\": 44, \"5\": 37, \"1\": 46, \"13\": 17, \"15\": 2, \"4\": 17, \"6\": 9, \"14\": 23, \"8\": 15, \"10\": 15, \"0\": 11, \"7\": 4}, \"7\": {\"14\": 21, \"10\": 16, \"7\": 19, \"2\": 11, \"0\": 29, \"6\": 26, \"1\": 8, \"12\": 13, \"4\": 26, \"13\": 16, \"8\": 19, \"15\": 13, \"5\": 1, \"3\": 14, \"11\": 8}, \"4\": {\"7\": 18, \"4\": 22, \"6\": 24, \"11\": 17, \"12\": 8, \"13\": 39, \"0\": 20, \"1\": 22, \"8\": 11, \"15\": 6, \"14\": 21, \"5\": 13, \"10\": 17, \"2\": 2}, \"12\": {\"2\": 31, \"8\": 20, \"15\": 51, \"3\": 46, \"7\": 14, \"12\": 53, \"0\": 3, \"13\": 4, \"6\": 13, \"14\": 1, \"4\": 4}}, \"ORACLE.run1_38\": {\"13\": {\"2\": 24, \"10\": 27, \"1\": 46, \"11\": 5, \"15\": 31, \"13\": 44, \"0\": 11, \"6\": 6, \"8\": 15, \"14\": 12, \"5\": 11, \"12\": 3, \"7\": 2, \"4\": 2, \"9\": 1}, \"12\": {\"10\": 25, \"4\": 61, \"14\": 19, \"12\": 83, \"15\": 12, \"2\": 5, \"8\": 6, \"11\": 12, \"7\": 4, \"0\": 8, \"5\": 4, \"13\": 1}, \"2\": {\"2\": 80, \"1\": 12, \"11\": 29, \"14\": 51, \"13\": 25, \"15\": 18, \"10\": 16, \"8\": 3, \"12\": 3, \"5\": 2, \"0\": 1}, \"9\": {\"3\": 47, \"9\": 69, \"6\": 59, \"0\": 21, \"7\": 8, \"5\": 15, \"1\": 7, \"8\": 9, \"13\": 4, \"10\": 1}, \"15\": {\"15\": 45, \"2\": 14, \"10\": 29, \"1\": 45, \"13\": 41, \"5\": 13, \"8\": 25, \"7\": 7, \"6\": 4, \"0\": 7, \"14\": 5, \"12\": 3, \"11\": 1, \"9\": 1}, \"5\": {\"7\": 30, \"0\": 23, \"6\": 22, \"8\": 34, \"13\": 14, \"9\": 16, \"5\": 37, \"1\": 26, \"3\": 9, \"10\": 12, \"12\": 3, \"15\": 12, \"4\": 2}, \"14\": {\"11\": 64, \"12\": 17, \"14\": 78, \"13\": 5, \"2\": 39, \"10\": 18, \"15\": 15, \"1\": 1, \"4\": 2, \"8\": 1}, \"0\": {\"15\": 14, \"0\": 39, \"5\": 28, \"6\": 21, \"10\": 12, \"7\": 27, \"8\": 35, \"3\": 21, \"12\": 4, \"9\": 14, \"4\": 7, \"1\": 8, \"13\": 8, \"2\": 1, \"11\": 1}, \"3\": {\"3\": 114, \"9\": 53, \"7\": 19, \"6\": 28, \"0\": 14, \"5\": 7, \"8\": 3, \"10\": 1, \"13\": 1}, \"1\": {\"1\": 74, \"8\": 23, \"7\": 1, \"10\": 8, \"15\": 44, \"2\": 9, \"6\": 16, \"0\": 10, \"13\": 36, \"5\": 16, \"9\": 3}, \"11\": {\"13\": 12, \"14\": 51, \"2\": 35, \"11\": 91, \"12\": 18, \"10\": 17, \"15\": 8, \"8\": 2, \"4\": 6}, \"7\": {\"7\": 65, \"10\": 11, \"0\": 47, \"9\": 8, \"5\": 31, \"6\": 22, \"8\": 26, \"15\": 7, \"3\": 6, \"4\": 10, \"12\": 3, \"1\": 2, \"13\": 2}, \"8\": {\"10\": 23, \"15\": 21, \"1\": 28, \"13\": 14, \"8\": 47, \"4\": 4, \"5\": 34, \"7\": 19, \"6\": 12, \"11\": 1, \"0\": 28, \"3\": 3, \"9\": 3, \"12\": 3}, \"4\": {\"4\": 124, \"10\": 15, \"12\": 67, \"14\": 4, \"8\": 6, \"7\": 16, \"0\": 6, \"11\": 1, \"15\": 1}, \"10\": {\"8\": 25, \"10\": 55, \"0\": 15, \"15\": 30, \"12\": 22, \"11\": 14, \"2\": 11, \"13\": 26, \"14\": 12, \"4\": 7, \"7\": 5, \"1\": 10, \"5\": 5, \"6\": 2, \"3\": 1}, \"6\": {\"3\": 22, \"8\": 15, \"5\": 24, \"6\": 65, \"13\": 7, \"0\": 19, \"7\": 16, \"9\": 45, \"15\": 5, \"1\": 21, \"2\": 1}}, \"ORACLE.run1_26\": {\"10\": {\"6\": 16, \"9\": 8, \"5\": 12, \"1\": 25, \"2\": 6, \"4\": 17, \"14\": 42, \"7\": 11, \"0\": 24, \"3\": 9, \"15\": 17, \"8\": 23, \"13\": 10, \"10\": 17, \"12\": 2, \"11\": 1}, \"12\": {\"12\": 128, \"10\": 10, \"11\": 55, \"6\": 22, \"15\": 5, \"5\": 4, \"0\": 7, \"9\": 3, \"8\": 1, \"13\": 4, \"14\": 1}, \"1\": {\"0\": 13, \"6\": 7, \"1\": 37, \"4\": 21, \"10\": 24, \"2\": 14, \"8\": 24, \"9\": 7, \"7\": 19, \"13\": 15, \"14\": 22, \"3\": 20, \"5\": 5, \"15\": 12}, \"0\": {\"0\": 26, \"4\": 15, \"6\": 22, \"5\": 9, \"15\": 13, \"1\": 23, \"8\": 25, \"9\": 14, \"7\": 7, \"14\": 24, \"2\": 9, \"3\": 13, \"10\": 30, \"13\": 10}, \"15\": {\"8\": 24, \"6\": 13, \"14\": 9, \"5\": 18, \"2\": 14, \"3\": 18, \"9\": 26, \"15\": 23, \"1\": 15, \"7\": 18, \"13\": 24, \"11\": 1, \"4\": 6, \"0\": 11, \"10\": 19, \"12\": 1}, \"13\": {\"3\": 12, \"6\": 18, \"0\": 10, \"4\": 9, \"15\": 23, \"1\": 7, \"10\": 16, \"12\": 4, \"13\": 36, \"14\": 8, \"2\": 18, \"7\": 12, \"8\": 10, \"5\": 33, \"9\": 21, \"11\": 3}, \"8\": {\"3\": 12, \"5\": 15, \"14\": 25, \"6\": 22, \"1\": 16, \"9\": 9, \"15\": 25, \"8\": 12, \"13\": 14, \"7\": 17, \"4\": 21, \"0\": 24, \"10\": 21, \"2\": 7}, \"3\": {\"4\": 10, \"2\": 37, \"14\": 10, \"8\": 16, \"15\": 21, \"1\": 23, \"5\": 18, \"13\": 15, \"7\": 34, \"3\": 28, \"0\": 10, \"6\": 2, \"9\": 11, \"10\": 5}, \"11\": {\"11\": 135, \"9\": 4, \"12\": 79, \"5\": 5, \"6\": 8, \"13\": 2, \"0\": 1, \"14\": 1, \"10\": 2, \"15\": 3}, \"4\": {\"9\": 14, \"10\": 19, \"14\": 27, \"0\": 21, \"13\": 7, \"8\": 31, \"3\": 11, \"4\": 23, \"7\": 20, \"2\": 17, \"15\": 14, \"5\": 5, \"1\": 17, \"6\": 13, \"12\": 1}, \"6\": {\"0\": 16, \"15\": 19, \"6\": 22, \"13\": 22, \"1\": 13, \"9\": 17, \"5\": 19, \"12\": 10, \"11\": 8, \"4\": 20, \"10\": 23, \"14\": 19, \"8\": 17, \"2\": 9, \"3\": 4, \"7\": 2}, \"7\": {\"0\": 23, \"3\": 28, \"2\": 19, \"14\": 20, \"13\": 14, \"4\": 14, \"1\": 21, \"9\": 13, \"15\": 17, \"7\": 25, \"5\": 16, \"8\": 11, \"10\": 16, \"6\": 2, \"12\": 1}, \"14\": {\"1\": 35, \"8\": 20, \"0\": 28, \"9\": 9, \"4\": 21, \"7\": 14, \"10\": 34, \"14\": 25, \"15\": 9, \"5\": 8, \"3\": 10, \"13\": 8, \"6\": 13, \"2\": 6}, \"2\": {\"3\": 28, \"2\": 39, \"9\": 9, \"6\": 7, \"8\": 19, \"15\": 20, \"7\": 28, \"5\": 20, \"1\": 18, \"13\": 16, \"10\": 8, \"4\": 13, \"0\": 7, \"14\": 8}, \"5\": {\"2\": 22, \"4\": 5, \"6\": 16, \"0\": 12, \"13\": 36, \"8\": 14, \"3\": 25, \"7\": 10, \"5\": 26, \"9\": 13, \"14\": 12, \"10\": 10, \"15\": 25, \"11\": 2, \"1\": 12}, \"9\": {\"4\": 15, \"7\": 15, \"6\": 32, \"5\": 19, \"9\": 18, \"2\": 14, \"13\": 27, \"15\": 26, \"0\": 15, \"1\": 16, \"14\": 5, \"10\": 10, \"8\": 18, \"3\": 9, \"12\": 1}}, \"ORACLE.run1_20\": {\"5\": {\"4\": 15, \"9\": 11, \"0\": 26, \"12\": 26, \"5\": 19, \"2\": 15, \"13\": 18, \"1\": 32, \"10\": 4, \"14\": 6, \"3\": 10, \"6\": 5, \"8\": 11, \"15\": 27, \"7\": 15}, \"15\": {\"12\": 17, \"8\": 8, \"9\": 17, \"0\": 25, \"1\": 19, \"5\": 32, \"10\": 5, \"15\": 32, \"2\": 18, \"4\": 16, \"13\": 18, \"7\": 14, \"3\": 16, \"11\": 1, \"14\": 2}, \"9\": {\"7\": 17, \"9\": 20, \"15\": 12, \"14\": 9, \"0\": 21, \"13\": 16, \"4\": 14, \"8\": 19, \"12\": 19, \"11\": 9, \"2\": 22, \"5\": 17, \"3\": 20, \"1\": 12, \"10\": 6, \"6\": 7}, \"7\": {\"13\": 17, \"12\": 19, \"8\": 14, \"0\": 13, \"4\": 20, \"3\": 15, \"9\": 17, \"2\": 19, \"10\": 16, \"1\": 12, \"5\": 8, \"7\": 16, \"6\": 13, \"15\": 13, \"11\": 13, \"14\": 15}, \"3\": {\"5\": 20, \"8\": 15, \"0\": 17, \"9\": 14, \"6\": 8, \"4\": 26, \"15\": 14, \"7\": 18, \"13\": 16, \"3\": 14, \"2\": 15, \"1\": 15, \"10\": 17, \"12\": 15, \"14\": 15, \"11\": 1}, \"8\": {\"12\": 11, \"4\": 20, \"10\": 16, \"9\": 20, \"13\": 13, \"3\": 14, \"6\": 13, \"0\": 13, \"7\": 18, \"5\": 12, \"8\": 22, \"1\": 12, \"14\": 25, \"2\": 13, \"15\": 14, \"11\": 4}, \"4\": {\"10\": 13, \"2\": 16, \"14\": 16, \"4\": 24, \"3\": 17, \"13\": 9, \"1\": 19, \"5\": 20, \"12\": 14, \"7\": 14, \"9\": 11, \"0\": 18, \"11\": 2, \"8\": 24, \"15\": 16, \"6\": 7}, \"6\": {\"11\": 27, \"6\": 38, \"10\": 31, \"4\": 20, \"9\": 11, \"13\": 5, \"7\": 19, \"14\": 40, \"3\": 7, \"0\": 3, \"8\": 13, \"2\": 11, \"1\": 2, \"12\": 9, \"5\": 4}, \"2\": {\"2\": 26, \"13\": 12, \"4\": 13, \"1\": 12, \"7\": 12, \"11\": 15, \"8\": 17, \"10\": 13, \"3\": 20, \"6\": 12, \"0\": 18, \"9\": 16, \"12\": 16, \"5\": 13, \"14\": 14, \"15\": 11}, \"12\": {\"7\": 13, \"13\": 18, \"4\": 13, \"5\": 20, \"0\": 16, \"12\": 23, \"8\": 13, \"3\": 25, \"15\": 16, \"9\": 29, \"1\": 21, \"10\": 15, \"2\": 8, \"14\": 4, \"6\": 5, \"11\": 1}, \"0\": {\"12\": 17, \"6\": 2, \"0\": 35, \"10\": 3, \"9\": 21, \"13\": 18, \"2\": 11, \"3\": 17, \"4\": 13, \"5\": 33, \"15\": 29, \"1\": 16, \"7\": 9, \"8\": 13, \"14\": 2, \"11\": 1}, \"13\": {\"12\": 22, \"11\": 14, \"5\": 16, \"9\": 19, \"3\": 14, \"13\": 26, \"2\": 16, \"6\": 8, \"0\": 25, \"1\": 22, \"8\": 6, \"15\": 16, \"14\": 8, \"4\": 10, \"7\": 14, \"10\": 4}, \"10\": {\"6\": 21, \"3\": 14, \"13\": 6, \"9\": 14, \"7\": 20, \"12\": 19, \"8\": 23, \"10\": 23, \"4\": 23, \"11\": 6, \"14\": 31, \"2\": 20, \"1\": 6, \"5\": 7, \"0\": 6, \"15\": 1}, \"11\": {\"7\": 24, \"11\": 92, \"0\": 4, \"13\": 8, \"6\": 24, \"9\": 18, \"8\": 14, \"2\": 21, \"3\": 3, \"14\": 15, \"10\": 6, \"4\": 3, \"12\": 5, \"1\": 3}, \"14\": {\"10\": 31, \"3\": 11, \"7\": 20, \"6\": 32, \"4\": 24, \"14\": 37, \"2\": 15, \"8\": 24, \"11\": 10, \"0\": 2, \"12\": 9, \"9\": 15, \"1\": 4, \"13\": 2, \"5\": 2, \"15\": 2}, \"1\": {\"8\": 4, \"1\": 29, \"4\": 19, \"9\": 16, \"13\": 13, \"12\": 16, \"15\": 22, \"0\": 35, \"5\": 21, \"10\": 7, \"7\": 18, \"3\": 17, \"2\": 13, \"14\": 6, \"11\": 1, \"6\": 3}}, \"ORACLE.run1_50\": {\"1\": {\"1\": 44, \"7\": 5, \"6\": 18, \"13\": 14, \"14\": 17, \"5\": 16, \"0\": 9, \"4\": 40, \"15\": 39, \"11\": 12, \"2\": 16, \"9\": 4, \"12\": 5, \"10\": 1}, \"2\": {\"1\": 10, \"2\": 82, \"14\": 19, \"6\": 17, \"0\": 53, \"4\": 11, \"7\": 14, \"10\": 11, \"13\": 9, \"5\": 8, \"11\": 2, \"15\": 2, \"8\": 2}, \"8\": {\"8\": 102, \"3\": 55, \"10\": 28, \"0\": 26, \"5\": 6, \"2\": 6, \"13\": 7, \"7\": 10}, \"7\": {\"2\": 13, \"5\": 44, \"7\": 59, \"13\": 37, \"6\": 14, \"0\": 9, \"8\": 11, \"10\": 31, \"1\": 8, \"15\": 4, \"4\": 5, \"3\": 5}, \"14\": {\"11\": 28, \"1\": 29, \"2\": 13, \"14\": 75, \"9\": 17, \"15\": 18, \"12\": 36, \"4\": 12, \"13\": 2, \"0\": 5, \"6\": 4, \"10\": 1}, \"6\": {\"10\": 10, \"15\": 18, \"0\": 17, \"13\": 25, \"4\": 22, \"2\": 15, \"1\": 27, \"7\": 22, \"14\": 12, \"6\": 36, \"5\": 27, \"11\": 4, \"9\": 2, \"8\": 3}, \"3\": {\"8\": 81, \"3\": 142, \"0\": 2, \"6\": 1, \"10\": 10, \"7\": 2, \"13\": 2}, \"4\": {\"1\": 38, \"5\": 25, \"15\": 28, \"0\": 10, \"4\": 29, \"6\": 31, \"2\": 12, \"14\": 12, \"13\": 22, \"7\": 12, \"9\": 2, \"11\": 10, \"10\": 7, \"12\": 2}, \"12\": {\"12\": 73, \"9\": 65, \"11\": 40, \"14\": 46, \"15\": 4, \"1\": 9, \"4\": 2, \"2\": 1}, \"15\": {\"4\": 47, \"14\": 15, \"15\": 51, \"6\": 32, \"12\": 4, \"11\": 17, \"1\": 47, \"9\": 3, \"5\": 13, \"2\": 3, \"13\": 5, \"7\": 1, \"0\": 2}, \"11\": {\"15\": 26, \"11\": 67, \"14\": 29, \"12\": 40, \"1\": 28, \"5\": 1, \"9\": 30, \"4\": 17, \"6\": 1, \"0\": 1}, \"0\": {\"5\": 19, \"2\": 39, \"3\": 1, \"13\": 23, \"0\": 50, \"14\": 4, \"10\": 38, \"4\": 9, \"6\": 15, \"1\": 8, \"7\": 18, \"8\": 14, \"15\": 1, \"11\": 1}, \"9\": {\"9\": 81, \"14\": 41, \"11\": 50, \"15\": 5, \"12\": 55, \"1\": 7, \"4\": 1}, \"10\": {\"8\": 41, \"10\": 57, \"13\": 19, \"2\": 13, \"6\": 13, \"7\": 32, \"5\": 13, \"0\": 38, \"4\": 4, \"3\": 7, \"1\": 3}, \"5\": {\"4\": 25, \"15\": 12, \"13\": 35, \"0\": 15, \"5\": 43, \"7\": 37, \"1\": 16, \"6\": 21, \"10\": 16, \"2\": 15, \"8\": 3, \"14\": 1, \"11\": 1}, \"13\": {\"10\": 25, \"4\": 22, \"7\": 36, \"5\": 45, \"0\": 18, \"13\": 35, \"2\": 10, \"6\": 25, \"1\": 7, \"15\": 13, \"8\": 4}}, \"ORACLE.run1_32\": {\"2\": {\"5\": 17, \"4\": 50, \"2\": 66, \"0\": 33, \"13\": 18, \"8\": 14, \"7\": 20, \"9\": 4, \"11\": 4, \"14\": 12, \"3\": 2}, \"6\": {\"6\": 157, \"10\": 39, \"12\": 36, \"1\": 7, \"9\": 1}, \"5\": {\"7\": 33, \"5\": 39, \"14\": 22, \"13\": 24, \"8\": 24, \"2\": 19, \"0\": 17, \"3\": 25, \"4\": 19, \"15\": 4, \"11\": 14}, \"12\": {\"12\": 152, \"9\": 41, \"6\": 42, \"10\": 5}, \"13\": {\"5\": 28, \"3\": 23, \"13\": 32, \"4\": 30, \"11\": 10, \"14\": 17, \"7\": 18, \"8\": 31, \"0\": 33, \"2\": 12, \"15\": 6}, \"9\": {\"9\": 177, \"8\": 2, \"12\": 38, \"2\": 14, \"0\": 3, \"4\": 4, \"6\": 2}, \"11\": {\"13\": 14, \"8\": 17, \"11\": 67, \"7\": 34, \"5\": 17, \"14\": 43, \"3\": 34, \"2\": 3, \"0\": 7, \"4\": 4}, \"1\": {\"10\": 74, \"1\": 160, \"6\": 6}, \"3\": {\"5\": 22, \"14\": 21, \"11\": 31, \"3\": 73, \"15\": 22, \"13\": 22, \"8\": 21, \"2\": 2, \"4\": 5, \"7\": 15, \"0\": 6}, \"7\": {\"4\": 21, \"11\": 26, \"3\": 14, \"0\": 26, \"14\": 31, \"13\": 24, \"5\": 31, \"8\": 19, \"2\": 15, \"7\": 30, \"15\": 3}, \"14\": {\"13\": 16, \"14\": 45, \"11\": 43, \"0\": 13, \"7\": 31, \"5\": 25, \"2\": 18, \"3\": 25, \"4\": 12, \"8\": 12}, \"8\": {\"13\": 36, \"3\": 32, \"5\": 18, \"11\": 8, \"0\": 26, \"8\": 42, \"15\": 14, \"14\": 13, \"4\": 22, \"7\": 22, \"2\": 7}, \"4\": {\"4\": 39, \"7\": 31, \"5\": 22, \"2\": 53, \"0\": 31, \"8\": 23, \"13\": 20, \"14\": 10, \"3\": 6, \"9\": 1, \"11\": 3, \"15\": 1}, \"0\": {\"4\": 43, \"0\": 41, \"7\": 21, \"2\": 38, \"13\": 30, \"8\": 16, \"5\": 23, \"14\": 13, \"11\": 9, \"15\": 3, \"3\": 3}, \"10\": {\"6\": 28, \"10\": 152, \"1\": 55, \"12\": 5}, \"15\": {\"15\": 134, \"14\": 5, \"13\": 17, \"5\": 8, \"0\": 10, \"3\": 36, \"8\": 21, \"4\": 4, \"7\": 2, \"2\": 2, \"11\": 1}}, \"ORACLE.run1_44\": {\"13\": {\"13\": 68, \"11\": 46, \"7\": 28, \"6\": 36, \"9\": 32, \"2\": 6, \"4\": 12, \"10\": 1, \"15\": 2, \"14\": 4, \"3\": 4, \"1\": 1}, \"4\": {\"4\": 72, \"0\": 13, \"14\": 63, \"15\": 37, \"5\": 16, \"13\": 15, \"9\": 7, \"8\": 6, \"11\": 7, \"3\": 1, \"6\": 3}, \"6\": {\"7\": 44, \"11\": 43, \"9\": 42, \"13\": 33, \"6\": 56, \"2\": 10, \"10\": 2, \"4\": 4, \"3\": 4, \"1\": 2}, \"0\": {\"0\": 70, \"15\": 33, \"14\": 17, \"8\": 58, \"5\": 56, \"4\": 6}, \"10\": {\"12\": 50, \"10\": 63, \"1\": 52, \"9\": 6, \"3\": 24, \"6\": 3, \"2\": 33, \"7\": 6, \"11\": 2, \"13\": 1}, \"7\": {\"13\": 16, \"7\": 47, \"1\": 15, \"9\": 42, \"3\": 22, \"10\": 12, \"11\": 19, \"6\": 30, \"2\": 36, \"12\": 1}, \"14\": {\"4\": 57, \"15\": 49, \"14\": 65, \"5\": 22, \"11\": 1, \"9\": 5, \"8\": 11, \"0\": 19, \"13\": 8, \"6\": 3}, \"15\": {\"15\": 55, \"4\": 26, \"8\": 44, \"0\": 46, \"14\": 38, \"5\": 30, \"13\": 1}, \"5\": {\"0\": 50, \"5\": 73, \"15\": 37, \"8\": 46, \"14\": 20, \"4\": 13, \"11\": 1}, \"2\": {\"7\": 44, \"2\": 55, \"12\": 20, \"13\": 5, \"9\": 21, \"6\": 9, \"3\": 28, \"10\": 28, \"1\": 25, \"11\": 5}, \"9\": {\"9\": 53, \"13\": 44, \"11\": 19, \"14\": 3, \"7\": 38, \"2\": 17, \"6\": 34, \"4\": 7, \"10\": 3, \"3\": 14, \"12\": 2, \"1\": 5, \"15\": 1}, \"12\": {\"10\": 57, \"3\": 31, \"12\": 75, \"1\": 59, \"2\": 16, \"7\": 2}, \"8\": {\"8\": 76, \"14\": 18, \"0\": 62, \"5\": 52, \"4\": 6, \"15\": 26}, \"3\": {\"2\": 30, \"1\": 40, \"3\": 75, \"7\": 25, \"10\": 19, \"12\": 28, \"9\": 10, \"4\": 1, \"11\": 2, \"6\": 8, \"13\": 2}, \"1\": {\"7\": 18, \"3\": 41, \"10\": 39, \"12\": 46, \"9\": 5, \"2\": 33, \"1\": 54, \"6\": 4}, \"11\": {\"13\": 69, \"9\": 23, \"6\": 33, \"11\": 78, \"7\": 18, \"2\": 6, \"4\": 9, \"14\": 1, \"3\": 2, \"10\": 1}}, \"ORACLE.run1_14\": {\"1\": {\"10\": 3, \"1\": 51, \"5\": 37, \"3\": 21, \"7\": 17, \"6\": 13, \"2\": 21, \"13\": 13, \"15\": 8, \"4\": 32, \"8\": 14, \"14\": 7, \"0\": 3}, \"15\": {\"7\": 89, \"13\": 13, \"5\": 14, \"15\": 87, \"14\": 1, \"4\": 9, \"2\": 7, \"1\": 13, \"6\": 7}, \"10\": {\"0\": 52, \"14\": 23, \"10\": 48, \"9\": 5, \"4\": 9, \"11\": 32, \"8\": 15, \"6\": 8, \"3\": 24, \"5\": 4, \"2\": 8, \"13\": 11, \"1\": 1}, \"2\": {\"6\": 36, \"4\": 21, \"10\": 8, \"1\": 29, \"2\": 39, \"8\": 3, \"3\": 27, \"5\": 19, \"13\": 23, \"14\": 23, \"15\": 2, \"0\": 5, \"7\": 5}, \"9\": {\"11\": 47, \"3\": 1, \"12\": 58, \"9\": 85, \"0\": 18, \"10\": 9, \"8\": 19, \"14\": 2, \"13\": 1}, \"5\": {\"10\": 8, \"2\": 25, \"5\": 19, \"13\": 22, \"8\": 14, \"7\": 21, \"3\": 26, \"0\": 6, \"4\": 20, \"1\": 35, \"15\": 8, \"14\": 19, \"6\": 17}, \"7\": {\"4\": 18, \"1\": 24, \"5\": 18, \"15\": 74, \"7\": 83, \"6\": 4, \"2\": 5, \"13\": 12, \"8\": 2}, \"13\": {\"13\": 40, \"3\": 25, \"2\": 29, \"6\": 49, \"4\": 27, \"14\": 27, \"5\": 10, \"10\": 6, \"1\": 12, \"15\": 6, \"0\": 4, \"7\": 3, \"8\": 2}, \"8\": {\"8\": 102, \"0\": 40, \"11\": 9, \"10\": 13, \"1\": 12, \"3\": 23, \"5\": 9, \"4\": 14, \"14\": 2, \"9\": 14, \"13\": 1, \"6\": 1}, \"6\": {\"2\": 35, \"6\": 53, \"13\": 40, \"4\": 16, \"1\": 20, \"14\": 27, \"15\": 10, \"3\": 12, \"5\": 13, \"7\": 5, \"10\": 4, \"0\": 5}, \"3\": {\"3\": 31, \"4\": 18, \"14\": 27, \"8\": 26, \"10\": 28, \"13\": 28, \"0\": 19, \"1\": 19, \"6\": 11, \"11\": 5, \"2\": 14, \"5\": 14}, \"12\": {\"12\": 167, \"9\": 55, \"11\": 17, \"0\": 1}, \"0\": {\"10\": 56, \"11\": 41, \"3\": 19, \"0\": 35, \"9\": 11, \"4\": 9, \"8\": 34, \"2\": 3, \"13\": 7, \"14\": 14, \"1\": 4, \"5\": 4, \"6\": 3}, \"4\": {\"6\": 21, \"4\": 26, \"14\": 12, \"8\": 9, \"3\": 27, \"1\": 35, \"15\": 10, \"13\": 29, \"2\": 18, \"5\": 28, \"7\": 10, \"0\": 8, \"10\": 7}, \"14\": {\"6\": 34, \"14\": 48, \"5\": 13, \"3\": 33, \"2\": 25, \"4\": 15, \"8\": 6, \"13\": 20, \"0\": 12, \"10\": 24, \"1\": 6, \"11\": 3, \"7\": 1}, \"11\": {\"9\": 44, \"11\": 74, \"10\": 53, \"0\": 29, \"12\": 13, \"8\": 9, \"3\": 8, \"14\": 6, \"13\": 2, \"2\": 1, \"6\": 1}}}, \"per_domain_accuracy\": {\"CORES_2\": {\"accuracy\": 0.9991122159090909, \"source?\": true}, \"CORES_5\": {\"accuracy\": 0.9970154494382022, \"source?\": true}, \"CORES_1\": {\"accuracy\": 0.9994848901098901, \"source?\": true}, \"CORES_4\": {\"accuracy\": 0.9966317365269461, \"source?\": true}, \"CORES_3\": {\"accuracy\": 0.9987207602339181, \"source?\": true}, \"ORACLE.run1_8\": {\"accuracy\": 0.19921875, \"source?\": false}, \"ORACLE.run1_38\": {\"accuracy\": 0.2890625, \"source?\": false}, \"ORACLE.run1_26\": {\"accuracy\": 0.16145833333333334, \"source?\": false}, \"ORACLE.run1_20\": {\"accuracy\": 0.12395833333333334, \"source?\": false}, \"ORACLE.run1_50\": {\"accuracy\": 0.2671875, \"source?\": false}, \"ORACLE.run1_32\": {\"accuracy\": 0.36614583333333334, \"source?\": false}, \"ORACLE.run1_44\": {\"accuracy\": 0.26953125, \"source?\": false}, \"ORACLE.run1_14\": {\"accuracy\": 0.25729166666666664, \"source?\": false}}}, \"history\": {\"epoch_indices\": [1, 2, 3, 4, 5], \"train_label_loss\": [0.026940410567237682, 0.006680854209894517, 0.004217530230256683, 0.0037777626363175395, 0.003889920594193552], \"source_val_label_loss\": [0.010011262260377407, 0.01309138722717762, 0.010913897305727005, 0.01132106315344572, 0.013330314308404922], \"target_val_label_loss\": [2.2407524585723877, 2.6551036834716797, 2.7859792709350586, 2.797952651977539, 2.928610324859619], \"source_val_acc_label\": [0.9982122425629291, 0.9979262013729977, 0.9991061212814645, 0.9991061212814645, 0.9991776315789473], \"target_val_acc_label\": [0.24173177083333333, 0.2177734375, 0.22262369791666667, 0.23470052083333334, 0.21861979166666667]}, \"dataset_metrics\": {\"source\": {\"train\": {\"n_unique_x\": 175213, \"n_unique_y\": 58, \"n_batch/episode\": 6329}, \"val\": {\"n_unique_x\": 37135, \"n_unique_y\": 58, \"n_batch/episode\": 874}, \"test\": {\"n_unique_x\": 37673, \"n_unique_y\": 58, \"n_batch/episode\": 893}}, \"target\": {\"train\": {\"n_unique_x\": 179200, \"n_unique_y\": 16, \"n_batch/episode\": 6720}, \"val\": {\"n_unique_x\": 38400, \"n_unique_y\": 16, \"n_batch/episode\": 960}, \"test\": {\"n_unique_x\": 38400, \"n_unique_y\": 16, \"n_batch/episode\": 960}}}}'"
      ]
     },
     "execution_count": 29,
     "metadata": {},
     "output_type": "execute_result"
    }
   ],
   "source": [
    "json.dumps(experiment)"
   ]
  }
 ],
 "metadata": {
  "celltoolbar": "Tags",
  "kernelspec": {
   "display_name": "Python 3 (ipykernel)",
   "language": "python",
   "name": "python3"
  },
  "language_info": {
   "codemirror_mode": {
    "name": "ipython",
    "version": 3
   },
   "file_extension": ".py",
   "mimetype": "text/x-python",
   "name": "python",
   "nbconvert_exporter": "python",
   "pygments_lexer": "ipython3",
   "version": "3.8.12"
  },
  "papermill": {
   "default_parameters": {},
   "duration": 1533.646839,
   "end_time": "2022-03-21T09:43:56.877406",
   "environment_variables": {},
   "exception": null,
   "input_path": "/root/csc500-main/csc500-notebooks/templates/tl_ptn_template.ipynb",
   "output_path": "trial.ipynb",
   "parameters": {
    "parameters": {
     "BEST_MODEL_PATH": "./best_model.pth",
     "NUM_LOGS_PER_EPOCH": 10,
     "criteria_for_best": "target_accuracy",
     "dataset_seed": 154325,
     "datasets": [
      {
       "domain_prefix": "CORES_",
       "domains": [
        1,
        2,
        3,
        4,
        5
       ],
       "episode_transforms": [],
       "labels": [
        "1-10.",
        "1-11.",
        "1-15.",
        "1-16.",
        "1-17.",
        "1-18.",
        "1-19.",
        "10-4.",
        "10-7.",
        "11-1.",
        "11-14.",
        "11-17.",
        "11-20.",
        "11-7.",
        "13-20.",
        "13-8.",
        "14-10.",
        "14-11.",
        "14-14.",
        "14-7.",
        "15-1.",
        "15-20.",
        "16-1.",
        "16-16.",
        "17-10.",
        "17-11.",
        "17-2.",
        "19-1.",
        "19-16.",
        "19-19.",
        "19-20.",
        "19-3.",
        "2-10.",
        "2-11.",
        "2-17.",
        "2-18.",
        "2-20.",
        "2-3.",
        "2-4.",
        "2-5.",
        "2-6.",
        "2-7.",
        "2-8.",
        "3-13.",
        "3-18.",
        "3-3.",
        "4-1.",
        "4-10.",
        "4-11.",
        "4-19.",
        "5-5.",
        "6-15.",
        "7-10.",
        "7-14.",
        "8-18.",
        "8-20.",
        "8-3.",
        "8-8."
       ],
       "num_examples_per_domain_per_label": -1,
       "pickle_path": "/root/csc500-main/datasets/cores.stratified_ds.2022A.pkl",
       "source_or_target_dataset": "source",
       "x_transforms": [
        "unit_power"
       ]
      },
      {
       "domain_prefix": "ORACLE.run1_",
       "domains": [
        32,
        38,
        8,
        44,
        14,
        50,
        20,
        26
       ],
       "episode_transforms": [],
       "labels": [
        "3123D52",
        "3123D65",
        "3123D79",
        "3123D80",
        "3123D54",
        "3123D70",
        "3123D7B",
        "3123D89",
        "3123D58",
        "3123D76",
        "3123D7D",
        "3123EFE",
        "3123D64",
        "3123D78",
        "3123D7E",
        "3124E4A"
       ],
       "num_examples_per_domain_per_label": 2000,
       "pickle_path": "/root/csc500-main/datasets/oracle.Run1_framed_2000Examples_stratified_ds.2022A.pkl",
       "source_or_target_dataset": "target",
       "x_transforms": [
        "unit_power"
       ]
      }
     ],
     "device": "cuda",
     "experiment_name": "tl_1v2:cores-oracle.run1.framed",
     "lr": 0.0001,
     "n_epoch": 50,
     "n_query": 2,
     "n_shot": 3,
     "n_way": 16,
     "patience": 3,
     "seed": 154325,
     "test_k_factor": 2,
     "torch_default_dtype": "torch.float32",
     "train_k_factor": 3,
     "val_k_factor": 2,
     "x_net": [
      {
       "class": "nnReshape",
       "kargs": {
        "shape": [
         -1,
         1,
         2,
         256
        ]
       }
      },
      {
       "class": "Conv2d",
       "kargs": {
        "bias": false,
        "in_channels": 1,
        "kernel_size": [
         1,
         7
        ],
        "out_channels": 256,
        "padding": [
         0,
         3
        ]
       }
      },
      {
       "class": "ReLU",
       "kargs": {
        "inplace": true
       }
      },
      {
       "class": "BatchNorm2d",
       "kargs": {
        "num_features": 256
       }
      },
      {
       "class": "Conv2d",
       "kargs": {
        "bias": true,
        "in_channels": 256,
        "kernel_size": [
         2,
         7
        ],
        "out_channels": 80,
        "padding": [
         0,
         3
        ]
       }
      },
      {
       "class": "ReLU",
       "kargs": {
        "inplace": true
       }
      },
      {
       "class": "BatchNorm2d",
       "kargs": {
        "num_features": 80
       }
      },
      {
       "class": "Flatten",
       "kargs": {}
      },
      {
       "class": "Linear",
       "kargs": {
        "in_features": 20480,
        "out_features": 256
       }
      },
      {
       "class": "ReLU",
       "kargs": {
        "inplace": true
       }
      },
      {
       "class": "BatchNorm1d",
       "kargs": {
        "num_features": 256
       }
      },
      {
       "class": "Linear",
       "kargs": {
        "in_features": 256,
        "out_features": 256
       }
      }
     ]
    }
   },
   "start_time": "2022-03-21T09:18:23.230567",
   "version": "2.3.4"
  }
 },
 "nbformat": 4,
 "nbformat_minor": 5
}