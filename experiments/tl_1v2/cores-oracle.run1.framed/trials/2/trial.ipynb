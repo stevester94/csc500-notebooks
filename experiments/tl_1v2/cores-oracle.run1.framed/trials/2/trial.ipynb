{
 "cells": [
  {
   "cell_type": "markdown",
   "id": "9fea5f46",
   "metadata": {
    "papermill": {
     "duration": 0.026342,
     "end_time": "2022-03-21T03:08:15.440781",
     "exception": false,
     "start_time": "2022-03-21T03:08:15.414439",
     "status": "completed"
    },
    "tags": []
   },
   "source": [
    "# Transfer Learning Template"
   ]
  },
  {
   "cell_type": "code",
   "execution_count": 1,
   "id": "0902182a",
   "metadata": {
    "execution": {
     "iopub.execute_input": "2022-03-21T03:08:15.501080Z",
     "iopub.status.busy": "2022-03-21T03:08:15.490096Z",
     "iopub.status.idle": "2022-03-21T03:08:17.334191Z",
     "shell.execute_reply": "2022-03-21T03:08:17.333345Z"
    },
    "papermill": {
     "duration": 1.870813,
     "end_time": "2022-03-21T03:08:17.334391",
     "exception": false,
     "start_time": "2022-03-21T03:08:15.463578",
     "status": "completed"
    },
    "tags": []
   },
   "outputs": [],
   "source": [
    "%load_ext autoreload\n",
    "%autoreload 2\n",
    "%matplotlib inline\n",
    "\n",
    "    \n",
    "import os, json, sys, time, random\n",
    "import numpy as np\n",
    "import torch\n",
    "from torch.optim import Adam\n",
    "from  easydict import EasyDict\n",
    "import matplotlib.pyplot as plt\n",
    "\n",
    "from steves_models.steves_ptn import Steves_Prototypical_Network\n",
    "\n",
    "from steves_utils.lazy_iterable_wrapper import Lazy_Iterable_Wrapper\n",
    "from steves_utils.iterable_aggregator import Iterable_Aggregator\n",
    "from steves_utils.ptn_train_eval_test_jig import  PTN_Train_Eval_Test_Jig\n",
    "from steves_utils.torch_sequential_builder import build_sequential\n",
    "from steves_utils.torch_utils import get_dataset_metrics, ptn_confusion_by_domain_over_dataloader\n",
    "from steves_utils.utils_v2 import (per_domain_accuracy_from_confusion, get_datasets_base_path)\n",
    "from steves_utils.PTN.utils import independent_accuracy_assesment\n",
    "\n",
    "from torch.utils.data import DataLoader\n",
    "\n",
    "from steves_utils.stratified_dataset.episodic_accessor import Episodic_Accessor_Factory\n",
    "\n",
    "from steves_utils.ptn_do_report import (\n",
    "    get_loss_curve,\n",
    "    get_results_table,\n",
    "    get_parameters_table,\n",
    "    get_domain_accuracies,\n",
    ")\n",
    "\n",
    "from steves_utils.transforms import get_chained_transform"
   ]
  },
  {
   "cell_type": "markdown",
   "id": "41c840b4",
   "metadata": {
    "papermill": {
     "duration": 0.019476,
     "end_time": "2022-03-21T03:08:17.381983",
     "exception": false,
     "start_time": "2022-03-21T03:08:17.362507",
     "status": "completed"
    },
    "tags": []
   },
   "source": [
    "# Allowed Parameters\n",
    "These are allowed parameters, not defaults\n",
    "Each of these values need to be present in the injected parameters (the notebook will raise an exception if they are not present)\n",
    "\n",
    "Papermill uses the cell tag \"parameters\" to inject the real parameters below this cell.\n",
    "Enable tags to see what I mean"
   ]
  },
  {
   "cell_type": "code",
   "execution_count": 2,
   "id": "fd44eb83",
   "metadata": {
    "execution": {
     "iopub.execute_input": "2022-03-21T03:08:17.426207Z",
     "iopub.status.busy": "2022-03-21T03:08:17.425821Z",
     "iopub.status.idle": "2022-03-21T03:08:17.448477Z",
     "shell.execute_reply": "2022-03-21T03:08:17.447753Z"
    },
    "papermill": {
     "duration": 0.047337,
     "end_time": "2022-03-21T03:08:17.448649",
     "exception": false,
     "start_time": "2022-03-21T03:08:17.401312",
     "status": "completed"
    },
    "tags": []
   },
   "outputs": [],
   "source": [
    "required_parameters = {\n",
    "    \"experiment_name\",\n",
    "    \"lr\",\n",
    "    \"device\",\n",
    "    \"seed\",\n",
    "    \"dataset_seed\",\n",
    "    \"n_shot\",\n",
    "    \"n_query\",\n",
    "    \"n_way\",\n",
    "    \"train_k_factor\",\n",
    "    \"val_k_factor\",\n",
    "    \"test_k_factor\",\n",
    "    \"n_epoch\",\n",
    "    \"patience\",\n",
    "    \"criteria_for_best\",\n",
    "    \"x_net\",\n",
    "    \"datasets\",\n",
    "    \"torch_default_dtype\",\n",
    "    \"NUM_LOGS_PER_EPOCH\",\n",
    "    \"BEST_MODEL_PATH\",\n",
    "    \"x_shape\",\n",
    "}"
   ]
  },
  {
   "cell_type": "code",
   "execution_count": 3,
   "id": "fa3f0049",
   "metadata": {
    "execution": {
     "iopub.execute_input": "2022-03-21T03:08:17.510112Z",
     "iopub.status.busy": "2022-03-21T03:08:17.509334Z",
     "iopub.status.idle": "2022-03-21T03:08:17.530339Z",
     "shell.execute_reply": "2022-03-21T03:08:17.529584Z"
    },
    "papermill": {
     "duration": 0.055555,
     "end_time": "2022-03-21T03:08:17.530517",
     "exception": false,
     "start_time": "2022-03-21T03:08:17.474962",
     "status": "completed"
    },
    "tags": [
     "parameters"
    ]
   },
   "outputs": [],
   "source": [
    "from steves_utils.CORES.utils import (\n",
    "    ALL_NODES,\n",
    "    ALL_NODES_MINIMUM_1000_EXAMPLES,\n",
    "    ALL_DAYS\n",
    ")\n",
    "\n",
    "from steves_utils.ORACLE.utils_v2 import (\n",
    "    ALL_DISTANCES_FEET_NARROWED,\n",
    "    ALL_RUNS,\n",
    "    ALL_SERIAL_NUMBERS,\n",
    ")\n",
    "\n",
    "standalone_parameters = {}\n",
    "standalone_parameters[\"experiment_name\"] = \"STANDALONE PTN\"\n",
    "standalone_parameters[\"lr\"] = 0.001\n",
    "standalone_parameters[\"device\"] = \"cuda\"\n",
    "\n",
    "standalone_parameters[\"seed\"] = 1337\n",
    "standalone_parameters[\"dataset_seed\"] = 1337\n",
    "\n",
    "standalone_parameters[\"n_way\"] = 8\n",
    "standalone_parameters[\"n_shot\"] = 3\n",
    "standalone_parameters[\"n_query\"]  = 2\n",
    "standalone_parameters[\"train_k_factor\"] = 1\n",
    "standalone_parameters[\"val_k_factor\"] = 2\n",
    "standalone_parameters[\"test_k_factor\"] = 2\n",
    "\n",
    "\n",
    "standalone_parameters[\"n_epoch\"] = 50\n",
    "\n",
    "standalone_parameters[\"patience\"] = 10\n",
    "standalone_parameters[\"criteria_for_best\"] = \"source_loss\"\n",
    "\n",
    "standalone_parameters[\"datasets\"] = [\n",
    "    {\n",
    "        \"labels\": ALL_SERIAL_NUMBERS,\n",
    "        \"domains\": ALL_DISTANCES_FEET_NARROWED,\n",
    "        \"num_examples_per_domain_per_label\": 100,\n",
    "        \"pickle_path\": os.path.join(get_datasets_base_path(), \"oracle.Run1_framed_2000Examples_stratified_ds.2022A.pkl\"),\n",
    "        \"source_or_target_dataset\": \"source\",\n",
    "        \"x_transforms\": [\"unit_mag\", \"minus_two\"],\n",
    "        \"episode_transforms\": [],\n",
    "        \"domain_prefix\": \"ORACLE_\"\n",
    "    },\n",
    "    {\n",
    "        \"labels\": ALL_NODES,\n",
    "        \"domains\": ALL_DAYS,\n",
    "        \"num_examples_per_domain_per_label\": 100,\n",
    "        \"pickle_path\": os.path.join(get_datasets_base_path(), \"cores.stratified_ds.2022A.pkl\"),\n",
    "        \"source_or_target_dataset\": \"target\",\n",
    "        \"x_transforms\": [\"unit_power\", \"times_zero\"],\n",
    "        \"episode_transforms\": [],\n",
    "        \"domain_prefix\": \"CORES_\"\n",
    "    }   \n",
    "]\n",
    "\n",
    "standalone_parameters[\"torch_default_dtype\"] = \"torch.float32\" \n",
    "\n",
    "\n",
    "\n",
    "standalone_parameters[\"x_net\"] =     [\n",
    "    {\"class\": \"nnReshape\", \"kargs\": {\"shape\":[-1, 1, 2, 256]}},\n",
    "    {\"class\": \"Conv2d\", \"kargs\": { \"in_channels\":1, \"out_channels\":256, \"kernel_size\":(1,7), \"bias\":False, \"padding\":(0,3), },},\n",
    "    {\"class\": \"ReLU\", \"kargs\": {\"inplace\": True}},\n",
    "    {\"class\": \"BatchNorm2d\", \"kargs\": {\"num_features\":256}},\n",
    "\n",
    "    {\"class\": \"Conv2d\", \"kargs\": { \"in_channels\":256, \"out_channels\":80, \"kernel_size\":(2,7), \"bias\":True, \"padding\":(0,3), },},\n",
    "    {\"class\": \"ReLU\", \"kargs\": {\"inplace\": True}},\n",
    "    {\"class\": \"BatchNorm2d\", \"kargs\": {\"num_features\":80}},\n",
    "    {\"class\": \"Flatten\", \"kargs\": {}},\n",
    "\n",
    "    {\"class\": \"Linear\", \"kargs\": {\"in_features\": 80*256, \"out_features\": 256}}, # 80 units per IQ pair\n",
    "    {\"class\": \"ReLU\", \"kargs\": {\"inplace\": True}},\n",
    "    {\"class\": \"BatchNorm1d\", \"kargs\": {\"num_features\":256}},\n",
    "\n",
    "    {\"class\": \"Linear\", \"kargs\": {\"in_features\": 256, \"out_features\": 256}},\n",
    "]\n",
    "\n",
    "# Parameters relevant to results\n",
    "# These parameters will basically never need to change\n",
    "standalone_parameters[\"NUM_LOGS_PER_EPOCH\"] = 10\n",
    "standalone_parameters[\"BEST_MODEL_PATH\"] = \"./best_model.pth\"\n",
    "\n",
    "\n",
    "\n",
    "\n"
   ]
  },
  {
   "cell_type": "code",
   "execution_count": 4,
   "id": "8213a104",
   "metadata": {
    "execution": {
     "iopub.execute_input": "2022-03-21T03:08:17.593076Z",
     "iopub.status.busy": "2022-03-21T03:08:17.592162Z",
     "iopub.status.idle": "2022-03-21T03:08:17.611425Z",
     "shell.execute_reply": "2022-03-21T03:08:17.610673Z"
    },
    "papermill": {
     "duration": 0.055585,
     "end_time": "2022-03-21T03:08:17.611635",
     "exception": false,
     "start_time": "2022-03-21T03:08:17.556050",
     "status": "completed"
    },
    "tags": [
     "injected-parameters"
    ]
   },
   "outputs": [],
   "source": [
    "# Parameters\n",
    "parameters = {\n",
    "    \"experiment_name\": \"tl_1v2:cores-oracle.run1.framed\",\n",
    "    \"device\": \"cuda\",\n",
    "    \"lr\": 0.0001,\n",
    "    \"n_shot\": 3,\n",
    "    \"n_query\": 2,\n",
    "    \"train_k_factor\": 3,\n",
    "    \"val_k_factor\": 2,\n",
    "    \"test_k_factor\": 2,\n",
    "    \"torch_default_dtype\": \"torch.float32\",\n",
    "    \"n_epoch\": 50,\n",
    "    \"patience\": 3,\n",
    "    \"criteria_for_best\": \"target_accuracy\",\n",
    "    \"x_net\": [\n",
    "        {\"class\": \"nnReshape\", \"kargs\": {\"shape\": [-1, 1, 2, 256]}},\n",
    "        {\n",
    "            \"class\": \"Conv2d\",\n",
    "            \"kargs\": {\n",
    "                \"in_channels\": 1,\n",
    "                \"out_channels\": 256,\n",
    "                \"kernel_size\": [1, 7],\n",
    "                \"bias\": False,\n",
    "                \"padding\": [0, 3],\n",
    "            },\n",
    "        },\n",
    "        {\"class\": \"ReLU\", \"kargs\": {\"inplace\": True}},\n",
    "        {\"class\": \"BatchNorm2d\", \"kargs\": {\"num_features\": 256}},\n",
    "        {\n",
    "            \"class\": \"Conv2d\",\n",
    "            \"kargs\": {\n",
    "                \"in_channels\": 256,\n",
    "                \"out_channels\": 80,\n",
    "                \"kernel_size\": [2, 7],\n",
    "                \"bias\": True,\n",
    "                \"padding\": [0, 3],\n",
    "            },\n",
    "        },\n",
    "        {\"class\": \"ReLU\", \"kargs\": {\"inplace\": True}},\n",
    "        {\"class\": \"BatchNorm2d\", \"kargs\": {\"num_features\": 80}},\n",
    "        {\"class\": \"Flatten\", \"kargs\": {}},\n",
    "        {\"class\": \"Linear\", \"kargs\": {\"in_features\": 20480, \"out_features\": 256}},\n",
    "        {\"class\": \"ReLU\", \"kargs\": {\"inplace\": True}},\n",
    "        {\"class\": \"BatchNorm1d\", \"kargs\": {\"num_features\": 256}},\n",
    "        {\"class\": \"Linear\", \"kargs\": {\"in_features\": 256, \"out_features\": 256}},\n",
    "    ],\n",
    "    \"NUM_LOGS_PER_EPOCH\": 10,\n",
    "    \"BEST_MODEL_PATH\": \"./best_model.pth\",\n",
    "    \"n_way\": 16,\n",
    "    \"datasets\": [\n",
    "        {\n",
    "            \"labels\": [\n",
    "                \"1-10.\",\n",
    "                \"1-11.\",\n",
    "                \"1-15.\",\n",
    "                \"1-16.\",\n",
    "                \"1-17.\",\n",
    "                \"1-18.\",\n",
    "                \"1-19.\",\n",
    "                \"10-4.\",\n",
    "                \"10-7.\",\n",
    "                \"11-1.\",\n",
    "                \"11-14.\",\n",
    "                \"11-17.\",\n",
    "                \"11-20.\",\n",
    "                \"11-7.\",\n",
    "                \"13-20.\",\n",
    "                \"13-8.\",\n",
    "                \"14-10.\",\n",
    "                \"14-11.\",\n",
    "                \"14-14.\",\n",
    "                \"14-7.\",\n",
    "                \"15-1.\",\n",
    "                \"15-20.\",\n",
    "                \"16-1.\",\n",
    "                \"16-16.\",\n",
    "                \"17-10.\",\n",
    "                \"17-11.\",\n",
    "                \"17-2.\",\n",
    "                \"19-1.\",\n",
    "                \"19-16.\",\n",
    "                \"19-19.\",\n",
    "                \"19-20.\",\n",
    "                \"19-3.\",\n",
    "                \"2-10.\",\n",
    "                \"2-11.\",\n",
    "                \"2-17.\",\n",
    "                \"2-18.\",\n",
    "                \"2-20.\",\n",
    "                \"2-3.\",\n",
    "                \"2-4.\",\n",
    "                \"2-5.\",\n",
    "                \"2-6.\",\n",
    "                \"2-7.\",\n",
    "                \"2-8.\",\n",
    "                \"3-13.\",\n",
    "                \"3-18.\",\n",
    "                \"3-3.\",\n",
    "                \"4-1.\",\n",
    "                \"4-10.\",\n",
    "                \"4-11.\",\n",
    "                \"4-19.\",\n",
    "                \"5-5.\",\n",
    "                \"6-15.\",\n",
    "                \"7-10.\",\n",
    "                \"7-14.\",\n",
    "                \"8-18.\",\n",
    "                \"8-20.\",\n",
    "                \"8-3.\",\n",
    "                \"8-8.\",\n",
    "            ],\n",
    "            \"domains\": [1, 2, 3, 4, 5],\n",
    "            \"num_examples_per_domain_per_label\": -1,\n",
    "            \"pickle_path\": \"/root/csc500-main/datasets/cores.stratified_ds.2022A.pkl\",\n",
    "            \"source_or_target_dataset\": \"source\",\n",
    "            \"x_transforms\": [],\n",
    "            \"episode_transforms\": [],\n",
    "            \"domain_prefix\": \"CORES_\",\n",
    "        },\n",
    "        {\n",
    "            \"labels\": [\n",
    "                \"3123D52\",\n",
    "                \"3123D65\",\n",
    "                \"3123D79\",\n",
    "                \"3123D80\",\n",
    "                \"3123D54\",\n",
    "                \"3123D70\",\n",
    "                \"3123D7B\",\n",
    "                \"3123D89\",\n",
    "                \"3123D58\",\n",
    "                \"3123D76\",\n",
    "                \"3123D7D\",\n",
    "                \"3123EFE\",\n",
    "                \"3123D64\",\n",
    "                \"3123D78\",\n",
    "                \"3123D7E\",\n",
    "                \"3124E4A\",\n",
    "            ],\n",
    "            \"domains\": [32, 38, 8, 44, 14, 50, 20, 26],\n",
    "            \"num_examples_per_domain_per_label\": 2000,\n",
    "            \"pickle_path\": \"/root/csc500-main/datasets/oracle.Run1_framed_2000Examples_stratified_ds.2022A.pkl\",\n",
    "            \"source_or_target_dataset\": \"target\",\n",
    "            \"x_transforms\": [],\n",
    "            \"episode_transforms\": [],\n",
    "            \"domain_prefix\": \"ORACLE.run1_\",\n",
    "        },\n",
    "    ],\n",
    "    \"dataset_seed\": 1337,\n",
    "    \"seed\": 1337,\n",
    "}\n"
   ]
  },
  {
   "cell_type": "code",
   "execution_count": 5,
   "id": "8fa1cc33",
   "metadata": {
    "execution": {
     "iopub.execute_input": "2022-03-21T03:08:17.671468Z",
     "iopub.status.busy": "2022-03-21T03:08:17.671079Z",
     "iopub.status.idle": "2022-03-21T03:08:17.692257Z",
     "shell.execute_reply": "2022-03-21T03:08:17.691485Z"
    },
    "papermill": {
     "duration": 0.05551,
     "end_time": "2022-03-21T03:08:17.692433",
     "exception": false,
     "start_time": "2022-03-21T03:08:17.636923",
     "status": "completed"
    },
    "tags": []
   },
   "outputs": [],
   "source": [
    "# Set this to True if you want to run this template directly\n",
    "STANDALONE = False\n",
    "if STANDALONE:\n",
    "    print(\"parameters not injected, running with standalone_parameters\")\n",
    "    parameters = standalone_parameters\n",
    "\n",
    "if not 'parameters' in locals() and not 'parameters' in globals():\n",
    "    raise Exception(\"Parameter injection failed\")\n",
    "\n",
    "#Use an easy dict for all the parameters\n",
    "p = EasyDict(parameters)\n",
    "\n",
    "if \"x_shape\" not in p:\n",
    "    p.x_shape = [2,256] # Default to this if we dont supply x_shape\n",
    "\n",
    "\n",
    "supplied_keys = set(p.keys())\n",
    "\n",
    "if  supplied_keys != required_parameters:\n",
    "    print(\"Parameters are incorrect\")\n",
    "    if len(supplied_keys - required_parameters)>0: print(\"Shouldn't have:\", str(supplied_keys - required_parameters))\n",
    "    if len(required_parameters - supplied_keys)>0: print(\"Need to have:\", str(required_parameters - supplied_keys))\n",
    "    raise RuntimeError(\"Parameters are incorrect\")"
   ]
  },
  {
   "cell_type": "code",
   "execution_count": 6,
   "id": "3a028d58",
   "metadata": {
    "execution": {
     "iopub.execute_input": "2022-03-21T03:08:17.743512Z",
     "iopub.status.busy": "2022-03-21T03:08:17.743133Z",
     "iopub.status.idle": "2022-03-21T03:08:17.764284Z",
     "shell.execute_reply": "2022-03-21T03:08:17.763477Z"
    },
    "papermill": {
     "duration": 0.04522,
     "end_time": "2022-03-21T03:08:17.764465",
     "exception": false,
     "start_time": "2022-03-21T03:08:17.719245",
     "status": "completed"
    },
    "tags": []
   },
   "outputs": [],
   "source": [
    "###################################\n",
    "# Set the RNGs and make it all deterministic\n",
    "###################################\n",
    "np.random.seed(p.seed)\n",
    "random.seed(p.seed)\n",
    "torch.manual_seed(p.seed)\n",
    "\n",
    "torch.use_deterministic_algorithms(True) "
   ]
  },
  {
   "cell_type": "code",
   "execution_count": 7,
   "id": "b691acf6",
   "metadata": {
    "execution": {
     "iopub.execute_input": "2022-03-21T03:08:17.814991Z",
     "iopub.status.busy": "2022-03-21T03:08:17.814619Z",
     "iopub.status.idle": "2022-03-21T03:08:17.837074Z",
     "shell.execute_reply": "2022-03-21T03:08:17.836375Z"
    },
    "papermill": {
     "duration": 0.045549,
     "end_time": "2022-03-21T03:08:17.837225",
     "exception": false,
     "start_time": "2022-03-21T03:08:17.791676",
     "status": "completed"
    },
    "tags": []
   },
   "outputs": [],
   "source": [
    "###########################################\n",
    "# The stratified datasets honor this\n",
    "###########################################\n",
    "torch.set_default_dtype(eval(p.torch_default_dtype))"
   ]
  },
  {
   "cell_type": "code",
   "execution_count": 8,
   "id": "b5fba671",
   "metadata": {
    "execution": {
     "iopub.execute_input": "2022-03-21T03:08:17.885554Z",
     "iopub.status.busy": "2022-03-21T03:08:17.885190Z",
     "iopub.status.idle": "2022-03-21T03:08:17.947203Z",
     "shell.execute_reply": "2022-03-21T03:08:17.946497Z"
    },
    "papermill": {
     "duration": 0.08406,
     "end_time": "2022-03-21T03:08:17.947359",
     "exception": false,
     "start_time": "2022-03-21T03:08:17.863299",
     "status": "completed"
    },
    "tags": []
   },
   "outputs": [],
   "source": [
    "###################################\n",
    "# Build the network(s)\n",
    "# Note: It's critical to do this AFTER setting the RNG\n",
    "###################################\n",
    "x_net = build_sequential(p.x_net)"
   ]
  },
  {
   "cell_type": "code",
   "execution_count": 9,
   "id": "5d7e61cc",
   "metadata": {
    "execution": {
     "iopub.execute_input": "2022-03-21T03:08:17.998019Z",
     "iopub.status.busy": "2022-03-21T03:08:17.997656Z",
     "iopub.status.idle": "2022-03-21T03:08:18.020062Z",
     "shell.execute_reply": "2022-03-21T03:08:18.019321Z"
    },
    "papermill": {
     "duration": 0.045319,
     "end_time": "2022-03-21T03:08:18.020218",
     "exception": false,
     "start_time": "2022-03-21T03:08:17.974899",
     "status": "completed"
    },
    "tags": []
   },
   "outputs": [],
   "source": [
    "start_time_secs = time.time()"
   ]
  },
  {
   "cell_type": "code",
   "execution_count": 10,
   "id": "c6b67dfd",
   "metadata": {
    "execution": {
     "iopub.execute_input": "2022-03-21T03:08:18.069785Z",
     "iopub.status.busy": "2022-03-21T03:08:18.069420Z",
     "iopub.status.idle": "2022-03-21T03:08:18.086665Z",
     "shell.execute_reply": "2022-03-21T03:08:18.085953Z"
    },
    "papermill": {
     "duration": 0.0397,
     "end_time": "2022-03-21T03:08:18.086825",
     "exception": false,
     "start_time": "2022-03-21T03:08:18.047125",
     "status": "completed"
    },
    "tags": []
   },
   "outputs": [],
   "source": [
    "p.domains_source = []\n",
    "p.domains_target = []\n",
    "\n",
    "\n",
    "train_original_source = []\n",
    "val_original_source   = []\n",
    "test_original_source  = []\n",
    "\n",
    "train_original_target = []\n",
    "val_original_target   = []\n",
    "test_original_target  = []"
   ]
  },
  {
   "cell_type": "code",
   "execution_count": 11,
   "id": "e3d9c3d3",
   "metadata": {
    "execution": {
     "iopub.execute_input": "2022-03-21T03:08:18.135572Z",
     "iopub.status.busy": "2022-03-21T03:08:18.135191Z",
     "iopub.status.idle": "2022-03-21T03:08:18.151984Z",
     "shell.execute_reply": "2022-03-21T03:08:18.151165Z"
    },
    "papermill": {
     "duration": 0.039323,
     "end_time": "2022-03-21T03:08:18.152145",
     "exception": false,
     "start_time": "2022-03-21T03:08:18.112822",
     "status": "completed"
    },
    "tags": []
   },
   "outputs": [],
   "source": [
    "# global_x_transform_func = lambda x: normalize(x.to(torch.get_default_dtype()), \"unit_power\") # unit_power, unit_mag\n",
    "# global_x_transform_func = lambda x: normalize(x, \"unit_power\") # unit_power, unit_mag"
   ]
  },
  {
   "cell_type": "code",
   "execution_count": 12,
   "id": "acb78fd2",
   "metadata": {
    "execution": {
     "iopub.execute_input": "2022-03-21T03:08:18.214491Z",
     "iopub.status.busy": "2022-03-21T03:08:18.213894Z",
     "iopub.status.idle": "2022-03-21T03:08:18.234378Z",
     "shell.execute_reply": "2022-03-21T03:08:18.233603Z"
    },
    "papermill": {
     "duration": 0.053014,
     "end_time": "2022-03-21T03:08:18.234552",
     "exception": false,
     "start_time": "2022-03-21T03:08:18.181538",
     "status": "completed"
    },
    "tags": []
   },
   "outputs": [],
   "source": [
    "def add_dataset(\n",
    "    labels,\n",
    "    domains,\n",
    "    pickle_path,\n",
    "    x_transforms,\n",
    "    episode_transforms,\n",
    "    domain_prefix,\n",
    "    num_examples_per_domain_per_label,\n",
    "    source_or_target_dataset:str,\n",
    "    iterator_seed=p.seed,\n",
    "    dataset_seed=p.dataset_seed,\n",
    "    n_shot=p.n_shot,\n",
    "    n_way=p.n_way,\n",
    "    n_query=p.n_query,\n",
    "    train_val_test_k_factors=(p.train_k_factor,p.val_k_factor,p.test_k_factor),\n",
    "):\n",
    "   \n",
    "    if x_transforms == []: x_transform = None\n",
    "    else: x_transform = get_chained_transform(x_transforms)\n",
    "    \n",
    "    if episode_transforms == []: episode_transform = None\n",
    "    else: raise Exception(\"episode_transforms not implemented\")\n",
    "    \n",
    "    episode_transform = lambda tup, _prefix=domain_prefix: (_prefix + str(tup[0]), tup[1])\n",
    "\n",
    "\n",
    "    eaf = Episodic_Accessor_Factory(\n",
    "        labels=labels,\n",
    "        domains=domains,\n",
    "        num_examples_per_domain_per_label=num_examples_per_domain_per_label,\n",
    "        iterator_seed=iterator_seed,\n",
    "        dataset_seed=dataset_seed,\n",
    "        n_shot=n_shot,\n",
    "        n_way=n_way,\n",
    "        n_query=n_query,\n",
    "        train_val_test_k_factors=train_val_test_k_factors,\n",
    "        pickle_path=pickle_path,\n",
    "        x_transform_func=x_transform,\n",
    "    )\n",
    "\n",
    "    train, val, test = eaf.get_train(), eaf.get_val(), eaf.get_test()\n",
    "    train = Lazy_Iterable_Wrapper(train, episode_transform)\n",
    "    val = Lazy_Iterable_Wrapper(val, episode_transform)\n",
    "    test = Lazy_Iterable_Wrapper(test, episode_transform)\n",
    "\n",
    "    if source_or_target_dataset==\"source\":\n",
    "        train_original_source.append(train)\n",
    "        val_original_source.append(val)\n",
    "        test_original_source.append(test)\n",
    "\n",
    "        p.domains_source.extend(\n",
    "            [domain_prefix + str(u) for u in domains]\n",
    "        )\n",
    "    elif source_or_target_dataset==\"target\":\n",
    "        train_original_target.append(train)\n",
    "        val_original_target.append(val)\n",
    "        test_original_target.append(test)\n",
    "        p.domains_target.extend(\n",
    "            [domain_prefix + str(u) for u in domains]\n",
    "        )\n",
    "    else:\n",
    "        raise Exception(f\"invalid source_or_target_dataset: {source_or_target_dataset}\")\n",
    "    "
   ]
  },
  {
   "cell_type": "code",
   "execution_count": 13,
   "id": "fe266617",
   "metadata": {
    "execution": {
     "iopub.execute_input": "2022-03-21T03:08:18.286223Z",
     "iopub.status.busy": "2022-03-21T03:08:18.285852Z",
     "iopub.status.idle": "2022-03-21T03:08:22.235305Z",
     "shell.execute_reply": "2022-03-21T03:08:22.236015Z"
    },
    "papermill": {
     "duration": 3.973032,
     "end_time": "2022-03-21T03:08:22.236241",
     "exception": false,
     "start_time": "2022-03-21T03:08:18.263209",
     "status": "completed"
    },
    "tags": []
   },
   "outputs": [],
   "source": [
    "for ds in p.datasets:\n",
    "    add_dataset(**ds)"
   ]
  },
  {
   "cell_type": "code",
   "execution_count": 14,
   "id": "b90d65ac",
   "metadata": {
    "execution": {
     "iopub.execute_input": "2022-03-21T03:08:22.287752Z",
     "iopub.status.busy": "2022-03-21T03:08:22.287346Z",
     "iopub.status.idle": "2022-03-21T03:08:22.312400Z",
     "shell.execute_reply": "2022-03-21T03:08:22.311696Z"
    },
    "papermill": {
     "duration": 0.048649,
     "end_time": "2022-03-21T03:08:22.312563",
     "exception": false,
     "start_time": "2022-03-21T03:08:22.263914",
     "status": "completed"
    },
    "tags": []
   },
   "outputs": [],
   "source": [
    "# from steves_utils.CORES.utils import (\n",
    "#     ALL_NODES,\n",
    "#     ALL_NODES_MINIMUM_1000_EXAMPLES,\n",
    "#     ALL_DAYS\n",
    "# )\n",
    "\n",
    "# add_dataset(\n",
    "#     labels=ALL_NODES,\n",
    "#     domains = ALL_DAYS,\n",
    "#     num_examples_per_domain_per_label=100,\n",
    "#     pickle_path=os.path.join(get_datasets_base_path(), \"cores.stratified_ds.2022A.pkl\"),\n",
    "#     source_or_target_dataset=\"target\",\n",
    "#     x_transform_func=global_x_transform_func,\n",
    "#     domain_modifier=lambda u: f\"cores_{u}\"\n",
    "# )"
   ]
  },
  {
   "cell_type": "code",
   "execution_count": 15,
   "id": "76db484d",
   "metadata": {
    "execution": {
     "iopub.execute_input": "2022-03-21T03:08:22.367185Z",
     "iopub.status.busy": "2022-03-21T03:08:22.366810Z",
     "iopub.status.idle": "2022-03-21T03:08:22.389559Z",
     "shell.execute_reply": "2022-03-21T03:08:22.388854Z"
    },
    "papermill": {
     "duration": 0.04669,
     "end_time": "2022-03-21T03:08:22.389723",
     "exception": false,
     "start_time": "2022-03-21T03:08:22.343033",
     "status": "completed"
    },
    "tags": []
   },
   "outputs": [],
   "source": [
    "# from steves_utils.ORACLE.utils_v2 import (\n",
    "#     ALL_DISTANCES_FEET,\n",
    "#     ALL_RUNS,\n",
    "#     ALL_SERIAL_NUMBERS,\n",
    "# )\n",
    "\n",
    "\n",
    "# add_dataset(\n",
    "#     labels=ALL_SERIAL_NUMBERS,\n",
    "#     domains = list(set(ALL_DISTANCES_FEET) - {2,62}),\n",
    "#     num_examples_per_domain_per_label=100,\n",
    "#     pickle_path=os.path.join(get_datasets_base_path(), \"oracle.Run2_framed_2000Examples_stratified_ds.2022A.pkl\"),\n",
    "#     source_or_target_dataset=\"source\",\n",
    "#     x_transform_func=global_x_transform_func,\n",
    "#     domain_modifier=lambda u: f\"oracle1_{u}\"\n",
    "# )\n"
   ]
  },
  {
   "cell_type": "code",
   "execution_count": 16,
   "id": "97dea9d2",
   "metadata": {
    "execution": {
     "iopub.execute_input": "2022-03-21T03:08:22.439470Z",
     "iopub.status.busy": "2022-03-21T03:08:22.439100Z",
     "iopub.status.idle": "2022-03-21T03:08:22.455927Z",
     "shell.execute_reply": "2022-03-21T03:08:22.455226Z"
    },
    "papermill": {
     "duration": 0.039527,
     "end_time": "2022-03-21T03:08:22.456079",
     "exception": false,
     "start_time": "2022-03-21T03:08:22.416552",
     "status": "completed"
    },
    "tags": []
   },
   "outputs": [],
   "source": [
    "# from steves_utils.ORACLE.utils_v2 import (\n",
    "#     ALL_DISTANCES_FEET,\n",
    "#     ALL_RUNS,\n",
    "#     ALL_SERIAL_NUMBERS,\n",
    "# )\n",
    "\n",
    "\n",
    "# add_dataset(\n",
    "#     labels=ALL_SERIAL_NUMBERS,\n",
    "#     domains = list(set(ALL_DISTANCES_FEET) - {2,62,56}),\n",
    "#     num_examples_per_domain_per_label=100,\n",
    "#     pickle_path=os.path.join(get_datasets_base_path(), \"oracle.Run2_framed_2000Examples_stratified_ds.2022A.pkl\"),\n",
    "#     source_or_target_dataset=\"source\",\n",
    "#     x_transform_func=global_x_transform_func,\n",
    "#     domain_modifier=lambda u: f\"oracle2_{u}\"\n",
    "# )"
   ]
  },
  {
   "cell_type": "code",
   "execution_count": 17,
   "id": "6f289866",
   "metadata": {
    "execution": {
     "iopub.execute_input": "2022-03-21T03:08:22.507923Z",
     "iopub.status.busy": "2022-03-21T03:08:22.507543Z",
     "iopub.status.idle": "2022-03-21T03:08:22.527317Z",
     "shell.execute_reply": "2022-03-21T03:08:22.526627Z"
    },
    "papermill": {
     "duration": 0.04301,
     "end_time": "2022-03-21T03:08:22.527467",
     "exception": false,
     "start_time": "2022-03-21T03:08:22.484457",
     "status": "completed"
    },
    "tags": []
   },
   "outputs": [],
   "source": [
    "# add_dataset(\n",
    "#     labels=list(range(19)),\n",
    "#     domains = [0,1,2],\n",
    "#     num_examples_per_domain_per_label=100,\n",
    "#     pickle_path=os.path.join(get_datasets_base_path(), \"metehan.stratified_ds.2022A.pkl\"),\n",
    "#     source_or_target_dataset=\"target\",\n",
    "#     x_transform_func=global_x_transform_func,\n",
    "#     domain_modifier=lambda u: f\"met_{u}\"\n",
    "# )"
   ]
  },
  {
   "cell_type": "code",
   "execution_count": 18,
   "id": "86a863c3",
   "metadata": {
    "execution": {
     "iopub.execute_input": "2022-03-21T03:08:22.579445Z",
     "iopub.status.busy": "2022-03-21T03:08:22.579075Z",
     "iopub.status.idle": "2022-03-21T03:08:22.596063Z",
     "shell.execute_reply": "2022-03-21T03:08:22.595348Z"
    },
    "papermill": {
     "duration": 0.04004,
     "end_time": "2022-03-21T03:08:22.596214",
     "exception": false,
     "start_time": "2022-03-21T03:08:22.556174",
     "status": "completed"
    },
    "tags": []
   },
   "outputs": [],
   "source": [
    "# # from steves_utils.wisig.utils import (\n",
    "# #     ALL_NODES_MINIMUM_100_EXAMPLES,\n",
    "# #     ALL_NODES_MINIMUM_500_EXAMPLES,\n",
    "# #     ALL_NODES_MINIMUM_1000_EXAMPLES,\n",
    "# #     ALL_DAYS\n",
    "# # )\n",
    "\n",
    "# import steves_utils.wisig.utils as wisig\n",
    "\n",
    "\n",
    "# add_dataset(\n",
    "#     labels=wisig.ALL_NODES_MINIMUM_100_EXAMPLES,\n",
    "#     domains = wisig.ALL_DAYS,\n",
    "#     num_examples_per_domain_per_label=100,\n",
    "#     pickle_path=os.path.join(get_datasets_base_path(), \"wisig.node3-19.stratified_ds.2022A.pkl\"),\n",
    "#     source_or_target_dataset=\"target\",\n",
    "#     x_transform_func=global_x_transform_func,\n",
    "#     domain_modifier=lambda u: f\"wisig_{u}\"\n",
    "# )"
   ]
  },
  {
   "cell_type": "code",
   "execution_count": 19,
   "id": "fd5442bc",
   "metadata": {
    "execution": {
     "iopub.execute_input": "2022-03-21T03:08:22.653122Z",
     "iopub.status.busy": "2022-03-21T03:08:22.652525Z",
     "iopub.status.idle": "2022-03-21T03:08:22.678487Z",
     "shell.execute_reply": "2022-03-21T03:08:22.677743Z"
    },
    "papermill": {
     "duration": 0.054326,
     "end_time": "2022-03-21T03:08:22.678643",
     "exception": false,
     "start_time": "2022-03-21T03:08:22.624317",
     "status": "completed"
    },
    "tags": []
   },
   "outputs": [],
   "source": [
    "###################################\n",
    "# Build the dataset\n",
    "###################################\n",
    "train_original_source = Iterable_Aggregator(train_original_source, p.seed)\n",
    "val_original_source = Iterable_Aggregator(val_original_source, p.seed)\n",
    "test_original_source = Iterable_Aggregator(test_original_source, p.seed)\n",
    "\n",
    "\n",
    "train_original_target = Iterable_Aggregator(train_original_target, p.seed)\n",
    "val_original_target = Iterable_Aggregator(val_original_target, p.seed)\n",
    "test_original_target = Iterable_Aggregator(test_original_target, p.seed)\n",
    "\n",
    "# For CNN We only use X and Y. And we only train on the source.\n",
    "# Properly form the data using a transform lambda and Lazy_Iterable_Wrapper. Finally wrap them in a dataloader\n",
    "\n",
    "transform_lambda = lambda ex: ex[1] # Original is (<domain>, <episode>) so we strip down to episode only\n",
    "\n",
    "train_processed_source = Lazy_Iterable_Wrapper(train_original_source, transform_lambda)\n",
    "val_processed_source   = Lazy_Iterable_Wrapper(val_original_source, transform_lambda)\n",
    "test_processed_source  = Lazy_Iterable_Wrapper(test_original_source, transform_lambda)\n",
    "\n",
    "train_processed_target = Lazy_Iterable_Wrapper(train_original_target, transform_lambda)\n",
    "val_processed_target   = Lazy_Iterable_Wrapper(val_original_target, transform_lambda)\n",
    "test_processed_target  = Lazy_Iterable_Wrapper(test_original_target, transform_lambda)\n",
    "\n",
    "datasets = EasyDict({\n",
    "    \"source\": {\n",
    "        \"original\": {\"train\":train_original_source, \"val\":val_original_source, \"test\":test_original_source},\n",
    "        \"processed\": {\"train\":train_processed_source, \"val\":val_processed_source, \"test\":test_processed_source}\n",
    "    },\n",
    "    \"target\": {\n",
    "        \"original\": {\"train\":train_original_target, \"val\":val_original_target, \"test\":test_original_target},\n",
    "        \"processed\": {\"train\":train_processed_target, \"val\":val_processed_target, \"test\":test_processed_target}\n",
    "    },\n",
    "})"
   ]
  },
  {
   "cell_type": "code",
   "execution_count": 20,
   "id": "5b3c01fc",
   "metadata": {
    "execution": {
     "iopub.execute_input": "2022-03-21T03:08:22.729972Z",
     "iopub.status.busy": "2022-03-21T03:08:22.729412Z",
     "iopub.status.idle": "2022-03-21T03:08:37.267473Z",
     "shell.execute_reply": "2022-03-21T03:08:37.268184Z"
    },
    "papermill": {
     "duration": 14.563173,
     "end_time": "2022-03-21T03:08:37.268421",
     "exception": false,
     "start_time": "2022-03-21T03:08:22.705248",
     "status": "completed"
    },
    "tags": []
   },
   "outputs": [
    {
     "name": "stdout",
     "output_type": "stream",
     "text": [
      "{'CORES_5', 'CORES_1', 'CORES_4', 'CORES_2', 'CORES_3'}\n"
     ]
    },
    {
     "name": "stdout",
     "output_type": "stream",
     "text": [
      "{'ORACLE.run1_32', 'ORACLE.run1_20', 'ORACLE.run1_26', 'ORACLE.run1_44', 'ORACLE.run1_50', 'ORACLE.run1_14', 'ORACLE.run1_8', 'ORACLE.run1_38'}\n"
     ]
    },
    {
     "name": "stdout",
     "output_type": "stream",
     "text": [
      "tensor([[[-0.0121, -0.0224,  0.0159,  ..., -0.0352, -0.0222,  0.0113],\n",
      "         [ 0.0038, -0.0289, -0.0221,  ..., -0.0021, -0.0031, -0.0208]],\n",
      "\n",
      "        [[-0.0181, -0.0190,  0.0288,  ..., -0.0351, -0.0131,  0.0183],\n",
      "         [-0.0034, -0.0319, -0.0134,  ...,  0.0073, -0.0101, -0.0180]],\n",
      "\n",
      "        [[-0.0086, -0.0130,  0.0125,  ..., -0.0206, -0.0297,  0.0082],\n",
      "         [ 0.0052, -0.0263, -0.0293,  ..., -0.0250, -0.0107, -0.0186]],\n",
      "\n",
      "        ...,\n",
      "\n",
      "        [[ 0.0120,  0.0160,  0.0172,  ..., -0.0204, -0.0425, -0.0207],\n",
      "         [ 0.0090,  0.0168, -0.0022,  ..., -0.0309, -0.0055,  0.0151]],\n",
      "\n",
      "        [[ 0.0084,  0.0084, -0.0037,  ..., -0.0018, -0.0091, -0.0008],\n",
      "         [ 0.0032,  0.0011, -0.0067,  ..., -0.0024,  0.0017, -0.0132]],\n",
      "\n",
      "        [[ 0.0069,  0.0125,  0.0156,  ..., -0.0217, -0.0362, -0.0112],\n",
      "         [ 0.0204,  0.0175, -0.0085,  ..., -0.0360, -0.0096,  0.0061]]])\n"
     ]
    }
   ],
   "source": [
    "from steves_utils.transforms import get_average_magnitude, get_average_power\n",
    "\n",
    "print(set([u for u,_ in val_original_source]))\n",
    "print(set([u for u,_ in val_original_target]))\n",
    "\n",
    "s_x, s_y, q_x, q_y, _ = next(iter(train_processed_source))\n",
    "print(s_x)\n",
    "\n",
    "# for ds in [\n",
    "#     train_processed_source,\n",
    "#     val_processed_source,\n",
    "#     test_processed_source,\n",
    "#     train_processed_target,\n",
    "#     val_processed_target,\n",
    "#     test_processed_target\n",
    "# ]:\n",
    "#     for s_x, s_y, q_x, q_y, _ in ds:\n",
    "#         for X in (s_x, q_x):\n",
    "#             for x in X:\n",
    "#                 assert np.isclose(get_average_magnitude(x.numpy()), 1.0)\n",
    "#                 assert np.isclose(get_average_power(x.numpy()), 1.0)\n",
    "                "
   ]
  },
  {
   "cell_type": "code",
   "execution_count": 21,
   "id": "bbdacba1",
   "metadata": {
    "execution": {
     "iopub.execute_input": "2022-03-21T03:08:37.325245Z",
     "iopub.status.busy": "2022-03-21T03:08:37.324860Z",
     "iopub.status.idle": "2022-03-21T03:08:37.580976Z",
     "shell.execute_reply": "2022-03-21T03:08:37.581311Z"
    },
    "papermill": {
     "duration": 0.284,
     "end_time": "2022-03-21T03:08:37.581461",
     "exception": false,
     "start_time": "2022-03-21T03:08:37.297461",
     "status": "completed"
    },
    "tags": []
   },
   "outputs": [
    {
     "name": "stdout",
     "output_type": "stream",
     "text": [
      "(2, 256)\n"
     ]
    }
   ],
   "source": [
    "###################################\n",
    "# Build the model\n",
    "###################################\n",
    "# easfsl only wants a tuple for the shape\n",
    "model = Steves_Prototypical_Network(x_net, device=p.device, x_shape=tuple(p.x_shape))\n",
    "optimizer = Adam(params=model.parameters(), lr=p.lr)"
   ]
  },
  {
   "cell_type": "code",
   "execution_count": 22,
   "id": "22b39ac5",
   "metadata": {
    "execution": {
     "iopub.execute_input": "2022-03-21T03:08:37.631465Z",
     "iopub.status.busy": "2022-03-21T03:08:37.631083Z",
     "iopub.status.idle": "2022-03-21T03:39:15.039795Z",
     "shell.execute_reply": "2022-03-21T03:39:15.039433Z"
    },
    "papermill": {
     "duration": 1837.435276,
     "end_time": "2022-03-21T03:39:15.039882",
     "exception": false,
     "start_time": "2022-03-21T03:08:37.604606",
     "status": "completed"
    },
    "tags": []
   },
   "outputs": [
    {
     "name": "stdout",
     "output_type": "stream",
     "text": [
      "epoch: 1, [batch: 1 / 6320], examples_per_second: 34.5535, train_label_loss: 2.1864, \n"
     ]
    },
    {
     "name": "stdout",
     "output_type": "stream",
     "text": [
      "epoch: 1, [batch: 632 / 6320], examples_per_second: 3334.2284, train_label_loss: 0.0336, \n"
     ]
    },
    {
     "name": "stdout",
     "output_type": "stream",
     "text": [
      "epoch: 1, [batch: 1264 / 6320], examples_per_second: 2617.2621, train_label_loss: 0.0027, \n"
     ]
    },
    {
     "name": "stdout",
     "output_type": "stream",
     "text": [
      "epoch: 1, [batch: 1896 / 6320], examples_per_second: 2726.9147, train_label_loss: 0.0013, \n"
     ]
    },
    {
     "name": "stdout",
     "output_type": "stream",
     "text": [
      "epoch: 1, [batch: 2528 / 6320], examples_per_second: 2746.2035, train_label_loss: 0.0058, \n"
     ]
    },
    {
     "name": "stdout",
     "output_type": "stream",
     "text": [
      "epoch: 1, [batch: 3160 / 6320], examples_per_second: 2613.7780, train_label_loss: 0.0003, \n"
     ]
    },
    {
     "name": "stdout",
     "output_type": "stream",
     "text": [
      "epoch: 1, [batch: 3792 / 6320], examples_per_second: 2857.2010, train_label_loss: 0.0001, \n"
     ]
    },
    {
     "name": "stdout",
     "output_type": "stream",
     "text": [
      "epoch: 1, [batch: 4424 / 6320], examples_per_second: 2606.4096, train_label_loss: 0.0023, \n"
     ]
    },
    {
     "name": "stdout",
     "output_type": "stream",
     "text": [
      "epoch: 1, [batch: 5056 / 6320], examples_per_second: 2885.4114, train_label_loss: 0.0005, \n"
     ]
    },
    {
     "name": "stdout",
     "output_type": "stream",
     "text": [
      "epoch: 1, [batch: 5688 / 6320], examples_per_second: 3108.4285, train_label_loss: 0.0006, \n"
     ]
    },
    {
     "name": "stdout",
     "output_type": "stream",
     "text": [
      "=============================================================\n",
      "epoch: 1, source_val_acc_label: 0.9985, target_val_acc_label: 0.5029, source_val_label_loss: 0.0095, target_val_label_loss: 2.0461, \n",
      "=============================================================\n"
     ]
    },
    {
     "name": "stdout",
     "output_type": "stream",
     "text": [
      "New best\n"
     ]
    },
    {
     "name": "stdout",
     "output_type": "stream",
     "text": [
      "epoch: 2, [batch: 1 / 6305], examples_per_second: 3.4702, train_label_loss: 0.0146, \n"
     ]
    },
    {
     "name": "stdout",
     "output_type": "stream",
     "text": [
      "epoch: 2, [batch: 631 / 6305], examples_per_second: 3471.5654, train_label_loss: 0.0004, \n"
     ]
    },
    {
     "name": "stdout",
     "output_type": "stream",
     "text": [
      "epoch: 2, [batch: 1261 / 6305], examples_per_second: 3427.6603, train_label_loss: 0.0004, \n"
     ]
    },
    {
     "name": "stdout",
     "output_type": "stream",
     "text": [
      "epoch: 2, [batch: 1892 / 6305], examples_per_second: 3489.9200, train_label_loss: 0.0000, \n"
     ]
    },
    {
     "name": "stdout",
     "output_type": "stream",
     "text": [
      "epoch: 2, [batch: 2522 / 6305], examples_per_second: 3256.6058, train_label_loss: 0.0435, \n"
     ]
    },
    {
     "name": "stdout",
     "output_type": "stream",
     "text": [
      "epoch: 2, [batch: 3153 / 6305], examples_per_second: 2552.3376, train_label_loss: 0.0033, \n"
     ]
    },
    {
     "name": "stdout",
     "output_type": "stream",
     "text": [
      "epoch: 2, [batch: 3783 / 6305], examples_per_second: 2566.9660, train_label_loss: 0.0000, \n"
     ]
    },
    {
     "name": "stdout",
     "output_type": "stream",
     "text": [
      "epoch: 2, [batch: 4413 / 6305], examples_per_second: 2587.4406, train_label_loss: 0.0000, \n"
     ]
    },
    {
     "name": "stdout",
     "output_type": "stream",
     "text": [
      "epoch: 2, [batch: 5044 / 6305], examples_per_second: 2678.1816, train_label_loss: 0.0001, \n"
     ]
    },
    {
     "name": "stdout",
     "output_type": "stream",
     "text": [
      "epoch: 2, [batch: 5674 / 6305], examples_per_second: 2963.2711, train_label_loss: 0.0001, \n"
     ]
    },
    {
     "name": "stdout",
     "output_type": "stream",
     "text": [
      "=============================================================\n",
      "epoch: 2, source_val_acc_label: 0.9989, target_val_acc_label: 0.4826, source_val_label_loss: 0.0137, target_val_label_loss: 1.7564, \n",
      "=============================================================\n"
     ]
    },
    {
     "name": "stdout",
     "output_type": "stream",
     "text": [
      "epoch: 3, [batch: 1 / 6307], examples_per_second: 2.6992, train_label_loss: 0.0000, \n"
     ]
    },
    {
     "name": "stdout",
     "output_type": "stream",
     "text": [
      "epoch: 3, [batch: 631 / 6307], examples_per_second: 2958.2099, train_label_loss: 0.0000, \n"
     ]
    },
    {
     "name": "stdout",
     "output_type": "stream",
     "text": [
      "epoch: 3, [batch: 1262 / 6307], examples_per_second: 2688.2063, train_label_loss: 0.0004, \n"
     ]
    },
    {
     "name": "stdout",
     "output_type": "stream",
     "text": [
      "epoch: 3, [batch: 1892 / 6307], examples_per_second: 2823.2314, train_label_loss: 0.0015, \n"
     ]
    },
    {
     "name": "stdout",
     "output_type": "stream",
     "text": [
      "epoch: 3, [batch: 2523 / 6307], examples_per_second: 2869.4312, train_label_loss: 0.0001, \n"
     ]
    },
    {
     "name": "stdout",
     "output_type": "stream",
     "text": [
      "epoch: 3, [batch: 3154 / 6307], examples_per_second: 3306.8308, train_label_loss: 0.0001, \n"
     ]
    },
    {
     "name": "stdout",
     "output_type": "stream",
     "text": [
      "epoch: 3, [batch: 3784 / 6307], examples_per_second: 3412.8090, train_label_loss: 0.0023, \n"
     ]
    },
    {
     "name": "stdout",
     "output_type": "stream",
     "text": [
      "epoch: 3, [batch: 4415 / 6307], examples_per_second: 3399.7848, train_label_loss: 0.2019, \n"
     ]
    },
    {
     "name": "stdout",
     "output_type": "stream",
     "text": [
      "epoch: 3, [batch: 5045 / 6307], examples_per_second: 3848.2573, train_label_loss: 0.0000, \n"
     ]
    },
    {
     "name": "stdout",
     "output_type": "stream",
     "text": [
      "epoch: 3, [batch: 5676 / 6307], examples_per_second: 3874.5362, train_label_loss: 0.0000, \n"
     ]
    },
    {
     "name": "stdout",
     "output_type": "stream",
     "text": [
      "=============================================================\n",
      "epoch: 3, source_val_acc_label: 0.9989, target_val_acc_label: 0.4968, source_val_label_loss: 0.0098, target_val_label_loss: 1.7848, \n",
      "=============================================================\n"
     ]
    },
    {
     "name": "stdout",
     "output_type": "stream",
     "text": [
      "epoch: 4, [batch: 1 / 6315], examples_per_second: 4.3636, train_label_loss: 0.0000, \n"
     ]
    },
    {
     "name": "stdout",
     "output_type": "stream",
     "text": [
      "epoch: 4, [batch: 632 / 6315], examples_per_second: 4609.2307, train_label_loss: 0.0000, \n"
     ]
    },
    {
     "name": "stdout",
     "output_type": "stream",
     "text": [
      "epoch: 4, [batch: 1263 / 6315], examples_per_second: 3738.3469, train_label_loss: 0.0001, \n"
     ]
    },
    {
     "name": "stdout",
     "output_type": "stream",
     "text": [
      "epoch: 4, [batch: 1895 / 6315], examples_per_second: 2849.4860, train_label_loss: 0.0005, \n"
     ]
    },
    {
     "name": "stdout",
     "output_type": "stream",
     "text": [
      "epoch: 4, [batch: 2526 / 6315], examples_per_second: 2875.4317, train_label_loss: 0.0000, \n"
     ]
    },
    {
     "name": "stdout",
     "output_type": "stream",
     "text": [
      "epoch: 4, [batch: 3158 / 6315], examples_per_second: 2906.3844, train_label_loss: 0.0006, \n"
     ]
    },
    {
     "name": "stdout",
     "output_type": "stream",
     "text": [
      "epoch: 4, [batch: 3789 / 6315], examples_per_second: 3211.3073, train_label_loss: 0.0000, \n"
     ]
    },
    {
     "name": "stdout",
     "output_type": "stream",
     "text": [
      "epoch: 4, [batch: 4420 / 6315], examples_per_second: 3151.1064, train_label_loss: 0.0000, \n"
     ]
    },
    {
     "name": "stdout",
     "output_type": "stream",
     "text": [
      "epoch: 4, [batch: 5052 / 6315], examples_per_second: 2854.4959, train_label_loss: 0.0001, \n"
     ]
    },
    {
     "name": "stdout",
     "output_type": "stream",
     "text": [
      "epoch: 4, [batch: 5683 / 6315], examples_per_second: 2871.6751, train_label_loss: 0.0000, \n"
     ]
    },
    {
     "name": "stdout",
     "output_type": "stream",
     "text": [
      "=============================================================\n",
      "epoch: 4, source_val_acc_label: 0.9982, target_val_acc_label: 0.5203, source_val_label_loss: 0.0206, target_val_label_loss: 1.6730, \n",
      "=============================================================\n"
     ]
    },
    {
     "name": "stdout",
     "output_type": "stream",
     "text": [
      "New best\n"
     ]
    },
    {
     "name": "stdout",
     "output_type": "stream",
     "text": [
      "epoch: 5, [batch: 1 / 6313], examples_per_second: 3.1175, train_label_loss: 0.0033, \n"
     ]
    },
    {
     "name": "stdout",
     "output_type": "stream",
     "text": [
      "epoch: 5, [batch: 632 / 6313], examples_per_second: 3264.5863, train_label_loss: 0.0000, \n"
     ]
    },
    {
     "name": "stdout",
     "output_type": "stream",
     "text": [
      "epoch: 5, [batch: 1263 / 6313], examples_per_second: 3320.4592, train_label_loss: 0.0013, \n"
     ]
    },
    {
     "name": "stdout",
     "output_type": "stream",
     "text": [
      "epoch: 5, [batch: 1894 / 6313], examples_per_second: 3466.0339, train_label_loss: 0.0000, \n"
     ]
    },
    {
     "name": "stdout",
     "output_type": "stream",
     "text": [
      "epoch: 5, [batch: 2525 / 6313], examples_per_second: 3346.3136, train_label_loss: 0.0000, \n"
     ]
    },
    {
     "name": "stdout",
     "output_type": "stream",
     "text": [
      "epoch: 5, [batch: 3157 / 6313], examples_per_second: 3562.8781, train_label_loss: 0.0001, \n"
     ]
    },
    {
     "name": "stdout",
     "output_type": "stream",
     "text": [
      "epoch: 5, [batch: 3788 / 6313], examples_per_second: 3893.8843, train_label_loss: 0.0003, \n"
     ]
    },
    {
     "name": "stdout",
     "output_type": "stream",
     "text": [
      "epoch: 5, [batch: 4419 / 6313], examples_per_second: 3751.1173, train_label_loss: 0.0002, \n"
     ]
    },
    {
     "name": "stdout",
     "output_type": "stream",
     "text": [
      "epoch: 5, [batch: 5050 / 6313], examples_per_second: 2563.1233, train_label_loss: 0.0000, \n"
     ]
    },
    {
     "name": "stdout",
     "output_type": "stream",
     "text": [
      "epoch: 5, [batch: 5681 / 6313], examples_per_second: 2275.2688, train_label_loss: 0.0011, \n"
     ]
    },
    {
     "name": "stdout",
     "output_type": "stream",
     "text": [
      "=============================================================\n",
      "epoch: 5, source_val_acc_label: 0.9990, target_val_acc_label: 0.5792, source_val_label_loss: 0.0118, target_val_label_loss: 1.5116, \n",
      "=============================================================\n"
     ]
    },
    {
     "name": "stdout",
     "output_type": "stream",
     "text": [
      "New best\n"
     ]
    },
    {
     "name": "stdout",
     "output_type": "stream",
     "text": [
      "epoch: 6, [batch: 1 / 6317], examples_per_second: 2.2563, train_label_loss: 0.0000, \n"
     ]
    },
    {
     "name": "stdout",
     "output_type": "stream",
     "text": [
      "epoch: 6, [batch: 632 / 6317], examples_per_second: 2615.6747, train_label_loss: 0.0000, \n"
     ]
    },
    {
     "name": "stdout",
     "output_type": "stream",
     "text": [
      "epoch: 6, [batch: 1264 / 6317], examples_per_second: 2607.4709, train_label_loss: 0.0001, \n"
     ]
    },
    {
     "name": "stdout",
     "output_type": "stream",
     "text": [
      "epoch: 6, [batch: 1895 / 6317], examples_per_second: 2615.8992, train_label_loss: 0.0000, \n"
     ]
    },
    {
     "name": "stdout",
     "output_type": "stream",
     "text": [
      "epoch: 6, [batch: 2527 / 6317], examples_per_second: 2784.9287, train_label_loss: 0.0000, \n"
     ]
    },
    {
     "name": "stdout",
     "output_type": "stream",
     "text": [
      "epoch: 6, [batch: 3159 / 6317], examples_per_second: 2960.6103, train_label_loss: 0.0000, \n"
     ]
    },
    {
     "name": "stdout",
     "output_type": "stream",
     "text": [
      "epoch: 6, [batch: 3790 / 6317], examples_per_second: 2931.9621, train_label_loss: 0.0000, \n"
     ]
    },
    {
     "name": "stdout",
     "output_type": "stream",
     "text": [
      "epoch: 6, [batch: 4422 / 6317], examples_per_second: 2869.7893, train_label_loss: 0.0000, \n"
     ]
    },
    {
     "name": "stdout",
     "output_type": "stream",
     "text": [
      "epoch: 6, [batch: 5053 / 6317], examples_per_second: 2788.4650, train_label_loss: 0.0000, \n"
     ]
    },
    {
     "name": "stdout",
     "output_type": "stream",
     "text": [
      "epoch: 6, [batch: 5685 / 6317], examples_per_second: 3200.3430, train_label_loss: 0.0000, \n"
     ]
    },
    {
     "name": "stdout",
     "output_type": "stream",
     "text": [
      "=============================================================\n",
      "epoch: 6, source_val_acc_label: 0.9979, target_val_acc_label: 0.5211, source_val_label_loss: 0.0269, target_val_label_loss: 1.8063, \n",
      "=============================================================\n"
     ]
    },
    {
     "name": "stdout",
     "output_type": "stream",
     "text": [
      "epoch: 7, [batch: 1 / 6322], examples_per_second: 3.6473, train_label_loss: 0.0000, \n"
     ]
    },
    {
     "name": "stdout",
     "output_type": "stream",
     "text": [
      "epoch: 7, [batch: 633 / 6322], examples_per_second: 3880.3312, train_label_loss: 0.0000, \n"
     ]
    },
    {
     "name": "stdout",
     "output_type": "stream",
     "text": [
      "epoch: 7, [batch: 1265 / 6322], examples_per_second: 3968.9978, train_label_loss: 0.0000, \n"
     ]
    },
    {
     "name": "stdout",
     "output_type": "stream",
     "text": [
      "epoch: 7, [batch: 1897 / 6322], examples_per_second: 3945.6755, train_label_loss: 0.0000, \n"
     ]
    },
    {
     "name": "stdout",
     "output_type": "stream",
     "text": [
      "epoch: 7, [batch: 2529 / 6322], examples_per_second: 3995.1455, train_label_loss: 0.0000, \n"
     ]
    },
    {
     "name": "stdout",
     "output_type": "stream",
     "text": [
      "epoch: 7, [batch: 3161 / 6322], examples_per_second: 3917.7921, train_label_loss: 0.0000, \n"
     ]
    },
    {
     "name": "stdout",
     "output_type": "stream",
     "text": [
      "epoch: 7, [batch: 3793 / 6322], examples_per_second: 3168.4283, train_label_loss: 0.0000, \n"
     ]
    },
    {
     "name": "stdout",
     "output_type": "stream",
     "text": [
      "epoch: 7, [batch: 4425 / 6322], examples_per_second: 2973.6829, train_label_loss: 0.0000, \n"
     ]
    },
    {
     "name": "stdout",
     "output_type": "stream",
     "text": [
      "epoch: 7, [batch: 5057 / 6322], examples_per_second: 3144.8097, train_label_loss: 0.0000, \n"
     ]
    },
    {
     "name": "stdout",
     "output_type": "stream",
     "text": [
      "epoch: 7, [batch: 5689 / 6322], examples_per_second: 2928.7370, train_label_loss: 0.0000, \n"
     ]
    },
    {
     "name": "stdout",
     "output_type": "stream",
     "text": [
      "=============================================================\n",
      "epoch: 7, source_val_acc_label: 0.9990, target_val_acc_label: 0.5636, source_val_label_loss: 0.0166, target_val_label_loss: 1.6312, \n",
      "=============================================================\n"
     ]
    },
    {
     "name": "stdout",
     "output_type": "stream",
     "text": [
      "epoch: 8, [batch: 1 / 6297], examples_per_second: 2.8388, train_label_loss: 0.0000, \n"
     ]
    },
    {
     "name": "stdout",
     "output_type": "stream",
     "text": [
      "epoch: 8, [batch: 630 / 6297], examples_per_second: 2982.3859, train_label_loss: 0.0000, \n"
     ]
    },
    {
     "name": "stdout",
     "output_type": "stream",
     "text": [
      "epoch: 8, [batch: 1260 / 6297], examples_per_second: 3072.0353, train_label_loss: 0.0000, \n"
     ]
    },
    {
     "name": "stdout",
     "output_type": "stream",
     "text": [
      "epoch: 8, [batch: 1889 / 6297], examples_per_second: 3401.7926, train_label_loss: 0.0001, \n"
     ]
    },
    {
     "name": "stdout",
     "output_type": "stream",
     "text": [
      "epoch: 8, [batch: 2519 / 6297], examples_per_second: 3433.3390, train_label_loss: 0.0000, \n"
     ]
    },
    {
     "name": "stdout",
     "output_type": "stream",
     "text": [
      "epoch: 8, [batch: 3149 / 6297], examples_per_second: 3387.7547, train_label_loss: 0.0001, \n"
     ]
    },
    {
     "name": "stdout",
     "output_type": "stream",
     "text": [
      "epoch: 8, [batch: 3778 / 6297], examples_per_second: 3008.4871, train_label_loss: 0.0000, \n"
     ]
    },
    {
     "name": "stdout",
     "output_type": "stream",
     "text": [
      "epoch: 8, [batch: 4408 / 6297], examples_per_second: 2844.1736, train_label_loss: 0.0000, \n"
     ]
    },
    {
     "name": "stdout",
     "output_type": "stream",
     "text": [
      "epoch: 8, [batch: 5037 / 6297], examples_per_second: 2332.5945, train_label_loss: 0.0000, \n"
     ]
    },
    {
     "name": "stdout",
     "output_type": "stream",
     "text": [
      "epoch: 8, [batch: 5667 / 6297], examples_per_second: 2652.9762, train_label_loss: 0.0000, \n"
     ]
    },
    {
     "name": "stdout",
     "output_type": "stream",
     "text": [
      "=============================================================\n",
      "epoch: 8, source_val_acc_label: 0.9994, target_val_acc_label: 0.5115, source_val_label_loss: 0.0125, target_val_label_loss: 1.6232, \n",
      "=============================================================\n"
     ]
    },
    {
     "name": "stdout",
     "output_type": "stream",
     "text": [
      "epoch: 9, [batch: 1 / 6315], examples_per_second: 2.4598, train_label_loss: 0.0000, \n"
     ]
    },
    {
     "name": "stdout",
     "output_type": "stream",
     "text": [
      "epoch: 9, [batch: 632 / 6315], examples_per_second: 2576.4195, train_label_loss: 0.0514, \n"
     ]
    },
    {
     "name": "stdout",
     "output_type": "stream",
     "text": [
      "epoch: 9, [batch: 1263 / 6315], examples_per_second: 2728.6211, train_label_loss: 0.0000, \n"
     ]
    },
    {
     "name": "stdout",
     "output_type": "stream",
     "text": [
      "epoch: 9, [batch: 1895 / 6315], examples_per_second: 2959.2095, train_label_loss: 0.0000, \n"
     ]
    },
    {
     "name": "stdout",
     "output_type": "stream",
     "text": [
      "epoch: 9, [batch: 2526 / 6315], examples_per_second: 2966.6900, train_label_loss: 0.0000, \n"
     ]
    },
    {
     "name": "stdout",
     "output_type": "stream",
     "text": [
      "epoch: 9, [batch: 3158 / 6315], examples_per_second: 3427.5801, train_label_loss: 0.0000, \n"
     ]
    },
    {
     "name": "stdout",
     "output_type": "stream",
     "text": [
      "epoch: 9, [batch: 3789 / 6315], examples_per_second: 3271.0588, train_label_loss: 0.0000, \n"
     ]
    },
    {
     "name": "stdout",
     "output_type": "stream",
     "text": [
      "epoch: 9, [batch: 4420 / 6315], examples_per_second: 2900.2359, train_label_loss: 0.0000, \n"
     ]
    },
    {
     "name": "stdout",
     "output_type": "stream",
     "text": [
      "epoch: 9, [batch: 5052 / 6315], examples_per_second: 2591.3499, train_label_loss: 0.0000, \n"
     ]
    },
    {
     "name": "stdout",
     "output_type": "stream",
     "text": [
      "epoch: 9, [batch: 5683 / 6315], examples_per_second: 2947.4521, train_label_loss: 0.0000, \n"
     ]
    },
    {
     "name": "stdout",
     "output_type": "stream",
     "text": [
      "=============================================================\n",
      "epoch: 9, source_val_acc_label: 0.9994, target_val_acc_label: 0.5346, source_val_label_loss: 0.0130, target_val_label_loss: 1.5349, \n",
      "=============================================================\n"
     ]
    },
    {
     "name": "stdout",
     "output_type": "stream",
     "text": [
      "Patience (3) exhausted\n"
     ]
    }
   ],
   "source": [
    "###################################\n",
    "# train\n",
    "###################################\n",
    "jig = PTN_Train_Eval_Test_Jig(model, p.BEST_MODEL_PATH, p.device)\n",
    "\n",
    "jig.train(\n",
    "    train_iterable=datasets.source.processed.train,\n",
    "    source_val_iterable=datasets.source.processed.val,\n",
    "    target_val_iterable=datasets.target.processed.val,\n",
    "    num_epochs=p.n_epoch,\n",
    "    num_logs_per_epoch=p.NUM_LOGS_PER_EPOCH,\n",
    "    patience=p.patience,\n",
    "    optimizer=optimizer,\n",
    "    criteria_for_best=p.criteria_for_best,\n",
    ")"
   ]
  },
  {
   "cell_type": "code",
   "execution_count": 23,
   "id": "31e8fabf",
   "metadata": {
    "execution": {
     "iopub.execute_input": "2022-03-21T03:39:15.143482Z",
     "iopub.status.busy": "2022-03-21T03:39:15.142925Z",
     "iopub.status.idle": "2022-03-21T03:39:15.175857Z",
     "shell.execute_reply": "2022-03-21T03:39:15.174957Z"
    },
    "papermill": {
     "duration": 0.086972,
     "end_time": "2022-03-21T03:39:15.176033",
     "exception": false,
     "start_time": "2022-03-21T03:39:15.089061",
     "status": "completed"
    },
    "tags": []
   },
   "outputs": [],
   "source": [
    "total_experiment_time_secs = time.time() - start_time_secs"
   ]
  },
  {
   "cell_type": "code",
   "execution_count": 24,
   "id": "87b9595b",
   "metadata": {
    "execution": {
     "iopub.execute_input": "2022-03-21T03:39:15.291059Z",
     "iopub.status.busy": "2022-03-21T03:39:15.290658Z",
     "iopub.status.idle": "2022-03-21T03:42:58.035595Z",
     "shell.execute_reply": "2022-03-21T03:42:58.034895Z"
    },
    "papermill": {
     "duration": 222.802872,
     "end_time": "2022-03-21T03:42:58.035751",
     "exception": false,
     "start_time": "2022-03-21T03:39:15.232879",
     "status": "completed"
    },
    "tags": []
   },
   "outputs": [],
   "source": [
    "###################################\n",
    "# Evaluate the model\n",
    "###################################\n",
    "source_test_label_accuracy, source_test_label_loss = jig.test(datasets.source.processed.test)\n",
    "target_test_label_accuracy, target_test_label_loss = jig.test(datasets.target.processed.test)\n",
    "\n",
    "source_val_label_accuracy, source_val_label_loss = jig.test(datasets.source.processed.val)\n",
    "target_val_label_accuracy, target_val_label_loss = jig.test(datasets.target.processed.val)\n",
    "\n",
    "history = jig.get_history()\n",
    "\n",
    "total_epochs_trained = len(history[\"epoch_indices\"])\n",
    "\n",
    "val_dl = Iterable_Aggregator((datasets.source.original.val,datasets.target.original.val))\n",
    "\n",
    "confusion = ptn_confusion_by_domain_over_dataloader(model, p.device, val_dl)\n",
    "per_domain_accuracy = per_domain_accuracy_from_confusion(confusion)\n",
    "\n",
    "# Add a key to per_domain_accuracy for if it was a source domain\n",
    "for domain, accuracy in per_domain_accuracy.items():\n",
    "    per_domain_accuracy[domain] = {\n",
    "        \"accuracy\": accuracy,\n",
    "        \"source?\": domain in p.domains_source\n",
    "    }\n",
    "\n",
    "# Do an independent accuracy assesment JUST TO BE SURE!\n",
    "# _source_test_label_accuracy = independent_accuracy_assesment(model, datasets.source.processed.test, p.device)\n",
    "# _target_test_label_accuracy = independent_accuracy_assesment(model, datasets.target.processed.test, p.device)\n",
    "# _source_val_label_accuracy = independent_accuracy_assesment(model, datasets.source.processed.val, p.device)\n",
    "# _target_val_label_accuracy = independent_accuracy_assesment(model, datasets.target.processed.val, p.device)\n",
    "\n",
    "# assert(_source_test_label_accuracy == source_test_label_accuracy)\n",
    "# assert(_target_test_label_accuracy == target_test_label_accuracy)\n",
    "# assert(_source_val_label_accuracy == source_val_label_accuracy)\n",
    "# assert(_target_val_label_accuracy == target_val_label_accuracy)\n",
    "\n",
    "experiment = {\n",
    "    \"experiment_name\": p.experiment_name,\n",
    "    \"parameters\": dict(p),\n",
    "    \"results\": {\n",
    "        \"source_test_label_accuracy\": source_test_label_accuracy,\n",
    "        \"source_test_label_loss\": source_test_label_loss,\n",
    "        \"target_test_label_accuracy\": target_test_label_accuracy,\n",
    "        \"target_test_label_loss\": target_test_label_loss,\n",
    "        \"source_val_label_accuracy\": source_val_label_accuracy,\n",
    "        \"source_val_label_loss\": source_val_label_loss,\n",
    "        \"target_val_label_accuracy\": target_val_label_accuracy,\n",
    "        \"target_val_label_loss\": target_val_label_loss,\n",
    "        \"total_epochs_trained\": total_epochs_trained,\n",
    "        \"total_experiment_time_secs\": total_experiment_time_secs,\n",
    "        \"confusion\": confusion,\n",
    "        \"per_domain_accuracy\": per_domain_accuracy,\n",
    "    },\n",
    "    \"history\": history,\n",
    "    \"dataset_metrics\": get_dataset_metrics(datasets, \"ptn\"),\n",
    "}"
   ]
  },
  {
   "cell_type": "code",
   "execution_count": 25,
   "id": "54a21829",
   "metadata": {
    "execution": {
     "iopub.execute_input": "2022-03-21T03:42:58.144262Z",
     "iopub.status.busy": "2022-03-21T03:42:58.143563Z",
     "iopub.status.idle": "2022-03-21T03:42:58.375371Z",
     "shell.execute_reply": "2022-03-21T03:42:58.376091Z"
    },
    "papermill": {
     "duration": 0.285301,
     "end_time": "2022-03-21T03:42:58.376327",
     "exception": false,
     "start_time": "2022-03-21T03:42:58.091026",
     "status": "completed"
    },
    "tags": []
   },
   "outputs": [
    {
     "data": {
      "image/png": "[encoded data removed]",
      "text/plain": [
       "<Figure size 1080x504 with 1 Axes>"
      ]
     },
     "metadata": {
      "needs_background": "light"
     },
     "output_type": "display_data"
    }
   ],
   "source": [
    "ax = get_loss_curve(experiment)\n",
    "plt.show()"
   ]
  },
  {
   "cell_type": "code",
   "execution_count": 26,
   "id": "fd8a0f60",
   "metadata": {
    "execution": {
     "iopub.execute_input": "2022-03-21T03:42:58.485843Z",
     "iopub.status.busy": "2022-03-21T03:42:58.485427Z",
     "iopub.status.idle": "2022-03-21T03:42:58.869486Z",
     "shell.execute_reply": "2022-03-21T03:42:58.870017Z"
    },
    "papermill": {
     "duration": 0.437968,
     "end_time": "2022-03-21T03:42:58.870188",
     "exception": false,
     "start_time": "2022-03-21T03:42:58.432220",
     "status": "completed"
    },
    "tags": []
   },
   "outputs": [
    {
     "data": {
      "text/plain": [
       "<AxesSubplot:title={'center':'Results'}>"
      ]
     },
     "execution_count": 26,
     "metadata": {},
     "output_type": "execute_result"
    },
    {
     "data": {
      "image/png": "[encoded data removed]",
      "text/plain": [
       "<Figure size 1080x504 with 1 Axes>"
      ]
     },
     "metadata": {
      "needs_background": "light"
     },
     "output_type": "display_data"
    }
   ],
   "source": [
    "get_results_table(experiment)"
   ]
  },
  {
   "cell_type": "code",
   "execution_count": 27,
   "id": "cf8dc689",
   "metadata": {
    "execution": {
     "iopub.execute_input": "2022-03-21T03:42:58.981891Z",
     "iopub.status.busy": "2022-03-21T03:42:58.981523Z",
     "iopub.status.idle": "2022-03-21T03:42:59.237059Z",
     "shell.execute_reply": "2022-03-21T03:42:59.237591Z"
    },
    "papermill": {
     "duration": 0.311812,
     "end_time": "2022-03-21T03:42:59.237765",
     "exception": false,
     "start_time": "2022-03-21T03:42:58.925953",
     "status": "completed"
    },
    "tags": []
   },
   "outputs": [
    {
     "data": {
      "text/plain": [
       "<AxesSubplot:title={'center':'Per Domain Validation Accuracy'}, xlabel='domain'>"
      ]
     },
     "execution_count": 27,
     "metadata": {},
     "output_type": "execute_result"
    },
    {
     "data": {
      "image/png": "[encoded data removed]",
      "text/plain": [
       "<Figure size 1080x504 with 1 Axes>"
      ]
     },
     "metadata": {
      "needs_background": "light"
     },
     "output_type": "display_data"
    }
   ],
   "source": [
    "get_domain_accuracies(experiment)"
   ]
  },
  {
   "cell_type": "code",
   "execution_count": 28,
   "id": "a74ae082",
   "metadata": {
    "execution": {
     "iopub.execute_input": "2022-03-21T03:42:59.355260Z",
     "iopub.status.busy": "2022-03-21T03:42:59.354884Z",
     "iopub.status.idle": "2022-03-21T03:42:59.380226Z",
     "shell.execute_reply": "2022-03-21T03:42:59.379586Z"
    },
    "papermill": {
     "duration": 0.083886,
     "end_time": "2022-03-21T03:42:59.380360",
     "exception": false,
     "start_time": "2022-03-21T03:42:59.296474",
     "status": "completed"
    },
    "tags": []
   },
   "outputs": [
    {
     "name": "stdout",
     "output_type": "stream",
     "text": [
      "Source Test Label Accuracy: 0.9989478114478114 Target Test Label Accuracy: 0.5805013020833333\n",
      "Source Val Label Accuracy: 0.9989654680365296 Target Val Label Accuracy: 0.57919921875\n"
     ]
    }
   ],
   "source": [
    "print(\"Source Test Label Accuracy:\", experiment[\"results\"][\"source_test_label_accuracy\"], \"Target Test Label Accuracy:\", experiment[\"results\"][\"target_test_label_accuracy\"])\n",
    "print(\"Source Val Label Accuracy:\", experiment[\"results\"][\"source_val_label_accuracy\"], \"Target Val Label Accuracy:\", experiment[\"results\"][\"target_val_label_accuracy\"])"
   ]
  },
  {
   "cell_type": "code",
   "execution_count": 29,
   "id": "dacca602",
   "metadata": {
    "execution": {
     "iopub.execute_input": "2022-03-21T03:42:59.496787Z",
     "iopub.status.busy": "2022-03-21T03:42:59.496304Z",
     "iopub.status.idle": "2022-03-21T03:42:59.522389Z",
     "shell.execute_reply": "2022-03-21T03:42:59.522910Z"
    },
    "papermill": {
     "duration": 0.085159,
     "end_time": "2022-03-21T03:42:59.523075",
     "exception": false,
     "start_time": "2022-03-21T03:42:59.437916",
     "status": "completed"
    },
    "tags": [
     "experiment_json"
    ]
   },
   "outputs": [
    {
     "data": {
      "text/plain": [
       "'{\"experiment_name\": \"tl_1v2:cores-oracle.run1.framed\", \"parameters\": {\"experiment_name\": \"tl_1v2:cores-oracle.run1.framed\", \"device\": \"cuda\", \"lr\": 0.0001, \"n_shot\": 3, \"n_query\": 2, \"train_k_factor\": 3, \"val_k_factor\": 2, \"test_k_factor\": 2, \"torch_default_dtype\": \"torch.float32\", \"n_epoch\": 50, \"patience\": 3, \"criteria_for_best\": \"target_accuracy\", \"x_net\": [{\"class\": \"nnReshape\", \"kargs\": {\"shape\": [-1, 1, 2, 256]}}, {\"class\": \"Conv2d\", \"kargs\": {\"in_channels\": 1, \"out_channels\": 256, \"kernel_size\": [1, 7], \"bias\": false, \"padding\": [0, 3]}}, {\"class\": \"ReLU\", \"kargs\": {\"inplace\": true}}, {\"class\": \"BatchNorm2d\", \"kargs\": {\"num_features\": 256}}, {\"class\": \"Conv2d\", \"kargs\": {\"in_channels\": 256, \"out_channels\": 80, \"kernel_size\": [2, 7], \"bias\": true, \"padding\": [0, 3]}}, {\"class\": \"ReLU\", \"kargs\": {\"inplace\": true}}, {\"class\": \"BatchNorm2d\", \"kargs\": {\"num_features\": 80}}, {\"class\": \"Flatten\", \"kargs\": {}}, {\"class\": \"Linear\", \"kargs\": {\"in_features\": 20480, \"out_features\": 256}}, {\"class\": \"ReLU\", \"kargs\": {\"inplace\": true}}, {\"class\": \"BatchNorm1d\", \"kargs\": {\"num_features\": 256}}, {\"class\": \"Linear\", \"kargs\": {\"in_features\": 256, \"out_features\": 256}}], \"NUM_LOGS_PER_EPOCH\": 10, \"BEST_MODEL_PATH\": \"./best_model.pth\", \"n_way\": 16, \"datasets\": [{\"labels\": [\"1-10.\", \"1-11.\", \"1-15.\", \"1-16.\", \"1-17.\", \"1-18.\", \"1-19.\", \"10-4.\", \"10-7.\", \"11-1.\", \"11-14.\", \"11-17.\", \"11-20.\", \"11-7.\", \"13-20.\", \"13-8.\", \"14-10.\", \"14-11.\", \"14-14.\", \"14-7.\", \"15-1.\", \"15-20.\", \"16-1.\", \"16-16.\", \"17-10.\", \"17-11.\", \"17-2.\", \"19-1.\", \"19-16.\", \"19-19.\", \"19-20.\", \"19-3.\", \"2-10.\", \"2-11.\", \"2-17.\", \"2-18.\", \"2-20.\", \"2-3.\", \"2-4.\", \"2-5.\", \"2-6.\", \"2-7.\", \"2-8.\", \"3-13.\", \"3-18.\", \"3-3.\", \"4-1.\", \"4-10.\", \"4-11.\", \"4-19.\", \"5-5.\", \"6-15.\", \"7-10.\", \"7-14.\", \"8-18.\", \"8-20.\", \"8-3.\", \"8-8.\"], \"domains\": [1, 2, 3, 4, 5], \"num_examples_per_domain_per_label\": -1, \"pickle_path\": \"/root/csc500-main/datasets/cores.stratified_ds.2022A.pkl\", \"source_or_target_dataset\": \"source\", \"x_transforms\": [], \"episode_transforms\": [], \"domain_prefix\": \"CORES_\"}, {\"labels\": [\"3123D52\", \"3123D65\", \"3123D79\", \"3123D80\", \"3123D54\", \"3123D70\", \"3123D7B\", \"3123D89\", \"3123D58\", \"3123D76\", \"3123D7D\", \"3123EFE\", \"3123D64\", \"3123D78\", \"3123D7E\", \"3124E4A\"], \"domains\": [32, 38, 8, 44, 14, 50, 20, 26], \"num_examples_per_domain_per_label\": 2000, \"pickle_path\": \"/root/csc500-main/datasets/oracle.Run1_framed_2000Examples_stratified_ds.2022A.pkl\", \"source_or_target_dataset\": \"target\", \"x_transforms\": [], \"episode_transforms\": [], \"domain_prefix\": \"ORACLE.run1_\"}], \"dataset_seed\": 1337, \"seed\": 1337, \"x_shape\": [2, 256], \"domains_source\": [\"CORES_1\", \"CORES_2\", \"CORES_3\", \"CORES_4\", \"CORES_5\"], \"domains_target\": [\"ORACLE.run1_32\", \"ORACLE.run1_38\", \"ORACLE.run1_8\", \"ORACLE.run1_44\", \"ORACLE.run1_14\", \"ORACLE.run1_50\", \"ORACLE.run1_20\", \"ORACLE.run1_26\"]}, \"results\": {\"source_test_label_accuracy\": 0.9989478114478114, \"source_test_label_loss\": 0.012804347090423107, \"target_test_label_accuracy\": 0.5805013020833333, \"target_test_label_loss\": 1.5086113214492798, \"source_val_label_accuracy\": 0.9989654680365296, \"source_val_label_loss\": 0.01179687213152647, \"target_val_label_accuracy\": 0.57919921875, \"target_val_label_loss\": 1.5115878582000732, \"total_epochs_trained\": 9, \"total_experiment_time_secs\": 1857.155404806137, \"confusion\": {\"CORES_3\": {\"43\": {\"43\": 128}, \"9\": {\"9\": 150}, \"6\": {\"6\": 88}, \"3\": {\"3\": 144}, \"16\": {\"16\": 134}, \"51\": {\"51\": 128}, \"31\": {\"31\": 28}, \"46\": {\"46\": 134}, \"19\": {\"19\": 124}, \"8\": {\"8\": 152}, \"18\": {\"18\": 84}, \"37\": {\"37\": 28}, \"24\": {\"24\": 104}, \"10\": {\"10\": 64}, \"44\": {\"44\": 88}, \"14\": {\"14\": 40}, \"38\": {\"38\": 28}, \"53\": {\"53\": 138, \"18\": 1, \"17\": 1}, \"20\": {\"20\": 132}, \"32\": {\"32\": 28}, \"36\": {\"36\": 100}, \"33\": {\"33\": 28}, \"56\": {\"56\": 136}, \"23\": {\"23\": 130}, \"54\": {\"54\": 100}, \"21\": {\"21\": 125, \"3\": 1}, \"28\": {\"28\": 28}, \"26\": {\"26\": 24}, \"48\": {\"48\": 116}, \"52\": {\"52\": 118}, \"39\": {\"39\": 16}, \"22\": {\"22\": 140}, \"13\": {\"13\": 128}, \"2\": {\"2\": 32}, \"34\": {\"34\": 32}, \"27\": {\"27\": 132}, \"45\": {\"45\": 60}, \"35\": {\"35\": 28}, \"29\": {\"29\": 128}, \"25\": {\"25\": 144}, \"0\": {\"0\": 124}, \"41\": {\"41\": 28}, \"11\": {\"11\": 142}, \"5\": {\"5\": 108}, \"1\": {\"1\": 100}, \"57\": {\"57\": 116}, \"17\": {\"17\": 106, \"16\": 1, \"56\": 1}, \"7\": {\"7\": 36}, \"12\": {\"12\": 92}, \"47\": {\"47\": 92}, \"40\": {\"40\": 136}, \"15\": {\"15\": 142}, \"42\": {\"42\": 28}, \"55\": {\"55\": 150}, \"49\": {\"49\": 20}, \"30\": {\"30\": 119, \"52\": 1}, \"50\": {\"50\": 134}, \"4\": {\"4\": 136}}, \"CORES_4\": {\"35\": {\"35\": 40}, \"25\": {\"25\": 134}, \"24\": {\"24\": 56}, \"48\": {\"48\": 138}, \"51\": {\"51\": 144}, \"13\": {\"13\": 120}, \"14\": {\"14\": 15, \"46\": 1}, \"32\": {\"32\": 24}, \"30\": {\"30\": 43, \"21\": 1}, \"34\": {\"34\": 24}, \"9\": {\"9\": 136}, \"1\": {\"1\": 40}, \"0\": {\"0\": 80}, \"38\": {\"38\": 40}, \"22\": {\"22\": 128}, \"40\": {\"40\": 119, \"44\": 1}, \"6\": {\"6\": 112}, \"16\": {\"16\": 96}, \"11\": {\"11\": 104}, \"20\": {\"20\": 122}, \"17\": {\"17\": 80}, \"26\": {\"26\": 24}, \"54\": {\"54\": 108}, \"55\": {\"55\": 154}, \"50\": {\"50\": 128, \"13\": 1, \"3\": 3}, \"19\": {\"19\": 142}, \"44\": {\"44\": 122}, \"47\": {\"47\": 120}, \"33\": {\"33\": 36}, \"5\": {\"5\": 108}, \"18\": {\"18\": 108}, \"21\": {\"21\": 124}, \"41\": {\"41\": 36}, \"23\": {\"23\": 128}, \"39\": {\"39\": 20}, \"37\": {\"37\": 24}, \"8\": {\"8\": 144}, \"49\": {\"49\": 20}, \"53\": {\"53\": 140}, \"31\": {\"31\": 28}, \"28\": {\"28\": 32}, \"3\": {\"3\": 124}, \"27\": {\"27\": 138}, \"46\": {\"46\": 127, \"22\": 1}, \"12\": {\"12\": 92}, \"7\": {\"7\": 24}, \"4\": {\"4\": 130, \"9\": 2}, \"42\": {\"42\": 32}, \"43\": {\"43\": 130}, \"29\": {\"29\": 120}, \"57\": {\"57\": 100}, \"52\": {\"52\": 104}, \"45\": {\"45\": 96}, \"36\": {\"36\": 92}, \"10\": {\"10\": 126}, \"15\": {\"15\": 134}, \"56\": {\"56\": 124}, \"2\": {\"2\": 36}}, \"CORES_5\": {\"47\": {\"47\": 100}, \"53\": {\"53\": 150}, \"29\": {\"29\": 126}, \"52\": {\"52\": 130}, \"55\": {\"55\": 144}, \"17\": {\"17\": 116}, \"42\": {\"42\": 40}, \"33\": {\"33\": 32}, \"11\": {\"11\": 148}, \"19\": {\"19\": 118}, \"1\": {\"1\": 144}, \"44\": {\"44\": 142}, \"49\": {\"49\": 36}, \"4\": {\"4\": 100}, \"6\": {\"6\": 116}, \"39\": {\"39\": 20}, \"50\": {\"50\": 148}, \"56\": {\"56\": 130}, \"25\": {\"25\": 144}, \"28\": {\"28\": 32}, \"35\": {\"35\": 36}, \"24\": {\"24\": 80}, \"21\": {\"21\": 132}, \"45\": {\"45\": 124}, \"16\": {\"16\": 143, \"11\": 1}, \"37\": {\"37\": 24}, \"57\": {\"57\": 132}, \"34\": {\"34\": 36}, \"38\": {\"38\": 32}, \"48\": {\"48\": 130}, \"26\": {\"26\": 24}, \"9\": {\"9\": 152}, \"18\": {\"18\": 64}, \"3\": {\"3\": 100}, \"23\": {\"23\": 124}, \"15\": {\"15\": 153, \"11\": 1}, \"10\": {\"10\": 68}, \"46\": {\"46\": 148}, \"22\": {\"22\": 27, \"56\": 1}, \"54\": {\"54\": 112}, \"27\": {\"27\": 160}, \"41\": {\"41\": 28}, \"31\": {\"31\": 36}, \"0\": {\"0\": 124}, \"7\": {\"7\": 32}, \"2\": {\"2\": 28}, \"14\": {\"14\": 44}, \"40\": {\"40\": 123, \"44\": 1}, \"5\": {\"5\": 128}, \"12\": {\"12\": 96}, \"43\": {\"43\": 142}, \"13\": {\"13\": 148}, \"36\": {\"36\": 92}, \"8\": {\"8\": 150}, \"32\": {\"32\": 32}, \"30\": {\"30\": 128}, \"51\": {\"51\": 138}, \"20\": {\"20\": 138}}, \"CORES_1\": {\"46\": {\"46\": 140}, \"16\": {\"16\": 134}, \"26\": {\"26\": 24}, \"10\": {\"10\": 96}, \"9\": {\"9\": 155, \"53\": 1}, \"28\": {\"28\": 28}, \"51\": {\"51\": 156}, \"1\": {\"1\": 100}, \"55\": {\"55\": 148}, \"27\": {\"27\": 124}, \"22\": {\"22\": 124}, \"52\": {\"52\": 126}, \"3\": {\"3\": 140}, \"33\": {\"33\": 32}, \"47\": {\"47\": 120}, \"42\": {\"42\": 40}, \"12\": {\"12\": 116}, \"23\": {\"23\": 132}, \"49\": {\"49\": 32}, \"7\": {\"7\": 28}, \"4\": {\"4\": 132}, \"50\": {\"50\": 134}, \"19\": {\"19\": 154}, \"11\": {\"11\": 140}, \"31\": {\"31\": 28}, \"41\": {\"41\": 24}, \"56\": {\"56\": 138}, \"0\": {\"0\": 148}, \"57\": {\"57\": 128}, \"53\": {\"53\": 140}, \"43\": {\"43\": 144}, \"37\": {\"37\": 32}, \"2\": {\"2\": 36}, \"6\": {\"6\": 96}, \"13\": {\"13\": 150}, \"18\": {\"18\": 72}, \"36\": {\"36\": 64}, \"29\": {\"29\": 140}, \"39\": {\"39\": 28}, \"17\": {\"17\": 64}, \"21\": {\"21\": 124}, \"25\": {\"25\": 132}, \"45\": {\"45\": 142}, \"38\": {\"38\": 21, \"36\": 2, \"55\": 1}, \"30\": {\"30\": 120}, \"24\": {\"24\": 108}, \"20\": {\"20\": 138, \"12\": 2}, \"8\": {\"8\": 140}, \"35\": {\"35\": 36}, \"54\": {\"54\": 104}, \"5\": {\"5\": 148}, \"48\": {\"48\": 144}, \"15\": {\"15\": 142}, \"34\": {\"34\": 24}, \"14\": {\"14\": 24}, \"32\": {\"32\": 32}, \"40\": {\"40\": 148}, \"44\": {\"44\": 136}}, \"CORES_2\": {\"36\": {\"36\": 116}, \"5\": {\"5\": 120}, \"45\": {\"45\": 128}, \"49\": {\"49\": 24}, \"50\": {\"50\": 136}, \"4\": {\"4\": 138}, \"43\": {\"43\": 148}, \"41\": {\"41\": 19, \"52\": 1}, \"37\": {\"37\": 36}, \"12\": {\"12\": 92}, \"33\": {\"33\": 28}, \"7\": {\"7\": 36}, \"56\": {\"56\": 140}, \"14\": {\"14\": 24}, \"52\": {\"52\": 124}, \"44\": {\"44\": 96}, \"48\": {\"48\": 144}, \"20\": {\"20\": 128}, \"55\": {\"55\": 144}, \"32\": {\"32\": 28}, \"40\": {\"40\": 136}, \"54\": {\"54\": 108}, \"17\": {\"17\": 104}, \"38\": {\"38\": 20}, \"24\": {\"24\": 96}, \"1\": {\"1\": 112}, \"6\": {\"6\": 124}, \"34\": {\"34\": 28}, \"11\": {\"11\": 136}, \"9\": {\"9\": 150}, \"8\": {\"8\": 152}, \"22\": {\"22\": 136}, \"26\": {\"26\": 24}, \"23\": {\"23\": 146}, \"10\": {\"10\": 112}, \"18\": {\"18\": 48}, \"13\": {\"13\": 115, \"10\": 1}, \"30\": {\"30\": 128}, \"42\": {\"42\": 36}, \"31\": {\"31\": 28}, \"46\": {\"46\": 128}, \"57\": {\"57\": 142}, \"47\": {\"47\": 138}, \"35\": {\"35\": 32}, \"15\": {\"15\": 132}, \"25\": {\"25\": 136}, \"19\": {\"19\": 136}, \"51\": {\"51\": 128}, \"53\": {\"53\": 134}, \"21\": {\"21\": 120}, \"39\": {\"39\": 28}, \"2\": {\"2\": 32}, \"16\": {\"16\": 150}, \"0\": {\"0\": 48}, \"3\": {\"3\": 92}, \"27\": {\"27\": 142}, \"28\": {\"28\": 27, \"18\": 1}, \"29\": {\"29\": 128}}, \"ORACLE.run1_14\": {\"15\": {\"15\": 240}, \"3\": {\"6\": 52, \"3\": 119, \"2\": 6, \"13\": 33, \"0\": 20, \"14\": 6, \"7\": 4}, \"6\": {\"3\": 54, \"6\": 102, \"13\": 53, \"0\": 5, \"2\": 6, \"14\": 17, \"7\": 2, \"5\": 1}, \"1\": {\"1\": 230, \"4\": 1, \"10\": 3, \"9\": 6}, \"8\": {\"8\": 159, \"5\": 34, \"12\": 4, \"0\": 26, \"14\": 3, \"7\": 3, \"2\": 3, \"4\": 2, \"13\": 6}, \"10\": {\"10\": 186, \"4\": 28, \"9\": 23, \"1\": 3}, \"9\": {\"9\": 207, \"10\": 24, \"1\": 9}, \"13\": {\"13\": 36, \"4\": 24, \"14\": 20, \"2\": 21, \"6\": 55, \"15\": 21, \"0\": 17, \"5\": 25, \"3\": 18, \"12\": 2, \"7\": 1}, \"12\": {\"12\": 227, \"0\": 6, \"8\": 6, \"5\": 1}, \"5\": {\"5\": 119, \"2\": 41, \"8\": 38, \"7\": 8, \"0\": 10, \"4\": 2, \"14\": 15, \"13\": 7}, \"0\": {\"0\": 86, \"13\": 15, \"2\": 19, \"14\": 24, \"5\": 10, \"8\": 23, \"12\": 12, \"3\": 33, \"6\": 14, \"10\": 2, \"4\": 2}, \"2\": {\"4\": 16, \"5\": 55, \"7\": 6, \"3\": 18, \"2\": 57, \"13\": 22, \"6\": 16, \"0\": 15, \"14\": 26, \"8\": 8, \"12\": 1}, \"11\": {\"11\": 238, \"9\": 2}, \"14\": {\"13\": 36, \"0\": 33, \"14\": 107, \"6\": 17, \"2\": 28, \"3\": 6, \"5\": 7, \"7\": 4, \"8\": 2}, \"7\": {\"2\": 8, \"7\": 196, \"5\": 12, \"13\": 2, \"8\": 11, \"3\": 2, \"14\": 6, \"6\": 2, \"0\": 1}, \"4\": {\"4\": 205, \"10\": 16, \"5\": 9, \"2\": 8, \"13\": 2}}, \"ORACLE.run1_20\": {\"3\": {\"9\": 29, \"5\": 50, \"14\": 35, \"3\": 53, \"1\": 35, \"8\": 30, \"0\": 4, \"2\": 1, \"7\": 2, \"6\": 1}, \"15\": {\"15\": 61, \"2\": 33, \"12\": 50, \"7\": 24, \"13\": 24, \"9\": 24, \"4\": 5, \"1\": 16, \"5\": 1, \"6\": 2}, \"8\": {\"3\": 53, \"8\": 77, \"5\": 24, \"14\": 68, \"7\": 4, \"0\": 7, \"9\": 5, \"1\": 2}, \"4\": {\"2\": 22, \"4\": 81, \"13\": 31, \"7\": 18, \"6\": 16, \"10\": 6, \"12\": 52, \"15\": 13, \"9\": 1}, \"14\": {\"14\": 106, \"8\": 62, \"0\": 1, \"3\": 30, \"5\": 20, \"7\": 4, \"9\": 12, \"6\": 4, \"1\": 1}, \"0\": {\"0\": 174, \"11\": 37, \"8\": 15, \"5\": 5, \"3\": 7, \"14\": 1, \"1\": 1}, \"7\": {\"6\": 39, \"2\": 33, \"7\": 48, \"9\": 27, \"12\": 22, \"15\": 29, \"1\": 17, \"13\": 3, \"14\": 7, \"3\": 8, \"5\": 4, \"4\": 3}, \"6\": {\"2\": 30, \"6\": 104, \"13\": 6, \"14\": 10, \"12\": 8, \"4\": 20, \"9\": 5, \"7\": 47, \"15\": 5, \"5\": 1, \"1\": 4}, \"10\": {\"10\": 174, \"4\": 34, \"13\": 26, \"12\": 4, \"2\": 2}, \"5\": {\"3\": 47, \"1\": 48, \"5\": 71, \"8\": 16, \"9\": 32, \"7\": 5, \"14\": 15, \"15\": 5, \"6\": 1}, \"2\": {\"2\": 48, \"15\": 35, \"7\": 36, \"13\": 39, \"4\": 22, \"6\": 18, \"12\": 36, \"9\": 4, \"1\": 2}, \"12\": {\"4\": 14, \"15\": 35, \"13\": 45, \"12\": 47, \"2\": 56, \"7\": 24, \"6\": 13, \"1\": 2, \"9\": 4}, \"9\": {\"7\": 30, \"2\": 11, \"9\": 59, \"15\": 22, \"5\": 28, \"14\": 16, \"1\": 40, \"3\": 21, \"6\": 2, \"12\": 7, \"8\": 3, \"4\": 1}, \"1\": {\"9\": 49, \"5\": 42, \"15\": 28, \"1\": 55, \"3\": 28, \"7\": 14, \"2\": 8, \"12\": 8, \"6\": 1, \"14\": 3, \"8\": 3, \"4\": 1}, \"11\": {\"11\": 213, \"0\": 27}, \"13\": {\"2\": 21, \"4\": 34, \"15\": 18, \"6\": 6, \"12\": 34, \"13\": 108, \"7\": 9, \"10\": 8, \"9\": 2}}, \"ORACLE.run1_38\": {\"5\": {\"5\": 74, \"12\": 15, \"8\": 69, \"9\": 38, \"2\": 5, \"15\": 29, \"7\": 8, \"14\": 2}, \"8\": {\"7\": 15, \"5\": 51, \"8\": 70, \"15\": 30, \"12\": 23, \"9\": 30, \"2\": 14, \"14\": 7}, \"11\": {\"11\": 240}, \"1\": {\"6\": 65, \"1\": 175}, \"10\": {\"10\": 173, \"0\": 41, \"3\": 4, \"13\": 14, \"4\": 8}, \"15\": {\"15\": 197, \"5\": 16, \"1\": 11, \"12\": 5, \"8\": 9, \"6\": 2}, \"3\": {\"3\": 240}, \"7\": {\"2\": 34, \"7\": 165, \"14\": 28, \"8\": 5, \"5\": 3, \"9\": 4, \"0\": 1}, \"4\": {\"10\": 6, \"4\": 218, \"14\": 2, \"0\": 10, \"13\": 4}, \"14\": {\"2\": 39, \"14\": 159, \"7\": 25, \"4\": 5, \"13\": 6, \"0\": 3, \"8\": 2, \"9\": 1}, \"9\": {\"9\": 173, \"5\": 38, \"8\": 21, \"7\": 8}, \"12\": {\"12\": 212, \"8\": 14, \"5\": 14}, \"6\": {\"6\": 166, \"1\": 74}, \"2\": {\"2\": 159, \"7\": 26, \"9\": 7, \"14\": 39, \"8\": 8, \"5\": 1}, \"0\": {\"13\": 65, \"14\": 7, \"0\": 70, \"7\": 19, \"10\": 68, \"9\": 1, \"4\": 8, \"2\": 2}, \"13\": {\"13\": 159, \"0\": 54, \"2\": 4, \"14\": 8, \"10\": 12, \"7\": 1, \"4\": 2}}, \"ORACLE.run1_8\": {\"9\": {\"9\": 240}, \"10\": {\"13\": 52, \"10\": 55, \"6\": 23, \"11\": 8, \"7\": 35, \"1\": 24, \"5\": 41, \"4\": 2}, \"13\": {\"5\": 32, \"13\": 102, \"10\": 53, \"7\": 41, \"6\": 3, \"1\": 9}, \"0\": {\"0\": 240}, \"1\": {\"1\": 89, \"11\": 48, \"6\": 30, \"13\": 11, \"5\": 21, \"10\": 16, \"7\": 15, \"4\": 5, \"8\": 5}, \"15\": {\"15\": 143, \"2\": 31, \"12\": 66}, \"5\": {\"5\": 87, \"10\": 50, \"13\": 46, \"1\": 24, \"8\": 3, \"7\": 10, \"11\": 10, \"6\": 8, \"4\": 2}, \"3\": {\"3\": 235, \"2\": 5}, \"6\": {\"6\": 98, \"1\": 46, \"11\": 21, \"7\": 46, \"10\": 11, \"8\": 1, \"5\": 6, \"4\": 5, \"13\": 6}, \"11\": {\"10\": 11, \"1\": 59, \"11\": 58, \"4\": 36, \"8\": 22, \"6\": 30, \"7\": 7, \"14\": 14, \"13\": 1, \"5\": 2}, \"8\": {\"8\": 113, \"11\": 30, \"14\": 17, \"4\": 58, \"6\": 16, \"1\": 5, \"7\": 1}, \"4\": {\"14\": 21, \"11\": 40, \"4\": 118, \"8\": 49, \"6\": 8, \"1\": 4}, \"12\": {\"12\": 152, \"15\": 75, \"2\": 13}, \"14\": {\"14\": 186, \"8\": 16, \"11\": 4, \"4\": 34}, \"2\": {\"3\": 48, \"15\": 54, \"2\": 128, \"12\": 10}, \"7\": {\"6\": 48, \"7\": 98, \"11\": 3, \"1\": 16, \"10\": 33, \"13\": 26, \"5\": 16}}, \"ORACLE.run1_50\": {\"7\": {\"7\": 144, \"4\": 80, \"5\": 16}, \"3\": {\"3\": 202, \"5\": 13, \"6\": 18, \"15\": 2, \"11\": 2, \"13\": 3}, \"8\": {\"8\": 212, \"10\": 13, \"1\": 14, \"13\": 1}, \"2\": {\"2\": 161, \"14\": 37, \"0\": 42}, \"14\": {\"14\": 164, \"2\": 62, \"0\": 14}, \"4\": {\"7\": 90, \"5\": 22, \"4\": 127, \"6\": 1}, \"6\": {\"9\": 32, \"15\": 60, \"5\": 35, \"6\": 95, \"11\": 6, \"12\": 4, \"3\": 8}, \"15\": {\"15\": 91, \"9\": 44, \"3\": 1, \"6\": 69, \"5\": 30, \"11\": 3, \"12\": 2}, \"10\": {\"8\": 10, \"10\": 209, \"0\": 20, \"1\": 1}, \"11\": {\"11\": 167, \"15\": 11, \"12\": 40, \"6\": 9, \"9\": 10, \"13\": 3}, \"13\": {\"1\": 19, \"13\": 214, \"11\": 7}, \"9\": {\"15\": 41, \"9\": 115, \"12\": 39, \"11\": 14, \"6\": 25, \"5\": 6}, \"0\": {\"0\": 170, \"10\": 28, \"2\": 35, \"14\": 7}, \"1\": {\"1\": 163, \"13\": 36, \"11\": 2, \"8\": 17, \"10\": 22}, \"12\": {\"12\": 152, \"11\": 43, \"9\": 40, \"15\": 3, \"6\": 2}, \"5\": {\"4\": 28, \"6\": 25, \"7\": 41, \"5\": 82, \"15\": 22, \"3\": 10, \"13\": 11, \"11\": 15, \"9\": 6}}, \"ORACLE.run1_32\": {\"8\": {\"2\": 15, \"14\": 29, \"0\": 68, \"8\": 88, \"7\": 16, \"5\": 14, \"15\": 7, \"4\": 3}, \"14\": {\"8\": 37, \"14\": 97, \"0\": 33, \"2\": 27, \"7\": 31, \"5\": 9, \"4\": 4, \"15\": 2}, \"2\": {\"2\": 164, \"4\": 67, \"14\": 3, \"8\": 5, \"3\": 1}, \"0\": {\"7\": 57, \"0\": 90, \"14\": 38, \"5\": 17, \"8\": 36, \"15\": 2}, \"1\": {\"1\": 240}, \"10\": {\"10\": 235, \"12\": 4, \"6\": 1}, \"11\": {\"11\": 234, \"13\": 4, \"9\": 1, \"3\": 1}, \"5\": {\"7\": 58, \"5\": 96, \"14\": 19, \"8\": 15, \"0\": 26, \"15\": 26}, \"15\": {\"15\": 190, \"7\": 3, \"5\": 26, \"0\": 13, \"8\": 7, \"14\": 1}, \"3\": {\"3\": 152, \"13\": 73, \"4\": 14, \"2\": 1}, \"12\": {\"12\": 225, \"9\": 9, \"10\": 6}, \"7\": {\"5\": 53, \"0\": 44, \"7\": 98, \"14\": 28, \"8\": 14, \"15\": 3}, \"13\": {\"3\": 68, \"4\": 31, \"13\": 126, \"9\": 3, \"2\": 6, \"11\": 6}, \"6\": {\"6\": 239, \"10\": 1}, \"4\": {\"2\": 59, \"4\": 133, \"3\": 27, \"13\": 21}, \"9\": {\"12\": 43, \"9\": 159, \"11\": 4, \"13\": 24, \"1\": 1, \"4\": 5, \"2\": 4}}, \"ORACLE.run1_26\": {\"4\": {\"4\": 233, \"13\": 3, \"3\": 4}, \"12\": {\"12\": 182, \"13\": 7, \"8\": 23, \"9\": 20, \"7\": 8}, \"10\": {\"0\": 42, \"1\": 3, \"10\": 74, \"14\": 68, \"15\": 36, \"6\": 14, \"5\": 3}, \"0\": {\"0\": 113, \"10\": 42, \"14\": 42, \"8\": 13, \"2\": 21, \"15\": 4, \"1\": 2, \"9\": 1, \"7\": 1, \"5\": 1}, \"13\": {\"8\": 4, \"4\": 24, \"13\": 115, \"9\": 29, \"3\": 46, \"2\": 7, \"7\": 3, \"12\": 12}, \"9\": {\"8\": 24, \"12\": 15, \"9\": 53, \"13\": 35, \"7\": 45, \"2\": 40, \"3\": 24, \"0\": 4}, \"3\": {\"13\": 42, \"3\": 127, \"9\": 22, \"7\": 34, \"12\": 4, \"8\": 5, \"2\": 6}, \"2\": {\"0\": 30, \"3\": 5, \"2\": 84, \"9\": 25, \"8\": 46, \"7\": 41, \"14\": 3, \"12\": 2, \"13\": 2, \"10\": 2}, \"5\": {\"5\": 110, \"1\": 24, \"15\": 59, \"6\": 41, \"14\": 4, \"10\": 2}, \"14\": {\"1\": 20, \"10\": 80, \"0\": 33, \"15\": 22, \"14\": 77, \"6\": 8}, \"8\": {\"7\": 54, \"8\": 91, \"0\": 5, \"9\": 31, \"2\": 42, \"12\": 16, \"13\": 1}, \"7\": {\"8\": 54, \"7\": 82, \"9\": 39, \"3\": 18, \"2\": 34, \"13\": 11, \"12\": 2}, \"6\": {\"14\": 11, \"6\": 74, \"5\": 38, \"1\": 55, \"15\": 47, \"10\": 14, \"11\": 1}, \"11\": {\"11\": 196, \"6\": 10, \"5\": 18, \"1\": 10, \"0\": 1, \"15\": 5}, \"15\": {\"10\": 29, \"6\": 43, \"5\": 40, \"15\": 68, \"14\": 23, \"0\": 7, \"1\": 30}, \"1\": {\"1\": 119, \"14\": 13, \"15\": 24, \"6\": 43, \"5\": 22, \"10\": 15, \"11\": 1, \"0\": 3}}, \"ORACLE.run1_44\": {\"12\": {\"12\": 141, \"3\": 99}, \"7\": {\"10\": 52, \"7\": 109, \"14\": 7, \"4\": 21, \"9\": 46, \"5\": 3, \"15\": 1, \"6\": 1}, \"5\": {\"5\": 75, \"4\": 51, \"14\": 63, \"15\": 34, \"8\": 9, \"10\": 1, \"9\": 4, \"7\": 2, \"2\": 1}, \"15\": {\"14\": 29, \"5\": 24, \"15\": 129, \"8\": 45, \"4\": 10, \"2\": 2, \"0\": 1}, \"8\": {\"0\": 55, \"8\": 126, \"5\": 4, \"14\": 3, \"1\": 1, \"15\": 49, \"2\": 2}, \"2\": {\"1\": 39, \"2\": 188, \"9\": 1, \"15\": 8, \"10\": 3, \"14\": 1}, \"13\": {\"6\": 88, \"13\": 142, \"4\": 1, \"9\": 8, \"7\": 1}, \"4\": {\"7\": 33, \"5\": 14, \"6\": 3, \"15\": 28, \"4\": 58, \"9\": 49, \"8\": 4, \"14\": 34, \"10\": 7, \"2\": 10}, \"0\": {\"0\": 200, \"8\": 40}, \"6\": {\"6\": 168, \"13\": 57, \"9\": 14, \"7\": 1}, \"9\": {\"5\": 10, \"10\": 20, \"6\": 28, \"7\": 68, \"13\": 31, \"9\": 48, \"4\": 18, \"15\": 3, \"14\": 11, \"2\": 3}, \"11\": {\"11\": 240}, \"10\": {\"4\": 11, \"7\": 55, \"2\": 7, \"10\": 125, \"9\": 28, \"1\": 9, \"5\": 1, \"14\": 4}, \"14\": {\"7\": 12, \"14\": 87, \"9\": 5, \"4\": 47, \"5\": 59, \"15\": 21, \"10\": 9}, \"1\": {\"1\": 189, \"2\": 47, \"0\": 2, \"8\": 1, \"10\": 1}, \"3\": {\"12\": 89, \"3\": 151}}}, \"per_domain_accuracy\": {\"CORES_3\": {\"accuracy\": 0.9989098837209303, \"source?\": true}, \"CORES_4\": {\"accuracy\": 0.9981060606060606, \"source?\": true}, \"CORES_5\": {\"accuracy\": 0.9993016759776536, \"source?\": true}, \"CORES_1\": {\"accuracy\": 0.9989754098360656, \"source?\": true}, \"CORES_2\": {\"accuracy\": 0.9994703389830508, \"source?\": true}, \"ORACLE.run1_14\": {\"accuracy\": 0.6546875, \"source?\": false}, \"ORACLE.run1_20\": {\"accuracy\": 0.38515625, \"source?\": false}, \"ORACLE.run1_38\": {\"accuracy\": 0.6901041666666666, \"source?\": false}, \"ORACLE.run1_8\": {\"accuracy\": 0.5578125, \"source?\": false}, \"ORACLE.run1_50\": {\"accuracy\": 0.6427083333333333, \"source?\": false}, \"ORACLE.run1_32\": {\"accuracy\": 0.6682291666666667, \"source?\": false}, \"ORACLE.run1_26\": {\"accuracy\": 0.46822916666666664, \"source?\": false}, \"ORACLE.run1_44\": {\"accuracy\": 0.5666666666666667, \"source?\": false}}}, \"history\": {\"epoch_indices\": [1, 2, 3, 4, 5, 6, 7, 8, 9], \"train_label_loss\": [0.02659311498251922, 0.0098881125781286, 0.009656956511947918, 0.006373295630378031, 0.0056957230815432155, 0.004399128911940066, 0.00482076902297772, 0.0046372748663824365, 0.003008986284617537], \"source_val_label_loss\": [0.009453337639570236, 0.013736075721681118, 0.009818015620112419, 0.020573437213897705, 0.01179687213152647, 0.02687886357307434, 0.016574913635849953, 0.012496398761868477, 0.013006973080337048], \"target_val_label_loss\": [2.046095848083496, 1.7563786506652832, 1.7847503423690796, 1.6730414628982544, 1.5115878582000732, 1.8062504529953003, 1.6311826705932617, 1.6231796741485596, 1.5348691940307617], \"source_val_acc_label\": [0.9985373858447488, 0.998929794520548, 0.9988941210045662, 0.9981806506849316, 0.9989654680365296, 0.9978595890410958, 0.9990368150684932, 0.9994292237442922, 0.9993935502283106], \"target_val_acc_label\": [0.5028645833333333, 0.48264973958333335, 0.49677734375, 0.5203125, 0.57919921875, 0.5211263020833333, 0.5636067708333333, 0.5115234375, 0.5346354166666667]}, \"dataset_metrics\": {\"source\": {\"train\": {\"n_unique_x\": 175135, \"n_unique_y\": 58, \"n_batch/episode\": 6284}, \"val\": {\"n_unique_x\": 37196, \"n_unique_y\": 58, \"n_batch/episode\": 876}, \"test\": {\"n_unique_x\": 37634, \"n_unique_y\": 58, \"n_batch/episode\": 891}}, \"target\": {\"train\": {\"n_unique_x\": 179200, \"n_unique_y\": 16, \"n_batch/episode\": 6720}, \"val\": {\"n_unique_x\": 38400, \"n_unique_y\": 16, \"n_batch/episode\": 960}, \"test\": {\"n_unique_x\": 38400, \"n_unique_y\": 16, \"n_batch/episode\": 960}}}}'"
      ]
     },
     "execution_count": 29,
     "metadata": {},
     "output_type": "execute_result"
    }
   ],
   "source": [
    "json.dumps(experiment)"
   ]
  }
 ],
 "metadata": {
  "celltoolbar": "Tags",
  "kernelspec": {
   "display_name": "Python 3 (ipykernel)",
   "language": "python",
   "name": "python3"
  },
  "language_info": {
   "codemirror_mode": {
    "name": "ipython",
    "version": 3
   },
   "file_extension": ".py",
   "mimetype": "text/x-python",
   "name": "python",
   "nbconvert_exporter": "python",
   "pygments_lexer": "ipython3",
   "version": "3.8.12"
  },
  "papermill": {
   "default_parameters": {},
   "duration": 2086.906772,
   "end_time": "2022-03-21T03:43:01.506188",
   "environment_variables": {},
   "exception": null,
   "input_path": "/root/csc500-main/csc500-notebooks/templates/tl_ptn_template.ipynb",
   "output_path": "trial.ipynb",
   "parameters": {
    "parameters": {
     "BEST_MODEL_PATH": "./best_model.pth",
     "NUM_LOGS_PER_EPOCH": 10,
     "criteria_for_best": "target_accuracy",
     "dataset_seed": 1337,
     "datasets": [
      {
       "domain_prefix": "CORES_",
       "domains": [
        1,
        2,
        3,
        4,
        5
       ],
       "episode_transforms": [],
       "labels": [
        "1-10.",
        "1-11.",
        "1-15.",
        "1-16.",
        "1-17.",
        "1-18.",
        "1-19.",
        "10-4.",
        "10-7.",
        "11-1.",
        "11-14.",
        "11-17.",
        "11-20.",
        "11-7.",
        "13-20.",
        "13-8.",
        "14-10.",
        "14-11.",
        "14-14.",
        "14-7.",
        "15-1.",
        "15-20.",
        "16-1.",
        "16-16.",
        "17-10.",
        "17-11.",
        "17-2.",
        "19-1.",
        "19-16.",
        "19-19.",
        "19-20.",
        "19-3.",
        "2-10.",
        "2-11.",
        "2-17.",
        "2-18.",
        "2-20.",
        "2-3.",
        "2-4.",
        "2-5.",
        "2-6.",
        "2-7.",
        "2-8.",
        "3-13.",
        "3-18.",
        "3-3.",
        "4-1.",
        "4-10.",
        "4-11.",
        "4-19.",
        "5-5.",
        "6-15.",
        "7-10.",
        "7-14.",
        "8-18.",
        "8-20.",
        "8-3.",
        "8-8."
       ],
       "num_examples_per_domain_per_label": -1,
       "pickle_path": "/root/csc500-main/datasets/cores.stratified_ds.2022A.pkl",
       "source_or_target_dataset": "source",
       "x_transforms": []
      },
      {
       "domain_prefix": "ORACLE.run1_",
       "domains": [
        32,
        38,
        8,
        44,
        14,
        50,
        20,
        26
       ],
       "episode_transforms": [],
       "labels": [
        "3123D52",
        "3123D65",
        "3123D79",
        "3123D80",
        "3123D54",
        "3123D70",
        "3123D7B",
        "3123D89",
        "3123D58",
        "3123D76",
        "3123D7D",
        "3123EFE",
        "3123D64",
        "3123D78",
        "3123D7E",
        "3124E4A"
       ],
       "num_examples_per_domain_per_label": 2000,
       "pickle_path": "/root/csc500-main/datasets/oracle.Run1_framed_2000Examples_stratified_ds.2022A.pkl",
       "source_or_target_dataset": "target",
       "x_transforms": []
      }
     ],
     "device": "cuda",
     "experiment_name": "tl_1v2:cores-oracle.run1.framed",
     "lr": 0.0001,
     "n_epoch": 50,
     "n_query": 2,
     "n_shot": 3,
     "n_way": 16,
     "patience": 3,
     "seed": 1337,
     "test_k_factor": 2,
     "torch_default_dtype": "torch.float32",
     "train_k_factor": 3,
     "val_k_factor": 2,
     "x_net": [
      {
       "class": "nnReshape",
       "kargs": {
        "shape": [
         -1,
         1,
         2,
         256
        ]
       }
      },
      {
       "class": "Conv2d",
       "kargs": {
        "bias": false,
        "in_channels": 1,
        "kernel_size": [
         1,
         7
        ],
        "out_channels": 256,
        "padding": [
         0,
         3
        ]
       }
      },
      {
       "class": "ReLU",
       "kargs": {
        "inplace": true
       }
      },
      {
       "class": "BatchNorm2d",
       "kargs": {
        "num_features": 256
       }
      },
      {
       "class": "Conv2d",
       "kargs": {
        "bias": true,
        "in_channels": 256,
        "kernel_size": [
         2,
         7
        ],
        "out_channels": 80,
        "padding": [
         0,
         3
        ]
       }
      },
      {
       "class": "ReLU",
       "kargs": {
        "inplace": true
       }
      },
      {
       "class": "BatchNorm2d",
       "kargs": {
        "num_features": 80
       }
      },
      {
       "class": "Flatten",
       "kargs": {}
      },
      {
       "class": "Linear",
       "kargs": {
        "in_features": 20480,
        "out_features": 256
       }
      },
      {
       "class": "ReLU",
       "kargs": {
        "inplace": true
       }
      },
      {
       "class": "BatchNorm1d",
       "kargs": {
        "num_features": 256
       }
      },
      {
       "class": "Linear",
       "kargs": {
        "in_features": 256,
        "out_features": 256
       }
      }
     ]
    }
   },
   "start_time": "2022-03-21T03:08:14.599416",
   "version": "2.3.4"
  }
 },
 "nbformat": 4,
 "nbformat_minor": 5
}