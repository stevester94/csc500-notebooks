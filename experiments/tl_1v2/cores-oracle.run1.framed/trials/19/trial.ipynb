{
 "cells": [
  {
   "cell_type": "markdown",
   "id": "9fea5f46",
   "metadata": {
    "papermill": {
     "duration": 0.029119,
     "end_time": "2022-03-21T13:24:45.290888",
     "exception": false,
     "start_time": "2022-03-21T13:24:45.261769",
     "status": "completed"
    },
    "tags": []
   },
   "source": [
    "# Transfer Learning Template"
   ]
  },
  {
   "cell_type": "code",
   "execution_count": 1,
   "id": "0902182a",
   "metadata": {
    "execution": {
     "iopub.execute_input": "2022-03-21T13:24:45.353940Z",
     "iopub.status.busy": "2022-03-21T13:24:45.353080Z",
     "iopub.status.idle": "2022-03-21T13:24:47.231645Z",
     "shell.execute_reply": "2022-03-21T13:24:47.230759Z"
    },
    "papermill": {
     "duration": 1.917372,
     "end_time": "2022-03-21T13:24:47.231836",
     "exception": false,
     "start_time": "2022-03-21T13:24:45.314464",
     "status": "completed"
    },
    "tags": []
   },
   "outputs": [],
   "source": [
    "%load_ext autoreload\n",
    "%autoreload 2\n",
    "%matplotlib inline\n",
    "\n",
    "    \n",
    "import os, json, sys, time, random\n",
    "import numpy as np\n",
    "import torch\n",
    "from torch.optim import Adam\n",
    "from  easydict import EasyDict\n",
    "import matplotlib.pyplot as plt\n",
    "\n",
    "from steves_models.steves_ptn import Steves_Prototypical_Network\n",
    "\n",
    "from steves_utils.lazy_iterable_wrapper import Lazy_Iterable_Wrapper\n",
    "from steves_utils.iterable_aggregator import Iterable_Aggregator\n",
    "from steves_utils.ptn_train_eval_test_jig import  PTN_Train_Eval_Test_Jig\n",
    "from steves_utils.torch_sequential_builder import build_sequential\n",
    "from steves_utils.torch_utils import get_dataset_metrics, ptn_confusion_by_domain_over_dataloader\n",
    "from steves_utils.utils_v2 import (per_domain_accuracy_from_confusion, get_datasets_base_path)\n",
    "from steves_utils.PTN.utils import independent_accuracy_assesment\n",
    "\n",
    "from torch.utils.data import DataLoader\n",
    "\n",
    "from steves_utils.stratified_dataset.episodic_accessor import Episodic_Accessor_Factory\n",
    "\n",
    "from steves_utils.ptn_do_report import (\n",
    "    get_loss_curve,\n",
    "    get_results_table,\n",
    "    get_parameters_table,\n",
    "    get_domain_accuracies,\n",
    ")\n",
    "\n",
    "from steves_utils.transforms import get_chained_transform"
   ]
  },
  {
   "cell_type": "markdown",
   "id": "41c840b4",
   "metadata": {
    "papermill": {
     "duration": 0.018728,
     "end_time": "2022-03-21T13:24:47.277273",
     "exception": false,
     "start_time": "2022-03-21T13:24:47.258545",
     "status": "completed"
    },
    "tags": []
   },
   "source": [
    "# Allowed Parameters\n",
    "These are allowed parameters, not defaults\n",
    "Each of these values need to be present in the injected parameters (the notebook will raise an exception if they are not present)\n",
    "\n",
    "Papermill uses the cell tag \"parameters\" to inject the real parameters below this cell.\n",
    "Enable tags to see what I mean"
   ]
  },
  {
   "cell_type": "code",
   "execution_count": 2,
   "id": "fd44eb83",
   "metadata": {
    "execution": {
     "iopub.execute_input": "2022-03-21T13:24:47.319829Z",
     "iopub.status.busy": "2022-03-21T13:24:47.319434Z",
     "iopub.status.idle": "2022-03-21T13:24:47.344120Z",
     "shell.execute_reply": "2022-03-21T13:24:47.343300Z"
    },
    "papermill": {
     "duration": 0.048429,
     "end_time": "2022-03-21T13:24:47.344276",
     "exception": false,
     "start_time": "2022-03-21T13:24:47.295847",
     "status": "completed"
    },
    "tags": []
   },
   "outputs": [],
   "source": [
    "required_parameters = {\n",
    "    \"experiment_name\",\n",
    "    \"lr\",\n",
    "    \"device\",\n",
    "    \"seed\",\n",
    "    \"dataset_seed\",\n",
    "    \"n_shot\",\n",
    "    \"n_query\",\n",
    "    \"n_way\",\n",
    "    \"train_k_factor\",\n",
    "    \"val_k_factor\",\n",
    "    \"test_k_factor\",\n",
    "    \"n_epoch\",\n",
    "    \"patience\",\n",
    "    \"criteria_for_best\",\n",
    "    \"x_net\",\n",
    "    \"datasets\",\n",
    "    \"torch_default_dtype\",\n",
    "    \"NUM_LOGS_PER_EPOCH\",\n",
    "    \"BEST_MODEL_PATH\",\n",
    "    \"x_shape\",\n",
    "}"
   ]
  },
  {
   "cell_type": "code",
   "execution_count": 3,
   "id": "fa3f0049",
   "metadata": {
    "execution": {
     "iopub.execute_input": "2022-03-21T13:24:47.404656Z",
     "iopub.status.busy": "2022-03-21T13:24:47.404051Z",
     "iopub.status.idle": "2022-03-21T13:24:47.427501Z",
     "shell.execute_reply": "2022-03-21T13:24:47.426713Z"
    },
    "papermill": {
     "duration": 0.055795,
     "end_time": "2022-03-21T13:24:47.427672",
     "exception": false,
     "start_time": "2022-03-21T13:24:47.371877",
     "status": "completed"
    },
    "tags": [
     "parameters"
    ]
   },
   "outputs": [],
   "source": [
    "from steves_utils.CORES.utils import (\n",
    "    ALL_NODES,\n",
    "    ALL_NODES_MINIMUM_1000_EXAMPLES,\n",
    "    ALL_DAYS\n",
    ")\n",
    "\n",
    "from steves_utils.ORACLE.utils_v2 import (\n",
    "    ALL_DISTANCES_FEET_NARROWED,\n",
    "    ALL_RUNS,\n",
    "    ALL_SERIAL_NUMBERS,\n",
    ")\n",
    "\n",
    "standalone_parameters = {}\n",
    "standalone_parameters[\"experiment_name\"] = \"STANDALONE PTN\"\n",
    "standalone_parameters[\"lr\"] = 0.001\n",
    "standalone_parameters[\"device\"] = \"cuda\"\n",
    "\n",
    "standalone_parameters[\"seed\"] = 1337\n",
    "standalone_parameters[\"dataset_seed\"] = 1337\n",
    "\n",
    "standalone_parameters[\"n_way\"] = 8\n",
    "standalone_parameters[\"n_shot\"] = 3\n",
    "standalone_parameters[\"n_query\"]  = 2\n",
    "standalone_parameters[\"train_k_factor\"] = 1\n",
    "standalone_parameters[\"val_k_factor\"] = 2\n",
    "standalone_parameters[\"test_k_factor\"] = 2\n",
    "\n",
    "\n",
    "standalone_parameters[\"n_epoch\"] = 50\n",
    "\n",
    "standalone_parameters[\"patience\"] = 10\n",
    "standalone_parameters[\"criteria_for_best\"] = \"source_loss\"\n",
    "\n",
    "standalone_parameters[\"datasets\"] = [\n",
    "    {\n",
    "        \"labels\": ALL_SERIAL_NUMBERS,\n",
    "        \"domains\": ALL_DISTANCES_FEET_NARROWED,\n",
    "        \"num_examples_per_domain_per_label\": 100,\n",
    "        \"pickle_path\": os.path.join(get_datasets_base_path(), \"oracle.Run1_framed_2000Examples_stratified_ds.2022A.pkl\"),\n",
    "        \"source_or_target_dataset\": \"source\",\n",
    "        \"x_transforms\": [\"unit_mag\", \"minus_two\"],\n",
    "        \"episode_transforms\": [],\n",
    "        \"domain_prefix\": \"ORACLE_\"\n",
    "    },\n",
    "    {\n",
    "        \"labels\": ALL_NODES,\n",
    "        \"domains\": ALL_DAYS,\n",
    "        \"num_examples_per_domain_per_label\": 100,\n",
    "        \"pickle_path\": os.path.join(get_datasets_base_path(), \"cores.stratified_ds.2022A.pkl\"),\n",
    "        \"source_or_target_dataset\": \"target\",\n",
    "        \"x_transforms\": [\"unit_power\", \"times_zero\"],\n",
    "        \"episode_transforms\": [],\n",
    "        \"domain_prefix\": \"CORES_\"\n",
    "    }   \n",
    "]\n",
    "\n",
    "standalone_parameters[\"torch_default_dtype\"] = \"torch.float32\" \n",
    "\n",
    "\n",
    "\n",
    "standalone_parameters[\"x_net\"] =     [\n",
    "    {\"class\": \"nnReshape\", \"kargs\": {\"shape\":[-1, 1, 2, 256]}},\n",
    "    {\"class\": \"Conv2d\", \"kargs\": { \"in_channels\":1, \"out_channels\":256, \"kernel_size\":(1,7), \"bias\":False, \"padding\":(0,3), },},\n",
    "    {\"class\": \"ReLU\", \"kargs\": {\"inplace\": True}},\n",
    "    {\"class\": \"BatchNorm2d\", \"kargs\": {\"num_features\":256}},\n",
    "\n",
    "    {\"class\": \"Conv2d\", \"kargs\": { \"in_channels\":256, \"out_channels\":80, \"kernel_size\":(2,7), \"bias\":True, \"padding\":(0,3), },},\n",
    "    {\"class\": \"ReLU\", \"kargs\": {\"inplace\": True}},\n",
    "    {\"class\": \"BatchNorm2d\", \"kargs\": {\"num_features\":80}},\n",
    "    {\"class\": \"Flatten\", \"kargs\": {}},\n",
    "\n",
    "    {\"class\": \"Linear\", \"kargs\": {\"in_features\": 80*256, \"out_features\": 256}}, # 80 units per IQ pair\n",
    "    {\"class\": \"ReLU\", \"kargs\": {\"inplace\": True}},\n",
    "    {\"class\": \"BatchNorm1d\", \"kargs\": {\"num_features\":256}},\n",
    "\n",
    "    {\"class\": \"Linear\", \"kargs\": {\"in_features\": 256, \"out_features\": 256}},\n",
    "]\n",
    "\n",
    "# Parameters relevant to results\n",
    "# These parameters will basically never need to change\n",
    "standalone_parameters[\"NUM_LOGS_PER_EPOCH\"] = 10\n",
    "standalone_parameters[\"BEST_MODEL_PATH\"] = \"./best_model.pth\"\n",
    "\n",
    "\n",
    "\n",
    "\n"
   ]
  },
  {
   "cell_type": "code",
   "execution_count": 4,
   "id": "c88fdbdf",
   "metadata": {
    "execution": {
     "iopub.execute_input": "2022-03-21T13:24:47.489463Z",
     "iopub.status.busy": "2022-03-21T13:24:47.488815Z",
     "iopub.status.idle": "2022-03-21T13:24:47.510499Z",
     "shell.execute_reply": "2022-03-21T13:24:47.509708Z"
    },
    "papermill": {
     "duration": 0.055099,
     "end_time": "2022-03-21T13:24:47.510652",
     "exception": false,
     "start_time": "2022-03-21T13:24:47.455553",
     "status": "completed"
    },
    "tags": [
     "injected-parameters"
    ]
   },
   "outputs": [],
   "source": [
    "# Parameters\n",
    "parameters = {\n",
    "    \"experiment_name\": \"tl_1v2:cores-oracle.run1.framed\",\n",
    "    \"device\": \"cuda\",\n",
    "    \"lr\": 0.0001,\n",
    "    \"n_shot\": 3,\n",
    "    \"n_query\": 2,\n",
    "    \"train_k_factor\": 3,\n",
    "    \"val_k_factor\": 2,\n",
    "    \"test_k_factor\": 2,\n",
    "    \"torch_default_dtype\": \"torch.float32\",\n",
    "    \"n_epoch\": 50,\n",
    "    \"patience\": 3,\n",
    "    \"criteria_for_best\": \"target_accuracy\",\n",
    "    \"x_net\": [\n",
    "        {\"class\": \"nnReshape\", \"kargs\": {\"shape\": [-1, 1, 2, 256]}},\n",
    "        {\n",
    "            \"class\": \"Conv2d\",\n",
    "            \"kargs\": {\n",
    "                \"in_channels\": 1,\n",
    "                \"out_channels\": 256,\n",
    "                \"kernel_size\": [1, 7],\n",
    "                \"bias\": False,\n",
    "                \"padding\": [0, 3],\n",
    "            },\n",
    "        },\n",
    "        {\"class\": \"ReLU\", \"kargs\": {\"inplace\": True}},\n",
    "        {\"class\": \"BatchNorm2d\", \"kargs\": {\"num_features\": 256}},\n",
    "        {\n",
    "            \"class\": \"Conv2d\",\n",
    "            \"kargs\": {\n",
    "                \"in_channels\": 256,\n",
    "                \"out_channels\": 80,\n",
    "                \"kernel_size\": [2, 7],\n",
    "                \"bias\": True,\n",
    "                \"padding\": [0, 3],\n",
    "            },\n",
    "        },\n",
    "        {\"class\": \"ReLU\", \"kargs\": {\"inplace\": True}},\n",
    "        {\"class\": \"BatchNorm2d\", \"kargs\": {\"num_features\": 80}},\n",
    "        {\"class\": \"Flatten\", \"kargs\": {}},\n",
    "        {\"class\": \"Linear\", \"kargs\": {\"in_features\": 20480, \"out_features\": 256}},\n",
    "        {\"class\": \"ReLU\", \"kargs\": {\"inplace\": True}},\n",
    "        {\"class\": \"BatchNorm1d\", \"kargs\": {\"num_features\": 256}},\n",
    "        {\"class\": \"Linear\", \"kargs\": {\"in_features\": 256, \"out_features\": 256}},\n",
    "    ],\n",
    "    \"NUM_LOGS_PER_EPOCH\": 10,\n",
    "    \"BEST_MODEL_PATH\": \"./best_model.pth\",\n",
    "    \"n_way\": 16,\n",
    "    \"datasets\": [\n",
    "        {\n",
    "            \"labels\": [\n",
    "                \"1-10.\",\n",
    "                \"1-11.\",\n",
    "                \"1-15.\",\n",
    "                \"1-16.\",\n",
    "                \"1-17.\",\n",
    "                \"1-18.\",\n",
    "                \"1-19.\",\n",
    "                \"10-4.\",\n",
    "                \"10-7.\",\n",
    "                \"11-1.\",\n",
    "                \"11-14.\",\n",
    "                \"11-17.\",\n",
    "                \"11-20.\",\n",
    "                \"11-7.\",\n",
    "                \"13-20.\",\n",
    "                \"13-8.\",\n",
    "                \"14-10.\",\n",
    "                \"14-11.\",\n",
    "                \"14-14.\",\n",
    "                \"14-7.\",\n",
    "                \"15-1.\",\n",
    "                \"15-20.\",\n",
    "                \"16-1.\",\n",
    "                \"16-16.\",\n",
    "                \"17-10.\",\n",
    "                \"17-11.\",\n",
    "                \"17-2.\",\n",
    "                \"19-1.\",\n",
    "                \"19-16.\",\n",
    "                \"19-19.\",\n",
    "                \"19-20.\",\n",
    "                \"19-3.\",\n",
    "                \"2-10.\",\n",
    "                \"2-11.\",\n",
    "                \"2-17.\",\n",
    "                \"2-18.\",\n",
    "                \"2-20.\",\n",
    "                \"2-3.\",\n",
    "                \"2-4.\",\n",
    "                \"2-5.\",\n",
    "                \"2-6.\",\n",
    "                \"2-7.\",\n",
    "                \"2-8.\",\n",
    "                \"3-13.\",\n",
    "                \"3-18.\",\n",
    "                \"3-3.\",\n",
    "                \"4-1.\",\n",
    "                \"4-10.\",\n",
    "                \"4-11.\",\n",
    "                \"4-19.\",\n",
    "                \"5-5.\",\n",
    "                \"6-15.\",\n",
    "                \"7-10.\",\n",
    "                \"7-14.\",\n",
    "                \"8-18.\",\n",
    "                \"8-20.\",\n",
    "                \"8-3.\",\n",
    "                \"8-8.\",\n",
    "            ],\n",
    "            \"domains\": [1, 2, 3, 4, 5],\n",
    "            \"num_examples_per_domain_per_label\": -1,\n",
    "            \"pickle_path\": \"/root/csc500-main/datasets/cores.stratified_ds.2022A.pkl\",\n",
    "            \"source_or_target_dataset\": \"source\",\n",
    "            \"x_transforms\": [\"unit_mag\"],\n",
    "            \"episode_transforms\": [],\n",
    "            \"domain_prefix\": \"CORES_\",\n",
    "        },\n",
    "        {\n",
    "            \"labels\": [\n",
    "                \"3123D52\",\n",
    "                \"3123D65\",\n",
    "                \"3123D79\",\n",
    "                \"3123D80\",\n",
    "                \"3123D54\",\n",
    "                \"3123D70\",\n",
    "                \"3123D7B\",\n",
    "                \"3123D89\",\n",
    "                \"3123D58\",\n",
    "                \"3123D76\",\n",
    "                \"3123D7D\",\n",
    "                \"3123EFE\",\n",
    "                \"3123D64\",\n",
    "                \"3123D78\",\n",
    "                \"3123D7E\",\n",
    "                \"3124E4A\",\n",
    "            ],\n",
    "            \"domains\": [32, 38, 8, 44, 14, 50, 20, 26],\n",
    "            \"num_examples_per_domain_per_label\": 2000,\n",
    "            \"pickle_path\": \"/root/csc500-main/datasets/oracle.Run1_framed_2000Examples_stratified_ds.2022A.pkl\",\n",
    "            \"source_or_target_dataset\": \"target\",\n",
    "            \"x_transforms\": [\"unit_mag\"],\n",
    "            \"episode_transforms\": [],\n",
    "            \"domain_prefix\": \"ORACLE.run1_\",\n",
    "        },\n",
    "    ],\n",
    "    \"dataset_seed\": 7,\n",
    "    \"seed\": 7,\n",
    "}\n"
   ]
  },
  {
   "cell_type": "code",
   "execution_count": 5,
   "id": "8fa1cc33",
   "metadata": {
    "execution": {
     "iopub.execute_input": "2022-03-21T13:24:47.574769Z",
     "iopub.status.busy": "2022-03-21T13:24:47.573937Z",
     "iopub.status.idle": "2022-03-21T13:24:47.587459Z",
     "shell.execute_reply": "2022-03-21T13:24:47.586665Z"
    },
    "papermill": {
     "duration": 0.046026,
     "end_time": "2022-03-21T13:24:47.587643",
     "exception": false,
     "start_time": "2022-03-21T13:24:47.541617",
     "status": "completed"
    },
    "tags": []
   },
   "outputs": [],
   "source": [
    "# Set this to True if you want to run this template directly\n",
    "STANDALONE = False\n",
    "if STANDALONE:\n",
    "    print(\"parameters not injected, running with standalone_parameters\")\n",
    "    parameters = standalone_parameters\n",
    "\n",
    "if not 'parameters' in locals() and not 'parameters' in globals():\n",
    "    raise Exception(\"Parameter injection failed\")\n",
    "\n",
    "#Use an easy dict for all the parameters\n",
    "p = EasyDict(parameters)\n",
    "\n",
    "if \"x_shape\" not in p:\n",
    "    p.x_shape = [2,256] # Default to this if we dont supply x_shape\n",
    "\n",
    "\n",
    "supplied_keys = set(p.keys())\n",
    "\n",
    "if  supplied_keys != required_parameters:\n",
    "    print(\"Parameters are incorrect\")\n",
    "    if len(supplied_keys - required_parameters)>0: print(\"Shouldn't have:\", str(supplied_keys - required_parameters))\n",
    "    if len(required_parameters - supplied_keys)>0: print(\"Need to have:\", str(required_parameters - supplied_keys))\n",
    "    raise RuntimeError(\"Parameters are incorrect\")"
   ]
  },
  {
   "cell_type": "code",
   "execution_count": 6,
   "id": "3a028d58",
   "metadata": {
    "execution": {
     "iopub.execute_input": "2022-03-21T13:24:47.638997Z",
     "iopub.status.busy": "2022-03-21T13:24:47.638318Z",
     "iopub.status.idle": "2022-03-21T13:24:47.659910Z",
     "shell.execute_reply": "2022-03-21T13:24:47.659088Z"
    },
    "papermill": {
     "duration": 0.045296,
     "end_time": "2022-03-21T13:24:47.660061",
     "exception": false,
     "start_time": "2022-03-21T13:24:47.614765",
     "status": "completed"
    },
    "tags": []
   },
   "outputs": [],
   "source": [
    "###################################\n",
    "# Set the RNGs and make it all deterministic\n",
    "###################################\n",
    "np.random.seed(p.seed)\n",
    "random.seed(p.seed)\n",
    "torch.manual_seed(p.seed)\n",
    "\n",
    "torch.use_deterministic_algorithms(True) "
   ]
  },
  {
   "cell_type": "code",
   "execution_count": 7,
   "id": "b691acf6",
   "metadata": {
    "execution": {
     "iopub.execute_input": "2022-03-21T13:24:47.710789Z",
     "iopub.status.busy": "2022-03-21T13:24:47.710190Z",
     "iopub.status.idle": "2022-03-21T13:24:47.732969Z",
     "shell.execute_reply": "2022-03-21T13:24:47.732193Z"
    },
    "papermill": {
     "duration": 0.046334,
     "end_time": "2022-03-21T13:24:47.733124",
     "exception": false,
     "start_time": "2022-03-21T13:24:47.686790",
     "status": "completed"
    },
    "tags": []
   },
   "outputs": [],
   "source": [
    "###########################################\n",
    "# The stratified datasets honor this\n",
    "###########################################\n",
    "torch.set_default_dtype(eval(p.torch_default_dtype))"
   ]
  },
  {
   "cell_type": "code",
   "execution_count": 8,
   "id": "b5fba671",
   "metadata": {
    "execution": {
     "iopub.execute_input": "2022-03-21T13:24:47.785439Z",
     "iopub.status.busy": "2022-03-21T13:24:47.784881Z",
     "iopub.status.idle": "2022-03-21T13:24:47.840569Z",
     "shell.execute_reply": "2022-03-21T13:24:47.839872Z"
    },
    "papermill": {
     "duration": 0.079532,
     "end_time": "2022-03-21T13:24:47.840720",
     "exception": false,
     "start_time": "2022-03-21T13:24:47.761188",
     "status": "completed"
    },
    "tags": []
   },
   "outputs": [],
   "source": [
    "###################################\n",
    "# Build the network(s)\n",
    "# Note: It's critical to do this AFTER setting the RNG\n",
    "###################################\n",
    "x_net = build_sequential(p.x_net)"
   ]
  },
  {
   "cell_type": "code",
   "execution_count": 9,
   "id": "5d7e61cc",
   "metadata": {
    "execution": {
     "iopub.execute_input": "2022-03-21T13:24:47.889681Z",
     "iopub.status.busy": "2022-03-21T13:24:47.889129Z",
     "iopub.status.idle": "2022-03-21T13:24:47.915245Z",
     "shell.execute_reply": "2022-03-21T13:24:47.914543Z"
    },
    "papermill": {
     "duration": 0.050415,
     "end_time": "2022-03-21T13:24:47.915397",
     "exception": false,
     "start_time": "2022-03-21T13:24:47.864982",
     "status": "completed"
    },
    "tags": []
   },
   "outputs": [],
   "source": [
    "start_time_secs = time.time()"
   ]
  },
  {
   "cell_type": "code",
   "execution_count": 10,
   "id": "c6b67dfd",
   "metadata": {
    "execution": {
     "iopub.execute_input": "2022-03-21T13:24:47.966523Z",
     "iopub.status.busy": "2022-03-21T13:24:47.965952Z",
     "iopub.status.idle": "2022-03-21T13:24:47.983405Z",
     "shell.execute_reply": "2022-03-21T13:24:47.982699Z"
    },
    "papermill": {
     "duration": 0.040882,
     "end_time": "2022-03-21T13:24:47.983574",
     "exception": false,
     "start_time": "2022-03-21T13:24:47.942692",
     "status": "completed"
    },
    "tags": []
   },
   "outputs": [],
   "source": [
    "p.domains_source = []\n",
    "p.domains_target = []\n",
    "\n",
    "\n",
    "train_original_source = []\n",
    "val_original_source   = []\n",
    "test_original_source  = []\n",
    "\n",
    "train_original_target = []\n",
    "val_original_target   = []\n",
    "test_original_target  = []"
   ]
  },
  {
   "cell_type": "code",
   "execution_count": 11,
   "id": "e3d9c3d3",
   "metadata": {
    "execution": {
     "iopub.execute_input": "2022-03-21T13:24:48.037047Z",
     "iopub.status.busy": "2022-03-21T13:24:48.036538Z",
     "iopub.status.idle": "2022-03-21T13:24:48.058210Z",
     "shell.execute_reply": "2022-03-21T13:24:48.057408Z"
    },
    "papermill": {
     "duration": 0.045253,
     "end_time": "2022-03-21T13:24:48.058364",
     "exception": false,
     "start_time": "2022-03-21T13:24:48.013111",
     "status": "completed"
    },
    "tags": []
   },
   "outputs": [],
   "source": [
    "# global_x_transform_func = lambda x: normalize(x.to(torch.get_default_dtype()), \"unit_power\") # unit_power, unit_mag\n",
    "# global_x_transform_func = lambda x: normalize(x, \"unit_power\") # unit_power, unit_mag"
   ]
  },
  {
   "cell_type": "code",
   "execution_count": 12,
   "id": "acb78fd2",
   "metadata": {
    "execution": {
     "iopub.execute_input": "2022-03-21T13:24:48.111527Z",
     "iopub.status.busy": "2022-03-21T13:24:48.110950Z",
     "iopub.status.idle": "2022-03-21T13:24:48.128937Z",
     "shell.execute_reply": "2022-03-21T13:24:48.128134Z"
    },
    "papermill": {
     "duration": 0.044961,
     "end_time": "2022-03-21T13:24:48.129090",
     "exception": false,
     "start_time": "2022-03-21T13:24:48.084129",
     "status": "completed"
    },
    "tags": []
   },
   "outputs": [],
   "source": [
    "def add_dataset(\n",
    "    labels,\n",
    "    domains,\n",
    "    pickle_path,\n",
    "    x_transforms,\n",
    "    episode_transforms,\n",
    "    domain_prefix,\n",
    "    num_examples_per_domain_per_label,\n",
    "    source_or_target_dataset:str,\n",
    "    iterator_seed=p.seed,\n",
    "    dataset_seed=p.dataset_seed,\n",
    "    n_shot=p.n_shot,\n",
    "    n_way=p.n_way,\n",
    "    n_query=p.n_query,\n",
    "    train_val_test_k_factors=(p.train_k_factor,p.val_k_factor,p.test_k_factor),\n",
    "):\n",
    "   \n",
    "    if x_transforms == []: x_transform = None\n",
    "    else: x_transform = get_chained_transform(x_transforms)\n",
    "    \n",
    "    if episode_transforms == []: episode_transform = None\n",
    "    else: raise Exception(\"episode_transforms not implemented\")\n",
    "    \n",
    "    episode_transform = lambda tup, _prefix=domain_prefix: (_prefix + str(tup[0]), tup[1])\n",
    "\n",
    "\n",
    "    eaf = Episodic_Accessor_Factory(\n",
    "        labels=labels,\n",
    "        domains=domains,\n",
    "        num_examples_per_domain_per_label=num_examples_per_domain_per_label,\n",
    "        iterator_seed=iterator_seed,\n",
    "        dataset_seed=dataset_seed,\n",
    "        n_shot=n_shot,\n",
    "        n_way=n_way,\n",
    "        n_query=n_query,\n",
    "        train_val_test_k_factors=train_val_test_k_factors,\n",
    "        pickle_path=pickle_path,\n",
    "        x_transform_func=x_transform,\n",
    "    )\n",
    "\n",
    "    train, val, test = eaf.get_train(), eaf.get_val(), eaf.get_test()\n",
    "    train = Lazy_Iterable_Wrapper(train, episode_transform)\n",
    "    val = Lazy_Iterable_Wrapper(val, episode_transform)\n",
    "    test = Lazy_Iterable_Wrapper(test, episode_transform)\n",
    "\n",
    "    if source_or_target_dataset==\"source\":\n",
    "        train_original_source.append(train)\n",
    "        val_original_source.append(val)\n",
    "        test_original_source.append(test)\n",
    "\n",
    "        p.domains_source.extend(\n",
    "            [domain_prefix + str(u) for u in domains]\n",
    "        )\n",
    "    elif source_or_target_dataset==\"target\":\n",
    "        train_original_target.append(train)\n",
    "        val_original_target.append(val)\n",
    "        test_original_target.append(test)\n",
    "        p.domains_target.extend(\n",
    "            [domain_prefix + str(u) for u in domains]\n",
    "        )\n",
    "    else:\n",
    "        raise Exception(f\"invalid source_or_target_dataset: {source_or_target_dataset}\")\n",
    "    "
   ]
  },
  {
   "cell_type": "code",
   "execution_count": 13,
   "id": "fe266617",
   "metadata": {
    "execution": {
     "iopub.execute_input": "2022-03-21T13:24:48.178916Z",
     "iopub.status.busy": "2022-03-21T13:24:48.178549Z",
     "iopub.status.idle": "2022-03-21T13:25:30.696311Z",
     "shell.execute_reply": "2022-03-21T13:25:30.695485Z"
    },
    "papermill": {
     "duration": 42.540681,
     "end_time": "2022-03-21T13:25:30.696509",
     "exception": false,
     "start_time": "2022-03-21T13:24:48.155828",
     "status": "completed"
    },
    "tags": []
   },
   "outputs": [],
   "source": [
    "for ds in p.datasets:\n",
    "    add_dataset(**ds)"
   ]
  },
  {
   "cell_type": "code",
   "execution_count": 14,
   "id": "b90d65ac",
   "metadata": {
    "execution": {
     "iopub.execute_input": "2022-03-21T13:25:30.745979Z",
     "iopub.status.busy": "2022-03-21T13:25:30.745232Z",
     "iopub.status.idle": "2022-03-21T13:25:30.769588Z",
     "shell.execute_reply": "2022-03-21T13:25:30.768467Z"
    },
    "papermill": {
     "duration": 0.047788,
     "end_time": "2022-03-21T13:25:30.769788",
     "exception": false,
     "start_time": "2022-03-21T13:25:30.722000",
     "status": "completed"
    },
    "tags": []
   },
   "outputs": [],
   "source": [
    "# from steves_utils.CORES.utils import (\n",
    "#     ALL_NODES,\n",
    "#     ALL_NODES_MINIMUM_1000_EXAMPLES,\n",
    "#     ALL_DAYS\n",
    "# )\n",
    "\n",
    "# add_dataset(\n",
    "#     labels=ALL_NODES,\n",
    "#     domains = ALL_DAYS,\n",
    "#     num_examples_per_domain_per_label=100,\n",
    "#     pickle_path=os.path.join(get_datasets_base_path(), \"cores.stratified_ds.2022A.pkl\"),\n",
    "#     source_or_target_dataset=\"target\",\n",
    "#     x_transform_func=global_x_transform_func,\n",
    "#     domain_modifier=lambda u: f\"cores_{u}\"\n",
    "# )"
   ]
  },
  {
   "cell_type": "code",
   "execution_count": 15,
   "id": "76db484d",
   "metadata": {
    "execution": {
     "iopub.execute_input": "2022-03-21T13:25:30.823805Z",
     "iopub.status.busy": "2022-03-21T13:25:30.820763Z",
     "iopub.status.idle": "2022-03-21T13:25:30.843275Z",
     "shell.execute_reply": "2022-03-21T13:25:30.842568Z"
    },
    "papermill": {
     "duration": 0.046478,
     "end_time": "2022-03-21T13:25:30.843431",
     "exception": false,
     "start_time": "2022-03-21T13:25:30.796953",
     "status": "completed"
    },
    "tags": []
   },
   "outputs": [],
   "source": [
    "# from steves_utils.ORACLE.utils_v2 import (\n",
    "#     ALL_DISTANCES_FEET,\n",
    "#     ALL_RUNS,\n",
    "#     ALL_SERIAL_NUMBERS,\n",
    "# )\n",
    "\n",
    "\n",
    "# add_dataset(\n",
    "#     labels=ALL_SERIAL_NUMBERS,\n",
    "#     domains = list(set(ALL_DISTANCES_FEET) - {2,62}),\n",
    "#     num_examples_per_domain_per_label=100,\n",
    "#     pickle_path=os.path.join(get_datasets_base_path(), \"oracle.Run2_framed_2000Examples_stratified_ds.2022A.pkl\"),\n",
    "#     source_or_target_dataset=\"source\",\n",
    "#     x_transform_func=global_x_transform_func,\n",
    "#     domain_modifier=lambda u: f\"oracle1_{u}\"\n",
    "# )\n"
   ]
  },
  {
   "cell_type": "code",
   "execution_count": 16,
   "id": "97dea9d2",
   "metadata": {
    "execution": {
     "iopub.execute_input": "2022-03-21T13:25:30.894761Z",
     "iopub.status.busy": "2022-03-21T13:25:30.894391Z",
     "iopub.status.idle": "2022-03-21T13:25:30.919296Z",
     "shell.execute_reply": "2022-03-21T13:25:30.918507Z"
    },
    "papermill": {
     "duration": 0.048688,
     "end_time": "2022-03-21T13:25:30.919449",
     "exception": false,
     "start_time": "2022-03-21T13:25:30.870761",
     "status": "completed"
    },
    "tags": []
   },
   "outputs": [],
   "source": [
    "# from steves_utils.ORACLE.utils_v2 import (\n",
    "#     ALL_DISTANCES_FEET,\n",
    "#     ALL_RUNS,\n",
    "#     ALL_SERIAL_NUMBERS,\n",
    "# )\n",
    "\n",
    "\n",
    "# add_dataset(\n",
    "#     labels=ALL_SERIAL_NUMBERS,\n",
    "#     domains = list(set(ALL_DISTANCES_FEET) - {2,62,56}),\n",
    "#     num_examples_per_domain_per_label=100,\n",
    "#     pickle_path=os.path.join(get_datasets_base_path(), \"oracle.Run2_framed_2000Examples_stratified_ds.2022A.pkl\"),\n",
    "#     source_or_target_dataset=\"source\",\n",
    "#     x_transform_func=global_x_transform_func,\n",
    "#     domain_modifier=lambda u: f\"oracle2_{u}\"\n",
    "# )"
   ]
  },
  {
   "cell_type": "code",
   "execution_count": 17,
   "id": "6f289866",
   "metadata": {
    "execution": {
     "iopub.execute_input": "2022-03-21T13:25:30.967568Z",
     "iopub.status.busy": "2022-03-21T13:25:30.966432Z",
     "iopub.status.idle": "2022-03-21T13:25:30.989279Z",
     "shell.execute_reply": "2022-03-21T13:25:30.988487Z"
    },
    "papermill": {
     "duration": 0.045159,
     "end_time": "2022-03-21T13:25:30.989434",
     "exception": false,
     "start_time": "2022-03-21T13:25:30.944275",
     "status": "completed"
    },
    "tags": []
   },
   "outputs": [],
   "source": [
    "# add_dataset(\n",
    "#     labels=list(range(19)),\n",
    "#     domains = [0,1,2],\n",
    "#     num_examples_per_domain_per_label=100,\n",
    "#     pickle_path=os.path.join(get_datasets_base_path(), \"metehan.stratified_ds.2022A.pkl\"),\n",
    "#     source_or_target_dataset=\"target\",\n",
    "#     x_transform_func=global_x_transform_func,\n",
    "#     domain_modifier=lambda u: f\"met_{u}\"\n",
    "# )"
   ]
  },
  {
   "cell_type": "code",
   "execution_count": 18,
   "id": "86a863c3",
   "metadata": {
    "execution": {
     "iopub.execute_input": "2022-03-21T13:25:31.040940Z",
     "iopub.status.busy": "2022-03-21T13:25:31.040557Z",
     "iopub.status.idle": "2022-03-21T13:25:31.055822Z",
     "shell.execute_reply": "2022-03-21T13:25:31.055004Z"
    },
    "papermill": {
     "duration": 0.040179,
     "end_time": "2022-03-21T13:25:31.055979",
     "exception": false,
     "start_time": "2022-03-21T13:25:31.015800",
     "status": "completed"
    },
    "tags": []
   },
   "outputs": [],
   "source": [
    "# # from steves_utils.wisig.utils import (\n",
    "# #     ALL_NODES_MINIMUM_100_EXAMPLES,\n",
    "# #     ALL_NODES_MINIMUM_500_EXAMPLES,\n",
    "# #     ALL_NODES_MINIMUM_1000_EXAMPLES,\n",
    "# #     ALL_DAYS\n",
    "# # )\n",
    "\n",
    "# import steves_utils.wisig.utils as wisig\n",
    "\n",
    "\n",
    "# add_dataset(\n",
    "#     labels=wisig.ALL_NODES_MINIMUM_100_EXAMPLES,\n",
    "#     domains = wisig.ALL_DAYS,\n",
    "#     num_examples_per_domain_per_label=100,\n",
    "#     pickle_path=os.path.join(get_datasets_base_path(), \"wisig.node3-19.stratified_ds.2022A.pkl\"),\n",
    "#     source_or_target_dataset=\"target\",\n",
    "#     x_transform_func=global_x_transform_func,\n",
    "#     domain_modifier=lambda u: f\"wisig_{u}\"\n",
    "# )"
   ]
  },
  {
   "cell_type": "code",
   "execution_count": 19,
   "id": "fd5442bc",
   "metadata": {
    "execution": {
     "iopub.execute_input": "2022-03-21T13:25:31.115921Z",
     "iopub.status.busy": "2022-03-21T13:25:31.114972Z",
     "iopub.status.idle": "2022-03-21T13:25:31.138791Z",
     "shell.execute_reply": "2022-03-21T13:25:31.137986Z"
    },
    "papermill": {
     "duration": 0.053731,
     "end_time": "2022-03-21T13:25:31.138947",
     "exception": false,
     "start_time": "2022-03-21T13:25:31.085216",
     "status": "completed"
    },
    "tags": []
   },
   "outputs": [],
   "source": [
    "###################################\n",
    "# Build the dataset\n",
    "###################################\n",
    "train_original_source = Iterable_Aggregator(train_original_source, p.seed)\n",
    "val_original_source = Iterable_Aggregator(val_original_source, p.seed)\n",
    "test_original_source = Iterable_Aggregator(test_original_source, p.seed)\n",
    "\n",
    "\n",
    "train_original_target = Iterable_Aggregator(train_original_target, p.seed)\n",
    "val_original_target = Iterable_Aggregator(val_original_target, p.seed)\n",
    "test_original_target = Iterable_Aggregator(test_original_target, p.seed)\n",
    "\n",
    "# For CNN We only use X and Y. And we only train on the source.\n",
    "# Properly form the data using a transform lambda and Lazy_Iterable_Wrapper. Finally wrap them in a dataloader\n",
    "\n",
    "transform_lambda = lambda ex: ex[1] # Original is (<domain>, <episode>) so we strip down to episode only\n",
    "\n",
    "train_processed_source = Lazy_Iterable_Wrapper(train_original_source, transform_lambda)\n",
    "val_processed_source   = Lazy_Iterable_Wrapper(val_original_source, transform_lambda)\n",
    "test_processed_source  = Lazy_Iterable_Wrapper(test_original_source, transform_lambda)\n",
    "\n",
    "train_processed_target = Lazy_Iterable_Wrapper(train_original_target, transform_lambda)\n",
    "val_processed_target   = Lazy_Iterable_Wrapper(val_original_target, transform_lambda)\n",
    "test_processed_target  = Lazy_Iterable_Wrapper(test_original_target, transform_lambda)\n",
    "\n",
    "datasets = EasyDict({\n",
    "    \"source\": {\n",
    "        \"original\": {\"train\":train_original_source, \"val\":val_original_source, \"test\":test_original_source},\n",
    "        \"processed\": {\"train\":train_processed_source, \"val\":val_processed_source, \"test\":test_processed_source}\n",
    "    },\n",
    "    \"target\": {\n",
    "        \"original\": {\"train\":train_original_target, \"val\":val_original_target, \"test\":test_original_target},\n",
    "        \"processed\": {\"train\":train_processed_target, \"val\":val_processed_target, \"test\":test_processed_target}\n",
    "    },\n",
    "})"
   ]
  },
  {
   "cell_type": "code",
   "execution_count": 20,
   "id": "5b3c01fc",
   "metadata": {
    "execution": {
     "iopub.execute_input": "2022-03-21T13:25:31.192315Z",
     "iopub.status.busy": "2022-03-21T13:25:31.191445Z",
     "iopub.status.idle": "2022-03-21T13:25:47.173556Z",
     "shell.execute_reply": "2022-03-21T13:25:47.174259Z"
    },
    "papermill": {
     "duration": 16.009814,
     "end_time": "2022-03-21T13:25:47.174477",
     "exception": false,
     "start_time": "2022-03-21T13:25:31.164663",
     "status": "completed"
    },
    "tags": []
   },
   "outputs": [
    {
     "name": "stdout",
     "output_type": "stream",
     "text": [
      "{'CORES_2', 'CORES_1', 'CORES_5', 'CORES_4', 'CORES_3'}\n"
     ]
    },
    {
     "name": "stdout",
     "output_type": "stream",
     "text": [
      "{'ORACLE.run1_8', 'ORACLE.run1_20', 'ORACLE.run1_14', 'ORACLE.run1_32', 'ORACLE.run1_26', 'ORACLE.run1_44', 'ORACLE.run1_50', 'ORACLE.run1_38'}\n"
     ]
    },
    {
     "name": "stdout",
     "output_type": "stream",
     "text": [
      "tensor([[[ 0.0577, -0.0212,  0.2682,  ..., -0.4326, -1.5763, -0.2134],\n",
      "         [ 0.4027, -0.5839, -1.2833,  ..., -0.9347,  1.4002,  0.8214]],\n",
      "\n",
      "        [[ 0.0627, -0.0242, -0.8194,  ..., -1.1404,  1.1646,  1.8945],\n",
      "         [-0.3787, -0.0393,  0.7533,  ...,  0.7174,  0.6672, -0.5970]],\n",
      "\n",
      "        [[-0.1546, -0.3833,  0.6880,  ...,  1.0854,  0.6560, -1.8245],\n",
      "         [ 0.2057,  0.1984, -0.0770,  ...,  0.4761, -0.7510, -1.1489]],\n",
      "\n",
      "        ...,\n",
      "\n",
      "        [[-0.3369, -0.1395,  0.8608,  ...,  0.8976,  0.7976, -0.0579],\n",
      "         [-0.0053, -0.7397, -0.1500,  ..., -0.7028, -1.5820, -0.4817]],\n",
      "\n",
      "        [[ 0.3192,  0.4827, -0.6150,  ..., -0.0753,  0.4801,  0.3244],\n",
      "         [-0.2284,  0.5839,  0.6954,  ...,  1.1833,  1.6270,  0.1246]],\n",
      "\n",
      "        [[-0.1375, -0.1428,  0.7377,  ...,  0.5896,  1.3220,  1.5282],\n",
      "         [ 0.0502, -0.4336, -0.2776,  ...,  0.4257,  0.0185, -0.4019]]])\n"
     ]
    }
   ],
   "source": [
    "from steves_utils.transforms import get_average_magnitude, get_average_power\n",
    "\n",
    "print(set([u for u,_ in val_original_source]))\n",
    "print(set([u for u,_ in val_original_target]))\n",
    "\n",
    "s_x, s_y, q_x, q_y, _ = next(iter(train_processed_source))\n",
    "print(s_x)\n",
    "\n",
    "# for ds in [\n",
    "#     train_processed_source,\n",
    "#     val_processed_source,\n",
    "#     test_processed_source,\n",
    "#     train_processed_target,\n",
    "#     val_processed_target,\n",
    "#     test_processed_target\n",
    "# ]:\n",
    "#     for s_x, s_y, q_x, q_y, _ in ds:\n",
    "#         for X in (s_x, q_x):\n",
    "#             for x in X:\n",
    "#                 assert np.isclose(get_average_magnitude(x.numpy()), 1.0)\n",
    "#                 assert np.isclose(get_average_power(x.numpy()), 1.0)\n",
    "                "
   ]
  },
  {
   "cell_type": "code",
   "execution_count": 21,
   "id": "bbdacba1",
   "metadata": {
    "execution": {
     "iopub.execute_input": "2022-03-21T13:25:47.227716Z",
     "iopub.status.busy": "2022-03-21T13:25:47.226913Z",
     "iopub.status.idle": "2022-03-21T13:25:47.462149Z",
     "shell.execute_reply": "2022-03-21T13:25:47.462478Z"
    },
    "papermill": {
     "duration": 0.262577,
     "end_time": "2022-03-21T13:25:47.462595",
     "exception": false,
     "start_time": "2022-03-21T13:25:47.200018",
     "status": "completed"
    },
    "tags": []
   },
   "outputs": [
    {
     "name": "stdout",
     "output_type": "stream",
     "text": [
      "(2, 256)\n"
     ]
    }
   ],
   "source": [
    "###################################\n",
    "# Build the model\n",
    "###################################\n",
    "# easfsl only wants a tuple for the shape\n",
    "model = Steves_Prototypical_Network(x_net, device=p.device, x_shape=tuple(p.x_shape))\n",
    "optimizer = Adam(params=model.parameters(), lr=p.lr)"
   ]
  },
  {
   "cell_type": "code",
   "execution_count": 22,
   "id": "22b39ac5",
   "metadata": {
    "execution": {
     "iopub.execute_input": "2022-03-21T13:25:47.515415Z",
     "iopub.status.busy": "2022-03-21T13:25:47.514846Z",
     "iopub.status.idle": "2022-03-21T14:01:20.316101Z",
     "shell.execute_reply": "2022-03-21T14:01:20.315755Z"
    },
    "papermill": {
     "duration": 2132.827645,
     "end_time": "2022-03-21T14:01:20.316190",
     "exception": false,
     "start_time": "2022-03-21T13:25:47.488545",
     "status": "completed"
    },
    "tags": []
   },
   "outputs": [
    {
     "name": "stdout",
     "output_type": "stream",
     "text": [
      "epoch: 1, [batch: 1 / 6316], examples_per_second: 32.7271, train_label_loss: 2.5490, \n"
     ]
    },
    {
     "name": "stdout",
     "output_type": "stream",
     "text": [
      "epoch: 1, [batch: 632 / 6316], examples_per_second: 2294.2595, train_label_loss: 0.0117, \n"
     ]
    },
    {
     "name": "stdout",
     "output_type": "stream",
     "text": [
      "epoch: 1, [batch: 1264 / 6316], examples_per_second: 2316.1145, train_label_loss: 0.0073, \n"
     ]
    },
    {
     "name": "stdout",
     "output_type": "stream",
     "text": [
      "epoch: 1, [batch: 1895 / 6316], examples_per_second: 2532.5369, train_label_loss: 0.0011, \n"
     ]
    },
    {
     "name": "stdout",
     "output_type": "stream",
     "text": [
      "epoch: 1, [batch: 2527 / 6316], examples_per_second: 2591.5404, train_label_loss: 0.0645, \n"
     ]
    },
    {
     "name": "stdout",
     "output_type": "stream",
     "text": [
      "epoch: 1, [batch: 3158 / 6316], examples_per_second: 2606.0414, train_label_loss: 0.0004, \n"
     ]
    },
    {
     "name": "stdout",
     "output_type": "stream",
     "text": [
      "epoch: 1, [batch: 3790 / 6316], examples_per_second: 2350.1127, train_label_loss: 0.0000, \n"
     ]
    },
    {
     "name": "stdout",
     "output_type": "stream",
     "text": [
      "epoch: 1, [batch: 4421 / 6316], examples_per_second: 2349.5851, train_label_loss: 0.0005, \n"
     ]
    },
    {
     "name": "stdout",
     "output_type": "stream",
     "text": [
      "epoch: 1, [batch: 5053 / 6316], examples_per_second: 2548.7641, train_label_loss: 0.0093, \n"
     ]
    },
    {
     "name": "stdout",
     "output_type": "stream",
     "text": [
      "epoch: 1, [batch: 5684 / 6316], examples_per_second: 2619.8118, train_label_loss: 0.0006, \n"
     ]
    },
    {
     "name": "stdout",
     "output_type": "stream",
     "text": [
      "=============================================================\n",
      "epoch: 1, source_val_acc_label: 0.9986, target_val_acc_label: 0.2138, source_val_label_loss: 0.0075, target_val_label_loss: 2.3485, \n",
      "=============================================================\n"
     ]
    },
    {
     "name": "stdout",
     "output_type": "stream",
     "text": [
      "New best\n"
     ]
    },
    {
     "name": "stdout",
     "output_type": "stream",
     "text": [
      "epoch: 2, [batch: 1 / 6296], examples_per_second: 2.1610, train_label_loss: 0.0008, \n"
     ]
    },
    {
     "name": "stdout",
     "output_type": "stream",
     "text": [
      "epoch: 2, [batch: 630 / 6296], examples_per_second: 2330.7371, train_label_loss: 0.0001, \n"
     ]
    },
    {
     "name": "stdout",
     "output_type": "stream",
     "text": [
      "epoch: 2, [batch: 1260 / 6296], examples_per_second: 2327.4985, train_label_loss: 0.0000, \n"
     ]
    },
    {
     "name": "stdout",
     "output_type": "stream",
     "text": [
      "epoch: 2, [batch: 1889 / 6296], examples_per_second: 2329.5174, train_label_loss: 0.0000, \n"
     ]
    },
    {
     "name": "stdout",
     "output_type": "stream",
     "text": [
      "epoch: 2, [batch: 2519 / 6296], examples_per_second: 2580.3224, train_label_loss: 0.0011, \n"
     ]
    },
    {
     "name": "stdout",
     "output_type": "stream",
     "text": [
      "epoch: 2, [batch: 3148 / 6296], examples_per_second: 2626.3407, train_label_loss: 0.0000, \n"
     ]
    },
    {
     "name": "stdout",
     "output_type": "stream",
     "text": [
      "epoch: 2, [batch: 3778 / 6296], examples_per_second: 2689.4338, train_label_loss: 0.0000, \n"
     ]
    },
    {
     "name": "stdout",
     "output_type": "stream",
     "text": [
      "epoch: 2, [batch: 4407 / 6296], examples_per_second: 2326.5561, train_label_loss: 0.0000, \n"
     ]
    },
    {
     "name": "stdout",
     "output_type": "stream",
     "text": [
      "epoch: 2, [batch: 5037 / 6296], examples_per_second: 2428.0260, train_label_loss: 0.0000, \n"
     ]
    },
    {
     "name": "stdout",
     "output_type": "stream",
     "text": [
      "epoch: 2, [batch: 5666 / 6296], examples_per_second: 2600.4980, train_label_loss: 0.0003, \n"
     ]
    },
    {
     "name": "stdout",
     "output_type": "stream",
     "text": [
      "=============================================================\n",
      "epoch: 2, source_val_acc_label: 0.9991, target_val_acc_label: 0.3007, source_val_label_loss: 0.0089, target_val_label_loss: 2.1423, \n",
      "=============================================================\n"
     ]
    },
    {
     "name": "stdout",
     "output_type": "stream",
     "text": [
      "New best\n"
     ]
    },
    {
     "name": "stdout",
     "output_type": "stream",
     "text": [
      "epoch: 3, [batch: 1 / 6299], examples_per_second: 2.2748, train_label_loss: 0.0010, \n"
     ]
    },
    {
     "name": "stdout",
     "output_type": "stream",
     "text": [
      "epoch: 3, [batch: 630 / 6299], examples_per_second: 2334.5157, train_label_loss: 0.0001, \n"
     ]
    },
    {
     "name": "stdout",
     "output_type": "stream",
     "text": [
      "epoch: 3, [batch: 1260 / 6299], examples_per_second: 2321.3385, train_label_loss: 0.0000, \n"
     ]
    },
    {
     "name": "stdout",
     "output_type": "stream",
     "text": [
      "epoch: 3, [batch: 1890 / 6299], examples_per_second: 2327.8779, train_label_loss: 0.0000, \n"
     ]
    },
    {
     "name": "stdout",
     "output_type": "stream",
     "text": [
      "epoch: 3, [batch: 2520 / 6299], examples_per_second: 2373.1568, train_label_loss: 0.0000, \n"
     ]
    },
    {
     "name": "stdout",
     "output_type": "stream",
     "text": [
      "epoch: 3, [batch: 3150 / 6299], examples_per_second: 2553.1034, train_label_loss: 0.0000, \n"
     ]
    },
    {
     "name": "stdout",
     "output_type": "stream",
     "text": [
      "epoch: 3, [batch: 3779 / 6299], examples_per_second: 2587.5839, train_label_loss: 0.0000, \n"
     ]
    },
    {
     "name": "stdout",
     "output_type": "stream",
     "text": [
      "epoch: 3, [batch: 4409 / 6299], examples_per_second: 2571.7540, train_label_loss: 0.0000, \n"
     ]
    },
    {
     "name": "stdout",
     "output_type": "stream",
     "text": [
      "epoch: 3, [batch: 5039 / 6299], examples_per_second: 2331.2803, train_label_loss: 0.0000, \n"
     ]
    },
    {
     "name": "stdout",
     "output_type": "stream",
     "text": [
      "epoch: 3, [batch: 5669 / 6299], examples_per_second: 2458.7507, train_label_loss: 0.0223, \n"
     ]
    },
    {
     "name": "stdout",
     "output_type": "stream",
     "text": [
      "=============================================================\n",
      "epoch: 3, source_val_acc_label: 0.9991, target_val_acc_label: 0.2693, source_val_label_loss: 0.0100, target_val_label_loss: 2.4039, \n",
      "=============================================================\n"
     ]
    },
    {
     "name": "stdout",
     "output_type": "stream",
     "text": [
      "epoch: 4, [batch: 1 / 6316], examples_per_second: 2.3235, train_label_loss: 0.0000, \n"
     ]
    },
    {
     "name": "stdout",
     "output_type": "stream",
     "text": [
      "epoch: 4, [batch: 632 / 6316], examples_per_second: 2506.4530, train_label_loss: 0.0000, \n"
     ]
    },
    {
     "name": "stdout",
     "output_type": "stream",
     "text": [
      "epoch: 4, [batch: 1264 / 6316], examples_per_second: 2585.8878, train_label_loss: 0.0000, \n"
     ]
    },
    {
     "name": "stdout",
     "output_type": "stream",
     "text": [
      "epoch: 4, [batch: 1895 / 6316], examples_per_second: 2616.7391, train_label_loss: 0.0003, \n"
     ]
    },
    {
     "name": "stdout",
     "output_type": "stream",
     "text": [
      "epoch: 4, [batch: 2527 / 6316], examples_per_second: 2561.0500, train_label_loss: 0.0003, \n"
     ]
    },
    {
     "name": "stdout",
     "output_type": "stream",
     "text": [
      "epoch: 4, [batch: 3158 / 6316], examples_per_second: 2713.9500, train_label_loss: 0.0000, \n"
     ]
    },
    {
     "name": "stdout",
     "output_type": "stream",
     "text": [
      "epoch: 4, [batch: 3790 / 6316], examples_per_second: 2938.5879, train_label_loss: 0.0000, \n"
     ]
    },
    {
     "name": "stdout",
     "output_type": "stream",
     "text": [
      "epoch: 4, [batch: 4421 / 6316], examples_per_second: 2985.0475, train_label_loss: 0.0000, \n"
     ]
    },
    {
     "name": "stdout",
     "output_type": "stream",
     "text": [
      "epoch: 4, [batch: 5053 / 6316], examples_per_second: 2831.2299, train_label_loss: 0.0000, \n"
     ]
    },
    {
     "name": "stdout",
     "output_type": "stream",
     "text": [
      "epoch: 4, [batch: 5684 / 6316], examples_per_second: 3018.0466, train_label_loss: 0.0000, \n"
     ]
    },
    {
     "name": "stdout",
     "output_type": "stream",
     "text": [
      "=============================================================\n",
      "epoch: 4, source_val_acc_label: 0.9989, target_val_acc_label: 0.2895, source_val_label_loss: 0.0097, target_val_label_loss: 2.4811, \n",
      "=============================================================\n"
     ]
    },
    {
     "name": "stdout",
     "output_type": "stream",
     "text": [
      "epoch: 5, [batch: 1 / 6313], examples_per_second: 2.5122, train_label_loss: 0.0025, \n"
     ]
    },
    {
     "name": "stdout",
     "output_type": "stream",
     "text": [
      "epoch: 5, [batch: 632 / 6313], examples_per_second: 2633.7871, train_label_loss: 0.0000, \n"
     ]
    },
    {
     "name": "stdout",
     "output_type": "stream",
     "text": [
      "epoch: 5, [batch: 1263 / 6313], examples_per_second: 2639.0940, train_label_loss: 0.0000, \n"
     ]
    },
    {
     "name": "stdout",
     "output_type": "stream",
     "text": [
      "epoch: 5, [batch: 1894 / 6313], examples_per_second: 2598.0243, train_label_loss: 0.0000, \n"
     ]
    },
    {
     "name": "stdout",
     "output_type": "stream",
     "text": [
      "epoch: 5, [batch: 2525 / 6313], examples_per_second: 2625.2482, train_label_loss: 0.0000, \n"
     ]
    },
    {
     "name": "stdout",
     "output_type": "stream",
     "text": [
      "epoch: 5, [batch: 3157 / 6313], examples_per_second: 2630.6097, train_label_loss: 0.0000, \n"
     ]
    },
    {
     "name": "stdout",
     "output_type": "stream",
     "text": [
      "epoch: 5, [batch: 3788 / 6313], examples_per_second: 2786.7749, train_label_loss: 0.0000, \n"
     ]
    },
    {
     "name": "stdout",
     "output_type": "stream",
     "text": [
      "epoch: 5, [batch: 4419 / 6313], examples_per_second: 2927.9480, train_label_loss: 0.0000, \n"
     ]
    },
    {
     "name": "stdout",
     "output_type": "stream",
     "text": [
      "epoch: 5, [batch: 5050 / 6313], examples_per_second: 2935.1324, train_label_loss: 0.0000, \n"
     ]
    },
    {
     "name": "stdout",
     "output_type": "stream",
     "text": [
      "epoch: 5, [batch: 5681 / 6313], examples_per_second: 3056.7892, train_label_loss: 0.0000, \n"
     ]
    },
    {
     "name": "stdout",
     "output_type": "stream",
     "text": [
      "=============================================================\n",
      "epoch: 5, source_val_acc_label: 0.9992, target_val_acc_label: 0.3279, source_val_label_loss: 0.0097, target_val_label_loss: 2.1920, \n",
      "=============================================================\n"
     ]
    },
    {
     "name": "stdout",
     "output_type": "stream",
     "text": [
      "New best\n"
     ]
    },
    {
     "name": "stdout",
     "output_type": "stream",
     "text": [
      "epoch: 6, [batch: 1 / 6307], examples_per_second: 3.3508, train_label_loss: 0.0000, \n"
     ]
    },
    {
     "name": "stdout",
     "output_type": "stream",
     "text": [
      "epoch: 6, [batch: 631 / 6307], examples_per_second: 3391.5627, train_label_loss: 0.0000, \n"
     ]
    },
    {
     "name": "stdout",
     "output_type": "stream",
     "text": [
      "epoch: 6, [batch: 1262 / 6307], examples_per_second: 3412.0681, train_label_loss: 0.0000, \n"
     ]
    },
    {
     "name": "stdout",
     "output_type": "stream",
     "text": [
      "epoch: 6, [batch: 1892 / 6307], examples_per_second: 3455.5288, train_label_loss: 0.0000, \n"
     ]
    },
    {
     "name": "stdout",
     "output_type": "stream",
     "text": [
      "epoch: 6, [batch: 2523 / 6307], examples_per_second: 3290.0449, train_label_loss: 0.0000, \n"
     ]
    },
    {
     "name": "stdout",
     "output_type": "stream",
     "text": [
      "epoch: 6, [batch: 3154 / 6307], examples_per_second: 3727.5274, train_label_loss: 0.0000, \n"
     ]
    },
    {
     "name": "stdout",
     "output_type": "stream",
     "text": [
      "epoch: 6, [batch: 3784 / 6307], examples_per_second: 3850.5622, train_label_loss: 0.0000, \n"
     ]
    },
    {
     "name": "stdout",
     "output_type": "stream",
     "text": [
      "epoch: 6, [batch: 4415 / 6307], examples_per_second: 3780.6695, train_label_loss: 0.0000, \n"
     ]
    },
    {
     "name": "stdout",
     "output_type": "stream",
     "text": [
      "epoch: 6, [batch: 5045 / 6307], examples_per_second: 3956.2056, train_label_loss: 0.0000, \n"
     ]
    },
    {
     "name": "stdout",
     "output_type": "stream",
     "text": [
      "epoch: 6, [batch: 5676 / 6307], examples_per_second: 3138.0934, train_label_loss: 0.0032, \n"
     ]
    },
    {
     "name": "stdout",
     "output_type": "stream",
     "text": [
      "=============================================================\n",
      "epoch: 6, source_val_acc_label: 0.9994, target_val_acc_label: 0.2681, source_val_label_loss: 0.0063, target_val_label_loss: 2.5998, \n",
      "=============================================================\n"
     ]
    },
    {
     "name": "stdout",
     "output_type": "stream",
     "text": [
      "epoch: 7, [batch: 1 / 6303], examples_per_second: 2.8713, train_label_loss: 0.0001, \n"
     ]
    },
    {
     "name": "stdout",
     "output_type": "stream",
     "text": [
      "epoch: 7, [batch: 631 / 6303], examples_per_second: 3005.8786, train_label_loss: 0.0000, \n"
     ]
    },
    {
     "name": "stdout",
     "output_type": "stream",
     "text": [
      "epoch: 7, [batch: 1261 / 6303], examples_per_second: 2942.8769, train_label_loss: 0.0001, \n"
     ]
    },
    {
     "name": "stdout",
     "output_type": "stream",
     "text": [
      "epoch: 7, [batch: 1891 / 6303], examples_per_second: 2568.1025, train_label_loss: 0.0000, \n"
     ]
    },
    {
     "name": "stdout",
     "output_type": "stream",
     "text": [
      "epoch: 7, [batch: 2521 / 6303], examples_per_second: 2292.5674, train_label_loss: 0.0000, \n"
     ]
    },
    {
     "name": "stdout",
     "output_type": "stream",
     "text": [
      "epoch: 7, [batch: 3152 / 6303], examples_per_second: 2334.9714, train_label_loss: 0.0000, \n"
     ]
    },
    {
     "name": "stdout",
     "output_type": "stream",
     "text": [
      "epoch: 7, [batch: 3782 / 6303], examples_per_second: 2302.1954, train_label_loss: 0.0000, \n"
     ]
    },
    {
     "name": "stdout",
     "output_type": "stream",
     "text": [
      "epoch: 7, [batch: 4412 / 6303], examples_per_second: 2446.8530, train_label_loss: 0.0000, \n"
     ]
    },
    {
     "name": "stdout",
     "output_type": "stream",
     "text": [
      "epoch: 7, [batch: 5042 / 6303], examples_per_second: 2647.1452, train_label_loss: 0.0000, \n"
     ]
    },
    {
     "name": "stdout",
     "output_type": "stream",
     "text": [
      "epoch: 7, [batch: 5672 / 6303], examples_per_second: 2611.7429, train_label_loss: 0.0000, \n"
     ]
    },
    {
     "name": "stdout",
     "output_type": "stream",
     "text": [
      "=============================================================\n",
      "epoch: 7, source_val_acc_label: 0.9994, target_val_acc_label: 0.2596, source_val_label_loss: 0.0086, target_val_label_loss: 2.7597, \n",
      "=============================================================\n"
     ]
    },
    {
     "name": "stdout",
     "output_type": "stream",
     "text": [
      "epoch: 8, [batch: 1 / 6292], examples_per_second: 2.1582, train_label_loss: 0.0000, \n"
     ]
    },
    {
     "name": "stdout",
     "output_type": "stream",
     "text": [
      "epoch: 8, [batch: 630 / 6292], examples_per_second: 2520.8770, train_label_loss: 0.0000, \n"
     ]
    },
    {
     "name": "stdout",
     "output_type": "stream",
     "text": [
      "epoch: 8, [batch: 1259 / 6292], examples_per_second: 2582.6776, train_label_loss: 0.0000, \n"
     ]
    },
    {
     "name": "stdout",
     "output_type": "stream",
     "text": [
      "epoch: 8, [batch: 1888 / 6292], examples_per_second: 2621.2521, train_label_loss: 0.0000, \n"
     ]
    },
    {
     "name": "stdout",
     "output_type": "stream",
     "text": [
      "epoch: 8, [batch: 2517 / 6292], examples_per_second: 2423.9959, train_label_loss: 0.0000, \n"
     ]
    },
    {
     "name": "stdout",
     "output_type": "stream",
     "text": [
      "epoch: 8, [batch: 3146 / 6292], examples_per_second: 2308.6433, train_label_loss: 0.0000, \n"
     ]
    },
    {
     "name": "stdout",
     "output_type": "stream",
     "text": [
      "epoch: 8, [batch: 3775 / 6292], examples_per_second: 2312.1395, train_label_loss: 0.0000, \n"
     ]
    },
    {
     "name": "stdout",
     "output_type": "stream",
     "text": [
      "epoch: 8, [batch: 4404 / 6292], examples_per_second: 2306.0280, train_label_loss: 0.0000, \n"
     ]
    },
    {
     "name": "stdout",
     "output_type": "stream",
     "text": [
      "epoch: 8, [batch: 5033 / 6292], examples_per_second: 2438.8308, train_label_loss: 0.0000, \n"
     ]
    },
    {
     "name": "stdout",
     "output_type": "stream",
     "text": [
      "epoch: 8, [batch: 5662 / 6292], examples_per_second: 2605.1521, train_label_loss: 0.0000, \n"
     ]
    },
    {
     "name": "stdout",
     "output_type": "stream",
     "text": [
      "=============================================================\n",
      "epoch: 8, source_val_acc_label: 0.9994, target_val_acc_label: 0.2814, source_val_label_loss: 0.0103, target_val_label_loss: 2.8255, \n",
      "=============================================================\n"
     ]
    },
    {
     "name": "stdout",
     "output_type": "stream",
     "text": [
      "epoch: 9, [batch: 1 / 6305], examples_per_second: 2.3007, train_label_loss: 0.0000, \n"
     ]
    },
    {
     "name": "stdout",
     "output_type": "stream",
     "text": [
      "epoch: 9, [batch: 631 / 6305], examples_per_second: 2577.8222, train_label_loss: 0.0000, \n"
     ]
    },
    {
     "name": "stdout",
     "output_type": "stream",
     "text": [
      "epoch: 9, [batch: 1261 / 6305], examples_per_second: 2867.1753, train_label_loss: 0.0000, \n"
     ]
    },
    {
     "name": "stdout",
     "output_type": "stream",
     "text": [
      "epoch: 9, [batch: 1892 / 6305], examples_per_second: 2960.9540, train_label_loss: 0.0000, \n"
     ]
    },
    {
     "name": "stdout",
     "output_type": "stream",
     "text": [
      "epoch: 9, [batch: 2522 / 6305], examples_per_second: 3064.5728, train_label_loss: 0.0000, \n"
     ]
    },
    {
     "name": "stdout",
     "output_type": "stream",
     "text": [
      "epoch: 9, [batch: 3153 / 6305], examples_per_second: 2674.1646, train_label_loss: 0.0000, \n"
     ]
    },
    {
     "name": "stdout",
     "output_type": "stream",
     "text": [
      "epoch: 9, [batch: 3783 / 6305], examples_per_second: 2683.2593, train_label_loss: 0.0000, \n"
     ]
    },
    {
     "name": "stdout",
     "output_type": "stream",
     "text": [
      "epoch: 9, [batch: 4413 / 6305], examples_per_second: 2601.8701, train_label_loss: 0.0000, \n"
     ]
    },
    {
     "name": "stdout",
     "output_type": "stream",
     "text": [
      "epoch: 9, [batch: 5044 / 6305], examples_per_second: 2991.7639, train_label_loss: 0.0000, \n"
     ]
    },
    {
     "name": "stdout",
     "output_type": "stream",
     "text": [
      "epoch: 9, [batch: 5674 / 6305], examples_per_second: 2673.9710, train_label_loss: 0.0000, \n"
     ]
    },
    {
     "name": "stdout",
     "output_type": "stream",
     "text": [
      "=============================================================\n",
      "epoch: 9, source_val_acc_label: 0.9996, target_val_acc_label: 0.3171, source_val_label_loss: 0.0076, target_val_label_loss: 2.7428, \n",
      "=============================================================\n"
     ]
    },
    {
     "name": "stdout",
     "output_type": "stream",
     "text": [
      "Patience (3) exhausted\n"
     ]
    }
   ],
   "source": [
    "###################################\n",
    "# train\n",
    "###################################\n",
    "jig = PTN_Train_Eval_Test_Jig(model, p.BEST_MODEL_PATH, p.device)\n",
    "\n",
    "jig.train(\n",
    "    train_iterable=datasets.source.processed.train,\n",
    "    source_val_iterable=datasets.source.processed.val,\n",
    "    target_val_iterable=datasets.target.processed.val,\n",
    "    num_epochs=p.n_epoch,\n",
    "    num_logs_per_epoch=p.NUM_LOGS_PER_EPOCH,\n",
    "    patience=p.patience,\n",
    "    optimizer=optimizer,\n",
    "    criteria_for_best=p.criteria_for_best,\n",
    ")"
   ]
  },
  {
   "cell_type": "code",
   "execution_count": 23,
   "id": "31e8fabf",
   "metadata": {
    "execution": {
     "iopub.execute_input": "2022-03-21T14:01:20.416778Z",
     "iopub.status.busy": "2022-03-21T14:01:20.415262Z",
     "iopub.status.idle": "2022-03-21T14:01:20.449975Z",
     "shell.execute_reply": "2022-03-21T14:01:20.449242Z"
    },
    "papermill": {
     "duration": 0.085967,
     "end_time": "2022-03-21T14:01:20.450154",
     "exception": false,
     "start_time": "2022-03-21T14:01:20.364187",
     "status": "completed"
    },
    "tags": []
   },
   "outputs": [],
   "source": [
    "total_experiment_time_secs = time.time() - start_time_secs"
   ]
  },
  {
   "cell_type": "code",
   "execution_count": 24,
   "id": "87b9595b",
   "metadata": {
    "execution": {
     "iopub.execute_input": "2022-03-21T14:01:20.565413Z",
     "iopub.status.busy": "2022-03-21T14:01:20.564549Z",
     "iopub.status.idle": "2022-03-21T14:05:48.710982Z",
     "shell.execute_reply": "2022-03-21T14:05:48.711716Z"
    },
    "papermill": {
     "duration": 268.207111,
     "end_time": "2022-03-21T14:05:48.711951",
     "exception": false,
     "start_time": "2022-03-21T14:01:20.504840",
     "status": "completed"
    },
    "tags": []
   },
   "outputs": [],
   "source": [
    "###################################\n",
    "# Evaluate the model\n",
    "###################################\n",
    "source_test_label_accuracy, source_test_label_loss = jig.test(datasets.source.processed.test)\n",
    "target_test_label_accuracy, target_test_label_loss = jig.test(datasets.target.processed.test)\n",
    "\n",
    "source_val_label_accuracy, source_val_label_loss = jig.test(datasets.source.processed.val)\n",
    "target_val_label_accuracy, target_val_label_loss = jig.test(datasets.target.processed.val)\n",
    "\n",
    "history = jig.get_history()\n",
    "\n",
    "total_epochs_trained = len(history[\"epoch_indices\"])\n",
    "\n",
    "val_dl = Iterable_Aggregator((datasets.source.original.val,datasets.target.original.val))\n",
    "\n",
    "confusion = ptn_confusion_by_domain_over_dataloader(model, p.device, val_dl)\n",
    "per_domain_accuracy = per_domain_accuracy_from_confusion(confusion)\n",
    "\n",
    "# Add a key to per_domain_accuracy for if it was a source domain\n",
    "for domain, accuracy in per_domain_accuracy.items():\n",
    "    per_domain_accuracy[domain] = {\n",
    "        \"accuracy\": accuracy,\n",
    "        \"source?\": domain in p.domains_source\n",
    "    }\n",
    "\n",
    "# Do an independent accuracy assesment JUST TO BE SURE!\n",
    "# _source_test_label_accuracy = independent_accuracy_assesment(model, datasets.source.processed.test, p.device)\n",
    "# _target_test_label_accuracy = independent_accuracy_assesment(model, datasets.target.processed.test, p.device)\n",
    "# _source_val_label_accuracy = independent_accuracy_assesment(model, datasets.source.processed.val, p.device)\n",
    "# _target_val_label_accuracy = independent_accuracy_assesment(model, datasets.target.processed.val, p.device)\n",
    "\n",
    "# assert(_source_test_label_accuracy == source_test_label_accuracy)\n",
    "# assert(_target_test_label_accuracy == target_test_label_accuracy)\n",
    "# assert(_source_val_label_accuracy == source_val_label_accuracy)\n",
    "# assert(_target_val_label_accuracy == target_val_label_accuracy)\n",
    "\n",
    "experiment = {\n",
    "    \"experiment_name\": p.experiment_name,\n",
    "    \"parameters\": dict(p),\n",
    "    \"results\": {\n",
    "        \"source_test_label_accuracy\": source_test_label_accuracy,\n",
    "        \"source_test_label_loss\": source_test_label_loss,\n",
    "        \"target_test_label_accuracy\": target_test_label_accuracy,\n",
    "        \"target_test_label_loss\": target_test_label_loss,\n",
    "        \"source_val_label_accuracy\": source_val_label_accuracy,\n",
    "        \"source_val_label_loss\": source_val_label_loss,\n",
    "        \"target_val_label_accuracy\": target_val_label_accuracy,\n",
    "        \"target_val_label_loss\": target_val_label_loss,\n",
    "        \"total_epochs_trained\": total_epochs_trained,\n",
    "        \"total_experiment_time_secs\": total_experiment_time_secs,\n",
    "        \"confusion\": confusion,\n",
    "        \"per_domain_accuracy\": per_domain_accuracy,\n",
    "    },\n",
    "    \"history\": history,\n",
    "    \"dataset_metrics\": get_dataset_metrics(datasets, \"ptn\"),\n",
    "}"
   ]
  },
  {
   "cell_type": "code",
   "execution_count": 25,
   "id": "54a21829",
   "metadata": {
    "execution": {
     "iopub.execute_input": "2022-03-21T14:05:48.822449Z",
     "iopub.status.busy": "2022-03-21T14:05:48.822077Z",
     "iopub.status.idle": "2022-03-21T14:05:49.049013Z",
     "shell.execute_reply": "2022-03-21T14:05:49.049708Z"
    },
    "papermill": {
     "duration": 0.280773,
     "end_time": "2022-03-21T14:05:49.049930",
     "exception": false,
     "start_time": "2022-03-21T14:05:48.769157",
     "status": "completed"
    },
    "tags": []
   },
   "outputs": [
    {
     "data": {
      "image/png": "[encoded data removed]",
      "text/plain": [
       "<Figure size 1080x504 with 1 Axes>"
      ]
     },
     "metadata": {
      "needs_background": "light"
     },
     "output_type": "display_data"
    }
   ],
   "source": [
    "ax = get_loss_curve(experiment)\n",
    "plt.show()"
   ]
  },
  {
   "cell_type": "code",
   "execution_count": 26,
   "id": "fd8a0f60",
   "metadata": {
    "execution": {
     "iopub.execute_input": "2022-03-21T14:05:49.160614Z",
     "iopub.status.busy": "2022-03-21T14:05:49.160238Z",
     "iopub.status.idle": "2022-03-21T14:05:49.487644Z",
     "shell.execute_reply": "2022-03-21T14:05:49.487953Z"
    },
    "papermill": {
     "duration": 0.381752,
     "end_time": "2022-03-21T14:05:49.488044",
     "exception": false,
     "start_time": "2022-03-21T14:05:49.106292",
     "status": "completed"
    },
    "tags": []
   },
   "outputs": [
    {
     "data": {
      "text/plain": [
       "<AxesSubplot:title={'center':'Results'}>"
      ]
     },
     "execution_count": 26,
     "metadata": {},
     "output_type": "execute_result"
    },
    {
     "data": {
      "image/png": "[encoded data removed]",
      "text/plain": [
       "<Figure size 1080x504 with 1 Axes>"
      ]
     },
     "metadata": {
      "needs_background": "light"
     },
     "output_type": "display_data"
    }
   ],
   "source": [
    "get_results_table(experiment)"
   ]
  },
  {
   "cell_type": "code",
   "execution_count": 27,
   "id": "cf8dc689",
   "metadata": {
    "execution": {
     "iopub.execute_input": "2022-03-21T14:05:49.598284Z",
     "iopub.status.busy": "2022-03-21T14:05:49.597919Z",
     "iopub.status.idle": "2022-03-21T14:05:49.856940Z",
     "shell.execute_reply": "2022-03-21T14:05:49.857607Z"
    },
    "papermill": {
     "duration": 0.316185,
     "end_time": "2022-03-21T14:05:49.857787",
     "exception": false,
     "start_time": "2022-03-21T14:05:49.541602",
     "status": "completed"
    },
    "tags": []
   },
   "outputs": [
    {
     "data": {
      "text/plain": [
       "<AxesSubplot:title={'center':'Per Domain Validation Accuracy'}, xlabel='domain'>"
      ]
     },
     "execution_count": 27,
     "metadata": {},
     "output_type": "execute_result"
    },
    {
     "data": {
      "image/png": "[encoded data removed]",
      "text/plain": [
       "<Figure size 1080x504 with 1 Axes>"
      ]
     },
     "metadata": {
      "needs_background": "light"
     },
     "output_type": "display_data"
    }
   ],
   "source": [
    "get_domain_accuracies(experiment)"
   ]
  },
  {
   "cell_type": "code",
   "execution_count": 28,
   "id": "a74ae082",
   "metadata": {
    "execution": {
     "iopub.execute_input": "2022-03-21T14:05:49.973375Z",
     "iopub.status.busy": "2022-03-21T14:05:49.973008Z",
     "iopub.status.idle": "2022-03-21T14:05:50.000859Z",
     "shell.execute_reply": "2022-03-21T14:05:50.000013Z"
    },
    "papermill": {
     "duration": 0.085067,
     "end_time": "2022-03-21T14:05:50.001016",
     "exception": false,
     "start_time": "2022-03-21T14:05:49.915949",
     "status": "completed"
    },
    "tags": []
   },
   "outputs": [
    {
     "name": "stdout",
     "output_type": "stream",
     "text": [
      "Source Test Label Accuracy: 0.9992231638418079 Target Test Label Accuracy: 0.3314127604166667\n",
      "Source Val Label Accuracy: 0.99925 Target Val Label Accuracy: 0.32789713541666665\n"
     ]
    }
   ],
   "source": [
    "print(\"Source Test Label Accuracy:\", experiment[\"results\"][\"source_test_label_accuracy\"], \"Target Test Label Accuracy:\", experiment[\"results\"][\"target_test_label_accuracy\"])\n",
    "print(\"Source Val Label Accuracy:\", experiment[\"results\"][\"source_val_label_accuracy\"], \"Target Val Label Accuracy:\", experiment[\"results\"][\"target_val_label_accuracy\"])"
   ]
  },
  {
   "cell_type": "code",
   "execution_count": 29,
   "id": "dacca602",
   "metadata": {
    "execution": {
     "iopub.execute_input": "2022-03-21T14:05:50.116093Z",
     "iopub.status.busy": "2022-03-21T14:05:50.115727Z",
     "iopub.status.idle": "2022-03-21T14:05:50.141882Z",
     "shell.execute_reply": "2022-03-21T14:05:50.142564Z"
    },
    "papermill": {
     "duration": 0.084545,
     "end_time": "2022-03-21T14:05:50.142749",
     "exception": false,
     "start_time": "2022-03-21T14:05:50.058204",
     "status": "completed"
    },
    "tags": [
     "experiment_json"
    ]
   },
   "outputs": [
    {
     "data": {
      "text/plain": [
       "'{\"experiment_name\": \"tl_1v2:cores-oracle.run1.framed\", \"parameters\": {\"experiment_name\": \"tl_1v2:cores-oracle.run1.framed\", \"device\": \"cuda\", \"lr\": 0.0001, \"n_shot\": 3, \"n_query\": 2, \"train_k_factor\": 3, \"val_k_factor\": 2, \"test_k_factor\": 2, \"torch_default_dtype\": \"torch.float32\", \"n_epoch\": 50, \"patience\": 3, \"criteria_for_best\": \"target_accuracy\", \"x_net\": [{\"class\": \"nnReshape\", \"kargs\": {\"shape\": [-1, 1, 2, 256]}}, {\"class\": \"Conv2d\", \"kargs\": {\"in_channels\": 1, \"out_channels\": 256, \"kernel_size\": [1, 7], \"bias\": false, \"padding\": [0, 3]}}, {\"class\": \"ReLU\", \"kargs\": {\"inplace\": true}}, {\"class\": \"BatchNorm2d\", \"kargs\": {\"num_features\": 256}}, {\"class\": \"Conv2d\", \"kargs\": {\"in_channels\": 256, \"out_channels\": 80, \"kernel_size\": [2, 7], \"bias\": true, \"padding\": [0, 3]}}, {\"class\": \"ReLU\", \"kargs\": {\"inplace\": true}}, {\"class\": \"BatchNorm2d\", \"kargs\": {\"num_features\": 80}}, {\"class\": \"Flatten\", \"kargs\": {}}, {\"class\": \"Linear\", \"kargs\": {\"in_features\": 20480, \"out_features\": 256}}, {\"class\": \"ReLU\", \"kargs\": {\"inplace\": true}}, {\"class\": \"BatchNorm1d\", \"kargs\": {\"num_features\": 256}}, {\"class\": \"Linear\", \"kargs\": {\"in_features\": 256, \"out_features\": 256}}], \"NUM_LOGS_PER_EPOCH\": 10, \"BEST_MODEL_PATH\": \"./best_model.pth\", \"n_way\": 16, \"datasets\": [{\"labels\": [\"1-10.\", \"1-11.\", \"1-15.\", \"1-16.\", \"1-17.\", \"1-18.\", \"1-19.\", \"10-4.\", \"10-7.\", \"11-1.\", \"11-14.\", \"11-17.\", \"11-20.\", \"11-7.\", \"13-20.\", \"13-8.\", \"14-10.\", \"14-11.\", \"14-14.\", \"14-7.\", \"15-1.\", \"15-20.\", \"16-1.\", \"16-16.\", \"17-10.\", \"17-11.\", \"17-2.\", \"19-1.\", \"19-16.\", \"19-19.\", \"19-20.\", \"19-3.\", \"2-10.\", \"2-11.\", \"2-17.\", \"2-18.\", \"2-20.\", \"2-3.\", \"2-4.\", \"2-5.\", \"2-6.\", \"2-7.\", \"2-8.\", \"3-13.\", \"3-18.\", \"3-3.\", \"4-1.\", \"4-10.\", \"4-11.\", \"4-19.\", \"5-5.\", \"6-15.\", \"7-10.\", \"7-14.\", \"8-18.\", \"8-20.\", \"8-3.\", \"8-8.\"], \"domains\": [1, 2, 3, 4, 5], \"num_examples_per_domain_per_label\": -1, \"pickle_path\": \"/root/csc500-main/datasets/cores.stratified_ds.2022A.pkl\", \"source_or_target_dataset\": \"source\", \"x_transforms\": [\"unit_mag\"], \"episode_transforms\": [], \"domain_prefix\": \"CORES_\"}, {\"labels\": [\"3123D52\", \"3123D65\", \"3123D79\", \"3123D80\", \"3123D54\", \"3123D70\", \"3123D7B\", \"3123D89\", \"3123D58\", \"3123D76\", \"3123D7D\", \"3123EFE\", \"3123D64\", \"3123D78\", \"3123D7E\", \"3124E4A\"], \"domains\": [32, 38, 8, 44, 14, 50, 20, 26], \"num_examples_per_domain_per_label\": 2000, \"pickle_path\": \"/root/csc500-main/datasets/oracle.Run1_framed_2000Examples_stratified_ds.2022A.pkl\", \"source_or_target_dataset\": \"target\", \"x_transforms\": [\"unit_mag\"], \"episode_transforms\": [], \"domain_prefix\": \"ORACLE.run1_\"}], \"dataset_seed\": 7, \"seed\": 7, \"x_shape\": [2, 256], \"domains_source\": [\"CORES_1\", \"CORES_2\", \"CORES_3\", \"CORES_4\", \"CORES_5\"], \"domains_target\": [\"ORACLE.run1_32\", \"ORACLE.run1_38\", \"ORACLE.run1_8\", \"ORACLE.run1_44\", \"ORACLE.run1_14\", \"ORACLE.run1_50\", \"ORACLE.run1_20\", \"ORACLE.run1_26\"]}, \"results\": {\"source_test_label_accuracy\": 0.9992231638418079, \"source_test_label_loss\": 0.007298516109585762, \"target_test_label_accuracy\": 0.3314127604166667, \"target_test_label_loss\": 2.181208848953247, \"source_val_label_accuracy\": 0.99925, \"source_val_label_loss\": 0.009668055921792984, \"target_val_label_accuracy\": 0.32789713541666665, \"target_val_label_loss\": 2.192002058029175, \"total_epochs_trained\": 9, \"total_experiment_time_secs\": 2192.5347764492035, \"confusion\": {\"CORES_5\": {\"26\": {\"26\": 24}, \"7\": {\"7\": 32}, \"56\": {\"56\": 142}, \"36\": {\"36\": 92}, \"47\": {\"47\": 100}, \"2\": {\"2\": 28}, \"15\": {\"15\": 152}, \"14\": {\"14\": 42, \"3\": 1, \"0\": 1}, \"27\": {\"27\": 146}, \"40\": {\"40\": 124}, \"49\": {\"49\": 36}, \"45\": {\"45\": 124}, \"46\": {\"46\": 136}, \"11\": {\"11\": 129, \"15\": 1}, \"30\": {\"30\": 112}, \"0\": {\"0\": 124}, \"10\": {\"10\": 68}, \"1\": {\"1\": 148}, \"42\": {\"42\": 38, \"10\": 1, \"3\": 1}, \"54\": {\"54\": 112}, \"55\": {\"55\": 152}, \"23\": {\"23\": 124}, \"25\": {\"25\": 152}, \"28\": {\"28\": 32}, \"32\": {\"32\": 32}, \"9\": {\"9\": 140, \"30\": 1, \"1\": 1}, \"39\": {\"39\": 20}, \"3\": {\"3\": 100}, \"29\": {\"29\": 118}, \"17\": {\"17\": 116}, \"35\": {\"35\": 36}, \"44\": {\"44\": 152}, \"5\": {\"5\": 128}, \"33\": {\"33\": 32}, \"34\": {\"34\": 36}, \"13\": {\"13\": 138}, \"41\": {\"41\": 28}, \"6\": {\"6\": 125, \"17\": 2, \"20\": 1}, \"51\": {\"51\": 138}, \"50\": {\"50\": 144}, \"37\": {\"37\": 24}, \"19\": {\"19\": 144}, \"57\": {\"57\": 132}, \"21\": {\"21\": 144}, \"24\": {\"24\": 80}, \"8\": {\"8\": 130}, \"12\": {\"12\": 96}, \"48\": {\"48\": 132}, \"43\": {\"43\": 150}, \"53\": {\"53\": 148}, \"38\": {\"38\": 32}, \"16\": {\"16\": 142}, \"22\": {\"22\": 28}, \"4\": {\"4\": 99, \"45\": 1}, \"18\": {\"18\": 64}, \"20\": {\"20\": 144}, \"52\": {\"52\": 140}, \"31\": {\"31\": 36}}, \"CORES_1\": {\"41\": {\"41\": 24}, \"40\": {\"40\": 110}, \"45\": {\"45\": 138}, \"51\": {\"51\": 148}, \"5\": {\"5\": 154}, \"30\": {\"30\": 120}, \"42\": {\"42\": 40}, \"46\": {\"46\": 136}, \"48\": {\"48\": 134}, \"53\": {\"53\": 144}, \"47\": {\"47\": 152}, \"49\": {\"49\": 32}, \"36\": {\"36\": 64}, \"32\": {\"32\": 32}, \"34\": {\"34\": 24}, \"29\": {\"29\": 140}, \"35\": {\"35\": 36}, \"3\": {\"3\": 134}, \"16\": {\"16\": 140}, \"26\": {\"26\": 24}, \"57\": {\"57\": 144}, \"44\": {\"44\": 128}, \"0\": {\"0\": 152}, \"4\": {\"4\": 132}, \"31\": {\"31\": 28}, \"11\": {\"11\": 140}, \"6\": {\"6\": 96}, \"54\": {\"54\": 104}, \"17\": {\"17\": 64}, \"20\": {\"20\": 128}, \"13\": {\"13\": 150}, \"33\": {\"33\": 32}, \"24\": {\"24\": 108}, \"52\": {\"52\": 132}, \"2\": {\"2\": 36}, \"19\": {\"19\": 156}, \"39\": {\"39\": 28}, \"8\": {\"8\": 140}, \"21\": {\"21\": 124}, \"10\": {\"10\": 95, \"22\": 1}, \"37\": {\"37\": 32}, \"25\": {\"25\": 144}, \"27\": {\"27\": 130}, \"23\": {\"23\": 136}, \"1\": {\"1\": 100}, \"50\": {\"50\": 152}, \"12\": {\"12\": 116}, \"18\": {\"18\": 72}, \"38\": {\"38\": 24}, \"14\": {\"14\": 24}, \"56\": {\"56\": 141, \"55\": 1}, \"55\": {\"55\": 160}, \"9\": {\"9\": 138}, \"15\": {\"15\": 146}, \"28\": {\"28\": 28}, \"7\": {\"7\": 28}, \"43\": {\"43\": 136}, \"22\": {\"22\": 136}}, \"CORES_3\": {\"1\": {\"1\": 100}, \"9\": {\"9\": 124}, \"22\": {\"22\": 136}, \"43\": {\"43\": 136}, \"49\": {\"49\": 20}, \"50\": {\"50\": 138}, \"53\": {\"53\": 136}, \"10\": {\"10\": 64}, \"48\": {\"48\": 116}, \"8\": {\"8\": 138}, \"31\": {\"31\": 28}, \"56\": {\"56\": 134}, \"25\": {\"25\": 142}, \"28\": {\"28\": 28}, \"38\": {\"38\": 28}, \"5\": {\"5\": 116}, \"12\": {\"12\": 92}, \"6\": {\"6\": 88}, \"19\": {\"19\": 152}, \"26\": {\"26\": 24}, \"32\": {\"32\": 28}, \"33\": {\"33\": 28}, \"3\": {\"3\": 118}, \"51\": {\"51\": 128}, \"16\": {\"16\": 138}, \"46\": {\"46\": 140}, \"7\": {\"7\": 36}, \"47\": {\"47\": 92}, \"39\": {\"39\": 16}, \"40\": {\"40\": 136}, \"14\": {\"14\": 39, \"0\": 1}, \"37\": {\"37\": 28}, \"2\": {\"2\": 32}, \"21\": {\"21\": 120}, \"35\": {\"35\": 28}, \"54\": {\"54\": 100}, \"52\": {\"52\": 116}, \"29\": {\"29\": 118}, \"20\": {\"20\": 132}, \"18\": {\"18\": 84}, \"11\": {\"11\": 142}, \"0\": {\"0\": 124}, \"36\": {\"36\": 100}, \"17\": {\"17\": 108}, \"30\": {\"30\": 114}, \"42\": {\"42\": 28}, \"45\": {\"45\": 60}, \"4\": {\"4\": 148}, \"23\": {\"23\": 134}, \"13\": {\"13\": 128}, \"15\": {\"15\": 128}, \"57\": {\"57\": 124}, \"27\": {\"27\": 132, \"4\": 2}, \"44\": {\"44\": 88}, \"34\": {\"34\": 32}, \"41\": {\"41\": 28}, \"24\": {\"24\": 104}, \"55\": {\"55\": 118}}, \"CORES_4\": {\"52\": {\"52\": 116}, \"6\": {\"6\": 112}, \"14\": {\"14\": 16}, \"49\": {\"49\": 20}, \"0\": {\"0\": 80}, \"46\": {\"46\": 154, \"5\": 1, \"47\": 1}, \"41\": {\"41\": 36}, \"24\": {\"24\": 55, \"10\": 1}, \"25\": {\"25\": 152}, \"40\": {\"40\": 138}, \"38\": {\"38\": 40}, \"13\": {\"13\": 152}, \"9\": {\"9\": 108}, \"45\": {\"45\": 96}, \"43\": {\"43\": 144}, \"10\": {\"10\": 130}, \"15\": {\"15\": 127, \"11\": 1}, \"39\": {\"39\": 20}, \"4\": {\"4\": 132}, \"53\": {\"53\": 132}, \"1\": {\"1\": 40}, \"28\": {\"28\": 32}, \"54\": {\"54\": 108}, \"21\": {\"21\": 132}, \"7\": {\"7\": 24}, \"8\": {\"8\": 136}, \"42\": {\"42\": 32}, \"11\": {\"11\": 104}, \"33\": {\"33\": 36}, \"27\": {\"27\": 142}, \"19\": {\"19\": 144}, \"2\": {\"2\": 36}, \"3\": {\"3\": 120}, \"57\": {\"57\": 100}, \"20\": {\"20\": 112}, \"23\": {\"23\": 128}, \"22\": {\"22\": 128}, \"29\": {\"29\": 124}, \"36\": {\"36\": 92}, \"51\": {\"51\": 132}, \"31\": {\"31\": 28}, \"12\": {\"12\": 92}, \"56\": {\"56\": 138}, \"5\": {\"5\": 108}, \"35\": {\"35\": 40}, \"17\": {\"17\": 80}, \"32\": {\"32\": 24}, \"47\": {\"47\": 120}, \"18\": {\"18\": 107, \"3\": 1}, \"26\": {\"26\": 24}, \"50\": {\"50\": 122}, \"55\": {\"55\": 124}, \"34\": {\"34\": 24}, \"30\": {\"30\": 44}, \"37\": {\"37\": 24}, \"44\": {\"44\": 132}, \"48\": {\"48\": 118}, \"16\": {\"16\": 96}}, \"CORES_2\": {\"11\": {\"11\": 130}, \"21\": {\"21\": 120}, \"19\": {\"19\": 140}, \"20\": {\"20\": 128}, \"9\": {\"9\": 140}, \"10\": {\"10\": 112}, \"37\": {\"37\": 36}, \"32\": {\"32\": 28}, \"3\": {\"3\": 92}, \"39\": {\"39\": 28}, \"45\": {\"45\": 128}, \"50\": {\"50\": 136}, \"40\": {\"40\": 140}, \"46\": {\"46\": 128}, \"12\": {\"12\": 92}, \"13\": {\"13\": 116}, \"47\": {\"47\": 132}, \"15\": {\"15\": 142}, \"54\": {\"54\": 108}, \"48\": {\"48\": 148}, \"23\": {\"23\": 142}, \"29\": {\"29\": 128}, \"38\": {\"38\": 20}, \"53\": {\"53\": 136}, \"27\": {\"27\": 150}, \"43\": {\"43\": 144}, \"35\": {\"35\": 32}, \"0\": {\"0\": 48}, \"52\": {\"52\": 124}, \"8\": {\"8\": 128}, \"24\": {\"24\": 96}, \"18\": {\"18\": 48}, \"25\": {\"25\": 148}, \"57\": {\"57\": 136}, \"55\": {\"55\": 134}, \"36\": {\"36\": 116}, \"17\": {\"17\": 104}, \"2\": {\"2\": 32}, \"34\": {\"34\": 28}, \"1\": {\"1\": 112}, \"51\": {\"51\": 136}, \"31\": {\"31\": 28}, \"49\": {\"49\": 24}, \"14\": {\"14\": 24}, \"33\": {\"33\": 28}, \"41\": {\"41\": 20}, \"28\": {\"28\": 28}, \"5\": {\"5\": 120}, \"16\": {\"16\": 150}, \"4\": {\"4\": 128}, \"22\": {\"22\": 136}, \"6\": {\"6\": 118}, \"30\": {\"30\": 124}, \"26\": {\"26\": 24}, \"56\": {\"56\": 142}, \"42\": {\"42\": 36}, \"44\": {\"44\": 100}, \"7\": {\"7\": 36}}, \"ORACLE.run1_26\": {\"0\": {\"6\": 21, \"10\": 37, \"1\": 21, \"9\": 14, \"4\": 16, \"8\": 23, \"14\": 29, \"3\": 5, \"2\": 10, \"7\": 12, \"0\": 23, \"13\": 10, \"15\": 13, \"5\": 5, \"11\": 1}, \"4\": {\"14\": 29, \"1\": 26, \"10\": 22, \"0\": 25, \"7\": 22, \"6\": 13, \"8\": 17, \"13\": 4, \"3\": 11, \"4\": 24, \"9\": 8, \"5\": 9, \"2\": 8, \"15\": 22}, \"14\": {\"0\": 24, \"6\": 16, \"8\": 21, \"3\": 11, \"1\": 31, \"14\": 27, \"7\": 18, \"15\": 8, \"4\": 34, \"5\": 5, \"10\": 28, \"9\": 5, \"2\": 10, \"13\": 2}, \"12\": {\"12\": 180, \"11\": 48, \"10\": 2, \"5\": 1, \"6\": 6, \"14\": 1, \"9\": 2}, \"8\": {\"9\": 19, \"0\": 16, \"1\": 22, \"14\": 23, \"15\": 25, \"8\": 17, \"7\": 19, \"6\": 13, \"3\": 6, \"4\": 25, \"5\": 12, \"13\": 12, \"2\": 13, \"10\": 17, \"11\": 1}, \"7\": {\"0\": 8, \"6\": 6, \"15\": 20, \"14\": 20, \"2\": 16, \"8\": 16, \"7\": 32, \"1\": 23, \"3\": 34, \"4\": 25, \"5\": 12, \"10\": 10, \"13\": 11, \"9\": 7}, \"13\": {\"11\": 10, \"9\": 32, \"13\": 58, \"6\": 20, \"5\": 37, \"15\": 23, \"12\": 2, \"3\": 9, \"14\": 3, \"2\": 16, \"10\": 6, \"7\": 10, \"0\": 2, \"4\": 2, \"8\": 7, \"1\": 3}, \"5\": {\"13\": 38, \"2\": 32, \"1\": 8, \"9\": 24, \"5\": 32, \"8\": 12, \"7\": 16, \"15\": 22, \"4\": 7, \"10\": 11, \"3\": 20, \"6\": 10, \"0\": 4, \"11\": 3, \"14\": 1}, \"15\": {\"6\": 20, \"7\": 18, \"15\": 29, \"9\": 27, \"14\": 7, \"3\": 8, \"0\": 18, \"13\": 30, \"5\": 20, \"10\": 18, \"4\": 12, \"1\": 10, \"8\": 11, \"11\": 5, \"2\": 7}, \"10\": {\"9\": 14, \"6\": 21, \"14\": 40, \"0\": 26, \"4\": 15, \"10\": 30, \"8\": 25, \"2\": 6, \"1\": 24, \"7\": 9, \"15\": 14, \"5\": 4, \"13\": 7, \"3\": 4, \"11\": 1}, \"3\": {\"14\": 13, \"1\": 20, \"3\": 54, \"5\": 12, \"2\": 45, \"15\": 14, \"0\": 5, \"7\": 34, \"9\": 6, \"4\": 19, \"10\": 4, \"8\": 7, \"6\": 2, \"13\": 5}, \"9\": {\"6\": 30, \"9\": 49, \"5\": 26, \"15\": 27, \"13\": 26, \"8\": 6, \"0\": 12, \"10\": 18, \"4\": 9, \"7\": 8, \"12\": 1, \"2\": 6, \"14\": 7, \"11\": 5, \"3\": 5, \"1\": 5}, \"6\": {\"9\": 26, \"15\": 24, \"6\": 52, \"8\": 20, \"14\": 10, \"0\": 24, \"13\": 15, \"10\": 30, \"4\": 7, \"12\": 4, \"5\": 10, \"11\": 8, \"1\": 6, \"2\": 1, \"7\": 3}, \"1\": {\"4\": 31, \"3\": 9, \"7\": 24, \"8\": 26, \"1\": 42, \"6\": 8, \"14\": 25, \"0\": 18, \"2\": 13, \"10\": 23, \"5\": 2, \"9\": 8, \"15\": 7, \"11\": 1, \"13\": 3}, \"11\": {\"12\": 56, \"11\": 173, \"6\": 6, \"15\": 1, \"9\": 2, \"10\": 1, \"13\": 1}, \"2\": {\"1\": 11, \"5\": 21, \"14\": 6, \"3\": 53, \"7\": 26, \"2\": 44, \"13\": 17, \"9\": 11, \"0\": 8, \"15\": 13, \"10\": 7, \"4\": 7, \"8\": 11, \"11\": 1, \"6\": 4}}, \"ORACLE.run1_44\": {\"1\": {\"12\": 53, \"1\": 53, \"10\": 52, \"3\": 50, \"2\": 23, \"7\": 8, \"9\": 1}, \"11\": {\"13\": 40, \"11\": 126, \"14\": 2, \"7\": 15, \"9\": 19, \"6\": 32, \"4\": 3, \"2\": 2, \"5\": 1}, \"3\": {\"1\": 45, \"3\": 109, \"9\": 7, \"10\": 20, \"7\": 16, \"2\": 21, \"12\": 22}, \"6\": {\"9\": 51, \"13\": 37, \"6\": 80, \"11\": 26, \"7\": 36, \"2\": 10}, \"7\": {\"2\": 52, \"3\": 24, \"7\": 68, \"9\": 42, \"10\": 10, \"6\": 21, \"11\": 5, \"13\": 8, \"1\": 9, \"12\": 1}, \"5\": {\"8\": 39, \"5\": 83, \"15\": 18, \"4\": 24, \"0\": 49, \"14\": 27}, \"2\": {\"10\": 34, \"2\": 85, \"9\": 9, \"3\": 23, \"12\": 7, \"7\": 44, \"1\": 26, \"6\": 9, \"13\": 1, \"11\": 2}, \"15\": {\"4\": 26, \"0\": 35, \"15\": 92, \"14\": 34, \"8\": 33, \"5\": 20}, \"10\": {\"12\": 58, \"2\": 25, \"10\": 74, \"3\": 19, \"1\": 58, \"7\": 6}, \"13\": {\"13\": 79, \"11\": 35, \"6\": 50, \"14\": 9, \"9\": 39, \"4\": 13, \"7\": 13, \"2\": 2}, \"8\": {\"0\": 87, \"8\": 83, \"15\": 27, \"5\": 39, \"4\": 1, \"14\": 3}, \"4\": {\"4\": 106, \"13\": 10, \"14\": 71, \"15\": 25, \"8\": 4, \"9\": 8, \"5\": 11, \"11\": 1, \"0\": 3, \"6\": 1}, \"9\": {\"13\": 48, \"11\": 12, \"6\": 41, \"2\": 16, \"7\": 43, \"9\": 67, \"14\": 4, \"3\": 3, \"1\": 2, \"4\": 3, \"12\": 1}, \"14\": {\"4\": 89, \"15\": 37, \"14\": 79, \"13\": 5, \"5\": 15, \"9\": 2, \"0\": 9, \"8\": 4}, \"0\": {\"0\": 76, \"15\": 33, \"5\": 45, \"8\": 75, \"14\": 7, \"4\": 4}, \"12\": {\"1\": 69, \"12\": 77, \"10\": 60, \"2\": 11, \"3\": 21, \"7\": 2}}, \"ORACLE.run1_50\": {\"15\": {\"1\": 41, \"4\": 33, \"11\": 37, \"15\": 82, \"2\": 8, \"14\": 12, \"5\": 6, \"0\": 5, \"9\": 4, \"13\": 3, \"6\": 9}, \"4\": {\"4\": 47, \"15\": 51, \"1\": 42, \"13\": 13, \"6\": 31, \"5\": 14, \"14\": 3, \"2\": 9, \"7\": 12, \"0\": 6, \"8\": 2, \"11\": 8, \"10\": 2}, \"6\": {\"13\": 24, \"7\": 26, \"6\": 63, \"4\": 30, \"15\": 17, \"1\": 33, \"5\": 28, \"0\": 7, \"2\": 5, \"10\": 6, \"14\": 1}, \"2\": {\"2\": 127, \"5\": 9, \"6\": 10, \"0\": 57, \"13\": 8, \"14\": 8, \"15\": 3, \"10\": 4, \"4\": 6, \"1\": 7, \"7\": 1}, \"5\": {\"7\": 34, \"4\": 24, \"0\": 16, \"1\": 20, \"13\": 36, \"5\": 43, \"10\": 23, \"6\": 29, \"15\": 14, \"2\": 1}, \"9\": {\"14\": 16, \"12\": 52, \"9\": 125, \"11\": 44, \"1\": 1, \"15\": 2}, \"8\": {\"8\": 138, \"7\": 11, \"3\": 52, \"10\": 34, \"13\": 3, \"0\": 2}, \"12\": {\"14\": 41, \"12\": 135, \"9\": 42, \"11\": 21, \"2\": 1}, \"10\": {\"0\": 30, \"7\": 34, \"10\": 92, \"8\": 37, \"5\": 9, \"13\": 25, \"6\": 8, \"2\": 4, \"3\": 1}, \"1\": {\"4\": 37, \"13\": 3, \"1\": 53, \"15\": 57, \"11\": 13, \"6\": 33, \"2\": 14, \"0\": 8, \"5\": 11, \"7\": 2, \"14\": 8, \"10\": 1}, \"0\": {\"8\": 6, \"2\": 58, \"0\": 91, \"4\": 6, \"10\": 32, \"5\": 10, \"15\": 1, \"1\": 6, \"13\": 12, \"7\": 14, \"6\": 4}, \"3\": {\"8\": 62, \"3\": 172, \"7\": 1, \"10\": 4, \"5\": 1}, \"13\": {\"4\": 22, \"7\": 51, \"13\": 50, \"5\": 30, \"1\": 12, \"10\": 23, \"8\": 6, \"6\": 31, \"0\": 11, \"2\": 4}, \"11\": {\"14\": 44, \"12\": 13, \"11\": 93, \"1\": 16, \"15\": 20, \"9\": 41, \"4\": 10, \"2\": 1, \"0\": 2}, \"7\": {\"5\": 27, \"10\": 36, \"13\": 54, \"7\": 75, \"6\": 20, \"15\": 1, \"0\": 8, \"4\": 5, \"2\": 3, \"1\": 3, \"8\": 8}, \"14\": {\"9\": 15, \"12\": 35, \"4\": 9, \"2\": 20, \"14\": 100, \"1\": 17, \"11\": 32, \"15\": 12}}, \"ORACLE.run1_38\": {\"15\": {\"8\": 23, \"15\": 66, \"1\": 45, \"13\": 47, \"10\": 21, \"0\": 6, \"5\": 9, \"2\": 15, \"12\": 4, \"14\": 2, \"6\": 1, \"7\": 1}, \"11\": {\"14\": 59, \"11\": 123, \"12\": 11, \"10\": 18, \"13\": 3, \"2\": 18, \"15\": 2, \"5\": 1, \"8\": 1, \"4\": 4}, \"10\": {\"13\": 28, \"8\": 30, \"0\": 17, \"10\": 62, \"2\": 9, \"11\": 10, \"15\": 25, \"4\": 13, \"7\": 4, \"12\": 16, \"1\": 11, \"5\": 7, \"14\": 8}, \"14\": {\"14\": 102, \"10\": 16, \"2\": 51, \"11\": 40, \"12\": 23, \"4\": 1, \"13\": 5, \"15\": 1, \"1\": 1}, \"6\": {\"5\": 31, \"6\": 95, \"9\": 67, \"0\": 12, \"3\": 13, \"8\": 6, \"7\": 12, \"1\": 4}, \"4\": {\"12\": 32, \"4\": 192, \"0\": 1, \"5\": 1, \"7\": 5, \"10\": 6, \"11\": 1, \"8\": 2}, \"13\": {\"15\": 47, \"1\": 50, \"13\": 66, \"10\": 23, \"0\": 5, \"2\": 14, \"12\": 6, \"5\": 13, \"8\": 9, \"14\": 6, \"7\": 1}, \"3\": {\"3\": 124, \"5\": 10, \"9\": 60, \"6\": 33, \"0\": 5, \"7\": 7, \"8\": 1}, \"7\": {\"5\": 36, \"0\": 45, \"6\": 6, \"10\": 3, \"7\": 98, \"9\": 8, \"1\": 2, \"3\": 10, \"8\": 27, \"4\": 4, \"15\": 1}, \"8\": {\"8\": 49, \"5\": 36, \"1\": 18, \"0\": 40, \"7\": 29, \"12\": 6, \"15\": 18, \"6\": 8, \"9\": 2, \"4\": 2, \"10\": 23, \"13\": 7, \"3\": 2}, \"1\": {\"1\": 112, \"13\": 39, \"15\": 39, \"8\": 16, \"5\": 20, \"3\": 1, \"10\": 1, \"0\": 6, \"6\": 3, \"9\": 2, \"2\": 1}, \"5\": {\"5\": 38, \"8\": 42, \"1\": 15, \"13\": 6, \"0\": 39, \"10\": 10, \"15\": 16, \"3\": 7, \"7\": 28, \"9\": 11, \"6\": 27, \"12\": 1}, \"0\": {\"7\": 37, \"5\": 36, \"0\": 45, \"15\": 7, \"6\": 16, \"9\": 7, \"1\": 11, \"3\": 18, \"8\": 35, \"10\": 13, \"4\": 4, \"13\": 8, \"12\": 3}, \"2\": {\"2\": 119, \"11\": 7, \"14\": 52, \"13\": 28, \"15\": 16, \"10\": 13, \"12\": 1, \"1\": 4}, \"12\": {\"12\": 175, \"10\": 16, \"4\": 20, \"11\": 10, \"14\": 16, \"2\": 1, \"13\": 1, \"8\": 1}, \"9\": {\"1\": 5, \"3\": 41, \"0\": 6, \"5\": 7, \"6\": 88, \"9\": 79, \"7\": 10, \"8\": 4}}, \"ORACLE.run1_20\": {\"10\": {\"9\": 14, \"6\": 33, \"8\": 24, \"3\": 14, \"10\": 41, \"7\": 22, \"14\": 40, \"13\": 7, \"12\": 9, \"4\": 20, \"0\": 2, \"11\": 2, \"2\": 4, \"5\": 4, \"1\": 3, \"15\": 1}, \"7\": {\"6\": 21, \"9\": 23, \"7\": 35, \"3\": 18, \"10\": 19, \"4\": 9, \"13\": 16, \"0\": 3, \"11\": 11, \"2\": 18, \"5\": 8, \"12\": 17, \"8\": 12, \"15\": 8, \"14\": 11, \"1\": 11}, \"4\": {\"14\": 18, \"3\": 24, \"5\": 16, \"4\": 44, \"0\": 23, \"1\": 10, \"10\": 14, \"15\": 14, \"12\": 9, \"13\": 13, \"8\": 23, \"9\": 11, \"6\": 6, \"2\": 7, \"7\": 7, \"11\": 1}, \"13\": {\"13\": 31, \"12\": 18, \"10\": 3, \"3\": 15, \"7\": 16, \"1\": 19, \"8\": 12, \"9\": 23, \"6\": 10, \"5\": 12, \"0\": 10, \"14\": 9, \"2\": 25, \"15\": 21, \"11\": 9, \"4\": 7}, \"1\": {\"12\": 25, \"3\": 11, \"0\": 31, \"15\": 27, \"9\": 18, \"4\": 20, \"13\": 17, \"8\": 12, \"5\": 22, \"7\": 14, \"1\": 25, \"2\": 13, \"6\": 1, \"14\": 2, \"10\": 2}, \"0\": {\"3\": 13, \"1\": 28, \"12\": 18, \"4\": 21, \"15\": 34, \"5\": 29, \"2\": 8, \"13\": 10, \"0\": 53, \"7\": 5, \"9\": 8, \"8\": 10, \"11\": 1, \"14\": 2}, \"12\": {\"13\": 21, \"5\": 13, \"15\": 24, \"7\": 17, \"8\": 15, \"4\": 13, \"1\": 21, \"9\": 21, \"6\": 7, \"12\": 24, \"0\": 13, \"3\": 27, \"10\": 7, \"2\": 16, \"14\": 1}, \"5\": {\"1\": 29, \"12\": 22, \"15\": 28, \"8\": 7, \"2\": 15, \"14\": 4, \"0\": 27, \"9\": 9, \"6\": 7, \"5\": 22, \"7\": 12, \"3\": 20, \"4\": 22, \"13\": 12, \"10\": 4}, \"6\": {\"13\": 6, \"10\": 35, \"6\": 60, \"2\": 18, \"14\": 44, \"11\": 9, \"7\": 23, \"3\": 8, \"4\": 2, \"9\": 5, \"8\": 21, \"5\": 3, \"12\": 5, \"1\": 1}, \"2\": {\"0\": 9, \"12\": 16, \"10\": 12, \"11\": 10, \"13\": 20, \"15\": 9, \"9\": 18, \"3\": 19, \"8\": 9, \"2\": 26, \"4\": 17, \"7\": 31, \"1\": 17, \"6\": 11, \"14\": 8, \"5\": 8}, \"8\": {\"13\": 11, \"11\": 4, \"4\": 29, \"3\": 13, \"9\": 14, \"8\": 29, \"2\": 11, \"6\": 20, \"5\": 11, \"15\": 8, \"7\": 18, \"10\": 18, \"1\": 10, \"14\": 15, \"12\": 18, \"0\": 11}, \"11\": {\"11\": 117, \"6\": 35, \"3\": 4, \"14\": 11, \"10\": 7, \"13\": 18, \"9\": 12, \"7\": 19, \"2\": 11, \"8\": 2, \"12\": 3, \"5\": 1}, \"9\": {\"2\": 32, \"13\": 29, \"5\": 12, \"7\": 21, \"9\": 30, \"8\": 7, \"11\": 7, \"10\": 6, \"0\": 7, \"15\": 14, \"1\": 11, \"12\": 22, \"14\": 8, \"3\": 20, \"6\": 6, \"4\": 8}, \"14\": {\"4\": 14, \"14\": 56, \"10\": 50, \"8\": 24, \"6\": 47, \"13\": 6, \"3\": 6, \"0\": 1, \"7\": 13, \"5\": 1, \"2\": 10, \"12\": 2, \"9\": 5, \"11\": 4, \"15\": 1}, \"15\": {\"12\": 26, \"0\": 28, \"13\": 22, \"15\": 39, \"1\": 30, \"5\": 25, \"2\": 12, \"7\": 4, \"4\": 16, \"8\": 7, \"9\": 17, \"3\": 12, \"14\": 1, \"10\": 1}, \"3\": {\"10\": 13, \"15\": 14, \"5\": 8, \"12\": 23, \"6\": 7, \"14\": 13, \"9\": 16, \"2\": 25, \"4\": 22, \"13\": 20, \"7\": 18, \"1\": 12, \"0\": 9, \"8\": 12, \"3\": 26, \"11\": 2}}, \"ORACLE.run1_14\": {\"14\": {\"2\": 25, \"10\": 23, \"13\": 33, \"14\": 46, \"4\": 19, \"6\": 38, \"3\": 31, \"5\": 10, \"8\": 2, \"0\": 6, \"15\": 1, \"1\": 5, \"7\": 1}, \"0\": {\"10\": 61, \"0\": 78, \"14\": 12, \"11\": 36, \"3\": 19, \"8\": 15, \"9\": 10, \"4\": 2, \"13\": 6, \"6\": 1}, \"4\": {\"5\": 36, \"6\": 23, \"3\": 30, \"13\": 24, \"4\": 50, \"14\": 16, \"8\": 8, \"2\": 22, \"0\": 4, \"1\": 24, \"7\": 2, \"15\": 1}, \"11\": {\"10\": 19, \"9\": 72, \"11\": 112, \"0\": 31, \"12\": 5, \"14\": 1}, \"13\": {\"5\": 15, \"3\": 20, \"6\": 53, \"10\": 9, \"14\": 29, \"0\": 3, \"1\": 9, \"4\": 16, \"2\": 39, \"13\": 38, \"7\": 5, \"8\": 1, \"15\": 3}, \"9\": {\"9\": 124, \"11\": 53, \"0\": 12, \"10\": 5, \"12\": 45, \"8\": 1}, \"3\": {\"5\": 20, \"2\": 18, \"0\": 12, \"3\": 38, \"13\": 16, \"15\": 1, \"14\": 24, \"10\": 25, \"8\": 30, \"6\": 18, \"4\": 32, \"1\": 5, \"7\": 1}, \"6\": {\"13\": 43, \"14\": 26, \"2\": 30, \"6\": 79, \"5\": 15, \"10\": 5, \"4\": 18, \"7\": 1, \"3\": 13, \"1\": 8, \"15\": 2}, \"1\": {\"4\": 38, \"7\": 23, \"8\": 19, \"2\": 19, \"6\": 8, \"1\": 70, \"13\": 10, \"14\": 5, \"3\": 5, \"5\": 38, \"15\": 4, \"0\": 1}, \"5\": {\"2\": 26, \"8\": 10, \"5\": 36, \"3\": 20, \"1\": 44, \"14\": 10, \"4\": 34, \"13\": 13, \"6\": 15, \"15\": 11, \"7\": 21}, \"12\": {\"9\": 44, \"12\": 186, \"11\": 10}, \"10\": {\"10\": 93, \"0\": 54, \"8\": 13, \"14\": 26, \"3\": 25, \"13\": 12, \"11\": 8, \"2\": 3, \"6\": 2, \"5\": 1, \"9\": 1, \"4\": 2}, \"8\": {\"0\": 22, \"9\": 3, \"8\": 153, \"10\": 12, \"3\": 21, \"1\": 9, \"4\": 9, \"5\": 7, \"13\": 1, \"11\": 1, \"2\": 1, \"6\": 1}, \"7\": {\"7\": 116, \"15\": 71, \"5\": 16, \"1\": 27, \"13\": 5, \"4\": 3, \"6\": 1, \"14\": 1}, \"15\": {\"15\": 139, \"7\": 67, \"5\": 10, \"1\": 14, \"13\": 3, \"4\": 1, \"6\": 1, \"2\": 5}, \"2\": {\"13\": 39, \"5\": 12, \"2\": 33, \"3\": 16, \"4\": 22, \"15\": 12, \"14\": 30, \"6\": 41, \"1\": 24, \"8\": 4, \"7\": 5, \"10\": 1, \"0\": 1}}, \"ORACLE.run1_32\": {\"11\": {\"14\": 53, \"11\": 109, \"3\": 25, \"7\": 15, \"13\": 10, \"5\": 14, \"0\": 4, \"8\": 7, \"4\": 2, \"2\": 1}, \"1\": {\"1\": 193, \"10\": 46, \"6\": 1}, \"2\": {\"2\": 89, \"0\": 36, \"4\": 53, \"5\": 20, \"7\": 20, \"13\": 14, \"8\": 5, \"9\": 3}, \"0\": {\"2\": 37, \"4\": 36, \"0\": 50, \"7\": 19, \"13\": 27, \"8\": 32, \"14\": 16, \"5\": 16, \"15\": 1, \"3\": 4, \"11\": 2}, \"3\": {\"15\": 14, \"14\": 17, \"13\": 29, \"11\": 28, \"3\": 118, \"5\": 13, \"8\": 10, \"4\": 1, \"7\": 8, \"0\": 2}, \"8\": {\"0\": 42, \"4\": 16, \"8\": 55, \"14\": 12, \"13\": 32, \"11\": 2, \"3\": 28, \"15\": 19, \"5\": 16, \"7\": 11, \"2\": 7}, \"12\": {\"12\": 188, \"6\": 28, \"9\": 23, \"10\": 1}, \"5\": {\"2\": 21, \"7\": 30, \"13\": 23, \"0\": 27, \"8\": 28, \"14\": 19, \"4\": 28, \"5\": 32, \"11\": 8, \"3\": 19, \"15\": 5}, \"15\": {\"15\": 191, \"3\": 23, \"8\": 14, \"13\": 9, \"0\": 1, \"5\": 2}, \"7\": {\"13\": 21, \"11\": 19, \"7\": 46, \"5\": 31, \"4\": 24, \"14\": 25, \"8\": 19, \"0\": 25, \"3\": 13, \"2\": 17}, \"4\": {\"0\": 42, \"2\": 41, \"4\": 49, \"5\": 23, \"13\": 13, \"8\": 27, \"7\": 34, \"14\": 6, \"15\": 2, \"3\": 3}, \"14\": {\"4\": 9, \"11\": 57, \"3\": 19, \"14\": 54, \"7\": 43, \"13\": 19, \"5\": 15, \"0\": 12, \"2\": 5, \"15\": 1, \"8\": 6}, \"10\": {\"10\": 196, \"6\": 6, \"1\": 37, \"12\": 1}, \"6\": {\"6\": 207, \"10\": 14, \"12\": 18, \"1\": 1}, \"13\": {\"8\": 44, \"15\": 9, \"13\": 39, \"5\": 29, \"0\": 20, \"4\": 23, \"7\": 21, \"3\": 26, \"14\": 15, \"2\": 9, \"11\": 5}, \"9\": {\"9\": 209, \"12\": 19, \"6\": 2, \"2\": 7, \"4\": 3}}, \"ORACLE.run1_8\": {\"9\": {\"9\": 218, \"5\": 8, \"10\": 6, \"13\": 1, \"11\": 5, \"7\": 1, \"1\": 1}, \"11\": {\"10\": 29, \"4\": 19, \"11\": 52, \"1\": 44, \"14\": 27, \"13\": 12, \"5\": 36, \"12\": 1, \"6\": 5, \"0\": 2, \"8\": 10, \"9\": 2, \"7\": 1}, \"8\": {\"15\": 42, \"12\": 27, \"11\": 12, \"2\": 4, \"8\": 56, \"0\": 5, \"7\": 19, \"6\": 27, \"14\": 10, \"4\": 14, \"1\": 8, \"13\": 8, \"10\": 5, \"5\": 2, \"3\": 1}, \"4\": {\"8\": 22, \"13\": 27, \"6\": 23, \"7\": 23, \"1\": 12, \"0\": 23, \"14\": 32, \"4\": 28, \"11\": 8, \"5\": 10, \"10\": 28, \"9\": 1, \"15\": 3}, \"13\": {\"10\": 23, \"0\": 38, \"6\": 28, \"13\": 33, \"15\": 6, \"14\": 29, \"4\": 28, \"11\": 7, \"7\": 13, \"1\": 9, \"5\": 4, \"12\": 3, \"8\": 17, \"9\": 2}, \"14\": {\"14\": 32, \"10\": 32, \"5\": 23, \"4\": 26, \"6\": 17, \"7\": 8, \"1\": 19, \"13\": 30, \"9\": 8, \"11\": 21, \"15\": 2, \"8\": 9, \"0\": 13}, \"2\": {\"2\": 68, \"15\": 25, \"0\": 12, \"3\": 66, \"12\": 32, \"8\": 5, \"7\": 17, \"4\": 3, \"6\": 10, \"13\": 2}, \"3\": {\"2\": 65, \"15\": 26, \"3\": 89, \"12\": 36, \"7\": 14, \"8\": 5, \"13\": 2, \"4\": 1, \"0\": 1, \"6\": 1}, \"1\": {\"1\": 50, \"10\": 28, \"4\": 22, \"5\": 33, \"13\": 9, \"8\": 21, \"11\": 46, \"6\": 9, \"14\": 20, \"9\": 1, \"15\": 1}, \"0\": {\"15\": 7, \"14\": 21, \"10\": 15, \"7\": 35, \"2\": 6, \"6\": 26, \"0\": 43, \"4\": 28, \"13\": 41, \"8\": 10, \"5\": 2, \"1\": 1, \"11\": 3, \"3\": 1, \"9\": 1}, \"5\": {\"9\": 27, \"14\": 22, \"11\": 43, \"5\": 62, \"1\": 30, \"6\": 3, \"4\": 14, \"13\": 6, \"10\": 26, \"8\": 3, \"7\": 3, \"0\": 1}, \"15\": {\"3\": 34, \"15\": 61, \"8\": 26, \"14\": 4, \"12\": 51, \"7\": 20, \"6\": 16, \"4\": 8, \"2\": 17, \"13\": 3}, \"10\": {\"14\": 24, \"8\": 8, \"0\": 13, \"13\": 30, \"4\": 28, \"6\": 20, \"11\": 21, \"7\": 7, \"10\": 31, \"5\": 22, \"9\": 7, \"1\": 28, \"15\": 1}, \"12\": {\"2\": 20, \"3\": 37, \"15\": 54, \"12\": 69, \"8\": 24, \"7\": 19, \"0\": 8, \"6\": 7, \"13\": 2}, \"6\": {\"0\": 28, \"14\": 19, \"10\": 16, \"12\": 10, \"15\": 15, \"7\": 40, \"5\": 1, \"4\": 23, \"8\": 25, \"6\": 27, \"1\": 5, \"13\": 18, \"2\": 5, \"11\": 3, \"3\": 3, \"9\": 2}, \"7\": {\"7\": 46, \"2\": 19, \"15\": 20, \"0\": 37, \"12\": 8, \"8\": 21, \"4\": 23, \"10\": 9, \"13\": 22, \"6\": 24, \"1\": 1, \"14\": 6, \"3\": 3, \"5\": 1}}}, \"per_domain_accuracy\": {\"CORES_5\": {\"accuracy\": 0.9980796089385475, \"source?\": true}, \"CORES_1\": {\"accuracy\": 0.9996603260869565, \"source?\": true}, \"CORES_3\": {\"accuracy\": 0.9994485294117647, \"source?\": true}, \"CORES_4\": {\"accuracy\": 0.999058734939759, \"source?\": true}, \"CORES_2\": {\"accuracy\": 1.0, \"source?\": true}, \"ORACLE.run1_26\": {\"accuracy\": 0.22552083333333334, \"source?\": false}, \"ORACLE.run1_44\": {\"accuracy\": 0.34817708333333336, \"source?\": false}, \"ORACLE.run1_50\": {\"accuracy\": 0.38697916666666665, \"source?\": false}, \"ORACLE.run1_38\": {\"accuracy\": 0.40234375, \"source?\": false}, \"ORACLE.run1_20\": {\"accuracy\": 0.17135416666666667, \"source?\": false}, \"ORACLE.run1_14\": {\"accuracy\": 0.36223958333333334, \"source?\": false}, \"ORACLE.run1_32\": {\"accuracy\": 0.4752604166666667, \"source?\": false}, \"ORACLE.run1_8\": {\"accuracy\": 0.2513020833333333, \"source?\": false}}}, \"history\": {\"epoch_indices\": [1, 2, 3, 4, 5, 6, 7, 8, 9], \"train_label_loss\": [0.024766858419568865, 0.0063082994033803845, 0.005273283309540617, 0.0036354897613011567, 0.003495575537972407, 0.0036362576239992853, 0.0028350606538877546, 0.0026670312862296214, 0.0016926119696214976], \"source_val_label_loss\": [0.007475129794329405, 0.008860417641699314, 0.010009093210101128, 0.00968735571950674, 0.009668055921792984, 0.006336130201816559, 0.008612452074885368, 0.010270399041473866, 0.0076112300157547], \"target_val_label_loss\": [2.3484668731689453, 2.1423447132110596, 2.4038844108581543, 2.481079339981079, 2.192002058029175, 2.5998377799987793, 2.759657859802246, 2.8255069255828857, 2.7427756786346436], \"source_val_acc_label\": [0.9986428571428572, 0.9990714285714286, 0.9991071428571429, 0.9988571428571429, 0.99925, 0.9993928571428572, 0.9994285714285714, 0.9994285714285714, 0.9995714285714286], \"target_val_acc_label\": [0.21380208333333334, 0.3006510416666667, 0.26927083333333335, 0.289453125, 0.32789713541666665, 0.26806640625, 0.2596028645833333, 0.2813802083333333, 0.31712239583333335]}, \"dataset_metrics\": {\"source\": {\"train\": {\"n_unique_x\": 175192, \"n_unique_y\": 58, \"n_batch/episode\": 6298}, \"val\": {\"n_unique_x\": 37151, \"n_unique_y\": 58, \"n_batch/episode\": 875}, \"test\": {\"n_unique_x\": 37548, \"n_unique_y\": 58, \"n_batch/episode\": 885}}, \"target\": {\"train\": {\"n_unique_x\": 179200, \"n_unique_y\": 16, \"n_batch/episode\": 6720}, \"val\": {\"n_unique_x\": 38400, \"n_unique_y\": 16, \"n_batch/episode\": 960}, \"test\": {\"n_unique_x\": 38400, \"n_unique_y\": 16, \"n_batch/episode\": 960}}}}'"
      ]
     },
     "execution_count": 29,
     "metadata": {},
     "output_type": "execute_result"
    }
   ],
   "source": [
    "json.dumps(experiment)"
   ]
  }
 ],
 "metadata": {
  "celltoolbar": "Tags",
  "kernelspec": {
   "display_name": "Python 3 (ipykernel)",
   "language": "python",
   "name": "python3"
  },
  "language_info": {
   "codemirror_mode": {
    "name": "ipython",
    "version": 3
   },
   "file_extension": ".py",
   "mimetype": "text/x-python",
   "name": "python",
   "nbconvert_exporter": "python",
   "pygments_lexer": "ipython3",
   "version": "3.8.12"
  },
  "papermill": {
   "default_parameters": {},
   "duration": 2469.133368,
   "end_time": "2022-03-21T14:05:53.536267",
   "environment_variables": {},
   "exception": null,
   "input_path": "/root/csc500-main/csc500-notebooks/templates/tl_ptn_template.ipynb",
   "output_path": "trial.ipynb",
   "parameters": {
    "parameters": {
     "BEST_MODEL_PATH": "./best_model.pth",
     "NUM_LOGS_PER_EPOCH": 10,
     "criteria_for_best": "target_accuracy",
     "dataset_seed": 7,
     "datasets": [
      {
       "domain_prefix": "CORES_",
       "domains": [
        1,
        2,
        3,
        4,
        5
       ],
       "episode_transforms": [],
       "labels": [
        "1-10.",
        "1-11.",
        "1-15.",
        "1-16.",
        "1-17.",
        "1-18.",
        "1-19.",
        "10-4.",
        "10-7.",
        "11-1.",
        "11-14.",
        "11-17.",
        "11-20.",
        "11-7.",
        "13-20.",
        "13-8.",
        "14-10.",
        "14-11.",
        "14-14.",
        "14-7.",
        "15-1.",
        "15-20.",
        "16-1.",
        "16-16.",
        "17-10.",
        "17-11.",
        "17-2.",
        "19-1.",
        "19-16.",
        "19-19.",
        "19-20.",
        "19-3.",
        "2-10.",
        "2-11.",
        "2-17.",
        "2-18.",
        "2-20.",
        "2-3.",
        "2-4.",
        "2-5.",
        "2-6.",
        "2-7.",
        "2-8.",
        "3-13.",
        "3-18.",
        "3-3.",
        "4-1.",
        "4-10.",
        "4-11.",
        "4-19.",
        "5-5.",
        "6-15.",
        "7-10.",
        "7-14.",
        "8-18.",
        "8-20.",
        "8-3.",
        "8-8."
       ],
       "num_examples_per_domain_per_label": -1,
       "pickle_path": "/root/csc500-main/datasets/cores.stratified_ds.2022A.pkl",
       "source_or_target_dataset": "source",
       "x_transforms": [
        "unit_mag"
       ]
      },
      {
       "domain_prefix": "ORACLE.run1_",
       "domains": [
        32,
        38,
        8,
        44,
        14,
        50,
        20,
        26
       ],
       "episode_transforms": [],
       "labels": [
        "3123D52",
        "3123D65",
        "3123D79",
        "3123D80",
        "3123D54",
        "3123D70",
        "3123D7B",
        "3123D89",
        "3123D58",
        "3123D76",
        "3123D7D",
        "3123EFE",
        "3123D64",
        "3123D78",
        "3123D7E",
        "3124E4A"
       ],
       "num_examples_per_domain_per_label": 2000,
       "pickle_path": "/root/csc500-main/datasets/oracle.Run1_framed_2000Examples_stratified_ds.2022A.pkl",
       "source_or_target_dataset": "target",
       "x_transforms": [
        "unit_mag"
       ]
      }
     ],
     "device": "cuda",
     "experiment_name": "tl_1v2:cores-oracle.run1.framed",
     "lr": 0.0001,
     "n_epoch": 50,
     "n_query": 2,
     "n_shot": 3,
     "n_way": 16,
     "patience": 3,
     "seed": 7,
     "test_k_factor": 2,
     "torch_default_dtype": "torch.float32",
     "train_k_factor": 3,
     "val_k_factor": 2,
     "x_net": [
      {
       "class": "nnReshape",
       "kargs": {
        "shape": [
         -1,
         1,
         2,
         256
        ]
       }
      },
      {
       "class": "Conv2d",
       "kargs": {
        "bias": false,
        "in_channels": 1,
        "kernel_size": [
         1,
         7
        ],
        "out_channels": 256,
        "padding": [
         0,
         3
        ]
       }
      },
      {
       "class": "ReLU",
       "kargs": {
        "inplace": true
       }
      },
      {
       "class": "BatchNorm2d",
       "kargs": {
        "num_features": 256
       }
      },
      {
       "class": "Conv2d",
       "kargs": {
        "bias": true,
        "in_channels": 256,
        "kernel_size": [
         2,
         7
        ],
        "out_channels": 80,
        "padding": [
         0,
         3
        ]
       }
      },
      {
       "class": "ReLU",
       "kargs": {
        "inplace": true
       }
      },
      {
       "class": "BatchNorm2d",
       "kargs": {
        "num_features": 80
       }
      },
      {
       "class": "Flatten",
       "kargs": {}
      },
      {
       "class": "Linear",
       "kargs": {
        "in_features": 20480,
        "out_features": 256
       }
      },
      {
       "class": "ReLU",
       "kargs": {
        "inplace": true
       }
      },
      {
       "class": "BatchNorm1d",
       "kargs": {
        "num_features": 256
       }
      },
      {
       "class": "Linear",
       "kargs": {
        "in_features": 256,
        "out_features": 256
       }
      }
     ]
    }
   },
   "start_time": "2022-03-21T13:24:44.402899",
   "version": "2.3.4"
  }
 },
 "nbformat": 4,
 "nbformat_minor": 5
}