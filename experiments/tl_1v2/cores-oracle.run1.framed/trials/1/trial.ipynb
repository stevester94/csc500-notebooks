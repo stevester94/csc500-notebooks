{
 "cells": [
  {
   "cell_type": "markdown",
   "id": "9fea5f46",
   "metadata": {
    "papermill": {
     "duration": 0.054864,
     "end_time": "2022-03-21T02:29:49.075011",
     "exception": false,
     "start_time": "2022-03-21T02:29:49.020147",
     "status": "completed"
    },
    "tags": []
   },
   "source": [
    "# Transfer Learning Template"
   ]
  },
  {
   "cell_type": "code",
   "execution_count": 1,
   "id": "0902182a",
   "metadata": {
    "execution": {
     "iopub.execute_input": "2022-03-21T02:29:49.133953Z",
     "iopub.status.busy": "2022-03-21T02:29:49.133087Z",
     "iopub.status.idle": "2022-03-21T02:29:51.023405Z",
     "shell.execute_reply": "2022-03-21T02:29:51.022527Z"
    },
    "papermill": {
     "duration": 1.929089,
     "end_time": "2022-03-21T02:29:51.023617",
     "exception": false,
     "start_time": "2022-03-21T02:29:49.094528",
     "status": "completed"
    },
    "tags": []
   },
   "outputs": [],
   "source": [
    "%load_ext autoreload\n",
    "%autoreload 2\n",
    "%matplotlib inline\n",
    "\n",
    "    \n",
    "import os, json, sys, time, random\n",
    "import numpy as np\n",
    "import torch\n",
    "from torch.optim import Adam\n",
    "from  easydict import EasyDict\n",
    "import matplotlib.pyplot as plt\n",
    "\n",
    "from steves_models.steves_ptn import Steves_Prototypical_Network\n",
    "\n",
    "from steves_utils.lazy_iterable_wrapper import Lazy_Iterable_Wrapper\n",
    "from steves_utils.iterable_aggregator import Iterable_Aggregator\n",
    "from steves_utils.ptn_train_eval_test_jig import  PTN_Train_Eval_Test_Jig\n",
    "from steves_utils.torch_sequential_builder import build_sequential\n",
    "from steves_utils.torch_utils import get_dataset_metrics, ptn_confusion_by_domain_over_dataloader\n",
    "from steves_utils.utils_v2 import (per_domain_accuracy_from_confusion, get_datasets_base_path)\n",
    "from steves_utils.PTN.utils import independent_accuracy_assesment\n",
    "\n",
    "from torch.utils.data import DataLoader\n",
    "\n",
    "from steves_utils.stratified_dataset.episodic_accessor import Episodic_Accessor_Factory\n",
    "\n",
    "from steves_utils.ptn_do_report import (\n",
    "    get_loss_curve,\n",
    "    get_results_table,\n",
    "    get_parameters_table,\n",
    "    get_domain_accuracies,\n",
    ")\n",
    "\n",
    "from steves_utils.transforms import get_chained_transform"
   ]
  },
  {
   "cell_type": "markdown",
   "id": "41c840b4",
   "metadata": {
    "papermill": {
     "duration": 0.018978,
     "end_time": "2022-03-21T02:29:51.067173",
     "exception": false,
     "start_time": "2022-03-21T02:29:51.048195",
     "status": "completed"
    },
    "tags": []
   },
   "source": [
    "# Allowed Parameters\n",
    "These are allowed parameters, not defaults\n",
    "Each of these values need to be present in the injected parameters (the notebook will raise an exception if they are not present)\n",
    "\n",
    "Papermill uses the cell tag \"parameters\" to inject the real parameters below this cell.\n",
    "Enable tags to see what I mean"
   ]
  },
  {
   "cell_type": "code",
   "execution_count": 2,
   "id": "fd44eb83",
   "metadata": {
    "execution": {
     "iopub.execute_input": "2022-03-21T02:29:51.115155Z",
     "iopub.status.busy": "2022-03-21T02:29:51.114555Z",
     "iopub.status.idle": "2022-03-21T02:29:51.137500Z",
     "shell.execute_reply": "2022-03-21T02:29:51.136670Z"
    },
    "papermill": {
     "duration": 0.05166,
     "end_time": "2022-03-21T02:29:51.137669",
     "exception": false,
     "start_time": "2022-03-21T02:29:51.086009",
     "status": "completed"
    },
    "tags": []
   },
   "outputs": [],
   "source": [
    "required_parameters = {\n",
    "    \"experiment_name\",\n",
    "    \"lr\",\n",
    "    \"device\",\n",
    "    \"seed\",\n",
    "    \"dataset_seed\",\n",
    "    \"n_shot\",\n",
    "    \"n_query\",\n",
    "    \"n_way\",\n",
    "    \"train_k_factor\",\n",
    "    \"val_k_factor\",\n",
    "    \"test_k_factor\",\n",
    "    \"n_epoch\",\n",
    "    \"patience\",\n",
    "    \"criteria_for_best\",\n",
    "    \"x_net\",\n",
    "    \"datasets\",\n",
    "    \"torch_default_dtype\",\n",
    "    \"NUM_LOGS_PER_EPOCH\",\n",
    "    \"BEST_MODEL_PATH\",\n",
    "    \"x_shape\",\n",
    "}"
   ]
  },
  {
   "cell_type": "code",
   "execution_count": 3,
   "id": "fa3f0049",
   "metadata": {
    "execution": {
     "iopub.execute_input": "2022-03-21T02:29:51.194964Z",
     "iopub.status.busy": "2022-03-21T02:29:51.194051Z",
     "iopub.status.idle": "2022-03-21T02:29:51.215896Z",
     "shell.execute_reply": "2022-03-21T02:29:51.215050Z"
    },
    "papermill": {
     "duration": 0.053319,
     "end_time": "2022-03-21T02:29:51.216056",
     "exception": false,
     "start_time": "2022-03-21T02:29:51.162737",
     "status": "completed"
    },
    "tags": [
     "parameters"
    ]
   },
   "outputs": [],
   "source": [
    "from steves_utils.CORES.utils import (\n",
    "    ALL_NODES,\n",
    "    ALL_NODES_MINIMUM_1000_EXAMPLES,\n",
    "    ALL_DAYS\n",
    ")\n",
    "\n",
    "from steves_utils.ORACLE.utils_v2 import (\n",
    "    ALL_DISTANCES_FEET_NARROWED,\n",
    "    ALL_RUNS,\n",
    "    ALL_SERIAL_NUMBERS,\n",
    ")\n",
    "\n",
    "standalone_parameters = {}\n",
    "standalone_parameters[\"experiment_name\"] = \"STANDALONE PTN\"\n",
    "standalone_parameters[\"lr\"] = 0.001\n",
    "standalone_parameters[\"device\"] = \"cuda\"\n",
    "\n",
    "standalone_parameters[\"seed\"] = 1337\n",
    "standalone_parameters[\"dataset_seed\"] = 1337\n",
    "\n",
    "standalone_parameters[\"n_way\"] = 8\n",
    "standalone_parameters[\"n_shot\"] = 3\n",
    "standalone_parameters[\"n_query\"]  = 2\n",
    "standalone_parameters[\"train_k_factor\"] = 1\n",
    "standalone_parameters[\"val_k_factor\"] = 2\n",
    "standalone_parameters[\"test_k_factor\"] = 2\n",
    "\n",
    "\n",
    "standalone_parameters[\"n_epoch\"] = 50\n",
    "\n",
    "standalone_parameters[\"patience\"] = 10\n",
    "standalone_parameters[\"criteria_for_best\"] = \"source_loss\"\n",
    "\n",
    "standalone_parameters[\"datasets\"] = [\n",
    "    {\n",
    "        \"labels\": ALL_SERIAL_NUMBERS,\n",
    "        \"domains\": ALL_DISTANCES_FEET_NARROWED,\n",
    "        \"num_examples_per_domain_per_label\": 100,\n",
    "        \"pickle_path\": os.path.join(get_datasets_base_path(), \"oracle.Run1_framed_2000Examples_stratified_ds.2022A.pkl\"),\n",
    "        \"source_or_target_dataset\": \"source\",\n",
    "        \"x_transforms\": [\"unit_mag\", \"minus_two\"],\n",
    "        \"episode_transforms\": [],\n",
    "        \"domain_prefix\": \"ORACLE_\"\n",
    "    },\n",
    "    {\n",
    "        \"labels\": ALL_NODES,\n",
    "        \"domains\": ALL_DAYS,\n",
    "        \"num_examples_per_domain_per_label\": 100,\n",
    "        \"pickle_path\": os.path.join(get_datasets_base_path(), \"cores.stratified_ds.2022A.pkl\"),\n",
    "        \"source_or_target_dataset\": \"target\",\n",
    "        \"x_transforms\": [\"unit_power\", \"times_zero\"],\n",
    "        \"episode_transforms\": [],\n",
    "        \"domain_prefix\": \"CORES_\"\n",
    "    }   \n",
    "]\n",
    "\n",
    "standalone_parameters[\"torch_default_dtype\"] = \"torch.float32\" \n",
    "\n",
    "\n",
    "\n",
    "standalone_parameters[\"x_net\"] =     [\n",
    "    {\"class\": \"nnReshape\", \"kargs\": {\"shape\":[-1, 1, 2, 256]}},\n",
    "    {\"class\": \"Conv2d\", \"kargs\": { \"in_channels\":1, \"out_channels\":256, \"kernel_size\":(1,7), \"bias\":False, \"padding\":(0,3), },},\n",
    "    {\"class\": \"ReLU\", \"kargs\": {\"inplace\": True}},\n",
    "    {\"class\": \"BatchNorm2d\", \"kargs\": {\"num_features\":256}},\n",
    "\n",
    "    {\"class\": \"Conv2d\", \"kargs\": { \"in_channels\":256, \"out_channels\":80, \"kernel_size\":(2,7), \"bias\":True, \"padding\":(0,3), },},\n",
    "    {\"class\": \"ReLU\", \"kargs\": {\"inplace\": True}},\n",
    "    {\"class\": \"BatchNorm2d\", \"kargs\": {\"num_features\":80}},\n",
    "    {\"class\": \"Flatten\", \"kargs\": {}},\n",
    "\n",
    "    {\"class\": \"Linear\", \"kargs\": {\"in_features\": 80*256, \"out_features\": 256}}, # 80 units per IQ pair\n",
    "    {\"class\": \"ReLU\", \"kargs\": {\"inplace\": True}},\n",
    "    {\"class\": \"BatchNorm1d\", \"kargs\": {\"num_features\":256}},\n",
    "\n",
    "    {\"class\": \"Linear\", \"kargs\": {\"in_features\": 256, \"out_features\": 256}},\n",
    "]\n",
    "\n",
    "# Parameters relevant to results\n",
    "# These parameters will basically never need to change\n",
    "standalone_parameters[\"NUM_LOGS_PER_EPOCH\"] = 10\n",
    "standalone_parameters[\"BEST_MODEL_PATH\"] = \"./best_model.pth\"\n",
    "\n",
    "\n",
    "\n",
    "\n"
   ]
  },
  {
   "cell_type": "code",
   "execution_count": 4,
   "id": "dc8b7494",
   "metadata": {
    "execution": {
     "iopub.execute_input": "2022-03-21T02:29:51.274051Z",
     "iopub.status.busy": "2022-03-21T02:29:51.273082Z",
     "iopub.status.idle": "2022-03-21T02:29:51.294250Z",
     "shell.execute_reply": "2022-03-21T02:29:51.293435Z"
    },
    "papermill": {
     "duration": 0.054453,
     "end_time": "2022-03-21T02:29:51.294408",
     "exception": false,
     "start_time": "2022-03-21T02:29:51.239955",
     "status": "completed"
    },
    "tags": [
     "injected-parameters"
    ]
   },
   "outputs": [],
   "source": [
    "# Parameters\n",
    "parameters = {\n",
    "    \"experiment_name\": \"tl_1v2:cores-oracle.run1.framed\",\n",
    "    \"device\": \"cuda\",\n",
    "    \"lr\": 0.0001,\n",
    "    \"n_shot\": 3,\n",
    "    \"n_query\": 2,\n",
    "    \"train_k_factor\": 3,\n",
    "    \"val_k_factor\": 2,\n",
    "    \"test_k_factor\": 2,\n",
    "    \"torch_default_dtype\": \"torch.float32\",\n",
    "    \"n_epoch\": 50,\n",
    "    \"patience\": 3,\n",
    "    \"criteria_for_best\": \"target_accuracy\",\n",
    "    \"x_net\": [\n",
    "        {\"class\": \"nnReshape\", \"kargs\": {\"shape\": [-1, 1, 2, 256]}},\n",
    "        {\n",
    "            \"class\": \"Conv2d\",\n",
    "            \"kargs\": {\n",
    "                \"in_channels\": 1,\n",
    "                \"out_channels\": 256,\n",
    "                \"kernel_size\": [1, 7],\n",
    "                \"bias\": False,\n",
    "                \"padding\": [0, 3],\n",
    "            },\n",
    "        },\n",
    "        {\"class\": \"ReLU\", \"kargs\": {\"inplace\": True}},\n",
    "        {\"class\": \"BatchNorm2d\", \"kargs\": {\"num_features\": 256}},\n",
    "        {\n",
    "            \"class\": \"Conv2d\",\n",
    "            \"kargs\": {\n",
    "                \"in_channels\": 256,\n",
    "                \"out_channels\": 80,\n",
    "                \"kernel_size\": [2, 7],\n",
    "                \"bias\": True,\n",
    "                \"padding\": [0, 3],\n",
    "            },\n",
    "        },\n",
    "        {\"class\": \"ReLU\", \"kargs\": {\"inplace\": True}},\n",
    "        {\"class\": \"BatchNorm2d\", \"kargs\": {\"num_features\": 80}},\n",
    "        {\"class\": \"Flatten\", \"kargs\": {}},\n",
    "        {\"class\": \"Linear\", \"kargs\": {\"in_features\": 20480, \"out_features\": 256}},\n",
    "        {\"class\": \"ReLU\", \"kargs\": {\"inplace\": True}},\n",
    "        {\"class\": \"BatchNorm1d\", \"kargs\": {\"num_features\": 256}},\n",
    "        {\"class\": \"Linear\", \"kargs\": {\"in_features\": 256, \"out_features\": 256}},\n",
    "    ],\n",
    "    \"NUM_LOGS_PER_EPOCH\": 10,\n",
    "    \"BEST_MODEL_PATH\": \"./best_model.pth\",\n",
    "    \"n_way\": 16,\n",
    "    \"datasets\": [\n",
    "        {\n",
    "            \"labels\": [\n",
    "                \"1-10.\",\n",
    "                \"1-11.\",\n",
    "                \"1-15.\",\n",
    "                \"1-16.\",\n",
    "                \"1-17.\",\n",
    "                \"1-18.\",\n",
    "                \"1-19.\",\n",
    "                \"10-4.\",\n",
    "                \"10-7.\",\n",
    "                \"11-1.\",\n",
    "                \"11-14.\",\n",
    "                \"11-17.\",\n",
    "                \"11-20.\",\n",
    "                \"11-7.\",\n",
    "                \"13-20.\",\n",
    "                \"13-8.\",\n",
    "                \"14-10.\",\n",
    "                \"14-11.\",\n",
    "                \"14-14.\",\n",
    "                \"14-7.\",\n",
    "                \"15-1.\",\n",
    "                \"15-20.\",\n",
    "                \"16-1.\",\n",
    "                \"16-16.\",\n",
    "                \"17-10.\",\n",
    "                \"17-11.\",\n",
    "                \"17-2.\",\n",
    "                \"19-1.\",\n",
    "                \"19-16.\",\n",
    "                \"19-19.\",\n",
    "                \"19-20.\",\n",
    "                \"19-3.\",\n",
    "                \"2-10.\",\n",
    "                \"2-11.\",\n",
    "                \"2-17.\",\n",
    "                \"2-18.\",\n",
    "                \"2-20.\",\n",
    "                \"2-3.\",\n",
    "                \"2-4.\",\n",
    "                \"2-5.\",\n",
    "                \"2-6.\",\n",
    "                \"2-7.\",\n",
    "                \"2-8.\",\n",
    "                \"3-13.\",\n",
    "                \"3-18.\",\n",
    "                \"3-3.\",\n",
    "                \"4-1.\",\n",
    "                \"4-10.\",\n",
    "                \"4-11.\",\n",
    "                \"4-19.\",\n",
    "                \"5-5.\",\n",
    "                \"6-15.\",\n",
    "                \"7-10.\",\n",
    "                \"7-14.\",\n",
    "                \"8-18.\",\n",
    "                \"8-20.\",\n",
    "                \"8-3.\",\n",
    "                \"8-8.\",\n",
    "            ],\n",
    "            \"domains\": [1, 2, 3, 4, 5],\n",
    "            \"num_examples_per_domain_per_label\": -1,\n",
    "            \"pickle_path\": \"/root/csc500-main/datasets/cores.stratified_ds.2022A.pkl\",\n",
    "            \"source_or_target_dataset\": \"source\",\n",
    "            \"x_transforms\": [\"unit_mag\"],\n",
    "            \"episode_transforms\": [],\n",
    "            \"domain_prefix\": \"CORES_\",\n",
    "        },\n",
    "        {\n",
    "            \"labels\": [\n",
    "                \"3123D52\",\n",
    "                \"3123D65\",\n",
    "                \"3123D79\",\n",
    "                \"3123D80\",\n",
    "                \"3123D54\",\n",
    "                \"3123D70\",\n",
    "                \"3123D7B\",\n",
    "                \"3123D89\",\n",
    "                \"3123D58\",\n",
    "                \"3123D76\",\n",
    "                \"3123D7D\",\n",
    "                \"3123EFE\",\n",
    "                \"3123D64\",\n",
    "                \"3123D78\",\n",
    "                \"3123D7E\",\n",
    "                \"3124E4A\",\n",
    "            ],\n",
    "            \"domains\": [32, 38, 8, 44, 14, 50, 20, 26],\n",
    "            \"num_examples_per_domain_per_label\": 2000,\n",
    "            \"pickle_path\": \"/root/csc500-main/datasets/oracle.Run1_framed_2000Examples_stratified_ds.2022A.pkl\",\n",
    "            \"source_or_target_dataset\": \"target\",\n",
    "            \"x_transforms\": [\"unit_mag\"],\n",
    "            \"episode_transforms\": [],\n",
    "            \"domain_prefix\": \"ORACLE.run1_\",\n",
    "        },\n",
    "    ],\n",
    "    \"dataset_seed\": 1337,\n",
    "    \"seed\": 1337,\n",
    "}\n"
   ]
  },
  {
   "cell_type": "code",
   "execution_count": 5,
   "id": "8fa1cc33",
   "metadata": {
    "execution": {
     "iopub.execute_input": "2022-03-21T02:29:51.344662Z",
     "iopub.status.busy": "2022-03-21T02:29:51.343303Z",
     "iopub.status.idle": "2022-03-21T02:29:51.365744Z",
     "shell.execute_reply": "2022-03-21T02:29:51.364948Z"
    },
    "papermill": {
     "duration": 0.046984,
     "end_time": "2022-03-21T02:29:51.365900",
     "exception": false,
     "start_time": "2022-03-21T02:29:51.318916",
     "status": "completed"
    },
    "tags": []
   },
   "outputs": [],
   "source": [
    "# Set this to True if you want to run this template directly\n",
    "STANDALONE = False\n",
    "if STANDALONE:\n",
    "    print(\"parameters not injected, running with standalone_parameters\")\n",
    "    parameters = standalone_parameters\n",
    "\n",
    "if not 'parameters' in locals() and not 'parameters' in globals():\n",
    "    raise Exception(\"Parameter injection failed\")\n",
    "\n",
    "#Use an easy dict for all the parameters\n",
    "p = EasyDict(parameters)\n",
    "\n",
    "if \"x_shape\" not in p:\n",
    "    p.x_shape = [2,256] # Default to this if we dont supply x_shape\n",
    "\n",
    "\n",
    "supplied_keys = set(p.keys())\n",
    "\n",
    "if  supplied_keys != required_parameters:\n",
    "    print(\"Parameters are incorrect\")\n",
    "    if len(supplied_keys - required_parameters)>0: print(\"Shouldn't have:\", str(supplied_keys - required_parameters))\n",
    "    if len(required_parameters - supplied_keys)>0: print(\"Need to have:\", str(required_parameters - supplied_keys))\n",
    "    raise RuntimeError(\"Parameters are incorrect\")"
   ]
  },
  {
   "cell_type": "code",
   "execution_count": 6,
   "id": "3a028d58",
   "metadata": {
    "execution": {
     "iopub.execute_input": "2022-03-21T02:29:51.415369Z",
     "iopub.status.busy": "2022-03-21T02:29:51.414806Z",
     "iopub.status.idle": "2022-03-21T02:29:51.437471Z",
     "shell.execute_reply": "2022-03-21T02:29:51.436656Z"
    },
    "papermill": {
     "duration": 0.047081,
     "end_time": "2022-03-21T02:29:51.437626",
     "exception": false,
     "start_time": "2022-03-21T02:29:51.390545",
     "status": "completed"
    },
    "tags": []
   },
   "outputs": [],
   "source": [
    "###################################\n",
    "# Set the RNGs and make it all deterministic\n",
    "###################################\n",
    "np.random.seed(p.seed)\n",
    "random.seed(p.seed)\n",
    "torch.manual_seed(p.seed)\n",
    "\n",
    "torch.use_deterministic_algorithms(True) "
   ]
  },
  {
   "cell_type": "code",
   "execution_count": 7,
   "id": "b691acf6",
   "metadata": {
    "execution": {
     "iopub.execute_input": "2022-03-21T02:29:51.486171Z",
     "iopub.status.busy": "2022-03-21T02:29:51.485803Z",
     "iopub.status.idle": "2022-03-21T02:29:51.508452Z",
     "shell.execute_reply": "2022-03-21T02:29:51.507641Z"
    },
    "papermill": {
     "duration": 0.046028,
     "end_time": "2022-03-21T02:29:51.508607",
     "exception": false,
     "start_time": "2022-03-21T02:29:51.462579",
     "status": "completed"
    },
    "tags": []
   },
   "outputs": [],
   "source": [
    "###########################################\n",
    "# The stratified datasets honor this\n",
    "###########################################\n",
    "torch.set_default_dtype(eval(p.torch_default_dtype))"
   ]
  },
  {
   "cell_type": "code",
   "execution_count": 8,
   "id": "b5fba671",
   "metadata": {
    "execution": {
     "iopub.execute_input": "2022-03-21T02:29:51.558248Z",
     "iopub.status.busy": "2022-03-21T02:29:51.557879Z",
     "iopub.status.idle": "2022-03-21T02:29:51.610876Z",
     "shell.execute_reply": "2022-03-21T02:29:51.610163Z"
    },
    "papermill": {
     "duration": 0.074605,
     "end_time": "2022-03-21T02:29:51.611032",
     "exception": false,
     "start_time": "2022-03-21T02:29:51.536427",
     "status": "completed"
    },
    "tags": []
   },
   "outputs": [],
   "source": [
    "###################################\n",
    "# Build the network(s)\n",
    "# Note: It's critical to do this AFTER setting the RNG\n",
    "###################################\n",
    "x_net = build_sequential(p.x_net)"
   ]
  },
  {
   "cell_type": "code",
   "execution_count": 9,
   "id": "5d7e61cc",
   "metadata": {
    "execution": {
     "iopub.execute_input": "2022-03-21T02:29:51.657811Z",
     "iopub.status.busy": "2022-03-21T02:29:51.657446Z",
     "iopub.status.idle": "2022-03-21T02:29:51.678817Z",
     "shell.execute_reply": "2022-03-21T02:29:51.677991Z"
    },
    "papermill": {
     "duration": 0.043131,
     "end_time": "2022-03-21T02:29:51.678975",
     "exception": false,
     "start_time": "2022-03-21T02:29:51.635844",
     "status": "completed"
    },
    "tags": []
   },
   "outputs": [],
   "source": [
    "start_time_secs = time.time()"
   ]
  },
  {
   "cell_type": "code",
   "execution_count": 10,
   "id": "c6b67dfd",
   "metadata": {
    "execution": {
     "iopub.execute_input": "2022-03-21T02:29:51.731431Z",
     "iopub.status.busy": "2022-03-21T02:29:51.730465Z",
     "iopub.status.idle": "2022-03-21T02:29:51.750896Z",
     "shell.execute_reply": "2022-03-21T02:29:51.750081Z"
    },
    "papermill": {
     "duration": 0.044848,
     "end_time": "2022-03-21T02:29:51.751049",
     "exception": false,
     "start_time": "2022-03-21T02:29:51.706201",
     "status": "completed"
    },
    "tags": []
   },
   "outputs": [],
   "source": [
    "p.domains_source = []\n",
    "p.domains_target = []\n",
    "\n",
    "\n",
    "train_original_source = []\n",
    "val_original_source   = []\n",
    "test_original_source  = []\n",
    "\n",
    "train_original_target = []\n",
    "val_original_target   = []\n",
    "test_original_target  = []"
   ]
  },
  {
   "cell_type": "code",
   "execution_count": 11,
   "id": "e3d9c3d3",
   "metadata": {
    "execution": {
     "iopub.execute_input": "2022-03-21T02:29:51.798898Z",
     "iopub.status.busy": "2022-03-21T02:29:51.798227Z",
     "iopub.status.idle": "2022-03-21T02:29:51.820084Z",
     "shell.execute_reply": "2022-03-21T02:29:51.819258Z"
    },
    "papermill": {
     "duration": 0.043804,
     "end_time": "2022-03-21T02:29:51.820241",
     "exception": false,
     "start_time": "2022-03-21T02:29:51.776437",
     "status": "completed"
    },
    "tags": []
   },
   "outputs": [],
   "source": [
    "# global_x_transform_func = lambda x: normalize(x.to(torch.get_default_dtype()), \"unit_power\") # unit_power, unit_mag\n",
    "# global_x_transform_func = lambda x: normalize(x, \"unit_power\") # unit_power, unit_mag"
   ]
  },
  {
   "cell_type": "code",
   "execution_count": 12,
   "id": "acb78fd2",
   "metadata": {
    "execution": {
     "iopub.execute_input": "2022-03-21T02:29:51.875089Z",
     "iopub.status.busy": "2022-03-21T02:29:51.874505Z",
     "iopub.status.idle": "2022-03-21T02:29:51.894624Z",
     "shell.execute_reply": "2022-03-21T02:29:51.893816Z"
    },
    "papermill": {
     "duration": 0.046182,
     "end_time": "2022-03-21T02:29:51.894781",
     "exception": false,
     "start_time": "2022-03-21T02:29:51.848599",
     "status": "completed"
    },
    "tags": []
   },
   "outputs": [],
   "source": [
    "def add_dataset(\n",
    "    labels,\n",
    "    domains,\n",
    "    pickle_path,\n",
    "    x_transforms,\n",
    "    episode_transforms,\n",
    "    domain_prefix,\n",
    "    num_examples_per_domain_per_label,\n",
    "    source_or_target_dataset:str,\n",
    "    iterator_seed=p.seed,\n",
    "    dataset_seed=p.dataset_seed,\n",
    "    n_shot=p.n_shot,\n",
    "    n_way=p.n_way,\n",
    "    n_query=p.n_query,\n",
    "    train_val_test_k_factors=(p.train_k_factor,p.val_k_factor,p.test_k_factor),\n",
    "):\n",
    "   \n",
    "    if x_transforms == []: x_transform = None\n",
    "    else: x_transform = get_chained_transform(x_transforms)\n",
    "    \n",
    "    if episode_transforms == []: episode_transform = None\n",
    "    else: raise Exception(\"episode_transforms not implemented\")\n",
    "    \n",
    "    episode_transform = lambda tup, _prefix=domain_prefix: (_prefix + str(tup[0]), tup[1])\n",
    "\n",
    "\n",
    "    eaf = Episodic_Accessor_Factory(\n",
    "        labels=labels,\n",
    "        domains=domains,\n",
    "        num_examples_per_domain_per_label=num_examples_per_domain_per_label,\n",
    "        iterator_seed=iterator_seed,\n",
    "        dataset_seed=dataset_seed,\n",
    "        n_shot=n_shot,\n",
    "        n_way=n_way,\n",
    "        n_query=n_query,\n",
    "        train_val_test_k_factors=train_val_test_k_factors,\n",
    "        pickle_path=pickle_path,\n",
    "        x_transform_func=x_transform,\n",
    "    )\n",
    "\n",
    "    train, val, test = eaf.get_train(), eaf.get_val(), eaf.get_test()\n",
    "    train = Lazy_Iterable_Wrapper(train, episode_transform)\n",
    "    val = Lazy_Iterable_Wrapper(val, episode_transform)\n",
    "    test = Lazy_Iterable_Wrapper(test, episode_transform)\n",
    "\n",
    "    if source_or_target_dataset==\"source\":\n",
    "        train_original_source.append(train)\n",
    "        val_original_source.append(val)\n",
    "        test_original_source.append(test)\n",
    "\n",
    "        p.domains_source.extend(\n",
    "            [domain_prefix + str(u) for u in domains]\n",
    "        )\n",
    "    elif source_or_target_dataset==\"target\":\n",
    "        train_original_target.append(train)\n",
    "        val_original_target.append(val)\n",
    "        test_original_target.append(test)\n",
    "        p.domains_target.extend(\n",
    "            [domain_prefix + str(u) for u in domains]\n",
    "        )\n",
    "    else:\n",
    "        raise Exception(f\"invalid source_or_target_dataset: {source_or_target_dataset}\")\n",
    "    "
   ]
  },
  {
   "cell_type": "code",
   "execution_count": 13,
   "id": "fe266617",
   "metadata": {
    "execution": {
     "iopub.execute_input": "2022-03-21T02:29:51.941865Z",
     "iopub.status.busy": "2022-03-21T02:29:51.941501Z",
     "iopub.status.idle": "2022-03-21T02:30:34.240588Z",
     "shell.execute_reply": "2022-03-21T02:30:34.239837Z"
    },
    "papermill": {
     "duration": 42.321178,
     "end_time": "2022-03-21T02:30:34.240784",
     "exception": false,
     "start_time": "2022-03-21T02:29:51.919606",
     "status": "completed"
    },
    "tags": []
   },
   "outputs": [],
   "source": [
    "for ds in p.datasets:\n",
    "    add_dataset(**ds)"
   ]
  },
  {
   "cell_type": "code",
   "execution_count": 14,
   "id": "b90d65ac",
   "metadata": {
    "execution": {
     "iopub.execute_input": "2022-03-21T02:30:34.289936Z",
     "iopub.status.busy": "2022-03-21T02:30:34.289563Z",
     "iopub.status.idle": "2022-03-21T02:30:34.314299Z",
     "shell.execute_reply": "2022-03-21T02:30:34.313534Z"
    },
    "papermill": {
     "duration": 0.047348,
     "end_time": "2022-03-21T02:30:34.314467",
     "exception": false,
     "start_time": "2022-03-21T02:30:34.267119",
     "status": "completed"
    },
    "tags": []
   },
   "outputs": [],
   "source": [
    "# from steves_utils.CORES.utils import (\n",
    "#     ALL_NODES,\n",
    "#     ALL_NODES_MINIMUM_1000_EXAMPLES,\n",
    "#     ALL_DAYS\n",
    "# )\n",
    "\n",
    "# add_dataset(\n",
    "#     labels=ALL_NODES,\n",
    "#     domains = ALL_DAYS,\n",
    "#     num_examples_per_domain_per_label=100,\n",
    "#     pickle_path=os.path.join(get_datasets_base_path(), \"cores.stratified_ds.2022A.pkl\"),\n",
    "#     source_or_target_dataset=\"target\",\n",
    "#     x_transform_func=global_x_transform_func,\n",
    "#     domain_modifier=lambda u: f\"cores_{u}\"\n",
    "# )"
   ]
  },
  {
   "cell_type": "code",
   "execution_count": 15,
   "id": "76db484d",
   "metadata": {
    "execution": {
     "iopub.execute_input": "2022-03-21T02:30:34.364629Z",
     "iopub.status.busy": "2022-03-21T02:30:34.364162Z",
     "iopub.status.idle": "2022-03-21T02:30:34.385808Z",
     "shell.execute_reply": "2022-03-21T02:30:34.384997Z"
    },
    "papermill": {
     "duration": 0.045367,
     "end_time": "2022-03-21T02:30:34.385982",
     "exception": false,
     "start_time": "2022-03-21T02:30:34.340615",
     "status": "completed"
    },
    "tags": []
   },
   "outputs": [],
   "source": [
    "# from steves_utils.ORACLE.utils_v2 import (\n",
    "#     ALL_DISTANCES_FEET,\n",
    "#     ALL_RUNS,\n",
    "#     ALL_SERIAL_NUMBERS,\n",
    "# )\n",
    "\n",
    "\n",
    "# add_dataset(\n",
    "#     labels=ALL_SERIAL_NUMBERS,\n",
    "#     domains = list(set(ALL_DISTANCES_FEET) - {2,62}),\n",
    "#     num_examples_per_domain_per_label=100,\n",
    "#     pickle_path=os.path.join(get_datasets_base_path(), \"oracle.Run2_framed_2000Examples_stratified_ds.2022A.pkl\"),\n",
    "#     source_or_target_dataset=\"source\",\n",
    "#     x_transform_func=global_x_transform_func,\n",
    "#     domain_modifier=lambda u: f\"oracle1_{u}\"\n",
    "# )\n"
   ]
  },
  {
   "cell_type": "code",
   "execution_count": 16,
   "id": "97dea9d2",
   "metadata": {
    "execution": {
     "iopub.execute_input": "2022-03-21T02:30:34.436830Z",
     "iopub.status.busy": "2022-03-21T02:30:34.435781Z",
     "iopub.status.idle": "2022-03-21T02:30:34.457420Z",
     "shell.execute_reply": "2022-03-21T02:30:34.456596Z"
    },
    "papermill": {
     "duration": 0.045189,
     "end_time": "2022-03-21T02:30:34.457588",
     "exception": false,
     "start_time": "2022-03-21T02:30:34.412399",
     "status": "completed"
    },
    "tags": []
   },
   "outputs": [],
   "source": [
    "# from steves_utils.ORACLE.utils_v2 import (\n",
    "#     ALL_DISTANCES_FEET,\n",
    "#     ALL_RUNS,\n",
    "#     ALL_SERIAL_NUMBERS,\n",
    "# )\n",
    "\n",
    "\n",
    "# add_dataset(\n",
    "#     labels=ALL_SERIAL_NUMBERS,\n",
    "#     domains = list(set(ALL_DISTANCES_FEET) - {2,62,56}),\n",
    "#     num_examples_per_domain_per_label=100,\n",
    "#     pickle_path=os.path.join(get_datasets_base_path(), \"oracle.Run2_framed_2000Examples_stratified_ds.2022A.pkl\"),\n",
    "#     source_or_target_dataset=\"source\",\n",
    "#     x_transform_func=global_x_transform_func,\n",
    "#     domain_modifier=lambda u: f\"oracle2_{u}\"\n",
    "# )"
   ]
  },
  {
   "cell_type": "code",
   "execution_count": 17,
   "id": "6f289866",
   "metadata": {
    "execution": {
     "iopub.execute_input": "2022-03-21T02:30:34.509922Z",
     "iopub.status.busy": "2022-03-21T02:30:34.509554Z",
     "iopub.status.idle": "2022-03-21T02:30:34.530276Z",
     "shell.execute_reply": "2022-03-21T02:30:34.529492Z"
    },
    "papermill": {
     "duration": 0.044764,
     "end_time": "2022-03-21T02:30:34.530437",
     "exception": false,
     "start_time": "2022-03-21T02:30:34.485673",
     "status": "completed"
    },
    "tags": []
   },
   "outputs": [],
   "source": [
    "# add_dataset(\n",
    "#     labels=list(range(19)),\n",
    "#     domains = [0,1,2],\n",
    "#     num_examples_per_domain_per_label=100,\n",
    "#     pickle_path=os.path.join(get_datasets_base_path(), \"metehan.stratified_ds.2022A.pkl\"),\n",
    "#     source_or_target_dataset=\"target\",\n",
    "#     x_transform_func=global_x_transform_func,\n",
    "#     domain_modifier=lambda u: f\"met_{u}\"\n",
    "# )"
   ]
  },
  {
   "cell_type": "code",
   "execution_count": 18,
   "id": "86a863c3",
   "metadata": {
    "execution": {
     "iopub.execute_input": "2022-03-21T02:30:34.582695Z",
     "iopub.status.busy": "2022-03-21T02:30:34.582049Z",
     "iopub.status.idle": "2022-03-21T02:30:34.609635Z",
     "shell.execute_reply": "2022-03-21T02:30:34.608830Z"
    },
    "papermill": {
     "duration": 0.052789,
     "end_time": "2022-03-21T02:30:34.609796",
     "exception": false,
     "start_time": "2022-03-21T02:30:34.557007",
     "status": "completed"
    },
    "tags": []
   },
   "outputs": [],
   "source": [
    "# # from steves_utils.wisig.utils import (\n",
    "# #     ALL_NODES_MINIMUM_100_EXAMPLES,\n",
    "# #     ALL_NODES_MINIMUM_500_EXAMPLES,\n",
    "# #     ALL_NODES_MINIMUM_1000_EXAMPLES,\n",
    "# #     ALL_DAYS\n",
    "# # )\n",
    "\n",
    "# import steves_utils.wisig.utils as wisig\n",
    "\n",
    "\n",
    "# add_dataset(\n",
    "#     labels=wisig.ALL_NODES_MINIMUM_100_EXAMPLES,\n",
    "#     domains = wisig.ALL_DAYS,\n",
    "#     num_examples_per_domain_per_label=100,\n",
    "#     pickle_path=os.path.join(get_datasets_base_path(), \"wisig.node3-19.stratified_ds.2022A.pkl\"),\n",
    "#     source_or_target_dataset=\"target\",\n",
    "#     x_transform_func=global_x_transform_func,\n",
    "#     domain_modifier=lambda u: f\"wisig_{u}\"\n",
    "# )"
   ]
  },
  {
   "cell_type": "code",
   "execution_count": 19,
   "id": "fd5442bc",
   "metadata": {
    "execution": {
     "iopub.execute_input": "2022-03-21T02:30:34.666838Z",
     "iopub.status.busy": "2022-03-21T02:30:34.666257Z",
     "iopub.status.idle": "2022-03-21T02:30:34.690501Z",
     "shell.execute_reply": "2022-03-21T02:30:34.689751Z"
    },
    "papermill": {
     "duration": 0.054375,
     "end_time": "2022-03-21T02:30:34.690663",
     "exception": false,
     "start_time": "2022-03-21T02:30:34.636288",
     "status": "completed"
    },
    "tags": []
   },
   "outputs": [],
   "source": [
    "###################################\n",
    "# Build the dataset\n",
    "###################################\n",
    "train_original_source = Iterable_Aggregator(train_original_source, p.seed)\n",
    "val_original_source = Iterable_Aggregator(val_original_source, p.seed)\n",
    "test_original_source = Iterable_Aggregator(test_original_source, p.seed)\n",
    "\n",
    "\n",
    "train_original_target = Iterable_Aggregator(train_original_target, p.seed)\n",
    "val_original_target = Iterable_Aggregator(val_original_target, p.seed)\n",
    "test_original_target = Iterable_Aggregator(test_original_target, p.seed)\n",
    "\n",
    "# For CNN We only use X and Y. And we only train on the source.\n",
    "# Properly form the data using a transform lambda and Lazy_Iterable_Wrapper. Finally wrap them in a dataloader\n",
    "\n",
    "transform_lambda = lambda ex: ex[1] # Original is (<domain>, <episode>) so we strip down to episode only\n",
    "\n",
    "train_processed_source = Lazy_Iterable_Wrapper(train_original_source, transform_lambda)\n",
    "val_processed_source   = Lazy_Iterable_Wrapper(val_original_source, transform_lambda)\n",
    "test_processed_source  = Lazy_Iterable_Wrapper(test_original_source, transform_lambda)\n",
    "\n",
    "train_processed_target = Lazy_Iterable_Wrapper(train_original_target, transform_lambda)\n",
    "val_processed_target   = Lazy_Iterable_Wrapper(val_original_target, transform_lambda)\n",
    "test_processed_target  = Lazy_Iterable_Wrapper(test_original_target, transform_lambda)\n",
    "\n",
    "datasets = EasyDict({\n",
    "    \"source\": {\n",
    "        \"original\": {\"train\":train_original_source, \"val\":val_original_source, \"test\":test_original_source},\n",
    "        \"processed\": {\"train\":train_processed_source, \"val\":val_processed_source, \"test\":test_processed_source}\n",
    "    },\n",
    "    \"target\": {\n",
    "        \"original\": {\"train\":train_original_target, \"val\":val_original_target, \"test\":test_original_target},\n",
    "        \"processed\": {\"train\":train_processed_target, \"val\":val_processed_target, \"test\":test_processed_target}\n",
    "    },\n",
    "})"
   ]
  },
  {
   "cell_type": "code",
   "execution_count": 20,
   "id": "5b3c01fc",
   "metadata": {
    "execution": {
     "iopub.execute_input": "2022-03-21T02:30:34.746686Z",
     "iopub.status.busy": "2022-03-21T02:30:34.746053Z",
     "iopub.status.idle": "2022-03-21T02:30:49.949780Z",
     "shell.execute_reply": "2022-03-21T02:30:49.950841Z"
    },
    "papermill": {
     "duration": 15.232081,
     "end_time": "2022-03-21T02:30:49.951071",
     "exception": false,
     "start_time": "2022-03-21T02:30:34.718990",
     "status": "completed"
    },
    "tags": []
   },
   "outputs": [
    {
     "name": "stdout",
     "output_type": "stream",
     "text": [
      "{'CORES_4', 'CORES_2', 'CORES_1', 'CORES_3', 'CORES_5'}\n"
     ]
    },
    {
     "name": "stdout",
     "output_type": "stream",
     "text": [
      "{'ORACLE.run1_14', 'ORACLE.run1_38', 'ORACLE.run1_20', 'ORACLE.run1_8', 'ORACLE.run1_50', 'ORACLE.run1_44', 'ORACLE.run1_32', 'ORACLE.run1_26'}\n"
     ]
    },
    {
     "name": "stdout",
     "output_type": "stream",
     "text": [
      "tensor([[[-0.3482, -0.6463,  0.4590,  ..., -1.0148, -0.6411,  0.3263],\n",
      "         [ 0.1082, -0.8319, -0.6358,  ..., -0.0616, -0.0897, -0.6006]],\n",
      "\n",
      "        [[-0.5158, -0.5393,  0.8207,  ..., -0.9996, -0.3726,  0.5202],\n",
      "         [-0.0973, -0.9075, -0.3821,  ...,  0.2067, -0.2874, -0.5115]],\n",
      "\n",
      "        [[-0.2471, -0.3720,  0.3580,  ..., -0.5886, -0.8505,  0.2340],\n",
      "         [ 0.1502, -0.7527, -0.8383,  ..., -0.7161, -0.3074, -0.5336]],\n",
      "\n",
      "        ...,\n",
      "\n",
      "        [[ 0.5919,  0.7887,  0.8443,  ..., -1.0050, -2.0942, -1.0170],\n",
      "         [ 0.4417,  0.8248, -0.1097,  ..., -1.5218, -0.2719,  0.7451]],\n",
      "\n",
      "        [[ 0.4220,  0.4236, -0.1857,  ..., -0.0890, -0.4589, -0.0399],\n",
      "         [ 0.1611,  0.0568, -0.3392,  ..., -0.1212,  0.0875, -0.6661]],\n",
      "\n",
      "        [[ 0.3242,  0.5841,  0.7312,  ..., -1.0168, -1.6923, -0.5255],\n",
      "         [ 0.9525,  0.8183, -0.3999,  ..., -1.6866, -0.4498,  0.2856]]])\n"
     ]
    }
   ],
   "source": [
    "from steves_utils.transforms import get_average_magnitude, get_average_power\n",
    "\n",
    "print(set([u for u,_ in val_original_source]))\n",
    "print(set([u for u,_ in val_original_target]))\n",
    "\n",
    "s_x, s_y, q_x, q_y, _ = next(iter(train_processed_source))\n",
    "print(s_x)\n",
    "\n",
    "# for ds in [\n",
    "#     train_processed_source,\n",
    "#     val_processed_source,\n",
    "#     test_processed_source,\n",
    "#     train_processed_target,\n",
    "#     val_processed_target,\n",
    "#     test_processed_target\n",
    "# ]:\n",
    "#     for s_x, s_y, q_x, q_y, _ in ds:\n",
    "#         for X in (s_x, q_x):\n",
    "#             for x in X:\n",
    "#                 assert np.isclose(get_average_magnitude(x.numpy()), 1.0)\n",
    "#                 assert np.isclose(get_average_power(x.numpy()), 1.0)\n",
    "                "
   ]
  },
  {
   "cell_type": "code",
   "execution_count": 21,
   "id": "bbdacba1",
   "metadata": {
    "execution": {
     "iopub.execute_input": "2022-03-21T02:30:50.003140Z",
     "iopub.status.busy": "2022-03-21T02:30:50.002752Z",
     "iopub.status.idle": "2022-03-21T02:30:50.226311Z",
     "shell.execute_reply": "2022-03-21T02:30:50.227010Z"
    },
    "papermill": {
     "duration": 0.251287,
     "end_time": "2022-03-21T02:30:50.227242",
     "exception": false,
     "start_time": "2022-03-21T02:30:49.975955",
     "status": "completed"
    },
    "tags": []
   },
   "outputs": [
    {
     "name": "stdout",
     "output_type": "stream",
     "text": [
      "(2, 256)\n"
     ]
    }
   ],
   "source": [
    "###################################\n",
    "# Build the model\n",
    "###################################\n",
    "# easfsl only wants a tuple for the shape\n",
    "model = Steves_Prototypical_Network(x_net, device=p.device, x_shape=tuple(p.x_shape))\n",
    "optimizer = Adam(params=model.parameters(), lr=p.lr)"
   ]
  },
  {
   "cell_type": "code",
   "execution_count": 22,
   "id": "22b39ac5",
   "metadata": {
    "execution": {
     "iopub.execute_input": "2022-03-21T02:30:50.283521Z",
     "iopub.status.busy": "2022-03-21T02:30:50.283114Z",
     "iopub.status.idle": "2022-03-21T03:04:30.081884Z",
     "shell.execute_reply": "2022-03-21T03:04:30.081542Z"
    },
    "papermill": {
     "duration": 2019.825573,
     "end_time": "2022-03-21T03:04:30.081969",
     "exception": false,
     "start_time": "2022-03-21T02:30:50.256396",
     "status": "completed"
    },
    "tags": []
   },
   "outputs": [
    {
     "name": "stdout",
     "output_type": "stream",
     "text": [
      "epoch: 1, [batch: 1 / 6320], examples_per_second: 34.2349, train_label_loss: 2.6575, \n"
     ]
    },
    {
     "name": "stdout",
     "output_type": "stream",
     "text": [
      "epoch: 1, [batch: 632 / 6320], examples_per_second: 2929.9217, train_label_loss: 0.0061, \n"
     ]
    },
    {
     "name": "stdout",
     "output_type": "stream",
     "text": [
      "epoch: 1, [batch: 1264 / 6320], examples_per_second: 2581.6760, train_label_loss: 0.0006, \n"
     ]
    },
    {
     "name": "stdout",
     "output_type": "stream",
     "text": [
      "epoch: 1, [batch: 1896 / 6320], examples_per_second: 2784.7761, train_label_loss: 0.0015, \n"
     ]
    },
    {
     "name": "stdout",
     "output_type": "stream",
     "text": [
      "epoch: 1, [batch: 2528 / 6320], examples_per_second: 2715.8776, train_label_loss: 0.0041, \n"
     ]
    },
    {
     "name": "stdout",
     "output_type": "stream",
     "text": [
      "epoch: 1, [batch: 3160 / 6320], examples_per_second: 2842.6898, train_label_loss: 0.0030, \n"
     ]
    },
    {
     "name": "stdout",
     "output_type": "stream",
     "text": [
      "epoch: 1, [batch: 3792 / 6320], examples_per_second: 3287.2674, train_label_loss: 0.0005, \n"
     ]
    },
    {
     "name": "stdout",
     "output_type": "stream",
     "text": [
      "epoch: 1, [batch: 4424 / 6320], examples_per_second: 3739.8613, train_label_loss: 0.0034, \n"
     ]
    },
    {
     "name": "stdout",
     "output_type": "stream",
     "text": [
      "epoch: 1, [batch: 5056 / 6320], examples_per_second: 2554.8210, train_label_loss: 0.0007, \n"
     ]
    },
    {
     "name": "stdout",
     "output_type": "stream",
     "text": [
      "epoch: 1, [batch: 5688 / 6320], examples_per_second: 2941.3889, train_label_loss: 0.0000, \n"
     ]
    },
    {
     "name": "stdout",
     "output_type": "stream",
     "text": [
      "=============================================================\n",
      "epoch: 1, source_val_acc_label: 0.9980, target_val_acc_label: 0.2479, source_val_label_loss: 0.0098, target_val_label_loss: 2.1890, \n",
      "=============================================================\n"
     ]
    },
    {
     "name": "stdout",
     "output_type": "stream",
     "text": [
      "New best\n"
     ]
    },
    {
     "name": "stdout",
     "output_type": "stream",
     "text": [
      "epoch: 2, [batch: 1 / 6305], examples_per_second: 2.8786, train_label_loss: 0.0005, \n"
     ]
    },
    {
     "name": "stdout",
     "output_type": "stream",
     "text": [
      "epoch: 2, [batch: 631 / 6305], examples_per_second: 2644.2542, train_label_loss: 0.0000, \n"
     ]
    },
    {
     "name": "stdout",
     "output_type": "stream",
     "text": [
      "epoch: 2, [batch: 1261 / 6305], examples_per_second: 2337.3674, train_label_loss: 0.0005, \n"
     ]
    },
    {
     "name": "stdout",
     "output_type": "stream",
     "text": [
      "epoch: 2, [batch: 1892 / 6305], examples_per_second: 2637.6774, train_label_loss: 0.0000, \n"
     ]
    },
    {
     "name": "stdout",
     "output_type": "stream",
     "text": [
      "epoch: 2, [batch: 2522 / 6305], examples_per_second: 2340.4055, train_label_loss: 0.0000, \n"
     ]
    },
    {
     "name": "stdout",
     "output_type": "stream",
     "text": [
      "epoch: 2, [batch: 3153 / 6305], examples_per_second: 2653.9382, train_label_loss: 0.0026, \n"
     ]
    },
    {
     "name": "stdout",
     "output_type": "stream",
     "text": [
      "epoch: 2, [batch: 3783 / 6305], examples_per_second: 3145.1291, train_label_loss: 0.0744, \n"
     ]
    },
    {
     "name": "stdout",
     "output_type": "stream",
     "text": [
      "epoch: 2, [batch: 4413 / 6305], examples_per_second: 2953.9228, train_label_loss: 0.0001, \n"
     ]
    },
    {
     "name": "stdout",
     "output_type": "stream",
     "text": [
      "epoch: 2, [batch: 5044 / 6305], examples_per_second: 3437.0836, train_label_loss: 0.0005, \n"
     ]
    },
    {
     "name": "stdout",
     "output_type": "stream",
     "text": [
      "epoch: 2, [batch: 5674 / 6305], examples_per_second: 2964.7137, train_label_loss: 0.0000, \n"
     ]
    },
    {
     "name": "stdout",
     "output_type": "stream",
     "text": [
      "=============================================================\n",
      "epoch: 2, source_val_acc_label: 0.9988, target_val_acc_label: 0.2408, source_val_label_loss: 0.0084, target_val_label_loss: 2.5434, \n",
      "=============================================================\n"
     ]
    },
    {
     "name": "stdout",
     "output_type": "stream",
     "text": [
      "epoch: 3, [batch: 1 / 6307], examples_per_second: 3.2707, train_label_loss: 0.0000, \n"
     ]
    },
    {
     "name": "stdout",
     "output_type": "stream",
     "text": [
      "epoch: 3, [batch: 631 / 6307], examples_per_second: 2813.4984, train_label_loss: 0.0004, \n"
     ]
    },
    {
     "name": "stdout",
     "output_type": "stream",
     "text": [
      "epoch: 3, [batch: 1262 / 6307], examples_per_second: 2304.9829, train_label_loss: 0.0002, \n"
     ]
    },
    {
     "name": "stdout",
     "output_type": "stream",
     "text": [
      "epoch: 3, [batch: 1892 / 6307], examples_per_second: 2522.7631, train_label_loss: 0.0887, \n"
     ]
    },
    {
     "name": "stdout",
     "output_type": "stream",
     "text": [
      "epoch: 3, [batch: 2523 / 6307], examples_per_second: 2418.3300, train_label_loss: 0.0000, \n"
     ]
    },
    {
     "name": "stdout",
     "output_type": "stream",
     "text": [
      "epoch: 3, [batch: 3154 / 6307], examples_per_second: 2463.4108, train_label_loss: 0.0001, \n"
     ]
    },
    {
     "name": "stdout",
     "output_type": "stream",
     "text": [
      "epoch: 3, [batch: 3784 / 6307], examples_per_second: 2517.6847, train_label_loss: 0.0000, \n"
     ]
    },
    {
     "name": "stdout",
     "output_type": "stream",
     "text": [
      "epoch: 3, [batch: 4415 / 6307], examples_per_second: 2478.4850, train_label_loss: 0.0000, \n"
     ]
    },
    {
     "name": "stdout",
     "output_type": "stream",
     "text": [
      "epoch: 3, [batch: 5045 / 6307], examples_per_second: 2979.2141, train_label_loss: 0.0000, \n"
     ]
    },
    {
     "name": "stdout",
     "output_type": "stream",
     "text": [
      "epoch: 3, [batch: 5676 / 6307], examples_per_second: 3001.2212, train_label_loss: 0.0044, \n"
     ]
    },
    {
     "name": "stdout",
     "output_type": "stream",
     "text": [
      "=============================================================\n",
      "epoch: 3, source_val_acc_label: 0.9990, target_val_acc_label: 0.2947, source_val_label_loss: 0.0097, target_val_label_loss: 2.1321, \n",
      "=============================================================\n"
     ]
    },
    {
     "name": "stdout",
     "output_type": "stream",
     "text": [
      "New best\n"
     ]
    },
    {
     "name": "stdout",
     "output_type": "stream",
     "text": [
      "epoch: 4, [batch: 1 / 6315], examples_per_second: 3.0633, train_label_loss: 0.0000, \n"
     ]
    },
    {
     "name": "stdout",
     "output_type": "stream",
     "text": [
      "epoch: 4, [batch: 632 / 6315], examples_per_second: 3483.9134, train_label_loss: 0.0000, \n"
     ]
    },
    {
     "name": "stdout",
     "output_type": "stream",
     "text": [
      "epoch: 4, [batch: 1263 / 6315], examples_per_second: 3494.8747, train_label_loss: 0.0000, \n"
     ]
    },
    {
     "name": "stdout",
     "output_type": "stream",
     "text": [
      "epoch: 4, [batch: 1895 / 6315], examples_per_second: 3508.8952, train_label_loss: 0.0001, \n"
     ]
    },
    {
     "name": "stdout",
     "output_type": "stream",
     "text": [
      "epoch: 4, [batch: 2526 / 6315], examples_per_second: 3260.1145, train_label_loss: 0.0000, \n"
     ]
    },
    {
     "name": "stdout",
     "output_type": "stream",
     "text": [
      "epoch: 4, [batch: 3158 / 6315], examples_per_second: 2490.7608, train_label_loss: 0.0008, \n"
     ]
    },
    {
     "name": "stdout",
     "output_type": "stream",
     "text": [
      "epoch: 4, [batch: 3789 / 6315], examples_per_second: 2336.7754, train_label_loss: 0.0002, \n"
     ]
    },
    {
     "name": "stdout",
     "output_type": "stream",
     "text": [
      "epoch: 4, [batch: 4420 / 6315], examples_per_second: 2327.3356, train_label_loss: 0.0000, \n"
     ]
    },
    {
     "name": "stdout",
     "output_type": "stream",
     "text": [
      "epoch: 4, [batch: 5052 / 6315], examples_per_second: 2544.9505, train_label_loss: 0.0000, \n"
     ]
    },
    {
     "name": "stdout",
     "output_type": "stream",
     "text": [
      "epoch: 4, [batch: 5683 / 6315], examples_per_second: 2897.0467, train_label_loss: 0.0000, \n"
     ]
    },
    {
     "name": "stdout",
     "output_type": "stream",
     "text": [
      "=============================================================\n",
      "epoch: 4, source_val_acc_label: 0.9992, target_val_acc_label: 0.2617, source_val_label_loss: 0.0104, target_val_label_loss: 2.5675, \n",
      "=============================================================\n"
     ]
    },
    {
     "name": "stdout",
     "output_type": "stream",
     "text": [
      "epoch: 5, [batch: 1 / 6313], examples_per_second: 2.2479, train_label_loss: 0.0000, \n"
     ]
    },
    {
     "name": "stdout",
     "output_type": "stream",
     "text": [
      "epoch: 5, [batch: 632 / 6313], examples_per_second: 2515.9725, train_label_loss: 0.0000, \n"
     ]
    },
    {
     "name": "stdout",
     "output_type": "stream",
     "text": [
      "epoch: 5, [batch: 1263 / 6313], examples_per_second: 2463.5899, train_label_loss: 0.0000, \n"
     ]
    },
    {
     "name": "stdout",
     "output_type": "stream",
     "text": [
      "epoch: 5, [batch: 1894 / 6313], examples_per_second: 2607.1329, train_label_loss: 0.0000, \n"
     ]
    },
    {
     "name": "stdout",
     "output_type": "stream",
     "text": [
      "epoch: 5, [batch: 2525 / 6313], examples_per_second: 2574.6259, train_label_loss: 0.0000, \n"
     ]
    },
    {
     "name": "stdout",
     "output_type": "stream",
     "text": [
      "epoch: 5, [batch: 3157 / 6313], examples_per_second: 2771.9340, train_label_loss: 0.0000, \n"
     ]
    },
    {
     "name": "stdout",
     "output_type": "stream",
     "text": [
      "epoch: 5, [batch: 3788 / 6313], examples_per_second: 2929.0936, train_label_loss: 0.0000, \n"
     ]
    },
    {
     "name": "stdout",
     "output_type": "stream",
     "text": [
      "epoch: 5, [batch: 4419 / 6313], examples_per_second: 2877.1512, train_label_loss: 0.0000, \n"
     ]
    },
    {
     "name": "stdout",
     "output_type": "stream",
     "text": [
      "epoch: 5, [batch: 5050 / 6313], examples_per_second: 2908.3579, train_label_loss: 0.0000, \n"
     ]
    },
    {
     "name": "stdout",
     "output_type": "stream",
     "text": [
      "epoch: 5, [batch: 5681 / 6313], examples_per_second: 3732.7250, train_label_loss: 0.0000, \n"
     ]
    },
    {
     "name": "stdout",
     "output_type": "stream",
     "text": [
      "=============================================================\n",
      "epoch: 5, source_val_acc_label: 0.9993, target_val_acc_label: 0.3169, source_val_label_loss: 0.0105, target_val_label_loss: 2.2719, \n",
      "=============================================================\n"
     ]
    },
    {
     "name": "stdout",
     "output_type": "stream",
     "text": [
      "New best\n"
     ]
    },
    {
     "name": "stdout",
     "output_type": "stream",
     "text": [
      "epoch: 6, [batch: 1 / 6317], examples_per_second: 3.4398, train_label_loss: 0.0000, \n"
     ]
    },
    {
     "name": "stdout",
     "output_type": "stream",
     "text": [
      "epoch: 6, [batch: 632 / 6317], examples_per_second: 2911.6347, train_label_loss: 0.0000, \n"
     ]
    },
    {
     "name": "stdout",
     "output_type": "stream",
     "text": [
      "epoch: 6, [batch: 1264 / 6317], examples_per_second: 2443.0607, train_label_loss: 0.0000, \n"
     ]
    },
    {
     "name": "stdout",
     "output_type": "stream",
     "text": [
      "epoch: 6, [batch: 1895 / 6317], examples_per_second: 2340.7654, train_label_loss: 0.0010, \n"
     ]
    },
    {
     "name": "stdout",
     "output_type": "stream",
     "text": [
      "epoch: 6, [batch: 2527 / 6317], examples_per_second: 2316.6089, train_label_loss: 0.0000, \n"
     ]
    },
    {
     "name": "stdout",
     "output_type": "stream",
     "text": [
      "epoch: 6, [batch: 3159 / 6317], examples_per_second: 2343.9889, train_label_loss: 0.0000, \n"
     ]
    },
    {
     "name": "stdout",
     "output_type": "stream",
     "text": [
      "epoch: 6, [batch: 3790 / 6317], examples_per_second: 2634.3438, train_label_loss: 0.0000, \n"
     ]
    },
    {
     "name": "stdout",
     "output_type": "stream",
     "text": [
      "epoch: 6, [batch: 4422 / 6317], examples_per_second: 2349.0281, train_label_loss: 0.0000, \n"
     ]
    },
    {
     "name": "stdout",
     "output_type": "stream",
     "text": [
      "epoch: 6, [batch: 5053 / 6317], examples_per_second: 2577.4339, train_label_loss: 0.0000, \n"
     ]
    },
    {
     "name": "stdout",
     "output_type": "stream",
     "text": [
      "epoch: 6, [batch: 5685 / 6317], examples_per_second: 2665.9197, train_label_loss: 0.0000, \n"
     ]
    },
    {
     "name": "stdout",
     "output_type": "stream",
     "text": [
      "=============================================================\n",
      "epoch: 6, source_val_acc_label: 0.9991, target_val_acc_label: 0.2925, source_val_label_loss: 0.0063, target_val_label_loss: 2.2419, \n",
      "=============================================================\n"
     ]
    },
    {
     "name": "stdout",
     "output_type": "stream",
     "text": [
      "epoch: 7, [batch: 1 / 6322], examples_per_second: 2.8456, train_label_loss: 0.0000, \n"
     ]
    },
    {
     "name": "stdout",
     "output_type": "stream",
     "text": [
      "epoch: 7, [batch: 633 / 6322], examples_per_second: 2584.6043, train_label_loss: 0.0000, \n"
     ]
    },
    {
     "name": "stdout",
     "output_type": "stream",
     "text": [
      "epoch: 7, [batch: 1265 / 6322], examples_per_second: 2683.7923, train_label_loss: 0.0000, \n"
     ]
    },
    {
     "name": "stdout",
     "output_type": "stream",
     "text": [
      "epoch: 7, [batch: 1897 / 6322], examples_per_second: 2820.9307, train_label_loss: 0.0000, \n"
     ]
    },
    {
     "name": "stdout",
     "output_type": "stream",
     "text": [
      "epoch: 7, [batch: 2529 / 6322], examples_per_second: 2640.4822, train_label_loss: 0.0000, \n"
     ]
    },
    {
     "name": "stdout",
     "output_type": "stream",
     "text": [
      "epoch: 7, [batch: 3161 / 6322], examples_per_second: 2651.5957, train_label_loss: 0.0000, \n"
     ]
    },
    {
     "name": "stdout",
     "output_type": "stream",
     "text": [
      "epoch: 7, [batch: 3793 / 6322], examples_per_second: 2826.8684, train_label_loss: 0.0000, \n"
     ]
    },
    {
     "name": "stdout",
     "output_type": "stream",
     "text": [
      "epoch: 7, [batch: 4425 / 6322], examples_per_second: 2934.6801, train_label_loss: 0.0000, \n"
     ]
    },
    {
     "name": "stdout",
     "output_type": "stream",
     "text": [
      "epoch: 7, [batch: 5057 / 6322], examples_per_second: 2848.9887, train_label_loss: 0.0000, \n"
     ]
    },
    {
     "name": "stdout",
     "output_type": "stream",
     "text": [
      "epoch: 7, [batch: 5689 / 6322], examples_per_second: 2323.2424, train_label_loss: 0.0000, \n"
     ]
    },
    {
     "name": "stdout",
     "output_type": "stream",
     "text": [
      "=============================================================\n",
      "epoch: 7, source_val_acc_label: 0.9994, target_val_acc_label: 0.3021, source_val_label_loss: 0.0094, target_val_label_loss: 2.3943, \n",
      "=============================================================\n"
     ]
    },
    {
     "name": "stdout",
     "output_type": "stream",
     "text": [
      "epoch: 8, [batch: 1 / 6297], examples_per_second: 2.3795, train_label_loss: 0.0000, \n"
     ]
    },
    {
     "name": "stdout",
     "output_type": "stream",
     "text": [
      "epoch: 8, [batch: 630 / 6297], examples_per_second: 2651.5709, train_label_loss: 0.0000, \n"
     ]
    },
    {
     "name": "stdout",
     "output_type": "stream",
     "text": [
      "epoch: 8, [batch: 1260 / 6297], examples_per_second: 2583.1059, train_label_loss: 0.0000, \n"
     ]
    },
    {
     "name": "stdout",
     "output_type": "stream",
     "text": [
      "epoch: 8, [batch: 1889 / 6297], examples_per_second: 2618.5309, train_label_loss: 0.0000, \n"
     ]
    },
    {
     "name": "stdout",
     "output_type": "stream",
     "text": [
      "epoch: 8, [batch: 2519 / 6297], examples_per_second: 2633.5224, train_label_loss: 0.0000, \n"
     ]
    },
    {
     "name": "stdout",
     "output_type": "stream",
     "text": [
      "epoch: 8, [batch: 3149 / 6297], examples_per_second: 2842.8631, train_label_loss: 0.0000, \n"
     ]
    },
    {
     "name": "stdout",
     "output_type": "stream",
     "text": [
      "epoch: 8, [batch: 3778 / 6297], examples_per_second: 2606.3109, train_label_loss: 0.0000, \n"
     ]
    },
    {
     "name": "stdout",
     "output_type": "stream",
     "text": [
      "epoch: 8, [batch: 4408 / 6297], examples_per_second: 2688.2925, train_label_loss: 0.0000, \n"
     ]
    },
    {
     "name": "stdout",
     "output_type": "stream",
     "text": [
      "epoch: 8, [batch: 5037 / 6297], examples_per_second: 2468.7166, train_label_loss: 0.0000, \n"
     ]
    },
    {
     "name": "stdout",
     "output_type": "stream",
     "text": [
      "epoch: 8, [batch: 5667 / 6297], examples_per_second: 2503.1893, train_label_loss: 0.0000, \n"
     ]
    },
    {
     "name": "stdout",
     "output_type": "stream",
     "text": [
      "=============================================================\n",
      "epoch: 8, source_val_acc_label: 0.9996, target_val_acc_label: 0.2900, source_val_label_loss: 0.0091, target_val_label_loss: 2.7316, \n",
      "=============================================================\n"
     ]
    },
    {
     "name": "stdout",
     "output_type": "stream",
     "text": [
      "epoch: 9, [batch: 1 / 6315], examples_per_second: 2.6639, train_label_loss: 0.0000, \n"
     ]
    },
    {
     "name": "stdout",
     "output_type": "stream",
     "text": [
      "epoch: 9, [batch: 632 / 6315], examples_per_second: 3539.2441, train_label_loss: 0.0000, \n"
     ]
    },
    {
     "name": "stdout",
     "output_type": "stream",
     "text": [
      "epoch: 9, [batch: 1263 / 6315], examples_per_second: 3026.1175, train_label_loss: 0.0000, \n"
     ]
    },
    {
     "name": "stdout",
     "output_type": "stream",
     "text": [
      "epoch: 9, [batch: 1895 / 6315], examples_per_second: 3066.0469, train_label_loss: 0.0000, \n"
     ]
    },
    {
     "name": "stdout",
     "output_type": "stream",
     "text": [
      "epoch: 9, [batch: 2526 / 6315], examples_per_second: 2951.8881, train_label_loss: 0.0000, \n"
     ]
    },
    {
     "name": "stdout",
     "output_type": "stream",
     "text": [
      "epoch: 9, [batch: 3158 / 6315], examples_per_second: 2622.5114, train_label_loss: 0.0000, \n"
     ]
    },
    {
     "name": "stdout",
     "output_type": "stream",
     "text": [
      "epoch: 9, [batch: 3789 / 6315], examples_per_second: 2651.8933, train_label_loss: 0.0000, \n"
     ]
    },
    {
     "name": "stdout",
     "output_type": "stream",
     "text": [
      "epoch: 9, [batch: 4420 / 6315], examples_per_second: 2893.7489, train_label_loss: 0.0000, \n"
     ]
    },
    {
     "name": "stdout",
     "output_type": "stream",
     "text": [
      "epoch: 9, [batch: 5052 / 6315], examples_per_second: 2590.5955, train_label_loss: 0.0000, \n"
     ]
    },
    {
     "name": "stdout",
     "output_type": "stream",
     "text": [
      "epoch: 9, [batch: 5683 / 6315], examples_per_second: 2841.4940, train_label_loss: 0.0000, \n"
     ]
    },
    {
     "name": "stdout",
     "output_type": "stream",
     "text": [
      "=============================================================\n",
      "epoch: 9, source_val_acc_label: 0.9988, target_val_acc_label: 0.2867, source_val_label_loss: 0.0155, target_val_label_loss: 2.9688, \n",
      "=============================================================\n"
     ]
    },
    {
     "name": "stdout",
     "output_type": "stream",
     "text": [
      "Patience (3) exhausted\n"
     ]
    }
   ],
   "source": [
    "###################################\n",
    "# train\n",
    "###################################\n",
    "jig = PTN_Train_Eval_Test_Jig(model, p.BEST_MODEL_PATH, p.device)\n",
    "\n",
    "jig.train(\n",
    "    train_iterable=datasets.source.processed.train,\n",
    "    source_val_iterable=datasets.source.processed.val,\n",
    "    target_val_iterable=datasets.target.processed.val,\n",
    "    num_epochs=p.n_epoch,\n",
    "    num_logs_per_epoch=p.NUM_LOGS_PER_EPOCH,\n",
    "    patience=p.patience,\n",
    "    optimizer=optimizer,\n",
    "    criteria_for_best=p.criteria_for_best,\n",
    ")"
   ]
  },
  {
   "cell_type": "code",
   "execution_count": 23,
   "id": "31e8fabf",
   "metadata": {
    "execution": {
     "iopub.execute_input": "2022-03-21T03:04:30.185451Z",
     "iopub.status.busy": "2022-03-21T03:04:30.185077Z",
     "iopub.status.idle": "2022-03-21T03:04:30.219696Z",
     "shell.execute_reply": "2022-03-21T03:04:30.219004Z"
    },
    "papermill": {
     "duration": 0.088456,
     "end_time": "2022-03-21T03:04:30.219863",
     "exception": false,
     "start_time": "2022-03-21T03:04:30.131407",
     "status": "completed"
    },
    "tags": []
   },
   "outputs": [],
   "source": [
    "total_experiment_time_secs = time.time() - start_time_secs"
   ]
  },
  {
   "cell_type": "code",
   "execution_count": 24,
   "id": "87b9595b",
   "metadata": {
    "execution": {
     "iopub.execute_input": "2022-03-21T03:04:30.340793Z",
     "iopub.status.busy": "2022-03-21T03:04:30.340103Z",
     "iopub.status.idle": "2022-03-21T03:08:10.380610Z",
     "shell.execute_reply": "2022-03-21T03:08:10.379819Z"
    },
    "papermill": {
     "duration": 220.108425,
     "end_time": "2022-03-21T03:08:10.380799",
     "exception": false,
     "start_time": "2022-03-21T03:04:30.272374",
     "status": "completed"
    },
    "tags": []
   },
   "outputs": [],
   "source": [
    "###################################\n",
    "# Evaluate the model\n",
    "###################################\n",
    "source_test_label_accuracy, source_test_label_loss = jig.test(datasets.source.processed.test)\n",
    "target_test_label_accuracy, target_test_label_loss = jig.test(datasets.target.processed.test)\n",
    "\n",
    "source_val_label_accuracy, source_val_label_loss = jig.test(datasets.source.processed.val)\n",
    "target_val_label_accuracy, target_val_label_loss = jig.test(datasets.target.processed.val)\n",
    "\n",
    "history = jig.get_history()\n",
    "\n",
    "total_epochs_trained = len(history[\"epoch_indices\"])\n",
    "\n",
    "val_dl = Iterable_Aggregator((datasets.source.original.val,datasets.target.original.val))\n",
    "\n",
    "confusion = ptn_confusion_by_domain_over_dataloader(model, p.device, val_dl)\n",
    "per_domain_accuracy = per_domain_accuracy_from_confusion(confusion)\n",
    "\n",
    "# Add a key to per_domain_accuracy for if it was a source domain\n",
    "for domain, accuracy in per_domain_accuracy.items():\n",
    "    per_domain_accuracy[domain] = {\n",
    "        \"accuracy\": accuracy,\n",
    "        \"source?\": domain in p.domains_source\n",
    "    }\n",
    "\n",
    "# Do an independent accuracy assesment JUST TO BE SURE!\n",
    "# _source_test_label_accuracy = independent_accuracy_assesment(model, datasets.source.processed.test, p.device)\n",
    "# _target_test_label_accuracy = independent_accuracy_assesment(model, datasets.target.processed.test, p.device)\n",
    "# _source_val_label_accuracy = independent_accuracy_assesment(model, datasets.source.processed.val, p.device)\n",
    "# _target_val_label_accuracy = independent_accuracy_assesment(model, datasets.target.processed.val, p.device)\n",
    "\n",
    "# assert(_source_test_label_accuracy == source_test_label_accuracy)\n",
    "# assert(_target_test_label_accuracy == target_test_label_accuracy)\n",
    "# assert(_source_val_label_accuracy == source_val_label_accuracy)\n",
    "# assert(_target_val_label_accuracy == target_val_label_accuracy)\n",
    "\n",
    "experiment = {\n",
    "    \"experiment_name\": p.experiment_name,\n",
    "    \"parameters\": dict(p),\n",
    "    \"results\": {\n",
    "        \"source_test_label_accuracy\": source_test_label_accuracy,\n",
    "        \"source_test_label_loss\": source_test_label_loss,\n",
    "        \"target_test_label_accuracy\": target_test_label_accuracy,\n",
    "        \"target_test_label_loss\": target_test_label_loss,\n",
    "        \"source_val_label_accuracy\": source_val_label_accuracy,\n",
    "        \"source_val_label_loss\": source_val_label_loss,\n",
    "        \"target_val_label_accuracy\": target_val_label_accuracy,\n",
    "        \"target_val_label_loss\": target_val_label_loss,\n",
    "        \"total_epochs_trained\": total_epochs_trained,\n",
    "        \"total_experiment_time_secs\": total_experiment_time_secs,\n",
    "        \"confusion\": confusion,\n",
    "        \"per_domain_accuracy\": per_domain_accuracy,\n",
    "    },\n",
    "    \"history\": history,\n",
    "    \"dataset_metrics\": get_dataset_metrics(datasets, \"ptn\"),\n",
    "}"
   ]
  },
  {
   "cell_type": "code",
   "execution_count": 25,
   "id": "54a21829",
   "metadata": {
    "execution": {
     "iopub.execute_input": "2022-03-21T03:08:10.491128Z",
     "iopub.status.busy": "2022-03-21T03:08:10.490662Z",
     "iopub.status.idle": "2022-03-21T03:08:10.722331Z",
     "shell.execute_reply": "2022-03-21T03:08:10.721975Z"
    },
    "papermill": {
     "duration": 0.287413,
     "end_time": "2022-03-21T03:08:10.722433",
     "exception": false,
     "start_time": "2022-03-21T03:08:10.435020",
     "status": "completed"
    },
    "tags": []
   },
   "outputs": [
    {
     "data": {
      "image/png": "[encoded data removed]",
      "text/plain": [
       "<Figure size 1080x504 with 1 Axes>"
      ]
     },
     "metadata": {
      "needs_background": "light"
     },
     "output_type": "display_data"
    }
   ],
   "source": [
    "ax = get_loss_curve(experiment)\n",
    "plt.show()"
   ]
  },
  {
   "cell_type": "code",
   "execution_count": 26,
   "id": "fd8a0f60",
   "metadata": {
    "execution": {
     "iopub.execute_input": "2022-03-21T03:08:10.836586Z",
     "iopub.status.busy": "2022-03-21T03:08:10.836077Z",
     "iopub.status.idle": "2022-03-21T03:08:11.187438Z",
     "shell.execute_reply": "2022-03-21T03:08:11.187865Z"
    },
    "papermill": {
     "duration": 0.40864,
     "end_time": "2022-03-21T03:08:11.188029",
     "exception": false,
     "start_time": "2022-03-21T03:08:10.779389",
     "status": "completed"
    },
    "tags": []
   },
   "outputs": [
    {
     "data": {
      "text/plain": [
       "<AxesSubplot:title={'center':'Results'}>"
      ]
     },
     "execution_count": 26,
     "metadata": {},
     "output_type": "execute_result"
    },
    {
     "data": {
      "image/png": "[encoded data removed]",
      "text/plain": [
       "<Figure size 1080x504 with 1 Axes>"
      ]
     },
     "metadata": {
      "needs_background": "light"
     },
     "output_type": "display_data"
    }
   ],
   "source": [
    "get_results_table(experiment)"
   ]
  },
  {
   "cell_type": "code",
   "execution_count": 27,
   "id": "cf8dc689",
   "metadata": {
    "execution": {
     "iopub.execute_input": "2022-03-21T03:08:11.295233Z",
     "iopub.status.busy": "2022-03-21T03:08:11.294866Z",
     "iopub.status.idle": "2022-03-21T03:08:11.560057Z",
     "shell.execute_reply": "2022-03-21T03:08:11.560758Z"
    },
    "papermill": {
     "duration": 0.321096,
     "end_time": "2022-03-21T03:08:11.560976",
     "exception": false,
     "start_time": "2022-03-21T03:08:11.239880",
     "status": "completed"
    },
    "tags": []
   },
   "outputs": [
    {
     "data": {
      "text/plain": [
       "<AxesSubplot:title={'center':'Per Domain Validation Accuracy'}, xlabel='domain'>"
      ]
     },
     "execution_count": 27,
     "metadata": {},
     "output_type": "execute_result"
    },
    {
     "data": {
      "image/png": "[encoded data removed]",
      "text/plain": [
       "<Figure size 1080x504 with 1 Axes>"
      ]
     },
     "metadata": {
      "needs_background": "light"
     },
     "output_type": "display_data"
    }
   ],
   "source": [
    "get_domain_accuracies(experiment)"
   ]
  },
  {
   "cell_type": "code",
   "execution_count": 28,
   "id": "a74ae082",
   "metadata": {
    "execution": {
     "iopub.execute_input": "2022-03-21T03:08:11.678523Z",
     "iopub.status.busy": "2022-03-21T03:08:11.677953Z",
     "iopub.status.idle": "2022-03-21T03:08:11.707740Z",
     "shell.execute_reply": "2022-03-21T03:08:11.707031Z"
    },
    "papermill": {
     "duration": 0.08785,
     "end_time": "2022-03-21T03:08:11.707908",
     "exception": false,
     "start_time": "2022-03-21T03:08:11.620058",
     "status": "completed"
    },
    "tags": []
   },
   "outputs": [
    {
     "name": "stdout",
     "output_type": "stream",
     "text": [
      "Source Test Label Accuracy: 0.999263468013468 Target Test Label Accuracy: 0.3235677083333333\n",
      "Source Val Label Accuracy: 0.9992865296803652 Target Val Label Accuracy: 0.31692708333333336\n"
     ]
    }
   ],
   "source": [
    "print(\"Source Test Label Accuracy:\", experiment[\"results\"][\"source_test_label_accuracy\"], \"Target Test Label Accuracy:\", experiment[\"results\"][\"target_test_label_accuracy\"])\n",
    "print(\"Source Val Label Accuracy:\", experiment[\"results\"][\"source_val_label_accuracy\"], \"Target Val Label Accuracy:\", experiment[\"results\"][\"target_val_label_accuracy\"])"
   ]
  },
  {
   "cell_type": "code",
   "execution_count": 29,
   "id": "dacca602",
   "metadata": {
    "execution": {
     "iopub.execute_input": "2022-03-21T03:08:11.822659Z",
     "iopub.status.busy": "2022-03-21T03:08:11.822097Z",
     "iopub.status.idle": "2022-03-21T03:08:11.851283Z",
     "shell.execute_reply": "2022-03-21T03:08:11.852006Z"
    },
    "papermill": {
     "duration": 0.087301,
     "end_time": "2022-03-21T03:08:11.852200",
     "exception": false,
     "start_time": "2022-03-21T03:08:11.764899",
     "status": "completed"
    },
    "tags": [
     "experiment_json"
    ]
   },
   "outputs": [
    {
     "data": {
      "text/plain": [
       "'{\"experiment_name\": \"tl_1v2:cores-oracle.run1.framed\", \"parameters\": {\"experiment_name\": \"tl_1v2:cores-oracle.run1.framed\", \"device\": \"cuda\", \"lr\": 0.0001, \"n_shot\": 3, \"n_query\": 2, \"train_k_factor\": 3, \"val_k_factor\": 2, \"test_k_factor\": 2, \"torch_default_dtype\": \"torch.float32\", \"n_epoch\": 50, \"patience\": 3, \"criteria_for_best\": \"target_accuracy\", \"x_net\": [{\"class\": \"nnReshape\", \"kargs\": {\"shape\": [-1, 1, 2, 256]}}, {\"class\": \"Conv2d\", \"kargs\": {\"in_channels\": 1, \"out_channels\": 256, \"kernel_size\": [1, 7], \"bias\": false, \"padding\": [0, 3]}}, {\"class\": \"ReLU\", \"kargs\": {\"inplace\": true}}, {\"class\": \"BatchNorm2d\", \"kargs\": {\"num_features\": 256}}, {\"class\": \"Conv2d\", \"kargs\": {\"in_channels\": 256, \"out_channels\": 80, \"kernel_size\": [2, 7], \"bias\": true, \"padding\": [0, 3]}}, {\"class\": \"ReLU\", \"kargs\": {\"inplace\": true}}, {\"class\": \"BatchNorm2d\", \"kargs\": {\"num_features\": 80}}, {\"class\": \"Flatten\", \"kargs\": {}}, {\"class\": \"Linear\", \"kargs\": {\"in_features\": 20480, \"out_features\": 256}}, {\"class\": \"ReLU\", \"kargs\": {\"inplace\": true}}, {\"class\": \"BatchNorm1d\", \"kargs\": {\"num_features\": 256}}, {\"class\": \"Linear\", \"kargs\": {\"in_features\": 256, \"out_features\": 256}}], \"NUM_LOGS_PER_EPOCH\": 10, \"BEST_MODEL_PATH\": \"./best_model.pth\", \"n_way\": 16, \"datasets\": [{\"labels\": [\"1-10.\", \"1-11.\", \"1-15.\", \"1-16.\", \"1-17.\", \"1-18.\", \"1-19.\", \"10-4.\", \"10-7.\", \"11-1.\", \"11-14.\", \"11-17.\", \"11-20.\", \"11-7.\", \"13-20.\", \"13-8.\", \"14-10.\", \"14-11.\", \"14-14.\", \"14-7.\", \"15-1.\", \"15-20.\", \"16-1.\", \"16-16.\", \"17-10.\", \"17-11.\", \"17-2.\", \"19-1.\", \"19-16.\", \"19-19.\", \"19-20.\", \"19-3.\", \"2-10.\", \"2-11.\", \"2-17.\", \"2-18.\", \"2-20.\", \"2-3.\", \"2-4.\", \"2-5.\", \"2-6.\", \"2-7.\", \"2-8.\", \"3-13.\", \"3-18.\", \"3-3.\", \"4-1.\", \"4-10.\", \"4-11.\", \"4-19.\", \"5-5.\", \"6-15.\", \"7-10.\", \"7-14.\", \"8-18.\", \"8-20.\", \"8-3.\", \"8-8.\"], \"domains\": [1, 2, 3, 4, 5], \"num_examples_per_domain_per_label\": -1, \"pickle_path\": \"/root/csc500-main/datasets/cores.stratified_ds.2022A.pkl\", \"source_or_target_dataset\": \"source\", \"x_transforms\": [\"unit_mag\"], \"episode_transforms\": [], \"domain_prefix\": \"CORES_\"}, {\"labels\": [\"3123D52\", \"3123D65\", \"3123D79\", \"3123D80\", \"3123D54\", \"3123D70\", \"3123D7B\", \"3123D89\", \"3123D58\", \"3123D76\", \"3123D7D\", \"3123EFE\", \"3123D64\", \"3123D78\", \"3123D7E\", \"3124E4A\"], \"domains\": [32, 38, 8, 44, 14, 50, 20, 26], \"num_examples_per_domain_per_label\": 2000, \"pickle_path\": \"/root/csc500-main/datasets/oracle.Run1_framed_2000Examples_stratified_ds.2022A.pkl\", \"source_or_target_dataset\": \"target\", \"x_transforms\": [\"unit_mag\"], \"episode_transforms\": [], \"domain_prefix\": \"ORACLE.run1_\"}], \"dataset_seed\": 1337, \"seed\": 1337, \"x_shape\": [2, 256], \"domains_source\": [\"CORES_1\", \"CORES_2\", \"CORES_3\", \"CORES_4\", \"CORES_5\"], \"domains_target\": [\"ORACLE.run1_32\", \"ORACLE.run1_38\", \"ORACLE.run1_8\", \"ORACLE.run1_44\", \"ORACLE.run1_14\", \"ORACLE.run1_50\", \"ORACLE.run1_20\", \"ORACLE.run1_26\"]}, \"results\": {\"source_test_label_accuracy\": 0.999263468013468, \"source_test_label_loss\": 0.008133837953209877, \"target_test_label_accuracy\": 0.3235677083333333, \"target_test_label_loss\": 2.2586612701416016, \"source_val_label_accuracy\": 0.9992865296803652, \"source_val_label_loss\": 0.010474846698343754, \"target_val_label_accuracy\": 0.31692708333333336, \"target_val_label_loss\": 2.2718753814697266, \"total_epochs_trained\": 9, \"total_experiment_time_secs\": 2078.5406081676483, \"confusion\": {\"CORES_3\": {\"43\": {\"43\": 128}, \"9\": {\"9\": 150}, \"6\": {\"6\": 87, \"38\": 1}, \"3\": {\"3\": 144}, \"16\": {\"16\": 134}, \"51\": {\"51\": 128}, \"31\": {\"31\": 28}, \"46\": {\"46\": 134}, \"19\": {\"19\": 124}, \"8\": {\"8\": 152}, \"18\": {\"18\": 84}, \"37\": {\"37\": 28}, \"24\": {\"24\": 104}, \"10\": {\"10\": 64}, \"44\": {\"44\": 88}, \"14\": {\"14\": 40}, \"38\": {\"38\": 28}, \"53\": {\"53\": 140}, \"20\": {\"20\": 132}, \"32\": {\"32\": 28}, \"36\": {\"36\": 100}, \"33\": {\"33\": 28}, \"56\": {\"56\": 136}, \"23\": {\"23\": 130}, \"54\": {\"54\": 100}, \"21\": {\"21\": 126}, \"28\": {\"28\": 27, \"5\": 1}, \"26\": {\"26\": 24}, \"48\": {\"48\": 116}, \"52\": {\"52\": 118}, \"39\": {\"39\": 16}, \"22\": {\"22\": 140}, \"13\": {\"13\": 128}, \"2\": {\"2\": 32}, \"34\": {\"34\": 32}, \"27\": {\"27\": 132}, \"45\": {\"45\": 60}, \"35\": {\"35\": 28}, \"29\": {\"29\": 128}, \"25\": {\"25\": 144}, \"0\": {\"0\": 124}, \"41\": {\"41\": 28}, \"11\": {\"11\": 142}, \"5\": {\"5\": 108}, \"1\": {\"1\": 100}, \"57\": {\"57\": 116}, \"17\": {\"17\": 106, \"10\": 1, \"24\": 1}, \"7\": {\"7\": 36}, \"12\": {\"12\": 92}, \"47\": {\"47\": 92}, \"40\": {\"40\": 136}, \"15\": {\"15\": 142}, \"42\": {\"42\": 28}, \"55\": {\"55\": 150}, \"49\": {\"49\": 20}, \"30\": {\"30\": 120}, \"50\": {\"50\": 134}, \"4\": {\"4\": 136}}, \"CORES_4\": {\"35\": {\"35\": 40}, \"25\": {\"25\": 134}, \"24\": {\"24\": 56}, \"48\": {\"48\": 138}, \"51\": {\"51\": 144}, \"13\": {\"13\": 120}, \"14\": {\"14\": 16}, \"32\": {\"32\": 24}, \"30\": {\"30\": 44}, \"34\": {\"34\": 24}, \"9\": {\"9\": 135, \"4\": 1}, \"1\": {\"1\": 40}, \"0\": {\"0\": 80}, \"38\": {\"38\": 40}, \"22\": {\"22\": 128}, \"40\": {\"40\": 120}, \"6\": {\"6\": 112}, \"16\": {\"16\": 96}, \"11\": {\"11\": 104}, \"20\": {\"20\": 122}, \"17\": {\"17\": 80}, \"26\": {\"26\": 24}, \"54\": {\"54\": 108}, \"55\": {\"55\": 154}, \"50\": {\"50\": 130, \"57\": 1, \"3\": 1}, \"19\": {\"19\": 142}, \"44\": {\"44\": 122}, \"47\": {\"47\": 120}, \"33\": {\"33\": 36}, \"5\": {\"5\": 108}, \"18\": {\"18\": 108}, \"21\": {\"21\": 124}, \"41\": {\"41\": 36}, \"23\": {\"23\": 128}, \"39\": {\"39\": 20}, \"37\": {\"37\": 24}, \"8\": {\"8\": 144}, \"49\": {\"49\": 20}, \"53\": {\"53\": 140}, \"31\": {\"31\": 28}, \"28\": {\"28\": 32}, \"3\": {\"3\": 124}, \"27\": {\"27\": 137, \"4\": 1}, \"46\": {\"46\": 126, \"22\": 1, \"47\": 1}, \"12\": {\"12\": 92}, \"7\": {\"7\": 24}, \"4\": {\"4\": 132}, \"42\": {\"42\": 32}, \"43\": {\"43\": 130}, \"29\": {\"29\": 120}, \"57\": {\"57\": 100}, \"52\": {\"52\": 104}, \"45\": {\"45\": 96}, \"36\": {\"36\": 92}, \"10\": {\"10\": 126}, \"15\": {\"15\": 134}, \"56\": {\"56\": 124}, \"2\": {\"2\": 36}}, \"CORES_5\": {\"47\": {\"47\": 100}, \"53\": {\"53\": 150}, \"29\": {\"29\": 126}, \"52\": {\"52\": 130}, \"55\": {\"55\": 144}, \"17\": {\"17\": 116}, \"42\": {\"42\": 40}, \"33\": {\"33\": 32}, \"11\": {\"11\": 148}, \"19\": {\"19\": 118}, \"1\": {\"1\": 144}, \"44\": {\"44\": 142}, \"49\": {\"49\": 36}, \"4\": {\"4\": 100}, \"6\": {\"6\": 116}, \"39\": {\"39\": 20}, \"50\": {\"50\": 147, \"8\": 1}, \"56\": {\"56\": 130}, \"25\": {\"25\": 144}, \"28\": {\"28\": 32}, \"35\": {\"35\": 36}, \"24\": {\"24\": 80}, \"21\": {\"21\": 132}, \"45\": {\"45\": 123, \"6\": 1}, \"16\": {\"16\": 144}, \"37\": {\"37\": 24}, \"57\": {\"57\": 132}, \"34\": {\"34\": 36}, \"38\": {\"38\": 32}, \"48\": {\"48\": 130}, \"26\": {\"26\": 24}, \"9\": {\"9\": 152}, \"18\": {\"18\": 64}, \"3\": {\"3\": 100}, \"23\": {\"23\": 124}, \"15\": {\"15\": 154}, \"10\": {\"10\": 68}, \"46\": {\"46\": 148}, \"22\": {\"22\": 28}, \"54\": {\"54\": 112}, \"27\": {\"27\": 160}, \"41\": {\"41\": 28}, \"31\": {\"31\": 36}, \"0\": {\"0\": 124}, \"7\": {\"7\": 32}, \"2\": {\"2\": 28}, \"14\": {\"14\": 44}, \"40\": {\"40\": 124}, \"5\": {\"5\": 128}, \"12\": {\"12\": 96}, \"43\": {\"43\": 142}, \"13\": {\"13\": 148}, \"36\": {\"36\": 92}, \"8\": {\"8\": 150}, \"32\": {\"32\": 32}, \"30\": {\"30\": 128}, \"51\": {\"51\": 138}, \"20\": {\"20\": 138}}, \"CORES_1\": {\"46\": {\"46\": 140}, \"16\": {\"16\": 134}, \"26\": {\"26\": 24}, \"10\": {\"10\": 95, \"21\": 1}, \"9\": {\"9\": 156}, \"28\": {\"28\": 28}, \"51\": {\"51\": 156}, \"1\": {\"1\": 100}, \"55\": {\"55\": 148}, \"27\": {\"27\": 124}, \"22\": {\"22\": 123, \"24\": 1}, \"52\": {\"52\": 126}, \"3\": {\"3\": 140}, \"33\": {\"33\": 32}, \"47\": {\"47\": 120}, \"42\": {\"42\": 40}, \"12\": {\"12\": 116}, \"23\": {\"23\": 132}, \"49\": {\"49\": 32}, \"7\": {\"7\": 28}, \"4\": {\"4\": 132}, \"50\": {\"50\": 134}, \"19\": {\"19\": 154}, \"11\": {\"11\": 140}, \"31\": {\"31\": 28}, \"41\": {\"41\": 24}, \"56\": {\"56\": 138}, \"0\": {\"0\": 148}, \"57\": {\"57\": 128}, \"53\": {\"53\": 140}, \"43\": {\"43\": 144}, \"37\": {\"37\": 32}, \"2\": {\"2\": 36}, \"6\": {\"6\": 95, \"8\": 1}, \"13\": {\"13\": 150}, \"18\": {\"18\": 72}, \"36\": {\"36\": 62, \"21\": 1, \"16\": 1}, \"29\": {\"29\": 140}, \"39\": {\"39\": 28}, \"17\": {\"17\": 64}, \"21\": {\"21\": 124}, \"25\": {\"25\": 132}, \"45\": {\"45\": 142}, \"38\": {\"38\": 24}, \"30\": {\"30\": 120}, \"24\": {\"24\": 107, \"22\": 1}, \"20\": {\"20\": 140}, \"8\": {\"8\": 140}, \"35\": {\"35\": 36}, \"54\": {\"54\": 104}, \"5\": {\"5\": 148}, \"48\": {\"48\": 144}, \"15\": {\"15\": 142}, \"34\": {\"34\": 24}, \"14\": {\"14\": 24}, \"32\": {\"32\": 32}, \"40\": {\"40\": 148}, \"44\": {\"44\": 136}}, \"CORES_2\": {\"36\": {\"36\": 116}, \"5\": {\"5\": 120}, \"45\": {\"45\": 128}, \"49\": {\"49\": 24}, \"50\": {\"50\": 136}, \"4\": {\"4\": 138}, \"43\": {\"43\": 148}, \"41\": {\"41\": 20}, \"37\": {\"37\": 36}, \"12\": {\"12\": 92}, \"33\": {\"33\": 28}, \"7\": {\"7\": 36}, \"56\": {\"56\": 140}, \"14\": {\"14\": 24}, \"52\": {\"52\": 124}, \"44\": {\"44\": 96}, \"48\": {\"48\": 144}, \"20\": {\"20\": 128}, \"55\": {\"55\": 144}, \"32\": {\"32\": 28}, \"40\": {\"40\": 136}, \"54\": {\"54\": 108}, \"17\": {\"17\": 104}, \"38\": {\"38\": 20}, \"24\": {\"24\": 96}, \"1\": {\"1\": 112}, \"6\": {\"6\": 124}, \"34\": {\"34\": 28}, \"11\": {\"11\": 136}, \"9\": {\"9\": 150}, \"8\": {\"8\": 152}, \"22\": {\"22\": 136}, \"26\": {\"26\": 24}, \"23\": {\"23\": 146}, \"10\": {\"10\": 111, \"11\": 1}, \"18\": {\"18\": 48}, \"13\": {\"13\": 115, \"24\": 1}, \"30\": {\"30\": 128}, \"42\": {\"42\": 36}, \"31\": {\"31\": 28}, \"46\": {\"46\": 128}, \"57\": {\"57\": 142}, \"47\": {\"47\": 138}, \"35\": {\"35\": 32}, \"15\": {\"15\": 132}, \"25\": {\"25\": 136}, \"19\": {\"19\": 136}, \"51\": {\"51\": 128}, \"53\": {\"53\": 134}, \"21\": {\"21\": 120}, \"39\": {\"39\": 28}, \"2\": {\"2\": 32}, \"16\": {\"16\": 150}, \"0\": {\"0\": 48}, \"3\": {\"3\": 92}, \"27\": {\"27\": 142}, \"28\": {\"28\": 28}, \"29\": {\"29\": 128}}, \"ORACLE.run1_14\": {\"15\": {\"15\": 137, \"7\": 83, \"5\": 3, \"1\": 4, \"2\": 5, \"13\": 4, \"6\": 1, \"4\": 2, \"14\": 1}, \"3\": {\"13\": 18, \"14\": 26, \"3\": 49, \"10\": 27, \"0\": 27, \"1\": 17, \"4\": 26, \"2\": 17, \"8\": 6, \"5\": 16, \"11\": 2, \"6\": 8, \"9\": 1}, \"6\": {\"3\": 16, \"4\": 17, \"14\": 37, \"7\": 3, \"6\": 51, \"13\": 56, \"1\": 7, \"2\": 34, \"10\": 5, \"5\": 14}, \"1\": {\"3\": 20, \"1\": 71, \"2\": 20, \"4\": 38, \"5\": 32, \"8\": 7, \"13\": 8, \"15\": 7, \"7\": 18, \"6\": 11, \"14\": 6, \"0\": 1, \"10\": 1}, \"8\": {\"8\": 141, \"9\": 11, \"0\": 18, \"4\": 15, \"1\": 8, \"2\": 3, \"3\": 21, \"10\": 13, \"11\": 5, \"5\": 5}, \"10\": {\"0\": 67, \"3\": 24, \"10\": 81, \"6\": 3, \"11\": 17, \"14\": 17, \"13\": 7, \"2\": 4, \"8\": 6, \"5\": 2, \"9\": 9, \"4\": 3}, \"9\": {\"0\": 14, \"9\": 123, \"11\": 48, \"12\": 43, \"8\": 10, \"10\": 2}, \"13\": {\"4\": 21, \"13\": 42, \"6\": 51, \"1\": 14, \"3\": 20, \"5\": 19, \"2\": 27, \"14\": 30, \"10\": 7, \"7\": 5, \"15\": 3, \"0\": 1}, \"12\": {\"12\": 168, \"9\": 54, \"11\": 17, \"0\": 1}, \"5\": {\"1\": 47, \"3\": 25, \"2\": 25, \"13\": 10, \"8\": 5, \"4\": 51, \"7\": 13, \"5\": 34, \"10\": 4, \"6\": 11, \"15\": 7, \"14\": 6, \"0\": 2}, \"0\": {\"0\": 64, \"3\": 28, \"9\": 17, \"4\": 4, \"11\": 35, \"5\": 4, \"10\": 58, \"8\": 17, \"14\": 11, \"13\": 1, \"6\": 1}, \"2\": {\"14\": 29, \"7\": 10, \"1\": 24, \"3\": 16, \"4\": 14, \"5\": 31, \"6\": 33, \"13\": 34, \"2\": 31, \"10\": 8, \"15\": 6, \"0\": 4}, \"11\": {\"11\": 113, \"0\": 32, \"9\": 46, \"10\": 23, \"12\": 16, \"14\": 5, \"8\": 3, \"4\": 1, \"2\": 1}, \"14\": {\"14\": 56, \"6\": 37, \"13\": 36, \"3\": 30, \"5\": 10, \"0\": 15, \"7\": 1, \"4\": 12, \"2\": 20, \"10\": 16, \"11\": 1, \"1\": 6}, \"7\": {\"15\": 88, \"2\": 6, \"7\": 98, \"5\": 13, \"6\": 6, \"1\": 24, \"13\": 2, \"4\": 3}, \"4\": {\"3\": 38, \"2\": 16, \"1\": 33, \"4\": 51, \"10\": 8, \"13\": 14, \"5\": 29, \"8\": 10, \"14\": 14, \"6\": 17, \"0\": 5, \"7\": 4, \"11\": 1}}, \"ORACLE.run1_20\": {\"3\": {\"1\": 15, \"12\": 16, \"4\": 14, \"13\": 16, \"10\": 11, \"8\": 18, \"7\": 14, \"2\": 20, \"15\": 20, \"3\": 20, \"6\": 9, \"0\": 17, \"9\": 22, \"11\": 3, \"5\": 19, \"14\": 6}, \"15\": {\"5\": 30, \"2\": 13, \"9\": 20, \"13\": 27, \"3\": 16, \"15\": 41, \"1\": 31, \"0\": 31, \"8\": 4, \"12\": 15, \"4\": 6, \"6\": 2, \"7\": 3, \"10\": 1}, \"8\": {\"3\": 18, \"4\": 27, \"2\": 9, \"8\": 31, \"12\": 8, \"6\": 17, \"14\": 26, \"10\": 25, \"7\": 28, \"15\": 4, \"0\": 14, \"11\": 4, \"1\": 7, \"5\": 11, \"13\": 4, \"9\": 7}, \"4\": {\"5\": 18, \"4\": 38, \"12\": 17, \"3\": 19, \"10\": 20, \"0\": 9, \"14\": 12, \"8\": 37, \"1\": 12, \"13\": 7, \"9\": 8, \"2\": 12, \"6\": 8, \"7\": 17, \"11\": 2, \"15\": 4}, \"14\": {\"14\": 49, \"7\": 16, \"10\": 53, \"4\": 21, \"8\": 23, \"6\": 53, \"11\": 12, \"9\": 3, \"5\": 2, \"3\": 4, \"12\": 1, \"2\": 2, \"1\": 1}, \"0\": {\"5\": 45, \"12\": 15, \"8\": 14, \"3\": 23, \"1\": 19, \"13\": 16, \"0\": 25, \"4\": 21, \"15\": 30, \"10\": 2, \"2\": 4, \"9\": 11, \"14\": 3, \"7\": 11, \"11\": 1}, \"7\": {\"3\": 17, \"0\": 7, \"11\": 26, \"4\": 18, \"1\": 12, \"13\": 16, \"7\": 20, \"15\": 7, \"2\": 20, \"8\": 18, \"12\": 10, \"6\": 17, \"10\": 14, \"14\": 18, \"9\": 14, \"5\": 6}, \"6\": {\"11\": 42, \"14\": 50, \"4\": 12, \"8\": 15, \"1\": 1, \"10\": 35, \"2\": 11, \"6\": 41, \"3\": 7, \"7\": 16, \"15\": 1, \"9\": 4, \"12\": 2, \"0\": 1, \"13\": 2}, \"10\": {\"8\": 24, \"3\": 11, \"9\": 7, \"14\": 44, \"2\": 5, \"4\": 23, \"11\": 11, \"7\": 10, \"10\": 48, \"15\": 2, \"6\": 41, \"0\": 3, \"13\": 1, \"5\": 4, \"12\": 5, \"1\": 1}, \"5\": {\"4\": 16, \"2\": 10, \"0\": 31, \"9\": 13, \"5\": 41, \"8\": 6, \"1\": 30, \"12\": 19, \"3\": 14, \"15\": 27, \"7\": 8, \"13\": 17, \"10\": 4, \"14\": 3, \"11\": 1}, \"2\": {\"11\": 26, \"15\": 11, \"1\": 18, \"12\": 27, \"5\": 11, \"8\": 12, \"13\": 31, \"7\": 18, \"4\": 12, \"0\": 5, \"9\": 20, \"14\": 2, \"2\": 20, \"10\": 8, \"3\": 12, \"6\": 7}, \"12\": {\"10\": 2, \"13\": 29, \"15\": 29, \"0\": 21, \"1\": 27, \"12\": 23, \"2\": 17, \"6\": 4, \"8\": 15, \"4\": 9, \"9\": 20, \"3\": 15, \"5\": 17, \"7\": 9, \"11\": 2, \"14\": 1}, \"9\": {\"3\": 20, \"13\": 29, \"8\": 10, \"7\": 15, \"1\": 21, \"10\": 9, \"15\": 16, \"11\": 18, \"5\": 9, \"9\": 21, \"2\": 20, \"6\": 6, \"0\": 10, \"14\": 7, \"12\": 19, \"4\": 10}, \"1\": {\"15\": 30, \"5\": 33, \"12\": 27, \"1\": 23, \"0\": 19, \"2\": 23, \"13\": 24, \"8\": 7, \"6\": 1, \"3\": 17, \"9\": 15, \"4\": 9, \"10\": 2, \"11\": 2, \"7\": 7, \"14\": 1}, \"11\": {\"11\": 128, \"6\": 28, \"2\": 12, \"8\": 7, \"13\": 14, \"7\": 19, \"9\": 12, \"14\": 8, \"3\": 2, \"0\": 1, \"1\": 2, \"15\": 2, \"10\": 4, \"4\": 1}, \"13\": {\"2\": 13, \"0\": 12, \"7\": 14, \"9\": 22, \"11\": 15, \"13\": 35, \"1\": 18, \"15\": 31, \"3\": 15, \"8\": 8, \"5\": 22, \"12\": 24, \"4\": 5, \"10\": 6}}, \"ORACLE.run1_38\": {\"5\": {\"8\": 31, \"0\": 28, \"13\": 8, \"5\": 45, \"7\": 26, \"15\": 27, \"9\": 14, \"10\": 12, \"6\": 27, \"1\": 18, \"14\": 1, \"3\": 3}, \"8\": {\"5\": 48, \"10\": 25, \"8\": 36, \"1\": 16, \"12\": 4, \"15\": 17, \"7\": 32, \"6\": 17, \"0\": 32, \"13\": 12, \"9\": 1}, \"11\": {\"11\": 95, \"2\": 26, \"14\": 74, \"12\": 19, \"10\": 15, \"15\": 3, \"13\": 6, \"4\": 2}, \"1\": {\"15\": 54, \"5\": 19, \"1\": 98, \"8\": 9, \"10\": 6, \"13\": 32, \"0\": 6, \"7\": 2, \"2\": 5, \"9\": 4, \"6\": 5}, \"10\": {\"12\": 9, \"0\": 14, \"8\": 33, \"10\": 75, \"15\": 26, \"14\": 9, \"13\": 27, \"7\": 8, \"1\": 5, \"2\": 7, \"11\": 12, \"5\": 12, \"4\": 3}, \"15\": {\"13\": 49, \"15\": 57, \"1\": 48, \"0\": 6, \"14\": 7, \"8\": 12, \"10\": 31, \"2\": 13, \"5\": 13, \"11\": 2, \"9\": 1, \"7\": 1}, \"3\": {\"7\": 15, \"3\": 153, \"9\": 43, \"6\": 24, \"5\": 3, \"0\": 2}, \"7\": {\"0\": 41, \"8\": 24, \"7\": 102, \"5\": 34, \"6\": 13, \"10\": 7, \"3\": 9, \"4\": 3, \"9\": 4, \"1\": 1, \"15\": 1, \"12\": 1}, \"4\": {\"8\": 2, \"4\": 162, \"12\": 53, \"0\": 5, \"5\": 3, \"7\": 12, \"14\": 1, \"10\": 2}, \"14\": {\"14\": 118, \"11\": 63, \"2\": 39, \"12\": 4, \"10\": 12, \"15\": 1, \"1\": 1, \"8\": 1, \"13\": 1}, \"9\": {\"9\": 91, \"6\": 77, \"7\": 11, \"3\": 35, \"0\": 12, \"5\": 11, \"8\": 1, \"1\": 2}, \"12\": {\"4\": 48, \"12\": 153, \"14\": 11, \"10\": 12, \"7\": 2, \"11\": 6, \"8\": 5, \"0\": 3}, \"6\": {\"6\": 80, \"9\": 60, \"5\": 24, \"3\": 23, \"0\": 7, \"7\": 13, \"15\": 3, \"8\": 14, \"1\": 16}, \"2\": {\"2\": 140, \"11\": 16, \"14\": 32, \"13\": 24, \"1\": 6, \"15\": 15, \"10\": 6, \"8\": 1}, \"0\": {\"8\": 28, \"7\": 44, \"6\": 12, \"0\": 53, \"3\": 13, \"5\": 32, \"15\": 9, \"12\": 4, \"9\": 9, \"10\": 20, \"4\": 4, \"1\": 9, \"13\": 3}, \"13\": {\"15\": 44, \"13\": 72, \"1\": 49, \"10\": 11, \"2\": 31, \"5\": 12, \"8\": 9, \"11\": 2, \"6\": 3, \"14\": 6, \"0\": 1}}, \"ORACLE.run1_8\": {\"9\": {\"9\": 211, \"10\": 9, \"13\": 4, \"5\": 11, \"11\": 1, \"4\": 2, \"0\": 1, \"14\": 1}, \"10\": {\"11\": 15, \"14\": 30, \"1\": 17, \"13\": 25, \"6\": 19, \"4\": 31, \"5\": 33, \"10\": 30, \"0\": 19, \"7\": 14, \"8\": 4, \"9\": 2, \"15\": 1}, \"13\": {\"0\": 24, \"1\": 18, \"2\": 5, \"4\": 31, \"6\": 26, \"10\": 30, \"5\": 19, \"14\": 21, \"11\": 6, \"3\": 1, \"13\": 28, \"9\": 1, \"7\": 18, \"8\": 8, \"15\": 3, \"12\": 1}, \"0\": {\"14\": 24, \"7\": 30, \"0\": 41, \"5\": 5, \"11\": 7, \"6\": 25, \"2\": 10, \"3\": 3, \"4\": 14, \"13\": 34, \"1\": 8, \"15\": 4, \"10\": 23, \"8\": 7, \"9\": 2, \"12\": 3}, \"1\": {\"5\": 47, \"4\": 14, \"1\": 48, \"6\": 8, \"11\": 52, \"7\": 3, \"13\": 13, \"10\": 14, \"14\": 21, \"8\": 17, \"15\": 1, \"0\": 2}, \"15\": {\"15\": 62, \"12\": 56, \"7\": 16, \"3\": 20, \"13\": 4, \"8\": 33, \"6\": 10, \"2\": 26, \"0\": 4, \"4\": 6, \"14\": 3}, \"5\": {\"11\": 31, \"9\": 9, \"14\": 31, \"5\": 56, \"1\": 29, \"4\": 16, \"6\": 6, \"10\": 30, \"13\": 21, \"0\": 8, \"8\": 2, \"7\": 1}, \"3\": {\"2\": 55, \"3\": 92, \"4\": 1, \"12\": 41, \"6\": 8, \"7\": 6, \"15\": 29, \"0\": 3, \"13\": 2, \"8\": 3}, \"6\": {\"2\": 17, \"7\": 22, \"0\": 28, \"13\": 23, \"10\": 17, \"4\": 25, \"12\": 8, \"15\": 8, \"14\": 26, \"8\": 22, \"6\": 27, \"1\": 7, \"3\": 5, \"11\": 5}, \"11\": {\"14\": 21, \"5\": 39, \"11\": 59, \"13\": 10, \"1\": 42, \"8\": 17, \"4\": 16, \"10\": 13, \"7\": 6, \"15\": 3, \"6\": 11, \"0\": 2, \"12\": 1}, \"8\": {\"15\": 33, \"8\": 60, \"7\": 14, \"12\": 21, \"6\": 19, \"1\": 15, \"0\": 5, \"4\": 19, \"2\": 10, \"3\": 8, \"13\": 9, \"10\": 5, \"11\": 16, \"14\": 6}, \"4\": {\"13\": 31, \"10\": 17, \"2\": 4, \"14\": 21, \"0\": 25, \"6\": 27, \"8\": 13, \"4\": 32, \"5\": 13, \"11\": 17, \"1\": 17, \"15\": 6, \"7\": 17}, \"12\": {\"15\": 56, \"3\": 53, \"1\": 2, \"12\": 50, \"7\": 12, \"8\": 30, \"2\": 26, \"13\": 3, \"4\": 3, \"0\": 1, \"11\": 2, \"6\": 2}, \"14\": {\"5\": 29, \"11\": 14, \"1\": 27, \"0\": 16, \"10\": 16, \"6\": 26, \"13\": 28, \"14\": 25, \"4\": 28, \"12\": 3, \"7\": 11, \"9\": 1, \"8\": 14, \"15\": 2}, \"2\": {\"3\": 74, \"2\": 71, \"4\": 5, \"12\": 22, \"1\": 1, \"7\": 18, \"8\": 6, \"15\": 19, \"13\": 3, \"0\": 14, \"6\": 4, \"14\": 1, \"10\": 2}, \"7\": {\"10\": 11, \"7\": 36, \"13\": 20, \"12\": 9, \"0\": 36, \"6\": 33, \"14\": 9, \"8\": 15, \"1\": 6, \"3\": 8, \"4\": 17, \"2\": 22, \"15\": 10, \"5\": 2, \"11\": 6}}, \"ORACLE.run1_50\": {\"7\": {\"10\": 33, \"13\": 53, \"7\": 70, \"6\": 25, \"5\": 26, \"4\": 5, \"0\": 12, \"2\": 3, \"3\": 3, \"1\": 3, \"15\": 1, \"8\": 6}, \"3\": {\"3\": 184, \"8\": 45, \"10\": 8, \"7\": 2, \"13\": 1}, \"8\": {\"8\": 106, \"10\": 41, \"0\": 10, \"5\": 2, \"3\": 69, \"13\": 6, \"7\": 4, \"6\": 1, \"2\": 1}, \"2\": {\"2\": 109, \"0\": 82, \"1\": 3, \"14\": 14, \"10\": 15, \"4\": 5, \"5\": 3, \"13\": 2, \"7\": 3, \"15\": 1, \"8\": 1, \"6\": 2}, \"14\": {\"12\": 31, \"1\": 30, \"14\": 105, \"15\": 10, \"11\": 28, \"2\": 15, \"9\": 12, \"6\": 1, \"0\": 2, \"4\": 5, \"5\": 1}, \"4\": {\"15\": 38, \"5\": 27, \"2\": 5, \"1\": 42, \"4\": 45, \"13\": 20, \"7\": 12, \"6\": 24, \"14\": 9, \"11\": 11, \"9\": 1, \"0\": 3, \"10\": 2, \"12\": 1}, \"6\": {\"6\": 53, \"15\": 22, \"13\": 35, \"2\": 8, \"4\": 30, \"1\": 28, \"5\": 24, \"7\": 26, \"14\": 4, \"10\": 4, \"0\": 5, \"12\": 1}, \"15\": {\"15\": 81, \"4\": 50, \"5\": 5, \"14\": 22, \"1\": 36, \"11\": 23, \"6\": 17, \"13\": 2, \"9\": 3, \"7\": 1}, \"10\": {\"5\": 12, \"2\": 14, \"13\": 28, \"7\": 17, \"10\": 69, \"0\": 45, \"3\": 8, \"8\": 40, \"6\": 6, \"1\": 1}, \"11\": {\"9\": 47, \"15\": 31, \"4\": 13, \"11\": 76, \"12\": 25, \"14\": 36, \"1\": 11, \"0\": 1}, \"13\": {\"5\": 29, \"13\": 46, \"7\": 60, \"10\": 23, \"0\": 15, \"1\": 8, \"8\": 3, \"6\": 39, \"4\": 9, \"15\": 3, \"2\": 5}, \"9\": {\"9\": 115, \"12\": 59, \"11\": 47, \"15\": 5, \"14\": 12, \"1\": 1, \"4\": 1}, \"0\": {\"2\": 37, \"0\": 88, \"10\": 51, \"5\": 13, \"1\": 4, \"8\": 10, \"6\": 9, \"7\": 10, \"14\": 1, \"13\": 14, \"4\": 3}, \"1\": {\"12\": 1, \"15\": 45, \"10\": 3, \"4\": 48, \"14\": 25, \"13\": 9, \"2\": 6, \"0\": 7, \"11\": 16, \"1\": 43, \"6\": 22, \"5\": 13, \"9\": 1, \"7\": 1}, \"12\": {\"9\": 55, \"12\": 116, \"11\": 31, \"14\": 34, \"1\": 2, \"15\": 1, \"4\": 1}, \"5\": {\"7\": 42, \"4\": 24, \"6\": 28, \"13\": 46, \"0\": 9, \"5\": 32, \"15\": 12, \"1\": 18, \"10\": 15, \"2\": 7, \"14\": 4, \"8\": 1, \"3\": 1, \"11\": 1}}, \"ORACLE.run1_32\": {\"8\": {\"4\": 19, \"14\": 14, \"5\": 26, \"8\": 59, \"3\": 19, \"13\": 32, \"11\": 8, \"15\": 18, \"7\": 18, \"0\": 22, \"2\": 5}, \"14\": {\"14\": 66, \"3\": 11, \"7\": 36, \"11\": 56, \"8\": 16, \"0\": 14, \"2\": 9, \"13\": 13, \"5\": 9, \"4\": 9, \"15\": 1}, \"2\": {\"2\": 100, \"4\": 62, \"0\": 33, \"7\": 20, \"8\": 6, \"11\": 1, \"13\": 1, \"5\": 7, \"14\": 7, \"9\": 3}, \"0\": {\"7\": 29, \"4\": 43, \"13\": 13, \"2\": 49, \"14\": 15, \"0\": 45, \"8\": 26, \"5\": 16, \"11\": 3, \"3\": 1}, \"1\": {\"1\": 191, \"10\": 46, \"6\": 3}, \"10\": {\"12\": 11, \"10\": 179, \"1\": 38, \"6\": 12}, \"11\": {\"11\": 104, \"14\": 55, \"7\": 20, \"5\": 11, \"3\": 27, \"2\": 1, \"8\": 9, \"0\": 5, \"13\": 8}, \"5\": {\"14\": 14, \"11\": 16, \"4\": 25, \"8\": 35, \"13\": 30, \"5\": 33, \"3\": 25, \"0\": 20, \"2\": 9, \"7\": 31, \"15\": 2}, \"15\": {\"15\": 189, \"11\": 1, \"13\": 12, \"3\": 24, \"8\": 11, \"4\": 1, \"7\": 1, \"5\": 1}, \"3\": {\"3\": 138, \"13\": 21, \"15\": 23, \"5\": 16, \"8\": 12, \"7\": 4, \"11\": 22, \"14\": 4}, \"12\": {\"9\": 29, \"12\": 191, \"6\": 16, \"10\": 4}, \"7\": {\"14\": 34, \"8\": 18, \"11\": 23, \"5\": 24, \"7\": 36, \"4\": 34, \"2\": 30, \"13\": 21, \"0\": 15, \"3\": 5}, \"13\": {\"8\": 33, \"3\": 24, \"13\": 51, \"5\": 33, \"0\": 16, \"4\": 21, \"11\": 12, \"7\": 27, \"14\": 8, \"15\": 8, \"2\": 7}, \"6\": {\"6\": 207, \"12\": 16, \"10\": 13, \"1\": 4}, \"4\": {\"7\": 31, \"8\": 22, \"4\": 68, \"5\": 21, \"13\": 13, \"0\": 40, \"2\": 36, \"14\": 8, \"11\": 1}, \"9\": {\"9\": 194, \"2\": 11, \"12\": 32, \"0\": 1, \"4\": 2}}, \"ORACLE.run1_26\": {\"4\": {\"10\": 27, \"14\": 44, \"4\": 23, \"0\": 23, \"8\": 19, \"1\": 27, \"2\": 9, \"3\": 12, \"7\": 27, \"15\": 9, \"9\": 9, \"13\": 3, \"5\": 1, \"6\": 7}, \"12\": {\"12\": 165, \"11\": 49, \"6\": 17, \"9\": 2, \"10\": 1, \"13\": 3, \"8\": 1, \"0\": 1, \"15\": 1}, \"10\": {\"0\": 30, \"14\": 19, \"9\": 13, \"3\": 6, \"6\": 26, \"15\": 17, \"8\": 20, \"1\": 23, \"7\": 16, \"10\": 24, \"4\": 21, \"5\": 7, \"2\": 8, \"12\": 4, \"11\": 1, \"13\": 5}, \"0\": {\"0\": 27, \"4\": 24, \"6\": 26, \"9\": 13, \"10\": 22, \"8\": 20, \"13\": 5, \"14\": 29, \"1\": 25, \"7\": 16, \"3\": 6, \"15\": 17, \"5\": 2, \"12\": 1, \"2\": 7}, \"13\": {\"13\": 61, \"10\": 13, \"9\": 31, \"6\": 23, \"5\": 34, \"3\": 11, \"12\": 2, \"8\": 12, \"2\": 7, \"15\": 18, \"7\": 6, \"1\": 2, \"11\": 11, \"14\": 2, \"0\": 4, \"4\": 3}, \"9\": {\"5\": 28, \"9\": 38, \"6\": 22, \"15\": 20, \"13\": 34, \"1\": 8, \"10\": 11, \"8\": 16, \"14\": 4, \"0\": 13, \"3\": 14, \"7\": 12, \"12\": 1, \"2\": 6, \"4\": 12, \"11\": 1}, \"3\": {\"15\": 15, \"2\": 53, \"3\": 51, \"4\": 16, \"7\": 31, \"10\": 4, \"9\": 11, \"5\": 15, \"1\": 10, \"14\": 14, \"8\": 11, \"13\": 6, \"6\": 1, \"0\": 2}, \"2\": {\"3\": 42, \"7\": 27, \"2\": 38, \"4\": 16, \"5\": 20, \"1\": 12, \"9\": 12, \"13\": 15, \"10\": 4, \"8\": 21, \"14\": 9, \"15\": 16, \"6\": 3, \"0\": 5}, \"5\": {\"8\": 10, \"1\": 4, \"2\": 29, \"13\": 36, \"4\": 7, \"15\": 27, \"6\": 15, \"5\": 31, \"9\": 21, \"3\": 22, \"10\": 18, \"7\": 8, \"14\": 5, \"0\": 3, \"12\": 2, \"11\": 2}, \"14\": {\"1\": 36, \"3\": 14, \"8\": 14, \"10\": 23, \"2\": 12, \"0\": 30, \"15\": 12, \"4\": 23, \"14\": 27, \"9\": 7, \"6\": 14, \"5\": 5, \"12\": 2, \"7\": 18, \"13\": 3}, \"8\": {\"14\": 19, \"3\": 9, \"10\": 14, \"8\": 19, \"2\": 15, \"4\": 15, \"7\": 26, \"1\": 21, \"6\": 20, \"9\": 17, \"12\": 2, \"15\": 22, \"0\": 15, \"5\": 19, \"13\": 7}, \"7\": {\"8\": 15, \"2\": 30, \"1\": 19, \"7\": 30, \"3\": 40, \"9\": 10, \"6\": 8, \"0\": 16, \"5\": 19, \"10\": 9, \"4\": 23, \"15\": 9, \"14\": 10, \"13\": 2}, \"6\": {\"0\": 24, \"13\": 20, \"9\": 24, \"6\": 38, \"12\": 14, \"8\": 20, \"14\": 15, \"1\": 6, \"11\": 9, \"4\": 12, \"15\": 28, \"5\": 9, \"10\": 14, \"2\": 4, \"7\": 2, \"3\": 1}, \"11\": {\"12\": 51, \"11\": 169, \"13\": 8, \"9\": 1, \"6\": 8, \"8\": 1, \"10\": 1, \"15\": 1}, \"15\": {\"15\": 28, \"13\": 27, \"10\": 18, \"11\": 2, \"7\": 17, \"3\": 11, \"5\": 26, \"4\": 11, \"6\": 20, \"0\": 11, \"14\": 12, \"12\": 1, \"8\": 25, \"9\": 11, \"2\": 14, \"1\": 6}, \"1\": {\"10\": 17, \"14\": 36, \"1\": 25, \"15\": 10, \"2\": 11, \"0\": 31, \"9\": 11, \"8\": 13, \"4\": 32, \"7\": 22, \"3\": 16, \"5\": 9, \"13\": 1, \"6\": 6}}, \"ORACLE.run1_44\": {\"12\": {\"10\": 69, \"12\": 87, \"1\": 53, \"3\": 26, \"2\": 4, \"7\": 1}, \"7\": {\"13\": 13, \"7\": 63, \"11\": 9, \"2\": 32, \"6\": 24, \"9\": 47, \"1\": 20, \"12\": 9, \"3\": 21, \"10\": 2}, \"5\": {\"5\": 86, \"0\": 57, \"14\": 22, \"8\": 26, \"15\": 33, \"4\": 16}, \"15\": {\"15\": 93, \"4\": 19, \"5\": 22, \"14\": 34, \"0\": 37, \"8\": 35}, \"8\": {\"5\": 33, \"8\": 89, \"0\": 76, \"15\": 39, \"14\": 3}, \"2\": {\"1\": 34, \"9\": 9, \"12\": 15, \"3\": 18, \"10\": 30, \"2\": 66, \"7\": 54, \"13\": 3, \"6\": 9, \"11\": 2}, \"13\": {\"13\": 86, \"6\": 34, \"11\": 45, \"9\": 52, \"14\": 3, \"4\": 4, \"7\": 14, \"2\": 2}, \"4\": {\"4\": 115, \"14\": 76, \"15\": 14, \"13\": 11, \"9\": 5, \"7\": 1, \"5\": 13, \"0\": 4, \"8\": 1}, \"0\": {\"0\": 70, \"15\": 44, \"8\": 79, \"5\": 40, \"14\": 7}, \"6\": {\"6\": 90, \"9\": 46, \"7\": 26, \"11\": 23, \"13\": 45, \"2\": 8, \"10\": 1, \"4\": 1}, \"9\": {\"7\": 37, \"4\": 5, \"11\": 24, \"13\": 54, \"9\": 63, \"6\": 32, \"2\": 9, \"14\": 2, \"1\": 3, \"3\": 10, \"10\": 1}, \"11\": {\"11\": 111, \"13\": 60, \"6\": 29, \"9\": 26, \"7\": 8, \"4\": 1, \"2\": 3, \"10\": 1, \"14\": 1}, \"10\": {\"1\": 35, \"10\": 109, \"12\": 60, \"2\": 26, \"3\": 7, \"7\": 2, \"6\": 1}, \"14\": {\"4\": 82, \"15\": 39, \"14\": 77, \"5\": 27, \"8\": 3, \"9\": 1, \"13\": 5, \"0\": 5, \"11\": 1}, \"1\": {\"1\": 60, \"12\": 55, \"7\": 12, \"3\": 50, \"10\": 38, \"2\": 22, \"9\": 2, \"6\": 1}, \"3\": {\"3\": 116, \"1\": 58, \"7\": 23, \"12\": 15, \"10\": 6, \"2\": 12, \"9\": 9, \"6\": 1}}}, \"per_domain_accuracy\": {\"CORES_3\": {\"accuracy\": 0.9992732558139535, \"source?\": true}, \"CORES_4\": {\"accuracy\": 0.9988636363636364, \"source?\": true}, \"CORES_5\": {\"accuracy\": 0.9996508379888268, \"source?\": true}, \"CORES_1\": {\"accuracy\": 0.9989754098360656, \"source?\": true}, \"CORES_2\": {\"accuracy\": 0.9996468926553672, \"source?\": true}, \"ORACLE.run1_14\": {\"accuracy\": 0.3411458333333333, \"source?\": false}, \"ORACLE.run1_20\": {\"accuracy\": 0.15729166666666666, \"source?\": false}, \"ORACLE.run1_38\": {\"accuracy\": 0.3984375, \"source?\": false}, \"ORACLE.run1_8\": {\"accuracy\": 0.24166666666666667, \"source?\": false}, \"ORACLE.run1_50\": {\"accuracy\": 0.3484375, \"source?\": false}, \"ORACLE.run1_32\": {\"accuracy\": 0.48203125, \"source?\": false}, \"ORACLE.run1_26\": {\"accuracy\": 0.20677083333333332, \"source?\": false}, \"ORACLE.run1_44\": {\"accuracy\": 0.35963541666666665, \"source?\": false}}}, \"history\": {\"epoch_indices\": [1, 2, 3, 4, 5, 6, 7, 8, 9], \"train_label_loss\": [0.02565224348880996, 0.007236700330528824, 0.004858522295074901, 0.0034224971418825474, 0.0030399865229465916, 0.0028112224654399877, 0.0027608301067110494, 0.002285951076800246, 0.0019033543907429524], \"source_val_label_loss\": [0.009831502102315426, 0.008433091454207897, 0.009725785814225674, 0.010364096611738205, 0.010474846698343754, 0.0063441041857004166, 0.009391079656779766, 0.009129653684794903, 0.015526586212217808], \"target_val_label_loss\": [2.188979148864746, 2.543375253677368, 2.13209867477417, 2.567538261413574, 2.2718753814697266, 2.241875171661377, 2.3942673206329346, 2.731593370437622, 2.9688210487365723], \"source_val_acc_label\": [0.9980379566210046, 0.9988227739726028, 0.9989654680365296, 0.9992151826484018, 0.9992865296803652, 0.9991081621004566, 0.9994292237442922, 0.999607591324201, 0.998787100456621], \"target_val_acc_label\": [0.2478515625, 0.2408203125, 0.2947265625, 0.26171875, 0.31692708333333336, 0.29248046875, 0.3021158854166667, 0.28997395833333334, 0.28668619791666666]}, \"dataset_metrics\": {\"source\": {\"train\": {\"n_unique_x\": 175135, \"n_unique_y\": 58, \"n_batch/episode\": 6284}, \"val\": {\"n_unique_x\": 37196, \"n_unique_y\": 58, \"n_batch/episode\": 876}, \"test\": {\"n_unique_x\": 37634, \"n_unique_y\": 58, \"n_batch/episode\": 891}}, \"target\": {\"train\": {\"n_unique_x\": 179200, \"n_unique_y\": 16, \"n_batch/episode\": 6720}, \"val\": {\"n_unique_x\": 38400, \"n_unique_y\": 16, \"n_batch/episode\": 960}, \"test\": {\"n_unique_x\": 38400, \"n_unique_y\": 16, \"n_batch/episode\": 960}}}}'"
      ]
     },
     "execution_count": 29,
     "metadata": {},
     "output_type": "execute_result"
    }
   ],
   "source": [
    "json.dumps(experiment)"
   ]
  }
 ],
 "metadata": {
  "celltoolbar": "Tags",
  "kernelspec": {
   "display_name": "Python 3 (ipykernel)",
   "language": "python",
   "name": "python3"
  },
  "language_info": {
   "codemirror_mode": {
    "name": "ipython",
    "version": 3
   },
   "file_extension": ".py",
   "mimetype": "text/x-python",
   "name": "python",
   "nbconvert_exporter": "python",
   "pygments_lexer": "ipython3",
   "version": "3.8.12"
  },
  "papermill": {
   "default_parameters": {},
   "duration": 2306.402202,
   "end_time": "2022-03-21T03:08:14.431704",
   "environment_variables": {},
   "exception": null,
   "input_path": "/root/csc500-main/csc500-notebooks/templates/tl_ptn_template.ipynb",
   "output_path": "trial.ipynb",
   "parameters": {
    "parameters": {
     "BEST_MODEL_PATH": "./best_model.pth",
     "NUM_LOGS_PER_EPOCH": 10,
     "criteria_for_best": "target_accuracy",
     "dataset_seed": 1337,
     "datasets": [
      {
       "domain_prefix": "CORES_",
       "domains": [
        1,
        2,
        3,
        4,
        5
       ],
       "episode_transforms": [],
       "labels": [
        "1-10.",
        "1-11.",
        "1-15.",
        "1-16.",
        "1-17.",
        "1-18.",
        "1-19.",
        "10-4.",
        "10-7.",
        "11-1.",
        "11-14.",
        "11-17.",
        "11-20.",
        "11-7.",
        "13-20.",
        "13-8.",
        "14-10.",
        "14-11.",
        "14-14.",
        "14-7.",
        "15-1.",
        "15-20.",
        "16-1.",
        "16-16.",
        "17-10.",
        "17-11.",
        "17-2.",
        "19-1.",
        "19-16.",
        "19-19.",
        "19-20.",
        "19-3.",
        "2-10.",
        "2-11.",
        "2-17.",
        "2-18.",
        "2-20.",
        "2-3.",
        "2-4.",
        "2-5.",
        "2-6.",
        "2-7.",
        "2-8.",
        "3-13.",
        "3-18.",
        "3-3.",
        "4-1.",
        "4-10.",
        "4-11.",
        "4-19.",
        "5-5.",
        "6-15.",
        "7-10.",
        "7-14.",
        "8-18.",
        "8-20.",
        "8-3.",
        "8-8."
       ],
       "num_examples_per_domain_per_label": -1,
       "pickle_path": "/root/csc500-main/datasets/cores.stratified_ds.2022A.pkl",
       "source_or_target_dataset": "source",
       "x_transforms": [
        "unit_mag"
       ]
      },
      {
       "domain_prefix": "ORACLE.run1_",
       "domains": [
        32,
        38,
        8,
        44,
        14,
        50,
        20,
        26
       ],
       "episode_transforms": [],
       "labels": [
        "3123D52",
        "3123D65",
        "3123D79",
        "3123D80",
        "3123D54",
        "3123D70",
        "3123D7B",
        "3123D89",
        "3123D58",
        "3123D76",
        "3123D7D",
        "3123EFE",
        "3123D64",
        "3123D78",
        "3123D7E",
        "3124E4A"
       ],
       "num_examples_per_domain_per_label": 2000,
       "pickle_path": "/root/csc500-main/datasets/oracle.Run1_framed_2000Examples_stratified_ds.2022A.pkl",
       "source_or_target_dataset": "target",
       "x_transforms": [
        "unit_mag"
       ]
      }
     ],
     "device": "cuda",
     "experiment_name": "tl_1v2:cores-oracle.run1.framed",
     "lr": 0.0001,
     "n_epoch": 50,
     "n_query": 2,
     "n_shot": 3,
     "n_way": 16,
     "patience": 3,
     "seed": 1337,
     "test_k_factor": 2,
     "torch_default_dtype": "torch.float32",
     "train_k_factor": 3,
     "val_k_factor": 2,
     "x_net": [
      {
       "class": "nnReshape",
       "kargs": {
        "shape": [
         -1,
         1,
         2,
         256
        ]
       }
      },
      {
       "class": "Conv2d",
       "kargs": {
        "bias": false,
        "in_channels": 1,
        "kernel_size": [
         1,
         7
        ],
        "out_channels": 256,
        "padding": [
         0,
         3
        ]
       }
      },
      {
       "class": "ReLU",
       "kargs": {
        "inplace": true
       }
      },
      {
       "class": "BatchNorm2d",
       "kargs": {
        "num_features": 256
       }
      },
      {
       "class": "Conv2d",
       "kargs": {
        "bias": true,
        "in_channels": 256,
        "kernel_size": [
         2,
         7
        ],
        "out_channels": 80,
        "padding": [
         0,
         3
        ]
       }
      },
      {
       "class": "ReLU",
       "kargs": {
        "inplace": true
       }
      },
      {
       "class": "BatchNorm2d",
       "kargs": {
        "num_features": 80
       }
      },
      {
       "class": "Flatten",
       "kargs": {}
      },
      {
       "class": "Linear",
       "kargs": {
        "in_features": 20480,
        "out_features": 256
       }
      },
      {
       "class": "ReLU",
       "kargs": {
        "inplace": true
       }
      },
      {
       "class": "BatchNorm1d",
       "kargs": {
        "num_features": 256
       }
      },
      {
       "class": "Linear",
       "kargs": {
        "in_features": 256,
        "out_features": 256
       }
      }
     ]
    }
   },
   "start_time": "2022-03-21T02:29:48.029502",
   "version": "2.3.4"
  }
 },
 "nbformat": 4,
 "nbformat_minor": 5
}