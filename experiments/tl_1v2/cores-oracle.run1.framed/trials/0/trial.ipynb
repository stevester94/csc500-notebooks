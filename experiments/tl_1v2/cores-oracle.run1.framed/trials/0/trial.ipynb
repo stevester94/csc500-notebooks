{
 "cells": [
  {
   "cell_type": "markdown",
   "id": "9fea5f46",
   "metadata": {
    "papermill": {
     "duration": 0.032293,
     "end_time": "2022-03-21T01:59:37.768916",
     "exception": false,
     "start_time": "2022-03-21T01:59:37.736623",
     "status": "completed"
    },
    "tags": []
   },
   "source": [
    "# Transfer Learning Template"
   ]
  },
  {
   "cell_type": "code",
   "execution_count": 1,
   "id": "0902182a",
   "metadata": {
    "execution": {
     "iopub.execute_input": "2022-03-21T01:59:37.830457Z",
     "iopub.status.busy": "2022-03-21T01:59:37.829594Z",
     "iopub.status.idle": "2022-03-21T01:59:39.637852Z",
     "shell.execute_reply": "2022-03-21T01:59:39.636866Z"
    },
    "papermill": {
     "duration": 1.847156,
     "end_time": "2022-03-21T01:59:39.638063",
     "exception": false,
     "start_time": "2022-03-21T01:59:37.790907",
     "status": "completed"
    },
    "tags": []
   },
   "outputs": [],
   "source": [
    "%load_ext autoreload\n",
    "%autoreload 2\n",
    "%matplotlib inline\n",
    "\n",
    "    \n",
    "import os, json, sys, time, random\n",
    "import numpy as np\n",
    "import torch\n",
    "from torch.optim import Adam\n",
    "from  easydict import EasyDict\n",
    "import matplotlib.pyplot as plt\n",
    "\n",
    "from steves_models.steves_ptn import Steves_Prototypical_Network\n",
    "\n",
    "from steves_utils.lazy_iterable_wrapper import Lazy_Iterable_Wrapper\n",
    "from steves_utils.iterable_aggregator import Iterable_Aggregator\n",
    "from steves_utils.ptn_train_eval_test_jig import  PTN_Train_Eval_Test_Jig\n",
    "from steves_utils.torch_sequential_builder import build_sequential\n",
    "from steves_utils.torch_utils import get_dataset_metrics, ptn_confusion_by_domain_over_dataloader\n",
    "from steves_utils.utils_v2 import (per_domain_accuracy_from_confusion, get_datasets_base_path)\n",
    "from steves_utils.PTN.utils import independent_accuracy_assesment\n",
    "\n",
    "from torch.utils.data import DataLoader\n",
    "\n",
    "from steves_utils.stratified_dataset.episodic_accessor import Episodic_Accessor_Factory\n",
    "\n",
    "from steves_utils.ptn_do_report import (\n",
    "    get_loss_curve,\n",
    "    get_results_table,\n",
    "    get_parameters_table,\n",
    "    get_domain_accuracies,\n",
    ")\n",
    "\n",
    "from steves_utils.transforms import get_chained_transform"
   ]
  },
  {
   "cell_type": "markdown",
   "id": "41c840b4",
   "metadata": {
    "papermill": {
     "duration": 0.019037,
     "end_time": "2022-03-21T01:59:39.680268",
     "exception": false,
     "start_time": "2022-03-21T01:59:39.661231",
     "status": "completed"
    },
    "tags": []
   },
   "source": [
    "# Allowed Parameters\n",
    "These are allowed parameters, not defaults\n",
    "Each of these values need to be present in the injected parameters (the notebook will raise an exception if they are not present)\n",
    "\n",
    "Papermill uses the cell tag \"parameters\" to inject the real parameters below this cell.\n",
    "Enable tags to see what I mean"
   ]
  },
  {
   "cell_type": "code",
   "execution_count": 2,
   "id": "fd44eb83",
   "metadata": {
    "execution": {
     "iopub.execute_input": "2022-03-21T01:59:39.723781Z",
     "iopub.status.busy": "2022-03-21T01:59:39.723375Z",
     "iopub.status.idle": "2022-03-21T01:59:39.747852Z",
     "shell.execute_reply": "2022-03-21T01:59:39.747117Z"
    },
    "papermill": {
     "duration": 0.048949,
     "end_time": "2022-03-21T01:59:39.748026",
     "exception": false,
     "start_time": "2022-03-21T01:59:39.699077",
     "status": "completed"
    },
    "tags": []
   },
   "outputs": [],
   "source": [
    "required_parameters = {\n",
    "    \"experiment_name\",\n",
    "    \"lr\",\n",
    "    \"device\",\n",
    "    \"seed\",\n",
    "    \"dataset_seed\",\n",
    "    \"n_shot\",\n",
    "    \"n_query\",\n",
    "    \"n_way\",\n",
    "    \"train_k_factor\",\n",
    "    \"val_k_factor\",\n",
    "    \"test_k_factor\",\n",
    "    \"n_epoch\",\n",
    "    \"patience\",\n",
    "    \"criteria_for_best\",\n",
    "    \"x_net\",\n",
    "    \"datasets\",\n",
    "    \"torch_default_dtype\",\n",
    "    \"NUM_LOGS_PER_EPOCH\",\n",
    "    \"BEST_MODEL_PATH\",\n",
    "    \"x_shape\",\n",
    "}"
   ]
  },
  {
   "cell_type": "code",
   "execution_count": 3,
   "id": "fa3f0049",
   "metadata": {
    "execution": {
     "iopub.execute_input": "2022-03-21T01:59:39.811620Z",
     "iopub.status.busy": "2022-03-21T01:59:39.810964Z",
     "iopub.status.idle": "2022-03-21T01:59:39.833820Z",
     "shell.execute_reply": "2022-03-21T01:59:39.833076Z"
    },
    "papermill": {
     "duration": 0.057717,
     "end_time": "2022-03-21T01:59:39.833976",
     "exception": false,
     "start_time": "2022-03-21T01:59:39.776259",
     "status": "completed"
    },
    "tags": [
     "parameters"
    ]
   },
   "outputs": [],
   "source": [
    "from steves_utils.CORES.utils import (\n",
    "    ALL_NODES,\n",
    "    ALL_NODES_MINIMUM_1000_EXAMPLES,\n",
    "    ALL_DAYS\n",
    ")\n",
    "\n",
    "from steves_utils.ORACLE.utils_v2 import (\n",
    "    ALL_DISTANCES_FEET_NARROWED,\n",
    "    ALL_RUNS,\n",
    "    ALL_SERIAL_NUMBERS,\n",
    ")\n",
    "\n",
    "standalone_parameters = {}\n",
    "standalone_parameters[\"experiment_name\"] = \"STANDALONE PTN\"\n",
    "standalone_parameters[\"lr\"] = 0.001\n",
    "standalone_parameters[\"device\"] = \"cuda\"\n",
    "\n",
    "standalone_parameters[\"seed\"] = 1337\n",
    "standalone_parameters[\"dataset_seed\"] = 1337\n",
    "\n",
    "standalone_parameters[\"n_way\"] = 8\n",
    "standalone_parameters[\"n_shot\"] = 3\n",
    "standalone_parameters[\"n_query\"]  = 2\n",
    "standalone_parameters[\"train_k_factor\"] = 1\n",
    "standalone_parameters[\"val_k_factor\"] = 2\n",
    "standalone_parameters[\"test_k_factor\"] = 2\n",
    "\n",
    "\n",
    "standalone_parameters[\"n_epoch\"] = 50\n",
    "\n",
    "standalone_parameters[\"patience\"] = 10\n",
    "standalone_parameters[\"criteria_for_best\"] = \"source_loss\"\n",
    "\n",
    "standalone_parameters[\"datasets\"] = [\n",
    "    {\n",
    "        \"labels\": ALL_SERIAL_NUMBERS,\n",
    "        \"domains\": ALL_DISTANCES_FEET_NARROWED,\n",
    "        \"num_examples_per_domain_per_label\": 100,\n",
    "        \"pickle_path\": os.path.join(get_datasets_base_path(), \"oracle.Run1_framed_2000Examples_stratified_ds.2022A.pkl\"),\n",
    "        \"source_or_target_dataset\": \"source\",\n",
    "        \"x_transforms\": [\"unit_mag\", \"minus_two\"],\n",
    "        \"episode_transforms\": [],\n",
    "        \"domain_prefix\": \"ORACLE_\"\n",
    "    },\n",
    "    {\n",
    "        \"labels\": ALL_NODES,\n",
    "        \"domains\": ALL_DAYS,\n",
    "        \"num_examples_per_domain_per_label\": 100,\n",
    "        \"pickle_path\": os.path.join(get_datasets_base_path(), \"cores.stratified_ds.2022A.pkl\"),\n",
    "        \"source_or_target_dataset\": \"target\",\n",
    "        \"x_transforms\": [\"unit_power\", \"times_zero\"],\n",
    "        \"episode_transforms\": [],\n",
    "        \"domain_prefix\": \"CORES_\"\n",
    "    }   \n",
    "]\n",
    "\n",
    "standalone_parameters[\"torch_default_dtype\"] = \"torch.float32\" \n",
    "\n",
    "\n",
    "\n",
    "standalone_parameters[\"x_net\"] =     [\n",
    "    {\"class\": \"nnReshape\", \"kargs\": {\"shape\":[-1, 1, 2, 256]}},\n",
    "    {\"class\": \"Conv2d\", \"kargs\": { \"in_channels\":1, \"out_channels\":256, \"kernel_size\":(1,7), \"bias\":False, \"padding\":(0,3), },},\n",
    "    {\"class\": \"ReLU\", \"kargs\": {\"inplace\": True}},\n",
    "    {\"class\": \"BatchNorm2d\", \"kargs\": {\"num_features\":256}},\n",
    "\n",
    "    {\"class\": \"Conv2d\", \"kargs\": { \"in_channels\":256, \"out_channels\":80, \"kernel_size\":(2,7), \"bias\":True, \"padding\":(0,3), },},\n",
    "    {\"class\": \"ReLU\", \"kargs\": {\"inplace\": True}},\n",
    "    {\"class\": \"BatchNorm2d\", \"kargs\": {\"num_features\":80}},\n",
    "    {\"class\": \"Flatten\", \"kargs\": {}},\n",
    "\n",
    "    {\"class\": \"Linear\", \"kargs\": {\"in_features\": 80*256, \"out_features\": 256}}, # 80 units per IQ pair\n",
    "    {\"class\": \"ReLU\", \"kargs\": {\"inplace\": True}},\n",
    "    {\"class\": \"BatchNorm1d\", \"kargs\": {\"num_features\":256}},\n",
    "\n",
    "    {\"class\": \"Linear\", \"kargs\": {\"in_features\": 256, \"out_features\": 256}},\n",
    "]\n",
    "\n",
    "# Parameters relevant to results\n",
    "# These parameters will basically never need to change\n",
    "standalone_parameters[\"NUM_LOGS_PER_EPOCH\"] = 10\n",
    "standalone_parameters[\"BEST_MODEL_PATH\"] = \"./best_model.pth\"\n",
    "\n",
    "\n",
    "\n",
    "\n"
   ]
  },
  {
   "cell_type": "code",
   "execution_count": 4,
   "id": "b34252b6",
   "metadata": {
    "execution": {
     "iopub.execute_input": "2022-03-21T01:59:39.896364Z",
     "iopub.status.busy": "2022-03-21T01:59:39.895453Z",
     "iopub.status.idle": "2022-03-21T01:59:39.917151Z",
     "shell.execute_reply": "2022-03-21T01:59:39.916327Z"
    },
    "papermill": {
     "duration": 0.056372,
     "end_time": "2022-03-21T01:59:39.917305",
     "exception": false,
     "start_time": "2022-03-21T01:59:39.860933",
     "status": "completed"
    },
    "tags": [
     "injected-parameters"
    ]
   },
   "outputs": [],
   "source": [
    "# Parameters\n",
    "parameters = {\n",
    "    \"experiment_name\": \"tl_1v2:cores-oracle.run1.framed\",\n",
    "    \"device\": \"cuda\",\n",
    "    \"lr\": 0.0001,\n",
    "    \"n_shot\": 3,\n",
    "    \"n_query\": 2,\n",
    "    \"train_k_factor\": 3,\n",
    "    \"val_k_factor\": 2,\n",
    "    \"test_k_factor\": 2,\n",
    "    \"torch_default_dtype\": \"torch.float32\",\n",
    "    \"n_epoch\": 50,\n",
    "    \"patience\": 3,\n",
    "    \"criteria_for_best\": \"target_accuracy\",\n",
    "    \"x_net\": [\n",
    "        {\"class\": \"nnReshape\", \"kargs\": {\"shape\": [-1, 1, 2, 256]}},\n",
    "        {\n",
    "            \"class\": \"Conv2d\",\n",
    "            \"kargs\": {\n",
    "                \"in_channels\": 1,\n",
    "                \"out_channels\": 256,\n",
    "                \"kernel_size\": [1, 7],\n",
    "                \"bias\": False,\n",
    "                \"padding\": [0, 3],\n",
    "            },\n",
    "        },\n",
    "        {\"class\": \"ReLU\", \"kargs\": {\"inplace\": True}},\n",
    "        {\"class\": \"BatchNorm2d\", \"kargs\": {\"num_features\": 256}},\n",
    "        {\n",
    "            \"class\": \"Conv2d\",\n",
    "            \"kargs\": {\n",
    "                \"in_channels\": 256,\n",
    "                \"out_channels\": 80,\n",
    "                \"kernel_size\": [2, 7],\n",
    "                \"bias\": True,\n",
    "                \"padding\": [0, 3],\n",
    "            },\n",
    "        },\n",
    "        {\"class\": \"ReLU\", \"kargs\": {\"inplace\": True}},\n",
    "        {\"class\": \"BatchNorm2d\", \"kargs\": {\"num_features\": 80}},\n",
    "        {\"class\": \"Flatten\", \"kargs\": {}},\n",
    "        {\"class\": \"Linear\", \"kargs\": {\"in_features\": 20480, \"out_features\": 256}},\n",
    "        {\"class\": \"ReLU\", \"kargs\": {\"inplace\": True}},\n",
    "        {\"class\": \"BatchNorm1d\", \"kargs\": {\"num_features\": 256}},\n",
    "        {\"class\": \"Linear\", \"kargs\": {\"in_features\": 256, \"out_features\": 256}},\n",
    "    ],\n",
    "    \"NUM_LOGS_PER_EPOCH\": 10,\n",
    "    \"BEST_MODEL_PATH\": \"./best_model.pth\",\n",
    "    \"n_way\": 16,\n",
    "    \"datasets\": [\n",
    "        {\n",
    "            \"labels\": [\n",
    "                \"1-10.\",\n",
    "                \"1-11.\",\n",
    "                \"1-15.\",\n",
    "                \"1-16.\",\n",
    "                \"1-17.\",\n",
    "                \"1-18.\",\n",
    "                \"1-19.\",\n",
    "                \"10-4.\",\n",
    "                \"10-7.\",\n",
    "                \"11-1.\",\n",
    "                \"11-14.\",\n",
    "                \"11-17.\",\n",
    "                \"11-20.\",\n",
    "                \"11-7.\",\n",
    "                \"13-20.\",\n",
    "                \"13-8.\",\n",
    "                \"14-10.\",\n",
    "                \"14-11.\",\n",
    "                \"14-14.\",\n",
    "                \"14-7.\",\n",
    "                \"15-1.\",\n",
    "                \"15-20.\",\n",
    "                \"16-1.\",\n",
    "                \"16-16.\",\n",
    "                \"17-10.\",\n",
    "                \"17-11.\",\n",
    "                \"17-2.\",\n",
    "                \"19-1.\",\n",
    "                \"19-16.\",\n",
    "                \"19-19.\",\n",
    "                \"19-20.\",\n",
    "                \"19-3.\",\n",
    "                \"2-10.\",\n",
    "                \"2-11.\",\n",
    "                \"2-17.\",\n",
    "                \"2-18.\",\n",
    "                \"2-20.\",\n",
    "                \"2-3.\",\n",
    "                \"2-4.\",\n",
    "                \"2-5.\",\n",
    "                \"2-6.\",\n",
    "                \"2-7.\",\n",
    "                \"2-8.\",\n",
    "                \"3-13.\",\n",
    "                \"3-18.\",\n",
    "                \"3-3.\",\n",
    "                \"4-1.\",\n",
    "                \"4-10.\",\n",
    "                \"4-11.\",\n",
    "                \"4-19.\",\n",
    "                \"5-5.\",\n",
    "                \"6-15.\",\n",
    "                \"7-10.\",\n",
    "                \"7-14.\",\n",
    "                \"8-18.\",\n",
    "                \"8-20.\",\n",
    "                \"8-3.\",\n",
    "                \"8-8.\",\n",
    "            ],\n",
    "            \"domains\": [1, 2, 3, 4, 5],\n",
    "            \"num_examples_per_domain_per_label\": -1,\n",
    "            \"pickle_path\": \"/root/csc500-main/datasets/cores.stratified_ds.2022A.pkl\",\n",
    "            \"source_or_target_dataset\": \"source\",\n",
    "            \"x_transforms\": [\"unit_power\"],\n",
    "            \"episode_transforms\": [],\n",
    "            \"domain_prefix\": \"CORES_\",\n",
    "        },\n",
    "        {\n",
    "            \"labels\": [\n",
    "                \"3123D52\",\n",
    "                \"3123D65\",\n",
    "                \"3123D79\",\n",
    "                \"3123D80\",\n",
    "                \"3123D54\",\n",
    "                \"3123D70\",\n",
    "                \"3123D7B\",\n",
    "                \"3123D89\",\n",
    "                \"3123D58\",\n",
    "                \"3123D76\",\n",
    "                \"3123D7D\",\n",
    "                \"3123EFE\",\n",
    "                \"3123D64\",\n",
    "                \"3123D78\",\n",
    "                \"3123D7E\",\n",
    "                \"3124E4A\",\n",
    "            ],\n",
    "            \"domains\": [32, 38, 8, 44, 14, 50, 20, 26],\n",
    "            \"num_examples_per_domain_per_label\": 2000,\n",
    "            \"pickle_path\": \"/root/csc500-main/datasets/oracle.Run1_framed_2000Examples_stratified_ds.2022A.pkl\",\n",
    "            \"source_or_target_dataset\": \"target\",\n",
    "            \"x_transforms\": [\"unit_power\"],\n",
    "            \"episode_transforms\": [],\n",
    "            \"domain_prefix\": \"ORACLE.run1_\",\n",
    "        },\n",
    "    ],\n",
    "    \"dataset_seed\": 1337,\n",
    "    \"seed\": 1337,\n",
    "}\n"
   ]
  },
  {
   "cell_type": "code",
   "execution_count": 5,
   "id": "8fa1cc33",
   "metadata": {
    "execution": {
     "iopub.execute_input": "2022-03-21T01:59:39.972374Z",
     "iopub.status.busy": "2022-03-21T01:59:39.971989Z",
     "iopub.status.idle": "2022-03-21T01:59:39.993397Z",
     "shell.execute_reply": "2022-03-21T01:59:39.992577Z"
    },
    "papermill": {
     "duration": 0.0507,
     "end_time": "2022-03-21T01:59:39.993562",
     "exception": false,
     "start_time": "2022-03-21T01:59:39.942862",
     "status": "completed"
    },
    "tags": []
   },
   "outputs": [],
   "source": [
    "# Set this to True if you want to run this template directly\n",
    "STANDALONE = False\n",
    "if STANDALONE:\n",
    "    print(\"parameters not injected, running with standalone_parameters\")\n",
    "    parameters = standalone_parameters\n",
    "\n",
    "if not 'parameters' in locals() and not 'parameters' in globals():\n",
    "    raise Exception(\"Parameter injection failed\")\n",
    "\n",
    "#Use an easy dict for all the parameters\n",
    "p = EasyDict(parameters)\n",
    "\n",
    "if \"x_shape\" not in p:\n",
    "    p.x_shape = [2,256] # Default to this if we dont supply x_shape\n",
    "\n",
    "\n",
    "supplied_keys = set(p.keys())\n",
    "\n",
    "if  supplied_keys != required_parameters:\n",
    "    print(\"Parameters are incorrect\")\n",
    "    if len(supplied_keys - required_parameters)>0: print(\"Shouldn't have:\", str(supplied_keys - required_parameters))\n",
    "    if len(required_parameters - supplied_keys)>0: print(\"Need to have:\", str(required_parameters - supplied_keys))\n",
    "    raise RuntimeError(\"Parameters are incorrect\")"
   ]
  },
  {
   "cell_type": "code",
   "execution_count": 6,
   "id": "3a028d58",
   "metadata": {
    "execution": {
     "iopub.execute_input": "2022-03-21T01:59:40.047065Z",
     "iopub.status.busy": "2022-03-21T01:59:40.046688Z",
     "iopub.status.idle": "2022-03-21T01:59:40.069842Z",
     "shell.execute_reply": "2022-03-21T01:59:40.069114Z"
    },
    "papermill": {
     "duration": 0.047426,
     "end_time": "2022-03-21T01:59:40.070003",
     "exception": false,
     "start_time": "2022-03-21T01:59:40.022577",
     "status": "completed"
    },
    "tags": []
   },
   "outputs": [],
   "source": [
    "###################################\n",
    "# Set the RNGs and make it all deterministic\n",
    "###################################\n",
    "np.random.seed(p.seed)\n",
    "random.seed(p.seed)\n",
    "torch.manual_seed(p.seed)\n",
    "\n",
    "torch.use_deterministic_algorithms(True) "
   ]
  },
  {
   "cell_type": "code",
   "execution_count": 7,
   "id": "b691acf6",
   "metadata": {
    "execution": {
     "iopub.execute_input": "2022-03-21T01:59:40.119652Z",
     "iopub.status.busy": "2022-03-21T01:59:40.118772Z",
     "iopub.status.idle": "2022-03-21T01:59:40.141819Z",
     "shell.execute_reply": "2022-03-21T01:59:40.142501Z"
    },
    "papermill": {
     "duration": 0.046856,
     "end_time": "2022-03-21T01:59:40.142680",
     "exception": false,
     "start_time": "2022-03-21T01:59:40.095824",
     "status": "completed"
    },
    "tags": []
   },
   "outputs": [],
   "source": [
    "###########################################\n",
    "# The stratified datasets honor this\n",
    "###########################################\n",
    "torch.set_default_dtype(eval(p.torch_default_dtype))"
   ]
  },
  {
   "cell_type": "code",
   "execution_count": 8,
   "id": "b5fba671",
   "metadata": {
    "execution": {
     "iopub.execute_input": "2022-03-21T01:59:40.190227Z",
     "iopub.status.busy": "2022-03-21T01:59:40.189722Z",
     "iopub.status.idle": "2022-03-21T01:59:40.246457Z",
     "shell.execute_reply": "2022-03-21T01:59:40.245746Z"
    },
    "papermill": {
     "duration": 0.07918,
     "end_time": "2022-03-21T01:59:40.246611",
     "exception": false,
     "start_time": "2022-03-21T01:59:40.167431",
     "status": "completed"
    },
    "tags": []
   },
   "outputs": [],
   "source": [
    "###################################\n",
    "# Build the network(s)\n",
    "# Note: It's critical to do this AFTER setting the RNG\n",
    "###################################\n",
    "x_net = build_sequential(p.x_net)"
   ]
  },
  {
   "cell_type": "code",
   "execution_count": 9,
   "id": "5d7e61cc",
   "metadata": {
    "execution": {
     "iopub.execute_input": "2022-03-21T01:59:40.294077Z",
     "iopub.status.busy": "2022-03-21T01:59:40.293709Z",
     "iopub.status.idle": "2022-03-21T01:59:40.318417Z",
     "shell.execute_reply": "2022-03-21T01:59:40.317596Z"
    },
    "papermill": {
     "duration": 0.047336,
     "end_time": "2022-03-21T01:59:40.318573",
     "exception": false,
     "start_time": "2022-03-21T01:59:40.271237",
     "status": "completed"
    },
    "tags": []
   },
   "outputs": [],
   "source": [
    "start_time_secs = time.time()"
   ]
  },
  {
   "cell_type": "code",
   "execution_count": 10,
   "id": "c6b67dfd",
   "metadata": {
    "execution": {
     "iopub.execute_input": "2022-03-21T01:59:40.373333Z",
     "iopub.status.busy": "2022-03-21T01:59:40.366309Z",
     "iopub.status.idle": "2022-03-21T01:59:40.386239Z",
     "shell.execute_reply": "2022-03-21T01:59:40.385505Z"
    },
    "papermill": {
     "duration": 0.042758,
     "end_time": "2022-03-21T01:59:40.386392",
     "exception": false,
     "start_time": "2022-03-21T01:59:40.343634",
     "status": "completed"
    },
    "tags": []
   },
   "outputs": [],
   "source": [
    "p.domains_source = []\n",
    "p.domains_target = []\n",
    "\n",
    "\n",
    "train_original_source = []\n",
    "val_original_source   = []\n",
    "test_original_source  = []\n",
    "\n",
    "train_original_target = []\n",
    "val_original_target   = []\n",
    "test_original_target  = []"
   ]
  },
  {
   "cell_type": "code",
   "execution_count": 11,
   "id": "e3d9c3d3",
   "metadata": {
    "execution": {
     "iopub.execute_input": "2022-03-21T01:59:40.436029Z",
     "iopub.status.busy": "2022-03-21T01:59:40.434878Z",
     "iopub.status.idle": "2022-03-21T01:59:40.457205Z",
     "shell.execute_reply": "2022-03-21T01:59:40.456457Z"
    },
    "papermill": {
     "duration": 0.045664,
     "end_time": "2022-03-21T01:59:40.457358",
     "exception": false,
     "start_time": "2022-03-21T01:59:40.411694",
     "status": "completed"
    },
    "tags": []
   },
   "outputs": [],
   "source": [
    "# global_x_transform_func = lambda x: normalize(x.to(torch.get_default_dtype()), \"unit_power\") # unit_power, unit_mag\n",
    "# global_x_transform_func = lambda x: normalize(x, \"unit_power\") # unit_power, unit_mag"
   ]
  },
  {
   "cell_type": "code",
   "execution_count": 12,
   "id": "acb78fd2",
   "metadata": {
    "execution": {
     "iopub.execute_input": "2022-03-21T01:59:40.512334Z",
     "iopub.status.busy": "2022-03-21T01:59:40.511946Z",
     "iopub.status.idle": "2022-03-21T01:59:40.530126Z",
     "shell.execute_reply": "2022-03-21T01:59:40.529314Z"
    },
    "papermill": {
     "duration": 0.044624,
     "end_time": "2022-03-21T01:59:40.530281",
     "exception": false,
     "start_time": "2022-03-21T01:59:40.485657",
     "status": "completed"
    },
    "tags": []
   },
   "outputs": [],
   "source": [
    "def add_dataset(\n",
    "    labels,\n",
    "    domains,\n",
    "    pickle_path,\n",
    "    x_transforms,\n",
    "    episode_transforms,\n",
    "    domain_prefix,\n",
    "    num_examples_per_domain_per_label,\n",
    "    source_or_target_dataset:str,\n",
    "    iterator_seed=p.seed,\n",
    "    dataset_seed=p.dataset_seed,\n",
    "    n_shot=p.n_shot,\n",
    "    n_way=p.n_way,\n",
    "    n_query=p.n_query,\n",
    "    train_val_test_k_factors=(p.train_k_factor,p.val_k_factor,p.test_k_factor),\n",
    "):\n",
    "   \n",
    "    if x_transforms == []: x_transform = None\n",
    "    else: x_transform = get_chained_transform(x_transforms)\n",
    "    \n",
    "    if episode_transforms == []: episode_transform = None\n",
    "    else: raise Exception(\"episode_transforms not implemented\")\n",
    "    \n",
    "    episode_transform = lambda tup, _prefix=domain_prefix: (_prefix + str(tup[0]), tup[1])\n",
    "\n",
    "\n",
    "    eaf = Episodic_Accessor_Factory(\n",
    "        labels=labels,\n",
    "        domains=domains,\n",
    "        num_examples_per_domain_per_label=num_examples_per_domain_per_label,\n",
    "        iterator_seed=iterator_seed,\n",
    "        dataset_seed=dataset_seed,\n",
    "        n_shot=n_shot,\n",
    "        n_way=n_way,\n",
    "        n_query=n_query,\n",
    "        train_val_test_k_factors=train_val_test_k_factors,\n",
    "        pickle_path=pickle_path,\n",
    "        x_transform_func=x_transform,\n",
    "    )\n",
    "\n",
    "    train, val, test = eaf.get_train(), eaf.get_val(), eaf.get_test()\n",
    "    train = Lazy_Iterable_Wrapper(train, episode_transform)\n",
    "    val = Lazy_Iterable_Wrapper(val, episode_transform)\n",
    "    test = Lazy_Iterable_Wrapper(test, episode_transform)\n",
    "\n",
    "    if source_or_target_dataset==\"source\":\n",
    "        train_original_source.append(train)\n",
    "        val_original_source.append(val)\n",
    "        test_original_source.append(test)\n",
    "\n",
    "        p.domains_source.extend(\n",
    "            [domain_prefix + str(u) for u in domains]\n",
    "        )\n",
    "    elif source_or_target_dataset==\"target\":\n",
    "        train_original_target.append(train)\n",
    "        val_original_target.append(val)\n",
    "        test_original_target.append(test)\n",
    "        p.domains_target.extend(\n",
    "            [domain_prefix + str(u) for u in domains]\n",
    "        )\n",
    "    else:\n",
    "        raise Exception(f\"invalid source_or_target_dataset: {source_or_target_dataset}\")\n",
    "    "
   ]
  },
  {
   "cell_type": "code",
   "execution_count": 13,
   "id": "fe266617",
   "metadata": {
    "execution": {
     "iopub.execute_input": "2022-03-21T01:59:40.579619Z",
     "iopub.status.busy": "2022-03-21T01:59:40.579229Z",
     "iopub.status.idle": "2022-03-21T02:00:23.657902Z",
     "shell.execute_reply": "2022-03-21T02:00:23.657119Z"
    },
    "papermill": {
     "duration": 43.101922,
     "end_time": "2022-03-21T02:00:23.658083",
     "exception": false,
     "start_time": "2022-03-21T01:59:40.556161",
     "status": "completed"
    },
    "tags": []
   },
   "outputs": [],
   "source": [
    "for ds in p.datasets:\n",
    "    add_dataset(**ds)"
   ]
  },
  {
   "cell_type": "code",
   "execution_count": 14,
   "id": "b90d65ac",
   "metadata": {
    "execution": {
     "iopub.execute_input": "2022-03-21T02:00:23.711235Z",
     "iopub.status.busy": "2022-03-21T02:00:23.710850Z",
     "iopub.status.idle": "2022-03-21T02:00:23.738536Z",
     "shell.execute_reply": "2022-03-21T02:00:23.737809Z"
    },
    "papermill": {
     "duration": 0.051195,
     "end_time": "2022-03-21T02:00:23.738698",
     "exception": false,
     "start_time": "2022-03-21T02:00:23.687503",
     "status": "completed"
    },
    "tags": []
   },
   "outputs": [],
   "source": [
    "# from steves_utils.CORES.utils import (\n",
    "#     ALL_NODES,\n",
    "#     ALL_NODES_MINIMUM_1000_EXAMPLES,\n",
    "#     ALL_DAYS\n",
    "# )\n",
    "\n",
    "# add_dataset(\n",
    "#     labels=ALL_NODES,\n",
    "#     domains = ALL_DAYS,\n",
    "#     num_examples_per_domain_per_label=100,\n",
    "#     pickle_path=os.path.join(get_datasets_base_path(), \"cores.stratified_ds.2022A.pkl\"),\n",
    "#     source_or_target_dataset=\"target\",\n",
    "#     x_transform_func=global_x_transform_func,\n",
    "#     domain_modifier=lambda u: f\"cores_{u}\"\n",
    "# )"
   ]
  },
  {
   "cell_type": "code",
   "execution_count": 15,
   "id": "76db484d",
   "metadata": {
    "execution": {
     "iopub.execute_input": "2022-03-21T02:00:23.790193Z",
     "iopub.status.busy": "2022-03-21T02:00:23.789798Z",
     "iopub.status.idle": "2022-03-21T02:00:23.813020Z",
     "shell.execute_reply": "2022-03-21T02:00:23.812256Z"
    },
    "papermill": {
     "duration": 0.046196,
     "end_time": "2022-03-21T02:00:23.813179",
     "exception": false,
     "start_time": "2022-03-21T02:00:23.766983",
     "status": "completed"
    },
    "tags": []
   },
   "outputs": [],
   "source": [
    "# from steves_utils.ORACLE.utils_v2 import (\n",
    "#     ALL_DISTANCES_FEET,\n",
    "#     ALL_RUNS,\n",
    "#     ALL_SERIAL_NUMBERS,\n",
    "# )\n",
    "\n",
    "\n",
    "# add_dataset(\n",
    "#     labels=ALL_SERIAL_NUMBERS,\n",
    "#     domains = list(set(ALL_DISTANCES_FEET) - {2,62}),\n",
    "#     num_examples_per_domain_per_label=100,\n",
    "#     pickle_path=os.path.join(get_datasets_base_path(), \"oracle.Run2_framed_2000Examples_stratified_ds.2022A.pkl\"),\n",
    "#     source_or_target_dataset=\"source\",\n",
    "#     x_transform_func=global_x_transform_func,\n",
    "#     domain_modifier=lambda u: f\"oracle1_{u}\"\n",
    "# )\n"
   ]
  },
  {
   "cell_type": "code",
   "execution_count": 16,
   "id": "97dea9d2",
   "metadata": {
    "execution": {
     "iopub.execute_input": "2022-03-21T02:00:23.863498Z",
     "iopub.status.busy": "2022-03-21T02:00:23.862813Z",
     "iopub.status.idle": "2022-03-21T02:00:23.886013Z",
     "shell.execute_reply": "2022-03-21T02:00:23.885186Z"
    },
    "papermill": {
     "duration": 0.047896,
     "end_time": "2022-03-21T02:00:23.886170",
     "exception": false,
     "start_time": "2022-03-21T02:00:23.838274",
     "status": "completed"
    },
    "tags": []
   },
   "outputs": [],
   "source": [
    "# from steves_utils.ORACLE.utils_v2 import (\n",
    "#     ALL_DISTANCES_FEET,\n",
    "#     ALL_RUNS,\n",
    "#     ALL_SERIAL_NUMBERS,\n",
    "# )\n",
    "\n",
    "\n",
    "# add_dataset(\n",
    "#     labels=ALL_SERIAL_NUMBERS,\n",
    "#     domains = list(set(ALL_DISTANCES_FEET) - {2,62,56}),\n",
    "#     num_examples_per_domain_per_label=100,\n",
    "#     pickle_path=os.path.join(get_datasets_base_path(), \"oracle.Run2_framed_2000Examples_stratified_ds.2022A.pkl\"),\n",
    "#     source_or_target_dataset=\"source\",\n",
    "#     x_transform_func=global_x_transform_func,\n",
    "#     domain_modifier=lambda u: f\"oracle2_{u}\"\n",
    "# )"
   ]
  },
  {
   "cell_type": "code",
   "execution_count": 17,
   "id": "6f289866",
   "metadata": {
    "execution": {
     "iopub.execute_input": "2022-03-21T02:00:23.937585Z",
     "iopub.status.busy": "2022-03-21T02:00:23.937059Z",
     "iopub.status.idle": "2022-03-21T02:00:23.958923Z",
     "shell.execute_reply": "2022-03-21T02:00:23.958099Z"
    },
    "papermill": {
     "duration": 0.046637,
     "end_time": "2022-03-21T02:00:23.959079",
     "exception": false,
     "start_time": "2022-03-21T02:00:23.912442",
     "status": "completed"
    },
    "tags": []
   },
   "outputs": [],
   "source": [
    "# add_dataset(\n",
    "#     labels=list(range(19)),\n",
    "#     domains = [0,1,2],\n",
    "#     num_examples_per_domain_per_label=100,\n",
    "#     pickle_path=os.path.join(get_datasets_base_path(), \"metehan.stratified_ds.2022A.pkl\"),\n",
    "#     source_or_target_dataset=\"target\",\n",
    "#     x_transform_func=global_x_transform_func,\n",
    "#     domain_modifier=lambda u: f\"met_{u}\"\n",
    "# )"
   ]
  },
  {
   "cell_type": "code",
   "execution_count": 18,
   "id": "86a863c3",
   "metadata": {
    "execution": {
     "iopub.execute_input": "2022-03-21T02:00:24.011592Z",
     "iopub.status.busy": "2022-03-21T02:00:24.011082Z",
     "iopub.status.idle": "2022-03-21T02:00:24.032973Z",
     "shell.execute_reply": "2022-03-21T02:00:24.032284Z"
    },
    "papermill": {
     "duration": 0.045378,
     "end_time": "2022-03-21T02:00:24.033137",
     "exception": false,
     "start_time": "2022-03-21T02:00:23.987759",
     "status": "completed"
    },
    "tags": []
   },
   "outputs": [],
   "source": [
    "# # from steves_utils.wisig.utils import (\n",
    "# #     ALL_NODES_MINIMUM_100_EXAMPLES,\n",
    "# #     ALL_NODES_MINIMUM_500_EXAMPLES,\n",
    "# #     ALL_NODES_MINIMUM_1000_EXAMPLES,\n",
    "# #     ALL_DAYS\n",
    "# # )\n",
    "\n",
    "# import steves_utils.wisig.utils as wisig\n",
    "\n",
    "\n",
    "# add_dataset(\n",
    "#     labels=wisig.ALL_NODES_MINIMUM_100_EXAMPLES,\n",
    "#     domains = wisig.ALL_DAYS,\n",
    "#     num_examples_per_domain_per_label=100,\n",
    "#     pickle_path=os.path.join(get_datasets_base_path(), \"wisig.node3-19.stratified_ds.2022A.pkl\"),\n",
    "#     source_or_target_dataset=\"target\",\n",
    "#     x_transform_func=global_x_transform_func,\n",
    "#     domain_modifier=lambda u: f\"wisig_{u}\"\n",
    "# )"
   ]
  },
  {
   "cell_type": "code",
   "execution_count": 19,
   "id": "fd5442bc",
   "metadata": {
    "execution": {
     "iopub.execute_input": "2022-03-21T02:00:24.089198Z",
     "iopub.status.busy": "2022-03-21T02:00:24.088316Z",
     "iopub.status.idle": "2022-03-21T02:00:24.108632Z",
     "shell.execute_reply": "2022-03-21T02:00:24.107808Z"
    },
    "papermill": {
     "duration": 0.050218,
     "end_time": "2022-03-21T02:00:24.108794",
     "exception": false,
     "start_time": "2022-03-21T02:00:24.058576",
     "status": "completed"
    },
    "tags": []
   },
   "outputs": [],
   "source": [
    "###################################\n",
    "# Build the dataset\n",
    "###################################\n",
    "train_original_source = Iterable_Aggregator(train_original_source, p.seed)\n",
    "val_original_source = Iterable_Aggregator(val_original_source, p.seed)\n",
    "test_original_source = Iterable_Aggregator(test_original_source, p.seed)\n",
    "\n",
    "\n",
    "train_original_target = Iterable_Aggregator(train_original_target, p.seed)\n",
    "val_original_target = Iterable_Aggregator(val_original_target, p.seed)\n",
    "test_original_target = Iterable_Aggregator(test_original_target, p.seed)\n",
    "\n",
    "# For CNN We only use X and Y. And we only train on the source.\n",
    "# Properly form the data using a transform lambda and Lazy_Iterable_Wrapper. Finally wrap them in a dataloader\n",
    "\n",
    "transform_lambda = lambda ex: ex[1] # Original is (<domain>, <episode>) so we strip down to episode only\n",
    "\n",
    "train_processed_source = Lazy_Iterable_Wrapper(train_original_source, transform_lambda)\n",
    "val_processed_source   = Lazy_Iterable_Wrapper(val_original_source, transform_lambda)\n",
    "test_processed_source  = Lazy_Iterable_Wrapper(test_original_source, transform_lambda)\n",
    "\n",
    "train_processed_target = Lazy_Iterable_Wrapper(train_original_target, transform_lambda)\n",
    "val_processed_target   = Lazy_Iterable_Wrapper(val_original_target, transform_lambda)\n",
    "test_processed_target  = Lazy_Iterable_Wrapper(test_original_target, transform_lambda)\n",
    "\n",
    "datasets = EasyDict({\n",
    "    \"source\": {\n",
    "        \"original\": {\"train\":train_original_source, \"val\":val_original_source, \"test\":test_original_source},\n",
    "        \"processed\": {\"train\":train_processed_source, \"val\":val_processed_source, \"test\":test_processed_source}\n",
    "    },\n",
    "    \"target\": {\n",
    "        \"original\": {\"train\":train_original_target, \"val\":val_original_target, \"test\":test_original_target},\n",
    "        \"processed\": {\"train\":train_processed_target, \"val\":val_processed_target, \"test\":test_processed_target}\n",
    "    },\n",
    "})"
   ]
  },
  {
   "cell_type": "code",
   "execution_count": 20,
   "id": "5b3c01fc",
   "metadata": {
    "execution": {
     "iopub.execute_input": "2022-03-21T02:00:24.163381Z",
     "iopub.status.busy": "2022-03-21T02:00:24.162801Z",
     "iopub.status.idle": "2022-03-21T02:00:38.404838Z",
     "shell.execute_reply": "2022-03-21T02:00:38.404127Z"
    },
    "papermill": {
     "duration": 14.268245,
     "end_time": "2022-03-21T02:00:38.405017",
     "exception": false,
     "start_time": "2022-03-21T02:00:24.136772",
     "status": "completed"
    },
    "tags": []
   },
   "outputs": [
    {
     "name": "stdout",
     "output_type": "stream",
     "text": [
      "{'CORES_1', 'CORES_4', 'CORES_3', 'CORES_2', 'CORES_5'}\n"
     ]
    },
    {
     "name": "stdout",
     "output_type": "stream",
     "text": [
      "{'ORACLE.run1_32', 'ORACLE.run1_14', 'ORACLE.run1_8', 'ORACLE.run1_38', 'ORACLE.run1_44', 'ORACLE.run1_20', 'ORACLE.run1_26', 'ORACLE.run1_50'}\n"
     ]
    },
    {
     "name": "stdout",
     "output_type": "stream",
     "text": [
      "tensor([[[-0.3169, -0.5881,  0.4177,  ..., -0.9234, -0.5833,  0.2969],\n",
      "         [ 0.0984, -0.7569, -0.5785,  ..., -0.0560, -0.0816, -0.5465]],\n",
      "\n",
      "        [[-0.4746, -0.4962,  0.7551,  ..., -0.9197, -0.3428,  0.4786],\n",
      "         [-0.0895, -0.8350, -0.3516,  ...,  0.1902, -0.2645, -0.4706]],\n",
      "\n",
      "        [[-0.2252, -0.3390,  0.3262,  ..., -0.5363, -0.7750,  0.2133],\n",
      "         [ 0.1369, -0.6859, -0.7639,  ..., -0.6525, -0.2801, -0.4862]],\n",
      "\n",
      "        ...,\n",
      "\n",
      "        [[ 0.5430,  0.7236,  0.7746,  ..., -0.9221, -1.9213, -0.9331],\n",
      "         [ 0.4052,  0.7567, -0.1006,  ..., -1.3962, -0.2495,  0.6836]],\n",
      "\n",
      "        [[ 0.3537,  0.3550, -0.1556,  ..., -0.0746, -0.3846, -0.0334],\n",
      "         [ 0.1351,  0.0476, -0.2843,  ..., -0.1016,  0.0733, -0.5583]],\n",
      "\n",
      "        [[ 0.2991,  0.5389,  0.6746,  ..., -0.9381, -1.5614, -0.4849],\n",
      "         [ 0.8788,  0.7550, -0.3689,  ..., -1.5561, -0.4150,  0.2635]]])\n"
     ]
    }
   ],
   "source": [
    "from steves_utils.transforms import get_average_magnitude, get_average_power\n",
    "\n",
    "print(set([u for u,_ in val_original_source]))\n",
    "print(set([u for u,_ in val_original_target]))\n",
    "\n",
    "s_x, s_y, q_x, q_y, _ = next(iter(train_processed_source))\n",
    "print(s_x)\n",
    "\n",
    "# for ds in [\n",
    "#     train_processed_source,\n",
    "#     val_processed_source,\n",
    "#     test_processed_source,\n",
    "#     train_processed_target,\n",
    "#     val_processed_target,\n",
    "#     test_processed_target\n",
    "# ]:\n",
    "#     for s_x, s_y, q_x, q_y, _ in ds:\n",
    "#         for X in (s_x, q_x):\n",
    "#             for x in X:\n",
    "#                 assert np.isclose(get_average_magnitude(x.numpy()), 1.0)\n",
    "#                 assert np.isclose(get_average_power(x.numpy()), 1.0)\n",
    "                "
   ]
  },
  {
   "cell_type": "code",
   "execution_count": 21,
   "id": "bbdacba1",
   "metadata": {
    "execution": {
     "iopub.execute_input": "2022-03-21T02:00:38.460193Z",
     "iopub.status.busy": "2022-03-21T02:00:38.459549Z",
     "iopub.status.idle": "2022-03-21T02:00:38.583316Z",
     "shell.execute_reply": "2022-03-21T02:00:38.583978Z"
    },
    "papermill": {
     "duration": 0.152686,
     "end_time": "2022-03-21T02:00:38.584212",
     "exception": false,
     "start_time": "2022-03-21T02:00:38.431526",
     "status": "completed"
    },
    "tags": []
   },
   "outputs": [
    {
     "name": "stdout",
     "output_type": "stream",
     "text": [
      "(2, 256)\n"
     ]
    }
   ],
   "source": [
    "###################################\n",
    "# Build the model\n",
    "###################################\n",
    "# easfsl only wants a tuple for the shape\n",
    "model = Steves_Prototypical_Network(x_net, device=p.device, x_shape=tuple(p.x_shape))\n",
    "optimizer = Adam(params=model.parameters(), lr=p.lr)"
   ]
  },
  {
   "cell_type": "code",
   "execution_count": 22,
   "id": "22b39ac5",
   "metadata": {
    "execution": {
     "iopub.execute_input": "2022-03-21T02:00:38.637262Z",
     "iopub.status.busy": "2022-03-21T02:00:38.636878Z",
     "iopub.status.idle": "2022-03-21T02:25:33.983065Z",
     "shell.execute_reply": "2022-03-21T02:25:33.984434Z"
    },
    "papermill": {
     "duration": 1495.376357,
     "end_time": "2022-03-21T02:25:33.987635",
     "exception": false,
     "start_time": "2022-03-21T02:00:38.611278",
     "status": "completed"
    },
    "tags": []
   },
   "outputs": [
    {
     "name": "stdout",
     "output_type": "stream",
     "text": [
      "epoch: 1, [batch: 1 / 6320], examples_per_second: 32.3200, train_label_loss: 2.6620, \n"
     ]
    },
    {
     "name": "stdout",
     "output_type": "stream",
     "text": [
      "epoch: 1, [batch: 632 / 6320], examples_per_second: 4695.5790, train_label_loss: 0.0069, \n"
     ]
    },
    {
     "name": "stdout",
     "output_type": "stream",
     "text": [
      "epoch: 1, [batch: 1264 / 6320], examples_per_second: 4805.4917, train_label_loss: 0.0004, \n"
     ]
    },
    {
     "name": "stdout",
     "output_type": "stream",
     "text": [
      "epoch: 1, [batch: 1896 / 6320], examples_per_second: 4890.6378, train_label_loss: 0.0030, \n"
     ]
    },
    {
     "name": "stdout",
     "output_type": "stream",
     "text": [
      "epoch: 1, [batch: 2528 / 6320], examples_per_second: 4964.3040, train_label_loss: 0.0014, \n"
     ]
    },
    {
     "name": "stdout",
     "output_type": "stream",
     "text": [
      "epoch: 1, [batch: 3160 / 6320], examples_per_second: 4605.0487, train_label_loss: 0.0013, \n"
     ]
    },
    {
     "name": "stdout",
     "output_type": "stream",
     "text": [
      "epoch: 1, [batch: 3792 / 6320], examples_per_second: 3532.8504, train_label_loss: 0.0001, \n"
     ]
    },
    {
     "name": "stdout",
     "output_type": "stream",
     "text": [
      "epoch: 1, [batch: 4424 / 6320], examples_per_second: 4207.9545, train_label_loss: 0.0024, \n"
     ]
    },
    {
     "name": "stdout",
     "output_type": "stream",
     "text": [
      "epoch: 1, [batch: 5056 / 6320], examples_per_second: 3686.2932, train_label_loss: 0.0009, \n"
     ]
    },
    {
     "name": "stdout",
     "output_type": "stream",
     "text": [
      "epoch: 1, [batch: 5688 / 6320], examples_per_second: 4257.6536, train_label_loss: 0.0006, \n"
     ]
    },
    {
     "name": "stdout",
     "output_type": "stream",
     "text": [
      "=============================================================\n",
      "epoch: 1, source_val_acc_label: 0.9987, target_val_acc_label: 0.2684, source_val_label_loss: 0.0070, target_val_label_loss: 2.1204, \n",
      "=============================================================\n"
     ]
    },
    {
     "name": "stdout",
     "output_type": "stream",
     "text": [
      "New best\n"
     ]
    },
    {
     "name": "stdout",
     "output_type": "stream",
     "text": [
      "epoch: 2, [batch: 1 / 6305], examples_per_second: 3.8132, train_label_loss: 0.0002, \n"
     ]
    },
    {
     "name": "stdout",
     "output_type": "stream",
     "text": [
      "epoch: 2, [batch: 631 / 6305], examples_per_second: 3669.3525, train_label_loss: 0.0000, \n"
     ]
    },
    {
     "name": "stdout",
     "output_type": "stream",
     "text": [
      "epoch: 2, [batch: 1261 / 6305], examples_per_second: 3943.5619, train_label_loss: 0.0003, \n"
     ]
    },
    {
     "name": "stdout",
     "output_type": "stream",
     "text": [
      "epoch: 2, [batch: 1892 / 6305], examples_per_second: 3933.9010, train_label_loss: 0.0000, \n"
     ]
    },
    {
     "name": "stdout",
     "output_type": "stream",
     "text": [
      "epoch: 2, [batch: 2522 / 6305], examples_per_second: 3940.4970, train_label_loss: 0.0001, \n"
     ]
    },
    {
     "name": "stdout",
     "output_type": "stream",
     "text": [
      "epoch: 2, [batch: 3153 / 6305], examples_per_second: 3869.5458, train_label_loss: 0.0001, \n"
     ]
    },
    {
     "name": "stdout",
     "output_type": "stream",
     "text": [
      "epoch: 2, [batch: 3783 / 6305], examples_per_second: 3847.1091, train_label_loss: 0.0000, \n"
     ]
    },
    {
     "name": "stdout",
     "output_type": "stream",
     "text": [
      "epoch: 2, [batch: 4413 / 6305], examples_per_second: 3203.2777, train_label_loss: 0.0000, \n"
     ]
    },
    {
     "name": "stdout",
     "output_type": "stream",
     "text": [
      "epoch: 2, [batch: 5044 / 6305], examples_per_second: 2993.2067, train_label_loss: 0.0002, \n"
     ]
    },
    {
     "name": "stdout",
     "output_type": "stream",
     "text": [
      "epoch: 2, [batch: 5674 / 6305], examples_per_second: 3479.7999, train_label_loss: 0.0001, \n"
     ]
    },
    {
     "name": "stdout",
     "output_type": "stream",
     "text": [
      "=============================================================\n",
      "epoch: 2, source_val_acc_label: 0.9983, target_val_acc_label: 0.2502, source_val_label_loss: 0.0111, target_val_label_loss: 2.5167, \n",
      "=============================================================\n"
     ]
    },
    {
     "name": "stdout",
     "output_type": "stream",
     "text": [
      "epoch: 3, [batch: 1 / 6307], examples_per_second: 3.3559, train_label_loss: 0.0000, \n"
     ]
    },
    {
     "name": "stdout",
     "output_type": "stream",
     "text": [
      "epoch: 3, [batch: 631 / 6307], examples_per_second: 3760.2470, train_label_loss: 0.0000, \n"
     ]
    },
    {
     "name": "stdout",
     "output_type": "stream",
     "text": [
      "epoch: 3, [batch: 1262 / 6307], examples_per_second: 3745.2111, train_label_loss: 0.0001, \n"
     ]
    },
    {
     "name": "stdout",
     "output_type": "stream",
     "text": [
      "epoch: 3, [batch: 1892 / 6307], examples_per_second: 4931.6460, train_label_loss: 0.0023, \n"
     ]
    },
    {
     "name": "stdout",
     "output_type": "stream",
     "text": [
      "epoch: 3, [batch: 2523 / 6307], examples_per_second: 3506.7340, train_label_loss: 0.0000, \n"
     ]
    },
    {
     "name": "stdout",
     "output_type": "stream",
     "text": [
      "epoch: 3, [batch: 3154 / 6307], examples_per_second: 2958.3169, train_label_loss: 0.0000, \n"
     ]
    },
    {
     "name": "stdout",
     "output_type": "stream",
     "text": [
      "epoch: 3, [batch: 3784 / 6307], examples_per_second: 2380.7350, train_label_loss: 0.0000, \n"
     ]
    },
    {
     "name": "stdout",
     "output_type": "stream",
     "text": [
      "epoch: 3, [batch: 4415 / 6307], examples_per_second: 2387.7692, train_label_loss: 0.0000, \n"
     ]
    },
    {
     "name": "stdout",
     "output_type": "stream",
     "text": [
      "epoch: 3, [batch: 5045 / 6307], examples_per_second: 2436.4842, train_label_loss: 0.0000, \n"
     ]
    },
    {
     "name": "stdout",
     "output_type": "stream",
     "text": [
      "epoch: 3, [batch: 5676 / 6307], examples_per_second: 2309.9703, train_label_loss: 0.0000, \n"
     ]
    },
    {
     "name": "stdout",
     "output_type": "stream",
     "text": [
      "=============================================================\n",
      "epoch: 3, source_val_acc_label: 0.9994, target_val_acc_label: 0.2915, source_val_label_loss: 0.0070, target_val_label_loss: 2.1376, \n",
      "=============================================================\n"
     ]
    },
    {
     "name": "stdout",
     "output_type": "stream",
     "text": [
      "New best\n"
     ]
    },
    {
     "name": "stdout",
     "output_type": "stream",
     "text": [
      "epoch: 4, [batch: 1 / 6315], examples_per_second: 2.2831, train_label_loss: 0.0000, \n"
     ]
    },
    {
     "name": "stdout",
     "output_type": "stream",
     "text": [
      "epoch: 4, [batch: 632 / 6315], examples_per_second: 2916.6387, train_label_loss: 0.0034, \n"
     ]
    },
    {
     "name": "stdout",
     "output_type": "stream",
     "text": [
      "epoch: 4, [batch: 1263 / 6315], examples_per_second: 3000.2626, train_label_loss: 0.0000, \n"
     ]
    },
    {
     "name": "stdout",
     "output_type": "stream",
     "text": [
      "epoch: 4, [batch: 1895 / 6315], examples_per_second: 3386.1587, train_label_loss: 0.0001, \n"
     ]
    },
    {
     "name": "stdout",
     "output_type": "stream",
     "text": [
      "epoch: 4, [batch: 2526 / 6315], examples_per_second: 3359.3385, train_label_loss: 0.0000, \n"
     ]
    },
    {
     "name": "stdout",
     "output_type": "stream",
     "text": [
      "epoch: 4, [batch: 3158 / 6315], examples_per_second: 3430.8644, train_label_loss: 0.0000, \n"
     ]
    },
    {
     "name": "stdout",
     "output_type": "stream",
     "text": [
      "epoch: 4, [batch: 3789 / 6315], examples_per_second: 3392.2455, train_label_loss: 0.1033, \n"
     ]
    },
    {
     "name": "stdout",
     "output_type": "stream",
     "text": [
      "epoch: 4, [batch: 4420 / 6315], examples_per_second: 3387.8994, train_label_loss: 0.0000, \n"
     ]
    },
    {
     "name": "stdout",
     "output_type": "stream",
     "text": [
      "epoch: 4, [batch: 5052 / 6315], examples_per_second: 2736.2196, train_label_loss: 0.0000, \n"
     ]
    },
    {
     "name": "stdout",
     "output_type": "stream",
     "text": [
      "epoch: 4, [batch: 5683 / 6315], examples_per_second: 2315.7242, train_label_loss: 0.0000, \n"
     ]
    },
    {
     "name": "stdout",
     "output_type": "stream",
     "text": [
      "=============================================================\n",
      "epoch: 4, source_val_acc_label: 0.9993, target_val_acc_label: 0.2424, source_val_label_loss: 0.0083, target_val_label_loss: 2.7417, \n",
      "=============================================================\n"
     ]
    },
    {
     "name": "stdout",
     "output_type": "stream",
     "text": [
      "epoch: 5, [batch: 1 / 6313], examples_per_second: 2.1829, train_label_loss: 0.0000, \n"
     ]
    },
    {
     "name": "stdout",
     "output_type": "stream",
     "text": [
      "epoch: 5, [batch: 632 / 6313], examples_per_second: 2328.3247, train_label_loss: 0.0000, \n"
     ]
    },
    {
     "name": "stdout",
     "output_type": "stream",
     "text": [
      "epoch: 5, [batch: 1263 / 6313], examples_per_second: 2296.0822, train_label_loss: 0.0001, \n"
     ]
    },
    {
     "name": "stdout",
     "output_type": "stream",
     "text": [
      "epoch: 5, [batch: 1894 / 6313], examples_per_second: 2322.9982, train_label_loss: 0.0000, \n"
     ]
    },
    {
     "name": "stdout",
     "output_type": "stream",
     "text": [
      "epoch: 5, [batch: 2525 / 6313], examples_per_second: 2548.1767, train_label_loss: 0.0000, \n"
     ]
    },
    {
     "name": "stdout",
     "output_type": "stream",
     "text": [
      "epoch: 5, [batch: 3157 / 6313], examples_per_second: 2431.3597, train_label_loss: 0.0000, \n"
     ]
    },
    {
     "name": "stdout",
     "output_type": "stream",
     "text": [
      "epoch: 5, [batch: 3788 / 6313], examples_per_second: 2599.9384, train_label_loss: 0.0000, \n"
     ]
    },
    {
     "name": "stdout",
     "output_type": "stream",
     "text": [
      "epoch: 5, [batch: 4419 / 6313], examples_per_second: 766.1424, train_label_loss: 0.0000, \n"
     ]
    },
    {
     "name": "stdout",
     "output_type": "stream",
     "text": [
      "epoch: 5, [batch: 5050 / 6313], examples_per_second: 3322.3238, train_label_loss: 0.0000, \n"
     ]
    },
    {
     "name": "stdout",
     "output_type": "stream",
     "text": [
      "epoch: 5, [batch: 5681 / 6313], examples_per_second: 3776.3354, train_label_loss: 0.0000, \n"
     ]
    },
    {
     "name": "stdout",
     "output_type": "stream",
     "text": [
      "=============================================================\n",
      "epoch: 5, source_val_acc_label: 0.9992, target_val_acc_label: 0.2746, source_val_label_loss: 0.0080, target_val_label_loss: 2.6786, \n",
      "=============================================================\n"
     ]
    },
    {
     "name": "stdout",
     "output_type": "stream",
     "text": [
      "epoch: 6, [batch: 1 / 6317], examples_per_second: 4.2891, train_label_loss: 0.0000, \n"
     ]
    },
    {
     "name": "stdout",
     "output_type": "stream",
     "text": [
      "epoch: 6, [batch: 632 / 6317], examples_per_second: 2963.0000, train_label_loss: 0.0000, \n"
     ]
    },
    {
     "name": "stdout",
     "output_type": "stream",
     "text": [
      "epoch: 6, [batch: 1264 / 6317], examples_per_second: 3016.1456, train_label_loss: 0.0000, \n"
     ]
    },
    {
     "name": "stdout",
     "output_type": "stream",
     "text": [
      "epoch: 6, [batch: 1895 / 6317], examples_per_second: 3029.5579, train_label_loss: 0.0000, \n"
     ]
    },
    {
     "name": "stdout",
     "output_type": "stream",
     "text": [
      "epoch: 6, [batch: 2527 / 6317], examples_per_second: 2870.3500, train_label_loss: 0.0000, \n"
     ]
    },
    {
     "name": "stdout",
     "output_type": "stream",
     "text": [
      "epoch: 6, [batch: 3159 / 6317], examples_per_second: 2299.0701, train_label_loss: 0.0000, \n"
     ]
    },
    {
     "name": "stdout",
     "output_type": "stream",
     "text": [
      "epoch: 6, [batch: 3790 / 6317], examples_per_second: 2311.8623, train_label_loss: 0.0000, \n"
     ]
    },
    {
     "name": "stdout",
     "output_type": "stream",
     "text": [
      "epoch: 6, [batch: 4422 / 6317], examples_per_second: 2311.9791, train_label_loss: 0.0000, \n"
     ]
    },
    {
     "name": "stdout",
     "output_type": "stream",
     "text": [
      "epoch: 6, [batch: 5053 / 6317], examples_per_second: 2322.4813, train_label_loss: 0.0000, \n"
     ]
    },
    {
     "name": "stdout",
     "output_type": "stream",
     "text": [
      "epoch: 6, [batch: 5685 / 6317], examples_per_second: 2563.7052, train_label_loss: 0.0000, \n"
     ]
    },
    {
     "name": "stdout",
     "output_type": "stream",
     "text": [
      "=============================================================\n",
      "epoch: 6, source_val_acc_label: 0.9984, target_val_acc_label: 0.2829, source_val_label_loss: 0.0112, target_val_label_loss: 2.4750, \n",
      "=============================================================\n"
     ]
    },
    {
     "name": "stdout",
     "output_type": "stream",
     "text": [
      "epoch: 7, [batch: 1 / 6322], examples_per_second: 2.5364, train_label_loss: 0.0000, \n"
     ]
    },
    {
     "name": "stdout",
     "output_type": "stream",
     "text": [
      "epoch: 7, [batch: 633 / 6322], examples_per_second: 2902.0508, train_label_loss: 0.0000, \n"
     ]
    },
    {
     "name": "stdout",
     "output_type": "stream",
     "text": [
      "epoch: 7, [batch: 1265 / 6322], examples_per_second: 2589.1272, train_label_loss: 0.0000, \n"
     ]
    },
    {
     "name": "stdout",
     "output_type": "stream",
     "text": [
      "epoch: 7, [batch: 1897 / 6322], examples_per_second: 2598.3480, train_label_loss: 0.0000, \n"
     ]
    },
    {
     "name": "stdout",
     "output_type": "stream",
     "text": [
      "epoch: 7, [batch: 2529 / 6322], examples_per_second: 2583.1944, train_label_loss: 0.0000, \n"
     ]
    },
    {
     "name": "stdout",
     "output_type": "stream",
     "text": [
      "epoch: 7, [batch: 3161 / 6322], examples_per_second: 2926.3269, train_label_loss: 0.0000, \n"
     ]
    },
    {
     "name": "stdout",
     "output_type": "stream",
     "text": [
      "epoch: 7, [batch: 3793 / 6322], examples_per_second: 2633.7214, train_label_loss: 0.0035, \n"
     ]
    },
    {
     "name": "stdout",
     "output_type": "stream",
     "text": [
      "epoch: 7, [batch: 4425 / 6322], examples_per_second: 2576.3441, train_label_loss: 0.0000, \n"
     ]
    },
    {
     "name": "stdout",
     "output_type": "stream",
     "text": [
      "epoch: 7, [batch: 5057 / 6322], examples_per_second: 2695.0750, train_label_loss: 0.0000, \n"
     ]
    },
    {
     "name": "stdout",
     "output_type": "stream",
     "text": [
      "epoch: 7, [batch: 5689 / 6322], examples_per_second: 2992.3918, train_label_loss: 0.0000, \n"
     ]
    },
    {
     "name": "stdout",
     "output_type": "stream",
     "text": [
      "=============================================================\n",
      "epoch: 7, source_val_acc_label: 0.9995, target_val_acc_label: 0.2601, source_val_label_loss: 0.0101, target_val_label_loss: 2.9806, \n",
      "=============================================================\n"
     ]
    },
    {
     "name": "stdout",
     "output_type": "stream",
     "text": [
      "Patience (3) exhausted\n"
     ]
    }
   ],
   "source": [
    "###################################\n",
    "# train\n",
    "###################################\n",
    "jig = PTN_Train_Eval_Test_Jig(model, p.BEST_MODEL_PATH, p.device)\n",
    "\n",
    "jig.train(\n",
    "    train_iterable=datasets.source.processed.train,\n",
    "    source_val_iterable=datasets.source.processed.val,\n",
    "    target_val_iterable=datasets.target.processed.val,\n",
    "    num_epochs=p.n_epoch,\n",
    "    num_logs_per_epoch=p.NUM_LOGS_PER_EPOCH,\n",
    "    patience=p.patience,\n",
    "    optimizer=optimizer,\n",
    "    criteria_for_best=p.criteria_for_best,\n",
    ")"
   ]
  },
  {
   "cell_type": "code",
   "execution_count": 23,
   "id": "31e8fabf",
   "metadata": {
    "execution": {
     "iopub.execute_input": "2022-03-21T02:25:34.116952Z",
     "iopub.status.busy": "2022-03-21T02:25:34.115725Z",
     "iopub.status.idle": "2022-03-21T02:25:34.294676Z",
     "shell.execute_reply": "2022-03-21T02:25:34.293870Z"
    },
    "papermill": {
     "duration": 0.25221,
     "end_time": "2022-03-21T02:25:34.294872",
     "exception": false,
     "start_time": "2022-03-21T02:25:34.042662",
     "status": "completed"
    },
    "tags": []
   },
   "outputs": [],
   "source": [
    "total_experiment_time_secs = time.time() - start_time_secs"
   ]
  },
  {
   "cell_type": "code",
   "execution_count": 24,
   "id": "87b9595b",
   "metadata": {
    "execution": {
     "iopub.execute_input": "2022-03-21T02:25:34.406401Z",
     "iopub.status.busy": "2022-03-21T02:25:34.405451Z",
     "iopub.status.idle": "2022-03-21T02:29:42.738783Z",
     "shell.execute_reply": "2022-03-21T02:29:42.738397Z"
    },
    "papermill": {
     "duration": 248.394429,
     "end_time": "2022-03-21T02:29:42.738884",
     "exception": false,
     "start_time": "2022-03-21T02:25:34.344455",
     "status": "completed"
    },
    "tags": []
   },
   "outputs": [],
   "source": [
    "###################################\n",
    "# Evaluate the model\n",
    "###################################\n",
    "source_test_label_accuracy, source_test_label_loss = jig.test(datasets.source.processed.test)\n",
    "target_test_label_accuracy, target_test_label_loss = jig.test(datasets.target.processed.test)\n",
    "\n",
    "source_val_label_accuracy, source_val_label_loss = jig.test(datasets.source.processed.val)\n",
    "target_val_label_accuracy, target_val_label_loss = jig.test(datasets.target.processed.val)\n",
    "\n",
    "history = jig.get_history()\n",
    "\n",
    "total_epochs_trained = len(history[\"epoch_indices\"])\n",
    "\n",
    "val_dl = Iterable_Aggregator((datasets.source.original.val,datasets.target.original.val))\n",
    "\n",
    "confusion = ptn_confusion_by_domain_over_dataloader(model, p.device, val_dl)\n",
    "per_domain_accuracy = per_domain_accuracy_from_confusion(confusion)\n",
    "\n",
    "# Add a key to per_domain_accuracy for if it was a source domain\n",
    "for domain, accuracy in per_domain_accuracy.items():\n",
    "    per_domain_accuracy[domain] = {\n",
    "        \"accuracy\": accuracy,\n",
    "        \"source?\": domain in p.domains_source\n",
    "    }\n",
    "\n",
    "# Do an independent accuracy assesment JUST TO BE SURE!\n",
    "# _source_test_label_accuracy = independent_accuracy_assesment(model, datasets.source.processed.test, p.device)\n",
    "# _target_test_label_accuracy = independent_accuracy_assesment(model, datasets.target.processed.test, p.device)\n",
    "# _source_val_label_accuracy = independent_accuracy_assesment(model, datasets.source.processed.val, p.device)\n",
    "# _target_val_label_accuracy = independent_accuracy_assesment(model, datasets.target.processed.val, p.device)\n",
    "\n",
    "# assert(_source_test_label_accuracy == source_test_label_accuracy)\n",
    "# assert(_target_test_label_accuracy == target_test_label_accuracy)\n",
    "# assert(_source_val_label_accuracy == source_val_label_accuracy)\n",
    "# assert(_target_val_label_accuracy == target_val_label_accuracy)\n",
    "\n",
    "experiment = {\n",
    "    \"experiment_name\": p.experiment_name,\n",
    "    \"parameters\": dict(p),\n",
    "    \"results\": {\n",
    "        \"source_test_label_accuracy\": source_test_label_accuracy,\n",
    "        \"source_test_label_loss\": source_test_label_loss,\n",
    "        \"target_test_label_accuracy\": target_test_label_accuracy,\n",
    "        \"target_test_label_loss\": target_test_label_loss,\n",
    "        \"source_val_label_accuracy\": source_val_label_accuracy,\n",
    "        \"source_val_label_loss\": source_val_label_loss,\n",
    "        \"target_val_label_accuracy\": target_val_label_accuracy,\n",
    "        \"target_val_label_loss\": target_val_label_loss,\n",
    "        \"total_epochs_trained\": total_epochs_trained,\n",
    "        \"total_experiment_time_secs\": total_experiment_time_secs,\n",
    "        \"confusion\": confusion,\n",
    "        \"per_domain_accuracy\": per_domain_accuracy,\n",
    "    },\n",
    "    \"history\": history,\n",
    "    \"dataset_metrics\": get_dataset_metrics(datasets, \"ptn\"),\n",
    "}"
   ]
  },
  {
   "cell_type": "code",
   "execution_count": 25,
   "id": "54a21829",
   "metadata": {
    "execution": {
     "iopub.execute_input": "2022-03-21T02:29:42.854903Z",
     "iopub.status.busy": "2022-03-21T02:29:42.854251Z",
     "iopub.status.idle": "2022-03-21T02:29:43.328210Z",
     "shell.execute_reply": "2022-03-21T02:29:43.328925Z"
    },
    "papermill": {
     "duration": 0.524465,
     "end_time": "2022-03-21T02:29:43.329143",
     "exception": false,
     "start_time": "2022-03-21T02:29:42.804678",
     "status": "completed"
    },
    "tags": []
   },
   "outputs": [
    {
     "data": {
      "image/png": "[encoded data removed]",
      "text/plain": [
       "<Figure size 1080x504 with 1 Axes>"
      ]
     },
     "metadata": {
      "needs_background": "light"
     },
     "output_type": "display_data"
    }
   ],
   "source": [
    "ax = get_loss_curve(experiment)\n",
    "plt.show()"
   ]
  },
  {
   "cell_type": "code",
   "execution_count": 26,
   "id": "fd8a0f60",
   "metadata": {
    "execution": {
     "iopub.execute_input": "2022-03-21T02:29:43.432137Z",
     "iopub.status.busy": "2022-03-21T02:29:43.431485Z",
     "iopub.status.idle": "2022-03-21T02:29:43.797646Z",
     "shell.execute_reply": "2022-03-21T02:29:43.798182Z"
    },
    "papermill": {
     "duration": 0.418037,
     "end_time": "2022-03-21T02:29:43.798356",
     "exception": false,
     "start_time": "2022-03-21T02:29:43.380319",
     "status": "completed"
    },
    "tags": []
   },
   "outputs": [
    {
     "data": {
      "text/plain": [
       "<AxesSubplot:title={'center':'Results'}>"
      ]
     },
     "execution_count": 26,
     "metadata": {},
     "output_type": "execute_result"
    },
    {
     "data": {
      "image/png": "[encoded data removed]",
      "text/plain": [
       "<Figure size 1080x504 with 1 Axes>"
      ]
     },
     "metadata": {
      "needs_background": "light"
     },
     "output_type": "display_data"
    }
   ],
   "source": [
    "get_results_table(experiment)"
   ]
  },
  {
   "cell_type": "code",
   "execution_count": 27,
   "id": "cf8dc689",
   "metadata": {
    "execution": {
     "iopub.execute_input": "2022-03-21T02:29:43.902426Z",
     "iopub.status.busy": "2022-03-21T02:29:43.901788Z",
     "iopub.status.idle": "2022-03-21T02:29:44.247758Z",
     "shell.execute_reply": "2022-03-21T02:29:44.248449Z"
    },
    "papermill": {
     "duration": 0.398407,
     "end_time": "2022-03-21T02:29:44.248629",
     "exception": false,
     "start_time": "2022-03-21T02:29:43.850222",
     "status": "completed"
    },
    "tags": []
   },
   "outputs": [
    {
     "data": {
      "text/plain": [
       "<AxesSubplot:title={'center':'Per Domain Validation Accuracy'}, xlabel='domain'>"
      ]
     },
     "execution_count": 27,
     "metadata": {},
     "output_type": "execute_result"
    },
    {
     "data": {
      "image/png": "[encoded data removed]",
      "text/plain": [
       "<Figure size 1080x504 with 1 Axes>"
      ]
     },
     "metadata": {
      "needs_background": "light"
     },
     "output_type": "display_data"
    }
   ],
   "source": [
    "get_domain_accuracies(experiment)"
   ]
  },
  {
   "cell_type": "code",
   "execution_count": 28,
   "id": "a74ae082",
   "metadata": {
    "execution": {
     "iopub.execute_input": "2022-03-21T02:29:44.355171Z",
     "iopub.status.busy": "2022-03-21T02:29:44.354792Z",
     "iopub.status.idle": "2022-03-21T02:29:44.379688Z",
     "shell.execute_reply": "2022-03-21T02:29:44.378918Z"
    },
    "papermill": {
     "duration": 0.078289,
     "end_time": "2022-03-21T02:29:44.379850",
     "exception": false,
     "start_time": "2022-03-21T02:29:44.301561",
     "status": "completed"
    },
    "tags": []
   },
   "outputs": [
    {
     "name": "stdout",
     "output_type": "stream",
     "text": [
      "Source Test Label Accuracy: 0.9993336139169473 Target Test Label Accuracy: 0.2974609375\n",
      "Source Val Label Accuracy: 0.9993578767123288 Target Val Label Accuracy: 0.29153645833333336\n"
     ]
    }
   ],
   "source": [
    "print(\"Source Test Label Accuracy:\", experiment[\"results\"][\"source_test_label_accuracy\"], \"Target Test Label Accuracy:\", experiment[\"results\"][\"target_test_label_accuracy\"])\n",
    "print(\"Source Val Label Accuracy:\", experiment[\"results\"][\"source_val_label_accuracy\"], \"Target Val Label Accuracy:\", experiment[\"results\"][\"target_val_label_accuracy\"])"
   ]
  },
  {
   "cell_type": "code",
   "execution_count": 29,
   "id": "dacca602",
   "metadata": {
    "execution": {
     "iopub.execute_input": "2022-03-21T02:29:44.485377Z",
     "iopub.status.busy": "2022-03-21T02:29:44.485007Z",
     "iopub.status.idle": "2022-03-21T02:29:44.513892Z",
     "shell.execute_reply": "2022-03-21T02:29:44.514588Z"
    },
    "papermill": {
     "duration": 0.08182,
     "end_time": "2022-03-21T02:29:44.514796",
     "exception": false,
     "start_time": "2022-03-21T02:29:44.432976",
     "status": "completed"
    },
    "tags": [
     "experiment_json"
    ]
   },
   "outputs": [
    {
     "data": {
      "text/plain": [
       "'{\"experiment_name\": \"tl_1v2:cores-oracle.run1.framed\", \"parameters\": {\"experiment_name\": \"tl_1v2:cores-oracle.run1.framed\", \"device\": \"cuda\", \"lr\": 0.0001, \"n_shot\": 3, \"n_query\": 2, \"train_k_factor\": 3, \"val_k_factor\": 2, \"test_k_factor\": 2, \"torch_default_dtype\": \"torch.float32\", \"n_epoch\": 50, \"patience\": 3, \"criteria_for_best\": \"target_accuracy\", \"x_net\": [{\"class\": \"nnReshape\", \"kargs\": {\"shape\": [-1, 1, 2, 256]}}, {\"class\": \"Conv2d\", \"kargs\": {\"in_channels\": 1, \"out_channels\": 256, \"kernel_size\": [1, 7], \"bias\": false, \"padding\": [0, 3]}}, {\"class\": \"ReLU\", \"kargs\": {\"inplace\": true}}, {\"class\": \"BatchNorm2d\", \"kargs\": {\"num_features\": 256}}, {\"class\": \"Conv2d\", \"kargs\": {\"in_channels\": 256, \"out_channels\": 80, \"kernel_size\": [2, 7], \"bias\": true, \"padding\": [0, 3]}}, {\"class\": \"ReLU\", \"kargs\": {\"inplace\": true}}, {\"class\": \"BatchNorm2d\", \"kargs\": {\"num_features\": 80}}, {\"class\": \"Flatten\", \"kargs\": {}}, {\"class\": \"Linear\", \"kargs\": {\"in_features\": 20480, \"out_features\": 256}}, {\"class\": \"ReLU\", \"kargs\": {\"inplace\": true}}, {\"class\": \"BatchNorm1d\", \"kargs\": {\"num_features\": 256}}, {\"class\": \"Linear\", \"kargs\": {\"in_features\": 256, \"out_features\": 256}}], \"NUM_LOGS_PER_EPOCH\": 10, \"BEST_MODEL_PATH\": \"./best_model.pth\", \"n_way\": 16, \"datasets\": [{\"labels\": [\"1-10.\", \"1-11.\", \"1-15.\", \"1-16.\", \"1-17.\", \"1-18.\", \"1-19.\", \"10-4.\", \"10-7.\", \"11-1.\", \"11-14.\", \"11-17.\", \"11-20.\", \"11-7.\", \"13-20.\", \"13-8.\", \"14-10.\", \"14-11.\", \"14-14.\", \"14-7.\", \"15-1.\", \"15-20.\", \"16-1.\", \"16-16.\", \"17-10.\", \"17-11.\", \"17-2.\", \"19-1.\", \"19-16.\", \"19-19.\", \"19-20.\", \"19-3.\", \"2-10.\", \"2-11.\", \"2-17.\", \"2-18.\", \"2-20.\", \"2-3.\", \"2-4.\", \"2-5.\", \"2-6.\", \"2-7.\", \"2-8.\", \"3-13.\", \"3-18.\", \"3-3.\", \"4-1.\", \"4-10.\", \"4-11.\", \"4-19.\", \"5-5.\", \"6-15.\", \"7-10.\", \"7-14.\", \"8-18.\", \"8-20.\", \"8-3.\", \"8-8.\"], \"domains\": [1, 2, 3, 4, 5], \"num_examples_per_domain_per_label\": -1, \"pickle_path\": \"/root/csc500-main/datasets/cores.stratified_ds.2022A.pkl\", \"source_or_target_dataset\": \"source\", \"x_transforms\": [\"unit_power\"], \"episode_transforms\": [], \"domain_prefix\": \"CORES_\"}, {\"labels\": [\"3123D52\", \"3123D65\", \"3123D79\", \"3123D80\", \"3123D54\", \"3123D70\", \"3123D7B\", \"3123D89\", \"3123D58\", \"3123D76\", \"3123D7D\", \"3123EFE\", \"3123D64\", \"3123D78\", \"3123D7E\", \"3124E4A\"], \"domains\": [32, 38, 8, 44, 14, 50, 20, 26], \"num_examples_per_domain_per_label\": 2000, \"pickle_path\": \"/root/csc500-main/datasets/oracle.Run1_framed_2000Examples_stratified_ds.2022A.pkl\", \"source_or_target_dataset\": \"target\", \"x_transforms\": [\"unit_power\"], \"episode_transforms\": [], \"domain_prefix\": \"ORACLE.run1_\"}], \"dataset_seed\": 1337, \"seed\": 1337, \"x_shape\": [2, 256], \"domains_source\": [\"CORES_1\", \"CORES_2\", \"CORES_3\", \"CORES_4\", \"CORES_5\"], \"domains_target\": [\"ORACLE.run1_32\", \"ORACLE.run1_38\", \"ORACLE.run1_8\", \"ORACLE.run1_44\", \"ORACLE.run1_14\", \"ORACLE.run1_50\", \"ORACLE.run1_20\", \"ORACLE.run1_26\"]}, \"results\": {\"source_test_label_accuracy\": 0.9993336139169473, \"source_test_label_loss\": 0.007268549408763647, \"target_test_label_accuracy\": 0.2974609375, \"target_test_label_loss\": 2.114879608154297, \"source_val_label_accuracy\": 0.9993578767123288, \"source_val_label_loss\": 0.0070231095887720585, \"target_val_label_accuracy\": 0.29153645833333336, \"target_val_label_loss\": 2.137561082839966, \"total_epochs_trained\": 7, \"total_experiment_time_secs\": 1553.9749307632446, \"confusion\": {\"CORES_3\": {\"43\": {\"43\": 128}, \"9\": {\"9\": 150}, \"6\": {\"6\": 88}, \"3\": {\"3\": 144}, \"16\": {\"16\": 134}, \"51\": {\"51\": 128}, \"31\": {\"31\": 28}, \"46\": {\"46\": 134}, \"19\": {\"19\": 124}, \"8\": {\"8\": 152}, \"18\": {\"18\": 84}, \"37\": {\"37\": 28}, \"24\": {\"24\": 104}, \"10\": {\"10\": 64}, \"44\": {\"44\": 88}, \"14\": {\"14\": 40}, \"38\": {\"38\": 28}, \"53\": {\"53\": 140}, \"20\": {\"20\": 132}, \"32\": {\"32\": 28}, \"36\": {\"36\": 100}, \"33\": {\"33\": 28}, \"56\": {\"56\": 136}, \"23\": {\"23\": 130}, \"54\": {\"54\": 100}, \"21\": {\"21\": 126}, \"28\": {\"28\": 28}, \"26\": {\"26\": 24}, \"48\": {\"48\": 116}, \"52\": {\"52\": 118}, \"39\": {\"39\": 16}, \"22\": {\"22\": 140}, \"13\": {\"13\": 128}, \"2\": {\"2\": 32}, \"34\": {\"34\": 32}, \"27\": {\"27\": 132}, \"45\": {\"45\": 60}, \"35\": {\"35\": 28}, \"29\": {\"29\": 128}, \"25\": {\"25\": 144}, \"0\": {\"0\": 124}, \"41\": {\"41\": 28}, \"11\": {\"11\": 142}, \"5\": {\"5\": 108}, \"1\": {\"1\": 100}, \"57\": {\"57\": 116}, \"17\": {\"17\": 106, \"10\": 1, \"24\": 1}, \"7\": {\"7\": 36}, \"12\": {\"12\": 92}, \"47\": {\"47\": 92}, \"40\": {\"40\": 136}, \"15\": {\"15\": 142}, \"42\": {\"42\": 28}, \"55\": {\"55\": 150}, \"49\": {\"49\": 20}, \"30\": {\"30\": 119, \"18\": 1}, \"50\": {\"50\": 134}, \"4\": {\"4\": 136}}, \"CORES_4\": {\"35\": {\"35\": 40}, \"25\": {\"25\": 134}, \"24\": {\"24\": 56}, \"48\": {\"48\": 138}, \"51\": {\"51\": 144}, \"13\": {\"13\": 120}, \"14\": {\"14\": 14, \"0\": 1, \"57\": 1}, \"32\": {\"32\": 24}, \"30\": {\"30\": 44}, \"34\": {\"34\": 24}, \"9\": {\"9\": 136}, \"1\": {\"1\": 40}, \"0\": {\"0\": 80}, \"38\": {\"38\": 40}, \"22\": {\"22\": 128}, \"40\": {\"40\": 120}, \"6\": {\"6\": 111, \"11\": 1}, \"16\": {\"16\": 96}, \"11\": {\"11\": 104}, \"20\": {\"20\": 122}, \"17\": {\"17\": 80}, \"26\": {\"26\": 24}, \"54\": {\"54\": 108}, \"55\": {\"55\": 154}, \"50\": {\"50\": 128, \"55\": 1, \"3\": 3}, \"19\": {\"19\": 142}, \"44\": {\"44\": 122}, \"47\": {\"47\": 120}, \"33\": {\"33\": 36}, \"5\": {\"5\": 107, \"16\": 1}, \"18\": {\"18\": 108}, \"21\": {\"21\": 124}, \"41\": {\"41\": 36}, \"23\": {\"23\": 128}, \"39\": {\"39\": 20}, \"37\": {\"37\": 24}, \"8\": {\"8\": 144}, \"49\": {\"49\": 20}, \"53\": {\"53\": 140}, \"31\": {\"31\": 28}, \"28\": {\"28\": 32}, \"3\": {\"3\": 124}, \"27\": {\"27\": 138}, \"46\": {\"46\": 127, \"22\": 1}, \"12\": {\"12\": 92}, \"7\": {\"7\": 24}, \"4\": {\"4\": 132}, \"42\": {\"42\": 32}, \"43\": {\"43\": 130}, \"29\": {\"29\": 120}, \"57\": {\"57\": 100}, \"52\": {\"52\": 104}, \"45\": {\"45\": 96}, \"36\": {\"36\": 92}, \"10\": {\"10\": 126}, \"15\": {\"15\": 134}, \"56\": {\"56\": 124}, \"2\": {\"2\": 36}}, \"CORES_5\": {\"47\": {\"47\": 100}, \"53\": {\"53\": 150}, \"29\": {\"29\": 126}, \"52\": {\"52\": 130}, \"55\": {\"55\": 144}, \"17\": {\"17\": 116}, \"42\": {\"42\": 40}, \"33\": {\"33\": 32}, \"11\": {\"11\": 148}, \"19\": {\"19\": 118}, \"1\": {\"1\": 144}, \"44\": {\"44\": 142}, \"49\": {\"49\": 36}, \"4\": {\"4\": 100}, \"6\": {\"6\": 115, \"45\": 1}, \"39\": {\"39\": 20}, \"50\": {\"50\": 148}, \"56\": {\"56\": 130}, \"25\": {\"25\": 144}, \"28\": {\"28\": 32}, \"35\": {\"35\": 36}, \"24\": {\"24\": 80}, \"21\": {\"21\": 132}, \"45\": {\"45\": 124}, \"16\": {\"16\": 144}, \"37\": {\"37\": 24}, \"57\": {\"57\": 132}, \"34\": {\"34\": 36}, \"38\": {\"38\": 32}, \"48\": {\"48\": 130}, \"26\": {\"26\": 24}, \"9\": {\"9\": 152}, \"18\": {\"18\": 64}, \"3\": {\"3\": 99, \"46\": 1}, \"23\": {\"23\": 124}, \"15\": {\"15\": 154}, \"10\": {\"10\": 68}, \"46\": {\"46\": 148}, \"22\": {\"22\": 28}, \"54\": {\"54\": 112}, \"27\": {\"27\": 160}, \"41\": {\"41\": 28}, \"31\": {\"31\": 36}, \"0\": {\"0\": 124}, \"7\": {\"7\": 32}, \"2\": {\"2\": 28}, \"14\": {\"14\": 44}, \"40\": {\"40\": 124}, \"5\": {\"5\": 128}, \"12\": {\"12\": 96}, \"43\": {\"43\": 142}, \"13\": {\"13\": 148}, \"36\": {\"36\": 92}, \"8\": {\"8\": 150}, \"32\": {\"32\": 32}, \"30\": {\"30\": 128}, \"51\": {\"51\": 138}, \"20\": {\"20\": 138}}, \"CORES_1\": {\"46\": {\"46\": 140}, \"16\": {\"16\": 134}, \"26\": {\"26\": 24}, \"10\": {\"10\": 96}, \"9\": {\"9\": 156}, \"28\": {\"28\": 28}, \"51\": {\"51\": 156}, \"1\": {\"1\": 100}, \"55\": {\"55\": 148}, \"27\": {\"27\": 124}, \"22\": {\"22\": 121, \"24\": 2, \"10\": 1}, \"52\": {\"52\": 126}, \"3\": {\"3\": 140}, \"33\": {\"33\": 32}, \"47\": {\"47\": 120}, \"42\": {\"42\": 40}, \"12\": {\"12\": 116}, \"23\": {\"23\": 132}, \"49\": {\"49\": 32}, \"7\": {\"7\": 28}, \"4\": {\"4\": 132}, \"50\": {\"50\": 134}, \"19\": {\"19\": 154}, \"11\": {\"11\": 140}, \"31\": {\"31\": 28}, \"41\": {\"41\": 24}, \"56\": {\"56\": 138}, \"0\": {\"0\": 148}, \"57\": {\"57\": 128}, \"53\": {\"53\": 140}, \"43\": {\"43\": 144}, \"37\": {\"37\": 32}, \"2\": {\"2\": 36}, \"6\": {\"6\": 96}, \"13\": {\"13\": 150}, \"18\": {\"18\": 72}, \"36\": {\"36\": 64}, \"29\": {\"29\": 140}, \"39\": {\"39\": 28}, \"17\": {\"17\": 64}, \"21\": {\"21\": 124}, \"25\": {\"25\": 132}, \"45\": {\"45\": 142}, \"38\": {\"38\": 24}, \"30\": {\"30\": 120}, \"24\": {\"24\": 108}, \"20\": {\"20\": 140}, \"8\": {\"8\": 140}, \"35\": {\"35\": 36}, \"54\": {\"54\": 104}, \"5\": {\"5\": 148}, \"48\": {\"48\": 144}, \"15\": {\"15\": 142}, \"34\": {\"34\": 24}, \"14\": {\"14\": 23, \"8\": 1}, \"32\": {\"32\": 32}, \"40\": {\"40\": 148}, \"44\": {\"44\": 136}}, \"CORES_2\": {\"36\": {\"36\": 116}, \"5\": {\"5\": 120}, \"45\": {\"45\": 128}, \"49\": {\"49\": 24}, \"50\": {\"50\": 136}, \"4\": {\"4\": 138}, \"43\": {\"43\": 148}, \"41\": {\"41\": 20}, \"37\": {\"37\": 36}, \"12\": {\"12\": 92}, \"33\": {\"33\": 28}, \"7\": {\"7\": 36}, \"56\": {\"56\": 140}, \"14\": {\"14\": 24}, \"52\": {\"52\": 124}, \"44\": {\"44\": 96}, \"48\": {\"48\": 144}, \"20\": {\"20\": 128}, \"55\": {\"55\": 144}, \"32\": {\"32\": 28}, \"40\": {\"40\": 136}, \"54\": {\"54\": 108}, \"17\": {\"17\": 104}, \"38\": {\"38\": 20}, \"24\": {\"24\": 96}, \"1\": {\"1\": 112}, \"6\": {\"6\": 124}, \"34\": {\"34\": 28}, \"11\": {\"11\": 136}, \"9\": {\"9\": 150}, \"8\": {\"8\": 152}, \"22\": {\"22\": 136}, \"26\": {\"26\": 24}, \"23\": {\"23\": 146}, \"10\": {\"10\": 112}, \"18\": {\"18\": 48}, \"13\": {\"13\": 116}, \"30\": {\"30\": 128}, \"42\": {\"42\": 36}, \"31\": {\"31\": 28}, \"46\": {\"46\": 128}, \"57\": {\"57\": 142}, \"47\": {\"47\": 138}, \"35\": {\"35\": 32}, \"15\": {\"15\": 132}, \"25\": {\"25\": 136}, \"19\": {\"19\": 136}, \"51\": {\"51\": 128}, \"53\": {\"53\": 134}, \"21\": {\"21\": 120}, \"39\": {\"39\": 28}, \"2\": {\"2\": 32}, \"16\": {\"16\": 150}, \"0\": {\"0\": 48}, \"3\": {\"3\": 92}, \"27\": {\"27\": 142}, \"28\": {\"28\": 28}, \"29\": {\"29\": 128}}, \"ORACLE.run1_14\": {\"15\": {\"15\": 120, \"7\": 95, \"13\": 4, \"1\": 9, \"2\": 5, \"5\": 4, \"4\": 1, \"6\": 2}, \"3\": {\"13\": 18, \"14\": 40, \"3\": 53, \"10\": 20, \"1\": 11, \"8\": 16, \"4\": 27, \"2\": 15, \"6\": 14, \"5\": 11, \"0\": 15}, \"6\": {\"4\": 28, \"1\": 16, \"2\": 28, \"3\": 14, \"6\": 44, \"14\": 44, \"13\": 42, \"5\": 16, \"10\": 3, \"8\": 2, \"15\": 1, \"7\": 1, \"0\": 1}, \"1\": {\"1\": 57, \"6\": 17, \"2\": 30, \"15\": 6, \"8\": 6, \"4\": 34, \"7\": 8, \"13\": 14, \"5\": 41, \"3\": 15, \"14\": 11, \"10\": 1}, \"8\": {\"8\": 112, \"3\": 33, \"4\": 20, \"14\": 4, \"10\": 12, \"0\": 43, \"1\": 8, \"5\": 4, \"2\": 1, \"13\": 1, \"11\": 1, \"9\": 1}, \"10\": {\"10\": 77, \"13\": 10, \"0\": 57, \"11\": 10, \"14\": 16, \"9\": 2, \"4\": 4, \"3\": 33, \"8\": 22, \"2\": 3, \"5\": 3, \"6\": 3}, \"9\": {\"0\": 13, \"9\": 114, \"11\": 58, \"8\": 3, \"12\": 47, \"10\": 5}, \"13\": {\"4\": 30, \"13\": 42, \"1\": 19, \"6\": 35, \"7\": 9, \"3\": 11, \"2\": 23, \"5\": 21, \"14\": 33, \"0\": 6, \"15\": 2, \"10\": 6, \"8\": 3}, \"12\": {\"12\": 162, \"11\": 12, \"9\": 66}, \"5\": {\"15\": 10, \"1\": 42, \"2\": 35, \"14\": 15, \"5\": 33, \"4\": 34, \"7\": 15, \"13\": 15, \"3\": 18, \"6\": 17, \"10\": 2, \"8\": 4}, \"0\": {\"10\": 76, \"0\": 55, \"11\": 37, \"8\": 19, \"3\": 21, \"14\": 13, \"9\": 10, \"13\": 2, \"4\": 3, \"5\": 1, \"1\": 1, \"2\": 2}, \"2\": {\"14\": 35, \"4\": 19, \"1\": 18, \"5\": 28, \"6\": 28, \"7\": 14, \"3\": 18, \"10\": 5, \"2\": 31, \"13\": 35, \"15\": 3, \"0\": 5, \"8\": 1}, \"11\": {\"11\": 94, \"0\": 34, \"10\": 21, \"14\": 2, \"8\": 3, \"9\": 79, \"12\": 7}, \"14\": {\"4\": 11, \"13\": 29, \"14\": 73, \"3\": 26, \"6\": 27, \"5\": 16, \"10\": 14, \"0\": 15, \"2\": 21, \"8\": 2, \"1\": 6}, \"7\": {\"15\": 90, \"13\": 6, \"7\": 94, \"1\": 20, \"2\": 12, \"6\": 6, \"5\": 10, \"4\": 2}, \"4\": {\"6\": 17, \"8\": 9, \"1\": 37, \"2\": 24, \"14\": 27, \"4\": 49, \"3\": 29, \"10\": 3, \"13\": 13, \"5\": 27, \"15\": 2, \"0\": 2, \"7\": 1}}, \"ORACLE.run1_20\": {\"3\": {\"13\": 21, \"3\": 27, \"14\": 6, \"8\": 15, \"1\": 17, \"9\": 26, \"7\": 16, \"6\": 5, \"15\": 14, \"10\": 13, \"12\": 18, \"5\": 18, \"0\": 9, \"2\": 23, \"4\": 12}, \"15\": {\"15\": 46, \"2\": 11, \"0\": 33, \"13\": 22, \"8\": 6, \"5\": 28, \"1\": 32, \"9\": 13, \"12\": 21, \"7\": 5, \"3\": 11, \"4\": 10, \"10\": 1, \"6\": 1}, \"8\": {\"7\": 21, \"8\": 31, \"15\": 5, \"5\": 12, \"12\": 12, \"4\": 25, \"14\": 19, \"2\": 19, \"10\": 17, \"6\": 13, \"1\": 10, \"13\": 14, \"9\": 12, \"3\": 24, \"0\": 5, \"11\": 1}, \"4\": {\"5\": 26, \"8\": 22, \"13\": 12, \"0\": 8, \"3\": 25, \"1\": 12, \"14\": 10, \"4\": 27, \"10\": 18, \"2\": 13, \"15\": 9, \"7\": 12, \"9\": 13, \"12\": 25, \"11\": 1, \"6\": 7}, \"14\": {\"2\": 10, \"6\": 49, \"10\": 40, \"14\": 47, \"3\": 10, \"4\": 16, \"11\": 9, \"8\": 19, \"7\": 26, \"9\": 5, \"1\": 2, \"12\": 5, \"5\": 1, \"15\": 1}, \"0\": {\"4\": 27, \"9\": 13, \"15\": 26, \"3\": 19, \"2\": 7, \"13\": 15, \"0\": 41, \"5\": 41, \"12\": 15, \"1\": 19, \"10\": 4, \"8\": 7, \"14\": 1, \"7\": 5}, \"7\": {\"4\": 20, \"5\": 11, \"11\": 9, \"13\": 17, \"2\": 27, \"14\": 12, \"12\": 17, \"7\": 24, \"6\": 18, \"9\": 18, \"1\": 7, \"10\": 16, \"8\": 18, \"3\": 20, \"0\": 3, \"15\": 3}, \"6\": {\"12\": 1, \"8\": 22, \"10\": 31, \"14\": 53, \"7\": 22, \"11\": 38, \"2\": 15, \"6\": 36, \"4\": 3, \"13\": 5, \"9\": 9, \"3\": 5}, \"10\": {\"13\": 7, \"7\": 19, \"10\": 33, \"6\": 29, \"14\": 33, \"11\": 7, \"9\": 7, \"15\": 4, \"8\": 32, \"2\": 12, \"12\": 18, \"4\": 16, \"1\": 4, \"3\": 15, \"5\": 4}, \"5\": {\"5\": 33, \"15\": 28, \"0\": 22, \"4\": 20, \"8\": 12, \"9\": 13, \"12\": 18, \"1\": 29, \"2\": 6, \"3\": 12, \"7\": 12, \"13\": 28, \"14\": 1, \"10\": 6}, \"2\": {\"13\": 25, \"11\": 10, \"15\": 8, \"5\": 9, \"8\": 22, \"14\": 5, \"0\": 5, \"12\": 19, \"9\": 22, \"7\": 22, \"1\": 13, \"10\": 10, \"3\": 16, \"2\": 36, \"4\": 12, \"6\": 6}, \"12\": {\"7\": 18, \"12\": 18, \"15\": 16, \"13\": 26, \"1\": 33, \"9\": 21, \"14\": 5, \"4\": 18, \"2\": 23, \"0\": 11, \"6\": 1, \"5\": 19, \"10\": 6, \"8\": 9, \"3\": 16}, \"9\": {\"7\": 22, \"9\": 32, \"8\": 13, \"15\": 12, \"10\": 15, \"1\": 17, \"2\": 24, \"12\": 18, \"5\": 8, \"13\": 28, \"4\": 16, \"14\": 7, \"3\": 18, \"0\": 3, \"11\": 4, \"6\": 3}, \"1\": {\"5\": 26, \"15\": 35, \"13\": 26, \"4\": 17, \"9\": 14, \"12\": 25, \"0\": 19, \"1\": 32, \"8\": 9, \"3\": 17, \"2\": 12, \"10\": 1, \"7\": 7}, \"11\": {\"11\": 118, \"10\": 11, \"7\": 28, \"14\": 21, \"4\": 2, \"6\": 25, \"2\": 8, \"9\": 18, \"13\": 5, \"3\": 2, \"12\": 1, \"8\": 1}, \"13\": {\"2\": 20, \"15\": 16, \"4\": 13, \"1\": 17, \"13\": 29, \"9\": 22, \"7\": 17, \"8\": 15, \"14\": 3, \"0\": 17, \"5\": 20, \"3\": 21, \"12\": 16, \"11\": 4, \"10\": 6, \"6\": 4}}, \"ORACLE.run1_38\": {\"5\": {\"8\": 39, \"13\": 7, \"5\": 46, \"6\": 35, \"7\": 33, \"9\": 12, \"1\": 18, \"0\": 22, \"15\": 8, \"3\": 5, \"10\": 10, \"12\": 2, \"4\": 2, \"11\": 1}, \"8\": {\"8\": 53, \"10\": 30, \"7\": 27, \"5\": 37, \"4\": 8, \"0\": 26, \"1\": 20, \"13\": 12, \"15\": 14, \"12\": 1, \"6\": 10, \"9\": 1, \"11\": 1}, \"11\": {\"11\": 83, \"2\": 29, \"14\": 80, \"15\": 7, \"12\": 21, \"13\": 5, \"4\": 4, \"10\": 8, \"5\": 1, \"1\": 1, \"8\": 1}, \"1\": {\"15\": 54, \"1\": 87, \"0\": 15, \"13\": 45, \"10\": 10, \"8\": 13, \"5\": 11, \"2\": 2, \"6\": 1, \"7\": 2}, \"10\": {\"8\": 24, \"0\": 15, \"7\": 8, \"15\": 34, \"13\": 27, \"12\": 13, \"10\": 64, \"1\": 15, \"2\": 5, \"5\": 10, \"4\": 10, \"6\": 2, \"11\": 9, \"14\": 4}, \"15\": {\"13\": 49, \"2\": 17, \"10\": 29, \"0\": 6, \"1\": 59, \"14\": 8, \"8\": 8, \"15\": 52, \"12\": 2, \"5\": 9, \"7\": 1}, \"3\": {\"3\": 142, \"9\": 47, \"6\": 22, \"0\": 10, \"7\": 11, \"5\": 7, \"8\": 1}, \"7\": {\"6\": 22, \"5\": 25, \"7\": 79, \"8\": 29, \"10\": 7, \"0\": 46, \"1\": 3, \"3\": 13, \"4\": 5, \"15\": 4, \"9\": 7}, \"4\": {\"8\": 7, \"4\": 117, \"5\": 5, \"7\": 13, \"12\": 67, \"15\": 4, \"10\": 14, \"0\": 8, \"14\": 5}, \"14\": {\"11\": 64, \"2\": 57, \"14\": 93, \"4\": 1, \"10\": 8, \"12\": 14, \"13\": 3}, \"9\": {\"9\": 84, \"6\": 67, \"3\": 49, \"7\": 15, \"5\": 12, \"0\": 10, \"8\": 2, \"1\": 1}, \"12\": {\"4\": 52, \"12\": 132, \"14\": 14, \"11\": 8, \"10\": 17, \"7\": 1, \"5\": 1, \"2\": 4, \"0\": 4, \"8\": 3, \"13\": 2, \"15\": 2}, \"6\": {\"0\": 25, \"6\": 81, \"3\": 20, \"9\": 62, \"5\": 22, \"7\": 19, \"8\": 9, \"10\": 1, \"1\": 1}, \"2\": {\"14\": 44, \"2\": 129, \"11\": 22, \"13\": 23, \"12\": 1, \"15\": 14, \"10\": 4, \"1\": 3}, \"0\": {\"10\": 17, \"8\": 45, \"0\": 34, \"7\": 49, \"5\": 23, \"6\": 15, \"12\": 2, \"9\": 9, \"4\": 9, \"3\": 15, \"13\": 8, \"15\": 9, \"1\": 5}, \"13\": {\"13\": 72, \"15\": 45, \"1\": 49, \"0\": 3, \"5\": 8, \"8\": 14, \"10\": 17, \"14\": 7, \"7\": 1, \"2\": 18, \"11\": 4, \"6\": 1, \"4\": 1}}, \"ORACLE.run1_8\": {\"9\": {\"9\": 200, \"1\": 2, \"5\": 24, \"10\": 10, \"14\": 1, \"0\": 1, \"11\": 1, \"13\": 1}, \"10\": {\"11\": 19, \"10\": 35, \"1\": 33, \"5\": 19, \"14\": 34, \"7\": 11, \"4\": 28, \"13\": 28, \"6\": 12, \"0\": 11, \"9\": 3, \"15\": 2, \"8\": 5}, \"13\": {\"6\": 29, \"13\": 26, \"0\": 34, \"7\": 23, \"4\": 35, \"8\": 18, \"11\": 11, \"2\": 1, \"14\": 25, \"15\": 5, \"5\": 6, \"10\": 14, \"1\": 10, \"12\": 3}, \"0\": {\"14\": 23, \"7\": 30, \"11\": 5, \"13\": 46, \"0\": 40, \"6\": 35, \"10\": 11, \"4\": 18, \"8\": 13, \"12\": 2, \"1\": 8, \"2\": 1, \"15\": 5, \"5\": 3}, \"1\": {\"11\": 40, \"6\": 7, \"5\": 40, \"1\": 45, \"13\": 17, \"14\": 37, \"10\": 24, \"8\": 9, \"0\": 2, \"4\": 14, \"7\": 4, \"15\": 1}, \"15\": {\"15\": 54, \"4\": 7, \"8\": 36, \"3\": 20, \"7\": 29, \"2\": 23, \"12\": 36, \"13\": 6, \"6\": 11, \"0\": 13, \"14\": 5}, \"5\": {\"11\": 34, \"10\": 27, \"5\": 60, \"14\": 28, \"13\": 20, \"1\": 40, \"4\": 9, \"9\": 13, \"0\": 6, \"6\": 2, \"8\": 1}, \"3\": {\"12\": 41, \"7\": 2, \"3\": 80, \"2\": 75, \"15\": 28, \"6\": 5, \"8\": 6, \"0\": 1, \"4\": 2}, \"6\": {\"4\": 28, \"7\": 33, \"0\": 26, \"13\": 30, \"8\": 29, \"11\": 2, \"6\": 35, \"10\": 13, \"14\": 13, \"15\": 12, \"1\": 10, \"12\": 5, \"5\": 3, \"3\": 1}, \"11\": {\"5\": 43, \"11\": 53, \"4\": 11, \"13\": 19, \"14\": 37, \"8\": 11, \"1\": 47, \"10\": 15, \"7\": 2, \"6\": 2}, \"8\": {\"12\": 21, \"8\": 60, \"0\": 17, \"15\": 26, \"11\": 11, \"7\": 23, \"6\": 26, \"4\": 13, \"14\": 9, \"10\": 3, \"1\": 7, \"2\": 3, \"13\": 16, \"5\": 2, \"3\": 3}, \"4\": {\"10\": 21, \"4\": 28, \"13\": 30, \"5\": 12, \"0\": 34, \"7\": 23, \"11\": 14, \"14\": 20, \"6\": 18, \"15\": 4, \"1\": 18, \"3\": 1, \"8\": 15, \"12\": 2}, \"12\": {\"15\": 45, \"3\": 43, \"12\": 61, \"8\": 30, \"7\": 17, \"2\": 27, \"0\": 6, \"6\": 8, \"4\": 1, \"13\": 2}, \"14\": {\"11\": 16, \"7\": 12, \"0\": 20, \"5\": 24, \"1\": 29, \"14\": 33, \"13\": 28, \"6\": 15, \"4\": 21, \"8\": 12, \"10\": 26, \"15\": 3, \"3\": 1}, \"2\": {\"3\": 58, \"7\": 14, \"2\": 85, \"12\": 28, \"13\": 2, \"6\": 11, \"15\": 28, \"8\": 6, \"10\": 1, \"4\": 1, \"0\": 6}, \"7\": {\"12\": 9, \"7\": 43, \"0\": 49, \"1\": 3, \"13\": 20, \"6\": 39, \"14\": 8, \"10\": 9, \"8\": 17, \"15\": 11, \"2\": 7, \"4\": 22, \"11\": 1, \"3\": 2}}, \"ORACLE.run1_50\": {\"7\": {\"7\": 62, \"10\": 43, \"13\": 50, \"5\": 32, \"8\": 7, \"0\": 11, \"3\": 1, \"6\": 22, \"4\": 5, \"2\": 5, \"1\": 2}, \"3\": {\"3\": 157, \"10\": 8, \"8\": 73, \"7\": 2}, \"8\": {\"3\": 54, \"8\": 117, \"10\": 48, \"0\": 7, \"7\": 5, \"13\": 8, \"2\": 1}, \"2\": {\"2\": 117, \"14\": 6, \"0\": 62, \"6\": 11, \"13\": 4, \"5\": 7, \"1\": 14, \"4\": 8, \"7\": 4, \"10\": 5, \"15\": 2}, \"14\": {\"1\": 22, \"11\": 47, \"14\": 88, \"9\": 10, \"12\": 26, \"15\": 26, \"6\": 3, \"2\": 7, \"4\": 11}, \"4\": {\"15\": 25, \"6\": 23, \"2\": 6, \"1\": 53, \"0\": 10, \"4\": 53, \"5\": 24, \"7\": 7, \"13\": 9, \"8\": 1, \"11\": 12, \"14\": 15, \"12\": 2}, \"6\": {\"6\": 65, \"5\": 33, \"0\": 17, \"15\": 17, \"2\": 9, \"4\": 35, \"7\": 15, \"1\": 20, \"10\": 3, \"13\": 26}, \"15\": {\"15\": 66, \"1\": 53, \"14\": 19, \"9\": 3, \"4\": 51, \"6\": 12, \"2\": 4, \"5\": 9, \"11\": 16, \"12\": 2, \"13\": 4, \"0\": 1}, \"10\": {\"13\": 34, \"10\": 74, \"5\": 12, \"8\": 27, \"0\": 40, \"2\": 8, \"7\": 37, \"6\": 6, \"4\": 1, \"3\": 1}, \"11\": {\"1\": 17, \"12\": 31, \"9\": 29, \"14\": 45, \"11\": 80, \"15\": 28, \"4\": 8, \"2\": 1, \"6\": 1}, \"13\": {\"5\": 47, \"13\": 42, \"6\": 38, \"0\": 18, \"2\": 8, \"10\": 25, \"7\": 42, \"15\": 5, \"1\": 4, \"4\": 9, \"8\": 2}, \"9\": {\"14\": 17, \"9\": 100, \"12\": 78, \"11\": 41, \"4\": 1, \"15\": 3}, \"0\": {\"2\": 55, \"0\": 74, \"7\": 25, \"5\": 15, \"13\": 23, \"6\": 13, \"8\": 4, \"10\": 29, \"14\": 1, \"15\": 1}, \"1\": {\"15\": 51, \"1\": 50, \"5\": 14, \"6\": 27, \"2\": 15, \"13\": 4, \"14\": 21, \"4\": 35, \"0\": 6, \"11\": 14, \"7\": 2, \"12\": 1}, \"12\": {\"9\": 73, \"14\": 23, \"11\": 31, \"12\": 111, \"15\": 1, \"2\": 1}, \"5\": {\"6\": 44, \"2\": 10, \"7\": 37, \"10\": 13, \"5\": 32, \"1\": 17, \"4\": 25, \"13\": 37, \"0\": 13, \"15\": 11, \"14\": 1}}, \"ORACLE.run1_32\": {\"8\": {\"2\": 6, \"4\": 16, \"7\": 20, \"13\": 48, \"0\": 26, \"11\": 4, \"8\": 49, \"5\": 34, \"15\": 18, \"14\": 12, \"3\": 7}, \"14\": {\"8\": 19, \"3\": 14, \"11\": 60, \"14\": 43, \"7\": 27, \"13\": 25, \"5\": 23, \"0\": 16, \"4\": 9, \"2\": 4}, \"2\": {\"2\": 88, \"4\": 66, \"14\": 2, \"5\": 7, \"7\": 20, \"0\": 39, \"13\": 8, \"8\": 8, \"9\": 2}, \"0\": {\"7\": 21, \"4\": 42, \"15\": 3, \"0\": 57, \"2\": 38, \"14\": 11, \"8\": 23, \"5\": 21, \"13\": 22, \"11\": 2}, \"1\": {\"1\": 182, \"10\": 54, \"6\": 4}, \"10\": {\"10\": 176, \"1\": 45, \"6\": 18, \"12\": 1}, \"11\": {\"14\": 59, \"5\": 18, \"11\": 91, \"3\": 32, \"13\": 14, \"8\": 6, \"7\": 14, \"4\": 3, \"0\": 2, \"2\": 1}, \"5\": {\"8\": 34, \"14\": 19, \"2\": 9, \"13\": 34, \"5\": 40, \"3\": 12, \"4\": 18, \"11\": 16, \"0\": 18, \"7\": 29, \"15\": 11}, \"15\": {\"15\": 144, \"14\": 3, \"13\": 16, \"3\": 32, \"5\": 12, \"8\": 23, \"11\": 6, \"7\": 1, \"4\": 1, \"0\": 2}, \"3\": {\"15\": 38, \"13\": 20, \"3\": 93, \"5\": 5, \"7\": 6, \"8\": 18, \"11\": 44, \"14\": 15, \"0\": 1}, \"12\": {\"12\": 189, \"6\": 31, \"9\": 19, \"10\": 1}, \"7\": {\"4\": 29, \"0\": 22, \"8\": 27, \"13\": 34, \"7\": 41, \"14\": 24, \"15\": 1, \"5\": 26, \"11\": 16, \"3\": 4, \"2\": 16}, \"13\": {\"8\": 28, \"3\": 16, \"7\": 30, \"13\": 43, \"0\": 18, \"4\": 15, \"15\": 14, \"14\": 14, \"5\": 43, \"2\": 9, \"11\": 10}, \"6\": {\"6\": 189, \"12\": 23, \"10\": 27, \"1\": 1}, \"4\": {\"0\": 41, \"8\": 14, \"4\": 56, \"7\": 27, \"13\": 22, \"5\": 25, \"14\": 10, \"2\": 43, \"15\": 1, \"11\": 1}, \"9\": {\"9\": 201, \"12\": 35, \"4\": 2, \"2\": 2}}, \"ORACLE.run1_26\": {\"4\": {\"0\": 31, \"14\": 34, \"4\": 21, \"8\": 22, \"2\": 11, \"6\": 8, \"15\": 12, \"1\": 22, \"7\": 22, \"9\": 11, \"10\": 21, \"5\": 11, \"13\": 11, \"3\": 3}, \"12\": {\"11\": 68, \"12\": 148, \"13\": 2, \"0\": 4, \"6\": 11, \"9\": 2, \"8\": 3, \"10\": 1, \"15\": 1}, \"10\": {\"0\": 32, \"14\": 32, \"13\": 19, \"10\": 19, \"8\": 33, \"15\": 15, \"7\": 10, \"1\": 19, \"9\": 16, \"6\": 18, \"4\": 16, \"5\": 6, \"3\": 2, \"2\": 3}, \"0\": {\"0\": 24, \"4\": 25, \"8\": 28, \"10\": 19, \"14\": 29, \"6\": 19, \"2\": 10, \"1\": 23, \"15\": 14, \"9\": 7, \"5\": 13, \"13\": 12, \"7\": 10, \"3\": 6, \"12\": 1}, \"13\": {\"15\": 25, \"4\": 7, \"0\": 18, \"13\": 47, \"5\": 33, \"6\": 23, \"10\": 17, \"9\": 19, \"8\": 16, \"7\": 8, \"2\": 6, \"3\": 9, \"14\": 6, \"1\": 4, \"11\": 2}, \"9\": {\"13\": 32, \"9\": 38, \"4\": 15, \"15\": 19, \"8\": 17, \"6\": 22, \"0\": 16, \"7\": 11, \"14\": 13, \"1\": 10, \"2\": 7, \"5\": 20, \"3\": 9, \"10\": 11}, \"3\": {\"8\": 3, \"3\": 48, \"2\": 55, \"4\": 14, \"14\": 18, \"15\": 10, \"5\": 21, \"1\": 15, \"13\": 9, \"7\": 37, \"9\": 5, \"0\": 5}, \"2\": {\"8\": 14, \"3\": 49, \"5\": 24, \"2\": 39, \"14\": 10, \"13\": 12, \"4\": 13, \"1\": 14, \"10\": 6, \"6\": 3, \"15\": 8, \"7\": 30, \"9\": 10, \"0\": 8}, \"5\": {\"8\": 13, \"2\": 28, \"15\": 24, \"13\": 27, \"0\": 17, \"5\": 32, \"6\": 14, \"14\": 15, \"10\": 6, \"3\": 21, \"1\": 5, \"7\": 12, \"4\": 7, \"9\": 19}, \"14\": {\"4\": 17, \"6\": 12, \"8\": 20, \"15\": 17, \"5\": 9, \"14\": 34, \"10\": 23, \"0\": 28, \"2\": 10, \"1\": 21, \"7\": 20, \"9\": 14, \"13\": 10, \"3\": 4, \"12\": 1}, \"8\": {\"4\": 15, \"7\": 15, \"10\": 21, \"8\": 21, \"1\": 23, \"13\": 21, \"0\": 17, \"15\": 21, \"9\": 15, \"6\": 21, \"2\": 10, \"14\": 19, \"3\": 7, \"5\": 14}, \"7\": {\"6\": 7, \"2\": 29, \"8\": 17, \"4\": 15, \"15\": 6, \"1\": 18, \"3\": 39, \"10\": 5, \"0\": 15, \"9\": 12, \"5\": 23, \"7\": 27, \"13\": 16, \"14\": 11}, \"6\": {\"4\": 11, \"13\": 26, \"10\": 23, \"6\": 34, \"0\": 27, \"8\": 21, \"15\": 24, \"9\": 22, \"14\": 19, \"2\": 2, \"5\": 11, \"11\": 5, \"7\": 5, \"12\": 4, \"1\": 6}, \"11\": {\"12\": 70, \"11\": 152, \"13\": 4, \"6\": 8, \"0\": 2, \"15\": 3, \"10\": 1}, \"15\": {\"8\": 17, \"13\": 30, \"10\": 20, \"6\": 17, \"1\": 17, \"5\": 22, \"14\": 17, \"0\": 18, \"9\": 19, \"2\": 11, \"4\": 14, \"15\": 22, \"7\": 14, \"3\": 2}, \"1\": {\"2\": 18, \"0\": 27, \"13\": 6, \"1\": 30, \"15\": 8, \"8\": 22, \"5\": 13, \"9\": 13, \"14\": 19, \"10\": 15, \"6\": 6, \"4\": 28, \"7\": 25, \"3\": 10}}, \"ORACLE.run1_44\": {\"12\": {\"1\": 60, \"12\": 74, \"2\": 8, \"10\": 76, \"3\": 19, \"7\": 3}, \"7\": {\"13\": 11, \"7\": 51, \"11\": 15, \"6\": 27, \"3\": 33, \"2\": 31, \"9\": 46, \"1\": 17, \"12\": 4, \"10\": 4, \"4\": 1}, \"5\": {\"5\": 80, \"0\": 58, \"4\": 9, \"8\": 48, \"15\": 26, \"14\": 19}, \"15\": {\"14\": 46, \"5\": 28, \"15\": 67, \"8\": 37, \"4\": 29, \"0\": 33}, \"8\": {\"0\": 78, \"8\": 89, \"4\": 1, \"5\": 40, \"15\": 27, \"14\": 5}, \"2\": {\"12\": 16, \"7\": 54, \"10\": 21, \"3\": 31, \"2\": 63, \"9\": 10, \"1\": 31, \"13\": 4, \"6\": 6, \"11\": 4}, \"13\": {\"13\": 69, \"11\": 52, \"9\": 48, \"14\": 5, \"6\": 35, \"4\": 6, \"7\": 16, \"1\": 2, \"3\": 2, \"2\": 4, \"15\": 1}, \"4\": {\"13\": 13, \"5\": 9, \"4\": 99, \"14\": 78, \"15\": 25, \"8\": 4, \"0\": 6, \"6\": 3, \"11\": 2, \"9\": 1}, \"0\": {\"8\": 80, \"15\": 42, \"0\": 68, \"5\": 47, \"14\": 3}, \"6\": {\"7\": 27, \"6\": 60, \"11\": 34, \"2\": 20, \"13\": 45, \"9\": 48, \"1\": 3, \"4\": 2, \"10\": 1}, \"9\": {\"13\": 54, \"6\": 40, \"11\": 24, \"7\": 36, \"9\": 53, \"2\": 8, \"1\": 3, \"3\": 15, \"14\": 3, \"4\": 4}, \"11\": {\"11\": 79, \"13\": 60, \"6\": 41, \"9\": 23, \"7\": 23, \"4\": 6, \"2\": 3, \"10\": 2, \"3\": 1, \"14\": 2}, \"10\": {\"1\": 47, \"3\": 20, \"12\": 56, \"7\": 7, \"2\": 27, \"10\": 82, \"6\": 1}, \"14\": {\"4\": 75, \"5\": 17, \"14\": 70, \"15\": 51, \"13\": 4, \"0\": 12, \"8\": 7, \"11\": 2, \"7\": 1, \"9\": 1}, \"1\": {\"3\": 34, \"1\": 48, \"10\": 44, \"7\": 11, \"12\": 66, \"2\": 36, \"9\": 1}, \"3\": {\"2\": 36, \"10\": 23, \"3\": 92, \"6\": 2, \"12\": 15, \"7\": 26, \"1\": 36, \"9\": 9, \"11\": 1}}}, \"per_domain_accuracy\": {\"CORES_3\": {\"accuracy\": 0.9994549418604651, \"source?\": true}, \"CORES_4\": {\"accuracy\": 0.9982954545454545, \"source?\": true}, \"CORES_5\": {\"accuracy\": 0.9996508379888268, \"source?\": true}, \"CORES_1\": {\"accuracy\": 0.9993169398907104, \"source?\": true}, \"CORES_2\": {\"accuracy\": 1.0, \"source?\": true}, \"ORACLE.run1_14\": {\"accuracy\": 0.3151041666666667, \"source?\": false}, \"ORACLE.run1_20\": {\"accuracy\": 0.15885416666666666, \"source?\": false}, \"ORACLE.run1_38\": {\"accuracy\": 0.35104166666666664, \"source?\": false}, \"ORACLE.run1_8\": {\"accuracy\": 0.24427083333333333, \"source?\": false}, \"ORACLE.run1_50\": {\"accuracy\": 0.33541666666666664, \"source?\": false}, \"ORACLE.run1_32\": {\"accuracy\": 0.43802083333333336, \"source?\": false}, \"ORACLE.run1_26\": {\"accuracy\": 0.19166666666666668, \"source?\": false}, \"ORACLE.run1_44\": {\"accuracy\": 0.29791666666666666, \"source?\": false}}}, \"history\": {\"epoch_indices\": [1, 2, 3, 4, 5, 6, 7], \"train_label_loss\": [0.02559095578199164, 0.006417774689195713, 0.004846815507938344, 0.0035865399089902205, 0.0028442352351425062, 0.0027064897714500313, 0.002668954528084105], \"source_val_label_loss\": [0.006956225726753473, 0.011059298180043697, 0.0070231095887720585, 0.008283102884888649, 0.007959779351949692, 0.011171955615282059, 0.010106070898473263], \"target_val_label_loss\": [2.1203908920288086, 2.5167062282562256, 2.137561082839966, 2.741668939590454, 2.6785802841186523, 2.4749715328216553, 2.980595588684082], \"source_val_acc_label\": [0.9987157534246576, 0.9983233447488584, 0.9993578767123288, 0.9992865296803652, 0.9992151826484018, 0.9983590182648402, 0.9995005707762558], \"target_val_acc_label\": [0.268359375, 0.2501627604166667, 0.29153645833333336, 0.2423828125, 0.27464192708333335, 0.28291015625, 0.2600911458333333]}, \"dataset_metrics\": {\"source\": {\"train\": {\"n_unique_x\": 175189, \"n_unique_y\": 58, \"n_batch/episode\": 6297}, \"val\": {\"n_unique_x\": 37196, \"n_unique_y\": 58, \"n_batch/episode\": 876}, \"test\": {\"n_unique_x\": 37634, \"n_unique_y\": 58, \"n_batch/episode\": 891}}, \"target\": {\"train\": {\"n_unique_x\": 179200, \"n_unique_y\": 16, \"n_batch/episode\": 6720}, \"val\": {\"n_unique_x\": 38400, \"n_unique_y\": 16, \"n_batch/episode\": 960}, \"test\": {\"n_unique_x\": 38400, \"n_unique_y\": 16, \"n_batch/episode\": 960}}}}'"
      ]
     },
     "execution_count": 29,
     "metadata": {},
     "output_type": "execute_result"
    }
   ],
   "source": [
    "json.dumps(experiment)"
   ]
  }
 ],
 "metadata": {
  "celltoolbar": "Tags",
  "kernelspec": {
   "display_name": "Python 3 (ipykernel)",
   "language": "python",
   "name": "python3"
  },
  "language_info": {
   "codemirror_mode": {
    "name": "ipython",
    "version": 3
   },
   "file_extension": ".py",
   "mimetype": "text/x-python",
   "name": "python",
   "nbconvert_exporter": "python",
   "pygments_lexer": "ipython3",
   "version": "3.8.12"
  },
  "papermill": {
   "default_parameters": {},
   "duration": 1811.380875,
   "end_time": "2022-03-21T02:29:47.810488",
   "environment_variables": {},
   "exception": null,
   "input_path": "/root/csc500-main/csc500-notebooks/templates/tl_ptn_template.ipynb",
   "output_path": "trial.ipynb",
   "parameters": {
    "parameters": {
     "BEST_MODEL_PATH": "./best_model.pth",
     "NUM_LOGS_PER_EPOCH": 10,
     "criteria_for_best": "target_accuracy",
     "dataset_seed": 1337,
     "datasets": [
      {
       "domain_prefix": "CORES_",
       "domains": [
        1,
        2,
        3,
        4,
        5
       ],
       "episode_transforms": [],
       "labels": [
        "1-10.",
        "1-11.",
        "1-15.",
        "1-16.",
        "1-17.",
        "1-18.",
        "1-19.",
        "10-4.",
        "10-7.",
        "11-1.",
        "11-14.",
        "11-17.",
        "11-20.",
        "11-7.",
        "13-20.",
        "13-8.",
        "14-10.",
        "14-11.",
        "14-14.",
        "14-7.",
        "15-1.",
        "15-20.",
        "16-1.",
        "16-16.",
        "17-10.",
        "17-11.",
        "17-2.",
        "19-1.",
        "19-16.",
        "19-19.",
        "19-20.",
        "19-3.",
        "2-10.",
        "2-11.",
        "2-17.",
        "2-18.",
        "2-20.",
        "2-3.",
        "2-4.",
        "2-5.",
        "2-6.",
        "2-7.",
        "2-8.",
        "3-13.",
        "3-18.",
        "3-3.",
        "4-1.",
        "4-10.",
        "4-11.",
        "4-19.",
        "5-5.",
        "6-15.",
        "7-10.",
        "7-14.",
        "8-18.",
        "8-20.",
        "8-3.",
        "8-8."
       ],
       "num_examples_per_domain_per_label": -1,
       "pickle_path": "/root/csc500-main/datasets/cores.stratified_ds.2022A.pkl",
       "source_or_target_dataset": "source",
       "x_transforms": [
        "unit_power"
       ]
      },
      {
       "domain_prefix": "ORACLE.run1_",
       "domains": [
        32,
        38,
        8,
        44,
        14,
        50,
        20,
        26
       ],
       "episode_transforms": [],
       "labels": [
        "3123D52",
        "3123D65",
        "3123D79",
        "3123D80",
        "3123D54",
        "3123D70",
        "3123D7B",
        "3123D89",
        "3123D58",
        "3123D76",
        "3123D7D",
        "3123EFE",
        "3123D64",
        "3123D78",
        "3123D7E",
        "3124E4A"
       ],
       "num_examples_per_domain_per_label": 2000,
       "pickle_path": "/root/csc500-main/datasets/oracle.Run1_framed_2000Examples_stratified_ds.2022A.pkl",
       "source_or_target_dataset": "target",
       "x_transforms": [
        "unit_power"
       ]
      }
     ],
     "device": "cuda",
     "experiment_name": "tl_1v2:cores-oracle.run1.framed",
     "lr": 0.0001,
     "n_epoch": 50,
     "n_query": 2,
     "n_shot": 3,
     "n_way": 16,
     "patience": 3,
     "seed": 1337,
     "test_k_factor": 2,
     "torch_default_dtype": "torch.float32",
     "train_k_factor": 3,
     "val_k_factor": 2,
     "x_net": [
      {
       "class": "nnReshape",
       "kargs": {
        "shape": [
         -1,
         1,
         2,
         256
        ]
       }
      },
      {
       "class": "Conv2d",
       "kargs": {
        "bias": false,
        "in_channels": 1,
        "kernel_size": [
         1,
         7
        ],
        "out_channels": 256,
        "padding": [
         0,
         3
        ]
       }
      },
      {
       "class": "ReLU",
       "kargs": {
        "inplace": true
       }
      },
      {
       "class": "BatchNorm2d",
       "kargs": {
        "num_features": 256
       }
      },
      {
       "class": "Conv2d",
       "kargs": {
        "bias": true,
        "in_channels": 256,
        "kernel_size": [
         2,
         7
        ],
        "out_channels": 80,
        "padding": [
         0,
         3
        ]
       }
      },
      {
       "class": "ReLU",
       "kargs": {
        "inplace": true
       }
      },
      {
       "class": "BatchNorm2d",
       "kargs": {
        "num_features": 80
       }
      },
      {
       "class": "Flatten",
       "kargs": {}
      },
      {
       "class": "Linear",
       "kargs": {
        "in_features": 20480,
        "out_features": 256
       }
      },
      {
       "class": "ReLU",
       "kargs": {
        "inplace": true
       }
      },
      {
       "class": "BatchNorm1d",
       "kargs": {
        "num_features": 256
       }
      },
      {
       "class": "Linear",
       "kargs": {
        "in_features": 256,
        "out_features": 256
       }
      }
     ]
    }
   },
   "start_time": "2022-03-21T01:59:36.429613",
   "version": "2.3.4"
  }
 },
 "nbformat": 4,
 "nbformat_minor": 5
}