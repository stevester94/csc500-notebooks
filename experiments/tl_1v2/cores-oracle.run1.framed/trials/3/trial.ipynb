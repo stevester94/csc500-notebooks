{
 "cells": [
  {
   "cell_type": "markdown",
   "id": "9fea5f46",
   "metadata": {
    "papermill": {
     "duration": 0.028872,
     "end_time": "2022-03-21T03:43:02.664164",
     "exception": false,
     "start_time": "2022-03-21T03:43:02.635292",
     "status": "completed"
    },
    "tags": []
   },
   "source": [
    "# Transfer Learning Template"
   ]
  },
  {
   "cell_type": "code",
   "execution_count": 1,
   "id": "0902182a",
   "metadata": {
    "execution": {
     "iopub.execute_input": "2022-03-21T03:43:02.729002Z",
     "iopub.status.busy": "2022-03-21T03:43:02.727804Z",
     "iopub.status.idle": "2022-03-21T03:43:04.713703Z",
     "shell.execute_reply": "2022-03-21T03:43:04.712848Z"
    },
    "papermill": {
     "duration": 2.023788,
     "end_time": "2022-03-21T03:43:04.713888",
     "exception": false,
     "start_time": "2022-03-21T03:43:02.690100",
     "status": "completed"
    },
    "tags": []
   },
   "outputs": [],
   "source": [
    "%load_ext autoreload\n",
    "%autoreload 2\n",
    "%matplotlib inline\n",
    "\n",
    "    \n",
    "import os, json, sys, time, random\n",
    "import numpy as np\n",
    "import torch\n",
    "from torch.optim import Adam\n",
    "from  easydict import EasyDict\n",
    "import matplotlib.pyplot as plt\n",
    "\n",
    "from steves_models.steves_ptn import Steves_Prototypical_Network\n",
    "\n",
    "from steves_utils.lazy_iterable_wrapper import Lazy_Iterable_Wrapper\n",
    "from steves_utils.iterable_aggregator import Iterable_Aggregator\n",
    "from steves_utils.ptn_train_eval_test_jig import  PTN_Train_Eval_Test_Jig\n",
    "from steves_utils.torch_sequential_builder import build_sequential\n",
    "from steves_utils.torch_utils import get_dataset_metrics, ptn_confusion_by_domain_over_dataloader\n",
    "from steves_utils.utils_v2 import (per_domain_accuracy_from_confusion, get_datasets_base_path)\n",
    "from steves_utils.PTN.utils import independent_accuracy_assesment\n",
    "\n",
    "from torch.utils.data import DataLoader\n",
    "\n",
    "from steves_utils.stratified_dataset.episodic_accessor import Episodic_Accessor_Factory\n",
    "\n",
    "from steves_utils.ptn_do_report import (\n",
    "    get_loss_curve,\n",
    "    get_results_table,\n",
    "    get_parameters_table,\n",
    "    get_domain_accuracies,\n",
    ")\n",
    "\n",
    "from steves_utils.transforms import get_chained_transform"
   ]
  },
  {
   "cell_type": "markdown",
   "id": "41c840b4",
   "metadata": {
    "papermill": {
     "duration": 0.019795,
     "end_time": "2022-03-21T03:43:04.758127",
     "exception": false,
     "start_time": "2022-03-21T03:43:04.738332",
     "status": "completed"
    },
    "tags": []
   },
   "source": [
    "# Allowed Parameters\n",
    "These are allowed parameters, not defaults\n",
    "Each of these values need to be present in the injected parameters (the notebook will raise an exception if they are not present)\n",
    "\n",
    "Papermill uses the cell tag \"parameters\" to inject the real parameters below this cell.\n",
    "Enable tags to see what I mean"
   ]
  },
  {
   "cell_type": "code",
   "execution_count": 2,
   "id": "fd44eb83",
   "metadata": {
    "execution": {
     "iopub.execute_input": "2022-03-21T03:43:04.801260Z",
     "iopub.status.busy": "2022-03-21T03:43:04.800875Z",
     "iopub.status.idle": "2022-03-21T03:43:04.823767Z",
     "shell.execute_reply": "2022-03-21T03:43:04.822774Z"
    },
    "papermill": {
     "duration": 0.046372,
     "end_time": "2022-03-21T03:43:04.823994",
     "exception": false,
     "start_time": "2022-03-21T03:43:04.777622",
     "status": "completed"
    },
    "tags": []
   },
   "outputs": [],
   "source": [
    "required_parameters = {\n",
    "    \"experiment_name\",\n",
    "    \"lr\",\n",
    "    \"device\",\n",
    "    \"seed\",\n",
    "    \"dataset_seed\",\n",
    "    \"n_shot\",\n",
    "    \"n_query\",\n",
    "    \"n_way\",\n",
    "    \"train_k_factor\",\n",
    "    \"val_k_factor\",\n",
    "    \"test_k_factor\",\n",
    "    \"n_epoch\",\n",
    "    \"patience\",\n",
    "    \"criteria_for_best\",\n",
    "    \"x_net\",\n",
    "    \"datasets\",\n",
    "    \"torch_default_dtype\",\n",
    "    \"NUM_LOGS_PER_EPOCH\",\n",
    "    \"BEST_MODEL_PATH\",\n",
    "    \"x_shape\",\n",
    "}"
   ]
  },
  {
   "cell_type": "code",
   "execution_count": 3,
   "id": "fa3f0049",
   "metadata": {
    "execution": {
     "iopub.execute_input": "2022-03-21T03:43:04.881241Z",
     "iopub.status.busy": "2022-03-21T03:43:04.880329Z",
     "iopub.status.idle": "2022-03-21T03:43:04.911987Z",
     "shell.execute_reply": "2022-03-21T03:43:04.911097Z"
    },
    "papermill": {
     "duration": 0.061957,
     "end_time": "2022-03-21T03:43:04.912167",
     "exception": false,
     "start_time": "2022-03-21T03:43:04.850210",
     "status": "completed"
    },
    "tags": [
     "parameters"
    ]
   },
   "outputs": [],
   "source": [
    "from steves_utils.CORES.utils import (\n",
    "    ALL_NODES,\n",
    "    ALL_NODES_MINIMUM_1000_EXAMPLES,\n",
    "    ALL_DAYS\n",
    ")\n",
    "\n",
    "from steves_utils.ORACLE.utils_v2 import (\n",
    "    ALL_DISTANCES_FEET_NARROWED,\n",
    "    ALL_RUNS,\n",
    "    ALL_SERIAL_NUMBERS,\n",
    ")\n",
    "\n",
    "standalone_parameters = {}\n",
    "standalone_parameters[\"experiment_name\"] = \"STANDALONE PTN\"\n",
    "standalone_parameters[\"lr\"] = 0.001\n",
    "standalone_parameters[\"device\"] = \"cuda\"\n",
    "\n",
    "standalone_parameters[\"seed\"] = 1337\n",
    "standalone_parameters[\"dataset_seed\"] = 1337\n",
    "\n",
    "standalone_parameters[\"n_way\"] = 8\n",
    "standalone_parameters[\"n_shot\"] = 3\n",
    "standalone_parameters[\"n_query\"]  = 2\n",
    "standalone_parameters[\"train_k_factor\"] = 1\n",
    "standalone_parameters[\"val_k_factor\"] = 2\n",
    "standalone_parameters[\"test_k_factor\"] = 2\n",
    "\n",
    "\n",
    "standalone_parameters[\"n_epoch\"] = 50\n",
    "\n",
    "standalone_parameters[\"patience\"] = 10\n",
    "standalone_parameters[\"criteria_for_best\"] = \"source_loss\"\n",
    "\n",
    "standalone_parameters[\"datasets\"] = [\n",
    "    {\n",
    "        \"labels\": ALL_SERIAL_NUMBERS,\n",
    "        \"domains\": ALL_DISTANCES_FEET_NARROWED,\n",
    "        \"num_examples_per_domain_per_label\": 100,\n",
    "        \"pickle_path\": os.path.join(get_datasets_base_path(), \"oracle.Run1_framed_2000Examples_stratified_ds.2022A.pkl\"),\n",
    "        \"source_or_target_dataset\": \"source\",\n",
    "        \"x_transforms\": [\"unit_mag\", \"minus_two\"],\n",
    "        \"episode_transforms\": [],\n",
    "        \"domain_prefix\": \"ORACLE_\"\n",
    "    },\n",
    "    {\n",
    "        \"labels\": ALL_NODES,\n",
    "        \"domains\": ALL_DAYS,\n",
    "        \"num_examples_per_domain_per_label\": 100,\n",
    "        \"pickle_path\": os.path.join(get_datasets_base_path(), \"cores.stratified_ds.2022A.pkl\"),\n",
    "        \"source_or_target_dataset\": \"target\",\n",
    "        \"x_transforms\": [\"unit_power\", \"times_zero\"],\n",
    "        \"episode_transforms\": [],\n",
    "        \"domain_prefix\": \"CORES_\"\n",
    "    }   \n",
    "]\n",
    "\n",
    "standalone_parameters[\"torch_default_dtype\"] = \"torch.float32\" \n",
    "\n",
    "\n",
    "\n",
    "standalone_parameters[\"x_net\"] =     [\n",
    "    {\"class\": \"nnReshape\", \"kargs\": {\"shape\":[-1, 1, 2, 256]}},\n",
    "    {\"class\": \"Conv2d\", \"kargs\": { \"in_channels\":1, \"out_channels\":256, \"kernel_size\":(1,7), \"bias\":False, \"padding\":(0,3), },},\n",
    "    {\"class\": \"ReLU\", \"kargs\": {\"inplace\": True}},\n",
    "    {\"class\": \"BatchNorm2d\", \"kargs\": {\"num_features\":256}},\n",
    "\n",
    "    {\"class\": \"Conv2d\", \"kargs\": { \"in_channels\":256, \"out_channels\":80, \"kernel_size\":(2,7), \"bias\":True, \"padding\":(0,3), },},\n",
    "    {\"class\": \"ReLU\", \"kargs\": {\"inplace\": True}},\n",
    "    {\"class\": \"BatchNorm2d\", \"kargs\": {\"num_features\":80}},\n",
    "    {\"class\": \"Flatten\", \"kargs\": {}},\n",
    "\n",
    "    {\"class\": \"Linear\", \"kargs\": {\"in_features\": 80*256, \"out_features\": 256}}, # 80 units per IQ pair\n",
    "    {\"class\": \"ReLU\", \"kargs\": {\"inplace\": True}},\n",
    "    {\"class\": \"BatchNorm1d\", \"kargs\": {\"num_features\":256}},\n",
    "\n",
    "    {\"class\": \"Linear\", \"kargs\": {\"in_features\": 256, \"out_features\": 256}},\n",
    "]\n",
    "\n",
    "# Parameters relevant to results\n",
    "# These parameters will basically never need to change\n",
    "standalone_parameters[\"NUM_LOGS_PER_EPOCH\"] = 10\n",
    "standalone_parameters[\"BEST_MODEL_PATH\"] = \"./best_model.pth\"\n",
    "\n",
    "\n",
    "\n",
    "\n"
   ]
  },
  {
   "cell_type": "code",
   "execution_count": 4,
   "id": "5584e561",
   "metadata": {
    "execution": {
     "iopub.execute_input": "2022-03-21T03:43:04.974485Z",
     "iopub.status.busy": "2022-03-21T03:43:04.973522Z",
     "iopub.status.idle": "2022-03-21T03:43:04.996565Z",
     "shell.execute_reply": "2022-03-21T03:43:04.995838Z"
    },
    "papermill": {
     "duration": 0.057935,
     "end_time": "2022-03-21T03:43:04.996739",
     "exception": false,
     "start_time": "2022-03-21T03:43:04.938804",
     "status": "completed"
    },
    "tags": [
     "injected-parameters"
    ]
   },
   "outputs": [],
   "source": [
    "# Parameters\n",
    "parameters = {\n",
    "    \"experiment_name\": \"tl_1v2:cores-oracle.run1.framed\",\n",
    "    \"device\": \"cuda\",\n",
    "    \"lr\": 0.0001,\n",
    "    \"n_shot\": 3,\n",
    "    \"n_query\": 2,\n",
    "    \"train_k_factor\": 3,\n",
    "    \"val_k_factor\": 2,\n",
    "    \"test_k_factor\": 2,\n",
    "    \"torch_default_dtype\": \"torch.float32\",\n",
    "    \"n_epoch\": 50,\n",
    "    \"patience\": 3,\n",
    "    \"criteria_for_best\": \"target_accuracy\",\n",
    "    \"x_net\": [\n",
    "        {\"class\": \"nnReshape\", \"kargs\": {\"shape\": [-1, 1, 2, 256]}},\n",
    "        {\n",
    "            \"class\": \"Conv2d\",\n",
    "            \"kargs\": {\n",
    "                \"in_channels\": 1,\n",
    "                \"out_channels\": 256,\n",
    "                \"kernel_size\": [1, 7],\n",
    "                \"bias\": False,\n",
    "                \"padding\": [0, 3],\n",
    "            },\n",
    "        },\n",
    "        {\"class\": \"ReLU\", \"kargs\": {\"inplace\": True}},\n",
    "        {\"class\": \"BatchNorm2d\", \"kargs\": {\"num_features\": 256}},\n",
    "        {\n",
    "            \"class\": \"Conv2d\",\n",
    "            \"kargs\": {\n",
    "                \"in_channels\": 256,\n",
    "                \"out_channels\": 80,\n",
    "                \"kernel_size\": [2, 7],\n",
    "                \"bias\": True,\n",
    "                \"padding\": [0, 3],\n",
    "            },\n",
    "        },\n",
    "        {\"class\": \"ReLU\", \"kargs\": {\"inplace\": True}},\n",
    "        {\"class\": \"BatchNorm2d\", \"kargs\": {\"num_features\": 80}},\n",
    "        {\"class\": \"Flatten\", \"kargs\": {}},\n",
    "        {\"class\": \"Linear\", \"kargs\": {\"in_features\": 20480, \"out_features\": 256}},\n",
    "        {\"class\": \"ReLU\", \"kargs\": {\"inplace\": True}},\n",
    "        {\"class\": \"BatchNorm1d\", \"kargs\": {\"num_features\": 256}},\n",
    "        {\"class\": \"Linear\", \"kargs\": {\"in_features\": 256, \"out_features\": 256}},\n",
    "    ],\n",
    "    \"NUM_LOGS_PER_EPOCH\": 10,\n",
    "    \"BEST_MODEL_PATH\": \"./best_model.pth\",\n",
    "    \"n_way\": 16,\n",
    "    \"datasets\": [\n",
    "        {\n",
    "            \"labels\": [\n",
    "                \"1-10.\",\n",
    "                \"1-11.\",\n",
    "                \"1-15.\",\n",
    "                \"1-16.\",\n",
    "                \"1-17.\",\n",
    "                \"1-18.\",\n",
    "                \"1-19.\",\n",
    "                \"10-4.\",\n",
    "                \"10-7.\",\n",
    "                \"11-1.\",\n",
    "                \"11-14.\",\n",
    "                \"11-17.\",\n",
    "                \"11-20.\",\n",
    "                \"11-7.\",\n",
    "                \"13-20.\",\n",
    "                \"13-8.\",\n",
    "                \"14-10.\",\n",
    "                \"14-11.\",\n",
    "                \"14-14.\",\n",
    "                \"14-7.\",\n",
    "                \"15-1.\",\n",
    "                \"15-20.\",\n",
    "                \"16-1.\",\n",
    "                \"16-16.\",\n",
    "                \"17-10.\",\n",
    "                \"17-11.\",\n",
    "                \"17-2.\",\n",
    "                \"19-1.\",\n",
    "                \"19-16.\",\n",
    "                \"19-19.\",\n",
    "                \"19-20.\",\n",
    "                \"19-3.\",\n",
    "                \"2-10.\",\n",
    "                \"2-11.\",\n",
    "                \"2-17.\",\n",
    "                \"2-18.\",\n",
    "                \"2-20.\",\n",
    "                \"2-3.\",\n",
    "                \"2-4.\",\n",
    "                \"2-5.\",\n",
    "                \"2-6.\",\n",
    "                \"2-7.\",\n",
    "                \"2-8.\",\n",
    "                \"3-13.\",\n",
    "                \"3-18.\",\n",
    "                \"3-3.\",\n",
    "                \"4-1.\",\n",
    "                \"4-10.\",\n",
    "                \"4-11.\",\n",
    "                \"4-19.\",\n",
    "                \"5-5.\",\n",
    "                \"6-15.\",\n",
    "                \"7-10.\",\n",
    "                \"7-14.\",\n",
    "                \"8-18.\",\n",
    "                \"8-20.\",\n",
    "                \"8-3.\",\n",
    "                \"8-8.\",\n",
    "            ],\n",
    "            \"domains\": [1, 2, 3, 4, 5],\n",
    "            \"num_examples_per_domain_per_label\": -1,\n",
    "            \"pickle_path\": \"/root/csc500-main/datasets/cores.stratified_ds.2022A.pkl\",\n",
    "            \"source_or_target_dataset\": \"target\",\n",
    "            \"x_transforms\": [\"unit_power\"],\n",
    "            \"episode_transforms\": [],\n",
    "            \"domain_prefix\": \"CORES_\",\n",
    "        },\n",
    "        {\n",
    "            \"labels\": [\n",
    "                \"3123D52\",\n",
    "                \"3123D65\",\n",
    "                \"3123D79\",\n",
    "                \"3123D80\",\n",
    "                \"3123D54\",\n",
    "                \"3123D70\",\n",
    "                \"3123D7B\",\n",
    "                \"3123D89\",\n",
    "                \"3123D58\",\n",
    "                \"3123D76\",\n",
    "                \"3123D7D\",\n",
    "                \"3123EFE\",\n",
    "                \"3123D64\",\n",
    "                \"3123D78\",\n",
    "                \"3123D7E\",\n",
    "                \"3124E4A\",\n",
    "            ],\n",
    "            \"domains\": [32, 38, 8, 44, 14, 50, 20, 26],\n",
    "            \"num_examples_per_domain_per_label\": 2000,\n",
    "            \"pickle_path\": \"/root/csc500-main/datasets/oracle.Run1_framed_2000Examples_stratified_ds.2022A.pkl\",\n",
    "            \"source_or_target_dataset\": \"source\",\n",
    "            \"x_transforms\": [\"unit_power\"],\n",
    "            \"episode_transforms\": [],\n",
    "            \"domain_prefix\": \"ORACLE.run1_\",\n",
    "        },\n",
    "    ],\n",
    "    \"dataset_seed\": 1337,\n",
    "    \"seed\": 1337,\n",
    "}\n"
   ]
  },
  {
   "cell_type": "code",
   "execution_count": 5,
   "id": "8fa1cc33",
   "metadata": {
    "execution": {
     "iopub.execute_input": "2022-03-21T03:43:05.063106Z",
     "iopub.status.busy": "2022-03-21T03:43:05.062717Z",
     "iopub.status.idle": "2022-03-21T03:43:05.089265Z",
     "shell.execute_reply": "2022-03-21T03:43:05.088518Z"
    },
    "papermill": {
     "duration": 0.055318,
     "end_time": "2022-03-21T03:43:05.089433",
     "exception": false,
     "start_time": "2022-03-21T03:43:05.034115",
     "status": "completed"
    },
    "tags": []
   },
   "outputs": [],
   "source": [
    "# Set this to True if you want to run this template directly\n",
    "STANDALONE = False\n",
    "if STANDALONE:\n",
    "    print(\"parameters not injected, running with standalone_parameters\")\n",
    "    parameters = standalone_parameters\n",
    "\n",
    "if not 'parameters' in locals() and not 'parameters' in globals():\n",
    "    raise Exception(\"Parameter injection failed\")\n",
    "\n",
    "#Use an easy dict for all the parameters\n",
    "p = EasyDict(parameters)\n",
    "\n",
    "if \"x_shape\" not in p:\n",
    "    p.x_shape = [2,256] # Default to this if we dont supply x_shape\n",
    "\n",
    "\n",
    "supplied_keys = set(p.keys())\n",
    "\n",
    "if  supplied_keys != required_parameters:\n",
    "    print(\"Parameters are incorrect\")\n",
    "    if len(supplied_keys - required_parameters)>0: print(\"Shouldn't have:\", str(supplied_keys - required_parameters))\n",
    "    if len(required_parameters - supplied_keys)>0: print(\"Need to have:\", str(required_parameters - supplied_keys))\n",
    "    raise RuntimeError(\"Parameters are incorrect\")"
   ]
  },
  {
   "cell_type": "code",
   "execution_count": 6,
   "id": "3a028d58",
   "metadata": {
    "execution": {
     "iopub.execute_input": "2022-03-21T03:43:05.139548Z",
     "iopub.status.busy": "2022-03-21T03:43:05.137847Z",
     "iopub.status.idle": "2022-03-21T03:43:05.161790Z",
     "shell.execute_reply": "2022-03-21T03:43:05.161045Z"
    },
    "papermill": {
     "duration": 0.047068,
     "end_time": "2022-03-21T03:43:05.161947",
     "exception": false,
     "start_time": "2022-03-21T03:43:05.114879",
     "status": "completed"
    },
    "tags": []
   },
   "outputs": [],
   "source": [
    "###################################\n",
    "# Set the RNGs and make it all deterministic\n",
    "###################################\n",
    "np.random.seed(p.seed)\n",
    "random.seed(p.seed)\n",
    "torch.manual_seed(p.seed)\n",
    "\n",
    "torch.use_deterministic_algorithms(True) "
   ]
  },
  {
   "cell_type": "code",
   "execution_count": 7,
   "id": "b691acf6",
   "metadata": {
    "execution": {
     "iopub.execute_input": "2022-03-21T03:43:05.211792Z",
     "iopub.status.busy": "2022-03-21T03:43:05.211361Z",
     "iopub.status.idle": "2022-03-21T03:43:05.237512Z",
     "shell.execute_reply": "2022-03-21T03:43:05.236687Z"
    },
    "papermill": {
     "duration": 0.050159,
     "end_time": "2022-03-21T03:43:05.237675",
     "exception": false,
     "start_time": "2022-03-21T03:43:05.187516",
     "status": "completed"
    },
    "tags": []
   },
   "outputs": [],
   "source": [
    "###########################################\n",
    "# The stratified datasets honor this\n",
    "###########################################\n",
    "torch.set_default_dtype(eval(p.torch_default_dtype))"
   ]
  },
  {
   "cell_type": "code",
   "execution_count": 8,
   "id": "b5fba671",
   "metadata": {
    "execution": {
     "iopub.execute_input": "2022-03-21T03:43:05.287626Z",
     "iopub.status.busy": "2022-03-21T03:43:05.287218Z",
     "iopub.status.idle": "2022-03-21T03:43:05.346487Z",
     "shell.execute_reply": "2022-03-21T03:43:05.345661Z"
    },
    "papermill": {
     "duration": 0.082793,
     "end_time": "2022-03-21T03:43:05.346655",
     "exception": false,
     "start_time": "2022-03-21T03:43:05.263862",
     "status": "completed"
    },
    "tags": []
   },
   "outputs": [],
   "source": [
    "###################################\n",
    "# Build the network(s)\n",
    "# Note: It's critical to do this AFTER setting the RNG\n",
    "###################################\n",
    "x_net = build_sequential(p.x_net)"
   ]
  },
  {
   "cell_type": "code",
   "execution_count": 9,
   "id": "5d7e61cc",
   "metadata": {
    "execution": {
     "iopub.execute_input": "2022-03-21T03:43:05.395430Z",
     "iopub.status.busy": "2022-03-21T03:43:05.395068Z",
     "iopub.status.idle": "2022-03-21T03:43:05.416596Z",
     "shell.execute_reply": "2022-03-21T03:43:05.417296Z"
    },
    "papermill": {
     "duration": 0.044566,
     "end_time": "2022-03-21T03:43:05.417493",
     "exception": false,
     "start_time": "2022-03-21T03:43:05.372927",
     "status": "completed"
    },
    "tags": []
   },
   "outputs": [],
   "source": [
    "start_time_secs = time.time()"
   ]
  },
  {
   "cell_type": "code",
   "execution_count": 10,
   "id": "c6b67dfd",
   "metadata": {
    "execution": {
     "iopub.execute_input": "2022-03-21T03:43:05.468225Z",
     "iopub.status.busy": "2022-03-21T03:43:05.467858Z",
     "iopub.status.idle": "2022-03-21T03:43:05.492196Z",
     "shell.execute_reply": "2022-03-21T03:43:05.491355Z"
    },
    "papermill": {
     "duration": 0.049047,
     "end_time": "2022-03-21T03:43:05.492353",
     "exception": false,
     "start_time": "2022-03-21T03:43:05.443306",
     "status": "completed"
    },
    "tags": []
   },
   "outputs": [],
   "source": [
    "p.domains_source = []\n",
    "p.domains_target = []\n",
    "\n",
    "\n",
    "train_original_source = []\n",
    "val_original_source   = []\n",
    "test_original_source  = []\n",
    "\n",
    "train_original_target = []\n",
    "val_original_target   = []\n",
    "test_original_target  = []"
   ]
  },
  {
   "cell_type": "code",
   "execution_count": 11,
   "id": "e3d9c3d3",
   "metadata": {
    "execution": {
     "iopub.execute_input": "2022-03-21T03:43:05.542312Z",
     "iopub.status.busy": "2022-03-21T03:43:05.541489Z",
     "iopub.status.idle": "2022-03-21T03:43:05.564811Z",
     "shell.execute_reply": "2022-03-21T03:43:05.564005Z"
    },
    "papermill": {
     "duration": 0.045691,
     "end_time": "2022-03-21T03:43:05.564966",
     "exception": false,
     "start_time": "2022-03-21T03:43:05.519275",
     "status": "completed"
    },
    "tags": []
   },
   "outputs": [],
   "source": [
    "# global_x_transform_func = lambda x: normalize(x.to(torch.get_default_dtype()), \"unit_power\") # unit_power, unit_mag\n",
    "# global_x_transform_func = lambda x: normalize(x, \"unit_power\") # unit_power, unit_mag"
   ]
  },
  {
   "cell_type": "code",
   "execution_count": 12,
   "id": "acb78fd2",
   "metadata": {
    "execution": {
     "iopub.execute_input": "2022-03-21T03:43:05.617475Z",
     "iopub.status.busy": "2022-03-21T03:43:05.617096Z",
     "iopub.status.idle": "2022-03-21T03:43:05.639851Z",
     "shell.execute_reply": "2022-03-21T03:43:05.639013Z"
    },
    "papermill": {
     "duration": 0.049086,
     "end_time": "2022-03-21T03:43:05.640006",
     "exception": false,
     "start_time": "2022-03-21T03:43:05.590920",
     "status": "completed"
    },
    "tags": []
   },
   "outputs": [],
   "source": [
    "def add_dataset(\n",
    "    labels,\n",
    "    domains,\n",
    "    pickle_path,\n",
    "    x_transforms,\n",
    "    episode_transforms,\n",
    "    domain_prefix,\n",
    "    num_examples_per_domain_per_label,\n",
    "    source_or_target_dataset:str,\n",
    "    iterator_seed=p.seed,\n",
    "    dataset_seed=p.dataset_seed,\n",
    "    n_shot=p.n_shot,\n",
    "    n_way=p.n_way,\n",
    "    n_query=p.n_query,\n",
    "    train_val_test_k_factors=(p.train_k_factor,p.val_k_factor,p.test_k_factor),\n",
    "):\n",
    "   \n",
    "    if x_transforms == []: x_transform = None\n",
    "    else: x_transform = get_chained_transform(x_transforms)\n",
    "    \n",
    "    if episode_transforms == []: episode_transform = None\n",
    "    else: raise Exception(\"episode_transforms not implemented\")\n",
    "    \n",
    "    episode_transform = lambda tup, _prefix=domain_prefix: (_prefix + str(tup[0]), tup[1])\n",
    "\n",
    "\n",
    "    eaf = Episodic_Accessor_Factory(\n",
    "        labels=labels,\n",
    "        domains=domains,\n",
    "        num_examples_per_domain_per_label=num_examples_per_domain_per_label,\n",
    "        iterator_seed=iterator_seed,\n",
    "        dataset_seed=dataset_seed,\n",
    "        n_shot=n_shot,\n",
    "        n_way=n_way,\n",
    "        n_query=n_query,\n",
    "        train_val_test_k_factors=train_val_test_k_factors,\n",
    "        pickle_path=pickle_path,\n",
    "        x_transform_func=x_transform,\n",
    "    )\n",
    "\n",
    "    train, val, test = eaf.get_train(), eaf.get_val(), eaf.get_test()\n",
    "    train = Lazy_Iterable_Wrapper(train, episode_transform)\n",
    "    val = Lazy_Iterable_Wrapper(val, episode_transform)\n",
    "    test = Lazy_Iterable_Wrapper(test, episode_transform)\n",
    "\n",
    "    if source_or_target_dataset==\"source\":\n",
    "        train_original_source.append(train)\n",
    "        val_original_source.append(val)\n",
    "        test_original_source.append(test)\n",
    "\n",
    "        p.domains_source.extend(\n",
    "            [domain_prefix + str(u) for u in domains]\n",
    "        )\n",
    "    elif source_or_target_dataset==\"target\":\n",
    "        train_original_target.append(train)\n",
    "        val_original_target.append(val)\n",
    "        test_original_target.append(test)\n",
    "        p.domains_target.extend(\n",
    "            [domain_prefix + str(u) for u in domains]\n",
    "        )\n",
    "    else:\n",
    "        raise Exception(f\"invalid source_or_target_dataset: {source_or_target_dataset}\")\n",
    "    "
   ]
  },
  {
   "cell_type": "code",
   "execution_count": 13,
   "id": "fe266617",
   "metadata": {
    "execution": {
     "iopub.execute_input": "2022-03-21T03:43:05.689291Z",
     "iopub.status.busy": "2022-03-21T03:43:05.688458Z",
     "iopub.status.idle": "2022-03-21T03:43:47.884206Z",
     "shell.execute_reply": "2022-03-21T03:43:47.883496Z"
    },
    "papermill": {
     "duration": 42.219247,
     "end_time": "2022-03-21T03:43:47.884392",
     "exception": false,
     "start_time": "2022-03-21T03:43:05.665145",
     "status": "completed"
    },
    "tags": []
   },
   "outputs": [],
   "source": [
    "for ds in p.datasets:\n",
    "    add_dataset(**ds)"
   ]
  },
  {
   "cell_type": "code",
   "execution_count": 14,
   "id": "b90d65ac",
   "metadata": {
    "execution": {
     "iopub.execute_input": "2022-03-21T03:43:47.934156Z",
     "iopub.status.busy": "2022-03-21T03:43:47.933514Z",
     "iopub.status.idle": "2022-03-21T03:43:47.955481Z",
     "shell.execute_reply": "2022-03-21T03:43:47.956186Z"
    },
    "papermill": {
     "duration": 0.046836,
     "end_time": "2022-03-21T03:43:47.956379",
     "exception": false,
     "start_time": "2022-03-21T03:43:47.909543",
     "status": "completed"
    },
    "tags": []
   },
   "outputs": [],
   "source": [
    "# from steves_utils.CORES.utils import (\n",
    "#     ALL_NODES,\n",
    "#     ALL_NODES_MINIMUM_1000_EXAMPLES,\n",
    "#     ALL_DAYS\n",
    "# )\n",
    "\n",
    "# add_dataset(\n",
    "#     labels=ALL_NODES,\n",
    "#     domains = ALL_DAYS,\n",
    "#     num_examples_per_domain_per_label=100,\n",
    "#     pickle_path=os.path.join(get_datasets_base_path(), \"cores.stratified_ds.2022A.pkl\"),\n",
    "#     source_or_target_dataset=\"target\",\n",
    "#     x_transform_func=global_x_transform_func,\n",
    "#     domain_modifier=lambda u: f\"cores_{u}\"\n",
    "# )"
   ]
  },
  {
   "cell_type": "code",
   "execution_count": 15,
   "id": "76db484d",
   "metadata": {
    "execution": {
     "iopub.execute_input": "2022-03-21T03:43:48.008005Z",
     "iopub.status.busy": "2022-03-21T03:43:48.006928Z",
     "iopub.status.idle": "2022-03-21T03:43:48.029030Z",
     "shell.execute_reply": "2022-03-21T03:43:48.028327Z"
    },
    "papermill": {
     "duration": 0.046027,
     "end_time": "2022-03-21T03:43:48.029186",
     "exception": false,
     "start_time": "2022-03-21T03:43:47.983159",
     "status": "completed"
    },
    "tags": []
   },
   "outputs": [],
   "source": [
    "# from steves_utils.ORACLE.utils_v2 import (\n",
    "#     ALL_DISTANCES_FEET,\n",
    "#     ALL_RUNS,\n",
    "#     ALL_SERIAL_NUMBERS,\n",
    "# )\n",
    "\n",
    "\n",
    "# add_dataset(\n",
    "#     labels=ALL_SERIAL_NUMBERS,\n",
    "#     domains = list(set(ALL_DISTANCES_FEET) - {2,62}),\n",
    "#     num_examples_per_domain_per_label=100,\n",
    "#     pickle_path=os.path.join(get_datasets_base_path(), \"oracle.Run2_framed_2000Examples_stratified_ds.2022A.pkl\"),\n",
    "#     source_or_target_dataset=\"source\",\n",
    "#     x_transform_func=global_x_transform_func,\n",
    "#     domain_modifier=lambda u: f\"oracle1_{u}\"\n",
    "# )\n"
   ]
  },
  {
   "cell_type": "code",
   "execution_count": 16,
   "id": "97dea9d2",
   "metadata": {
    "execution": {
     "iopub.execute_input": "2022-03-21T03:43:48.082886Z",
     "iopub.status.busy": "2022-03-21T03:43:48.082505Z",
     "iopub.status.idle": "2022-03-21T03:43:48.106232Z",
     "shell.execute_reply": "2022-03-21T03:43:48.105439Z"
    },
    "papermill": {
     "duration": 0.048473,
     "end_time": "2022-03-21T03:43:48.106388",
     "exception": false,
     "start_time": "2022-03-21T03:43:48.057915",
     "status": "completed"
    },
    "tags": []
   },
   "outputs": [],
   "source": [
    "# from steves_utils.ORACLE.utils_v2 import (\n",
    "#     ALL_DISTANCES_FEET,\n",
    "#     ALL_RUNS,\n",
    "#     ALL_SERIAL_NUMBERS,\n",
    "# )\n",
    "\n",
    "\n",
    "# add_dataset(\n",
    "#     labels=ALL_SERIAL_NUMBERS,\n",
    "#     domains = list(set(ALL_DISTANCES_FEET) - {2,62,56}),\n",
    "#     num_examples_per_domain_per_label=100,\n",
    "#     pickle_path=os.path.join(get_datasets_base_path(), \"oracle.Run2_framed_2000Examples_stratified_ds.2022A.pkl\"),\n",
    "#     source_or_target_dataset=\"source\",\n",
    "#     x_transform_func=global_x_transform_func,\n",
    "#     domain_modifier=lambda u: f\"oracle2_{u}\"\n",
    "# )"
   ]
  },
  {
   "cell_type": "code",
   "execution_count": 17,
   "id": "6f289866",
   "metadata": {
    "execution": {
     "iopub.execute_input": "2022-03-21T03:43:48.156411Z",
     "iopub.status.busy": "2022-03-21T03:43:48.155782Z",
     "iopub.status.idle": "2022-03-21T03:43:48.174208Z",
     "shell.execute_reply": "2022-03-21T03:43:48.173516Z"
    },
    "papermill": {
     "duration": 0.041932,
     "end_time": "2022-03-21T03:43:48.174364",
     "exception": false,
     "start_time": "2022-03-21T03:43:48.132432",
     "status": "completed"
    },
    "tags": []
   },
   "outputs": [],
   "source": [
    "# add_dataset(\n",
    "#     labels=list(range(19)),\n",
    "#     domains = [0,1,2],\n",
    "#     num_examples_per_domain_per_label=100,\n",
    "#     pickle_path=os.path.join(get_datasets_base_path(), \"metehan.stratified_ds.2022A.pkl\"),\n",
    "#     source_or_target_dataset=\"target\",\n",
    "#     x_transform_func=global_x_transform_func,\n",
    "#     domain_modifier=lambda u: f\"met_{u}\"\n",
    "# )"
   ]
  },
  {
   "cell_type": "code",
   "execution_count": 18,
   "id": "86a863c3",
   "metadata": {
    "execution": {
     "iopub.execute_input": "2022-03-21T03:43:48.224719Z",
     "iopub.status.busy": "2022-03-21T03:43:48.224348Z",
     "iopub.status.idle": "2022-03-21T03:43:48.243579Z",
     "shell.execute_reply": "2022-03-21T03:43:48.242872Z"
    },
    "papermill": {
     "duration": 0.042766,
     "end_time": "2022-03-21T03:43:48.243735",
     "exception": false,
     "start_time": "2022-03-21T03:43:48.200969",
     "status": "completed"
    },
    "tags": []
   },
   "outputs": [],
   "source": [
    "# # from steves_utils.wisig.utils import (\n",
    "# #     ALL_NODES_MINIMUM_100_EXAMPLES,\n",
    "# #     ALL_NODES_MINIMUM_500_EXAMPLES,\n",
    "# #     ALL_NODES_MINIMUM_1000_EXAMPLES,\n",
    "# #     ALL_DAYS\n",
    "# # )\n",
    "\n",
    "# import steves_utils.wisig.utils as wisig\n",
    "\n",
    "\n",
    "# add_dataset(\n",
    "#     labels=wisig.ALL_NODES_MINIMUM_100_EXAMPLES,\n",
    "#     domains = wisig.ALL_DAYS,\n",
    "#     num_examples_per_domain_per_label=100,\n",
    "#     pickle_path=os.path.join(get_datasets_base_path(), \"wisig.node3-19.stratified_ds.2022A.pkl\"),\n",
    "#     source_or_target_dataset=\"target\",\n",
    "#     x_transform_func=global_x_transform_func,\n",
    "#     domain_modifier=lambda u: f\"wisig_{u}\"\n",
    "# )"
   ]
  },
  {
   "cell_type": "code",
   "execution_count": 19,
   "id": "fd5442bc",
   "metadata": {
    "execution": {
     "iopub.execute_input": "2022-03-21T03:43:48.303341Z",
     "iopub.status.busy": "2022-03-21T03:43:48.302957Z",
     "iopub.status.idle": "2022-03-21T03:43:48.323882Z",
     "shell.execute_reply": "2022-03-21T03:43:48.323150Z"
    },
    "papermill": {
     "duration": 0.050632,
     "end_time": "2022-03-21T03:43:48.324042",
     "exception": false,
     "start_time": "2022-03-21T03:43:48.273410",
     "status": "completed"
    },
    "tags": []
   },
   "outputs": [],
   "source": [
    "###################################\n",
    "# Build the dataset\n",
    "###################################\n",
    "train_original_source = Iterable_Aggregator(train_original_source, p.seed)\n",
    "val_original_source = Iterable_Aggregator(val_original_source, p.seed)\n",
    "test_original_source = Iterable_Aggregator(test_original_source, p.seed)\n",
    "\n",
    "\n",
    "train_original_target = Iterable_Aggregator(train_original_target, p.seed)\n",
    "val_original_target = Iterable_Aggregator(val_original_target, p.seed)\n",
    "test_original_target = Iterable_Aggregator(test_original_target, p.seed)\n",
    "\n",
    "# For CNN We only use X and Y. And we only train on the source.\n",
    "# Properly form the data using a transform lambda and Lazy_Iterable_Wrapper. Finally wrap them in a dataloader\n",
    "\n",
    "transform_lambda = lambda ex: ex[1] # Original is (<domain>, <episode>) so we strip down to episode only\n",
    "\n",
    "train_processed_source = Lazy_Iterable_Wrapper(train_original_source, transform_lambda)\n",
    "val_processed_source   = Lazy_Iterable_Wrapper(val_original_source, transform_lambda)\n",
    "test_processed_source  = Lazy_Iterable_Wrapper(test_original_source, transform_lambda)\n",
    "\n",
    "train_processed_target = Lazy_Iterable_Wrapper(train_original_target, transform_lambda)\n",
    "val_processed_target   = Lazy_Iterable_Wrapper(val_original_target, transform_lambda)\n",
    "test_processed_target  = Lazy_Iterable_Wrapper(test_original_target, transform_lambda)\n",
    "\n",
    "datasets = EasyDict({\n",
    "    \"source\": {\n",
    "        \"original\": {\"train\":train_original_source, \"val\":val_original_source, \"test\":test_original_source},\n",
    "        \"processed\": {\"train\":train_processed_source, \"val\":val_processed_source, \"test\":test_processed_source}\n",
    "    },\n",
    "    \"target\": {\n",
    "        \"original\": {\"train\":train_original_target, \"val\":val_original_target, \"test\":test_original_target},\n",
    "        \"processed\": {\"train\":train_processed_target, \"val\":val_processed_target, \"test\":test_processed_target}\n",
    "    },\n",
    "})"
   ]
  },
  {
   "cell_type": "code",
   "execution_count": 20,
   "id": "5b3c01fc",
   "metadata": {
    "execution": {
     "iopub.execute_input": "2022-03-21T03:43:48.376253Z",
     "iopub.status.busy": "2022-03-21T03:43:48.375885Z",
     "iopub.status.idle": "2022-03-21T03:44:03.756638Z",
     "shell.execute_reply": "2022-03-21T03:44:03.757342Z"
    },
    "papermill": {
     "duration": 15.405881,
     "end_time": "2022-03-21T03:44:03.757551",
     "exception": false,
     "start_time": "2022-03-21T03:43:48.351670",
     "status": "completed"
    },
    "tags": []
   },
   "outputs": [
    {
     "name": "stdout",
     "output_type": "stream",
     "text": [
      "{'ORACLE.run1_50', 'ORACLE.run1_38', 'ORACLE.run1_26', 'ORACLE.run1_8', 'ORACLE.run1_14', 'ORACLE.run1_20', 'ORACLE.run1_32', 'ORACLE.run1_44'}\n"
     ]
    },
    {
     "name": "stdout",
     "output_type": "stream",
     "text": [
      "{'CORES_3', 'CORES_1', 'CORES_2', 'CORES_5', 'CORES_4'}\n"
     ]
    },
    {
     "name": "stdout",
     "output_type": "stream",
     "text": [
      "tensor([[[-0.0924,  1.1552, -0.1109,  ..., -0.9518, -0.2588, -0.5545],\n",
      "         [-0.6376, -0.2957,  1.0535,  ...,  0.2403, -1.4139, -0.4713]],\n",
      "\n",
      "        [[-0.4449,  0.6767,  0.5469,  ..., -1.2421, -1.1679, -0.1112],\n",
      "         [-1.1216, -0.3152,  1.1030,  ...,  0.4078, -0.1483,  1.2050]],\n",
      "\n",
      "        [[ 0.6507, -0.3532, -0.7623,  ...,  0.7901,  1.3665,  0.3254],\n",
      "         [ 0.8273,  0.6786, -0.8831,  ..., -0.7530,  0.4648, -1.1527]],\n",
      "\n",
      "        ...,\n",
      "\n",
      "        [[ 0.9828, -0.2394, -1.1718,  ...,  0.6363,  0.9828, -0.6489],\n",
      "         [ 0.5544,  0.7119, -0.3717,  ..., -0.9702, -0.6111, -1.1214]],\n",
      "\n",
      "        [[ 0.0252, -0.9847,  0.2840,  ...,  0.8963,  0.4671,  1.0667],\n",
      "         [ 0.7890,  0.4229, -1.1298,  ..., -0.1199,  1.2624, -0.2272]],\n",
      "\n",
      "        [[ 0.4796,  0.3281, -0.7194,  ..., -0.4544,  1.2306,  1.0223],\n",
      "         [-0.4102,  1.1043, -0.0316,  ..., -1.0728, -0.0568, -0.2461]]])\n"
     ]
    }
   ],
   "source": [
    "from steves_utils.transforms import get_average_magnitude, get_average_power\n",
    "\n",
    "print(set([u for u,_ in val_original_source]))\n",
    "print(set([u for u,_ in val_original_target]))\n",
    "\n",
    "s_x, s_y, q_x, q_y, _ = next(iter(train_processed_source))\n",
    "print(s_x)\n",
    "\n",
    "# for ds in [\n",
    "#     train_processed_source,\n",
    "#     val_processed_source,\n",
    "#     test_processed_source,\n",
    "#     train_processed_target,\n",
    "#     val_processed_target,\n",
    "#     test_processed_target\n",
    "# ]:\n",
    "#     for s_x, s_y, q_x, q_y, _ in ds:\n",
    "#         for X in (s_x, q_x):\n",
    "#             for x in X:\n",
    "#                 assert np.isclose(get_average_magnitude(x.numpy()), 1.0)\n",
    "#                 assert np.isclose(get_average_power(x.numpy()), 1.0)\n",
    "                "
   ]
  },
  {
   "cell_type": "code",
   "execution_count": 21,
   "id": "bbdacba1",
   "metadata": {
    "execution": {
     "iopub.execute_input": "2022-03-21T03:44:03.815304Z",
     "iopub.status.busy": "2022-03-21T03:44:03.814931Z",
     "iopub.status.idle": "2022-03-21T03:44:04.034269Z",
     "shell.execute_reply": "2022-03-21T03:44:04.033937Z"
    },
    "papermill": {
     "duration": 0.246546,
     "end_time": "2022-03-21T03:44:04.034352",
     "exception": false,
     "start_time": "2022-03-21T03:44:03.787806",
     "status": "completed"
    },
    "tags": []
   },
   "outputs": [
    {
     "name": "stdout",
     "output_type": "stream",
     "text": [
      "(2, 256)\n"
     ]
    }
   ],
   "source": [
    "###################################\n",
    "# Build the model\n",
    "###################################\n",
    "# easfsl only wants a tuple for the shape\n",
    "model = Steves_Prototypical_Network(x_net, device=p.device, x_shape=tuple(p.x_shape))\n",
    "optimizer = Adam(params=model.parameters(), lr=p.lr)"
   ]
  },
  {
   "cell_type": "code",
   "execution_count": 22,
   "id": "22b39ac5",
   "metadata": {
    "execution": {
     "iopub.execute_input": "2022-03-21T03:44:04.083401Z",
     "iopub.status.busy": "2022-03-21T03:44:04.083033Z",
     "iopub.status.idle": "2022-03-21T04:42:13.743922Z",
     "shell.execute_reply": "2022-03-21T04:42:13.743583Z"
    },
    "papermill": {
     "duration": 3489.687305,
     "end_time": "2022-03-21T04:42:13.744006",
     "exception": false,
     "start_time": "2022-03-21T03:44:04.056701",
     "status": "completed"
    },
    "tags": []
   },
   "outputs": [
    {
     "name": "stdout",
     "output_type": "stream",
     "text": [
      "epoch: 1, [batch: 1 / 6720], examples_per_second: 33.3913, train_label_loss: 2.9737, \n"
     ]
    },
    {
     "name": "stdout",
     "output_type": "stream",
     "text": [
      "epoch: 1, [batch: 672 / 6720], examples_per_second: 2252.6720, train_label_loss: 1.3705, \n"
     ]
    },
    {
     "name": "stdout",
     "output_type": "stream",
     "text": [
      "epoch: 1, [batch: 1344 / 6720], examples_per_second: 2291.2082, train_label_loss: 0.6519, \n"
     ]
    },
    {
     "name": "stdout",
     "output_type": "stream",
     "text": [
      "epoch: 1, [batch: 2016 / 6720], examples_per_second: 2398.3468, train_label_loss: 0.6388, \n"
     ]
    },
    {
     "name": "stdout",
     "output_type": "stream",
     "text": [
      "epoch: 1, [batch: 2688 / 6720], examples_per_second: 2556.6285, train_label_loss: 0.8008, \n"
     ]
    },
    {
     "name": "stdout",
     "output_type": "stream",
     "text": [
      "epoch: 1, [batch: 3360 / 6720], examples_per_second: 2902.1290, train_label_loss: 0.8381, \n"
     ]
    },
    {
     "name": "stdout",
     "output_type": "stream",
     "text": [
      "epoch: 1, [batch: 4032 / 6720], examples_per_second: 3190.0181, train_label_loss: 0.5642, \n"
     ]
    },
    {
     "name": "stdout",
     "output_type": "stream",
     "text": [
      "epoch: 1, [batch: 4704 / 6720], examples_per_second: 3724.6175, train_label_loss: 0.3418, \n"
     ]
    },
    {
     "name": "stdout",
     "output_type": "stream",
     "text": [
      "epoch: 1, [batch: 5376 / 6720], examples_per_second: 3293.4453, train_label_loss: 0.6847, \n"
     ]
    },
    {
     "name": "stdout",
     "output_type": "stream",
     "text": [
      "epoch: 1, [batch: 6048 / 6720], examples_per_second: 3351.7534, train_label_loss: 0.4238, \n"
     ]
    },
    {
     "name": "stdout",
     "output_type": "stream",
     "text": [
      "=============================================================\n",
      "epoch: 1, source_val_acc_label: 0.6687, target_val_acc_label: 0.6013, source_val_label_loss: 31.3708, target_val_label_loss: 144.9434, \n",
      "=============================================================\n"
     ]
    },
    {
     "name": "stdout",
     "output_type": "stream",
     "text": [
      "New best\n"
     ]
    },
    {
     "name": "stdout",
     "output_type": "stream",
     "text": [
      "epoch: 2, [batch: 1 / 6720], examples_per_second: 2.8180, train_label_loss: 24.5370, \n"
     ]
    },
    {
     "name": "stdout",
     "output_type": "stream",
     "text": [
      "epoch: 2, [batch: 672 / 6720], examples_per_second: 2284.8500, train_label_loss: 0.6052, \n"
     ]
    },
    {
     "name": "stdout",
     "output_type": "stream",
     "text": [
      "epoch: 2, [batch: 1344 / 6720], examples_per_second: 2383.3076, train_label_loss: 0.3991, \n"
     ]
    },
    {
     "name": "stdout",
     "output_type": "stream",
     "text": [
      "epoch: 2, [batch: 2016 / 6720], examples_per_second: 2459.1421, train_label_loss: 1.0733, \n"
     ]
    },
    {
     "name": "stdout",
     "output_type": "stream",
     "text": [
      "epoch: 2, [batch: 2688 / 6720], examples_per_second: 2426.8736, train_label_loss: 0.7240, \n"
     ]
    },
    {
     "name": "stdout",
     "output_type": "stream",
     "text": [
      "epoch: 2, [batch: 3360 / 6720], examples_per_second: 2459.1794, train_label_loss: 0.4031, \n"
     ]
    },
    {
     "name": "stdout",
     "output_type": "stream",
     "text": [
      "epoch: 2, [batch: 4032 / 6720], examples_per_second: 2583.3097, train_label_loss: 0.8458, \n"
     ]
    },
    {
     "name": "stdout",
     "output_type": "stream",
     "text": [
      "epoch: 2, [batch: 4704 / 6720], examples_per_second: 2582.4993, train_label_loss: 0.5968, \n"
     ]
    },
    {
     "name": "stdout",
     "output_type": "stream",
     "text": [
      "epoch: 2, [batch: 5376 / 6720], examples_per_second: 2674.0649, train_label_loss: 0.6397, \n"
     ]
    },
    {
     "name": "stdout",
     "output_type": "stream",
     "text": [
      "epoch: 2, [batch: 6048 / 6720], examples_per_second: 2497.6472, train_label_loss: 0.4534, \n"
     ]
    },
    {
     "name": "stdout",
     "output_type": "stream",
     "text": [
      "=============================================================\n",
      "epoch: 2, source_val_acc_label: 0.7992, target_val_acc_label: 0.7044, source_val_label_loss: 0.5489, target_val_label_loss: 28.5218, \n",
      "=============================================================\n"
     ]
    },
    {
     "name": "stdout",
     "output_type": "stream",
     "text": [
      "New best\n"
     ]
    },
    {
     "name": "stdout",
     "output_type": "stream",
     "text": [
      "epoch: 3, [batch: 1 / 6720], examples_per_second: 2.4432, train_label_loss: 0.6888, \n"
     ]
    },
    {
     "name": "stdout",
     "output_type": "stream",
     "text": [
      "epoch: 3, [batch: 672 / 6720], examples_per_second: 2903.7639, train_label_loss: 0.2027, \n"
     ]
    },
    {
     "name": "stdout",
     "output_type": "stream",
     "text": [
      "epoch: 3, [batch: 1344 / 6720], examples_per_second: 2882.3598, train_label_loss: 0.3707, \n"
     ]
    },
    {
     "name": "stdout",
     "output_type": "stream",
     "text": [
      "epoch: 3, [batch: 2016 / 6720], examples_per_second: 3690.1458, train_label_loss: 0.1958, \n"
     ]
    },
    {
     "name": "stdout",
     "output_type": "stream",
     "text": [
      "epoch: 3, [batch: 2688 / 6720], examples_per_second: 2923.0486, train_label_loss: 0.3846, \n"
     ]
    },
    {
     "name": "stdout",
     "output_type": "stream",
     "text": [
      "epoch: 3, [batch: 3360 / 6720], examples_per_second: 2584.6331, train_label_loss: 1.0251, \n"
     ]
    },
    {
     "name": "stdout",
     "output_type": "stream",
     "text": [
      "epoch: 3, [batch: 4032 / 6720], examples_per_second: 2545.2551, train_label_loss: 0.5501, \n"
     ]
    },
    {
     "name": "stdout",
     "output_type": "stream",
     "text": [
      "epoch: 3, [batch: 4704 / 6720], examples_per_second: 2517.5988, train_label_loss: 0.2123, \n"
     ]
    },
    {
     "name": "stdout",
     "output_type": "stream",
     "text": [
      "epoch: 3, [batch: 5376 / 6720], examples_per_second: 2429.4515, train_label_loss: 0.3079, \n"
     ]
    },
    {
     "name": "stdout",
     "output_type": "stream",
     "text": [
      "epoch: 3, [batch: 6048 / 6720], examples_per_second: 2543.5845, train_label_loss: 0.1517, \n"
     ]
    },
    {
     "name": "stdout",
     "output_type": "stream",
     "text": [
      "=============================================================\n",
      "epoch: 3, source_val_acc_label: 0.8458, target_val_acc_label: 0.7172, source_val_label_loss: 0.4280, target_val_label_loss: 60.9854, \n",
      "=============================================================\n"
     ]
    },
    {
     "name": "stdout",
     "output_type": "stream",
     "text": [
      "New best\n"
     ]
    },
    {
     "name": "stdout",
     "output_type": "stream",
     "text": [
      "epoch: 4, [batch: 1 / 6720], examples_per_second: 2.0587, train_label_loss: 0.2347, \n"
     ]
    },
    {
     "name": "stdout",
     "output_type": "stream",
     "text": [
      "epoch: 4, [batch: 672 / 6720], examples_per_second: 2826.4294, train_label_loss: 0.1486, \n"
     ]
    },
    {
     "name": "stdout",
     "output_type": "stream",
     "text": [
      "epoch: 4, [batch: 1344 / 6720], examples_per_second: 2562.6354, train_label_loss: 0.8034, \n"
     ]
    },
    {
     "name": "stdout",
     "output_type": "stream",
     "text": [
      "epoch: 4, [batch: 2016 / 6720], examples_per_second: 2585.7174, train_label_loss: 0.6152, \n"
     ]
    },
    {
     "name": "stdout",
     "output_type": "stream",
     "text": [
      "epoch: 4, [batch: 2688 / 6720], examples_per_second: 2550.0076, train_label_loss: 0.5013, \n"
     ]
    },
    {
     "name": "stdout",
     "output_type": "stream",
     "text": [
      "epoch: 4, [batch: 3360 / 6720], examples_per_second: 2967.4065, train_label_loss: 0.2682, \n"
     ]
    },
    {
     "name": "stdout",
     "output_type": "stream",
     "text": [
      "epoch: 4, [batch: 4032 / 6720], examples_per_second: 3145.5806, train_label_loss: 0.6595, \n"
     ]
    },
    {
     "name": "stdout",
     "output_type": "stream",
     "text": [
      "epoch: 4, [batch: 4704 / 6720], examples_per_second: 3527.0268, train_label_loss: 0.4421, \n"
     ]
    },
    {
     "name": "stdout",
     "output_type": "stream",
     "text": [
      "epoch: 4, [batch: 5376 / 6720], examples_per_second: 2909.9344, train_label_loss: 0.2826, \n"
     ]
    },
    {
     "name": "stdout",
     "output_type": "stream",
     "text": [
      "epoch: 4, [batch: 6048 / 6720], examples_per_second: 2950.5232, train_label_loss: 0.3187, \n"
     ]
    },
    {
     "name": "stdout",
     "output_type": "stream",
     "text": [
      "=============================================================\n",
      "epoch: 4, source_val_acc_label: 0.8498, target_val_acc_label: 0.7022, source_val_label_loss: 0.4146, target_val_label_loss: 73.0365, \n",
      "=============================================================\n"
     ]
    },
    {
     "name": "stdout",
     "output_type": "stream",
     "text": [
      "epoch: 5, [batch: 1 / 6720], examples_per_second: 2.7048, train_label_loss: 0.1345, \n"
     ]
    },
    {
     "name": "stdout",
     "output_type": "stream",
     "text": [
      "epoch: 5, [batch: 672 / 6720], examples_per_second: 2339.9816, train_label_loss: 0.1707, \n"
     ]
    },
    {
     "name": "stdout",
     "output_type": "stream",
     "text": [
      "epoch: 5, [batch: 1344 / 6720], examples_per_second: 2540.0949, train_label_loss: 0.4789, \n"
     ]
    },
    {
     "name": "stdout",
     "output_type": "stream",
     "text": [
      "epoch: 5, [batch: 2016 / 6720], examples_per_second: 2342.5226, train_label_loss: 0.6024, \n"
     ]
    },
    {
     "name": "stdout",
     "output_type": "stream",
     "text": [
      "epoch: 5, [batch: 2688 / 6720], examples_per_second: 2640.6248, train_label_loss: 0.2807, \n"
     ]
    },
    {
     "name": "stdout",
     "output_type": "stream",
     "text": [
      "epoch: 5, [batch: 3360 / 6720], examples_per_second: 2683.1668, train_label_loss: 0.0976, \n"
     ]
    },
    {
     "name": "stdout",
     "output_type": "stream",
     "text": [
      "epoch: 5, [batch: 4032 / 6720], examples_per_second: 3129.9190, train_label_loss: 0.2367, \n"
     ]
    },
    {
     "name": "stdout",
     "output_type": "stream",
     "text": [
      "epoch: 5, [batch: 4704 / 6720], examples_per_second: 3354.9344, train_label_loss: 0.1255, \n"
     ]
    },
    {
     "name": "stdout",
     "output_type": "stream",
     "text": [
      "epoch: 5, [batch: 5376 / 6720], examples_per_second: 3013.4043, train_label_loss: 0.4833, \n"
     ]
    },
    {
     "name": "stdout",
     "output_type": "stream",
     "text": [
      "epoch: 5, [batch: 6048 / 6720], examples_per_second: 3179.1722, train_label_loss: 0.2191, \n"
     ]
    },
    {
     "name": "stdout",
     "output_type": "stream",
     "text": [
      "=============================================================\n",
      "epoch: 5, source_val_acc_label: 0.8622, target_val_acc_label: 0.7240, source_val_label_loss: 0.3849, target_val_label_loss: 75.4442, \n",
      "=============================================================\n"
     ]
    },
    {
     "name": "stdout",
     "output_type": "stream",
     "text": [
      "New best\n"
     ]
    },
    {
     "name": "stdout",
     "output_type": "stream",
     "text": [
      "epoch: 6, [batch: 1 / 6720], examples_per_second: 3.2940, train_label_loss: 0.3296, \n"
     ]
    },
    {
     "name": "stdout",
     "output_type": "stream",
     "text": [
      "epoch: 6, [batch: 672 / 6720], examples_per_second: 2956.2272, train_label_loss: 0.5889, \n"
     ]
    },
    {
     "name": "stdout",
     "output_type": "stream",
     "text": [
      "epoch: 6, [batch: 1344 / 6720], examples_per_second: 2499.4743, train_label_loss: 0.4667, \n"
     ]
    },
    {
     "name": "stdout",
     "output_type": "stream",
     "text": [
      "epoch: 6, [batch: 2016 / 6720], examples_per_second: 2361.6496, train_label_loss: 0.1172, \n"
     ]
    },
    {
     "name": "stdout",
     "output_type": "stream",
     "text": [
      "epoch: 6, [batch: 2688 / 6720], examples_per_second: 2493.6662, train_label_loss: 0.0741, \n"
     ]
    },
    {
     "name": "stdout",
     "output_type": "stream",
     "text": [
      "epoch: 6, [batch: 3360 / 6720], examples_per_second: 2351.1380, train_label_loss: 0.1806, \n"
     ]
    },
    {
     "name": "stdout",
     "output_type": "stream",
     "text": [
      "epoch: 6, [batch: 4032 / 6720], examples_per_second: 2818.7350, train_label_loss: 0.4615, \n"
     ]
    },
    {
     "name": "stdout",
     "output_type": "stream",
     "text": [
      "epoch: 6, [batch: 4704 / 6720], examples_per_second: 2557.4009, train_label_loss: 0.3955, \n"
     ]
    },
    {
     "name": "stdout",
     "output_type": "stream",
     "text": [
      "epoch: 6, [batch: 5376 / 6720], examples_per_second: 2838.5659, train_label_loss: 0.3707, \n"
     ]
    },
    {
     "name": "stdout",
     "output_type": "stream",
     "text": [
      "epoch: 6, [batch: 6048 / 6720], examples_per_second: 2908.7034, train_label_loss: 0.1388, \n"
     ]
    },
    {
     "name": "stdout",
     "output_type": "stream",
     "text": [
      "=============================================================\n",
      "epoch: 6, source_val_acc_label: 0.8814, target_val_acc_label: 0.7274, source_val_label_loss: 0.3268, target_val_label_loss: 97.2429, \n",
      "=============================================================\n"
     ]
    },
    {
     "name": "stdout",
     "output_type": "stream",
     "text": [
      "New best\n"
     ]
    },
    {
     "name": "stdout",
     "output_type": "stream",
     "text": [
      "epoch: 7, [batch: 1 / 6720], examples_per_second: 2.9627, train_label_loss: 0.0750, \n"
     ]
    },
    {
     "name": "stdout",
     "output_type": "stream",
     "text": [
      "epoch: 7, [batch: 672 / 6720], examples_per_second: 3052.3710, train_label_loss: 0.4636, \n"
     ]
    },
    {
     "name": "stdout",
     "output_type": "stream",
     "text": [
      "epoch: 7, [batch: 1344 / 6720], examples_per_second: 2548.4031, train_label_loss: 0.1798, \n"
     ]
    },
    {
     "name": "stdout",
     "output_type": "stream",
     "text": [
      "epoch: 7, [batch: 2016 / 6720], examples_per_second: 2969.2599, train_label_loss: 0.3048, \n"
     ]
    },
    {
     "name": "stdout",
     "output_type": "stream",
     "text": [
      "epoch: 7, [batch: 2688 / 6720], examples_per_second: 2556.1136, train_label_loss: 0.5140, \n"
     ]
    },
    {
     "name": "stdout",
     "output_type": "stream",
     "text": [
      "epoch: 7, [batch: 3360 / 6720], examples_per_second: 2845.4156, train_label_loss: 0.7919, \n"
     ]
    },
    {
     "name": "stdout",
     "output_type": "stream",
     "text": [
      "epoch: 7, [batch: 4032 / 6720], examples_per_second: 2911.8987, train_label_loss: 0.1454, \n"
     ]
    },
    {
     "name": "stdout",
     "output_type": "stream",
     "text": [
      "epoch: 7, [batch: 4704 / 6720], examples_per_second: 3062.3743, train_label_loss: 0.3021, \n"
     ]
    },
    {
     "name": "stdout",
     "output_type": "stream",
     "text": [
      "epoch: 7, [batch: 5376 / 6720], examples_per_second: 3443.7821, train_label_loss: 0.1171, \n"
     ]
    },
    {
     "name": "stdout",
     "output_type": "stream",
     "text": [
      "epoch: 7, [batch: 6048 / 6720], examples_per_second: 2909.2611, train_label_loss: 0.1785, \n"
     ]
    },
    {
     "name": "stdout",
     "output_type": "stream",
     "text": [
      "=============================================================\n",
      "epoch: 7, source_val_acc_label: 0.8703, target_val_acc_label: 0.7497, source_val_label_loss: 0.3529, target_val_label_loss: 124.1062, \n",
      "=============================================================\n"
     ]
    },
    {
     "name": "stdout",
     "output_type": "stream",
     "text": [
      "New best\n"
     ]
    },
    {
     "name": "stdout",
     "output_type": "stream",
     "text": [
      "epoch: 8, [batch: 1 / 6720], examples_per_second: 3.1510, train_label_loss: 0.3725, \n"
     ]
    },
    {
     "name": "stdout",
     "output_type": "stream",
     "text": [
      "epoch: 8, [batch: 672 / 6720], examples_per_second: 3269.4397, train_label_loss: 0.4671, \n"
     ]
    },
    {
     "name": "stdout",
     "output_type": "stream",
     "text": [
      "epoch: 8, [batch: 1344 / 6720], examples_per_second: 3322.2089, train_label_loss: 0.4314, \n"
     ]
    },
    {
     "name": "stdout",
     "output_type": "stream",
     "text": [
      "epoch: 8, [batch: 2016 / 6720], examples_per_second: 2951.8322, train_label_loss: 0.1543, \n"
     ]
    },
    {
     "name": "stdout",
     "output_type": "stream",
     "text": [
      "epoch: 8, [batch: 2688 / 6720], examples_per_second: 2584.9365, train_label_loss: 0.0271, \n"
     ]
    },
    {
     "name": "stdout",
     "output_type": "stream",
     "text": [
      "epoch: 8, [batch: 3360 / 6720], examples_per_second: 2574.6279, train_label_loss: 0.4238, \n"
     ]
    },
    {
     "name": "stdout",
     "output_type": "stream",
     "text": [
      "epoch: 8, [batch: 4032 / 6720], examples_per_second: 2690.5885, train_label_loss: 0.4087, \n"
     ]
    },
    {
     "name": "stdout",
     "output_type": "stream",
     "text": [
      "epoch: 8, [batch: 4704 / 6720], examples_per_second: 3208.3277, train_label_loss: 0.2722, \n"
     ]
    },
    {
     "name": "stdout",
     "output_type": "stream",
     "text": [
      "epoch: 8, [batch: 5376 / 6720], examples_per_second: 2907.9768, train_label_loss: 0.2466, \n"
     ]
    },
    {
     "name": "stdout",
     "output_type": "stream",
     "text": [
      "epoch: 8, [batch: 6048 / 6720], examples_per_second: 2546.3277, train_label_loss: 0.2236, \n"
     ]
    },
    {
     "name": "stdout",
     "output_type": "stream",
     "text": [
      "=============================================================\n",
      "epoch: 8, source_val_acc_label: 0.8931, target_val_acc_label: 0.7337, source_val_label_loss: 0.2980, target_val_label_loss: 138.8500, \n",
      "=============================================================\n"
     ]
    },
    {
     "name": "stdout",
     "output_type": "stream",
     "text": [
      "epoch: 9, [batch: 1 / 6720], examples_per_second: 2.4634, train_label_loss: 0.1320, \n"
     ]
    },
    {
     "name": "stdout",
     "output_type": "stream",
     "text": [
      "epoch: 9, [batch: 672 / 6720], examples_per_second: 2590.3811, train_label_loss: 0.4305, \n"
     ]
    },
    {
     "name": "stdout",
     "output_type": "stream",
     "text": [
      "epoch: 9, [batch: 1344 / 6720], examples_per_second: 2569.1521, train_label_loss: 0.3806, \n"
     ]
    },
    {
     "name": "stdout",
     "output_type": "stream",
     "text": [
      "epoch: 9, [batch: 2016 / 6720], examples_per_second: 2722.0455, train_label_loss: 0.2365, \n"
     ]
    },
    {
     "name": "stdout",
     "output_type": "stream",
     "text": [
      "epoch: 9, [batch: 2688 / 6720], examples_per_second: 3164.5434, train_label_loss: 0.1701, \n"
     ]
    },
    {
     "name": "stdout",
     "output_type": "stream",
     "text": [
      "epoch: 9, [batch: 3360 / 6720], examples_per_second: 3409.4905, train_label_loss: 0.3771, \n"
     ]
    },
    {
     "name": "stdout",
     "output_type": "stream",
     "text": [
      "epoch: 9, [batch: 4032 / 6720], examples_per_second: 3684.2748, train_label_loss: 0.4281, \n"
     ]
    },
    {
     "name": "stdout",
     "output_type": "stream",
     "text": [
      "epoch: 9, [batch: 4704 / 6720], examples_per_second: 4215.0666, train_label_loss: 0.1717, \n"
     ]
    },
    {
     "name": "stdout",
     "output_type": "stream",
     "text": [
      "epoch: 9, [batch: 5376 / 6720], examples_per_second: 4228.1623, train_label_loss: 0.1616, \n"
     ]
    },
    {
     "name": "stdout",
     "output_type": "stream",
     "text": [
      "epoch: 9, [batch: 6048 / 6720], examples_per_second: 3865.3444, train_label_loss: 0.0628, \n"
     ]
    },
    {
     "name": "stdout",
     "output_type": "stream",
     "text": [
      "=============================================================\n",
      "epoch: 9, source_val_acc_label: 0.8977, target_val_acc_label: 0.7542, source_val_label_loss: 0.2872, target_val_label_loss: 159.6330, \n",
      "=============================================================\n"
     ]
    },
    {
     "name": "stdout",
     "output_type": "stream",
     "text": [
      "New best\n"
     ]
    },
    {
     "name": "stdout",
     "output_type": "stream",
     "text": [
      "epoch: 10, [batch: 1 / 6720], examples_per_second: 4.0520, train_label_loss: 0.2472, \n"
     ]
    },
    {
     "name": "stdout",
     "output_type": "stream",
     "text": [
      "epoch: 10, [batch: 672 / 6720], examples_per_second: 2808.5841, train_label_loss: 0.0964, \n"
     ]
    },
    {
     "name": "stdout",
     "output_type": "stream",
     "text": [
      "epoch: 10, [batch: 1344 / 6720], examples_per_second: 2871.1337, train_label_loss: 0.3156, \n"
     ]
    },
    {
     "name": "stdout",
     "output_type": "stream",
     "text": [
      "epoch: 10, [batch: 2016 / 6720], examples_per_second: 2888.2937, train_label_loss: 0.2760, \n"
     ]
    },
    {
     "name": "stdout",
     "output_type": "stream",
     "text": [
      "epoch: 10, [batch: 2688 / 6720], examples_per_second: 3365.0471, train_label_loss: 0.2466, \n"
     ]
    },
    {
     "name": "stdout",
     "output_type": "stream",
     "text": [
      "epoch: 10, [batch: 3360 / 6720], examples_per_second: 2893.7038, train_label_loss: 0.1515, \n"
     ]
    },
    {
     "name": "stdout",
     "output_type": "stream",
     "text": [
      "epoch: 10, [batch: 4032 / 6720], examples_per_second: 2980.9917, train_label_loss: 0.1730, \n"
     ]
    },
    {
     "name": "stdout",
     "output_type": "stream",
     "text": [
      "epoch: 10, [batch: 4704 / 6720], examples_per_second: 3223.9455, train_label_loss: 0.2459, \n"
     ]
    },
    {
     "name": "stdout",
     "output_type": "stream",
     "text": [
      "epoch: 10, [batch: 5376 / 6720], examples_per_second: 3990.8204, train_label_loss: 0.2155, \n"
     ]
    },
    {
     "name": "stdout",
     "output_type": "stream",
     "text": [
      "epoch: 10, [batch: 6048 / 6720], examples_per_second: 2919.7574, train_label_loss: 0.0257, \n"
     ]
    },
    {
     "name": "stdout",
     "output_type": "stream",
     "text": [
      "=============================================================\n",
      "epoch: 10, source_val_acc_label: 0.9007, target_val_acc_label: 0.7362, source_val_label_loss: 0.2792, target_val_label_loss: 178.2439, \n",
      "=============================================================\n"
     ]
    },
    {
     "name": "stdout",
     "output_type": "stream",
     "text": [
      "epoch: 11, [batch: 1 / 6720], examples_per_second: 2.8888, train_label_loss: 0.3376, \n"
     ]
    },
    {
     "name": "stdout",
     "output_type": "stream",
     "text": [
      "epoch: 11, [batch: 672 / 6720], examples_per_second: 2553.6099, train_label_loss: 0.0798, \n"
     ]
    },
    {
     "name": "stdout",
     "output_type": "stream",
     "text": [
      "epoch: 11, [batch: 1344 / 6720], examples_per_second: 2576.5528, train_label_loss: 0.3132, \n"
     ]
    },
    {
     "name": "stdout",
     "output_type": "stream",
     "text": [
      "epoch: 11, [batch: 2016 / 6720], examples_per_second: 2947.3193, train_label_loss: 0.2214, \n"
     ]
    },
    {
     "name": "stdout",
     "output_type": "stream",
     "text": [
      "epoch: 11, [batch: 2688 / 6720], examples_per_second: 2856.1572, train_label_loss: 0.6196, \n"
     ]
    },
    {
     "name": "stdout",
     "output_type": "stream",
     "text": [
      "epoch: 11, [batch: 3360 / 6720], examples_per_second: 2371.1073, train_label_loss: 0.2078, \n"
     ]
    },
    {
     "name": "stdout",
     "output_type": "stream",
     "text": [
      "epoch: 11, [batch: 4032 / 6720], examples_per_second: 2336.9986, train_label_loss: 0.2107, \n"
     ]
    },
    {
     "name": "stdout",
     "output_type": "stream",
     "text": [
      "epoch: 11, [batch: 4704 / 6720], examples_per_second: 2553.2407, train_label_loss: 0.0237, \n"
     ]
    },
    {
     "name": "stdout",
     "output_type": "stream",
     "text": [
      "epoch: 11, [batch: 5376 / 6720], examples_per_second: 2614.4915, train_label_loss: 0.2550, \n"
     ]
    },
    {
     "name": "stdout",
     "output_type": "stream",
     "text": [
      "epoch: 11, [batch: 6048 / 6720], examples_per_second: 2819.6877, train_label_loss: 0.1715, \n"
     ]
    },
    {
     "name": "stdout",
     "output_type": "stream",
     "text": [
      "=============================================================\n",
      "epoch: 11, source_val_acc_label: 0.8991, target_val_acc_label: 0.7860, source_val_label_loss: 0.2818, target_val_label_loss: 187.8373, \n",
      "=============================================================\n"
     ]
    },
    {
     "name": "stdout",
     "output_type": "stream",
     "text": [
      "New best\n"
     ]
    },
    {
     "name": "stdout",
     "output_type": "stream",
     "text": [
      "epoch: 12, [batch: 1 / 6720], examples_per_second: 2.3223, train_label_loss: 0.3688, \n"
     ]
    },
    {
     "name": "stdout",
     "output_type": "stream",
     "text": [
      "epoch: 12, [batch: 672 / 6720], examples_per_second: 2804.8492, train_label_loss: 0.3299, \n"
     ]
    },
    {
     "name": "stdout",
     "output_type": "stream",
     "text": [
      "epoch: 12, [batch: 1344 / 6720], examples_per_second: 2562.4098, train_label_loss: 0.0997, \n"
     ]
    },
    {
     "name": "stdout",
     "output_type": "stream",
     "text": [
      "epoch: 12, [batch: 2016 / 6720], examples_per_second: 2540.9234, train_label_loss: 0.2507, \n"
     ]
    },
    {
     "name": "stdout",
     "output_type": "stream",
     "text": [
      "epoch: 12, [batch: 2688 / 6720], examples_per_second: 2583.7514, train_label_loss: 0.0733, \n"
     ]
    },
    {
     "name": "stdout",
     "output_type": "stream",
     "text": [
      "epoch: 12, [batch: 3360 / 6720], examples_per_second: 2604.0788, train_label_loss: 0.2421, \n"
     ]
    },
    {
     "name": "stdout",
     "output_type": "stream",
     "text": [
      "epoch: 12, [batch: 4032 / 6720], examples_per_second: 2610.3228, train_label_loss: 0.3399, \n"
     ]
    },
    {
     "name": "stdout",
     "output_type": "stream",
     "text": [
      "epoch: 12, [batch: 4704 / 6720], examples_per_second: 2843.4441, train_label_loss: 0.2716, \n"
     ]
    },
    {
     "name": "stdout",
     "output_type": "stream",
     "text": [
      "epoch: 12, [batch: 5376 / 6720], examples_per_second: 3340.1403, train_label_loss: 0.0642, \n"
     ]
    },
    {
     "name": "stdout",
     "output_type": "stream",
     "text": [
      "epoch: 12, [batch: 6048 / 6720], examples_per_second: 3392.8058, train_label_loss: 0.1482, \n"
     ]
    },
    {
     "name": "stdout",
     "output_type": "stream",
     "text": [
      "=============================================================\n",
      "epoch: 12, source_val_acc_label: 0.9051, target_val_acc_label: 0.7104, source_val_label_loss: 0.2670, target_val_label_loss: 341.5923, \n",
      "=============================================================\n"
     ]
    },
    {
     "name": "stdout",
     "output_type": "stream",
     "text": [
      "epoch: 13, [batch: 1 / 6720], examples_per_second: 3.2735, train_label_loss: 0.3559, \n"
     ]
    },
    {
     "name": "stdout",
     "output_type": "stream",
     "text": [
      "epoch: 13, [batch: 672 / 6720], examples_per_second: 3489.2052, train_label_loss: 0.2495, \n"
     ]
    },
    {
     "name": "stdout",
     "output_type": "stream",
     "text": [
      "epoch: 13, [batch: 1344 / 6720], examples_per_second: 3008.0591, train_label_loss: 0.0999, \n"
     ]
    },
    {
     "name": "stdout",
     "output_type": "stream",
     "text": [
      "epoch: 13, [batch: 2016 / 6720], examples_per_second: 2905.5722, train_label_loss: 0.1926, \n"
     ]
    },
    {
     "name": "stdout",
     "output_type": "stream",
     "text": [
      "epoch: 13, [batch: 2688 / 6720], examples_per_second: 2886.3492, train_label_loss: 0.0408, \n"
     ]
    },
    {
     "name": "stdout",
     "output_type": "stream",
     "text": [
      "epoch: 13, [batch: 3360 / 6720], examples_per_second: 3153.2889, train_label_loss: 0.3443, \n"
     ]
    },
    {
     "name": "stdout",
     "output_type": "stream",
     "text": [
      "epoch: 13, [batch: 4032 / 6720], examples_per_second: 3329.1235, train_label_loss: 0.2647, \n"
     ]
    },
    {
     "name": "stdout",
     "output_type": "stream",
     "text": [
      "epoch: 13, [batch: 4704 / 6720], examples_per_second: 3344.6789, train_label_loss: 0.0124, \n"
     ]
    },
    {
     "name": "stdout",
     "output_type": "stream",
     "text": [
      "epoch: 13, [batch: 5376 / 6720], examples_per_second: 3602.6932, train_label_loss: 0.1005, \n"
     ]
    },
    {
     "name": "stdout",
     "output_type": "stream",
     "text": [
      "epoch: 13, [batch: 6048 / 6720], examples_per_second: 2984.1548, train_label_loss: 0.1374, \n"
     ]
    },
    {
     "name": "stdout",
     "output_type": "stream",
     "text": [
      "=============================================================\n",
      "epoch: 13, source_val_acc_label: 0.9012, target_val_acc_label: 0.6509, source_val_label_loss: 0.2774, target_val_label_loss: 679.0302, \n",
      "=============================================================\n"
     ]
    },
    {
     "name": "stdout",
     "output_type": "stream",
     "text": [
      "epoch: 14, [batch: 1 / 6720], examples_per_second: 2.8296, train_label_loss: 0.2128, \n"
     ]
    },
    {
     "name": "stdout",
     "output_type": "stream",
     "text": [
      "epoch: 14, [batch: 672 / 6720], examples_per_second: 2579.9906, train_label_loss: 0.1613, \n"
     ]
    },
    {
     "name": "stdout",
     "output_type": "stream",
     "text": [
      "epoch: 14, [batch: 1344 / 6720], examples_per_second: 2587.0871, train_label_loss: 0.1095, \n"
     ]
    },
    {
     "name": "stdout",
     "output_type": "stream",
     "text": [
      "epoch: 14, [batch: 2016 / 6720], examples_per_second: 2333.5877, train_label_loss: 0.1822, \n"
     ]
    },
    {
     "name": "stdout",
     "output_type": "stream",
     "text": [
      "epoch: 14, [batch: 2688 / 6720], examples_per_second: 2306.0330, train_label_loss: 0.1374, \n"
     ]
    },
    {
     "name": "stdout",
     "output_type": "stream",
     "text": [
      "epoch: 14, [batch: 3360 / 6720], examples_per_second: 2379.3597, train_label_loss: 0.0867, \n"
     ]
    },
    {
     "name": "stdout",
     "output_type": "stream",
     "text": [
      "epoch: 14, [batch: 4032 / 6720], examples_per_second: 2629.5061, train_label_loss: 0.3481, \n"
     ]
    },
    {
     "name": "stdout",
     "output_type": "stream",
     "text": [
      "epoch: 14, [batch: 4704 / 6720], examples_per_second: 2563.8292, train_label_loss: 0.1741, \n"
     ]
    },
    {
     "name": "stdout",
     "output_type": "stream",
     "text": [
      "epoch: 14, [batch: 5376 / 6720], examples_per_second: 2577.9787, train_label_loss: 0.1307, \n"
     ]
    },
    {
     "name": "stdout",
     "output_type": "stream",
     "text": [
      "epoch: 14, [batch: 6048 / 6720], examples_per_second: 2585.5951, train_label_loss: 0.0180, \n"
     ]
    },
    {
     "name": "stdout",
     "output_type": "stream",
     "text": [
      "=============================================================\n",
      "epoch: 14, source_val_acc_label: 0.9093, target_val_acc_label: 0.6879, source_val_label_loss: 0.2558, target_val_label_loss: 556.9356, \n",
      "=============================================================\n"
     ]
    },
    {
     "name": "stdout",
     "output_type": "stream",
     "text": [
      "epoch: 15, [batch: 1 / 6720], examples_per_second: 2.7629, train_label_loss: 0.0788, \n"
     ]
    },
    {
     "name": "stdout",
     "output_type": "stream",
     "text": [
      "epoch: 15, [batch: 672 / 6720], examples_per_second: 2653.2381, train_label_loss: 0.0613, \n"
     ]
    },
    {
     "name": "stdout",
     "output_type": "stream",
     "text": [
      "epoch: 15, [batch: 1344 / 6720], examples_per_second: 2644.7422, train_label_loss: 0.0477, \n"
     ]
    },
    {
     "name": "stdout",
     "output_type": "stream",
     "text": [
      "epoch: 15, [batch: 2016 / 6720], examples_per_second: 2333.6262, train_label_loss: 0.1470, \n"
     ]
    },
    {
     "name": "stdout",
     "output_type": "stream",
     "text": [
      "epoch: 15, [batch: 2688 / 6720], examples_per_second: 2319.0865, train_label_loss: 0.2205, \n"
     ]
    },
    {
     "name": "stdout",
     "output_type": "stream",
     "text": [
      "epoch: 15, [batch: 3360 / 6720], examples_per_second: 2308.6010, train_label_loss: 0.1475, \n"
     ]
    },
    {
     "name": "stdout",
     "output_type": "stream",
     "text": [
      "epoch: 15, [batch: 4032 / 6720], examples_per_second: 2325.0165, train_label_loss: 0.1289, \n"
     ]
    },
    {
     "name": "stdout",
     "output_type": "stream",
     "text": [
      "epoch: 15, [batch: 4704 / 6720], examples_per_second: 2310.9714, train_label_loss: 0.2748, \n"
     ]
    },
    {
     "name": "stdout",
     "output_type": "stream",
     "text": [
      "epoch: 15, [batch: 5376 / 6720], examples_per_second: 2324.1601, train_label_loss: 0.0194, \n"
     ]
    },
    {
     "name": "stdout",
     "output_type": "stream",
     "text": [
      "epoch: 15, [batch: 6048 / 6720], examples_per_second: 2301.6111, train_label_loss: 0.1561, \n"
     ]
    },
    {
     "name": "stdout",
     "output_type": "stream",
     "text": [
      "=============================================================\n",
      "epoch: 15, source_val_acc_label: 0.9022, target_val_acc_label: 0.6695, source_val_label_loss: 0.2763, target_val_label_loss: 724.0771, \n",
      "=============================================================\n"
     ]
    },
    {
     "name": "stdout",
     "output_type": "stream",
     "text": [
      "Patience (3) exhausted\n"
     ]
    }
   ],
   "source": [
    "###################################\n",
    "# train\n",
    "###################################\n",
    "jig = PTN_Train_Eval_Test_Jig(model, p.BEST_MODEL_PATH, p.device)\n",
    "\n",
    "jig.train(\n",
    "    train_iterable=datasets.source.processed.train,\n",
    "    source_val_iterable=datasets.source.processed.val,\n",
    "    target_val_iterable=datasets.target.processed.val,\n",
    "    num_epochs=p.n_epoch,\n",
    "    num_logs_per_epoch=p.NUM_LOGS_PER_EPOCH,\n",
    "    patience=p.patience,\n",
    "    optimizer=optimizer,\n",
    "    criteria_for_best=p.criteria_for_best,\n",
    ")"
   ]
  },
  {
   "cell_type": "code",
   "execution_count": 23,
   "id": "31e8fabf",
   "metadata": {
    "execution": {
     "iopub.execute_input": "2022-03-21T04:42:13.886289Z",
     "iopub.status.busy": "2022-03-21T04:42:13.885921Z",
     "iopub.status.idle": "2022-03-21T04:42:13.918066Z",
     "shell.execute_reply": "2022-03-21T04:42:13.917271Z"
    },
    "papermill": {
     "duration": 0.104276,
     "end_time": "2022-03-21T04:42:13.918222",
     "exception": false,
     "start_time": "2022-03-21T04:42:13.813946",
     "status": "completed"
    },
    "tags": []
   },
   "outputs": [],
   "source": [
    "total_experiment_time_secs = time.time() - start_time_secs"
   ]
  },
  {
   "cell_type": "code",
   "execution_count": 24,
   "id": "87b9595b",
   "metadata": {
    "execution": {
     "iopub.execute_input": "2022-03-21T04:42:14.065649Z",
     "iopub.status.busy": "2022-03-21T04:42:14.065233Z",
     "iopub.status.idle": "2022-03-21T04:46:28.210662Z",
     "shell.execute_reply": "2022-03-21T04:46:28.209895Z"
    },
    "papermill": {
     "duration": 254.219441,
     "end_time": "2022-03-21T04:46:28.210868",
     "exception": false,
     "start_time": "2022-03-21T04:42:13.991427",
     "status": "completed"
    },
    "tags": []
   },
   "outputs": [],
   "source": [
    "###################################\n",
    "# Evaluate the model\n",
    "###################################\n",
    "source_test_label_accuracy, source_test_label_loss = jig.test(datasets.source.processed.test)\n",
    "target_test_label_accuracy, target_test_label_loss = jig.test(datasets.target.processed.test)\n",
    "\n",
    "source_val_label_accuracy, source_val_label_loss = jig.test(datasets.source.processed.val)\n",
    "target_val_label_accuracy, target_val_label_loss = jig.test(datasets.target.processed.val)\n",
    "\n",
    "history = jig.get_history()\n",
    "\n",
    "total_epochs_trained = len(history[\"epoch_indices\"])\n",
    "\n",
    "val_dl = Iterable_Aggregator((datasets.source.original.val,datasets.target.original.val))\n",
    "\n",
    "confusion = ptn_confusion_by_domain_over_dataloader(model, p.device, val_dl)\n",
    "per_domain_accuracy = per_domain_accuracy_from_confusion(confusion)\n",
    "\n",
    "# Add a key to per_domain_accuracy for if it was a source domain\n",
    "for domain, accuracy in per_domain_accuracy.items():\n",
    "    per_domain_accuracy[domain] = {\n",
    "        \"accuracy\": accuracy,\n",
    "        \"source?\": domain in p.domains_source\n",
    "    }\n",
    "\n",
    "# Do an independent accuracy assesment JUST TO BE SURE!\n",
    "# _source_test_label_accuracy = independent_accuracy_assesment(model, datasets.source.processed.test, p.device)\n",
    "# _target_test_label_accuracy = independent_accuracy_assesment(model, datasets.target.processed.test, p.device)\n",
    "# _source_val_label_accuracy = independent_accuracy_assesment(model, datasets.source.processed.val, p.device)\n",
    "# _target_val_label_accuracy = independent_accuracy_assesment(model, datasets.target.processed.val, p.device)\n",
    "\n",
    "# assert(_source_test_label_accuracy == source_test_label_accuracy)\n",
    "# assert(_target_test_label_accuracy == target_test_label_accuracy)\n",
    "# assert(_source_val_label_accuracy == source_val_label_accuracy)\n",
    "# assert(_target_val_label_accuracy == target_val_label_accuracy)\n",
    "\n",
    "experiment = {\n",
    "    \"experiment_name\": p.experiment_name,\n",
    "    \"parameters\": dict(p),\n",
    "    \"results\": {\n",
    "        \"source_test_label_accuracy\": source_test_label_accuracy,\n",
    "        \"source_test_label_loss\": source_test_label_loss,\n",
    "        \"target_test_label_accuracy\": target_test_label_accuracy,\n",
    "        \"target_test_label_loss\": target_test_label_loss,\n",
    "        \"source_val_label_accuracy\": source_val_label_accuracy,\n",
    "        \"source_val_label_loss\": source_val_label_loss,\n",
    "        \"target_val_label_accuracy\": target_val_label_accuracy,\n",
    "        \"target_val_label_loss\": target_val_label_loss,\n",
    "        \"total_epochs_trained\": total_epochs_trained,\n",
    "        \"total_experiment_time_secs\": total_experiment_time_secs,\n",
    "        \"confusion\": confusion,\n",
    "        \"per_domain_accuracy\": per_domain_accuracy,\n",
    "    },\n",
    "    \"history\": history,\n",
    "    \"dataset_metrics\": get_dataset_metrics(datasets, \"ptn\"),\n",
    "}"
   ]
  },
  {
   "cell_type": "code",
   "execution_count": 25,
   "id": "54a21829",
   "metadata": {
    "execution": {
     "iopub.execute_input": "2022-03-21T04:46:28.358455Z",
     "iopub.status.busy": "2022-03-21T04:46:28.358072Z",
     "iopub.status.idle": "2022-03-21T04:46:28.582218Z",
     "shell.execute_reply": "2022-03-21T04:46:28.582901Z"
    },
    "papermill": {
     "duration": 0.298713,
     "end_time": "2022-03-21T04:46:28.583148",
     "exception": false,
     "start_time": "2022-03-21T04:46:28.284435",
     "status": "completed"
    },
    "tags": []
   },
   "outputs": [
    {
     "data": {
      "image/png": "[encoded data removed]",
      "text/plain": [
       "<Figure size 1080x504 with 1 Axes>"
      ]
     },
     "metadata": {
      "needs_background": "light"
     },
     "output_type": "display_data"
    }
   ],
   "source": [
    "ax = get_loss_curve(experiment)\n",
    "plt.show()"
   ]
  },
  {
   "cell_type": "code",
   "execution_count": 26,
   "id": "fd8a0f60",
   "metadata": {
    "execution": {
     "iopub.execute_input": "2022-03-21T04:46:28.729367Z",
     "iopub.status.busy": "2022-03-21T04:46:28.728992Z",
     "iopub.status.idle": "2022-03-21T04:46:29.080719Z",
     "shell.execute_reply": "2022-03-21T04:46:29.080327Z"
    },
    "papermill": {
     "duration": 0.425085,
     "end_time": "2022-03-21T04:46:29.080812",
     "exception": false,
     "start_time": "2022-03-21T04:46:28.655727",
     "status": "completed"
    },
    "tags": []
   },
   "outputs": [
    {
     "data": {
      "text/plain": [
       "<AxesSubplot:title={'center':'Results'}>"
      ]
     },
     "execution_count": 26,
     "metadata": {},
     "output_type": "execute_result"
    },
    {
     "data": {
      "image/png": "[encoded data removed]",
      "text/plain": [
       "<Figure size 1080x504 with 1 Axes>"
      ]
     },
     "metadata": {
      "needs_background": "light"
     },
     "output_type": "display_data"
    }
   ],
   "source": [
    "get_results_table(experiment)"
   ]
  },
  {
   "cell_type": "code",
   "execution_count": 27,
   "id": "cf8dc689",
   "metadata": {
    "execution": {
     "iopub.execute_input": "2022-03-21T04:46:29.229016Z",
     "iopub.status.busy": "2022-03-21T04:46:29.228643Z",
     "iopub.status.idle": "2022-03-21T04:46:29.493977Z",
     "shell.execute_reply": "2022-03-21T04:46:29.493257Z"
    },
    "papermill": {
     "duration": 0.341205,
     "end_time": "2022-03-21T04:46:29.494148",
     "exception": false,
     "start_time": "2022-03-21T04:46:29.152943",
     "status": "completed"
    },
    "tags": []
   },
   "outputs": [
    {
     "data": {
      "text/plain": [
       "<AxesSubplot:title={'center':'Per Domain Validation Accuracy'}, xlabel='domain'>"
      ]
     },
     "execution_count": 27,
     "metadata": {},
     "output_type": "execute_result"
    },
    {
     "data": {
      "image/png": "[encoded data removed]",
      "text/plain": [
       "<Figure size 1080x504 with 1 Axes>"
      ]
     },
     "metadata": {
      "needs_background": "light"
     },
     "output_type": "display_data"
    }
   ],
   "source": [
    "get_domain_accuracies(experiment)"
   ]
  },
  {
   "cell_type": "code",
   "execution_count": 28,
   "id": "a74ae082",
   "metadata": {
    "execution": {
     "iopub.execute_input": "2022-03-21T04:46:29.649193Z",
     "iopub.status.busy": "2022-03-21T04:46:29.648813Z",
     "iopub.status.idle": "2022-03-21T04:46:29.672884Z",
     "shell.execute_reply": "2022-03-21T04:46:29.672162Z"
    },
    "papermill": {
     "duration": 0.102013,
     "end_time": "2022-03-21T04:46:29.673046",
     "exception": false,
     "start_time": "2022-03-21T04:46:29.571033",
     "status": "completed"
    },
    "tags": []
   },
   "outputs": [
    {
     "name": "stdout",
     "output_type": "stream",
     "text": [
      "Source Test Label Accuracy: 0.89921875 Target Test Label Accuracy: 0.7774971941638609\n",
      "Source Val Label Accuracy: 0.8990559895833333 Target Val Label Accuracy: 0.785958904109589\n"
     ]
    }
   ],
   "source": [
    "print(\"Source Test Label Accuracy:\", experiment[\"results\"][\"source_test_label_accuracy\"], \"Target Test Label Accuracy:\", experiment[\"results\"][\"target_test_label_accuracy\"])\n",
    "print(\"Source Val Label Accuracy:\", experiment[\"results\"][\"source_val_label_accuracy\"], \"Target Val Label Accuracy:\", experiment[\"results\"][\"target_val_label_accuracy\"])"
   ]
  },
  {
   "cell_type": "code",
   "execution_count": 29,
   "id": "dacca602",
   "metadata": {
    "execution": {
     "iopub.execute_input": "2022-03-21T04:46:29.830391Z",
     "iopub.status.busy": "2022-03-21T04:46:29.830020Z",
     "iopub.status.idle": "2022-03-21T04:46:29.855450Z",
     "shell.execute_reply": "2022-03-21T04:46:29.856159Z"
    },
    "papermill": {
     "duration": 0.10416,
     "end_time": "2022-03-21T04:46:29.856363",
     "exception": false,
     "start_time": "2022-03-21T04:46:29.752203",
     "status": "completed"
    },
    "tags": [
     "experiment_json"
    ]
   },
   "outputs": [
    {
     "data": {
      "text/plain": [
       "'{\"experiment_name\": \"tl_1v2:cores-oracle.run1.framed\", \"parameters\": {\"experiment_name\": \"tl_1v2:cores-oracle.run1.framed\", \"device\": \"cuda\", \"lr\": 0.0001, \"n_shot\": 3, \"n_query\": 2, \"train_k_factor\": 3, \"val_k_factor\": 2, \"test_k_factor\": 2, \"torch_default_dtype\": \"torch.float32\", \"n_epoch\": 50, \"patience\": 3, \"criteria_for_best\": \"target_accuracy\", \"x_net\": [{\"class\": \"nnReshape\", \"kargs\": {\"shape\": [-1, 1, 2, 256]}}, {\"class\": \"Conv2d\", \"kargs\": {\"in_channels\": 1, \"out_channels\": 256, \"kernel_size\": [1, 7], \"bias\": false, \"padding\": [0, 3]}}, {\"class\": \"ReLU\", \"kargs\": {\"inplace\": true}}, {\"class\": \"BatchNorm2d\", \"kargs\": {\"num_features\": 256}}, {\"class\": \"Conv2d\", \"kargs\": {\"in_channels\": 256, \"out_channels\": 80, \"kernel_size\": [2, 7], \"bias\": true, \"padding\": [0, 3]}}, {\"class\": \"ReLU\", \"kargs\": {\"inplace\": true}}, {\"class\": \"BatchNorm2d\", \"kargs\": {\"num_features\": 80}}, {\"class\": \"Flatten\", \"kargs\": {}}, {\"class\": \"Linear\", \"kargs\": {\"in_features\": 20480, \"out_features\": 256}}, {\"class\": \"ReLU\", \"kargs\": {\"inplace\": true}}, {\"class\": \"BatchNorm1d\", \"kargs\": {\"num_features\": 256}}, {\"class\": \"Linear\", \"kargs\": {\"in_features\": 256, \"out_features\": 256}}], \"NUM_LOGS_PER_EPOCH\": 10, \"BEST_MODEL_PATH\": \"./best_model.pth\", \"n_way\": 16, \"datasets\": [{\"labels\": [\"1-10.\", \"1-11.\", \"1-15.\", \"1-16.\", \"1-17.\", \"1-18.\", \"1-19.\", \"10-4.\", \"10-7.\", \"11-1.\", \"11-14.\", \"11-17.\", \"11-20.\", \"11-7.\", \"13-20.\", \"13-8.\", \"14-10.\", \"14-11.\", \"14-14.\", \"14-7.\", \"15-1.\", \"15-20.\", \"16-1.\", \"16-16.\", \"17-10.\", \"17-11.\", \"17-2.\", \"19-1.\", \"19-16.\", \"19-19.\", \"19-20.\", \"19-3.\", \"2-10.\", \"2-11.\", \"2-17.\", \"2-18.\", \"2-20.\", \"2-3.\", \"2-4.\", \"2-5.\", \"2-6.\", \"2-7.\", \"2-8.\", \"3-13.\", \"3-18.\", \"3-3.\", \"4-1.\", \"4-10.\", \"4-11.\", \"4-19.\", \"5-5.\", \"6-15.\", \"7-10.\", \"7-14.\", \"8-18.\", \"8-20.\", \"8-3.\", \"8-8.\"], \"domains\": [1, 2, 3, 4, 5], \"num_examples_per_domain_per_label\": -1, \"pickle_path\": \"/root/csc500-main/datasets/cores.stratified_ds.2022A.pkl\", \"source_or_target_dataset\": \"target\", \"x_transforms\": [\"unit_power\"], \"episode_transforms\": [], \"domain_prefix\": \"CORES_\"}, {\"labels\": [\"3123D52\", \"3123D65\", \"3123D79\", \"3123D80\", \"3123D54\", \"3123D70\", \"3123D7B\", \"3123D89\", \"3123D58\", \"3123D76\", \"3123D7D\", \"3123EFE\", \"3123D64\", \"3123D78\", \"3123D7E\", \"3124E4A\"], \"domains\": [32, 38, 8, 44, 14, 50, 20, 26], \"num_examples_per_domain_per_label\": 2000, \"pickle_path\": \"/root/csc500-main/datasets/oracle.Run1_framed_2000Examples_stratified_ds.2022A.pkl\", \"source_or_target_dataset\": \"source\", \"x_transforms\": [\"unit_power\"], \"episode_transforms\": [], \"domain_prefix\": \"ORACLE.run1_\"}], \"dataset_seed\": 1337, \"seed\": 1337, \"x_shape\": [2, 256], \"domains_source\": [\"ORACLE.run1_32\", \"ORACLE.run1_38\", \"ORACLE.run1_8\", \"ORACLE.run1_44\", \"ORACLE.run1_14\", \"ORACLE.run1_50\", \"ORACLE.run1_20\", \"ORACLE.run1_26\"], \"domains_target\": [\"CORES_1\", \"CORES_2\", \"CORES_3\", \"CORES_4\", \"CORES_5\"]}, \"results\": {\"source_test_label_accuracy\": 0.89921875, \"source_test_label_loss\": 0.2955645024776459, \"target_test_label_accuracy\": 0.7774971941638609, \"target_test_label_loss\": 198.80880737304688, \"source_val_label_accuracy\": 0.8990559895833333, \"source_val_label_loss\": 0.2818475365638733, \"target_val_label_accuracy\": 0.785958904109589, \"target_val_label_loss\": 187.83734130859375, \"total_epochs_trained\": 15, \"total_experiment_time_secs\": 3548.500876188278, \"confusion\": {\"ORACLE.run1_14\": {\"15\": {\"15\": 240}, \"3\": {\"3\": 237, \"5\": 1, \"4\": 2}, \"6\": {\"6\": 208, \"13\": 29, \"2\": 1, \"14\": 2}, \"1\": {\"1\": 238, \"5\": 2}, \"8\": {\"8\": 240}, \"10\": {\"10\": 240}, \"9\": {\"9\": 240}, \"13\": {\"13\": 183, \"6\": 45, \"2\": 4, \"14\": 5, \"5\": 2, \"4\": 1}, \"12\": {\"12\": 240}, \"5\": {\"5\": 196, \"4\": 26, \"1\": 10, \"3\": 3, \"2\": 5}, \"0\": {\"0\": 238, \"3\": 1, \"10\": 1}, \"2\": {\"2\": 175, \"3\": 6, \"5\": 14, \"14\": 38, \"6\": 5, \"15\": 1, \"13\": 1}, \"11\": {\"11\": 233, \"9\": 7}, \"14\": {\"14\": 218, \"2\": 19, \"13\": 3}, \"7\": {\"7\": 240}, \"4\": {\"4\": 228, \"5\": 12}}, \"ORACLE.run1_20\": {\"3\": {\"3\": 196, \"12\": 21, \"9\": 8, \"2\": 10, \"4\": 2, \"7\": 1, \"1\": 2}, \"15\": {\"15\": 219, \"0\": 7, \"1\": 9, \"5\": 5}, \"8\": {\"8\": 234, \"7\": 2, \"5\": 1, \"4\": 3}, \"4\": {\"4\": 235, \"3\": 2, \"8\": 3}, \"14\": {\"14\": 237, \"6\": 3}, \"0\": {\"5\": 17, \"15\": 5, \"0\": 216, \"8\": 2}, \"7\": {\"7\": 221, \"2\": 16, \"9\": 2, \"8\": 1}, \"6\": {\"6\": 236, \"14\": 4}, \"10\": {\"10\": 240}, \"5\": {\"5\": 225, \"12\": 3, \"15\": 5, \"0\": 7}, \"2\": {\"2\": 184, \"7\": 15, \"9\": 27, \"12\": 8, \"3\": 5, \"13\": 1}, \"12\": {\"12\": 184, \"1\": 27, \"3\": 22, \"2\": 4, \"9\": 3}, \"9\": {\"9\": 204, \"2\": 23, \"12\": 3, \"3\": 9, \"7\": 1}, \"1\": {\"1\": 211, \"5\": 8, \"12\": 18, \"15\": 3}, \"11\": {\"11\": 240}, \"13\": {\"13\": 240}}, \"ORACLE.run1_38\": {\"5\": {\"8\": 50, \"5\": 162, \"7\": 15, \"9\": 9, \"6\": 2, \"13\": 1, \"0\": 1}, \"8\": {\"8\": 200, \"5\": 23, \"0\": 8, \"7\": 6, \"13\": 1, \"15\": 2}, \"11\": {\"11\": 240}, \"1\": {\"1\": 236, \"15\": 4}, \"10\": {\"10\": 227, \"13\": 11, \"7\": 2}, \"15\": {\"15\": 228, \"13\": 1, \"1\": 7, \"8\": 1, \"5\": 3}, \"3\": {\"3\": 240}, \"7\": {\"5\": 7, \"8\": 6, \"7\": 224, \"0\": 3}, \"4\": {\"4\": 240}, \"14\": {\"14\": 233, \"2\": 7}, \"9\": {\"9\": 238, \"3\": 1, \"6\": 1}, \"12\": {\"12\": 240}, \"6\": {\"6\": 240}, \"2\": {\"2\": 231, \"13\": 4, \"15\": 1, \"14\": 4}, \"0\": {\"8\": 14, \"0\": 206, \"7\": 6, \"3\": 6, \"10\": 3, \"13\": 2, \"5\": 2, \"11\": 1}, \"13\": {\"13\": 232, \"15\": 1, \"10\": 3, \"0\": 2, \"5\": 1, \"14\": 1}}, \"ORACLE.run1_8\": {\"9\": {\"9\": 240}, \"10\": {\"10\": 216, \"13\": 14, \"14\": 8, \"4\": 2}, \"13\": {\"13\": 173, \"4\": 21, \"6\": 11, \"0\": 10, \"10\": 23, \"14\": 2}, \"0\": {\"0\": 231, \"7\": 2, \"13\": 4, \"6\": 1, \"10\": 1, \"4\": 1}, \"1\": {\"1\": 238, \"11\": 2}, \"15\": {\"15\": 229, \"12\": 11}, \"5\": {\"5\": 232, \"1\": 3, \"10\": 4, \"14\": 1}, \"3\": {\"3\": 239, \"12\": 1}, \"6\": {\"6\": 200, \"7\": 28, \"13\": 9, \"4\": 3}, \"11\": {\"11\": 234, \"1\": 6}, \"8\": {\"8\": 240}, \"4\": {\"4\": 195, \"13\": 31, \"14\": 12, \"6\": 2}, \"12\": {\"12\": 188, \"15\": 43, \"3\": 7, \"8\": 2}, \"14\": {\"14\": 213, \"4\": 14, \"1\": 7, \"10\": 6}, \"2\": {\"2\": 230, \"3\": 4, \"7\": 6}, \"7\": {\"7\": 219, \"6\": 19, \"0\": 2}}, \"ORACLE.run1_50\": {\"7\": {\"7\": 230, \"13\": 4, \"4\": 1, \"6\": 3, \"5\": 2}, \"3\": {\"3\": 239, \"8\": 1}, \"8\": {\"8\": 238, \"10\": 2}, \"2\": {\"2\": 231, \"0\": 9}, \"14\": {\"14\": 240}, \"4\": {\"4\": 195, \"5\": 25, \"15\": 14, \"11\": 1, \"6\": 3, \"7\": 2}, \"6\": {\"6\": 236, \"4\": 1, \"13\": 1, \"5\": 2}, \"15\": {\"15\": 222, \"4\": 6, \"11\": 2, \"1\": 8, \"6\": 1, \"5\": 1}, \"10\": {\"10\": 234, \"8\": 3, \"0\": 1, \"13\": 2}, \"11\": {\"11\": 231, \"15\": 4, \"12\": 3, \"1\": 1, \"9\": 1}, \"13\": {\"13\": 234, \"6\": 1, \"1\": 1, \"7\": 4}, \"9\": {\"9\": 226, \"12\": 4, \"11\": 10}, \"0\": {\"0\": 219, \"2\": 17, \"10\": 4}, \"1\": {\"1\": 224, \"15\": 10, \"2\": 2, \"5\": 1, \"6\": 1, \"4\": 2}, \"12\": {\"12\": 232, \"9\": 3, \"14\": 3, \"11\": 2}, \"5\": {\"4\": 37, \"5\": 161, \"7\": 12, \"13\": 19, \"1\": 8, \"15\": 2, \"6\": 1}}, \"ORACLE.run1_32\": {\"8\": {\"8\": 214, \"13\": 5, \"0\": 18, \"14\": 2, \"5\": 1}, \"14\": {\"14\": 213, \"0\": 13, \"11\": 11, \"7\": 3}, \"2\": {\"2\": 215, \"4\": 25}, \"0\": {\"0\": 212, \"14\": 15, \"7\": 2, \"8\": 11}, \"1\": {\"1\": 240}, \"10\": {\"10\": 240}, \"11\": {\"11\": 237, \"14\": 3}, \"5\": {\"5\": 159, \"7\": 61, \"13\": 6, \"0\": 3, \"8\": 3, \"3\": 3, \"14\": 1, \"4\": 4}, \"15\": {\"15\": 240}, \"3\": {\"3\": 231, \"11\": 4, \"13\": 3, \"5\": 2}, \"12\": {\"12\": 240}, \"7\": {\"7\": 194, \"5\": 29, \"14\": 6, \"4\": 8, \"13\": 1, \"0\": 1, \"2\": 1}, \"13\": {\"13\": 211, \"4\": 13, \"7\": 7, \"3\": 5, \"5\": 4}, \"6\": {\"6\": 240}, \"4\": {\"2\": 30, \"4\": 195, \"13\": 5, \"7\": 5, \"5\": 5}, \"9\": {\"9\": 240}}, \"ORACLE.run1_26\": {\"4\": {\"4\": 206, \"7\": 6, \"0\": 6, \"14\": 7, \"8\": 14, \"1\": 1}, \"12\": {\"12\": 240}, \"10\": {\"14\": 13, \"10\": 140, \"8\": 29, \"0\": 55, \"4\": 1, \"6\": 1, \"9\": 1}, \"0\": {\"0\": 112, \"10\": 61, \"4\": 13, \"8\": 27, \"14\": 24, \"6\": 2, \"7\": 1}, \"13\": {\"13\": 220, \"5\": 12, \"9\": 2, \"2\": 4, \"15\": 2}, \"9\": {\"9\": 223, \"15\": 12, \"6\": 2, \"13\": 2, \"5\": 1}, \"3\": {\"3\": 195, \"2\": 41, \"7\": 4}, \"2\": {\"2\": 128, \"3\": 63, \"7\": 21, \"13\": 5, \"5\": 16, \"15\": 5, \"9\": 2}, \"5\": {\"5\": 218, \"3\": 1, \"2\": 12, \"13\": 8, \"15\": 1}, \"14\": {\"14\": 170, \"10\": 15, \"0\": 27, \"4\": 15, \"1\": 7, \"8\": 5, \"15\": 1}, \"8\": {\"7\": 25, \"8\": 150, \"14\": 6, \"0\": 20, \"2\": 3, \"15\": 4, \"4\": 16, \"10\": 16}, \"7\": {\"7\": 200, \"8\": 13, \"2\": 14, \"4\": 4, \"3\": 8, \"15\": 1}, \"6\": {\"6\": 224, \"15\": 13, \"9\": 1, \"10\": 2}, \"11\": {\"11\": 240}, \"15\": {\"15\": 206, \"8\": 6, \"6\": 5, \"5\": 3, \"2\": 3, \"10\": 3, \"0\": 2, \"7\": 2, \"9\": 10}, \"1\": {\"1\": 230, \"14\": 7, \"4\": 1, \"0\": 1, \"7\": 1}}, \"ORACLE.run1_44\": {\"12\": {\"12\": 217, \"1\": 19, \"3\": 4}, \"7\": {\"7\": 186, \"2\": 17, \"9\": 35, \"6\": 2}, \"5\": {\"5\": 219, \"14\": 4, \"15\": 6, \"0\": 7, \"8\": 4}, \"15\": {\"15\": 216, \"14\": 8, \"5\": 5, \"8\": 4, \"0\": 7}, \"8\": {\"0\": 79, \"8\": 153, \"15\": 6, \"5\": 2}, \"2\": {\"2\": 207, \"7\": 19, \"10\": 7, \"1\": 7}, \"13\": {\"13\": 181, \"6\": 33, \"9\": 25, \"11\": 1}, \"4\": {\"4\": 186, \"14\": 53, \"15\": 1}, \"0\": {\"0\": 184, \"8\": 46, \"5\": 4, \"15\": 6}, \"6\": {\"6\": 192, \"9\": 18, \"13\": 28, \"7\": 2}, \"9\": {\"9\": 159, \"7\": 51, \"13\": 21, \"6\": 9}, \"11\": {\"11\": 236, \"13\": 4}, \"10\": {\"1\": 13, \"10\": 215, \"12\": 2, \"2\": 10}, \"14\": {\"14\": 166, \"4\": 60, \"15\": 11, \"5\": 3}, \"1\": {\"2\": 7, \"1\": 206, \"12\": 12, \"10\": 10, \"3\": 5}, \"3\": {\"3\": 231, \"1\": 6, \"2\": 2, \"12\": 1}}, \"CORES_3\": {\"43\": {\"24\": 13, \"43\": 99, \"13\": 9, \"55\": 1, \"56\": 1, \"15\": 1, \"22\": 2, \"10\": 2}, \"9\": {\"9\": 135, \"3\": 2, \"33\": 1, \"46\": 1, \"30\": 2, \"50\": 2, \"48\": 1, \"52\": 3, \"6\": 1, \"20\": 1, \"12\": 1}, \"6\": {\"46\": 3, \"6\": 11, \"41\": 1, \"27\": 4, \"34\": 1, \"54\": 3, \"16\": 2, \"25\": 6, \"11\": 1, \"30\": 8, \"8\": 2, \"50\": 6, \"38\": 2, \"15\": 1, \"9\": 3, \"40\": 3, \"48\": 3, \"36\": 1, \"17\": 5, \"53\": 4, \"18\": 5, \"23\": 1, \"5\": 1, \"2\": 1, \"21\": 1, \"52\": 3, \"51\": 2, \"29\": 2, \"3\": 1, \"47\": 1}, \"3\": {\"3\": 64, \"46\": 4, \"25\": 5, \"30\": 3, \"41\": 1, \"9\": 19, \"48\": 4, \"20\": 1, \"6\": 3, \"16\": 2, \"50\": 8, \"52\": 9, \"54\": 1, \"18\": 4, \"5\": 1, \"23\": 2, \"4\": 3, \"53\": 2, \"21\": 2, \"29\": 3, \"15\": 1, \"57\": 1, \"1\": 1}, \"16\": {\"16\": 118, \"46\": 5, \"26\": 1, \"23\": 6, \"6\": 1, \"1\": 2, \"15\": 1}, \"51\": {\"51\": 111, \"20\": 8, \"30\": 1, \"12\": 5, \"53\": 2, \"18\": 1}, \"31\": {\"31\": 28}, \"46\": {\"37\": 1, \"16\": 11, \"46\": 48, \"3\": 7, \"52\": 7, \"6\": 2, \"11\": 8, \"44\": 1, \"48\": 2, \"1\": 1, \"18\": 3, \"0\": 3, \"29\": 1, \"30\": 2, \"25\": 3, \"9\": 4, \"43\": 3, \"4\": 1, \"50\": 9, \"55\": 2, \"57\": 2, \"23\": 3, \"33\": 1, \"41\": 2, \"40\": 3, \"2\": 1, \"47\": 1, \"5\": 1, \"27\": 1}, \"19\": {\"19\": 117, \"40\": 1, \"25\": 4, \"46\": 1, \"3\": 1}, \"8\": {\"8\": 130, \"54\": 20, \"36\": 2}, \"18\": {\"6\": 1, \"18\": 61, \"27\": 2, \"48\": 2, \"50\": 3, \"30\": 8, \"36\": 1, \"9\": 1, \"52\": 4, \"32\": 1}, \"37\": {\"37\": 28}, \"24\": {\"24\": 80, \"13\": 9, \"14\": 3, \"10\": 3, \"43\": 6, \"22\": 2, \"56\": 1}, \"10\": {\"10\": 52, \"56\": 3, \"24\": 7, \"14\": 1, \"13\": 1}, \"44\": {\"44\": 76, \"42\": 2, \"34\": 1, \"40\": 4, \"47\": 3, \"29\": 1, \"55\": 1}, \"14\": {\"31\": 4, \"22\": 1, \"14\": 19, \"56\": 5, \"55\": 2, \"24\": 3, \"10\": 5, \"13\": 1}, \"38\": {\"38\": 26, \"33\": 1, \"30\": 1}, \"53\": {\"53\": 122, \"36\": 3, \"3\": 1, \"54\": 3, \"8\": 4, \"50\": 2, \"30\": 1, \"9\": 1, \"52\": 2, \"25\": 1}, \"20\": {\"20\": 109, \"21\": 2, \"12\": 1, \"27\": 1, \"53\": 3, \"51\": 9, \"54\": 1, \"6\": 1, \"45\": 1, \"30\": 1, \"50\": 2, \"9\": 1}, \"32\": {\"32\": 28}, \"36\": {\"36\": 94, \"32\": 1, \"54\": 1, \"8\": 3, \"17\": 1}, \"33\": {\"33\": 26, \"30\": 1, \"48\": 1}, \"56\": {\"56\": 129, \"14\": 3, \"49\": 1, \"31\": 1, \"24\": 1, \"13\": 1}, \"23\": {\"23\": 119, \"3\": 3, \"1\": 1, \"16\": 6, \"52\": 1}, \"54\": {\"54\": 82, \"8\": 16, \"36\": 2}, \"21\": {\"21\": 103, \"25\": 4, \"30\": 1, \"47\": 1, \"51\": 2, \"45\": 1, \"52\": 4, \"3\": 3, \"19\": 1, \"40\": 1, \"6\": 1, \"20\": 2, \"46\": 2}, \"28\": {\"28\": 24, \"35\": 1, \"5\": 1, \"22\": 1, \"7\": 1}, \"26\": {\"26\": 19, \"15\": 2, \"57\": 1, \"16\": 2}, \"48\": {\"48\": 87, \"18\": 4, \"52\": 2, \"8\": 6, \"50\": 3, \"17\": 3, \"9\": 2, \"30\": 2, \"3\": 1, \"54\": 1, \"27\": 2, \"29\": 1, \"6\": 2}, \"52\": {\"52\": 97, \"30\": 5, \"48\": 2, \"18\": 5, \"46\": 1, \"27\": 1, \"3\": 2, \"50\": 1, \"53\": 1, \"9\": 1, \"23\": 1, \"8\": 1}, \"39\": {\"39\": 16}, \"22\": {\"28\": 4, \"22\": 101, \"31\": 1, \"49\": 4, \"13\": 10, \"43\": 7, \"7\": 1, \"10\": 5, \"56\": 1, \"24\": 6}, \"13\": {\"13\": 104, \"24\": 9, \"49\": 1, \"56\": 2, \"43\": 8, \"28\": 1, \"10\": 2, \"22\": 1}, \"2\": {\"2\": 29, \"48\": 1, \"8\": 1, \"6\": 1}, \"34\": {\"34\": 30, \"5\": 2}, \"27\": {\"27\": 121, \"17\": 3, \"50\": 4, \"53\": 2, \"38\": 1, \"54\": 1}, \"45\": {\"27\": 6, \"45\": 21, \"20\": 2, \"30\": 5, \"54\": 1, \"2\": 1, \"12\": 4, \"25\": 1, \"17\": 3, \"53\": 1, \"4\": 6, \"32\": 2, \"38\": 1, \"40\": 1, \"19\": 1, \"21\": 1, \"6\": 1, \"51\": 1, \"36\": 1}, \"35\": {\"35\": 28}, \"29\": {\"29\": 120, \"15\": 1, \"57\": 2, \"48\": 1, \"47\": 1, \"1\": 2, \"16\": 1}, \"25\": {\"25\": 103, \"21\": 9, \"41\": 2, \"33\": 1, \"40\": 6, \"6\": 1, \"19\": 4, \"9\": 4, \"20\": 8, \"46\": 1, \"44\": 1, \"3\": 4}, \"0\": {\"0\": 122, \"11\": 1, \"47\": 1}, \"41\": {\"41\": 26, \"57\": 1, \"29\": 1}, \"11\": {\"5\": 7, \"11\": 113, \"47\": 5, \"0\": 8, \"1\": 1, \"15\": 5, \"46\": 2, \"16\": 1}, \"5\": {\"5\": 92, \"34\": 2, \"47\": 4, \"11\": 6, \"0\": 2, \"15\": 1, \"57\": 1}, \"1\": {\"1\": 93, \"57\": 1, \"15\": 4, \"16\": 2}, \"57\": {\"57\": 103, \"47\": 3, \"1\": 5, \"29\": 1, \"15\": 3, \"5\": 1}, \"17\": {\"54\": 7, \"17\": 94, \"10\": 1, \"30\": 2, \"32\": 2, \"56\": 1, \"8\": 1}, \"7\": {\"7\": 30, \"28\": 2, \"43\": 2, \"49\": 1, \"22\": 1}, \"12\": {\"12\": 58, \"21\": 1, \"38\": 1, \"4\": 4, \"27\": 2, \"53\": 4, \"51\": 5, \"20\": 2, \"30\": 4, \"8\": 2, \"25\": 2, \"48\": 1, \"54\": 1, \"9\": 1, \"45\": 1, \"17\": 2, \"6\": 1}, \"47\": {\"47\": 69, \"42\": 1, \"22\": 2, \"15\": 3, \"11\": 3, \"55\": 1, \"16\": 1, \"57\": 8, \"0\": 1, \"5\": 2, \"29\": 1}, \"40\": {\"40\": 120, \"29\": 5, \"46\": 2, \"3\": 2, \"19\": 4, \"1\": 2, \"15\": 1}, \"15\": {\"15\": 129, \"16\": 2, \"11\": 1, \"0\": 4, \"46\": 1, \"5\": 2, \"1\": 1, \"13\": 1, \"43\": 1}, \"42\": {\"42\": 20, \"44\": 5, \"26\": 1, \"11\": 1, \"57\": 1}, \"55\": {\"55\": 114, \"31\": 1, \"22\": 10, \"13\": 12, \"24\": 7, \"43\": 4, \"35\": 1, \"44\": 1}, \"49\": {\"49\": 17, \"13\": 2, \"22\": 1}, \"30\": {\"30\": 94, \"53\": 1, \"48\": 2, \"12\": 1, \"44\": 1, \"17\": 10, \"6\": 1, \"27\": 3, \"50\": 3, \"7\": 1, \"47\": 1, \"18\": 2}, \"50\": {\"9\": 4, \"50\": 35, \"3\": 4, \"30\": 16, \"32\": 1, \"19\": 2, \"54\": 3, \"25\": 2, \"48\": 4, \"53\": 15, \"46\": 3, \"18\": 2, \"8\": 5, \"27\": 9, \"17\": 8, \"4\": 2, \"20\": 5, \"21\": 2, \"29\": 1, \"6\": 3, \"23\": 2, \"36\": 1, \"16\": 1, \"52\": 3, \"11\": 1}, \"4\": {\"4\": 134, \"6\": 1, \"3\": 1}}, \"CORES_4\": {\"35\": {\"35\": 39, \"0\": 1}, \"25\": {\"25\": 118, \"44\": 5, \"51\": 1, \"9\": 4, \"33\": 1, \"6\": 2, \"19\": 3}, \"24\": {\"24\": 41, \"22\": 5, \"43\": 6, \"0\": 2, \"37\": 1, \"56\": 1}, \"48\": {\"48\": 80, \"18\": 3, \"17\": 5, \"21\": 3, \"8\": 13, \"27\": 26, \"9\": 2, \"23\": 2, \"3\": 3, \"50\": 1}, \"51\": {\"51\": 118, \"20\": 10, \"6\": 2, \"12\": 2, \"53\": 4, \"25\": 3, \"3\": 1, \"30\": 1, \"50\": 2, \"45\": 1}, \"13\": {\"13\": 107, \"38\": 3, \"10\": 4, \"56\": 2, \"14\": 1, \"2\": 1, \"22\": 1, \"43\": 1}, \"14\": {\"14\": 10, \"38\": 4, \"10\": 2}, \"32\": {\"32\": 22, \"11\": 2}, \"30\": {\"30\": 37, \"21\": 2, \"27\": 2, \"48\": 2, \"8\": 1}, \"34\": {\"34\": 24}, \"9\": {\"9\": 114, \"12\": 2, \"53\": 4, \"50\": 4, \"45\": 2, \"40\": 1, \"51\": 1, \"4\": 4, \"3\": 1, \"20\": 2, \"6\": 1}, \"1\": {\"1\": 40}, \"0\": {\"24\": 2, \"0\": 65, \"22\": 2, \"43\": 7, \"10\": 2, \"32\": 2}, \"38\": {\"14\": 1, \"38\": 35, \"2\": 2, \"13\": 1, \"10\": 1}, \"22\": {\"32\": 2, \"0\": 11, \"22\": 67, \"10\": 9, \"7\": 1, \"56\": 11, \"24\": 6, \"35\": 3, \"43\": 10, \"55\": 6, \"13\": 1, \"11\": 1}, \"40\": {\"40\": 95, \"11\": 2, \"33\": 5, \"44\": 4, \"41\": 2, \"19\": 5, \"47\": 3, \"46\": 1, \"15\": 1, \"16\": 1, \"29\": 1}, \"6\": {\"34\": 1, \"50\": 5, \"40\": 5, \"21\": 1, \"33\": 2, \"28\": 2, \"51\": 3, \"16\": 2, \"25\": 8, \"6\": 29, \"44\": 4, \"45\": 1, \"54\": 2, \"3\": 2, \"53\": 3, \"20\": 5, \"4\": 6, \"11\": 2, \"29\": 1, \"9\": 4, \"48\": 2, \"23\": 2, \"5\": 6, \"57\": 1, \"22\": 1, \"18\": 2, \"30\": 1, \"17\": 1, \"52\": 4, \"41\": 1, \"46\": 1, \"19\": 2}, \"16\": {\"16\": 73, \"41\": 2, \"1\": 1, \"46\": 4, \"0\": 1, \"47\": 8, \"57\": 3, \"5\": 2, \"29\": 1, \"15\": 1}, \"11\": {\"11\": 87, \"15\": 14, \"46\": 1, \"47\": 1, \"5\": 1}, \"20\": {\"20\": 88, \"50\": 4, \"51\": 16, \"12\": 2, \"53\": 7, \"9\": 1, \"21\": 1, \"27\": 1, \"4\": 1, \"3\": 1}, \"17\": {\"17\": 69, \"8\": 1, \"48\": 3, \"21\": 2, \"30\": 1, \"27\": 2, \"4\": 1, \"3\": 1}, \"26\": {\"26\": 23, \"4\": 1}, \"54\": {\"54\": 102, \"52\": 1, \"18\": 2, \"36\": 3}, \"55\": {\"55\": 107, \"24\": 2, \"43\": 10, \"22\": 8, \"0\": 7, \"35\": 7, \"10\": 4, \"56\": 1, \"57\": 1, \"11\": 2, \"32\": 1, \"31\": 1, \"40\": 2, \"5\": 1}, \"50\": {\"48\": 6, \"20\": 5, \"50\": 22, \"21\": 18, \"17\": 8, \"51\": 5, \"45\": 3, \"8\": 9, \"4\": 8, \"52\": 1, \"25\": 5, \"9\": 7, \"6\": 2, \"19\": 2, \"12\": 1, \"3\": 8, \"27\": 7, \"53\": 4, \"36\": 2, \"22\": 1, \"30\": 2, \"26\": 2, \"23\": 1, \"44\": 2, \"40\": 1}, \"19\": {\"19\": 129, \"28\": 2, \"44\": 8, \"5\": 1, \"6\": 1, \"33\": 1}, \"44\": {\"40\": 11, \"44\": 88, \"19\": 19, \"29\": 4}, \"47\": {\"41\": 2, \"47\": 79, \"1\": 2, \"57\": 13, \"29\": 8, \"16\": 5, \"46\": 8, \"5\": 3}, \"33\": {\"40\": 3, \"33\": 32, \"6\": 1}, \"5\": {\"1\": 1, \"5\": 64, \"47\": 8, \"29\": 9, \"41\": 6, \"16\": 7, \"55\": 1, \"15\": 4, \"46\": 2, \"11\": 1, \"33\": 1, \"57\": 3, \"52\": 1}, \"18\": {\"18\": 67, \"23\": 11, \"3\": 4, \"48\": 7, \"9\": 2, \"21\": 1, \"36\": 4, \"17\": 1, \"27\": 1, \"53\": 4, \"50\": 1, \"25\": 1, \"33\": 1, \"19\": 1, \"20\": 2}, \"21\": {\"21\": 109, \"30\": 6, \"27\": 5, \"48\": 1, \"8\": 2, \"50\": 1}, \"41\": {\"41\": 30, \"47\": 1, \"29\": 1, \"57\": 1, \"46\": 1, \"5\": 2}, \"23\": {\"23\": 94, \"18\": 13, \"3\": 3, \"42\": 1, \"54\": 7, \"52\": 2, \"36\": 4, \"48\": 1, \"50\": 1, \"20\": 1, \"9\": 1}, \"39\": {\"39\": 18, \"57\": 1, \"47\": 1}, \"37\": {\"37\": 24}, \"8\": {\"8\": 129, \"27\": 15}, \"49\": {\"49\": 20}, \"53\": {\"17\": 1, \"20\": 5, \"8\": 2, \"53\": 117, \"27\": 1, \"54\": 2, \"36\": 2, \"18\": 1, \"3\": 2, \"50\": 3, \"30\": 1, \"21\": 2, \"12\": 1}, \"31\": {\"35\": 1, \"31\": 26, \"33\": 1}, \"28\": {\"28\": 30, \"25\": 1, \"26\": 1}, \"3\": {\"20\": 3, \"8\": 3, \"3\": 43, \"21\": 10, \"53\": 8, \"45\": 1, \"52\": 1, \"18\": 10, \"6\": 1, \"9\": 3, \"48\": 9, \"54\": 2, \"17\": 3, \"50\": 5, \"36\": 7, \"27\": 3, \"25\": 2, \"30\": 4, \"23\": 4, \"5\": 1, \"19\": 1}, \"27\": {\"27\": 121, \"8\": 11, \"48\": 2, \"9\": 1, \"30\": 1, \"3\": 1, \"21\": 1}, \"46\": {\"46\": 70, \"16\": 11, \"52\": 5, \"1\": 8, \"23\": 4, \"24\": 1, \"55\": 3, \"35\": 1, \"22\": 3, \"54\": 1, \"41\": 1, \"15\": 4, \"47\": 4, \"56\": 2, \"49\": 1, \"0\": 1, \"32\": 1, \"5\": 3, \"57\": 2, \"10\": 1, \"43\": 1}, \"12\": {\"12\": 78, \"21\": 3, \"50\": 2, \"51\": 2, \"48\": 1, \"45\": 1, \"9\": 1, \"17\": 1, \"27\": 2, \"8\": 1}, \"7\": {\"7\": 17, \"32\": 1, \"46\": 2, \"35\": 1, \"11\": 1, \"41\": 1, \"57\": 1}, \"4\": {\"4\": 117, \"9\": 6, \"6\": 2, \"5\": 1, \"3\": 1, \"42\": 1, \"45\": 2, \"29\": 1, \"53\": 1}, \"42\": {\"42\": 32}, \"43\": {\"43\": 90, \"24\": 4, \"0\": 8, \"32\": 1, \"2\": 1, \"22\": 7, \"10\": 5, \"11\": 5, \"56\": 6, \"49\": 1, \"35\": 1, \"15\": 1}, \"29\": {\"29\": 113, \"7\": 1, \"57\": 2, \"16\": 1, \"41\": 1, \"5\": 2}, \"57\": {\"57\": 95, \"5\": 4, \"47\": 1}, \"52\": {\"18\": 2, \"52\": 87, \"6\": 1, \"23\": 8, \"54\": 2, \"42\": 1, \"46\": 1, \"50\": 2}, \"45\": {\"8\": 3, \"3\": 1, \"17\": 10, \"45\": 47, \"27\": 7, \"12\": 5, \"25\": 1, \"9\": 3, \"30\": 1, \"21\": 3, \"51\": 4, \"54\": 1, \"20\": 1, \"18\": 2, \"48\": 4, \"6\": 1, \"50\": 1, \"4\": 1}, \"36\": {\"36\": 78, \"27\": 5, \"8\": 4, \"3\": 2, \"48\": 3}, \"10\": {\"10\": 99, \"37\": 1, \"14\": 2, \"35\": 1, \"56\": 8, \"0\": 3, \"43\": 4, \"22\": 7, \"13\": 1}, \"15\": {\"15\": 127, \"11\": 3, \"16\": 1, \"46\": 2, \"47\": 1}, \"56\": {\"0\": 2, \"56\": 105, \"10\": 10, \"22\": 3, \"43\": 3, \"14\": 1}, \"2\": {\"38\": 3, \"2\": 33}}, \"CORES_5\": {\"47\": {\"47\": 87, \"34\": 3, \"16\": 4, \"46\": 3, \"11\": 1, \"36\": 1, \"57\": 1}, \"53\": {\"53\": 121, \"30\": 9, \"1\": 3, \"27\": 2, \"18\": 1, \"8\": 11, \"6\": 1, \"17\": 1, \"48\": 1}, \"29\": {\"29\": 115, \"28\": 2, \"15\": 3, \"14\": 1, \"43\": 1, \"40\": 1, \"11\": 1, \"0\": 2}, \"52\": {\"42\": 4, \"52\": 110, \"57\": 6, \"46\": 2, \"44\": 1, \"54\": 5, \"23\": 1, \"39\": 1}, \"55\": {\"55\": 84, \"33\": 1, \"6\": 2, \"25\": 9, \"4\": 3, \"19\": 12, \"16\": 7, \"45\": 4, \"44\": 1, \"57\": 6, \"54\": 3, \"46\": 1, \"50\": 5, \"21\": 3, \"18\": 1, \"47\": 1, \"52\": 1}, \"17\": {\"17\": 111, \"48\": 3, \"26\": 1, \"1\": 1}, \"42\": {\"42\": 39, \"52\": 1}, \"33\": {\"33\": 32}, \"11\": {\"11\": 132, \"15\": 9, \"16\": 2, \"43\": 3, \"47\": 1, \"29\": 1}, \"19\": {\"19\": 116, \"5\": 1, \"16\": 1}, \"1\": {\"1\": 110, \"17\": 9, \"8\": 10, \"48\": 6, \"6\": 3, \"30\": 6}, \"44\": {\"44\": 117, \"40\": 7, \"15\": 3, \"5\": 7, \"11\": 1, \"43\": 1, \"29\": 3, \"37\": 1, \"36\": 2}, \"49\": {\"49\": 32, \"44\": 1, \"34\": 2, \"29\": 1}, \"4\": {\"4\": 88, \"12\": 1, \"51\": 2, \"50\": 2, \"55\": 1, \"6\": 1, \"30\": 1, \"45\": 4}, \"6\": {\"17\": 9, \"1\": 11, \"8\": 13, \"30\": 18, \"45\": 5, \"9\": 5, \"32\": 2, \"6\": 21, \"53\": 3, \"21\": 4, \"19\": 1, \"27\": 4, \"25\": 2, \"48\": 7, \"33\": 1, \"26\": 2, \"51\": 3, \"38\": 1, \"12\": 1, \"20\": 1, \"55\": 1, \"50\": 1}, \"39\": {\"39\": 18, \"52\": 1, \"42\": 1}, \"50\": {\"50\": 41, \"27\": 7, \"20\": 11, \"53\": 11, \"42\": 2, \"39\": 2, \"19\": 6, \"32\": 4, \"54\": 2, \"18\": 3, \"8\": 4, \"3\": 2, \"1\": 2, \"16\": 1, \"48\": 2, \"47\": 2, \"44\": 3, \"6\": 5, \"4\": 2, \"25\": 7, \"15\": 3, \"51\": 2, \"9\": 7, \"21\": 5, \"17\": 1, \"30\": 1, \"45\": 2, \"41\": 1, \"5\": 2, \"57\": 1, \"11\": 1, \"55\": 2, \"23\": 1}, \"56\": {\"56\": 115, \"22\": 3, \"24\": 4, \"43\": 2, \"31\": 1, \"35\": 1, \"14\": 1, \"0\": 3}, \"25\": {\"25\": 128, \"19\": 5, \"45\": 3, \"21\": 4, \"50\": 3, \"20\": 1}, \"28\": {\"28\": 28, \"11\": 1, \"34\": 1, \"29\": 1, \"36\": 1}, \"35\": {\"35\": 35, \"10\": 1}, \"24\": {\"24\": 70, \"35\": 1, \"0\": 4, \"56\": 2, \"43\": 1, \"15\": 2}, \"21\": {\"21\": 127, \"39\": 2, \"1\": 1, \"25\": 1, \"53\": 1}, \"45\": {\"45\": 40, \"1\": 4, \"53\": 4, \"32\": 3, \"6\": 5, \"38\": 1, \"51\": 1, \"5\": 1, \"25\": 11, \"21\": 2, \"20\": 3, \"19\": 6, \"4\": 6, \"55\": 3, \"12\": 3, \"8\": 3, \"7\": 2, \"48\": 2, \"9\": 11, \"18\": 2, \"50\": 3, \"27\": 6, \"30\": 1, \"17\": 1}, \"16\": {\"16\": 118, \"46\": 8, \"3\": 6, \"47\": 5, \"40\": 1, \"57\": 3, \"11\": 3}, \"37\": {\"37\": 24}, \"57\": {\"57\": 128, \"52\": 2, \"16\": 1, \"46\": 1}, \"34\": {\"34\": 30, \"49\": 6}, \"38\": {\"38\": 32}, \"48\": {\"48\": 78, \"30\": 5, \"17\": 16, \"53\": 3, \"8\": 14, \"1\": 10, \"6\": 2, \"26\": 2}, \"26\": {\"17\": 1, \"26\": 23}, \"9\": {\"9\": 114, \"38\": 2, \"27\": 17, \"51\": 4, \"55\": 3, \"30\": 2, \"4\": 1, \"45\": 3, \"25\": 1, \"21\": 1, \"6\": 2, \"53\": 2}, \"18\": {\"23\": 5, \"53\": 6, \"18\": 42, \"1\": 2, \"48\": 2, \"27\": 4, \"8\": 1, \"32\": 1, \"6\": 1}, \"3\": {\"3\": 55, \"15\": 1, \"16\": 8, \"40\": 1, \"57\": 6, \"11\": 2, \"43\": 3, \"47\": 6, \"14\": 1, \"46\": 8, \"34\": 1, \"31\": 1, \"10\": 1, \"29\": 2, \"0\": 1, \"56\": 1, \"52\": 2}, \"23\": {\"23\": 97, \"18\": 8, \"27\": 6, \"50\": 3, \"54\": 6, \"42\": 1, \"52\": 2, \"48\": 1}, \"15\": {\"15\": 137, \"43\": 10, \"11\": 3, \"29\": 1, \"14\": 1, \"13\": 1, \"0\": 1}, \"10\": {\"10\": 58, \"13\": 8, \"24\": 1, \"35\": 1}, \"46\": {\"46\": 89, \"3\": 7, \"49\": 1, \"43\": 1, \"54\": 4, \"16\": 11, \"52\": 7, \"11\": 1, \"57\": 23, \"56\": 1, \"5\": 1, \"39\": 1, \"42\": 1}, \"22\": {\"22\": 25, \"5\": 1, \"29\": 1, \"15\": 1}, \"54\": {\"54\": 100, \"42\": 1, \"23\": 4, \"50\": 1, \"15\": 1, \"5\": 1, \"52\": 3, \"20\": 1}, \"27\": {\"27\": 136, \"8\": 1, \"48\": 2, \"9\": 9, \"30\": 4, \"53\": 4, \"18\": 1, \"6\": 3}, \"41\": {\"41\": 27, \"50\": 1}, \"31\": {\"31\": 34, \"0\": 1, \"24\": 1}, \"0\": {\"0\": 122, \"15\": 1, \"56\": 1}, \"7\": {\"41\": 1, \"7\": 26, \"9\": 2, \"45\": 1, \"38\": 2}, \"2\": {\"2\": 23, \"29\": 1, \"3\": 1, \"37\": 1, \"14\": 1, \"28\": 1}, \"14\": {\"40\": 2, \"14\": 21, \"36\": 6, \"28\": 3, \"2\": 1, \"11\": 2, \"0\": 1, \"44\": 1, \"43\": 3, \"22\": 1, \"15\": 2, \"29\": 1}, \"40\": {\"40\": 88, \"43\": 6, \"44\": 11, \"3\": 1, \"47\": 1, \"14\": 1, \"36\": 3, \"29\": 5, \"11\": 2, \"46\": 1, \"5\": 2, \"15\": 3}, \"5\": {\"5\": 108, \"40\": 5, \"36\": 1, \"44\": 8, \"11\": 4, \"43\": 2}, \"12\": {\"12\": 71, \"6\": 2, \"53\": 2, \"30\": 1, \"8\": 3, \"48\": 1, \"45\": 2, \"1\": 4, \"27\": 2, \"32\": 1, \"9\": 3, \"38\": 1, \"20\": 1, \"5\": 1, \"51\": 1}, \"43\": {\"43\": 101, \"31\": 4, \"11\": 13, \"15\": 16, \"29\": 1, \"2\": 1, \"36\": 1, \"0\": 1, \"24\": 1, \"56\": 2, \"40\": 1}, \"13\": {\"13\": 133, \"10\": 9, \"22\": 1, \"24\": 2, \"43\": 1, \"56\": 2}, \"36\": {\"43\": 5, \"36\": 59, \"3\": 4, \"46\": 1, \"15\": 6, \"14\": 1, \"0\": 4, \"40\": 1, \"56\": 1, \"11\": 3, \"47\": 4, \"49\": 1, \"16\": 1, \"29\": 1}, \"8\": {\"48\": 4, \"8\": 104, \"26\": 3, \"1\": 11, \"30\": 4, \"17\": 13, \"6\": 7, \"55\": 1, \"33\": 1, \"53\": 2}, \"32\": {\"32\": 26, \"30\": 2, \"6\": 1, \"5\": 1, \"20\": 1, \"21\": 1}, \"30\": {\"30\": 97, \"8\": 9, \"20\": 1, \"48\": 5, \"17\": 4, \"1\": 2, \"6\": 6, \"38\": 1, \"53\": 3}, \"51\": {\"6\": 7, \"51\": 104, \"20\": 12, \"7\": 1, \"18\": 1, \"53\": 3, \"1\": 2, \"25\": 1, \"19\": 1, \"8\": 1, \"12\": 4, \"45\": 1}, \"20\": {\"20\": 92, \"51\": 22, \"25\": 2, \"27\": 5, \"45\": 1, \"9\": 5, \"50\": 2, \"6\": 2, \"30\": 1, \"53\": 5, \"1\": 1}}, \"CORES_1\": {\"46\": {\"46\": 64, \"51\": 6, \"4\": 11, \"9\": 3, \"19\": 3, \"26\": 1, \"14\": 3, \"5\": 9, \"40\": 3, \"48\": 7, \"8\": 1, \"50\": 7, \"25\": 4, \"45\": 4, \"13\": 1, \"41\": 2, \"53\": 4, \"18\": 1, \"2\": 1, \"12\": 1, \"30\": 2, \"6\": 2}, \"16\": {\"16\": 124, \"7\": 1, \"25\": 1, \"19\": 1, \"13\": 2, \"45\": 2, \"54\": 2, \"37\": 1}, \"26\": {\"26\": 24}, \"10\": {\"10\": 70, \"24\": 5, \"52\": 5, \"22\": 3, \"27\": 5, \"0\": 1, \"47\": 6, \"35\": 1}, \"9\": {\"9\": 121, \"8\": 4, \"17\": 4, \"50\": 11, \"6\": 7, \"48\": 4, \"5\": 3, \"30\": 1, \"53\": 1}, \"28\": {\"28\": 21, \"52\": 3, \"47\": 1, \"49\": 1, \"22\": 1, \"43\": 1}, \"51\": {\"51\": 139, \"41\": 1, \"7\": 1, \"37\": 1, \"13\": 9, \"16\": 2, \"45\": 2, \"18\": 1}, \"1\": {\"1\": 93, \"42\": 1, \"19\": 4, \"57\": 1, \"16\": 1}, \"55\": {\"55\": 123, \"11\": 4, \"22\": 2, \"44\": 8, \"21\": 1, \"47\": 3, \"0\": 3, \"3\": 3, \"24\": 1}, \"27\": {\"27\": 97, \"24\": 2, \"43\": 19, \"10\": 4, \"39\": 1, \"52\": 1}, \"22\": {\"10\": 7, \"22\": 56, \"28\": 1, \"35\": 1, \"24\": 13, \"23\": 6, \"15\": 6, \"44\": 1, \"11\": 9, \"52\": 3, \"43\": 1, \"0\": 13, \"49\": 1, \"21\": 5, \"27\": 1}, \"52\": {\"52\": 74, \"47\": 11, \"38\": 1, \"35\": 2, \"49\": 4, \"24\": 4, \"10\": 10, \"27\": 2, \"22\": 3, \"3\": 1, \"0\": 3, \"11\": 7, \"21\": 1, \"43\": 2, \"32\": 1}, \"3\": {\"55\": 4, \"3\": 102, \"38\": 2, \"0\": 4, \"21\": 4, \"29\": 1, \"15\": 6, \"44\": 5, \"47\": 4, \"22\": 1, \"32\": 1, \"35\": 1, \"11\": 3, \"52\": 1, \"36\": 1}, \"33\": {\"33\": 32}, \"47\": {\"47\": 107, \"44\": 1, \"38\": 1, \"10\": 1, \"22\": 2, \"43\": 1, \"11\": 1, \"52\": 4, \"24\": 1, \"55\": 1}, \"42\": {\"16\": 1, \"42\": 34, \"19\": 3, \"1\": 1, \"37\": 1}, \"12\": {\"12\": 105, \"29\": 3, \"20\": 5, \"57\": 1, \"3\": 1, \"56\": 1}, \"23\": {\"23\": 119, \"15\": 4, \"21\": 5, \"36\": 1, \"44\": 2, \"22\": 1}, \"49\": {\"49\": 32}, \"7\": {\"7\": 22, \"19\": 1, \"33\": 1, \"16\": 1, \"25\": 1, \"13\": 2}, \"4\": {\"4\": 124, \"19\": 1, \"46\": 1, \"13\": 2, \"53\": 1, \"20\": 1, \"30\": 2}, \"50\": {\"9\": 4, \"50\": 83, \"8\": 9, \"48\": 22, \"2\": 6, \"6\": 8, \"51\": 1, \"46\": 1}, \"19\": {\"19\": 140, \"42\": 2, \"1\": 3, \"45\": 8, \"7\": 1}, \"11\": {\"11\": 99, \"0\": 13, \"22\": 12, \"38\": 1, \"24\": 1, \"3\": 8, \"21\": 3, \"10\": 1, \"52\": 1, \"44\": 1}, \"31\": {\"31\": 28}, \"41\": {\"41\": 22, \"51\": 2}, \"56\": {\"56\": 102, \"57\": 14, \"29\": 13, \"32\": 2, \"54\": 2, \"12\": 1, \"33\": 2, \"19\": 1, \"40\": 1}, \"0\": {\"0\": 84, \"11\": 23, \"23\": 3, \"15\": 7, \"21\": 9, \"24\": 4, \"47\": 2, \"22\": 10, \"3\": 1, \"44\": 3, \"10\": 1, \"38\": 1}, \"57\": {\"57\": 113, \"44\": 1, \"47\": 1, \"29\": 5, \"56\": 7, \"16\": 1}, \"53\": {\"53\": 116, \"50\": 3, \"17\": 1, \"30\": 8, \"9\": 7, \"5\": 3, \"48\": 1, \"8\": 1}, \"43\": {\"43\": 112, \"11\": 1, \"49\": 2, \"27\": 20, \"24\": 1, \"10\": 4, \"39\": 2, \"28\": 1, \"52\": 1}, \"37\": {\"37\": 32}, \"2\": {\"2\": 36}, \"6\": {\"6\": 32, \"50\": 18, \"17\": 8, \"30\": 2, \"48\": 16, \"9\": 6, \"2\": 3, \"8\": 9, \"4\": 1, \"5\": 1}, \"13\": {\"13\": 129, \"7\": 2, \"33\": 2, \"1\": 1, \"16\": 4, \"25\": 2, \"51\": 8, \"20\": 1, \"5\": 1}, \"18\": {\"18\": 58, \"30\": 4, \"17\": 2, \"8\": 1, \"5\": 1, \"53\": 5, \"50\": 1}, \"36\": {\"36\": 55, \"23\": 2, \"15\": 2, \"54\": 4, \"34\": 1}, \"29\": {\"29\": 115, \"36\": 1, \"54\": 3, \"56\": 15, \"57\": 5, \"44\": 1}, \"39\": {\"39\": 25, \"24\": 1, \"10\": 1, \"49\": 1}, \"17\": {\"50\": 3, \"17\": 38, \"6\": 3, \"48\": 8, \"9\": 5, \"8\": 4, \"2\": 2, \"30\": 1}, \"21\": {\"21\": 106, \"38\": 1, \"23\": 4, \"22\": 4, \"15\": 4, \"0\": 3, \"44\": 1, \"11\": 1}, \"25\": {\"25\": 125, \"19\": 1, \"45\": 1, \"20\": 2, \"37\": 1, \"12\": 2}, \"45\": {\"45\": 133, \"19\": 5, \"16\": 1, \"25\": 1, \"1\": 1, \"51\": 1}, \"38\": {\"38\": 18, \"3\": 1, \"44\": 2, \"11\": 3}, \"30\": {\"30\": 101, \"17\": 2, \"53\": 4, \"5\": 2, \"8\": 1, \"9\": 5, \"50\": 2, \"48\": 2, \"6\": 1}, \"24\": {\"55\": 2, \"24\": 73, \"39\": 2, \"10\": 7, \"52\": 1, \"22\": 10, \"0\": 5, \"44\": 2, \"11\": 3, \"49\": 2, \"21\": 1}, \"20\": {\"20\": 137, \"51\": 1, \"13\": 2}, \"8\": {\"8\": 106, \"2\": 11, \"50\": 8, \"48\": 15}, \"35\": {\"35\": 36}, \"54\": {\"54\": 103, \"34\": 1}, \"5\": {\"8\": 3, \"5\": 104, \"14\": 2, \"17\": 4, \"53\": 7, \"6\": 4, \"46\": 4, \"30\": 1, \"9\": 9, \"50\": 6, \"48\": 3, \"2\": 1}, \"48\": {\"48\": 114, \"2\": 4, \"9\": 1, \"8\": 10, \"50\": 15}, \"15\": {\"15\": 125, \"3\": 1, \"0\": 7, \"23\": 3, \"21\": 5, \"22\": 1}, \"34\": {\"34\": 24}, \"14\": {\"14\": 13, \"13\": 1, \"50\": 1, \"26\": 1, \"9\": 5, \"8\": 1, \"48\": 1, \"5\": 1}, \"32\": {\"32\": 26, \"44\": 1, \"15\": 2, \"11\": 1, \"23\": 1, \"55\": 1}, \"40\": {\"40\": 135, \"29\": 3, \"34\": 1, \"12\": 2, \"57\": 1, \"20\": 4, \"13\": 1, \"51\": 1}, \"44\": {\"44\": 122, \"32\": 2, \"55\": 1, \"3\": 4, \"22\": 2, \"11\": 1, \"21\": 1, \"15\": 1, \"0\": 1, \"23\": 1}}, \"CORES_2\": {\"36\": {\"36\": 109, \"32\": 1, \"53\": 1, \"27\": 1, \"54\": 3, \"8\": 1}, \"5\": {\"5\": 114, \"11\": 2, \"39\": 1, \"37\": 1, \"22\": 1, \"47\": 1}, \"45\": {\"33\": 2, \"50\": 5, \"40\": 6, \"20\": 8, \"4\": 18, \"25\": 2, \"54\": 4, \"51\": 4, \"45\": 36, \"19\": 3, \"17\": 6, \"12\": 5, \"53\": 7, \"21\": 3, \"6\": 7, \"55\": 2, \"9\": 5, \"3\": 1, \"44\": 1, \"49\": 1, \"8\": 1, \"36\": 1}, \"49\": {\"49\": 23, \"35\": 1}, \"50\": {\"50\": 58, \"3\": 2, \"32\": 4, \"34\": 1, \"25\": 2, \"53\": 17, \"9\": 3, \"29\": 2, \"48\": 6, \"6\": 8, \"8\": 4, \"17\": 7, \"4\": 1, \"54\": 4, \"27\": 4, \"19\": 3, \"52\": 1, \"45\": 1, \"11\": 1, \"30\": 3, \"40\": 1, \"21\": 2, \"57\": 1}, \"4\": {\"4\": 112, \"9\": 23, \"45\": 2, \"51\": 1}, \"43\": {\"43\": 122, \"24\": 12, \"10\": 4, \"13\": 2, \"22\": 3, \"5\": 2, \"55\": 1, \"56\": 2}, \"41\": {\"41\": 20}, \"37\": {\"37\": 36}, \"12\": {\"45\": 6, \"12\": 62, \"51\": 2, \"18\": 1, \"17\": 3, \"54\": 3, \"20\": 8, \"8\": 4, \"50\": 1, \"53\": 2}, \"33\": {\"33\": 27, \"40\": 1}, \"7\": {\"7\": 28, \"15\": 1, \"16\": 1, \"46\": 1, \"57\": 1, \"29\": 3, \"1\": 1}, \"56\": {\"56\": 131, \"22\": 1, \"31\": 1, \"13\": 2, \"43\": 1, \"10\": 3, \"14\": 1}, \"14\": {\"56\": 4, \"14\": 17, \"24\": 1, \"43\": 1, \"10\": 1}, \"52\": {\"41\": 1, \"52\": 109, \"50\": 3, \"23\": 3, \"30\": 3, \"48\": 1, \"46\": 2, \"53\": 2}, \"44\": {\"44\": 91, \"5\": 4, \"47\": 1}, \"48\": {\"48\": 91, \"41\": 1, \"8\": 10, \"30\": 3, \"36\": 1, \"27\": 18, \"18\": 2, \"50\": 5, \"54\": 4, \"17\": 4, \"6\": 3, \"3\": 1, \"53\": 1}, \"20\": {\"20\": 102, \"32\": 1, \"53\": 7, \"51\": 9, \"12\": 3, \"45\": 1, \"19\": 1, \"36\": 1, \"17\": 1, \"50\": 2}, \"55\": {\"24\": 4, \"55\": 96, \"13\": 8, \"56\": 2, \"43\": 12, \"22\": 12, \"31\": 1, \"10\": 6, \"14\": 1, \"5\": 1, \"44\": 1}, \"32\": {\"17\": 4, \"32\": 23, \"54\": 1}, \"40\": {\"40\": 112, \"35\": 4, \"33\": 3, \"19\": 10, \"44\": 1, \"15\": 1, \"29\": 1, \"7\": 1, \"50\": 1, \"46\": 2}, \"54\": {\"54\": 79, \"8\": 15, \"27\": 13, \"36\": 1}, \"17\": {\"17\": 103, \"32\": 1}, \"38\": {\"38\": 18, \"22\": 1, \"24\": 1}, \"24\": {\"24\": 64, \"10\": 4, \"13\": 13, \"56\": 1, \"43\": 11, \"22\": 1, \"31\": 2}, \"1\": {\"1\": 107, \"3\": 1, \"16\": 1, \"0\": 1, \"34\": 1, \"5\": 1}, \"6\": {\"6\": 51, \"18\": 3, \"50\": 14, \"29\": 1, \"17\": 11, \"48\": 9, \"40\": 1, \"8\": 4, \"51\": 4, \"30\": 7, \"25\": 4, \"53\": 6, \"45\": 2, \"26\": 1, \"32\": 1, \"34\": 1, \"21\": 1, \"54\": 1, \"9\": 1, \"27\": 1}, \"34\": {\"34\": 28}, \"11\": {\"11\": 119, \"46\": 5, \"5\": 5, \"47\": 6, \"0\": 1}, \"9\": {\"9\": 141, \"3\": 1, \"6\": 1, \"4\": 4, \"51\": 1, \"12\": 1, \"30\": 1}, \"8\": {\"8\": 125, \"54\": 13, \"27\": 10, \"36\": 3, \"26\": 1}, \"22\": {\"24\": 9, \"22\": 88, \"37\": 2, \"5\": 1, \"56\": 6, \"43\": 12, \"13\": 7, \"10\": 10, \"31\": 1}, \"26\": {\"26\": 22, \"8\": 2}, \"23\": {\"23\": 125, \"52\": 12, \"1\": 3, \"30\": 4, \"34\": 1, \"48\": 1}, \"10\": {\"10\": 76, \"56\": 11, \"24\": 6, \"22\": 4, \"43\": 9, \"38\": 1, \"31\": 1, \"13\": 3, \"55\": 1}, \"18\": {\"48\": 5, \"30\": 3, \"18\": 33, \"6\": 2, \"53\": 1, \"17\": 1, \"50\": 2, \"52\": 1}, \"13\": {\"13\": 87, \"10\": 7, \"24\": 4, \"56\": 3, \"22\": 5, \"43\": 8, \"31\": 1, \"37\": 1}, \"30\": {\"23\": 2, \"30\": 120, \"18\": 1, \"6\": 2, \"9\": 2, \"52\": 1}, \"42\": {\"40\": 1, \"42\": 31, \"29\": 1, \"47\": 2, \"7\": 1}, \"31\": {\"31\": 28}, \"46\": {\"1\": 5, \"57\": 3, \"49\": 1, \"46\": 43, \"16\": 18, \"23\": 8, \"28\": 1, \"7\": 2, \"19\": 2, \"52\": 7, \"29\": 3, \"5\": 5, \"50\": 1, \"15\": 5, \"43\": 2, \"47\": 3, \"30\": 1, \"44\": 2, \"22\": 1, \"3\": 2, \"11\": 5, \"33\": 1, \"38\": 1, \"40\": 2, \"48\": 2, \"25\": 1, \"6\": 1}, \"57\": {\"57\": 139, \"15\": 2, \"47\": 1}, \"47\": {\"47\": 111, \"42\": 3, \"39\": 1, \"2\": 1, \"0\": 1, \"11\": 6, \"46\": 2, \"15\": 4, \"57\": 7, \"28\": 1, \"1\": 1}, \"35\": {\"35\": 31, \"33\": 1}, \"15\": {\"15\": 115, \"0\": 2, \"16\": 11, \"57\": 2, \"43\": 1, \"46\": 1}, \"25\": {\"25\": 103, \"21\": 5, \"40\": 6, \"30\": 1, \"45\": 1, \"9\": 7, \"19\": 5, \"3\": 2, \"6\": 4, \"20\": 1, \"4\": 1}, \"19\": {\"19\": 127, \"35\": 1, \"44\": 1, \"40\": 5, \"33\": 1, \"46\": 1}, \"51\": {\"51\": 108, \"12\": 2, \"20\": 9, \"8\": 1, \"45\": 2, \"50\": 1, \"25\": 2, \"53\": 2, \"6\": 1}, \"53\": {\"53\": 106, \"8\": 10, \"26\": 1, \"50\": 7, \"27\": 4, \"3\": 1, \"54\": 3, \"36\": 1, \"19\": 1}, \"21\": {\"21\": 105, \"3\": 1, \"46\": 5, \"29\": 5, \"25\": 2, \"40\": 2}, \"39\": {\"39\": 25, \"44\": 1, \"28\": 2}, \"2\": {\"2\": 29, \"42\": 1, \"1\": 1, \"16\": 1}, \"16\": {\"16\": 117, \"15\": 23, \"2\": 2, \"0\": 1, \"1\": 2, \"46\": 2, \"7\": 1, \"23\": 1, \"57\": 1}, \"0\": {\"0\": 46, \"47\": 1, \"11\": 1}, \"3\": {\"3\": 36, \"9\": 10, \"18\": 3, \"30\": 9, \"47\": 2, \"48\": 1, \"46\": 1, \"20\": 2, \"25\": 7, \"6\": 4, \"4\": 1, \"45\": 3, \"44\": 1, \"52\": 3, \"29\": 1, \"23\": 1, \"42\": 1, \"49\": 2, \"50\": 2, \"1\": 1, \"15\": 1}, \"27\": {\"27\": 141, \"8\": 1}, \"28\": {\"28\": 25, \"0\": 1, \"55\": 1, \"11\": 1}, \"29\": {\"29\": 121, \"47\": 1, \"15\": 1, \"16\": 3, \"46\": 1, \"1\": 1}}}, \"per_domain_accuracy\": {\"ORACLE.run1_14\": {\"accuracy\": 0.9359375, \"source?\": true}, \"ORACLE.run1_20\": {\"accuracy\": 0.9171875, \"source?\": true}, \"ORACLE.run1_38\": {\"accuracy\": 0.9419270833333333, \"source?\": true}, \"ORACLE.run1_8\": {\"accuracy\": 0.9158854166666667, \"source?\": true}, \"ORACLE.run1_50\": {\"accuracy\": 0.9354166666666667, \"source?\": true}, \"ORACLE.run1_32\": {\"accuracy\": 0.9169270833333333, \"source?\": true}, \"ORACLE.run1_26\": {\"accuracy\": 0.8078125, \"source?\": true}, \"ORACLE.run1_44\": {\"accuracy\": 0.8213541666666667, \"source?\": true}, \"CORES_3\": {\"accuracy\": 0.795421511627907, \"source?\": false}, \"CORES_4\": {\"accuracy\": 0.7613636363636364, \"source?\": false}, \"CORES_5\": {\"accuracy\": 0.7749650837988827, \"source?\": false}, \"CORES_1\": {\"accuracy\": 0.8031079234972678, \"source?\": false}, \"CORES_2\": {\"accuracy\": 0.7930790960451978, \"source?\": false}}}, \"history\": {\"epoch_indices\": [1, 2, 3, 4, 5, 6, 7, 8, 9, 10, 11, 12, 13, 14, 15], \"train_label_loss\": [0.824178370660437, 0.7133893916006422, 0.44091047028334635, 0.36873471123052737, 0.3272864814211581, 0.296614451992805, 0.2746609314814989, 0.25490166079329185, 0.24014496416240858, 0.23293529305464333, 0.21492412539248887, 0.20336457542019032, 0.19635875150453927, 0.18807015174205022, 0.17608952489620908], \"source_val_label_loss\": [31.370849609375, 0.5488840341567993, 0.4280388057231903, 0.41457778215408325, 0.3849393427371979, 0.3267950117588043, 0.35294675827026367, 0.2980000674724579, 0.28718695044517517, 0.2791801989078522, 0.2818475365638733, 0.26696711778640747, 0.2774308919906616, 0.2557871341705322, 0.27631092071533203], \"target_val_label_loss\": [144.9434051513672, 28.521778106689453, 60.985374450683594, 73.03650665283203, 75.44424438476562, 97.24285125732422, 124.10623168945312, 138.84999084472656, 159.63302612304688, 178.24388122558594, 187.83734130859375, 341.59234619140625, 679.0302124023438, 556.9356079101562, 724.0771484375], \"source_val_acc_label\": [0.66875, 0.7991861979166667, 0.8458333333333333, 0.8498046875, 0.86220703125, 0.8813802083333333, 0.8703450520833333, 0.8931315104166667, 0.8977213541666667, 0.90068359375, 0.8990559895833333, 0.905078125, 0.9012369791666667, 0.90927734375, 0.9021809895833334], \"target_val_acc_label\": [0.6013127853881278, 0.7043735730593608, 0.7171803652968036, 0.7022331621004566, 0.7240296803652968, 0.7274186643835616, 0.7496789383561644, 0.7336615296803652, 0.7542451484018264, 0.7362300228310502, 0.785958904109589, 0.7104380707762558, 0.6509346461187214, 0.687892408675799, 0.6695205479452054]}, \"dataset_metrics\": {\"source\": {\"train\": {\"n_unique_x\": 179200, \"n_unique_y\": 16, \"n_batch/episode\": 6720}, \"val\": {\"n_unique_x\": 38400, \"n_unique_y\": 16, \"n_batch/episode\": 960}, \"test\": {\"n_unique_x\": 38400, \"n_unique_y\": 16, \"n_batch/episode\": 960}}, \"target\": {\"train\": {\"n_unique_x\": 175212, \"n_unique_y\": 58, \"n_batch/episode\": 6322}, \"val\": {\"n_unique_x\": 37196, \"n_unique_y\": 58, \"n_batch/episode\": 876}, \"test\": {\"n_unique_x\": 37634, \"n_unique_y\": 58, \"n_batch/episode\": 891}}}}'"
      ]
     },
     "execution_count": 29,
     "metadata": {},
     "output_type": "execute_result"
    }
   ],
   "source": [
    "json.dumps(experiment)"
   ]
  }
 ],
 "metadata": {
  "celltoolbar": "Tags",
  "kernelspec": {
   "display_name": "Python 3 (ipykernel)",
   "language": "python",
   "name": "python3"
  },
  "language_info": {
   "codemirror_mode": {
    "name": "ipython",
    "version": 3
   },
   "file_extension": ".py",
   "mimetype": "text/x-python",
   "name": "python",
   "nbconvert_exporter": "python",
   "pygments_lexer": "ipython3",
   "version": "3.8.12"
  },
  "papermill": {
   "default_parameters": {},
   "duration": 3810.681701,
   "end_time": "2022-03-21T04:46:32.358615",
   "environment_variables": {},
   "exception": null,
   "input_path": "/root/csc500-main/csc500-notebooks/templates/tl_ptn_template.ipynb",
   "output_path": "trial.ipynb",
   "parameters": {
    "parameters": {
     "BEST_MODEL_PATH": "./best_model.pth",
     "NUM_LOGS_PER_EPOCH": 10,
     "criteria_for_best": "target_accuracy",
     "dataset_seed": 1337,
     "datasets": [
      {
       "domain_prefix": "CORES_",
       "domains": [
        1,
        2,
        3,
        4,
        5
       ],
       "episode_transforms": [],
       "labels": [
        "1-10.",
        "1-11.",
        "1-15.",
        "1-16.",
        "1-17.",
        "1-18.",
        "1-19.",
        "10-4.",
        "10-7.",
        "11-1.",
        "11-14.",
        "11-17.",
        "11-20.",
        "11-7.",
        "13-20.",
        "13-8.",
        "14-10.",
        "14-11.",
        "14-14.",
        "14-7.",
        "15-1.",
        "15-20.",
        "16-1.",
        "16-16.",
        "17-10.",
        "17-11.",
        "17-2.",
        "19-1.",
        "19-16.",
        "19-19.",
        "19-20.",
        "19-3.",
        "2-10.",
        "2-11.",
        "2-17.",
        "2-18.",
        "2-20.",
        "2-3.",
        "2-4.",
        "2-5.",
        "2-6.",
        "2-7.",
        "2-8.",
        "3-13.",
        "3-18.",
        "3-3.",
        "4-1.",
        "4-10.",
        "4-11.",
        "4-19.",
        "5-5.",
        "6-15.",
        "7-10.",
        "7-14.",
        "8-18.",
        "8-20.",
        "8-3.",
        "8-8."
       ],
       "num_examples_per_domain_per_label": -1,
       "pickle_path": "/root/csc500-main/datasets/cores.stratified_ds.2022A.pkl",
       "source_or_target_dataset": "target",
       "x_transforms": [
        "unit_power"
       ]
      },
      {
       "domain_prefix": "ORACLE.run1_",
       "domains": [
        32,
        38,
        8,
        44,
        14,
        50,
        20,
        26
       ],
       "episode_transforms": [],
       "labels": [
        "3123D52",
        "3123D65",
        "3123D79",
        "3123D80",
        "3123D54",
        "3123D70",
        "3123D7B",
        "3123D89",
        "3123D58",
        "3123D76",
        "3123D7D",
        "3123EFE",
        "3123D64",
        "3123D78",
        "3123D7E",
        "3124E4A"
       ],
       "num_examples_per_domain_per_label": 2000,
       "pickle_path": "/root/csc500-main/datasets/oracle.Run1_framed_2000Examples_stratified_ds.2022A.pkl",
       "source_or_target_dataset": "source",
       "x_transforms": [
        "unit_power"
       ]
      }
     ],
     "device": "cuda",
     "experiment_name": "tl_1v2:cores-oracle.run1.framed",
     "lr": 0.0001,
     "n_epoch": 50,
     "n_query": 2,
     "n_shot": 3,
     "n_way": 16,
     "patience": 3,
     "seed": 1337,
     "test_k_factor": 2,
     "torch_default_dtype": "torch.float32",
     "train_k_factor": 3,
     "val_k_factor": 2,
     "x_net": [
      {
       "class": "nnReshape",
       "kargs": {
        "shape": [
         -1,
         1,
         2,
         256
        ]
       }
      },
      {
       "class": "Conv2d",
       "kargs": {
        "bias": false,
        "in_channels": 1,
        "kernel_size": [
         1,
         7
        ],
        "out_channels": 256,
        "padding": [
         0,
         3
        ]
       }
      },
      {
       "class": "ReLU",
       "kargs": {
        "inplace": true
       }
      },
      {
       "class": "BatchNorm2d",
       "kargs": {
        "num_features": 256
       }
      },
      {
       "class": "Conv2d",
       "kargs": {
        "bias": true,
        "in_channels": 256,
        "kernel_size": [
         2,
         7
        ],
        "out_channels": 80,
        "padding": [
         0,
         3
        ]
       }
      },
      {
       "class": "ReLU",
       "kargs": {
        "inplace": true
       }
      },
      {
       "class": "BatchNorm2d",
       "kargs": {
        "num_features": 80
       }
      },
      {
       "class": "Flatten",
       "kargs": {}
      },
      {
       "class": "Linear",
       "kargs": {
        "in_features": 20480,
        "out_features": 256
       }
      },
      {
       "class": "ReLU",
       "kargs": {
        "inplace": true
       }
      },
      {
       "class": "BatchNorm1d",
       "kargs": {
        "num_features": 256
       }
      },
      {
       "class": "Linear",
       "kargs": {
        "in_features": 256,
        "out_features": 256
       }
      }
     ]
    }
   },
   "start_time": "2022-03-21T03:43:01.676914",
   "version": "2.3.4"
  }
 },
 "nbformat": 4,
 "nbformat_minor": 5
}