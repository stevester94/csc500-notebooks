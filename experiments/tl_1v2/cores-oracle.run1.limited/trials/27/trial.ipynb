{
 "cells": [
  {
   "cell_type": "markdown",
   "id": "9fea5f46",
   "metadata": {
    "papermill": {
     "duration": 0.024663,
     "end_time": "2022-03-22T18:29:40.087414",
     "exception": false,
     "start_time": "2022-03-22T18:29:40.062751",
     "status": "completed"
    },
    "tags": []
   },
   "source": [
    "# Transfer Learning Template"
   ]
  },
  {
   "cell_type": "code",
   "execution_count": 1,
   "id": "0902182a",
   "metadata": {
    "execution": {
     "iopub.execute_input": "2022-03-22T18:29:40.145840Z",
     "iopub.status.busy": "2022-03-22T18:29:40.144964Z",
     "iopub.status.idle": "2022-03-22T18:29:42.023651Z",
     "shell.execute_reply": "2022-03-22T18:29:42.022745Z"
    },
    "papermill": {
     "duration": 1.916938,
     "end_time": "2022-03-22T18:29:42.023840",
     "exception": false,
     "start_time": "2022-03-22T18:29:40.106902",
     "status": "completed"
    },
    "tags": []
   },
   "outputs": [],
   "source": [
    "%load_ext autoreload\n",
    "%autoreload 2\n",
    "%matplotlib inline\n",
    "\n",
    "    \n",
    "import os, json, sys, time, random\n",
    "import numpy as np\n",
    "import torch\n",
    "from torch.optim import Adam\n",
    "from  easydict import EasyDict\n",
    "import matplotlib.pyplot as plt\n",
    "\n",
    "from steves_models.steves_ptn import Steves_Prototypical_Network\n",
    "\n",
    "from steves_utils.lazy_iterable_wrapper import Lazy_Iterable_Wrapper\n",
    "from steves_utils.iterable_aggregator import Iterable_Aggregator\n",
    "from steves_utils.ptn_train_eval_test_jig import  PTN_Train_Eval_Test_Jig\n",
    "from steves_utils.torch_sequential_builder import build_sequential\n",
    "from steves_utils.torch_utils import get_dataset_metrics, ptn_confusion_by_domain_over_dataloader\n",
    "from steves_utils.utils_v2 import (per_domain_accuracy_from_confusion, get_datasets_base_path)\n",
    "from steves_utils.PTN.utils import independent_accuracy_assesment\n",
    "\n",
    "from torch.utils.data import DataLoader\n",
    "\n",
    "from steves_utils.stratified_dataset.episodic_accessor import Episodic_Accessor_Factory\n",
    "\n",
    "from steves_utils.ptn_do_report import (\n",
    "    get_loss_curve,\n",
    "    get_results_table,\n",
    "    get_parameters_table,\n",
    "    get_domain_accuracies,\n",
    ")\n",
    "\n",
    "from steves_utils.transforms import get_chained_transform"
   ]
  },
  {
   "cell_type": "markdown",
   "id": "41c840b4",
   "metadata": {
    "papermill": {
     "duration": 0.019784,
     "end_time": "2022-03-22T18:29:42.071489",
     "exception": false,
     "start_time": "2022-03-22T18:29:42.051705",
     "status": "completed"
    },
    "tags": []
   },
   "source": [
    "# Allowed Parameters\n",
    "These are allowed parameters, not defaults\n",
    "Each of these values need to be present in the injected parameters (the notebook will raise an exception if they are not present)\n",
    "\n",
    "Papermill uses the cell tag \"parameters\" to inject the real parameters below this cell.\n",
    "Enable tags to see what I mean"
   ]
  },
  {
   "cell_type": "code",
   "execution_count": 2,
   "id": "fd44eb83",
   "metadata": {
    "execution": {
     "iopub.execute_input": "2022-03-22T18:29:42.114909Z",
     "iopub.status.busy": "2022-03-22T18:29:42.114511Z",
     "iopub.status.idle": "2022-03-22T18:29:42.140310Z",
     "shell.execute_reply": "2022-03-22T18:29:42.140780Z"
    },
    "papermill": {
     "duration": 0.049749,
     "end_time": "2022-03-22T18:29:42.140904",
     "exception": false,
     "start_time": "2022-03-22T18:29:42.091155",
     "status": "completed"
    },
    "tags": []
   },
   "outputs": [],
   "source": [
    "required_parameters = {\n",
    "    \"experiment_name\",\n",
    "    \"lr\",\n",
    "    \"device\",\n",
    "    \"seed\",\n",
    "    \"dataset_seed\",\n",
    "    \"n_shot\",\n",
    "    \"n_query\",\n",
    "    \"n_way\",\n",
    "    \"train_k_factor\",\n",
    "    \"val_k_factor\",\n",
    "    \"test_k_factor\",\n",
    "    \"n_epoch\",\n",
    "    \"patience\",\n",
    "    \"criteria_for_best\",\n",
    "    \"x_net\",\n",
    "    \"datasets\",\n",
    "    \"torch_default_dtype\",\n",
    "    \"NUM_LOGS_PER_EPOCH\",\n",
    "    \"BEST_MODEL_PATH\",\n",
    "    \"x_shape\",\n",
    "}"
   ]
  },
  {
   "cell_type": "code",
   "execution_count": 3,
   "id": "fa3f0049",
   "metadata": {
    "execution": {
     "iopub.execute_input": "2022-03-22T18:29:42.191790Z",
     "iopub.status.busy": "2022-03-22T18:29:42.191089Z",
     "iopub.status.idle": "2022-03-22T18:29:42.211397Z",
     "shell.execute_reply": "2022-03-22T18:29:42.210690Z"
    },
    "papermill": {
     "duration": 0.05029,
     "end_time": "2022-03-22T18:29:42.211600",
     "exception": false,
     "start_time": "2022-03-22T18:29:42.161310",
     "status": "completed"
    },
    "tags": [
     "parameters"
    ]
   },
   "outputs": [],
   "source": [
    "from steves_utils.CORES.utils import (\n",
    "    ALL_NODES,\n",
    "    ALL_NODES_MINIMUM_1000_EXAMPLES,\n",
    "    ALL_DAYS\n",
    ")\n",
    "\n",
    "from steves_utils.ORACLE.utils_v2 import (\n",
    "    ALL_DISTANCES_FEET_NARROWED,\n",
    "    ALL_RUNS,\n",
    "    ALL_SERIAL_NUMBERS,\n",
    ")\n",
    "\n",
    "standalone_parameters = {}\n",
    "standalone_parameters[\"experiment_name\"] = \"STANDALONE PTN\"\n",
    "standalone_parameters[\"lr\"] = 0.001\n",
    "standalone_parameters[\"device\"] = \"cuda\"\n",
    "\n",
    "standalone_parameters[\"seed\"] = 1337\n",
    "standalone_parameters[\"dataset_seed\"] = 1337\n",
    "\n",
    "standalone_parameters[\"n_way\"] = 8\n",
    "standalone_parameters[\"n_shot\"] = 3\n",
    "standalone_parameters[\"n_query\"]  = 2\n",
    "standalone_parameters[\"train_k_factor\"] = 1\n",
    "standalone_parameters[\"val_k_factor\"] = 2\n",
    "standalone_parameters[\"test_k_factor\"] = 2\n",
    "\n",
    "\n",
    "standalone_parameters[\"n_epoch\"] = 50\n",
    "\n",
    "standalone_parameters[\"patience\"] = 10\n",
    "standalone_parameters[\"criteria_for_best\"] = \"source_loss\"\n",
    "\n",
    "standalone_parameters[\"datasets\"] = [\n",
    "    {\n",
    "        \"labels\": ALL_SERIAL_NUMBERS,\n",
    "        \"domains\": ALL_DISTANCES_FEET_NARROWED,\n",
    "        \"num_examples_per_domain_per_label\": 100,\n",
    "        \"pickle_path\": os.path.join(get_datasets_base_path(), \"oracle.Run1_framed_2000Examples_stratified_ds.2022A.pkl\"),\n",
    "        \"source_or_target_dataset\": \"source\",\n",
    "        \"x_transforms\": [\"unit_mag\", \"minus_two\"],\n",
    "        \"episode_transforms\": [],\n",
    "        \"domain_prefix\": \"ORACLE_\"\n",
    "    },\n",
    "    {\n",
    "        \"labels\": ALL_NODES,\n",
    "        \"domains\": ALL_DAYS,\n",
    "        \"num_examples_per_domain_per_label\": 100,\n",
    "        \"pickle_path\": os.path.join(get_datasets_base_path(), \"cores.stratified_ds.2022A.pkl\"),\n",
    "        \"source_or_target_dataset\": \"target\",\n",
    "        \"x_transforms\": [\"unit_power\", \"times_zero\"],\n",
    "        \"episode_transforms\": [],\n",
    "        \"domain_prefix\": \"CORES_\"\n",
    "    }   \n",
    "]\n",
    "\n",
    "standalone_parameters[\"torch_default_dtype\"] = \"torch.float32\" \n",
    "\n",
    "\n",
    "\n",
    "standalone_parameters[\"x_net\"] =     [\n",
    "    {\"class\": \"nnReshape\", \"kargs\": {\"shape\":[-1, 1, 2, 256]}},\n",
    "    {\"class\": \"Conv2d\", \"kargs\": { \"in_channels\":1, \"out_channels\":256, \"kernel_size\":(1,7), \"bias\":False, \"padding\":(0,3), },},\n",
    "    {\"class\": \"ReLU\", \"kargs\": {\"inplace\": True}},\n",
    "    {\"class\": \"BatchNorm2d\", \"kargs\": {\"num_features\":256}},\n",
    "\n",
    "    {\"class\": \"Conv2d\", \"kargs\": { \"in_channels\":256, \"out_channels\":80, \"kernel_size\":(2,7), \"bias\":True, \"padding\":(0,3), },},\n",
    "    {\"class\": \"ReLU\", \"kargs\": {\"inplace\": True}},\n",
    "    {\"class\": \"BatchNorm2d\", \"kargs\": {\"num_features\":80}},\n",
    "    {\"class\": \"Flatten\", \"kargs\": {}},\n",
    "\n",
    "    {\"class\": \"Linear\", \"kargs\": {\"in_features\": 80*256, \"out_features\": 256}}, # 80 units per IQ pair\n",
    "    {\"class\": \"ReLU\", \"kargs\": {\"inplace\": True}},\n",
    "    {\"class\": \"BatchNorm1d\", \"kargs\": {\"num_features\":256}},\n",
    "\n",
    "    {\"class\": \"Linear\", \"kargs\": {\"in_features\": 256, \"out_features\": 256}},\n",
    "]\n",
    "\n",
    "# Parameters relevant to results\n",
    "# These parameters will basically never need to change\n",
    "standalone_parameters[\"NUM_LOGS_PER_EPOCH\"] = 10\n",
    "standalone_parameters[\"BEST_MODEL_PATH\"] = \"./best_model.pth\"\n",
    "\n",
    "\n",
    "\n",
    "\n"
   ]
  },
  {
   "cell_type": "code",
   "execution_count": 4,
   "id": "1560b9fd",
   "metadata": {
    "execution": {
     "iopub.execute_input": "2022-03-22T18:29:42.273092Z",
     "iopub.status.busy": "2022-03-22T18:29:42.272124Z",
     "iopub.status.idle": "2022-03-22T18:29:42.291281Z",
     "shell.execute_reply": "2022-03-22T18:29:42.290510Z"
    },
    "papermill": {
     "duration": 0.055033,
     "end_time": "2022-03-22T18:29:42.291454",
     "exception": false,
     "start_time": "2022-03-22T18:29:42.236421",
     "status": "completed"
    },
    "tags": [
     "injected-parameters"
    ]
   },
   "outputs": [],
   "source": [
    "# Parameters\n",
    "parameters = {\n",
    "    \"experiment_name\": \"tl_1v2:cores-oracle.run1.limited\",\n",
    "    \"device\": \"cuda\",\n",
    "    \"lr\": 0.0001,\n",
    "    \"n_shot\": 3,\n",
    "    \"n_query\": 2,\n",
    "    \"train_k_factor\": 3,\n",
    "    \"val_k_factor\": 2,\n",
    "    \"test_k_factor\": 2,\n",
    "    \"torch_default_dtype\": \"torch.float32\",\n",
    "    \"n_epoch\": 50,\n",
    "    \"patience\": 3,\n",
    "    \"criteria_for_best\": \"target_accuracy\",\n",
    "    \"x_net\": [\n",
    "        {\"class\": \"nnReshape\", \"kargs\": {\"shape\": [-1, 1, 2, 256]}},\n",
    "        {\n",
    "            \"class\": \"Conv2d\",\n",
    "            \"kargs\": {\n",
    "                \"in_channels\": 1,\n",
    "                \"out_channels\": 256,\n",
    "                \"kernel_size\": [1, 7],\n",
    "                \"bias\": False,\n",
    "                \"padding\": [0, 3],\n",
    "            },\n",
    "        },\n",
    "        {\"class\": \"ReLU\", \"kargs\": {\"inplace\": True}},\n",
    "        {\"class\": \"BatchNorm2d\", \"kargs\": {\"num_features\": 256}},\n",
    "        {\n",
    "            \"class\": \"Conv2d\",\n",
    "            \"kargs\": {\n",
    "                \"in_channels\": 256,\n",
    "                \"out_channels\": 80,\n",
    "                \"kernel_size\": [2, 7],\n",
    "                \"bias\": True,\n",
    "                \"padding\": [0, 3],\n",
    "            },\n",
    "        },\n",
    "        {\"class\": \"ReLU\", \"kargs\": {\"inplace\": True}},\n",
    "        {\"class\": \"BatchNorm2d\", \"kargs\": {\"num_features\": 80}},\n",
    "        {\"class\": \"Flatten\", \"kargs\": {}},\n",
    "        {\"class\": \"Linear\", \"kargs\": {\"in_features\": 20480, \"out_features\": 256}},\n",
    "        {\"class\": \"ReLU\", \"kargs\": {\"inplace\": True}},\n",
    "        {\"class\": \"BatchNorm1d\", \"kargs\": {\"num_features\": 256}},\n",
    "        {\"class\": \"Linear\", \"kargs\": {\"in_features\": 256, \"out_features\": 256}},\n",
    "    ],\n",
    "    \"NUM_LOGS_PER_EPOCH\": 10,\n",
    "    \"BEST_MODEL_PATH\": \"./best_model.pth\",\n",
    "    \"n_way\": 16,\n",
    "    \"datasets\": [\n",
    "        {\n",
    "            \"labels\": [\n",
    "                \"1-10.\",\n",
    "                \"1-11.\",\n",
    "                \"1-15.\",\n",
    "                \"1-16.\",\n",
    "                \"1-17.\",\n",
    "                \"1-18.\",\n",
    "                \"1-19.\",\n",
    "                \"10-4.\",\n",
    "                \"10-7.\",\n",
    "                \"11-1.\",\n",
    "                \"11-14.\",\n",
    "                \"11-17.\",\n",
    "                \"11-20.\",\n",
    "                \"11-7.\",\n",
    "                \"13-20.\",\n",
    "                \"13-8.\",\n",
    "                \"14-10.\",\n",
    "                \"14-11.\",\n",
    "                \"14-14.\",\n",
    "                \"14-7.\",\n",
    "                \"15-1.\",\n",
    "                \"15-20.\",\n",
    "                \"16-1.\",\n",
    "                \"16-16.\",\n",
    "                \"17-10.\",\n",
    "                \"17-11.\",\n",
    "                \"17-2.\",\n",
    "                \"19-1.\",\n",
    "                \"19-16.\",\n",
    "                \"19-19.\",\n",
    "                \"19-20.\",\n",
    "                \"19-3.\",\n",
    "                \"2-10.\",\n",
    "                \"2-11.\",\n",
    "                \"2-17.\",\n",
    "                \"2-18.\",\n",
    "                \"2-20.\",\n",
    "                \"2-3.\",\n",
    "                \"2-4.\",\n",
    "                \"2-5.\",\n",
    "                \"2-6.\",\n",
    "                \"2-7.\",\n",
    "                \"2-8.\",\n",
    "                \"3-13.\",\n",
    "                \"3-18.\",\n",
    "                \"3-3.\",\n",
    "                \"4-1.\",\n",
    "                \"4-10.\",\n",
    "                \"4-11.\",\n",
    "                \"4-19.\",\n",
    "                \"5-5.\",\n",
    "                \"6-15.\",\n",
    "                \"7-10.\",\n",
    "                \"7-14.\",\n",
    "                \"8-18.\",\n",
    "                \"8-20.\",\n",
    "                \"8-3.\",\n",
    "                \"8-8.\",\n",
    "            ],\n",
    "            \"domains\": [1, 2, 3, 4, 5],\n",
    "            \"num_examples_per_domain_per_label\": -1,\n",
    "            \"pickle_path\": \"/root/csc500-main/datasets/cores.stratified_ds.2022A.pkl\",\n",
    "            \"source_or_target_dataset\": \"target\",\n",
    "            \"x_transforms\": [\"unit_power\"],\n",
    "            \"episode_transforms\": [],\n",
    "            \"domain_prefix\": \"CORES_\",\n",
    "        },\n",
    "        {\n",
    "            \"labels\": [\n",
    "                \"3123D52\",\n",
    "                \"3123D65\",\n",
    "                \"3123D79\",\n",
    "                \"3123D80\",\n",
    "                \"3123D54\",\n",
    "                \"3123D70\",\n",
    "                \"3123D7B\",\n",
    "                \"3123D89\",\n",
    "                \"3123D58\",\n",
    "                \"3123D76\",\n",
    "                \"3123D7D\",\n",
    "                \"3123EFE\",\n",
    "                \"3123D64\",\n",
    "                \"3123D78\",\n",
    "                \"3123D7E\",\n",
    "                \"3124E4A\",\n",
    "            ],\n",
    "            \"domains\": [32, 38, 8, 44, 14, 50, 20, 26],\n",
    "            \"num_examples_per_domain_per_label\": 2000,\n",
    "            \"pickle_path\": \"/root/csc500-main/datasets/oracle.Run1_10kExamples_stratified_ds.2022A.pkl\",\n",
    "            \"source_or_target_dataset\": \"source\",\n",
    "            \"x_transforms\": [\"unit_power\"],\n",
    "            \"episode_transforms\": [],\n",
    "            \"domain_prefix\": \"ORACLE.run1_\",\n",
    "        },\n",
    "    ],\n",
    "    \"dataset_seed\": 500,\n",
    "    \"seed\": 500,\n",
    "}\n"
   ]
  },
  {
   "cell_type": "code",
   "execution_count": 5,
   "id": "8fa1cc33",
   "metadata": {
    "execution": {
     "iopub.execute_input": "2022-03-22T18:29:42.342250Z",
     "iopub.status.busy": "2022-03-22T18:29:42.341855Z",
     "iopub.status.idle": "2022-03-22T18:29:42.359925Z",
     "shell.execute_reply": "2022-03-22T18:29:42.359135Z"
    },
    "papermill": {
     "duration": 0.04327,
     "end_time": "2022-03-22T18:29:42.360102",
     "exception": false,
     "start_time": "2022-03-22T18:29:42.316832",
     "status": "completed"
    },
    "tags": []
   },
   "outputs": [],
   "source": [
    "# Set this to True if you want to run this template directly\n",
    "STANDALONE = False\n",
    "if STANDALONE:\n",
    "    print(\"parameters not injected, running with standalone_parameters\")\n",
    "    parameters = standalone_parameters\n",
    "\n",
    "if not 'parameters' in locals() and not 'parameters' in globals():\n",
    "    raise Exception(\"Parameter injection failed\")\n",
    "\n",
    "#Use an easy dict for all the parameters\n",
    "p = EasyDict(parameters)\n",
    "\n",
    "if \"x_shape\" not in p:\n",
    "    p.x_shape = [2,256] # Default to this if we dont supply x_shape\n",
    "\n",
    "\n",
    "supplied_keys = set(p.keys())\n",
    "\n",
    "if  supplied_keys != required_parameters:\n",
    "    print(\"Parameters are incorrect\")\n",
    "    if len(supplied_keys - required_parameters)>0: print(\"Shouldn't have:\", str(supplied_keys - required_parameters))\n",
    "    if len(required_parameters - supplied_keys)>0: print(\"Need to have:\", str(required_parameters - supplied_keys))\n",
    "    raise RuntimeError(\"Parameters are incorrect\")"
   ]
  },
  {
   "cell_type": "code",
   "execution_count": 6,
   "id": "3a028d58",
   "metadata": {
    "execution": {
     "iopub.execute_input": "2022-03-22T18:29:42.408860Z",
     "iopub.status.busy": "2022-03-22T18:29:42.408373Z",
     "iopub.status.idle": "2022-03-22T18:29:42.426414Z",
     "shell.execute_reply": "2022-03-22T18:29:42.425584Z"
    },
    "papermill": {
     "duration": 0.04147,
     "end_time": "2022-03-22T18:29:42.426590",
     "exception": false,
     "start_time": "2022-03-22T18:29:42.385120",
     "status": "completed"
    },
    "tags": []
   },
   "outputs": [],
   "source": [
    "###################################\n",
    "# Set the RNGs and make it all deterministic\n",
    "###################################\n",
    "np.random.seed(p.seed)\n",
    "random.seed(p.seed)\n",
    "torch.manual_seed(p.seed)\n",
    "\n",
    "torch.use_deterministic_algorithms(True) "
   ]
  },
  {
   "cell_type": "code",
   "execution_count": 7,
   "id": "b691acf6",
   "metadata": {
    "execution": {
     "iopub.execute_input": "2022-03-22T18:29:42.476149Z",
     "iopub.status.busy": "2022-03-22T18:29:42.475769Z",
     "iopub.status.idle": "2022-03-22T18:29:42.493295Z",
     "shell.execute_reply": "2022-03-22T18:29:42.492448Z"
    },
    "papermill": {
     "duration": 0.040219,
     "end_time": "2022-03-22T18:29:42.493459",
     "exception": false,
     "start_time": "2022-03-22T18:29:42.453240",
     "status": "completed"
    },
    "tags": []
   },
   "outputs": [],
   "source": [
    "###########################################\n",
    "# The stratified datasets honor this\n",
    "###########################################\n",
    "torch.set_default_dtype(eval(p.torch_default_dtype))"
   ]
  },
  {
   "cell_type": "code",
   "execution_count": 8,
   "id": "b5fba671",
   "metadata": {
    "execution": {
     "iopub.execute_input": "2022-03-22T18:29:42.542899Z",
     "iopub.status.busy": "2022-03-22T18:29:42.542418Z",
     "iopub.status.idle": "2022-03-22T18:29:42.592541Z",
     "shell.execute_reply": "2022-03-22T18:29:42.593223Z"
    },
    "papermill": {
     "duration": 0.073781,
     "end_time": "2022-03-22T18:29:42.593430",
     "exception": false,
     "start_time": "2022-03-22T18:29:42.519649",
     "status": "completed"
    },
    "tags": []
   },
   "outputs": [],
   "source": [
    "###################################\n",
    "# Build the network(s)\n",
    "# Note: It's critical to do this AFTER setting the RNG\n",
    "###################################\n",
    "x_net = build_sequential(p.x_net)"
   ]
  },
  {
   "cell_type": "code",
   "execution_count": 9,
   "id": "5d7e61cc",
   "metadata": {
    "execution": {
     "iopub.execute_input": "2022-03-22T18:29:42.646416Z",
     "iopub.status.busy": "2022-03-22T18:29:42.645857Z",
     "iopub.status.idle": "2022-03-22T18:29:42.671772Z",
     "shell.execute_reply": "2022-03-22T18:29:42.670975Z"
    },
    "papermill": {
     "duration": 0.050094,
     "end_time": "2022-03-22T18:29:42.671942",
     "exception": false,
     "start_time": "2022-03-22T18:29:42.621848",
     "status": "completed"
    },
    "tags": []
   },
   "outputs": [],
   "source": [
    "start_time_secs = time.time()"
   ]
  },
  {
   "cell_type": "code",
   "execution_count": 10,
   "id": "c6b67dfd",
   "metadata": {
    "execution": {
     "iopub.execute_input": "2022-03-22T18:29:42.722628Z",
     "iopub.status.busy": "2022-03-22T18:29:42.721878Z",
     "iopub.status.idle": "2022-03-22T18:29:42.741390Z",
     "shell.execute_reply": "2022-03-22T18:29:42.742034Z"
    },
    "papermill": {
     "duration": 0.043342,
     "end_time": "2022-03-22T18:29:42.742239",
     "exception": false,
     "start_time": "2022-03-22T18:29:42.698897",
     "status": "completed"
    },
    "tags": []
   },
   "outputs": [],
   "source": [
    "p.domains_source = []\n",
    "p.domains_target = []\n",
    "\n",
    "\n",
    "train_original_source = []\n",
    "val_original_source   = []\n",
    "test_original_source  = []\n",
    "\n",
    "train_original_target = []\n",
    "val_original_target   = []\n",
    "test_original_target  = []"
   ]
  },
  {
   "cell_type": "code",
   "execution_count": 11,
   "id": "e3d9c3d3",
   "metadata": {
    "execution": {
     "iopub.execute_input": "2022-03-22T18:29:42.792351Z",
     "iopub.status.busy": "2022-03-22T18:29:42.791980Z",
     "iopub.status.idle": "2022-03-22T18:29:42.813722Z",
     "shell.execute_reply": "2022-03-22T18:29:42.812897Z"
    },
    "papermill": {
     "duration": 0.045294,
     "end_time": "2022-03-22T18:29:42.813886",
     "exception": false,
     "start_time": "2022-03-22T18:29:42.768592",
     "status": "completed"
    },
    "tags": []
   },
   "outputs": [],
   "source": [
    "# global_x_transform_func = lambda x: normalize(x.to(torch.get_default_dtype()), \"unit_power\") # unit_power, unit_mag\n",
    "# global_x_transform_func = lambda x: normalize(x, \"unit_power\") # unit_power, unit_mag"
   ]
  },
  {
   "cell_type": "code",
   "execution_count": 12,
   "id": "acb78fd2",
   "metadata": {
    "execution": {
     "iopub.execute_input": "2022-03-22T18:29:42.867642Z",
     "iopub.status.busy": "2022-03-22T18:29:42.867230Z",
     "iopub.status.idle": "2022-03-22T18:29:42.885716Z",
     "shell.execute_reply": "2022-03-22T18:29:42.884896Z"
    },
    "papermill": {
     "duration": 0.045808,
     "end_time": "2022-03-22T18:29:42.885880",
     "exception": false,
     "start_time": "2022-03-22T18:29:42.840072",
     "status": "completed"
    },
    "tags": []
   },
   "outputs": [],
   "source": [
    "def add_dataset(\n",
    "    labels,\n",
    "    domains,\n",
    "    pickle_path,\n",
    "    x_transforms,\n",
    "    episode_transforms,\n",
    "    domain_prefix,\n",
    "    num_examples_per_domain_per_label,\n",
    "    source_or_target_dataset:str,\n",
    "    iterator_seed=p.seed,\n",
    "    dataset_seed=p.dataset_seed,\n",
    "    n_shot=p.n_shot,\n",
    "    n_way=p.n_way,\n",
    "    n_query=p.n_query,\n",
    "    train_val_test_k_factors=(p.train_k_factor,p.val_k_factor,p.test_k_factor),\n",
    "):\n",
    "   \n",
    "    if x_transforms == []: x_transform = None\n",
    "    else: x_transform = get_chained_transform(x_transforms)\n",
    "    \n",
    "    if episode_transforms == []: episode_transform = None\n",
    "    else: raise Exception(\"episode_transforms not implemented\")\n",
    "    \n",
    "    episode_transform = lambda tup, _prefix=domain_prefix: (_prefix + str(tup[0]), tup[1])\n",
    "\n",
    "\n",
    "    eaf = Episodic_Accessor_Factory(\n",
    "        labels=labels,\n",
    "        domains=domains,\n",
    "        num_examples_per_domain_per_label=num_examples_per_domain_per_label,\n",
    "        iterator_seed=iterator_seed,\n",
    "        dataset_seed=dataset_seed,\n",
    "        n_shot=n_shot,\n",
    "        n_way=n_way,\n",
    "        n_query=n_query,\n",
    "        train_val_test_k_factors=train_val_test_k_factors,\n",
    "        pickle_path=pickle_path,\n",
    "        x_transform_func=x_transform,\n",
    "    )\n",
    "\n",
    "    train, val, test = eaf.get_train(), eaf.get_val(), eaf.get_test()\n",
    "    train = Lazy_Iterable_Wrapper(train, episode_transform)\n",
    "    val = Lazy_Iterable_Wrapper(val, episode_transform)\n",
    "    test = Lazy_Iterable_Wrapper(test, episode_transform)\n",
    "\n",
    "    if source_or_target_dataset==\"source\":\n",
    "        train_original_source.append(train)\n",
    "        val_original_source.append(val)\n",
    "        test_original_source.append(test)\n",
    "\n",
    "        p.domains_source.extend(\n",
    "            [domain_prefix + str(u) for u in domains]\n",
    "        )\n",
    "    elif source_or_target_dataset==\"target\":\n",
    "        train_original_target.append(train)\n",
    "        val_original_target.append(val)\n",
    "        test_original_target.append(test)\n",
    "        p.domains_target.extend(\n",
    "            [domain_prefix + str(u) for u in domains]\n",
    "        )\n",
    "    else:\n",
    "        raise Exception(f\"invalid source_or_target_dataset: {source_or_target_dataset}\")\n",
    "    "
   ]
  },
  {
   "cell_type": "code",
   "execution_count": 13,
   "id": "fe266617",
   "metadata": {
    "execution": {
     "iopub.execute_input": "2022-03-22T18:29:42.937688Z",
     "iopub.status.busy": "2022-03-22T18:29:42.936369Z",
     "iopub.status.idle": "2022-03-22T18:30:28.857642Z",
     "shell.execute_reply": "2022-03-22T18:30:28.856900Z"
    },
    "papermill": {
     "duration": 45.94522,
     "end_time": "2022-03-22T18:30:28.857835",
     "exception": false,
     "start_time": "2022-03-22T18:29:42.912615",
     "status": "completed"
    },
    "tags": []
   },
   "outputs": [],
   "source": [
    "for ds in p.datasets:\n",
    "    add_dataset(**ds)"
   ]
  },
  {
   "cell_type": "code",
   "execution_count": 14,
   "id": "b90d65ac",
   "metadata": {
    "execution": {
     "iopub.execute_input": "2022-03-22T18:30:28.911384Z",
     "iopub.status.busy": "2022-03-22T18:30:28.911007Z",
     "iopub.status.idle": "2022-03-22T18:30:28.936195Z",
     "shell.execute_reply": "2022-03-22T18:30:28.935430Z"
    },
    "papermill": {
     "duration": 0.05009,
     "end_time": "2022-03-22T18:30:28.936351",
     "exception": false,
     "start_time": "2022-03-22T18:30:28.886261",
     "status": "completed"
    },
    "tags": []
   },
   "outputs": [],
   "source": [
    "# from steves_utils.CORES.utils import (\n",
    "#     ALL_NODES,\n",
    "#     ALL_NODES_MINIMUM_1000_EXAMPLES,\n",
    "#     ALL_DAYS\n",
    "# )\n",
    "\n",
    "# add_dataset(\n",
    "#     labels=ALL_NODES,\n",
    "#     domains = ALL_DAYS,\n",
    "#     num_examples_per_domain_per_label=100,\n",
    "#     pickle_path=os.path.join(get_datasets_base_path(), \"cores.stratified_ds.2022A.pkl\"),\n",
    "#     source_or_target_dataset=\"target\",\n",
    "#     x_transform_func=global_x_transform_func,\n",
    "#     domain_modifier=lambda u: f\"cores_{u}\"\n",
    "# )"
   ]
  },
  {
   "cell_type": "code",
   "execution_count": 15,
   "id": "76db484d",
   "metadata": {
    "execution": {
     "iopub.execute_input": "2022-03-22T18:30:28.991509Z",
     "iopub.status.busy": "2022-03-22T18:30:28.990301Z",
     "iopub.status.idle": "2022-03-22T18:30:29.010686Z",
     "shell.execute_reply": "2022-03-22T18:30:29.009939Z"
    },
    "papermill": {
     "duration": 0.045224,
     "end_time": "2022-03-22T18:30:29.010841",
     "exception": false,
     "start_time": "2022-03-22T18:30:28.965617",
     "status": "completed"
    },
    "tags": []
   },
   "outputs": [],
   "source": [
    "# from steves_utils.ORACLE.utils_v2 import (\n",
    "#     ALL_DISTANCES_FEET,\n",
    "#     ALL_RUNS,\n",
    "#     ALL_SERIAL_NUMBERS,\n",
    "# )\n",
    "\n",
    "\n",
    "# add_dataset(\n",
    "#     labels=ALL_SERIAL_NUMBERS,\n",
    "#     domains = list(set(ALL_DISTANCES_FEET) - {2,62}),\n",
    "#     num_examples_per_domain_per_label=100,\n",
    "#     pickle_path=os.path.join(get_datasets_base_path(), \"oracle.Run2_framed_2000Examples_stratified_ds.2022A.pkl\"),\n",
    "#     source_or_target_dataset=\"source\",\n",
    "#     x_transform_func=global_x_transform_func,\n",
    "#     domain_modifier=lambda u: f\"oracle1_{u}\"\n",
    "# )\n"
   ]
  },
  {
   "cell_type": "code",
   "execution_count": 16,
   "id": "97dea9d2",
   "metadata": {
    "execution": {
     "iopub.execute_input": "2022-03-22T18:30:29.066644Z",
     "iopub.status.busy": "2022-03-22T18:30:29.064181Z",
     "iopub.status.idle": "2022-03-22T18:30:29.085367Z",
     "shell.execute_reply": "2022-03-22T18:30:29.084576Z"
    },
    "papermill": {
     "duration": 0.046234,
     "end_time": "2022-03-22T18:30:29.085522",
     "exception": false,
     "start_time": "2022-03-22T18:30:29.039288",
     "status": "completed"
    },
    "tags": []
   },
   "outputs": [],
   "source": [
    "# from steves_utils.ORACLE.utils_v2 import (\n",
    "#     ALL_DISTANCES_FEET,\n",
    "#     ALL_RUNS,\n",
    "#     ALL_SERIAL_NUMBERS,\n",
    "# )\n",
    "\n",
    "\n",
    "# add_dataset(\n",
    "#     labels=ALL_SERIAL_NUMBERS,\n",
    "#     domains = list(set(ALL_DISTANCES_FEET) - {2,62,56}),\n",
    "#     num_examples_per_domain_per_label=100,\n",
    "#     pickle_path=os.path.join(get_datasets_base_path(), \"oracle.Run2_framed_2000Examples_stratified_ds.2022A.pkl\"),\n",
    "#     source_or_target_dataset=\"source\",\n",
    "#     x_transform_func=global_x_transform_func,\n",
    "#     domain_modifier=lambda u: f\"oracle2_{u}\"\n",
    "# )"
   ]
  },
  {
   "cell_type": "code",
   "execution_count": 17,
   "id": "6f289866",
   "metadata": {
    "execution": {
     "iopub.execute_input": "2022-03-22T18:30:29.137691Z",
     "iopub.status.busy": "2022-03-22T18:30:29.137131Z",
     "iopub.status.idle": "2022-03-22T18:30:29.157922Z",
     "shell.execute_reply": "2022-03-22T18:30:29.157181Z"
    },
    "papermill": {
     "duration": 0.045595,
     "end_time": "2022-03-22T18:30:29.158076",
     "exception": false,
     "start_time": "2022-03-22T18:30:29.112481",
     "status": "completed"
    },
    "tags": []
   },
   "outputs": [],
   "source": [
    "# add_dataset(\n",
    "#     labels=list(range(19)),\n",
    "#     domains = [0,1,2],\n",
    "#     num_examples_per_domain_per_label=100,\n",
    "#     pickle_path=os.path.join(get_datasets_base_path(), \"metehan.stratified_ds.2022A.pkl\"),\n",
    "#     source_or_target_dataset=\"target\",\n",
    "#     x_transform_func=global_x_transform_func,\n",
    "#     domain_modifier=lambda u: f\"met_{u}\"\n",
    "# )"
   ]
  },
  {
   "cell_type": "code",
   "execution_count": 18,
   "id": "86a863c3",
   "metadata": {
    "execution": {
     "iopub.execute_input": "2022-03-22T18:30:29.211185Z",
     "iopub.status.busy": "2022-03-22T18:30:29.209890Z",
     "iopub.status.idle": "2022-03-22T18:30:29.230122Z",
     "shell.execute_reply": "2022-03-22T18:30:29.229418Z"
    },
    "papermill": {
     "duration": 0.045305,
     "end_time": "2022-03-22T18:30:29.230275",
     "exception": false,
     "start_time": "2022-03-22T18:30:29.184970",
     "status": "completed"
    },
    "tags": []
   },
   "outputs": [],
   "source": [
    "# # from steves_utils.wisig.utils import (\n",
    "# #     ALL_NODES_MINIMUM_100_EXAMPLES,\n",
    "# #     ALL_NODES_MINIMUM_500_EXAMPLES,\n",
    "# #     ALL_NODES_MINIMUM_1000_EXAMPLES,\n",
    "# #     ALL_DAYS\n",
    "# # )\n",
    "\n",
    "# import steves_utils.wisig.utils as wisig\n",
    "\n",
    "\n",
    "# add_dataset(\n",
    "#     labels=wisig.ALL_NODES_MINIMUM_100_EXAMPLES,\n",
    "#     domains = wisig.ALL_DAYS,\n",
    "#     num_examples_per_domain_per_label=100,\n",
    "#     pickle_path=os.path.join(get_datasets_base_path(), \"wisig.node3-19.stratified_ds.2022A.pkl\"),\n",
    "#     source_or_target_dataset=\"target\",\n",
    "#     x_transform_func=global_x_transform_func,\n",
    "#     domain_modifier=lambda u: f\"wisig_{u}\"\n",
    "# )"
   ]
  },
  {
   "cell_type": "code",
   "execution_count": 19,
   "id": "fd5442bc",
   "metadata": {
    "execution": {
     "iopub.execute_input": "2022-03-22T18:30:29.288257Z",
     "iopub.status.busy": "2022-03-22T18:30:29.287645Z",
     "iopub.status.idle": "2022-03-22T18:30:29.305785Z",
     "shell.execute_reply": "2022-03-22T18:30:29.304976Z"
    },
    "papermill": {
     "duration": 0.048861,
     "end_time": "2022-03-22T18:30:29.305938",
     "exception": false,
     "start_time": "2022-03-22T18:30:29.257077",
     "status": "completed"
    },
    "tags": []
   },
   "outputs": [],
   "source": [
    "###################################\n",
    "# Build the dataset\n",
    "###################################\n",
    "train_original_source = Iterable_Aggregator(train_original_source, p.seed)\n",
    "val_original_source = Iterable_Aggregator(val_original_source, p.seed)\n",
    "test_original_source = Iterable_Aggregator(test_original_source, p.seed)\n",
    "\n",
    "\n",
    "train_original_target = Iterable_Aggregator(train_original_target, p.seed)\n",
    "val_original_target = Iterable_Aggregator(val_original_target, p.seed)\n",
    "test_original_target = Iterable_Aggregator(test_original_target, p.seed)\n",
    "\n",
    "# For CNN We only use X and Y. And we only train on the source.\n",
    "# Properly form the data using a transform lambda and Lazy_Iterable_Wrapper. Finally wrap them in a dataloader\n",
    "\n",
    "transform_lambda = lambda ex: ex[1] # Original is (<domain>, <episode>) so we strip down to episode only\n",
    "\n",
    "train_processed_source = Lazy_Iterable_Wrapper(train_original_source, transform_lambda)\n",
    "val_processed_source   = Lazy_Iterable_Wrapper(val_original_source, transform_lambda)\n",
    "test_processed_source  = Lazy_Iterable_Wrapper(test_original_source, transform_lambda)\n",
    "\n",
    "train_processed_target = Lazy_Iterable_Wrapper(train_original_target, transform_lambda)\n",
    "val_processed_target   = Lazy_Iterable_Wrapper(val_original_target, transform_lambda)\n",
    "test_processed_target  = Lazy_Iterable_Wrapper(test_original_target, transform_lambda)\n",
    "\n",
    "datasets = EasyDict({\n",
    "    \"source\": {\n",
    "        \"original\": {\"train\":train_original_source, \"val\":val_original_source, \"test\":test_original_source},\n",
    "        \"processed\": {\"train\":train_processed_source, \"val\":val_processed_source, \"test\":test_processed_source}\n",
    "    },\n",
    "    \"target\": {\n",
    "        \"original\": {\"train\":train_original_target, \"val\":val_original_target, \"test\":test_original_target},\n",
    "        \"processed\": {\"train\":train_processed_target, \"val\":val_processed_target, \"test\":test_processed_target}\n",
    "    },\n",
    "})"
   ]
  },
  {
   "cell_type": "code",
   "execution_count": 20,
   "id": "5b3c01fc",
   "metadata": {
    "execution": {
     "iopub.execute_input": "2022-03-22T18:30:29.358059Z",
     "iopub.status.busy": "2022-03-22T18:30:29.357688Z",
     "iopub.status.idle": "2022-03-22T18:30:43.888037Z",
     "shell.execute_reply": "2022-03-22T18:30:43.887096Z"
    },
    "papermill": {
     "duration": 14.55515,
     "end_time": "2022-03-22T18:30:43.888284",
     "exception": false,
     "start_time": "2022-03-22T18:30:29.333134",
     "status": "completed"
    },
    "tags": []
   },
   "outputs": [
    {
     "name": "stdout",
     "output_type": "stream",
     "text": [
      "{'ORACLE.run1_26', 'ORACLE.run1_50', 'ORACLE.run1_32', 'ORACLE.run1_44', 'ORACLE.run1_38', 'ORACLE.run1_14', 'ORACLE.run1_8', 'ORACLE.run1_20'}\n"
     ]
    },
    {
     "name": "stdout",
     "output_type": "stream",
     "text": [
      "{'CORES_2', 'CORES_1', 'CORES_5', 'CORES_3', 'CORES_4'}\n"
     ]
    },
    {
     "name": "stdout",
     "output_type": "stream",
     "text": [
      "tensor([[[-0.7052, -0.5037, -0.3862,  ...,  0.0000, -0.0672, -0.0504],\n",
      "         [-0.0336, -0.4869,  1.0746,  ...,  0.0840,  1.0578,  0.9067]],\n",
      "\n",
      "        [[ 0.6851,  1.0791,  0.3939,  ...,  0.9592,  1.1990,  0.5652],\n",
      "         [-0.5995,  0.3254,  1.1133,  ...,  0.8050, -0.1713,  0.3083]],\n",
      "\n",
      "        [[ 0.3546, -1.8236, -0.4053,  ..., -0.1013, -0.0844,  0.4221],\n",
      "         [ 0.3715, -0.0844, -0.3208,  ..., -0.8780, -1.5197, -0.9962]],\n",
      "\n",
      "        ...,\n",
      "\n",
      "        [[ 1.0648,  0.6899, -0.1050,  ...,  0.5999, -0.2250,  0.2549],\n",
      "         [-1.0348, -0.8548,  0.2100,  ..., -0.9298, -0.2549, -1.3047]],\n",
      "\n",
      "        [[ 0.6386, -0.6237,  0.4455,  ..., -1.2178,  0.2970,  1.4257],\n",
      "         [-0.2228,  0.7574, -0.2079,  ...,  0.7128,  0.4604, -0.1931]],\n",
      "\n",
      "        [[-0.1064, -0.7297, -0.3192,  ...,  0.0912, -0.5929, -0.2584],\n",
      "         [ 0.0152,  0.2736, -0.7145,  ..., -1.7026, -0.7145,  0.6537]]])\n"
     ]
    }
   ],
   "source": [
    "from steves_utils.transforms import get_average_magnitude, get_average_power\n",
    "\n",
    "print(set([u for u,_ in val_original_source]))\n",
    "print(set([u for u,_ in val_original_target]))\n",
    "\n",
    "s_x, s_y, q_x, q_y, _ = next(iter(train_processed_source))\n",
    "print(s_x)\n",
    "\n",
    "# for ds in [\n",
    "#     train_processed_source,\n",
    "#     val_processed_source,\n",
    "#     test_processed_source,\n",
    "#     train_processed_target,\n",
    "#     val_processed_target,\n",
    "#     test_processed_target\n",
    "# ]:\n",
    "#     for s_x, s_y, q_x, q_y, _ in ds:\n",
    "#         for X in (s_x, q_x):\n",
    "#             for x in X:\n",
    "#                 assert np.isclose(get_average_magnitude(x.numpy()), 1.0)\n",
    "#                 assert np.isclose(get_average_power(x.numpy()), 1.0)\n",
    "                "
   ]
  },
  {
   "cell_type": "code",
   "execution_count": 21,
   "id": "bbdacba1",
   "metadata": {
    "execution": {
     "iopub.execute_input": "2022-03-22T18:30:43.945708Z",
     "iopub.status.busy": "2022-03-22T18:30:43.945315Z",
     "iopub.status.idle": "2022-03-22T18:30:44.170873Z",
     "shell.execute_reply": "2022-03-22T18:30:44.170483Z"
    },
    "papermill": {
     "duration": 0.254542,
     "end_time": "2022-03-22T18:30:44.170979",
     "exception": false,
     "start_time": "2022-03-22T18:30:43.916437",
     "status": "completed"
    },
    "tags": []
   },
   "outputs": [
    {
     "name": "stdout",
     "output_type": "stream",
     "text": [
      "(2, 256)\n"
     ]
    }
   ],
   "source": [
    "###################################\n",
    "# Build the model\n",
    "###################################\n",
    "# easfsl only wants a tuple for the shape\n",
    "model = Steves_Prototypical_Network(x_net, device=p.device, x_shape=tuple(p.x_shape))\n",
    "optimizer = Adam(params=model.parameters(), lr=p.lr)"
   ]
  },
  {
   "cell_type": "code",
   "execution_count": 22,
   "id": "22b39ac5",
   "metadata": {
    "execution": {
     "iopub.execute_input": "2022-03-22T18:30:44.221040Z",
     "iopub.status.busy": "2022-03-22T18:30:44.220663Z",
     "iopub.status.idle": "2022-03-22T18:51:45.739324Z",
     "shell.execute_reply": "2022-03-22T18:51:45.738981Z"
    },
    "papermill": {
     "duration": 1261.545082,
     "end_time": "2022-03-22T18:51:45.739409",
     "exception": false,
     "start_time": "2022-03-22T18:30:44.194327",
     "status": "completed"
    },
    "tags": []
   },
   "outputs": [
    {
     "name": "stdout",
     "output_type": "stream",
     "text": [
      "epoch: 1, [batch: 1 / 6720], examples_per_second: 32.9593, train_label_loss: 2.7869, \n"
     ]
    },
    {
     "name": "stdout",
     "output_type": "stream",
     "text": [
      "epoch: 1, [batch: 672 / 6720], examples_per_second: 3075.8971, train_label_loss: 2.8337, \n"
     ]
    },
    {
     "name": "stdout",
     "output_type": "stream",
     "text": [
      "epoch: 1, [batch: 1344 / 6720], examples_per_second: 3003.7923, train_label_loss: 1.5538, \n"
     ]
    },
    {
     "name": "stdout",
     "output_type": "stream",
     "text": [
      "epoch: 1, [batch: 2016 / 6720], examples_per_second: 2945.4555, train_label_loss: 1.4800, \n"
     ]
    },
    {
     "name": "stdout",
     "output_type": "stream",
     "text": [
      "epoch: 1, [batch: 2688 / 6720], examples_per_second: 2881.5864, train_label_loss: 1.2876, \n"
     ]
    },
    {
     "name": "stdout",
     "output_type": "stream",
     "text": [
      "epoch: 1, [batch: 3360 / 6720], examples_per_second: 2945.8975, train_label_loss: 1.3538, \n"
     ]
    },
    {
     "name": "stdout",
     "output_type": "stream",
     "text": [
      "epoch: 1, [batch: 4032 / 6720], examples_per_second: 2904.5903, train_label_loss: 1.1368, \n"
     ]
    },
    {
     "name": "stdout",
     "output_type": "stream",
     "text": [
      "epoch: 1, [batch: 4704 / 6720], examples_per_second: 2890.5560, train_label_loss: 1.1077, \n"
     ]
    },
    {
     "name": "stdout",
     "output_type": "stream",
     "text": [
      "epoch: 1, [batch: 5376 / 6720], examples_per_second: 2865.2212, train_label_loss: 0.8367, \n"
     ]
    },
    {
     "name": "stdout",
     "output_type": "stream",
     "text": [
      "epoch: 1, [batch: 6048 / 6720], examples_per_second: 2939.5692, train_label_loss: 0.7507, \n"
     ]
    },
    {
     "name": "stdout",
     "output_type": "stream",
     "text": [
      "=============================================================\n",
      "epoch: 1, source_val_acc_label: 0.5332, target_val_acc_label: 0.9524, source_val_label_loss: 1.2148, target_val_label_loss: 0.1620, \n",
      "=============================================================\n"
     ]
    },
    {
     "name": "stdout",
     "output_type": "stream",
     "text": [
      "New best\n"
     ]
    },
    {
     "name": "stdout",
     "output_type": "stream",
     "text": [
      "epoch: 2, [batch: 1 / 6720], examples_per_second: 3.0377, train_label_loss: 0.7767, \n"
     ]
    },
    {
     "name": "stdout",
     "output_type": "stream",
     "text": [
      "epoch: 2, [batch: 672 / 6720], examples_per_second: 2969.4571, train_label_loss: 1.7601, \n"
     ]
    },
    {
     "name": "stdout",
     "output_type": "stream",
     "text": [
      "epoch: 2, [batch: 1344 / 6720], examples_per_second: 2938.6704, train_label_loss: 1.4733, \n"
     ]
    },
    {
     "name": "stdout",
     "output_type": "stream",
     "text": [
      "epoch: 2, [batch: 2016 / 6720], examples_per_second: 2934.2751, train_label_loss: 0.9051, \n"
     ]
    },
    {
     "name": "stdout",
     "output_type": "stream",
     "text": [
      "epoch: 2, [batch: 2688 / 6720], examples_per_second: 2929.4415, train_label_loss: 0.6785, \n"
     ]
    },
    {
     "name": "stdout",
     "output_type": "stream",
     "text": [
      "epoch: 2, [batch: 3360 / 6720], examples_per_second: 2930.6801, train_label_loss: 1.1101, \n"
     ]
    },
    {
     "name": "stdout",
     "output_type": "stream",
     "text": [
      "epoch: 2, [batch: 4032 / 6720], examples_per_second: 2940.0942, train_label_loss: 1.4509, \n"
     ]
    },
    {
     "name": "stdout",
     "output_type": "stream",
     "text": [
      "epoch: 2, [batch: 4704 / 6720], examples_per_second: 2952.1071, train_label_loss: 0.7205, \n"
     ]
    },
    {
     "name": "stdout",
     "output_type": "stream",
     "text": [
      "epoch: 2, [batch: 5376 / 6720], examples_per_second: 2965.7967, train_label_loss: 0.5244, \n"
     ]
    },
    {
     "name": "stdout",
     "output_type": "stream",
     "text": [
      "epoch: 2, [batch: 6048 / 6720], examples_per_second: 2979.3017, train_label_loss: 0.7631, \n"
     ]
    },
    {
     "name": "stdout",
     "output_type": "stream",
     "text": [
      "=============================================================\n",
      "epoch: 2, source_val_acc_label: 0.5951, target_val_acc_label: 0.9621, source_val_label_loss: 1.0720, target_val_label_loss: 0.1713, \n",
      "=============================================================\n"
     ]
    },
    {
     "name": "stdout",
     "output_type": "stream",
     "text": [
      "New best\n"
     ]
    },
    {
     "name": "stdout",
     "output_type": "stream",
     "text": [
      "epoch: 3, [batch: 1 / 6720], examples_per_second: 3.1396, train_label_loss: 1.4440, \n"
     ]
    },
    {
     "name": "stdout",
     "output_type": "stream",
     "text": [
      "epoch: 3, [batch: 672 / 6720], examples_per_second: 2909.3211, train_label_loss: 0.7887, \n"
     ]
    },
    {
     "name": "stdout",
     "output_type": "stream",
     "text": [
      "epoch: 3, [batch: 1344 / 6720], examples_per_second: 2914.8375, train_label_loss: 0.6207, \n"
     ]
    },
    {
     "name": "stdout",
     "output_type": "stream",
     "text": [
      "epoch: 3, [batch: 2016 / 6720], examples_per_second: 2998.5934, train_label_loss: 0.6176, \n"
     ]
    },
    {
     "name": "stdout",
     "output_type": "stream",
     "text": [
      "epoch: 3, [batch: 2688 / 6720], examples_per_second: 2957.0183, train_label_loss: 0.8351, \n"
     ]
    },
    {
     "name": "stdout",
     "output_type": "stream",
     "text": [
      "epoch: 3, [batch: 3360 / 6720], examples_per_second: 3094.6424, train_label_loss: 1.0898, \n"
     ]
    },
    {
     "name": "stdout",
     "output_type": "stream",
     "text": [
      "epoch: 3, [batch: 4032 / 6720], examples_per_second: 3429.4013, train_label_loss: 0.8026, \n"
     ]
    },
    {
     "name": "stdout",
     "output_type": "stream",
     "text": [
      "epoch: 3, [batch: 4704 / 6720], examples_per_second: 3400.7264, train_label_loss: 0.5290, \n"
     ]
    },
    {
     "name": "stdout",
     "output_type": "stream",
     "text": [
      "epoch: 3, [batch: 5376 / 6720], examples_per_second: 3358.8865, train_label_loss: 1.1351, \n"
     ]
    },
    {
     "name": "stdout",
     "output_type": "stream",
     "text": [
      "epoch: 3, [batch: 6048 / 6720], examples_per_second: 3364.1447, train_label_loss: 0.5190, \n"
     ]
    },
    {
     "name": "stdout",
     "output_type": "stream",
     "text": [
      "=============================================================\n",
      "epoch: 3, source_val_acc_label: 0.6035, target_val_acc_label: 0.9610, source_val_label_loss: 1.0648, target_val_label_loss: 0.2025, \n",
      "=============================================================\n"
     ]
    },
    {
     "name": "stdout",
     "output_type": "stream",
     "text": [
      "epoch: 4, [batch: 1 / 6720], examples_per_second: 3.8786, train_label_loss: 0.7400, \n"
     ]
    },
    {
     "name": "stdout",
     "output_type": "stream",
     "text": [
      "epoch: 4, [batch: 672 / 6720], examples_per_second: 3749.3298, train_label_loss: 0.7054, \n"
     ]
    },
    {
     "name": "stdout",
     "output_type": "stream",
     "text": [
      "epoch: 4, [batch: 1344 / 6720], examples_per_second: 2972.2434, train_label_loss: 0.7176, \n"
     ]
    },
    {
     "name": "stdout",
     "output_type": "stream",
     "text": [
      "epoch: 4, [batch: 2016 / 6720], examples_per_second: 3000.2696, train_label_loss: 0.8129, \n"
     ]
    },
    {
     "name": "stdout",
     "output_type": "stream",
     "text": [
      "epoch: 4, [batch: 2688 / 6720], examples_per_second: 2992.7625, train_label_loss: 0.9500, \n"
     ]
    },
    {
     "name": "stdout",
     "output_type": "stream",
     "text": [
      "epoch: 4, [batch: 3360 / 6720], examples_per_second: 3016.6255, train_label_loss: 0.9315, \n"
     ]
    },
    {
     "name": "stdout",
     "output_type": "stream",
     "text": [
      "epoch: 4, [batch: 4032 / 6720], examples_per_second: 3011.8087, train_label_loss: 1.0799, \n"
     ]
    },
    {
     "name": "stdout",
     "output_type": "stream",
     "text": [
      "epoch: 4, [batch: 4704 / 6720], examples_per_second: 2964.5795, train_label_loss: 0.9770, \n"
     ]
    },
    {
     "name": "stdout",
     "output_type": "stream",
     "text": [
      "epoch: 4, [batch: 5376 / 6720], examples_per_second: 3008.1435, train_label_loss: 0.7851, \n"
     ]
    },
    {
     "name": "stdout",
     "output_type": "stream",
     "text": [
      "epoch: 4, [batch: 6048 / 6720], examples_per_second: 3016.4873, train_label_loss: 0.6662, \n"
     ]
    },
    {
     "name": "stdout",
     "output_type": "stream",
     "text": [
      "=============================================================\n",
      "epoch: 4, source_val_acc_label: 0.6122, target_val_acc_label: 0.9605, source_val_label_loss: 1.0772, target_val_label_loss: 0.2198, \n",
      "=============================================================\n"
     ]
    },
    {
     "name": "stdout",
     "output_type": "stream",
     "text": [
      "epoch: 5, [batch: 1 / 6720], examples_per_second: 3.1045, train_label_loss: 0.3919, \n"
     ]
    },
    {
     "name": "stdout",
     "output_type": "stream",
     "text": [
      "epoch: 5, [batch: 672 / 6720], examples_per_second: 2915.3246, train_label_loss: 0.7686, \n"
     ]
    },
    {
     "name": "stdout",
     "output_type": "stream",
     "text": [
      "epoch: 5, [batch: 1344 / 6720], examples_per_second: 3021.9356, train_label_loss: 0.4934, \n"
     ]
    },
    {
     "name": "stdout",
     "output_type": "stream",
     "text": [
      "epoch: 5, [batch: 2016 / 6720], examples_per_second: 3074.6535, train_label_loss: 0.2758, \n"
     ]
    },
    {
     "name": "stdout",
     "output_type": "stream",
     "text": [
      "epoch: 5, [batch: 2688 / 6720], examples_per_second: 2981.5287, train_label_loss: 0.7582, \n"
     ]
    },
    {
     "name": "stdout",
     "output_type": "stream",
     "text": [
      "epoch: 5, [batch: 3360 / 6720], examples_per_second: 2986.7261, train_label_loss: 0.5569, \n"
     ]
    },
    {
     "name": "stdout",
     "output_type": "stream",
     "text": [
      "epoch: 5, [batch: 4032 / 6720], examples_per_second: 3025.7405, train_label_loss: 0.5279, \n"
     ]
    },
    {
     "name": "stdout",
     "output_type": "stream",
     "text": [
      "epoch: 5, [batch: 4704 / 6720], examples_per_second: 2993.9157, train_label_loss: 0.3079, \n"
     ]
    },
    {
     "name": "stdout",
     "output_type": "stream",
     "text": [
      "epoch: 5, [batch: 5376 / 6720], examples_per_second: 2961.3754, train_label_loss: 0.5652, \n"
     ]
    },
    {
     "name": "stdout",
     "output_type": "stream",
     "text": [
      "epoch: 5, [batch: 6048 / 6720], examples_per_second: 2935.6473, train_label_loss: 0.6419, \n"
     ]
    },
    {
     "name": "stdout",
     "output_type": "stream",
     "text": [
      "=============================================================\n",
      "epoch: 5, source_val_acc_label: 0.6069, target_val_acc_label: 0.9567, source_val_label_loss: 1.1173, target_val_label_loss: 0.2612, \n",
      "=============================================================\n"
     ]
    },
    {
     "name": "stdout",
     "output_type": "stream",
     "text": [
      "epoch: 6, [batch: 1 / 6720], examples_per_second: 3.1515, train_label_loss: 0.6702, \n"
     ]
    },
    {
     "name": "stdout",
     "output_type": "stream",
     "text": [
      "epoch: 6, [batch: 672 / 6720], examples_per_second: 2959.4507, train_label_loss: 0.5299, \n"
     ]
    },
    {
     "name": "stdout",
     "output_type": "stream",
     "text": [
      "epoch: 6, [batch: 1344 / 6720], examples_per_second: 2967.2532, train_label_loss: 0.8219, \n"
     ]
    },
    {
     "name": "stdout",
     "output_type": "stream",
     "text": [
      "epoch: 6, [batch: 2016 / 6720], examples_per_second: 3040.5643, train_label_loss: 0.4917, \n"
     ]
    },
    {
     "name": "stdout",
     "output_type": "stream",
     "text": [
      "epoch: 6, [batch: 2688 / 6720], examples_per_second: 3014.8092, train_label_loss: 0.3725, \n"
     ]
    },
    {
     "name": "stdout",
     "output_type": "stream",
     "text": [
      "epoch: 6, [batch: 3360 / 6720], examples_per_second: 3020.9072, train_label_loss: 0.1822, \n"
     ]
    },
    {
     "name": "stdout",
     "output_type": "stream",
     "text": [
      "epoch: 6, [batch: 4032 / 6720], examples_per_second: 3031.7664, train_label_loss: 0.8184, \n"
     ]
    },
    {
     "name": "stdout",
     "output_type": "stream",
     "text": [
      "epoch: 6, [batch: 4704 / 6720], examples_per_second: 2981.2119, train_label_loss: 0.8273, \n"
     ]
    },
    {
     "name": "stdout",
     "output_type": "stream",
     "text": [
      "epoch: 6, [batch: 5376 / 6720], examples_per_second: 3000.0451, train_label_loss: 0.4230, \n"
     ]
    },
    {
     "name": "stdout",
     "output_type": "stream",
     "text": [
      "epoch: 6, [batch: 6048 / 6720], examples_per_second: 3041.2955, train_label_loss: 0.5456, \n"
     ]
    },
    {
     "name": "stdout",
     "output_type": "stream",
     "text": [
      "=============================================================\n",
      "epoch: 6, source_val_acc_label: 0.5968, target_val_acc_label: 0.9605, source_val_label_loss: 1.1932, target_val_label_loss: 0.2734, \n",
      "=============================================================\n"
     ]
    },
    {
     "name": "stdout",
     "output_type": "stream",
     "text": [
      "Patience (3) exhausted\n"
     ]
    }
   ],
   "source": [
    "###################################\n",
    "# train\n",
    "###################################\n",
    "jig = PTN_Train_Eval_Test_Jig(model, p.BEST_MODEL_PATH, p.device)\n",
    "\n",
    "jig.train(\n",
    "    train_iterable=datasets.source.processed.train,\n",
    "    source_val_iterable=datasets.source.processed.val,\n",
    "    target_val_iterable=datasets.target.processed.val,\n",
    "    num_epochs=p.n_epoch,\n",
    "    num_logs_per_epoch=p.NUM_LOGS_PER_EPOCH,\n",
    "    patience=p.patience,\n",
    "    optimizer=optimizer,\n",
    "    criteria_for_best=p.criteria_for_best,\n",
    ")"
   ]
  },
  {
   "cell_type": "code",
   "execution_count": 23,
   "id": "31e8fabf",
   "metadata": {
    "execution": {
     "iopub.execute_input": "2022-03-22T18:51:45.827774Z",
     "iopub.status.busy": "2022-03-22T18:51:45.827393Z",
     "iopub.status.idle": "2022-03-22T18:51:45.860298Z",
     "shell.execute_reply": "2022-03-22T18:51:45.859473Z"
    },
    "papermill": {
     "duration": 0.079534,
     "end_time": "2022-03-22T18:51:45.860454",
     "exception": false,
     "start_time": "2022-03-22T18:51:45.780920",
     "status": "completed"
    },
    "tags": []
   },
   "outputs": [],
   "source": [
    "total_experiment_time_secs = time.time() - start_time_secs"
   ]
  },
  {
   "cell_type": "code",
   "execution_count": 24,
   "id": "87b9595b",
   "metadata": {
    "execution": {
     "iopub.execute_input": "2022-03-22T18:51:45.970499Z",
     "iopub.status.busy": "2022-03-22T18:51:45.969414Z",
     "iopub.status.idle": "2022-03-22T18:55:20.051164Z",
     "shell.execute_reply": "2022-03-22T18:55:20.050386Z"
    },
    "papermill": {
     "duration": 214.133277,
     "end_time": "2022-03-22T18:55:20.051347",
     "exception": false,
     "start_time": "2022-03-22T18:51:45.918070",
     "status": "completed"
    },
    "tags": []
   },
   "outputs": [],
   "source": [
    "###################################\n",
    "# Evaluate the model\n",
    "###################################\n",
    "source_test_label_accuracy, source_test_label_loss = jig.test(datasets.source.processed.test)\n",
    "target_test_label_accuracy, target_test_label_loss = jig.test(datasets.target.processed.test)\n",
    "\n",
    "source_val_label_accuracy, source_val_label_loss = jig.test(datasets.source.processed.val)\n",
    "target_val_label_accuracy, target_val_label_loss = jig.test(datasets.target.processed.val)\n",
    "\n",
    "history = jig.get_history()\n",
    "\n",
    "total_epochs_trained = len(history[\"epoch_indices\"])\n",
    "\n",
    "val_dl = Iterable_Aggregator((datasets.source.original.val,datasets.target.original.val))\n",
    "\n",
    "confusion = ptn_confusion_by_domain_over_dataloader(model, p.device, val_dl)\n",
    "per_domain_accuracy = per_domain_accuracy_from_confusion(confusion)\n",
    "\n",
    "# Add a key to per_domain_accuracy for if it was a source domain\n",
    "for domain, accuracy in per_domain_accuracy.items():\n",
    "    per_domain_accuracy[domain] = {\n",
    "        \"accuracy\": accuracy,\n",
    "        \"source?\": domain in p.domains_source\n",
    "    }\n",
    "\n",
    "# Do an independent accuracy assesment JUST TO BE SURE!\n",
    "# _source_test_label_accuracy = independent_accuracy_assesment(model, datasets.source.processed.test, p.device)\n",
    "# _target_test_label_accuracy = independent_accuracy_assesment(model, datasets.target.processed.test, p.device)\n",
    "# _source_val_label_accuracy = independent_accuracy_assesment(model, datasets.source.processed.val, p.device)\n",
    "# _target_val_label_accuracy = independent_accuracy_assesment(model, datasets.target.processed.val, p.device)\n",
    "\n",
    "# assert(_source_test_label_accuracy == source_test_label_accuracy)\n",
    "# assert(_target_test_label_accuracy == target_test_label_accuracy)\n",
    "# assert(_source_val_label_accuracy == source_val_label_accuracy)\n",
    "# assert(_target_val_label_accuracy == target_val_label_accuracy)\n",
    "\n",
    "experiment = {\n",
    "    \"experiment_name\": p.experiment_name,\n",
    "    \"parameters\": dict(p),\n",
    "    \"results\": {\n",
    "        \"source_test_label_accuracy\": source_test_label_accuracy,\n",
    "        \"source_test_label_loss\": source_test_label_loss,\n",
    "        \"target_test_label_accuracy\": target_test_label_accuracy,\n",
    "        \"target_test_label_loss\": target_test_label_loss,\n",
    "        \"source_val_label_accuracy\": source_val_label_accuracy,\n",
    "        \"source_val_label_loss\": source_val_label_loss,\n",
    "        \"target_val_label_accuracy\": target_val_label_accuracy,\n",
    "        \"target_val_label_loss\": target_val_label_loss,\n",
    "        \"total_epochs_trained\": total_epochs_trained,\n",
    "        \"total_experiment_time_secs\": total_experiment_time_secs,\n",
    "        \"confusion\": confusion,\n",
    "        \"per_domain_accuracy\": per_domain_accuracy,\n",
    "    },\n",
    "    \"history\": history,\n",
    "    \"dataset_metrics\": get_dataset_metrics(datasets, \"ptn\"),\n",
    "}"
   ]
  },
  {
   "cell_type": "code",
   "execution_count": 25,
   "id": "54a21829",
   "metadata": {
    "execution": {
     "iopub.execute_input": "2022-03-22T18:55:20.145211Z",
     "iopub.status.busy": "2022-03-22T18:55:20.144613Z",
     "iopub.status.idle": "2022-03-22T18:55:20.364605Z",
     "shell.execute_reply": "2022-03-22T18:55:20.363917Z"
    },
    "papermill": {
     "duration": 0.264307,
     "end_time": "2022-03-22T18:55:20.364767",
     "exception": false,
     "start_time": "2022-03-22T18:55:20.100460",
     "status": "completed"
    },
    "tags": []
   },
   "outputs": [
    {
     "data": {
      "image/png": "[encoded data removed]",
      "text/plain": [
       "<Figure size 1080x504 with 1 Axes>"
      ]
     },
     "metadata": {
      "needs_background": "light"
     },
     "output_type": "display_data"
    }
   ],
   "source": [
    "ax = get_loss_curve(experiment)\n",
    "plt.show()"
   ]
  },
  {
   "cell_type": "code",
   "execution_count": 26,
   "id": "fd8a0f60",
   "metadata": {
    "execution": {
     "iopub.execute_input": "2022-03-22T18:55:20.458596Z",
     "iopub.status.busy": "2022-03-22T18:55:20.458190Z",
     "iopub.status.idle": "2022-03-22T18:55:20.776893Z",
     "shell.execute_reply": "2022-03-22T18:55:20.777584Z"
    },
    "papermill": {
     "duration": 0.367207,
     "end_time": "2022-03-22T18:55:20.777804",
     "exception": false,
     "start_time": "2022-03-22T18:55:20.410597",
     "status": "completed"
    },
    "tags": []
   },
   "outputs": [
    {
     "data": {
      "text/plain": [
       "<AxesSubplot:title={'center':'Results'}>"
      ]
     },
     "execution_count": 26,
     "metadata": {},
     "output_type": "execute_result"
    },
    {
     "data": {
      "image/png": "[encoded data removed]",
      "text/plain": [
       "<Figure size 1080x504 with 1 Axes>"
      ]
     },
     "metadata": {
      "needs_background": "light"
     },
     "output_type": "display_data"
    }
   ],
   "source": [
    "get_results_table(experiment)"
   ]
  },
  {
   "cell_type": "code",
   "execution_count": 27,
   "id": "cf8dc689",
   "metadata": {
    "execution": {
     "iopub.execute_input": "2022-03-22T18:55:20.876318Z",
     "iopub.status.busy": "2022-03-22T18:55:20.875939Z",
     "iopub.status.idle": "2022-03-22T18:55:21.134463Z",
     "shell.execute_reply": "2022-03-22T18:55:21.135152Z"
    },
    "papermill": {
     "duration": 0.307514,
     "end_time": "2022-03-22T18:55:21.135371",
     "exception": false,
     "start_time": "2022-03-22T18:55:20.827857",
     "status": "completed"
    },
    "tags": []
   },
   "outputs": [
    {
     "data": {
      "text/plain": [
       "<AxesSubplot:title={'center':'Per Domain Validation Accuracy'}, xlabel='domain'>"
      ]
     },
     "execution_count": 27,
     "metadata": {},
     "output_type": "execute_result"
    },
    {
     "data": {
      "image/png": "[encoded data removed]",
      "text/plain": [
       "<Figure size 1080x504 with 1 Axes>"
      ]
     },
     "metadata": {
      "needs_background": "light"
     },
     "output_type": "display_data"
    }
   ],
   "source": [
    "get_domain_accuracies(experiment)"
   ]
  },
  {
   "cell_type": "code",
   "execution_count": 28,
   "id": "a74ae082",
   "metadata": {
    "execution": {
     "iopub.execute_input": "2022-03-22T18:55:21.237648Z",
     "iopub.status.busy": "2022-03-22T18:55:21.236995Z",
     "iopub.status.idle": "2022-03-22T18:55:21.263019Z",
     "shell.execute_reply": "2022-03-22T18:55:21.263736Z"
    },
    "papermill": {
     "duration": 0.078715,
     "end_time": "2022-03-22T18:55:21.263952",
     "exception": false,
     "start_time": "2022-03-22T18:55:21.185237",
     "status": "completed"
    },
    "tags": []
   },
   "outputs": [
    {
     "name": "stdout",
     "output_type": "stream",
     "text": [
      "Source Test Label Accuracy: 0.5909830729166666 Target Test Label Accuracy: 0.9627808988764045\n",
      "Source Val Label Accuracy: 0.5950520833333334 Target Val Label Accuracy: 0.9620714285714286\n"
     ]
    }
   ],
   "source": [
    "print(\"Source Test Label Accuracy:\", experiment[\"results\"][\"source_test_label_accuracy\"], \"Target Test Label Accuracy:\", experiment[\"results\"][\"target_test_label_accuracy\"])\n",
    "print(\"Source Val Label Accuracy:\", experiment[\"results\"][\"source_val_label_accuracy\"], \"Target Val Label Accuracy:\", experiment[\"results\"][\"target_val_label_accuracy\"])"
   ]
  },
  {
   "cell_type": "code",
   "execution_count": 29,
   "id": "dacca602",
   "metadata": {
    "execution": {
     "iopub.execute_input": "2022-03-22T18:55:21.372210Z",
     "iopub.status.busy": "2022-03-22T18:55:21.371598Z",
     "iopub.status.idle": "2022-03-22T18:55:21.397607Z",
     "shell.execute_reply": "2022-03-22T18:55:21.398297Z"
    },
    "papermill": {
     "duration": 0.08181,
     "end_time": "2022-03-22T18:55:21.398494",
     "exception": false,
     "start_time": "2022-03-22T18:55:21.316684",
     "status": "completed"
    },
    "tags": [
     "experiment_json"
    ]
   },
   "outputs": [
    {
     "data": {
      "text/plain": [
       "'{\"experiment_name\": \"tl_1v2:cores-oracle.run1.limited\", \"parameters\": {\"experiment_name\": \"tl_1v2:cores-oracle.run1.limited\", \"device\": \"cuda\", \"lr\": 0.0001, \"n_shot\": 3, \"n_query\": 2, \"train_k_factor\": 3, \"val_k_factor\": 2, \"test_k_factor\": 2, \"torch_default_dtype\": \"torch.float32\", \"n_epoch\": 50, \"patience\": 3, \"criteria_for_best\": \"target_accuracy\", \"x_net\": [{\"class\": \"nnReshape\", \"kargs\": {\"shape\": [-1, 1, 2, 256]}}, {\"class\": \"Conv2d\", \"kargs\": {\"in_channels\": 1, \"out_channels\": 256, \"kernel_size\": [1, 7], \"bias\": false, \"padding\": [0, 3]}}, {\"class\": \"ReLU\", \"kargs\": {\"inplace\": true}}, {\"class\": \"BatchNorm2d\", \"kargs\": {\"num_features\": 256}}, {\"class\": \"Conv2d\", \"kargs\": {\"in_channels\": 256, \"out_channels\": 80, \"kernel_size\": [2, 7], \"bias\": true, \"padding\": [0, 3]}}, {\"class\": \"ReLU\", \"kargs\": {\"inplace\": true}}, {\"class\": \"BatchNorm2d\", \"kargs\": {\"num_features\": 80}}, {\"class\": \"Flatten\", \"kargs\": {}}, {\"class\": \"Linear\", \"kargs\": {\"in_features\": 20480, \"out_features\": 256}}, {\"class\": \"ReLU\", \"kargs\": {\"inplace\": true}}, {\"class\": \"BatchNorm1d\", \"kargs\": {\"num_features\": 256}}, {\"class\": \"Linear\", \"kargs\": {\"in_features\": 256, \"out_features\": 256}}], \"NUM_LOGS_PER_EPOCH\": 10, \"BEST_MODEL_PATH\": \"./best_model.pth\", \"n_way\": 16, \"datasets\": [{\"labels\": [\"1-10.\", \"1-11.\", \"1-15.\", \"1-16.\", \"1-17.\", \"1-18.\", \"1-19.\", \"10-4.\", \"10-7.\", \"11-1.\", \"11-14.\", \"11-17.\", \"11-20.\", \"11-7.\", \"13-20.\", \"13-8.\", \"14-10.\", \"14-11.\", \"14-14.\", \"14-7.\", \"15-1.\", \"15-20.\", \"16-1.\", \"16-16.\", \"17-10.\", \"17-11.\", \"17-2.\", \"19-1.\", \"19-16.\", \"19-19.\", \"19-20.\", \"19-3.\", \"2-10.\", \"2-11.\", \"2-17.\", \"2-18.\", \"2-20.\", \"2-3.\", \"2-4.\", \"2-5.\", \"2-6.\", \"2-7.\", \"2-8.\", \"3-13.\", \"3-18.\", \"3-3.\", \"4-1.\", \"4-10.\", \"4-11.\", \"4-19.\", \"5-5.\", \"6-15.\", \"7-10.\", \"7-14.\", \"8-18.\", \"8-20.\", \"8-3.\", \"8-8.\"], \"domains\": [1, 2, 3, 4, 5], \"num_examples_per_domain_per_label\": -1, \"pickle_path\": \"/root/csc500-main/datasets/cores.stratified_ds.2022A.pkl\", \"source_or_target_dataset\": \"target\", \"x_transforms\": [\"unit_power\"], \"episode_transforms\": [], \"domain_prefix\": \"CORES_\"}, {\"labels\": [\"3123D52\", \"3123D65\", \"3123D79\", \"3123D80\", \"3123D54\", \"3123D70\", \"3123D7B\", \"3123D89\", \"3123D58\", \"3123D76\", \"3123D7D\", \"3123EFE\", \"3123D64\", \"3123D78\", \"3123D7E\", \"3124E4A\"], \"domains\": [32, 38, 8, 44, 14, 50, 20, 26], \"num_examples_per_domain_per_label\": 2000, \"pickle_path\": \"/root/csc500-main/datasets/oracle.Run1_10kExamples_stratified_ds.2022A.pkl\", \"source_or_target_dataset\": \"source\", \"x_transforms\": [\"unit_power\"], \"episode_transforms\": [], \"domain_prefix\": \"ORACLE.run1_\"}], \"dataset_seed\": 500, \"seed\": 500, \"x_shape\": [2, 256], \"domains_source\": [\"ORACLE.run1_32\", \"ORACLE.run1_38\", \"ORACLE.run1_8\", \"ORACLE.run1_44\", \"ORACLE.run1_14\", \"ORACLE.run1_50\", \"ORACLE.run1_20\", \"ORACLE.run1_26\"], \"domains_target\": [\"CORES_1\", \"CORES_2\", \"CORES_3\", \"CORES_4\", \"CORES_5\"]}, \"results\": {\"source_test_label_accuracy\": 0.5909830729166666, \"source_test_label_loss\": 1.0724518299102783, \"target_test_label_accuracy\": 0.9627808988764045, \"target_test_label_loss\": 0.1940571814775467, \"source_val_label_accuracy\": 0.5950520833333334, \"source_val_label_loss\": 1.071954369544983, \"target_val_label_accuracy\": 0.9620714285714286, \"target_val_label_loss\": 0.17134904861450195, \"total_epochs_trained\": 6, \"total_experiment_time_secs\": 1323.1883428096771, \"confusion\": {\"ORACLE.run1_50\": {\"7\": {\"5\": 39, \"13\": 40, \"7\": 148, \"10\": 12, \"4\": 1}, \"10\": {\"13\": 3, \"10\": 200, \"5\": 4, \"0\": 14, \"7\": 14, \"8\": 5}, \"0\": {\"0\": 195, \"10\": 14, \"2\": 30, \"6\": 1}, \"11\": {\"11\": 182, \"9\": 38, \"14\": 6, \"15\": 11, \"12\": 2, \"1\": 1}, \"2\": {\"2\": 216, \"0\": 24}, \"14\": {\"14\": 224, \"12\": 11, \"11\": 4, \"9\": 1}, \"9\": {\"12\": 24, \"9\": 169, \"11\": 46, \"14\": 1}, \"13\": {\"5\": 62, \"13\": 109, \"6\": 8, \"10\": 5, \"7\": 48, \"4\": 5, \"0\": 2, \"1\": 1}, \"8\": {\"8\": 231, \"10\": 4, \"3\": 5}, \"15\": {\"15\": 162, \"4\": 23, \"1\": 49, \"11\": 2, \"6\": 4}, \"4\": {\"6\": 49, \"1\": 45, \"5\": 26, \"15\": 35, \"13\": 7, \"4\": 72, \"7\": 6}, \"5\": {\"6\": 43, \"5\": 63, \"4\": 20, \"13\": 45, \"1\": 4, \"7\": 61, \"10\": 4}, \"3\": {\"3\": 238, \"8\": 2}, \"1\": {\"15\": 49, \"1\": 107, \"4\": 47, \"6\": 34, \"11\": 2, \"5\": 1}, \"6\": {\"6\": 106, \"4\": 52, \"13\": 16, \"1\": 35, \"5\": 23, \"15\": 5, \"7\": 1, \"0\": 1, \"2\": 1}, \"12\": {\"14\": 14, \"12\": 202, \"9\": 22, \"11\": 2}}, \"ORACLE.run1_14\": {\"14\": {\"2\": 27, \"14\": 111, \"4\": 4, \"3\": 12, \"6\": 31, \"13\": 53, \"10\": 2}, \"6\": {\"13\": 67, \"6\": 118, \"2\": 29, \"14\": 25, \"5\": 1}, \"5\": {\"5\": 126, \"7\": 4, \"3\": 5, \"1\": 33, \"4\": 52, \"2\": 16, \"15\": 4}, \"15\": {\"15\": 205, \"1\": 1, \"7\": 33, \"5\": 1}, \"11\": {\"11\": 182, \"10\": 34, \"9\": 15, \"0\": 9}, \"8\": {\"8\": 238, \"0\": 2}, \"12\": {\"12\": 234, \"9\": 6}, \"1\": {\"1\": 179, \"5\": 40, \"7\": 6, \"4\": 15}, \"2\": {\"4\": 25, \"14\": 33, \"2\": 94, \"5\": 18, \"13\": 26, \"6\": 26, \"3\": 13, \"15\": 4, \"10\": 1}, \"13\": {\"4\": 6, \"6\": 82, \"14\": 47, \"13\": 77, \"2\": 21, \"10\": 2, \"5\": 4, \"3\": 1}, \"3\": {\"3\": 133, \"4\": 60, \"14\": 19, \"5\": 6, \"0\": 8, \"10\": 6, \"6\": 1, \"2\": 7}, \"0\": {\"0\": 152, \"3\": 10, \"10\": 67, \"11\": 11}, \"9\": {\"9\": 231, \"11\": 5, \"12\": 4}, \"4\": {\"3\": 46, \"4\": 115, \"5\": 45, \"1\": 16, \"2\": 14, \"14\": 3, \"0\": 1}, \"7\": {\"7\": 201, \"15\": 36, \"1\": 2, \"5\": 1}, \"10\": {\"10\": 170, \"0\": 50, \"11\": 10, \"14\": 5, \"3\": 5}}, \"ORACLE.run1_32\": {\"4\": {\"4\": 81, \"0\": 65, \"5\": 17, \"7\": 28, \"2\": 28, \"14\": 8, \"8\": 9, \"13\": 4}, \"14\": {\"13\": 15, \"11\": 66, \"4\": 10, \"5\": 18, \"7\": 53, \"14\": 59, \"8\": 1, \"2\": 8, \"0\": 6, \"3\": 4}, \"5\": {\"2\": 3, \"13\": 53, \"0\": 17, \"5\": 51, \"4\": 24, \"8\": 38, \"7\": 19, \"11\": 10, \"14\": 14, \"3\": 11}, \"10\": {\"10\": 239, \"1\": 1}, \"13\": {\"5\": 53, \"8\": 28, \"4\": 14, \"13\": 84, \"14\": 13, \"0\": 11, \"3\": 22, \"7\": 14, \"2\": 1}, \"9\": {\"9\": 240}, \"6\": {\"6\": 240}, \"3\": {\"3\": 212, \"8\": 6, \"13\": 16, \"5\": 5, \"11\": 1}, \"15\": {\"15\": 232, \"3\": 3, \"8\": 4, \"5\": 1}, \"7\": {\"5\": 29, \"14\": 44, \"4\": 29, \"2\": 13, \"7\": 72, \"13\": 14, \"8\": 5, \"11\": 27, \"0\": 7}, \"12\": {\"12\": 240}, \"8\": {\"8\": 171, \"4\": 3, \"5\": 24, \"3\": 7, \"0\": 13, \"13\": 21, \"7\": 1}, \"11\": {\"11\": 155, \"13\": 10, \"14\": 39, \"3\": 5, \"7\": 24, \"5\": 7}, \"2\": {\"2\": 154, \"7\": 6, \"0\": 32, \"4\": 46, \"5\": 1, \"14\": 1}, \"1\": {\"1\": 237, \"10\": 3}, \"0\": {\"8\": 15, \"0\": 109, \"4\": 60, \"5\": 13, \"13\": 7, \"2\": 24, \"14\": 3, \"7\": 9}}, \"ORACLE.run1_44\": {\"8\": {\"8\": 163, \"0\": 66, \"15\": 9, \"5\": 2}, \"11\": {\"11\": 188, \"13\": 32, \"6\": 19, \"9\": 1}, \"14\": {\"4\": 83, \"14\": 145, \"15\": 8, \"5\": 4}, \"10\": {\"10\": 158, \"2\": 26, \"1\": 33, \"12\": 20, \"7\": 1, \"3\": 2}, \"3\": {\"2\": 2, \"3\": 207, \"1\": 28, \"7\": 1, \"12\": 1, \"9\": 1}, \"15\": {\"0\": 19, \"15\": 191, \"14\": 18, \"5\": 7, \"4\": 3, \"8\": 2}, \"2\": {\"2\": 160, \"10\": 26, \"7\": 39, \"1\": 12, \"6\": 1, \"3\": 2}, \"12\": {\"12\": 150, \"1\": 57, \"10\": 24, \"3\": 9}, \"4\": {\"4\": 164, \"14\": 72, \"15\": 4}, \"1\": {\"12\": 67, \"1\": 103, \"10\": 20, \"3\": 40, \"2\": 9, \"7\": 1}, \"0\": {\"8\": 72, \"15\": 18, \"0\": 131, \"5\": 18, \"14\": 1}, \"9\": {\"2\": 5, \"6\": 25, \"13\": 35, \"9\": 119, \"7\": 55, \"1\": 1}, \"5\": {\"0\": 25, \"5\": 202, \"15\": 4, \"8\": 5, \"14\": 4}, \"6\": {\"6\": 152, \"13\": 39, \"11\": 14, \"9\": 19, \"7\": 13, \"2\": 3}, \"7\": {\"7\": 130, \"2\": 49, \"6\": 16, \"9\": 37, \"1\": 3, \"13\": 2, \"3\": 3}, \"13\": {\"13\": 137, \"9\": 28, \"6\": 48, \"11\": 26, \"7\": 1}}, \"ORACLE.run1_8\": {\"13\": {\"13\": 67, \"0\": 70, \"4\": 39, \"10\": 26, \"6\": 15, \"7\": 3, \"14\": 19, \"5\": 1}, \"3\": {\"3\": 149, \"2\": 44, \"12\": 45, \"15\": 2}, \"15\": {\"15\": 157, \"12\": 57, \"8\": 13, \"3\": 7, \"7\": 3, \"2\": 3}, \"4\": {\"4\": 87, \"13\": 53, \"14\": 30, \"10\": 11, \"0\": 23, \"6\": 28, \"7\": 2, \"1\": 5, \"11\": 1}, \"7\": {\"7\": 163, \"6\": 47, \"15\": 2, \"0\": 18, \"8\": 6, \"13\": 4}, \"2\": {\"3\": 53, \"2\": 168, \"6\": 1, \"12\": 6, \"7\": 7, \"15\": 5}, \"1\": {\"1\": 117, \"11\": 89, \"5\": 8, \"14\": 16, \"10\": 7, \"13\": 1, \"4\": 2}, \"0\": {\"0\": 101, \"13\": 55, \"7\": 22, \"6\": 28, \"4\": 31, \"10\": 2, \"14\": 1}, \"12\": {\"15\": 68, \"3\": 28, \"12\": 128, \"8\": 8, \"2\": 8}, \"6\": {\"6\": 105, \"0\": 19, \"4\": 38, \"14\": 3, \"7\": 61, \"13\": 12, \"8\": 1, \"1\": 1}, \"11\": {\"11\": 118, \"8\": 4, \"1\": 87, \"5\": 18, \"14\": 10, \"10\": 2, \"4\": 1}, \"9\": {\"9\": 240}, \"5\": {\"10\": 17, \"5\": 208, \"14\": 4, \"1\": 6, \"11\": 4, \"13\": 1}, \"10\": {\"10\": 124, \"14\": 63, \"0\": 4, \"1\": 4, \"13\": 16, \"4\": 15, \"6\": 1, \"5\": 13}, \"14\": {\"14\": 82, \"10\": 62, \"4\": 45, \"11\": 10, \"13\": 19, \"6\": 2, \"1\": 12, \"5\": 5, \"0\": 3}, \"8\": {\"15\": 27, \"8\": 204, \"6\": 3, \"7\": 2, \"12\": 4}}, \"ORACLE.run1_20\": {\"6\": {\"6\": 187, \"14\": 29, \"8\": 10, \"7\": 6, \"11\": 3, \"10\": 4, \"2\": 1}, \"11\": {\"11\": 236, \"6\": 2, \"7\": 1, \"13\": 1}, \"5\": {\"5\": 49, \"1\": 47, \"15\": 33, \"3\": 14, \"0\": 52, \"12\": 21, \"4\": 11, \"9\": 6, \"2\": 5, \"13\": 2}, \"14\": {\"14\": 121, \"6\": 50, \"8\": 16, \"10\": 53}, \"2\": {\"1\": 3, \"13\": 20, \"2\": 72, \"9\": 55, \"7\": 45, \"5\": 4, \"12\": 15, \"3\": 21, \"15\": 1, \"4\": 1, \"0\": 2, \"8\": 1}, \"7\": {\"2\": 50, \"3\": 10, \"7\": 124, \"6\": 5, \"8\": 26, \"9\": 16, \"13\": 3, \"12\": 2, \"11\": 1, \"4\": 2, \"10\": 1}, \"3\": {\"12\": 40, \"4\": 20, \"7\": 24, \"3\": 45, \"8\": 12, \"9\": 35, \"0\": 10, \"5\": 19, \"2\": 22, \"15\": 3, \"1\": 10}, \"4\": {\"8\": 34, \"4\": 160, \"3\": 15, \"9\": 5, \"10\": 20, \"5\": 3, \"7\": 2, \"12\": 1}, \"9\": {\"8\": 6, \"2\": 51, \"9\": 58, \"12\": 18, \"7\": 30, \"3\": 33, \"0\": 2, \"13\": 19, \"4\": 4, \"6\": 1, \"1\": 7, \"15\": 3, \"5\": 8}, \"12\": {\"5\": 37, \"12\": 53, \"15\": 12, \"3\": 39, \"0\": 25, \"13\": 3, \"4\": 5, \"2\": 17, \"1\": 27, \"9\": 17, \"7\": 4, \"8\": 1}, \"0\": {\"0\": 59, \"15\": 38, \"1\": 42, \"5\": 56, \"3\": 10, \"9\": 10, \"12\": 17, \"2\": 3, \"4\": 4, \"7\": 1}, \"10\": {\"4\": 23, \"10\": 118, \"8\": 52, \"6\": 9, \"14\": 37, \"7\": 1}, \"8\": {\"10\": 31, \"3\": 14, \"4\": 48, \"7\": 15, \"8\": 106, \"9\": 7, \"14\": 11, \"12\": 2, \"6\": 6}, \"13\": {\"13\": 184, \"9\": 14, \"15\": 9, \"11\": 2, \"7\": 2, \"2\": 20, \"12\": 7, \"1\": 1, \"3\": 1}, \"1\": {\"15\": 59, \"0\": 58, \"12\": 30, \"5\": 39, \"1\": 37, \"2\": 6, \"13\": 6, \"7\": 1, \"3\": 3, \"9\": 1}, \"15\": {\"9\": 7, \"15\": 100, \"0\": 33, \"1\": 47, \"5\": 26, \"12\": 10, \"13\": 16, \"3\": 1}}, \"ORACLE.run1_38\": {\"3\": {\"0\": 3, \"3\": 189, \"9\": 32, \"7\": 9, \"6\": 3, \"5\": 4}, \"8\": {\"10\": 4, \"5\": 66, \"13\": 2, \"8\": 106, \"7\": 11, \"15\": 12, \"0\": 39}, \"0\": {\"5\": 38, \"0\": 53, \"8\": 65, \"7\": 65, \"3\": 10, \"15\": 1, \"6\": 3, \"9\": 4, \"10\": 1}, \"2\": {\"2\": 213, \"14\": 22, \"13\": 5}, \"4\": {\"4\": 219, \"12\": 20, \"7\": 1}, \"7\": {\"7\": 156, \"0\": 66, \"8\": 12, \"12\": 1, \"5\": 4, \"10\": 1}, \"12\": {\"12\": 204, \"4\": 20, \"10\": 16}, \"6\": {\"6\": 164, \"9\": 71, \"5\": 5}, \"15\": {\"8\": 9, \"1\": 23, \"13\": 72, \"15\": 129, \"5\": 3, \"10\": 3, \"2\": 1}, \"11\": {\"11\": 148, \"14\": 83, \"10\": 3, \"12\": 3, \"2\": 3}, \"9\": {\"6\": 82, \"9\": 143, \"3\": 15}, \"14\": {\"11\": 75, \"14\": 151, \"2\": 11, \"10\": 2, \"12\": 1}, \"10\": {\"15\": 5, \"12\": 22, \"10\": 173, \"13\": 20, \"2\": 1, \"8\": 14, \"14\": 4, \"0\": 1}, \"5\": {\"0\": 32, \"5\": 74, \"8\": 71, \"6\": 16, \"15\": 16, \"7\": 13, \"9\": 6, \"1\": 4, \"3\": 3, \"10\": 4, \"13\": 1}, \"1\": {\"1\": 211, \"15\": 22, \"6\": 1, \"5\": 5, \"13\": 1}, \"13\": {\"13\": 139, \"15\": 69, \"10\": 15, \"2\": 12, \"8\": 3, \"1\": 2}}, \"ORACLE.run1_26\": {\"5\": {\"15\": 43, \"2\": 15, \"5\": 91, \"7\": 3, \"13\": 46, \"9\": 27, \"3\": 3, \"10\": 1, \"6\": 7, \"8\": 3, \"0\": 1}, \"8\": {\"8\": 51, \"10\": 31, \"14\": 14, \"4\": 17, \"0\": 20, \"15\": 24, \"7\": 17, \"9\": 19, \"6\": 26, \"5\": 5, \"2\": 8, \"3\": 4, \"1\": 4}, \"4\": {\"4\": 68, \"14\": 38, \"0\": 29, \"7\": 34, \"8\": 20, \"1\": 31, \"3\": 4, \"9\": 3, \"10\": 8, \"2\": 3, \"15\": 1, \"5\": 1}, \"12\": {\"12\": 236, \"11\": 4}, \"6\": {\"6\": 128, \"13\": 4, \"15\": 10, \"9\": 40, \"10\": 33, \"8\": 17, \"5\": 5, \"14\": 1, \"0\": 2}, \"7\": {\"7\": 89, \"8\": 21, \"2\": 32, \"3\": 46, \"14\": 6, \"4\": 24, \"9\": 5, \"0\": 5, \"1\": 2, \"10\": 2, \"5\": 4, \"15\": 4}, \"10\": {\"0\": 43, \"10\": 74, \"14\": 23, \"6\": 31, \"8\": 33, \"9\": 9, \"1\": 9, \"2\": 2, \"4\": 11, \"15\": 1, \"5\": 1, \"7\": 3}, \"0\": {\"10\": 45, \"8\": 25, \"14\": 41, \"4\": 46, \"0\": 35, \"1\": 25, \"6\": 8, \"7\": 8, \"3\": 3, \"2\": 2, \"9\": 1, \"5\": 1}, \"15\": {\"15\": 60, \"5\": 63, \"9\": 41, \"6\": 9, \"8\": 14, \"2\": 12, \"13\": 25, \"0\": 3, \"7\": 5, \"10\": 2, \"3\": 5, \"4\": 1}, \"9\": {\"9\": 70, \"15\": 48, \"6\": 34, \"8\": 25, \"5\": 38, \"13\": 8, \"7\": 4, \"4\": 2, \"1\": 1, \"0\": 4, \"10\": 3, \"2\": 3}, \"11\": {\"11\": 230, \"12\": 10}, \"14\": {\"0\": 29, \"10\": 27, \"1\": 56, \"14\": 59, \"9\": 1, \"8\": 12, \"4\": 47, \"7\": 8, \"6\": 1}, \"2\": {\"8\": 10, \"3\": 76, \"4\": 3, \"7\": 29, \"2\": 74, \"5\": 24, \"13\": 6, \"15\": 11, \"9\": 4, \"6\": 2, \"10\": 1}, \"13\": {\"13\": 142, \"9\": 13, \"15\": 22, \"5\": 49, \"2\": 1, \"6\": 12, \"3\": 1}, \"3\": {\"2\": 73, \"4\": 2, \"7\": 47, \"3\": 114, \"15\": 3, \"8\": 1}, \"1\": {\"14\": 56, \"0\": 25, \"1\": 94, \"10\": 23, \"4\": 29, \"7\": 7, \"8\": 4, \"2\": 1, \"6\": 1}}, \"CORES_4\": {\"38\": {\"38\": 40}, \"3\": {\"3\": 115, \"20\": 3, \"25\": 2, \"36\": 1, \"6\": 2, \"21\": 1}, \"24\": {\"24\": 56}, \"49\": {\"49\": 20}, \"7\": {\"7\": 22, \"32\": 2}, \"17\": {\"17\": 78, \"9\": 2}, \"43\": {\"43\": 148}, \"30\": {\"30\": 44}, \"44\": {\"44\": 128, \"19\": 4}, \"23\": {\"23\": 142, \"18\": 1, \"0\": 1}, \"37\": {\"37\": 24}, \"4\": {\"4\": 132}, \"57\": {\"57\": 98, \"55\": 1, \"1\": 1}, \"16\": {\"16\": 96}, \"18\": {\"18\": 105, \"36\": 2, \"27\": 1}, \"20\": {\"20\": 122, \"50\": 2}, \"45\": {\"45\": 96}, \"15\": {\"15\": 132}, \"52\": {\"52\": 116}, \"19\": {\"19\": 139, \"44\": 1}, \"54\": {\"54\": 108}, \"56\": {\"56\": 130}, \"40\": {\"40\": 134}, \"28\": {\"28\": 29, \"33\": 3}, \"2\": {\"2\": 36}, \"9\": {\"9\": 117, \"17\": 3}, \"0\": {\"0\": 57, \"49\": 3, \"38\": 1, \"43\": 4, \"46\": 6, \"50\": 1, \"23\": 1, \"22\": 6, \"47\": 1}, \"36\": {\"36\": 90, \"25\": 2}, \"55\": {\"55\": 128, \"57\": 1, \"35\": 1}, \"35\": {\"35\": 40}, \"39\": {\"39\": 19, \"0\": 1}, \"31\": {\"31\": 27, \"16\": 1}, \"14\": {\"49\": 2, \"28\": 2, \"14\": 11, \"55\": 1}, \"12\": {\"12\": 91, \"21\": 1}, \"6\": {\"6\": 101, \"53\": 9, \"3\": 2}, \"26\": {\"26\": 24}, \"50\": {\"50\": 115, \"53\": 7, \"21\": 2, \"20\": 7, \"6\": 1}, \"21\": {\"21\": 122}, \"46\": {\"46\": 128, \"41\": 3, \"7\": 2, \"47\": 4, \"5\": 1, \"0\": 1, \"23\": 1}, \"51\": {\"51\": 140}, \"41\": {\"41\": 33, \"46\": 3}, \"34\": {\"34\": 19, \"42\": 5}, \"47\": {\"5\": 10, \"47\": 110}, \"5\": {\"5\": 92, \"47\": 13, \"48\": 2, \"42\": 1}, \"1\": {\"1\": 40}, \"48\": {\"48\": 134}, \"29\": {\"29\": 115, \"44\": 1, \"35\": 1, \"33\": 1}, \"22\": {\"22\": 122, \"38\": 6}, \"10\": {\"10\": 132}, \"32\": {\"32\": 20, \"7\": 2, \"0\": 2}, \"13\": {\"13\": 112}, \"42\": {\"42\": 31, \"34\": 1}, \"27\": {\"27\": 138}, \"8\": {\"8\": 142}, \"33\": {\"33\": 34, \"28\": 2}, \"25\": {\"25\": 128, \"36\": 4}, \"11\": {\"11\": 104}, \"53\": {\"53\": 110, \"50\": 1, \"6\": 1}}, \"CORES_2\": {\"32\": {\"32\": 28}, \"17\": {\"17\": 104}, \"38\": {\"38\": 20}, \"2\": {\"49\": 2, \"2\": 30}, \"43\": {\"43\": 144}, \"56\": {\"56\": 144}, \"37\": {\"37\": 36}, \"49\": {\"49\": 24}, \"0\": {\"0\": 39, \"47\": 5, \"5\": 3, \"42\": 1}, \"29\": {\"29\": 127, \"40\": 1}, \"35\": {\"35\": 32}, \"18\": {\"18\": 47, \"30\": 1}, \"25\": {\"25\": 133, \"18\": 1, \"30\": 2}, \"23\": {\"23\": 118, \"39\": 6}, \"15\": {\"15\": 146}, \"21\": {\"21\": 120}, \"51\": {\"51\": 128}, \"20\": {\"20\": 138}, \"7\": {\"7\": 36}, \"50\": {\"50\": 117, \"6\": 17, \"8\": 1, \"25\": 1}, \"31\": {\"31\": 28}, \"30\": {\"30\": 138, \"18\": 1, \"36\": 1}, \"19\": {\"19\": 156}, \"9\": {\"9\": 142, \"4\": 2}, \"52\": {\"52\": 119, \"46\": 4, \"16\": 1}, \"45\": {\"45\": 126, \"4\": 2}, \"8\": {\"8\": 154}, \"55\": {\"55\": 160}, \"12\": {\"12\": 91, \"20\": 1}, \"40\": {\"40\": 140}, \"28\": {\"28\": 28}, \"36\": {\"36\": 116}, \"39\": {\"39\": 28}, \"46\": {\"46\": 113, \"52\": 9}, \"14\": {\"56\": 1, \"14\": 12, \"55\": 4, \"1\": 2, \"0\": 1, \"5\": 1, \"29\": 2, \"40\": 1}, \"57\": {\"57\": 141, \"42\": 1}, \"34\": {\"34\": 27, \"1\": 1}, \"1\": {\"1\": 109, \"34\": 2, \"17\": 1}, \"53\": {\"53\": 136}, \"48\": {\"48\": 130}, \"3\": {\"3\": 86, \"21\": 4, \"53\": 2}, \"16\": {\"16\": 152}, \"6\": {\"6\": 99, \"50\": 20, \"25\": 4, \"30\": 1}, \"10\": {\"10\": 109, \"24\": 3}, \"13\": {\"13\": 116}, \"26\": {\"26\": 24}, \"24\": {\"24\": 91, \"10\": 5}, \"44\": {\"44\": 99, \"35\": 1}, \"27\": {\"27\": 150}, \"22\": {\"22\": 128}, \"33\": {\"33\": 28}, \"47\": {\"47\": 113, \"0\": 4, \"5\": 1}, \"5\": {\"5\": 111, \"47\": 4, \"42\": 2, \"0\": 2, \"57\": 1}, \"4\": {\"4\": 134, \"9\": 4}, \"41\": {\"41\": 20}, \"11\": {\"11\": 150}, \"54\": {\"54\": 108}, \"42\": {\"42\": 36}}, \"CORES_3\": {\"5\": {\"5\": 112, \"42\": 3, \"0\": 1}, \"32\": {\"32\": 28}, \"33\": {\"33\": 28}, \"49\": {\"49\": 20}, \"39\": {\"39\": 15, \"23\": 1}, \"11\": {\"11\": 142}, \"8\": {\"8\": 116}, \"26\": {\"26\": 24}, \"51\": {\"51\": 122}, \"4\": {\"4\": 146}, \"52\": {\"52\": 105, \"46\": 13}, \"47\": {\"47\": 84, \"39\": 1, \"0\": 7}, \"17\": {\"17\": 105, \"27\": 2, \"24\": 1}, \"53\": {\"53\": 136}, \"2\": {\"2\": 32}, \"12\": {\"12\": 90, \"38\": 2}, \"37\": {\"37\": 28}, \"9\": {\"9\": 148}, \"13\": {\"13\": 128}, \"54\": {\"54\": 98, \"2\": 2}, \"31\": {\"31\": 28}, \"34\": {\"34\": 32}, \"24\": {\"24\": 102, \"10\": 2}, \"7\": {\"7\": 36}, \"50\": {\"50\": 108, \"52\": 2, \"20\": 4, \"46\": 1, \"6\": 3}, \"46\": {\"46\": 109, \"52\": 13, \"25\": 3, \"3\": 3}, \"44\": {\"44\": 88}, \"40\": {\"40\": 103, \"19\": 13}, \"21\": {\"21\": 128}, \"45\": {\"45\": 58, \"4\": 2}, \"16\": {\"16\": 126}, \"14\": {\"14\": 21, \"56\": 4, \"35\": 3, \"22\": 4, \"0\": 1, \"34\": 2, \"57\": 1, \"28\": 1, \"31\": 2, \"1\": 1}, \"36\": {\"36\": 99, \"2\": 1}, \"56\": {\"56\": 114}, \"10\": {\"10\": 64}, \"18\": {\"18\": 83, \"6\": 1}, \"48\": {\"48\": 116}, \"38\": {\"38\": 28}, \"27\": {\"27\": 130}, \"42\": {\"42\": 27, \"5\": 1}, \"15\": {\"15\": 134}, \"1\": {\"1\": 94, \"34\": 1, \"57\": 4, \"35\": 1}, \"28\": {\"28\": 28}, \"43\": {\"43\": 136}, \"0\": {\"0\": 121, \"47\": 3}, \"57\": {\"1\": 7, \"57\": 116, \"34\": 1}, \"3\": {\"3\": 143, \"46\": 4, \"52\": 1}, \"29\": {\"29\": 124}, \"41\": {\"41\": 27, \"30\": 1}, \"25\": {\"25\": 143, \"50\": 1, \"52\": 2}, \"6\": {\"41\": 1, \"20\": 3, \"6\": 55, \"30\": 13, \"18\": 11, \"36\": 3, \"50\": 1, \"8\": 1}, \"35\": {\"35\": 26, \"34\": 2}, \"20\": {\"20\": 125, \"50\": 1}, \"23\": {\"23\": 134}, \"22\": {\"22\": 138, \"14\": 2}, \"19\": {\"19\": 108, \"40\": 8}, \"55\": {\"55\": 123, \"28\": 1}, \"30\": {\"30\": 117, \"6\": 3}}, \"CORES_1\": {\"24\": {\"24\": 76, \"52\": 4, \"10\": 14, \"22\": 14}, \"25\": {\"25\": 140}, \"45\": {\"45\": 140, \"42\": 4}, \"42\": {\"42\": 40}, \"2\": {\"2\": 36}, \"9\": {\"9\": 147, \"8\": 3}, \"21\": {\"21\": 115, \"22\": 6, \"52\": 2, \"15\": 1}, \"26\": {\"26\": 24}, \"49\": {\"49\": 32}, \"39\": {\"39\": 26, \"49\": 2}, \"46\": {\"46\": 136}, \"17\": {\"17\": 64}, \"19\": {\"19\": 148, \"56\": 1, \"57\": 5, \"1\": 2}, \"23\": {\"23\": 103, \"38\": 4, \"15\": 9, \"0\": 16}, \"1\": {\"1\": 98, \"19\": 2}, \"29\": {\"29\": 139, \"44\": 1}, \"56\": {\"56\": 126, \"1\": 1, \"57\": 18, \"19\": 5}, \"37\": {\"37\": 30, \"25\": 2}, \"33\": {\"33\": 32}, \"55\": {\"55\": 142}, \"30\": {\"30\": 119, \"26\": 1}, \"0\": {\"0\": 135, \"31\": 3, \"38\": 2, \"23\": 12}, \"36\": {\"36\": 64}, \"32\": {\"32\": 32}, \"31\": {\"31\": 28}, \"15\": {\"0\": 1, \"15\": 132, \"11\": 1, \"23\": 4}, \"12\": {\"12\": 107, \"20\": 2, \"13\": 4, \"46\": 2, \"51\": 1}, \"38\": {\"38\": 23, \"0\": 1}, \"40\": {\"40\": 146}, \"14\": {\"14\": 18, \"7\": 1, \"26\": 1, \"30\": 2, \"17\": 1, \"8\": 1}, \"13\": {\"13\": 142, \"20\": 8}, \"48\": {\"48\": 142, \"6\": 4, \"5\": 2}, \"34\": {\"34\": 24}, \"44\": {\"44\": 113, \"35\": 2, \"19\": 1, \"57\": 4, \"29\": 4, \"56\": 6}, \"5\": {\"5\": 142, \"6\": 8, \"48\": 2}, \"11\": {\"11\": 138, \"28\": 2}, \"7\": {\"7\": 28}, \"18\": {\"18\": 72}, \"52\": {\"24\": 3, \"52\": 108, \"22\": 11, \"15\": 2, \"10\": 5, \"11\": 1, \"21\": 2}, \"51\": {\"51\": 136, \"13\": 2, \"12\": 3, \"41\": 1}, \"41\": {\"41\": 24}, \"16\": {\"16\": 140}, \"22\": {\"22\": 93, \"24\": 15, \"52\": 7, \"21\": 11, \"10\": 8}, \"3\": {\"3\": 139, \"12\": 1}, \"54\": {\"54\": 104}, \"27\": {\"27\": 144}, \"20\": {\"20\": 139, \"13\": 1}, \"8\": {\"8\": 137, \"9\": 1}, \"50\": {\"50\": 142, \"2\": 1, \"48\": 1}, \"57\": {\"57\": 109, \"19\": 13, \"56\": 18}, \"4\": {\"4\": 132}, \"47\": {\"47\": 146}, \"10\": {\"10\": 72, \"28\": 1, \"52\": 5, \"22\": 10, \"24\": 8}, \"35\": {\"35\": 35, \"29\": 1}, \"53\": {\"53\": 125, \"14\": 1}, \"6\": {\"6\": 80, \"48\": 5, \"5\": 10, \"8\": 1}, \"43\": {\"43\": 140}, \"28\": {\"28\": 27, \"11\": 1}}, \"CORES_5\": {\"35\": {\"35\": 36}, \"57\": {\"57\": 130, \"41\": 1, \"14\": 1}, \"20\": {\"20\": 124, \"53\": 20}, \"12\": {\"12\": 96}, \"32\": {\"32\": 25, \"27\": 7}, \"25\": {\"25\": 137, \"18\": 1}, \"44\": {\"5\": 2, \"44\": 145, \"27\": 1}, \"31\": {\"31\": 36}, \"11\": {\"11\": 133, \"43\": 17}, \"47\": {\"47\": 97, \"14\": 1, \"3\": 2}, \"23\": {\"23\": 124}, \"43\": {\"43\": 116, \"15\": 9, \"11\": 19}, \"37\": {\"37\": 24}, \"5\": {\"5\": 127, \"19\": 1}, \"45\": {\"45\": 118, \"55\": 1, \"4\": 2, \"27\": 2, \"9\": 1}, \"7\": {\"7\": 32}, \"13\": {\"13\": 136}, \"49\": {\"49\": 36}, \"46\": {\"46\": 146, \"3\": 2}, \"16\": {\"16\": 136}, \"54\": {\"54\": 112}, \"19\": {\"19\": 152}, \"55\": {\"55\": 144, \"27\": 6}, \"30\": {\"30\": 127, \"17\": 1}, \"34\": {\"34\": 36}, \"50\": {\"50\": 121, \"21\": 5, \"20\": 6, \"53\": 2}, \"3\": {\"3\": 85, \"47\": 9, \"46\": 4, \"49\": 1, \"23\": 1}, \"10\": {\"10\": 66, \"24\": 2}, \"27\": {\"27\": 132, \"32\": 4, \"55\": 6}, \"33\": {\"33\": 32}, \"56\": {\"56\": 142}, \"9\": {\"9\": 149, \"48\": 1}, \"14\": {\"31\": 7, \"14\": 15, \"49\": 1, \"35\": 1, \"36\": 3, \"33\": 1, \"34\": 4, \"29\": 2, \"40\": 2, \"3\": 2, \"47\": 3, \"57\": 2, \"46\": 1}, \"4\": {\"4\": 100}, \"42\": {\"42\": 40}, \"24\": {\"24\": 76, \"10\": 4}, \"39\": {\"39\": 20}, \"52\": {\"52\": 130}, \"2\": {\"2\": 28}, \"28\": {\"28\": 32}, \"53\": {\"53\": 96, \"20\": 26}, \"17\": {\"17\": 115, \"30\": 1}, \"29\": {\"29\": 127, \"40\": 5}, \"38\": {\"38\": 32}, \"15\": {\"15\": 141, \"11\": 1, \"43\": 2}, \"26\": {\"26\": 21, \"6\": 3}, \"21\": {\"21\": 142, \"50\": 2}, \"41\": {\"41\": 28}, \"48\": {\"48\": 135, \"9\": 1}, \"22\": {\"22\": 28}, \"8\": {\"8\": 148}, \"18\": {\"18\": 64}, \"0\": {\"0\": 121, \"35\": 1}, \"1\": {\"1\": 138}, \"40\": {\"40\": 117, \"29\": 4, \"19\": 1, \"44\": 2}, \"6\": {\"6\": 114, \"30\": 7, \"26\": 3, \"1\": 4}, \"51\": {\"51\": 142}, \"36\": {\"36\": 91, \"14\": 1}}}, \"per_domain_accuracy\": {\"ORACLE.run1_50\": {\"accuracy\": 0.6833333333333333, \"source?\": true}, \"ORACLE.run1_14\": {\"accuracy\": 0.6682291666666667, \"source?\": true}, \"ORACLE.run1_32\": {\"accuracy\": 0.6708333333333333, \"source?\": true}, \"ORACLE.run1_44\": {\"accuracy\": 0.6510416666666666, \"source?\": true}, \"ORACLE.run1_8\": {\"accuracy\": 0.5776041666666667, \"source?\": true}, \"ORACLE.run1_20\": {\"accuracy\": 0.44505208333333335, \"source?\": true}, \"ORACLE.run1_38\": {\"accuracy\": 0.64375, \"source?\": true}, \"ORACLE.run1_26\": {\"accuracy\": 0.4205729166666667, \"source?\": true}, \"CORES_4\": {\"accuracy\": 0.968939393939394, \"source?\": false}, \"CORES_2\": {\"accuracy\": 0.9759480337078652, \"source?\": false}, \"CORES_3\": {\"accuracy\": 0.9670758928571429, \"source?\": false}, \"CORES_1\": {\"accuracy\": 0.9410472972972973, \"source?\": false}, \"CORES_5\": {\"accuracy\": 0.9589734636871509, \"source?\": false}}}, \"history\": {\"epoch_indices\": [1, 2, 3, 4, 5, 6], \"train_label_loss\": [1.6352526089531325, 1.0122438268957747, 0.8553472401596428, 0.7410219593505775, 0.6423884768637695, 0.5572686863575308], \"source_val_label_loss\": [1.214827299118042, 1.071954369544983, 1.0648261308670044, 1.0771560668945312, 1.117311716079712, 1.1932374238967896], \"target_val_label_loss\": [0.16199728846549988, 0.17134904861450195, 0.20253178477287292, 0.21976986527442932, 0.261150062084198, 0.27341514825820923], \"source_val_acc_label\": [0.5332356770833333, 0.5950520833333334, 0.603515625, 0.61220703125, 0.6069010416666667, 0.5968424479166666], \"target_val_acc_label\": [0.9524285714285714, 0.9620714285714286, 0.9609642857142857, 0.9604642857142857, 0.9567142857142857, 0.9605357142857143]}, \"dataset_metrics\": {\"source\": {\"train\": {\"n_unique_x\": 179200, \"n_unique_y\": 16, \"n_batch/episode\": 6720}, \"val\": {\"n_unique_x\": 38400, \"n_unique_y\": 16, \"n_batch/episode\": 960}, \"test\": {\"n_unique_x\": 38400, \"n_unique_y\": 16, \"n_batch/episode\": 960}}, \"target\": {\"train\": {\"n_unique_x\": 175197, \"n_unique_y\": 58, \"n_batch/episode\": 6309}, \"val\": {\"n_unique_x\": 37166, \"n_unique_y\": 58, \"n_batch/episode\": 875}, \"test\": {\"n_unique_x\": 37642, \"n_unique_y\": 58, \"n_batch/episode\": 890}}}}'"
      ]
     },
     "execution_count": 29,
     "metadata": {},
     "output_type": "execute_result"
    }
   ],
   "source": [
    "json.dumps(experiment)"
   ]
  }
 ],
 "metadata": {
  "celltoolbar": "Tags",
  "kernelspec": {
   "display_name": "Python 3 (ipykernel)",
   "language": "python",
   "name": "python3"
  },
  "language_info": {
   "codemirror_mode": {
    "name": "ipython",
    "version": 3
   },
   "file_extension": ".py",
   "mimetype": "text/x-python",
   "name": "python",
   "nbconvert_exporter": "python",
   "pygments_lexer": "ipython3",
   "version": "3.8.12"
  },
  "papermill": {
   "default_parameters": {},
   "duration": 1545.768738,
   "end_time": "2022-03-22T18:55:24.968262",
   "environment_variables": {},
   "exception": null,
   "input_path": "/root/csc500-main/csc500-notebooks/templates/tl_ptn_template.ipynb",
   "output_path": "trial.ipynb",
   "parameters": {
    "parameters": {
     "BEST_MODEL_PATH": "./best_model.pth",
     "NUM_LOGS_PER_EPOCH": 10,
     "criteria_for_best": "target_accuracy",
     "dataset_seed": 500,
     "datasets": [
      {
       "domain_prefix": "CORES_",
       "domains": [
        1,
        2,
        3,
        4,
        5
       ],
       "episode_transforms": [],
       "labels": [
        "1-10.",
        "1-11.",
        "1-15.",
        "1-16.",
        "1-17.",
        "1-18.",
        "1-19.",
        "10-4.",
        "10-7.",
        "11-1.",
        "11-14.",
        "11-17.",
        "11-20.",
        "11-7.",
        "13-20.",
        "13-8.",
        "14-10.",
        "14-11.",
        "14-14.",
        "14-7.",
        "15-1.",
        "15-20.",
        "16-1.",
        "16-16.",
        "17-10.",
        "17-11.",
        "17-2.",
        "19-1.",
        "19-16.",
        "19-19.",
        "19-20.",
        "19-3.",
        "2-10.",
        "2-11.",
        "2-17.",
        "2-18.",
        "2-20.",
        "2-3.",
        "2-4.",
        "2-5.",
        "2-6.",
        "2-7.",
        "2-8.",
        "3-13.",
        "3-18.",
        "3-3.",
        "4-1.",
        "4-10.",
        "4-11.",
        "4-19.",
        "5-5.",
        "6-15.",
        "7-10.",
        "7-14.",
        "8-18.",
        "8-20.",
        "8-3.",
        "8-8."
       ],
       "num_examples_per_domain_per_label": -1,
       "pickle_path": "/root/csc500-main/datasets/cores.stratified_ds.2022A.pkl",
       "source_or_target_dataset": "target",
       "x_transforms": [
        "unit_power"
       ]
      },
      {
       "domain_prefix": "ORACLE.run1_",
       "domains": [
        32,
        38,
        8,
        44,
        14,
        50,
        20,
        26
       ],
       "episode_transforms": [],
       "labels": [
        "3123D52",
        "3123D65",
        "3123D79",
        "3123D80",
        "3123D54",
        "3123D70",
        "3123D7B",
        "3123D89",
        "3123D58",
        "3123D76",
        "3123D7D",
        "3123EFE",
        "3123D64",
        "3123D78",
        "3123D7E",
        "3124E4A"
       ],
       "num_examples_per_domain_per_label": 2000,
       "pickle_path": "/root/csc500-main/datasets/oracle.Run1_10kExamples_stratified_ds.2022A.pkl",
       "source_or_target_dataset": "source",
       "x_transforms": [
        "unit_power"
       ]
      }
     ],
     "device": "cuda",
     "experiment_name": "tl_1v2:cores-oracle.run1.limited",
     "lr": 0.0001,
     "n_epoch": 50,
     "n_query": 2,
     "n_shot": 3,
     "n_way": 16,
     "patience": 3,
     "seed": 500,
     "test_k_factor": 2,
     "torch_default_dtype": "torch.float32",
     "train_k_factor": 3,
     "val_k_factor": 2,
     "x_net": [
      {
       "class": "nnReshape",
       "kargs": {
        "shape": [
         -1,
         1,
         2,
         256
        ]
       }
      },
      {
       "class": "Conv2d",
       "kargs": {
        "bias": false,
        "in_channels": 1,
        "kernel_size": [
         1,
         7
        ],
        "out_channels": 256,
        "padding": [
         0,
         3
        ]
       }
      },
      {
       "class": "ReLU",
       "kargs": {
        "inplace": true
       }
      },
      {
       "class": "BatchNorm2d",
       "kargs": {
        "num_features": 256
       }
      },
      {
       "class": "Conv2d",
       "kargs": {
        "bias": true,
        "in_channels": 256,
        "kernel_size": [
         2,
         7
        ],
        "out_channels": 80,
        "padding": [
         0,
         3
        ]
       }
      },
      {
       "class": "ReLU",
       "kargs": {
        "inplace": true
       }
      },
      {
       "class": "BatchNorm2d",
       "kargs": {
        "num_features": 80
       }
      },
      {
       "class": "Flatten",
       "kargs": {}
      },
      {
       "class": "Linear",
       "kargs": {
        "in_features": 20480,
        "out_features": 256
       }
      },
      {
       "class": "ReLU",
       "kargs": {
        "inplace": true
       }
      },
      {
       "class": "BatchNorm1d",
       "kargs": {
        "num_features": 256
       }
      },
      {
       "class": "Linear",
       "kargs": {
        "in_features": 256,
        "out_features": 256
       }
      }
     ]
    }
   },
   "start_time": "2022-03-22T18:29:39.199524",
   "version": "2.3.4"
  }
 },
 "nbformat": 4,
 "nbformat_minor": 5
}