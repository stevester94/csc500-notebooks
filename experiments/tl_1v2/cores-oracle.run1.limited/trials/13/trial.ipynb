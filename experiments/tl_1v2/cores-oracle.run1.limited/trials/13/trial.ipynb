{
 "cells": [
  {
   "cell_type": "markdown",
   "id": "9fea5f46",
   "metadata": {
    "papermill": {
     "duration": 0.025071,
     "end_time": "2022-03-22T11:46:31.558767",
     "exception": false,
     "start_time": "2022-03-22T11:46:31.533696",
     "status": "completed"
    },
    "tags": []
   },
   "source": [
    "# Transfer Learning Template"
   ]
  },
  {
   "cell_type": "code",
   "execution_count": 1,
   "id": "0902182a",
   "metadata": {
    "execution": {
     "iopub.execute_input": "2022-03-22T11:46:31.616815Z",
     "iopub.status.busy": "2022-03-22T11:46:31.604203Z",
     "iopub.status.idle": "2022-03-22T11:46:33.543830Z",
     "shell.execute_reply": "2022-03-22T11:46:33.544498Z"
    },
    "papermill": {
     "duration": 1.967008,
     "end_time": "2022-03-22T11:46:33.544847",
     "exception": false,
     "start_time": "2022-03-22T11:46:31.577839",
     "status": "completed"
    },
    "tags": []
   },
   "outputs": [],
   "source": [
    "%load_ext autoreload\n",
    "%autoreload 2\n",
    "%matplotlib inline\n",
    "\n",
    "    \n",
    "import os, json, sys, time, random\n",
    "import numpy as np\n",
    "import torch\n",
    "from torch.optim import Adam\n",
    "from  easydict import EasyDict\n",
    "import matplotlib.pyplot as plt\n",
    "\n",
    "from steves_models.steves_ptn import Steves_Prototypical_Network\n",
    "\n",
    "from steves_utils.lazy_iterable_wrapper import Lazy_Iterable_Wrapper\n",
    "from steves_utils.iterable_aggregator import Iterable_Aggregator\n",
    "from steves_utils.ptn_train_eval_test_jig import  PTN_Train_Eval_Test_Jig\n",
    "from steves_utils.torch_sequential_builder import build_sequential\n",
    "from steves_utils.torch_utils import get_dataset_metrics, ptn_confusion_by_domain_over_dataloader\n",
    "from steves_utils.utils_v2 import (per_domain_accuracy_from_confusion, get_datasets_base_path)\n",
    "from steves_utils.PTN.utils import independent_accuracy_assesment\n",
    "\n",
    "from torch.utils.data import DataLoader\n",
    "\n",
    "from steves_utils.stratified_dataset.episodic_accessor import Episodic_Accessor_Factory\n",
    "\n",
    "from steves_utils.ptn_do_report import (\n",
    "    get_loss_curve,\n",
    "    get_results_table,\n",
    "    get_parameters_table,\n",
    "    get_domain_accuracies,\n",
    ")\n",
    "\n",
    "from steves_utils.transforms import get_chained_transform"
   ]
  },
  {
   "cell_type": "markdown",
   "id": "41c840b4",
   "metadata": {
    "papermill": {
     "duration": 0.018764,
     "end_time": "2022-03-22T11:46:33.587254",
     "exception": false,
     "start_time": "2022-03-22T11:46:33.568490",
     "status": "completed"
    },
    "tags": []
   },
   "source": [
    "# Allowed Parameters\n",
    "These are allowed parameters, not defaults\n",
    "Each of these values need to be present in the injected parameters (the notebook will raise an exception if they are not present)\n",
    "\n",
    "Papermill uses the cell tag \"parameters\" to inject the real parameters below this cell.\n",
    "Enable tags to see what I mean"
   ]
  },
  {
   "cell_type": "code",
   "execution_count": 2,
   "id": "fd44eb83",
   "metadata": {
    "execution": {
     "iopub.execute_input": "2022-03-22T11:46:33.631618Z",
     "iopub.status.busy": "2022-03-22T11:46:33.631222Z",
     "iopub.status.idle": "2022-03-22T11:46:33.658052Z",
     "shell.execute_reply": "2022-03-22T11:46:33.657236Z"
    },
    "papermill": {
     "duration": 0.052095,
     "end_time": "2022-03-22T11:46:33.658221",
     "exception": false,
     "start_time": "2022-03-22T11:46:33.606126",
     "status": "completed"
    },
    "tags": []
   },
   "outputs": [],
   "source": [
    "required_parameters = {\n",
    "    \"experiment_name\",\n",
    "    \"lr\",\n",
    "    \"device\",\n",
    "    \"seed\",\n",
    "    \"dataset_seed\",\n",
    "    \"n_shot\",\n",
    "    \"n_query\",\n",
    "    \"n_way\",\n",
    "    \"train_k_factor\",\n",
    "    \"val_k_factor\",\n",
    "    \"test_k_factor\",\n",
    "    \"n_epoch\",\n",
    "    \"patience\",\n",
    "    \"criteria_for_best\",\n",
    "    \"x_net\",\n",
    "    \"datasets\",\n",
    "    \"torch_default_dtype\",\n",
    "    \"NUM_LOGS_PER_EPOCH\",\n",
    "    \"BEST_MODEL_PATH\",\n",
    "    \"x_shape\",\n",
    "}"
   ]
  },
  {
   "cell_type": "code",
   "execution_count": 3,
   "id": "fa3f0049",
   "metadata": {
    "execution": {
     "iopub.execute_input": "2022-03-22T11:46:33.727804Z",
     "iopub.status.busy": "2022-03-22T11:46:33.722340Z",
     "iopub.status.idle": "2022-03-22T11:46:33.752680Z",
     "shell.execute_reply": "2022-03-22T11:46:33.751870Z"
    },
    "papermill": {
     "duration": 0.067205,
     "end_time": "2022-03-22T11:46:33.752841",
     "exception": false,
     "start_time": "2022-03-22T11:46:33.685636",
     "status": "completed"
    },
    "tags": [
     "parameters"
    ]
   },
   "outputs": [],
   "source": [
    "from steves_utils.CORES.utils import (\n",
    "    ALL_NODES,\n",
    "    ALL_NODES_MINIMUM_1000_EXAMPLES,\n",
    "    ALL_DAYS\n",
    ")\n",
    "\n",
    "from steves_utils.ORACLE.utils_v2 import (\n",
    "    ALL_DISTANCES_FEET_NARROWED,\n",
    "    ALL_RUNS,\n",
    "    ALL_SERIAL_NUMBERS,\n",
    ")\n",
    "\n",
    "standalone_parameters = {}\n",
    "standalone_parameters[\"experiment_name\"] = \"STANDALONE PTN\"\n",
    "standalone_parameters[\"lr\"] = 0.001\n",
    "standalone_parameters[\"device\"] = \"cuda\"\n",
    "\n",
    "standalone_parameters[\"seed\"] = 1337\n",
    "standalone_parameters[\"dataset_seed\"] = 1337\n",
    "\n",
    "standalone_parameters[\"n_way\"] = 8\n",
    "standalone_parameters[\"n_shot\"] = 3\n",
    "standalone_parameters[\"n_query\"]  = 2\n",
    "standalone_parameters[\"train_k_factor\"] = 1\n",
    "standalone_parameters[\"val_k_factor\"] = 2\n",
    "standalone_parameters[\"test_k_factor\"] = 2\n",
    "\n",
    "\n",
    "standalone_parameters[\"n_epoch\"] = 50\n",
    "\n",
    "standalone_parameters[\"patience\"] = 10\n",
    "standalone_parameters[\"criteria_for_best\"] = \"source_loss\"\n",
    "\n",
    "standalone_parameters[\"datasets\"] = [\n",
    "    {\n",
    "        \"labels\": ALL_SERIAL_NUMBERS,\n",
    "        \"domains\": ALL_DISTANCES_FEET_NARROWED,\n",
    "        \"num_examples_per_domain_per_label\": 100,\n",
    "        \"pickle_path\": os.path.join(get_datasets_base_path(), \"oracle.Run1_framed_2000Examples_stratified_ds.2022A.pkl\"),\n",
    "        \"source_or_target_dataset\": \"source\",\n",
    "        \"x_transforms\": [\"unit_mag\", \"minus_two\"],\n",
    "        \"episode_transforms\": [],\n",
    "        \"domain_prefix\": \"ORACLE_\"\n",
    "    },\n",
    "    {\n",
    "        \"labels\": ALL_NODES,\n",
    "        \"domains\": ALL_DAYS,\n",
    "        \"num_examples_per_domain_per_label\": 100,\n",
    "        \"pickle_path\": os.path.join(get_datasets_base_path(), \"cores.stratified_ds.2022A.pkl\"),\n",
    "        \"source_or_target_dataset\": \"target\",\n",
    "        \"x_transforms\": [\"unit_power\", \"times_zero\"],\n",
    "        \"episode_transforms\": [],\n",
    "        \"domain_prefix\": \"CORES_\"\n",
    "    }   \n",
    "]\n",
    "\n",
    "standalone_parameters[\"torch_default_dtype\"] = \"torch.float32\" \n",
    "\n",
    "\n",
    "\n",
    "standalone_parameters[\"x_net\"] =     [\n",
    "    {\"class\": \"nnReshape\", \"kargs\": {\"shape\":[-1, 1, 2, 256]}},\n",
    "    {\"class\": \"Conv2d\", \"kargs\": { \"in_channels\":1, \"out_channels\":256, \"kernel_size\":(1,7), \"bias\":False, \"padding\":(0,3), },},\n",
    "    {\"class\": \"ReLU\", \"kargs\": {\"inplace\": True}},\n",
    "    {\"class\": \"BatchNorm2d\", \"kargs\": {\"num_features\":256}},\n",
    "\n",
    "    {\"class\": \"Conv2d\", \"kargs\": { \"in_channels\":256, \"out_channels\":80, \"kernel_size\":(2,7), \"bias\":True, \"padding\":(0,3), },},\n",
    "    {\"class\": \"ReLU\", \"kargs\": {\"inplace\": True}},\n",
    "    {\"class\": \"BatchNorm2d\", \"kargs\": {\"num_features\":80}},\n",
    "    {\"class\": \"Flatten\", \"kargs\": {}},\n",
    "\n",
    "    {\"class\": \"Linear\", \"kargs\": {\"in_features\": 80*256, \"out_features\": 256}}, # 80 units per IQ pair\n",
    "    {\"class\": \"ReLU\", \"kargs\": {\"inplace\": True}},\n",
    "    {\"class\": \"BatchNorm1d\", \"kargs\": {\"num_features\":256}},\n",
    "\n",
    "    {\"class\": \"Linear\", \"kargs\": {\"in_features\": 256, \"out_features\": 256}},\n",
    "]\n",
    "\n",
    "# Parameters relevant to results\n",
    "# These parameters will basically never need to change\n",
    "standalone_parameters[\"NUM_LOGS_PER_EPOCH\"] = 10\n",
    "standalone_parameters[\"BEST_MODEL_PATH\"] = \"./best_model.pth\"\n",
    "\n",
    "\n",
    "\n",
    "\n"
   ]
  },
  {
   "cell_type": "code",
   "execution_count": 4,
   "id": "071d05b2",
   "metadata": {
    "execution": {
     "iopub.execute_input": "2022-03-22T11:46:33.816991Z",
     "iopub.status.busy": "2022-03-22T11:46:33.808544Z",
     "iopub.status.idle": "2022-03-22T11:46:33.840630Z",
     "shell.execute_reply": "2022-03-22T11:46:33.839823Z"
    },
    "papermill": {
     "duration": 0.0601,
     "end_time": "2022-03-22T11:46:33.840783",
     "exception": false,
     "start_time": "2022-03-22T11:46:33.780683",
     "status": "completed"
    },
    "tags": [
     "injected-parameters"
    ]
   },
   "outputs": [],
   "source": [
    "# Parameters\n",
    "parameters = {\n",
    "    \"experiment_name\": \"tl_1v2:cores-oracle.run1.limited\",\n",
    "    \"device\": \"cuda\",\n",
    "    \"lr\": 0.0001,\n",
    "    \"n_shot\": 3,\n",
    "    \"n_query\": 2,\n",
    "    \"train_k_factor\": 3,\n",
    "    \"val_k_factor\": 2,\n",
    "    \"test_k_factor\": 2,\n",
    "    \"torch_default_dtype\": \"torch.float32\",\n",
    "    \"n_epoch\": 50,\n",
    "    \"patience\": 3,\n",
    "    \"criteria_for_best\": \"target_accuracy\",\n",
    "    \"x_net\": [\n",
    "        {\"class\": \"nnReshape\", \"kargs\": {\"shape\": [-1, 1, 2, 256]}},\n",
    "        {\n",
    "            \"class\": \"Conv2d\",\n",
    "            \"kargs\": {\n",
    "                \"in_channels\": 1,\n",
    "                \"out_channels\": 256,\n",
    "                \"kernel_size\": [1, 7],\n",
    "                \"bias\": False,\n",
    "                \"padding\": [0, 3],\n",
    "            },\n",
    "        },\n",
    "        {\"class\": \"ReLU\", \"kargs\": {\"inplace\": True}},\n",
    "        {\"class\": \"BatchNorm2d\", \"kargs\": {\"num_features\": 256}},\n",
    "        {\n",
    "            \"class\": \"Conv2d\",\n",
    "            \"kargs\": {\n",
    "                \"in_channels\": 256,\n",
    "                \"out_channels\": 80,\n",
    "                \"kernel_size\": [2, 7],\n",
    "                \"bias\": True,\n",
    "                \"padding\": [0, 3],\n",
    "            },\n",
    "        },\n",
    "        {\"class\": \"ReLU\", \"kargs\": {\"inplace\": True}},\n",
    "        {\"class\": \"BatchNorm2d\", \"kargs\": {\"num_features\": 80}},\n",
    "        {\"class\": \"Flatten\", \"kargs\": {}},\n",
    "        {\"class\": \"Linear\", \"kargs\": {\"in_features\": 20480, \"out_features\": 256}},\n",
    "        {\"class\": \"ReLU\", \"kargs\": {\"inplace\": True}},\n",
    "        {\"class\": \"BatchNorm1d\", \"kargs\": {\"num_features\": 256}},\n",
    "        {\"class\": \"Linear\", \"kargs\": {\"in_features\": 256, \"out_features\": 256}},\n",
    "    ],\n",
    "    \"NUM_LOGS_PER_EPOCH\": 10,\n",
    "    \"BEST_MODEL_PATH\": \"./best_model.pth\",\n",
    "    \"n_way\": 16,\n",
    "    \"datasets\": [\n",
    "        {\n",
    "            \"labels\": [\n",
    "                \"1-10.\",\n",
    "                \"1-11.\",\n",
    "                \"1-15.\",\n",
    "                \"1-16.\",\n",
    "                \"1-17.\",\n",
    "                \"1-18.\",\n",
    "                \"1-19.\",\n",
    "                \"10-4.\",\n",
    "                \"10-7.\",\n",
    "                \"11-1.\",\n",
    "                \"11-14.\",\n",
    "                \"11-17.\",\n",
    "                \"11-20.\",\n",
    "                \"11-7.\",\n",
    "                \"13-20.\",\n",
    "                \"13-8.\",\n",
    "                \"14-10.\",\n",
    "                \"14-11.\",\n",
    "                \"14-14.\",\n",
    "                \"14-7.\",\n",
    "                \"15-1.\",\n",
    "                \"15-20.\",\n",
    "                \"16-1.\",\n",
    "                \"16-16.\",\n",
    "                \"17-10.\",\n",
    "                \"17-11.\",\n",
    "                \"17-2.\",\n",
    "                \"19-1.\",\n",
    "                \"19-16.\",\n",
    "                \"19-19.\",\n",
    "                \"19-20.\",\n",
    "                \"19-3.\",\n",
    "                \"2-10.\",\n",
    "                \"2-11.\",\n",
    "                \"2-17.\",\n",
    "                \"2-18.\",\n",
    "                \"2-20.\",\n",
    "                \"2-3.\",\n",
    "                \"2-4.\",\n",
    "                \"2-5.\",\n",
    "                \"2-6.\",\n",
    "                \"2-7.\",\n",
    "                \"2-8.\",\n",
    "                \"3-13.\",\n",
    "                \"3-18.\",\n",
    "                \"3-3.\",\n",
    "                \"4-1.\",\n",
    "                \"4-10.\",\n",
    "                \"4-11.\",\n",
    "                \"4-19.\",\n",
    "                \"5-5.\",\n",
    "                \"6-15.\",\n",
    "                \"7-10.\",\n",
    "                \"7-14.\",\n",
    "                \"8-18.\",\n",
    "                \"8-20.\",\n",
    "                \"8-3.\",\n",
    "                \"8-8.\",\n",
    "            ],\n",
    "            \"domains\": [1, 2, 3, 4, 5],\n",
    "            \"num_examples_per_domain_per_label\": -1,\n",
    "            \"pickle_path\": \"/root/csc500-main/datasets/cores.stratified_ds.2022A.pkl\",\n",
    "            \"source_or_target_dataset\": \"source\",\n",
    "            \"x_transforms\": [\"unit_mag\"],\n",
    "            \"episode_transforms\": [],\n",
    "            \"domain_prefix\": \"CORES_\",\n",
    "        },\n",
    "        {\n",
    "            \"labels\": [\n",
    "                \"3123D52\",\n",
    "                \"3123D65\",\n",
    "                \"3123D79\",\n",
    "                \"3123D80\",\n",
    "                \"3123D54\",\n",
    "                \"3123D70\",\n",
    "                \"3123D7B\",\n",
    "                \"3123D89\",\n",
    "                \"3123D58\",\n",
    "                \"3123D76\",\n",
    "                \"3123D7D\",\n",
    "                \"3123EFE\",\n",
    "                \"3123D64\",\n",
    "                \"3123D78\",\n",
    "                \"3123D7E\",\n",
    "                \"3124E4A\",\n",
    "            ],\n",
    "            \"domains\": [32, 38, 8, 44, 14, 50, 20, 26],\n",
    "            \"num_examples_per_domain_per_label\": 2000,\n",
    "            \"pickle_path\": \"/root/csc500-main/datasets/oracle.Run1_10kExamples_stratified_ds.2022A.pkl\",\n",
    "            \"source_or_target_dataset\": \"target\",\n",
    "            \"x_transforms\": [\"unit_mag\"],\n",
    "            \"episode_transforms\": [],\n",
    "            \"domain_prefix\": \"ORACLE.run1_\",\n",
    "        },\n",
    "    ],\n",
    "    \"dataset_seed\": 154325,\n",
    "    \"seed\": 154325,\n",
    "}\n"
   ]
  },
  {
   "cell_type": "code",
   "execution_count": 5,
   "id": "8fa1cc33",
   "metadata": {
    "execution": {
     "iopub.execute_input": "2022-03-22T11:46:33.896019Z",
     "iopub.status.busy": "2022-03-22T11:46:33.895462Z",
     "iopub.status.idle": "2022-03-22T11:46:33.920845Z",
     "shell.execute_reply": "2022-03-22T11:46:33.920043Z"
    },
    "papermill": {
     "duration": 0.052487,
     "end_time": "2022-03-22T11:46:33.920997",
     "exception": false,
     "start_time": "2022-03-22T11:46:33.868510",
     "status": "completed"
    },
    "tags": []
   },
   "outputs": [],
   "source": [
    "# Set this to True if you want to run this template directly\n",
    "STANDALONE = False\n",
    "if STANDALONE:\n",
    "    print(\"parameters not injected, running with standalone_parameters\")\n",
    "    parameters = standalone_parameters\n",
    "\n",
    "if not 'parameters' in locals() and not 'parameters' in globals():\n",
    "    raise Exception(\"Parameter injection failed\")\n",
    "\n",
    "#Use an easy dict for all the parameters\n",
    "p = EasyDict(parameters)\n",
    "\n",
    "if \"x_shape\" not in p:\n",
    "    p.x_shape = [2,256] # Default to this if we dont supply x_shape\n",
    "\n",
    "\n",
    "supplied_keys = set(p.keys())\n",
    "\n",
    "if  supplied_keys != required_parameters:\n",
    "    print(\"Parameters are incorrect\")\n",
    "    if len(supplied_keys - required_parameters)>0: print(\"Shouldn't have:\", str(supplied_keys - required_parameters))\n",
    "    if len(required_parameters - supplied_keys)>0: print(\"Need to have:\", str(required_parameters - supplied_keys))\n",
    "    raise RuntimeError(\"Parameters are incorrect\")"
   ]
  },
  {
   "cell_type": "code",
   "execution_count": 6,
   "id": "3a028d58",
   "metadata": {
    "execution": {
     "iopub.execute_input": "2022-03-22T11:46:33.974500Z",
     "iopub.status.busy": "2022-03-22T11:46:33.973573Z",
     "iopub.status.idle": "2022-03-22T11:46:33.999058Z",
     "shell.execute_reply": "2022-03-22T11:46:33.998260Z"
    },
    "papermill": {
     "duration": 0.050236,
     "end_time": "2022-03-22T11:46:33.999210",
     "exception": false,
     "start_time": "2022-03-22T11:46:33.948974",
     "status": "completed"
    },
    "tags": []
   },
   "outputs": [],
   "source": [
    "###################################\n",
    "# Set the RNGs and make it all deterministic\n",
    "###################################\n",
    "np.random.seed(p.seed)\n",
    "random.seed(p.seed)\n",
    "torch.manual_seed(p.seed)\n",
    "\n",
    "torch.use_deterministic_algorithms(True) "
   ]
  },
  {
   "cell_type": "code",
   "execution_count": 7,
   "id": "b691acf6",
   "metadata": {
    "execution": {
     "iopub.execute_input": "2022-03-22T11:46:34.051496Z",
     "iopub.status.busy": "2022-03-22T11:46:34.050923Z",
     "iopub.status.idle": "2022-03-22T11:46:34.076764Z",
     "shell.execute_reply": "2022-03-22T11:46:34.076055Z"
    },
    "papermill": {
     "duration": 0.050433,
     "end_time": "2022-03-22T11:46:34.076918",
     "exception": false,
     "start_time": "2022-03-22T11:46:34.026485",
     "status": "completed"
    },
    "tags": []
   },
   "outputs": [],
   "source": [
    "###########################################\n",
    "# The stratified datasets honor this\n",
    "###########################################\n",
    "torch.set_default_dtype(eval(p.torch_default_dtype))"
   ]
  },
  {
   "cell_type": "code",
   "execution_count": 8,
   "id": "b5fba671",
   "metadata": {
    "execution": {
     "iopub.execute_input": "2022-03-22T11:46:34.127304Z",
     "iopub.status.busy": "2022-03-22T11:46:34.125700Z",
     "iopub.status.idle": "2022-03-22T11:46:34.191333Z",
     "shell.execute_reply": "2022-03-22T11:46:34.190624Z"
    },
    "papermill": {
     "duration": 0.088264,
     "end_time": "2022-03-22T11:46:34.191488",
     "exception": false,
     "start_time": "2022-03-22T11:46:34.103224",
     "status": "completed"
    },
    "tags": []
   },
   "outputs": [],
   "source": [
    "###################################\n",
    "# Build the network(s)\n",
    "# Note: It's critical to do this AFTER setting the RNG\n",
    "###################################\n",
    "x_net = build_sequential(p.x_net)"
   ]
  },
  {
   "cell_type": "code",
   "execution_count": 9,
   "id": "5d7e61cc",
   "metadata": {
    "execution": {
     "iopub.execute_input": "2022-03-22T11:46:34.245573Z",
     "iopub.status.busy": "2022-03-22T11:46:34.245024Z",
     "iopub.status.idle": "2022-03-22T11:46:34.267153Z",
     "shell.execute_reply": "2022-03-22T11:46:34.267843Z"
    },
    "papermill": {
     "duration": 0.047055,
     "end_time": "2022-03-22T11:46:34.268025",
     "exception": false,
     "start_time": "2022-03-22T11:46:34.220970",
     "status": "completed"
    },
    "tags": []
   },
   "outputs": [],
   "source": [
    "start_time_secs = time.time()"
   ]
  },
  {
   "cell_type": "code",
   "execution_count": 10,
   "id": "c6b67dfd",
   "metadata": {
    "execution": {
     "iopub.execute_input": "2022-03-22T11:46:34.322310Z",
     "iopub.status.busy": "2022-03-22T11:46:34.321754Z",
     "iopub.status.idle": "2022-03-22T11:46:34.349742Z",
     "shell.execute_reply": "2022-03-22T11:46:34.348935Z"
    },
    "papermill": {
     "duration": 0.052978,
     "end_time": "2022-03-22T11:46:34.349896",
     "exception": false,
     "start_time": "2022-03-22T11:46:34.296918",
     "status": "completed"
    },
    "tags": []
   },
   "outputs": [],
   "source": [
    "p.domains_source = []\n",
    "p.domains_target = []\n",
    "\n",
    "\n",
    "train_original_source = []\n",
    "val_original_source   = []\n",
    "test_original_source  = []\n",
    "\n",
    "train_original_target = []\n",
    "val_original_target   = []\n",
    "test_original_target  = []"
   ]
  },
  {
   "cell_type": "code",
   "execution_count": 11,
   "id": "e3d9c3d3",
   "metadata": {
    "execution": {
     "iopub.execute_input": "2022-03-22T11:46:34.401358Z",
     "iopub.status.busy": "2022-03-22T11:46:34.400507Z",
     "iopub.status.idle": "2022-03-22T11:46:34.426480Z",
     "shell.execute_reply": "2022-03-22T11:46:34.425654Z"
    },
    "papermill": {
     "duration": 0.050369,
     "end_time": "2022-03-22T11:46:34.426633",
     "exception": false,
     "start_time": "2022-03-22T11:46:34.376264",
     "status": "completed"
    },
    "tags": []
   },
   "outputs": [],
   "source": [
    "# global_x_transform_func = lambda x: normalize(x.to(torch.get_default_dtype()), \"unit_power\") # unit_power, unit_mag\n",
    "# global_x_transform_func = lambda x: normalize(x, \"unit_power\") # unit_power, unit_mag"
   ]
  },
  {
   "cell_type": "code",
   "execution_count": 12,
   "id": "acb78fd2",
   "metadata": {
    "execution": {
     "iopub.execute_input": "2022-03-22T11:46:34.487023Z",
     "iopub.status.busy": "2022-03-22T11:46:34.486170Z",
     "iopub.status.idle": "2022-03-22T11:46:34.508994Z",
     "shell.execute_reply": "2022-03-22T11:46:34.509665Z"
    },
    "papermill": {
     "duration": 0.057169,
     "end_time": "2022-03-22T11:46:34.509849",
     "exception": false,
     "start_time": "2022-03-22T11:46:34.452680",
     "status": "completed"
    },
    "tags": []
   },
   "outputs": [],
   "source": [
    "def add_dataset(\n",
    "    labels,\n",
    "    domains,\n",
    "    pickle_path,\n",
    "    x_transforms,\n",
    "    episode_transforms,\n",
    "    domain_prefix,\n",
    "    num_examples_per_domain_per_label,\n",
    "    source_or_target_dataset:str,\n",
    "    iterator_seed=p.seed,\n",
    "    dataset_seed=p.dataset_seed,\n",
    "    n_shot=p.n_shot,\n",
    "    n_way=p.n_way,\n",
    "    n_query=p.n_query,\n",
    "    train_val_test_k_factors=(p.train_k_factor,p.val_k_factor,p.test_k_factor),\n",
    "):\n",
    "   \n",
    "    if x_transforms == []: x_transform = None\n",
    "    else: x_transform = get_chained_transform(x_transforms)\n",
    "    \n",
    "    if episode_transforms == []: episode_transform = None\n",
    "    else: raise Exception(\"episode_transforms not implemented\")\n",
    "    \n",
    "    episode_transform = lambda tup, _prefix=domain_prefix: (_prefix + str(tup[0]), tup[1])\n",
    "\n",
    "\n",
    "    eaf = Episodic_Accessor_Factory(\n",
    "        labels=labels,\n",
    "        domains=domains,\n",
    "        num_examples_per_domain_per_label=num_examples_per_domain_per_label,\n",
    "        iterator_seed=iterator_seed,\n",
    "        dataset_seed=dataset_seed,\n",
    "        n_shot=n_shot,\n",
    "        n_way=n_way,\n",
    "        n_query=n_query,\n",
    "        train_val_test_k_factors=train_val_test_k_factors,\n",
    "        pickle_path=pickle_path,\n",
    "        x_transform_func=x_transform,\n",
    "    )\n",
    "\n",
    "    train, val, test = eaf.get_train(), eaf.get_val(), eaf.get_test()\n",
    "    train = Lazy_Iterable_Wrapper(train, episode_transform)\n",
    "    val = Lazy_Iterable_Wrapper(val, episode_transform)\n",
    "    test = Lazy_Iterable_Wrapper(test, episode_transform)\n",
    "\n",
    "    if source_or_target_dataset==\"source\":\n",
    "        train_original_source.append(train)\n",
    "        val_original_source.append(val)\n",
    "        test_original_source.append(test)\n",
    "\n",
    "        p.domains_source.extend(\n",
    "            [domain_prefix + str(u) for u in domains]\n",
    "        )\n",
    "    elif source_or_target_dataset==\"target\":\n",
    "        train_original_target.append(train)\n",
    "        val_original_target.append(val)\n",
    "        test_original_target.append(test)\n",
    "        p.domains_target.extend(\n",
    "            [domain_prefix + str(u) for u in domains]\n",
    "        )\n",
    "    else:\n",
    "        raise Exception(f\"invalid source_or_target_dataset: {source_or_target_dataset}\")\n",
    "    "
   ]
  },
  {
   "cell_type": "code",
   "execution_count": 13,
   "id": "fe266617",
   "metadata": {
    "execution": {
     "iopub.execute_input": "2022-03-22T11:46:34.562268Z",
     "iopub.status.busy": "2022-03-22T11:46:34.561904Z",
     "iopub.status.idle": "2022-03-22T11:47:19.163193Z",
     "shell.execute_reply": "2022-03-22T11:47:19.162311Z"
    },
    "papermill": {
     "duration": 44.627148,
     "end_time": "2022-03-22T11:47:19.163374",
     "exception": false,
     "start_time": "2022-03-22T11:46:34.536226",
     "status": "completed"
    },
    "tags": []
   },
   "outputs": [],
   "source": [
    "for ds in p.datasets:\n",
    "    add_dataset(**ds)"
   ]
  },
  {
   "cell_type": "code",
   "execution_count": 14,
   "id": "b90d65ac",
   "metadata": {
    "execution": {
     "iopub.execute_input": "2022-03-22T11:47:19.214418Z",
     "iopub.status.busy": "2022-03-22T11:47:19.213894Z",
     "iopub.status.idle": "2022-03-22T11:47:19.240085Z",
     "shell.execute_reply": "2022-03-22T11:47:19.239297Z"
    },
    "papermill": {
     "duration": 0.050495,
     "end_time": "2022-03-22T11:47:19.240242",
     "exception": false,
     "start_time": "2022-03-22T11:47:19.189747",
     "status": "completed"
    },
    "tags": []
   },
   "outputs": [],
   "source": [
    "# from steves_utils.CORES.utils import (\n",
    "#     ALL_NODES,\n",
    "#     ALL_NODES_MINIMUM_1000_EXAMPLES,\n",
    "#     ALL_DAYS\n",
    "# )\n",
    "\n",
    "# add_dataset(\n",
    "#     labels=ALL_NODES,\n",
    "#     domains = ALL_DAYS,\n",
    "#     num_examples_per_domain_per_label=100,\n",
    "#     pickle_path=os.path.join(get_datasets_base_path(), \"cores.stratified_ds.2022A.pkl\"),\n",
    "#     source_or_target_dataset=\"target\",\n",
    "#     x_transform_func=global_x_transform_func,\n",
    "#     domain_modifier=lambda u: f\"cores_{u}\"\n",
    "# )"
   ]
  },
  {
   "cell_type": "code",
   "execution_count": 15,
   "id": "76db484d",
   "metadata": {
    "execution": {
     "iopub.execute_input": "2022-03-22T11:47:19.291593Z",
     "iopub.status.busy": "2022-03-22T11:47:19.291209Z",
     "iopub.status.idle": "2022-03-22T11:47:19.313830Z",
     "shell.execute_reply": "2022-03-22T11:47:19.313020Z"
    },
    "papermill": {
     "duration": 0.04613,
     "end_time": "2022-03-22T11:47:19.313986",
     "exception": false,
     "start_time": "2022-03-22T11:47:19.267856",
     "status": "completed"
    },
    "tags": []
   },
   "outputs": [],
   "source": [
    "# from steves_utils.ORACLE.utils_v2 import (\n",
    "#     ALL_DISTANCES_FEET,\n",
    "#     ALL_RUNS,\n",
    "#     ALL_SERIAL_NUMBERS,\n",
    "# )\n",
    "\n",
    "\n",
    "# add_dataset(\n",
    "#     labels=ALL_SERIAL_NUMBERS,\n",
    "#     domains = list(set(ALL_DISTANCES_FEET) - {2,62}),\n",
    "#     num_examples_per_domain_per_label=100,\n",
    "#     pickle_path=os.path.join(get_datasets_base_path(), \"oracle.Run2_framed_2000Examples_stratified_ds.2022A.pkl\"),\n",
    "#     source_or_target_dataset=\"source\",\n",
    "#     x_transform_func=global_x_transform_func,\n",
    "#     domain_modifier=lambda u: f\"oracle1_{u}\"\n",
    "# )\n"
   ]
  },
  {
   "cell_type": "code",
   "execution_count": 16,
   "id": "97dea9d2",
   "metadata": {
    "execution": {
     "iopub.execute_input": "2022-03-22T11:47:19.366884Z",
     "iopub.status.busy": "2022-03-22T11:47:19.366517Z",
     "iopub.status.idle": "2022-03-22T11:47:19.383837Z",
     "shell.execute_reply": "2022-03-22T11:47:19.383003Z"
    },
    "papermill": {
     "duration": 0.040817,
     "end_time": "2022-03-22T11:47:19.383990",
     "exception": false,
     "start_time": "2022-03-22T11:47:19.343173",
     "status": "completed"
    },
    "tags": []
   },
   "outputs": [],
   "source": [
    "# from steves_utils.ORACLE.utils_v2 import (\n",
    "#     ALL_DISTANCES_FEET,\n",
    "#     ALL_RUNS,\n",
    "#     ALL_SERIAL_NUMBERS,\n",
    "# )\n",
    "\n",
    "\n",
    "# add_dataset(\n",
    "#     labels=ALL_SERIAL_NUMBERS,\n",
    "#     domains = list(set(ALL_DISTANCES_FEET) - {2,62,56}),\n",
    "#     num_examples_per_domain_per_label=100,\n",
    "#     pickle_path=os.path.join(get_datasets_base_path(), \"oracle.Run2_framed_2000Examples_stratified_ds.2022A.pkl\"),\n",
    "#     source_or_target_dataset=\"source\",\n",
    "#     x_transform_func=global_x_transform_func,\n",
    "#     domain_modifier=lambda u: f\"oracle2_{u}\"\n",
    "# )"
   ]
  },
  {
   "cell_type": "code",
   "execution_count": 17,
   "id": "6f289866",
   "metadata": {
    "execution": {
     "iopub.execute_input": "2022-03-22T11:47:19.440231Z",
     "iopub.status.busy": "2022-03-22T11:47:19.434443Z",
     "iopub.status.idle": "2022-03-22T11:47:19.456945Z",
     "shell.execute_reply": "2022-03-22T11:47:19.456132Z"
    },
    "papermill": {
     "duration": 0.045794,
     "end_time": "2022-03-22T11:47:19.457099",
     "exception": false,
     "start_time": "2022-03-22T11:47:19.411305",
     "status": "completed"
    },
    "tags": []
   },
   "outputs": [],
   "source": [
    "# add_dataset(\n",
    "#     labels=list(range(19)),\n",
    "#     domains = [0,1,2],\n",
    "#     num_examples_per_domain_per_label=100,\n",
    "#     pickle_path=os.path.join(get_datasets_base_path(), \"metehan.stratified_ds.2022A.pkl\"),\n",
    "#     source_or_target_dataset=\"target\",\n",
    "#     x_transform_func=global_x_transform_func,\n",
    "#     domain_modifier=lambda u: f\"met_{u}\"\n",
    "# )"
   ]
  },
  {
   "cell_type": "code",
   "execution_count": 18,
   "id": "86a863c3",
   "metadata": {
    "execution": {
     "iopub.execute_input": "2022-03-22T11:47:19.507268Z",
     "iopub.status.busy": "2022-03-22T11:47:19.506142Z",
     "iopub.status.idle": "2022-03-22T11:47:19.527605Z",
     "shell.execute_reply": "2022-03-22T11:47:19.526777Z"
    },
    "papermill": {
     "duration": 0.045383,
     "end_time": "2022-03-22T11:47:19.527760",
     "exception": false,
     "start_time": "2022-03-22T11:47:19.482377",
     "status": "completed"
    },
    "tags": []
   },
   "outputs": [],
   "source": [
    "# # from steves_utils.wisig.utils import (\n",
    "# #     ALL_NODES_MINIMUM_100_EXAMPLES,\n",
    "# #     ALL_NODES_MINIMUM_500_EXAMPLES,\n",
    "# #     ALL_NODES_MINIMUM_1000_EXAMPLES,\n",
    "# #     ALL_DAYS\n",
    "# # )\n",
    "\n",
    "# import steves_utils.wisig.utils as wisig\n",
    "\n",
    "\n",
    "# add_dataset(\n",
    "#     labels=wisig.ALL_NODES_MINIMUM_100_EXAMPLES,\n",
    "#     domains = wisig.ALL_DAYS,\n",
    "#     num_examples_per_domain_per_label=100,\n",
    "#     pickle_path=os.path.join(get_datasets_base_path(), \"wisig.node3-19.stratified_ds.2022A.pkl\"),\n",
    "#     source_or_target_dataset=\"target\",\n",
    "#     x_transform_func=global_x_transform_func,\n",
    "#     domain_modifier=lambda u: f\"wisig_{u}\"\n",
    "# )"
   ]
  },
  {
   "cell_type": "code",
   "execution_count": 19,
   "id": "fd5442bc",
   "metadata": {
    "execution": {
     "iopub.execute_input": "2022-03-22T11:47:19.581970Z",
     "iopub.status.busy": "2022-03-22T11:47:19.581584Z",
     "iopub.status.idle": "2022-03-22T11:47:19.600380Z",
     "shell.execute_reply": "2022-03-22T11:47:19.599674Z"
    },
    "papermill": {
     "duration": 0.04652,
     "end_time": "2022-03-22T11:47:19.600533",
     "exception": false,
     "start_time": "2022-03-22T11:47:19.554013",
     "status": "completed"
    },
    "tags": []
   },
   "outputs": [],
   "source": [
    "###################################\n",
    "# Build the dataset\n",
    "###################################\n",
    "train_original_source = Iterable_Aggregator(train_original_source, p.seed)\n",
    "val_original_source = Iterable_Aggregator(val_original_source, p.seed)\n",
    "test_original_source = Iterable_Aggregator(test_original_source, p.seed)\n",
    "\n",
    "\n",
    "train_original_target = Iterable_Aggregator(train_original_target, p.seed)\n",
    "val_original_target = Iterable_Aggregator(val_original_target, p.seed)\n",
    "test_original_target = Iterable_Aggregator(test_original_target, p.seed)\n",
    "\n",
    "# For CNN We only use X and Y. And we only train on the source.\n",
    "# Properly form the data using a transform lambda and Lazy_Iterable_Wrapper. Finally wrap them in a dataloader\n",
    "\n",
    "transform_lambda = lambda ex: ex[1] # Original is (<domain>, <episode>) so we strip down to episode only\n",
    "\n",
    "train_processed_source = Lazy_Iterable_Wrapper(train_original_source, transform_lambda)\n",
    "val_processed_source   = Lazy_Iterable_Wrapper(val_original_source, transform_lambda)\n",
    "test_processed_source  = Lazy_Iterable_Wrapper(test_original_source, transform_lambda)\n",
    "\n",
    "train_processed_target = Lazy_Iterable_Wrapper(train_original_target, transform_lambda)\n",
    "val_processed_target   = Lazy_Iterable_Wrapper(val_original_target, transform_lambda)\n",
    "test_processed_target  = Lazy_Iterable_Wrapper(test_original_target, transform_lambda)\n",
    "\n",
    "datasets = EasyDict({\n",
    "    \"source\": {\n",
    "        \"original\": {\"train\":train_original_source, \"val\":val_original_source, \"test\":test_original_source},\n",
    "        \"processed\": {\"train\":train_processed_source, \"val\":val_processed_source, \"test\":test_processed_source}\n",
    "    },\n",
    "    \"target\": {\n",
    "        \"original\": {\"train\":train_original_target, \"val\":val_original_target, \"test\":test_original_target},\n",
    "        \"processed\": {\"train\":train_processed_target, \"val\":val_processed_target, \"test\":test_processed_target}\n",
    "    },\n",
    "})"
   ]
  },
  {
   "cell_type": "code",
   "execution_count": 20,
   "id": "5b3c01fc",
   "metadata": {
    "execution": {
     "iopub.execute_input": "2022-03-22T11:47:19.658585Z",
     "iopub.status.busy": "2022-03-22T11:47:19.657935Z",
     "iopub.status.idle": "2022-03-22T11:47:34.466994Z",
     "shell.execute_reply": "2022-03-22T11:47:34.466227Z"
    },
    "papermill": {
     "duration": 14.836094,
     "end_time": "2022-03-22T11:47:34.467127",
     "exception": false,
     "start_time": "2022-03-22T11:47:19.631033",
     "status": "completed"
    },
    "tags": []
   },
   "outputs": [
    {
     "name": "stdout",
     "output_type": "stream",
     "text": [
      "{'CORES_2', 'CORES_4', 'CORES_1', 'CORES_3', 'CORES_5'}\n"
     ]
    },
    {
     "name": "stdout",
     "output_type": "stream",
     "text": [
      "{'ORACLE.run1_14', 'ORACLE.run1_38', 'ORACLE.run1_26', 'ORACLE.run1_44', 'ORACLE.run1_50', 'ORACLE.run1_32', 'ORACLE.run1_20', 'ORACLE.run1_8'}\n"
     ]
    },
    {
     "name": "stdout",
     "output_type": "stream",
     "text": [
      "tensor([[[-0.6096, -0.3575,  1.3054,  ..., -0.0319, -0.4341,  0.3543],\n",
      "         [ 0.2809, -1.0565, -0.6001,  ...,  0.2617,  0.1915, -1.4172]],\n",
      "\n",
      "        [[-0.2739,  0.1879,  1.3725,  ...,  0.1943, -0.4076,  0.2675],\n",
      "         [ 0.0159, -0.7993,  0.3216,  ...,  0.0955, -0.1911, -0.2356]],\n",
      "\n",
      "        [[ 0.3657, -1.2910, -0.7981,  ...,  0.8490,  0.5469, -0.8267],\n",
      "         [ 1.3768,  0.2703, -0.7536,  ...,  0.5437,  1.4818,  0.2544]],\n",
      "\n",
      "        ...,\n",
      "\n",
      "        [[-0.2034,  0.2271,  0.5356,  ...,  0.2881, -0.3458,  1.1153],\n",
      "         [ 0.5559,  0.5898, -0.1322,  ...,  0.0441,  0.2881,  0.2814]],\n",
      "\n",
      "        [[-0.0036,  0.3244, -0.1895,  ..., -0.7144, -0.6197,  0.3718],\n",
      "         [-0.0474, -0.5322, -0.5942,  ..., -0.9623,  0.1130, -0.2552]],\n",
      "\n",
      "        [[-0.1316,  0.1316,  0.2148,  ...,  0.1974, -0.9664, -0.9006],\n",
      "         [-0.0485,  0.0312,  0.0173,  ..., -1.3439, -1.0946,  0.8140]]])\n"
     ]
    }
   ],
   "source": [
    "from steves_utils.transforms import get_average_magnitude, get_average_power\n",
    "\n",
    "print(set([u for u,_ in val_original_source]))\n",
    "print(set([u for u,_ in val_original_target]))\n",
    "\n",
    "s_x, s_y, q_x, q_y, _ = next(iter(train_processed_source))\n",
    "print(s_x)\n",
    "\n",
    "# for ds in [\n",
    "#     train_processed_source,\n",
    "#     val_processed_source,\n",
    "#     test_processed_source,\n",
    "#     train_processed_target,\n",
    "#     val_processed_target,\n",
    "#     test_processed_target\n",
    "# ]:\n",
    "#     for s_x, s_y, q_x, q_y, _ in ds:\n",
    "#         for X in (s_x, q_x):\n",
    "#             for x in X:\n",
    "#                 assert np.isclose(get_average_magnitude(x.numpy()), 1.0)\n",
    "#                 assert np.isclose(get_average_power(x.numpy()), 1.0)\n",
    "                "
   ]
  },
  {
   "cell_type": "code",
   "execution_count": 21,
   "id": "bbdacba1",
   "metadata": {
    "execution": {
     "iopub.execute_input": "2022-03-22T11:47:34.524124Z",
     "iopub.status.busy": "2022-03-22T11:47:34.523747Z",
     "iopub.status.idle": "2022-03-22T11:47:34.683436Z",
     "shell.execute_reply": "2022-03-22T11:47:34.682757Z"
    },
    "papermill": {
     "duration": 0.187761,
     "end_time": "2022-03-22T11:47:34.683623",
     "exception": false,
     "start_time": "2022-03-22T11:47:34.495862",
     "status": "completed"
    },
    "tags": []
   },
   "outputs": [
    {
     "name": "stdout",
     "output_type": "stream",
     "text": [
      "(2, 256)\n"
     ]
    }
   ],
   "source": [
    "###################################\n",
    "# Build the model\n",
    "###################################\n",
    "# easfsl only wants a tuple for the shape\n",
    "model = Steves_Prototypical_Network(x_net, device=p.device, x_shape=tuple(p.x_shape))\n",
    "optimizer = Adam(params=model.parameters(), lr=p.lr)"
   ]
  },
  {
   "cell_type": "code",
   "execution_count": 22,
   "id": "22b39ac5",
   "metadata": {
    "execution": {
     "iopub.execute_input": "2022-03-22T11:47:34.737930Z",
     "iopub.status.busy": "2022-03-22T11:47:34.737118Z",
     "iopub.status.idle": "2022-03-22T12:10:48.603175Z",
     "shell.execute_reply": "2022-03-22T12:10:48.602832Z"
    },
    "papermill": {
     "duration": 1393.892757,
     "end_time": "2022-03-22T12:10:48.603258",
     "exception": false,
     "start_time": "2022-03-22T11:47:34.710501",
     "status": "completed"
    },
    "tags": []
   },
   "outputs": [
    {
     "name": "stdout",
     "output_type": "stream",
     "text": [
      "epoch: 1, [batch: 1 / 6297], examples_per_second: 34.2173, train_label_loss: 2.4863, \n"
     ]
    },
    {
     "name": "stdout",
     "output_type": "stream",
     "text": [
      "epoch: 1, [batch: 630 / 6297], examples_per_second: 4370.1570, train_label_loss: 0.0720, \n"
     ]
    },
    {
     "name": "stdout",
     "output_type": "stream",
     "text": [
      "epoch: 1, [batch: 1260 / 6297], examples_per_second: 4186.6463, train_label_loss: 0.0091, \n"
     ]
    },
    {
     "name": "stdout",
     "output_type": "stream",
     "text": [
      "epoch: 1, [batch: 1889 / 6297], examples_per_second: 4178.1036, train_label_loss: 0.0024, \n"
     ]
    },
    {
     "name": "stdout",
     "output_type": "stream",
     "text": [
      "epoch: 1, [batch: 2519 / 6297], examples_per_second: 4121.0494, train_label_loss: 0.0013, \n"
     ]
    },
    {
     "name": "stdout",
     "output_type": "stream",
     "text": [
      "epoch: 1, [batch: 3149 / 6297], examples_per_second: 4143.1560, train_label_loss: 0.0122, \n"
     ]
    },
    {
     "name": "stdout",
     "output_type": "stream",
     "text": [
      "epoch: 1, [batch: 3778 / 6297], examples_per_second: 4454.4383, train_label_loss: 0.0022, \n"
     ]
    },
    {
     "name": "stdout",
     "output_type": "stream",
     "text": [
      "epoch: 1, [batch: 4408 / 6297], examples_per_second: 4252.7084, train_label_loss: 0.0005, \n"
     ]
    },
    {
     "name": "stdout",
     "output_type": "stream",
     "text": [
      "epoch: 1, [batch: 5037 / 6297], examples_per_second: 4221.9960, train_label_loss: 0.0001, \n"
     ]
    },
    {
     "name": "stdout",
     "output_type": "stream",
     "text": [
      "epoch: 1, [batch: 5667 / 6297], examples_per_second: 4200.6118, train_label_loss: 0.0003, \n"
     ]
    },
    {
     "name": "stdout",
     "output_type": "stream",
     "text": [
      "=============================================================\n",
      "epoch: 1, source_val_acc_label: 0.9981, target_val_acc_label: 0.1429, source_val_label_loss: 0.0109, target_val_label_loss: 2.7338, \n",
      "=============================================================\n"
     ]
    },
    {
     "name": "stdout",
     "output_type": "stream",
     "text": [
      "New best\n"
     ]
    },
    {
     "name": "stdout",
     "output_type": "stream",
     "text": [
      "epoch: 2, [batch: 1 / 6333], examples_per_second: 4.5884, train_label_loss: 0.0001, \n"
     ]
    },
    {
     "name": "stdout",
     "output_type": "stream",
     "text": [
      "epoch: 2, [batch: 634 / 6333], examples_per_second: 4164.5188, train_label_loss: 0.0000, \n"
     ]
    },
    {
     "name": "stdout",
     "output_type": "stream",
     "text": [
      "epoch: 2, [batch: 1267 / 6333], examples_per_second: 4215.1962, train_label_loss: 0.0002, \n"
     ]
    },
    {
     "name": "stdout",
     "output_type": "stream",
     "text": [
      "epoch: 2, [batch: 1900 / 6333], examples_per_second: 4224.6259, train_label_loss: 0.0000, \n"
     ]
    },
    {
     "name": "stdout",
     "output_type": "stream",
     "text": [
      "epoch: 2, [batch: 2533 / 6333], examples_per_second: 4098.2561, train_label_loss: 0.0000, \n"
     ]
    },
    {
     "name": "stdout",
     "output_type": "stream",
     "text": [
      "epoch: 2, [batch: 3167 / 6333], examples_per_second: 4185.3543, train_label_loss: 0.0000, \n"
     ]
    },
    {
     "name": "stdout",
     "output_type": "stream",
     "text": [
      "epoch: 2, [batch: 3800 / 6333], examples_per_second: 4327.3173, train_label_loss: 0.0000, \n"
     ]
    },
    {
     "name": "stdout",
     "output_type": "stream",
     "text": [
      "epoch: 2, [batch: 4433 / 6333], examples_per_second: 4261.0608, train_label_loss: 0.0000, \n"
     ]
    },
    {
     "name": "stdout",
     "output_type": "stream",
     "text": [
      "epoch: 2, [batch: 5066 / 6333], examples_per_second: 4554.9931, train_label_loss: 0.0007, \n"
     ]
    },
    {
     "name": "stdout",
     "output_type": "stream",
     "text": [
      "epoch: 2, [batch: 5699 / 6333], examples_per_second: 5322.7720, train_label_loss: 0.0000, \n"
     ]
    },
    {
     "name": "stdout",
     "output_type": "stream",
     "text": [
      "=============================================================\n",
      "epoch: 2, source_val_acc_label: 0.9964, target_val_acc_label: 0.1406, source_val_label_loss: 0.0230, target_val_label_loss: 3.2828, \n",
      "=============================================================\n"
     ]
    },
    {
     "name": "stdout",
     "output_type": "stream",
     "text": [
      "epoch: 3, [batch: 1 / 6305], examples_per_second: 5.5363, train_label_loss: 0.0000, \n"
     ]
    },
    {
     "name": "stdout",
     "output_type": "stream",
     "text": [
      "epoch: 3, [batch: 631 / 6305], examples_per_second: 5025.1425, train_label_loss: 0.0000, \n"
     ]
    },
    {
     "name": "stdout",
     "output_type": "stream",
     "text": [
      "epoch: 3, [batch: 1261 / 6305], examples_per_second: 5021.8332, train_label_loss: 0.0000, \n"
     ]
    },
    {
     "name": "stdout",
     "output_type": "stream",
     "text": [
      "epoch: 3, [batch: 1892 / 6305], examples_per_second: 5054.2997, train_label_loss: 0.0000, \n"
     ]
    },
    {
     "name": "stdout",
     "output_type": "stream",
     "text": [
      "epoch: 3, [batch: 2522 / 6305], examples_per_second: 4918.7135, train_label_loss: 0.0000, \n"
     ]
    },
    {
     "name": "stdout",
     "output_type": "stream",
     "text": [
      "epoch: 3, [batch: 3153 / 6305], examples_per_second: 4976.7432, train_label_loss: 0.0000, \n"
     ]
    },
    {
     "name": "stdout",
     "output_type": "stream",
     "text": [
      "epoch: 3, [batch: 3783 / 6305], examples_per_second: 5055.2158, train_label_loss: 0.0001, \n"
     ]
    },
    {
     "name": "stdout",
     "output_type": "stream",
     "text": [
      "epoch: 3, [batch: 4413 / 6305], examples_per_second: 5019.0100, train_label_loss: 0.0000, \n"
     ]
    },
    {
     "name": "stdout",
     "output_type": "stream",
     "text": [
      "epoch: 3, [batch: 5044 / 6305], examples_per_second: 5305.8466, train_label_loss: 0.0000, \n"
     ]
    },
    {
     "name": "stdout",
     "output_type": "stream",
     "text": [
      "epoch: 3, [batch: 5674 / 6305], examples_per_second: 5235.6942, train_label_loss: 0.0000, \n"
     ]
    },
    {
     "name": "stdout",
     "output_type": "stream",
     "text": [
      "=============================================================\n",
      "epoch: 3, source_val_acc_label: 0.9993, target_val_acc_label: 0.1499, source_val_label_loss: 0.0088, target_val_label_loss: 3.2331, \n",
      "=============================================================\n"
     ]
    },
    {
     "name": "stdout",
     "output_type": "stream",
     "text": [
      "New best\n"
     ]
    },
    {
     "name": "stdout",
     "output_type": "stream",
     "text": [
      "epoch: 4, [batch: 1 / 6323], examples_per_second: 5.4573, train_label_loss: 0.0000, \n"
     ]
    },
    {
     "name": "stdout",
     "output_type": "stream",
     "text": [
      "epoch: 4, [batch: 633 / 6323], examples_per_second: 5281.6588, train_label_loss: 0.0000, \n"
     ]
    },
    {
     "name": "stdout",
     "output_type": "stream",
     "text": [
      "epoch: 4, [batch: 1265 / 6323], examples_per_second: 5277.3461, train_label_loss: 0.0000, \n"
     ]
    },
    {
     "name": "stdout",
     "output_type": "stream",
     "text": [
      "epoch: 4, [batch: 1897 / 6323], examples_per_second: 5219.4503, train_label_loss: 0.0000, \n"
     ]
    },
    {
     "name": "stdout",
     "output_type": "stream",
     "text": [
      "epoch: 4, [batch: 2529 / 6323], examples_per_second: 5280.8035, train_label_loss: 0.0001, \n"
     ]
    },
    {
     "name": "stdout",
     "output_type": "stream",
     "text": [
      "epoch: 4, [batch: 3162 / 6323], examples_per_second: 5346.8515, train_label_loss: 0.0000, \n"
     ]
    },
    {
     "name": "stdout",
     "output_type": "stream",
     "text": [
      "epoch: 4, [batch: 3794 / 6323], examples_per_second: 5247.3384, train_label_loss: 0.0000, \n"
     ]
    },
    {
     "name": "stdout",
     "output_type": "stream",
     "text": [
      "epoch: 4, [batch: 4426 / 6323], examples_per_second: 4925.7891, train_label_loss: 0.0013, \n"
     ]
    },
    {
     "name": "stdout",
     "output_type": "stream",
     "text": [
      "epoch: 4, [batch: 5058 / 6323], examples_per_second: 5183.9589, train_label_loss: 0.0000, \n"
     ]
    },
    {
     "name": "stdout",
     "output_type": "stream",
     "text": [
      "epoch: 4, [batch: 5690 / 6323], examples_per_second: 5452.9813, train_label_loss: 0.0000, \n"
     ]
    },
    {
     "name": "stdout",
     "output_type": "stream",
     "text": [
      "=============================================================\n",
      "epoch: 4, source_val_acc_label: 0.9991, target_val_acc_label: 0.1420, source_val_label_loss: 0.0086, target_val_label_loss: 3.2125, \n",
      "=============================================================\n"
     ]
    },
    {
     "name": "stdout",
     "output_type": "stream",
     "text": [
      "epoch: 5, [batch: 1 / 6317], examples_per_second: 5.5666, train_label_loss: 0.0000, \n"
     ]
    },
    {
     "name": "stdout",
     "output_type": "stream",
     "text": [
      "epoch: 5, [batch: 632 / 6317], examples_per_second: 4983.4268, train_label_loss: 0.0000, \n"
     ]
    },
    {
     "name": "stdout",
     "output_type": "stream",
     "text": [
      "epoch: 5, [batch: 1264 / 6317], examples_per_second: 5230.2776, train_label_loss: 0.0000, \n"
     ]
    },
    {
     "name": "stdout",
     "output_type": "stream",
     "text": [
      "epoch: 5, [batch: 1895 / 6317], examples_per_second: 5009.6496, train_label_loss: 0.0000, \n"
     ]
    },
    {
     "name": "stdout",
     "output_type": "stream",
     "text": [
      "epoch: 5, [batch: 2527 / 6317], examples_per_second: 4850.5135, train_label_loss: 0.0000, \n"
     ]
    },
    {
     "name": "stdout",
     "output_type": "stream",
     "text": [
      "epoch: 5, [batch: 3159 / 6317], examples_per_second: 4865.4409, train_label_loss: 0.0001, \n"
     ]
    },
    {
     "name": "stdout",
     "output_type": "stream",
     "text": [
      "epoch: 5, [batch: 3790 / 6317], examples_per_second: 4886.8004, train_label_loss: 0.0002, \n"
     ]
    },
    {
     "name": "stdout",
     "output_type": "stream",
     "text": [
      "epoch: 5, [batch: 4422 / 6317], examples_per_second: 4997.7031, train_label_loss: 0.0000, \n"
     ]
    },
    {
     "name": "stdout",
     "output_type": "stream",
     "text": [
      "epoch: 5, [batch: 5053 / 6317], examples_per_second: 4992.8972, train_label_loss: 0.0000, \n"
     ]
    },
    {
     "name": "stdout",
     "output_type": "stream",
     "text": [
      "epoch: 5, [batch: 5685 / 6317], examples_per_second: 4982.1140, train_label_loss: 0.0000, \n"
     ]
    },
    {
     "name": "stdout",
     "output_type": "stream",
     "text": [
      "=============================================================\n",
      "epoch: 5, source_val_acc_label: 0.9992, target_val_acc_label: 0.1537, source_val_label_loss: 0.0093, target_val_label_loss: 3.5169, \n",
      "=============================================================\n"
     ]
    },
    {
     "name": "stdout",
     "output_type": "stream",
     "text": [
      "New best\n"
     ]
    },
    {
     "name": "stdout",
     "output_type": "stream",
     "text": [
      "epoch: 6, [batch: 1 / 6329], examples_per_second: 5.3774, train_label_loss: 0.0000, \n"
     ]
    },
    {
     "name": "stdout",
     "output_type": "stream",
     "text": [
      "epoch: 6, [batch: 633 / 6329], examples_per_second: 5026.5016, train_label_loss: 0.0000, \n"
     ]
    },
    {
     "name": "stdout",
     "output_type": "stream",
     "text": [
      "epoch: 6, [batch: 1266 / 6329], examples_per_second: 5062.9015, train_label_loss: 0.0000, \n"
     ]
    },
    {
     "name": "stdout",
     "output_type": "stream",
     "text": [
      "epoch: 6, [batch: 1899 / 6329], examples_per_second: 5410.3979, train_label_loss: 0.0000, \n"
     ]
    },
    {
     "name": "stdout",
     "output_type": "stream",
     "text": [
      "epoch: 6, [batch: 2532 / 6329], examples_per_second: 4841.0564, train_label_loss: 0.0000, \n"
     ]
    },
    {
     "name": "stdout",
     "output_type": "stream",
     "text": [
      "epoch: 6, [batch: 3165 / 6329], examples_per_second: 4998.2101, train_label_loss: 0.0000, \n"
     ]
    },
    {
     "name": "stdout",
     "output_type": "stream",
     "text": [
      "epoch: 6, [batch: 3797 / 6329], examples_per_second: 4994.4919, train_label_loss: 0.0000, \n"
     ]
    },
    {
     "name": "stdout",
     "output_type": "stream",
     "text": [
      "epoch: 6, [batch: 4430 / 6329], examples_per_second: 4317.9277, train_label_loss: 0.0000, \n"
     ]
    },
    {
     "name": "stdout",
     "output_type": "stream",
     "text": [
      "epoch: 6, [batch: 5063 / 6329], examples_per_second: 3820.8932, train_label_loss: 0.0000, \n"
     ]
    },
    {
     "name": "stdout",
     "output_type": "stream",
     "text": [
      "epoch: 6, [batch: 5696 / 6329], examples_per_second: 3819.5328, train_label_loss: 0.0000, \n"
     ]
    },
    {
     "name": "stdout",
     "output_type": "stream",
     "text": [
      "=============================================================\n",
      "epoch: 6, source_val_acc_label: 0.9995, target_val_acc_label: 0.1670, source_val_label_loss: 0.0091, target_val_label_loss: 3.6414, \n",
      "=============================================================\n"
     ]
    },
    {
     "name": "stdout",
     "output_type": "stream",
     "text": [
      "New best\n"
     ]
    },
    {
     "name": "stdout",
     "output_type": "stream",
     "text": [
      "epoch: 7, [batch: 1 / 6316], examples_per_second: 4.1168, train_label_loss: 0.0000, \n"
     ]
    },
    {
     "name": "stdout",
     "output_type": "stream",
     "text": [
      "epoch: 7, [batch: 632 / 6316], examples_per_second: 3851.0141, train_label_loss: 0.0000, \n"
     ]
    },
    {
     "name": "stdout",
     "output_type": "stream",
     "text": [
      "epoch: 7, [batch: 1264 / 6316], examples_per_second: 3874.0045, train_label_loss: 0.0000, \n"
     ]
    },
    {
     "name": "stdout",
     "output_type": "stream",
     "text": [
      "epoch: 7, [batch: 1895 / 6316], examples_per_second: 3842.4510, train_label_loss: 0.0000, \n"
     ]
    },
    {
     "name": "stdout",
     "output_type": "stream",
     "text": [
      "epoch: 7, [batch: 2527 / 6316], examples_per_second: 3812.5494, train_label_loss: 0.0000, \n"
     ]
    },
    {
     "name": "stdout",
     "output_type": "stream",
     "text": [
      "epoch: 7, [batch: 3158 / 6316], examples_per_second: 3832.0255, train_label_loss: 0.0000, \n"
     ]
    },
    {
     "name": "stdout",
     "output_type": "stream",
     "text": [
      "epoch: 7, [batch: 3790 / 6316], examples_per_second: 3868.2523, train_label_loss: 0.0000, \n"
     ]
    },
    {
     "name": "stdout",
     "output_type": "stream",
     "text": [
      "epoch: 7, [batch: 4421 / 6316], examples_per_second: 3878.5710, train_label_loss: 0.0000, \n"
     ]
    },
    {
     "name": "stdout",
     "output_type": "stream",
     "text": [
      "epoch: 7, [batch: 5053 / 6316], examples_per_second: 3901.9302, train_label_loss: 0.0000, \n"
     ]
    },
    {
     "name": "stdout",
     "output_type": "stream",
     "text": [
      "epoch: 7, [batch: 5684 / 6316], examples_per_second: 3850.2129, train_label_loss: 0.0542, \n"
     ]
    },
    {
     "name": "stdout",
     "output_type": "stream",
     "text": [
      "=============================================================\n",
      "epoch: 7, source_val_acc_label: 0.9986, target_val_acc_label: 0.1599, source_val_label_loss: 0.0168, target_val_label_loss: 3.7836, \n",
      "=============================================================\n"
     ]
    },
    {
     "name": "stdout",
     "output_type": "stream",
     "text": [
      "epoch: 8, [batch: 1 / 6315], examples_per_second: 4.0554, train_label_loss: 0.0336, \n"
     ]
    },
    {
     "name": "stdout",
     "output_type": "stream",
     "text": [
      "epoch: 8, [batch: 632 / 6315], examples_per_second: 3815.1557, train_label_loss: 0.0000, \n"
     ]
    },
    {
     "name": "stdout",
     "output_type": "stream",
     "text": [
      "epoch: 8, [batch: 1263 / 6315], examples_per_second: 3892.1496, train_label_loss: 0.0000, \n"
     ]
    },
    {
     "name": "stdout",
     "output_type": "stream",
     "text": [
      "epoch: 8, [batch: 1895 / 6315], examples_per_second: 3938.9896, train_label_loss: 0.0000, \n"
     ]
    },
    {
     "name": "stdout",
     "output_type": "stream",
     "text": [
      "epoch: 8, [batch: 2526 / 6315], examples_per_second: 4016.3607, train_label_loss: 0.0000, \n"
     ]
    },
    {
     "name": "stdout",
     "output_type": "stream",
     "text": [
      "epoch: 8, [batch: 3158 / 6315], examples_per_second: 4012.8668, train_label_loss: 0.0000, \n"
     ]
    },
    {
     "name": "stdout",
     "output_type": "stream",
     "text": [
      "epoch: 8, [batch: 3789 / 6315], examples_per_second: 4033.3450, train_label_loss: 0.0000, \n"
     ]
    },
    {
     "name": "stdout",
     "output_type": "stream",
     "text": [
      "epoch: 8, [batch: 4420 / 6315], examples_per_second: 4002.8169, train_label_loss: 0.0000, \n"
     ]
    },
    {
     "name": "stdout",
     "output_type": "stream",
     "text": [
      "epoch: 8, [batch: 5052 / 6315], examples_per_second: 3935.7186, train_label_loss: 0.0000, \n"
     ]
    },
    {
     "name": "stdout",
     "output_type": "stream",
     "text": [
      "epoch: 8, [batch: 5683 / 6315], examples_per_second: 3898.9506, train_label_loss: 0.0000, \n"
     ]
    },
    {
     "name": "stdout",
     "output_type": "stream",
     "text": [
      "=============================================================\n",
      "epoch: 8, source_val_acc_label: 0.9993, target_val_acc_label: 0.1474, source_val_label_loss: 0.0126, target_val_label_loss: 4.3070, \n",
      "=============================================================\n"
     ]
    },
    {
     "name": "stdout",
     "output_type": "stream",
     "text": [
      "epoch: 9, [batch: 1 / 6317], examples_per_second: 4.0042, train_label_loss: 0.0000, \n"
     ]
    },
    {
     "name": "stdout",
     "output_type": "stream",
     "text": [
      "epoch: 9, [batch: 632 / 6317], examples_per_second: 3895.6662, train_label_loss: 0.0000, \n"
     ]
    },
    {
     "name": "stdout",
     "output_type": "stream",
     "text": [
      "epoch: 9, [batch: 1264 / 6317], examples_per_second: 3853.0196, train_label_loss: 0.0000, \n"
     ]
    },
    {
     "name": "stdout",
     "output_type": "stream",
     "text": [
      "epoch: 9, [batch: 1895 / 6317], examples_per_second: 3880.5490, train_label_loss: 0.0000, \n"
     ]
    },
    {
     "name": "stdout",
     "output_type": "stream",
     "text": [
      "epoch: 9, [batch: 2527 / 6317], examples_per_second: 3924.2789, train_label_loss: 0.0000, \n"
     ]
    },
    {
     "name": "stdout",
     "output_type": "stream",
     "text": [
      "epoch: 9, [batch: 3159 / 6317], examples_per_second: 3881.7370, train_label_loss: 0.0000, \n"
     ]
    },
    {
     "name": "stdout",
     "output_type": "stream",
     "text": [
      "epoch: 9, [batch: 3790 / 6317], examples_per_second: 3900.3321, train_label_loss: 0.0000, \n"
     ]
    },
    {
     "name": "stdout",
     "output_type": "stream",
     "text": [
      "epoch: 9, [batch: 4422 / 6317], examples_per_second: 3883.2450, train_label_loss: 0.0000, \n"
     ]
    },
    {
     "name": "stdout",
     "output_type": "stream",
     "text": [
      "epoch: 9, [batch: 5053 / 6317], examples_per_second: 3886.1939, train_label_loss: 0.0000, \n"
     ]
    },
    {
     "name": "stdout",
     "output_type": "stream",
     "text": [
      "epoch: 9, [batch: 5685 / 6317], examples_per_second: 3867.9229, train_label_loss: 0.0000, \n"
     ]
    },
    {
     "name": "stdout",
     "output_type": "stream",
     "text": [
      "=============================================================\n",
      "epoch: 9, source_val_acc_label: 0.9996, target_val_acc_label: 0.1623, source_val_label_loss: 0.0139, target_val_label_loss: 4.3514, \n",
      "=============================================================\n"
     ]
    },
    {
     "name": "stdout",
     "output_type": "stream",
     "text": [
      "epoch: 10, [batch: 1 / 6296], examples_per_second: 4.0342, train_label_loss: 0.0000, \n"
     ]
    },
    {
     "name": "stdout",
     "output_type": "stream",
     "text": [
      "epoch: 10, [batch: 630 / 6296], examples_per_second: 3868.2805, train_label_loss: 0.0000, \n"
     ]
    },
    {
     "name": "stdout",
     "output_type": "stream",
     "text": [
      "epoch: 10, [batch: 1260 / 6296], examples_per_second: 3806.2685, train_label_loss: 0.0277, \n"
     ]
    },
    {
     "name": "stdout",
     "output_type": "stream",
     "text": [
      "epoch: 10, [batch: 1889 / 6296], examples_per_second: 3775.4206, train_label_loss: 0.0000, \n"
     ]
    },
    {
     "name": "stdout",
     "output_type": "stream",
     "text": [
      "epoch: 10, [batch: 2519 / 6296], examples_per_second: 3741.0770, train_label_loss: 0.0000, \n"
     ]
    },
    {
     "name": "stdout",
     "output_type": "stream",
     "text": [
      "epoch: 10, [batch: 3148 / 6296], examples_per_second: 3780.0555, train_label_loss: 0.0000, \n"
     ]
    },
    {
     "name": "stdout",
     "output_type": "stream",
     "text": [
      "epoch: 10, [batch: 3778 / 6296], examples_per_second: 3758.2700, train_label_loss: 0.0000, \n"
     ]
    },
    {
     "name": "stdout",
     "output_type": "stream",
     "text": [
      "epoch: 10, [batch: 4407 / 6296], examples_per_second: 3766.6413, train_label_loss: 0.0000, \n"
     ]
    },
    {
     "name": "stdout",
     "output_type": "stream",
     "text": [
      "epoch: 10, [batch: 5037 / 6296], examples_per_second: 3909.3407, train_label_loss: 0.0000, \n"
     ]
    },
    {
     "name": "stdout",
     "output_type": "stream",
     "text": [
      "epoch: 10, [batch: 5666 / 6296], examples_per_second: 3935.4268, train_label_loss: 0.0000, \n"
     ]
    },
    {
     "name": "stdout",
     "output_type": "stream",
     "text": [
      "=============================================================\n",
      "epoch: 10, source_val_acc_label: 0.9995, target_val_acc_label: 0.1624, source_val_label_loss: 0.0147, target_val_label_loss: 4.7853, \n",
      "=============================================================\n"
     ]
    },
    {
     "name": "stdout",
     "output_type": "stream",
     "text": [
      "Patience (3) exhausted\n"
     ]
    }
   ],
   "source": [
    "###################################\n",
    "# train\n",
    "###################################\n",
    "jig = PTN_Train_Eval_Test_Jig(model, p.BEST_MODEL_PATH, p.device)\n",
    "\n",
    "jig.train(\n",
    "    train_iterable=datasets.source.processed.train,\n",
    "    source_val_iterable=datasets.source.processed.val,\n",
    "    target_val_iterable=datasets.target.processed.val,\n",
    "    num_epochs=p.n_epoch,\n",
    "    num_logs_per_epoch=p.NUM_LOGS_PER_EPOCH,\n",
    "    patience=p.patience,\n",
    "    optimizer=optimizer,\n",
    "    criteria_for_best=p.criteria_for_best,\n",
    ")"
   ]
  },
  {
   "cell_type": "code",
   "execution_count": 23,
   "id": "31e8fabf",
   "metadata": {
    "execution": {
     "iopub.execute_input": "2022-03-22T12:10:48.714924Z",
     "iopub.status.busy": "2022-03-22T12:10:48.714352Z",
     "iopub.status.idle": "2022-03-22T12:10:48.747204Z",
     "shell.execute_reply": "2022-03-22T12:10:48.746470Z"
    },
    "papermill": {
     "duration": 0.091572,
     "end_time": "2022-03-22T12:10:48.747378",
     "exception": false,
     "start_time": "2022-03-22T12:10:48.655806",
     "status": "completed"
    },
    "tags": []
   },
   "outputs": [],
   "source": [
    "total_experiment_time_secs = time.time() - start_time_secs"
   ]
  },
  {
   "cell_type": "code",
   "execution_count": 24,
   "id": "87b9595b",
   "metadata": {
    "execution": {
     "iopub.execute_input": "2022-03-22T12:10:48.879730Z",
     "iopub.status.busy": "2022-03-22T12:10:48.878799Z",
     "iopub.status.idle": "2022-03-22T12:13:14.937392Z",
     "shell.execute_reply": "2022-03-22T12:13:14.937734Z"
    },
    "papermill": {
     "duration": 146.127099,
     "end_time": "2022-03-22T12:13:14.937881",
     "exception": false,
     "start_time": "2022-03-22T12:10:48.810782",
     "status": "completed"
    },
    "tags": []
   },
   "outputs": [],
   "source": [
    "###################################\n",
    "# Evaluate the model\n",
    "###################################\n",
    "source_test_label_accuracy, source_test_label_loss = jig.test(datasets.source.processed.test)\n",
    "target_test_label_accuracy, target_test_label_loss = jig.test(datasets.target.processed.test)\n",
    "\n",
    "source_val_label_accuracy, source_val_label_loss = jig.test(datasets.source.processed.val)\n",
    "target_val_label_accuracy, target_val_label_loss = jig.test(datasets.target.processed.val)\n",
    "\n",
    "history = jig.get_history()\n",
    "\n",
    "total_epochs_trained = len(history[\"epoch_indices\"])\n",
    "\n",
    "val_dl = Iterable_Aggregator((datasets.source.original.val,datasets.target.original.val))\n",
    "\n",
    "confusion = ptn_confusion_by_domain_over_dataloader(model, p.device, val_dl)\n",
    "per_domain_accuracy = per_domain_accuracy_from_confusion(confusion)\n",
    "\n",
    "# Add a key to per_domain_accuracy for if it was a source domain\n",
    "for domain, accuracy in per_domain_accuracy.items():\n",
    "    per_domain_accuracy[domain] = {\n",
    "        \"accuracy\": accuracy,\n",
    "        \"source?\": domain in p.domains_source\n",
    "    }\n",
    "\n",
    "# Do an independent accuracy assesment JUST TO BE SURE!\n",
    "# _source_test_label_accuracy = independent_accuracy_assesment(model, datasets.source.processed.test, p.device)\n",
    "# _target_test_label_accuracy = independent_accuracy_assesment(model, datasets.target.processed.test, p.device)\n",
    "# _source_val_label_accuracy = independent_accuracy_assesment(model, datasets.source.processed.val, p.device)\n",
    "# _target_val_label_accuracy = independent_accuracy_assesment(model, datasets.target.processed.val, p.device)\n",
    "\n",
    "# assert(_source_test_label_accuracy == source_test_label_accuracy)\n",
    "# assert(_target_test_label_accuracy == target_test_label_accuracy)\n",
    "# assert(_source_val_label_accuracy == source_val_label_accuracy)\n",
    "# assert(_target_val_label_accuracy == target_val_label_accuracy)\n",
    "\n",
    "experiment = {\n",
    "    \"experiment_name\": p.experiment_name,\n",
    "    \"parameters\": dict(p),\n",
    "    \"results\": {\n",
    "        \"source_test_label_accuracy\": source_test_label_accuracy,\n",
    "        \"source_test_label_loss\": source_test_label_loss,\n",
    "        \"target_test_label_accuracy\": target_test_label_accuracy,\n",
    "        \"target_test_label_loss\": target_test_label_loss,\n",
    "        \"source_val_label_accuracy\": source_val_label_accuracy,\n",
    "        \"source_val_label_loss\": source_val_label_loss,\n",
    "        \"target_val_label_accuracy\": target_val_label_accuracy,\n",
    "        \"target_val_label_loss\": target_val_label_loss,\n",
    "        \"total_epochs_trained\": total_epochs_trained,\n",
    "        \"total_experiment_time_secs\": total_experiment_time_secs,\n",
    "        \"confusion\": confusion,\n",
    "        \"per_domain_accuracy\": per_domain_accuracy,\n",
    "    },\n",
    "    \"history\": history,\n",
    "    \"dataset_metrics\": get_dataset_metrics(datasets, \"ptn\"),\n",
    "}"
   ]
  },
  {
   "cell_type": "code",
   "execution_count": 25,
   "id": "54a21829",
   "metadata": {
    "execution": {
     "iopub.execute_input": "2022-03-22T12:13:15.053584Z",
     "iopub.status.busy": "2022-03-22T12:13:15.053198Z",
     "iopub.status.idle": "2022-03-22T12:13:15.270920Z",
     "shell.execute_reply": "2022-03-22T12:13:15.271657Z"
    },
    "papermill": {
     "duration": 0.276435,
     "end_time": "2022-03-22T12:13:15.271888",
     "exception": false,
     "start_time": "2022-03-22T12:13:14.995453",
     "status": "completed"
    },
    "tags": []
   },
   "outputs": [
    {
     "data": {
      "image/png": "[encoded data removed]",
      "text/plain": [
       "<Figure size 1080x504 with 1 Axes>"
      ]
     },
     "metadata": {
      "needs_background": "light"
     },
     "output_type": "display_data"
    }
   ],
   "source": [
    "ax = get_loss_curve(experiment)\n",
    "plt.show()"
   ]
  },
  {
   "cell_type": "code",
   "execution_count": 26,
   "id": "fd8a0f60",
   "metadata": {
    "execution": {
     "iopub.execute_input": "2022-03-22T12:13:15.387391Z",
     "iopub.status.busy": "2022-03-22T12:13:15.387010Z",
     "iopub.status.idle": "2022-03-22T12:13:15.756147Z",
     "shell.execute_reply": "2022-03-22T12:13:15.756857Z"
    },
    "papermill": {
     "duration": 0.426965,
     "end_time": "2022-03-22T12:13:15.757095",
     "exception": false,
     "start_time": "2022-03-22T12:13:15.330130",
     "status": "completed"
    },
    "tags": []
   },
   "outputs": [
    {
     "data": {
      "text/plain": [
       "<AxesSubplot:title={'center':'Results'}>"
      ]
     },
     "execution_count": 26,
     "metadata": {},
     "output_type": "execute_result"
    },
    {
     "data": {
      "image/png": "[encoded data removed]",
      "text/plain": [
       "<Figure size 1080x504 with 1 Axes>"
      ]
     },
     "metadata": {
      "needs_background": "light"
     },
     "output_type": "display_data"
    }
   ],
   "source": [
    "get_results_table(experiment)"
   ]
  },
  {
   "cell_type": "code",
   "execution_count": 27,
   "id": "cf8dc689",
   "metadata": {
    "execution": {
     "iopub.execute_input": "2022-03-22T12:13:15.876097Z",
     "iopub.status.busy": "2022-03-22T12:13:15.875719Z",
     "iopub.status.idle": "2022-03-22T12:13:16.131716Z",
     "shell.execute_reply": "2022-03-22T12:13:16.132387Z"
    },
    "papermill": {
     "duration": 0.315737,
     "end_time": "2022-03-22T12:13:16.132622",
     "exception": false,
     "start_time": "2022-03-22T12:13:15.816885",
     "status": "completed"
    },
    "tags": []
   },
   "outputs": [
    {
     "data": {
      "text/plain": [
       "<AxesSubplot:title={'center':'Per Domain Validation Accuracy'}, xlabel='domain'>"
      ]
     },
     "execution_count": 27,
     "metadata": {},
     "output_type": "execute_result"
    },
    {
     "data": {
      "image/png": "[encoded data removed]",
      "text/plain": [
       "<Figure size 1080x504 with 1 Axes>"
      ]
     },
     "metadata": {
      "needs_background": "light"
     },
     "output_type": "display_data"
    }
   ],
   "source": [
    "get_domain_accuracies(experiment)"
   ]
  },
  {
   "cell_type": "code",
   "execution_count": 28,
   "id": "a74ae082",
   "metadata": {
    "execution": {
     "iopub.execute_input": "2022-03-22T12:13:16.254890Z",
     "iopub.status.busy": "2022-03-22T12:13:16.254509Z",
     "iopub.status.idle": "2022-03-22T12:13:16.279780Z",
     "shell.execute_reply": "2022-03-22T12:13:16.280458Z"
    },
    "papermill": {
     "duration": 0.087743,
     "end_time": "2022-03-22T12:13:16.280661",
     "exception": false,
     "start_time": "2022-03-22T12:13:16.192918",
     "status": "completed"
    },
    "tags": []
   },
   "outputs": [
    {
     "name": "stdout",
     "output_type": "stream",
     "text": [
      "Source Test Label Accuracy: 0.9994750839865622 Target Test Label Accuracy: 0.17177734375\n",
      "Source Val Label Accuracy: 0.9994636727688787 Target Val Label Accuracy: 0.16695963541666667\n"
     ]
    }
   ],
   "source": [
    "print(\"Source Test Label Accuracy:\", experiment[\"results\"][\"source_test_label_accuracy\"], \"Target Test Label Accuracy:\", experiment[\"results\"][\"target_test_label_accuracy\"])\n",
    "print(\"Source Val Label Accuracy:\", experiment[\"results\"][\"source_val_label_accuracy\"], \"Target Val Label Accuracy:\", experiment[\"results\"][\"target_val_label_accuracy\"])"
   ]
  },
  {
   "cell_type": "code",
   "execution_count": 29,
   "id": "dacca602",
   "metadata": {
    "execution": {
     "iopub.execute_input": "2022-03-22T12:13:16.403919Z",
     "iopub.status.busy": "2022-03-22T12:13:16.403547Z",
     "iopub.status.idle": "2022-03-22T12:13:16.430270Z",
     "shell.execute_reply": "2022-03-22T12:13:16.430947Z"
    },
    "papermill": {
     "duration": 0.086009,
     "end_time": "2022-03-22T12:13:16.431143",
     "exception": false,
     "start_time": "2022-03-22T12:13:16.345134",
     "status": "completed"
    },
    "tags": [
     "experiment_json"
    ]
   },
   "outputs": [
    {
     "data": {
      "text/plain": [
       "'{\"experiment_name\": \"tl_1v2:cores-oracle.run1.limited\", \"parameters\": {\"experiment_name\": \"tl_1v2:cores-oracle.run1.limited\", \"device\": \"cuda\", \"lr\": 0.0001, \"n_shot\": 3, \"n_query\": 2, \"train_k_factor\": 3, \"val_k_factor\": 2, \"test_k_factor\": 2, \"torch_default_dtype\": \"torch.float32\", \"n_epoch\": 50, \"patience\": 3, \"criteria_for_best\": \"target_accuracy\", \"x_net\": [{\"class\": \"nnReshape\", \"kargs\": {\"shape\": [-1, 1, 2, 256]}}, {\"class\": \"Conv2d\", \"kargs\": {\"in_channels\": 1, \"out_channels\": 256, \"kernel_size\": [1, 7], \"bias\": false, \"padding\": [0, 3]}}, {\"class\": \"ReLU\", \"kargs\": {\"inplace\": true}}, {\"class\": \"BatchNorm2d\", \"kargs\": {\"num_features\": 256}}, {\"class\": \"Conv2d\", \"kargs\": {\"in_channels\": 256, \"out_channels\": 80, \"kernel_size\": [2, 7], \"bias\": true, \"padding\": [0, 3]}}, {\"class\": \"ReLU\", \"kargs\": {\"inplace\": true}}, {\"class\": \"BatchNorm2d\", \"kargs\": {\"num_features\": 80}}, {\"class\": \"Flatten\", \"kargs\": {}}, {\"class\": \"Linear\", \"kargs\": {\"in_features\": 20480, \"out_features\": 256}}, {\"class\": \"ReLU\", \"kargs\": {\"inplace\": true}}, {\"class\": \"BatchNorm1d\", \"kargs\": {\"num_features\": 256}}, {\"class\": \"Linear\", \"kargs\": {\"in_features\": 256, \"out_features\": 256}}], \"NUM_LOGS_PER_EPOCH\": 10, \"BEST_MODEL_PATH\": \"./best_model.pth\", \"n_way\": 16, \"datasets\": [{\"labels\": [\"1-10.\", \"1-11.\", \"1-15.\", \"1-16.\", \"1-17.\", \"1-18.\", \"1-19.\", \"10-4.\", \"10-7.\", \"11-1.\", \"11-14.\", \"11-17.\", \"11-20.\", \"11-7.\", \"13-20.\", \"13-8.\", \"14-10.\", \"14-11.\", \"14-14.\", \"14-7.\", \"15-1.\", \"15-20.\", \"16-1.\", \"16-16.\", \"17-10.\", \"17-11.\", \"17-2.\", \"19-1.\", \"19-16.\", \"19-19.\", \"19-20.\", \"19-3.\", \"2-10.\", \"2-11.\", \"2-17.\", \"2-18.\", \"2-20.\", \"2-3.\", \"2-4.\", \"2-5.\", \"2-6.\", \"2-7.\", \"2-8.\", \"3-13.\", \"3-18.\", \"3-3.\", \"4-1.\", \"4-10.\", \"4-11.\", \"4-19.\", \"5-5.\", \"6-15.\", \"7-10.\", \"7-14.\", \"8-18.\", \"8-20.\", \"8-3.\", \"8-8.\"], \"domains\": [1, 2, 3, 4, 5], \"num_examples_per_domain_per_label\": -1, \"pickle_path\": \"/root/csc500-main/datasets/cores.stratified_ds.2022A.pkl\", \"source_or_target_dataset\": \"source\", \"x_transforms\": [\"unit_mag\"], \"episode_transforms\": [], \"domain_prefix\": \"CORES_\"}, {\"labels\": [\"3123D52\", \"3123D65\", \"3123D79\", \"3123D80\", \"3123D54\", \"3123D70\", \"3123D7B\", \"3123D89\", \"3123D58\", \"3123D76\", \"3123D7D\", \"3123EFE\", \"3123D64\", \"3123D78\", \"3123D7E\", \"3124E4A\"], \"domains\": [32, 38, 8, 44, 14, 50, 20, 26], \"num_examples_per_domain_per_label\": 2000, \"pickle_path\": \"/root/csc500-main/datasets/oracle.Run1_10kExamples_stratified_ds.2022A.pkl\", \"source_or_target_dataset\": \"target\", \"x_transforms\": [\"unit_mag\"], \"episode_transforms\": [], \"domain_prefix\": \"ORACLE.run1_\"}], \"dataset_seed\": 154325, \"seed\": 154325, \"x_shape\": [2, 256], \"domains_source\": [\"CORES_1\", \"CORES_2\", \"CORES_3\", \"CORES_4\", \"CORES_5\"], \"domains_target\": [\"ORACLE.run1_32\", \"ORACLE.run1_38\", \"ORACLE.run1_8\", \"ORACLE.run1_44\", \"ORACLE.run1_14\", \"ORACLE.run1_50\", \"ORACLE.run1_20\", \"ORACLE.run1_26\"]}, \"results\": {\"source_test_label_accuracy\": 0.9994750839865622, \"source_test_label_loss\": 0.005803409032523632, \"target_test_label_accuracy\": 0.17177734375, \"target_test_label_loss\": 3.6211025714874268, \"source_val_label_accuracy\": 0.9994636727688787, \"source_val_label_loss\": 0.009128750301897526, \"target_val_label_accuracy\": 0.16695963541666667, \"target_val_label_loss\": 3.641441822052002, \"total_epochs_trained\": 10, \"total_experiment_time_secs\": 1454.4793152809143, \"confusion\": {\"CORES_2\": {\"21\": {\"21\": 120}, \"4\": {\"4\": 130}, \"6\": {\"6\": 124}, \"10\": {\"10\": 112}, \"33\": {\"33\": 28}, \"56\": {\"56\": 122}, \"20\": {\"20\": 132}, \"24\": {\"24\": 96}, \"45\": {\"45\": 128}, \"32\": {\"32\": 28}, \"27\": {\"27\": 148}, \"53\": {\"53\": 136}, \"8\": {\"8\": 160}, \"54\": {\"54\": 108}, \"50\": {\"50\": 134}, \"44\": {\"44\": 100}, \"5\": {\"5\": 120}, \"38\": {\"38\": 20}, \"19\": {\"19\": 132}, \"1\": {\"1\": 112}, \"30\": {\"30\": 144}, \"15\": {\"15\": 144}, \"23\": {\"23\": 146}, \"35\": {\"35\": 32}, \"22\": {\"22\": 128}, \"40\": {\"40\": 140}, \"46\": {\"46\": 126}, \"3\": {\"3\": 92}, \"48\": {\"48\": 148}, \"52\": {\"52\": 124}, \"2\": {\"2\": 32}, \"26\": {\"26\": 24}, \"17\": {\"17\": 104}, \"55\": {\"55\": 144}, \"51\": {\"51\": 122}, \"42\": {\"42\": 36}, \"41\": {\"41\": 20}, \"31\": {\"31\": 28}, \"16\": {\"16\": 138}, \"36\": {\"36\": 116}, \"49\": {\"49\": 24}, \"0\": {\"0\": 48}, \"18\": {\"18\": 48}, \"25\": {\"25\": 146}, \"9\": {\"9\": 122}, \"47\": {\"47\": 132}, \"7\": {\"7\": 36}, \"37\": {\"37\": 36}, \"13\": {\"13\": 116}, \"14\": {\"14\": 24}, \"34\": {\"34\": 28}, \"57\": {\"57\": 140}, \"11\": {\"11\": 138}, \"39\": {\"39\": 28}, \"12\": {\"12\": 92}, \"28\": {\"28\": 28}, \"29\": {\"29\": 128}, \"43\": {\"43\": 140}}, \"CORES_5\": {\"12\": {\"12\": 96}, \"8\": {\"8\": 142}, \"29\": {\"29\": 132}, \"57\": {\"57\": 126}, \"38\": {\"38\": 32}, \"23\": {\"23\": 124}, \"56\": {\"56\": 138}, \"49\": {\"49\": 36}, \"4\": {\"4\": 100}, \"48\": {\"48\": 136}, \"21\": {\"21\": 144}, \"30\": {\"30\": 128}, \"1\": {\"1\": 148}, \"34\": {\"34\": 36}, \"35\": {\"35\": 36}, \"55\": {\"55\": 152}, \"5\": {\"5\": 122}, \"52\": {\"52\": 126}, \"6\": {\"6\": 128}, \"36\": {\"36\": 92}, \"41\": {\"41\": 28}, \"3\": {\"3\": 100}, \"28\": {\"28\": 32}, \"18\": {\"18\": 64}, \"25\": {\"25\": 136}, \"47\": {\"47\": 100}, \"13\": {\"13\": 160}, \"11\": {\"11\": 144}, \"53\": {\"53\": 144}, \"33\": {\"33\": 32}, \"46\": {\"46\": 148}, \"50\": {\"50\": 148}, \"10\": {\"10\": 68}, \"15\": {\"15\": 138}, \"44\": {\"44\": 140}, \"2\": {\"2\": 28}, \"7\": {\"7\": 32}, \"43\": {\"43\": 138}, \"32\": {\"32\": 32}, \"0\": {\"0\": 124}, \"39\": {\"39\": 20}, \"26\": {\"26\": 24}, \"27\": {\"27\": 112}, \"54\": {\"54\": 112}, \"17\": {\"17\": 116}, \"14\": {\"14\": 44}, \"16\": {\"16\": 148}, \"9\": {\"9\": 148}, \"19\": {\"19\": 152}, \"20\": {\"20\": 138}, \"37\": {\"37\": 24}, \"24\": {\"24\": 80}, \"40\": {\"40\": 122}, \"45\": {\"45\": 123, \"53\": 1}, \"22\": {\"22\": 28}, \"42\": {\"42\": 38, \"15\": 2}, \"51\": {\"51\": 118}, \"31\": {\"31\": 36}}, \"CORES_1\": {\"27\": {\"27\": 142}, \"2\": {\"2\": 36}, \"33\": {\"33\": 32}, \"45\": {\"45\": 156}, \"38\": {\"38\": 24}, \"4\": {\"4\": 132}, \"31\": {\"31\": 28}, \"55\": {\"55\": 140}, \"32\": {\"32\": 32}, \"57\": {\"57\": 140}, \"14\": {\"14\": 24}, \"16\": {\"16\": 140}, \"34\": {\"34\": 24}, \"56\": {\"56\": 126}, \"24\": {\"24\": 108}, \"30\": {\"30\": 112}, \"17\": {\"17\": 64}, \"13\": {\"13\": 138}, \"39\": {\"39\": 28}, \"50\": {\"50\": 145, \"48\": 1}, \"20\": {\"20\": 140}, \"41\": {\"41\": 24}, \"53\": {\"53\": 126}, \"48\": {\"48\": 142}, \"36\": {\"36\": 64}, \"8\": {\"8\": 140}, \"15\": {\"15\": 132}, \"40\": {\"40\": 156}, \"37\": {\"37\": 32}, \"21\": {\"21\": 120}, \"35\": {\"35\": 36}, \"49\": {\"49\": 32}, \"26\": {\"26\": 24}, \"28\": {\"28\": 28}, \"12\": {\"12\": 116}, \"5\": {\"5\": 152}, \"29\": {\"29\": 140}, \"47\": {\"47\": 140}, \"10\": {\"10\": 96}, \"18\": {\"18\": 71, \"48\": 1}, \"9\": {\"9\": 126}, \"3\": {\"3\": 140}, \"52\": {\"52\": 132}, \"25\": {\"25\": 136}, \"19\": {\"19\": 156}, \"11\": {\"11\": 136}, \"7\": {\"7\": 28}, \"23\": {\"23\": 136}, \"44\": {\"44\": 132}, \"42\": {\"42\": 40}, \"54\": {\"54\": 104}, \"1\": {\"1\": 100}, \"46\": {\"46\": 128}, \"6\": {\"6\": 96}, \"43\": {\"43\": 144}, \"51\": {\"51\": 142}, \"22\": {\"22\": 136}, \"0\": {\"0\": 128}}, \"CORES_4\": {\"32\": {\"32\": 24}, \"2\": {\"2\": 36}, \"41\": {\"41\": 36}, \"11\": {\"11\": 102}, \"57\": {\"57\": 100}, \"6\": {\"6\": 112}, \"23\": {\"23\": 136}, \"52\": {\"52\": 116}, \"38\": {\"38\": 40}, \"50\": {\"50\": 132}, \"55\": {\"55\": 152}, \"46\": {\"46\": 154}, \"37\": {\"37\": 24}, \"20\": {\"20\": 118}, \"49\": {\"49\": 20}, \"45\": {\"45\": 96}, \"54\": {\"54\": 108}, \"3\": {\"3\": 122, \"50\": 2}, \"13\": {\"13\": 152}, \"18\": {\"18\": 108}, \"21\": {\"21\": 126}, \"43\": {\"43\": 144}, \"47\": {\"47\": 120}, \"4\": {\"4\": 132}, \"12\": {\"12\": 92}, \"9\": {\"9\": 128}, \"7\": {\"7\": 24}, \"56\": {\"56\": 112}, \"28\": {\"28\": 32}, \"44\": {\"44\": 132}, \"24\": {\"24\": 56}, \"33\": {\"33\": 36}, \"35\": {\"35\": 40}, \"51\": {\"51\": 137, \"21\": 1}, \"39\": {\"39\": 20}, \"36\": {\"36\": 92}, \"19\": {\"19\": 140}, \"0\": {\"0\": 77, \"46\": 3}, \"15\": {\"15\": 136}, \"29\": {\"29\": 124}, \"30\": {\"30\": 44}, \"1\": {\"1\": 40}, \"22\": {\"22\": 128}, \"40\": {\"40\": 146}, \"8\": {\"8\": 128}, \"53\": {\"53\": 138}, \"34\": {\"34\": 24}, \"10\": {\"10\": 122}, \"31\": {\"31\": 28}, \"17\": {\"17\": 80}, \"16\": {\"16\": 96}, \"42\": {\"42\": 32}, \"27\": {\"27\": 142}, \"14\": {\"14\": 16}, \"25\": {\"25\": 122}, \"48\": {\"48\": 132}, \"26\": {\"26\": 24}, \"5\": {\"5\": 108}}, \"CORES_3\": {\"14\": {\"14\": 40}, \"18\": {\"18\": 84}, \"30\": {\"30\": 120}, \"16\": {\"16\": 156}, \"1\": {\"1\": 100}, \"20\": {\"20\": 132}, \"7\": {\"7\": 36}, \"52\": {\"52\": 130}, \"9\": {\"9\": 140}, \"23\": {\"23\": 144}, \"55\": {\"55\": 164}, \"29\": {\"29\": 126}, \"56\": {\"56\": 134}, \"3\": {\"3\": 124}, \"42\": {\"42\": 28}, \"6\": {\"6\": 88}, \"5\": {\"5\": 115, \"3\": 1}, \"27\": {\"27\": 144}, \"47\": {\"47\": 92}, \"39\": {\"39\": 16}, \"34\": {\"34\": 32}, \"4\": {\"4\": 126}, \"24\": {\"24\": 104}, \"46\": {\"46\": 118}, \"50\": {\"50\": 124, \"3\": 1, \"6\": 1}, \"38\": {\"38\": 28}, \"54\": {\"54\": 100}, \"35\": {\"35\": 28}, \"2\": {\"2\": 32}, \"41\": {\"41\": 28}, \"57\": {\"57\": 118}, \"25\": {\"25\": 150}, \"48\": {\"48\": 116}, \"33\": {\"33\": 28}, \"45\": {\"45\": 60}, \"13\": {\"13\": 126}, \"36\": {\"36\": 100}, \"43\": {\"43\": 132}, \"28\": {\"28\": 28}, \"0\": {\"0\": 124}, \"12\": {\"12\": 92}, \"31\": {\"31\": 28}, \"40\": {\"40\": 116}, \"44\": {\"44\": 87, \"40\": 1}, \"32\": {\"32\": 28}, \"26\": {\"26\": 24}, \"8\": {\"8\": 116}, \"10\": {\"10\": 64}, \"15\": {\"15\": 142}, \"21\": {\"21\": 128}, \"37\": {\"37\": 28}, \"17\": {\"17\": 108}, \"51\": {\"51\": 124}, \"53\": {\"53\": 144}, \"19\": {\"19\": 136}, \"49\": {\"49\": 20}, \"11\": {\"11\": 138}, \"22\": {\"22\": 130}}, \"ORACLE.run1_8\": {\"13\": {\"1\": 15, \"10\": 27, \"9\": 11, \"4\": 15, \"15\": 13, \"7\": 20, \"0\": 17, \"6\": 18, \"5\": 18, \"11\": 14, \"2\": 12, \"3\": 7, \"14\": 15, \"13\": 17, \"12\": 7, \"8\": 14}, \"9\": {\"13\": 16, \"10\": 10, \"6\": 5, \"9\": 141, \"4\": 6, \"5\": 22, \"1\": 8, \"11\": 6, \"0\": 5, \"7\": 2, \"14\": 15, \"15\": 1, \"2\": 2, \"8\": 1}, \"15\": {\"3\": 34, \"15\": 36, \"1\": 12, \"6\": 12, \"7\": 21, \"12\": 33, \"8\": 18, \"5\": 9, \"11\": 13, \"10\": 6, \"2\": 14, \"0\": 10, \"4\": 13, \"14\": 7, \"13\": 2}, \"2\": {\"5\": 8, \"2\": 30, \"13\": 11, \"3\": 28, \"12\": 32, \"8\": 18, \"15\": 25, \"14\": 12, \"7\": 20, \"11\": 8, \"0\": 11, \"1\": 7, \"6\": 15, \"4\": 7, \"9\": 2, \"10\": 6}, \"3\": {\"15\": 29, \"3\": 44, \"8\": 19, \"0\": 8, \"6\": 14, \"4\": 9, \"12\": 39, \"1\": 5, \"10\": 6, \"14\": 11, \"2\": 27, \"13\": 6, \"11\": 7, \"7\": 13, \"5\": 3}, \"8\": {\"8\": 23, \"7\": 20, \"13\": 12, \"11\": 24, \"12\": 27, \"2\": 14, \"14\": 12, \"5\": 8, \"15\": 25, \"6\": 13, \"4\": 16, \"3\": 13, \"0\": 13, \"1\": 13, \"10\": 7}, \"5\": {\"10\": 23, \"13\": 18, \"0\": 16, \"6\": 17, \"9\": 26, \"7\": 20, \"4\": 16, \"1\": 21, \"11\": 23, \"2\": 7, \"5\": 19, \"14\": 16, \"3\": 1, \"8\": 8, \"12\": 3, \"15\": 6}, \"14\": {\"15\": 9, \"8\": 16, \"0\": 20, \"10\": 21, \"11\": 16, \"5\": 14, \"4\": 15, \"6\": 19, \"1\": 22, \"3\": 13, \"7\": 19, \"12\": 7, \"14\": 15, \"9\": 6, \"2\": 10, \"13\": 18}, \"1\": {\"13\": 15, \"11\": 17, \"15\": 11, \"1\": 27, \"10\": 18, \"6\": 19, \"5\": 24, \"12\": 14, \"2\": 10, \"8\": 17, \"4\": 9, \"0\": 15, \"7\": 14, \"9\": 9, \"14\": 18, \"3\": 3}, \"0\": {\"15\": 12, \"8\": 19, \"11\": 11, \"5\": 20, \"13\": 15, \"2\": 14, \"1\": 20, \"7\": 14, \"4\": 13, \"12\": 8, \"0\": 15, \"14\": 15, \"10\": 23, \"6\": 28, \"9\": 7, \"3\": 6}, \"10\": {\"9\": 8, \"8\": 12, \"13\": 21, \"10\": 27, \"11\": 17, \"6\": 22, \"4\": 18, \"5\": 23, \"15\": 10, \"0\": 22, \"7\": 16, \"1\": 17, \"2\": 6, \"3\": 3, \"14\": 14, \"12\": 4}, \"6\": {\"0\": 15, \"15\": 17, \"1\": 19, \"13\": 9, \"8\": 23, \"4\": 17, \"3\": 13, \"7\": 17, \"2\": 18, \"14\": 15, \"10\": 22, \"11\": 14, \"5\": 8, \"12\": 12, \"6\": 18, \"9\": 3}, \"11\": {\"1\": 15, \"8\": 20, \"10\": 20, \"11\": 25, \"6\": 14, \"9\": 4, \"15\": 13, \"12\": 14, \"4\": 22, \"0\": 19, \"14\": 20, \"5\": 22, \"2\": 5, \"3\": 5, \"7\": 14, \"13\": 8}, \"7\": {\"3\": 25, \"1\": 19, \"13\": 14, \"15\": 13, \"10\": 17, \"2\": 24, \"4\": 17, \"11\": 10, \"6\": 17, \"12\": 16, \"0\": 12, \"5\": 5, \"14\": 11, \"8\": 17, \"7\": 17, \"9\": 6}, \"4\": {\"13\": 12, \"1\": 18, \"0\": 21, \"8\": 18, \"3\": 16, \"10\": 13, \"15\": 13, \"6\": 17, \"14\": 16, \"12\": 8, \"4\": 14, \"5\": 24, \"11\": 20, \"7\": 14, \"2\": 13, \"9\": 3}, \"12\": {\"15\": 35, \"4\": 10, \"13\": 5, \"2\": 28, \"3\": 39, \"11\": 6, \"12\": 34, \"8\": 23, \"1\": 3, \"10\": 2, \"5\": 5, \"14\": 11, \"6\": 10, \"7\": 18, \"0\": 11}}, \"ORACLE.run1_38\": {\"13\": {\"15\": 24, \"3\": 2, \"2\": 29, \"13\": 41, \"10\": 12, \"14\": 26, \"4\": 6, \"1\": 31, \"12\": 8, \"9\": 9, \"0\": 5, \"11\": 12, \"8\": 13, \"5\": 11, \"6\": 6, \"7\": 5}, \"12\": {\"7\": 13, \"12\": 61, \"2\": 4, \"0\": 24, \"11\": 22, \"6\": 3, \"10\": 12, \"8\": 17, \"4\": 40, \"1\": 7, \"5\": 7, \"14\": 16, \"15\": 11, \"13\": 1, \"9\": 2}, \"2\": {\"15\": 22, \"2\": 64, \"11\": 32, \"13\": 26, \"14\": 28, \"10\": 13, \"5\": 6, \"1\": 24, \"4\": 2, \"0\": 8, \"8\": 7, \"7\": 2, \"12\": 4, \"6\": 1, \"9\": 1}, \"9\": {\"6\": 38, \"9\": 58, \"7\": 18, \"1\": 12, \"13\": 5, \"0\": 18, \"3\": 44, \"8\": 13, \"5\": 22, \"10\": 5, \"15\": 4, \"12\": 3}, \"15\": {\"6\": 11, \"15\": 21, \"11\": 16, \"10\": 24, \"14\": 21, \"1\": 34, \"13\": 31, \"12\": 8, \"7\": 7, \"8\": 18, \"2\": 20, \"4\": 3, \"5\": 14, \"9\": 4, \"0\": 8}, \"5\": {\"6\": 21, \"8\": 25, \"13\": 13, \"1\": 12, \"9\": 29, \"5\": 17, \"10\": 13, \"15\": 16, \"0\": 19, \"4\": 10, \"3\": 18, \"7\": 30, \"12\": 2, \"11\": 6, \"14\": 6, \"2\": 3}, \"14\": {\"4\": 11, \"1\": 10, \"11\": 58, \"12\": 13, \"14\": 49, \"0\": 6, \"13\": 14, \"2\": 29, \"7\": 3, \"10\": 15, \"15\": 17, \"5\": 6, \"6\": 3, \"9\": 1, \"8\": 5}, \"0\": {\"7\": 21, \"3\": 18, \"6\": 19, \"8\": 28, \"1\": 9, \"0\": 33, \"4\": 8, \"2\": 1, \"5\": 26, \"14\": 5, \"9\": 28, \"12\": 16, \"15\": 6, \"13\": 6, \"10\": 12, \"11\": 4}, \"3\": {\"3\": 114, \"9\": 46, \"0\": 15, \"7\": 15, \"6\": 25, \"5\": 16, \"1\": 1, \"12\": 1, \"8\": 3, \"4\": 4}, \"1\": {\"15\": 27, \"13\": 32, \"6\": 15, \"1\": 34, \"0\": 16, \"8\": 19, \"2\": 25, \"10\": 8, \"9\": 13, \"11\": 9, \"7\": 5, \"14\": 12, \"5\": 17, \"3\": 6, \"12\": 2}, \"11\": {\"2\": 26, \"8\": 5, \"12\": 14, \"11\": 55, \"0\": 2, \"10\": 23, \"4\": 13, \"14\": 63, \"13\": 13, \"15\": 14, \"1\": 4, \"7\": 3, \"6\": 1, \"5\": 4}, \"7\": {\"0\": 33, \"7\": 40, \"3\": 23, \"6\": 19, \"9\": 19, \"4\": 25, \"5\": 19, \"14\": 2, \"8\": 11, \"11\": 5, \"12\": 15, \"13\": 6, \"15\": 7, \"10\": 12, \"1\": 3, \"2\": 1}, \"8\": {\"5\": 19, \"4\": 10, \"7\": 17, \"9\": 13, \"8\": 21, \"12\": 12, \"10\": 26, \"6\": 25, \"0\": 22, \"2\": 11, \"3\": 12, \"15\": 15, \"13\": 8, \"1\": 17, \"14\": 5, \"11\": 7}, \"4\": {\"4\": 87, \"7\": 30, \"8\": 13, \"0\": 12, \"12\": 43, \"11\": 8, \"5\": 16, \"6\": 3, \"10\": 18, \"14\": 4, \"9\": 2, \"15\": 2, \"3\": 2}, \"10\": {\"13\": 16, \"14\": 17, \"1\": 13, \"8\": 13, \"10\": 28, \"2\": 16, \"4\": 12, \"7\": 17, \"5\": 18, \"15\": 19, \"12\": 13, \"9\": 6, \"0\": 15, \"11\": 27, \"6\": 10}, \"6\": {\"6\": 40, \"8\": 14, \"10\": 9, \"15\": 6, \"1\": 15, \"3\": 32, \"9\": 42, \"13\": 11, \"2\": 4, \"0\": 25, \"5\": 17, \"7\": 18, \"12\": 5, \"4\": 1, \"11\": 1}}, \"ORACLE.run1_26\": {\"10\": {\"1\": 21, \"7\": 21, \"8\": 24, \"9\": 17, \"6\": 17, \"13\": 9, \"5\": 16, \"4\": 13, \"0\": 11, \"2\": 9, \"11\": 7, \"15\": 19, \"10\": 16, \"3\": 11, \"12\": 12, \"14\": 17}, \"12\": {\"6\": 29, \"10\": 16, \"12\": 63, \"11\": 45, \"13\": 12, \"3\": 2, \"5\": 10, \"9\": 14, \"15\": 11, \"4\": 7, \"1\": 5, \"7\": 3, \"0\": 8, \"8\": 5, \"2\": 4, \"14\": 6}, \"1\": {\"13\": 10, \"8\": 12, \"9\": 16, \"5\": 7, \"14\": 19, \"7\": 15, \"6\": 16, \"1\": 29, \"4\": 22, \"15\": 14, \"3\": 27, \"2\": 16, \"0\": 19, \"10\": 12, \"12\": 4, \"11\": 2}, \"0\": {\"9\": 16, \"5\": 14, \"6\": 16, \"15\": 15, \"0\": 23, \"8\": 16, \"13\": 7, \"4\": 18, \"1\": 26, \"3\": 16, \"12\": 6, \"7\": 18, \"11\": 4, \"10\": 16, \"2\": 11, \"14\": 18}, \"15\": {\"4\": 12, \"1\": 10, \"6\": 19, \"7\": 15, \"13\": 17, \"8\": 22, \"12\": 22, \"0\": 14, \"15\": 14, \"10\": 18, \"11\": 8, \"3\": 13, \"5\": 12, \"14\": 16, \"2\": 20, \"9\": 8}, \"13\": {\"12\": 23, \"11\": 21, \"9\": 20, \"7\": 18, \"13\": 29, \"15\": 13, \"2\": 13, \"14\": 9, \"5\": 28, \"4\": 8, \"0\": 9, \"6\": 12, \"3\": 6, \"1\": 14, \"8\": 10, \"10\": 7}, \"8\": {\"13\": 14, \"9\": 15, \"7\": 21, \"14\": 18, \"5\": 15, \"15\": 19, \"4\": 17, \"3\": 16, \"10\": 21, \"2\": 11, \"8\": 10, \"1\": 19, \"12\": 15, \"0\": 14, \"6\": 12, \"11\": 3}, \"3\": {\"7\": 35, \"6\": 6, \"5\": 22, \"3\": 33, \"15\": 14, \"1\": 21, \"8\": 18, \"4\": 22, \"2\": 17, \"14\": 13, \"0\": 7, \"9\": 15, \"13\": 10, \"11\": 3, \"10\": 4}, \"11\": {\"11\": 115, \"7\": 6, \"13\": 19, \"6\": 11, \"12\": 41, \"5\": 12, \"9\": 6, \"15\": 5, \"0\": 1, \"4\": 5, \"8\": 5, \"10\": 6, \"3\": 2, \"2\": 4, \"14\": 1, \"1\": 1}, \"4\": {\"15\": 13, \"1\": 24, \"8\": 11, \"14\": 22, \"0\": 14, \"4\": 24, \"12\": 12, \"5\": 15, \"2\": 16, \"13\": 5, \"9\": 14, \"7\": 17, \"6\": 19, \"3\": 19, \"10\": 14, \"11\": 1}, \"6\": {\"9\": 16, \"13\": 18, \"8\": 19, \"12\": 17, \"1\": 18, \"2\": 9, \"15\": 20, \"5\": 16, \"14\": 18, \"7\": 13, \"0\": 17, \"10\": 17, \"3\": 12, \"11\": 7, \"6\": 13, \"4\": 10}, \"7\": {\"14\": 20, \"9\": 13, \"8\": 15, \"5\": 17, \"3\": 23, \"1\": 14, \"10\": 14, \"15\": 12, \"2\": 16, \"7\": 23, \"12\": 5, \"0\": 20, \"4\": 14, \"11\": 3, \"13\": 19, \"6\": 12}, \"14\": {\"9\": 12, \"6\": 16, \"5\": 13, \"8\": 26, \"3\": 18, \"10\": 14, \"0\": 20, \"14\": 29, \"4\": 15, \"1\": 23, \"11\": 3, \"7\": 11, \"13\": 10, \"15\": 14, \"2\": 8, \"12\": 8}, \"2\": {\"5\": 15, \"3\": 26, \"4\": 13, \"15\": 12, \"9\": 17, \"2\": 26, \"12\": 2, \"0\": 17, \"8\": 16, \"13\": 13, \"6\": 14, \"10\": 12, \"1\": 18, \"11\": 3, \"7\": 19, \"14\": 17}, \"5\": {\"2\": 17, \"6\": 20, \"7\": 19, \"1\": 13, \"13\": 15, \"4\": 17, \"0\": 9, \"5\": 27, \"9\": 18, \"8\": 13, \"15\": 16, \"11\": 11, \"12\": 11, \"10\": 9, \"3\": 11, \"14\": 14}, \"9\": {\"4\": 24, \"2\": 17, \"5\": 15, \"10\": 7, \"8\": 24, \"6\": 17, \"3\": 22, \"9\": 17, \"14\": 13, \"12\": 13, \"1\": 8, \"7\": 15, \"13\": 15, \"15\": 15, \"0\": 14, \"11\": 4}}, \"ORACLE.run1_20\": {\"5\": {\"12\": 17, \"5\": 24, \"1\": 16, \"13\": 17, \"3\": 23, \"4\": 14, \"2\": 20, \"10\": 17, \"7\": 15, \"15\": 19, \"0\": 18, \"9\": 9, \"11\": 9, \"14\": 11, \"8\": 9, \"6\": 2}, \"15\": {\"12\": 12, \"8\": 11, \"7\": 13, \"2\": 13, \"1\": 16, \"15\": 23, \"3\": 22, \"9\": 8, \"10\": 12, \"6\": 10, \"13\": 23, \"5\": 28, \"0\": 21, \"14\": 8, \"11\": 5, \"4\": 15}, \"9\": {\"10\": 21, \"6\": 12, \"3\": 17, \"11\": 14, \"2\": 16, \"13\": 7, \"7\": 14, \"5\": 13, \"1\": 19, \"8\": 12, \"9\": 15, \"12\": 22, \"0\": 12, \"4\": 18, \"14\": 15, \"15\": 13}, \"7\": {\"10\": 19, \"6\": 19, \"0\": 16, \"4\": 21, \"14\": 18, \"15\": 9, \"13\": 12, \"11\": 22, \"7\": 18, \"12\": 18, \"3\": 9, \"9\": 14, \"1\": 8, \"8\": 15, \"2\": 8, \"5\": 14}, \"3\": {\"4\": 12, \"2\": 17, \"5\": 16, \"0\": 11, \"6\": 9, \"10\": 14, \"12\": 23, \"15\": 17, \"13\": 24, \"3\": 13, \"11\": 16, \"8\": 9, \"9\": 16, \"1\": 13, \"7\": 9, \"14\": 21}, \"8\": {\"2\": 12, \"9\": 7, \"8\": 23, \"7\": 17, \"4\": 24, \"15\": 10, \"6\": 27, \"5\": 8, \"10\": 15, \"14\": 18, \"0\": 19, \"13\": 13, \"3\": 20, \"12\": 9, \"11\": 11, \"1\": 7}, \"4\": {\"6\": 22, \"7\": 18, \"11\": 11, \"2\": 15, \"3\": 24, \"14\": 21, \"9\": 12, \"15\": 13, \"10\": 21, \"0\": 11, \"12\": 11, \"4\": 13, \"13\": 11, \"8\": 15, \"1\": 9, \"5\": 13}, \"6\": {\"6\": 36, \"5\": 6, \"14\": 31, \"12\": 12, \"0\": 9, \"9\": 8, \"3\": 9, \"2\": 11, \"8\": 18, \"7\": 18, \"10\": 24, \"4\": 23, \"1\": 5, \"13\": 10, \"11\": 16, \"15\": 4}, \"2\": {\"2\": 11, \"0\": 21, \"12\": 17, \"15\": 18, \"8\": 18, \"1\": 13, \"4\": 11, \"11\": 16, \"13\": 16, \"5\": 18, \"9\": 13, \"3\": 18, \"7\": 11, \"10\": 15, \"6\": 13, \"14\": 11}, \"12\": {\"13\": 19, \"1\": 20, \"2\": 15, \"7\": 17, \"12\": 18, \"15\": 23, \"8\": 11, \"6\": 12, \"9\": 18, \"0\": 10, \"11\": 8, \"5\": 22, \"4\": 16, \"3\": 14, \"14\": 8, \"10\": 9}, \"0\": {\"7\": 13, \"15\": 26, \"2\": 19, \"4\": 14, \"1\": 18, \"0\": 26, \"11\": 12, \"10\": 10, \"6\": 9, \"8\": 13, \"13\": 14, \"9\": 14, \"3\": 16, \"5\": 19, \"14\": 8, \"12\": 9}, \"13\": {\"12\": 13, \"15\": 13, \"2\": 15, \"14\": 10, \"13\": 19, \"5\": 14, \"4\": 18, \"10\": 17, \"3\": 11, \"0\": 19, \"6\": 13, \"7\": 15, \"8\": 11, \"9\": 16, \"11\": 16, \"1\": 20}, \"10\": {\"1\": 7, \"10\": 22, \"2\": 13, \"7\": 18, \"6\": 26, \"12\": 16, \"3\": 23, \"14\": 24, \"8\": 20, \"4\": 13, \"0\": 7, \"9\": 14, \"13\": 8, \"15\": 9, \"5\": 9, \"11\": 11}, \"11\": {\"11\": 47, \"2\": 16, \"3\": 10, \"6\": 27, \"5\": 7, \"0\": 12, \"7\": 19, \"14\": 13, \"8\": 17, \"9\": 9, \"12\": 7, \"4\": 6, \"10\": 15, \"15\": 12, \"13\": 13, \"1\": 10}, \"14\": {\"10\": 32, \"13\": 7, \"8\": 25, \"12\": 9, \"7\": 21, \"6\": 21, \"4\": 22, \"9\": 15, \"1\": 6, \"3\": 13, \"14\": 26, \"0\": 4, \"5\": 5, \"15\": 8, \"2\": 11, \"11\": 15}, \"1\": {\"13\": 22, \"7\": 21, \"14\": 7, \"5\": 27, \"15\": 19, \"1\": 8, \"0\": 27, \"10\": 17, \"12\": 13, \"8\": 14, \"11\": 7, \"2\": 12, \"4\": 13, \"3\": 13, \"6\": 9, \"9\": 11}}, \"ORACLE.run1_50\": {\"1\": {\"7\": 15, \"4\": 35, \"6\": 22, \"5\": 20, \"14\": 18, \"9\": 17, \"13\": 17, \"1\": 19, \"11\": 25, \"15\": 19, \"2\": 10, \"0\": 8, \"12\": 5, \"10\": 7, \"3\": 2, \"8\": 1}, \"2\": {\"1\": 8, \"11\": 7, \"12\": 9, \"14\": 24, \"3\": 8, \"13\": 16, \"15\": 11, \"2\": 36, \"7\": 8, \"6\": 13, \"5\": 13, \"0\": 30, \"10\": 18, \"8\": 24, \"4\": 12, \"9\": 3}, \"8\": {\"3\": 70, \"2\": 18, \"5\": 10, \"10\": 30, \"8\": 49, \"0\": 27, \"4\": 4, \"13\": 13, \"14\": 4, \"7\": 10, \"6\": 4, \"12\": 1}, \"7\": {\"4\": 22, \"5\": 29, \"7\": 33, \"2\": 21, \"14\": 4, \"15\": 10, \"8\": 20, \"3\": 10, \"0\": 12, \"13\": 25, \"6\": 18, \"10\": 23, \"11\": 6, \"12\": 2, \"1\": 5}, \"14\": {\"12\": 25, \"6\": 13, \"4\": 16, \"15\": 20, \"1\": 25, \"14\": 34, \"13\": 13, \"0\": 9, \"5\": 8, \"9\": 31, \"2\": 10, \"11\": 20, \"7\": 12, \"8\": 1, \"10\": 3}, \"6\": {\"13\": 18, \"1\": 20, \"4\": 28, \"15\": 29, \"7\": 19, \"6\": 27, \"12\": 8, \"2\": 18, \"9\": 9, \"11\": 5, \"10\": 15, \"0\": 9, \"14\": 17, \"5\": 16, \"8\": 1, \"3\": 1}, \"3\": {\"8\": 66, \"3\": 94, \"13\": 6, \"10\": 23, \"0\": 12, \"4\": 1, \"5\": 13, \"7\": 12, \"2\": 6, \"1\": 3, \"6\": 2, \"12\": 1, \"14\": 1}, \"4\": {\"4\": 28, \"13\": 12, \"5\": 19, \"7\": 23, \"15\": 37, \"6\": 13, \"1\": 24, \"11\": 24, \"2\": 8, \"3\": 2, \"10\": 9, \"0\": 6, \"14\": 11, \"12\": 7, \"9\": 14, \"8\": 3}, \"12\": {\"9\": 64, \"6\": 9, \"12\": 56, \"15\": 17, \"4\": 4, \"14\": 29, \"1\": 20, \"11\": 25, \"0\": 3, \"13\": 1, \"5\": 4, \"2\": 6, \"10\": 1, \"8\": 1}, \"15\": {\"13\": 10, \"9\": 22, \"14\": 29, \"6\": 23, \"15\": 36, \"0\": 3, \"1\": 35, \"11\": 21, \"4\": 26, \"12\": 14, \"5\": 8, \"7\": 8, \"10\": 2, \"2\": 3}, \"11\": {\"11\": 50, \"14\": 24, \"1\": 27, \"6\": 9, \"9\": 50, \"15\": 25, \"13\": 5, \"4\": 12, \"12\": 23, \"5\": 6, \"2\": 5, \"7\": 2, \"0\": 2}, \"0\": {\"6\": 13, \"8\": 32, \"0\": 25, \"7\": 13, \"5\": 19, \"1\": 11, \"2\": 40, \"13\": 20, \"3\": 16, \"14\": 5, \"10\": 21, \"4\": 11, \"15\": 7, \"11\": 4, \"12\": 1, \"9\": 2}, \"9\": {\"12\": 49, \"9\": 69, \"6\": 5, \"1\": 10, \"14\": 22, \"11\": 44, \"15\": 15, \"13\": 6, \"4\": 10, \"2\": 3, \"5\": 4, \"0\": 2, \"10\": 1}, \"10\": {\"2\": 22, \"3\": 21, \"10\": 24, \"13\": 29, \"7\": 21, \"0\": 29, \"5\": 19, \"1\": 6, \"6\": 15, \"14\": 4, \"12\": 2, \"8\": 32, \"15\": 5, \"4\": 8, \"9\": 1, \"11\": 2}, \"5\": {\"5\": 24, \"6\": 27, \"14\": 6, \"1\": 14, \"7\": 30, \"15\": 18, \"13\": 27, \"4\": 26, \"12\": 4, \"11\": 9, \"2\": 13, \"10\": 19, \"0\": 10, \"8\": 8, \"3\": 5}, \"13\": {\"1\": 17, \"3\": 8, \"2\": 12, \"6\": 13, \"5\": 31, \"10\": 25, \"4\": 21, \"7\": 25, \"15\": 17, \"0\": 20, \"13\": 28, \"8\": 11, \"11\": 4, \"14\": 7, \"9\": 1}}, \"ORACLE.run1_32\": {\"2\": {\"2\": 54, \"4\": 33, \"0\": 35, \"5\": 18, \"7\": 15, \"13\": 20, \"9\": 11, \"14\": 13, \"8\": 24, \"11\": 8, \"12\": 3, \"3\": 3, \"15\": 3}, \"6\": {\"10\": 47, \"6\": 87, \"12\": 43, \"1\": 42, \"9\": 21}, \"5\": {\"7\": 22, \"8\": 23, \"11\": 24, \"3\": 27, \"0\": 14, \"5\": 32, \"4\": 25, \"2\": 18, \"13\": 20, \"15\": 12, \"9\": 3, \"14\": 20}, \"12\": {\"12\": 95, \"10\": 32, \"6\": 38, \"9\": 62, \"4\": 1, \"1\": 11, \"2\": 1}, \"13\": {\"8\": 24, \"15\": 27, \"14\": 17, \"13\": 22, \"7\": 31, \"5\": 22, \"2\": 13, \"11\": 19, \"0\": 22, \"3\": 23, \"4\": 18, \"9\": 2}, \"9\": {\"12\": 57, \"2\": 26, \"9\": 116, \"6\": 11, \"0\": 9, \"8\": 2, \"4\": 7, \"5\": 4, \"15\": 1, \"14\": 2, \"7\": 1, \"10\": 2, \"13\": 2}, \"11\": {\"11\": 50, \"7\": 24, \"15\": 5, \"14\": 31, \"13\": 22, \"4\": 15, \"3\": 31, \"2\": 10, \"0\": 14, \"8\": 16, \"5\": 21, \"9\": 1}, \"1\": {\"1\": 126, \"10\": 63, \"6\": 40, \"12\": 9, \"9\": 2}, \"3\": {\"13\": 18, \"0\": 4, \"15\": 26, \"3\": 52, \"5\": 31, \"4\": 10, \"8\": 26, \"7\": 14, \"2\": 2, \"14\": 27, \"11\": 30}, \"7\": {\"2\": 22, \"14\": 28, \"13\": 31, \"8\": 24, \"11\": 27, \"0\": 26, \"5\": 25, \"4\": 12, \"3\": 15, \"7\": 22, \"9\": 3, \"15\": 5}, \"14\": {\"8\": 22, \"13\": 12, \"11\": 44, \"2\": 17, \"7\": 40, \"4\": 25, \"3\": 21, \"5\": 19, \"0\": 12, \"14\": 24, \"15\": 3, \"9\": 1}, \"8\": {\"3\": 24, \"4\": 34, \"14\": 14, \"8\": 25, \"5\": 25, \"2\": 16, \"13\": 23, \"11\": 10, \"15\": 28, \"0\": 25, \"7\": 16}, \"4\": {\"8\": 18, \"4\": 38, \"2\": 31, \"14\": 16, \"0\": 33, \"15\": 10, \"11\": 21, \"13\": 25, \"9\": 10, \"7\": 17, \"3\": 9, \"5\": 10, \"12\": 2}, \"0\": {\"13\": 21, \"3\": 10, \"0\": 32, \"2\": 38, \"9\": 10, \"8\": 22, \"4\": 34, \"14\": 18, \"7\": 23, \"5\": 12, \"15\": 8, \"11\": 11, \"12\": 1}, \"10\": {\"12\": 35, \"1\": 60, \"6\": 57, \"10\": 82, \"9\": 6}, \"15\": {\"15\": 84, \"5\": 16, \"3\": 41, \"11\": 8, \"13\": 14, \"8\": 35, \"2\": 8, \"4\": 13, \"7\": 5, \"0\": 8, \"14\": 8}}, \"ORACLE.run1_44\": {\"13\": {\"3\": 11, \"13\": 39, \"4\": 22, \"11\": 43, \"9\": 28, \"6\": 39, \"8\": 1, \"7\": 21, \"2\": 16, \"14\": 8, \"10\": 4, \"1\": 3, \"15\": 1, \"12\": 2, \"5\": 2}, \"4\": {\"15\": 22, \"11\": 21, \"14\": 46, \"4\": 47, \"5\": 22, \"13\": 25, \"8\": 11, \"3\": 4, \"6\": 7, \"0\": 15, \"9\": 15, \"7\": 5}, \"6\": {\"2\": 25, \"9\": 30, \"6\": 44, \"13\": 40, \"7\": 30, \"11\": 30, \"10\": 4, \"14\": 3, \"4\": 8, \"12\": 2, \"1\": 11, \"3\": 10, \"5\": 2, \"0\": 1}, \"0\": {\"0\": 53, \"15\": 45, \"8\": 53, \"14\": 27, \"5\": 44, \"4\": 14, \"13\": 1, \"9\": 3}, \"10\": {\"1\": 30, \"2\": 36, \"10\": 50, \"3\": 22, \"12\": 57, \"6\": 7, \"9\": 8, \"7\": 25, \"13\": 3, \"11\": 2}, \"7\": {\"2\": 28, \"11\": 29, \"9\": 22, \"3\": 36, \"7\": 41, \"6\": 22, \"13\": 17, \"5\": 1, \"10\": 18, \"12\": 8, \"1\": 13, \"4\": 4, \"14\": 1}, \"14\": {\"15\": 28, \"4\": 48, \"7\": 2, \"14\": 34, \"11\": 9, \"5\": 32, \"0\": 29, \"13\": 21, \"8\": 21, \"6\": 6, \"9\": 9, \"3\": 1}, \"15\": {\"14\": 47, \"15\": 46, \"5\": 40, \"11\": 4, \"8\": 36, \"4\": 28, \"12\": 1, \"0\": 31, \"2\": 1, \"6\": 1, \"7\": 1, \"13\": 2, \"9\": 2}, \"5\": {\"0\": 51, \"14\": 37, \"9\": 4, \"5\": 53, \"8\": 37, \"15\": 35, \"4\": 16, \"11\": 6, \"13\": 1}, \"2\": {\"10\": 41, \"1\": 37, \"9\": 17, \"7\": 22, \"3\": 22, \"6\": 17, \"12\": 25, \"2\": 37, \"13\": 12, \"14\": 2, \"11\": 5, \"4\": 3}, \"9\": {\"11\": 25, \"15\": 2, \"2\": 21, \"12\": 7, \"4\": 13, \"7\": 25, \"1\": 9, \"3\": 11, \"13\": 44, \"9\": 43, \"5\": 2, \"6\": 25, \"14\": 7, \"10\": 5, \"8\": 1}, \"12\": {\"1\": 41, \"12\": 40, \"3\": 32, \"10\": 66, \"2\": 33, \"6\": 7, \"9\": 5, \"13\": 2, \"7\": 14}, \"8\": {\"8\": 86, \"0\": 54, \"15\": 25, \"5\": 48, \"4\": 9, \"14\": 17, \"3\": 1}, \"3\": {\"1\": 38, \"12\": 30, \"2\": 26, \"3\": 44, \"7\": 32, \"6\": 8, \"10\": 17, \"9\": 21, \"11\": 5, \"14\": 2, \"13\": 13, \"4\": 3, \"15\": 1}, \"1\": {\"7\": 25, \"1\": 35, \"9\": 13, \"2\": 28, \"12\": 38, \"10\": 45, \"3\": 39, \"11\": 5, \"6\": 8, \"13\": 3, \"15\": 1}, \"11\": {\"9\": 30, \"11\": 90, \"13\": 38, \"6\": 28, \"1\": 4, \"4\": 15, \"2\": 8, \"7\": 18, \"3\": 5, \"14\": 3, \"15\": 1}}, \"ORACLE.run1_14\": {\"1\": {\"5\": 24, \"1\": 28, \"10\": 7, \"0\": 12, \"11\": 8, \"3\": 16, \"4\": 27, \"13\": 16, \"8\": 14, \"15\": 19, \"6\": 14, \"14\": 17, \"7\": 23, \"2\": 12, \"9\": 3}, \"15\": {\"5\": 21, \"13\": 12, \"7\": 54, \"6\": 11, \"15\": 75, \"2\": 17, \"1\": 19, \"14\": 7, \"4\": 15, \"10\": 2, \"8\": 3, \"3\": 3, \"0\": 1}, \"10\": {\"8\": 10, \"10\": 49, \"11\": 31, \"0\": 27, \"13\": 8, \"4\": 11, \"12\": 10, \"14\": 16, \"9\": 14, \"5\": 10, \"1\": 15, \"6\": 10, \"2\": 10, \"3\": 17, \"7\": 2}, \"2\": {\"1\": 22, \"13\": 29, \"8\": 4, \"15\": 11, \"6\": 22, \"9\": 3, \"5\": 20, \"11\": 8, \"3\": 19, \"14\": 18, \"10\": 12, \"4\": 24, \"2\": 20, \"7\": 14, \"0\": 14}, \"9\": {\"9\": 48, \"11\": 43, \"0\": 18, \"4\": 4, \"3\": 16, \"12\": 49, \"8\": 27, \"10\": 22, \"5\": 2, \"14\": 5, \"1\": 2, \"2\": 2, \"13\": 1, \"7\": 1}, \"5\": {\"7\": 29, \"13\": 22, \"2\": 16, \"5\": 19, \"6\": 23, \"3\": 11, \"10\": 10, \"14\": 14, \"4\": 32, \"0\": 8, \"1\": 24, \"9\": 3, \"8\": 9, \"15\": 16, \"11\": 4}, \"7\": {\"5\": 24, \"3\": 9, \"13\": 15, \"15\": 50, \"7\": 62, \"2\": 18, \"6\": 11, \"4\": 16, \"1\": 25, \"0\": 2, \"14\": 6, \"8\": 1, \"10\": 1}, \"13\": {\"7\": 10, \"4\": 14, \"11\": 7, \"3\": 12, \"14\": 32, \"0\": 7, \"1\": 18, \"2\": 26, \"13\": 24, \"6\": 25, \"15\": 28, \"8\": 5, \"5\": 18, \"10\": 11, \"9\": 2, \"12\": 1}, \"8\": {\"8\": 43, \"10\": 25, \"0\": 25, \"4\": 16, \"9\": 32, \"1\": 19, \"14\": 7, \"3\": 21, \"11\": 16, \"2\": 10, \"15\": 4, \"5\": 11, \"12\": 8, \"6\": 2, \"7\": 1}, \"6\": {\"3\": 16, \"13\": 36, \"14\": 35, \"2\": 32, \"1\": 15, \"6\": 30, \"0\": 8, \"4\": 18, \"15\": 18, \"10\": 8, \"5\": 13, \"8\": 2, \"7\": 7, \"11\": 2}, \"3\": {\"3\": 21, \"14\": 24, \"2\": 21, \"4\": 16, \"5\": 19, \"13\": 16, \"9\": 8, \"10\": 21, \"8\": 13, \"6\": 12, \"11\": 15, \"1\": 25, \"0\": 17, \"15\": 5, \"7\": 6, \"12\": 1}, \"12\": {\"9\": 61, \"12\": 114, \"11\": 21, \"8\": 17, \"10\": 9, \"3\": 6, \"2\": 3, \"0\": 9}, \"0\": {\"8\": 17, \"11\": 30, \"9\": 22, \"1\": 8, \"0\": 35, \"10\": 23, \"4\": 14, \"12\": 12, \"14\": 15, \"5\": 7, \"6\": 13, \"2\": 14, \"13\": 9, \"3\": 17, \"7\": 3, \"15\": 1}, \"4\": {\"10\": 14, \"5\": 14, \"13\": 24, \"14\": 21, \"3\": 20, \"4\": 25, \"15\": 12, \"6\": 21, \"2\": 19, \"11\": 4, \"1\": 28, \"0\": 14, \"9\": 2, \"8\": 16, \"7\": 5, \"12\": 1}, \"14\": {\"1\": 17, \"6\": 23, \"5\": 12, \"14\": 31, \"0\": 18, \"4\": 19, \"10\": 16, \"3\": 18, \"11\": 10, \"2\": 22, \"8\": 10, \"9\": 5, \"13\": 24, \"15\": 10, \"7\": 4, \"12\": 1}, \"11\": {\"9\": 41, \"12\": 22, \"11\": 52, \"10\": 28, \"4\": 8, \"8\": 11, \"13\": 5, \"3\": 11, \"14\": 13, \"6\": 5, \"2\": 6, \"0\": 25, \"5\": 7, \"1\": 6}}}, \"per_domain_accuracy\": {\"CORES_2\": {\"accuracy\": 1.0, \"source?\": true}, \"CORES_5\": {\"accuracy\": 0.9994733146067416, \"source?\": true}, \"CORES_1\": {\"accuracy\": 0.9996565934065934, \"source?\": true}, \"CORES_4\": {\"accuracy\": 0.998877245508982, \"source?\": true}, \"CORES_3\": {\"accuracy\": 0.9992690058479532, \"source?\": true}, \"ORACLE.run1_8\": {\"accuracy\": 0.13072916666666667, \"source?\": false}, \"ORACLE.run1_38\": {\"accuracy\": 0.19869791666666667, \"source?\": false}, \"ORACLE.run1_26\": {\"accuracy\": 0.12786458333333334, \"source?\": false}, \"ORACLE.run1_20\": {\"accuracy\": 0.0890625, \"source?\": false}, \"ORACLE.run1_50\": {\"accuracy\": 0.16458333333333333, \"source?\": false}, \"ORACLE.run1_32\": {\"accuracy\": 0.24505208333333334, \"source?\": false}, \"ORACLE.run1_44\": {\"accuracy\": 0.20364583333333333, \"source?\": false}, \"ORACLE.run1_14\": {\"accuracy\": 0.17604166666666668, \"source?\": false}}}, \"history\": {\"epoch_indices\": [1, 2, 3, 4, 5, 6, 7, 8, 9, 10], \"train_label_loss\": [0.026422635245273326, 0.006361671057604855, 0.00509353914918657, 0.003764655462129443, 0.0032663277429826132, 0.0027347702571354536, 0.0023098868804934014, 0.0022664478059477777, 0.0015442808924637857, 0.0020287450982868134], \"source_val_label_loss\": [0.010877124965190887, 0.023025711998343468, 0.008823443204164505, 0.008610552176833153, 0.009283279068768024, 0.009128750301897526, 0.016785362735390663, 0.012592935934662819, 0.013860699720680714, 0.01468873955309391], \"target_val_label_loss\": [2.7337772846221924, 3.282809019088745, 3.2331161499023438, 3.2125144004821777, 3.516927719116211, 3.641441822052002, 3.783630847930908, 4.3069610595703125, 4.351432800292969, 4.78530216217041], \"source_val_acc_label\": [0.9981407322654462, 0.9964244851258581, 0.9993206521739131, 0.9991061212814645, 0.9991776315789473, 0.9994636727688787, 0.9986055491990846, 0.9992848970251716, 0.999570938215103, 0.9995351830663616], \"target_val_acc_label\": [0.14287109375, 0.14055989583333334, 0.14990234375, 0.1419921875, 0.1537109375, 0.16695963541666667, 0.15986328125, 0.14742838541666667, 0.16233723958333332, 0.16236979166666668]}, \"dataset_metrics\": {\"source\": {\"train\": {\"n_unique_x\": 175222, \"n_unique_y\": 58, \"n_batch/episode\": 6312}, \"val\": {\"n_unique_x\": 37135, \"n_unique_y\": 58, \"n_batch/episode\": 874}, \"test\": {\"n_unique_x\": 37673, \"n_unique_y\": 58, \"n_batch/episode\": 893}}, \"target\": {\"train\": {\"n_unique_x\": 179200, \"n_unique_y\": 16, \"n_batch/episode\": 6720}, \"val\": {\"n_unique_x\": 38400, \"n_unique_y\": 16, \"n_batch/episode\": 960}, \"test\": {\"n_unique_x\": 38400, \"n_unique_y\": 16, \"n_batch/episode\": 960}}}}'"
      ]
     },
     "execution_count": 29,
     "metadata": {},
     "output_type": "execute_result"
    }
   ],
   "source": [
    "json.dumps(experiment)"
   ]
  }
 ],
 "metadata": {
  "celltoolbar": "Tags",
  "kernelspec": {
   "display_name": "Python 3 (ipykernel)",
   "language": "python",
   "name": "python3"
  },
  "language_info": {
   "codemirror_mode": {
    "name": "ipython",
    "version": 3
   },
   "file_extension": ".py",
   "mimetype": "text/x-python",
   "name": "python",
   "nbconvert_exporter": "python",
   "pygments_lexer": "ipython3",
   "version": "3.8.12"
  },
  "papermill": {
   "default_parameters": {},
   "duration": 1608.603807,
   "end_time": "2022-03-22T12:13:19.204850",
   "environment_variables": {},
   "exception": null,
   "input_path": "/root/csc500-main/csc500-notebooks/templates/tl_ptn_template.ipynb",
   "output_path": "trial.ipynb",
   "parameters": {
    "parameters": {
     "BEST_MODEL_PATH": "./best_model.pth",
     "NUM_LOGS_PER_EPOCH": 10,
     "criteria_for_best": "target_accuracy",
     "dataset_seed": 154325,
     "datasets": [
      {
       "domain_prefix": "CORES_",
       "domains": [
        1,
        2,
        3,
        4,
        5
       ],
       "episode_transforms": [],
       "labels": [
        "1-10.",
        "1-11.",
        "1-15.",
        "1-16.",
        "1-17.",
        "1-18.",
        "1-19.",
        "10-4.",
        "10-7.",
        "11-1.",
        "11-14.",
        "11-17.",
        "11-20.",
        "11-7.",
        "13-20.",
        "13-8.",
        "14-10.",
        "14-11.",
        "14-14.",
        "14-7.",
        "15-1.",
        "15-20.",
        "16-1.",
        "16-16.",
        "17-10.",
        "17-11.",
        "17-2.",
        "19-1.",
        "19-16.",
        "19-19.",
        "19-20.",
        "19-3.",
        "2-10.",
        "2-11.",
        "2-17.",
        "2-18.",
        "2-20.",
        "2-3.",
        "2-4.",
        "2-5.",
        "2-6.",
        "2-7.",
        "2-8.",
        "3-13.",
        "3-18.",
        "3-3.",
        "4-1.",
        "4-10.",
        "4-11.",
        "4-19.",
        "5-5.",
        "6-15.",
        "7-10.",
        "7-14.",
        "8-18.",
        "8-20.",
        "8-3.",
        "8-8."
       ],
       "num_examples_per_domain_per_label": -1,
       "pickle_path": "/root/csc500-main/datasets/cores.stratified_ds.2022A.pkl",
       "source_or_target_dataset": "source",
       "x_transforms": [
        "unit_mag"
       ]
      },
      {
       "domain_prefix": "ORACLE.run1_",
       "domains": [
        32,
        38,
        8,
        44,
        14,
        50,
        20,
        26
       ],
       "episode_transforms": [],
       "labels": [
        "3123D52",
        "3123D65",
        "3123D79",
        "3123D80",
        "3123D54",
        "3123D70",
        "3123D7B",
        "3123D89",
        "3123D58",
        "3123D76",
        "3123D7D",
        "3123EFE",
        "3123D64",
        "3123D78",
        "3123D7E",
        "3124E4A"
       ],
       "num_examples_per_domain_per_label": 2000,
       "pickle_path": "/root/csc500-main/datasets/oracle.Run1_10kExamples_stratified_ds.2022A.pkl",
       "source_or_target_dataset": "target",
       "x_transforms": [
        "unit_mag"
       ]
      }
     ],
     "device": "cuda",
     "experiment_name": "tl_1v2:cores-oracle.run1.limited",
     "lr": 0.0001,
     "n_epoch": 50,
     "n_query": 2,
     "n_shot": 3,
     "n_way": 16,
     "patience": 3,
     "seed": 154325,
     "test_k_factor": 2,
     "torch_default_dtype": "torch.float32",
     "train_k_factor": 3,
     "val_k_factor": 2,
     "x_net": [
      {
       "class": "nnReshape",
       "kargs": {
        "shape": [
         -1,
         1,
         2,
         256
        ]
       }
      },
      {
       "class": "Conv2d",
       "kargs": {
        "bias": false,
        "in_channels": 1,
        "kernel_size": [
         1,
         7
        ],
        "out_channels": 256,
        "padding": [
         0,
         3
        ]
       }
      },
      {
       "class": "ReLU",
       "kargs": {
        "inplace": true
       }
      },
      {
       "class": "BatchNorm2d",
       "kargs": {
        "num_features": 256
       }
      },
      {
       "class": "Conv2d",
       "kargs": {
        "bias": true,
        "in_channels": 256,
        "kernel_size": [
         2,
         7
        ],
        "out_channels": 80,
        "padding": [
         0,
         3
        ]
       }
      },
      {
       "class": "ReLU",
       "kargs": {
        "inplace": true
       }
      },
      {
       "class": "BatchNorm2d",
       "kargs": {
        "num_features": 80
       }
      },
      {
       "class": "Flatten",
       "kargs": {}
      },
      {
       "class": "Linear",
       "kargs": {
        "in_features": 20480,
        "out_features": 256
       }
      },
      {
       "class": "ReLU",
       "kargs": {
        "inplace": true
       }
      },
      {
       "class": "BatchNorm1d",
       "kargs": {
        "num_features": 256
       }
      },
      {
       "class": "Linear",
       "kargs": {
        "in_features": 256,
        "out_features": 256
       }
      }
     ]
    }
   },
   "start_time": "2022-03-22T11:46:30.601043",
   "version": "2.3.4"
  }
 },
 "nbformat": 4,
 "nbformat_minor": 5
}