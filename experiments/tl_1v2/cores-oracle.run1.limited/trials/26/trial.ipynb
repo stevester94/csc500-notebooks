{
 "cells": [
  {
   "cell_type": "markdown",
   "id": "9fea5f46",
   "metadata": {
    "papermill": {
     "duration": 0.029316,
     "end_time": "2022-03-22T18:13:02.682361",
     "exception": false,
     "start_time": "2022-03-22T18:13:02.653045",
     "status": "completed"
    },
    "tags": []
   },
   "source": [
    "# Transfer Learning Template"
   ]
  },
  {
   "cell_type": "code",
   "execution_count": 1,
   "id": "0902182a",
   "metadata": {
    "execution": {
     "iopub.execute_input": "2022-03-22T18:13:02.745913Z",
     "iopub.status.busy": "2022-03-22T18:13:02.745050Z",
     "iopub.status.idle": "2022-03-22T18:13:04.624266Z",
     "shell.execute_reply": "2022-03-22T18:13:04.623401Z"
    },
    "papermill": {
     "duration": 1.919574,
     "end_time": "2022-03-22T18:13:04.624465",
     "exception": false,
     "start_time": "2022-03-22T18:13:02.704891",
     "status": "completed"
    },
    "tags": []
   },
   "outputs": [],
   "source": [
    "%load_ext autoreload\n",
    "%autoreload 2\n",
    "%matplotlib inline\n",
    "\n",
    "    \n",
    "import os, json, sys, time, random\n",
    "import numpy as np\n",
    "import torch\n",
    "from torch.optim import Adam\n",
    "from  easydict import EasyDict\n",
    "import matplotlib.pyplot as plt\n",
    "\n",
    "from steves_models.steves_ptn import Steves_Prototypical_Network\n",
    "\n",
    "from steves_utils.lazy_iterable_wrapper import Lazy_Iterable_Wrapper\n",
    "from steves_utils.iterable_aggregator import Iterable_Aggregator\n",
    "from steves_utils.ptn_train_eval_test_jig import  PTN_Train_Eval_Test_Jig\n",
    "from steves_utils.torch_sequential_builder import build_sequential\n",
    "from steves_utils.torch_utils import get_dataset_metrics, ptn_confusion_by_domain_over_dataloader\n",
    "from steves_utils.utils_v2 import (per_domain_accuracy_from_confusion, get_datasets_base_path)\n",
    "from steves_utils.PTN.utils import independent_accuracy_assesment\n",
    "\n",
    "from torch.utils.data import DataLoader\n",
    "\n",
    "from steves_utils.stratified_dataset.episodic_accessor import Episodic_Accessor_Factory\n",
    "\n",
    "from steves_utils.ptn_do_report import (\n",
    "    get_loss_curve,\n",
    "    get_results_table,\n",
    "    get_parameters_table,\n",
    "    get_domain_accuracies,\n",
    ")\n",
    "\n",
    "from steves_utils.transforms import get_chained_transform"
   ]
  },
  {
   "cell_type": "markdown",
   "id": "41c840b4",
   "metadata": {
    "papermill": {
     "duration": 0.019333,
     "end_time": "2022-03-22T18:13:04.667793",
     "exception": false,
     "start_time": "2022-03-22T18:13:04.648460",
     "status": "completed"
    },
    "tags": []
   },
   "source": [
    "# Allowed Parameters\n",
    "These are allowed parameters, not defaults\n",
    "Each of these values need to be present in the injected parameters (the notebook will raise an exception if they are not present)\n",
    "\n",
    "Papermill uses the cell tag \"parameters\" to inject the real parameters below this cell.\n",
    "Enable tags to see what I mean"
   ]
  },
  {
   "cell_type": "code",
   "execution_count": 2,
   "id": "fd44eb83",
   "metadata": {
    "execution": {
     "iopub.execute_input": "2022-03-22T18:13:04.710370Z",
     "iopub.status.busy": "2022-03-22T18:13:04.709988Z",
     "iopub.status.idle": "2022-03-22T18:13:04.729682Z",
     "shell.execute_reply": "2022-03-22T18:13:04.728873Z"
    },
    "papermill": {
     "duration": 0.042678,
     "end_time": "2022-03-22T18:13:04.729835",
     "exception": false,
     "start_time": "2022-03-22T18:13:04.687157",
     "status": "completed"
    },
    "tags": []
   },
   "outputs": [],
   "source": [
    "required_parameters = {\n",
    "    \"experiment_name\",\n",
    "    \"lr\",\n",
    "    \"device\",\n",
    "    \"seed\",\n",
    "    \"dataset_seed\",\n",
    "    \"n_shot\",\n",
    "    \"n_query\",\n",
    "    \"n_way\",\n",
    "    \"train_k_factor\",\n",
    "    \"val_k_factor\",\n",
    "    \"test_k_factor\",\n",
    "    \"n_epoch\",\n",
    "    \"patience\",\n",
    "    \"criteria_for_best\",\n",
    "    \"x_net\",\n",
    "    \"datasets\",\n",
    "    \"torch_default_dtype\",\n",
    "    \"NUM_LOGS_PER_EPOCH\",\n",
    "    \"BEST_MODEL_PATH\",\n",
    "    \"x_shape\",\n",
    "}"
   ]
  },
  {
   "cell_type": "code",
   "execution_count": 3,
   "id": "fa3f0049",
   "metadata": {
    "execution": {
     "iopub.execute_input": "2022-03-22T18:13:04.785859Z",
     "iopub.status.busy": "2022-03-22T18:13:04.784965Z",
     "iopub.status.idle": "2022-03-22T18:13:04.805205Z",
     "shell.execute_reply": "2022-03-22T18:13:04.804393Z"
    },
    "papermill": {
     "duration": 0.049624,
     "end_time": "2022-03-22T18:13:04.805359",
     "exception": false,
     "start_time": "2022-03-22T18:13:04.755735",
     "status": "completed"
    },
    "tags": [
     "parameters"
    ]
   },
   "outputs": [],
   "source": [
    "from steves_utils.CORES.utils import (\n",
    "    ALL_NODES,\n",
    "    ALL_NODES_MINIMUM_1000_EXAMPLES,\n",
    "    ALL_DAYS\n",
    ")\n",
    "\n",
    "from steves_utils.ORACLE.utils_v2 import (\n",
    "    ALL_DISTANCES_FEET_NARROWED,\n",
    "    ALL_RUNS,\n",
    "    ALL_SERIAL_NUMBERS,\n",
    ")\n",
    "\n",
    "standalone_parameters = {}\n",
    "standalone_parameters[\"experiment_name\"] = \"STANDALONE PTN\"\n",
    "standalone_parameters[\"lr\"] = 0.001\n",
    "standalone_parameters[\"device\"] = \"cuda\"\n",
    "\n",
    "standalone_parameters[\"seed\"] = 1337\n",
    "standalone_parameters[\"dataset_seed\"] = 1337\n",
    "\n",
    "standalone_parameters[\"n_way\"] = 8\n",
    "standalone_parameters[\"n_shot\"] = 3\n",
    "standalone_parameters[\"n_query\"]  = 2\n",
    "standalone_parameters[\"train_k_factor\"] = 1\n",
    "standalone_parameters[\"val_k_factor\"] = 2\n",
    "standalone_parameters[\"test_k_factor\"] = 2\n",
    "\n",
    "\n",
    "standalone_parameters[\"n_epoch\"] = 50\n",
    "\n",
    "standalone_parameters[\"patience\"] = 10\n",
    "standalone_parameters[\"criteria_for_best\"] = \"source_loss\"\n",
    "\n",
    "standalone_parameters[\"datasets\"] = [\n",
    "    {\n",
    "        \"labels\": ALL_SERIAL_NUMBERS,\n",
    "        \"domains\": ALL_DISTANCES_FEET_NARROWED,\n",
    "        \"num_examples_per_domain_per_label\": 100,\n",
    "        \"pickle_path\": os.path.join(get_datasets_base_path(), \"oracle.Run1_framed_2000Examples_stratified_ds.2022A.pkl\"),\n",
    "        \"source_or_target_dataset\": \"source\",\n",
    "        \"x_transforms\": [\"unit_mag\", \"minus_two\"],\n",
    "        \"episode_transforms\": [],\n",
    "        \"domain_prefix\": \"ORACLE_\"\n",
    "    },\n",
    "    {\n",
    "        \"labels\": ALL_NODES,\n",
    "        \"domains\": ALL_DAYS,\n",
    "        \"num_examples_per_domain_per_label\": 100,\n",
    "        \"pickle_path\": os.path.join(get_datasets_base_path(), \"cores.stratified_ds.2022A.pkl\"),\n",
    "        \"source_or_target_dataset\": \"target\",\n",
    "        \"x_transforms\": [\"unit_power\", \"times_zero\"],\n",
    "        \"episode_transforms\": [],\n",
    "        \"domain_prefix\": \"CORES_\"\n",
    "    }   \n",
    "]\n",
    "\n",
    "standalone_parameters[\"torch_default_dtype\"] = \"torch.float32\" \n",
    "\n",
    "\n",
    "\n",
    "standalone_parameters[\"x_net\"] =     [\n",
    "    {\"class\": \"nnReshape\", \"kargs\": {\"shape\":[-1, 1, 2, 256]}},\n",
    "    {\"class\": \"Conv2d\", \"kargs\": { \"in_channels\":1, \"out_channels\":256, \"kernel_size\":(1,7), \"bias\":False, \"padding\":(0,3), },},\n",
    "    {\"class\": \"ReLU\", \"kargs\": {\"inplace\": True}},\n",
    "    {\"class\": \"BatchNorm2d\", \"kargs\": {\"num_features\":256}},\n",
    "\n",
    "    {\"class\": \"Conv2d\", \"kargs\": { \"in_channels\":256, \"out_channels\":80, \"kernel_size\":(2,7), \"bias\":True, \"padding\":(0,3), },},\n",
    "    {\"class\": \"ReLU\", \"kargs\": {\"inplace\": True}},\n",
    "    {\"class\": \"BatchNorm2d\", \"kargs\": {\"num_features\":80}},\n",
    "    {\"class\": \"Flatten\", \"kargs\": {}},\n",
    "\n",
    "    {\"class\": \"Linear\", \"kargs\": {\"in_features\": 80*256, \"out_features\": 256}}, # 80 units per IQ pair\n",
    "    {\"class\": \"ReLU\", \"kargs\": {\"inplace\": True}},\n",
    "    {\"class\": \"BatchNorm1d\", \"kargs\": {\"num_features\":256}},\n",
    "\n",
    "    {\"class\": \"Linear\", \"kargs\": {\"in_features\": 256, \"out_features\": 256}},\n",
    "]\n",
    "\n",
    "# Parameters relevant to results\n",
    "# These parameters will basically never need to change\n",
    "standalone_parameters[\"NUM_LOGS_PER_EPOCH\"] = 10\n",
    "standalone_parameters[\"BEST_MODEL_PATH\"] = \"./best_model.pth\"\n",
    "\n",
    "\n",
    "\n",
    "\n"
   ]
  },
  {
   "cell_type": "code",
   "execution_count": 4,
   "id": "cfa0eaa9",
   "metadata": {
    "execution": {
     "iopub.execute_input": "2022-03-22T18:13:04.859950Z",
     "iopub.status.busy": "2022-03-22T18:13:04.859497Z",
     "iopub.status.idle": "2022-03-22T18:13:04.880101Z",
     "shell.execute_reply": "2022-03-22T18:13:04.879255Z"
    },
    "papermill": {
     "duration": 0.049745,
     "end_time": "2022-03-22T18:13:04.880257",
     "exception": false,
     "start_time": "2022-03-22T18:13:04.830512",
     "status": "completed"
    },
    "tags": [
     "injected-parameters"
    ]
   },
   "outputs": [],
   "source": [
    "# Parameters\n",
    "parameters = {\n",
    "    \"experiment_name\": \"tl_1v2:cores-oracle.run1.limited\",\n",
    "    \"device\": \"cuda\",\n",
    "    \"lr\": 0.0001,\n",
    "    \"n_shot\": 3,\n",
    "    \"n_query\": 2,\n",
    "    \"train_k_factor\": 3,\n",
    "    \"val_k_factor\": 2,\n",
    "    \"test_k_factor\": 2,\n",
    "    \"torch_default_dtype\": \"torch.float32\",\n",
    "    \"n_epoch\": 50,\n",
    "    \"patience\": 3,\n",
    "    \"criteria_for_best\": \"target_accuracy\",\n",
    "    \"x_net\": [\n",
    "        {\"class\": \"nnReshape\", \"kargs\": {\"shape\": [-1, 1, 2, 256]}},\n",
    "        {\n",
    "            \"class\": \"Conv2d\",\n",
    "            \"kargs\": {\n",
    "                \"in_channels\": 1,\n",
    "                \"out_channels\": 256,\n",
    "                \"kernel_size\": [1, 7],\n",
    "                \"bias\": False,\n",
    "                \"padding\": [0, 3],\n",
    "            },\n",
    "        },\n",
    "        {\"class\": \"ReLU\", \"kargs\": {\"inplace\": True}},\n",
    "        {\"class\": \"BatchNorm2d\", \"kargs\": {\"num_features\": 256}},\n",
    "        {\n",
    "            \"class\": \"Conv2d\",\n",
    "            \"kargs\": {\n",
    "                \"in_channels\": 256,\n",
    "                \"out_channels\": 80,\n",
    "                \"kernel_size\": [2, 7],\n",
    "                \"bias\": True,\n",
    "                \"padding\": [0, 3],\n",
    "            },\n",
    "        },\n",
    "        {\"class\": \"ReLU\", \"kargs\": {\"inplace\": True}},\n",
    "        {\"class\": \"BatchNorm2d\", \"kargs\": {\"num_features\": 80}},\n",
    "        {\"class\": \"Flatten\", \"kargs\": {}},\n",
    "        {\"class\": \"Linear\", \"kargs\": {\"in_features\": 20480, \"out_features\": 256}},\n",
    "        {\"class\": \"ReLU\", \"kargs\": {\"inplace\": True}},\n",
    "        {\"class\": \"BatchNorm1d\", \"kargs\": {\"num_features\": 256}},\n",
    "        {\"class\": \"Linear\", \"kargs\": {\"in_features\": 256, \"out_features\": 256}},\n",
    "    ],\n",
    "    \"NUM_LOGS_PER_EPOCH\": 10,\n",
    "    \"BEST_MODEL_PATH\": \"./best_model.pth\",\n",
    "    \"n_way\": 16,\n",
    "    \"datasets\": [\n",
    "        {\n",
    "            \"labels\": [\n",
    "                \"1-10.\",\n",
    "                \"1-11.\",\n",
    "                \"1-15.\",\n",
    "                \"1-16.\",\n",
    "                \"1-17.\",\n",
    "                \"1-18.\",\n",
    "                \"1-19.\",\n",
    "                \"10-4.\",\n",
    "                \"10-7.\",\n",
    "                \"11-1.\",\n",
    "                \"11-14.\",\n",
    "                \"11-17.\",\n",
    "                \"11-20.\",\n",
    "                \"11-7.\",\n",
    "                \"13-20.\",\n",
    "                \"13-8.\",\n",
    "                \"14-10.\",\n",
    "                \"14-11.\",\n",
    "                \"14-14.\",\n",
    "                \"14-7.\",\n",
    "                \"15-1.\",\n",
    "                \"15-20.\",\n",
    "                \"16-1.\",\n",
    "                \"16-16.\",\n",
    "                \"17-10.\",\n",
    "                \"17-11.\",\n",
    "                \"17-2.\",\n",
    "                \"19-1.\",\n",
    "                \"19-16.\",\n",
    "                \"19-19.\",\n",
    "                \"19-20.\",\n",
    "                \"19-3.\",\n",
    "                \"2-10.\",\n",
    "                \"2-11.\",\n",
    "                \"2-17.\",\n",
    "                \"2-18.\",\n",
    "                \"2-20.\",\n",
    "                \"2-3.\",\n",
    "                \"2-4.\",\n",
    "                \"2-5.\",\n",
    "                \"2-6.\",\n",
    "                \"2-7.\",\n",
    "                \"2-8.\",\n",
    "                \"3-13.\",\n",
    "                \"3-18.\",\n",
    "                \"3-3.\",\n",
    "                \"4-1.\",\n",
    "                \"4-10.\",\n",
    "                \"4-11.\",\n",
    "                \"4-19.\",\n",
    "                \"5-5.\",\n",
    "                \"6-15.\",\n",
    "                \"7-10.\",\n",
    "                \"7-14.\",\n",
    "                \"8-18.\",\n",
    "                \"8-20.\",\n",
    "                \"8-3.\",\n",
    "                \"8-8.\",\n",
    "            ],\n",
    "            \"domains\": [1, 2, 3, 4, 5],\n",
    "            \"num_examples_per_domain_per_label\": -1,\n",
    "            \"pickle_path\": \"/root/csc500-main/datasets/cores.stratified_ds.2022A.pkl\",\n",
    "            \"source_or_target_dataset\": \"source\",\n",
    "            \"x_transforms\": [],\n",
    "            \"episode_transforms\": [],\n",
    "            \"domain_prefix\": \"CORES_\",\n",
    "        },\n",
    "        {\n",
    "            \"labels\": [\n",
    "                \"3123D52\",\n",
    "                \"3123D65\",\n",
    "                \"3123D79\",\n",
    "                \"3123D80\",\n",
    "                \"3123D54\",\n",
    "                \"3123D70\",\n",
    "                \"3123D7B\",\n",
    "                \"3123D89\",\n",
    "                \"3123D58\",\n",
    "                \"3123D76\",\n",
    "                \"3123D7D\",\n",
    "                \"3123EFE\",\n",
    "                \"3123D64\",\n",
    "                \"3123D78\",\n",
    "                \"3123D7E\",\n",
    "                \"3124E4A\",\n",
    "            ],\n",
    "            \"domains\": [32, 38, 8, 44, 14, 50, 20, 26],\n",
    "            \"num_examples_per_domain_per_label\": 2000,\n",
    "            \"pickle_path\": \"/root/csc500-main/datasets/oracle.Run1_10kExamples_stratified_ds.2022A.pkl\",\n",
    "            \"source_or_target_dataset\": \"target\",\n",
    "            \"x_transforms\": [],\n",
    "            \"episode_transforms\": [],\n",
    "            \"domain_prefix\": \"ORACLE.run1_\",\n",
    "        },\n",
    "    ],\n",
    "    \"dataset_seed\": 500,\n",
    "    \"seed\": 500,\n",
    "}\n"
   ]
  },
  {
   "cell_type": "code",
   "execution_count": 5,
   "id": "8fa1cc33",
   "metadata": {
    "execution": {
     "iopub.execute_input": "2022-03-22T18:13:04.933304Z",
     "iopub.status.busy": "2022-03-22T18:13:04.932731Z",
     "iopub.status.idle": "2022-03-22T18:13:04.954386Z",
     "shell.execute_reply": "2022-03-22T18:13:04.953582Z"
    },
    "papermill": {
     "duration": 0.045919,
     "end_time": "2022-03-22T18:13:04.954540",
     "exception": false,
     "start_time": "2022-03-22T18:13:04.908621",
     "status": "completed"
    },
    "tags": []
   },
   "outputs": [],
   "source": [
    "# Set this to True if you want to run this template directly\n",
    "STANDALONE = False\n",
    "if STANDALONE:\n",
    "    print(\"parameters not injected, running with standalone_parameters\")\n",
    "    parameters = standalone_parameters\n",
    "\n",
    "if not 'parameters' in locals() and not 'parameters' in globals():\n",
    "    raise Exception(\"Parameter injection failed\")\n",
    "\n",
    "#Use an easy dict for all the parameters\n",
    "p = EasyDict(parameters)\n",
    "\n",
    "if \"x_shape\" not in p:\n",
    "    p.x_shape = [2,256] # Default to this if we dont supply x_shape\n",
    "\n",
    "\n",
    "supplied_keys = set(p.keys())\n",
    "\n",
    "if  supplied_keys != required_parameters:\n",
    "    print(\"Parameters are incorrect\")\n",
    "    if len(supplied_keys - required_parameters)>0: print(\"Shouldn't have:\", str(supplied_keys - required_parameters))\n",
    "    if len(required_parameters - supplied_keys)>0: print(\"Need to have:\", str(required_parameters - supplied_keys))\n",
    "    raise RuntimeError(\"Parameters are incorrect\")"
   ]
  },
  {
   "cell_type": "code",
   "execution_count": 6,
   "id": "3a028d58",
   "metadata": {
    "execution": {
     "iopub.execute_input": "2022-03-22T18:13:05.003258Z",
     "iopub.status.busy": "2022-03-22T18:13:05.002846Z",
     "iopub.status.idle": "2022-03-22T18:13:05.025107Z",
     "shell.execute_reply": "2022-03-22T18:13:05.024409Z"
    },
    "papermill": {
     "duration": 0.045469,
     "end_time": "2022-03-22T18:13:05.025261",
     "exception": false,
     "start_time": "2022-03-22T18:13:04.979792",
     "status": "completed"
    },
    "tags": []
   },
   "outputs": [],
   "source": [
    "###################################\n",
    "# Set the RNGs and make it all deterministic\n",
    "###################################\n",
    "np.random.seed(p.seed)\n",
    "random.seed(p.seed)\n",
    "torch.manual_seed(p.seed)\n",
    "\n",
    "torch.use_deterministic_algorithms(True) "
   ]
  },
  {
   "cell_type": "code",
   "execution_count": 7,
   "id": "b691acf6",
   "metadata": {
    "execution": {
     "iopub.execute_input": "2022-03-22T18:13:05.074351Z",
     "iopub.status.busy": "2022-03-22T18:13:05.073983Z",
     "iopub.status.idle": "2022-03-22T18:13:05.093947Z",
     "shell.execute_reply": "2022-03-22T18:13:05.093144Z"
    },
    "papermill": {
     "duration": 0.043126,
     "end_time": "2022-03-22T18:13:05.094107",
     "exception": false,
     "start_time": "2022-03-22T18:13:05.050981",
     "status": "completed"
    },
    "tags": []
   },
   "outputs": [],
   "source": [
    "###########################################\n",
    "# The stratified datasets honor this\n",
    "###########################################\n",
    "torch.set_default_dtype(eval(p.torch_default_dtype))"
   ]
  },
  {
   "cell_type": "code",
   "execution_count": 8,
   "id": "b5fba671",
   "metadata": {
    "execution": {
     "iopub.execute_input": "2022-03-22T18:13:05.142391Z",
     "iopub.status.busy": "2022-03-22T18:13:05.142022Z",
     "iopub.status.idle": "2022-03-22T18:13:05.192684Z",
     "shell.execute_reply": "2022-03-22T18:13:05.191979Z"
    },
    "papermill": {
     "duration": 0.073382,
     "end_time": "2022-03-22T18:13:05.192839",
     "exception": false,
     "start_time": "2022-03-22T18:13:05.119457",
     "status": "completed"
    },
    "tags": []
   },
   "outputs": [],
   "source": [
    "###################################\n",
    "# Build the network(s)\n",
    "# Note: It's critical to do this AFTER setting the RNG\n",
    "###################################\n",
    "x_net = build_sequential(p.x_net)"
   ]
  },
  {
   "cell_type": "code",
   "execution_count": 9,
   "id": "5d7e61cc",
   "metadata": {
    "execution": {
     "iopub.execute_input": "2022-03-22T18:13:05.240413Z",
     "iopub.status.busy": "2022-03-22T18:13:05.239967Z",
     "iopub.status.idle": "2022-03-22T18:13:05.262830Z",
     "shell.execute_reply": "2022-03-22T18:13:05.262024Z"
    },
    "papermill": {
     "duration": 0.045857,
     "end_time": "2022-03-22T18:13:05.262984",
     "exception": false,
     "start_time": "2022-03-22T18:13:05.217127",
     "status": "completed"
    },
    "tags": []
   },
   "outputs": [],
   "source": [
    "start_time_secs = time.time()"
   ]
  },
  {
   "cell_type": "code",
   "execution_count": 10,
   "id": "c6b67dfd",
   "metadata": {
    "execution": {
     "iopub.execute_input": "2022-03-22T18:13:05.314272Z",
     "iopub.status.busy": "2022-03-22T18:13:05.313871Z",
     "iopub.status.idle": "2022-03-22T18:13:05.331459Z",
     "shell.execute_reply": "2022-03-22T18:13:05.330655Z"
    },
    "papermill": {
     "duration": 0.040984,
     "end_time": "2022-03-22T18:13:05.331629",
     "exception": false,
     "start_time": "2022-03-22T18:13:05.290645",
     "status": "completed"
    },
    "tags": []
   },
   "outputs": [],
   "source": [
    "p.domains_source = []\n",
    "p.domains_target = []\n",
    "\n",
    "\n",
    "train_original_source = []\n",
    "val_original_source   = []\n",
    "test_original_source  = []\n",
    "\n",
    "train_original_target = []\n",
    "val_original_target   = []\n",
    "test_original_target  = []"
   ]
  },
  {
   "cell_type": "code",
   "execution_count": 11,
   "id": "e3d9c3d3",
   "metadata": {
    "execution": {
     "iopub.execute_input": "2022-03-22T18:13:05.385891Z",
     "iopub.status.busy": "2022-03-22T18:13:05.385220Z",
     "iopub.status.idle": "2022-03-22T18:13:05.408537Z",
     "shell.execute_reply": "2022-03-22T18:13:05.407736Z"
    },
    "papermill": {
     "duration": 0.046677,
     "end_time": "2022-03-22T18:13:05.408691",
     "exception": false,
     "start_time": "2022-03-22T18:13:05.362014",
     "status": "completed"
    },
    "tags": []
   },
   "outputs": [],
   "source": [
    "# global_x_transform_func = lambda x: normalize(x.to(torch.get_default_dtype()), \"unit_power\") # unit_power, unit_mag\n",
    "# global_x_transform_func = lambda x: normalize(x, \"unit_power\") # unit_power, unit_mag"
   ]
  },
  {
   "cell_type": "code",
   "execution_count": 12,
   "id": "acb78fd2",
   "metadata": {
    "execution": {
     "iopub.execute_input": "2022-03-22T18:13:05.459593Z",
     "iopub.status.busy": "2022-03-22T18:13:05.459190Z",
     "iopub.status.idle": "2022-03-22T18:13:05.478674Z",
     "shell.execute_reply": "2022-03-22T18:13:05.477868Z"
    },
    "papermill": {
     "duration": 0.046233,
     "end_time": "2022-03-22T18:13:05.478829",
     "exception": false,
     "start_time": "2022-03-22T18:13:05.432596",
     "status": "completed"
    },
    "tags": []
   },
   "outputs": [],
   "source": [
    "def add_dataset(\n",
    "    labels,\n",
    "    domains,\n",
    "    pickle_path,\n",
    "    x_transforms,\n",
    "    episode_transforms,\n",
    "    domain_prefix,\n",
    "    num_examples_per_domain_per_label,\n",
    "    source_or_target_dataset:str,\n",
    "    iterator_seed=p.seed,\n",
    "    dataset_seed=p.dataset_seed,\n",
    "    n_shot=p.n_shot,\n",
    "    n_way=p.n_way,\n",
    "    n_query=p.n_query,\n",
    "    train_val_test_k_factors=(p.train_k_factor,p.val_k_factor,p.test_k_factor),\n",
    "):\n",
    "   \n",
    "    if x_transforms == []: x_transform = None\n",
    "    else: x_transform = get_chained_transform(x_transforms)\n",
    "    \n",
    "    if episode_transforms == []: episode_transform = None\n",
    "    else: raise Exception(\"episode_transforms not implemented\")\n",
    "    \n",
    "    episode_transform = lambda tup, _prefix=domain_prefix: (_prefix + str(tup[0]), tup[1])\n",
    "\n",
    "\n",
    "    eaf = Episodic_Accessor_Factory(\n",
    "        labels=labels,\n",
    "        domains=domains,\n",
    "        num_examples_per_domain_per_label=num_examples_per_domain_per_label,\n",
    "        iterator_seed=iterator_seed,\n",
    "        dataset_seed=dataset_seed,\n",
    "        n_shot=n_shot,\n",
    "        n_way=n_way,\n",
    "        n_query=n_query,\n",
    "        train_val_test_k_factors=train_val_test_k_factors,\n",
    "        pickle_path=pickle_path,\n",
    "        x_transform_func=x_transform,\n",
    "    )\n",
    "\n",
    "    train, val, test = eaf.get_train(), eaf.get_val(), eaf.get_test()\n",
    "    train = Lazy_Iterable_Wrapper(train, episode_transform)\n",
    "    val = Lazy_Iterable_Wrapper(val, episode_transform)\n",
    "    test = Lazy_Iterable_Wrapper(test, episode_transform)\n",
    "\n",
    "    if source_or_target_dataset==\"source\":\n",
    "        train_original_source.append(train)\n",
    "        val_original_source.append(val)\n",
    "        test_original_source.append(test)\n",
    "\n",
    "        p.domains_source.extend(\n",
    "            [domain_prefix + str(u) for u in domains]\n",
    "        )\n",
    "    elif source_or_target_dataset==\"target\":\n",
    "        train_original_target.append(train)\n",
    "        val_original_target.append(val)\n",
    "        test_original_target.append(test)\n",
    "        p.domains_target.extend(\n",
    "            [domain_prefix + str(u) for u in domains]\n",
    "        )\n",
    "    else:\n",
    "        raise Exception(f\"invalid source_or_target_dataset: {source_or_target_dataset}\")\n",
    "    "
   ]
  },
  {
   "cell_type": "code",
   "execution_count": 13,
   "id": "fe266617",
   "metadata": {
    "execution": {
     "iopub.execute_input": "2022-03-22T18:13:05.527083Z",
     "iopub.status.busy": "2022-03-22T18:13:05.526715Z",
     "iopub.status.idle": "2022-03-22T18:13:11.752742Z",
     "shell.execute_reply": "2022-03-22T18:13:11.751920Z"
    },
    "papermill": {
     "duration": 6.248727,
     "end_time": "2022-03-22T18:13:11.752927",
     "exception": false,
     "start_time": "2022-03-22T18:13:05.504200",
     "status": "completed"
    },
    "tags": []
   },
   "outputs": [],
   "source": [
    "for ds in p.datasets:\n",
    "    add_dataset(**ds)"
   ]
  },
  {
   "cell_type": "code",
   "execution_count": 14,
   "id": "b90d65ac",
   "metadata": {
    "execution": {
     "iopub.execute_input": "2022-03-22T18:13:11.807634Z",
     "iopub.status.busy": "2022-03-22T18:13:11.806352Z",
     "iopub.status.idle": "2022-03-22T18:13:11.828052Z",
     "shell.execute_reply": "2022-03-22T18:13:11.827179Z"
    },
    "papermill": {
     "duration": 0.046098,
     "end_time": "2022-03-22T18:13:11.828257",
     "exception": false,
     "start_time": "2022-03-22T18:13:11.782159",
     "status": "completed"
    },
    "tags": []
   },
   "outputs": [],
   "source": [
    "# from steves_utils.CORES.utils import (\n",
    "#     ALL_NODES,\n",
    "#     ALL_NODES_MINIMUM_1000_EXAMPLES,\n",
    "#     ALL_DAYS\n",
    "# )\n",
    "\n",
    "# add_dataset(\n",
    "#     labels=ALL_NODES,\n",
    "#     domains = ALL_DAYS,\n",
    "#     num_examples_per_domain_per_label=100,\n",
    "#     pickle_path=os.path.join(get_datasets_base_path(), \"cores.stratified_ds.2022A.pkl\"),\n",
    "#     source_or_target_dataset=\"target\",\n",
    "#     x_transform_func=global_x_transform_func,\n",
    "#     domain_modifier=lambda u: f\"cores_{u}\"\n",
    "# )"
   ]
  },
  {
   "cell_type": "code",
   "execution_count": 15,
   "id": "76db484d",
   "metadata": {
    "execution": {
     "iopub.execute_input": "2022-03-22T18:13:11.882600Z",
     "iopub.status.busy": "2022-03-22T18:13:11.882196Z",
     "iopub.status.idle": "2022-03-22T18:13:11.902710Z",
     "shell.execute_reply": "2022-03-22T18:13:11.901964Z"
    },
    "papermill": {
     "duration": 0.044622,
     "end_time": "2022-03-22T18:13:11.902907",
     "exception": false,
     "start_time": "2022-03-22T18:13:11.858285",
     "status": "completed"
    },
    "tags": []
   },
   "outputs": [],
   "source": [
    "# from steves_utils.ORACLE.utils_v2 import (\n",
    "#     ALL_DISTANCES_FEET,\n",
    "#     ALL_RUNS,\n",
    "#     ALL_SERIAL_NUMBERS,\n",
    "# )\n",
    "\n",
    "\n",
    "# add_dataset(\n",
    "#     labels=ALL_SERIAL_NUMBERS,\n",
    "#     domains = list(set(ALL_DISTANCES_FEET) - {2,62}),\n",
    "#     num_examples_per_domain_per_label=100,\n",
    "#     pickle_path=os.path.join(get_datasets_base_path(), \"oracle.Run2_framed_2000Examples_stratified_ds.2022A.pkl\"),\n",
    "#     source_or_target_dataset=\"source\",\n",
    "#     x_transform_func=global_x_transform_func,\n",
    "#     domain_modifier=lambda u: f\"oracle1_{u}\"\n",
    "# )\n"
   ]
  },
  {
   "cell_type": "code",
   "execution_count": 16,
   "id": "97dea9d2",
   "metadata": {
    "execution": {
     "iopub.execute_input": "2022-03-22T18:13:11.953714Z",
     "iopub.status.busy": "2022-03-22T18:13:11.953113Z",
     "iopub.status.idle": "2022-03-22T18:13:11.973093Z",
     "shell.execute_reply": "2022-03-22T18:13:11.972275Z"
    },
    "papermill": {
     "duration": 0.043723,
     "end_time": "2022-03-22T18:13:11.973261",
     "exception": false,
     "start_time": "2022-03-22T18:13:11.929538",
     "status": "completed"
    },
    "tags": []
   },
   "outputs": [],
   "source": [
    "# from steves_utils.ORACLE.utils_v2 import (\n",
    "#     ALL_DISTANCES_FEET,\n",
    "#     ALL_RUNS,\n",
    "#     ALL_SERIAL_NUMBERS,\n",
    "# )\n",
    "\n",
    "\n",
    "# add_dataset(\n",
    "#     labels=ALL_SERIAL_NUMBERS,\n",
    "#     domains = list(set(ALL_DISTANCES_FEET) - {2,62,56}),\n",
    "#     num_examples_per_domain_per_label=100,\n",
    "#     pickle_path=os.path.join(get_datasets_base_path(), \"oracle.Run2_framed_2000Examples_stratified_ds.2022A.pkl\"),\n",
    "#     source_or_target_dataset=\"source\",\n",
    "#     x_transform_func=global_x_transform_func,\n",
    "#     domain_modifier=lambda u: f\"oracle2_{u}\"\n",
    "# )"
   ]
  },
  {
   "cell_type": "code",
   "execution_count": 17,
   "id": "6f289866",
   "metadata": {
    "execution": {
     "iopub.execute_input": "2022-03-22T18:13:12.027508Z",
     "iopub.status.busy": "2022-03-22T18:13:12.027128Z",
     "iopub.status.idle": "2022-03-22T18:13:12.051413Z",
     "shell.execute_reply": "2022-03-22T18:13:12.050580Z"
    },
    "papermill": {
     "duration": 0.048725,
     "end_time": "2022-03-22T18:13:12.051628",
     "exception": false,
     "start_time": "2022-03-22T18:13:12.002903",
     "status": "completed"
    },
    "tags": []
   },
   "outputs": [],
   "source": [
    "# add_dataset(\n",
    "#     labels=list(range(19)),\n",
    "#     domains = [0,1,2],\n",
    "#     num_examples_per_domain_per_label=100,\n",
    "#     pickle_path=os.path.join(get_datasets_base_path(), \"metehan.stratified_ds.2022A.pkl\"),\n",
    "#     source_or_target_dataset=\"target\",\n",
    "#     x_transform_func=global_x_transform_func,\n",
    "#     domain_modifier=lambda u: f\"met_{u}\"\n",
    "# )"
   ]
  },
  {
   "cell_type": "code",
   "execution_count": 18,
   "id": "86a863c3",
   "metadata": {
    "execution": {
     "iopub.execute_input": "2022-03-22T18:13:12.106044Z",
     "iopub.status.busy": "2022-03-22T18:13:12.105472Z",
     "iopub.status.idle": "2022-03-22T18:13:12.127441Z",
     "shell.execute_reply": "2022-03-22T18:13:12.128159Z"
    },
    "papermill": {
     "duration": 0.048293,
     "end_time": "2022-03-22T18:13:12.128358",
     "exception": false,
     "start_time": "2022-03-22T18:13:12.080065",
     "status": "completed"
    },
    "tags": []
   },
   "outputs": [],
   "source": [
    "# # from steves_utils.wisig.utils import (\n",
    "# #     ALL_NODES_MINIMUM_100_EXAMPLES,\n",
    "# #     ALL_NODES_MINIMUM_500_EXAMPLES,\n",
    "# #     ALL_NODES_MINIMUM_1000_EXAMPLES,\n",
    "# #     ALL_DAYS\n",
    "# # )\n",
    "\n",
    "# import steves_utils.wisig.utils as wisig\n",
    "\n",
    "\n",
    "# add_dataset(\n",
    "#     labels=wisig.ALL_NODES_MINIMUM_100_EXAMPLES,\n",
    "#     domains = wisig.ALL_DAYS,\n",
    "#     num_examples_per_domain_per_label=100,\n",
    "#     pickle_path=os.path.join(get_datasets_base_path(), \"wisig.node3-19.stratified_ds.2022A.pkl\"),\n",
    "#     source_or_target_dataset=\"target\",\n",
    "#     x_transform_func=global_x_transform_func,\n",
    "#     domain_modifier=lambda u: f\"wisig_{u}\"\n",
    "# )"
   ]
  },
  {
   "cell_type": "code",
   "execution_count": 19,
   "id": "fd5442bc",
   "metadata": {
    "execution": {
     "iopub.execute_input": "2022-03-22T18:13:12.183278Z",
     "iopub.status.busy": "2022-03-22T18:13:12.182694Z",
     "iopub.status.idle": "2022-03-22T18:13:12.201069Z",
     "shell.execute_reply": "2022-03-22T18:13:12.200249Z"
    },
    "papermill": {
     "duration": 0.044917,
     "end_time": "2022-03-22T18:13:12.201230",
     "exception": false,
     "start_time": "2022-03-22T18:13:12.156313",
     "status": "completed"
    },
    "tags": []
   },
   "outputs": [],
   "source": [
    "###################################\n",
    "# Build the dataset\n",
    "###################################\n",
    "train_original_source = Iterable_Aggregator(train_original_source, p.seed)\n",
    "val_original_source = Iterable_Aggregator(val_original_source, p.seed)\n",
    "test_original_source = Iterable_Aggregator(test_original_source, p.seed)\n",
    "\n",
    "\n",
    "train_original_target = Iterable_Aggregator(train_original_target, p.seed)\n",
    "val_original_target = Iterable_Aggregator(val_original_target, p.seed)\n",
    "test_original_target = Iterable_Aggregator(test_original_target, p.seed)\n",
    "\n",
    "# For CNN We only use X and Y. And we only train on the source.\n",
    "# Properly form the data using a transform lambda and Lazy_Iterable_Wrapper. Finally wrap them in a dataloader\n",
    "\n",
    "transform_lambda = lambda ex: ex[1] # Original is (<domain>, <episode>) so we strip down to episode only\n",
    "\n",
    "train_processed_source = Lazy_Iterable_Wrapper(train_original_source, transform_lambda)\n",
    "val_processed_source   = Lazy_Iterable_Wrapper(val_original_source, transform_lambda)\n",
    "test_processed_source  = Lazy_Iterable_Wrapper(test_original_source, transform_lambda)\n",
    "\n",
    "train_processed_target = Lazy_Iterable_Wrapper(train_original_target, transform_lambda)\n",
    "val_processed_target   = Lazy_Iterable_Wrapper(val_original_target, transform_lambda)\n",
    "test_processed_target  = Lazy_Iterable_Wrapper(test_original_target, transform_lambda)\n",
    "\n",
    "datasets = EasyDict({\n",
    "    \"source\": {\n",
    "        \"original\": {\"train\":train_original_source, \"val\":val_original_source, \"test\":test_original_source},\n",
    "        \"processed\": {\"train\":train_processed_source, \"val\":val_processed_source, \"test\":test_processed_source}\n",
    "    },\n",
    "    \"target\": {\n",
    "        \"original\": {\"train\":train_original_target, \"val\":val_original_target, \"test\":test_original_target},\n",
    "        \"processed\": {\"train\":train_processed_target, \"val\":val_processed_target, \"test\":test_processed_target}\n",
    "    },\n",
    "})"
   ]
  },
  {
   "cell_type": "code",
   "execution_count": 20,
   "id": "5b3c01fc",
   "metadata": {
    "execution": {
     "iopub.execute_input": "2022-03-22T18:13:12.254026Z",
     "iopub.status.busy": "2022-03-22T18:13:12.253652Z",
     "iopub.status.idle": "2022-03-22T18:13:26.822483Z",
     "shell.execute_reply": "2022-03-22T18:13:26.823168Z"
    },
    "papermill": {
     "duration": 14.594592,
     "end_time": "2022-03-22T18:13:26.823393",
     "exception": false,
     "start_time": "2022-03-22T18:13:12.228801",
     "status": "completed"
    },
    "tags": []
   },
   "outputs": [
    {
     "name": "stdout",
     "output_type": "stream",
     "text": [
      "{'CORES_3', 'CORES_4', 'CORES_5', 'CORES_1', 'CORES_2'}\n"
     ]
    },
    {
     "name": "stdout",
     "output_type": "stream",
     "text": [
      "{'ORACLE.run1_38', 'ORACLE.run1_8', 'ORACLE.run1_32', 'ORACLE.run1_44', 'ORACLE.run1_14', 'ORACLE.run1_26', 'ORACLE.run1_20', 'ORACLE.run1_50'}\n"
     ]
    },
    {
     "name": "stdout",
     "output_type": "stream",
     "text": [
      "tensor([[[-0.0060, -0.0054, -0.0223,  ..., -0.0072,  0.0068, -0.0017],\n",
      "         [-0.0035,  0.0011,  0.0172,  ...,  0.0153,  0.0391,  0.0436]],\n",
      "\n",
      "        [[-0.0096, -0.0275, -0.0174,  ..., -0.0347, -0.0401, -0.0274],\n",
      "         [-0.0048, -0.0185, -0.0293,  ...,  0.0203,  0.0138,  0.0108]],\n",
      "\n",
      "        [[-0.0062, -0.0035, -0.0104,  ...,  0.0128,  0.0288,  0.0244],\n",
      "         [-0.0004,  0.0076,  0.0295,  ...,  0.0180,  0.0265,  0.0359]],\n",
      "\n",
      "        ...,\n",
      "\n",
      "        [[-0.0025, -0.0105,  0.0131,  ..., -0.0173, -0.0065,  0.0104],\n",
      "         [ 0.0059, -0.0101, -0.0090,  ...,  0.0030,  0.0020, -0.0041]],\n",
      "\n",
      "        [[-0.0072,  0.0022,  0.0151,  ..., -0.0149, -0.0024,  0.0096],\n",
      "         [-0.0010, -0.0145,  0.0076,  ..., -0.0071, -0.0007,  0.0047]],\n",
      "\n",
      "        [[ 0.0000, -0.0004, -0.0008,  ...,  0.0188,  0.0046, -0.0041],\n",
      "         [-0.0013, -0.0006, -0.0016,  ..., -0.0109, -0.0032,  0.0070]]])\n"
     ]
    }
   ],
   "source": [
    "from steves_utils.transforms import get_average_magnitude, get_average_power\n",
    "\n",
    "print(set([u for u,_ in val_original_source]))\n",
    "print(set([u for u,_ in val_original_target]))\n",
    "\n",
    "s_x, s_y, q_x, q_y, _ = next(iter(train_processed_source))\n",
    "print(s_x)\n",
    "\n",
    "# for ds in [\n",
    "#     train_processed_source,\n",
    "#     val_processed_source,\n",
    "#     test_processed_source,\n",
    "#     train_processed_target,\n",
    "#     val_processed_target,\n",
    "#     test_processed_target\n",
    "# ]:\n",
    "#     for s_x, s_y, q_x, q_y, _ in ds:\n",
    "#         for X in (s_x, q_x):\n",
    "#             for x in X:\n",
    "#                 assert np.isclose(get_average_magnitude(x.numpy()), 1.0)\n",
    "#                 assert np.isclose(get_average_power(x.numpy()), 1.0)\n",
    "                "
   ]
  },
  {
   "cell_type": "code",
   "execution_count": 21,
   "id": "bbdacba1",
   "metadata": {
    "execution": {
     "iopub.execute_input": "2022-03-22T18:13:26.876900Z",
     "iopub.status.busy": "2022-03-22T18:13:26.876527Z",
     "iopub.status.idle": "2022-03-22T18:13:27.076054Z",
     "shell.execute_reply": "2022-03-22T18:13:27.076732Z"
    },
    "papermill": {
     "duration": 0.227182,
     "end_time": "2022-03-22T18:13:27.076965",
     "exception": false,
     "start_time": "2022-03-22T18:13:26.849783",
     "status": "completed"
    },
    "tags": []
   },
   "outputs": [
    {
     "name": "stdout",
     "output_type": "stream",
     "text": [
      "(2, 256)\n"
     ]
    }
   ],
   "source": [
    "###################################\n",
    "# Build the model\n",
    "###################################\n",
    "# easfsl only wants a tuple for the shape\n",
    "model = Steves_Prototypical_Network(x_net, device=p.device, x_shape=tuple(p.x_shape))\n",
    "optimizer = Adam(params=model.parameters(), lr=p.lr)"
   ]
  },
  {
   "cell_type": "code",
   "execution_count": 22,
   "id": "22b39ac5",
   "metadata": {
    "execution": {
     "iopub.execute_input": "2022-03-22T18:13:27.134297Z",
     "iopub.status.busy": "2022-03-22T18:13:27.133927Z",
     "iopub.status.idle": "2022-03-22T18:26:47.113056Z",
     "shell.execute_reply": "2022-03-22T18:26:47.112699Z"
    },
    "papermill": {
     "duration": 800.006797,
     "end_time": "2022-03-22T18:26:47.113145",
     "exception": false,
     "start_time": "2022-03-22T18:13:27.106348",
     "status": "completed"
    },
    "tags": []
   },
   "outputs": [
    {
     "name": "stdout",
     "output_type": "stream",
     "text": [
      "epoch: 1, [batch: 1 / 6317], examples_per_second: 35.3452, train_label_loss: 2.1049, \n"
     ]
    },
    {
     "name": "stdout",
     "output_type": "stream",
     "text": [
      "epoch: 1, [batch: 632 / 6317], examples_per_second: 3378.8616, train_label_loss: 0.0363, \n"
     ]
    },
    {
     "name": "stdout",
     "output_type": "stream",
     "text": [
      "epoch: 1, [batch: 1264 / 6317], examples_per_second: 3357.2370, train_label_loss: 0.0003, \n"
     ]
    },
    {
     "name": "stdout",
     "output_type": "stream",
     "text": [
      "epoch: 1, [batch: 1895 / 6317], examples_per_second: 3366.8030, train_label_loss: 0.0019, \n"
     ]
    },
    {
     "name": "stdout",
     "output_type": "stream",
     "text": [
      "epoch: 1, [batch: 2527 / 6317], examples_per_second: 3571.1991, train_label_loss: 0.0073, \n"
     ]
    },
    {
     "name": "stdout",
     "output_type": "stream",
     "text": [
      "epoch: 1, [batch: 3159 / 6317], examples_per_second: 3493.6373, train_label_loss: 0.0076, \n"
     ]
    },
    {
     "name": "stdout",
     "output_type": "stream",
     "text": [
      "epoch: 1, [batch: 3790 / 6317], examples_per_second: 3373.9892, train_label_loss: 0.0004, \n"
     ]
    },
    {
     "name": "stdout",
     "output_type": "stream",
     "text": [
      "epoch: 1, [batch: 4422 / 6317], examples_per_second: 3443.7163, train_label_loss: 0.0020, \n"
     ]
    },
    {
     "name": "stdout",
     "output_type": "stream",
     "text": [
      "epoch: 1, [batch: 5053 / 6317], examples_per_second: 3395.1291, train_label_loss: 0.0006, \n"
     ]
    },
    {
     "name": "stdout",
     "output_type": "stream",
     "text": [
      "epoch: 1, [batch: 5685 / 6317], examples_per_second: 3730.0959, train_label_loss: 0.0003, \n"
     ]
    },
    {
     "name": "stdout",
     "output_type": "stream",
     "text": [
      "=============================================================\n",
      "epoch: 1, source_val_acc_label: 0.9982, target_val_acc_label: 0.3958, source_val_label_loss: 0.0096, target_val_label_loss: 2.0067, \n",
      "=============================================================\n"
     ]
    },
    {
     "name": "stdout",
     "output_type": "stream",
     "text": [
      "New best\n"
     ]
    },
    {
     "name": "stdout",
     "output_type": "stream",
     "text": [
      "epoch: 2, [batch: 1 / 6315], examples_per_second: 3.9040, train_label_loss: 0.0007, \n"
     ]
    },
    {
     "name": "stdout",
     "output_type": "stream",
     "text": [
      "epoch: 2, [batch: 632 / 6315], examples_per_second: 3326.2193, train_label_loss: 0.0001, \n"
     ]
    },
    {
     "name": "stdout",
     "output_type": "stream",
     "text": [
      "epoch: 2, [batch: 1263 / 6315], examples_per_second: 3433.9148, train_label_loss: 0.0000, \n"
     ]
    },
    {
     "name": "stdout",
     "output_type": "stream",
     "text": [
      "epoch: 2, [batch: 1895 / 6315], examples_per_second: 3417.3036, train_label_loss: 0.0001, \n"
     ]
    },
    {
     "name": "stdout",
     "output_type": "stream",
     "text": [
      "epoch: 2, [batch: 2526 / 6315], examples_per_second: 3376.9955, train_label_loss: 0.0005, \n"
     ]
    },
    {
     "name": "stdout",
     "output_type": "stream",
     "text": [
      "epoch: 2, [batch: 3158 / 6315], examples_per_second: 3621.1879, train_label_loss: 0.0000, \n"
     ]
    },
    {
     "name": "stdout",
     "output_type": "stream",
     "text": [
      "epoch: 2, [batch: 3789 / 6315], examples_per_second: 3460.4822, train_label_loss: 0.0004, \n"
     ]
    },
    {
     "name": "stdout",
     "output_type": "stream",
     "text": [
      "epoch: 2, [batch: 4420 / 6315], examples_per_second: 3479.5779, train_label_loss: 0.0002, \n"
     ]
    },
    {
     "name": "stdout",
     "output_type": "stream",
     "text": [
      "epoch: 2, [batch: 5052 / 6315], examples_per_second: 3426.7080, train_label_loss: 0.0290, \n"
     ]
    },
    {
     "name": "stdout",
     "output_type": "stream",
     "text": [
      "epoch: 2, [batch: 5683 / 6315], examples_per_second: 3441.3555, train_label_loss: 0.0004, \n"
     ]
    },
    {
     "name": "stdout",
     "output_type": "stream",
     "text": [
      "=============================================================\n",
      "epoch: 2, source_val_acc_label: 0.9978, target_val_acc_label: 0.3628, source_val_label_loss: 0.0119, target_val_label_loss: 2.0175, \n",
      "=============================================================\n"
     ]
    },
    {
     "name": "stdout",
     "output_type": "stream",
     "text": [
      "epoch: 3, [batch: 1 / 6325], examples_per_second: 3.8864, train_label_loss: 0.0001, \n"
     ]
    },
    {
     "name": "stdout",
     "output_type": "stream",
     "text": [
      "epoch: 3, [batch: 633 / 6325], examples_per_second: 3349.4951, train_label_loss: 0.0000, \n"
     ]
    },
    {
     "name": "stdout",
     "output_type": "stream",
     "text": [
      "epoch: 3, [batch: 1265 / 6325], examples_per_second: 3360.0466, train_label_loss: 0.0000, \n"
     ]
    },
    {
     "name": "stdout",
     "output_type": "stream",
     "text": [
      "epoch: 3, [batch: 1898 / 6325], examples_per_second: 3370.8468, train_label_loss: 0.0000, \n"
     ]
    },
    {
     "name": "stdout",
     "output_type": "stream",
     "text": [
      "epoch: 3, [batch: 2530 / 6325], examples_per_second: 3309.0873, train_label_loss: 0.0000, \n"
     ]
    },
    {
     "name": "stdout",
     "output_type": "stream",
     "text": [
      "epoch: 3, [batch: 3163 / 6325], examples_per_second: 3372.9540, train_label_loss: 0.0003, \n"
     ]
    },
    {
     "name": "stdout",
     "output_type": "stream",
     "text": [
      "epoch: 3, [batch: 3795 / 6325], examples_per_second: 3667.6537, train_label_loss: 0.0000, \n"
     ]
    },
    {
     "name": "stdout",
     "output_type": "stream",
     "text": [
      "epoch: 3, [batch: 4427 / 6325], examples_per_second: 3985.9094, train_label_loss: 0.0000, \n"
     ]
    },
    {
     "name": "stdout",
     "output_type": "stream",
     "text": [
      "epoch: 3, [batch: 5060 / 6325], examples_per_second: 3995.4451, train_label_loss: 0.0000, \n"
     ]
    },
    {
     "name": "stdout",
     "output_type": "stream",
     "text": [
      "epoch: 3, [batch: 5692 / 6325], examples_per_second: 3977.3786, train_label_loss: 0.0000, \n"
     ]
    },
    {
     "name": "stdout",
     "output_type": "stream",
     "text": [
      "=============================================================\n",
      "epoch: 3, source_val_acc_label: 0.9995, target_val_acc_label: 0.3844, source_val_label_loss: 0.0038, target_val_label_loss: 1.8575, \n",
      "=============================================================\n"
     ]
    },
    {
     "name": "stdout",
     "output_type": "stream",
     "text": [
      "epoch: 4, [batch: 1 / 6307], examples_per_second: 4.3927, train_label_loss: 0.0000, \n"
     ]
    },
    {
     "name": "stdout",
     "output_type": "stream",
     "text": [
      "epoch: 4, [batch: 631 / 6307], examples_per_second: 3974.9041, train_label_loss: 0.0001, \n"
     ]
    },
    {
     "name": "stdout",
     "output_type": "stream",
     "text": [
      "epoch: 4, [batch: 1262 / 6307], examples_per_second: 3958.4387, train_label_loss: 0.0000, \n"
     ]
    },
    {
     "name": "stdout",
     "output_type": "stream",
     "text": [
      "epoch: 4, [batch: 1892 / 6307], examples_per_second: 3980.0388, train_label_loss: 0.0000, \n"
     ]
    },
    {
     "name": "stdout",
     "output_type": "stream",
     "text": [
      "epoch: 4, [batch: 2523 / 6307], examples_per_second: 3946.4704, train_label_loss: 0.0000, \n"
     ]
    },
    {
     "name": "stdout",
     "output_type": "stream",
     "text": [
      "epoch: 4, [batch: 3154 / 6307], examples_per_second: 3979.4926, train_label_loss: 0.0000, \n"
     ]
    },
    {
     "name": "stdout",
     "output_type": "stream",
     "text": [
      "epoch: 4, [batch: 3784 / 6307], examples_per_second: 3982.4189, train_label_loss: 0.0001, \n"
     ]
    },
    {
     "name": "stdout",
     "output_type": "stream",
     "text": [
      "epoch: 4, [batch: 4415 / 6307], examples_per_second: 3912.7643, train_label_loss: 0.0000, \n"
     ]
    },
    {
     "name": "stdout",
     "output_type": "stream",
     "text": [
      "epoch: 4, [batch: 5045 / 6307], examples_per_second: 3896.6181, train_label_loss: 0.0000, \n"
     ]
    },
    {
     "name": "stdout",
     "output_type": "stream",
     "text": [
      "epoch: 4, [batch: 5676 / 6307], examples_per_second: 3839.7094, train_label_loss: 0.0001, \n"
     ]
    },
    {
     "name": "stdout",
     "output_type": "stream",
     "text": [
      "=============================================================\n",
      "epoch: 4, source_val_acc_label: 0.9994, target_val_acc_label: 0.3593, source_val_label_loss: 0.0055, target_val_label_loss: 1.9949, \n",
      "=============================================================\n"
     ]
    },
    {
     "name": "stdout",
     "output_type": "stream",
     "text": [
      "epoch: 5, [batch: 1 / 6302], examples_per_second: 4.2486, train_label_loss: 0.1021, \n"
     ]
    },
    {
     "name": "stdout",
     "output_type": "stream",
     "text": [
      "epoch: 5, [batch: 631 / 6302], examples_per_second: 4304.7828, train_label_loss: 0.0000, \n"
     ]
    },
    {
     "name": "stdout",
     "output_type": "stream",
     "text": [
      "epoch: 5, [batch: 1261 / 6302], examples_per_second: 4544.1764, train_label_loss: 0.0000, \n"
     ]
    },
    {
     "name": "stdout",
     "output_type": "stream",
     "text": [
      "epoch: 5, [batch: 1891 / 6302], examples_per_second: 4431.6785, train_label_loss: 0.2912, \n"
     ]
    },
    {
     "name": "stdout",
     "output_type": "stream",
     "text": [
      "epoch: 5, [batch: 2521 / 6302], examples_per_second: 4303.0878, train_label_loss: 0.0000, \n"
     ]
    },
    {
     "name": "stdout",
     "output_type": "stream",
     "text": [
      "epoch: 5, [batch: 3151 / 6302], examples_per_second: 4433.0876, train_label_loss: 0.0001, \n"
     ]
    },
    {
     "name": "stdout",
     "output_type": "stream",
     "text": [
      "epoch: 5, [batch: 3781 / 6302], examples_per_second: 4293.1976, train_label_loss: 0.0001, \n"
     ]
    },
    {
     "name": "stdout",
     "output_type": "stream",
     "text": [
      "epoch: 5, [batch: 4411 / 6302], examples_per_second: 4247.1683, train_label_loss: 0.0003, \n"
     ]
    },
    {
     "name": "stdout",
     "output_type": "stream",
     "text": [
      "epoch: 5, [batch: 5041 / 6302], examples_per_second: 4761.8021, train_label_loss: 0.0001, \n"
     ]
    },
    {
     "name": "stdout",
     "output_type": "stream",
     "text": [
      "epoch: 5, [batch: 5671 / 6302], examples_per_second: 5137.2132, train_label_loss: 0.0000, \n"
     ]
    },
    {
     "name": "stdout",
     "output_type": "stream",
     "text": [
      "=============================================================\n",
      "epoch: 5, source_val_acc_label: 0.9994, target_val_acc_label: 0.3523, source_val_label_loss: 0.0047, target_val_label_loss: 1.9742, \n",
      "=============================================================\n"
     ]
    },
    {
     "name": "stdout",
     "output_type": "stream",
     "text": [
      "Patience (3) exhausted\n"
     ]
    }
   ],
   "source": [
    "###################################\n",
    "# train\n",
    "###################################\n",
    "jig = PTN_Train_Eval_Test_Jig(model, p.BEST_MODEL_PATH, p.device)\n",
    "\n",
    "jig.train(\n",
    "    train_iterable=datasets.source.processed.train,\n",
    "    source_val_iterable=datasets.source.processed.val,\n",
    "    target_val_iterable=datasets.target.processed.val,\n",
    "    num_epochs=p.n_epoch,\n",
    "    num_logs_per_epoch=p.NUM_LOGS_PER_EPOCH,\n",
    "    patience=p.patience,\n",
    "    optimizer=optimizer,\n",
    "    criteria_for_best=p.criteria_for_best,\n",
    ")"
   ]
  },
  {
   "cell_type": "code",
   "execution_count": 23,
   "id": "31e8fabf",
   "metadata": {
    "execution": {
     "iopub.execute_input": "2022-03-22T18:26:47.195555Z",
     "iopub.status.busy": "2022-03-22T18:26:47.195161Z",
     "iopub.status.idle": "2022-03-22T18:26:47.227141Z",
     "shell.execute_reply": "2022-03-22T18:26:47.226343Z"
    },
    "papermill": {
     "duration": 0.07557,
     "end_time": "2022-03-22T18:26:47.227323",
     "exception": false,
     "start_time": "2022-03-22T18:26:47.151753",
     "status": "completed"
    },
    "tags": []
   },
   "outputs": [],
   "source": [
    "total_experiment_time_secs = time.time() - start_time_secs"
   ]
  },
  {
   "cell_type": "code",
   "execution_count": 24,
   "id": "87b9595b",
   "metadata": {
    "execution": {
     "iopub.execute_input": "2022-03-22T18:26:47.320915Z",
     "iopub.status.busy": "2022-03-22T18:26:47.320315Z",
     "iopub.status.idle": "2022-03-22T18:29:35.822098Z",
     "shell.execute_reply": "2022-03-22T18:29:35.821362Z"
    },
    "papermill": {
     "duration": 168.548593,
     "end_time": "2022-03-22T18:29:35.822282",
     "exception": false,
     "start_time": "2022-03-22T18:26:47.273689",
     "status": "completed"
    },
    "tags": []
   },
   "outputs": [],
   "source": [
    "###################################\n",
    "# Evaluate the model\n",
    "###################################\n",
    "source_test_label_accuracy, source_test_label_loss = jig.test(datasets.source.processed.test)\n",
    "target_test_label_accuracy, target_test_label_loss = jig.test(datasets.target.processed.test)\n",
    "\n",
    "source_val_label_accuracy, source_val_label_loss = jig.test(datasets.source.processed.val)\n",
    "target_val_label_accuracy, target_val_label_loss = jig.test(datasets.target.processed.val)\n",
    "\n",
    "history = jig.get_history()\n",
    "\n",
    "total_epochs_trained = len(history[\"epoch_indices\"])\n",
    "\n",
    "val_dl = Iterable_Aggregator((datasets.source.original.val,datasets.target.original.val))\n",
    "\n",
    "confusion = ptn_confusion_by_domain_over_dataloader(model, p.device, val_dl)\n",
    "per_domain_accuracy = per_domain_accuracy_from_confusion(confusion)\n",
    "\n",
    "# Add a key to per_domain_accuracy for if it was a source domain\n",
    "for domain, accuracy in per_domain_accuracy.items():\n",
    "    per_domain_accuracy[domain] = {\n",
    "        \"accuracy\": accuracy,\n",
    "        \"source?\": domain in p.domains_source\n",
    "    }\n",
    "\n",
    "# Do an independent accuracy assesment JUST TO BE SURE!\n",
    "# _source_test_label_accuracy = independent_accuracy_assesment(model, datasets.source.processed.test, p.device)\n",
    "# _target_test_label_accuracy = independent_accuracy_assesment(model, datasets.target.processed.test, p.device)\n",
    "# _source_val_label_accuracy = independent_accuracy_assesment(model, datasets.source.processed.val, p.device)\n",
    "# _target_val_label_accuracy = independent_accuracy_assesment(model, datasets.target.processed.val, p.device)\n",
    "\n",
    "# assert(_source_test_label_accuracy == source_test_label_accuracy)\n",
    "# assert(_target_test_label_accuracy == target_test_label_accuracy)\n",
    "# assert(_source_val_label_accuracy == source_val_label_accuracy)\n",
    "# assert(_target_val_label_accuracy == target_val_label_accuracy)\n",
    "\n",
    "experiment = {\n",
    "    \"experiment_name\": p.experiment_name,\n",
    "    \"parameters\": dict(p),\n",
    "    \"results\": {\n",
    "        \"source_test_label_accuracy\": source_test_label_accuracy,\n",
    "        \"source_test_label_loss\": source_test_label_loss,\n",
    "        \"target_test_label_accuracy\": target_test_label_accuracy,\n",
    "        \"target_test_label_loss\": target_test_label_loss,\n",
    "        \"source_val_label_accuracy\": source_val_label_accuracy,\n",
    "        \"source_val_label_loss\": source_val_label_loss,\n",
    "        \"target_val_label_accuracy\": target_val_label_accuracy,\n",
    "        \"target_val_label_loss\": target_val_label_loss,\n",
    "        \"total_epochs_trained\": total_epochs_trained,\n",
    "        \"total_experiment_time_secs\": total_experiment_time_secs,\n",
    "        \"confusion\": confusion,\n",
    "        \"per_domain_accuracy\": per_domain_accuracy,\n",
    "    },\n",
    "    \"history\": history,\n",
    "    \"dataset_metrics\": get_dataset_metrics(datasets, \"ptn\"),\n",
    "}"
   ]
  },
  {
   "cell_type": "code",
   "execution_count": 25,
   "id": "54a21829",
   "metadata": {
    "execution": {
     "iopub.execute_input": "2022-03-22T18:29:35.915648Z",
     "iopub.status.busy": "2022-03-22T18:29:35.915259Z",
     "iopub.status.idle": "2022-03-22T18:29:36.143274Z",
     "shell.execute_reply": "2022-03-22T18:29:36.142452Z"
    },
    "papermill": {
     "duration": 0.273354,
     "end_time": "2022-03-22T18:29:36.143434",
     "exception": false,
     "start_time": "2022-03-22T18:29:35.870080",
     "status": "completed"
    },
    "tags": []
   },
   "outputs": [
    {
     "data": {
      "image/png": "[encoded data removed]",
      "text/plain": [
       "<Figure size 1080x504 with 1 Axes>"
      ]
     },
     "metadata": {
      "needs_background": "light"
     },
     "output_type": "display_data"
    }
   ],
   "source": [
    "ax = get_loss_curve(experiment)\n",
    "plt.show()"
   ]
  },
  {
   "cell_type": "code",
   "execution_count": 26,
   "id": "fd8a0f60",
   "metadata": {
    "execution": {
     "iopub.execute_input": "2022-03-22T18:29:36.238128Z",
     "iopub.status.busy": "2022-03-22T18:29:36.237673Z",
     "iopub.status.idle": "2022-03-22T18:29:36.553425Z",
     "shell.execute_reply": "2022-03-22T18:29:36.553023Z"
    },
    "papermill": {
     "duration": 0.362116,
     "end_time": "2022-03-22T18:29:36.553528",
     "exception": false,
     "start_time": "2022-03-22T18:29:36.191412",
     "status": "completed"
    },
    "tags": []
   },
   "outputs": [
    {
     "data": {
      "text/plain": [
       "<AxesSubplot:title={'center':'Results'}>"
      ]
     },
     "execution_count": 26,
     "metadata": {},
     "output_type": "execute_result"
    },
    {
     "data": {
      "image/png": "[encoded data removed]",
      "text/plain": [
       "<Figure size 1080x504 with 1 Axes>"
      ]
     },
     "metadata": {
      "needs_background": "light"
     },
     "output_type": "display_data"
    }
   ],
   "source": [
    "get_results_table(experiment)"
   ]
  },
  {
   "cell_type": "code",
   "execution_count": 27,
   "id": "cf8dc689",
   "metadata": {
    "execution": {
     "iopub.execute_input": "2022-03-22T18:29:36.683008Z",
     "iopub.status.busy": "2022-03-22T18:29:36.682635Z",
     "iopub.status.idle": "2022-03-22T18:29:36.942273Z",
     "shell.execute_reply": "2022-03-22T18:29:36.942977Z"
    },
    "papermill": {
     "duration": 0.306636,
     "end_time": "2022-03-22T18:29:36.943186",
     "exception": false,
     "start_time": "2022-03-22T18:29:36.636550",
     "status": "completed"
    },
    "tags": []
   },
   "outputs": [
    {
     "data": {
      "text/plain": [
       "<AxesSubplot:title={'center':'Per Domain Validation Accuracy'}, xlabel='domain'>"
      ]
     },
     "execution_count": 27,
     "metadata": {},
     "output_type": "execute_result"
    },
    {
     "data": {
      "image/png": "[encoded data removed]",
      "text/plain": [
       "<Figure size 1080x504 with 1 Axes>"
      ]
     },
     "metadata": {
      "needs_background": "light"
     },
     "output_type": "display_data"
    }
   ],
   "source": [
    "get_domain_accuracies(experiment)"
   ]
  },
  {
   "cell_type": "code",
   "execution_count": 28,
   "id": "a74ae082",
   "metadata": {
    "execution": {
     "iopub.execute_input": "2022-03-22T18:29:37.039423Z",
     "iopub.status.busy": "2022-03-22T18:29:37.039042Z",
     "iopub.status.idle": "2022-03-22T18:29:37.066282Z",
     "shell.execute_reply": "2022-03-22T18:29:37.066955Z"
    },
    "papermill": {
     "duration": 0.076131,
     "end_time": "2022-03-22T18:29:37.067151",
     "exception": false,
     "start_time": "2022-03-22T18:29:36.991020",
     "status": "completed"
    },
    "tags": []
   },
   "outputs": [
    {
     "name": "stdout",
     "output_type": "stream",
     "text": [
      "Source Test Label Accuracy: 0.9983848314606741 Target Test Label Accuracy: 0.39501953125\n",
      "Source Val Label Accuracy: 0.99825 Target Val Label Accuracy: 0.3958333333333333\n"
     ]
    }
   ],
   "source": [
    "print(\"Source Test Label Accuracy:\", experiment[\"results\"][\"source_test_label_accuracy\"], \"Target Test Label Accuracy:\", experiment[\"results\"][\"target_test_label_accuracy\"])\n",
    "print(\"Source Val Label Accuracy:\", experiment[\"results\"][\"source_val_label_accuracy\"], \"Target Val Label Accuracy:\", experiment[\"results\"][\"target_val_label_accuracy\"])"
   ]
  },
  {
   "cell_type": "code",
   "execution_count": 29,
   "id": "dacca602",
   "metadata": {
    "execution": {
     "iopub.execute_input": "2022-03-22T18:29:37.161273Z",
     "iopub.status.busy": "2022-03-22T18:29:37.160715Z",
     "iopub.status.idle": "2022-03-22T18:29:37.191377Z",
     "shell.execute_reply": "2022-03-22T18:29:37.192174Z"
    },
    "papermill": {
     "duration": 0.078277,
     "end_time": "2022-03-22T18:29:37.192378",
     "exception": false,
     "start_time": "2022-03-22T18:29:37.114101",
     "status": "completed"
    },
    "tags": [
     "experiment_json"
    ]
   },
   "outputs": [
    {
     "data": {
      "text/plain": [
       "'{\"experiment_name\": \"tl_1v2:cores-oracle.run1.limited\", \"parameters\": {\"experiment_name\": \"tl_1v2:cores-oracle.run1.limited\", \"device\": \"cuda\", \"lr\": 0.0001, \"n_shot\": 3, \"n_query\": 2, \"train_k_factor\": 3, \"val_k_factor\": 2, \"test_k_factor\": 2, \"torch_default_dtype\": \"torch.float32\", \"n_epoch\": 50, \"patience\": 3, \"criteria_for_best\": \"target_accuracy\", \"x_net\": [{\"class\": \"nnReshape\", \"kargs\": {\"shape\": [-1, 1, 2, 256]}}, {\"class\": \"Conv2d\", \"kargs\": {\"in_channels\": 1, \"out_channels\": 256, \"kernel_size\": [1, 7], \"bias\": false, \"padding\": [0, 3]}}, {\"class\": \"ReLU\", \"kargs\": {\"inplace\": true}}, {\"class\": \"BatchNorm2d\", \"kargs\": {\"num_features\": 256}}, {\"class\": \"Conv2d\", \"kargs\": {\"in_channels\": 256, \"out_channels\": 80, \"kernel_size\": [2, 7], \"bias\": true, \"padding\": [0, 3]}}, {\"class\": \"ReLU\", \"kargs\": {\"inplace\": true}}, {\"class\": \"BatchNorm2d\", \"kargs\": {\"num_features\": 80}}, {\"class\": \"Flatten\", \"kargs\": {}}, {\"class\": \"Linear\", \"kargs\": {\"in_features\": 20480, \"out_features\": 256}}, {\"class\": \"ReLU\", \"kargs\": {\"inplace\": true}}, {\"class\": \"BatchNorm1d\", \"kargs\": {\"num_features\": 256}}, {\"class\": \"Linear\", \"kargs\": {\"in_features\": 256, \"out_features\": 256}}], \"NUM_LOGS_PER_EPOCH\": 10, \"BEST_MODEL_PATH\": \"./best_model.pth\", \"n_way\": 16, \"datasets\": [{\"labels\": [\"1-10.\", \"1-11.\", \"1-15.\", \"1-16.\", \"1-17.\", \"1-18.\", \"1-19.\", \"10-4.\", \"10-7.\", \"11-1.\", \"11-14.\", \"11-17.\", \"11-20.\", \"11-7.\", \"13-20.\", \"13-8.\", \"14-10.\", \"14-11.\", \"14-14.\", \"14-7.\", \"15-1.\", \"15-20.\", \"16-1.\", \"16-16.\", \"17-10.\", \"17-11.\", \"17-2.\", \"19-1.\", \"19-16.\", \"19-19.\", \"19-20.\", \"19-3.\", \"2-10.\", \"2-11.\", \"2-17.\", \"2-18.\", \"2-20.\", \"2-3.\", \"2-4.\", \"2-5.\", \"2-6.\", \"2-7.\", \"2-8.\", \"3-13.\", \"3-18.\", \"3-3.\", \"4-1.\", \"4-10.\", \"4-11.\", \"4-19.\", \"5-5.\", \"6-15.\", \"7-10.\", \"7-14.\", \"8-18.\", \"8-20.\", \"8-3.\", \"8-8.\"], \"domains\": [1, 2, 3, 4, 5], \"num_examples_per_domain_per_label\": -1, \"pickle_path\": \"/root/csc500-main/datasets/cores.stratified_ds.2022A.pkl\", \"source_or_target_dataset\": \"source\", \"x_transforms\": [], \"episode_transforms\": [], \"domain_prefix\": \"CORES_\"}, {\"labels\": [\"3123D52\", \"3123D65\", \"3123D79\", \"3123D80\", \"3123D54\", \"3123D70\", \"3123D7B\", \"3123D89\", \"3123D58\", \"3123D76\", \"3123D7D\", \"3123EFE\", \"3123D64\", \"3123D78\", \"3123D7E\", \"3124E4A\"], \"domains\": [32, 38, 8, 44, 14, 50, 20, 26], \"num_examples_per_domain_per_label\": 2000, \"pickle_path\": \"/root/csc500-main/datasets/oracle.Run1_10kExamples_stratified_ds.2022A.pkl\", \"source_or_target_dataset\": \"target\", \"x_transforms\": [], \"episode_transforms\": [], \"domain_prefix\": \"ORACLE.run1_\"}], \"dataset_seed\": 500, \"seed\": 500, \"x_shape\": [2, 256], \"domains_source\": [\"CORES_1\", \"CORES_2\", \"CORES_3\", \"CORES_4\", \"CORES_5\"], \"domains_target\": [\"ORACLE.run1_32\", \"ORACLE.run1_38\", \"ORACLE.run1_8\", \"ORACLE.run1_44\", \"ORACLE.run1_14\", \"ORACLE.run1_50\", \"ORACLE.run1_20\", \"ORACLE.run1_26\"]}, \"results\": {\"source_test_label_accuracy\": 0.9983848314606741, \"source_test_label_loss\": 0.007528386078774929, \"target_test_label_accuracy\": 0.39501953125, \"target_test_label_loss\": 2.008640766143799, \"source_val_label_accuracy\": 0.99825, \"source_val_label_loss\": 0.009553978219628334, \"target_val_label_accuracy\": 0.3958333333333333, \"target_val_label_loss\": 2.0066978931427, \"total_epochs_trained\": 5, \"total_experiment_time_secs\": 821.9637479782104, \"confusion\": {\"CORES_4\": {\"38\": {\"38\": 40}, \"3\": {\"3\": 124}, \"24\": {\"24\": 56}, \"49\": {\"49\": 20}, \"7\": {\"7\": 24}, \"17\": {\"17\": 80}, \"43\": {\"43\": 148}, \"30\": {\"30\": 44}, \"44\": {\"44\": 132}, \"23\": {\"23\": 144}, \"37\": {\"37\": 24}, \"4\": {\"4\": 132}, \"57\": {\"57\": 100}, \"16\": {\"16\": 96}, \"18\": {\"18\": 107, \"20\": 1}, \"20\": {\"20\": 124}, \"45\": {\"45\": 96}, \"15\": {\"15\": 132}, \"52\": {\"52\": 116}, \"19\": {\"19\": 139, \"28\": 1}, \"54\": {\"54\": 108}, \"56\": {\"56\": 130}, \"40\": {\"40\": 134}, \"28\": {\"28\": 31, \"34\": 1}, \"2\": {\"2\": 36}, \"9\": {\"9\": 120}, \"0\": {\"0\": 80}, \"36\": {\"36\": 91, \"51\": 1}, \"55\": {\"55\": 130}, \"35\": {\"35\": 40}, \"39\": {\"39\": 20}, \"31\": {\"31\": 28}, \"14\": {\"14\": 13, \"38\": 2, \"1\": 1}, \"12\": {\"12\": 92}, \"6\": {\"6\": 112}, \"26\": {\"26\": 24}, \"50\": {\"50\": 132}, \"21\": {\"21\": 122}, \"46\": {\"46\": 139, \"22\": 1}, \"51\": {\"51\": 140}, \"41\": {\"41\": 36}, \"34\": {\"34\": 23, \"28\": 1}, \"47\": {\"47\": 120}, \"5\": {\"5\": 108}, \"1\": {\"1\": 40}, \"48\": {\"48\": 134}, \"29\": {\"29\": 118}, \"22\": {\"22\": 128}, \"10\": {\"10\": 132}, \"32\": {\"32\": 24}, \"13\": {\"13\": 112}, \"42\": {\"42\": 32}, \"27\": {\"27\": 138}, \"8\": {\"8\": 142}, \"33\": {\"33\": 36}, \"25\": {\"25\": 131, \"18\": 1}, \"11\": {\"11\": 103, \"15\": 1}, \"53\": {\"53\": 112}}, \"CORES_2\": {\"32\": {\"32\": 28}, \"17\": {\"17\": 104}, \"38\": {\"38\": 20}, \"2\": {\"2\": 32}, \"43\": {\"43\": 143, \"37\": 1}, \"56\": {\"56\": 144}, \"37\": {\"37\": 36}, \"49\": {\"49\": 23, \"32\": 1}, \"0\": {\"0\": 48}, \"29\": {\"29\": 128}, \"35\": {\"35\": 32}, \"18\": {\"18\": 48}, \"25\": {\"25\": 136}, \"23\": {\"23\": 124}, \"15\": {\"15\": 146}, \"21\": {\"21\": 120}, \"51\": {\"51\": 127, \"36\": 1}, \"20\": {\"20\": 138}, \"7\": {\"7\": 36}, \"50\": {\"50\": 136}, \"31\": {\"31\": 28}, \"30\": {\"30\": 140}, \"19\": {\"19\": 156}, \"9\": {\"9\": 144}, \"52\": {\"52\": 124}, \"45\": {\"45\": 128}, \"8\": {\"8\": 154}, \"55\": {\"55\": 160}, \"12\": {\"12\": 92}, \"40\": {\"40\": 139, \"29\": 1}, \"28\": {\"28\": 28}, \"36\": {\"36\": 116}, \"39\": {\"39\": 28}, \"46\": {\"46\": 122}, \"14\": {\"14\": 24}, \"57\": {\"57\": 142}, \"34\": {\"34\": 27, \"23\": 1}, \"1\": {\"1\": 112}, \"53\": {\"53\": 136}, \"48\": {\"48\": 130}, \"3\": {\"3\": 92}, \"16\": {\"16\": 152}, \"6\": {\"6\": 124}, \"10\": {\"10\": 112}, \"13\": {\"13\": 116}, \"26\": {\"26\": 24}, \"24\": {\"24\": 94, \"13\": 2}, \"44\": {\"44\": 100}, \"27\": {\"27\": 150}, \"22\": {\"22\": 128}, \"33\": {\"33\": 28}, \"47\": {\"47\": 118}, \"5\": {\"5\": 120}, \"4\": {\"4\": 138}, \"41\": {\"41\": 20}, \"11\": {\"11\": 150}, \"54\": {\"54\": 108}, \"42\": {\"42\": 36}}, \"CORES_3\": {\"5\": {\"5\": 116}, \"32\": {\"32\": 28}, \"33\": {\"33\": 28}, \"49\": {\"49\": 20}, \"39\": {\"39\": 16}, \"11\": {\"11\": 142}, \"8\": {\"8\": 116}, \"26\": {\"26\": 24}, \"51\": {\"51\": 122}, \"4\": {\"4\": 146}, \"52\": {\"52\": 118}, \"47\": {\"47\": 92}, \"17\": {\"17\": 105, \"53\": 2, \"56\": 1}, \"53\": {\"53\": 136}, \"2\": {\"2\": 32}, \"12\": {\"12\": 92}, \"37\": {\"37\": 28}, \"9\": {\"9\": 148}, \"13\": {\"13\": 128}, \"54\": {\"54\": 100}, \"31\": {\"31\": 28}, \"34\": {\"34\": 32}, \"24\": {\"24\": 104}, \"7\": {\"7\": 36}, \"50\": {\"50\": 115, \"46\": 1, \"6\": 1, \"3\": 1}, \"46\": {\"46\": 128}, \"44\": {\"44\": 88}, \"40\": {\"40\": 116}, \"21\": {\"21\": 127, \"50\": 1}, \"45\": {\"45\": 60}, \"16\": {\"16\": 126}, \"14\": {\"14\": 39, \"31\": 1}, \"36\": {\"36\": 100}, \"56\": {\"56\": 114}, \"10\": {\"10\": 64}, \"18\": {\"18\": 84}, \"48\": {\"48\": 116}, \"38\": {\"38\": 28}, \"27\": {\"27\": 130}, \"42\": {\"42\": 28}, \"15\": {\"15\": 131, \"11\": 2, \"16\": 1}, \"1\": {\"1\": 100}, \"28\": {\"28\": 28}, \"43\": {\"43\": 136}, \"0\": {\"0\": 124}, \"57\": {\"57\": 124}, \"3\": {\"3\": 148}, \"29\": {\"29\": 124}, \"41\": {\"41\": 27, \"48\": 1}, \"25\": {\"25\": 146}, \"6\": {\"6\": 87, \"46\": 1}, \"35\": {\"35\": 28}, \"20\": {\"20\": 126}, \"23\": {\"23\": 134}, \"22\": {\"22\": 140}, \"19\": {\"19\": 116}, \"55\": {\"55\": 124}, \"30\": {\"30\": 120}}, \"CORES_1\": {\"24\": {\"24\": 108}, \"25\": {\"25\": 140}, \"45\": {\"45\": 143, \"56\": 1}, \"42\": {\"19\": 1, \"42\": 39}, \"2\": {\"2\": 36}, \"9\": {\"9\": 150}, \"21\": {\"21\": 124}, \"26\": {\"26\": 24}, \"49\": {\"49\": 32}, \"39\": {\"39\": 26, \"47\": 2}, \"46\": {\"46\": 136}, \"17\": {\"17\": 64}, \"19\": {\"19\": 156}, \"23\": {\"23\": 132}, \"1\": {\"1\": 100}, \"29\": {\"29\": 140}, \"56\": {\"56\": 150}, \"37\": {\"37\": 32}, \"33\": {\"33\": 32}, \"55\": {\"55\": 142}, \"30\": {\"30\": 120}, \"0\": {\"0\": 152}, \"36\": {\"36\": 64}, \"32\": {\"32\": 30, \"55\": 2}, \"31\": {\"31\": 28}, \"15\": {\"15\": 138}, \"12\": {\"12\": 116}, \"38\": {\"38\": 24}, \"40\": {\"40\": 146}, \"14\": {\"14\": 23, \"30\": 1}, \"13\": {\"13\": 150}, \"48\": {\"48\": 148}, \"34\": {\"34\": 24}, \"44\": {\"44\": 130}, \"5\": {\"5\": 152}, \"11\": {\"11\": 140}, \"7\": {\"7\": 28}, \"18\": {\"18\": 72}, \"52\": {\"52\": 132}, \"51\": {\"51\": 142}, \"41\": {\"41\": 24}, \"16\": {\"16\": 140}, \"22\": {\"22\": 134}, \"3\": {\"3\": 140}, \"54\": {\"54\": 104}, \"27\": {\"27\": 144}, \"20\": {\"20\": 140}, \"8\": {\"8\": 138}, \"50\": {\"50\": 144}, \"57\": {\"57\": 140}, \"4\": {\"4\": 132}, \"47\": {\"47\": 146}, \"10\": {\"10\": 95, \"28\": 1}, \"35\": {\"35\": 36}, \"53\": {\"53\": 126}, \"6\": {\"6\": 96}, \"43\": {\"43\": 140}, \"28\": {\"28\": 28}}, \"CORES_5\": {\"35\": {\"35\": 36}, \"57\": {\"57\": 132}, \"20\": {\"20\": 144}, \"12\": {\"12\": 96}, \"32\": {\"32\": 30, \"27\": 2}, \"25\": {\"25\": 138}, \"44\": {\"44\": 148}, \"31\": {\"31\": 36}, \"11\": {\"11\": 150}, \"47\": {\"47\": 100}, \"23\": {\"23\": 124}, \"43\": {\"43\": 144}, \"37\": {\"37\": 24}, \"5\": {\"5\": 128}, \"45\": {\"45\": 124}, \"7\": {\"7\": 32}, \"13\": {\"13\": 136}, \"49\": {\"49\": 36}, \"46\": {\"46\": 148}, \"16\": {\"16\": 136}, \"54\": {\"54\": 112}, \"19\": {\"19\": 152}, \"55\": {\"55\": 150}, \"30\": {\"30\": 128}, \"34\": {\"34\": 36}, \"50\": {\"50\": 134}, \"3\": {\"3\": 100}, \"10\": {\"10\": 68}, \"27\": {\"27\": 141, \"32\": 1}, \"33\": {\"33\": 31, \"36\": 1}, \"56\": {\"56\": 142}, \"9\": {\"9\": 150}, \"14\": {\"14\": 44}, \"4\": {\"4\": 100}, \"42\": {\"42\": 40}, \"24\": {\"24\": 80}, \"39\": {\"39\": 20}, \"52\": {\"52\": 130}, \"2\": {\"2\": 28}, \"28\": {\"28\": 32}, \"53\": {\"53\": 122}, \"17\": {\"17\": 116}, \"29\": {\"29\": 132}, \"38\": {\"38\": 29, \"7\": 1, \"53\": 2}, \"15\": {\"15\": 144}, \"26\": {\"26\": 22, \"55\": 2}, \"21\": {\"21\": 144}, \"41\": {\"41\": 28}, \"48\": {\"48\": 136}, \"22\": {\"22\": 28}, \"8\": {\"8\": 148}, \"18\": {\"18\": 64}, \"0\": {\"0\": 122}, \"1\": {\"1\": 138}, \"40\": {\"40\": 124}, \"6\": {\"6\": 127, \"50\": 1}, \"51\": {\"51\": 142}, \"36\": {\"36\": 92}}, \"ORACLE.run1_50\": {\"7\": {\"7\": 111, \"4\": 94, \"5\": 24, \"15\": 5, \"9\": 2, \"6\": 4}, \"10\": {\"0\": 54, \"10\": 114, \"8\": 55, \"1\": 10, \"13\": 1, \"2\": 4, \"14\": 2}, \"0\": {\"2\": 54, \"0\": 94, \"10\": 42, \"8\": 4, \"14\": 44, \"1\": 2}, \"11\": {\"13\": 20, \"12\": 47, \"11\": 92, \"3\": 27, \"5\": 5, \"15\": 16, \"9\": 15, \"6\": 18}, \"2\": {\"0\": 49, \"2\": 95, \"10\": 10, \"14\": 86}, \"14\": {\"14\": 102, \"0\": 42, \"2\": 82, \"10\": 14}, \"9\": {\"5\": 29, \"9\": 55, \"15\": 40, \"11\": 13, \"6\": 38, \"3\": 11, \"12\": 41, \"7\": 7, \"13\": 3, \"4\": 3}, \"13\": {\"13\": 137, \"5\": 1, \"11\": 28, \"3\": 8, \"1\": 45, \"8\": 13, \"15\": 1, \"6\": 3, \"12\": 3, \"9\": 1}, \"8\": {\"8\": 115, \"1\": 64, \"10\": 42, \"13\": 18, \"0\": 1}, \"15\": {\"5\": 38, \"9\": 36, \"6\": 50, \"15\": 54, \"11\": 14, \"3\": 26, \"7\": 4, \"13\": 2, \"12\": 12, \"4\": 3, \"1\": 1}, \"4\": {\"7\": 116, \"4\": 80, \"9\": 5, \"15\": 4, \"5\": 31, \"6\": 4}, \"5\": {\"3\": 10, \"11\": 18, \"5\": 54, \"7\": 40, \"1\": 3, \"15\": 28, \"6\": 23, \"9\": 17, \"4\": 35, \"13\": 8, \"12\": 4}, \"3\": {\"15\": 28, \"3\": 96, \"5\": 19, \"11\": 27, \"9\": 11, \"6\": 36, \"12\": 16, \"7\": 2, \"13\": 5}, \"1\": {\"1\": 114, \"10\": 19, \"8\": 44, \"11\": 5, \"13\": 51, \"12\": 2, \"3\": 3, \"0\": 2}, \"6\": {\"9\": 44, \"5\": 29, \"6\": 47, \"15\": 46, \"3\": 37, \"4\": 2, \"11\": 14, \"12\": 17, \"7\": 4}, \"12\": {\"11\": 41, \"12\": 107, \"6\": 23, \"15\": 17, \"9\": 39, \"5\": 5, \"3\": 8}}, \"ORACLE.run1_14\": {\"14\": {\"0\": 46, \"2\": 26, \"5\": 23, \"7\": 11, \"3\": 17, \"14\": 62, \"13\": 21, \"12\": 6, \"8\": 9, \"6\": 16, \"10\": 1, \"4\": 2}, \"6\": {\"3\": 63, \"0\": 9, \"2\": 15, \"14\": 29, \"6\": 78, \"7\": 12, \"13\": 31, \"15\": 1, \"5\": 2}, \"5\": {\"7\": 27, \"0\": 19, \"8\": 36, \"12\": 9, \"5\": 58, \"13\": 9, \"3\": 4, \"2\": 38, \"14\": 19, \"4\": 19, \"6\": 1, \"10\": 1}, \"15\": {\"15\": 240}, \"11\": {\"11\": 239, \"1\": 1}, \"8\": {\"6\": 2, \"8\": 81, \"12\": 20, \"0\": 27, \"2\": 19, \"4\": 11, \"7\": 31, \"14\": 6, \"3\": 9, \"5\": 31, \"1\": 1, \"13\": 2}, \"12\": {\"5\": 18, \"4\": 24, \"12\": 117, \"0\": 18, \"8\": 30, \"14\": 10, \"2\": 8, \"10\": 7, \"13\": 7, \"3\": 1}, \"1\": {\"1\": 140, \"9\": 60, \"4\": 10, \"10\": 29, \"5\": 1}, \"2\": {\"10\": 11, \"14\": 28, \"13\": 21, \"4\": 39, \"5\": 31, \"2\": 31, \"8\": 11, \"6\": 13, \"0\": 23, \"7\": 6, \"3\": 15, \"12\": 11}, \"13\": {\"15\": 21, \"3\": 35, \"2\": 23, \"5\": 14, \"0\": 12, \"6\": 53, \"13\": 30, \"14\": 22, \"4\": 9, \"8\": 4, \"10\": 5, \"7\": 10, \"12\": 2}, \"3\": {\"7\": 26, \"0\": 21, \"3\": 59, \"13\": 28, \"6\": 48, \"14\": 35, \"8\": 7, \"2\": 9, \"5\": 7}, \"0\": {\"3\": 27, \"6\": 23, \"5\": 27, \"0\": 30, \"8\": 22, \"14\": 39, \"2\": 24, \"7\": 15, \"13\": 13, \"9\": 1, \"4\": 5, \"12\": 13, \"10\": 1}, \"9\": {\"1\": 63, \"9\": 125, \"10\": 47, \"4\": 2, \"12\": 3}, \"4\": {\"4\": 100, \"8\": 14, \"5\": 22, \"2\": 17, \"10\": 42, \"12\": 15, \"1\": 8, \"9\": 7, \"0\": 9, \"7\": 2, \"13\": 3, \"14\": 1}, \"7\": {\"7\": 104, \"3\": 23, \"8\": 35, \"5\": 25, \"6\": 8, \"0\": 9, \"14\": 11, \"13\": 10, \"4\": 1, \"2\": 13, \"12\": 1}, \"10\": {\"10\": 119, \"4\": 32, \"1\": 24, \"9\": 37, \"14\": 3, \"12\": 13, \"13\": 1, \"2\": 6, \"8\": 1, \"0\": 3, \"5\": 1}}, \"ORACLE.run1_32\": {\"4\": {\"4\": 71, \"2\": 69, \"13\": 33, \"9\": 7, \"3\": 39, \"1\": 10, \"14\": 6, \"8\": 4, \"0\": 1}, \"14\": {\"7\": 39, \"14\": 65, \"5\": 33, \"2\": 25, \"8\": 34, \"1\": 2, \"0\": 37, \"15\": 1, \"4\": 3, \"3\": 1}, \"5\": {\"0\": 30, \"7\": 58, \"15\": 29, \"14\": 21, \"5\": 83, \"8\": 18, \"2\": 1}, \"10\": {\"6\": 18, \"12\": 43, \"10\": 178, \"9\": 1}, \"13\": {\"9\": 30, \"13\": 81, \"3\": 64, \"4\": 31, \"11\": 18, \"2\": 13, \"12\": 2, \"1\": 1}, \"9\": {\"12\": 46, \"9\": 71, \"11\": 46, \"3\": 13, \"13\": 40, \"1\": 2, \"10\": 3, \"4\": 14, \"2\": 5}, \"6\": {\"6\": 217, \"12\": 3, \"10\": 19, \"11\": 1}, \"3\": {\"3\": 88, \"13\": 71, \"4\": 41, \"2\": 26, \"9\": 11, \"8\": 2, \"11\": 1}, \"15\": {\"15\": 186, \"0\": 13, \"8\": 15, \"14\": 5, \"5\": 18, \"7\": 3}, \"7\": {\"8\": 17, \"5\": 51, \"7\": 76, \"15\": 8, \"14\": 48, \"0\": 39, \"2\": 1}, \"12\": {\"12\": 155, \"11\": 16, \"9\": 18, \"10\": 49, \"13\": 1, \"6\": 1}, \"8\": {\"8\": 75, \"5\": 16, \"2\": 17, \"0\": 28, \"15\": 26, \"14\": 30, \"1\": 6, \"4\": 12, \"3\": 4, \"7\": 22, \"13\": 4}, \"11\": {\"11\": 158, \"13\": 13, \"12\": 10, \"9\": 53, \"3\": 6}, \"2\": {\"2\": 81, \"4\": 64, \"3\": 20, \"8\": 19, \"11\": 1, \"1\": 8, \"14\": 26, \"13\": 10, \"5\": 1, \"9\": 2, \"0\": 6, \"7\": 2}, \"1\": {\"1\": 186, \"14\": 5, \"13\": 4, \"2\": 14, \"4\": 11, \"0\": 5, \"8\": 10, \"15\": 1, \"9\": 3, \"3\": 1}, \"0\": {\"8\": 50, \"7\": 53, \"5\": 28, \"14\": 37, \"0\": 54, \"2\": 6, \"15\": 11, \"1\": 1}}, \"ORACLE.run1_44\": {\"8\": {\"8\": 78, \"3\": 1, \"0\": 53, \"1\": 26, \"15\": 44, \"2\": 18, \"5\": 10, \"14\": 6, \"12\": 1, \"4\": 1, \"10\": 2}, \"11\": {\"11\": 240}, \"14\": {\"7\": 25, \"8\": 2, \"4\": 32, \"5\": 45, \"9\": 16, \"15\": 24, \"10\": 29, \"14\": 54, \"2\": 11, \"1\": 2}, \"10\": {\"10\": 56, \"14\": 30, \"9\": 25, \"7\": 57, \"2\": 14, \"6\": 4, \"4\": 28, \"0\": 2, \"5\": 9, \"15\": 8, \"1\": 5, \"8\": 2}, \"3\": {\"12\": 109, \"3\": 118, \"0\": 11, \"1\": 2}, \"15\": {\"8\": 47, \"4\": 15, \"15\": 71, \"14\": 30, \"7\": 4, \"1\": 7, \"0\": 10, \"9\": 1, \"5\": 25, \"2\": 23, \"10\": 7}, \"2\": {\"2\": 107, \"8\": 11, \"5\": 14, \"1\": 52, \"15\": 20, \"10\": 16, \"0\": 6, \"4\": 4, \"7\": 2, \"9\": 3, \"14\": 5}, \"12\": {\"12\": 131, \"3\": 108, \"0\": 1}, \"4\": {\"4\": 39, \"5\": 19, \"7\": 31, \"9\": 37, \"6\": 22, \"2\": 16, \"10\": 20, \"14\": 28, \"15\": 13, \"13\": 9, \"1\": 5, \"8\": 1}, \"1\": {\"0\": 30, \"2\": 42, \"8\": 35, \"1\": 98, \"7\": 1, \"15\": 22, \"4\": 2, \"3\": 2, \"10\": 2, \"14\": 3, \"5\": 2, \"12\": 1}, \"0\": {\"0\": 132, \"1\": 39, \"2\": 9, \"8\": 49, \"15\": 5, \"3\": 5, \"14\": 1}, \"9\": {\"9\": 35, \"10\": 30, \"7\": 38, \"2\": 13, \"5\": 11, \"6\": 38, \"13\": 39, \"1\": 1, \"4\": 24, \"11\": 2, \"15\": 3, \"8\": 1, \"14\": 5}, \"5\": {\"1\": 6, \"14\": 38, \"4\": 34, \"8\": 7, \"7\": 18, \"15\": 33, \"2\": 12, \"9\": 16, \"5\": 52, \"10\": 24}, \"6\": {\"6\": 123, \"13\": 81, \"9\": 25, \"4\": 4, \"10\": 3, \"7\": 4}, \"7\": {\"10\": 41, \"7\": 70, \"9\": 51, \"4\": 32, \"14\": 25, \"6\": 9, \"15\": 1, \"5\": 9, \"2\": 2}, \"13\": {\"13\": 127, \"6\": 84, \"4\": 2, \"9\": 16, \"11\": 10, \"7\": 1}}, \"ORACLE.run1_8\": {\"13\": {\"10\": 39, \"1\": 15, \"6\": 16, \"13\": 83, \"5\": 40, \"11\": 9, \"7\": 34, \"4\": 2, \"12\": 2}, \"3\": {\"3\": 200, \"2\": 23, \"9\": 15, \"15\": 2}, \"15\": {\"12\": 76, \"15\": 119, \"2\": 45}, \"4\": {\"4\": 60, \"8\": 54, \"14\": 46, \"10\": 3, \"6\": 22, \"7\": 8, \"5\": 3, \"11\": 28, \"1\": 14, \"13\": 2}, \"7\": {\"6\": 26, \"10\": 31, \"7\": 59, \"11\": 13, \"13\": 31, \"5\": 27, \"4\": 12, \"1\": 32, \"8\": 9}, \"2\": {\"2\": 106, \"15\": 56, \"12\": 24, \"3\": 53, \"9\": 1}, \"1\": {\"11\": 29, \"1\": 46, \"13\": 22, \"5\": 31, \"7\": 18, \"6\": 32, \"4\": 10, \"8\": 19, \"10\": 30, \"14\": 3}, \"0\": {\"0\": 240}, \"12\": {\"12\": 136, \"2\": 14, \"15\": 87, \"13\": 2, \"5\": 1}, \"6\": {\"7\": 45, \"1\": 31, \"6\": 47, \"10\": 25, \"11\": 23, \"8\": 12, \"5\": 17, \"4\": 22, \"13\": 18}, \"11\": {\"10\": 14, \"6\": 22, \"14\": 26, \"1\": 30, \"13\": 9, \"7\": 10, \"11\": 42, \"4\": 32, \"8\": 41, \"5\": 14}, \"9\": {\"9\": 211, \"3\": 26, \"2\": 3}, \"5\": {\"8\": 4, \"4\": 9, \"1\": 25, \"6\": 21, \"11\": 12, \"7\": 27, \"5\": 43, \"10\": 33, \"13\": 55, \"12\": 7, \"14\": 3, \"15\": 1}, \"10\": {\"5\": 36, \"13\": 47, \"10\": 38, \"6\": 32, \"8\": 8, \"4\": 6, \"7\": 39, \"1\": 20, \"11\": 12, \"14\": 2}, \"14\": {\"14\": 126, \"7\": 2, \"4\": 43, \"5\": 1, \"11\": 24, \"8\": 32, \"1\": 6, \"6\": 3, \"0\": 2, \"10\": 1}, \"8\": {\"7\": 11, \"4\": 41, \"14\": 33, \"11\": 43, \"8\": 79, \"1\": 13, \"10\": 3, \"6\": 14, \"5\": 3}}, \"ORACLE.run1_20\": {\"6\": {\"1\": 23, \"12\": 23, \"6\": 36, \"7\": 20, \"5\": 11, \"14\": 10, \"13\": 13, \"9\": 19, \"2\": 21, \"4\": 23, \"8\": 4, \"10\": 8, \"15\": 21, \"3\": 8}, \"11\": {\"11\": 181, \"0\": 54, \"14\": 1, \"9\": 1, \"8\": 3}, \"5\": {\"5\": 33, \"14\": 20, \"8\": 28, \"3\": 28, \"9\": 34, \"15\": 15, \"13\": 5, \"1\": 27, \"7\": 18, \"4\": 7, \"6\": 9, \"12\": 7, \"2\": 4, \"0\": 3, \"11\": 2}, \"14\": {\"8\": 59, \"2\": 3, \"11\": 7, \"14\": 60, \"5\": 18, \"3\": 22, \"9\": 10, \"0\": 16, \"13\": 1, \"15\": 2, \"1\": 13, \"12\": 5, \"4\": 5, \"7\": 9, \"6\": 10}, \"2\": {\"3\": 13, \"12\": 28, \"2\": 22, \"10\": 13, \"5\": 11, \"9\": 18, \"13\": 21, \"7\": 20, \"6\": 21, \"15\": 24, \"1\": 17, \"4\": 23, \"14\": 6, \"8\": 3}, \"7\": {\"7\": 21, \"6\": 24, \"13\": 10, \"3\": 16, \"4\": 15, \"14\": 15, \"12\": 20, \"1\": 17, \"15\": 23, \"8\": 12, \"5\": 16, \"9\": 26, \"2\": 21, \"10\": 4}, \"3\": {\"0\": 15, \"1\": 19, \"9\": 20, \"12\": 6, \"2\": 10, \"7\": 14, \"8\": 37, \"14\": 25, \"3\": 36, \"13\": 3, \"4\": 12, \"5\": 26, \"15\": 6, \"11\": 3, \"6\": 7, \"10\": 1}, \"4\": {\"5\": 10, \"12\": 32, \"7\": 15, \"13\": 24, \"9\": 9, \"8\": 3, \"14\": 3, \"6\": 21, \"10\": 35, \"2\": 16, \"15\": 17, \"4\": 42, \"1\": 9, \"3\": 4}, \"9\": {\"1\": 26, \"5\": 30, \"8\": 13, \"3\": 17, \"9\": 26, \"12\": 23, \"7\": 23, \"6\": 22, \"2\": 15, \"14\": 14, \"15\": 16, \"0\": 4, \"13\": 3, \"4\": 7, \"11\": 1}, \"12\": {\"2\": 25, \"1\": 21, \"6\": 23, \"13\": 26, \"4\": 32, \"12\": 32, \"7\": 13, \"15\": 21, \"8\": 5, \"5\": 12, \"9\": 14, \"10\": 11, \"14\": 1, \"3\": 4}, \"0\": {\"11\": 43, \"1\": 3, \"0\": 124, \"8\": 27, \"3\": 10, \"5\": 9, \"14\": 19, \"9\": 2, \"7\": 2, \"6\": 1}, \"10\": {\"10\": 129, \"4\": 33, \"5\": 1, \"15\": 4, \"12\": 14, \"13\": 23, \"2\": 18, \"6\": 9, \"7\": 7, \"9\": 1, \"1\": 1}, \"8\": {\"1\": 11, \"8\": 58, \"3\": 33, \"9\": 11, \"14\": 46, \"15\": 2, \"0\": 31, \"6\": 8, \"5\": 26, \"11\": 4, \"12\": 2, \"7\": 6, \"2\": 1, \"13\": 1}, \"13\": {\"2\": 29, \"6\": 18, \"13\": 42, \"15\": 28, \"10\": 27, \"7\": 19, \"12\": 30, \"1\": 8, \"8\": 3, \"4\": 23, \"9\": 7, \"5\": 6}, \"1\": {\"14\": 17, \"5\": 29, \"3\": 18, \"1\": 37, \"6\": 14, \"15\": 16, \"7\": 13, \"2\": 13, \"12\": 16, \"9\": 31, \"13\": 13, \"8\": 11, \"0\": 4, \"4\": 6, \"10\": 2}, \"15\": {\"15\": 25, \"7\": 22, \"12\": 28, \"2\": 22, \"4\": 27, \"13\": 28, \"6\": 14, \"9\": 20, \"5\": 10, \"1\": 18, \"3\": 9, \"10\": 9, \"14\": 4, \"8\": 4}}, \"ORACLE.run1_38\": {\"3\": {\"3\": 237, \"11\": 2, \"0\": 1}, \"8\": {\"8\": 58, \"9\": 31, \"7\": 15, \"5\": 50, \"15\": 30, \"2\": 25, \"0\": 4, \"14\": 8, \"12\": 17, \"13\": 2}, \"0\": {\"0\": 54, \"13\": 72, \"4\": 12, \"3\": 6, \"10\": 63, \"2\": 12, \"7\": 14, \"14\": 6, \"8\": 1}, \"2\": {\"7\": 57, \"14\": 53, \"8\": 12, \"9\": 21, \"2\": 74, \"0\": 6, \"5\": 7, \"13\": 9, \"4\": 1}, \"4\": {\"4\": 188, \"7\": 3, \"10\": 9, \"0\": 13, \"13\": 10, \"14\": 16, \"2\": 1}, \"7\": {\"7\": 75, \"14\": 58, \"4\": 6, \"5\": 5, \"8\": 6, \"2\": 59, \"9\": 14, \"13\": 11, \"0\": 6}, \"12\": {\"12\": 186, \"5\": 16, \"8\": 29, \"15\": 5, \"9\": 2, \"14\": 1, \"2\": 1}, \"6\": {\"6\": 139, \"1\": 97, \"15\": 4}, \"15\": {\"15\": 149, \"9\": 8, \"5\": 30, \"1\": 10, \"6\": 5, \"12\": 21, \"8\": 16, \"2\": 1}, \"11\": {\"11\": 238, \"3\": 2}, \"9\": {\"5\": 39, \"9\": 131, \"7\": 19, \"8\": 28, \"2\": 18, \"15\": 1, \"0\": 1, \"14\": 2, \"13\": 1}, \"14\": {\"14\": 110, \"4\": 13, \"8\": 10, \"2\": 49, \"7\": 45, \"9\": 3, \"0\": 7, \"5\": 1, \"13\": 2}, \"10\": {\"10\": 143, \"0\": 62, \"13\": 23, \"4\": 9, \"14\": 2, \"3\": 1}, \"5\": {\"9\": 41, \"8\": 56, \"15\": 31, \"5\": 61, \"2\": 22, \"7\": 4, \"12\": 18, \"14\": 7}, \"1\": {\"6\": 112, \"1\": 124, \"15\": 4}, \"13\": {\"13\": 115, \"0\": 56, \"14\": 3, \"10\": 37, \"4\": 14, \"2\": 5, \"7\": 9, \"9\": 1}}, \"ORACLE.run1_26\": {\"5\": {\"0\": 1, \"15\": 40, \"5\": 79, \"11\": 43, \"6\": 33, \"14\": 10, \"1\": 20, \"10\": 14}, \"8\": {\"0\": 15, \"3\": 12, \"7\": 43, \"2\": 29, \"12\": 23, \"8\": 52, \"9\": 37, \"14\": 6, \"13\": 12, \"4\": 3, \"15\": 3, \"10\": 4, \"6\": 1}, \"4\": {\"4\": 182, \"13\": 27, \"3\": 20, \"9\": 5, \"2\": 1, \"12\": 3, \"7\": 2}, \"12\": {\"13\": 30, \"9\": 39, \"8\": 37, \"12\": 63, \"7\": 27, \"2\": 12, \"3\": 25, \"0\": 5, \"4\": 1, \"5\": 1}, \"6\": {\"15\": 39, \"6\": 44, \"1\": 40, \"5\": 37, \"14\": 29, \"10\": 22, \"0\": 12, \"11\": 14, \"9\": 1, \"2\": 2}, \"7\": {\"12\": 27, \"8\": 48, \"0\": 8, \"7\": 50, \"3\": 29, \"2\": 22, \"9\": 39, \"4\": 2, \"13\": 14, \"15\": 1}, \"10\": {\"6\": 14, \"15\": 40, \"7\": 2, \"1\": 26, \"14\": 35, \"0\": 39, \"10\": 50, \"5\": 20, \"9\": 3, \"8\": 2, \"12\": 1, \"2\": 7, \"11\": 1}, \"0\": {\"6\": 12, \"0\": 80, \"5\": 7, \"1\": 9, \"14\": 23, \"2\": 24, \"10\": 32, \"15\": 16, \"7\": 6, \"8\": 13, \"9\": 10, \"12\": 5, \"11\": 2, \"3\": 1}, \"15\": {\"15\": 48, \"6\": 47, \"10\": 24, \"5\": 48, \"11\": 7, \"1\": 29, \"0\": 13, \"14\": 22, \"9\": 1, \"2\": 1}, \"9\": {\"0\": 12, \"2\": 40, \"7\": 39, \"13\": 29, \"12\": 25, \"8\": 23, \"9\": 35, \"3\": 28, \"15\": 1, \"10\": 3, \"4\": 4, \"5\": 1}, \"11\": {\"15\": 20, \"5\": 30, \"11\": 129, \"6\": 28, \"1\": 26, \"10\": 3, \"14\": 4}, \"14\": {\"10\": 49, \"14\": 46, \"6\": 22, \"5\": 18, \"0\": 48, \"1\": 17, \"15\": 30, \"11\": 4, \"8\": 3, \"2\": 2, \"9\": 1}, \"2\": {\"8\": 35, \"0\": 22, \"7\": 30, \"9\": 39, \"5\": 5, \"13\": 17, \"2\": 39, \"12\": 22, \"3\": 10, \"14\": 7, \"4\": 2, \"10\": 8, \"6\": 1, \"15\": 3}, \"13\": {\"3\": 33, \"12\": 31, \"13\": 83, \"8\": 13, \"7\": 20, \"2\": 15, \"9\": 27, \"4\": 16, \"0\": 2}, \"3\": {\"9\": 36, \"4\": 19, \"3\": 60, \"7\": 35, \"8\": 15, \"13\": 45, \"2\": 15, \"12\": 13, \"0\": 2}, \"1\": {\"1\": 63, \"5\": 26, \"15\": 27, \"14\": 26, \"10\": 24, \"6\": 42, \"11\": 24, \"0\": 8}}}, \"per_domain_accuracy\": {\"CORES_4\": {\"accuracy\": 0.9979166666666667, \"source?\": true}, \"CORES_2\": {\"accuracy\": 0.9987710674157303, \"source?\": true}, \"CORES_3\": {\"accuracy\": 0.9975818452380952, \"source?\": true}, \"CORES_1\": {\"accuracy\": 0.9986486486486487, \"source?\": true}, \"CORES_5\": {\"accuracy\": 0.9982541899441341, \"source?\": true}, \"ORACLE.run1_50\": {\"accuracy\": 0.38203125, \"source?\": false}, \"ORACLE.run1_14\": {\"accuracy\": 0.4200520833333333, \"source?\": false}, \"ORACLE.run1_32\": {\"accuracy\": 0.4752604166666667, \"source?\": false}, \"ORACLE.run1_44\": {\"accuracy\": 0.39869791666666665, \"source?\": false}, \"ORACLE.run1_8\": {\"accuracy\": 0.42578125, \"source?\": false}, \"ORACLE.run1_20\": {\"accuracy\": 0.23541666666666666, \"source?\": false}, \"ORACLE.run1_38\": {\"accuracy\": 0.5421875, \"source?\": false}, \"ORACLE.run1_26\": {\"accuracy\": 0.2872395833333333, \"source?\": false}}}, \"history\": {\"epoch_indices\": [1, 2, 3, 4, 5], \"train_label_loss\": [0.02701911732556408, 0.009203939275874703, 0.006932016518201318, 0.005435668096809952, 0.0063385938222409715], \"source_val_label_loss\": [0.009553978219628334, 0.011906431056559086, 0.003844622988253832, 0.005519389174878597, 0.004748813807964325], \"target_val_label_loss\": [2.0066978931427, 2.0174660682678223, 1.8574975728988647, 1.9948574304580688, 1.9741936922073364], \"source_val_acc_label\": [0.99825, 0.9977857142857143, 0.9994642857142857, 0.9993928571428572, 0.9993928571428572], \"target_val_acc_label\": [0.3958333333333333, 0.36276041666666664, 0.3844075520833333, 0.35927734375, 0.35231119791666665]}, \"dataset_metrics\": {\"source\": {\"train\": {\"n_unique_x\": 175169, \"n_unique_y\": 58, \"n_batch/episode\": 6311}, \"val\": {\"n_unique_x\": 37166, \"n_unique_y\": 58, \"n_batch/episode\": 875}, \"test\": {\"n_unique_x\": 37642, \"n_unique_y\": 58, \"n_batch/episode\": 890}}, \"target\": {\"train\": {\"n_unique_x\": 179200, \"n_unique_y\": 16, \"n_batch/episode\": 6720}, \"val\": {\"n_unique_x\": 38400, \"n_unique_y\": 16, \"n_batch/episode\": 960}, \"test\": {\"n_unique_x\": 38400, \"n_unique_y\": 16, \"n_batch/episode\": 960}}}}'"
      ]
     },
     "execution_count": 29,
     "metadata": {},
     "output_type": "execute_result"
    }
   ],
   "source": [
    "json.dumps(experiment)"
   ]
  }
 ],
 "metadata": {
  "celltoolbar": "Tags",
  "kernelspec": {
   "display_name": "Python 3 (ipykernel)",
   "language": "python",
   "name": "python3"
  },
  "language_info": {
   "codemirror_mode": {
    "name": "ipython",
    "version": 3
   },
   "file_extension": ".py",
   "mimetype": "text/x-python",
   "name": "python",
   "nbconvert_exporter": "python",
   "pygments_lexer": "ipython3",
   "version": "3.8.12"
  },
  "papermill": {
   "default_parameters": {},
   "duration": 997.334383,
   "end_time": "2022-03-22T18:29:39.055034",
   "environment_variables": {},
   "exception": null,
   "input_path": "/root/csc500-main/csc500-notebooks/templates/tl_ptn_template.ipynb",
   "output_path": "trial.ipynb",
   "parameters": {
    "parameters": {
     "BEST_MODEL_PATH": "./best_model.pth",
     "NUM_LOGS_PER_EPOCH": 10,
     "criteria_for_best": "target_accuracy",
     "dataset_seed": 500,
     "datasets": [
      {
       "domain_prefix": "CORES_",
       "domains": [
        1,
        2,
        3,
        4,
        5
       ],
       "episode_transforms": [],
       "labels": [
        "1-10.",
        "1-11.",
        "1-15.",
        "1-16.",
        "1-17.",
        "1-18.",
        "1-19.",
        "10-4.",
        "10-7.",
        "11-1.",
        "11-14.",
        "11-17.",
        "11-20.",
        "11-7.",
        "13-20.",
        "13-8.",
        "14-10.",
        "14-11.",
        "14-14.",
        "14-7.",
        "15-1.",
        "15-20.",
        "16-1.",
        "16-16.",
        "17-10.",
        "17-11.",
        "17-2.",
        "19-1.",
        "19-16.",
        "19-19.",
        "19-20.",
        "19-3.",
        "2-10.",
        "2-11.",
        "2-17.",
        "2-18.",
        "2-20.",
        "2-3.",
        "2-4.",
        "2-5.",
        "2-6.",
        "2-7.",
        "2-8.",
        "3-13.",
        "3-18.",
        "3-3.",
        "4-1.",
        "4-10.",
        "4-11.",
        "4-19.",
        "5-5.",
        "6-15.",
        "7-10.",
        "7-14.",
        "8-18.",
        "8-20.",
        "8-3.",
        "8-8."
       ],
       "num_examples_per_domain_per_label": -1,
       "pickle_path": "/root/csc500-main/datasets/cores.stratified_ds.2022A.pkl",
       "source_or_target_dataset": "source",
       "x_transforms": []
      },
      {
       "domain_prefix": "ORACLE.run1_",
       "domains": [
        32,
        38,
        8,
        44,
        14,
        50,
        20,
        26
       ],
       "episode_transforms": [],
       "labels": [
        "3123D52",
        "3123D65",
        "3123D79",
        "3123D80",
        "3123D54",
        "3123D70",
        "3123D7B",
        "3123D89",
        "3123D58",
        "3123D76",
        "3123D7D",
        "3123EFE",
        "3123D64",
        "3123D78",
        "3123D7E",
        "3124E4A"
       ],
       "num_examples_per_domain_per_label": 2000,
       "pickle_path": "/root/csc500-main/datasets/oracle.Run1_10kExamples_stratified_ds.2022A.pkl",
       "source_or_target_dataset": "target",
       "x_transforms": []
      }
     ],
     "device": "cuda",
     "experiment_name": "tl_1v2:cores-oracle.run1.limited",
     "lr": 0.0001,
     "n_epoch": 50,
     "n_query": 2,
     "n_shot": 3,
     "n_way": 16,
     "patience": 3,
     "seed": 500,
     "test_k_factor": 2,
     "torch_default_dtype": "torch.float32",
     "train_k_factor": 3,
     "val_k_factor": 2,
     "x_net": [
      {
       "class": "nnReshape",
       "kargs": {
        "shape": [
         -1,
         1,
         2,
         256
        ]
       }
      },
      {
       "class": "Conv2d",
       "kargs": {
        "bias": false,
        "in_channels": 1,
        "kernel_size": [
         1,
         7
        ],
        "out_channels": 256,
        "padding": [
         0,
         3
        ]
       }
      },
      {
       "class": "ReLU",
       "kargs": {
        "inplace": true
       }
      },
      {
       "class": "BatchNorm2d",
       "kargs": {
        "num_features": 256
       }
      },
      {
       "class": "Conv2d",
       "kargs": {
        "bias": true,
        "in_channels": 256,
        "kernel_size": [
         2,
         7
        ],
        "out_channels": 80,
        "padding": [
         0,
         3
        ]
       }
      },
      {
       "class": "ReLU",
       "kargs": {
        "inplace": true
       }
      },
      {
       "class": "BatchNorm2d",
       "kargs": {
        "num_features": 80
       }
      },
      {
       "class": "Flatten",
       "kargs": {}
      },
      {
       "class": "Linear",
       "kargs": {
        "in_features": 20480,
        "out_features": 256
       }
      },
      {
       "class": "ReLU",
       "kargs": {
        "inplace": true
       }
      },
      {
       "class": "BatchNorm1d",
       "kargs": {
        "num_features": 256
       }
      },
      {
       "class": "Linear",
       "kargs": {
        "in_features": 256,
        "out_features": 256
       }
      }
     ]
    }
   },
   "start_time": "2022-03-22T18:13:01.720651",
   "version": "2.3.4"
  }
 },
 "nbformat": 4,
 "nbformat_minor": 5
}