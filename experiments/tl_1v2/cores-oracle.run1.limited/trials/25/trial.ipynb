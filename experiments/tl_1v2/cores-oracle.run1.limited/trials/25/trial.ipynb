{
 "cells": [
  {
   "cell_type": "markdown",
   "id": "9fea5f46",
   "metadata": {
    "papermill": {
     "duration": 0.029596,
     "end_time": "2022-03-22T17:45:22.934998",
     "exception": false,
     "start_time": "2022-03-22T17:45:22.905402",
     "status": "completed"
    },
    "tags": []
   },
   "source": [
    "# Transfer Learning Template"
   ]
  },
  {
   "cell_type": "code",
   "execution_count": 1,
   "id": "0902182a",
   "metadata": {
    "execution": {
     "iopub.execute_input": "2022-03-22T17:45:22.997069Z",
     "iopub.status.busy": "2022-03-22T17:45:22.996198Z",
     "iopub.status.idle": "2022-03-22T17:45:24.866472Z",
     "shell.execute_reply": "2022-03-22T17:45:24.867152Z"
    },
    "papermill": {
     "duration": 1.909888,
     "end_time": "2022-03-22T17:45:24.867493",
     "exception": false,
     "start_time": "2022-03-22T17:45:22.957605",
     "status": "completed"
    },
    "tags": []
   },
   "outputs": [],
   "source": [
    "%load_ext autoreload\n",
    "%autoreload 2\n",
    "%matplotlib inline\n",
    "\n",
    "    \n",
    "import os, json, sys, time, random\n",
    "import numpy as np\n",
    "import torch\n",
    "from torch.optim import Adam\n",
    "from  easydict import EasyDict\n",
    "import matplotlib.pyplot as plt\n",
    "\n",
    "from steves_models.steves_ptn import Steves_Prototypical_Network\n",
    "\n",
    "from steves_utils.lazy_iterable_wrapper import Lazy_Iterable_Wrapper\n",
    "from steves_utils.iterable_aggregator import Iterable_Aggregator\n",
    "from steves_utils.ptn_train_eval_test_jig import  PTN_Train_Eval_Test_Jig\n",
    "from steves_utils.torch_sequential_builder import build_sequential\n",
    "from steves_utils.torch_utils import get_dataset_metrics, ptn_confusion_by_domain_over_dataloader\n",
    "from steves_utils.utils_v2 import (per_domain_accuracy_from_confusion, get_datasets_base_path)\n",
    "from steves_utils.PTN.utils import independent_accuracy_assesment\n",
    "\n",
    "from torch.utils.data import DataLoader\n",
    "\n",
    "from steves_utils.stratified_dataset.episodic_accessor import Episodic_Accessor_Factory\n",
    "\n",
    "from steves_utils.ptn_do_report import (\n",
    "    get_loss_curve,\n",
    "    get_results_table,\n",
    "    get_parameters_table,\n",
    "    get_domain_accuracies,\n",
    ")\n",
    "\n",
    "from steves_utils.transforms import get_chained_transform"
   ]
  },
  {
   "cell_type": "markdown",
   "id": "41c840b4",
   "metadata": {
    "papermill": {
     "duration": 0.019801,
     "end_time": "2022-03-22T17:45:24.913673",
     "exception": false,
     "start_time": "2022-03-22T17:45:24.893872",
     "status": "completed"
    },
    "tags": []
   },
   "source": [
    "# Allowed Parameters\n",
    "These are allowed parameters, not defaults\n",
    "Each of these values need to be present in the injected parameters (the notebook will raise an exception if they are not present)\n",
    "\n",
    "Papermill uses the cell tag \"parameters\" to inject the real parameters below this cell.\n",
    "Enable tags to see what I mean"
   ]
  },
  {
   "cell_type": "code",
   "execution_count": 2,
   "id": "fd44eb83",
   "metadata": {
    "execution": {
     "iopub.execute_input": "2022-03-22T17:45:24.961159Z",
     "iopub.status.busy": "2022-03-22T17:45:24.960361Z",
     "iopub.status.idle": "2022-03-22T17:45:24.985824Z",
     "shell.execute_reply": "2022-03-22T17:45:24.986180Z"
    },
    "papermill": {
     "duration": 0.052239,
     "end_time": "2022-03-22T17:45:24.986319",
     "exception": false,
     "start_time": "2022-03-22T17:45:24.934080",
     "status": "completed"
    },
    "tags": []
   },
   "outputs": [],
   "source": [
    "required_parameters = {\n",
    "    \"experiment_name\",\n",
    "    \"lr\",\n",
    "    \"device\",\n",
    "    \"seed\",\n",
    "    \"dataset_seed\",\n",
    "    \"n_shot\",\n",
    "    \"n_query\",\n",
    "    \"n_way\",\n",
    "    \"train_k_factor\",\n",
    "    \"val_k_factor\",\n",
    "    \"test_k_factor\",\n",
    "    \"n_epoch\",\n",
    "    \"patience\",\n",
    "    \"criteria_for_best\",\n",
    "    \"x_net\",\n",
    "    \"datasets\",\n",
    "    \"torch_default_dtype\",\n",
    "    \"NUM_LOGS_PER_EPOCH\",\n",
    "    \"BEST_MODEL_PATH\",\n",
    "    \"x_shape\",\n",
    "}"
   ]
  },
  {
   "cell_type": "code",
   "execution_count": 3,
   "id": "fa3f0049",
   "metadata": {
    "execution": {
     "iopub.execute_input": "2022-03-22T17:45:25.036807Z",
     "iopub.status.busy": "2022-03-22T17:45:25.036391Z",
     "iopub.status.idle": "2022-03-22T17:45:25.063440Z",
     "shell.execute_reply": "2022-03-22T17:45:25.063110Z"
    },
    "papermill": {
     "duration": 0.056648,
     "end_time": "2022-03-22T17:45:25.063512",
     "exception": false,
     "start_time": "2022-03-22T17:45:25.006864",
     "status": "completed"
    },
    "tags": [
     "parameters"
    ]
   },
   "outputs": [],
   "source": [
    "from steves_utils.CORES.utils import (\n",
    "    ALL_NODES,\n",
    "    ALL_NODES_MINIMUM_1000_EXAMPLES,\n",
    "    ALL_DAYS\n",
    ")\n",
    "\n",
    "from steves_utils.ORACLE.utils_v2 import (\n",
    "    ALL_DISTANCES_FEET_NARROWED,\n",
    "    ALL_RUNS,\n",
    "    ALL_SERIAL_NUMBERS,\n",
    ")\n",
    "\n",
    "standalone_parameters = {}\n",
    "standalone_parameters[\"experiment_name\"] = \"STANDALONE PTN\"\n",
    "standalone_parameters[\"lr\"] = 0.001\n",
    "standalone_parameters[\"device\"] = \"cuda\"\n",
    "\n",
    "standalone_parameters[\"seed\"] = 1337\n",
    "standalone_parameters[\"dataset_seed\"] = 1337\n",
    "\n",
    "standalone_parameters[\"n_way\"] = 8\n",
    "standalone_parameters[\"n_shot\"] = 3\n",
    "standalone_parameters[\"n_query\"]  = 2\n",
    "standalone_parameters[\"train_k_factor\"] = 1\n",
    "standalone_parameters[\"val_k_factor\"] = 2\n",
    "standalone_parameters[\"test_k_factor\"] = 2\n",
    "\n",
    "\n",
    "standalone_parameters[\"n_epoch\"] = 50\n",
    "\n",
    "standalone_parameters[\"patience\"] = 10\n",
    "standalone_parameters[\"criteria_for_best\"] = \"source_loss\"\n",
    "\n",
    "standalone_parameters[\"datasets\"] = [\n",
    "    {\n",
    "        \"labels\": ALL_SERIAL_NUMBERS,\n",
    "        \"domains\": ALL_DISTANCES_FEET_NARROWED,\n",
    "        \"num_examples_per_domain_per_label\": 100,\n",
    "        \"pickle_path\": os.path.join(get_datasets_base_path(), \"oracle.Run1_framed_2000Examples_stratified_ds.2022A.pkl\"),\n",
    "        \"source_or_target_dataset\": \"source\",\n",
    "        \"x_transforms\": [\"unit_mag\", \"minus_two\"],\n",
    "        \"episode_transforms\": [],\n",
    "        \"domain_prefix\": \"ORACLE_\"\n",
    "    },\n",
    "    {\n",
    "        \"labels\": ALL_NODES,\n",
    "        \"domains\": ALL_DAYS,\n",
    "        \"num_examples_per_domain_per_label\": 100,\n",
    "        \"pickle_path\": os.path.join(get_datasets_base_path(), \"cores.stratified_ds.2022A.pkl\"),\n",
    "        \"source_or_target_dataset\": \"target\",\n",
    "        \"x_transforms\": [\"unit_power\", \"times_zero\"],\n",
    "        \"episode_transforms\": [],\n",
    "        \"domain_prefix\": \"CORES_\"\n",
    "    }   \n",
    "]\n",
    "\n",
    "standalone_parameters[\"torch_default_dtype\"] = \"torch.float32\" \n",
    "\n",
    "\n",
    "\n",
    "standalone_parameters[\"x_net\"] =     [\n",
    "    {\"class\": \"nnReshape\", \"kargs\": {\"shape\":[-1, 1, 2, 256]}},\n",
    "    {\"class\": \"Conv2d\", \"kargs\": { \"in_channels\":1, \"out_channels\":256, \"kernel_size\":(1,7), \"bias\":False, \"padding\":(0,3), },},\n",
    "    {\"class\": \"ReLU\", \"kargs\": {\"inplace\": True}},\n",
    "    {\"class\": \"BatchNorm2d\", \"kargs\": {\"num_features\":256}},\n",
    "\n",
    "    {\"class\": \"Conv2d\", \"kargs\": { \"in_channels\":256, \"out_channels\":80, \"kernel_size\":(2,7), \"bias\":True, \"padding\":(0,3), },},\n",
    "    {\"class\": \"ReLU\", \"kargs\": {\"inplace\": True}},\n",
    "    {\"class\": \"BatchNorm2d\", \"kargs\": {\"num_features\":80}},\n",
    "    {\"class\": \"Flatten\", \"kargs\": {}},\n",
    "\n",
    "    {\"class\": \"Linear\", \"kargs\": {\"in_features\": 80*256, \"out_features\": 256}}, # 80 units per IQ pair\n",
    "    {\"class\": \"ReLU\", \"kargs\": {\"inplace\": True}},\n",
    "    {\"class\": \"BatchNorm1d\", \"kargs\": {\"num_features\":256}},\n",
    "\n",
    "    {\"class\": \"Linear\", \"kargs\": {\"in_features\": 256, \"out_features\": 256}},\n",
    "]\n",
    "\n",
    "# Parameters relevant to results\n",
    "# These parameters will basically never need to change\n",
    "standalone_parameters[\"NUM_LOGS_PER_EPOCH\"] = 10\n",
    "standalone_parameters[\"BEST_MODEL_PATH\"] = \"./best_model.pth\"\n",
    "\n",
    "\n",
    "\n",
    "\n"
   ]
  },
  {
   "cell_type": "code",
   "execution_count": 4,
   "id": "28eb1dde",
   "metadata": {
    "execution": {
     "iopub.execute_input": "2022-03-22T17:45:25.117762Z",
     "iopub.status.busy": "2022-03-22T17:45:25.105677Z",
     "iopub.status.idle": "2022-03-22T17:45:25.143232Z",
     "shell.execute_reply": "2022-03-22T17:45:25.143522Z"
    },
    "papermill": {
     "duration": 0.060439,
     "end_time": "2022-03-22T17:45:25.143616",
     "exception": false,
     "start_time": "2022-03-22T17:45:25.083177",
     "status": "completed"
    },
    "tags": [
     "injected-parameters"
    ]
   },
   "outputs": [],
   "source": [
    "# Parameters\n",
    "parameters = {\n",
    "    \"experiment_name\": \"tl_1v2:cores-oracle.run1.limited\",\n",
    "    \"device\": \"cuda\",\n",
    "    \"lr\": 0.0001,\n",
    "    \"n_shot\": 3,\n",
    "    \"n_query\": 2,\n",
    "    \"train_k_factor\": 3,\n",
    "    \"val_k_factor\": 2,\n",
    "    \"test_k_factor\": 2,\n",
    "    \"torch_default_dtype\": \"torch.float32\",\n",
    "    \"n_epoch\": 50,\n",
    "    \"patience\": 3,\n",
    "    \"criteria_for_best\": \"target_accuracy\",\n",
    "    \"x_net\": [\n",
    "        {\"class\": \"nnReshape\", \"kargs\": {\"shape\": [-1, 1, 2, 256]}},\n",
    "        {\n",
    "            \"class\": \"Conv2d\",\n",
    "            \"kargs\": {\n",
    "                \"in_channels\": 1,\n",
    "                \"out_channels\": 256,\n",
    "                \"kernel_size\": [1, 7],\n",
    "                \"bias\": False,\n",
    "                \"padding\": [0, 3],\n",
    "            },\n",
    "        },\n",
    "        {\"class\": \"ReLU\", \"kargs\": {\"inplace\": True}},\n",
    "        {\"class\": \"BatchNorm2d\", \"kargs\": {\"num_features\": 256}},\n",
    "        {\n",
    "            \"class\": \"Conv2d\",\n",
    "            \"kargs\": {\n",
    "                \"in_channels\": 256,\n",
    "                \"out_channels\": 80,\n",
    "                \"kernel_size\": [2, 7],\n",
    "                \"bias\": True,\n",
    "                \"padding\": [0, 3],\n",
    "            },\n",
    "        },\n",
    "        {\"class\": \"ReLU\", \"kargs\": {\"inplace\": True}},\n",
    "        {\"class\": \"BatchNorm2d\", \"kargs\": {\"num_features\": 80}},\n",
    "        {\"class\": \"Flatten\", \"kargs\": {}},\n",
    "        {\"class\": \"Linear\", \"kargs\": {\"in_features\": 20480, \"out_features\": 256}},\n",
    "        {\"class\": \"ReLU\", \"kargs\": {\"inplace\": True}},\n",
    "        {\"class\": \"BatchNorm1d\", \"kargs\": {\"num_features\": 256}},\n",
    "        {\"class\": \"Linear\", \"kargs\": {\"in_features\": 256, \"out_features\": 256}},\n",
    "    ],\n",
    "    \"NUM_LOGS_PER_EPOCH\": 10,\n",
    "    \"BEST_MODEL_PATH\": \"./best_model.pth\",\n",
    "    \"n_way\": 16,\n",
    "    \"datasets\": [\n",
    "        {\n",
    "            \"labels\": [\n",
    "                \"1-10.\",\n",
    "                \"1-11.\",\n",
    "                \"1-15.\",\n",
    "                \"1-16.\",\n",
    "                \"1-17.\",\n",
    "                \"1-18.\",\n",
    "                \"1-19.\",\n",
    "                \"10-4.\",\n",
    "                \"10-7.\",\n",
    "                \"11-1.\",\n",
    "                \"11-14.\",\n",
    "                \"11-17.\",\n",
    "                \"11-20.\",\n",
    "                \"11-7.\",\n",
    "                \"13-20.\",\n",
    "                \"13-8.\",\n",
    "                \"14-10.\",\n",
    "                \"14-11.\",\n",
    "                \"14-14.\",\n",
    "                \"14-7.\",\n",
    "                \"15-1.\",\n",
    "                \"15-20.\",\n",
    "                \"16-1.\",\n",
    "                \"16-16.\",\n",
    "                \"17-10.\",\n",
    "                \"17-11.\",\n",
    "                \"17-2.\",\n",
    "                \"19-1.\",\n",
    "                \"19-16.\",\n",
    "                \"19-19.\",\n",
    "                \"19-20.\",\n",
    "                \"19-3.\",\n",
    "                \"2-10.\",\n",
    "                \"2-11.\",\n",
    "                \"2-17.\",\n",
    "                \"2-18.\",\n",
    "                \"2-20.\",\n",
    "                \"2-3.\",\n",
    "                \"2-4.\",\n",
    "                \"2-5.\",\n",
    "                \"2-6.\",\n",
    "                \"2-7.\",\n",
    "                \"2-8.\",\n",
    "                \"3-13.\",\n",
    "                \"3-18.\",\n",
    "                \"3-3.\",\n",
    "                \"4-1.\",\n",
    "                \"4-10.\",\n",
    "                \"4-11.\",\n",
    "                \"4-19.\",\n",
    "                \"5-5.\",\n",
    "                \"6-15.\",\n",
    "                \"7-10.\",\n",
    "                \"7-14.\",\n",
    "                \"8-18.\",\n",
    "                \"8-20.\",\n",
    "                \"8-3.\",\n",
    "                \"8-8.\",\n",
    "            ],\n",
    "            \"domains\": [1, 2, 3, 4, 5],\n",
    "            \"num_examples_per_domain_per_label\": -1,\n",
    "            \"pickle_path\": \"/root/csc500-main/datasets/cores.stratified_ds.2022A.pkl\",\n",
    "            \"source_or_target_dataset\": \"source\",\n",
    "            \"x_transforms\": [\"unit_mag\"],\n",
    "            \"episode_transforms\": [],\n",
    "            \"domain_prefix\": \"CORES_\",\n",
    "        },\n",
    "        {\n",
    "            \"labels\": [\n",
    "                \"3123D52\",\n",
    "                \"3123D65\",\n",
    "                \"3123D79\",\n",
    "                \"3123D80\",\n",
    "                \"3123D54\",\n",
    "                \"3123D70\",\n",
    "                \"3123D7B\",\n",
    "                \"3123D89\",\n",
    "                \"3123D58\",\n",
    "                \"3123D76\",\n",
    "                \"3123D7D\",\n",
    "                \"3123EFE\",\n",
    "                \"3123D64\",\n",
    "                \"3123D78\",\n",
    "                \"3123D7E\",\n",
    "                \"3124E4A\",\n",
    "            ],\n",
    "            \"domains\": [32, 38, 8, 44, 14, 50, 20, 26],\n",
    "            \"num_examples_per_domain_per_label\": 2000,\n",
    "            \"pickle_path\": \"/root/csc500-main/datasets/oracle.Run1_10kExamples_stratified_ds.2022A.pkl\",\n",
    "            \"source_or_target_dataset\": \"target\",\n",
    "            \"x_transforms\": [\"unit_mag\"],\n",
    "            \"episode_transforms\": [],\n",
    "            \"domain_prefix\": \"ORACLE.run1_\",\n",
    "        },\n",
    "    ],\n",
    "    \"dataset_seed\": 500,\n",
    "    \"seed\": 500,\n",
    "}\n"
   ]
  },
  {
   "cell_type": "code",
   "execution_count": 5,
   "id": "8fa1cc33",
   "metadata": {
    "execution": {
     "iopub.execute_input": "2022-03-22T17:45:25.189504Z",
     "iopub.status.busy": "2022-03-22T17:45:25.189041Z",
     "iopub.status.idle": "2022-03-22T17:45:25.215861Z",
     "shell.execute_reply": "2022-03-22T17:45:25.216170Z"
    },
    "papermill": {
     "duration": 0.052518,
     "end_time": "2022-03-22T17:45:25.216256",
     "exception": false,
     "start_time": "2022-03-22T17:45:25.163738",
     "status": "completed"
    },
    "tags": []
   },
   "outputs": [],
   "source": [
    "# Set this to True if you want to run this template directly\n",
    "STANDALONE = False\n",
    "if STANDALONE:\n",
    "    print(\"parameters not injected, running with standalone_parameters\")\n",
    "    parameters = standalone_parameters\n",
    "\n",
    "if not 'parameters' in locals() and not 'parameters' in globals():\n",
    "    raise Exception(\"Parameter injection failed\")\n",
    "\n",
    "#Use an easy dict for all the parameters\n",
    "p = EasyDict(parameters)\n",
    "\n",
    "if \"x_shape\" not in p:\n",
    "    p.x_shape = [2,256] # Default to this if we dont supply x_shape\n",
    "\n",
    "\n",
    "supplied_keys = set(p.keys())\n",
    "\n",
    "if  supplied_keys != required_parameters:\n",
    "    print(\"Parameters are incorrect\")\n",
    "    if len(supplied_keys - required_parameters)>0: print(\"Shouldn't have:\", str(supplied_keys - required_parameters))\n",
    "    if len(required_parameters - supplied_keys)>0: print(\"Need to have:\", str(required_parameters - supplied_keys))\n",
    "    raise RuntimeError(\"Parameters are incorrect\")"
   ]
  },
  {
   "cell_type": "code",
   "execution_count": 6,
   "id": "3a028d58",
   "metadata": {
    "execution": {
     "iopub.execute_input": "2022-03-22T17:45:25.258953Z",
     "iopub.status.busy": "2022-03-22T17:45:25.258580Z",
     "iopub.status.idle": "2022-03-22T17:45:25.286546Z",
     "shell.execute_reply": "2022-03-22T17:45:25.286850Z"
    },
    "papermill": {
     "duration": 0.050831,
     "end_time": "2022-03-22T17:45:25.286932",
     "exception": false,
     "start_time": "2022-03-22T17:45:25.236101",
     "status": "completed"
    },
    "tags": []
   },
   "outputs": [],
   "source": [
    "###################################\n",
    "# Set the RNGs and make it all deterministic\n",
    "###################################\n",
    "np.random.seed(p.seed)\n",
    "random.seed(p.seed)\n",
    "torch.manual_seed(p.seed)\n",
    "\n",
    "torch.use_deterministic_algorithms(True) "
   ]
  },
  {
   "cell_type": "code",
   "execution_count": 7,
   "id": "b691acf6",
   "metadata": {
    "execution": {
     "iopub.execute_input": "2022-03-22T17:45:25.331104Z",
     "iopub.status.busy": "2022-03-22T17:45:25.330735Z",
     "iopub.status.idle": "2022-03-22T17:45:25.355170Z",
     "shell.execute_reply": "2022-03-22T17:45:25.355767Z"
    },
    "papermill": {
     "duration": 0.048946,
     "end_time": "2022-03-22T17:45:25.355920",
     "exception": false,
     "start_time": "2022-03-22T17:45:25.306974",
     "status": "completed"
    },
    "tags": []
   },
   "outputs": [],
   "source": [
    "###########################################\n",
    "# The stratified datasets honor this\n",
    "###########################################\n",
    "torch.set_default_dtype(eval(p.torch_default_dtype))"
   ]
  },
  {
   "cell_type": "code",
   "execution_count": 8,
   "id": "b5fba671",
   "metadata": {
    "execution": {
     "iopub.execute_input": "2022-03-22T17:45:25.400028Z",
     "iopub.status.busy": "2022-03-22T17:45:25.399660Z",
     "iopub.status.idle": "2022-03-22T17:45:25.461194Z",
     "shell.execute_reply": "2022-03-22T17:45:25.460869Z"
    },
    "papermill": {
     "duration": 0.085253,
     "end_time": "2022-03-22T17:45:25.461264",
     "exception": false,
     "start_time": "2022-03-22T17:45:25.376011",
     "status": "completed"
    },
    "tags": []
   },
   "outputs": [],
   "source": [
    "###################################\n",
    "# Build the network(s)\n",
    "# Note: It's critical to do this AFTER setting the RNG\n",
    "###################################\n",
    "x_net = build_sequential(p.x_net)"
   ]
  },
  {
   "cell_type": "code",
   "execution_count": 9,
   "id": "5d7e61cc",
   "metadata": {
    "execution": {
     "iopub.execute_input": "2022-03-22T17:45:25.505584Z",
     "iopub.status.busy": "2022-03-22T17:45:25.505218Z",
     "iopub.status.idle": "2022-03-22T17:45:25.527267Z",
     "shell.execute_reply": "2022-03-22T17:45:25.526947Z"
    },
    "papermill": {
     "duration": 0.04528,
     "end_time": "2022-03-22T17:45:25.527336",
     "exception": false,
     "start_time": "2022-03-22T17:45:25.482056",
     "status": "completed"
    },
    "tags": []
   },
   "outputs": [],
   "source": [
    "start_time_secs = time.time()"
   ]
  },
  {
   "cell_type": "code",
   "execution_count": 10,
   "id": "c6b67dfd",
   "metadata": {
    "execution": {
     "iopub.execute_input": "2022-03-22T17:45:25.571264Z",
     "iopub.status.busy": "2022-03-22T17:45:25.570890Z",
     "iopub.status.idle": "2022-03-22T17:45:25.592542Z",
     "shell.execute_reply": "2022-03-22T17:45:25.592195Z"
    },
    "papermill": {
     "duration": 0.044985,
     "end_time": "2022-03-22T17:45:25.592614",
     "exception": false,
     "start_time": "2022-03-22T17:45:25.547629",
     "status": "completed"
    },
    "tags": []
   },
   "outputs": [],
   "source": [
    "p.domains_source = []\n",
    "p.domains_target = []\n",
    "\n",
    "\n",
    "train_original_source = []\n",
    "val_original_source   = []\n",
    "test_original_source  = []\n",
    "\n",
    "train_original_target = []\n",
    "val_original_target   = []\n",
    "test_original_target  = []"
   ]
  },
  {
   "cell_type": "code",
   "execution_count": 11,
   "id": "e3d9c3d3",
   "metadata": {
    "execution": {
     "iopub.execute_input": "2022-03-22T17:45:25.636752Z",
     "iopub.status.busy": "2022-03-22T17:45:25.636387Z",
     "iopub.status.idle": "2022-03-22T17:45:25.659895Z",
     "shell.execute_reply": "2022-03-22T17:45:25.659290Z"
    },
    "papermill": {
     "duration": 0.04658,
     "end_time": "2022-03-22T17:45:25.659979",
     "exception": false,
     "start_time": "2022-03-22T17:45:25.613399",
     "status": "completed"
    },
    "tags": []
   },
   "outputs": [],
   "source": [
    "# global_x_transform_func = lambda x: normalize(x.to(torch.get_default_dtype()), \"unit_power\") # unit_power, unit_mag\n",
    "# global_x_transform_func = lambda x: normalize(x, \"unit_power\") # unit_power, unit_mag"
   ]
  },
  {
   "cell_type": "code",
   "execution_count": 12,
   "id": "acb78fd2",
   "metadata": {
    "execution": {
     "iopub.execute_input": "2022-03-22T17:45:25.713216Z",
     "iopub.status.busy": "2022-03-22T17:45:25.712829Z",
     "iopub.status.idle": "2022-03-22T17:45:25.735269Z",
     "shell.execute_reply": "2022-03-22T17:45:25.734875Z"
    },
    "papermill": {
     "duration": 0.054947,
     "end_time": "2022-03-22T17:45:25.735338",
     "exception": false,
     "start_time": "2022-03-22T17:45:25.680391",
     "status": "completed"
    },
    "tags": []
   },
   "outputs": [],
   "source": [
    "def add_dataset(\n",
    "    labels,\n",
    "    domains,\n",
    "    pickle_path,\n",
    "    x_transforms,\n",
    "    episode_transforms,\n",
    "    domain_prefix,\n",
    "    num_examples_per_domain_per_label,\n",
    "    source_or_target_dataset:str,\n",
    "    iterator_seed=p.seed,\n",
    "    dataset_seed=p.dataset_seed,\n",
    "    n_shot=p.n_shot,\n",
    "    n_way=p.n_way,\n",
    "    n_query=p.n_query,\n",
    "    train_val_test_k_factors=(p.train_k_factor,p.val_k_factor,p.test_k_factor),\n",
    "):\n",
    "   \n",
    "    if x_transforms == []: x_transform = None\n",
    "    else: x_transform = get_chained_transform(x_transforms)\n",
    "    \n",
    "    if episode_transforms == []: episode_transform = None\n",
    "    else: raise Exception(\"episode_transforms not implemented\")\n",
    "    \n",
    "    episode_transform = lambda tup, _prefix=domain_prefix: (_prefix + str(tup[0]), tup[1])\n",
    "\n",
    "\n",
    "    eaf = Episodic_Accessor_Factory(\n",
    "        labels=labels,\n",
    "        domains=domains,\n",
    "        num_examples_per_domain_per_label=num_examples_per_domain_per_label,\n",
    "        iterator_seed=iterator_seed,\n",
    "        dataset_seed=dataset_seed,\n",
    "        n_shot=n_shot,\n",
    "        n_way=n_way,\n",
    "        n_query=n_query,\n",
    "        train_val_test_k_factors=train_val_test_k_factors,\n",
    "        pickle_path=pickle_path,\n",
    "        x_transform_func=x_transform,\n",
    "    )\n",
    "\n",
    "    train, val, test = eaf.get_train(), eaf.get_val(), eaf.get_test()\n",
    "    train = Lazy_Iterable_Wrapper(train, episode_transform)\n",
    "    val = Lazy_Iterable_Wrapper(val, episode_transform)\n",
    "    test = Lazy_Iterable_Wrapper(test, episode_transform)\n",
    "\n",
    "    if source_or_target_dataset==\"source\":\n",
    "        train_original_source.append(train)\n",
    "        val_original_source.append(val)\n",
    "        test_original_source.append(test)\n",
    "\n",
    "        p.domains_source.extend(\n",
    "            [domain_prefix + str(u) for u in domains]\n",
    "        )\n",
    "    elif source_or_target_dataset==\"target\":\n",
    "        train_original_target.append(train)\n",
    "        val_original_target.append(val)\n",
    "        test_original_target.append(test)\n",
    "        p.domains_target.extend(\n",
    "            [domain_prefix + str(u) for u in domains]\n",
    "        )\n",
    "    else:\n",
    "        raise Exception(f\"invalid source_or_target_dataset: {source_or_target_dataset}\")\n",
    "    "
   ]
  },
  {
   "cell_type": "code",
   "execution_count": 13,
   "id": "fe266617",
   "metadata": {
    "execution": {
     "iopub.execute_input": "2022-03-22T17:45:25.779614Z",
     "iopub.status.busy": "2022-03-22T17:45:25.779240Z",
     "iopub.status.idle": "2022-03-22T17:46:10.518374Z",
     "shell.execute_reply": "2022-03-22T17:46:10.517592Z"
    },
    "papermill": {
     "duration": 44.762339,
     "end_time": "2022-03-22T17:46:10.518576",
     "exception": false,
     "start_time": "2022-03-22T17:45:25.756237",
     "status": "completed"
    },
    "tags": []
   },
   "outputs": [],
   "source": [
    "for ds in p.datasets:\n",
    "    add_dataset(**ds)"
   ]
  },
  {
   "cell_type": "code",
   "execution_count": 14,
   "id": "b90d65ac",
   "metadata": {
    "execution": {
     "iopub.execute_input": "2022-03-22T17:46:10.580990Z",
     "iopub.status.busy": "2022-03-22T17:46:10.580607Z",
     "iopub.status.idle": "2022-03-22T17:46:10.606625Z",
     "shell.execute_reply": "2022-03-22T17:46:10.605859Z"
    },
    "papermill": {
     "duration": 0.060296,
     "end_time": "2022-03-22T17:46:10.606796",
     "exception": false,
     "start_time": "2022-03-22T17:46:10.546500",
     "status": "completed"
    },
    "tags": []
   },
   "outputs": [],
   "source": [
    "# from steves_utils.CORES.utils import (\n",
    "#     ALL_NODES,\n",
    "#     ALL_NODES_MINIMUM_1000_EXAMPLES,\n",
    "#     ALL_DAYS\n",
    "# )\n",
    "\n",
    "# add_dataset(\n",
    "#     labels=ALL_NODES,\n",
    "#     domains = ALL_DAYS,\n",
    "#     num_examples_per_domain_per_label=100,\n",
    "#     pickle_path=os.path.join(get_datasets_base_path(), \"cores.stratified_ds.2022A.pkl\"),\n",
    "#     source_or_target_dataset=\"target\",\n",
    "#     x_transform_func=global_x_transform_func,\n",
    "#     domain_modifier=lambda u: f\"cores_{u}\"\n",
    "# )"
   ]
  },
  {
   "cell_type": "code",
   "execution_count": 15,
   "id": "76db484d",
   "metadata": {
    "execution": {
     "iopub.execute_input": "2022-03-22T17:46:10.654906Z",
     "iopub.status.busy": "2022-03-22T17:46:10.654535Z",
     "iopub.status.idle": "2022-03-22T17:46:10.675037Z",
     "shell.execute_reply": "2022-03-22T17:46:10.674341Z"
    },
    "papermill": {
     "duration": 0.042631,
     "end_time": "2022-03-22T17:46:10.675194",
     "exception": false,
     "start_time": "2022-03-22T17:46:10.632563",
     "status": "completed"
    },
    "tags": []
   },
   "outputs": [],
   "source": [
    "# from steves_utils.ORACLE.utils_v2 import (\n",
    "#     ALL_DISTANCES_FEET,\n",
    "#     ALL_RUNS,\n",
    "#     ALL_SERIAL_NUMBERS,\n",
    "# )\n",
    "\n",
    "\n",
    "# add_dataset(\n",
    "#     labels=ALL_SERIAL_NUMBERS,\n",
    "#     domains = list(set(ALL_DISTANCES_FEET) - {2,62}),\n",
    "#     num_examples_per_domain_per_label=100,\n",
    "#     pickle_path=os.path.join(get_datasets_base_path(), \"oracle.Run2_framed_2000Examples_stratified_ds.2022A.pkl\"),\n",
    "#     source_or_target_dataset=\"source\",\n",
    "#     x_transform_func=global_x_transform_func,\n",
    "#     domain_modifier=lambda u: f\"oracle1_{u}\"\n",
    "# )\n"
   ]
  },
  {
   "cell_type": "code",
   "execution_count": 16,
   "id": "97dea9d2",
   "metadata": {
    "execution": {
     "iopub.execute_input": "2022-03-22T17:46:10.725826Z",
     "iopub.status.busy": "2022-03-22T17:46:10.725456Z",
     "iopub.status.idle": "2022-03-22T17:46:10.742187Z",
     "shell.execute_reply": "2022-03-22T17:46:10.741387Z"
    },
    "papermill": {
     "duration": 0.039251,
     "end_time": "2022-03-22T17:46:10.742349",
     "exception": false,
     "start_time": "2022-03-22T17:46:10.703098",
     "status": "completed"
    },
    "tags": []
   },
   "outputs": [],
   "source": [
    "# from steves_utils.ORACLE.utils_v2 import (\n",
    "#     ALL_DISTANCES_FEET,\n",
    "#     ALL_RUNS,\n",
    "#     ALL_SERIAL_NUMBERS,\n",
    "# )\n",
    "\n",
    "\n",
    "# add_dataset(\n",
    "#     labels=ALL_SERIAL_NUMBERS,\n",
    "#     domains = list(set(ALL_DISTANCES_FEET) - {2,62,56}),\n",
    "#     num_examples_per_domain_per_label=100,\n",
    "#     pickle_path=os.path.join(get_datasets_base_path(), \"oracle.Run2_framed_2000Examples_stratified_ds.2022A.pkl\"),\n",
    "#     source_or_target_dataset=\"source\",\n",
    "#     x_transform_func=global_x_transform_func,\n",
    "#     domain_modifier=lambda u: f\"oracle2_{u}\"\n",
    "# )"
   ]
  },
  {
   "cell_type": "code",
   "execution_count": 17,
   "id": "6f289866",
   "metadata": {
    "execution": {
     "iopub.execute_input": "2022-03-22T17:46:10.792398Z",
     "iopub.status.busy": "2022-03-22T17:46:10.792000Z",
     "iopub.status.idle": "2022-03-22T17:46:10.813187Z",
     "shell.execute_reply": "2022-03-22T17:46:10.812493Z"
    },
    "papermill": {
     "duration": 0.044724,
     "end_time": "2022-03-22T17:46:10.813340",
     "exception": false,
     "start_time": "2022-03-22T17:46:10.768616",
     "status": "completed"
    },
    "tags": []
   },
   "outputs": [],
   "source": [
    "# add_dataset(\n",
    "#     labels=list(range(19)),\n",
    "#     domains = [0,1,2],\n",
    "#     num_examples_per_domain_per_label=100,\n",
    "#     pickle_path=os.path.join(get_datasets_base_path(), \"metehan.stratified_ds.2022A.pkl\"),\n",
    "#     source_or_target_dataset=\"target\",\n",
    "#     x_transform_func=global_x_transform_func,\n",
    "#     domain_modifier=lambda u: f\"met_{u}\"\n",
    "# )"
   ]
  },
  {
   "cell_type": "code",
   "execution_count": 18,
   "id": "86a863c3",
   "metadata": {
    "execution": {
     "iopub.execute_input": "2022-03-22T17:46:10.863556Z",
     "iopub.status.busy": "2022-03-22T17:46:10.863121Z",
     "iopub.status.idle": "2022-03-22T17:46:10.884741Z",
     "shell.execute_reply": "2022-03-22T17:46:10.883958Z"
    },
    "papermill": {
     "duration": 0.044979,
     "end_time": "2022-03-22T17:46:10.884894",
     "exception": false,
     "start_time": "2022-03-22T17:46:10.839915",
     "status": "completed"
    },
    "tags": []
   },
   "outputs": [],
   "source": [
    "# # from steves_utils.wisig.utils import (\n",
    "# #     ALL_NODES_MINIMUM_100_EXAMPLES,\n",
    "# #     ALL_NODES_MINIMUM_500_EXAMPLES,\n",
    "# #     ALL_NODES_MINIMUM_1000_EXAMPLES,\n",
    "# #     ALL_DAYS\n",
    "# # )\n",
    "\n",
    "# import steves_utils.wisig.utils as wisig\n",
    "\n",
    "\n",
    "# add_dataset(\n",
    "#     labels=wisig.ALL_NODES_MINIMUM_100_EXAMPLES,\n",
    "#     domains = wisig.ALL_DAYS,\n",
    "#     num_examples_per_domain_per_label=100,\n",
    "#     pickle_path=os.path.join(get_datasets_base_path(), \"wisig.node3-19.stratified_ds.2022A.pkl\"),\n",
    "#     source_or_target_dataset=\"target\",\n",
    "#     x_transform_func=global_x_transform_func,\n",
    "#     domain_modifier=lambda u: f\"wisig_{u}\"\n",
    "# )"
   ]
  },
  {
   "cell_type": "code",
   "execution_count": 19,
   "id": "fd5442bc",
   "metadata": {
    "execution": {
     "iopub.execute_input": "2022-03-22T17:46:10.936405Z",
     "iopub.status.busy": "2022-03-22T17:46:10.935696Z",
     "iopub.status.idle": "2022-03-22T17:46:10.955143Z",
     "shell.execute_reply": "2022-03-22T17:46:10.954460Z"
    },
    "papermill": {
     "duration": 0.046302,
     "end_time": "2022-03-22T17:46:10.955307",
     "exception": false,
     "start_time": "2022-03-22T17:46:10.909005",
     "status": "completed"
    },
    "tags": []
   },
   "outputs": [],
   "source": [
    "###################################\n",
    "# Build the dataset\n",
    "###################################\n",
    "train_original_source = Iterable_Aggregator(train_original_source, p.seed)\n",
    "val_original_source = Iterable_Aggregator(val_original_source, p.seed)\n",
    "test_original_source = Iterable_Aggregator(test_original_source, p.seed)\n",
    "\n",
    "\n",
    "train_original_target = Iterable_Aggregator(train_original_target, p.seed)\n",
    "val_original_target = Iterable_Aggregator(val_original_target, p.seed)\n",
    "test_original_target = Iterable_Aggregator(test_original_target, p.seed)\n",
    "\n",
    "# For CNN We only use X and Y. And we only train on the source.\n",
    "# Properly form the data using a transform lambda and Lazy_Iterable_Wrapper. Finally wrap them in a dataloader\n",
    "\n",
    "transform_lambda = lambda ex: ex[1] # Original is (<domain>, <episode>) so we strip down to episode only\n",
    "\n",
    "train_processed_source = Lazy_Iterable_Wrapper(train_original_source, transform_lambda)\n",
    "val_processed_source   = Lazy_Iterable_Wrapper(val_original_source, transform_lambda)\n",
    "test_processed_source  = Lazy_Iterable_Wrapper(test_original_source, transform_lambda)\n",
    "\n",
    "train_processed_target = Lazy_Iterable_Wrapper(train_original_target, transform_lambda)\n",
    "val_processed_target   = Lazy_Iterable_Wrapper(val_original_target, transform_lambda)\n",
    "test_processed_target  = Lazy_Iterable_Wrapper(test_original_target, transform_lambda)\n",
    "\n",
    "datasets = EasyDict({\n",
    "    \"source\": {\n",
    "        \"original\": {\"train\":train_original_source, \"val\":val_original_source, \"test\":test_original_source},\n",
    "        \"processed\": {\"train\":train_processed_source, \"val\":val_processed_source, \"test\":test_processed_source}\n",
    "    },\n",
    "    \"target\": {\n",
    "        \"original\": {\"train\":train_original_target, \"val\":val_original_target, \"test\":test_original_target},\n",
    "        \"processed\": {\"train\":train_processed_target, \"val\":val_processed_target, \"test\":test_processed_target}\n",
    "    },\n",
    "})"
   ]
  },
  {
   "cell_type": "code",
   "execution_count": 20,
   "id": "5b3c01fc",
   "metadata": {
    "execution": {
     "iopub.execute_input": "2022-03-22T17:46:11.008844Z",
     "iopub.status.busy": "2022-03-22T17:46:11.008223Z",
     "iopub.status.idle": "2022-03-22T17:46:26.177619Z",
     "shell.execute_reply": "2022-03-22T17:46:26.178026Z"
    },
    "papermill": {
     "duration": 15.195403,
     "end_time": "2022-03-22T17:46:26.178148",
     "exception": false,
     "start_time": "2022-03-22T17:46:10.982745",
     "status": "completed"
    },
    "tags": []
   },
   "outputs": [
    {
     "name": "stdout",
     "output_type": "stream",
     "text": [
      "{'CORES_1', 'CORES_5', 'CORES_2', 'CORES_4', 'CORES_3'}\n"
     ]
    },
    {
     "name": "stdout",
     "output_type": "stream",
     "text": [
      "{'ORACLE.run1_14', 'ORACLE.run1_32', 'ORACLE.run1_38', 'ORACLE.run1_8', 'ORACLE.run1_50', 'ORACLE.run1_26', 'ORACLE.run1_44', 'ORACLE.run1_20'}\n"
     ]
    },
    {
     "name": "stdout",
     "output_type": "stream",
     "text": [
      "tensor([[[-0.2025, -0.1828, -0.7562,  ..., -0.2428,  0.2293, -0.0578],\n",
      "         [-0.1188,  0.0372,  0.5826,  ...,  0.5175,  1.3233,  1.4772]],\n",
      "\n",
      "        [[-0.3487, -0.9944, -0.6302,  ..., -1.2537, -1.4513, -0.9922],\n",
      "         [-0.1744, -0.6699, -1.0584,  ...,  0.7328,  0.4999,  0.3918]],\n",
      "\n",
      "        [[-0.2253, -0.1259, -0.3755,  ...,  0.4639,  1.0415,  0.8825],\n",
      "         [-0.0144,  0.2739,  1.0692,  ...,  0.6505,  0.9587,  1.3000]],\n",
      "\n",
      "        ...,\n",
      "\n",
      "        [[-0.1854, -0.7895,  0.9817,  ..., -1.2998, -0.4897,  0.7804],\n",
      "         [ 0.4417, -0.7552, -0.6751,  ...,  0.2266,  0.1465, -0.3066]],\n",
      "\n",
      "        [[-0.5350,  0.1616,  1.1291,  ..., -1.1087, -0.1776,  0.7125],\n",
      "         [-0.0728, -1.0813,  0.5691,  ..., -0.5304, -0.0524,  0.3529]],\n",
      "\n",
      "        [[ 0.0000, -0.0376, -0.0699,  ...,  1.6531,  0.4032, -0.3602],\n",
      "         [-0.1129, -0.0564, -0.1451,  ..., -0.9623, -0.2795,  0.6128]]])\n"
     ]
    }
   ],
   "source": [
    "from steves_utils.transforms import get_average_magnitude, get_average_power\n",
    "\n",
    "print(set([u for u,_ in val_original_source]))\n",
    "print(set([u for u,_ in val_original_target]))\n",
    "\n",
    "s_x, s_y, q_x, q_y, _ = next(iter(train_processed_source))\n",
    "print(s_x)\n",
    "\n",
    "# for ds in [\n",
    "#     train_processed_source,\n",
    "#     val_processed_source,\n",
    "#     test_processed_source,\n",
    "#     train_processed_target,\n",
    "#     val_processed_target,\n",
    "#     test_processed_target\n",
    "# ]:\n",
    "#     for s_x, s_y, q_x, q_y, _ in ds:\n",
    "#         for X in (s_x, q_x):\n",
    "#             for x in X:\n",
    "#                 assert np.isclose(get_average_magnitude(x.numpy()), 1.0)\n",
    "#                 assert np.isclose(get_average_power(x.numpy()), 1.0)\n",
    "                "
   ]
  },
  {
   "cell_type": "code",
   "execution_count": 21,
   "id": "bbdacba1",
   "metadata": {
    "execution": {
     "iopub.execute_input": "2022-03-22T17:46:26.256686Z",
     "iopub.status.busy": "2022-03-22T17:46:26.256115Z",
     "iopub.status.idle": "2022-03-22T17:46:26.483249Z",
     "shell.execute_reply": "2022-03-22T17:46:26.483968Z"
    },
    "papermill": {
     "duration": 0.272639,
     "end_time": "2022-03-22T17:46:26.484212",
     "exception": false,
     "start_time": "2022-03-22T17:46:26.211573",
     "status": "completed"
    },
    "tags": []
   },
   "outputs": [
    {
     "name": "stdout",
     "output_type": "stream",
     "text": [
      "(2, 256)\n"
     ]
    }
   ],
   "source": [
    "###################################\n",
    "# Build the model\n",
    "###################################\n",
    "# easfsl only wants a tuple for the shape\n",
    "model = Steves_Prototypical_Network(x_net, device=p.device, x_shape=tuple(p.x_shape))\n",
    "optimizer = Adam(params=model.parameters(), lr=p.lr)"
   ]
  },
  {
   "cell_type": "code",
   "execution_count": 22,
   "id": "22b39ac5",
   "metadata": {
    "execution": {
     "iopub.execute_input": "2022-03-22T17:46:26.543447Z",
     "iopub.status.busy": "2022-03-22T17:46:26.542878Z",
     "iopub.status.idle": "2022-03-22T18:09:29.944820Z",
     "shell.execute_reply": "2022-03-22T18:09:29.944478Z"
    },
    "papermill": {
     "duration": 1383.43037,
     "end_time": "2022-03-22T18:09:29.944904",
     "exception": false,
     "start_time": "2022-03-22T17:46:26.514534",
     "status": "completed"
    },
    "tags": []
   },
   "outputs": [
    {
     "name": "stdout",
     "output_type": "stream",
     "text": [
      "epoch: 1, [batch: 1 / 6317], examples_per_second: 33.3387, train_label_loss: 2.6330, \n"
     ]
    },
    {
     "name": "stdout",
     "output_type": "stream",
     "text": [
      "epoch: 1, [batch: 632 / 6317], examples_per_second: 2958.7907, train_label_loss: 0.0432, \n"
     ]
    },
    {
     "name": "stdout",
     "output_type": "stream",
     "text": [
      "epoch: 1, [batch: 1264 / 6317], examples_per_second: 2921.9965, train_label_loss: 0.0042, \n"
     ]
    },
    {
     "name": "stdout",
     "output_type": "stream",
     "text": [
      "epoch: 1, [batch: 1895 / 6317], examples_per_second: 2972.6603, train_label_loss: 0.0039, \n"
     ]
    },
    {
     "name": "stdout",
     "output_type": "stream",
     "text": [
      "epoch: 1, [batch: 2527 / 6317], examples_per_second: 2956.3380, train_label_loss: 0.0127, \n"
     ]
    },
    {
     "name": "stdout",
     "output_type": "stream",
     "text": [
      "epoch: 1, [batch: 3159 / 6317], examples_per_second: 2961.2606, train_label_loss: 0.1083, \n"
     ]
    },
    {
     "name": "stdout",
     "output_type": "stream",
     "text": [
      "epoch: 1, [batch: 3790 / 6317], examples_per_second: 2957.0280, train_label_loss: 0.0105, \n"
     ]
    },
    {
     "name": "stdout",
     "output_type": "stream",
     "text": [
      "epoch: 1, [batch: 4422 / 6317], examples_per_second: 2991.3188, train_label_loss: 0.0002, \n"
     ]
    },
    {
     "name": "stdout",
     "output_type": "stream",
     "text": [
      "epoch: 1, [batch: 5053 / 6317], examples_per_second: 3123.5473, train_label_loss: 0.0021, \n"
     ]
    },
    {
     "name": "stdout",
     "output_type": "stream",
     "text": [
      "epoch: 1, [batch: 5685 / 6317], examples_per_second: 3426.2652, train_label_loss: 0.0028, \n"
     ]
    },
    {
     "name": "stdout",
     "output_type": "stream",
     "text": [
      "=============================================================\n",
      "epoch: 1, source_val_acc_label: 0.9985, target_val_acc_label: 0.1451, source_val_label_loss: 0.0066, target_val_label_loss: 2.7240, \n",
      "=============================================================\n"
     ]
    },
    {
     "name": "stdout",
     "output_type": "stream",
     "text": [
      "New best\n"
     ]
    },
    {
     "name": "stdout",
     "output_type": "stream",
     "text": [
      "epoch: 2, [batch: 1 / 6315], examples_per_second: 3.2525, train_label_loss: 0.0001, \n"
     ]
    },
    {
     "name": "stdout",
     "output_type": "stream",
     "text": [
      "epoch: 2, [batch: 632 / 6315], examples_per_second: 3001.4970, train_label_loss: 0.0001, \n"
     ]
    },
    {
     "name": "stdout",
     "output_type": "stream",
     "text": [
      "epoch: 2, [batch: 1263 / 6315], examples_per_second: 3009.5621, train_label_loss: 0.0000, \n"
     ]
    },
    {
     "name": "stdout",
     "output_type": "stream",
     "text": [
      "epoch: 2, [batch: 1895 / 6315], examples_per_second: 2970.6251, train_label_loss: 0.0000, \n"
     ]
    },
    {
     "name": "stdout",
     "output_type": "stream",
     "text": [
      "epoch: 2, [batch: 2526 / 6315], examples_per_second: 3027.9955, train_label_loss: 0.0017, \n"
     ]
    },
    {
     "name": "stdout",
     "output_type": "stream",
     "text": [
      "epoch: 2, [batch: 3158 / 6315], examples_per_second: 3045.3266, train_label_loss: 0.0000, \n"
     ]
    },
    {
     "name": "stdout",
     "output_type": "stream",
     "text": [
      "epoch: 2, [batch: 3789 / 6315], examples_per_second: 2994.2931, train_label_loss: 0.0000, \n"
     ]
    },
    {
     "name": "stdout",
     "output_type": "stream",
     "text": [
      "epoch: 2, [batch: 4420 / 6315], examples_per_second: 3000.6384, train_label_loss: 0.0000, \n"
     ]
    },
    {
     "name": "stdout",
     "output_type": "stream",
     "text": [
      "epoch: 2, [batch: 5052 / 6315], examples_per_second: 3000.7818, train_label_loss: 0.0000, \n"
     ]
    },
    {
     "name": "stdout",
     "output_type": "stream",
     "text": [
      "epoch: 2, [batch: 5683 / 6315], examples_per_second: 3091.3480, train_label_loss: 0.0000, \n"
     ]
    },
    {
     "name": "stdout",
     "output_type": "stream",
     "text": [
      "=============================================================\n",
      "epoch: 2, source_val_acc_label: 0.9993, target_val_acc_label: 0.1450, source_val_label_loss: 0.0059, target_val_label_loss: 3.1653, \n",
      "=============================================================\n"
     ]
    },
    {
     "name": "stdout",
     "output_type": "stream",
     "text": [
      "epoch: 3, [batch: 1 / 6325], examples_per_second: 3.3092, train_label_loss: 0.0000, \n"
     ]
    },
    {
     "name": "stdout",
     "output_type": "stream",
     "text": [
      "epoch: 3, [batch: 633 / 6325], examples_per_second: 3013.4925, train_label_loss: 0.0000, \n"
     ]
    },
    {
     "name": "stdout",
     "output_type": "stream",
     "text": [
      "epoch: 3, [batch: 1265 / 6325], examples_per_second: 2977.1475, train_label_loss: 0.0000, \n"
     ]
    },
    {
     "name": "stdout",
     "output_type": "stream",
     "text": [
      "epoch: 3, [batch: 1898 / 6325], examples_per_second: 3018.1052, train_label_loss: 0.0000, \n"
     ]
    },
    {
     "name": "stdout",
     "output_type": "stream",
     "text": [
      "epoch: 3, [batch: 2530 / 6325], examples_per_second: 2959.1893, train_label_loss: 0.0000, \n"
     ]
    },
    {
     "name": "stdout",
     "output_type": "stream",
     "text": [
      "epoch: 3, [batch: 3163 / 6325], examples_per_second: 3009.9086, train_label_loss: 0.0000, \n"
     ]
    },
    {
     "name": "stdout",
     "output_type": "stream",
     "text": [
      "epoch: 3, [batch: 3795 / 6325], examples_per_second: 3023.5293, train_label_loss: 0.0000, \n"
     ]
    },
    {
     "name": "stdout",
     "output_type": "stream",
     "text": [
      "epoch: 3, [batch: 4427 / 6325], examples_per_second: 3048.9516, train_label_loss: 0.0001, \n"
     ]
    },
    {
     "name": "stdout",
     "output_type": "stream",
     "text": [
      "epoch: 3, [batch: 5060 / 6325], examples_per_second: 3024.9104, train_label_loss: 0.0003, \n"
     ]
    },
    {
     "name": "stdout",
     "output_type": "stream",
     "text": [
      "epoch: 3, [batch: 5692 / 6325], examples_per_second: 3023.7915, train_label_loss: 0.0000, \n"
     ]
    },
    {
     "name": "stdout",
     "output_type": "stream",
     "text": [
      "=============================================================\n",
      "epoch: 3, source_val_acc_label: 0.9992, target_val_acc_label: 0.1652, source_val_label_loss: 0.0064, target_val_label_loss: 3.7069, \n",
      "=============================================================\n"
     ]
    },
    {
     "name": "stdout",
     "output_type": "stream",
     "text": [
      "New best\n"
     ]
    },
    {
     "name": "stdout",
     "output_type": "stream",
     "text": [
      "epoch: 4, [batch: 1 / 6307], examples_per_second: 3.3002, train_label_loss: 0.0000, \n"
     ]
    },
    {
     "name": "stdout",
     "output_type": "stream",
     "text": [
      "epoch: 4, [batch: 631 / 6307], examples_per_second: 2955.4235, train_label_loss: 0.0000, \n"
     ]
    },
    {
     "name": "stdout",
     "output_type": "stream",
     "text": [
      "epoch: 4, [batch: 1262 / 6307], examples_per_second: 2973.7031, train_label_loss: 0.0000, \n"
     ]
    },
    {
     "name": "stdout",
     "output_type": "stream",
     "text": [
      "epoch: 4, [batch: 1892 / 6307], examples_per_second: 3005.4696, train_label_loss: 0.0000, \n"
     ]
    },
    {
     "name": "stdout",
     "output_type": "stream",
     "text": [
      "epoch: 4, [batch: 2523 / 6307], examples_per_second: 3057.7450, train_label_loss: 0.0000, \n"
     ]
    },
    {
     "name": "stdout",
     "output_type": "stream",
     "text": [
      "epoch: 4, [batch: 3154 / 6307], examples_per_second: 3340.6517, train_label_loss: 0.0000, \n"
     ]
    },
    {
     "name": "stdout",
     "output_type": "stream",
     "text": [
      "epoch: 4, [batch: 3784 / 6307], examples_per_second: 3458.6479, train_label_loss: 0.0000, \n"
     ]
    },
    {
     "name": "stdout",
     "output_type": "stream",
     "text": [
      "epoch: 4, [batch: 4415 / 6307], examples_per_second: 3409.1768, train_label_loss: 0.0000, \n"
     ]
    },
    {
     "name": "stdout",
     "output_type": "stream",
     "text": [
      "epoch: 4, [batch: 5045 / 6307], examples_per_second: 3371.8232, train_label_loss: 0.0000, \n"
     ]
    },
    {
     "name": "stdout",
     "output_type": "stream",
     "text": [
      "epoch: 4, [batch: 5676 / 6307], examples_per_second: 3394.1049, train_label_loss: 0.0001, \n"
     ]
    },
    {
     "name": "stdout",
     "output_type": "stream",
     "text": [
      "=============================================================\n",
      "epoch: 4, source_val_acc_label: 0.9990, target_val_acc_label: 0.1446, source_val_label_loss: 0.0081, target_val_label_loss: 3.8970, \n",
      "=============================================================\n"
     ]
    },
    {
     "name": "stdout",
     "output_type": "stream",
     "text": [
      "epoch: 5, [batch: 1 / 6302], examples_per_second: 3.8869, train_label_loss: 0.0000, \n"
     ]
    },
    {
     "name": "stdout",
     "output_type": "stream",
     "text": [
      "epoch: 5, [batch: 631 / 6302], examples_per_second: 4152.2134, train_label_loss: 0.0000, \n"
     ]
    },
    {
     "name": "stdout",
     "output_type": "stream",
     "text": [
      "epoch: 5, [batch: 1261 / 6302], examples_per_second: 3050.8496, train_label_loss: 0.0000, \n"
     ]
    },
    {
     "name": "stdout",
     "output_type": "stream",
     "text": [
      "epoch: 5, [batch: 1891 / 6302], examples_per_second: 3059.9304, train_label_loss: 0.0000, \n"
     ]
    },
    {
     "name": "stdout",
     "output_type": "stream",
     "text": [
      "epoch: 5, [batch: 2521 / 6302], examples_per_second: 2965.2230, train_label_loss: 0.0000, \n"
     ]
    },
    {
     "name": "stdout",
     "output_type": "stream",
     "text": [
      "epoch: 5, [batch: 3151 / 6302], examples_per_second: 3002.1978, train_label_loss: 0.0000, \n"
     ]
    },
    {
     "name": "stdout",
     "output_type": "stream",
     "text": [
      "epoch: 5, [batch: 3781 / 6302], examples_per_second: 2993.5652, train_label_loss: 0.0000, \n"
     ]
    },
    {
     "name": "stdout",
     "output_type": "stream",
     "text": [
      "epoch: 5, [batch: 4411 / 6302], examples_per_second: 3002.5661, train_label_loss: 0.0000, \n"
     ]
    },
    {
     "name": "stdout",
     "output_type": "stream",
     "text": [
      "epoch: 5, [batch: 5041 / 6302], examples_per_second: 3042.1397, train_label_loss: 0.0000, \n"
     ]
    },
    {
     "name": "stdout",
     "output_type": "stream",
     "text": [
      "epoch: 5, [batch: 5671 / 6302], examples_per_second: 3014.3166, train_label_loss: 0.0000, \n"
     ]
    },
    {
     "name": "stdout",
     "output_type": "stream",
     "text": [
      "=============================================================\n",
      "epoch: 5, source_val_acc_label: 0.9995, target_val_acc_label: 0.1608, source_val_label_loss: 0.0045, target_val_label_loss: 3.5984, \n",
      "=============================================================\n"
     ]
    },
    {
     "name": "stdout",
     "output_type": "stream",
     "text": [
      "epoch: 6, [batch: 1 / 6311], examples_per_second: 3.0376, train_label_loss: 0.0000, \n"
     ]
    },
    {
     "name": "stdout",
     "output_type": "stream",
     "text": [
      "epoch: 6, [batch: 632 / 6311], examples_per_second: 3572.1782, train_label_loss: 0.0000, \n"
     ]
    },
    {
     "name": "stdout",
     "output_type": "stream",
     "text": [
      "epoch: 6, [batch: 1263 / 6311], examples_per_second: 3000.8673, train_label_loss: 0.0000, \n"
     ]
    },
    {
     "name": "stdout",
     "output_type": "stream",
     "text": [
      "epoch: 6, [batch: 1894 / 6311], examples_per_second: 2991.5656, train_label_loss: 0.0000, \n"
     ]
    },
    {
     "name": "stdout",
     "output_type": "stream",
     "text": [
      "epoch: 6, [batch: 2525 / 6311], examples_per_second: 2985.7301, train_label_loss: 0.0000, \n"
     ]
    },
    {
     "name": "stdout",
     "output_type": "stream",
     "text": [
      "epoch: 6, [batch: 3156 / 6311], examples_per_second: 3032.0344, train_label_loss: 0.0000, \n"
     ]
    },
    {
     "name": "stdout",
     "output_type": "stream",
     "text": [
      "epoch: 6, [batch: 3787 / 6311], examples_per_second: 3040.0238, train_label_loss: 0.0000, \n"
     ]
    },
    {
     "name": "stdout",
     "output_type": "stream",
     "text": [
      "epoch: 6, [batch: 4418 / 6311], examples_per_second: 3008.4546, train_label_loss: 0.0000, \n"
     ]
    },
    {
     "name": "stdout",
     "output_type": "stream",
     "text": [
      "epoch: 6, [batch: 5049 / 6311], examples_per_second: 3042.3985, train_label_loss: 0.0000, \n"
     ]
    },
    {
     "name": "stdout",
     "output_type": "stream",
     "text": [
      "epoch: 6, [batch: 5680 / 6311], examples_per_second: 2984.3991, train_label_loss: 0.0000, \n"
     ]
    },
    {
     "name": "stdout",
     "output_type": "stream",
     "text": [
      "=============================================================\n",
      "epoch: 6, source_val_acc_label: 0.9990, target_val_acc_label: 0.1556, source_val_label_loss: 0.0096, target_val_label_loss: 3.9243, \n",
      "=============================================================\n"
     ]
    },
    {
     "name": "stdout",
     "output_type": "stream",
     "text": [
      "epoch: 7, [batch: 1 / 6310], examples_per_second: 2.9413, train_label_loss: 0.0000, \n"
     ]
    },
    {
     "name": "stdout",
     "output_type": "stream",
     "text": [
      "epoch: 7, [batch: 631 / 6310], examples_per_second: 3416.1702, train_label_loss: 0.0000, \n"
     ]
    },
    {
     "name": "stdout",
     "output_type": "stream",
     "text": [
      "epoch: 7, [batch: 1262 / 6310], examples_per_second: 3409.5974, train_label_loss: 0.0000, \n"
     ]
    },
    {
     "name": "stdout",
     "output_type": "stream",
     "text": [
      "epoch: 7, [batch: 1893 / 6310], examples_per_second: 3021.0383, train_label_loss: 0.0000, \n"
     ]
    },
    {
     "name": "stdout",
     "output_type": "stream",
     "text": [
      "epoch: 7, [batch: 2524 / 6310], examples_per_second: 2998.8056, train_label_loss: 0.0000, \n"
     ]
    },
    {
     "name": "stdout",
     "output_type": "stream",
     "text": [
      "epoch: 7, [batch: 3155 / 6310], examples_per_second: 3013.2741, train_label_loss: 0.0000, \n"
     ]
    },
    {
     "name": "stdout",
     "output_type": "stream",
     "text": [
      "epoch: 7, [batch: 3786 / 6310], examples_per_second: 3089.0032, train_label_loss: 0.0000, \n"
     ]
    },
    {
     "name": "stdout",
     "output_type": "stream",
     "text": [
      "epoch: 7, [batch: 4417 / 6310], examples_per_second: 2966.6401, train_label_loss: 0.0000, \n"
     ]
    },
    {
     "name": "stdout",
     "output_type": "stream",
     "text": [
      "epoch: 7, [batch: 5048 / 6310], examples_per_second: 2993.1569, train_label_loss: 0.0000, \n"
     ]
    },
    {
     "name": "stdout",
     "output_type": "stream",
     "text": [
      "epoch: 7, [batch: 5679 / 6310], examples_per_second: 3086.1900, train_label_loss: 0.0000, \n"
     ]
    },
    {
     "name": "stdout",
     "output_type": "stream",
     "text": [
      "=============================================================\n",
      "epoch: 7, source_val_acc_label: 0.9996, target_val_acc_label: 0.1513, source_val_label_loss: 0.0060, target_val_label_loss: 4.0470, \n",
      "=============================================================\n"
     ]
    },
    {
     "name": "stdout",
     "output_type": "stream",
     "text": [
      "Patience (3) exhausted\n"
     ]
    }
   ],
   "source": [
    "###################################\n",
    "# train\n",
    "###################################\n",
    "jig = PTN_Train_Eval_Test_Jig(model, p.BEST_MODEL_PATH, p.device)\n",
    "\n",
    "jig.train(\n",
    "    train_iterable=datasets.source.processed.train,\n",
    "    source_val_iterable=datasets.source.processed.val,\n",
    "    target_val_iterable=datasets.target.processed.val,\n",
    "    num_epochs=p.n_epoch,\n",
    "    num_logs_per_epoch=p.NUM_LOGS_PER_EPOCH,\n",
    "    patience=p.patience,\n",
    "    optimizer=optimizer,\n",
    "    criteria_for_best=p.criteria_for_best,\n",
    ")"
   ]
  },
  {
   "cell_type": "code",
   "execution_count": 23,
   "id": "31e8fabf",
   "metadata": {
    "execution": {
     "iopub.execute_input": "2022-03-22T18:09:30.038570Z",
     "iopub.status.busy": "2022-03-22T18:09:30.038204Z",
     "iopub.status.idle": "2022-03-22T18:09:30.071359Z",
     "shell.execute_reply": "2022-03-22T18:09:30.070650Z"
    },
    "papermill": {
     "duration": 0.082526,
     "end_time": "2022-03-22T18:09:30.071512",
     "exception": false,
     "start_time": "2022-03-22T18:09:29.988986",
     "status": "completed"
    },
    "tags": []
   },
   "outputs": [],
   "source": [
    "total_experiment_time_secs = time.time() - start_time_secs"
   ]
  },
  {
   "cell_type": "code",
   "execution_count": 24,
   "id": "87b9595b",
   "metadata": {
    "execution": {
     "iopub.execute_input": "2022-03-22T18:09:30.173815Z",
     "iopub.status.busy": "2022-03-22T18:09:30.172948Z",
     "iopub.status.idle": "2022-03-22T18:12:57.556181Z",
     "shell.execute_reply": "2022-03-22T18:12:57.555231Z"
    },
    "papermill": {
     "duration": 207.435689,
     "end_time": "2022-03-22T18:12:57.556368",
     "exception": false,
     "start_time": "2022-03-22T18:09:30.120679",
     "status": "completed"
    },
    "tags": []
   },
   "outputs": [],
   "source": [
    "###################################\n",
    "# Evaluate the model\n",
    "###################################\n",
    "source_test_label_accuracy, source_test_label_loss = jig.test(datasets.source.processed.test)\n",
    "target_test_label_accuracy, target_test_label_loss = jig.test(datasets.target.processed.test)\n",
    "\n",
    "source_val_label_accuracy, source_val_label_loss = jig.test(datasets.source.processed.val)\n",
    "target_val_label_accuracy, target_val_label_loss = jig.test(datasets.target.processed.val)\n",
    "\n",
    "history = jig.get_history()\n",
    "\n",
    "total_epochs_trained = len(history[\"epoch_indices\"])\n",
    "\n",
    "val_dl = Iterable_Aggregator((datasets.source.original.val,datasets.target.original.val))\n",
    "\n",
    "confusion = ptn_confusion_by_domain_over_dataloader(model, p.device, val_dl)\n",
    "per_domain_accuracy = per_domain_accuracy_from_confusion(confusion)\n",
    "\n",
    "# Add a key to per_domain_accuracy for if it was a source domain\n",
    "for domain, accuracy in per_domain_accuracy.items():\n",
    "    per_domain_accuracy[domain] = {\n",
    "        \"accuracy\": accuracy,\n",
    "        \"source?\": domain in p.domains_source\n",
    "    }\n",
    "\n",
    "# Do an independent accuracy assesment JUST TO BE SURE!\n",
    "# _source_test_label_accuracy = independent_accuracy_assesment(model, datasets.source.processed.test, p.device)\n",
    "# _target_test_label_accuracy = independent_accuracy_assesment(model, datasets.target.processed.test, p.device)\n",
    "# _source_val_label_accuracy = independent_accuracy_assesment(model, datasets.source.processed.val, p.device)\n",
    "# _target_val_label_accuracy = independent_accuracy_assesment(model, datasets.target.processed.val, p.device)\n",
    "\n",
    "# assert(_source_test_label_accuracy == source_test_label_accuracy)\n",
    "# assert(_target_test_label_accuracy == target_test_label_accuracy)\n",
    "# assert(_source_val_label_accuracy == source_val_label_accuracy)\n",
    "# assert(_target_val_label_accuracy == target_val_label_accuracy)\n",
    "\n",
    "experiment = {\n",
    "    \"experiment_name\": p.experiment_name,\n",
    "    \"parameters\": dict(p),\n",
    "    \"results\": {\n",
    "        \"source_test_label_accuracy\": source_test_label_accuracy,\n",
    "        \"source_test_label_loss\": source_test_label_loss,\n",
    "        \"target_test_label_accuracy\": target_test_label_accuracy,\n",
    "        \"target_test_label_loss\": target_test_label_loss,\n",
    "        \"source_val_label_accuracy\": source_val_label_accuracy,\n",
    "        \"source_val_label_loss\": source_val_label_loss,\n",
    "        \"target_val_label_accuracy\": target_val_label_accuracy,\n",
    "        \"target_val_label_loss\": target_val_label_loss,\n",
    "        \"total_epochs_trained\": total_epochs_trained,\n",
    "        \"total_experiment_time_secs\": total_experiment_time_secs,\n",
    "        \"confusion\": confusion,\n",
    "        \"per_domain_accuracy\": per_domain_accuracy,\n",
    "    },\n",
    "    \"history\": history,\n",
    "    \"dataset_metrics\": get_dataset_metrics(datasets, \"ptn\"),\n",
    "}"
   ]
  },
  {
   "cell_type": "code",
   "execution_count": 25,
   "id": "54a21829",
   "metadata": {
    "execution": {
     "iopub.execute_input": "2022-03-22T18:12:57.654407Z",
     "iopub.status.busy": "2022-03-22T18:12:57.654035Z",
     "iopub.status.idle": "2022-03-22T18:12:57.894789Z",
     "shell.execute_reply": "2022-03-22T18:12:57.895471Z"
    },
    "papermill": {
     "duration": 0.289483,
     "end_time": "2022-03-22T18:12:57.895707",
     "exception": false,
     "start_time": "2022-03-22T18:12:57.606224",
     "status": "completed"
    },
    "tags": []
   },
   "outputs": [
    {
     "data": {
      "image/png": "[encoded data removed]",
      "text/plain": [
       "<Figure size 1080x504 with 1 Axes>"
      ]
     },
     "metadata": {
      "needs_background": "light"
     },
     "output_type": "display_data"
    }
   ],
   "source": [
    "ax = get_loss_curve(experiment)\n",
    "plt.show()"
   ]
  },
  {
   "cell_type": "code",
   "execution_count": 26,
   "id": "fd8a0f60",
   "metadata": {
    "execution": {
     "iopub.execute_input": "2022-03-22T18:12:57.994458Z",
     "iopub.status.busy": "2022-03-22T18:12:57.994093Z",
     "iopub.status.idle": "2022-03-22T18:12:58.369621Z",
     "shell.execute_reply": "2022-03-22T18:12:58.370303Z"
    },
    "papermill": {
     "duration": 0.423656,
     "end_time": "2022-03-22T18:12:58.370495",
     "exception": false,
     "start_time": "2022-03-22T18:12:57.946839",
     "status": "completed"
    },
    "tags": []
   },
   "outputs": [
    {
     "data": {
      "text/plain": [
       "<AxesSubplot:title={'center':'Results'}>"
      ]
     },
     "execution_count": 26,
     "metadata": {},
     "output_type": "execute_result"
    },
    {
     "data": {
      "image/png": "[encoded data removed]",
      "text/plain": [
       "<Figure size 1080x504 with 1 Axes>"
      ]
     },
     "metadata": {
      "needs_background": "light"
     },
     "output_type": "display_data"
    }
   ],
   "source": [
    "get_results_table(experiment)"
   ]
  },
  {
   "cell_type": "code",
   "execution_count": 27,
   "id": "cf8dc689",
   "metadata": {
    "execution": {
     "iopub.execute_input": "2022-03-22T18:12:58.472375Z",
     "iopub.status.busy": "2022-03-22T18:12:58.472008Z",
     "iopub.status.idle": "2022-03-22T18:12:58.732496Z",
     "shell.execute_reply": "2022-03-22T18:12:58.731619Z"
    },
    "papermill": {
     "duration": 0.311566,
     "end_time": "2022-03-22T18:12:58.732655",
     "exception": false,
     "start_time": "2022-03-22T18:12:58.421089",
     "status": "completed"
    },
    "tags": []
   },
   "outputs": [
    {
     "data": {
      "text/plain": [
       "<AxesSubplot:title={'center':'Per Domain Validation Accuracy'}, xlabel='domain'>"
      ]
     },
     "execution_count": 27,
     "metadata": {},
     "output_type": "execute_result"
    },
    {
     "data": {
      "image/png": "[encoded data removed]",
      "text/plain": [
       "<Figure size 1080x504 with 1 Axes>"
      ]
     },
     "metadata": {
      "needs_background": "light"
     },
     "output_type": "display_data"
    }
   ],
   "source": [
    "get_domain_accuracies(experiment)"
   ]
  },
  {
   "cell_type": "code",
   "execution_count": 28,
   "id": "a74ae082",
   "metadata": {
    "execution": {
     "iopub.execute_input": "2022-03-22T18:12:58.837321Z",
     "iopub.status.busy": "2022-03-22T18:12:58.836943Z",
     "iopub.status.idle": "2022-03-22T18:12:58.862770Z",
     "shell.execute_reply": "2022-03-22T18:12:58.862100Z"
    },
    "papermill": {
     "duration": 0.077999,
     "end_time": "2022-03-22T18:12:58.862931",
     "exception": false,
     "start_time": "2022-03-22T18:12:58.784932",
     "status": "completed"
    },
    "tags": []
   },
   "outputs": [
    {
     "name": "stdout",
     "output_type": "stream",
     "text": [
      "Source Test Label Accuracy: 0.9994733146067416 Target Test Label Accuracy: 0.16305338541666667\n",
      "Source Val Label Accuracy: 0.9992142857142857 Target Val Label Accuracy: 0.16516927083333333\n"
     ]
    }
   ],
   "source": [
    "print(\"Source Test Label Accuracy:\", experiment[\"results\"][\"source_test_label_accuracy\"], \"Target Test Label Accuracy:\", experiment[\"results\"][\"target_test_label_accuracy\"])\n",
    "print(\"Source Val Label Accuracy:\", experiment[\"results\"][\"source_val_label_accuracy\"], \"Target Val Label Accuracy:\", experiment[\"results\"][\"target_val_label_accuracy\"])"
   ]
  },
  {
   "cell_type": "code",
   "execution_count": 29,
   "id": "dacca602",
   "metadata": {
    "execution": {
     "iopub.execute_input": "2022-03-22T18:12:58.968408Z",
     "iopub.status.busy": "2022-03-22T18:12:58.968042Z",
     "iopub.status.idle": "2022-03-22T18:12:58.996468Z",
     "shell.execute_reply": "2022-03-22T18:12:58.997140Z"
    },
    "papermill": {
     "duration": 0.080835,
     "end_time": "2022-03-22T18:12:58.997324",
     "exception": false,
     "start_time": "2022-03-22T18:12:58.916489",
     "status": "completed"
    },
    "tags": [
     "experiment_json"
    ]
   },
   "outputs": [
    {
     "data": {
      "text/plain": [
       "'{\"experiment_name\": \"tl_1v2:cores-oracle.run1.limited\", \"parameters\": {\"experiment_name\": \"tl_1v2:cores-oracle.run1.limited\", \"device\": \"cuda\", \"lr\": 0.0001, \"n_shot\": 3, \"n_query\": 2, \"train_k_factor\": 3, \"val_k_factor\": 2, \"test_k_factor\": 2, \"torch_default_dtype\": \"torch.float32\", \"n_epoch\": 50, \"patience\": 3, \"criteria_for_best\": \"target_accuracy\", \"x_net\": [{\"class\": \"nnReshape\", \"kargs\": {\"shape\": [-1, 1, 2, 256]}}, {\"class\": \"Conv2d\", \"kargs\": {\"in_channels\": 1, \"out_channels\": 256, \"kernel_size\": [1, 7], \"bias\": false, \"padding\": [0, 3]}}, {\"class\": \"ReLU\", \"kargs\": {\"inplace\": true}}, {\"class\": \"BatchNorm2d\", \"kargs\": {\"num_features\": 256}}, {\"class\": \"Conv2d\", \"kargs\": {\"in_channels\": 256, \"out_channels\": 80, \"kernel_size\": [2, 7], \"bias\": true, \"padding\": [0, 3]}}, {\"class\": \"ReLU\", \"kargs\": {\"inplace\": true}}, {\"class\": \"BatchNorm2d\", \"kargs\": {\"num_features\": 80}}, {\"class\": \"Flatten\", \"kargs\": {}}, {\"class\": \"Linear\", \"kargs\": {\"in_features\": 20480, \"out_features\": 256}}, {\"class\": \"ReLU\", \"kargs\": {\"inplace\": true}}, {\"class\": \"BatchNorm1d\", \"kargs\": {\"num_features\": 256}}, {\"class\": \"Linear\", \"kargs\": {\"in_features\": 256, \"out_features\": 256}}], \"NUM_LOGS_PER_EPOCH\": 10, \"BEST_MODEL_PATH\": \"./best_model.pth\", \"n_way\": 16, \"datasets\": [{\"labels\": [\"1-10.\", \"1-11.\", \"1-15.\", \"1-16.\", \"1-17.\", \"1-18.\", \"1-19.\", \"10-4.\", \"10-7.\", \"11-1.\", \"11-14.\", \"11-17.\", \"11-20.\", \"11-7.\", \"13-20.\", \"13-8.\", \"14-10.\", \"14-11.\", \"14-14.\", \"14-7.\", \"15-1.\", \"15-20.\", \"16-1.\", \"16-16.\", \"17-10.\", \"17-11.\", \"17-2.\", \"19-1.\", \"19-16.\", \"19-19.\", \"19-20.\", \"19-3.\", \"2-10.\", \"2-11.\", \"2-17.\", \"2-18.\", \"2-20.\", \"2-3.\", \"2-4.\", \"2-5.\", \"2-6.\", \"2-7.\", \"2-8.\", \"3-13.\", \"3-18.\", \"3-3.\", \"4-1.\", \"4-10.\", \"4-11.\", \"4-19.\", \"5-5.\", \"6-15.\", \"7-10.\", \"7-14.\", \"8-18.\", \"8-20.\", \"8-3.\", \"8-8.\"], \"domains\": [1, 2, 3, 4, 5], \"num_examples_per_domain_per_label\": -1, \"pickle_path\": \"/root/csc500-main/datasets/cores.stratified_ds.2022A.pkl\", \"source_or_target_dataset\": \"source\", \"x_transforms\": [\"unit_mag\"], \"episode_transforms\": [], \"domain_prefix\": \"CORES_\"}, {\"labels\": [\"3123D52\", \"3123D65\", \"3123D79\", \"3123D80\", \"3123D54\", \"3123D70\", \"3123D7B\", \"3123D89\", \"3123D58\", \"3123D76\", \"3123D7D\", \"3123EFE\", \"3123D64\", \"3123D78\", \"3123D7E\", \"3124E4A\"], \"domains\": [32, 38, 8, 44, 14, 50, 20, 26], \"num_examples_per_domain_per_label\": 2000, \"pickle_path\": \"/root/csc500-main/datasets/oracle.Run1_10kExamples_stratified_ds.2022A.pkl\", \"source_or_target_dataset\": \"target\", \"x_transforms\": [\"unit_mag\"], \"episode_transforms\": [], \"domain_prefix\": \"ORACLE.run1_\"}], \"dataset_seed\": 500, \"seed\": 500, \"x_shape\": [2, 256], \"domains_source\": [\"CORES_1\", \"CORES_2\", \"CORES_3\", \"CORES_4\", \"CORES_5\"], \"domains_target\": [\"ORACLE.run1_32\", \"ORACLE.run1_38\", \"ORACLE.run1_8\", \"ORACLE.run1_44\", \"ORACLE.run1_14\", \"ORACLE.run1_50\", \"ORACLE.run1_20\", \"ORACLE.run1_26\"]}, \"results\": {\"source_test_label_accuracy\": 0.9994733146067416, \"source_test_label_loss\": 0.008301608264446259, \"target_test_label_accuracy\": 0.16305338541666667, \"target_test_label_loss\": 3.695659637451172, \"source_val_label_accuracy\": 0.9992142857142857, \"source_val_label_loss\": 0.006435403134673834, \"target_val_label_accuracy\": 0.16516927083333333, \"target_val_label_loss\": 3.7069244384765625, \"total_epochs_trained\": 7, \"total_experiment_time_secs\": 1444.5431096553802, \"confusion\": {\"CORES_4\": {\"38\": {\"38\": 40}, \"3\": {\"3\": 123, \"53\": 1}, \"24\": {\"24\": 56}, \"49\": {\"49\": 20}, \"7\": {\"7\": 24}, \"17\": {\"17\": 80}, \"43\": {\"43\": 148}, \"30\": {\"30\": 44}, \"44\": {\"44\": 132}, \"23\": {\"23\": 144}, \"37\": {\"37\": 24}, \"4\": {\"4\": 132}, \"57\": {\"57\": 100}, \"16\": {\"16\": 96}, \"18\": {\"18\": 106, \"52\": 1, \"50\": 1}, \"20\": {\"20\": 124}, \"45\": {\"45\": 96}, \"15\": {\"15\": 132}, \"52\": {\"52\": 116}, \"19\": {\"19\": 140}, \"54\": {\"54\": 108}, \"56\": {\"56\": 130}, \"40\": {\"40\": 134}, \"28\": {\"28\": 32}, \"2\": {\"2\": 36}, \"9\": {\"9\": 120}, \"0\": {\"0\": 80}, \"36\": {\"36\": 92}, \"55\": {\"55\": 130}, \"35\": {\"35\": 40}, \"39\": {\"39\": 20}, \"31\": {\"31\": 28}, \"14\": {\"14\": 16}, \"12\": {\"12\": 92}, \"6\": {\"6\": 111, \"5\": 1}, \"26\": {\"26\": 24}, \"50\": {\"50\": 131, \"21\": 1}, \"21\": {\"21\": 121, \"50\": 1}, \"46\": {\"46\": 140}, \"51\": {\"51\": 140}, \"41\": {\"41\": 36}, \"34\": {\"34\": 24}, \"47\": {\"47\": 120}, \"5\": {\"5\": 108}, \"1\": {\"1\": 40}, \"48\": {\"48\": 134}, \"29\": {\"29\": 118}, \"22\": {\"22\": 128}, \"10\": {\"10\": 131, \"11\": 1}, \"32\": {\"32\": 24}, \"13\": {\"13\": 112}, \"42\": {\"42\": 32}, \"27\": {\"27\": 138}, \"8\": {\"8\": 142}, \"33\": {\"33\": 36}, \"25\": {\"25\": 132}, \"11\": {\"11\": 104}, \"53\": {\"53\": 111, \"21\": 1}}, \"CORES_2\": {\"32\": {\"32\": 28}, \"17\": {\"17\": 104}, \"38\": {\"38\": 20}, \"2\": {\"2\": 32}, \"43\": {\"43\": 144}, \"56\": {\"56\": 144}, \"37\": {\"37\": 36}, \"49\": {\"49\": 24}, \"0\": {\"0\": 48}, \"29\": {\"29\": 128}, \"35\": {\"35\": 32}, \"18\": {\"18\": 48}, \"25\": {\"25\": 136}, \"23\": {\"23\": 124}, \"15\": {\"15\": 146}, \"21\": {\"21\": 120}, \"51\": {\"51\": 128}, \"20\": {\"20\": 138}, \"7\": {\"7\": 36}, \"50\": {\"50\": 136}, \"31\": {\"31\": 28}, \"30\": {\"30\": 140}, \"19\": {\"19\": 156}, \"9\": {\"9\": 144}, \"52\": {\"52\": 124}, \"45\": {\"45\": 128}, \"8\": {\"8\": 154}, \"55\": {\"55\": 160}, \"12\": {\"12\": 92}, \"40\": {\"40\": 140}, \"28\": {\"28\": 28}, \"36\": {\"36\": 116}, \"39\": {\"39\": 28}, \"46\": {\"46\": 122}, \"14\": {\"14\": 24}, \"57\": {\"57\": 142}, \"34\": {\"34\": 28}, \"1\": {\"1\": 112}, \"53\": {\"53\": 136}, \"48\": {\"48\": 130}, \"3\": {\"3\": 92}, \"16\": {\"16\": 152}, \"6\": {\"6\": 124}, \"10\": {\"10\": 112}, \"13\": {\"13\": 116}, \"26\": {\"26\": 24}, \"24\": {\"24\": 96}, \"44\": {\"44\": 100}, \"27\": {\"27\": 150}, \"22\": {\"22\": 128}, \"33\": {\"33\": 28}, \"47\": {\"47\": 118}, \"5\": {\"5\": 120}, \"4\": {\"4\": 138}, \"41\": {\"41\": 20}, \"11\": {\"11\": 150}, \"54\": {\"54\": 108}, \"42\": {\"42\": 36}}, \"CORES_3\": {\"5\": {\"5\": 115, \"3\": 1}, \"32\": {\"32\": 28}, \"33\": {\"33\": 28}, \"49\": {\"49\": 20}, \"39\": {\"39\": 16}, \"11\": {\"11\": 142}, \"8\": {\"8\": 116}, \"26\": {\"26\": 24}, \"51\": {\"51\": 122}, \"4\": {\"4\": 146}, \"52\": {\"52\": 118}, \"47\": {\"47\": 92}, \"17\": {\"17\": 107, \"56\": 1}, \"53\": {\"53\": 136}, \"2\": {\"2\": 32}, \"12\": {\"12\": 92}, \"37\": {\"37\": 28}, \"9\": {\"9\": 148}, \"13\": {\"13\": 128}, \"54\": {\"54\": 100}, \"31\": {\"31\": 28}, \"34\": {\"34\": 32}, \"24\": {\"24\": 104}, \"7\": {\"7\": 36}, \"50\": {\"50\": 118}, \"46\": {\"46\": 128}, \"44\": {\"44\": 88}, \"40\": {\"40\": 116}, \"21\": {\"21\": 127, \"3\": 1}, \"45\": {\"45\": 60}, \"16\": {\"16\": 126}, \"14\": {\"14\": 40}, \"36\": {\"36\": 100}, \"56\": {\"56\": 114}, \"10\": {\"10\": 64}, \"18\": {\"18\": 84}, \"48\": {\"48\": 116}, \"38\": {\"38\": 28}, \"27\": {\"27\": 130}, \"42\": {\"42\": 28}, \"15\": {\"15\": 134}, \"1\": {\"1\": 100}, \"28\": {\"28\": 28}, \"43\": {\"43\": 136}, \"0\": {\"0\": 124}, \"57\": {\"57\": 124}, \"3\": {\"3\": 148}, \"29\": {\"29\": 124}, \"41\": {\"41\": 28}, \"25\": {\"25\": 146}, \"6\": {\"6\": 86, \"11\": 1, \"46\": 1}, \"35\": {\"35\": 28}, \"20\": {\"20\": 126}, \"23\": {\"23\": 134}, \"22\": {\"22\": 140}, \"19\": {\"19\": 116}, \"55\": {\"55\": 124}, \"30\": {\"30\": 120}}, \"CORES_1\": {\"24\": {\"24\": 108}, \"25\": {\"25\": 140}, \"45\": {\"45\": 144}, \"42\": {\"42\": 40}, \"2\": {\"2\": 36}, \"9\": {\"9\": 150}, \"21\": {\"21\": 124}, \"26\": {\"26\": 24}, \"49\": {\"49\": 32}, \"39\": {\"39\": 28}, \"46\": {\"46\": 136}, \"17\": {\"17\": 64}, \"19\": {\"19\": 156}, \"23\": {\"23\": 132}, \"1\": {\"1\": 100}, \"29\": {\"29\": 140}, \"56\": {\"56\": 150}, \"37\": {\"37\": 32}, \"33\": {\"33\": 32}, \"55\": {\"55\": 142}, \"30\": {\"30\": 120}, \"0\": {\"0\": 152}, \"36\": {\"36\": 64}, \"32\": {\"32\": 32}, \"31\": {\"31\": 28}, \"15\": {\"15\": 138}, \"12\": {\"12\": 116}, \"38\": {\"38\": 24}, \"40\": {\"40\": 146}, \"14\": {\"14\": 24}, \"13\": {\"13\": 150}, \"48\": {\"48\": 148}, \"34\": {\"34\": 24}, \"44\": {\"44\": 130}, \"5\": {\"5\": 152}, \"11\": {\"11\": 140}, \"7\": {\"7\": 28}, \"18\": {\"18\": 72}, \"52\": {\"52\": 132}, \"51\": {\"51\": 142}, \"41\": {\"41\": 24}, \"16\": {\"16\": 140}, \"22\": {\"22\": 133, \"24\": 1}, \"3\": {\"3\": 140}, \"54\": {\"54\": 104}, \"27\": {\"27\": 144}, \"20\": {\"20\": 140}, \"8\": {\"8\": 138}, \"50\": {\"50\": 144}, \"57\": {\"57\": 140}, \"4\": {\"4\": 132}, \"47\": {\"47\": 146}, \"10\": {\"10\": 96}, \"35\": {\"35\": 36}, \"53\": {\"53\": 126}, \"6\": {\"6\": 95, \"8\": 1}, \"43\": {\"43\": 140}, \"28\": {\"28\": 28}}, \"CORES_5\": {\"35\": {\"35\": 36}, \"57\": {\"57\": 132}, \"20\": {\"20\": 144}, \"12\": {\"12\": 96}, \"32\": {\"32\": 32}, \"25\": {\"25\": 138}, \"44\": {\"44\": 148}, \"31\": {\"31\": 36}, \"11\": {\"11\": 150}, \"47\": {\"47\": 100}, \"23\": {\"23\": 124}, \"43\": {\"43\": 144}, \"37\": {\"37\": 24}, \"5\": {\"5\": 128}, \"45\": {\"45\": 123, \"4\": 1}, \"7\": {\"7\": 32}, \"13\": {\"13\": 134, \"24\": 2}, \"49\": {\"49\": 36}, \"46\": {\"46\": 148}, \"16\": {\"16\": 136}, \"54\": {\"54\": 112}, \"19\": {\"19\": 152}, \"55\": {\"55\": 150}, \"30\": {\"30\": 128}, \"34\": {\"34\": 36}, \"50\": {\"50\": 134}, \"3\": {\"3\": 99, \"46\": 1}, \"10\": {\"10\": 67, \"24\": 1}, \"27\": {\"27\": 142}, \"33\": {\"33\": 32}, \"56\": {\"56\": 142}, \"9\": {\"9\": 150}, \"14\": {\"14\": 42, \"40\": 2}, \"4\": {\"4\": 100}, \"42\": {\"42\": 40}, \"24\": {\"24\": 80}, \"39\": {\"39\": 20}, \"52\": {\"52\": 130}, \"2\": {\"2\": 28}, \"28\": {\"28\": 32}, \"53\": {\"53\": 122}, \"17\": {\"17\": 116}, \"29\": {\"29\": 132}, \"38\": {\"38\": 32}, \"15\": {\"15\": 144}, \"26\": {\"26\": 24}, \"21\": {\"21\": 144}, \"41\": {\"41\": 28}, \"48\": {\"48\": 136}, \"22\": {\"22\": 28}, \"8\": {\"8\": 148}, \"18\": {\"18\": 64}, \"0\": {\"0\": 122}, \"1\": {\"1\": 138}, \"40\": {\"40\": 124}, \"6\": {\"6\": 128}, \"51\": {\"51\": 142}, \"36\": {\"36\": 92}}, \"ORACLE.run1_50\": {\"7\": {\"3\": 15, \"4\": 18, \"7\": 38, \"13\": 21, \"8\": 15, \"15\": 8, \"5\": 32, \"10\": 23, \"2\": 11, \"1\": 11, \"6\": 24, \"0\": 21, \"14\": 1, \"12\": 1, \"11\": 1}, \"10\": {\"15\": 3, \"8\": 48, \"7\": 25, \"0\": 27, \"6\": 9, \"3\": 20, \"5\": 15, \"2\": 14, \"1\": 8, \"13\": 16, \"14\": 6, \"10\": 35, \"4\": 11, \"12\": 2, \"9\": 1}, \"0\": {\"15\": 7, \"4\": 12, \"5\": 17, \"10\": 33, \"7\": 14, \"8\": 20, \"6\": 9, \"1\": 10, \"11\": 5, \"2\": 29, \"0\": 41, \"3\": 9, \"14\": 10, \"13\": 15, \"12\": 7, \"9\": 2}, \"11\": {\"12\": 38, \"9\": 39, \"1\": 26, \"14\": 25, \"2\": 9, \"11\": 35, \"4\": 16, \"15\": 24, \"6\": 12, \"13\": 6, \"10\": 1, \"5\": 5, \"7\": 4}, \"2\": {\"4\": 12, \"2\": 48, \"10\": 26, \"7\": 8, \"12\": 8, \"9\": 7, \"11\": 9, \"5\": 14, \"0\": 45, \"13\": 7, \"6\": 12, \"8\": 16, \"14\": 13, \"1\": 9, \"15\": 3, \"3\": 3}, \"14\": {\"0\": 10, \"14\": 34, \"15\": 15, \"4\": 23, \"9\": 31, \"6\": 11, \"2\": 24, \"13\": 4, \"11\": 27, \"7\": 3, \"12\": 30, \"1\": 20, \"5\": 5, \"10\": 2, \"8\": 1}, \"9\": {\"9\": 66, \"5\": 5, \"14\": 22, \"1\": 9, \"6\": 6, \"4\": 11, \"11\": 43, \"12\": 53, \"15\": 18, \"2\": 3, \"7\": 1, \"13\": 2, \"0\": 1}, \"13\": {\"7\": 31, \"8\": 19, \"13\": 22, \"10\": 16, \"14\": 7, \"1\": 10, \"4\": 19, \"2\": 10, \"5\": 42, \"6\": 27, \"0\": 13, \"11\": 1, \"3\": 11, \"15\": 11, \"12\": 1}, \"8\": {\"10\": 34, \"3\": 59, \"8\": 52, \"7\": 22, \"5\": 10, \"0\": 20, \"15\": 1, \"2\": 20, \"13\": 9, \"9\": 1, \"4\": 1, \"1\": 5, \"14\": 4, \"6\": 2}, \"15\": {\"14\": 20, \"4\": 26, \"1\": 19, \"15\": 43, \"5\": 20, \"9\": 22, \"11\": 27, \"8\": 2, \"6\": 18, \"7\": 8, \"13\": 10, \"12\": 9, \"10\": 3, \"2\": 4, \"0\": 9}, \"4\": {\"6\": 24, \"11\": 16, \"13\": 20, \"2\": 12, \"4\": 21, \"14\": 12, \"7\": 17, \"5\": 20, \"0\": 13, \"15\": 28, \"9\": 14, \"12\": 5, \"1\": 25, \"8\": 2, \"10\": 9, \"3\": 2}, \"5\": {\"15\": 16, \"12\": 4, \"5\": 37, \"13\": 23, \"1\": 17, \"7\": 33, \"14\": 5, \"8\": 11, \"0\": 16, \"10\": 20, \"4\": 16, \"6\": 23, \"3\": 5, \"2\": 8, \"11\": 5, \"9\": 1}, \"3\": {\"8\": 66, \"3\": 102, \"7\": 15, \"10\": 26, \"0\": 10, \"5\": 9, \"13\": 6, \"6\": 5, \"1\": 1}, \"1\": {\"0\": 10, \"5\": 15, \"11\": 21, \"1\": 24, \"13\": 23, \"15\": 28, \"12\": 11, \"14\": 17, \"10\": 5, \"4\": 23, \"9\": 13, \"6\": 23, \"7\": 14, \"2\": 11, \"8\": 2}, \"6\": {\"1\": 26, \"15\": 17, \"11\": 11, \"13\": 22, \"14\": 15, \"7\": 31, \"9\": 4, \"6\": 24, \"0\": 11, \"4\": 18, \"3\": 1, \"12\": 8, \"10\": 10, \"5\": 25, \"2\": 13, \"8\": 4}, \"12\": {\"12\": 54, \"9\": 58, \"15\": 10, \"11\": 39, \"14\": 38, \"0\": 5, \"2\": 14, \"4\": 7, \"1\": 7, \"6\": 5, \"5\": 2, \"13\": 1}}, \"ORACLE.run1_14\": {\"14\": {\"10\": 15, \"4\": 18, \"5\": 17, \"11\": 23, \"13\": 26, \"0\": 22, \"7\": 8, \"3\": 17, \"2\": 17, \"15\": 4, \"8\": 6, \"6\": 20, \"1\": 11, \"14\": 33, \"9\": 3}, \"6\": {\"6\": 31, \"15\": 17, \"4\": 16, \"3\": 19, \"2\": 31, \"8\": 7, \"13\": 34, \"5\": 16, \"14\": 18, \"10\": 10, \"7\": 11, \"11\": 8, \"0\": 11, \"1\": 11}, \"5\": {\"4\": 23, \"10\": 14, \"0\": 14, \"8\": 9, \"6\": 14, \"15\": 31, \"2\": 19, \"1\": 19, \"14\": 15, \"13\": 12, \"5\": 23, \"3\": 11, \"7\": 27, \"12\": 1, \"9\": 4, \"11\": 4}, \"15\": {\"6\": 14, \"13\": 14, \"7\": 55, \"15\": 64, \"2\": 12, \"14\": 5, \"3\": 7, \"5\": 22, \"1\": 27, \"4\": 13, \"9\": 1, \"10\": 2, \"0\": 3, \"8\": 1}, \"11\": {\"12\": 21, \"11\": 50, \"6\": 12, \"5\": 10, \"10\": 30, \"0\": 25, \"14\": 14, \"3\": 9, \"8\": 14, \"13\": 12, \"4\": 4, \"9\": 29, \"1\": 6, \"2\": 4}, \"8\": {\"0\": 20, \"1\": 15, \"8\": 56, \"11\": 14, \"3\": 16, \"2\": 6, \"4\": 15, \"9\": 30, \"5\": 13, \"7\": 14, \"13\": 9, \"10\": 15, \"12\": 5, \"15\": 2, \"14\": 7, \"6\": 3}, \"12\": {\"12\": 101, \"9\": 55, \"10\": 17, \"8\": 12, \"11\": 34, \"0\": 10, \"3\": 7, \"4\": 3, \"1\": 1}, \"1\": {\"8\": 18, \"7\": 23, \"5\": 24, \"0\": 14, \"3\": 20, \"15\": 24, \"6\": 15, \"1\": 22, \"4\": 22, \"13\": 15, \"2\": 15, \"14\": 13, \"10\": 10, \"11\": 5}, \"2\": {\"5\": 33, \"13\": 17, \"15\": 13, \"8\": 7, \"3\": 23, \"4\": 20, \"1\": 11, \"11\": 5, \"6\": 25, \"7\": 27, \"14\": 18, \"2\": 22, \"10\": 10, \"12\": 2, \"0\": 5, \"9\": 2}, \"13\": {\"6\": 32, \"3\": 10, \"7\": 17, \"8\": 7, \"13\": 26, \"4\": 12, \"1\": 12, \"11\": 13, \"5\": 16, \"14\": 28, \"0\": 9, \"2\": 29, \"9\": 10, \"10\": 7, \"15\": 12}, \"3\": {\"4\": 14, \"8\": 17, \"13\": 14, \"0\": 28, \"3\": 17, \"5\": 22, \"6\": 17, \"10\": 15, \"7\": 6, \"11\": 20, \"1\": 19, \"12\": 5, \"14\": 17, \"15\": 6, \"9\": 12, \"2\": 11}, \"0\": {\"3\": 18, \"10\": 26, \"11\": 37, \"12\": 13, \"15\": 4, \"4\": 17, \"2\": 8, \"5\": 9, \"1\": 10, \"14\": 17, \"0\": 21, \"9\": 15, \"6\": 11, \"8\": 19, \"13\": 13, \"7\": 2}, \"9\": {\"12\": 48, \"0\": 22, \"9\": 46, \"14\": 6, \"10\": 20, \"11\": 38, \"8\": 21, \"13\": 5, \"5\": 8, \"3\": 9, \"1\": 4, \"4\": 6, \"6\": 3, \"2\": 4}, \"4\": {\"11\": 11, \"1\": 24, \"2\": 23, \"8\": 6, \"14\": 21, \"15\": 18, \"6\": 19, \"0\": 11, \"9\": 5, \"4\": 24, \"10\": 9, \"3\": 21, \"7\": 13, \"5\": 20, \"12\": 2, \"13\": 13}, \"7\": {\"6\": 7, \"7\": 59, \"15\": 59, \"5\": 20, \"8\": 13, \"2\": 14, \"1\": 25, \"3\": 8, \"13\": 10, \"4\": 9, \"10\": 4, \"0\": 4, \"14\": 6, \"9\": 1, \"11\": 1}, \"10\": {\"11\": 32, \"0\": 22, \"14\": 19, \"12\": 15, \"8\": 16, \"2\": 16, \"4\": 9, \"10\": 32, \"13\": 23, \"6\": 17, \"5\": 7, \"3\": 9, \"9\": 14, \"1\": 6, \"15\": 2, \"7\": 1}}, \"ORACLE.run1_32\": {\"4\": {\"0\": 22, \"13\": 27, \"12\": 4, \"5\": 19, \"4\": 27, \"3\": 10, \"8\": 22, \"9\": 10, \"14\": 17, \"2\": 30, \"11\": 16, \"15\": 17, \"7\": 19}, \"14\": {\"3\": 21, \"14\": 35, \"11\": 40, \"13\": 15, \"0\": 15, \"8\": 17, \"15\": 4, \"2\": 18, \"5\": 19, \"7\": 32, \"4\": 23, \"9\": 1}, \"5\": {\"14\": 23, \"5\": 30, \"8\": 17, \"0\": 22, \"15\": 18, \"4\": 18, \"7\": 20, \"3\": 22, \"9\": 3, \"13\": 26, \"11\": 19, \"2\": 22}, \"10\": {\"10\": 110, \"1\": 65, \"6\": 36, \"12\": 27, \"9\": 2}, \"13\": {\"8\": 30, \"13\": 26, \"7\": 27, \"15\": 24, \"4\": 21, \"5\": 17, \"14\": 24, \"3\": 25, \"11\": 21, \"2\": 10, \"0\": 15}, \"9\": {\"12\": 46, \"9\": 109, \"2\": 28, \"7\": 6, \"4\": 11, \"10\": 6, \"15\": 2, \"13\": 6, \"0\": 7, \"6\": 6, \"5\": 5, \"14\": 2, \"8\": 4, \"3\": 2}, \"6\": {\"12\": 42, \"10\": 47, \"6\": 110, \"1\": 30, \"9\": 10, \"2\": 1}, \"3\": {\"15\": 23, \"8\": 18, \"3\": 38, \"4\": 20, \"14\": 22, \"5\": 23, \"11\": 18, \"7\": 20, \"0\": 13, \"13\": 30, \"2\": 14, \"12\": 1}, \"15\": {\"15\": 77, \"3\": 35, \"8\": 27, \"2\": 12, \"11\": 12, \"5\": 21, \"0\": 12, \"7\": 7, \"4\": 11, \"13\": 18, \"14\": 8}, \"7\": {\"0\": 26, \"7\": 25, \"13\": 21, \"4\": 23, \"11\": 21, \"2\": 27, \"3\": 22, \"9\": 4, \"5\": 24, \"15\": 11, \"14\": 21, \"8\": 15}, \"12\": {\"12\": 84, \"9\": 63, \"2\": 4, \"6\": 46, \"10\": 34, \"1\": 5, \"5\": 2, \"4\": 1, \"7\": 1}, \"8\": {\"8\": 28, \"11\": 12, \"4\": 32, \"14\": 20, \"15\": 18, \"5\": 16, \"9\": 4, \"7\": 19, \"13\": 29, \"2\": 18, \"3\": 23, \"0\": 21}, \"11\": {\"14\": 30, \"3\": 30, \"5\": 13, \"13\": 27, \"7\": 29, \"4\": 15, \"11\": 36, \"8\": 16, \"15\": 5, \"2\": 15, \"0\": 24}, \"2\": {\"5\": 21, \"13\": 26, \"9\": 8, \"4\": 34, \"11\": 13, \"8\": 8, \"2\": 27, \"14\": 20, \"15\": 12, \"7\": 27, \"0\": 33, \"3\": 8, \"12\": 3}, \"1\": {\"1\": 132, \"10\": 70, \"6\": 32, \"12\": 6}, \"0\": {\"8\": 20, \"12\": 1, \"0\": 27, \"2\": 29, \"7\": 26, \"4\": 28, \"9\": 9, \"14\": 22, \"11\": 10, \"15\": 14, \"13\": 16, \"5\": 23, \"3\": 15}}, \"ORACLE.run1_44\": {\"8\": {\"0\": 67, \"8\": 64, \"15\": 42, \"5\": 39, \"11\": 1, \"4\": 12, \"3\": 1, \"14\": 12, \"9\": 1, \"13\": 1}, \"11\": {\"6\": 40, \"4\": 18, \"11\": 49, \"15\": 3, \"13\": 42, \"3\": 4, \"7\": 25, \"10\": 5, \"2\": 13, \"9\": 24, \"12\": 4, \"14\": 7, \"1\": 2, \"5\": 4}, \"14\": {\"5\": 22, \"4\": 51, \"8\": 19, \"7\": 5, \"15\": 28, \"14\": 45, \"0\": 24, \"2\": 2, \"9\": 19, \"13\": 11, \"6\": 6, \"3\": 2, \"11\": 3, \"10\": 2, \"12\": 1}, \"10\": {\"12\": 49, \"1\": 33, \"10\": 45, \"6\": 13, \"9\": 17, \"2\": 28, \"3\": 22, \"7\": 19, \"13\": 7, \"14\": 1, \"11\": 4, \"15\": 1, \"4\": 1}, \"3\": {\"1\": 43, \"3\": 54, \"4\": 3, \"2\": 24, \"7\": 18, \"9\": 15, \"10\": 28, \"11\": 6, \"12\": 29, \"6\": 12, \"13\": 3, \"14\": 3, \"15\": 2}, \"15\": {\"5\": 33, \"3\": 4, \"14\": 41, \"0\": 46, \"8\": 38, \"15\": 46, \"4\": 20, \"11\": 3, \"1\": 1, \"6\": 1, \"2\": 2, \"9\": 5}, \"2\": {\"1\": 37, \"6\": 20, \"3\": 18, \"9\": 25, \"10\": 31, \"7\": 40, \"12\": 19, \"11\": 7, \"2\": 32, \"13\": 7, \"14\": 3, \"4\": 1}, \"12\": {\"1\": 39, \"10\": 58, \"3\": 37, \"12\": 63, \"7\": 9, \"2\": 16, \"9\": 3, \"13\": 4, \"6\": 6, \"4\": 1, \"14\": 3, \"11\": 1}, \"4\": {\"4\": 47, \"9\": 22, \"14\": 43, \"15\": 28, \"7\": 6, \"8\": 4, \"13\": 19, \"2\": 6, \"11\": 16, \"0\": 19, \"6\": 10, \"5\": 15, \"3\": 3, \"12\": 1, \"10\": 1}, \"1\": {\"10\": 37, \"2\": 27, \"3\": 41, \"12\": 38, \"1\": 38, \"7\": 27, \"9\": 10, \"4\": 2, \"6\": 13, \"13\": 4, \"11\": 3}, \"0\": {\"8\": 64, \"15\": 37, \"5\": 40, \"0\": 61, \"4\": 14, \"14\": 22, \"11\": 1, \"9\": 1}, \"9\": {\"10\": 12, \"1\": 14, \"13\": 32, \"14\": 8, \"4\": 19, \"9\": 26, \"15\": 6, \"11\": 28, \"2\": 27, \"6\": 31, \"7\": 16, \"12\": 9, \"3\": 9, \"5\": 3}, \"5\": {\"14\": 34, \"8\": 37, \"5\": 73, \"15\": 31, \"0\": 39, \"4\": 19, \"13\": 3, \"11\": 3, \"9\": 1}, \"6\": {\"1\": 9, \"13\": 36, \"9\": 29, \"4\": 16, \"5\": 1, \"6\": 42, \"2\": 22, \"7\": 26, \"11\": 34, \"12\": 5, \"14\": 6, \"10\": 6, \"3\": 7, \"8\": 1}, \"7\": {\"3\": 17, \"6\": 34, \"12\": 13, \"2\": 26, \"13\": 21, \"11\": 21, \"14\": 6, \"4\": 6, \"9\": 30, \"10\": 18, \"7\": 29, \"1\": 17, \"15\": 2}, \"13\": {\"9\": 30, \"2\": 18, \"7\": 21, \"12\": 5, \"6\": 27, \"13\": 39, \"11\": 34, \"5\": 3, \"14\": 14, \"4\": 23, \"1\": 11, \"10\": 7, \"15\": 3, \"3\": 4, \"8\": 1}}, \"ORACLE.run1_8\": {\"13\": {\"14\": 16, \"8\": 15, \"0\": 29, \"6\": 11, \"4\": 22, \"1\": 13, \"10\": 21, \"11\": 20, \"2\": 12, \"12\": 11, \"5\": 13, \"13\": 25, \"7\": 10, \"9\": 9, \"3\": 10, \"15\": 3}, \"3\": {\"15\": 29, \"3\": 55, \"6\": 7, \"12\": 30, \"4\": 12, \"2\": 33, \"8\": 23, \"5\": 3, \"11\": 3, \"0\": 9, \"10\": 6, \"7\": 14, \"13\": 10, \"14\": 3, \"1\": 3}, \"15\": {\"8\": 21, \"10\": 4, \"15\": 30, \"7\": 17, \"6\": 11, \"1\": 8, \"12\": 26, \"2\": 26, \"13\": 11, \"3\": 35, \"11\": 12, \"0\": 11, \"4\": 12, \"5\": 6, \"14\": 10}, \"4\": {\"1\": 18, \"12\": 5, \"13\": 19, \"8\": 21, \"10\": 15, \"0\": 11, \"7\": 25, \"5\": 20, \"2\": 14, \"11\": 11, \"4\": 21, \"9\": 9, \"15\": 10, \"14\": 10, \"6\": 15, \"3\": 16}, \"7\": {\"7\": 23, \"12\": 12, \"5\": 8, \"4\": 25, \"2\": 21, \"14\": 19, \"6\": 9, \"15\": 16, \"13\": 17, \"0\": 14, \"9\": 6, \"3\": 24, \"10\": 10, \"8\": 11, \"11\": 11, \"1\": 14}, \"2\": {\"7\": 13, \"4\": 12, \"6\": 16, \"2\": 34, \"12\": 25, \"1\": 9, \"3\": 36, \"10\": 7, \"0\": 7, \"15\": 30, \"8\": 15, \"5\": 4, \"11\": 5, \"14\": 9, \"13\": 17, \"9\": 1}, \"1\": {\"14\": 23, \"0\": 15, \"13\": 14, \"1\": 26, \"8\": 11, \"5\": 27, \"2\": 8, \"15\": 12, \"10\": 20, \"7\": 11, \"6\": 11, \"3\": 3, \"11\": 21, \"12\": 12, \"9\": 5, \"4\": 21}, \"0\": {\"12\": 15, \"4\": 26, \"13\": 21, \"6\": 11, \"8\": 11, \"2\": 12, \"15\": 20, \"10\": 16, \"14\": 10, \"0\": 21, \"9\": 4, \"1\": 18, \"7\": 15, \"3\": 15, \"11\": 15, \"5\": 10}, \"12\": {\"5\": 4, \"12\": 34, \"6\": 13, \"3\": 25, \"2\": 35, \"1\": 10, \"0\": 12, \"15\": 38, \"11\": 6, \"8\": 17, \"13\": 11, \"7\": 16, \"4\": 8, \"10\": 4, \"14\": 7}, \"6\": {\"10\": 11, \"1\": 21, \"6\": 13, \"14\": 19, \"12\": 10, \"5\": 17, \"11\": 9, \"2\": 13, \"13\": 19, \"4\": 17, \"3\": 16, \"8\": 19, \"15\": 18, \"0\": 15, \"9\": 4, \"7\": 19}, \"11\": {\"1\": 25, \"12\": 9, \"7\": 15, \"13\": 12, \"4\": 20, \"15\": 9, \"6\": 15, \"0\": 8, \"5\": 29, \"2\": 6, \"10\": 17, \"11\": 26, \"3\": 3, \"14\": 26, \"8\": 17, \"9\": 3}, \"9\": {\"9\": 120, \"13\": 19, \"10\": 13, \"4\": 16, \"0\": 7, \"14\": 4, \"2\": 3, \"1\": 11, \"11\": 8, \"7\": 11, \"5\": 20, \"6\": 8}, \"5\": {\"8\": 6, \"13\": 18, \"7\": 10, \"12\": 6, \"4\": 22, \"9\": 23, \"0\": 14, \"5\": 25, \"3\": 1, \"6\": 11, \"14\": 24, \"1\": 29, \"11\": 25, \"15\": 6, \"2\": 1, \"10\": 19}, \"10\": {\"10\": 17, \"7\": 14, \"12\": 10, \"4\": 21, \"1\": 13, \"13\": 18, \"8\": 9, \"6\": 12, \"5\": 26, \"9\": 17, \"0\": 25, \"14\": 17, \"11\": 21, \"3\": 6, \"2\": 8, \"15\": 6}, \"14\": {\"12\": 12, \"1\": 23, \"6\": 14, \"10\": 19, \"8\": 19, \"13\": 22, \"9\": 6, \"5\": 19, \"11\": 11, \"14\": 21, \"4\": 23, \"7\": 9, \"2\": 8, \"15\": 13, \"0\": 19, \"3\": 2}, \"8\": {\"6\": 19, \"5\": 20, \"1\": 14, \"3\": 17, \"8\": 19, \"10\": 9, \"11\": 10, \"7\": 14, \"12\": 29, \"2\": 21, \"13\": 10, \"4\": 17, \"0\": 11, \"14\": 13, \"15\": 16, \"9\": 1}}, \"ORACLE.run1_20\": {\"6\": {\"7\": 18, \"4\": 10, \"11\": 23, \"15\": 12, \"6\": 31, \"10\": 21, \"14\": 22, \"9\": 12, \"8\": 17, \"12\": 13, \"0\": 7, \"1\": 7, \"3\": 13, \"5\": 6, \"2\": 18, \"13\": 10}, \"11\": {\"14\": 15, \"11\": 49, \"2\": 26, \"5\": 15, \"6\": 19, \"15\": 16, \"0\": 11, \"4\": 7, \"1\": 12, \"12\": 9, \"7\": 10, \"10\": 11, \"13\": 11, \"9\": 16, \"3\": 8, \"8\": 5}, \"5\": {\"13\": 20, \"11\": 9, \"7\": 14, \"1\": 28, \"12\": 14, \"2\": 18, \"0\": 27, \"5\": 17, \"10\": 4, \"3\": 17, \"6\": 8, \"8\": 12, \"15\": 18, \"4\": 15, \"14\": 4, \"9\": 15}, \"14\": {\"6\": 28, \"11\": 19, \"7\": 15, \"10\": 29, \"14\": 29, \"13\": 15, \"2\": 13, \"8\": 15, \"9\": 15, \"12\": 16, \"0\": 6, \"15\": 7, \"3\": 11, \"1\": 9, \"4\": 10, \"5\": 3}, \"2\": {\"7\": 13, \"4\": 17, \"2\": 23, \"6\": 13, \"13\": 22, \"11\": 11, \"15\": 11, \"12\": 21, \"8\": 15, \"14\": 11, \"9\": 16, \"1\": 19, \"0\": 14, \"5\": 15, \"3\": 11, \"10\": 8}, \"7\": {\"7\": 26, \"10\": 18, \"12\": 15, \"15\": 10, \"4\": 16, \"6\": 16, \"9\": 14, \"13\": 17, \"1\": 7, \"3\": 14, \"14\": 16, \"2\": 14, \"5\": 9, \"8\": 15, \"0\": 13, \"11\": 20}, \"3\": {\"7\": 15, \"3\": 13, \"2\": 15, \"4\": 22, \"14\": 18, \"15\": 14, \"9\": 11, \"11\": 12, \"1\": 21, \"13\": 18, \"5\": 14, \"10\": 16, \"12\": 10, \"8\": 16, \"0\": 18, \"6\": 7}, \"4\": {\"2\": 16, \"14\": 19, \"7\": 16, \"3\": 22, \"10\": 20, \"0\": 13, \"1\": 14, \"8\": 12, \"12\": 11, \"11\": 7, \"9\": 17, \"5\": 16, \"15\": 13, \"6\": 18, \"4\": 18, \"13\": 8}, \"9\": {\"10\": 11, \"14\": 17, \"0\": 15, \"6\": 18, \"13\": 18, \"8\": 11, \"12\": 13, \"11\": 17, \"9\": 10, \"2\": 20, \"5\": 22, \"4\": 17, \"15\": 16, \"3\": 12, \"1\": 11, \"7\": 12}, \"12\": {\"14\": 13, \"5\": 27, \"9\": 17, \"12\": 13, \"6\": 12, \"7\": 21, \"8\": 9, \"3\": 17, \"15\": 15, \"1\": 11, \"13\": 19, \"10\": 8, \"0\": 17, \"2\": 13, \"4\": 14, \"11\": 14}, \"0\": {\"11\": 8, \"12\": 15, \"2\": 12, \"3\": 18, \"10\": 16, \"4\": 18, \"6\": 11, \"0\": 15, \"1\": 23, \"15\": 24, \"13\": 17, \"5\": 21, \"14\": 9, \"9\": 15, \"7\": 9, \"8\": 9}, \"10\": {\"12\": 12, \"7\": 12, \"0\": 9, \"6\": 20, \"10\": 25, \"3\": 18, \"14\": 26, \"8\": 20, \"4\": 16, \"9\": 20, \"1\": 16, \"5\": 6, \"11\": 14, \"2\": 11, \"13\": 5, \"15\": 10}, \"8\": {\"10\": 15, \"1\": 8, \"2\": 20, \"6\": 12, \"13\": 12, \"8\": 23, \"5\": 15, \"15\": 9, \"4\": 22, \"14\": 21, \"7\": 13, \"0\": 17, \"12\": 11, \"3\": 15, \"11\": 15, \"9\": 12}, \"13\": {\"2\": 19, \"3\": 18, \"15\": 19, \"13\": 24, \"4\": 13, \"11\": 15, \"12\": 13, \"14\": 13, \"6\": 10, \"1\": 19, \"7\": 15, \"9\": 11, \"0\": 14, \"10\": 10, \"5\": 17, \"8\": 10}, \"1\": {\"15\": 19, \"6\": 7, \"3\": 15, \"10\": 10, \"14\": 16, \"13\": 19, \"4\": 9, \"0\": 19, \"1\": 23, \"2\": 18, \"8\": 10, \"5\": 20, \"7\": 13, \"12\": 21, \"9\": 15, \"11\": 6}, \"15\": {\"12\": 18, \"7\": 19, \"9\": 15, \"13\": 19, \"1\": 15, \"8\": 15, \"5\": 11, \"15\": 18, \"3\": 20, \"4\": 17, \"6\": 9, \"2\": 19, \"10\": 8, \"11\": 13, \"0\": 16, \"14\": 8}}, \"ORACLE.run1_38\": {\"3\": {\"0\": 19, \"6\": 27, \"7\": 25, \"3\": 90, \"15\": 3, \"9\": 41, \"8\": 12, \"5\": 12, \"1\": 6, \"4\": 2, \"13\": 1, \"10\": 2}, \"8\": {\"13\": 16, \"14\": 9, \"7\": 26, \"8\": 25, \"10\": 26, \"12\": 8, \"3\": 11, \"4\": 8, \"11\": 4, \"5\": 16, \"15\": 20, \"6\": 20, \"9\": 9, \"1\": 17, \"0\": 21, \"2\": 4}, \"0\": {\"14\": 4, \"8\": 29, \"11\": 5, \"3\": 19, \"6\": 22, \"4\": 10, \"7\": 37, \"9\": 19, \"0\": 27, \"5\": 20, \"12\": 7, \"1\": 13, \"13\": 7, \"15\": 10, \"10\": 11}, \"2\": {\"13\": 21, \"11\": 32, \"2\": 65, \"14\": 44, \"10\": 17, \"1\": 18, \"15\": 15, \"4\": 3, \"7\": 3, \"5\": 9, \"0\": 1, \"12\": 4, \"8\": 7, \"6\": 1}, \"4\": {\"0\": 28, \"4\": 86, \"14\": 9, \"11\": 11, \"7\": 14, \"5\": 4, \"12\": 49, \"10\": 13, \"8\": 15, \"1\": 1, \"2\": 2, \"15\": 3, \"6\": 4, \"3\": 1}, \"7\": {\"0\": 28, \"5\": 23, \"4\": 17, \"3\": 23, \"7\": 32, \"10\": 7, \"8\": 25, \"15\": 9, \"12\": 8, \"2\": 4, \"9\": 13, \"6\": 25, \"1\": 14, \"11\": 4, \"13\": 6, \"14\": 2}, \"12\": {\"4\": 47, \"12\": 68, \"0\": 16, \"8\": 8, \"11\": 31, \"7\": 11, \"10\": 20, \"14\": 17, \"13\": 6, \"2\": 3, \"15\": 6, \"5\": 1, \"3\": 2, \"1\": 2, \"6\": 1, \"9\": 1}, \"6\": {\"7\": 15, \"9\": 52, \"3\": 31, \"5\": 13, \"0\": 15, \"6\": 57, \"1\": 15, \"13\": 9, \"10\": 6, \"8\": 13, \"15\": 10, \"11\": 1, \"14\": 3}, \"15\": {\"7\": 9, \"15\": 22, \"1\": 32, \"5\": 14, \"13\": 25, \"14\": 19, \"0\": 18, \"11\": 7, \"6\": 13, \"10\": 27, \"12\": 6, \"8\": 25, \"2\": 10, \"4\": 3, \"3\": 6, \"9\": 4}, \"11\": {\"11\": 68, \"12\": 24, \"2\": 36, \"14\": 45, \"0\": 3, \"10\": 14, \"5\": 3, \"1\": 9, \"4\": 8, \"15\": 14, \"8\": 5, \"13\": 9, \"6\": 1, \"7\": 1}, \"9\": {\"15\": 11, \"9\": 53, \"7\": 19, \"6\": 51, \"3\": 46, \"13\": 9, \"8\": 8, \"0\": 15, \"1\": 12, \"5\": 14, \"11\": 1, \"12\": 1}, \"14\": {\"13\": 10, \"11\": 48, \"10\": 24, \"2\": 30, \"14\": 67, \"1\": 8, \"12\": 21, \"8\": 3, \"0\": 3, \"15\": 16, \"4\": 6, \"7\": 2, \"5\": 1, \"6\": 1}, \"10\": {\"2\": 14, \"14\": 24, \"10\": 29, \"5\": 10, \"8\": 15, \"11\": 23, \"12\": 16, \"6\": 8, \"1\": 15, \"4\": 16, \"7\": 13, \"13\": 23, \"9\": 6, \"15\": 20, \"3\": 1, \"0\": 7}, \"5\": {\"3\": 15, \"1\": 18, \"7\": 20, \"10\": 19, \"12\": 5, \"9\": 22, \"5\": 23, \"0\": 22, \"15\": 24, \"6\": 21, \"8\": 19, \"4\": 8, \"11\": 4, \"2\": 5, \"13\": 9, \"14\": 6}, \"1\": {\"10\": 20, \"1\": 45, \"13\": 29, \"2\": 11, \"15\": 31, \"7\": 10, \"8\": 17, \"6\": 11, \"14\": 6, \"0\": 7, \"5\": 26, \"9\": 18, \"3\": 5, \"12\": 1, \"11\": 2, \"4\": 1}, \"13\": {\"8\": 16, \"15\": 20, \"14\": 22, \"10\": 23, \"1\": 29, \"11\": 20, \"2\": 28, \"3\": 3, \"13\": 30, \"5\": 16, \"0\": 10, \"9\": 6, \"7\": 7, \"6\": 7, \"12\": 3}}, \"ORACLE.run1_26\": {\"5\": {\"12\": 16, \"1\": 8, \"13\": 15, \"3\": 23, \"0\": 15, \"5\": 25, \"6\": 16, \"10\": 11, \"8\": 11, \"15\": 17, \"2\": 23, \"9\": 15, \"7\": 14, \"11\": 9, \"14\": 13, \"4\": 9}, \"8\": {\"0\": 17, \"3\": 12, \"15\": 22, \"1\": 9, \"9\": 27, \"14\": 18, \"7\": 19, \"13\": 18, \"8\": 13, \"4\": 20, \"6\": 14, \"5\": 12, \"10\": 12, \"12\": 10, \"2\": 13, \"11\": 4}, \"4\": {\"10\": 12, \"13\": 8, \"7\": 17, \"15\": 19, \"5\": 18, \"9\": 18, \"4\": 22, \"3\": 25, \"6\": 19, \"12\": 5, \"2\": 18, \"0\": 16, \"8\": 14, \"14\": 11, \"1\": 16, \"11\": 2}, \"12\": {\"12\": 54, \"9\": 14, \"11\": 47, \"8\": 10, \"4\": 8, \"6\": 20, \"3\": 3, \"1\": 10, \"5\": 7, \"0\": 14, \"10\": 17, \"13\": 9, \"15\": 10, \"7\": 2, \"14\": 12, \"2\": 3}, \"6\": {\"0\": 20, \"12\": 19, \"10\": 22, \"14\": 21, \"9\": 17, \"15\": 15, \"4\": 14, \"6\": 13, \"2\": 9, \"3\": 18, \"13\": 12, \"5\": 15, \"8\": 13, \"7\": 9, \"1\": 14, \"11\": 9}, \"7\": {\"1\": 19, \"5\": 14, \"7\": 17, \"9\": 16, \"4\": 25, \"14\": 20, \"8\": 16, \"3\": 23, \"2\": 22, \"10\": 9, \"13\": 18, \"0\": 15, \"6\": 13, \"15\": 8, \"12\": 4, \"11\": 1}, \"10\": {\"6\": 23, \"4\": 24, \"10\": 17, \"5\": 13, \"11\": 4, \"14\": 13, \"15\": 18, \"8\": 13, \"2\": 16, \"12\": 14, \"13\": 10, \"3\": 9, \"7\": 23, \"0\": 15, \"1\": 17, \"9\": 11}, \"0\": {\"10\": 15, \"8\": 17, \"2\": 12, \"6\": 16, \"14\": 30, \"0\": 22, \"4\": 22, \"11\": 7, \"7\": 8, \"9\": 20, \"12\": 12, \"3\": 13, \"1\": 26, \"15\": 6, \"13\": 9, \"5\": 5}, \"15\": {\"2\": 15, \"13\": 17, \"9\": 20, \"5\": 17, \"12\": 10, \"6\": 21, \"1\": 16, \"4\": 12, \"7\": 17, \"15\": 16, \"8\": 13, \"14\": 11, \"10\": 18, \"3\": 17, \"0\": 14, \"11\": 6}, \"9\": {\"9\": 20, \"7\": 14, \"10\": 21, \"4\": 16, \"2\": 19, \"13\": 14, \"8\": 28, \"11\": 8, \"15\": 6, \"14\": 19, \"6\": 8, \"5\": 16, \"0\": 12, \"3\": 16, \"1\": 12, \"12\": 11}, \"11\": {\"12\": 48, \"11\": 108, \"10\": 8, \"13\": 14, \"5\": 11, \"2\": 2, \"1\": 2, \"8\": 5, \"6\": 12, \"0\": 6, \"7\": 3, \"15\": 4, \"3\": 4, \"14\": 7, \"9\": 5, \"4\": 1}, \"14\": {\"8\": 22, \"0\": 17, \"9\": 9, \"14\": 25, \"4\": 16, \"3\": 15, \"10\": 23, \"15\": 20, \"2\": 12, \"5\": 7, \"1\": 21, \"6\": 17, \"12\": 9, \"7\": 15, \"13\": 9, \"11\": 3}, \"2\": {\"6\": 17, \"8\": 20, \"0\": 15, \"9\": 15, \"15\": 13, \"4\": 23, \"7\": 30, \"2\": 19, \"3\": 22, \"14\": 10, \"13\": 13, \"5\": 10, \"1\": 18, \"10\": 11, \"11\": 2, \"12\": 2}, \"13\": {\"14\": 10, \"6\": 17, \"10\": 15, \"9\": 17, \"13\": 18, \"15\": 17, \"1\": 14, \"0\": 9, \"5\": 23, \"12\": 6, \"2\": 18, \"8\": 14, \"3\": 28, \"4\": 10, \"11\": 13, \"7\": 11}, \"3\": {\"8\": 15, \"4\": 21, \"5\": 18, \"0\": 11, \"1\": 14, \"15\": 16, \"3\": 34, \"12\": 3, \"2\": 25, \"9\": 13, \"7\": 19, \"6\": 8, \"14\": 14, \"13\": 15, \"10\": 13, \"11\": 1}, \"1\": {\"14\": 25, \"9\": 19, \"5\": 14, \"13\": 10, \"8\": 20, \"10\": 20, \"7\": 15, \"1\": 20, \"2\": 11, \"0\": 21, \"6\": 9, \"3\": 15, \"15\": 16, \"12\": 8, \"4\": 15, \"11\": 2}}}, \"per_domain_accuracy\": {\"CORES_4\": {\"accuracy\": 0.9984848484848485, \"source?\": true}, \"CORES_2\": {\"accuracy\": 1.0, \"source?\": true}, \"CORES_3\": {\"accuracy\": 0.9990699404761905, \"source?\": true}, \"CORES_1\": {\"accuracy\": 0.9996621621621622, \"source?\": true}, \"CORES_5\": {\"accuracy\": 0.9987779329608939, \"source?\": true}, \"ORACLE.run1_50\": {\"accuracy\": 0.17604166666666668, \"source?\": false}, \"ORACLE.run1_14\": {\"accuracy\": 0.16328125, \"source?\": false}, \"ORACLE.run1_32\": {\"accuracy\": 0.23984375, \"source?\": false}, \"ORACLE.run1_44\": {\"accuracy\": 0.19609375, \"source?\": false}, \"ORACLE.run1_8\": {\"accuracy\": 0.1328125, \"source?\": false}, \"ORACLE.run1_20\": {\"accuracy\": 0.09296875, \"source?\": false}, \"ORACLE.run1_38\": {\"accuracy\": 0.20494791666666667, \"source?\": false}, \"ORACLE.run1_26\": {\"accuracy\": 0.11536458333333334, \"source?\": false}}}, \"history\": {\"epoch_indices\": [1, 2, 3, 4, 5, 6, 7], \"train_label_loss\": [0.026504711236010597, 0.007098113348027119, 0.004560621920442269, 0.003957106692929265, 0.0037943093920359957, 0.0029223428474915783, 0.002524006302431579], \"source_val_label_loss\": [0.006579089444130659, 0.0059143793769180775, 0.006435403134673834, 0.008138833567500114, 0.0045052641071379185, 0.009600399062037468, 0.006025883834809065], \"target_val_label_loss\": [2.7239556312561035, 3.1653339862823486, 3.7069244384765625, 3.8969736099243164, 3.5983569622039795, 3.9243245124816895, 4.047014236450195], \"source_val_acc_label\": [0.9985, 0.9993214285714286, 0.9992142857142857, 0.9990357142857142, 0.9995357142857143, 0.999, 0.9995714285714286], \"target_val_acc_label\": [0.14514973958333333, 0.14498697916666667, 0.16516927083333333, 0.14459635416666666, 0.16077473958333333, 0.15556640625, 0.15126953125]}, \"dataset_metrics\": {\"source\": {\"train\": {\"n_unique_x\": 175189, \"n_unique_y\": 58, \"n_batch/episode\": 6331}, \"val\": {\"n_unique_x\": 37166, \"n_unique_y\": 58, \"n_batch/episode\": 875}, \"test\": {\"n_unique_x\": 37642, \"n_unique_y\": 58, \"n_batch/episode\": 890}}, \"target\": {\"train\": {\"n_unique_x\": 179200, \"n_unique_y\": 16, \"n_batch/episode\": 6720}, \"val\": {\"n_unique_x\": 38400, \"n_unique_y\": 16, \"n_batch/episode\": 960}, \"test\": {\"n_unique_x\": 38400, \"n_unique_y\": 16, \"n_batch/episode\": 960}}}}'"
      ]
     },
     "execution_count": 29,
     "metadata": {},
     "output_type": "execute_result"
    }
   ],
   "source": [
    "json.dumps(experiment)"
   ]
  }
 ],
 "metadata": {
  "celltoolbar": "Tags",
  "kernelspec": {
   "display_name": "Python 3 (ipykernel)",
   "language": "python",
   "name": "python3"
  },
  "language_info": {
   "codemirror_mode": {
    "name": "ipython",
    "version": 3
   },
   "file_extension": ".py",
   "mimetype": "text/x-python",
   "name": "python",
   "nbconvert_exporter": "python",
   "pygments_lexer": "ipython3",
   "version": "3.8.12"
  },
  "papermill": {
   "default_parameters": {},
   "duration": 1659.417521,
   "end_time": "2022-03-22T18:13:01.564951",
   "environment_variables": {},
   "exception": null,
   "input_path": "/root/csc500-main/csc500-notebooks/templates/tl_ptn_template.ipynb",
   "output_path": "trial.ipynb",
   "parameters": {
    "parameters": {
     "BEST_MODEL_PATH": "./best_model.pth",
     "NUM_LOGS_PER_EPOCH": 10,
     "criteria_for_best": "target_accuracy",
     "dataset_seed": 500,
     "datasets": [
      {
       "domain_prefix": "CORES_",
       "domains": [
        1,
        2,
        3,
        4,
        5
       ],
       "episode_transforms": [],
       "labels": [
        "1-10.",
        "1-11.",
        "1-15.",
        "1-16.",
        "1-17.",
        "1-18.",
        "1-19.",
        "10-4.",
        "10-7.",
        "11-1.",
        "11-14.",
        "11-17.",
        "11-20.",
        "11-7.",
        "13-20.",
        "13-8.",
        "14-10.",
        "14-11.",
        "14-14.",
        "14-7.",
        "15-1.",
        "15-20.",
        "16-1.",
        "16-16.",
        "17-10.",
        "17-11.",
        "17-2.",
        "19-1.",
        "19-16.",
        "19-19.",
        "19-20.",
        "19-3.",
        "2-10.",
        "2-11.",
        "2-17.",
        "2-18.",
        "2-20.",
        "2-3.",
        "2-4.",
        "2-5.",
        "2-6.",
        "2-7.",
        "2-8.",
        "3-13.",
        "3-18.",
        "3-3.",
        "4-1.",
        "4-10.",
        "4-11.",
        "4-19.",
        "5-5.",
        "6-15.",
        "7-10.",
        "7-14.",
        "8-18.",
        "8-20.",
        "8-3.",
        "8-8."
       ],
       "num_examples_per_domain_per_label": -1,
       "pickle_path": "/root/csc500-main/datasets/cores.stratified_ds.2022A.pkl",
       "source_or_target_dataset": "source",
       "x_transforms": [
        "unit_mag"
       ]
      },
      {
       "domain_prefix": "ORACLE.run1_",
       "domains": [
        32,
        38,
        8,
        44,
        14,
        50,
        20,
        26
       ],
       "episode_transforms": [],
       "labels": [
        "3123D52",
        "3123D65",
        "3123D79",
        "3123D80",
        "3123D54",
        "3123D70",
        "3123D7B",
        "3123D89",
        "3123D58",
        "3123D76",
        "3123D7D",
        "3123EFE",
        "3123D64",
        "3123D78",
        "3123D7E",
        "3124E4A"
       ],
       "num_examples_per_domain_per_label": 2000,
       "pickle_path": "/root/csc500-main/datasets/oracle.Run1_10kExamples_stratified_ds.2022A.pkl",
       "source_or_target_dataset": "target",
       "x_transforms": [
        "unit_mag"
       ]
      }
     ],
     "device": "cuda",
     "experiment_name": "tl_1v2:cores-oracle.run1.limited",
     "lr": 0.0001,
     "n_epoch": 50,
     "n_query": 2,
     "n_shot": 3,
     "n_way": 16,
     "patience": 3,
     "seed": 500,
     "test_k_factor": 2,
     "torch_default_dtype": "torch.float32",
     "train_k_factor": 3,
     "val_k_factor": 2,
     "x_net": [
      {
       "class": "nnReshape",
       "kargs": {
        "shape": [
         -1,
         1,
         2,
         256
        ]
       }
      },
      {
       "class": "Conv2d",
       "kargs": {
        "bias": false,
        "in_channels": 1,
        "kernel_size": [
         1,
         7
        ],
        "out_channels": 256,
        "padding": [
         0,
         3
        ]
       }
      },
      {
       "class": "ReLU",
       "kargs": {
        "inplace": true
       }
      },
      {
       "class": "BatchNorm2d",
       "kargs": {
        "num_features": 256
       }
      },
      {
       "class": "Conv2d",
       "kargs": {
        "bias": true,
        "in_channels": 256,
        "kernel_size": [
         2,
         7
        ],
        "out_channels": 80,
        "padding": [
         0,
         3
        ]
       }
      },
      {
       "class": "ReLU",
       "kargs": {
        "inplace": true
       }
      },
      {
       "class": "BatchNorm2d",
       "kargs": {
        "num_features": 80
       }
      },
      {
       "class": "Flatten",
       "kargs": {}
      },
      {
       "class": "Linear",
       "kargs": {
        "in_features": 20480,
        "out_features": 256
       }
      },
      {
       "class": "ReLU",
       "kargs": {
        "inplace": true
       }
      },
      {
       "class": "BatchNorm1d",
       "kargs": {
        "num_features": 256
       }
      },
      {
       "class": "Linear",
       "kargs": {
        "in_features": 256,
        "out_features": 256
       }
      }
     ]
    }
   },
   "start_time": "2022-03-22T17:45:22.147430",
   "version": "2.3.4"
  }
 },
 "nbformat": 4,
 "nbformat_minor": 5
}