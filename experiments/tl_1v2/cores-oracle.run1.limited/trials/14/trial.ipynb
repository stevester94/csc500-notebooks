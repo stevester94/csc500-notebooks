{
 "cells": [
  {
   "cell_type": "markdown",
   "id": "9fea5f46",
   "metadata": {
    "papermill": {
     "duration": 0.028087,
     "end_time": "2022-03-22T12:13:20.230781",
     "exception": false,
     "start_time": "2022-03-22T12:13:20.202694",
     "status": "completed"
    },
    "tags": []
   },
   "source": [
    "# Transfer Learning Template"
   ]
  },
  {
   "cell_type": "code",
   "execution_count": 1,
   "id": "0902182a",
   "metadata": {
    "execution": {
     "iopub.execute_input": "2022-03-22T12:13:20.293364Z",
     "iopub.status.busy": "2022-03-22T12:13:20.292512Z",
     "iopub.status.idle": "2022-03-22T12:13:22.122561Z",
     "shell.execute_reply": "2022-03-22T12:13:22.121919Z"
    },
    "papermill": {
     "duration": 1.868653,
     "end_time": "2022-03-22T12:13:22.122699",
     "exception": false,
     "start_time": "2022-03-22T12:13:20.254046",
     "status": "completed"
    },
    "tags": []
   },
   "outputs": [],
   "source": [
    "%load_ext autoreload\n",
    "%autoreload 2\n",
    "%matplotlib inline\n",
    "\n",
    "    \n",
    "import os, json, sys, time, random\n",
    "import numpy as np\n",
    "import torch\n",
    "from torch.optim import Adam\n",
    "from  easydict import EasyDict\n",
    "import matplotlib.pyplot as plt\n",
    "\n",
    "from steves_models.steves_ptn import Steves_Prototypical_Network\n",
    "\n",
    "from steves_utils.lazy_iterable_wrapper import Lazy_Iterable_Wrapper\n",
    "from steves_utils.iterable_aggregator import Iterable_Aggregator\n",
    "from steves_utils.ptn_train_eval_test_jig import  PTN_Train_Eval_Test_Jig\n",
    "from steves_utils.torch_sequential_builder import build_sequential\n",
    "from steves_utils.torch_utils import get_dataset_metrics, ptn_confusion_by_domain_over_dataloader\n",
    "from steves_utils.utils_v2 import (per_domain_accuracy_from_confusion, get_datasets_base_path)\n",
    "from steves_utils.PTN.utils import independent_accuracy_assesment\n",
    "\n",
    "from torch.utils.data import DataLoader\n",
    "\n",
    "from steves_utils.stratified_dataset.episodic_accessor import Episodic_Accessor_Factory\n",
    "\n",
    "from steves_utils.ptn_do_report import (\n",
    "    get_loss_curve,\n",
    "    get_results_table,\n",
    "    get_parameters_table,\n",
    "    get_domain_accuracies,\n",
    ")\n",
    "\n",
    "from steves_utils.transforms import get_chained_transform"
   ]
  },
  {
   "cell_type": "markdown",
   "id": "41c840b4",
   "metadata": {
    "papermill": {
     "duration": 0.019192,
     "end_time": "2022-03-22T12:13:22.168521",
     "exception": false,
     "start_time": "2022-03-22T12:13:22.149329",
     "status": "completed"
    },
    "tags": []
   },
   "source": [
    "# Allowed Parameters\n",
    "These are allowed parameters, not defaults\n",
    "Each of these values need to be present in the injected parameters (the notebook will raise an exception if they are not present)\n",
    "\n",
    "Papermill uses the cell tag \"parameters\" to inject the real parameters below this cell.\n",
    "Enable tags to see what I mean"
   ]
  },
  {
   "cell_type": "code",
   "execution_count": 2,
   "id": "fd44eb83",
   "metadata": {
    "execution": {
     "iopub.execute_input": "2022-03-22T12:13:22.212483Z",
     "iopub.status.busy": "2022-03-22T12:13:22.212075Z",
     "iopub.status.idle": "2022-03-22T12:13:22.233964Z",
     "shell.execute_reply": "2022-03-22T12:13:22.234596Z"
    },
    "papermill": {
     "duration": 0.047073,
     "end_time": "2022-03-22T12:13:22.234780",
     "exception": false,
     "start_time": "2022-03-22T12:13:22.187707",
     "status": "completed"
    },
    "tags": []
   },
   "outputs": [],
   "source": [
    "required_parameters = {\n",
    "    \"experiment_name\",\n",
    "    \"lr\",\n",
    "    \"device\",\n",
    "    \"seed\",\n",
    "    \"dataset_seed\",\n",
    "    \"n_shot\",\n",
    "    \"n_query\",\n",
    "    \"n_way\",\n",
    "    \"train_k_factor\",\n",
    "    \"val_k_factor\",\n",
    "    \"test_k_factor\",\n",
    "    \"n_epoch\",\n",
    "    \"patience\",\n",
    "    \"criteria_for_best\",\n",
    "    \"x_net\",\n",
    "    \"datasets\",\n",
    "    \"torch_default_dtype\",\n",
    "    \"NUM_LOGS_PER_EPOCH\",\n",
    "    \"BEST_MODEL_PATH\",\n",
    "    \"x_shape\",\n",
    "}"
   ]
  },
  {
   "cell_type": "code",
   "execution_count": 3,
   "id": "fa3f0049",
   "metadata": {
    "execution": {
     "iopub.execute_input": "2022-03-22T12:13:22.297428Z",
     "iopub.status.busy": "2022-03-22T12:13:22.296534Z",
     "iopub.status.idle": "2022-03-22T12:13:22.318278Z",
     "shell.execute_reply": "2022-03-22T12:13:22.318902Z"
    },
    "papermill": {
     "duration": 0.060077,
     "end_time": "2022-03-22T12:13:22.319087",
     "exception": false,
     "start_time": "2022-03-22T12:13:22.259010",
     "status": "completed"
    },
    "tags": [
     "parameters"
    ]
   },
   "outputs": [],
   "source": [
    "from steves_utils.CORES.utils import (\n",
    "    ALL_NODES,\n",
    "    ALL_NODES_MINIMUM_1000_EXAMPLES,\n",
    "    ALL_DAYS\n",
    ")\n",
    "\n",
    "from steves_utils.ORACLE.utils_v2 import (\n",
    "    ALL_DISTANCES_FEET_NARROWED,\n",
    "    ALL_RUNS,\n",
    "    ALL_SERIAL_NUMBERS,\n",
    ")\n",
    "\n",
    "standalone_parameters = {}\n",
    "standalone_parameters[\"experiment_name\"] = \"STANDALONE PTN\"\n",
    "standalone_parameters[\"lr\"] = 0.001\n",
    "standalone_parameters[\"device\"] = \"cuda\"\n",
    "\n",
    "standalone_parameters[\"seed\"] = 1337\n",
    "standalone_parameters[\"dataset_seed\"] = 1337\n",
    "\n",
    "standalone_parameters[\"n_way\"] = 8\n",
    "standalone_parameters[\"n_shot\"] = 3\n",
    "standalone_parameters[\"n_query\"]  = 2\n",
    "standalone_parameters[\"train_k_factor\"] = 1\n",
    "standalone_parameters[\"val_k_factor\"] = 2\n",
    "standalone_parameters[\"test_k_factor\"] = 2\n",
    "\n",
    "\n",
    "standalone_parameters[\"n_epoch\"] = 50\n",
    "\n",
    "standalone_parameters[\"patience\"] = 10\n",
    "standalone_parameters[\"criteria_for_best\"] = \"source_loss\"\n",
    "\n",
    "standalone_parameters[\"datasets\"] = [\n",
    "    {\n",
    "        \"labels\": ALL_SERIAL_NUMBERS,\n",
    "        \"domains\": ALL_DISTANCES_FEET_NARROWED,\n",
    "        \"num_examples_per_domain_per_label\": 100,\n",
    "        \"pickle_path\": os.path.join(get_datasets_base_path(), \"oracle.Run1_framed_2000Examples_stratified_ds.2022A.pkl\"),\n",
    "        \"source_or_target_dataset\": \"source\",\n",
    "        \"x_transforms\": [\"unit_mag\", \"minus_two\"],\n",
    "        \"episode_transforms\": [],\n",
    "        \"domain_prefix\": \"ORACLE_\"\n",
    "    },\n",
    "    {\n",
    "        \"labels\": ALL_NODES,\n",
    "        \"domains\": ALL_DAYS,\n",
    "        \"num_examples_per_domain_per_label\": 100,\n",
    "        \"pickle_path\": os.path.join(get_datasets_base_path(), \"cores.stratified_ds.2022A.pkl\"),\n",
    "        \"source_or_target_dataset\": \"target\",\n",
    "        \"x_transforms\": [\"unit_power\", \"times_zero\"],\n",
    "        \"episode_transforms\": [],\n",
    "        \"domain_prefix\": \"CORES_\"\n",
    "    }   \n",
    "]\n",
    "\n",
    "standalone_parameters[\"torch_default_dtype\"] = \"torch.float32\" \n",
    "\n",
    "\n",
    "\n",
    "standalone_parameters[\"x_net\"] =     [\n",
    "    {\"class\": \"nnReshape\", \"kargs\": {\"shape\":[-1, 1, 2, 256]}},\n",
    "    {\"class\": \"Conv2d\", \"kargs\": { \"in_channels\":1, \"out_channels\":256, \"kernel_size\":(1,7), \"bias\":False, \"padding\":(0,3), },},\n",
    "    {\"class\": \"ReLU\", \"kargs\": {\"inplace\": True}},\n",
    "    {\"class\": \"BatchNorm2d\", \"kargs\": {\"num_features\":256}},\n",
    "\n",
    "    {\"class\": \"Conv2d\", \"kargs\": { \"in_channels\":256, \"out_channels\":80, \"kernel_size\":(2,7), \"bias\":True, \"padding\":(0,3), },},\n",
    "    {\"class\": \"ReLU\", \"kargs\": {\"inplace\": True}},\n",
    "    {\"class\": \"BatchNorm2d\", \"kargs\": {\"num_features\":80}},\n",
    "    {\"class\": \"Flatten\", \"kargs\": {}},\n",
    "\n",
    "    {\"class\": \"Linear\", \"kargs\": {\"in_features\": 80*256, \"out_features\": 256}}, # 80 units per IQ pair\n",
    "    {\"class\": \"ReLU\", \"kargs\": {\"inplace\": True}},\n",
    "    {\"class\": \"BatchNorm1d\", \"kargs\": {\"num_features\":256}},\n",
    "\n",
    "    {\"class\": \"Linear\", \"kargs\": {\"in_features\": 256, \"out_features\": 256}},\n",
    "]\n",
    "\n",
    "# Parameters relevant to results\n",
    "# These parameters will basically never need to change\n",
    "standalone_parameters[\"NUM_LOGS_PER_EPOCH\"] = 10\n",
    "standalone_parameters[\"BEST_MODEL_PATH\"] = \"./best_model.pth\"\n",
    "\n",
    "\n",
    "\n",
    "\n"
   ]
  },
  {
   "cell_type": "code",
   "execution_count": 4,
   "id": "2f9cca19",
   "metadata": {
    "execution": {
     "iopub.execute_input": "2022-03-22T12:13:22.376753Z",
     "iopub.status.busy": "2022-03-22T12:13:22.375458Z",
     "iopub.status.idle": "2022-03-22T12:13:22.396217Z",
     "shell.execute_reply": "2022-03-22T12:13:22.396880Z"
    },
    "papermill": {
     "duration": 0.054158,
     "end_time": "2022-03-22T12:13:22.397059",
     "exception": false,
     "start_time": "2022-03-22T12:13:22.342901",
     "status": "completed"
    },
    "tags": [
     "injected-parameters"
    ]
   },
   "outputs": [],
   "source": [
    "# Parameters\n",
    "parameters = {\n",
    "    \"experiment_name\": \"tl_1v2:cores-oracle.run1.limited\",\n",
    "    \"device\": \"cuda\",\n",
    "    \"lr\": 0.0001,\n",
    "    \"n_shot\": 3,\n",
    "    \"n_query\": 2,\n",
    "    \"train_k_factor\": 3,\n",
    "    \"val_k_factor\": 2,\n",
    "    \"test_k_factor\": 2,\n",
    "    \"torch_default_dtype\": \"torch.float32\",\n",
    "    \"n_epoch\": 50,\n",
    "    \"patience\": 3,\n",
    "    \"criteria_for_best\": \"target_accuracy\",\n",
    "    \"x_net\": [\n",
    "        {\"class\": \"nnReshape\", \"kargs\": {\"shape\": [-1, 1, 2, 256]}},\n",
    "        {\n",
    "            \"class\": \"Conv2d\",\n",
    "            \"kargs\": {\n",
    "                \"in_channels\": 1,\n",
    "                \"out_channels\": 256,\n",
    "                \"kernel_size\": [1, 7],\n",
    "                \"bias\": False,\n",
    "                \"padding\": [0, 3],\n",
    "            },\n",
    "        },\n",
    "        {\"class\": \"ReLU\", \"kargs\": {\"inplace\": True}},\n",
    "        {\"class\": \"BatchNorm2d\", \"kargs\": {\"num_features\": 256}},\n",
    "        {\n",
    "            \"class\": \"Conv2d\",\n",
    "            \"kargs\": {\n",
    "                \"in_channels\": 256,\n",
    "                \"out_channels\": 80,\n",
    "                \"kernel_size\": [2, 7],\n",
    "                \"bias\": True,\n",
    "                \"padding\": [0, 3],\n",
    "            },\n",
    "        },\n",
    "        {\"class\": \"ReLU\", \"kargs\": {\"inplace\": True}},\n",
    "        {\"class\": \"BatchNorm2d\", \"kargs\": {\"num_features\": 80}},\n",
    "        {\"class\": \"Flatten\", \"kargs\": {}},\n",
    "        {\"class\": \"Linear\", \"kargs\": {\"in_features\": 20480, \"out_features\": 256}},\n",
    "        {\"class\": \"ReLU\", \"kargs\": {\"inplace\": True}},\n",
    "        {\"class\": \"BatchNorm1d\", \"kargs\": {\"num_features\": 256}},\n",
    "        {\"class\": \"Linear\", \"kargs\": {\"in_features\": 256, \"out_features\": 256}},\n",
    "    ],\n",
    "    \"NUM_LOGS_PER_EPOCH\": 10,\n",
    "    \"BEST_MODEL_PATH\": \"./best_model.pth\",\n",
    "    \"n_way\": 16,\n",
    "    \"datasets\": [\n",
    "        {\n",
    "            \"labels\": [\n",
    "                \"1-10.\",\n",
    "                \"1-11.\",\n",
    "                \"1-15.\",\n",
    "                \"1-16.\",\n",
    "                \"1-17.\",\n",
    "                \"1-18.\",\n",
    "                \"1-19.\",\n",
    "                \"10-4.\",\n",
    "                \"10-7.\",\n",
    "                \"11-1.\",\n",
    "                \"11-14.\",\n",
    "                \"11-17.\",\n",
    "                \"11-20.\",\n",
    "                \"11-7.\",\n",
    "                \"13-20.\",\n",
    "                \"13-8.\",\n",
    "                \"14-10.\",\n",
    "                \"14-11.\",\n",
    "                \"14-14.\",\n",
    "                \"14-7.\",\n",
    "                \"15-1.\",\n",
    "                \"15-20.\",\n",
    "                \"16-1.\",\n",
    "                \"16-16.\",\n",
    "                \"17-10.\",\n",
    "                \"17-11.\",\n",
    "                \"17-2.\",\n",
    "                \"19-1.\",\n",
    "                \"19-16.\",\n",
    "                \"19-19.\",\n",
    "                \"19-20.\",\n",
    "                \"19-3.\",\n",
    "                \"2-10.\",\n",
    "                \"2-11.\",\n",
    "                \"2-17.\",\n",
    "                \"2-18.\",\n",
    "                \"2-20.\",\n",
    "                \"2-3.\",\n",
    "                \"2-4.\",\n",
    "                \"2-5.\",\n",
    "                \"2-6.\",\n",
    "                \"2-7.\",\n",
    "                \"2-8.\",\n",
    "                \"3-13.\",\n",
    "                \"3-18.\",\n",
    "                \"3-3.\",\n",
    "                \"4-1.\",\n",
    "                \"4-10.\",\n",
    "                \"4-11.\",\n",
    "                \"4-19.\",\n",
    "                \"5-5.\",\n",
    "                \"6-15.\",\n",
    "                \"7-10.\",\n",
    "                \"7-14.\",\n",
    "                \"8-18.\",\n",
    "                \"8-20.\",\n",
    "                \"8-3.\",\n",
    "                \"8-8.\",\n",
    "            ],\n",
    "            \"domains\": [1, 2, 3, 4, 5],\n",
    "            \"num_examples_per_domain_per_label\": -1,\n",
    "            \"pickle_path\": \"/root/csc500-main/datasets/cores.stratified_ds.2022A.pkl\",\n",
    "            \"source_or_target_dataset\": \"source\",\n",
    "            \"x_transforms\": [],\n",
    "            \"episode_transforms\": [],\n",
    "            \"domain_prefix\": \"CORES_\",\n",
    "        },\n",
    "        {\n",
    "            \"labels\": [\n",
    "                \"3123D52\",\n",
    "                \"3123D65\",\n",
    "                \"3123D79\",\n",
    "                \"3123D80\",\n",
    "                \"3123D54\",\n",
    "                \"3123D70\",\n",
    "                \"3123D7B\",\n",
    "                \"3123D89\",\n",
    "                \"3123D58\",\n",
    "                \"3123D76\",\n",
    "                \"3123D7D\",\n",
    "                \"3123EFE\",\n",
    "                \"3123D64\",\n",
    "                \"3123D78\",\n",
    "                \"3123D7E\",\n",
    "                \"3124E4A\",\n",
    "            ],\n",
    "            \"domains\": [32, 38, 8, 44, 14, 50, 20, 26],\n",
    "            \"num_examples_per_domain_per_label\": 2000,\n",
    "            \"pickle_path\": \"/root/csc500-main/datasets/oracle.Run1_10kExamples_stratified_ds.2022A.pkl\",\n",
    "            \"source_or_target_dataset\": \"target\",\n",
    "            \"x_transforms\": [],\n",
    "            \"episode_transforms\": [],\n",
    "            \"domain_prefix\": \"ORACLE.run1_\",\n",
    "        },\n",
    "    ],\n",
    "    \"dataset_seed\": 154325,\n",
    "    \"seed\": 154325,\n",
    "}\n"
   ]
  },
  {
   "cell_type": "code",
   "execution_count": 5,
   "id": "8fa1cc33",
   "metadata": {
    "execution": {
     "iopub.execute_input": "2022-03-22T12:13:22.449187Z",
     "iopub.status.busy": "2022-03-22T12:13:22.448020Z",
     "iopub.status.idle": "2022-03-22T12:13:22.469474Z",
     "shell.execute_reply": "2022-03-22T12:13:22.468677Z"
    },
    "papermill": {
     "duration": 0.047431,
     "end_time": "2022-03-22T12:13:22.469623",
     "exception": false,
     "start_time": "2022-03-22T12:13:22.422192",
     "status": "completed"
    },
    "tags": []
   },
   "outputs": [],
   "source": [
    "# Set this to True if you want to run this template directly\n",
    "STANDALONE = False\n",
    "if STANDALONE:\n",
    "    print(\"parameters not injected, running with standalone_parameters\")\n",
    "    parameters = standalone_parameters\n",
    "\n",
    "if not 'parameters' in locals() and not 'parameters' in globals():\n",
    "    raise Exception(\"Parameter injection failed\")\n",
    "\n",
    "#Use an easy dict for all the parameters\n",
    "p = EasyDict(parameters)\n",
    "\n",
    "if \"x_shape\" not in p:\n",
    "    p.x_shape = [2,256] # Default to this if we dont supply x_shape\n",
    "\n",
    "\n",
    "supplied_keys = set(p.keys())\n",
    "\n",
    "if  supplied_keys != required_parameters:\n",
    "    print(\"Parameters are incorrect\")\n",
    "    if len(supplied_keys - required_parameters)>0: print(\"Shouldn't have:\", str(supplied_keys - required_parameters))\n",
    "    if len(required_parameters - supplied_keys)>0: print(\"Need to have:\", str(required_parameters - supplied_keys))\n",
    "    raise RuntimeError(\"Parameters are incorrect\")"
   ]
  },
  {
   "cell_type": "code",
   "execution_count": 6,
   "id": "3a028d58",
   "metadata": {
    "execution": {
     "iopub.execute_input": "2022-03-22T12:13:22.518088Z",
     "iopub.status.busy": "2022-03-22T12:13:22.516308Z",
     "iopub.status.idle": "2022-03-22T12:13:22.538471Z",
     "shell.execute_reply": "2022-03-22T12:13:22.537675Z"
    },
    "papermill": {
     "duration": 0.044423,
     "end_time": "2022-03-22T12:13:22.538621",
     "exception": false,
     "start_time": "2022-03-22T12:13:22.494198",
     "status": "completed"
    },
    "tags": []
   },
   "outputs": [],
   "source": [
    "###################################\n",
    "# Set the RNGs and make it all deterministic\n",
    "###################################\n",
    "np.random.seed(p.seed)\n",
    "random.seed(p.seed)\n",
    "torch.manual_seed(p.seed)\n",
    "\n",
    "torch.use_deterministic_algorithms(True) "
   ]
  },
  {
   "cell_type": "code",
   "execution_count": 7,
   "id": "b691acf6",
   "metadata": {
    "execution": {
     "iopub.execute_input": "2022-03-22T12:13:22.586904Z",
     "iopub.status.busy": "2022-03-22T12:13:22.586362Z",
     "iopub.status.idle": "2022-03-22T12:13:22.608537Z",
     "shell.execute_reply": "2022-03-22T12:13:22.607718Z"
    },
    "papermill": {
     "duration": 0.045446,
     "end_time": "2022-03-22T12:13:22.608689",
     "exception": false,
     "start_time": "2022-03-22T12:13:22.563243",
     "status": "completed"
    },
    "tags": []
   },
   "outputs": [],
   "source": [
    "###########################################\n",
    "# The stratified datasets honor this\n",
    "###########################################\n",
    "torch.set_default_dtype(eval(p.torch_default_dtype))"
   ]
  },
  {
   "cell_type": "code",
   "execution_count": 8,
   "id": "b5fba671",
   "metadata": {
    "execution": {
     "iopub.execute_input": "2022-03-22T12:13:22.660569Z",
     "iopub.status.busy": "2022-03-22T12:13:22.659996Z",
     "iopub.status.idle": "2022-03-22T12:13:22.717120Z",
     "shell.execute_reply": "2022-03-22T12:13:22.716316Z"
    },
    "papermill": {
     "duration": 0.080824,
     "end_time": "2022-03-22T12:13:22.717273",
     "exception": false,
     "start_time": "2022-03-22T12:13:22.636449",
     "status": "completed"
    },
    "tags": []
   },
   "outputs": [],
   "source": [
    "###################################\n",
    "# Build the network(s)\n",
    "# Note: It's critical to do this AFTER setting the RNG\n",
    "###################################\n",
    "x_net = build_sequential(p.x_net)"
   ]
  },
  {
   "cell_type": "code",
   "execution_count": 9,
   "id": "5d7e61cc",
   "metadata": {
    "execution": {
     "iopub.execute_input": "2022-03-22T12:13:22.766417Z",
     "iopub.status.busy": "2022-03-22T12:13:22.765390Z",
     "iopub.status.idle": "2022-03-22T12:13:22.789366Z",
     "shell.execute_reply": "2022-03-22T12:13:22.788559Z"
    },
    "papermill": {
     "duration": 0.04657,
     "end_time": "2022-03-22T12:13:22.789517",
     "exception": false,
     "start_time": "2022-03-22T12:13:22.742947",
     "status": "completed"
    },
    "tags": []
   },
   "outputs": [],
   "source": [
    "start_time_secs = time.time()"
   ]
  },
  {
   "cell_type": "code",
   "execution_count": 10,
   "id": "c6b67dfd",
   "metadata": {
    "execution": {
     "iopub.execute_input": "2022-03-22T12:13:22.840345Z",
     "iopub.status.busy": "2022-03-22T12:13:22.839974Z",
     "iopub.status.idle": "2022-03-22T12:13:22.859286Z",
     "shell.execute_reply": "2022-03-22T12:13:22.858478Z"
    },
    "papermill": {
     "duration": 0.041995,
     "end_time": "2022-03-22T12:13:22.859436",
     "exception": false,
     "start_time": "2022-03-22T12:13:22.817441",
     "status": "completed"
    },
    "tags": []
   },
   "outputs": [],
   "source": [
    "p.domains_source = []\n",
    "p.domains_target = []\n",
    "\n",
    "\n",
    "train_original_source = []\n",
    "val_original_source   = []\n",
    "test_original_source  = []\n",
    "\n",
    "train_original_target = []\n",
    "val_original_target   = []\n",
    "test_original_target  = []"
   ]
  },
  {
   "cell_type": "code",
   "execution_count": 11,
   "id": "e3d9c3d3",
   "metadata": {
    "execution": {
     "iopub.execute_input": "2022-03-22T12:13:22.913311Z",
     "iopub.status.busy": "2022-03-22T12:13:22.912445Z",
     "iopub.status.idle": "2022-03-22T12:13:22.930689Z",
     "shell.execute_reply": "2022-03-22T12:13:22.929853Z"
    },
    "papermill": {
     "duration": 0.040891,
     "end_time": "2022-03-22T12:13:22.930846",
     "exception": false,
     "start_time": "2022-03-22T12:13:22.889955",
     "status": "completed"
    },
    "tags": []
   },
   "outputs": [],
   "source": [
    "# global_x_transform_func = lambda x: normalize(x.to(torch.get_default_dtype()), \"unit_power\") # unit_power, unit_mag\n",
    "# global_x_transform_func = lambda x: normalize(x, \"unit_power\") # unit_power, unit_mag"
   ]
  },
  {
   "cell_type": "code",
   "execution_count": 12,
   "id": "acb78fd2",
   "metadata": {
    "execution": {
     "iopub.execute_input": "2022-03-22T12:13:22.987013Z",
     "iopub.status.busy": "2022-03-22T12:13:22.983213Z",
     "iopub.status.idle": "2022-03-22T12:13:23.012488Z",
     "shell.execute_reply": "2022-03-22T12:13:23.011688Z"
    },
    "papermill": {
     "duration": 0.056917,
     "end_time": "2022-03-22T12:13:23.012638",
     "exception": false,
     "start_time": "2022-03-22T12:13:22.955721",
     "status": "completed"
    },
    "tags": []
   },
   "outputs": [],
   "source": [
    "def add_dataset(\n",
    "    labels,\n",
    "    domains,\n",
    "    pickle_path,\n",
    "    x_transforms,\n",
    "    episode_transforms,\n",
    "    domain_prefix,\n",
    "    num_examples_per_domain_per_label,\n",
    "    source_or_target_dataset:str,\n",
    "    iterator_seed=p.seed,\n",
    "    dataset_seed=p.dataset_seed,\n",
    "    n_shot=p.n_shot,\n",
    "    n_way=p.n_way,\n",
    "    n_query=p.n_query,\n",
    "    train_val_test_k_factors=(p.train_k_factor,p.val_k_factor,p.test_k_factor),\n",
    "):\n",
    "   \n",
    "    if x_transforms == []: x_transform = None\n",
    "    else: x_transform = get_chained_transform(x_transforms)\n",
    "    \n",
    "    if episode_transforms == []: episode_transform = None\n",
    "    else: raise Exception(\"episode_transforms not implemented\")\n",
    "    \n",
    "    episode_transform = lambda tup, _prefix=domain_prefix: (_prefix + str(tup[0]), tup[1])\n",
    "\n",
    "\n",
    "    eaf = Episodic_Accessor_Factory(\n",
    "        labels=labels,\n",
    "        domains=domains,\n",
    "        num_examples_per_domain_per_label=num_examples_per_domain_per_label,\n",
    "        iterator_seed=iterator_seed,\n",
    "        dataset_seed=dataset_seed,\n",
    "        n_shot=n_shot,\n",
    "        n_way=n_way,\n",
    "        n_query=n_query,\n",
    "        train_val_test_k_factors=train_val_test_k_factors,\n",
    "        pickle_path=pickle_path,\n",
    "        x_transform_func=x_transform,\n",
    "    )\n",
    "\n",
    "    train, val, test = eaf.get_train(), eaf.get_val(), eaf.get_test()\n",
    "    train = Lazy_Iterable_Wrapper(train, episode_transform)\n",
    "    val = Lazy_Iterable_Wrapper(val, episode_transform)\n",
    "    test = Lazy_Iterable_Wrapper(test, episode_transform)\n",
    "\n",
    "    if source_or_target_dataset==\"source\":\n",
    "        train_original_source.append(train)\n",
    "        val_original_source.append(val)\n",
    "        test_original_source.append(test)\n",
    "\n",
    "        p.domains_source.extend(\n",
    "            [domain_prefix + str(u) for u in domains]\n",
    "        )\n",
    "    elif source_or_target_dataset==\"target\":\n",
    "        train_original_target.append(train)\n",
    "        val_original_target.append(val)\n",
    "        test_original_target.append(test)\n",
    "        p.domains_target.extend(\n",
    "            [domain_prefix + str(u) for u in domains]\n",
    "        )\n",
    "    else:\n",
    "        raise Exception(f\"invalid source_or_target_dataset: {source_or_target_dataset}\")\n",
    "    "
   ]
  },
  {
   "cell_type": "code",
   "execution_count": 13,
   "id": "fe266617",
   "metadata": {
    "execution": {
     "iopub.execute_input": "2022-03-22T12:13:23.060957Z",
     "iopub.status.busy": "2022-03-22T12:13:23.060597Z",
     "iopub.status.idle": "2022-03-22T12:13:29.419418Z",
     "shell.execute_reply": "2022-03-22T12:13:29.418654Z"
    },
    "papermill": {
     "duration": 6.381206,
     "end_time": "2022-03-22T12:13:29.419617",
     "exception": false,
     "start_time": "2022-03-22T12:13:23.038411",
     "status": "completed"
    },
    "tags": []
   },
   "outputs": [],
   "source": [
    "for ds in p.datasets:\n",
    "    add_dataset(**ds)"
   ]
  },
  {
   "cell_type": "code",
   "execution_count": 14,
   "id": "b90d65ac",
   "metadata": {
    "execution": {
     "iopub.execute_input": "2022-03-22T12:13:29.470766Z",
     "iopub.status.busy": "2022-03-22T12:13:29.470173Z",
     "iopub.status.idle": "2022-03-22T12:13:29.494715Z",
     "shell.execute_reply": "2022-03-22T12:13:29.493901Z"
    },
    "papermill": {
     "duration": 0.049249,
     "end_time": "2022-03-22T12:13:29.494870",
     "exception": false,
     "start_time": "2022-03-22T12:13:29.445621",
     "status": "completed"
    },
    "tags": []
   },
   "outputs": [],
   "source": [
    "# from steves_utils.CORES.utils import (\n",
    "#     ALL_NODES,\n",
    "#     ALL_NODES_MINIMUM_1000_EXAMPLES,\n",
    "#     ALL_DAYS\n",
    "# )\n",
    "\n",
    "# add_dataset(\n",
    "#     labels=ALL_NODES,\n",
    "#     domains = ALL_DAYS,\n",
    "#     num_examples_per_domain_per_label=100,\n",
    "#     pickle_path=os.path.join(get_datasets_base_path(), \"cores.stratified_ds.2022A.pkl\"),\n",
    "#     source_or_target_dataset=\"target\",\n",
    "#     x_transform_func=global_x_transform_func,\n",
    "#     domain_modifier=lambda u: f\"cores_{u}\"\n",
    "# )"
   ]
  },
  {
   "cell_type": "code",
   "execution_count": 15,
   "id": "76db484d",
   "metadata": {
    "execution": {
     "iopub.execute_input": "2022-03-22T12:13:29.560440Z",
     "iopub.status.busy": "2022-03-22T12:13:29.556315Z",
     "iopub.status.idle": "2022-03-22T12:13:29.568275Z",
     "shell.execute_reply": "2022-03-22T12:13:29.568961Z"
    },
    "papermill": {
     "duration": 0.045929,
     "end_time": "2022-03-22T12:13:29.569150",
     "exception": false,
     "start_time": "2022-03-22T12:13:29.523221",
     "status": "completed"
    },
    "tags": []
   },
   "outputs": [],
   "source": [
    "# from steves_utils.ORACLE.utils_v2 import (\n",
    "#     ALL_DISTANCES_FEET,\n",
    "#     ALL_RUNS,\n",
    "#     ALL_SERIAL_NUMBERS,\n",
    "# )\n",
    "\n",
    "\n",
    "# add_dataset(\n",
    "#     labels=ALL_SERIAL_NUMBERS,\n",
    "#     domains = list(set(ALL_DISTANCES_FEET) - {2,62}),\n",
    "#     num_examples_per_domain_per_label=100,\n",
    "#     pickle_path=os.path.join(get_datasets_base_path(), \"oracle.Run2_framed_2000Examples_stratified_ds.2022A.pkl\"),\n",
    "#     source_or_target_dataset=\"source\",\n",
    "#     x_transform_func=global_x_transform_func,\n",
    "#     domain_modifier=lambda u: f\"oracle1_{u}\"\n",
    "# )\n"
   ]
  },
  {
   "cell_type": "code",
   "execution_count": 16,
   "id": "97dea9d2",
   "metadata": {
    "execution": {
     "iopub.execute_input": "2022-03-22T12:13:29.618590Z",
     "iopub.status.busy": "2022-03-22T12:13:29.617742Z",
     "iopub.status.idle": "2022-03-22T12:13:29.638698Z",
     "shell.execute_reply": "2022-03-22T12:13:29.637887Z"
    },
    "papermill": {
     "duration": 0.045002,
     "end_time": "2022-03-22T12:13:29.638851",
     "exception": false,
     "start_time": "2022-03-22T12:13:29.593849",
     "status": "completed"
    },
    "tags": []
   },
   "outputs": [],
   "source": [
    "# from steves_utils.ORACLE.utils_v2 import (\n",
    "#     ALL_DISTANCES_FEET,\n",
    "#     ALL_RUNS,\n",
    "#     ALL_SERIAL_NUMBERS,\n",
    "# )\n",
    "\n",
    "\n",
    "# add_dataset(\n",
    "#     labels=ALL_SERIAL_NUMBERS,\n",
    "#     domains = list(set(ALL_DISTANCES_FEET) - {2,62,56}),\n",
    "#     num_examples_per_domain_per_label=100,\n",
    "#     pickle_path=os.path.join(get_datasets_base_path(), \"oracle.Run2_framed_2000Examples_stratified_ds.2022A.pkl\"),\n",
    "#     source_or_target_dataset=\"source\",\n",
    "#     x_transform_func=global_x_transform_func,\n",
    "#     domain_modifier=lambda u: f\"oracle2_{u}\"\n",
    "# )"
   ]
  },
  {
   "cell_type": "code",
   "execution_count": 17,
   "id": "6f289866",
   "metadata": {
    "execution": {
     "iopub.execute_input": "2022-03-22T12:13:29.691253Z",
     "iopub.status.busy": "2022-03-22T12:13:29.690082Z",
     "iopub.status.idle": "2022-03-22T12:13:29.710072Z",
     "shell.execute_reply": "2022-03-22T12:13:29.709263Z"
    },
    "papermill": {
     "duration": 0.044881,
     "end_time": "2022-03-22T12:13:29.710226",
     "exception": false,
     "start_time": "2022-03-22T12:13:29.665345",
     "status": "completed"
    },
    "tags": []
   },
   "outputs": [],
   "source": [
    "# add_dataset(\n",
    "#     labels=list(range(19)),\n",
    "#     domains = [0,1,2],\n",
    "#     num_examples_per_domain_per_label=100,\n",
    "#     pickle_path=os.path.join(get_datasets_base_path(), \"metehan.stratified_ds.2022A.pkl\"),\n",
    "#     source_or_target_dataset=\"target\",\n",
    "#     x_transform_func=global_x_transform_func,\n",
    "#     domain_modifier=lambda u: f\"met_{u}\"\n",
    "# )"
   ]
  },
  {
   "cell_type": "code",
   "execution_count": 18,
   "id": "86a863c3",
   "metadata": {
    "execution": {
     "iopub.execute_input": "2022-03-22T12:13:29.762311Z",
     "iopub.status.busy": "2022-03-22T12:13:29.761746Z",
     "iopub.status.idle": "2022-03-22T12:13:29.782514Z",
     "shell.execute_reply": "2022-03-22T12:13:29.781699Z"
    },
    "papermill": {
     "duration": 0.045953,
     "end_time": "2022-03-22T12:13:29.782667",
     "exception": false,
     "start_time": "2022-03-22T12:13:29.736714",
     "status": "completed"
    },
    "tags": []
   },
   "outputs": [],
   "source": [
    "# # from steves_utils.wisig.utils import (\n",
    "# #     ALL_NODES_MINIMUM_100_EXAMPLES,\n",
    "# #     ALL_NODES_MINIMUM_500_EXAMPLES,\n",
    "# #     ALL_NODES_MINIMUM_1000_EXAMPLES,\n",
    "# #     ALL_DAYS\n",
    "# # )\n",
    "\n",
    "# import steves_utils.wisig.utils as wisig\n",
    "\n",
    "\n",
    "# add_dataset(\n",
    "#     labels=wisig.ALL_NODES_MINIMUM_100_EXAMPLES,\n",
    "#     domains = wisig.ALL_DAYS,\n",
    "#     num_examples_per_domain_per_label=100,\n",
    "#     pickle_path=os.path.join(get_datasets_base_path(), \"wisig.node3-19.stratified_ds.2022A.pkl\"),\n",
    "#     source_or_target_dataset=\"target\",\n",
    "#     x_transform_func=global_x_transform_func,\n",
    "#     domain_modifier=lambda u: f\"wisig_{u}\"\n",
    "# )"
   ]
  },
  {
   "cell_type": "code",
   "execution_count": 19,
   "id": "fd5442bc",
   "metadata": {
    "execution": {
     "iopub.execute_input": "2022-03-22T12:13:29.840426Z",
     "iopub.status.busy": "2022-03-22T12:13:29.838486Z",
     "iopub.status.idle": "2022-03-22T12:13:29.859285Z",
     "shell.execute_reply": "2022-03-22T12:13:29.858465Z"
    },
    "papermill": {
     "duration": 0.050003,
     "end_time": "2022-03-22T12:13:29.859438",
     "exception": false,
     "start_time": "2022-03-22T12:13:29.809435",
     "status": "completed"
    },
    "tags": []
   },
   "outputs": [],
   "source": [
    "###################################\n",
    "# Build the dataset\n",
    "###################################\n",
    "train_original_source = Iterable_Aggregator(train_original_source, p.seed)\n",
    "val_original_source = Iterable_Aggregator(val_original_source, p.seed)\n",
    "test_original_source = Iterable_Aggregator(test_original_source, p.seed)\n",
    "\n",
    "\n",
    "train_original_target = Iterable_Aggregator(train_original_target, p.seed)\n",
    "val_original_target = Iterable_Aggregator(val_original_target, p.seed)\n",
    "test_original_target = Iterable_Aggregator(test_original_target, p.seed)\n",
    "\n",
    "# For CNN We only use X and Y. And we only train on the source.\n",
    "# Properly form the data using a transform lambda and Lazy_Iterable_Wrapper. Finally wrap them in a dataloader\n",
    "\n",
    "transform_lambda = lambda ex: ex[1] # Original is (<domain>, <episode>) so we strip down to episode only\n",
    "\n",
    "train_processed_source = Lazy_Iterable_Wrapper(train_original_source, transform_lambda)\n",
    "val_processed_source   = Lazy_Iterable_Wrapper(val_original_source, transform_lambda)\n",
    "test_processed_source  = Lazy_Iterable_Wrapper(test_original_source, transform_lambda)\n",
    "\n",
    "train_processed_target = Lazy_Iterable_Wrapper(train_original_target, transform_lambda)\n",
    "val_processed_target   = Lazy_Iterable_Wrapper(val_original_target, transform_lambda)\n",
    "test_processed_target  = Lazy_Iterable_Wrapper(test_original_target, transform_lambda)\n",
    "\n",
    "datasets = EasyDict({\n",
    "    \"source\": {\n",
    "        \"original\": {\"train\":train_original_source, \"val\":val_original_source, \"test\":test_original_source},\n",
    "        \"processed\": {\"train\":train_processed_source, \"val\":val_processed_source, \"test\":test_processed_source}\n",
    "    },\n",
    "    \"target\": {\n",
    "        \"original\": {\"train\":train_original_target, \"val\":val_original_target, \"test\":test_original_target},\n",
    "        \"processed\": {\"train\":train_processed_target, \"val\":val_processed_target, \"test\":test_processed_target}\n",
    "    },\n",
    "})"
   ]
  },
  {
   "cell_type": "code",
   "execution_count": 20,
   "id": "5b3c01fc",
   "metadata": {
    "execution": {
     "iopub.execute_input": "2022-03-22T12:13:29.912842Z",
     "iopub.status.busy": "2022-03-22T12:13:29.912469Z",
     "iopub.status.idle": "2022-03-22T12:13:44.338181Z",
     "shell.execute_reply": "2022-03-22T12:13:44.337312Z"
    },
    "papermill": {
     "duration": 14.450518,
     "end_time": "2022-03-22T12:13:44.338358",
     "exception": false,
     "start_time": "2022-03-22T12:13:29.887840",
     "status": "completed"
    },
    "tags": []
   },
   "outputs": [
    {
     "name": "stdout",
     "output_type": "stream",
     "text": [
      "{'CORES_5', 'CORES_3', 'CORES_2', 'CORES_4', 'CORES_1'}\n"
     ]
    },
    {
     "name": "stdout",
     "output_type": "stream",
     "text": [
      "{'ORACLE.run1_26', 'ORACLE.run1_14', 'ORACLE.run1_50', 'ORACLE.run1_8', 'ORACLE.run1_44', 'ORACLE.run1_38', 'ORACLE.run1_32', 'ORACLE.run1_20'}\n"
     ]
    },
    {
     "name": "stdout",
     "output_type": "stream",
     "text": [
      "tensor([[[-5.8290e-03, -3.4181e-03,  1.2482e-02,  ..., -3.0518e-04,\n",
      "          -4.1505e-03,  3.3875e-03],\n",
      "         [ 2.6856e-03, -1.0102e-02, -5.7374e-03,  ...,  2.5025e-03,\n",
      "           1.8311e-03, -1.3550e-02]],\n",
      "\n",
      "        [[-2.6246e-03,  1.8006e-03,  1.3153e-02,  ...,  1.8616e-03,\n",
      "          -3.9063e-03,  2.5635e-03],\n",
      "         [ 1.5259e-04, -7.6601e-03,  3.0824e-03,  ...,  9.1555e-04,\n",
      "          -1.8311e-03, -2.2584e-03]],\n",
      "\n",
      "        [[ 3.5096e-03, -1.2390e-02, -7.6601e-03,  ...,  8.1484e-03,\n",
      "           5.2492e-03, -7.9348e-03],\n",
      "         [ 1.3214e-02,  2.5941e-03, -7.2328e-03,  ...,  5.2186e-03,\n",
      "           1.4222e-02,  2.4415e-03]],\n",
      "\n",
      "        ...,\n",
      "\n",
      "        [[-1.8311e-03,  2.0447e-03,  4.8219e-03,  ...,  2.5941e-03,\n",
      "          -3.1129e-03,  1.0041e-02],\n",
      "         [ 5.0050e-03,  5.3102e-03, -1.1902e-03,  ...,  3.9674e-04,\n",
      "           2.5941e-03,  2.5330e-03]],\n",
      "\n",
      "        [[-3.0518e-05,  2.7161e-03, -1.5870e-03,  ..., -5.9816e-03,\n",
      "          -5.1881e-03,  3.1129e-03],\n",
      "         [-3.9674e-04, -4.4557e-03, -4.9745e-03,  ..., -8.0568e-03,\n",
      "           9.4607e-04, -2.1363e-03]],\n",
      "\n",
      "        [[-1.1597e-03,  1.1597e-03,  1.8921e-03,  ...,  1.7395e-03,\n",
      "          -8.5146e-03, -7.9348e-03],\n",
      "         [-4.2726e-04,  2.7467e-04,  1.5259e-04,  ..., -1.1841e-02,\n",
      "          -9.6438e-03,  7.1718e-03]]])\n"
     ]
    }
   ],
   "source": [
    "from steves_utils.transforms import get_average_magnitude, get_average_power\n",
    "\n",
    "print(set([u for u,_ in val_original_source]))\n",
    "print(set([u for u,_ in val_original_target]))\n",
    "\n",
    "s_x, s_y, q_x, q_y, _ = next(iter(train_processed_source))\n",
    "print(s_x)\n",
    "\n",
    "# for ds in [\n",
    "#     train_processed_source,\n",
    "#     val_processed_source,\n",
    "#     test_processed_source,\n",
    "#     train_processed_target,\n",
    "#     val_processed_target,\n",
    "#     test_processed_target\n",
    "# ]:\n",
    "#     for s_x, s_y, q_x, q_y, _ in ds:\n",
    "#         for X in (s_x, q_x):\n",
    "#             for x in X:\n",
    "#                 assert np.isclose(get_average_magnitude(x.numpy()), 1.0)\n",
    "#                 assert np.isclose(get_average_power(x.numpy()), 1.0)\n",
    "                "
   ]
  },
  {
   "cell_type": "code",
   "execution_count": 21,
   "id": "bbdacba1",
   "metadata": {
    "execution": {
     "iopub.execute_input": "2022-03-22T12:13:44.396174Z",
     "iopub.status.busy": "2022-03-22T12:13:44.395798Z",
     "iopub.status.idle": "2022-03-22T12:13:44.665249Z",
     "shell.execute_reply": "2022-03-22T12:13:44.664872Z"
    },
    "papermill": {
     "duration": 0.296027,
     "end_time": "2022-03-22T12:13:44.665361",
     "exception": false,
     "start_time": "2022-03-22T12:13:44.369334",
     "status": "completed"
    },
    "tags": []
   },
   "outputs": [
    {
     "name": "stdout",
     "output_type": "stream",
     "text": [
      "(2, 256)\n"
     ]
    }
   ],
   "source": [
    "###################################\n",
    "# Build the model\n",
    "###################################\n",
    "# easfsl only wants a tuple for the shape\n",
    "model = Steves_Prototypical_Network(x_net, device=p.device, x_shape=tuple(p.x_shape))\n",
    "optimizer = Adam(params=model.parameters(), lr=p.lr)"
   ]
  },
  {
   "cell_type": "code",
   "execution_count": 22,
   "id": "22b39ac5",
   "metadata": {
    "execution": {
     "iopub.execute_input": "2022-03-22T12:13:44.716768Z",
     "iopub.status.busy": "2022-03-22T12:13:44.716378Z",
     "iopub.status.idle": "2022-03-22T12:26:24.913018Z",
     "shell.execute_reply": "2022-03-22T12:26:24.912668Z"
    },
    "papermill": {
     "duration": 760.223975,
     "end_time": "2022-03-22T12:26:24.913108",
     "exception": false,
     "start_time": "2022-03-22T12:13:44.689133",
     "status": "completed"
    },
    "tags": []
   },
   "outputs": [
    {
     "name": "stdout",
     "output_type": "stream",
     "text": [
      "epoch: 1, [batch: 1 / 6297], examples_per_second: 33.8302, train_label_loss: 2.0536, \n"
     ]
    },
    {
     "name": "stdout",
     "output_type": "stream",
     "text": [
      "epoch: 1, [batch: 630 / 6297], examples_per_second: 3814.0909, train_label_loss: 0.1451, \n"
     ]
    },
    {
     "name": "stdout",
     "output_type": "stream",
     "text": [
      "epoch: 1, [batch: 1260 / 6297], examples_per_second: 3899.7583, train_label_loss: 0.0341, \n"
     ]
    },
    {
     "name": "stdout",
     "output_type": "stream",
     "text": [
      "epoch: 1, [batch: 1889 / 6297], examples_per_second: 3936.0862, train_label_loss: 0.0015, \n"
     ]
    },
    {
     "name": "stdout",
     "output_type": "stream",
     "text": [
      "epoch: 1, [batch: 2519 / 6297], examples_per_second: 3768.4963, train_label_loss: 0.0006, \n"
     ]
    },
    {
     "name": "stdout",
     "output_type": "stream",
     "text": [
      "epoch: 1, [batch: 3149 / 6297], examples_per_second: 3762.8675, train_label_loss: 0.0001, \n"
     ]
    },
    {
     "name": "stdout",
     "output_type": "stream",
     "text": [
      "epoch: 1, [batch: 3778 / 6297], examples_per_second: 3820.7091, train_label_loss: 0.0033, \n"
     ]
    },
    {
     "name": "stdout",
     "output_type": "stream",
     "text": [
      "epoch: 1, [batch: 4408 / 6297], examples_per_second: 3881.4584, train_label_loss: 0.0014, \n"
     ]
    },
    {
     "name": "stdout",
     "output_type": "stream",
     "text": [
      "epoch: 1, [batch: 5037 / 6297], examples_per_second: 3921.2406, train_label_loss: 0.0001, \n"
     ]
    },
    {
     "name": "stdout",
     "output_type": "stream",
     "text": [
      "epoch: 1, [batch: 5667 / 6297], examples_per_second: 3896.9236, train_label_loss: 0.0000, \n"
     ]
    },
    {
     "name": "stdout",
     "output_type": "stream",
     "text": [
      "=============================================================\n",
      "epoch: 1, source_val_acc_label: 0.9981, target_val_acc_label: 0.3889, source_val_label_loss: 0.0099, target_val_label_loss: 1.9516, \n",
      "=============================================================\n"
     ]
    },
    {
     "name": "stdout",
     "output_type": "stream",
     "text": [
      "New best\n"
     ]
    },
    {
     "name": "stdout",
     "output_type": "stream",
     "text": [
      "epoch: 2, [batch: 1 / 6333], examples_per_second: 4.1146, train_label_loss: 0.0013, \n"
     ]
    },
    {
     "name": "stdout",
     "output_type": "stream",
     "text": [
      "epoch: 2, [batch: 634 / 6333], examples_per_second: 3951.1015, train_label_loss: 0.0000, \n"
     ]
    },
    {
     "name": "stdout",
     "output_type": "stream",
     "text": [
      "epoch: 2, [batch: 1267 / 6333], examples_per_second: 3974.2298, train_label_loss: 0.0003, \n"
     ]
    },
    {
     "name": "stdout",
     "output_type": "stream",
     "text": [
      "epoch: 2, [batch: 1900 / 6333], examples_per_second: 4031.5029, train_label_loss: 0.0000, \n"
     ]
    },
    {
     "name": "stdout",
     "output_type": "stream",
     "text": [
      "epoch: 2, [batch: 2533 / 6333], examples_per_second: 4035.4748, train_label_loss: 0.0000, \n"
     ]
    },
    {
     "name": "stdout",
     "output_type": "stream",
     "text": [
      "epoch: 2, [batch: 3167 / 6333], examples_per_second: 3959.1448, train_label_loss: 0.0281, \n"
     ]
    },
    {
     "name": "stdout",
     "output_type": "stream",
     "text": [
      "epoch: 2, [batch: 3800 / 6333], examples_per_second: 4019.9127, train_label_loss: 0.0000, \n"
     ]
    },
    {
     "name": "stdout",
     "output_type": "stream",
     "text": [
      "epoch: 2, [batch: 4433 / 6333], examples_per_second: 3943.9661, train_label_loss: 0.0000, \n"
     ]
    },
    {
     "name": "stdout",
     "output_type": "stream",
     "text": [
      "epoch: 2, [batch: 5066 / 6333], examples_per_second: 3953.3213, train_label_loss: 0.0001, \n"
     ]
    },
    {
     "name": "stdout",
     "output_type": "stream",
     "text": [
      "epoch: 2, [batch: 5699 / 6333], examples_per_second: 4004.9626, train_label_loss: 0.0006, \n"
     ]
    },
    {
     "name": "stdout",
     "output_type": "stream",
     "text": [
      "=============================================================\n",
      "epoch: 2, source_val_acc_label: 0.9990, target_val_acc_label: 0.3626, source_val_label_loss: 0.0118, target_val_label_loss: 2.0001, \n",
      "=============================================================\n"
     ]
    },
    {
     "name": "stdout",
     "output_type": "stream",
     "text": [
      "epoch: 3, [batch: 1 / 6305], examples_per_second: 4.1663, train_label_loss: 0.1548, \n"
     ]
    },
    {
     "name": "stdout",
     "output_type": "stream",
     "text": [
      "epoch: 3, [batch: 631 / 6305], examples_per_second: 4004.6026, train_label_loss: 0.0000, \n"
     ]
    },
    {
     "name": "stdout",
     "output_type": "stream",
     "text": [
      "epoch: 3, [batch: 1261 / 6305], examples_per_second: 3962.7938, train_label_loss: 0.0000, \n"
     ]
    },
    {
     "name": "stdout",
     "output_type": "stream",
     "text": [
      "epoch: 3, [batch: 1892 / 6305], examples_per_second: 3991.2034, train_label_loss: 0.0000, \n"
     ]
    },
    {
     "name": "stdout",
     "output_type": "stream",
     "text": [
      "epoch: 3, [batch: 2522 / 6305], examples_per_second: 3923.9075, train_label_loss: 0.0019, \n"
     ]
    },
    {
     "name": "stdout",
     "output_type": "stream",
     "text": [
      "epoch: 3, [batch: 3153 / 6305], examples_per_second: 3913.5291, train_label_loss: 0.0008, \n"
     ]
    },
    {
     "name": "stdout",
     "output_type": "stream",
     "text": [
      "epoch: 3, [batch: 3783 / 6305], examples_per_second: 3803.4681, train_label_loss: 0.0001, \n"
     ]
    },
    {
     "name": "stdout",
     "output_type": "stream",
     "text": [
      "epoch: 3, [batch: 4413 / 6305], examples_per_second: 3809.4681, train_label_loss: 0.0000, \n"
     ]
    },
    {
     "name": "stdout",
     "output_type": "stream",
     "text": [
      "epoch: 3, [batch: 5044 / 6305], examples_per_second: 4019.4986, train_label_loss: 0.0000, \n"
     ]
    },
    {
     "name": "stdout",
     "output_type": "stream",
     "text": [
      "epoch: 3, [batch: 5674 / 6305], examples_per_second: 3911.5276, train_label_loss: 0.0000, \n"
     ]
    },
    {
     "name": "stdout",
     "output_type": "stream",
     "text": [
      "=============================================================\n",
      "epoch: 3, source_val_acc_label: 0.9985, target_val_acc_label: 0.3844, source_val_label_loss: 0.0139, target_val_label_loss: 1.7555, \n",
      "=============================================================\n"
     ]
    },
    {
     "name": "stdout",
     "output_type": "stream",
     "text": [
      "epoch: 4, [batch: 1 / 6323], examples_per_second: 4.1397, train_label_loss: 0.0000, \n"
     ]
    },
    {
     "name": "stdout",
     "output_type": "stream",
     "text": [
      "epoch: 4, [batch: 633 / 6323], examples_per_second: 3943.3906, train_label_loss: 0.0016, \n"
     ]
    },
    {
     "name": "stdout",
     "output_type": "stream",
     "text": [
      "epoch: 4, [batch: 1265 / 6323], examples_per_second: 3883.3168, train_label_loss: 0.0000, \n"
     ]
    },
    {
     "name": "stdout",
     "output_type": "stream",
     "text": [
      "epoch: 4, [batch: 1897 / 6323], examples_per_second: 3842.5508, train_label_loss: 0.0009, \n"
     ]
    },
    {
     "name": "stdout",
     "output_type": "stream",
     "text": [
      "epoch: 4, [batch: 2529 / 6323], examples_per_second: 3819.6798, train_label_loss: 0.0000, \n"
     ]
    },
    {
     "name": "stdout",
     "output_type": "stream",
     "text": [
      "epoch: 4, [batch: 3162 / 6323], examples_per_second: 3919.8944, train_label_loss: 0.0000, \n"
     ]
    },
    {
     "name": "stdout",
     "output_type": "stream",
     "text": [
      "epoch: 4, [batch: 3794 / 6323], examples_per_second: 4100.3029, train_label_loss: 0.0000, \n"
     ]
    },
    {
     "name": "stdout",
     "output_type": "stream",
     "text": [
      "epoch: 4, [batch: 4426 / 6323], examples_per_second: 4273.9228, train_label_loss: 0.0000, \n"
     ]
    },
    {
     "name": "stdout",
     "output_type": "stream",
     "text": [
      "epoch: 4, [batch: 5058 / 6323], examples_per_second: 4227.7945, train_label_loss: 0.0009, \n"
     ]
    },
    {
     "name": "stdout",
     "output_type": "stream",
     "text": [
      "epoch: 4, [batch: 5690 / 6323], examples_per_second: 4443.8718, train_label_loss: 0.0000, \n"
     ]
    },
    {
     "name": "stdout",
     "output_type": "stream",
     "text": [
      "=============================================================\n",
      "epoch: 4, source_val_acc_label: 0.9992, target_val_acc_label: 0.3722, source_val_label_loss: 0.0081, target_val_label_loss: 1.8626, \n",
      "=============================================================\n"
     ]
    },
    {
     "name": "stdout",
     "output_type": "stream",
     "text": [
      "epoch: 5, [batch: 1 / 6317], examples_per_second: 5.1668, train_label_loss: 0.0000, \n"
     ]
    },
    {
     "name": "stdout",
     "output_type": "stream",
     "text": [
      "epoch: 5, [batch: 632 / 6317], examples_per_second: 4643.1877, train_label_loss: 0.0000, \n"
     ]
    },
    {
     "name": "stdout",
     "output_type": "stream",
     "text": [
      "epoch: 5, [batch: 1264 / 6317], examples_per_second: 3916.8081, train_label_loss: 0.0000, \n"
     ]
    },
    {
     "name": "stdout",
     "output_type": "stream",
     "text": [
      "epoch: 5, [batch: 1895 / 6317], examples_per_second: 3903.2207, train_label_loss: 0.0000, \n"
     ]
    },
    {
     "name": "stdout",
     "output_type": "stream",
     "text": [
      "epoch: 5, [batch: 2527 / 6317], examples_per_second: 3986.5012, train_label_loss: 0.0000, \n"
     ]
    },
    {
     "name": "stdout",
     "output_type": "stream",
     "text": [
      "epoch: 5, [batch: 3159 / 6317], examples_per_second: 4041.5331, train_label_loss: 0.0000, \n"
     ]
    },
    {
     "name": "stdout",
     "output_type": "stream",
     "text": [
      "epoch: 5, [batch: 3790 / 6317], examples_per_second: 3940.7927, train_label_loss: 0.0000, \n"
     ]
    },
    {
     "name": "stdout",
     "output_type": "stream",
     "text": [
      "epoch: 5, [batch: 4422 / 6317], examples_per_second: 3800.9944, train_label_loss: 0.0002, \n"
     ]
    },
    {
     "name": "stdout",
     "output_type": "stream",
     "text": [
      "epoch: 5, [batch: 5053 / 6317], examples_per_second: 3883.0592, train_label_loss: 0.0001, \n"
     ]
    },
    {
     "name": "stdout",
     "output_type": "stream",
     "text": [
      "epoch: 5, [batch: 5685 / 6317], examples_per_second: 3928.8093, train_label_loss: 0.0000, \n"
     ]
    },
    {
     "name": "stdout",
     "output_type": "stream",
     "text": [
      "=============================================================\n",
      "epoch: 5, source_val_acc_label: 0.9993, target_val_acc_label: 0.3704, source_val_label_loss: 0.0070, target_val_label_loss: 1.8782, \n",
      "=============================================================\n"
     ]
    },
    {
     "name": "stdout",
     "output_type": "stream",
     "text": [
      "Patience (3) exhausted\n"
     ]
    }
   ],
   "source": [
    "###################################\n",
    "# train\n",
    "###################################\n",
    "jig = PTN_Train_Eval_Test_Jig(model, p.BEST_MODEL_PATH, p.device)\n",
    "\n",
    "jig.train(\n",
    "    train_iterable=datasets.source.processed.train,\n",
    "    source_val_iterable=datasets.source.processed.val,\n",
    "    target_val_iterable=datasets.target.processed.val,\n",
    "    num_epochs=p.n_epoch,\n",
    "    num_logs_per_epoch=p.NUM_LOGS_PER_EPOCH,\n",
    "    patience=p.patience,\n",
    "    optimizer=optimizer,\n",
    "    criteria_for_best=p.criteria_for_best,\n",
    ")"
   ]
  },
  {
   "cell_type": "code",
   "execution_count": 23,
   "id": "31e8fabf",
   "metadata": {
    "execution": {
     "iopub.execute_input": "2022-03-22T12:26:24.995997Z",
     "iopub.status.busy": "2022-03-22T12:26:24.995386Z",
     "iopub.status.idle": "2022-03-22T12:26:25.026918Z",
     "shell.execute_reply": "2022-03-22T12:26:25.026075Z"
    },
    "papermill": {
     "duration": 0.075468,
     "end_time": "2022-03-22T12:26:25.027086",
     "exception": false,
     "start_time": "2022-03-22T12:26:24.951618",
     "status": "completed"
    },
    "tags": []
   },
   "outputs": [],
   "source": [
    "total_experiment_time_secs = time.time() - start_time_secs"
   ]
  },
  {
   "cell_type": "code",
   "execution_count": 24,
   "id": "87b9595b",
   "metadata": {
    "execution": {
     "iopub.execute_input": "2022-03-22T12:26:25.116603Z",
     "iopub.status.busy": "2022-03-22T12:26:25.116198Z",
     "iopub.status.idle": "2022-03-22T12:29:10.711124Z",
     "shell.execute_reply": "2022-03-22T12:29:10.710350Z"
    },
    "papermill": {
     "duration": 165.640045,
     "end_time": "2022-03-22T12:29:10.711309",
     "exception": false,
     "start_time": "2022-03-22T12:26:25.071264",
     "status": "completed"
    },
    "tags": []
   },
   "outputs": [],
   "source": [
    "###################################\n",
    "# Evaluate the model\n",
    "###################################\n",
    "source_test_label_accuracy, source_test_label_loss = jig.test(datasets.source.processed.test)\n",
    "target_test_label_accuracy, target_test_label_loss = jig.test(datasets.target.processed.test)\n",
    "\n",
    "source_val_label_accuracy, source_val_label_loss = jig.test(datasets.source.processed.val)\n",
    "target_val_label_accuracy, target_val_label_loss = jig.test(datasets.target.processed.val)\n",
    "\n",
    "history = jig.get_history()\n",
    "\n",
    "total_epochs_trained = len(history[\"epoch_indices\"])\n",
    "\n",
    "val_dl = Iterable_Aggregator((datasets.source.original.val,datasets.target.original.val))\n",
    "\n",
    "confusion = ptn_confusion_by_domain_over_dataloader(model, p.device, val_dl)\n",
    "per_domain_accuracy = per_domain_accuracy_from_confusion(confusion)\n",
    "\n",
    "# Add a key to per_domain_accuracy for if it was a source domain\n",
    "for domain, accuracy in per_domain_accuracy.items():\n",
    "    per_domain_accuracy[domain] = {\n",
    "        \"accuracy\": accuracy,\n",
    "        \"source?\": domain in p.domains_source\n",
    "    }\n",
    "\n",
    "# Do an independent accuracy assesment JUST TO BE SURE!\n",
    "# _source_test_label_accuracy = independent_accuracy_assesment(model, datasets.source.processed.test, p.device)\n",
    "# _target_test_label_accuracy = independent_accuracy_assesment(model, datasets.target.processed.test, p.device)\n",
    "# _source_val_label_accuracy = independent_accuracy_assesment(model, datasets.source.processed.val, p.device)\n",
    "# _target_val_label_accuracy = independent_accuracy_assesment(model, datasets.target.processed.val, p.device)\n",
    "\n",
    "# assert(_source_test_label_accuracy == source_test_label_accuracy)\n",
    "# assert(_target_test_label_accuracy == target_test_label_accuracy)\n",
    "# assert(_source_val_label_accuracy == source_val_label_accuracy)\n",
    "# assert(_target_val_label_accuracy == target_val_label_accuracy)\n",
    "\n",
    "experiment = {\n",
    "    \"experiment_name\": p.experiment_name,\n",
    "    \"parameters\": dict(p),\n",
    "    \"results\": {\n",
    "        \"source_test_label_accuracy\": source_test_label_accuracy,\n",
    "        \"source_test_label_loss\": source_test_label_loss,\n",
    "        \"target_test_label_accuracy\": target_test_label_accuracy,\n",
    "        \"target_test_label_loss\": target_test_label_loss,\n",
    "        \"source_val_label_accuracy\": source_val_label_accuracy,\n",
    "        \"source_val_label_loss\": source_val_label_loss,\n",
    "        \"target_val_label_accuracy\": target_val_label_accuracy,\n",
    "        \"target_val_label_loss\": target_val_label_loss,\n",
    "        \"total_epochs_trained\": total_epochs_trained,\n",
    "        \"total_experiment_time_secs\": total_experiment_time_secs,\n",
    "        \"confusion\": confusion,\n",
    "        \"per_domain_accuracy\": per_domain_accuracy,\n",
    "    },\n",
    "    \"history\": history,\n",
    "    \"dataset_metrics\": get_dataset_metrics(datasets, \"ptn\"),\n",
    "}"
   ]
  },
  {
   "cell_type": "code",
   "execution_count": 25,
   "id": "54a21829",
   "metadata": {
    "execution": {
     "iopub.execute_input": "2022-03-22T12:29:10.798293Z",
     "iopub.status.busy": "2022-03-22T12:29:10.797918Z",
     "iopub.status.idle": "2022-03-22T12:29:11.028143Z",
     "shell.execute_reply": "2022-03-22T12:29:11.027394Z"
    },
    "papermill": {
     "duration": 0.271669,
     "end_time": "2022-03-22T12:29:11.028305",
     "exception": false,
     "start_time": "2022-03-22T12:29:10.756636",
     "status": "completed"
    },
    "tags": []
   },
   "outputs": [
    {
     "data": {
      "image/png": "[encoded data removed]",
      "text/plain": [
       "<Figure size 1080x504 with 1 Axes>"
      ]
     },
     "metadata": {
      "needs_background": "light"
     },
     "output_type": "display_data"
    }
   ],
   "source": [
    "ax = get_loss_curve(experiment)\n",
    "plt.show()"
   ]
  },
  {
   "cell_type": "code",
   "execution_count": 26,
   "id": "fd8a0f60",
   "metadata": {
    "execution": {
     "iopub.execute_input": "2022-03-22T12:29:11.119113Z",
     "iopub.status.busy": "2022-03-22T12:29:11.118547Z",
     "iopub.status.idle": "2022-03-22T12:29:11.476413Z",
     "shell.execute_reply": "2022-03-22T12:29:11.477110Z"
    },
    "papermill": {
     "duration": 0.40291,
     "end_time": "2022-03-22T12:29:11.477303",
     "exception": false,
     "start_time": "2022-03-22T12:29:11.074393",
     "status": "completed"
    },
    "tags": []
   },
   "outputs": [
    {
     "data": {
      "text/plain": [
       "<AxesSubplot:title={'center':'Results'}>"
      ]
     },
     "execution_count": 26,
     "metadata": {},
     "output_type": "execute_result"
    },
    {
     "data": {
      "image/png": "[encoded data removed]",
      "text/plain": [
       "<Figure size 1080x504 with 1 Axes>"
      ]
     },
     "metadata": {
      "needs_background": "light"
     },
     "output_type": "display_data"
    }
   ],
   "source": [
    "get_results_table(experiment)"
   ]
  },
  {
   "cell_type": "code",
   "execution_count": 27,
   "id": "cf8dc689",
   "metadata": {
    "execution": {
     "iopub.execute_input": "2022-03-22T12:29:11.567485Z",
     "iopub.status.busy": "2022-03-22T12:29:11.567113Z",
     "iopub.status.idle": "2022-03-22T12:29:11.839491Z",
     "shell.execute_reply": "2022-03-22T12:29:11.838769Z"
    },
    "papermill": {
     "duration": 0.316885,
     "end_time": "2022-03-22T12:29:11.839664",
     "exception": false,
     "start_time": "2022-03-22T12:29:11.522779",
     "status": "completed"
    },
    "tags": []
   },
   "outputs": [
    {
     "data": {
      "text/plain": [
       "<AxesSubplot:title={'center':'Per Domain Validation Accuracy'}, xlabel='domain'>"
      ]
     },
     "execution_count": 27,
     "metadata": {},
     "output_type": "execute_result"
    },
    {
     "data": {
      "image/png": "[encoded data removed]",
      "text/plain": [
       "<Figure size 1080x504 with 1 Axes>"
      ]
     },
     "metadata": {
      "needs_background": "light"
     },
     "output_type": "display_data"
    }
   ],
   "source": [
    "get_domain_accuracies(experiment)"
   ]
  },
  {
   "cell_type": "code",
   "execution_count": 28,
   "id": "a74ae082",
   "metadata": {
    "execution": {
     "iopub.execute_input": "2022-03-22T12:29:11.932752Z",
     "iopub.status.busy": "2022-03-22T12:29:11.932039Z",
     "iopub.status.idle": "2022-03-22T12:29:11.956445Z",
     "shell.execute_reply": "2022-03-22T12:29:11.955688Z"
    },
    "papermill": {
     "duration": 0.069743,
     "end_time": "2022-03-22T12:29:11.956599",
     "exception": false,
     "start_time": "2022-03-22T12:29:11.886856",
     "status": "completed"
    },
    "tags": []
   },
   "outputs": [
    {
     "name": "stdout",
     "output_type": "stream",
     "text": [
      "Source Test Label Accuracy: 0.9982152855543113 Target Test Label Accuracy: 0.39156901041666664\n",
      "Source Val Label Accuracy: 0.9981407322654462 Target Val Label Accuracy: 0.3888671875\n"
     ]
    }
   ],
   "source": [
    "print(\"Source Test Label Accuracy:\", experiment[\"results\"][\"source_test_label_accuracy\"], \"Target Test Label Accuracy:\", experiment[\"results\"][\"target_test_label_accuracy\"])\n",
    "print(\"Source Val Label Accuracy:\", experiment[\"results\"][\"source_val_label_accuracy\"], \"Target Val Label Accuracy:\", experiment[\"results\"][\"target_val_label_accuracy\"])"
   ]
  },
  {
   "cell_type": "code",
   "execution_count": 29,
   "id": "dacca602",
   "metadata": {
    "execution": {
     "iopub.execute_input": "2022-03-22T12:29:12.050140Z",
     "iopub.status.busy": "2022-03-22T12:29:12.049476Z",
     "iopub.status.idle": "2022-03-22T12:29:12.074968Z",
     "shell.execute_reply": "2022-03-22T12:29:12.075664Z"
    },
    "papermill": {
     "duration": 0.0726,
     "end_time": "2022-03-22T12:29:12.075857",
     "exception": false,
     "start_time": "2022-03-22T12:29:12.003257",
     "status": "completed"
    },
    "tags": [
     "experiment_json"
    ]
   },
   "outputs": [
    {
     "data": {
      "text/plain": [
       "'{\"experiment_name\": \"tl_1v2:cores-oracle.run1.limited\", \"parameters\": {\"experiment_name\": \"tl_1v2:cores-oracle.run1.limited\", \"device\": \"cuda\", \"lr\": 0.0001, \"n_shot\": 3, \"n_query\": 2, \"train_k_factor\": 3, \"val_k_factor\": 2, \"test_k_factor\": 2, \"torch_default_dtype\": \"torch.float32\", \"n_epoch\": 50, \"patience\": 3, \"criteria_for_best\": \"target_accuracy\", \"x_net\": [{\"class\": \"nnReshape\", \"kargs\": {\"shape\": [-1, 1, 2, 256]}}, {\"class\": \"Conv2d\", \"kargs\": {\"in_channels\": 1, \"out_channels\": 256, \"kernel_size\": [1, 7], \"bias\": false, \"padding\": [0, 3]}}, {\"class\": \"ReLU\", \"kargs\": {\"inplace\": true}}, {\"class\": \"BatchNorm2d\", \"kargs\": {\"num_features\": 256}}, {\"class\": \"Conv2d\", \"kargs\": {\"in_channels\": 256, \"out_channels\": 80, \"kernel_size\": [2, 7], \"bias\": true, \"padding\": [0, 3]}}, {\"class\": \"ReLU\", \"kargs\": {\"inplace\": true}}, {\"class\": \"BatchNorm2d\", \"kargs\": {\"num_features\": 80}}, {\"class\": \"Flatten\", \"kargs\": {}}, {\"class\": \"Linear\", \"kargs\": {\"in_features\": 20480, \"out_features\": 256}}, {\"class\": \"ReLU\", \"kargs\": {\"inplace\": true}}, {\"class\": \"BatchNorm1d\", \"kargs\": {\"num_features\": 256}}, {\"class\": \"Linear\", \"kargs\": {\"in_features\": 256, \"out_features\": 256}}], \"NUM_LOGS_PER_EPOCH\": 10, \"BEST_MODEL_PATH\": \"./best_model.pth\", \"n_way\": 16, \"datasets\": [{\"labels\": [\"1-10.\", \"1-11.\", \"1-15.\", \"1-16.\", \"1-17.\", \"1-18.\", \"1-19.\", \"10-4.\", \"10-7.\", \"11-1.\", \"11-14.\", \"11-17.\", \"11-20.\", \"11-7.\", \"13-20.\", \"13-8.\", \"14-10.\", \"14-11.\", \"14-14.\", \"14-7.\", \"15-1.\", \"15-20.\", \"16-1.\", \"16-16.\", \"17-10.\", \"17-11.\", \"17-2.\", \"19-1.\", \"19-16.\", \"19-19.\", \"19-20.\", \"19-3.\", \"2-10.\", \"2-11.\", \"2-17.\", \"2-18.\", \"2-20.\", \"2-3.\", \"2-4.\", \"2-5.\", \"2-6.\", \"2-7.\", \"2-8.\", \"3-13.\", \"3-18.\", \"3-3.\", \"4-1.\", \"4-10.\", \"4-11.\", \"4-19.\", \"5-5.\", \"6-15.\", \"7-10.\", \"7-14.\", \"8-18.\", \"8-20.\", \"8-3.\", \"8-8.\"], \"domains\": [1, 2, 3, 4, 5], \"num_examples_per_domain_per_label\": -1, \"pickle_path\": \"/root/csc500-main/datasets/cores.stratified_ds.2022A.pkl\", \"source_or_target_dataset\": \"source\", \"x_transforms\": [], \"episode_transforms\": [], \"domain_prefix\": \"CORES_\"}, {\"labels\": [\"3123D52\", \"3123D65\", \"3123D79\", \"3123D80\", \"3123D54\", \"3123D70\", \"3123D7B\", \"3123D89\", \"3123D58\", \"3123D76\", \"3123D7D\", \"3123EFE\", \"3123D64\", \"3123D78\", \"3123D7E\", \"3124E4A\"], \"domains\": [32, 38, 8, 44, 14, 50, 20, 26], \"num_examples_per_domain_per_label\": 2000, \"pickle_path\": \"/root/csc500-main/datasets/oracle.Run1_10kExamples_stratified_ds.2022A.pkl\", \"source_or_target_dataset\": \"target\", \"x_transforms\": [], \"episode_transforms\": [], \"domain_prefix\": \"ORACLE.run1_\"}], \"dataset_seed\": 154325, \"seed\": 154325, \"x_shape\": [2, 256], \"domains_source\": [\"CORES_1\", \"CORES_2\", \"CORES_3\", \"CORES_4\", \"CORES_5\"], \"domains_target\": [\"ORACLE.run1_32\", \"ORACLE.run1_38\", \"ORACLE.run1_8\", \"ORACLE.run1_44\", \"ORACLE.run1_14\", \"ORACLE.run1_50\", \"ORACLE.run1_20\", \"ORACLE.run1_26\"]}, \"results\": {\"source_test_label_accuracy\": 0.9982152855543113, \"source_test_label_loss\": 0.009556139819324017, \"target_test_label_accuracy\": 0.39156901041666664, \"target_test_label_loss\": 1.9499001502990723, \"source_val_label_accuracy\": 0.9981407322654462, \"source_val_label_loss\": 0.009868270717561245, \"target_val_label_accuracy\": 0.3888671875, \"target_val_label_loss\": 1.9515941143035889, \"total_epochs_trained\": 5, \"total_experiment_time_secs\": 782.2371172904968, \"confusion\": {\"CORES_2\": {\"21\": {\"21\": 120}, \"4\": {\"4\": 130}, \"6\": {\"6\": 124}, \"10\": {\"10\": 112}, \"33\": {\"33\": 28}, \"56\": {\"56\": 122}, \"20\": {\"20\": 132}, \"24\": {\"24\": 96}, \"45\": {\"45\": 127, \"50\": 1}, \"32\": {\"32\": 28}, \"27\": {\"27\": 148}, \"53\": {\"53\": 136}, \"8\": {\"8\": 160}, \"54\": {\"54\": 108}, \"50\": {\"50\": 134}, \"44\": {\"44\": 100}, \"5\": {\"5\": 120}, \"38\": {\"38\": 20}, \"19\": {\"19\": 132}, \"1\": {\"1\": 112}, \"30\": {\"30\": 144}, \"15\": {\"15\": 144}, \"23\": {\"23\": 146}, \"35\": {\"35\": 32}, \"22\": {\"22\": 128}, \"40\": {\"40\": 140}, \"46\": {\"46\": 126}, \"3\": {\"3\": 92}, \"48\": {\"48\": 148}, \"52\": {\"52\": 124}, \"2\": {\"2\": 31, \"36\": 1}, \"26\": {\"26\": 24}, \"17\": {\"17\": 104}, \"55\": {\"55\": 144}, \"51\": {\"51\": 122}, \"42\": {\"42\": 36}, \"41\": {\"41\": 19, \"1\": 1}, \"31\": {\"31\": 28}, \"16\": {\"16\": 138}, \"36\": {\"36\": 116}, \"49\": {\"49\": 24}, \"0\": {\"0\": 48}, \"18\": {\"18\": 48}, \"25\": {\"25\": 146}, \"9\": {\"9\": 122}, \"47\": {\"47\": 132}, \"7\": {\"7\": 36}, \"37\": {\"37\": 36}, \"13\": {\"13\": 116}, \"14\": {\"14\": 23, \"1\": 1}, \"34\": {\"34\": 26, \"19\": 1, \"54\": 1}, \"57\": {\"57\": 140}, \"11\": {\"11\": 137, \"10\": 1}, \"39\": {\"39\": 28}, \"12\": {\"12\": 92}, \"28\": {\"28\": 28}, \"29\": {\"29\": 127, \"2\": 1}, \"43\": {\"43\": 140}}, \"CORES_5\": {\"12\": {\"12\": 96}, \"8\": {\"8\": 142}, \"29\": {\"29\": 132}, \"57\": {\"57\": 126}, \"38\": {\"38\": 32}, \"23\": {\"23\": 124}, \"56\": {\"56\": 138}, \"49\": {\"49\": 36}, \"4\": {\"4\": 100}, \"48\": {\"48\": 136}, \"21\": {\"21\": 144}, \"30\": {\"30\": 128}, \"1\": {\"1\": 148}, \"34\": {\"34\": 36}, \"35\": {\"35\": 36}, \"55\": {\"55\": 152}, \"5\": {\"5\": 122}, \"52\": {\"52\": 126}, \"6\": {\"6\": 126, \"50\": 2}, \"36\": {\"36\": 92}, \"41\": {\"41\": 28}, \"3\": {\"3\": 100}, \"28\": {\"28\": 32}, \"18\": {\"18\": 64}, \"25\": {\"25\": 136}, \"47\": {\"47\": 100}, \"13\": {\"13\": 160}, \"11\": {\"11\": 144}, \"53\": {\"53\": 144}, \"33\": {\"33\": 32}, \"46\": {\"46\": 148}, \"50\": {\"50\": 148}, \"10\": {\"10\": 68}, \"15\": {\"15\": 138}, \"44\": {\"44\": 140}, \"2\": {\"2\": 28}, \"7\": {\"7\": 32}, \"43\": {\"43\": 138}, \"32\": {\"32\": 32}, \"0\": {\"0\": 124}, \"39\": {\"39\": 20}, \"26\": {\"26\": 24}, \"27\": {\"27\": 112}, \"54\": {\"54\": 112}, \"17\": {\"17\": 116}, \"14\": {\"14\": 44}, \"16\": {\"16\": 148}, \"9\": {\"9\": 148}, \"19\": {\"19\": 152}, \"20\": {\"20\": 138}, \"37\": {\"37\": 24}, \"24\": {\"24\": 80}, \"40\": {\"40\": 122}, \"45\": {\"45\": 121, \"50\": 1, \"6\": 2}, \"22\": {\"22\": 28}, \"42\": {\"42\": 38, \"52\": 1, \"15\": 1}, \"51\": {\"51\": 117, \"8\": 1}, \"31\": {\"31\": 36}}, \"CORES_1\": {\"27\": {\"27\": 142}, \"2\": {\"2\": 36}, \"33\": {\"33\": 32}, \"45\": {\"45\": 156}, \"38\": {\"38\": 20, \"1\": 1, \"57\": 1, \"36\": 1, \"43\": 1}, \"4\": {\"4\": 132}, \"31\": {\"31\": 28}, \"55\": {\"55\": 140}, \"32\": {\"32\": 32}, \"57\": {\"57\": 140}, \"14\": {\"14\": 22, \"30\": 2}, \"16\": {\"16\": 140}, \"34\": {\"34\": 24}, \"56\": {\"56\": 126}, \"24\": {\"24\": 108}, \"30\": {\"30\": 112}, \"17\": {\"17\": 64}, \"13\": {\"13\": 138}, \"39\": {\"39\": 28}, \"50\": {\"50\": 146}, \"20\": {\"20\": 139, \"12\": 1}, \"41\": {\"41\": 24}, \"53\": {\"53\": 126}, \"48\": {\"48\": 142}, \"36\": {\"36\": 64}, \"8\": {\"8\": 140}, \"15\": {\"15\": 132}, \"40\": {\"40\": 156}, \"37\": {\"37\": 32}, \"21\": {\"21\": 120}, \"35\": {\"35\": 36}, \"49\": {\"49\": 32}, \"26\": {\"26\": 24}, \"28\": {\"28\": 28}, \"12\": {\"12\": 116}, \"5\": {\"5\": 152}, \"29\": {\"29\": 140}, \"47\": {\"47\": 140}, \"10\": {\"10\": 96}, \"18\": {\"18\": 71, \"50\": 1}, \"9\": {\"9\": 126}, \"3\": {\"3\": 140}, \"52\": {\"52\": 132}, \"25\": {\"25\": 136}, \"19\": {\"19\": 156}, \"11\": {\"11\": 136}, \"7\": {\"7\": 28}, \"23\": {\"23\": 135, \"55\": 1}, \"44\": {\"44\": 132}, \"42\": {\"42\": 40}, \"54\": {\"54\": 104}, \"1\": {\"1\": 100}, \"46\": {\"46\": 128}, \"6\": {\"6\": 96}, \"43\": {\"43\": 144}, \"51\": {\"51\": 142}, \"22\": {\"22\": 136}, \"0\": {\"0\": 128}}, \"CORES_4\": {\"32\": {\"32\": 24}, \"2\": {\"2\": 33, \"1\": 3}, \"41\": {\"41\": 36}, \"11\": {\"11\": 98, \"32\": 2, \"24\": 1, \"15\": 1}, \"57\": {\"57\": 100}, \"6\": {\"6\": 111, \"22\": 1}, \"23\": {\"23\": 136}, \"52\": {\"52\": 116}, \"38\": {\"38\": 40}, \"50\": {\"50\": 132}, \"55\": {\"55\": 152}, \"46\": {\"46\": 154}, \"37\": {\"37\": 24}, \"20\": {\"20\": 118}, \"49\": {\"49\": 20}, \"45\": {\"45\": 96}, \"54\": {\"54\": 108}, \"3\": {\"3\": 124}, \"13\": {\"13\": 152}, \"18\": {\"18\": 108}, \"21\": {\"21\": 126}, \"43\": {\"43\": 144}, \"47\": {\"47\": 120}, \"4\": {\"4\": 132}, \"12\": {\"12\": 92}, \"9\": {\"9\": 128}, \"7\": {\"7\": 24}, \"56\": {\"56\": 111, \"46\": 1}, \"28\": {\"28\": 30, \"34\": 2}, \"44\": {\"44\": 132}, \"24\": {\"24\": 56}, \"33\": {\"33\": 36}, \"35\": {\"35\": 40}, \"51\": {\"51\": 138}, \"39\": {\"39\": 20}, \"36\": {\"36\": 91, \"53\": 1}, \"19\": {\"19\": 140}, \"0\": {\"0\": 79, \"46\": 1}, \"15\": {\"15\": 136}, \"29\": {\"29\": 124}, \"30\": {\"30\": 44}, \"1\": {\"1\": 40}, \"22\": {\"22\": 128}, \"40\": {\"40\": 146}, \"8\": {\"8\": 128}, \"53\": {\"53\": 138}, \"34\": {\"34\": 22, \"27\": 1, \"28\": 1}, \"10\": {\"10\": 121, \"15\": 1}, \"31\": {\"31\": 28}, \"17\": {\"17\": 80}, \"16\": {\"16\": 96}, \"42\": {\"42\": 32}, \"27\": {\"27\": 142}, \"14\": {\"14\": 14, \"57\": 1, \"38\": 1}, \"25\": {\"25\": 122}, \"48\": {\"48\": 132}, \"26\": {\"26\": 23, \"4\": 1}, \"5\": {\"5\": 108}}, \"CORES_3\": {\"14\": {\"14\": 40}, \"18\": {\"18\": 84}, \"30\": {\"30\": 120}, \"16\": {\"16\": 156}, \"1\": {\"1\": 100}, \"20\": {\"20\": 132}, \"7\": {\"7\": 36}, \"52\": {\"52\": 130}, \"9\": {\"9\": 140}, \"23\": {\"23\": 144}, \"55\": {\"55\": 164}, \"29\": {\"29\": 126}, \"56\": {\"56\": 134}, \"3\": {\"3\": 124}, \"42\": {\"42\": 28}, \"6\": {\"6\": 88}, \"5\": {\"5\": 116}, \"27\": {\"27\": 144}, \"47\": {\"47\": 92}, \"39\": {\"39\": 16}, \"34\": {\"34\": 32}, \"4\": {\"4\": 126}, \"24\": {\"24\": 104}, \"46\": {\"46\": 117, \"21\": 1}, \"50\": {\"50\": 125, \"3\": 1}, \"38\": {\"38\": 28}, \"54\": {\"54\": 100}, \"35\": {\"35\": 28}, \"2\": {\"2\": 32}, \"41\": {\"41\": 28}, \"57\": {\"57\": 118}, \"25\": {\"25\": 148, \"18\": 2}, \"48\": {\"48\": 116}, \"33\": {\"33\": 28}, \"45\": {\"45\": 58, \"6\": 2}, \"13\": {\"13\": 126}, \"36\": {\"36\": 100}, \"43\": {\"43\": 132}, \"28\": {\"28\": 28}, \"0\": {\"0\": 124}, \"12\": {\"12\": 91, \"46\": 1}, \"31\": {\"31\": 28}, \"40\": {\"40\": 116}, \"44\": {\"44\": 87, \"3\": 1}, \"32\": {\"32\": 28}, \"26\": {\"26\": 24}, \"8\": {\"8\": 116}, \"10\": {\"10\": 64}, \"15\": {\"15\": 142}, \"21\": {\"21\": 128}, \"37\": {\"37\": 28}, \"17\": {\"17\": 108}, \"51\": {\"51\": 124}, \"53\": {\"53\": 144}, \"19\": {\"19\": 136}, \"49\": {\"49\": 20}, \"11\": {\"11\": 138}, \"22\": {\"22\": 130}}, \"ORACLE.run1_8\": {\"13\": {\"10\": 46, \"13\": 67, \"7\": 46, \"6\": 27, \"5\": 37, \"12\": 1, \"1\": 11, \"11\": 4, \"15\": 1}, \"9\": {\"9\": 184, \"3\": 54, \"2\": 2}, \"15\": {\"15\": 106, \"2\": 50, \"12\": 84}, \"2\": {\"3\": 41, \"15\": 60, \"2\": 101, \"7\": 1, \"12\": 34, \"9\": 2, \"10\": 1}, \"3\": {\"3\": 180, \"9\": 48, \"2\": 12}, \"8\": {\"8\": 61, \"11\": 38, \"4\": 55, \"14\": 35, \"10\": 3, \"6\": 21, \"7\": 5, \"5\": 3, \"1\": 19}, \"5\": {\"4\": 6, \"7\": 36, \"11\": 10, \"5\": 52, \"8\": 9, \"13\": 42, \"10\": 36, \"6\": 17, \"1\": 28, \"14\": 1, \"15\": 1, \"12\": 2}, \"14\": {\"14\": 125, \"8\": 38, \"4\": 48, \"1\": 7, \"11\": 15, \"0\": 3, \"6\": 4}, \"1\": {\"5\": 29, \"10\": 24, \"11\": 36, \"1\": 37, \"7\": 18, \"4\": 14, \"6\": 31, \"13\": 22, \"8\": 24, \"14\": 5}, \"0\": {\"0\": 240}, \"10\": {\"6\": 31, \"5\": 38, \"1\": 35, \"10\": 33, \"7\": 32, \"13\": 40, \"11\": 12, \"8\": 6, \"14\": 2, \"4\": 11}, \"6\": {\"6\": 44, \"5\": 23, \"7\": 46, \"10\": 32, \"1\": 24, \"11\": 25, \"13\": 17, \"4\": 12, \"8\": 16, \"14\": 1}, \"11\": {\"14\": 17, \"8\": 42, \"1\": 39, \"4\": 36, \"10\": 14, \"6\": 15, \"11\": 45, \"7\": 11, \"5\": 18, \"13\": 3}, \"7\": {\"5\": 28, \"6\": 43, \"10\": 35, \"7\": 45, \"1\": 21, \"11\": 8, \"13\": 51, \"8\": 6, \"4\": 3}, \"4\": {\"14\": 35, \"11\": 30, \"8\": 57, \"1\": 16, \"4\": 68, \"6\": 17, \"5\": 6, \"7\": 7, \"10\": 4}, \"12\": {\"15\": 88, \"12\": 128, \"2\": 24}}, \"ORACLE.run1_38\": {\"13\": {\"13\": 121, \"0\": 56, \"4\": 14, \"10\": 18, \"14\": 12, \"2\": 10, \"7\": 9}, \"12\": {\"12\": 162, \"5\": 28, \"15\": 11, \"2\": 1, \"8\": 37, \"7\": 1}, \"2\": {\"13\": 8, \"7\": 77, \"2\": 80, \"9\": 20, \"14\": 39, \"8\": 11, \"5\": 5}, \"9\": {\"9\": 151, \"2\": 30, \"5\": 19, \"8\": 28, \"14\": 2, \"7\": 10}, \"15\": {\"5\": 26, \"12\": 26, \"15\": 147, \"8\": 11, \"6\": 17, \"1\": 13}, \"5\": {\"9\": 31, \"8\": 62, \"5\": 73, \"12\": 21, \"2\": 14, \"7\": 8, \"15\": 22, \"14\": 5, \"4\": 1, \"13\": 3}, \"14\": {\"4\": 19, \"13\": 14, \"2\": 47, \"14\": 86, \"9\": 4, \"7\": 55, \"8\": 5, \"5\": 1, \"0\": 6, \"10\": 2, \"12\": 1}, \"0\": {\"13\": 69, \"0\": 50, \"10\": 68, \"7\": 14, \"14\": 10, \"3\": 9, \"2\": 6, \"8\": 1, \"4\": 12, \"9\": 1}, \"3\": {\"3\": 236, \"11\": 4}, \"1\": {\"6\": 129, \"1\": 105, \"15\": 6}, \"11\": {\"11\": 234, \"3\": 6}, \"7\": {\"9\": 15, \"7\": 83, \"2\": 65, \"14\": 54, \"0\": 3, \"8\": 10, \"13\": 5, \"4\": 2, \"5\": 3}, \"8\": {\"9\": 30, \"12\": 24, \"5\": 60, \"8\": 40, \"7\": 27, \"14\": 7, \"15\": 24, \"2\": 28}, \"4\": {\"10\": 18, \"4\": 188, \"13\": 9, \"0\": 12, \"14\": 13}, \"10\": {\"10\": 145, \"13\": 9, \"0\": 57, \"4\": 24, \"3\": 5}, \"6\": {\"6\": 126, \"1\": 111, \"15\": 3}}, \"ORACLE.run1_26\": {\"10\": {\"15\": 34, \"10\": 51, \"0\": 32, \"6\": 26, \"14\": 47, \"1\": 20, \"5\": 19, \"8\": 2, \"2\": 6, \"11\": 3}, \"12\": {\"7\": 33, \"12\": 53, \"3\": 39, \"9\": 34, \"2\": 14, \"8\": 29, \"13\": 30, \"4\": 6, \"14\": 1, \"0\": 1}, \"1\": {\"1\": 77, \"11\": 25, \"10\": 21, \"6\": 44, \"14\": 20, \"5\": 20, \"15\": 28, \"0\": 5}, \"0\": {\"10\": 48, \"15\": 16, \"14\": 43, \"0\": 55, \"6\": 12, \"9\": 9, \"12\": 3, \"8\": 15, \"2\": 21, \"11\": 1, \"1\": 6, \"7\": 6, \"5\": 5}, \"15\": {\"6\": 29, \"1\": 30, \"15\": 47, \"10\": 37, \"0\": 12, \"5\": 36, \"14\": 26, \"11\": 20, \"2\": 2, \"8\": 1}, \"13\": {\"13\": 92, \"8\": 8, \"4\": 17, \"3\": 46, \"12\": 25, \"9\": 28, \"2\": 9, \"7\": 13, \"0\": 1, \"10\": 1}, \"8\": {\"7\": 40, \"0\": 17, \"8\": 57, \"9\": 27, \"2\": 51, \"3\": 16, \"12\": 18, \"13\": 5, \"10\": 4, \"14\": 3, \"15\": 2}, \"3\": {\"8\": 18, \"13\": 54, \"12\": 24, \"3\": 73, \"7\": 33, \"9\": 27, \"4\": 5, \"2\": 5, \"0\": 1}, \"11\": {\"11\": 114, \"1\": 29, \"5\": 34, \"15\": 24, \"14\": 5, \"6\": 28, \"10\": 5, \"0\": 1}, \"4\": {\"4\": 174, \"13\": 37, \"3\": 15, \"12\": 8, \"7\": 4, \"9\": 2}, \"6\": {\"15\": 43, \"14\": 19, \"11\": 17, \"1\": 51, \"6\": 62, \"5\": 35, \"0\": 3, \"10\": 10}, \"7\": {\"12\": 30, \"0\": 12, \"9\": 41, \"7\": 41, \"8\": 47, \"2\": 38, \"13\": 12, \"3\": 18, \"14\": 1}, \"14\": {\"1\": 16, \"15\": 28, \"6\": 25, \"14\": 53, \"0\": 33, \"10\": 67, \"5\": 10, \"2\": 3, \"7\": 1, \"11\": 2, \"8\": 2}, \"2\": {\"2\": 55, \"7\": 37, \"10\": 11, \"0\": 24, \"3\": 9, \"9\": 24, \"8\": 41, \"14\": 10, \"13\": 12, \"12\": 13, \"1\": 2, \"15\": 2}, \"5\": {\"11\": 20, \"6\": 42, \"1\": 33, \"10\": 17, \"5\": 72, \"15\": 43, \"14\": 8, \"0\": 3, \"2\": 2}, \"9\": {\"8\": 33, \"3\": 29, \"2\": 32, \"13\": 31, \"7\": 34, \"9\": 45, \"12\": 29, \"0\": 2, \"10\": 3, \"4\": 1, \"14\": 1}}, \"ORACLE.run1_20\": {\"5\": {\"1\": 21, \"8\": 28, \"9\": 21, \"14\": 34, \"3\": 44, \"7\": 17, \"15\": 12, \"5\": 24, \"2\": 11, \"6\": 10, \"0\": 7, \"12\": 5, \"10\": 1, \"4\": 3, \"11\": 1, \"13\": 1}, \"15\": {\"12\": 25, \"7\": 23, \"2\": 35, \"1\": 11, \"5\": 14, \"15\": 24, \"4\": 26, \"9\": 14, \"6\": 16, \"13\": 29, \"10\": 6, \"3\": 12, \"14\": 3, \"8\": 2}, \"9\": {\"14\": 24, \"3\": 16, \"2\": 26, \"5\": 17, \"1\": 33, \"15\": 13, \"8\": 12, \"6\": 20, \"4\": 8, \"7\": 25, \"9\": 29, \"12\": 11, \"10\": 2, \"13\": 4}, \"7\": {\"6\": 35, \"14\": 7, \"4\": 16, \"15\": 21, \"3\": 14, \"7\": 27, \"2\": 24, \"5\": 18, \"8\": 7, \"1\": 24, \"12\": 16, \"0\": 1, \"9\": 16, \"13\": 10, \"10\": 4}, \"3\": {\"8\": 29, \"4\": 6, \"3\": 38, \"9\": 25, \"14\": 34, \"5\": 33, \"15\": 6, \"0\": 8, \"1\": 17, \"7\": 18, \"12\": 7, \"6\": 11, \"2\": 6, \"11\": 1, \"13\": 1}, \"8\": {\"9\": 6, \"8\": 66, \"3\": 38, \"0\": 27, \"14\": 46, \"5\": 33, \"7\": 4, \"2\": 1, \"6\": 4, \"1\": 12, \"12\": 1, \"10\": 1, \"11\": 1}, \"4\": {\"4\": 44, \"7\": 14, \"13\": 23, \"10\": 31, \"2\": 18, \"12\": 29, \"15\": 24, \"6\": 25, \"14\": 3, \"5\": 5, \"3\": 5, \"1\": 7, \"9\": 11, \"8\": 1}, \"6\": {\"5\": 15, \"14\": 7, \"6\": 31, \"4\": 20, \"12\": 22, \"2\": 18, \"7\": 34, \"15\": 18, \"10\": 2, \"9\": 28, \"3\": 11, \"1\": 17, \"8\": 6, \"13\": 11}, \"2\": {\"12\": 30, \"6\": 17, \"7\": 28, \"4\": 27, \"15\": 29, \"13\": 33, \"10\": 5, \"1\": 12, \"9\": 12, \"2\": 26, \"3\": 6, \"14\": 5, \"5\": 8, \"8\": 2}, \"12\": {\"15\": 28, \"6\": 19, \"13\": 43, \"9\": 15, \"8\": 2, \"4\": 27, \"5\": 4, \"1\": 13, \"12\": 23, \"10\": 17, \"7\": 22, \"2\": 19, \"3\": 7, \"14\": 1}, \"0\": {\"14\": 21, \"0\": 99, \"3\": 11, \"11\": 53, \"5\": 7, \"8\": 45, \"9\": 2, \"7\": 2}, \"13\": {\"2\": 26, \"4\": 23, \"12\": 33, \"9\": 8, \"13\": 58, \"6\": 18, \"10\": 35, \"7\": 11, \"15\": 25, \"5\": 1, \"1\": 2}, \"10\": {\"4\": 46, \"13\": 35, \"10\": 100, \"2\": 10, \"5\": 1, \"15\": 7, \"12\": 22, \"9\": 1, \"7\": 2, \"6\": 14, \"1\": 1, \"3\": 1}, \"11\": {\"11\": 186, \"0\": 44, \"5\": 3, \"8\": 3, \"14\": 2, \"3\": 2}, \"14\": {\"8\": 53, \"9\": 16, \"4\": 7, \"3\": 34, \"14\": 57, \"0\": 15, \"15\": 4, \"5\": 21, \"1\": 12, \"6\": 8, \"11\": 2, \"12\": 5, \"7\": 5, \"2\": 1}, \"1\": {\"15\": 12, \"6\": 19, \"12\": 21, \"14\": 16, \"5\": 20, \"2\": 19, \"3\": 25, \"9\": 20, \"1\": 26, \"7\": 29, \"4\": 16, \"8\": 12, \"13\": 4, \"10\": 1}}, \"ORACLE.run1_50\": {\"1\": {\"13\": 49, \"8\": 72, \"1\": 101, \"11\": 1, \"10\": 13, \"0\": 3, \"2\": 1}, \"2\": {\"14\": 95, \"2\": 87, \"0\": 50, \"10\": 8}, \"8\": {\"8\": 112, \"10\": 41, \"13\": 16, \"1\": 66, \"0\": 3, \"2\": 1, \"11\": 1}, \"7\": {\"7\": 90, \"4\": 117, \"5\": 22, \"15\": 6, \"9\": 3, \"6\": 2}, \"14\": {\"2\": 87, \"14\": 89, \"0\": 48, \"10\": 16}, \"6\": {\"12\": 23, \"9\": 41, \"11\": 17, \"5\": 35, \"6\": 47, \"15\": 51, \"3\": 25, \"4\": 1}, \"3\": {\"13\": 14, \"6\": 38, \"3\": 78, \"5\": 20, \"15\": 20, \"11\": 34, \"12\": 24, \"9\": 12}, \"4\": {\"4\": 100, \"7\": 106, \"9\": 3, \"5\": 21, \"6\": 4, \"15\": 4, \"3\": 1, \"12\": 1}, \"12\": {\"9\": 42, \"12\": 119, \"11\": 32, \"15\": 17, \"3\": 9, \"6\": 17, \"5\": 4}, \"15\": {\"15\": 54, \"11\": 13, \"5\": 43, \"6\": 53, \"12\": 15, \"9\": 33, \"7\": 8, \"3\": 19, \"4\": 2}, \"11\": {\"5\": 14, \"12\": 41, \"6\": 23, \"11\": 87, \"3\": 38, \"15\": 10, \"9\": 15, \"13\": 12}, \"0\": {\"0\": 81, \"10\": 54, \"2\": 53, \"14\": 47, \"8\": 4, \"1\": 1}, \"9\": {\"11\": 10, \"9\": 62, \"12\": 55, \"6\": 31, \"5\": 23, \"15\": 44, \"3\": 9, \"7\": 4, \"4\": 2}, \"10\": {\"10\": 125, \"14\": 12, \"8\": 36, \"13\": 3, \"0\": 49, \"1\": 12, \"2\": 3}, \"5\": {\"6\": 22, \"7\": 40, \"9\": 13, \"5\": 46, \"15\": 28, \"4\": 42, \"3\": 23, \"11\": 12, \"13\": 10, \"12\": 4}, \"13\": {\"13\": 152, \"8\": 8, \"3\": 12, \"1\": 42, \"11\": 22, \"5\": 1, \"12\": 3}}, \"ORACLE.run1_32\": {\"2\": {\"2\": 100, \"4\": 67, \"1\": 15, \"3\": 16, \"8\": 13, \"14\": 17, \"13\": 10, \"0\": 2}, \"6\": {\"10\": 29, \"6\": 211}, \"5\": {\"7\": 57, \"8\": 22, \"15\": 32, \"5\": 79, \"0\": 24, \"14\": 25, \"4\": 1}, \"12\": {\"12\": 181, \"9\": 22, \"10\": 14, \"11\": 22, \"13\": 1}, \"13\": {\"11\": 22, \"3\": 61, \"13\": 69, \"4\": 35, \"9\": 38, \"2\": 6, \"1\": 8, \"8\": 1}, \"9\": {\"12\": 38, \"13\": 48, \"9\": 87, \"2\": 2, \"3\": 19, \"11\": 32, \"4\": 6, \"1\": 6, \"10\": 2}, \"11\": {\"11\": 164, \"12\": 17, \"9\": 52, \"13\": 6, \"4\": 1}, \"1\": {\"8\": 13, \"4\": 23, \"2\": 26, \"1\": 135, \"3\": 17, \"15\": 3, \"13\": 13, \"7\": 1, \"14\": 6, \"9\": 2, \"0\": 1}, \"3\": {\"3\": 75, \"4\": 44, \"13\": 60, \"2\": 24, \"1\": 18, \"9\": 11, \"11\": 5, \"8\": 3}, \"7\": {\"8\": 23, \"14\": 35, \"0\": 37, \"7\": 73, \"5\": 53, \"15\": 18, \"2\": 1}, \"14\": {\"7\": 42, \"14\": 60, \"5\": 17, \"8\": 21, \"0\": 45, \"15\": 10, \"2\": 35, \"4\": 10}, \"8\": {\"8\": 64, \"5\": 12, \"14\": 41, \"0\": 47, \"1\": 6, \"15\": 21, \"7\": 30, \"3\": 4, \"2\": 13, \"4\": 2}, \"4\": {\"4\": 80, \"13\": 24, \"3\": 49, \"14\": 4, \"8\": 7, \"2\": 58, \"11\": 2, \"1\": 15, \"9\": 1}, \"0\": {\"5\": 39, \"8\": 44, \"14\": 37, \"0\": 59, \"15\": 10, \"7\": 48, \"2\": 3}, \"10\": {\"10\": 187, \"6\": 16, \"12\": 37}, \"15\": {\"15\": 173, \"7\": 12, \"0\": 12, \"5\": 30, \"8\": 12, \"14\": 1}}, \"ORACLE.run1_44\": {\"13\": {\"9\": 15, \"6\": 90, \"13\": 129, \"11\": 3, \"4\": 3}, \"4\": {\"4\": 34, \"9\": 41, \"8\": 5, \"6\": 20, \"2\": 25, \"7\": 27, \"15\": 12, \"5\": 22, \"10\": 25, \"14\": 25, \"13\": 3, \"1\": 1}, \"6\": {\"9\": 27, \"6\": 132, \"13\": 69, \"4\": 4, \"10\": 3, \"7\": 5}, \"0\": {\"0\": 135, \"1\": 41, \"8\": 41, \"2\": 10, \"3\": 7, \"15\": 4, \"12\": 2}, \"10\": {\"4\": 35, \"10\": 57, \"7\": 52, \"9\": 26, \"14\": 23, \"2\": 6, \"5\": 22, \"0\": 2, \"15\": 11, \"1\": 2, \"6\": 3, \"8\": 1}, \"7\": {\"10\": 42, \"5\": 19, \"9\": 44, \"7\": 73, \"4\": 37, \"6\": 7, \"14\": 15, \"15\": 2, \"13\": 1}, \"14\": {\"14\": 60, \"2\": 11, \"7\": 22, \"4\": 28, \"15\": 22, \"5\": 57, \"10\": 32, \"9\": 3, \"1\": 1, \"8\": 4}, \"15\": {\"1\": 23, \"2\": 31, \"15\": 68, \"8\": 36, \"14\": 24, \"4\": 8, \"0\": 4, \"5\": 37, \"7\": 1, \"10\": 5, \"9\": 3}, \"5\": {\"5\": 49, \"14\": 56, \"7\": 21, \"2\": 13, \"4\": 26, \"10\": 24, \"15\": 32, \"8\": 7, \"1\": 7, \"9\": 5}, \"2\": {\"5\": 17, \"1\": 39, \"8\": 14, \"15\": 25, \"2\": 111, \"4\": 6, \"7\": 3, \"14\": 18, \"10\": 6, \"9\": 1}, \"9\": {\"10\": 20, \"9\": 43, \"4\": 27, \"13\": 34, \"5\": 8, \"7\": 40, \"6\": 32, \"14\": 22, \"2\": 10, \"15\": 2, \"8\": 1, \"1\": 1}, \"12\": {\"12\": 142, \"3\": 94, \"0\": 4}, \"8\": {\"0\": 57, \"8\": 72, \"15\": 47, \"3\": 6, \"1\": 38, \"2\": 8, \"5\": 7, \"14\": 3, \"10\": 1, \"12\": 1}, \"3\": {\"12\": 116, \"3\": 114, \"0\": 9, \"1\": 1}, \"1\": {\"2\": 36, \"8\": 43, \"15\": 28, \"1\": 93, \"0\": 36, \"4\": 2, \"5\": 2}, \"11\": {\"11\": 237, \"13\": 3}}, \"ORACLE.run1_14\": {\"1\": {\"1\": 132, \"9\": 79, \"10\": 27, \"4\": 2}, \"15\": {\"15\": 240}, \"10\": {\"10\": 125, \"9\": 45, \"4\": 34, \"1\": 19, \"12\": 14, \"2\": 2, \"13\": 1}, \"2\": {\"2\": 28, \"0\": 30, \"7\": 12, \"5\": 27, \"12\": 18, \"10\": 3, \"14\": 24, \"8\": 14, \"4\": 30, \"6\": 24, \"13\": 13, \"3\": 17}, \"9\": {\"1\": 67, \"9\": 128, \"10\": 40, \"12\": 2, \"4\": 3}, \"5\": {\"5\": 60, \"7\": 13, \"12\": 27, \"0\": 23, \"2\": 30, \"8\": 43, \"14\": 19, \"4\": 11, \"6\": 3, \"3\": 2, \"13\": 9}, \"7\": {\"8\": 30, \"7\": 105, \"3\": 24, \"13\": 14, \"2\": 14, \"5\": 15, \"14\": 10, \"6\": 17, \"0\": 11}, \"13\": {\"6\": 47, \"2\": 17, \"13\": 41, \"0\": 17, \"3\": 30, \"5\": 21, \"4\": 9, \"15\": 17, \"12\": 4, \"14\": 20, \"7\": 6, \"8\": 8, \"10\": 3}, \"8\": {\"8\": 80, \"5\": 42, \"2\": 17, \"0\": 25, \"14\": 14, \"7\": 26, \"12\": 17, \"13\": 9, \"4\": 6, \"3\": 4}, \"6\": {\"13\": 50, \"3\": 38, \"7\": 15, \"8\": 4, \"6\": 81, \"14\": 28, \"2\": 7, \"5\": 2, \"0\": 13, \"15\": 2}, \"3\": {\"2\": 9, \"3\": 68, \"6\": 55, \"13\": 34, \"7\": 31, \"14\": 25, \"0\": 12, \"5\": 2, \"8\": 4}, \"12\": {\"12\": 106, \"14\": 7, \"2\": 24, \"0\": 15, \"7\": 3, \"4\": 35, \"5\": 23, \"8\": 18, \"10\": 8, \"13\": 1}, \"0\": {\"3\": 33, \"2\": 29, \"7\": 11, \"8\": 18, \"6\": 22, \"0\": 31, \"4\": 8, \"5\": 25, \"13\": 18, \"14\": 31, \"12\": 12, \"10\": 2}, \"4\": {\"12\": 28, \"5\": 13, \"10\": 53, \"0\": 8, \"2\": 7, \"4\": 109, \"8\": 7, \"9\": 3, \"1\": 9, \"13\": 2, \"14\": 1}, \"14\": {\"3\": 18, \"2\": 31, \"8\": 16, \"0\": 24, \"14\": 77, \"5\": 23, \"13\": 24, \"6\": 14, \"7\": 13}, \"11\": {\"11\": 237, \"1\": 1, \"9\": 2}}}, \"per_domain_accuracy\": {\"CORES_2\": {\"accuracy\": 0.9985795454545454, \"source?\": true}, \"CORES_5\": {\"accuracy\": 0.9985955056179775, \"source?\": true}, \"CORES_1\": {\"accuracy\": 0.9984546703296703, \"source?\": true}, \"CORES_4\": {\"accuracy\": 0.9964446107784432, \"source?\": true}, \"CORES_3\": {\"accuracy\": 0.9985380116959064, \"source?\": true}, \"ORACLE.run1_8\": {\"accuracy\": 0.39479166666666665, \"source?\": false}, \"ORACLE.run1_38\": {\"accuracy\": 0.5278645833333333, \"source?\": false}, \"ORACLE.run1_26\": {\"accuracy\": 0.29192708333333334, \"source?\": false}, \"ORACLE.run1_20\": {\"accuracy\": 0.2234375, \"source?\": false}, \"ORACLE.run1_50\": {\"accuracy\": 0.3723958333333333, \"source?\": false}, \"ORACLE.run1_32\": {\"accuracy\": 0.46796875, \"source?\": false}, \"ORACLE.run1_44\": {\"accuracy\": 0.40338541666666666, \"source?\": false}, \"ORACLE.run1_14\": {\"accuracy\": 0.42916666666666664, \"source?\": false}}}, \"history\": {\"epoch_indices\": [1, 2, 3, 4, 5], \"train_label_loss\": [0.029296626436401116, 0.009200547827144467, 0.00635028192895864, 0.005326096010322357, 0.004626048328209698], \"source_val_label_loss\": [0.009868270717561245, 0.011827470734715462, 0.013853458687663078, 0.008069505915045738, 0.007000044919550419], \"target_val_label_loss\": [1.9515941143035889, 2.000131130218506, 1.7555230855941772, 1.862630844116211, 1.8781901597976685], \"source_val_acc_label\": [0.9981407322654462, 0.9989631006864989, 0.9984982837528604, 0.9991776315789473, 0.9993206521739131], \"target_val_acc_label\": [0.3888671875, 0.3626302083333333, 0.384375, 0.3722330729166667, 0.37041015625]}, \"dataset_metrics\": {\"source\": {\"train\": {\"n_unique_x\": 175213, \"n_unique_y\": 58, \"n_batch/episode\": 6329}, \"val\": {\"n_unique_x\": 37135, \"n_unique_y\": 58, \"n_batch/episode\": 874}, \"test\": {\"n_unique_x\": 37673, \"n_unique_y\": 58, \"n_batch/episode\": 893}}, \"target\": {\"train\": {\"n_unique_x\": 179200, \"n_unique_y\": 16, \"n_batch/episode\": 6720}, \"val\": {\"n_unique_x\": 38400, \"n_unique_y\": 16, \"n_batch/episode\": 960}, \"test\": {\"n_unique_x\": 38400, \"n_unique_y\": 16, \"n_batch/episode\": 960}}}}'"
      ]
     },
     "execution_count": 29,
     "metadata": {},
     "output_type": "execute_result"
    }
   ],
   "source": [
    "json.dumps(experiment)"
   ]
  }
 ],
 "metadata": {
  "celltoolbar": "Tags",
  "kernelspec": {
   "display_name": "Python 3 (ipykernel)",
   "language": "python",
   "name": "python3"
  },
  "language_info": {
   "codemirror_mode": {
    "name": "ipython",
    "version": 3
   },
   "file_extension": ".py",
   "mimetype": "text/x-python",
   "name": "python",
   "nbconvert_exporter": "python",
   "pygments_lexer": "ipython3",
   "version": "3.8.12"
  },
  "papermill": {
   "default_parameters": {},
   "duration": 955.418268,
   "end_time": "2022-03-22T12:29:14.795050",
   "environment_variables": {},
   "exception": null,
   "input_path": "/root/csc500-main/csc500-notebooks/templates/tl_ptn_template.ipynb",
   "output_path": "trial.ipynb",
   "parameters": {
    "parameters": {
     "BEST_MODEL_PATH": "./best_model.pth",
     "NUM_LOGS_PER_EPOCH": 10,
     "criteria_for_best": "target_accuracy",
     "dataset_seed": 154325,
     "datasets": [
      {
       "domain_prefix": "CORES_",
       "domains": [
        1,
        2,
        3,
        4,
        5
       ],
       "episode_transforms": [],
       "labels": [
        "1-10.",
        "1-11.",
        "1-15.",
        "1-16.",
        "1-17.",
        "1-18.",
        "1-19.",
        "10-4.",
        "10-7.",
        "11-1.",
        "11-14.",
        "11-17.",
        "11-20.",
        "11-7.",
        "13-20.",
        "13-8.",
        "14-10.",
        "14-11.",
        "14-14.",
        "14-7.",
        "15-1.",
        "15-20.",
        "16-1.",
        "16-16.",
        "17-10.",
        "17-11.",
        "17-2.",
        "19-1.",
        "19-16.",
        "19-19.",
        "19-20.",
        "19-3.",
        "2-10.",
        "2-11.",
        "2-17.",
        "2-18.",
        "2-20.",
        "2-3.",
        "2-4.",
        "2-5.",
        "2-6.",
        "2-7.",
        "2-8.",
        "3-13.",
        "3-18.",
        "3-3.",
        "4-1.",
        "4-10.",
        "4-11.",
        "4-19.",
        "5-5.",
        "6-15.",
        "7-10.",
        "7-14.",
        "8-18.",
        "8-20.",
        "8-3.",
        "8-8."
       ],
       "num_examples_per_domain_per_label": -1,
       "pickle_path": "/root/csc500-main/datasets/cores.stratified_ds.2022A.pkl",
       "source_or_target_dataset": "source",
       "x_transforms": []
      },
      {
       "domain_prefix": "ORACLE.run1_",
       "domains": [
        32,
        38,
        8,
        44,
        14,
        50,
        20,
        26
       ],
       "episode_transforms": [],
       "labels": [
        "3123D52",
        "3123D65",
        "3123D79",
        "3123D80",
        "3123D54",
        "3123D70",
        "3123D7B",
        "3123D89",
        "3123D58",
        "3123D76",
        "3123D7D",
        "3123EFE",
        "3123D64",
        "3123D78",
        "3123D7E",
        "3124E4A"
       ],
       "num_examples_per_domain_per_label": 2000,
       "pickle_path": "/root/csc500-main/datasets/oracle.Run1_10kExamples_stratified_ds.2022A.pkl",
       "source_or_target_dataset": "target",
       "x_transforms": []
      }
     ],
     "device": "cuda",
     "experiment_name": "tl_1v2:cores-oracle.run1.limited",
     "lr": 0.0001,
     "n_epoch": 50,
     "n_query": 2,
     "n_shot": 3,
     "n_way": 16,
     "patience": 3,
     "seed": 154325,
     "test_k_factor": 2,
     "torch_default_dtype": "torch.float32",
     "train_k_factor": 3,
     "val_k_factor": 2,
     "x_net": [
      {
       "class": "nnReshape",
       "kargs": {
        "shape": [
         -1,
         1,
         2,
         256
        ]
       }
      },
      {
       "class": "Conv2d",
       "kargs": {
        "bias": false,
        "in_channels": 1,
        "kernel_size": [
         1,
         7
        ],
        "out_channels": 256,
        "padding": [
         0,
         3
        ]
       }
      },
      {
       "class": "ReLU",
       "kargs": {
        "inplace": true
       }
      },
      {
       "class": "BatchNorm2d",
       "kargs": {
        "num_features": 256
       }
      },
      {
       "class": "Conv2d",
       "kargs": {
        "bias": true,
        "in_channels": 256,
        "kernel_size": [
         2,
         7
        ],
        "out_channels": 80,
        "padding": [
         0,
         3
        ]
       }
      },
      {
       "class": "ReLU",
       "kargs": {
        "inplace": true
       }
      },
      {
       "class": "BatchNorm2d",
       "kargs": {
        "num_features": 80
       }
      },
      {
       "class": "Flatten",
       "kargs": {}
      },
      {
       "class": "Linear",
       "kargs": {
        "in_features": 20480,
        "out_features": 256
       }
      },
      {
       "class": "ReLU",
       "kargs": {
        "inplace": true
       }
      },
      {
       "class": "BatchNorm1d",
       "kargs": {
        "num_features": 256
       }
      },
      {
       "class": "Linear",
       "kargs": {
        "in_features": 256,
        "out_features": 256
       }
      }
     ]
    }
   },
   "start_time": "2022-03-22T12:13:19.376782",
   "version": "2.3.4"
  }
 },
 "nbformat": 4,
 "nbformat_minor": 5
}