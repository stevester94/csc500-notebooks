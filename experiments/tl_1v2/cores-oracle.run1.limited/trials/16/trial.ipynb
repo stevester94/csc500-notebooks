{
 "cells": [
  {
   "cell_type": "markdown",
   "id": "9fea5f46",
   "metadata": {
    "papermill": {
     "duration": 0.028869,
     "end_time": "2022-03-22T12:49:20.584267",
     "exception": false,
     "start_time": "2022-03-22T12:49:20.555398",
     "status": "completed"
    },
    "tags": []
   },
   "source": [
    "# Transfer Learning Template"
   ]
  },
  {
   "cell_type": "code",
   "execution_count": 1,
   "id": "0902182a",
   "metadata": {
    "execution": {
     "iopub.execute_input": "2022-03-22T12:49:20.651598Z",
     "iopub.status.busy": "2022-03-22T12:49:20.639006Z",
     "iopub.status.idle": "2022-03-22T12:49:22.506523Z",
     "shell.execute_reply": "2022-03-22T12:49:22.507221Z"
    },
    "papermill": {
     "duration": 1.89536,
     "end_time": "2022-03-22T12:49:22.507580",
     "exception": false,
     "start_time": "2022-03-22T12:49:20.612220",
     "status": "completed"
    },
    "tags": []
   },
   "outputs": [],
   "source": [
    "%load_ext autoreload\n",
    "%autoreload 2\n",
    "%matplotlib inline\n",
    "\n",
    "    \n",
    "import os, json, sys, time, random\n",
    "import numpy as np\n",
    "import torch\n",
    "from torch.optim import Adam\n",
    "from  easydict import EasyDict\n",
    "import matplotlib.pyplot as plt\n",
    "\n",
    "from steves_models.steves_ptn import Steves_Prototypical_Network\n",
    "\n",
    "from steves_utils.lazy_iterable_wrapper import Lazy_Iterable_Wrapper\n",
    "from steves_utils.iterable_aggregator import Iterable_Aggregator\n",
    "from steves_utils.ptn_train_eval_test_jig import  PTN_Train_Eval_Test_Jig\n",
    "from steves_utils.torch_sequential_builder import build_sequential\n",
    "from steves_utils.torch_utils import get_dataset_metrics, ptn_confusion_by_domain_over_dataloader\n",
    "from steves_utils.utils_v2 import (per_domain_accuracy_from_confusion, get_datasets_base_path)\n",
    "from steves_utils.PTN.utils import independent_accuracy_assesment\n",
    "\n",
    "from torch.utils.data import DataLoader\n",
    "\n",
    "from steves_utils.stratified_dataset.episodic_accessor import Episodic_Accessor_Factory\n",
    "\n",
    "from steves_utils.ptn_do_report import (\n",
    "    get_loss_curve,\n",
    "    get_results_table,\n",
    "    get_parameters_table,\n",
    "    get_domain_accuracies,\n",
    ")\n",
    "\n",
    "from steves_utils.transforms import get_chained_transform"
   ]
  },
  {
   "cell_type": "markdown",
   "id": "41c840b4",
   "metadata": {
    "papermill": {
     "duration": 0.019911,
     "end_time": "2022-03-22T12:49:22.552073",
     "exception": false,
     "start_time": "2022-03-22T12:49:22.532162",
     "status": "completed"
    },
    "tags": []
   },
   "source": [
    "# Allowed Parameters\n",
    "These are allowed parameters, not defaults\n",
    "Each of these values need to be present in the injected parameters (the notebook will raise an exception if they are not present)\n",
    "\n",
    "Papermill uses the cell tag \"parameters\" to inject the real parameters below this cell.\n",
    "Enable tags to see what I mean"
   ]
  },
  {
   "cell_type": "code",
   "execution_count": 2,
   "id": "fd44eb83",
   "metadata": {
    "execution": {
     "iopub.execute_input": "2022-03-22T12:49:22.596526Z",
     "iopub.status.busy": "2022-03-22T12:49:22.595855Z",
     "iopub.status.idle": "2022-03-22T12:49:22.618132Z",
     "shell.execute_reply": "2022-03-22T12:49:22.617292Z"
    },
    "papermill": {
     "duration": 0.046739,
     "end_time": "2022-03-22T12:49:22.618305",
     "exception": false,
     "start_time": "2022-03-22T12:49:22.571566",
     "status": "completed"
    },
    "tags": []
   },
   "outputs": [],
   "source": [
    "required_parameters = {\n",
    "    \"experiment_name\",\n",
    "    \"lr\",\n",
    "    \"device\",\n",
    "    \"seed\",\n",
    "    \"dataset_seed\",\n",
    "    \"n_shot\",\n",
    "    \"n_query\",\n",
    "    \"n_way\",\n",
    "    \"train_k_factor\",\n",
    "    \"val_k_factor\",\n",
    "    \"test_k_factor\",\n",
    "    \"n_epoch\",\n",
    "    \"patience\",\n",
    "    \"criteria_for_best\",\n",
    "    \"x_net\",\n",
    "    \"datasets\",\n",
    "    \"torch_default_dtype\",\n",
    "    \"NUM_LOGS_PER_EPOCH\",\n",
    "    \"BEST_MODEL_PATH\",\n",
    "    \"x_shape\",\n",
    "}"
   ]
  },
  {
   "cell_type": "code",
   "execution_count": 3,
   "id": "fa3f0049",
   "metadata": {
    "execution": {
     "iopub.execute_input": "2022-03-22T12:49:22.678255Z",
     "iopub.status.busy": "2022-03-22T12:49:22.677327Z",
     "iopub.status.idle": "2022-03-22T12:49:22.697134Z",
     "shell.execute_reply": "2022-03-22T12:49:22.696297Z"
    },
    "papermill": {
     "duration": 0.053296,
     "end_time": "2022-03-22T12:49:22.697311",
     "exception": false,
     "start_time": "2022-03-22T12:49:22.644015",
     "status": "completed"
    },
    "tags": [
     "parameters"
    ]
   },
   "outputs": [],
   "source": [
    "from steves_utils.CORES.utils import (\n",
    "    ALL_NODES,\n",
    "    ALL_NODES_MINIMUM_1000_EXAMPLES,\n",
    "    ALL_DAYS\n",
    ")\n",
    "\n",
    "from steves_utils.ORACLE.utils_v2 import (\n",
    "    ALL_DISTANCES_FEET_NARROWED,\n",
    "    ALL_RUNS,\n",
    "    ALL_SERIAL_NUMBERS,\n",
    ")\n",
    "\n",
    "standalone_parameters = {}\n",
    "standalone_parameters[\"experiment_name\"] = \"STANDALONE PTN\"\n",
    "standalone_parameters[\"lr\"] = 0.001\n",
    "standalone_parameters[\"device\"] = \"cuda\"\n",
    "\n",
    "standalone_parameters[\"seed\"] = 1337\n",
    "standalone_parameters[\"dataset_seed\"] = 1337\n",
    "\n",
    "standalone_parameters[\"n_way\"] = 8\n",
    "standalone_parameters[\"n_shot\"] = 3\n",
    "standalone_parameters[\"n_query\"]  = 2\n",
    "standalone_parameters[\"train_k_factor\"] = 1\n",
    "standalone_parameters[\"val_k_factor\"] = 2\n",
    "standalone_parameters[\"test_k_factor\"] = 2\n",
    "\n",
    "\n",
    "standalone_parameters[\"n_epoch\"] = 50\n",
    "\n",
    "standalone_parameters[\"patience\"] = 10\n",
    "standalone_parameters[\"criteria_for_best\"] = \"source_loss\"\n",
    "\n",
    "standalone_parameters[\"datasets\"] = [\n",
    "    {\n",
    "        \"labels\": ALL_SERIAL_NUMBERS,\n",
    "        \"domains\": ALL_DISTANCES_FEET_NARROWED,\n",
    "        \"num_examples_per_domain_per_label\": 100,\n",
    "        \"pickle_path\": os.path.join(get_datasets_base_path(), \"oracle.Run1_framed_2000Examples_stratified_ds.2022A.pkl\"),\n",
    "        \"source_or_target_dataset\": \"source\",\n",
    "        \"x_transforms\": [\"unit_mag\", \"minus_two\"],\n",
    "        \"episode_transforms\": [],\n",
    "        \"domain_prefix\": \"ORACLE_\"\n",
    "    },\n",
    "    {\n",
    "        \"labels\": ALL_NODES,\n",
    "        \"domains\": ALL_DAYS,\n",
    "        \"num_examples_per_domain_per_label\": 100,\n",
    "        \"pickle_path\": os.path.join(get_datasets_base_path(), \"cores.stratified_ds.2022A.pkl\"),\n",
    "        \"source_or_target_dataset\": \"target\",\n",
    "        \"x_transforms\": [\"unit_power\", \"times_zero\"],\n",
    "        \"episode_transforms\": [],\n",
    "        \"domain_prefix\": \"CORES_\"\n",
    "    }   \n",
    "]\n",
    "\n",
    "standalone_parameters[\"torch_default_dtype\"] = \"torch.float32\" \n",
    "\n",
    "\n",
    "\n",
    "standalone_parameters[\"x_net\"] =     [\n",
    "    {\"class\": \"nnReshape\", \"kargs\": {\"shape\":[-1, 1, 2, 256]}},\n",
    "    {\"class\": \"Conv2d\", \"kargs\": { \"in_channels\":1, \"out_channels\":256, \"kernel_size\":(1,7), \"bias\":False, \"padding\":(0,3), },},\n",
    "    {\"class\": \"ReLU\", \"kargs\": {\"inplace\": True}},\n",
    "    {\"class\": \"BatchNorm2d\", \"kargs\": {\"num_features\":256}},\n",
    "\n",
    "    {\"class\": \"Conv2d\", \"kargs\": { \"in_channels\":256, \"out_channels\":80, \"kernel_size\":(2,7), \"bias\":True, \"padding\":(0,3), },},\n",
    "    {\"class\": \"ReLU\", \"kargs\": {\"inplace\": True}},\n",
    "    {\"class\": \"BatchNorm2d\", \"kargs\": {\"num_features\":80}},\n",
    "    {\"class\": \"Flatten\", \"kargs\": {}},\n",
    "\n",
    "    {\"class\": \"Linear\", \"kargs\": {\"in_features\": 80*256, \"out_features\": 256}}, # 80 units per IQ pair\n",
    "    {\"class\": \"ReLU\", \"kargs\": {\"inplace\": True}},\n",
    "    {\"class\": \"BatchNorm1d\", \"kargs\": {\"num_features\":256}},\n",
    "\n",
    "    {\"class\": \"Linear\", \"kargs\": {\"in_features\": 256, \"out_features\": 256}},\n",
    "]\n",
    "\n",
    "# Parameters relevant to results\n",
    "# These parameters will basically never need to change\n",
    "standalone_parameters[\"NUM_LOGS_PER_EPOCH\"] = 10\n",
    "standalone_parameters[\"BEST_MODEL_PATH\"] = \"./best_model.pth\"\n",
    "\n",
    "\n",
    "\n",
    "\n"
   ]
  },
  {
   "cell_type": "code",
   "execution_count": 4,
   "id": "8dc582f5",
   "metadata": {
    "execution": {
     "iopub.execute_input": "2022-03-22T12:49:22.765407Z",
     "iopub.status.busy": "2022-03-22T12:49:22.764441Z",
     "iopub.status.idle": "2022-03-22T12:49:22.786280Z",
     "shell.execute_reply": "2022-03-22T12:49:22.785478Z"
    },
    "papermill": {
     "duration": 0.056647,
     "end_time": "2022-03-22T12:49:22.786445",
     "exception": false,
     "start_time": "2022-03-22T12:49:22.729798",
     "status": "completed"
    },
    "tags": [
     "injected-parameters"
    ]
   },
   "outputs": [],
   "source": [
    "# Parameters\n",
    "parameters = {\n",
    "    \"experiment_name\": \"tl_1v2:cores-oracle.run1.limited\",\n",
    "    \"device\": \"cuda\",\n",
    "    \"lr\": 0.0001,\n",
    "    \"n_shot\": 3,\n",
    "    \"n_query\": 2,\n",
    "    \"train_k_factor\": 3,\n",
    "    \"val_k_factor\": 2,\n",
    "    \"test_k_factor\": 2,\n",
    "    \"torch_default_dtype\": \"torch.float32\",\n",
    "    \"n_epoch\": 50,\n",
    "    \"patience\": 3,\n",
    "    \"criteria_for_best\": \"target_accuracy\",\n",
    "    \"x_net\": [\n",
    "        {\"class\": \"nnReshape\", \"kargs\": {\"shape\": [-1, 1, 2, 256]}},\n",
    "        {\n",
    "            \"class\": \"Conv2d\",\n",
    "            \"kargs\": {\n",
    "                \"in_channels\": 1,\n",
    "                \"out_channels\": 256,\n",
    "                \"kernel_size\": [1, 7],\n",
    "                \"bias\": False,\n",
    "                \"padding\": [0, 3],\n",
    "            },\n",
    "        },\n",
    "        {\"class\": \"ReLU\", \"kargs\": {\"inplace\": True}},\n",
    "        {\"class\": \"BatchNorm2d\", \"kargs\": {\"num_features\": 256}},\n",
    "        {\n",
    "            \"class\": \"Conv2d\",\n",
    "            \"kargs\": {\n",
    "                \"in_channels\": 256,\n",
    "                \"out_channels\": 80,\n",
    "                \"kernel_size\": [2, 7],\n",
    "                \"bias\": True,\n",
    "                \"padding\": [0, 3],\n",
    "            },\n",
    "        },\n",
    "        {\"class\": \"ReLU\", \"kargs\": {\"inplace\": True}},\n",
    "        {\"class\": \"BatchNorm2d\", \"kargs\": {\"num_features\": 80}},\n",
    "        {\"class\": \"Flatten\", \"kargs\": {}},\n",
    "        {\"class\": \"Linear\", \"kargs\": {\"in_features\": 20480, \"out_features\": 256}},\n",
    "        {\"class\": \"ReLU\", \"kargs\": {\"inplace\": True}},\n",
    "        {\"class\": \"BatchNorm1d\", \"kargs\": {\"num_features\": 256}},\n",
    "        {\"class\": \"Linear\", \"kargs\": {\"in_features\": 256, \"out_features\": 256}},\n",
    "    ],\n",
    "    \"NUM_LOGS_PER_EPOCH\": 10,\n",
    "    \"BEST_MODEL_PATH\": \"./best_model.pth\",\n",
    "    \"n_way\": 16,\n",
    "    \"datasets\": [\n",
    "        {\n",
    "            \"labels\": [\n",
    "                \"1-10.\",\n",
    "                \"1-11.\",\n",
    "                \"1-15.\",\n",
    "                \"1-16.\",\n",
    "                \"1-17.\",\n",
    "                \"1-18.\",\n",
    "                \"1-19.\",\n",
    "                \"10-4.\",\n",
    "                \"10-7.\",\n",
    "                \"11-1.\",\n",
    "                \"11-14.\",\n",
    "                \"11-17.\",\n",
    "                \"11-20.\",\n",
    "                \"11-7.\",\n",
    "                \"13-20.\",\n",
    "                \"13-8.\",\n",
    "                \"14-10.\",\n",
    "                \"14-11.\",\n",
    "                \"14-14.\",\n",
    "                \"14-7.\",\n",
    "                \"15-1.\",\n",
    "                \"15-20.\",\n",
    "                \"16-1.\",\n",
    "                \"16-16.\",\n",
    "                \"17-10.\",\n",
    "                \"17-11.\",\n",
    "                \"17-2.\",\n",
    "                \"19-1.\",\n",
    "                \"19-16.\",\n",
    "                \"19-19.\",\n",
    "                \"19-20.\",\n",
    "                \"19-3.\",\n",
    "                \"2-10.\",\n",
    "                \"2-11.\",\n",
    "                \"2-17.\",\n",
    "                \"2-18.\",\n",
    "                \"2-20.\",\n",
    "                \"2-3.\",\n",
    "                \"2-4.\",\n",
    "                \"2-5.\",\n",
    "                \"2-6.\",\n",
    "                \"2-7.\",\n",
    "                \"2-8.\",\n",
    "                \"3-13.\",\n",
    "                \"3-18.\",\n",
    "                \"3-3.\",\n",
    "                \"4-1.\",\n",
    "                \"4-10.\",\n",
    "                \"4-11.\",\n",
    "                \"4-19.\",\n",
    "                \"5-5.\",\n",
    "                \"6-15.\",\n",
    "                \"7-10.\",\n",
    "                \"7-14.\",\n",
    "                \"8-18.\",\n",
    "                \"8-20.\",\n",
    "                \"8-3.\",\n",
    "                \"8-8.\",\n",
    "            ],\n",
    "            \"domains\": [1, 2, 3, 4, 5],\n",
    "            \"num_examples_per_domain_per_label\": -1,\n",
    "            \"pickle_path\": \"/root/csc500-main/datasets/cores.stratified_ds.2022A.pkl\",\n",
    "            \"source_or_target_dataset\": \"target\",\n",
    "            \"x_transforms\": [\"unit_mag\"],\n",
    "            \"episode_transforms\": [],\n",
    "            \"domain_prefix\": \"CORES_\",\n",
    "        },\n",
    "        {\n",
    "            \"labels\": [\n",
    "                \"3123D52\",\n",
    "                \"3123D65\",\n",
    "                \"3123D79\",\n",
    "                \"3123D80\",\n",
    "                \"3123D54\",\n",
    "                \"3123D70\",\n",
    "                \"3123D7B\",\n",
    "                \"3123D89\",\n",
    "                \"3123D58\",\n",
    "                \"3123D76\",\n",
    "                \"3123D7D\",\n",
    "                \"3123EFE\",\n",
    "                \"3123D64\",\n",
    "                \"3123D78\",\n",
    "                \"3123D7E\",\n",
    "                \"3124E4A\",\n",
    "            ],\n",
    "            \"domains\": [32, 38, 8, 44, 14, 50, 20, 26],\n",
    "            \"num_examples_per_domain_per_label\": 2000,\n",
    "            \"pickle_path\": \"/root/csc500-main/datasets/oracle.Run1_10kExamples_stratified_ds.2022A.pkl\",\n",
    "            \"source_or_target_dataset\": \"source\",\n",
    "            \"x_transforms\": [\"unit_mag\"],\n",
    "            \"episode_transforms\": [],\n",
    "            \"domain_prefix\": \"ORACLE.run1_\",\n",
    "        },\n",
    "    ],\n",
    "    \"dataset_seed\": 154325,\n",
    "    \"seed\": 154325,\n",
    "}\n"
   ]
  },
  {
   "cell_type": "code",
   "execution_count": 5,
   "id": "8fa1cc33",
   "metadata": {
    "execution": {
     "iopub.execute_input": "2022-03-22T12:49:22.838677Z",
     "iopub.status.busy": "2022-03-22T12:49:22.838101Z",
     "iopub.status.idle": "2022-03-22T12:49:22.859422Z",
     "shell.execute_reply": "2022-03-22T12:49:22.858614Z"
    },
    "papermill": {
     "duration": 0.048264,
     "end_time": "2022-03-22T12:49:22.859595",
     "exception": false,
     "start_time": "2022-03-22T12:49:22.811331",
     "status": "completed"
    },
    "tags": []
   },
   "outputs": [],
   "source": [
    "# Set this to True if you want to run this template directly\n",
    "STANDALONE = False\n",
    "if STANDALONE:\n",
    "    print(\"parameters not injected, running with standalone_parameters\")\n",
    "    parameters = standalone_parameters\n",
    "\n",
    "if not 'parameters' in locals() and not 'parameters' in globals():\n",
    "    raise Exception(\"Parameter injection failed\")\n",
    "\n",
    "#Use an easy dict for all the parameters\n",
    "p = EasyDict(parameters)\n",
    "\n",
    "if \"x_shape\" not in p:\n",
    "    p.x_shape = [2,256] # Default to this if we dont supply x_shape\n",
    "\n",
    "\n",
    "supplied_keys = set(p.keys())\n",
    "\n",
    "if  supplied_keys != required_parameters:\n",
    "    print(\"Parameters are incorrect\")\n",
    "    if len(supplied_keys - required_parameters)>0: print(\"Shouldn't have:\", str(supplied_keys - required_parameters))\n",
    "    if len(required_parameters - supplied_keys)>0: print(\"Need to have:\", str(required_parameters - supplied_keys))\n",
    "    raise RuntimeError(\"Parameters are incorrect\")"
   ]
  },
  {
   "cell_type": "code",
   "execution_count": 6,
   "id": "3a028d58",
   "metadata": {
    "execution": {
     "iopub.execute_input": "2022-03-22T12:49:22.911931Z",
     "iopub.status.busy": "2022-03-22T12:49:22.911558Z",
     "iopub.status.idle": "2022-03-22T12:49:22.934431Z",
     "shell.execute_reply": "2022-03-22T12:49:22.933625Z"
    },
    "papermill": {
     "duration": 0.046691,
     "end_time": "2022-03-22T12:49:22.934586",
     "exception": false,
     "start_time": "2022-03-22T12:49:22.887895",
     "status": "completed"
    },
    "tags": []
   },
   "outputs": [],
   "source": [
    "###################################\n",
    "# Set the RNGs and make it all deterministic\n",
    "###################################\n",
    "np.random.seed(p.seed)\n",
    "random.seed(p.seed)\n",
    "torch.manual_seed(p.seed)\n",
    "\n",
    "torch.use_deterministic_algorithms(True) "
   ]
  },
  {
   "cell_type": "code",
   "execution_count": 7,
   "id": "b691acf6",
   "metadata": {
    "execution": {
     "iopub.execute_input": "2022-03-22T12:49:22.984552Z",
     "iopub.status.busy": "2022-03-22T12:49:22.983944Z",
     "iopub.status.idle": "2022-03-22T12:49:23.008906Z",
     "shell.execute_reply": "2022-03-22T12:49:23.008093Z"
    },
    "papermill": {
     "duration": 0.048775,
     "end_time": "2022-03-22T12:49:23.009063",
     "exception": false,
     "start_time": "2022-03-22T12:49:22.960288",
     "status": "completed"
    },
    "tags": []
   },
   "outputs": [],
   "source": [
    "###########################################\n",
    "# The stratified datasets honor this\n",
    "###########################################\n",
    "torch.set_default_dtype(eval(p.torch_default_dtype))"
   ]
  },
  {
   "cell_type": "code",
   "execution_count": 8,
   "id": "b5fba671",
   "metadata": {
    "execution": {
     "iopub.execute_input": "2022-03-22T12:49:23.062211Z",
     "iopub.status.busy": "2022-03-22T12:49:23.061837Z",
     "iopub.status.idle": "2022-03-22T12:49:23.119796Z",
     "shell.execute_reply": "2022-03-22T12:49:23.119022Z"
    },
    "papermill": {
     "duration": 0.081773,
     "end_time": "2022-03-22T12:49:23.119974",
     "exception": false,
     "start_time": "2022-03-22T12:49:23.038201",
     "status": "completed"
    },
    "tags": []
   },
   "outputs": [],
   "source": [
    "###################################\n",
    "# Build the network(s)\n",
    "# Note: It's critical to do this AFTER setting the RNG\n",
    "###################################\n",
    "x_net = build_sequential(p.x_net)"
   ]
  },
  {
   "cell_type": "code",
   "execution_count": 9,
   "id": "5d7e61cc",
   "metadata": {
    "execution": {
     "iopub.execute_input": "2022-03-22T12:49:23.170455Z",
     "iopub.status.busy": "2022-03-22T12:49:23.169896Z",
     "iopub.status.idle": "2022-03-22T12:49:23.196323Z",
     "shell.execute_reply": "2022-03-22T12:49:23.195471Z"
    },
    "papermill": {
     "duration": 0.050846,
     "end_time": "2022-03-22T12:49:23.196484",
     "exception": false,
     "start_time": "2022-03-22T12:49:23.145638",
     "status": "completed"
    },
    "tags": []
   },
   "outputs": [],
   "source": [
    "start_time_secs = time.time()"
   ]
  },
  {
   "cell_type": "code",
   "execution_count": 10,
   "id": "c6b67dfd",
   "metadata": {
    "execution": {
     "iopub.execute_input": "2022-03-22T12:49:23.250900Z",
     "iopub.status.busy": "2022-03-22T12:49:23.250343Z",
     "iopub.status.idle": "2022-03-22T12:49:23.273426Z",
     "shell.execute_reply": "2022-03-22T12:49:23.272720Z"
    },
    "papermill": {
     "duration": 0.048199,
     "end_time": "2022-03-22T12:49:23.273581",
     "exception": false,
     "start_time": "2022-03-22T12:49:23.225382",
     "status": "completed"
    },
    "tags": []
   },
   "outputs": [],
   "source": [
    "p.domains_source = []\n",
    "p.domains_target = []\n",
    "\n",
    "\n",
    "train_original_source = []\n",
    "val_original_source   = []\n",
    "test_original_source  = []\n",
    "\n",
    "train_original_target = []\n",
    "val_original_target   = []\n",
    "test_original_target  = []"
   ]
  },
  {
   "cell_type": "code",
   "execution_count": 11,
   "id": "e3d9c3d3",
   "metadata": {
    "execution": {
     "iopub.execute_input": "2022-03-22T12:49:23.323432Z",
     "iopub.status.busy": "2022-03-22T12:49:23.323066Z",
     "iopub.status.idle": "2022-03-22T12:49:23.347621Z",
     "shell.execute_reply": "2022-03-22T12:49:23.346895Z"
    },
    "papermill": {
     "duration": 0.048112,
     "end_time": "2022-03-22T12:49:23.347781",
     "exception": false,
     "start_time": "2022-03-22T12:49:23.299669",
     "status": "completed"
    },
    "tags": []
   },
   "outputs": [],
   "source": [
    "# global_x_transform_func = lambda x: normalize(x.to(torch.get_default_dtype()), \"unit_power\") # unit_power, unit_mag\n",
    "# global_x_transform_func = lambda x: normalize(x, \"unit_power\") # unit_power, unit_mag"
   ]
  },
  {
   "cell_type": "code",
   "execution_count": 12,
   "id": "acb78fd2",
   "metadata": {
    "execution": {
     "iopub.execute_input": "2022-03-22T12:49:23.411645Z",
     "iopub.status.busy": "2022-03-22T12:49:23.410793Z",
     "iopub.status.idle": "2022-03-22T12:49:23.431802Z",
     "shell.execute_reply": "2022-03-22T12:49:23.431089Z"
    },
    "papermill": {
     "duration": 0.054967,
     "end_time": "2022-03-22T12:49:23.431956",
     "exception": false,
     "start_time": "2022-03-22T12:49:23.376989",
     "status": "completed"
    },
    "tags": []
   },
   "outputs": [],
   "source": [
    "def add_dataset(\n",
    "    labels,\n",
    "    domains,\n",
    "    pickle_path,\n",
    "    x_transforms,\n",
    "    episode_transforms,\n",
    "    domain_prefix,\n",
    "    num_examples_per_domain_per_label,\n",
    "    source_or_target_dataset:str,\n",
    "    iterator_seed=p.seed,\n",
    "    dataset_seed=p.dataset_seed,\n",
    "    n_shot=p.n_shot,\n",
    "    n_way=p.n_way,\n",
    "    n_query=p.n_query,\n",
    "    train_val_test_k_factors=(p.train_k_factor,p.val_k_factor,p.test_k_factor),\n",
    "):\n",
    "   \n",
    "    if x_transforms == []: x_transform = None\n",
    "    else: x_transform = get_chained_transform(x_transforms)\n",
    "    \n",
    "    if episode_transforms == []: episode_transform = None\n",
    "    else: raise Exception(\"episode_transforms not implemented\")\n",
    "    \n",
    "    episode_transform = lambda tup, _prefix=domain_prefix: (_prefix + str(tup[0]), tup[1])\n",
    "\n",
    "\n",
    "    eaf = Episodic_Accessor_Factory(\n",
    "        labels=labels,\n",
    "        domains=domains,\n",
    "        num_examples_per_domain_per_label=num_examples_per_domain_per_label,\n",
    "        iterator_seed=iterator_seed,\n",
    "        dataset_seed=dataset_seed,\n",
    "        n_shot=n_shot,\n",
    "        n_way=n_way,\n",
    "        n_query=n_query,\n",
    "        train_val_test_k_factors=train_val_test_k_factors,\n",
    "        pickle_path=pickle_path,\n",
    "        x_transform_func=x_transform,\n",
    "    )\n",
    "\n",
    "    train, val, test = eaf.get_train(), eaf.get_val(), eaf.get_test()\n",
    "    train = Lazy_Iterable_Wrapper(train, episode_transform)\n",
    "    val = Lazy_Iterable_Wrapper(val, episode_transform)\n",
    "    test = Lazy_Iterable_Wrapper(test, episode_transform)\n",
    "\n",
    "    if source_or_target_dataset==\"source\":\n",
    "        train_original_source.append(train)\n",
    "        val_original_source.append(val)\n",
    "        test_original_source.append(test)\n",
    "\n",
    "        p.domains_source.extend(\n",
    "            [domain_prefix + str(u) for u in domains]\n",
    "        )\n",
    "    elif source_or_target_dataset==\"target\":\n",
    "        train_original_target.append(train)\n",
    "        val_original_target.append(val)\n",
    "        test_original_target.append(test)\n",
    "        p.domains_target.extend(\n",
    "            [domain_prefix + str(u) for u in domains]\n",
    "        )\n",
    "    else:\n",
    "        raise Exception(f\"invalid source_or_target_dataset: {source_or_target_dataset}\")\n",
    "    "
   ]
  },
  {
   "cell_type": "code",
   "execution_count": 13,
   "id": "fe266617",
   "metadata": {
    "execution": {
     "iopub.execute_input": "2022-03-22T12:49:23.481949Z",
     "iopub.status.busy": "2022-03-22T12:49:23.481389Z",
     "iopub.status.idle": "2022-03-22T12:50:08.108216Z",
     "shell.execute_reply": "2022-03-22T12:50:08.107327Z"
    },
    "papermill": {
     "duration": 44.651097,
     "end_time": "2022-03-22T12:50:08.108396",
     "exception": false,
     "start_time": "2022-03-22T12:49:23.457299",
     "status": "completed"
    },
    "tags": []
   },
   "outputs": [],
   "source": [
    "for ds in p.datasets:\n",
    "    add_dataset(**ds)"
   ]
  },
  {
   "cell_type": "code",
   "execution_count": 14,
   "id": "b90d65ac",
   "metadata": {
    "execution": {
     "iopub.execute_input": "2022-03-22T12:50:08.159494Z",
     "iopub.status.busy": "2022-03-22T12:50:08.159113Z",
     "iopub.status.idle": "2022-03-22T12:50:08.184628Z",
     "shell.execute_reply": "2022-03-22T12:50:08.183907Z"
    },
    "papermill": {
     "duration": 0.050421,
     "end_time": "2022-03-22T12:50:08.184788",
     "exception": false,
     "start_time": "2022-03-22T12:50:08.134367",
     "status": "completed"
    },
    "tags": []
   },
   "outputs": [],
   "source": [
    "# from steves_utils.CORES.utils import (\n",
    "#     ALL_NODES,\n",
    "#     ALL_NODES_MINIMUM_1000_EXAMPLES,\n",
    "#     ALL_DAYS\n",
    "# )\n",
    "\n",
    "# add_dataset(\n",
    "#     labels=ALL_NODES,\n",
    "#     domains = ALL_DAYS,\n",
    "#     num_examples_per_domain_per_label=100,\n",
    "#     pickle_path=os.path.join(get_datasets_base_path(), \"cores.stratified_ds.2022A.pkl\"),\n",
    "#     source_or_target_dataset=\"target\",\n",
    "#     x_transform_func=global_x_transform_func,\n",
    "#     domain_modifier=lambda u: f\"cores_{u}\"\n",
    "# )"
   ]
  },
  {
   "cell_type": "code",
   "execution_count": 15,
   "id": "76db484d",
   "metadata": {
    "execution": {
     "iopub.execute_input": "2022-03-22T12:50:08.234886Z",
     "iopub.status.busy": "2022-03-22T12:50:08.234270Z",
     "iopub.status.idle": "2022-03-22T12:50:08.257180Z",
     "shell.execute_reply": "2022-03-22T12:50:08.256373Z"
    },
    "papermill": {
     "duration": 0.04711,
     "end_time": "2022-03-22T12:50:08.257334",
     "exception": false,
     "start_time": "2022-03-22T12:50:08.210224",
     "status": "completed"
    },
    "tags": []
   },
   "outputs": [],
   "source": [
    "# from steves_utils.ORACLE.utils_v2 import (\n",
    "#     ALL_DISTANCES_FEET,\n",
    "#     ALL_RUNS,\n",
    "#     ALL_SERIAL_NUMBERS,\n",
    "# )\n",
    "\n",
    "\n",
    "# add_dataset(\n",
    "#     labels=ALL_SERIAL_NUMBERS,\n",
    "#     domains = list(set(ALL_DISTANCES_FEET) - {2,62}),\n",
    "#     num_examples_per_domain_per_label=100,\n",
    "#     pickle_path=os.path.join(get_datasets_base_path(), \"oracle.Run2_framed_2000Examples_stratified_ds.2022A.pkl\"),\n",
    "#     source_or_target_dataset=\"source\",\n",
    "#     x_transform_func=global_x_transform_func,\n",
    "#     domain_modifier=lambda u: f\"oracle1_{u}\"\n",
    "# )\n"
   ]
  },
  {
   "cell_type": "code",
   "execution_count": 16,
   "id": "97dea9d2",
   "metadata": {
    "execution": {
     "iopub.execute_input": "2022-03-22T12:50:08.309453Z",
     "iopub.status.busy": "2022-03-22T12:50:08.308892Z",
     "iopub.status.idle": "2022-03-22T12:50:08.332391Z",
     "shell.execute_reply": "2022-03-22T12:50:08.331573Z"
    },
    "papermill": {
     "duration": 0.0481,
     "end_time": "2022-03-22T12:50:08.332547",
     "exception": false,
     "start_time": "2022-03-22T12:50:08.284447",
     "status": "completed"
    },
    "tags": []
   },
   "outputs": [],
   "source": [
    "# from steves_utils.ORACLE.utils_v2 import (\n",
    "#     ALL_DISTANCES_FEET,\n",
    "#     ALL_RUNS,\n",
    "#     ALL_SERIAL_NUMBERS,\n",
    "# )\n",
    "\n",
    "\n",
    "# add_dataset(\n",
    "#     labels=ALL_SERIAL_NUMBERS,\n",
    "#     domains = list(set(ALL_DISTANCES_FEET) - {2,62,56}),\n",
    "#     num_examples_per_domain_per_label=100,\n",
    "#     pickle_path=os.path.join(get_datasets_base_path(), \"oracle.Run2_framed_2000Examples_stratified_ds.2022A.pkl\"),\n",
    "#     source_or_target_dataset=\"source\",\n",
    "#     x_transform_func=global_x_transform_func,\n",
    "#     domain_modifier=lambda u: f\"oracle2_{u}\"\n",
    "# )"
   ]
  },
  {
   "cell_type": "code",
   "execution_count": 17,
   "id": "6f289866",
   "metadata": {
    "execution": {
     "iopub.execute_input": "2022-03-22T12:50:08.384714Z",
     "iopub.status.busy": "2022-03-22T12:50:08.384344Z",
     "iopub.status.idle": "2022-03-22T12:50:08.407687Z",
     "shell.execute_reply": "2022-03-22T12:50:08.406873Z"
    },
    "papermill": {
     "duration": 0.04753,
     "end_time": "2022-03-22T12:50:08.407840",
     "exception": false,
     "start_time": "2022-03-22T12:50:08.360310",
     "status": "completed"
    },
    "tags": []
   },
   "outputs": [],
   "source": [
    "# add_dataset(\n",
    "#     labels=list(range(19)),\n",
    "#     domains = [0,1,2],\n",
    "#     num_examples_per_domain_per_label=100,\n",
    "#     pickle_path=os.path.join(get_datasets_base_path(), \"metehan.stratified_ds.2022A.pkl\"),\n",
    "#     source_or_target_dataset=\"target\",\n",
    "#     x_transform_func=global_x_transform_func,\n",
    "#     domain_modifier=lambda u: f\"met_{u}\"\n",
    "# )"
   ]
  },
  {
   "cell_type": "code",
   "execution_count": 18,
   "id": "86a863c3",
   "metadata": {
    "execution": {
     "iopub.execute_input": "2022-03-22T12:50:08.463633Z",
     "iopub.status.busy": "2022-03-22T12:50:08.462849Z",
     "iopub.status.idle": "2022-03-22T12:50:08.484775Z",
     "shell.execute_reply": "2022-03-22T12:50:08.483977Z"
    },
    "papermill": {
     "duration": 0.047031,
     "end_time": "2022-03-22T12:50:08.484927",
     "exception": false,
     "start_time": "2022-03-22T12:50:08.437896",
     "status": "completed"
    },
    "tags": []
   },
   "outputs": [],
   "source": [
    "# # from steves_utils.wisig.utils import (\n",
    "# #     ALL_NODES_MINIMUM_100_EXAMPLES,\n",
    "# #     ALL_NODES_MINIMUM_500_EXAMPLES,\n",
    "# #     ALL_NODES_MINIMUM_1000_EXAMPLES,\n",
    "# #     ALL_DAYS\n",
    "# # )\n",
    "\n",
    "# import steves_utils.wisig.utils as wisig\n",
    "\n",
    "\n",
    "# add_dataset(\n",
    "#     labels=wisig.ALL_NODES_MINIMUM_100_EXAMPLES,\n",
    "#     domains = wisig.ALL_DAYS,\n",
    "#     num_examples_per_domain_per_label=100,\n",
    "#     pickle_path=os.path.join(get_datasets_base_path(), \"wisig.node3-19.stratified_ds.2022A.pkl\"),\n",
    "#     source_or_target_dataset=\"target\",\n",
    "#     x_transform_func=global_x_transform_func,\n",
    "#     domain_modifier=lambda u: f\"wisig_{u}\"\n",
    "# )"
   ]
  },
  {
   "cell_type": "code",
   "execution_count": 19,
   "id": "fd5442bc",
   "metadata": {
    "execution": {
     "iopub.execute_input": "2022-03-22T12:50:08.546346Z",
     "iopub.status.busy": "2022-03-22T12:50:08.545510Z",
     "iopub.status.idle": "2022-03-22T12:50:08.566802Z",
     "shell.execute_reply": "2022-03-22T12:50:08.565986Z"
    },
    "papermill": {
     "duration": 0.052353,
     "end_time": "2022-03-22T12:50:08.566960",
     "exception": false,
     "start_time": "2022-03-22T12:50:08.514607",
     "status": "completed"
    },
    "tags": []
   },
   "outputs": [],
   "source": [
    "###################################\n",
    "# Build the dataset\n",
    "###################################\n",
    "train_original_source = Iterable_Aggregator(train_original_source, p.seed)\n",
    "val_original_source = Iterable_Aggregator(val_original_source, p.seed)\n",
    "test_original_source = Iterable_Aggregator(test_original_source, p.seed)\n",
    "\n",
    "\n",
    "train_original_target = Iterable_Aggregator(train_original_target, p.seed)\n",
    "val_original_target = Iterable_Aggregator(val_original_target, p.seed)\n",
    "test_original_target = Iterable_Aggregator(test_original_target, p.seed)\n",
    "\n",
    "# For CNN We only use X and Y. And we only train on the source.\n",
    "# Properly form the data using a transform lambda and Lazy_Iterable_Wrapper. Finally wrap them in a dataloader\n",
    "\n",
    "transform_lambda = lambda ex: ex[1] # Original is (<domain>, <episode>) so we strip down to episode only\n",
    "\n",
    "train_processed_source = Lazy_Iterable_Wrapper(train_original_source, transform_lambda)\n",
    "val_processed_source   = Lazy_Iterable_Wrapper(val_original_source, transform_lambda)\n",
    "test_processed_source  = Lazy_Iterable_Wrapper(test_original_source, transform_lambda)\n",
    "\n",
    "train_processed_target = Lazy_Iterable_Wrapper(train_original_target, transform_lambda)\n",
    "val_processed_target   = Lazy_Iterable_Wrapper(val_original_target, transform_lambda)\n",
    "test_processed_target  = Lazy_Iterable_Wrapper(test_original_target, transform_lambda)\n",
    "\n",
    "datasets = EasyDict({\n",
    "    \"source\": {\n",
    "        \"original\": {\"train\":train_original_source, \"val\":val_original_source, \"test\":test_original_source},\n",
    "        \"processed\": {\"train\":train_processed_source, \"val\":val_processed_source, \"test\":test_processed_source}\n",
    "    },\n",
    "    \"target\": {\n",
    "        \"original\": {\"train\":train_original_target, \"val\":val_original_target, \"test\":test_original_target},\n",
    "        \"processed\": {\"train\":train_processed_target, \"val\":val_processed_target, \"test\":test_processed_target}\n",
    "    },\n",
    "})"
   ]
  },
  {
   "cell_type": "code",
   "execution_count": 20,
   "id": "5b3c01fc",
   "metadata": {
    "execution": {
     "iopub.execute_input": "2022-03-22T12:50:08.621867Z",
     "iopub.status.busy": "2022-03-22T12:50:08.621303Z",
     "iopub.status.idle": "2022-03-22T12:50:23.032593Z",
     "shell.execute_reply": "2022-03-22T12:50:23.032054Z"
    },
    "papermill": {
     "duration": 14.438943,
     "end_time": "2022-03-22T12:50:23.032749",
     "exception": false,
     "start_time": "2022-03-22T12:50:08.593806",
     "status": "completed"
    },
    "tags": []
   },
   "outputs": [
    {
     "name": "stdout",
     "output_type": "stream",
     "text": [
      "{'ORACLE.run1_26', 'ORACLE.run1_38', 'ORACLE.run1_50', 'ORACLE.run1_8', 'ORACLE.run1_14', 'ORACLE.run1_44', 'ORACLE.run1_32', 'ORACLE.run1_20'}\n"
     ]
    },
    {
     "name": "stdout",
     "output_type": "stream",
     "text": [
      "{'CORES_2', 'CORES_4', 'CORES_1', 'CORES_5', 'CORES_3'}\n"
     ]
    },
    {
     "name": "stdout",
     "output_type": "stream",
     "text": [
      "tensor([[[ 0.2397, -0.3723, -0.7753,  ...,  0.1836, -0.0816,  0.3621],\n",
      "         [ 0.0102,  0.9844, -0.4029,  ...,  0.0153,  0.2346,  0.8824]],\n",
      "\n",
      "        [[-0.3773, -0.6392,  0.5554,  ...,  0.4611, -0.3091, -0.0314],\n",
      "         [ 0.1100, -0.1153,  1.8549,  ...,  0.8226,  0.0524, -0.6235]],\n",
      "\n",
      "        [[ 0.2983, -0.3245, -0.6333,  ..., -1.4132,  0.1518,  1.4603],\n",
      "         [-1.2614, -0.1361,  0.5548,  ...,  0.4083,  0.6647,  0.5653]],\n",
      "\n",
      "        ...,\n",
      "\n",
      "        [[ 0.7079,  1.1739,  0.9923,  ...,  0.6051, -0.5688, -1.2767],\n",
      "         [ 0.1634,  0.8169, -0.9258,  ...,  0.2904,  0.5022, -0.3752]],\n",
      "\n",
      "        [[ 0.3350, -0.1787, -1.2061,  ...,  0.6086,  0.9213, -0.1508],\n",
      "         [-0.7036,  0.5305, -0.1452,  ..., -0.6366,  0.0614,  1.4853]],\n",
      "\n",
      "        [[-1.3987, -0.4322,  0.3842,  ..., -1.1466,  0.2281, -0.1441],\n",
      "         [ 0.1441, -0.9545, -1.0145,  ..., -0.0960,  0.5343,  0.9905]]])\n"
     ]
    }
   ],
   "source": [
    "from steves_utils.transforms import get_average_magnitude, get_average_power\n",
    "\n",
    "print(set([u for u,_ in val_original_source]))\n",
    "print(set([u for u,_ in val_original_target]))\n",
    "\n",
    "s_x, s_y, q_x, q_y, _ = next(iter(train_processed_source))\n",
    "print(s_x)\n",
    "\n",
    "# for ds in [\n",
    "#     train_processed_source,\n",
    "#     val_processed_source,\n",
    "#     test_processed_source,\n",
    "#     train_processed_target,\n",
    "#     val_processed_target,\n",
    "#     test_processed_target\n",
    "# ]:\n",
    "#     for s_x, s_y, q_x, q_y, _ in ds:\n",
    "#         for X in (s_x, q_x):\n",
    "#             for x in X:\n",
    "#                 assert np.isclose(get_average_magnitude(x.numpy()), 1.0)\n",
    "#                 assert np.isclose(get_average_power(x.numpy()), 1.0)\n",
    "                "
   ]
  },
  {
   "cell_type": "code",
   "execution_count": 21,
   "id": "bbdacba1",
   "metadata": {
    "execution": {
     "iopub.execute_input": "2022-03-22T12:50:23.085768Z",
     "iopub.status.busy": "2022-03-22T12:50:23.084948Z",
     "iopub.status.idle": "2022-03-22T12:50:23.285003Z",
     "shell.execute_reply": "2022-03-22T12:50:23.285321Z"
    },
    "papermill": {
     "duration": 0.226315,
     "end_time": "2022-03-22T12:50:23.285482",
     "exception": false,
     "start_time": "2022-03-22T12:50:23.059167",
     "status": "completed"
    },
    "tags": []
   },
   "outputs": [
    {
     "name": "stdout",
     "output_type": "stream",
     "text": [
      "(2, 256)\n"
     ]
    }
   ],
   "source": [
    "###################################\n",
    "# Build the model\n",
    "###################################\n",
    "# easfsl only wants a tuple for the shape\n",
    "model = Steves_Prototypical_Network(x_net, device=p.device, x_shape=tuple(p.x_shape))\n",
    "optimizer = Adam(params=model.parameters(), lr=p.lr)"
   ]
  },
  {
   "cell_type": "code",
   "execution_count": 22,
   "id": "22b39ac5",
   "metadata": {
    "execution": {
     "iopub.execute_input": "2022-03-22T12:50:23.334690Z",
     "iopub.status.busy": "2022-03-22T12:50:23.334137Z",
     "iopub.status.idle": "2022-03-22T13:09:15.151485Z",
     "shell.execute_reply": "2022-03-22T13:09:15.151133Z"
    },
    "papermill": {
     "duration": 1131.843015,
     "end_time": "2022-03-22T13:09:15.151600",
     "exception": false,
     "start_time": "2022-03-22T12:50:23.308585",
     "status": "completed"
    },
    "tags": []
   },
   "outputs": [
    {
     "name": "stdout",
     "output_type": "stream",
     "text": [
      "epoch: 1, [batch: 1 / 6720], examples_per_second: 32.9788, train_label_loss: 2.7896, \n"
     ]
    },
    {
     "name": "stdout",
     "output_type": "stream",
     "text": [
      "epoch: 1, [batch: 672 / 6720], examples_per_second: 3756.8680, train_label_loss: 2.7739, \n"
     ]
    },
    {
     "name": "stdout",
     "output_type": "stream",
     "text": [
      "epoch: 1, [batch: 1344 / 6720], examples_per_second: 3760.9208, train_label_loss: 1.4908, \n"
     ]
    },
    {
     "name": "stdout",
     "output_type": "stream",
     "text": [
      "epoch: 1, [batch: 2016 / 6720], examples_per_second: 3819.4129, train_label_loss: 1.4854, \n"
     ]
    },
    {
     "name": "stdout",
     "output_type": "stream",
     "text": [
      "epoch: 1, [batch: 2688 / 6720], examples_per_second: 3807.9278, train_label_loss: 1.5489, \n"
     ]
    },
    {
     "name": "stdout",
     "output_type": "stream",
     "text": [
      "epoch: 1, [batch: 3360 / 6720], examples_per_second: 3795.5926, train_label_loss: 1.3661, \n"
     ]
    },
    {
     "name": "stdout",
     "output_type": "stream",
     "text": [
      "epoch: 1, [batch: 4032 / 6720], examples_per_second: 3935.9476, train_label_loss: 1.1272, \n"
     ]
    },
    {
     "name": "stdout",
     "output_type": "stream",
     "text": [
      "epoch: 1, [batch: 4704 / 6720], examples_per_second: 3886.1215, train_label_loss: 1.3337, \n"
     ]
    },
    {
     "name": "stdout",
     "output_type": "stream",
     "text": [
      "epoch: 1, [batch: 5376 / 6720], examples_per_second: 3939.6806, train_label_loss: 0.8863, \n"
     ]
    },
    {
     "name": "stdout",
     "output_type": "stream",
     "text": [
      "epoch: 1, [batch: 6048 / 6720], examples_per_second: 3938.5161, train_label_loss: 0.8676, \n"
     ]
    },
    {
     "name": "stdout",
     "output_type": "stream",
     "text": [
      "=============================================================\n",
      "epoch: 1, source_val_acc_label: 0.5385, target_val_acc_label: 0.9602, source_val_label_loss: 1.2080, target_val_label_loss: 0.1642, \n",
      "=============================================================\n"
     ]
    },
    {
     "name": "stdout",
     "output_type": "stream",
     "text": [
      "New best\n"
     ]
    },
    {
     "name": "stdout",
     "output_type": "stream",
     "text": [
      "epoch: 2, [batch: 1 / 6720], examples_per_second: 4.0395, train_label_loss: 0.9417, \n"
     ]
    },
    {
     "name": "stdout",
     "output_type": "stream",
     "text": [
      "epoch: 2, [batch: 672 / 6720], examples_per_second: 3827.3467, train_label_loss: 1.0450, \n"
     ]
    },
    {
     "name": "stdout",
     "output_type": "stream",
     "text": [
      "epoch: 2, [batch: 1344 / 6720], examples_per_second: 3910.2813, train_label_loss: 1.4236, \n"
     ]
    },
    {
     "name": "stdout",
     "output_type": "stream",
     "text": [
      "epoch: 2, [batch: 2016 / 6720], examples_per_second: 3831.8397, train_label_loss: 0.6541, \n"
     ]
    },
    {
     "name": "stdout",
     "output_type": "stream",
     "text": [
      "epoch: 2, [batch: 2688 / 6720], examples_per_second: 3835.3332, train_label_loss: 1.0006, \n"
     ]
    },
    {
     "name": "stdout",
     "output_type": "stream",
     "text": [
      "epoch: 2, [batch: 3360 / 6720], examples_per_second: 3905.1728, train_label_loss: 0.8523, \n"
     ]
    },
    {
     "name": "stdout",
     "output_type": "stream",
     "text": [
      "epoch: 2, [batch: 4032 / 6720], examples_per_second: 3922.8614, train_label_loss: 0.6410, \n"
     ]
    },
    {
     "name": "stdout",
     "output_type": "stream",
     "text": [
      "epoch: 2, [batch: 4704 / 6720], examples_per_second: 4023.0790, train_label_loss: 0.6085, \n"
     ]
    },
    {
     "name": "stdout",
     "output_type": "stream",
     "text": [
      "epoch: 2, [batch: 5376 / 6720], examples_per_second: 3940.1284, train_label_loss: 1.4054, \n"
     ]
    },
    {
     "name": "stdout",
     "output_type": "stream",
     "text": [
      "epoch: 2, [batch: 6048 / 6720], examples_per_second: 4040.8523, train_label_loss: 0.7864, \n"
     ]
    },
    {
     "name": "stdout",
     "output_type": "stream",
     "text": [
      "=============================================================\n",
      "epoch: 2, source_val_acc_label: 0.5875, target_val_acc_label: 0.9565, source_val_label_loss: 1.0770, target_val_label_loss: 0.2024, \n",
      "=============================================================\n"
     ]
    },
    {
     "name": "stdout",
     "output_type": "stream",
     "text": [
      "epoch: 3, [batch: 1 / 6720], examples_per_second: 3.9491, train_label_loss: 1.4242, \n"
     ]
    },
    {
     "name": "stdout",
     "output_type": "stream",
     "text": [
      "epoch: 3, [batch: 672 / 6720], examples_per_second: 3900.7836, train_label_loss: 0.9959, \n"
     ]
    },
    {
     "name": "stdout",
     "output_type": "stream",
     "text": [
      "epoch: 3, [batch: 1344 / 6720], examples_per_second: 3898.4585, train_label_loss: 0.7192, \n"
     ]
    },
    {
     "name": "stdout",
     "output_type": "stream",
     "text": [
      "epoch: 3, [batch: 2016 / 6720], examples_per_second: 3992.6681, train_label_loss: 0.7908, \n"
     ]
    },
    {
     "name": "stdout",
     "output_type": "stream",
     "text": [
      "epoch: 3, [batch: 2688 / 6720], examples_per_second: 3949.7569, train_label_loss: 1.2422, \n"
     ]
    },
    {
     "name": "stdout",
     "output_type": "stream",
     "text": [
      "epoch: 3, [batch: 3360 / 6720], examples_per_second: 4016.8172, train_label_loss: 0.7878, \n"
     ]
    },
    {
     "name": "stdout",
     "output_type": "stream",
     "text": [
      "epoch: 3, [batch: 4032 / 6720], examples_per_second: 3981.1890, train_label_loss: 0.5284, \n"
     ]
    },
    {
     "name": "stdout",
     "output_type": "stream",
     "text": [
      "epoch: 3, [batch: 4704 / 6720], examples_per_second: 3989.7745, train_label_loss: 0.9635, \n"
     ]
    },
    {
     "name": "stdout",
     "output_type": "stream",
     "text": [
      "epoch: 3, [batch: 5376 / 6720], examples_per_second: 3859.0937, train_label_loss: 0.8921, \n"
     ]
    },
    {
     "name": "stdout",
     "output_type": "stream",
     "text": [
      "epoch: 3, [batch: 6048 / 6720], examples_per_second: 3864.4165, train_label_loss: 0.5820, \n"
     ]
    },
    {
     "name": "stdout",
     "output_type": "stream",
     "text": [
      "=============================================================\n",
      "epoch: 3, source_val_acc_label: 0.6066, target_val_acc_label: 0.9647, source_val_label_loss: 1.0484, target_val_label_loss: 0.2245, \n",
      "=============================================================\n"
     ]
    },
    {
     "name": "stdout",
     "output_type": "stream",
     "text": [
      "New best\n"
     ]
    },
    {
     "name": "stdout",
     "output_type": "stream",
     "text": [
      "epoch: 4, [batch: 1 / 6720], examples_per_second: 4.0036, train_label_loss: 0.4613, \n"
     ]
    },
    {
     "name": "stdout",
     "output_type": "stream",
     "text": [
      "epoch: 4, [batch: 672 / 6720], examples_per_second: 3858.7782, train_label_loss: 0.6308, \n"
     ]
    },
    {
     "name": "stdout",
     "output_type": "stream",
     "text": [
      "epoch: 4, [batch: 1344 / 6720], examples_per_second: 3914.7319, train_label_loss: 0.4520, \n"
     ]
    },
    {
     "name": "stdout",
     "output_type": "stream",
     "text": [
      "epoch: 4, [batch: 2016 / 6720], examples_per_second: 4051.1015, train_label_loss: 0.5634, \n"
     ]
    },
    {
     "name": "stdout",
     "output_type": "stream",
     "text": [
      "epoch: 4, [batch: 2688 / 6720], examples_per_second: 4192.1036, train_label_loss: 0.6446, \n"
     ]
    },
    {
     "name": "stdout",
     "output_type": "stream",
     "text": [
      "epoch: 4, [batch: 3360 / 6720], examples_per_second: 4182.5104, train_label_loss: 0.7153, \n"
     ]
    },
    {
     "name": "stdout",
     "output_type": "stream",
     "text": [
      "epoch: 4, [batch: 4032 / 6720], examples_per_second: 4257.5793, train_label_loss: 0.9938, \n"
     ]
    },
    {
     "name": "stdout",
     "output_type": "stream",
     "text": [
      "epoch: 4, [batch: 4704 / 6720], examples_per_second: 4315.3447, train_label_loss: 0.5285, \n"
     ]
    },
    {
     "name": "stdout",
     "output_type": "stream",
     "text": [
      "epoch: 4, [batch: 5376 / 6720], examples_per_second: 4361.3082, train_label_loss: 0.7523, \n"
     ]
    },
    {
     "name": "stdout",
     "output_type": "stream",
     "text": [
      "epoch: 4, [batch: 6048 / 6720], examples_per_second: 5098.0871, train_label_loss: 0.5489, \n"
     ]
    },
    {
     "name": "stdout",
     "output_type": "stream",
     "text": [
      "=============================================================\n",
      "epoch: 4, source_val_acc_label: 0.6191, target_val_acc_label: 0.9610, source_val_label_loss: 1.0675, target_val_label_loss: 0.2699, \n",
      "=============================================================\n"
     ]
    },
    {
     "name": "stdout",
     "output_type": "stream",
     "text": [
      "epoch: 5, [batch: 1 / 6720], examples_per_second: 4.7257, train_label_loss: 0.6575, \n"
     ]
    },
    {
     "name": "stdout",
     "output_type": "stream",
     "text": [
      "epoch: 5, [batch: 672 / 6720], examples_per_second: 3870.0864, train_label_loss: 0.5144, \n"
     ]
    },
    {
     "name": "stdout",
     "output_type": "stream",
     "text": [
      "epoch: 5, [batch: 1344 / 6720], examples_per_second: 3945.4526, train_label_loss: 0.6928, \n"
     ]
    },
    {
     "name": "stdout",
     "output_type": "stream",
     "text": [
      "epoch: 5, [batch: 2016 / 6720], examples_per_second: 3933.2994, train_label_loss: 0.8488, \n"
     ]
    },
    {
     "name": "stdout",
     "output_type": "stream",
     "text": [
      "epoch: 5, [batch: 2688 / 6720], examples_per_second: 3831.9212, train_label_loss: 0.5300, \n"
     ]
    },
    {
     "name": "stdout",
     "output_type": "stream",
     "text": [
      "epoch: 5, [batch: 3360 / 6720], examples_per_second: 3909.5659, train_label_loss: 1.2201, \n"
     ]
    },
    {
     "name": "stdout",
     "output_type": "stream",
     "text": [
      "epoch: 5, [batch: 4032 / 6720], examples_per_second: 3948.9364, train_label_loss: 0.3668, \n"
     ]
    },
    {
     "name": "stdout",
     "output_type": "stream",
     "text": [
      "epoch: 5, [batch: 4704 / 6720], examples_per_second: 3942.4966, train_label_loss: 0.4110, \n"
     ]
    },
    {
     "name": "stdout",
     "output_type": "stream",
     "text": [
      "epoch: 5, [batch: 5376 / 6720], examples_per_second: 3912.0804, train_label_loss: 0.7445, \n"
     ]
    },
    {
     "name": "stdout",
     "output_type": "stream",
     "text": [
      "epoch: 5, [batch: 6048 / 6720], examples_per_second: 3877.3552, train_label_loss: 0.4309, \n"
     ]
    },
    {
     "name": "stdout",
     "output_type": "stream",
     "text": [
      "=============================================================\n",
      "epoch: 5, source_val_acc_label: 0.6079, target_val_acc_label: 0.9606, source_val_label_loss: 1.1132, target_val_label_loss: 0.2904, \n",
      "=============================================================\n"
     ]
    },
    {
     "name": "stdout",
     "output_type": "stream",
     "text": [
      "epoch: 6, [batch: 1 / 6720], examples_per_second: 3.9147, train_label_loss: 0.4509, \n"
     ]
    },
    {
     "name": "stdout",
     "output_type": "stream",
     "text": [
      "epoch: 6, [batch: 672 / 6720], examples_per_second: 3978.6913, train_label_loss: 0.4290, \n"
     ]
    },
    {
     "name": "stdout",
     "output_type": "stream",
     "text": [
      "epoch: 6, [batch: 1344 / 6720], examples_per_second: 3942.6404, train_label_loss: 0.6932, \n"
     ]
    },
    {
     "name": "stdout",
     "output_type": "stream",
     "text": [
      "epoch: 6, [batch: 2016 / 6720], examples_per_second: 3955.3982, train_label_loss: 0.7753, \n"
     ]
    },
    {
     "name": "stdout",
     "output_type": "stream",
     "text": [
      "epoch: 6, [batch: 2688 / 6720], examples_per_second: 3897.0721, train_label_loss: 0.5906, \n"
     ]
    },
    {
     "name": "stdout",
     "output_type": "stream",
     "text": [
      "epoch: 6, [batch: 3360 / 6720], examples_per_second: 4002.4608, train_label_loss: 0.6906, \n"
     ]
    },
    {
     "name": "stdout",
     "output_type": "stream",
     "text": [
      "epoch: 6, [batch: 4032 / 6720], examples_per_second: 3901.2539, train_label_loss: 0.4634, \n"
     ]
    },
    {
     "name": "stdout",
     "output_type": "stream",
     "text": [
      "epoch: 6, [batch: 4704 / 6720], examples_per_second: 4044.9643, train_label_loss: 0.8140, \n"
     ]
    },
    {
     "name": "stdout",
     "output_type": "stream",
     "text": [
      "epoch: 6, [batch: 5376 / 6720], examples_per_second: 3977.8970, train_label_loss: 0.5389, \n"
     ]
    },
    {
     "name": "stdout",
     "output_type": "stream",
     "text": [
      "epoch: 6, [batch: 6048 / 6720], examples_per_second: 3884.4411, train_label_loss: 0.4425, \n"
     ]
    },
    {
     "name": "stdout",
     "output_type": "stream",
     "text": [
      "=============================================================\n",
      "epoch: 6, source_val_acc_label: 0.6083, target_val_acc_label: 0.9580, source_val_label_loss: 1.1771, target_val_label_loss: 0.3348, \n",
      "=============================================================\n"
     ]
    },
    {
     "name": "stdout",
     "output_type": "stream",
     "text": [
      "epoch: 7, [batch: 1 / 6720], examples_per_second: 4.0268, train_label_loss: 0.4754, \n"
     ]
    },
    {
     "name": "stdout",
     "output_type": "stream",
     "text": [
      "epoch: 7, [batch: 672 / 6720], examples_per_second: 3893.8731, train_label_loss: 0.4027, \n"
     ]
    },
    {
     "name": "stdout",
     "output_type": "stream",
     "text": [
      "epoch: 7, [batch: 1344 / 6720], examples_per_second: 3890.6869, train_label_loss: 0.3512, \n"
     ]
    },
    {
     "name": "stdout",
     "output_type": "stream",
     "text": [
      "epoch: 7, [batch: 2016 / 6720], examples_per_second: 3818.2513, train_label_loss: 0.1745, \n"
     ]
    },
    {
     "name": "stdout",
     "output_type": "stream",
     "text": [
      "epoch: 7, [batch: 2688 / 6720], examples_per_second: 3773.6200, train_label_loss: 0.3608, \n"
     ]
    },
    {
     "name": "stdout",
     "output_type": "stream",
     "text": [
      "epoch: 7, [batch: 3360 / 6720], examples_per_second: 3813.9251, train_label_loss: 0.4497, \n"
     ]
    },
    {
     "name": "stdout",
     "output_type": "stream",
     "text": [
      "epoch: 7, [batch: 4032 / 6720], examples_per_second: 3885.5819, train_label_loss: 0.3418, \n"
     ]
    },
    {
     "name": "stdout",
     "output_type": "stream",
     "text": [
      "epoch: 7, [batch: 4704 / 6720], examples_per_second: 3891.9972, train_label_loss: 0.3623, \n"
     ]
    },
    {
     "name": "stdout",
     "output_type": "stream",
     "text": [
      "epoch: 7, [batch: 5376 / 6720], examples_per_second: 4000.2428, train_label_loss: 0.7387, \n"
     ]
    },
    {
     "name": "stdout",
     "output_type": "stream",
     "text": [
      "epoch: 7, [batch: 6048 / 6720], examples_per_second: 4016.3724, train_label_loss: 0.4596, \n"
     ]
    },
    {
     "name": "stdout",
     "output_type": "stream",
     "text": [
      "=============================================================\n",
      "epoch: 7, source_val_acc_label: 0.6012, target_val_acc_label: 0.9601, source_val_label_loss: 1.2362, target_val_label_loss: 0.3572, \n",
      "=============================================================\n"
     ]
    },
    {
     "name": "stdout",
     "output_type": "stream",
     "text": [
      "Patience (3) exhausted\n"
     ]
    }
   ],
   "source": [
    "###################################\n",
    "# train\n",
    "###################################\n",
    "jig = PTN_Train_Eval_Test_Jig(model, p.BEST_MODEL_PATH, p.device)\n",
    "\n",
    "jig.train(\n",
    "    train_iterable=datasets.source.processed.train,\n",
    "    source_val_iterable=datasets.source.processed.val,\n",
    "    target_val_iterable=datasets.target.processed.val,\n",
    "    num_epochs=p.n_epoch,\n",
    "    num_logs_per_epoch=p.NUM_LOGS_PER_EPOCH,\n",
    "    patience=p.patience,\n",
    "    optimizer=optimizer,\n",
    "    criteria_for_best=p.criteria_for_best,\n",
    ")"
   ]
  },
  {
   "cell_type": "code",
   "execution_count": 23,
   "id": "31e8fabf",
   "metadata": {
    "execution": {
     "iopub.execute_input": "2022-03-22T13:09:15.241361Z",
     "iopub.status.busy": "2022-03-22T13:09:15.240995Z",
     "iopub.status.idle": "2022-03-22T13:09:15.274681Z",
     "shell.execute_reply": "2022-03-22T13:09:15.273860Z"
    },
    "papermill": {
     "duration": 0.080813,
     "end_time": "2022-03-22T13:09:15.274851",
     "exception": false,
     "start_time": "2022-03-22T13:09:15.194038",
     "status": "completed"
    },
    "tags": []
   },
   "outputs": [],
   "source": [
    "total_experiment_time_secs = time.time() - start_time_secs"
   ]
  },
  {
   "cell_type": "code",
   "execution_count": 24,
   "id": "87b9595b",
   "metadata": {
    "execution": {
     "iopub.execute_input": "2022-03-22T13:09:15.392032Z",
     "iopub.status.busy": "2022-03-22T13:09:15.391131Z",
     "iopub.status.idle": "2022-03-22T13:12:02.208386Z",
     "shell.execute_reply": "2022-03-22T13:12:02.207991Z"
    },
    "papermill": {
     "duration": 166.881722,
     "end_time": "2022-03-22T13:12:02.208487",
     "exception": false,
     "start_time": "2022-03-22T13:09:15.326765",
     "status": "completed"
    },
    "tags": []
   },
   "outputs": [],
   "source": [
    "###################################\n",
    "# Evaluate the model\n",
    "###################################\n",
    "source_test_label_accuracy, source_test_label_loss = jig.test(datasets.source.processed.test)\n",
    "target_test_label_accuracy, target_test_label_loss = jig.test(datasets.target.processed.test)\n",
    "\n",
    "source_val_label_accuracy, source_val_label_loss = jig.test(datasets.source.processed.val)\n",
    "target_val_label_accuracy, target_val_label_loss = jig.test(datasets.target.processed.val)\n",
    "\n",
    "history = jig.get_history()\n",
    "\n",
    "total_epochs_trained = len(history[\"epoch_indices\"])\n",
    "\n",
    "val_dl = Iterable_Aggregator((datasets.source.original.val,datasets.target.original.val))\n",
    "\n",
    "confusion = ptn_confusion_by_domain_over_dataloader(model, p.device, val_dl)\n",
    "per_domain_accuracy = per_domain_accuracy_from_confusion(confusion)\n",
    "\n",
    "# Add a key to per_domain_accuracy for if it was a source domain\n",
    "for domain, accuracy in per_domain_accuracy.items():\n",
    "    per_domain_accuracy[domain] = {\n",
    "        \"accuracy\": accuracy,\n",
    "        \"source?\": domain in p.domains_source\n",
    "    }\n",
    "\n",
    "# Do an independent accuracy assesment JUST TO BE SURE!\n",
    "# _source_test_label_accuracy = independent_accuracy_assesment(model, datasets.source.processed.test, p.device)\n",
    "# _target_test_label_accuracy = independent_accuracy_assesment(model, datasets.target.processed.test, p.device)\n",
    "# _source_val_label_accuracy = independent_accuracy_assesment(model, datasets.source.processed.val, p.device)\n",
    "# _target_val_label_accuracy = independent_accuracy_assesment(model, datasets.target.processed.val, p.device)\n",
    "\n",
    "# assert(_source_test_label_accuracy == source_test_label_accuracy)\n",
    "# assert(_target_test_label_accuracy == target_test_label_accuracy)\n",
    "# assert(_source_val_label_accuracy == source_val_label_accuracy)\n",
    "# assert(_target_val_label_accuracy == target_val_label_accuracy)\n",
    "\n",
    "experiment = {\n",
    "    \"experiment_name\": p.experiment_name,\n",
    "    \"parameters\": dict(p),\n",
    "    \"results\": {\n",
    "        \"source_test_label_accuracy\": source_test_label_accuracy,\n",
    "        \"source_test_label_loss\": source_test_label_loss,\n",
    "        \"target_test_label_accuracy\": target_test_label_accuracy,\n",
    "        \"target_test_label_loss\": target_test_label_loss,\n",
    "        \"source_val_label_accuracy\": source_val_label_accuracy,\n",
    "        \"source_val_label_loss\": source_val_label_loss,\n",
    "        \"target_val_label_accuracy\": target_val_label_accuracy,\n",
    "        \"target_val_label_loss\": target_val_label_loss,\n",
    "        \"total_epochs_trained\": total_epochs_trained,\n",
    "        \"total_experiment_time_secs\": total_experiment_time_secs,\n",
    "        \"confusion\": confusion,\n",
    "        \"per_domain_accuracy\": per_domain_accuracy,\n",
    "    },\n",
    "    \"history\": history,\n",
    "    \"dataset_metrics\": get_dataset_metrics(datasets, \"ptn\"),\n",
    "}"
   ]
  },
  {
   "cell_type": "code",
   "execution_count": 25,
   "id": "54a21829",
   "metadata": {
    "execution": {
     "iopub.execute_input": "2022-03-22T13:12:02.309072Z",
     "iopub.status.busy": "2022-03-22T13:12:02.308536Z",
     "iopub.status.idle": "2022-03-22T13:12:02.531290Z",
     "shell.execute_reply": "2022-03-22T13:12:02.530458Z"
    },
    "papermill": {
     "duration": 0.272062,
     "end_time": "2022-03-22T13:12:02.531449",
     "exception": false,
     "start_time": "2022-03-22T13:12:02.259387",
     "status": "completed"
    },
    "tags": []
   },
   "outputs": [
    {
     "data": {
      "image/png": "[encoded data removed]",
      "text/plain": [
       "<Figure size 1080x504 with 1 Axes>"
      ]
     },
     "metadata": {
      "needs_background": "light"
     },
     "output_type": "display_data"
    }
   ],
   "source": [
    "ax = get_loss_curve(experiment)\n",
    "plt.show()"
   ]
  },
  {
   "cell_type": "code",
   "execution_count": 26,
   "id": "fd8a0f60",
   "metadata": {
    "execution": {
     "iopub.execute_input": "2022-03-22T13:12:02.632850Z",
     "iopub.status.busy": "2022-03-22T13:12:02.632335Z",
     "iopub.status.idle": "2022-03-22T13:12:02.966997Z",
     "shell.execute_reply": "2022-03-22T13:12:02.966601Z"
    },
    "papermill": {
     "duration": 0.382991,
     "end_time": "2022-03-22T13:12:02.967081",
     "exception": false,
     "start_time": "2022-03-22T13:12:02.584090",
     "status": "completed"
    },
    "tags": []
   },
   "outputs": [
    {
     "data": {
      "text/plain": [
       "<AxesSubplot:title={'center':'Results'}>"
      ]
     },
     "execution_count": 26,
     "metadata": {},
     "output_type": "execute_result"
    },
    {
     "data": {
      "image/png": "[encoded data removed]",
      "text/plain": [
       "<Figure size 1080x504 with 1 Axes>"
      ]
     },
     "metadata": {
      "needs_background": "light"
     },
     "output_type": "display_data"
    }
   ],
   "source": [
    "get_results_table(experiment)"
   ]
  },
  {
   "cell_type": "code",
   "execution_count": 27,
   "id": "cf8dc689",
   "metadata": {
    "execution": {
     "iopub.execute_input": "2022-03-22T13:12:03.066367Z",
     "iopub.status.busy": "2022-03-22T13:12:03.065994Z",
     "iopub.status.idle": "2022-03-22T13:12:03.324194Z",
     "shell.execute_reply": "2022-03-22T13:12:03.323812Z"
    },
    "papermill": {
     "duration": 0.309032,
     "end_time": "2022-03-22T13:12:03.324269",
     "exception": false,
     "start_time": "2022-03-22T13:12:03.015237",
     "status": "completed"
    },
    "tags": []
   },
   "outputs": [
    {
     "data": {
      "text/plain": [
       "<AxesSubplot:title={'center':'Per Domain Validation Accuracy'}, xlabel='domain'>"
      ]
     },
     "execution_count": 27,
     "metadata": {},
     "output_type": "execute_result"
    },
    {
     "data": {
      "image/png": "[encoded data removed]",
      "text/plain": [
       "<Figure size 1080x504 with 1 Axes>"
      ]
     },
     "metadata": {
      "needs_background": "light"
     },
     "output_type": "display_data"
    }
   ],
   "source": [
    "get_domain_accuracies(experiment)"
   ]
  },
  {
   "cell_type": "code",
   "execution_count": 28,
   "id": "a74ae082",
   "metadata": {
    "execution": {
     "iopub.execute_input": "2022-03-22T13:12:03.425189Z",
     "iopub.status.busy": "2022-03-22T13:12:03.424811Z",
     "iopub.status.idle": "2022-03-22T13:12:03.451547Z",
     "shell.execute_reply": "2022-03-22T13:12:03.451173Z"
    },
    "papermill": {
     "duration": 0.079184,
     "end_time": "2022-03-22T13:12:03.451619",
     "exception": false,
     "start_time": "2022-03-22T13:12:03.372435",
     "status": "completed"
    },
    "tags": []
   },
   "outputs": [
    {
     "name": "stdout",
     "output_type": "stream",
     "text": [
      "Source Test Label Accuracy: 0.6122395833333333 Target Test Label Accuracy: 0.9622410414333706\n",
      "Source Val Label Accuracy: 0.606640625 Target Val Label Accuracy: 0.9647096681922197\n"
     ]
    }
   ],
   "source": [
    "print(\"Source Test Label Accuracy:\", experiment[\"results\"][\"source_test_label_accuracy\"], \"Target Test Label Accuracy:\", experiment[\"results\"][\"target_test_label_accuracy\"])\n",
    "print(\"Source Val Label Accuracy:\", experiment[\"results\"][\"source_val_label_accuracy\"], \"Target Val Label Accuracy:\", experiment[\"results\"][\"target_val_label_accuracy\"])"
   ]
  },
  {
   "cell_type": "code",
   "execution_count": 29,
   "id": "dacca602",
   "metadata": {
    "execution": {
     "iopub.execute_input": "2022-03-22T13:12:03.552606Z",
     "iopub.status.busy": "2022-03-22T13:12:03.552241Z",
     "iopub.status.idle": "2022-03-22T13:12:03.576141Z",
     "shell.execute_reply": "2022-03-22T13:12:03.576828Z"
    },
    "papermill": {
     "duration": 0.076794,
     "end_time": "2022-03-22T13:12:03.577015",
     "exception": false,
     "start_time": "2022-03-22T13:12:03.500221",
     "status": "completed"
    },
    "tags": [
     "experiment_json"
    ]
   },
   "outputs": [
    {
     "data": {
      "text/plain": [
       "'{\"experiment_name\": \"tl_1v2:cores-oracle.run1.limited\", \"parameters\": {\"experiment_name\": \"tl_1v2:cores-oracle.run1.limited\", \"device\": \"cuda\", \"lr\": 0.0001, \"n_shot\": 3, \"n_query\": 2, \"train_k_factor\": 3, \"val_k_factor\": 2, \"test_k_factor\": 2, \"torch_default_dtype\": \"torch.float32\", \"n_epoch\": 50, \"patience\": 3, \"criteria_for_best\": \"target_accuracy\", \"x_net\": [{\"class\": \"nnReshape\", \"kargs\": {\"shape\": [-1, 1, 2, 256]}}, {\"class\": \"Conv2d\", \"kargs\": {\"in_channels\": 1, \"out_channels\": 256, \"kernel_size\": [1, 7], \"bias\": false, \"padding\": [0, 3]}}, {\"class\": \"ReLU\", \"kargs\": {\"inplace\": true}}, {\"class\": \"BatchNorm2d\", \"kargs\": {\"num_features\": 256}}, {\"class\": \"Conv2d\", \"kargs\": {\"in_channels\": 256, \"out_channels\": 80, \"kernel_size\": [2, 7], \"bias\": true, \"padding\": [0, 3]}}, {\"class\": \"ReLU\", \"kargs\": {\"inplace\": true}}, {\"class\": \"BatchNorm2d\", \"kargs\": {\"num_features\": 80}}, {\"class\": \"Flatten\", \"kargs\": {}}, {\"class\": \"Linear\", \"kargs\": {\"in_features\": 20480, \"out_features\": 256}}, {\"class\": \"ReLU\", \"kargs\": {\"inplace\": true}}, {\"class\": \"BatchNorm1d\", \"kargs\": {\"num_features\": 256}}, {\"class\": \"Linear\", \"kargs\": {\"in_features\": 256, \"out_features\": 256}}], \"NUM_LOGS_PER_EPOCH\": 10, \"BEST_MODEL_PATH\": \"./best_model.pth\", \"n_way\": 16, \"datasets\": [{\"labels\": [\"1-10.\", \"1-11.\", \"1-15.\", \"1-16.\", \"1-17.\", \"1-18.\", \"1-19.\", \"10-4.\", \"10-7.\", \"11-1.\", \"11-14.\", \"11-17.\", \"11-20.\", \"11-7.\", \"13-20.\", \"13-8.\", \"14-10.\", \"14-11.\", \"14-14.\", \"14-7.\", \"15-1.\", \"15-20.\", \"16-1.\", \"16-16.\", \"17-10.\", \"17-11.\", \"17-2.\", \"19-1.\", \"19-16.\", \"19-19.\", \"19-20.\", \"19-3.\", \"2-10.\", \"2-11.\", \"2-17.\", \"2-18.\", \"2-20.\", \"2-3.\", \"2-4.\", \"2-5.\", \"2-6.\", \"2-7.\", \"2-8.\", \"3-13.\", \"3-18.\", \"3-3.\", \"4-1.\", \"4-10.\", \"4-11.\", \"4-19.\", \"5-5.\", \"6-15.\", \"7-10.\", \"7-14.\", \"8-18.\", \"8-20.\", \"8-3.\", \"8-8.\"], \"domains\": [1, 2, 3, 4, 5], \"num_examples_per_domain_per_label\": -1, \"pickle_path\": \"/root/csc500-main/datasets/cores.stratified_ds.2022A.pkl\", \"source_or_target_dataset\": \"target\", \"x_transforms\": [\"unit_mag\"], \"episode_transforms\": [], \"domain_prefix\": \"CORES_\"}, {\"labels\": [\"3123D52\", \"3123D65\", \"3123D79\", \"3123D80\", \"3123D54\", \"3123D70\", \"3123D7B\", \"3123D89\", \"3123D58\", \"3123D76\", \"3123D7D\", \"3123EFE\", \"3123D64\", \"3123D78\", \"3123D7E\", \"3124E4A\"], \"domains\": [32, 38, 8, 44, 14, 50, 20, 26], \"num_examples_per_domain_per_label\": 2000, \"pickle_path\": \"/root/csc500-main/datasets/oracle.Run1_10kExamples_stratified_ds.2022A.pkl\", \"source_or_target_dataset\": \"source\", \"x_transforms\": [\"unit_mag\"], \"episode_transforms\": [], \"domain_prefix\": \"ORACLE.run1_\"}], \"dataset_seed\": 154325, \"seed\": 154325, \"x_shape\": [2, 256], \"domains_source\": [\"ORACLE.run1_32\", \"ORACLE.run1_38\", \"ORACLE.run1_8\", \"ORACLE.run1_44\", \"ORACLE.run1_14\", \"ORACLE.run1_50\", \"ORACLE.run1_20\", \"ORACLE.run1_26\"], \"domains_target\": [\"CORES_1\", \"CORES_2\", \"CORES_3\", \"CORES_4\", \"CORES_5\"]}, \"results\": {\"source_test_label_accuracy\": 0.6122395833333333, \"source_test_label_loss\": 1.032037377357483, \"target_test_label_accuracy\": 0.9622410414333706, \"target_test_label_loss\": 0.20012003183364868, \"source_val_label_accuracy\": 0.606640625, \"source_val_label_loss\": 1.0484193563461304, \"target_val_label_accuracy\": 0.9647096681922197, \"target_val_label_loss\": 0.22451728582382202, \"total_epochs_trained\": 7, \"total_experiment_time_secs\": 1192.0780756473541, \"confusion\": {\"ORACLE.run1_8\": {\"13\": {\"14\": 22, \"4\": 34, \"0\": 48, \"13\": 61, \"6\": 23, \"10\": 40, \"7\": 12}, \"9\": {\"9\": 240}, \"15\": {\"12\": 66, \"15\": 135, \"8\": 26, \"2\": 7, \"7\": 2, \"6\": 2, \"3\": 2}, \"2\": {\"3\": 50, \"2\": 156, \"15\": 6, \"7\": 16, \"12\": 10, \"8\": 1, \"6\": 1}, \"3\": {\"3\": 169, \"2\": 48, \"12\": 20, \"15\": 3}, \"8\": {\"8\": 197, \"15\": 29, \"6\": 8, \"12\": 3, \"11\": 1, \"14\": 2}, \"5\": {\"1\": 19, \"11\": 13, \"5\": 181, \"10\": 20, \"14\": 7}, \"14\": {\"14\": 76, \"6\": 5, \"4\": 40, \"10\": 58, \"13\": 27, \"1\": 21, \"0\": 2, \"5\": 4, \"11\": 6, \"7\": 1}, \"1\": {\"11\": 85, \"14\": 20, \"1\": 120, \"4\": 3, \"5\": 7, \"10\": 5}, \"0\": {\"0\": 118, \"4\": 25, \"7\": 21, \"13\": 46, \"6\": 20, \"10\": 10}, \"10\": {\"13\": 33, \"14\": 47, \"10\": 110, \"4\": 16, \"5\": 15, \"1\": 12, \"11\": 2, \"0\": 4, \"7\": 1}, \"6\": {\"7\": 64, \"0\": 22, \"6\": 102, \"8\": 10, \"13\": 10, \"4\": 25, \"14\": 6, \"10\": 1}, \"11\": {\"1\": 98, \"11\": 108, \"8\": 3, \"7\": 1, \"10\": 1, \"5\": 14, \"13\": 2, \"14\": 9, \"4\": 2, \"6\": 2}, \"7\": {\"7\": 149, \"0\": 17, \"6\": 56, \"12\": 1, \"8\": 7, \"2\": 3, \"15\": 1, \"4\": 5, \"13\": 1}, \"4\": {\"6\": 40, \"13\": 51, \"4\": 63, \"14\": 35, \"7\": 8, \"10\": 8, \"0\": 29, \"1\": 5, \"11\": 1}, \"12\": {\"15\": 61, \"12\": 99, \"3\": 67, \"8\": 9, \"2\": 4}}, \"ORACLE.run1_38\": {\"13\": {\"1\": 7, \"15\": 77, \"13\": 123, \"2\": 12, \"14\": 3, \"8\": 2, \"10\": 15, \"5\": 1}, \"12\": {\"12\": 206, \"10\": 21, \"4\": 12, \"0\": 1}, \"2\": {\"2\": 213, \"14\": 24, \"13\": 3}, \"9\": {\"9\": 134, \"6\": 81, \"3\": 23, \"8\": 1, \"5\": 1}, \"15\": {\"13\": 74, \"15\": 132, \"1\": 15, \"8\": 7, \"10\": 1, \"5\": 10, \"0\": 1}, \"5\": {\"7\": 21, \"0\": 29, \"5\": 74, \"8\": 76, \"6\": 11, \"1\": 5, \"3\": 4, \"9\": 5, \"10\": 4, \"15\": 11}, \"14\": {\"14\": 151, \"11\": 59, \"2\": 23, \"12\": 2, \"10\": 4, \"13\": 1}, \"0\": {\"7\": 60, \"3\": 11, \"15\": 2, \"8\": 60, \"0\": 61, \"5\": 38, \"12\": 2, \"10\": 5, \"6\": 1}, \"3\": {\"3\": 198, \"9\": 30, \"0\": 3, \"6\": 3, \"7\": 5, \"8\": 1}, \"1\": {\"1\": 223, \"15\": 14, \"13\": 1, \"5\": 1, \"8\": 1}, \"11\": {\"14\": 79, \"11\": 147, \"10\": 3, \"12\": 5, \"2\": 6}, \"7\": {\"0\": 63, \"7\": 161, \"8\": 9, \"5\": 4, \"3\": 3}, \"8\": {\"5\": 52, \"7\": 11, \"8\": 111, \"0\": 46, \"15\": 10, \"10\": 7, \"13\": 2, \"1\": 1}, \"4\": {\"4\": 219, \"12\": 21}, \"10\": {\"10\": 147, \"0\": 8, \"8\": 11, \"12\": 36, \"11\": 3, \"13\": 16, \"14\": 7, \"15\": 8, \"7\": 1, \"5\": 3}, \"6\": {\"6\": 167, \"9\": 68, \"5\": 2, \"1\": 1, \"3\": 1, \"8\": 1}}, \"ORACLE.run1_26\": {\"10\": {\"15\": 6, \"10\": 76, \"6\": 34, \"1\": 7, \"8\": 38, \"14\": 16, \"4\": 11, \"0\": 47, \"7\": 1, \"9\": 4}, \"12\": {\"12\": 239, \"11\": 1}, \"1\": {\"14\": 59, \"1\": 85, \"4\": 50, \"0\": 22, \"7\": 6, \"8\": 7, \"10\": 9, \"3\": 1, \"6\": 1}, \"0\": {\"4\": 28, \"10\": 52, \"14\": 39, \"7\": 10, \"1\": 25, \"0\": 46, \"8\": 29, \"9\": 4, \"6\": 6, \"15\": 1}, \"15\": {\"9\": 62, \"5\": 45, \"15\": 61, \"8\": 25, \"10\": 5, \"6\": 10, \"13\": 23, \"7\": 2, \"2\": 4, \"14\": 1, \"0\": 1, \"4\": 1}, \"13\": {\"13\": 157, \"15\": 18, \"5\": 41, \"9\": 15, \"3\": 1, \"2\": 5, \"6\": 3}, \"8\": {\"3\": 1, \"4\": 16, \"9\": 19, \"8\": 68, \"0\": 25, \"10\": 37, \"7\": 17, \"15\": 25, \"6\": 12, \"1\": 1, \"2\": 5, \"14\": 8, \"5\": 6}, \"3\": {\"3\": 128, \"7\": 41, \"2\": 66, \"4\": 2, \"8\": 2, \"15\": 1}, \"11\": {\"11\": 228, \"12\": 12}, \"4\": {\"4\": 56, \"0\": 37, \"1\": 37, \"8\": 26, \"14\": 40, \"7\": 22, \"2\": 2, \"10\": 18, \"3\": 1, \"15\": 1}, \"6\": {\"6\": 156, \"10\": 23, \"15\": 11, \"13\": 7, \"8\": 12, \"9\": 24, \"0\": 4, \"5\": 2, \"14\": 1}, \"7\": {\"4\": 22, \"7\": 118, \"2\": 27, \"8\": 6, \"3\": 48, \"15\": 4, \"5\": 3, \"0\": 4, \"9\": 1, \"10\": 2, \"1\": 1, \"14\": 4}, \"14\": {\"14\": 48, \"0\": 42, \"1\": 74, \"4\": 39, \"8\": 12, \"10\": 17, \"15\": 4, \"7\": 4}, \"2\": {\"9\": 9, \"3\": 64, \"2\": 94, \"7\": 30, \"5\": 18, \"14\": 1, \"4\": 3, \"15\": 10, \"8\": 8, \"0\": 2, \"13\": 1}, \"5\": {\"2\": 11, \"5\": 77, \"15\": 65, \"9\": 27, \"13\": 45, \"3\": 1, \"6\": 5, \"8\": 6, \"7\": 2, \"4\": 1}, \"9\": {\"5\": 36, \"15\": 50, \"9\": 59, \"4\": 3, \"10\": 12, \"6\": 30, \"8\": 34, \"14\": 1, \"13\": 5, \"2\": 7, \"7\": 1, \"0\": 1, \"3\": 1}}, \"ORACLE.run1_20\": {\"5\": {\"15\": 36, \"1\": 45, \"0\": 59, \"3\": 14, \"5\": 55, \"12\": 22, \"4\": 3, \"9\": 3, \"2\": 2, \"13\": 1}, \"15\": {\"15\": 127, \"0\": 28, \"13\": 12, \"1\": 39, \"5\": 21, \"12\": 5, \"2\": 5, \"9\": 2, \"3\": 1}, \"9\": {\"2\": 52, \"12\": 28, \"3\": 46, \"7\": 23, \"9\": 58, \"8\": 5, \"15\": 6, \"1\": 7, \"5\": 2, \"4\": 5, \"13\": 5, \"0\": 3}, \"7\": {\"7\": 123, \"3\": 10, \"2\": 45, \"8\": 23, \"9\": 18, \"6\": 9, \"12\": 5, \"4\": 1, \"13\": 2, \"10\": 3, \"14\": 1}, \"3\": {\"12\": 31, \"7\": 18, \"5\": 10, \"9\": 30, \"3\": 82, \"13\": 4, \"2\": 22, \"0\": 5, \"4\": 17, \"8\": 10, \"1\": 8, \"15\": 2, \"10\": 1}, \"8\": {\"4\": 43, \"8\": 99, \"3\": 13, \"14\": 7, \"10\": 35, \"6\": 3, \"7\": 33, \"9\": 5, \"12\": 1, \"2\": 1}, \"4\": {\"4\": 145, \"10\": 13, \"8\": 50, \"3\": 20, \"7\": 2, \"9\": 3, \"5\": 3, \"12\": 1, \"1\": 2, \"0\": 1}, \"6\": {\"6\": 179, \"14\": 38, \"7\": 8, \"10\": 11, \"8\": 3, \"11\": 1}, \"2\": {\"12\": 19, \"9\": 49, \"2\": 77, \"7\": 46, \"13\": 16, \"8\": 4, \"3\": 18, \"5\": 2, \"1\": 5, \"15\": 2, \"4\": 1, \"0\": 1}, \"12\": {\"5\": 22, \"12\": 47, \"4\": 8, \"9\": 28, \"3\": 54, \"1\": 27, \"2\": 21, \"0\": 18, \"13\": 4, \"15\": 9, \"8\": 1, \"7\": 1}, \"0\": {\"5\": 53, \"2\": 3, \"1\": 48, \"15\": 37, \"12\": 19, \"7\": 1, \"9\": 7, \"0\": 59, \"3\": 6, \"4\": 2, \"13\": 5}, \"13\": {\"13\": 167, \"2\": 38, \"12\": 5, \"15\": 10, \"7\": 1, \"1\": 8, \"5\": 1, \"9\": 8, \"3\": 1, \"0\": 1}, \"10\": {\"8\": 47, \"10\": 137, \"14\": 44, \"3\": 1, \"4\": 6, \"6\": 3, \"7\": 2}, \"11\": {\"11\": 237, \"6\": 3}, \"14\": {\"14\": 142, \"6\": 35, \"10\": 52, \"8\": 8, \"7\": 3}, \"1\": {\"15\": 38, \"5\": 48, \"0\": 51, \"2\": 4, \"1\": 58, \"9\": 3, \"12\": 19, \"13\": 6, \"3\": 11, \"4\": 2}}, \"ORACLE.run1_50\": {\"1\": {\"6\": 37, \"15\": 49, \"1\": 115, \"14\": 3, \"4\": 34, \"11\": 2}, \"2\": {\"2\": 220, \"0\": 20}, \"8\": {\"8\": 224, \"3\": 6, \"10\": 9, \"0\": 1}, \"7\": {\"7\": 140, \"13\": 58, \"5\": 34, \"10\": 7, \"6\": 1}, \"14\": {\"14\": 231, \"12\": 3, \"11\": 3, \"15\": 1, \"9\": 2}, \"6\": {\"1\": 35, \"13\": 13, \"4\": 45, \"6\": 122, \"7\": 1, \"5\": 20, \"0\": 2, \"15\": 2}, \"3\": {\"3\": 230, \"8\": 10}, \"4\": {\"15\": 40, \"7\": 9, \"4\": 90, \"6\": 39, \"13\": 5, \"5\": 10, \"1\": 46, \"11\": 1}, \"12\": {\"12\": 215, \"14\": 11, \"9\": 14}, \"15\": {\"15\": 155, \"1\": 45, \"4\": 25, \"11\": 11, \"6\": 4}, \"11\": {\"11\": 200, \"1\": 2, \"9\": 27, \"15\": 6, \"14\": 5}, \"0\": {\"0\": 198, \"10\": 13, \"2\": 21, \"6\": 1, \"13\": 5, \"5\": 1, \"8\": 1}, \"9\": {\"9\": 173, \"12\": 20, \"11\": 43, \"14\": 4}, \"10\": {\"10\": 208, \"7\": 13, \"0\": 15, \"13\": 3, \"5\": 1}, \"5\": {\"4\": 32, \"7\": 60, \"5\": 39, \"6\": 50, \"13\": 50, \"10\": 3, \"1\": 6}, \"13\": {\"13\": 108, \"7\": 54, \"5\": 50, \"10\": 3, \"4\": 5, \"6\": 18, \"0\": 1, \"1\": 1}}, \"ORACLE.run1_32\": {\"2\": {\"2\": 177, \"0\": 18, \"4\": 41, \"7\": 2, \"13\": 1, \"14\": 1}, \"6\": {\"6\": 240}, \"5\": {\"13\": 56, \"14\": 14, \"0\": 22, \"2\": 7, \"4\": 14, \"8\": 24, \"3\": 14, \"7\": 18, \"5\": 65, \"11\": 6}, \"12\": {\"12\": 240}, \"13\": {\"3\": 22, \"5\": 65, \"14\": 13, \"7\": 19, \"8\": 31, \"4\": 10, \"13\": 62, \"0\": 11, \"11\": 7}, \"9\": {\"9\": 240}, \"11\": {\"14\": 40, \"11\": 180, \"5\": 3, \"13\": 6, \"7\": 11}, \"1\": {\"1\": 238, \"10\": 2}, \"3\": {\"3\": 206, \"13\": 15, \"11\": 8, \"5\": 5, \"14\": 3, \"15\": 1, \"8\": 2}, \"7\": {\"7\": 79, \"13\": 10, \"2\": 14, \"4\": 23, \"5\": 27, \"14\": 61, \"11\": 22, \"0\": 4}, \"14\": {\"7\": 55, \"14\": 51, \"0\": 8, \"11\": 75, \"5\": 19, \"13\": 11, \"4\": 15, \"2\": 5, \"8\": 1}, \"8\": {\"8\": 168, \"13\": 24, \"0\": 30, \"7\": 3, \"4\": 2, \"5\": 11, \"3\": 2}, \"4\": {\"2\": 55, \"0\": 42, \"4\": 97, \"5\": 11, \"7\": 22, \"14\": 5, \"13\": 4, \"8\": 4}, \"0\": {\"0\": 99, \"7\": 15, \"13\": 10, \"4\": 52, \"8\": 28, \"2\": 21, \"5\": 13, \"14\": 2}, \"10\": {\"10\": 238, \"1\": 2}, \"15\": {\"15\": 234, \"8\": 6}}, \"ORACLE.run1_44\": {\"13\": {\"13\": 147, \"6\": 48, \"9\": 17, \"11\": 25, \"4\": 3}, \"4\": {\"4\": 168, \"14\": 68, \"13\": 1, \"15\": 3}, \"6\": {\"7\": 8, \"13\": 41, \"6\": 158, \"9\": 20, \"11\": 13}, \"0\": {\"0\": 147, \"5\": 12, \"8\": 55, \"15\": 26}, \"10\": {\"10\": 173, \"1\": 23, \"2\": 22, \"12\": 22}, \"7\": {\"2\": 41, \"9\": 53, \"7\": 134, \"6\": 11, \"1\": 1}, \"14\": {\"14\": 142, \"4\": 79, \"15\": 16, \"5\": 3}, \"15\": {\"15\": 184, \"0\": 23, \"5\": 9, \"8\": 10, \"14\": 14}, \"5\": {\"5\": 198, \"0\": 20, \"14\": 11, \"15\": 10, \"8\": 1}, \"2\": {\"10\": 13, \"2\": 173, \"7\": 41, \"1\": 10, \"3\": 1, \"9\": 2}, \"9\": {\"7\": 57, \"9\": 131, \"6\": 23, \"2\": 7, \"13\": 21, \"4\": 1}, \"12\": {\"12\": 162, \"1\": 51, \"10\": 22, \"3\": 5}, \"8\": {\"8\": 137, \"0\": 91, \"15\": 8, \"5\": 4}, \"3\": {\"1\": 28, \"3\": 206, \"7\": 1, \"12\": 4, \"2\": 1}, \"1\": {\"1\": 116, \"2\": 14, \"10\": 30, \"12\": 47, \"3\": 32, \"7\": 1}, \"11\": {\"6\": 14, \"11\": 190, \"13\": 36}}, \"ORACLE.run1_14\": {\"1\": {\"1\": 190, \"5\": 41, \"7\": 4, \"4\": 5}, \"15\": {\"15\": 205, \"7\": 35}, \"10\": {\"0\": 53, \"10\": 186, \"11\": 1}, \"2\": {\"6\": 23, \"2\": 101, \"14\": 45, \"13\": 15, \"4\": 21, \"3\": 10, \"5\": 22, \"15\": 3}, \"9\": {\"9\": 235, \"11\": 2, \"12\": 3}, \"5\": {\"5\": 135, \"1\": 34, \"3\": 3, \"4\": 51, \"2\": 15, \"7\": 1, \"15\": 1}, \"7\": {\"7\": 212, \"1\": 4, \"15\": 23, \"5\": 1}, \"13\": {\"14\": 64, \"6\": 71, \"13\": 76, \"2\": 27, \"5\": 2}, \"8\": {\"8\": 238, \"1\": 2}, \"6\": {\"13\": 74, \"6\": 109, \"2\": 31, \"14\": 25, \"4\": 1}, \"3\": {\"3\": 180, \"5\": 2, \"4\": 42, \"14\": 11, \"2\": 3, \"0\": 2}, \"12\": {\"12\": 236, \"9\": 4}, \"0\": {\"0\": 164, \"10\": 58, \"11\": 11, \"3\": 7}, \"4\": {\"4\": 129, \"5\": 33, \"3\": 44, \"2\": 23, \"1\": 5, \"14\": 5, \"6\": 1}, \"14\": {\"14\": 157, \"6\": 22, \"3\": 11, \"13\": 35, \"4\": 3, \"2\": 12}, \"11\": {\"9\": 21, \"11\": 196, \"0\": 9, \"10\": 14}}, \"CORES_2\": {\"21\": {\"21\": 120}, \"4\": {\"4\": 125, \"9\": 5}, \"6\": {\"6\": 109, \"8\": 2, \"25\": 3, \"50\": 9, \"30\": 1}, \"10\": {\"10\": 112}, \"33\": {\"33\": 28}, \"56\": {\"56\": 122}, \"20\": {\"20\": 107, \"53\": 25}, \"24\": {\"24\": 96}, \"45\": {\"45\": 122, \"35\": 1, \"4\": 4, \"9\": 1}, \"32\": {\"32\": 27, \"17\": 1}, \"27\": {\"27\": 147, \"54\": 1}, \"53\": {\"53\": 117, \"20\": 19}, \"8\": {\"8\": 157, \"50\": 3}, \"54\": {\"54\": 108}, \"50\": {\"8\": 13, \"50\": 105, \"6\": 13, \"36\": 1, \"25\": 2}, \"44\": {\"44\": 96, \"35\": 2, \"19\": 1, \"40\": 1}, \"5\": {\"5\": 109, \"0\": 1, \"42\": 1, \"47\": 1, \"57\": 7, \"1\": 1}, \"38\": {\"38\": 20}, \"19\": {\"19\": 119, \"40\": 13}, \"1\": {\"1\": 109, \"34\": 3}, \"30\": {\"30\": 138, \"36\": 1, \"18\": 3, \"8\": 1, \"50\": 1}, \"15\": {\"15\": 144}, \"23\": {\"23\": 145, \"2\": 1}, \"35\": {\"35\": 32}, \"22\": {\"22\": 126, \"14\": 2}, \"40\": {\"40\": 133, \"19\": 6, \"44\": 1}, \"46\": {\"46\": 119, \"3\": 2, \"52\": 3, \"16\": 2}, \"3\": {\"3\": 88, \"21\": 4}, \"48\": {\"48\": 148}, \"52\": {\"52\": 123, \"25\": 1}, \"2\": {\"2\": 29, \"49\": 3}, \"26\": {\"26\": 24}, \"17\": {\"17\": 103, \"32\": 1}, \"55\": {\"55\": 144}, \"51\": {\"51\": 122}, \"42\": {\"42\": 33, \"57\": 3}, \"41\": {\"41\": 20}, \"31\": {\"31\": 28}, \"16\": {\"16\": 138}, \"36\": {\"36\": 116}, \"49\": {\"49\": 22, \"2\": 2}, \"0\": {\"0\": 47, \"5\": 1}, \"18\": {\"18\": 48}, \"25\": {\"25\": 146}, \"9\": {\"9\": 119, \"4\": 3}, \"47\": {\"47\": 132}, \"7\": {\"7\": 36}, \"37\": {\"37\": 36}, \"13\": {\"13\": 116}, \"14\": {\"31\": 3, \"56\": 4, \"14\": 11, \"33\": 1, \"22\": 2, \"55\": 1, \"0\": 2}, \"34\": {\"34\": 28}, \"57\": {\"42\": 2, \"57\": 136, \"5\": 2}, \"11\": {\"11\": 138}, \"39\": {\"39\": 28}, \"12\": {\"12\": 92}, \"28\": {\"28\": 28}, \"29\": {\"29\": 127, \"17\": 1}, \"43\": {\"43\": 140}}, \"CORES_5\": {\"12\": {\"12\": 95, \"7\": 1}, \"8\": {\"8\": 142}, \"29\": {\"29\": 132}, \"57\": {\"57\": 119, \"36\": 2, \"48\": 1, \"49\": 1, \"30\": 1, \"54\": 2}, \"38\": {\"38\": 32}, \"23\": {\"23\": 123, \"18\": 1}, \"56\": {\"35\": 2, \"56\": 136}, \"49\": {\"49\": 34, \"57\": 1, \"14\": 1}, \"4\": {\"4\": 100}, \"48\": {\"48\": 135, \"17\": 1}, \"21\": {\"21\": 142, \"50\": 2}, \"30\": {\"30\": 127, \"17\": 1}, \"1\": {\"1\": 148}, \"34\": {\"34\": 36}, \"35\": {\"35\": 32, \"56\": 4}, \"55\": {\"55\": 137, \"32\": 5, \"27\": 10}, \"5\": {\"5\": 121, \"19\": 1}, \"52\": {\"52\": 125, \"23\": 1}, \"6\": {\"6\": 122, \"26\": 1, \"30\": 2, \"1\": 2, \"48\": 1}, \"36\": {\"36\": 91, \"49\": 1}, \"41\": {\"41\": 28}, \"3\": {\"3\": 83, \"47\": 12, \"41\": 1, \"46\": 1, \"14\": 1, \"31\": 2}, \"28\": {\"28\": 31, \"14\": 1}, \"18\": {\"18\": 64}, \"25\": {\"25\": 136}, \"47\": {\"47\": 100}, \"13\": {\"13\": 160}, \"11\": {\"11\": 141, \"15\": 3}, \"53\": {\"53\": 144}, \"33\": {\"33\": 32}, \"46\": {\"46\": 147, \"23\": 1}, \"50\": {\"50\": 124, \"21\": 14, \"20\": 6, \"53\": 2, \"51\": 2}, \"10\": {\"10\": 67, \"24\": 1}, \"15\": {\"15\": 129, \"11\": 2, \"43\": 7}, \"44\": {\"44\": 139, \"40\": 1}, \"2\": {\"2\": 28}, \"7\": {\"7\": 32}, \"43\": {\"43\": 128, \"15\": 8, \"11\": 2}, \"32\": {\"32\": 26, \"27\": 1, \"55\": 5}, \"0\": {\"0\": 123, \"56\": 1}, \"39\": {\"39\": 20}, \"26\": {\"26\": 24}, \"27\": {\"27\": 107, \"55\": 5}, \"54\": {\"54\": 112}, \"17\": {\"17\": 116}, \"14\": {\"3\": 3, \"28\": 3, \"14\": 20, \"46\": 1, \"0\": 2, \"56\": 3, \"31\": 4, \"36\": 4, \"34\": 1, \"57\": 1, \"47\": 1, \"33\": 1}, \"16\": {\"16\": 148}, \"9\": {\"9\": 148}, \"19\": {\"19\": 150, \"5\": 2}, \"20\": {\"20\": 138}, \"37\": {\"37\": 24}, \"24\": {\"24\": 80}, \"40\": {\"40\": 116, \"29\": 4, \"34\": 2}, \"45\": {\"45\": 116, \"9\": 5, \"4\": 1, \"27\": 1, \"48\": 1}, \"22\": {\"22\": 28}, \"42\": {\"42\": 38, \"56\": 1, \"0\": 1}, \"51\": {\"51\": 118}, \"31\": {\"31\": 36}}, \"CORES_1\": {\"27\": {\"27\": 142}, \"2\": {\"2\": 36}, \"33\": {\"33\": 30, \"54\": 2}, \"45\": {\"45\": 150, \"42\": 4, \"7\": 2}, \"38\": {\"38\": 23, \"0\": 1}, \"4\": {\"4\": 132}, \"31\": {\"31\": 27, \"39\": 1}, \"55\": {\"55\": 140}, \"32\": {\"32\": 32}, \"57\": {\"57\": 109, \"56\": 25, \"19\": 2, \"44\": 4}, \"14\": {\"14\": 6, \"30\": 1, \"53\": 4, \"8\": 1, \"18\": 2, \"9\": 6, \"25\": 2, \"26\": 1, \"7\": 1}, \"16\": {\"16\": 140}, \"34\": {\"34\": 24}, \"56\": {\"57\": 22, \"56\": 96, \"1\": 1, \"19\": 4, \"44\": 3}, \"24\": {\"24\": 100, \"15\": 1, \"10\": 5, \"22\": 1, \"52\": 1}, \"30\": {\"30\": 111, \"26\": 1}, \"17\": {\"17\": 64}, \"13\": {\"13\": 116, \"51\": 21, \"12\": 1}, \"39\": {\"39\": 26, \"49\": 1, \"0\": 1}, \"50\": {\"50\": 146}, \"20\": {\"20\": 140}, \"41\": {\"41\": 23, \"13\": 1}, \"53\": {\"53\": 126}, \"48\": {\"48\": 141, \"2\": 1}, \"36\": {\"36\": 64}, \"8\": {\"8\": 131, \"9\": 9}, \"15\": {\"15\": 121, \"21\": 9, \"23\": 2}, \"40\": {\"40\": 156}, \"37\": {\"37\": 30, \"25\": 2}, \"21\": {\"21\": 105, \"15\": 11, \"22\": 1, \"52\": 2, \"23\": 1}, \"35\": {\"35\": 36}, \"49\": {\"49\": 30, \"0\": 2}, \"26\": {\"26\": 24}, \"28\": {\"28\": 28}, \"12\": {\"12\": 113, \"13\": 2, \"51\": 1}, \"5\": {\"5\": 133, \"6\": 17, \"48\": 2}, \"29\": {\"29\": 138, \"4\": 1, \"40\": 1}, \"47\": {\"47\": 140}, \"10\": {\"10\": 89, \"24\": 2, \"22\": 5}, \"18\": {\"18\": 69, \"50\": 1, \"54\": 2}, \"9\": {\"9\": 121, \"8\": 5}, \"3\": {\"3\": 140}, \"52\": {\"52\": 115, \"15\": 5, \"22\": 3, \"11\": 5, \"21\": 1, \"10\": 3}, \"25\": {\"25\": 133, \"37\": 2, \"18\": 1}, \"19\": {\"19\": 151, \"1\": 4, \"56\": 1}, \"11\": {\"52\": 1, \"11\": 130, \"15\": 2, \"21\": 2, \"10\": 1}, \"7\": {\"7\": 28}, \"23\": {\"15\": 8, \"23\": 125, \"38\": 2, \"21\": 1}, \"44\": {\"44\": 113, \"1\": 2, \"35\": 2, \"57\": 8, \"56\": 5, \"19\": 1, \"29\": 1}, \"42\": {\"42\": 40}, \"54\": {\"54\": 102, \"33\": 2}, \"1\": {\"1\": 89, \"57\": 1, \"19\": 10}, \"46\": {\"46\": 127, \"41\": 1}, \"6\": {\"6\": 84, \"5\": 12}, \"43\": {\"43\": 144}, \"51\": {\"51\": 133, \"13\": 9}, \"22\": {\"22\": 119, \"11\": 2, \"10\": 5, \"52\": 7, \"24\": 3}, \"0\": {\"49\": 3, \"0\": 117, \"31\": 2, \"15\": 2, \"23\": 3, \"21\": 1}}, \"CORES_4\": {\"32\": {\"32\": 24}, \"2\": {\"2\": 32, \"0\": 1, \"56\": 2, \"42\": 1}, \"41\": {\"41\": 35, \"46\": 1}, \"11\": {\"11\": 98, \"24\": 1, \"10\": 1, \"15\": 2}, \"57\": {\"57\": 97, \"1\": 3}, \"6\": {\"6\": 96, \"31\": 2, \"53\": 9, \"3\": 1, \"51\": 2, \"25\": 2}, \"23\": {\"23\": 136}, \"52\": {\"52\": 114, \"36\": 2}, \"38\": {\"38\": 40}, \"50\": {\"50\": 115, \"53\": 6, \"21\": 5, \"20\": 2, \"12\": 1, \"3\": 1, \"6\": 2}, \"55\": {\"55\": 148, \"35\": 4}, \"46\": {\"46\": 148, \"47\": 1, \"41\": 1, \"0\": 2, \"32\": 2}, \"37\": {\"37\": 24}, \"20\": {\"20\": 111, \"3\": 7}, \"49\": {\"49\": 20}, \"45\": {\"45\": 96}, \"54\": {\"54\": 108}, \"3\": {\"3\": 110, \"25\": 7, \"20\": 6, \"50\": 1}, \"13\": {\"13\": 152}, \"18\": {\"18\": 107, \"23\": 1}, \"21\": {\"21\": 126}, \"43\": {\"43\": 144}, \"47\": {\"47\": 118, \"5\": 2}, \"4\": {\"4\": 132}, \"12\": {\"12\": 92}, \"9\": {\"9\": 128}, \"7\": {\"7\": 23, \"0\": 1}, \"56\": {\"56\": 112}, \"28\": {\"28\": 30, \"33\": 2}, \"44\": {\"44\": 125, \"19\": 7}, \"24\": {\"24\": 56}, \"33\": {\"28\": 4, \"33\": 32}, \"35\": {\"35\": 39, \"57\": 1}, \"51\": {\"51\": 138}, \"39\": {\"39\": 20}, \"36\": {\"36\": 90, \"25\": 2}, \"19\": {\"19\": 136, \"44\": 4}, \"0\": {\"0\": 47, \"47\": 1, \"3\": 2, \"49\": 5, \"22\": 12, \"8\": 1, \"30\": 1, \"32\": 2, \"46\": 1, \"20\": 3, \"52\": 1, \"36\": 2, \"21\": 1, \"50\": 1}, \"15\": {\"15\": 135, \"11\": 1}, \"29\": {\"29\": 122, \"9\": 1, \"44\": 1}, \"30\": {\"30\": 44}, \"1\": {\"1\": 40}, \"22\": {\"22\": 122, \"0\": 6}, \"40\": {\"40\": 146}, \"8\": {\"8\": 128}, \"53\": {\"53\": 137, \"6\": 1}, \"34\": {\"34\": 24}, \"10\": {\"10\": 121, \"13\": 1}, \"31\": {\"31\": 28}, \"17\": {\"17\": 80}, \"16\": {\"16\": 96}, \"42\": {\"42\": 32}, \"27\": {\"27\": 142}, \"14\": {\"14\": 12, \"57\": 1, \"29\": 1, \"55\": 2}, \"25\": {\"25\": 121, \"36\": 1}, \"48\": {\"48\": 132}, \"26\": {\"26\": 24}, \"5\": {\"5\": 93, \"47\": 12, \"57\": 1, \"46\": 2}}, \"CORES_3\": {\"14\": {\"55\": 5, \"29\": 1, \"14\": 25, \"56\": 6, \"42\": 1, \"49\": 1, \"22\": 1}, \"18\": {\"18\": 84}, \"30\": {\"30\": 119, \"18\": 1}, \"16\": {\"16\": 156}, \"1\": {\"1\": 99, \"57\": 1}, \"20\": {\"20\": 130, \"50\": 2}, \"7\": {\"7\": 36}, \"52\": {\"52\": 129, \"50\": 1}, \"9\": {\"9\": 140}, \"23\": {\"23\": 144}, \"55\": {\"55\": 153, \"22\": 11}, \"29\": {\"29\": 126}, \"56\": {\"56\": 134}, \"3\": {\"3\": 124}, \"42\": {\"42\": 25, \"57\": 2, \"28\": 1}, \"6\": {\"6\": 70, \"50\": 1, \"30\": 8, \"36\": 4, \"8\": 1, \"38\": 1, \"18\": 2, \"25\": 1}, \"5\": {\"5\": 115, \"47\": 1}, \"27\": {\"27\": 144}, \"47\": {\"47\": 92}, \"39\": {\"39\": 16}, \"34\": {\"34\": 32}, \"4\": {\"4\": 126}, \"24\": {\"24\": 104}, \"46\": {\"46\": 112, \"52\": 1, \"16\": 1, \"3\": 4}, \"50\": {\"50\": 111, \"25\": 3, \"20\": 7, \"3\": 1, \"8\": 4}, \"38\": {\"38\": 28}, \"54\": {\"54\": 100}, \"35\": {\"35\": 24, \"34\": 3, \"57\": 1}, \"2\": {\"2\": 31, \"54\": 1}, \"41\": {\"41\": 25, \"30\": 3}, \"57\": {\"57\": 112, \"42\": 5, \"35\": 1}, \"25\": {\"25\": 149, \"52\": 1}, \"48\": {\"48\": 116}, \"33\": {\"33\": 28}, \"45\": {\"45\": 60}, \"13\": {\"13\": 126}, \"36\": {\"36\": 100}, \"43\": {\"43\": 132}, \"28\": {\"28\": 26, \"1\": 2}, \"0\": {\"0\": 124}, \"12\": {\"12\": 89, \"38\": 1, \"53\": 2}, \"31\": {\"31\": 28}, \"40\": {\"40\": 101, \"19\": 15}, \"44\": {\"44\": 88}, \"32\": {\"32\": 28}, \"26\": {\"26\": 24}, \"8\": {\"8\": 116}, \"10\": {\"10\": 64}, \"15\": {\"15\": 142}, \"21\": {\"21\": 127, \"51\": 1}, \"37\": {\"37\": 28}, \"17\": {\"17\": 107, \"32\": 1}, \"51\": {\"51\": 124}, \"53\": {\"53\": 144}, \"19\": {\"19\": 120, \"40\": 16}, \"49\": {\"49\": 20}, \"11\": {\"11\": 138}, \"22\": {\"14\": 1, \"22\": 122, \"55\": 7}}}, \"per_domain_accuracy\": {\"ORACLE.run1_8\": {\"accuracy\": 0.5427083333333333, \"source?\": true}, \"ORACLE.run1_38\": {\"accuracy\": 0.6424479166666667, \"source?\": true}, \"ORACLE.run1_26\": {\"accuracy\": 0.44166666666666665, \"source?\": true}, \"ORACLE.run1_20\": {\"accuracy\": 0.4666666666666667, \"source?\": true}, \"ORACLE.run1_50\": {\"accuracy\": 0.6947916666666667, \"source?\": true}, \"ORACLE.run1_32\": {\"accuracy\": 0.6807291666666667, \"source?\": true}, \"ORACLE.run1_44\": {\"accuracy\": 0.6682291666666667, \"source?\": true}, \"ORACLE.run1_14\": {\"accuracy\": 0.7158854166666667, \"source?\": true}, \"CORES_2\": {\"accuracy\": 0.9655539772727273, \"source?\": false}, \"CORES_5\": {\"accuracy\": 0.9708567415730337, \"source?\": false}, \"CORES_1\": {\"accuracy\": 0.9440247252747253, \"source?\": false}, \"CORES_4\": {\"accuracy\": 0.968937125748503, \"source?\": false}, \"CORES_3\": {\"accuracy\": 0.975328947368421, \"source?\": false}}}, \"history\": {\"epoch_indices\": [1, 2, 3, 4, 5, 6, 7], \"train_label_loss\": [1.677061312193317, 1.0211985016640808, 0.8545937672390469, 0.7418321706953326, 0.644367053449553, 0.5603058241562741, 0.485963322002984], \"source_val_label_loss\": [1.2079616785049438, 1.0769797563552856, 1.0484193563461304, 1.067516803741455, 1.1131969690322876, 1.1771467924118042, 1.236232042312622], \"target_val_label_loss\": [0.16417691111564636, 0.2024335414171219, 0.22451728582382202, 0.2698638439178467, 0.2904484272003174, 0.33484894037246704, 0.35720115900039673], \"source_val_acc_label\": [0.5384765625, 0.5875325520833333, 0.606640625, 0.6190755208333333, 0.6078776041666667, 0.6083333333333333, 0.601171875], \"target_val_acc_label\": [0.9601687643020596, 0.9565217391304348, 0.9647096681922197, 0.9609911327231121, 0.9605620709382151, 0.9580234553775744, 0.9600972540045767]}, \"dataset_metrics\": {\"source\": {\"train\": {\"n_unique_x\": 179200, \"n_unique_y\": 16, \"n_batch/episode\": 6720}, \"val\": {\"n_unique_x\": 38400, \"n_unique_y\": 16, \"n_batch/episode\": 960}, \"test\": {\"n_unique_x\": 38400, \"n_unique_y\": 16, \"n_batch/episode\": 960}}, \"target\": {\"train\": {\"n_unique_x\": 175127, \"n_unique_y\": 58, \"n_batch/episode\": 6303}, \"val\": {\"n_unique_x\": 37135, \"n_unique_y\": 58, \"n_batch/episode\": 874}, \"test\": {\"n_unique_x\": 37673, \"n_unique_y\": 58, \"n_batch/episode\": 893}}}}'"
      ]
     },
     "execution_count": 29,
     "metadata": {},
     "output_type": "execute_result"
    }
   ],
   "source": [
    "json.dumps(experiment)"
   ]
  }
 ],
 "metadata": {
  "celltoolbar": "Tags",
  "kernelspec": {
   "display_name": "Python 3 (ipykernel)",
   "language": "python",
   "name": "python3"
  },
  "language_info": {
   "codemirror_mode": {
    "name": "ipython",
    "version": 3
   },
   "file_extension": ".py",
   "mimetype": "text/x-python",
   "name": "python",
   "nbconvert_exporter": "python",
   "pygments_lexer": "ipython3",
   "version": "3.8.12"
  },
  "papermill": {
   "default_parameters": {},
   "duration": 1367.616518,
   "end_time": "2022-03-22T13:12:07.237223",
   "environment_variables": {},
   "exception": null,
   "input_path": "/root/csc500-main/csc500-notebooks/templates/tl_ptn_template.ipynb",
   "output_path": "trial.ipynb",
   "parameters": {
    "parameters": {
     "BEST_MODEL_PATH": "./best_model.pth",
     "NUM_LOGS_PER_EPOCH": 10,
     "criteria_for_best": "target_accuracy",
     "dataset_seed": 154325,
     "datasets": [
      {
       "domain_prefix": "CORES_",
       "domains": [
        1,
        2,
        3,
        4,
        5
       ],
       "episode_transforms": [],
       "labels": [
        "1-10.",
        "1-11.",
        "1-15.",
        "1-16.",
        "1-17.",
        "1-18.",
        "1-19.",
        "10-4.",
        "10-7.",
        "11-1.",
        "11-14.",
        "11-17.",
        "11-20.",
        "11-7.",
        "13-20.",
        "13-8.",
        "14-10.",
        "14-11.",
        "14-14.",
        "14-7.",
        "15-1.",
        "15-20.",
        "16-1.",
        "16-16.",
        "17-10.",
        "17-11.",
        "17-2.",
        "19-1.",
        "19-16.",
        "19-19.",
        "19-20.",
        "19-3.",
        "2-10.",
        "2-11.",
        "2-17.",
        "2-18.",
        "2-20.",
        "2-3.",
        "2-4.",
        "2-5.",
        "2-6.",
        "2-7.",
        "2-8.",
        "3-13.",
        "3-18.",
        "3-3.",
        "4-1.",
        "4-10.",
        "4-11.",
        "4-19.",
        "5-5.",
        "6-15.",
        "7-10.",
        "7-14.",
        "8-18.",
        "8-20.",
        "8-3.",
        "8-8."
       ],
       "num_examples_per_domain_per_label": -1,
       "pickle_path": "/root/csc500-main/datasets/cores.stratified_ds.2022A.pkl",
       "source_or_target_dataset": "target",
       "x_transforms": [
        "unit_mag"
       ]
      },
      {
       "domain_prefix": "ORACLE.run1_",
       "domains": [
        32,
        38,
        8,
        44,
        14,
        50,
        20,
        26
       ],
       "episode_transforms": [],
       "labels": [
        "3123D52",
        "3123D65",
        "3123D79",
        "3123D80",
        "3123D54",
        "3123D70",
        "3123D7B",
        "3123D89",
        "3123D58",
        "3123D76",
        "3123D7D",
        "3123EFE",
        "3123D64",
        "3123D78",
        "3123D7E",
        "3124E4A"
       ],
       "num_examples_per_domain_per_label": 2000,
       "pickle_path": "/root/csc500-main/datasets/oracle.Run1_10kExamples_stratified_ds.2022A.pkl",
       "source_or_target_dataset": "source",
       "x_transforms": [
        "unit_mag"
       ]
      }
     ],
     "device": "cuda",
     "experiment_name": "tl_1v2:cores-oracle.run1.limited",
     "lr": 0.0001,
     "n_epoch": 50,
     "n_query": 2,
     "n_shot": 3,
     "n_way": 16,
     "patience": 3,
     "seed": 154325,
     "test_k_factor": 2,
     "torch_default_dtype": "torch.float32",
     "train_k_factor": 3,
     "val_k_factor": 2,
     "x_net": [
      {
       "class": "nnReshape",
       "kargs": {
        "shape": [
         -1,
         1,
         2,
         256
        ]
       }
      },
      {
       "class": "Conv2d",
       "kargs": {
        "bias": false,
        "in_channels": 1,
        "kernel_size": [
         1,
         7
        ],
        "out_channels": 256,
        "padding": [
         0,
         3
        ]
       }
      },
      {
       "class": "ReLU",
       "kargs": {
        "inplace": true
       }
      },
      {
       "class": "BatchNorm2d",
       "kargs": {
        "num_features": 256
       }
      },
      {
       "class": "Conv2d",
       "kargs": {
        "bias": true,
        "in_channels": 256,
        "kernel_size": [
         2,
         7
        ],
        "out_channels": 80,
        "padding": [
         0,
         3
        ]
       }
      },
      {
       "class": "ReLU",
       "kargs": {
        "inplace": true
       }
      },
      {
       "class": "BatchNorm2d",
       "kargs": {
        "num_features": 80
       }
      },
      {
       "class": "Flatten",
       "kargs": {}
      },
      {
       "class": "Linear",
       "kargs": {
        "in_features": 20480,
        "out_features": 256
       }
      },
      {
       "class": "ReLU",
       "kargs": {
        "inplace": true
       }
      },
      {
       "class": "BatchNorm1d",
       "kargs": {
        "num_features": 256
       }
      },
      {
       "class": "Linear",
       "kargs": {
        "in_features": 256,
        "out_features": 256
       }
      }
     ]
    }
   },
   "start_time": "2022-03-22T12:49:19.620705",
   "version": "2.3.4"
  }
 },
 "nbformat": 4,
 "nbformat_minor": 5
}