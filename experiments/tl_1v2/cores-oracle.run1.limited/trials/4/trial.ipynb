{
 "cells": [
  {
   "cell_type": "markdown",
   "id": "9fea5f46",
   "metadata": {
    "papermill": {
     "duration": 0.023823,
     "end_time": "2022-03-22T04:32:27.429234",
     "exception": false,
     "start_time": "2022-03-22T04:32:27.405411",
     "status": "completed"
    },
    "tags": []
   },
   "source": [
    "# Transfer Learning Template"
   ]
  },
  {
   "cell_type": "code",
   "execution_count": 1,
   "id": "0902182a",
   "metadata": {
    "execution": {
     "iopub.execute_input": "2022-03-22T04:32:27.487491Z",
     "iopub.status.busy": "2022-03-22T04:32:27.474904Z",
     "iopub.status.idle": "2022-03-22T04:32:30.147433Z",
     "shell.execute_reply": "2022-03-22T04:32:30.146568Z"
    },
    "papermill": {
     "duration": 2.699478,
     "end_time": "2022-03-22T04:32:30.147650",
     "exception": false,
     "start_time": "2022-03-22T04:32:27.448172",
     "status": "completed"
    },
    "tags": []
   },
   "outputs": [],
   "source": [
    "%load_ext autoreload\n",
    "%autoreload 2\n",
    "%matplotlib inline\n",
    "\n",
    "    \n",
    "import os, json, sys, time, random\n",
    "import numpy as np\n",
    "import torch\n",
    "from torch.optim import Adam\n",
    "from  easydict import EasyDict\n",
    "import matplotlib.pyplot as plt\n",
    "\n",
    "from steves_models.steves_ptn import Steves_Prototypical_Network\n",
    "\n",
    "from steves_utils.lazy_iterable_wrapper import Lazy_Iterable_Wrapper\n",
    "from steves_utils.iterable_aggregator import Iterable_Aggregator\n",
    "from steves_utils.ptn_train_eval_test_jig import  PTN_Train_Eval_Test_Jig\n",
    "from steves_utils.torch_sequential_builder import build_sequential\n",
    "from steves_utils.torch_utils import get_dataset_metrics, ptn_confusion_by_domain_over_dataloader\n",
    "from steves_utils.utils_v2 import (per_domain_accuracy_from_confusion, get_datasets_base_path)\n",
    "from steves_utils.PTN.utils import independent_accuracy_assesment\n",
    "\n",
    "from torch.utils.data import DataLoader\n",
    "\n",
    "from steves_utils.stratified_dataset.episodic_accessor import Episodic_Accessor_Factory\n",
    "\n",
    "from steves_utils.ptn_do_report import (\n",
    "    get_loss_curve,\n",
    "    get_results_table,\n",
    "    get_parameters_table,\n",
    "    get_domain_accuracies,\n",
    ")\n",
    "\n",
    "from steves_utils.transforms import get_chained_transform"
   ]
  },
  {
   "cell_type": "markdown",
   "id": "41c840b4",
   "metadata": {
    "papermill": {
     "duration": 0.019357,
     "end_time": "2022-03-22T04:32:30.191766",
     "exception": false,
     "start_time": "2022-03-22T04:32:30.172409",
     "status": "completed"
    },
    "tags": []
   },
   "source": [
    "# Allowed Parameters\n",
    "These are allowed parameters, not defaults\n",
    "Each of these values need to be present in the injected parameters (the notebook will raise an exception if they are not present)\n",
    "\n",
    "Papermill uses the cell tag \"parameters\" to inject the real parameters below this cell.\n",
    "Enable tags to see what I mean"
   ]
  },
  {
   "cell_type": "code",
   "execution_count": 2,
   "id": "fd44eb83",
   "metadata": {
    "execution": {
     "iopub.execute_input": "2022-03-22T04:32:30.234737Z",
     "iopub.status.busy": "2022-03-22T04:32:30.234159Z",
     "iopub.status.idle": "2022-03-22T04:32:30.254113Z",
     "shell.execute_reply": "2022-03-22T04:32:30.254593Z"
    },
    "papermill": {
     "duration": 0.043682,
     "end_time": "2022-03-22T04:32:30.254750",
     "exception": false,
     "start_time": "2022-03-22T04:32:30.211068",
     "status": "completed"
    },
    "tags": []
   },
   "outputs": [],
   "source": [
    "required_parameters = {\n",
    "    \"experiment_name\",\n",
    "    \"lr\",\n",
    "    \"device\",\n",
    "    \"seed\",\n",
    "    \"dataset_seed\",\n",
    "    \"n_shot\",\n",
    "    \"n_query\",\n",
    "    \"n_way\",\n",
    "    \"train_k_factor\",\n",
    "    \"val_k_factor\",\n",
    "    \"test_k_factor\",\n",
    "    \"n_epoch\",\n",
    "    \"patience\",\n",
    "    \"criteria_for_best\",\n",
    "    \"x_net\",\n",
    "    \"datasets\",\n",
    "    \"torch_default_dtype\",\n",
    "    \"NUM_LOGS_PER_EPOCH\",\n",
    "    \"BEST_MODEL_PATH\",\n",
    "    \"x_shape\",\n",
    "}"
   ]
  },
  {
   "cell_type": "code",
   "execution_count": 3,
   "id": "fa3f0049",
   "metadata": {
    "execution": {
     "iopub.execute_input": "2022-03-22T04:32:30.312392Z",
     "iopub.status.busy": "2022-03-22T04:32:30.311628Z",
     "iopub.status.idle": "2022-03-22T04:32:30.335757Z",
     "shell.execute_reply": "2022-03-22T04:32:30.335006Z"
    },
    "papermill": {
     "duration": 0.053571,
     "end_time": "2022-03-22T04:32:30.335921",
     "exception": false,
     "start_time": "2022-03-22T04:32:30.282350",
     "status": "completed"
    },
    "tags": [
     "parameters"
    ]
   },
   "outputs": [],
   "source": [
    "from steves_utils.CORES.utils import (\n",
    "    ALL_NODES,\n",
    "    ALL_NODES_MINIMUM_1000_EXAMPLES,\n",
    "    ALL_DAYS\n",
    ")\n",
    "\n",
    "from steves_utils.ORACLE.utils_v2 import (\n",
    "    ALL_DISTANCES_FEET_NARROWED,\n",
    "    ALL_RUNS,\n",
    "    ALL_SERIAL_NUMBERS,\n",
    ")\n",
    "\n",
    "standalone_parameters = {}\n",
    "standalone_parameters[\"experiment_name\"] = \"STANDALONE PTN\"\n",
    "standalone_parameters[\"lr\"] = 0.001\n",
    "standalone_parameters[\"device\"] = \"cuda\"\n",
    "\n",
    "standalone_parameters[\"seed\"] = 1337\n",
    "standalone_parameters[\"dataset_seed\"] = 1337\n",
    "\n",
    "standalone_parameters[\"n_way\"] = 8\n",
    "standalone_parameters[\"n_shot\"] = 3\n",
    "standalone_parameters[\"n_query\"]  = 2\n",
    "standalone_parameters[\"train_k_factor\"] = 1\n",
    "standalone_parameters[\"val_k_factor\"] = 2\n",
    "standalone_parameters[\"test_k_factor\"] = 2\n",
    "\n",
    "\n",
    "standalone_parameters[\"n_epoch\"] = 50\n",
    "\n",
    "standalone_parameters[\"patience\"] = 10\n",
    "standalone_parameters[\"criteria_for_best\"] = \"source_loss\"\n",
    "\n",
    "standalone_parameters[\"datasets\"] = [\n",
    "    {\n",
    "        \"labels\": ALL_SERIAL_NUMBERS,\n",
    "        \"domains\": ALL_DISTANCES_FEET_NARROWED,\n",
    "        \"num_examples_per_domain_per_label\": 100,\n",
    "        \"pickle_path\": os.path.join(get_datasets_base_path(), \"oracle.Run1_framed_2000Examples_stratified_ds.2022A.pkl\"),\n",
    "        \"source_or_target_dataset\": \"source\",\n",
    "        \"x_transforms\": [\"unit_mag\", \"minus_two\"],\n",
    "        \"episode_transforms\": [],\n",
    "        \"domain_prefix\": \"ORACLE_\"\n",
    "    },\n",
    "    {\n",
    "        \"labels\": ALL_NODES,\n",
    "        \"domains\": ALL_DAYS,\n",
    "        \"num_examples_per_domain_per_label\": 100,\n",
    "        \"pickle_path\": os.path.join(get_datasets_base_path(), \"cores.stratified_ds.2022A.pkl\"),\n",
    "        \"source_or_target_dataset\": \"target\",\n",
    "        \"x_transforms\": [\"unit_power\", \"times_zero\"],\n",
    "        \"episode_transforms\": [],\n",
    "        \"domain_prefix\": \"CORES_\"\n",
    "    }   \n",
    "]\n",
    "\n",
    "standalone_parameters[\"torch_default_dtype\"] = \"torch.float32\" \n",
    "\n",
    "\n",
    "\n",
    "standalone_parameters[\"x_net\"] =     [\n",
    "    {\"class\": \"nnReshape\", \"kargs\": {\"shape\":[-1, 1, 2, 256]}},\n",
    "    {\"class\": \"Conv2d\", \"kargs\": { \"in_channels\":1, \"out_channels\":256, \"kernel_size\":(1,7), \"bias\":False, \"padding\":(0,3), },},\n",
    "    {\"class\": \"ReLU\", \"kargs\": {\"inplace\": True}},\n",
    "    {\"class\": \"BatchNorm2d\", \"kargs\": {\"num_features\":256}},\n",
    "\n",
    "    {\"class\": \"Conv2d\", \"kargs\": { \"in_channels\":256, \"out_channels\":80, \"kernel_size\":(2,7), \"bias\":True, \"padding\":(0,3), },},\n",
    "    {\"class\": \"ReLU\", \"kargs\": {\"inplace\": True}},\n",
    "    {\"class\": \"BatchNorm2d\", \"kargs\": {\"num_features\":80}},\n",
    "    {\"class\": \"Flatten\", \"kargs\": {}},\n",
    "\n",
    "    {\"class\": \"Linear\", \"kargs\": {\"in_features\": 80*256, \"out_features\": 256}}, # 80 units per IQ pair\n",
    "    {\"class\": \"ReLU\", \"kargs\": {\"inplace\": True}},\n",
    "    {\"class\": \"BatchNorm1d\", \"kargs\": {\"num_features\":256}},\n",
    "\n",
    "    {\"class\": \"Linear\", \"kargs\": {\"in_features\": 256, \"out_features\": 256}},\n",
    "]\n",
    "\n",
    "# Parameters relevant to results\n",
    "# These parameters will basically never need to change\n",
    "standalone_parameters[\"NUM_LOGS_PER_EPOCH\"] = 10\n",
    "standalone_parameters[\"BEST_MODEL_PATH\"] = \"./best_model.pth\"\n",
    "\n",
    "\n",
    "\n",
    "\n"
   ]
  },
  {
   "cell_type": "code",
   "execution_count": 4,
   "id": "4580f72d",
   "metadata": {
    "execution": {
     "iopub.execute_input": "2022-03-22T04:32:30.394666Z",
     "iopub.status.busy": "2022-03-22T04:32:30.393578Z",
     "iopub.status.idle": "2022-03-22T04:32:30.415224Z",
     "shell.execute_reply": "2022-03-22T04:32:30.415933Z"
    },
    "papermill": {
     "duration": 0.052199,
     "end_time": "2022-03-22T04:32:30.416153",
     "exception": false,
     "start_time": "2022-03-22T04:32:30.363954",
     "status": "completed"
    },
    "tags": [
     "injected-parameters"
    ]
   },
   "outputs": [],
   "source": [
    "# Parameters\n",
    "parameters = {\n",
    "    \"experiment_name\": \"tl_1v2:cores-oracle.run1.limited\",\n",
    "    \"device\": \"cuda\",\n",
    "    \"lr\": 0.0001,\n",
    "    \"n_shot\": 3,\n",
    "    \"n_query\": 2,\n",
    "    \"train_k_factor\": 3,\n",
    "    \"val_k_factor\": 2,\n",
    "    \"test_k_factor\": 2,\n",
    "    \"torch_default_dtype\": \"torch.float32\",\n",
    "    \"n_epoch\": 50,\n",
    "    \"patience\": 3,\n",
    "    \"criteria_for_best\": \"target_accuracy\",\n",
    "    \"x_net\": [\n",
    "        {\"class\": \"nnReshape\", \"kargs\": {\"shape\": [-1, 1, 2, 256]}},\n",
    "        {\n",
    "            \"class\": \"Conv2d\",\n",
    "            \"kargs\": {\n",
    "                \"in_channels\": 1,\n",
    "                \"out_channels\": 256,\n",
    "                \"kernel_size\": [1, 7],\n",
    "                \"bias\": False,\n",
    "                \"padding\": [0, 3],\n",
    "            },\n",
    "        },\n",
    "        {\"class\": \"ReLU\", \"kargs\": {\"inplace\": True}},\n",
    "        {\"class\": \"BatchNorm2d\", \"kargs\": {\"num_features\": 256}},\n",
    "        {\n",
    "            \"class\": \"Conv2d\",\n",
    "            \"kargs\": {\n",
    "                \"in_channels\": 256,\n",
    "                \"out_channels\": 80,\n",
    "                \"kernel_size\": [2, 7],\n",
    "                \"bias\": True,\n",
    "                \"padding\": [0, 3],\n",
    "            },\n",
    "        },\n",
    "        {\"class\": \"ReLU\", \"kargs\": {\"inplace\": True}},\n",
    "        {\"class\": \"BatchNorm2d\", \"kargs\": {\"num_features\": 80}},\n",
    "        {\"class\": \"Flatten\", \"kargs\": {}},\n",
    "        {\"class\": \"Linear\", \"kargs\": {\"in_features\": 20480, \"out_features\": 256}},\n",
    "        {\"class\": \"ReLU\", \"kargs\": {\"inplace\": True}},\n",
    "        {\"class\": \"BatchNorm1d\", \"kargs\": {\"num_features\": 256}},\n",
    "        {\"class\": \"Linear\", \"kargs\": {\"in_features\": 256, \"out_features\": 256}},\n",
    "    ],\n",
    "    \"NUM_LOGS_PER_EPOCH\": 10,\n",
    "    \"BEST_MODEL_PATH\": \"./best_model.pth\",\n",
    "    \"n_way\": 16,\n",
    "    \"datasets\": [\n",
    "        {\n",
    "            \"labels\": [\n",
    "                \"1-10.\",\n",
    "                \"1-11.\",\n",
    "                \"1-15.\",\n",
    "                \"1-16.\",\n",
    "                \"1-17.\",\n",
    "                \"1-18.\",\n",
    "                \"1-19.\",\n",
    "                \"10-4.\",\n",
    "                \"10-7.\",\n",
    "                \"11-1.\",\n",
    "                \"11-14.\",\n",
    "                \"11-17.\",\n",
    "                \"11-20.\",\n",
    "                \"11-7.\",\n",
    "                \"13-20.\",\n",
    "                \"13-8.\",\n",
    "                \"14-10.\",\n",
    "                \"14-11.\",\n",
    "                \"14-14.\",\n",
    "                \"14-7.\",\n",
    "                \"15-1.\",\n",
    "                \"15-20.\",\n",
    "                \"16-1.\",\n",
    "                \"16-16.\",\n",
    "                \"17-10.\",\n",
    "                \"17-11.\",\n",
    "                \"17-2.\",\n",
    "                \"19-1.\",\n",
    "                \"19-16.\",\n",
    "                \"19-19.\",\n",
    "                \"19-20.\",\n",
    "                \"19-3.\",\n",
    "                \"2-10.\",\n",
    "                \"2-11.\",\n",
    "                \"2-17.\",\n",
    "                \"2-18.\",\n",
    "                \"2-20.\",\n",
    "                \"2-3.\",\n",
    "                \"2-4.\",\n",
    "                \"2-5.\",\n",
    "                \"2-6.\",\n",
    "                \"2-7.\",\n",
    "                \"2-8.\",\n",
    "                \"3-13.\",\n",
    "                \"3-18.\",\n",
    "                \"3-3.\",\n",
    "                \"4-1.\",\n",
    "                \"4-10.\",\n",
    "                \"4-11.\",\n",
    "                \"4-19.\",\n",
    "                \"5-5.\",\n",
    "                \"6-15.\",\n",
    "                \"7-10.\",\n",
    "                \"7-14.\",\n",
    "                \"8-18.\",\n",
    "                \"8-20.\",\n",
    "                \"8-3.\",\n",
    "                \"8-8.\",\n",
    "            ],\n",
    "            \"domains\": [1, 2, 3, 4, 5],\n",
    "            \"num_examples_per_domain_per_label\": -1,\n",
    "            \"pickle_path\": \"/root/csc500-main/datasets/cores.stratified_ds.2022A.pkl\",\n",
    "            \"source_or_target_dataset\": \"target\",\n",
    "            \"x_transforms\": [\"unit_mag\"],\n",
    "            \"episode_transforms\": [],\n",
    "            \"domain_prefix\": \"CORES_\",\n",
    "        },\n",
    "        {\n",
    "            \"labels\": [\n",
    "                \"3123D52\",\n",
    "                \"3123D65\",\n",
    "                \"3123D79\",\n",
    "                \"3123D80\",\n",
    "                \"3123D54\",\n",
    "                \"3123D70\",\n",
    "                \"3123D7B\",\n",
    "                \"3123D89\",\n",
    "                \"3123D58\",\n",
    "                \"3123D76\",\n",
    "                \"3123D7D\",\n",
    "                \"3123EFE\",\n",
    "                \"3123D64\",\n",
    "                \"3123D78\",\n",
    "                \"3123D7E\",\n",
    "                \"3124E4A\",\n",
    "            ],\n",
    "            \"domains\": [32, 38, 8, 44, 14, 50, 20, 26],\n",
    "            \"num_examples_per_domain_per_label\": 2000,\n",
    "            \"pickle_path\": \"/root/csc500-main/datasets/oracle.Run1_10kExamples_stratified_ds.2022A.pkl\",\n",
    "            \"source_or_target_dataset\": \"source\",\n",
    "            \"x_transforms\": [\"unit_mag\"],\n",
    "            \"episode_transforms\": [],\n",
    "            \"domain_prefix\": \"ORACLE.run1_\",\n",
    "        },\n",
    "    ],\n",
    "    \"dataset_seed\": 1337,\n",
    "    \"seed\": 1337,\n",
    "}\n"
   ]
  },
  {
   "cell_type": "code",
   "execution_count": 5,
   "id": "8fa1cc33",
   "metadata": {
    "execution": {
     "iopub.execute_input": "2022-03-22T04:32:30.468726Z",
     "iopub.status.busy": "2022-03-22T04:32:30.468342Z",
     "iopub.status.idle": "2022-03-22T04:32:30.492083Z",
     "shell.execute_reply": "2022-03-22T04:32:30.491352Z"
    },
    "papermill": {
     "duration": 0.049192,
     "end_time": "2022-03-22T04:32:30.492265",
     "exception": false,
     "start_time": "2022-03-22T04:32:30.443073",
     "status": "completed"
    },
    "tags": []
   },
   "outputs": [],
   "source": [
    "# Set this to True if you want to run this template directly\n",
    "STANDALONE = False\n",
    "if STANDALONE:\n",
    "    print(\"parameters not injected, running with standalone_parameters\")\n",
    "    parameters = standalone_parameters\n",
    "\n",
    "if not 'parameters' in locals() and not 'parameters' in globals():\n",
    "    raise Exception(\"Parameter injection failed\")\n",
    "\n",
    "#Use an easy dict for all the parameters\n",
    "p = EasyDict(parameters)\n",
    "\n",
    "if \"x_shape\" not in p:\n",
    "    p.x_shape = [2,256] # Default to this if we dont supply x_shape\n",
    "\n",
    "\n",
    "supplied_keys = set(p.keys())\n",
    "\n",
    "if  supplied_keys != required_parameters:\n",
    "    print(\"Parameters are incorrect\")\n",
    "    if len(supplied_keys - required_parameters)>0: print(\"Shouldn't have:\", str(supplied_keys - required_parameters))\n",
    "    if len(required_parameters - supplied_keys)>0: print(\"Need to have:\", str(required_parameters - supplied_keys))\n",
    "    raise RuntimeError(\"Parameters are incorrect\")"
   ]
  },
  {
   "cell_type": "code",
   "execution_count": 6,
   "id": "3a028d58",
   "metadata": {
    "execution": {
     "iopub.execute_input": "2022-03-22T04:32:30.541212Z",
     "iopub.status.busy": "2022-03-22T04:32:30.540747Z",
     "iopub.status.idle": "2022-03-22T04:32:30.564645Z",
     "shell.execute_reply": "2022-03-22T04:32:30.563910Z"
    },
    "papermill": {
     "duration": 0.047717,
     "end_time": "2022-03-22T04:32:30.564817",
     "exception": false,
     "start_time": "2022-03-22T04:32:30.517100",
     "status": "completed"
    },
    "tags": []
   },
   "outputs": [],
   "source": [
    "###################################\n",
    "# Set the RNGs and make it all deterministic\n",
    "###################################\n",
    "np.random.seed(p.seed)\n",
    "random.seed(p.seed)\n",
    "torch.manual_seed(p.seed)\n",
    "\n",
    "torch.use_deterministic_algorithms(True) "
   ]
  },
  {
   "cell_type": "code",
   "execution_count": 7,
   "id": "b691acf6",
   "metadata": {
    "execution": {
     "iopub.execute_input": "2022-03-22T04:32:30.618408Z",
     "iopub.status.busy": "2022-03-22T04:32:30.618031Z",
     "iopub.status.idle": "2022-03-22T04:32:30.643467Z",
     "shell.execute_reply": "2022-03-22T04:32:30.644196Z"
    },
    "papermill": {
     "duration": 0.05016,
     "end_time": "2022-03-22T04:32:30.644415",
     "exception": false,
     "start_time": "2022-03-22T04:32:30.594255",
     "status": "completed"
    },
    "tags": []
   },
   "outputs": [],
   "source": [
    "###########################################\n",
    "# The stratified datasets honor this\n",
    "###########################################\n",
    "torch.set_default_dtype(eval(p.torch_default_dtype))"
   ]
  },
  {
   "cell_type": "code",
   "execution_count": 8,
   "id": "b5fba671",
   "metadata": {
    "execution": {
     "iopub.execute_input": "2022-03-22T04:32:30.695296Z",
     "iopub.status.busy": "2022-03-22T04:32:30.694925Z",
     "iopub.status.idle": "2022-03-22T04:32:30.752840Z",
     "shell.execute_reply": "2022-03-22T04:32:30.753520Z"
    },
    "papermill": {
     "duration": 0.082581,
     "end_time": "2022-03-22T04:32:30.753727",
     "exception": false,
     "start_time": "2022-03-22T04:32:30.671146",
     "status": "completed"
    },
    "tags": []
   },
   "outputs": [],
   "source": [
    "###################################\n",
    "# Build the network(s)\n",
    "# Note: It's critical to do this AFTER setting the RNG\n",
    "###################################\n",
    "x_net = build_sequential(p.x_net)"
   ]
  },
  {
   "cell_type": "code",
   "execution_count": 9,
   "id": "5d7e61cc",
   "metadata": {
    "execution": {
     "iopub.execute_input": "2022-03-22T04:32:30.802495Z",
     "iopub.status.busy": "2022-03-22T04:32:30.802129Z",
     "iopub.status.idle": "2022-03-22T04:32:30.824239Z",
     "shell.execute_reply": "2022-03-22T04:32:30.823374Z"
    },
    "papermill": {
     "duration": 0.045303,
     "end_time": "2022-03-22T04:32:30.824401",
     "exception": false,
     "start_time": "2022-03-22T04:32:30.779098",
     "status": "completed"
    },
    "tags": []
   },
   "outputs": [],
   "source": [
    "start_time_secs = time.time()"
   ]
  },
  {
   "cell_type": "code",
   "execution_count": 10,
   "id": "c6b67dfd",
   "metadata": {
    "execution": {
     "iopub.execute_input": "2022-03-22T04:32:30.876476Z",
     "iopub.status.busy": "2022-03-22T04:32:30.875908Z",
     "iopub.status.idle": "2022-03-22T04:32:30.900447Z",
     "shell.execute_reply": "2022-03-22T04:32:30.899725Z"
    },
    "papermill": {
     "duration": 0.049527,
     "end_time": "2022-03-22T04:32:30.900609",
     "exception": false,
     "start_time": "2022-03-22T04:32:30.851082",
     "status": "completed"
    },
    "tags": []
   },
   "outputs": [],
   "source": [
    "p.domains_source = []\n",
    "p.domains_target = []\n",
    "\n",
    "\n",
    "train_original_source = []\n",
    "val_original_source   = []\n",
    "test_original_source  = []\n",
    "\n",
    "train_original_target = []\n",
    "val_original_target   = []\n",
    "test_original_target  = []"
   ]
  },
  {
   "cell_type": "code",
   "execution_count": 11,
   "id": "e3d9c3d3",
   "metadata": {
    "execution": {
     "iopub.execute_input": "2022-03-22T04:32:30.953090Z",
     "iopub.status.busy": "2022-03-22T04:32:30.952721Z",
     "iopub.status.idle": "2022-03-22T04:32:30.976582Z",
     "shell.execute_reply": "2022-03-22T04:32:30.975866Z"
    },
    "papermill": {
     "duration": 0.047121,
     "end_time": "2022-03-22T04:32:30.976743",
     "exception": false,
     "start_time": "2022-03-22T04:32:30.929622",
     "status": "completed"
    },
    "tags": []
   },
   "outputs": [],
   "source": [
    "# global_x_transform_func = lambda x: normalize(x.to(torch.get_default_dtype()), \"unit_power\") # unit_power, unit_mag\n",
    "# global_x_transform_func = lambda x: normalize(x, \"unit_power\") # unit_power, unit_mag"
   ]
  },
  {
   "cell_type": "code",
   "execution_count": 12,
   "id": "acb78fd2",
   "metadata": {
    "execution": {
     "iopub.execute_input": "2022-03-22T04:32:31.033234Z",
     "iopub.status.busy": "2022-03-22T04:32:31.032644Z",
     "iopub.status.idle": "2022-03-22T04:32:31.053160Z",
     "shell.execute_reply": "2022-03-22T04:32:31.053840Z"
    },
    "papermill": {
     "duration": 0.048536,
     "end_time": "2022-03-22T04:32:31.054037",
     "exception": false,
     "start_time": "2022-03-22T04:32:31.005501",
     "status": "completed"
    },
    "tags": []
   },
   "outputs": [],
   "source": [
    "def add_dataset(\n",
    "    labels,\n",
    "    domains,\n",
    "    pickle_path,\n",
    "    x_transforms,\n",
    "    episode_transforms,\n",
    "    domain_prefix,\n",
    "    num_examples_per_domain_per_label,\n",
    "    source_or_target_dataset:str,\n",
    "    iterator_seed=p.seed,\n",
    "    dataset_seed=p.dataset_seed,\n",
    "    n_shot=p.n_shot,\n",
    "    n_way=p.n_way,\n",
    "    n_query=p.n_query,\n",
    "    train_val_test_k_factors=(p.train_k_factor,p.val_k_factor,p.test_k_factor),\n",
    "):\n",
    "   \n",
    "    if x_transforms == []: x_transform = None\n",
    "    else: x_transform = get_chained_transform(x_transforms)\n",
    "    \n",
    "    if episode_transforms == []: episode_transform = None\n",
    "    else: raise Exception(\"episode_transforms not implemented\")\n",
    "    \n",
    "    episode_transform = lambda tup, _prefix=domain_prefix: (_prefix + str(tup[0]), tup[1])\n",
    "\n",
    "\n",
    "    eaf = Episodic_Accessor_Factory(\n",
    "        labels=labels,\n",
    "        domains=domains,\n",
    "        num_examples_per_domain_per_label=num_examples_per_domain_per_label,\n",
    "        iterator_seed=iterator_seed,\n",
    "        dataset_seed=dataset_seed,\n",
    "        n_shot=n_shot,\n",
    "        n_way=n_way,\n",
    "        n_query=n_query,\n",
    "        train_val_test_k_factors=train_val_test_k_factors,\n",
    "        pickle_path=pickle_path,\n",
    "        x_transform_func=x_transform,\n",
    "    )\n",
    "\n",
    "    train, val, test = eaf.get_train(), eaf.get_val(), eaf.get_test()\n",
    "    train = Lazy_Iterable_Wrapper(train, episode_transform)\n",
    "    val = Lazy_Iterable_Wrapper(val, episode_transform)\n",
    "    test = Lazy_Iterable_Wrapper(test, episode_transform)\n",
    "\n",
    "    if source_or_target_dataset==\"source\":\n",
    "        train_original_source.append(train)\n",
    "        val_original_source.append(val)\n",
    "        test_original_source.append(test)\n",
    "\n",
    "        p.domains_source.extend(\n",
    "            [domain_prefix + str(u) for u in domains]\n",
    "        )\n",
    "    elif source_or_target_dataset==\"target\":\n",
    "        train_original_target.append(train)\n",
    "        val_original_target.append(val)\n",
    "        test_original_target.append(test)\n",
    "        p.domains_target.extend(\n",
    "            [domain_prefix + str(u) for u in domains]\n",
    "        )\n",
    "    else:\n",
    "        raise Exception(f\"invalid source_or_target_dataset: {source_or_target_dataset}\")\n",
    "    "
   ]
  },
  {
   "cell_type": "code",
   "execution_count": 13,
   "id": "fe266617",
   "metadata": {
    "execution": {
     "iopub.execute_input": "2022-03-22T04:32:31.102611Z",
     "iopub.status.busy": "2022-03-22T04:32:31.102243Z",
     "iopub.status.idle": "2022-03-22T04:33:17.551772Z",
     "shell.execute_reply": "2022-03-22T04:33:17.551330Z"
    },
    "papermill": {
     "duration": 46.472197,
     "end_time": "2022-03-22T04:33:17.551875",
     "exception": false,
     "start_time": "2022-03-22T04:32:31.079678",
     "status": "completed"
    },
    "tags": []
   },
   "outputs": [],
   "source": [
    "for ds in p.datasets:\n",
    "    add_dataset(**ds)"
   ]
  },
  {
   "cell_type": "code",
   "execution_count": 14,
   "id": "b90d65ac",
   "metadata": {
    "execution": {
     "iopub.execute_input": "2022-03-22T04:33:17.605086Z",
     "iopub.status.busy": "2022-03-22T04:33:17.604705Z",
     "iopub.status.idle": "2022-03-22T04:33:17.630602Z",
     "shell.execute_reply": "2022-03-22T04:33:17.629822Z"
    },
    "papermill": {
     "duration": 0.051154,
     "end_time": "2022-03-22T04:33:17.630774",
     "exception": false,
     "start_time": "2022-03-22T04:33:17.579620",
     "status": "completed"
    },
    "tags": []
   },
   "outputs": [],
   "source": [
    "# from steves_utils.CORES.utils import (\n",
    "#     ALL_NODES,\n",
    "#     ALL_NODES_MINIMUM_1000_EXAMPLES,\n",
    "#     ALL_DAYS\n",
    "# )\n",
    "\n",
    "# add_dataset(\n",
    "#     labels=ALL_NODES,\n",
    "#     domains = ALL_DAYS,\n",
    "#     num_examples_per_domain_per_label=100,\n",
    "#     pickle_path=os.path.join(get_datasets_base_path(), \"cores.stratified_ds.2022A.pkl\"),\n",
    "#     source_or_target_dataset=\"target\",\n",
    "#     x_transform_func=global_x_transform_func,\n",
    "#     domain_modifier=lambda u: f\"cores_{u}\"\n",
    "# )"
   ]
  },
  {
   "cell_type": "code",
   "execution_count": 15,
   "id": "76db484d",
   "metadata": {
    "execution": {
     "iopub.execute_input": "2022-03-22T04:33:17.681818Z",
     "iopub.status.busy": "2022-03-22T04:33:17.681223Z",
     "iopub.status.idle": "2022-03-22T04:33:17.700165Z",
     "shell.execute_reply": "2022-03-22T04:33:17.699283Z"
    },
    "papermill": {
     "duration": 0.043283,
     "end_time": "2022-03-22T04:33:17.700348",
     "exception": false,
     "start_time": "2022-03-22T04:33:17.657065",
     "status": "completed"
    },
    "tags": []
   },
   "outputs": [],
   "source": [
    "# from steves_utils.ORACLE.utils_v2 import (\n",
    "#     ALL_DISTANCES_FEET,\n",
    "#     ALL_RUNS,\n",
    "#     ALL_SERIAL_NUMBERS,\n",
    "# )\n",
    "\n",
    "\n",
    "# add_dataset(\n",
    "#     labels=ALL_SERIAL_NUMBERS,\n",
    "#     domains = list(set(ALL_DISTANCES_FEET) - {2,62}),\n",
    "#     num_examples_per_domain_per_label=100,\n",
    "#     pickle_path=os.path.join(get_datasets_base_path(), \"oracle.Run2_framed_2000Examples_stratified_ds.2022A.pkl\"),\n",
    "#     source_or_target_dataset=\"source\",\n",
    "#     x_transform_func=global_x_transform_func,\n",
    "#     domain_modifier=lambda u: f\"oracle1_{u}\"\n",
    "# )\n"
   ]
  },
  {
   "cell_type": "code",
   "execution_count": 16,
   "id": "97dea9d2",
   "metadata": {
    "execution": {
     "iopub.execute_input": "2022-03-22T04:33:17.751481Z",
     "iopub.status.busy": "2022-03-22T04:33:17.751087Z",
     "iopub.status.idle": "2022-03-22T04:33:17.768554Z",
     "shell.execute_reply": "2022-03-22T04:33:17.767702Z"
    },
    "papermill": {
     "duration": 0.040581,
     "end_time": "2022-03-22T04:33:17.768730",
     "exception": false,
     "start_time": "2022-03-22T04:33:17.728149",
     "status": "completed"
    },
    "tags": []
   },
   "outputs": [],
   "source": [
    "# from steves_utils.ORACLE.utils_v2 import (\n",
    "#     ALL_DISTANCES_FEET,\n",
    "#     ALL_RUNS,\n",
    "#     ALL_SERIAL_NUMBERS,\n",
    "# )\n",
    "\n",
    "\n",
    "# add_dataset(\n",
    "#     labels=ALL_SERIAL_NUMBERS,\n",
    "#     domains = list(set(ALL_DISTANCES_FEET) - {2,62,56}),\n",
    "#     num_examples_per_domain_per_label=100,\n",
    "#     pickle_path=os.path.join(get_datasets_base_path(), \"oracle.Run2_framed_2000Examples_stratified_ds.2022A.pkl\"),\n",
    "#     source_or_target_dataset=\"source\",\n",
    "#     x_transform_func=global_x_transform_func,\n",
    "#     domain_modifier=lambda u: f\"oracle2_{u}\"\n",
    "# )"
   ]
  },
  {
   "cell_type": "code",
   "execution_count": 17,
   "id": "6f289866",
   "metadata": {
    "execution": {
     "iopub.execute_input": "2022-03-22T04:33:17.820377Z",
     "iopub.status.busy": "2022-03-22T04:33:17.819985Z",
     "iopub.status.idle": "2022-03-22T04:33:17.840638Z",
     "shell.execute_reply": "2022-03-22T04:33:17.839795Z"
    },
    "papermill": {
     "duration": 0.044215,
     "end_time": "2022-03-22T04:33:17.840812",
     "exception": false,
     "start_time": "2022-03-22T04:33:17.796597",
     "status": "completed"
    },
    "tags": []
   },
   "outputs": [],
   "source": [
    "# add_dataset(\n",
    "#     labels=list(range(19)),\n",
    "#     domains = [0,1,2],\n",
    "#     num_examples_per_domain_per_label=100,\n",
    "#     pickle_path=os.path.join(get_datasets_base_path(), \"metehan.stratified_ds.2022A.pkl\"),\n",
    "#     source_or_target_dataset=\"target\",\n",
    "#     x_transform_func=global_x_transform_func,\n",
    "#     domain_modifier=lambda u: f\"met_{u}\"\n",
    "# )"
   ]
  },
  {
   "cell_type": "code",
   "execution_count": 18,
   "id": "86a863c3",
   "metadata": {
    "execution": {
     "iopub.execute_input": "2022-03-22T04:33:17.899286Z",
     "iopub.status.busy": "2022-03-22T04:33:17.898900Z",
     "iopub.status.idle": "2022-03-22T04:33:17.915351Z",
     "shell.execute_reply": "2022-03-22T04:33:17.916057Z"
    },
    "papermill": {
     "duration": 0.041009,
     "end_time": "2022-03-22T04:33:17.916256",
     "exception": false,
     "start_time": "2022-03-22T04:33:17.875247",
     "status": "completed"
    },
    "tags": []
   },
   "outputs": [],
   "source": [
    "# # from steves_utils.wisig.utils import (\n",
    "# #     ALL_NODES_MINIMUM_100_EXAMPLES,\n",
    "# #     ALL_NODES_MINIMUM_500_EXAMPLES,\n",
    "# #     ALL_NODES_MINIMUM_1000_EXAMPLES,\n",
    "# #     ALL_DAYS\n",
    "# # )\n",
    "\n",
    "# import steves_utils.wisig.utils as wisig\n",
    "\n",
    "\n",
    "# add_dataset(\n",
    "#     labels=wisig.ALL_NODES_MINIMUM_100_EXAMPLES,\n",
    "#     domains = wisig.ALL_DAYS,\n",
    "#     num_examples_per_domain_per_label=100,\n",
    "#     pickle_path=os.path.join(get_datasets_base_path(), \"wisig.node3-19.stratified_ds.2022A.pkl\"),\n",
    "#     source_or_target_dataset=\"target\",\n",
    "#     x_transform_func=global_x_transform_func,\n",
    "#     domain_modifier=lambda u: f\"wisig_{u}\"\n",
    "# )"
   ]
  },
  {
   "cell_type": "code",
   "execution_count": 19,
   "id": "fd5442bc",
   "metadata": {
    "execution": {
     "iopub.execute_input": "2022-03-22T04:33:17.976837Z",
     "iopub.status.busy": "2022-03-22T04:33:17.976068Z",
     "iopub.status.idle": "2022-03-22T04:33:17.995395Z",
     "shell.execute_reply": "2022-03-22T04:33:17.994577Z"
    },
    "papermill": {
     "duration": 0.049734,
     "end_time": "2022-03-22T04:33:17.995577",
     "exception": false,
     "start_time": "2022-03-22T04:33:17.945843",
     "status": "completed"
    },
    "tags": []
   },
   "outputs": [],
   "source": [
    "###################################\n",
    "# Build the dataset\n",
    "###################################\n",
    "train_original_source = Iterable_Aggregator(train_original_source, p.seed)\n",
    "val_original_source = Iterable_Aggregator(val_original_source, p.seed)\n",
    "test_original_source = Iterable_Aggregator(test_original_source, p.seed)\n",
    "\n",
    "\n",
    "train_original_target = Iterable_Aggregator(train_original_target, p.seed)\n",
    "val_original_target = Iterable_Aggregator(val_original_target, p.seed)\n",
    "test_original_target = Iterable_Aggregator(test_original_target, p.seed)\n",
    "\n",
    "# For CNN We only use X and Y. And we only train on the source.\n",
    "# Properly form the data using a transform lambda and Lazy_Iterable_Wrapper. Finally wrap them in a dataloader\n",
    "\n",
    "transform_lambda = lambda ex: ex[1] # Original is (<domain>, <episode>) so we strip down to episode only\n",
    "\n",
    "train_processed_source = Lazy_Iterable_Wrapper(train_original_source, transform_lambda)\n",
    "val_processed_source   = Lazy_Iterable_Wrapper(val_original_source, transform_lambda)\n",
    "test_processed_source  = Lazy_Iterable_Wrapper(test_original_source, transform_lambda)\n",
    "\n",
    "train_processed_target = Lazy_Iterable_Wrapper(train_original_target, transform_lambda)\n",
    "val_processed_target   = Lazy_Iterable_Wrapper(val_original_target, transform_lambda)\n",
    "test_processed_target  = Lazy_Iterable_Wrapper(test_original_target, transform_lambda)\n",
    "\n",
    "datasets = EasyDict({\n",
    "    \"source\": {\n",
    "        \"original\": {\"train\":train_original_source, \"val\":val_original_source, \"test\":test_original_source},\n",
    "        \"processed\": {\"train\":train_processed_source, \"val\":val_processed_source, \"test\":test_processed_source}\n",
    "    },\n",
    "    \"target\": {\n",
    "        \"original\": {\"train\":train_original_target, \"val\":val_original_target, \"test\":test_original_target},\n",
    "        \"processed\": {\"train\":train_processed_target, \"val\":val_processed_target, \"test\":test_processed_target}\n",
    "    },\n",
    "})"
   ]
  },
  {
   "cell_type": "code",
   "execution_count": 20,
   "id": "5b3c01fc",
   "metadata": {
    "execution": {
     "iopub.execute_input": "2022-03-22T04:33:18.051195Z",
     "iopub.status.busy": "2022-03-22T04:33:18.050817Z",
     "iopub.status.idle": "2022-03-22T04:33:35.371366Z",
     "shell.execute_reply": "2022-03-22T04:33:35.370493Z"
    },
    "papermill": {
     "duration": 17.347781,
     "end_time": "2022-03-22T04:33:35.371599",
     "exception": false,
     "start_time": "2022-03-22T04:33:18.023818",
     "status": "completed"
    },
    "tags": []
   },
   "outputs": [
    {
     "name": "stdout",
     "output_type": "stream",
     "text": [
      "{'ORACLE.run1_38', 'ORACLE.run1_14', 'ORACLE.run1_8', 'ORACLE.run1_44', 'ORACLE.run1_26', 'ORACLE.run1_20', 'ORACLE.run1_32', 'ORACLE.run1_50'}\n"
     ]
    },
    {
     "name": "stdout",
     "output_type": "stream",
     "text": [
      "{'CORES_5', 'CORES_2', 'CORES_1', 'CORES_3', 'CORES_4'}\n"
     ]
    },
    {
     "name": "stdout",
     "output_type": "stream",
     "text": [
      "tensor([[[ 1.1692, -0.3795, -0.5538,  ..., -0.5641, -0.6872, -2.2051],\n",
      "         [ 0.2359,  0.6974,  0.7385,  ..., -0.0205, -0.3487, -0.2359]],\n",
      "\n",
      "        [[-0.1891,  0.2521, -0.2732,  ...,  0.1471, -0.3782, -0.5778],\n",
      "         [ 0.4097,  0.5148, -1.3973,  ...,  0.4202,  0.2521,  0.3572]],\n",
      "\n",
      "        [[ 0.3558, -0.1423,  0.0102,  ..., -0.7014, -0.4270, -0.7014],\n",
      "         [-0.9759,  0.0915,  0.4778,  ..., -0.5795, -0.8539,  0.8743]],\n",
      "\n",
      "        ...,\n",
      "\n",
      "        [[ 1.1792,  0.5177,  1.3086,  ..., -0.4746, -0.5608, -0.3308],\n",
      "         [-0.3883,  0.9132,  0.5824,  ..., -0.7837,  1.8695,  1.7904]],\n",
      "\n",
      "        [[-0.1060,  1.3495,  0.0353,  ..., -0.7066, -0.1978, -0.1413],\n",
      "         [-0.1554, -0.5441, -1.4131,  ..., -1.3001, -0.1272,  0.1908]],\n",
      "\n",
      "        [[-0.5448, -1.1828, -0.7455,  ...,  0.0645, -0.8889,  0.3298],\n",
      "         [ 0.2437,  0.1577, -0.1720,  ...,  0.0143,  0.6308, -1.0323]]])\n"
     ]
    }
   ],
   "source": [
    "from steves_utils.transforms import get_average_magnitude, get_average_power\n",
    "\n",
    "print(set([u for u,_ in val_original_source]))\n",
    "print(set([u for u,_ in val_original_target]))\n",
    "\n",
    "s_x, s_y, q_x, q_y, _ = next(iter(train_processed_source))\n",
    "print(s_x)\n",
    "\n",
    "# for ds in [\n",
    "#     train_processed_source,\n",
    "#     val_processed_source,\n",
    "#     test_processed_source,\n",
    "#     train_processed_target,\n",
    "#     val_processed_target,\n",
    "#     test_processed_target\n",
    "# ]:\n",
    "#     for s_x, s_y, q_x, q_y, _ in ds:\n",
    "#         for X in (s_x, q_x):\n",
    "#             for x in X:\n",
    "#                 assert np.isclose(get_average_magnitude(x.numpy()), 1.0)\n",
    "#                 assert np.isclose(get_average_power(x.numpy()), 1.0)\n",
    "                "
   ]
  },
  {
   "cell_type": "code",
   "execution_count": 21,
   "id": "bbdacba1",
   "metadata": {
    "execution": {
     "iopub.execute_input": "2022-03-22T04:33:35.427796Z",
     "iopub.status.busy": "2022-03-22T04:33:35.426912Z",
     "iopub.status.idle": "2022-03-22T04:33:35.676095Z",
     "shell.execute_reply": "2022-03-22T04:33:35.676821Z"
    },
    "papermill": {
     "duration": 0.276977,
     "end_time": "2022-03-22T04:33:35.677074",
     "exception": false,
     "start_time": "2022-03-22T04:33:35.400097",
     "status": "completed"
    },
    "tags": []
   },
   "outputs": [
    {
     "name": "stdout",
     "output_type": "stream",
     "text": [
      "(2, 256)\n"
     ]
    }
   ],
   "source": [
    "###################################\n",
    "# Build the model\n",
    "###################################\n",
    "# easfsl only wants a tuple for the shape\n",
    "model = Steves_Prototypical_Network(x_net, device=p.device, x_shape=tuple(p.x_shape))\n",
    "optimizer = Adam(params=model.parameters(), lr=p.lr)"
   ]
  },
  {
   "cell_type": "code",
   "execution_count": 22,
   "id": "22b39ac5",
   "metadata": {
    "execution": {
     "iopub.execute_input": "2022-03-22T04:33:35.733516Z",
     "iopub.status.busy": "2022-03-22T04:33:35.733130Z",
     "iopub.status.idle": "2022-03-22T05:00:34.152731Z",
     "shell.execute_reply": "2022-03-22T05:00:34.152389Z"
    },
    "papermill": {
     "duration": 1618.4483,
     "end_time": "2022-03-22T05:00:34.152812",
     "exception": false,
     "start_time": "2022-03-22T04:33:35.704512",
     "status": "completed"
    },
    "tags": []
   },
   "outputs": [
    {
     "name": "stdout",
     "output_type": "stream",
     "text": [
      "epoch: 1, [batch: 1 / 6720], examples_per_second: 31.5208, train_label_loss: 2.7719, \n"
     ]
    },
    {
     "name": "stdout",
     "output_type": "stream",
     "text": [
      "epoch: 1, [batch: 672 / 6720], examples_per_second: 2904.5207, train_label_loss: 2.7658, \n"
     ]
    },
    {
     "name": "stdout",
     "output_type": "stream",
     "text": [
      "epoch: 1, [batch: 1344 / 6720], examples_per_second: 3187.6838, train_label_loss: 1.4396, \n"
     ]
    },
    {
     "name": "stdout",
     "output_type": "stream",
     "text": [
      "epoch: 1, [batch: 2016 / 6720], examples_per_second: 2599.5558, train_label_loss: 1.6737, \n"
     ]
    },
    {
     "name": "stdout",
     "output_type": "stream",
     "text": [
      "epoch: 1, [batch: 2688 / 6720], examples_per_second: 2462.4495, train_label_loss: 2.1454, \n"
     ]
    },
    {
     "name": "stdout",
     "output_type": "stream",
     "text": [
      "epoch: 1, [batch: 3360 / 6720], examples_per_second: 2290.1026, train_label_loss: 1.6055, \n"
     ]
    },
    {
     "name": "stdout",
     "output_type": "stream",
     "text": [
      "epoch: 1, [batch: 4032 / 6720], examples_per_second: 2294.0587, train_label_loss: 1.3321, \n"
     ]
    },
    {
     "name": "stdout",
     "output_type": "stream",
     "text": [
      "epoch: 1, [batch: 4704 / 6720], examples_per_second: 2313.4636, train_label_loss: 0.9546, \n"
     ]
    },
    {
     "name": "stdout",
     "output_type": "stream",
     "text": [
      "epoch: 1, [batch: 5376 / 6720], examples_per_second: 2297.7682, train_label_loss: 0.8435, \n"
     ]
    },
    {
     "name": "stdout",
     "output_type": "stream",
     "text": [
      "epoch: 1, [batch: 6048 / 6720], examples_per_second: 2282.5848, train_label_loss: 1.6996, \n"
     ]
    },
    {
     "name": "stdout",
     "output_type": "stream",
     "text": [
      "=============================================================\n",
      "epoch: 1, source_val_acc_label: 0.5318, target_val_acc_label: 0.9457, source_val_label_loss: 1.2631, target_val_label_loss: 0.2142, \n",
      "=============================================================\n"
     ]
    },
    {
     "name": "stdout",
     "output_type": "stream",
     "text": [
      "New best\n"
     ]
    },
    {
     "name": "stdout",
     "output_type": "stream",
     "text": [
      "epoch: 2, [batch: 1 / 6720], examples_per_second: 2.0413, train_label_loss: 0.5604, \n"
     ]
    },
    {
     "name": "stdout",
     "output_type": "stream",
     "text": [
      "epoch: 2, [batch: 672 / 6720], examples_per_second: 2393.6021, train_label_loss: 0.8967, \n"
     ]
    },
    {
     "name": "stdout",
     "output_type": "stream",
     "text": [
      "epoch: 2, [batch: 1344 / 6720], examples_per_second: 2589.6751, train_label_loss: 0.8482, \n"
     ]
    },
    {
     "name": "stdout",
     "output_type": "stream",
     "text": [
      "epoch: 2, [batch: 2016 / 6720], examples_per_second: 2529.7454, train_label_loss: 0.6624, \n"
     ]
    },
    {
     "name": "stdout",
     "output_type": "stream",
     "text": [
      "epoch: 2, [batch: 2688 / 6720], examples_per_second: 2460.7294, train_label_loss: 0.9831, \n"
     ]
    },
    {
     "name": "stdout",
     "output_type": "stream",
     "text": [
      "epoch: 2, [batch: 3360 / 6720], examples_per_second: 2301.2992, train_label_loss: 0.9812, \n"
     ]
    },
    {
     "name": "stdout",
     "output_type": "stream",
     "text": [
      "epoch: 2, [batch: 4032 / 6720], examples_per_second: 2330.6210, train_label_loss: 0.9250, \n"
     ]
    },
    {
     "name": "stdout",
     "output_type": "stream",
     "text": [
      "epoch: 2, [batch: 4704 / 6720], examples_per_second: 2305.1778, train_label_loss: 1.5230, \n"
     ]
    },
    {
     "name": "stdout",
     "output_type": "stream",
     "text": [
      "epoch: 2, [batch: 5376 / 6720], examples_per_second: 2314.9724, train_label_loss: 1.2545, \n"
     ]
    },
    {
     "name": "stdout",
     "output_type": "stream",
     "text": [
      "epoch: 2, [batch: 6048 / 6720], examples_per_second: 2286.6022, train_label_loss: 1.0475, \n"
     ]
    },
    {
     "name": "stdout",
     "output_type": "stream",
     "text": [
      "=============================================================\n",
      "epoch: 2, source_val_acc_label: 0.5877, target_val_acc_label: 0.9604, source_val_label_loss: 1.0915, target_val_label_loss: 0.1735, \n",
      "=============================================================\n"
     ]
    },
    {
     "name": "stdout",
     "output_type": "stream",
     "text": [
      "New best\n"
     ]
    },
    {
     "name": "stdout",
     "output_type": "stream",
     "text": [
      "epoch: 3, [batch: 1 / 6720], examples_per_second: 2.2043, train_label_loss: 1.4064, \n"
     ]
    },
    {
     "name": "stdout",
     "output_type": "stream",
     "text": [
      "epoch: 3, [batch: 672 / 6720], examples_per_second: 2651.8274, train_label_loss: 0.7652, \n"
     ]
    },
    {
     "name": "stdout",
     "output_type": "stream",
     "text": [
      "epoch: 3, [batch: 1344 / 6720], examples_per_second: 2920.3789, train_label_loss: 0.7947, \n"
     ]
    },
    {
     "name": "stdout",
     "output_type": "stream",
     "text": [
      "epoch: 3, [batch: 2016 / 6720], examples_per_second: 2910.7602, train_label_loss: 0.4297, \n"
     ]
    },
    {
     "name": "stdout",
     "output_type": "stream",
     "text": [
      "epoch: 3, [batch: 2688 / 6720], examples_per_second: 2988.8167, train_label_loss: 0.9209, \n"
     ]
    },
    {
     "name": "stdout",
     "output_type": "stream",
     "text": [
      "epoch: 3, [batch: 3360 / 6720], examples_per_second: 2606.3884, train_label_loss: 1.5155, \n"
     ]
    },
    {
     "name": "stdout",
     "output_type": "stream",
     "text": [
      "epoch: 3, [batch: 4032 / 6720], examples_per_second: 2992.9422, train_label_loss: 1.2958, \n"
     ]
    },
    {
     "name": "stdout",
     "output_type": "stream",
     "text": [
      "epoch: 3, [batch: 4704 / 6720], examples_per_second: 2400.1212, train_label_loss: 0.5380, \n"
     ]
    },
    {
     "name": "stdout",
     "output_type": "stream",
     "text": [
      "epoch: 3, [batch: 5376 / 6720], examples_per_second: 2304.9785, train_label_loss: 0.4959, \n"
     ]
    },
    {
     "name": "stdout",
     "output_type": "stream",
     "text": [
      "epoch: 3, [batch: 6048 / 6720], examples_per_second: 2299.3548, train_label_loss: 0.7272, \n"
     ]
    },
    {
     "name": "stdout",
     "output_type": "stream",
     "text": [
      "=============================================================\n",
      "epoch: 3, source_val_acc_label: 0.6010, target_val_acc_label: 0.9603, source_val_label_loss: 1.0535, target_val_label_loss: 0.2029, \n",
      "=============================================================\n"
     ]
    },
    {
     "name": "stdout",
     "output_type": "stream",
     "text": [
      "epoch: 4, [batch: 1 / 6720], examples_per_second: 2.0724, train_label_loss: 0.9375, \n"
     ]
    },
    {
     "name": "stdout",
     "output_type": "stream",
     "text": [
      "epoch: 4, [batch: 672 / 6720], examples_per_second: 2387.5578, train_label_loss: 0.5919, \n"
     ]
    },
    {
     "name": "stdout",
     "output_type": "stream",
     "text": [
      "epoch: 4, [batch: 1344 / 6720], examples_per_second: 2596.8376, train_label_loss: 1.1580, \n"
     ]
    },
    {
     "name": "stdout",
     "output_type": "stream",
     "text": [
      "epoch: 4, [batch: 2016 / 6720], examples_per_second: 2582.7201, train_label_loss: 1.3630, \n"
     ]
    },
    {
     "name": "stdout",
     "output_type": "stream",
     "text": [
      "epoch: 4, [batch: 2688 / 6720], examples_per_second: 2516.6126, train_label_loss: 0.6954, \n"
     ]
    },
    {
     "name": "stdout",
     "output_type": "stream",
     "text": [
      "epoch: 4, [batch: 3360 / 6720], examples_per_second: 2312.1476, train_label_loss: 0.5350, \n"
     ]
    },
    {
     "name": "stdout",
     "output_type": "stream",
     "text": [
      "epoch: 4, [batch: 4032 / 6720], examples_per_second: 2330.9575, train_label_loss: 1.1892, \n"
     ]
    },
    {
     "name": "stdout",
     "output_type": "stream",
     "text": [
      "epoch: 4, [batch: 4704 / 6720], examples_per_second: 2317.9624, train_label_loss: 0.9575, \n"
     ]
    },
    {
     "name": "stdout",
     "output_type": "stream",
     "text": [
      "epoch: 4, [batch: 5376 / 6720], examples_per_second: 2330.8173, train_label_loss: 0.9904, \n"
     ]
    },
    {
     "name": "stdout",
     "output_type": "stream",
     "text": [
      "epoch: 4, [batch: 6048 / 6720], examples_per_second: 2329.4202, train_label_loss: 0.7290, \n"
     ]
    },
    {
     "name": "stdout",
     "output_type": "stream",
     "text": [
      "=============================================================\n",
      "epoch: 4, source_val_acc_label: 0.6002, target_val_acc_label: 0.9517, source_val_label_loss: 1.0827, target_val_label_loss: 0.2585, \n",
      "=============================================================\n"
     ]
    },
    {
     "name": "stdout",
     "output_type": "stream",
     "text": [
      "epoch: 5, [batch: 1 / 6720], examples_per_second: 2.0744, train_label_loss: 0.4838, \n"
     ]
    },
    {
     "name": "stdout",
     "output_type": "stream",
     "text": [
      "epoch: 5, [batch: 672 / 6720], examples_per_second: 2359.0353, train_label_loss: 0.4680, \n"
     ]
    },
    {
     "name": "stdout",
     "output_type": "stream",
     "text": [
      "epoch: 5, [batch: 1344 / 6720], examples_per_second: 2894.1761, train_label_loss: 1.0547, \n"
     ]
    },
    {
     "name": "stdout",
     "output_type": "stream",
     "text": [
      "epoch: 5, [batch: 2016 / 6720], examples_per_second: 2944.9511, train_label_loss: 1.1760, \n"
     ]
    },
    {
     "name": "stdout",
     "output_type": "stream",
     "text": [
      "epoch: 5, [batch: 2688 / 6720], examples_per_second: 2864.5710, train_label_loss: 0.7148, \n"
     ]
    },
    {
     "name": "stdout",
     "output_type": "stream",
     "text": [
      "epoch: 5, [batch: 3360 / 6720], examples_per_second: 2612.7426, train_label_loss: 0.6135, \n"
     ]
    },
    {
     "name": "stdout",
     "output_type": "stream",
     "text": [
      "epoch: 5, [batch: 4032 / 6720], examples_per_second: 2577.2210, train_label_loss: 0.7561, \n"
     ]
    },
    {
     "name": "stdout",
     "output_type": "stream",
     "text": [
      "epoch: 5, [batch: 4704 / 6720], examples_per_second: 2613.8999, train_label_loss: 0.6796, \n"
     ]
    },
    {
     "name": "stdout",
     "output_type": "stream",
     "text": [
      "epoch: 5, [batch: 5376 / 6720], examples_per_second: 2677.2270, train_label_loss: 0.8749, \n"
     ]
    },
    {
     "name": "stdout",
     "output_type": "stream",
     "text": [
      "epoch: 5, [batch: 6048 / 6720], examples_per_second: 2788.0420, train_label_loss: 0.3358, \n"
     ]
    },
    {
     "name": "stdout",
     "output_type": "stream",
     "text": [
      "=============================================================\n",
      "epoch: 5, source_val_acc_label: 0.6006, target_val_acc_label: 0.9592, source_val_label_loss: 1.1277, target_val_label_loss: 0.2576, \n",
      "=============================================================\n"
     ]
    },
    {
     "name": "stdout",
     "output_type": "stream",
     "text": [
      "epoch: 6, [batch: 1 / 6720], examples_per_second: 2.1898, train_label_loss: 0.7280, \n"
     ]
    },
    {
     "name": "stdout",
     "output_type": "stream",
     "text": [
      "epoch: 6, [batch: 672 / 6720], examples_per_second: 2327.5691, train_label_loss: 1.1893, \n"
     ]
    },
    {
     "name": "stdout",
     "output_type": "stream",
     "text": [
      "epoch: 6, [batch: 1344 / 6720], examples_per_second: 2628.3706, train_label_loss: 0.8470, \n"
     ]
    },
    {
     "name": "stdout",
     "output_type": "stream",
     "text": [
      "epoch: 6, [batch: 2016 / 6720], examples_per_second: 2629.8065, train_label_loss: 0.3271, \n"
     ]
    },
    {
     "name": "stdout",
     "output_type": "stream",
     "text": [
      "epoch: 6, [batch: 2688 / 6720], examples_per_second: 2584.1796, train_label_loss: 0.4105, \n"
     ]
    },
    {
     "name": "stdout",
     "output_type": "stream",
     "text": [
      "epoch: 6, [batch: 3360 / 6720], examples_per_second: 2337.4170, train_label_loss: 0.1875, \n"
     ]
    },
    {
     "name": "stdout",
     "output_type": "stream",
     "text": [
      "epoch: 6, [batch: 4032 / 6720], examples_per_second: 2331.8887, train_label_loss: 0.7473, \n"
     ]
    },
    {
     "name": "stdout",
     "output_type": "stream",
     "text": [
      "epoch: 6, [batch: 4704 / 6720], examples_per_second: 2299.5268, train_label_loss: 0.8018, \n"
     ]
    },
    {
     "name": "stdout",
     "output_type": "stream",
     "text": [
      "epoch: 6, [batch: 5376 / 6720], examples_per_second: 2305.7688, train_label_loss: 0.6261, \n"
     ]
    },
    {
     "name": "stdout",
     "output_type": "stream",
     "text": [
      "epoch: 6, [batch: 6048 / 6720], examples_per_second: 2300.4615, train_label_loss: 0.4691, \n"
     ]
    },
    {
     "name": "stdout",
     "output_type": "stream",
     "text": [
      "=============================================================\n",
      "epoch: 6, source_val_acc_label: 0.6010, target_val_acc_label: 0.9586, source_val_label_loss: 1.1692, target_val_label_loss: 0.2833, \n",
      "=============================================================\n"
     ]
    },
    {
     "name": "stdout",
     "output_type": "stream",
     "text": [
      "Patience (3) exhausted\n"
     ]
    }
   ],
   "source": [
    "###################################\n",
    "# train\n",
    "###################################\n",
    "jig = PTN_Train_Eval_Test_Jig(model, p.BEST_MODEL_PATH, p.device)\n",
    "\n",
    "jig.train(\n",
    "    train_iterable=datasets.source.processed.train,\n",
    "    source_val_iterable=datasets.source.processed.val,\n",
    "    target_val_iterable=datasets.target.processed.val,\n",
    "    num_epochs=p.n_epoch,\n",
    "    num_logs_per_epoch=p.NUM_LOGS_PER_EPOCH,\n",
    "    patience=p.patience,\n",
    "    optimizer=optimizer,\n",
    "    criteria_for_best=p.criteria_for_best,\n",
    ")"
   ]
  },
  {
   "cell_type": "code",
   "execution_count": 23,
   "id": "31e8fabf",
   "metadata": {
    "execution": {
     "iopub.execute_input": "2022-03-22T05:00:34.241656Z",
     "iopub.status.busy": "2022-03-22T05:00:34.241101Z",
     "iopub.status.idle": "2022-03-22T05:00:34.275957Z",
     "shell.execute_reply": "2022-03-22T05:00:34.275212Z"
    },
    "papermill": {
     "duration": 0.081537,
     "end_time": "2022-03-22T05:00:34.276113",
     "exception": false,
     "start_time": "2022-03-22T05:00:34.194576",
     "status": "completed"
    },
    "tags": []
   },
   "outputs": [],
   "source": [
    "total_experiment_time_secs = time.time() - start_time_secs"
   ]
  },
  {
   "cell_type": "code",
   "execution_count": 24,
   "id": "87b9595b",
   "metadata": {
    "execution": {
     "iopub.execute_input": "2022-03-22T05:00:34.371877Z",
     "iopub.status.busy": "2022-03-22T05:00:34.371239Z",
     "iopub.status.idle": "2022-03-22T05:04:55.568938Z",
     "shell.execute_reply": "2022-03-22T05:04:55.568123Z"
    },
    "papermill": {
     "duration": 261.24811,
     "end_time": "2022-03-22T05:04:55.569138",
     "exception": false,
     "start_time": "2022-03-22T05:00:34.321028",
     "status": "completed"
    },
    "tags": []
   },
   "outputs": [],
   "source": [
    "###################################\n",
    "# Evaluate the model\n",
    "###################################\n",
    "source_test_label_accuracy, source_test_label_loss = jig.test(datasets.source.processed.test)\n",
    "target_test_label_accuracy, target_test_label_loss = jig.test(datasets.target.processed.test)\n",
    "\n",
    "source_val_label_accuracy, source_val_label_loss = jig.test(datasets.source.processed.val)\n",
    "target_val_label_accuracy, target_val_label_loss = jig.test(datasets.target.processed.val)\n",
    "\n",
    "history = jig.get_history()\n",
    "\n",
    "total_epochs_trained = len(history[\"epoch_indices\"])\n",
    "\n",
    "val_dl = Iterable_Aggregator((datasets.source.original.val,datasets.target.original.val))\n",
    "\n",
    "confusion = ptn_confusion_by_domain_over_dataloader(model, p.device, val_dl)\n",
    "per_domain_accuracy = per_domain_accuracy_from_confusion(confusion)\n",
    "\n",
    "# Add a key to per_domain_accuracy for if it was a source domain\n",
    "for domain, accuracy in per_domain_accuracy.items():\n",
    "    per_domain_accuracy[domain] = {\n",
    "        \"accuracy\": accuracy,\n",
    "        \"source?\": domain in p.domains_source\n",
    "    }\n",
    "\n",
    "# Do an independent accuracy assesment JUST TO BE SURE!\n",
    "# _source_test_label_accuracy = independent_accuracy_assesment(model, datasets.source.processed.test, p.device)\n",
    "# _target_test_label_accuracy = independent_accuracy_assesment(model, datasets.target.processed.test, p.device)\n",
    "# _source_val_label_accuracy = independent_accuracy_assesment(model, datasets.source.processed.val, p.device)\n",
    "# _target_val_label_accuracy = independent_accuracy_assesment(model, datasets.target.processed.val, p.device)\n",
    "\n",
    "# assert(_source_test_label_accuracy == source_test_label_accuracy)\n",
    "# assert(_target_test_label_accuracy == target_test_label_accuracy)\n",
    "# assert(_source_val_label_accuracy == source_val_label_accuracy)\n",
    "# assert(_target_val_label_accuracy == target_val_label_accuracy)\n",
    "\n",
    "experiment = {\n",
    "    \"experiment_name\": p.experiment_name,\n",
    "    \"parameters\": dict(p),\n",
    "    \"results\": {\n",
    "        \"source_test_label_accuracy\": source_test_label_accuracy,\n",
    "        \"source_test_label_loss\": source_test_label_loss,\n",
    "        \"target_test_label_accuracy\": target_test_label_accuracy,\n",
    "        \"target_test_label_loss\": target_test_label_loss,\n",
    "        \"source_val_label_accuracy\": source_val_label_accuracy,\n",
    "        \"source_val_label_loss\": source_val_label_loss,\n",
    "        \"target_val_label_accuracy\": target_val_label_accuracy,\n",
    "        \"target_val_label_loss\": target_val_label_loss,\n",
    "        \"total_epochs_trained\": total_epochs_trained,\n",
    "        \"total_experiment_time_secs\": total_experiment_time_secs,\n",
    "        \"confusion\": confusion,\n",
    "        \"per_domain_accuracy\": per_domain_accuracy,\n",
    "    },\n",
    "    \"history\": history,\n",
    "    \"dataset_metrics\": get_dataset_metrics(datasets, \"ptn\"),\n",
    "}"
   ]
  },
  {
   "cell_type": "code",
   "execution_count": 25,
   "id": "54a21829",
   "metadata": {
    "execution": {
     "iopub.execute_input": "2022-03-22T05:04:55.660406Z",
     "iopub.status.busy": "2022-03-22T05:04:55.659911Z",
     "iopub.status.idle": "2022-03-22T05:04:55.905709Z",
     "shell.execute_reply": "2022-03-22T05:04:55.906400Z"
    },
    "papermill": {
     "duration": 0.29059,
     "end_time": "2022-03-22T05:04:55.906630",
     "exception": false,
     "start_time": "2022-03-22T05:04:55.616040",
     "status": "completed"
    },
    "tags": []
   },
   "outputs": [
    {
     "data": {
      "image/png": "[encoded data removed]",
      "text/plain": [
       "<Figure size 1080x504 with 1 Axes>"
      ]
     },
     "metadata": {
      "needs_background": "light"
     },
     "output_type": "display_data"
    }
   ],
   "source": [
    "ax = get_loss_curve(experiment)\n",
    "plt.show()"
   ]
  },
  {
   "cell_type": "code",
   "execution_count": 26,
   "id": "fd8a0f60",
   "metadata": {
    "execution": {
     "iopub.execute_input": "2022-03-22T05:04:55.998102Z",
     "iopub.status.busy": "2022-03-22T05:04:55.997530Z",
     "iopub.status.idle": "2022-03-22T05:04:56.370175Z",
     "shell.execute_reply": "2022-03-22T05:04:56.370544Z"
    },
    "papermill": {
     "duration": 0.418413,
     "end_time": "2022-03-22T05:04:56.370679",
     "exception": false,
     "start_time": "2022-03-22T05:04:55.952266",
     "status": "completed"
    },
    "tags": []
   },
   "outputs": [
    {
     "data": {
      "text/plain": [
       "<AxesSubplot:title={'center':'Results'}>"
      ]
     },
     "execution_count": 26,
     "metadata": {},
     "output_type": "execute_result"
    },
    {
     "data": {
      "image/png": "[encoded data removed]",
      "text/plain": [
       "<Figure size 1080x504 with 1 Axes>"
      ]
     },
     "metadata": {
      "needs_background": "light"
     },
     "output_type": "display_data"
    }
   ],
   "source": [
    "get_results_table(experiment)"
   ]
  },
  {
   "cell_type": "code",
   "execution_count": 27,
   "id": "cf8dc689",
   "metadata": {
    "execution": {
     "iopub.execute_input": "2022-03-22T05:04:56.461628Z",
     "iopub.status.busy": "2022-03-22T05:04:56.461258Z",
     "iopub.status.idle": "2022-03-22T05:04:56.737544Z",
     "shell.execute_reply": "2022-03-22T05:04:56.736711Z"
    },
    "papermill": {
     "duration": 0.323159,
     "end_time": "2022-03-22T05:04:56.737718",
     "exception": false,
     "start_time": "2022-03-22T05:04:56.414559",
     "status": "completed"
    },
    "tags": []
   },
   "outputs": [
    {
     "data": {
      "text/plain": [
       "<AxesSubplot:title={'center':'Per Domain Validation Accuracy'}, xlabel='domain'>"
      ]
     },
     "execution_count": 27,
     "metadata": {},
     "output_type": "execute_result"
    },
    {
     "data": {
      "image/png": "[encoded data removed]",
      "text/plain": [
       "<Figure size 1080x504 with 1 Axes>"
      ]
     },
     "metadata": {
      "needs_background": "light"
     },
     "output_type": "display_data"
    }
   ],
   "source": [
    "get_domain_accuracies(experiment)"
   ]
  },
  {
   "cell_type": "code",
   "execution_count": 28,
   "id": "a74ae082",
   "metadata": {
    "execution": {
     "iopub.execute_input": "2022-03-22T05:04:56.836564Z",
     "iopub.status.busy": "2022-03-22T05:04:56.835995Z",
     "iopub.status.idle": "2022-03-22T05:04:56.861181Z",
     "shell.execute_reply": "2022-03-22T05:04:56.861859Z"
    },
    "papermill": {
     "duration": 0.076475,
     "end_time": "2022-03-22T05:04:56.862054",
     "exception": false,
     "start_time": "2022-03-22T05:04:56.785579",
     "status": "completed"
    },
    "tags": []
   },
   "outputs": [
    {
     "name": "stdout",
     "output_type": "stream",
     "text": [
      "Source Test Label Accuracy: 0.5891927083333334 Target Test Label Accuracy: 0.9591400112233446\n",
      "Source Val Label Accuracy: 0.5876627604166667 Target Val Label Accuracy: 0.9604380707762558\n"
     ]
    }
   ],
   "source": [
    "print(\"Source Test Label Accuracy:\", experiment[\"results\"][\"source_test_label_accuracy\"], \"Target Test Label Accuracy:\", experiment[\"results\"][\"target_test_label_accuracy\"])\n",
    "print(\"Source Val Label Accuracy:\", experiment[\"results\"][\"source_val_label_accuracy\"], \"Target Val Label Accuracy:\", experiment[\"results\"][\"target_val_label_accuracy\"])"
   ]
  },
  {
   "cell_type": "code",
   "execution_count": 29,
   "id": "dacca602",
   "metadata": {
    "execution": {
     "iopub.execute_input": "2022-03-22T05:04:56.961427Z",
     "iopub.status.busy": "2022-03-22T05:04:56.961058Z",
     "iopub.status.idle": "2022-03-22T05:04:56.985538Z",
     "shell.execute_reply": "2022-03-22T05:04:56.986214Z"
    },
    "papermill": {
     "duration": 0.07407,
     "end_time": "2022-03-22T05:04:56.986407",
     "exception": false,
     "start_time": "2022-03-22T05:04:56.912337",
     "status": "completed"
    },
    "tags": [
     "experiment_json"
    ]
   },
   "outputs": [
    {
     "data": {
      "text/plain": [
       "'{\"experiment_name\": \"tl_1v2:cores-oracle.run1.limited\", \"parameters\": {\"experiment_name\": \"tl_1v2:cores-oracle.run1.limited\", \"device\": \"cuda\", \"lr\": 0.0001, \"n_shot\": 3, \"n_query\": 2, \"train_k_factor\": 3, \"val_k_factor\": 2, \"test_k_factor\": 2, \"torch_default_dtype\": \"torch.float32\", \"n_epoch\": 50, \"patience\": 3, \"criteria_for_best\": \"target_accuracy\", \"x_net\": [{\"class\": \"nnReshape\", \"kargs\": {\"shape\": [-1, 1, 2, 256]}}, {\"class\": \"Conv2d\", \"kargs\": {\"in_channels\": 1, \"out_channels\": 256, \"kernel_size\": [1, 7], \"bias\": false, \"padding\": [0, 3]}}, {\"class\": \"ReLU\", \"kargs\": {\"inplace\": true}}, {\"class\": \"BatchNorm2d\", \"kargs\": {\"num_features\": 256}}, {\"class\": \"Conv2d\", \"kargs\": {\"in_channels\": 256, \"out_channels\": 80, \"kernel_size\": [2, 7], \"bias\": true, \"padding\": [0, 3]}}, {\"class\": \"ReLU\", \"kargs\": {\"inplace\": true}}, {\"class\": \"BatchNorm2d\", \"kargs\": {\"num_features\": 80}}, {\"class\": \"Flatten\", \"kargs\": {}}, {\"class\": \"Linear\", \"kargs\": {\"in_features\": 20480, \"out_features\": 256}}, {\"class\": \"ReLU\", \"kargs\": {\"inplace\": true}}, {\"class\": \"BatchNorm1d\", \"kargs\": {\"num_features\": 256}}, {\"class\": \"Linear\", \"kargs\": {\"in_features\": 256, \"out_features\": 256}}], \"NUM_LOGS_PER_EPOCH\": 10, \"BEST_MODEL_PATH\": \"./best_model.pth\", \"n_way\": 16, \"datasets\": [{\"labels\": [\"1-10.\", \"1-11.\", \"1-15.\", \"1-16.\", \"1-17.\", \"1-18.\", \"1-19.\", \"10-4.\", \"10-7.\", \"11-1.\", \"11-14.\", \"11-17.\", \"11-20.\", \"11-7.\", \"13-20.\", \"13-8.\", \"14-10.\", \"14-11.\", \"14-14.\", \"14-7.\", \"15-1.\", \"15-20.\", \"16-1.\", \"16-16.\", \"17-10.\", \"17-11.\", \"17-2.\", \"19-1.\", \"19-16.\", \"19-19.\", \"19-20.\", \"19-3.\", \"2-10.\", \"2-11.\", \"2-17.\", \"2-18.\", \"2-20.\", \"2-3.\", \"2-4.\", \"2-5.\", \"2-6.\", \"2-7.\", \"2-8.\", \"3-13.\", \"3-18.\", \"3-3.\", \"4-1.\", \"4-10.\", \"4-11.\", \"4-19.\", \"5-5.\", \"6-15.\", \"7-10.\", \"7-14.\", \"8-18.\", \"8-20.\", \"8-3.\", \"8-8.\"], \"domains\": [1, 2, 3, 4, 5], \"num_examples_per_domain_per_label\": -1, \"pickle_path\": \"/root/csc500-main/datasets/cores.stratified_ds.2022A.pkl\", \"source_or_target_dataset\": \"target\", \"x_transforms\": [\"unit_mag\"], \"episode_transforms\": [], \"domain_prefix\": \"CORES_\"}, {\"labels\": [\"3123D52\", \"3123D65\", \"3123D79\", \"3123D80\", \"3123D54\", \"3123D70\", \"3123D7B\", \"3123D89\", \"3123D58\", \"3123D76\", \"3123D7D\", \"3123EFE\", \"3123D64\", \"3123D78\", \"3123D7E\", \"3124E4A\"], \"domains\": [32, 38, 8, 44, 14, 50, 20, 26], \"num_examples_per_domain_per_label\": 2000, \"pickle_path\": \"/root/csc500-main/datasets/oracle.Run1_10kExamples_stratified_ds.2022A.pkl\", \"source_or_target_dataset\": \"source\", \"x_transforms\": [\"unit_mag\"], \"episode_transforms\": [], \"domain_prefix\": \"ORACLE.run1_\"}], \"dataset_seed\": 1337, \"seed\": 1337, \"x_shape\": [2, 256], \"domains_source\": [\"ORACLE.run1_32\", \"ORACLE.run1_38\", \"ORACLE.run1_8\", \"ORACLE.run1_44\", \"ORACLE.run1_14\", \"ORACLE.run1_50\", \"ORACLE.run1_20\", \"ORACLE.run1_26\"], \"domains_target\": [\"CORES_1\", \"CORES_2\", \"CORES_3\", \"CORES_4\", \"CORES_5\"]}, \"results\": {\"source_test_label_accuracy\": 0.5891927083333334, \"source_test_label_loss\": 1.091091513633728, \"target_test_label_accuracy\": 0.9591400112233446, \"target_test_label_loss\": 0.17505638301372528, \"source_val_label_accuracy\": 0.5876627604166667, \"source_val_label_loss\": 1.0915169715881348, \"target_val_label_accuracy\": 0.9604380707762558, \"target_val_label_loss\": 0.17346811294555664, \"total_epochs_trained\": 6, \"total_experiment_time_secs\": 1683.4511651992798, \"confusion\": {\"ORACLE.run1_14\": {\"15\": {\"15\": 194, \"7\": 44, \"1\": 1, \"5\": 1}, \"3\": {\"2\": 9, \"4\": 42, \"3\": 170, \"14\": 12, \"10\": 2, \"5\": 2, \"1\": 2, \"0\": 1}, \"6\": {\"6\": 110, \"13\": 73, \"14\": 23, \"2\": 32, \"5\": 2}, \"1\": {\"1\": 181, \"5\": 46, \"4\": 11, \"7\": 2}, \"8\": {\"8\": 239, \"3\": 1}, \"10\": {\"10\": 164, \"14\": 1, \"0\": 59, \"11\": 14, \"3\": 2}, \"9\": {\"9\": 232, \"11\": 7, \"12\": 1}, \"13\": {\"13\": 79, \"6\": 87, \"14\": 45, \"2\": 23, \"4\": 3, \"5\": 3}, \"12\": {\"12\": 235, \"9\": 5}, \"5\": {\"5\": 123, \"4\": 48, \"1\": 46, \"2\": 11, \"3\": 7, \"7\": 4, \"13\": 1}, \"0\": {\"10\": 71, \"0\": 148, \"3\": 12, \"11\": 8, \"14\": 1}, \"2\": {\"15\": 4, \"2\": 90, \"13\": 15, \"4\": 30, \"5\": 27, \"14\": 31, \"3\": 13, \"6\": 29, \"1\": 1}, \"11\": {\"11\": 188, \"9\": 20, \"0\": 7, \"10\": 25}, \"14\": {\"13\": 38, \"4\": 9, \"3\": 13, \"14\": 135, \"2\": 20, \"6\": 24, \"5\": 1}, \"7\": {\"7\": 214, \"15\": 22, \"1\": 4}, \"4\": {\"3\": 53, \"4\": 116, \"5\": 41, \"1\": 6, \"2\": 21, \"6\": 1, \"14\": 2}}, \"ORACLE.run1_20\": {\"3\": {\"8\": 10, \"9\": 34, \"3\": 52, \"7\": 18, \"2\": 16, \"4\": 40, \"13\": 5, \"1\": 15, \"15\": 2, \"12\": 26, \"0\": 7, \"5\": 14, \"10\": 1}, \"15\": {\"15\": 99, \"2\": 3, \"1\": 50, \"0\": 33, \"13\": 15, \"5\": 25, \"12\": 11, \"9\": 2, \"3\": 2}, \"8\": {\"8\": 104, \"4\": 27, \"10\": 46, \"14\": 14, \"3\": 9, \"7\": 27, \"2\": 3, \"9\": 4, \"12\": 3, \"6\": 3}, \"4\": {\"4\": 142, \"3\": 20, \"2\": 2, \"8\": 38, \"9\": 11, \"0\": 3, \"7\": 4, \"10\": 17, \"12\": 3}, \"14\": {\"10\": 43, \"14\": 135, \"8\": 11, \"6\": 50, \"4\": 1}, \"0\": {\"2\": 7, \"1\": 39, \"15\": 40, \"0\": 36, \"12\": 28, \"3\": 15, \"5\": 58, \"4\": 2, \"9\": 12, \"13\": 2, \"8\": 1}, \"7\": {\"8\": 32, \"7\": 111, \"3\": 13, \"9\": 23, \"2\": 39, \"11\": 1, \"13\": 4, \"6\": 10, \"10\": 2, \"4\": 3, \"12\": 1, \"14\": 1}, \"6\": {\"6\": 173, \"10\": 8, \"14\": 49, \"7\": 7, \"8\": 2, \"11\": 1}, \"10\": {\"8\": 33, \"10\": 146, \"14\": 41, \"4\": 14, \"7\": 1, \"6\": 5}, \"5\": {\"0\": 44, \"5\": 64, \"12\": 26, \"1\": 56, \"3\": 6, \"4\": 4, \"9\": 6, \"2\": 9, \"15\": 21, \"13\": 4}, \"2\": {\"9\": 51, \"13\": 32, \"12\": 13, \"2\": 63, \"7\": 37, \"1\": 2, \"3\": 27, \"5\": 3, \"8\": 6, \"15\": 3, \"4\": 3}, \"12\": {\"9\": 25, \"0\": 26, \"1\": 27, \"12\": 52, \"15\": 14, \"4\": 16, \"7\": 3, \"5\": 25, \"3\": 40, \"2\": 10, \"13\": 2}, \"9\": {\"2\": 45, \"7\": 17, \"9\": 61, \"5\": 5, \"3\": 38, \"13\": 18, \"8\": 7, \"4\": 8, \"12\": 21, \"0\": 11, \"1\": 7, \"15\": 2}, \"1\": {\"15\": 39, \"0\": 48, \"5\": 42, \"1\": 45, \"12\": 34, \"9\": 8, \"3\": 11, \"2\": 9, \"13\": 2, \"4\": 2}, \"11\": {\"11\": 237, \"7\": 2, \"6\": 1}, \"13\": {\"13\": 178, \"2\": 27, \"15\": 14, \"9\": 11, \"12\": 4, \"0\": 1, \"11\": 1, \"1\": 1, \"5\": 2, \"7\": 1}}, \"ORACLE.run1_38\": {\"5\": {\"5\": 95, \"0\": 26, \"7\": 27, \"8\": 53, \"6\": 7, \"1\": 9, \"9\": 7, \"15\": 8, \"10\": 2, \"3\": 6}, \"8\": {\"8\": 111, \"15\": 14, \"5\": 50, \"10\": 10, \"0\": 47, \"7\": 7, \"13\": 1}, \"11\": {\"10\": 2, \"11\": 152, \"14\": 80, \"2\": 3, \"12\": 2, \"13\": 1}, \"1\": {\"1\": 211, \"15\": 25, \"5\": 3, \"8\": 1}, \"10\": {\"10\": 152, \"12\": 37, \"8\": 15, \"13\": 18, \"15\": 2, \"0\": 6, \"14\": 5, \"11\": 5}, \"15\": {\"1\": 27, \"15\": 139, \"13\": 58, \"8\": 9, \"5\": 2, \"10\": 5}, \"3\": {\"3\": 205, \"0\": 3, \"6\": 1, \"7\": 5, \"9\": 25, \"5\": 1}, \"7\": {\"0\": 54, \"7\": 168, \"5\": 7, \"8\": 11}, \"4\": {\"12\": 24, \"4\": 216}, \"14\": {\"11\": 60, \"14\": 155, \"2\": 20, \"12\": 1, \"13\": 2, \"10\": 2}, \"9\": {\"3\": 20, \"9\": 131, \"6\": 80, \"7\": 2, \"5\": 5, \"0\": 2}, \"12\": {\"12\": 199, \"4\": 22, \"10\": 18, \"0\": 1}, \"6\": {\"6\": 152, \"9\": 80, \"0\": 1, \"5\": 7}, \"2\": {\"11\": 3, \"2\": 205, \"14\": 16, \"13\": 15, \"15\": 1}, \"0\": {\"7\": 70, \"8\": 48, \"3\": 12, \"10\": 15, \"0\": 56, \"5\": 30, \"4\": 1, \"12\": 1, \"13\": 1, \"9\": 4, \"15\": 1, \"6\": 1}, \"13\": {\"15\": 68, \"13\": 137, \"10\": 17, \"1\": 7, \"2\": 6, \"8\": 3, \"5\": 2}}, \"ORACLE.run1_8\": {\"9\": {\"9\": 240}, \"10\": {\"1\": 19, \"0\": 5, \"14\": 53, \"4\": 12, \"5\": 17, \"13\": 22, \"10\": 105, \"11\": 7}, \"13\": {\"4\": 38, \"14\": 32, \"13\": 69, \"0\": 60, \"6\": 16, \"10\": 14, \"7\": 8, \"11\": 1, \"1\": 1, \"5\": 1}, \"0\": {\"4\": 34, \"7\": 27, \"6\": 24, \"0\": 98, \"10\": 10, \"13\": 43, \"14\": 4}, \"1\": {\"11\": 74, \"1\": 113, \"5\": 19, \"14\": 21, \"6\": 2, \"10\": 6, \"4\": 2, \"13\": 3}, \"15\": {\"15\": 138, \"8\": 24, \"3\": 7, \"2\": 9, \"12\": 61, \"7\": 1}, \"5\": {\"5\": 170, \"10\": 29, \"11\": 11, \"14\": 3, \"1\": 26, \"13\": 1}, \"3\": {\"12\": 35, \"3\": 153, \"2\": 44, \"15\": 8}, \"6\": {\"6\": 94, \"7\": 50, \"4\": 26, \"8\": 19, \"14\": 4, \"0\": 31, \"13\": 14, \"1\": 1, \"10\": 1}, \"11\": {\"11\": 106, \"1\": 82, \"5\": 17, \"14\": 15, \"10\": 7, \"6\": 3, \"8\": 4, \"13\": 1, \"4\": 5}, \"8\": {\"8\": 194, \"15\": 19, \"6\": 8, \"7\": 11, \"4\": 1, \"11\": 2, \"12\": 4, \"13\": 1}, \"4\": {\"1\": 7, \"6\": 36, \"4\": 57, \"0\": 27, \"13\": 46, \"10\": 15, \"7\": 12, \"14\": 36, \"11\": 4}, \"12\": {\"15\": 65, \"3\": 58, \"12\": 97, \"8\": 6, \"2\": 13, \"6\": 1}, \"14\": {\"10\": 43, \"13\": 35, \"11\": 19, \"14\": 82, \"4\": 36, \"5\": 2, \"1\": 16, \"0\": 4, \"6\": 2, \"7\": 1}, \"2\": {\"2\": 146, \"12\": 10, \"3\": 63, \"7\": 7, \"15\": 11, \"8\": 2, \"6\": 1}, \"7\": {\"6\": 68, \"0\": 29, \"7\": 114, \"4\": 12, \"2\": 3, \"13\": 3, \"8\": 9, \"15\": 2}}, \"ORACLE.run1_50\": {\"7\": {\"10\": 23, \"7\": 113, \"13\": 68, \"5\": 31, \"4\": 3, \"6\": 2}, \"3\": {\"3\": 235, \"8\": 5}, \"8\": {\"8\": 221, \"3\": 10, \"10\": 9}, \"2\": {\"2\": 209, \"0\": 30, \"6\": 1}, \"14\": {\"12\": 5, \"14\": 230, \"11\": 2, \"2\": 1, \"15\": 1, \"9\": 1}, \"4\": {\"4\": 81, \"6\": 39, \"1\": 45, \"15\": 36, \"5\": 22, \"13\": 8, \"7\": 9}, \"6\": {\"6\": 108, \"5\": 30, \"13\": 12, \"4\": 39, \"1\": 43, \"15\": 1, \"2\": 2, \"0\": 4, \"7\": 1}, \"15\": {\"11\": 10, \"15\": 165, \"1\": 43, \"4\": 19, \"6\": 3}, \"10\": {\"10\": 203, \"0\": 17, \"8\": 7, \"7\": 9, \"5\": 2, \"13\": 2}, \"11\": {\"9\": 25, \"11\": 190, \"15\": 20, \"14\": 4, \"1\": 1}, \"13\": {\"7\": 64, \"13\": 88, \"6\": 23, \"5\": 57, \"10\": 4, \"4\": 1, \"0\": 3}, \"9\": {\"9\": 173, \"11\": 38, \"14\": 7, \"12\": 22}, \"0\": {\"0\": 190, \"2\": 33, \"10\": 13, \"6\": 2, \"13\": 2}, \"1\": {\"1\": 109, \"15\": 59, \"6\": 46, \"4\": 25, \"0\": 1}, \"12\": {\"12\": 196, \"14\": 15, \"9\": 28, \"11\": 1}, \"5\": {\"1\": 7, \"13\": 43, \"6\": 53, \"4\": 25, \"7\": 52, \"5\": 57, \"10\": 2, \"0\": 1}}, \"ORACLE.run1_32\": {\"8\": {\"8\": 154, \"5\": 28, \"13\": 30, \"0\": 20, \"4\": 3, \"15\": 1, \"3\": 3, \"7\": 1}, \"14\": {\"14\": 63, \"11\": 70, \"7\": 51, \"4\": 18, \"5\": 11, \"3\": 5, \"2\": 4, \"0\": 3, \"13\": 13, \"8\": 2}, \"2\": {\"2\": 179, \"7\": 6, \"0\": 20, \"4\": 33, \"14\": 2}, \"0\": {\"4\": 49, \"2\": 26, \"0\": 119, \"5\": 14, \"8\": 20, \"13\": 7, \"7\": 4, \"14\": 1}, \"1\": {\"1\": 234, \"10\": 6}, \"10\": {\"10\": 233, \"1\": 7}, \"11\": {\"14\": 52, \"11\": 162, \"5\": 4, \"3\": 7, \"13\": 4, \"7\": 11}, \"5\": {\"11\": 11, \"13\": 49, \"14\": 7, \"7\": 26, \"8\": 23, \"4\": 24, \"5\": 58, \"0\": 21, \"2\": 4, \"3\": 17}, \"15\": {\"15\": 235, \"3\": 2, \"8\": 3}, \"3\": {\"11\": 12, \"3\": 216, \"13\": 7, \"5\": 4, \"14\": 1}, \"12\": {\"12\": 240}, \"7\": {\"7\": 78, \"4\": 31, \"14\": 47, \"5\": 23, \"11\": 18, \"13\": 26, \"2\": 10, \"8\": 1, \"0\": 6}, \"13\": {\"5\": 61, \"7\": 11, \"13\": 61, \"8\": 31, \"11\": 7, \"3\": 24, \"0\": 14, \"4\": 19, \"14\": 10, \"2\": 2}, \"6\": {\"6\": 240}, \"4\": {\"0\": 47, \"5\": 17, \"7\": 34, \"4\": 81, \"2\": 33, \"8\": 6, \"13\": 14, \"14\": 8}, \"9\": {\"9\": 240}}, \"ORACLE.run1_26\": {\"4\": {\"0\": 34, \"1\": 39, \"10\": 27, \"14\": 28, \"4\": 56, \"8\": 21, \"7\": 32, \"15\": 2, \"9\": 1}, \"12\": {\"12\": 232, \"11\": 8}, \"10\": {\"8\": 23, \"0\": 41, \"10\": 88, \"4\": 18, \"6\": 27, \"9\": 7, \"1\": 14, \"14\": 17, \"7\": 4, \"15\": 1}, \"0\": {\"6\": 14, \"0\": 27, \"1\": 25, \"14\": 33, \"10\": 53, \"8\": 31, \"7\": 14, \"4\": 25, \"2\": 2, \"15\": 3, \"9\": 9, \"3\": 4}, \"13\": {\"13\": 134, \"6\": 14, \"2\": 6, \"15\": 25, \"5\": 47, \"9\": 13, \"8\": 1}, \"9\": {\"9\": 55, \"6\": 33, \"13\": 15, \"8\": 29, \"15\": 54, \"5\": 27, \"0\": 4, \"10\": 8, \"4\": 6, \"2\": 4, \"7\": 4, \"14\": 1}, \"3\": {\"3\": 135, \"2\": 56, \"7\": 45, \"14\": 1, \"5\": 1, \"8\": 1, \"0\": 1}, \"2\": {\"2\": 80, \"8\": 11, \"15\": 17, \"3\": 69, \"5\": 18, \"9\": 7, \"7\": 26, \"14\": 1, \"13\": 3, \"4\": 5, \"0\": 2, \"10\": 1}, \"5\": {\"13\": 35, \"15\": 67, \"5\": 76, \"9\": 36, \"2\": 11, \"8\": 7, \"3\": 1, \"6\": 2, \"7\": 4, \"10\": 1}, \"14\": {\"1\": 56, \"14\": 56, \"8\": 12, \"0\": 34, \"10\": 21, \"6\": 1, \"3\": 1, \"7\": 13, \"4\": 44, \"15\": 1, \"5\": 1}, \"8\": {\"0\": 34, \"9\": 29, \"10\": 25, \"8\": 58, \"6\": 17, \"4\": 19, \"15\": 17, \"5\": 4, \"2\": 5, \"14\": 11, \"7\": 15, \"1\": 3, \"3\": 3}, \"7\": {\"7\": 86, \"3\": 61, \"4\": 18, \"2\": 35, \"5\": 2, \"0\": 3, \"14\": 7, \"8\": 17, \"9\": 3, \"1\": 4, \"15\": 4}, \"6\": {\"9\": 37, \"6\": 131, \"4\": 2, \"10\": 24, \"0\": 7, \"15\": 8, \"13\": 10, \"5\": 10, \"8\": 11}, \"11\": {\"11\": 223, \"12\": 17}, \"15\": {\"9\": 47, \"15\": 62, \"5\": 50, \"13\": 21, \"8\": 28, \"6\": 9, \"0\": 5, \"10\": 2, \"2\": 8, \"7\": 6, \"4\": 2}, \"1\": {\"1\": 86, \"0\": 25, \"10\": 23, \"14\": 62, \"4\": 30, \"8\": 6, \"7\": 4, \"3\": 2, \"6\": 1, \"9\": 1}}, \"ORACLE.run1_44\": {\"12\": {\"12\": 164, \"10\": 27, \"1\": 44, \"2\": 1, \"3\": 4}, \"7\": {\"7\": 142, \"2\": 41, \"13\": 3, \"9\": 43, \"1\": 2, \"6\": 7, \"3\": 2}, \"5\": {\"5\": 193, \"14\": 8, \"0\": 25, \"15\": 10, \"8\": 4}, \"15\": {\"15\": 178, \"14\": 19, \"4\": 1, \"5\": 11, \"8\": 8, \"0\": 23}, \"8\": {\"0\": 78, \"8\": 150, \"5\": 8, \"15\": 4}, \"2\": {\"2\": 173, \"10\": 20, \"1\": 14, \"7\": 28, \"9\": 2, \"3\": 1, \"6\": 2}, \"13\": {\"13\": 140, \"9\": 40, \"11\": 26, \"6\": 29, \"7\": 2, \"4\": 2, \"14\": 1}, \"4\": {\"4\": 177, \"14\": 62, \"15\": 1}, \"0\": {\"0\": 116, \"5\": 28, \"15\": 20, \"8\": 76}, \"6\": {\"6\": 151, \"13\": 35, \"7\": 17, \"9\": 22, \"11\": 13, \"2\": 2}, \"9\": {\"9\": 117, \"7\": 58, \"13\": 30, \"6\": 28, \"11\": 1, \"2\": 5, \"4\": 1}, \"11\": {\"11\": 201, \"13\": 23, \"6\": 16}, \"10\": {\"10\": 161, \"2\": 27, \"12\": 30, \"1\": 21, \"3\": 1}, \"14\": {\"14\": 140, \"15\": 26, \"5\": 3, \"4\": 70, \"0\": 1}, \"1\": {\"1\": 116, \"12\": 48, \"10\": 24, \"3\": 42, \"2\": 10}, \"3\": {\"3\": 212, \"1\": 25, \"2\": 2, \"12\": 1}}, \"CORES_3\": {\"43\": {\"43\": 128}, \"9\": {\"9\": 150}, \"6\": {\"8\": 6, \"6\": 63, \"25\": 2, \"26\": 1, \"30\": 6, \"36\": 1, \"18\": 6, \"41\": 1, \"23\": 2}, \"3\": {\"3\": 140, \"46\": 4}, \"16\": {\"16\": 134}, \"51\": {\"51\": 128}, \"31\": {\"31\": 28}, \"46\": {\"46\": 125, \"16\": 3, \"52\": 1, \"25\": 1, \"3\": 2, \"20\": 2}, \"19\": {\"19\": 102, \"40\": 22}, \"8\": {\"8\": 151, \"50\": 1}, \"18\": {\"18\": 83, \"6\": 1}, \"37\": {\"37\": 28}, \"24\": {\"24\": 104}, \"10\": {\"10\": 62, \"24\": 2}, \"44\": {\"44\": 88}, \"14\": {\"14\": 24, \"22\": 7, \"56\": 2, \"55\": 2, \"29\": 2, \"47\": 1, \"34\": 2}, \"38\": {\"38\": 28}, \"53\": {\"53\": 140}, \"20\": {\"20\": 130, \"53\": 1, \"46\": 1}, \"32\": {\"32\": 28}, \"36\": {\"36\": 100}, \"33\": {\"33\": 28}, \"56\": {\"56\": 136}, \"23\": {\"23\": 130}, \"54\": {\"54\": 100}, \"21\": {\"21\": 126}, \"28\": {\"28\": 26, \"29\": 1, \"55\": 1}, \"26\": {\"26\": 24}, \"48\": {\"48\": 116}, \"52\": {\"52\": 118}, \"39\": {\"39\": 15, \"47\": 1}, \"22\": {\"14\": 4, \"22\": 136}, \"13\": {\"13\": 128}, \"2\": {\"2\": 31, \"54\": 1}, \"34\": {\"34\": 29, \"35\": 2, \"1\": 1}, \"27\": {\"27\": 131, \"9\": 1}, \"45\": {\"45\": 58, \"40\": 1, \"4\": 1}, \"35\": {\"35\": 25, \"34\": 1, \"1\": 2}, \"29\": {\"29\": 126, \"1\": 2}, \"25\": {\"25\": 142, \"18\": 2}, \"0\": {\"0\": 122, \"47\": 2}, \"41\": {\"41\": 28}, \"11\": {\"11\": 142}, \"5\": {\"5\": 106, \"0\": 1, \"57\": 1}, \"1\": {\"1\": 93, \"34\": 2, \"57\": 3, \"35\": 1, \"42\": 1}, \"57\": {\"57\": 110, \"1\": 6}, \"17\": {\"17\": 106, \"10\": 1, \"24\": 1}, \"7\": {\"7\": 36}, \"12\": {\"12\": 92}, \"47\": {\"47\": 89, \"42\": 1, \"55\": 1, \"0\": 1}, \"40\": {\"40\": 111, \"19\": 25}, \"15\": {\"15\": 142}, \"42\": {\"42\": 24, \"1\": 1, \"55\": 1, \"57\": 1, \"5\": 1}, \"55\": {\"55\": 137, \"22\": 5, \"57\": 3, \"42\": 1, \"28\": 3, \"1\": 1}, \"49\": {\"49\": 20}, \"30\": {\"30\": 116, \"2\": 1, \"6\": 2, \"17\": 1}, \"50\": {\"50\": 126, \"8\": 2, \"52\": 3, \"20\": 2, \"12\": 1}, \"4\": {\"4\": 136}}, \"CORES_4\": {\"35\": {\"35\": 38, \"55\": 2}, \"25\": {\"25\": 127, \"52\": 6, \"36\": 1}, \"24\": {\"24\": 56}, \"48\": {\"48\": 137, \"27\": 1}, \"51\": {\"51\": 144}, \"13\": {\"13\": 120}, \"14\": {\"14\": 7, \"1\": 1, \"49\": 1, \"55\": 4, \"56\": 3}, \"32\": {\"32\": 22, \"0\": 1, \"22\": 1}, \"30\": {\"30\": 43, \"8\": 1}, \"34\": {\"34\": 24}, \"9\": {\"9\": 133, \"17\": 3}, \"1\": {\"1\": 40}, \"0\": {\"22\": 23, \"0\": 50, \"38\": 1, \"3\": 1, \"43\": 4, \"36\": 1}, \"38\": {\"38\": 39, \"22\": 1}, \"22\": {\"22\": 118, \"0\": 10}, \"40\": {\"40\": 119, \"19\": 1}, \"6\": {\"6\": 100, \"45\": 1, \"53\": 5, \"3\": 2, \"50\": 1, \"51\": 2, \"20\": 1}, \"16\": {\"16\": 94, \"15\": 2}, \"11\": {\"11\": 102, \"15\": 2}, \"20\": {\"20\": 119, \"50\": 3}, \"17\": {\"17\": 79, \"9\": 1}, \"26\": {\"26\": 24}, \"54\": {\"54\": 108}, \"55\": {\"55\": 126, \"33\": 1, \"29\": 19, \"35\": 8}, \"50\": {\"50\": 99, \"21\": 7, \"6\": 2, \"53\": 9, \"20\": 13, \"55\": 1, \"25\": 1}, \"19\": {\"19\": 137, \"40\": 2, \"44\": 3}, \"44\": {\"44\": 117, \"19\": 5}, \"47\": {\"47\": 120}, \"33\": {\"33\": 32, \"28\": 4}, \"5\": {\"5\": 102, \"57\": 1, \"42\": 1, \"54\": 1, \"47\": 2, \"23\": 1}, \"18\": {\"18\": 107, \"23\": 1}, \"21\": {\"21\": 124}, \"41\": {\"41\": 35, \"46\": 1}, \"23\": {\"23\": 127, \"18\": 1}, \"39\": {\"39\": 20}, \"37\": {\"37\": 24}, \"8\": {\"8\": 144}, \"49\": {\"49\": 19, \"47\": 1}, \"53\": {\"53\": 140}, \"31\": {\"31\": 28}, \"28\": {\"28\": 31, \"33\": 1}, \"3\": {\"3\": 107, \"50\": 2, \"20\": 6, \"25\": 1, \"36\": 5, \"53\": 3}, \"27\": {\"27\": 136, \"48\": 2}, \"46\": {\"46\": 115, \"41\": 6, \"47\": 3, \"22\": 2, \"0\": 1, \"7\": 1}, \"12\": {\"12\": 92}, \"7\": {\"7\": 20, \"32\": 1, \"46\": 3}, \"4\": {\"4\": 132}, \"42\": {\"42\": 32}, \"43\": {\"43\": 130}, \"29\": {\"29\": 114, \"27\": 1, \"55\": 4, \"4\": 1}, \"57\": {\"57\": 100}, \"52\": {\"52\": 97, \"25\": 6, \"18\": 1}, \"45\": {\"45\": 96}, \"36\": {\"36\": 91, \"25\": 1}, \"10\": {\"10\": 126}, \"15\": {\"15\": 132, \"11\": 2}, \"56\": {\"56\": 124}, \"2\": {\"2\": 36}}, \"CORES_5\": {\"47\": {\"47\": 99, \"3\": 1}, \"53\": {\"53\": 149, \"20\": 1}, \"29\": {\"29\": 126}, \"52\": {\"52\": 129, \"46\": 1}, \"55\": {\"55\": 111, \"27\": 32, \"9\": 1}, \"17\": {\"17\": 115, \"48\": 1}, \"42\": {\"42\": 40}, \"33\": {\"33\": 31, \"34\": 1}, \"11\": {\"11\": 139, \"43\": 8, \"15\": 1}, \"19\": {\"19\": 118}, \"1\": {\"1\": 144}, \"44\": {\"44\": 141, \"40\": 1}, \"49\": {\"49\": 29, \"41\": 1, \"57\": 6}, \"4\": {\"4\": 100}, \"6\": {\"6\": 100, \"26\": 3, \"30\": 10, \"8\": 1, \"1\": 1, \"17\": 1}, \"39\": {\"39\": 20}, \"50\": {\"50\": 123, \"21\": 12, \"20\": 7, \"16\": 3, \"52\": 1, \"53\": 1, \"51\": 1}, \"56\": {\"56\": 130}, \"25\": {\"25\": 139, \"23\": 3, \"52\": 2}, \"28\": {\"28\": 32}, \"35\": {\"35\": 36}, \"24\": {\"24\": 80}, \"21\": {\"21\": 128, \"50\": 4}, \"45\": {\"45\": 119, \"17\": 1, \"55\": 1, \"9\": 2, \"48\": 1}, \"16\": {\"16\": 143, \"11\": 1}, \"37\": {\"37\": 24}, \"57\": {\"57\": 125, \"49\": 7}, \"34\": {\"34\": 36}, \"38\": {\"38\": 32}, \"48\": {\"48\": 126, \"17\": 2, \"9\": 2}, \"26\": {\"26\": 22, \"6\": 2}, \"9\": {\"9\": 146, \"55\": 5, \"48\": 1}, \"18\": {\"23\": 7, \"18\": 57}, \"3\": {\"3\": 87, \"47\": 8, \"46\": 3, \"31\": 2}, \"23\": {\"23\": 116, \"18\": 8}, \"15\": {\"15\": 143, \"43\": 11}, \"10\": {\"10\": 68}, \"46\": {\"46\": 147, \"52\": 1}, \"22\": {\"22\": 26, \"29\": 1, \"34\": 1}, \"54\": {\"54\": 112}, \"27\": {\"55\": 26, \"27\": 132, \"32\": 2}, \"41\": {\"41\": 27, \"49\": 1}, \"31\": {\"31\": 36}, \"0\": {\"0\": 124}, \"7\": {\"7\": 32}, \"2\": {\"2\": 28}, \"14\": {\"3\": 9, \"14\": 16, \"28\": 4, \"36\": 4, \"47\": 1, \"46\": 3, \"31\": 2, \"34\": 2, \"29\": 1, \"57\": 2}, \"40\": {\"40\": 118, \"32\": 1, \"44\": 1, \"5\": 2, \"34\": 1, \"27\": 1}, \"5\": {\"5\": 126, \"44\": 1, \"19\": 1}, \"12\": {\"12\": 96}, \"43\": {\"43\": 97, \"15\": 22, \"11\": 23}, \"13\": {\"13\": 148}, \"36\": {\"36\": 92}, \"8\": {\"8\": 150}, \"32\": {\"32\": 25, \"27\": 6, \"55\": 1}, \"30\": {\"30\": 128}, \"51\": {\"51\": 138}, \"20\": {\"20\": 137, \"53\": 1}}, \"CORES_1\": {\"46\": {\"46\": 140}, \"16\": {\"16\": 134}, \"26\": {\"26\": 24}, \"10\": {\"10\": 89, \"52\": 1, \"22\": 3, \"24\": 3}, \"9\": {\"9\": 145, \"8\": 11}, \"28\": {\"28\": 28}, \"51\": {\"51\": 149, \"41\": 7}, \"1\": {\"1\": 92, \"19\": 6, \"56\": 1, \"57\": 1}, \"55\": {\"55\": 146, \"47\": 1, \"34\": 1}, \"27\": {\"27\": 124}, \"22\": {\"10\": 6, \"22\": 107, \"15\": 1, \"24\": 8, \"0\": 1, \"21\": 1}, \"52\": {\"10\": 5, \"52\": 112, \"28\": 1, \"11\": 3, \"15\": 4, \"22\": 1}, \"3\": {\"3\": 137, \"20\": 2, \"13\": 1}, \"33\": {\"33\": 32}, \"47\": {\"47\": 120}, \"42\": {\"42\": 39, \"45\": 1}, \"12\": {\"12\": 109, \"51\": 6, \"46\": 1}, \"23\": {\"23\": 130, \"38\": 2}, \"49\": {\"49\": 30, \"39\": 1, \"0\": 1}, \"7\": {\"7\": 28}, \"4\": {\"4\": 132}, \"50\": {\"50\": 132, \"48\": 2}, \"19\": {\"19\": 147, \"56\": 1, \"1\": 5, \"57\": 1}, \"11\": {\"11\": 137, \"28\": 2, \"52\": 1}, \"31\": {\"31\": 28}, \"41\": {\"41\": 18, \"51\": 5, \"12\": 1}, \"56\": {\"56\": 103, \"57\": 24, \"19\": 3, \"44\": 7, \"1\": 1}, \"0\": {\"0\": 133, \"39\": 4, \"21\": 7, \"31\": 1, \"49\": 3}, \"57\": {\"57\": 99, \"19\": 2, \"35\": 1, \"56\": 22, \"1\": 1, \"44\": 3}, \"53\": {\"53\": 140}, \"43\": {\"43\": 144}, \"37\": {\"37\": 30, \"25\": 2}, \"2\": {\"2\": 35, \"50\": 1}, \"6\": {\"6\": 90, \"5\": 6}, \"13\": {\"13\": 148, \"20\": 2}, \"18\": {\"18\": 72}, \"36\": {\"36\": 64}, \"29\": {\"29\": 140}, \"39\": {\"0\": 5, \"39\": 23}, \"17\": {\"17\": 64}, \"21\": {\"21\": 119, \"23\": 1, \"15\": 3, \"0\": 1}, \"25\": {\"25\": 129, \"18\": 1, \"37\": 2}, \"45\": {\"45\": 141, \"42\": 1}, \"38\": {\"38\": 21, \"23\": 2, \"15\": 1}, \"30\": {\"30\": 120}, \"24\": {\"24\": 93, \"10\": 4, \"22\": 10, \"11\": 1}, \"20\": {\"20\": 136, \"13\": 4}, \"8\": {\"8\": 132, \"9\": 8}, \"35\": {\"35\": 35, \"44\": 1}, \"54\": {\"54\": 102, \"33\": 2}, \"5\": {\"5\": 136, \"6\": 8, \"48\": 4}, \"48\": {\"48\": 138, \"2\": 1, \"5\": 3, \"50\": 2}, \"15\": {\"15\": 140, \"21\": 1, \"0\": 1}, \"34\": {\"34\": 23, \"55\": 1}, \"14\": {\"42\": 1, \"54\": 1, \"53\": 2, \"26\": 2, \"14\": 9, \"16\": 1, \"9\": 1, \"8\": 3, \"51\": 1, \"30\": 1, \"20\": 1, \"13\": 1}, \"32\": {\"32\": 32}, \"40\": {\"40\": 148}, \"44\": {\"44\": 115, \"57\": 9, \"56\": 8, \"35\": 1, \"19\": 3}}, \"CORES_2\": {\"36\": {\"36\": 116}, \"5\": {\"5\": 109, \"47\": 2, \"57\": 7, \"42\": 1, \"1\": 1}, \"45\": {\"4\": 1, \"45\": 126, \"40\": 1}, \"49\": {\"49\": 23, \"57\": 1}, \"50\": {\"50\": 103, \"6\": 23, \"8\": 10}, \"4\": {\"4\": 137, \"9\": 1}, \"43\": {\"43\": 148}, \"41\": {\"41\": 20}, \"37\": {\"37\": 36}, \"12\": {\"12\": 92}, \"33\": {\"33\": 27, \"34\": 1}, \"7\": {\"7\": 36}, \"56\": {\"56\": 140}, \"14\": {\"56\": 9, \"14\": 10, \"42\": 1, \"29\": 1, \"47\": 2, \"55\": 1}, \"52\": {\"52\": 124}, \"44\": {\"44\": 95, \"19\": 1}, \"48\": {\"48\": 144}, \"20\": {\"20\": 127, \"53\": 1}, \"55\": {\"55\": 144}, \"32\": {\"32\": 28}, \"40\": {\"40\": 133, \"19\": 2, \"4\": 1}, \"54\": {\"54\": 108}, \"17\": {\"17\": 104}, \"38\": {\"38\": 20}, \"24\": {\"24\": 96}, \"1\": {\"1\": 110, \"57\": 1, \"55\": 1}, \"6\": {\"6\": 108, \"50\": 13, \"36\": 1, \"8\": 2}, \"34\": {\"34\": 28}, \"11\": {\"11\": 136}, \"9\": {\"9\": 150}, \"8\": {\"8\": 151, \"50\": 1}, \"22\": {\"22\": 134, \"56\": 2}, \"26\": {\"26\": 24}, \"23\": {\"23\": 145, \"39\": 1}, \"10\": {\"10\": 112}, \"18\": {\"18\": 46, \"30\": 2}, \"13\": {\"13\": 116}, \"30\": {\"30\": 118, \"18\": 3, \"54\": 2, \"23\": 1, \"25\": 3, \"8\": 1}, \"42\": {\"57\": 4, \"42\": 32}, \"31\": {\"31\": 28}, \"46\": {\"46\": 123, \"16\": 2, \"6\": 1, \"52\": 1, \"11\": 1}, \"57\": {\"57\": 141, \"42\": 1}, \"47\": {\"47\": 133, \"0\": 5}, \"35\": {\"35\": 32}, \"15\": {\"15\": 132}, \"25\": {\"25\": 136}, \"19\": {\"19\": 135, \"40\": 1}, \"51\": {\"51\": 128}, \"53\": {\"53\": 134}, \"21\": {\"21\": 120}, \"39\": {\"39\": 28}, \"2\": {\"2\": 32}, \"16\": {\"16\": 150}, \"0\": {\"0\": 44, \"5\": 1, \"47\": 3}, \"3\": {\"3\": 92}, \"27\": {\"27\": 142}, \"28\": {\"28\": 28}, \"29\": {\"29\": 128}}}, \"per_domain_accuracy\": {\"ORACLE.run1_14\": {\"accuracy\": 0.6817708333333333, \"source?\": true}, \"ORACLE.run1_20\": {\"accuracy\": 0.4421875, \"source?\": true}, \"ORACLE.run1_38\": {\"accuracy\": 0.646875, \"source?\": true}, \"ORACLE.run1_8\": {\"accuracy\": 0.5145833333333333, \"source?\": true}, \"ORACLE.run1_50\": {\"accuracy\": 0.66875, \"source?\": true}, \"ORACLE.run1_32\": {\"accuracy\": 0.6752604166666667, \"source?\": true}, \"ORACLE.run1_26\": {\"accuracy\": 0.4127604166666667, \"source?\": true}, \"ORACLE.run1_44\": {\"accuracy\": 0.6591145833333333, \"source?\": true}, \"CORES_3\": {\"accuracy\": 0.9674781976744186, \"source?\": false}, \"CORES_4\": {\"accuracy\": 0.9573863636363636, \"source?\": false}, \"CORES_5\": {\"accuracy\": 0.9493715083798883, \"source?\": false}, \"CORES_1\": {\"accuracy\": 0.9499658469945356, \"source?\": false}, \"CORES_2\": {\"accuracy\": 0.9784604519774012, \"source?\": false}}}, \"history\": {\"epoch_indices\": [1, 2, 3, 4, 5, 6], \"train_label_loss\": [1.6813343117013573, 1.040908590185323, 0.8696315866850671, 0.7530108370108619, 0.6567456628362249, 0.5738820759468668], \"source_val_label_loss\": [1.2630536556243896, 1.0915169715881348, 1.053457498550415, 1.0827301740646362, 1.1277401447296143, 1.1691821813583374], \"target_val_label_loss\": [0.2142089456319809, 0.17346811294555664, 0.20290681719779968, 0.2584933936595917, 0.2576254606246948, 0.28329169750213623], \"source_val_acc_label\": [0.5317708333333333, 0.5876627604166667, 0.6010091145833333, 0.6001953125, 0.6005533854166667, 0.6010416666666667], \"target_val_acc_label\": [0.945704908675799, 0.9604380707762558, 0.9602953767123288, 0.9516980593607306, 0.959189497716895, 0.9586187214611872]}, \"dataset_metrics\": {\"source\": {\"train\": {\"n_unique_x\": 179200, \"n_unique_y\": 16, \"n_batch/episode\": 6720}, \"val\": {\"n_unique_x\": 38400, \"n_unique_y\": 16, \"n_batch/episode\": 960}, \"test\": {\"n_unique_x\": 38400, \"n_unique_y\": 16, \"n_batch/episode\": 960}}, \"target\": {\"train\": {\"n_unique_x\": 175212, \"n_unique_y\": 58, \"n_batch/episode\": 6322}, \"val\": {\"n_unique_x\": 37196, \"n_unique_y\": 58, \"n_batch/episode\": 876}, \"test\": {\"n_unique_x\": 37634, \"n_unique_y\": 58, \"n_batch/episode\": 891}}}}'"
      ]
     },
     "execution_count": 29,
     "metadata": {},
     "output_type": "execute_result"
    }
   ],
   "source": [
    "json.dumps(experiment)"
   ]
  }
 ],
 "metadata": {
  "celltoolbar": "Tags",
  "kernelspec": {
   "display_name": "Python 3 (ipykernel)",
   "language": "python",
   "name": "python3"
  },
  "language_info": {
   "codemirror_mode": {
    "name": "ipython",
    "version": 3
   },
   "file_extension": ".py",
   "mimetype": "text/x-python",
   "name": "python",
   "nbconvert_exporter": "python",
   "pygments_lexer": "ipython3",
   "version": "3.8.12"
  },
  "papermill": {
   "default_parameters": {},
   "duration": 1954.185217,
   "end_time": "2022-03-22T05:05:00.605319",
   "environment_variables": {},
   "exception": null,
   "input_path": "/root/csc500-main/csc500-notebooks/templates/tl_ptn_template.ipynb",
   "output_path": "trial.ipynb",
   "parameters": {
    "parameters": {
     "BEST_MODEL_PATH": "./best_model.pth",
     "NUM_LOGS_PER_EPOCH": 10,
     "criteria_for_best": "target_accuracy",
     "dataset_seed": 1337,
     "datasets": [
      {
       "domain_prefix": "CORES_",
       "domains": [
        1,
        2,
        3,
        4,
        5
       ],
       "episode_transforms": [],
       "labels": [
        "1-10.",
        "1-11.",
        "1-15.",
        "1-16.",
        "1-17.",
        "1-18.",
        "1-19.",
        "10-4.",
        "10-7.",
        "11-1.",
        "11-14.",
        "11-17.",
        "11-20.",
        "11-7.",
        "13-20.",
        "13-8.",
        "14-10.",
        "14-11.",
        "14-14.",
        "14-7.",
        "15-1.",
        "15-20.",
        "16-1.",
        "16-16.",
        "17-10.",
        "17-11.",
        "17-2.",
        "19-1.",
        "19-16.",
        "19-19.",
        "19-20.",
        "19-3.",
        "2-10.",
        "2-11.",
        "2-17.",
        "2-18.",
        "2-20.",
        "2-3.",
        "2-4.",
        "2-5.",
        "2-6.",
        "2-7.",
        "2-8.",
        "3-13.",
        "3-18.",
        "3-3.",
        "4-1.",
        "4-10.",
        "4-11.",
        "4-19.",
        "5-5.",
        "6-15.",
        "7-10.",
        "7-14.",
        "8-18.",
        "8-20.",
        "8-3.",
        "8-8."
       ],
       "num_examples_per_domain_per_label": -1,
       "pickle_path": "/root/csc500-main/datasets/cores.stratified_ds.2022A.pkl",
       "source_or_target_dataset": "target",
       "x_transforms": [
        "unit_mag"
       ]
      },
      {
       "domain_prefix": "ORACLE.run1_",
       "domains": [
        32,
        38,
        8,
        44,
        14,
        50,
        20,
        26
       ],
       "episode_transforms": [],
       "labels": [
        "3123D52",
        "3123D65",
        "3123D79",
        "3123D80",
        "3123D54",
        "3123D70",
        "3123D7B",
        "3123D89",
        "3123D58",
        "3123D76",
        "3123D7D",
        "3123EFE",
        "3123D64",
        "3123D78",
        "3123D7E",
        "3124E4A"
       ],
       "num_examples_per_domain_per_label": 2000,
       "pickle_path": "/root/csc500-main/datasets/oracle.Run1_10kExamples_stratified_ds.2022A.pkl",
       "source_or_target_dataset": "source",
       "x_transforms": [
        "unit_mag"
       ]
      }
     ],
     "device": "cuda",
     "experiment_name": "tl_1v2:cores-oracle.run1.limited",
     "lr": 0.0001,
     "n_epoch": 50,
     "n_query": 2,
     "n_shot": 3,
     "n_way": 16,
     "patience": 3,
     "seed": 1337,
     "test_k_factor": 2,
     "torch_default_dtype": "torch.float32",
     "train_k_factor": 3,
     "val_k_factor": 2,
     "x_net": [
      {
       "class": "nnReshape",
       "kargs": {
        "shape": [
         -1,
         1,
         2,
         256
        ]
       }
      },
      {
       "class": "Conv2d",
       "kargs": {
        "bias": false,
        "in_channels": 1,
        "kernel_size": [
         1,
         7
        ],
        "out_channels": 256,
        "padding": [
         0,
         3
        ]
       }
      },
      {
       "class": "ReLU",
       "kargs": {
        "inplace": true
       }
      },
      {
       "class": "BatchNorm2d",
       "kargs": {
        "num_features": 256
       }
      },
      {
       "class": "Conv2d",
       "kargs": {
        "bias": true,
        "in_channels": 256,
        "kernel_size": [
         2,
         7
        ],
        "out_channels": 80,
        "padding": [
         0,
         3
        ]
       }
      },
      {
       "class": "ReLU",
       "kargs": {
        "inplace": true
       }
      },
      {
       "class": "BatchNorm2d",
       "kargs": {
        "num_features": 80
       }
      },
      {
       "class": "Flatten",
       "kargs": {}
      },
      {
       "class": "Linear",
       "kargs": {
        "in_features": 20480,
        "out_features": 256
       }
      },
      {
       "class": "ReLU",
       "kargs": {
        "inplace": true
       }
      },
      {
       "class": "BatchNorm1d",
       "kargs": {
        "num_features": 256
       }
      },
      {
       "class": "Linear",
       "kargs": {
        "in_features": 256,
        "out_features": 256
       }
      }
     ]
    }
   },
   "start_time": "2022-03-22T04:32:26.420102",
   "version": "2.3.4"
  }
 },
 "nbformat": 4,
 "nbformat_minor": 5
}