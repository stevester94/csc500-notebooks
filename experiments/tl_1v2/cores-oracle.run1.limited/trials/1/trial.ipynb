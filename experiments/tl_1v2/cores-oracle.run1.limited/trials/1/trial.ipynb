{
 "cells": [
  {
   "cell_type": "markdown",
   "id": "9fea5f46",
   "metadata": {
    "papermill": {
     "duration": 0.028693,
     "end_time": "2022-03-22T02:30:16.186318",
     "exception": false,
     "start_time": "2022-03-22T02:30:16.157625",
     "status": "completed"
    },
    "tags": []
   },
   "source": [
    "# Transfer Learning Template"
   ]
  },
  {
   "cell_type": "code",
   "execution_count": 1,
   "id": "0902182a",
   "metadata": {
    "execution": {
     "iopub.execute_input": "2022-03-22T02:30:16.248845Z",
     "iopub.status.busy": "2022-03-22T02:30:16.247980Z",
     "iopub.status.idle": "2022-03-22T02:30:18.835667Z",
     "shell.execute_reply": "2022-03-22T02:30:18.835198Z"
    },
    "papermill": {
     "duration": 2.627695,
     "end_time": "2022-03-22T02:30:18.835772",
     "exception": false,
     "start_time": "2022-03-22T02:30:16.208077",
     "status": "completed"
    },
    "tags": []
   },
   "outputs": [],
   "source": [
    "%load_ext autoreload\n",
    "%autoreload 2\n",
    "%matplotlib inline\n",
    "\n",
    "    \n",
    "import os, json, sys, time, random\n",
    "import numpy as np\n",
    "import torch\n",
    "from torch.optim import Adam\n",
    "from  easydict import EasyDict\n",
    "import matplotlib.pyplot as plt\n",
    "\n",
    "from steves_models.steves_ptn import Steves_Prototypical_Network\n",
    "\n",
    "from steves_utils.lazy_iterable_wrapper import Lazy_Iterable_Wrapper\n",
    "from steves_utils.iterable_aggregator import Iterable_Aggregator\n",
    "from steves_utils.ptn_train_eval_test_jig import  PTN_Train_Eval_Test_Jig\n",
    "from steves_utils.torch_sequential_builder import build_sequential\n",
    "from steves_utils.torch_utils import get_dataset_metrics, ptn_confusion_by_domain_over_dataloader\n",
    "from steves_utils.utils_v2 import (per_domain_accuracy_from_confusion, get_datasets_base_path)\n",
    "from steves_utils.PTN.utils import independent_accuracy_assesment\n",
    "\n",
    "from torch.utils.data import DataLoader\n",
    "\n",
    "from steves_utils.stratified_dataset.episodic_accessor import Episodic_Accessor_Factory\n",
    "\n",
    "from steves_utils.ptn_do_report import (\n",
    "    get_loss_curve,\n",
    "    get_results_table,\n",
    "    get_parameters_table,\n",
    "    get_domain_accuracies,\n",
    ")\n",
    "\n",
    "from steves_utils.transforms import get_chained_transform"
   ]
  },
  {
   "cell_type": "markdown",
   "id": "41c840b4",
   "metadata": {
    "papermill": {
     "duration": 0.02052,
     "end_time": "2022-03-22T02:30:18.877896",
     "exception": false,
     "start_time": "2022-03-22T02:30:18.857376",
     "status": "completed"
    },
    "tags": []
   },
   "source": [
    "# Allowed Parameters\n",
    "These are allowed parameters, not defaults\n",
    "Each of these values need to be present in the injected parameters (the notebook will raise an exception if they are not present)\n",
    "\n",
    "Papermill uses the cell tag \"parameters\" to inject the real parameters below this cell.\n",
    "Enable tags to see what I mean"
   ]
  },
  {
   "cell_type": "code",
   "execution_count": 2,
   "id": "fd44eb83",
   "metadata": {
    "execution": {
     "iopub.execute_input": "2022-03-22T02:30:18.922269Z",
     "iopub.status.busy": "2022-03-22T02:30:18.921871Z",
     "iopub.status.idle": "2022-03-22T02:30:18.940674Z",
     "shell.execute_reply": "2022-03-22T02:30:18.941328Z"
    },
    "papermill": {
     "duration": 0.043284,
     "end_time": "2022-03-22T02:30:18.941557",
     "exception": false,
     "start_time": "2022-03-22T02:30:18.898273",
     "status": "completed"
    },
    "tags": []
   },
   "outputs": [],
   "source": [
    "required_parameters = {\n",
    "    \"experiment_name\",\n",
    "    \"lr\",\n",
    "    \"device\",\n",
    "    \"seed\",\n",
    "    \"dataset_seed\",\n",
    "    \"n_shot\",\n",
    "    \"n_query\",\n",
    "    \"n_way\",\n",
    "    \"train_k_factor\",\n",
    "    \"val_k_factor\",\n",
    "    \"test_k_factor\",\n",
    "    \"n_epoch\",\n",
    "    \"patience\",\n",
    "    \"criteria_for_best\",\n",
    "    \"x_net\",\n",
    "    \"datasets\",\n",
    "    \"torch_default_dtype\",\n",
    "    \"NUM_LOGS_PER_EPOCH\",\n",
    "    \"BEST_MODEL_PATH\",\n",
    "    \"x_shape\",\n",
    "}"
   ]
  },
  {
   "cell_type": "code",
   "execution_count": 3,
   "id": "fa3f0049",
   "metadata": {
    "execution": {
     "iopub.execute_input": "2022-03-22T02:30:18.996453Z",
     "iopub.status.busy": "2022-03-22T02:30:18.995809Z",
     "iopub.status.idle": "2022-03-22T02:30:19.016103Z",
     "shell.execute_reply": "2022-03-22T02:30:19.015249Z"
    },
    "papermill": {
     "duration": 0.049032,
     "end_time": "2022-03-22T02:30:19.016269",
     "exception": false,
     "start_time": "2022-03-22T02:30:18.967237",
     "status": "completed"
    },
    "tags": [
     "parameters"
    ]
   },
   "outputs": [],
   "source": [
    "from steves_utils.CORES.utils import (\n",
    "    ALL_NODES,\n",
    "    ALL_NODES_MINIMUM_1000_EXAMPLES,\n",
    "    ALL_DAYS\n",
    ")\n",
    "\n",
    "from steves_utils.ORACLE.utils_v2 import (\n",
    "    ALL_DISTANCES_FEET_NARROWED,\n",
    "    ALL_RUNS,\n",
    "    ALL_SERIAL_NUMBERS,\n",
    ")\n",
    "\n",
    "standalone_parameters = {}\n",
    "standalone_parameters[\"experiment_name\"] = \"STANDALONE PTN\"\n",
    "standalone_parameters[\"lr\"] = 0.001\n",
    "standalone_parameters[\"device\"] = \"cuda\"\n",
    "\n",
    "standalone_parameters[\"seed\"] = 1337\n",
    "standalone_parameters[\"dataset_seed\"] = 1337\n",
    "\n",
    "standalone_parameters[\"n_way\"] = 8\n",
    "standalone_parameters[\"n_shot\"] = 3\n",
    "standalone_parameters[\"n_query\"]  = 2\n",
    "standalone_parameters[\"train_k_factor\"] = 1\n",
    "standalone_parameters[\"val_k_factor\"] = 2\n",
    "standalone_parameters[\"test_k_factor\"] = 2\n",
    "\n",
    "\n",
    "standalone_parameters[\"n_epoch\"] = 50\n",
    "\n",
    "standalone_parameters[\"patience\"] = 10\n",
    "standalone_parameters[\"criteria_for_best\"] = \"source_loss\"\n",
    "\n",
    "standalone_parameters[\"datasets\"] = [\n",
    "    {\n",
    "        \"labels\": ALL_SERIAL_NUMBERS,\n",
    "        \"domains\": ALL_DISTANCES_FEET_NARROWED,\n",
    "        \"num_examples_per_domain_per_label\": 100,\n",
    "        \"pickle_path\": os.path.join(get_datasets_base_path(), \"oracle.Run1_framed_2000Examples_stratified_ds.2022A.pkl\"),\n",
    "        \"source_or_target_dataset\": \"source\",\n",
    "        \"x_transforms\": [\"unit_mag\", \"minus_two\"],\n",
    "        \"episode_transforms\": [],\n",
    "        \"domain_prefix\": \"ORACLE_\"\n",
    "    },\n",
    "    {\n",
    "        \"labels\": ALL_NODES,\n",
    "        \"domains\": ALL_DAYS,\n",
    "        \"num_examples_per_domain_per_label\": 100,\n",
    "        \"pickle_path\": os.path.join(get_datasets_base_path(), \"cores.stratified_ds.2022A.pkl\"),\n",
    "        \"source_or_target_dataset\": \"target\",\n",
    "        \"x_transforms\": [\"unit_power\", \"times_zero\"],\n",
    "        \"episode_transforms\": [],\n",
    "        \"domain_prefix\": \"CORES_\"\n",
    "    }   \n",
    "]\n",
    "\n",
    "standalone_parameters[\"torch_default_dtype\"] = \"torch.float32\" \n",
    "\n",
    "\n",
    "\n",
    "standalone_parameters[\"x_net\"] =     [\n",
    "    {\"class\": \"nnReshape\", \"kargs\": {\"shape\":[-1, 1, 2, 256]}},\n",
    "    {\"class\": \"Conv2d\", \"kargs\": { \"in_channels\":1, \"out_channels\":256, \"kernel_size\":(1,7), \"bias\":False, \"padding\":(0,3), },},\n",
    "    {\"class\": \"ReLU\", \"kargs\": {\"inplace\": True}},\n",
    "    {\"class\": \"BatchNorm2d\", \"kargs\": {\"num_features\":256}},\n",
    "\n",
    "    {\"class\": \"Conv2d\", \"kargs\": { \"in_channels\":256, \"out_channels\":80, \"kernel_size\":(2,7), \"bias\":True, \"padding\":(0,3), },},\n",
    "    {\"class\": \"ReLU\", \"kargs\": {\"inplace\": True}},\n",
    "    {\"class\": \"BatchNorm2d\", \"kargs\": {\"num_features\":80}},\n",
    "    {\"class\": \"Flatten\", \"kargs\": {}},\n",
    "\n",
    "    {\"class\": \"Linear\", \"kargs\": {\"in_features\": 80*256, \"out_features\": 256}}, # 80 units per IQ pair\n",
    "    {\"class\": \"ReLU\", \"kargs\": {\"inplace\": True}},\n",
    "    {\"class\": \"BatchNorm1d\", \"kargs\": {\"num_features\":256}},\n",
    "\n",
    "    {\"class\": \"Linear\", \"kargs\": {\"in_features\": 256, \"out_features\": 256}},\n",
    "]\n",
    "\n",
    "# Parameters relevant to results\n",
    "# These parameters will basically never need to change\n",
    "standalone_parameters[\"NUM_LOGS_PER_EPOCH\"] = 10\n",
    "standalone_parameters[\"BEST_MODEL_PATH\"] = \"./best_model.pth\"\n",
    "\n",
    "\n",
    "\n",
    "\n"
   ]
  },
  {
   "cell_type": "code",
   "execution_count": 4,
   "id": "0e90e3c0",
   "metadata": {
    "execution": {
     "iopub.execute_input": "2022-03-22T02:30:19.072144Z",
     "iopub.status.busy": "2022-03-22T02:30:19.069832Z",
     "iopub.status.idle": "2022-03-22T02:30:19.091198Z",
     "shell.execute_reply": "2022-03-22T02:30:19.090333Z"
    },
    "papermill": {
     "duration": 0.048384,
     "end_time": "2022-03-22T02:30:19.091358",
     "exception": false,
     "start_time": "2022-03-22T02:30:19.042974",
     "status": "completed"
    },
    "tags": [
     "injected-parameters"
    ]
   },
   "outputs": [],
   "source": [
    "# Parameters\n",
    "parameters = {\n",
    "    \"experiment_name\": \"tl_1v2:cores-oracle.run1.limited\",\n",
    "    \"device\": \"cuda\",\n",
    "    \"lr\": 0.0001,\n",
    "    \"n_shot\": 3,\n",
    "    \"n_query\": 2,\n",
    "    \"train_k_factor\": 3,\n",
    "    \"val_k_factor\": 2,\n",
    "    \"test_k_factor\": 2,\n",
    "    \"torch_default_dtype\": \"torch.float32\",\n",
    "    \"n_epoch\": 50,\n",
    "    \"patience\": 3,\n",
    "    \"criteria_for_best\": \"target_accuracy\",\n",
    "    \"x_net\": [\n",
    "        {\"class\": \"nnReshape\", \"kargs\": {\"shape\": [-1, 1, 2, 256]}},\n",
    "        {\n",
    "            \"class\": \"Conv2d\",\n",
    "            \"kargs\": {\n",
    "                \"in_channels\": 1,\n",
    "                \"out_channels\": 256,\n",
    "                \"kernel_size\": [1, 7],\n",
    "                \"bias\": False,\n",
    "                \"padding\": [0, 3],\n",
    "            },\n",
    "        },\n",
    "        {\"class\": \"ReLU\", \"kargs\": {\"inplace\": True}},\n",
    "        {\"class\": \"BatchNorm2d\", \"kargs\": {\"num_features\": 256}},\n",
    "        {\n",
    "            \"class\": \"Conv2d\",\n",
    "            \"kargs\": {\n",
    "                \"in_channels\": 256,\n",
    "                \"out_channels\": 80,\n",
    "                \"kernel_size\": [2, 7],\n",
    "                \"bias\": True,\n",
    "                \"padding\": [0, 3],\n",
    "            },\n",
    "        },\n",
    "        {\"class\": \"ReLU\", \"kargs\": {\"inplace\": True}},\n",
    "        {\"class\": \"BatchNorm2d\", \"kargs\": {\"num_features\": 80}},\n",
    "        {\"class\": \"Flatten\", \"kargs\": {}},\n",
    "        {\"class\": \"Linear\", \"kargs\": {\"in_features\": 20480, \"out_features\": 256}},\n",
    "        {\"class\": \"ReLU\", \"kargs\": {\"inplace\": True}},\n",
    "        {\"class\": \"BatchNorm1d\", \"kargs\": {\"num_features\": 256}},\n",
    "        {\"class\": \"Linear\", \"kargs\": {\"in_features\": 256, \"out_features\": 256}},\n",
    "    ],\n",
    "    \"NUM_LOGS_PER_EPOCH\": 10,\n",
    "    \"BEST_MODEL_PATH\": \"./best_model.pth\",\n",
    "    \"n_way\": 16,\n",
    "    \"datasets\": [\n",
    "        {\n",
    "            \"labels\": [\n",
    "                \"1-10.\",\n",
    "                \"1-11.\",\n",
    "                \"1-15.\",\n",
    "                \"1-16.\",\n",
    "                \"1-17.\",\n",
    "                \"1-18.\",\n",
    "                \"1-19.\",\n",
    "                \"10-4.\",\n",
    "                \"10-7.\",\n",
    "                \"11-1.\",\n",
    "                \"11-14.\",\n",
    "                \"11-17.\",\n",
    "                \"11-20.\",\n",
    "                \"11-7.\",\n",
    "                \"13-20.\",\n",
    "                \"13-8.\",\n",
    "                \"14-10.\",\n",
    "                \"14-11.\",\n",
    "                \"14-14.\",\n",
    "                \"14-7.\",\n",
    "                \"15-1.\",\n",
    "                \"15-20.\",\n",
    "                \"16-1.\",\n",
    "                \"16-16.\",\n",
    "                \"17-10.\",\n",
    "                \"17-11.\",\n",
    "                \"17-2.\",\n",
    "                \"19-1.\",\n",
    "                \"19-16.\",\n",
    "                \"19-19.\",\n",
    "                \"19-20.\",\n",
    "                \"19-3.\",\n",
    "                \"2-10.\",\n",
    "                \"2-11.\",\n",
    "                \"2-17.\",\n",
    "                \"2-18.\",\n",
    "                \"2-20.\",\n",
    "                \"2-3.\",\n",
    "                \"2-4.\",\n",
    "                \"2-5.\",\n",
    "                \"2-6.\",\n",
    "                \"2-7.\",\n",
    "                \"2-8.\",\n",
    "                \"3-13.\",\n",
    "                \"3-18.\",\n",
    "                \"3-3.\",\n",
    "                \"4-1.\",\n",
    "                \"4-10.\",\n",
    "                \"4-11.\",\n",
    "                \"4-19.\",\n",
    "                \"5-5.\",\n",
    "                \"6-15.\",\n",
    "                \"7-10.\",\n",
    "                \"7-14.\",\n",
    "                \"8-18.\",\n",
    "                \"8-20.\",\n",
    "                \"8-3.\",\n",
    "                \"8-8.\",\n",
    "            ],\n",
    "            \"domains\": [1, 2, 3, 4, 5],\n",
    "            \"num_examples_per_domain_per_label\": -1,\n",
    "            \"pickle_path\": \"/root/csc500-main/datasets/cores.stratified_ds.2022A.pkl\",\n",
    "            \"source_or_target_dataset\": \"source\",\n",
    "            \"x_transforms\": [\"unit_mag\"],\n",
    "            \"episode_transforms\": [],\n",
    "            \"domain_prefix\": \"CORES_\",\n",
    "        },\n",
    "        {\n",
    "            \"labels\": [\n",
    "                \"3123D52\",\n",
    "                \"3123D65\",\n",
    "                \"3123D79\",\n",
    "                \"3123D80\",\n",
    "                \"3123D54\",\n",
    "                \"3123D70\",\n",
    "                \"3123D7B\",\n",
    "                \"3123D89\",\n",
    "                \"3123D58\",\n",
    "                \"3123D76\",\n",
    "                \"3123D7D\",\n",
    "                \"3123EFE\",\n",
    "                \"3123D64\",\n",
    "                \"3123D78\",\n",
    "                \"3123D7E\",\n",
    "                \"3124E4A\",\n",
    "            ],\n",
    "            \"domains\": [32, 38, 8, 44, 14, 50, 20, 26],\n",
    "            \"num_examples_per_domain_per_label\": 2000,\n",
    "            \"pickle_path\": \"/root/csc500-main/datasets/oracle.Run1_10kExamples_stratified_ds.2022A.pkl\",\n",
    "            \"source_or_target_dataset\": \"target\",\n",
    "            \"x_transforms\": [\"unit_mag\"],\n",
    "            \"episode_transforms\": [],\n",
    "            \"domain_prefix\": \"ORACLE.run1_\",\n",
    "        },\n",
    "    ],\n",
    "    \"dataset_seed\": 1337,\n",
    "    \"seed\": 1337,\n",
    "}\n"
   ]
  },
  {
   "cell_type": "code",
   "execution_count": 5,
   "id": "8fa1cc33",
   "metadata": {
    "execution": {
     "iopub.execute_input": "2022-03-22T02:30:19.140546Z",
     "iopub.status.busy": "2022-03-22T02:30:19.139012Z",
     "iopub.status.idle": "2022-03-22T02:30:19.156695Z",
     "shell.execute_reply": "2022-03-22T02:30:19.157378Z"
    },
    "papermill": {
     "duration": 0.04152,
     "end_time": "2022-03-22T02:30:19.157562",
     "exception": false,
     "start_time": "2022-03-22T02:30:19.116042",
     "status": "completed"
    },
    "tags": []
   },
   "outputs": [],
   "source": [
    "# Set this to True if you want to run this template directly\n",
    "STANDALONE = False\n",
    "if STANDALONE:\n",
    "    print(\"parameters not injected, running with standalone_parameters\")\n",
    "    parameters = standalone_parameters\n",
    "\n",
    "if not 'parameters' in locals() and not 'parameters' in globals():\n",
    "    raise Exception(\"Parameter injection failed\")\n",
    "\n",
    "#Use an easy dict for all the parameters\n",
    "p = EasyDict(parameters)\n",
    "\n",
    "if \"x_shape\" not in p:\n",
    "    p.x_shape = [2,256] # Default to this if we dont supply x_shape\n",
    "\n",
    "\n",
    "supplied_keys = set(p.keys())\n",
    "\n",
    "if  supplied_keys != required_parameters:\n",
    "    print(\"Parameters are incorrect\")\n",
    "    if len(supplied_keys - required_parameters)>0: print(\"Shouldn't have:\", str(supplied_keys - required_parameters))\n",
    "    if len(required_parameters - supplied_keys)>0: print(\"Need to have:\", str(required_parameters - supplied_keys))\n",
    "    raise RuntimeError(\"Parameters are incorrect\")"
   ]
  },
  {
   "cell_type": "code",
   "execution_count": 6,
   "id": "3a028d58",
   "metadata": {
    "execution": {
     "iopub.execute_input": "2022-03-22T02:30:19.208885Z",
     "iopub.status.busy": "2022-03-22T02:30:19.208308Z",
     "iopub.status.idle": "2022-03-22T02:30:19.226404Z",
     "shell.execute_reply": "2022-03-22T02:30:19.225483Z"
    },
    "papermill": {
     "duration": 0.040993,
     "end_time": "2022-03-22T02:30:19.226573",
     "exception": false,
     "start_time": "2022-03-22T02:30:19.185580",
     "status": "completed"
    },
    "tags": []
   },
   "outputs": [],
   "source": [
    "###################################\n",
    "# Set the RNGs and make it all deterministic\n",
    "###################################\n",
    "np.random.seed(p.seed)\n",
    "random.seed(p.seed)\n",
    "torch.manual_seed(p.seed)\n",
    "\n",
    "torch.use_deterministic_algorithms(True) "
   ]
  },
  {
   "cell_type": "code",
   "execution_count": 7,
   "id": "b691acf6",
   "metadata": {
    "execution": {
     "iopub.execute_input": "2022-03-22T02:30:19.273844Z",
     "iopub.status.busy": "2022-03-22T02:30:19.273226Z",
     "iopub.status.idle": "2022-03-22T02:30:19.290520Z",
     "shell.execute_reply": "2022-03-22T02:30:19.289706Z"
    },
    "papermill": {
     "duration": 0.039617,
     "end_time": "2022-03-22T02:30:19.290687",
     "exception": false,
     "start_time": "2022-03-22T02:30:19.251070",
     "status": "completed"
    },
    "tags": []
   },
   "outputs": [],
   "source": [
    "###########################################\n",
    "# The stratified datasets honor this\n",
    "###########################################\n",
    "torch.set_default_dtype(eval(p.torch_default_dtype))"
   ]
  },
  {
   "cell_type": "code",
   "execution_count": 8,
   "id": "b5fba671",
   "metadata": {
    "execution": {
     "iopub.execute_input": "2022-03-22T02:30:19.340533Z",
     "iopub.status.busy": "2022-03-22T02:30:19.340125Z",
     "iopub.status.idle": "2022-03-22T02:30:19.392152Z",
     "shell.execute_reply": "2022-03-22T02:30:19.391413Z"
    },
    "papermill": {
     "duration": 0.07431,
     "end_time": "2022-03-22T02:30:19.392318",
     "exception": false,
     "start_time": "2022-03-22T02:30:19.318008",
     "status": "completed"
    },
    "tags": []
   },
   "outputs": [],
   "source": [
    "###################################\n",
    "# Build the network(s)\n",
    "# Note: It's critical to do this AFTER setting the RNG\n",
    "###################################\n",
    "x_net = build_sequential(p.x_net)"
   ]
  },
  {
   "cell_type": "code",
   "execution_count": 9,
   "id": "5d7e61cc",
   "metadata": {
    "execution": {
     "iopub.execute_input": "2022-03-22T02:30:19.439719Z",
     "iopub.status.busy": "2022-03-22T02:30:19.439330Z",
     "iopub.status.idle": "2022-03-22T02:30:19.465868Z",
     "shell.execute_reply": "2022-03-22T02:30:19.465135Z"
    },
    "papermill": {
     "duration": 0.04935,
     "end_time": "2022-03-22T02:30:19.466033",
     "exception": false,
     "start_time": "2022-03-22T02:30:19.416683",
     "status": "completed"
    },
    "tags": []
   },
   "outputs": [],
   "source": [
    "start_time_secs = time.time()"
   ]
  },
  {
   "cell_type": "code",
   "execution_count": 10,
   "id": "c6b67dfd",
   "metadata": {
    "execution": {
     "iopub.execute_input": "2022-03-22T02:30:19.516680Z",
     "iopub.status.busy": "2022-03-22T02:30:19.516222Z",
     "iopub.status.idle": "2022-03-22T02:30:19.539103Z",
     "shell.execute_reply": "2022-03-22T02:30:19.538278Z"
    },
    "papermill": {
     "duration": 0.047159,
     "end_time": "2022-03-22T02:30:19.539265",
     "exception": false,
     "start_time": "2022-03-22T02:30:19.492106",
     "status": "completed"
    },
    "tags": []
   },
   "outputs": [],
   "source": [
    "p.domains_source = []\n",
    "p.domains_target = []\n",
    "\n",
    "\n",
    "train_original_source = []\n",
    "val_original_source   = []\n",
    "test_original_source  = []\n",
    "\n",
    "train_original_target = []\n",
    "val_original_target   = []\n",
    "test_original_target  = []"
   ]
  },
  {
   "cell_type": "code",
   "execution_count": 11,
   "id": "e3d9c3d3",
   "metadata": {
    "execution": {
     "iopub.execute_input": "2022-03-22T02:30:19.598128Z",
     "iopub.status.busy": "2022-03-22T02:30:19.597414Z",
     "iopub.status.idle": "2022-03-22T02:30:19.617952Z",
     "shell.execute_reply": "2022-03-22T02:30:19.618632Z"
    },
    "papermill": {
     "duration": 0.046138,
     "end_time": "2022-03-22T02:30:19.618828",
     "exception": false,
     "start_time": "2022-03-22T02:30:19.572690",
     "status": "completed"
    },
    "tags": []
   },
   "outputs": [],
   "source": [
    "# global_x_transform_func = lambda x: normalize(x.to(torch.get_default_dtype()), \"unit_power\") # unit_power, unit_mag\n",
    "# global_x_transform_func = lambda x: normalize(x, \"unit_power\") # unit_power, unit_mag"
   ]
  },
  {
   "cell_type": "code",
   "execution_count": 12,
   "id": "acb78fd2",
   "metadata": {
    "execution": {
     "iopub.execute_input": "2022-03-22T02:30:19.677970Z",
     "iopub.status.busy": "2022-03-22T02:30:19.677156Z",
     "iopub.status.idle": "2022-03-22T02:30:19.696124Z",
     "shell.execute_reply": "2022-03-22T02:30:19.695368Z"
    },
    "papermill": {
     "duration": 0.052235,
     "end_time": "2022-03-22T02:30:19.696279",
     "exception": false,
     "start_time": "2022-03-22T02:30:19.644044",
     "status": "completed"
    },
    "tags": []
   },
   "outputs": [],
   "source": [
    "def add_dataset(\n",
    "    labels,\n",
    "    domains,\n",
    "    pickle_path,\n",
    "    x_transforms,\n",
    "    episode_transforms,\n",
    "    domain_prefix,\n",
    "    num_examples_per_domain_per_label,\n",
    "    source_or_target_dataset:str,\n",
    "    iterator_seed=p.seed,\n",
    "    dataset_seed=p.dataset_seed,\n",
    "    n_shot=p.n_shot,\n",
    "    n_way=p.n_way,\n",
    "    n_query=p.n_query,\n",
    "    train_val_test_k_factors=(p.train_k_factor,p.val_k_factor,p.test_k_factor),\n",
    "):\n",
    "   \n",
    "    if x_transforms == []: x_transform = None\n",
    "    else: x_transform = get_chained_transform(x_transforms)\n",
    "    \n",
    "    if episode_transforms == []: episode_transform = None\n",
    "    else: raise Exception(\"episode_transforms not implemented\")\n",
    "    \n",
    "    episode_transform = lambda tup, _prefix=domain_prefix: (_prefix + str(tup[0]), tup[1])\n",
    "\n",
    "\n",
    "    eaf = Episodic_Accessor_Factory(\n",
    "        labels=labels,\n",
    "        domains=domains,\n",
    "        num_examples_per_domain_per_label=num_examples_per_domain_per_label,\n",
    "        iterator_seed=iterator_seed,\n",
    "        dataset_seed=dataset_seed,\n",
    "        n_shot=n_shot,\n",
    "        n_way=n_way,\n",
    "        n_query=n_query,\n",
    "        train_val_test_k_factors=train_val_test_k_factors,\n",
    "        pickle_path=pickle_path,\n",
    "        x_transform_func=x_transform,\n",
    "    )\n",
    "\n",
    "    train, val, test = eaf.get_train(), eaf.get_val(), eaf.get_test()\n",
    "    train = Lazy_Iterable_Wrapper(train, episode_transform)\n",
    "    val = Lazy_Iterable_Wrapper(val, episode_transform)\n",
    "    test = Lazy_Iterable_Wrapper(test, episode_transform)\n",
    "\n",
    "    if source_or_target_dataset==\"source\":\n",
    "        train_original_source.append(train)\n",
    "        val_original_source.append(val)\n",
    "        test_original_source.append(test)\n",
    "\n",
    "        p.domains_source.extend(\n",
    "            [domain_prefix + str(u) for u in domains]\n",
    "        )\n",
    "    elif source_or_target_dataset==\"target\":\n",
    "        train_original_target.append(train)\n",
    "        val_original_target.append(val)\n",
    "        test_original_target.append(test)\n",
    "        p.domains_target.extend(\n",
    "            [domain_prefix + str(u) for u in domains]\n",
    "        )\n",
    "    else:\n",
    "        raise Exception(f\"invalid source_or_target_dataset: {source_or_target_dataset}\")\n",
    "    "
   ]
  },
  {
   "cell_type": "code",
   "execution_count": 13,
   "id": "fe266617",
   "metadata": {
    "execution": {
     "iopub.execute_input": "2022-03-22T02:30:19.748702Z",
     "iopub.status.busy": "2022-03-22T02:30:19.746568Z",
     "iopub.status.idle": "2022-03-22T02:31:06.250059Z",
     "shell.execute_reply": "2022-03-22T02:31:06.249323Z"
    },
    "papermill": {
     "duration": 46.52707,
     "end_time": "2022-03-22T02:31:06.250245",
     "exception": false,
     "start_time": "2022-03-22T02:30:19.723175",
     "status": "completed"
    },
    "tags": []
   },
   "outputs": [],
   "source": [
    "for ds in p.datasets:\n",
    "    add_dataset(**ds)"
   ]
  },
  {
   "cell_type": "code",
   "execution_count": 14,
   "id": "b90d65ac",
   "metadata": {
    "execution": {
     "iopub.execute_input": "2022-03-22T02:31:06.301286Z",
     "iopub.status.busy": "2022-03-22T02:31:06.300625Z",
     "iopub.status.idle": "2022-03-22T02:31:06.323308Z",
     "shell.execute_reply": "2022-03-22T02:31:06.322567Z"
    },
    "papermill": {
     "duration": 0.046457,
     "end_time": "2022-03-22T02:31:06.323478",
     "exception": false,
     "start_time": "2022-03-22T02:31:06.277021",
     "status": "completed"
    },
    "tags": []
   },
   "outputs": [],
   "source": [
    "# from steves_utils.CORES.utils import (\n",
    "#     ALL_NODES,\n",
    "#     ALL_NODES_MINIMUM_1000_EXAMPLES,\n",
    "#     ALL_DAYS\n",
    "# )\n",
    "\n",
    "# add_dataset(\n",
    "#     labels=ALL_NODES,\n",
    "#     domains = ALL_DAYS,\n",
    "#     num_examples_per_domain_per_label=100,\n",
    "#     pickle_path=os.path.join(get_datasets_base_path(), \"cores.stratified_ds.2022A.pkl\"),\n",
    "#     source_or_target_dataset=\"target\",\n",
    "#     x_transform_func=global_x_transform_func,\n",
    "#     domain_modifier=lambda u: f\"cores_{u}\"\n",
    "# )"
   ]
  },
  {
   "cell_type": "code",
   "execution_count": 15,
   "id": "76db484d",
   "metadata": {
    "execution": {
     "iopub.execute_input": "2022-03-22T02:31:06.376139Z",
     "iopub.status.busy": "2022-03-22T02:31:06.375755Z",
     "iopub.status.idle": "2022-03-22T02:31:06.397938Z",
     "shell.execute_reply": "2022-03-22T02:31:06.397209Z"
    },
    "papermill": {
     "duration": 0.046496,
     "end_time": "2022-03-22T02:31:06.398108",
     "exception": false,
     "start_time": "2022-03-22T02:31:06.351612",
     "status": "completed"
    },
    "tags": []
   },
   "outputs": [],
   "source": [
    "# from steves_utils.ORACLE.utils_v2 import (\n",
    "#     ALL_DISTANCES_FEET,\n",
    "#     ALL_RUNS,\n",
    "#     ALL_SERIAL_NUMBERS,\n",
    "# )\n",
    "\n",
    "\n",
    "# add_dataset(\n",
    "#     labels=ALL_SERIAL_NUMBERS,\n",
    "#     domains = list(set(ALL_DISTANCES_FEET) - {2,62}),\n",
    "#     num_examples_per_domain_per_label=100,\n",
    "#     pickle_path=os.path.join(get_datasets_base_path(), \"oracle.Run2_framed_2000Examples_stratified_ds.2022A.pkl\"),\n",
    "#     source_or_target_dataset=\"source\",\n",
    "#     x_transform_func=global_x_transform_func,\n",
    "#     domain_modifier=lambda u: f\"oracle1_{u}\"\n",
    "# )\n"
   ]
  },
  {
   "cell_type": "code",
   "execution_count": 16,
   "id": "97dea9d2",
   "metadata": {
    "execution": {
     "iopub.execute_input": "2022-03-22T02:31:06.458830Z",
     "iopub.status.busy": "2022-03-22T02:31:06.458444Z",
     "iopub.status.idle": "2022-03-22T02:31:06.474806Z",
     "shell.execute_reply": "2022-03-22T02:31:06.474073Z"
    },
    "papermill": {
     "duration": 0.049635,
     "end_time": "2022-03-22T02:31:06.474969",
     "exception": false,
     "start_time": "2022-03-22T02:31:06.425334",
     "status": "completed"
    },
    "tags": []
   },
   "outputs": [],
   "source": [
    "# from steves_utils.ORACLE.utils_v2 import (\n",
    "#     ALL_DISTANCES_FEET,\n",
    "#     ALL_RUNS,\n",
    "#     ALL_SERIAL_NUMBERS,\n",
    "# )\n",
    "\n",
    "\n",
    "# add_dataset(\n",
    "#     labels=ALL_SERIAL_NUMBERS,\n",
    "#     domains = list(set(ALL_DISTANCES_FEET) - {2,62,56}),\n",
    "#     num_examples_per_domain_per_label=100,\n",
    "#     pickle_path=os.path.join(get_datasets_base_path(), \"oracle.Run2_framed_2000Examples_stratified_ds.2022A.pkl\"),\n",
    "#     source_or_target_dataset=\"source\",\n",
    "#     x_transform_func=global_x_transform_func,\n",
    "#     domain_modifier=lambda u: f\"oracle2_{u}\"\n",
    "# )"
   ]
  },
  {
   "cell_type": "code",
   "execution_count": 17,
   "id": "6f289866",
   "metadata": {
    "execution": {
     "iopub.execute_input": "2022-03-22T02:31:06.526362Z",
     "iopub.status.busy": "2022-03-22T02:31:06.525991Z",
     "iopub.status.idle": "2022-03-22T02:31:06.546447Z",
     "shell.execute_reply": "2022-03-22T02:31:06.545724Z"
    },
    "papermill": {
     "duration": 0.043659,
     "end_time": "2022-03-22T02:31:06.546602",
     "exception": false,
     "start_time": "2022-03-22T02:31:06.502943",
     "status": "completed"
    },
    "tags": []
   },
   "outputs": [],
   "source": [
    "# add_dataset(\n",
    "#     labels=list(range(19)),\n",
    "#     domains = [0,1,2],\n",
    "#     num_examples_per_domain_per_label=100,\n",
    "#     pickle_path=os.path.join(get_datasets_base_path(), \"metehan.stratified_ds.2022A.pkl\"),\n",
    "#     source_or_target_dataset=\"target\",\n",
    "#     x_transform_func=global_x_transform_func,\n",
    "#     domain_modifier=lambda u: f\"met_{u}\"\n",
    "# )"
   ]
  },
  {
   "cell_type": "code",
   "execution_count": 18,
   "id": "86a863c3",
   "metadata": {
    "execution": {
     "iopub.execute_input": "2022-03-22T02:31:06.597569Z",
     "iopub.status.busy": "2022-03-22T02:31:06.597187Z",
     "iopub.status.idle": "2022-03-22T02:31:06.614092Z",
     "shell.execute_reply": "2022-03-22T02:31:06.613331Z"
    },
    "papermill": {
     "duration": 0.040958,
     "end_time": "2022-03-22T02:31:06.614247",
     "exception": false,
     "start_time": "2022-03-22T02:31:06.573289",
     "status": "completed"
    },
    "tags": []
   },
   "outputs": [],
   "source": [
    "# # from steves_utils.wisig.utils import (\n",
    "# #     ALL_NODES_MINIMUM_100_EXAMPLES,\n",
    "# #     ALL_NODES_MINIMUM_500_EXAMPLES,\n",
    "# #     ALL_NODES_MINIMUM_1000_EXAMPLES,\n",
    "# #     ALL_DAYS\n",
    "# # )\n",
    "\n",
    "# import steves_utils.wisig.utils as wisig\n",
    "\n",
    "\n",
    "# add_dataset(\n",
    "#     labels=wisig.ALL_NODES_MINIMUM_100_EXAMPLES,\n",
    "#     domains = wisig.ALL_DAYS,\n",
    "#     num_examples_per_domain_per_label=100,\n",
    "#     pickle_path=os.path.join(get_datasets_base_path(), \"wisig.node3-19.stratified_ds.2022A.pkl\"),\n",
    "#     source_or_target_dataset=\"target\",\n",
    "#     x_transform_func=global_x_transform_func,\n",
    "#     domain_modifier=lambda u: f\"wisig_{u}\"\n",
    "# )"
   ]
  },
  {
   "cell_type": "code",
   "execution_count": 19,
   "id": "fd5442bc",
   "metadata": {
    "execution": {
     "iopub.execute_input": "2022-03-22T02:31:06.670992Z",
     "iopub.status.busy": "2022-03-22T02:31:06.670608Z",
     "iopub.status.idle": "2022-03-22T02:31:06.689957Z",
     "shell.execute_reply": "2022-03-22T02:31:06.689139Z"
    },
    "papermill": {
     "duration": 0.049102,
     "end_time": "2022-03-22T02:31:06.690111",
     "exception": false,
     "start_time": "2022-03-22T02:31:06.641009",
     "status": "completed"
    },
    "tags": []
   },
   "outputs": [],
   "source": [
    "###################################\n",
    "# Build the dataset\n",
    "###################################\n",
    "train_original_source = Iterable_Aggregator(train_original_source, p.seed)\n",
    "val_original_source = Iterable_Aggregator(val_original_source, p.seed)\n",
    "test_original_source = Iterable_Aggregator(test_original_source, p.seed)\n",
    "\n",
    "\n",
    "train_original_target = Iterable_Aggregator(train_original_target, p.seed)\n",
    "val_original_target = Iterable_Aggregator(val_original_target, p.seed)\n",
    "test_original_target = Iterable_Aggregator(test_original_target, p.seed)\n",
    "\n",
    "# For CNN We only use X and Y. And we only train on the source.\n",
    "# Properly form the data using a transform lambda and Lazy_Iterable_Wrapper. Finally wrap them in a dataloader\n",
    "\n",
    "transform_lambda = lambda ex: ex[1] # Original is (<domain>, <episode>) so we strip down to episode only\n",
    "\n",
    "train_processed_source = Lazy_Iterable_Wrapper(train_original_source, transform_lambda)\n",
    "val_processed_source   = Lazy_Iterable_Wrapper(val_original_source, transform_lambda)\n",
    "test_processed_source  = Lazy_Iterable_Wrapper(test_original_source, transform_lambda)\n",
    "\n",
    "train_processed_target = Lazy_Iterable_Wrapper(train_original_target, transform_lambda)\n",
    "val_processed_target   = Lazy_Iterable_Wrapper(val_original_target, transform_lambda)\n",
    "test_processed_target  = Lazy_Iterable_Wrapper(test_original_target, transform_lambda)\n",
    "\n",
    "datasets = EasyDict({\n",
    "    \"source\": {\n",
    "        \"original\": {\"train\":train_original_source, \"val\":val_original_source, \"test\":test_original_source},\n",
    "        \"processed\": {\"train\":train_processed_source, \"val\":val_processed_source, \"test\":test_processed_source}\n",
    "    },\n",
    "    \"target\": {\n",
    "        \"original\": {\"train\":train_original_target, \"val\":val_original_target, \"test\":test_original_target},\n",
    "        \"processed\": {\"train\":train_processed_target, \"val\":val_processed_target, \"test\":test_processed_target}\n",
    "    },\n",
    "})"
   ]
  },
  {
   "cell_type": "code",
   "execution_count": 20,
   "id": "5b3c01fc",
   "metadata": {
    "execution": {
     "iopub.execute_input": "2022-03-22T02:31:06.742535Z",
     "iopub.status.busy": "2022-03-22T02:31:06.742163Z",
     "iopub.status.idle": "2022-03-22T02:31:22.101784Z",
     "shell.execute_reply": "2022-03-22T02:31:22.100721Z"
    },
    "papermill": {
     "duration": 15.384821,
     "end_time": "2022-03-22T02:31:22.102030",
     "exception": false,
     "start_time": "2022-03-22T02:31:06.717209",
     "status": "completed"
    },
    "tags": []
   },
   "outputs": [
    {
     "name": "stdout",
     "output_type": "stream",
     "text": [
      "{'CORES_4', 'CORES_3', 'CORES_2', 'CORES_1', 'CORES_5'}\n"
     ]
    },
    {
     "name": "stdout",
     "output_type": "stream",
     "text": [
      "{'ORACLE.run1_50', 'ORACLE.run1_14', 'ORACLE.run1_44', 'ORACLE.run1_32', 'ORACLE.run1_8', 'ORACLE.run1_20', 'ORACLE.run1_38', 'ORACLE.run1_26'}\n"
     ]
    },
    {
     "name": "stdout",
     "output_type": "stream",
     "text": [
      "tensor([[[-0.3482, -0.6463,  0.4590,  ..., -1.0148, -0.6411,  0.3263],\n",
      "         [ 0.1082, -0.8319, -0.6358,  ..., -0.0616, -0.0897, -0.6006]],\n",
      "\n",
      "        [[-0.5158, -0.5393,  0.8207,  ..., -0.9996, -0.3726,  0.5202],\n",
      "         [-0.0973, -0.9075, -0.3821,  ...,  0.2067, -0.2874, -0.5115]],\n",
      "\n",
      "        [[-0.2471, -0.3720,  0.3580,  ..., -0.5886, -0.8505,  0.2340],\n",
      "         [ 0.1502, -0.7527, -0.8383,  ..., -0.7161, -0.3074, -0.5336]],\n",
      "\n",
      "        ...,\n",
      "\n",
      "        [[ 0.5919,  0.7887,  0.8443,  ..., -1.0050, -2.0942, -1.0170],\n",
      "         [ 0.4417,  0.8248, -0.1097,  ..., -1.5218, -0.2719,  0.7451]],\n",
      "\n",
      "        [[ 0.4220,  0.4236, -0.1857,  ..., -0.0890, -0.4589, -0.0399],\n",
      "         [ 0.1611,  0.0568, -0.3392,  ..., -0.1212,  0.0875, -0.6661]],\n",
      "\n",
      "        [[ 0.3242,  0.5841,  0.7312,  ..., -1.0168, -1.6923, -0.5255],\n",
      "         [ 0.9525,  0.8183, -0.3999,  ..., -1.6866, -0.4498,  0.2856]]])\n"
     ]
    }
   ],
   "source": [
    "from steves_utils.transforms import get_average_magnitude, get_average_power\n",
    "\n",
    "print(set([u for u,_ in val_original_source]))\n",
    "print(set([u for u,_ in val_original_target]))\n",
    "\n",
    "s_x, s_y, q_x, q_y, _ = next(iter(train_processed_source))\n",
    "print(s_x)\n",
    "\n",
    "# for ds in [\n",
    "#     train_processed_source,\n",
    "#     val_processed_source,\n",
    "#     test_processed_source,\n",
    "#     train_processed_target,\n",
    "#     val_processed_target,\n",
    "#     test_processed_target\n",
    "# ]:\n",
    "#     for s_x, s_y, q_x, q_y, _ in ds:\n",
    "#         for X in (s_x, q_x):\n",
    "#             for x in X:\n",
    "#                 assert np.isclose(get_average_magnitude(x.numpy()), 1.0)\n",
    "#                 assert np.isclose(get_average_power(x.numpy()), 1.0)\n",
    "                "
   ]
  },
  {
   "cell_type": "code",
   "execution_count": 21,
   "id": "bbdacba1",
   "metadata": {
    "execution": {
     "iopub.execute_input": "2022-03-22T02:31:22.169895Z",
     "iopub.status.busy": "2022-03-22T02:31:22.169512Z",
     "iopub.status.idle": "2022-03-22T02:31:22.433037Z",
     "shell.execute_reply": "2022-03-22T02:31:22.432683Z"
    },
    "papermill": {
     "duration": 0.295394,
     "end_time": "2022-03-22T02:31:22.433130",
     "exception": false,
     "start_time": "2022-03-22T02:31:22.137736",
     "status": "completed"
    },
    "tags": []
   },
   "outputs": [
    {
     "name": "stdout",
     "output_type": "stream",
     "text": [
      "(2, 256)\n"
     ]
    }
   ],
   "source": [
    "###################################\n",
    "# Build the model\n",
    "###################################\n",
    "# easfsl only wants a tuple for the shape\n",
    "model = Steves_Prototypical_Network(x_net, device=p.device, x_shape=tuple(p.x_shape))\n",
    "optimizer = Adam(params=model.parameters(), lr=p.lr)"
   ]
  },
  {
   "cell_type": "code",
   "execution_count": 22,
   "id": "22b39ac5",
   "metadata": {
    "execution": {
     "iopub.execute_input": "2022-03-22T02:31:22.489917Z",
     "iopub.status.busy": "2022-03-22T02:31:22.489003Z",
     "iopub.status.idle": "2022-03-22T03:07:07.279704Z",
     "shell.execute_reply": "2022-03-22T03:07:07.279325Z"
    },
    "papermill": {
     "duration": 2144.823637,
     "end_time": "2022-03-22T03:07:07.279808",
     "exception": false,
     "start_time": "2022-03-22T02:31:22.456171",
     "status": "completed"
    },
    "tags": []
   },
   "outputs": [
    {
     "name": "stdout",
     "output_type": "stream",
     "text": [
      "epoch: 1, [batch: 1 / 6320], examples_per_second: 34.2414, train_label_loss: 2.6575, \n"
     ]
    },
    {
     "name": "stdout",
     "output_type": "stream",
     "text": [
      "epoch: 1, [batch: 632 / 6320], examples_per_second: 2969.9431, train_label_loss: 0.0061, \n"
     ]
    },
    {
     "name": "stdout",
     "output_type": "stream",
     "text": [
      "epoch: 1, [batch: 1264 / 6320], examples_per_second: 2970.4282, train_label_loss: 0.0006, \n"
     ]
    },
    {
     "name": "stdout",
     "output_type": "stream",
     "text": [
      "epoch: 1, [batch: 1896 / 6320], examples_per_second: 2934.8181, train_label_loss: 0.0015, \n"
     ]
    },
    {
     "name": "stdout",
     "output_type": "stream",
     "text": [
      "epoch: 1, [batch: 2528 / 6320], examples_per_second: 2905.5236, train_label_loss: 0.0041, \n"
     ]
    },
    {
     "name": "stdout",
     "output_type": "stream",
     "text": [
      "epoch: 1, [batch: 3160 / 6320], examples_per_second: 2962.1486, train_label_loss: 0.0030, \n"
     ]
    },
    {
     "name": "stdout",
     "output_type": "stream",
     "text": [
      "epoch: 1, [batch: 3792 / 6320], examples_per_second: 2933.7473, train_label_loss: 0.0005, \n"
     ]
    },
    {
     "name": "stdout",
     "output_type": "stream",
     "text": [
      "epoch: 1, [batch: 4424 / 6320], examples_per_second: 2987.4758, train_label_loss: 0.0034, \n"
     ]
    },
    {
     "name": "stdout",
     "output_type": "stream",
     "text": [
      "epoch: 1, [batch: 5056 / 6320], examples_per_second: 2970.5873, train_label_loss: 0.0007, \n"
     ]
    },
    {
     "name": "stdout",
     "output_type": "stream",
     "text": [
      "epoch: 1, [batch: 5688 / 6320], examples_per_second: 3431.0357, train_label_loss: 0.0000, \n"
     ]
    },
    {
     "name": "stdout",
     "output_type": "stream",
     "text": [
      "=============================================================\n",
      "epoch: 1, source_val_acc_label: 0.9980, target_val_acc_label: 0.1556, source_val_label_loss: 0.0098, target_val_label_loss: 2.6706, \n",
      "=============================================================\n"
     ]
    },
    {
     "name": "stdout",
     "output_type": "stream",
     "text": [
      "New best\n"
     ]
    },
    {
     "name": "stdout",
     "output_type": "stream",
     "text": [
      "epoch: 2, [batch: 1 / 6305], examples_per_second: 3.2953, train_label_loss: 0.0005, \n"
     ]
    },
    {
     "name": "stdout",
     "output_type": "stream",
     "text": [
      "epoch: 2, [batch: 631 / 6305], examples_per_second: 2960.7815, train_label_loss: 0.0000, \n"
     ]
    },
    {
     "name": "stdout",
     "output_type": "stream",
     "text": [
      "epoch: 2, [batch: 1261 / 6305], examples_per_second: 2991.2987, train_label_loss: 0.0005, \n"
     ]
    },
    {
     "name": "stdout",
     "output_type": "stream",
     "text": [
      "epoch: 2, [batch: 1892 / 6305], examples_per_second: 3001.2737, train_label_loss: 0.0000, \n"
     ]
    },
    {
     "name": "stdout",
     "output_type": "stream",
     "text": [
      "epoch: 2, [batch: 2522 / 6305], examples_per_second: 2947.4671, train_label_loss: 0.0000, \n"
     ]
    },
    {
     "name": "stdout",
     "output_type": "stream",
     "text": [
      "epoch: 2, [batch: 3153 / 6305], examples_per_second: 2999.6308, train_label_loss: 0.0026, \n"
     ]
    },
    {
     "name": "stdout",
     "output_type": "stream",
     "text": [
      "epoch: 2, [batch: 3783 / 6305], examples_per_second: 3002.8610, train_label_loss: 0.0744, \n"
     ]
    },
    {
     "name": "stdout",
     "output_type": "stream",
     "text": [
      "epoch: 2, [batch: 4413 / 6305], examples_per_second: 2983.1503, train_label_loss: 0.0001, \n"
     ]
    },
    {
     "name": "stdout",
     "output_type": "stream",
     "text": [
      "epoch: 2, [batch: 5044 / 6305], examples_per_second: 2997.7253, train_label_loss: 0.0005, \n"
     ]
    },
    {
     "name": "stdout",
     "output_type": "stream",
     "text": [
      "epoch: 2, [batch: 5674 / 6305], examples_per_second: 2995.3136, train_label_loss: 0.0000, \n"
     ]
    },
    {
     "name": "stdout",
     "output_type": "stream",
     "text": [
      "=============================================================\n",
      "epoch: 2, source_val_acc_label: 0.9988, target_val_acc_label: 0.1558, source_val_label_loss: 0.0084, target_val_label_loss: 3.1237, \n",
      "=============================================================\n"
     ]
    },
    {
     "name": "stdout",
     "output_type": "stream",
     "text": [
      "New best\n"
     ]
    },
    {
     "name": "stdout",
     "output_type": "stream",
     "text": [
      "epoch: 3, [batch: 1 / 6307], examples_per_second: 3.2853, train_label_loss: 0.0000, \n"
     ]
    },
    {
     "name": "stdout",
     "output_type": "stream",
     "text": [
      "epoch: 3, [batch: 631 / 6307], examples_per_second: 2332.5883, train_label_loss: 0.0004, \n"
     ]
    },
    {
     "name": "stdout",
     "output_type": "stream",
     "text": [
      "epoch: 3, [batch: 1262 / 6307], examples_per_second: 2297.5138, train_label_loss: 0.0002, \n"
     ]
    },
    {
     "name": "stdout",
     "output_type": "stream",
     "text": [
      "epoch: 3, [batch: 1892 / 6307], examples_per_second: 2313.8510, train_label_loss: 0.0887, \n"
     ]
    },
    {
     "name": "stdout",
     "output_type": "stream",
     "text": [
      "epoch: 3, [batch: 2523 / 6307], examples_per_second: 2296.7796, train_label_loss: 0.0000, \n"
     ]
    },
    {
     "name": "stdout",
     "output_type": "stream",
     "text": [
      "epoch: 3, [batch: 3154 / 6307], examples_per_second: 2334.2783, train_label_loss: 0.0001, \n"
     ]
    },
    {
     "name": "stdout",
     "output_type": "stream",
     "text": [
      "epoch: 3, [batch: 3784 / 6307], examples_per_second: 2316.9889, train_label_loss: 0.0000, \n"
     ]
    },
    {
     "name": "stdout",
     "output_type": "stream",
     "text": [
      "epoch: 3, [batch: 4415 / 6307], examples_per_second: 2302.2284, train_label_loss: 0.0000, \n"
     ]
    },
    {
     "name": "stdout",
     "output_type": "stream",
     "text": [
      "epoch: 3, [batch: 5045 / 6307], examples_per_second: 2327.7917, train_label_loss: 0.0000, \n"
     ]
    },
    {
     "name": "stdout",
     "output_type": "stream",
     "text": [
      "epoch: 3, [batch: 5676 / 6307], examples_per_second: 2322.2010, train_label_loss: 0.0044, \n"
     ]
    },
    {
     "name": "stdout",
     "output_type": "stream",
     "text": [
      "=============================================================\n",
      "epoch: 3, source_val_acc_label: 0.9990, target_val_acc_label: 0.1624, source_val_label_loss: 0.0097, target_val_label_loss: 3.1809, \n",
      "=============================================================\n"
     ]
    },
    {
     "name": "stdout",
     "output_type": "stream",
     "text": [
      "New best\n"
     ]
    },
    {
     "name": "stdout",
     "output_type": "stream",
     "text": [
      "epoch: 4, [batch: 1 / 6315], examples_per_second: 2.2910, train_label_loss: 0.0000, \n"
     ]
    },
    {
     "name": "stdout",
     "output_type": "stream",
     "text": [
      "epoch: 4, [batch: 632 / 6315], examples_per_second: 2470.4145, train_label_loss: 0.0000, \n"
     ]
    },
    {
     "name": "stdout",
     "output_type": "stream",
     "text": [
      "epoch: 4, [batch: 1263 / 6315], examples_per_second: 2326.0703, train_label_loss: 0.0000, \n"
     ]
    },
    {
     "name": "stdout",
     "output_type": "stream",
     "text": [
      "epoch: 4, [batch: 1895 / 6315], examples_per_second: 2300.4123, train_label_loss: 0.0001, \n"
     ]
    },
    {
     "name": "stdout",
     "output_type": "stream",
     "text": [
      "epoch: 4, [batch: 2526 / 6315], examples_per_second: 2310.4569, train_label_loss: 0.0000, \n"
     ]
    },
    {
     "name": "stdout",
     "output_type": "stream",
     "text": [
      "epoch: 4, [batch: 3158 / 6315], examples_per_second: 2315.7298, train_label_loss: 0.0008, \n"
     ]
    },
    {
     "name": "stdout",
     "output_type": "stream",
     "text": [
      "epoch: 4, [batch: 3789 / 6315], examples_per_second: 2298.1943, train_label_loss: 0.0002, \n"
     ]
    },
    {
     "name": "stdout",
     "output_type": "stream",
     "text": [
      "epoch: 4, [batch: 4420 / 6315], examples_per_second: 2327.3551, train_label_loss: 0.0000, \n"
     ]
    },
    {
     "name": "stdout",
     "output_type": "stream",
     "text": [
      "epoch: 4, [batch: 5052 / 6315], examples_per_second: 2321.2002, train_label_loss: 0.0000, \n"
     ]
    },
    {
     "name": "stdout",
     "output_type": "stream",
     "text": [
      "epoch: 4, [batch: 5683 / 6315], examples_per_second: 2318.8136, train_label_loss: 0.0000, \n"
     ]
    },
    {
     "name": "stdout",
     "output_type": "stream",
     "text": [
      "=============================================================\n",
      "epoch: 4, source_val_acc_label: 0.9992, target_val_acc_label: 0.1713, source_val_label_loss: 0.0104, target_val_label_loss: 3.5395, \n",
      "=============================================================\n"
     ]
    },
    {
     "name": "stdout",
     "output_type": "stream",
     "text": [
      "New best\n"
     ]
    },
    {
     "name": "stdout",
     "output_type": "stream",
     "text": [
      "epoch: 5, [batch: 1 / 6313], examples_per_second: 2.2119, train_label_loss: 0.0000, \n"
     ]
    },
    {
     "name": "stdout",
     "output_type": "stream",
     "text": [
      "epoch: 5, [batch: 632 / 6313], examples_per_second: 2940.9718, train_label_loss: 0.0000, \n"
     ]
    },
    {
     "name": "stdout",
     "output_type": "stream",
     "text": [
      "epoch: 5, [batch: 1263 / 6313], examples_per_second: 2941.7397, train_label_loss: 0.0000, \n"
     ]
    },
    {
     "name": "stdout",
     "output_type": "stream",
     "text": [
      "epoch: 5, [batch: 1894 / 6313], examples_per_second: 2943.5742, train_label_loss: 0.0000, \n"
     ]
    },
    {
     "name": "stdout",
     "output_type": "stream",
     "text": [
      "epoch: 5, [batch: 2525 / 6313], examples_per_second: 2942.0966, train_label_loss: 0.0000, \n"
     ]
    },
    {
     "name": "stdout",
     "output_type": "stream",
     "text": [
      "epoch: 5, [batch: 3157 / 6313], examples_per_second: 2953.8551, train_label_loss: 0.0000, \n"
     ]
    },
    {
     "name": "stdout",
     "output_type": "stream",
     "text": [
      "epoch: 5, [batch: 3788 / 6313], examples_per_second: 2939.8674, train_label_loss: 0.0000, \n"
     ]
    },
    {
     "name": "stdout",
     "output_type": "stream",
     "text": [
      "epoch: 5, [batch: 4419 / 6313], examples_per_second: 2970.1589, train_label_loss: 0.0000, \n"
     ]
    },
    {
     "name": "stdout",
     "output_type": "stream",
     "text": [
      "epoch: 5, [batch: 5050 / 6313], examples_per_second: 3180.7235, train_label_loss: 0.0000, \n"
     ]
    },
    {
     "name": "stdout",
     "output_type": "stream",
     "text": [
      "epoch: 5, [batch: 5681 / 6313], examples_per_second: 3407.9964, train_label_loss: 0.0000, \n"
     ]
    },
    {
     "name": "stdout",
     "output_type": "stream",
     "text": [
      "=============================================================\n",
      "epoch: 5, source_val_acc_label: 0.9993, target_val_acc_label: 0.1847, source_val_label_loss: 0.0105, target_val_label_loss: 3.8331, \n",
      "=============================================================\n"
     ]
    },
    {
     "name": "stdout",
     "output_type": "stream",
     "text": [
      "New best\n"
     ]
    },
    {
     "name": "stdout",
     "output_type": "stream",
     "text": [
      "epoch: 6, [batch: 1 / 6317], examples_per_second: 2.6996, train_label_loss: 0.0000, \n"
     ]
    },
    {
     "name": "stdout",
     "output_type": "stream",
     "text": [
      "epoch: 6, [batch: 632 / 6317], examples_per_second: 2995.4104, train_label_loss: 0.0000, \n"
     ]
    },
    {
     "name": "stdout",
     "output_type": "stream",
     "text": [
      "epoch: 6, [batch: 1264 / 6317], examples_per_second: 2961.9178, train_label_loss: 0.0000, \n"
     ]
    },
    {
     "name": "stdout",
     "output_type": "stream",
     "text": [
      "epoch: 6, [batch: 1895 / 6317], examples_per_second: 2963.6483, train_label_loss: 0.0010, \n"
     ]
    },
    {
     "name": "stdout",
     "output_type": "stream",
     "text": [
      "epoch: 6, [batch: 2527 / 6317], examples_per_second: 2972.7157, train_label_loss: 0.0000, \n"
     ]
    },
    {
     "name": "stdout",
     "output_type": "stream",
     "text": [
      "epoch: 6, [batch: 3159 / 6317], examples_per_second: 2945.0799, train_label_loss: 0.0000, \n"
     ]
    },
    {
     "name": "stdout",
     "output_type": "stream",
     "text": [
      "epoch: 6, [batch: 3790 / 6317], examples_per_second: 2949.9375, train_label_loss: 0.0000, \n"
     ]
    },
    {
     "name": "stdout",
     "output_type": "stream",
     "text": [
      "epoch: 6, [batch: 4422 / 6317], examples_per_second: 2874.0944, train_label_loss: 0.0000, \n"
     ]
    },
    {
     "name": "stdout",
     "output_type": "stream",
     "text": [
      "epoch: 6, [batch: 5053 / 6317], examples_per_second: 2868.4863, train_label_loss: 0.0000, \n"
     ]
    },
    {
     "name": "stdout",
     "output_type": "stream",
     "text": [
      "epoch: 6, [batch: 5685 / 6317], examples_per_second: 2301.0124, train_label_loss: 0.0000, \n"
     ]
    },
    {
     "name": "stdout",
     "output_type": "stream",
     "text": [
      "=============================================================\n",
      "epoch: 6, source_val_acc_label: 0.9991, target_val_acc_label: 0.1562, source_val_label_loss: 0.0063, target_val_label_loss: 3.9089, \n",
      "=============================================================\n"
     ]
    },
    {
     "name": "stdout",
     "output_type": "stream",
     "text": [
      "epoch: 7, [batch: 1 / 6322], examples_per_second: 2.0740, train_label_loss: 0.0000, \n"
     ]
    },
    {
     "name": "stdout",
     "output_type": "stream",
     "text": [
      "epoch: 7, [batch: 633 / 6322], examples_per_second: 2309.4524, train_label_loss: 0.0000, \n"
     ]
    },
    {
     "name": "stdout",
     "output_type": "stream",
     "text": [
      "epoch: 7, [batch: 1265 / 6322], examples_per_second: 2472.6690, train_label_loss: 0.0000, \n"
     ]
    },
    {
     "name": "stdout",
     "output_type": "stream",
     "text": [
      "epoch: 7, [batch: 1897 / 6322], examples_per_second: 2605.3134, train_label_loss: 0.0000, \n"
     ]
    },
    {
     "name": "stdout",
     "output_type": "stream",
     "text": [
      "epoch: 7, [batch: 2529 / 6322], examples_per_second: 2576.6370, train_label_loss: 0.0000, \n"
     ]
    },
    {
     "name": "stdout",
     "output_type": "stream",
     "text": [
      "epoch: 7, [batch: 3161 / 6322], examples_per_second: 2565.9155, train_label_loss: 0.0000, \n"
     ]
    },
    {
     "name": "stdout",
     "output_type": "stream",
     "text": [
      "epoch: 7, [batch: 3793 / 6322], examples_per_second: 2623.4505, train_label_loss: 0.0000, \n"
     ]
    },
    {
     "name": "stdout",
     "output_type": "stream",
     "text": [
      "epoch: 7, [batch: 4425 / 6322], examples_per_second: 2886.3601, train_label_loss: 0.0000, \n"
     ]
    },
    {
     "name": "stdout",
     "output_type": "stream",
     "text": [
      "epoch: 7, [batch: 5057 / 6322], examples_per_second: 3052.6770, train_label_loss: 0.0000, \n"
     ]
    },
    {
     "name": "stdout",
     "output_type": "stream",
     "text": [
      "epoch: 7, [batch: 5689 / 6322], examples_per_second: 2913.8700, train_label_loss: 0.0000, \n"
     ]
    },
    {
     "name": "stdout",
     "output_type": "stream",
     "text": [
      "=============================================================\n",
      "epoch: 7, source_val_acc_label: 0.9994, target_val_acc_label: 0.1739, source_val_label_loss: 0.0094, target_val_label_loss: 4.1599, \n",
      "=============================================================\n"
     ]
    },
    {
     "name": "stdout",
     "output_type": "stream",
     "text": [
      "epoch: 8, [batch: 1 / 6297], examples_per_second: 2.3876, train_label_loss: 0.0000, \n"
     ]
    },
    {
     "name": "stdout",
     "output_type": "stream",
     "text": [
      "epoch: 8, [batch: 630 / 6297], examples_per_second: 2338.5993, train_label_loss: 0.0000, \n"
     ]
    },
    {
     "name": "stdout",
     "output_type": "stream",
     "text": [
      "epoch: 8, [batch: 1260 / 6297], examples_per_second: 2316.7088, train_label_loss: 0.0000, \n"
     ]
    },
    {
     "name": "stdout",
     "output_type": "stream",
     "text": [
      "epoch: 8, [batch: 1889 / 6297], examples_per_second: 2304.2943, train_label_loss: 0.0000, \n"
     ]
    },
    {
     "name": "stdout",
     "output_type": "stream",
     "text": [
      "epoch: 8, [batch: 2519 / 6297], examples_per_second: 2294.9729, train_label_loss: 0.0000, \n"
     ]
    },
    {
     "name": "stdout",
     "output_type": "stream",
     "text": [
      "epoch: 8, [batch: 3149 / 6297], examples_per_second: 2328.4611, train_label_loss: 0.0000, \n"
     ]
    },
    {
     "name": "stdout",
     "output_type": "stream",
     "text": [
      "epoch: 8, [batch: 3778 / 6297], examples_per_second: 2318.9190, train_label_loss: 0.0000, \n"
     ]
    },
    {
     "name": "stdout",
     "output_type": "stream",
     "text": [
      "epoch: 8, [batch: 4408 / 6297], examples_per_second: 2460.2681, train_label_loss: 0.0000, \n"
     ]
    },
    {
     "name": "stdout",
     "output_type": "stream",
     "text": [
      "epoch: 8, [batch: 5037 / 6297], examples_per_second: 2628.6767, train_label_loss: 0.0000, \n"
     ]
    },
    {
     "name": "stdout",
     "output_type": "stream",
     "text": [
      "epoch: 8, [batch: 5667 / 6297], examples_per_second: 2618.4202, train_label_loss: 0.0000, \n"
     ]
    },
    {
     "name": "stdout",
     "output_type": "stream",
     "text": [
      "=============================================================\n",
      "epoch: 8, source_val_acc_label: 0.9996, target_val_acc_label: 0.1767, source_val_label_loss: 0.0091, target_val_label_loss: 4.5333, \n",
      "=============================================================\n"
     ]
    },
    {
     "name": "stdout",
     "output_type": "stream",
     "text": [
      "epoch: 9, [batch: 1 / 6315], examples_per_second: 2.1621, train_label_loss: 0.0000, \n"
     ]
    },
    {
     "name": "stdout",
     "output_type": "stream",
     "text": [
      "epoch: 9, [batch: 632 / 6315], examples_per_second: 2297.9701, train_label_loss: 0.0000, \n"
     ]
    },
    {
     "name": "stdout",
     "output_type": "stream",
     "text": [
      "epoch: 9, [batch: 1263 / 6315], examples_per_second: 2299.4874, train_label_loss: 0.0000, \n"
     ]
    },
    {
     "name": "stdout",
     "output_type": "stream",
     "text": [
      "epoch: 9, [batch: 1895 / 6315], examples_per_second: 2332.4912, train_label_loss: 0.0000, \n"
     ]
    },
    {
     "name": "stdout",
     "output_type": "stream",
     "text": [
      "epoch: 9, [batch: 2526 / 6315], examples_per_second: 2315.2614, train_label_loss: 0.0000, \n"
     ]
    },
    {
     "name": "stdout",
     "output_type": "stream",
     "text": [
      "epoch: 9, [batch: 3158 / 6315], examples_per_second: 2317.4290, train_label_loss: 0.0000, \n"
     ]
    },
    {
     "name": "stdout",
     "output_type": "stream",
     "text": [
      "epoch: 9, [batch: 3789 / 6315], examples_per_second: 2322.8738, train_label_loss: 0.0000, \n"
     ]
    },
    {
     "name": "stdout",
     "output_type": "stream",
     "text": [
      "epoch: 9, [batch: 4420 / 6315], examples_per_second: 2291.1926, train_label_loss: 0.0000, \n"
     ]
    },
    {
     "name": "stdout",
     "output_type": "stream",
     "text": [
      "epoch: 9, [batch: 5052 / 6315], examples_per_second: 2495.1560, train_label_loss: 0.0000, \n"
     ]
    },
    {
     "name": "stdout",
     "output_type": "stream",
     "text": [
      "epoch: 9, [batch: 5683 / 6315], examples_per_second: 2589.7009, train_label_loss: 0.0000, \n"
     ]
    },
    {
     "name": "stdout",
     "output_type": "stream",
     "text": [
      "=============================================================\n",
      "epoch: 9, source_val_acc_label: 0.9988, target_val_acc_label: 0.1678, source_val_label_loss: 0.0155, target_val_label_loss: 5.0511, \n",
      "=============================================================\n"
     ]
    },
    {
     "name": "stdout",
     "output_type": "stream",
     "text": [
      "Patience (3) exhausted\n"
     ]
    }
   ],
   "source": [
    "###################################\n",
    "# train\n",
    "###################################\n",
    "jig = PTN_Train_Eval_Test_Jig(model, p.BEST_MODEL_PATH, p.device)\n",
    "\n",
    "jig.train(\n",
    "    train_iterable=datasets.source.processed.train,\n",
    "    source_val_iterable=datasets.source.processed.val,\n",
    "    target_val_iterable=datasets.target.processed.val,\n",
    "    num_epochs=p.n_epoch,\n",
    "    num_logs_per_epoch=p.NUM_LOGS_PER_EPOCH,\n",
    "    patience=p.patience,\n",
    "    optimizer=optimizer,\n",
    "    criteria_for_best=p.criteria_for_best,\n",
    ")"
   ]
  },
  {
   "cell_type": "code",
   "execution_count": 23,
   "id": "31e8fabf",
   "metadata": {
    "execution": {
     "iopub.execute_input": "2022-03-22T03:07:07.383812Z",
     "iopub.status.busy": "2022-03-22T03:07:07.383416Z",
     "iopub.status.idle": "2022-03-22T03:07:07.419007Z",
     "shell.execute_reply": "2022-03-22T03:07:07.418207Z"
    },
    "papermill": {
     "duration": 0.090325,
     "end_time": "2022-03-22T03:07:07.419190",
     "exception": false,
     "start_time": "2022-03-22T03:07:07.328865",
     "status": "completed"
    },
    "tags": []
   },
   "outputs": [],
   "source": [
    "total_experiment_time_secs = time.time() - start_time_secs"
   ]
  },
  {
   "cell_type": "code",
   "execution_count": 24,
   "id": "87b9595b",
   "metadata": {
    "execution": {
     "iopub.execute_input": "2022-03-22T03:07:07.535467Z",
     "iopub.status.busy": "2022-03-22T03:07:07.534765Z",
     "iopub.status.idle": "2022-03-22T03:11:11.155388Z",
     "shell.execute_reply": "2022-03-22T03:11:11.156091Z"
    },
    "papermill": {
     "duration": 243.682756,
     "end_time": "2022-03-22T03:11:11.156335",
     "exception": false,
     "start_time": "2022-03-22T03:07:07.473579",
     "status": "completed"
    },
    "tags": []
   },
   "outputs": [],
   "source": [
    "###################################\n",
    "# Evaluate the model\n",
    "###################################\n",
    "source_test_label_accuracy, source_test_label_loss = jig.test(datasets.source.processed.test)\n",
    "target_test_label_accuracy, target_test_label_loss = jig.test(datasets.target.processed.test)\n",
    "\n",
    "source_val_label_accuracy, source_val_label_loss = jig.test(datasets.source.processed.val)\n",
    "target_val_label_accuracy, target_val_label_loss = jig.test(datasets.target.processed.val)\n",
    "\n",
    "history = jig.get_history()\n",
    "\n",
    "total_epochs_trained = len(history[\"epoch_indices\"])\n",
    "\n",
    "val_dl = Iterable_Aggregator((datasets.source.original.val,datasets.target.original.val))\n",
    "\n",
    "confusion = ptn_confusion_by_domain_over_dataloader(model, p.device, val_dl)\n",
    "per_domain_accuracy = per_domain_accuracy_from_confusion(confusion)\n",
    "\n",
    "# Add a key to per_domain_accuracy for if it was a source domain\n",
    "for domain, accuracy in per_domain_accuracy.items():\n",
    "    per_domain_accuracy[domain] = {\n",
    "        \"accuracy\": accuracy,\n",
    "        \"source?\": domain in p.domains_source\n",
    "    }\n",
    "\n",
    "# Do an independent accuracy assesment JUST TO BE SURE!\n",
    "# _source_test_label_accuracy = independent_accuracy_assesment(model, datasets.source.processed.test, p.device)\n",
    "# _target_test_label_accuracy = independent_accuracy_assesment(model, datasets.target.processed.test, p.device)\n",
    "# _source_val_label_accuracy = independent_accuracy_assesment(model, datasets.source.processed.val, p.device)\n",
    "# _target_val_label_accuracy = independent_accuracy_assesment(model, datasets.target.processed.val, p.device)\n",
    "\n",
    "# assert(_source_test_label_accuracy == source_test_label_accuracy)\n",
    "# assert(_target_test_label_accuracy == target_test_label_accuracy)\n",
    "# assert(_source_val_label_accuracy == source_val_label_accuracy)\n",
    "# assert(_target_val_label_accuracy == target_val_label_accuracy)\n",
    "\n",
    "experiment = {\n",
    "    \"experiment_name\": p.experiment_name,\n",
    "    \"parameters\": dict(p),\n",
    "    \"results\": {\n",
    "        \"source_test_label_accuracy\": source_test_label_accuracy,\n",
    "        \"source_test_label_loss\": source_test_label_loss,\n",
    "        \"target_test_label_accuracy\": target_test_label_accuracy,\n",
    "        \"target_test_label_loss\": target_test_label_loss,\n",
    "        \"source_val_label_accuracy\": source_val_label_accuracy,\n",
    "        \"source_val_label_loss\": source_val_label_loss,\n",
    "        \"target_val_label_accuracy\": target_val_label_accuracy,\n",
    "        \"target_val_label_loss\": target_val_label_loss,\n",
    "        \"total_epochs_trained\": total_epochs_trained,\n",
    "        \"total_experiment_time_secs\": total_experiment_time_secs,\n",
    "        \"confusion\": confusion,\n",
    "        \"per_domain_accuracy\": per_domain_accuracy,\n",
    "    },\n",
    "    \"history\": history,\n",
    "    \"dataset_metrics\": get_dataset_metrics(datasets, \"ptn\"),\n",
    "}"
   ]
  },
  {
   "cell_type": "code",
   "execution_count": 25,
   "id": "54a21829",
   "metadata": {
    "execution": {
     "iopub.execute_input": "2022-03-22T03:11:11.268456Z",
     "iopub.status.busy": "2022-03-22T03:11:11.268031Z",
     "iopub.status.idle": "2022-03-22T03:11:11.507255Z",
     "shell.execute_reply": "2022-03-22T03:11:11.507971Z"
    },
    "papermill": {
     "duration": 0.295995,
     "end_time": "2022-03-22T03:11:11.508214",
     "exception": false,
     "start_time": "2022-03-22T03:11:11.212219",
     "status": "completed"
    },
    "tags": []
   },
   "outputs": [
    {
     "data": {
      "image/png": "[encoded data removed]",
      "text/plain": [
       "<Figure size 1080x504 with 1 Axes>"
      ]
     },
     "metadata": {
      "needs_background": "light"
     },
     "output_type": "display_data"
    }
   ],
   "source": [
    "ax = get_loss_curve(experiment)\n",
    "plt.show()"
   ]
  },
  {
   "cell_type": "code",
   "execution_count": 26,
   "id": "fd8a0f60",
   "metadata": {
    "execution": {
     "iopub.execute_input": "2022-03-22T03:11:11.618221Z",
     "iopub.status.busy": "2022-03-22T03:11:11.617664Z",
     "iopub.status.idle": "2022-03-22T03:11:11.976913Z",
     "shell.execute_reply": "2022-03-22T03:11:11.977597Z"
    },
    "papermill": {
     "duration": 0.414889,
     "end_time": "2022-03-22T03:11:11.977804",
     "exception": false,
     "start_time": "2022-03-22T03:11:11.562915",
     "status": "completed"
    },
    "tags": []
   },
   "outputs": [
    {
     "data": {
      "text/plain": [
       "<AxesSubplot:title={'center':'Results'}>"
      ]
     },
     "execution_count": 26,
     "metadata": {},
     "output_type": "execute_result"
    },
    {
     "data": {
      "image/png": "[encoded data removed]",
      "text/plain": [
       "<Figure size 1080x504 with 1 Axes>"
      ]
     },
     "metadata": {
      "needs_background": "light"
     },
     "output_type": "display_data"
    }
   ],
   "source": [
    "get_results_table(experiment)"
   ]
  },
  {
   "cell_type": "code",
   "execution_count": 27,
   "id": "cf8dc689",
   "metadata": {
    "execution": {
     "iopub.execute_input": "2022-03-22T03:11:12.092537Z",
     "iopub.status.busy": "2022-03-22T03:11:12.092105Z",
     "iopub.status.idle": "2022-03-22T03:11:12.374228Z",
     "shell.execute_reply": "2022-03-22T03:11:12.374914Z"
    },
    "papermill": {
     "duration": 0.340138,
     "end_time": "2022-03-22T03:11:12.375129",
     "exception": false,
     "start_time": "2022-03-22T03:11:12.034991",
     "status": "completed"
    },
    "tags": []
   },
   "outputs": [
    {
     "data": {
      "text/plain": [
       "<AxesSubplot:title={'center':'Per Domain Validation Accuracy'}, xlabel='domain'>"
      ]
     },
     "execution_count": 27,
     "metadata": {},
     "output_type": "execute_result"
    },
    {
     "data": {
      "image/png": "[encoded data removed]",
      "text/plain": [
       "<Figure size 1080x504 with 1 Axes>"
      ]
     },
     "metadata": {
      "needs_background": "light"
     },
     "output_type": "display_data"
    }
   ],
   "source": [
    "get_domain_accuracies(experiment)"
   ]
  },
  {
   "cell_type": "code",
   "execution_count": 28,
   "id": "a74ae082",
   "metadata": {
    "execution": {
     "iopub.execute_input": "2022-03-22T03:11:12.494528Z",
     "iopub.status.busy": "2022-03-22T03:11:12.494145Z",
     "iopub.status.idle": "2022-03-22T03:11:12.522224Z",
     "shell.execute_reply": "2022-03-22T03:11:12.521492Z"
    },
    "papermill": {
     "duration": 0.089344,
     "end_time": "2022-03-22T03:11:12.522401",
     "exception": false,
     "start_time": "2022-03-22T03:11:12.433057",
     "status": "completed"
    },
    "tags": []
   },
   "outputs": [
    {
     "name": "stdout",
     "output_type": "stream",
     "text": [
      "Source Test Label Accuracy: 0.999263468013468 Target Test Label Accuracy: 0.18167317708333333\n",
      "Source Val Label Accuracy: 0.9992865296803652 Target Val Label Accuracy: 0.18473307291666666\n"
     ]
    }
   ],
   "source": [
    "print(\"Source Test Label Accuracy:\", experiment[\"results\"][\"source_test_label_accuracy\"], \"Target Test Label Accuracy:\", experiment[\"results\"][\"target_test_label_accuracy\"])\n",
    "print(\"Source Val Label Accuracy:\", experiment[\"results\"][\"source_val_label_accuracy\"], \"Target Val Label Accuracy:\", experiment[\"results\"][\"target_val_label_accuracy\"])"
   ]
  },
  {
   "cell_type": "code",
   "execution_count": 29,
   "id": "dacca602",
   "metadata": {
    "execution": {
     "iopub.execute_input": "2022-03-22T03:11:12.636884Z",
     "iopub.status.busy": "2022-03-22T03:11:12.636504Z",
     "iopub.status.idle": "2022-03-22T03:11:12.667402Z",
     "shell.execute_reply": "2022-03-22T03:11:12.668085Z"
    },
    "papermill": {
     "duration": 0.088736,
     "end_time": "2022-03-22T03:11:12.668297",
     "exception": false,
     "start_time": "2022-03-22T03:11:12.579561",
     "status": "completed"
    },
    "tags": [
     "experiment_json"
    ]
   },
   "outputs": [
    {
     "data": {
      "text/plain": [
       "'{\"experiment_name\": \"tl_1v2:cores-oracle.run1.limited\", \"parameters\": {\"experiment_name\": \"tl_1v2:cores-oracle.run1.limited\", \"device\": \"cuda\", \"lr\": 0.0001, \"n_shot\": 3, \"n_query\": 2, \"train_k_factor\": 3, \"val_k_factor\": 2, \"test_k_factor\": 2, \"torch_default_dtype\": \"torch.float32\", \"n_epoch\": 50, \"patience\": 3, \"criteria_for_best\": \"target_accuracy\", \"x_net\": [{\"class\": \"nnReshape\", \"kargs\": {\"shape\": [-1, 1, 2, 256]}}, {\"class\": \"Conv2d\", \"kargs\": {\"in_channels\": 1, \"out_channels\": 256, \"kernel_size\": [1, 7], \"bias\": false, \"padding\": [0, 3]}}, {\"class\": \"ReLU\", \"kargs\": {\"inplace\": true}}, {\"class\": \"BatchNorm2d\", \"kargs\": {\"num_features\": 256}}, {\"class\": \"Conv2d\", \"kargs\": {\"in_channels\": 256, \"out_channels\": 80, \"kernel_size\": [2, 7], \"bias\": true, \"padding\": [0, 3]}}, {\"class\": \"ReLU\", \"kargs\": {\"inplace\": true}}, {\"class\": \"BatchNorm2d\", \"kargs\": {\"num_features\": 80}}, {\"class\": \"Flatten\", \"kargs\": {}}, {\"class\": \"Linear\", \"kargs\": {\"in_features\": 20480, \"out_features\": 256}}, {\"class\": \"ReLU\", \"kargs\": {\"inplace\": true}}, {\"class\": \"BatchNorm1d\", \"kargs\": {\"num_features\": 256}}, {\"class\": \"Linear\", \"kargs\": {\"in_features\": 256, \"out_features\": 256}}], \"NUM_LOGS_PER_EPOCH\": 10, \"BEST_MODEL_PATH\": \"./best_model.pth\", \"n_way\": 16, \"datasets\": [{\"labels\": [\"1-10.\", \"1-11.\", \"1-15.\", \"1-16.\", \"1-17.\", \"1-18.\", \"1-19.\", \"10-4.\", \"10-7.\", \"11-1.\", \"11-14.\", \"11-17.\", \"11-20.\", \"11-7.\", \"13-20.\", \"13-8.\", \"14-10.\", \"14-11.\", \"14-14.\", \"14-7.\", \"15-1.\", \"15-20.\", \"16-1.\", \"16-16.\", \"17-10.\", \"17-11.\", \"17-2.\", \"19-1.\", \"19-16.\", \"19-19.\", \"19-20.\", \"19-3.\", \"2-10.\", \"2-11.\", \"2-17.\", \"2-18.\", \"2-20.\", \"2-3.\", \"2-4.\", \"2-5.\", \"2-6.\", \"2-7.\", \"2-8.\", \"3-13.\", \"3-18.\", \"3-3.\", \"4-1.\", \"4-10.\", \"4-11.\", \"4-19.\", \"5-5.\", \"6-15.\", \"7-10.\", \"7-14.\", \"8-18.\", \"8-20.\", \"8-3.\", \"8-8.\"], \"domains\": [1, 2, 3, 4, 5], \"num_examples_per_domain_per_label\": -1, \"pickle_path\": \"/root/csc500-main/datasets/cores.stratified_ds.2022A.pkl\", \"source_or_target_dataset\": \"source\", \"x_transforms\": [\"unit_mag\"], \"episode_transforms\": [], \"domain_prefix\": \"CORES_\"}, {\"labels\": [\"3123D52\", \"3123D65\", \"3123D79\", \"3123D80\", \"3123D54\", \"3123D70\", \"3123D7B\", \"3123D89\", \"3123D58\", \"3123D76\", \"3123D7D\", \"3123EFE\", \"3123D64\", \"3123D78\", \"3123D7E\", \"3124E4A\"], \"domains\": [32, 38, 8, 44, 14, 50, 20, 26], \"num_examples_per_domain_per_label\": 2000, \"pickle_path\": \"/root/csc500-main/datasets/oracle.Run1_10kExamples_stratified_ds.2022A.pkl\", \"source_or_target_dataset\": \"target\", \"x_transforms\": [\"unit_mag\"], \"episode_transforms\": [], \"domain_prefix\": \"ORACLE.run1_\"}], \"dataset_seed\": 1337, \"seed\": 1337, \"x_shape\": [2, 256], \"domains_source\": [\"CORES_1\", \"CORES_2\", \"CORES_3\", \"CORES_4\", \"CORES_5\"], \"domains_target\": [\"ORACLE.run1_32\", \"ORACLE.run1_38\", \"ORACLE.run1_8\", \"ORACLE.run1_44\", \"ORACLE.run1_14\", \"ORACLE.run1_50\", \"ORACLE.run1_20\", \"ORACLE.run1_26\"]}, \"results\": {\"source_test_label_accuracy\": 0.999263468013468, \"source_test_label_loss\": 0.008133837953209877, \"target_test_label_accuracy\": 0.18167317708333333, \"target_test_label_loss\": 3.863614559173584, \"source_val_label_accuracy\": 0.9992865296803652, \"source_val_label_loss\": 0.010474846698343754, \"target_val_label_accuracy\": 0.18473307291666666, \"target_val_label_loss\": 3.8330607414245605, \"total_epochs_trained\": 9, \"total_experiment_time_secs\": 2207.953158378601, \"confusion\": {\"CORES_3\": {\"43\": {\"43\": 128}, \"9\": {\"9\": 150}, \"6\": {\"6\": 87, \"38\": 1}, \"3\": {\"3\": 144}, \"16\": {\"16\": 134}, \"51\": {\"51\": 128}, \"31\": {\"31\": 28}, \"46\": {\"46\": 134}, \"19\": {\"19\": 124}, \"8\": {\"8\": 152}, \"18\": {\"18\": 84}, \"37\": {\"37\": 28}, \"24\": {\"24\": 104}, \"10\": {\"10\": 64}, \"44\": {\"44\": 88}, \"14\": {\"14\": 40}, \"38\": {\"38\": 28}, \"53\": {\"53\": 140}, \"20\": {\"20\": 132}, \"32\": {\"32\": 28}, \"36\": {\"36\": 100}, \"33\": {\"33\": 28}, \"56\": {\"56\": 136}, \"23\": {\"23\": 130}, \"54\": {\"54\": 100}, \"21\": {\"21\": 126}, \"28\": {\"28\": 27, \"5\": 1}, \"26\": {\"26\": 24}, \"48\": {\"48\": 116}, \"52\": {\"52\": 118}, \"39\": {\"39\": 16}, \"22\": {\"22\": 140}, \"13\": {\"13\": 128}, \"2\": {\"2\": 32}, \"34\": {\"34\": 32}, \"27\": {\"27\": 132}, \"45\": {\"45\": 60}, \"35\": {\"35\": 28}, \"29\": {\"29\": 128}, \"25\": {\"25\": 144}, \"0\": {\"0\": 124}, \"41\": {\"41\": 28}, \"11\": {\"11\": 142}, \"5\": {\"5\": 108}, \"1\": {\"1\": 100}, \"57\": {\"57\": 116}, \"17\": {\"17\": 106, \"10\": 1, \"24\": 1}, \"7\": {\"7\": 36}, \"12\": {\"12\": 92}, \"47\": {\"47\": 92}, \"40\": {\"40\": 136}, \"15\": {\"15\": 142}, \"42\": {\"42\": 28}, \"55\": {\"55\": 150}, \"49\": {\"49\": 20}, \"30\": {\"30\": 120}, \"50\": {\"50\": 134}, \"4\": {\"4\": 136}}, \"CORES_4\": {\"35\": {\"35\": 40}, \"25\": {\"25\": 134}, \"24\": {\"24\": 56}, \"48\": {\"48\": 138}, \"51\": {\"51\": 144}, \"13\": {\"13\": 120}, \"14\": {\"14\": 16}, \"32\": {\"32\": 24}, \"30\": {\"30\": 44}, \"34\": {\"34\": 24}, \"9\": {\"9\": 135, \"4\": 1}, \"1\": {\"1\": 40}, \"0\": {\"0\": 80}, \"38\": {\"38\": 40}, \"22\": {\"22\": 128}, \"40\": {\"40\": 120}, \"6\": {\"6\": 112}, \"16\": {\"16\": 96}, \"11\": {\"11\": 104}, \"20\": {\"20\": 122}, \"17\": {\"17\": 80}, \"26\": {\"26\": 24}, \"54\": {\"54\": 108}, \"55\": {\"55\": 154}, \"50\": {\"50\": 130, \"57\": 1, \"3\": 1}, \"19\": {\"19\": 142}, \"44\": {\"44\": 122}, \"47\": {\"47\": 120}, \"33\": {\"33\": 36}, \"5\": {\"5\": 108}, \"18\": {\"18\": 108}, \"21\": {\"21\": 124}, \"41\": {\"41\": 36}, \"23\": {\"23\": 128}, \"39\": {\"39\": 20}, \"37\": {\"37\": 24}, \"8\": {\"8\": 144}, \"49\": {\"49\": 20}, \"53\": {\"53\": 140}, \"31\": {\"31\": 28}, \"28\": {\"28\": 32}, \"3\": {\"3\": 124}, \"27\": {\"27\": 137, \"4\": 1}, \"46\": {\"46\": 126, \"22\": 1, \"47\": 1}, \"12\": {\"12\": 92}, \"7\": {\"7\": 24}, \"4\": {\"4\": 132}, \"42\": {\"42\": 32}, \"43\": {\"43\": 130}, \"29\": {\"29\": 120}, \"57\": {\"57\": 100}, \"52\": {\"52\": 104}, \"45\": {\"45\": 96}, \"36\": {\"36\": 92}, \"10\": {\"10\": 126}, \"15\": {\"15\": 134}, \"56\": {\"56\": 124}, \"2\": {\"2\": 36}}, \"CORES_5\": {\"47\": {\"47\": 100}, \"53\": {\"53\": 150}, \"29\": {\"29\": 126}, \"52\": {\"52\": 130}, \"55\": {\"55\": 144}, \"17\": {\"17\": 116}, \"42\": {\"42\": 40}, \"33\": {\"33\": 32}, \"11\": {\"11\": 148}, \"19\": {\"19\": 118}, \"1\": {\"1\": 144}, \"44\": {\"44\": 142}, \"49\": {\"49\": 36}, \"4\": {\"4\": 100}, \"6\": {\"6\": 116}, \"39\": {\"39\": 20}, \"50\": {\"50\": 147, \"8\": 1}, \"56\": {\"56\": 130}, \"25\": {\"25\": 144}, \"28\": {\"28\": 32}, \"35\": {\"35\": 36}, \"24\": {\"24\": 80}, \"21\": {\"21\": 132}, \"45\": {\"45\": 123, \"6\": 1}, \"16\": {\"16\": 144}, \"37\": {\"37\": 24}, \"57\": {\"57\": 132}, \"34\": {\"34\": 36}, \"38\": {\"38\": 32}, \"48\": {\"48\": 130}, \"26\": {\"26\": 24}, \"9\": {\"9\": 152}, \"18\": {\"18\": 64}, \"3\": {\"3\": 100}, \"23\": {\"23\": 124}, \"15\": {\"15\": 154}, \"10\": {\"10\": 68}, \"46\": {\"46\": 148}, \"22\": {\"22\": 28}, \"54\": {\"54\": 112}, \"27\": {\"27\": 160}, \"41\": {\"41\": 28}, \"31\": {\"31\": 36}, \"0\": {\"0\": 124}, \"7\": {\"7\": 32}, \"2\": {\"2\": 28}, \"14\": {\"14\": 44}, \"40\": {\"40\": 124}, \"5\": {\"5\": 128}, \"12\": {\"12\": 96}, \"43\": {\"43\": 142}, \"13\": {\"13\": 148}, \"36\": {\"36\": 92}, \"8\": {\"8\": 150}, \"32\": {\"32\": 32}, \"30\": {\"30\": 128}, \"51\": {\"51\": 138}, \"20\": {\"20\": 138}}, \"CORES_1\": {\"46\": {\"46\": 140}, \"16\": {\"16\": 134}, \"26\": {\"26\": 24}, \"10\": {\"10\": 95, \"21\": 1}, \"9\": {\"9\": 156}, \"28\": {\"28\": 28}, \"51\": {\"51\": 156}, \"1\": {\"1\": 100}, \"55\": {\"55\": 148}, \"27\": {\"27\": 124}, \"22\": {\"22\": 123, \"24\": 1}, \"52\": {\"52\": 126}, \"3\": {\"3\": 140}, \"33\": {\"33\": 32}, \"47\": {\"47\": 120}, \"42\": {\"42\": 40}, \"12\": {\"12\": 116}, \"23\": {\"23\": 132}, \"49\": {\"49\": 32}, \"7\": {\"7\": 28}, \"4\": {\"4\": 132}, \"50\": {\"50\": 134}, \"19\": {\"19\": 154}, \"11\": {\"11\": 140}, \"31\": {\"31\": 28}, \"41\": {\"41\": 24}, \"56\": {\"56\": 138}, \"0\": {\"0\": 148}, \"57\": {\"57\": 128}, \"53\": {\"53\": 140}, \"43\": {\"43\": 144}, \"37\": {\"37\": 32}, \"2\": {\"2\": 36}, \"6\": {\"6\": 95, \"8\": 1}, \"13\": {\"13\": 150}, \"18\": {\"18\": 72}, \"36\": {\"36\": 62, \"21\": 1, \"16\": 1}, \"29\": {\"29\": 140}, \"39\": {\"39\": 28}, \"17\": {\"17\": 64}, \"21\": {\"21\": 124}, \"25\": {\"25\": 132}, \"45\": {\"45\": 142}, \"38\": {\"38\": 24}, \"30\": {\"30\": 120}, \"24\": {\"24\": 107, \"22\": 1}, \"20\": {\"20\": 140}, \"8\": {\"8\": 140}, \"35\": {\"35\": 36}, \"54\": {\"54\": 104}, \"5\": {\"5\": 148}, \"48\": {\"48\": 144}, \"15\": {\"15\": 142}, \"34\": {\"34\": 24}, \"14\": {\"14\": 24}, \"32\": {\"32\": 32}, \"40\": {\"40\": 148}, \"44\": {\"44\": 136}}, \"CORES_2\": {\"36\": {\"36\": 116}, \"5\": {\"5\": 120}, \"45\": {\"45\": 128}, \"49\": {\"49\": 24}, \"50\": {\"50\": 136}, \"4\": {\"4\": 138}, \"43\": {\"43\": 148}, \"41\": {\"41\": 20}, \"37\": {\"37\": 36}, \"12\": {\"12\": 92}, \"33\": {\"33\": 28}, \"7\": {\"7\": 36}, \"56\": {\"56\": 140}, \"14\": {\"14\": 24}, \"52\": {\"52\": 124}, \"44\": {\"44\": 96}, \"48\": {\"48\": 144}, \"20\": {\"20\": 128}, \"55\": {\"55\": 144}, \"32\": {\"32\": 28}, \"40\": {\"40\": 136}, \"54\": {\"54\": 108}, \"17\": {\"17\": 104}, \"38\": {\"38\": 20}, \"24\": {\"24\": 96}, \"1\": {\"1\": 112}, \"6\": {\"6\": 124}, \"34\": {\"34\": 28}, \"11\": {\"11\": 136}, \"9\": {\"9\": 150}, \"8\": {\"8\": 152}, \"22\": {\"22\": 136}, \"26\": {\"26\": 24}, \"23\": {\"23\": 146}, \"10\": {\"10\": 111, \"11\": 1}, \"18\": {\"18\": 48}, \"13\": {\"13\": 115, \"24\": 1}, \"30\": {\"30\": 128}, \"42\": {\"42\": 36}, \"31\": {\"31\": 28}, \"46\": {\"46\": 128}, \"57\": {\"57\": 142}, \"47\": {\"47\": 138}, \"35\": {\"35\": 32}, \"15\": {\"15\": 132}, \"25\": {\"25\": 136}, \"19\": {\"19\": 136}, \"51\": {\"51\": 128}, \"53\": {\"53\": 134}, \"21\": {\"21\": 120}, \"39\": {\"39\": 28}, \"2\": {\"2\": 32}, \"16\": {\"16\": 150}, \"0\": {\"0\": 48}, \"3\": {\"3\": 92}, \"27\": {\"27\": 142}, \"28\": {\"28\": 28}, \"29\": {\"29\": 128}}, \"ORACLE.run1_14\": {\"15\": {\"7\": 50, \"4\": 16, \"15\": 85, \"14\": 8, \"6\": 15, \"13\": 7, \"1\": 27, \"2\": 8, \"5\": 15, \"3\": 3, \"0\": 3, \"10\": 3}, \"3\": {\"0\": 23, \"8\": 12, \"4\": 18, \"13\": 18, \"1\": 20, \"11\": 7, \"9\": 12, \"10\": 27, \"14\": 22, \"2\": 20, \"3\": 20, \"5\": 13, \"7\": 12, \"15\": 5, \"6\": 9, \"12\": 2}, \"6\": {\"8\": 3, \"4\": 17, \"7\": 16, \"13\": 32, \"6\": 38, \"14\": 29, \"1\": 13, \"3\": 9, \"11\": 12, \"5\": 18, \"2\": 32, \"15\": 10, \"0\": 2, \"10\": 9}, \"1\": {\"8\": 17, \"10\": 8, \"2\": 19, \"6\": 7, \"7\": 32, \"5\": 26, \"3\": 21, \"13\": 13, \"0\": 12, \"15\": 18, \"14\": 19, \"11\": 6, \"1\": 22, \"4\": 19, \"9\": 1}, \"8\": {\"12\": 10, \"0\": 22, \"8\": 84, \"9\": 25, \"13\": 6, \"5\": 8, \"1\": 19, \"10\": 13, \"11\": 9, \"15\": 1, \"3\": 14, \"4\": 14, \"7\": 7, \"6\": 3, \"14\": 2, \"2\": 3}, \"10\": {\"13\": 15, \"0\": 38, \"10\": 29, \"14\": 22, \"3\": 22, \"2\": 10, \"8\": 16, \"11\": 38, \"9\": 13, \"1\": 10, \"6\": 8, \"5\": 3, \"4\": 7, \"12\": 4, \"15\": 2, \"7\": 3}, \"9\": {\"0\": 25, \"9\": 48, \"5\": 1, \"12\": 58, \"11\": 32, \"10\": 20, \"8\": 27, \"2\": 3, \"14\": 4, \"3\": 9, \"1\": 4, \"13\": 1, \"4\": 7, \"6\": 1}, \"13\": {\"4\": 15, \"7\": 15, \"2\": 27, \"5\": 16, \"6\": 32, \"10\": 15, \"14\": 31, \"3\": 20, \"1\": 8, \"13\": 30, \"15\": 15, \"11\": 7, \"0\": 6, \"9\": 2, \"12\": 1}, \"12\": {\"11\": 30, \"12\": 120, \"9\": 59, \"0\": 13, \"8\": 8, \"10\": 5, \"3\": 2, \"1\": 2, \"14\": 1}, \"5\": {\"5\": 30, \"2\": 22, \"13\": 20, \"4\": 23, \"7\": 22, \"10\": 8, \"14\": 9, \"1\": 25, \"15\": 15, \"6\": 18, \"3\": 18, \"8\": 14, \"0\": 8, \"11\": 5, \"9\": 3}, \"0\": {\"10\": 27, \"8\": 23, \"0\": 28, \"14\": 21, \"11\": 41, \"13\": 4, \"3\": 23, \"4\": 6, \"2\": 11, \"6\": 8, \"9\": 18, \"1\": 9, \"12\": 12, \"15\": 2, \"5\": 3, \"7\": 4}, \"2\": {\"4\": 13, \"2\": 29, \"14\": 26, \"13\": 23, \"15\": 21, \"11\": 3, \"0\": 15, \"1\": 15, \"7\": 14, \"6\": 26, \"10\": 12, \"3\": 13, \"5\": 25, \"8\": 1, \"9\": 4}, \"11\": {\"9\": 44, \"0\": 42, \"12\": 24, \"1\": 6, \"11\": 52, \"10\": 21, \"3\": 16, \"8\": 8, \"14\": 9, \"4\": 5, \"5\": 4, \"13\": 3, \"2\": 4, \"6\": 2}, \"14\": {\"14\": 26, \"7\": 11, \"0\": 14, \"6\": 26, \"15\": 4, \"2\": 31, \"5\": 10, \"4\": 10, \"8\": 8, \"10\": 16, \"3\": 24, \"9\": 5, \"1\": 12, \"13\": 30, \"11\": 12, \"12\": 1}, \"7\": {\"15\": 64, \"7\": 55, \"4\": 18, \"8\": 6, \"5\": 28, \"2\": 12, \"6\": 9, \"13\": 9, \"1\": 25, \"14\": 7, \"3\": 4, \"10\": 1, \"0\": 2}, \"4\": {\"4\": 22, \"7\": 18, \"2\": 24, \"0\": 14, \"6\": 18, \"15\": 16, \"10\": 17, \"8\": 8, \"14\": 16, \"5\": 24, \"1\": 21, \"3\": 12, \"13\": 21, \"11\": 5, \"9\": 4}}, \"ORACLE.run1_20\": {\"3\": {\"15\": 12, \"3\": 15, \"10\": 19, \"1\": 17, \"12\": 15, \"2\": 14, \"14\": 12, \"11\": 14, \"9\": 21, \"13\": 17, \"7\": 10, \"0\": 16, \"5\": 22, \"8\": 11, \"6\": 15, \"4\": 10}, \"15\": {\"7\": 10, \"13\": 22, \"6\": 3, \"9\": 20, \"2\": 11, \"12\": 26, \"4\": 19, \"11\": 11, \"5\": 22, \"15\": 26, \"8\": 8, \"0\": 19, \"3\": 18, \"1\": 16, \"14\": 4, \"10\": 5}, \"8\": {\"10\": 17, \"6\": 22, \"4\": 14, \"0\": 12, \"14\": 20, \"12\": 14, \"5\": 16, \"3\": 17, \"1\": 14, \"8\": 26, \"15\": 8, \"2\": 8, \"7\": 15, \"13\": 13, \"9\": 16, \"11\": 8}, \"4\": {\"4\": 20, \"7\": 18, \"6\": 16, \"9\": 8, \"1\": 12, \"14\": 19, \"11\": 9, \"2\": 11, \"3\": 22, \"15\": 9, \"10\": 18, \"0\": 20, \"8\": 25, \"13\": 6, \"12\": 13, \"5\": 14}, \"14\": {\"6\": 28, \"10\": 27, \"4\": 19, \"7\": 19, \"9\": 8, \"3\": 13, \"2\": 12, \"14\": 36, \"0\": 7, \"1\": 13, \"11\": 18, \"12\": 6, \"8\": 20, \"15\": 6, \"5\": 5, \"13\": 3}, \"0\": {\"7\": 9, \"2\": 14, \"5\": 24, \"10\": 9, \"4\": 15, \"0\": 24, \"14\": 6, \"3\": 14, \"11\": 8, \"13\": 17, \"12\": 19, \"15\": 23, \"6\": 9, \"1\": 17, \"9\": 15, \"8\": 17}, \"7\": {\"6\": 21, \"2\": 23, \"8\": 10, \"7\": 28, \"12\": 6, \"11\": 21, \"13\": 17, \"5\": 8, \"10\": 18, \"3\": 12, \"14\": 15, \"4\": 15, \"15\": 10, \"9\": 11, \"0\": 14, \"1\": 11}, \"6\": {\"6\": 26, \"8\": 15, \"13\": 6, \"5\": 10, \"4\": 14, \"14\": 42, \"3\": 14, \"9\": 11, \"2\": 12, \"12\": 12, \"11\": 21, \"1\": 10, \"10\": 18, \"0\": 12, \"15\": 5, \"7\": 12}, \"10\": {\"8\": 20, \"12\": 10, \"14\": 31, \"4\": 26, \"3\": 11, \"2\": 14, \"10\": 29, \"11\": 14, \"5\": 11, \"6\": 30, \"7\": 12, \"9\": 8, \"15\": 7, \"1\": 8, \"13\": 6, \"0\": 3}, \"5\": {\"10\": 11, \"12\": 14, \"5\": 24, \"4\": 14, \"0\": 24, \"7\": 13, \"13\": 14, \"3\": 24, \"8\": 15, \"15\": 19, \"9\": 18, \"6\": 8, \"2\": 13, \"1\": 15, \"11\": 9, \"14\": 5}, \"2\": {\"1\": 14, \"15\": 16, \"7\": 15, \"14\": 9, \"10\": 13, \"12\": 15, \"9\": 25, \"11\": 25, \"4\": 16, \"6\": 12, \"0\": 18, \"3\": 14, \"8\": 15, \"13\": 9, \"5\": 12, \"2\": 12}, \"12\": {\"12\": 15, \"2\": 20, \"0\": 20, \"15\": 20, \"4\": 18, \"14\": 7, \"10\": 9, \"11\": 11, \"7\": 14, \"9\": 22, \"5\": 19, \"6\": 10, \"13\": 19, \"1\": 12, \"3\": 13, \"8\": 11}, \"9\": {\"3\": 20, \"4\": 8, \"9\": 18, \"13\": 14, \"15\": 12, \"2\": 26, \"5\": 15, \"7\": 13, \"6\": 15, \"8\": 11, \"14\": 12, \"10\": 6, \"1\": 21, \"11\": 20, \"0\": 16, \"12\": 13}, \"1\": {\"6\": 10, \"13\": 21, \"0\": 15, \"4\": 16, \"1\": 24, \"2\": 20, \"8\": 11, \"3\": 13, \"9\": 13, \"15\": 20, \"5\": 15, \"10\": 10, \"11\": 12, \"7\": 14, \"12\": 20, \"14\": 6}, \"11\": {\"1\": 7, \"11\": 48, \"3\": 7, \"4\": 7, \"2\": 16, \"8\": 13, \"14\": 21, \"13\": 21, \"5\": 8, \"6\": 21, \"0\": 11, \"7\": 24, \"10\": 7, \"9\": 15, \"12\": 6, \"15\": 8}, \"13\": {\"5\": 23, \"15\": 20, \"3\": 20, \"11\": 18, \"2\": 15, \"4\": 8, \"0\": 13, \"10\": 8, \"1\": 20, \"12\": 11, \"7\": 19, \"13\": 18, \"6\": 11, \"8\": 14, \"14\": 5, \"9\": 17}}, \"ORACLE.run1_38\": {\"5\": {\"13\": 11, \"4\": 7, \"9\": 19, \"5\": 30, \"0\": 25, \"15\": 14, \"6\": 26, \"1\": 14, \"8\": 25, \"3\": 13, \"10\": 20, \"12\": 6, \"7\": 25, \"11\": 1, \"2\": 1, \"14\": 3}, \"8\": {\"10\": 13, \"13\": 14, \"1\": 13, \"5\": 20, \"7\": 24, \"8\": 28, \"0\": 30, \"11\": 5, \"15\": 22, \"12\": 14, \"9\": 13, \"3\": 13, \"4\": 8, \"2\": 5, \"6\": 14, \"14\": 4}, \"11\": {\"14\": 58, \"0\": 3, \"15\": 11, \"12\": 11, \"4\": 4, \"11\": 75, \"2\": 43, \"13\": 11, \"10\": 11, \"8\": 5, \"5\": 2, \"1\": 4, \"7\": 1, \"6\": 1}, \"1\": {\"13\": 33, \"1\": 49, \"5\": 22, \"11\": 2, \"2\": 26, \"3\": 5, \"9\": 13, \"15\": 31, \"0\": 12, \"8\": 11, \"7\": 5, \"10\": 11, \"6\": 14, \"14\": 5, \"12\": 1}, \"10\": {\"4\": 7, \"13\": 21, \"12\": 22, \"7\": 10, \"5\": 21, \"10\": 23, \"2\": 15, \"11\": 20, \"15\": 22, \"1\": 10, \"9\": 4, \"8\": 17, \"0\": 18, \"14\": 24, \"6\": 5, \"3\": 1}, \"15\": {\"8\": 16, \"9\": 7, \"1\": 32, \"11\": 10, \"0\": 17, \"7\": 8, \"15\": 31, \"12\": 3, \"10\": 22, \"5\": 17, \"14\": 14, \"13\": 31, \"2\": 21, \"6\": 11}, \"3\": {\"3\": 97, \"0\": 20, \"7\": 26, \"8\": 13, \"6\": 28, \"5\": 10, \"9\": 45, \"1\": 1}, \"7\": {\"4\": 16, \"7\": 47, \"3\": 28, \"5\": 23, \"0\": 34, \"12\": 4, \"8\": 24, \"11\": 2, \"9\": 16, \"15\": 6, \"6\": 22, \"10\": 10, \"13\": 1, \"1\": 5, \"14\": 1, \"2\": 1}, \"4\": {\"8\": 13, \"4\": 124, \"12\": 55, \"7\": 15, \"3\": 4, \"11\": 7, \"10\": 6, \"0\": 8, \"14\": 4, \"5\": 4}, \"14\": {\"13\": 12, \"14\": 69, \"11\": 60, \"12\": 20, \"0\": 3, \"15\": 11, \"2\": 26, \"10\": 18, \"5\": 1, \"8\": 4, \"1\": 12, \"4\": 4}, \"9\": {\"3\": 50, \"5\": 14, \"1\": 8, \"9\": 63, \"8\": 15, \"7\": 11, \"6\": 51, \"13\": 5, \"0\": 15, \"10\": 4, \"15\": 4}, \"12\": {\"4\": 48, \"14\": 20, \"12\": 75, \"13\": 5, \"2\": 8, \"1\": 1, \"10\": 21, \"0\": 5, \"15\": 4, \"7\": 9, \"8\": 17, \"11\": 18, \"5\": 8, \"6\": 1}, \"6\": {\"5\": 29, \"1\": 17, \"3\": 28, \"15\": 17, \"9\": 50, \"6\": 41, \"8\": 10, \"0\": 17, \"13\": 8, \"7\": 15, \"4\": 1, \"10\": 3, \"11\": 2, \"2\": 1, \"12\": 1}, \"2\": {\"13\": 31, \"2\": 59, \"15\": 32, \"14\": 37, \"11\": 33, \"10\": 13, \"5\": 5, \"1\": 16, \"8\": 4, \"7\": 2, \"0\": 5, \"6\": 1, \"12\": 2}, \"0\": {\"1\": 10, \"15\": 10, \"3\": 24, \"10\": 10, \"7\": 23, \"8\": 37, \"2\": 7, \"6\": 15, \"9\": 18, \"5\": 16, \"0\": 33, \"14\": 2, \"12\": 14, \"4\": 8, \"13\": 10, \"11\": 3}, \"13\": {\"13\": 33, \"2\": 16, \"15\": 46, \"14\": 18, \"8\": 16, \"3\": 1, \"1\": 40, \"10\": 18, \"6\": 14, \"12\": 2, \"5\": 8, \"9\": 7, \"4\": 3, \"11\": 12, \"0\": 4, \"7\": 2}}, \"ORACLE.run1_8\": {\"9\": {\"9\": 133, \"5\": 15, \"10\": 16, \"13\": 14, \"7\": 6, \"4\": 14, \"14\": 10, \"1\": 9, \"3\": 1, \"6\": 8, \"0\": 7, \"11\": 6, \"8\": 1}, \"10\": {\"14\": 29, \"4\": 16, \"1\": 18, \"0\": 19, \"11\": 18, \"7\": 18, \"3\": 11, \"13\": 22, \"12\": 6, \"2\": 9, \"5\": 25, \"9\": 8, \"6\": 18, \"8\": 6, \"10\": 14, \"15\": 3}, \"13\": {\"3\": 9, \"5\": 28, \"13\": 16, \"10\": 23, \"7\": 18, \"14\": 19, \"0\": 25, \"11\": 11, \"12\": 7, \"4\": 18, \"6\": 14, \"9\": 5, \"1\": 17, \"15\": 11, \"2\": 6, \"8\": 13}, \"0\": {\"6\": 18, \"11\": 12, \"15\": 9, \"1\": 12, \"12\": 14, \"7\": 23, \"0\": 14, \"2\": 14, \"14\": 16, \"5\": 19, \"8\": 13, \"3\": 7, \"10\": 20, \"4\": 23, \"13\": 23, \"9\": 3}, \"1\": {\"5\": 20, \"8\": 13, \"9\": 7, \"11\": 26, \"14\": 23, \"0\": 14, \"1\": 32, \"4\": 25, \"6\": 17, \"13\": 18, \"7\": 12, \"12\": 7, \"3\": 3, \"10\": 12, \"2\": 4, \"15\": 7}, \"15\": {\"11\": 10, \"14\": 6, \"7\": 15, \"1\": 11, \"6\": 14, \"12\": 42, \"2\": 21, \"15\": 19, \"10\": 6, \"8\": 25, \"4\": 12, \"3\": 34, \"5\": 9, \"0\": 13, \"13\": 3}, \"5\": {\"5\": 28, \"14\": 24, \"10\": 28, \"11\": 25, \"15\": 8, \"9\": 12, \"7\": 10, \"1\": 24, \"8\": 5, \"6\": 17, \"4\": 18, \"3\": 4, \"13\": 19, \"0\": 11, \"2\": 4, \"12\": 3}, \"3\": {\"15\": 27, \"2\": 35, \"12\": 40, \"3\": 44, \"7\": 15, \"13\": 7, \"10\": 4, \"6\": 16, \"8\": 20, \"0\": 9, \"4\": 7, \"14\": 7, \"1\": 6, \"5\": 2, \"11\": 1}, \"6\": {\"14\": 13, \"7\": 18, \"9\": 5, \"4\": 15, \"6\": 12, \"8\": 21, \"15\": 20, \"0\": 17, \"10\": 18, \"11\": 16, \"1\": 18, \"13\": 18, \"5\": 15, \"12\": 15, \"2\": 12, \"3\": 7}, \"11\": {\"10\": 19, \"13\": 21, \"14\": 25, \"5\": 21, \"1\": 33, \"11\": 26, \"4\": 14, \"0\": 14, \"6\": 13, \"9\": 4, \"2\": 9, \"12\": 7, \"8\": 14, \"15\": 7, \"7\": 10, \"3\": 3}, \"8\": {\"10\": 15, \"15\": 28, \"2\": 21, \"1\": 13, \"11\": 19, \"3\": 16, \"12\": 22, \"14\": 10, \"6\": 26, \"7\": 12, \"8\": 22, \"4\": 12, \"13\": 10, \"5\": 6, \"0\": 8}, \"4\": {\"14\": 24, \"1\": 19, \"8\": 12, \"10\": 15, \"0\": 17, \"4\": 21, \"5\": 26, \"6\": 23, \"7\": 11, \"11\": 16, \"13\": 17, \"9\": 5, \"2\": 10, \"12\": 8, \"15\": 8, \"3\": 8}, \"12\": {\"3\": 41, \"12\": 39, \"2\": 30, \"1\": 8, \"7\": 7, \"15\": 35, \"0\": 13, \"6\": 6, \"13\": 6, \"5\": 5, \"8\": 24, \"4\": 7, \"10\": 7, \"11\": 9, \"14\": 3}, \"14\": {\"13\": 15, \"10\": 27, \"15\": 12, \"6\": 19, \"5\": 23, \"1\": 19, \"8\": 19, \"0\": 19, \"14\": 28, \"4\": 15, \"2\": 6, \"12\": 4, \"7\": 12, \"11\": 13, \"3\": 4, \"9\": 5}, \"2\": {\"14\": 10, \"0\": 14, \"6\": 19, \"2\": 39, \"4\": 8, \"15\": 28, \"8\": 15, \"7\": 21, \"12\": 21, \"11\": 6, \"3\": 31, \"5\": 8, \"13\": 6, \"1\": 7, \"9\": 1, \"10\": 6}, \"7\": {\"13\": 20, \"2\": 25, \"11\": 15, \"7\": 19, \"1\": 18, \"9\": 3, \"0\": 20, \"12\": 19, \"10\": 20, \"3\": 14, \"15\": 12, \"6\": 15, \"14\": 9, \"5\": 10, \"8\": 11, \"4\": 10}}, \"ORACLE.run1_50\": {\"7\": {\"6\": 17, \"7\": 30, \"13\": 41, \"2\": 7, \"3\": 9, \"8\": 17, \"0\": 15, \"5\": 32, \"10\": 28, \"15\": 10, \"4\": 11, \"1\": 20, \"14\": 2, \"11\": 1}, \"3\": {\"3\": 99, \"5\": 6, \"8\": 71, \"10\": 29, \"7\": 11, \"13\": 4, \"0\": 11, \"4\": 1, \"2\": 5, \"6\": 3}, \"8\": {\"13\": 12, \"3\": 58, \"14\": 1, \"2\": 18, \"10\": 32, \"8\": 72, \"5\": 6, \"0\": 22, \"7\": 10, \"1\": 2, \"6\": 4, \"4\": 3}, \"2\": {\"8\": 17, \"7\": 10, \"0\": 49, \"3\": 2, \"2\": 48, \"10\": 22, \"14\": 30, \"15\": 4, \"1\": 13, \"5\": 15, \"6\": 12, \"12\": 4, \"4\": 6, \"13\": 6, \"11\": 2}, \"14\": {\"11\": 25, \"12\": 40, \"13\": 5, \"5\": 10, \"0\": 4, \"2\": 17, \"14\": 43, \"9\": 28, \"7\": 6, \"15\": 23, \"1\": 16, \"6\": 11, \"4\": 10, \"10\": 2}, \"4\": {\"4\": 25, \"15\": 29, \"1\": 39, \"5\": 24, \"8\": 1, \"13\": 13, \"0\": 13, \"14\": 10, \"10\": 10, \"6\": 20, \"2\": 9, \"9\": 8, \"11\": 24, \"7\": 13, \"12\": 2}, \"6\": {\"15\": 15, \"10\": 13, \"14\": 12, \"4\": 22, \"0\": 19, \"6\": 24, \"1\": 14, \"13\": 30, \"7\": 28, \"11\": 10, \"2\": 16, \"5\": 21, \"8\": 6, \"12\": 5, \"9\": 4, \"3\": 1}, \"15\": {\"0\": 3, \"15\": 41, \"1\": 37, \"6\": 26, \"12\": 12, \"14\": 15, \"11\": 26, \"4\": 32, \"7\": 9, \"13\": 19, \"9\": 6, \"5\": 7, \"2\": 5, \"10\": 2}, \"10\": {\"4\": 8, \"13\": 20, \"10\": 38, \"2\": 21, \"8\": 40, \"0\": 37, \"6\": 7, \"3\": 27, \"7\": 18, \"5\": 15, \"15\": 2, \"14\": 4, \"1\": 3}, \"11\": {\"9\": 42, \"12\": 35, \"1\": 27, \"11\": 52, \"5\": 7, \"15\": 22, \"4\": 17, \"14\": 18, \"13\": 7, \"7\": 4, \"6\": 6, \"10\": 2, \"2\": 1}, \"13\": {\"13\": 30, \"10\": 26, \"0\": 16, \"5\": 40, \"4\": 20, \"12\": 2, \"2\": 17, \"6\": 19, \"15\": 11, \"1\": 18, \"14\": 8, \"3\": 4, \"7\": 21, \"8\": 5, \"11\": 3}, \"9\": {\"9\": 80, \"1\": 12, \"12\": 42, \"15\": 17, \"14\": 15, \"13\": 2, \"11\": 50, \"6\": 4, \"4\": 8, \"2\": 3, \"5\": 4, \"7\": 1, \"0\": 1, \"10\": 1}, \"0\": {\"13\": 20, \"0\": 47, \"2\": 46, \"14\": 11, \"10\": 25, \"5\": 24, \"1\": 9, \"15\": 4, \"4\": 6, \"7\": 7, \"6\": 8, \"12\": 3, \"3\": 6, \"8\": 17, \"11\": 4, \"9\": 3}, \"1\": {\"6\": 17, \"0\": 9, \"1\": 31, \"15\": 34, \"2\": 13, \"7\": 18, \"4\": 23, \"11\": 21, \"13\": 15, \"14\": 18, \"9\": 8, \"12\": 4, \"10\": 8, \"5\": 17, \"8\": 4}, \"12\": {\"15\": 14, \"12\": 76, \"11\": 40, \"14\": 33, \"9\": 46, \"2\": 3, \"1\": 9, \"4\": 5, \"7\": 1, \"5\": 5, \"13\": 3, \"6\": 4, \"0\": 1}, \"5\": {\"2\": 14, \"6\": 25, \"7\": 23, \"13\": 38, \"8\": 6, \"10\": 17, \"5\": 21, \"4\": 24, \"3\": 7, \"1\": 30, \"0\": 10, \"15\": 9, \"9\": 3, \"14\": 5, \"11\": 5, \"12\": 3}}, \"ORACLE.run1_32\": {\"8\": {\"4\": 18, \"8\": 32, \"5\": 26, \"2\": 11, \"13\": 27, \"11\": 16, \"15\": 26, \"7\": 18, \"14\": 16, \"0\": 22, \"3\": 27, \"9\": 1}, \"14\": {\"13\": 18, \"3\": 27, \"7\": 30, \"4\": 13, \"11\": 39, \"0\": 17, \"2\": 13, \"8\": 17, \"5\": 21, \"14\": 40, \"15\": 4, \"9\": 1}, \"2\": {\"9\": 24, \"0\": 24, \"5\": 18, \"14\": 21, \"2\": 54, \"4\": 28, \"7\": 25, \"11\": 14, \"8\": 15, \"12\": 3, \"13\": 8, \"15\": 1, \"3\": 5}, \"0\": {\"13\": 21, \"5\": 27, \"2\": 35, \"0\": 26, \"14\": 14, \"3\": 7, \"9\": 9, \"7\": 26, \"8\": 20, \"4\": 28, \"11\": 16, \"6\": 1, \"12\": 3, \"15\": 7}, \"1\": {\"1\": 139, \"10\": 61, \"6\": 39, \"12\": 1}, \"10\": {\"1\": 61, \"10\": 100, \"6\": 43, \"12\": 32, \"9\": 4}, \"11\": {\"14\": 45, \"5\": 13, \"13\": 20, \"11\": 45, \"3\": 30, \"4\": 15, \"2\": 10, \"0\": 13, \"7\": 28, \"8\": 16, \"15\": 5}, \"5\": {\"14\": 18, \"2\": 25, \"8\": 27, \"0\": 25, \"15\": 9, \"5\": 23, \"7\": 25, \"4\": 21, \"3\": 15, \"9\": 2, \"13\": 27, \"11\": 23}, \"15\": {\"15\": 123, \"13\": 19, \"3\": 41, \"0\": 8, \"5\": 12, \"11\": 8, \"2\": 2, \"8\": 18, \"4\": 4, \"14\": 3, \"7\": 2}, \"3\": {\"3\": 52, \"13\": 18, \"15\": 35, \"8\": 32, \"0\": 14, \"11\": 37, \"4\": 5, \"2\": 1, \"7\": 5, \"5\": 20, \"14\": 21}, \"12\": {\"9\": 49, \"12\": 134, \"6\": 26, \"1\": 4, \"10\": 26, \"2\": 1}, \"7\": {\"3\": 12, \"14\": 39, \"4\": 29, \"2\": 26, \"5\": 17, \"7\": 30, \"13\": 21, \"0\": 23, \"8\": 18, \"11\": 17, \"15\": 4, \"9\": 3, \"12\": 1}, \"13\": {\"7\": 21, \"13\": 24, \"14\": 19, \"8\": 26, \"2\": 14, \"0\": 24, \"4\": 28, \"3\": 31, \"11\": 19, \"5\": 18, \"15\": 15, \"9\": 1}, \"6\": {\"10\": 44, \"6\": 98, \"1\": 31, \"12\": 46, \"9\": 21}, \"4\": {\"7\": 26, \"4\": 32, \"15\": 4, \"2\": 32, \"5\": 14, \"0\": 27, \"8\": 24, \"13\": 33, \"3\": 9, \"9\": 6, \"11\": 15, \"14\": 18}, \"9\": {\"12\": 60, \"6\": 3, \"2\": 21, \"14\": 3, \"9\": 123, \"5\": 4, \"15\": 1, \"7\": 2, \"4\": 13, \"0\": 5, \"10\": 3, \"8\": 1, \"3\": 1}}, \"ORACLE.run1_26\": {\"4\": {\"3\": 20, \"4\": 16, \"9\": 19, \"11\": 1, \"1\": 22, \"2\": 12, \"14\": 22, \"13\": 11, \"7\": 26, \"0\": 21, \"10\": 17, \"5\": 10, \"6\": 15, \"8\": 13, \"15\": 9, \"12\": 6}, \"12\": {\"10\": 10, \"8\": 8, \"12\": 93, \"15\": 16, \"11\": 49, \"0\": 8, \"2\": 1, \"4\": 4, \"6\": 13, \"14\": 4, \"9\": 12, \"5\": 7, \"13\": 6, \"1\": 4, \"3\": 3, \"7\": 2}, \"10\": {\"1\": 16, \"10\": 11, \"9\": 16, \"2\": 22, \"13\": 12, \"8\": 15, \"3\": 11, \"6\": 19, \"14\": 14, \"5\": 14, \"15\": 16, \"7\": 11, \"0\": 20, \"4\": 21, \"12\": 17, \"11\": 5}, \"0\": {\"14\": 18, \"1\": 31, \"9\": 14, \"7\": 18, \"6\": 15, \"8\": 11, \"0\": 19, \"3\": 15, \"4\": 27, \"15\": 14, \"13\": 5, \"10\": 20, \"2\": 17, \"5\": 5, \"12\": 10, \"11\": 1}, \"13\": {\"5\": 22, \"2\": 13, \"13\": 32, \"14\": 8, \"0\": 5, \"8\": 11, \"15\": 21, \"6\": 20, \"9\": 25, \"3\": 10, \"11\": 14, \"4\": 6, \"7\": 18, \"12\": 13, \"10\": 16, \"1\": 6}, \"9\": {\"3\": 11, \"10\": 20, \"6\": 13, \"5\": 23, \"1\": 21, \"0\": 11, \"12\": 16, \"14\": 16, \"13\": 22, \"15\": 16, \"8\": 16, \"9\": 17, \"2\": 9, \"7\": 12, \"11\": 5, \"4\": 12}, \"3\": {\"9\": 11, \"5\": 20, \"3\": 33, \"7\": 28, \"14\": 11, \"1\": 21, \"10\": 10, \"15\": 10, \"2\": 35, \"13\": 11, \"0\": 15, \"4\": 16, \"8\": 10, \"6\": 8, \"12\": 1}, \"2\": {\"9\": 21, \"15\": 19, \"3\": 31, \"0\": 16, \"8\": 12, \"2\": 11, \"4\": 18, \"13\": 19, \"14\": 10, \"5\": 15, \"1\": 21, \"7\": 17, \"12\": 7, \"6\": 13, \"10\": 8, \"11\": 2}, \"5\": {\"2\": 24, \"9\": 26, \"3\": 23, \"4\": 7, \"15\": 24, \"8\": 15, \"6\": 14, \"10\": 14, \"5\": 18, \"7\": 14, \"0\": 8, \"12\": 6, \"14\": 10, \"13\": 22, \"11\": 4, \"1\": 11}, \"14\": {\"4\": 21, \"14\": 32, \"8\": 20, \"11\": 2, \"5\": 6, \"9\": 14, \"10\": 19, \"2\": 11, \"12\": 13, \"1\": 24, \"0\": 25, \"7\": 16, \"13\": 4, \"15\": 10, \"3\": 18, \"6\": 5}, \"8\": {\"0\": 21, \"6\": 19, \"15\": 15, \"5\": 17, \"9\": 14, \"7\": 12, \"11\": 7, \"4\": 20, \"3\": 22, \"2\": 17, \"8\": 10, \"14\": 19, \"12\": 7, \"1\": 25, \"13\": 6, \"10\": 9}, \"7\": {\"4\": 22, \"9\": 9, \"6\": 14, \"3\": 17, \"5\": 6, \"10\": 22, \"13\": 11, \"14\": 13, \"1\": 24, \"7\": 25, \"15\": 14, \"2\": 25, \"0\": 16, \"11\": 4, \"8\": 14, \"12\": 4}, \"6\": {\"11\": 13, \"6\": 24, \"14\": 22, \"0\": 12, \"9\": 16, \"8\": 13, \"10\": 19, \"5\": 14, \"2\": 14, \"3\": 8, \"15\": 16, \"7\": 9, \"13\": 13, \"12\": 27, \"1\": 7, \"4\": 13}, \"11\": {\"5\": 11, \"10\": 5, \"12\": 60, \"11\": 106, \"9\": 13, \"6\": 6, \"8\": 3, \"0\": 4, \"13\": 15, \"15\": 11, \"3\": 1, \"14\": 2, \"2\": 3}, \"15\": {\"2\": 23, \"8\": 22, \"9\": 17, \"6\": 17, \"10\": 21, \"3\": 13, \"5\": 18, \"0\": 13, \"1\": 11, \"14\": 10, \"7\": 19, \"12\": 12, \"15\": 19, \"11\": 4, \"13\": 12, \"4\": 9}, \"1\": {\"0\": 24, \"5\": 4, \"3\": 21, \"10\": 23, \"2\": 18, \"6\": 11, \"8\": 14, \"1\": 19, \"15\": 10, \"12\": 9, \"14\": 30, \"9\": 11, \"13\": 8, \"7\": 8, \"4\": 29, \"11\": 1}}, \"ORACLE.run1_44\": {\"12\": {\"3\": 33, \"12\": 57, \"10\": 51, \"7\": 19, \"9\": 4, \"1\": 41, \"2\": 26, \"11\": 3, \"6\": 4, \"13\": 2}, \"7\": {\"11\": 12, \"7\": 37, \"10\": 19, \"6\": 23, \"2\": 29, \"1\": 18, \"13\": 26, \"9\": 40, \"3\": 16, \"12\": 14, \"14\": 1, \"4\": 5}, \"5\": {\"4\": 24, \"15\": 35, \"8\": 44, \"5\": 58, \"0\": 47, \"14\": 29, \"11\": 1, \"9\": 2}, \"15\": {\"15\": 49, \"5\": 34, \"14\": 34, \"8\": 36, \"0\": 44, \"6\": 1, \"1\": 1, \"4\": 36, \"3\": 2, \"13\": 3}, \"8\": {\"8\": 75, \"0\": 59, \"5\": 37, \"4\": 12, \"15\": 43, \"14\": 14}, \"2\": {\"10\": 28, \"7\": 30, \"6\": 27, \"2\": 43, \"3\": 24, \"12\": 24, \"11\": 10, \"9\": 18, \"13\": 9, \"4\": 1, \"1\": 26}, \"13\": {\"7\": 22, \"11\": 41, \"2\": 16, \"9\": 29, \"1\": 4, \"14\": 22, \"13\": 50, \"6\": 32, \"4\": 15, \"3\": 6, \"5\": 1, \"10\": 1, \"12\": 1}, \"4\": {\"15\": 25, \"14\": 47, \"4\": 58, \"13\": 21, \"5\": 25, \"1\": 4, \"11\": 3, \"9\": 14, \"2\": 1, \"8\": 8, \"0\": 17, \"6\": 6, \"3\": 4, \"7\": 7}, \"0\": {\"0\": 55, \"8\": 47, \"5\": 46, \"14\": 26, \"15\": 48, \"4\": 15, \"9\": 1, \"13\": 1, \"11\": 1}, \"6\": {\"3\": 6, \"13\": 44, \"2\": 30, \"6\": 45, \"7\": 28, \"11\": 36, \"1\": 9, \"9\": 25, \"10\": 10, \"12\": 4, \"4\": 2, \"14\": 1}, \"9\": {\"1\": 15, \"6\": 26, \"12\": 4, \"7\": 39, \"4\": 7, \"13\": 40, \"11\": 23, \"2\": 20, \"3\": 15, \"9\": 32, \"14\": 8, \"10\": 11}, \"11\": {\"11\": 80, \"9\": 30, \"14\": 7, \"6\": 33, \"13\": 42, \"7\": 13, \"4\": 4, \"2\": 14, \"3\": 5, \"12\": 3, \"1\": 5, \"10\": 3, \"5\": 1}, \"10\": {\"10\": 63, \"12\": 42, \"3\": 25, \"7\": 23, \"6\": 7, \"1\": 40, \"2\": 29, \"11\": 3, \"13\": 7, \"9\": 1}, \"14\": {\"4\": 51, \"14\": 57, \"5\": 32, \"6\": 3, \"3\": 5, \"7\": 5, \"9\": 10, \"13\": 10, \"8\": 15, \"15\": 34, \"1\": 1, \"0\": 17}, \"1\": {\"3\": 39, \"12\": 48, \"10\": 37, \"1\": 39, \"2\": 26, \"6\": 7, \"7\": 20, \"9\": 10, \"11\": 5, \"13\": 8, \"4\": 1}, \"3\": {\"1\": 38, \"3\": 70, \"7\": 23, \"12\": 34, \"13\": 8, \"10\": 21, \"9\": 19, \"4\": 2, \"2\": 13, \"6\": 7, \"0\": 1, \"14\": 3, \"11\": 1}}}, \"per_domain_accuracy\": {\"CORES_3\": {\"accuracy\": 0.9992732558139535, \"source?\": true}, \"CORES_4\": {\"accuracy\": 0.9988636363636364, \"source?\": true}, \"CORES_5\": {\"accuracy\": 0.9996508379888268, \"source?\": true}, \"CORES_1\": {\"accuracy\": 0.9989754098360656, \"source?\": true}, \"CORES_2\": {\"accuracy\": 0.9996468926553672, \"source?\": true}, \"ORACLE.run1_14\": {\"accuracy\": 0.18697916666666667, \"source?\": false}, \"ORACLE.run1_20\": {\"accuracy\": 0.10130208333333333, \"source?\": false}, \"ORACLE.run1_38\": {\"accuracy\": 0.22838541666666667, \"source?\": false}, \"ORACLE.run1_8\": {\"accuracy\": 0.13177083333333334, \"source?\": false}, \"ORACLE.run1_50\": {\"accuracy\": 0.19713541666666667, \"source?\": false}, \"ORACLE.run1_32\": {\"accuracy\": 0.2799479166666667, \"source?\": false}, \"ORACLE.run1_26\": {\"accuracy\": 0.12630208333333334, \"source?\": false}, \"ORACLE.run1_44\": {\"accuracy\": 0.22604166666666667, \"source?\": false}}}, \"history\": {\"epoch_indices\": [1, 2, 3, 4, 5, 6, 7, 8, 9], \"train_label_loss\": [0.02565224348880996, 0.007236700330528824, 0.004858522295074901, 0.0034224971418825474, 0.0030399865229465916, 0.0028112224654399877, 0.0027608301067110494, 0.002285951076800246, 0.0019033543907429524], \"source_val_label_loss\": [0.009831502102315426, 0.008433091454207897, 0.009725785814225674, 0.010364096611738205, 0.010474846698343754, 0.0063441041857004166, 0.009391079656779766, 0.009129653684794903, 0.015526586212217808], \"target_val_label_loss\": [2.670610189437866, 3.12373948097229, 3.180880546569824, 3.5395114421844482, 3.8330607414245605, 3.9089274406433105, 4.159914016723633, 4.53325080871582, 5.051117420196533], \"source_val_acc_label\": [0.9980379566210046, 0.9988227739726028, 0.9989654680365296, 0.9992151826484018, 0.9992865296803652, 0.9991081621004566, 0.9994292237442922, 0.999607591324201, 0.998787100456621], \"target_val_acc_label\": [0.15563151041666667, 0.15579427083333333, 0.16240234375, 0.17132161458333334, 0.18473307291666666, 0.15625, 0.17386067708333333, 0.17672526041666667, 0.16783854166666667]}, \"dataset_metrics\": {\"source\": {\"train\": {\"n_unique_x\": 175135, \"n_unique_y\": 58, \"n_batch/episode\": 6284}, \"val\": {\"n_unique_x\": 37196, \"n_unique_y\": 58, \"n_batch/episode\": 876}, \"test\": {\"n_unique_x\": 37634, \"n_unique_y\": 58, \"n_batch/episode\": 891}}, \"target\": {\"train\": {\"n_unique_x\": 179200, \"n_unique_y\": 16, \"n_batch/episode\": 6720}, \"val\": {\"n_unique_x\": 38400, \"n_unique_y\": 16, \"n_batch/episode\": 960}, \"test\": {\"n_unique_x\": 38400, \"n_unique_y\": 16, \"n_batch/episode\": 960}}}}'"
      ]
     },
     "execution_count": 29,
     "metadata": {},
     "output_type": "execute_result"
    }
   ],
   "source": [
    "json.dumps(experiment)"
   ]
  }
 ],
 "metadata": {
  "celltoolbar": "Tags",
  "kernelspec": {
   "display_name": "Python 3 (ipykernel)",
   "language": "python",
   "name": "python3"
  },
  "language_info": {
   "codemirror_mode": {
    "name": "ipython",
    "version": 3
   },
   "file_extension": ".py",
   "mimetype": "text/x-python",
   "name": "python",
   "nbconvert_exporter": "python",
   "pygments_lexer": "ipython3",
   "version": "3.8.12"
  },
  "papermill": {
   "default_parameters": {},
   "duration": 2461.01574,
   "end_time": "2022-03-22T03:11:16.301627",
   "environment_variables": {},
   "exception": null,
   "input_path": "/root/csc500-main/csc500-notebooks/templates/tl_ptn_template.ipynb",
   "output_path": "trial.ipynb",
   "parameters": {
    "parameters": {
     "BEST_MODEL_PATH": "./best_model.pth",
     "NUM_LOGS_PER_EPOCH": 10,
     "criteria_for_best": "target_accuracy",
     "dataset_seed": 1337,
     "datasets": [
      {
       "domain_prefix": "CORES_",
       "domains": [
        1,
        2,
        3,
        4,
        5
       ],
       "episode_transforms": [],
       "labels": [
        "1-10.",
        "1-11.",
        "1-15.",
        "1-16.",
        "1-17.",
        "1-18.",
        "1-19.",
        "10-4.",
        "10-7.",
        "11-1.",
        "11-14.",
        "11-17.",
        "11-20.",
        "11-7.",
        "13-20.",
        "13-8.",
        "14-10.",
        "14-11.",
        "14-14.",
        "14-7.",
        "15-1.",
        "15-20.",
        "16-1.",
        "16-16.",
        "17-10.",
        "17-11.",
        "17-2.",
        "19-1.",
        "19-16.",
        "19-19.",
        "19-20.",
        "19-3.",
        "2-10.",
        "2-11.",
        "2-17.",
        "2-18.",
        "2-20.",
        "2-3.",
        "2-4.",
        "2-5.",
        "2-6.",
        "2-7.",
        "2-8.",
        "3-13.",
        "3-18.",
        "3-3.",
        "4-1.",
        "4-10.",
        "4-11.",
        "4-19.",
        "5-5.",
        "6-15.",
        "7-10.",
        "7-14.",
        "8-18.",
        "8-20.",
        "8-3.",
        "8-8."
       ],
       "num_examples_per_domain_per_label": -1,
       "pickle_path": "/root/csc500-main/datasets/cores.stratified_ds.2022A.pkl",
       "source_or_target_dataset": "source",
       "x_transforms": [
        "unit_mag"
       ]
      },
      {
       "domain_prefix": "ORACLE.run1_",
       "domains": [
        32,
        38,
        8,
        44,
        14,
        50,
        20,
        26
       ],
       "episode_transforms": [],
       "labels": [
        "3123D52",
        "3123D65",
        "3123D79",
        "3123D80",
        "3123D54",
        "3123D70",
        "3123D7B",
        "3123D89",
        "3123D58",
        "3123D76",
        "3123D7D",
        "3123EFE",
        "3123D64",
        "3123D78",
        "3123D7E",
        "3124E4A"
       ],
       "num_examples_per_domain_per_label": 2000,
       "pickle_path": "/root/csc500-main/datasets/oracle.Run1_10kExamples_stratified_ds.2022A.pkl",
       "source_or_target_dataset": "target",
       "x_transforms": [
        "unit_mag"
       ]
      }
     ],
     "device": "cuda",
     "experiment_name": "tl_1v2:cores-oracle.run1.limited",
     "lr": 0.0001,
     "n_epoch": 50,
     "n_query": 2,
     "n_shot": 3,
     "n_way": 16,
     "patience": 3,
     "seed": 1337,
     "test_k_factor": 2,
     "torch_default_dtype": "torch.float32",
     "train_k_factor": 3,
     "val_k_factor": 2,
     "x_net": [
      {
       "class": "nnReshape",
       "kargs": {
        "shape": [
         -1,
         1,
         2,
         256
        ]
       }
      },
      {
       "class": "Conv2d",
       "kargs": {
        "bias": false,
        "in_channels": 1,
        "kernel_size": [
         1,
         7
        ],
        "out_channels": 256,
        "padding": [
         0,
         3
        ]
       }
      },
      {
       "class": "ReLU",
       "kargs": {
        "inplace": true
       }
      },
      {
       "class": "BatchNorm2d",
       "kargs": {
        "num_features": 256
       }
      },
      {
       "class": "Conv2d",
       "kargs": {
        "bias": true,
        "in_channels": 256,
        "kernel_size": [
         2,
         7
        ],
        "out_channels": 80,
        "padding": [
         0,
         3
        ]
       }
      },
      {
       "class": "ReLU",
       "kargs": {
        "inplace": true
       }
      },
      {
       "class": "BatchNorm2d",
       "kargs": {
        "num_features": 80
       }
      },
      {
       "class": "Flatten",
       "kargs": {}
      },
      {
       "class": "Linear",
       "kargs": {
        "in_features": 20480,
        "out_features": 256
       }
      },
      {
       "class": "ReLU",
       "kargs": {
        "inplace": true
       }
      },
      {
       "class": "BatchNorm1d",
       "kargs": {
        "num_features": 256
       }
      },
      {
       "class": "Linear",
       "kargs": {
        "in_features": 256,
        "out_features": 256
       }
      }
     ]
    }
   },
   "start_time": "2022-03-22T02:30:15.285887",
   "version": "2.3.4"
  }
 },
 "nbformat": 4,
 "nbformat_minor": 5
}