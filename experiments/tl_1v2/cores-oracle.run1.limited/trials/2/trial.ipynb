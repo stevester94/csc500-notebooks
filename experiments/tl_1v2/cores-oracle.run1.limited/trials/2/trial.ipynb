{
 "cells": [
  {
   "cell_type": "markdown",
   "id": "9fea5f46",
   "metadata": {
    "papermill": {
     "duration": 0.026659,
     "end_time": "2022-03-22T03:11:17.875600",
     "exception": false,
     "start_time": "2022-03-22T03:11:17.848941",
     "status": "completed"
    },
    "tags": []
   },
   "source": [
    "# Transfer Learning Template"
   ]
  },
  {
   "cell_type": "code",
   "execution_count": 1,
   "id": "0902182a",
   "metadata": {
    "execution": {
     "iopub.execute_input": "2022-03-22T03:11:17.940548Z",
     "iopub.status.busy": "2022-03-22T03:11:17.937576Z",
     "iopub.status.idle": "2022-03-22T03:11:21.430112Z",
     "shell.execute_reply": "2022-03-22T03:11:21.429284Z"
    },
    "papermill": {
     "duration": 3.535324,
     "end_time": "2022-03-22T03:11:21.430308",
     "exception": false,
     "start_time": "2022-03-22T03:11:17.894984",
     "status": "completed"
    },
    "tags": []
   },
   "outputs": [],
   "source": [
    "%load_ext autoreload\n",
    "%autoreload 2\n",
    "%matplotlib inline\n",
    "\n",
    "    \n",
    "import os, json, sys, time, random\n",
    "import numpy as np\n",
    "import torch\n",
    "from torch.optim import Adam\n",
    "from  easydict import EasyDict\n",
    "import matplotlib.pyplot as plt\n",
    "\n",
    "from steves_models.steves_ptn import Steves_Prototypical_Network\n",
    "\n",
    "from steves_utils.lazy_iterable_wrapper import Lazy_Iterable_Wrapper\n",
    "from steves_utils.iterable_aggregator import Iterable_Aggregator\n",
    "from steves_utils.ptn_train_eval_test_jig import  PTN_Train_Eval_Test_Jig\n",
    "from steves_utils.torch_sequential_builder import build_sequential\n",
    "from steves_utils.torch_utils import get_dataset_metrics, ptn_confusion_by_domain_over_dataloader\n",
    "from steves_utils.utils_v2 import (per_domain_accuracy_from_confusion, get_datasets_base_path)\n",
    "from steves_utils.PTN.utils import independent_accuracy_assesment\n",
    "\n",
    "from torch.utils.data import DataLoader\n",
    "\n",
    "from steves_utils.stratified_dataset.episodic_accessor import Episodic_Accessor_Factory\n",
    "\n",
    "from steves_utils.ptn_do_report import (\n",
    "    get_loss_curve,\n",
    "    get_results_table,\n",
    "    get_parameters_table,\n",
    "    get_domain_accuracies,\n",
    ")\n",
    "\n",
    "from steves_utils.transforms import get_chained_transform"
   ]
  },
  {
   "cell_type": "markdown",
   "id": "41c840b4",
   "metadata": {
    "papermill": {
     "duration": 0.018338,
     "end_time": "2022-03-22T03:11:21.473565",
     "exception": false,
     "start_time": "2022-03-22T03:11:21.455227",
     "status": "completed"
    },
    "tags": []
   },
   "source": [
    "# Allowed Parameters\n",
    "These are allowed parameters, not defaults\n",
    "Each of these values need to be present in the injected parameters (the notebook will raise an exception if they are not present)\n",
    "\n",
    "Papermill uses the cell tag \"parameters\" to inject the real parameters below this cell.\n",
    "Enable tags to see what I mean"
   ]
  },
  {
   "cell_type": "code",
   "execution_count": 2,
   "id": "fd44eb83",
   "metadata": {
    "execution": {
     "iopub.execute_input": "2022-03-22T03:11:21.527373Z",
     "iopub.status.busy": "2022-03-22T03:11:21.526982Z",
     "iopub.status.idle": "2022-03-22T03:11:21.552514Z",
     "shell.execute_reply": "2022-03-22T03:11:21.551801Z"
    },
    "papermill": {
     "duration": 0.050699,
     "end_time": "2022-03-22T03:11:21.552674",
     "exception": false,
     "start_time": "2022-03-22T03:11:21.501975",
     "status": "completed"
    },
    "tags": []
   },
   "outputs": [],
   "source": [
    "required_parameters = {\n",
    "    \"experiment_name\",\n",
    "    \"lr\",\n",
    "    \"device\",\n",
    "    \"seed\",\n",
    "    \"dataset_seed\",\n",
    "    \"n_shot\",\n",
    "    \"n_query\",\n",
    "    \"n_way\",\n",
    "    \"train_k_factor\",\n",
    "    \"val_k_factor\",\n",
    "    \"test_k_factor\",\n",
    "    \"n_epoch\",\n",
    "    \"patience\",\n",
    "    \"criteria_for_best\",\n",
    "    \"x_net\",\n",
    "    \"datasets\",\n",
    "    \"torch_default_dtype\",\n",
    "    \"NUM_LOGS_PER_EPOCH\",\n",
    "    \"BEST_MODEL_PATH\",\n",
    "    \"x_shape\",\n",
    "}"
   ]
  },
  {
   "cell_type": "code",
   "execution_count": 3,
   "id": "fa3f0049",
   "metadata": {
    "execution": {
     "iopub.execute_input": "2022-03-22T03:11:21.611803Z",
     "iopub.status.busy": "2022-03-22T03:11:21.610857Z",
     "iopub.status.idle": "2022-03-22T03:11:21.636761Z",
     "shell.execute_reply": "2022-03-22T03:11:21.636056Z"
    },
    "papermill": {
     "duration": 0.058903,
     "end_time": "2022-03-22T03:11:21.636915",
     "exception": false,
     "start_time": "2022-03-22T03:11:21.578012",
     "status": "completed"
    },
    "tags": [
     "parameters"
    ]
   },
   "outputs": [],
   "source": [
    "from steves_utils.CORES.utils import (\n",
    "    ALL_NODES,\n",
    "    ALL_NODES_MINIMUM_1000_EXAMPLES,\n",
    "    ALL_DAYS\n",
    ")\n",
    "\n",
    "from steves_utils.ORACLE.utils_v2 import (\n",
    "    ALL_DISTANCES_FEET_NARROWED,\n",
    "    ALL_RUNS,\n",
    "    ALL_SERIAL_NUMBERS,\n",
    ")\n",
    "\n",
    "standalone_parameters = {}\n",
    "standalone_parameters[\"experiment_name\"] = \"STANDALONE PTN\"\n",
    "standalone_parameters[\"lr\"] = 0.001\n",
    "standalone_parameters[\"device\"] = \"cuda\"\n",
    "\n",
    "standalone_parameters[\"seed\"] = 1337\n",
    "standalone_parameters[\"dataset_seed\"] = 1337\n",
    "\n",
    "standalone_parameters[\"n_way\"] = 8\n",
    "standalone_parameters[\"n_shot\"] = 3\n",
    "standalone_parameters[\"n_query\"]  = 2\n",
    "standalone_parameters[\"train_k_factor\"] = 1\n",
    "standalone_parameters[\"val_k_factor\"] = 2\n",
    "standalone_parameters[\"test_k_factor\"] = 2\n",
    "\n",
    "\n",
    "standalone_parameters[\"n_epoch\"] = 50\n",
    "\n",
    "standalone_parameters[\"patience\"] = 10\n",
    "standalone_parameters[\"criteria_for_best\"] = \"source_loss\"\n",
    "\n",
    "standalone_parameters[\"datasets\"] = [\n",
    "    {\n",
    "        \"labels\": ALL_SERIAL_NUMBERS,\n",
    "        \"domains\": ALL_DISTANCES_FEET_NARROWED,\n",
    "        \"num_examples_per_domain_per_label\": 100,\n",
    "        \"pickle_path\": os.path.join(get_datasets_base_path(), \"oracle.Run1_framed_2000Examples_stratified_ds.2022A.pkl\"),\n",
    "        \"source_or_target_dataset\": \"source\",\n",
    "        \"x_transforms\": [\"unit_mag\", \"minus_two\"],\n",
    "        \"episode_transforms\": [],\n",
    "        \"domain_prefix\": \"ORACLE_\"\n",
    "    },\n",
    "    {\n",
    "        \"labels\": ALL_NODES,\n",
    "        \"domains\": ALL_DAYS,\n",
    "        \"num_examples_per_domain_per_label\": 100,\n",
    "        \"pickle_path\": os.path.join(get_datasets_base_path(), \"cores.stratified_ds.2022A.pkl\"),\n",
    "        \"source_or_target_dataset\": \"target\",\n",
    "        \"x_transforms\": [\"unit_power\", \"times_zero\"],\n",
    "        \"episode_transforms\": [],\n",
    "        \"domain_prefix\": \"CORES_\"\n",
    "    }   \n",
    "]\n",
    "\n",
    "standalone_parameters[\"torch_default_dtype\"] = \"torch.float32\" \n",
    "\n",
    "\n",
    "\n",
    "standalone_parameters[\"x_net\"] =     [\n",
    "    {\"class\": \"nnReshape\", \"kargs\": {\"shape\":[-1, 1, 2, 256]}},\n",
    "    {\"class\": \"Conv2d\", \"kargs\": { \"in_channels\":1, \"out_channels\":256, \"kernel_size\":(1,7), \"bias\":False, \"padding\":(0,3), },},\n",
    "    {\"class\": \"ReLU\", \"kargs\": {\"inplace\": True}},\n",
    "    {\"class\": \"BatchNorm2d\", \"kargs\": {\"num_features\":256}},\n",
    "\n",
    "    {\"class\": \"Conv2d\", \"kargs\": { \"in_channels\":256, \"out_channels\":80, \"kernel_size\":(2,7), \"bias\":True, \"padding\":(0,3), },},\n",
    "    {\"class\": \"ReLU\", \"kargs\": {\"inplace\": True}},\n",
    "    {\"class\": \"BatchNorm2d\", \"kargs\": {\"num_features\":80}},\n",
    "    {\"class\": \"Flatten\", \"kargs\": {}},\n",
    "\n",
    "    {\"class\": \"Linear\", \"kargs\": {\"in_features\": 80*256, \"out_features\": 256}}, # 80 units per IQ pair\n",
    "    {\"class\": \"ReLU\", \"kargs\": {\"inplace\": True}},\n",
    "    {\"class\": \"BatchNorm1d\", \"kargs\": {\"num_features\":256}},\n",
    "\n",
    "    {\"class\": \"Linear\", \"kargs\": {\"in_features\": 256, \"out_features\": 256}},\n",
    "]\n",
    "\n",
    "# Parameters relevant to results\n",
    "# These parameters will basically never need to change\n",
    "standalone_parameters[\"NUM_LOGS_PER_EPOCH\"] = 10\n",
    "standalone_parameters[\"BEST_MODEL_PATH\"] = \"./best_model.pth\"\n",
    "\n",
    "\n",
    "\n",
    "\n"
   ]
  },
  {
   "cell_type": "code",
   "execution_count": 4,
   "id": "97cf440b",
   "metadata": {
    "execution": {
     "iopub.execute_input": "2022-03-22T03:11:21.697676Z",
     "iopub.status.busy": "2022-03-22T03:11:21.697027Z",
     "iopub.status.idle": "2022-03-22T03:11:21.720867Z",
     "shell.execute_reply": "2022-03-22T03:11:21.720160Z"
    },
    "papermill": {
     "duration": 0.058732,
     "end_time": "2022-03-22T03:11:21.721019",
     "exception": false,
     "start_time": "2022-03-22T03:11:21.662287",
     "status": "completed"
    },
    "tags": [
     "injected-parameters"
    ]
   },
   "outputs": [],
   "source": [
    "# Parameters\n",
    "parameters = {\n",
    "    \"experiment_name\": \"tl_1v2:cores-oracle.run1.limited\",\n",
    "    \"device\": \"cuda\",\n",
    "    \"lr\": 0.0001,\n",
    "    \"n_shot\": 3,\n",
    "    \"n_query\": 2,\n",
    "    \"train_k_factor\": 3,\n",
    "    \"val_k_factor\": 2,\n",
    "    \"test_k_factor\": 2,\n",
    "    \"torch_default_dtype\": \"torch.float32\",\n",
    "    \"n_epoch\": 50,\n",
    "    \"patience\": 3,\n",
    "    \"criteria_for_best\": \"target_accuracy\",\n",
    "    \"x_net\": [\n",
    "        {\"class\": \"nnReshape\", \"kargs\": {\"shape\": [-1, 1, 2, 256]}},\n",
    "        {\n",
    "            \"class\": \"Conv2d\",\n",
    "            \"kargs\": {\n",
    "                \"in_channels\": 1,\n",
    "                \"out_channels\": 256,\n",
    "                \"kernel_size\": [1, 7],\n",
    "                \"bias\": False,\n",
    "                \"padding\": [0, 3],\n",
    "            },\n",
    "        },\n",
    "        {\"class\": \"ReLU\", \"kargs\": {\"inplace\": True}},\n",
    "        {\"class\": \"BatchNorm2d\", \"kargs\": {\"num_features\": 256}},\n",
    "        {\n",
    "            \"class\": \"Conv2d\",\n",
    "            \"kargs\": {\n",
    "                \"in_channels\": 256,\n",
    "                \"out_channels\": 80,\n",
    "                \"kernel_size\": [2, 7],\n",
    "                \"bias\": True,\n",
    "                \"padding\": [0, 3],\n",
    "            },\n",
    "        },\n",
    "        {\"class\": \"ReLU\", \"kargs\": {\"inplace\": True}},\n",
    "        {\"class\": \"BatchNorm2d\", \"kargs\": {\"num_features\": 80}},\n",
    "        {\"class\": \"Flatten\", \"kargs\": {}},\n",
    "        {\"class\": \"Linear\", \"kargs\": {\"in_features\": 20480, \"out_features\": 256}},\n",
    "        {\"class\": \"ReLU\", \"kargs\": {\"inplace\": True}},\n",
    "        {\"class\": \"BatchNorm1d\", \"kargs\": {\"num_features\": 256}},\n",
    "        {\"class\": \"Linear\", \"kargs\": {\"in_features\": 256, \"out_features\": 256}},\n",
    "    ],\n",
    "    \"NUM_LOGS_PER_EPOCH\": 10,\n",
    "    \"BEST_MODEL_PATH\": \"./best_model.pth\",\n",
    "    \"n_way\": 16,\n",
    "    \"datasets\": [\n",
    "        {\n",
    "            \"labels\": [\n",
    "                \"1-10.\",\n",
    "                \"1-11.\",\n",
    "                \"1-15.\",\n",
    "                \"1-16.\",\n",
    "                \"1-17.\",\n",
    "                \"1-18.\",\n",
    "                \"1-19.\",\n",
    "                \"10-4.\",\n",
    "                \"10-7.\",\n",
    "                \"11-1.\",\n",
    "                \"11-14.\",\n",
    "                \"11-17.\",\n",
    "                \"11-20.\",\n",
    "                \"11-7.\",\n",
    "                \"13-20.\",\n",
    "                \"13-8.\",\n",
    "                \"14-10.\",\n",
    "                \"14-11.\",\n",
    "                \"14-14.\",\n",
    "                \"14-7.\",\n",
    "                \"15-1.\",\n",
    "                \"15-20.\",\n",
    "                \"16-1.\",\n",
    "                \"16-16.\",\n",
    "                \"17-10.\",\n",
    "                \"17-11.\",\n",
    "                \"17-2.\",\n",
    "                \"19-1.\",\n",
    "                \"19-16.\",\n",
    "                \"19-19.\",\n",
    "                \"19-20.\",\n",
    "                \"19-3.\",\n",
    "                \"2-10.\",\n",
    "                \"2-11.\",\n",
    "                \"2-17.\",\n",
    "                \"2-18.\",\n",
    "                \"2-20.\",\n",
    "                \"2-3.\",\n",
    "                \"2-4.\",\n",
    "                \"2-5.\",\n",
    "                \"2-6.\",\n",
    "                \"2-7.\",\n",
    "                \"2-8.\",\n",
    "                \"3-13.\",\n",
    "                \"3-18.\",\n",
    "                \"3-3.\",\n",
    "                \"4-1.\",\n",
    "                \"4-10.\",\n",
    "                \"4-11.\",\n",
    "                \"4-19.\",\n",
    "                \"5-5.\",\n",
    "                \"6-15.\",\n",
    "                \"7-10.\",\n",
    "                \"7-14.\",\n",
    "                \"8-18.\",\n",
    "                \"8-20.\",\n",
    "                \"8-3.\",\n",
    "                \"8-8.\",\n",
    "            ],\n",
    "            \"domains\": [1, 2, 3, 4, 5],\n",
    "            \"num_examples_per_domain_per_label\": -1,\n",
    "            \"pickle_path\": \"/root/csc500-main/datasets/cores.stratified_ds.2022A.pkl\",\n",
    "            \"source_or_target_dataset\": \"source\",\n",
    "            \"x_transforms\": [],\n",
    "            \"episode_transforms\": [],\n",
    "            \"domain_prefix\": \"CORES_\",\n",
    "        },\n",
    "        {\n",
    "            \"labels\": [\n",
    "                \"3123D52\",\n",
    "                \"3123D65\",\n",
    "                \"3123D79\",\n",
    "                \"3123D80\",\n",
    "                \"3123D54\",\n",
    "                \"3123D70\",\n",
    "                \"3123D7B\",\n",
    "                \"3123D89\",\n",
    "                \"3123D58\",\n",
    "                \"3123D76\",\n",
    "                \"3123D7D\",\n",
    "                \"3123EFE\",\n",
    "                \"3123D64\",\n",
    "                \"3123D78\",\n",
    "                \"3123D7E\",\n",
    "                \"3124E4A\",\n",
    "            ],\n",
    "            \"domains\": [32, 38, 8, 44, 14, 50, 20, 26],\n",
    "            \"num_examples_per_domain_per_label\": 2000,\n",
    "            \"pickle_path\": \"/root/csc500-main/datasets/oracle.Run1_10kExamples_stratified_ds.2022A.pkl\",\n",
    "            \"source_or_target_dataset\": \"target\",\n",
    "            \"x_transforms\": [],\n",
    "            \"episode_transforms\": [],\n",
    "            \"domain_prefix\": \"ORACLE.run1_\",\n",
    "        },\n",
    "    ],\n",
    "    \"dataset_seed\": 1337,\n",
    "    \"seed\": 1337,\n",
    "}\n"
   ]
  },
  {
   "cell_type": "code",
   "execution_count": 5,
   "id": "8fa1cc33",
   "metadata": {
    "execution": {
     "iopub.execute_input": "2022-03-22T03:11:21.772407Z",
     "iopub.status.busy": "2022-03-22T03:11:21.771835Z",
     "iopub.status.idle": "2022-03-22T03:11:21.794876Z",
     "shell.execute_reply": "2022-03-22T03:11:21.794166Z"
    },
    "papermill": {
     "duration": 0.047071,
     "end_time": "2022-03-22T03:11:21.795028",
     "exception": false,
     "start_time": "2022-03-22T03:11:21.747957",
     "status": "completed"
    },
    "tags": []
   },
   "outputs": [],
   "source": [
    "# Set this to True if you want to run this template directly\n",
    "STANDALONE = False\n",
    "if STANDALONE:\n",
    "    print(\"parameters not injected, running with standalone_parameters\")\n",
    "    parameters = standalone_parameters\n",
    "\n",
    "if not 'parameters' in locals() and not 'parameters' in globals():\n",
    "    raise Exception(\"Parameter injection failed\")\n",
    "\n",
    "#Use an easy dict for all the parameters\n",
    "p = EasyDict(parameters)\n",
    "\n",
    "if \"x_shape\" not in p:\n",
    "    p.x_shape = [2,256] # Default to this if we dont supply x_shape\n",
    "\n",
    "\n",
    "supplied_keys = set(p.keys())\n",
    "\n",
    "if  supplied_keys != required_parameters:\n",
    "    print(\"Parameters are incorrect\")\n",
    "    if len(supplied_keys - required_parameters)>0: print(\"Shouldn't have:\", str(supplied_keys - required_parameters))\n",
    "    if len(required_parameters - supplied_keys)>0: print(\"Need to have:\", str(required_parameters - supplied_keys))\n",
    "    raise RuntimeError(\"Parameters are incorrect\")"
   ]
  },
  {
   "cell_type": "code",
   "execution_count": 6,
   "id": "3a028d58",
   "metadata": {
    "execution": {
     "iopub.execute_input": "2022-03-22T03:11:21.845587Z",
     "iopub.status.busy": "2022-03-22T03:11:21.845219Z",
     "iopub.status.idle": "2022-03-22T03:11:21.872163Z",
     "shell.execute_reply": "2022-03-22T03:11:21.871435Z"
    },
    "papermill": {
     "duration": 0.050683,
     "end_time": "2022-03-22T03:11:21.872330",
     "exception": false,
     "start_time": "2022-03-22T03:11:21.821647",
     "status": "completed"
    },
    "tags": []
   },
   "outputs": [],
   "source": [
    "###################################\n",
    "# Set the RNGs and make it all deterministic\n",
    "###################################\n",
    "np.random.seed(p.seed)\n",
    "random.seed(p.seed)\n",
    "torch.manual_seed(p.seed)\n",
    "\n",
    "torch.use_deterministic_algorithms(True) "
   ]
  },
  {
   "cell_type": "code",
   "execution_count": 7,
   "id": "b691acf6",
   "metadata": {
    "execution": {
     "iopub.execute_input": "2022-03-22T03:11:21.925340Z",
     "iopub.status.busy": "2022-03-22T03:11:21.924969Z",
     "iopub.status.idle": "2022-03-22T03:11:21.950783Z",
     "shell.execute_reply": "2022-03-22T03:11:21.950078Z"
    },
    "papermill": {
     "duration": 0.049903,
     "end_time": "2022-03-22T03:11:21.950945",
     "exception": false,
     "start_time": "2022-03-22T03:11:21.901042",
     "status": "completed"
    },
    "tags": []
   },
   "outputs": [],
   "source": [
    "###########################################\n",
    "# The stratified datasets honor this\n",
    "###########################################\n",
    "torch.set_default_dtype(eval(p.torch_default_dtype))"
   ]
  },
  {
   "cell_type": "code",
   "execution_count": 8,
   "id": "b5fba671",
   "metadata": {
    "execution": {
     "iopub.execute_input": "2022-03-22T03:11:22.002963Z",
     "iopub.status.busy": "2022-03-22T03:11:22.002579Z",
     "iopub.status.idle": "2022-03-22T03:11:22.059074Z",
     "shell.execute_reply": "2022-03-22T03:11:22.058361Z"
    },
    "papermill": {
     "duration": 0.080267,
     "end_time": "2022-03-22T03:11:22.059243",
     "exception": false,
     "start_time": "2022-03-22T03:11:21.978976",
     "status": "completed"
    },
    "tags": []
   },
   "outputs": [],
   "source": [
    "###################################\n",
    "# Build the network(s)\n",
    "# Note: It's critical to do this AFTER setting the RNG\n",
    "###################################\n",
    "x_net = build_sequential(p.x_net)"
   ]
  },
  {
   "cell_type": "code",
   "execution_count": 9,
   "id": "5d7e61cc",
   "metadata": {
    "execution": {
     "iopub.execute_input": "2022-03-22T03:11:22.110583Z",
     "iopub.status.busy": "2022-03-22T03:11:22.109959Z",
     "iopub.status.idle": "2022-03-22T03:11:22.135019Z",
     "shell.execute_reply": "2022-03-22T03:11:22.134249Z"
    },
    "papermill": {
     "duration": 0.048336,
     "end_time": "2022-03-22T03:11:22.135227",
     "exception": false,
     "start_time": "2022-03-22T03:11:22.086891",
     "status": "completed"
    },
    "tags": []
   },
   "outputs": [],
   "source": [
    "start_time_secs = time.time()"
   ]
  },
  {
   "cell_type": "code",
   "execution_count": 10,
   "id": "c6b67dfd",
   "metadata": {
    "execution": {
     "iopub.execute_input": "2022-03-22T03:11:22.187783Z",
     "iopub.status.busy": "2022-03-22T03:11:22.187376Z",
     "iopub.status.idle": "2022-03-22T03:11:22.210984Z",
     "shell.execute_reply": "2022-03-22T03:11:22.211712Z"
    },
    "papermill": {
     "duration": 0.049858,
     "end_time": "2022-03-22T03:11:22.211914",
     "exception": false,
     "start_time": "2022-03-22T03:11:22.162056",
     "status": "completed"
    },
    "tags": []
   },
   "outputs": [],
   "source": [
    "p.domains_source = []\n",
    "p.domains_target = []\n",
    "\n",
    "\n",
    "train_original_source = []\n",
    "val_original_source   = []\n",
    "test_original_source  = []\n",
    "\n",
    "train_original_target = []\n",
    "val_original_target   = []\n",
    "test_original_target  = []"
   ]
  },
  {
   "cell_type": "code",
   "execution_count": 11,
   "id": "e3d9c3d3",
   "metadata": {
    "execution": {
     "iopub.execute_input": "2022-03-22T03:11:22.260299Z",
     "iopub.status.busy": "2022-03-22T03:11:22.259930Z",
     "iopub.status.idle": "2022-03-22T03:11:22.284060Z",
     "shell.execute_reply": "2022-03-22T03:11:22.283251Z"
    },
    "papermill": {
     "duration": 0.045755,
     "end_time": "2022-03-22T03:11:22.284214",
     "exception": false,
     "start_time": "2022-03-22T03:11:22.238459",
     "status": "completed"
    },
    "tags": []
   },
   "outputs": [],
   "source": [
    "# global_x_transform_func = lambda x: normalize(x.to(torch.get_default_dtype()), \"unit_power\") # unit_power, unit_mag\n",
    "# global_x_transform_func = lambda x: normalize(x, \"unit_power\") # unit_power, unit_mag"
   ]
  },
  {
   "cell_type": "code",
   "execution_count": 12,
   "id": "acb78fd2",
   "metadata": {
    "execution": {
     "iopub.execute_input": "2022-03-22T03:11:22.337446Z",
     "iopub.status.busy": "2022-03-22T03:11:22.336866Z",
     "iopub.status.idle": "2022-03-22T03:11:22.359432Z",
     "shell.execute_reply": "2022-03-22T03:11:22.358728Z"
    },
    "papermill": {
     "duration": 0.04964,
     "end_time": "2022-03-22T03:11:22.359620",
     "exception": false,
     "start_time": "2022-03-22T03:11:22.309980",
     "status": "completed"
    },
    "tags": []
   },
   "outputs": [],
   "source": [
    "def add_dataset(\n",
    "    labels,\n",
    "    domains,\n",
    "    pickle_path,\n",
    "    x_transforms,\n",
    "    episode_transforms,\n",
    "    domain_prefix,\n",
    "    num_examples_per_domain_per_label,\n",
    "    source_or_target_dataset:str,\n",
    "    iterator_seed=p.seed,\n",
    "    dataset_seed=p.dataset_seed,\n",
    "    n_shot=p.n_shot,\n",
    "    n_way=p.n_way,\n",
    "    n_query=p.n_query,\n",
    "    train_val_test_k_factors=(p.train_k_factor,p.val_k_factor,p.test_k_factor),\n",
    "):\n",
    "   \n",
    "    if x_transforms == []: x_transform = None\n",
    "    else: x_transform = get_chained_transform(x_transforms)\n",
    "    \n",
    "    if episode_transforms == []: episode_transform = None\n",
    "    else: raise Exception(\"episode_transforms not implemented\")\n",
    "    \n",
    "    episode_transform = lambda tup, _prefix=domain_prefix: (_prefix + str(tup[0]), tup[1])\n",
    "\n",
    "\n",
    "    eaf = Episodic_Accessor_Factory(\n",
    "        labels=labels,\n",
    "        domains=domains,\n",
    "        num_examples_per_domain_per_label=num_examples_per_domain_per_label,\n",
    "        iterator_seed=iterator_seed,\n",
    "        dataset_seed=dataset_seed,\n",
    "        n_shot=n_shot,\n",
    "        n_way=n_way,\n",
    "        n_query=n_query,\n",
    "        train_val_test_k_factors=train_val_test_k_factors,\n",
    "        pickle_path=pickle_path,\n",
    "        x_transform_func=x_transform,\n",
    "    )\n",
    "\n",
    "    train, val, test = eaf.get_train(), eaf.get_val(), eaf.get_test()\n",
    "    train = Lazy_Iterable_Wrapper(train, episode_transform)\n",
    "    val = Lazy_Iterable_Wrapper(val, episode_transform)\n",
    "    test = Lazy_Iterable_Wrapper(test, episode_transform)\n",
    "\n",
    "    if source_or_target_dataset==\"source\":\n",
    "        train_original_source.append(train)\n",
    "        val_original_source.append(val)\n",
    "        test_original_source.append(test)\n",
    "\n",
    "        p.domains_source.extend(\n",
    "            [domain_prefix + str(u) for u in domains]\n",
    "        )\n",
    "    elif source_or_target_dataset==\"target\":\n",
    "        train_original_target.append(train)\n",
    "        val_original_target.append(val)\n",
    "        test_original_target.append(test)\n",
    "        p.domains_target.extend(\n",
    "            [domain_prefix + str(u) for u in domains]\n",
    "        )\n",
    "    else:\n",
    "        raise Exception(f\"invalid source_or_target_dataset: {source_or_target_dataset}\")\n",
    "    "
   ]
  },
  {
   "cell_type": "code",
   "execution_count": 13,
   "id": "fe266617",
   "metadata": {
    "execution": {
     "iopub.execute_input": "2022-03-22T03:11:22.408770Z",
     "iopub.status.busy": "2022-03-22T03:11:22.408408Z",
     "iopub.status.idle": "2022-03-22T03:11:51.240288Z",
     "shell.execute_reply": "2022-03-22T03:11:51.239468Z"
    },
    "papermill": {
     "duration": 28.854254,
     "end_time": "2022-03-22T03:11:51.240476",
     "exception": false,
     "start_time": "2022-03-22T03:11:22.386222",
     "status": "completed"
    },
    "tags": []
   },
   "outputs": [],
   "source": [
    "for ds in p.datasets:\n",
    "    add_dataset(**ds)"
   ]
  },
  {
   "cell_type": "code",
   "execution_count": 14,
   "id": "b90d65ac",
   "metadata": {
    "execution": {
     "iopub.execute_input": "2022-03-22T03:11:51.292752Z",
     "iopub.status.busy": "2022-03-22T03:11:51.292367Z",
     "iopub.status.idle": "2022-03-22T03:11:51.319045Z",
     "shell.execute_reply": "2022-03-22T03:11:51.318263Z"
    },
    "papermill": {
     "duration": 0.050845,
     "end_time": "2022-03-22T03:11:51.319230",
     "exception": false,
     "start_time": "2022-03-22T03:11:51.268385",
     "status": "completed"
    },
    "tags": []
   },
   "outputs": [],
   "source": [
    "# from steves_utils.CORES.utils import (\n",
    "#     ALL_NODES,\n",
    "#     ALL_NODES_MINIMUM_1000_EXAMPLES,\n",
    "#     ALL_DAYS\n",
    "# )\n",
    "\n",
    "# add_dataset(\n",
    "#     labels=ALL_NODES,\n",
    "#     domains = ALL_DAYS,\n",
    "#     num_examples_per_domain_per_label=100,\n",
    "#     pickle_path=os.path.join(get_datasets_base_path(), \"cores.stratified_ds.2022A.pkl\"),\n",
    "#     source_or_target_dataset=\"target\",\n",
    "#     x_transform_func=global_x_transform_func,\n",
    "#     domain_modifier=lambda u: f\"cores_{u}\"\n",
    "# )"
   ]
  },
  {
   "cell_type": "code",
   "execution_count": 15,
   "id": "76db484d",
   "metadata": {
    "execution": {
     "iopub.execute_input": "2022-03-22T03:11:51.369877Z",
     "iopub.status.busy": "2022-03-22T03:11:51.369239Z",
     "iopub.status.idle": "2022-03-22T03:11:51.395999Z",
     "shell.execute_reply": "2022-03-22T03:11:51.395180Z"
    },
    "papermill": {
     "duration": 0.051123,
     "end_time": "2022-03-22T03:11:51.396176",
     "exception": false,
     "start_time": "2022-03-22T03:11:51.345053",
     "status": "completed"
    },
    "tags": []
   },
   "outputs": [],
   "source": [
    "# from steves_utils.ORACLE.utils_v2 import (\n",
    "#     ALL_DISTANCES_FEET,\n",
    "#     ALL_RUNS,\n",
    "#     ALL_SERIAL_NUMBERS,\n",
    "# )\n",
    "\n",
    "\n",
    "# add_dataset(\n",
    "#     labels=ALL_SERIAL_NUMBERS,\n",
    "#     domains = list(set(ALL_DISTANCES_FEET) - {2,62}),\n",
    "#     num_examples_per_domain_per_label=100,\n",
    "#     pickle_path=os.path.join(get_datasets_base_path(), \"oracle.Run2_framed_2000Examples_stratified_ds.2022A.pkl\"),\n",
    "#     source_or_target_dataset=\"source\",\n",
    "#     x_transform_func=global_x_transform_func,\n",
    "#     domain_modifier=lambda u: f\"oracle1_{u}\"\n",
    "# )\n"
   ]
  },
  {
   "cell_type": "code",
   "execution_count": 16,
   "id": "97dea9d2",
   "metadata": {
    "execution": {
     "iopub.execute_input": "2022-03-22T03:11:51.446647Z",
     "iopub.status.busy": "2022-03-22T03:11:51.446270Z",
     "iopub.status.idle": "2022-03-22T03:11:51.473852Z",
     "shell.execute_reply": "2022-03-22T03:11:51.473070Z"
    },
    "papermill": {
     "duration": 0.052107,
     "end_time": "2022-03-22T03:11:51.474030",
     "exception": false,
     "start_time": "2022-03-22T03:11:51.421923",
     "status": "completed"
    },
    "tags": []
   },
   "outputs": [],
   "source": [
    "# from steves_utils.ORACLE.utils_v2 import (\n",
    "#     ALL_DISTANCES_FEET,\n",
    "#     ALL_RUNS,\n",
    "#     ALL_SERIAL_NUMBERS,\n",
    "# )\n",
    "\n",
    "\n",
    "# add_dataset(\n",
    "#     labels=ALL_SERIAL_NUMBERS,\n",
    "#     domains = list(set(ALL_DISTANCES_FEET) - {2,62,56}),\n",
    "#     num_examples_per_domain_per_label=100,\n",
    "#     pickle_path=os.path.join(get_datasets_base_path(), \"oracle.Run2_framed_2000Examples_stratified_ds.2022A.pkl\"),\n",
    "#     source_or_target_dataset=\"source\",\n",
    "#     x_transform_func=global_x_transform_func,\n",
    "#     domain_modifier=lambda u: f\"oracle2_{u}\"\n",
    "# )"
   ]
  },
  {
   "cell_type": "code",
   "execution_count": 17,
   "id": "6f289866",
   "metadata": {
    "execution": {
     "iopub.execute_input": "2022-03-22T03:11:51.525903Z",
     "iopub.status.busy": "2022-03-22T03:11:51.525527Z",
     "iopub.status.idle": "2022-03-22T03:11:51.549288Z",
     "shell.execute_reply": "2022-03-22T03:11:51.548510Z"
    },
    "papermill": {
     "duration": 0.04852,
     "end_time": "2022-03-22T03:11:51.549469",
     "exception": false,
     "start_time": "2022-03-22T03:11:51.500949",
     "status": "completed"
    },
    "tags": []
   },
   "outputs": [],
   "source": [
    "# add_dataset(\n",
    "#     labels=list(range(19)),\n",
    "#     domains = [0,1,2],\n",
    "#     num_examples_per_domain_per_label=100,\n",
    "#     pickle_path=os.path.join(get_datasets_base_path(), \"metehan.stratified_ds.2022A.pkl\"),\n",
    "#     source_or_target_dataset=\"target\",\n",
    "#     x_transform_func=global_x_transform_func,\n",
    "#     domain_modifier=lambda u: f\"met_{u}\"\n",
    "# )"
   ]
  },
  {
   "cell_type": "code",
   "execution_count": 18,
   "id": "86a863c3",
   "metadata": {
    "execution": {
     "iopub.execute_input": "2022-03-22T03:11:51.604266Z",
     "iopub.status.busy": "2022-03-22T03:11:51.603478Z",
     "iopub.status.idle": "2022-03-22T03:11:51.625891Z",
     "shell.execute_reply": "2022-03-22T03:11:51.625151Z"
    },
    "papermill": {
     "duration": 0.046788,
     "end_time": "2022-03-22T03:11:51.626068",
     "exception": false,
     "start_time": "2022-03-22T03:11:51.579280",
     "status": "completed"
    },
    "tags": []
   },
   "outputs": [],
   "source": [
    "# # from steves_utils.wisig.utils import (\n",
    "# #     ALL_NODES_MINIMUM_100_EXAMPLES,\n",
    "# #     ALL_NODES_MINIMUM_500_EXAMPLES,\n",
    "# #     ALL_NODES_MINIMUM_1000_EXAMPLES,\n",
    "# #     ALL_DAYS\n",
    "# # )\n",
    "\n",
    "# import steves_utils.wisig.utils as wisig\n",
    "\n",
    "\n",
    "# add_dataset(\n",
    "#     labels=wisig.ALL_NODES_MINIMUM_100_EXAMPLES,\n",
    "#     domains = wisig.ALL_DAYS,\n",
    "#     num_examples_per_domain_per_label=100,\n",
    "#     pickle_path=os.path.join(get_datasets_base_path(), \"wisig.node3-19.stratified_ds.2022A.pkl\"),\n",
    "#     source_or_target_dataset=\"target\",\n",
    "#     x_transform_func=global_x_transform_func,\n",
    "#     domain_modifier=lambda u: f\"wisig_{u}\"\n",
    "# )"
   ]
  },
  {
   "cell_type": "code",
   "execution_count": 19,
   "id": "fd5442bc",
   "metadata": {
    "execution": {
     "iopub.execute_input": "2022-03-22T03:11:51.686999Z",
     "iopub.status.busy": "2022-03-22T03:11:51.683805Z",
     "iopub.status.idle": "2022-03-22T03:11:51.705739Z",
     "shell.execute_reply": "2022-03-22T03:11:51.704963Z"
    },
    "papermill": {
     "duration": 0.052548,
     "end_time": "2022-03-22T03:11:51.705916",
     "exception": false,
     "start_time": "2022-03-22T03:11:51.653368",
     "status": "completed"
    },
    "tags": []
   },
   "outputs": [],
   "source": [
    "###################################\n",
    "# Build the dataset\n",
    "###################################\n",
    "train_original_source = Iterable_Aggregator(train_original_source, p.seed)\n",
    "val_original_source = Iterable_Aggregator(val_original_source, p.seed)\n",
    "test_original_source = Iterable_Aggregator(test_original_source, p.seed)\n",
    "\n",
    "\n",
    "train_original_target = Iterable_Aggregator(train_original_target, p.seed)\n",
    "val_original_target = Iterable_Aggregator(val_original_target, p.seed)\n",
    "test_original_target = Iterable_Aggregator(test_original_target, p.seed)\n",
    "\n",
    "# For CNN We only use X and Y. And we only train on the source.\n",
    "# Properly form the data using a transform lambda and Lazy_Iterable_Wrapper. Finally wrap them in a dataloader\n",
    "\n",
    "transform_lambda = lambda ex: ex[1] # Original is (<domain>, <episode>) so we strip down to episode only\n",
    "\n",
    "train_processed_source = Lazy_Iterable_Wrapper(train_original_source, transform_lambda)\n",
    "val_processed_source   = Lazy_Iterable_Wrapper(val_original_source, transform_lambda)\n",
    "test_processed_source  = Lazy_Iterable_Wrapper(test_original_source, transform_lambda)\n",
    "\n",
    "train_processed_target = Lazy_Iterable_Wrapper(train_original_target, transform_lambda)\n",
    "val_processed_target   = Lazy_Iterable_Wrapper(val_original_target, transform_lambda)\n",
    "test_processed_target  = Lazy_Iterable_Wrapper(test_original_target, transform_lambda)\n",
    "\n",
    "datasets = EasyDict({\n",
    "    \"source\": {\n",
    "        \"original\": {\"train\":train_original_source, \"val\":val_original_source, \"test\":test_original_source},\n",
    "        \"processed\": {\"train\":train_processed_source, \"val\":val_processed_source, \"test\":test_processed_source}\n",
    "    },\n",
    "    \"target\": {\n",
    "        \"original\": {\"train\":train_original_target, \"val\":val_original_target, \"test\":test_original_target},\n",
    "        \"processed\": {\"train\":train_processed_target, \"val\":val_processed_target, \"test\":test_processed_target}\n",
    "    },\n",
    "})"
   ]
  },
  {
   "cell_type": "code",
   "execution_count": 20,
   "id": "5b3c01fc",
   "metadata": {
    "execution": {
     "iopub.execute_input": "2022-03-22T03:11:51.760993Z",
     "iopub.status.busy": "2022-03-22T03:11:51.760591Z",
     "iopub.status.idle": "2022-03-22T03:12:17.147669Z",
     "shell.execute_reply": "2022-03-22T03:12:17.146534Z"
    },
    "papermill": {
     "duration": 25.414477,
     "end_time": "2022-03-22T03:12:17.147847",
     "exception": false,
     "start_time": "2022-03-22T03:11:51.733370",
     "status": "completed"
    },
    "tags": []
   },
   "outputs": [
    {
     "name": "stdout",
     "output_type": "stream",
     "text": [
      "{'CORES_3', 'CORES_1', 'CORES_4', 'CORES_2', 'CORES_5'}\n"
     ]
    },
    {
     "name": "stdout",
     "output_type": "stream",
     "text": [
      "{'ORACLE.run1_38', 'ORACLE.run1_8', 'ORACLE.run1_14', 'ORACLE.run1_32', 'ORACLE.run1_26', 'ORACLE.run1_50', 'ORACLE.run1_20', 'ORACLE.run1_44'}\n"
     ]
    },
    {
     "name": "stdout",
     "output_type": "stream",
     "text": [
      "tensor([[[-0.0121, -0.0224,  0.0159,  ..., -0.0352, -0.0222,  0.0113],\n",
      "         [ 0.0038, -0.0289, -0.0221,  ..., -0.0021, -0.0031, -0.0208]],\n",
      "\n",
      "        [[-0.0181, -0.0190,  0.0288,  ..., -0.0351, -0.0131,  0.0183],\n",
      "         [-0.0034, -0.0319, -0.0134,  ...,  0.0073, -0.0101, -0.0180]],\n",
      "\n",
      "        [[-0.0086, -0.0130,  0.0125,  ..., -0.0206, -0.0297,  0.0082],\n",
      "         [ 0.0052, -0.0263, -0.0293,  ..., -0.0250, -0.0107, -0.0186]],\n",
      "\n",
      "        ...,\n",
      "\n",
      "        [[ 0.0120,  0.0160,  0.0172,  ..., -0.0204, -0.0425, -0.0207],\n",
      "         [ 0.0090,  0.0168, -0.0022,  ..., -0.0309, -0.0055,  0.0151]],\n",
      "\n",
      "        [[ 0.0084,  0.0084, -0.0037,  ..., -0.0018, -0.0091, -0.0008],\n",
      "         [ 0.0032,  0.0011, -0.0067,  ..., -0.0024,  0.0017, -0.0132]],\n",
      "\n",
      "        [[ 0.0069,  0.0125,  0.0156,  ..., -0.0217, -0.0362, -0.0112],\n",
      "         [ 0.0204,  0.0175, -0.0085,  ..., -0.0360, -0.0096,  0.0061]]])\n"
     ]
    }
   ],
   "source": [
    "from steves_utils.transforms import get_average_magnitude, get_average_power\n",
    "\n",
    "print(set([u for u,_ in val_original_source]))\n",
    "print(set([u for u,_ in val_original_target]))\n",
    "\n",
    "s_x, s_y, q_x, q_y, _ = next(iter(train_processed_source))\n",
    "print(s_x)\n",
    "\n",
    "# for ds in [\n",
    "#     train_processed_source,\n",
    "#     val_processed_source,\n",
    "#     test_processed_source,\n",
    "#     train_processed_target,\n",
    "#     val_processed_target,\n",
    "#     test_processed_target\n",
    "# ]:\n",
    "#     for s_x, s_y, q_x, q_y, _ in ds:\n",
    "#         for X in (s_x, q_x):\n",
    "#             for x in X:\n",
    "#                 assert np.isclose(get_average_magnitude(x.numpy()), 1.0)\n",
    "#                 assert np.isclose(get_average_power(x.numpy()), 1.0)\n",
    "                "
   ]
  },
  {
   "cell_type": "code",
   "execution_count": 21,
   "id": "bbdacba1",
   "metadata": {
    "execution": {
     "iopub.execute_input": "2022-03-22T03:12:17.207029Z",
     "iopub.status.busy": "2022-03-22T03:12:17.206645Z",
     "iopub.status.idle": "2022-03-22T03:12:17.481846Z",
     "shell.execute_reply": "2022-03-22T03:12:17.481450Z"
    },
    "papermill": {
     "duration": 0.303627,
     "end_time": "2022-03-22T03:12:17.481954",
     "exception": false,
     "start_time": "2022-03-22T03:12:17.178327",
     "status": "completed"
    },
    "tags": []
   },
   "outputs": [
    {
     "name": "stdout",
     "output_type": "stream",
     "text": [
      "(2, 256)\n"
     ]
    }
   ],
   "source": [
    "###################################\n",
    "# Build the model\n",
    "###################################\n",
    "# easfsl only wants a tuple for the shape\n",
    "model = Steves_Prototypical_Network(x_net, device=p.device, x_shape=tuple(p.x_shape))\n",
    "optimizer = Adam(params=model.parameters(), lr=p.lr)"
   ]
  },
  {
   "cell_type": "code",
   "execution_count": 22,
   "id": "22b39ac5",
   "metadata": {
    "execution": {
     "iopub.execute_input": "2022-03-22T03:12:17.533021Z",
     "iopub.status.busy": "2022-03-22T03:12:17.532641Z",
     "iopub.status.idle": "2022-03-22T03:50:08.105582Z",
     "shell.execute_reply": "2022-03-22T03:50:08.105225Z"
    },
    "papermill": {
     "duration": 2270.600513,
     "end_time": "2022-03-22T03:50:08.105673",
     "exception": false,
     "start_time": "2022-03-22T03:12:17.505160",
     "status": "completed"
    },
    "tags": []
   },
   "outputs": [
    {
     "name": "stdout",
     "output_type": "stream",
     "text": [
      "epoch: 1, [batch: 1 / 6320], examples_per_second: 33.8756, train_label_loss: 2.1864, \n"
     ]
    },
    {
     "name": "stdout",
     "output_type": "stream",
     "text": [
      "epoch: 1, [batch: 632 / 6320], examples_per_second: 2328.3327, train_label_loss: 0.0336, \n"
     ]
    },
    {
     "name": "stdout",
     "output_type": "stream",
     "text": [
      "epoch: 1, [batch: 1264 / 6320], examples_per_second: 2305.4874, train_label_loss: 0.0027, \n"
     ]
    },
    {
     "name": "stdout",
     "output_type": "stream",
     "text": [
      "epoch: 1, [batch: 1896 / 6320], examples_per_second: 2399.7566, train_label_loss: 0.0013, \n"
     ]
    },
    {
     "name": "stdout",
     "output_type": "stream",
     "text": [
      "epoch: 1, [batch: 2528 / 6320], examples_per_second: 2541.3742, train_label_loss: 0.0058, \n"
     ]
    },
    {
     "name": "stdout",
     "output_type": "stream",
     "text": [
      "epoch: 1, [batch: 3160 / 6320], examples_per_second: 2579.4199, train_label_loss: 0.0003, \n"
     ]
    },
    {
     "name": "stdout",
     "output_type": "stream",
     "text": [
      "epoch: 1, [batch: 3792 / 6320], examples_per_second: 2601.9986, train_label_loss: 0.0001, \n"
     ]
    },
    {
     "name": "stdout",
     "output_type": "stream",
     "text": [
      "epoch: 1, [batch: 4424 / 6320], examples_per_second: 2349.9536, train_label_loss: 0.0023, \n"
     ]
    },
    {
     "name": "stdout",
     "output_type": "stream",
     "text": [
      "epoch: 1, [batch: 5056 / 6320], examples_per_second: 2613.6471, train_label_loss: 0.0005, \n"
     ]
    },
    {
     "name": "stdout",
     "output_type": "stream",
     "text": [
      "epoch: 1, [batch: 5688 / 6320], examples_per_second: 2555.9151, train_label_loss: 0.0006, \n"
     ]
    },
    {
     "name": "stdout",
     "output_type": "stream",
     "text": [
      "=============================================================\n",
      "epoch: 1, source_val_acc_label: 0.9985, target_val_acc_label: 0.3922, source_val_label_loss: 0.0095, target_val_label_loss: 2.1501, \n",
      "=============================================================\n"
     ]
    },
    {
     "name": "stdout",
     "output_type": "stream",
     "text": [
      "New best\n"
     ]
    },
    {
     "name": "stdout",
     "output_type": "stream",
     "text": [
      "epoch: 2, [batch: 1 / 6305], examples_per_second: 2.3952, train_label_loss: 0.0146, \n"
     ]
    },
    {
     "name": "stdout",
     "output_type": "stream",
     "text": [
      "epoch: 2, [batch: 631 / 6305], examples_per_second: 2636.9573, train_label_loss: 0.0004, \n"
     ]
    },
    {
     "name": "stdout",
     "output_type": "stream",
     "text": [
      "epoch: 2, [batch: 1261 / 6305], examples_per_second: 2691.5914, train_label_loss: 0.0004, \n"
     ]
    },
    {
     "name": "stdout",
     "output_type": "stream",
     "text": [
      "epoch: 2, [batch: 1892 / 6305], examples_per_second: 2963.1235, train_label_loss: 0.0000, \n"
     ]
    },
    {
     "name": "stdout",
     "output_type": "stream",
     "text": [
      "epoch: 2, [batch: 2522 / 6305], examples_per_second: 2473.4494, train_label_loss: 0.0435, \n"
     ]
    },
    {
     "name": "stdout",
     "output_type": "stream",
     "text": [
      "epoch: 2, [batch: 3153 / 6305], examples_per_second: 2619.3296, train_label_loss: 0.0033, \n"
     ]
    },
    {
     "name": "stdout",
     "output_type": "stream",
     "text": [
      "epoch: 2, [batch: 3783 / 6305], examples_per_second: 2606.2326, train_label_loss: 0.0000, \n"
     ]
    },
    {
     "name": "stdout",
     "output_type": "stream",
     "text": [
      "epoch: 2, [batch: 4413 / 6305], examples_per_second: 2565.0327, train_label_loss: 0.0000, \n"
     ]
    },
    {
     "name": "stdout",
     "output_type": "stream",
     "text": [
      "epoch: 2, [batch: 5044 / 6305], examples_per_second: 2322.5272, train_label_loss: 0.0001, \n"
     ]
    },
    {
     "name": "stdout",
     "output_type": "stream",
     "text": [
      "epoch: 2, [batch: 5674 / 6305], examples_per_second: 2312.2867, train_label_loss: 0.0001, \n"
     ]
    },
    {
     "name": "stdout",
     "output_type": "stream",
     "text": [
      "=============================================================\n",
      "epoch: 2, source_val_acc_label: 0.9989, target_val_acc_label: 0.3606, source_val_label_loss: 0.0137, target_val_label_loss: 1.9266, \n",
      "=============================================================\n"
     ]
    },
    {
     "name": "stdout",
     "output_type": "stream",
     "text": [
      "epoch: 3, [batch: 1 / 6307], examples_per_second: 2.1183, train_label_loss: 0.0000, \n"
     ]
    },
    {
     "name": "stdout",
     "output_type": "stream",
     "text": [
      "epoch: 3, [batch: 631 / 6307], examples_per_second: 2303.0828, train_label_loss: 0.0000, \n"
     ]
    },
    {
     "name": "stdout",
     "output_type": "stream",
     "text": [
      "epoch: 3, [batch: 1262 / 6307], examples_per_second: 2306.7919, train_label_loss: 0.0004, \n"
     ]
    },
    {
     "name": "stdout",
     "output_type": "stream",
     "text": [
      "epoch: 3, [batch: 1892 / 6307], examples_per_second: 2313.6472, train_label_loss: 0.0015, \n"
     ]
    },
    {
     "name": "stdout",
     "output_type": "stream",
     "text": [
      "epoch: 3, [batch: 2523 / 6307], examples_per_second: 2291.6545, train_label_loss: 0.0001, \n"
     ]
    },
    {
     "name": "stdout",
     "output_type": "stream",
     "text": [
      "epoch: 3, [batch: 3154 / 6307], examples_per_second: 2493.9991, train_label_loss: 0.0001, \n"
     ]
    },
    {
     "name": "stdout",
     "output_type": "stream",
     "text": [
      "epoch: 3, [batch: 3784 / 6307], examples_per_second: 2645.4218, train_label_loss: 0.0023, \n"
     ]
    },
    {
     "name": "stdout",
     "output_type": "stream",
     "text": [
      "epoch: 3, [batch: 4415 / 6307], examples_per_second: 2564.4221, train_label_loss: 0.2019, \n"
     ]
    },
    {
     "name": "stdout",
     "output_type": "stream",
     "text": [
      "epoch: 3, [batch: 5045 / 6307], examples_per_second: 2510.3077, train_label_loss: 0.0000, \n"
     ]
    },
    {
     "name": "stdout",
     "output_type": "stream",
     "text": [
      "epoch: 3, [batch: 5676 / 6307], examples_per_second: 2340.4734, train_label_loss: 0.0000, \n"
     ]
    },
    {
     "name": "stdout",
     "output_type": "stream",
     "text": [
      "=============================================================\n",
      "epoch: 3, source_val_acc_label: 0.9989, target_val_acc_label: 0.3599, source_val_label_loss: 0.0098, target_val_label_loss: 1.9894, \n",
      "=============================================================\n"
     ]
    },
    {
     "name": "stdout",
     "output_type": "stream",
     "text": [
      "epoch: 4, [batch: 1 / 6315], examples_per_second: 2.1206, train_label_loss: 0.0000, \n"
     ]
    },
    {
     "name": "stdout",
     "output_type": "stream",
     "text": [
      "epoch: 4, [batch: 632 / 6315], examples_per_second: 2316.1459, train_label_loss: 0.0000, \n"
     ]
    },
    {
     "name": "stdout",
     "output_type": "stream",
     "text": [
      "epoch: 4, [batch: 1263 / 6315], examples_per_second: 2310.4399, train_label_loss: 0.0001, \n"
     ]
    },
    {
     "name": "stdout",
     "output_type": "stream",
     "text": [
      "epoch: 4, [batch: 1895 / 6315], examples_per_second: 2297.8166, train_label_loss: 0.0005, \n"
     ]
    },
    {
     "name": "stdout",
     "output_type": "stream",
     "text": [
      "epoch: 4, [batch: 2526 / 6315], examples_per_second: 2295.6939, train_label_loss: 0.0000, \n"
     ]
    },
    {
     "name": "stdout",
     "output_type": "stream",
     "text": [
      "epoch: 4, [batch: 3158 / 6315], examples_per_second: 2475.8667, train_label_loss: 0.0006, \n"
     ]
    },
    {
     "name": "stdout",
     "output_type": "stream",
     "text": [
      "epoch: 4, [batch: 3789 / 6315], examples_per_second: 2851.3888, train_label_loss: 0.0000, \n"
     ]
    },
    {
     "name": "stdout",
     "output_type": "stream",
     "text": [
      "epoch: 4, [batch: 4420 / 6315], examples_per_second: 2915.7826, train_label_loss: 0.0000, \n"
     ]
    },
    {
     "name": "stdout",
     "output_type": "stream",
     "text": [
      "epoch: 4, [batch: 5052 / 6315], examples_per_second: 3036.2395, train_label_loss: 0.0001, \n"
     ]
    },
    {
     "name": "stdout",
     "output_type": "stream",
     "text": [
      "epoch: 4, [batch: 5683 / 6315], examples_per_second: 2542.9789, train_label_loss: 0.0000, \n"
     ]
    },
    {
     "name": "stdout",
     "output_type": "stream",
     "text": [
      "=============================================================\n",
      "epoch: 4, source_val_acc_label: 0.9982, target_val_acc_label: 0.3608, source_val_label_loss: 0.0206, target_val_label_loss: 1.8929, \n",
      "=============================================================\n"
     ]
    },
    {
     "name": "stdout",
     "output_type": "stream",
     "text": [
      "epoch: 5, [batch: 1 / 6313], examples_per_second: 2.5151, train_label_loss: 0.0033, \n"
     ]
    },
    {
     "name": "stdout",
     "output_type": "stream",
     "text": [
      "epoch: 5, [batch: 632 / 6313], examples_per_second: 2839.2604, train_label_loss: 0.0000, \n"
     ]
    },
    {
     "name": "stdout",
     "output_type": "stream",
     "text": [
      "epoch: 5, [batch: 1263 / 6313], examples_per_second: 2328.5241, train_label_loss: 0.0013, \n"
     ]
    },
    {
     "name": "stdout",
     "output_type": "stream",
     "text": [
      "epoch: 5, [batch: 1894 / 6313], examples_per_second: 2314.4402, train_label_loss: 0.0000, \n"
     ]
    },
    {
     "name": "stdout",
     "output_type": "stream",
     "text": [
      "epoch: 5, [batch: 2525 / 6313], examples_per_second: 2292.0976, train_label_loss: 0.0000, \n"
     ]
    },
    {
     "name": "stdout",
     "output_type": "stream",
     "text": [
      "epoch: 5, [batch: 3157 / 6313], examples_per_second: 2308.8437, train_label_loss: 0.0001, \n"
     ]
    },
    {
     "name": "stdout",
     "output_type": "stream",
     "text": [
      "epoch: 5, [batch: 3788 / 6313], examples_per_second: 2344.6481, train_label_loss: 0.0003, \n"
     ]
    },
    {
     "name": "stdout",
     "output_type": "stream",
     "text": [
      "epoch: 5, [batch: 4419 / 6313], examples_per_second: 2547.9718, train_label_loss: 0.0002, \n"
     ]
    },
    {
     "name": "stdout",
     "output_type": "stream",
     "text": [
      "epoch: 5, [batch: 5050 / 6313], examples_per_second: 2566.7033, train_label_loss: 0.0000, \n"
     ]
    },
    {
     "name": "stdout",
     "output_type": "stream",
     "text": [
      "epoch: 5, [batch: 5681 / 6313], examples_per_second: 2595.8868, train_label_loss: 0.0011, \n"
     ]
    },
    {
     "name": "stdout",
     "output_type": "stream",
     "text": [
      "=============================================================\n",
      "epoch: 5, source_val_acc_label: 0.9990, target_val_acc_label: 0.4010, source_val_label_loss: 0.0118, target_val_label_loss: 1.7753, \n",
      "=============================================================\n"
     ]
    },
    {
     "name": "stdout",
     "output_type": "stream",
     "text": [
      "New best\n"
     ]
    },
    {
     "name": "stdout",
     "output_type": "stream",
     "text": [
      "epoch: 6, [batch: 1 / 6317], examples_per_second: 2.1136, train_label_loss: 0.0000, \n"
     ]
    },
    {
     "name": "stdout",
     "output_type": "stream",
     "text": [
      "epoch: 6, [batch: 632 / 6317], examples_per_second: 2297.7842, train_label_loss: 0.0000, \n"
     ]
    },
    {
     "name": "stdout",
     "output_type": "stream",
     "text": [
      "epoch: 6, [batch: 1264 / 6317], examples_per_second: 2305.9055, train_label_loss: 0.0001, \n"
     ]
    },
    {
     "name": "stdout",
     "output_type": "stream",
     "text": [
      "epoch: 6, [batch: 1895 / 6317], examples_per_second: 2319.0571, train_label_loss: 0.0000, \n"
     ]
    },
    {
     "name": "stdout",
     "output_type": "stream",
     "text": [
      "epoch: 6, [batch: 2527 / 6317], examples_per_second: 2306.3055, train_label_loss: 0.0000, \n"
     ]
    },
    {
     "name": "stdout",
     "output_type": "stream",
     "text": [
      "epoch: 6, [batch: 3159 / 6317], examples_per_second: 2321.6535, train_label_loss: 0.0000, \n"
     ]
    },
    {
     "name": "stdout",
     "output_type": "stream",
     "text": [
      "epoch: 6, [batch: 3790 / 6317], examples_per_second: 2638.7183, train_label_loss: 0.0000, \n"
     ]
    },
    {
     "name": "stdout",
     "output_type": "stream",
     "text": [
      "epoch: 6, [batch: 4422 / 6317], examples_per_second: 2727.3482, train_label_loss: 0.0000, \n"
     ]
    },
    {
     "name": "stdout",
     "output_type": "stream",
     "text": [
      "epoch: 6, [batch: 5053 / 6317], examples_per_second: 2887.6358, train_label_loss: 0.0000, \n"
     ]
    },
    {
     "name": "stdout",
     "output_type": "stream",
     "text": [
      "epoch: 6, [batch: 5685 / 6317], examples_per_second: 2942.7773, train_label_loss: 0.0000, \n"
     ]
    },
    {
     "name": "stdout",
     "output_type": "stream",
     "text": [
      "=============================================================\n",
      "epoch: 6, source_val_acc_label: 0.9979, target_val_acc_label: 0.3135, source_val_label_loss: 0.0269, target_val_label_loss: 2.0743, \n",
      "=============================================================\n"
     ]
    },
    {
     "name": "stdout",
     "output_type": "stream",
     "text": [
      "epoch: 7, [batch: 1 / 6322], examples_per_second: 2.4935, train_label_loss: 0.0000, \n"
     ]
    },
    {
     "name": "stdout",
     "output_type": "stream",
     "text": [
      "epoch: 7, [batch: 633 / 6322], examples_per_second: 3010.4764, train_label_loss: 0.0000, \n"
     ]
    },
    {
     "name": "stdout",
     "output_type": "stream",
     "text": [
      "epoch: 7, [batch: 1265 / 6322], examples_per_second: 2578.9559, train_label_loss: 0.0000, \n"
     ]
    },
    {
     "name": "stdout",
     "output_type": "stream",
     "text": [
      "epoch: 7, [batch: 1897 / 6322], examples_per_second: 2322.4158, train_label_loss: 0.0000, \n"
     ]
    },
    {
     "name": "stdout",
     "output_type": "stream",
     "text": [
      "epoch: 7, [batch: 2529 / 6322], examples_per_second: 2295.8142, train_label_loss: 0.0000, \n"
     ]
    },
    {
     "name": "stdout",
     "output_type": "stream",
     "text": [
      "epoch: 7, [batch: 3161 / 6322], examples_per_second: 2340.0415, train_label_loss: 0.0000, \n"
     ]
    },
    {
     "name": "stdout",
     "output_type": "stream",
     "text": [
      "epoch: 7, [batch: 3793 / 6322], examples_per_second: 2305.0505, train_label_loss: 0.0000, \n"
     ]
    },
    {
     "name": "stdout",
     "output_type": "stream",
     "text": [
      "epoch: 7, [batch: 4425 / 6322], examples_per_second: 2304.3962, train_label_loss: 0.0000, \n"
     ]
    },
    {
     "name": "stdout",
     "output_type": "stream",
     "text": [
      "epoch: 7, [batch: 5057 / 6322], examples_per_second: 2488.5478, train_label_loss: 0.0000, \n"
     ]
    },
    {
     "name": "stdout",
     "output_type": "stream",
     "text": [
      "epoch: 7, [batch: 5689 / 6322], examples_per_second: 2571.8940, train_label_loss: 0.0000, \n"
     ]
    },
    {
     "name": "stdout",
     "output_type": "stream",
     "text": [
      "=============================================================\n",
      "epoch: 7, source_val_acc_label: 0.9990, target_val_acc_label: 0.3761, source_val_label_loss: 0.0166, target_val_label_loss: 1.9249, \n",
      "=============================================================\n"
     ]
    },
    {
     "name": "stdout",
     "output_type": "stream",
     "text": [
      "epoch: 8, [batch: 1 / 6297], examples_per_second: 2.2276, train_label_loss: 0.0000, \n"
     ]
    },
    {
     "name": "stdout",
     "output_type": "stream",
     "text": [
      "epoch: 8, [batch: 630 / 6297], examples_per_second: 2310.4918, train_label_loss: 0.0000, \n"
     ]
    },
    {
     "name": "stdout",
     "output_type": "stream",
     "text": [
      "epoch: 8, [batch: 1260 / 6297], examples_per_second: 2328.8103, train_label_loss: 0.0000, \n"
     ]
    },
    {
     "name": "stdout",
     "output_type": "stream",
     "text": [
      "epoch: 8, [batch: 1889 / 6297], examples_per_second: 2337.9421, train_label_loss: 0.0001, \n"
     ]
    },
    {
     "name": "stdout",
     "output_type": "stream",
     "text": [
      "epoch: 8, [batch: 2519 / 6297], examples_per_second: 2322.4110, train_label_loss: 0.0000, \n"
     ]
    },
    {
     "name": "stdout",
     "output_type": "stream",
     "text": [
      "epoch: 8, [batch: 3149 / 6297], examples_per_second: 2311.5008, train_label_loss: 0.0001, \n"
     ]
    },
    {
     "name": "stdout",
     "output_type": "stream",
     "text": [
      "epoch: 8, [batch: 3778 / 6297], examples_per_second: 2314.7953, train_label_loss: 0.0000, \n"
     ]
    },
    {
     "name": "stdout",
     "output_type": "stream",
     "text": [
      "epoch: 8, [batch: 4408 / 6297], examples_per_second: 2316.8967, train_label_loss: 0.0000, \n"
     ]
    },
    {
     "name": "stdout",
     "output_type": "stream",
     "text": [
      "epoch: 8, [batch: 5037 / 6297], examples_per_second: 2319.0801, train_label_loss: 0.0000, \n"
     ]
    },
    {
     "name": "stdout",
     "output_type": "stream",
     "text": [
      "epoch: 8, [batch: 5667 / 6297], examples_per_second: 2596.7422, train_label_loss: 0.0000, \n"
     ]
    },
    {
     "name": "stdout",
     "output_type": "stream",
     "text": [
      "=============================================================\n",
      "epoch: 8, source_val_acc_label: 0.9994, target_val_acc_label: 0.3694, source_val_label_loss: 0.0125, target_val_label_loss: 1.9002, \n",
      "=============================================================\n"
     ]
    },
    {
     "name": "stdout",
     "output_type": "stream",
     "text": [
      "epoch: 9, [batch: 1 / 6315], examples_per_second: 2.3383, train_label_loss: 0.0000, \n"
     ]
    },
    {
     "name": "stdout",
     "output_type": "stream",
     "text": [
      "epoch: 9, [batch: 632 / 6315], examples_per_second: 2319.5564, train_label_loss: 0.0514, \n"
     ]
    },
    {
     "name": "stdout",
     "output_type": "stream",
     "text": [
      "epoch: 9, [batch: 1263 / 6315], examples_per_second: 2331.7208, train_label_loss: 0.0000, \n"
     ]
    },
    {
     "name": "stdout",
     "output_type": "stream",
     "text": [
      "epoch: 9, [batch: 1895 / 6315], examples_per_second: 2284.0850, train_label_loss: 0.0000, \n"
     ]
    },
    {
     "name": "stdout",
     "output_type": "stream",
     "text": [
      "epoch: 9, [batch: 2526 / 6315], examples_per_second: 2532.9433, train_label_loss: 0.0000, \n"
     ]
    },
    {
     "name": "stdout",
     "output_type": "stream",
     "text": [
      "epoch: 9, [batch: 3158 / 6315], examples_per_second: 2626.5369, train_label_loss: 0.0000, \n"
     ]
    },
    {
     "name": "stdout",
     "output_type": "stream",
     "text": [
      "epoch: 9, [batch: 3789 / 6315], examples_per_second: 2561.0223, train_label_loss: 0.0000, \n"
     ]
    },
    {
     "name": "stdout",
     "output_type": "stream",
     "text": [
      "epoch: 9, [batch: 4420 / 6315], examples_per_second: 2560.9783, train_label_loss: 0.0000, \n"
     ]
    },
    {
     "name": "stdout",
     "output_type": "stream",
     "text": [
      "epoch: 9, [batch: 5052 / 6315], examples_per_second: 2569.0048, train_label_loss: 0.0000, \n"
     ]
    },
    {
     "name": "stdout",
     "output_type": "stream",
     "text": [
      "epoch: 9, [batch: 5683 / 6315], examples_per_second: 2627.2660, train_label_loss: 0.0000, \n"
     ]
    },
    {
     "name": "stdout",
     "output_type": "stream",
     "text": [
      "=============================================================\n",
      "epoch: 9, source_val_acc_label: 0.9994, target_val_acc_label: 0.3785, source_val_label_loss: 0.0130, target_val_label_loss: 1.8637, \n",
      "=============================================================\n"
     ]
    },
    {
     "name": "stdout",
     "output_type": "stream",
     "text": [
      "Patience (3) exhausted\n"
     ]
    }
   ],
   "source": [
    "###################################\n",
    "# train\n",
    "###################################\n",
    "jig = PTN_Train_Eval_Test_Jig(model, p.BEST_MODEL_PATH, p.device)\n",
    "\n",
    "jig.train(\n",
    "    train_iterable=datasets.source.processed.train,\n",
    "    source_val_iterable=datasets.source.processed.val,\n",
    "    target_val_iterable=datasets.target.processed.val,\n",
    "    num_epochs=p.n_epoch,\n",
    "    num_logs_per_epoch=p.NUM_LOGS_PER_EPOCH,\n",
    "    patience=p.patience,\n",
    "    optimizer=optimizer,\n",
    "    criteria_for_best=p.criteria_for_best,\n",
    ")"
   ]
  },
  {
   "cell_type": "code",
   "execution_count": 23,
   "id": "31e8fabf",
   "metadata": {
    "execution": {
     "iopub.execute_input": "2022-03-22T03:50:08.210426Z",
     "iopub.status.busy": "2022-03-22T03:50:08.209119Z",
     "iopub.status.idle": "2022-03-22T03:50:08.243608Z",
     "shell.execute_reply": "2022-03-22T03:50:08.242836Z"
    },
    "papermill": {
     "duration": 0.088723,
     "end_time": "2022-03-22T03:50:08.243785",
     "exception": false,
     "start_time": "2022-03-22T03:50:08.155062",
     "status": "completed"
    },
    "tags": []
   },
   "outputs": [],
   "source": [
    "total_experiment_time_secs = time.time() - start_time_secs"
   ]
  },
  {
   "cell_type": "code",
   "execution_count": 24,
   "id": "87b9595b",
   "metadata": {
    "execution": {
     "iopub.execute_input": "2022-03-22T03:50:08.359776Z",
     "iopub.status.busy": "2022-03-22T03:50:08.357558Z",
     "iopub.status.idle": "2022-03-22T03:54:40.791879Z",
     "shell.execute_reply": "2022-03-22T03:54:40.792578Z"
    },
    "papermill": {
     "duration": 272.492317,
     "end_time": "2022-03-22T03:54:40.792817",
     "exception": false,
     "start_time": "2022-03-22T03:50:08.300500",
     "status": "completed"
    },
    "tags": []
   },
   "outputs": [],
   "source": [
    "###################################\n",
    "# Evaluate the model\n",
    "###################################\n",
    "source_test_label_accuracy, source_test_label_loss = jig.test(datasets.source.processed.test)\n",
    "target_test_label_accuracy, target_test_label_loss = jig.test(datasets.target.processed.test)\n",
    "\n",
    "source_val_label_accuracy, source_val_label_loss = jig.test(datasets.source.processed.val)\n",
    "target_val_label_accuracy, target_val_label_loss = jig.test(datasets.target.processed.val)\n",
    "\n",
    "history = jig.get_history()\n",
    "\n",
    "total_epochs_trained = len(history[\"epoch_indices\"])\n",
    "\n",
    "val_dl = Iterable_Aggregator((datasets.source.original.val,datasets.target.original.val))\n",
    "\n",
    "confusion = ptn_confusion_by_domain_over_dataloader(model, p.device, val_dl)\n",
    "per_domain_accuracy = per_domain_accuracy_from_confusion(confusion)\n",
    "\n",
    "# Add a key to per_domain_accuracy for if it was a source domain\n",
    "for domain, accuracy in per_domain_accuracy.items():\n",
    "    per_domain_accuracy[domain] = {\n",
    "        \"accuracy\": accuracy,\n",
    "        \"source?\": domain in p.domains_source\n",
    "    }\n",
    "\n",
    "# Do an independent accuracy assesment JUST TO BE SURE!\n",
    "# _source_test_label_accuracy = independent_accuracy_assesment(model, datasets.source.processed.test, p.device)\n",
    "# _target_test_label_accuracy = independent_accuracy_assesment(model, datasets.target.processed.test, p.device)\n",
    "# _source_val_label_accuracy = independent_accuracy_assesment(model, datasets.source.processed.val, p.device)\n",
    "# _target_val_label_accuracy = independent_accuracy_assesment(model, datasets.target.processed.val, p.device)\n",
    "\n",
    "# assert(_source_test_label_accuracy == source_test_label_accuracy)\n",
    "# assert(_target_test_label_accuracy == target_test_label_accuracy)\n",
    "# assert(_source_val_label_accuracy == source_val_label_accuracy)\n",
    "# assert(_target_val_label_accuracy == target_val_label_accuracy)\n",
    "\n",
    "experiment = {\n",
    "    \"experiment_name\": p.experiment_name,\n",
    "    \"parameters\": dict(p),\n",
    "    \"results\": {\n",
    "        \"source_test_label_accuracy\": source_test_label_accuracy,\n",
    "        \"source_test_label_loss\": source_test_label_loss,\n",
    "        \"target_test_label_accuracy\": target_test_label_accuracy,\n",
    "        \"target_test_label_loss\": target_test_label_loss,\n",
    "        \"source_val_label_accuracy\": source_val_label_accuracy,\n",
    "        \"source_val_label_loss\": source_val_label_loss,\n",
    "        \"target_val_label_accuracy\": target_val_label_accuracy,\n",
    "        \"target_val_label_loss\": target_val_label_loss,\n",
    "        \"total_epochs_trained\": total_epochs_trained,\n",
    "        \"total_experiment_time_secs\": total_experiment_time_secs,\n",
    "        \"confusion\": confusion,\n",
    "        \"per_domain_accuracy\": per_domain_accuracy,\n",
    "    },\n",
    "    \"history\": history,\n",
    "    \"dataset_metrics\": get_dataset_metrics(datasets, \"ptn\"),\n",
    "}"
   ]
  },
  {
   "cell_type": "code",
   "execution_count": 25,
   "id": "54a21829",
   "metadata": {
    "execution": {
     "iopub.execute_input": "2022-03-22T03:54:40.906447Z",
     "iopub.status.busy": "2022-03-22T03:54:40.905873Z",
     "iopub.status.idle": "2022-03-22T03:54:41.137211Z",
     "shell.execute_reply": "2022-03-22T03:54:41.137745Z"
    },
    "papermill": {
     "duration": 0.287656,
     "end_time": "2022-03-22T03:54:41.137921",
     "exception": false,
     "start_time": "2022-03-22T03:54:40.850265",
     "status": "completed"
    },
    "tags": []
   },
   "outputs": [
    {
     "data": {
      "image/png": "[encoded data removed]",
      "text/plain": [
       "<Figure size 1080x504 with 1 Axes>"
      ]
     },
     "metadata": {
      "needs_background": "light"
     },
     "output_type": "display_data"
    }
   ],
   "source": [
    "ax = get_loss_curve(experiment)\n",
    "plt.show()"
   ]
  },
  {
   "cell_type": "code",
   "execution_count": 26,
   "id": "fd8a0f60",
   "metadata": {
    "execution": {
     "iopub.execute_input": "2022-03-22T03:54:41.249446Z",
     "iopub.status.busy": "2022-03-22T03:54:41.249056Z",
     "iopub.status.idle": "2022-03-22T03:54:41.575905Z",
     "shell.execute_reply": "2022-03-22T03:54:41.576588Z"
    },
    "papermill": {
     "duration": 0.382469,
     "end_time": "2022-03-22T03:54:41.576804",
     "exception": false,
     "start_time": "2022-03-22T03:54:41.194335",
     "status": "completed"
    },
    "tags": []
   },
   "outputs": [
    {
     "data": {
      "text/plain": [
       "<AxesSubplot:title={'center':'Results'}>"
      ]
     },
     "execution_count": 26,
     "metadata": {},
     "output_type": "execute_result"
    },
    {
     "data": {
      "image/png": "[encoded data removed]",
      "text/plain": [
       "<Figure size 1080x504 with 1 Axes>"
      ]
     },
     "metadata": {
      "needs_background": "light"
     },
     "output_type": "display_data"
    }
   ],
   "source": [
    "get_results_table(experiment)"
   ]
  },
  {
   "cell_type": "code",
   "execution_count": 27,
   "id": "cf8dc689",
   "metadata": {
    "execution": {
     "iopub.execute_input": "2022-03-22T03:54:41.693969Z",
     "iopub.status.busy": "2022-03-22T03:54:41.693590Z",
     "iopub.status.idle": "2022-03-22T03:54:41.963404Z",
     "shell.execute_reply": "2022-03-22T03:54:41.964113Z"
    },
    "papermill": {
     "duration": 0.328892,
     "end_time": "2022-03-22T03:54:41.964335",
     "exception": false,
     "start_time": "2022-03-22T03:54:41.635443",
     "status": "completed"
    },
    "tags": []
   },
   "outputs": [
    {
     "data": {
      "text/plain": [
       "<AxesSubplot:title={'center':'Per Domain Validation Accuracy'}, xlabel='domain'>"
      ]
     },
     "execution_count": 27,
     "metadata": {},
     "output_type": "execute_result"
    },
    {
     "data": {
      "image/png": "[encoded data removed]",
      "text/plain": [
       "<Figure size 1080x504 with 1 Axes>"
      ]
     },
     "metadata": {
      "needs_background": "light"
     },
     "output_type": "display_data"
    }
   ],
   "source": [
    "get_domain_accuracies(experiment)"
   ]
  },
  {
   "cell_type": "code",
   "execution_count": 28,
   "id": "a74ae082",
   "metadata": {
    "execution": {
     "iopub.execute_input": "2022-03-22T03:54:42.082775Z",
     "iopub.status.busy": "2022-03-22T03:54:42.082394Z",
     "iopub.status.idle": "2022-03-22T03:54:42.109510Z",
     "shell.execute_reply": "2022-03-22T03:54:42.110169Z"
    },
    "papermill": {
     "duration": 0.087247,
     "end_time": "2022-03-22T03:54:42.110384",
     "exception": false,
     "start_time": "2022-03-22T03:54:42.023137",
     "status": "completed"
    },
    "tags": []
   },
   "outputs": [
    {
     "name": "stdout",
     "output_type": "stream",
     "text": [
      "Source Test Label Accuracy: 0.9989478114478114 Target Test Label Accuracy: 0.3984375\n",
      "Source Val Label Accuracy: 0.9989654680365296 Target Val Label Accuracy: 0.4010416666666667\n"
     ]
    }
   ],
   "source": [
    "print(\"Source Test Label Accuracy:\", experiment[\"results\"][\"source_test_label_accuracy\"], \"Target Test Label Accuracy:\", experiment[\"results\"][\"target_test_label_accuracy\"])\n",
    "print(\"Source Val Label Accuracy:\", experiment[\"results\"][\"source_val_label_accuracy\"], \"Target Val Label Accuracy:\", experiment[\"results\"][\"target_val_label_accuracy\"])"
   ]
  },
  {
   "cell_type": "code",
   "execution_count": 29,
   "id": "dacca602",
   "metadata": {
    "execution": {
     "iopub.execute_input": "2022-03-22T03:54:42.230293Z",
     "iopub.status.busy": "2022-03-22T03:54:42.229146Z",
     "iopub.status.idle": "2022-03-22T03:54:42.251937Z",
     "shell.execute_reply": "2022-03-22T03:54:42.252617Z"
    },
    "papermill": {
     "duration": 0.082502,
     "end_time": "2022-03-22T03:54:42.252833",
     "exception": false,
     "start_time": "2022-03-22T03:54:42.170331",
     "status": "completed"
    },
    "tags": [
     "experiment_json"
    ]
   },
   "outputs": [
    {
     "data": {
      "text/plain": [
       "'{\"experiment_name\": \"tl_1v2:cores-oracle.run1.limited\", \"parameters\": {\"experiment_name\": \"tl_1v2:cores-oracle.run1.limited\", \"device\": \"cuda\", \"lr\": 0.0001, \"n_shot\": 3, \"n_query\": 2, \"train_k_factor\": 3, \"val_k_factor\": 2, \"test_k_factor\": 2, \"torch_default_dtype\": \"torch.float32\", \"n_epoch\": 50, \"patience\": 3, \"criteria_for_best\": \"target_accuracy\", \"x_net\": [{\"class\": \"nnReshape\", \"kargs\": {\"shape\": [-1, 1, 2, 256]}}, {\"class\": \"Conv2d\", \"kargs\": {\"in_channels\": 1, \"out_channels\": 256, \"kernel_size\": [1, 7], \"bias\": false, \"padding\": [0, 3]}}, {\"class\": \"ReLU\", \"kargs\": {\"inplace\": true}}, {\"class\": \"BatchNorm2d\", \"kargs\": {\"num_features\": 256}}, {\"class\": \"Conv2d\", \"kargs\": {\"in_channels\": 256, \"out_channels\": 80, \"kernel_size\": [2, 7], \"bias\": true, \"padding\": [0, 3]}}, {\"class\": \"ReLU\", \"kargs\": {\"inplace\": true}}, {\"class\": \"BatchNorm2d\", \"kargs\": {\"num_features\": 80}}, {\"class\": \"Flatten\", \"kargs\": {}}, {\"class\": \"Linear\", \"kargs\": {\"in_features\": 20480, \"out_features\": 256}}, {\"class\": \"ReLU\", \"kargs\": {\"inplace\": true}}, {\"class\": \"BatchNorm1d\", \"kargs\": {\"num_features\": 256}}, {\"class\": \"Linear\", \"kargs\": {\"in_features\": 256, \"out_features\": 256}}], \"NUM_LOGS_PER_EPOCH\": 10, \"BEST_MODEL_PATH\": \"./best_model.pth\", \"n_way\": 16, \"datasets\": [{\"labels\": [\"1-10.\", \"1-11.\", \"1-15.\", \"1-16.\", \"1-17.\", \"1-18.\", \"1-19.\", \"10-4.\", \"10-7.\", \"11-1.\", \"11-14.\", \"11-17.\", \"11-20.\", \"11-7.\", \"13-20.\", \"13-8.\", \"14-10.\", \"14-11.\", \"14-14.\", \"14-7.\", \"15-1.\", \"15-20.\", \"16-1.\", \"16-16.\", \"17-10.\", \"17-11.\", \"17-2.\", \"19-1.\", \"19-16.\", \"19-19.\", \"19-20.\", \"19-3.\", \"2-10.\", \"2-11.\", \"2-17.\", \"2-18.\", \"2-20.\", \"2-3.\", \"2-4.\", \"2-5.\", \"2-6.\", \"2-7.\", \"2-8.\", \"3-13.\", \"3-18.\", \"3-3.\", \"4-1.\", \"4-10.\", \"4-11.\", \"4-19.\", \"5-5.\", \"6-15.\", \"7-10.\", \"7-14.\", \"8-18.\", \"8-20.\", \"8-3.\", \"8-8.\"], \"domains\": [1, 2, 3, 4, 5], \"num_examples_per_domain_per_label\": -1, \"pickle_path\": \"/root/csc500-main/datasets/cores.stratified_ds.2022A.pkl\", \"source_or_target_dataset\": \"source\", \"x_transforms\": [], \"episode_transforms\": [], \"domain_prefix\": \"CORES_\"}, {\"labels\": [\"3123D52\", \"3123D65\", \"3123D79\", \"3123D80\", \"3123D54\", \"3123D70\", \"3123D7B\", \"3123D89\", \"3123D58\", \"3123D76\", \"3123D7D\", \"3123EFE\", \"3123D64\", \"3123D78\", \"3123D7E\", \"3124E4A\"], \"domains\": [32, 38, 8, 44, 14, 50, 20, 26], \"num_examples_per_domain_per_label\": 2000, \"pickle_path\": \"/root/csc500-main/datasets/oracle.Run1_10kExamples_stratified_ds.2022A.pkl\", \"source_or_target_dataset\": \"target\", \"x_transforms\": [], \"episode_transforms\": [], \"domain_prefix\": \"ORACLE.run1_\"}], \"dataset_seed\": 1337, \"seed\": 1337, \"x_shape\": [2, 256], \"domains_source\": [\"CORES_1\", \"CORES_2\", \"CORES_3\", \"CORES_4\", \"CORES_5\"], \"domains_target\": [\"ORACLE.run1_32\", \"ORACLE.run1_38\", \"ORACLE.run1_8\", \"ORACLE.run1_44\", \"ORACLE.run1_14\", \"ORACLE.run1_50\", \"ORACLE.run1_20\", \"ORACLE.run1_26\"]}, \"results\": {\"source_test_label_accuracy\": 0.9989478114478114, \"source_test_label_loss\": 0.012804347090423107, \"target_test_label_accuracy\": 0.3984375, \"target_test_label_loss\": 1.7786239385604858, \"source_val_label_accuracy\": 0.9989654680365296, \"source_val_label_loss\": 0.01179687213152647, \"target_val_label_accuracy\": 0.4010416666666667, \"target_val_label_loss\": 1.7752704620361328, \"total_epochs_trained\": 9, \"total_experiment_time_secs\": 2326.108251810074, \"confusion\": {\"CORES_3\": {\"43\": {\"43\": 128}, \"9\": {\"9\": 150}, \"6\": {\"6\": 88}, \"3\": {\"3\": 144}, \"16\": {\"16\": 134}, \"51\": {\"51\": 128}, \"31\": {\"31\": 28}, \"46\": {\"46\": 134}, \"19\": {\"19\": 124}, \"8\": {\"8\": 152}, \"18\": {\"18\": 84}, \"37\": {\"37\": 28}, \"24\": {\"24\": 104}, \"10\": {\"10\": 64}, \"44\": {\"44\": 88}, \"14\": {\"14\": 40}, \"38\": {\"38\": 28}, \"53\": {\"53\": 138, \"18\": 1, \"17\": 1}, \"20\": {\"20\": 132}, \"32\": {\"32\": 28}, \"36\": {\"36\": 100}, \"33\": {\"33\": 28}, \"56\": {\"56\": 136}, \"23\": {\"23\": 130}, \"54\": {\"54\": 100}, \"21\": {\"21\": 125, \"3\": 1}, \"28\": {\"28\": 28}, \"26\": {\"26\": 24}, \"48\": {\"48\": 116}, \"52\": {\"52\": 118}, \"39\": {\"39\": 16}, \"22\": {\"22\": 140}, \"13\": {\"13\": 128}, \"2\": {\"2\": 32}, \"34\": {\"34\": 32}, \"27\": {\"27\": 132}, \"45\": {\"45\": 60}, \"35\": {\"35\": 28}, \"29\": {\"29\": 128}, \"25\": {\"25\": 144}, \"0\": {\"0\": 124}, \"41\": {\"41\": 28}, \"11\": {\"11\": 142}, \"5\": {\"5\": 108}, \"1\": {\"1\": 100}, \"57\": {\"57\": 116}, \"17\": {\"17\": 106, \"16\": 1, \"56\": 1}, \"7\": {\"7\": 36}, \"12\": {\"12\": 92}, \"47\": {\"47\": 92}, \"40\": {\"40\": 136}, \"15\": {\"15\": 142}, \"42\": {\"42\": 28}, \"55\": {\"55\": 150}, \"49\": {\"49\": 20}, \"30\": {\"30\": 119, \"52\": 1}, \"50\": {\"50\": 134}, \"4\": {\"4\": 136}}, \"CORES_4\": {\"35\": {\"35\": 40}, \"25\": {\"25\": 134}, \"24\": {\"24\": 56}, \"48\": {\"48\": 138}, \"51\": {\"51\": 144}, \"13\": {\"13\": 120}, \"14\": {\"14\": 15, \"46\": 1}, \"32\": {\"32\": 24}, \"30\": {\"30\": 43, \"21\": 1}, \"34\": {\"34\": 24}, \"9\": {\"9\": 136}, \"1\": {\"1\": 40}, \"0\": {\"0\": 80}, \"38\": {\"38\": 40}, \"22\": {\"22\": 128}, \"40\": {\"40\": 119, \"44\": 1}, \"6\": {\"6\": 112}, \"16\": {\"16\": 96}, \"11\": {\"11\": 104}, \"20\": {\"20\": 122}, \"17\": {\"17\": 80}, \"26\": {\"26\": 24}, \"54\": {\"54\": 108}, \"55\": {\"55\": 154}, \"50\": {\"50\": 128, \"13\": 1, \"3\": 3}, \"19\": {\"19\": 142}, \"44\": {\"44\": 122}, \"47\": {\"47\": 120}, \"33\": {\"33\": 36}, \"5\": {\"5\": 108}, \"18\": {\"18\": 108}, \"21\": {\"21\": 124}, \"41\": {\"41\": 36}, \"23\": {\"23\": 128}, \"39\": {\"39\": 20}, \"37\": {\"37\": 24}, \"8\": {\"8\": 144}, \"49\": {\"49\": 20}, \"53\": {\"53\": 140}, \"31\": {\"31\": 28}, \"28\": {\"28\": 32}, \"3\": {\"3\": 124}, \"27\": {\"27\": 138}, \"46\": {\"46\": 127, \"22\": 1}, \"12\": {\"12\": 92}, \"7\": {\"7\": 24}, \"4\": {\"4\": 130, \"9\": 2}, \"42\": {\"42\": 32}, \"43\": {\"43\": 130}, \"29\": {\"29\": 120}, \"57\": {\"57\": 100}, \"52\": {\"52\": 104}, \"45\": {\"45\": 96}, \"36\": {\"36\": 92}, \"10\": {\"10\": 126}, \"15\": {\"15\": 134}, \"56\": {\"56\": 124}, \"2\": {\"2\": 36}}, \"CORES_5\": {\"47\": {\"47\": 100}, \"53\": {\"53\": 150}, \"29\": {\"29\": 126}, \"52\": {\"52\": 130}, \"55\": {\"55\": 144}, \"17\": {\"17\": 116}, \"42\": {\"42\": 40}, \"33\": {\"33\": 32}, \"11\": {\"11\": 148}, \"19\": {\"19\": 118}, \"1\": {\"1\": 144}, \"44\": {\"44\": 142}, \"49\": {\"49\": 36}, \"4\": {\"4\": 100}, \"6\": {\"6\": 116}, \"39\": {\"39\": 20}, \"50\": {\"50\": 148}, \"56\": {\"56\": 130}, \"25\": {\"25\": 144}, \"28\": {\"28\": 32}, \"35\": {\"35\": 36}, \"24\": {\"24\": 80}, \"21\": {\"21\": 132}, \"45\": {\"45\": 124}, \"16\": {\"16\": 143, \"11\": 1}, \"37\": {\"37\": 24}, \"57\": {\"57\": 132}, \"34\": {\"34\": 36}, \"38\": {\"38\": 32}, \"48\": {\"48\": 130}, \"26\": {\"26\": 24}, \"9\": {\"9\": 152}, \"18\": {\"18\": 64}, \"3\": {\"3\": 100}, \"23\": {\"23\": 124}, \"15\": {\"15\": 153, \"11\": 1}, \"10\": {\"10\": 68}, \"46\": {\"46\": 148}, \"22\": {\"22\": 27, \"56\": 1}, \"54\": {\"54\": 112}, \"27\": {\"27\": 160}, \"41\": {\"41\": 28}, \"31\": {\"31\": 36}, \"0\": {\"0\": 124}, \"7\": {\"7\": 32}, \"2\": {\"2\": 28}, \"14\": {\"14\": 44}, \"40\": {\"40\": 123, \"44\": 1}, \"5\": {\"5\": 128}, \"12\": {\"12\": 96}, \"43\": {\"43\": 142}, \"13\": {\"13\": 148}, \"36\": {\"36\": 92}, \"8\": {\"8\": 150}, \"32\": {\"32\": 32}, \"30\": {\"30\": 128}, \"51\": {\"51\": 138}, \"20\": {\"20\": 138}}, \"CORES_1\": {\"46\": {\"46\": 140}, \"16\": {\"16\": 134}, \"26\": {\"26\": 24}, \"10\": {\"10\": 96}, \"9\": {\"9\": 155, \"53\": 1}, \"28\": {\"28\": 28}, \"51\": {\"51\": 156}, \"1\": {\"1\": 100}, \"55\": {\"55\": 148}, \"27\": {\"27\": 124}, \"22\": {\"22\": 124}, \"52\": {\"52\": 126}, \"3\": {\"3\": 140}, \"33\": {\"33\": 32}, \"47\": {\"47\": 120}, \"42\": {\"42\": 40}, \"12\": {\"12\": 116}, \"23\": {\"23\": 132}, \"49\": {\"49\": 32}, \"7\": {\"7\": 28}, \"4\": {\"4\": 132}, \"50\": {\"50\": 134}, \"19\": {\"19\": 154}, \"11\": {\"11\": 140}, \"31\": {\"31\": 28}, \"41\": {\"41\": 24}, \"56\": {\"56\": 138}, \"0\": {\"0\": 148}, \"57\": {\"57\": 128}, \"53\": {\"53\": 140}, \"43\": {\"43\": 144}, \"37\": {\"37\": 32}, \"2\": {\"2\": 36}, \"6\": {\"6\": 96}, \"13\": {\"13\": 150}, \"18\": {\"18\": 72}, \"36\": {\"36\": 64}, \"29\": {\"29\": 140}, \"39\": {\"39\": 28}, \"17\": {\"17\": 64}, \"21\": {\"21\": 124}, \"25\": {\"25\": 132}, \"45\": {\"45\": 142}, \"38\": {\"38\": 21, \"36\": 2, \"55\": 1}, \"30\": {\"30\": 120}, \"24\": {\"24\": 108}, \"20\": {\"20\": 138, \"12\": 2}, \"8\": {\"8\": 140}, \"35\": {\"35\": 36}, \"54\": {\"54\": 104}, \"5\": {\"5\": 148}, \"48\": {\"48\": 144}, \"15\": {\"15\": 142}, \"34\": {\"34\": 24}, \"14\": {\"14\": 24}, \"32\": {\"32\": 32}, \"40\": {\"40\": 148}, \"44\": {\"44\": 136}}, \"CORES_2\": {\"36\": {\"36\": 116}, \"5\": {\"5\": 120}, \"45\": {\"45\": 128}, \"49\": {\"49\": 24}, \"50\": {\"50\": 136}, \"4\": {\"4\": 138}, \"43\": {\"43\": 148}, \"41\": {\"41\": 19, \"52\": 1}, \"37\": {\"37\": 36}, \"12\": {\"12\": 92}, \"33\": {\"33\": 28}, \"7\": {\"7\": 36}, \"56\": {\"56\": 140}, \"14\": {\"14\": 24}, \"52\": {\"52\": 124}, \"44\": {\"44\": 96}, \"48\": {\"48\": 144}, \"20\": {\"20\": 128}, \"55\": {\"55\": 144}, \"32\": {\"32\": 28}, \"40\": {\"40\": 136}, \"54\": {\"54\": 108}, \"17\": {\"17\": 104}, \"38\": {\"38\": 20}, \"24\": {\"24\": 96}, \"1\": {\"1\": 112}, \"6\": {\"6\": 124}, \"34\": {\"34\": 28}, \"11\": {\"11\": 136}, \"9\": {\"9\": 150}, \"8\": {\"8\": 152}, \"22\": {\"22\": 136}, \"26\": {\"26\": 24}, \"23\": {\"23\": 146}, \"10\": {\"10\": 112}, \"18\": {\"18\": 48}, \"13\": {\"13\": 115, \"10\": 1}, \"30\": {\"30\": 128}, \"42\": {\"42\": 36}, \"31\": {\"31\": 28}, \"46\": {\"46\": 128}, \"57\": {\"57\": 142}, \"47\": {\"47\": 138}, \"35\": {\"35\": 32}, \"15\": {\"15\": 132}, \"25\": {\"25\": 136}, \"19\": {\"19\": 136}, \"51\": {\"51\": 128}, \"53\": {\"53\": 134}, \"21\": {\"21\": 120}, \"39\": {\"39\": 28}, \"2\": {\"2\": 32}, \"16\": {\"16\": 150}, \"0\": {\"0\": 48}, \"3\": {\"3\": 92}, \"27\": {\"27\": 142}, \"28\": {\"28\": 27, \"18\": 1}, \"29\": {\"29\": 128}}, \"ORACLE.run1_14\": {\"15\": {\"15\": 240}, \"3\": {\"8\": 4, \"6\": 31, \"3\": 64, \"7\": 26, \"2\": 12, \"13\": 42, \"0\": 22, \"14\": 34, \"5\": 5}, \"6\": {\"14\": 18, \"3\": 57, \"6\": 71, \"13\": 54, \"7\": 19, \"0\": 8, \"8\": 4, \"2\": 7, \"5\": 2}, \"1\": {\"1\": 154, \"9\": 50, \"10\": 29, \"4\": 7}, \"8\": {\"2\": 15, \"0\": 28, \"7\": 11, \"5\": 31, \"8\": 96, \"4\": 20, \"3\": 4, \"6\": 3, \"12\": 20, \"14\": 11, \"13\": 1}, \"10\": {\"10\": 124, \"9\": 32, \"1\": 13, \"12\": 22, \"4\": 38, \"0\": 2, \"8\": 2, \"2\": 2, \"13\": 2, \"14\": 1, \"5\": 2}, \"9\": {\"9\": 138, \"10\": 45, \"1\": 49, \"12\": 4, \"4\": 4}, \"13\": {\"14\": 27, \"6\": 66, \"3\": 26, \"13\": 33, \"5\": 12, \"15\": 20, \"7\": 8, \"12\": 3, \"8\": 6, \"2\": 18, \"0\": 15, \"10\": 1, \"4\": 5}, \"12\": {\"10\": 12, \"12\": 159, \"4\": 16, \"8\": 18, \"13\": 2, \"0\": 22, \"14\": 3, \"6\": 1, \"5\": 3, \"7\": 1, \"9\": 2, \"2\": 1}, \"5\": {\"14\": 21, \"0\": 31, \"12\": 8, \"5\": 61, \"13\": 11, \"8\": 36, \"7\": 15, \"2\": 37, \"3\": 4, \"4\": 15, \"6\": 1}, \"0\": {\"2\": 16, \"14\": 44, \"5\": 22, \"0\": 56, \"3\": 33, \"10\": 2, \"6\": 10, \"8\": 22, \"7\": 5, \"12\": 14, \"4\": 5, \"13\": 11}, \"2\": {\"13\": 22, \"12\": 9, \"3\": 17, \"0\": 22, \"5\": 40, \"2\": 38, \"6\": 13, \"7\": 13, \"4\": 23, \"14\": 24, \"8\": 15, \"10\": 4}, \"11\": {\"11\": 233, \"1\": 2, \"9\": 5}, \"14\": {\"14\": 64, \"13\": 25, \"0\": 29, \"5\": 18, \"3\": 39, \"2\": 20, \"7\": 16, \"8\": 6, \"12\": 8, \"6\": 15}, \"7\": {\"8\": 11, \"14\": 21, \"2\": 15, \"7\": 92, \"6\": 15, \"0\": 10, \"5\": 31, \"3\": 20, \"13\": 24, \"4\": 1}, \"4\": {\"10\": 50, \"4\": 112, \"2\": 19, \"8\": 8, \"0\": 10, \"12\": 10, \"1\": 9, \"5\": 21, \"13\": 1}}, \"ORACLE.run1_20\": {\"3\": {\"9\": 18, \"5\": 31, \"8\": 36, \"15\": 14, \"0\": 15, \"14\": 25, \"6\": 11, \"12\": 4, \"7\": 14, \"1\": 15, \"3\": 31, \"2\": 15, \"11\": 2, \"4\": 7, \"13\": 2}, \"15\": {\"1\": 25, \"13\": 26, \"9\": 16, \"15\": 31, \"7\": 24, \"6\": 17, \"2\": 18, \"4\": 24, \"5\": 14, \"10\": 10, \"12\": 26, \"3\": 6, \"8\": 1, \"14\": 2}, \"8\": {\"5\": 28, \"8\": 52, \"9\": 20, \"3\": 20, \"1\": 6, \"0\": 31, \"14\": 51, \"2\": 3, \"11\": 7, \"6\": 13, \"4\": 2, \"15\": 1, \"7\": 5, \"12\": 1}, \"4\": {\"4\": 38, \"15\": 26, \"2\": 23, \"6\": 21, \"12\": 33, \"10\": 29, \"1\": 10, \"7\": 12, \"13\": 24, \"5\": 8, \"9\": 7, \"8\": 3, \"14\": 3, \"3\": 3}, \"14\": {\"14\": 64, \"1\": 8, \"3\": 44, \"8\": 37, \"0\": 21, \"2\": 5, \"4\": 3, \"7\": 10, \"5\": 19, \"13\": 1, \"6\": 14, \"9\": 9, \"11\": 2, \"12\": 2, \"15\": 1}, \"0\": {\"14\": 20, \"11\": 57, \"0\": 127, \"1\": 2, \"8\": 17, \"5\": 7, \"9\": 2, \"3\": 8}, \"7\": {\"4\": 21, \"3\": 18, \"1\": 23, \"15\": 15, \"6\": 33, \"7\": 19, \"2\": 21, \"10\": 6, \"9\": 15, \"12\": 20, \"14\": 15, \"0\": 2, \"13\": 9, \"5\": 14, \"8\": 9}, \"6\": {\"6\": 42, \"10\": 10, \"5\": 8, \"9\": 28, \"2\": 21, \"4\": 19, \"12\": 18, \"15\": 16, \"14\": 16, \"3\": 15, \"8\": 6, \"7\": 18, \"1\": 15, \"13\": 8}, \"10\": {\"4\": 35, \"10\": 101, \"13\": 33, \"12\": 26, \"2\": 15, \"7\": 7, \"1\": 3, \"6\": 4, \"15\": 15, \"9\": 1}, \"5\": {\"6\": 12, \"5\": 31, \"14\": 20, \"0\": 8, \"4\": 10, \"1\": 32, \"7\": 15, \"2\": 16, \"8\": 23, \"9\": 25, \"15\": 9, \"12\": 5, \"3\": 29, \"13\": 2, \"10\": 3}, \"2\": {\"15\": 25, \"1\": 12, \"10\": 13, \"4\": 19, \"2\": 31, \"13\": 24, \"6\": 24, \"9\": 18, \"7\": 26, \"12\": 22, \"8\": 1, \"3\": 8, \"5\": 12, \"14\": 5}, \"12\": {\"5\": 8, \"6\": 19, \"7\": 22, \"4\": 20, \"10\": 29, \"13\": 29, \"14\": 5, \"12\": 27, \"1\": 15, \"2\": 23, \"15\": 28, \"9\": 11, \"3\": 4}, \"9\": {\"1\": 23, \"4\": 7, \"9\": 16, \"14\": 19, \"7\": 26, \"5\": 27, \"15\": 16, \"6\": 25, \"3\": 20, \"13\": 9, \"2\": 22, \"0\": 1, \"10\": 3, \"12\": 13, \"8\": 13}, \"1\": {\"3\": 21, \"2\": 26, \"5\": 42, \"9\": 20, \"1\": 22, \"4\": 10, \"7\": 19, \"10\": 2, \"8\": 11, \"12\": 14, \"15\": 17, \"14\": 13, \"6\": 16, \"13\": 4, \"0\": 2, \"11\": 1}, \"11\": {\"0\": 60, \"11\": 161, \"8\": 13, \"7\": 1, \"14\": 4, \"5\": 1}, \"13\": {\"10\": 31, \"12\": 26, \"13\": 58, \"6\": 10, \"15\": 33, \"2\": 26, \"7\": 15, \"4\": 29, \"9\": 6, \"1\": 2, \"5\": 3, \"3\": 1}}, \"ORACLE.run1_38\": {\"5\": {\"5\": 57, \"8\": 61, \"9\": 38, \"2\": 15, \"12\": 25, \"15\": 31, \"7\": 9, \"14\": 3, \"1\": 1}, \"8\": {\"8\": 52, \"9\": 34, \"5\": 58, \"12\": 22, \"15\": 22, \"14\": 15, \"7\": 24, \"2\": 12, \"13\": 1}, \"11\": {\"11\": 233, \"3\": 7}, \"1\": {\"6\": 92, \"1\": 142, \"15\": 6}, \"10\": {\"3\": 10, \"10\": 132, \"4\": 27, \"13\": 28, \"0\": 43}, \"15\": {\"15\": 157, \"5\": 28, \"1\": 17, \"6\": 7, \"8\": 15, \"12\": 14, \"9\": 2}, \"3\": {\"3\": 234, \"11\": 4, \"0\": 1, \"10\": 1}, \"7\": {\"7\": 94, \"2\": 45, \"14\": 28, \"13\": 13, \"9\": 20, \"5\": 7, \"0\": 20, \"4\": 2, \"8\": 11}, \"4\": {\"4\": 169, \"13\": 26, \"10\": 21, \"0\": 17, \"14\": 6, \"7\": 1}, \"14\": {\"14\": 113, \"4\": 8, \"7\": 42, \"2\": 54, \"13\": 11, \"8\": 3, \"0\": 5, \"10\": 1, \"5\": 1, \"9\": 2}, \"9\": {\"7\": 15, \"5\": 42, \"9\": 131, \"8\": 33, \"2\": 16, \"14\": 1, \"12\": 2}, \"12\": {\"8\": 53, \"12\": 132, \"14\": 2, \"2\": 5, \"15\": 8, \"5\": 36, \"7\": 2, \"9\": 2}, \"6\": {\"1\": 95, \"6\": 140, \"15\": 5}, \"2\": {\"14\": 48, \"2\": 102, \"7\": 41, \"13\": 5, \"9\": 19, \"0\": 2, \"5\": 10, \"8\": 12, \"4\": 1}, \"0\": {\"10\": 59, \"13\": 60, \"0\": 56, \"2\": 5, \"14\": 9, \"4\": 18, \"3\": 12, \"5\": 1, \"7\": 19, \"9\": 1}, \"13\": {\"0\": 61, \"7\": 9, \"13\": 109, \"14\": 11, \"10\": 24, \"4\": 19, \"2\": 6, \"9\": 1}}, \"ORACLE.run1_8\": {\"9\": {\"9\": 209, \"3\": 27, \"2\": 4}, \"10\": {\"6\": 30, \"7\": 27, \"4\": 12, \"1\": 27, \"5\": 43, \"13\": 37, \"10\": 41, \"11\": 19, \"8\": 3, \"14\": 1}, \"13\": {\"6\": 24, \"13\": 63, \"5\": 47, \"7\": 43, \"10\": 35, \"14\": 1, \"1\": 22, \"12\": 1, \"8\": 1, \"11\": 1, \"4\": 1, \"2\": 1}, \"0\": {\"0\": 236, \"14\": 4}, \"1\": {\"6\": 34, \"7\": 19, \"14\": 3, \"13\": 26, \"1\": 46, \"5\": 25, \"4\": 14, \"11\": 31, \"10\": 30, \"8\": 12}, \"15\": {\"12\": 89, \"15\": 87, \"2\": 64}, \"5\": {\"1\": 46, \"6\": 13, \"5\": 46, \"10\": 34, \"7\": 27, \"13\": 49, \"11\": 7, \"4\": 9, \"12\": 6, \"14\": 1, \"8\": 2}, \"3\": {\"3\": 203, \"2\": 18, \"9\": 18, \"15\": 1}, \"6\": {\"11\": 31, \"4\": 16, \"1\": 35, \"13\": 27, \"6\": 36, \"8\": 19, \"10\": 28, \"5\": 12, \"7\": 35, \"14\": 1}, \"11\": {\"11\": 38, \"14\": 26, \"1\": 31, \"6\": 17, \"5\": 21, \"8\": 33, \"7\": 17, \"10\": 23, \"4\": 23, \"13\": 11}, \"8\": {\"11\": 47, \"8\": 57, \"4\": 56, \"5\": 6, \"6\": 14, \"14\": 28, \"1\": 15, \"7\": 8, \"10\": 8, \"13\": 1}, \"4\": {\"4\": 78, \"11\": 30, \"14\": 40, \"8\": 55, \"7\": 8, \"10\": 6, \"1\": 11, \"6\": 11, \"13\": 1}, \"12\": {\"12\": 124, \"15\": 92, \"2\": 24}, \"14\": {\"8\": 30, \"14\": 138, \"4\": 49, \"11\": 12, \"6\": 2, \"0\": 7, \"1\": 2}, \"2\": {\"12\": 35, \"15\": 64, \"3\": 41, \"2\": 93, \"9\": 5, \"7\": 1, \"13\": 1}, \"7\": {\"7\": 49, \"6\": 43, \"10\": 38, \"1\": 24, \"5\": 16, \"8\": 13, \"13\": 39, \"11\": 11, \"4\": 7}}, \"ORACLE.run1_50\": {\"7\": {\"5\": 25, \"4\": 99, \"7\": 104, \"15\": 9, \"9\": 3}, \"3\": {\"3\": 129, \"11\": 20, \"6\": 31, \"15\": 15, \"13\": 13, \"5\": 22, \"9\": 5, \"1\": 2, \"8\": 1, \"12\": 2}, \"8\": {\"1\": 42, \"13\": 22, \"11\": 1, \"8\": 119, \"10\": 52, \"0\": 4}, \"2\": {\"2\": 97, \"14\": 81, \"0\": 49, \"10\": 13}, \"14\": {\"14\": 113, \"0\": 41, \"2\": 76, \"10\": 10}, \"4\": {\"7\": 104, \"4\": 107, \"6\": 4, \"9\": 9, \"5\": 15, \"15\": 1}, \"6\": {\"5\": 35, \"15\": 50, \"6\": 55, \"4\": 4, \"3\": 32, \"11\": 17, \"9\": 25, \"13\": 1, \"7\": 5, \"12\": 16}, \"15\": {\"6\": 61, \"3\": 13, \"9\": 36, \"5\": 39, \"15\": 60, \"11\": 13, \"12\": 10, \"4\": 4, \"7\": 4}, \"10\": {\"10\": 113, \"0\": 47, \"8\": 53, \"2\": 4, \"1\": 16, \"14\": 7}, \"11\": {\"11\": 83, \"9\": 17, \"5\": 9, \"3\": 17, \"6\": 23, \"15\": 22, \"12\": 49, \"13\": 18, \"1\": 2}, \"13\": {\"13\": 141, \"1\": 46, \"5\": 2, \"8\": 13, \"3\": 16, \"11\": 16, \"6\": 1, \"12\": 5}, \"9\": {\"15\": 43, \"9\": 59, \"6\": 38, \"11\": 23, \"5\": 22, \"12\": 39, \"7\": 7, \"3\": 7, \"4\": 2}, \"0\": {\"0\": 95, \"8\": 5, \"2\": 44, \"10\": 46, \"14\": 50}, \"1\": {\"1\": 120, \"8\": 34, \"10\": 17, \"12\": 1, \"13\": 59, \"0\": 2, \"11\": 4, \"3\": 3}, \"12\": {\"11\": 56, \"12\": 98, \"15\": 16, \"3\": 4, \"9\": 47, \"6\": 14, \"5\": 4, \"13\": 1}, \"5\": {\"11\": 24, \"15\": 27, \"3\": 13, \"7\": 49, \"5\": 52, \"13\": 5, \"9\": 11, \"6\": 32, \"4\": 23, \"12\": 4}}, \"ORACLE.run1_32\": {\"8\": {\"5\": 24, \"8\": 61, \"7\": 33, \"2\": 15, \"15\": 16, \"0\": 48, \"14\": 40, \"3\": 1, \"4\": 2}, \"14\": {\"7\": 41, \"0\": 47, \"14\": 58, \"8\": 37, \"5\": 16, \"15\": 3, \"4\": 5, \"2\": 26, \"3\": 6, \"1\": 1}, \"2\": {\"3\": 22, \"4\": 75, \"2\": 105, \"9\": 2, \"0\": 7, \"7\": 1, \"8\": 10, \"14\": 7, \"13\": 8, \"1\": 2, \"5\": 1}, \"0\": {\"8\": 51, \"14\": 46, \"7\": 53, \"0\": 36, \"5\": 37, \"15\": 13, \"2\": 4}, \"1\": {\"1\": 221, \"9\": 5, \"13\": 1, \"4\": 3, \"0\": 2, \"2\": 7, \"7\": 1}, \"10\": {\"12\": 41, \"10\": 181, \"6\": 16, \"9\": 2}, \"11\": {\"11\": 186, \"13\": 29, \"3\": 5, \"9\": 18, \"4\": 1, \"12\": 1}, \"5\": {\"5\": 71, \"15\": 38, \"8\": 19, \"0\": 34, \"7\": 52, \"14\": 25, \"2\": 1}, \"15\": {\"5\": 40, \"7\": 8, \"15\": 163, \"8\": 15, \"0\": 11, \"14\": 3}, \"3\": {\"3\": 90, \"4\": 40, \"13\": 68, \"8\": 3, \"2\": 26, \"11\": 7, \"9\": 5, \"14\": 1}, \"12\": {\"12\": 170, \"9\": 42, \"10\": 21, \"11\": 5, \"1\": 1, \"13\": 1}, \"7\": {\"14\": 39, \"7\": 59, \"0\": 48, \"8\": 35, \"5\": 39, \"15\": 20}, \"13\": {\"3\": 70, \"13\": 93, \"4\": 30, \"9\": 13, \"14\": 2, \"2\": 16, \"11\": 15, \"1\": 1}, \"6\": {\"6\": 212, \"10\": 27, \"12\": 1}, \"4\": {\"8\": 6, \"3\": 50, \"4\": 84, \"2\": 62, \"13\": 23, \"14\": 7, \"9\": 5, \"1\": 1, \"0\": 2}, \"9\": {\"9\": 95, \"1\": 21, \"11\": 25, \"13\": 30, \"12\": 39, \"3\": 10, \"4\": 16, \"2\": 4}}, \"ORACLE.run1_26\": {\"4\": {\"3\": 20, \"4\": 173, \"9\": 3, \"13\": 27, \"12\": 13, \"7\": 4}, \"12\": {\"3\": 16, \"12\": 108, \"9\": 29, \"13\": 31, \"7\": 17, \"8\": 21, \"2\": 10, \"4\": 5, \"0\": 3}, \"10\": {\"5\": 23, \"10\": 50, \"1\": 16, \"0\": 42, \"15\": 30, \"14\": 50, \"8\": 2, \"2\": 7, \"6\": 15, \"3\": 1, \"11\": 3, \"7\": 1}, \"0\": {\"10\": 38, \"14\": 42, \"11\": 1, \"0\": 58, \"8\": 16, \"15\": 22, \"2\": 23, \"9\": 5, \"7\": 9, \"6\": 13, \"5\": 8, \"1\": 3, \"12\": 1, \"3\": 1}, \"13\": {\"3\": 49, \"2\": 4, \"7\": 17, \"13\": 80, \"9\": 13, \"4\": 39, \"0\": 2, \"12\": 30, \"8\": 5, \"10\": 1}, \"9\": {\"8\": 34, \"3\": 35, \"13\": 31, \"14\": 1, \"0\": 6, \"2\": 47, \"10\": 2, \"12\": 22, \"9\": 32, \"7\": 28, \"4\": 1, \"15\": 1}, \"3\": {\"9\": 22, \"3\": 64, \"7\": 41, \"8\": 23, \"13\": 41, \"12\": 19, \"4\": 16, \"2\": 12, \"0\": 2}, \"2\": {\"2\": 48, \"8\": 42, \"9\": 28, \"10\": 11, \"14\": 6, \"15\": 5, \"7\": 37, \"0\": 26, \"13\": 11, \"3\": 16, \"12\": 8, \"5\": 2}, \"5\": {\"1\": 28, \"14\": 16, \"15\": 39, \"5\": 67, \"11\": 30, \"6\": 36, \"10\": 16, \"0\": 8}, \"14\": {\"2\": 6, \"0\": 35, \"10\": 48, \"1\": 24, \"6\": 25, \"15\": 33, \"14\": 45, \"5\": 19, \"11\": 5}, \"8\": {\"8\": 53, \"7\": 34, \"9\": 41, \"2\": 43, \"3\": 20, \"12\": 19, \"10\": 5, \"0\": 11, \"13\": 6, \"14\": 6, \"6\": 1, \"4\": 1}, \"7\": {\"7\": 40, \"2\": 32, \"3\": 34, \"8\": 48, \"0\": 13, \"9\": 41, \"13\": 15, \"12\": 13, \"10\": 2, \"14\": 2}, \"6\": {\"15\": 38, \"1\": 46, \"10\": 21, \"5\": 33, \"6\": 49, \"11\": 20, \"0\": 13, \"14\": 20}, \"11\": {\"11\": 121, \"6\": 27, \"1\": 31, \"15\": 19, \"5\": 22, \"10\": 9, \"14\": 7, \"0\": 4}, \"15\": {\"10\": 24, \"15\": 52, \"6\": 39, \"5\": 38, \"14\": 24, \"1\": 26, \"0\": 16, \"11\": 19, \"2\": 2}, \"1\": {\"1\": 74, \"5\": 31, \"11\": 28, \"6\": 33, \"0\": 5, \"15\": 34, \"14\": 20, \"10\": 15}}, \"ORACLE.run1_44\": {\"12\": {\"12\": 127, \"1\": 1, \"3\": 107, \"0\": 5}, \"7\": {\"5\": 6, \"4\": 48, \"9\": 46, \"7\": 51, \"6\": 14, \"14\": 22, \"10\": 46, \"2\": 5, \"13\": 1, \"15\": 1}, \"5\": {\"9\": 11, \"7\": 11, \"5\": 73, \"4\": 38, \"14\": 54, \"15\": 27, \"8\": 5, \"2\": 8, \"10\": 8, \"6\": 1, \"1\": 3, \"0\": 1}, \"15\": {\"4\": 16, \"15\": 70, \"1\": 15, \"0\": 13, \"5\": 31, \"2\": 13, \"8\": 45, \"14\": 26, \"10\": 7, \"9\": 2, \"7\": 2}, \"8\": {\"15\": 45, \"8\": 69, \"0\": 68, \"1\": 27, \"5\": 10, \"4\": 7, \"14\": 4, \"2\": 8, \"3\": 2}, \"2\": {\"14\": 12, \"4\": 6, \"2\": 130, \"1\": 50, \"15\": 15, \"8\": 7, \"10\": 7, \"5\": 10, \"7\": 1, \"9\": 2}, \"13\": {\"13\": 133, \"6\": 87, \"9\": 12, \"11\": 7, \"7\": 1}, \"4\": {\"4\": 35, \"6\": 14, \"14\": 23, \"15\": 29, \"5\": 32, \"7\": 35, \"10\": 21, \"9\": 29, \"13\": 4, \"2\": 9, \"8\": 3, \"1\": 6}, \"0\": {\"0\": 139, \"8\": 65, \"1\": 16, \"3\": 10, \"15\": 7, \"12\": 1, \"2\": 2}, \"6\": {\"13\": 83, \"6\": 112, \"9\": 35, \"7\": 9, \"10\": 1}, \"9\": {\"6\": 43, \"7\": 45, \"10\": 27, \"13\": 30, \"14\": 20, \"9\": 36, \"5\": 7, \"2\": 9, \"4\": 17, \"15\": 3, \"11\": 2, \"1\": 1}, \"11\": {\"11\": 237, \"13\": 3}, \"10\": {\"7\": 56, \"10\": 84, \"9\": 28, \"2\": 14, \"5\": 8, \"1\": 5, \"14\": 15, \"4\": 24, \"15\": 3, \"8\": 1, \"6\": 2}, \"14\": {\"2\": 8, \"4\": 46, \"14\": 57, \"5\": 47, \"8\": 3, \"7\": 22, \"15\": 25, \"10\": 23, \"9\": 8, \"1\": 1}, \"1\": {\"2\": 54, \"1\": 130, \"10\": 4, \"15\": 14, \"8\": 19, \"0\": 9, \"14\": 6, \"4\": 2, \"9\": 2}, \"3\": {\"3\": 110, \"12\": 119, \"0\": 10, \"1\": 1}}}, \"per_domain_accuracy\": {\"CORES_3\": {\"accuracy\": 0.9989098837209303, \"source?\": true}, \"CORES_4\": {\"accuracy\": 0.9981060606060606, \"source?\": true}, \"CORES_5\": {\"accuracy\": 0.9993016759776536, \"source?\": true}, \"CORES_1\": {\"accuracy\": 0.9989754098360656, \"source?\": true}, \"CORES_2\": {\"accuracy\": 0.9994703389830508, \"source?\": true}, \"ORACLE.run1_14\": {\"accuracy\": 0.4518229166666667, \"source?\": false}, \"ORACLE.run1_20\": {\"accuracy\": 0.22161458333333334, \"source?\": false}, \"ORACLE.run1_38\": {\"accuracy\": 0.5346354166666667, \"source?\": false}, \"ORACLE.run1_8\": {\"accuracy\": 0.40208333333333335, \"source?\": false}, \"ORACLE.run1_50\": {\"accuracy\": 0.40234375, \"source?\": false}, \"ORACLE.run1_32\": {\"accuracy\": 0.4908854166666667, \"source?\": false}, \"ORACLE.run1_26\": {\"accuracy\": 0.29010416666666666, \"source?\": false}, \"ORACLE.run1_44\": {\"accuracy\": 0.41484375, \"source?\": false}}}, \"history\": {\"epoch_indices\": [1, 2, 3, 4, 5, 6, 7, 8, 9], \"train_label_loss\": [0.02659311498251922, 0.0098881125781286, 0.009656956511947918, 0.006373295630378031, 0.0056957230815432155, 0.004399128911940066, 0.00482076902297772, 0.0046372748663824365, 0.003008986284617537], \"source_val_label_loss\": [0.009453337639570236, 0.013736075721681118, 0.009818015620112419, 0.020573437213897705, 0.01179687213152647, 0.02687886357307434, 0.016574913635849953, 0.012496398761868477, 0.013006973080337048], \"target_val_label_loss\": [2.150134563446045, 1.926628589630127, 1.9893990755081177, 1.8928512334823608, 1.7752704620361328, 2.0742835998535156, 1.9249216318130493, 1.9002094268798828, 1.8637210130691528], \"source_val_acc_label\": [0.9985373858447488, 0.998929794520548, 0.9988941210045662, 0.9981806506849316, 0.9989654680365296, 0.9978595890410958, 0.9990368150684932, 0.9994292237442922, 0.9993935502283106], \"target_val_acc_label\": [0.3922200520833333, 0.36057942708333335, 0.35989583333333336, 0.36080729166666664, 0.4010416666666667, 0.31354166666666666, 0.37607421875, 0.36940104166666665, 0.3785481770833333]}, \"dataset_metrics\": {\"source\": {\"train\": {\"n_unique_x\": 175135, \"n_unique_y\": 58, \"n_batch/episode\": 6284}, \"val\": {\"n_unique_x\": 37196, \"n_unique_y\": 58, \"n_batch/episode\": 876}, \"test\": {\"n_unique_x\": 37634, \"n_unique_y\": 58, \"n_batch/episode\": 891}}, \"target\": {\"train\": {\"n_unique_x\": 179200, \"n_unique_y\": 16, \"n_batch/episode\": 6720}, \"val\": {\"n_unique_x\": 38400, \"n_unique_y\": 16, \"n_batch/episode\": 960}, \"test\": {\"n_unique_x\": 38400, \"n_unique_y\": 16, \"n_batch/episode\": 960}}}}'"
      ]
     },
     "execution_count": 29,
     "metadata": {},
     "output_type": "execute_result"
    }
   ],
   "source": [
    "json.dumps(experiment)"
   ]
  }
 ],
 "metadata": {
  "celltoolbar": "Tags",
  "kernelspec": {
   "display_name": "Python 3 (ipykernel)",
   "language": "python",
   "name": "python3"
  },
  "language_info": {
   "codemirror_mode": {
    "name": "ipython",
    "version": 3
   },
   "file_extension": ".py",
   "mimetype": "text/x-python",
   "name": "python",
   "nbconvert_exporter": "python",
   "pygments_lexer": "ipython3",
   "version": "3.8.12"
  },
  "papermill": {
   "default_parameters": {},
   "duration": 2607.862151,
   "end_time": "2022-03-22T03:54:44.333659",
   "environment_variables": {},
   "exception": null,
   "input_path": "/root/csc500-main/csc500-notebooks/templates/tl_ptn_template.ipynb",
   "output_path": "trial.ipynb",
   "parameters": {
    "parameters": {
     "BEST_MODEL_PATH": "./best_model.pth",
     "NUM_LOGS_PER_EPOCH": 10,
     "criteria_for_best": "target_accuracy",
     "dataset_seed": 1337,
     "datasets": [
      {
       "domain_prefix": "CORES_",
       "domains": [
        1,
        2,
        3,
        4,
        5
       ],
       "episode_transforms": [],
       "labels": [
        "1-10.",
        "1-11.",
        "1-15.",
        "1-16.",
        "1-17.",
        "1-18.",
        "1-19.",
        "10-4.",
        "10-7.",
        "11-1.",
        "11-14.",
        "11-17.",
        "11-20.",
        "11-7.",
        "13-20.",
        "13-8.",
        "14-10.",
        "14-11.",
        "14-14.",
        "14-7.",
        "15-1.",
        "15-20.",
        "16-1.",
        "16-16.",
        "17-10.",
        "17-11.",
        "17-2.",
        "19-1.",
        "19-16.",
        "19-19.",
        "19-20.",
        "19-3.",
        "2-10.",
        "2-11.",
        "2-17.",
        "2-18.",
        "2-20.",
        "2-3.",
        "2-4.",
        "2-5.",
        "2-6.",
        "2-7.",
        "2-8.",
        "3-13.",
        "3-18.",
        "3-3.",
        "4-1.",
        "4-10.",
        "4-11.",
        "4-19.",
        "5-5.",
        "6-15.",
        "7-10.",
        "7-14.",
        "8-18.",
        "8-20.",
        "8-3.",
        "8-8."
       ],
       "num_examples_per_domain_per_label": -1,
       "pickle_path": "/root/csc500-main/datasets/cores.stratified_ds.2022A.pkl",
       "source_or_target_dataset": "source",
       "x_transforms": []
      },
      {
       "domain_prefix": "ORACLE.run1_",
       "domains": [
        32,
        38,
        8,
        44,
        14,
        50,
        20,
        26
       ],
       "episode_transforms": [],
       "labels": [
        "3123D52",
        "3123D65",
        "3123D79",
        "3123D80",
        "3123D54",
        "3123D70",
        "3123D7B",
        "3123D89",
        "3123D58",
        "3123D76",
        "3123D7D",
        "3123EFE",
        "3123D64",
        "3123D78",
        "3123D7E",
        "3124E4A"
       ],
       "num_examples_per_domain_per_label": 2000,
       "pickle_path": "/root/csc500-main/datasets/oracle.Run1_10kExamples_stratified_ds.2022A.pkl",
       "source_or_target_dataset": "target",
       "x_transforms": []
      }
     ],
     "device": "cuda",
     "experiment_name": "tl_1v2:cores-oracle.run1.limited",
     "lr": 0.0001,
     "n_epoch": 50,
     "n_query": 2,
     "n_shot": 3,
     "n_way": 16,
     "patience": 3,
     "seed": 1337,
     "test_k_factor": 2,
     "torch_default_dtype": "torch.float32",
     "train_k_factor": 3,
     "val_k_factor": 2,
     "x_net": [
      {
       "class": "nnReshape",
       "kargs": {
        "shape": [
         -1,
         1,
         2,
         256
        ]
       }
      },
      {
       "class": "Conv2d",
       "kargs": {
        "bias": false,
        "in_channels": 1,
        "kernel_size": [
         1,
         7
        ],
        "out_channels": 256,
        "padding": [
         0,
         3
        ]
       }
      },
      {
       "class": "ReLU",
       "kargs": {
        "inplace": true
       }
      },
      {
       "class": "BatchNorm2d",
       "kargs": {
        "num_features": 256
       }
      },
      {
       "class": "Conv2d",
       "kargs": {
        "bias": true,
        "in_channels": 256,
        "kernel_size": [
         2,
         7
        ],
        "out_channels": 80,
        "padding": [
         0,
         3
        ]
       }
      },
      {
       "class": "ReLU",
       "kargs": {
        "inplace": true
       }
      },
      {
       "class": "BatchNorm2d",
       "kargs": {
        "num_features": 80
       }
      },
      {
       "class": "Flatten",
       "kargs": {}
      },
      {
       "class": "Linear",
       "kargs": {
        "in_features": 20480,
        "out_features": 256
       }
      },
      {
       "class": "ReLU",
       "kargs": {
        "inplace": true
       }
      },
      {
       "class": "BatchNorm1d",
       "kargs": {
        "num_features": 256
       }
      },
      {
       "class": "Linear",
       "kargs": {
        "in_features": 256,
        "out_features": 256
       }
      }
     ]
    }
   },
   "start_time": "2022-03-22T03:11:16.471508",
   "version": "2.3.4"
  }
 },
 "nbformat": 4,
 "nbformat_minor": 5
}