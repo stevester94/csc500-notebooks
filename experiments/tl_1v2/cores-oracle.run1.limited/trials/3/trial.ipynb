{
 "cells": [
  {
   "cell_type": "markdown",
   "id": "9fea5f46",
   "metadata": {
    "papermill": {
     "duration": 0.025711,
     "end_time": "2022-03-22T03:54:45.538656",
     "exception": false,
     "start_time": "2022-03-22T03:54:45.512945",
     "status": "completed"
    },
    "tags": []
   },
   "source": [
    "# Transfer Learning Template"
   ]
  },
  {
   "cell_type": "code",
   "execution_count": 1,
   "id": "0902182a",
   "metadata": {
    "execution": {
     "iopub.execute_input": "2022-03-22T03:54:45.607897Z",
     "iopub.status.busy": "2022-03-22T03:54:45.600326Z",
     "iopub.status.idle": "2022-03-22T03:54:48.172255Z",
     "shell.execute_reply": "2022-03-22T03:54:48.171202Z"
    },
    "papermill": {
     "duration": 2.611869,
     "end_time": "2022-03-22T03:54:48.172443",
     "exception": false,
     "start_time": "2022-03-22T03:54:45.560574",
     "status": "completed"
    },
    "tags": []
   },
   "outputs": [],
   "source": [
    "%load_ext autoreload\n",
    "%autoreload 2\n",
    "%matplotlib inline\n",
    "\n",
    "    \n",
    "import os, json, sys, time, random\n",
    "import numpy as np\n",
    "import torch\n",
    "from torch.optim import Adam\n",
    "from  easydict import EasyDict\n",
    "import matplotlib.pyplot as plt\n",
    "\n",
    "from steves_models.steves_ptn import Steves_Prototypical_Network\n",
    "\n",
    "from steves_utils.lazy_iterable_wrapper import Lazy_Iterable_Wrapper\n",
    "from steves_utils.iterable_aggregator import Iterable_Aggregator\n",
    "from steves_utils.ptn_train_eval_test_jig import  PTN_Train_Eval_Test_Jig\n",
    "from steves_utils.torch_sequential_builder import build_sequential\n",
    "from steves_utils.torch_utils import get_dataset_metrics, ptn_confusion_by_domain_over_dataloader\n",
    "from steves_utils.utils_v2 import (per_domain_accuracy_from_confusion, get_datasets_base_path)\n",
    "from steves_utils.PTN.utils import independent_accuracy_assesment\n",
    "\n",
    "from torch.utils.data import DataLoader\n",
    "\n",
    "from steves_utils.stratified_dataset.episodic_accessor import Episodic_Accessor_Factory\n",
    "\n",
    "from steves_utils.ptn_do_report import (\n",
    "    get_loss_curve,\n",
    "    get_results_table,\n",
    "    get_parameters_table,\n",
    "    get_domain_accuracies,\n",
    ")\n",
    "\n",
    "from steves_utils.transforms import get_chained_transform"
   ]
  },
  {
   "cell_type": "markdown",
   "id": "41c840b4",
   "metadata": {
    "papermill": {
     "duration": 0.02141,
     "end_time": "2022-03-22T03:54:48.226855",
     "exception": false,
     "start_time": "2022-03-22T03:54:48.205445",
     "status": "completed"
    },
    "tags": []
   },
   "source": [
    "# Allowed Parameters\n",
    "These are allowed parameters, not defaults\n",
    "Each of these values need to be present in the injected parameters (the notebook will raise an exception if they are not present)\n",
    "\n",
    "Papermill uses the cell tag \"parameters\" to inject the real parameters below this cell.\n",
    "Enable tags to see what I mean"
   ]
  },
  {
   "cell_type": "code",
   "execution_count": 2,
   "id": "fd44eb83",
   "metadata": {
    "execution": {
     "iopub.execute_input": "2022-03-22T03:54:48.272742Z",
     "iopub.status.busy": "2022-03-22T03:54:48.272071Z",
     "iopub.status.idle": "2022-03-22T03:54:48.295466Z",
     "shell.execute_reply": "2022-03-22T03:54:48.294634Z"
    },
    "papermill": {
     "duration": 0.049164,
     "end_time": "2022-03-22T03:54:48.295666",
     "exception": false,
     "start_time": "2022-03-22T03:54:48.246502",
     "status": "completed"
    },
    "tags": []
   },
   "outputs": [],
   "source": [
    "required_parameters = {\n",
    "    \"experiment_name\",\n",
    "    \"lr\",\n",
    "    \"device\",\n",
    "    \"seed\",\n",
    "    \"dataset_seed\",\n",
    "    \"n_shot\",\n",
    "    \"n_query\",\n",
    "    \"n_way\",\n",
    "    \"train_k_factor\",\n",
    "    \"val_k_factor\",\n",
    "    \"test_k_factor\",\n",
    "    \"n_epoch\",\n",
    "    \"patience\",\n",
    "    \"criteria_for_best\",\n",
    "    \"x_net\",\n",
    "    \"datasets\",\n",
    "    \"torch_default_dtype\",\n",
    "    \"NUM_LOGS_PER_EPOCH\",\n",
    "    \"BEST_MODEL_PATH\",\n",
    "    \"x_shape\",\n",
    "}"
   ]
  },
  {
   "cell_type": "code",
   "execution_count": 3,
   "id": "fa3f0049",
   "metadata": {
    "execution": {
     "iopub.execute_input": "2022-03-22T03:54:48.357227Z",
     "iopub.status.busy": "2022-03-22T03:54:48.355483Z",
     "iopub.status.idle": "2022-03-22T03:54:48.379712Z",
     "shell.execute_reply": "2022-03-22T03:54:48.379293Z"
    },
    "papermill": {
     "duration": 0.057322,
     "end_time": "2022-03-22T03:54:48.379804",
     "exception": false,
     "start_time": "2022-03-22T03:54:48.322482",
     "status": "completed"
    },
    "tags": [
     "parameters"
    ]
   },
   "outputs": [],
   "source": [
    "from steves_utils.CORES.utils import (\n",
    "    ALL_NODES,\n",
    "    ALL_NODES_MINIMUM_1000_EXAMPLES,\n",
    "    ALL_DAYS\n",
    ")\n",
    "\n",
    "from steves_utils.ORACLE.utils_v2 import (\n",
    "    ALL_DISTANCES_FEET_NARROWED,\n",
    "    ALL_RUNS,\n",
    "    ALL_SERIAL_NUMBERS,\n",
    ")\n",
    "\n",
    "standalone_parameters = {}\n",
    "standalone_parameters[\"experiment_name\"] = \"STANDALONE PTN\"\n",
    "standalone_parameters[\"lr\"] = 0.001\n",
    "standalone_parameters[\"device\"] = \"cuda\"\n",
    "\n",
    "standalone_parameters[\"seed\"] = 1337\n",
    "standalone_parameters[\"dataset_seed\"] = 1337\n",
    "\n",
    "standalone_parameters[\"n_way\"] = 8\n",
    "standalone_parameters[\"n_shot\"] = 3\n",
    "standalone_parameters[\"n_query\"]  = 2\n",
    "standalone_parameters[\"train_k_factor\"] = 1\n",
    "standalone_parameters[\"val_k_factor\"] = 2\n",
    "standalone_parameters[\"test_k_factor\"] = 2\n",
    "\n",
    "\n",
    "standalone_parameters[\"n_epoch\"] = 50\n",
    "\n",
    "standalone_parameters[\"patience\"] = 10\n",
    "standalone_parameters[\"criteria_for_best\"] = \"source_loss\"\n",
    "\n",
    "standalone_parameters[\"datasets\"] = [\n",
    "    {\n",
    "        \"labels\": ALL_SERIAL_NUMBERS,\n",
    "        \"domains\": ALL_DISTANCES_FEET_NARROWED,\n",
    "        \"num_examples_per_domain_per_label\": 100,\n",
    "        \"pickle_path\": os.path.join(get_datasets_base_path(), \"oracle.Run1_framed_2000Examples_stratified_ds.2022A.pkl\"),\n",
    "        \"source_or_target_dataset\": \"source\",\n",
    "        \"x_transforms\": [\"unit_mag\", \"minus_two\"],\n",
    "        \"episode_transforms\": [],\n",
    "        \"domain_prefix\": \"ORACLE_\"\n",
    "    },\n",
    "    {\n",
    "        \"labels\": ALL_NODES,\n",
    "        \"domains\": ALL_DAYS,\n",
    "        \"num_examples_per_domain_per_label\": 100,\n",
    "        \"pickle_path\": os.path.join(get_datasets_base_path(), \"cores.stratified_ds.2022A.pkl\"),\n",
    "        \"source_or_target_dataset\": \"target\",\n",
    "        \"x_transforms\": [\"unit_power\", \"times_zero\"],\n",
    "        \"episode_transforms\": [],\n",
    "        \"domain_prefix\": \"CORES_\"\n",
    "    }   \n",
    "]\n",
    "\n",
    "standalone_parameters[\"torch_default_dtype\"] = \"torch.float32\" \n",
    "\n",
    "\n",
    "\n",
    "standalone_parameters[\"x_net\"] =     [\n",
    "    {\"class\": \"nnReshape\", \"kargs\": {\"shape\":[-1, 1, 2, 256]}},\n",
    "    {\"class\": \"Conv2d\", \"kargs\": { \"in_channels\":1, \"out_channels\":256, \"kernel_size\":(1,7), \"bias\":False, \"padding\":(0,3), },},\n",
    "    {\"class\": \"ReLU\", \"kargs\": {\"inplace\": True}},\n",
    "    {\"class\": \"BatchNorm2d\", \"kargs\": {\"num_features\":256}},\n",
    "\n",
    "    {\"class\": \"Conv2d\", \"kargs\": { \"in_channels\":256, \"out_channels\":80, \"kernel_size\":(2,7), \"bias\":True, \"padding\":(0,3), },},\n",
    "    {\"class\": \"ReLU\", \"kargs\": {\"inplace\": True}},\n",
    "    {\"class\": \"BatchNorm2d\", \"kargs\": {\"num_features\":80}},\n",
    "    {\"class\": \"Flatten\", \"kargs\": {}},\n",
    "\n",
    "    {\"class\": \"Linear\", \"kargs\": {\"in_features\": 80*256, \"out_features\": 256}}, # 80 units per IQ pair\n",
    "    {\"class\": \"ReLU\", \"kargs\": {\"inplace\": True}},\n",
    "    {\"class\": \"BatchNorm1d\", \"kargs\": {\"num_features\":256}},\n",
    "\n",
    "    {\"class\": \"Linear\", \"kargs\": {\"in_features\": 256, \"out_features\": 256}},\n",
    "]\n",
    "\n",
    "# Parameters relevant to results\n",
    "# These parameters will basically never need to change\n",
    "standalone_parameters[\"NUM_LOGS_PER_EPOCH\"] = 10\n",
    "standalone_parameters[\"BEST_MODEL_PATH\"] = \"./best_model.pth\"\n",
    "\n",
    "\n",
    "\n",
    "\n"
   ]
  },
  {
   "cell_type": "code",
   "execution_count": 4,
   "id": "89a30755",
   "metadata": {
    "execution": {
     "iopub.execute_input": "2022-03-22T03:54:48.436920Z",
     "iopub.status.busy": "2022-03-22T03:54:48.425737Z",
     "iopub.status.idle": "2022-03-22T03:54:48.459589Z",
     "shell.execute_reply": "2022-03-22T03:54:48.458716Z"
    },
    "papermill": {
     "duration": 0.056655,
     "end_time": "2022-03-22T03:54:48.459763",
     "exception": false,
     "start_time": "2022-03-22T03:54:48.403108",
     "status": "completed"
    },
    "tags": [
     "injected-parameters"
    ]
   },
   "outputs": [],
   "source": [
    "# Parameters\n",
    "parameters = {\n",
    "    \"experiment_name\": \"tl_1v2:cores-oracle.run1.limited\",\n",
    "    \"device\": \"cuda\",\n",
    "    \"lr\": 0.0001,\n",
    "    \"n_shot\": 3,\n",
    "    \"n_query\": 2,\n",
    "    \"train_k_factor\": 3,\n",
    "    \"val_k_factor\": 2,\n",
    "    \"test_k_factor\": 2,\n",
    "    \"torch_default_dtype\": \"torch.float32\",\n",
    "    \"n_epoch\": 50,\n",
    "    \"patience\": 3,\n",
    "    \"criteria_for_best\": \"target_accuracy\",\n",
    "    \"x_net\": [\n",
    "        {\"class\": \"nnReshape\", \"kargs\": {\"shape\": [-1, 1, 2, 256]}},\n",
    "        {\n",
    "            \"class\": \"Conv2d\",\n",
    "            \"kargs\": {\n",
    "                \"in_channels\": 1,\n",
    "                \"out_channels\": 256,\n",
    "                \"kernel_size\": [1, 7],\n",
    "                \"bias\": False,\n",
    "                \"padding\": [0, 3],\n",
    "            },\n",
    "        },\n",
    "        {\"class\": \"ReLU\", \"kargs\": {\"inplace\": True}},\n",
    "        {\"class\": \"BatchNorm2d\", \"kargs\": {\"num_features\": 256}},\n",
    "        {\n",
    "            \"class\": \"Conv2d\",\n",
    "            \"kargs\": {\n",
    "                \"in_channels\": 256,\n",
    "                \"out_channels\": 80,\n",
    "                \"kernel_size\": [2, 7],\n",
    "                \"bias\": True,\n",
    "                \"padding\": [0, 3],\n",
    "            },\n",
    "        },\n",
    "        {\"class\": \"ReLU\", \"kargs\": {\"inplace\": True}},\n",
    "        {\"class\": \"BatchNorm2d\", \"kargs\": {\"num_features\": 80}},\n",
    "        {\"class\": \"Flatten\", \"kargs\": {}},\n",
    "        {\"class\": \"Linear\", \"kargs\": {\"in_features\": 20480, \"out_features\": 256}},\n",
    "        {\"class\": \"ReLU\", \"kargs\": {\"inplace\": True}},\n",
    "        {\"class\": \"BatchNorm1d\", \"kargs\": {\"num_features\": 256}},\n",
    "        {\"class\": \"Linear\", \"kargs\": {\"in_features\": 256, \"out_features\": 256}},\n",
    "    ],\n",
    "    \"NUM_LOGS_PER_EPOCH\": 10,\n",
    "    \"BEST_MODEL_PATH\": \"./best_model.pth\",\n",
    "    \"n_way\": 16,\n",
    "    \"datasets\": [\n",
    "        {\n",
    "            \"labels\": [\n",
    "                \"1-10.\",\n",
    "                \"1-11.\",\n",
    "                \"1-15.\",\n",
    "                \"1-16.\",\n",
    "                \"1-17.\",\n",
    "                \"1-18.\",\n",
    "                \"1-19.\",\n",
    "                \"10-4.\",\n",
    "                \"10-7.\",\n",
    "                \"11-1.\",\n",
    "                \"11-14.\",\n",
    "                \"11-17.\",\n",
    "                \"11-20.\",\n",
    "                \"11-7.\",\n",
    "                \"13-20.\",\n",
    "                \"13-8.\",\n",
    "                \"14-10.\",\n",
    "                \"14-11.\",\n",
    "                \"14-14.\",\n",
    "                \"14-7.\",\n",
    "                \"15-1.\",\n",
    "                \"15-20.\",\n",
    "                \"16-1.\",\n",
    "                \"16-16.\",\n",
    "                \"17-10.\",\n",
    "                \"17-11.\",\n",
    "                \"17-2.\",\n",
    "                \"19-1.\",\n",
    "                \"19-16.\",\n",
    "                \"19-19.\",\n",
    "                \"19-20.\",\n",
    "                \"19-3.\",\n",
    "                \"2-10.\",\n",
    "                \"2-11.\",\n",
    "                \"2-17.\",\n",
    "                \"2-18.\",\n",
    "                \"2-20.\",\n",
    "                \"2-3.\",\n",
    "                \"2-4.\",\n",
    "                \"2-5.\",\n",
    "                \"2-6.\",\n",
    "                \"2-7.\",\n",
    "                \"2-8.\",\n",
    "                \"3-13.\",\n",
    "                \"3-18.\",\n",
    "                \"3-3.\",\n",
    "                \"4-1.\",\n",
    "                \"4-10.\",\n",
    "                \"4-11.\",\n",
    "                \"4-19.\",\n",
    "                \"5-5.\",\n",
    "                \"6-15.\",\n",
    "                \"7-10.\",\n",
    "                \"7-14.\",\n",
    "                \"8-18.\",\n",
    "                \"8-20.\",\n",
    "                \"8-3.\",\n",
    "                \"8-8.\",\n",
    "            ],\n",
    "            \"domains\": [1, 2, 3, 4, 5],\n",
    "            \"num_examples_per_domain_per_label\": -1,\n",
    "            \"pickle_path\": \"/root/csc500-main/datasets/cores.stratified_ds.2022A.pkl\",\n",
    "            \"source_or_target_dataset\": \"target\",\n",
    "            \"x_transforms\": [\"unit_power\"],\n",
    "            \"episode_transforms\": [],\n",
    "            \"domain_prefix\": \"CORES_\",\n",
    "        },\n",
    "        {\n",
    "            \"labels\": [\n",
    "                \"3123D52\",\n",
    "                \"3123D65\",\n",
    "                \"3123D79\",\n",
    "                \"3123D80\",\n",
    "                \"3123D54\",\n",
    "                \"3123D70\",\n",
    "                \"3123D7B\",\n",
    "                \"3123D89\",\n",
    "                \"3123D58\",\n",
    "                \"3123D76\",\n",
    "                \"3123D7D\",\n",
    "                \"3123EFE\",\n",
    "                \"3123D64\",\n",
    "                \"3123D78\",\n",
    "                \"3123D7E\",\n",
    "                \"3124E4A\",\n",
    "            ],\n",
    "            \"domains\": [32, 38, 8, 44, 14, 50, 20, 26],\n",
    "            \"num_examples_per_domain_per_label\": 2000,\n",
    "            \"pickle_path\": \"/root/csc500-main/datasets/oracle.Run1_10kExamples_stratified_ds.2022A.pkl\",\n",
    "            \"source_or_target_dataset\": \"source\",\n",
    "            \"x_transforms\": [\"unit_power\"],\n",
    "            \"episode_transforms\": [],\n",
    "            \"domain_prefix\": \"ORACLE.run1_\",\n",
    "        },\n",
    "    ],\n",
    "    \"dataset_seed\": 1337,\n",
    "    \"seed\": 1337,\n",
    "}\n"
   ]
  },
  {
   "cell_type": "code",
   "execution_count": 5,
   "id": "8fa1cc33",
   "metadata": {
    "execution": {
     "iopub.execute_input": "2022-03-22T03:54:48.511156Z",
     "iopub.status.busy": "2022-03-22T03:54:48.510773Z",
     "iopub.status.idle": "2022-03-22T03:54:48.531375Z",
     "shell.execute_reply": "2022-03-22T03:54:48.530548Z"
    },
    "papermill": {
     "duration": 0.044542,
     "end_time": "2022-03-22T03:54:48.531574",
     "exception": false,
     "start_time": "2022-03-22T03:54:48.487032",
     "status": "completed"
    },
    "tags": []
   },
   "outputs": [],
   "source": [
    "# Set this to True if you want to run this template directly\n",
    "STANDALONE = False\n",
    "if STANDALONE:\n",
    "    print(\"parameters not injected, running with standalone_parameters\")\n",
    "    parameters = standalone_parameters\n",
    "\n",
    "if not 'parameters' in locals() and not 'parameters' in globals():\n",
    "    raise Exception(\"Parameter injection failed\")\n",
    "\n",
    "#Use an easy dict for all the parameters\n",
    "p = EasyDict(parameters)\n",
    "\n",
    "if \"x_shape\" not in p:\n",
    "    p.x_shape = [2,256] # Default to this if we dont supply x_shape\n",
    "\n",
    "\n",
    "supplied_keys = set(p.keys())\n",
    "\n",
    "if  supplied_keys != required_parameters:\n",
    "    print(\"Parameters are incorrect\")\n",
    "    if len(supplied_keys - required_parameters)>0: print(\"Shouldn't have:\", str(supplied_keys - required_parameters))\n",
    "    if len(required_parameters - supplied_keys)>0: print(\"Need to have:\", str(required_parameters - supplied_keys))\n",
    "    raise RuntimeError(\"Parameters are incorrect\")"
   ]
  },
  {
   "cell_type": "code",
   "execution_count": 6,
   "id": "3a028d58",
   "metadata": {
    "execution": {
     "iopub.execute_input": "2022-03-22T03:54:48.583080Z",
     "iopub.status.busy": "2022-03-22T03:54:48.582703Z",
     "iopub.status.idle": "2022-03-22T03:54:48.625109Z",
     "shell.execute_reply": "2022-03-22T03:54:48.624339Z"
    },
    "papermill": {
     "duration": 0.066526,
     "end_time": "2022-03-22T03:54:48.625278",
     "exception": false,
     "start_time": "2022-03-22T03:54:48.558752",
     "status": "completed"
    },
    "tags": []
   },
   "outputs": [],
   "source": [
    "###################################\n",
    "# Set the RNGs and make it all deterministic\n",
    "###################################\n",
    "np.random.seed(p.seed)\n",
    "random.seed(p.seed)\n",
    "torch.manual_seed(p.seed)\n",
    "\n",
    "torch.use_deterministic_algorithms(True) "
   ]
  },
  {
   "cell_type": "code",
   "execution_count": 7,
   "id": "b691acf6",
   "metadata": {
    "execution": {
     "iopub.execute_input": "2022-03-22T03:54:48.676242Z",
     "iopub.status.busy": "2022-03-22T03:54:48.675864Z",
     "iopub.status.idle": "2022-03-22T03:54:48.699733Z",
     "shell.execute_reply": "2022-03-22T03:54:48.700419Z"
    },
    "papermill": {
     "duration": 0.048884,
     "end_time": "2022-03-22T03:54:48.700629",
     "exception": false,
     "start_time": "2022-03-22T03:54:48.651745",
     "status": "completed"
    },
    "tags": []
   },
   "outputs": [],
   "source": [
    "###########################################\n",
    "# The stratified datasets honor this\n",
    "###########################################\n",
    "torch.set_default_dtype(eval(p.torch_default_dtype))"
   ]
  },
  {
   "cell_type": "code",
   "execution_count": 8,
   "id": "b5fba671",
   "metadata": {
    "execution": {
     "iopub.execute_input": "2022-03-22T03:54:48.752023Z",
     "iopub.status.busy": "2022-03-22T03:54:48.751649Z",
     "iopub.status.idle": "2022-03-22T03:54:48.809268Z",
     "shell.execute_reply": "2022-03-22T03:54:48.808532Z"
    },
    "papermill": {
     "duration": 0.082055,
     "end_time": "2022-03-22T03:54:48.809442",
     "exception": false,
     "start_time": "2022-03-22T03:54:48.727387",
     "status": "completed"
    },
    "tags": []
   },
   "outputs": [],
   "source": [
    "###################################\n",
    "# Build the network(s)\n",
    "# Note: It's critical to do this AFTER setting the RNG\n",
    "###################################\n",
    "x_net = build_sequential(p.x_net)"
   ]
  },
  {
   "cell_type": "code",
   "execution_count": 9,
   "id": "5d7e61cc",
   "metadata": {
    "execution": {
     "iopub.execute_input": "2022-03-22T03:54:48.861709Z",
     "iopub.status.busy": "2022-03-22T03:54:48.861146Z",
     "iopub.status.idle": "2022-03-22T03:54:48.885821Z",
     "shell.execute_reply": "2022-03-22T03:54:48.884991Z"
    },
    "papermill": {
     "duration": 0.049983,
     "end_time": "2022-03-22T03:54:48.885989",
     "exception": false,
     "start_time": "2022-03-22T03:54:48.836006",
     "status": "completed"
    },
    "tags": []
   },
   "outputs": [],
   "source": [
    "start_time_secs = time.time()"
   ]
  },
  {
   "cell_type": "code",
   "execution_count": 10,
   "id": "c6b67dfd",
   "metadata": {
    "execution": {
     "iopub.execute_input": "2022-03-22T03:54:48.944177Z",
     "iopub.status.busy": "2022-03-22T03:54:48.937889Z",
     "iopub.status.idle": "2022-03-22T03:54:48.959620Z",
     "shell.execute_reply": "2022-03-22T03:54:48.958786Z"
    },
    "papermill": {
     "duration": 0.047139,
     "end_time": "2022-03-22T03:54:48.959789",
     "exception": false,
     "start_time": "2022-03-22T03:54:48.912650",
     "status": "completed"
    },
    "tags": []
   },
   "outputs": [],
   "source": [
    "p.domains_source = []\n",
    "p.domains_target = []\n",
    "\n",
    "\n",
    "train_original_source = []\n",
    "val_original_source   = []\n",
    "test_original_source  = []\n",
    "\n",
    "train_original_target = []\n",
    "val_original_target   = []\n",
    "test_original_target  = []"
   ]
  },
  {
   "cell_type": "code",
   "execution_count": 11,
   "id": "e3d9c3d3",
   "metadata": {
    "execution": {
     "iopub.execute_input": "2022-03-22T03:54:49.016157Z",
     "iopub.status.busy": "2022-03-22T03:54:49.015782Z",
     "iopub.status.idle": "2022-03-22T03:54:49.040063Z",
     "shell.execute_reply": "2022-03-22T03:54:49.039170Z"
    },
    "papermill": {
     "duration": 0.049144,
     "end_time": "2022-03-22T03:54:49.040239",
     "exception": false,
     "start_time": "2022-03-22T03:54:48.991095",
     "status": "completed"
    },
    "tags": []
   },
   "outputs": [],
   "source": [
    "# global_x_transform_func = lambda x: normalize(x.to(torch.get_default_dtype()), \"unit_power\") # unit_power, unit_mag\n",
    "# global_x_transform_func = lambda x: normalize(x, \"unit_power\") # unit_power, unit_mag"
   ]
  },
  {
   "cell_type": "code",
   "execution_count": 12,
   "id": "acb78fd2",
   "metadata": {
    "execution": {
     "iopub.execute_input": "2022-03-22T03:54:49.096240Z",
     "iopub.status.busy": "2022-03-22T03:54:49.095566Z",
     "iopub.status.idle": "2022-03-22T03:54:49.116548Z",
     "shell.execute_reply": "2022-03-22T03:54:49.115734Z"
    },
    "papermill": {
     "duration": 0.049056,
     "end_time": "2022-03-22T03:54:49.116713",
     "exception": false,
     "start_time": "2022-03-22T03:54:49.067657",
     "status": "completed"
    },
    "tags": []
   },
   "outputs": [],
   "source": [
    "def add_dataset(\n",
    "    labels,\n",
    "    domains,\n",
    "    pickle_path,\n",
    "    x_transforms,\n",
    "    episode_transforms,\n",
    "    domain_prefix,\n",
    "    num_examples_per_domain_per_label,\n",
    "    source_or_target_dataset:str,\n",
    "    iterator_seed=p.seed,\n",
    "    dataset_seed=p.dataset_seed,\n",
    "    n_shot=p.n_shot,\n",
    "    n_way=p.n_way,\n",
    "    n_query=p.n_query,\n",
    "    train_val_test_k_factors=(p.train_k_factor,p.val_k_factor,p.test_k_factor),\n",
    "):\n",
    "   \n",
    "    if x_transforms == []: x_transform = None\n",
    "    else: x_transform = get_chained_transform(x_transforms)\n",
    "    \n",
    "    if episode_transforms == []: episode_transform = None\n",
    "    else: raise Exception(\"episode_transforms not implemented\")\n",
    "    \n",
    "    episode_transform = lambda tup, _prefix=domain_prefix: (_prefix + str(tup[0]), tup[1])\n",
    "\n",
    "\n",
    "    eaf = Episodic_Accessor_Factory(\n",
    "        labels=labels,\n",
    "        domains=domains,\n",
    "        num_examples_per_domain_per_label=num_examples_per_domain_per_label,\n",
    "        iterator_seed=iterator_seed,\n",
    "        dataset_seed=dataset_seed,\n",
    "        n_shot=n_shot,\n",
    "        n_way=n_way,\n",
    "        n_query=n_query,\n",
    "        train_val_test_k_factors=train_val_test_k_factors,\n",
    "        pickle_path=pickle_path,\n",
    "        x_transform_func=x_transform,\n",
    "    )\n",
    "\n",
    "    train, val, test = eaf.get_train(), eaf.get_val(), eaf.get_test()\n",
    "    train = Lazy_Iterable_Wrapper(train, episode_transform)\n",
    "    val = Lazy_Iterable_Wrapper(val, episode_transform)\n",
    "    test = Lazy_Iterable_Wrapper(test, episode_transform)\n",
    "\n",
    "    if source_or_target_dataset==\"source\":\n",
    "        train_original_source.append(train)\n",
    "        val_original_source.append(val)\n",
    "        test_original_source.append(test)\n",
    "\n",
    "        p.domains_source.extend(\n",
    "            [domain_prefix + str(u) for u in domains]\n",
    "        )\n",
    "    elif source_or_target_dataset==\"target\":\n",
    "        train_original_target.append(train)\n",
    "        val_original_target.append(val)\n",
    "        test_original_target.append(test)\n",
    "        p.domains_target.extend(\n",
    "            [domain_prefix + str(u) for u in domains]\n",
    "        )\n",
    "    else:\n",
    "        raise Exception(f\"invalid source_or_target_dataset: {source_or_target_dataset}\")\n",
    "    "
   ]
  },
  {
   "cell_type": "code",
   "execution_count": 13,
   "id": "fe266617",
   "metadata": {
    "execution": {
     "iopub.execute_input": "2022-03-22T03:54:49.169052Z",
     "iopub.status.busy": "2022-03-22T03:54:49.168421Z",
     "iopub.status.idle": "2022-03-22T03:55:36.595563Z",
     "shell.execute_reply": "2022-03-22T03:55:36.594632Z"
    },
    "papermill": {
     "duration": 47.451265,
     "end_time": "2022-03-22T03:55:36.595751",
     "exception": false,
     "start_time": "2022-03-22T03:54:49.144486",
     "status": "completed"
    },
    "tags": []
   },
   "outputs": [],
   "source": [
    "for ds in p.datasets:\n",
    "    add_dataset(**ds)"
   ]
  },
  {
   "cell_type": "code",
   "execution_count": 14,
   "id": "b90d65ac",
   "metadata": {
    "execution": {
     "iopub.execute_input": "2022-03-22T03:55:36.647988Z",
     "iopub.status.busy": "2022-03-22T03:55:36.647458Z",
     "iopub.status.idle": "2022-03-22T03:55:36.675198Z",
     "shell.execute_reply": "2022-03-22T03:55:36.674357Z"
    },
    "papermill": {
     "duration": 0.052591,
     "end_time": "2022-03-22T03:55:36.675362",
     "exception": false,
     "start_time": "2022-03-22T03:55:36.622771",
     "status": "completed"
    },
    "tags": []
   },
   "outputs": [],
   "source": [
    "# from steves_utils.CORES.utils import (\n",
    "#     ALL_NODES,\n",
    "#     ALL_NODES_MINIMUM_1000_EXAMPLES,\n",
    "#     ALL_DAYS\n",
    "# )\n",
    "\n",
    "# add_dataset(\n",
    "#     labels=ALL_NODES,\n",
    "#     domains = ALL_DAYS,\n",
    "#     num_examples_per_domain_per_label=100,\n",
    "#     pickle_path=os.path.join(get_datasets_base_path(), \"cores.stratified_ds.2022A.pkl\"),\n",
    "#     source_or_target_dataset=\"target\",\n",
    "#     x_transform_func=global_x_transform_func,\n",
    "#     domain_modifier=lambda u: f\"cores_{u}\"\n",
    "# )"
   ]
  },
  {
   "cell_type": "code",
   "execution_count": 15,
   "id": "76db484d",
   "metadata": {
    "execution": {
     "iopub.execute_input": "2022-03-22T03:55:36.730197Z",
     "iopub.status.busy": "2022-03-22T03:55:36.729823Z",
     "iopub.status.idle": "2022-03-22T03:55:36.753877Z",
     "shell.execute_reply": "2022-03-22T03:55:36.753165Z"
    },
    "papermill": {
     "duration": 0.048354,
     "end_time": "2022-03-22T03:55:36.754033",
     "exception": false,
     "start_time": "2022-03-22T03:55:36.705679",
     "status": "completed"
    },
    "tags": []
   },
   "outputs": [],
   "source": [
    "# from steves_utils.ORACLE.utils_v2 import (\n",
    "#     ALL_DISTANCES_FEET,\n",
    "#     ALL_RUNS,\n",
    "#     ALL_SERIAL_NUMBERS,\n",
    "# )\n",
    "\n",
    "\n",
    "# add_dataset(\n",
    "#     labels=ALL_SERIAL_NUMBERS,\n",
    "#     domains = list(set(ALL_DISTANCES_FEET) - {2,62}),\n",
    "#     num_examples_per_domain_per_label=100,\n",
    "#     pickle_path=os.path.join(get_datasets_base_path(), \"oracle.Run2_framed_2000Examples_stratified_ds.2022A.pkl\"),\n",
    "#     source_or_target_dataset=\"source\",\n",
    "#     x_transform_func=global_x_transform_func,\n",
    "#     domain_modifier=lambda u: f\"oracle1_{u}\"\n",
    "# )\n"
   ]
  },
  {
   "cell_type": "code",
   "execution_count": 16,
   "id": "97dea9d2",
   "metadata": {
    "execution": {
     "iopub.execute_input": "2022-03-22T03:55:36.805251Z",
     "iopub.status.busy": "2022-03-22T03:55:36.804827Z",
     "iopub.status.idle": "2022-03-22T03:55:36.827481Z",
     "shell.execute_reply": "2022-03-22T03:55:36.826773Z"
    },
    "papermill": {
     "duration": 0.046973,
     "end_time": "2022-03-22T03:55:36.827669",
     "exception": false,
     "start_time": "2022-03-22T03:55:36.780696",
     "status": "completed"
    },
    "tags": []
   },
   "outputs": [],
   "source": [
    "# from steves_utils.ORACLE.utils_v2 import (\n",
    "#     ALL_DISTANCES_FEET,\n",
    "#     ALL_RUNS,\n",
    "#     ALL_SERIAL_NUMBERS,\n",
    "# )\n",
    "\n",
    "\n",
    "# add_dataset(\n",
    "#     labels=ALL_SERIAL_NUMBERS,\n",
    "#     domains = list(set(ALL_DISTANCES_FEET) - {2,62,56}),\n",
    "#     num_examples_per_domain_per_label=100,\n",
    "#     pickle_path=os.path.join(get_datasets_base_path(), \"oracle.Run2_framed_2000Examples_stratified_ds.2022A.pkl\"),\n",
    "#     source_or_target_dataset=\"source\",\n",
    "#     x_transform_func=global_x_transform_func,\n",
    "#     domain_modifier=lambda u: f\"oracle2_{u}\"\n",
    "# )"
   ]
  },
  {
   "cell_type": "code",
   "execution_count": 17,
   "id": "6f289866",
   "metadata": {
    "execution": {
     "iopub.execute_input": "2022-03-22T03:55:36.879819Z",
     "iopub.status.busy": "2022-03-22T03:55:36.879427Z",
     "iopub.status.idle": "2022-03-22T03:55:36.904907Z",
     "shell.execute_reply": "2022-03-22T03:55:36.904190Z"
    },
    "papermill": {
     "duration": 0.049511,
     "end_time": "2022-03-22T03:55:36.905059",
     "exception": false,
     "start_time": "2022-03-22T03:55:36.855548",
     "status": "completed"
    },
    "tags": []
   },
   "outputs": [],
   "source": [
    "# add_dataset(\n",
    "#     labels=list(range(19)),\n",
    "#     domains = [0,1,2],\n",
    "#     num_examples_per_domain_per_label=100,\n",
    "#     pickle_path=os.path.join(get_datasets_base_path(), \"metehan.stratified_ds.2022A.pkl\"),\n",
    "#     source_or_target_dataset=\"target\",\n",
    "#     x_transform_func=global_x_transform_func,\n",
    "#     domain_modifier=lambda u: f\"met_{u}\"\n",
    "# )"
   ]
  },
  {
   "cell_type": "code",
   "execution_count": 18,
   "id": "86a863c3",
   "metadata": {
    "execution": {
     "iopub.execute_input": "2022-03-22T03:55:36.958077Z",
     "iopub.status.busy": "2022-03-22T03:55:36.957518Z",
     "iopub.status.idle": "2022-03-22T03:55:36.981800Z",
     "shell.execute_reply": "2022-03-22T03:55:36.982469Z"
    },
    "papermill": {
     "duration": 0.049948,
     "end_time": "2022-03-22T03:55:36.982652",
     "exception": false,
     "start_time": "2022-03-22T03:55:36.932704",
     "status": "completed"
    },
    "tags": []
   },
   "outputs": [],
   "source": [
    "# # from steves_utils.wisig.utils import (\n",
    "# #     ALL_NODES_MINIMUM_100_EXAMPLES,\n",
    "# #     ALL_NODES_MINIMUM_500_EXAMPLES,\n",
    "# #     ALL_NODES_MINIMUM_1000_EXAMPLES,\n",
    "# #     ALL_DAYS\n",
    "# # )\n",
    "\n",
    "# import steves_utils.wisig.utils as wisig\n",
    "\n",
    "\n",
    "# add_dataset(\n",
    "#     labels=wisig.ALL_NODES_MINIMUM_100_EXAMPLES,\n",
    "#     domains = wisig.ALL_DAYS,\n",
    "#     num_examples_per_domain_per_label=100,\n",
    "#     pickle_path=os.path.join(get_datasets_base_path(), \"wisig.node3-19.stratified_ds.2022A.pkl\"),\n",
    "#     source_or_target_dataset=\"target\",\n",
    "#     x_transform_func=global_x_transform_func,\n",
    "#     domain_modifier=lambda u: f\"wisig_{u}\"\n",
    "# )"
   ]
  },
  {
   "cell_type": "code",
   "execution_count": 19,
   "id": "fd5442bc",
   "metadata": {
    "execution": {
     "iopub.execute_input": "2022-03-22T03:55:37.041380Z",
     "iopub.status.busy": "2022-03-22T03:55:37.040797Z",
     "iopub.status.idle": "2022-03-22T03:55:37.067379Z",
     "shell.execute_reply": "2022-03-22T03:55:37.066674Z"
    },
    "papermill": {
     "duration": 0.056455,
     "end_time": "2022-03-22T03:55:37.067552",
     "exception": false,
     "start_time": "2022-03-22T03:55:37.011097",
     "status": "completed"
    },
    "tags": []
   },
   "outputs": [],
   "source": [
    "###################################\n",
    "# Build the dataset\n",
    "###################################\n",
    "train_original_source = Iterable_Aggregator(train_original_source, p.seed)\n",
    "val_original_source = Iterable_Aggregator(val_original_source, p.seed)\n",
    "test_original_source = Iterable_Aggregator(test_original_source, p.seed)\n",
    "\n",
    "\n",
    "train_original_target = Iterable_Aggregator(train_original_target, p.seed)\n",
    "val_original_target = Iterable_Aggregator(val_original_target, p.seed)\n",
    "test_original_target = Iterable_Aggregator(test_original_target, p.seed)\n",
    "\n",
    "# For CNN We only use X and Y. And we only train on the source.\n",
    "# Properly form the data using a transform lambda and Lazy_Iterable_Wrapper. Finally wrap them in a dataloader\n",
    "\n",
    "transform_lambda = lambda ex: ex[1] # Original is (<domain>, <episode>) so we strip down to episode only\n",
    "\n",
    "train_processed_source = Lazy_Iterable_Wrapper(train_original_source, transform_lambda)\n",
    "val_processed_source   = Lazy_Iterable_Wrapper(val_original_source, transform_lambda)\n",
    "test_processed_source  = Lazy_Iterable_Wrapper(test_original_source, transform_lambda)\n",
    "\n",
    "train_processed_target = Lazy_Iterable_Wrapper(train_original_target, transform_lambda)\n",
    "val_processed_target   = Lazy_Iterable_Wrapper(val_original_target, transform_lambda)\n",
    "test_processed_target  = Lazy_Iterable_Wrapper(test_original_target, transform_lambda)\n",
    "\n",
    "datasets = EasyDict({\n",
    "    \"source\": {\n",
    "        \"original\": {\"train\":train_original_source, \"val\":val_original_source, \"test\":test_original_source},\n",
    "        \"processed\": {\"train\":train_processed_source, \"val\":val_processed_source, \"test\":test_processed_source}\n",
    "    },\n",
    "    \"target\": {\n",
    "        \"original\": {\"train\":train_original_target, \"val\":val_original_target, \"test\":test_original_target},\n",
    "        \"processed\": {\"train\":train_processed_target, \"val\":val_processed_target, \"test\":test_processed_target}\n",
    "    },\n",
    "})"
   ]
  },
  {
   "cell_type": "code",
   "execution_count": 20,
   "id": "5b3c01fc",
   "metadata": {
    "execution": {
     "iopub.execute_input": "2022-03-22T03:55:37.120370Z",
     "iopub.status.busy": "2022-03-22T03:55:37.119996Z",
     "iopub.status.idle": "2022-03-22T03:55:53.931972Z",
     "shell.execute_reply": "2022-03-22T03:55:53.931071Z"
    },
    "papermill": {
     "duration": 16.838108,
     "end_time": "2022-03-22T03:55:53.932153",
     "exception": false,
     "start_time": "2022-03-22T03:55:37.094045",
     "status": "completed"
    },
    "tags": []
   },
   "outputs": [
    {
     "name": "stdout",
     "output_type": "stream",
     "text": [
      "{'ORACLE.run1_26', 'ORACLE.run1_14', 'ORACLE.run1_44', 'ORACLE.run1_38', 'ORACLE.run1_20', 'ORACLE.run1_50', 'ORACLE.run1_8', 'ORACLE.run1_32'}\n"
     ]
    },
    {
     "name": "stdout",
     "output_type": "stream",
     "text": [
      "{'CORES_3', 'CORES_4', 'CORES_5', 'CORES_2', 'CORES_1'}\n"
     ]
    },
    {
     "name": "stdout",
     "output_type": "stream",
     "text": [
      "tensor([[[ 1.0476, -0.3400, -0.4962,  ..., -0.5054, -0.6157, -1.9757],\n",
      "         [ 0.2114,  0.6249,  0.6616,  ..., -0.0184, -0.3124, -0.2114]],\n",
      "\n",
      "        [[-0.1689,  0.2252, -0.2439,  ...,  0.1314, -0.3378, -0.5160],\n",
      "         [ 0.3659,  0.4597, -1.2478,  ...,  0.3753,  0.2252,  0.3190]],\n",
      "\n",
      "        [[ 0.3222, -0.1289,  0.0092,  ..., -0.6352, -0.3866, -0.6352],\n",
      "         [-0.8837,  0.0828,  0.4326,  ..., -0.5247, -0.7732,  0.7916]],\n",
      "\n",
      "        ...,\n",
      "\n",
      "        [[ 1.0640,  0.4671,  1.1808,  ..., -0.4282, -0.5061, -0.2984],\n",
      "         [-0.3503,  0.8240,  0.5255,  ..., -0.7072,  1.6868,  1.6155]],\n",
      "\n",
      "        [[-0.0947,  1.2061,  0.0316,  ..., -0.6314, -0.1768, -0.1263],\n",
      "         [-0.1389, -0.4862, -1.2629,  ..., -1.1619, -0.1137,  0.1705]],\n",
      "\n",
      "        [[-0.4886, -1.0609, -0.6687,  ...,  0.0579, -0.7973,  0.2958],\n",
      "         [ 0.2186,  0.1414, -0.1543,  ...,  0.0129,  0.5658, -0.9258]]])\n"
     ]
    }
   ],
   "source": [
    "from steves_utils.transforms import get_average_magnitude, get_average_power\n",
    "\n",
    "print(set([u for u,_ in val_original_source]))\n",
    "print(set([u for u,_ in val_original_target]))\n",
    "\n",
    "s_x, s_y, q_x, q_y, _ = next(iter(train_processed_source))\n",
    "print(s_x)\n",
    "\n",
    "# for ds in [\n",
    "#     train_processed_source,\n",
    "#     val_processed_source,\n",
    "#     test_processed_source,\n",
    "#     train_processed_target,\n",
    "#     val_processed_target,\n",
    "#     test_processed_target\n",
    "# ]:\n",
    "#     for s_x, s_y, q_x, q_y, _ in ds:\n",
    "#         for X in (s_x, q_x):\n",
    "#             for x in X:\n",
    "#                 assert np.isclose(get_average_magnitude(x.numpy()), 1.0)\n",
    "#                 assert np.isclose(get_average_power(x.numpy()), 1.0)\n",
    "                "
   ]
  },
  {
   "cell_type": "code",
   "execution_count": 21,
   "id": "bbdacba1",
   "metadata": {
    "execution": {
     "iopub.execute_input": "2022-03-22T03:55:53.994087Z",
     "iopub.status.busy": "2022-03-22T03:55:53.993499Z",
     "iopub.status.idle": "2022-03-22T03:55:54.181636Z",
     "shell.execute_reply": "2022-03-22T03:55:54.181947Z"
    },
    "papermill": {
     "duration": 0.219124,
     "end_time": "2022-03-22T03:55:54.182105",
     "exception": false,
     "start_time": "2022-03-22T03:55:53.962981",
     "status": "completed"
    },
    "tags": []
   },
   "outputs": [
    {
     "name": "stdout",
     "output_type": "stream",
     "text": [
      "(2, 256)\n"
     ]
    }
   ],
   "source": [
    "###################################\n",
    "# Build the model\n",
    "###################################\n",
    "# easfsl only wants a tuple for the shape\n",
    "model = Steves_Prototypical_Network(x_net, device=p.device, x_shape=tuple(p.x_shape))\n",
    "optimizer = Adam(params=model.parameters(), lr=p.lr)"
   ]
  },
  {
   "cell_type": "code",
   "execution_count": 22,
   "id": "22b39ac5",
   "metadata": {
    "execution": {
     "iopub.execute_input": "2022-03-22T03:55:54.249614Z",
     "iopub.status.busy": "2022-03-22T03:55:54.249235Z",
     "iopub.status.idle": "2022-03-22T04:27:47.133892Z",
     "shell.execute_reply": "2022-03-22T04:27:47.133550Z"
    },
    "papermill": {
     "duration": 1912.928321,
     "end_time": "2022-03-22T04:27:47.133977",
     "exception": false,
     "start_time": "2022-03-22T03:55:54.205656",
     "status": "completed"
    },
    "tags": []
   },
   "outputs": [
    {
     "name": "stdout",
     "output_type": "stream",
     "text": [
      "epoch: 1, [batch: 1 / 6720], examples_per_second: 32.5791, train_label_loss: 2.7714, \n"
     ]
    },
    {
     "name": "stdout",
     "output_type": "stream",
     "text": [
      "epoch: 1, [batch: 672 / 6720], examples_per_second: 2530.1618, train_label_loss: 2.8263, \n"
     ]
    },
    {
     "name": "stdout",
     "output_type": "stream",
     "text": [
      "epoch: 1, [batch: 1344 / 6720], examples_per_second: 2569.3042, train_label_loss: 1.4770, \n"
     ]
    },
    {
     "name": "stdout",
     "output_type": "stream",
     "text": [
      "epoch: 1, [batch: 2016 / 6720], examples_per_second: 2628.2650, train_label_loss: 1.6674, \n"
     ]
    },
    {
     "name": "stdout",
     "output_type": "stream",
     "text": [
      "epoch: 1, [batch: 2688 / 6720], examples_per_second: 2858.9345, train_label_loss: 2.1528, \n"
     ]
    },
    {
     "name": "stdout",
     "output_type": "stream",
     "text": [
      "epoch: 1, [batch: 3360 / 6720], examples_per_second: 3383.0345, train_label_loss: 1.6837, \n"
     ]
    },
    {
     "name": "stdout",
     "output_type": "stream",
     "text": [
      "epoch: 1, [batch: 4032 / 6720], examples_per_second: 2759.5434, train_label_loss: 1.3259, \n"
     ]
    },
    {
     "name": "stdout",
     "output_type": "stream",
     "text": [
      "epoch: 1, [batch: 4704 / 6720], examples_per_second: 2290.8426, train_label_loss: 0.9580, \n"
     ]
    },
    {
     "name": "stdout",
     "output_type": "stream",
     "text": [
      "epoch: 1, [batch: 5376 / 6720], examples_per_second: 2311.8032, train_label_loss: 0.8976, \n"
     ]
    },
    {
     "name": "stdout",
     "output_type": "stream",
     "text": [
      "epoch: 1, [batch: 6048 / 6720], examples_per_second: 2314.8258, train_label_loss: 1.7770, \n"
     ]
    },
    {
     "name": "stdout",
     "output_type": "stream",
     "text": [
      "=============================================================\n",
      "epoch: 1, source_val_acc_label: 0.5419, target_val_acc_label: 0.9565, source_val_label_loss: 1.2343, target_val_label_loss: 0.1936, \n",
      "=============================================================\n"
     ]
    },
    {
     "name": "stdout",
     "output_type": "stream",
     "text": [
      "New best\n"
     ]
    },
    {
     "name": "stdout",
     "output_type": "stream",
     "text": [
      "epoch: 2, [batch: 1 / 6720], examples_per_second: 2.0627, train_label_loss: 0.7226, \n"
     ]
    },
    {
     "name": "stdout",
     "output_type": "stream",
     "text": [
      "epoch: 2, [batch: 672 / 6720], examples_per_second: 2290.0755, train_label_loss: 0.8309, \n"
     ]
    },
    {
     "name": "stdout",
     "output_type": "stream",
     "text": [
      "epoch: 2, [batch: 1344 / 6720], examples_per_second: 2295.4703, train_label_loss: 0.9058, \n"
     ]
    },
    {
     "name": "stdout",
     "output_type": "stream",
     "text": [
      "epoch: 2, [batch: 2016 / 6720], examples_per_second: 2327.0385, train_label_loss: 0.6553, \n"
     ]
    },
    {
     "name": "stdout",
     "output_type": "stream",
     "text": [
      "epoch: 2, [batch: 2688 / 6720], examples_per_second: 2603.7756, train_label_loss: 0.7623, \n"
     ]
    },
    {
     "name": "stdout",
     "output_type": "stream",
     "text": [
      "epoch: 2, [batch: 3360 / 6720], examples_per_second: 2568.5501, train_label_loss: 1.0978, \n"
     ]
    },
    {
     "name": "stdout",
     "output_type": "stream",
     "text": [
      "epoch: 2, [batch: 4032 / 6720], examples_per_second: 2575.7069, train_label_loss: 1.1288, \n"
     ]
    },
    {
     "name": "stdout",
     "output_type": "stream",
     "text": [
      "epoch: 2, [batch: 4704 / 6720], examples_per_second: 2291.5168, train_label_loss: 1.3506, \n"
     ]
    },
    {
     "name": "stdout",
     "output_type": "stream",
     "text": [
      "epoch: 2, [batch: 5376 / 6720], examples_per_second: 2331.8089, train_label_loss: 1.4710, \n"
     ]
    },
    {
     "name": "stdout",
     "output_type": "stream",
     "text": [
      "epoch: 2, [batch: 6048 / 6720], examples_per_second: 2322.4302, train_label_loss: 1.0306, \n"
     ]
    },
    {
     "name": "stdout",
     "output_type": "stream",
     "text": [
      "=============================================================\n",
      "epoch: 2, source_val_acc_label: 0.5963, target_val_acc_label: 0.9616, source_val_label_loss: 1.0752, target_val_label_loss: 0.1845, \n",
      "=============================================================\n"
     ]
    },
    {
     "name": "stdout",
     "output_type": "stream",
     "text": [
      "New best\n"
     ]
    },
    {
     "name": "stdout",
     "output_type": "stream",
     "text": [
      "epoch: 3, [batch: 1 / 6720], examples_per_second: 2.0743, train_label_loss: 1.3422, \n"
     ]
    },
    {
     "name": "stdout",
     "output_type": "stream",
     "text": [
      "epoch: 3, [batch: 672 / 6720], examples_per_second: 2303.7982, train_label_loss: 0.9264, \n"
     ]
    },
    {
     "name": "stdout",
     "output_type": "stream",
     "text": [
      "epoch: 3, [batch: 1344 / 6720], examples_per_second: 2312.9797, train_label_loss: 0.9292, \n"
     ]
    },
    {
     "name": "stdout",
     "output_type": "stream",
     "text": [
      "epoch: 3, [batch: 2016 / 6720], examples_per_second: 2365.8769, train_label_loss: 0.6096, \n"
     ]
    },
    {
     "name": "stdout",
     "output_type": "stream",
     "text": [
      "epoch: 3, [batch: 2688 / 6720], examples_per_second: 2620.5641, train_label_loss: 0.8257, \n"
     ]
    },
    {
     "name": "stdout",
     "output_type": "stream",
     "text": [
      "epoch: 3, [batch: 3360 / 6720], examples_per_second: 2636.1262, train_label_loss: 1.2264, \n"
     ]
    },
    {
     "name": "stdout",
     "output_type": "stream",
     "text": [
      "epoch: 3, [batch: 4032 / 6720], examples_per_second: 2644.6715, train_label_loss: 1.1415, \n"
     ]
    },
    {
     "name": "stdout",
     "output_type": "stream",
     "text": [
      "epoch: 3, [batch: 4704 / 6720], examples_per_second: 2813.1780, train_label_loss: 0.5543, \n"
     ]
    },
    {
     "name": "stdout",
     "output_type": "stream",
     "text": [
      "epoch: 3, [batch: 5376 / 6720], examples_per_second: 2943.4138, train_label_loss: 0.4217, \n"
     ]
    },
    {
     "name": "stdout",
     "output_type": "stream",
     "text": [
      "epoch: 3, [batch: 6048 / 6720], examples_per_second: 2915.7454, train_label_loss: 0.5514, \n"
     ]
    },
    {
     "name": "stdout",
     "output_type": "stream",
     "text": [
      "=============================================================\n",
      "epoch: 3, source_val_acc_label: 0.6073, target_val_acc_label: 0.9660, source_val_label_loss: 1.0432, target_val_label_loss: 0.1933, \n",
      "=============================================================\n"
     ]
    },
    {
     "name": "stdout",
     "output_type": "stream",
     "text": [
      "New best\n"
     ]
    },
    {
     "name": "stdout",
     "output_type": "stream",
     "text": [
      "epoch: 4, [batch: 1 / 6720], examples_per_second: 2.6783, train_label_loss: 0.7974, \n"
     ]
    },
    {
     "name": "stdout",
     "output_type": "stream",
     "text": [
      "epoch: 4, [batch: 672 / 6720], examples_per_second: 2943.9393, train_label_loss: 0.6404, \n"
     ]
    },
    {
     "name": "stdout",
     "output_type": "stream",
     "text": [
      "epoch: 4, [batch: 1344 / 6720], examples_per_second: 2927.0222, train_label_loss: 1.1425, \n"
     ]
    },
    {
     "name": "stdout",
     "output_type": "stream",
     "text": [
      "epoch: 4, [batch: 2016 / 6720], examples_per_second: 3412.4147, train_label_loss: 1.1457, \n"
     ]
    },
    {
     "name": "stdout",
     "output_type": "stream",
     "text": [
      "epoch: 4, [batch: 2688 / 6720], examples_per_second: 3350.2357, train_label_loss: 0.4770, \n"
     ]
    },
    {
     "name": "stdout",
     "output_type": "stream",
     "text": [
      "epoch: 4, [batch: 3360 / 6720], examples_per_second: 3386.2002, train_label_loss: 0.4842, \n"
     ]
    },
    {
     "name": "stdout",
     "output_type": "stream",
     "text": [
      "epoch: 4, [batch: 4032 / 6720], examples_per_second: 3338.3808, train_label_loss: 1.1996, \n"
     ]
    },
    {
     "name": "stdout",
     "output_type": "stream",
     "text": [
      "epoch: 4, [batch: 4704 / 6720], examples_per_second: 3523.3892, train_label_loss: 0.9284, \n"
     ]
    },
    {
     "name": "stdout",
     "output_type": "stream",
     "text": [
      "epoch: 4, [batch: 5376 / 6720], examples_per_second: 3381.1592, train_label_loss: 0.9250, \n"
     ]
    },
    {
     "name": "stdout",
     "output_type": "stream",
     "text": [
      "epoch: 4, [batch: 6048 / 6720], examples_per_second: 3290.1856, train_label_loss: 0.7000, \n"
     ]
    },
    {
     "name": "stdout",
     "output_type": "stream",
     "text": [
      "=============================================================\n",
      "epoch: 4, source_val_acc_label: 0.6093, target_val_acc_label: 0.9690, source_val_label_loss: 1.0588, target_val_label_loss: 0.2126, \n",
      "=============================================================\n"
     ]
    },
    {
     "name": "stdout",
     "output_type": "stream",
     "text": [
      "New best\n"
     ]
    },
    {
     "name": "stdout",
     "output_type": "stream",
     "text": [
      "epoch: 5, [batch: 1 / 6720], examples_per_second: 2.4529, train_label_loss: 0.5047, \n"
     ]
    },
    {
     "name": "stdout",
     "output_type": "stream",
     "text": [
      "epoch: 5, [batch: 672 / 6720], examples_per_second: 2645.2620, train_label_loss: 0.4525, \n"
     ]
    },
    {
     "name": "stdout",
     "output_type": "stream",
     "text": [
      "epoch: 5, [batch: 1344 / 6720], examples_per_second: 2586.1433, train_label_loss: 1.2469, \n"
     ]
    },
    {
     "name": "stdout",
     "output_type": "stream",
     "text": [
      "epoch: 5, [batch: 2016 / 6720], examples_per_second: 2558.5241, train_label_loss: 1.0755, \n"
     ]
    },
    {
     "name": "stdout",
     "output_type": "stream",
     "text": [
      "epoch: 5, [batch: 2688 / 6720], examples_per_second: 2596.3167, train_label_loss: 0.9181, \n"
     ]
    },
    {
     "name": "stdout",
     "output_type": "stream",
     "text": [
      "epoch: 5, [batch: 3360 / 6720], examples_per_second: 2750.3239, train_label_loss: 0.5066, \n"
     ]
    },
    {
     "name": "stdout",
     "output_type": "stream",
     "text": [
      "epoch: 5, [batch: 4032 / 6720], examples_per_second: 2887.6044, train_label_loss: 0.8365, \n"
     ]
    },
    {
     "name": "stdout",
     "output_type": "stream",
     "text": [
      "epoch: 5, [batch: 4704 / 6720], examples_per_second: 2839.7282, train_label_loss: 0.7275, \n"
     ]
    },
    {
     "name": "stdout",
     "output_type": "stream",
     "text": [
      "epoch: 5, [batch: 5376 / 6720], examples_per_second: 3096.3329, train_label_loss: 0.9088, \n"
     ]
    },
    {
     "name": "stdout",
     "output_type": "stream",
     "text": [
      "epoch: 5, [batch: 6048 / 6720], examples_per_second: 3184.3168, train_label_loss: 0.4737, \n"
     ]
    },
    {
     "name": "stdout",
     "output_type": "stream",
     "text": [
      "=============================================================\n",
      "epoch: 5, source_val_acc_label: 0.6095, target_val_acc_label: 0.9666, source_val_label_loss: 1.0973, target_val_label_loss: 0.2398, \n",
      "=============================================================\n"
     ]
    },
    {
     "name": "stdout",
     "output_type": "stream",
     "text": [
      "epoch: 6, [batch: 1 / 6720], examples_per_second: 2.9038, train_label_loss: 0.8061, \n"
     ]
    },
    {
     "name": "stdout",
     "output_type": "stream",
     "text": [
      "epoch: 6, [batch: 672 / 6720], examples_per_second: 2878.5175, train_label_loss: 1.1500, \n"
     ]
    },
    {
     "name": "stdout",
     "output_type": "stream",
     "text": [
      "epoch: 6, [batch: 1344 / 6720], examples_per_second: 2679.0707, train_label_loss: 0.9370, \n"
     ]
    },
    {
     "name": "stdout",
     "output_type": "stream",
     "text": [
      "epoch: 6, [batch: 2016 / 6720], examples_per_second: 2966.4261, train_label_loss: 0.3581, \n"
     ]
    },
    {
     "name": "stdout",
     "output_type": "stream",
     "text": [
      "epoch: 6, [batch: 2688 / 6720], examples_per_second: 2997.8020, train_label_loss: 0.5621, \n"
     ]
    },
    {
     "name": "stdout",
     "output_type": "stream",
     "text": [
      "epoch: 6, [batch: 3360 / 6720], examples_per_second: 3002.2627, train_label_loss: 0.3753, \n"
     ]
    },
    {
     "name": "stdout",
     "output_type": "stream",
     "text": [
      "epoch: 6, [batch: 4032 / 6720], examples_per_second: 3003.7045, train_label_loss: 0.5950, \n"
     ]
    },
    {
     "name": "stdout",
     "output_type": "stream",
     "text": [
      "epoch: 6, [batch: 4704 / 6720], examples_per_second: 3014.8425, train_label_loss: 0.3665, \n"
     ]
    },
    {
     "name": "stdout",
     "output_type": "stream",
     "text": [
      "epoch: 6, [batch: 5376 / 6720], examples_per_second: 3423.8601, train_label_loss: 0.4753, \n"
     ]
    },
    {
     "name": "stdout",
     "output_type": "stream",
     "text": [
      "epoch: 6, [batch: 6048 / 6720], examples_per_second: 3396.1715, train_label_loss: 0.3527, \n"
     ]
    },
    {
     "name": "stdout",
     "output_type": "stream",
     "text": [
      "=============================================================\n",
      "epoch: 6, source_val_acc_label: 0.6088, target_val_acc_label: 0.9633, source_val_label_loss: 1.1583, target_val_label_loss: 0.2789, \n",
      "=============================================================\n"
     ]
    },
    {
     "name": "stdout",
     "output_type": "stream",
     "text": [
      "epoch: 7, [batch: 1 / 6720], examples_per_second: 2.9361, train_label_loss: 0.2824, \n"
     ]
    },
    {
     "name": "stdout",
     "output_type": "stream",
     "text": [
      "epoch: 7, [batch: 672 / 6720], examples_per_second: 2968.8797, train_label_loss: 0.9781, \n"
     ]
    },
    {
     "name": "stdout",
     "output_type": "stream",
     "text": [
      "epoch: 7, [batch: 1344 / 6720], examples_per_second: 3012.4726, train_label_loss: 0.4567, \n"
     ]
    },
    {
     "name": "stdout",
     "output_type": "stream",
     "text": [
      "epoch: 7, [batch: 2016 / 6720], examples_per_second: 3023.7704, train_label_loss: 0.9571, \n"
     ]
    },
    {
     "name": "stdout",
     "output_type": "stream",
     "text": [
      "epoch: 7, [batch: 2688 / 6720], examples_per_second: 2955.1224, train_label_loss: 0.3518, \n"
     ]
    },
    {
     "name": "stdout",
     "output_type": "stream",
     "text": [
      "epoch: 7, [batch: 3360 / 6720], examples_per_second: 3011.8599, train_label_loss: 0.8343, \n"
     ]
    },
    {
     "name": "stdout",
     "output_type": "stream",
     "text": [
      "epoch: 7, [batch: 4032 / 6720], examples_per_second: 2949.4123, train_label_loss: 0.4890, \n"
     ]
    },
    {
     "name": "stdout",
     "output_type": "stream",
     "text": [
      "epoch: 7, [batch: 4704 / 6720], examples_per_second: 2976.1807, train_label_loss: 0.3805, \n"
     ]
    },
    {
     "name": "stdout",
     "output_type": "stream",
     "text": [
      "epoch: 7, [batch: 5376 / 6720], examples_per_second: 3389.0504, train_label_loss: 0.3670, \n"
     ]
    },
    {
     "name": "stdout",
     "output_type": "stream",
     "text": [
      "epoch: 7, [batch: 6048 / 6720], examples_per_second: 3455.5415, train_label_loss: 0.4536, \n"
     ]
    },
    {
     "name": "stdout",
     "output_type": "stream",
     "text": [
      "=============================================================\n",
      "epoch: 7, source_val_acc_label: 0.6041, target_val_acc_label: 0.9640, source_val_label_loss: 1.2196, target_val_label_loss: 0.3057, \n",
      "=============================================================\n"
     ]
    },
    {
     "name": "stdout",
     "output_type": "stream",
     "text": [
      "epoch: 8, [batch: 1 / 6720], examples_per_second: 2.9683, train_label_loss: 0.7130, \n"
     ]
    },
    {
     "name": "stdout",
     "output_type": "stream",
     "text": [
      "epoch: 8, [batch: 672 / 6720], examples_per_second: 2998.0098, train_label_loss: 0.6657, \n"
     ]
    },
    {
     "name": "stdout",
     "output_type": "stream",
     "text": [
      "epoch: 8, [batch: 1344 / 6720], examples_per_second: 2945.9165, train_label_loss: 0.8219, \n"
     ]
    },
    {
     "name": "stdout",
     "output_type": "stream",
     "text": [
      "epoch: 8, [batch: 2016 / 6720], examples_per_second: 2987.8103, train_label_loss: 0.3205, \n"
     ]
    },
    {
     "name": "stdout",
     "output_type": "stream",
     "text": [
      "epoch: 8, [batch: 2688 / 6720], examples_per_second: 2911.7924, train_label_loss: 0.3671, \n"
     ]
    },
    {
     "name": "stdout",
     "output_type": "stream",
     "text": [
      "epoch: 8, [batch: 3360 / 6720], examples_per_second: 2707.8035, train_label_loss: 0.4501, \n"
     ]
    },
    {
     "name": "stdout",
     "output_type": "stream",
     "text": [
      "epoch: 8, [batch: 4032 / 6720], examples_per_second: 2306.4129, train_label_loss: 0.5874, \n"
     ]
    },
    {
     "name": "stdout",
     "output_type": "stream",
     "text": [
      "epoch: 8, [batch: 4704 / 6720], examples_per_second: 2293.7579, train_label_loss: 0.6750, \n"
     ]
    },
    {
     "name": "stdout",
     "output_type": "stream",
     "text": [
      "epoch: 8, [batch: 5376 / 6720], examples_per_second: 2584.1182, train_label_loss: 0.3248, \n"
     ]
    },
    {
     "name": "stdout",
     "output_type": "stream",
     "text": [
      "epoch: 8, [batch: 6048 / 6720], examples_per_second: 2638.7557, train_label_loss: 0.3995, \n"
     ]
    },
    {
     "name": "stdout",
     "output_type": "stream",
     "text": [
      "=============================================================\n",
      "epoch: 8, source_val_acc_label: 0.6037, target_val_acc_label: 0.9635, source_val_label_loss: 1.3329, target_val_label_loss: 0.3535, \n",
      "=============================================================\n"
     ]
    },
    {
     "name": "stdout",
     "output_type": "stream",
     "text": [
      "Patience (3) exhausted\n"
     ]
    }
   ],
   "source": [
    "###################################\n",
    "# train\n",
    "###################################\n",
    "jig = PTN_Train_Eval_Test_Jig(model, p.BEST_MODEL_PATH, p.device)\n",
    "\n",
    "jig.train(\n",
    "    train_iterable=datasets.source.processed.train,\n",
    "    source_val_iterable=datasets.source.processed.val,\n",
    "    target_val_iterable=datasets.target.processed.val,\n",
    "    num_epochs=p.n_epoch,\n",
    "    num_logs_per_epoch=p.NUM_LOGS_PER_EPOCH,\n",
    "    patience=p.patience,\n",
    "    optimizer=optimizer,\n",
    "    criteria_for_best=p.criteria_for_best,\n",
    ")"
   ]
  },
  {
   "cell_type": "code",
   "execution_count": 23,
   "id": "31e8fabf",
   "metadata": {
    "execution": {
     "iopub.execute_input": "2022-03-22T04:27:47.235280Z",
     "iopub.status.busy": "2022-03-22T04:27:47.234916Z",
     "iopub.status.idle": "2022-03-22T04:27:47.267489Z",
     "shell.execute_reply": "2022-03-22T04:27:47.268207Z"
    },
    "papermill": {
     "duration": 0.086334,
     "end_time": "2022-03-22T04:27:47.268392",
     "exception": false,
     "start_time": "2022-03-22T04:27:47.182058",
     "status": "completed"
    },
    "tags": []
   },
   "outputs": [],
   "source": [
    "total_experiment_time_secs = time.time() - start_time_secs"
   ]
  },
  {
   "cell_type": "code",
   "execution_count": 24,
   "id": "87b9595b",
   "metadata": {
    "execution": {
     "iopub.execute_input": "2022-03-22T04:27:47.373411Z",
     "iopub.status.busy": "2022-03-22T04:27:47.373020Z",
     "iopub.status.idle": "2022-03-22T04:32:22.003916Z",
     "shell.execute_reply": "2022-03-22T04:32:22.003002Z"
    },
    "papermill": {
     "duration": 274.68293,
     "end_time": "2022-03-22T04:32:22.004121",
     "exception": false,
     "start_time": "2022-03-22T04:27:47.321191",
     "status": "completed"
    },
    "tags": []
   },
   "outputs": [],
   "source": [
    "###################################\n",
    "# Evaluate the model\n",
    "###################################\n",
    "source_test_label_accuracy, source_test_label_loss = jig.test(datasets.source.processed.test)\n",
    "target_test_label_accuracy, target_test_label_loss = jig.test(datasets.target.processed.test)\n",
    "\n",
    "source_val_label_accuracy, source_val_label_loss = jig.test(datasets.source.processed.val)\n",
    "target_val_label_accuracy, target_val_label_loss = jig.test(datasets.target.processed.val)\n",
    "\n",
    "history = jig.get_history()\n",
    "\n",
    "total_epochs_trained = len(history[\"epoch_indices\"])\n",
    "\n",
    "val_dl = Iterable_Aggregator((datasets.source.original.val,datasets.target.original.val))\n",
    "\n",
    "confusion = ptn_confusion_by_domain_over_dataloader(model, p.device, val_dl)\n",
    "per_domain_accuracy = per_domain_accuracy_from_confusion(confusion)\n",
    "\n",
    "# Add a key to per_domain_accuracy for if it was a source domain\n",
    "for domain, accuracy in per_domain_accuracy.items():\n",
    "    per_domain_accuracy[domain] = {\n",
    "        \"accuracy\": accuracy,\n",
    "        \"source?\": domain in p.domains_source\n",
    "    }\n",
    "\n",
    "# Do an independent accuracy assesment JUST TO BE SURE!\n",
    "# _source_test_label_accuracy = independent_accuracy_assesment(model, datasets.source.processed.test, p.device)\n",
    "# _target_test_label_accuracy = independent_accuracy_assesment(model, datasets.target.processed.test, p.device)\n",
    "# _source_val_label_accuracy = independent_accuracy_assesment(model, datasets.source.processed.val, p.device)\n",
    "# _target_val_label_accuracy = independent_accuracy_assesment(model, datasets.target.processed.val, p.device)\n",
    "\n",
    "# assert(_source_test_label_accuracy == source_test_label_accuracy)\n",
    "# assert(_target_test_label_accuracy == target_test_label_accuracy)\n",
    "# assert(_source_val_label_accuracy == source_val_label_accuracy)\n",
    "# assert(_target_val_label_accuracy == target_val_label_accuracy)\n",
    "\n",
    "experiment = {\n",
    "    \"experiment_name\": p.experiment_name,\n",
    "    \"parameters\": dict(p),\n",
    "    \"results\": {\n",
    "        \"source_test_label_accuracy\": source_test_label_accuracy,\n",
    "        \"source_test_label_loss\": source_test_label_loss,\n",
    "        \"target_test_label_accuracy\": target_test_label_accuracy,\n",
    "        \"target_test_label_loss\": target_test_label_loss,\n",
    "        \"source_val_label_accuracy\": source_val_label_accuracy,\n",
    "        \"source_val_label_loss\": source_val_label_loss,\n",
    "        \"target_val_label_accuracy\": target_val_label_accuracy,\n",
    "        \"target_val_label_loss\": target_val_label_loss,\n",
    "        \"total_epochs_trained\": total_epochs_trained,\n",
    "        \"total_experiment_time_secs\": total_experiment_time_secs,\n",
    "        \"confusion\": confusion,\n",
    "        \"per_domain_accuracy\": per_domain_accuracy,\n",
    "    },\n",
    "    \"history\": history,\n",
    "    \"dataset_metrics\": get_dataset_metrics(datasets, \"ptn\"),\n",
    "}"
   ]
  },
  {
   "cell_type": "code",
   "execution_count": 25,
   "id": "54a21829",
   "metadata": {
    "execution": {
     "iopub.execute_input": "2022-03-22T04:32:22.123811Z",
     "iopub.status.busy": "2022-03-22T04:32:22.123391Z",
     "iopub.status.idle": "2022-03-22T04:32:22.368124Z",
     "shell.execute_reply": "2022-03-22T04:32:22.368807Z"
    },
    "papermill": {
     "duration": 0.304804,
     "end_time": "2022-03-22T04:32:22.369037",
     "exception": false,
     "start_time": "2022-03-22T04:32:22.064233",
     "status": "completed"
    },
    "tags": []
   },
   "outputs": [
    {
     "data": {
      "image/png": "[encoded data removed]",
      "text/plain": [
       "<Figure size 1080x504 with 1 Axes>"
      ]
     },
     "metadata": {
      "needs_background": "light"
     },
     "output_type": "display_data"
    }
   ],
   "source": [
    "ax = get_loss_curve(experiment)\n",
    "plt.show()"
   ]
  },
  {
   "cell_type": "code",
   "execution_count": 26,
   "id": "fd8a0f60",
   "metadata": {
    "execution": {
     "iopub.execute_input": "2022-03-22T04:32:22.479750Z",
     "iopub.status.busy": "2022-03-22T04:32:22.479095Z",
     "iopub.status.idle": "2022-03-22T04:32:22.829992Z",
     "shell.execute_reply": "2022-03-22T04:32:22.830707Z"
    },
    "papermill": {
     "duration": 0.404922,
     "end_time": "2022-03-22T04:32:22.830950",
     "exception": false,
     "start_time": "2022-03-22T04:32:22.426028",
     "status": "completed"
    },
    "tags": []
   },
   "outputs": [
    {
     "data": {
      "text/plain": [
       "<AxesSubplot:title={'center':'Results'}>"
      ]
     },
     "execution_count": 26,
     "metadata": {},
     "output_type": "execute_result"
    },
    {
     "data": {
      "image/png": "[encoded data removed]",
      "text/plain": [
       "<Figure size 1080x504 with 1 Axes>"
      ]
     },
     "metadata": {
      "needs_background": "light"
     },
     "output_type": "display_data"
    }
   ],
   "source": [
    "get_results_table(experiment)"
   ]
  },
  {
   "cell_type": "code",
   "execution_count": 27,
   "id": "cf8dc689",
   "metadata": {
    "execution": {
     "iopub.execute_input": "2022-03-22T04:32:22.942388Z",
     "iopub.status.busy": "2022-03-22T04:32:22.942014Z",
     "iopub.status.idle": "2022-03-22T04:32:23.220746Z",
     "shell.execute_reply": "2022-03-22T04:32:23.220421Z"
    },
    "papermill": {
     "duration": 0.334378,
     "end_time": "2022-03-22T04:32:23.220830",
     "exception": false,
     "start_time": "2022-03-22T04:32:22.886452",
     "status": "completed"
    },
    "tags": []
   },
   "outputs": [
    {
     "data": {
      "text/plain": [
       "<AxesSubplot:title={'center':'Per Domain Validation Accuracy'}, xlabel='domain'>"
      ]
     },
     "execution_count": 27,
     "metadata": {},
     "output_type": "execute_result"
    },
    {
     "data": {
      "image/png": "[encoded data removed]",
      "text/plain": [
       "<Figure size 1080x504 with 1 Axes>"
      ]
     },
     "metadata": {
      "needs_background": "light"
     },
     "output_type": "display_data"
    }
   ],
   "source": [
    "get_domain_accuracies(experiment)"
   ]
  },
  {
   "cell_type": "code",
   "execution_count": 28,
   "id": "a74ae082",
   "metadata": {
    "execution": {
     "iopub.execute_input": "2022-03-22T04:32:23.332827Z",
     "iopub.status.busy": "2022-03-22T04:32:23.332451Z",
     "iopub.status.idle": "2022-03-22T04:32:23.359261Z",
     "shell.execute_reply": "2022-03-22T04:32:23.358940Z"
    },
    "papermill": {
     "duration": 0.083024,
     "end_time": "2022-03-22T04:32:23.359332",
     "exception": false,
     "start_time": "2022-03-22T04:32:23.276308",
     "status": "completed"
    },
    "tags": []
   },
   "outputs": [
    {
     "name": "stdout",
     "output_type": "stream",
     "text": [
      "Source Test Label Accuracy: 0.60615234375 Target Test Label Accuracy: 0.9686097081930415\n",
      "Source Val Label Accuracy: 0.6093098958333333 Target Val Label Accuracy: 0.9690353881278538\n"
     ]
    }
   ],
   "source": [
    "print(\"Source Test Label Accuracy:\", experiment[\"results\"][\"source_test_label_accuracy\"], \"Target Test Label Accuracy:\", experiment[\"results\"][\"target_test_label_accuracy\"])\n",
    "print(\"Source Val Label Accuracy:\", experiment[\"results\"][\"source_val_label_accuracy\"], \"Target Val Label Accuracy:\", experiment[\"results\"][\"target_val_label_accuracy\"])"
   ]
  },
  {
   "cell_type": "code",
   "execution_count": 29,
   "id": "dacca602",
   "metadata": {
    "execution": {
     "iopub.execute_input": "2022-03-22T04:32:23.466944Z",
     "iopub.status.busy": "2022-03-22T04:32:23.466326Z",
     "iopub.status.idle": "2022-03-22T04:32:23.490764Z",
     "shell.execute_reply": "2022-03-22T04:32:23.490395Z"
    },
    "papermill": {
     "duration": 0.079278,
     "end_time": "2022-03-22T04:32:23.490836",
     "exception": false,
     "start_time": "2022-03-22T04:32:23.411558",
     "status": "completed"
    },
    "tags": [
     "experiment_json"
    ]
   },
   "outputs": [
    {
     "data": {
      "text/plain": [
       "'{\"experiment_name\": \"tl_1v2:cores-oracle.run1.limited\", \"parameters\": {\"experiment_name\": \"tl_1v2:cores-oracle.run1.limited\", \"device\": \"cuda\", \"lr\": 0.0001, \"n_shot\": 3, \"n_query\": 2, \"train_k_factor\": 3, \"val_k_factor\": 2, \"test_k_factor\": 2, \"torch_default_dtype\": \"torch.float32\", \"n_epoch\": 50, \"patience\": 3, \"criteria_for_best\": \"target_accuracy\", \"x_net\": [{\"class\": \"nnReshape\", \"kargs\": {\"shape\": [-1, 1, 2, 256]}}, {\"class\": \"Conv2d\", \"kargs\": {\"in_channels\": 1, \"out_channels\": 256, \"kernel_size\": [1, 7], \"bias\": false, \"padding\": [0, 3]}}, {\"class\": \"ReLU\", \"kargs\": {\"inplace\": true}}, {\"class\": \"BatchNorm2d\", \"kargs\": {\"num_features\": 256}}, {\"class\": \"Conv2d\", \"kargs\": {\"in_channels\": 256, \"out_channels\": 80, \"kernel_size\": [2, 7], \"bias\": true, \"padding\": [0, 3]}}, {\"class\": \"ReLU\", \"kargs\": {\"inplace\": true}}, {\"class\": \"BatchNorm2d\", \"kargs\": {\"num_features\": 80}}, {\"class\": \"Flatten\", \"kargs\": {}}, {\"class\": \"Linear\", \"kargs\": {\"in_features\": 20480, \"out_features\": 256}}, {\"class\": \"ReLU\", \"kargs\": {\"inplace\": true}}, {\"class\": \"BatchNorm1d\", \"kargs\": {\"num_features\": 256}}, {\"class\": \"Linear\", \"kargs\": {\"in_features\": 256, \"out_features\": 256}}], \"NUM_LOGS_PER_EPOCH\": 10, \"BEST_MODEL_PATH\": \"./best_model.pth\", \"n_way\": 16, \"datasets\": [{\"labels\": [\"1-10.\", \"1-11.\", \"1-15.\", \"1-16.\", \"1-17.\", \"1-18.\", \"1-19.\", \"10-4.\", \"10-7.\", \"11-1.\", \"11-14.\", \"11-17.\", \"11-20.\", \"11-7.\", \"13-20.\", \"13-8.\", \"14-10.\", \"14-11.\", \"14-14.\", \"14-7.\", \"15-1.\", \"15-20.\", \"16-1.\", \"16-16.\", \"17-10.\", \"17-11.\", \"17-2.\", \"19-1.\", \"19-16.\", \"19-19.\", \"19-20.\", \"19-3.\", \"2-10.\", \"2-11.\", \"2-17.\", \"2-18.\", \"2-20.\", \"2-3.\", \"2-4.\", \"2-5.\", \"2-6.\", \"2-7.\", \"2-8.\", \"3-13.\", \"3-18.\", \"3-3.\", \"4-1.\", \"4-10.\", \"4-11.\", \"4-19.\", \"5-5.\", \"6-15.\", \"7-10.\", \"7-14.\", \"8-18.\", \"8-20.\", \"8-3.\", \"8-8.\"], \"domains\": [1, 2, 3, 4, 5], \"num_examples_per_domain_per_label\": -1, \"pickle_path\": \"/root/csc500-main/datasets/cores.stratified_ds.2022A.pkl\", \"source_or_target_dataset\": \"target\", \"x_transforms\": [\"unit_power\"], \"episode_transforms\": [], \"domain_prefix\": \"CORES_\"}, {\"labels\": [\"3123D52\", \"3123D65\", \"3123D79\", \"3123D80\", \"3123D54\", \"3123D70\", \"3123D7B\", \"3123D89\", \"3123D58\", \"3123D76\", \"3123D7D\", \"3123EFE\", \"3123D64\", \"3123D78\", \"3123D7E\", \"3124E4A\"], \"domains\": [32, 38, 8, 44, 14, 50, 20, 26], \"num_examples_per_domain_per_label\": 2000, \"pickle_path\": \"/root/csc500-main/datasets/oracle.Run1_10kExamples_stratified_ds.2022A.pkl\", \"source_or_target_dataset\": \"source\", \"x_transforms\": [\"unit_power\"], \"episode_transforms\": [], \"domain_prefix\": \"ORACLE.run1_\"}], \"dataset_seed\": 1337, \"seed\": 1337, \"x_shape\": [2, 256], \"domains_source\": [\"ORACLE.run1_32\", \"ORACLE.run1_38\", \"ORACLE.run1_8\", \"ORACLE.run1_44\", \"ORACLE.run1_14\", \"ORACLE.run1_50\", \"ORACLE.run1_20\", \"ORACLE.run1_26\"], \"domains_target\": [\"CORES_1\", \"CORES_2\", \"CORES_3\", \"CORES_4\", \"CORES_5\"]}, \"results\": {\"source_test_label_accuracy\": 0.60615234375, \"source_test_label_loss\": 1.0649051666259766, \"target_test_label_accuracy\": 0.9686097081930415, \"target_test_label_loss\": 0.18898582458496094, \"source_val_label_accuracy\": 0.6093098958333333, \"source_val_label_loss\": 1.058800220489502, \"target_val_label_accuracy\": 0.9690353881278538, \"target_val_label_loss\": 0.21264488995075226, \"total_epochs_trained\": 8, \"total_experiment_time_secs\": 1978.3826189041138, \"confusion\": {\"ORACLE.run1_14\": {\"15\": {\"15\": 212, \"7\": 27, \"2\": 1}, \"3\": {\"3\": 162, \"5\": 2, \"4\": 48, \"2\": 8, \"14\": 14, \"10\": 3, \"0\": 3}, \"6\": {\"6\": 114, \"14\": 36, \"13\": 70, \"2\": 20}, \"1\": {\"1\": 196, \"5\": 32, \"4\": 9, \"7\": 3}, \"8\": {\"8\": 240}, \"10\": {\"10\": 166, \"11\": 6, \"0\": 68}, \"9\": {\"9\": 234, \"12\": 3, \"11\": 3}, \"13\": {\"13\": 67, \"6\": 96, \"14\": 47, \"2\": 22, \"5\": 5, \"4\": 1, \"15\": 2}, \"12\": {\"12\": 237, \"9\": 3}, \"5\": {\"7\": 6, \"4\": 49, \"5\": 120, \"1\": 45, \"3\": 6, \"2\": 12, \"14\": 1, \"15\": 1}, \"0\": {\"10\": 56, \"0\": 168, \"11\": 9, \"3\": 7}, \"2\": {\"15\": 4, \"2\": 100, \"5\": 26, \"14\": 37, \"6\": 27, \"13\": 11, \"3\": 11, \"4\": 21, \"7\": 3}, \"11\": {\"11\": 196, \"10\": 21, \"9\": 16, \"0\": 7}, \"14\": {\"2\": 20, \"14\": 147, \"13\": 38, \"10\": 2, \"3\": 8, \"6\": 22, \"4\": 1, \"5\": 1, \"0\": 1}, \"7\": {\"7\": 219, \"15\": 18, \"1\": 3}, \"4\": {\"3\": 45, \"5\": 40, \"4\": 118, \"1\": 10, \"2\": 22, \"14\": 5}}, \"ORACLE.run1_20\": {\"3\": {\"9\": 49, \"1\": 7, \"5\": 9, \"3\": 64, \"8\": 17, \"4\": 21, \"2\": 18, \"12\": 32, \"0\": 6, \"13\": 3, \"7\": 13, \"15\": 1}, \"15\": {\"15\": 118, \"1\": 45, \"0\": 19, \"9\": 8, \"12\": 13, \"13\": 14, \"5\": 21, \"3\": 1, \"2\": 1}, \"8\": {\"8\": 111, \"10\": 34, \"6\": 11, \"4\": 26, \"14\": 13, \"7\": 26, \"3\": 11, \"2\": 3, \"12\": 3, \"9\": 2}, \"4\": {\"4\": 136, \"9\": 5, \"8\": 41, \"2\": 2, \"12\": 7, \"10\": 24, \"7\": 3, \"3\": 19, \"5\": 2, \"0\": 1}, \"14\": {\"10\": 46, \"14\": 144, \"6\": 44, \"4\": 1, \"8\": 4, \"7\": 1}, \"0\": {\"12\": 30, \"0\": 52, \"5\": 64, \"15\": 27, \"1\": 38, \"4\": 3, \"3\": 7, \"2\": 8, \"13\": 4, \"9\": 7}, \"7\": {\"7\": 133, \"9\": 20, \"3\": 10, \"2\": 38, \"8\": 25, \"6\": 6, \"12\": 3, \"13\": 1, \"10\": 2, \"14\": 1, \"4\": 1}, \"6\": {\"6\": 188, \"14\": 37, \"10\": 2, \"7\": 10, \"8\": 3}, \"10\": {\"8\": 34, \"10\": 133, \"14\": 50, \"4\": 17, \"7\": 4, \"6\": 2}, \"5\": {\"5\": 51, \"12\": 35, \"0\": 54, \"1\": 46, \"15\": 27, \"13\": 2, \"3\": 11, \"9\": 9, \"2\": 2, \"4\": 3}, \"2\": {\"3\": 19, \"2\": 66, \"9\": 57, \"13\": 24, \"7\": 38, \"5\": 2, \"12\": 13, \"1\": 4, \"4\": 2, \"8\": 5, \"15\": 7, \"14\": 2, \"0\": 1}, \"12\": {\"1\": 28, \"0\": 22, \"5\": 31, \"3\": 38, \"12\": 56, \"9\": 24, \"15\": 18, \"4\": 9, \"2\": 7, \"13\": 4, \"8\": 3}, \"9\": {\"2\": 54, \"7\": 17, \"5\": 8, \"12\": 23, \"3\": 37, \"9\": 64, \"4\": 8, \"15\": 2, \"1\": 6, \"13\": 11, \"0\": 7, \"8\": 3}, \"1\": {\"15\": 55, \"5\": 48, \"12\": 27, \"9\": 4, \"1\": 47, \"4\": 3, \"0\": 42, \"3\": 9, \"13\": 3, \"2\": 2}, \"11\": {\"11\": 240}, \"13\": {\"13\": 189, \"2\": 18, \"15\": 10, \"11\": 2, \"9\": 11, \"12\": 2, \"1\": 2, \"0\": 4, \"5\": 1, \"3\": 1}}, \"ORACLE.run1_38\": {\"5\": {\"8\": 53, \"0\": 28, \"5\": 98, \"7\": 25, \"15\": 15, \"13\": 4, \"6\": 8, \"1\": 3, \"3\": 4, \"9\": 2}, \"8\": {\"8\": 118, \"0\": 37, \"5\": 62, \"10\": 13, \"15\": 3, \"7\": 6, \"13\": 1}, \"11\": {\"11\": 171, \"14\": 62, \"4\": 1, \"2\": 2, \"12\": 4}, \"1\": {\"1\": 226, \"15\": 11, \"5\": 3}, \"10\": {\"10\": 159, \"14\": 9, \"12\": 31, \"8\": 5, \"13\": 23, \"15\": 1, \"0\": 7, \"11\": 3, \"5\": 1, \"2\": 1}, \"15\": {\"15\": 138, \"13\": 63, \"8\": 7, \"1\": 27, \"5\": 3, \"10\": 2}, \"3\": {\"3\": 203, \"0\": 4, \"9\": 24, \"7\": 8, \"5\": 1}, \"7\": {\"7\": 150, \"0\": 66, \"8\": 11, \"3\": 2, \"5\": 10, \"9\": 1}, \"4\": {\"12\": 19, \"4\": 220, \"10\": 1}, \"14\": {\"14\": 173, \"11\": 50, \"2\": 15, \"10\": 1, \"12\": 1}, \"9\": {\"3\": 13, \"9\": 133, \"6\": 85, \"5\": 7, \"0\": 1, \"7\": 1}, \"12\": {\"12\": 207, \"4\": 14, \"10\": 15, \"7\": 1, \"11\": 2, \"0\": 1}, \"6\": {\"9\": 72, \"6\": 166, \"5\": 1, \"0\": 1}, \"2\": {\"14\": 16, \"2\": 212, \"13\": 10, \"11\": 2}, \"0\": {\"7\": 67, \"8\": 70, \"3\": 13, \"0\": 49, \"4\": 1, \"5\": 26, \"10\": 9, \"9\": 3, \"13\": 1, \"15\": 1}, \"13\": {\"13\": 135, \"15\": 73, \"8\": 3, \"10\": 18, \"1\": 6, \"5\": 3, \"2\": 2}}, \"ORACLE.run1_8\": {\"9\": {\"9\": 240}, \"10\": {\"10\": 129, \"5\": 18, \"14\": 45, \"13\": 24, \"1\": 8, \"4\": 10, \"11\": 3, \"0\": 3}, \"13\": {\"0\": 62, \"10\": 23, \"13\": 56, \"4\": 49, \"14\": 22, \"6\": 17, \"7\": 9, \"11\": 1, \"1\": 1}, \"0\": {\"13\": 47, \"7\": 26, \"6\": 27, \"0\": 111, \"4\": 24, \"10\": 5}, \"1\": {\"1\": 100, \"5\": 13, \"11\": 79, \"14\": 32, \"10\": 10, \"4\": 4, \"6\": 1, \"13\": 1}, \"15\": {\"15\": 132, \"8\": 19, \"12\": 69, \"3\": 7, \"2\": 11, \"7\": 2}, \"5\": {\"5\": 191, \"10\": 19, \"13\": 1, \"11\": 10, \"1\": 14, \"14\": 4, \"0\": 1}, \"3\": {\"12\": 38, \"3\": 154, \"2\": 41, \"15\": 7}, \"6\": {\"4\": 34, \"6\": 102, \"7\": 51, \"13\": 16, \"0\": 21, \"8\": 11, \"14\": 5}, \"11\": {\"11\": 105, \"4\": 2, \"1\": 91, \"10\": 3, \"5\": 19, \"14\": 13, \"8\": 4, \"6\": 2, \"13\": 1}, \"8\": {\"8\": 189, \"15\": 29, \"6\": 7, \"7\": 9, \"12\": 2, \"14\": 1, \"4\": 2, \"11\": 1}, \"4\": {\"4\": 70, \"10\": 10, \"6\": 40, \"14\": 41, \"0\": 23, \"13\": 46, \"5\": 2, \"11\": 1, \"7\": 6, \"1\": 1}, \"12\": {\"12\": 104, \"3\": 57, \"15\": 63, \"8\": 6, \"2\": 9, \"7\": 1}, \"14\": {\"1\": 19, \"4\": 41, \"10\": 42, \"5\": 6, \"14\": 91, \"6\": 4, \"11\": 11, \"13\": 24, \"0\": 2}, \"2\": {\"2\": 151, \"3\": 55, \"12\": 14, \"7\": 7, \"15\": 11, \"6\": 1, \"8\": 1}, \"7\": {\"6\": 52, \"7\": 148, \"8\": 2, \"2\": 1, \"4\": 8, \"0\": 23, \"13\": 3, \"14\": 1, \"15\": 2}}, \"ORACLE.run1_50\": {\"7\": {\"10\": 10, \"7\": 137, \"13\": 52, \"5\": 38, \"4\": 1, \"0\": 2}, \"3\": {\"3\": 233, \"8\": 7}, \"8\": {\"8\": 228, \"0\": 1, \"3\": 5, \"10\": 6}, \"2\": {\"2\": 206, \"0\": 34}, \"14\": {\"14\": 230, \"12\": 6, \"11\": 4}, \"4\": {\"4\": 84, \"6\": 34, \"15\": 53, \"13\": 7, \"1\": 33, \"5\": 23, \"7\": 6}, \"6\": {\"6\": 116, \"5\": 28, \"13\": 19, \"4\": 39, \"1\": 35, \"0\": 2, \"7\": 1}, \"15\": {\"11\": 6, \"15\": 174, \"1\": 39, \"4\": 15, \"6\": 6}, \"10\": {\"10\": 211, \"0\": 12, \"7\": 11, \"5\": 1, \"8\": 4, \"13\": 1}, \"11\": {\"11\": 201, \"15\": 9, \"9\": 28, \"14\": 2}, \"13\": {\"7\": 44, \"13\": 116, \"6\": 15, \"5\": 55, \"4\": 5, \"10\": 3, \"0\": 2}, \"9\": {\"9\": 186, \"11\": 37, \"12\": 13, \"14\": 4}, \"0\": {\"0\": 193, \"2\": 34, \"10\": 7, \"13\": 4, \"7\": 1, \"6\": 1}, \"1\": {\"4\": 25, \"11\": 1, \"1\": 102, \"6\": 49, \"15\": 61, \"14\": 1, \"0\": 1}, \"12\": {\"12\": 204, \"14\": 16, \"9\": 18, \"11\": 2}, \"5\": {\"6\": 47, \"13\": 46, \"7\": 49, \"15\": 1, \"5\": 58, \"1\": 9, \"4\": 27, \"10\": 3}}, \"ORACLE.run1_32\": {\"8\": {\"8\": 156, \"13\": 28, \"5\": 24, \"0\": 23, \"3\": 4, \"15\": 1, \"4\": 3, \"14\": 1}, \"14\": {\"11\": 64, \"14\": 62, \"7\": 51, \"2\": 7, \"4\": 20, \"13\": 14, \"5\": 14, \"0\": 4, \"8\": 1, \"3\": 3}, \"2\": {\"2\": 173, \"4\": 35, \"0\": 22, \"7\": 8, \"13\": 1, \"14\": 1}, \"0\": {\"4\": 65, \"2\": 20, \"0\": 111, \"8\": 16, \"5\": 15, \"14\": 1, \"13\": 7, \"7\": 5}, \"1\": {\"1\": 237, \"10\": 3}, \"10\": {\"10\": 237, \"1\": 3}, \"11\": {\"14\": 58, \"11\": 155, \"7\": 12, \"3\": 8, \"5\": 5, \"13\": 2}, \"5\": {\"3\": 16, \"5\": 61, \"14\": 11, \"7\": 18, \"13\": 51, \"4\": 27, \"8\": 22, \"11\": 5, \"0\": 28, \"2\": 1}, \"15\": {\"15\": 236, \"8\": 2, \"3\": 2}, \"3\": {\"3\": 211, \"8\": 5, \"5\": 5, \"11\": 11, \"13\": 7, \"14\": 1}, \"12\": {\"12\": 240}, \"7\": {\"13\": 29, \"7\": 76, \"14\": 54, \"11\": 18, \"5\": 21, \"4\": 26, \"2\": 6, \"0\": 9, \"3\": 1}, \"13\": {\"8\": 21, \"7\": 21, \"13\": 74, \"3\": 31, \"5\": 50, \"11\": 8, \"4\": 11, \"14\": 12, \"0\": 12}, \"6\": {\"6\": 240}, \"4\": {\"0\": 53, \"4\": 80, \"5\": 20, \"7\": 29, \"2\": 37, \"13\": 12, \"14\": 8, \"8\": 1}, \"9\": {\"9\": 238, \"12\": 2}}, \"ORACLE.run1_26\": {\"4\": {\"0\": 34, \"1\": 38, \"8\": 27, \"14\": 41, \"4\": 60, \"7\": 21, \"10\": 17, \"9\": 1, \"15\": 1}, \"12\": {\"12\": 236, \"11\": 4}, \"10\": {\"15\": 3, \"0\": 48, \"10\": 80, \"6\": 27, \"14\": 21, \"8\": 27, \"9\": 8, \"4\": 14, \"1\": 10, \"7\": 2}, \"0\": {\"6\": 11, \"14\": 30, \"10\": 51, \"1\": 27, \"0\": 45, \"7\": 12, \"4\": 37, \"8\": 20, \"9\": 4, \"3\": 3}, \"13\": {\"13\": 153, \"2\": 7, \"9\": 15, \"5\": 45, \"6\": 8, \"15\": 11, \"8\": 1}, \"9\": {\"15\": 62, \"6\": 40, \"9\": 60, \"7\": 4, \"0\": 2, \"8\": 18, \"13\": 11, \"5\": 33, \"10\": 4, \"4\": 2, \"2\": 4}, \"3\": {\"2\": 53, \"3\": 147, \"7\": 36, \"8\": 2, \"4\": 2}, \"2\": {\"2\": 90, \"3\": 62, \"7\": 27, \"15\": 16, \"9\": 8, \"0\": 2, \"8\": 12, \"5\": 20, \"4\": 2, \"13\": 1}, \"5\": {\"13\": 29, \"5\": 95, \"15\": 55, \"2\": 16, \"9\": 26, \"8\": 7, \"6\": 9, \"7\": 3}, \"14\": {\"1\": 66, \"4\": 47, \"14\": 55, \"0\": 33, \"10\": 19, \"7\": 15, \"8\": 5}, \"8\": {\"15\": 26, \"6\": 14, \"8\": 63, \"10\": 28, \"4\": 24, \"9\": 14, \"5\": 2, \"1\": 7, \"7\": 18, \"0\": 23, \"14\": 7, \"2\": 11, \"13\": 1, \"3\": 2}, \"7\": {\"7\": 97, \"8\": 18, \"2\": 38, \"4\": 22, \"3\": 42, \"15\": 8, \"14\": 6, \"0\": 3, \"1\": 3, \"9\": 2, \"5\": 1}, \"6\": {\"13\": 9, \"6\": 140, \"10\": 28, \"0\": 9, \"15\": 4, \"9\": 31, \"5\": 3, \"8\": 12, \"2\": 1, \"4\": 1, \"7\": 2}, \"11\": {\"11\": 225, \"12\": 15}, \"15\": {\"15\": 62, \"8\": 20, \"13\": 18, \"9\": 46, \"6\": 19, \"5\": 47, \"0\": 2, \"2\": 12, \"10\": 3, \"7\": 9, \"3\": 1, \"4\": 1}, \"1\": {\"1\": 94, \"4\": 33, \"0\": 16, \"14\": 62, \"10\": 19, \"8\": 5, \"7\": 10, \"5\": 1}}, \"ORACLE.run1_44\": {\"12\": {\"12\": 171, \"10\": 19, \"1\": 48, \"3\": 2}, \"7\": {\"7\": 160, \"2\": 40, \"6\": 4, \"9\": 34, \"3\": 1, \"13\": 1}, \"5\": {\"5\": 190, \"14\": 11, \"0\": 24, \"8\": 5, \"15\": 10}, \"15\": {\"15\": 183, \"0\": 23, \"14\": 19, \"8\": 8, \"5\": 7}, \"8\": {\"8\": 154, \"0\": 74, \"15\": 3, \"5\": 9}, \"2\": {\"2\": 186, \"7\": 30, \"1\": 5, \"10\": 15, \"9\": 2, \"3\": 2}, \"13\": {\"13\": 135, \"9\": 37, \"11\": 29, \"6\": 36, \"7\": 1, \"4\": 2}, \"4\": {\"4\": 176, \"14\": 62, \"15\": 2}, \"0\": {\"0\": 134, \"8\": 69, \"5\": 18, \"15\": 19}, \"6\": {\"6\": 152, \"7\": 13, \"9\": 20, \"13\": 43, \"11\": 11, \"2\": 1}, \"9\": {\"9\": 124, \"13\": 30, \"7\": 62, \"6\": 22, \"11\": 1, \"2\": 1}, \"11\": {\"11\": 195, \"13\": 24, \"6\": 20, \"9\": 1}, \"10\": {\"10\": 169, \"1\": 27, \"12\": 22, \"2\": 22}, \"14\": {\"14\": 148, \"15\": 15, \"4\": 73, \"5\": 3, \"0\": 1}, \"1\": {\"12\": 41, \"1\": 145, \"10\": 19, \"3\": 25, \"2\": 10}, \"3\": {\"3\": 209, \"12\": 4, \"1\": 24, \"10\": 1, \"2\": 1, \"7\": 1}}, \"CORES_3\": {\"43\": {\"43\": 127, \"24\": 1}, \"9\": {\"9\": 150}, \"6\": {\"8\": 5, \"6\": 64, \"25\": 2, \"30\": 7, \"36\": 1, \"50\": 1, \"18\": 7, \"2\": 1}, \"3\": {\"3\": 143, \"46\": 1}, \"16\": {\"16\": 134}, \"51\": {\"51\": 128}, \"31\": {\"31\": 28}, \"46\": {\"46\": 122, \"52\": 6, \"3\": 1, \"25\": 2, \"16\": 1, \"20\": 2}, \"19\": {\"19\": 119, \"40\": 5}, \"8\": {\"8\": 152}, \"18\": {\"18\": 84}, \"37\": {\"37\": 28}, \"24\": {\"24\": 103, \"10\": 1}, \"10\": {\"10\": 64}, \"44\": {\"44\": 88}, \"14\": {\"14\": 22, \"56\": 2, \"22\": 5, \"34\": 6, \"29\": 1, \"1\": 1, \"35\": 1, \"47\": 1, \"57\": 1}, \"38\": {\"38\": 27, \"12\": 1}, \"53\": {\"53\": 140}, \"20\": {\"20\": 131, \"50\": 1}, \"32\": {\"32\": 28}, \"36\": {\"36\": 100}, \"33\": {\"33\": 28}, \"56\": {\"56\": 136}, \"23\": {\"23\": 130}, \"54\": {\"54\": 100}, \"21\": {\"21\": 125, \"51\": 1}, \"28\": {\"28\": 27, \"29\": 1}, \"26\": {\"26\": 24}, \"48\": {\"48\": 116}, \"52\": {\"52\": 113, \"46\": 3, \"25\": 2}, \"39\": {\"39\": 16}, \"22\": {\"22\": 139, \"28\": 1}, \"13\": {\"13\": 128}, \"2\": {\"2\": 32}, \"34\": {\"34\": 31, \"35\": 1}, \"27\": {\"27\": 132}, \"45\": {\"45\": 58, \"40\": 1, \"4\": 1}, \"35\": {\"35\": 28}, \"29\": {\"29\": 122, \"1\": 4, \"14\": 2}, \"25\": {\"25\": 143, \"6\": 1}, \"0\": {\"0\": 124}, \"41\": {\"41\": 28}, \"11\": {\"11\": 142}, \"5\": {\"5\": 101, \"39\": 2, \"42\": 2, \"47\": 2, \"55\": 1}, \"1\": {\"1\": 97, \"57\": 2, \"35\": 1}, \"57\": {\"57\": 107, \"1\": 8, \"55\": 1}, \"17\": {\"17\": 105, \"32\": 1, \"10\": 1, \"24\": 1}, \"7\": {\"7\": 35, \"15\": 1}, \"12\": {\"12\": 92}, \"47\": {\"47\": 91, \"42\": 1}, \"40\": {\"40\": 133, \"19\": 3}, \"15\": {\"15\": 142}, \"42\": {\"42\": 28}, \"55\": {\"55\": 146, \"57\": 3, \"42\": 1}, \"49\": {\"49\": 20}, \"30\": {\"30\": 116, \"2\": 1, \"38\": 1, \"6\": 2}, \"50\": {\"50\": 125, \"20\": 7, \"8\": 1, \"12\": 1}, \"4\": {\"4\": 136}}, \"CORES_4\": {\"35\": {\"35\": 39, \"55\": 1}, \"25\": {\"25\": 129, \"36\": 4, \"3\": 1}, \"24\": {\"24\": 56}, \"48\": {\"48\": 138}, \"51\": {\"51\": 144}, \"13\": {\"13\": 117, \"10\": 3}, \"14\": {\"35\": 5, \"14\": 6, \"55\": 2, \"56\": 3}, \"32\": {\"0\": 1, \"32\": 23}, \"30\": {\"30\": 44}, \"34\": {\"34\": 24}, \"9\": {\"9\": 135, \"17\": 1}, \"1\": {\"1\": 40}, \"0\": {\"38\": 7, \"0\": 60, \"22\": 6, \"20\": 1, \"49\": 2, \"36\": 1, \"54\": 1, \"43\": 2}, \"38\": {\"38\": 40}, \"22\": {\"22\": 125, \"0\": 3}, \"40\": {\"40\": 120}, \"6\": {\"6\": 101, \"53\": 5, \"45\": 1, \"51\": 3, \"3\": 2}, \"16\": {\"16\": 94, \"31\": 2}, \"11\": {\"11\": 104}, \"20\": {\"20\": 120, \"3\": 2}, \"17\": {\"17\": 79, \"9\": 1}, \"26\": {\"26\": 24}, \"54\": {\"54\": 108}, \"55\": {\"55\": 152, \"35\": 2}, \"50\": {\"50\": 108, \"20\": 7, \"21\": 9, \"53\": 6, \"55\": 1, \"25\": 1}, \"19\": {\"19\": 140, \"44\": 2}, \"44\": {\"44\": 119, \"19\": 3}, \"47\": {\"47\": 118, \"5\": 2}, \"33\": {\"33\": 36}, \"5\": {\"5\": 101, \"47\": 4, \"42\": 1, \"54\": 1, \"23\": 1}, \"18\": {\"18\": 107, \"23\": 1}, \"21\": {\"21\": 124}, \"41\": {\"41\": 35, \"46\": 1}, \"23\": {\"23\": 128}, \"39\": {\"39\": 20}, \"37\": {\"37\": 24}, \"8\": {\"8\": 144}, \"49\": {\"49\": 20}, \"53\": {\"53\": 139, \"6\": 1}, \"31\": {\"31\": 27, \"16\": 1}, \"28\": {\"28\": 30, \"33\": 2}, \"3\": {\"3\": 111, \"50\": 2, \"20\": 7, \"36\": 1, \"53\": 1, \"25\": 2}, \"27\": {\"27\": 138}, \"46\": {\"46\": 114, \"32\": 1, \"5\": 1, \"41\": 4, \"0\": 2, \"7\": 3, \"47\": 2, \"23\": 1}, \"12\": {\"12\": 91, \"21\": 1}, \"7\": {\"7\": 20, \"46\": 4}, \"4\": {\"4\": 132}, \"42\": {\"42\": 32}, \"43\": {\"43\": 130}, \"29\": {\"29\": 118, \"27\": 1, \"9\": 1}, \"57\": {\"57\": 98, \"55\": 2}, \"52\": {\"52\": 103, \"36\": 1}, \"45\": {\"45\": 96}, \"36\": {\"36\": 91, \"25\": 1}, \"10\": {\"10\": 126}, \"15\": {\"15\": 132, \"16\": 2}, \"56\": {\"56\": 123, \"28\": 1}, \"2\": {\"2\": 36}}, \"CORES_5\": {\"47\": {\"47\": 98, \"3\": 2}, \"53\": {\"53\": 139, \"20\": 11}, \"29\": {\"29\": 124, \"34\": 1, \"44\": 1}, \"52\": {\"52\": 125, \"23\": 5}, \"55\": {\"55\": 141, \"32\": 1, \"27\": 2}, \"17\": {\"17\": 116}, \"42\": {\"42\": 39, \"39\": 1}, \"33\": {\"33\": 32}, \"11\": {\"11\": 142, \"15\": 4, \"43\": 2}, \"19\": {\"19\": 118}, \"1\": {\"1\": 144}, \"44\": {\"44\": 142}, \"49\": {\"49\": 36}, \"4\": {\"4\": 100}, \"6\": {\"6\": 107, \"26\": 2, \"53\": 1, \"30\": 3, \"1\": 2, \"17\": 1}, \"39\": {\"39\": 18, \"42\": 2}, \"50\": {\"50\": 129, \"21\": 6, \"20\": 5, \"25\": 2, \"53\": 4, \"23\": 1, \"51\": 1}, \"56\": {\"56\": 129, \"35\": 1}, \"25\": {\"25\": 144}, \"28\": {\"28\": 32}, \"35\": {\"35\": 36}, \"24\": {\"24\": 80}, \"21\": {\"21\": 131, \"50\": 1}, \"45\": {\"45\": 117, \"17\": 1, \"27\": 2, \"9\": 2, \"4\": 1, \"48\": 1}, \"16\": {\"16\": 143, \"11\": 1}, \"37\": {\"37\": 24}, \"57\": {\"57\": 132}, \"34\": {\"34\": 35, \"40\": 1}, \"38\": {\"38\": 32}, \"48\": {\"48\": 125, \"9\": 5}, \"26\": {\"26\": 24}, \"9\": {\"9\": 151, \"48\": 1}, \"18\": {\"18\": 64}, \"3\": {\"47\": 6, \"3\": 82, \"46\": 4, \"31\": 4, \"42\": 3, \"54\": 1}, \"23\": {\"23\": 124}, \"15\": {\"15\": 143, \"43\": 6, \"11\": 5}, \"10\": {\"10\": 68}, \"46\": {\"46\": 147, \"39\": 1}, \"22\": {\"22\": 26, \"29\": 1, \"34\": 1}, \"54\": {\"54\": 112}, \"27\": {\"27\": 158, \"32\": 2}, \"41\": {\"41\": 23, \"57\": 2, \"54\": 2, \"49\": 1}, \"31\": {\"31\": 36}, \"0\": {\"0\": 118, \"56\": 6}, \"7\": {\"7\": 32}, \"2\": {\"2\": 28}, \"14\": {\"3\": 9, \"14\": 14, \"28\": 4, \"36\": 5, \"47\": 1, \"46\": 3, \"31\": 3, \"57\": 5}, \"40\": {\"40\": 117, \"9\": 1, \"5\": 1, \"44\": 1, \"29\": 2, \"34\": 1, \"27\": 1}, \"5\": {\"5\": 122, \"44\": 2, \"19\": 4}, \"12\": {\"12\": 96}, \"43\": {\"43\": 123, \"11\": 7, \"15\": 12}, \"13\": {\"13\": 146, \"10\": 2}, \"36\": {\"36\": 92}, \"8\": {\"8\": 150}, \"32\": {\"32\": 31, \"27\": 1}, \"30\": {\"30\": 128}, \"51\": {\"51\": 138}, \"20\": {\"20\": 124, \"53\": 14}}, \"CORES_1\": {\"46\": {\"46\": 140}, \"16\": {\"16\": 134}, \"26\": {\"26\": 24}, \"10\": {\"10\": 91, \"24\": 2, \"22\": 3}, \"9\": {\"9\": 152, \"8\": 4}, \"28\": {\"28\": 28}, \"51\": {\"51\": 151, \"12\": 4, \"41\": 1}, \"1\": {\"1\": 97, \"19\": 2, \"57\": 1}, \"55\": {\"55\": 148}, \"27\": {\"27\": 124}, \"22\": {\"10\": 11, \"22\": 86, \"21\": 7, \"15\": 12, \"24\": 7, \"52\": 1}, \"52\": {\"52\": 105, \"22\": 2, \"10\": 7, \"24\": 2, \"11\": 8, \"15\": 2}, \"3\": {\"3\": 138, \"20\": 2}, \"33\": {\"33\": 32}, \"47\": {\"47\": 120}, \"42\": {\"42\": 40}, \"12\": {\"12\": 106, \"51\": 4, \"53\": 2, \"46\": 1, \"13\": 3}, \"23\": {\"23\": 126, \"38\": 1, \"0\": 4, \"15\": 1}, \"49\": {\"49\": 30, \"23\": 2}, \"7\": {\"7\": 27, \"45\": 1}, \"4\": {\"4\": 132}, \"50\": {\"50\": 132, \"48\": 2}, \"19\": {\"19\": 152, \"56\": 1, \"1\": 1}, \"11\": {\"11\": 140}, \"31\": {\"31\": 28}, \"41\": {\"41\": 21, \"51\": 3}, \"56\": {\"56\": 112, \"57\": 19, \"19\": 5, \"44\": 1, \"1\": 1}, \"0\": {\"0\": 142, \"23\": 2, \"38\": 2, \"49\": 2}, \"57\": {\"57\": 103, \"1\": 3, \"56\": 18, \"19\": 4}, \"53\": {\"53\": 140}, \"43\": {\"43\": 144}, \"37\": {\"37\": 29, \"25\": 3}, \"2\": {\"2\": 36}, \"6\": {\"6\": 82, \"5\": 12, \"48\": 2}, \"13\": {\"13\": 149, \"51\": 1}, \"18\": {\"18\": 71, \"25\": 1}, \"36\": {\"36\": 64}, \"29\": {\"29\": 140}, \"39\": {\"39\": 28}, \"17\": {\"17\": 64}, \"21\": {\"21\": 116, \"22\": 3, \"15\": 5}, \"25\": {\"25\": 131, \"37\": 1}, \"45\": {\"45\": 141, \"42\": 1}, \"38\": {\"38\": 24}, \"30\": {\"30\": 120}, \"24\": {\"24\": 94, \"10\": 3, \"22\": 8, \"21\": 2, \"23\": 1}, \"20\": {\"20\": 140}, \"8\": {\"8\": 137, \"9\": 3}, \"35\": {\"35\": 36}, \"54\": {\"54\": 104}, \"5\": {\"5\": 137, \"6\": 10, \"8\": 1}, \"48\": {\"48\": 143, \"50\": 1}, \"15\": {\"15\": 138, \"21\": 4}, \"34\": {\"34\": 24}, \"14\": {\"54\": 2, \"53\": 2, \"26\": 2, \"14\": 9, \"25\": 1, \"9\": 3, \"51\": 1, \"30\": 1, \"8\": 1, \"20\": 1, \"13\": 1}, \"32\": {\"32\": 32}, \"40\": {\"40\": 148}, \"44\": {\"44\": 115, \"29\": 7, \"56\": 7, \"57\": 5, \"19\": 2}}, \"CORES_2\": {\"36\": {\"36\": 115, \"26\": 1}, \"5\": {\"5\": 118, \"0\": 2}, \"45\": {\"4\": 3, \"45\": 124, \"40\": 1}, \"49\": {\"49\": 24}, \"50\": {\"50\": 120, \"6\": 13, \"8\": 3}, \"4\": {\"4\": 138}, \"43\": {\"43\": 148}, \"41\": {\"41\": 20}, \"37\": {\"37\": 36}, \"12\": {\"12\": 92}, \"33\": {\"33\": 28}, \"7\": {\"7\": 36}, \"56\": {\"56\": 140}, \"14\": {\"56\": 8, \"22\": 1, \"14\": 10, \"29\": 2, \"57\": 2, \"55\": 1}, \"52\": {\"52\": 112, \"46\": 12}, \"44\": {\"44\": 94, \"19\": 2}, \"48\": {\"48\": 144}, \"20\": {\"20\": 127, \"53\": 1}, \"55\": {\"55\": 140, \"1\": 1, \"57\": 3}, \"32\": {\"32\": 28}, \"40\": {\"40\": 133, \"4\": 1, \"9\": 2}, \"54\": {\"54\": 108}, \"17\": {\"17\": 103, \"32\": 1}, \"38\": {\"38\": 20}, \"24\": {\"24\": 95, \"10\": 1}, \"1\": {\"1\": 112}, \"6\": {\"6\": 103, \"50\": 17, \"36\": 1, \"25\": 1, \"8\": 2}, \"34\": {\"34\": 28}, \"11\": {\"11\": 136}, \"9\": {\"9\": 150}, \"8\": {\"8\": 152}, \"22\": {\"14\": 2, \"22\": 134}, \"26\": {\"26\": 24}, \"23\": {\"23\": 145, \"39\": 1}, \"10\": {\"10\": 112}, \"18\": {\"18\": 48}, \"13\": {\"13\": 114, \"37\": 2}, \"30\": {\"30\": 118, \"18\": 2, \"8\": 2, \"23\": 2, \"7\": 1, \"12\": 1, \"25\": 2}, \"42\": {\"57\": 2, \"42\": 33, \"5\": 1}, \"31\": {\"31\": 28}, \"46\": {\"46\": 109, \"52\": 14, \"16\": 3, \"6\": 2}, \"57\": {\"57\": 141, \"42\": 1}, \"47\": {\"47\": 137, \"5\": 1}, \"35\": {\"35\": 32}, \"15\": {\"15\": 132}, \"25\": {\"25\": 134, \"6\": 2}, \"19\": {\"19\": 136}, \"51\": {\"51\": 128}, \"53\": {\"53\": 130, \"20\": 4}, \"21\": {\"21\": 120}, \"39\": {\"39\": 27, \"23\": 1}, \"2\": {\"2\": 32}, \"16\": {\"16\": 150}, \"0\": {\"0\": 45, \"5\": 3}, \"3\": {\"3\": 88, \"53\": 4}, \"27\": {\"27\": 142}, \"28\": {\"28\": 28}, \"29\": {\"29\": 128}}}, \"per_domain_accuracy\": {\"ORACLE.run1_14\": {\"accuracy\": 0.7020833333333333, \"source?\": true}, \"ORACLE.run1_20\": {\"accuracy\": 0.4666666666666667, \"source?\": true}, \"ORACLE.run1_38\": {\"accuracy\": 0.6661458333333333, \"source?\": true}, \"ORACLE.run1_8\": {\"accuracy\": 0.53984375, \"source?\": true}, \"ORACLE.run1_50\": {\"accuracy\": 0.69765625, \"source?\": true}, \"ORACLE.run1_32\": {\"accuracy\": 0.6736979166666667, \"source?\": true}, \"ORACLE.run1_26\": {\"accuracy\": 0.4432291666666667, \"source?\": true}, \"ORACLE.run1_44\": {\"accuracy\": 0.68515625, \"source?\": true}, \"CORES_3\": {\"accuracy\": 0.9771075581395349, \"source?\": false}, \"CORES_4\": {\"accuracy\": 0.9721590909090909, \"source?\": false}, \"CORES_5\": {\"accuracy\": 0.9649092178770949, \"source?\": false}, \"CORES_1\": {\"accuracy\": 0.9557718579234973, \"source?\": false}, \"CORES_2\": {\"accuracy\": 0.9761652542372882, \"source?\": false}}}, \"history\": {\"epoch_indices\": [1, 2, 3, 4, 5, 6, 7, 8], \"train_label_loss\": [1.6694724487229473, 1.0214311438479593, 0.8566644683613309, 0.7403782691651334, 0.6439527613210625, 0.5580974831373342, 0.4812419887801211, 0.4205984095676935], \"source_val_label_loss\": [1.2343080043792725, 1.0752229690551758, 1.0432323217391968, 1.058800220489502, 1.0972570180892944, 1.1582838296890259, 1.219604730606079, 1.3329254388809204], \"target_val_label_loss\": [0.19362673163414001, 0.18447712063789368, 0.19330330193042755, 0.21264488995075226, 0.23978278040885925, 0.2788519263267517, 0.3056613802909851, 0.35345959663391113], \"source_val_acc_label\": [0.5418619791666667, 0.5963216145833333, 0.60732421875, 0.6093098958333333, 0.6095377604166666, 0.6088216145833333, 0.6040690104166667, 0.6037434895833333], \"target_val_acc_label\": [0.9565496575342466, 0.9615796232876712, 0.9660388127853882, 0.9690353881278538, 0.9665739155251142, 0.9632919520547946, 0.9639697488584474, 0.963505993150685]}, \"dataset_metrics\": {\"source\": {\"train\": {\"n_unique_x\": 179200, \"n_unique_y\": 16, \"n_batch/episode\": 6720}, \"val\": {\"n_unique_x\": 38400, \"n_unique_y\": 16, \"n_batch/episode\": 960}, \"test\": {\"n_unique_x\": 38400, \"n_unique_y\": 16, \"n_batch/episode\": 960}}, \"target\": {\"train\": {\"n_unique_x\": 175212, \"n_unique_y\": 58, \"n_batch/episode\": 6322}, \"val\": {\"n_unique_x\": 37196, \"n_unique_y\": 58, \"n_batch/episode\": 876}, \"test\": {\"n_unique_x\": 37634, \"n_unique_y\": 58, \"n_batch/episode\": 891}}}}'"
      ]
     },
     "execution_count": 29,
     "metadata": {},
     "output_type": "execute_result"
    }
   ],
   "source": [
    "json.dumps(experiment)"
   ]
  }
 ],
 "metadata": {
  "celltoolbar": "Tags",
  "kernelspec": {
   "display_name": "Python 3 (ipykernel)",
   "language": "python",
   "name": "python3"
  },
  "language_info": {
   "codemirror_mode": {
    "name": "ipython",
    "version": 3
   },
   "file_extension": ".py",
   "mimetype": "text/x-python",
   "name": "python",
   "nbconvert_exporter": "python",
   "pygments_lexer": "ipython3",
   "version": "3.8.12"
  },
  "papermill": {
   "default_parameters": {},
   "duration": 2261.687225,
   "end_time": "2022-03-22T04:32:26.194923",
   "environment_variables": {},
   "exception": null,
   "input_path": "/root/csc500-main/csc500-notebooks/templates/tl_ptn_template.ipynb",
   "output_path": "trial.ipynb",
   "parameters": {
    "parameters": {
     "BEST_MODEL_PATH": "./best_model.pth",
     "NUM_LOGS_PER_EPOCH": 10,
     "criteria_for_best": "target_accuracy",
     "dataset_seed": 1337,
     "datasets": [
      {
       "domain_prefix": "CORES_",
       "domains": [
        1,
        2,
        3,
        4,
        5
       ],
       "episode_transforms": [],
       "labels": [
        "1-10.",
        "1-11.",
        "1-15.",
        "1-16.",
        "1-17.",
        "1-18.",
        "1-19.",
        "10-4.",
        "10-7.",
        "11-1.",
        "11-14.",
        "11-17.",
        "11-20.",
        "11-7.",
        "13-20.",
        "13-8.",
        "14-10.",
        "14-11.",
        "14-14.",
        "14-7.",
        "15-1.",
        "15-20.",
        "16-1.",
        "16-16.",
        "17-10.",
        "17-11.",
        "17-2.",
        "19-1.",
        "19-16.",
        "19-19.",
        "19-20.",
        "19-3.",
        "2-10.",
        "2-11.",
        "2-17.",
        "2-18.",
        "2-20.",
        "2-3.",
        "2-4.",
        "2-5.",
        "2-6.",
        "2-7.",
        "2-8.",
        "3-13.",
        "3-18.",
        "3-3.",
        "4-1.",
        "4-10.",
        "4-11.",
        "4-19.",
        "5-5.",
        "6-15.",
        "7-10.",
        "7-14.",
        "8-18.",
        "8-20.",
        "8-3.",
        "8-8."
       ],
       "num_examples_per_domain_per_label": -1,
       "pickle_path": "/root/csc500-main/datasets/cores.stratified_ds.2022A.pkl",
       "source_or_target_dataset": "target",
       "x_transforms": [
        "unit_power"
       ]
      },
      {
       "domain_prefix": "ORACLE.run1_",
       "domains": [
        32,
        38,
        8,
        44,
        14,
        50,
        20,
        26
       ],
       "episode_transforms": [],
       "labels": [
        "3123D52",
        "3123D65",
        "3123D79",
        "3123D80",
        "3123D54",
        "3123D70",
        "3123D7B",
        "3123D89",
        "3123D58",
        "3123D76",
        "3123D7D",
        "3123EFE",
        "3123D64",
        "3123D78",
        "3123D7E",
        "3124E4A"
       ],
       "num_examples_per_domain_per_label": 2000,
       "pickle_path": "/root/csc500-main/datasets/oracle.Run1_10kExamples_stratified_ds.2022A.pkl",
       "source_or_target_dataset": "source",
       "x_transforms": [
        "unit_power"
       ]
      }
     ],
     "device": "cuda",
     "experiment_name": "tl_1v2:cores-oracle.run1.limited",
     "lr": 0.0001,
     "n_epoch": 50,
     "n_query": 2,
     "n_shot": 3,
     "n_way": 16,
     "patience": 3,
     "seed": 1337,
     "test_k_factor": 2,
     "torch_default_dtype": "torch.float32",
     "train_k_factor": 3,
     "val_k_factor": 2,
     "x_net": [
      {
       "class": "nnReshape",
       "kargs": {
        "shape": [
         -1,
         1,
         2,
         256
        ]
       }
      },
      {
       "class": "Conv2d",
       "kargs": {
        "bias": false,
        "in_channels": 1,
        "kernel_size": [
         1,
         7
        ],
        "out_channels": 256,
        "padding": [
         0,
         3
        ]
       }
      },
      {
       "class": "ReLU",
       "kargs": {
        "inplace": true
       }
      },
      {
       "class": "BatchNorm2d",
       "kargs": {
        "num_features": 256
       }
      },
      {
       "class": "Conv2d",
       "kargs": {
        "bias": true,
        "in_channels": 256,
        "kernel_size": [
         2,
         7
        ],
        "out_channels": 80,
        "padding": [
         0,
         3
        ]
       }
      },
      {
       "class": "ReLU",
       "kargs": {
        "inplace": true
       }
      },
      {
       "class": "BatchNorm2d",
       "kargs": {
        "num_features": 80
       }
      },
      {
       "class": "Flatten",
       "kargs": {}
      },
      {
       "class": "Linear",
       "kargs": {
        "in_features": 20480,
        "out_features": 256
       }
      },
      {
       "class": "ReLU",
       "kargs": {
        "inplace": true
       }
      },
      {
       "class": "BatchNorm1d",
       "kargs": {
        "num_features": 256
       }
      },
      {
       "class": "Linear",
       "kargs": {
        "in_features": 256,
        "out_features": 256
       }
      }
     ]
    }
   },
   "start_time": "2022-03-22T03:54:44.507698",
   "version": "2.3.4"
  }
 },
 "nbformat": 4,
 "nbformat_minor": 5
}