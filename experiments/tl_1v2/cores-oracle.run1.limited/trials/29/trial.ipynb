{
 "cells": [
  {
   "cell_type": "markdown",
   "id": "9fea5f46",
   "metadata": {
    "papermill": {
     "duration": 0.029777,
     "end_time": "2022-03-22T19:27:57.563058",
     "exception": false,
     "start_time": "2022-03-22T19:27:57.533281",
     "status": "completed"
    },
    "tags": []
   },
   "source": [
    "# Transfer Learning Template"
   ]
  },
  {
   "cell_type": "code",
   "execution_count": 1,
   "id": "0902182a",
   "metadata": {
    "execution": {
     "iopub.execute_input": "2022-03-22T19:27:57.626167Z",
     "iopub.status.busy": "2022-03-22T19:27:57.625307Z",
     "iopub.status.idle": "2022-03-22T19:27:59.505066Z",
     "shell.execute_reply": "2022-03-22T19:27:59.504632Z"
    },
    "papermill": {
     "duration": 1.918864,
     "end_time": "2022-03-22T19:27:59.505172",
     "exception": false,
     "start_time": "2022-03-22T19:27:57.586308",
     "status": "completed"
    },
    "tags": []
   },
   "outputs": [],
   "source": [
    "%load_ext autoreload\n",
    "%autoreload 2\n",
    "%matplotlib inline\n",
    "\n",
    "    \n",
    "import os, json, sys, time, random\n",
    "import numpy as np\n",
    "import torch\n",
    "from torch.optim import Adam\n",
    "from  easydict import EasyDict\n",
    "import matplotlib.pyplot as plt\n",
    "\n",
    "from steves_models.steves_ptn import Steves_Prototypical_Network\n",
    "\n",
    "from steves_utils.lazy_iterable_wrapper import Lazy_Iterable_Wrapper\n",
    "from steves_utils.iterable_aggregator import Iterable_Aggregator\n",
    "from steves_utils.ptn_train_eval_test_jig import  PTN_Train_Eval_Test_Jig\n",
    "from steves_utils.torch_sequential_builder import build_sequential\n",
    "from steves_utils.torch_utils import get_dataset_metrics, ptn_confusion_by_domain_over_dataloader\n",
    "from steves_utils.utils_v2 import (per_domain_accuracy_from_confusion, get_datasets_base_path)\n",
    "from steves_utils.PTN.utils import independent_accuracy_assesment\n",
    "\n",
    "from torch.utils.data import DataLoader\n",
    "\n",
    "from steves_utils.stratified_dataset.episodic_accessor import Episodic_Accessor_Factory\n",
    "\n",
    "from steves_utils.ptn_do_report import (\n",
    "    get_loss_curve,\n",
    "    get_results_table,\n",
    "    get_parameters_table,\n",
    "    get_domain_accuracies,\n",
    ")\n",
    "\n",
    "from steves_utils.transforms import get_chained_transform"
   ]
  },
  {
   "cell_type": "markdown",
   "id": "41c840b4",
   "metadata": {
    "papermill": {
     "duration": 0.020039,
     "end_time": "2022-03-22T19:27:59.550055",
     "exception": false,
     "start_time": "2022-03-22T19:27:59.530016",
     "status": "completed"
    },
    "tags": []
   },
   "source": [
    "# Allowed Parameters\n",
    "These are allowed parameters, not defaults\n",
    "Each of these values need to be present in the injected parameters (the notebook will raise an exception if they are not present)\n",
    "\n",
    "Papermill uses the cell tag \"parameters\" to inject the real parameters below this cell.\n",
    "Enable tags to see what I mean"
   ]
  },
  {
   "cell_type": "code",
   "execution_count": 2,
   "id": "fd44eb83",
   "metadata": {
    "execution": {
     "iopub.execute_input": "2022-03-22T19:27:59.595200Z",
     "iopub.status.busy": "2022-03-22T19:27:59.594813Z",
     "iopub.status.idle": "2022-03-22T19:27:59.617276Z",
     "shell.execute_reply": "2022-03-22T19:27:59.616430Z"
    },
    "papermill": {
     "duration": 0.04731,
     "end_time": "2022-03-22T19:27:59.617450",
     "exception": false,
     "start_time": "2022-03-22T19:27:59.570140",
     "status": "completed"
    },
    "tags": []
   },
   "outputs": [],
   "source": [
    "required_parameters = {\n",
    "    \"experiment_name\",\n",
    "    \"lr\",\n",
    "    \"device\",\n",
    "    \"seed\",\n",
    "    \"dataset_seed\",\n",
    "    \"n_shot\",\n",
    "    \"n_query\",\n",
    "    \"n_way\",\n",
    "    \"train_k_factor\",\n",
    "    \"val_k_factor\",\n",
    "    \"test_k_factor\",\n",
    "    \"n_epoch\",\n",
    "    \"patience\",\n",
    "    \"criteria_for_best\",\n",
    "    \"x_net\",\n",
    "    \"datasets\",\n",
    "    \"torch_default_dtype\",\n",
    "    \"NUM_LOGS_PER_EPOCH\",\n",
    "    \"BEST_MODEL_PATH\",\n",
    "    \"x_shape\",\n",
    "}"
   ]
  },
  {
   "cell_type": "code",
   "execution_count": 3,
   "id": "fa3f0049",
   "metadata": {
    "execution": {
     "iopub.execute_input": "2022-03-22T19:27:59.684132Z",
     "iopub.status.busy": "2022-03-22T19:27:59.683316Z",
     "iopub.status.idle": "2022-03-22T19:27:59.703314Z",
     "shell.execute_reply": "2022-03-22T19:27:59.702496Z"
    },
    "papermill": {
     "duration": 0.054648,
     "end_time": "2022-03-22T19:27:59.703475",
     "exception": false,
     "start_time": "2022-03-22T19:27:59.648827",
     "status": "completed"
    },
    "tags": [
     "parameters"
    ]
   },
   "outputs": [],
   "source": [
    "from steves_utils.CORES.utils import (\n",
    "    ALL_NODES,\n",
    "    ALL_NODES_MINIMUM_1000_EXAMPLES,\n",
    "    ALL_DAYS\n",
    ")\n",
    "\n",
    "from steves_utils.ORACLE.utils_v2 import (\n",
    "    ALL_DISTANCES_FEET_NARROWED,\n",
    "    ALL_RUNS,\n",
    "    ALL_SERIAL_NUMBERS,\n",
    ")\n",
    "\n",
    "standalone_parameters = {}\n",
    "standalone_parameters[\"experiment_name\"] = \"STANDALONE PTN\"\n",
    "standalone_parameters[\"lr\"] = 0.001\n",
    "standalone_parameters[\"device\"] = \"cuda\"\n",
    "\n",
    "standalone_parameters[\"seed\"] = 1337\n",
    "standalone_parameters[\"dataset_seed\"] = 1337\n",
    "\n",
    "standalone_parameters[\"n_way\"] = 8\n",
    "standalone_parameters[\"n_shot\"] = 3\n",
    "standalone_parameters[\"n_query\"]  = 2\n",
    "standalone_parameters[\"train_k_factor\"] = 1\n",
    "standalone_parameters[\"val_k_factor\"] = 2\n",
    "standalone_parameters[\"test_k_factor\"] = 2\n",
    "\n",
    "\n",
    "standalone_parameters[\"n_epoch\"] = 50\n",
    "\n",
    "standalone_parameters[\"patience\"] = 10\n",
    "standalone_parameters[\"criteria_for_best\"] = \"source_loss\"\n",
    "\n",
    "standalone_parameters[\"datasets\"] = [\n",
    "    {\n",
    "        \"labels\": ALL_SERIAL_NUMBERS,\n",
    "        \"domains\": ALL_DISTANCES_FEET_NARROWED,\n",
    "        \"num_examples_per_domain_per_label\": 100,\n",
    "        \"pickle_path\": os.path.join(get_datasets_base_path(), \"oracle.Run1_framed_2000Examples_stratified_ds.2022A.pkl\"),\n",
    "        \"source_or_target_dataset\": \"source\",\n",
    "        \"x_transforms\": [\"unit_mag\", \"minus_two\"],\n",
    "        \"episode_transforms\": [],\n",
    "        \"domain_prefix\": \"ORACLE_\"\n",
    "    },\n",
    "    {\n",
    "        \"labels\": ALL_NODES,\n",
    "        \"domains\": ALL_DAYS,\n",
    "        \"num_examples_per_domain_per_label\": 100,\n",
    "        \"pickle_path\": os.path.join(get_datasets_base_path(), \"cores.stratified_ds.2022A.pkl\"),\n",
    "        \"source_or_target_dataset\": \"target\",\n",
    "        \"x_transforms\": [\"unit_power\", \"times_zero\"],\n",
    "        \"episode_transforms\": [],\n",
    "        \"domain_prefix\": \"CORES_\"\n",
    "    }   \n",
    "]\n",
    "\n",
    "standalone_parameters[\"torch_default_dtype\"] = \"torch.float32\" \n",
    "\n",
    "\n",
    "\n",
    "standalone_parameters[\"x_net\"] =     [\n",
    "    {\"class\": \"nnReshape\", \"kargs\": {\"shape\":[-1, 1, 2, 256]}},\n",
    "    {\"class\": \"Conv2d\", \"kargs\": { \"in_channels\":1, \"out_channels\":256, \"kernel_size\":(1,7), \"bias\":False, \"padding\":(0,3), },},\n",
    "    {\"class\": \"ReLU\", \"kargs\": {\"inplace\": True}},\n",
    "    {\"class\": \"BatchNorm2d\", \"kargs\": {\"num_features\":256}},\n",
    "\n",
    "    {\"class\": \"Conv2d\", \"kargs\": { \"in_channels\":256, \"out_channels\":80, \"kernel_size\":(2,7), \"bias\":True, \"padding\":(0,3), },},\n",
    "    {\"class\": \"ReLU\", \"kargs\": {\"inplace\": True}},\n",
    "    {\"class\": \"BatchNorm2d\", \"kargs\": {\"num_features\":80}},\n",
    "    {\"class\": \"Flatten\", \"kargs\": {}},\n",
    "\n",
    "    {\"class\": \"Linear\", \"kargs\": {\"in_features\": 80*256, \"out_features\": 256}}, # 80 units per IQ pair\n",
    "    {\"class\": \"ReLU\", \"kargs\": {\"inplace\": True}},\n",
    "    {\"class\": \"BatchNorm1d\", \"kargs\": {\"num_features\":256}},\n",
    "\n",
    "    {\"class\": \"Linear\", \"kargs\": {\"in_features\": 256, \"out_features\": 256}},\n",
    "]\n",
    "\n",
    "# Parameters relevant to results\n",
    "# These parameters will basically never need to change\n",
    "standalone_parameters[\"NUM_LOGS_PER_EPOCH\"] = 10\n",
    "standalone_parameters[\"BEST_MODEL_PATH\"] = \"./best_model.pth\"\n",
    "\n",
    "\n",
    "\n",
    "\n"
   ]
  },
  {
   "cell_type": "code",
   "execution_count": 4,
   "id": "65c4ad22",
   "metadata": {
    "execution": {
     "iopub.execute_input": "2022-03-22T19:27:59.760663Z",
     "iopub.status.busy": "2022-03-22T19:27:59.749162Z",
     "iopub.status.idle": "2022-03-22T19:27:59.780688Z",
     "shell.execute_reply": "2022-03-22T19:27:59.779879Z"
    },
    "papermill": {
     "duration": 0.053417,
     "end_time": "2022-03-22T19:27:59.780844",
     "exception": false,
     "start_time": "2022-03-22T19:27:59.727427",
     "status": "completed"
    },
    "tags": [
     "injected-parameters"
    ]
   },
   "outputs": [],
   "source": [
    "# Parameters\n",
    "parameters = {\n",
    "    \"experiment_name\": \"tl_1v2:cores-oracle.run1.limited\",\n",
    "    \"device\": \"cuda\",\n",
    "    \"lr\": 0.0001,\n",
    "    \"n_shot\": 3,\n",
    "    \"n_query\": 2,\n",
    "    \"train_k_factor\": 3,\n",
    "    \"val_k_factor\": 2,\n",
    "    \"test_k_factor\": 2,\n",
    "    \"torch_default_dtype\": \"torch.float32\",\n",
    "    \"n_epoch\": 50,\n",
    "    \"patience\": 3,\n",
    "    \"criteria_for_best\": \"target_accuracy\",\n",
    "    \"x_net\": [\n",
    "        {\"class\": \"nnReshape\", \"kargs\": {\"shape\": [-1, 1, 2, 256]}},\n",
    "        {\n",
    "            \"class\": \"Conv2d\",\n",
    "            \"kargs\": {\n",
    "                \"in_channels\": 1,\n",
    "                \"out_channels\": 256,\n",
    "                \"kernel_size\": [1, 7],\n",
    "                \"bias\": False,\n",
    "                \"padding\": [0, 3],\n",
    "            },\n",
    "        },\n",
    "        {\"class\": \"ReLU\", \"kargs\": {\"inplace\": True}},\n",
    "        {\"class\": \"BatchNorm2d\", \"kargs\": {\"num_features\": 256}},\n",
    "        {\n",
    "            \"class\": \"Conv2d\",\n",
    "            \"kargs\": {\n",
    "                \"in_channels\": 256,\n",
    "                \"out_channels\": 80,\n",
    "                \"kernel_size\": [2, 7],\n",
    "                \"bias\": True,\n",
    "                \"padding\": [0, 3],\n",
    "            },\n",
    "        },\n",
    "        {\"class\": \"ReLU\", \"kargs\": {\"inplace\": True}},\n",
    "        {\"class\": \"BatchNorm2d\", \"kargs\": {\"num_features\": 80}},\n",
    "        {\"class\": \"Flatten\", \"kargs\": {}},\n",
    "        {\"class\": \"Linear\", \"kargs\": {\"in_features\": 20480, \"out_features\": 256}},\n",
    "        {\"class\": \"ReLU\", \"kargs\": {\"inplace\": True}},\n",
    "        {\"class\": \"BatchNorm1d\", \"kargs\": {\"num_features\": 256}},\n",
    "        {\"class\": \"Linear\", \"kargs\": {\"in_features\": 256, \"out_features\": 256}},\n",
    "    ],\n",
    "    \"NUM_LOGS_PER_EPOCH\": 10,\n",
    "    \"BEST_MODEL_PATH\": \"./best_model.pth\",\n",
    "    \"n_way\": 16,\n",
    "    \"datasets\": [\n",
    "        {\n",
    "            \"labels\": [\n",
    "                \"1-10.\",\n",
    "                \"1-11.\",\n",
    "                \"1-15.\",\n",
    "                \"1-16.\",\n",
    "                \"1-17.\",\n",
    "                \"1-18.\",\n",
    "                \"1-19.\",\n",
    "                \"10-4.\",\n",
    "                \"10-7.\",\n",
    "                \"11-1.\",\n",
    "                \"11-14.\",\n",
    "                \"11-17.\",\n",
    "                \"11-20.\",\n",
    "                \"11-7.\",\n",
    "                \"13-20.\",\n",
    "                \"13-8.\",\n",
    "                \"14-10.\",\n",
    "                \"14-11.\",\n",
    "                \"14-14.\",\n",
    "                \"14-7.\",\n",
    "                \"15-1.\",\n",
    "                \"15-20.\",\n",
    "                \"16-1.\",\n",
    "                \"16-16.\",\n",
    "                \"17-10.\",\n",
    "                \"17-11.\",\n",
    "                \"17-2.\",\n",
    "                \"19-1.\",\n",
    "                \"19-16.\",\n",
    "                \"19-19.\",\n",
    "                \"19-20.\",\n",
    "                \"19-3.\",\n",
    "                \"2-10.\",\n",
    "                \"2-11.\",\n",
    "                \"2-17.\",\n",
    "                \"2-18.\",\n",
    "                \"2-20.\",\n",
    "                \"2-3.\",\n",
    "                \"2-4.\",\n",
    "                \"2-5.\",\n",
    "                \"2-6.\",\n",
    "                \"2-7.\",\n",
    "                \"2-8.\",\n",
    "                \"3-13.\",\n",
    "                \"3-18.\",\n",
    "                \"3-3.\",\n",
    "                \"4-1.\",\n",
    "                \"4-10.\",\n",
    "                \"4-11.\",\n",
    "                \"4-19.\",\n",
    "                \"5-5.\",\n",
    "                \"6-15.\",\n",
    "                \"7-10.\",\n",
    "                \"7-14.\",\n",
    "                \"8-18.\",\n",
    "                \"8-20.\",\n",
    "                \"8-3.\",\n",
    "                \"8-8.\",\n",
    "            ],\n",
    "            \"domains\": [1, 2, 3, 4, 5],\n",
    "            \"num_examples_per_domain_per_label\": -1,\n",
    "            \"pickle_path\": \"/root/csc500-main/datasets/cores.stratified_ds.2022A.pkl\",\n",
    "            \"source_or_target_dataset\": \"target\",\n",
    "            \"x_transforms\": [],\n",
    "            \"episode_transforms\": [],\n",
    "            \"domain_prefix\": \"CORES_\",\n",
    "        },\n",
    "        {\n",
    "            \"labels\": [\n",
    "                \"3123D52\",\n",
    "                \"3123D65\",\n",
    "                \"3123D79\",\n",
    "                \"3123D80\",\n",
    "                \"3123D54\",\n",
    "                \"3123D70\",\n",
    "                \"3123D7B\",\n",
    "                \"3123D89\",\n",
    "                \"3123D58\",\n",
    "                \"3123D76\",\n",
    "                \"3123D7D\",\n",
    "                \"3123EFE\",\n",
    "                \"3123D64\",\n",
    "                \"3123D78\",\n",
    "                \"3123D7E\",\n",
    "                \"3124E4A\",\n",
    "            ],\n",
    "            \"domains\": [32, 38, 8, 44, 14, 50, 20, 26],\n",
    "            \"num_examples_per_domain_per_label\": 2000,\n",
    "            \"pickle_path\": \"/root/csc500-main/datasets/oracle.Run1_10kExamples_stratified_ds.2022A.pkl\",\n",
    "            \"source_or_target_dataset\": \"source\",\n",
    "            \"x_transforms\": [],\n",
    "            \"episode_transforms\": [],\n",
    "            \"domain_prefix\": \"ORACLE.run1_\",\n",
    "        },\n",
    "    ],\n",
    "    \"dataset_seed\": 500,\n",
    "    \"seed\": 500,\n",
    "}\n"
   ]
  },
  {
   "cell_type": "code",
   "execution_count": 5,
   "id": "8fa1cc33",
   "metadata": {
    "execution": {
     "iopub.execute_input": "2022-03-22T19:27:59.832060Z",
     "iopub.status.busy": "2022-03-22T19:27:59.831689Z",
     "iopub.status.idle": "2022-03-22T19:27:59.849530Z",
     "shell.execute_reply": "2022-03-22T19:27:59.848722Z"
    },
    "papermill": {
     "duration": 0.041055,
     "end_time": "2022-03-22T19:27:59.849683",
     "exception": false,
     "start_time": "2022-03-22T19:27:59.808628",
     "status": "completed"
    },
    "tags": []
   },
   "outputs": [],
   "source": [
    "# Set this to True if you want to run this template directly\n",
    "STANDALONE = False\n",
    "if STANDALONE:\n",
    "    print(\"parameters not injected, running with standalone_parameters\")\n",
    "    parameters = standalone_parameters\n",
    "\n",
    "if not 'parameters' in locals() and not 'parameters' in globals():\n",
    "    raise Exception(\"Parameter injection failed\")\n",
    "\n",
    "#Use an easy dict for all the parameters\n",
    "p = EasyDict(parameters)\n",
    "\n",
    "if \"x_shape\" not in p:\n",
    "    p.x_shape = [2,256] # Default to this if we dont supply x_shape\n",
    "\n",
    "\n",
    "supplied_keys = set(p.keys())\n",
    "\n",
    "if  supplied_keys != required_parameters:\n",
    "    print(\"Parameters are incorrect\")\n",
    "    if len(supplied_keys - required_parameters)>0: print(\"Shouldn't have:\", str(supplied_keys - required_parameters))\n",
    "    if len(required_parameters - supplied_keys)>0: print(\"Need to have:\", str(required_parameters - supplied_keys))\n",
    "    raise RuntimeError(\"Parameters are incorrect\")"
   ]
  },
  {
   "cell_type": "code",
   "execution_count": 6,
   "id": "3a028d58",
   "metadata": {
    "execution": {
     "iopub.execute_input": "2022-03-22T19:27:59.898319Z",
     "iopub.status.busy": "2022-03-22T19:27:59.897631Z",
     "iopub.status.idle": "2022-03-22T19:27:59.919350Z",
     "shell.execute_reply": "2022-03-22T19:27:59.918542Z"
    },
    "papermill": {
     "duration": 0.044954,
     "end_time": "2022-03-22T19:27:59.919503",
     "exception": false,
     "start_time": "2022-03-22T19:27:59.874549",
     "status": "completed"
    },
    "tags": []
   },
   "outputs": [],
   "source": [
    "###################################\n",
    "# Set the RNGs and make it all deterministic\n",
    "###################################\n",
    "np.random.seed(p.seed)\n",
    "random.seed(p.seed)\n",
    "torch.manual_seed(p.seed)\n",
    "\n",
    "torch.use_deterministic_algorithms(True) "
   ]
  },
  {
   "cell_type": "code",
   "execution_count": 7,
   "id": "b691acf6",
   "metadata": {
    "execution": {
     "iopub.execute_input": "2022-03-22T19:27:59.972524Z",
     "iopub.status.busy": "2022-03-22T19:27:59.972160Z",
     "iopub.status.idle": "2022-03-22T19:27:59.991391Z",
     "shell.execute_reply": "2022-03-22T19:27:59.990581Z"
    },
    "papermill": {
     "duration": 0.043481,
     "end_time": "2022-03-22T19:27:59.991558",
     "exception": false,
     "start_time": "2022-03-22T19:27:59.948077",
     "status": "completed"
    },
    "tags": []
   },
   "outputs": [],
   "source": [
    "###########################################\n",
    "# The stratified datasets honor this\n",
    "###########################################\n",
    "torch.set_default_dtype(eval(p.torch_default_dtype))"
   ]
  },
  {
   "cell_type": "code",
   "execution_count": 8,
   "id": "b5fba671",
   "metadata": {
    "execution": {
     "iopub.execute_input": "2022-03-22T19:28:00.042691Z",
     "iopub.status.busy": "2022-03-22T19:28:00.042325Z",
     "iopub.status.idle": "2022-03-22T19:28:00.092896Z",
     "shell.execute_reply": "2022-03-22T19:28:00.092180Z"
    },
    "papermill": {
     "duration": 0.072409,
     "end_time": "2022-03-22T19:28:00.093052",
     "exception": false,
     "start_time": "2022-03-22T19:28:00.020643",
     "status": "completed"
    },
    "tags": []
   },
   "outputs": [],
   "source": [
    "###################################\n",
    "# Build the network(s)\n",
    "# Note: It's critical to do this AFTER setting the RNG\n",
    "###################################\n",
    "x_net = build_sequential(p.x_net)"
   ]
  },
  {
   "cell_type": "code",
   "execution_count": 9,
   "id": "5d7e61cc",
   "metadata": {
    "execution": {
     "iopub.execute_input": "2022-03-22T19:28:00.142089Z",
     "iopub.status.busy": "2022-03-22T19:28:00.141537Z",
     "iopub.status.idle": "2022-03-22T19:28:00.169448Z",
     "shell.execute_reply": "2022-03-22T19:28:00.168637Z"
    },
    "papermill": {
     "duration": 0.052021,
     "end_time": "2022-03-22T19:28:00.169601",
     "exception": false,
     "start_time": "2022-03-22T19:28:00.117580",
     "status": "completed"
    },
    "tags": []
   },
   "outputs": [],
   "source": [
    "start_time_secs = time.time()"
   ]
  },
  {
   "cell_type": "code",
   "execution_count": 10,
   "id": "c6b67dfd",
   "metadata": {
    "execution": {
     "iopub.execute_input": "2022-03-22T19:28:00.226792Z",
     "iopub.status.busy": "2022-03-22T19:28:00.218966Z",
     "iopub.status.idle": "2022-03-22T19:28:00.240872Z",
     "shell.execute_reply": "2022-03-22T19:28:00.240064Z"
    },
    "papermill": {
     "duration": 0.045151,
     "end_time": "2022-03-22T19:28:00.241025",
     "exception": false,
     "start_time": "2022-03-22T19:28:00.195874",
     "status": "completed"
    },
    "tags": []
   },
   "outputs": [],
   "source": [
    "p.domains_source = []\n",
    "p.domains_target = []\n",
    "\n",
    "\n",
    "train_original_source = []\n",
    "val_original_source   = []\n",
    "test_original_source  = []\n",
    "\n",
    "train_original_target = []\n",
    "val_original_target   = []\n",
    "test_original_target  = []"
   ]
  },
  {
   "cell_type": "code",
   "execution_count": 11,
   "id": "e3d9c3d3",
   "metadata": {
    "execution": {
     "iopub.execute_input": "2022-03-22T19:28:00.292347Z",
     "iopub.status.busy": "2022-03-22T19:28:00.291982Z",
     "iopub.status.idle": "2022-03-22T19:28:00.309033Z",
     "shell.execute_reply": "2022-03-22T19:28:00.308220Z"
    },
    "papermill": {
     "duration": 0.039685,
     "end_time": "2022-03-22T19:28:00.309189",
     "exception": false,
     "start_time": "2022-03-22T19:28:00.269504",
     "status": "completed"
    },
    "tags": []
   },
   "outputs": [],
   "source": [
    "# global_x_transform_func = lambda x: normalize(x.to(torch.get_default_dtype()), \"unit_power\") # unit_power, unit_mag\n",
    "# global_x_transform_func = lambda x: normalize(x, \"unit_power\") # unit_power, unit_mag"
   ]
  },
  {
   "cell_type": "code",
   "execution_count": 12,
   "id": "acb78fd2",
   "metadata": {
    "execution": {
     "iopub.execute_input": "2022-03-22T19:28:00.375812Z",
     "iopub.status.busy": "2022-03-22T19:28:00.370428Z",
     "iopub.status.idle": "2022-03-22T19:28:00.391673Z",
     "shell.execute_reply": "2022-03-22T19:28:00.390843Z"
    },
    "papermill": {
     "duration": 0.053527,
     "end_time": "2022-03-22T19:28:00.391828",
     "exception": false,
     "start_time": "2022-03-22T19:28:00.338301",
     "status": "completed"
    },
    "tags": []
   },
   "outputs": [],
   "source": [
    "def add_dataset(\n",
    "    labels,\n",
    "    domains,\n",
    "    pickle_path,\n",
    "    x_transforms,\n",
    "    episode_transforms,\n",
    "    domain_prefix,\n",
    "    num_examples_per_domain_per_label,\n",
    "    source_or_target_dataset:str,\n",
    "    iterator_seed=p.seed,\n",
    "    dataset_seed=p.dataset_seed,\n",
    "    n_shot=p.n_shot,\n",
    "    n_way=p.n_way,\n",
    "    n_query=p.n_query,\n",
    "    train_val_test_k_factors=(p.train_k_factor,p.val_k_factor,p.test_k_factor),\n",
    "):\n",
    "   \n",
    "    if x_transforms == []: x_transform = None\n",
    "    else: x_transform = get_chained_transform(x_transforms)\n",
    "    \n",
    "    if episode_transforms == []: episode_transform = None\n",
    "    else: raise Exception(\"episode_transforms not implemented\")\n",
    "    \n",
    "    episode_transform = lambda tup, _prefix=domain_prefix: (_prefix + str(tup[0]), tup[1])\n",
    "\n",
    "\n",
    "    eaf = Episodic_Accessor_Factory(\n",
    "        labels=labels,\n",
    "        domains=domains,\n",
    "        num_examples_per_domain_per_label=num_examples_per_domain_per_label,\n",
    "        iterator_seed=iterator_seed,\n",
    "        dataset_seed=dataset_seed,\n",
    "        n_shot=n_shot,\n",
    "        n_way=n_way,\n",
    "        n_query=n_query,\n",
    "        train_val_test_k_factors=train_val_test_k_factors,\n",
    "        pickle_path=pickle_path,\n",
    "        x_transform_func=x_transform,\n",
    "    )\n",
    "\n",
    "    train, val, test = eaf.get_train(), eaf.get_val(), eaf.get_test()\n",
    "    train = Lazy_Iterable_Wrapper(train, episode_transform)\n",
    "    val = Lazy_Iterable_Wrapper(val, episode_transform)\n",
    "    test = Lazy_Iterable_Wrapper(test, episode_transform)\n",
    "\n",
    "    if source_or_target_dataset==\"source\":\n",
    "        train_original_source.append(train)\n",
    "        val_original_source.append(val)\n",
    "        test_original_source.append(test)\n",
    "\n",
    "        p.domains_source.extend(\n",
    "            [domain_prefix + str(u) for u in domains]\n",
    "        )\n",
    "    elif source_or_target_dataset==\"target\":\n",
    "        train_original_target.append(train)\n",
    "        val_original_target.append(val)\n",
    "        test_original_target.append(test)\n",
    "        p.domains_target.extend(\n",
    "            [domain_prefix + str(u) for u in domains]\n",
    "        )\n",
    "    else:\n",
    "        raise Exception(f\"invalid source_or_target_dataset: {source_or_target_dataset}\")\n",
    "    "
   ]
  },
  {
   "cell_type": "code",
   "execution_count": 13,
   "id": "fe266617",
   "metadata": {
    "execution": {
     "iopub.execute_input": "2022-03-22T19:28:00.453151Z",
     "iopub.status.busy": "2022-03-22T19:28:00.452784Z",
     "iopub.status.idle": "2022-03-22T19:28:06.797587Z",
     "shell.execute_reply": "2022-03-22T19:28:06.798264Z"
    },
    "papermill": {
     "duration": 6.376774,
     "end_time": "2022-03-22T19:28:06.798491",
     "exception": false,
     "start_time": "2022-03-22T19:28:00.421717",
     "status": "completed"
    },
    "tags": []
   },
   "outputs": [],
   "source": [
    "for ds in p.datasets:\n",
    "    add_dataset(**ds)"
   ]
  },
  {
   "cell_type": "code",
   "execution_count": 14,
   "id": "b90d65ac",
   "metadata": {
    "execution": {
     "iopub.execute_input": "2022-03-22T19:28:06.849884Z",
     "iopub.status.busy": "2022-03-22T19:28:06.849501Z",
     "iopub.status.idle": "2022-03-22T19:28:06.874976Z",
     "shell.execute_reply": "2022-03-22T19:28:06.874153Z"
    },
    "papermill": {
     "duration": 0.049992,
     "end_time": "2022-03-22T19:28:06.875129",
     "exception": false,
     "start_time": "2022-03-22T19:28:06.825137",
     "status": "completed"
    },
    "tags": []
   },
   "outputs": [],
   "source": [
    "# from steves_utils.CORES.utils import (\n",
    "#     ALL_NODES,\n",
    "#     ALL_NODES_MINIMUM_1000_EXAMPLES,\n",
    "#     ALL_DAYS\n",
    "# )\n",
    "\n",
    "# add_dataset(\n",
    "#     labels=ALL_NODES,\n",
    "#     domains = ALL_DAYS,\n",
    "#     num_examples_per_domain_per_label=100,\n",
    "#     pickle_path=os.path.join(get_datasets_base_path(), \"cores.stratified_ds.2022A.pkl\"),\n",
    "#     source_or_target_dataset=\"target\",\n",
    "#     x_transform_func=global_x_transform_func,\n",
    "#     domain_modifier=lambda u: f\"cores_{u}\"\n",
    "# )"
   ]
  },
  {
   "cell_type": "code",
   "execution_count": 15,
   "id": "76db484d",
   "metadata": {
    "execution": {
     "iopub.execute_input": "2022-03-22T19:28:06.929739Z",
     "iopub.status.busy": "2022-03-22T19:28:06.929172Z",
     "iopub.status.idle": "2022-03-22T19:28:06.952441Z",
     "shell.execute_reply": "2022-03-22T19:28:06.951602Z"
    },
    "papermill": {
     "duration": 0.047435,
     "end_time": "2022-03-22T19:28:06.952593",
     "exception": false,
     "start_time": "2022-03-22T19:28:06.905158",
     "status": "completed"
    },
    "tags": []
   },
   "outputs": [],
   "source": [
    "# from steves_utils.ORACLE.utils_v2 import (\n",
    "#     ALL_DISTANCES_FEET,\n",
    "#     ALL_RUNS,\n",
    "#     ALL_SERIAL_NUMBERS,\n",
    "# )\n",
    "\n",
    "\n",
    "# add_dataset(\n",
    "#     labels=ALL_SERIAL_NUMBERS,\n",
    "#     domains = list(set(ALL_DISTANCES_FEET) - {2,62}),\n",
    "#     num_examples_per_domain_per_label=100,\n",
    "#     pickle_path=os.path.join(get_datasets_base_path(), \"oracle.Run2_framed_2000Examples_stratified_ds.2022A.pkl\"),\n",
    "#     source_or_target_dataset=\"source\",\n",
    "#     x_transform_func=global_x_transform_func,\n",
    "#     domain_modifier=lambda u: f\"oracle1_{u}\"\n",
    "# )\n"
   ]
  },
  {
   "cell_type": "code",
   "execution_count": 16,
   "id": "97dea9d2",
   "metadata": {
    "execution": {
     "iopub.execute_input": "2022-03-22T19:28:07.001598Z",
     "iopub.status.busy": "2022-03-22T19:28:07.001225Z",
     "iopub.status.idle": "2022-03-22T19:28:07.018250Z",
     "shell.execute_reply": "2022-03-22T19:28:07.017442Z"
    },
    "papermill": {
     "duration": 0.040793,
     "end_time": "2022-03-22T19:28:07.018401",
     "exception": false,
     "start_time": "2022-03-22T19:28:06.977608",
     "status": "completed"
    },
    "tags": []
   },
   "outputs": [],
   "source": [
    "# from steves_utils.ORACLE.utils_v2 import (\n",
    "#     ALL_DISTANCES_FEET,\n",
    "#     ALL_RUNS,\n",
    "#     ALL_SERIAL_NUMBERS,\n",
    "# )\n",
    "\n",
    "\n",
    "# add_dataset(\n",
    "#     labels=ALL_SERIAL_NUMBERS,\n",
    "#     domains = list(set(ALL_DISTANCES_FEET) - {2,62,56}),\n",
    "#     num_examples_per_domain_per_label=100,\n",
    "#     pickle_path=os.path.join(get_datasets_base_path(), \"oracle.Run2_framed_2000Examples_stratified_ds.2022A.pkl\"),\n",
    "#     source_or_target_dataset=\"source\",\n",
    "#     x_transform_func=global_x_transform_func,\n",
    "#     domain_modifier=lambda u: f\"oracle2_{u}\"\n",
    "# )"
   ]
  },
  {
   "cell_type": "code",
   "execution_count": 17,
   "id": "6f289866",
   "metadata": {
    "execution": {
     "iopub.execute_input": "2022-03-22T19:28:07.070035Z",
     "iopub.status.busy": "2022-03-22T19:28:07.069666Z",
     "iopub.status.idle": "2022-03-22T19:28:07.090202Z",
     "shell.execute_reply": "2022-03-22T19:28:07.089393Z"
    },
    "papermill": {
     "duration": 0.045485,
     "end_time": "2022-03-22T19:28:07.090355",
     "exception": false,
     "start_time": "2022-03-22T19:28:07.044870",
     "status": "completed"
    },
    "tags": []
   },
   "outputs": [],
   "source": [
    "# add_dataset(\n",
    "#     labels=list(range(19)),\n",
    "#     domains = [0,1,2],\n",
    "#     num_examples_per_domain_per_label=100,\n",
    "#     pickle_path=os.path.join(get_datasets_base_path(), \"metehan.stratified_ds.2022A.pkl\"),\n",
    "#     source_or_target_dataset=\"target\",\n",
    "#     x_transform_func=global_x_transform_func,\n",
    "#     domain_modifier=lambda u: f\"met_{u}\"\n",
    "# )"
   ]
  },
  {
   "cell_type": "code",
   "execution_count": 18,
   "id": "86a863c3",
   "metadata": {
    "execution": {
     "iopub.execute_input": "2022-03-22T19:28:07.140576Z",
     "iopub.status.busy": "2022-03-22T19:28:07.140202Z",
     "iopub.status.idle": "2022-03-22T19:28:07.157337Z",
     "shell.execute_reply": "2022-03-22T19:28:07.156500Z"
    },
    "papermill": {
     "duration": 0.040784,
     "end_time": "2022-03-22T19:28:07.157489",
     "exception": false,
     "start_time": "2022-03-22T19:28:07.116705",
     "status": "completed"
    },
    "tags": []
   },
   "outputs": [],
   "source": [
    "# # from steves_utils.wisig.utils import (\n",
    "# #     ALL_NODES_MINIMUM_100_EXAMPLES,\n",
    "# #     ALL_NODES_MINIMUM_500_EXAMPLES,\n",
    "# #     ALL_NODES_MINIMUM_1000_EXAMPLES,\n",
    "# #     ALL_DAYS\n",
    "# # )\n",
    "\n",
    "# import steves_utils.wisig.utils as wisig\n",
    "\n",
    "\n",
    "# add_dataset(\n",
    "#     labels=wisig.ALL_NODES_MINIMUM_100_EXAMPLES,\n",
    "#     domains = wisig.ALL_DAYS,\n",
    "#     num_examples_per_domain_per_label=100,\n",
    "#     pickle_path=os.path.join(get_datasets_base_path(), \"wisig.node3-19.stratified_ds.2022A.pkl\"),\n",
    "#     source_or_target_dataset=\"target\",\n",
    "#     x_transform_func=global_x_transform_func,\n",
    "#     domain_modifier=lambda u: f\"wisig_{u}\"\n",
    "# )"
   ]
  },
  {
   "cell_type": "code",
   "execution_count": 19,
   "id": "fd5442bc",
   "metadata": {
    "execution": {
     "iopub.execute_input": "2022-03-22T19:28:07.215674Z",
     "iopub.status.busy": "2022-03-22T19:28:07.215281Z",
     "iopub.status.idle": "2022-03-22T19:28:07.233490Z",
     "shell.execute_reply": "2022-03-22T19:28:07.234163Z"
    },
    "papermill": {
     "duration": 0.049524,
     "end_time": "2022-03-22T19:28:07.234343",
     "exception": false,
     "start_time": "2022-03-22T19:28:07.184819",
     "status": "completed"
    },
    "tags": []
   },
   "outputs": [],
   "source": [
    "###################################\n",
    "# Build the dataset\n",
    "###################################\n",
    "train_original_source = Iterable_Aggregator(train_original_source, p.seed)\n",
    "val_original_source = Iterable_Aggregator(val_original_source, p.seed)\n",
    "test_original_source = Iterable_Aggregator(test_original_source, p.seed)\n",
    "\n",
    "\n",
    "train_original_target = Iterable_Aggregator(train_original_target, p.seed)\n",
    "val_original_target = Iterable_Aggregator(val_original_target, p.seed)\n",
    "test_original_target = Iterable_Aggregator(test_original_target, p.seed)\n",
    "\n",
    "# For CNN We only use X and Y. And we only train on the source.\n",
    "# Properly form the data using a transform lambda and Lazy_Iterable_Wrapper. Finally wrap them in a dataloader\n",
    "\n",
    "transform_lambda = lambda ex: ex[1] # Original is (<domain>, <episode>) so we strip down to episode only\n",
    "\n",
    "train_processed_source = Lazy_Iterable_Wrapper(train_original_source, transform_lambda)\n",
    "val_processed_source   = Lazy_Iterable_Wrapper(val_original_source, transform_lambda)\n",
    "test_processed_source  = Lazy_Iterable_Wrapper(test_original_source, transform_lambda)\n",
    "\n",
    "train_processed_target = Lazy_Iterable_Wrapper(train_original_target, transform_lambda)\n",
    "val_processed_target   = Lazy_Iterable_Wrapper(val_original_target, transform_lambda)\n",
    "test_processed_target  = Lazy_Iterable_Wrapper(test_original_target, transform_lambda)\n",
    "\n",
    "datasets = EasyDict({\n",
    "    \"source\": {\n",
    "        \"original\": {\"train\":train_original_source, \"val\":val_original_source, \"test\":test_original_source},\n",
    "        \"processed\": {\"train\":train_processed_source, \"val\":val_processed_source, \"test\":test_processed_source}\n",
    "    },\n",
    "    \"target\": {\n",
    "        \"original\": {\"train\":train_original_target, \"val\":val_original_target, \"test\":test_original_target},\n",
    "        \"processed\": {\"train\":train_processed_target, \"val\":val_processed_target, \"test\":test_processed_target}\n",
    "    },\n",
    "})"
   ]
  },
  {
   "cell_type": "code",
   "execution_count": 20,
   "id": "5b3c01fc",
   "metadata": {
    "execution": {
     "iopub.execute_input": "2022-03-22T19:28:07.293606Z",
     "iopub.status.busy": "2022-03-22T19:28:07.292777Z",
     "iopub.status.idle": "2022-03-22T19:28:22.157128Z",
     "shell.execute_reply": "2022-03-22T19:28:22.157825Z"
    },
    "papermill": {
     "duration": 14.896989,
     "end_time": "2022-03-22T19:28:22.158043",
     "exception": false,
     "start_time": "2022-03-22T19:28:07.261054",
     "status": "completed"
    },
    "tags": []
   },
   "outputs": [
    {
     "name": "stdout",
     "output_type": "stream",
     "text": [
      "{'ORACLE.run1_26', 'ORACLE.run1_50', 'ORACLE.run1_20', 'ORACLE.run1_8', 'ORACLE.run1_14', 'ORACLE.run1_32', 'ORACLE.run1_44', 'ORACLE.run1_38'}\n"
     ]
    },
    {
     "name": "stdout",
     "output_type": "stream",
     "text": [
      "{'CORES_5', 'CORES_3', 'CORES_4', 'CORES_2', 'CORES_1'}\n"
     ]
    },
    {
     "name": "stdout",
     "output_type": "stream",
     "text": [
      "tensor([[[-1.2818e-03, -9.1556e-04, -7.0193e-04,  ...,  0.0000e+00,\n",
      "          -1.2207e-04, -9.1556e-05],\n",
      "         [-6.1037e-05, -8.8504e-04,  1.9532e-03,  ...,  1.5259e-04,\n",
      "           1.9227e-03,  1.6480e-03]],\n",
      "\n",
      "        [[ 1.2207e-03,  1.9227e-03,  7.0193e-04,  ...,  1.7090e-03,\n",
      "           2.1363e-03,  1.0071e-03],\n",
      "         [-1.0681e-03,  5.7985e-04,  1.9837e-03,  ...,  1.4344e-03,\n",
      "          -3.0519e-04,  5.4933e-04]],\n",
      "\n",
      "        [[ 6.4089e-04, -3.2960e-03, -7.3244e-04,  ..., -1.8311e-04,\n",
      "          -1.5259e-04,  7.6296e-04],\n",
      "         [ 6.7141e-04, -1.5259e-04, -5.7985e-04,  ..., -1.5870e-03,\n",
      "          -2.7467e-03, -1.8006e-03]],\n",
      "\n",
      "        ...,\n",
      "\n",
      "        [[ 2.1668e-03,  1.4039e-03, -2.1363e-04,  ...,  1.2207e-03,\n",
      "          -4.5778e-04,  5.1881e-04],\n",
      "         [-2.1058e-03, -1.7396e-03,  4.2726e-04,  ..., -1.8921e-03,\n",
      "          -5.1881e-04, -2.6551e-03]],\n",
      "\n",
      "        [[ 1.3123e-03, -1.2818e-03,  9.1556e-04,  ..., -2.5025e-03,\n",
      "           6.1037e-04,  2.9298e-03],\n",
      "         [-4.5778e-04,  1.5564e-03, -4.2726e-04,  ...,  1.4649e-03,\n",
      "           9.4607e-04, -3.9674e-04]],\n",
      "\n",
      "        [[-2.1363e-04, -1.4649e-03, -6.4089e-04,  ...,  1.8311e-04,\n",
      "          -1.1902e-03, -5.1881e-04],\n",
      "         [ 3.0519e-05,  5.4933e-04, -1.4344e-03,  ..., -3.4181e-03,\n",
      "          -1.4344e-03,  1.3123e-03]]])\n"
     ]
    }
   ],
   "source": [
    "from steves_utils.transforms import get_average_magnitude, get_average_power\n",
    "\n",
    "print(set([u for u,_ in val_original_source]))\n",
    "print(set([u for u,_ in val_original_target]))\n",
    "\n",
    "s_x, s_y, q_x, q_y, _ = next(iter(train_processed_source))\n",
    "print(s_x)\n",
    "\n",
    "# for ds in [\n",
    "#     train_processed_source,\n",
    "#     val_processed_source,\n",
    "#     test_processed_source,\n",
    "#     train_processed_target,\n",
    "#     val_processed_target,\n",
    "#     test_processed_target\n",
    "# ]:\n",
    "#     for s_x, s_y, q_x, q_y, _ in ds:\n",
    "#         for X in (s_x, q_x):\n",
    "#             for x in X:\n",
    "#                 assert np.isclose(get_average_magnitude(x.numpy()), 1.0)\n",
    "#                 assert np.isclose(get_average_power(x.numpy()), 1.0)\n",
    "                "
   ]
  },
  {
   "cell_type": "code",
   "execution_count": 21,
   "id": "bbdacba1",
   "metadata": {
    "execution": {
     "iopub.execute_input": "2022-03-22T19:28:22.214302Z",
     "iopub.status.busy": "2022-03-22T19:28:22.213919Z",
     "iopub.status.idle": "2022-03-22T19:28:22.465822Z",
     "shell.execute_reply": "2022-03-22T19:28:22.466494Z"
    },
    "papermill": {
     "duration": 0.281586,
     "end_time": "2022-03-22T19:28:22.466748",
     "exception": false,
     "start_time": "2022-03-22T19:28:22.185162",
     "status": "completed"
    },
    "tags": []
   },
   "outputs": [
    {
     "name": "stdout",
     "output_type": "stream",
     "text": [
      "(2, 256)\n"
     ]
    }
   ],
   "source": [
    "###################################\n",
    "# Build the model\n",
    "###################################\n",
    "# easfsl only wants a tuple for the shape\n",
    "model = Steves_Prototypical_Network(x_net, device=p.device, x_shape=tuple(p.x_shape))\n",
    "optimizer = Adam(params=model.parameters(), lr=p.lr)"
   ]
  },
  {
   "cell_type": "code",
   "execution_count": 22,
   "id": "22b39ac5",
   "metadata": {
    "execution": {
     "iopub.execute_input": "2022-03-22T19:28:22.526812Z",
     "iopub.status.busy": "2022-03-22T19:28:22.526426Z",
     "iopub.status.idle": "2022-03-22T20:12:43.002524Z",
     "shell.execute_reply": "2022-03-22T20:12:43.002167Z"
    },
    "papermill": {
     "duration": 2660.505184,
     "end_time": "2022-03-22T20:12:43.002622",
     "exception": false,
     "start_time": "2022-03-22T19:28:22.497438",
     "status": "completed"
    },
    "tags": []
   },
   "outputs": [
    {
     "name": "stdout",
     "output_type": "stream",
     "text": [
      "epoch: 1, [batch: 1 / 6720], examples_per_second: 32.6377, train_label_loss: 2.7210, \n"
     ]
    },
    {
     "name": "stdout",
     "output_type": "stream",
     "text": [
      "epoch: 1, [batch: 672 / 6720], examples_per_second: 2950.1338, train_label_loss: 2.0801, \n"
     ]
    },
    {
     "name": "stdout",
     "output_type": "stream",
     "text": [
      "epoch: 1, [batch: 1344 / 6720], examples_per_second: 2947.8184, train_label_loss: 1.2276, \n"
     ]
    },
    {
     "name": "stdout",
     "output_type": "stream",
     "text": [
      "epoch: 1, [batch: 2016 / 6720], examples_per_second: 2956.5816, train_label_loss: 0.8401, \n"
     ]
    },
    {
     "name": "stdout",
     "output_type": "stream",
     "text": [
      "epoch: 1, [batch: 2688 / 6720], examples_per_second: 2985.9715, train_label_loss: 1.2495, \n"
     ]
    },
    {
     "name": "stdout",
     "output_type": "stream",
     "text": [
      "epoch: 1, [batch: 3360 / 6720], examples_per_second: 2961.0154, train_label_loss: 1.3919, \n"
     ]
    },
    {
     "name": "stdout",
     "output_type": "stream",
     "text": [
      "epoch: 1, [batch: 4032 / 6720], examples_per_second: 3007.6717, train_label_loss: 0.9640, \n"
     ]
    },
    {
     "name": "stdout",
     "output_type": "stream",
     "text": [
      "epoch: 1, [batch: 4704 / 6720], examples_per_second: 2999.1497, train_label_loss: 1.3763, \n"
     ]
    },
    {
     "name": "stdout",
     "output_type": "stream",
     "text": [
      "epoch: 1, [batch: 5376 / 6720], examples_per_second: 3182.3856, train_label_loss: 1.1234, \n"
     ]
    },
    {
     "name": "stdout",
     "output_type": "stream",
     "text": [
      "epoch: 1, [batch: 6048 / 6720], examples_per_second: 3426.2745, train_label_loss: 0.7397, \n"
     ]
    },
    {
     "name": "stdout",
     "output_type": "stream",
     "text": [
      "=============================================================\n",
      "epoch: 1, source_val_acc_label: 0.5887, target_val_acc_label: 0.8820, source_val_label_loss: 2.1254, target_val_label_loss: 15.8811, \n",
      "=============================================================\n"
     ]
    },
    {
     "name": "stdout",
     "output_type": "stream",
     "text": [
      "New best\n"
     ]
    },
    {
     "name": "stdout",
     "output_type": "stream",
     "text": [
      "epoch: 2, [batch: 1 / 6720], examples_per_second: 3.0484, train_label_loss: 0.8566, \n"
     ]
    },
    {
     "name": "stdout",
     "output_type": "stream",
     "text": [
      "epoch: 2, [batch: 672 / 6720], examples_per_second: 2998.3900, train_label_loss: 1.2970, \n"
     ]
    },
    {
     "name": "stdout",
     "output_type": "stream",
     "text": [
      "epoch: 2, [batch: 1344 / 6720], examples_per_second: 3042.3325, train_label_loss: 1.2596, \n"
     ]
    },
    {
     "name": "stdout",
     "output_type": "stream",
     "text": [
      "epoch: 2, [batch: 2016 / 6720], examples_per_second: 3014.3890, train_label_loss: 0.5711, \n"
     ]
    },
    {
     "name": "stdout",
     "output_type": "stream",
     "text": [
      "epoch: 2, [batch: 2688 / 6720], examples_per_second: 2986.2525, train_label_loss: 0.5631, \n"
     ]
    },
    {
     "name": "stdout",
     "output_type": "stream",
     "text": [
      "epoch: 2, [batch: 3360 / 6720], examples_per_second: 2974.2768, train_label_loss: 0.6920, \n"
     ]
    },
    {
     "name": "stdout",
     "output_type": "stream",
     "text": [
      "epoch: 2, [batch: 4032 / 6720], examples_per_second: 3007.7579, train_label_loss: 1.1323, \n"
     ]
    },
    {
     "name": "stdout",
     "output_type": "stream",
     "text": [
      "epoch: 2, [batch: 4704 / 6720], examples_per_second: 2994.1198, train_label_loss: 0.9562, \n"
     ]
    },
    {
     "name": "stdout",
     "output_type": "stream",
     "text": [
      "epoch: 2, [batch: 5376 / 6720], examples_per_second: 3115.2794, train_label_loss: 0.5422, \n"
     ]
    },
    {
     "name": "stdout",
     "output_type": "stream",
     "text": [
      "epoch: 2, [batch: 6048 / 6720], examples_per_second: 3422.0562, train_label_loss: 0.4678, \n"
     ]
    },
    {
     "name": "stdout",
     "output_type": "stream",
     "text": [
      "=============================================================\n",
      "epoch: 2, source_val_acc_label: 0.7468, target_val_acc_label: 0.9616, source_val_label_loss: 0.6941, target_val_label_loss: 1.0221, \n",
      "=============================================================\n"
     ]
    },
    {
     "name": "stdout",
     "output_type": "stream",
     "text": [
      "New best\n"
     ]
    },
    {
     "name": "stdout",
     "output_type": "stream",
     "text": [
      "epoch: 3, [batch: 1 / 6720], examples_per_second: 3.1229, train_label_loss: 1.0957, \n"
     ]
    },
    {
     "name": "stdout",
     "output_type": "stream",
     "text": [
      "epoch: 3, [batch: 672 / 6720], examples_per_second: 2979.6437, train_label_loss: 0.3850, \n"
     ]
    },
    {
     "name": "stdout",
     "output_type": "stream",
     "text": [
      "epoch: 3, [batch: 1344 / 6720], examples_per_second: 3036.6587, train_label_loss: 0.4220, \n"
     ]
    },
    {
     "name": "stdout",
     "output_type": "stream",
     "text": [
      "epoch: 3, [batch: 2016 / 6720], examples_per_second: 2983.9045, train_label_loss: 0.5556, \n"
     ]
    },
    {
     "name": "stdout",
     "output_type": "stream",
     "text": [
      "epoch: 3, [batch: 2688 / 6720], examples_per_second: 3013.0092, train_label_loss: 0.5529, \n"
     ]
    },
    {
     "name": "stdout",
     "output_type": "stream",
     "text": [
      "epoch: 3, [batch: 3360 / 6720], examples_per_second: 3044.3364, train_label_loss: 0.6451, \n"
     ]
    },
    {
     "name": "stdout",
     "output_type": "stream",
     "text": [
      "epoch: 3, [batch: 4032 / 6720], examples_per_second: 2988.5311, train_label_loss: 0.4226, \n"
     ]
    },
    {
     "name": "stdout",
     "output_type": "stream",
     "text": [
      "epoch: 3, [batch: 4704 / 6720], examples_per_second: 2974.5763, train_label_loss: 0.3445, \n"
     ]
    },
    {
     "name": "stdout",
     "output_type": "stream",
     "text": [
      "epoch: 3, [batch: 5376 / 6720], examples_per_second: 3043.5283, train_label_loss: 0.6238, \n"
     ]
    },
    {
     "name": "stdout",
     "output_type": "stream",
     "text": [
      "epoch: 3, [batch: 6048 / 6720], examples_per_second: 3365.8102, train_label_loss: 0.3439, \n"
     ]
    },
    {
     "name": "stdout",
     "output_type": "stream",
     "text": [
      "=============================================================\n",
      "epoch: 3, source_val_acc_label: 0.8053, target_val_acc_label: 0.9752, source_val_label_loss: 0.5511, target_val_label_loss: 1.3434, \n",
      "=============================================================\n"
     ]
    },
    {
     "name": "stdout",
     "output_type": "stream",
     "text": [
      "New best\n"
     ]
    },
    {
     "name": "stdout",
     "output_type": "stream",
     "text": [
      "epoch: 4, [batch: 1 / 6720], examples_per_second: 3.1639, train_label_loss: 0.6057, \n"
     ]
    },
    {
     "name": "stdout",
     "output_type": "stream",
     "text": [
      "epoch: 4, [batch: 672 / 6720], examples_per_second: 2937.7186, train_label_loss: 0.7545, \n"
     ]
    },
    {
     "name": "stdout",
     "output_type": "stream",
     "text": [
      "epoch: 4, [batch: 1344 / 6720], examples_per_second: 3003.8281, train_label_loss: 0.5355, \n"
     ]
    },
    {
     "name": "stdout",
     "output_type": "stream",
     "text": [
      "epoch: 4, [batch: 2016 / 6720], examples_per_second: 3007.6100, train_label_loss: 0.3626, \n"
     ]
    },
    {
     "name": "stdout",
     "output_type": "stream",
     "text": [
      "epoch: 4, [batch: 2688 / 6720], examples_per_second: 3071.7400, train_label_loss: 0.6134, \n"
     ]
    },
    {
     "name": "stdout",
     "output_type": "stream",
     "text": [
      "epoch: 4, [batch: 3360 / 6720], examples_per_second: 3055.4375, train_label_loss: 0.5663, \n"
     ]
    },
    {
     "name": "stdout",
     "output_type": "stream",
     "text": [
      "epoch: 4, [batch: 4032 / 6720], examples_per_second: 3095.2550, train_label_loss: 0.3976, \n"
     ]
    },
    {
     "name": "stdout",
     "output_type": "stream",
     "text": [
      "epoch: 4, [batch: 4704 / 6720], examples_per_second: 3034.1278, train_label_loss: 0.6277, \n"
     ]
    },
    {
     "name": "stdout",
     "output_type": "stream",
     "text": [
      "epoch: 4, [batch: 5376 / 6720], examples_per_second: 3057.0052, train_label_loss: 0.2529, \n"
     ]
    },
    {
     "name": "stdout",
     "output_type": "stream",
     "text": [
      "epoch: 4, [batch: 6048 / 6720], examples_per_second: 3326.0949, train_label_loss: 0.4082, \n"
     ]
    },
    {
     "name": "stdout",
     "output_type": "stream",
     "text": [
      "=============================================================\n",
      "epoch: 4, source_val_acc_label: 0.8072, target_val_acc_label: 0.9832, source_val_label_loss: 0.5278, target_val_label_loss: 0.6320, \n",
      "=============================================================\n"
     ]
    },
    {
     "name": "stdout",
     "output_type": "stream",
     "text": [
      "New best\n"
     ]
    },
    {
     "name": "stdout",
     "output_type": "stream",
     "text": [
      "epoch: 5, [batch: 1 / 6720], examples_per_second: 3.4276, train_label_loss: 0.4245, \n"
     ]
    },
    {
     "name": "stdout",
     "output_type": "stream",
     "text": [
      "epoch: 5, [batch: 672 / 6720], examples_per_second: 3487.8987, train_label_loss: 0.5079, \n"
     ]
    },
    {
     "name": "stdout",
     "output_type": "stream",
     "text": [
      "epoch: 5, [batch: 1344 / 6720], examples_per_second: 3435.4690, train_label_loss: 0.3815, \n"
     ]
    },
    {
     "name": "stdout",
     "output_type": "stream",
     "text": [
      "epoch: 5, [batch: 2016 / 6720], examples_per_second: 3375.8000, train_label_loss: 0.1218, \n"
     ]
    },
    {
     "name": "stdout",
     "output_type": "stream",
     "text": [
      "epoch: 5, [batch: 2688 / 6720], examples_per_second: 3488.5193, train_label_loss: 0.1599, \n"
     ]
    },
    {
     "name": "stdout",
     "output_type": "stream",
     "text": [
      "epoch: 5, [batch: 3360 / 6720], examples_per_second: 3692.9424, train_label_loss: 0.3066, \n"
     ]
    },
    {
     "name": "stdout",
     "output_type": "stream",
     "text": [
      "epoch: 5, [batch: 4032 / 6720], examples_per_second: 4049.7821, train_label_loss: 0.2417, \n"
     ]
    },
    {
     "name": "stdout",
     "output_type": "stream",
     "text": [
      "epoch: 5, [batch: 4704 / 6720], examples_per_second: 3252.9976, train_label_loss: 0.1109, \n"
     ]
    },
    {
     "name": "stdout",
     "output_type": "stream",
     "text": [
      "epoch: 5, [batch: 5376 / 6720], examples_per_second: 3038.4700, train_label_loss: 0.6348, \n"
     ]
    },
    {
     "name": "stdout",
     "output_type": "stream",
     "text": [
      "epoch: 5, [batch: 6048 / 6720], examples_per_second: 3220.2782, train_label_loss: 0.2537, \n"
     ]
    },
    {
     "name": "stdout",
     "output_type": "stream",
     "text": [
      "=============================================================\n",
      "epoch: 5, source_val_acc_label: 0.8195, target_val_acc_label: 0.9852, source_val_label_loss: 0.5317, target_val_label_loss: 1.0753, \n",
      "=============================================================\n"
     ]
    },
    {
     "name": "stdout",
     "output_type": "stream",
     "text": [
      "New best\n"
     ]
    },
    {
     "name": "stdout",
     "output_type": "stream",
     "text": [
      "epoch: 6, [batch: 1 / 6720], examples_per_second: 3.2626, train_label_loss: 0.3884, \n"
     ]
    },
    {
     "name": "stdout",
     "output_type": "stream",
     "text": [
      "epoch: 6, [batch: 672 / 6720], examples_per_second: 3022.0403, train_label_loss: 0.2173, \n"
     ]
    },
    {
     "name": "stdout",
     "output_type": "stream",
     "text": [
      "epoch: 6, [batch: 1344 / 6720], examples_per_second: 3005.6942, train_label_loss: 0.3888, \n"
     ]
    },
    {
     "name": "stdout",
     "output_type": "stream",
     "text": [
      "epoch: 6, [batch: 2016 / 6720], examples_per_second: 3027.1796, train_label_loss: 0.0829, \n"
     ]
    },
    {
     "name": "stdout",
     "output_type": "stream",
     "text": [
      "epoch: 6, [batch: 2688 / 6720], examples_per_second: 2963.8495, train_label_loss: 0.1511, \n"
     ]
    },
    {
     "name": "stdout",
     "output_type": "stream",
     "text": [
      "epoch: 6, [batch: 3360 / 6720], examples_per_second: 2995.9101, train_label_loss: 0.3446, \n"
     ]
    },
    {
     "name": "stdout",
     "output_type": "stream",
     "text": [
      "epoch: 6, [batch: 4032 / 6720], examples_per_second: 3025.0977, train_label_loss: 0.4954, \n"
     ]
    },
    {
     "name": "stdout",
     "output_type": "stream",
     "text": [
      "epoch: 6, [batch: 4704 / 6720], examples_per_second: 2985.4268, train_label_loss: 0.6661, \n"
     ]
    },
    {
     "name": "stdout",
     "output_type": "stream",
     "text": [
      "epoch: 6, [batch: 5376 / 6720], examples_per_second: 3004.1725, train_label_loss: 0.2433, \n"
     ]
    },
    {
     "name": "stdout",
     "output_type": "stream",
     "text": [
      "epoch: 6, [batch: 6048 / 6720], examples_per_second: 3064.0023, train_label_loss: 0.3547, \n"
     ]
    },
    {
     "name": "stdout",
     "output_type": "stream",
     "text": [
      "=============================================================\n",
      "epoch: 6, source_val_acc_label: 0.8144, target_val_acc_label: 0.9851, source_val_label_loss: 0.5406, target_val_label_loss: 0.7672, \n",
      "=============================================================\n"
     ]
    },
    {
     "name": "stdout",
     "output_type": "stream",
     "text": [
      "epoch: 7, [batch: 1 / 6720], examples_per_second: 3.2586, train_label_loss: 0.1756, \n"
     ]
    },
    {
     "name": "stdout",
     "output_type": "stream",
     "text": [
      "epoch: 7, [batch: 672 / 6720], examples_per_second: 2980.5814, train_label_loss: 0.1564, \n"
     ]
    },
    {
     "name": "stdout",
     "output_type": "stream",
     "text": [
      "epoch: 7, [batch: 1344 / 6720], examples_per_second: 3026.0118, train_label_loss: 0.3297, \n"
     ]
    },
    {
     "name": "stdout",
     "output_type": "stream",
     "text": [
      "epoch: 7, [batch: 2016 / 6720], examples_per_second: 2983.9286, train_label_loss: 0.3220, \n"
     ]
    },
    {
     "name": "stdout",
     "output_type": "stream",
     "text": [
      "epoch: 7, [batch: 2688 / 6720], examples_per_second: 2988.3866, train_label_loss: 0.2861, \n"
     ]
    },
    {
     "name": "stdout",
     "output_type": "stream",
     "text": [
      "epoch: 7, [batch: 3360 / 6720], examples_per_second: 3012.9029, train_label_loss: 0.4082, \n"
     ]
    },
    {
     "name": "stdout",
     "output_type": "stream",
     "text": [
      "epoch: 7, [batch: 4032 / 6720], examples_per_second: 3009.9802, train_label_loss: 0.3272, \n"
     ]
    },
    {
     "name": "stdout",
     "output_type": "stream",
     "text": [
      "epoch: 7, [batch: 4704 / 6720], examples_per_second: 3001.0028, train_label_loss: 0.3063, \n"
     ]
    },
    {
     "name": "stdout",
     "output_type": "stream",
     "text": [
      "epoch: 7, [batch: 5376 / 6720], examples_per_second: 3030.8801, train_label_loss: 0.2536, \n"
     ]
    },
    {
     "name": "stdout",
     "output_type": "stream",
     "text": [
      "epoch: 7, [batch: 6048 / 6720], examples_per_second: 3054.3455, train_label_loss: 0.5506, \n"
     ]
    },
    {
     "name": "stdout",
     "output_type": "stream",
     "text": [
      "=============================================================\n",
      "epoch: 7, source_val_acc_label: 0.8197, target_val_acc_label: 0.9857, source_val_label_loss: 0.5412, target_val_label_loss: 1.0648, \n",
      "=============================================================\n"
     ]
    },
    {
     "name": "stdout",
     "output_type": "stream",
     "text": [
      "New best\n"
     ]
    },
    {
     "name": "stdout",
     "output_type": "stream",
     "text": [
      "epoch: 8, [batch: 1 / 6720], examples_per_second: 3.2942, train_label_loss: 0.2337, \n"
     ]
    },
    {
     "name": "stdout",
     "output_type": "stream",
     "text": [
      "epoch: 8, [batch: 672 / 6720], examples_per_second: 3007.0418, train_label_loss: 0.3688, \n"
     ]
    },
    {
     "name": "stdout",
     "output_type": "stream",
     "text": [
      "epoch: 8, [batch: 1344 / 6720], examples_per_second: 2990.3431, train_label_loss: 0.2597, \n"
     ]
    },
    {
     "name": "stdout",
     "output_type": "stream",
     "text": [
      "epoch: 8, [batch: 2016 / 6720], examples_per_second: 3011.8995, train_label_loss: 0.6415, \n"
     ]
    },
    {
     "name": "stdout",
     "output_type": "stream",
     "text": [
      "epoch: 8, [batch: 2688 / 6720], examples_per_second: 3000.9175, train_label_loss: 0.2405, \n"
     ]
    },
    {
     "name": "stdout",
     "output_type": "stream",
     "text": [
      "epoch: 8, [batch: 3360 / 6720], examples_per_second: 2950.7275, train_label_loss: 0.1740, \n"
     ]
    },
    {
     "name": "stdout",
     "output_type": "stream",
     "text": [
      "epoch: 8, [batch: 4032 / 6720], examples_per_second: 3037.6112, train_label_loss: 0.4836, \n"
     ]
    },
    {
     "name": "stdout",
     "output_type": "stream",
     "text": [
      "epoch: 8, [batch: 4704 / 6720], examples_per_second: 3011.1576, train_label_loss: 0.2135, \n"
     ]
    },
    {
     "name": "stdout",
     "output_type": "stream",
     "text": [
      "epoch: 8, [batch: 5376 / 6720], examples_per_second: 3011.1967, train_label_loss: 0.1626, \n"
     ]
    },
    {
     "name": "stdout",
     "output_type": "stream",
     "text": [
      "epoch: 8, [batch: 6048 / 6720], examples_per_second: 3026.0918, train_label_loss: 0.0338, \n"
     ]
    },
    {
     "name": "stdout",
     "output_type": "stream",
     "text": [
      "=============================================================\n",
      "epoch: 8, source_val_acc_label: 0.8099, target_val_acc_label: 0.9852, source_val_label_loss: 0.5743, target_val_label_loss: 1.2231, \n",
      "=============================================================\n"
     ]
    },
    {
     "name": "stdout",
     "output_type": "stream",
     "text": [
      "epoch: 9, [batch: 1 / 6720], examples_per_second: 3.2728, train_label_loss: 0.1177, \n"
     ]
    },
    {
     "name": "stdout",
     "output_type": "stream",
     "text": [
      "epoch: 9, [batch: 672 / 6720], examples_per_second: 3361.6686, train_label_loss: 0.2582, \n"
     ]
    },
    {
     "name": "stdout",
     "output_type": "stream",
     "text": [
      "epoch: 9, [batch: 1344 / 6720], examples_per_second: 3427.8153, train_label_loss: 0.1842, \n"
     ]
    },
    {
     "name": "stdout",
     "output_type": "stream",
     "text": [
      "epoch: 9, [batch: 2016 / 6720], examples_per_second: 3448.7525, train_label_loss: 0.1717, \n"
     ]
    },
    {
     "name": "stdout",
     "output_type": "stream",
     "text": [
      "epoch: 9, [batch: 2688 / 6720], examples_per_second: 3412.6630, train_label_loss: 0.0788, \n"
     ]
    },
    {
     "name": "stdout",
     "output_type": "stream",
     "text": [
      "epoch: 9, [batch: 3360 / 6720], examples_per_second: 3392.9952, train_label_loss: 0.3086, \n"
     ]
    },
    {
     "name": "stdout",
     "output_type": "stream",
     "text": [
      "epoch: 9, [batch: 4032 / 6720], examples_per_second: 3303.4654, train_label_loss: 0.2014, \n"
     ]
    },
    {
     "name": "stdout",
     "output_type": "stream",
     "text": [
      "epoch: 9, [batch: 4704 / 6720], examples_per_second: 3374.5160, train_label_loss: 0.1531, \n"
     ]
    },
    {
     "name": "stdout",
     "output_type": "stream",
     "text": [
      "epoch: 9, [batch: 5376 / 6720], examples_per_second: 4147.1293, train_label_loss: 0.0940, \n"
     ]
    },
    {
     "name": "stdout",
     "output_type": "stream",
     "text": [
      "epoch: 9, [batch: 6048 / 6720], examples_per_second: 4357.1682, train_label_loss: 0.2605, \n"
     ]
    },
    {
     "name": "stdout",
     "output_type": "stream",
     "text": [
      "=============================================================\n",
      "epoch: 9, source_val_acc_label: 0.8135, target_val_acc_label: 0.9850, source_val_label_loss: 0.5924, target_val_label_loss: 1.2524, \n",
      "=============================================================\n"
     ]
    },
    {
     "name": "stdout",
     "output_type": "stream",
     "text": [
      "epoch: 10, [batch: 1 / 6720], examples_per_second: 4.6253, train_label_loss: 0.4229, \n"
     ]
    },
    {
     "name": "stdout",
     "output_type": "stream",
     "text": [
      "epoch: 10, [batch: 672 / 6720], examples_per_second: 4424.6547, train_label_loss: 0.1123, \n"
     ]
    },
    {
     "name": "stdout",
     "output_type": "stream",
     "text": [
      "epoch: 10, [batch: 1344 / 6720], examples_per_second: 4271.0963, train_label_loss: 0.3713, \n"
     ]
    },
    {
     "name": "stdout",
     "output_type": "stream",
     "text": [
      "epoch: 10, [batch: 2016 / 6720], examples_per_second: 4169.0393, train_label_loss: 0.1011, \n"
     ]
    },
    {
     "name": "stdout",
     "output_type": "stream",
     "text": [
      "epoch: 10, [batch: 2688 / 6720], examples_per_second: 4123.5231, train_label_loss: 0.1810, \n"
     ]
    },
    {
     "name": "stdout",
     "output_type": "stream",
     "text": [
      "epoch: 10, [batch: 3360 / 6720], examples_per_second: 4512.6089, train_label_loss: 0.1828, \n"
     ]
    },
    {
     "name": "stdout",
     "output_type": "stream",
     "text": [
      "epoch: 10, [batch: 4032 / 6720], examples_per_second: 4313.9236, train_label_loss: 0.1204, \n"
     ]
    },
    {
     "name": "stdout",
     "output_type": "stream",
     "text": [
      "epoch: 10, [batch: 4704 / 6720], examples_per_second: 4303.0668, train_label_loss: 0.0486, \n"
     ]
    },
    {
     "name": "stdout",
     "output_type": "stream",
     "text": [
      "epoch: 10, [batch: 5376 / 6720], examples_per_second: 4331.2812, train_label_loss: 0.0455, \n"
     ]
    },
    {
     "name": "stdout",
     "output_type": "stream",
     "text": [
      "epoch: 10, [batch: 6048 / 6720], examples_per_second: 4263.2687, train_label_loss: 0.0507, \n"
     ]
    },
    {
     "name": "stdout",
     "output_type": "stream",
     "text": [
      "=============================================================\n",
      "epoch: 10, source_val_acc_label: 0.7991, target_val_acc_label: 0.9888, source_val_label_loss: 0.6246, target_val_label_loss: 0.8016, \n",
      "=============================================================\n"
     ]
    },
    {
     "name": "stdout",
     "output_type": "stream",
     "text": [
      "New best\n"
     ]
    },
    {
     "name": "stdout",
     "output_type": "stream",
     "text": [
      "epoch: 11, [batch: 1 / 6720], examples_per_second: 3.2414, train_label_loss: 0.1590, \n"
     ]
    },
    {
     "name": "stdout",
     "output_type": "stream",
     "text": [
      "epoch: 11, [batch: 672 / 6720], examples_per_second: 3337.7249, train_label_loss: 0.1162, \n"
     ]
    },
    {
     "name": "stdout",
     "output_type": "stream",
     "text": [
      "epoch: 11, [batch: 1344 / 6720], examples_per_second: 3298.8080, train_label_loss: 0.0681, \n"
     ]
    },
    {
     "name": "stdout",
     "output_type": "stream",
     "text": [
      "epoch: 11, [batch: 2016 / 6720], examples_per_second: 3397.1816, train_label_loss: 0.1081, \n"
     ]
    },
    {
     "name": "stdout",
     "output_type": "stream",
     "text": [
      "epoch: 11, [batch: 2688 / 6720], examples_per_second: 3385.9352, train_label_loss: 0.2739, \n"
     ]
    },
    {
     "name": "stdout",
     "output_type": "stream",
     "text": [
      "epoch: 11, [batch: 3360 / 6720], examples_per_second: 3400.6811, train_label_loss: 0.2894, \n"
     ]
    },
    {
     "name": "stdout",
     "output_type": "stream",
     "text": [
      "epoch: 11, [batch: 4032 / 6720], examples_per_second: 3415.8742, train_label_loss: 0.0505, \n"
     ]
    },
    {
     "name": "stdout",
     "output_type": "stream",
     "text": [
      "epoch: 11, [batch: 4704 / 6720], examples_per_second: 3573.7491, train_label_loss: 0.0274, \n"
     ]
    },
    {
     "name": "stdout",
     "output_type": "stream",
     "text": [
      "epoch: 11, [batch: 5376 / 6720], examples_per_second: 3828.0650, train_label_loss: 0.5446, \n"
     ]
    },
    {
     "name": "stdout",
     "output_type": "stream",
     "text": [
      "epoch: 11, [batch: 6048 / 6720], examples_per_second: 3895.0756, train_label_loss: 0.3280, \n"
     ]
    },
    {
     "name": "stdout",
     "output_type": "stream",
     "text": [
      "=============================================================\n",
      "epoch: 11, source_val_acc_label: 0.8091, target_val_acc_label: 0.9865, source_val_label_loss: 0.6281, target_val_label_loss: 1.0386, \n",
      "=============================================================\n"
     ]
    },
    {
     "name": "stdout",
     "output_type": "stream",
     "text": [
      "epoch: 12, [batch: 1 / 6720], examples_per_second: 4.1080, train_label_loss: 0.0484, \n"
     ]
    },
    {
     "name": "stdout",
     "output_type": "stream",
     "text": [
      "epoch: 12, [batch: 672 / 6720], examples_per_second: 3850.1615, train_label_loss: 0.1768, \n"
     ]
    },
    {
     "name": "stdout",
     "output_type": "stream",
     "text": [
      "epoch: 12, [batch: 1344 / 6720], examples_per_second: 3966.8326, train_label_loss: 0.2266, \n"
     ]
    },
    {
     "name": "stdout",
     "output_type": "stream",
     "text": [
      "epoch: 12, [batch: 2016 / 6720], examples_per_second: 4095.2608, train_label_loss: 0.1387, \n"
     ]
    },
    {
     "name": "stdout",
     "output_type": "stream",
     "text": [
      "epoch: 12, [batch: 2688 / 6720], examples_per_second: 3943.4498, train_label_loss: 0.1136, \n"
     ]
    },
    {
     "name": "stdout",
     "output_type": "stream",
     "text": [
      "epoch: 12, [batch: 3360 / 6720], examples_per_second: 4046.0804, train_label_loss: 0.1505, \n"
     ]
    },
    {
     "name": "stdout",
     "output_type": "stream",
     "text": [
      "epoch: 12, [batch: 4032 / 6720], examples_per_second: 3886.2988, train_label_loss: 0.0759, \n"
     ]
    },
    {
     "name": "stdout",
     "output_type": "stream",
     "text": [
      "epoch: 12, [batch: 4704 / 6720], examples_per_second: 3913.7079, train_label_loss: 0.0566, \n"
     ]
    },
    {
     "name": "stdout",
     "output_type": "stream",
     "text": [
      "epoch: 12, [batch: 5376 / 6720], examples_per_second: 4103.0038, train_label_loss: 0.2484, \n"
     ]
    },
    {
     "name": "stdout",
     "output_type": "stream",
     "text": [
      "epoch: 12, [batch: 6048 / 6720], examples_per_second: 4282.8299, train_label_loss: 0.1659, \n"
     ]
    },
    {
     "name": "stdout",
     "output_type": "stream",
     "text": [
      "=============================================================\n",
      "epoch: 12, source_val_acc_label: 0.8006, target_val_acc_label: 0.9876, source_val_label_loss: 0.6764, target_val_label_loss: 0.9065, \n",
      "=============================================================\n"
     ]
    },
    {
     "name": "stdout",
     "output_type": "stream",
     "text": [
      "epoch: 13, [batch: 1 / 6720], examples_per_second: 4.2971, train_label_loss: 0.1819, \n"
     ]
    },
    {
     "name": "stdout",
     "output_type": "stream",
     "text": [
      "epoch: 13, [batch: 672 / 6720], examples_per_second: 3923.9115, train_label_loss: 0.0722, \n"
     ]
    },
    {
     "name": "stdout",
     "output_type": "stream",
     "text": [
      "epoch: 13, [batch: 1344 / 6720], examples_per_second: 3974.7351, train_label_loss: 0.0887, \n"
     ]
    },
    {
     "name": "stdout",
     "output_type": "stream",
     "text": [
      "epoch: 13, [batch: 2016 / 6720], examples_per_second: 3994.3392, train_label_loss: 0.0844, \n"
     ]
    },
    {
     "name": "stdout",
     "output_type": "stream",
     "text": [
      "epoch: 13, [batch: 2688 / 6720], examples_per_second: 3997.3875, train_label_loss: 0.2294, \n"
     ]
    },
    {
     "name": "stdout",
     "output_type": "stream",
     "text": [
      "epoch: 13, [batch: 3360 / 6720], examples_per_second: 4021.7595, train_label_loss: 0.1812, \n"
     ]
    },
    {
     "name": "stdout",
     "output_type": "stream",
     "text": [
      "epoch: 13, [batch: 4032 / 6720], examples_per_second: 3919.2091, train_label_loss: 0.0312, \n"
     ]
    },
    {
     "name": "stdout",
     "output_type": "stream",
     "text": [
      "epoch: 13, [batch: 4704 / 6720], examples_per_second: 3936.6973, train_label_loss: 0.0325, \n"
     ]
    },
    {
     "name": "stdout",
     "output_type": "stream",
     "text": [
      "epoch: 13, [batch: 5376 / 6720], examples_per_second: 4063.2766, train_label_loss: 0.0458, \n"
     ]
    },
    {
     "name": "stdout",
     "output_type": "stream",
     "text": [
      "epoch: 13, [batch: 6048 / 6720], examples_per_second: 4445.5811, train_label_loss: 0.0749, \n"
     ]
    },
    {
     "name": "stdout",
     "output_type": "stream",
     "text": [
      "=============================================================\n",
      "epoch: 13, source_val_acc_label: 0.8060, target_val_acc_label: 0.9887, source_val_label_loss: 0.6940, target_val_label_loss: 0.9757, \n",
      "=============================================================\n"
     ]
    },
    {
     "name": "stdout",
     "output_type": "stream",
     "text": [
      "epoch: 14, [batch: 1 / 6720], examples_per_second: 4.3799, train_label_loss: 0.0210, \n"
     ]
    },
    {
     "name": "stdout",
     "output_type": "stream",
     "text": [
      "epoch: 14, [batch: 672 / 6720], examples_per_second: 3946.1388, train_label_loss: 0.1191, \n"
     ]
    },
    {
     "name": "stdout",
     "output_type": "stream",
     "text": [
      "epoch: 14, [batch: 1344 / 6720], examples_per_second: 3872.7694, train_label_loss: 0.2776, \n"
     ]
    },
    {
     "name": "stdout",
     "output_type": "stream",
     "text": [
      "epoch: 14, [batch: 2016 / 6720], examples_per_second: 3881.3228, train_label_loss: 0.0292, \n"
     ]
    },
    {
     "name": "stdout",
     "output_type": "stream",
     "text": [
      "epoch: 14, [batch: 2688 / 6720], examples_per_second: 3881.8703, train_label_loss: 0.0045, \n"
     ]
    },
    {
     "name": "stdout",
     "output_type": "stream",
     "text": [
      "epoch: 14, [batch: 3360 / 6720], examples_per_second: 3997.3741, train_label_loss: 0.2454, \n"
     ]
    },
    {
     "name": "stdout",
     "output_type": "stream",
     "text": [
      "epoch: 14, [batch: 4032 / 6720], examples_per_second: 3975.9910, train_label_loss: 0.1051, \n"
     ]
    },
    {
     "name": "stdout",
     "output_type": "stream",
     "text": [
      "epoch: 14, [batch: 4704 / 6720], examples_per_second: 3529.5374, train_label_loss: 0.0962, \n"
     ]
    },
    {
     "name": "stdout",
     "output_type": "stream",
     "text": [
      "epoch: 14, [batch: 5376 / 6720], examples_per_second: 3000.1753, train_label_loss: 0.1283, \n"
     ]
    },
    {
     "name": "stdout",
     "output_type": "stream",
     "text": [
      "epoch: 14, [batch: 6048 / 6720], examples_per_second: 3292.8469, train_label_loss: 0.0097, \n"
     ]
    },
    {
     "name": "stdout",
     "output_type": "stream",
     "text": [
      "=============================================================\n",
      "epoch: 14, source_val_acc_label: 0.8120, target_val_acc_label: 0.9880, source_val_label_loss: 0.7043, target_val_label_loss: 1.3519, \n",
      "=============================================================\n"
     ]
    },
    {
     "name": "stdout",
     "output_type": "stream",
     "text": [
      "Patience (3) exhausted\n"
     ]
    }
   ],
   "source": [
    "###################################\n",
    "# train\n",
    "###################################\n",
    "jig = PTN_Train_Eval_Test_Jig(model, p.BEST_MODEL_PATH, p.device)\n",
    "\n",
    "jig.train(\n",
    "    train_iterable=datasets.source.processed.train,\n",
    "    source_val_iterable=datasets.source.processed.val,\n",
    "    target_val_iterable=datasets.target.processed.val,\n",
    "    num_epochs=p.n_epoch,\n",
    "    num_logs_per_epoch=p.NUM_LOGS_PER_EPOCH,\n",
    "    patience=p.patience,\n",
    "    optimizer=optimizer,\n",
    "    criteria_for_best=p.criteria_for_best,\n",
    ")"
   ]
  },
  {
   "cell_type": "code",
   "execution_count": 23,
   "id": "31e8fabf",
   "metadata": {
    "execution": {
     "iopub.execute_input": "2022-03-22T20:12:43.138382Z",
     "iopub.status.busy": "2022-03-22T20:12:43.138007Z",
     "iopub.status.idle": "2022-03-22T20:12:43.171443Z",
     "shell.execute_reply": "2022-03-22T20:12:43.170736Z"
    },
    "papermill": {
     "duration": 0.103943,
     "end_time": "2022-03-22T20:12:43.171628",
     "exception": false,
     "start_time": "2022-03-22T20:12:43.067685",
     "status": "completed"
    },
    "tags": []
   },
   "outputs": [],
   "source": [
    "total_experiment_time_secs = time.time() - start_time_secs"
   ]
  },
  {
   "cell_type": "code",
   "execution_count": 24,
   "id": "87b9595b",
   "metadata": {
    "execution": {
     "iopub.execute_input": "2022-03-22T20:12:43.330897Z",
     "iopub.status.busy": "2022-03-22T20:12:43.328113Z",
     "iopub.status.idle": "2022-03-22T20:16:09.272152Z",
     "shell.execute_reply": "2022-03-22T20:16:09.271357Z"
    },
    "papermill": {
     "duration": 206.016798,
     "end_time": "2022-03-22T20:16:09.272351",
     "exception": false,
     "start_time": "2022-03-22T20:12:43.255553",
     "status": "completed"
    },
    "tags": []
   },
   "outputs": [],
   "source": [
    "###################################\n",
    "# Evaluate the model\n",
    "###################################\n",
    "source_test_label_accuracy, source_test_label_loss = jig.test(datasets.source.processed.test)\n",
    "target_test_label_accuracy, target_test_label_loss = jig.test(datasets.target.processed.test)\n",
    "\n",
    "source_val_label_accuracy, source_val_label_loss = jig.test(datasets.source.processed.val)\n",
    "target_val_label_accuracy, target_val_label_loss = jig.test(datasets.target.processed.val)\n",
    "\n",
    "history = jig.get_history()\n",
    "\n",
    "total_epochs_trained = len(history[\"epoch_indices\"])\n",
    "\n",
    "val_dl = Iterable_Aggregator((datasets.source.original.val,datasets.target.original.val))\n",
    "\n",
    "confusion = ptn_confusion_by_domain_over_dataloader(model, p.device, val_dl)\n",
    "per_domain_accuracy = per_domain_accuracy_from_confusion(confusion)\n",
    "\n",
    "# Add a key to per_domain_accuracy for if it was a source domain\n",
    "for domain, accuracy in per_domain_accuracy.items():\n",
    "    per_domain_accuracy[domain] = {\n",
    "        \"accuracy\": accuracy,\n",
    "        \"source?\": domain in p.domains_source\n",
    "    }\n",
    "\n",
    "# Do an independent accuracy assesment JUST TO BE SURE!\n",
    "# _source_test_label_accuracy = independent_accuracy_assesment(model, datasets.source.processed.test, p.device)\n",
    "# _target_test_label_accuracy = independent_accuracy_assesment(model, datasets.target.processed.test, p.device)\n",
    "# _source_val_label_accuracy = independent_accuracy_assesment(model, datasets.source.processed.val, p.device)\n",
    "# _target_val_label_accuracy = independent_accuracy_assesment(model, datasets.target.processed.val, p.device)\n",
    "\n",
    "# assert(_source_test_label_accuracy == source_test_label_accuracy)\n",
    "# assert(_target_test_label_accuracy == target_test_label_accuracy)\n",
    "# assert(_source_val_label_accuracy == source_val_label_accuracy)\n",
    "# assert(_target_val_label_accuracy == target_val_label_accuracy)\n",
    "\n",
    "experiment = {\n",
    "    \"experiment_name\": p.experiment_name,\n",
    "    \"parameters\": dict(p),\n",
    "    \"results\": {\n",
    "        \"source_test_label_accuracy\": source_test_label_accuracy,\n",
    "        \"source_test_label_loss\": source_test_label_loss,\n",
    "        \"target_test_label_accuracy\": target_test_label_accuracy,\n",
    "        \"target_test_label_loss\": target_test_label_loss,\n",
    "        \"source_val_label_accuracy\": source_val_label_accuracy,\n",
    "        \"source_val_label_loss\": source_val_label_loss,\n",
    "        \"target_val_label_accuracy\": target_val_label_accuracy,\n",
    "        \"target_val_label_loss\": target_val_label_loss,\n",
    "        \"total_epochs_trained\": total_epochs_trained,\n",
    "        \"total_experiment_time_secs\": total_experiment_time_secs,\n",
    "        \"confusion\": confusion,\n",
    "        \"per_domain_accuracy\": per_domain_accuracy,\n",
    "    },\n",
    "    \"history\": history,\n",
    "    \"dataset_metrics\": get_dataset_metrics(datasets, \"ptn\"),\n",
    "}"
   ]
  },
  {
   "cell_type": "code",
   "execution_count": 25,
   "id": "54a21829",
   "metadata": {
    "execution": {
     "iopub.execute_input": "2022-03-22T20:16:09.411108Z",
     "iopub.status.busy": "2022-03-22T20:16:09.410725Z",
     "iopub.status.idle": "2022-03-22T20:16:09.639173Z",
     "shell.execute_reply": "2022-03-22T20:16:09.639901Z"
    },
    "papermill": {
     "duration": 0.297661,
     "end_time": "2022-03-22T20:16:09.640126",
     "exception": false,
     "start_time": "2022-03-22T20:16:09.342465",
     "status": "completed"
    },
    "tags": []
   },
   "outputs": [
    {
     "data": {
      "image/png": "[encoded data removed]",
      "text/plain": [
       "<Figure size 1080x504 with 1 Axes>"
      ]
     },
     "metadata": {
      "needs_background": "light"
     },
     "output_type": "display_data"
    }
   ],
   "source": [
    "ax = get_loss_curve(experiment)\n",
    "plt.show()"
   ]
  },
  {
   "cell_type": "code",
   "execution_count": 26,
   "id": "fd8a0f60",
   "metadata": {
    "execution": {
     "iopub.execute_input": "2022-03-22T20:16:09.787456Z",
     "iopub.status.busy": "2022-03-22T20:16:09.786622Z",
     "iopub.status.idle": "2022-03-22T20:16:10.164868Z",
     "shell.execute_reply": "2022-03-22T20:16:10.165404Z"
    },
    "papermill": {
     "duration": 0.452115,
     "end_time": "2022-03-22T20:16:10.165585",
     "exception": false,
     "start_time": "2022-03-22T20:16:09.713470",
     "status": "completed"
    },
    "tags": []
   },
   "outputs": [
    {
     "data": {
      "text/plain": [
       "<AxesSubplot:title={'center':'Results'}>"
      ]
     },
     "execution_count": 26,
     "metadata": {},
     "output_type": "execute_result"
    },
    {
     "data": {
      "image/png": "[encoded data removed]",
      "text/plain": [
       "<Figure size 1080x504 with 1 Axes>"
      ]
     },
     "metadata": {
      "needs_background": "light"
     },
     "output_type": "display_data"
    }
   ],
   "source": [
    "get_results_table(experiment)"
   ]
  },
  {
   "cell_type": "code",
   "execution_count": 27,
   "id": "cf8dc689",
   "metadata": {
    "execution": {
     "iopub.execute_input": "2022-03-22T20:16:10.312704Z",
     "iopub.status.busy": "2022-03-22T20:16:10.312053Z",
     "iopub.status.idle": "2022-03-22T20:16:10.576083Z",
     "shell.execute_reply": "2022-03-22T20:16:10.575254Z"
    },
    "papermill": {
     "duration": 0.337405,
     "end_time": "2022-03-22T20:16:10.576241",
     "exception": false,
     "start_time": "2022-03-22T20:16:10.238836",
     "status": "completed"
    },
    "tags": []
   },
   "outputs": [
    {
     "data": {
      "text/plain": [
       "<AxesSubplot:title={'center':'Per Domain Validation Accuracy'}, xlabel='domain'>"
      ]
     },
     "execution_count": 27,
     "metadata": {},
     "output_type": "execute_result"
    },
    {
     "data": {
      "image/png": "[encoded data removed]",
      "text/plain": [
       "<Figure size 1080x504 with 1 Axes>"
      ]
     },
     "metadata": {
      "needs_background": "light"
     },
     "output_type": "display_data"
    }
   ],
   "source": [
    "get_domain_accuracies(experiment)"
   ]
  },
  {
   "cell_type": "code",
   "execution_count": 28,
   "id": "a74ae082",
   "metadata": {
    "execution": {
     "iopub.execute_input": "2022-03-22T20:16:10.721634Z",
     "iopub.status.busy": "2022-03-22T20:16:10.721076Z",
     "iopub.status.idle": "2022-03-22T20:16:10.750659Z",
     "shell.execute_reply": "2022-03-22T20:16:10.749865Z"
    },
    "papermill": {
     "duration": 0.101921,
     "end_time": "2022-03-22T20:16:10.750808",
     "exception": false,
     "start_time": "2022-03-22T20:16:10.648887",
     "status": "completed"
    },
    "tags": []
   },
   "outputs": [
    {
     "name": "stdout",
     "output_type": "stream",
     "text": [
      "Source Test Label Accuracy: 0.7997721354166667 Target Test Label Accuracy: 0.9880266853932584\n",
      "Source Val Label Accuracy: 0.7990559895833333 Target Val Label Accuracy: 0.9888214285714285\n"
     ]
    }
   ],
   "source": [
    "print(\"Source Test Label Accuracy:\", experiment[\"results\"][\"source_test_label_accuracy\"], \"Target Test Label Accuracy:\", experiment[\"results\"][\"target_test_label_accuracy\"])\n",
    "print(\"Source Val Label Accuracy:\", experiment[\"results\"][\"source_val_label_accuracy\"], \"Target Val Label Accuracy:\", experiment[\"results\"][\"target_val_label_accuracy\"])"
   ]
  },
  {
   "cell_type": "code",
   "execution_count": 29,
   "id": "dacca602",
   "metadata": {
    "execution": {
     "iopub.execute_input": "2022-03-22T20:16:10.896655Z",
     "iopub.status.busy": "2022-03-22T20:16:10.896295Z",
     "iopub.status.idle": "2022-03-22T20:16:10.920588Z",
     "shell.execute_reply": "2022-03-22T20:16:10.921252Z"
    },
    "papermill": {
     "duration": 0.097008,
     "end_time": "2022-03-22T20:16:10.921429",
     "exception": false,
     "start_time": "2022-03-22T20:16:10.824421",
     "status": "completed"
    },
    "tags": [
     "experiment_json"
    ]
   },
   "outputs": [
    {
     "data": {
      "text/plain": [
       "'{\"experiment_name\": \"tl_1v2:cores-oracle.run1.limited\", \"parameters\": {\"experiment_name\": \"tl_1v2:cores-oracle.run1.limited\", \"device\": \"cuda\", \"lr\": 0.0001, \"n_shot\": 3, \"n_query\": 2, \"train_k_factor\": 3, \"val_k_factor\": 2, \"test_k_factor\": 2, \"torch_default_dtype\": \"torch.float32\", \"n_epoch\": 50, \"patience\": 3, \"criteria_for_best\": \"target_accuracy\", \"x_net\": [{\"class\": \"nnReshape\", \"kargs\": {\"shape\": [-1, 1, 2, 256]}}, {\"class\": \"Conv2d\", \"kargs\": {\"in_channels\": 1, \"out_channels\": 256, \"kernel_size\": [1, 7], \"bias\": false, \"padding\": [0, 3]}}, {\"class\": \"ReLU\", \"kargs\": {\"inplace\": true}}, {\"class\": \"BatchNorm2d\", \"kargs\": {\"num_features\": 256}}, {\"class\": \"Conv2d\", \"kargs\": {\"in_channels\": 256, \"out_channels\": 80, \"kernel_size\": [2, 7], \"bias\": true, \"padding\": [0, 3]}}, {\"class\": \"ReLU\", \"kargs\": {\"inplace\": true}}, {\"class\": \"BatchNorm2d\", \"kargs\": {\"num_features\": 80}}, {\"class\": \"Flatten\", \"kargs\": {}}, {\"class\": \"Linear\", \"kargs\": {\"in_features\": 20480, \"out_features\": 256}}, {\"class\": \"ReLU\", \"kargs\": {\"inplace\": true}}, {\"class\": \"BatchNorm1d\", \"kargs\": {\"num_features\": 256}}, {\"class\": \"Linear\", \"kargs\": {\"in_features\": 256, \"out_features\": 256}}], \"NUM_LOGS_PER_EPOCH\": 10, \"BEST_MODEL_PATH\": \"./best_model.pth\", \"n_way\": 16, \"datasets\": [{\"labels\": [\"1-10.\", \"1-11.\", \"1-15.\", \"1-16.\", \"1-17.\", \"1-18.\", \"1-19.\", \"10-4.\", \"10-7.\", \"11-1.\", \"11-14.\", \"11-17.\", \"11-20.\", \"11-7.\", \"13-20.\", \"13-8.\", \"14-10.\", \"14-11.\", \"14-14.\", \"14-7.\", \"15-1.\", \"15-20.\", \"16-1.\", \"16-16.\", \"17-10.\", \"17-11.\", \"17-2.\", \"19-1.\", \"19-16.\", \"19-19.\", \"19-20.\", \"19-3.\", \"2-10.\", \"2-11.\", \"2-17.\", \"2-18.\", \"2-20.\", \"2-3.\", \"2-4.\", \"2-5.\", \"2-6.\", \"2-7.\", \"2-8.\", \"3-13.\", \"3-18.\", \"3-3.\", \"4-1.\", \"4-10.\", \"4-11.\", \"4-19.\", \"5-5.\", \"6-15.\", \"7-10.\", \"7-14.\", \"8-18.\", \"8-20.\", \"8-3.\", \"8-8.\"], \"domains\": [1, 2, 3, 4, 5], \"num_examples_per_domain_per_label\": -1, \"pickle_path\": \"/root/csc500-main/datasets/cores.stratified_ds.2022A.pkl\", \"source_or_target_dataset\": \"target\", \"x_transforms\": [], \"episode_transforms\": [], \"domain_prefix\": \"CORES_\"}, {\"labels\": [\"3123D52\", \"3123D65\", \"3123D79\", \"3123D80\", \"3123D54\", \"3123D70\", \"3123D7B\", \"3123D89\", \"3123D58\", \"3123D76\", \"3123D7D\", \"3123EFE\", \"3123D64\", \"3123D78\", \"3123D7E\", \"3124E4A\"], \"domains\": [32, 38, 8, 44, 14, 50, 20, 26], \"num_examples_per_domain_per_label\": 2000, \"pickle_path\": \"/root/csc500-main/datasets/oracle.Run1_10kExamples_stratified_ds.2022A.pkl\", \"source_or_target_dataset\": \"source\", \"x_transforms\": [], \"episode_transforms\": [], \"domain_prefix\": \"ORACLE.run1_\"}], \"dataset_seed\": 500, \"seed\": 500, \"x_shape\": [2, 256], \"domains_source\": [\"ORACLE.run1_32\", \"ORACLE.run1_38\", \"ORACLE.run1_8\", \"ORACLE.run1_44\", \"ORACLE.run1_14\", \"ORACLE.run1_50\", \"ORACLE.run1_20\", \"ORACLE.run1_26\"], \"domains_target\": [\"CORES_1\", \"CORES_2\", \"CORES_3\", \"CORES_4\", \"CORES_5\"]}, \"results\": {\"source_test_label_accuracy\": 0.7997721354166667, \"source_test_label_loss\": 0.6343213319778442, \"target_test_label_accuracy\": 0.9880266853932584, \"target_test_label_loss\": 1.06424880027771, \"source_val_label_accuracy\": 0.7990559895833333, \"source_val_label_loss\": 0.6246119737625122, \"target_val_label_accuracy\": 0.9888214285714285, \"target_val_label_loss\": 0.8015840649604797, \"total_epochs_trained\": 14, \"total_experiment_time_secs\": 2683.001569747925, \"confusion\": {\"ORACLE.run1_50\": {\"7\": {\"7\": 214, \"5\": 17, \"4\": 9}, \"10\": {\"10\": 231, \"8\": 8, \"0\": 1}, \"0\": {\"0\": 209, \"10\": 9, \"2\": 22}, \"11\": {\"11\": 201, \"9\": 16, \"15\": 14, \"12\": 9}, \"2\": {\"2\": 231, \"0\": 9}, \"14\": {\"14\": 239, \"2\": 1}, \"9\": {\"9\": 190, \"11\": 32, \"12\": 18}, \"13\": {\"13\": 235, \"5\": 1, \"1\": 3, \"6\": 1}, \"8\": {\"8\": 234, \"10\": 6}, \"15\": {\"15\": 206, \"11\": 9, \"6\": 21, \"9\": 1, \"4\": 3}, \"4\": {\"4\": 195, \"7\": 18, \"6\": 5, \"5\": 11, \"15\": 11}, \"5\": {\"6\": 59, \"5\": 106, \"4\": 18, \"7\": 50, \"1\": 2, \"13\": 5}, \"3\": {\"3\": 240}, \"1\": {\"1\": 228, \"13\": 7, \"6\": 3, \"5\": 1, \"15\": 1}, \"6\": {\"5\": 30, \"6\": 186, \"15\": 19, \"11\": 1, \"4\": 2, \"13\": 1, \"7\": 1}, \"12\": {\"12\": 211, \"9\": 15, \"11\": 14}}, \"ORACLE.run1_14\": {\"14\": {\"2\": 19, \"14\": 150, \"13\": 36, \"3\": 9, \"6\": 24, \"5\": 2}, \"6\": {\"13\": 59, \"6\": 141, \"14\": 22, \"2\": 17, \"3\": 1}, \"5\": {\"5\": 186, \"14\": 2, \"2\": 21, \"4\": 19, \"7\": 7, \"3\": 5}, \"15\": {\"15\": 240}, \"11\": {\"11\": 240}, \"8\": {\"8\": 239, \"0\": 1}, \"12\": {\"12\": 240}, \"1\": {\"1\": 238, \"4\": 2}, \"2\": {\"2\": 118, \"5\": 27, \"6\": 16, \"4\": 14, \"14\": 43, \"13\": 10, \"3\": 10, \"7\": 2}, \"13\": {\"15\": 6, \"6\": 88, \"14\": 66, \"13\": 64, \"2\": 12, \"3\": 4}, \"3\": {\"3\": 222, \"5\": 2, \"14\": 8, \"0\": 6, \"2\": 1, \"6\": 1}, \"0\": {\"0\": 216, \"10\": 15, \"3\": 8, \"14\": 1}, \"9\": {\"9\": 240}, \"4\": {\"4\": 190, \"5\": 32, \"2\": 12, \"1\": 2, \"14\": 4}, \"7\": {\"7\": 231, \"2\": 3, \"5\": 6}, \"10\": {\"10\": 231, \"0\": 7, \"4\": 2}}, \"ORACLE.run1_32\": {\"4\": {\"4\": 198, \"2\": 33, \"13\": 8, \"8\": 1}, \"14\": {\"14\": 140, \"7\": 57, \"4\": 3, \"0\": 15, \"8\": 9, \"2\": 6, \"5\": 10}, \"5\": {\"0\": 15, \"5\": 127, \"14\": 8, \"7\": 62, \"8\": 28}, \"10\": {\"10\": 240}, \"13\": {\"13\": 184, \"3\": 37, \"4\": 19}, \"9\": {\"9\": 233, \"12\": 6, \"2\": 1}, \"6\": {\"6\": 240}, \"3\": {\"3\": 220, \"13\": 20}, \"15\": {\"15\": 234, \"5\": 3, \"8\": 3}, \"7\": {\"5\": 47, \"7\": 112, \"14\": 42, \"0\": 35, \"8\": 4}, \"12\": {\"12\": 240}, \"8\": {\"8\": 174, \"0\": 24, \"5\": 15, \"15\": 2, \"7\": 7, \"14\": 8, \"13\": 1, \"4\": 8, \"2\": 1}, \"11\": {\"11\": 238, \"13\": 2}, \"2\": {\"2\": 205, \"4\": 33, \"0\": 1, \"14\": 1}, \"1\": {\"1\": 240}, \"0\": {\"0\": 167, \"5\": 9, \"8\": 26, \"14\": 7, \"7\": 30, \"2\": 1}}, \"ORACLE.run1_44\": {\"8\": {\"8\": 172, \"0\": 60, \"5\": 2, \"15\": 6}, \"11\": {\"11\": 239, \"13\": 1}, \"14\": {\"4\": 72, \"14\": 151, \"5\": 8, \"15\": 9}, \"10\": {\"10\": 211, \"7\": 4, \"1\": 9, \"2\": 16}, \"3\": {\"3\": 232, \"12\": 8}, \"15\": {\"15\": 192, \"8\": 10, \"14\": 17, \"0\": 5, \"5\": 14, \"4\": 2}, \"2\": {\"2\": 198, \"10\": 13, \"7\": 8, \"1\": 21}, \"12\": {\"12\": 226, \"3\": 14}, \"4\": {\"4\": 155, \"15\": 3, \"14\": 81, \"5\": 1}, \"1\": {\"1\": 210, \"2\": 29, \"10\": 1}, \"0\": {\"0\": 183, \"8\": 54, \"5\": 2, \"15\": 1}, \"9\": {\"7\": 55, \"9\": 113, \"6\": 49, \"2\": 1, \"13\": 22}, \"5\": {\"15\": 20, \"14\": 6, \"5\": 205, \"8\": 7, \"0\": 1, \"4\": 1}, \"6\": {\"6\": 180, \"13\": 34, \"9\": 21, \"7\": 5}, \"7\": {\"7\": 191, \"6\": 8, \"9\": 36, \"2\": 1, \"10\": 4}, \"13\": {\"6\": 37, \"13\": 185, \"9\": 13, \"11\": 4, \"4\": 1}}, \"ORACLE.run1_8\": {\"13\": {\"13\": 172, \"6\": 14, \"10\": 37, \"7\": 14, \"1\": 1, \"5\": 1, \"4\": 1}, \"3\": {\"3\": 235, \"2\": 5}, \"15\": {\"12\": 51, \"15\": 181, \"2\": 8}, \"4\": {\"4\": 213, \"6\": 7, \"14\": 11, \"1\": 2, \"10\": 2, \"11\": 5}, \"7\": {\"7\": 174, \"6\": 51, \"13\": 13, \"8\": 2}, \"2\": {\"2\": 169, \"3\": 47, \"15\": 19, \"12\": 5}, \"1\": {\"1\": 142, \"10\": 15, \"11\": 68, \"5\": 11, \"13\": 3, \"4\": 1}, \"0\": {\"0\": 240}, \"12\": {\"12\": 172, \"15\": 61, \"2\": 7}, \"6\": {\"6\": 163, \"13\": 12, \"7\": 61, \"10\": 1, \"4\": 1, \"11\": 1, \"8\": 1}, \"11\": {\"10\": 3, \"1\": 65, \"14\": 17, \"11\": 131, \"4\": 9, \"8\": 6, \"5\": 7, \"6\": 2}, \"9\": {\"9\": 240}, \"5\": {\"5\": 180, \"1\": 25, \"10\": 29, \"4\": 1, \"14\": 2, \"13\": 2, \"11\": 1}, \"10\": {\"10\": 162, \"4\": 5, \"1\": 20, \"13\": 31, \"6\": 5, \"5\": 15, \"11\": 2}, \"14\": {\"14\": 218, \"4\": 13, \"11\": 9}, \"8\": {\"8\": 234, \"6\": 2, \"7\": 2, \"4\": 1, \"11\": 1}}, \"ORACLE.run1_20\": {\"6\": {\"6\": 215, \"14\": 20, \"7\": 2, \"8\": 1, \"10\": 2}, \"11\": {\"11\": 240}, \"5\": {\"5\": 108, \"1\": 83, \"12\": 4, \"3\": 29, \"15\": 5, \"9\": 9, \"0\": 2}, \"14\": {\"14\": 214, \"6\": 6, \"8\": 20}, \"2\": {\"7\": 47, \"12\": 27, \"2\": 104, \"9\": 31, \"13\": 19, \"15\": 6, \"4\": 2, \"1\": 2, \"5\": 1, \"3\": 1}, \"7\": {\"7\": 155, \"2\": 31, \"6\": 9, \"9\": 26, \"8\": 5, \"4\": 7, \"3\": 5, \"12\": 2}, \"3\": {\"3\": 121, \"5\": 32, \"7\": 9, \"1\": 16, \"9\": 43, \"8\": 12, \"2\": 1, \"4\": 3, \"0\": 2, \"12\": 1}, \"4\": {\"10\": 12, \"12\": 19, \"4\": 190, \"7\": 13, \"3\": 1, \"2\": 4, \"1\": 1}, \"9\": {\"9\": 94, \"5\": 13, \"2\": 29, \"7\": 25, \"1\": 15, \"3\": 50, \"12\": 7, \"15\": 3, \"4\": 2, \"8\": 1, \"13\": 1}, \"12\": {\"15\": 34, \"1\": 17, \"12\": 121, \"7\": 4, \"2\": 29, \"5\": 6, \"13\": 11, \"9\": 5, \"4\": 10, \"3\": 3}, \"0\": {\"0\": 216, \"5\": 12, \"3\": 8, \"9\": 1, \"1\": 1, \"8\": 2}, \"10\": {\"10\": 229, \"6\": 2, \"4\": 8, \"7\": 1}, \"8\": {\"8\": 202, \"3\": 17, \"14\": 13, \"4\": 1, \"9\": 2, \"7\": 3, \"6\": 1, \"0\": 1}, \"13\": {\"13\": 202, \"2\": 17, \"12\": 10, \"15\": 10, \"4\": 1}, \"1\": {\"1\": 102, \"5\": 79, \"15\": 35, \"9\": 16, \"12\": 4, \"3\": 3, \"4\": 1}, \"15\": {\"15\": 149, \"12\": 21, \"1\": 30, \"5\": 9, \"13\": 16, \"2\": 5, \"9\": 7, \"4\": 2, \"3\": 1}}, \"ORACLE.run1_38\": {\"3\": {\"3\": 240}, \"8\": {\"8\": 144, \"5\": 67, \"7\": 12, \"15\": 6, \"13\": 5, \"12\": 1, \"0\": 5}, \"0\": {\"0\": 164, \"10\": 27, \"7\": 35, \"13\": 9, \"3\": 4, \"9\": 1}, \"2\": {\"2\": 213, \"14\": 25, \"13\": 2}, \"4\": {\"4\": 239, \"10\": 1}, \"7\": {\"7\": 220, \"0\": 12, \"13\": 1, \"8\": 6, \"5\": 1}, \"12\": {\"12\": 237, \"8\": 3}, \"6\": {\"6\": 239, \"1\": 1}, \"15\": {\"15\": 225, \"5\": 8, \"8\": 6, \"1\": 1}, \"11\": {\"11\": 240}, \"9\": {\"9\": 231, \"5\": 3, \"8\": 5, \"7\": 1}, \"14\": {\"14\": 217, \"2\": 21, \"10\": 1, \"12\": 1}, \"10\": {\"10\": 214, \"0\": 9, \"13\": 17}, \"5\": {\"7\": 13, \"5\": 103, \"8\": 95, \"9\": 16, \"15\": 11, \"0\": 1, \"13\": 1}, \"1\": {\"1\": 240}, \"13\": {\"13\": 214, \"10\": 25, \"14\": 1}}, \"ORACLE.run1_26\": {\"5\": {\"15\": 56, \"5\": 176, \"6\": 8}, \"8\": {\"9\": 51, \"8\": 133, \"7\": 40, \"0\": 5, \"2\": 11}, \"4\": {\"4\": 237, \"3\": 3}, \"12\": {\"12\": 240}, \"6\": {\"6\": 169, \"10\": 19, \"15\": 32, \"5\": 16, \"14\": 3, \"1\": 1}, \"7\": {\"7\": 132, \"3\": 29, \"8\": 32, \"2\": 39, \"9\": 8}, \"10\": {\"10\": 117, \"14\": 51, \"15\": 20, \"6\": 23, \"1\": 3, \"0\": 26}, \"0\": {\"14\": 29, \"0\": 146, \"10\": 39, \"8\": 16, \"15\": 3, \"7\": 1, \"1\": 3, \"2\": 2, \"6\": 1}, \"15\": {\"5\": 64, \"15\": 125, \"6\": 28, \"1\": 1, \"10\": 15, \"0\": 5, \"14\": 2}, \"9\": {\"8\": 71, \"9\": 138, \"13\": 16, \"2\": 10, \"7\": 5}, \"11\": {\"11\": 240}, \"14\": {\"1\": 11, \"10\": 50, \"14\": 145, \"15\": 7, \"0\": 25, \"6\": 2}, \"2\": {\"8\": 25, \"0\": 5, \"3\": 36, \"2\": 118, \"9\": 16, \"7\": 37, \"13\": 2, \"15\": 1}, \"13\": {\"13\": 209, \"9\": 21, \"2\": 5, \"3\": 2, \"7\": 3}, \"3\": {\"3\": 191, \"7\": 28, \"13\": 3, \"2\": 15, \"4\": 3}, \"1\": {\"14\": 38, \"1\": 186, \"5\": 2, \"6\": 4, \"10\": 8, \"15\": 2}}, \"CORES_4\": {\"38\": {\"38\": 37, \"14\": 1, \"2\": 2}, \"3\": {\"3\": 117, \"6\": 5, \"50\": 2}, \"24\": {\"24\": 56}, \"49\": {\"49\": 16, \"7\": 2, \"38\": 1, \"32\": 1}, \"7\": {\"7\": 14, \"2\": 1, \"41\": 5, \"39\": 1, \"49\": 1, \"54\": 1, \"57\": 1}, \"17\": {\"17\": 80}, \"43\": {\"43\": 147, \"24\": 1}, \"30\": {\"30\": 44}, \"44\": {\"44\": 131, \"40\": 1}, \"23\": {\"23\": 142, \"41\": 1, \"54\": 1}, \"37\": {\"37\": 23, \"20\": 1}, \"4\": {\"4\": 132}, \"57\": {\"57\": 99, \"1\": 1}, \"16\": {\"16\": 95, \"15\": 1}, \"18\": {\"18\": 107, \"27\": 1}, \"20\": {\"20\": 124}, \"45\": {\"45\": 96}, \"15\": {\"15\": 129, \"16\": 2, \"11\": 1}, \"52\": {\"52\": 116}, \"19\": {\"19\": 140}, \"54\": {\"54\": 108}, \"56\": {\"56\": 130}, \"40\": {\"40\": 133, \"29\": 1}, \"28\": {\"28\": 31, \"26\": 1}, \"2\": {\"2\": 36}, \"9\": {\"9\": 120}, \"0\": {\"0\": 75, \"47\": 3, \"52\": 1, \"46\": 1}, \"36\": {\"36\": 91, \"23\": 1}, \"55\": {\"55\": 130}, \"35\": {\"35\": 33, \"33\": 1, \"55\": 4, \"42\": 1, \"19\": 1}, \"39\": {\"39\": 20}, \"31\": {\"31\": 28}, \"14\": {\"14\": 14, \"1\": 1, \"2\": 1}, \"12\": {\"12\": 92}, \"6\": {\"6\": 103, \"3\": 6, \"50\": 3}, \"26\": {\"26\": 15, \"17\": 1, \"33\": 2, \"28\": 3, \"42\": 2, \"35\": 1}, \"50\": {\"50\": 123, \"3\": 2, \"21\": 2, \"6\": 5}, \"21\": {\"21\": 122}, \"46\": {\"46\": 139, \"22\": 1}, \"51\": {\"51\": 140}, \"41\": {\"41\": 34, \"47\": 1, \"1\": 1}, \"34\": {\"34\": 24}, \"47\": {\"47\": 120}, \"5\": {\"5\": 108}, \"1\": {\"1\": 40}, \"48\": {\"48\": 134}, \"29\": {\"29\": 115, \"57\": 3}, \"22\": {\"22\": 128}, \"10\": {\"10\": 132}, \"32\": {\"41\": 2, \"32\": 19, \"49\": 1, \"47\": 1, \"2\": 1}, \"13\": {\"13\": 112}, \"42\": {\"42\": 31, \"26\": 1}, \"27\": {\"27\": 138}, \"8\": {\"8\": 142}, \"33\": {\"33\": 36}, \"25\": {\"25\": 131, \"18\": 1}, \"11\": {\"11\": 98, \"10\": 1, \"15\": 4, \"16\": 1}, \"53\": {\"53\": 112}}, \"CORES_2\": {\"32\": {\"32\": 28}, \"17\": {\"17\": 104}, \"38\": {\"38\": 19, \"13\": 1}, \"2\": {\"2\": 32}, \"43\": {\"43\": 143, \"24\": 1}, \"56\": {\"56\": 143, \"22\": 1}, \"37\": {\"37\": 36}, \"49\": {\"49\": 23, \"39\": 1}, \"0\": {\"0\": 48}, \"29\": {\"29\": 122, \"57\": 1, \"9\": 5}, \"35\": {\"35\": 32}, \"18\": {\"18\": 48}, \"25\": {\"25\": 136}, \"23\": {\"23\": 124}, \"15\": {\"15\": 146}, \"21\": {\"21\": 120}, \"51\": {\"51\": 128}, \"20\": {\"20\": 137, \"8\": 1}, \"7\": {\"7\": 34, \"23\": 2}, \"50\": {\"50\": 135, \"46\": 1}, \"31\": {\"31\": 28}, \"30\": {\"30\": 140}, \"19\": {\"19\": 156}, \"9\": {\"9\": 141, \"4\": 3}, \"52\": {\"52\": 124}, \"45\": {\"45\": 128}, \"8\": {\"8\": 150, \"20\": 4}, \"55\": {\"55\": 160}, \"12\": {\"12\": 92}, \"40\": {\"40\": 136, \"44\": 2, \"4\": 2}, \"28\": {\"28\": 28}, \"36\": {\"36\": 116}, \"39\": {\"39\": 25, \"2\": 1, \"27\": 2}, \"46\": {\"46\": 122}, \"14\": {\"14\": 21, \"9\": 1, \"29\": 2}, \"57\": {\"57\": 139, \"1\": 3}, \"34\": {\"34\": 27, \"49\": 1}, \"1\": {\"1\": 112}, \"53\": {\"53\": 136}, \"48\": {\"48\": 130}, \"3\": {\"3\": 86, \"50\": 2, \"6\": 4}, \"16\": {\"16\": 151, \"11\": 1}, \"6\": {\"6\": 123, \"3\": 1}, \"10\": {\"10\": 112}, \"13\": {\"13\": 115, \"38\": 1}, \"26\": {\"26\": 24}, \"24\": {\"24\": 96}, \"44\": {\"44\": 100}, \"27\": {\"27\": 150}, \"22\": {\"22\": 128}, \"33\": {\"33\": 24, \"29\": 4}, \"47\": {\"47\": 118}, \"5\": {\"5\": 120}, \"4\": {\"4\": 138}, \"41\": {\"41\": 20}, \"11\": {\"11\": 144, \"16\": 5, \"15\": 1}, \"54\": {\"54\": 108}, \"42\": {\"42\": 36}}, \"CORES_3\": {\"5\": {\"5\": 116}, \"32\": {\"32\": 28}, \"33\": {\"33\": 28}, \"49\": {\"49\": 15, \"7\": 2, \"39\": 1, \"13\": 2}, \"39\": {\"39\": 16}, \"11\": {\"11\": 138, \"16\": 3, \"15\": 1}, \"8\": {\"8\": 116}, \"26\": {\"26\": 24}, \"51\": {\"51\": 122}, \"4\": {\"4\": 146}, \"52\": {\"52\": 118}, \"47\": {\"47\": 92}, \"17\": {\"17\": 106, \"27\": 1, \"24\": 1}, \"53\": {\"53\": 136}, \"2\": {\"2\": 32}, \"12\": {\"12\": 92}, \"37\": {\"37\": 28}, \"9\": {\"9\": 148}, \"13\": {\"13\": 128}, \"54\": {\"54\": 100}, \"31\": {\"31\": 28}, \"34\": {\"34\": 29, \"55\": 1, \"42\": 1, \"35\": 1}, \"24\": {\"24\": 104}, \"7\": {\"7\": 31, \"13\": 5}, \"50\": {\"50\": 110, \"3\": 7, \"46\": 1}, \"46\": {\"46\": 127, \"50\": 1}, \"44\": {\"44\": 88}, \"40\": {\"40\": 116}, \"21\": {\"21\": 127, \"50\": 1}, \"45\": {\"45\": 60}, \"16\": {\"16\": 126}, \"14\": {\"14\": 39, \"29\": 1}, \"36\": {\"36\": 100}, \"56\": {\"56\": 113, \"22\": 1}, \"10\": {\"10\": 64}, \"18\": {\"18\": 84}, \"48\": {\"48\": 116}, \"38\": {\"38\": 28}, \"27\": {\"27\": 129, \"9\": 1}, \"42\": {\"42\": 28}, \"15\": {\"15\": 128, \"11\": 5, \"18\": 1}, \"1\": {\"1\": 100}, \"28\": {\"28\": 28}, \"43\": {\"43\": 135, \"24\": 1}, \"0\": {\"0\": 122, \"47\": 2}, \"57\": {\"57\": 122, \"1\": 2}, \"3\": {\"3\": 148}, \"29\": {\"29\": 121, \"57\": 3}, \"41\": {\"41\": 28}, \"25\": {\"25\": 146}, \"6\": {\"6\": 86, \"3\": 2}, \"35\": {\"35\": 28}, \"20\": {\"20\": 125, \"8\": 1}, \"23\": {\"23\": 134}, \"22\": {\"22\": 140}, \"19\": {\"19\": 116}, \"55\": {\"55\": 124}, \"30\": {\"30\": 120}}, \"CORES_1\": {\"24\": {\"24\": 108}, \"25\": {\"25\": 139, \"18\": 1}, \"45\": {\"45\": 143, \"56\": 1}, \"42\": {\"42\": 36, \"55\": 4}, \"2\": {\"2\": 36}, \"9\": {\"9\": 150}, \"21\": {\"21\": 124}, \"26\": {\"26\": 24}, \"49\": {\"49\": 31, \"38\": 1}, \"39\": {\"39\": 24, \"31\": 2, \"38\": 1, \"49\": 1}, \"46\": {\"46\": 136}, \"17\": {\"17\": 64}, \"19\": {\"19\": 153, \"34\": 3}, \"23\": {\"23\": 131, \"15\": 1}, \"1\": {\"1\": 100}, \"29\": {\"29\": 140}, \"56\": {\"56\": 150}, \"37\": {\"37\": 32}, \"33\": {\"33\": 32}, \"55\": {\"55\": 142}, \"30\": {\"30\": 120}, \"0\": {\"0\": 152}, \"36\": {\"36\": 64}, \"32\": {\"32\": 32}, \"31\": {\"31\": 28}, \"15\": {\"15\": 133, \"10\": 5}, \"12\": {\"12\": 111, \"20\": 5}, \"38\": {\"30\": 2, \"49\": 2, \"38\": 17, \"21\": 1, \"39\": 1, \"14\": 1}, \"40\": {\"40\": 146}, \"14\": {\"13\": 1, \"14\": 20, \"30\": 2, \"8\": 1}, \"13\": {\"13\": 150}, \"48\": {\"48\": 147, \"8\": 1}, \"34\": {\"34\": 20, \"19\": 2, \"42\": 1, \"33\": 1}, \"44\": {\"44\": 127, \"56\": 3}, \"5\": {\"5\": 152}, \"11\": {\"11\": 140}, \"7\": {\"7\": 28}, \"18\": {\"18\": 72}, \"52\": {\"52\": 132}, \"51\": {\"51\": 141, \"41\": 1}, \"41\": {\"41\": 21, \"51\": 2, \"2\": 1}, \"16\": {\"16\": 140}, \"22\": {\"22\": 130, \"52\": 4}, \"3\": {\"3\": 140}, \"54\": {\"54\": 104}, \"27\": {\"27\": 144}, \"20\": {\"20\": 132, \"13\": 1, \"12\": 3, \"3\": 4}, \"8\": {\"8\": 138}, \"50\": {\"50\": 144}, \"57\": {\"57\": 140}, \"4\": {\"4\": 132}, \"47\": {\"47\": 146}, \"10\": {\"10\": 92, \"28\": 2, \"15\": 2}, \"35\": {\"35\": 36}, \"53\": {\"53\": 126}, \"6\": {\"6\": 96}, \"43\": {\"43\": 140}, \"28\": {\"28\": 28}}, \"CORES_5\": {\"35\": {\"35\": 32, \"55\": 1, \"49\": 2, \"2\": 1}, \"57\": {\"57\": 132}, \"20\": {\"20\": 144}, \"12\": {\"12\": 96}, \"32\": {\"32\": 32}, \"25\": {\"25\": 138}, \"44\": {\"44\": 146, \"5\": 1, \"40\": 1}, \"31\": {\"31\": 36}, \"11\": {\"11\": 145, \"15\": 3, \"16\": 2}, \"47\": {\"47\": 100}, \"23\": {\"23\": 124}, \"43\": {\"43\": 144}, \"37\": {\"37\": 24}, \"5\": {\"5\": 127, \"40\": 1}, \"45\": {\"45\": 124}, \"7\": {\"7\": 32}, \"13\": {\"13\": 136}, \"49\": {\"49\": 36}, \"46\": {\"46\": 148}, \"16\": {\"16\": 135, \"11\": 1}, \"54\": {\"54\": 111, \"31\": 1}, \"19\": {\"19\": 152}, \"55\": {\"55\": 150}, \"30\": {\"30\": 128}, \"34\": {\"34\": 36}, \"50\": {\"50\": 134}, \"3\": {\"3\": 100}, \"10\": {\"10\": 68}, \"27\": {\"27\": 142}, \"33\": {\"33\": 28, \"55\": 2, \"34\": 1, \"36\": 1}, \"56\": {\"56\": 142}, \"9\": {\"9\": 150}, \"14\": {\"14\": 31, \"29\": 6, \"36\": 1, \"2\": 2, \"48\": 1, \"57\": 1, \"27\": 1, \"0\": 1}, \"4\": {\"4\": 100}, \"42\": {\"42\": 40}, \"24\": {\"24\": 80}, \"39\": {\"39\": 19, \"54\": 1}, \"52\": {\"52\": 130}, \"2\": {\"2\": 28}, \"28\": {\"28\": 32}, \"53\": {\"53\": 122}, \"17\": {\"17\": 116}, \"29\": {\"29\": 132}, \"38\": {\"38\": 26, \"51\": 4, \"7\": 2}, \"15\": {\"15\": 142, \"16\": 2}, \"26\": {\"26\": 21, \"17\": 2, \"42\": 1}, \"21\": {\"21\": 144}, \"41\": {\"41\": 24, \"14\": 2, \"27\": 2}, \"48\": {\"48\": 136}, \"22\": {\"22\": 28}, \"8\": {\"8\": 148}, \"18\": {\"18\": 64}, \"0\": {\"0\": 122}, \"1\": {\"1\": 138}, \"40\": {\"40\": 123, \"5\": 1}, \"6\": {\"6\": 128}, \"51\": {\"51\": 142}, \"36\": {\"36\": 92}}}, \"per_domain_accuracy\": {\"ORACLE.run1_50\": {\"accuracy\": 0.8739583333333333, \"source?\": true}, \"ORACLE.run1_14\": {\"accuracy\": 0.8296875, \"source?\": true}, \"ORACLE.run1_32\": {\"accuracy\": 0.83125, \"source?\": true}, \"ORACLE.run1_44\": {\"accuracy\": 0.7924479166666667, \"source?\": true}, \"ORACLE.run1_8\": {\"accuracy\": 0.7880208333333333, \"source?\": true}, \"ORACLE.run1_20\": {\"accuracy\": 0.6932291666666667, \"source?\": true}, \"ORACLE.run1_38\": {\"accuracy\": 0.8802083333333334, \"source?\": true}, \"ORACLE.run1_26\": {\"accuracy\": 0.7036458333333333, \"source?\": true}, \"CORES_4\": {\"accuracy\": 0.981439393939394, \"source?\": false}, \"CORES_2\": {\"accuracy\": 0.9905196629213483, \"source?\": false}, \"CORES_3\": {\"accuracy\": 0.9908854166666666, \"source?\": false}, \"CORES_1\": {\"accuracy\": 0.9891891891891892, \"source?\": false}, \"CORES_5\": {\"accuracy\": 0.9916201117318436, \"source?\": false}}}, \"history\": {\"epoch_indices\": [1, 2, 3, 4, 5, 6, 7, 8, 9, 10, 11, 12, 13, 14], \"train_label_loss\": [1.2190976970119491, 0.7474280716496564, 0.533565090474717, 0.4186599950633189, 0.35294091409083367, 0.30776427442823273, 0.26670931779441337, 0.23222425075683056, 0.20296776068661573, 0.17687415651120578, 0.15526071337420339, 0.13840966237309787, 0.1203712012995744, 0.10836727857285518], \"source_val_label_loss\": [2.125387191772461, 0.6940701603889465, 0.5511496663093567, 0.5278194546699524, 0.5316634178161621, 0.5405768752098083, 0.5412037968635559, 0.5743396282196045, 0.592419445514679, 0.6246119737625122, 0.6281214356422424, 0.6763942837715149, 0.6940481662750244, 0.7043283581733704], \"target_val_label_loss\": [15.881135940551758, 1.0220943689346313, 1.3433870077133179, 0.6319848299026489, 1.0753453969955444, 0.7672463655471802, 1.064812421798706, 1.2231287956237793, 1.2523707151412964, 0.8015840649604797, 1.0386134386062622, 0.9064580798149109, 0.9756523370742798, 1.3519366979599], \"source_val_acc_label\": [0.588671875, 0.74677734375, 0.8053059895833333, 0.8072265625, 0.8194661458333333, 0.8144205729166667, 0.8197265625, 0.8098958333333334, 0.8135091145833333, 0.7990559895833333, 0.80908203125, 0.8005859375, 0.80595703125, 0.8119791666666667], \"target_val_acc_label\": [0.8820357142857143, 0.9616428571428571, 0.9751785714285715, 0.9831785714285715, 0.9851785714285715, 0.9850714285714286, 0.9856785714285714, 0.98525, 0.9849642857142857, 0.9888214285714285, 0.9864642857142857, 0.9876071428571429, 0.9886785714285714, 0.9880357142857142]}, \"dataset_metrics\": {\"source\": {\"train\": {\"n_unique_x\": 179200, \"n_unique_y\": 16, \"n_batch/episode\": 6720}, \"val\": {\"n_unique_x\": 38400, \"n_unique_y\": 16, \"n_batch/episode\": 960}, \"test\": {\"n_unique_x\": 38400, \"n_unique_y\": 16, \"n_batch/episode\": 960}}, \"target\": {\"train\": {\"n_unique_x\": 175197, \"n_unique_y\": 58, \"n_batch/episode\": 6309}, \"val\": {\"n_unique_x\": 37166, \"n_unique_y\": 58, \"n_batch/episode\": 875}, \"test\": {\"n_unique_x\": 37642, \"n_unique_y\": 58, \"n_batch/episode\": 890}}}}'"
      ]
     },
     "execution_count": 29,
     "metadata": {},
     "output_type": "execute_result"
    }
   ],
   "source": [
    "json.dumps(experiment)"
   ]
  }
 ],
 "metadata": {
  "celltoolbar": "Tags",
  "kernelspec": {
   "display_name": "Python 3 (ipykernel)",
   "language": "python",
   "name": "python3"
  },
  "language_info": {
   "codemirror_mode": {
    "name": "ipython",
    "version": 3
   },
   "file_extension": ".py",
   "mimetype": "text/x-python",
   "name": "python",
   "nbconvert_exporter": "python",
   "pygments_lexer": "ipython3",
   "version": "3.8.12"
  },
  "papermill": {
   "default_parameters": {},
   "duration": 2897.345943,
   "end_time": "2022-03-22T20:16:13.942298",
   "environment_variables": {},
   "exception": null,
   "input_path": "/root/csc500-main/csc500-notebooks/templates/tl_ptn_template.ipynb",
   "output_path": "trial.ipynb",
   "parameters": {
    "parameters": {
     "BEST_MODEL_PATH": "./best_model.pth",
     "NUM_LOGS_PER_EPOCH": 10,
     "criteria_for_best": "target_accuracy",
     "dataset_seed": 500,
     "datasets": [
      {
       "domain_prefix": "CORES_",
       "domains": [
        1,
        2,
        3,
        4,
        5
       ],
       "episode_transforms": [],
       "labels": [
        "1-10.",
        "1-11.",
        "1-15.",
        "1-16.",
        "1-17.",
        "1-18.",
        "1-19.",
        "10-4.",
        "10-7.",
        "11-1.",
        "11-14.",
        "11-17.",
        "11-20.",
        "11-7.",
        "13-20.",
        "13-8.",
        "14-10.",
        "14-11.",
        "14-14.",
        "14-7.",
        "15-1.",
        "15-20.",
        "16-1.",
        "16-16.",
        "17-10.",
        "17-11.",
        "17-2.",
        "19-1.",
        "19-16.",
        "19-19.",
        "19-20.",
        "19-3.",
        "2-10.",
        "2-11.",
        "2-17.",
        "2-18.",
        "2-20.",
        "2-3.",
        "2-4.",
        "2-5.",
        "2-6.",
        "2-7.",
        "2-8.",
        "3-13.",
        "3-18.",
        "3-3.",
        "4-1.",
        "4-10.",
        "4-11.",
        "4-19.",
        "5-5.",
        "6-15.",
        "7-10.",
        "7-14.",
        "8-18.",
        "8-20.",
        "8-3.",
        "8-8."
       ],
       "num_examples_per_domain_per_label": -1,
       "pickle_path": "/root/csc500-main/datasets/cores.stratified_ds.2022A.pkl",
       "source_or_target_dataset": "target",
       "x_transforms": []
      },
      {
       "domain_prefix": "ORACLE.run1_",
       "domains": [
        32,
        38,
        8,
        44,
        14,
        50,
        20,
        26
       ],
       "episode_transforms": [],
       "labels": [
        "3123D52",
        "3123D65",
        "3123D79",
        "3123D80",
        "3123D54",
        "3123D70",
        "3123D7B",
        "3123D89",
        "3123D58",
        "3123D76",
        "3123D7D",
        "3123EFE",
        "3123D64",
        "3123D78",
        "3123D7E",
        "3124E4A"
       ],
       "num_examples_per_domain_per_label": 2000,
       "pickle_path": "/root/csc500-main/datasets/oracle.Run1_10kExamples_stratified_ds.2022A.pkl",
       "source_or_target_dataset": "source",
       "x_transforms": []
      }
     ],
     "device": "cuda",
     "experiment_name": "tl_1v2:cores-oracle.run1.limited",
     "lr": 0.0001,
     "n_epoch": 50,
     "n_query": 2,
     "n_shot": 3,
     "n_way": 16,
     "patience": 3,
     "seed": 500,
     "test_k_factor": 2,
     "torch_default_dtype": "torch.float32",
     "train_k_factor": 3,
     "val_k_factor": 2,
     "x_net": [
      {
       "class": "nnReshape",
       "kargs": {
        "shape": [
         -1,
         1,
         2,
         256
        ]
       }
      },
      {
       "class": "Conv2d",
       "kargs": {
        "bias": false,
        "in_channels": 1,
        "kernel_size": [
         1,
         7
        ],
        "out_channels": 256,
        "padding": [
         0,
         3
        ]
       }
      },
      {
       "class": "ReLU",
       "kargs": {
        "inplace": true
       }
      },
      {
       "class": "BatchNorm2d",
       "kargs": {
        "num_features": 256
       }
      },
      {
       "class": "Conv2d",
       "kargs": {
        "bias": true,
        "in_channels": 256,
        "kernel_size": [
         2,
         7
        ],
        "out_channels": 80,
        "padding": [
         0,
         3
        ]
       }
      },
      {
       "class": "ReLU",
       "kargs": {
        "inplace": true
       }
      },
      {
       "class": "BatchNorm2d",
       "kargs": {
        "num_features": 80
       }
      },
      {
       "class": "Flatten",
       "kargs": {}
      },
      {
       "class": "Linear",
       "kargs": {
        "in_features": 20480,
        "out_features": 256
       }
      },
      {
       "class": "ReLU",
       "kargs": {
        "inplace": true
       }
      },
      {
       "class": "BatchNorm1d",
       "kargs": {
        "num_features": 256
       }
      },
      {
       "class": "Linear",
       "kargs": {
        "in_features": 256,
        "out_features": 256
       }
      }
     ]
    }
   },
   "start_time": "2022-03-22T19:27:56.596355",
   "version": "2.3.4"
  }
 },
 "nbformat": 4,
 "nbformat_minor": 5
}