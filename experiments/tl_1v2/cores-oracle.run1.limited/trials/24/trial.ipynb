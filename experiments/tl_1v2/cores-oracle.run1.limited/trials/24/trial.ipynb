{
 "cells": [
  {
   "cell_type": "markdown",
   "id": "9fea5f46",
   "metadata": {
    "papermill": {
     "duration": 0.02651,
     "end_time": "2022-03-22T16:59:07.024663",
     "exception": false,
     "start_time": "2022-03-22T16:59:06.998153",
     "status": "completed"
    },
    "tags": []
   },
   "source": [
    "# Transfer Learning Template"
   ]
  },
  {
   "cell_type": "code",
   "execution_count": 1,
   "id": "0902182a",
   "metadata": {
    "execution": {
     "iopub.execute_input": "2022-03-22T16:59:07.084299Z",
     "iopub.status.busy": "2022-03-22T16:59:07.082066Z",
     "iopub.status.idle": "2022-03-22T16:59:08.938862Z",
     "shell.execute_reply": "2022-03-22T16:59:08.938012Z"
    },
    "papermill": {
     "duration": 1.894723,
     "end_time": "2022-03-22T16:59:08.939059",
     "exception": false,
     "start_time": "2022-03-22T16:59:07.044336",
     "status": "completed"
    },
    "tags": []
   },
   "outputs": [],
   "source": [
    "%load_ext autoreload\n",
    "%autoreload 2\n",
    "%matplotlib inline\n",
    "\n",
    "    \n",
    "import os, json, sys, time, random\n",
    "import numpy as np\n",
    "import torch\n",
    "from torch.optim import Adam\n",
    "from  easydict import EasyDict\n",
    "import matplotlib.pyplot as plt\n",
    "\n",
    "from steves_models.steves_ptn import Steves_Prototypical_Network\n",
    "\n",
    "from steves_utils.lazy_iterable_wrapper import Lazy_Iterable_Wrapper\n",
    "from steves_utils.iterable_aggregator import Iterable_Aggregator\n",
    "from steves_utils.ptn_train_eval_test_jig import  PTN_Train_Eval_Test_Jig\n",
    "from steves_utils.torch_sequential_builder import build_sequential\n",
    "from steves_utils.torch_utils import get_dataset_metrics, ptn_confusion_by_domain_over_dataloader\n",
    "from steves_utils.utils_v2 import (per_domain_accuracy_from_confusion, get_datasets_base_path)\n",
    "from steves_utils.PTN.utils import independent_accuracy_assesment\n",
    "\n",
    "from torch.utils.data import DataLoader\n",
    "\n",
    "from steves_utils.stratified_dataset.episodic_accessor import Episodic_Accessor_Factory\n",
    "\n",
    "from steves_utils.ptn_do_report import (\n",
    "    get_loss_curve,\n",
    "    get_results_table,\n",
    "    get_parameters_table,\n",
    "    get_domain_accuracies,\n",
    ")\n",
    "\n",
    "from steves_utils.transforms import get_chained_transform"
   ]
  },
  {
   "cell_type": "markdown",
   "id": "41c840b4",
   "metadata": {
    "papermill": {
     "duration": 0.019725,
     "end_time": "2022-03-22T16:59:08.986651",
     "exception": false,
     "start_time": "2022-03-22T16:59:08.966926",
     "status": "completed"
    },
    "tags": []
   },
   "source": [
    "# Allowed Parameters\n",
    "These are allowed parameters, not defaults\n",
    "Each of these values need to be present in the injected parameters (the notebook will raise an exception if they are not present)\n",
    "\n",
    "Papermill uses the cell tag \"parameters\" to inject the real parameters below this cell.\n",
    "Enable tags to see what I mean"
   ]
  },
  {
   "cell_type": "code",
   "execution_count": 2,
   "id": "fd44eb83",
   "metadata": {
    "execution": {
     "iopub.execute_input": "2022-03-22T16:59:09.031716Z",
     "iopub.status.busy": "2022-03-22T16:59:09.031312Z",
     "iopub.status.idle": "2022-03-22T16:59:09.058518Z",
     "shell.execute_reply": "2022-03-22T16:59:09.059189Z"
    },
    "papermill": {
     "duration": 0.052227,
     "end_time": "2022-03-22T16:59:09.059388",
     "exception": false,
     "start_time": "2022-03-22T16:59:09.007161",
     "status": "completed"
    },
    "tags": []
   },
   "outputs": [],
   "source": [
    "required_parameters = {\n",
    "    \"experiment_name\",\n",
    "    \"lr\",\n",
    "    \"device\",\n",
    "    \"seed\",\n",
    "    \"dataset_seed\",\n",
    "    \"n_shot\",\n",
    "    \"n_query\",\n",
    "    \"n_way\",\n",
    "    \"train_k_factor\",\n",
    "    \"val_k_factor\",\n",
    "    \"test_k_factor\",\n",
    "    \"n_epoch\",\n",
    "    \"patience\",\n",
    "    \"criteria_for_best\",\n",
    "    \"x_net\",\n",
    "    \"datasets\",\n",
    "    \"torch_default_dtype\",\n",
    "    \"NUM_LOGS_PER_EPOCH\",\n",
    "    \"BEST_MODEL_PATH\",\n",
    "    \"x_shape\",\n",
    "}"
   ]
  },
  {
   "cell_type": "code",
   "execution_count": 3,
   "id": "fa3f0049",
   "metadata": {
    "execution": {
     "iopub.execute_input": "2022-03-22T16:59:09.118335Z",
     "iopub.status.busy": "2022-03-22T16:59:09.117426Z",
     "iopub.status.idle": "2022-03-22T16:59:09.146984Z",
     "shell.execute_reply": "2022-03-22T16:59:09.147641Z"
    },
    "papermill": {
     "duration": 0.062518,
     "end_time": "2022-03-22T16:59:09.147833",
     "exception": false,
     "start_time": "2022-03-22T16:59:09.085315",
     "status": "completed"
    },
    "tags": [
     "parameters"
    ]
   },
   "outputs": [],
   "source": [
    "from steves_utils.CORES.utils import (\n",
    "    ALL_NODES,\n",
    "    ALL_NODES_MINIMUM_1000_EXAMPLES,\n",
    "    ALL_DAYS\n",
    ")\n",
    "\n",
    "from steves_utils.ORACLE.utils_v2 import (\n",
    "    ALL_DISTANCES_FEET_NARROWED,\n",
    "    ALL_RUNS,\n",
    "    ALL_SERIAL_NUMBERS,\n",
    ")\n",
    "\n",
    "standalone_parameters = {}\n",
    "standalone_parameters[\"experiment_name\"] = \"STANDALONE PTN\"\n",
    "standalone_parameters[\"lr\"] = 0.001\n",
    "standalone_parameters[\"device\"] = \"cuda\"\n",
    "\n",
    "standalone_parameters[\"seed\"] = 1337\n",
    "standalone_parameters[\"dataset_seed\"] = 1337\n",
    "\n",
    "standalone_parameters[\"n_way\"] = 8\n",
    "standalone_parameters[\"n_shot\"] = 3\n",
    "standalone_parameters[\"n_query\"]  = 2\n",
    "standalone_parameters[\"train_k_factor\"] = 1\n",
    "standalone_parameters[\"val_k_factor\"] = 2\n",
    "standalone_parameters[\"test_k_factor\"] = 2\n",
    "\n",
    "\n",
    "standalone_parameters[\"n_epoch\"] = 50\n",
    "\n",
    "standalone_parameters[\"patience\"] = 10\n",
    "standalone_parameters[\"criteria_for_best\"] = \"source_loss\"\n",
    "\n",
    "standalone_parameters[\"datasets\"] = [\n",
    "    {\n",
    "        \"labels\": ALL_SERIAL_NUMBERS,\n",
    "        \"domains\": ALL_DISTANCES_FEET_NARROWED,\n",
    "        \"num_examples_per_domain_per_label\": 100,\n",
    "        \"pickle_path\": os.path.join(get_datasets_base_path(), \"oracle.Run1_framed_2000Examples_stratified_ds.2022A.pkl\"),\n",
    "        \"source_or_target_dataset\": \"source\",\n",
    "        \"x_transforms\": [\"unit_mag\", \"minus_two\"],\n",
    "        \"episode_transforms\": [],\n",
    "        \"domain_prefix\": \"ORACLE_\"\n",
    "    },\n",
    "    {\n",
    "        \"labels\": ALL_NODES,\n",
    "        \"domains\": ALL_DAYS,\n",
    "        \"num_examples_per_domain_per_label\": 100,\n",
    "        \"pickle_path\": os.path.join(get_datasets_base_path(), \"cores.stratified_ds.2022A.pkl\"),\n",
    "        \"source_or_target_dataset\": \"target\",\n",
    "        \"x_transforms\": [\"unit_power\", \"times_zero\"],\n",
    "        \"episode_transforms\": [],\n",
    "        \"domain_prefix\": \"CORES_\"\n",
    "    }   \n",
    "]\n",
    "\n",
    "standalone_parameters[\"torch_default_dtype\"] = \"torch.float32\" \n",
    "\n",
    "\n",
    "\n",
    "standalone_parameters[\"x_net\"] =     [\n",
    "    {\"class\": \"nnReshape\", \"kargs\": {\"shape\":[-1, 1, 2, 256]}},\n",
    "    {\"class\": \"Conv2d\", \"kargs\": { \"in_channels\":1, \"out_channels\":256, \"kernel_size\":(1,7), \"bias\":False, \"padding\":(0,3), },},\n",
    "    {\"class\": \"ReLU\", \"kargs\": {\"inplace\": True}},\n",
    "    {\"class\": \"BatchNorm2d\", \"kargs\": {\"num_features\":256}},\n",
    "\n",
    "    {\"class\": \"Conv2d\", \"kargs\": { \"in_channels\":256, \"out_channels\":80, \"kernel_size\":(2,7), \"bias\":True, \"padding\":(0,3), },},\n",
    "    {\"class\": \"ReLU\", \"kargs\": {\"inplace\": True}},\n",
    "    {\"class\": \"BatchNorm2d\", \"kargs\": {\"num_features\":80}},\n",
    "    {\"class\": \"Flatten\", \"kargs\": {}},\n",
    "\n",
    "    {\"class\": \"Linear\", \"kargs\": {\"in_features\": 80*256, \"out_features\": 256}}, # 80 units per IQ pair\n",
    "    {\"class\": \"ReLU\", \"kargs\": {\"inplace\": True}},\n",
    "    {\"class\": \"BatchNorm1d\", \"kargs\": {\"num_features\":256}},\n",
    "\n",
    "    {\"class\": \"Linear\", \"kargs\": {\"in_features\": 256, \"out_features\": 256}},\n",
    "]\n",
    "\n",
    "# Parameters relevant to results\n",
    "# These parameters will basically never need to change\n",
    "standalone_parameters[\"NUM_LOGS_PER_EPOCH\"] = 10\n",
    "standalone_parameters[\"BEST_MODEL_PATH\"] = \"./best_model.pth\"\n",
    "\n",
    "\n",
    "\n",
    "\n"
   ]
  },
  {
   "cell_type": "code",
   "execution_count": 4,
   "id": "50ab5d89",
   "metadata": {
    "execution": {
     "iopub.execute_input": "2022-03-22T16:59:09.204670Z",
     "iopub.status.busy": "2022-03-22T16:59:09.203932Z",
     "iopub.status.idle": "2022-03-22T16:59:09.236525Z",
     "shell.execute_reply": "2022-03-22T16:59:09.235841Z"
    },
    "papermill": {
     "duration": 0.064582,
     "end_time": "2022-03-22T16:59:09.236688",
     "exception": false,
     "start_time": "2022-03-22T16:59:09.172106",
     "status": "completed"
    },
    "tags": [
     "injected-parameters"
    ]
   },
   "outputs": [],
   "source": [
    "# Parameters\n",
    "parameters = {\n",
    "    \"experiment_name\": \"tl_1v2:cores-oracle.run1.limited\",\n",
    "    \"device\": \"cuda\",\n",
    "    \"lr\": 0.0001,\n",
    "    \"n_shot\": 3,\n",
    "    \"n_query\": 2,\n",
    "    \"train_k_factor\": 3,\n",
    "    \"val_k_factor\": 2,\n",
    "    \"test_k_factor\": 2,\n",
    "    \"torch_default_dtype\": \"torch.float32\",\n",
    "    \"n_epoch\": 50,\n",
    "    \"patience\": 3,\n",
    "    \"criteria_for_best\": \"target_accuracy\",\n",
    "    \"x_net\": [\n",
    "        {\"class\": \"nnReshape\", \"kargs\": {\"shape\": [-1, 1, 2, 256]}},\n",
    "        {\n",
    "            \"class\": \"Conv2d\",\n",
    "            \"kargs\": {\n",
    "                \"in_channels\": 1,\n",
    "                \"out_channels\": 256,\n",
    "                \"kernel_size\": [1, 7],\n",
    "                \"bias\": False,\n",
    "                \"padding\": [0, 3],\n",
    "            },\n",
    "        },\n",
    "        {\"class\": \"ReLU\", \"kargs\": {\"inplace\": True}},\n",
    "        {\"class\": \"BatchNorm2d\", \"kargs\": {\"num_features\": 256}},\n",
    "        {\n",
    "            \"class\": \"Conv2d\",\n",
    "            \"kargs\": {\n",
    "                \"in_channels\": 256,\n",
    "                \"out_channels\": 80,\n",
    "                \"kernel_size\": [2, 7],\n",
    "                \"bias\": True,\n",
    "                \"padding\": [0, 3],\n",
    "            },\n",
    "        },\n",
    "        {\"class\": \"ReLU\", \"kargs\": {\"inplace\": True}},\n",
    "        {\"class\": \"BatchNorm2d\", \"kargs\": {\"num_features\": 80}},\n",
    "        {\"class\": \"Flatten\", \"kargs\": {}},\n",
    "        {\"class\": \"Linear\", \"kargs\": {\"in_features\": 20480, \"out_features\": 256}},\n",
    "        {\"class\": \"ReLU\", \"kargs\": {\"inplace\": True}},\n",
    "        {\"class\": \"BatchNorm1d\", \"kargs\": {\"num_features\": 256}},\n",
    "        {\"class\": \"Linear\", \"kargs\": {\"in_features\": 256, \"out_features\": 256}},\n",
    "    ],\n",
    "    \"NUM_LOGS_PER_EPOCH\": 10,\n",
    "    \"BEST_MODEL_PATH\": \"./best_model.pth\",\n",
    "    \"n_way\": 16,\n",
    "    \"datasets\": [\n",
    "        {\n",
    "            \"labels\": [\n",
    "                \"1-10.\",\n",
    "                \"1-11.\",\n",
    "                \"1-15.\",\n",
    "                \"1-16.\",\n",
    "                \"1-17.\",\n",
    "                \"1-18.\",\n",
    "                \"1-19.\",\n",
    "                \"10-4.\",\n",
    "                \"10-7.\",\n",
    "                \"11-1.\",\n",
    "                \"11-14.\",\n",
    "                \"11-17.\",\n",
    "                \"11-20.\",\n",
    "                \"11-7.\",\n",
    "                \"13-20.\",\n",
    "                \"13-8.\",\n",
    "                \"14-10.\",\n",
    "                \"14-11.\",\n",
    "                \"14-14.\",\n",
    "                \"14-7.\",\n",
    "                \"15-1.\",\n",
    "                \"15-20.\",\n",
    "                \"16-1.\",\n",
    "                \"16-16.\",\n",
    "                \"17-10.\",\n",
    "                \"17-11.\",\n",
    "                \"17-2.\",\n",
    "                \"19-1.\",\n",
    "                \"19-16.\",\n",
    "                \"19-19.\",\n",
    "                \"19-20.\",\n",
    "                \"19-3.\",\n",
    "                \"2-10.\",\n",
    "                \"2-11.\",\n",
    "                \"2-17.\",\n",
    "                \"2-18.\",\n",
    "                \"2-20.\",\n",
    "                \"2-3.\",\n",
    "                \"2-4.\",\n",
    "                \"2-5.\",\n",
    "                \"2-6.\",\n",
    "                \"2-7.\",\n",
    "                \"2-8.\",\n",
    "                \"3-13.\",\n",
    "                \"3-18.\",\n",
    "                \"3-3.\",\n",
    "                \"4-1.\",\n",
    "                \"4-10.\",\n",
    "                \"4-11.\",\n",
    "                \"4-19.\",\n",
    "                \"5-5.\",\n",
    "                \"6-15.\",\n",
    "                \"7-10.\",\n",
    "                \"7-14.\",\n",
    "                \"8-18.\",\n",
    "                \"8-20.\",\n",
    "                \"8-3.\",\n",
    "                \"8-8.\",\n",
    "            ],\n",
    "            \"domains\": [1, 2, 3, 4, 5],\n",
    "            \"num_examples_per_domain_per_label\": -1,\n",
    "            \"pickle_path\": \"/root/csc500-main/datasets/cores.stratified_ds.2022A.pkl\",\n",
    "            \"source_or_target_dataset\": \"source\",\n",
    "            \"x_transforms\": [\"unit_power\"],\n",
    "            \"episode_transforms\": [],\n",
    "            \"domain_prefix\": \"CORES_\",\n",
    "        },\n",
    "        {\n",
    "            \"labels\": [\n",
    "                \"3123D52\",\n",
    "                \"3123D65\",\n",
    "                \"3123D79\",\n",
    "                \"3123D80\",\n",
    "                \"3123D54\",\n",
    "                \"3123D70\",\n",
    "                \"3123D7B\",\n",
    "                \"3123D89\",\n",
    "                \"3123D58\",\n",
    "                \"3123D76\",\n",
    "                \"3123D7D\",\n",
    "                \"3123EFE\",\n",
    "                \"3123D64\",\n",
    "                \"3123D78\",\n",
    "                \"3123D7E\",\n",
    "                \"3124E4A\",\n",
    "            ],\n",
    "            \"domains\": [32, 38, 8, 44, 14, 50, 20, 26],\n",
    "            \"num_examples_per_domain_per_label\": 2000,\n",
    "            \"pickle_path\": \"/root/csc500-main/datasets/oracle.Run1_10kExamples_stratified_ds.2022A.pkl\",\n",
    "            \"source_or_target_dataset\": \"target\",\n",
    "            \"x_transforms\": [\"unit_power\"],\n",
    "            \"episode_transforms\": [],\n",
    "            \"domain_prefix\": \"ORACLE.run1_\",\n",
    "        },\n",
    "    ],\n",
    "    \"dataset_seed\": 500,\n",
    "    \"seed\": 500,\n",
    "}\n"
   ]
  },
  {
   "cell_type": "code",
   "execution_count": 5,
   "id": "8fa1cc33",
   "metadata": {
    "execution": {
     "iopub.execute_input": "2022-03-22T16:59:09.288266Z",
     "iopub.status.busy": "2022-03-22T16:59:09.287697Z",
     "iopub.status.idle": "2022-03-22T16:59:09.314149Z",
     "shell.execute_reply": "2022-03-22T16:59:09.313438Z"
    },
    "papermill": {
     "duration": 0.053349,
     "end_time": "2022-03-22T16:59:09.314305",
     "exception": false,
     "start_time": "2022-03-22T16:59:09.260956",
     "status": "completed"
    },
    "tags": []
   },
   "outputs": [],
   "source": [
    "# Set this to True if you want to run this template directly\n",
    "STANDALONE = False\n",
    "if STANDALONE:\n",
    "    print(\"parameters not injected, running with standalone_parameters\")\n",
    "    parameters = standalone_parameters\n",
    "\n",
    "if not 'parameters' in locals() and not 'parameters' in globals():\n",
    "    raise Exception(\"Parameter injection failed\")\n",
    "\n",
    "#Use an easy dict for all the parameters\n",
    "p = EasyDict(parameters)\n",
    "\n",
    "if \"x_shape\" not in p:\n",
    "    p.x_shape = [2,256] # Default to this if we dont supply x_shape\n",
    "\n",
    "\n",
    "supplied_keys = set(p.keys())\n",
    "\n",
    "if  supplied_keys != required_parameters:\n",
    "    print(\"Parameters are incorrect\")\n",
    "    if len(supplied_keys - required_parameters)>0: print(\"Shouldn't have:\", str(supplied_keys - required_parameters))\n",
    "    if len(required_parameters - supplied_keys)>0: print(\"Need to have:\", str(required_parameters - supplied_keys))\n",
    "    raise RuntimeError(\"Parameters are incorrect\")"
   ]
  },
  {
   "cell_type": "code",
   "execution_count": 6,
   "id": "3a028d58",
   "metadata": {
    "execution": {
     "iopub.execute_input": "2022-03-22T16:59:09.364072Z",
     "iopub.status.busy": "2022-03-22T16:59:09.363707Z",
     "iopub.status.idle": "2022-03-22T16:59:09.389998Z",
     "shell.execute_reply": "2022-03-22T16:59:09.389176Z"
    },
    "papermill": {
     "duration": 0.050947,
     "end_time": "2022-03-22T16:59:09.390360",
     "exception": false,
     "start_time": "2022-03-22T16:59:09.339413",
     "status": "completed"
    },
    "tags": []
   },
   "outputs": [],
   "source": [
    "###################################\n",
    "# Set the RNGs and make it all deterministic\n",
    "###################################\n",
    "np.random.seed(p.seed)\n",
    "random.seed(p.seed)\n",
    "torch.manual_seed(p.seed)\n",
    "\n",
    "torch.use_deterministic_algorithms(True) "
   ]
  },
  {
   "cell_type": "code",
   "execution_count": 7,
   "id": "b691acf6",
   "metadata": {
    "execution": {
     "iopub.execute_input": "2022-03-22T16:59:09.440743Z",
     "iopub.status.busy": "2022-03-22T16:59:09.440241Z",
     "iopub.status.idle": "2022-03-22T16:59:09.465622Z",
     "shell.execute_reply": "2022-03-22T16:59:09.464908Z"
    },
    "papermill": {
     "duration": 0.049431,
     "end_time": "2022-03-22T16:59:09.465777",
     "exception": false,
     "start_time": "2022-03-22T16:59:09.416346",
     "status": "completed"
    },
    "tags": []
   },
   "outputs": [],
   "source": [
    "###########################################\n",
    "# The stratified datasets honor this\n",
    "###########################################\n",
    "torch.set_default_dtype(eval(p.torch_default_dtype))"
   ]
  },
  {
   "cell_type": "code",
   "execution_count": 8,
   "id": "b5fba671",
   "metadata": {
    "execution": {
     "iopub.execute_input": "2022-03-22T16:59:09.516609Z",
     "iopub.status.busy": "2022-03-22T16:59:09.515312Z",
     "iopub.status.idle": "2022-03-22T16:59:09.579560Z",
     "shell.execute_reply": "2022-03-22T16:59:09.580224Z"
    },
    "papermill": {
     "duration": 0.088719,
     "end_time": "2022-03-22T16:59:09.580442",
     "exception": false,
     "start_time": "2022-03-22T16:59:09.491723",
     "status": "completed"
    },
    "tags": []
   },
   "outputs": [],
   "source": [
    "###################################\n",
    "# Build the network(s)\n",
    "# Note: It's critical to do this AFTER setting the RNG\n",
    "###################################\n",
    "x_net = build_sequential(p.x_net)"
   ]
  },
  {
   "cell_type": "code",
   "execution_count": 9,
   "id": "5d7e61cc",
   "metadata": {
    "execution": {
     "iopub.execute_input": "2022-03-22T16:59:09.629804Z",
     "iopub.status.busy": "2022-03-22T16:59:09.629259Z",
     "iopub.status.idle": "2022-03-22T16:59:09.653906Z",
     "shell.execute_reply": "2022-03-22T16:59:09.653106Z"
    },
    "papermill": {
     "duration": 0.048688,
     "end_time": "2022-03-22T16:59:09.654058",
     "exception": false,
     "start_time": "2022-03-22T16:59:09.605370",
     "status": "completed"
    },
    "tags": []
   },
   "outputs": [],
   "source": [
    "start_time_secs = time.time()"
   ]
  },
  {
   "cell_type": "code",
   "execution_count": 10,
   "id": "c6b67dfd",
   "metadata": {
    "execution": {
     "iopub.execute_input": "2022-03-22T16:59:09.706935Z",
     "iopub.status.busy": "2022-03-22T16:59:09.706574Z",
     "iopub.status.idle": "2022-03-22T16:59:09.732521Z",
     "shell.execute_reply": "2022-03-22T16:59:09.731795Z"
    },
    "papermill": {
     "duration": 0.050948,
     "end_time": "2022-03-22T16:59:09.732687",
     "exception": false,
     "start_time": "2022-03-22T16:59:09.681739",
     "status": "completed"
    },
    "tags": []
   },
   "outputs": [],
   "source": [
    "p.domains_source = []\n",
    "p.domains_target = []\n",
    "\n",
    "\n",
    "train_original_source = []\n",
    "val_original_source   = []\n",
    "test_original_source  = []\n",
    "\n",
    "train_original_target = []\n",
    "val_original_target   = []\n",
    "test_original_target  = []"
   ]
  },
  {
   "cell_type": "code",
   "execution_count": 11,
   "id": "e3d9c3d3",
   "metadata": {
    "execution": {
     "iopub.execute_input": "2022-03-22T16:59:09.782827Z",
     "iopub.status.busy": "2022-03-22T16:59:09.782463Z",
     "iopub.status.idle": "2022-03-22T16:59:09.807628Z",
     "shell.execute_reply": "2022-03-22T16:59:09.806799Z"
    },
    "papermill": {
     "duration": 0.048561,
     "end_time": "2022-03-22T16:59:09.807783",
     "exception": false,
     "start_time": "2022-03-22T16:59:09.759222",
     "status": "completed"
    },
    "tags": []
   },
   "outputs": [],
   "source": [
    "# global_x_transform_func = lambda x: normalize(x.to(torch.get_default_dtype()), \"unit_power\") # unit_power, unit_mag\n",
    "# global_x_transform_func = lambda x: normalize(x, \"unit_power\") # unit_power, unit_mag"
   ]
  },
  {
   "cell_type": "code",
   "execution_count": 12,
   "id": "acb78fd2",
   "metadata": {
    "execution": {
     "iopub.execute_input": "2022-03-22T16:59:09.860526Z",
     "iopub.status.busy": "2022-03-22T16:59:09.860149Z",
     "iopub.status.idle": "2022-03-22T16:59:09.883891Z",
     "shell.execute_reply": "2022-03-22T16:59:09.884530Z"
    },
    "papermill": {
     "duration": 0.051954,
     "end_time": "2022-03-22T16:59:09.884714",
     "exception": false,
     "start_time": "2022-03-22T16:59:09.832760",
     "status": "completed"
    },
    "tags": []
   },
   "outputs": [],
   "source": [
    "def add_dataset(\n",
    "    labels,\n",
    "    domains,\n",
    "    pickle_path,\n",
    "    x_transforms,\n",
    "    episode_transforms,\n",
    "    domain_prefix,\n",
    "    num_examples_per_domain_per_label,\n",
    "    source_or_target_dataset:str,\n",
    "    iterator_seed=p.seed,\n",
    "    dataset_seed=p.dataset_seed,\n",
    "    n_shot=p.n_shot,\n",
    "    n_way=p.n_way,\n",
    "    n_query=p.n_query,\n",
    "    train_val_test_k_factors=(p.train_k_factor,p.val_k_factor,p.test_k_factor),\n",
    "):\n",
    "   \n",
    "    if x_transforms == []: x_transform = None\n",
    "    else: x_transform = get_chained_transform(x_transforms)\n",
    "    \n",
    "    if episode_transforms == []: episode_transform = None\n",
    "    else: raise Exception(\"episode_transforms not implemented\")\n",
    "    \n",
    "    episode_transform = lambda tup, _prefix=domain_prefix: (_prefix + str(tup[0]), tup[1])\n",
    "\n",
    "\n",
    "    eaf = Episodic_Accessor_Factory(\n",
    "        labels=labels,\n",
    "        domains=domains,\n",
    "        num_examples_per_domain_per_label=num_examples_per_domain_per_label,\n",
    "        iterator_seed=iterator_seed,\n",
    "        dataset_seed=dataset_seed,\n",
    "        n_shot=n_shot,\n",
    "        n_way=n_way,\n",
    "        n_query=n_query,\n",
    "        train_val_test_k_factors=train_val_test_k_factors,\n",
    "        pickle_path=pickle_path,\n",
    "        x_transform_func=x_transform,\n",
    "    )\n",
    "\n",
    "    train, val, test = eaf.get_train(), eaf.get_val(), eaf.get_test()\n",
    "    train = Lazy_Iterable_Wrapper(train, episode_transform)\n",
    "    val = Lazy_Iterable_Wrapper(val, episode_transform)\n",
    "    test = Lazy_Iterable_Wrapper(test, episode_transform)\n",
    "\n",
    "    if source_or_target_dataset==\"source\":\n",
    "        train_original_source.append(train)\n",
    "        val_original_source.append(val)\n",
    "        test_original_source.append(test)\n",
    "\n",
    "        p.domains_source.extend(\n",
    "            [domain_prefix + str(u) for u in domains]\n",
    "        )\n",
    "    elif source_or_target_dataset==\"target\":\n",
    "        train_original_target.append(train)\n",
    "        val_original_target.append(val)\n",
    "        test_original_target.append(test)\n",
    "        p.domains_target.extend(\n",
    "            [domain_prefix + str(u) for u in domains]\n",
    "        )\n",
    "    else:\n",
    "        raise Exception(f\"invalid source_or_target_dataset: {source_or_target_dataset}\")\n",
    "    "
   ]
  },
  {
   "cell_type": "code",
   "execution_count": 13,
   "id": "fe266617",
   "metadata": {
    "execution": {
     "iopub.execute_input": "2022-03-22T16:59:09.932291Z",
     "iopub.status.busy": "2022-03-22T16:59:09.931861Z",
     "iopub.status.idle": "2022-03-22T16:59:55.072113Z",
     "shell.execute_reply": "2022-03-22T16:59:55.071292Z"
    },
    "papermill": {
     "duration": 45.163139,
     "end_time": "2022-03-22T16:59:55.072295",
     "exception": false,
     "start_time": "2022-03-22T16:59:09.909156",
     "status": "completed"
    },
    "tags": []
   },
   "outputs": [],
   "source": [
    "for ds in p.datasets:\n",
    "    add_dataset(**ds)"
   ]
  },
  {
   "cell_type": "code",
   "execution_count": 14,
   "id": "b90d65ac",
   "metadata": {
    "execution": {
     "iopub.execute_input": "2022-03-22T16:59:55.122229Z",
     "iopub.status.busy": "2022-03-22T16:59:55.121677Z",
     "iopub.status.idle": "2022-03-22T16:59:55.144374Z",
     "shell.execute_reply": "2022-03-22T16:59:55.143624Z"
    },
    "papermill": {
     "duration": 0.046622,
     "end_time": "2022-03-22T16:59:55.144531",
     "exception": false,
     "start_time": "2022-03-22T16:59:55.097909",
     "status": "completed"
    },
    "tags": []
   },
   "outputs": [],
   "source": [
    "# from steves_utils.CORES.utils import (\n",
    "#     ALL_NODES,\n",
    "#     ALL_NODES_MINIMUM_1000_EXAMPLES,\n",
    "#     ALL_DAYS\n",
    "# )\n",
    "\n",
    "# add_dataset(\n",
    "#     labels=ALL_NODES,\n",
    "#     domains = ALL_DAYS,\n",
    "#     num_examples_per_domain_per_label=100,\n",
    "#     pickle_path=os.path.join(get_datasets_base_path(), \"cores.stratified_ds.2022A.pkl\"),\n",
    "#     source_or_target_dataset=\"target\",\n",
    "#     x_transform_func=global_x_transform_func,\n",
    "#     domain_modifier=lambda u: f\"cores_{u}\"\n",
    "# )"
   ]
  },
  {
   "cell_type": "code",
   "execution_count": 15,
   "id": "76db484d",
   "metadata": {
    "execution": {
     "iopub.execute_input": "2022-03-22T16:59:55.197788Z",
     "iopub.status.busy": "2022-03-22T16:59:55.197418Z",
     "iopub.status.idle": "2022-03-22T16:59:55.218096Z",
     "shell.execute_reply": "2022-03-22T16:59:55.217381Z"
    },
    "papermill": {
     "duration": 0.044865,
     "end_time": "2022-03-22T16:59:55.218250",
     "exception": false,
     "start_time": "2022-03-22T16:59:55.173385",
     "status": "completed"
    },
    "tags": []
   },
   "outputs": [],
   "source": [
    "# from steves_utils.ORACLE.utils_v2 import (\n",
    "#     ALL_DISTANCES_FEET,\n",
    "#     ALL_RUNS,\n",
    "#     ALL_SERIAL_NUMBERS,\n",
    "# )\n",
    "\n",
    "\n",
    "# add_dataset(\n",
    "#     labels=ALL_SERIAL_NUMBERS,\n",
    "#     domains = list(set(ALL_DISTANCES_FEET) - {2,62}),\n",
    "#     num_examples_per_domain_per_label=100,\n",
    "#     pickle_path=os.path.join(get_datasets_base_path(), \"oracle.Run2_framed_2000Examples_stratified_ds.2022A.pkl\"),\n",
    "#     source_or_target_dataset=\"source\",\n",
    "#     x_transform_func=global_x_transform_func,\n",
    "#     domain_modifier=lambda u: f\"oracle1_{u}\"\n",
    "# )\n"
   ]
  },
  {
   "cell_type": "code",
   "execution_count": 16,
   "id": "97dea9d2",
   "metadata": {
    "execution": {
     "iopub.execute_input": "2022-03-22T16:59:55.267894Z",
     "iopub.status.busy": "2022-03-22T16:59:55.267515Z",
     "iopub.status.idle": "2022-03-22T16:59:55.284247Z",
     "shell.execute_reply": "2022-03-22T16:59:55.283492Z"
    },
    "papermill": {
     "duration": 0.039863,
     "end_time": "2022-03-22T16:59:55.284403",
     "exception": false,
     "start_time": "2022-03-22T16:59:55.244540",
     "status": "completed"
    },
    "tags": []
   },
   "outputs": [],
   "source": [
    "# from steves_utils.ORACLE.utils_v2 import (\n",
    "#     ALL_DISTANCES_FEET,\n",
    "#     ALL_RUNS,\n",
    "#     ALL_SERIAL_NUMBERS,\n",
    "# )\n",
    "\n",
    "\n",
    "# add_dataset(\n",
    "#     labels=ALL_SERIAL_NUMBERS,\n",
    "#     domains = list(set(ALL_DISTANCES_FEET) - {2,62,56}),\n",
    "#     num_examples_per_domain_per_label=100,\n",
    "#     pickle_path=os.path.join(get_datasets_base_path(), \"oracle.Run2_framed_2000Examples_stratified_ds.2022A.pkl\"),\n",
    "#     source_or_target_dataset=\"source\",\n",
    "#     x_transform_func=global_x_transform_func,\n",
    "#     domain_modifier=lambda u: f\"oracle2_{u}\"\n",
    "# )"
   ]
  },
  {
   "cell_type": "code",
   "execution_count": 17,
   "id": "6f289866",
   "metadata": {
    "execution": {
     "iopub.execute_input": "2022-03-22T16:59:55.336945Z",
     "iopub.status.busy": "2022-03-22T16:59:55.336577Z",
     "iopub.status.idle": "2022-03-22T16:59:55.355573Z",
     "shell.execute_reply": "2022-03-22T16:59:55.354852Z"
    },
    "papermill": {
     "duration": 0.042235,
     "end_time": "2022-03-22T16:59:55.355729",
     "exception": false,
     "start_time": "2022-03-22T16:59:55.313494",
     "status": "completed"
    },
    "tags": []
   },
   "outputs": [],
   "source": [
    "# add_dataset(\n",
    "#     labels=list(range(19)),\n",
    "#     domains = [0,1,2],\n",
    "#     num_examples_per_domain_per_label=100,\n",
    "#     pickle_path=os.path.join(get_datasets_base_path(), \"metehan.stratified_ds.2022A.pkl\"),\n",
    "#     source_or_target_dataset=\"target\",\n",
    "#     x_transform_func=global_x_transform_func,\n",
    "#     domain_modifier=lambda u: f\"met_{u}\"\n",
    "# )"
   ]
  },
  {
   "cell_type": "code",
   "execution_count": 18,
   "id": "86a863c3",
   "metadata": {
    "execution": {
     "iopub.execute_input": "2022-03-22T16:59:55.404921Z",
     "iopub.status.busy": "2022-03-22T16:59:55.404552Z",
     "iopub.status.idle": "2022-03-22T16:59:55.423676Z",
     "shell.execute_reply": "2022-03-22T16:59:55.422934Z"
    },
    "papermill": {
     "duration": 0.042595,
     "end_time": "2022-03-22T16:59:55.423850",
     "exception": false,
     "start_time": "2022-03-22T16:59:55.381255",
     "status": "completed"
    },
    "tags": []
   },
   "outputs": [],
   "source": [
    "# # from steves_utils.wisig.utils import (\n",
    "# #     ALL_NODES_MINIMUM_100_EXAMPLES,\n",
    "# #     ALL_NODES_MINIMUM_500_EXAMPLES,\n",
    "# #     ALL_NODES_MINIMUM_1000_EXAMPLES,\n",
    "# #     ALL_DAYS\n",
    "# # )\n",
    "\n",
    "# import steves_utils.wisig.utils as wisig\n",
    "\n",
    "\n",
    "# add_dataset(\n",
    "#     labels=wisig.ALL_NODES_MINIMUM_100_EXAMPLES,\n",
    "#     domains = wisig.ALL_DAYS,\n",
    "#     num_examples_per_domain_per_label=100,\n",
    "#     pickle_path=os.path.join(get_datasets_base_path(), \"wisig.node3-19.stratified_ds.2022A.pkl\"),\n",
    "#     source_or_target_dataset=\"target\",\n",
    "#     x_transform_func=global_x_transform_func,\n",
    "#     domain_modifier=lambda u: f\"wisig_{u}\"\n",
    "# )"
   ]
  },
  {
   "cell_type": "code",
   "execution_count": 19,
   "id": "fd5442bc",
   "metadata": {
    "execution": {
     "iopub.execute_input": "2022-03-22T16:59:55.478104Z",
     "iopub.status.busy": "2022-03-22T16:59:55.477718Z",
     "iopub.status.idle": "2022-03-22T16:59:55.495449Z",
     "shell.execute_reply": "2022-03-22T16:59:55.494737Z"
    },
    "papermill": {
     "duration": 0.043837,
     "end_time": "2022-03-22T16:59:55.495632",
     "exception": false,
     "start_time": "2022-03-22T16:59:55.451795",
     "status": "completed"
    },
    "tags": []
   },
   "outputs": [],
   "source": [
    "###################################\n",
    "# Build the dataset\n",
    "###################################\n",
    "train_original_source = Iterable_Aggregator(train_original_source, p.seed)\n",
    "val_original_source = Iterable_Aggregator(val_original_source, p.seed)\n",
    "test_original_source = Iterable_Aggregator(test_original_source, p.seed)\n",
    "\n",
    "\n",
    "train_original_target = Iterable_Aggregator(train_original_target, p.seed)\n",
    "val_original_target = Iterable_Aggregator(val_original_target, p.seed)\n",
    "test_original_target = Iterable_Aggregator(test_original_target, p.seed)\n",
    "\n",
    "# For CNN We only use X and Y. And we only train on the source.\n",
    "# Properly form the data using a transform lambda and Lazy_Iterable_Wrapper. Finally wrap them in a dataloader\n",
    "\n",
    "transform_lambda = lambda ex: ex[1] # Original is (<domain>, <episode>) so we strip down to episode only\n",
    "\n",
    "train_processed_source = Lazy_Iterable_Wrapper(train_original_source, transform_lambda)\n",
    "val_processed_source   = Lazy_Iterable_Wrapper(val_original_source, transform_lambda)\n",
    "test_processed_source  = Lazy_Iterable_Wrapper(test_original_source, transform_lambda)\n",
    "\n",
    "train_processed_target = Lazy_Iterable_Wrapper(train_original_target, transform_lambda)\n",
    "val_processed_target   = Lazy_Iterable_Wrapper(val_original_target, transform_lambda)\n",
    "test_processed_target  = Lazy_Iterable_Wrapper(test_original_target, transform_lambda)\n",
    "\n",
    "datasets = EasyDict({\n",
    "    \"source\": {\n",
    "        \"original\": {\"train\":train_original_source, \"val\":val_original_source, \"test\":test_original_source},\n",
    "        \"processed\": {\"train\":train_processed_source, \"val\":val_processed_source, \"test\":test_processed_source}\n",
    "    },\n",
    "    \"target\": {\n",
    "        \"original\": {\"train\":train_original_target, \"val\":val_original_target, \"test\":test_original_target},\n",
    "        \"processed\": {\"train\":train_processed_target, \"val\":val_processed_target, \"test\":test_processed_target}\n",
    "    },\n",
    "})"
   ]
  },
  {
   "cell_type": "code",
   "execution_count": 20,
   "id": "5b3c01fc",
   "metadata": {
    "execution": {
     "iopub.execute_input": "2022-03-22T16:59:55.547477Z",
     "iopub.status.busy": "2022-03-22T16:59:55.547105Z",
     "iopub.status.idle": "2022-03-22T17:00:09.892071Z",
     "shell.execute_reply": "2022-03-22T17:00:09.891653Z"
    },
    "papermill": {
     "duration": 14.369229,
     "end_time": "2022-03-22T17:00:09.892174",
     "exception": false,
     "start_time": "2022-03-22T16:59:55.522945",
     "status": "completed"
    },
    "tags": []
   },
   "outputs": [
    {
     "name": "stdout",
     "output_type": "stream",
     "text": [
      "{'CORES_3', 'CORES_1', 'CORES_5', 'CORES_4', 'CORES_2'}\n"
     ]
    },
    {
     "name": "stdout",
     "output_type": "stream",
     "text": [
      "{'ORACLE.run1_14', 'ORACLE.run1_32', 'ORACLE.run1_8', 'ORACLE.run1_26', 'ORACLE.run1_44', 'ORACLE.run1_38', 'ORACLE.run1_20', 'ORACLE.run1_50'}\n"
     ]
    },
    {
     "name": "stdout",
     "output_type": "stream",
     "text": [
      "tensor([[[-0.1799, -0.1625, -0.6718,  ..., -0.2157,  0.2038, -0.0514],\n",
      "         [-0.1055,  0.0330,  0.5177,  ...,  0.4598,  1.1757,  1.3125]],\n",
      "\n",
      "        [[-0.3059, -0.8723, -0.5528,  ..., -1.0998, -1.2731, -0.8704],\n",
      "         [-0.1530, -0.5877, -0.9284,  ...,  0.6428,  0.4386,  0.3437]],\n",
      "\n",
      "        [[-0.1989, -0.1112, -0.3315,  ...,  0.4095,  0.9195,  0.7791],\n",
      "         [-0.0127,  0.2418,  0.9439,  ...,  0.5743,  0.8464,  1.1477]],\n",
      "\n",
      "        ...,\n",
      "\n",
      "        [[-0.1663, -0.7082,  0.8806,  ..., -1.1660, -0.4393,  0.7000],\n",
      "         [ 0.3962, -0.6774, -0.6056,  ...,  0.2032,  0.1314, -0.2751]],\n",
      "\n",
      "        [[-0.4844,  0.1464,  1.0224,  ..., -1.0039, -0.1608,  0.6452],\n",
      "         [-0.0660, -0.9791,  0.5153,  ..., -0.4803, -0.0474,  0.3195]],\n",
      "\n",
      "        [[ 0.0000, -0.0313, -0.0581,  ...,  1.3744,  0.3352, -0.2995],\n",
      "         [-0.0939, -0.0469, -0.1207,  ..., -0.8000, -0.2324,  0.5095]]])\n"
     ]
    }
   ],
   "source": [
    "from steves_utils.transforms import get_average_magnitude, get_average_power\n",
    "\n",
    "print(set([u for u,_ in val_original_source]))\n",
    "print(set([u for u,_ in val_original_target]))\n",
    "\n",
    "s_x, s_y, q_x, q_y, _ = next(iter(train_processed_source))\n",
    "print(s_x)\n",
    "\n",
    "# for ds in [\n",
    "#     train_processed_source,\n",
    "#     val_processed_source,\n",
    "#     test_processed_source,\n",
    "#     train_processed_target,\n",
    "#     val_processed_target,\n",
    "#     test_processed_target\n",
    "# ]:\n",
    "#     for s_x, s_y, q_x, q_y, _ in ds:\n",
    "#         for X in (s_x, q_x):\n",
    "#             for x in X:\n",
    "#                 assert np.isclose(get_average_magnitude(x.numpy()), 1.0)\n",
    "#                 assert np.isclose(get_average_power(x.numpy()), 1.0)\n",
    "                "
   ]
  },
  {
   "cell_type": "code",
   "execution_count": 21,
   "id": "bbdacba1",
   "metadata": {
    "execution": {
     "iopub.execute_input": "2022-03-22T17:00:09.944858Z",
     "iopub.status.busy": "2022-03-22T17:00:09.944468Z",
     "iopub.status.idle": "2022-03-22T17:00:10.081181Z",
     "shell.execute_reply": "2022-03-22T17:00:10.081854Z"
    },
    "papermill": {
     "duration": 0.164803,
     "end_time": "2022-03-22T17:00:10.082060",
     "exception": false,
     "start_time": "2022-03-22T17:00:09.917257",
     "status": "completed"
    },
    "tags": []
   },
   "outputs": [
    {
     "name": "stdout",
     "output_type": "stream",
     "text": [
      "(2, 256)\n"
     ]
    }
   ],
   "source": [
    "###################################\n",
    "# Build the model\n",
    "###################################\n",
    "# easfsl only wants a tuple for the shape\n",
    "model = Steves_Prototypical_Network(x_net, device=p.device, x_shape=tuple(p.x_shape))\n",
    "optimizer = Adam(params=model.parameters(), lr=p.lr)"
   ]
  },
  {
   "cell_type": "code",
   "execution_count": 22,
   "id": "22b39ac5",
   "metadata": {
    "execution": {
     "iopub.execute_input": "2022-03-22T17:00:10.133886Z",
     "iopub.status.busy": "2022-03-22T17:00:10.133512Z",
     "iopub.status.idle": "2022-03-22T17:42:10.340330Z",
     "shell.execute_reply": "2022-03-22T17:42:10.339969Z"
    },
    "papermill": {
     "duration": 2520.23215,
     "end_time": "2022-03-22T17:42:10.340419",
     "exception": false,
     "start_time": "2022-03-22T17:00:10.108269",
     "status": "completed"
    },
    "tags": []
   },
   "outputs": [
    {
     "name": "stdout",
     "output_type": "stream",
     "text": [
      "epoch: 1, [batch: 1 / 6317], examples_per_second: 35.0867, train_label_loss: 2.6334, \n"
     ]
    },
    {
     "name": "stdout",
     "output_type": "stream",
     "text": [
      "epoch: 1, [batch: 632 / 6317], examples_per_second: 2938.1951, train_label_loss: 0.0442, \n"
     ]
    },
    {
     "name": "stdout",
     "output_type": "stream",
     "text": [
      "epoch: 1, [batch: 1264 / 6317], examples_per_second: 3038.8012, train_label_loss: 0.0024, \n"
     ]
    },
    {
     "name": "stdout",
     "output_type": "stream",
     "text": [
      "epoch: 1, [batch: 1895 / 6317], examples_per_second: 3006.6928, train_label_loss: 0.0081, \n"
     ]
    },
    {
     "name": "stdout",
     "output_type": "stream",
     "text": [
      "epoch: 1, [batch: 2527 / 6317], examples_per_second: 2973.5828, train_label_loss: 0.1509, \n"
     ]
    },
    {
     "name": "stdout",
     "output_type": "stream",
     "text": [
      "epoch: 1, [batch: 3159 / 6317], examples_per_second: 3012.6877, train_label_loss: 0.0354, \n"
     ]
    },
    {
     "name": "stdout",
     "output_type": "stream",
     "text": [
      "epoch: 1, [batch: 3790 / 6317], examples_per_second: 2945.5327, train_label_loss: 0.0009, \n"
     ]
    },
    {
     "name": "stdout",
     "output_type": "stream",
     "text": [
      "epoch: 1, [batch: 4422 / 6317], examples_per_second: 2954.5105, train_label_loss: 0.0001, \n"
     ]
    },
    {
     "name": "stdout",
     "output_type": "stream",
     "text": [
      "epoch: 1, [batch: 5053 / 6317], examples_per_second: 2941.3491, train_label_loss: 0.0020, \n"
     ]
    },
    {
     "name": "stdout",
     "output_type": "stream",
     "text": [
      "epoch: 1, [batch: 5685 / 6317], examples_per_second: 2972.3547, train_label_loss: 0.0279, \n"
     ]
    },
    {
     "name": "stdout",
     "output_type": "stream",
     "text": [
      "=============================================================\n",
      "epoch: 1, source_val_acc_label: 0.9991, target_val_acc_label: 0.1266, source_val_label_loss: 0.0040, target_val_label_loss: 2.8187, \n",
      "=============================================================\n"
     ]
    },
    {
     "name": "stdout",
     "output_type": "stream",
     "text": [
      "New best\n"
     ]
    },
    {
     "name": "stdout",
     "output_type": "stream",
     "text": [
      "epoch: 2, [batch: 1 / 6315], examples_per_second: 3.0945, train_label_loss: 0.0000, \n"
     ]
    },
    {
     "name": "stdout",
     "output_type": "stream",
     "text": [
      "epoch: 2, [batch: 632 / 6315], examples_per_second: 3274.2650, train_label_loss: 0.0144, \n"
     ]
    },
    {
     "name": "stdout",
     "output_type": "stream",
     "text": [
      "epoch: 2, [batch: 1263 / 6315], examples_per_second: 2969.5994, train_label_loss: 0.0000, \n"
     ]
    },
    {
     "name": "stdout",
     "output_type": "stream",
     "text": [
      "epoch: 2, [batch: 1895 / 6315], examples_per_second: 2974.9034, train_label_loss: 0.0000, \n"
     ]
    },
    {
     "name": "stdout",
     "output_type": "stream",
     "text": [
      "epoch: 2, [batch: 2526 / 6315], examples_per_second: 2994.8575, train_label_loss: 0.0020, \n"
     ]
    },
    {
     "name": "stdout",
     "output_type": "stream",
     "text": [
      "epoch: 2, [batch: 3158 / 6315], examples_per_second: 2999.8098, train_label_loss: 0.0000, \n"
     ]
    },
    {
     "name": "stdout",
     "output_type": "stream",
     "text": [
      "epoch: 2, [batch: 3789 / 6315], examples_per_second: 2987.1567, train_label_loss: 0.0000, \n"
     ]
    },
    {
     "name": "stdout",
     "output_type": "stream",
     "text": [
      "epoch: 2, [batch: 4420 / 6315], examples_per_second: 2984.7941, train_label_loss: 0.0000, \n"
     ]
    },
    {
     "name": "stdout",
     "output_type": "stream",
     "text": [
      "epoch: 2, [batch: 5052 / 6315], examples_per_second: 3021.6604, train_label_loss: 0.0000, \n"
     ]
    },
    {
     "name": "stdout",
     "output_type": "stream",
     "text": [
      "epoch: 2, [batch: 5683 / 6315], examples_per_second: 2979.9011, train_label_loss: 0.0004, \n"
     ]
    },
    {
     "name": "stdout",
     "output_type": "stream",
     "text": [
      "=============================================================\n",
      "epoch: 2, source_val_acc_label: 0.9989, target_val_acc_label: 0.1354, source_val_label_loss: 0.0074, target_val_label_loss: 3.3076, \n",
      "=============================================================\n"
     ]
    },
    {
     "name": "stdout",
     "output_type": "stream",
     "text": [
      "New best\n"
     ]
    },
    {
     "name": "stdout",
     "output_type": "stream",
     "text": [
      "epoch: 3, [batch: 1 / 6325], examples_per_second: 3.0116, train_label_loss: 0.0000, \n"
     ]
    },
    {
     "name": "stdout",
     "output_type": "stream",
     "text": [
      "epoch: 3, [batch: 633 / 6325], examples_per_second: 3513.3893, train_label_loss: 0.0000, \n"
     ]
    },
    {
     "name": "stdout",
     "output_type": "stream",
     "text": [
      "epoch: 3, [batch: 1265 / 6325], examples_per_second: 3134.3397, train_label_loss: 0.0000, \n"
     ]
    },
    {
     "name": "stdout",
     "output_type": "stream",
     "text": [
      "epoch: 3, [batch: 1898 / 6325], examples_per_second: 2987.8944, train_label_loss: 0.0000, \n"
     ]
    },
    {
     "name": "stdout",
     "output_type": "stream",
     "text": [
      "epoch: 3, [batch: 2530 / 6325], examples_per_second: 2961.1939, train_label_loss: 0.0000, \n"
     ]
    },
    {
     "name": "stdout",
     "output_type": "stream",
     "text": [
      "epoch: 3, [batch: 3163 / 6325], examples_per_second: 2960.0985, train_label_loss: 0.0000, \n"
     ]
    },
    {
     "name": "stdout",
     "output_type": "stream",
     "text": [
      "epoch: 3, [batch: 3795 / 6325], examples_per_second: 2970.4298, train_label_loss: 0.0000, \n"
     ]
    },
    {
     "name": "stdout",
     "output_type": "stream",
     "text": [
      "epoch: 3, [batch: 4427 / 6325], examples_per_second: 2967.8104, train_label_loss: 0.0001, \n"
     ]
    },
    {
     "name": "stdout",
     "output_type": "stream",
     "text": [
      "epoch: 3, [batch: 5060 / 6325], examples_per_second: 2973.1531, train_label_loss: 0.0000, \n"
     ]
    },
    {
     "name": "stdout",
     "output_type": "stream",
     "text": [
      "epoch: 3, [batch: 5692 / 6325], examples_per_second: 3028.2556, train_label_loss: 0.0002, \n"
     ]
    },
    {
     "name": "stdout",
     "output_type": "stream",
     "text": [
      "=============================================================\n",
      "epoch: 3, source_val_acc_label: 0.9983, target_val_acc_label: 0.1581, source_val_label_loss: 0.0124, target_val_label_loss: 3.9091, \n",
      "=============================================================\n"
     ]
    },
    {
     "name": "stdout",
     "output_type": "stream",
     "text": [
      "New best\n"
     ]
    },
    {
     "name": "stdout",
     "output_type": "stream",
     "text": [
      "epoch: 4, [batch: 1 / 6307], examples_per_second: 2.9317, train_label_loss: 0.0000, \n"
     ]
    },
    {
     "name": "stdout",
     "output_type": "stream",
     "text": [
      "epoch: 4, [batch: 631 / 6307], examples_per_second: 3359.6713, train_label_loss: 0.0000, \n"
     ]
    },
    {
     "name": "stdout",
     "output_type": "stream",
     "text": [
      "epoch: 4, [batch: 1262 / 6307], examples_per_second: 3504.5177, train_label_loss: 0.0000, \n"
     ]
    },
    {
     "name": "stdout",
     "output_type": "stream",
     "text": [
      "epoch: 4, [batch: 1892 / 6307], examples_per_second: 3022.9369, train_label_loss: 0.0000, \n"
     ]
    },
    {
     "name": "stdout",
     "output_type": "stream",
     "text": [
      "epoch: 4, [batch: 2523 / 6307], examples_per_second: 3287.4873, train_label_loss: 0.0000, \n"
     ]
    },
    {
     "name": "stdout",
     "output_type": "stream",
     "text": [
      "epoch: 4, [batch: 3154 / 6307], examples_per_second: 3405.0642, train_label_loss: 0.0000, \n"
     ]
    },
    {
     "name": "stdout",
     "output_type": "stream",
     "text": [
      "epoch: 4, [batch: 3784 / 6307], examples_per_second: 3400.6043, train_label_loss: 0.0001, \n"
     ]
    },
    {
     "name": "stdout",
     "output_type": "stream",
     "text": [
      "epoch: 4, [batch: 4415 / 6307], examples_per_second: 3324.2373, train_label_loss: 0.0000, \n"
     ]
    },
    {
     "name": "stdout",
     "output_type": "stream",
     "text": [
      "epoch: 4, [batch: 5045 / 6307], examples_per_second: 3337.5097, train_label_loss: 0.0000, \n"
     ]
    },
    {
     "name": "stdout",
     "output_type": "stream",
     "text": [
      "epoch: 4, [batch: 5676 / 6307], examples_per_second: 3434.4437, train_label_loss: 0.0000, \n"
     ]
    },
    {
     "name": "stdout",
     "output_type": "stream",
     "text": [
      "=============================================================\n",
      "epoch: 4, source_val_acc_label: 0.9994, target_val_acc_label: 0.1594, source_val_label_loss: 0.0063, target_val_label_loss: 3.8226, \n",
      "=============================================================\n"
     ]
    },
    {
     "name": "stdout",
     "output_type": "stream",
     "text": [
      "New best\n"
     ]
    },
    {
     "name": "stdout",
     "output_type": "stream",
     "text": [
      "epoch: 5, [batch: 1 / 6302], examples_per_second: 3.8332, train_label_loss: 0.0000, \n"
     ]
    },
    {
     "name": "stdout",
     "output_type": "stream",
     "text": [
      "epoch: 5, [batch: 631 / 6302], examples_per_second: 3308.9532, train_label_loss: 0.0000, \n"
     ]
    },
    {
     "name": "stdout",
     "output_type": "stream",
     "text": [
      "epoch: 5, [batch: 1261 / 6302], examples_per_second: 3455.1086, train_label_loss: 0.0000, \n"
     ]
    },
    {
     "name": "stdout",
     "output_type": "stream",
     "text": [
      "epoch: 5, [batch: 1891 / 6302], examples_per_second: 3490.9287, train_label_loss: 0.0000, \n"
     ]
    },
    {
     "name": "stdout",
     "output_type": "stream",
     "text": [
      "epoch: 5, [batch: 2521 / 6302], examples_per_second: 2973.5635, train_label_loss: 0.0000, \n"
     ]
    },
    {
     "name": "stdout",
     "output_type": "stream",
     "text": [
      "epoch: 5, [batch: 3151 / 6302], examples_per_second: 3001.8442, train_label_loss: 0.0000, \n"
     ]
    },
    {
     "name": "stdout",
     "output_type": "stream",
     "text": [
      "epoch: 5, [batch: 3781 / 6302], examples_per_second: 3021.6875, train_label_loss: 0.0000, \n"
     ]
    },
    {
     "name": "stdout",
     "output_type": "stream",
     "text": [
      "epoch: 5, [batch: 4411 / 6302], examples_per_second: 3031.2305, train_label_loss: 0.0000, \n"
     ]
    },
    {
     "name": "stdout",
     "output_type": "stream",
     "text": [
      "epoch: 5, [batch: 5041 / 6302], examples_per_second: 2969.6111, train_label_loss: 0.0000, \n"
     ]
    },
    {
     "name": "stdout",
     "output_type": "stream",
     "text": [
      "epoch: 5, [batch: 5671 / 6302], examples_per_second: 3003.5549, train_label_loss: 0.0000, \n"
     ]
    },
    {
     "name": "stdout",
     "output_type": "stream",
     "text": [
      "=============================================================\n",
      "epoch: 5, source_val_acc_label: 0.9991, target_val_acc_label: 0.1601, source_val_label_loss: 0.0068, target_val_label_loss: 3.8957, \n",
      "=============================================================\n"
     ]
    },
    {
     "name": "stdout",
     "output_type": "stream",
     "text": [
      "New best\n"
     ]
    },
    {
     "name": "stdout",
     "output_type": "stream",
     "text": [
      "epoch: 6, [batch: 1 / 6311], examples_per_second: 2.9371, train_label_loss: 0.0000, \n"
     ]
    },
    {
     "name": "stdout",
     "output_type": "stream",
     "text": [
      "epoch: 6, [batch: 632 / 6311], examples_per_second: 3030.8271, train_label_loss: 0.0000, \n"
     ]
    },
    {
     "name": "stdout",
     "output_type": "stream",
     "text": [
      "epoch: 6, [batch: 1263 / 6311], examples_per_second: 3505.2511, train_label_loss: 0.0000, \n"
     ]
    },
    {
     "name": "stdout",
     "output_type": "stream",
     "text": [
      "epoch: 6, [batch: 1894 / 6311], examples_per_second: 3455.8700, train_label_loss: 0.0000, \n"
     ]
    },
    {
     "name": "stdout",
     "output_type": "stream",
     "text": [
      "epoch: 6, [batch: 2525 / 6311], examples_per_second: 3404.7109, train_label_loss: 0.0000, \n"
     ]
    },
    {
     "name": "stdout",
     "output_type": "stream",
     "text": [
      "epoch: 6, [batch: 3156 / 6311], examples_per_second: 2986.1805, train_label_loss: 0.0000, \n"
     ]
    },
    {
     "name": "stdout",
     "output_type": "stream",
     "text": [
      "epoch: 6, [batch: 3787 / 6311], examples_per_second: 3038.5237, train_label_loss: 0.0000, \n"
     ]
    },
    {
     "name": "stdout",
     "output_type": "stream",
     "text": [
      "epoch: 6, [batch: 4418 / 6311], examples_per_second: 2951.5598, train_label_loss: 0.0000, \n"
     ]
    },
    {
     "name": "stdout",
     "output_type": "stream",
     "text": [
      "epoch: 6, [batch: 5049 / 6311], examples_per_second: 3004.5415, train_label_loss: 0.0000, \n"
     ]
    },
    {
     "name": "stdout",
     "output_type": "stream",
     "text": [
      "epoch: 6, [batch: 5680 / 6311], examples_per_second: 2989.9215, train_label_loss: 0.0001, \n"
     ]
    },
    {
     "name": "stdout",
     "output_type": "stream",
     "text": [
      "=============================================================\n",
      "epoch: 6, source_val_acc_label: 0.9995, target_val_acc_label: 0.1534, source_val_label_loss: 0.0085, target_val_label_loss: 4.3575, \n",
      "=============================================================\n"
     ]
    },
    {
     "name": "stdout",
     "output_type": "stream",
     "text": [
      "epoch: 7, [batch: 1 / 6310], examples_per_second: 2.9250, train_label_loss: 0.0000, \n"
     ]
    },
    {
     "name": "stdout",
     "output_type": "stream",
     "text": [
      "epoch: 7, [batch: 631 / 6310], examples_per_second: 2982.7054, train_label_loss: 0.0000, \n"
     ]
    },
    {
     "name": "stdout",
     "output_type": "stream",
     "text": [
      "epoch: 7, [batch: 1262 / 6310], examples_per_second: 3035.1884, train_label_loss: 0.0000, \n"
     ]
    },
    {
     "name": "stdout",
     "output_type": "stream",
     "text": [
      "epoch: 7, [batch: 1893 / 6310], examples_per_second: 3395.8990, train_label_loss: 0.0000, \n"
     ]
    },
    {
     "name": "stdout",
     "output_type": "stream",
     "text": [
      "epoch: 7, [batch: 2524 / 6310], examples_per_second: 3302.6716, train_label_loss: 0.0000, \n"
     ]
    },
    {
     "name": "stdout",
     "output_type": "stream",
     "text": [
      "epoch: 7, [batch: 3155 / 6310], examples_per_second: 3247.1620, train_label_loss: 0.0000, \n"
     ]
    },
    {
     "name": "stdout",
     "output_type": "stream",
     "text": [
      "epoch: 7, [batch: 3786 / 6310], examples_per_second: 2977.1773, train_label_loss: 0.0005, \n"
     ]
    },
    {
     "name": "stdout",
     "output_type": "stream",
     "text": [
      "epoch: 7, [batch: 4417 / 6310], examples_per_second: 2963.8618, train_label_loss: 0.2383, \n"
     ]
    },
    {
     "name": "stdout",
     "output_type": "stream",
     "text": [
      "epoch: 7, [batch: 5048 / 6310], examples_per_second: 3017.1538, train_label_loss: 0.0000, \n"
     ]
    },
    {
     "name": "stdout",
     "output_type": "stream",
     "text": [
      "epoch: 7, [batch: 5679 / 6310], examples_per_second: 2969.3142, train_label_loss: 0.0000, \n"
     ]
    },
    {
     "name": "stdout",
     "output_type": "stream",
     "text": [
      "=============================================================\n",
      "epoch: 7, source_val_acc_label: 0.9992, target_val_acc_label: 0.1575, source_val_label_loss: 0.0100, target_val_label_loss: 4.4793, \n",
      "=============================================================\n"
     ]
    },
    {
     "name": "stdout",
     "output_type": "stream",
     "text": [
      "epoch: 8, [batch: 1 / 6331], examples_per_second: 2.8958, train_label_loss: 0.0000, \n"
     ]
    },
    {
     "name": "stdout",
     "output_type": "stream",
     "text": [
      "epoch: 8, [batch: 634 / 6331], examples_per_second: 2918.0481, train_label_loss: 0.0000, \n"
     ]
    },
    {
     "name": "stdout",
     "output_type": "stream",
     "text": [
      "epoch: 8, [batch: 1267 / 6331], examples_per_second: 2976.6272, train_label_loss: 0.0000, \n"
     ]
    },
    {
     "name": "stdout",
     "output_type": "stream",
     "text": [
      "epoch: 8, [batch: 1900 / 6331], examples_per_second: 3315.6516, train_label_loss: 0.0000, \n"
     ]
    },
    {
     "name": "stdout",
     "output_type": "stream",
     "text": [
      "epoch: 8, [batch: 2533 / 6331], examples_per_second: 3426.2036, train_label_loss: 0.0000, \n"
     ]
    },
    {
     "name": "stdout",
     "output_type": "stream",
     "text": [
      "epoch: 8, [batch: 3166 / 6331], examples_per_second: 3489.6000, train_label_loss: 0.0000, \n"
     ]
    },
    {
     "name": "stdout",
     "output_type": "stream",
     "text": [
      "epoch: 8, [batch: 3799 / 6331], examples_per_second: 3173.6350, train_label_loss: 0.0000, \n"
     ]
    },
    {
     "name": "stdout",
     "output_type": "stream",
     "text": [
      "epoch: 8, [batch: 4432 / 6331], examples_per_second: 2982.2138, train_label_loss: 0.0000, \n"
     ]
    },
    {
     "name": "stdout",
     "output_type": "stream",
     "text": [
      "epoch: 8, [batch: 5065 / 6331], examples_per_second: 2985.8445, train_label_loss: 0.0000, \n"
     ]
    },
    {
     "name": "stdout",
     "output_type": "stream",
     "text": [
      "epoch: 8, [batch: 5698 / 6331], examples_per_second: 2962.7724, train_label_loss: 0.0000, \n"
     ]
    },
    {
     "name": "stdout",
     "output_type": "stream",
     "text": [
      "=============================================================\n",
      "epoch: 8, source_val_acc_label: 0.9991, target_val_acc_label: 0.1604, source_val_label_loss: 0.0095, target_val_label_loss: 4.7168, \n",
      "=============================================================\n"
     ]
    },
    {
     "name": "stdout",
     "output_type": "stream",
     "text": [
      "New best\n"
     ]
    },
    {
     "name": "stdout",
     "output_type": "stream",
     "text": [
      "epoch: 9, [batch: 1 / 6311], examples_per_second: 2.8925, train_label_loss: 0.0000, \n"
     ]
    },
    {
     "name": "stdout",
     "output_type": "stream",
     "text": [
      "epoch: 9, [batch: 632 / 6311], examples_per_second: 2916.7158, train_label_loss: 0.0000, \n"
     ]
    },
    {
     "name": "stdout",
     "output_type": "stream",
     "text": [
      "epoch: 9, [batch: 1263 / 6311], examples_per_second: 2986.4448, train_label_loss: 0.0000, \n"
     ]
    },
    {
     "name": "stdout",
     "output_type": "stream",
     "text": [
      "epoch: 9, [batch: 1894 / 6311], examples_per_second: 3291.5426, train_label_loss: 0.0000, \n"
     ]
    },
    {
     "name": "stdout",
     "output_type": "stream",
     "text": [
      "epoch: 9, [batch: 2525 / 6311], examples_per_second: 3505.6395, train_label_loss: 0.0000, \n"
     ]
    },
    {
     "name": "stdout",
     "output_type": "stream",
     "text": [
      "epoch: 9, [batch: 3156 / 6311], examples_per_second: 3656.3264, train_label_loss: 0.0000, \n"
     ]
    },
    {
     "name": "stdout",
     "output_type": "stream",
     "text": [
      "epoch: 9, [batch: 3787 / 6311], examples_per_second: 3838.9589, train_label_loss: 0.0000, \n"
     ]
    },
    {
     "name": "stdout",
     "output_type": "stream",
     "text": [
      "epoch: 9, [batch: 4418 / 6311], examples_per_second: 3345.4750, train_label_loss: 0.0000, \n"
     ]
    },
    {
     "name": "stdout",
     "output_type": "stream",
     "text": [
      "epoch: 9, [batch: 5049 / 6311], examples_per_second: 3491.4731, train_label_loss: 0.0000, \n"
     ]
    },
    {
     "name": "stdout",
     "output_type": "stream",
     "text": [
      "epoch: 9, [batch: 5680 / 6311], examples_per_second: 3486.3699, train_label_loss: 0.0000, \n"
     ]
    },
    {
     "name": "stdout",
     "output_type": "stream",
     "text": [
      "=============================================================\n",
      "epoch: 9, source_val_acc_label: 0.9997, target_val_acc_label: 0.1735, source_val_label_loss: 0.0082, target_val_label_loss: 4.8561, \n",
      "=============================================================\n"
     ]
    },
    {
     "name": "stdout",
     "output_type": "stream",
     "text": [
      "New best\n"
     ]
    },
    {
     "name": "stdout",
     "output_type": "stream",
     "text": [
      "epoch: 10, [batch: 1 / 6309], examples_per_second: 3.4899, train_label_loss: 0.0000, \n"
     ]
    },
    {
     "name": "stdout",
     "output_type": "stream",
     "text": [
      "epoch: 10, [batch: 631 / 6309], examples_per_second: 2952.7353, train_label_loss: 0.0000, \n"
     ]
    },
    {
     "name": "stdout",
     "output_type": "stream",
     "text": [
      "epoch: 10, [batch: 1262 / 6309], examples_per_second: 2968.9512, train_label_loss: 0.0000, \n"
     ]
    },
    {
     "name": "stdout",
     "output_type": "stream",
     "text": [
      "epoch: 10, [batch: 1893 / 6309], examples_per_second: 2959.4397, train_label_loss: 0.0000, \n"
     ]
    },
    {
     "name": "stdout",
     "output_type": "stream",
     "text": [
      "epoch: 10, [batch: 2524 / 6309], examples_per_second: 2920.1866, train_label_loss: 0.0000, \n"
     ]
    },
    {
     "name": "stdout",
     "output_type": "stream",
     "text": [
      "epoch: 10, [batch: 3155 / 6309], examples_per_second: 3374.7469, train_label_loss: 0.0000, \n"
     ]
    },
    {
     "name": "stdout",
     "output_type": "stream",
     "text": [
      "epoch: 10, [batch: 3785 / 6309], examples_per_second: 3431.4390, train_label_loss: 0.0000, \n"
     ]
    },
    {
     "name": "stdout",
     "output_type": "stream",
     "text": [
      "epoch: 10, [batch: 4416 / 6309], examples_per_second: 3500.3225, train_label_loss: 0.0000, \n"
     ]
    },
    {
     "name": "stdout",
     "output_type": "stream",
     "text": [
      "epoch: 10, [batch: 5047 / 6309], examples_per_second: 2984.5139, train_label_loss: 0.0000, \n"
     ]
    },
    {
     "name": "stdout",
     "output_type": "stream",
     "text": [
      "epoch: 10, [batch: 5678 / 6309], examples_per_second: 3012.2911, train_label_loss: 0.0010, \n"
     ]
    },
    {
     "name": "stdout",
     "output_type": "stream",
     "text": [
      "=============================================================\n",
      "epoch: 10, source_val_acc_label: 0.9993, target_val_acc_label: 0.1588, source_val_label_loss: 0.0100, target_val_label_loss: 4.9510, \n",
      "=============================================================\n"
     ]
    },
    {
     "name": "stdout",
     "output_type": "stream",
     "text": [
      "epoch: 11, [batch: 1 / 6319], examples_per_second: 2.8924, train_label_loss: 0.0000, \n"
     ]
    },
    {
     "name": "stdout",
     "output_type": "stream",
     "text": [
      "epoch: 11, [batch: 632 / 6319], examples_per_second: 2932.6934, train_label_loss: 0.0000, \n"
     ]
    },
    {
     "name": "stdout",
     "output_type": "stream",
     "text": [
      "epoch: 11, [batch: 1264 / 6319], examples_per_second: 2968.6859, train_label_loss: 0.0000, \n"
     ]
    },
    {
     "name": "stdout",
     "output_type": "stream",
     "text": [
      "epoch: 11, [batch: 1896 / 6319], examples_per_second: 2947.7222, train_label_loss: 0.0000, \n"
     ]
    },
    {
     "name": "stdout",
     "output_type": "stream",
     "text": [
      "epoch: 11, [batch: 2528 / 6319], examples_per_second: 2943.5851, train_label_loss: 0.0000, \n"
     ]
    },
    {
     "name": "stdout",
     "output_type": "stream",
     "text": [
      "epoch: 11, [batch: 3160 / 6319], examples_per_second: 3104.7200, train_label_loss: 0.0000, \n"
     ]
    },
    {
     "name": "stdout",
     "output_type": "stream",
     "text": [
      "epoch: 11, [batch: 3791 / 6319], examples_per_second: 3476.6388, train_label_loss: 0.0000, \n"
     ]
    },
    {
     "name": "stdout",
     "output_type": "stream",
     "text": [
      "epoch: 11, [batch: 4423 / 6319], examples_per_second: 3358.9617, train_label_loss: 0.0000, \n"
     ]
    },
    {
     "name": "stdout",
     "output_type": "stream",
     "text": [
      "epoch: 11, [batch: 5055 / 6319], examples_per_second: 3497.1859, train_label_loss: 0.0000, \n"
     ]
    },
    {
     "name": "stdout",
     "output_type": "stream",
     "text": [
      "epoch: 11, [batch: 5687 / 6319], examples_per_second: 3532.7958, train_label_loss: 0.0000, \n"
     ]
    },
    {
     "name": "stdout",
     "output_type": "stream",
     "text": [
      "=============================================================\n",
      "epoch: 11, source_val_acc_label: 0.9992, target_val_acc_label: 0.1539, source_val_label_loss: 0.0112, target_val_label_loss: 5.2467, \n",
      "=============================================================\n"
     ]
    },
    {
     "name": "stdout",
     "output_type": "stream",
     "text": [
      "epoch: 12, [batch: 1 / 6329], examples_per_second: 3.3507, train_label_loss: 0.0029, \n"
     ]
    },
    {
     "name": "stdout",
     "output_type": "stream",
     "text": [
      "epoch: 12, [batch: 633 / 6329], examples_per_second: 3353.9946, train_label_loss: 0.0000, \n"
     ]
    },
    {
     "name": "stdout",
     "output_type": "stream",
     "text": [
      "epoch: 12, [batch: 1266 / 6329], examples_per_second: 3393.8779, train_label_loss: 0.0418, \n"
     ]
    },
    {
     "name": "stdout",
     "output_type": "stream",
     "text": [
      "epoch: 12, [batch: 1899 / 6329], examples_per_second: 3304.7926, train_label_loss: 0.0000, \n"
     ]
    },
    {
     "name": "stdout",
     "output_type": "stream",
     "text": [
      "epoch: 12, [batch: 2532 / 6329], examples_per_second: 3734.5787, train_label_loss: 0.0000, \n"
     ]
    },
    {
     "name": "stdout",
     "output_type": "stream",
     "text": [
      "epoch: 12, [batch: 3165 / 6329], examples_per_second: 3921.8896, train_label_loss: 0.0000, \n"
     ]
    },
    {
     "name": "stdout",
     "output_type": "stream",
     "text": [
      "epoch: 12, [batch: 3797 / 6329], examples_per_second: 3870.3954, train_label_loss: 0.0000, \n"
     ]
    },
    {
     "name": "stdout",
     "output_type": "stream",
     "text": [
      "epoch: 12, [batch: 4430 / 6329], examples_per_second: 3954.5720, train_label_loss: 0.0000, \n"
     ]
    },
    {
     "name": "stdout",
     "output_type": "stream",
     "text": [
      "epoch: 12, [batch: 5063 / 6329], examples_per_second: 3840.9637, train_label_loss: 0.0000, \n"
     ]
    },
    {
     "name": "stdout",
     "output_type": "stream",
     "text": [
      "epoch: 12, [batch: 5696 / 6329], examples_per_second: 3887.0481, train_label_loss: 0.0000, \n"
     ]
    },
    {
     "name": "stdout",
     "output_type": "stream",
     "text": [
      "=============================================================\n",
      "epoch: 12, source_val_acc_label: 0.9994, target_val_acc_label: 0.1733, source_val_label_loss: 0.0092, target_val_label_loss: 5.8544, \n",
      "=============================================================\n"
     ]
    },
    {
     "name": "stdout",
     "output_type": "stream",
     "text": [
      "epoch: 13, [batch: 1 / 6336], examples_per_second: 4.0867, train_label_loss: 0.0000, \n"
     ]
    },
    {
     "name": "stdout",
     "output_type": "stream",
     "text": [
      "epoch: 13, [batch: 634 / 6336], examples_per_second: 3914.4348, train_label_loss: 0.0000, \n"
     ]
    },
    {
     "name": "stdout",
     "output_type": "stream",
     "text": [
      "epoch: 13, [batch: 1268 / 6336], examples_per_second: 4133.4732, train_label_loss: 0.0000, \n"
     ]
    },
    {
     "name": "stdout",
     "output_type": "stream",
     "text": [
      "epoch: 13, [batch: 1901 / 6336], examples_per_second: 3896.5862, train_label_loss: 0.0000, \n"
     ]
    },
    {
     "name": "stdout",
     "output_type": "stream",
     "text": [
      "epoch: 13, [batch: 2535 / 6336], examples_per_second: 3870.0976, train_label_loss: 0.0000, \n"
     ]
    },
    {
     "name": "stdout",
     "output_type": "stream",
     "text": [
      "epoch: 13, [batch: 3168 / 6336], examples_per_second: 3123.9570, train_label_loss: 0.0000, \n"
     ]
    },
    {
     "name": "stdout",
     "output_type": "stream",
     "text": [
      "epoch: 13, [batch: 3802 / 6336], examples_per_second: 2944.5833, train_label_loss: 0.0000, \n"
     ]
    },
    {
     "name": "stdout",
     "output_type": "stream",
     "text": [
      "epoch: 13, [batch: 4435 / 6336], examples_per_second: 2973.4714, train_label_loss: 0.0000, \n"
     ]
    },
    {
     "name": "stdout",
     "output_type": "stream",
     "text": [
      "epoch: 13, [batch: 5069 / 6336], examples_per_second: 2932.3995, train_label_loss: 0.0000, \n"
     ]
    },
    {
     "name": "stdout",
     "output_type": "stream",
     "text": [
      "epoch: 13, [batch: 5702 / 6336], examples_per_second: 2972.3597, train_label_loss: 0.0000, \n"
     ]
    },
    {
     "name": "stdout",
     "output_type": "stream",
     "text": [
      "=============================================================\n",
      "epoch: 13, source_val_acc_label: 0.9996, target_val_acc_label: 0.1691, source_val_label_loss: 0.0091, target_val_label_loss: 5.6647, \n",
      "=============================================================\n"
     ]
    },
    {
     "name": "stdout",
     "output_type": "stream",
     "text": [
      "Patience (3) exhausted\n"
     ]
    }
   ],
   "source": [
    "###################################\n",
    "# train\n",
    "###################################\n",
    "jig = PTN_Train_Eval_Test_Jig(model, p.BEST_MODEL_PATH, p.device)\n",
    "\n",
    "jig.train(\n",
    "    train_iterable=datasets.source.processed.train,\n",
    "    source_val_iterable=datasets.source.processed.val,\n",
    "    target_val_iterable=datasets.target.processed.val,\n",
    "    num_epochs=p.n_epoch,\n",
    "    num_logs_per_epoch=p.NUM_LOGS_PER_EPOCH,\n",
    "    patience=p.patience,\n",
    "    optimizer=optimizer,\n",
    "    criteria_for_best=p.criteria_for_best,\n",
    ")"
   ]
  },
  {
   "cell_type": "code",
   "execution_count": 23,
   "id": "31e8fabf",
   "metadata": {
    "execution": {
     "iopub.execute_input": "2022-03-22T17:42:10.475674Z",
     "iopub.status.busy": "2022-03-22T17:42:10.475259Z",
     "iopub.status.idle": "2022-03-22T17:42:10.505237Z",
     "shell.execute_reply": "2022-03-22T17:42:10.504424Z"
    },
    "papermill": {
     "duration": 0.099259,
     "end_time": "2022-03-22T17:42:10.505472",
     "exception": false,
     "start_time": "2022-03-22T17:42:10.406213",
     "status": "completed"
    },
    "tags": []
   },
   "outputs": [],
   "source": [
    "total_experiment_time_secs = time.time() - start_time_secs"
   ]
  },
  {
   "cell_type": "code",
   "execution_count": 24,
   "id": "87b9595b",
   "metadata": {
    "execution": {
     "iopub.execute_input": "2022-03-22T17:42:10.648040Z",
     "iopub.status.busy": "2022-03-22T17:42:10.647469Z",
     "iopub.status.idle": "2022-03-22T17:45:17.749151Z",
     "shell.execute_reply": "2022-03-22T17:45:17.749827Z"
    },
    "papermill": {
     "duration": 187.172467,
     "end_time": "2022-03-22T17:45:17.750062",
     "exception": false,
     "start_time": "2022-03-22T17:42:10.577595",
     "status": "completed"
    },
    "tags": []
   },
   "outputs": [],
   "source": [
    "###################################\n",
    "# Evaluate the model\n",
    "###################################\n",
    "source_test_label_accuracy, source_test_label_loss = jig.test(datasets.source.processed.test)\n",
    "target_test_label_accuracy, target_test_label_loss = jig.test(datasets.target.processed.test)\n",
    "\n",
    "source_val_label_accuracy, source_val_label_loss = jig.test(datasets.source.processed.val)\n",
    "target_val_label_accuracy, target_val_label_loss = jig.test(datasets.target.processed.val)\n",
    "\n",
    "history = jig.get_history()\n",
    "\n",
    "total_epochs_trained = len(history[\"epoch_indices\"])\n",
    "\n",
    "val_dl = Iterable_Aggregator((datasets.source.original.val,datasets.target.original.val))\n",
    "\n",
    "confusion = ptn_confusion_by_domain_over_dataloader(model, p.device, val_dl)\n",
    "per_domain_accuracy = per_domain_accuracy_from_confusion(confusion)\n",
    "\n",
    "# Add a key to per_domain_accuracy for if it was a source domain\n",
    "for domain, accuracy in per_domain_accuracy.items():\n",
    "    per_domain_accuracy[domain] = {\n",
    "        \"accuracy\": accuracy,\n",
    "        \"source?\": domain in p.domains_source\n",
    "    }\n",
    "\n",
    "# Do an independent accuracy assesment JUST TO BE SURE!\n",
    "# _source_test_label_accuracy = independent_accuracy_assesment(model, datasets.source.processed.test, p.device)\n",
    "# _target_test_label_accuracy = independent_accuracy_assesment(model, datasets.target.processed.test, p.device)\n",
    "# _source_val_label_accuracy = independent_accuracy_assesment(model, datasets.source.processed.val, p.device)\n",
    "# _target_val_label_accuracy = independent_accuracy_assesment(model, datasets.target.processed.val, p.device)\n",
    "\n",
    "# assert(_source_test_label_accuracy == source_test_label_accuracy)\n",
    "# assert(_target_test_label_accuracy == target_test_label_accuracy)\n",
    "# assert(_source_val_label_accuracy == source_val_label_accuracy)\n",
    "# assert(_target_val_label_accuracy == target_val_label_accuracy)\n",
    "\n",
    "experiment = {\n",
    "    \"experiment_name\": p.experiment_name,\n",
    "    \"parameters\": dict(p),\n",
    "    \"results\": {\n",
    "        \"source_test_label_accuracy\": source_test_label_accuracy,\n",
    "        \"source_test_label_loss\": source_test_label_loss,\n",
    "        \"target_test_label_accuracy\": target_test_label_accuracy,\n",
    "        \"target_test_label_loss\": target_test_label_loss,\n",
    "        \"source_val_label_accuracy\": source_val_label_accuracy,\n",
    "        \"source_val_label_loss\": source_val_label_loss,\n",
    "        \"target_val_label_accuracy\": target_val_label_accuracy,\n",
    "        \"target_val_label_loss\": target_val_label_loss,\n",
    "        \"total_epochs_trained\": total_epochs_trained,\n",
    "        \"total_experiment_time_secs\": total_experiment_time_secs,\n",
    "        \"confusion\": confusion,\n",
    "        \"per_domain_accuracy\": per_domain_accuracy,\n",
    "    },\n",
    "    \"history\": history,\n",
    "    \"dataset_metrics\": get_dataset_metrics(datasets, \"ptn\"),\n",
    "}"
   ]
  },
  {
   "cell_type": "code",
   "execution_count": 25,
   "id": "54a21829",
   "metadata": {
    "execution": {
     "iopub.execute_input": "2022-03-22T17:45:17.883508Z",
     "iopub.status.busy": "2022-03-22T17:45:17.883134Z",
     "iopub.status.idle": "2022-03-22T17:45:18.099464Z",
     "shell.execute_reply": "2022-03-22T17:45:18.098715Z"
    },
    "papermill": {
     "duration": 0.281862,
     "end_time": "2022-03-22T17:45:18.099676",
     "exception": false,
     "start_time": "2022-03-22T17:45:17.817814",
     "status": "completed"
    },
    "tags": []
   },
   "outputs": [
    {
     "data": {
      "image/png": "[encoded data removed]",
      "text/plain": [
       "<Figure size 1080x504 with 1 Axes>"
      ]
     },
     "metadata": {
      "needs_background": "light"
     },
     "output_type": "display_data"
    }
   ],
   "source": [
    "ax = get_loss_curve(experiment)\n",
    "plt.show()"
   ]
  },
  {
   "cell_type": "code",
   "execution_count": 26,
   "id": "fd8a0f60",
   "metadata": {
    "execution": {
     "iopub.execute_input": "2022-03-22T17:45:18.233434Z",
     "iopub.status.busy": "2022-03-22T17:45:18.232886Z",
     "iopub.status.idle": "2022-03-22T17:45:18.583296Z",
     "shell.execute_reply": "2022-03-22T17:45:18.583998Z"
    },
    "papermill": {
     "duration": 0.417506,
     "end_time": "2022-03-22T17:45:18.584185",
     "exception": false,
     "start_time": "2022-03-22T17:45:18.166679",
     "status": "completed"
    },
    "tags": []
   },
   "outputs": [
    {
     "data": {
      "text/plain": [
       "<AxesSubplot:title={'center':'Results'}>"
      ]
     },
     "execution_count": 26,
     "metadata": {},
     "output_type": "execute_result"
    },
    {
     "data": {
      "image/png": "[encoded data removed]",
      "text/plain": [
       "<Figure size 1080x504 with 1 Axes>"
      ]
     },
     "metadata": {
      "needs_background": "light"
     },
     "output_type": "display_data"
    }
   ],
   "source": [
    "get_results_table(experiment)"
   ]
  },
  {
   "cell_type": "code",
   "execution_count": 27,
   "id": "cf8dc689",
   "metadata": {
    "execution": {
     "iopub.execute_input": "2022-03-22T17:45:18.723859Z",
     "iopub.status.busy": "2022-03-22T17:45:18.723461Z",
     "iopub.status.idle": "2022-03-22T17:45:18.981019Z",
     "shell.execute_reply": "2022-03-22T17:45:18.980203Z"
    },
    "papermill": {
     "duration": 0.325621,
     "end_time": "2022-03-22T17:45:18.981177",
     "exception": false,
     "start_time": "2022-03-22T17:45:18.655556",
     "status": "completed"
    },
    "tags": []
   },
   "outputs": [
    {
     "data": {
      "text/plain": [
       "<AxesSubplot:title={'center':'Per Domain Validation Accuracy'}, xlabel='domain'>"
      ]
     },
     "execution_count": 27,
     "metadata": {},
     "output_type": "execute_result"
    },
    {
     "data": {
      "image/png": "[encoded data removed]",
      "text/plain": [
       "<Figure size 1080x504 with 1 Axes>"
      ]
     },
     "metadata": {
      "needs_background": "light"
     },
     "output_type": "display_data"
    }
   ],
   "source": [
    "get_domain_accuracies(experiment)"
   ]
  },
  {
   "cell_type": "code",
   "execution_count": 28,
   "id": "a74ae082",
   "metadata": {
    "execution": {
     "iopub.execute_input": "2022-03-22T17:45:19.131737Z",
     "iopub.status.busy": "2022-03-22T17:45:19.131327Z",
     "iopub.status.idle": "2022-03-22T17:45:19.159812Z",
     "shell.execute_reply": "2022-03-22T17:45:19.160496Z"
    },
    "papermill": {
     "duration": 0.102793,
     "end_time": "2022-03-22T17:45:19.160694",
     "exception": false,
     "start_time": "2022-03-22T17:45:19.057901",
     "status": "completed"
    },
    "tags": []
   },
   "outputs": [
    {
     "name": "stdout",
     "output_type": "stream",
     "text": [
      "Source Test Label Accuracy: 0.9994733146067416 Target Test Label Accuracy: 0.16689453125\n",
      "Source Val Label Accuracy: 0.9996785714285714 Target Val Label Accuracy: 0.17353515625\n"
     ]
    }
   ],
   "source": [
    "print(\"Source Test Label Accuracy:\", experiment[\"results\"][\"source_test_label_accuracy\"], \"Target Test Label Accuracy:\", experiment[\"results\"][\"target_test_label_accuracy\"])\n",
    "print(\"Source Val Label Accuracy:\", experiment[\"results\"][\"source_val_label_accuracy\"], \"Target Val Label Accuracy:\", experiment[\"results\"][\"target_val_label_accuracy\"])"
   ]
  },
  {
   "cell_type": "code",
   "execution_count": 29,
   "id": "dacca602",
   "metadata": {
    "execution": {
     "iopub.execute_input": "2022-03-22T17:45:19.308788Z",
     "iopub.status.busy": "2022-03-22T17:45:19.308424Z",
     "iopub.status.idle": "2022-03-22T17:45:19.335508Z",
     "shell.execute_reply": "2022-03-22T17:45:19.336251Z"
    },
    "papermill": {
     "duration": 0.099057,
     "end_time": "2022-03-22T17:45:19.336440",
     "exception": false,
     "start_time": "2022-03-22T17:45:19.237383",
     "status": "completed"
    },
    "tags": [
     "experiment_json"
    ]
   },
   "outputs": [
    {
     "data": {
      "text/plain": [
       "'{\"experiment_name\": \"tl_1v2:cores-oracle.run1.limited\", \"parameters\": {\"experiment_name\": \"tl_1v2:cores-oracle.run1.limited\", \"device\": \"cuda\", \"lr\": 0.0001, \"n_shot\": 3, \"n_query\": 2, \"train_k_factor\": 3, \"val_k_factor\": 2, \"test_k_factor\": 2, \"torch_default_dtype\": \"torch.float32\", \"n_epoch\": 50, \"patience\": 3, \"criteria_for_best\": \"target_accuracy\", \"x_net\": [{\"class\": \"nnReshape\", \"kargs\": {\"shape\": [-1, 1, 2, 256]}}, {\"class\": \"Conv2d\", \"kargs\": {\"in_channels\": 1, \"out_channels\": 256, \"kernel_size\": [1, 7], \"bias\": false, \"padding\": [0, 3]}}, {\"class\": \"ReLU\", \"kargs\": {\"inplace\": true}}, {\"class\": \"BatchNorm2d\", \"kargs\": {\"num_features\": 256}}, {\"class\": \"Conv2d\", \"kargs\": {\"in_channels\": 256, \"out_channels\": 80, \"kernel_size\": [2, 7], \"bias\": true, \"padding\": [0, 3]}}, {\"class\": \"ReLU\", \"kargs\": {\"inplace\": true}}, {\"class\": \"BatchNorm2d\", \"kargs\": {\"num_features\": 80}}, {\"class\": \"Flatten\", \"kargs\": {}}, {\"class\": \"Linear\", \"kargs\": {\"in_features\": 20480, \"out_features\": 256}}, {\"class\": \"ReLU\", \"kargs\": {\"inplace\": true}}, {\"class\": \"BatchNorm1d\", \"kargs\": {\"num_features\": 256}}, {\"class\": \"Linear\", \"kargs\": {\"in_features\": 256, \"out_features\": 256}}], \"NUM_LOGS_PER_EPOCH\": 10, \"BEST_MODEL_PATH\": \"./best_model.pth\", \"n_way\": 16, \"datasets\": [{\"labels\": [\"1-10.\", \"1-11.\", \"1-15.\", \"1-16.\", \"1-17.\", \"1-18.\", \"1-19.\", \"10-4.\", \"10-7.\", \"11-1.\", \"11-14.\", \"11-17.\", \"11-20.\", \"11-7.\", \"13-20.\", \"13-8.\", \"14-10.\", \"14-11.\", \"14-14.\", \"14-7.\", \"15-1.\", \"15-20.\", \"16-1.\", \"16-16.\", \"17-10.\", \"17-11.\", \"17-2.\", \"19-1.\", \"19-16.\", \"19-19.\", \"19-20.\", \"19-3.\", \"2-10.\", \"2-11.\", \"2-17.\", \"2-18.\", \"2-20.\", \"2-3.\", \"2-4.\", \"2-5.\", \"2-6.\", \"2-7.\", \"2-8.\", \"3-13.\", \"3-18.\", \"3-3.\", \"4-1.\", \"4-10.\", \"4-11.\", \"4-19.\", \"5-5.\", \"6-15.\", \"7-10.\", \"7-14.\", \"8-18.\", \"8-20.\", \"8-3.\", \"8-8.\"], \"domains\": [1, 2, 3, 4, 5], \"num_examples_per_domain_per_label\": -1, \"pickle_path\": \"/root/csc500-main/datasets/cores.stratified_ds.2022A.pkl\", \"source_or_target_dataset\": \"source\", \"x_transforms\": [\"unit_power\"], \"episode_transforms\": [], \"domain_prefix\": \"CORES_\"}, {\"labels\": [\"3123D52\", \"3123D65\", \"3123D79\", \"3123D80\", \"3123D54\", \"3123D70\", \"3123D7B\", \"3123D89\", \"3123D58\", \"3123D76\", \"3123D7D\", \"3123EFE\", \"3123D64\", \"3123D78\", \"3123D7E\", \"3124E4A\"], \"domains\": [32, 38, 8, 44, 14, 50, 20, 26], \"num_examples_per_domain_per_label\": 2000, \"pickle_path\": \"/root/csc500-main/datasets/oracle.Run1_10kExamples_stratified_ds.2022A.pkl\", \"source_or_target_dataset\": \"target\", \"x_transforms\": [\"unit_power\"], \"episode_transforms\": [], \"domain_prefix\": \"ORACLE.run1_\"}], \"dataset_seed\": 500, \"seed\": 500, \"x_shape\": [2, 256], \"domains_source\": [\"CORES_1\", \"CORES_2\", \"CORES_3\", \"CORES_4\", \"CORES_5\"], \"domains_target\": [\"ORACLE.run1_32\", \"ORACLE.run1_38\", \"ORACLE.run1_8\", \"ORACLE.run1_44\", \"ORACLE.run1_14\", \"ORACLE.run1_50\", \"ORACLE.run1_20\", \"ORACLE.run1_26\"]}, \"results\": {\"source_test_label_accuracy\": 0.9994733146067416, \"source_test_label_loss\": 0.011288142763078213, \"target_test_label_accuracy\": 0.16689453125, \"target_test_label_loss\": 4.894345283508301, \"source_val_label_accuracy\": 0.9996785714285714, \"source_val_label_loss\": 0.008206835947930813, \"target_val_label_accuracy\": 0.17353515625, \"target_val_label_loss\": 4.856063365936279, \"total_epochs_trained\": 13, \"total_experiment_time_secs\": 2580.8508512973785, \"confusion\": {\"CORES_4\": {\"38\": {\"38\": 40}, \"3\": {\"3\": 123, \"50\": 1}, \"24\": {\"24\": 56}, \"49\": {\"49\": 20}, \"7\": {\"7\": 24}, \"17\": {\"17\": 80}, \"43\": {\"43\": 148}, \"30\": {\"30\": 44}, \"44\": {\"44\": 132}, \"23\": {\"23\": 144}, \"37\": {\"37\": 24}, \"4\": {\"4\": 132}, \"57\": {\"57\": 100}, \"16\": {\"16\": 96}, \"18\": {\"18\": 107, \"50\": 1}, \"20\": {\"20\": 124}, \"45\": {\"45\": 96}, \"15\": {\"15\": 132}, \"52\": {\"52\": 116}, \"19\": {\"19\": 140}, \"54\": {\"54\": 108}, \"56\": {\"56\": 130}, \"40\": {\"40\": 134}, \"28\": {\"28\": 32}, \"2\": {\"2\": 36}, \"9\": {\"9\": 120}, \"0\": {\"0\": 80}, \"36\": {\"36\": 92}, \"55\": {\"55\": 130}, \"35\": {\"35\": 40}, \"39\": {\"39\": 20}, \"31\": {\"31\": 28}, \"14\": {\"14\": 16}, \"12\": {\"12\": 92}, \"6\": {\"6\": 111, \"3\": 1}, \"26\": {\"26\": 24}, \"50\": {\"50\": 132}, \"21\": {\"21\": 122}, \"46\": {\"46\": 140}, \"51\": {\"51\": 140}, \"41\": {\"41\": 36}, \"34\": {\"34\": 24}, \"47\": {\"47\": 120}, \"5\": {\"5\": 108}, \"1\": {\"1\": 40}, \"48\": {\"48\": 134}, \"29\": {\"29\": 118}, \"22\": {\"22\": 128}, \"10\": {\"10\": 132}, \"32\": {\"32\": 24}, \"13\": {\"13\": 112}, \"42\": {\"42\": 32}, \"27\": {\"27\": 138}, \"8\": {\"8\": 142}, \"33\": {\"33\": 36}, \"25\": {\"25\": 132}, \"11\": {\"11\": 104}, \"53\": {\"53\": 112}}, \"CORES_2\": {\"32\": {\"32\": 28}, \"17\": {\"17\": 104}, \"38\": {\"38\": 20}, \"2\": {\"2\": 32}, \"43\": {\"43\": 144}, \"56\": {\"56\": 144}, \"37\": {\"37\": 36}, \"49\": {\"49\": 24}, \"0\": {\"0\": 48}, \"29\": {\"29\": 128}, \"35\": {\"35\": 32}, \"18\": {\"18\": 48}, \"25\": {\"25\": 136}, \"23\": {\"23\": 124}, \"15\": {\"15\": 146}, \"21\": {\"21\": 120}, \"51\": {\"51\": 128}, \"20\": {\"20\": 137, \"51\": 1}, \"7\": {\"7\": 36}, \"50\": {\"50\": 136}, \"31\": {\"31\": 28}, \"30\": {\"30\": 140}, \"19\": {\"19\": 156}, \"9\": {\"9\": 144}, \"52\": {\"52\": 124}, \"45\": {\"45\": 128}, \"8\": {\"8\": 154}, \"55\": {\"55\": 160}, \"12\": {\"12\": 92}, \"40\": {\"40\": 140}, \"28\": {\"28\": 28}, \"36\": {\"36\": 116}, \"39\": {\"39\": 28}, \"46\": {\"46\": 122}, \"14\": {\"14\": 24}, \"57\": {\"57\": 142}, \"34\": {\"34\": 28}, \"1\": {\"1\": 112}, \"53\": {\"53\": 136}, \"48\": {\"48\": 130}, \"3\": {\"3\": 92}, \"16\": {\"16\": 152}, \"6\": {\"6\": 124}, \"10\": {\"10\": 112}, \"13\": {\"13\": 116}, \"26\": {\"26\": 24}, \"24\": {\"24\": 96}, \"44\": {\"44\": 100}, \"27\": {\"27\": 150}, \"22\": {\"22\": 128}, \"33\": {\"33\": 28}, \"47\": {\"47\": 118}, \"5\": {\"5\": 120}, \"4\": {\"4\": 138}, \"41\": {\"41\": 20}, \"11\": {\"11\": 150}, \"54\": {\"54\": 108}, \"42\": {\"42\": 36}}, \"CORES_3\": {\"5\": {\"5\": 116}, \"32\": {\"32\": 28}, \"33\": {\"33\": 28}, \"49\": {\"49\": 20}, \"39\": {\"39\": 16}, \"11\": {\"11\": 142}, \"8\": {\"8\": 116}, \"26\": {\"26\": 24}, \"51\": {\"51\": 122}, \"4\": {\"4\": 146}, \"52\": {\"52\": 118}, \"47\": {\"47\": 92}, \"17\": {\"17\": 107, \"56\": 1}, \"53\": {\"53\": 136}, \"2\": {\"2\": 32}, \"12\": {\"12\": 92}, \"37\": {\"37\": 28}, \"9\": {\"9\": 148}, \"13\": {\"13\": 128}, \"54\": {\"54\": 100}, \"31\": {\"31\": 28}, \"34\": {\"34\": 32}, \"24\": {\"24\": 104}, \"7\": {\"7\": 36}, \"50\": {\"50\": 118}, \"46\": {\"46\": 128}, \"44\": {\"44\": 87, \"29\": 1}, \"40\": {\"40\": 116}, \"21\": {\"21\": 128}, \"45\": {\"45\": 60}, \"16\": {\"16\": 126}, \"14\": {\"14\": 40}, \"36\": {\"36\": 100}, \"56\": {\"56\": 114}, \"10\": {\"10\": 64}, \"18\": {\"18\": 84}, \"48\": {\"48\": 116}, \"38\": {\"38\": 28}, \"27\": {\"27\": 130}, \"42\": {\"42\": 28}, \"15\": {\"15\": 134}, \"1\": {\"1\": 100}, \"28\": {\"28\": 28}, \"43\": {\"43\": 136}, \"0\": {\"0\": 124}, \"57\": {\"57\": 124}, \"3\": {\"3\": 148}, \"29\": {\"29\": 124}, \"41\": {\"41\": 28}, \"25\": {\"25\": 146}, \"6\": {\"6\": 88}, \"35\": {\"35\": 28}, \"20\": {\"20\": 126}, \"23\": {\"23\": 134}, \"22\": {\"22\": 140}, \"19\": {\"19\": 116}, \"55\": {\"55\": 124}, \"30\": {\"30\": 120}}, \"CORES_1\": {\"24\": {\"24\": 108}, \"25\": {\"25\": 140}, \"45\": {\"45\": 144}, \"42\": {\"42\": 40}, \"2\": {\"2\": 36}, \"9\": {\"9\": 150}, \"21\": {\"21\": 124}, \"26\": {\"26\": 24}, \"49\": {\"49\": 32}, \"39\": {\"39\": 28}, \"46\": {\"46\": 136}, \"17\": {\"17\": 64}, \"19\": {\"19\": 156}, \"23\": {\"23\": 132}, \"1\": {\"1\": 100}, \"29\": {\"29\": 140}, \"56\": {\"56\": 150}, \"37\": {\"37\": 32}, \"33\": {\"33\": 32}, \"55\": {\"55\": 142}, \"30\": {\"30\": 120}, \"0\": {\"0\": 152}, \"36\": {\"36\": 64}, \"32\": {\"32\": 32}, \"31\": {\"31\": 28}, \"15\": {\"15\": 138}, \"12\": {\"12\": 116}, \"38\": {\"38\": 24}, \"40\": {\"40\": 146}, \"14\": {\"14\": 24}, \"13\": {\"13\": 150}, \"48\": {\"48\": 148}, \"34\": {\"34\": 24}, \"44\": {\"44\": 130}, \"5\": {\"5\": 152}, \"11\": {\"11\": 140}, \"7\": {\"7\": 28}, \"18\": {\"18\": 72}, \"52\": {\"52\": 132}, \"51\": {\"51\": 142}, \"41\": {\"41\": 24}, \"16\": {\"16\": 140}, \"22\": {\"22\": 133, \"10\": 1}, \"3\": {\"3\": 140}, \"54\": {\"54\": 104}, \"27\": {\"27\": 144}, \"20\": {\"20\": 140}, \"8\": {\"8\": 138}, \"50\": {\"50\": 144}, \"57\": {\"57\": 140}, \"4\": {\"4\": 132}, \"47\": {\"47\": 146}, \"10\": {\"10\": 96}, \"35\": {\"35\": 36}, \"53\": {\"53\": 126}, \"6\": {\"6\": 96}, \"43\": {\"43\": 140}, \"28\": {\"28\": 28}}, \"CORES_5\": {\"35\": {\"35\": 36}, \"57\": {\"57\": 132}, \"20\": {\"20\": 144}, \"12\": {\"12\": 96}, \"32\": {\"32\": 32}, \"25\": {\"25\": 138}, \"44\": {\"44\": 148}, \"31\": {\"31\": 36}, \"11\": {\"11\": 150}, \"47\": {\"47\": 100}, \"23\": {\"23\": 124}, \"43\": {\"43\": 144}, \"37\": {\"37\": 24}, \"5\": {\"5\": 128}, \"45\": {\"45\": 124}, \"7\": {\"7\": 32}, \"13\": {\"13\": 136}, \"49\": {\"49\": 36}, \"46\": {\"46\": 148}, \"16\": {\"16\": 135, \"43\": 1}, \"54\": {\"54\": 112}, \"19\": {\"19\": 152}, \"55\": {\"55\": 150}, \"30\": {\"30\": 128}, \"34\": {\"34\": 36}, \"50\": {\"50\": 134}, \"3\": {\"3\": 100}, \"10\": {\"10\": 68}, \"27\": {\"27\": 142}, \"33\": {\"33\": 32}, \"56\": {\"56\": 142}, \"9\": {\"9\": 150}, \"14\": {\"14\": 44}, \"4\": {\"4\": 100}, \"42\": {\"42\": 40}, \"24\": {\"24\": 80}, \"39\": {\"39\": 20}, \"52\": {\"52\": 130}, \"2\": {\"2\": 28}, \"28\": {\"28\": 32}, \"53\": {\"53\": 122}, \"17\": {\"17\": 116}, \"29\": {\"29\": 132}, \"38\": {\"38\": 32}, \"15\": {\"15\": 144}, \"26\": {\"26\": 24}, \"21\": {\"21\": 144}, \"41\": {\"41\": 28}, \"48\": {\"48\": 136}, \"22\": {\"22\": 28}, \"8\": {\"8\": 148}, \"18\": {\"18\": 64}, \"0\": {\"0\": 122}, \"1\": {\"1\": 138}, \"40\": {\"40\": 124}, \"6\": {\"6\": 127, \"50\": 1}, \"51\": {\"51\": 142}, \"36\": {\"36\": 92}}, \"ORACLE.run1_50\": {\"7\": {\"0\": 15, \"1\": 7, \"7\": 39, \"13\": 26, \"4\": 27, \"10\": 21, \"5\": 32, \"2\": 8, \"15\": 12, \"8\": 14, \"6\": 21, \"14\": 3, \"3\": 11, \"12\": 1, \"11\": 3}, \"10\": {\"7\": 19, \"13\": 22, \"2\": 21, \"0\": 26, \"3\": 33, \"8\": 36, \"15\": 4, \"14\": 3, \"10\": 34, \"5\": 19, \"6\": 9, \"4\": 7, \"1\": 5, \"9\": 1, \"12\": 1}, \"0\": {\"1\": 12, \"4\": 2, \"14\": 9, \"8\": 21, \"3\": 22, \"2\": 41, \"10\": 28, \"7\": 11, \"0\": 45, \"11\": 4, \"5\": 9, \"13\": 13, \"6\": 12, \"9\": 4, \"12\": 4, \"15\": 3}, \"11\": {\"1\": 30, \"12\": 29, \"15\": 26, \"4\": 16, \"11\": 44, \"14\": 20, \"9\": 39, \"6\": 15, \"2\": 10, \"7\": 4, \"5\": 2, \"13\": 4, \"0\": 1}, \"2\": {\"15\": 6, \"2\": 53, \"4\": 7, \"14\": 24, \"0\": 48, \"11\": 4, \"8\": 9, \"7\": 9, \"1\": 10, \"6\": 15, \"12\": 6, \"10\": 19, \"5\": 11, \"13\": 10, \"3\": 6, \"9\": 3}, \"14\": {\"14\": 35, \"15\": 18, \"12\": 35, \"4\": 20, \"11\": 20, \"1\": 13, \"9\": 33, \"13\": 9, \"2\": 20, \"0\": 10, \"7\": 5, \"5\": 6, \"6\": 15, \"8\": 1}, \"9\": {\"12\": 58, \"15\": 22, \"9\": 58, \"5\": 2, \"11\": 44, \"4\": 12, \"6\": 4, \"1\": 11, \"14\": 28, \"13\": 1}, \"13\": {\"10\": 23, \"1\": 17, \"7\": 33, \"4\": 18, \"0\": 18, \"6\": 30, \"13\": 35, \"5\": 21, \"11\": 3, \"2\": 9, \"15\": 14, \"14\": 4, \"3\": 9, \"8\": 4, \"9\": 1, \"12\": 1}, \"8\": {\"6\": 6, \"3\": 65, \"0\": 33, \"7\": 9, \"5\": 12, \"2\": 12, \"8\": 60, \"10\": 25, \"1\": 3, \"13\": 9, \"14\": 2, \"11\": 1, \"15\": 1, \"4\": 2}, \"15\": {\"9\": 26, \"6\": 23, \"15\": 45, \"4\": 27, \"7\": 8, \"11\": 24, \"5\": 13, \"1\": 26, \"13\": 17, \"2\": 3, \"14\": 17, \"12\": 6, \"10\": 3, \"3\": 1, \"0\": 1}, \"4\": {\"5\": 22, \"11\": 20, \"1\": 27, \"6\": 27, \"7\": 18, \"15\": 18, \"8\": 4, \"10\": 9, \"4\": 24, \"14\": 19, \"13\": 17, \"0\": 7, \"12\": 12, \"9\": 11, \"2\": 5}, \"5\": {\"6\": 22, \"5\": 42, \"10\": 10, \"11\": 5, \"7\": 27, \"3\": 10, \"1\": 16, \"8\": 6, \"12\": 4, \"13\": 20, \"4\": 27, \"2\": 7, \"15\": 16, \"14\": 8, \"0\": 15, \"9\": 5}, \"3\": {\"8\": 62, \"7\": 12, \"3\": 102, \"5\": 8, \"2\": 4, \"0\": 13, \"10\": 25, \"4\": 2, \"13\": 7, \"6\": 5}, \"1\": {\"6\": 18, \"11\": 21, \"15\": 19, \"5\": 18, \"1\": 23, \"4\": 23, \"13\": 14, \"2\": 9, \"10\": 9, \"7\": 15, \"14\": 25, \"0\": 8, \"3\": 2, \"9\": 16, \"12\": 16, \"8\": 4}, \"6\": {\"15\": 18, \"1\": 23, \"4\": 26, \"11\": 16, \"7\": 31, \"13\": 29, \"6\": 24, \"2\": 9, \"5\": 25, \"10\": 7, \"14\": 15, \"0\": 6, \"12\": 4, \"9\": 5, \"3\": 2}, \"12\": {\"9\": 63, \"14\": 31, \"11\": 40, \"13\": 2, \"2\": 5, \"12\": 66, \"4\": 5, \"1\": 8, \"15\": 11, \"6\": 6, \"10\": 1, \"5\": 1, \"0\": 1}}, \"ORACLE.run1_14\": {\"14\": {\"14\": 44, \"3\": 20, \"1\": 16, \"4\": 20, \"5\": 8, \"11\": 19, \"6\": 27, \"2\": 18, \"13\": 16, \"9\": 4, \"15\": 7, \"10\": 17, \"7\": 6, \"8\": 8, \"0\": 9, \"12\": 1}, \"6\": {\"4\": 22, \"14\": 29, \"15\": 18, \"1\": 13, \"13\": 27, \"2\": 30, \"5\": 15, \"0\": 5, \"3\": 20, \"11\": 7, \"6\": 28, \"10\": 10, \"8\": 1, \"7\": 13, \"9\": 2}, \"5\": {\"4\": 28, \"2\": 23, \"11\": 8, \"8\": 13, \"1\": 21, \"7\": 22, \"3\": 13, \"5\": 29, \"15\": 20, \"13\": 12, \"14\": 15, \"6\": 16, \"0\": 9, \"9\": 2, \"10\": 9}, \"15\": {\"15\": 73, \"13\": 11, \"7\": 65, \"6\": 16, \"1\": 19, \"4\": 10, \"5\": 21, \"0\": 5, \"2\": 12, \"3\": 3, \"8\": 2, \"14\": 3}, \"11\": {\"9\": 26, \"8\": 12, \"14\": 17, \"10\": 28, \"0\": 35, \"11\": 62, \"12\": 19, \"4\": 7, \"13\": 6, \"2\": 6, \"1\": 2, \"6\": 6, \"3\": 8, \"5\": 5, \"15\": 1}, \"8\": {\"6\": 6, \"8\": 63, \"14\": 5, \"1\": 19, \"4\": 18, \"15\": 6, \"12\": 5, \"3\": 15, \"11\": 15, \"7\": 4, \"0\": 23, \"9\": 25, \"5\": 17, \"10\": 12, \"2\": 5, \"13\": 2}, \"12\": {\"9\": 57, \"8\": 15, \"0\": 9, \"10\": 7, \"12\": 104, \"11\": 40, \"14\": 3, \"3\": 4, \"4\": 1}, \"1\": {\"10\": 9, \"15\": 18, \"3\": 22, \"1\": 25, \"14\": 20, \"5\": 27, \"7\": 25, \"4\": 21, \"8\": 16, \"6\": 16, \"13\": 8, \"0\": 5, \"2\": 16, \"11\": 8, \"9\": 4}, \"2\": {\"1\": 14, \"11\": 7, \"15\": 18, \"7\": 23, \"14\": 24, \"2\": 21, \"4\": 19, \"8\": 4, \"13\": 24, \"3\": 16, \"5\": 22, \"0\": 10, \"10\": 9, \"6\": 26, \"9\": 3}, \"13\": {\"7\": 14, \"3\": 21, \"4\": 16, \"2\": 19, \"13\": 35, \"6\": 22, \"5\": 17, \"14\": 27, \"8\": 2, \"15\": 12, \"0\": 14, \"1\": 12, \"10\": 19, \"11\": 8, \"9\": 2}, \"3\": {\"4\": 20, \"8\": 18, \"5\": 18, \"3\": 22, \"0\": 20, \"10\": 28, \"14\": 18, \"11\": 16, \"1\": 14, \"2\": 21, \"13\": 11, \"6\": 19, \"9\": 5, \"7\": 6, \"15\": 4}, \"0\": {\"5\": 8, \"12\": 17, \"10\": 26, \"3\": 14, \"0\": 34, \"14\": 15, \"7\": 1, \"1\": 10, \"6\": 14, \"11\": 34, \"4\": 12, \"8\": 16, \"2\": 10, \"9\": 24, \"13\": 5}, \"9\": {\"12\": 51, \"9\": 48, \"10\": 20, \"14\": 4, \"11\": 45, \"0\": 22, \"1\": 1, \"8\": 32, \"5\": 2, \"3\": 10, \"2\": 1, \"4\": 4}, \"4\": {\"0\": 17, \"2\": 19, \"1\": 12, \"15\": 18, \"7\": 15, \"6\": 20, \"5\": 26, \"4\": 20, \"8\": 10, \"13\": 11, \"3\": 25, \"14\": 14, \"11\": 18, \"10\": 13, \"9\": 2}, \"7\": {\"2\": 15, \"10\": 4, \"7\": 55, \"3\": 6, \"15\": 56, \"14\": 12, \"1\": 23, \"8\": 3, \"5\": 23, \"6\": 7, \"13\": 12, \"4\": 19, \"0\": 3, \"11\": 1, \"9\": 1}, \"10\": {\"11\": 32, \"6\": 11, \"12\": 8, \"5\": 11, \"10\": 35, \"14\": 18, \"0\": 28, \"7\": 2, \"2\": 16, \"1\": 9, \"4\": 13, \"3\": 14, \"13\": 13, \"9\": 15, \"8\": 15}}, \"ORACLE.run1_32\": {\"4\": {\"0\": 22, \"13\": 17, \"5\": 27, \"2\": 31, \"4\": 32, \"3\": 11, \"15\": 9, \"12\": 3, \"8\": 22, \"14\": 23, \"11\": 12, \"9\": 10, \"7\": 21}, \"14\": {\"8\": 17, \"14\": 36, \"11\": 38, \"2\": 22, \"7\": 26, \"13\": 20, \"3\": 22, \"5\": 17, \"0\": 16, \"9\": 7, \"15\": 6, \"4\": 13}, \"5\": {\"11\": 17, \"7\": 22, \"0\": 15, \"14\": 28, \"8\": 27, \"3\": 25, \"4\": 21, \"13\": 19, \"15\": 15, \"5\": 30, \"2\": 18, \"9\": 3}, \"10\": {\"10\": 103, \"1\": 60, \"9\": 5, \"6\": 37, \"12\": 34, \"2\": 1}, \"13\": {\"8\": 20, \"2\": 24, \"11\": 20, \"15\": 18, \"5\": 28, \"13\": 20, \"14\": 19, \"7\": 17, \"3\": 29, \"4\": 28, \"0\": 14, \"9\": 3}, \"9\": {\"9\": 91, \"0\": 14, \"4\": 22, \"12\": 61, \"2\": 28, \"5\": 1, \"6\": 6, \"10\": 4, \"11\": 1, \"7\": 2, \"13\": 5, \"8\": 3, \"14\": 1, \"1\": 1}, \"6\": {\"6\": 112, \"9\": 10, \"10\": 46, \"12\": 42, \"1\": 28, \"4\": 2}, \"3\": {\"5\": 25, \"15\": 24, \"4\": 12, \"8\": 22, \"11\": 28, \"13\": 27, \"3\": 46, \"14\": 22, \"7\": 18, \"0\": 14, \"2\": 2}, \"15\": {\"15\": 96, \"8\": 29, \"13\": 24, \"5\": 12, \"11\": 6, \"14\": 11, \"4\": 12, \"12\": 1, \"0\": 16, \"3\": 27, \"2\": 3, \"7\": 3}, \"7\": {\"2\": 22, \"7\": 24, \"5\": 25, \"4\": 23, \"14\": 19, \"11\": 36, \"8\": 14, \"13\": 17, \"3\": 20, \"0\": 29, \"9\": 5, \"15\": 5, \"12\": 1}, \"12\": {\"12\": 116, \"10\": 34, \"9\": 51, \"6\": 28, \"2\": 3, \"1\": 5, \"4\": 1, \"13\": 2}, \"8\": {\"8\": 23, \"3\": 23, \"13\": 25, \"2\": 21, \"5\": 31, \"7\": 17, \"11\": 18, \"15\": 23, \"14\": 16, \"0\": 23, \"4\": 17, \"9\": 3}, \"11\": {\"14\": 33, \"13\": 16, \"11\": 46, \"7\": 28, \"2\": 16, \"8\": 17, \"0\": 29, \"15\": 8, \"5\": 16, \"4\": 10, \"3\": 20, \"9\": 1}, \"2\": {\"5\": 29, \"13\": 15, \"2\": 41, \"0\": 26, \"11\": 9, \"3\": 4, \"4\": 29, \"8\": 14, \"7\": 24, \"9\": 29, \"12\": 4, \"14\": 9, \"15\": 7}, \"1\": {\"1\": 126, \"10\": 71, \"6\": 30, \"12\": 12, \"9\": 1}, \"0\": {\"2\": 30, \"0\": 29, \"14\": 14, \"5\": 29, \"7\": 25, \"4\": 27, \"8\": 16, \"15\": 13, \"3\": 18, \"11\": 14, \"13\": 11, \"9\": 14}}, \"ORACLE.run1_44\": {\"8\": {\"0\": 61, \"15\": 37, \"8\": 76, \"5\": 46, \"13\": 2, \"4\": 9, \"9\": 2, \"14\": 7}, \"11\": {\"13\": 44, \"10\": 6, \"3\": 11, \"11\": 50, \"7\": 22, \"2\": 14, \"6\": 34, \"9\": 28, \"8\": 1, \"1\": 5, \"14\": 7, \"15\": 3, \"12\": 1, \"4\": 11, \"5\": 3}, \"14\": {\"4\": 66, \"7\": 4, \"13\": 12, \"9\": 13, \"14\": 51, \"5\": 29, \"15\": 26, \"8\": 10, \"6\": 4, \"0\": 16, \"2\": 1, \"3\": 2, \"11\": 4, \"1\": 1, \"12\": 1}, \"10\": {\"2\": 34, \"1\": 39, \"10\": 46, \"7\": 23, \"12\": 48, \"6\": 10, \"3\": 23, \"13\": 5, \"9\": 10, \"11\": 2}, \"3\": {\"6\": 9, \"9\": 20, \"3\": 49, \"10\": 29, \"1\": 47, \"2\": 19, \"12\": 30, \"4\": 2, \"11\": 3, \"7\": 21, \"13\": 7, \"14\": 3, \"15\": 1}, \"15\": {\"4\": 44, \"5\": 36, \"0\": 39, \"15\": 41, \"14\": 28, \"6\": 1, \"8\": 34, \"3\": 5, \"11\": 3, \"7\": 1, \"9\": 6, \"13\": 2}, \"2\": {\"6\": 15, \"3\": 22, \"11\": 6, \"2\": 43, \"12\": 21, \"1\": 46, \"7\": 16, \"10\": 31, \"9\": 22, \"13\": 16, \"5\": 1, \"4\": 1}, \"12\": {\"2\": 32, \"3\": 21, \"10\": 60, \"1\": 39, \"12\": 59, \"9\": 10, \"7\": 15, \"6\": 1, \"13\": 3}, \"4\": {\"4\": 50, \"13\": 31, \"15\": 13, \"5\": 26, \"14\": 48, \"8\": 8, \"7\": 6, \"11\": 8, \"6\": 5, \"9\": 23, \"0\": 15, \"3\": 5, \"1\": 2}, \"1\": {\"1\": 41, \"2\": 34, \"3\": 37, \"10\": 46, \"12\": 40, \"13\": 8, \"6\": 10, \"9\": 10, \"11\": 1, \"7\": 11, \"14\": 1, \"4\": 1}, \"0\": {\"8\": 59, \"0\": 55, \"4\": 20, \"5\": 42, \"15\": 45, \"14\": 16, \"9\": 1, \"13\": 2}, \"9\": {\"9\": 37, \"7\": 25, \"4\": 11, \"6\": 26, \"13\": 40, \"2\": 20, \"11\": 35, \"3\": 10, \"15\": 1, \"1\": 11, \"14\": 7, \"12\": 8, \"5\": 3, \"10\": 5, \"0\": 1}, \"5\": {\"4\": 34, \"14\": 39, \"0\": 30, \"8\": 36, \"15\": 36, \"9\": 3, \"5\": 56, \"7\": 1, \"6\": 1, \"11\": 1, \"3\": 1, \"13\": 2}, \"6\": {\"12\": 6, \"4\": 14, \"9\": 35, \"3\": 12, \"13\": 28, \"2\": 25, \"6\": 41, \"11\": 30, \"7\": 29, \"1\": 8, \"14\": 3, \"10\": 8, \"5\": 1}, \"7\": {\"10\": 20, \"6\": 30, \"3\": 26, \"2\": 16, \"11\": 25, \"9\": 30, \"13\": 24, \"1\": 20, \"7\": 28, \"12\": 10, \"14\": 3, \"4\": 8}, \"13\": {\"6\": 39, \"11\": 35, \"9\": 29, \"7\": 26, \"2\": 7, \"3\": 12, \"13\": 43, \"4\": 17, \"12\": 5, \"1\": 9, \"10\": 7, \"14\": 9, \"5\": 1, \"0\": 1}}, \"ORACLE.run1_8\": {\"13\": {\"6\": 16, \"8\": 7, \"1\": 22, \"0\": 23, \"10\": 15, \"2\": 18, \"5\": 16, \"13\": 25, \"11\": 13, \"3\": 15, \"12\": 8, \"7\": 15, \"14\": 18, \"4\": 19, \"15\": 5, \"9\": 5}, \"3\": {\"3\": 44, \"2\": 35, \"12\": 39, \"15\": 26, \"8\": 15, \"6\": 19, \"0\": 11, \"5\": 4, \"7\": 10, \"4\": 6, \"10\": 7, \"14\": 5, \"1\": 3, \"13\": 13, \"11\": 3}, \"15\": {\"11\": 18, \"5\": 5, \"3\": 27, \"0\": 11, \"4\": 6, \"6\": 23, \"8\": 23, \"15\": 36, \"12\": 23, \"2\": 24, \"7\": 12, \"13\": 11, \"10\": 6, \"1\": 10, \"14\": 5}, \"4\": {\"0\": 19, \"11\": 14, \"8\": 8, \"4\": 18, \"9\": 4, \"15\": 19, \"5\": 21, \"2\": 15, \"1\": 19, \"7\": 16, \"6\": 25, \"13\": 14, \"14\": 12, \"10\": 21, \"3\": 7, \"12\": 8}, \"7\": {\"7\": 16, \"6\": 18, \"3\": 19, \"10\": 14, \"4\": 15, \"8\": 12, \"14\": 22, \"0\": 17, \"13\": 22, \"1\": 12, \"2\": 25, \"15\": 10, \"12\": 13, \"11\": 16, \"5\": 7, \"9\": 2}, \"2\": {\"3\": 37, \"4\": 13, \"15\": 24, \"0\": 17, \"7\": 16, \"11\": 11, \"12\": 21, \"10\": 7, \"5\": 5, \"8\": 13, \"2\": 43, \"13\": 8, \"6\": 5, \"14\": 12, \"1\": 8}, \"1\": {\"9\": 7, \"0\": 10, \"2\": 8, \"1\": 32, \"8\": 16, \"5\": 24, \"11\": 28, \"15\": 12, \"7\": 15, \"14\": 22, \"4\": 9, \"6\": 19, \"12\": 10, \"13\": 7, \"10\": 15, \"3\": 6}, \"0\": {\"13\": 30, \"9\": 5, \"8\": 12, \"15\": 10, \"0\": 28, \"6\": 17, \"10\": 17, \"14\": 10, \"12\": 8, \"5\": 15, \"7\": 14, \"2\": 10, \"4\": 20, \"1\": 16, \"11\": 17, \"3\": 11}, \"12\": {\"11\": 21, \"2\": 32, \"6\": 15, \"3\": 32, \"12\": 27, \"10\": 7, \"15\": 33, \"5\": 5, \"0\": 8, \"7\": 9, \"13\": 9, \"4\": 10, \"1\": 4, \"14\": 8, \"8\": 20}, \"6\": {\"7\": 15, \"4\": 21, \"8\": 19, \"5\": 19, \"1\": 18, \"10\": 12, \"11\": 9, \"14\": 17, \"13\": 22, \"2\": 18, \"0\": 15, \"12\": 13, \"3\": 16, \"6\": 13, \"9\": 2, \"15\": 11}, \"11\": {\"1\": 35, \"12\": 9, \"14\": 10, \"5\": 31, \"7\": 12, \"0\": 8, \"10\": 14, \"11\": 35, \"4\": 19, \"8\": 16, \"15\": 15, \"6\": 13, \"13\": 15, \"2\": 5, \"9\": 2, \"3\": 1}, \"9\": {\"9\": 137, \"10\": 15, \"4\": 18, \"5\": 21, \"8\": 3, \"7\": 3, \"3\": 1, \"11\": 2, \"14\": 6, \"1\": 7, \"15\": 1, \"0\": 12, \"13\": 10, \"2\": 2, \"6\": 2}, \"5\": {\"13\": 19, \"12\": 3, \"15\": 3, \"1\": 27, \"14\": 21, \"7\": 14, \"0\": 15, \"9\": 16, \"10\": 18, \"4\": 14, \"11\": 27, \"3\": 2, \"5\": 28, \"8\": 10, \"6\": 14, \"2\": 9}, \"10\": {\"5\": 21, \"7\": 18, \"6\": 14, \"0\": 26, \"13\": 14, \"10\": 27, \"8\": 13, \"1\": 30, \"3\": 7, \"11\": 10, \"12\": 5, \"15\": 4, \"14\": 11, \"4\": 16, \"9\": 11, \"2\": 13}, \"14\": {\"11\": 19, \"7\": 9, \"2\": 13, \"4\": 27, \"0\": 21, \"13\": 21, \"14\": 17, \"8\": 11, \"5\": 17, \"10\": 17, \"6\": 19, \"9\": 6, \"15\": 11, \"1\": 17, \"12\": 8, \"3\": 7}, \"8\": {\"3\": 15, \"10\": 7, \"1\": 19, \"7\": 13, \"6\": 13, \"12\": 28, \"0\": 11, \"11\": 25, \"4\": 19, \"2\": 14, \"13\": 11, \"8\": 21, \"15\": 21, \"14\": 18, \"5\": 5}}, \"ORACLE.run1_20\": {\"6\": {\"8\": 19, \"10\": 24, \"13\": 17, \"12\": 15, \"7\": 23, \"14\": 25, \"11\": 17, \"0\": 6, \"6\": 30, \"2\": 15, \"9\": 12, \"15\": 5, \"3\": 11, \"4\": 14, \"1\": 4, \"5\": 3}, \"11\": {\"14\": 15, \"13\": 19, \"12\": 15, \"10\": 12, \"11\": 44, \"15\": 12, \"6\": 17, \"1\": 14, \"2\": 24, \"4\": 11, \"8\": 8, \"5\": 8, \"7\": 12, \"9\": 12, \"3\": 11, \"0\": 6}, \"5\": {\"5\": 20, \"8\": 12, \"6\": 9, \"1\": 22, \"9\": 10, \"7\": 12, \"12\": 14, \"15\": 22, \"3\": 16, \"4\": 14, \"2\": 10, \"13\": 25, \"14\": 10, \"10\": 11, \"11\": 11, \"0\": 22}, \"14\": {\"6\": 26, \"4\": 15, \"0\": 8, \"11\": 15, \"14\": 27, \"3\": 12, \"8\": 22, \"5\": 14, \"9\": 8, \"15\": 4, \"7\": 25, \"10\": 30, \"2\": 13, \"13\": 8, \"12\": 10, \"1\": 3}, \"2\": {\"7\": 11, \"5\": 21, \"12\": 15, \"9\": 15, \"1\": 18, \"6\": 15, \"0\": 11, \"10\": 15, \"11\": 15, \"2\": 16, \"3\": 13, \"8\": 14, \"15\": 19, \"13\": 14, \"14\": 7, \"4\": 21}, \"7\": {\"8\": 20, \"4\": 14, \"15\": 12, \"9\": 14, \"13\": 13, \"14\": 20, \"0\": 8, \"12\": 24, \"6\": 12, \"2\": 16, \"7\": 18, \"5\": 8, \"10\": 19, \"1\": 10, \"11\": 18, \"3\": 14}, \"3\": {\"8\": 22, \"12\": 19, \"15\": 22, \"4\": 15, \"6\": 11, \"14\": 9, \"9\": 14, \"2\": 11, \"0\": 16, \"13\": 10, \"1\": 18, \"5\": 14, \"10\": 16, \"7\": 16, \"11\": 11, \"3\": 16}, \"4\": {\"14\": 20, \"5\": 15, \"7\": 16, \"1\": 20, \"9\": 13, \"12\": 15, \"3\": 18, \"0\": 17, \"8\": 21, \"4\": 14, \"10\": 19, \"15\": 9, \"6\": 11, \"2\": 11, \"13\": 9, \"11\": 12}, \"9\": {\"13\": 13, \"8\": 9, \"3\": 17, \"11\": 16, \"6\": 20, \"14\": 9, \"5\": 18, \"10\": 8, \"9\": 13, \"2\": 24, \"1\": 13, \"7\": 16, \"12\": 16, \"0\": 15, \"15\": 19, \"4\": 14}, \"12\": {\"11\": 18, \"0\": 18, \"6\": 10, \"9\": 14, \"10\": 14, \"3\": 15, \"13\": 20, \"2\": 13, \"1\": 17, \"12\": 22, \"4\": 15, \"5\": 18, \"15\": 17, \"7\": 17, \"14\": 7, \"8\": 5}, \"0\": {\"7\": 11, \"9\": 22, \"6\": 8, \"4\": 22, \"8\": 11, \"14\": 11, \"15\": 26, \"0\": 24, \"13\": 16, \"12\": 11, \"5\": 18, \"2\": 14, \"1\": 22, \"10\": 8, \"3\": 10, \"11\": 6}, \"10\": {\"4\": 20, \"7\": 14, \"8\": 21, \"6\": 19, \"5\": 12, \"3\": 8, \"12\": 15, \"9\": 10, \"0\": 9, \"10\": 21, \"15\": 13, \"11\": 18, \"1\": 8, \"14\": 27, \"2\": 16, \"13\": 9}, \"8\": {\"10\": 19, \"4\": 18, \"2\": 13, \"0\": 14, \"13\": 18, \"1\": 12, \"11\": 10, \"6\": 18, \"8\": 20, \"9\": 12, \"14\": 22, \"15\": 18, \"12\": 14, \"5\": 10, \"3\": 8, \"7\": 14}, \"13\": {\"5\": 16, \"11\": 18, \"2\": 14, \"1\": 19, \"8\": 11, \"0\": 18, \"14\": 8, \"9\": 18, \"15\": 20, \"13\": 19, \"6\": 8, \"12\": 19, \"7\": 18, \"10\": 12, \"4\": 10, \"3\": 12}, \"1\": {\"9\": 15, \"7\": 8, \"1\": 20, \"15\": 29, \"14\": 10, \"13\": 17, \"2\": 17, \"10\": 6, \"0\": 27, \"5\": 19, \"12\": 18, \"6\": 10, \"4\": 12, \"11\": 8, \"3\": 15, \"8\": 9}, \"15\": {\"12\": 17, \"9\": 15, \"8\": 16, \"1\": 19, \"13\": 18, \"15\": 21, \"10\": 10, \"0\": 19, \"2\": 16, \"5\": 25, \"6\": 9, \"11\": 8, \"4\": 10, \"7\": 8, \"14\": 10, \"3\": 19}}, \"ORACLE.run1_38\": {\"3\": {\"4\": 4, \"5\": 12, \"0\": 17, \"3\": 90, \"6\": 24, \"9\": 53, \"7\": 23, \"8\": 8, \"1\": 5, \"15\": 2, \"10\": 1, \"13\": 1}, \"8\": {\"15\": 21, \"12\": 13, \"9\": 17, \"8\": 24, \"10\": 17, \"11\": 7, \"5\": 22, \"6\": 13, \"4\": 6, \"14\": 12, \"7\": 27, \"0\": 24, \"3\": 3, \"1\": 14, \"13\": 16, \"2\": 4}, \"0\": {\"10\": 16, \"0\": 37, \"5\": 18, \"3\": 23, \"9\": 15, \"11\": 8, \"15\": 12, \"4\": 14, \"7\": 23, \"1\": 9, \"6\": 17, \"8\": 29, \"2\": 1, \"14\": 5, \"12\": 4, \"13\": 9}, \"2\": {\"14\": 31, \"11\": 27, \"1\": 25, \"10\": 13, \"8\": 5, \"13\": 38, \"15\": 25, \"2\": 65, \"12\": 3, \"0\": 2, \"5\": 2, \"7\": 1, \"4\": 1, \"6\": 1, \"9\": 1}, \"4\": {\"7\": 22, \"12\": 68, \"0\": 12, \"11\": 10, \"5\": 5, \"4\": 92, \"14\": 9, \"10\": 9, \"6\": 3, \"3\": 3, \"8\": 1, \"13\": 1, \"15\": 4, \"2\": 1}, \"7\": {\"0\": 33, \"12\": 11, \"10\": 18, \"5\": 22, \"3\": 31, \"14\": 3, \"7\": 28, \"4\": 17, \"8\": 22, \"6\": 18, \"9\": 15, \"15\": 7, \"11\": 4, \"13\": 5, \"1\": 5, \"2\": 1}, \"12\": {\"4\": 46, \"12\": 78, \"11\": 26, \"10\": 21, \"7\": 12, \"14\": 20, \"8\": 13, \"5\": 5, \"15\": 5, \"0\": 7, \"1\": 1, \"3\": 3, \"2\": 2, \"13\": 1}, \"6\": {\"0\": 12, \"9\": 51, \"3\": 30, \"1\": 19, \"5\": 15, \"6\": 49, \"8\": 15, \"10\": 7, \"13\": 4, \"7\": 19, \"15\": 14, \"11\": 2, \"14\": 2, \"12\": 1}, \"15\": {\"8\": 18, \"5\": 23, \"2\": 20, \"6\": 19, \"15\": 19, \"1\": 27, \"13\": 27, \"11\": 13, \"10\": 22, \"4\": 1, \"3\": 6, \"14\": 16, \"9\": 8, \"12\": 5, \"7\": 9, \"0\": 7}, \"11\": {\"11\": 69, \"12\": 22, \"1\": 7, \"14\": 45, \"10\": 24, \"5\": 5, \"0\": 6, \"15\": 10, \"4\": 5, \"2\": 32, \"13\": 8, \"7\": 3, \"6\": 1, \"8\": 3}, \"9\": {\"8\": 13, \"5\": 23, \"9\": 58, \"7\": 20, \"6\": 34, \"3\": 44, \"15\": 8, \"13\": 8, \"0\": 14, \"10\": 3, \"1\": 10, \"12\": 3, \"2\": 1, \"4\": 1}, \"14\": {\"11\": 67, \"10\": 20, \"2\": 24, \"13\": 12, \"12\": 15, \"14\": 58, \"5\": 7, \"0\": 5, \"15\": 10, \"1\": 4, \"8\": 8, \"4\": 8, \"7\": 2}, \"10\": {\"1\": 10, \"11\": 22, \"10\": 36, \"14\": 28, \"13\": 19, \"4\": 10, \"2\": 12, \"6\": 5, \"12\": 14, \"0\": 13, \"5\": 14, \"7\": 14, \"15\": 20, \"9\": 4, \"8\": 17, \"3\": 2}, \"5\": {\"7\": 18, \"3\": 25, \"13\": 13, \"6\": 24, \"8\": 21, \"5\": 25, \"0\": 27, \"1\": 14, \"9\": 16, \"12\": 9, \"15\": 15, \"14\": 4, \"10\": 12, \"2\": 8, \"4\": 4, \"11\": 5}, \"1\": {\"1\": 37, \"2\": 13, \"6\": 20, \"15\": 22, \"8\": 13, \"3\": 7, \"5\": 24, \"13\": 36, \"9\": 21, \"0\": 8, \"10\": 17, \"14\": 6, \"11\": 7, \"12\": 4, \"7\": 4, \"4\": 1}, \"13\": {\"15\": 26, \"13\": 34, \"11\": 13, \"1\": 28, \"8\": 19, \"2\": 35, \"5\": 12, \"0\": 12, \"10\": 15, \"6\": 12, \"9\": 7, \"14\": 19, \"7\": 4, \"4\": 2, \"3\": 1, \"12\": 1}}, \"ORACLE.run1_26\": {\"5\": {\"10\": 18, \"14\": 14, \"6\": 16, \"8\": 20, \"5\": 25, \"2\": 23, \"12\": 9, \"1\": 10, \"15\": 9, \"9\": 13, \"7\": 13, \"4\": 10, \"13\": 28, \"3\": 18, \"0\": 9, \"11\": 5}, \"8\": {\"0\": 15, \"8\": 13, \"4\": 19, \"2\": 18, \"6\": 14, \"15\": 10, \"5\": 20, \"13\": 17, \"7\": 19, \"9\": 20, \"14\": 20, \"3\": 15, \"10\": 11, \"1\": 19, \"12\": 7, \"11\": 3}, \"4\": {\"4\": 23, \"10\": 20, \"0\": 17, \"3\": 11, \"6\": 18, \"9\": 15, \"7\": 23, \"13\": 8, \"15\": 18, \"5\": 15, \"2\": 17, \"1\": 19, \"14\": 13, \"12\": 5, \"8\": 18}, \"12\": {\"12\": 78, \"13\": 10, \"8\": 9, \"2\": 3, \"11\": 36, \"6\": 21, \"0\": 12, \"9\": 13, \"15\": 13, \"10\": 14, \"1\": 10, \"4\": 7, \"7\": 2, \"5\": 5, \"14\": 6, \"3\": 1}, \"6\": {\"4\": 20, \"12\": 29, \"6\": 21, \"1\": 15, \"9\": 20, \"15\": 16, \"7\": 14, \"13\": 14, \"5\": 15, \"8\": 16, \"10\": 12, \"3\": 16, \"11\": 6, \"2\": 5, \"14\": 12, \"0\": 9}, \"7\": {\"8\": 21, \"5\": 11, \"0\": 15, \"15\": 15, \"7\": 17, \"3\": 31, \"6\": 10, \"10\": 12, \"4\": 15, \"14\": 13, \"2\": 20, \"9\": 20, \"1\": 17, \"13\": 18, \"12\": 5}, \"10\": {\"6\": 23, \"8\": 18, \"11\": 7, \"0\": 14, \"2\": 8, \"1\": 19, \"15\": 15, \"10\": 20, \"13\": 14, \"5\": 16, \"7\": 19, \"3\": 17, \"12\": 11, \"14\": 16, \"9\": 14, \"4\": 9}, \"0\": {\"5\": 9, \"0\": 25, \"13\": 11, \"1\": 25, \"10\": 25, \"15\": 10, \"4\": 16, \"6\": 11, \"11\": 4, \"14\": 16, \"2\": 17, \"12\": 11, \"8\": 18, \"3\": 15, \"9\": 14, \"7\": 13}, \"15\": {\"2\": 19, \"12\": 12, \"10\": 13, \"5\": 21, \"9\": 15, \"8\": 21, \"1\": 13, \"0\": 19, \"6\": 25, \"3\": 15, \"15\": 11, \"7\": 7, \"4\": 16, \"13\": 15, \"14\": 14, \"11\": 4}, \"9\": {\"0\": 15, \"6\": 20, \"10\": 17, \"13\": 15, \"1\": 7, \"15\": 15, \"11\": 5, \"2\": 20, \"12\": 14, \"7\": 15, \"4\": 14, \"9\": 19, \"8\": 20, \"3\": 10, \"14\": 14, \"5\": 20}, \"11\": {\"11\": 111, \"2\": 4, \"12\": 49, \"15\": 15, \"5\": 9, \"8\": 4, \"13\": 18, \"10\": 7, \"6\": 5, \"9\": 7, \"0\": 4, \"7\": 3, \"4\": 2, \"3\": 2}, \"14\": {\"1\": 39, \"0\": 23, \"2\": 19, \"3\": 17, \"10\": 15, \"15\": 11, \"9\": 12, \"14\": 19, \"8\": 12, \"6\": 18, \"13\": 8, \"12\": 10, \"7\": 14, \"4\": 11, \"5\": 11, \"11\": 1}, \"2\": {\"6\": 9, \"15\": 14, \"8\": 12, \"5\": 19, \"13\": 9, \"4\": 21, \"9\": 19, \"11\": 5, \"1\": 15, \"10\": 13, \"14\": 17, \"0\": 12, \"3\": 32, \"2\": 20, \"7\": 22, \"12\": 1}, \"13\": {\"6\": 18, \"13\": 27, \"12\": 12, \"4\": 11, \"15\": 20, \"8\": 20, \"5\": 20, \"7\": 16, \"9\": 13, \"3\": 15, \"10\": 16, \"14\": 9, \"11\": 10, \"1\": 13, \"0\": 3, \"2\": 17}, \"3\": {\"4\": 20, \"7\": 17, \"8\": 13, \"2\": 19, \"0\": 10, \"11\": 2, \"3\": 26, \"10\": 21, \"15\": 16, \"14\": 15, \"13\": 19, \"9\": 21, \"5\": 13, \"1\": 17, \"6\": 9, \"12\": 2}, \"1\": {\"14\": 22, \"1\": 21, \"4\": 18, \"9\": 15, \"8\": 29, \"10\": 14, \"3\": 12, \"6\": 20, \"0\": 16, \"13\": 10, \"5\": 16, \"2\": 12, \"7\": 22, \"15\": 9, \"12\": 4}}}, \"per_domain_accuracy\": {\"CORES_4\": {\"accuracy\": 0.9994318181818181, \"source?\": true}, \"CORES_2\": {\"accuracy\": 0.9998244382022472, \"source?\": true}, \"CORES_3\": {\"accuracy\": 0.9996279761904762, \"source?\": true}, \"CORES_1\": {\"accuracy\": 0.9998310810810811, \"source?\": true}, \"CORES_5\": {\"accuracy\": 0.9996508379888268, \"source?\": true}, \"ORACLE.run1_50\": {\"accuracy\": 0.18984375, \"source?\": false}, \"ORACLE.run1_14\": {\"accuracy\": 0.18177083333333333, \"source?\": false}, \"ORACLE.run1_32\": {\"accuracy\": 0.25286458333333334, \"source?\": false}, \"ORACLE.run1_44\": {\"accuracy\": 0.19947916666666668, \"source?\": false}, \"ORACLE.run1_8\": {\"accuracy\": 0.14244791666666667, \"source?\": false}, \"ORACLE.run1_20\": {\"accuracy\": 0.08984375, \"source?\": false}, \"ORACLE.run1_38\": {\"accuracy\": 0.20807291666666666, \"source?\": false}, \"ORACLE.run1_26\": {\"accuracy\": 0.12395833333333334, \"source?\": false}}}, \"history\": {\"epoch_indices\": [1, 2, 3, 4, 5, 6, 7, 8, 9, 10, 11, 12, 13], \"train_label_loss\": [0.02692659643517275, 0.006901793920700413, 0.004304522515655512, 0.004101933515270678, 0.0036860918355155915, 0.0028758241363973027, 0.003101048799491406, 0.0023500850645755095, 0.002195753669938133, 0.0019571969838578485, 0.002347391481966523, 0.002268631854829803, 0.0019086125339038455], \"source_val_label_loss\": [0.003994709346443415, 0.007409099489450455, 0.012356100603938103, 0.00633486220613122, 0.006810539867728949, 0.008527828380465508, 0.01002980675548315, 0.009487601928412914, 0.008206835947930813, 0.009959260001778603, 0.01115272007882595, 0.009184404276311398, 0.009061315096914768], \"target_val_label_loss\": [2.8187174797058105, 3.307648181915283, 3.9090652465820312, 3.8225836753845215, 3.895688056945801, 4.357467174530029, 4.479318141937256, 4.7168378829956055, 4.856063365936279, 4.950994968414307, 5.246690273284912, 5.854427814483643, 5.6646552085876465], \"source_val_acc_label\": [0.9991428571428571, 0.9988928571428571, 0.9982857142857143, 0.9994285714285714, 0.9991071428571429, 0.9994642857142857, 0.99925, 0.9990714285714286, 0.9996785714285714, 0.9992857142857143, 0.9992142857142857, 0.9994285714285714, 0.9996428571428572], \"target_val_acc_label\": [0.12662760416666666, 0.13538411458333333, 0.15807291666666667, 0.159375, 0.16005859375, 0.15341796875, 0.15745442708333332, 0.16038411458333332, 0.17353515625, 0.1587890625, 0.15387369791666666, 0.17327473958333334, 0.16907552083333333]}, \"dataset_metrics\": {\"source\": {\"train\": {\"n_unique_x\": 175211, \"n_unique_y\": 58, \"n_batch/episode\": 6315}, \"val\": {\"n_unique_x\": 37166, \"n_unique_y\": 58, \"n_batch/episode\": 875}, \"test\": {\"n_unique_x\": 37642, \"n_unique_y\": 58, \"n_batch/episode\": 890}}, \"target\": {\"train\": {\"n_unique_x\": 179200, \"n_unique_y\": 16, \"n_batch/episode\": 6720}, \"val\": {\"n_unique_x\": 38400, \"n_unique_y\": 16, \"n_batch/episode\": 960}, \"test\": {\"n_unique_x\": 38400, \"n_unique_y\": 16, \"n_batch/episode\": 960}}}}'"
      ]
     },
     "execution_count": 29,
     "metadata": {},
     "output_type": "execute_result"
    }
   ],
   "source": [
    "json.dumps(experiment)"
   ]
  }
 ],
 "metadata": {
  "celltoolbar": "Tags",
  "kernelspec": {
   "display_name": "Python 3 (ipykernel)",
   "language": "python",
   "name": "python3"
  },
  "language_info": {
   "codemirror_mode": {
    "name": "ipython",
    "version": 3
   },
   "file_extension": ".py",
   "mimetype": "text/x-python",
   "name": "python",
   "nbconvert_exporter": "python",
   "pygments_lexer": "ipython3",
   "version": "3.8.12"
  },
  "papermill": {
   "default_parameters": {},
   "duration": 2775.79012,
   "end_time": "2022-03-22T17:45:21.953862",
   "environment_variables": {},
   "exception": null,
   "input_path": "/root/csc500-main/csc500-notebooks/templates/tl_ptn_template.ipynb",
   "output_path": "trial.ipynb",
   "parameters": {
    "parameters": {
     "BEST_MODEL_PATH": "./best_model.pth",
     "NUM_LOGS_PER_EPOCH": 10,
     "criteria_for_best": "target_accuracy",
     "dataset_seed": 500,
     "datasets": [
      {
       "domain_prefix": "CORES_",
       "domains": [
        1,
        2,
        3,
        4,
        5
       ],
       "episode_transforms": [],
       "labels": [
        "1-10.",
        "1-11.",
        "1-15.",
        "1-16.",
        "1-17.",
        "1-18.",
        "1-19.",
        "10-4.",
        "10-7.",
        "11-1.",
        "11-14.",
        "11-17.",
        "11-20.",
        "11-7.",
        "13-20.",
        "13-8.",
        "14-10.",
        "14-11.",
        "14-14.",
        "14-7.",
        "15-1.",
        "15-20.",
        "16-1.",
        "16-16.",
        "17-10.",
        "17-11.",
        "17-2.",
        "19-1.",
        "19-16.",
        "19-19.",
        "19-20.",
        "19-3.",
        "2-10.",
        "2-11.",
        "2-17.",
        "2-18.",
        "2-20.",
        "2-3.",
        "2-4.",
        "2-5.",
        "2-6.",
        "2-7.",
        "2-8.",
        "3-13.",
        "3-18.",
        "3-3.",
        "4-1.",
        "4-10.",
        "4-11.",
        "4-19.",
        "5-5.",
        "6-15.",
        "7-10.",
        "7-14.",
        "8-18.",
        "8-20.",
        "8-3.",
        "8-8."
       ],
       "num_examples_per_domain_per_label": -1,
       "pickle_path": "/root/csc500-main/datasets/cores.stratified_ds.2022A.pkl",
       "source_or_target_dataset": "source",
       "x_transforms": [
        "unit_power"
       ]
      },
      {
       "domain_prefix": "ORACLE.run1_",
       "domains": [
        32,
        38,
        8,
        44,
        14,
        50,
        20,
        26
       ],
       "episode_transforms": [],
       "labels": [
        "3123D52",
        "3123D65",
        "3123D79",
        "3123D80",
        "3123D54",
        "3123D70",
        "3123D7B",
        "3123D89",
        "3123D58",
        "3123D76",
        "3123D7D",
        "3123EFE",
        "3123D64",
        "3123D78",
        "3123D7E",
        "3124E4A"
       ],
       "num_examples_per_domain_per_label": 2000,
       "pickle_path": "/root/csc500-main/datasets/oracle.Run1_10kExamples_stratified_ds.2022A.pkl",
       "source_or_target_dataset": "target",
       "x_transforms": [
        "unit_power"
       ]
      }
     ],
     "device": "cuda",
     "experiment_name": "tl_1v2:cores-oracle.run1.limited",
     "lr": 0.0001,
     "n_epoch": 50,
     "n_query": 2,
     "n_shot": 3,
     "n_way": 16,
     "patience": 3,
     "seed": 500,
     "test_k_factor": 2,
     "torch_default_dtype": "torch.float32",
     "train_k_factor": 3,
     "val_k_factor": 2,
     "x_net": [
      {
       "class": "nnReshape",
       "kargs": {
        "shape": [
         -1,
         1,
         2,
         256
        ]
       }
      },
      {
       "class": "Conv2d",
       "kargs": {
        "bias": false,
        "in_channels": 1,
        "kernel_size": [
         1,
         7
        ],
        "out_channels": 256,
        "padding": [
         0,
         3
        ]
       }
      },
      {
       "class": "ReLU",
       "kargs": {
        "inplace": true
       }
      },
      {
       "class": "BatchNorm2d",
       "kargs": {
        "num_features": 256
       }
      },
      {
       "class": "Conv2d",
       "kargs": {
        "bias": true,
        "in_channels": 256,
        "kernel_size": [
         2,
         7
        ],
        "out_channels": 80,
        "padding": [
         0,
         3
        ]
       }
      },
      {
       "class": "ReLU",
       "kargs": {
        "inplace": true
       }
      },
      {
       "class": "BatchNorm2d",
       "kargs": {
        "num_features": 80
       }
      },
      {
       "class": "Flatten",
       "kargs": {}
      },
      {
       "class": "Linear",
       "kargs": {
        "in_features": 20480,
        "out_features": 256
       }
      },
      {
       "class": "ReLU",
       "kargs": {
        "inplace": true
       }
      },
      {
       "class": "BatchNorm1d",
       "kargs": {
        "num_features": 256
       }
      },
      {
       "class": "Linear",
       "kargs": {
        "in_features": 256,
        "out_features": 256
       }
      }
     ]
    }
   },
   "start_time": "2022-03-22T16:59:06.163742",
   "version": "2.3.4"
  }
 },
 "nbformat": 4,
 "nbformat_minor": 5
}