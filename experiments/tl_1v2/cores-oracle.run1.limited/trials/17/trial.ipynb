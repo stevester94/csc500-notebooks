{
 "cells": [
  {
   "cell_type": "markdown",
   "id": "9fea5f46",
   "metadata": {
    "papermill": {
     "duration": 0.02821,
     "end_time": "2022-03-22T13:12:08.354930",
     "exception": false,
     "start_time": "2022-03-22T13:12:08.326720",
     "status": "completed"
    },
    "tags": []
   },
   "source": [
    "# Transfer Learning Template"
   ]
  },
  {
   "cell_type": "code",
   "execution_count": 1,
   "id": "0902182a",
   "metadata": {
    "execution": {
     "iopub.execute_input": "2022-03-22T13:12:08.417616Z",
     "iopub.status.busy": "2022-03-22T13:12:08.416762Z",
     "iopub.status.idle": "2022-03-22T13:12:10.309207Z",
     "shell.execute_reply": "2022-03-22T13:12:10.308725Z"
    },
    "papermill": {
     "duration": 1.93078,
     "end_time": "2022-03-22T13:12:10.309306",
     "exception": false,
     "start_time": "2022-03-22T13:12:08.378526",
     "status": "completed"
    },
    "tags": []
   },
   "outputs": [],
   "source": [
    "%load_ext autoreload\n",
    "%autoreload 2\n",
    "%matplotlib inline\n",
    "\n",
    "    \n",
    "import os, json, sys, time, random\n",
    "import numpy as np\n",
    "import torch\n",
    "from torch.optim import Adam\n",
    "from  easydict import EasyDict\n",
    "import matplotlib.pyplot as plt\n",
    "\n",
    "from steves_models.steves_ptn import Steves_Prototypical_Network\n",
    "\n",
    "from steves_utils.lazy_iterable_wrapper import Lazy_Iterable_Wrapper\n",
    "from steves_utils.iterable_aggregator import Iterable_Aggregator\n",
    "from steves_utils.ptn_train_eval_test_jig import  PTN_Train_Eval_Test_Jig\n",
    "from steves_utils.torch_sequential_builder import build_sequential\n",
    "from steves_utils.torch_utils import get_dataset_metrics, ptn_confusion_by_domain_over_dataloader\n",
    "from steves_utils.utils_v2 import (per_domain_accuracy_from_confusion, get_datasets_base_path)\n",
    "from steves_utils.PTN.utils import independent_accuracy_assesment\n",
    "\n",
    "from torch.utils.data import DataLoader\n",
    "\n",
    "from steves_utils.stratified_dataset.episodic_accessor import Episodic_Accessor_Factory\n",
    "\n",
    "from steves_utils.ptn_do_report import (\n",
    "    get_loss_curve,\n",
    "    get_results_table,\n",
    "    get_parameters_table,\n",
    "    get_domain_accuracies,\n",
    ")\n",
    "\n",
    "from steves_utils.transforms import get_chained_transform"
   ]
  },
  {
   "cell_type": "markdown",
   "id": "41c840b4",
   "metadata": {
    "papermill": {
     "duration": 0.020521,
     "end_time": "2022-03-22T13:12:10.355639",
     "exception": false,
     "start_time": "2022-03-22T13:12:10.335118",
     "status": "completed"
    },
    "tags": []
   },
   "source": [
    "# Allowed Parameters\n",
    "These are allowed parameters, not defaults\n",
    "Each of these values need to be present in the injected parameters (the notebook will raise an exception if they are not present)\n",
    "\n",
    "Papermill uses the cell tag \"parameters\" to inject the real parameters below this cell.\n",
    "Enable tags to see what I mean"
   ]
  },
  {
   "cell_type": "code",
   "execution_count": 2,
   "id": "fd44eb83",
   "metadata": {
    "execution": {
     "iopub.execute_input": "2022-03-22T13:12:10.401241Z",
     "iopub.status.busy": "2022-03-22T13:12:10.400652Z",
     "iopub.status.idle": "2022-03-22T13:12:10.426064Z",
     "shell.execute_reply": "2022-03-22T13:12:10.425249Z"
    },
    "papermill": {
     "duration": 0.050264,
     "end_time": "2022-03-22T13:12:10.426223",
     "exception": false,
     "start_time": "2022-03-22T13:12:10.375959",
     "status": "completed"
    },
    "tags": []
   },
   "outputs": [],
   "source": [
    "required_parameters = {\n",
    "    \"experiment_name\",\n",
    "    \"lr\",\n",
    "    \"device\",\n",
    "    \"seed\",\n",
    "    \"dataset_seed\",\n",
    "    \"n_shot\",\n",
    "    \"n_query\",\n",
    "    \"n_way\",\n",
    "    \"train_k_factor\",\n",
    "    \"val_k_factor\",\n",
    "    \"test_k_factor\",\n",
    "    \"n_epoch\",\n",
    "    \"patience\",\n",
    "    \"criteria_for_best\",\n",
    "    \"x_net\",\n",
    "    \"datasets\",\n",
    "    \"torch_default_dtype\",\n",
    "    \"NUM_LOGS_PER_EPOCH\",\n",
    "    \"BEST_MODEL_PATH\",\n",
    "    \"x_shape\",\n",
    "}"
   ]
  },
  {
   "cell_type": "code",
   "execution_count": 3,
   "id": "fa3f0049",
   "metadata": {
    "execution": {
     "iopub.execute_input": "2022-03-22T13:12:10.488211Z",
     "iopub.status.busy": "2022-03-22T13:12:10.487230Z",
     "iopub.status.idle": "2022-03-22T13:12:10.508672Z",
     "shell.execute_reply": "2022-03-22T13:12:10.507943Z"
    },
    "papermill": {
     "duration": 0.056983,
     "end_time": "2022-03-22T13:12:10.508829",
     "exception": false,
     "start_time": "2022-03-22T13:12:10.451846",
     "status": "completed"
    },
    "tags": [
     "parameters"
    ]
   },
   "outputs": [],
   "source": [
    "from steves_utils.CORES.utils import (\n",
    "    ALL_NODES,\n",
    "    ALL_NODES_MINIMUM_1000_EXAMPLES,\n",
    "    ALL_DAYS\n",
    ")\n",
    "\n",
    "from steves_utils.ORACLE.utils_v2 import (\n",
    "    ALL_DISTANCES_FEET_NARROWED,\n",
    "    ALL_RUNS,\n",
    "    ALL_SERIAL_NUMBERS,\n",
    ")\n",
    "\n",
    "standalone_parameters = {}\n",
    "standalone_parameters[\"experiment_name\"] = \"STANDALONE PTN\"\n",
    "standalone_parameters[\"lr\"] = 0.001\n",
    "standalone_parameters[\"device\"] = \"cuda\"\n",
    "\n",
    "standalone_parameters[\"seed\"] = 1337\n",
    "standalone_parameters[\"dataset_seed\"] = 1337\n",
    "\n",
    "standalone_parameters[\"n_way\"] = 8\n",
    "standalone_parameters[\"n_shot\"] = 3\n",
    "standalone_parameters[\"n_query\"]  = 2\n",
    "standalone_parameters[\"train_k_factor\"] = 1\n",
    "standalone_parameters[\"val_k_factor\"] = 2\n",
    "standalone_parameters[\"test_k_factor\"] = 2\n",
    "\n",
    "\n",
    "standalone_parameters[\"n_epoch\"] = 50\n",
    "\n",
    "standalone_parameters[\"patience\"] = 10\n",
    "standalone_parameters[\"criteria_for_best\"] = \"source_loss\"\n",
    "\n",
    "standalone_parameters[\"datasets\"] = [\n",
    "    {\n",
    "        \"labels\": ALL_SERIAL_NUMBERS,\n",
    "        \"domains\": ALL_DISTANCES_FEET_NARROWED,\n",
    "        \"num_examples_per_domain_per_label\": 100,\n",
    "        \"pickle_path\": os.path.join(get_datasets_base_path(), \"oracle.Run1_framed_2000Examples_stratified_ds.2022A.pkl\"),\n",
    "        \"source_or_target_dataset\": \"source\",\n",
    "        \"x_transforms\": [\"unit_mag\", \"minus_two\"],\n",
    "        \"episode_transforms\": [],\n",
    "        \"domain_prefix\": \"ORACLE_\"\n",
    "    },\n",
    "    {\n",
    "        \"labels\": ALL_NODES,\n",
    "        \"domains\": ALL_DAYS,\n",
    "        \"num_examples_per_domain_per_label\": 100,\n",
    "        \"pickle_path\": os.path.join(get_datasets_base_path(), \"cores.stratified_ds.2022A.pkl\"),\n",
    "        \"source_or_target_dataset\": \"target\",\n",
    "        \"x_transforms\": [\"unit_power\", \"times_zero\"],\n",
    "        \"episode_transforms\": [],\n",
    "        \"domain_prefix\": \"CORES_\"\n",
    "    }   \n",
    "]\n",
    "\n",
    "standalone_parameters[\"torch_default_dtype\"] = \"torch.float32\" \n",
    "\n",
    "\n",
    "\n",
    "standalone_parameters[\"x_net\"] =     [\n",
    "    {\"class\": \"nnReshape\", \"kargs\": {\"shape\":[-1, 1, 2, 256]}},\n",
    "    {\"class\": \"Conv2d\", \"kargs\": { \"in_channels\":1, \"out_channels\":256, \"kernel_size\":(1,7), \"bias\":False, \"padding\":(0,3), },},\n",
    "    {\"class\": \"ReLU\", \"kargs\": {\"inplace\": True}},\n",
    "    {\"class\": \"BatchNorm2d\", \"kargs\": {\"num_features\":256}},\n",
    "\n",
    "    {\"class\": \"Conv2d\", \"kargs\": { \"in_channels\":256, \"out_channels\":80, \"kernel_size\":(2,7), \"bias\":True, \"padding\":(0,3), },},\n",
    "    {\"class\": \"ReLU\", \"kargs\": {\"inplace\": True}},\n",
    "    {\"class\": \"BatchNorm2d\", \"kargs\": {\"num_features\":80}},\n",
    "    {\"class\": \"Flatten\", \"kargs\": {}},\n",
    "\n",
    "    {\"class\": \"Linear\", \"kargs\": {\"in_features\": 80*256, \"out_features\": 256}}, # 80 units per IQ pair\n",
    "    {\"class\": \"ReLU\", \"kargs\": {\"inplace\": True}},\n",
    "    {\"class\": \"BatchNorm1d\", \"kargs\": {\"num_features\":256}},\n",
    "\n",
    "    {\"class\": \"Linear\", \"kargs\": {\"in_features\": 256, \"out_features\": 256}},\n",
    "]\n",
    "\n",
    "# Parameters relevant to results\n",
    "# These parameters will basically never need to change\n",
    "standalone_parameters[\"NUM_LOGS_PER_EPOCH\"] = 10\n",
    "standalone_parameters[\"BEST_MODEL_PATH\"] = \"./best_model.pth\"\n",
    "\n",
    "\n",
    "\n",
    "\n"
   ]
  },
  {
   "cell_type": "code",
   "execution_count": 4,
   "id": "183dff00",
   "metadata": {
    "execution": {
     "iopub.execute_input": "2022-03-22T13:12:10.570501Z",
     "iopub.status.busy": "2022-03-22T13:12:10.569227Z",
     "iopub.status.idle": "2022-03-22T13:12:10.590260Z",
     "shell.execute_reply": "2022-03-22T13:12:10.589446Z"
    },
    "papermill": {
     "duration": 0.056804,
     "end_time": "2022-03-22T13:12:10.590479",
     "exception": false,
     "start_time": "2022-03-22T13:12:10.533675",
     "status": "completed"
    },
    "tags": [
     "injected-parameters"
    ]
   },
   "outputs": [],
   "source": [
    "# Parameters\n",
    "parameters = {\n",
    "    \"experiment_name\": \"tl_1v2:cores-oracle.run1.limited\",\n",
    "    \"device\": \"cuda\",\n",
    "    \"lr\": 0.0001,\n",
    "    \"n_shot\": 3,\n",
    "    \"n_query\": 2,\n",
    "    \"train_k_factor\": 3,\n",
    "    \"val_k_factor\": 2,\n",
    "    \"test_k_factor\": 2,\n",
    "    \"torch_default_dtype\": \"torch.float32\",\n",
    "    \"n_epoch\": 50,\n",
    "    \"patience\": 3,\n",
    "    \"criteria_for_best\": \"target_accuracy\",\n",
    "    \"x_net\": [\n",
    "        {\"class\": \"nnReshape\", \"kargs\": {\"shape\": [-1, 1, 2, 256]}},\n",
    "        {\n",
    "            \"class\": \"Conv2d\",\n",
    "            \"kargs\": {\n",
    "                \"in_channels\": 1,\n",
    "                \"out_channels\": 256,\n",
    "                \"kernel_size\": [1, 7],\n",
    "                \"bias\": False,\n",
    "                \"padding\": [0, 3],\n",
    "            },\n",
    "        },\n",
    "        {\"class\": \"ReLU\", \"kargs\": {\"inplace\": True}},\n",
    "        {\"class\": \"BatchNorm2d\", \"kargs\": {\"num_features\": 256}},\n",
    "        {\n",
    "            \"class\": \"Conv2d\",\n",
    "            \"kargs\": {\n",
    "                \"in_channels\": 256,\n",
    "                \"out_channels\": 80,\n",
    "                \"kernel_size\": [2, 7],\n",
    "                \"bias\": True,\n",
    "                \"padding\": [0, 3],\n",
    "            },\n",
    "        },\n",
    "        {\"class\": \"ReLU\", \"kargs\": {\"inplace\": True}},\n",
    "        {\"class\": \"BatchNorm2d\", \"kargs\": {\"num_features\": 80}},\n",
    "        {\"class\": \"Flatten\", \"kargs\": {}},\n",
    "        {\"class\": \"Linear\", \"kargs\": {\"in_features\": 20480, \"out_features\": 256}},\n",
    "        {\"class\": \"ReLU\", \"kargs\": {\"inplace\": True}},\n",
    "        {\"class\": \"BatchNorm1d\", \"kargs\": {\"num_features\": 256}},\n",
    "        {\"class\": \"Linear\", \"kargs\": {\"in_features\": 256, \"out_features\": 256}},\n",
    "    ],\n",
    "    \"NUM_LOGS_PER_EPOCH\": 10,\n",
    "    \"BEST_MODEL_PATH\": \"./best_model.pth\",\n",
    "    \"n_way\": 16,\n",
    "    \"datasets\": [\n",
    "        {\n",
    "            \"labels\": [\n",
    "                \"1-10.\",\n",
    "                \"1-11.\",\n",
    "                \"1-15.\",\n",
    "                \"1-16.\",\n",
    "                \"1-17.\",\n",
    "                \"1-18.\",\n",
    "                \"1-19.\",\n",
    "                \"10-4.\",\n",
    "                \"10-7.\",\n",
    "                \"11-1.\",\n",
    "                \"11-14.\",\n",
    "                \"11-17.\",\n",
    "                \"11-20.\",\n",
    "                \"11-7.\",\n",
    "                \"13-20.\",\n",
    "                \"13-8.\",\n",
    "                \"14-10.\",\n",
    "                \"14-11.\",\n",
    "                \"14-14.\",\n",
    "                \"14-7.\",\n",
    "                \"15-1.\",\n",
    "                \"15-20.\",\n",
    "                \"16-1.\",\n",
    "                \"16-16.\",\n",
    "                \"17-10.\",\n",
    "                \"17-11.\",\n",
    "                \"17-2.\",\n",
    "                \"19-1.\",\n",
    "                \"19-16.\",\n",
    "                \"19-19.\",\n",
    "                \"19-20.\",\n",
    "                \"19-3.\",\n",
    "                \"2-10.\",\n",
    "                \"2-11.\",\n",
    "                \"2-17.\",\n",
    "                \"2-18.\",\n",
    "                \"2-20.\",\n",
    "                \"2-3.\",\n",
    "                \"2-4.\",\n",
    "                \"2-5.\",\n",
    "                \"2-6.\",\n",
    "                \"2-7.\",\n",
    "                \"2-8.\",\n",
    "                \"3-13.\",\n",
    "                \"3-18.\",\n",
    "                \"3-3.\",\n",
    "                \"4-1.\",\n",
    "                \"4-10.\",\n",
    "                \"4-11.\",\n",
    "                \"4-19.\",\n",
    "                \"5-5.\",\n",
    "                \"6-15.\",\n",
    "                \"7-10.\",\n",
    "                \"7-14.\",\n",
    "                \"8-18.\",\n",
    "                \"8-20.\",\n",
    "                \"8-3.\",\n",
    "                \"8-8.\",\n",
    "            ],\n",
    "            \"domains\": [1, 2, 3, 4, 5],\n",
    "            \"num_examples_per_domain_per_label\": -1,\n",
    "            \"pickle_path\": \"/root/csc500-main/datasets/cores.stratified_ds.2022A.pkl\",\n",
    "            \"source_or_target_dataset\": \"target\",\n",
    "            \"x_transforms\": [],\n",
    "            \"episode_transforms\": [],\n",
    "            \"domain_prefix\": \"CORES_\",\n",
    "        },\n",
    "        {\n",
    "            \"labels\": [\n",
    "                \"3123D52\",\n",
    "                \"3123D65\",\n",
    "                \"3123D79\",\n",
    "                \"3123D80\",\n",
    "                \"3123D54\",\n",
    "                \"3123D70\",\n",
    "                \"3123D7B\",\n",
    "                \"3123D89\",\n",
    "                \"3123D58\",\n",
    "                \"3123D76\",\n",
    "                \"3123D7D\",\n",
    "                \"3123EFE\",\n",
    "                \"3123D64\",\n",
    "                \"3123D78\",\n",
    "                \"3123D7E\",\n",
    "                \"3124E4A\",\n",
    "            ],\n",
    "            \"domains\": [32, 38, 8, 44, 14, 50, 20, 26],\n",
    "            \"num_examples_per_domain_per_label\": 2000,\n",
    "            \"pickle_path\": \"/root/csc500-main/datasets/oracle.Run1_10kExamples_stratified_ds.2022A.pkl\",\n",
    "            \"source_or_target_dataset\": \"source\",\n",
    "            \"x_transforms\": [],\n",
    "            \"episode_transforms\": [],\n",
    "            \"domain_prefix\": \"ORACLE.run1_\",\n",
    "        },\n",
    "    ],\n",
    "    \"dataset_seed\": 154325,\n",
    "    \"seed\": 154325,\n",
    "}\n"
   ]
  },
  {
   "cell_type": "code",
   "execution_count": 5,
   "id": "8fa1cc33",
   "metadata": {
    "execution": {
     "iopub.execute_input": "2022-03-22T13:12:10.642538Z",
     "iopub.status.busy": "2022-03-22T13:12:10.642163Z",
     "iopub.status.idle": "2022-03-22T13:12:10.661932Z",
     "shell.execute_reply": "2022-03-22T13:12:10.661237Z"
    },
    "papermill": {
     "duration": 0.04405,
     "end_time": "2022-03-22T13:12:10.662117",
     "exception": false,
     "start_time": "2022-03-22T13:12:10.618067",
     "status": "completed"
    },
    "tags": []
   },
   "outputs": [],
   "source": [
    "# Set this to True if you want to run this template directly\n",
    "STANDALONE = False\n",
    "if STANDALONE:\n",
    "    print(\"parameters not injected, running with standalone_parameters\")\n",
    "    parameters = standalone_parameters\n",
    "\n",
    "if not 'parameters' in locals() and not 'parameters' in globals():\n",
    "    raise Exception(\"Parameter injection failed\")\n",
    "\n",
    "#Use an easy dict for all the parameters\n",
    "p = EasyDict(parameters)\n",
    "\n",
    "if \"x_shape\" not in p:\n",
    "    p.x_shape = [2,256] # Default to this if we dont supply x_shape\n",
    "\n",
    "\n",
    "supplied_keys = set(p.keys())\n",
    "\n",
    "if  supplied_keys != required_parameters:\n",
    "    print(\"Parameters are incorrect\")\n",
    "    if len(supplied_keys - required_parameters)>0: print(\"Shouldn't have:\", str(supplied_keys - required_parameters))\n",
    "    if len(required_parameters - supplied_keys)>0: print(\"Need to have:\", str(required_parameters - supplied_keys))\n",
    "    raise RuntimeError(\"Parameters are incorrect\")"
   ]
  },
  {
   "cell_type": "code",
   "execution_count": 6,
   "id": "3a028d58",
   "metadata": {
    "execution": {
     "iopub.execute_input": "2022-03-22T13:12:10.713367Z",
     "iopub.status.busy": "2022-03-22T13:12:10.712801Z",
     "iopub.status.idle": "2022-03-22T13:12:10.738379Z",
     "shell.execute_reply": "2022-03-22T13:12:10.737554Z"
    },
    "papermill": {
     "duration": 0.050531,
     "end_time": "2022-03-22T13:12:10.738598",
     "exception": false,
     "start_time": "2022-03-22T13:12:10.688067",
     "status": "completed"
    },
    "tags": []
   },
   "outputs": [],
   "source": [
    "###################################\n",
    "# Set the RNGs and make it all deterministic\n",
    "###################################\n",
    "np.random.seed(p.seed)\n",
    "random.seed(p.seed)\n",
    "torch.manual_seed(p.seed)\n",
    "\n",
    "torch.use_deterministic_algorithms(True) "
   ]
  },
  {
   "cell_type": "code",
   "execution_count": 7,
   "id": "b691acf6",
   "metadata": {
    "execution": {
     "iopub.execute_input": "2022-03-22T13:12:10.789249Z",
     "iopub.status.busy": "2022-03-22T13:12:10.788711Z",
     "iopub.status.idle": "2022-03-22T13:12:10.814189Z",
     "shell.execute_reply": "2022-03-22T13:12:10.813469Z"
    },
    "papermill": {
     "duration": 0.049776,
     "end_time": "2022-03-22T13:12:10.814348",
     "exception": false,
     "start_time": "2022-03-22T13:12:10.764572",
     "status": "completed"
    },
    "tags": []
   },
   "outputs": [],
   "source": [
    "###########################################\n",
    "# The stratified datasets honor this\n",
    "###########################################\n",
    "torch.set_default_dtype(eval(p.torch_default_dtype))"
   ]
  },
  {
   "cell_type": "code",
   "execution_count": 8,
   "id": "b5fba671",
   "metadata": {
    "execution": {
     "iopub.execute_input": "2022-03-22T13:12:10.865558Z",
     "iopub.status.busy": "2022-03-22T13:12:10.865184Z",
     "iopub.status.idle": "2022-03-22T13:12:10.931723Z",
     "shell.execute_reply": "2022-03-22T13:12:10.930984Z"
    },
    "papermill": {
     "duration": 0.090798,
     "end_time": "2022-03-22T13:12:10.931884",
     "exception": false,
     "start_time": "2022-03-22T13:12:10.841086",
     "status": "completed"
    },
    "tags": []
   },
   "outputs": [],
   "source": [
    "###################################\n",
    "# Build the network(s)\n",
    "# Note: It's critical to do this AFTER setting the RNG\n",
    "###################################\n",
    "x_net = build_sequential(p.x_net)"
   ]
  },
  {
   "cell_type": "code",
   "execution_count": 9,
   "id": "5d7e61cc",
   "metadata": {
    "execution": {
     "iopub.execute_input": "2022-03-22T13:12:10.982732Z",
     "iopub.status.busy": "2022-03-22T13:12:10.982361Z",
     "iopub.status.idle": "2022-03-22T13:12:11.007650Z",
     "shell.execute_reply": "2022-03-22T13:12:11.006888Z"
    },
    "papermill": {
     "duration": 0.04991,
     "end_time": "2022-03-22T13:12:11.007808",
     "exception": false,
     "start_time": "2022-03-22T13:12:10.957898",
     "status": "completed"
    },
    "tags": []
   },
   "outputs": [],
   "source": [
    "start_time_secs = time.time()"
   ]
  },
  {
   "cell_type": "code",
   "execution_count": 10,
   "id": "c6b67dfd",
   "metadata": {
    "execution": {
     "iopub.execute_input": "2022-03-22T13:12:11.058352Z",
     "iopub.status.busy": "2022-03-22T13:12:11.057978Z",
     "iopub.status.idle": "2022-03-22T13:12:11.082654Z",
     "shell.execute_reply": "2022-03-22T13:12:11.081894Z"
    },
    "papermill": {
     "duration": 0.049086,
     "end_time": "2022-03-22T13:12:11.082812",
     "exception": false,
     "start_time": "2022-03-22T13:12:11.033726",
     "status": "completed"
    },
    "tags": []
   },
   "outputs": [],
   "source": [
    "p.domains_source = []\n",
    "p.domains_target = []\n",
    "\n",
    "\n",
    "train_original_source = []\n",
    "val_original_source   = []\n",
    "test_original_source  = []\n",
    "\n",
    "train_original_target = []\n",
    "val_original_target   = []\n",
    "test_original_target  = []"
   ]
  },
  {
   "cell_type": "code",
   "execution_count": 11,
   "id": "e3d9c3d3",
   "metadata": {
    "execution": {
     "iopub.execute_input": "2022-03-22T13:12:11.134434Z",
     "iopub.status.busy": "2022-03-22T13:12:11.133689Z",
     "iopub.status.idle": "2022-03-22T13:12:11.157513Z",
     "shell.execute_reply": "2022-03-22T13:12:11.156706Z"
    },
    "papermill": {
     "duration": 0.048609,
     "end_time": "2022-03-22T13:12:11.157672",
     "exception": false,
     "start_time": "2022-03-22T13:12:11.109063",
     "status": "completed"
    },
    "tags": []
   },
   "outputs": [],
   "source": [
    "# global_x_transform_func = lambda x: normalize(x.to(torch.get_default_dtype()), \"unit_power\") # unit_power, unit_mag\n",
    "# global_x_transform_func = lambda x: normalize(x, \"unit_power\") # unit_power, unit_mag"
   ]
  },
  {
   "cell_type": "code",
   "execution_count": 12,
   "id": "acb78fd2",
   "metadata": {
    "execution": {
     "iopub.execute_input": "2022-03-22T13:12:11.218733Z",
     "iopub.status.busy": "2022-03-22T13:12:11.217591Z",
     "iopub.status.idle": "2022-03-22T13:12:11.238735Z",
     "shell.execute_reply": "2022-03-22T13:12:11.238012Z"
    },
    "papermill": {
     "duration": 0.055432,
     "end_time": "2022-03-22T13:12:11.238894",
     "exception": false,
     "start_time": "2022-03-22T13:12:11.183462",
     "status": "completed"
    },
    "tags": []
   },
   "outputs": [],
   "source": [
    "def add_dataset(\n",
    "    labels,\n",
    "    domains,\n",
    "    pickle_path,\n",
    "    x_transforms,\n",
    "    episode_transforms,\n",
    "    domain_prefix,\n",
    "    num_examples_per_domain_per_label,\n",
    "    source_or_target_dataset:str,\n",
    "    iterator_seed=p.seed,\n",
    "    dataset_seed=p.dataset_seed,\n",
    "    n_shot=p.n_shot,\n",
    "    n_way=p.n_way,\n",
    "    n_query=p.n_query,\n",
    "    train_val_test_k_factors=(p.train_k_factor,p.val_k_factor,p.test_k_factor),\n",
    "):\n",
    "   \n",
    "    if x_transforms == []: x_transform = None\n",
    "    else: x_transform = get_chained_transform(x_transforms)\n",
    "    \n",
    "    if episode_transforms == []: episode_transform = None\n",
    "    else: raise Exception(\"episode_transforms not implemented\")\n",
    "    \n",
    "    episode_transform = lambda tup, _prefix=domain_prefix: (_prefix + str(tup[0]), tup[1])\n",
    "\n",
    "\n",
    "    eaf = Episodic_Accessor_Factory(\n",
    "        labels=labels,\n",
    "        domains=domains,\n",
    "        num_examples_per_domain_per_label=num_examples_per_domain_per_label,\n",
    "        iterator_seed=iterator_seed,\n",
    "        dataset_seed=dataset_seed,\n",
    "        n_shot=n_shot,\n",
    "        n_way=n_way,\n",
    "        n_query=n_query,\n",
    "        train_val_test_k_factors=train_val_test_k_factors,\n",
    "        pickle_path=pickle_path,\n",
    "        x_transform_func=x_transform,\n",
    "    )\n",
    "\n",
    "    train, val, test = eaf.get_train(), eaf.get_val(), eaf.get_test()\n",
    "    train = Lazy_Iterable_Wrapper(train, episode_transform)\n",
    "    val = Lazy_Iterable_Wrapper(val, episode_transform)\n",
    "    test = Lazy_Iterable_Wrapper(test, episode_transform)\n",
    "\n",
    "    if source_or_target_dataset==\"source\":\n",
    "        train_original_source.append(train)\n",
    "        val_original_source.append(val)\n",
    "        test_original_source.append(test)\n",
    "\n",
    "        p.domains_source.extend(\n",
    "            [domain_prefix + str(u) for u in domains]\n",
    "        )\n",
    "    elif source_or_target_dataset==\"target\":\n",
    "        train_original_target.append(train)\n",
    "        val_original_target.append(val)\n",
    "        test_original_target.append(test)\n",
    "        p.domains_target.extend(\n",
    "            [domain_prefix + str(u) for u in domains]\n",
    "        )\n",
    "    else:\n",
    "        raise Exception(f\"invalid source_or_target_dataset: {source_or_target_dataset}\")\n",
    "    "
   ]
  },
  {
   "cell_type": "code",
   "execution_count": 13,
   "id": "fe266617",
   "metadata": {
    "execution": {
     "iopub.execute_input": "2022-03-22T13:12:11.290791Z",
     "iopub.status.busy": "2022-03-22T13:12:11.290326Z",
     "iopub.status.idle": "2022-03-22T13:12:17.699083Z",
     "shell.execute_reply": "2022-03-22T13:12:17.698357Z"
    },
    "papermill": {
     "duration": 6.43377,
     "end_time": "2022-03-22T13:12:17.699267",
     "exception": false,
     "start_time": "2022-03-22T13:12:11.265497",
     "status": "completed"
    },
    "tags": []
   },
   "outputs": [],
   "source": [
    "for ds in p.datasets:\n",
    "    add_dataset(**ds)"
   ]
  },
  {
   "cell_type": "code",
   "execution_count": 14,
   "id": "b90d65ac",
   "metadata": {
    "execution": {
     "iopub.execute_input": "2022-03-22T13:12:17.749021Z",
     "iopub.status.busy": "2022-03-22T13:12:17.748378Z",
     "iopub.status.idle": "2022-03-22T13:12:17.774631Z",
     "shell.execute_reply": "2022-03-22T13:12:17.775257Z"
    },
    "papermill": {
     "duration": 0.050775,
     "end_time": "2022-03-22T13:12:17.775471",
     "exception": false,
     "start_time": "2022-03-22T13:12:17.724696",
     "status": "completed"
    },
    "tags": []
   },
   "outputs": [],
   "source": [
    "# from steves_utils.CORES.utils import (\n",
    "#     ALL_NODES,\n",
    "#     ALL_NODES_MINIMUM_1000_EXAMPLES,\n",
    "#     ALL_DAYS\n",
    "# )\n",
    "\n",
    "# add_dataset(\n",
    "#     labels=ALL_NODES,\n",
    "#     domains = ALL_DAYS,\n",
    "#     num_examples_per_domain_per_label=100,\n",
    "#     pickle_path=os.path.join(get_datasets_base_path(), \"cores.stratified_ds.2022A.pkl\"),\n",
    "#     source_or_target_dataset=\"target\",\n",
    "#     x_transform_func=global_x_transform_func,\n",
    "#     domain_modifier=lambda u: f\"cores_{u}\"\n",
    "# )"
   ]
  },
  {
   "cell_type": "code",
   "execution_count": 15,
   "id": "76db484d",
   "metadata": {
    "execution": {
     "iopub.execute_input": "2022-03-22T13:12:17.824691Z",
     "iopub.status.busy": "2022-03-22T13:12:17.824127Z",
     "iopub.status.idle": "2022-03-22T13:12:17.847974Z",
     "shell.execute_reply": "2022-03-22T13:12:17.847158Z"
    },
    "papermill": {
     "duration": 0.04728,
     "end_time": "2022-03-22T13:12:17.848131",
     "exception": false,
     "start_time": "2022-03-22T13:12:17.800851",
     "status": "completed"
    },
    "tags": []
   },
   "outputs": [],
   "source": [
    "# from steves_utils.ORACLE.utils_v2 import (\n",
    "#     ALL_DISTANCES_FEET,\n",
    "#     ALL_RUNS,\n",
    "#     ALL_SERIAL_NUMBERS,\n",
    "# )\n",
    "\n",
    "\n",
    "# add_dataset(\n",
    "#     labels=ALL_SERIAL_NUMBERS,\n",
    "#     domains = list(set(ALL_DISTANCES_FEET) - {2,62}),\n",
    "#     num_examples_per_domain_per_label=100,\n",
    "#     pickle_path=os.path.join(get_datasets_base_path(), \"oracle.Run2_framed_2000Examples_stratified_ds.2022A.pkl\"),\n",
    "#     source_or_target_dataset=\"source\",\n",
    "#     x_transform_func=global_x_transform_func,\n",
    "#     domain_modifier=lambda u: f\"oracle1_{u}\"\n",
    "# )\n"
   ]
  },
  {
   "cell_type": "code",
   "execution_count": 16,
   "id": "97dea9d2",
   "metadata": {
    "execution": {
     "iopub.execute_input": "2022-03-22T13:12:17.901503Z",
     "iopub.status.busy": "2022-03-22T13:12:17.900947Z",
     "iopub.status.idle": "2022-03-22T13:12:17.923501Z",
     "shell.execute_reply": "2022-03-22T13:12:17.922710Z"
    },
    "papermill": {
     "duration": 0.046549,
     "end_time": "2022-03-22T13:12:17.923668",
     "exception": false,
     "start_time": "2022-03-22T13:12:17.877119",
     "status": "completed"
    },
    "tags": []
   },
   "outputs": [],
   "source": [
    "# from steves_utils.ORACLE.utils_v2 import (\n",
    "#     ALL_DISTANCES_FEET,\n",
    "#     ALL_RUNS,\n",
    "#     ALL_SERIAL_NUMBERS,\n",
    "# )\n",
    "\n",
    "\n",
    "# add_dataset(\n",
    "#     labels=ALL_SERIAL_NUMBERS,\n",
    "#     domains = list(set(ALL_DISTANCES_FEET) - {2,62,56}),\n",
    "#     num_examples_per_domain_per_label=100,\n",
    "#     pickle_path=os.path.join(get_datasets_base_path(), \"oracle.Run2_framed_2000Examples_stratified_ds.2022A.pkl\"),\n",
    "#     source_or_target_dataset=\"source\",\n",
    "#     x_transform_func=global_x_transform_func,\n",
    "#     domain_modifier=lambda u: f\"oracle2_{u}\"\n",
    "# )"
   ]
  },
  {
   "cell_type": "code",
   "execution_count": 17,
   "id": "6f289866",
   "metadata": {
    "execution": {
     "iopub.execute_input": "2022-03-22T13:12:17.976827Z",
     "iopub.status.busy": "2022-03-22T13:12:17.976211Z",
     "iopub.status.idle": "2022-03-22T13:12:17.999094Z",
     "shell.execute_reply": "2022-03-22T13:12:17.998397Z"
    },
    "papermill": {
     "duration": 0.04624,
     "end_time": "2022-03-22T13:12:17.999249",
     "exception": false,
     "start_time": "2022-03-22T13:12:17.953009",
     "status": "completed"
    },
    "tags": []
   },
   "outputs": [],
   "source": [
    "# add_dataset(\n",
    "#     labels=list(range(19)),\n",
    "#     domains = [0,1,2],\n",
    "#     num_examples_per_domain_per_label=100,\n",
    "#     pickle_path=os.path.join(get_datasets_base_path(), \"metehan.stratified_ds.2022A.pkl\"),\n",
    "#     source_or_target_dataset=\"target\",\n",
    "#     x_transform_func=global_x_transform_func,\n",
    "#     domain_modifier=lambda u: f\"met_{u}\"\n",
    "# )"
   ]
  },
  {
   "cell_type": "code",
   "execution_count": 18,
   "id": "86a863c3",
   "metadata": {
    "execution": {
     "iopub.execute_input": "2022-03-22T13:12:18.049021Z",
     "iopub.status.busy": "2022-03-22T13:12:18.048656Z",
     "iopub.status.idle": "2022-03-22T13:12:18.071131Z",
     "shell.execute_reply": "2022-03-22T13:12:18.070340Z"
    },
    "papermill": {
     "duration": 0.046644,
     "end_time": "2022-03-22T13:12:18.071282",
     "exception": false,
     "start_time": "2022-03-22T13:12:18.024638",
     "status": "completed"
    },
    "tags": []
   },
   "outputs": [],
   "source": [
    "# # from steves_utils.wisig.utils import (\n",
    "# #     ALL_NODES_MINIMUM_100_EXAMPLES,\n",
    "# #     ALL_NODES_MINIMUM_500_EXAMPLES,\n",
    "# #     ALL_NODES_MINIMUM_1000_EXAMPLES,\n",
    "# #     ALL_DAYS\n",
    "# # )\n",
    "\n",
    "# import steves_utils.wisig.utils as wisig\n",
    "\n",
    "\n",
    "# add_dataset(\n",
    "#     labels=wisig.ALL_NODES_MINIMUM_100_EXAMPLES,\n",
    "#     domains = wisig.ALL_DAYS,\n",
    "#     num_examples_per_domain_per_label=100,\n",
    "#     pickle_path=os.path.join(get_datasets_base_path(), \"wisig.node3-19.stratified_ds.2022A.pkl\"),\n",
    "#     source_or_target_dataset=\"target\",\n",
    "#     x_transform_func=global_x_transform_func,\n",
    "#     domain_modifier=lambda u: f\"wisig_{u}\"\n",
    "# )"
   ]
  },
  {
   "cell_type": "code",
   "execution_count": 19,
   "id": "fd5442bc",
   "metadata": {
    "execution": {
     "iopub.execute_input": "2022-03-22T13:12:18.127377Z",
     "iopub.status.busy": "2022-03-22T13:12:18.126806Z",
     "iopub.status.idle": "2022-03-22T13:12:18.148236Z",
     "shell.execute_reply": "2022-03-22T13:12:18.147411Z"
    },
    "papermill": {
     "duration": 0.05151,
     "end_time": "2022-03-22T13:12:18.148398",
     "exception": false,
     "start_time": "2022-03-22T13:12:18.096888",
     "status": "completed"
    },
    "tags": []
   },
   "outputs": [],
   "source": [
    "###################################\n",
    "# Build the dataset\n",
    "###################################\n",
    "train_original_source = Iterable_Aggregator(train_original_source, p.seed)\n",
    "val_original_source = Iterable_Aggregator(val_original_source, p.seed)\n",
    "test_original_source = Iterable_Aggregator(test_original_source, p.seed)\n",
    "\n",
    "\n",
    "train_original_target = Iterable_Aggregator(train_original_target, p.seed)\n",
    "val_original_target = Iterable_Aggregator(val_original_target, p.seed)\n",
    "test_original_target = Iterable_Aggregator(test_original_target, p.seed)\n",
    "\n",
    "# For CNN We only use X and Y. And we only train on the source.\n",
    "# Properly form the data using a transform lambda and Lazy_Iterable_Wrapper. Finally wrap them in a dataloader\n",
    "\n",
    "transform_lambda = lambda ex: ex[1] # Original is (<domain>, <episode>) so we strip down to episode only\n",
    "\n",
    "train_processed_source = Lazy_Iterable_Wrapper(train_original_source, transform_lambda)\n",
    "val_processed_source   = Lazy_Iterable_Wrapper(val_original_source, transform_lambda)\n",
    "test_processed_source  = Lazy_Iterable_Wrapper(test_original_source, transform_lambda)\n",
    "\n",
    "train_processed_target = Lazy_Iterable_Wrapper(train_original_target, transform_lambda)\n",
    "val_processed_target   = Lazy_Iterable_Wrapper(val_original_target, transform_lambda)\n",
    "test_processed_target  = Lazy_Iterable_Wrapper(test_original_target, transform_lambda)\n",
    "\n",
    "datasets = EasyDict({\n",
    "    \"source\": {\n",
    "        \"original\": {\"train\":train_original_source, \"val\":val_original_source, \"test\":test_original_source},\n",
    "        \"processed\": {\"train\":train_processed_source, \"val\":val_processed_source, \"test\":test_processed_source}\n",
    "    },\n",
    "    \"target\": {\n",
    "        \"original\": {\"train\":train_original_target, \"val\":val_original_target, \"test\":test_original_target},\n",
    "        \"processed\": {\"train\":train_processed_target, \"val\":val_processed_target, \"test\":test_processed_target}\n",
    "    },\n",
    "})"
   ]
  },
  {
   "cell_type": "code",
   "execution_count": 20,
   "id": "5b3c01fc",
   "metadata": {
    "execution": {
     "iopub.execute_input": "2022-03-22T13:12:18.201731Z",
     "iopub.status.busy": "2022-03-22T13:12:18.200881Z",
     "iopub.status.idle": "2022-03-22T13:12:32.429054Z",
     "shell.execute_reply": "2022-03-22T13:12:32.429750Z"
    },
    "papermill": {
     "duration": 14.254491,
     "end_time": "2022-03-22T13:12:32.429970",
     "exception": false,
     "start_time": "2022-03-22T13:12:18.175479",
     "status": "completed"
    },
    "tags": []
   },
   "outputs": [
    {
     "name": "stdout",
     "output_type": "stream",
     "text": [
      "{'ORACLE.run1_8', 'ORACLE.run1_20', 'ORACLE.run1_38', 'ORACLE.run1_26', 'ORACLE.run1_32', 'ORACLE.run1_50', 'ORACLE.run1_14', 'ORACLE.run1_44'}\n"
     ]
    },
    {
     "name": "stdout",
     "output_type": "stream",
     "text": [
      "{'CORES_1', 'CORES_5', 'CORES_3', 'CORES_4', 'CORES_2'}\n"
     ]
    },
    {
     "name": "stdout",
     "output_type": "stream",
     "text": [
      "tensor([[[ 1.4344e-03, -2.2279e-03, -4.6388e-03,  ...,  1.0987e-03,\n",
      "          -4.8830e-04,  2.1668e-03],\n",
      "         [ 6.1037e-05,  5.8901e-03, -2.4110e-03,  ...,  9.1556e-05,\n",
      "           1.4039e-03,  5.2797e-03]],\n",
      "\n",
      "        [[-2.1973e-03, -3.7233e-03,  3.2350e-03,  ...,  2.6856e-03,\n",
      "          -1.8006e-03, -1.8311e-04],\n",
      "         [ 6.4089e-04, -6.7141e-04,  1.0804e-02,  ...,  4.7914e-03,\n",
      "           3.0519e-04, -3.6317e-03]],\n",
      "\n",
      "        [[ 1.7396e-03, -1.8921e-03, -3.6927e-03,  ..., -8.2400e-03,\n",
      "           8.8504e-04,  8.5147e-03],\n",
      "         [-7.3550e-03, -7.9348e-04,  3.2350e-03,  ...,  2.3804e-03,\n",
      "           3.8759e-03,  3.2960e-03]],\n",
      "\n",
      "        ...,\n",
      "\n",
      "        [[ 3.5707e-03,  5.9206e-03,  5.0050e-03,  ...,  3.0519e-03,\n",
      "          -2.8687e-03, -6.4394e-03],\n",
      "         [ 8.2400e-04,  4.1200e-03, -4.6693e-03,  ...,  1.4649e-03,\n",
      "           2.5330e-03, -1.8921e-03]],\n",
      "\n",
      "        [[ 1.8311e-03, -9.7659e-04, -6.5920e-03,  ...,  3.3265e-03,\n",
      "           5.0356e-03, -8.2400e-04],\n",
      "         [-3.8453e-03,  2.8993e-03, -7.9348e-04,  ..., -3.4791e-03,\n",
      "           3.3570e-04,  8.1179e-03]],\n",
      "\n",
      "        [[-7.1108e-03, -2.1973e-03,  1.9532e-03,  ..., -5.8290e-03,\n",
      "           1.1597e-03, -7.3244e-04],\n",
      "         [ 7.3244e-04, -4.8524e-03, -5.1576e-03,  ..., -4.8830e-04,\n",
      "           2.7161e-03,  5.0356e-03]]])\n"
     ]
    }
   ],
   "source": [
    "from steves_utils.transforms import get_average_magnitude, get_average_power\n",
    "\n",
    "print(set([u for u,_ in val_original_source]))\n",
    "print(set([u for u,_ in val_original_target]))\n",
    "\n",
    "s_x, s_y, q_x, q_y, _ = next(iter(train_processed_source))\n",
    "print(s_x)\n",
    "\n",
    "# for ds in [\n",
    "#     train_processed_source,\n",
    "#     val_processed_source,\n",
    "#     test_processed_source,\n",
    "#     train_processed_target,\n",
    "#     val_processed_target,\n",
    "#     test_processed_target\n",
    "# ]:\n",
    "#     for s_x, s_y, q_x, q_y, _ in ds:\n",
    "#         for X in (s_x, q_x):\n",
    "#             for x in X:\n",
    "#                 assert np.isclose(get_average_magnitude(x.numpy()), 1.0)\n",
    "#                 assert np.isclose(get_average_power(x.numpy()), 1.0)\n",
    "                "
   ]
  },
  {
   "cell_type": "code",
   "execution_count": 21,
   "id": "bbdacba1",
   "metadata": {
    "execution": {
     "iopub.execute_input": "2022-03-22T13:12:32.487177Z",
     "iopub.status.busy": "2022-03-22T13:12:32.486610Z",
     "iopub.status.idle": "2022-03-22T13:12:32.684335Z",
     "shell.execute_reply": "2022-03-22T13:12:32.684708Z"
    },
    "papermill": {
     "duration": 0.226635,
     "end_time": "2022-03-22T13:12:32.684825",
     "exception": false,
     "start_time": "2022-03-22T13:12:32.458190",
     "status": "completed"
    },
    "tags": []
   },
   "outputs": [
    {
     "name": "stdout",
     "output_type": "stream",
     "text": [
      "(2, 256)\n"
     ]
    }
   ],
   "source": [
    "###################################\n",
    "# Build the model\n",
    "###################################\n",
    "# easfsl only wants a tuple for the shape\n",
    "model = Steves_Prototypical_Network(x_net, device=p.device, x_shape=tuple(p.x_shape))\n",
    "optimizer = Adam(params=model.parameters(), lr=p.lr)"
   ]
  },
  {
   "cell_type": "code",
   "execution_count": 22,
   "id": "22b39ac5",
   "metadata": {
    "execution": {
     "iopub.execute_input": "2022-03-22T13:12:32.733273Z",
     "iopub.status.busy": "2022-03-22T13:12:32.732908Z",
     "iopub.status.idle": "2022-03-22T13:47:03.789381Z",
     "shell.execute_reply": "2022-03-22T13:47:03.789006Z"
    },
    "papermill": {
     "duration": 2071.082008,
     "end_time": "2022-03-22T13:47:03.789491",
     "exception": false,
     "start_time": "2022-03-22T13:12:32.707483",
     "status": "completed"
    },
    "tags": []
   },
   "outputs": [
    {
     "name": "stdout",
     "output_type": "stream",
     "text": [
      "epoch: 1, [batch: 1 / 6720], examples_per_second: 33.9034, train_label_loss: 2.7390, \n"
     ]
    },
    {
     "name": "stdout",
     "output_type": "stream",
     "text": [
      "epoch: 1, [batch: 672 / 6720], examples_per_second: 4765.0681, train_label_loss: 1.4362, \n"
     ]
    },
    {
     "name": "stdout",
     "output_type": "stream",
     "text": [
      "epoch: 1, [batch: 1344 / 6720], examples_per_second: 3793.5872, train_label_loss: 1.3582, \n"
     ]
    },
    {
     "name": "stdout",
     "output_type": "stream",
     "text": [
      "epoch: 1, [batch: 2016 / 6720], examples_per_second: 3763.9853, train_label_loss: 1.2547, \n"
     ]
    },
    {
     "name": "stdout",
     "output_type": "stream",
     "text": [
      "epoch: 1, [batch: 2688 / 6720], examples_per_second: 3780.4724, train_label_loss: 1.5160, \n"
     ]
    },
    {
     "name": "stdout",
     "output_type": "stream",
     "text": [
      "epoch: 1, [batch: 3360 / 6720], examples_per_second: 3806.0007, train_label_loss: 1.0885, \n"
     ]
    },
    {
     "name": "stdout",
     "output_type": "stream",
     "text": [
      "epoch: 1, [batch: 4032 / 6720], examples_per_second: 3788.9700, train_label_loss: 0.8302, \n"
     ]
    },
    {
     "name": "stdout",
     "output_type": "stream",
     "text": [
      "epoch: 1, [batch: 4704 / 6720], examples_per_second: 3840.0778, train_label_loss: 1.2159, \n"
     ]
    },
    {
     "name": "stdout",
     "output_type": "stream",
     "text": [
      "epoch: 1, [batch: 5376 / 6720], examples_per_second: 3818.1318, train_label_loss: 0.5703, \n"
     ]
    },
    {
     "name": "stdout",
     "output_type": "stream",
     "text": [
      "epoch: 1, [batch: 6048 / 6720], examples_per_second: 4067.3224, train_label_loss: 0.3374, \n"
     ]
    },
    {
     "name": "stdout",
     "output_type": "stream",
     "text": [
      "=============================================================\n",
      "epoch: 1, source_val_acc_label: 0.6129, target_val_acc_label: 0.8776, source_val_label_loss: 1.8727, target_val_label_loss: 18.5439, \n",
      "=============================================================\n"
     ]
    },
    {
     "name": "stdout",
     "output_type": "stream",
     "text": [
      "New best\n"
     ]
    },
    {
     "name": "stdout",
     "output_type": "stream",
     "text": [
      "epoch: 2, [batch: 1 / 6720], examples_per_second: 4.0019, train_label_loss: 2.9072, \n"
     ]
    },
    {
     "name": "stdout",
     "output_type": "stream",
     "text": [
      "epoch: 2, [batch: 672 / 6720], examples_per_second: 3997.7530, train_label_loss: 0.4938, \n"
     ]
    },
    {
     "name": "stdout",
     "output_type": "stream",
     "text": [
      "epoch: 2, [batch: 1344 / 6720], examples_per_second: 3931.9894, train_label_loss: 1.1896, \n"
     ]
    },
    {
     "name": "stdout",
     "output_type": "stream",
     "text": [
      "epoch: 2, [batch: 2016 / 6720], examples_per_second: 4042.4817, train_label_loss: 0.4988, \n"
     ]
    },
    {
     "name": "stdout",
     "output_type": "stream",
     "text": [
      "epoch: 2, [batch: 2688 / 6720], examples_per_second: 3979.5015, train_label_loss: 0.7281, \n"
     ]
    },
    {
     "name": "stdout",
     "output_type": "stream",
     "text": [
      "epoch: 2, [batch: 3360 / 6720], examples_per_second: 3961.4792, train_label_loss: 0.7175, \n"
     ]
    },
    {
     "name": "stdout",
     "output_type": "stream",
     "text": [
      "epoch: 2, [batch: 4032 / 6720], examples_per_second: 4133.4110, train_label_loss: 0.6916, \n"
     ]
    },
    {
     "name": "stdout",
     "output_type": "stream",
     "text": [
      "epoch: 2, [batch: 4704 / 6720], examples_per_second: 4075.4080, train_label_loss: 0.5191, \n"
     ]
    },
    {
     "name": "stdout",
     "output_type": "stream",
     "text": [
      "epoch: 2, [batch: 5376 / 6720], examples_per_second: 4049.8961, train_label_loss: 1.0345, \n"
     ]
    },
    {
     "name": "stdout",
     "output_type": "stream",
     "text": [
      "epoch: 2, [batch: 6048 / 6720], examples_per_second: 3993.3171, train_label_loss: 0.4700, \n"
     ]
    },
    {
     "name": "stdout",
     "output_type": "stream",
     "text": [
      "=============================================================\n",
      "epoch: 2, source_val_acc_label: 0.7396, target_val_acc_label: 0.9783, source_val_label_loss: 0.6984, target_val_label_loss: 0.8887, \n",
      "=============================================================\n"
     ]
    },
    {
     "name": "stdout",
     "output_type": "stream",
     "text": [
      "New best\n"
     ]
    },
    {
     "name": "stdout",
     "output_type": "stream",
     "text": [
      "epoch: 3, [batch: 1 / 6720], examples_per_second: 4.0847, train_label_loss: 1.0101, \n"
     ]
    },
    {
     "name": "stdout",
     "output_type": "stream",
     "text": [
      "epoch: 3, [batch: 672 / 6720], examples_per_second: 3975.3842, train_label_loss: 0.6348, \n"
     ]
    },
    {
     "name": "stdout",
     "output_type": "stream",
     "text": [
      "epoch: 3, [batch: 1344 / 6720], examples_per_second: 3967.0999, train_label_loss: 0.4405, \n"
     ]
    },
    {
     "name": "stdout",
     "output_type": "stream",
     "text": [
      "epoch: 3, [batch: 2016 / 6720], examples_per_second: 3957.1381, train_label_loss: 0.3888, \n"
     ]
    },
    {
     "name": "stdout",
     "output_type": "stream",
     "text": [
      "epoch: 3, [batch: 2688 / 6720], examples_per_second: 4016.0259, train_label_loss: 0.3794, \n"
     ]
    },
    {
     "name": "stdout",
     "output_type": "stream",
     "text": [
      "epoch: 3, [batch: 3360 / 6720], examples_per_second: 3993.9537, train_label_loss: 0.3682, \n"
     ]
    },
    {
     "name": "stdout",
     "output_type": "stream",
     "text": [
      "epoch: 3, [batch: 4032 / 6720], examples_per_second: 3984.2681, train_label_loss: 0.6778, \n"
     ]
    },
    {
     "name": "stdout",
     "output_type": "stream",
     "text": [
      "epoch: 3, [batch: 4704 / 6720], examples_per_second: 4064.2337, train_label_loss: 0.4180, \n"
     ]
    },
    {
     "name": "stdout",
     "output_type": "stream",
     "text": [
      "epoch: 3, [batch: 5376 / 6720], examples_per_second: 4109.0162, train_label_loss: 0.4108, \n"
     ]
    },
    {
     "name": "stdout",
     "output_type": "stream",
     "text": [
      "epoch: 3, [batch: 6048 / 6720], examples_per_second: 3990.8266, train_label_loss: 0.2472, \n"
     ]
    },
    {
     "name": "stdout",
     "output_type": "stream",
     "text": [
      "=============================================================\n",
      "epoch: 3, source_val_acc_label: 0.8050, target_val_acc_label: 0.9822, source_val_label_loss: 0.5518, target_val_label_loss: 1.4282, \n",
      "=============================================================\n"
     ]
    },
    {
     "name": "stdout",
     "output_type": "stream",
     "text": [
      "New best\n"
     ]
    },
    {
     "name": "stdout",
     "output_type": "stream",
     "text": [
      "epoch: 4, [batch: 1 / 6720], examples_per_second: 4.0802, train_label_loss: 0.2285, \n"
     ]
    },
    {
     "name": "stdout",
     "output_type": "stream",
     "text": [
      "epoch: 4, [batch: 672 / 6720], examples_per_second: 4106.4661, train_label_loss: 0.2661, \n"
     ]
    },
    {
     "name": "stdout",
     "output_type": "stream",
     "text": [
      "epoch: 4, [batch: 1344 / 6720], examples_per_second: 4082.5311, train_label_loss: 0.2752, \n"
     ]
    },
    {
     "name": "stdout",
     "output_type": "stream",
     "text": [
      "epoch: 4, [batch: 2016 / 6720], examples_per_second: 4056.7230, train_label_loss: 0.1557, \n"
     ]
    },
    {
     "name": "stdout",
     "output_type": "stream",
     "text": [
      "epoch: 4, [batch: 2688 / 6720], examples_per_second: 4002.4168, train_label_loss: 0.2984, \n"
     ]
    },
    {
     "name": "stdout",
     "output_type": "stream",
     "text": [
      "epoch: 4, [batch: 3360 / 6720], examples_per_second: 4002.2105, train_label_loss: 0.1044, \n"
     ]
    },
    {
     "name": "stdout",
     "output_type": "stream",
     "text": [
      "epoch: 4, [batch: 4032 / 6720], examples_per_second: 4034.7918, train_label_loss: 0.6444, \n"
     ]
    },
    {
     "name": "stdout",
     "output_type": "stream",
     "text": [
      "epoch: 4, [batch: 4704 / 6720], examples_per_second: 3990.5512, train_label_loss: 0.1424, \n"
     ]
    },
    {
     "name": "stdout",
     "output_type": "stream",
     "text": [
      "epoch: 4, [batch: 5376 / 6720], examples_per_second: 4039.8424, train_label_loss: 0.1749, \n"
     ]
    },
    {
     "name": "stdout",
     "output_type": "stream",
     "text": [
      "epoch: 4, [batch: 6048 / 6720], examples_per_second: 3909.5361, train_label_loss: 0.2836, \n"
     ]
    },
    {
     "name": "stdout",
     "output_type": "stream",
     "text": [
      "=============================================================\n",
      "epoch: 4, source_val_acc_label: 0.8145, target_val_acc_label: 0.9875, source_val_label_loss: 0.5256, target_val_label_loss: 1.2009, \n",
      "=============================================================\n"
     ]
    },
    {
     "name": "stdout",
     "output_type": "stream",
     "text": [
      "New best\n"
     ]
    },
    {
     "name": "stdout",
     "output_type": "stream",
     "text": [
      "epoch: 5, [batch: 1 / 6720], examples_per_second: 4.0212, train_label_loss: 0.3336, \n"
     ]
    },
    {
     "name": "stdout",
     "output_type": "stream",
     "text": [
      "epoch: 5, [batch: 672 / 6720], examples_per_second: 3954.9862, train_label_loss: 0.3782, \n"
     ]
    },
    {
     "name": "stdout",
     "output_type": "stream",
     "text": [
      "epoch: 5, [batch: 1344 / 6720], examples_per_second: 4016.7895, train_label_loss: 0.4476, \n"
     ]
    },
    {
     "name": "stdout",
     "output_type": "stream",
     "text": [
      "epoch: 5, [batch: 2016 / 6720], examples_per_second: 4216.6829, train_label_loss: 0.3611, \n"
     ]
    },
    {
     "name": "stdout",
     "output_type": "stream",
     "text": [
      "epoch: 5, [batch: 2688 / 6720], examples_per_second: 4325.1154, train_label_loss: 0.2340, \n"
     ]
    },
    {
     "name": "stdout",
     "output_type": "stream",
     "text": [
      "epoch: 5, [batch: 3360 / 6720], examples_per_second: 4190.7176, train_label_loss: 0.4217, \n"
     ]
    },
    {
     "name": "stdout",
     "output_type": "stream",
     "text": [
      "epoch: 5, [batch: 4032 / 6720], examples_per_second: 4236.3725, train_label_loss: 0.1397, \n"
     ]
    },
    {
     "name": "stdout",
     "output_type": "stream",
     "text": [
      "epoch: 5, [batch: 4704 / 6720], examples_per_second: 4561.5697, train_label_loss: 0.4007, \n"
     ]
    },
    {
     "name": "stdout",
     "output_type": "stream",
     "text": [
      "epoch: 5, [batch: 5376 / 6720], examples_per_second: 4606.5806, train_label_loss: 0.1549, \n"
     ]
    },
    {
     "name": "stdout",
     "output_type": "stream",
     "text": [
      "epoch: 5, [batch: 6048 / 6720], examples_per_second: 5451.1852, train_label_loss: 0.1681, \n"
     ]
    },
    {
     "name": "stdout",
     "output_type": "stream",
     "text": [
      "=============================================================\n",
      "epoch: 5, source_val_acc_label: 0.8114, target_val_acc_label: 0.9898, source_val_label_loss: 0.5105, target_val_label_loss: 0.6353, \n",
      "=============================================================\n"
     ]
    },
    {
     "name": "stdout",
     "output_type": "stream",
     "text": [
      "New best\n"
     ]
    },
    {
     "name": "stdout",
     "output_type": "stream",
     "text": [
      "epoch: 6, [batch: 1 / 6720], examples_per_second: 4.6317, train_label_loss: 0.2838, \n"
     ]
    },
    {
     "name": "stdout",
     "output_type": "stream",
     "text": [
      "epoch: 6, [batch: 672 / 6720], examples_per_second: 4003.5852, train_label_loss: 0.2767, \n"
     ]
    },
    {
     "name": "stdout",
     "output_type": "stream",
     "text": [
      "epoch: 6, [batch: 1344 / 6720], examples_per_second: 3993.1763, train_label_loss: 0.3892, \n"
     ]
    },
    {
     "name": "stdout",
     "output_type": "stream",
     "text": [
      "epoch: 6, [batch: 2016 / 6720], examples_per_second: 3948.6036, train_label_loss: 0.5864, \n"
     ]
    },
    {
     "name": "stdout",
     "output_type": "stream",
     "text": [
      "epoch: 6, [batch: 2688 / 6720], examples_per_second: 3970.9165, train_label_loss: 0.3864, \n"
     ]
    },
    {
     "name": "stdout",
     "output_type": "stream",
     "text": [
      "epoch: 6, [batch: 3360 / 6720], examples_per_second: 3956.8721, train_label_loss: 0.2701, \n"
     ]
    },
    {
     "name": "stdout",
     "output_type": "stream",
     "text": [
      "epoch: 6, [batch: 4032 / 6720], examples_per_second: 3863.7636, train_label_loss: 0.1090, \n"
     ]
    },
    {
     "name": "stdout",
     "output_type": "stream",
     "text": [
      "epoch: 6, [batch: 4704 / 6720], examples_per_second: 3920.2907, train_label_loss: 0.3662, \n"
     ]
    },
    {
     "name": "stdout",
     "output_type": "stream",
     "text": [
      "epoch: 6, [batch: 5376 / 6720], examples_per_second: 3983.0482, train_label_loss: 0.3178, \n"
     ]
    },
    {
     "name": "stdout",
     "output_type": "stream",
     "text": [
      "epoch: 6, [batch: 6048 / 6720], examples_per_second: 3923.6407, train_label_loss: 0.4617, \n"
     ]
    },
    {
     "name": "stdout",
     "output_type": "stream",
     "text": [
      "=============================================================\n",
      "epoch: 6, source_val_acc_label: 0.8128, target_val_acc_label: 0.9899, source_val_label_loss: 0.5422, target_val_label_loss: 0.6725, \n",
      "=============================================================\n"
     ]
    },
    {
     "name": "stdout",
     "output_type": "stream",
     "text": [
      "New best\n"
     ]
    },
    {
     "name": "stdout",
     "output_type": "stream",
     "text": [
      "epoch: 7, [batch: 1 / 6720], examples_per_second: 4.0125, train_label_loss: 0.2318, \n"
     ]
    },
    {
     "name": "stdout",
     "output_type": "stream",
     "text": [
      "epoch: 7, [batch: 672 / 6720], examples_per_second: 3800.9127, train_label_loss: 0.1278, \n"
     ]
    },
    {
     "name": "stdout",
     "output_type": "stream",
     "text": [
      "epoch: 7, [batch: 1344 / 6720], examples_per_second: 3852.7536, train_label_loss: 0.3590, \n"
     ]
    },
    {
     "name": "stdout",
     "output_type": "stream",
     "text": [
      "epoch: 7, [batch: 2016 / 6720], examples_per_second: 3946.7131, train_label_loss: 0.2302, \n"
     ]
    },
    {
     "name": "stdout",
     "output_type": "stream",
     "text": [
      "epoch: 7, [batch: 2688 / 6720], examples_per_second: 3876.0150, train_label_loss: 0.2184, \n"
     ]
    },
    {
     "name": "stdout",
     "output_type": "stream",
     "text": [
      "epoch: 7, [batch: 3360 / 6720], examples_per_second: 3878.7355, train_label_loss: 0.1102, \n"
     ]
    },
    {
     "name": "stdout",
     "output_type": "stream",
     "text": [
      "epoch: 7, [batch: 4032 / 6720], examples_per_second: 3869.6387, train_label_loss: 0.1141, \n"
     ]
    },
    {
     "name": "stdout",
     "output_type": "stream",
     "text": [
      "epoch: 7, [batch: 4704 / 6720], examples_per_second: 3954.2232, train_label_loss: 0.2105, \n"
     ]
    },
    {
     "name": "stdout",
     "output_type": "stream",
     "text": [
      "epoch: 7, [batch: 5376 / 6720], examples_per_second: 3970.6728, train_label_loss: 0.2128, \n"
     ]
    },
    {
     "name": "stdout",
     "output_type": "stream",
     "text": [
      "epoch: 7, [batch: 6048 / 6720], examples_per_second: 3959.4022, train_label_loss: 0.2469, \n"
     ]
    },
    {
     "name": "stdout",
     "output_type": "stream",
     "text": [
      "=============================================================\n",
      "epoch: 7, source_val_acc_label: 0.8205, target_val_acc_label: 0.9887, source_val_label_loss: 0.5678, target_val_label_loss: 1.2888, \n",
      "=============================================================\n"
     ]
    },
    {
     "name": "stdout",
     "output_type": "stream",
     "text": [
      "epoch: 8, [batch: 1 / 6720], examples_per_second: 4.0556, train_label_loss: 0.4245, \n"
     ]
    },
    {
     "name": "stdout",
     "output_type": "stream",
     "text": [
      "epoch: 8, [batch: 672 / 6720], examples_per_second: 3891.2814, train_label_loss: 0.1278, \n"
     ]
    },
    {
     "name": "stdout",
     "output_type": "stream",
     "text": [
      "epoch: 8, [batch: 1344 / 6720], examples_per_second: 3981.0166, train_label_loss: 0.1183, \n"
     ]
    },
    {
     "name": "stdout",
     "output_type": "stream",
     "text": [
      "epoch: 8, [batch: 2016 / 6720], examples_per_second: 4022.6868, train_label_loss: 0.2381, \n"
     ]
    },
    {
     "name": "stdout",
     "output_type": "stream",
     "text": [
      "epoch: 8, [batch: 2688 / 6720], examples_per_second: 4027.9712, train_label_loss: 0.4419, \n"
     ]
    },
    {
     "name": "stdout",
     "output_type": "stream",
     "text": [
      "epoch: 8, [batch: 3360 / 6720], examples_per_second: 3954.3249, train_label_loss: 0.0716, \n"
     ]
    },
    {
     "name": "stdout",
     "output_type": "stream",
     "text": [
      "epoch: 8, [batch: 4032 / 6720], examples_per_second: 4062.3389, train_label_loss: 0.0976, \n"
     ]
    },
    {
     "name": "stdout",
     "output_type": "stream",
     "text": [
      "epoch: 8, [batch: 4704 / 6720], examples_per_second: 4020.0336, train_label_loss: 0.1036, \n"
     ]
    },
    {
     "name": "stdout",
     "output_type": "stream",
     "text": [
      "epoch: 8, [batch: 5376 / 6720], examples_per_second: 3936.1445, train_label_loss: 0.2312, \n"
     ]
    },
    {
     "name": "stdout",
     "output_type": "stream",
     "text": [
      "epoch: 8, [batch: 6048 / 6720], examples_per_second: 3989.9988, train_label_loss: 0.4563, \n"
     ]
    },
    {
     "name": "stdout",
     "output_type": "stream",
     "text": [
      "=============================================================\n",
      "epoch: 8, source_val_acc_label: 0.8154, target_val_acc_label: 0.9902, source_val_label_loss: 0.5512, target_val_label_loss: 0.8959, \n",
      "=============================================================\n"
     ]
    },
    {
     "name": "stdout",
     "output_type": "stream",
     "text": [
      "New best\n"
     ]
    },
    {
     "name": "stdout",
     "output_type": "stream",
     "text": [
      "epoch: 9, [batch: 1 / 6720], examples_per_second: 4.0672, train_label_loss: 0.2771, \n"
     ]
    },
    {
     "name": "stdout",
     "output_type": "stream",
     "text": [
      "epoch: 9, [batch: 672 / 6720], examples_per_second: 4054.8993, train_label_loss: 0.3506, \n"
     ]
    },
    {
     "name": "stdout",
     "output_type": "stream",
     "text": [
      "epoch: 9, [batch: 1344 / 6720], examples_per_second: 3961.8325, train_label_loss: 0.3300, \n"
     ]
    },
    {
     "name": "stdout",
     "output_type": "stream",
     "text": [
      "epoch: 9, [batch: 2016 / 6720], examples_per_second: 3915.9905, train_label_loss: 0.1821, \n"
     ]
    },
    {
     "name": "stdout",
     "output_type": "stream",
     "text": [
      "epoch: 9, [batch: 2688 / 6720], examples_per_second: 3833.7737, train_label_loss: 0.0632, \n"
     ]
    },
    {
     "name": "stdout",
     "output_type": "stream",
     "text": [
      "epoch: 9, [batch: 3360 / 6720], examples_per_second: 4023.2828, train_label_loss: 0.3460, \n"
     ]
    },
    {
     "name": "stdout",
     "output_type": "stream",
     "text": [
      "epoch: 9, [batch: 4032 / 6720], examples_per_second: 3935.5323, train_label_loss: 0.0764, \n"
     ]
    },
    {
     "name": "stdout",
     "output_type": "stream",
     "text": [
      "epoch: 9, [batch: 4704 / 6720], examples_per_second: 3933.9894, train_label_loss: 0.0489, \n"
     ]
    },
    {
     "name": "stdout",
     "output_type": "stream",
     "text": [
      "epoch: 9, [batch: 5376 / 6720], examples_per_second: 3913.6539, train_label_loss: 0.2173, \n"
     ]
    },
    {
     "name": "stdout",
     "output_type": "stream",
     "text": [
      "epoch: 9, [batch: 6048 / 6720], examples_per_second: 3849.5179, train_label_loss: 0.0973, \n"
     ]
    },
    {
     "name": "stdout",
     "output_type": "stream",
     "text": [
      "=============================================================\n",
      "epoch: 9, source_val_acc_label: 0.8142, target_val_acc_label: 0.9910, source_val_label_loss: 0.5678, target_val_label_loss: 0.7230, \n",
      "=============================================================\n"
     ]
    },
    {
     "name": "stdout",
     "output_type": "stream",
     "text": [
      "New best\n"
     ]
    },
    {
     "name": "stdout",
     "output_type": "stream",
     "text": [
      "epoch: 10, [batch: 1 / 6720], examples_per_second: 3.9933, train_label_loss: 0.0365, \n"
     ]
    },
    {
     "name": "stdout",
     "output_type": "stream",
     "text": [
      "epoch: 10, [batch: 672 / 6720], examples_per_second: 4309.5995, train_label_loss: 0.1672, \n"
     ]
    },
    {
     "name": "stdout",
     "output_type": "stream",
     "text": [
      "epoch: 10, [batch: 1344 / 6720], examples_per_second: 4407.2508, train_label_loss: 0.2529, \n"
     ]
    },
    {
     "name": "stdout",
     "output_type": "stream",
     "text": [
      "epoch: 10, [batch: 2016 / 6720], examples_per_second: 4319.9984, train_label_loss: 0.3236, \n"
     ]
    },
    {
     "name": "stdout",
     "output_type": "stream",
     "text": [
      "epoch: 10, [batch: 2688 / 6720], examples_per_second: 4316.3639, train_label_loss: 0.1642, \n"
     ]
    },
    {
     "name": "stdout",
     "output_type": "stream",
     "text": [
      "epoch: 10, [batch: 3360 / 6720], examples_per_second: 4480.8987, train_label_loss: 0.3753, \n"
     ]
    },
    {
     "name": "stdout",
     "output_type": "stream",
     "text": [
      "epoch: 10, [batch: 4032 / 6720], examples_per_second: 5177.8973, train_label_loss: 0.1983, \n"
     ]
    },
    {
     "name": "stdout",
     "output_type": "stream",
     "text": [
      "epoch: 10, [batch: 4704 / 6720], examples_per_second: 5205.7180, train_label_loss: 0.0422, \n"
     ]
    },
    {
     "name": "stdout",
     "output_type": "stream",
     "text": [
      "epoch: 10, [batch: 5376 / 6720], examples_per_second: 4549.3733, train_label_loss: 0.2091, \n"
     ]
    },
    {
     "name": "stdout",
     "output_type": "stream",
     "text": [
      "epoch: 10, [batch: 6048 / 6720], examples_per_second: 3943.9989, train_label_loss: 0.1678, \n"
     ]
    },
    {
     "name": "stdout",
     "output_type": "stream",
     "text": [
      "=============================================================\n",
      "epoch: 10, source_val_acc_label: 0.8130, target_val_acc_label: 0.9898, source_val_label_loss: 0.5931, target_val_label_loss: 0.9151, \n",
      "=============================================================\n"
     ]
    },
    {
     "name": "stdout",
     "output_type": "stream",
     "text": [
      "epoch: 11, [batch: 1 / 6720], examples_per_second: 4.0764, train_label_loss: 0.1324, \n"
     ]
    },
    {
     "name": "stdout",
     "output_type": "stream",
     "text": [
      "epoch: 11, [batch: 672 / 6720], examples_per_second: 3913.4596, train_label_loss: 0.0581, \n"
     ]
    },
    {
     "name": "stdout",
     "output_type": "stream",
     "text": [
      "epoch: 11, [batch: 1344 / 6720], examples_per_second: 3966.6481, train_label_loss: 0.8771, \n"
     ]
    },
    {
     "name": "stdout",
     "output_type": "stream",
     "text": [
      "epoch: 11, [batch: 2016 / 6720], examples_per_second: 3916.9740, train_label_loss: 0.4128, \n"
     ]
    },
    {
     "name": "stdout",
     "output_type": "stream",
     "text": [
      "epoch: 11, [batch: 2688 / 6720], examples_per_second: 3948.8806, train_label_loss: 0.0721, \n"
     ]
    },
    {
     "name": "stdout",
     "output_type": "stream",
     "text": [
      "epoch: 11, [batch: 3360 / 6720], examples_per_second: 3939.9093, train_label_loss: 0.0451, \n"
     ]
    },
    {
     "name": "stdout",
     "output_type": "stream",
     "text": [
      "epoch: 11, [batch: 4032 / 6720], examples_per_second: 4002.9508, train_label_loss: 0.1149, \n"
     ]
    },
    {
     "name": "stdout",
     "output_type": "stream",
     "text": [
      "epoch: 11, [batch: 4704 / 6720], examples_per_second: 3911.0235, train_label_loss: 0.3893, \n"
     ]
    },
    {
     "name": "stdout",
     "output_type": "stream",
     "text": [
      "epoch: 11, [batch: 5376 / 6720], examples_per_second: 3933.6806, train_label_loss: 0.1500, \n"
     ]
    },
    {
     "name": "stdout",
     "output_type": "stream",
     "text": [
      "epoch: 11, [batch: 6048 / 6720], examples_per_second: 3920.3598, train_label_loss: 0.3628, \n"
     ]
    },
    {
     "name": "stdout",
     "output_type": "stream",
     "text": [
      "=============================================================\n",
      "epoch: 11, source_val_acc_label: 0.8079, target_val_acc_label: 0.9899, source_val_label_loss: 0.6197, target_val_label_loss: 1.0075, \n",
      "=============================================================\n"
     ]
    },
    {
     "name": "stdout",
     "output_type": "stream",
     "text": [
      "epoch: 12, [batch: 1 / 6720], examples_per_second: 4.0152, train_label_loss: 0.1007, \n"
     ]
    },
    {
     "name": "stdout",
     "output_type": "stream",
     "text": [
      "epoch: 12, [batch: 672 / 6720], examples_per_second: 3951.3868, train_label_loss: 0.0179, \n"
     ]
    },
    {
     "name": "stdout",
     "output_type": "stream",
     "text": [
      "epoch: 12, [batch: 1344 / 6720], examples_per_second: 3964.6242, train_label_loss: 0.3638, \n"
     ]
    },
    {
     "name": "stdout",
     "output_type": "stream",
     "text": [
      "epoch: 12, [batch: 2016 / 6720], examples_per_second: 4012.5972, train_label_loss: 0.1969, \n"
     ]
    },
    {
     "name": "stdout",
     "output_type": "stream",
     "text": [
      "epoch: 12, [batch: 2688 / 6720], examples_per_second: 3964.2418, train_label_loss: 0.2701, \n"
     ]
    },
    {
     "name": "stdout",
     "output_type": "stream",
     "text": [
      "epoch: 12, [batch: 3360 / 6720], examples_per_second: 3949.2361, train_label_loss: 0.0468, \n"
     ]
    },
    {
     "name": "stdout",
     "output_type": "stream",
     "text": [
      "epoch: 12, [batch: 4032 / 6720], examples_per_second: 4047.2887, train_label_loss: 0.1491, \n"
     ]
    },
    {
     "name": "stdout",
     "output_type": "stream",
     "text": [
      "epoch: 12, [batch: 4704 / 6720], examples_per_second: 4009.8044, train_label_loss: 0.0532, \n"
     ]
    },
    {
     "name": "stdout",
     "output_type": "stream",
     "text": [
      "epoch: 12, [batch: 5376 / 6720], examples_per_second: 3947.1459, train_label_loss: 0.1181, \n"
     ]
    },
    {
     "name": "stdout",
     "output_type": "stream",
     "text": [
      "epoch: 12, [batch: 6048 / 6720], examples_per_second: 3984.2723, train_label_loss: 0.1350, \n"
     ]
    },
    {
     "name": "stdout",
     "output_type": "stream",
     "text": [
      "=============================================================\n",
      "epoch: 12, source_val_acc_label: 0.8031, target_val_acc_label: 0.9886, source_val_label_loss: 0.6584, target_val_label_loss: 0.9935, \n",
      "=============================================================\n"
     ]
    },
    {
     "name": "stdout",
     "output_type": "stream",
     "text": [
      "epoch: 13, [batch: 1 / 6720], examples_per_second: 4.0541, train_label_loss: 0.0734, \n"
     ]
    },
    {
     "name": "stdout",
     "output_type": "stream",
     "text": [
      "epoch: 13, [batch: 672 / 6720], examples_per_second: 3839.9554, train_label_loss: 0.0617, \n"
     ]
    },
    {
     "name": "stdout",
     "output_type": "stream",
     "text": [
      "epoch: 13, [batch: 1344 / 6720], examples_per_second: 3934.5909, train_label_loss: 0.1190, \n"
     ]
    },
    {
     "name": "stdout",
     "output_type": "stream",
     "text": [
      "epoch: 13, [batch: 2016 / 6720], examples_per_second: 3977.1160, train_label_loss: 0.0298, \n"
     ]
    },
    {
     "name": "stdout",
     "output_type": "stream",
     "text": [
      "epoch: 13, [batch: 2688 / 6720], examples_per_second: 3851.1672, train_label_loss: 0.0339, \n"
     ]
    },
    {
     "name": "stdout",
     "output_type": "stream",
     "text": [
      "epoch: 13, [batch: 3360 / 6720], examples_per_second: 3976.1188, train_label_loss: 0.1522, \n"
     ]
    },
    {
     "name": "stdout",
     "output_type": "stream",
     "text": [
      "epoch: 13, [batch: 4032 / 6720], examples_per_second: 3950.3301, train_label_loss: 0.1322, \n"
     ]
    },
    {
     "name": "stdout",
     "output_type": "stream",
     "text": [
      "epoch: 13, [batch: 4704 / 6720], examples_per_second: 3910.6252, train_label_loss: 0.0060, \n"
     ]
    },
    {
     "name": "stdout",
     "output_type": "stream",
     "text": [
      "epoch: 13, [batch: 5376 / 6720], examples_per_second: 3947.0842, train_label_loss: 0.0238, \n"
     ]
    },
    {
     "name": "stdout",
     "output_type": "stream",
     "text": [
      "epoch: 13, [batch: 6048 / 6720], examples_per_second: 3980.9800, train_label_loss: 0.1772, \n"
     ]
    },
    {
     "name": "stdout",
     "output_type": "stream",
     "text": [
      "=============================================================\n",
      "epoch: 13, source_val_acc_label: 0.8088, target_val_acc_label: 0.9890, source_val_label_loss: 0.6641, target_val_label_loss: 1.2464, \n",
      "=============================================================\n"
     ]
    },
    {
     "name": "stdout",
     "output_type": "stream",
     "text": [
      "Patience (3) exhausted\n"
     ]
    }
   ],
   "source": [
    "###################################\n",
    "# train\n",
    "###################################\n",
    "jig = PTN_Train_Eval_Test_Jig(model, p.BEST_MODEL_PATH, p.device)\n",
    "\n",
    "jig.train(\n",
    "    train_iterable=datasets.source.processed.train,\n",
    "    source_val_iterable=datasets.source.processed.val,\n",
    "    target_val_iterable=datasets.target.processed.val,\n",
    "    num_epochs=p.n_epoch,\n",
    "    num_logs_per_epoch=p.NUM_LOGS_PER_EPOCH,\n",
    "    patience=p.patience,\n",
    "    optimizer=optimizer,\n",
    "    criteria_for_best=p.criteria_for_best,\n",
    ")"
   ]
  },
  {
   "cell_type": "code",
   "execution_count": 23,
   "id": "31e8fabf",
   "metadata": {
    "execution": {
     "iopub.execute_input": "2022-03-22T13:47:03.923277Z",
     "iopub.status.busy": "2022-03-22T13:47:03.922876Z",
     "iopub.status.idle": "2022-03-22T13:47:03.955317Z",
     "shell.execute_reply": "2022-03-22T13:47:03.954546Z"
    },
    "papermill": {
     "duration": 0.102087,
     "end_time": "2022-03-22T13:47:03.955507",
     "exception": false,
     "start_time": "2022-03-22T13:47:03.853420",
     "status": "completed"
    },
    "tags": []
   },
   "outputs": [],
   "source": [
    "total_experiment_time_secs = time.time() - start_time_secs"
   ]
  },
  {
   "cell_type": "code",
   "execution_count": 24,
   "id": "87b9595b",
   "metadata": {
    "execution": {
     "iopub.execute_input": "2022-03-22T13:47:04.102191Z",
     "iopub.status.busy": "2022-03-22T13:47:04.101555Z",
     "iopub.status.idle": "2022-03-22T13:49:50.661342Z",
     "shell.execute_reply": "2022-03-22T13:49:50.660584Z"
    },
    "papermill": {
     "duration": 166.634628,
     "end_time": "2022-03-22T13:49:50.661537",
     "exception": false,
     "start_time": "2022-03-22T13:47:04.026909",
     "status": "completed"
    },
    "tags": []
   },
   "outputs": [],
   "source": [
    "###################################\n",
    "# Evaluate the model\n",
    "###################################\n",
    "source_test_label_accuracy, source_test_label_loss = jig.test(datasets.source.processed.test)\n",
    "target_test_label_accuracy, target_test_label_loss = jig.test(datasets.target.processed.test)\n",
    "\n",
    "source_val_label_accuracy, source_val_label_loss = jig.test(datasets.source.processed.val)\n",
    "target_val_label_accuracy, target_val_label_loss = jig.test(datasets.target.processed.val)\n",
    "\n",
    "history = jig.get_history()\n",
    "\n",
    "total_epochs_trained = len(history[\"epoch_indices\"])\n",
    "\n",
    "val_dl = Iterable_Aggregator((datasets.source.original.val,datasets.target.original.val))\n",
    "\n",
    "confusion = ptn_confusion_by_domain_over_dataloader(model, p.device, val_dl)\n",
    "per_domain_accuracy = per_domain_accuracy_from_confusion(confusion)\n",
    "\n",
    "# Add a key to per_domain_accuracy for if it was a source domain\n",
    "for domain, accuracy in per_domain_accuracy.items():\n",
    "    per_domain_accuracy[domain] = {\n",
    "        \"accuracy\": accuracy,\n",
    "        \"source?\": domain in p.domains_source\n",
    "    }\n",
    "\n",
    "# Do an independent accuracy assesment JUST TO BE SURE!\n",
    "# _source_test_label_accuracy = independent_accuracy_assesment(model, datasets.source.processed.test, p.device)\n",
    "# _target_test_label_accuracy = independent_accuracy_assesment(model, datasets.target.processed.test, p.device)\n",
    "# _source_val_label_accuracy = independent_accuracy_assesment(model, datasets.source.processed.val, p.device)\n",
    "# _target_val_label_accuracy = independent_accuracy_assesment(model, datasets.target.processed.val, p.device)\n",
    "\n",
    "# assert(_source_test_label_accuracy == source_test_label_accuracy)\n",
    "# assert(_target_test_label_accuracy == target_test_label_accuracy)\n",
    "# assert(_source_val_label_accuracy == source_val_label_accuracy)\n",
    "# assert(_target_val_label_accuracy == target_val_label_accuracy)\n",
    "\n",
    "experiment = {\n",
    "    \"experiment_name\": p.experiment_name,\n",
    "    \"parameters\": dict(p),\n",
    "    \"results\": {\n",
    "        \"source_test_label_accuracy\": source_test_label_accuracy,\n",
    "        \"source_test_label_loss\": source_test_label_loss,\n",
    "        \"target_test_label_accuracy\": target_test_label_accuracy,\n",
    "        \"target_test_label_loss\": target_test_label_loss,\n",
    "        \"source_val_label_accuracy\": source_val_label_accuracy,\n",
    "        \"source_val_label_loss\": source_val_label_loss,\n",
    "        \"target_val_label_accuracy\": target_val_label_accuracy,\n",
    "        \"target_val_label_loss\": target_val_label_loss,\n",
    "        \"total_epochs_trained\": total_epochs_trained,\n",
    "        \"total_experiment_time_secs\": total_experiment_time_secs,\n",
    "        \"confusion\": confusion,\n",
    "        \"per_domain_accuracy\": per_domain_accuracy,\n",
    "    },\n",
    "    \"history\": history,\n",
    "    \"dataset_metrics\": get_dataset_metrics(datasets, \"ptn\"),\n",
    "}"
   ]
  },
  {
   "cell_type": "code",
   "execution_count": 25,
   "id": "54a21829",
   "metadata": {
    "execution": {
     "iopub.execute_input": "2022-03-22T13:49:50.842421Z",
     "iopub.status.busy": "2022-03-22T13:49:50.842037Z",
     "iopub.status.idle": "2022-03-22T13:49:51.067423Z",
     "shell.execute_reply": "2022-03-22T13:49:51.068126Z"
    },
    "papermill": {
     "duration": 0.337648,
     "end_time": "2022-03-22T13:49:51.068346",
     "exception": false,
     "start_time": "2022-03-22T13:49:50.730698",
     "status": "completed"
    },
    "tags": []
   },
   "outputs": [
    {
     "data": {
      "image/png": "[encoded data removed]",
      "text/plain": [
       "<Figure size 1080x504 with 1 Axes>"
      ]
     },
     "metadata": {
      "needs_background": "light"
     },
     "output_type": "display_data"
    }
   ],
   "source": [
    "ax = get_loss_curve(experiment)\n",
    "plt.show()"
   ]
  },
  {
   "cell_type": "code",
   "execution_count": 26,
   "id": "fd8a0f60",
   "metadata": {
    "execution": {
     "iopub.execute_input": "2022-03-22T13:49:51.207069Z",
     "iopub.status.busy": "2022-03-22T13:49:51.206699Z",
     "iopub.status.idle": "2022-03-22T13:49:51.578014Z",
     "shell.execute_reply": "2022-03-22T13:49:51.578727Z"
    },
    "papermill": {
     "duration": 0.440757,
     "end_time": "2022-03-22T13:49:51.578918",
     "exception": false,
     "start_time": "2022-03-22T13:49:51.138161",
     "status": "completed"
    },
    "tags": []
   },
   "outputs": [
    {
     "data": {
      "text/plain": [
       "<AxesSubplot:title={'center':'Results'}>"
      ]
     },
     "execution_count": 26,
     "metadata": {},
     "output_type": "execute_result"
    },
    {
     "data": {
      "image/png": "[encoded data removed]",
      "text/plain": [
       "<Figure size 1080x504 with 1 Axes>"
      ]
     },
     "metadata": {
      "needs_background": "light"
     },
     "output_type": "display_data"
    }
   ],
   "source": [
    "get_results_table(experiment)"
   ]
  },
  {
   "cell_type": "code",
   "execution_count": 27,
   "id": "cf8dc689",
   "metadata": {
    "execution": {
     "iopub.execute_input": "2022-03-22T13:49:51.719607Z",
     "iopub.status.busy": "2022-03-22T13:49:51.719218Z",
     "iopub.status.idle": "2022-03-22T13:49:51.978329Z",
     "shell.execute_reply": "2022-03-22T13:49:51.979010Z"
    },
    "papermill": {
     "duration": 0.330232,
     "end_time": "2022-03-22T13:49:51.979198",
     "exception": false,
     "start_time": "2022-03-22T13:49:51.648966",
     "status": "completed"
    },
    "tags": []
   },
   "outputs": [
    {
     "data": {
      "text/plain": [
       "<AxesSubplot:title={'center':'Per Domain Validation Accuracy'}, xlabel='domain'>"
      ]
     },
     "execution_count": 27,
     "metadata": {},
     "output_type": "execute_result"
    },
    {
     "data": {
      "image/png": "[encoded data removed]",
      "text/plain": [
       "<Figure size 1080x504 with 1 Axes>"
      ]
     },
     "metadata": {
      "needs_background": "light"
     },
     "output_type": "display_data"
    }
   ],
   "source": [
    "get_domain_accuracies(experiment)"
   ]
  },
  {
   "cell_type": "code",
   "execution_count": 28,
   "id": "a74ae082",
   "metadata": {
    "execution": {
     "iopub.execute_input": "2022-03-22T13:49:52.126003Z",
     "iopub.status.busy": "2022-03-22T13:49:52.125628Z",
     "iopub.status.idle": "2022-03-22T13:49:52.148155Z",
     "shell.execute_reply": "2022-03-22T13:49:52.147455Z"
    },
    "papermill": {
     "duration": 0.093686,
     "end_time": "2022-03-22T13:49:52.148316",
     "exception": false,
     "start_time": "2022-03-22T13:49:52.054630",
     "status": "completed"
    },
    "tags": []
   },
   "outputs": [
    {
     "name": "stdout",
     "output_type": "stream",
     "text": [
      "Source Test Label Accuracy: 0.8181966145833334 Target Test Label Accuracy: 0.9910414333706606\n",
      "Source Val Label Accuracy: 0.8141927083333333 Target Val Label Accuracy: 0.9909897025171625\n"
     ]
    }
   ],
   "source": [
    "print(\"Source Test Label Accuracy:\", experiment[\"results\"][\"source_test_label_accuracy\"], \"Target Test Label Accuracy:\", experiment[\"results\"][\"target_test_label_accuracy\"])\n",
    "print(\"Source Val Label Accuracy:\", experiment[\"results\"][\"source_val_label_accuracy\"], \"Target Val Label Accuracy:\", experiment[\"results\"][\"target_val_label_accuracy\"])"
   ]
  },
  {
   "cell_type": "code",
   "execution_count": 29,
   "id": "dacca602",
   "metadata": {
    "execution": {
     "iopub.execute_input": "2022-03-22T13:49:52.301041Z",
     "iopub.status.busy": "2022-03-22T13:49:52.300670Z",
     "iopub.status.idle": "2022-03-22T13:49:52.327773Z",
     "shell.execute_reply": "2022-03-22T13:49:52.328462Z"
    },
    "papermill": {
     "duration": 0.106898,
     "end_time": "2022-03-22T13:49:52.328654",
     "exception": false,
     "start_time": "2022-03-22T13:49:52.221756",
     "status": "completed"
    },
    "tags": [
     "experiment_json"
    ]
   },
   "outputs": [
    {
     "data": {
      "text/plain": [
       "'{\"experiment_name\": \"tl_1v2:cores-oracle.run1.limited\", \"parameters\": {\"experiment_name\": \"tl_1v2:cores-oracle.run1.limited\", \"device\": \"cuda\", \"lr\": 0.0001, \"n_shot\": 3, \"n_query\": 2, \"train_k_factor\": 3, \"val_k_factor\": 2, \"test_k_factor\": 2, \"torch_default_dtype\": \"torch.float32\", \"n_epoch\": 50, \"patience\": 3, \"criteria_for_best\": \"target_accuracy\", \"x_net\": [{\"class\": \"nnReshape\", \"kargs\": {\"shape\": [-1, 1, 2, 256]}}, {\"class\": \"Conv2d\", \"kargs\": {\"in_channels\": 1, \"out_channels\": 256, \"kernel_size\": [1, 7], \"bias\": false, \"padding\": [0, 3]}}, {\"class\": \"ReLU\", \"kargs\": {\"inplace\": true}}, {\"class\": \"BatchNorm2d\", \"kargs\": {\"num_features\": 256}}, {\"class\": \"Conv2d\", \"kargs\": {\"in_channels\": 256, \"out_channels\": 80, \"kernel_size\": [2, 7], \"bias\": true, \"padding\": [0, 3]}}, {\"class\": \"ReLU\", \"kargs\": {\"inplace\": true}}, {\"class\": \"BatchNorm2d\", \"kargs\": {\"num_features\": 80}}, {\"class\": \"Flatten\", \"kargs\": {}}, {\"class\": \"Linear\", \"kargs\": {\"in_features\": 20480, \"out_features\": 256}}, {\"class\": \"ReLU\", \"kargs\": {\"inplace\": true}}, {\"class\": \"BatchNorm1d\", \"kargs\": {\"num_features\": 256}}, {\"class\": \"Linear\", \"kargs\": {\"in_features\": 256, \"out_features\": 256}}], \"NUM_LOGS_PER_EPOCH\": 10, \"BEST_MODEL_PATH\": \"./best_model.pth\", \"n_way\": 16, \"datasets\": [{\"labels\": [\"1-10.\", \"1-11.\", \"1-15.\", \"1-16.\", \"1-17.\", \"1-18.\", \"1-19.\", \"10-4.\", \"10-7.\", \"11-1.\", \"11-14.\", \"11-17.\", \"11-20.\", \"11-7.\", \"13-20.\", \"13-8.\", \"14-10.\", \"14-11.\", \"14-14.\", \"14-7.\", \"15-1.\", \"15-20.\", \"16-1.\", \"16-16.\", \"17-10.\", \"17-11.\", \"17-2.\", \"19-1.\", \"19-16.\", \"19-19.\", \"19-20.\", \"19-3.\", \"2-10.\", \"2-11.\", \"2-17.\", \"2-18.\", \"2-20.\", \"2-3.\", \"2-4.\", \"2-5.\", \"2-6.\", \"2-7.\", \"2-8.\", \"3-13.\", \"3-18.\", \"3-3.\", \"4-1.\", \"4-10.\", \"4-11.\", \"4-19.\", \"5-5.\", \"6-15.\", \"7-10.\", \"7-14.\", \"8-18.\", \"8-20.\", \"8-3.\", \"8-8.\"], \"domains\": [1, 2, 3, 4, 5], \"num_examples_per_domain_per_label\": -1, \"pickle_path\": \"/root/csc500-main/datasets/cores.stratified_ds.2022A.pkl\", \"source_or_target_dataset\": \"target\", \"x_transforms\": [], \"episode_transforms\": [], \"domain_prefix\": \"CORES_\"}, {\"labels\": [\"3123D52\", \"3123D65\", \"3123D79\", \"3123D80\", \"3123D54\", \"3123D70\", \"3123D7B\", \"3123D89\", \"3123D58\", \"3123D76\", \"3123D7D\", \"3123EFE\", \"3123D64\", \"3123D78\", \"3123D7E\", \"3124E4A\"], \"domains\": [32, 38, 8, 44, 14, 50, 20, 26], \"num_examples_per_domain_per_label\": 2000, \"pickle_path\": \"/root/csc500-main/datasets/oracle.Run1_10kExamples_stratified_ds.2022A.pkl\", \"source_or_target_dataset\": \"source\", \"x_transforms\": [], \"episode_transforms\": [], \"domain_prefix\": \"ORACLE.run1_\"}], \"dataset_seed\": 154325, \"seed\": 154325, \"x_shape\": [2, 256], \"domains_source\": [\"ORACLE.run1_32\", \"ORACLE.run1_38\", \"ORACLE.run1_8\", \"ORACLE.run1_44\", \"ORACLE.run1_14\", \"ORACLE.run1_50\", \"ORACLE.run1_20\", \"ORACLE.run1_26\"], \"domains_target\": [\"CORES_1\", \"CORES_2\", \"CORES_3\", \"CORES_4\", \"CORES_5\"]}, \"results\": {\"source_test_label_accuracy\": 0.8181966145833334, \"source_test_label_loss\": 0.559246838092804, \"target_test_label_accuracy\": 0.9910414333706606, \"target_test_label_loss\": 0.672722339630127, \"source_val_label_accuracy\": 0.8141927083333333, \"source_val_label_loss\": 0.567780077457428, \"target_val_label_accuracy\": 0.9909897025171625, \"target_val_label_loss\": 0.722984790802002, \"total_epochs_trained\": 13, \"total_experiment_time_secs\": 2092.947395801544, \"confusion\": {\"ORACLE.run1_8\": {\"13\": {\"13\": 176, \"10\": 33, \"6\": 12, \"7\": 17, \"5\": 1, \"1\": 1}, \"9\": {\"9\": 240}, \"15\": {\"15\": 193, \"12\": 34, \"2\": 13}, \"2\": {\"3\": 28, \"2\": 178, \"15\": 16, \"12\": 18}, \"3\": {\"3\": 237, \"2\": 3}, \"8\": {\"8\": 229, \"6\": 8, \"4\": 2, \"7\": 1}, \"5\": {\"1\": 17, \"5\": 183, \"10\": 33, \"11\": 5, \"13\": 2}, \"14\": {\"1\": 2, \"14\": 208, \"4\": 23, \"11\": 7}, \"1\": {\"1\": 159, \"10\": 14, \"11\": 51, \"5\": 11, \"6\": 2, \"4\": 1, \"13\": 2}, \"0\": {\"0\": 240}, \"10\": {\"10\": 157, \"13\": 36, \"5\": 24, \"1\": 17, \"6\": 3, \"11\": 1, \"4\": 2}, \"6\": {\"7\": 57, \"6\": 158, \"8\": 2, \"10\": 7, \"4\": 8, \"13\": 7, \"11\": 1}, \"11\": {\"1\": 95, \"11\": 113, \"8\": 5, \"4\": 7, \"6\": 2, \"5\": 5, \"14\": 9, \"7\": 1, \"10\": 3}, \"7\": {\"7\": 195, \"6\": 40, \"13\": 5}, \"4\": {\"4\": 206, \"11\": 6, \"6\": 16, \"14\": 7, \"10\": 3, \"1\": 2}, \"12\": {\"15\": 60, \"12\": 176, \"2\": 4}}, \"ORACLE.run1_38\": {\"13\": {\"13\": 219, \"14\": 1, \"10\": 20}, \"12\": {\"12\": 238, \"14\": 2}, \"2\": {\"2\": 220, \"14\": 20}, \"9\": {\"9\": 235, \"5\": 5}, \"15\": {\"15\": 226, \"5\": 6, \"1\": 5, \"12\": 1, \"8\": 2}, \"5\": {\"7\": 22, \"8\": 94, \"5\": 96, \"9\": 22, \"0\": 1, \"13\": 1, \"15\": 4}, \"14\": {\"14\": 224, \"2\": 15, \"13\": 1}, \"0\": {\"0\": 153, \"3\": 12, \"10\": 33, \"7\": 36, \"13\": 3, \"4\": 2, \"9\": 1}, \"3\": {\"3\": 240}, \"1\": {\"1\": 240}, \"11\": {\"11\": 240}, \"7\": {\"7\": 225, \"8\": 5, \"0\": 5, \"5\": 3, \"9\": 2}, \"8\": {\"8\": 127, \"5\": 84, \"13\": 7, \"15\": 3, \"7\": 16, \"0\": 2, \"2\": 1}, \"4\": {\"4\": 239, \"0\": 1}, \"10\": {\"10\": 214, \"0\": 11, \"13\": 13, \"4\": 2}, \"6\": {\"6\": 240}}, \"ORACLE.run1_26\": {\"10\": {\"0\": 29, \"10\": 128, \"6\": 19, \"1\": 6, \"15\": 14, \"14\": 44}, \"12\": {\"12\": 240}, \"1\": {\"1\": 190, \"5\": 8, \"14\": 24, \"10\": 9, \"6\": 7, \"15\": 2}, \"0\": {\"0\": 154, \"14\": 22, \"2\": 4, \"10\": 41, \"8\": 9, \"1\": 1, \"15\": 4, \"9\": 3, \"6\": 1, \"7\": 1}, \"15\": {\"5\": 48, \"10\": 25, \"15\": 120, \"1\": 4, \"6\": 35, \"14\": 7, \"0\": 1}, \"13\": {\"13\": 207, \"4\": 4, \"9\": 21, \"8\": 1, \"7\": 1, \"2\": 3, \"3\": 3}, \"8\": {\"7\": 40, \"8\": 152, \"9\": 38, \"2\": 5, \"0\": 3, \"3\": 2}, \"3\": {\"3\": 216, \"7\": 16, \"4\": 4, \"13\": 2, \"2\": 2}, \"11\": {\"11\": 240}, \"4\": {\"4\": 239, \"3\": 1}, \"6\": {\"6\": 183, \"5\": 15, \"15\": 26, \"10\": 11, \"14\": 2, \"1\": 3}, \"7\": {\"7\": 141, \"8\": 33, \"3\": 32, \"2\": 32, \"9\": 2}, \"14\": {\"14\": 132, \"1\": 31, \"0\": 20, \"10\": 47, \"6\": 3, \"15\": 7}, \"2\": {\"2\": 123, \"3\": 20, \"0\": 12, \"9\": 9, \"8\": 33, \"7\": 40, \"15\": 1, \"13\": 2}, \"5\": {\"5\": 165, \"6\": 18, \"15\": 55, \"1\": 1, \"10\": 1}, \"9\": {\"9\": 137, \"7\": 8, \"8\": 60, \"4\": 1, \"2\": 10, \"13\": 17, \"0\": 6, \"3\": 1}}, \"ORACLE.run1_20\": {\"5\": {\"5\": 131, \"1\": 64, \"3\": 28, \"9\": 11, \"15\": 2, \"12\": 4}, \"15\": {\"13\": 7, \"12\": 28, \"15\": 168, \"1\": 32, \"2\": 3, \"5\": 2}, \"9\": {\"3\": 37, \"5\": 14, \"7\": 32, \"9\": 116, \"1\": 17, \"13\": 2, \"12\": 6, \"2\": 13, \"15\": 2, \"8\": 1}, \"7\": {\"7\": 187, \"9\": 21, \"4\": 7, \"2\": 17, \"12\": 2, \"3\": 2, \"6\": 3, \"14\": 1}, \"3\": {\"3\": 156, \"8\": 12, \"9\": 36, \"7\": 7, \"1\": 6, \"0\": 4, \"5\": 16, \"12\": 2, \"2\": 1}, \"8\": {\"3\": 13, \"8\": 207, \"14\": 14, \"7\": 3, \"4\": 1, \"0\": 1, \"9\": 1}, \"4\": {\"4\": 185, \"12\": 22, \"2\": 10, \"7\": 11, \"10\": 9, \"6\": 1, \"5\": 1, \"13\": 1}, \"6\": {\"6\": 229, \"7\": 4, \"14\": 7}, \"2\": {\"13\": 14, \"2\": 114, \"12\": 45, \"7\": 33, \"9\": 24, \"4\": 5, \"15\": 4, \"1\": 1}, \"12\": {\"15\": 38, \"2\": 46, \"12\": 119, \"1\": 10, \"7\": 3, \"4\": 12, \"13\": 3, \"3\": 2, \"9\": 6, \"5\": 1}, \"0\": {\"0\": 224, \"3\": 3, \"5\": 8, \"1\": 5}, \"13\": {\"13\": 187, \"2\": 24, \"15\": 17, \"12\": 12}, \"10\": {\"10\": 230, \"4\": 9, \"6\": 1}, \"11\": {\"11\": 240}, \"14\": {\"14\": 218, \"8\": 18, \"6\": 4}, \"1\": {\"1\": 113, \"5\": 76, \"9\": 10, \"15\": 25, \"12\": 7, \"2\": 2, \"3\": 7}}, \"ORACLE.run1_50\": {\"1\": {\"13\": 6, \"1\": 232, \"0\": 1, \"5\": 1}, \"2\": {\"2\": 223, \"0\": 17}, \"8\": {\"8\": 238, \"10\": 2}, \"7\": {\"7\": 203, \"5\": 27, \"4\": 10}, \"14\": {\"14\": 239, \"2\": 1}, \"6\": {\"5\": 39, \"6\": 189, \"4\": 3, \"15\": 9}, \"3\": {\"3\": 240}, \"4\": {\"15\": 14, \"4\": 196, \"7\": 22, \"5\": 5, \"6\": 3}, \"12\": {\"12\": 219, \"9\": 16, \"11\": 5}, \"15\": {\"15\": 214, \"4\": 2, \"6\": 8, \"5\": 1, \"11\": 15}, \"11\": {\"11\": 213, \"15\": 8, \"9\": 13, \"12\": 6}, \"0\": {\"0\": 208, \"10\": 11, \"2\": 21}, \"9\": {\"9\": 195, \"12\": 24, \"11\": 20, \"15\": 1}, \"10\": {\"10\": 226, \"0\": 9, \"8\": 5}, \"5\": {\"5\": 84, \"7\": 81, \"6\": 52, \"13\": 9, \"4\": 10, \"15\": 4}, \"13\": {\"13\": 238, \"1\": 2}}, \"ORACLE.run1_32\": {\"2\": {\"2\": 203, \"4\": 37}, \"6\": {\"6\": 240}, \"5\": {\"5\": 139, \"14\": 17, \"0\": 25, \"7\": 47, \"8\": 12}, \"12\": {\"12\": 240}, \"13\": {\"3\": 32, \"13\": 167, \"4\": 33, \"11\": 7, \"2\": 1}, \"9\": {\"9\": 240}, \"11\": {\"11\": 238, \"13\": 2}, \"1\": {\"1\": 240}, \"3\": {\"3\": 221, \"13\": 19}, \"7\": {\"7\": 162, \"5\": 37, \"0\": 14, \"14\": 25, \"8\": 2}, \"14\": {\"7\": 75, \"14\": 115, \"0\": 14, \"5\": 9, \"2\": 7, \"3\": 5, \"8\": 4, \"4\": 10, \"13\": 1}, \"8\": {\"8\": 184, \"5\": 19, \"2\": 2, \"14\": 4, \"7\": 7, \"0\": 17, \"4\": 7}, \"4\": {\"4\": 187, \"2\": 43, \"13\": 10}, \"0\": {\"0\": 153, \"7\": 41, \"14\": 8, \"8\": 20, \"5\": 16, \"2\": 2}, \"10\": {\"10\": 240}, \"15\": {\"15\": 237, \"8\": 3}}, \"ORACLE.run1_44\": {\"13\": {\"9\": 6, \"13\": 185, \"6\": 42, \"11\": 7}, \"4\": {\"4\": 149, \"15\": 4, \"14\": 85, \"9\": 1, \"5\": 1}, \"6\": {\"9\": 16, \"6\": 176, \"13\": 48}, \"0\": {\"0\": 201, \"8\": 39}, \"10\": {\"10\": 227, \"2\": 5, \"1\": 3, \"7\": 5}, \"7\": {\"7\": 183, \"9\": 47, \"6\": 4, \"10\": 4, \"2\": 2}, \"14\": {\"14\": 152, \"4\": 63, \"15\": 10, \"5\": 15}, \"15\": {\"15\": 200, \"8\": 13, \"14\": 11, \"0\": 2, \"5\": 14}, \"5\": {\"5\": 210, \"15\": 11, \"8\": 8, \"14\": 8, \"4\": 3}, \"2\": {\"2\": 223, \"10\": 4, \"1\": 11, \"7\": 2}, \"9\": {\"7\": 60, \"9\": 129, \"6\": 35, \"13\": 15, \"2\": 1}, \"12\": {\"12\": 233, \"3\": 7}, \"8\": {\"8\": 162, \"0\": 62, \"15\": 10, \"5\": 6}, \"3\": {\"3\": 233, \"12\": 7}, \"1\": {\"1\": 219, \"2\": 18, \"10\": 3}, \"11\": {\"11\": 240}}, \"ORACLE.run1_14\": {\"1\": {\"1\": 240}, \"15\": {\"15\": 240}, \"10\": {\"10\": 240}, \"2\": {\"14\": 42, \"2\": 134, \"13\": 10, \"5\": 23, \"4\": 6, \"3\": 6, \"6\": 18, \"7\": 1}, \"9\": {\"9\": 240}, \"5\": {\"5\": 213, \"2\": 17, \"7\": 5, \"14\": 1, \"4\": 4}, \"7\": {\"7\": 234, \"2\": 1, \"5\": 5}, \"13\": {\"14\": 55, \"13\": 62, \"6\": 101, \"2\": 18, \"4\": 2, \"15\": 1, \"3\": 1}, \"8\": {\"8\": 240}, \"6\": {\"13\": 69, \"6\": 133, \"2\": 12, \"14\": 25, \"3\": 1}, \"3\": {\"3\": 224, \"14\": 9, \"13\": 1, \"0\": 3, \"2\": 2, \"5\": 1}, \"12\": {\"12\": 240}, \"0\": {\"0\": 224, \"3\": 11, \"10\": 4, \"14\": 1}, \"4\": {\"4\": 229, \"5\": 9, \"2\": 2}, \"14\": {\"14\": 179, \"6\": 15, \"13\": 27, \"2\": 14, \"3\": 4, \"5\": 1}, \"11\": {\"11\": 240}}, \"CORES_2\": {\"21\": {\"21\": 120}, \"4\": {\"4\": 130}, \"6\": {\"6\": 124}, \"10\": {\"10\": 112}, \"33\": {\"33\": 25, \"14\": 1, \"29\": 1, \"57\": 1}, \"56\": {\"56\": 122}, \"20\": {\"20\": 131, \"8\": 1}, \"24\": {\"24\": 96}, \"45\": {\"45\": 128}, \"32\": {\"32\": 28}, \"27\": {\"27\": 148}, \"53\": {\"53\": 136}, \"8\": {\"8\": 160}, \"54\": {\"54\": 108}, \"50\": {\"50\": 133, \"3\": 1}, \"44\": {\"44\": 100}, \"5\": {\"5\": 120}, \"38\": {\"38\": 20}, \"19\": {\"19\": 132}, \"1\": {\"1\": 112}, \"30\": {\"30\": 144}, \"15\": {\"15\": 144}, \"23\": {\"23\": 145, \"49\": 1}, \"35\": {\"35\": 32}, \"22\": {\"22\": 128}, \"40\": {\"40\": 140}, \"46\": {\"46\": 124, \"3\": 2}, \"3\": {\"3\": 91, \"6\": 1}, \"48\": {\"48\": 148}, \"52\": {\"52\": 124}, \"2\": {\"2\": 32}, \"26\": {\"26\": 24}, \"17\": {\"17\": 104}, \"55\": {\"55\": 144}, \"51\": {\"51\": 122}, \"42\": {\"42\": 36}, \"41\": {\"41\": 18, \"47\": 1, \"50\": 1}, \"31\": {\"31\": 28}, \"16\": {\"16\": 138}, \"36\": {\"36\": 116}, \"49\": {\"49\": 18, \"2\": 1, \"39\": 2, \"23\": 2, \"17\": 1}, \"0\": {\"0\": 48}, \"18\": {\"18\": 47, \"25\": 1}, \"25\": {\"25\": 146}, \"9\": {\"9\": 119, \"4\": 3}, \"47\": {\"47\": 132}, \"7\": {\"7\": 36}, \"37\": {\"37\": 36}, \"13\": {\"13\": 116}, \"14\": {\"14\": 17, \"29\": 1, \"33\": 2, \"1\": 1, \"41\": 1, \"57\": 2}, \"34\": {\"34\": 27, \"49\": 1}, \"57\": {\"57\": 140}, \"11\": {\"11\": 137, \"16\": 1}, \"39\": {\"39\": 26, \"2\": 1, \"41\": 1}, \"12\": {\"12\": 92}, \"28\": {\"28\": 28}, \"29\": {\"29\": 126, \"9\": 2}, \"43\": {\"43\": 138, \"11\": 1, \"15\": 1}}, \"CORES_5\": {\"12\": {\"12\": 96}, \"8\": {\"8\": 142}, \"29\": {\"29\": 132}, \"57\": {\"57\": 125, \"48\": 1}, \"38\": {\"8\": 1, \"38\": 31}, \"23\": {\"23\": 124}, \"56\": {\"56\": 138}, \"49\": {\"49\": 36}, \"4\": {\"4\": 100}, \"48\": {\"48\": 136}, \"21\": {\"21\": 144}, \"30\": {\"30\": 128}, \"1\": {\"1\": 148}, \"34\": {\"34\": 34, \"33\": 2}, \"35\": {\"35\": 36}, \"55\": {\"55\": 152}, \"5\": {\"5\": 122}, \"52\": {\"52\": 126}, \"6\": {\"6\": 128}, \"36\": {\"36\": 92}, \"41\": {\"41\": 25, \"27\": 2, \"14\": 1}, \"3\": {\"3\": 99, \"46\": 1}, \"28\": {\"28\": 32}, \"18\": {\"18\": 62, \"25\": 2}, \"25\": {\"25\": 136}, \"47\": {\"47\": 100}, \"13\": {\"13\": 160}, \"11\": {\"11\": 136, \"16\": 8}, \"53\": {\"53\": 144}, \"33\": {\"33\": 31, \"29\": 1}, \"46\": {\"46\": 148}, \"50\": {\"50\": 148}, \"10\": {\"10\": 68}, \"15\": {\"15\": 136, \"11\": 2}, \"44\": {\"44\": 140}, \"2\": {\"2\": 27, \"49\": 1}, \"7\": {\"7\": 32}, \"43\": {\"43\": 137, \"15\": 1}, \"32\": {\"32\": 32}, \"0\": {\"0\": 124}, \"39\": {\"39\": 20}, \"26\": {\"26\": 23, \"17\": 1}, \"27\": {\"27\": 112}, \"54\": {\"54\": 112}, \"17\": {\"17\": 116}, \"14\": {\"39\": 3, \"14\": 25, \"0\": 1, \"8\": 1, \"37\": 1, \"41\": 1, \"29\": 2, \"27\": 4, \"36\": 3, \"47\": 3}, \"16\": {\"16\": 141, \"11\": 7}, \"9\": {\"9\": 148}, \"19\": {\"19\": 152}, \"20\": {\"20\": 138}, \"37\": {\"37\": 23, \"13\": 1}, \"24\": {\"24\": 80}, \"40\": {\"40\": 122}, \"45\": {\"45\": 124}, \"22\": {\"22\": 28}, \"42\": {\"42\": 38, \"35\": 1, \"2\": 1}, \"51\": {\"51\": 118}, \"31\": {\"31\": 36}}, \"CORES_1\": {\"27\": {\"27\": 142}, \"2\": {\"2\": 36}, \"33\": {\"33\": 32}, \"45\": {\"45\": 156}, \"38\": {\"38\": 22, \"21\": 1, \"36\": 1}, \"4\": {\"4\": 132}, \"31\": {\"31\": 28}, \"55\": {\"55\": 140}, \"32\": {\"32\": 32}, \"57\": {\"57\": 140}, \"14\": {\"14\": 17, \"30\": 1, \"8\": 6}, \"16\": {\"16\": 140}, \"34\": {\"34\": 24}, \"56\": {\"56\": 126}, \"24\": {\"24\": 108}, \"30\": {\"30\": 112}, \"17\": {\"17\": 64}, \"13\": {\"13\": 138}, \"39\": {\"39\": 24, \"21\": 1, \"49\": 1, \"52\": 1, \"38\": 1}, \"50\": {\"50\": 146}, \"20\": {\"20\": 138, \"12\": 2}, \"41\": {\"41\": 23, \"13\": 1}, \"53\": {\"53\": 126}, \"48\": {\"48\": 142}, \"36\": {\"36\": 64}, \"8\": {\"8\": 140}, \"15\": {\"15\": 132}, \"40\": {\"40\": 156}, \"37\": {\"37\": 31, \"36\": 1}, \"21\": {\"21\": 119, \"52\": 1}, \"35\": {\"35\": 36}, \"49\": {\"49\": 32}, \"26\": {\"26\": 23, \"25\": 1}, \"28\": {\"28\": 28}, \"12\": {\"12\": 116}, \"5\": {\"5\": 152}, \"29\": {\"29\": 140}, \"47\": {\"47\": 140}, \"10\": {\"10\": 96}, \"18\": {\"18\": 71, \"40\": 1}, \"9\": {\"9\": 126}, \"3\": {\"3\": 140}, \"52\": {\"52\": 117, \"22\": 12, \"21\": 3}, \"25\": {\"25\": 136}, \"19\": {\"19\": 155, \"34\": 1}, \"11\": {\"11\": 132, \"15\": 2, \"16\": 2}, \"7\": {\"7\": 28}, \"23\": {\"23\": 136}, \"44\": {\"44\": 132}, \"42\": {\"42\": 40}, \"54\": {\"54\": 104}, \"1\": {\"1\": 100}, \"46\": {\"46\": 128}, \"6\": {\"6\": 95, \"50\": 1}, \"43\": {\"43\": 144}, \"51\": {\"51\": 142}, \"22\": {\"22\": 134, \"52\": 2}, \"0\": {\"0\": 128}}, \"CORES_4\": {\"32\": {\"32\": 24}, \"2\": {\"2\": 35, \"57\": 1}, \"41\": {\"41\": 32, \"39\": 2, \"7\": 2}, \"11\": {\"11\": 98, \"16\": 3, \"15\": 1}, \"57\": {\"57\": 97, \"29\": 3}, \"6\": {\"6\": 111, \"3\": 1}, \"23\": {\"23\": 133, \"54\": 2, \"41\": 1}, \"52\": {\"52\": 116}, \"38\": {\"38\": 37, \"14\": 1, \"32\": 1, \"47\": 1}, \"50\": {\"50\": 128, \"6\": 3, \"3\": 1}, \"55\": {\"55\": 152}, \"46\": {\"46\": 148, \"22\": 6}, \"37\": {\"37\": 22, \"52\": 1, \"13\": 1}, \"20\": {\"20\": 118}, \"49\": {\"32\": 1, \"49\": 13, \"38\": 1, \"7\": 3, \"41\": 2}, \"45\": {\"45\": 96}, \"54\": {\"54\": 107, \"23\": 1}, \"3\": {\"3\": 117, \"6\": 3, \"50\": 4}, \"13\": {\"13\": 152}, \"18\": {\"18\": 107, \"25\": 1}, \"21\": {\"21\": 126}, \"43\": {\"43\": 144}, \"47\": {\"47\": 120}, \"4\": {\"4\": 132}, \"12\": {\"12\": 92}, \"9\": {\"9\": 126, \"27\": 1, \"29\": 1}, \"7\": {\"7\": 23, \"32\": 1}, \"56\": {\"56\": 112}, \"28\": {\"28\": 32}, \"44\": {\"44\": 132}, \"24\": {\"24\": 52, \"43\": 4}, \"33\": {\"33\": 36}, \"35\": {\"35\": 31, \"55\": 4, \"19\": 2, \"42\": 2, \"28\": 1}, \"51\": {\"51\": 138}, \"39\": {\"39\": 20}, \"36\": {\"36\": 91, \"23\": 1}, \"19\": {\"19\": 140}, \"0\": {\"0\": 71, \"52\": 8, \"46\": 1}, \"15\": {\"15\": 135, \"11\": 1}, \"29\": {\"29\": 122, \"57\": 1, \"4\": 1}, \"30\": {\"30\": 44}, \"1\": {\"1\": 40}, \"22\": {\"22\": 128}, \"40\": {\"40\": 146}, \"8\": {\"8\": 128}, \"53\": {\"53\": 138}, \"34\": {\"34\": 22, \"42\": 2}, \"10\": {\"10\": 122}, \"31\": {\"31\": 27, \"37\": 1}, \"17\": {\"17\": 80}, \"16\": {\"16\": 93, \"15\": 2, \"11\": 1}, \"42\": {\"42\": 31, \"26\": 1}, \"27\": {\"27\": 142}, \"14\": {\"14\": 14, \"57\": 1, \"47\": 1}, \"25\": {\"25\": 122}, \"48\": {\"48\": 132}, \"26\": {\"26\": 21, \"49\": 1, \"42\": 2}, \"5\": {\"5\": 108}}, \"CORES_3\": {\"14\": {\"14\": 37, \"55\": 2, \"57\": 1}, \"18\": {\"18\": 84}, \"30\": {\"30\": 120}, \"16\": {\"16\": 156}, \"1\": {\"1\": 100}, \"20\": {\"20\": 131, \"8\": 1}, \"7\": {\"7\": 36}, \"52\": {\"52\": 130}, \"9\": {\"9\": 139, \"27\": 1}, \"23\": {\"23\": 144}, \"55\": {\"55\": 164}, \"29\": {\"29\": 126}, \"56\": {\"56\": 133, \"22\": 1}, \"3\": {\"3\": 121, \"50\": 3}, \"42\": {\"42\": 28}, \"6\": {\"6\": 88}, \"5\": {\"5\": 116}, \"27\": {\"27\": 141, \"9\": 3}, \"47\": {\"47\": 92}, \"39\": {\"39\": 16}, \"34\": {\"34\": 27, \"35\": 3, \"55\": 2}, \"4\": {\"4\": 126}, \"24\": {\"24\": 104}, \"46\": {\"46\": 116, \"3\": 2}, \"50\": {\"50\": 121, \"3\": 3, \"46\": 2}, \"38\": {\"38\": 28}, \"54\": {\"54\": 100}, \"35\": {\"35\": 25, \"55\": 1, \"34\": 2}, \"2\": {\"2\": 32}, \"41\": {\"41\": 27, \"2\": 1}, \"57\": {\"57\": 117, \"29\": 1}, \"25\": {\"25\": 150}, \"48\": {\"48\": 116}, \"33\": {\"33\": 28}, \"45\": {\"45\": 60}, \"13\": {\"13\": 126}, \"36\": {\"36\": 100}, \"43\": {\"43\": 132}, \"28\": {\"28\": 28}, \"0\": {\"0\": 124}, \"12\": {\"12\": 92}, \"31\": {\"31\": 28}, \"40\": {\"40\": 116}, \"44\": {\"44\": 88}, \"32\": {\"32\": 28}, \"26\": {\"26\": 24}, \"8\": {\"8\": 115, \"20\": 1}, \"10\": {\"10\": 64}, \"15\": {\"15\": 142}, \"21\": {\"21\": 128}, \"37\": {\"37\": 28}, \"17\": {\"17\": 108}, \"51\": {\"51\": 124}, \"53\": {\"53\": 143, \"25\": 1}, \"19\": {\"19\": 136}, \"49\": {\"49\": 19, \"43\": 1}, \"11\": {\"11\": 138}, \"22\": {\"22\": 130}}}, \"per_domain_accuracy\": {\"ORACLE.run1_8\": {\"accuracy\": 0.79375, \"source?\": true}, \"ORACLE.run1_38\": {\"accuracy\": 0.8791666666666667, \"source?\": true}, \"ORACLE.run1_26\": {\"accuracy\": 0.7205729166666667, \"source?\": true}, \"ORACLE.run1_20\": {\"accuracy\": 0.7354166666666667, \"source?\": true}, \"ORACLE.run1_50\": {\"accuracy\": 0.87421875, \"source?\": true}, \"ORACLE.run1_32\": {\"accuracy\": 0.8348958333333333, \"source?\": true}, \"ORACLE.run1_44\": {\"accuracy\": 0.8130208333333333, \"source?\": true}, \"ORACLE.run1_14\": {\"accuracy\": 0.8625, \"source?\": true}, \"CORES_2\": {\"accuracy\": 0.9936079545454546, \"source?\": false}, \"CORES_5\": {\"accuracy\": 0.9906952247191011, \"source?\": false}, \"CORES_1\": {\"accuracy\": 0.9926167582417582, \"source?\": false}, \"CORES_4\": {\"accuracy\": 0.9835329341317365, \"source?\": false}, \"CORES_3\": {\"accuracy\": 0.9941520467836257, \"source?\": false}}}, \"history\": {\"epoch_indices\": [1, 2, 3, 4, 5, 6, 7, 8, 9, 10, 11, 12, 13], \"train_label_loss\": [1.14598906384781, 0.7256941587442444, 0.521709469871019, 0.40495851599511556, 0.34033584216931123, 0.28919340546985733, 0.2515264669502531, 0.2198456428817562, 0.19365741545611637, 0.17307002931962157, 0.15456432860280203, 0.13718874251421118, 0.12652158156180077], \"source_val_label_loss\": [1.8726831674575806, 0.6983706951141357, 0.551800012588501, 0.5256471633911133, 0.5104537606239319, 0.542243242263794, 0.5677807331085205, 0.5511688590049744, 0.567780077457428, 0.593114972114563, 0.6196586489677429, 0.6583521962165833, 0.6641343832015991], \"target_val_label_loss\": [18.543920516967773, 0.8887233138084412, 1.4281961917877197, 1.2008987665176392, 0.6353380680084229, 0.6724783182144165, 1.2888115644454956, 0.8958621621131897, 0.722984790802002, 0.9150657653808594, 1.0074992179870605, 0.9934859275817871, 1.2463611364364624], \"source_val_acc_label\": [0.6128580729166667, 0.7396484375, 0.80498046875, 0.8145182291666667, 0.8113606770833334, 0.8127604166666667, 0.8204752604166666, 0.8154296875, 0.8141927083333333, 0.8130208333333333, 0.8079427083333334, 0.8030598958333334, 0.8087890625], \"target_val_acc_label\": [0.8775743707093822, 0.9783323798627003, 0.9821939359267735, 0.9874856979405034, 0.9898455377574371, 0.9899170480549199, 0.9887371281464531, 0.9902030892448512, 0.9909897025171625, 0.9898097826086957, 0.9899170480549199, 0.9885941075514875, 0.9890231693363845]}, \"dataset_metrics\": {\"source\": {\"train\": {\"n_unique_x\": 179200, \"n_unique_y\": 16, \"n_batch/episode\": 6720}, \"val\": {\"n_unique_x\": 38400, \"n_unique_y\": 16, \"n_batch/episode\": 960}, \"test\": {\"n_unique_x\": 38400, \"n_unique_y\": 16, \"n_batch/episode\": 960}}, \"target\": {\"train\": {\"n_unique_x\": 175127, \"n_unique_y\": 58, \"n_batch/episode\": 6303}, \"val\": {\"n_unique_x\": 37135, \"n_unique_y\": 58, \"n_batch/episode\": 874}, \"test\": {\"n_unique_x\": 37673, \"n_unique_y\": 58, \"n_batch/episode\": 893}}}}'"
      ]
     },
     "execution_count": 29,
     "metadata": {},
     "output_type": "execute_result"
    }
   ],
   "source": [
    "json.dumps(experiment)"
   ]
  }
 ],
 "metadata": {
  "celltoolbar": "Tags",
  "kernelspec": {
   "display_name": "Python 3 (ipykernel)",
   "language": "python",
   "name": "python3"
  },
  "language_info": {
   "codemirror_mode": {
    "name": "ipython",
    "version": 3
   },
   "file_extension": ".py",
   "mimetype": "text/x-python",
   "name": "python",
   "nbconvert_exporter": "python",
   "pygments_lexer": "ipython3",
   "version": "3.8.12"
  },
  "papermill": {
   "default_parameters": {},
   "duration": 2267.023497,
   "end_time": "2022-03-22T13:49:54.417817",
   "environment_variables": {},
   "exception": null,
   "input_path": "/root/csc500-main/csc500-notebooks/templates/tl_ptn_template.ipynb",
   "output_path": "trial.ipynb",
   "parameters": {
    "parameters": {
     "BEST_MODEL_PATH": "./best_model.pth",
     "NUM_LOGS_PER_EPOCH": 10,
     "criteria_for_best": "target_accuracy",
     "dataset_seed": 154325,
     "datasets": [
      {
       "domain_prefix": "CORES_",
       "domains": [
        1,
        2,
        3,
        4,
        5
       ],
       "episode_transforms": [],
       "labels": [
        "1-10.",
        "1-11.",
        "1-15.",
        "1-16.",
        "1-17.",
        "1-18.",
        "1-19.",
        "10-4.",
        "10-7.",
        "11-1.",
        "11-14.",
        "11-17.",
        "11-20.",
        "11-7.",
        "13-20.",
        "13-8.",
        "14-10.",
        "14-11.",
        "14-14.",
        "14-7.",
        "15-1.",
        "15-20.",
        "16-1.",
        "16-16.",
        "17-10.",
        "17-11.",
        "17-2.",
        "19-1.",
        "19-16.",
        "19-19.",
        "19-20.",
        "19-3.",
        "2-10.",
        "2-11.",
        "2-17.",
        "2-18.",
        "2-20.",
        "2-3.",
        "2-4.",
        "2-5.",
        "2-6.",
        "2-7.",
        "2-8.",
        "3-13.",
        "3-18.",
        "3-3.",
        "4-1.",
        "4-10.",
        "4-11.",
        "4-19.",
        "5-5.",
        "6-15.",
        "7-10.",
        "7-14.",
        "8-18.",
        "8-20.",
        "8-3.",
        "8-8."
       ],
       "num_examples_per_domain_per_label": -1,
       "pickle_path": "/root/csc500-main/datasets/cores.stratified_ds.2022A.pkl",
       "source_or_target_dataset": "target",
       "x_transforms": []
      },
      {
       "domain_prefix": "ORACLE.run1_",
       "domains": [
        32,
        38,
        8,
        44,
        14,
        50,
        20,
        26
       ],
       "episode_transforms": [],
       "labels": [
        "3123D52",
        "3123D65",
        "3123D79",
        "3123D80",
        "3123D54",
        "3123D70",
        "3123D7B",
        "3123D89",
        "3123D58",
        "3123D76",
        "3123D7D",
        "3123EFE",
        "3123D64",
        "3123D78",
        "3123D7E",
        "3124E4A"
       ],
       "num_examples_per_domain_per_label": 2000,
       "pickle_path": "/root/csc500-main/datasets/oracle.Run1_10kExamples_stratified_ds.2022A.pkl",
       "source_or_target_dataset": "source",
       "x_transforms": []
      }
     ],
     "device": "cuda",
     "experiment_name": "tl_1v2:cores-oracle.run1.limited",
     "lr": 0.0001,
     "n_epoch": 50,
     "n_query": 2,
     "n_shot": 3,
     "n_way": 16,
     "patience": 3,
     "seed": 154325,
     "test_k_factor": 2,
     "torch_default_dtype": "torch.float32",
     "train_k_factor": 3,
     "val_k_factor": 2,
     "x_net": [
      {
       "class": "nnReshape",
       "kargs": {
        "shape": [
         -1,
         1,
         2,
         256
        ]
       }
      },
      {
       "class": "Conv2d",
       "kargs": {
        "bias": false,
        "in_channels": 1,
        "kernel_size": [
         1,
         7
        ],
        "out_channels": 256,
        "padding": [
         0,
         3
        ]
       }
      },
      {
       "class": "ReLU",
       "kargs": {
        "inplace": true
       }
      },
      {
       "class": "BatchNorm2d",
       "kargs": {
        "num_features": 256
       }
      },
      {
       "class": "Conv2d",
       "kargs": {
        "bias": true,
        "in_channels": 256,
        "kernel_size": [
         2,
         7
        ],
        "out_channels": 80,
        "padding": [
         0,
         3
        ]
       }
      },
      {
       "class": "ReLU",
       "kargs": {
        "inplace": true
       }
      },
      {
       "class": "BatchNorm2d",
       "kargs": {
        "num_features": 80
       }
      },
      {
       "class": "Flatten",
       "kargs": {}
      },
      {
       "class": "Linear",
       "kargs": {
        "in_features": 20480,
        "out_features": 256
       }
      },
      {
       "class": "ReLU",
       "kargs": {
        "inplace": true
       }
      },
      {
       "class": "BatchNorm1d",
       "kargs": {
        "num_features": 256
       }
      },
      {
       "class": "Linear",
       "kargs": {
        "in_features": 256,
        "out_features": 256
       }
      }
     ]
    }
   },
   "start_time": "2022-03-22T13:12:07.394320",
   "version": "2.3.4"
  }
 },
 "nbformat": 4,
 "nbformat_minor": 5
}