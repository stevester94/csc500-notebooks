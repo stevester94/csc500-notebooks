{
 "cells": [
  {
   "cell_type": "markdown",
   "id": "9fea5f46",
   "metadata": {
    "papermill": {
     "duration": 0.029866,
     "end_time": "2022-03-22T12:29:15.935081",
     "exception": false,
     "start_time": "2022-03-22T12:29:15.905215",
     "status": "completed"
    },
    "tags": []
   },
   "source": [
    "# Transfer Learning Template"
   ]
  },
  {
   "cell_type": "code",
   "execution_count": 1,
   "id": "0902182a",
   "metadata": {
    "execution": {
     "iopub.execute_input": "2022-03-22T12:29:15.999032Z",
     "iopub.status.busy": "2022-03-22T12:29:15.980763Z",
     "iopub.status.idle": "2022-03-22T12:29:17.832452Z",
     "shell.execute_reply": "2022-03-22T12:29:17.831579Z"
    },
    "papermill": {
     "duration": 1.873948,
     "end_time": "2022-03-22T12:29:17.832650",
     "exception": false,
     "start_time": "2022-03-22T12:29:15.958702",
     "status": "completed"
    },
    "tags": []
   },
   "outputs": [],
   "source": [
    "%load_ext autoreload\n",
    "%autoreload 2\n",
    "%matplotlib inline\n",
    "\n",
    "    \n",
    "import os, json, sys, time, random\n",
    "import numpy as np\n",
    "import torch\n",
    "from torch.optim import Adam\n",
    "from  easydict import EasyDict\n",
    "import matplotlib.pyplot as plt\n",
    "\n",
    "from steves_models.steves_ptn import Steves_Prototypical_Network\n",
    "\n",
    "from steves_utils.lazy_iterable_wrapper import Lazy_Iterable_Wrapper\n",
    "from steves_utils.iterable_aggregator import Iterable_Aggregator\n",
    "from steves_utils.ptn_train_eval_test_jig import  PTN_Train_Eval_Test_Jig\n",
    "from steves_utils.torch_sequential_builder import build_sequential\n",
    "from steves_utils.torch_utils import get_dataset_metrics, ptn_confusion_by_domain_over_dataloader\n",
    "from steves_utils.utils_v2 import (per_domain_accuracy_from_confusion, get_datasets_base_path)\n",
    "from steves_utils.PTN.utils import independent_accuracy_assesment\n",
    "\n",
    "from torch.utils.data import DataLoader\n",
    "\n",
    "from steves_utils.stratified_dataset.episodic_accessor import Episodic_Accessor_Factory\n",
    "\n",
    "from steves_utils.ptn_do_report import (\n",
    "    get_loss_curve,\n",
    "    get_results_table,\n",
    "    get_parameters_table,\n",
    "    get_domain_accuracies,\n",
    ")\n",
    "\n",
    "from steves_utils.transforms import get_chained_transform"
   ]
  },
  {
   "cell_type": "markdown",
   "id": "41c840b4",
   "metadata": {
    "papermill": {
     "duration": 0.028242,
     "end_time": "2022-03-22T12:29:17.885039",
     "exception": false,
     "start_time": "2022-03-22T12:29:17.856797",
     "status": "completed"
    },
    "tags": []
   },
   "source": [
    "# Allowed Parameters\n",
    "These are allowed parameters, not defaults\n",
    "Each of these values need to be present in the injected parameters (the notebook will raise an exception if they are not present)\n",
    "\n",
    "Papermill uses the cell tag \"parameters\" to inject the real parameters below this cell.\n",
    "Enable tags to see what I mean"
   ]
  },
  {
   "cell_type": "code",
   "execution_count": 2,
   "id": "fd44eb83",
   "metadata": {
    "execution": {
     "iopub.execute_input": "2022-03-22T12:29:17.927970Z",
     "iopub.status.busy": "2022-03-22T12:29:17.927553Z",
     "iopub.status.idle": "2022-03-22T12:29:17.949647Z",
     "shell.execute_reply": "2022-03-22T12:29:17.948843Z"
    },
    "papermill": {
     "duration": 0.045894,
     "end_time": "2022-03-22T12:29:17.949801",
     "exception": false,
     "start_time": "2022-03-22T12:29:17.903907",
     "status": "completed"
    },
    "tags": []
   },
   "outputs": [],
   "source": [
    "required_parameters = {\n",
    "    \"experiment_name\",\n",
    "    \"lr\",\n",
    "    \"device\",\n",
    "    \"seed\",\n",
    "    \"dataset_seed\",\n",
    "    \"n_shot\",\n",
    "    \"n_query\",\n",
    "    \"n_way\",\n",
    "    \"train_k_factor\",\n",
    "    \"val_k_factor\",\n",
    "    \"test_k_factor\",\n",
    "    \"n_epoch\",\n",
    "    \"patience\",\n",
    "    \"criteria_for_best\",\n",
    "    \"x_net\",\n",
    "    \"datasets\",\n",
    "    \"torch_default_dtype\",\n",
    "    \"NUM_LOGS_PER_EPOCH\",\n",
    "    \"BEST_MODEL_PATH\",\n",
    "    \"x_shape\",\n",
    "}"
   ]
  },
  {
   "cell_type": "code",
   "execution_count": 3,
   "id": "fa3f0049",
   "metadata": {
    "execution": {
     "iopub.execute_input": "2022-03-22T12:29:18.008552Z",
     "iopub.status.busy": "2022-03-22T12:29:17.997679Z",
     "iopub.status.idle": "2022-03-22T12:29:18.029123Z",
     "shell.execute_reply": "2022-03-22T12:29:18.028319Z"
    },
    "papermill": {
     "duration": 0.054091,
     "end_time": "2022-03-22T12:29:18.029279",
     "exception": false,
     "start_time": "2022-03-22T12:29:17.975188",
     "status": "completed"
    },
    "tags": [
     "parameters"
    ]
   },
   "outputs": [],
   "source": [
    "from steves_utils.CORES.utils import (\n",
    "    ALL_NODES,\n",
    "    ALL_NODES_MINIMUM_1000_EXAMPLES,\n",
    "    ALL_DAYS\n",
    ")\n",
    "\n",
    "from steves_utils.ORACLE.utils_v2 import (\n",
    "    ALL_DISTANCES_FEET_NARROWED,\n",
    "    ALL_RUNS,\n",
    "    ALL_SERIAL_NUMBERS,\n",
    ")\n",
    "\n",
    "standalone_parameters = {}\n",
    "standalone_parameters[\"experiment_name\"] = \"STANDALONE PTN\"\n",
    "standalone_parameters[\"lr\"] = 0.001\n",
    "standalone_parameters[\"device\"] = \"cuda\"\n",
    "\n",
    "standalone_parameters[\"seed\"] = 1337\n",
    "standalone_parameters[\"dataset_seed\"] = 1337\n",
    "\n",
    "standalone_parameters[\"n_way\"] = 8\n",
    "standalone_parameters[\"n_shot\"] = 3\n",
    "standalone_parameters[\"n_query\"]  = 2\n",
    "standalone_parameters[\"train_k_factor\"] = 1\n",
    "standalone_parameters[\"val_k_factor\"] = 2\n",
    "standalone_parameters[\"test_k_factor\"] = 2\n",
    "\n",
    "\n",
    "standalone_parameters[\"n_epoch\"] = 50\n",
    "\n",
    "standalone_parameters[\"patience\"] = 10\n",
    "standalone_parameters[\"criteria_for_best\"] = \"source_loss\"\n",
    "\n",
    "standalone_parameters[\"datasets\"] = [\n",
    "    {\n",
    "        \"labels\": ALL_SERIAL_NUMBERS,\n",
    "        \"domains\": ALL_DISTANCES_FEET_NARROWED,\n",
    "        \"num_examples_per_domain_per_label\": 100,\n",
    "        \"pickle_path\": os.path.join(get_datasets_base_path(), \"oracle.Run1_framed_2000Examples_stratified_ds.2022A.pkl\"),\n",
    "        \"source_or_target_dataset\": \"source\",\n",
    "        \"x_transforms\": [\"unit_mag\", \"minus_two\"],\n",
    "        \"episode_transforms\": [],\n",
    "        \"domain_prefix\": \"ORACLE_\"\n",
    "    },\n",
    "    {\n",
    "        \"labels\": ALL_NODES,\n",
    "        \"domains\": ALL_DAYS,\n",
    "        \"num_examples_per_domain_per_label\": 100,\n",
    "        \"pickle_path\": os.path.join(get_datasets_base_path(), \"cores.stratified_ds.2022A.pkl\"),\n",
    "        \"source_or_target_dataset\": \"target\",\n",
    "        \"x_transforms\": [\"unit_power\", \"times_zero\"],\n",
    "        \"episode_transforms\": [],\n",
    "        \"domain_prefix\": \"CORES_\"\n",
    "    }   \n",
    "]\n",
    "\n",
    "standalone_parameters[\"torch_default_dtype\"] = \"torch.float32\" \n",
    "\n",
    "\n",
    "\n",
    "standalone_parameters[\"x_net\"] =     [\n",
    "    {\"class\": \"nnReshape\", \"kargs\": {\"shape\":[-1, 1, 2, 256]}},\n",
    "    {\"class\": \"Conv2d\", \"kargs\": { \"in_channels\":1, \"out_channels\":256, \"kernel_size\":(1,7), \"bias\":False, \"padding\":(0,3), },},\n",
    "    {\"class\": \"ReLU\", \"kargs\": {\"inplace\": True}},\n",
    "    {\"class\": \"BatchNorm2d\", \"kargs\": {\"num_features\":256}},\n",
    "\n",
    "    {\"class\": \"Conv2d\", \"kargs\": { \"in_channels\":256, \"out_channels\":80, \"kernel_size\":(2,7), \"bias\":True, \"padding\":(0,3), },},\n",
    "    {\"class\": \"ReLU\", \"kargs\": {\"inplace\": True}},\n",
    "    {\"class\": \"BatchNorm2d\", \"kargs\": {\"num_features\":80}},\n",
    "    {\"class\": \"Flatten\", \"kargs\": {}},\n",
    "\n",
    "    {\"class\": \"Linear\", \"kargs\": {\"in_features\": 80*256, \"out_features\": 256}}, # 80 units per IQ pair\n",
    "    {\"class\": \"ReLU\", \"kargs\": {\"inplace\": True}},\n",
    "    {\"class\": \"BatchNorm1d\", \"kargs\": {\"num_features\":256}},\n",
    "\n",
    "    {\"class\": \"Linear\", \"kargs\": {\"in_features\": 256, \"out_features\": 256}},\n",
    "]\n",
    "\n",
    "# Parameters relevant to results\n",
    "# These parameters will basically never need to change\n",
    "standalone_parameters[\"NUM_LOGS_PER_EPOCH\"] = 10\n",
    "standalone_parameters[\"BEST_MODEL_PATH\"] = \"./best_model.pth\"\n",
    "\n",
    "\n",
    "\n",
    "\n"
   ]
  },
  {
   "cell_type": "code",
   "execution_count": 4,
   "id": "78466287",
   "metadata": {
    "execution": {
     "iopub.execute_input": "2022-03-22T12:29:18.089592Z",
     "iopub.status.busy": "2022-03-22T12:29:18.077444Z",
     "iopub.status.idle": "2022-03-22T12:29:18.109409Z",
     "shell.execute_reply": "2022-03-22T12:29:18.108594Z"
    },
    "papermill": {
     "duration": 0.054627,
     "end_time": "2022-03-22T12:29:18.109564",
     "exception": false,
     "start_time": "2022-03-22T12:29:18.054937",
     "status": "completed"
    },
    "tags": [
     "injected-parameters"
    ]
   },
   "outputs": [],
   "source": [
    "# Parameters\n",
    "parameters = {\n",
    "    \"experiment_name\": \"tl_1v2:cores-oracle.run1.limited\",\n",
    "    \"device\": \"cuda\",\n",
    "    \"lr\": 0.0001,\n",
    "    \"n_shot\": 3,\n",
    "    \"n_query\": 2,\n",
    "    \"train_k_factor\": 3,\n",
    "    \"val_k_factor\": 2,\n",
    "    \"test_k_factor\": 2,\n",
    "    \"torch_default_dtype\": \"torch.float32\",\n",
    "    \"n_epoch\": 50,\n",
    "    \"patience\": 3,\n",
    "    \"criteria_for_best\": \"target_accuracy\",\n",
    "    \"x_net\": [\n",
    "        {\"class\": \"nnReshape\", \"kargs\": {\"shape\": [-1, 1, 2, 256]}},\n",
    "        {\n",
    "            \"class\": \"Conv2d\",\n",
    "            \"kargs\": {\n",
    "                \"in_channels\": 1,\n",
    "                \"out_channels\": 256,\n",
    "                \"kernel_size\": [1, 7],\n",
    "                \"bias\": False,\n",
    "                \"padding\": [0, 3],\n",
    "            },\n",
    "        },\n",
    "        {\"class\": \"ReLU\", \"kargs\": {\"inplace\": True}},\n",
    "        {\"class\": \"BatchNorm2d\", \"kargs\": {\"num_features\": 256}},\n",
    "        {\n",
    "            \"class\": \"Conv2d\",\n",
    "            \"kargs\": {\n",
    "                \"in_channels\": 256,\n",
    "                \"out_channels\": 80,\n",
    "                \"kernel_size\": [2, 7],\n",
    "                \"bias\": True,\n",
    "                \"padding\": [0, 3],\n",
    "            },\n",
    "        },\n",
    "        {\"class\": \"ReLU\", \"kargs\": {\"inplace\": True}},\n",
    "        {\"class\": \"BatchNorm2d\", \"kargs\": {\"num_features\": 80}},\n",
    "        {\"class\": \"Flatten\", \"kargs\": {}},\n",
    "        {\"class\": \"Linear\", \"kargs\": {\"in_features\": 20480, \"out_features\": 256}},\n",
    "        {\"class\": \"ReLU\", \"kargs\": {\"inplace\": True}},\n",
    "        {\"class\": \"BatchNorm1d\", \"kargs\": {\"num_features\": 256}},\n",
    "        {\"class\": \"Linear\", \"kargs\": {\"in_features\": 256, \"out_features\": 256}},\n",
    "    ],\n",
    "    \"NUM_LOGS_PER_EPOCH\": 10,\n",
    "    \"BEST_MODEL_PATH\": \"./best_model.pth\",\n",
    "    \"n_way\": 16,\n",
    "    \"datasets\": [\n",
    "        {\n",
    "            \"labels\": [\n",
    "                \"1-10.\",\n",
    "                \"1-11.\",\n",
    "                \"1-15.\",\n",
    "                \"1-16.\",\n",
    "                \"1-17.\",\n",
    "                \"1-18.\",\n",
    "                \"1-19.\",\n",
    "                \"10-4.\",\n",
    "                \"10-7.\",\n",
    "                \"11-1.\",\n",
    "                \"11-14.\",\n",
    "                \"11-17.\",\n",
    "                \"11-20.\",\n",
    "                \"11-7.\",\n",
    "                \"13-20.\",\n",
    "                \"13-8.\",\n",
    "                \"14-10.\",\n",
    "                \"14-11.\",\n",
    "                \"14-14.\",\n",
    "                \"14-7.\",\n",
    "                \"15-1.\",\n",
    "                \"15-20.\",\n",
    "                \"16-1.\",\n",
    "                \"16-16.\",\n",
    "                \"17-10.\",\n",
    "                \"17-11.\",\n",
    "                \"17-2.\",\n",
    "                \"19-1.\",\n",
    "                \"19-16.\",\n",
    "                \"19-19.\",\n",
    "                \"19-20.\",\n",
    "                \"19-3.\",\n",
    "                \"2-10.\",\n",
    "                \"2-11.\",\n",
    "                \"2-17.\",\n",
    "                \"2-18.\",\n",
    "                \"2-20.\",\n",
    "                \"2-3.\",\n",
    "                \"2-4.\",\n",
    "                \"2-5.\",\n",
    "                \"2-6.\",\n",
    "                \"2-7.\",\n",
    "                \"2-8.\",\n",
    "                \"3-13.\",\n",
    "                \"3-18.\",\n",
    "                \"3-3.\",\n",
    "                \"4-1.\",\n",
    "                \"4-10.\",\n",
    "                \"4-11.\",\n",
    "                \"4-19.\",\n",
    "                \"5-5.\",\n",
    "                \"6-15.\",\n",
    "                \"7-10.\",\n",
    "                \"7-14.\",\n",
    "                \"8-18.\",\n",
    "                \"8-20.\",\n",
    "                \"8-3.\",\n",
    "                \"8-8.\",\n",
    "            ],\n",
    "            \"domains\": [1, 2, 3, 4, 5],\n",
    "            \"num_examples_per_domain_per_label\": -1,\n",
    "            \"pickle_path\": \"/root/csc500-main/datasets/cores.stratified_ds.2022A.pkl\",\n",
    "            \"source_or_target_dataset\": \"target\",\n",
    "            \"x_transforms\": [\"unit_power\"],\n",
    "            \"episode_transforms\": [],\n",
    "            \"domain_prefix\": \"CORES_\",\n",
    "        },\n",
    "        {\n",
    "            \"labels\": [\n",
    "                \"3123D52\",\n",
    "                \"3123D65\",\n",
    "                \"3123D79\",\n",
    "                \"3123D80\",\n",
    "                \"3123D54\",\n",
    "                \"3123D70\",\n",
    "                \"3123D7B\",\n",
    "                \"3123D89\",\n",
    "                \"3123D58\",\n",
    "                \"3123D76\",\n",
    "                \"3123D7D\",\n",
    "                \"3123EFE\",\n",
    "                \"3123D64\",\n",
    "                \"3123D78\",\n",
    "                \"3123D7E\",\n",
    "                \"3124E4A\",\n",
    "            ],\n",
    "            \"domains\": [32, 38, 8, 44, 14, 50, 20, 26],\n",
    "            \"num_examples_per_domain_per_label\": 2000,\n",
    "            \"pickle_path\": \"/root/csc500-main/datasets/oracle.Run1_10kExamples_stratified_ds.2022A.pkl\",\n",
    "            \"source_or_target_dataset\": \"source\",\n",
    "            \"x_transforms\": [\"unit_power\"],\n",
    "            \"episode_transforms\": [],\n",
    "            \"domain_prefix\": \"ORACLE.run1_\",\n",
    "        },\n",
    "    ],\n",
    "    \"dataset_seed\": 154325,\n",
    "    \"seed\": 154325,\n",
    "}\n"
   ]
  },
  {
   "cell_type": "code",
   "execution_count": 5,
   "id": "8fa1cc33",
   "metadata": {
    "execution": {
     "iopub.execute_input": "2022-03-22T12:29:18.165137Z",
     "iopub.status.busy": "2022-03-22T12:29:18.164138Z",
     "iopub.status.idle": "2022-03-22T12:29:18.181218Z",
     "shell.execute_reply": "2022-03-22T12:29:18.180404Z"
    },
    "papermill": {
     "duration": 0.045909,
     "end_time": "2022-03-22T12:29:18.181377",
     "exception": false,
     "start_time": "2022-03-22T12:29:18.135468",
     "status": "completed"
    },
    "tags": []
   },
   "outputs": [],
   "source": [
    "# Set this to True if you want to run this template directly\n",
    "STANDALONE = False\n",
    "if STANDALONE:\n",
    "    print(\"parameters not injected, running with standalone_parameters\")\n",
    "    parameters = standalone_parameters\n",
    "\n",
    "if not 'parameters' in locals() and not 'parameters' in globals():\n",
    "    raise Exception(\"Parameter injection failed\")\n",
    "\n",
    "#Use an easy dict for all the parameters\n",
    "p = EasyDict(parameters)\n",
    "\n",
    "if \"x_shape\" not in p:\n",
    "    p.x_shape = [2,256] # Default to this if we dont supply x_shape\n",
    "\n",
    "\n",
    "supplied_keys = set(p.keys())\n",
    "\n",
    "if  supplied_keys != required_parameters:\n",
    "    print(\"Parameters are incorrect\")\n",
    "    if len(supplied_keys - required_parameters)>0: print(\"Shouldn't have:\", str(supplied_keys - required_parameters))\n",
    "    if len(required_parameters - supplied_keys)>0: print(\"Need to have:\", str(required_parameters - supplied_keys))\n",
    "    raise RuntimeError(\"Parameters are incorrect\")"
   ]
  },
  {
   "cell_type": "code",
   "execution_count": 6,
   "id": "3a028d58",
   "metadata": {
    "execution": {
     "iopub.execute_input": "2022-03-22T12:29:18.231041Z",
     "iopub.status.busy": "2022-03-22T12:29:18.230663Z",
     "iopub.status.idle": "2022-03-22T12:29:18.254272Z",
     "shell.execute_reply": "2022-03-22T12:29:18.253509Z"
    },
    "papermill": {
     "duration": 0.049464,
     "end_time": "2022-03-22T12:29:18.254434",
     "exception": false,
     "start_time": "2022-03-22T12:29:18.204970",
     "status": "completed"
    },
    "tags": []
   },
   "outputs": [],
   "source": [
    "###################################\n",
    "# Set the RNGs and make it all deterministic\n",
    "###################################\n",
    "np.random.seed(p.seed)\n",
    "random.seed(p.seed)\n",
    "torch.manual_seed(p.seed)\n",
    "\n",
    "torch.use_deterministic_algorithms(True) "
   ]
  },
  {
   "cell_type": "code",
   "execution_count": 7,
   "id": "b691acf6",
   "metadata": {
    "execution": {
     "iopub.execute_input": "2022-03-22T12:29:18.303263Z",
     "iopub.status.busy": "2022-03-22T12:29:18.302885Z",
     "iopub.status.idle": "2022-03-22T12:29:18.327712Z",
     "shell.execute_reply": "2022-03-22T12:29:18.326856Z"
    },
    "papermill": {
     "duration": 0.047471,
     "end_time": "2022-03-22T12:29:18.327867",
     "exception": false,
     "start_time": "2022-03-22T12:29:18.280396",
     "status": "completed"
    },
    "tags": []
   },
   "outputs": [],
   "source": [
    "###########################################\n",
    "# The stratified datasets honor this\n",
    "###########################################\n",
    "torch.set_default_dtype(eval(p.torch_default_dtype))"
   ]
  },
  {
   "cell_type": "code",
   "execution_count": 8,
   "id": "b5fba671",
   "metadata": {
    "execution": {
     "iopub.execute_input": "2022-03-22T12:29:18.376627Z",
     "iopub.status.busy": "2022-03-22T12:29:18.375913Z",
     "iopub.status.idle": "2022-03-22T12:29:18.433059Z",
     "shell.execute_reply": "2022-03-22T12:29:18.432351Z"
    },
    "papermill": {
     "duration": 0.079238,
     "end_time": "2022-03-22T12:29:18.433212",
     "exception": false,
     "start_time": "2022-03-22T12:29:18.353974",
     "status": "completed"
    },
    "tags": []
   },
   "outputs": [],
   "source": [
    "###################################\n",
    "# Build the network(s)\n",
    "# Note: It's critical to do this AFTER setting the RNG\n",
    "###################################\n",
    "x_net = build_sequential(p.x_net)"
   ]
  },
  {
   "cell_type": "code",
   "execution_count": 9,
   "id": "5d7e61cc",
   "metadata": {
    "execution": {
     "iopub.execute_input": "2022-03-22T12:29:18.483885Z",
     "iopub.status.busy": "2022-03-22T12:29:18.483494Z",
     "iopub.status.idle": "2022-03-22T12:29:18.510341Z",
     "shell.execute_reply": "2022-03-22T12:29:18.509633Z"
    },
    "papermill": {
     "duration": 0.049811,
     "end_time": "2022-03-22T12:29:18.510494",
     "exception": false,
     "start_time": "2022-03-22T12:29:18.460683",
     "status": "completed"
    },
    "tags": []
   },
   "outputs": [],
   "source": [
    "start_time_secs = time.time()"
   ]
  },
  {
   "cell_type": "code",
   "execution_count": 10,
   "id": "c6b67dfd",
   "metadata": {
    "execution": {
     "iopub.execute_input": "2022-03-22T12:29:18.558786Z",
     "iopub.status.busy": "2022-03-22T12:29:18.558415Z",
     "iopub.status.idle": "2022-03-22T12:29:18.579294Z",
     "shell.execute_reply": "2022-03-22T12:29:18.578502Z"
    },
    "papermill": {
     "duration": 0.044241,
     "end_time": "2022-03-22T12:29:18.579445",
     "exception": false,
     "start_time": "2022-03-22T12:29:18.535204",
     "status": "completed"
    },
    "tags": []
   },
   "outputs": [],
   "source": [
    "p.domains_source = []\n",
    "p.domains_target = []\n",
    "\n",
    "\n",
    "train_original_source = []\n",
    "val_original_source   = []\n",
    "test_original_source  = []\n",
    "\n",
    "train_original_target = []\n",
    "val_original_target   = []\n",
    "test_original_target  = []"
   ]
  },
  {
   "cell_type": "code",
   "execution_count": 11,
   "id": "e3d9c3d3",
   "metadata": {
    "execution": {
     "iopub.execute_input": "2022-03-22T12:29:18.626918Z",
     "iopub.status.busy": "2022-03-22T12:29:18.626556Z",
     "iopub.status.idle": "2022-03-22T12:29:18.649457Z",
     "shell.execute_reply": "2022-03-22T12:29:18.648650Z"
    },
    "papermill": {
     "duration": 0.045524,
     "end_time": "2022-03-22T12:29:18.649608",
     "exception": false,
     "start_time": "2022-03-22T12:29:18.604084",
     "status": "completed"
    },
    "tags": []
   },
   "outputs": [],
   "source": [
    "# global_x_transform_func = lambda x: normalize(x.to(torch.get_default_dtype()), \"unit_power\") # unit_power, unit_mag\n",
    "# global_x_transform_func = lambda x: normalize(x, \"unit_power\") # unit_power, unit_mag"
   ]
  },
  {
   "cell_type": "code",
   "execution_count": 12,
   "id": "acb78fd2",
   "metadata": {
    "execution": {
     "iopub.execute_input": "2022-03-22T12:29:18.702575Z",
     "iopub.status.busy": "2022-03-22T12:29:18.701985Z",
     "iopub.status.idle": "2022-03-22T12:29:18.720220Z",
     "shell.execute_reply": "2022-03-22T12:29:18.719383Z"
    },
    "papermill": {
     "duration": 0.045239,
     "end_time": "2022-03-22T12:29:18.720372",
     "exception": false,
     "start_time": "2022-03-22T12:29:18.675133",
     "status": "completed"
    },
    "tags": []
   },
   "outputs": [],
   "source": [
    "def add_dataset(\n",
    "    labels,\n",
    "    domains,\n",
    "    pickle_path,\n",
    "    x_transforms,\n",
    "    episode_transforms,\n",
    "    domain_prefix,\n",
    "    num_examples_per_domain_per_label,\n",
    "    source_or_target_dataset:str,\n",
    "    iterator_seed=p.seed,\n",
    "    dataset_seed=p.dataset_seed,\n",
    "    n_shot=p.n_shot,\n",
    "    n_way=p.n_way,\n",
    "    n_query=p.n_query,\n",
    "    train_val_test_k_factors=(p.train_k_factor,p.val_k_factor,p.test_k_factor),\n",
    "):\n",
    "   \n",
    "    if x_transforms == []: x_transform = None\n",
    "    else: x_transform = get_chained_transform(x_transforms)\n",
    "    \n",
    "    if episode_transforms == []: episode_transform = None\n",
    "    else: raise Exception(\"episode_transforms not implemented\")\n",
    "    \n",
    "    episode_transform = lambda tup, _prefix=domain_prefix: (_prefix + str(tup[0]), tup[1])\n",
    "\n",
    "\n",
    "    eaf = Episodic_Accessor_Factory(\n",
    "        labels=labels,\n",
    "        domains=domains,\n",
    "        num_examples_per_domain_per_label=num_examples_per_domain_per_label,\n",
    "        iterator_seed=iterator_seed,\n",
    "        dataset_seed=dataset_seed,\n",
    "        n_shot=n_shot,\n",
    "        n_way=n_way,\n",
    "        n_query=n_query,\n",
    "        train_val_test_k_factors=train_val_test_k_factors,\n",
    "        pickle_path=pickle_path,\n",
    "        x_transform_func=x_transform,\n",
    "    )\n",
    "\n",
    "    train, val, test = eaf.get_train(), eaf.get_val(), eaf.get_test()\n",
    "    train = Lazy_Iterable_Wrapper(train, episode_transform)\n",
    "    val = Lazy_Iterable_Wrapper(val, episode_transform)\n",
    "    test = Lazy_Iterable_Wrapper(test, episode_transform)\n",
    "\n",
    "    if source_or_target_dataset==\"source\":\n",
    "        train_original_source.append(train)\n",
    "        val_original_source.append(val)\n",
    "        test_original_source.append(test)\n",
    "\n",
    "        p.domains_source.extend(\n",
    "            [domain_prefix + str(u) for u in domains]\n",
    "        )\n",
    "    elif source_or_target_dataset==\"target\":\n",
    "        train_original_target.append(train)\n",
    "        val_original_target.append(val)\n",
    "        test_original_target.append(test)\n",
    "        p.domains_target.extend(\n",
    "            [domain_prefix + str(u) for u in domains]\n",
    "        )\n",
    "    else:\n",
    "        raise Exception(f\"invalid source_or_target_dataset: {source_or_target_dataset}\")\n",
    "    "
   ]
  },
  {
   "cell_type": "code",
   "execution_count": 13,
   "id": "fe266617",
   "metadata": {
    "execution": {
     "iopub.execute_input": "2022-03-22T12:29:18.770977Z",
     "iopub.status.busy": "2022-03-22T12:29:18.770613Z",
     "iopub.status.idle": "2022-03-22T12:30:03.973010Z",
     "shell.execute_reply": "2022-03-22T12:30:03.972230Z"
    },
    "papermill": {
     "duration": 45.22553,
     "end_time": "2022-03-22T12:30:03.973194",
     "exception": false,
     "start_time": "2022-03-22T12:29:18.747664",
     "status": "completed"
    },
    "tags": []
   },
   "outputs": [],
   "source": [
    "for ds in p.datasets:\n",
    "    add_dataset(**ds)"
   ]
  },
  {
   "cell_type": "code",
   "execution_count": 14,
   "id": "b90d65ac",
   "metadata": {
    "execution": {
     "iopub.execute_input": "2022-03-22T12:30:04.024877Z",
     "iopub.status.busy": "2022-03-22T12:30:04.024382Z",
     "iopub.status.idle": "2022-03-22T12:30:04.049342Z",
     "shell.execute_reply": "2022-03-22T12:30:04.048518Z"
    },
    "papermill": {
     "duration": 0.050254,
     "end_time": "2022-03-22T12:30:04.049501",
     "exception": false,
     "start_time": "2022-03-22T12:30:03.999247",
     "status": "completed"
    },
    "tags": []
   },
   "outputs": [],
   "source": [
    "# from steves_utils.CORES.utils import (\n",
    "#     ALL_NODES,\n",
    "#     ALL_NODES_MINIMUM_1000_EXAMPLES,\n",
    "#     ALL_DAYS\n",
    "# )\n",
    "\n",
    "# add_dataset(\n",
    "#     labels=ALL_NODES,\n",
    "#     domains = ALL_DAYS,\n",
    "#     num_examples_per_domain_per_label=100,\n",
    "#     pickle_path=os.path.join(get_datasets_base_path(), \"cores.stratified_ds.2022A.pkl\"),\n",
    "#     source_or_target_dataset=\"target\",\n",
    "#     x_transform_func=global_x_transform_func,\n",
    "#     domain_modifier=lambda u: f\"cores_{u}\"\n",
    "# )"
   ]
  },
  {
   "cell_type": "code",
   "execution_count": 15,
   "id": "76db484d",
   "metadata": {
    "execution": {
     "iopub.execute_input": "2022-03-22T12:30:04.112319Z",
     "iopub.status.busy": "2022-03-22T12:30:04.102363Z",
     "iopub.status.idle": "2022-03-22T12:30:04.124584Z",
     "shell.execute_reply": "2022-03-22T12:30:04.123759Z"
    },
    "papermill": {
     "duration": 0.045857,
     "end_time": "2022-03-22T12:30:04.124739",
     "exception": false,
     "start_time": "2022-03-22T12:30:04.078882",
     "status": "completed"
    },
    "tags": []
   },
   "outputs": [],
   "source": [
    "# from steves_utils.ORACLE.utils_v2 import (\n",
    "#     ALL_DISTANCES_FEET,\n",
    "#     ALL_RUNS,\n",
    "#     ALL_SERIAL_NUMBERS,\n",
    "# )\n",
    "\n",
    "\n",
    "# add_dataset(\n",
    "#     labels=ALL_SERIAL_NUMBERS,\n",
    "#     domains = list(set(ALL_DISTANCES_FEET) - {2,62}),\n",
    "#     num_examples_per_domain_per_label=100,\n",
    "#     pickle_path=os.path.join(get_datasets_base_path(), \"oracle.Run2_framed_2000Examples_stratified_ds.2022A.pkl\"),\n",
    "#     source_or_target_dataset=\"source\",\n",
    "#     x_transform_func=global_x_transform_func,\n",
    "#     domain_modifier=lambda u: f\"oracle1_{u}\"\n",
    "# )\n"
   ]
  },
  {
   "cell_type": "code",
   "execution_count": 16,
   "id": "97dea9d2",
   "metadata": {
    "execution": {
     "iopub.execute_input": "2022-03-22T12:30:04.174684Z",
     "iopub.status.busy": "2022-03-22T12:30:04.174307Z",
     "iopub.status.idle": "2022-03-22T12:30:04.191807Z",
     "shell.execute_reply": "2022-03-22T12:30:04.190938Z"
    },
    "papermill": {
     "duration": 0.041321,
     "end_time": "2022-03-22T12:30:04.191973",
     "exception": false,
     "start_time": "2022-03-22T12:30:04.150652",
     "status": "completed"
    },
    "tags": []
   },
   "outputs": [],
   "source": [
    "# from steves_utils.ORACLE.utils_v2 import (\n",
    "#     ALL_DISTANCES_FEET,\n",
    "#     ALL_RUNS,\n",
    "#     ALL_SERIAL_NUMBERS,\n",
    "# )\n",
    "\n",
    "\n",
    "# add_dataset(\n",
    "#     labels=ALL_SERIAL_NUMBERS,\n",
    "#     domains = list(set(ALL_DISTANCES_FEET) - {2,62,56}),\n",
    "#     num_examples_per_domain_per_label=100,\n",
    "#     pickle_path=os.path.join(get_datasets_base_path(), \"oracle.Run2_framed_2000Examples_stratified_ds.2022A.pkl\"),\n",
    "#     source_or_target_dataset=\"source\",\n",
    "#     x_transform_func=global_x_transform_func,\n",
    "#     domain_modifier=lambda u: f\"oracle2_{u}\"\n",
    "# )"
   ]
  },
  {
   "cell_type": "code",
   "execution_count": 17,
   "id": "6f289866",
   "metadata": {
    "execution": {
     "iopub.execute_input": "2022-03-22T12:30:04.256290Z",
     "iopub.status.busy": "2022-03-22T12:30:04.255445Z",
     "iopub.status.idle": "2022-03-22T12:30:04.266524Z",
     "shell.execute_reply": "2022-03-22T12:30:04.265705Z"
    },
    "papermill": {
     "duration": 0.046558,
     "end_time": "2022-03-22T12:30:04.266679",
     "exception": false,
     "start_time": "2022-03-22T12:30:04.220121",
     "status": "completed"
    },
    "tags": []
   },
   "outputs": [],
   "source": [
    "# add_dataset(\n",
    "#     labels=list(range(19)),\n",
    "#     domains = [0,1,2],\n",
    "#     num_examples_per_domain_per_label=100,\n",
    "#     pickle_path=os.path.join(get_datasets_base_path(), \"metehan.stratified_ds.2022A.pkl\"),\n",
    "#     source_or_target_dataset=\"target\",\n",
    "#     x_transform_func=global_x_transform_func,\n",
    "#     domain_modifier=lambda u: f\"met_{u}\"\n",
    "# )"
   ]
  },
  {
   "cell_type": "code",
   "execution_count": 18,
   "id": "86a863c3",
   "metadata": {
    "execution": {
     "iopub.execute_input": "2022-03-22T12:30:04.319689Z",
     "iopub.status.busy": "2022-03-22T12:30:04.319294Z",
     "iopub.status.idle": "2022-03-22T12:30:04.335863Z",
     "shell.execute_reply": "2022-03-22T12:30:04.336544Z"
    },
    "papermill": {
     "duration": 0.041129,
     "end_time": "2022-03-22T12:30:04.336744",
     "exception": false,
     "start_time": "2022-03-22T12:30:04.295615",
     "status": "completed"
    },
    "tags": []
   },
   "outputs": [],
   "source": [
    "# # from steves_utils.wisig.utils import (\n",
    "# #     ALL_NODES_MINIMUM_100_EXAMPLES,\n",
    "# #     ALL_NODES_MINIMUM_500_EXAMPLES,\n",
    "# #     ALL_NODES_MINIMUM_1000_EXAMPLES,\n",
    "# #     ALL_DAYS\n",
    "# # )\n",
    "\n",
    "# import steves_utils.wisig.utils as wisig\n",
    "\n",
    "\n",
    "# add_dataset(\n",
    "#     labels=wisig.ALL_NODES_MINIMUM_100_EXAMPLES,\n",
    "#     domains = wisig.ALL_DAYS,\n",
    "#     num_examples_per_domain_per_label=100,\n",
    "#     pickle_path=os.path.join(get_datasets_base_path(), \"wisig.node3-19.stratified_ds.2022A.pkl\"),\n",
    "#     source_or_target_dataset=\"target\",\n",
    "#     x_transform_func=global_x_transform_func,\n",
    "#     domain_modifier=lambda u: f\"wisig_{u}\"\n",
    "# )"
   ]
  },
  {
   "cell_type": "code",
   "execution_count": 19,
   "id": "fd5442bc",
   "metadata": {
    "execution": {
     "iopub.execute_input": "2022-03-22T12:30:04.398268Z",
     "iopub.status.busy": "2022-03-22T12:30:04.394949Z",
     "iopub.status.idle": "2022-03-22T12:30:04.420227Z",
     "shell.execute_reply": "2022-03-22T12:30:04.419363Z"
    },
    "papermill": {
     "duration": 0.053983,
     "end_time": "2022-03-22T12:30:04.420381",
     "exception": false,
     "start_time": "2022-03-22T12:30:04.366398",
     "status": "completed"
    },
    "tags": []
   },
   "outputs": [],
   "source": [
    "###################################\n",
    "# Build the dataset\n",
    "###################################\n",
    "train_original_source = Iterable_Aggregator(train_original_source, p.seed)\n",
    "val_original_source = Iterable_Aggregator(val_original_source, p.seed)\n",
    "test_original_source = Iterable_Aggregator(test_original_source, p.seed)\n",
    "\n",
    "\n",
    "train_original_target = Iterable_Aggregator(train_original_target, p.seed)\n",
    "val_original_target = Iterable_Aggregator(val_original_target, p.seed)\n",
    "test_original_target = Iterable_Aggregator(test_original_target, p.seed)\n",
    "\n",
    "# For CNN We only use X and Y. And we only train on the source.\n",
    "# Properly form the data using a transform lambda and Lazy_Iterable_Wrapper. Finally wrap them in a dataloader\n",
    "\n",
    "transform_lambda = lambda ex: ex[1] # Original is (<domain>, <episode>) so we strip down to episode only\n",
    "\n",
    "train_processed_source = Lazy_Iterable_Wrapper(train_original_source, transform_lambda)\n",
    "val_processed_source   = Lazy_Iterable_Wrapper(val_original_source, transform_lambda)\n",
    "test_processed_source  = Lazy_Iterable_Wrapper(test_original_source, transform_lambda)\n",
    "\n",
    "train_processed_target = Lazy_Iterable_Wrapper(train_original_target, transform_lambda)\n",
    "val_processed_target   = Lazy_Iterable_Wrapper(val_original_target, transform_lambda)\n",
    "test_processed_target  = Lazy_Iterable_Wrapper(test_original_target, transform_lambda)\n",
    "\n",
    "datasets = EasyDict({\n",
    "    \"source\": {\n",
    "        \"original\": {\"train\":train_original_source, \"val\":val_original_source, \"test\":test_original_source},\n",
    "        \"processed\": {\"train\":train_processed_source, \"val\":val_processed_source, \"test\":test_processed_source}\n",
    "    },\n",
    "    \"target\": {\n",
    "        \"original\": {\"train\":train_original_target, \"val\":val_original_target, \"test\":test_original_target},\n",
    "        \"processed\": {\"train\":train_processed_target, \"val\":val_processed_target, \"test\":test_processed_target}\n",
    "    },\n",
    "})"
   ]
  },
  {
   "cell_type": "code",
   "execution_count": 20,
   "id": "5b3c01fc",
   "metadata": {
    "execution": {
     "iopub.execute_input": "2022-03-22T12:30:04.472454Z",
     "iopub.status.busy": "2022-03-22T12:30:04.472082Z",
     "iopub.status.idle": "2022-03-22T12:30:19.146146Z",
     "shell.execute_reply": "2022-03-22T12:30:19.145438Z"
    },
    "papermill": {
     "duration": 14.69845,
     "end_time": "2022-03-22T12:30:19.146325",
     "exception": false,
     "start_time": "2022-03-22T12:30:04.447875",
     "status": "completed"
    },
    "tags": []
   },
   "outputs": [
    {
     "name": "stdout",
     "output_type": "stream",
     "text": [
      "{'ORACLE.run1_50', 'ORACLE.run1_26', 'ORACLE.run1_8', 'ORACLE.run1_20', 'ORACLE.run1_44', 'ORACLE.run1_14', 'ORACLE.run1_38', 'ORACLE.run1_32'}\n"
     ]
    },
    {
     "name": "stdout",
     "output_type": "stream",
     "text": [
      "{'CORES_5', 'CORES_3', 'CORES_2', 'CORES_4', 'CORES_1'}\n"
     ]
    },
    {
     "name": "stdout",
     "output_type": "stream",
     "text": [
      "tensor([[[ 0.2134, -0.3315, -0.6902,  ...,  0.1635, -0.0727,  0.3224],\n",
      "         [ 0.0091,  0.8764, -0.3587,  ...,  0.0136,  0.2089,  0.7856]],\n",
      "\n",
      "        [[-0.3342, -0.5662,  0.4920,  ...,  0.4084, -0.2738, -0.0278],\n",
      "         [ 0.0975, -0.1021,  1.6429,  ...,  0.7286,  0.0464, -0.5523]],\n",
      "\n",
      "        [[ 0.2644, -0.2876, -0.5613,  ..., -1.2524,  0.1345,  1.2942],\n",
      "         [-1.1179, -0.1206,  0.4917,  ...,  0.3618,  0.5891,  0.5010]],\n",
      "\n",
      "        ...,\n",
      "\n",
      "        [[ 0.6196,  1.0273,  0.8684,  ...,  0.5295, -0.4978, -1.1173],\n",
      "         [ 0.1430,  0.7149, -0.8102,  ...,  0.2542,  0.4395, -0.3283]],\n",
      "\n",
      "        [[ 0.3250, -0.1733, -1.1699,  ...,  0.5903,  0.8936, -0.1462],\n",
      "         [-0.6824,  0.5145, -0.1408,  ..., -0.6174,  0.0596,  1.4407]],\n",
      "\n",
      "        [[-1.2461, -0.3851,  0.3423,  ..., -1.0215,  0.2032, -0.1284],\n",
      "         [ 0.1284, -0.8504, -0.9039,  ..., -0.0856,  0.4760,  0.8825]]])\n"
     ]
    }
   ],
   "source": [
    "from steves_utils.transforms import get_average_magnitude, get_average_power\n",
    "\n",
    "print(set([u for u,_ in val_original_source]))\n",
    "print(set([u for u,_ in val_original_target]))\n",
    "\n",
    "s_x, s_y, q_x, q_y, _ = next(iter(train_processed_source))\n",
    "print(s_x)\n",
    "\n",
    "# for ds in [\n",
    "#     train_processed_source,\n",
    "#     val_processed_source,\n",
    "#     test_processed_source,\n",
    "#     train_processed_target,\n",
    "#     val_processed_target,\n",
    "#     test_processed_target\n",
    "# ]:\n",
    "#     for s_x, s_y, q_x, q_y, _ in ds:\n",
    "#         for X in (s_x, q_x):\n",
    "#             for x in X:\n",
    "#                 assert np.isclose(get_average_magnitude(x.numpy()), 1.0)\n",
    "#                 assert np.isclose(get_average_power(x.numpy()), 1.0)\n",
    "                "
   ]
  },
  {
   "cell_type": "code",
   "execution_count": 21,
   "id": "bbdacba1",
   "metadata": {
    "execution": {
     "iopub.execute_input": "2022-03-22T12:30:19.200476Z",
     "iopub.status.busy": "2022-03-22T12:30:19.200099Z",
     "iopub.status.idle": "2022-03-22T12:30:19.463908Z",
     "shell.execute_reply": "2022-03-22T12:30:19.464227Z"
    },
    "papermill": {
     "duration": 0.29214,
     "end_time": "2022-03-22T12:30:19.464371",
     "exception": false,
     "start_time": "2022-03-22T12:30:19.172231",
     "status": "completed"
    },
    "tags": []
   },
   "outputs": [
    {
     "name": "stdout",
     "output_type": "stream",
     "text": [
      "(2, 256)\n"
     ]
    }
   ],
   "source": [
    "###################################\n",
    "# Build the model\n",
    "###################################\n",
    "# easfsl only wants a tuple for the shape\n",
    "model = Steves_Prototypical_Network(x_net, device=p.device, x_shape=tuple(p.x_shape))\n",
    "optimizer = Adam(params=model.parameters(), lr=p.lr)"
   ]
  },
  {
   "cell_type": "code",
   "execution_count": 22,
   "id": "22b39ac5",
   "metadata": {
    "execution": {
     "iopub.execute_input": "2022-03-22T12:30:19.515589Z",
     "iopub.status.busy": "2022-03-22T12:30:19.515200Z",
     "iopub.status.idle": "2022-03-22T12:46:32.118679Z",
     "shell.execute_reply": "2022-03-22T12:46:32.118334Z"
    },
    "papermill": {
     "duration": 972.631059,
     "end_time": "2022-03-22T12:46:32.118767",
     "exception": false,
     "start_time": "2022-03-22T12:30:19.487708",
     "status": "completed"
    },
    "tags": []
   },
   "outputs": [
    {
     "name": "stdout",
     "output_type": "stream",
     "text": [
      "epoch: 1, [batch: 1 / 6720], examples_per_second: 32.7744, train_label_loss: 2.7904, \n"
     ]
    },
    {
     "name": "stdout",
     "output_type": "stream",
     "text": [
      "epoch: 1, [batch: 672 / 6720], examples_per_second: 3834.7739, train_label_loss: 2.5492, \n"
     ]
    },
    {
     "name": "stdout",
     "output_type": "stream",
     "text": [
      "epoch: 1, [batch: 1344 / 6720], examples_per_second: 3861.9792, train_label_loss: 1.3638, \n"
     ]
    },
    {
     "name": "stdout",
     "output_type": "stream",
     "text": [
      "epoch: 1, [batch: 2016 / 6720], examples_per_second: 3861.5166, train_label_loss: 1.4918, \n"
     ]
    },
    {
     "name": "stdout",
     "output_type": "stream",
     "text": [
      "epoch: 1, [batch: 2688 / 6720], examples_per_second: 3883.5279, train_label_loss: 1.5275, \n"
     ]
    },
    {
     "name": "stdout",
     "output_type": "stream",
     "text": [
      "epoch: 1, [batch: 3360 / 6720], examples_per_second: 4066.1918, train_label_loss: 1.3054, \n"
     ]
    },
    {
     "name": "stdout",
     "output_type": "stream",
     "text": [
      "epoch: 1, [batch: 4032 / 6720], examples_per_second: 3949.1230, train_label_loss: 1.0077, \n"
     ]
    },
    {
     "name": "stdout",
     "output_type": "stream",
     "text": [
      "epoch: 1, [batch: 4704 / 6720], examples_per_second: 3951.1000, train_label_loss: 1.1551, \n"
     ]
    },
    {
     "name": "stdout",
     "output_type": "stream",
     "text": [
      "epoch: 1, [batch: 5376 / 6720], examples_per_second: 3863.1278, train_label_loss: 0.8223, \n"
     ]
    },
    {
     "name": "stdout",
     "output_type": "stream",
     "text": [
      "epoch: 1, [batch: 6048 / 6720], examples_per_second: 3838.0371, train_label_loss: 0.8320, \n"
     ]
    },
    {
     "name": "stdout",
     "output_type": "stream",
     "text": [
      "=============================================================\n",
      "epoch: 1, source_val_acc_label: 0.5388, target_val_acc_label: 0.9626, source_val_label_loss: 1.2007, target_val_label_loss: 0.1651, \n",
      "=============================================================\n"
     ]
    },
    {
     "name": "stdout",
     "output_type": "stream",
     "text": [
      "New best\n"
     ]
    },
    {
     "name": "stdout",
     "output_type": "stream",
     "text": [
      "epoch: 2, [batch: 1 / 6720], examples_per_second: 3.9682, train_label_loss: 0.7521, \n"
     ]
    },
    {
     "name": "stdout",
     "output_type": "stream",
     "text": [
      "epoch: 2, [batch: 672 / 6720], examples_per_second: 3950.2028, train_label_loss: 0.9549, \n"
     ]
    },
    {
     "name": "stdout",
     "output_type": "stream",
     "text": [
      "epoch: 2, [batch: 1344 / 6720], examples_per_second: 3907.1500, train_label_loss: 1.4671, \n"
     ]
    },
    {
     "name": "stdout",
     "output_type": "stream",
     "text": [
      "epoch: 2, [batch: 2016 / 6720], examples_per_second: 3883.1826, train_label_loss: 0.6927, \n"
     ]
    },
    {
     "name": "stdout",
     "output_type": "stream",
     "text": [
      "epoch: 2, [batch: 2688 / 6720], examples_per_second: 3817.3913, train_label_loss: 0.9734, \n"
     ]
    },
    {
     "name": "stdout",
     "output_type": "stream",
     "text": [
      "epoch: 2, [batch: 3360 / 6720], examples_per_second: 3859.5579, train_label_loss: 0.9062, \n"
     ]
    },
    {
     "name": "stdout",
     "output_type": "stream",
     "text": [
      "epoch: 2, [batch: 4032 / 6720], examples_per_second: 3825.8128, train_label_loss: 0.6720, \n"
     ]
    },
    {
     "name": "stdout",
     "output_type": "stream",
     "text": [
      "epoch: 2, [batch: 4704 / 6720], examples_per_second: 4120.0625, train_label_loss: 0.5564, \n"
     ]
    },
    {
     "name": "stdout",
     "output_type": "stream",
     "text": [
      "epoch: 2, [batch: 5376 / 6720], examples_per_second: 4227.2609, train_label_loss: 1.4105, \n"
     ]
    },
    {
     "name": "stdout",
     "output_type": "stream",
     "text": [
      "epoch: 2, [batch: 6048 / 6720], examples_per_second: 4157.8928, train_label_loss: 0.8027, \n"
     ]
    },
    {
     "name": "stdout",
     "output_type": "stream",
     "text": [
      "=============================================================\n",
      "epoch: 2, source_val_acc_label: 0.5923, target_val_acc_label: 0.9654, source_val_label_loss: 1.0640, target_val_label_loss: 0.1909, \n",
      "=============================================================\n"
     ]
    },
    {
     "name": "stdout",
     "output_type": "stream",
     "text": [
      "New best\n"
     ]
    },
    {
     "name": "stdout",
     "output_type": "stream",
     "text": [
      "epoch: 3, [batch: 1 / 6720], examples_per_second: 4.5277, train_label_loss: 1.3877, \n"
     ]
    },
    {
     "name": "stdout",
     "output_type": "stream",
     "text": [
      "epoch: 3, [batch: 672 / 6720], examples_per_second: 4945.5987, train_label_loss: 1.1125, \n"
     ]
    },
    {
     "name": "stdout",
     "output_type": "stream",
     "text": [
      "epoch: 3, [batch: 1344 / 6720], examples_per_second: 4478.0447, train_label_loss: 0.6232, \n"
     ]
    },
    {
     "name": "stdout",
     "output_type": "stream",
     "text": [
      "epoch: 3, [batch: 2016 / 6720], examples_per_second: 3851.5830, train_label_loss: 0.8956, \n"
     ]
    },
    {
     "name": "stdout",
     "output_type": "stream",
     "text": [
      "epoch: 3, [batch: 2688 / 6720], examples_per_second: 3957.6990, train_label_loss: 0.9386, \n"
     ]
    },
    {
     "name": "stdout",
     "output_type": "stream",
     "text": [
      "epoch: 3, [batch: 3360 / 6720], examples_per_second: 4006.3360, train_label_loss: 0.5969, \n"
     ]
    },
    {
     "name": "stdout",
     "output_type": "stream",
     "text": [
      "epoch: 3, [batch: 4032 / 6720], examples_per_second: 3959.8437, train_label_loss: 0.4855, \n"
     ]
    },
    {
     "name": "stdout",
     "output_type": "stream",
     "text": [
      "epoch: 3, [batch: 4704 / 6720], examples_per_second: 3894.1780, train_label_loss: 0.8634, \n"
     ]
    },
    {
     "name": "stdout",
     "output_type": "stream",
     "text": [
      "epoch: 3, [batch: 5376 / 6720], examples_per_second: 3925.6408, train_label_loss: 0.7299, \n"
     ]
    },
    {
     "name": "stdout",
     "output_type": "stream",
     "text": [
      "epoch: 3, [batch: 6048 / 6720], examples_per_second: 4017.0124, train_label_loss: 0.7467, \n"
     ]
    },
    {
     "name": "stdout",
     "output_type": "stream",
     "text": [
      "=============================================================\n",
      "epoch: 3, source_val_acc_label: 0.6070, target_val_acc_label: 0.9642, source_val_label_loss: 1.0424, target_val_label_loss: 0.2475, \n",
      "=============================================================\n"
     ]
    },
    {
     "name": "stdout",
     "output_type": "stream",
     "text": [
      "epoch: 4, [batch: 1 / 6720], examples_per_second: 4.0328, train_label_loss: 0.4378, \n"
     ]
    },
    {
     "name": "stdout",
     "output_type": "stream",
     "text": [
      "epoch: 4, [batch: 672 / 6720], examples_per_second: 3917.4801, train_label_loss: 0.6578, \n"
     ]
    },
    {
     "name": "stdout",
     "output_type": "stream",
     "text": [
      "epoch: 4, [batch: 1344 / 6720], examples_per_second: 3897.5101, train_label_loss: 0.6394, \n"
     ]
    },
    {
     "name": "stdout",
     "output_type": "stream",
     "text": [
      "epoch: 4, [batch: 2016 / 6720], examples_per_second: 3895.5312, train_label_loss: 0.3595, \n"
     ]
    },
    {
     "name": "stdout",
     "output_type": "stream",
     "text": [
      "epoch: 4, [batch: 2688 / 6720], examples_per_second: 3811.6517, train_label_loss: 0.3982, \n"
     ]
    },
    {
     "name": "stdout",
     "output_type": "stream",
     "text": [
      "epoch: 4, [batch: 3360 / 6720], examples_per_second: 3907.6121, train_label_loss: 0.9782, \n"
     ]
    },
    {
     "name": "stdout",
     "output_type": "stream",
     "text": [
      "epoch: 4, [batch: 4032 / 6720], examples_per_second: 4002.0368, train_label_loss: 1.0301, \n"
     ]
    },
    {
     "name": "stdout",
     "output_type": "stream",
     "text": [
      "epoch: 4, [batch: 4704 / 6720], examples_per_second: 4036.3140, train_label_loss: 0.4549, \n"
     ]
    },
    {
     "name": "stdout",
     "output_type": "stream",
     "text": [
      "epoch: 4, [batch: 5376 / 6720], examples_per_second: 3832.2248, train_label_loss: 0.7406, \n"
     ]
    },
    {
     "name": "stdout",
     "output_type": "stream",
     "text": [
      "epoch: 4, [batch: 6048 / 6720], examples_per_second: 3793.4785, train_label_loss: 0.3665, \n"
     ]
    },
    {
     "name": "stdout",
     "output_type": "stream",
     "text": [
      "=============================================================\n",
      "epoch: 4, source_val_acc_label: 0.6168, target_val_acc_label: 0.9631, source_val_label_loss: 1.0703, target_val_label_loss: 0.2942, \n",
      "=============================================================\n"
     ]
    },
    {
     "name": "stdout",
     "output_type": "stream",
     "text": [
      "epoch: 5, [batch: 1 / 6720], examples_per_second: 4.0180, train_label_loss: 0.6705, \n"
     ]
    },
    {
     "name": "stdout",
     "output_type": "stream",
     "text": [
      "epoch: 5, [batch: 672 / 6720], examples_per_second: 3788.7661, train_label_loss: 0.4751, \n"
     ]
    },
    {
     "name": "stdout",
     "output_type": "stream",
     "text": [
      "epoch: 5, [batch: 1344 / 6720], examples_per_second: 4079.8767, train_label_loss: 0.7476, \n"
     ]
    },
    {
     "name": "stdout",
     "output_type": "stream",
     "text": [
      "epoch: 5, [batch: 2016 / 6720], examples_per_second: 3996.1259, train_label_loss: 0.8577, \n"
     ]
    },
    {
     "name": "stdout",
     "output_type": "stream",
     "text": [
      "epoch: 5, [batch: 2688 / 6720], examples_per_second: 3959.3741, train_label_loss: 0.6392, \n"
     ]
    },
    {
     "name": "stdout",
     "output_type": "stream",
     "text": [
      "epoch: 5, [batch: 3360 / 6720], examples_per_second: 3848.3700, train_label_loss: 1.0750, \n"
     ]
    },
    {
     "name": "stdout",
     "output_type": "stream",
     "text": [
      "epoch: 5, [batch: 4032 / 6720], examples_per_second: 3842.7697, train_label_loss: 0.4203, \n"
     ]
    },
    {
     "name": "stdout",
     "output_type": "stream",
     "text": [
      "epoch: 5, [batch: 4704 / 6720], examples_per_second: 3816.4454, train_label_loss: 0.3867, \n"
     ]
    },
    {
     "name": "stdout",
     "output_type": "stream",
     "text": [
      "epoch: 5, [batch: 5376 / 6720], examples_per_second: 3883.0425, train_label_loss: 0.5828, \n"
     ]
    },
    {
     "name": "stdout",
     "output_type": "stream",
     "text": [
      "epoch: 5, [batch: 6048 / 6720], examples_per_second: 3927.4085, train_label_loss: 0.3539, \n"
     ]
    },
    {
     "name": "stdout",
     "output_type": "stream",
     "text": [
      "=============================================================\n",
      "epoch: 5, source_val_acc_label: 0.6064, target_val_acc_label: 0.9623, source_val_label_loss: 1.0982, target_val_label_loss: 0.3278, \n",
      "=============================================================\n"
     ]
    },
    {
     "name": "stdout",
     "output_type": "stream",
     "text": [
      "epoch: 6, [batch: 1 / 6720], examples_per_second: 4.0752, train_label_loss: 0.7691, \n"
     ]
    },
    {
     "name": "stdout",
     "output_type": "stream",
     "text": [
      "epoch: 6, [batch: 672 / 6720], examples_per_second: 3848.3855, train_label_loss: 0.3892, \n"
     ]
    },
    {
     "name": "stdout",
     "output_type": "stream",
     "text": [
      "epoch: 6, [batch: 1344 / 6720], examples_per_second: 3858.8376, train_label_loss: 0.7518, \n"
     ]
    },
    {
     "name": "stdout",
     "output_type": "stream",
     "text": [
      "epoch: 6, [batch: 2016 / 6720], examples_per_second: 3786.2457, train_label_loss: 0.5274, \n"
     ]
    },
    {
     "name": "stdout",
     "output_type": "stream",
     "text": [
      "epoch: 6, [batch: 2688 / 6720], examples_per_second: 3836.5694, train_label_loss: 0.5975, \n"
     ]
    },
    {
     "name": "stdout",
     "output_type": "stream",
     "text": [
      "epoch: 6, [batch: 3360 / 6720], examples_per_second: 3874.2001, train_label_loss: 0.6357, \n"
     ]
    },
    {
     "name": "stdout",
     "output_type": "stream",
     "text": [
      "epoch: 6, [batch: 4032 / 6720], examples_per_second: 4065.7369, train_label_loss: 0.5889, \n"
     ]
    },
    {
     "name": "stdout",
     "output_type": "stream",
     "text": [
      "epoch: 6, [batch: 4704 / 6720], examples_per_second: 3919.5115, train_label_loss: 0.6133, \n"
     ]
    },
    {
     "name": "stdout",
     "output_type": "stream",
     "text": [
      "epoch: 6, [batch: 5376 / 6720], examples_per_second: 3825.3392, train_label_loss: 0.3856, \n"
     ]
    },
    {
     "name": "stdout",
     "output_type": "stream",
     "text": [
      "epoch: 6, [batch: 6048 / 6720], examples_per_second: 3772.8035, train_label_loss: 0.6744, \n"
     ]
    },
    {
     "name": "stdout",
     "output_type": "stream",
     "text": [
      "=============================================================\n",
      "epoch: 6, source_val_acc_label: 0.6062, target_val_acc_label: 0.9611, source_val_label_loss: 1.1734, target_val_label_loss: 0.3655, \n",
      "=============================================================\n"
     ]
    },
    {
     "name": "stdout",
     "output_type": "stream",
     "text": [
      "Patience (3) exhausted\n"
     ]
    }
   ],
   "source": [
    "###################################\n",
    "# train\n",
    "###################################\n",
    "jig = PTN_Train_Eval_Test_Jig(model, p.BEST_MODEL_PATH, p.device)\n",
    "\n",
    "jig.train(\n",
    "    train_iterable=datasets.source.processed.train,\n",
    "    source_val_iterable=datasets.source.processed.val,\n",
    "    target_val_iterable=datasets.target.processed.val,\n",
    "    num_epochs=p.n_epoch,\n",
    "    num_logs_per_epoch=p.NUM_LOGS_PER_EPOCH,\n",
    "    patience=p.patience,\n",
    "    optimizer=optimizer,\n",
    "    criteria_for_best=p.criteria_for_best,\n",
    ")"
   ]
  },
  {
   "cell_type": "code",
   "execution_count": 23,
   "id": "31e8fabf",
   "metadata": {
    "execution": {
     "iopub.execute_input": "2022-03-22T12:46:32.204533Z",
     "iopub.status.busy": "2022-03-22T12:46:32.204167Z",
     "iopub.status.idle": "2022-03-22T12:46:32.235423Z",
     "shell.execute_reply": "2022-03-22T12:46:32.234706Z"
    },
    "papermill": {
     "duration": 0.076499,
     "end_time": "2022-03-22T12:46:32.235593",
     "exception": false,
     "start_time": "2022-03-22T12:46:32.159094",
     "status": "completed"
    },
    "tags": []
   },
   "outputs": [],
   "source": [
    "total_experiment_time_secs = time.time() - start_time_secs"
   ]
  },
  {
   "cell_type": "code",
   "execution_count": 24,
   "id": "87b9595b",
   "metadata": {
    "execution": {
     "iopub.execute_input": "2022-03-22T12:46:32.330290Z",
     "iopub.status.busy": "2022-03-22T12:46:32.329646Z",
     "iopub.status.idle": "2022-03-22T12:49:14.289748Z",
     "shell.execute_reply": "2022-03-22T12:49:14.288997Z"
    },
    "papermill": {
     "duration": 162.005618,
     "end_time": "2022-03-22T12:49:14.289947",
     "exception": false,
     "start_time": "2022-03-22T12:46:32.284329",
     "status": "completed"
    },
    "tags": []
   },
   "outputs": [],
   "source": [
    "###################################\n",
    "# Evaluate the model\n",
    "###################################\n",
    "source_test_label_accuracy, source_test_label_loss = jig.test(datasets.source.processed.test)\n",
    "target_test_label_accuracy, target_test_label_loss = jig.test(datasets.target.processed.test)\n",
    "\n",
    "source_val_label_accuracy, source_val_label_loss = jig.test(datasets.source.processed.val)\n",
    "target_val_label_accuracy, target_val_label_loss = jig.test(datasets.target.processed.val)\n",
    "\n",
    "history = jig.get_history()\n",
    "\n",
    "total_epochs_trained = len(history[\"epoch_indices\"])\n",
    "\n",
    "val_dl = Iterable_Aggregator((datasets.source.original.val,datasets.target.original.val))\n",
    "\n",
    "confusion = ptn_confusion_by_domain_over_dataloader(model, p.device, val_dl)\n",
    "per_domain_accuracy = per_domain_accuracy_from_confusion(confusion)\n",
    "\n",
    "# Add a key to per_domain_accuracy for if it was a source domain\n",
    "for domain, accuracy in per_domain_accuracy.items():\n",
    "    per_domain_accuracy[domain] = {\n",
    "        \"accuracy\": accuracy,\n",
    "        \"source?\": domain in p.domains_source\n",
    "    }\n",
    "\n",
    "# Do an independent accuracy assesment JUST TO BE SURE!\n",
    "# _source_test_label_accuracy = independent_accuracy_assesment(model, datasets.source.processed.test, p.device)\n",
    "# _target_test_label_accuracy = independent_accuracy_assesment(model, datasets.target.processed.test, p.device)\n",
    "# _source_val_label_accuracy = independent_accuracy_assesment(model, datasets.source.processed.val, p.device)\n",
    "# _target_val_label_accuracy = independent_accuracy_assesment(model, datasets.target.processed.val, p.device)\n",
    "\n",
    "# assert(_source_test_label_accuracy == source_test_label_accuracy)\n",
    "# assert(_target_test_label_accuracy == target_test_label_accuracy)\n",
    "# assert(_source_val_label_accuracy == source_val_label_accuracy)\n",
    "# assert(_target_val_label_accuracy == target_val_label_accuracy)\n",
    "\n",
    "experiment = {\n",
    "    \"experiment_name\": p.experiment_name,\n",
    "    \"parameters\": dict(p),\n",
    "    \"results\": {\n",
    "        \"source_test_label_accuracy\": source_test_label_accuracy,\n",
    "        \"source_test_label_loss\": source_test_label_loss,\n",
    "        \"target_test_label_accuracy\": target_test_label_accuracy,\n",
    "        \"target_test_label_loss\": target_test_label_loss,\n",
    "        \"source_val_label_accuracy\": source_val_label_accuracy,\n",
    "        \"source_val_label_loss\": source_val_label_loss,\n",
    "        \"target_val_label_accuracy\": target_val_label_accuracy,\n",
    "        \"target_val_label_loss\": target_val_label_loss,\n",
    "        \"total_epochs_trained\": total_epochs_trained,\n",
    "        \"total_experiment_time_secs\": total_experiment_time_secs,\n",
    "        \"confusion\": confusion,\n",
    "        \"per_domain_accuracy\": per_domain_accuracy,\n",
    "    },\n",
    "    \"history\": history,\n",
    "    \"dataset_metrics\": get_dataset_metrics(datasets, \"ptn\"),\n",
    "}"
   ]
  },
  {
   "cell_type": "code",
   "execution_count": 25,
   "id": "54a21829",
   "metadata": {
    "execution": {
     "iopub.execute_input": "2022-03-22T12:49:14.385023Z",
     "iopub.status.busy": "2022-03-22T12:49:14.383918Z",
     "iopub.status.idle": "2022-03-22T12:49:14.606839Z",
     "shell.execute_reply": "2022-03-22T12:49:14.606120Z"
    },
    "papermill": {
     "duration": 0.269365,
     "end_time": "2022-03-22T12:49:14.606999",
     "exception": false,
     "start_time": "2022-03-22T12:49:14.337634",
     "status": "completed"
    },
    "tags": []
   },
   "outputs": [
    {
     "data": {
      "image/png": "[encoded data removed]",
      "text/plain": [
       "<Figure size 1080x504 with 1 Axes>"
      ]
     },
     "metadata": {
      "needs_background": "light"
     },
     "output_type": "display_data"
    }
   ],
   "source": [
    "ax = get_loss_curve(experiment)\n",
    "plt.show()"
   ]
  },
  {
   "cell_type": "code",
   "execution_count": 26,
   "id": "fd8a0f60",
   "metadata": {
    "execution": {
     "iopub.execute_input": "2022-03-22T12:49:14.696500Z",
     "iopub.status.busy": "2022-03-22T12:49:14.695644Z",
     "iopub.status.idle": "2022-03-22T12:49:15.086377Z",
     "shell.execute_reply": "2022-03-22T12:49:15.087069Z"
    },
    "papermill": {
     "duration": 0.43592,
     "end_time": "2022-03-22T12:49:15.087281",
     "exception": false,
     "start_time": "2022-03-22T12:49:14.651361",
     "status": "completed"
    },
    "tags": []
   },
   "outputs": [
    {
     "data": {
      "text/plain": [
       "<AxesSubplot:title={'center':'Results'}>"
      ]
     },
     "execution_count": 26,
     "metadata": {},
     "output_type": "execute_result"
    },
    {
     "data": {
      "image/png": "[encoded data removed]",
      "text/plain": [
       "<Figure size 1080x504 with 1 Axes>"
      ]
     },
     "metadata": {
      "needs_background": "light"
     },
     "output_type": "display_data"
    }
   ],
   "source": [
    "get_results_table(experiment)"
   ]
  },
  {
   "cell_type": "code",
   "execution_count": 27,
   "id": "cf8dc689",
   "metadata": {
    "execution": {
     "iopub.execute_input": "2022-03-22T12:49:15.182957Z",
     "iopub.status.busy": "2022-03-22T12:49:15.182586Z",
     "iopub.status.idle": "2022-03-22T12:49:15.446345Z",
     "shell.execute_reply": "2022-03-22T12:49:15.445482Z"
    },
    "papermill": {
     "duration": 0.311317,
     "end_time": "2022-03-22T12:49:15.446522",
     "exception": false,
     "start_time": "2022-03-22T12:49:15.135205",
     "status": "completed"
    },
    "tags": []
   },
   "outputs": [
    {
     "data": {
      "text/plain": [
       "<AxesSubplot:title={'center':'Per Domain Validation Accuracy'}, xlabel='domain'>"
      ]
     },
     "execution_count": 27,
     "metadata": {},
     "output_type": "execute_result"
    },
    {
     "data": {
      "image/png": "[encoded data removed]",
      "text/plain": [
       "<Figure size 1080x504 with 1 Axes>"
      ]
     },
     "metadata": {
      "needs_background": "light"
     },
     "output_type": "display_data"
    }
   ],
   "source": [
    "get_domain_accuracies(experiment)"
   ]
  },
  {
   "cell_type": "code",
   "execution_count": 28,
   "id": "a74ae082",
   "metadata": {
    "execution": {
     "iopub.execute_input": "2022-03-22T12:49:15.545803Z",
     "iopub.status.busy": "2022-03-22T12:49:15.545229Z",
     "iopub.status.idle": "2022-03-22T12:49:15.572615Z",
     "shell.execute_reply": "2022-03-22T12:49:15.571790Z"
    },
    "papermill": {
     "duration": 0.077133,
     "end_time": "2022-03-22T12:49:15.572775",
     "exception": false,
     "start_time": "2022-03-22T12:49:15.495642",
     "status": "completed"
    },
    "tags": []
   },
   "outputs": [
    {
     "name": "stdout",
     "output_type": "stream",
     "text": [
      "Source Test Label Accuracy: 0.59912109375 Target Test Label Accuracy: 0.9633958566629339\n",
      "Source Val Label Accuracy: 0.5923177083333333 Target Val Label Accuracy: 0.9653890160183066\n"
     ]
    }
   ],
   "source": [
    "print(\"Source Test Label Accuracy:\", experiment[\"results\"][\"source_test_label_accuracy\"], \"Target Test Label Accuracy:\", experiment[\"results\"][\"target_test_label_accuracy\"])\n",
    "print(\"Source Val Label Accuracy:\", experiment[\"results\"][\"source_val_label_accuracy\"], \"Target Val Label Accuracy:\", experiment[\"results\"][\"target_val_label_accuracy\"])"
   ]
  },
  {
   "cell_type": "code",
   "execution_count": 29,
   "id": "dacca602",
   "metadata": {
    "execution": {
     "iopub.execute_input": "2022-03-22T12:49:15.673138Z",
     "iopub.status.busy": "2022-03-22T12:49:15.671127Z",
     "iopub.status.idle": "2022-03-22T12:49:15.695888Z",
     "shell.execute_reply": "2022-03-22T12:49:15.696376Z"
    },
    "papermill": {
     "duration": 0.072757,
     "end_time": "2022-03-22T12:49:15.696503",
     "exception": false,
     "start_time": "2022-03-22T12:49:15.623746",
     "status": "completed"
    },
    "tags": [
     "experiment_json"
    ]
   },
   "outputs": [
    {
     "data": {
      "text/plain": [
       "'{\"experiment_name\": \"tl_1v2:cores-oracle.run1.limited\", \"parameters\": {\"experiment_name\": \"tl_1v2:cores-oracle.run1.limited\", \"device\": \"cuda\", \"lr\": 0.0001, \"n_shot\": 3, \"n_query\": 2, \"train_k_factor\": 3, \"val_k_factor\": 2, \"test_k_factor\": 2, \"torch_default_dtype\": \"torch.float32\", \"n_epoch\": 50, \"patience\": 3, \"criteria_for_best\": \"target_accuracy\", \"x_net\": [{\"class\": \"nnReshape\", \"kargs\": {\"shape\": [-1, 1, 2, 256]}}, {\"class\": \"Conv2d\", \"kargs\": {\"in_channels\": 1, \"out_channels\": 256, \"kernel_size\": [1, 7], \"bias\": false, \"padding\": [0, 3]}}, {\"class\": \"ReLU\", \"kargs\": {\"inplace\": true}}, {\"class\": \"BatchNorm2d\", \"kargs\": {\"num_features\": 256}}, {\"class\": \"Conv2d\", \"kargs\": {\"in_channels\": 256, \"out_channels\": 80, \"kernel_size\": [2, 7], \"bias\": true, \"padding\": [0, 3]}}, {\"class\": \"ReLU\", \"kargs\": {\"inplace\": true}}, {\"class\": \"BatchNorm2d\", \"kargs\": {\"num_features\": 80}}, {\"class\": \"Flatten\", \"kargs\": {}}, {\"class\": \"Linear\", \"kargs\": {\"in_features\": 20480, \"out_features\": 256}}, {\"class\": \"ReLU\", \"kargs\": {\"inplace\": true}}, {\"class\": \"BatchNorm1d\", \"kargs\": {\"num_features\": 256}}, {\"class\": \"Linear\", \"kargs\": {\"in_features\": 256, \"out_features\": 256}}], \"NUM_LOGS_PER_EPOCH\": 10, \"BEST_MODEL_PATH\": \"./best_model.pth\", \"n_way\": 16, \"datasets\": [{\"labels\": [\"1-10.\", \"1-11.\", \"1-15.\", \"1-16.\", \"1-17.\", \"1-18.\", \"1-19.\", \"10-4.\", \"10-7.\", \"11-1.\", \"11-14.\", \"11-17.\", \"11-20.\", \"11-7.\", \"13-20.\", \"13-8.\", \"14-10.\", \"14-11.\", \"14-14.\", \"14-7.\", \"15-1.\", \"15-20.\", \"16-1.\", \"16-16.\", \"17-10.\", \"17-11.\", \"17-2.\", \"19-1.\", \"19-16.\", \"19-19.\", \"19-20.\", \"19-3.\", \"2-10.\", \"2-11.\", \"2-17.\", \"2-18.\", \"2-20.\", \"2-3.\", \"2-4.\", \"2-5.\", \"2-6.\", \"2-7.\", \"2-8.\", \"3-13.\", \"3-18.\", \"3-3.\", \"4-1.\", \"4-10.\", \"4-11.\", \"4-19.\", \"5-5.\", \"6-15.\", \"7-10.\", \"7-14.\", \"8-18.\", \"8-20.\", \"8-3.\", \"8-8.\"], \"domains\": [1, 2, 3, 4, 5], \"num_examples_per_domain_per_label\": -1, \"pickle_path\": \"/root/csc500-main/datasets/cores.stratified_ds.2022A.pkl\", \"source_or_target_dataset\": \"target\", \"x_transforms\": [\"unit_power\"], \"episode_transforms\": [], \"domain_prefix\": \"CORES_\"}, {\"labels\": [\"3123D52\", \"3123D65\", \"3123D79\", \"3123D80\", \"3123D54\", \"3123D70\", \"3123D7B\", \"3123D89\", \"3123D58\", \"3123D76\", \"3123D7D\", \"3123EFE\", \"3123D64\", \"3123D78\", \"3123D7E\", \"3124E4A\"], \"domains\": [32, 38, 8, 44, 14, 50, 20, 26], \"num_examples_per_domain_per_label\": 2000, \"pickle_path\": \"/root/csc500-main/datasets/oracle.Run1_10kExamples_stratified_ds.2022A.pkl\", \"source_or_target_dataset\": \"source\", \"x_transforms\": [\"unit_power\"], \"episode_transforms\": [], \"domain_prefix\": \"ORACLE.run1_\"}], \"dataset_seed\": 154325, \"seed\": 154325, \"x_shape\": [2, 256], \"domains_source\": [\"ORACLE.run1_32\", \"ORACLE.run1_38\", \"ORACLE.run1_8\", \"ORACLE.run1_44\", \"ORACLE.run1_14\", \"ORACLE.run1_50\", \"ORACLE.run1_20\", \"ORACLE.run1_26\"], \"domains_target\": [\"CORES_1\", \"CORES_2\", \"CORES_3\", \"CORES_4\", \"CORES_5\"]}, \"results\": {\"source_test_label_accuracy\": 0.59912109375, \"source_test_label_loss\": 1.0463870763778687, \"target_test_label_accuracy\": 0.9633958566629339, \"target_test_label_loss\": 0.16900138556957245, \"source_val_label_accuracy\": 0.5923177083333333, \"source_val_label_loss\": 1.063982605934143, \"target_val_label_accuracy\": 0.9653890160183066, \"target_val_label_loss\": 0.19085152447223663, \"total_epochs_trained\": 6, \"total_experiment_time_secs\": 1033.7247145175934, \"confusion\": {\"ORACLE.run1_8\": {\"13\": {\"4\": 40, \"14\": 26, \"0\": 57, \"13\": 67, \"10\": 27, \"6\": 14, \"7\": 8, \"5\": 1}, \"9\": {\"9\": 240}, \"15\": {\"15\": 140, \"8\": 26, \"12\": 53, \"3\": 8, \"2\": 9, \"7\": 4}, \"2\": {\"2\": 158, \"3\": 52, \"15\": 13, \"7\": 8, \"8\": 3, \"6\": 1, \"12\": 5}, \"3\": {\"3\": 166, \"15\": 11, \"2\": 35, \"12\": 28}, \"8\": {\"8\": 201, \"7\": 4, \"15\": 26, \"12\": 3, \"6\": 6}, \"5\": {\"5\": 180, \"1\": 23, \"11\": 10, \"10\": 23, \"14\": 4}, \"14\": {\"4\": 34, \"13\": 20, \"14\": 87, \"1\": 27, \"11\": 8, \"10\": 49, \"0\": 5, \"5\": 3, \"6\": 7}, \"1\": {\"4\": 7, \"14\": 18, \"1\": 102, \"10\": 10, \"11\": 88, \"5\": 14, \"13\": 1}, \"0\": {\"0\": 105, \"4\": 19, \"6\": 21, \"13\": 53, \"14\": 7, \"7\": 28, \"10\": 7}, \"10\": {\"10\": 108, \"14\": 56, \"4\": 11, \"13\": 29, \"11\": 4, \"0\": 7, \"5\": 16, \"6\": 2, \"1\": 7}, \"6\": {\"7\": 59, \"13\": 17, \"6\": 96, \"8\": 13, \"4\": 22, \"0\": 27, \"14\": 4, \"11\": 1, \"2\": 1}, \"11\": {\"5\": 18, \"11\": 107, \"1\": 88, \"8\": 4, \"14\": 14, \"4\": 2, \"10\": 3, \"6\": 2, \"13\": 2}, \"7\": {\"7\": 136, \"6\": 57, \"0\": 30, \"13\": 5, \"8\": 8, \"4\": 4}, \"4\": {\"4\": 67, \"13\": 34, \"6\": 46, \"14\": 33, \"10\": 16, \"7\": 8, \"0\": 28, \"11\": 4, \"1\": 4}, \"12\": {\"12\": 101, \"3\": 57, \"15\": 61, \"8\": 10, \"2\": 11}}, \"ORACLE.run1_38\": {\"13\": {\"1\": 4, \"15\": 70, \"13\": 126, \"2\": 11, \"14\": 2, \"10\": 21, \"5\": 3, \"8\": 3}, \"12\": {\"12\": 212, \"10\": 19, \"4\": 8, \"0\": 1}, \"2\": {\"2\": 207, \"13\": 7, \"14\": 22, \"10\": 1, \"15\": 2, \"11\": 1}, \"9\": {\"9\": 135, \"6\": 77, \"5\": 6, \"3\": 22}, \"15\": {\"13\": 78, \"10\": 4, \"1\": 26, \"15\": 118, \"8\": 8, \"5\": 4, \"2\": 2}, \"5\": {\"7\": 23, \"8\": 61, \"0\": 35, \"5\": 83, \"6\": 10, \"15\": 11, \"1\": 3, \"9\": 6, \"13\": 4, \"10\": 3, \"3\": 1}, \"14\": {\"14\": 155, \"11\": 62, \"2\": 14, \"13\": 3, \"10\": 6}, \"0\": {\"7\": 69, \"3\": 14, \"15\": 1, \"0\": 67, \"8\": 50, \"5\": 34, \"6\": 1, \"10\": 3, \"12\": 1}, \"3\": {\"3\": 198, \"9\": 23, \"0\": 6, \"6\": 2, \"7\": 11}, \"1\": {\"1\": 219, \"15\": 11, \"5\": 2, \"13\": 7, \"6\": 1}, \"11\": {\"14\": 86, \"11\": 140, \"12\": 6, \"2\": 5, \"10\": 3}, \"7\": {\"12\": 1, \"7\": 142, \"0\": 80, \"8\": 8, \"3\": 1, \"5\": 8}, \"8\": {\"5\": 59, \"7\": 9, \"8\": 110, \"0\": 45, \"15\": 7, \"13\": 3, \"10\": 6, \"1\": 1}, \"4\": {\"4\": 224, \"12\": 16}, \"10\": {\"10\": 154, \"0\": 5, \"8\": 13, \"12\": 31, \"13\": 17, \"11\": 5, \"14\": 6, \"15\": 6, \"5\": 2, \"2\": 1}, \"6\": {\"6\": 162, \"9\": 69, \"5\": 4, \"0\": 1, \"1\": 1, \"3\": 1, \"8\": 2}}, \"ORACLE.run1_26\": {\"10\": {\"0\": 28, \"9\": 9, \"6\": 29, \"8\": 33, \"4\": 15, \"10\": 74, \"14\": 22, \"15\": 11, \"7\": 2, \"1\": 15, \"3\": 1, \"5\": 1}, \"12\": {\"12\": 232, \"11\": 8}, \"1\": {\"8\": 6, \"14\": 51, \"4\": 42, \"0\": 27, \"1\": 94, \"10\": 14, \"9\": 1, \"15\": 1, \"7\": 3, \"3\": 1}, \"0\": {\"0\": 45, \"7\": 13, \"4\": 32, \"14\": 38, \"1\": 26, \"6\": 7, \"15\": 3, \"10\": 48, \"8\": 23, \"9\": 4, \"5\": 1}, \"15\": {\"9\": 61, \"15\": 54, \"5\": 55, \"7\": 9, \"10\": 6, \"13\": 22, \"6\": 11, \"8\": 16, \"2\": 6}, \"13\": {\"13\": 159, \"15\": 15, \"9\": 13, \"5\": 49, \"8\": 1, \"6\": 3}, \"8\": {\"3\": 3, \"0\": 15, \"15\": 18, \"5\": 10, \"6\": 14, \"7\": 29, \"8\": 56, \"9\": 29, \"10\": 30, \"2\": 4, \"1\": 6, \"14\": 11, \"4\": 15}, \"3\": {\"3\": 123, \"7\": 41, \"2\": 68, \"4\": 5, \"15\": 1, \"5\": 1, \"9\": 1}, \"11\": {\"11\": 228, \"12\": 12}, \"4\": {\"14\": 43, \"1\": 41, \"0\": 31, \"4\": 63, \"7\": 20, \"9\": 2, \"8\": 17, \"10\": 13, \"6\": 2, \"3\": 4, \"2\": 4}, \"6\": {\"6\": 128, \"10\": 33, \"9\": 36, \"15\": 10, \"13\": 7, \"8\": 19, \"5\": 4, \"1\": 1, \"0\": 1, \"14\": 1}, \"7\": {\"4\": 26, \"7\": 75, \"15\": 5, \"3\": 58, \"0\": 6, \"2\": 34, \"5\": 3, \"14\": 9, \"8\": 20, \"1\": 4}, \"14\": {\"0\": 39, \"4\": 37, \"14\": 53, \"8\": 19, \"1\": 61, \"10\": 23, \"7\": 6, \"15\": 1, \"6\": 1}, \"2\": {\"9\": 7, \"3\": 79, \"2\": 75, \"15\": 19, \"7\": 29, \"8\": 8, \"4\": 5, \"5\": 10, \"13\": 5, \"14\": 1, \"0\": 2}, \"5\": {\"2\": 10, \"5\": 85, \"15\": 51, \"13\": 41, \"9\": 33, \"6\": 6, \"8\": 12, \"10\": 1, \"3\": 1}, \"9\": {\"10\": 9, \"15\": 51, \"6\": 37, \"9\": 55, \"0\": 3, \"7\": 1, \"5\": 37, \"13\": 12, \"2\": 5, \"8\": 26, \"14\": 3, \"4\": 1}}, \"ORACLE.run1_20\": {\"5\": {\"12\": 46, \"0\": 42, \"1\": 52, \"5\": 41, \"3\": 22, \"15\": 22, \"2\": 2, \"4\": 2, \"9\": 10, \"13\": 1}, \"15\": {\"1\": 55, \"12\": 10, \"15\": 88, \"13\": 17, \"5\": 29, \"2\": 3, \"3\": 3, \"9\": 3, \"0\": 32}, \"9\": {\"2\": 50, \"15\": 2, \"3\": 38, \"9\": 49, \"7\": 29, \"5\": 9, \"12\": 32, \"0\": 7, \"13\": 11, \"8\": 2, \"4\": 7, \"1\": 4}, \"7\": {\"7\": 117, \"3\": 8, \"8\": 39, \"2\": 38, \"13\": 3, \"9\": 17, \"6\": 3, \"14\": 3, \"12\": 6, \"4\": 4, \"10\": 2}, \"3\": {\"2\": 20, \"7\": 18, \"0\": 8, \"8\": 12, \"9\": 50, \"3\": 44, \"15\": 3, \"12\": 52, \"4\": 18, \"5\": 7, \"1\": 6, \"13\": 2}, \"8\": {\"4\": 53, \"3\": 13, \"7\": 28, \"8\": 101, \"6\": 6, \"14\": 7, \"10\": 23, \"9\": 7, \"2\": 2}, \"4\": {\"4\": 139, \"1\": 2, \"8\": 50, \"3\": 16, \"5\": 2, \"9\": 3, \"10\": 12, \"12\": 7, \"2\": 3, \"0\": 5, \"7\": 1}, \"6\": {\"8\": 9, \"6\": 176, \"14\": 47, \"7\": 3, \"10\": 4, \"11\": 1}, \"2\": {\"9\": 38, \"7\": 39, \"13\": 32, \"3\": 27, \"2\": 76, \"12\": 12, \"4\": 3, \"1\": 4, \"8\": 5, \"5\": 1, \"6\": 1, \"15\": 1, \"0\": 1}, \"12\": {\"0\": 20, \"12\": 45, \"5\": 30, \"13\": 6, \"1\": 23, \"2\": 16, \"9\": 32, \"4\": 8, \"3\": 47, \"7\": 1, \"15\": 10, \"8\": 2}, \"0\": {\"1\": 48, \"2\": 6, \"5\": 39, \"15\": 39, \"0\": 50, \"3\": 17, \"12\": 27, \"13\": 4, \"9\": 8, \"4\": 2}, \"13\": {\"13\": 185, \"9\": 7, \"2\": 27, \"15\": 10, \"12\": 4, \"5\": 2, \"3\": 1, \"1\": 3, \"0\": 1}, \"10\": {\"10\": 138, \"14\": 50, \"8\": 34, \"4\": 13, \"7\": 4, \"6\": 1}, \"11\": {\"11\": 237, \"6\": 3}, \"14\": {\"14\": 136, \"6\": 43, \"10\": 50, \"7\": 2, \"8\": 9}, \"1\": {\"0\": 34, \"15\": 61, \"12\": 33, \"1\": 52, \"3\": 7, \"5\": 44, \"9\": 5, \"13\": 4}}, \"ORACLE.run1_50\": {\"1\": {\"15\": 45, \"6\": 39, \"1\": 121, \"14\": 2, \"4\": 29, \"5\": 1, \"0\": 1, \"11\": 2}, \"2\": {\"2\": 214, \"0\": 26}, \"8\": {\"8\": 230, \"10\": 5, \"3\": 5}, \"7\": {\"7\": 120, \"5\": 44, \"13\": 58, \"10\": 16, \"6\": 2}, \"14\": {\"14\": 227, \"12\": 10, \"11\": 1, \"1\": 2}, \"6\": {\"6\": 114, \"4\": 44, \"5\": 32, \"1\": 32, \"13\": 10, \"15\": 6, \"0\": 1, \"2\": 1}, \"3\": {\"3\": 231, \"8\": 9}, \"4\": {\"15\": 35, \"6\": 45, \"7\": 6, \"4\": 83, \"1\": 44, \"13\": 8, \"5\": 19}, \"12\": {\"12\": 214, \"9\": 16, \"14\": 10}, \"15\": {\"15\": 155, \"4\": 15, \"1\": 51, \"6\": 4, \"11\": 15}, \"11\": {\"11\": 191, \"9\": 37, \"15\": 7, \"14\": 5}, \"0\": {\"2\": 36, \"0\": 181, \"10\": 16, \"13\": 5, \"6\": 2}, \"9\": {\"9\": 170, \"11\": 45, \"12\": 23, \"14\": 2}, \"10\": {\"10\": 198, \"0\": 12, \"7\": 15, \"13\": 8, \"8\": 5, \"5\": 2}, \"5\": {\"4\": 31, \"7\": 54, \"5\": 50, \"6\": 46, \"13\": 48, \"0\": 2, \"10\": 4, \"1\": 5}, \"13\": {\"4\": 9, \"7\": 59, \"13\": 108, \"5\": 46, \"6\": 14, \"10\": 3, \"1\": 1}}, \"ORACLE.run1_32\": {\"2\": {\"2\": 183, \"4\": 33, \"0\": 19, \"14\": 2, \"7\": 2, \"5\": 1}, \"6\": {\"6\": 238, \"10\": 2}, \"5\": {\"13\": 61, \"5\": 48, \"7\": 28, \"0\": 14, \"4\": 34, \"8\": 20, \"3\": 12, \"2\": 4, \"14\": 14, \"11\": 5}, \"12\": {\"12\": 240}, \"13\": {\"3\": 19, \"13\": 65, \"0\": 10, \"4\": 18, \"7\": 19, \"5\": 60, \"8\": 28, \"11\": 9, \"2\": 2, \"14\": 10}, \"9\": {\"9\": 240}, \"11\": {\"14\": 46, \"11\": 173, \"7\": 10, \"13\": 5, \"3\": 2, \"5\": 4}, \"1\": {\"1\": 236, \"10\": 4}, \"3\": {\"3\": 209, \"13\": 11, \"11\": 7, \"5\": 7, \"8\": 4, \"14\": 2}, \"7\": {\"7\": 86, \"0\": 5, \"5\": 32, \"14\": 56, \"4\": 25, \"2\": 6, \"13\": 11, \"11\": 16, \"8\": 3}, \"14\": {\"7\": 62, \"2\": 8, \"5\": 18, \"0\": 4, \"14\": 53, \"11\": 66, \"13\": 14, \"4\": 10, \"8\": 1, \"3\": 4}, \"8\": {\"8\": 164, \"5\": 24, \"0\": 22, \"13\": 21, \"4\": 3, \"15\": 1, \"14\": 1, \"3\": 4}, \"4\": {\"2\": 40, \"0\": 63, \"4\": 76, \"8\": 7, \"5\": 15, \"7\": 21, \"14\": 8, \"13\": 10}, \"0\": {\"0\": 100, \"5\": 15, \"8\": 22, \"4\": 59, \"2\": 19, \"7\": 16, \"13\": 6, \"14\": 3}, \"10\": {\"10\": 238, \"1\": 2}, \"15\": {\"15\": 232, \"3\": 5, \"8\": 3}}, \"ORACLE.run1_44\": {\"13\": {\"13\": 151, \"6\": 35, \"9\": 17, \"11\": 33, \"7\": 1, \"4\": 3}, \"4\": {\"4\": 178, \"14\": 62}, \"6\": {\"6\": 145, \"2\": 1, \"13\": 46, \"9\": 25, \"11\": 15, \"7\": 8}, \"0\": {\"0\": 148, \"5\": 21, \"8\": 58, \"15\": 13}, \"10\": {\"10\": 168, \"12\": 31, \"2\": 17, \"1\": 24}, \"7\": {\"7\": 131, \"9\": 57, \"2\": 39, \"13\": 4, \"6\": 9}, \"14\": {\"14\": 135, \"4\": 81, \"15\": 18, \"5\": 6}, \"15\": {\"15\": 182, \"0\": 26, \"8\": 13, \"5\": 10, \"14\": 9}, \"5\": {\"5\": 202, \"8\": 3, \"15\": 5, \"0\": 22, \"14\": 8}, \"2\": {\"2\": 167, \"7\": 33, \"10\": 24, \"3\": 1, \"1\": 12, \"9\": 2, \"12\": 1}, \"9\": {\"7\": 61, \"9\": 127, \"13\": 28, \"6\": 22, \"2\": 2}, \"12\": {\"12\": 154, \"1\": 49, \"10\": 28, \"3\": 8, \"2\": 1}, \"8\": {\"8\": 140, \"0\": 87, \"15\": 11, \"5\": 2}, \"3\": {\"3\": 216, \"1\": 23, \"12\": 1}, \"1\": {\"1\": 122, \"2\": 15, \"10\": 20, \"12\": 49, \"3\": 34}, \"11\": {\"11\": 189, \"13\": 33, \"6\": 18}}, \"ORACLE.run1_14\": {\"1\": {\"1\": 191, \"5\": 36, \"4\": 13}, \"15\": {\"15\": 197, \"7\": 40, \"5\": 3}, \"10\": {\"10\": 175, \"0\": 53, \"11\": 11, \"3\": 1}, \"2\": {\"14\": 37, \"2\": 107, \"4\": 20, \"13\": 13, \"5\": 21, \"15\": 6, \"6\": 21, \"1\": 2, \"3\": 13}, \"9\": {\"9\": 235, \"12\": 4, \"11\": 1}, \"5\": {\"4\": 55, \"1\": 35, \"2\": 14, \"5\": 126, \"7\": 2, \"15\": 5, \"3\": 3}, \"7\": {\"7\": 204, \"15\": 34, \"1\": 2}, \"13\": {\"6\": 84, \"14\": 62, \"13\": 58, \"15\": 2, \"3\": 2, \"2\": 32}, \"8\": {\"8\": 240}, \"6\": {\"13\": 69, \"6\": 107, \"14\": 30, \"2\": 32, \"4\": 1, \"3\": 1}, \"3\": {\"3\": 165, \"4\": 48, \"2\": 5, \"14\": 12, \"5\": 4, \"0\": 3, \"13\": 1, \"10\": 2}, \"12\": {\"12\": 234, \"9\": 6}, \"0\": {\"0\": 168, \"8\": 2, \"3\": 9, \"10\": 50, \"11\": 11}, \"4\": {\"5\": 39, \"4\": 119, \"3\": 43, \"1\": 9, \"2\": 23, \"14\": 5, \"6\": 1, \"13\": 1}, \"14\": {\"2\": 13, \"14\": 149, \"13\": 45, \"6\": 20, \"3\": 9, \"4\": 3, \"5\": 1}, \"11\": {\"9\": 21, \"11\": 192, \"10\": 23, \"0\": 4}}, \"CORES_2\": {\"21\": {\"21\": 120}, \"4\": {\"4\": 127, \"9\": 3}, \"6\": {\"6\": 99, \"8\": 4, \"50\": 20, \"30\": 1}, \"10\": {\"10\": 112}, \"33\": {\"33\": 27, \"34\": 1}, \"56\": {\"56\": 122}, \"20\": {\"20\": 113, \"53\": 19}, \"24\": {\"24\": 94, \"10\": 2}, \"45\": {\"45\": 122, \"35\": 1, \"4\": 4, \"9\": 1}, \"32\": {\"32\": 27, \"17\": 1}, \"27\": {\"27\": 148}, \"53\": {\"20\": 25, \"53\": 111}, \"8\": {\"8\": 160}, \"54\": {\"54\": 108}, \"50\": {\"6\": 14, \"50\": 113, \"8\": 4, \"36\": 1, \"25\": 2}, \"44\": {\"44\": 96, \"35\": 3, \"40\": 1}, \"5\": {\"5\": 114, \"42\": 1, \"47\": 1, \"57\": 3, \"1\": 1}, \"38\": {\"38\": 20}, \"19\": {\"19\": 130, \"40\": 2}, \"1\": {\"1\": 110, \"57\": 1, \"48\": 1}, \"30\": {\"30\": 138, \"36\": 1, \"18\": 3, \"8\": 1, \"50\": 1}, \"15\": {\"15\": 144}, \"23\": {\"23\": 145, \"39\": 1}, \"35\": {\"35\": 32}, \"22\": {\"22\": 128}, \"40\": {\"40\": 136, \"19\": 3, \"9\": 1}, \"46\": {\"46\": 121, \"3\": 2, \"52\": 2, \"16\": 1}, \"3\": {\"3\": 90, \"21\": 2}, \"48\": {\"48\": 148}, \"52\": {\"52\": 124}, \"2\": {\"2\": 27, \"49\": 5}, \"26\": {\"26\": 24}, \"17\": {\"17\": 104}, \"55\": {\"55\": 140, \"1\": 3, \"57\": 1}, \"51\": {\"51\": 122}, \"42\": {\"42\": 35, \"5\": 1}, \"41\": {\"41\": 20}, \"31\": {\"31\": 28}, \"16\": {\"16\": 138}, \"36\": {\"36\": 116}, \"49\": {\"49\": 19, \"2\": 5}, \"0\": {\"0\": 48}, \"18\": {\"18\": 48}, \"25\": {\"25\": 146}, \"9\": {\"9\": 121, \"4\": 1}, \"47\": {\"47\": 131, \"5\": 1}, \"7\": {\"7\": 36}, \"37\": {\"37\": 36}, \"13\": {\"13\": 116}, \"14\": {\"31\": 3, \"56\": 4, \"14\": 7, \"1\": 3, \"5\": 2, \"22\": 2, \"55\": 1, \"0\": 2}, \"34\": {\"34\": 28}, \"57\": {\"57\": 140}, \"11\": {\"11\": 138}, \"39\": {\"39\": 28}, \"12\": {\"12\": 92}, \"28\": {\"28\": 28}, \"29\": {\"29\": 127, \"17\": 1}, \"43\": {\"43\": 140}}, \"CORES_5\": {\"12\": {\"12\": 95, \"7\": 1}, \"8\": {\"8\": 142}, \"29\": {\"29\": 132}, \"57\": {\"57\": 119, \"36\": 2, \"48\": 1, \"49\": 2, \"17\": 1, \"54\": 1}, \"38\": {\"38\": 32}, \"23\": {\"23\": 118, \"18\": 4, \"46\": 1, \"25\": 1}, \"56\": {\"56\": 138}, \"49\": {\"49\": 36}, \"4\": {\"4\": 100}, \"48\": {\"48\": 135, \"9\": 1}, \"21\": {\"21\": 144}, \"30\": {\"30\": 128}, \"1\": {\"1\": 148}, \"34\": {\"34\": 35, \"40\": 1}, \"35\": {\"35\": 35, \"56\": 1}, \"55\": {\"55\": 139, \"9\": 11, \"27\": 2}, \"5\": {\"5\": 119, \"19\": 3}, \"52\": {\"52\": 126}, \"6\": {\"6\": 121, \"26\": 2, \"30\": 2, \"38\": 1, \"1\": 1, \"48\": 1}, \"36\": {\"36\": 91, \"57\": 1}, \"41\": {\"41\": 28}, \"3\": {\"3\": 79, \"47\": 17, \"14\": 2, \"46\": 1, \"54\": 1}, \"28\": {\"28\": 32}, \"18\": {\"18\": 63, \"25\": 1}, \"25\": {\"18\": 2, \"25\": 134}, \"47\": {\"47\": 97, \"3\": 3}, \"13\": {\"13\": 157, \"10\": 3}, \"11\": {\"11\": 130, \"43\": 9, \"15\": 5}, \"53\": {\"53\": 144}, \"33\": {\"33\": 32}, \"46\": {\"46\": 147, \"23\": 1}, \"50\": {\"50\": 131, \"21\": 6, \"53\": 2, \"20\": 7, \"16\": 1, \"51\": 1}, \"10\": {\"10\": 68}, \"15\": {\"11\": 6, \"15\": 118, \"43\": 14}, \"44\": {\"44\": 140}, \"2\": {\"2\": 28}, \"7\": {\"7\": 32}, \"43\": {\"43\": 107, \"15\": 23, \"11\": 8}, \"32\": {\"27\": 1, \"32\": 31}, \"0\": {\"0\": 122, \"56\": 2}, \"39\": {\"39\": 20}, \"26\": {\"26\": 24}, \"27\": {\"27\": 112}, \"54\": {\"54\": 112}, \"17\": {\"17\": 114, \"30\": 2}, \"14\": {\"3\": 3, \"36\": 6, \"14\": 21, \"46\": 2, \"0\": 1, \"28\": 2, \"31\": 4, \"40\": 1, \"56\": 2, \"57\": 1, \"47\": 1}, \"16\": {\"16\": 148}, \"9\": {\"9\": 138, \"55\": 9, \"48\": 1}, \"19\": {\"19\": 152}, \"20\": {\"20\": 136, \"50\": 2}, \"37\": {\"37\": 24}, \"24\": {\"24\": 80}, \"40\": {\"40\": 113, \"34\": 7, \"5\": 2}, \"45\": {\"55\": 3, \"45\": 114, \"9\": 4, \"27\": 2, \"4\": 1}, \"22\": {\"22\": 27, \"29\": 1}, \"42\": {\"42\": 38, \"56\": 1, \"0\": 1}, \"51\": {\"51\": 118}, \"31\": {\"31\": 36}}, \"CORES_1\": {\"27\": {\"27\": 142}, \"2\": {\"2\": 36}, \"33\": {\"33\": 32}, \"45\": {\"45\": 150, \"42\": 5, \"7\": 1}, \"38\": {\"38\": 23, \"23\": 1}, \"4\": {\"4\": 132}, \"31\": {\"31\": 28}, \"55\": {\"55\": 140}, \"32\": {\"32\": 32}, \"57\": {\"57\": 111, \"56\": 24, \"19\": 3, \"1\": 2}, \"14\": {\"14\": 6, \"30\": 1, \"53\": 4, \"8\": 1, \"18\": 2, \"9\": 6, \"25\": 1, \"51\": 1, \"26\": 1, \"7\": 1}, \"16\": {\"16\": 140}, \"34\": {\"34\": 24}, \"56\": {\"57\": 26, \"56\": 92, \"1\": 1, \"19\": 7}, \"24\": {\"24\": 88, \"15\": 1, \"10\": 14, \"21\": 2, \"22\": 2, \"52\": 1}, \"30\": {\"30\": 111, \"26\": 1}, \"17\": {\"17\": 64}, \"13\": {\"13\": 138}, \"39\": {\"39\": 28}, \"50\": {\"50\": 144, \"48\": 2}, \"20\": {\"20\": 140}, \"41\": {\"41\": 24}, \"53\": {\"53\": 126}, \"48\": {\"48\": 141, \"5\": 1}, \"36\": {\"36\": 64}, \"8\": {\"8\": 135, \"9\": 5}, \"15\": {\"21\": 6, \"15\": 121, \"23\": 3, \"22\": 2}, \"40\": {\"40\": 156}, \"37\": {\"37\": 29, \"25\": 3}, \"21\": {\"15\": 3, \"21\": 115, \"22\": 2}, \"35\": {\"35\": 36}, \"49\": {\"49\": 30, \"23\": 1, \"0\": 1}, \"26\": {\"26\": 24}, \"28\": {\"28\": 28}, \"12\": {\"12\": 113, \"51\": 3}, \"5\": {\"5\": 142, \"6\": 6, \"50\": 2, \"48\": 2}, \"29\": {\"29\": 138, \"4\": 1, \"40\": 1}, \"47\": {\"47\": 140}, \"10\": {\"10\": 81, \"22\": 2, \"24\": 10, \"11\": 3}, \"18\": {\"18\": 67, \"25\": 2, \"50\": 1, \"54\": 2}, \"9\": {\"8\": 5, \"9\": 121}, \"3\": {\"3\": 138, \"20\": 2}, \"52\": {\"52\": 116, \"15\": 7, \"10\": 1, \"22\": 5, \"11\": 3}, \"25\": {\"25\": 130, \"37\": 3, \"18\": 3}, \"19\": {\"19\": 156}, \"11\": {\"11\": 130, \"52\": 2, \"15\": 2, \"21\": 2}, \"7\": {\"7\": 28}, \"23\": {\"23\": 132, \"38\": 1, \"0\": 2, \"49\": 1}, \"44\": {\"44\": 116, \"1\": 2, \"57\": 7, \"35\": 1, \"56\": 3, \"19\": 1, \"29\": 2}, \"42\": {\"42\": 38, \"45\": 2}, \"54\": {\"54\": 99, \"33\": 5}, \"1\": {\"1\": 95, \"19\": 5}, \"46\": {\"46\": 127, \"53\": 1}, \"6\": {\"6\": 88, \"5\": 8}, \"43\": {\"43\": 144}, \"51\": {\"51\": 141, \"12\": 1}, \"22\": {\"52\": 8, \"22\": 108, \"15\": 4, \"21\": 6, \"24\": 2, \"10\": 7, \"11\": 1}, \"0\": {\"0\": 117, \"23\": 6, \"15\": 2, \"49\": 3}}, \"CORES_4\": {\"32\": {\"32\": 24}, \"2\": {\"2\": 34, \"42\": 1, \"56\": 1}, \"41\": {\"41\": 33, \"46\": 3}, \"11\": {\"11\": 99, \"15\": 3}, \"57\": {\"57\": 100}, \"6\": {\"6\": 98, \"31\": 2, \"53\": 8, \"3\": 1, \"51\": 2, \"20\": 1}, \"23\": {\"23\": 136}, \"52\": {\"52\": 115, \"39\": 1}, \"38\": {\"38\": 40}, \"50\": {\"50\": 118, \"53\": 4, \"21\": 4, \"20\": 4, \"12\": 1, \"3\": 1}, \"55\": {\"55\": 151, \"35\": 1}, \"46\": {\"46\": 141, \"41\": 7, \"0\": 1, \"47\": 2, \"7\": 1, \"32\": 1, \"23\": 1}, \"37\": {\"37\": 24}, \"20\": {\"20\": 112, \"3\": 4, \"50\": 2}, \"49\": {\"49\": 20}, \"45\": {\"45\": 96}, \"54\": {\"54\": 108}, \"3\": {\"3\": 116, \"20\": 6, \"50\": 1, \"6\": 1}, \"13\": {\"13\": 152}, \"18\": {\"18\": 108}, \"21\": {\"21\": 126}, \"43\": {\"43\": 144}, \"47\": {\"47\": 120}, \"4\": {\"4\": 132}, \"12\": {\"12\": 92}, \"9\": {\"9\": 127, \"17\": 1}, \"7\": {\"7\": 23, \"46\": 1}, \"56\": {\"56\": 112}, \"28\": {\"28\": 30, \"33\": 2}, \"44\": {\"44\": 128, \"19\": 4}, \"24\": {\"24\": 56}, \"33\": {\"28\": 3, \"33\": 33}, \"35\": {\"35\": 40}, \"51\": {\"51\": 138}, \"39\": {\"39\": 20}, \"36\": {\"36\": 81, \"25\": 10, \"52\": 1}, \"19\": {\"19\": 138, \"44\": 2}, \"0\": {\"0\": 44, \"3\": 3, \"7\": 1, \"22\": 7, \"20\": 3, \"36\": 2, \"25\": 2, \"38\": 9, \"32\": 2, \"46\": 1, \"50\": 1, \"43\": 2, \"49\": 2, \"21\": 1}, \"15\": {\"15\": 133, \"16\": 1, \"11\": 2}, \"29\": {\"29\": 121, \"55\": 1, \"9\": 1, \"17\": 1}, \"30\": {\"30\": 44}, \"1\": {\"1\": 39, \"57\": 1}, \"22\": {\"22\": 122, \"0\": 3, \"46\": 3}, \"40\": {\"40\": 146}, \"8\": {\"8\": 128}, \"53\": {\"53\": 138}, \"34\": {\"34\": 24}, \"10\": {\"10\": 122}, \"31\": {\"31\": 28}, \"17\": {\"17\": 80}, \"16\": {\"16\": 96}, \"42\": {\"42\": 32}, \"27\": {\"27\": 142}, \"14\": {\"14\": 9, \"57\": 1, \"29\": 1, \"49\": 1, \"55\": 2, \"35\": 2}, \"25\": {\"25\": 111, \"36\": 11}, \"48\": {\"48\": 132}, \"26\": {\"26\": 24}, \"5\": {\"5\": 102, \"47\": 2, \"54\": 4}}, \"CORES_3\": {\"14\": {\"1\": 2, \"14\": 22, \"56\": 7, \"29\": 1, \"55\": 2, \"49\": 1, \"22\": 1, \"28\": 1, \"57\": 2, \"34\": 1}, \"18\": {\"18\": 84}, \"30\": {\"30\": 115, \"6\": 1, \"41\": 4}, \"16\": {\"16\": 156}, \"1\": {\"1\": 94, \"57\": 6}, \"20\": {\"20\": 130, \"50\": 2}, \"7\": {\"7\": 36}, \"52\": {\"52\": 130}, \"9\": {\"9\": 140}, \"23\": {\"23\": 144}, \"55\": {\"55\": 158, \"28\": 3, \"57\": 3}, \"29\": {\"29\": 126}, \"56\": {\"56\": 134}, \"3\": {\"3\": 120, \"52\": 1, \"46\": 3}, \"42\": {\"42\": 27, \"5\": 1}, \"6\": {\"6\": 65, \"50\": 4, \"30\": 8, \"36\": 4, \"38\": 1, \"25\": 2, \"18\": 4}, \"5\": {\"5\": 113, \"55\": 3}, \"27\": {\"27\": 144}, \"47\": {\"47\": 92}, \"39\": {\"39\": 16}, \"34\": {\"34\": 32}, \"4\": {\"4\": 126}, \"24\": {\"24\": 103, \"10\": 1}, \"46\": {\"46\": 109, \"3\": 7, \"16\": 1, \"52\": 1}, \"50\": {\"50\": 122, \"3\": 1, \"52\": 2, \"20\": 1}, \"38\": {\"38\": 28}, \"54\": {\"54\": 100}, \"35\": {\"34\": 1, \"35\": 26, \"1\": 1}, \"2\": {\"2\": 32}, \"41\": {\"41\": 26, \"30\": 2}, \"57\": {\"57\": 117, \"35\": 1}, \"25\": {\"25\": 150}, \"48\": {\"48\": 116}, \"33\": {\"33\": 28}, \"45\": {\"45\": 60}, \"13\": {\"13\": 126}, \"36\": {\"36\": 99, \"6\": 1}, \"43\": {\"43\": 132}, \"28\": {\"28\": 26, \"1\": 2}, \"0\": {\"0\": 123, \"47\": 1}, \"12\": {\"12\": 92}, \"31\": {\"31\": 28}, \"40\": {\"40\": 101, \"19\": 15}, \"44\": {\"44\": 88}, \"32\": {\"32\": 25, \"17\": 3}, \"26\": {\"26\": 24}, \"8\": {\"8\": 116}, \"10\": {\"10\": 62, \"24\": 2}, \"15\": {\"15\": 142}, \"21\": {\"21\": 127, \"51\": 1}, \"37\": {\"37\": 28}, \"17\": {\"17\": 105, \"32\": 3}, \"51\": {\"51\": 124}, \"53\": {\"53\": 144}, \"19\": {\"40\": 15, \"19\": 121}, \"49\": {\"49\": 20}, \"11\": {\"11\": 138}, \"22\": {\"14\": 1, \"22\": 129}}}, \"per_domain_accuracy\": {\"ORACLE.run1_8\": {\"accuracy\": 0.53671875, \"source?\": true}, \"ORACLE.run1_38\": {\"accuracy\": 0.6385416666666667, \"source?\": true}, \"ORACLE.run1_26\": {\"accuracy\": 0.41640625, \"source?\": true}, \"ORACLE.run1_20\": {\"accuracy\": 0.4359375, \"source?\": true}, \"ORACLE.run1_50\": {\"accuracy\": 0.67890625, \"source?\": true}, \"ORACLE.run1_32\": {\"accuracy\": 0.6721354166666667, \"source?\": true}, \"ORACLE.run1_44\": {\"accuracy\": 0.6653645833333334, \"source?\": true}, \"ORACLE.run1_14\": {\"accuracy\": 0.69453125, \"source?\": true}, \"CORES_2\": {\"accuracy\": 0.9698153409090909, \"source?\": false}, \"CORES_5\": {\"accuracy\": 0.9620786516853933, \"source?\": false}, \"CORES_1\": {\"accuracy\": 0.9503777472527473, \"source?\": false}, \"CORES_4\": {\"accuracy\": 0.969685628742515, \"source?\": false}, \"CORES_3\": {\"accuracy\": 0.9760599415204678, \"source?\": false}}}, \"history\": {\"epoch_indices\": [1, 2, 3, 4, 5, 6], \"train_label_loss\": [1.6373575519947778, 1.0171442342478605, 0.8506703557823563, 0.7385963657028264, 0.6411186644375059, 0.560133940014722], \"source_val_label_loss\": [1.2007381916046143, 1.063982605934143, 1.0424418449401855, 1.0702946186065674, 1.098157286643982, 1.1733628511428833], \"target_val_label_loss\": [0.1651400327682495, 0.19085152447223663, 0.24750344455242157, 0.2941505014896393, 0.3277643620967865, 0.3655259907245636], \"source_val_acc_label\": [0.5388020833333333, 0.5923177083333333, 0.60703125, 0.6168294270833333, 0.6064453125, 0.6061848958333333], \"target_val_acc_label\": [0.9625643592677345, 0.9653890160183066, 0.9642090961098398, 0.9631364416475973, 0.9622783180778032, 0.9610983981693364]}, \"dataset_metrics\": {\"source\": {\"train\": {\"n_unique_x\": 179200, \"n_unique_y\": 16, \"n_batch/episode\": 6720}, \"val\": {\"n_unique_x\": 38400, \"n_unique_y\": 16, \"n_batch/episode\": 960}, \"test\": {\"n_unique_x\": 38400, \"n_unique_y\": 16, \"n_batch/episode\": 960}}, \"target\": {\"train\": {\"n_unique_x\": 175127, \"n_unique_y\": 58, \"n_batch/episode\": 6303}, \"val\": {\"n_unique_x\": 37135, \"n_unique_y\": 58, \"n_batch/episode\": 874}, \"test\": {\"n_unique_x\": 37673, \"n_unique_y\": 58, \"n_batch/episode\": 893}}}}'"
      ]
     },
     "execution_count": 29,
     "metadata": {},
     "output_type": "execute_result"
    }
   ],
   "source": [
    "json.dumps(experiment)"
   ]
  }
 ],
 "metadata": {
  "celltoolbar": "Tags",
  "kernelspec": {
   "display_name": "Python 3 (ipykernel)",
   "language": "python",
   "name": "python3"
  },
  "language_info": {
   "codemirror_mode": {
    "name": "ipython",
    "version": 3
   },
   "file_extension": ".py",
   "mimetype": "text/x-python",
   "name": "python",
   "nbconvert_exporter": "python",
   "pygments_lexer": "ipython3",
   "version": "3.8.12"
  },
  "papermill": {
   "default_parameters": {},
   "duration": 1204.480177,
   "end_time": "2022-03-22T12:49:19.423600",
   "environment_variables": {},
   "exception": null,
   "input_path": "/root/csc500-main/csc500-notebooks/templates/tl_ptn_template.ipynb",
   "output_path": "trial.ipynb",
   "parameters": {
    "parameters": {
     "BEST_MODEL_PATH": "./best_model.pth",
     "NUM_LOGS_PER_EPOCH": 10,
     "criteria_for_best": "target_accuracy",
     "dataset_seed": 154325,
     "datasets": [
      {
       "domain_prefix": "CORES_",
       "domains": [
        1,
        2,
        3,
        4,
        5
       ],
       "episode_transforms": [],
       "labels": [
        "1-10.",
        "1-11.",
        "1-15.",
        "1-16.",
        "1-17.",
        "1-18.",
        "1-19.",
        "10-4.",
        "10-7.",
        "11-1.",
        "11-14.",
        "11-17.",
        "11-20.",
        "11-7.",
        "13-20.",
        "13-8.",
        "14-10.",
        "14-11.",
        "14-14.",
        "14-7.",
        "15-1.",
        "15-20.",
        "16-1.",
        "16-16.",
        "17-10.",
        "17-11.",
        "17-2.",
        "19-1.",
        "19-16.",
        "19-19.",
        "19-20.",
        "19-3.",
        "2-10.",
        "2-11.",
        "2-17.",
        "2-18.",
        "2-20.",
        "2-3.",
        "2-4.",
        "2-5.",
        "2-6.",
        "2-7.",
        "2-8.",
        "3-13.",
        "3-18.",
        "3-3.",
        "4-1.",
        "4-10.",
        "4-11.",
        "4-19.",
        "5-5.",
        "6-15.",
        "7-10.",
        "7-14.",
        "8-18.",
        "8-20.",
        "8-3.",
        "8-8."
       ],
       "num_examples_per_domain_per_label": -1,
       "pickle_path": "/root/csc500-main/datasets/cores.stratified_ds.2022A.pkl",
       "source_or_target_dataset": "target",
       "x_transforms": [
        "unit_power"
       ]
      },
      {
       "domain_prefix": "ORACLE.run1_",
       "domains": [
        32,
        38,
        8,
        44,
        14,
        50,
        20,
        26
       ],
       "episode_transforms": [],
       "labels": [
        "3123D52",
        "3123D65",
        "3123D79",
        "3123D80",
        "3123D54",
        "3123D70",
        "3123D7B",
        "3123D89",
        "3123D58",
        "3123D76",
        "3123D7D",
        "3123EFE",
        "3123D64",
        "3123D78",
        "3123D7E",
        "3124E4A"
       ],
       "num_examples_per_domain_per_label": 2000,
       "pickle_path": "/root/csc500-main/datasets/oracle.Run1_10kExamples_stratified_ds.2022A.pkl",
       "source_or_target_dataset": "source",
       "x_transforms": [
        "unit_power"
       ]
      }
     ],
     "device": "cuda",
     "experiment_name": "tl_1v2:cores-oracle.run1.limited",
     "lr": 0.0001,
     "n_epoch": 50,
     "n_query": 2,
     "n_shot": 3,
     "n_way": 16,
     "patience": 3,
     "seed": 154325,
     "test_k_factor": 2,
     "torch_default_dtype": "torch.float32",
     "train_k_factor": 3,
     "val_k_factor": 2,
     "x_net": [
      {
       "class": "nnReshape",
       "kargs": {
        "shape": [
         -1,
         1,
         2,
         256
        ]
       }
      },
      {
       "class": "Conv2d",
       "kargs": {
        "bias": false,
        "in_channels": 1,
        "kernel_size": [
         1,
         7
        ],
        "out_channels": 256,
        "padding": [
         0,
         3
        ]
       }
      },
      {
       "class": "ReLU",
       "kargs": {
        "inplace": true
       }
      },
      {
       "class": "BatchNorm2d",
       "kargs": {
        "num_features": 256
       }
      },
      {
       "class": "Conv2d",
       "kargs": {
        "bias": true,
        "in_channels": 256,
        "kernel_size": [
         2,
         7
        ],
        "out_channels": 80,
        "padding": [
         0,
         3
        ]
       }
      },
      {
       "class": "ReLU",
       "kargs": {
        "inplace": true
       }
      },
      {
       "class": "BatchNorm2d",
       "kargs": {
        "num_features": 80
       }
      },
      {
       "class": "Flatten",
       "kargs": {}
      },
      {
       "class": "Linear",
       "kargs": {
        "in_features": 20480,
        "out_features": 256
       }
      },
      {
       "class": "ReLU",
       "kargs": {
        "inplace": true
       }
      },
      {
       "class": "BatchNorm1d",
       "kargs": {
        "num_features": 256
       }
      },
      {
       "class": "Linear",
       "kargs": {
        "in_features": 256,
        "out_features": 256
       }
      }
     ]
    }
   },
   "start_time": "2022-03-22T12:29:14.943423",
   "version": "2.3.4"
  }
 },
 "nbformat": 4,
 "nbformat_minor": 5
}