{
 "cells": [
  {
   "cell_type": "markdown",
   "id": "9fea5f46",
   "metadata": {
    "papermill": {
     "duration": 0.032194,
     "end_time": "2022-03-22T01:30:00.344360",
     "exception": false,
     "start_time": "2022-03-22T01:30:00.312166",
     "status": "completed"
    },
    "tags": []
   },
   "source": [
    "# Transfer Learning Template"
   ]
  },
  {
   "cell_type": "code",
   "execution_count": 1,
   "id": "0902182a",
   "metadata": {
    "execution": {
     "iopub.execute_input": "2022-03-22T01:30:00.404649Z",
     "iopub.status.busy": "2022-03-22T01:30:00.393980Z",
     "iopub.status.idle": "2022-03-22T01:30:02.220979Z",
     "shell.execute_reply": "2022-03-22T01:30:02.221707Z"
    },
    "papermill": {
     "duration": 1.855542,
     "end_time": "2022-03-22T01:30:02.222065",
     "exception": false,
     "start_time": "2022-03-22T01:30:00.366523",
     "status": "completed"
    },
    "tags": []
   },
   "outputs": [],
   "source": [
    "%load_ext autoreload\n",
    "%autoreload 2\n",
    "%matplotlib inline\n",
    "\n",
    "    \n",
    "import os, json, sys, time, random\n",
    "import numpy as np\n",
    "import torch\n",
    "from torch.optim import Adam\n",
    "from  easydict import EasyDict\n",
    "import matplotlib.pyplot as plt\n",
    "\n",
    "from steves_models.steves_ptn import Steves_Prototypical_Network\n",
    "\n",
    "from steves_utils.lazy_iterable_wrapper import Lazy_Iterable_Wrapper\n",
    "from steves_utils.iterable_aggregator import Iterable_Aggregator\n",
    "from steves_utils.ptn_train_eval_test_jig import  PTN_Train_Eval_Test_Jig\n",
    "from steves_utils.torch_sequential_builder import build_sequential\n",
    "from steves_utils.torch_utils import get_dataset_metrics, ptn_confusion_by_domain_over_dataloader\n",
    "from steves_utils.utils_v2 import (per_domain_accuracy_from_confusion, get_datasets_base_path)\n",
    "from steves_utils.PTN.utils import independent_accuracy_assesment\n",
    "\n",
    "from torch.utils.data import DataLoader\n",
    "\n",
    "from steves_utils.stratified_dataset.episodic_accessor import Episodic_Accessor_Factory\n",
    "\n",
    "from steves_utils.ptn_do_report import (\n",
    "    get_loss_curve,\n",
    "    get_results_table,\n",
    "    get_parameters_table,\n",
    "    get_domain_accuracies,\n",
    ")\n",
    "\n",
    "from steves_utils.transforms import get_chained_transform"
   ]
  },
  {
   "cell_type": "markdown",
   "id": "41c840b4",
   "metadata": {
    "papermill": {
     "duration": 0.019344,
     "end_time": "2022-03-22T01:30:02.269108",
     "exception": false,
     "start_time": "2022-03-22T01:30:02.249764",
     "status": "completed"
    },
    "tags": []
   },
   "source": [
    "# Allowed Parameters\n",
    "These are allowed parameters, not defaults\n",
    "Each of these values need to be present in the injected parameters (the notebook will raise an exception if they are not present)\n",
    "\n",
    "Papermill uses the cell tag \"parameters\" to inject the real parameters below this cell.\n",
    "Enable tags to see what I mean"
   ]
  },
  {
   "cell_type": "code",
   "execution_count": 2,
   "id": "fd44eb83",
   "metadata": {
    "execution": {
     "iopub.execute_input": "2022-03-22T01:30:02.313229Z",
     "iopub.status.busy": "2022-03-22T01:30:02.312842Z",
     "iopub.status.idle": "2022-03-22T01:30:02.338124Z",
     "shell.execute_reply": "2022-03-22T01:30:02.337298Z"
    },
    "papermill": {
     "duration": 0.049979,
     "end_time": "2022-03-22T01:30:02.338281",
     "exception": false,
     "start_time": "2022-03-22T01:30:02.288302",
     "status": "completed"
    },
    "tags": []
   },
   "outputs": [],
   "source": [
    "required_parameters = {\n",
    "    \"experiment_name\",\n",
    "    \"lr\",\n",
    "    \"device\",\n",
    "    \"seed\",\n",
    "    \"dataset_seed\",\n",
    "    \"n_shot\",\n",
    "    \"n_query\",\n",
    "    \"n_way\",\n",
    "    \"train_k_factor\",\n",
    "    \"val_k_factor\",\n",
    "    \"test_k_factor\",\n",
    "    \"n_epoch\",\n",
    "    \"patience\",\n",
    "    \"criteria_for_best\",\n",
    "    \"x_net\",\n",
    "    \"datasets\",\n",
    "    \"torch_default_dtype\",\n",
    "    \"NUM_LOGS_PER_EPOCH\",\n",
    "    \"BEST_MODEL_PATH\",\n",
    "    \"x_shape\",\n",
    "}"
   ]
  },
  {
   "cell_type": "code",
   "execution_count": 3,
   "id": "fa3f0049",
   "metadata": {
    "execution": {
     "iopub.execute_input": "2022-03-22T01:30:02.396112Z",
     "iopub.status.busy": "2022-03-22T01:30:02.395396Z",
     "iopub.status.idle": "2022-03-22T01:30:02.418992Z",
     "shell.execute_reply": "2022-03-22T01:30:02.418301Z"
    },
    "papermill": {
     "duration": 0.05552,
     "end_time": "2022-03-22T01:30:02.419154",
     "exception": false,
     "start_time": "2022-03-22T01:30:02.363634",
     "status": "completed"
    },
    "tags": [
     "parameters"
    ]
   },
   "outputs": [],
   "source": [
    "from steves_utils.CORES.utils import (\n",
    "    ALL_NODES,\n",
    "    ALL_NODES_MINIMUM_1000_EXAMPLES,\n",
    "    ALL_DAYS\n",
    ")\n",
    "\n",
    "from steves_utils.ORACLE.utils_v2 import (\n",
    "    ALL_DISTANCES_FEET_NARROWED,\n",
    "    ALL_RUNS,\n",
    "    ALL_SERIAL_NUMBERS,\n",
    ")\n",
    "\n",
    "standalone_parameters = {}\n",
    "standalone_parameters[\"experiment_name\"] = \"STANDALONE PTN\"\n",
    "standalone_parameters[\"lr\"] = 0.001\n",
    "standalone_parameters[\"device\"] = \"cuda\"\n",
    "\n",
    "standalone_parameters[\"seed\"] = 1337\n",
    "standalone_parameters[\"dataset_seed\"] = 1337\n",
    "\n",
    "standalone_parameters[\"n_way\"] = 8\n",
    "standalone_parameters[\"n_shot\"] = 3\n",
    "standalone_parameters[\"n_query\"]  = 2\n",
    "standalone_parameters[\"train_k_factor\"] = 1\n",
    "standalone_parameters[\"val_k_factor\"] = 2\n",
    "standalone_parameters[\"test_k_factor\"] = 2\n",
    "\n",
    "\n",
    "standalone_parameters[\"n_epoch\"] = 50\n",
    "\n",
    "standalone_parameters[\"patience\"] = 10\n",
    "standalone_parameters[\"criteria_for_best\"] = \"source_loss\"\n",
    "\n",
    "standalone_parameters[\"datasets\"] = [\n",
    "    {\n",
    "        \"labels\": ALL_SERIAL_NUMBERS,\n",
    "        \"domains\": ALL_DISTANCES_FEET_NARROWED,\n",
    "        \"num_examples_per_domain_per_label\": 100,\n",
    "        \"pickle_path\": os.path.join(get_datasets_base_path(), \"oracle.Run1_framed_2000Examples_stratified_ds.2022A.pkl\"),\n",
    "        \"source_or_target_dataset\": \"source\",\n",
    "        \"x_transforms\": [\"unit_mag\", \"minus_two\"],\n",
    "        \"episode_transforms\": [],\n",
    "        \"domain_prefix\": \"ORACLE_\"\n",
    "    },\n",
    "    {\n",
    "        \"labels\": ALL_NODES,\n",
    "        \"domains\": ALL_DAYS,\n",
    "        \"num_examples_per_domain_per_label\": 100,\n",
    "        \"pickle_path\": os.path.join(get_datasets_base_path(), \"cores.stratified_ds.2022A.pkl\"),\n",
    "        \"source_or_target_dataset\": \"target\",\n",
    "        \"x_transforms\": [\"unit_power\", \"times_zero\"],\n",
    "        \"episode_transforms\": [],\n",
    "        \"domain_prefix\": \"CORES_\"\n",
    "    }   \n",
    "]\n",
    "\n",
    "standalone_parameters[\"torch_default_dtype\"] = \"torch.float32\" \n",
    "\n",
    "\n",
    "\n",
    "standalone_parameters[\"x_net\"] =     [\n",
    "    {\"class\": \"nnReshape\", \"kargs\": {\"shape\":[-1, 1, 2, 256]}},\n",
    "    {\"class\": \"Conv2d\", \"kargs\": { \"in_channels\":1, \"out_channels\":256, \"kernel_size\":(1,7), \"bias\":False, \"padding\":(0,3), },},\n",
    "    {\"class\": \"ReLU\", \"kargs\": {\"inplace\": True}},\n",
    "    {\"class\": \"BatchNorm2d\", \"kargs\": {\"num_features\":256}},\n",
    "\n",
    "    {\"class\": \"Conv2d\", \"kargs\": { \"in_channels\":256, \"out_channels\":80, \"kernel_size\":(2,7), \"bias\":True, \"padding\":(0,3), },},\n",
    "    {\"class\": \"ReLU\", \"kargs\": {\"inplace\": True}},\n",
    "    {\"class\": \"BatchNorm2d\", \"kargs\": {\"num_features\":80}},\n",
    "    {\"class\": \"Flatten\", \"kargs\": {}},\n",
    "\n",
    "    {\"class\": \"Linear\", \"kargs\": {\"in_features\": 80*256, \"out_features\": 256}}, # 80 units per IQ pair\n",
    "    {\"class\": \"ReLU\", \"kargs\": {\"inplace\": True}},\n",
    "    {\"class\": \"BatchNorm1d\", \"kargs\": {\"num_features\":256}},\n",
    "\n",
    "    {\"class\": \"Linear\", \"kargs\": {\"in_features\": 256, \"out_features\": 256}},\n",
    "]\n",
    "\n",
    "# Parameters relevant to results\n",
    "# These parameters will basically never need to change\n",
    "standalone_parameters[\"NUM_LOGS_PER_EPOCH\"] = 10\n",
    "standalone_parameters[\"BEST_MODEL_PATH\"] = \"./best_model.pth\"\n",
    "\n",
    "\n",
    "\n",
    "\n"
   ]
  },
  {
   "cell_type": "code",
   "execution_count": 4,
   "id": "fa960bc5",
   "metadata": {
    "execution": {
     "iopub.execute_input": "2022-03-22T01:30:02.477498Z",
     "iopub.status.busy": "2022-03-22T01:30:02.476830Z",
     "iopub.status.idle": "2022-03-22T01:30:02.500025Z",
     "shell.execute_reply": "2022-03-22T01:30:02.499185Z"
    },
    "papermill": {
     "duration": 0.056522,
     "end_time": "2022-03-22T01:30:02.500181",
     "exception": false,
     "start_time": "2022-03-22T01:30:02.443659",
     "status": "completed"
    },
    "tags": [
     "injected-parameters"
    ]
   },
   "outputs": [],
   "source": [
    "# Parameters\n",
    "parameters = {\n",
    "    \"experiment_name\": \"tl_1v2:cores-oracle.run1.limited\",\n",
    "    \"device\": \"cuda\",\n",
    "    \"lr\": 0.0001,\n",
    "    \"n_shot\": 3,\n",
    "    \"n_query\": 2,\n",
    "    \"train_k_factor\": 3,\n",
    "    \"val_k_factor\": 2,\n",
    "    \"test_k_factor\": 2,\n",
    "    \"torch_default_dtype\": \"torch.float32\",\n",
    "    \"n_epoch\": 50,\n",
    "    \"patience\": 3,\n",
    "    \"criteria_for_best\": \"target_accuracy\",\n",
    "    \"x_net\": [\n",
    "        {\"class\": \"nnReshape\", \"kargs\": {\"shape\": [-1, 1, 2, 256]}},\n",
    "        {\n",
    "            \"class\": \"Conv2d\",\n",
    "            \"kargs\": {\n",
    "                \"in_channels\": 1,\n",
    "                \"out_channels\": 256,\n",
    "                \"kernel_size\": [1, 7],\n",
    "                \"bias\": False,\n",
    "                \"padding\": [0, 3],\n",
    "            },\n",
    "        },\n",
    "        {\"class\": \"ReLU\", \"kargs\": {\"inplace\": True}},\n",
    "        {\"class\": \"BatchNorm2d\", \"kargs\": {\"num_features\": 256}},\n",
    "        {\n",
    "            \"class\": \"Conv2d\",\n",
    "            \"kargs\": {\n",
    "                \"in_channels\": 256,\n",
    "                \"out_channels\": 80,\n",
    "                \"kernel_size\": [2, 7],\n",
    "                \"bias\": True,\n",
    "                \"padding\": [0, 3],\n",
    "            },\n",
    "        },\n",
    "        {\"class\": \"ReLU\", \"kargs\": {\"inplace\": True}},\n",
    "        {\"class\": \"BatchNorm2d\", \"kargs\": {\"num_features\": 80}},\n",
    "        {\"class\": \"Flatten\", \"kargs\": {}},\n",
    "        {\"class\": \"Linear\", \"kargs\": {\"in_features\": 20480, \"out_features\": 256}},\n",
    "        {\"class\": \"ReLU\", \"kargs\": {\"inplace\": True}},\n",
    "        {\"class\": \"BatchNorm1d\", \"kargs\": {\"num_features\": 256}},\n",
    "        {\"class\": \"Linear\", \"kargs\": {\"in_features\": 256, \"out_features\": 256}},\n",
    "    ],\n",
    "    \"NUM_LOGS_PER_EPOCH\": 10,\n",
    "    \"BEST_MODEL_PATH\": \"./best_model.pth\",\n",
    "    \"n_way\": 16,\n",
    "    \"datasets\": [\n",
    "        {\n",
    "            \"labels\": [\n",
    "                \"1-10.\",\n",
    "                \"1-11.\",\n",
    "                \"1-15.\",\n",
    "                \"1-16.\",\n",
    "                \"1-17.\",\n",
    "                \"1-18.\",\n",
    "                \"1-19.\",\n",
    "                \"10-4.\",\n",
    "                \"10-7.\",\n",
    "                \"11-1.\",\n",
    "                \"11-14.\",\n",
    "                \"11-17.\",\n",
    "                \"11-20.\",\n",
    "                \"11-7.\",\n",
    "                \"13-20.\",\n",
    "                \"13-8.\",\n",
    "                \"14-10.\",\n",
    "                \"14-11.\",\n",
    "                \"14-14.\",\n",
    "                \"14-7.\",\n",
    "                \"15-1.\",\n",
    "                \"15-20.\",\n",
    "                \"16-1.\",\n",
    "                \"16-16.\",\n",
    "                \"17-10.\",\n",
    "                \"17-11.\",\n",
    "                \"17-2.\",\n",
    "                \"19-1.\",\n",
    "                \"19-16.\",\n",
    "                \"19-19.\",\n",
    "                \"19-20.\",\n",
    "                \"19-3.\",\n",
    "                \"2-10.\",\n",
    "                \"2-11.\",\n",
    "                \"2-17.\",\n",
    "                \"2-18.\",\n",
    "                \"2-20.\",\n",
    "                \"2-3.\",\n",
    "                \"2-4.\",\n",
    "                \"2-5.\",\n",
    "                \"2-6.\",\n",
    "                \"2-7.\",\n",
    "                \"2-8.\",\n",
    "                \"3-13.\",\n",
    "                \"3-18.\",\n",
    "                \"3-3.\",\n",
    "                \"4-1.\",\n",
    "                \"4-10.\",\n",
    "                \"4-11.\",\n",
    "                \"4-19.\",\n",
    "                \"5-5.\",\n",
    "                \"6-15.\",\n",
    "                \"7-10.\",\n",
    "                \"7-14.\",\n",
    "                \"8-18.\",\n",
    "                \"8-20.\",\n",
    "                \"8-3.\",\n",
    "                \"8-8.\",\n",
    "            ],\n",
    "            \"domains\": [1, 2, 3, 4, 5],\n",
    "            \"num_examples_per_domain_per_label\": -1,\n",
    "            \"pickle_path\": \"/root/csc500-main/datasets/cores.stratified_ds.2022A.pkl\",\n",
    "            \"source_or_target_dataset\": \"source\",\n",
    "            \"x_transforms\": [\"unit_power\"],\n",
    "            \"episode_transforms\": [],\n",
    "            \"domain_prefix\": \"CORES_\",\n",
    "        },\n",
    "        {\n",
    "            \"labels\": [\n",
    "                \"3123D52\",\n",
    "                \"3123D65\",\n",
    "                \"3123D79\",\n",
    "                \"3123D80\",\n",
    "                \"3123D54\",\n",
    "                \"3123D70\",\n",
    "                \"3123D7B\",\n",
    "                \"3123D89\",\n",
    "                \"3123D58\",\n",
    "                \"3123D76\",\n",
    "                \"3123D7D\",\n",
    "                \"3123EFE\",\n",
    "                \"3123D64\",\n",
    "                \"3123D78\",\n",
    "                \"3123D7E\",\n",
    "                \"3124E4A\",\n",
    "            ],\n",
    "            \"domains\": [32, 38, 8, 44, 14, 50, 20, 26],\n",
    "            \"num_examples_per_domain_per_label\": 2000,\n",
    "            \"pickle_path\": \"/root/csc500-main/datasets/oracle.Run1_10kExamples_stratified_ds.2022A.pkl\",\n",
    "            \"source_or_target_dataset\": \"target\",\n",
    "            \"x_transforms\": [\"unit_power\"],\n",
    "            \"episode_transforms\": [],\n",
    "            \"domain_prefix\": \"ORACLE.run1_\",\n",
    "        },\n",
    "    ],\n",
    "    \"dataset_seed\": 1337,\n",
    "    \"seed\": 1337,\n",
    "}\n"
   ]
  },
  {
   "cell_type": "code",
   "execution_count": 5,
   "id": "8fa1cc33",
   "metadata": {
    "execution": {
     "iopub.execute_input": "2022-03-22T01:30:02.554707Z",
     "iopub.status.busy": "2022-03-22T01:30:02.554133Z",
     "iopub.status.idle": "2022-03-22T01:30:02.578184Z",
     "shell.execute_reply": "2022-03-22T01:30:02.577461Z"
    },
    "papermill": {
     "duration": 0.049973,
     "end_time": "2022-03-22T01:30:02.578340",
     "exception": false,
     "start_time": "2022-03-22T01:30:02.528367",
     "status": "completed"
    },
    "tags": []
   },
   "outputs": [],
   "source": [
    "# Set this to True if you want to run this template directly\n",
    "STANDALONE = False\n",
    "if STANDALONE:\n",
    "    print(\"parameters not injected, running with standalone_parameters\")\n",
    "    parameters = standalone_parameters\n",
    "\n",
    "if not 'parameters' in locals() and not 'parameters' in globals():\n",
    "    raise Exception(\"Parameter injection failed\")\n",
    "\n",
    "#Use an easy dict for all the parameters\n",
    "p = EasyDict(parameters)\n",
    "\n",
    "if \"x_shape\" not in p:\n",
    "    p.x_shape = [2,256] # Default to this if we dont supply x_shape\n",
    "\n",
    "\n",
    "supplied_keys = set(p.keys())\n",
    "\n",
    "if  supplied_keys != required_parameters:\n",
    "    print(\"Parameters are incorrect\")\n",
    "    if len(supplied_keys - required_parameters)>0: print(\"Shouldn't have:\", str(supplied_keys - required_parameters))\n",
    "    if len(required_parameters - supplied_keys)>0: print(\"Need to have:\", str(required_parameters - supplied_keys))\n",
    "    raise RuntimeError(\"Parameters are incorrect\")"
   ]
  },
  {
   "cell_type": "code",
   "execution_count": 6,
   "id": "3a028d58",
   "metadata": {
    "execution": {
     "iopub.execute_input": "2022-03-22T01:30:02.629283Z",
     "iopub.status.busy": "2022-03-22T01:30:02.628901Z",
     "iopub.status.idle": "2022-03-22T01:30:02.652743Z",
     "shell.execute_reply": "2022-03-22T01:30:02.653415Z"
    },
    "papermill": {
     "duration": 0.04968,
     "end_time": "2022-03-22T01:30:02.653599",
     "exception": false,
     "start_time": "2022-03-22T01:30:02.603919",
     "status": "completed"
    },
    "tags": []
   },
   "outputs": [],
   "source": [
    "###################################\n",
    "# Set the RNGs and make it all deterministic\n",
    "###################################\n",
    "np.random.seed(p.seed)\n",
    "random.seed(p.seed)\n",
    "torch.manual_seed(p.seed)\n",
    "\n",
    "torch.use_deterministic_algorithms(True) "
   ]
  },
  {
   "cell_type": "code",
   "execution_count": 7,
   "id": "b691acf6",
   "metadata": {
    "execution": {
     "iopub.execute_input": "2022-03-22T01:30:02.703513Z",
     "iopub.status.busy": "2022-03-22T01:30:02.703146Z",
     "iopub.status.idle": "2022-03-22T01:30:02.728807Z",
     "shell.execute_reply": "2022-03-22T01:30:02.727994Z"
    },
    "papermill": {
     "duration": 0.048087,
     "end_time": "2022-03-22T01:30:02.728959",
     "exception": false,
     "start_time": "2022-03-22T01:30:02.680872",
     "status": "completed"
    },
    "tags": []
   },
   "outputs": [],
   "source": [
    "###########################################\n",
    "# The stratified datasets honor this\n",
    "###########################################\n",
    "torch.set_default_dtype(eval(p.torch_default_dtype))"
   ]
  },
  {
   "cell_type": "code",
   "execution_count": 8,
   "id": "b5fba671",
   "metadata": {
    "execution": {
     "iopub.execute_input": "2022-03-22T01:30:02.777282Z",
     "iopub.status.busy": "2022-03-22T01:30:02.776723Z",
     "iopub.status.idle": "2022-03-22T01:30:02.838701Z",
     "shell.execute_reply": "2022-03-22T01:30:02.839380Z"
    },
    "papermill": {
     "duration": 0.085622,
     "end_time": "2022-03-22T01:30:02.839631",
     "exception": false,
     "start_time": "2022-03-22T01:30:02.754009",
     "status": "completed"
    },
    "tags": []
   },
   "outputs": [],
   "source": [
    "###################################\n",
    "# Build the network(s)\n",
    "# Note: It's critical to do this AFTER setting the RNG\n",
    "###################################\n",
    "x_net = build_sequential(p.x_net)"
   ]
  },
  {
   "cell_type": "code",
   "execution_count": 9,
   "id": "5d7e61cc",
   "metadata": {
    "execution": {
     "iopub.execute_input": "2022-03-22T01:30:02.891134Z",
     "iopub.status.busy": "2022-03-22T01:30:02.890758Z",
     "iopub.status.idle": "2022-03-22T01:30:02.919473Z",
     "shell.execute_reply": "2022-03-22T01:30:02.918717Z"
    },
    "papermill": {
     "duration": 0.052989,
     "end_time": "2022-03-22T01:30:02.919645",
     "exception": false,
     "start_time": "2022-03-22T01:30:02.866656",
     "status": "completed"
    },
    "tags": []
   },
   "outputs": [],
   "source": [
    "start_time_secs = time.time()"
   ]
  },
  {
   "cell_type": "code",
   "execution_count": 10,
   "id": "c6b67dfd",
   "metadata": {
    "execution": {
     "iopub.execute_input": "2022-03-22T01:30:02.973856Z",
     "iopub.status.busy": "2022-03-22T01:30:02.973294Z",
     "iopub.status.idle": "2022-03-22T01:30:02.996743Z",
     "shell.execute_reply": "2022-03-22T01:30:02.995919Z"
    },
    "papermill": {
     "duration": 0.048291,
     "end_time": "2022-03-22T01:30:02.996897",
     "exception": false,
     "start_time": "2022-03-22T01:30:02.948606",
     "status": "completed"
    },
    "tags": []
   },
   "outputs": [],
   "source": [
    "p.domains_source = []\n",
    "p.domains_target = []\n",
    "\n",
    "\n",
    "train_original_source = []\n",
    "val_original_source   = []\n",
    "test_original_source  = []\n",
    "\n",
    "train_original_target = []\n",
    "val_original_target   = []\n",
    "test_original_target  = []"
   ]
  },
  {
   "cell_type": "code",
   "execution_count": 11,
   "id": "e3d9c3d3",
   "metadata": {
    "execution": {
     "iopub.execute_input": "2022-03-22T01:30:03.049388Z",
     "iopub.status.busy": "2022-03-22T01:30:03.048817Z",
     "iopub.status.idle": "2022-03-22T01:30:03.074062Z",
     "shell.execute_reply": "2022-03-22T01:30:03.073354Z"
    },
    "papermill": {
     "duration": 0.04888,
     "end_time": "2022-03-22T01:30:03.074215",
     "exception": false,
     "start_time": "2022-03-22T01:30:03.025335",
     "status": "completed"
    },
    "tags": []
   },
   "outputs": [],
   "source": [
    "# global_x_transform_func = lambda x: normalize(x.to(torch.get_default_dtype()), \"unit_power\") # unit_power, unit_mag\n",
    "# global_x_transform_func = lambda x: normalize(x, \"unit_power\") # unit_power, unit_mag"
   ]
  },
  {
   "cell_type": "code",
   "execution_count": 12,
   "id": "acb78fd2",
   "metadata": {
    "execution": {
     "iopub.execute_input": "2022-03-22T01:30:03.133983Z",
     "iopub.status.busy": "2022-03-22T01:30:03.133132Z",
     "iopub.status.idle": "2022-03-22T01:30:03.153467Z",
     "shell.execute_reply": "2022-03-22T01:30:03.152631Z"
    },
    "papermill": {
     "duration": 0.053743,
     "end_time": "2022-03-22T01:30:03.153626",
     "exception": false,
     "start_time": "2022-03-22T01:30:03.099883",
     "status": "completed"
    },
    "tags": []
   },
   "outputs": [],
   "source": [
    "def add_dataset(\n",
    "    labels,\n",
    "    domains,\n",
    "    pickle_path,\n",
    "    x_transforms,\n",
    "    episode_transforms,\n",
    "    domain_prefix,\n",
    "    num_examples_per_domain_per_label,\n",
    "    source_or_target_dataset:str,\n",
    "    iterator_seed=p.seed,\n",
    "    dataset_seed=p.dataset_seed,\n",
    "    n_shot=p.n_shot,\n",
    "    n_way=p.n_way,\n",
    "    n_query=p.n_query,\n",
    "    train_val_test_k_factors=(p.train_k_factor,p.val_k_factor,p.test_k_factor),\n",
    "):\n",
    "   \n",
    "    if x_transforms == []: x_transform = None\n",
    "    else: x_transform = get_chained_transform(x_transforms)\n",
    "    \n",
    "    if episode_transforms == []: episode_transform = None\n",
    "    else: raise Exception(\"episode_transforms not implemented\")\n",
    "    \n",
    "    episode_transform = lambda tup, _prefix=domain_prefix: (_prefix + str(tup[0]), tup[1])\n",
    "\n",
    "\n",
    "    eaf = Episodic_Accessor_Factory(\n",
    "        labels=labels,\n",
    "        domains=domains,\n",
    "        num_examples_per_domain_per_label=num_examples_per_domain_per_label,\n",
    "        iterator_seed=iterator_seed,\n",
    "        dataset_seed=dataset_seed,\n",
    "        n_shot=n_shot,\n",
    "        n_way=n_way,\n",
    "        n_query=n_query,\n",
    "        train_val_test_k_factors=train_val_test_k_factors,\n",
    "        pickle_path=pickle_path,\n",
    "        x_transform_func=x_transform,\n",
    "    )\n",
    "\n",
    "    train, val, test = eaf.get_train(), eaf.get_val(), eaf.get_test()\n",
    "    train = Lazy_Iterable_Wrapper(train, episode_transform)\n",
    "    val = Lazy_Iterable_Wrapper(val, episode_transform)\n",
    "    test = Lazy_Iterable_Wrapper(test, episode_transform)\n",
    "\n",
    "    if source_or_target_dataset==\"source\":\n",
    "        train_original_source.append(train)\n",
    "        val_original_source.append(val)\n",
    "        test_original_source.append(test)\n",
    "\n",
    "        p.domains_source.extend(\n",
    "            [domain_prefix + str(u) for u in domains]\n",
    "        )\n",
    "    elif source_or_target_dataset==\"target\":\n",
    "        train_original_target.append(train)\n",
    "        val_original_target.append(val)\n",
    "        test_original_target.append(test)\n",
    "        p.domains_target.extend(\n",
    "            [domain_prefix + str(u) for u in domains]\n",
    "        )\n",
    "    else:\n",
    "        raise Exception(f\"invalid source_or_target_dataset: {source_or_target_dataset}\")\n",
    "    "
   ]
  },
  {
   "cell_type": "code",
   "execution_count": 13,
   "id": "fe266617",
   "metadata": {
    "execution": {
     "iopub.execute_input": "2022-03-22T01:30:03.204772Z",
     "iopub.status.busy": "2022-03-22T01:30:03.204207Z",
     "iopub.status.idle": "2022-03-22T01:30:49.967449Z",
     "shell.execute_reply": "2022-03-22T01:30:49.966684Z"
    },
    "papermill": {
     "duration": 46.787426,
     "end_time": "2022-03-22T01:30:49.967641",
     "exception": false,
     "start_time": "2022-03-22T01:30:03.180215",
     "status": "completed"
    },
    "tags": []
   },
   "outputs": [],
   "source": [
    "for ds in p.datasets:\n",
    "    add_dataset(**ds)"
   ]
  },
  {
   "cell_type": "code",
   "execution_count": 14,
   "id": "b90d65ac",
   "metadata": {
    "execution": {
     "iopub.execute_input": "2022-03-22T01:30:50.018470Z",
     "iopub.status.busy": "2022-03-22T01:30:50.018083Z",
     "iopub.status.idle": "2022-03-22T01:30:50.046982Z",
     "shell.execute_reply": "2022-03-22T01:30:50.046175Z"
    },
    "papermill": {
     "duration": 0.053387,
     "end_time": "2022-03-22T01:30:50.047136",
     "exception": false,
     "start_time": "2022-03-22T01:30:49.993749",
     "status": "completed"
    },
    "tags": []
   },
   "outputs": [],
   "source": [
    "# from steves_utils.CORES.utils import (\n",
    "#     ALL_NODES,\n",
    "#     ALL_NODES_MINIMUM_1000_EXAMPLES,\n",
    "#     ALL_DAYS\n",
    "# )\n",
    "\n",
    "# add_dataset(\n",
    "#     labels=ALL_NODES,\n",
    "#     domains = ALL_DAYS,\n",
    "#     num_examples_per_domain_per_label=100,\n",
    "#     pickle_path=os.path.join(get_datasets_base_path(), \"cores.stratified_ds.2022A.pkl\"),\n",
    "#     source_or_target_dataset=\"target\",\n",
    "#     x_transform_func=global_x_transform_func,\n",
    "#     domain_modifier=lambda u: f\"cores_{u}\"\n",
    "# )"
   ]
  },
  {
   "cell_type": "code",
   "execution_count": 15,
   "id": "76db484d",
   "metadata": {
    "execution": {
     "iopub.execute_input": "2022-03-22T01:30:50.096335Z",
     "iopub.status.busy": "2022-03-22T01:30:50.095660Z",
     "iopub.status.idle": "2022-03-22T01:30:50.120466Z",
     "shell.execute_reply": "2022-03-22T01:30:50.119761Z"
    },
    "papermill": {
     "duration": 0.048185,
     "end_time": "2022-03-22T01:30:50.120630",
     "exception": false,
     "start_time": "2022-03-22T01:30:50.072445",
     "status": "completed"
    },
    "tags": []
   },
   "outputs": [],
   "source": [
    "# from steves_utils.ORACLE.utils_v2 import (\n",
    "#     ALL_DISTANCES_FEET,\n",
    "#     ALL_RUNS,\n",
    "#     ALL_SERIAL_NUMBERS,\n",
    "# )\n",
    "\n",
    "\n",
    "# add_dataset(\n",
    "#     labels=ALL_SERIAL_NUMBERS,\n",
    "#     domains = list(set(ALL_DISTANCES_FEET) - {2,62}),\n",
    "#     num_examples_per_domain_per_label=100,\n",
    "#     pickle_path=os.path.join(get_datasets_base_path(), \"oracle.Run2_framed_2000Examples_stratified_ds.2022A.pkl\"),\n",
    "#     source_or_target_dataset=\"source\",\n",
    "#     x_transform_func=global_x_transform_func,\n",
    "#     domain_modifier=lambda u: f\"oracle1_{u}\"\n",
    "# )\n"
   ]
  },
  {
   "cell_type": "code",
   "execution_count": 16,
   "id": "97dea9d2",
   "metadata": {
    "execution": {
     "iopub.execute_input": "2022-03-22T01:30:50.171125Z",
     "iopub.status.busy": "2022-03-22T01:30:50.170370Z",
     "iopub.status.idle": "2022-03-22T01:30:50.195496Z",
     "shell.execute_reply": "2022-03-22T01:30:50.194691Z"
    },
    "papermill": {
     "duration": 0.048577,
     "end_time": "2022-03-22T01:30:50.195686",
     "exception": false,
     "start_time": "2022-03-22T01:30:50.147109",
     "status": "completed"
    },
    "tags": []
   },
   "outputs": [],
   "source": [
    "# from steves_utils.ORACLE.utils_v2 import (\n",
    "#     ALL_DISTANCES_FEET,\n",
    "#     ALL_RUNS,\n",
    "#     ALL_SERIAL_NUMBERS,\n",
    "# )\n",
    "\n",
    "\n",
    "# add_dataset(\n",
    "#     labels=ALL_SERIAL_NUMBERS,\n",
    "#     domains = list(set(ALL_DISTANCES_FEET) - {2,62,56}),\n",
    "#     num_examples_per_domain_per_label=100,\n",
    "#     pickle_path=os.path.join(get_datasets_base_path(), \"oracle.Run2_framed_2000Examples_stratified_ds.2022A.pkl\"),\n",
    "#     source_or_target_dataset=\"source\",\n",
    "#     x_transform_func=global_x_transform_func,\n",
    "#     domain_modifier=lambda u: f\"oracle2_{u}\"\n",
    "# )"
   ]
  },
  {
   "cell_type": "code",
   "execution_count": 17,
   "id": "6f289866",
   "metadata": {
    "execution": {
     "iopub.execute_input": "2022-03-22T01:30:50.247091Z",
     "iopub.status.busy": "2022-03-22T01:30:50.246179Z",
     "iopub.status.idle": "2022-03-22T01:30:50.269742Z",
     "shell.execute_reply": "2022-03-22T01:30:50.268945Z"
    },
    "papermill": {
     "duration": 0.046953,
     "end_time": "2022-03-22T01:30:50.269893",
     "exception": false,
     "start_time": "2022-03-22T01:30:50.222940",
     "status": "completed"
    },
    "tags": []
   },
   "outputs": [],
   "source": [
    "# add_dataset(\n",
    "#     labels=list(range(19)),\n",
    "#     domains = [0,1,2],\n",
    "#     num_examples_per_domain_per_label=100,\n",
    "#     pickle_path=os.path.join(get_datasets_base_path(), \"metehan.stratified_ds.2022A.pkl\"),\n",
    "#     source_or_target_dataset=\"target\",\n",
    "#     x_transform_func=global_x_transform_func,\n",
    "#     domain_modifier=lambda u: f\"met_{u}\"\n",
    "# )"
   ]
  },
  {
   "cell_type": "code",
   "execution_count": 18,
   "id": "86a863c3",
   "metadata": {
    "execution": {
     "iopub.execute_input": "2022-03-22T01:30:50.322967Z",
     "iopub.status.busy": "2022-03-22T01:30:50.322198Z",
     "iopub.status.idle": "2022-03-22T01:30:50.343750Z",
     "shell.execute_reply": "2022-03-22T01:30:50.342968Z"
    },
    "papermill": {
     "duration": 0.04532,
     "end_time": "2022-03-22T01:30:50.343905",
     "exception": false,
     "start_time": "2022-03-22T01:30:50.298585",
     "status": "completed"
    },
    "tags": []
   },
   "outputs": [],
   "source": [
    "# # from steves_utils.wisig.utils import (\n",
    "# #     ALL_NODES_MINIMUM_100_EXAMPLES,\n",
    "# #     ALL_NODES_MINIMUM_500_EXAMPLES,\n",
    "# #     ALL_NODES_MINIMUM_1000_EXAMPLES,\n",
    "# #     ALL_DAYS\n",
    "# # )\n",
    "\n",
    "# import steves_utils.wisig.utils as wisig\n",
    "\n",
    "\n",
    "# add_dataset(\n",
    "#     labels=wisig.ALL_NODES_MINIMUM_100_EXAMPLES,\n",
    "#     domains = wisig.ALL_DAYS,\n",
    "#     num_examples_per_domain_per_label=100,\n",
    "#     pickle_path=os.path.join(get_datasets_base_path(), \"wisig.node3-19.stratified_ds.2022A.pkl\"),\n",
    "#     source_or_target_dataset=\"target\",\n",
    "#     x_transform_func=global_x_transform_func,\n",
    "#     domain_modifier=lambda u: f\"wisig_{u}\"\n",
    "# )"
   ]
  },
  {
   "cell_type": "code",
   "execution_count": 19,
   "id": "fd5442bc",
   "metadata": {
    "execution": {
     "iopub.execute_input": "2022-03-22T01:30:50.402323Z",
     "iopub.status.busy": "2022-03-22T01:30:50.401673Z",
     "iopub.status.idle": "2022-03-22T01:30:50.421599Z",
     "shell.execute_reply": "2022-03-22T01:30:50.420884Z"
    },
    "papermill": {
     "duration": 0.050204,
     "end_time": "2022-03-22T01:30:50.421759",
     "exception": false,
     "start_time": "2022-03-22T01:30:50.371555",
     "status": "completed"
    },
    "tags": []
   },
   "outputs": [],
   "source": [
    "###################################\n",
    "# Build the dataset\n",
    "###################################\n",
    "train_original_source = Iterable_Aggregator(train_original_source, p.seed)\n",
    "val_original_source = Iterable_Aggregator(val_original_source, p.seed)\n",
    "test_original_source = Iterable_Aggregator(test_original_source, p.seed)\n",
    "\n",
    "\n",
    "train_original_target = Iterable_Aggregator(train_original_target, p.seed)\n",
    "val_original_target = Iterable_Aggregator(val_original_target, p.seed)\n",
    "test_original_target = Iterable_Aggregator(test_original_target, p.seed)\n",
    "\n",
    "# For CNN We only use X and Y. And we only train on the source.\n",
    "# Properly form the data using a transform lambda and Lazy_Iterable_Wrapper. Finally wrap them in a dataloader\n",
    "\n",
    "transform_lambda = lambda ex: ex[1] # Original is (<domain>, <episode>) so we strip down to episode only\n",
    "\n",
    "train_processed_source = Lazy_Iterable_Wrapper(train_original_source, transform_lambda)\n",
    "val_processed_source   = Lazy_Iterable_Wrapper(val_original_source, transform_lambda)\n",
    "test_processed_source  = Lazy_Iterable_Wrapper(test_original_source, transform_lambda)\n",
    "\n",
    "train_processed_target = Lazy_Iterable_Wrapper(train_original_target, transform_lambda)\n",
    "val_processed_target   = Lazy_Iterable_Wrapper(val_original_target, transform_lambda)\n",
    "test_processed_target  = Lazy_Iterable_Wrapper(test_original_target, transform_lambda)\n",
    "\n",
    "datasets = EasyDict({\n",
    "    \"source\": {\n",
    "        \"original\": {\"train\":train_original_source, \"val\":val_original_source, \"test\":test_original_source},\n",
    "        \"processed\": {\"train\":train_processed_source, \"val\":val_processed_source, \"test\":test_processed_source}\n",
    "    },\n",
    "    \"target\": {\n",
    "        \"original\": {\"train\":train_original_target, \"val\":val_original_target, \"test\":test_original_target},\n",
    "        \"processed\": {\"train\":train_processed_target, \"val\":val_processed_target, \"test\":test_processed_target}\n",
    "    },\n",
    "})"
   ]
  },
  {
   "cell_type": "code",
   "execution_count": 20,
   "id": "5b3c01fc",
   "metadata": {
    "execution": {
     "iopub.execute_input": "2022-03-22T01:30:50.477463Z",
     "iopub.status.busy": "2022-03-22T01:30:50.473992Z",
     "iopub.status.idle": "2022-03-22T01:31:06.412847Z",
     "shell.execute_reply": "2022-03-22T01:31:06.411906Z"
    },
    "papermill": {
     "duration": 15.965056,
     "end_time": "2022-03-22T01:31:06.413074",
     "exception": false,
     "start_time": "2022-03-22T01:30:50.448018",
     "status": "completed"
    },
    "tags": []
   },
   "outputs": [
    {
     "name": "stdout",
     "output_type": "stream",
     "text": [
      "{'CORES_4', 'CORES_1', 'CORES_3', 'CORES_2', 'CORES_5'}\n"
     ]
    },
    {
     "name": "stdout",
     "output_type": "stream",
     "text": [
      "{'ORACLE.run1_14', 'ORACLE.run1_20', 'ORACLE.run1_8', 'ORACLE.run1_50', 'ORACLE.run1_32', 'ORACLE.run1_26', 'ORACLE.run1_44', 'ORACLE.run1_38'}\n"
     ]
    },
    {
     "name": "stdout",
     "output_type": "stream",
     "text": [
      "tensor([[[-0.3169, -0.5881,  0.4177,  ..., -0.9234, -0.5833,  0.2969],\n",
      "         [ 0.0984, -0.7569, -0.5785,  ..., -0.0560, -0.0816, -0.5465]],\n",
      "\n",
      "        [[-0.4746, -0.4962,  0.7551,  ..., -0.9197, -0.3428,  0.4786],\n",
      "         [-0.0895, -0.8350, -0.3516,  ...,  0.1902, -0.2645, -0.4706]],\n",
      "\n",
      "        [[-0.2252, -0.3390,  0.3262,  ..., -0.5363, -0.7750,  0.2133],\n",
      "         [ 0.1369, -0.6859, -0.7639,  ..., -0.6525, -0.2801, -0.4862]],\n",
      "\n",
      "        ...,\n",
      "\n",
      "        [[ 0.5430,  0.7236,  0.7746,  ..., -0.9221, -1.9213, -0.9331],\n",
      "         [ 0.4052,  0.7567, -0.1006,  ..., -1.3962, -0.2495,  0.6836]],\n",
      "\n",
      "        [[ 0.3537,  0.3550, -0.1556,  ..., -0.0746, -0.3846, -0.0334],\n",
      "         [ 0.1351,  0.0476, -0.2843,  ..., -0.1016,  0.0733, -0.5583]],\n",
      "\n",
      "        [[ 0.2991,  0.5389,  0.6746,  ..., -0.9381, -1.5614, -0.4849],\n",
      "         [ 0.8788,  0.7550, -0.3689,  ..., -1.5561, -0.4150,  0.2635]]])\n"
     ]
    }
   ],
   "source": [
    "from steves_utils.transforms import get_average_magnitude, get_average_power\n",
    "\n",
    "print(set([u for u,_ in val_original_source]))\n",
    "print(set([u for u,_ in val_original_target]))\n",
    "\n",
    "s_x, s_y, q_x, q_y, _ = next(iter(train_processed_source))\n",
    "print(s_x)\n",
    "\n",
    "# for ds in [\n",
    "#     train_processed_source,\n",
    "#     val_processed_source,\n",
    "#     test_processed_source,\n",
    "#     train_processed_target,\n",
    "#     val_processed_target,\n",
    "#     test_processed_target\n",
    "# ]:\n",
    "#     for s_x, s_y, q_x, q_y, _ in ds:\n",
    "#         for X in (s_x, q_x):\n",
    "#             for x in X:\n",
    "#                 assert np.isclose(get_average_magnitude(x.numpy()), 1.0)\n",
    "#                 assert np.isclose(get_average_power(x.numpy()), 1.0)\n",
    "                "
   ]
  },
  {
   "cell_type": "code",
   "execution_count": 21,
   "id": "bbdacba1",
   "metadata": {
    "execution": {
     "iopub.execute_input": "2022-03-22T01:31:06.475289Z",
     "iopub.status.busy": "2022-03-22T01:31:06.474904Z",
     "iopub.status.idle": "2022-03-22T01:31:06.673495Z",
     "shell.execute_reply": "2022-03-22T01:31:06.672771Z"
    },
    "papermill": {
     "duration": 0.227899,
     "end_time": "2022-03-22T01:31:06.673664",
     "exception": false,
     "start_time": "2022-03-22T01:31:06.445765",
     "status": "completed"
    },
    "tags": []
   },
   "outputs": [
    {
     "name": "stdout",
     "output_type": "stream",
     "text": [
      "(2, 256)\n"
     ]
    }
   ],
   "source": [
    "###################################\n",
    "# Build the model\n",
    "###################################\n",
    "# easfsl only wants a tuple for the shape\n",
    "model = Steves_Prototypical_Network(x_net, device=p.device, x_shape=tuple(p.x_shape))\n",
    "optimizer = Adam(params=model.parameters(), lr=p.lr)"
   ]
  },
  {
   "cell_type": "code",
   "execution_count": 22,
   "id": "22b39ac5",
   "metadata": {
    "execution": {
     "iopub.execute_input": "2022-03-22T01:31:06.727671Z",
     "iopub.status.busy": "2022-03-22T01:31:06.727276Z",
     "iopub.status.idle": "2022-03-22T02:26:06.694627Z",
     "shell.execute_reply": "2022-03-22T02:26:06.694273Z"
    },
    "papermill": {
     "duration": 3299.992791,
     "end_time": "2022-03-22T02:26:06.694722",
     "exception": false,
     "start_time": "2022-03-22T01:31:06.701931",
     "status": "completed"
    },
    "tags": []
   },
   "outputs": [
    {
     "name": "stdout",
     "output_type": "stream",
     "text": [
      "epoch: 1, [batch: 1 / 6320], examples_per_second: 33.4912, train_label_loss: 2.6620, \n"
     ]
    },
    {
     "name": "stdout",
     "output_type": "stream",
     "text": [
      "epoch: 1, [batch: 632 / 6320], examples_per_second: 2252.8317, train_label_loss: 0.0069, \n"
     ]
    },
    {
     "name": "stdout",
     "output_type": "stream",
     "text": [
      "epoch: 1, [batch: 1264 / 6320], examples_per_second: 2288.1947, train_label_loss: 0.0004, \n"
     ]
    },
    {
     "name": "stdout",
     "output_type": "stream",
     "text": [
      "epoch: 1, [batch: 1896 / 6320], examples_per_second: 2320.7178, train_label_loss: 0.0030, \n"
     ]
    },
    {
     "name": "stdout",
     "output_type": "stream",
     "text": [
      "epoch: 1, [batch: 2528 / 6320], examples_per_second: 2294.1672, train_label_loss: 0.0014, \n"
     ]
    },
    {
     "name": "stdout",
     "output_type": "stream",
     "text": [
      "epoch: 1, [batch: 3160 / 6320], examples_per_second: 2288.7930, train_label_loss: 0.0013, \n"
     ]
    },
    {
     "name": "stdout",
     "output_type": "stream",
     "text": [
      "epoch: 1, [batch: 3792 / 6320], examples_per_second: 2289.2044, train_label_loss: 0.0001, \n"
     ]
    },
    {
     "name": "stdout",
     "output_type": "stream",
     "text": [
      "epoch: 1, [batch: 4424 / 6320], examples_per_second: 2287.2187, train_label_loss: 0.0024, \n"
     ]
    },
    {
     "name": "stdout",
     "output_type": "stream",
     "text": [
      "epoch: 1, [batch: 5056 / 6320], examples_per_second: 2423.9739, train_label_loss: 0.0009, \n"
     ]
    },
    {
     "name": "stdout",
     "output_type": "stream",
     "text": [
      "epoch: 1, [batch: 5688 / 6320], examples_per_second: 2594.0299, train_label_loss: 0.0006, \n"
     ]
    },
    {
     "name": "stdout",
     "output_type": "stream",
     "text": [
      "=============================================================\n",
      "epoch: 1, source_val_acc_label: 0.9987, target_val_acc_label: 0.1642, source_val_label_loss: 0.0070, target_val_label_loss: 2.5609, \n",
      "=============================================================\n"
     ]
    },
    {
     "name": "stdout",
     "output_type": "stream",
     "text": [
      "New best\n"
     ]
    },
    {
     "name": "stdout",
     "output_type": "stream",
     "text": [
      "epoch: 2, [batch: 1 / 6305], examples_per_second: 2.2473, train_label_loss: 0.0002, \n"
     ]
    },
    {
     "name": "stdout",
     "output_type": "stream",
     "text": [
      "epoch: 2, [batch: 631 / 6305], examples_per_second: 2300.9020, train_label_loss: 0.0000, \n"
     ]
    },
    {
     "name": "stdout",
     "output_type": "stream",
     "text": [
      "epoch: 2, [batch: 1261 / 6305], examples_per_second: 2302.1432, train_label_loss: 0.0003, \n"
     ]
    },
    {
     "name": "stdout",
     "output_type": "stream",
     "text": [
      "epoch: 2, [batch: 1892 / 6305], examples_per_second: 2310.5006, train_label_loss: 0.0000, \n"
     ]
    },
    {
     "name": "stdout",
     "output_type": "stream",
     "text": [
      "epoch: 2, [batch: 2522 / 6305], examples_per_second: 2312.6109, train_label_loss: 0.0001, \n"
     ]
    },
    {
     "name": "stdout",
     "output_type": "stream",
     "text": [
      "epoch: 2, [batch: 3153 / 6305], examples_per_second: 2299.0571, train_label_loss: 0.0001, \n"
     ]
    },
    {
     "name": "stdout",
     "output_type": "stream",
     "text": [
      "epoch: 2, [batch: 3783 / 6305], examples_per_second: 2292.4719, train_label_loss: 0.0000, \n"
     ]
    },
    {
     "name": "stdout",
     "output_type": "stream",
     "text": [
      "epoch: 2, [batch: 4413 / 6305], examples_per_second: 2289.1458, train_label_loss: 0.0000, \n"
     ]
    },
    {
     "name": "stdout",
     "output_type": "stream",
     "text": [
      "epoch: 2, [batch: 5044 / 6305], examples_per_second: 2311.1366, train_label_loss: 0.0002, \n"
     ]
    },
    {
     "name": "stdout",
     "output_type": "stream",
     "text": [
      "epoch: 2, [batch: 5674 / 6305], examples_per_second: 2667.6800, train_label_loss: 0.0001, \n"
     ]
    },
    {
     "name": "stdout",
     "output_type": "stream",
     "text": [
      "=============================================================\n",
      "epoch: 2, source_val_acc_label: 0.9983, target_val_acc_label: 0.1673, source_val_label_loss: 0.0111, target_val_label_loss: 3.0833, \n",
      "=============================================================\n"
     ]
    },
    {
     "name": "stdout",
     "output_type": "stream",
     "text": [
      "New best\n"
     ]
    },
    {
     "name": "stdout",
     "output_type": "stream",
     "text": [
      "epoch: 3, [batch: 1 / 6307], examples_per_second: 2.6527, train_label_loss: 0.0000, \n"
     ]
    },
    {
     "name": "stdout",
     "output_type": "stream",
     "text": [
      "epoch: 3, [batch: 631 / 6307], examples_per_second: 2523.7147, train_label_loss: 0.0000, \n"
     ]
    },
    {
     "name": "stdout",
     "output_type": "stream",
     "text": [
      "epoch: 3, [batch: 1262 / 6307], examples_per_second: 2608.2486, train_label_loss: 0.0001, \n"
     ]
    },
    {
     "name": "stdout",
     "output_type": "stream",
     "text": [
      "epoch: 3, [batch: 1892 / 6307], examples_per_second: 2533.4798, train_label_loss: 0.0023, \n"
     ]
    },
    {
     "name": "stdout",
     "output_type": "stream",
     "text": [
      "epoch: 3, [batch: 2523 / 6307], examples_per_second: 2899.5577, train_label_loss: 0.0000, \n"
     ]
    },
    {
     "name": "stdout",
     "output_type": "stream",
     "text": [
      "epoch: 3, [batch: 3154 / 6307], examples_per_second: 2679.9952, train_label_loss: 0.0000, \n"
     ]
    },
    {
     "name": "stdout",
     "output_type": "stream",
     "text": [
      "epoch: 3, [batch: 3784 / 6307], examples_per_second: 2317.9706, train_label_loss: 0.0000, \n"
     ]
    },
    {
     "name": "stdout",
     "output_type": "stream",
     "text": [
      "epoch: 3, [batch: 4415 / 6307], examples_per_second: 2300.8005, train_label_loss: 0.0000, \n"
     ]
    },
    {
     "name": "stdout",
     "output_type": "stream",
     "text": [
      "epoch: 3, [batch: 5045 / 6307], examples_per_second: 2305.3131, train_label_loss: 0.0000, \n"
     ]
    },
    {
     "name": "stdout",
     "output_type": "stream",
     "text": [
      "epoch: 3, [batch: 5676 / 6307], examples_per_second: 2344.7644, train_label_loss: 0.0000, \n"
     ]
    },
    {
     "name": "stdout",
     "output_type": "stream",
     "text": [
      "=============================================================\n",
      "epoch: 3, source_val_acc_label: 0.9994, target_val_acc_label: 0.1607, source_val_label_loss: 0.0070, target_val_label_loss: 3.0918, \n",
      "=============================================================\n"
     ]
    },
    {
     "name": "stdout",
     "output_type": "stream",
     "text": [
      "epoch: 4, [batch: 1 / 6315], examples_per_second: 2.4273, train_label_loss: 0.0000, \n"
     ]
    },
    {
     "name": "stdout",
     "output_type": "stream",
     "text": [
      "epoch: 4, [batch: 632 / 6315], examples_per_second: 2321.9997, train_label_loss: 0.0034, \n"
     ]
    },
    {
     "name": "stdout",
     "output_type": "stream",
     "text": [
      "epoch: 4, [batch: 1263 / 6315], examples_per_second: 2332.0289, train_label_loss: 0.0000, \n"
     ]
    },
    {
     "name": "stdout",
     "output_type": "stream",
     "text": [
      "epoch: 4, [batch: 1895 / 6315], examples_per_second: 2322.0210, train_label_loss: 0.0001, \n"
     ]
    },
    {
     "name": "stdout",
     "output_type": "stream",
     "text": [
      "epoch: 4, [batch: 2526 / 6315], examples_per_second: 2297.8251, train_label_loss: 0.0000, \n"
     ]
    },
    {
     "name": "stdout",
     "output_type": "stream",
     "text": [
      "epoch: 4, [batch: 3158 / 6315], examples_per_second: 2313.2613, train_label_loss: 0.0000, \n"
     ]
    },
    {
     "name": "stdout",
     "output_type": "stream",
     "text": [
      "epoch: 4, [batch: 3789 / 6315], examples_per_second: 2316.7613, train_label_loss: 0.1033, \n"
     ]
    },
    {
     "name": "stdout",
     "output_type": "stream",
     "text": [
      "epoch: 4, [batch: 4420 / 6315], examples_per_second: 2289.1846, train_label_loss: 0.0000, \n"
     ]
    },
    {
     "name": "stdout",
     "output_type": "stream",
     "text": [
      "epoch: 4, [batch: 5052 / 6315], examples_per_second: 2324.7925, train_label_loss: 0.0000, \n"
     ]
    },
    {
     "name": "stdout",
     "output_type": "stream",
     "text": [
      "epoch: 4, [batch: 5683 / 6315], examples_per_second: 2296.7934, train_label_loss: 0.0000, \n"
     ]
    },
    {
     "name": "stdout",
     "output_type": "stream",
     "text": [
      "=============================================================\n",
      "epoch: 4, source_val_acc_label: 0.9993, target_val_acc_label: 0.1643, source_val_label_loss: 0.0083, target_val_label_loss: 3.5244, \n",
      "=============================================================\n"
     ]
    },
    {
     "name": "stdout",
     "output_type": "stream",
     "text": [
      "epoch: 5, [batch: 1 / 6313], examples_per_second: 2.3212, train_label_loss: 0.0000, \n"
     ]
    },
    {
     "name": "stdout",
     "output_type": "stream",
     "text": [
      "epoch: 5, [batch: 632 / 6313], examples_per_second: 2446.8704, train_label_loss: 0.0000, \n"
     ]
    },
    {
     "name": "stdout",
     "output_type": "stream",
     "text": [
      "epoch: 5, [batch: 1263 / 6313], examples_per_second: 2595.8801, train_label_loss: 0.0001, \n"
     ]
    },
    {
     "name": "stdout",
     "output_type": "stream",
     "text": [
      "epoch: 5, [batch: 1894 / 6313], examples_per_second: 2624.5394, train_label_loss: 0.0000, \n"
     ]
    },
    {
     "name": "stdout",
     "output_type": "stream",
     "text": [
      "epoch: 5, [batch: 2525 / 6313], examples_per_second: 2593.8910, train_label_loss: 0.0000, \n"
     ]
    },
    {
     "name": "stdout",
     "output_type": "stream",
     "text": [
      "epoch: 5, [batch: 3157 / 6313], examples_per_second: 2544.7613, train_label_loss: 0.0000, \n"
     ]
    },
    {
     "name": "stdout",
     "output_type": "stream",
     "text": [
      "epoch: 5, [batch: 3788 / 6313], examples_per_second: 2576.4600, train_label_loss: 0.0000, \n"
     ]
    },
    {
     "name": "stdout",
     "output_type": "stream",
     "text": [
      "epoch: 5, [batch: 4419 / 6313], examples_per_second: 2524.7376, train_label_loss: 0.0000, \n"
     ]
    },
    {
     "name": "stdout",
     "output_type": "stream",
     "text": [
      "epoch: 5, [batch: 5050 / 6313], examples_per_second: 2716.1849, train_label_loss: 0.0000, \n"
     ]
    },
    {
     "name": "stdout",
     "output_type": "stream",
     "text": [
      "epoch: 5, [batch: 5681 / 6313], examples_per_second: 2791.3166, train_label_loss: 0.0000, \n"
     ]
    },
    {
     "name": "stdout",
     "output_type": "stream",
     "text": [
      "=============================================================\n",
      "epoch: 5, source_val_acc_label: 0.9992, target_val_acc_label: 0.1815, source_val_label_loss: 0.0080, target_val_label_loss: 3.6858, \n",
      "=============================================================\n"
     ]
    },
    {
     "name": "stdout",
     "output_type": "stream",
     "text": [
      "New best\n"
     ]
    },
    {
     "name": "stdout",
     "output_type": "stream",
     "text": [
      "epoch: 6, [batch: 1 / 6317], examples_per_second: 2.4008, train_label_loss: 0.0000, \n"
     ]
    },
    {
     "name": "stdout",
     "output_type": "stream",
     "text": [
      "epoch: 6, [batch: 632 / 6317], examples_per_second: 2675.7260, train_label_loss: 0.0000, \n"
     ]
    },
    {
     "name": "stdout",
     "output_type": "stream",
     "text": [
      "epoch: 6, [batch: 1264 / 6317], examples_per_second: 2330.3306, train_label_loss: 0.0000, \n"
     ]
    },
    {
     "name": "stdout",
     "output_type": "stream",
     "text": [
      "epoch: 6, [batch: 1895 / 6317], examples_per_second: 2335.6600, train_label_loss: 0.0000, \n"
     ]
    },
    {
     "name": "stdout",
     "output_type": "stream",
     "text": [
      "epoch: 6, [batch: 2527 / 6317], examples_per_second: 2313.0085, train_label_loss: 0.0000, \n"
     ]
    },
    {
     "name": "stdout",
     "output_type": "stream",
     "text": [
      "epoch: 6, [batch: 3159 / 6317], examples_per_second: 2328.6676, train_label_loss: 0.0000, \n"
     ]
    },
    {
     "name": "stdout",
     "output_type": "stream",
     "text": [
      "epoch: 6, [batch: 3790 / 6317], examples_per_second: 2305.8112, train_label_loss: 0.0000, \n"
     ]
    },
    {
     "name": "stdout",
     "output_type": "stream",
     "text": [
      "epoch: 6, [batch: 4422 / 6317], examples_per_second: 2304.8611, train_label_loss: 0.0000, \n"
     ]
    },
    {
     "name": "stdout",
     "output_type": "stream",
     "text": [
      "epoch: 6, [batch: 5053 / 6317], examples_per_second: 2290.3191, train_label_loss: 0.0000, \n"
     ]
    },
    {
     "name": "stdout",
     "output_type": "stream",
     "text": [
      "epoch: 6, [batch: 5685 / 6317], examples_per_second: 2310.3738, train_label_loss: 0.0000, \n"
     ]
    },
    {
     "name": "stdout",
     "output_type": "stream",
     "text": [
      "=============================================================\n",
      "epoch: 6, source_val_acc_label: 0.9984, target_val_acc_label: 0.1769, source_val_label_loss: 0.0112, target_val_label_loss: 3.3649, \n",
      "=============================================================\n"
     ]
    },
    {
     "name": "stdout",
     "output_type": "stream",
     "text": [
      "epoch: 7, [batch: 1 / 6322], examples_per_second: 2.1906, train_label_loss: 0.0000, \n"
     ]
    },
    {
     "name": "stdout",
     "output_type": "stream",
     "text": [
      "epoch: 7, [batch: 633 / 6322], examples_per_second: 2579.0245, train_label_loss: 0.0000, \n"
     ]
    },
    {
     "name": "stdout",
     "output_type": "stream",
     "text": [
      "epoch: 7, [batch: 1265 / 6322], examples_per_second: 2578.1189, train_label_loss: 0.0000, \n"
     ]
    },
    {
     "name": "stdout",
     "output_type": "stream",
     "text": [
      "epoch: 7, [batch: 1897 / 6322], examples_per_second: 2323.5032, train_label_loss: 0.0000, \n"
     ]
    },
    {
     "name": "stdout",
     "output_type": "stream",
     "text": [
      "epoch: 7, [batch: 2529 / 6322], examples_per_second: 2305.4746, train_label_loss: 0.0000, \n"
     ]
    },
    {
     "name": "stdout",
     "output_type": "stream",
     "text": [
      "epoch: 7, [batch: 3161 / 6322], examples_per_second: 2320.4815, train_label_loss: 0.0000, \n"
     ]
    },
    {
     "name": "stdout",
     "output_type": "stream",
     "text": [
      "epoch: 7, [batch: 3793 / 6322], examples_per_second: 2318.9936, train_label_loss: 0.0035, \n"
     ]
    },
    {
     "name": "stdout",
     "output_type": "stream",
     "text": [
      "epoch: 7, [batch: 4425 / 6322], examples_per_second: 2416.9869, train_label_loss: 0.0000, \n"
     ]
    },
    {
     "name": "stdout",
     "output_type": "stream",
     "text": [
      "epoch: 7, [batch: 5057 / 6322], examples_per_second: 2586.6240, train_label_loss: 0.0000, \n"
     ]
    },
    {
     "name": "stdout",
     "output_type": "stream",
     "text": [
      "epoch: 7, [batch: 5689 / 6322], examples_per_second: 2584.3250, train_label_loss: 0.0000, \n"
     ]
    },
    {
     "name": "stdout",
     "output_type": "stream",
     "text": [
      "=============================================================\n",
      "epoch: 7, source_val_acc_label: 0.9995, target_val_acc_label: 0.1737, source_val_label_loss: 0.0101, target_val_label_loss: 3.8994, \n",
      "=============================================================\n"
     ]
    },
    {
     "name": "stdout",
     "output_type": "stream",
     "text": [
      "epoch: 8, [batch: 1 / 6297], examples_per_second: 2.3968, train_label_loss: 0.0000, \n"
     ]
    },
    {
     "name": "stdout",
     "output_type": "stream",
     "text": [
      "epoch: 8, [batch: 630 / 6297], examples_per_second: 3035.5109, train_label_loss: 0.0000, \n"
     ]
    },
    {
     "name": "stdout",
     "output_type": "stream",
     "text": [
      "epoch: 8, [batch: 1260 / 6297], examples_per_second: 3177.1143, train_label_loss: 0.0000, \n"
     ]
    },
    {
     "name": "stdout",
     "output_type": "stream",
     "text": [
      "epoch: 8, [batch: 1889 / 6297], examples_per_second: 3136.5346, train_label_loss: 0.0000, \n"
     ]
    },
    {
     "name": "stdout",
     "output_type": "stream",
     "text": [
      "epoch: 8, [batch: 2519 / 6297], examples_per_second: 2360.9403, train_label_loss: 0.0000, \n"
     ]
    },
    {
     "name": "stdout",
     "output_type": "stream",
     "text": [
      "epoch: 8, [batch: 3149 / 6297], examples_per_second: 2320.0346, train_label_loss: 0.0000, \n"
     ]
    },
    {
     "name": "stdout",
     "output_type": "stream",
     "text": [
      "epoch: 8, [batch: 3778 / 6297], examples_per_second: 2322.5602, train_label_loss: 0.0000, \n"
     ]
    },
    {
     "name": "stdout",
     "output_type": "stream",
     "text": [
      "epoch: 8, [batch: 4408 / 6297], examples_per_second: 2321.5878, train_label_loss: 0.0000, \n"
     ]
    },
    {
     "name": "stdout",
     "output_type": "stream",
     "text": [
      "epoch: 8, [batch: 5037 / 6297], examples_per_second: 2306.1910, train_label_loss: 0.0000, \n"
     ]
    },
    {
     "name": "stdout",
     "output_type": "stream",
     "text": [
      "epoch: 8, [batch: 5667 / 6297], examples_per_second: 2294.3584, train_label_loss: 0.0000, \n"
     ]
    },
    {
     "name": "stdout",
     "output_type": "stream",
     "text": [
      "=============================================================\n",
      "epoch: 8, source_val_acc_label: 0.9991, target_val_acc_label: 0.1682, source_val_label_loss: 0.0145, target_val_label_loss: 4.7094, \n",
      "=============================================================\n"
     ]
    },
    {
     "name": "stdout",
     "output_type": "stream",
     "text": [
      "epoch: 9, [batch: 1 / 6315], examples_per_second: 2.0989, train_label_loss: 0.0000, \n"
     ]
    },
    {
     "name": "stdout",
     "output_type": "stream",
     "text": [
      "epoch: 9, [batch: 632 / 6315], examples_per_second: 2661.3829, train_label_loss: 0.0000, \n"
     ]
    },
    {
     "name": "stdout",
     "output_type": "stream",
     "text": [
      "epoch: 9, [batch: 1263 / 6315], examples_per_second: 2632.4426, train_label_loss: 0.0000, \n"
     ]
    },
    {
     "name": "stdout",
     "output_type": "stream",
     "text": [
      "epoch: 9, [batch: 1895 / 6315], examples_per_second: 2770.6052, train_label_loss: 0.0000, \n"
     ]
    },
    {
     "name": "stdout",
     "output_type": "stream",
     "text": [
      "epoch: 9, [batch: 2526 / 6315], examples_per_second: 2284.5263, train_label_loss: 0.0000, \n"
     ]
    },
    {
     "name": "stdout",
     "output_type": "stream",
     "text": [
      "epoch: 9, [batch: 3158 / 6315], examples_per_second: 2326.4875, train_label_loss: 0.0000, \n"
     ]
    },
    {
     "name": "stdout",
     "output_type": "stream",
     "text": [
      "epoch: 9, [batch: 3789 / 6315], examples_per_second: 2312.7774, train_label_loss: 0.0000, \n"
     ]
    },
    {
     "name": "stdout",
     "output_type": "stream",
     "text": [
      "epoch: 9, [batch: 4420 / 6315], examples_per_second: 2324.7786, train_label_loss: 0.0000, \n"
     ]
    },
    {
     "name": "stdout",
     "output_type": "stream",
     "text": [
      "epoch: 9, [batch: 5052 / 6315], examples_per_second: 2311.3296, train_label_loss: 0.0000, \n"
     ]
    },
    {
     "name": "stdout",
     "output_type": "stream",
     "text": [
      "epoch: 9, [batch: 5683 / 6315], examples_per_second: 2371.8890, train_label_loss: 0.0000, \n"
     ]
    },
    {
     "name": "stdout",
     "output_type": "stream",
     "text": [
      "=============================================================\n",
      "epoch: 9, source_val_acc_label: 0.9992, target_val_acc_label: 0.1843, source_val_label_loss: 0.0135, target_val_label_loss: 5.0813, \n",
      "=============================================================\n"
     ]
    },
    {
     "name": "stdout",
     "output_type": "stream",
     "text": [
      "New best\n"
     ]
    },
    {
     "name": "stdout",
     "output_type": "stream",
     "text": [
      "epoch: 10, [batch: 1 / 6284], examples_per_second: 2.1553, train_label_loss: 0.0000, \n"
     ]
    },
    {
     "name": "stdout",
     "output_type": "stream",
     "text": [
      "epoch: 10, [batch: 629 / 6284], examples_per_second: 2644.0335, train_label_loss: 0.0000, \n"
     ]
    },
    {
     "name": "stdout",
     "output_type": "stream",
     "text": [
      "epoch: 10, [batch: 1257 / 6284], examples_per_second: 2900.2875, train_label_loss: 0.0000, \n"
     ]
    },
    {
     "name": "stdout",
     "output_type": "stream",
     "text": [
      "epoch: 10, [batch: 1885 / 6284], examples_per_second: 2950.5933, train_label_loss: 0.0000, \n"
     ]
    },
    {
     "name": "stdout",
     "output_type": "stream",
     "text": [
      "epoch: 10, [batch: 2514 / 6284], examples_per_second: 3024.5188, train_label_loss: 0.0001, \n"
     ]
    },
    {
     "name": "stdout",
     "output_type": "stream",
     "text": [
      "epoch: 10, [batch: 3142 / 6284], examples_per_second: 2604.5542, train_label_loss: 0.0000, \n"
     ]
    },
    {
     "name": "stdout",
     "output_type": "stream",
     "text": [
      "epoch: 10, [batch: 3770 / 6284], examples_per_second: 2689.9789, train_label_loss: 0.0000, \n"
     ]
    },
    {
     "name": "stdout",
     "output_type": "stream",
     "text": [
      "epoch: 10, [batch: 4399 / 6284], examples_per_second: 2664.6767, train_label_loss: 0.0000, \n"
     ]
    },
    {
     "name": "stdout",
     "output_type": "stream",
     "text": [
      "epoch: 10, [batch: 5027 / 6284], examples_per_second: 2969.4164, train_label_loss: 0.0000, \n"
     ]
    },
    {
     "name": "stdout",
     "output_type": "stream",
     "text": [
      "epoch: 10, [batch: 5655 / 6284], examples_per_second: 2463.6222, train_label_loss: 0.0000, \n"
     ]
    },
    {
     "name": "stdout",
     "output_type": "stream",
     "text": [
      "=============================================================\n",
      "epoch: 10, source_val_acc_label: 0.9995, target_val_acc_label: 0.1834, source_val_label_loss: 0.0113, target_val_label_loss: 5.0987, \n",
      "=============================================================\n"
     ]
    },
    {
     "name": "stdout",
     "output_type": "stream",
     "text": [
      "epoch: 11, [batch: 1 / 6335], examples_per_second: 2.1068, train_label_loss: 0.0000, \n"
     ]
    },
    {
     "name": "stdout",
     "output_type": "stream",
     "text": [
      "epoch: 11, [batch: 634 / 6335], examples_per_second: 2308.6565, train_label_loss: 0.0000, \n"
     ]
    },
    {
     "name": "stdout",
     "output_type": "stream",
     "text": [
      "epoch: 11, [batch: 1267 / 6335], examples_per_second: 2389.0420, train_label_loss: 0.0000, \n"
     ]
    },
    {
     "name": "stdout",
     "output_type": "stream",
     "text": [
      "epoch: 11, [batch: 1901 / 6335], examples_per_second: 2613.8998, train_label_loss: 0.0000, \n"
     ]
    },
    {
     "name": "stdout",
     "output_type": "stream",
     "text": [
      "epoch: 11, [batch: 2534 / 6335], examples_per_second: 2658.4783, train_label_loss: 0.0000, \n"
     ]
    },
    {
     "name": "stdout",
     "output_type": "stream",
     "text": [
      "epoch: 11, [batch: 3168 / 6335], examples_per_second: 2646.4136, train_label_loss: 0.0000, \n"
     ]
    },
    {
     "name": "stdout",
     "output_type": "stream",
     "text": [
      "epoch: 11, [batch: 3801 / 6335], examples_per_second: 2323.5455, train_label_loss: 0.0000, \n"
     ]
    },
    {
     "name": "stdout",
     "output_type": "stream",
     "text": [
      "epoch: 11, [batch: 4434 / 6335], examples_per_second: 2329.9013, train_label_loss: 0.0000, \n"
     ]
    },
    {
     "name": "stdout",
     "output_type": "stream",
     "text": [
      "epoch: 11, [batch: 5068 / 6335], examples_per_second: 2311.4733, train_label_loss: 0.0000, \n"
     ]
    },
    {
     "name": "stdout",
     "output_type": "stream",
     "text": [
      "epoch: 11, [batch: 5701 / 6335], examples_per_second: 2325.7423, train_label_loss: 0.0000, \n"
     ]
    },
    {
     "name": "stdout",
     "output_type": "stream",
     "text": [
      "=============================================================\n",
      "epoch: 11, source_val_acc_label: 0.9997, target_val_acc_label: 0.1605, source_val_label_loss: 0.0116, target_val_label_loss: 4.5079, \n",
      "=============================================================\n"
     ]
    },
    {
     "name": "stdout",
     "output_type": "stream",
     "text": [
      "epoch: 12, [batch: 1 / 6325], examples_per_second: 2.1119, train_label_loss: 0.0000, \n"
     ]
    },
    {
     "name": "stdout",
     "output_type": "stream",
     "text": [
      "epoch: 12, [batch: 633 / 6325], examples_per_second: 2317.7783, train_label_loss: 0.0000, \n"
     ]
    },
    {
     "name": "stdout",
     "output_type": "stream",
     "text": [
      "epoch: 12, [batch: 1265 / 6325], examples_per_second: 2322.2795, train_label_loss: 0.0000, \n"
     ]
    },
    {
     "name": "stdout",
     "output_type": "stream",
     "text": [
      "epoch: 12, [batch: 1898 / 6325], examples_per_second: 2438.5413, train_label_loss: 0.0000, \n"
     ]
    },
    {
     "name": "stdout",
     "output_type": "stream",
     "text": [
      "epoch: 12, [batch: 2530 / 6325], examples_per_second: 2634.4128, train_label_loss: 0.0000, \n"
     ]
    },
    {
     "name": "stdout",
     "output_type": "stream",
     "text": [
      "epoch: 12, [batch: 3163 / 6325], examples_per_second: 2545.0449, train_label_loss: 0.0000, \n"
     ]
    },
    {
     "name": "stdout",
     "output_type": "stream",
     "text": [
      "epoch: 12, [batch: 3795 / 6325], examples_per_second: 2788.8065, train_label_loss: 0.0000, \n"
     ]
    },
    {
     "name": "stdout",
     "output_type": "stream",
     "text": [
      "epoch: 12, [batch: 4427 / 6325], examples_per_second: 2540.6249, train_label_loss: 0.0000, \n"
     ]
    },
    {
     "name": "stdout",
     "output_type": "stream",
     "text": [
      "epoch: 12, [batch: 5060 / 6325], examples_per_second: 2593.4327, train_label_loss: 0.0000, \n"
     ]
    },
    {
     "name": "stdout",
     "output_type": "stream",
     "text": [
      "epoch: 12, [batch: 5692 / 6325], examples_per_second: 2622.6907, train_label_loss: 0.0000, \n"
     ]
    },
    {
     "name": "stdout",
     "output_type": "stream",
     "text": [
      "=============================================================\n",
      "epoch: 12, source_val_acc_label: 0.9995, target_val_acc_label: 0.1730, source_val_label_loss: 0.0161, target_val_label_loss: 5.1504, \n",
      "=============================================================\n"
     ]
    },
    {
     "name": "stdout",
     "output_type": "stream",
     "text": [
      "epoch: 13, [batch: 1 / 6326], examples_per_second: 2.4195, train_label_loss: 0.0000, \n"
     ]
    },
    {
     "name": "stdout",
     "output_type": "stream",
     "text": [
      "epoch: 13, [batch: 633 / 6326], examples_per_second: 2536.4576, train_label_loss: 0.0000, \n"
     ]
    },
    {
     "name": "stdout",
     "output_type": "stream",
     "text": [
      "epoch: 13, [batch: 1266 / 6326], examples_per_second: 2540.6594, train_label_loss: 0.0000, \n"
     ]
    },
    {
     "name": "stdout",
     "output_type": "stream",
     "text": [
      "epoch: 13, [batch: 1898 / 6326], examples_per_second: 2545.2082, train_label_loss: 0.0000, \n"
     ]
    },
    {
     "name": "stdout",
     "output_type": "stream",
     "text": [
      "epoch: 13, [batch: 2531 / 6326], examples_per_second: 2758.7518, train_label_loss: 0.0000, \n"
     ]
    },
    {
     "name": "stdout",
     "output_type": "stream",
     "text": [
      "epoch: 13, [batch: 3163 / 6326], examples_per_second: 2897.1491, train_label_loss: 0.0000, \n"
     ]
    },
    {
     "name": "stdout",
     "output_type": "stream",
     "text": [
      "epoch: 13, [batch: 3796 / 6326], examples_per_second: 2960.6236, train_label_loss: 0.0000, \n"
     ]
    },
    {
     "name": "stdout",
     "output_type": "stream",
     "text": [
      "epoch: 13, [batch: 4428 / 6326], examples_per_second: 2759.3011, train_label_loss: 0.0000, \n"
     ]
    },
    {
     "name": "stdout",
     "output_type": "stream",
     "text": [
      "epoch: 13, [batch: 5061 / 6326], examples_per_second: 2569.3922, train_label_loss: 0.0000, \n"
     ]
    },
    {
     "name": "stdout",
     "output_type": "stream",
     "text": [
      "epoch: 13, [batch: 5693 / 6326], examples_per_second: 2574.5742, train_label_loss: 0.0000, \n"
     ]
    },
    {
     "name": "stdout",
     "output_type": "stream",
     "text": [
      "=============================================================\n",
      "epoch: 13, source_val_acc_label: 0.9995, target_val_acc_label: 0.1697, source_val_label_loss: 0.0135, target_val_label_loss: 5.8043, \n",
      "=============================================================\n"
     ]
    },
    {
     "name": "stdout",
     "output_type": "stream",
     "text": [
      "Patience (3) exhausted\n"
     ]
    }
   ],
   "source": [
    "###################################\n",
    "# train\n",
    "###################################\n",
    "jig = PTN_Train_Eval_Test_Jig(model, p.BEST_MODEL_PATH, p.device)\n",
    "\n",
    "jig.train(\n",
    "    train_iterable=datasets.source.processed.train,\n",
    "    source_val_iterable=datasets.source.processed.val,\n",
    "    target_val_iterable=datasets.target.processed.val,\n",
    "    num_epochs=p.n_epoch,\n",
    "    num_logs_per_epoch=p.NUM_LOGS_PER_EPOCH,\n",
    "    patience=p.patience,\n",
    "    optimizer=optimizer,\n",
    "    criteria_for_best=p.criteria_for_best,\n",
    ")"
   ]
  },
  {
   "cell_type": "code",
   "execution_count": 23,
   "id": "31e8fabf",
   "metadata": {
    "execution": {
     "iopub.execute_input": "2022-03-22T02:26:06.816173Z",
     "iopub.status.busy": "2022-03-22T02:26:06.815783Z",
     "iopub.status.idle": "2022-03-22T02:26:06.847269Z",
     "shell.execute_reply": "2022-03-22T02:26:06.846555Z"
    },
    "papermill": {
     "duration": 0.094468,
     "end_time": "2022-03-22T02:26:06.847430",
     "exception": false,
     "start_time": "2022-03-22T02:26:06.752962",
     "status": "completed"
    },
    "tags": []
   },
   "outputs": [],
   "source": [
    "total_experiment_time_secs = time.time() - start_time_secs"
   ]
  },
  {
   "cell_type": "code",
   "execution_count": 24,
   "id": "87b9595b",
   "metadata": {
    "execution": {
     "iopub.execute_input": "2022-03-22T02:26:06.985893Z",
     "iopub.status.busy": "2022-03-22T02:26:06.985294Z",
     "iopub.status.idle": "2022-03-22T02:30:09.319066Z",
     "shell.execute_reply": "2022-03-22T02:30:09.318575Z"
    },
    "papermill": {
     "duration": 242.403164,
     "end_time": "2022-03-22T02:30:09.319203",
     "exception": false,
     "start_time": "2022-03-22T02:26:06.916039",
     "status": "completed"
    },
    "tags": []
   },
   "outputs": [],
   "source": [
    "###################################\n",
    "# Evaluate the model\n",
    "###################################\n",
    "source_test_label_accuracy, source_test_label_loss = jig.test(datasets.source.processed.test)\n",
    "target_test_label_accuracy, target_test_label_loss = jig.test(datasets.target.processed.test)\n",
    "\n",
    "source_val_label_accuracy, source_val_label_loss = jig.test(datasets.source.processed.val)\n",
    "target_val_label_accuracy, target_val_label_loss = jig.test(datasets.target.processed.val)\n",
    "\n",
    "history = jig.get_history()\n",
    "\n",
    "total_epochs_trained = len(history[\"epoch_indices\"])\n",
    "\n",
    "val_dl = Iterable_Aggregator((datasets.source.original.val,datasets.target.original.val))\n",
    "\n",
    "confusion = ptn_confusion_by_domain_over_dataloader(model, p.device, val_dl)\n",
    "per_domain_accuracy = per_domain_accuracy_from_confusion(confusion)\n",
    "\n",
    "# Add a key to per_domain_accuracy for if it was a source domain\n",
    "for domain, accuracy in per_domain_accuracy.items():\n",
    "    per_domain_accuracy[domain] = {\n",
    "        \"accuracy\": accuracy,\n",
    "        \"source?\": domain in p.domains_source\n",
    "    }\n",
    "\n",
    "# Do an independent accuracy assesment JUST TO BE SURE!\n",
    "# _source_test_label_accuracy = independent_accuracy_assesment(model, datasets.source.processed.test, p.device)\n",
    "# _target_test_label_accuracy = independent_accuracy_assesment(model, datasets.target.processed.test, p.device)\n",
    "# _source_val_label_accuracy = independent_accuracy_assesment(model, datasets.source.processed.val, p.device)\n",
    "# _target_val_label_accuracy = independent_accuracy_assesment(model, datasets.target.processed.val, p.device)\n",
    "\n",
    "# assert(_source_test_label_accuracy == source_test_label_accuracy)\n",
    "# assert(_target_test_label_accuracy == target_test_label_accuracy)\n",
    "# assert(_source_val_label_accuracy == source_val_label_accuracy)\n",
    "# assert(_target_val_label_accuracy == target_val_label_accuracy)\n",
    "\n",
    "experiment = {\n",
    "    \"experiment_name\": p.experiment_name,\n",
    "    \"parameters\": dict(p),\n",
    "    \"results\": {\n",
    "        \"source_test_label_accuracy\": source_test_label_accuracy,\n",
    "        \"source_test_label_loss\": source_test_label_loss,\n",
    "        \"target_test_label_accuracy\": target_test_label_accuracy,\n",
    "        \"target_test_label_loss\": target_test_label_loss,\n",
    "        \"source_val_label_accuracy\": source_val_label_accuracy,\n",
    "        \"source_val_label_loss\": source_val_label_loss,\n",
    "        \"target_val_label_accuracy\": target_val_label_accuracy,\n",
    "        \"target_val_label_loss\": target_val_label_loss,\n",
    "        \"total_epochs_trained\": total_epochs_trained,\n",
    "        \"total_experiment_time_secs\": total_experiment_time_secs,\n",
    "        \"confusion\": confusion,\n",
    "        \"per_domain_accuracy\": per_domain_accuracy,\n",
    "    },\n",
    "    \"history\": history,\n",
    "    \"dataset_metrics\": get_dataset_metrics(datasets, \"ptn\"),\n",
    "}"
   ]
  },
  {
   "cell_type": "code",
   "execution_count": 25,
   "id": "54a21829",
   "metadata": {
    "execution": {
     "iopub.execute_input": "2022-03-22T02:30:09.464820Z",
     "iopub.status.busy": "2022-03-22T02:30:09.464438Z",
     "iopub.status.idle": "2022-03-22T02:30:09.698296Z",
     "shell.execute_reply": "2022-03-22T02:30:09.698990Z"
    },
    "papermill": {
     "duration": 0.300456,
     "end_time": "2022-03-22T02:30:09.699205",
     "exception": false,
     "start_time": "2022-03-22T02:30:09.398749",
     "status": "completed"
    },
    "tags": []
   },
   "outputs": [
    {
     "data": {
      "image/png": "[encoded data removed]",
      "text/plain": [
       "<Figure size 1080x504 with 1 Axes>"
      ]
     },
     "metadata": {
      "needs_background": "light"
     },
     "output_type": "display_data"
    }
   ],
   "source": [
    "ax = get_loss_curve(experiment)\n",
    "plt.show()"
   ]
  },
  {
   "cell_type": "code",
   "execution_count": 26,
   "id": "fd8a0f60",
   "metadata": {
    "execution": {
     "iopub.execute_input": "2022-03-22T02:30:09.828601Z",
     "iopub.status.busy": "2022-03-22T02:30:09.828114Z",
     "iopub.status.idle": "2022-03-22T02:30:10.179162Z",
     "shell.execute_reply": "2022-03-22T02:30:10.179673Z"
    },
    "papermill": {
     "duration": 0.416048,
     "end_time": "2022-03-22T02:30:10.179862",
     "exception": false,
     "start_time": "2022-03-22T02:30:09.763814",
     "status": "completed"
    },
    "tags": []
   },
   "outputs": [
    {
     "data": {
      "text/plain": [
       "<AxesSubplot:title={'center':'Results'}>"
      ]
     },
     "execution_count": 26,
     "metadata": {},
     "output_type": "execute_result"
    },
    {
     "data": {
      "image/png": "[encoded data removed]",
      "text/plain": [
       "<Figure size 1080x504 with 1 Axes>"
      ]
     },
     "metadata": {
      "needs_background": "light"
     },
     "output_type": "display_data"
    }
   ],
   "source": [
    "get_results_table(experiment)"
   ]
  },
  {
   "cell_type": "code",
   "execution_count": 27,
   "id": "cf8dc689",
   "metadata": {
    "execution": {
     "iopub.execute_input": "2022-03-22T02:30:10.320705Z",
     "iopub.status.busy": "2022-03-22T02:30:10.320324Z",
     "iopub.status.idle": "2022-03-22T02:30:10.596158Z",
     "shell.execute_reply": "2022-03-22T02:30:10.597176Z"
    },
    "papermill": {
     "duration": 0.347147,
     "end_time": "2022-03-22T02:30:10.597500",
     "exception": false,
     "start_time": "2022-03-22T02:30:10.250353",
     "status": "completed"
    },
    "tags": []
   },
   "outputs": [
    {
     "data": {
      "text/plain": [
       "<AxesSubplot:title={'center':'Per Domain Validation Accuracy'}, xlabel='domain'>"
      ]
     },
     "execution_count": 27,
     "metadata": {},
     "output_type": "execute_result"
    },
    {
     "data": {
      "image/png": "[encoded data removed]",
      "text/plain": [
       "<Figure size 1080x504 with 1 Axes>"
      ]
     },
     "metadata": {
      "needs_background": "light"
     },
     "output_type": "display_data"
    }
   ],
   "source": [
    "get_domain_accuracies(experiment)"
   ]
  },
  {
   "cell_type": "code",
   "execution_count": 28,
   "id": "a74ae082",
   "metadata": {
    "execution": {
     "iopub.execute_input": "2022-03-22T02:30:10.736057Z",
     "iopub.status.busy": "2022-03-22T02:30:10.735672Z",
     "iopub.status.idle": "2022-03-22T02:30:10.760298Z",
     "shell.execute_reply": "2022-03-22T02:30:10.759521Z"
    },
    "papermill": {
     "duration": 0.094203,
     "end_time": "2022-03-22T02:30:10.760464",
     "exception": false,
     "start_time": "2022-03-22T02:30:10.666261",
     "status": "completed"
    },
    "tags": []
   },
   "outputs": [
    {
     "name": "stdout",
     "output_type": "stream",
     "text": [
      "Source Test Label Accuracy: 0.9990179573512907 Target Test Label Accuracy: 0.17962239583333334\n",
      "Source Val Label Accuracy: 0.9992151826484018 Target Val Label Accuracy: 0.18430989583333332\n"
     ]
    }
   ],
   "source": [
    "print(\"Source Test Label Accuracy:\", experiment[\"results\"][\"source_test_label_accuracy\"], \"Target Test Label Accuracy:\", experiment[\"results\"][\"target_test_label_accuracy\"])\n",
    "print(\"Source Val Label Accuracy:\", experiment[\"results\"][\"source_val_label_accuracy\"], \"Target Val Label Accuracy:\", experiment[\"results\"][\"target_val_label_accuracy\"])"
   ]
  },
  {
   "cell_type": "code",
   "execution_count": 29,
   "id": "dacca602",
   "metadata": {
    "execution": {
     "iopub.execute_input": "2022-03-22T02:30:10.900900Z",
     "iopub.status.busy": "2022-03-22T02:30:10.900524Z",
     "iopub.status.idle": "2022-03-22T02:30:10.924528Z",
     "shell.execute_reply": "2022-03-22T02:30:10.925210Z"
    },
    "papermill": {
     "duration": 0.093182,
     "end_time": "2022-03-22T02:30:10.925423",
     "exception": false,
     "start_time": "2022-03-22T02:30:10.832241",
     "status": "completed"
    },
    "tags": [
     "experiment_json"
    ]
   },
   "outputs": [
    {
     "data": {
      "text/plain": [
       "'{\"experiment_name\": \"tl_1v2:cores-oracle.run1.limited\", \"parameters\": {\"experiment_name\": \"tl_1v2:cores-oracle.run1.limited\", \"device\": \"cuda\", \"lr\": 0.0001, \"n_shot\": 3, \"n_query\": 2, \"train_k_factor\": 3, \"val_k_factor\": 2, \"test_k_factor\": 2, \"torch_default_dtype\": \"torch.float32\", \"n_epoch\": 50, \"patience\": 3, \"criteria_for_best\": \"target_accuracy\", \"x_net\": [{\"class\": \"nnReshape\", \"kargs\": {\"shape\": [-1, 1, 2, 256]}}, {\"class\": \"Conv2d\", \"kargs\": {\"in_channels\": 1, \"out_channels\": 256, \"kernel_size\": [1, 7], \"bias\": false, \"padding\": [0, 3]}}, {\"class\": \"ReLU\", \"kargs\": {\"inplace\": true}}, {\"class\": \"BatchNorm2d\", \"kargs\": {\"num_features\": 256}}, {\"class\": \"Conv2d\", \"kargs\": {\"in_channels\": 256, \"out_channels\": 80, \"kernel_size\": [2, 7], \"bias\": true, \"padding\": [0, 3]}}, {\"class\": \"ReLU\", \"kargs\": {\"inplace\": true}}, {\"class\": \"BatchNorm2d\", \"kargs\": {\"num_features\": 80}}, {\"class\": \"Flatten\", \"kargs\": {}}, {\"class\": \"Linear\", \"kargs\": {\"in_features\": 20480, \"out_features\": 256}}, {\"class\": \"ReLU\", \"kargs\": {\"inplace\": true}}, {\"class\": \"BatchNorm1d\", \"kargs\": {\"num_features\": 256}}, {\"class\": \"Linear\", \"kargs\": {\"in_features\": 256, \"out_features\": 256}}], \"NUM_LOGS_PER_EPOCH\": 10, \"BEST_MODEL_PATH\": \"./best_model.pth\", \"n_way\": 16, \"datasets\": [{\"labels\": [\"1-10.\", \"1-11.\", \"1-15.\", \"1-16.\", \"1-17.\", \"1-18.\", \"1-19.\", \"10-4.\", \"10-7.\", \"11-1.\", \"11-14.\", \"11-17.\", \"11-20.\", \"11-7.\", \"13-20.\", \"13-8.\", \"14-10.\", \"14-11.\", \"14-14.\", \"14-7.\", \"15-1.\", \"15-20.\", \"16-1.\", \"16-16.\", \"17-10.\", \"17-11.\", \"17-2.\", \"19-1.\", \"19-16.\", \"19-19.\", \"19-20.\", \"19-3.\", \"2-10.\", \"2-11.\", \"2-17.\", \"2-18.\", \"2-20.\", \"2-3.\", \"2-4.\", \"2-5.\", \"2-6.\", \"2-7.\", \"2-8.\", \"3-13.\", \"3-18.\", \"3-3.\", \"4-1.\", \"4-10.\", \"4-11.\", \"4-19.\", \"5-5.\", \"6-15.\", \"7-10.\", \"7-14.\", \"8-18.\", \"8-20.\", \"8-3.\", \"8-8.\"], \"domains\": [1, 2, 3, 4, 5], \"num_examples_per_domain_per_label\": -1, \"pickle_path\": \"/root/csc500-main/datasets/cores.stratified_ds.2022A.pkl\", \"source_or_target_dataset\": \"source\", \"x_transforms\": [\"unit_power\"], \"episode_transforms\": [], \"domain_prefix\": \"CORES_\"}, {\"labels\": [\"3123D52\", \"3123D65\", \"3123D79\", \"3123D80\", \"3123D54\", \"3123D70\", \"3123D7B\", \"3123D89\", \"3123D58\", \"3123D76\", \"3123D7D\", \"3123EFE\", \"3123D64\", \"3123D78\", \"3123D7E\", \"3124E4A\"], \"domains\": [32, 38, 8, 44, 14, 50, 20, 26], \"num_examples_per_domain_per_label\": 2000, \"pickle_path\": \"/root/csc500-main/datasets/oracle.Run1_10kExamples_stratified_ds.2022A.pkl\", \"source_or_target_dataset\": \"target\", \"x_transforms\": [\"unit_power\"], \"episode_transforms\": [], \"domain_prefix\": \"ORACLE.run1_\"}], \"dataset_seed\": 1337, \"seed\": 1337, \"x_shape\": [2, 256], \"domains_source\": [\"CORES_1\", \"CORES_2\", \"CORES_3\", \"CORES_4\", \"CORES_5\"], \"domains_target\": [\"ORACLE.run1_32\", \"ORACLE.run1_38\", \"ORACLE.run1_8\", \"ORACLE.run1_44\", \"ORACLE.run1_14\", \"ORACLE.run1_50\", \"ORACLE.run1_20\", \"ORACLE.run1_26\"]}, \"results\": {\"source_test_label_accuracy\": 0.9990179573512907, \"source_test_label_loss\": 0.013518141582608223, \"target_test_label_accuracy\": 0.17962239583333334, \"target_test_label_loss\": 5.151483058929443, \"source_val_label_accuracy\": 0.9992151826484018, \"source_val_label_loss\": 0.013533681631088257, \"target_val_label_accuracy\": 0.18430989583333332, \"target_val_label_loss\": 5.081296920776367, \"total_epochs_trained\": 13, \"total_experiment_time_secs\": 3363.927970647812, \"confusion\": {\"CORES_3\": {\"43\": {\"43\": 128}, \"9\": {\"9\": 150}, \"6\": {\"6\": 88}, \"3\": {\"3\": 143, \"26\": 1}, \"16\": {\"16\": 134}, \"51\": {\"51\": 128}, \"31\": {\"31\": 28}, \"46\": {\"46\": 134}, \"19\": {\"19\": 124}, \"8\": {\"8\": 152}, \"18\": {\"18\": 84}, \"37\": {\"37\": 28}, \"24\": {\"24\": 104}, \"10\": {\"10\": 64}, \"44\": {\"44\": 88}, \"14\": {\"14\": 39, \"0\": 1}, \"38\": {\"38\": 28}, \"53\": {\"53\": 140}, \"20\": {\"20\": 132}, \"32\": {\"32\": 28}, \"36\": {\"36\": 100}, \"33\": {\"33\": 28}, \"56\": {\"56\": 136}, \"23\": {\"23\": 130}, \"54\": {\"54\": 100}, \"21\": {\"21\": 126}, \"28\": {\"28\": 28}, \"26\": {\"26\": 24}, \"48\": {\"48\": 116}, \"52\": {\"52\": 118}, \"39\": {\"39\": 16}, \"22\": {\"22\": 140}, \"13\": {\"13\": 128}, \"2\": {\"2\": 32}, \"34\": {\"34\": 32}, \"27\": {\"27\": 132}, \"45\": {\"45\": 60}, \"35\": {\"35\": 28}, \"29\": {\"29\": 128}, \"25\": {\"25\": 144}, \"0\": {\"0\": 124}, \"41\": {\"41\": 28}, \"11\": {\"11\": 142}, \"5\": {\"5\": 108}, \"1\": {\"1\": 100}, \"57\": {\"57\": 114, \"0\": 2}, \"17\": {\"17\": 106, \"10\": 1, \"24\": 1}, \"7\": {\"7\": 36}, \"12\": {\"12\": 92}, \"47\": {\"47\": 92}, \"40\": {\"40\": 136}, \"15\": {\"15\": 142}, \"42\": {\"42\": 28}, \"55\": {\"55\": 150}, \"49\": {\"49\": 20}, \"30\": {\"30\": 119, \"57\": 1}, \"50\": {\"50\": 134}, \"4\": {\"4\": 136}}, \"CORES_4\": {\"35\": {\"35\": 40}, \"25\": {\"25\": 134}, \"24\": {\"24\": 56}, \"48\": {\"48\": 138}, \"51\": {\"51\": 144}, \"13\": {\"13\": 120}, \"14\": {\"14\": 16}, \"32\": {\"32\": 24}, \"30\": {\"30\": 44}, \"34\": {\"34\": 24}, \"9\": {\"9\": 136}, \"1\": {\"1\": 40}, \"0\": {\"0\": 80}, \"38\": {\"38\": 40}, \"22\": {\"22\": 128}, \"40\": {\"40\": 120}, \"6\": {\"6\": 110, \"16\": 1, \"11\": 1}, \"16\": {\"16\": 96}, \"11\": {\"11\": 104}, \"20\": {\"20\": 122}, \"17\": {\"17\": 80}, \"26\": {\"26\": 24}, \"54\": {\"54\": 108}, \"55\": {\"55\": 154}, \"50\": {\"50\": 129, \"57\": 1, \"3\": 2}, \"19\": {\"19\": 142}, \"44\": {\"44\": 122}, \"47\": {\"47\": 120}, \"33\": {\"33\": 36}, \"5\": {\"5\": 108}, \"18\": {\"18\": 108}, \"21\": {\"21\": 124}, \"41\": {\"41\": 36}, \"23\": {\"23\": 128}, \"39\": {\"39\": 20}, \"37\": {\"37\": 24}, \"8\": {\"8\": 144}, \"49\": {\"49\": 20}, \"53\": {\"53\": 140}, \"31\": {\"31\": 28}, \"28\": {\"28\": 32}, \"3\": {\"3\": 124}, \"27\": {\"27\": 138}, \"46\": {\"46\": 128}, \"12\": {\"12\": 92}, \"7\": {\"7\": 24}, \"4\": {\"4\": 132}, \"42\": {\"42\": 32}, \"43\": {\"43\": 130}, \"29\": {\"29\": 120}, \"57\": {\"57\": 100}, \"52\": {\"52\": 104}, \"45\": {\"45\": 96}, \"36\": {\"36\": 92}, \"10\": {\"10\": 126}, \"15\": {\"15\": 134}, \"56\": {\"56\": 124}, \"2\": {\"2\": 36}}, \"CORES_5\": {\"47\": {\"47\": 100}, \"53\": {\"53\": 150}, \"29\": {\"29\": 126}, \"52\": {\"52\": 130}, \"55\": {\"55\": 144}, \"17\": {\"17\": 116}, \"42\": {\"42\": 40}, \"33\": {\"33\": 32}, \"11\": {\"11\": 148}, \"19\": {\"19\": 118}, \"1\": {\"1\": 144}, \"44\": {\"44\": 142}, \"49\": {\"49\": 36}, \"4\": {\"4\": 100}, \"6\": {\"6\": 116}, \"39\": {\"39\": 20}, \"50\": {\"50\": 148}, \"56\": {\"56\": 130}, \"25\": {\"25\": 144}, \"28\": {\"28\": 32}, \"35\": {\"35\": 36}, \"24\": {\"24\": 80}, \"21\": {\"21\": 132}, \"45\": {\"45\": 123, \"55\": 1}, \"16\": {\"16\": 144}, \"37\": {\"37\": 24}, \"57\": {\"57\": 132}, \"34\": {\"34\": 36}, \"38\": {\"38\": 32}, \"48\": {\"48\": 130}, \"26\": {\"26\": 24}, \"9\": {\"9\": 152}, \"18\": {\"18\": 64}, \"3\": {\"3\": 99, \"46\": 1}, \"23\": {\"23\": 124}, \"15\": {\"15\": 154}, \"10\": {\"10\": 67, \"13\": 1}, \"46\": {\"46\": 148}, \"22\": {\"22\": 28}, \"54\": {\"54\": 112}, \"27\": {\"27\": 160}, \"41\": {\"41\": 28}, \"31\": {\"31\": 36}, \"0\": {\"0\": 124}, \"7\": {\"7\": 32}, \"2\": {\"2\": 28}, \"14\": {\"14\": 43, \"57\": 1}, \"40\": {\"40\": 124}, \"5\": {\"5\": 128}, \"12\": {\"12\": 96}, \"43\": {\"43\": 142}, \"13\": {\"13\": 148}, \"36\": {\"36\": 92}, \"8\": {\"8\": 150}, \"32\": {\"32\": 32}, \"30\": {\"30\": 128}, \"51\": {\"51\": 138}, \"20\": {\"20\": 138}}, \"CORES_1\": {\"46\": {\"46\": 140}, \"16\": {\"16\": 134}, \"26\": {\"26\": 24}, \"10\": {\"10\": 96}, \"9\": {\"9\": 156}, \"28\": {\"28\": 28}, \"51\": {\"51\": 156}, \"1\": {\"1\": 100}, \"55\": {\"55\": 148}, \"27\": {\"27\": 124}, \"22\": {\"22\": 123, \"24\": 1}, \"52\": {\"52\": 126}, \"3\": {\"3\": 140}, \"33\": {\"33\": 32}, \"47\": {\"47\": 120}, \"42\": {\"42\": 40}, \"12\": {\"12\": 116}, \"23\": {\"23\": 132}, \"49\": {\"49\": 32}, \"7\": {\"7\": 28}, \"4\": {\"4\": 132}, \"50\": {\"50\": 134}, \"19\": {\"19\": 154}, \"11\": {\"11\": 140}, \"31\": {\"31\": 28}, \"41\": {\"41\": 24}, \"56\": {\"56\": 138}, \"0\": {\"0\": 148}, \"57\": {\"57\": 128}, \"53\": {\"53\": 140}, \"43\": {\"43\": 144}, \"37\": {\"37\": 32}, \"2\": {\"2\": 36}, \"6\": {\"6\": 96}, \"13\": {\"13\": 150}, \"18\": {\"18\": 72}, \"36\": {\"36\": 64}, \"29\": {\"29\": 140}, \"39\": {\"39\": 28}, \"17\": {\"17\": 64}, \"21\": {\"21\": 124}, \"25\": {\"25\": 132}, \"45\": {\"45\": 142}, \"38\": {\"38\": 24}, \"30\": {\"30\": 120}, \"24\": {\"24\": 108}, \"20\": {\"20\": 140}, \"8\": {\"8\": 140}, \"35\": {\"35\": 36}, \"54\": {\"54\": 104}, \"5\": {\"5\": 148}, \"48\": {\"48\": 144}, \"15\": {\"15\": 142}, \"34\": {\"34\": 24}, \"14\": {\"14\": 23, \"54\": 1}, \"32\": {\"32\": 32}, \"40\": {\"40\": 148}, \"44\": {\"44\": 136}}, \"CORES_2\": {\"36\": {\"36\": 116}, \"5\": {\"5\": 120}, \"45\": {\"45\": 128}, \"49\": {\"49\": 24}, \"50\": {\"50\": 136}, \"4\": {\"4\": 138}, \"43\": {\"43\": 148}, \"41\": {\"41\": 20}, \"37\": {\"37\": 36}, \"12\": {\"12\": 92}, \"33\": {\"33\": 28}, \"7\": {\"7\": 36}, \"56\": {\"56\": 140}, \"14\": {\"14\": 24}, \"52\": {\"52\": 124}, \"44\": {\"44\": 96}, \"48\": {\"48\": 144}, \"20\": {\"20\": 128}, \"55\": {\"55\": 144}, \"32\": {\"32\": 28}, \"40\": {\"40\": 136}, \"54\": {\"54\": 108}, \"17\": {\"17\": 104}, \"38\": {\"38\": 20}, \"24\": {\"24\": 96}, \"1\": {\"1\": 112}, \"6\": {\"6\": 124}, \"34\": {\"34\": 28}, \"11\": {\"11\": 136}, \"9\": {\"9\": 150}, \"8\": {\"8\": 152}, \"22\": {\"22\": 136}, \"26\": {\"26\": 24}, \"23\": {\"23\": 146}, \"10\": {\"10\": 112}, \"18\": {\"18\": 48}, \"13\": {\"13\": 116}, \"30\": {\"30\": 128}, \"42\": {\"42\": 36}, \"31\": {\"31\": 28}, \"46\": {\"46\": 128}, \"57\": {\"57\": 141, \"0\": 1}, \"47\": {\"47\": 138}, \"35\": {\"35\": 32}, \"15\": {\"15\": 132}, \"25\": {\"25\": 136}, \"19\": {\"19\": 136}, \"51\": {\"51\": 128}, \"53\": {\"53\": 134}, \"21\": {\"21\": 120}, \"39\": {\"39\": 28}, \"2\": {\"2\": 32}, \"16\": {\"16\": 150}, \"0\": {\"0\": 45, \"57\": 3}, \"3\": {\"3\": 92}, \"27\": {\"27\": 142}, \"28\": {\"28\": 28}, \"29\": {\"29\": 128}}, \"ORACLE.run1_14\": {\"15\": {\"14\": 9, \"15\": 88, \"1\": 14, \"4\": 9, \"7\": 50, \"2\": 7, \"13\": 18, \"6\": 17, \"5\": 22, \"10\": 3, \"0\": 1, \"8\": 1, \"3\": 1}, \"3\": {\"5\": 14, \"14\": 29, \"2\": 21, \"8\": 16, \"9\": 7, \"0\": 15, \"10\": 30, \"1\": 12, \"3\": 22, \"6\": 11, \"7\": 11, \"13\": 21, \"4\": 18, \"11\": 6, \"15\": 6, \"12\": 1}, \"6\": {\"1\": 18, \"14\": 28, \"13\": 30, \"2\": 26, \"4\": 17, \"10\": 11, \"6\": 37, \"5\": 21, \"0\": 4, \"11\": 3, \"7\": 12, \"15\": 15, \"3\": 18}, \"1\": {\"13\": 9, \"4\": 27, \"2\": 15, \"5\": 33, \"7\": 25, \"8\": 13, \"0\": 16, \"15\": 17, \"1\": 34, \"3\": 13, \"10\": 11, \"14\": 11, \"6\": 12, \"11\": 4}, \"8\": {\"12\": 13, \"8\": 67, \"1\": 15, \"5\": 16, \"0\": 21, \"6\": 1, \"9\": 21, \"11\": 23, \"4\": 17, \"3\": 13, \"7\": 5, \"10\": 16, \"13\": 5, \"15\": 2, \"14\": 5}, \"10\": {\"5\": 14, \"3\": 21, \"6\": 12, \"11\": 27, \"14\": 23, \"1\": 9, \"0\": 27, \"10\": 33, \"4\": 18, \"9\": 11, \"2\": 10, \"13\": 9, \"15\": 2, \"8\": 21, \"12\": 1, \"7\": 2}, \"9\": {\"0\": 24, \"12\": 57, \"9\": 60, \"3\": 3, \"8\": 38, \"11\": 32, \"4\": 2, \"10\": 13, \"1\": 4, \"5\": 2, \"14\": 2, \"2\": 1, \"13\": 2}, \"13\": {\"14\": 27, \"7\": 12, \"15\": 11, \"2\": 31, \"1\": 18, \"13\": 29, \"6\": 35, \"5\": 12, \"0\": 7, \"4\": 20, \"3\": 19, \"10\": 10, \"11\": 6, \"8\": 2, \"9\": 1}, \"12\": {\"9\": 74, \"12\": 112, \"8\": 13, \"0\": 10, \"11\": 20, \"3\": 2, \"10\": 6, \"5\": 1, \"1\": 1, \"2\": 1}, \"5\": {\"10\": 10, \"6\": 20, \"13\": 13, \"1\": 22, \"4\": 23, \"2\": 23, \"14\": 19, \"15\": 19, \"5\": 22, \"11\": 11, \"7\": 17, \"3\": 19, \"9\": 6, \"0\": 9, \"8\": 7}, \"0\": {\"3\": 23, \"8\": 23, \"0\": 29, \"4\": 12, \"10\": 37, \"11\": 36, \"14\": 16, \"6\": 7, \"2\": 7, \"5\": 6, \"9\": 15, \"13\": 9, \"1\": 11, \"12\": 8, \"15\": 1}, \"2\": {\"7\": 17, \"2\": 30, \"13\": 34, \"1\": 22, \"15\": 19, \"3\": 10, \"14\": 18, \"0\": 7, \"4\": 18, \"5\": 18, \"6\": 24, \"8\": 6, \"10\": 12, \"11\": 4, \"9\": 1}, \"11\": {\"8\": 18, \"0\": 42, \"11\": 45, \"12\": 19, \"10\": 26, \"9\": 36, \"5\": 8, \"6\": 6, \"3\": 9, \"1\": 4, \"14\": 14, \"2\": 5, \"13\": 2, \"4\": 5, \"7\": 1}, \"14\": {\"14\": 36, \"4\": 23, \"2\": 22, \"1\": 18, \"10\": 10, \"3\": 13, \"13\": 21, \"7\": 9, \"9\": 1, \"5\": 15, \"15\": 11, \"6\": 44, \"0\": 7, \"11\": 7, \"8\": 3}, \"7\": {\"15\": 46, \"7\": 55, \"13\": 12, \"4\": 17, \"3\": 6, \"2\": 21, \"0\": 2, \"6\": 17, \"1\": 26, \"10\": 2, \"5\": 24, \"14\": 8, \"8\": 4}, \"4\": {\"14\": 17, \"7\": 21, \"2\": 15, \"3\": 18, \"0\": 18, \"5\": 20, \"8\": 12, \"4\": 25, \"6\": 12, \"15\": 13, \"10\": 18, \"13\": 25, \"1\": 19, \"11\": 6, \"9\": 1}}, \"ORACLE.run1_20\": {\"3\": {\"15\": 14, \"4\": 15, \"9\": 12, \"13\": 19, \"1\": 24, \"5\": 23, \"2\": 16, \"3\": 16, \"12\": 15, \"14\": 15, \"6\": 9, \"8\": 20, \"11\": 9, \"0\": 11, \"10\": 10, \"7\": 12}, \"15\": {\"13\": 20, \"4\": 13, \"7\": 12, \"1\": 25, \"5\": 21, \"9\": 19, \"6\": 7, \"15\": 29, \"2\": 17, \"12\": 17, \"3\": 11, \"0\": 23, \"14\": 4, \"8\": 6, \"10\": 8, \"11\": 8}, \"8\": {\"12\": 10, \"7\": 18, \"4\": 22, \"9\": 20, \"2\": 8, \"5\": 14, \"14\": 17, \"11\": 12, \"15\": 8, \"1\": 7, \"8\": 23, \"0\": 12, \"6\": 26, \"10\": 22, \"13\": 8, \"3\": 13}, \"4\": {\"4\": 21, \"8\": 26, \"0\": 15, \"1\": 11, \"6\": 19, \"10\": 19, \"9\": 13, \"7\": 13, \"12\": 9, \"5\": 17, \"3\": 20, \"15\": 10, \"14\": 19, \"2\": 19, \"13\": 7, \"11\": 2}, \"14\": {\"10\": 27, \"0\": 6, \"6\": 40, \"15\": 4, \"13\": 3, \"9\": 9, \"14\": 36, \"4\": 21, \"7\": 16, \"5\": 9, \"12\": 7, \"8\": 21, \"11\": 15, \"3\": 9, \"1\": 7, \"2\": 10}, \"0\": {\"3\": 12, \"13\": 18, \"15\": 19, \"4\": 19, \"1\": 18, \"0\": 24, \"5\": 23, \"11\": 10, \"9\": 15, \"2\": 12, \"7\": 13, \"10\": 4, \"12\": 23, \"6\": 9, \"8\": 16, \"14\": 5}, \"7\": {\"6\": 20, \"9\": 18, \"8\": 16, \"0\": 13, \"14\": 14, \"10\": 21, \"7\": 20, \"2\": 21, \"11\": 19, \"4\": 17, \"12\": 12, \"1\": 11, \"5\": 12, \"13\": 10, \"3\": 8, \"15\": 8}, \"6\": {\"6\": 42, \"14\": 32, \"1\": 5, \"7\": 13, \"8\": 16, \"3\": 13, \"10\": 25, \"11\": 21, \"9\": 14, \"5\": 6, \"2\": 15, \"0\": 7, \"4\": 17, \"12\": 7, \"15\": 2, \"13\": 5}, \"10\": {\"0\": 10, \"9\": 13, \"6\": 33, \"3\": 13, \"2\": 16, \"14\": 30, \"8\": 18, \"12\": 8, \"13\": 6, \"7\": 15, \"5\": 10, \"1\": 9, \"4\": 20, \"10\": 29, \"15\": 3, \"11\": 7}, \"5\": {\"3\": 22, \"8\": 12, \"5\": 19, \"1\": 27, \"15\": 20, \"2\": 18, \"9\": 14, \"13\": 21, \"12\": 25, \"4\": 8, \"11\": 10, \"0\": 17, \"6\": 4, \"7\": 14, \"14\": 3, \"10\": 6}, \"2\": {\"2\": 15, \"8\": 16, \"1\": 22, \"7\": 16, \"11\": 18, \"9\": 15, \"5\": 19, \"14\": 9, \"6\": 14, \"15\": 13, \"4\": 19, \"3\": 16, \"12\": 16, \"13\": 8, \"0\": 18, \"10\": 6}, \"12\": {\"10\": 9, \"8\": 6, \"0\": 24, \"4\": 15, \"14\": 6, \"2\": 22, \"11\": 14, \"9\": 17, \"7\": 15, \"13\": 16, \"5\": 17, \"12\": 18, \"1\": 18, \"15\": 17, \"6\": 8, \"3\": 18}, \"9\": {\"1\": 22, \"0\": 11, \"6\": 16, \"10\": 7, \"13\": 20, \"2\": 17, \"5\": 17, \"9\": 11, \"7\": 21, \"3\": 11, \"14\": 11, \"15\": 21, \"12\": 23, \"4\": 13, \"8\": 10, \"11\": 9}, \"1\": {\"9\": 16, \"13\": 18, \"6\": 14, \"4\": 13, \"1\": 24, \"7\": 13, \"5\": 15, \"12\": 21, \"11\": 9, \"2\": 17, \"8\": 11, \"3\": 21, \"15\": 19, \"14\": 7, \"0\": 11, \"10\": 11}, \"11\": {\"13\": 28, \"12\": 11, \"2\": 12, \"8\": 13, \"7\": 20, \"10\": 20, \"1\": 11, \"6\": 15, \"14\": 18, \"11\": 44, \"15\": 10, \"4\": 8, \"9\": 8, \"3\": 7, \"0\": 10, \"5\": 5}, \"13\": {\"2\": 21, \"13\": 29, \"7\": 15, \"15\": 22, \"0\": 13, \"14\": 4, \"11\": 13, \"12\": 20, \"8\": 12, \"3\": 7, \"1\": 27, \"4\": 6, \"5\": 21, \"9\": 16, \"6\": 8, \"10\": 6}}, \"ORACLE.run1_38\": {\"5\": {\"15\": 12, \"0\": 24, \"9\": 26, \"4\": 8, \"7\": 31, \"13\": 11, \"6\": 21, \"3\": 20, \"2\": 1, \"14\": 5, \"5\": 21, \"1\": 10, \"10\": 13, \"12\": 8, \"8\": 25, \"11\": 4}, \"8\": {\"14\": 9, \"10\": 21, \"8\": 24, \"5\": 20, \"9\": 10, \"0\": 28, \"7\": 22, \"13\": 15, \"11\": 6, \"15\": 21, \"2\": 6, \"12\": 11, \"6\": 18, \"3\": 6, \"1\": 15, \"4\": 8}, \"11\": {\"12\": 18, \"11\": 68, \"1\": 8, \"4\": 7, \"14\": 45, \"13\": 13, \"2\": 33, \"15\": 14, \"8\": 2, \"5\": 7, \"10\": 18, \"7\": 1, \"0\": 6}, \"1\": {\"15\": 30, \"2\": 40, \"1\": 48, \"13\": 34, \"14\": 12, \"10\": 11, \"9\": 6, \"5\": 14, \"8\": 12, \"6\": 10, \"11\": 8, \"7\": 4, \"0\": 4, \"3\": 4, \"4\": 2, \"12\": 1}, \"10\": {\"4\": 12, \"8\": 21, \"11\": 19, \"9\": 5, \"7\": 15, \"15\": 20, \"13\": 24, \"5\": 15, \"0\": 23, \"14\": 18, \"2\": 10, \"12\": 16, \"10\": 17, \"6\": 9, \"1\": 15, \"3\": 1}, \"15\": {\"14\": 19, \"9\": 6, \"8\": 16, \"11\": 14, \"0\": 9, \"13\": 39, \"2\": 19, \"1\": 35, \"15\": 30, \"10\": 17, \"7\": 4, \"6\": 11, \"5\": 13, \"12\": 6, \"3\": 2}, \"3\": {\"7\": 25, \"3\": 93, \"8\": 11, \"1\": 2, \"5\": 10, \"4\": 6, \"9\": 47, \"12\": 6, \"6\": 22, \"0\": 16, \"13\": 1, \"15\": 1}, \"7\": {\"8\": 19, \"5\": 27, \"3\": 21, \"0\": 31, \"4\": 26, \"7\": 45, \"6\": 17, \"9\": 19, \"11\": 1, \"10\": 15, \"13\": 4, \"1\": 5, \"15\": 6, \"12\": 4}, \"4\": {\"5\": 6, \"12\": 53, \"0\": 15, \"4\": 110, \"7\": 22, \"14\": 4, \"8\": 11, \"9\": 1, \"11\": 2, \"10\": 8, \"3\": 5, \"1\": 1, \"6\": 2}, \"14\": {\"13\": 18, \"11\": 52, \"10\": 13, \"4\": 4, \"14\": 64, \"6\": 1, \"7\": 1, \"2\": 32, \"8\": 5, \"12\": 14, \"15\": 9, \"1\": 15, \"5\": 2, \"0\": 9, \"3\": 1}, \"9\": {\"3\": 39, \"0\": 15, \"6\": 44, \"15\": 5, \"5\": 24, \"7\": 18, \"9\": 56, \"2\": 1, \"8\": 14, \"10\": 3, \"13\": 6, \"1\": 10, \"14\": 1, \"12\": 3, \"4\": 1}, \"12\": {\"4\": 57, \"12\": 87, \"11\": 14, \"14\": 18, \"3\": 2, \"0\": 10, \"7\": 7, \"1\": 1, \"5\": 6, \"15\": 4, \"10\": 11, \"13\": 2, \"8\": 13, \"6\": 3, \"2\": 4, \"9\": 1}, \"6\": {\"3\": 23, \"1\": 23, \"0\": 24, \"9\": 43, \"6\": 43, \"5\": 18, \"10\": 8, \"15\": 11, \"7\": 16, \"8\": 16, \"14\": 3, \"13\": 9, \"12\": 2, \"4\": 1}, \"2\": {\"14\": 41, \"2\": 60, \"11\": 42, \"15\": 25, \"1\": 24, \"13\": 30, \"12\": 1, \"5\": 3, \"10\": 10, \"0\": 1, \"8\": 2, \"7\": 1}, \"0\": {\"3\": 16, \"9\": 25, \"6\": 26, \"1\": 3, \"0\": 29, \"7\": 31, \"2\": 4, \"8\": 24, \"5\": 23, \"15\": 11, \"12\": 15, \"4\": 15, \"14\": 2, \"10\": 9, \"13\": 4, \"11\": 3}, \"13\": {\"13\": 36, \"2\": 23, \"15\": 33, \"11\": 20, \"9\": 5, \"8\": 17, \"5\": 9, \"14\": 21, \"10\": 16, \"1\": 37, \"6\": 10, \"0\": 8, \"12\": 1, \"7\": 2, \"4\": 2}}, \"ORACLE.run1_8\": {\"9\": {\"9\": 147, \"0\": 10, \"5\": 17, \"11\": 6, \"10\": 20, \"14\": 10, \"4\": 8, \"6\": 4, \"13\": 10, \"1\": 4, \"7\": 4}, \"10\": {\"4\": 28, \"10\": 26, \"0\": 19, \"2\": 7, \"15\": 9, \"14\": 25, \"13\": 19, \"5\": 22, \"1\": 13, \"11\": 13, \"9\": 12, \"8\": 8, \"12\": 5, \"7\": 12, \"6\": 19, \"3\": 3}, \"13\": {\"3\": 10, \"1\": 19, \"10\": 25, \"0\": 17, \"2\": 9, \"11\": 17, \"7\": 17, \"15\": 11, \"14\": 27, \"13\": 20, \"6\": 13, \"5\": 21, \"8\": 9, \"4\": 12, \"12\": 7, \"9\": 6}, \"0\": {\"10\": 19, \"11\": 16, \"14\": 29, \"4\": 17, \"6\": 16, \"8\": 16, \"7\": 17, \"2\": 12, \"12\": 10, \"1\": 15, \"0\": 23, \"3\": 6, \"5\": 15, \"15\": 8, \"13\": 17, \"9\": 4}, \"1\": {\"13\": 17, \"7\": 18, \"10\": 28, \"5\": 21, \"14\": 17, \"1\": 24, \"11\": 26, \"4\": 18, \"15\": 14, \"3\": 5, \"6\": 11, \"8\": 10, \"12\": 7, \"0\": 14, \"9\": 5, \"2\": 5}, \"15\": {\"15\": 32, \"4\": 5, \"2\": 30, \"1\": 10, \"3\": 33, \"11\": 9, \"12\": 34, \"8\": 30, \"7\": 13, \"14\": 5, \"5\": 6, \"13\": 5, \"0\": 12, \"6\": 13, \"10\": 3}, \"5\": {\"5\": 36, \"12\": 8, \"14\": 24, \"10\": 26, \"7\": 8, \"1\": 21, \"8\": 5, \"11\": 29, \"6\": 8, \"4\": 14, \"0\": 18, \"9\": 20, \"13\": 17, \"2\": 3, \"3\": 1, \"15\": 2}, \"3\": {\"13\": 7, \"7\": 19, \"2\": 38, \"12\": 43, \"0\": 10, \"1\": 4, \"3\": 52, \"15\": 27, \"10\": 3, \"14\": 5, \"8\": 13, \"6\": 10, \"4\": 4, \"11\": 5}, \"6\": {\"0\": 17, \"1\": 19, \"6\": 18, \"13\": 15, \"5\": 6, \"12\": 18, \"2\": 19, \"8\": 16, \"15\": 16, \"3\": 10, \"11\": 12, \"7\": 13, \"10\": 15, \"14\": 23, \"4\": 19, \"9\": 4}, \"11\": {\"10\": 19, \"12\": 9, \"6\": 14, \"14\": 17, \"1\": 26, \"11\": 30, \"5\": 22, \"8\": 20, \"4\": 14, \"7\": 12, \"15\": 8, \"13\": 20, \"0\": 12, \"2\": 8, \"3\": 7, \"9\": 2}, \"8\": {\"3\": 16, \"12\": 31, \"15\": 29, \"11\": 14, \"2\": 21, \"10\": 8, \"1\": 11, \"14\": 15, \"6\": 17, \"13\": 10, \"0\": 10, \"5\": 4, \"8\": 17, \"7\": 22, \"4\": 15}, \"4\": {\"15\": 12, \"1\": 16, \"6\": 20, \"10\": 22, \"0\": 20, \"13\": 16, \"8\": 16, \"7\": 19, \"14\": 11, \"5\": 20, \"4\": 28, \"11\": 16, \"2\": 11, \"9\": 6, \"3\": 2, \"12\": 5}, \"12\": {\"7\": 12, \"8\": 18, \"12\": 50, \"2\": 27, \"3\": 38, \"13\": 4, \"15\": 36, \"1\": 7, \"11\": 13, \"0\": 4, \"6\": 11, \"14\": 6, \"10\": 6, \"5\": 6, \"4\": 2}, \"14\": {\"13\": 13, \"10\": 28, \"2\": 12, \"15\": 8, \"6\": 21, \"8\": 19, \"5\": 20, \"14\": 21, \"4\": 19, \"7\": 16, \"11\": 18, \"0\": 22, \"1\": 13, \"9\": 2, \"12\": 7, \"3\": 1}, \"2\": {\"12\": 36, \"6\": 20, \"7\": 14, \"2\": 37, \"1\": 4, \"8\": 13, \"14\": 5, \"15\": 29, \"13\": 7, \"3\": 34, \"4\": 7, \"11\": 7, \"0\": 18, \"10\": 8, \"5\": 1}, \"7\": {\"11\": 21, \"4\": 14, \"6\": 20, \"2\": 16, \"13\": 17, \"7\": 16, \"1\": 14, \"0\": 23, \"12\": 14, \"10\": 12, \"3\": 13, \"15\": 14, \"14\": 21, \"5\": 7, \"8\": 17, \"9\": 1}}, \"ORACLE.run1_50\": {\"7\": {\"3\": 11, \"6\": 29, \"15\": 12, \"7\": 31, \"10\": 25, \"13\": 34, \"0\": 9, \"5\": 33, \"4\": 20, \"2\": 9, \"1\": 12, \"14\": 4, \"11\": 3, \"12\": 1, \"8\": 7}, \"3\": {\"3\": 109, \"5\": 3, \"8\": 62, \"10\": 25, \"0\": 16, \"7\": 7, \"13\": 10, \"2\": 6, \"6\": 1, \"14\": 1}, \"8\": {\"8\": 65, \"3\": 61, \"0\": 34, \"10\": 40, \"2\": 19, \"7\": 8, \"13\": 5, \"6\": 2, \"5\": 4, \"14\": 2}, \"2\": {\"8\": 16, \"7\": 16, \"3\": 5, \"2\": 60, \"10\": 29, \"0\": 36, \"13\": 7, \"6\": 12, \"5\": 17, \"4\": 5, \"14\": 21, \"9\": 2, \"1\": 5, \"11\": 4, \"12\": 1, \"15\": 4}, \"14\": {\"6\": 18, \"9\": 16, \"12\": 32, \"13\": 7, \"11\": 19, \"8\": 1, \"2\": 15, \"14\": 43, \"0\": 4, \"10\": 2, \"1\": 23, \"5\": 14, \"4\": 19, \"15\": 20, \"3\": 1, \"7\": 6}, \"4\": {\"7\": 19, \"15\": 31, \"0\": 9, \"1\": 31, \"8\": 1, \"11\": 28, \"12\": 6, \"5\": 24, \"4\": 27, \"13\": 12, \"14\": 12, \"6\": 22, \"9\": 10, \"2\": 4, \"10\": 2, \"3\": 2}, \"6\": {\"7\": 29, \"10\": 18, \"13\": 25, \"15\": 19, \"5\": 18, \"0\": 10, \"1\": 22, \"4\": 26, \"6\": 30, \"11\": 8, \"2\": 7, \"3\": 3, \"14\": 15, \"8\": 4, \"9\": 5, \"12\": 1}, \"15\": {\"6\": 28, \"13\": 14, \"7\": 12, \"15\": 33, \"1\": 27, \"5\": 17, \"11\": 32, \"4\": 35, \"0\": 5, \"9\": 12, \"2\": 3, \"12\": 8, \"14\": 14}, \"10\": {\"4\": 10, \"8\": 34, \"10\": 30, \"0\": 37, \"1\": 8, \"2\": 24, \"6\": 14, \"5\": 20, \"3\": 21, \"7\": 13, \"14\": 3, \"13\": 23, \"15\": 3}, \"11\": {\"15\": 23, \"12\": 38, \"1\": 20, \"2\": 2, \"9\": 43, \"6\": 8, \"4\": 17, \"14\": 27, \"5\": 13, \"11\": 37, \"13\": 7, \"7\": 1, \"10\": 3, \"0\": 1}, \"13\": {\"3\": 6, \"6\": 26, \"14\": 13, \"0\": 15, \"1\": 17, \"7\": 23, \"13\": 26, \"2\": 12, \"10\": 26, \"15\": 9, \"5\": 29, \"4\": 21, \"11\": 5, \"8\": 11, \"9\": 1}, \"9\": {\"12\": 46, \"1\": 8, \"9\": 68, \"15\": 18, \"11\": 48, \"4\": 17, \"14\": 22, \"7\": 2, \"10\": 1, \"0\": 1, \"6\": 3, \"13\": 1, \"2\": 2, \"5\": 3}, \"0\": {\"8\": 35, \"13\": 15, \"2\": 35, \"0\": 55, \"14\": 13, \"7\": 15, \"6\": 11, \"10\": 19, \"5\": 15, \"15\": 3, \"1\": 9, \"3\": 8, \"11\": 1, \"12\": 2, \"4\": 4}, \"1\": {\"5\": 28, \"7\": 16, \"6\": 13, \"1\": 19, \"11\": 23, \"13\": 17, \"4\": 30, \"0\": 13, \"9\": 12, \"3\": 1, \"12\": 6, \"2\": 8, \"15\": 23, \"14\": 25, \"10\": 6}, \"12\": {\"15\": 19, \"1\": 9, \"12\": 71, \"11\": 31, \"9\": 46, \"6\": 9, \"14\": 40, \"0\": 3, \"4\": 6, \"5\": 2, \"2\": 4}, \"5\": {\"10\": 17, \"5\": 24, \"6\": 28, \"7\": 31, \"1\": 21, \"13\": 30, \"11\": 8, \"8\": 5, \"14\": 12, \"15\": 10, \"0\": 11, \"2\": 18, \"4\": 23, \"12\": 2}}, \"ORACLE.run1_32\": {\"8\": {\"13\": 30, \"3\": 27, \"7\": 22, \"2\": 12, \"8\": 34, \"4\": 17, \"15\": 17, \"11\": 17, \"14\": 16, \"0\": 27, \"5\": 19, \"9\": 2}, \"14\": {\"3\": 26, \"0\": 14, \"11\": 41, \"13\": 13, \"5\": 22, \"14\": 29, \"4\": 17, \"7\": 30, \"15\": 7, \"2\": 24, \"8\": 17}, \"2\": {\"2\": 50, \"5\": 16, \"4\": 32, \"14\": 15, \"7\": 26, \"0\": 37, \"11\": 8, \"3\": 6, \"9\": 18, \"8\": 16, \"13\": 11, \"15\": 2, \"12\": 3}, \"0\": {\"7\": 26, \"11\": 17, \"14\": 15, \"0\": 30, \"4\": 28, \"2\": 30, \"13\": 30, \"3\": 11, \"15\": 8, \"5\": 20, \"9\": 10, \"8\": 15}, \"1\": {\"1\": 133, \"10\": 63, \"6\": 41, \"12\": 3}, \"10\": {\"10\": 89, \"6\": 59, \"12\": 22, \"1\": 64, \"9\": 6}, \"11\": {\"14\": 36, \"11\": 44, \"0\": 15, \"3\": 38, \"4\": 12, \"5\": 20, \"2\": 13, \"15\": 9, \"13\": 14, \"7\": 16, \"8\": 23}, \"5\": {\"5\": 35, \"4\": 17, \"14\": 23, \"11\": 24, \"13\": 28, \"0\": 21, \"2\": 17, \"7\": 29, \"8\": 20, \"3\": 17, \"15\": 9}, \"15\": {\"15\": 122, \"14\": 7, \"3\": 35, \"13\": 20, \"4\": 6, \"5\": 10, \"8\": 23, \"11\": 6, \"0\": 8, \"2\": 1, \"7\": 2}, \"3\": {\"3\": 58, \"5\": 34, \"15\": 30, \"8\": 19, \"4\": 11, \"13\": 19, \"14\": 13, \"0\": 11, \"11\": 26, \"7\": 17, \"2\": 2}, \"12\": {\"9\": 64, \"12\": 106, \"10\": 38, \"6\": 25, \"1\": 3, \"13\": 1, \"2\": 2, \"7\": 1}, \"7\": {\"14\": 37, \"3\": 13, \"4\": 24, \"11\": 25, \"2\": 22, \"7\": 29, \"13\": 19, \"8\": 17, \"5\": 26, \"15\": 4, \"0\": 22, \"9\": 2}, \"13\": {\"8\": 29, \"13\": 23, \"0\": 24, \"11\": 15, \"7\": 23, \"15\": 20, \"4\": 21, \"5\": 25, \"14\": 24, \"3\": 26, \"2\": 8, \"9\": 1, \"12\": 1}, \"6\": {\"6\": 117, \"1\": 41, \"10\": 49, \"12\": 27, \"9\": 6}, \"4\": {\"7\": 25, \"14\": 22, \"5\": 27, \"2\": 29, \"8\": 24, \"3\": 9, \"0\": 30, \"4\": 40, \"13\": 21, \"11\": 6, \"15\": 4, \"9\": 3}, \"9\": {\"12\": 57, \"9\": 122, \"2\": 18, \"6\": 9, \"4\": 10, \"7\": 5, \"8\": 4, \"0\": 6, \"13\": 3, \"10\": 4, \"5\": 1, \"14\": 1}}, \"ORACLE.run1_26\": {\"4\": {\"15\": 16, \"9\": 20, \"10\": 24, \"1\": 24, \"5\": 13, \"14\": 23, \"8\": 14, \"7\": 18, \"0\": 18, \"13\": 8, \"3\": 16, \"6\": 10, \"4\": 15, \"12\": 9, \"2\": 12}, \"12\": {\"7\": 5, \"11\": 49, \"12\": 91, \"2\": 4, \"6\": 20, \"9\": 11, \"8\": 10, \"0\": 8, \"13\": 15, \"14\": 4, \"5\": 5, \"10\": 7, \"4\": 2, \"15\": 7, \"1\": 2}, \"10\": {\"15\": 20, \"10\": 17, \"9\": 16, \"2\": 18, \"0\": 21, \"1\": 18, \"14\": 21, \"3\": 14, \"4\": 16, \"13\": 14, \"8\": 19, \"12\": 4, \"7\": 10, \"5\": 14, \"11\": 6, \"6\": 12}, \"0\": {\"15\": 15, \"7\": 21, \"14\": 18, \"9\": 14, \"13\": 9, \"10\": 17, \"3\": 20, \"0\": 25, \"1\": 16, \"4\": 19, \"6\": 11, \"2\": 21, \"8\": 17, \"5\": 7, \"12\": 8, \"11\": 2}, \"13\": {\"9\": 20, \"7\": 15, \"5\": 31, \"13\": 28, \"14\": 9, \"15\": 21, \"2\": 10, \"6\": 19, \"8\": 12, \"11\": 16, \"12\": 16, \"3\": 7, \"4\": 9, \"10\": 14, \"1\": 8, \"0\": 5}, \"9\": {\"13\": 23, \"10\": 23, \"3\": 18, \"5\": 24, \"7\": 12, \"14\": 9, \"4\": 11, \"9\": 14, \"6\": 8, \"15\": 14, \"2\": 12, \"8\": 17, \"0\": 21, \"1\": 18, \"12\": 10, \"11\": 6}, \"3\": {\"2\": 21, \"5\": 11, \"10\": 16, \"3\": 33, \"7\": 30, \"15\": 15, \"4\": 15, \"0\": 18, \"1\": 18, \"14\": 12, \"6\": 6, \"13\": 7, \"8\": 17, \"9\": 19, \"11\": 2}, \"2\": {\"1\": 16, \"12\": 3, \"7\": 21, \"10\": 18, \"2\": 22, \"13\": 15, \"5\": 16, \"8\": 14, \"14\": 14, \"0\": 14, \"4\": 25, \"9\": 16, \"3\": 17, \"6\": 12, \"15\": 17}, \"5\": {\"12\": 8, \"5\": 28, \"9\": 26, \"2\": 21, \"13\": 23, \"7\": 16, \"10\": 18, \"0\": 13, \"14\": 10, \"4\": 11, \"1\": 7, \"6\": 14, \"8\": 14, \"11\": 6, \"3\": 6, \"15\": 19}, \"14\": {\"0\": 26, \"14\": 22, \"1\": 24, \"8\": 25, \"15\": 15, \"2\": 12, \"13\": 13, \"4\": 18, \"10\": 21, \"12\": 8, \"9\": 8, \"5\": 9, \"3\": 10, \"7\": 21, \"6\": 5, \"11\": 3}, \"8\": {\"0\": 24, \"14\": 17, \"11\": 4, \"2\": 28, \"3\": 17, \"7\": 14, \"12\": 8, \"9\": 14, \"6\": 17, \"8\": 13, \"1\": 14, \"4\": 14, \"5\": 13, \"15\": 18, \"13\": 11, \"10\": 14}, \"7\": {\"4\": 20, \"9\": 10, \"3\": 20, \"5\": 12, \"13\": 8, \"10\": 16, \"8\": 18, \"7\": 30, \"15\": 20, \"2\": 22, \"14\": 13, \"0\": 19, \"1\": 17, \"6\": 9, \"12\": 4, \"11\": 2}, \"6\": {\"5\": 14, \"10\": 16, \"4\": 16, \"6\": 29, \"15\": 18, \"7\": 20, \"9\": 16, \"11\": 11, \"13\": 16, \"8\": 10, \"1\": 7, \"12\": 23, \"0\": 13, \"3\": 7, \"2\": 10, \"14\": 14}, \"11\": {\"11\": 116, \"12\": 63, \"6\": 11, \"5\": 10, \"1\": 1, \"14\": 2, \"3\": 1, \"13\": 16, \"4\": 1, \"9\": 6, \"15\": 6, \"10\": 3, \"7\": 1, \"2\": 1, \"0\": 1, \"8\": 1}, \"15\": {\"14\": 9, \"0\": 15, \"15\": 14, \"5\": 20, \"10\": 15, \"13\": 19, \"3\": 15, \"12\": 10, \"6\": 14, \"9\": 13, \"8\": 19, \"4\": 15, \"1\": 16, \"7\": 15, \"2\": 23, \"11\": 8}, \"1\": {\"7\": 20, \"9\": 7, \"3\": 24, \"4\": 21, \"2\": 12, \"10\": 16, \"14\": 19, \"8\": 20, \"5\": 13, \"0\": 30, \"12\": 5, \"1\": 26, \"13\": 10, \"15\": 11, \"6\": 5, \"11\": 1}}, \"ORACLE.run1_44\": {\"12\": {\"12\": 58, \"1\": 47, \"7\": 17, \"3\": 28, \"10\": 52, \"2\": 22, \"9\": 8, \"11\": 3, \"6\": 3, \"13\": 2}, \"7\": {\"6\": 31, \"1\": 25, \"10\": 18, \"2\": 27, \"11\": 29, \"7\": 30, \"9\": 25, \"3\": 20, \"13\": 14, \"12\": 15, \"4\": 4, \"14\": 2}, \"5\": {\"4\": 29, \"5\": 64, \"0\": 54, \"15\": 26, \"3\": 1, \"8\": 38, \"14\": 27, \"11\": 1}, \"15\": {\"4\": 32, \"15\": 47, \"8\": 43, \"0\": 36, \"14\": 43, \"5\": 35, \"3\": 3, \"9\": 1}, \"8\": {\"8\": 76, \"5\": 47, \"15\": 37, \"0\": 63, \"4\": 5, \"14\": 12}, \"2\": {\"2\": 35, \"7\": 32, \"9\": 20, \"10\": 34, \"3\": 21, \"1\": 30, \"11\": 8, \"12\": 26, \"6\": 24, \"13\": 9, \"4\": 1}, \"13\": {\"4\": 15, \"11\": 44, \"2\": 10, \"13\": 45, \"9\": 35, \"6\": 35, \"3\": 9, \"7\": 21, \"12\": 4, \"14\": 10, \"10\": 6, \"15\": 3, \"1\": 3}, \"4\": {\"15\": 20, \"5\": 20, \"14\": 58, \"13\": 19, \"4\": 65, \"11\": 6, \"9\": 10, \"0\": 18, \"3\": 6, \"8\": 5, \"2\": 4, \"6\": 1, \"7\": 6, \"1\": 2}, \"0\": {\"5\": 58, \"0\": 46, \"15\": 38, \"8\": 61, \"14\": 24, \"4\": 13}, \"6\": {\"10\": 10, \"11\": 40, \"2\": 24, \"13\": 27, \"7\": 31, \"6\": 41, \"1\": 7, \"9\": 32, \"3\": 9, \"12\": 12, \"14\": 5, \"4\": 2}, \"9\": {\"7\": 41, \"6\": 25, \"1\": 17, \"4\": 7, \"11\": 27, \"9\": 31, \"2\": 25, \"12\": 9, \"3\": 11, \"13\": 31, \"10\": 12, \"14\": 2, \"15\": 2}, \"11\": {\"11\": 75, \"7\": 22, \"12\": 2, \"9\": 31, \"6\": 28, \"13\": 43, \"14\": 3, \"1\": 5, \"3\": 5, \"2\": 17, \"10\": 4, \"4\": 5}, \"10\": {\"2\": 31, \"12\": 51, \"10\": 63, \"1\": 37, \"6\": 10, \"7\": 24, \"3\": 19, \"11\": 1, \"9\": 2, \"13\": 2}, \"14\": {\"4\": 60, \"15\": 32, \"13\": 10, \"9\": 10, \"14\": 47, \"8\": 13, \"5\": 26, \"0\": 28, \"3\": 4, \"11\": 5, \"2\": 1, \"6\": 1, \"7\": 3}, \"1\": {\"10\": 41, \"3\": 36, \"7\": 22, \"1\": 39, \"6\": 8, \"2\": 28, \"9\": 12, \"12\": 39, \"11\": 5, \"4\": 1, \"14\": 1, \"13\": 8}, \"3\": {\"9\": 19, \"3\": 56, \"12\": 32, \"14\": 5, \"10\": 24, \"2\": 27, \"11\": 6, \"1\": 31, \"15\": 1, \"6\": 6, \"13\": 13, \"7\": 17, \"4\": 3}}}, \"per_domain_accuracy\": {\"CORES_3\": {\"accuracy\": 0.9987281976744186, \"source?\": true}, \"CORES_4\": {\"accuracy\": 0.9990530303030303, \"source?\": true}, \"CORES_5\": {\"accuracy\": 0.9993016759776536, \"source?\": true}, \"CORES_1\": {\"accuracy\": 0.9996584699453552, \"source?\": true}, \"CORES_2\": {\"accuracy\": 0.9992937853107344, \"source?\": true}, \"ORACLE.run1_14\": {\"accuracy\": 0.18854166666666666, \"source?\": false}, \"ORACLE.run1_20\": {\"accuracy\": 0.10416666666666667, \"source?\": false}, \"ORACLE.run1_38\": {\"accuracy\": 0.21640625, \"source?\": false}, \"ORACLE.run1_8\": {\"accuracy\": 0.15026041666666667, \"source?\": false}, \"ORACLE.run1_50\": {\"accuracy\": 0.18958333333333333, \"source?\": false}, \"ORACLE.run1_32\": {\"accuracy\": 0.27630208333333334, \"source?\": false}, \"ORACLE.run1_26\": {\"accuracy\": 0.13619791666666667, \"source?\": false}, \"ORACLE.run1_44\": {\"accuracy\": 0.21302083333333333, \"source?\": false}}}, \"history\": {\"epoch_indices\": [1, 2, 3, 4, 5, 6, 7, 8, 9, 10, 11, 12, 13], \"train_label_loss\": [0.02559095578199164, 0.006417774689195713, 0.004846815507938344, 0.0035865399089902205, 0.0028442352351425062, 0.0027064897714500313, 0.002668954528084105, 0.0017239582516871495, 0.0017897242074639058, 0.0025876142836672926, 0.0013921307599143937, 0.0017355729521530468, 0.001273238520359693], \"source_val_label_loss\": [0.006956225726753473, 0.011059298180043697, 0.0070231095887720585, 0.008283102884888649, 0.007959779351949692, 0.011171955615282059, 0.010106070898473263, 0.014500162564218044, 0.013533681631088257, 0.01126908790320158, 0.011557663790881634, 0.016148053109645844, 0.013521034270524979], \"target_val_label_loss\": [2.5609254837036133, 3.0833053588867188, 3.0917792320251465, 3.524409532546997, 3.6858272552490234, 3.3648715019226074, 3.8994388580322266, 4.709357738494873, 5.081296920776367, 5.098702430725098, 4.507871150970459, 5.150395393371582, 5.804300785064697], \"source_val_acc_label\": [0.9987157534246576, 0.9983233447488584, 0.9993578767123288, 0.9992865296803652, 0.9992151826484018, 0.9983590182648402, 0.9995005707762558, 0.9990724885844748, 0.9992151826484018, 0.9995362442922374, 0.9996789383561644, 0.999464897260274, 0.999464897260274], \"target_val_acc_label\": [0.16422526041666666, 0.16728515625, 0.16070963541666666, 0.16432291666666668, 0.18154296875, 0.17685546875, 0.17373046875, 0.16822916666666668, 0.18430989583333332, 0.1833984375, 0.160546875, 0.17298177083333333, 0.16966145833333332]}, \"dataset_metrics\": {\"source\": {\"train\": {\"n_unique_x\": 175240, \"n_unique_y\": 58, \"n_batch/episode\": 6331}, \"val\": {\"n_unique_x\": 37196, \"n_unique_y\": 58, \"n_batch/episode\": 876}, \"test\": {\"n_unique_x\": 37634, \"n_unique_y\": 58, \"n_batch/episode\": 891}}, \"target\": {\"train\": {\"n_unique_x\": 179200, \"n_unique_y\": 16, \"n_batch/episode\": 6720}, \"val\": {\"n_unique_x\": 38400, \"n_unique_y\": 16, \"n_batch/episode\": 960}, \"test\": {\"n_unique_x\": 38400, \"n_unique_y\": 16, \"n_batch/episode\": 960}}}}'"
      ]
     },
     "execution_count": 29,
     "metadata": {},
     "output_type": "execute_result"
    }
   ],
   "source": [
    "json.dumps(experiment)"
   ]
  }
 ],
 "metadata": {
  "celltoolbar": "Tags",
  "kernelspec": {
   "display_name": "Python 3 (ipykernel)",
   "language": "python",
   "name": "python3"
  },
  "language_info": {
   "codemirror_mode": {
    "name": "ipython",
    "version": 3
   },
   "file_extension": ".py",
   "mimetype": "text/x-python",
   "name": "python",
   "nbconvert_exporter": "python",
   "pygments_lexer": "ipython3",
   "version": "3.8.12"
  },
  "papermill": {
   "default_parameters": {},
   "duration": 3615.925897,
   "end_time": "2022-03-22T02:30:15.026097",
   "environment_variables": {},
   "exception": null,
   "input_path": "/root/csc500-main/csc500-notebooks/templates/tl_ptn_template.ipynb",
   "output_path": "trial.ipynb",
   "parameters": {
    "parameters": {
     "BEST_MODEL_PATH": "./best_model.pth",
     "NUM_LOGS_PER_EPOCH": 10,
     "criteria_for_best": "target_accuracy",
     "dataset_seed": 1337,
     "datasets": [
      {
       "domain_prefix": "CORES_",
       "domains": [
        1,
        2,
        3,
        4,
        5
       ],
       "episode_transforms": [],
       "labels": [
        "1-10.",
        "1-11.",
        "1-15.",
        "1-16.",
        "1-17.",
        "1-18.",
        "1-19.",
        "10-4.",
        "10-7.",
        "11-1.",
        "11-14.",
        "11-17.",
        "11-20.",
        "11-7.",
        "13-20.",
        "13-8.",
        "14-10.",
        "14-11.",
        "14-14.",
        "14-7.",
        "15-1.",
        "15-20.",
        "16-1.",
        "16-16.",
        "17-10.",
        "17-11.",
        "17-2.",
        "19-1.",
        "19-16.",
        "19-19.",
        "19-20.",
        "19-3.",
        "2-10.",
        "2-11.",
        "2-17.",
        "2-18.",
        "2-20.",
        "2-3.",
        "2-4.",
        "2-5.",
        "2-6.",
        "2-7.",
        "2-8.",
        "3-13.",
        "3-18.",
        "3-3.",
        "4-1.",
        "4-10.",
        "4-11.",
        "4-19.",
        "5-5.",
        "6-15.",
        "7-10.",
        "7-14.",
        "8-18.",
        "8-20.",
        "8-3.",
        "8-8."
       ],
       "num_examples_per_domain_per_label": -1,
       "pickle_path": "/root/csc500-main/datasets/cores.stratified_ds.2022A.pkl",
       "source_or_target_dataset": "source",
       "x_transforms": [
        "unit_power"
       ]
      },
      {
       "domain_prefix": "ORACLE.run1_",
       "domains": [
        32,
        38,
        8,
        44,
        14,
        50,
        20,
        26
       ],
       "episode_transforms": [],
       "labels": [
        "3123D52",
        "3123D65",
        "3123D79",
        "3123D80",
        "3123D54",
        "3123D70",
        "3123D7B",
        "3123D89",
        "3123D58",
        "3123D76",
        "3123D7D",
        "3123EFE",
        "3123D64",
        "3123D78",
        "3123D7E",
        "3124E4A"
       ],
       "num_examples_per_domain_per_label": 2000,
       "pickle_path": "/root/csc500-main/datasets/oracle.Run1_10kExamples_stratified_ds.2022A.pkl",
       "source_or_target_dataset": "target",
       "x_transforms": [
        "unit_power"
       ]
      }
     ],
     "device": "cuda",
     "experiment_name": "tl_1v2:cores-oracle.run1.limited",
     "lr": 0.0001,
     "n_epoch": 50,
     "n_query": 2,
     "n_shot": 3,
     "n_way": 16,
     "patience": 3,
     "seed": 1337,
     "test_k_factor": 2,
     "torch_default_dtype": "torch.float32",
     "train_k_factor": 3,
     "val_k_factor": 2,
     "x_net": [
      {
       "class": "nnReshape",
       "kargs": {
        "shape": [
         -1,
         1,
         2,
         256
        ]
       }
      },
      {
       "class": "Conv2d",
       "kargs": {
        "bias": false,
        "in_channels": 1,
        "kernel_size": [
         1,
         7
        ],
        "out_channels": 256,
        "padding": [
         0,
         3
        ]
       }
      },
      {
       "class": "ReLU",
       "kargs": {
        "inplace": true
       }
      },
      {
       "class": "BatchNorm2d",
       "kargs": {
        "num_features": 256
       }
      },
      {
       "class": "Conv2d",
       "kargs": {
        "bias": true,
        "in_channels": 256,
        "kernel_size": [
         2,
         7
        ],
        "out_channels": 80,
        "padding": [
         0,
         3
        ]
       }
      },
      {
       "class": "ReLU",
       "kargs": {
        "inplace": true
       }
      },
      {
       "class": "BatchNorm2d",
       "kargs": {
        "num_features": 80
       }
      },
      {
       "class": "Flatten",
       "kargs": {}
      },
      {
       "class": "Linear",
       "kargs": {
        "in_features": 20480,
        "out_features": 256
       }
      },
      {
       "class": "ReLU",
       "kargs": {
        "inplace": true
       }
      },
      {
       "class": "BatchNorm1d",
       "kargs": {
        "num_features": 256
       }
      },
      {
       "class": "Linear",
       "kargs": {
        "in_features": 256,
        "out_features": 256
       }
      }
     ]
    }
   },
   "start_time": "2022-03-22T01:29:59.100200",
   "version": "2.3.4"
  }
 },
 "nbformat": 4,
 "nbformat_minor": 5
}