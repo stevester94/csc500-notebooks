{
 "cells": [
  {
   "cell_type": "markdown",
   "id": "9fea5f46",
   "metadata": {
    "papermill": {
     "duration": 0.027583,
     "end_time": "2022-03-22T06:55:09.622469",
     "exception": false,
     "start_time": "2022-03-22T06:55:09.594886",
     "status": "completed"
    },
    "tags": []
   },
   "source": [
    "# Transfer Learning Template"
   ]
  },
  {
   "cell_type": "code",
   "execution_count": 1,
   "id": "0902182a",
   "metadata": {
    "execution": {
     "iopub.execute_input": "2022-03-22T06:55:09.685188Z",
     "iopub.status.busy": "2022-03-22T06:55:09.684360Z",
     "iopub.status.idle": "2022-03-22T06:55:12.360199Z",
     "shell.execute_reply": "2022-03-22T06:55:12.359716Z"
    },
    "papermill": {
     "duration": 2.714956,
     "end_time": "2022-03-22T06:55:12.360323",
     "exception": false,
     "start_time": "2022-03-22T06:55:09.645367",
     "status": "completed"
    },
    "tags": []
   },
   "outputs": [],
   "source": [
    "%load_ext autoreload\n",
    "%autoreload 2\n",
    "%matplotlib inline\n",
    "\n",
    "    \n",
    "import os, json, sys, time, random\n",
    "import numpy as np\n",
    "import torch\n",
    "from torch.optim import Adam\n",
    "from  easydict import EasyDict\n",
    "import matplotlib.pyplot as plt\n",
    "\n",
    "from steves_models.steves_ptn import Steves_Prototypical_Network\n",
    "\n",
    "from steves_utils.lazy_iterable_wrapper import Lazy_Iterable_Wrapper\n",
    "from steves_utils.iterable_aggregator import Iterable_Aggregator\n",
    "from steves_utils.ptn_train_eval_test_jig import  PTN_Train_Eval_Test_Jig\n",
    "from steves_utils.torch_sequential_builder import build_sequential\n",
    "from steves_utils.torch_utils import get_dataset_metrics, ptn_confusion_by_domain_over_dataloader\n",
    "from steves_utils.utils_v2 import (per_domain_accuracy_from_confusion, get_datasets_base_path)\n",
    "from steves_utils.PTN.utils import independent_accuracy_assesment\n",
    "\n",
    "from torch.utils.data import DataLoader\n",
    "\n",
    "from steves_utils.stratified_dataset.episodic_accessor import Episodic_Accessor_Factory\n",
    "\n",
    "from steves_utils.ptn_do_report import (\n",
    "    get_loss_curve,\n",
    "    get_results_table,\n",
    "    get_parameters_table,\n",
    "    get_domain_accuracies,\n",
    ")\n",
    "\n",
    "from steves_utils.transforms import get_chained_transform"
   ]
  },
  {
   "cell_type": "markdown",
   "id": "41c840b4",
   "metadata": {
    "papermill": {
     "duration": 0.01862,
     "end_time": "2022-03-22T06:55:12.398861",
     "exception": false,
     "start_time": "2022-03-22T06:55:12.380241",
     "status": "completed"
    },
    "tags": []
   },
   "source": [
    "# Allowed Parameters\n",
    "These are allowed parameters, not defaults\n",
    "Each of these values need to be present in the injected parameters (the notebook will raise an exception if they are not present)\n",
    "\n",
    "Papermill uses the cell tag \"parameters\" to inject the real parameters below this cell.\n",
    "Enable tags to see what I mean"
   ]
  },
  {
   "cell_type": "code",
   "execution_count": 2,
   "id": "fd44eb83",
   "metadata": {
    "execution": {
     "iopub.execute_input": "2022-03-22T06:55:12.440484Z",
     "iopub.status.busy": "2022-03-22T06:55:12.439908Z",
     "iopub.status.idle": "2022-03-22T06:55:12.462118Z",
     "shell.execute_reply": "2022-03-22T06:55:12.461726Z"
    },
    "papermill": {
     "duration": 0.04478,
     "end_time": "2022-03-22T06:55:12.462196",
     "exception": false,
     "start_time": "2022-03-22T06:55:12.417416",
     "status": "completed"
    },
    "tags": []
   },
   "outputs": [],
   "source": [
    "required_parameters = {\n",
    "    \"experiment_name\",\n",
    "    \"lr\",\n",
    "    \"device\",\n",
    "    \"seed\",\n",
    "    \"dataset_seed\",\n",
    "    \"n_shot\",\n",
    "    \"n_query\",\n",
    "    \"n_way\",\n",
    "    \"train_k_factor\",\n",
    "    \"val_k_factor\",\n",
    "    \"test_k_factor\",\n",
    "    \"n_epoch\",\n",
    "    \"patience\",\n",
    "    \"criteria_for_best\",\n",
    "    \"x_net\",\n",
    "    \"datasets\",\n",
    "    \"torch_default_dtype\",\n",
    "    \"NUM_LOGS_PER_EPOCH\",\n",
    "    \"BEST_MODEL_PATH\",\n",
    "    \"x_shape\",\n",
    "}"
   ]
  },
  {
   "cell_type": "code",
   "execution_count": 3,
   "id": "fa3f0049",
   "metadata": {
    "execution": {
     "iopub.execute_input": "2022-03-22T06:55:12.512776Z",
     "iopub.status.busy": "2022-03-22T06:55:12.511837Z",
     "iopub.status.idle": "2022-03-22T06:55:12.533563Z",
     "shell.execute_reply": "2022-03-22T06:55:12.533235Z"
    },
    "papermill": {
     "duration": 0.052388,
     "end_time": "2022-03-22T06:55:12.533650",
     "exception": false,
     "start_time": "2022-03-22T06:55:12.481262",
     "status": "completed"
    },
    "tags": [
     "parameters"
    ]
   },
   "outputs": [],
   "source": [
    "from steves_utils.CORES.utils import (\n",
    "    ALL_NODES,\n",
    "    ALL_NODES_MINIMUM_1000_EXAMPLES,\n",
    "    ALL_DAYS\n",
    ")\n",
    "\n",
    "from steves_utils.ORACLE.utils_v2 import (\n",
    "    ALL_DISTANCES_FEET_NARROWED,\n",
    "    ALL_RUNS,\n",
    "    ALL_SERIAL_NUMBERS,\n",
    ")\n",
    "\n",
    "standalone_parameters = {}\n",
    "standalone_parameters[\"experiment_name\"] = \"STANDALONE PTN\"\n",
    "standalone_parameters[\"lr\"] = 0.001\n",
    "standalone_parameters[\"device\"] = \"cuda\"\n",
    "\n",
    "standalone_parameters[\"seed\"] = 1337\n",
    "standalone_parameters[\"dataset_seed\"] = 1337\n",
    "\n",
    "standalone_parameters[\"n_way\"] = 8\n",
    "standalone_parameters[\"n_shot\"] = 3\n",
    "standalone_parameters[\"n_query\"]  = 2\n",
    "standalone_parameters[\"train_k_factor\"] = 1\n",
    "standalone_parameters[\"val_k_factor\"] = 2\n",
    "standalone_parameters[\"test_k_factor\"] = 2\n",
    "\n",
    "\n",
    "standalone_parameters[\"n_epoch\"] = 50\n",
    "\n",
    "standalone_parameters[\"patience\"] = 10\n",
    "standalone_parameters[\"criteria_for_best\"] = \"source_loss\"\n",
    "\n",
    "standalone_parameters[\"datasets\"] = [\n",
    "    {\n",
    "        \"labels\": ALL_SERIAL_NUMBERS,\n",
    "        \"domains\": ALL_DISTANCES_FEET_NARROWED,\n",
    "        \"num_examples_per_domain_per_label\": 100,\n",
    "        \"pickle_path\": os.path.join(get_datasets_base_path(), \"oracle.Run1_framed_2000Examples_stratified_ds.2022A.pkl\"),\n",
    "        \"source_or_target_dataset\": \"source\",\n",
    "        \"x_transforms\": [\"unit_mag\", \"minus_two\"],\n",
    "        \"episode_transforms\": [],\n",
    "        \"domain_prefix\": \"ORACLE_\"\n",
    "    },\n",
    "    {\n",
    "        \"labels\": ALL_NODES,\n",
    "        \"domains\": ALL_DAYS,\n",
    "        \"num_examples_per_domain_per_label\": 100,\n",
    "        \"pickle_path\": os.path.join(get_datasets_base_path(), \"cores.stratified_ds.2022A.pkl\"),\n",
    "        \"source_or_target_dataset\": \"target\",\n",
    "        \"x_transforms\": [\"unit_power\", \"times_zero\"],\n",
    "        \"episode_transforms\": [],\n",
    "        \"domain_prefix\": \"CORES_\"\n",
    "    }   \n",
    "]\n",
    "\n",
    "standalone_parameters[\"torch_default_dtype\"] = \"torch.float32\" \n",
    "\n",
    "\n",
    "\n",
    "standalone_parameters[\"x_net\"] =     [\n",
    "    {\"class\": \"nnReshape\", \"kargs\": {\"shape\":[-1, 1, 2, 256]}},\n",
    "    {\"class\": \"Conv2d\", \"kargs\": { \"in_channels\":1, \"out_channels\":256, \"kernel_size\":(1,7), \"bias\":False, \"padding\":(0,3), },},\n",
    "    {\"class\": \"ReLU\", \"kargs\": {\"inplace\": True}},\n",
    "    {\"class\": \"BatchNorm2d\", \"kargs\": {\"num_features\":256}},\n",
    "\n",
    "    {\"class\": \"Conv2d\", \"kargs\": { \"in_channels\":256, \"out_channels\":80, \"kernel_size\":(2,7), \"bias\":True, \"padding\":(0,3), },},\n",
    "    {\"class\": \"ReLU\", \"kargs\": {\"inplace\": True}},\n",
    "    {\"class\": \"BatchNorm2d\", \"kargs\": {\"num_features\":80}},\n",
    "    {\"class\": \"Flatten\", \"kargs\": {}},\n",
    "\n",
    "    {\"class\": \"Linear\", \"kargs\": {\"in_features\": 80*256, \"out_features\": 256}}, # 80 units per IQ pair\n",
    "    {\"class\": \"ReLU\", \"kargs\": {\"inplace\": True}},\n",
    "    {\"class\": \"BatchNorm1d\", \"kargs\": {\"num_features\":256}},\n",
    "\n",
    "    {\"class\": \"Linear\", \"kargs\": {\"in_features\": 256, \"out_features\": 256}},\n",
    "]\n",
    "\n",
    "# Parameters relevant to results\n",
    "# These parameters will basically never need to change\n",
    "standalone_parameters[\"NUM_LOGS_PER_EPOCH\"] = 10\n",
    "standalone_parameters[\"BEST_MODEL_PATH\"] = \"./best_model.pth\"\n",
    "\n",
    "\n",
    "\n",
    "\n"
   ]
  },
  {
   "cell_type": "code",
   "execution_count": 4,
   "id": "1f30a1cc",
   "metadata": {
    "execution": {
     "iopub.execute_input": "2022-03-22T06:55:12.584200Z",
     "iopub.status.busy": "2022-03-22T06:55:12.583582Z",
     "iopub.status.idle": "2022-03-22T06:55:12.604481Z",
     "shell.execute_reply": "2022-03-22T06:55:12.604094Z"
    },
    "papermill": {
     "duration": 0.049396,
     "end_time": "2022-03-22T06:55:12.604560",
     "exception": false,
     "start_time": "2022-03-22T06:55:12.555164",
     "status": "completed"
    },
    "tags": [
     "injected-parameters"
    ]
   },
   "outputs": [],
   "source": [
    "# Parameters\n",
    "parameters = {\n",
    "    \"experiment_name\": \"tl_1v2:cores-oracle.run1.limited\",\n",
    "    \"device\": \"cuda\",\n",
    "    \"lr\": 0.0001,\n",
    "    \"n_shot\": 3,\n",
    "    \"n_query\": 2,\n",
    "    \"train_k_factor\": 3,\n",
    "    \"val_k_factor\": 2,\n",
    "    \"test_k_factor\": 2,\n",
    "    \"torch_default_dtype\": \"torch.float32\",\n",
    "    \"n_epoch\": 50,\n",
    "    \"patience\": 3,\n",
    "    \"criteria_for_best\": \"target_accuracy\",\n",
    "    \"x_net\": [\n",
    "        {\"class\": \"nnReshape\", \"kargs\": {\"shape\": [-1, 1, 2, 256]}},\n",
    "        {\n",
    "            \"class\": \"Conv2d\",\n",
    "            \"kargs\": {\n",
    "                \"in_channels\": 1,\n",
    "                \"out_channels\": 256,\n",
    "                \"kernel_size\": [1, 7],\n",
    "                \"bias\": False,\n",
    "                \"padding\": [0, 3],\n",
    "            },\n",
    "        },\n",
    "        {\"class\": \"ReLU\", \"kargs\": {\"inplace\": True}},\n",
    "        {\"class\": \"BatchNorm2d\", \"kargs\": {\"num_features\": 256}},\n",
    "        {\n",
    "            \"class\": \"Conv2d\",\n",
    "            \"kargs\": {\n",
    "                \"in_channels\": 256,\n",
    "                \"out_channels\": 80,\n",
    "                \"kernel_size\": [2, 7],\n",
    "                \"bias\": True,\n",
    "                \"padding\": [0, 3],\n",
    "            },\n",
    "        },\n",
    "        {\"class\": \"ReLU\", \"kargs\": {\"inplace\": True}},\n",
    "        {\"class\": \"BatchNorm2d\", \"kargs\": {\"num_features\": 80}},\n",
    "        {\"class\": \"Flatten\", \"kargs\": {}},\n",
    "        {\"class\": \"Linear\", \"kargs\": {\"in_features\": 20480, \"out_features\": 256}},\n",
    "        {\"class\": \"ReLU\", \"kargs\": {\"inplace\": True}},\n",
    "        {\"class\": \"BatchNorm1d\", \"kargs\": {\"num_features\": 256}},\n",
    "        {\"class\": \"Linear\", \"kargs\": {\"in_features\": 256, \"out_features\": 256}},\n",
    "    ],\n",
    "    \"NUM_LOGS_PER_EPOCH\": 10,\n",
    "    \"BEST_MODEL_PATH\": \"./best_model.pth\",\n",
    "    \"n_way\": 16,\n",
    "    \"datasets\": [\n",
    "        {\n",
    "            \"labels\": [\n",
    "                \"1-10.\",\n",
    "                \"1-11.\",\n",
    "                \"1-15.\",\n",
    "                \"1-16.\",\n",
    "                \"1-17.\",\n",
    "                \"1-18.\",\n",
    "                \"1-19.\",\n",
    "                \"10-4.\",\n",
    "                \"10-7.\",\n",
    "                \"11-1.\",\n",
    "                \"11-14.\",\n",
    "                \"11-17.\",\n",
    "                \"11-20.\",\n",
    "                \"11-7.\",\n",
    "                \"13-20.\",\n",
    "                \"13-8.\",\n",
    "                \"14-10.\",\n",
    "                \"14-11.\",\n",
    "                \"14-14.\",\n",
    "                \"14-7.\",\n",
    "                \"15-1.\",\n",
    "                \"15-20.\",\n",
    "                \"16-1.\",\n",
    "                \"16-16.\",\n",
    "                \"17-10.\",\n",
    "                \"17-11.\",\n",
    "                \"17-2.\",\n",
    "                \"19-1.\",\n",
    "                \"19-16.\",\n",
    "                \"19-19.\",\n",
    "                \"19-20.\",\n",
    "                \"19-3.\",\n",
    "                \"2-10.\",\n",
    "                \"2-11.\",\n",
    "                \"2-17.\",\n",
    "                \"2-18.\",\n",
    "                \"2-20.\",\n",
    "                \"2-3.\",\n",
    "                \"2-4.\",\n",
    "                \"2-5.\",\n",
    "                \"2-6.\",\n",
    "                \"2-7.\",\n",
    "                \"2-8.\",\n",
    "                \"3-13.\",\n",
    "                \"3-18.\",\n",
    "                \"3-3.\",\n",
    "                \"4-1.\",\n",
    "                \"4-10.\",\n",
    "                \"4-11.\",\n",
    "                \"4-19.\",\n",
    "                \"5-5.\",\n",
    "                \"6-15.\",\n",
    "                \"7-10.\",\n",
    "                \"7-14.\",\n",
    "                \"8-18.\",\n",
    "                \"8-20.\",\n",
    "                \"8-3.\",\n",
    "                \"8-8.\",\n",
    "            ],\n",
    "            \"domains\": [1, 2, 3, 4, 5],\n",
    "            \"num_examples_per_domain_per_label\": -1,\n",
    "            \"pickle_path\": \"/root/csc500-main/datasets/cores.stratified_ds.2022A.pkl\",\n",
    "            \"source_or_target_dataset\": \"source\",\n",
    "            \"x_transforms\": [\"unit_power\"],\n",
    "            \"episode_transforms\": [],\n",
    "            \"domain_prefix\": \"CORES_\",\n",
    "        },\n",
    "        {\n",
    "            \"labels\": [\n",
    "                \"3123D52\",\n",
    "                \"3123D65\",\n",
    "                \"3123D79\",\n",
    "                \"3123D80\",\n",
    "                \"3123D54\",\n",
    "                \"3123D70\",\n",
    "                \"3123D7B\",\n",
    "                \"3123D89\",\n",
    "                \"3123D58\",\n",
    "                \"3123D76\",\n",
    "                \"3123D7D\",\n",
    "                \"3123EFE\",\n",
    "                \"3123D64\",\n",
    "                \"3123D78\",\n",
    "                \"3123D7E\",\n",
    "                \"3124E4A\",\n",
    "            ],\n",
    "            \"domains\": [32, 38, 8, 44, 14, 50, 20, 26],\n",
    "            \"num_examples_per_domain_per_label\": 2000,\n",
    "            \"pickle_path\": \"/root/csc500-main/datasets/oracle.Run1_10kExamples_stratified_ds.2022A.pkl\",\n",
    "            \"source_or_target_dataset\": \"target\",\n",
    "            \"x_transforms\": [\"unit_power\"],\n",
    "            \"episode_transforms\": [],\n",
    "            \"domain_prefix\": \"ORACLE.run1_\",\n",
    "        },\n",
    "    ],\n",
    "    \"dataset_seed\": 420,\n",
    "    \"seed\": 420,\n",
    "}\n"
   ]
  },
  {
   "cell_type": "code",
   "execution_count": 5,
   "id": "8fa1cc33",
   "metadata": {
    "execution": {
     "iopub.execute_input": "2022-03-22T06:55:12.651851Z",
     "iopub.status.busy": "2022-03-22T06:55:12.650983Z",
     "iopub.status.idle": "2022-03-22T06:55:12.673426Z",
     "shell.execute_reply": "2022-03-22T06:55:12.673080Z"
    },
    "papermill": {
     "duration": 0.046627,
     "end_time": "2022-03-22T06:55:12.673511",
     "exception": false,
     "start_time": "2022-03-22T06:55:12.626884",
     "status": "completed"
    },
    "tags": []
   },
   "outputs": [],
   "source": [
    "# Set this to True if you want to run this template directly\n",
    "STANDALONE = False\n",
    "if STANDALONE:\n",
    "    print(\"parameters not injected, running with standalone_parameters\")\n",
    "    parameters = standalone_parameters\n",
    "\n",
    "if not 'parameters' in locals() and not 'parameters' in globals():\n",
    "    raise Exception(\"Parameter injection failed\")\n",
    "\n",
    "#Use an easy dict for all the parameters\n",
    "p = EasyDict(parameters)\n",
    "\n",
    "if \"x_shape\" not in p:\n",
    "    p.x_shape = [2,256] # Default to this if we dont supply x_shape\n",
    "\n",
    "\n",
    "supplied_keys = set(p.keys())\n",
    "\n",
    "if  supplied_keys != required_parameters:\n",
    "    print(\"Parameters are incorrect\")\n",
    "    if len(supplied_keys - required_parameters)>0: print(\"Shouldn't have:\", str(supplied_keys - required_parameters))\n",
    "    if len(required_parameters - supplied_keys)>0: print(\"Need to have:\", str(required_parameters - supplied_keys))\n",
    "    raise RuntimeError(\"Parameters are incorrect\")"
   ]
  },
  {
   "cell_type": "code",
   "execution_count": 6,
   "id": "3a028d58",
   "metadata": {
    "execution": {
     "iopub.execute_input": "2022-03-22T06:55:12.715887Z",
     "iopub.status.busy": "2022-03-22T06:55:12.715024Z",
     "iopub.status.idle": "2022-03-22T06:55:12.737182Z",
     "shell.execute_reply": "2022-03-22T06:55:12.736842Z"
    },
    "papermill": {
     "duration": 0.044448,
     "end_time": "2022-03-22T06:55:12.737259",
     "exception": false,
     "start_time": "2022-03-22T06:55:12.692811",
     "status": "completed"
    },
    "tags": []
   },
   "outputs": [],
   "source": [
    "###################################\n",
    "# Set the RNGs and make it all deterministic\n",
    "###################################\n",
    "np.random.seed(p.seed)\n",
    "random.seed(p.seed)\n",
    "torch.manual_seed(p.seed)\n",
    "\n",
    "torch.use_deterministic_algorithms(True) "
   ]
  },
  {
   "cell_type": "code",
   "execution_count": 7,
   "id": "b691acf6",
   "metadata": {
    "execution": {
     "iopub.execute_input": "2022-03-22T06:55:12.781393Z",
     "iopub.status.busy": "2022-03-22T06:55:12.780852Z",
     "iopub.status.idle": "2022-03-22T06:55:12.798340Z",
     "shell.execute_reply": "2022-03-22T06:55:12.798009Z"
    },
    "papermill": {
     "duration": 0.039265,
     "end_time": "2022-03-22T06:55:12.798414",
     "exception": false,
     "start_time": "2022-03-22T06:55:12.759149",
     "status": "completed"
    },
    "tags": []
   },
   "outputs": [],
   "source": [
    "###########################################\n",
    "# The stratified datasets honor this\n",
    "###########################################\n",
    "torch.set_default_dtype(eval(p.torch_default_dtype))"
   ]
  },
  {
   "cell_type": "code",
   "execution_count": 8,
   "id": "b5fba671",
   "metadata": {
    "execution": {
     "iopub.execute_input": "2022-03-22T06:55:12.839775Z",
     "iopub.status.busy": "2022-03-22T06:55:12.839194Z",
     "iopub.status.idle": "2022-03-22T06:55:12.893425Z",
     "shell.execute_reply": "2022-03-22T06:55:12.893030Z"
    },
    "papermill": {
     "duration": 0.075812,
     "end_time": "2022-03-22T06:55:12.893534",
     "exception": false,
     "start_time": "2022-03-22T06:55:12.817722",
     "status": "completed"
    },
    "tags": []
   },
   "outputs": [],
   "source": [
    "###################################\n",
    "# Build the network(s)\n",
    "# Note: It's critical to do this AFTER setting the RNG\n",
    "###################################\n",
    "x_net = build_sequential(p.x_net)"
   ]
  },
  {
   "cell_type": "code",
   "execution_count": 9,
   "id": "5d7e61cc",
   "metadata": {
    "execution": {
     "iopub.execute_input": "2022-03-22T06:55:12.936808Z",
     "iopub.status.busy": "2022-03-22T06:55:12.936175Z",
     "iopub.status.idle": "2022-03-22T06:55:12.960132Z",
     "shell.execute_reply": "2022-03-22T06:55:12.959797Z"
    },
    "papermill": {
     "duration": 0.046151,
     "end_time": "2022-03-22T06:55:12.960209",
     "exception": false,
     "start_time": "2022-03-22T06:55:12.914058",
     "status": "completed"
    },
    "tags": []
   },
   "outputs": [],
   "source": [
    "start_time_secs = time.time()"
   ]
  },
  {
   "cell_type": "code",
   "execution_count": 10,
   "id": "c6b67dfd",
   "metadata": {
    "execution": {
     "iopub.execute_input": "2022-03-22T06:55:13.002866Z",
     "iopub.status.busy": "2022-03-22T06:55:13.002315Z",
     "iopub.status.idle": "2022-03-22T06:55:13.020837Z",
     "shell.execute_reply": "2022-03-22T06:55:13.020489Z"
    },
    "papermill": {
     "duration": 0.041004,
     "end_time": "2022-03-22T06:55:13.020912",
     "exception": false,
     "start_time": "2022-03-22T06:55:12.979908",
     "status": "completed"
    },
    "tags": []
   },
   "outputs": [],
   "source": [
    "p.domains_source = []\n",
    "p.domains_target = []\n",
    "\n",
    "\n",
    "train_original_source = []\n",
    "val_original_source   = []\n",
    "test_original_source  = []\n",
    "\n",
    "train_original_target = []\n",
    "val_original_target   = []\n",
    "test_original_target  = []"
   ]
  },
  {
   "cell_type": "code",
   "execution_count": 11,
   "id": "e3d9c3d3",
   "metadata": {
    "execution": {
     "iopub.execute_input": "2022-03-22T06:55:13.064907Z",
     "iopub.status.busy": "2022-03-22T06:55:13.064356Z",
     "iopub.status.idle": "2022-03-22T06:55:13.083562Z",
     "shell.execute_reply": "2022-03-22T06:55:13.083206Z"
    },
    "papermill": {
     "duration": 0.040955,
     "end_time": "2022-03-22T06:55:13.083638",
     "exception": false,
     "start_time": "2022-03-22T06:55:13.042683",
     "status": "completed"
    },
    "tags": []
   },
   "outputs": [],
   "source": [
    "# global_x_transform_func = lambda x: normalize(x.to(torch.get_default_dtype()), \"unit_power\") # unit_power, unit_mag\n",
    "# global_x_transform_func = lambda x: normalize(x, \"unit_power\") # unit_power, unit_mag"
   ]
  },
  {
   "cell_type": "code",
   "execution_count": 12,
   "id": "acb78fd2",
   "metadata": {
    "execution": {
     "iopub.execute_input": "2022-03-22T06:55:13.129878Z",
     "iopub.status.busy": "2022-03-22T06:55:13.129302Z",
     "iopub.status.idle": "2022-03-22T06:55:13.149455Z",
     "shell.execute_reply": "2022-03-22T06:55:13.149100Z"
    },
    "papermill": {
     "duration": 0.046236,
     "end_time": "2022-03-22T06:55:13.149546",
     "exception": false,
     "start_time": "2022-03-22T06:55:13.103310",
     "status": "completed"
    },
    "tags": []
   },
   "outputs": [],
   "source": [
    "def add_dataset(\n",
    "    labels,\n",
    "    domains,\n",
    "    pickle_path,\n",
    "    x_transforms,\n",
    "    episode_transforms,\n",
    "    domain_prefix,\n",
    "    num_examples_per_domain_per_label,\n",
    "    source_or_target_dataset:str,\n",
    "    iterator_seed=p.seed,\n",
    "    dataset_seed=p.dataset_seed,\n",
    "    n_shot=p.n_shot,\n",
    "    n_way=p.n_way,\n",
    "    n_query=p.n_query,\n",
    "    train_val_test_k_factors=(p.train_k_factor,p.val_k_factor,p.test_k_factor),\n",
    "):\n",
    "   \n",
    "    if x_transforms == []: x_transform = None\n",
    "    else: x_transform = get_chained_transform(x_transforms)\n",
    "    \n",
    "    if episode_transforms == []: episode_transform = None\n",
    "    else: raise Exception(\"episode_transforms not implemented\")\n",
    "    \n",
    "    episode_transform = lambda tup, _prefix=domain_prefix: (_prefix + str(tup[0]), tup[1])\n",
    "\n",
    "\n",
    "    eaf = Episodic_Accessor_Factory(\n",
    "        labels=labels,\n",
    "        domains=domains,\n",
    "        num_examples_per_domain_per_label=num_examples_per_domain_per_label,\n",
    "        iterator_seed=iterator_seed,\n",
    "        dataset_seed=dataset_seed,\n",
    "        n_shot=n_shot,\n",
    "        n_way=n_way,\n",
    "        n_query=n_query,\n",
    "        train_val_test_k_factors=train_val_test_k_factors,\n",
    "        pickle_path=pickle_path,\n",
    "        x_transform_func=x_transform,\n",
    "    )\n",
    "\n",
    "    train, val, test = eaf.get_train(), eaf.get_val(), eaf.get_test()\n",
    "    train = Lazy_Iterable_Wrapper(train, episode_transform)\n",
    "    val = Lazy_Iterable_Wrapper(val, episode_transform)\n",
    "    test = Lazy_Iterable_Wrapper(test, episode_transform)\n",
    "\n",
    "    if source_or_target_dataset==\"source\":\n",
    "        train_original_source.append(train)\n",
    "        val_original_source.append(val)\n",
    "        test_original_source.append(test)\n",
    "\n",
    "        p.domains_source.extend(\n",
    "            [domain_prefix + str(u) for u in domains]\n",
    "        )\n",
    "    elif source_or_target_dataset==\"target\":\n",
    "        train_original_target.append(train)\n",
    "        val_original_target.append(val)\n",
    "        test_original_target.append(test)\n",
    "        p.domains_target.extend(\n",
    "            [domain_prefix + str(u) for u in domains]\n",
    "        )\n",
    "    else:\n",
    "        raise Exception(f\"invalid source_or_target_dataset: {source_or_target_dataset}\")\n",
    "    "
   ]
  },
  {
   "cell_type": "code",
   "execution_count": 13,
   "id": "fe266617",
   "metadata": {
    "execution": {
     "iopub.execute_input": "2022-03-22T06:55:13.193021Z",
     "iopub.status.busy": "2022-03-22T06:55:13.192311Z",
     "iopub.status.idle": "2022-03-22T06:56:00.307997Z",
     "shell.execute_reply": "2022-03-22T06:56:00.308657Z"
    },
    "papermill": {
     "duration": 47.138874,
     "end_time": "2022-03-22T06:56:00.308887",
     "exception": false,
     "start_time": "2022-03-22T06:55:13.170013",
     "status": "completed"
    },
    "tags": []
   },
   "outputs": [],
   "source": [
    "for ds in p.datasets:\n",
    "    add_dataset(**ds)"
   ]
  },
  {
   "cell_type": "code",
   "execution_count": 14,
   "id": "b90d65ac",
   "metadata": {
    "execution": {
     "iopub.execute_input": "2022-03-22T06:56:00.357996Z",
     "iopub.status.busy": "2022-03-22T06:56:00.357618Z",
     "iopub.status.idle": "2022-03-22T06:56:00.379954Z",
     "shell.execute_reply": "2022-03-22T06:56:00.379212Z"
    },
    "papermill": {
     "duration": 0.045678,
     "end_time": "2022-03-22T06:56:00.380127",
     "exception": false,
     "start_time": "2022-03-22T06:56:00.334449",
     "status": "completed"
    },
    "tags": []
   },
   "outputs": [],
   "source": [
    "# from steves_utils.CORES.utils import (\n",
    "#     ALL_NODES,\n",
    "#     ALL_NODES_MINIMUM_1000_EXAMPLES,\n",
    "#     ALL_DAYS\n",
    "# )\n",
    "\n",
    "# add_dataset(\n",
    "#     labels=ALL_NODES,\n",
    "#     domains = ALL_DAYS,\n",
    "#     num_examples_per_domain_per_label=100,\n",
    "#     pickle_path=os.path.join(get_datasets_base_path(), \"cores.stratified_ds.2022A.pkl\"),\n",
    "#     source_or_target_dataset=\"target\",\n",
    "#     x_transform_func=global_x_transform_func,\n",
    "#     domain_modifier=lambda u: f\"cores_{u}\"\n",
    "# )"
   ]
  },
  {
   "cell_type": "code",
   "execution_count": 15,
   "id": "76db484d",
   "metadata": {
    "execution": {
     "iopub.execute_input": "2022-03-22T06:56:00.432206Z",
     "iopub.status.busy": "2022-03-22T06:56:00.431745Z",
     "iopub.status.idle": "2022-03-22T06:56:00.455068Z",
     "shell.execute_reply": "2022-03-22T06:56:00.454359Z"
    },
    "papermill": {
     "duration": 0.047576,
     "end_time": "2022-03-22T06:56:00.455224",
     "exception": false,
     "start_time": "2022-03-22T06:56:00.407648",
     "status": "completed"
    },
    "tags": []
   },
   "outputs": [],
   "source": [
    "# from steves_utils.ORACLE.utils_v2 import (\n",
    "#     ALL_DISTANCES_FEET,\n",
    "#     ALL_RUNS,\n",
    "#     ALL_SERIAL_NUMBERS,\n",
    "# )\n",
    "\n",
    "\n",
    "# add_dataset(\n",
    "#     labels=ALL_SERIAL_NUMBERS,\n",
    "#     domains = list(set(ALL_DISTANCES_FEET) - {2,62}),\n",
    "#     num_examples_per_domain_per_label=100,\n",
    "#     pickle_path=os.path.join(get_datasets_base_path(), \"oracle.Run2_framed_2000Examples_stratified_ds.2022A.pkl\"),\n",
    "#     source_or_target_dataset=\"source\",\n",
    "#     x_transform_func=global_x_transform_func,\n",
    "#     domain_modifier=lambda u: f\"oracle1_{u}\"\n",
    "# )\n"
   ]
  },
  {
   "cell_type": "code",
   "execution_count": 16,
   "id": "97dea9d2",
   "metadata": {
    "execution": {
     "iopub.execute_input": "2022-03-22T06:56:00.510576Z",
     "iopub.status.busy": "2022-03-22T06:56:00.510201Z",
     "iopub.status.idle": "2022-03-22T06:56:00.532348Z",
     "shell.execute_reply": "2022-03-22T06:56:00.531627Z"
    },
    "papermill": {
     "duration": 0.046853,
     "end_time": "2022-03-22T06:56:00.532506",
     "exception": false,
     "start_time": "2022-03-22T06:56:00.485653",
     "status": "completed"
    },
    "tags": []
   },
   "outputs": [],
   "source": [
    "# from steves_utils.ORACLE.utils_v2 import (\n",
    "#     ALL_DISTANCES_FEET,\n",
    "#     ALL_RUNS,\n",
    "#     ALL_SERIAL_NUMBERS,\n",
    "# )\n",
    "\n",
    "\n",
    "# add_dataset(\n",
    "#     labels=ALL_SERIAL_NUMBERS,\n",
    "#     domains = list(set(ALL_DISTANCES_FEET) - {2,62,56}),\n",
    "#     num_examples_per_domain_per_label=100,\n",
    "#     pickle_path=os.path.join(get_datasets_base_path(), \"oracle.Run2_framed_2000Examples_stratified_ds.2022A.pkl\"),\n",
    "#     source_or_target_dataset=\"source\",\n",
    "#     x_transform_func=global_x_transform_func,\n",
    "#     domain_modifier=lambda u: f\"oracle2_{u}\"\n",
    "# )"
   ]
  },
  {
   "cell_type": "code",
   "execution_count": 17,
   "id": "6f289866",
   "metadata": {
    "execution": {
     "iopub.execute_input": "2022-03-22T06:56:00.584631Z",
     "iopub.status.busy": "2022-03-22T06:56:00.584064Z",
     "iopub.status.idle": "2022-03-22T06:56:00.607427Z",
     "shell.execute_reply": "2022-03-22T06:56:00.606614Z"
    },
    "papermill": {
     "duration": 0.047575,
     "end_time": "2022-03-22T06:56:00.607664",
     "exception": false,
     "start_time": "2022-03-22T06:56:00.560089",
     "status": "completed"
    },
    "tags": []
   },
   "outputs": [],
   "source": [
    "# add_dataset(\n",
    "#     labels=list(range(19)),\n",
    "#     domains = [0,1,2],\n",
    "#     num_examples_per_domain_per_label=100,\n",
    "#     pickle_path=os.path.join(get_datasets_base_path(), \"metehan.stratified_ds.2022A.pkl\"),\n",
    "#     source_or_target_dataset=\"target\",\n",
    "#     x_transform_func=global_x_transform_func,\n",
    "#     domain_modifier=lambda u: f\"met_{u}\"\n",
    "# )"
   ]
  },
  {
   "cell_type": "code",
   "execution_count": 18,
   "id": "86a863c3",
   "metadata": {
    "execution": {
     "iopub.execute_input": "2022-03-22T06:56:00.657982Z",
     "iopub.status.busy": "2022-03-22T06:56:00.657603Z",
     "iopub.status.idle": "2022-03-22T06:56:00.674354Z",
     "shell.execute_reply": "2022-03-22T06:56:00.673626Z"
    },
    "papermill": {
     "duration": 0.040199,
     "end_time": "2022-03-22T06:56:00.674513",
     "exception": false,
     "start_time": "2022-03-22T06:56:00.634314",
     "status": "completed"
    },
    "tags": []
   },
   "outputs": [],
   "source": [
    "# # from steves_utils.wisig.utils import (\n",
    "# #     ALL_NODES_MINIMUM_100_EXAMPLES,\n",
    "# #     ALL_NODES_MINIMUM_500_EXAMPLES,\n",
    "# #     ALL_NODES_MINIMUM_1000_EXAMPLES,\n",
    "# #     ALL_DAYS\n",
    "# # )\n",
    "\n",
    "# import steves_utils.wisig.utils as wisig\n",
    "\n",
    "\n",
    "# add_dataset(\n",
    "#     labels=wisig.ALL_NODES_MINIMUM_100_EXAMPLES,\n",
    "#     domains = wisig.ALL_DAYS,\n",
    "#     num_examples_per_domain_per_label=100,\n",
    "#     pickle_path=os.path.join(get_datasets_base_path(), \"wisig.node3-19.stratified_ds.2022A.pkl\"),\n",
    "#     source_or_target_dataset=\"target\",\n",
    "#     x_transform_func=global_x_transform_func,\n",
    "#     domain_modifier=lambda u: f\"wisig_{u}\"\n",
    "# )"
   ]
  },
  {
   "cell_type": "code",
   "execution_count": 19,
   "id": "fd5442bc",
   "metadata": {
    "execution": {
     "iopub.execute_input": "2022-03-22T06:56:00.727440Z",
     "iopub.status.busy": "2022-03-22T06:56:00.727057Z",
     "iopub.status.idle": "2022-03-22T06:56:00.744944Z",
     "shell.execute_reply": "2022-03-22T06:56:00.744232Z"
    },
    "papermill": {
     "duration": 0.04375,
     "end_time": "2022-03-22T06:56:00.745099",
     "exception": false,
     "start_time": "2022-03-22T06:56:00.701349",
     "status": "completed"
    },
    "tags": []
   },
   "outputs": [],
   "source": [
    "###################################\n",
    "# Build the dataset\n",
    "###################################\n",
    "train_original_source = Iterable_Aggregator(train_original_source, p.seed)\n",
    "val_original_source = Iterable_Aggregator(val_original_source, p.seed)\n",
    "test_original_source = Iterable_Aggregator(test_original_source, p.seed)\n",
    "\n",
    "\n",
    "train_original_target = Iterable_Aggregator(train_original_target, p.seed)\n",
    "val_original_target = Iterable_Aggregator(val_original_target, p.seed)\n",
    "test_original_target = Iterable_Aggregator(test_original_target, p.seed)\n",
    "\n",
    "# For CNN We only use X and Y. And we only train on the source.\n",
    "# Properly form the data using a transform lambda and Lazy_Iterable_Wrapper. Finally wrap them in a dataloader\n",
    "\n",
    "transform_lambda = lambda ex: ex[1] # Original is (<domain>, <episode>) so we strip down to episode only\n",
    "\n",
    "train_processed_source = Lazy_Iterable_Wrapper(train_original_source, transform_lambda)\n",
    "val_processed_source   = Lazy_Iterable_Wrapper(val_original_source, transform_lambda)\n",
    "test_processed_source  = Lazy_Iterable_Wrapper(test_original_source, transform_lambda)\n",
    "\n",
    "train_processed_target = Lazy_Iterable_Wrapper(train_original_target, transform_lambda)\n",
    "val_processed_target   = Lazy_Iterable_Wrapper(val_original_target, transform_lambda)\n",
    "test_processed_target  = Lazy_Iterable_Wrapper(test_original_target, transform_lambda)\n",
    "\n",
    "datasets = EasyDict({\n",
    "    \"source\": {\n",
    "        \"original\": {\"train\":train_original_source, \"val\":val_original_source, \"test\":test_original_source},\n",
    "        \"processed\": {\"train\":train_processed_source, \"val\":val_processed_source, \"test\":test_processed_source}\n",
    "    },\n",
    "    \"target\": {\n",
    "        \"original\": {\"train\":train_original_target, \"val\":val_original_target, \"test\":test_original_target},\n",
    "        \"processed\": {\"train\":train_processed_target, \"val\":val_processed_target, \"test\":test_processed_target}\n",
    "    },\n",
    "})"
   ]
  },
  {
   "cell_type": "code",
   "execution_count": 20,
   "id": "5b3c01fc",
   "metadata": {
    "execution": {
     "iopub.execute_input": "2022-03-22T06:56:00.799071Z",
     "iopub.status.busy": "2022-03-22T06:56:00.798478Z",
     "iopub.status.idle": "2022-03-22T06:56:18.036920Z",
     "shell.execute_reply": "2022-03-22T06:56:18.037616Z"
    },
    "papermill": {
     "duration": 17.263463,
     "end_time": "2022-03-22T06:56:18.037838",
     "exception": false,
     "start_time": "2022-03-22T06:56:00.774375",
     "status": "completed"
    },
    "tags": []
   },
   "outputs": [
    {
     "name": "stdout",
     "output_type": "stream",
     "text": [
      "{'CORES_5', 'CORES_4', 'CORES_2', 'CORES_1', 'CORES_3'}\n"
     ]
    },
    {
     "name": "stdout",
     "output_type": "stream",
     "text": [
      "{'ORACLE.run1_14', 'ORACLE.run1_20', 'ORACLE.run1_8', 'ORACLE.run1_38', 'ORACLE.run1_32', 'ORACLE.run1_50', 'ORACLE.run1_44', 'ORACLE.run1_26'}\n"
     ]
    },
    {
     "name": "stdout",
     "output_type": "stream",
     "text": [
      "tensor([[[ 0.2082, -0.8446, -1.3343,  ...,  0.7883,  0.5522, -0.6271],\n",
      "         [ 0.4851,  0.5243, -0.0243,  ...,  0.7454,  0.5987,  0.2474]],\n",
      "\n",
      "        [[ 0.3609,  0.0853, -1.0298,  ...,  0.6114,  1.1085,  0.1838],\n",
      "         [ 0.1296,  0.5863,  0.7165,  ...,  0.3027,  0.4554,  0.3047]],\n",
      "\n",
      "        [[-0.4983, -0.1526,  0.6172,  ..., -0.9906, -0.9773,  0.0357],\n",
      "         [-0.0119, -0.7586, -1.1723,  ...,  0.1665,  0.1936, -0.4857]],\n",
      "\n",
      "        ...,\n",
      "\n",
      "        [[ 0.0802,  0.0972,  0.2467,  ...,  0.6003,  0.1337,  0.4047],\n",
      "         [-0.0085, -0.0207,  0.6246,  ...,  0.5541,  0.2674, -0.1398]],\n",
      "\n",
      "        [[-0.4455, -0.6875,  1.0210,  ..., -0.1156,  0.3203,  1.0065],\n",
      "         [ 0.1637, -0.8958, -0.7778,  ...,  0.3949, -0.0554, -0.6622]],\n",
      "\n",
      "        [[-0.7660,  0.1212,  1.3623,  ...,  0.0036,  0.7636,  0.8908],\n",
      "         [-0.2703, -1.1672,  0.2472,  ...,  0.3684, -0.5866, -0.0800]]])\n"
     ]
    }
   ],
   "source": [
    "from steves_utils.transforms import get_average_magnitude, get_average_power\n",
    "\n",
    "print(set([u for u,_ in val_original_source]))\n",
    "print(set([u for u,_ in val_original_target]))\n",
    "\n",
    "s_x, s_y, q_x, q_y, _ = next(iter(train_processed_source))\n",
    "print(s_x)\n",
    "\n",
    "# for ds in [\n",
    "#     train_processed_source,\n",
    "#     val_processed_source,\n",
    "#     test_processed_source,\n",
    "#     train_processed_target,\n",
    "#     val_processed_target,\n",
    "#     test_processed_target\n",
    "# ]:\n",
    "#     for s_x, s_y, q_x, q_y, _ in ds:\n",
    "#         for X in (s_x, q_x):\n",
    "#             for x in X:\n",
    "#                 assert np.isclose(get_average_magnitude(x.numpy()), 1.0)\n",
    "#                 assert np.isclose(get_average_power(x.numpy()), 1.0)\n",
    "                "
   ]
  },
  {
   "cell_type": "code",
   "execution_count": 21,
   "id": "bbdacba1",
   "metadata": {
    "execution": {
     "iopub.execute_input": "2022-03-22T06:56:18.090744Z",
     "iopub.status.busy": "2022-03-22T06:56:18.090183Z",
     "iopub.status.idle": "2022-03-22T06:56:18.332308Z",
     "shell.execute_reply": "2022-03-22T06:56:18.332654Z"
    },
    "papermill": {
     "duration": 0.26886,
     "end_time": "2022-03-22T06:56:18.332768",
     "exception": false,
     "start_time": "2022-03-22T06:56:18.063908",
     "status": "completed"
    },
    "tags": []
   },
   "outputs": [
    {
     "name": "stdout",
     "output_type": "stream",
     "text": [
      "(2, 256)\n"
     ]
    }
   ],
   "source": [
    "###################################\n",
    "# Build the model\n",
    "###################################\n",
    "# easfsl only wants a tuple for the shape\n",
    "model = Steves_Prototypical_Network(x_net, device=p.device, x_shape=tuple(p.x_shape))\n",
    "optimizer = Adam(params=model.parameters(), lr=p.lr)"
   ]
  },
  {
   "cell_type": "code",
   "execution_count": 22,
   "id": "22b39ac5",
   "metadata": {
    "execution": {
     "iopub.execute_input": "2022-03-22T06:56:18.383461Z",
     "iopub.status.busy": "2022-03-22T06:56:18.383086Z",
     "iopub.status.idle": "2022-03-22T07:31:02.308359Z",
     "shell.execute_reply": "2022-03-22T07:31:02.308017Z"
    },
    "papermill": {
     "duration": 2083.953044,
     "end_time": "2022-03-22T07:31:02.308441",
     "exception": false,
     "start_time": "2022-03-22T06:56:18.355397",
     "status": "completed"
    },
    "tags": []
   },
   "outputs": [
    {
     "name": "stdout",
     "output_type": "stream",
     "text": [
      "epoch: 1, [batch: 1 / 6315], examples_per_second: 32.9391, train_label_loss: 2.6458, \n"
     ]
    },
    {
     "name": "stdout",
     "output_type": "stream",
     "text": [
      "epoch: 1, [batch: 632 / 6315], examples_per_second: 2291.4005, train_label_loss: 0.0081, \n"
     ]
    },
    {
     "name": "stdout",
     "output_type": "stream",
     "text": [
      "epoch: 1, [batch: 1263 / 6315], examples_per_second: 2322.5250, train_label_loss: 0.0298, \n"
     ]
    },
    {
     "name": "stdout",
     "output_type": "stream",
     "text": [
      "epoch: 1, [batch: 1895 / 6315], examples_per_second: 2304.4347, train_label_loss: 0.0002, \n"
     ]
    },
    {
     "name": "stdout",
     "output_type": "stream",
     "text": [
      "epoch: 1, [batch: 2526 / 6315], examples_per_second: 2297.1173, train_label_loss: 0.0006, \n"
     ]
    },
    {
     "name": "stdout",
     "output_type": "stream",
     "text": [
      "epoch: 1, [batch: 3158 / 6315], examples_per_second: 2404.5582, train_label_loss: 0.0002, \n"
     ]
    },
    {
     "name": "stdout",
     "output_type": "stream",
     "text": [
      "epoch: 1, [batch: 3789 / 6315], examples_per_second: 2591.7338, train_label_loss: 0.0017, \n"
     ]
    },
    {
     "name": "stdout",
     "output_type": "stream",
     "text": [
      "epoch: 1, [batch: 4420 / 6315], examples_per_second: 2545.7295, train_label_loss: 0.0103, \n"
     ]
    },
    {
     "name": "stdout",
     "output_type": "stream",
     "text": [
      "epoch: 1, [batch: 5052 / 6315], examples_per_second: 2538.4012, train_label_loss: 0.0000, \n"
     ]
    },
    {
     "name": "stdout",
     "output_type": "stream",
     "text": [
      "epoch: 1, [batch: 5683 / 6315], examples_per_second: 2314.7037, train_label_loss: 0.0004, \n"
     ]
    },
    {
     "name": "stdout",
     "output_type": "stream",
     "text": [
      "=============================================================\n",
      "epoch: 1, source_val_acc_label: 0.9982, target_val_acc_label: 0.1322, source_val_label_loss: 0.0082, target_val_label_loss: 2.7272, \n",
      "=============================================================\n"
     ]
    },
    {
     "name": "stdout",
     "output_type": "stream",
     "text": [
      "New best\n"
     ]
    },
    {
     "name": "stdout",
     "output_type": "stream",
     "text": [
      "epoch: 2, [batch: 1 / 6307], examples_per_second: 2.0708, train_label_loss: 0.0020, \n"
     ]
    },
    {
     "name": "stdout",
     "output_type": "stream",
     "text": [
      "epoch: 2, [batch: 631 / 6307], examples_per_second: 2262.3089, train_label_loss: 0.0001, \n"
     ]
    },
    {
     "name": "stdout",
     "output_type": "stream",
     "text": [
      "epoch: 2, [batch: 1262 / 6307], examples_per_second: 2316.7718, train_label_loss: 0.0000, \n"
     ]
    },
    {
     "name": "stdout",
     "output_type": "stream",
     "text": [
      "epoch: 2, [batch: 1892 / 6307], examples_per_second: 2310.0949, train_label_loss: 0.0000, \n"
     ]
    },
    {
     "name": "stdout",
     "output_type": "stream",
     "text": [
      "epoch: 2, [batch: 2523 / 6307], examples_per_second: 2301.7732, train_label_loss: 0.0005, \n"
     ]
    },
    {
     "name": "stdout",
     "output_type": "stream",
     "text": [
      "epoch: 2, [batch: 3154 / 6307], examples_per_second: 2312.6063, train_label_loss: 0.0000, \n"
     ]
    },
    {
     "name": "stdout",
     "output_type": "stream",
     "text": [
      "epoch: 2, [batch: 3784 / 6307], examples_per_second: 207.5093, train_label_loss: 0.0000, \n"
     ]
    },
    {
     "name": "stdout",
     "output_type": "stream",
     "text": [
      "epoch: 2, [batch: 4415 / 6307], examples_per_second: 3659.8914, train_label_loss: 0.0000, \n"
     ]
    },
    {
     "name": "stdout",
     "output_type": "stream",
     "text": [
      "epoch: 2, [batch: 5045 / 6307], examples_per_second: 3839.8372, train_label_loss: 0.0002, \n"
     ]
    },
    {
     "name": "stdout",
     "output_type": "stream",
     "text": [
      "epoch: 2, [batch: 5676 / 6307], examples_per_second: 3263.2036, train_label_loss: 0.0000, \n"
     ]
    },
    {
     "name": "stdout",
     "output_type": "stream",
     "text": [
      "=============================================================\n",
      "epoch: 2, source_val_acc_label: 0.9986, target_val_acc_label: 0.1417, source_val_label_loss: 0.0115, target_val_label_loss: 3.0386, \n",
      "=============================================================\n"
     ]
    },
    {
     "name": "stdout",
     "output_type": "stream",
     "text": [
      "New best\n"
     ]
    },
    {
     "name": "stdout",
     "output_type": "stream",
     "text": [
      "epoch: 3, [batch: 1 / 6326], examples_per_second: 3.3531, train_label_loss: 0.0000, \n"
     ]
    },
    {
     "name": "stdout",
     "output_type": "stream",
     "text": [
      "epoch: 3, [batch: 633 / 6326], examples_per_second: 3833.7764, train_label_loss: 0.0000, \n"
     ]
    },
    {
     "name": "stdout",
     "output_type": "stream",
     "text": [
      "epoch: 3, [batch: 1266 / 6326], examples_per_second: 3979.7641, train_label_loss: 0.0000, \n"
     ]
    },
    {
     "name": "stdout",
     "output_type": "stream",
     "text": [
      "epoch: 3, [batch: 1898 / 6326], examples_per_second: 3071.2198, train_label_loss: 0.0001, \n"
     ]
    },
    {
     "name": "stdout",
     "output_type": "stream",
     "text": [
      "epoch: 3, [batch: 2531 / 6326], examples_per_second: 2973.7981, train_label_loss: 0.0000, \n"
     ]
    },
    {
     "name": "stdout",
     "output_type": "stream",
     "text": [
      "epoch: 3, [batch: 3163 / 6326], examples_per_second: 3023.1544, train_label_loss: 0.0000, \n"
     ]
    },
    {
     "name": "stdout",
     "output_type": "stream",
     "text": [
      "epoch: 3, [batch: 3796 / 6326], examples_per_second: 3072.4982, train_label_loss: 0.0000, \n"
     ]
    },
    {
     "name": "stdout",
     "output_type": "stream",
     "text": [
      "epoch: 3, [batch: 4428 / 6326], examples_per_second: 3381.4259, train_label_loss: 0.0000, \n"
     ]
    },
    {
     "name": "stdout",
     "output_type": "stream",
     "text": [
      "epoch: 3, [batch: 5061 / 6326], examples_per_second: 3396.1067, train_label_loss: 0.0008, \n"
     ]
    },
    {
     "name": "stdout",
     "output_type": "stream",
     "text": [
      "epoch: 3, [batch: 5693 / 6326], examples_per_second: 3387.0788, train_label_loss: 0.0000, \n"
     ]
    },
    {
     "name": "stdout",
     "output_type": "stream",
     "text": [
      "=============================================================\n",
      "epoch: 3, source_val_acc_label: 0.9994, target_val_acc_label: 0.1644, source_val_label_loss: 0.0090, target_val_label_loss: 3.3678, \n",
      "=============================================================\n"
     ]
    },
    {
     "name": "stdout",
     "output_type": "stream",
     "text": [
      "New best\n"
     ]
    },
    {
     "name": "stdout",
     "output_type": "stream",
     "text": [
      "epoch: 4, [batch: 1 / 6302], examples_per_second: 2.8813, train_label_loss: 0.0002, \n"
     ]
    },
    {
     "name": "stdout",
     "output_type": "stream",
     "text": [
      "epoch: 4, [batch: 631 / 6302], examples_per_second: 2915.4364, train_label_loss: 0.0000, \n"
     ]
    },
    {
     "name": "stdout",
     "output_type": "stream",
     "text": [
      "epoch: 4, [batch: 1261 / 6302], examples_per_second: 2970.4296, train_label_loss: 0.1168, \n"
     ]
    },
    {
     "name": "stdout",
     "output_type": "stream",
     "text": [
      "epoch: 4, [batch: 1891 / 6302], examples_per_second: 3015.1904, train_label_loss: 0.0036, \n"
     ]
    },
    {
     "name": "stdout",
     "output_type": "stream",
     "text": [
      "epoch: 4, [batch: 2521 / 6302], examples_per_second: 2975.2407, train_label_loss: 0.0000, \n"
     ]
    },
    {
     "name": "stdout",
     "output_type": "stream",
     "text": [
      "epoch: 4, [batch: 3151 / 6302], examples_per_second: 2992.3854, train_label_loss: 0.0000, \n"
     ]
    },
    {
     "name": "stdout",
     "output_type": "stream",
     "text": [
      "epoch: 4, [batch: 3781 / 6302], examples_per_second: 3001.3783, train_label_loss: 0.0000, \n"
     ]
    },
    {
     "name": "stdout",
     "output_type": "stream",
     "text": [
      "epoch: 4, [batch: 4411 / 6302], examples_per_second: 3145.6223, train_label_loss: 0.0000, \n"
     ]
    },
    {
     "name": "stdout",
     "output_type": "stream",
     "text": [
      "epoch: 4, [batch: 5041 / 6302], examples_per_second: 3501.3418, train_label_loss: 0.0000, \n"
     ]
    },
    {
     "name": "stdout",
     "output_type": "stream",
     "text": [
      "epoch: 4, [batch: 5671 / 6302], examples_per_second: 3514.5838, train_label_loss: 0.0000, \n"
     ]
    },
    {
     "name": "stdout",
     "output_type": "stream",
     "text": [
      "=============================================================\n",
      "epoch: 4, source_val_acc_label: 0.9988, target_val_acc_label: 0.1609, source_val_label_loss: 0.0124, target_val_label_loss: 3.4478, \n",
      "=============================================================\n"
     ]
    },
    {
     "name": "stdout",
     "output_type": "stream",
     "text": [
      "epoch: 5, [batch: 1 / 6324], examples_per_second: 2.9182, train_label_loss: 0.0000, \n"
     ]
    },
    {
     "name": "stdout",
     "output_type": "stream",
     "text": [
      "epoch: 5, [batch: 633 / 6324], examples_per_second: 2979.0739, train_label_loss: 0.0000, \n"
     ]
    },
    {
     "name": "stdout",
     "output_type": "stream",
     "text": [
      "epoch: 5, [batch: 1265 / 6324], examples_per_second: 2959.6774, train_label_loss: 0.0076, \n"
     ]
    },
    {
     "name": "stdout",
     "output_type": "stream",
     "text": [
      "epoch: 5, [batch: 1897 / 6324], examples_per_second: 2950.3487, train_label_loss: 0.0000, \n"
     ]
    },
    {
     "name": "stdout",
     "output_type": "stream",
     "text": [
      "epoch: 5, [batch: 2530 / 6324], examples_per_second: 2968.6575, train_label_loss: 0.0000, \n"
     ]
    },
    {
     "name": "stdout",
     "output_type": "stream",
     "text": [
      "epoch: 5, [batch: 3162 / 6324], examples_per_second: 2931.5796, train_label_loss: 0.0043, \n"
     ]
    },
    {
     "name": "stdout",
     "output_type": "stream",
     "text": [
      "epoch: 5, [batch: 3794 / 6324], examples_per_second: 2981.7223, train_label_loss: 0.0000, \n"
     ]
    },
    {
     "name": "stdout",
     "output_type": "stream",
     "text": [
      "epoch: 5, [batch: 4427 / 6324], examples_per_second: 2975.3809, train_label_loss: 0.0000, \n"
     ]
    },
    {
     "name": "stdout",
     "output_type": "stream",
     "text": [
      "epoch: 5, [batch: 5059 / 6324], examples_per_second: 3414.3976, train_label_loss: 0.0000, \n"
     ]
    },
    {
     "name": "stdout",
     "output_type": "stream",
     "text": [
      "epoch: 5, [batch: 5691 / 6324], examples_per_second: 3448.5456, train_label_loss: 0.0000, \n"
     ]
    },
    {
     "name": "stdout",
     "output_type": "stream",
     "text": [
      "=============================================================\n",
      "epoch: 5, source_val_acc_label: 0.9991, target_val_acc_label: 0.1685, source_val_label_loss: 0.0114, target_val_label_loss: 3.7443, \n",
      "=============================================================\n"
     ]
    },
    {
     "name": "stdout",
     "output_type": "stream",
     "text": [
      "New best\n"
     ]
    },
    {
     "name": "stdout",
     "output_type": "stream",
     "text": [
      "epoch: 6, [batch: 1 / 6313], examples_per_second: 3.0490, train_label_loss: 0.0000, \n"
     ]
    },
    {
     "name": "stdout",
     "output_type": "stream",
     "text": [
      "epoch: 6, [batch: 632 / 6313], examples_per_second: 2929.7617, train_label_loss: 0.0000, \n"
     ]
    },
    {
     "name": "stdout",
     "output_type": "stream",
     "text": [
      "epoch: 6, [batch: 1263 / 6313], examples_per_second: 2968.1067, train_label_loss: 0.0000, \n"
     ]
    },
    {
     "name": "stdout",
     "output_type": "stream",
     "text": [
      "epoch: 6, [batch: 1894 / 6313], examples_per_second: 3033.7017, train_label_loss: 0.0000, \n"
     ]
    },
    {
     "name": "stdout",
     "output_type": "stream",
     "text": [
      "epoch: 6, [batch: 2525 / 6313], examples_per_second: 3046.4243, train_label_loss: 0.0000, \n"
     ]
    },
    {
     "name": "stdout",
     "output_type": "stream",
     "text": [
      "epoch: 6, [batch: 3157 / 6313], examples_per_second: 3008.4806, train_label_loss: 0.0000, \n"
     ]
    },
    {
     "name": "stdout",
     "output_type": "stream",
     "text": [
      "epoch: 6, [batch: 3788 / 6313], examples_per_second: 3042.2574, train_label_loss: 0.0000, \n"
     ]
    },
    {
     "name": "stdout",
     "output_type": "stream",
     "text": [
      "epoch: 6, [batch: 4419 / 6313], examples_per_second: 2959.0463, train_label_loss: 0.0000, \n"
     ]
    },
    {
     "name": "stdout",
     "output_type": "stream",
     "text": [
      "epoch: 6, [batch: 5050 / 6313], examples_per_second: 3143.3878, train_label_loss: 0.0000, \n"
     ]
    },
    {
     "name": "stdout",
     "output_type": "stream",
     "text": [
      "epoch: 6, [batch: 5681 / 6313], examples_per_second: 3365.2987, train_label_loss: 0.0000, \n"
     ]
    },
    {
     "name": "stdout",
     "output_type": "stream",
     "text": [
      "=============================================================\n",
      "epoch: 6, source_val_acc_label: 0.9994, target_val_acc_label: 0.1479, source_val_label_loss: 0.0080, target_val_label_loss: 3.9729, \n",
      "=============================================================\n"
     ]
    },
    {
     "name": "stdout",
     "output_type": "stream",
     "text": [
      "epoch: 7, [batch: 1 / 6295], examples_per_second: 3.1971, train_label_loss: 0.0000, \n"
     ]
    },
    {
     "name": "stdout",
     "output_type": "stream",
     "text": [
      "epoch: 7, [batch: 630 / 6295], examples_per_second: 2908.9800, train_label_loss: 0.0000, \n"
     ]
    },
    {
     "name": "stdout",
     "output_type": "stream",
     "text": [
      "epoch: 7, [batch: 1259 / 6295], examples_per_second: 3022.7634, train_label_loss: 0.0000, \n"
     ]
    },
    {
     "name": "stdout",
     "output_type": "stream",
     "text": [
      "epoch: 7, [batch: 1889 / 6295], examples_per_second: 3019.7827, train_label_loss: 0.0000, \n"
     ]
    },
    {
     "name": "stdout",
     "output_type": "stream",
     "text": [
      "epoch: 7, [batch: 2518 / 6295], examples_per_second: 2998.7419, train_label_loss: 0.0000, \n"
     ]
    },
    {
     "name": "stdout",
     "output_type": "stream",
     "text": [
      "epoch: 7, [batch: 3148 / 6295], examples_per_second: 3183.5756, train_label_loss: 0.0000, \n"
     ]
    },
    {
     "name": "stdout",
     "output_type": "stream",
     "text": [
      "epoch: 7, [batch: 3777 / 6295], examples_per_second: 3383.7947, train_label_loss: 0.0000, \n"
     ]
    },
    {
     "name": "stdout",
     "output_type": "stream",
     "text": [
      "epoch: 7, [batch: 4406 / 6295], examples_per_second: 3349.6006, train_label_loss: 0.0000, \n"
     ]
    },
    {
     "name": "stdout",
     "output_type": "stream",
     "text": [
      "epoch: 7, [batch: 5036 / 6295], examples_per_second: 3358.9207, train_label_loss: 0.0000, \n"
     ]
    },
    {
     "name": "stdout",
     "output_type": "stream",
     "text": [
      "epoch: 7, [batch: 5665 / 6295], examples_per_second: 3497.9240, train_label_loss: 0.0000, \n"
     ]
    },
    {
     "name": "stdout",
     "output_type": "stream",
     "text": [
      "=============================================================\n",
      "epoch: 7, source_val_acc_label: 0.9994, target_val_acc_label: 0.1560, source_val_label_loss: 0.0087, target_val_label_loss: 3.9479, \n",
      "=============================================================\n"
     ]
    },
    {
     "name": "stdout",
     "output_type": "stream",
     "text": [
      "epoch: 8, [batch: 1 / 6293], examples_per_second: 4.1416, train_label_loss: 0.0000, \n"
     ]
    },
    {
     "name": "stdout",
     "output_type": "stream",
     "text": [
      "epoch: 8, [batch: 630 / 6293], examples_per_second: 3955.7202, train_label_loss: 0.0000, \n"
     ]
    },
    {
     "name": "stdout",
     "output_type": "stream",
     "text": [
      "epoch: 8, [batch: 1259 / 6293], examples_per_second: 3092.3697, train_label_loss: 0.0000, \n"
     ]
    },
    {
     "name": "stdout",
     "output_type": "stream",
     "text": [
      "epoch: 8, [batch: 1888 / 6293], examples_per_second: 3040.2280, train_label_loss: 0.0000, \n"
     ]
    },
    {
     "name": "stdout",
     "output_type": "stream",
     "text": [
      "epoch: 8, [batch: 2517 / 6293], examples_per_second: 2991.8934, train_label_loss: 0.0000, \n"
     ]
    },
    {
     "name": "stdout",
     "output_type": "stream",
     "text": [
      "epoch: 8, [batch: 3147 / 6293], examples_per_second: 2996.7857, train_label_loss: 0.0000, \n"
     ]
    },
    {
     "name": "stdout",
     "output_type": "stream",
     "text": [
      "epoch: 8, [batch: 3776 / 6293], examples_per_second: 3017.1139, train_label_loss: 0.0000, \n"
     ]
    },
    {
     "name": "stdout",
     "output_type": "stream",
     "text": [
      "epoch: 8, [batch: 4405 / 6293], examples_per_second: 2989.5497, train_label_loss: 0.0000, \n"
     ]
    },
    {
     "name": "stdout",
     "output_type": "stream",
     "text": [
      "epoch: 8, [batch: 5034 / 6293], examples_per_second: 2963.4341, train_label_loss: 0.0000, \n"
     ]
    },
    {
     "name": "stdout",
     "output_type": "stream",
     "text": [
      "epoch: 8, [batch: 5663 / 6293], examples_per_second: 3029.5135, train_label_loss: 0.0000, \n"
     ]
    },
    {
     "name": "stdout",
     "output_type": "stream",
     "text": [
      "=============================================================\n",
      "epoch: 8, source_val_acc_label: 0.9990, target_val_acc_label: 0.1576, source_val_label_loss: 0.0183, target_val_label_loss: 4.2671, \n",
      "=============================================================\n"
     ]
    },
    {
     "name": "stdout",
     "output_type": "stream",
     "text": [
      "epoch: 9, [batch: 1 / 6315], examples_per_second: 3.2707, train_label_loss: 0.0000, \n"
     ]
    },
    {
     "name": "stdout",
     "output_type": "stream",
     "text": [
      "epoch: 9, [batch: 632 / 6315], examples_per_second: 2972.5930, train_label_loss: 0.0000, \n"
     ]
    },
    {
     "name": "stdout",
     "output_type": "stream",
     "text": [
      "epoch: 9, [batch: 1263 / 6315], examples_per_second: 3029.0167, train_label_loss: 0.0000, \n"
     ]
    },
    {
     "name": "stdout",
     "output_type": "stream",
     "text": [
      "epoch: 9, [batch: 1895 / 6315], examples_per_second: 3007.6787, train_label_loss: 0.0000, \n"
     ]
    },
    {
     "name": "stdout",
     "output_type": "stream",
     "text": [
      "epoch: 9, [batch: 2526 / 6315], examples_per_second: 2981.8206, train_label_loss: 0.0000, \n"
     ]
    },
    {
     "name": "stdout",
     "output_type": "stream",
     "text": [
      "epoch: 9, [batch: 3158 / 6315], examples_per_second: 2958.3319, train_label_loss: 0.0000, \n"
     ]
    },
    {
     "name": "stdout",
     "output_type": "stream",
     "text": [
      "epoch: 9, [batch: 3789 / 6315], examples_per_second: 2954.5820, train_label_loss: 0.0000, \n"
     ]
    },
    {
     "name": "stdout",
     "output_type": "stream",
     "text": [
      "epoch: 9, [batch: 4420 / 6315], examples_per_second: 3052.0151, train_label_loss: 0.0000, \n"
     ]
    },
    {
     "name": "stdout",
     "output_type": "stream",
     "text": [
      "epoch: 9, [batch: 5052 / 6315], examples_per_second: 3044.0510, train_label_loss: 0.0000, \n"
     ]
    },
    {
     "name": "stdout",
     "output_type": "stream",
     "text": [
      "epoch: 9, [batch: 5683 / 6315], examples_per_second: 2966.7554, train_label_loss: 0.0000, \n"
     ]
    },
    {
     "name": "stdout",
     "output_type": "stream",
     "text": [
      "=============================================================\n",
      "epoch: 9, source_val_acc_label: 0.9994, target_val_acc_label: 0.1588, source_val_label_loss: 0.0126, target_val_label_loss: 4.3449, \n",
      "=============================================================\n"
     ]
    },
    {
     "name": "stdout",
     "output_type": "stream",
     "text": [
      "Patience (3) exhausted\n"
     ]
    }
   ],
   "source": [
    "###################################\n",
    "# train\n",
    "###################################\n",
    "jig = PTN_Train_Eval_Test_Jig(model, p.BEST_MODEL_PATH, p.device)\n",
    "\n",
    "jig.train(\n",
    "    train_iterable=datasets.source.processed.train,\n",
    "    source_val_iterable=datasets.source.processed.val,\n",
    "    target_val_iterable=datasets.target.processed.val,\n",
    "    num_epochs=p.n_epoch,\n",
    "    num_logs_per_epoch=p.NUM_LOGS_PER_EPOCH,\n",
    "    patience=p.patience,\n",
    "    optimizer=optimizer,\n",
    "    criteria_for_best=p.criteria_for_best,\n",
    ")"
   ]
  },
  {
   "cell_type": "code",
   "execution_count": 23,
   "id": "31e8fabf",
   "metadata": {
    "execution": {
     "iopub.execute_input": "2022-03-22T07:31:02.414917Z",
     "iopub.status.busy": "2022-03-22T07:31:02.414553Z",
     "iopub.status.idle": "2022-03-22T07:31:02.458147Z",
     "shell.execute_reply": "2022-03-22T07:31:02.457334Z"
    },
    "papermill": {
     "duration": 0.099427,
     "end_time": "2022-03-22T07:31:02.458300",
     "exception": false,
     "start_time": "2022-03-22T07:31:02.358873",
     "status": "completed"
    },
    "tags": []
   },
   "outputs": [],
   "source": [
    "total_experiment_time_secs = time.time() - start_time_secs"
   ]
  },
  {
   "cell_type": "code",
   "execution_count": 24,
   "id": "87b9595b",
   "metadata": {
    "execution": {
     "iopub.execute_input": "2022-03-22T07:31:02.572362Z",
     "iopub.status.busy": "2022-03-22T07:31:02.571704Z",
     "iopub.status.idle": "2022-03-22T07:34:35.605135Z",
     "shell.execute_reply": "2022-03-22T07:34:35.604353Z"
    },
    "papermill": {
     "duration": 213.092716,
     "end_time": "2022-03-22T07:34:35.605320",
     "exception": false,
     "start_time": "2022-03-22T07:31:02.512604",
     "status": "completed"
    },
    "tags": []
   },
   "outputs": [],
   "source": [
    "###################################\n",
    "# Evaluate the model\n",
    "###################################\n",
    "source_test_label_accuracy, source_test_label_loss = jig.test(datasets.source.processed.test)\n",
    "target_test_label_accuracy, target_test_label_loss = jig.test(datasets.target.processed.test)\n",
    "\n",
    "source_val_label_accuracy, source_val_label_loss = jig.test(datasets.source.processed.val)\n",
    "target_val_label_accuracy, target_val_label_loss = jig.test(datasets.target.processed.val)\n",
    "\n",
    "history = jig.get_history()\n",
    "\n",
    "total_epochs_trained = len(history[\"epoch_indices\"])\n",
    "\n",
    "val_dl = Iterable_Aggregator((datasets.source.original.val,datasets.target.original.val))\n",
    "\n",
    "confusion = ptn_confusion_by_domain_over_dataloader(model, p.device, val_dl)\n",
    "per_domain_accuracy = per_domain_accuracy_from_confusion(confusion)\n",
    "\n",
    "# Add a key to per_domain_accuracy for if it was a source domain\n",
    "for domain, accuracy in per_domain_accuracy.items():\n",
    "    per_domain_accuracy[domain] = {\n",
    "        \"accuracy\": accuracy,\n",
    "        \"source?\": domain in p.domains_source\n",
    "    }\n",
    "\n",
    "# Do an independent accuracy assesment JUST TO BE SURE!\n",
    "# _source_test_label_accuracy = independent_accuracy_assesment(model, datasets.source.processed.test, p.device)\n",
    "# _target_test_label_accuracy = independent_accuracy_assesment(model, datasets.target.processed.test, p.device)\n",
    "# _source_val_label_accuracy = independent_accuracy_assesment(model, datasets.source.processed.val, p.device)\n",
    "# _target_val_label_accuracy = independent_accuracy_assesment(model, datasets.target.processed.val, p.device)\n",
    "\n",
    "# assert(_source_test_label_accuracy == source_test_label_accuracy)\n",
    "# assert(_target_test_label_accuracy == target_test_label_accuracy)\n",
    "# assert(_source_val_label_accuracy == source_val_label_accuracy)\n",
    "# assert(_target_val_label_accuracy == target_val_label_accuracy)\n",
    "\n",
    "experiment = {\n",
    "    \"experiment_name\": p.experiment_name,\n",
    "    \"parameters\": dict(p),\n",
    "    \"results\": {\n",
    "        \"source_test_label_accuracy\": source_test_label_accuracy,\n",
    "        \"source_test_label_loss\": source_test_label_loss,\n",
    "        \"target_test_label_accuracy\": target_test_label_accuracy,\n",
    "        \"target_test_label_loss\": target_test_label_loss,\n",
    "        \"source_val_label_accuracy\": source_val_label_accuracy,\n",
    "        \"source_val_label_loss\": source_val_label_loss,\n",
    "        \"target_val_label_accuracy\": target_val_label_accuracy,\n",
    "        \"target_val_label_loss\": target_val_label_loss,\n",
    "        \"total_epochs_trained\": total_epochs_trained,\n",
    "        \"total_experiment_time_secs\": total_experiment_time_secs,\n",
    "        \"confusion\": confusion,\n",
    "        \"per_domain_accuracy\": per_domain_accuracy,\n",
    "    },\n",
    "    \"history\": history,\n",
    "    \"dataset_metrics\": get_dataset_metrics(datasets, \"ptn\"),\n",
    "}"
   ]
  },
  {
   "cell_type": "code",
   "execution_count": 25,
   "id": "54a21829",
   "metadata": {
    "execution": {
     "iopub.execute_input": "2022-03-22T07:34:35.716470Z",
     "iopub.status.busy": "2022-03-22T07:34:35.716094Z",
     "iopub.status.idle": "2022-03-22T07:34:35.944949Z",
     "shell.execute_reply": "2022-03-22T07:34:35.945639Z"
    },
    "papermill": {
     "duration": 0.284084,
     "end_time": "2022-03-22T07:34:35.945856",
     "exception": false,
     "start_time": "2022-03-22T07:34:35.661772",
     "status": "completed"
    },
    "tags": []
   },
   "outputs": [
    {
     "data": {
      "image/png": "[encoded data removed]",
      "text/plain": [
       "<Figure size 1080x504 with 1 Axes>"
      ]
     },
     "metadata": {
      "needs_background": "light"
     },
     "output_type": "display_data"
    }
   ],
   "source": [
    "ax = get_loss_curve(experiment)\n",
    "plt.show()"
   ]
  },
  {
   "cell_type": "code",
   "execution_count": 26,
   "id": "fd8a0f60",
   "metadata": {
    "execution": {
     "iopub.execute_input": "2022-03-22T07:34:36.058638Z",
     "iopub.status.busy": "2022-03-22T07:34:36.058074Z",
     "iopub.status.idle": "2022-03-22T07:34:36.381404Z",
     "shell.execute_reply": "2022-03-22T07:34:36.382100Z"
    },
    "papermill": {
     "duration": 0.380346,
     "end_time": "2022-03-22T07:34:36.382320",
     "exception": false,
     "start_time": "2022-03-22T07:34:36.001974",
     "status": "completed"
    },
    "tags": []
   },
   "outputs": [
    {
     "data": {
      "text/plain": [
       "<AxesSubplot:title={'center':'Results'}>"
      ]
     },
     "execution_count": 26,
     "metadata": {},
     "output_type": "execute_result"
    },
    {
     "data": {
      "image/png": "[encoded data removed]",
      "text/plain": [
       "<Figure size 1080x504 with 1 Axes>"
      ]
     },
     "metadata": {
      "needs_background": "light"
     },
     "output_type": "display_data"
    }
   ],
   "source": [
    "get_results_table(experiment)"
   ]
  },
  {
   "cell_type": "code",
   "execution_count": 27,
   "id": "cf8dc689",
   "metadata": {
    "execution": {
     "iopub.execute_input": "2022-03-22T07:34:36.500040Z",
     "iopub.status.busy": "2022-03-22T07:34:36.499656Z",
     "iopub.status.idle": "2022-03-22T07:34:36.779932Z",
     "shell.execute_reply": "2022-03-22T07:34:36.780641Z"
    },
    "papermill": {
     "duration": 0.339978,
     "end_time": "2022-03-22T07:34:36.780866",
     "exception": false,
     "start_time": "2022-03-22T07:34:36.440888",
     "status": "completed"
    },
    "tags": []
   },
   "outputs": [
    {
     "data": {
      "text/plain": [
       "<AxesSubplot:title={'center':'Per Domain Validation Accuracy'}, xlabel='domain'>"
      ]
     },
     "execution_count": 27,
     "metadata": {},
     "output_type": "execute_result"
    },
    {
     "data": {
      "image/png": "[encoded data removed]",
      "text/plain": [
       "<Figure size 1080x504 with 1 Axes>"
      ]
     },
     "metadata": {
      "needs_background": "light"
     },
     "output_type": "display_data"
    }
   ],
   "source": [
    "get_domain_accuracies(experiment)"
   ]
  },
  {
   "cell_type": "code",
   "execution_count": 28,
   "id": "a74ae082",
   "metadata": {
    "execution": {
     "iopub.execute_input": "2022-03-22T07:34:36.901289Z",
     "iopub.status.busy": "2022-03-22T07:34:36.900901Z",
     "iopub.status.idle": "2022-03-22T07:34:36.928449Z",
     "shell.execute_reply": "2022-03-22T07:34:36.927566Z"
    },
    "papermill": {
     "duration": 0.087755,
     "end_time": "2022-03-22T07:34:36.928632",
     "exception": false,
     "start_time": "2022-03-22T07:34:36.840877",
     "status": "completed"
    },
    "tags": []
   },
   "outputs": [
    {
     "name": "stdout",
     "output_type": "stream",
     "text": [
      "Source Test Label Accuracy: 0.9993298532731377 Target Test Label Accuracy: 0.1677734375\n",
      "Source Val Label Accuracy: 0.9991428571428571 Target Val Label Accuracy: 0.16848958333333333\n"
     ]
    }
   ],
   "source": [
    "print(\"Source Test Label Accuracy:\", experiment[\"results\"][\"source_test_label_accuracy\"], \"Target Test Label Accuracy:\", experiment[\"results\"][\"target_test_label_accuracy\"])\n",
    "print(\"Source Val Label Accuracy:\", experiment[\"results\"][\"source_val_label_accuracy\"], \"Target Val Label Accuracy:\", experiment[\"results\"][\"target_val_label_accuracy\"])"
   ]
  },
  {
   "cell_type": "code",
   "execution_count": 29,
   "id": "dacca602",
   "metadata": {
    "execution": {
     "iopub.execute_input": "2022-03-22T07:34:37.087367Z",
     "iopub.status.busy": "2022-03-22T07:34:37.086869Z",
     "iopub.status.idle": "2022-03-22T07:34:37.111959Z",
     "shell.execute_reply": "2022-03-22T07:34:37.112597Z"
    },
    "papermill": {
     "duration": 0.085669,
     "end_time": "2022-03-22T07:34:37.112791",
     "exception": false,
     "start_time": "2022-03-22T07:34:37.027122",
     "status": "completed"
    },
    "tags": [
     "experiment_json"
    ]
   },
   "outputs": [
    {
     "data": {
      "text/plain": [
       "'{\"experiment_name\": \"tl_1v2:cores-oracle.run1.limited\", \"parameters\": {\"experiment_name\": \"tl_1v2:cores-oracle.run1.limited\", \"device\": \"cuda\", \"lr\": 0.0001, \"n_shot\": 3, \"n_query\": 2, \"train_k_factor\": 3, \"val_k_factor\": 2, \"test_k_factor\": 2, \"torch_default_dtype\": \"torch.float32\", \"n_epoch\": 50, \"patience\": 3, \"criteria_for_best\": \"target_accuracy\", \"x_net\": [{\"class\": \"nnReshape\", \"kargs\": {\"shape\": [-1, 1, 2, 256]}}, {\"class\": \"Conv2d\", \"kargs\": {\"in_channels\": 1, \"out_channels\": 256, \"kernel_size\": [1, 7], \"bias\": false, \"padding\": [0, 3]}}, {\"class\": \"ReLU\", \"kargs\": {\"inplace\": true}}, {\"class\": \"BatchNorm2d\", \"kargs\": {\"num_features\": 256}}, {\"class\": \"Conv2d\", \"kargs\": {\"in_channels\": 256, \"out_channels\": 80, \"kernel_size\": [2, 7], \"bias\": true, \"padding\": [0, 3]}}, {\"class\": \"ReLU\", \"kargs\": {\"inplace\": true}}, {\"class\": \"BatchNorm2d\", \"kargs\": {\"num_features\": 80}}, {\"class\": \"Flatten\", \"kargs\": {}}, {\"class\": \"Linear\", \"kargs\": {\"in_features\": 20480, \"out_features\": 256}}, {\"class\": \"ReLU\", \"kargs\": {\"inplace\": true}}, {\"class\": \"BatchNorm1d\", \"kargs\": {\"num_features\": 256}}, {\"class\": \"Linear\", \"kargs\": {\"in_features\": 256, \"out_features\": 256}}], \"NUM_LOGS_PER_EPOCH\": 10, \"BEST_MODEL_PATH\": \"./best_model.pth\", \"n_way\": 16, \"datasets\": [{\"labels\": [\"1-10.\", \"1-11.\", \"1-15.\", \"1-16.\", \"1-17.\", \"1-18.\", \"1-19.\", \"10-4.\", \"10-7.\", \"11-1.\", \"11-14.\", \"11-17.\", \"11-20.\", \"11-7.\", \"13-20.\", \"13-8.\", \"14-10.\", \"14-11.\", \"14-14.\", \"14-7.\", \"15-1.\", \"15-20.\", \"16-1.\", \"16-16.\", \"17-10.\", \"17-11.\", \"17-2.\", \"19-1.\", \"19-16.\", \"19-19.\", \"19-20.\", \"19-3.\", \"2-10.\", \"2-11.\", \"2-17.\", \"2-18.\", \"2-20.\", \"2-3.\", \"2-4.\", \"2-5.\", \"2-6.\", \"2-7.\", \"2-8.\", \"3-13.\", \"3-18.\", \"3-3.\", \"4-1.\", \"4-10.\", \"4-11.\", \"4-19.\", \"5-5.\", \"6-15.\", \"7-10.\", \"7-14.\", \"8-18.\", \"8-20.\", \"8-3.\", \"8-8.\"], \"domains\": [1, 2, 3, 4, 5], \"num_examples_per_domain_per_label\": -1, \"pickle_path\": \"/root/csc500-main/datasets/cores.stratified_ds.2022A.pkl\", \"source_or_target_dataset\": \"source\", \"x_transforms\": [\"unit_power\"], \"episode_transforms\": [], \"domain_prefix\": \"CORES_\"}, {\"labels\": [\"3123D52\", \"3123D65\", \"3123D79\", \"3123D80\", \"3123D54\", \"3123D70\", \"3123D7B\", \"3123D89\", \"3123D58\", \"3123D76\", \"3123D7D\", \"3123EFE\", \"3123D64\", \"3123D78\", \"3123D7E\", \"3124E4A\"], \"domains\": [32, 38, 8, 44, 14, 50, 20, 26], \"num_examples_per_domain_per_label\": 2000, \"pickle_path\": \"/root/csc500-main/datasets/oracle.Run1_10kExamples_stratified_ds.2022A.pkl\", \"source_or_target_dataset\": \"target\", \"x_transforms\": [\"unit_power\"], \"episode_transforms\": [], \"domain_prefix\": \"ORACLE.run1_\"}], \"dataset_seed\": 420, \"seed\": 420, \"x_shape\": [2, 256], \"domains_source\": [\"CORES_1\", \"CORES_2\", \"CORES_3\", \"CORES_4\", \"CORES_5\"], \"domains_target\": [\"ORACLE.run1_32\", \"ORACLE.run1_38\", \"ORACLE.run1_8\", \"ORACLE.run1_44\", \"ORACLE.run1_14\", \"ORACLE.run1_50\", \"ORACLE.run1_20\", \"ORACLE.run1_26\"]}, \"results\": {\"source_test_label_accuracy\": 0.9993298532731377, \"source_test_label_loss\": 0.007252425421029329, \"target_test_label_accuracy\": 0.1677734375, \"target_test_label_loss\": 3.7638015747070312, \"source_val_label_accuracy\": 0.9991428571428571, \"source_val_label_loss\": 0.011420952156186104, \"target_val_label_accuracy\": 0.16848958333333333, \"target_val_label_loss\": 3.744306802749634, \"total_epochs_trained\": 9, \"total_experiment_time_secs\": 2149.496697664261, \"confusion\": {\"CORES_4\": {\"42\": {\"42\": 32}, \"0\": {\"0\": 80}, \"1\": {\"1\": 40}, \"39\": {\"39\": 20}, \"28\": {\"28\": 32}, \"53\": {\"53\": 124}, \"19\": {\"19\": 144}, \"34\": {\"34\": 24}, \"33\": {\"33\": 36}, \"32\": {\"32\": 24}, \"10\": {\"10\": 136}, \"46\": {\"46\": 134}, \"20\": {\"20\": 122}, \"5\": {\"5\": 108}, \"40\": {\"40\": 124}, \"51\": {\"51\": 144}, \"37\": {\"37\": 24}, \"17\": {\"17\": 80}, \"45\": {\"45\": 96}, \"13\": {\"13\": 142}, \"27\": {\"27\": 144}, \"24\": {\"24\": 56}, \"30\": {\"30\": 44}, \"31\": {\"31\": 28}, \"41\": {\"41\": 34, \"10\": 1, \"13\": 1}, \"36\": {\"36\": 92}, \"16\": {\"16\": 95, \"11\": 1}, \"22\": {\"22\": 128}, \"44\": {\"44\": 132}, \"9\": {\"9\": 140}, \"57\": {\"57\": 100}, \"8\": {\"8\": 138}, \"23\": {\"23\": 132}, \"47\": {\"47\": 120}, \"43\": {\"43\": 138}, \"49\": {\"49\": 20}, \"3\": {\"3\": 124}, \"12\": {\"12\": 92}, \"38\": {\"38\": 40}, \"7\": {\"7\": 24}, \"14\": {\"14\": 16}, \"15\": {\"15\": 146}, \"25\": {\"25\": 128}, \"26\": {\"26\": 24}, \"21\": {\"21\": 132}, \"48\": {\"48\": 144}, \"56\": {\"56\": 134}, \"11\": {\"11\": 104}, \"2\": {\"2\": 36}, \"6\": {\"6\": 111, \"3\": 1}, \"55\": {\"55\": 140}, \"54\": {\"54\": 108}, \"29\": {\"29\": 124}, \"50\": {\"50\": 121, \"3\": 1}, \"52\": {\"52\": 116}, \"35\": {\"35\": 40}, \"4\": {\"4\": 119, \"27\": 1}, \"18\": {\"18\": 108}}, \"CORES_5\": {\"43\": {\"43\": 152}, \"35\": {\"35\": 36}, \"54\": {\"54\": 112}, \"22\": {\"22\": 28}, \"16\": {\"16\": 146}, \"5\": {\"5\": 128}, \"28\": {\"28\": 32}, \"14\": {\"14\": 44}, \"51\": {\"51\": 128}, \"19\": {\"19\": 140}, \"31\": {\"31\": 36}, \"10\": {\"10\": 68}, \"21\": {\"21\": 136}, \"3\": {\"3\": 100}, \"57\": {\"57\": 132}, \"9\": {\"9\": 146}, \"8\": {\"8\": 132}, \"46\": {\"46\": 140}, \"23\": {\"23\": 124}, \"37\": {\"37\": 24}, \"34\": {\"34\": 36}, \"4\": {\"4\": 100}, \"6\": {\"6\": 128}, \"48\": {\"48\": 136}, \"44\": {\"44\": 138}, \"40\": {\"40\": 124}, \"12\": {\"12\": 96}, \"30\": {\"30\": 128}, \"39\": {\"39\": 20}, \"45\": {\"45\": 123, \"50\": 1}, \"36\": {\"36\": 91, \"28\": 1}, \"27\": {\"27\": 140}, \"32\": {\"32\": 32}, \"52\": {\"52\": 130}, \"0\": {\"0\": 124}, \"26\": {\"26\": 24}, \"1\": {\"1\": 148}, \"53\": {\"53\": 146}, \"25\": {\"25\": 144}, \"24\": {\"24\": 80}, \"7\": {\"7\": 32}, \"18\": {\"18\": 64}, \"20\": {\"20\": 144}, \"33\": {\"33\": 32}, \"55\": {\"55\": 140}, \"41\": {\"41\": 28}, \"42\": {\"42\": 39, \"11\": 1}, \"49\": {\"49\": 36}, \"13\": {\"13\": 148}, \"38\": {\"38\": 32}, \"2\": {\"2\": 28}, \"47\": {\"47\": 100}, \"17\": {\"17\": 116}, \"11\": {\"11\": 154}, \"29\": {\"29\": 132}, \"50\": {\"50\": 138}, \"56\": {\"56\": 148}, \"15\": {\"15\": 142}}, \"CORES_2\": {\"49\": {\"49\": 24}, \"13\": {\"13\": 116}, \"37\": {\"37\": 36}, \"41\": {\"41\": 20}, \"15\": {\"15\": 142}, \"56\": {\"56\": 141, \"11\": 1}, \"14\": {\"14\": 24}, \"3\": {\"3\": 92}, \"38\": {\"38\": 20}, \"43\": {\"43\": 138}, \"33\": {\"33\": 28}, \"47\": {\"47\": 138}, \"30\": {\"30\": 144}, \"39\": {\"39\": 28}, \"12\": {\"12\": 92}, \"6\": {\"6\": 124}, \"51\": {\"51\": 134}, \"5\": {\"5\": 120}, \"34\": {\"34\": 28}, \"35\": {\"35\": 32}, \"0\": {\"0\": 48}, \"7\": {\"7\": 36}, \"24\": {\"24\": 96}, \"8\": {\"8\": 136}, \"20\": {\"20\": 124}, \"36\": {\"36\": 116}, \"42\": {\"42\": 36}, \"1\": {\"1\": 112}, \"4\": {\"4\": 148}, \"28\": {\"28\": 28}, \"50\": {\"50\": 136}, \"45\": {\"45\": 128}, \"18\": {\"18\": 48}, \"57\": {\"57\": 120}, \"46\": {\"46\": 128}, \"23\": {\"23\": 148}, \"27\": {\"27\": 138}, \"19\": {\"19\": 134}, \"22\": {\"22\": 136}, \"17\": {\"17\": 104}, \"55\": {\"55\": 136}, \"44\": {\"44\": 100}, \"26\": {\"26\": 24}, \"31\": {\"31\": 28}, \"16\": {\"16\": 130}, \"11\": {\"11\": 128}, \"25\": {\"25\": 126}, \"54\": {\"54\": 108}, \"32\": {\"32\": 28}, \"52\": {\"52\": 124}, \"40\": {\"40\": 132}, \"2\": {\"2\": 32}, \"10\": {\"10\": 110}, \"53\": {\"53\": 136}, \"9\": {\"9\": 150}, \"21\": {\"21\": 119, \"53\": 1}, \"48\": {\"48\": 138}, \"29\": {\"29\": 128}}, \"CORES_1\": {\"9\": {\"9\": 142}, \"25\": {\"25\": 128}, \"41\": {\"41\": 24}, \"29\": {\"29\": 140}, \"46\": {\"46\": 128}, \"4\": {\"4\": 132}, \"31\": {\"31\": 28}, \"36\": {\"36\": 64}, \"20\": {\"20\": 128}, \"7\": {\"7\": 28}, \"6\": {\"6\": 95, \"5\": 1}, \"16\": {\"16\": 138}, \"17\": {\"17\": 64}, \"50\": {\"50\": 148}, \"57\": {\"57\": 144}, \"23\": {\"23\": 136}, \"3\": {\"3\": 125, \"36\": 1}, \"53\": {\"53\": 140}, \"49\": {\"49\": 32}, \"56\": {\"56\": 152}, \"51\": {\"51\": 142}, \"26\": {\"26\": 24}, \"43\": {\"43\": 144}, \"22\": {\"22\": 136}, \"45\": {\"45\": 146}, \"13\": {\"13\": 152}, \"12\": {\"12\": 115, \"20\": 1}, \"54\": {\"54\": 104}, \"24\": {\"24\": 103, \"21\": 5}, \"44\": {\"44\": 136}, \"28\": {\"28\": 28}, \"33\": {\"33\": 32}, \"38\": {\"38\": 24}, \"0\": {\"0\": 144}, \"47\": {\"47\": 154}, \"42\": {\"42\": 40}, \"34\": {\"34\": 24}, \"48\": {\"48\": 142}, \"35\": {\"35\": 36}, \"2\": {\"2\": 36}, \"30\": {\"30\": 120}, \"18\": {\"18\": 72}, \"37\": {\"37\": 32}, \"1\": {\"1\": 100}, \"11\": {\"11\": 138}, \"55\": {\"55\": 130}, \"15\": {\"15\": 150}, \"10\": {\"10\": 96}, \"27\": {\"27\": 160}, \"19\": {\"19\": 146}, \"14\": {\"14\": 23, \"6\": 1}, \"8\": {\"8\": 140}, \"5\": {\"5\": 136}, \"39\": {\"39\": 28}, \"52\": {\"52\": 122}, \"21\": {\"21\": 124}, \"40\": {\"40\": 152}, \"32\": {\"32\": 32}}, \"CORES_3\": {\"56\": {\"56\": 120}, \"4\": {\"4\": 146}, \"34\": {\"34\": 32}, \"52\": {\"52\": 136}, \"32\": {\"32\": 28}, \"46\": {\"46\": 136}, \"12\": {\"12\": 92}, \"20\": {\"20\": 132}, \"54\": {\"54\": 100}, \"22\": {\"22\": 140}, \"26\": {\"26\": 24}, \"31\": {\"31\": 28}, \"10\": {\"10\": 64}, \"27\": {\"27\": 144}, \"40\": {\"40\": 136}, \"28\": {\"28\": 28}, \"5\": {\"5\": 116}, \"30\": {\"30\": 119, \"18\": 1}, \"7\": {\"7\": 36}, \"18\": {\"18\": 84}, \"39\": {\"39\": 16}, \"50\": {\"50\": 135, \"52\": 1}, \"49\": {\"49\": 20}, \"43\": {\"43\": 122}, \"29\": {\"29\": 114}, \"35\": {\"35\": 28}, \"13\": {\"13\": 124}, \"36\": {\"36\": 100}, \"11\": {\"11\": 146}, \"57\": {\"57\": 124}, \"9\": {\"9\": 130}, \"25\": {\"25\": 130}, \"16\": {\"16\": 126}, \"53\": {\"53\": 118}, \"33\": {\"33\": 28}, \"51\": {\"51\": 128}, \"44\": {\"44\": 88}, \"48\": {\"48\": 114}, \"6\": {\"6\": 88}, \"23\": {\"23\": 144}, \"1\": {\"1\": 100}, \"17\": {\"17\": 107, \"33\": 1}, \"21\": {\"21\": 121, \"53\": 1}, \"14\": {\"14\": 40}, \"55\": {\"55\": 144}, \"41\": {\"41\": 28}, \"3\": {\"3\": 138}, \"38\": {\"38\": 28}, \"2\": {\"2\": 32}, \"8\": {\"8\": 142}, \"37\": {\"37\": 28}, \"45\": {\"45\": 60}, \"42\": {\"42\": 28}, \"24\": {\"24\": 104}, \"15\": {\"15\": 136}, \"0\": {\"0\": 124}, \"47\": {\"47\": 92}, \"19\": {\"19\": 120}}, \"ORACLE.run1_14\": {\"15\": {\"7\": 46, \"13\": 25, \"15\": 69, \"3\": 8, \"1\": 15, \"0\": 6, \"9\": 1, \"5\": 14, \"2\": 15, \"6\": 17, \"4\": 11, \"14\": 6, \"10\": 5, \"8\": 2}, \"5\": {\"8\": 19, \"14\": 18, \"2\": 17, \"6\": 15, \"13\": 25, \"7\": 28, \"1\": 16, \"15\": 19, \"4\": 14, \"5\": 20, \"10\": 11, \"3\": 17, \"0\": 14, \"11\": 7}, \"7\": {\"15\": 56, \"2\": 17, \"6\": 19, \"10\": 2, \"11\": 1, \"0\": 6, \"3\": 9, \"5\": 17, \"13\": 17, \"1\": 21, \"7\": 49, \"4\": 14, \"8\": 4, \"14\": 8}, \"4\": {\"5\": 26, \"0\": 13, \"8\": 8, \"14\": 18, \"6\": 17, \"7\": 16, \"11\": 5, \"4\": 30, \"1\": 14, \"2\": 11, \"3\": 17, \"9\": 9, \"15\": 24, \"13\": 16, \"10\": 14, \"12\": 2}, \"10\": {\"9\": 22, \"8\": 18, \"0\": 23, \"10\": 39, \"5\": 10, \"4\": 12, \"11\": 38, \"3\": 21, \"7\": 3, \"2\": 7, \"6\": 10, \"13\": 9, \"12\": 8, \"15\": 5, \"14\": 9, \"1\": 6}, \"11\": {\"12\": 28, \"10\": 29, \"14\": 14, \"8\": 18, \"9\": 36, \"0\": 28, \"1\": 2, \"11\": 45, \"3\": 13, \"2\": 8, \"5\": 10, \"4\": 3, \"6\": 3, \"13\": 3}, \"12\": {\"12\": 95, \"11\": 42, \"10\": 6, \"0\": 14, \"8\": 18, \"9\": 58, \"3\": 2, \"1\": 2, \"4\": 2, \"14\": 1}, \"0\": {\"12\": 9, \"10\": 29, \"8\": 18, \"5\": 11, \"11\": 29, \"0\": 24, \"9\": 30, \"2\": 9, \"13\": 11, \"4\": 13, \"14\": 10, \"7\": 2, \"6\": 10, \"3\": 22, \"1\": 11, \"15\": 2}, \"14\": {\"12\": 1, \"14\": 31, \"0\": 17, \"15\": 21, \"2\": 16, \"3\": 16, \"10\": 18, \"6\": 25, \"13\": 25, \"1\": 11, \"7\": 13, \"11\": 11, \"4\": 15, \"9\": 6, \"8\": 4, \"5\": 10}, \"8\": {\"8\": 53, \"9\": 36, \"1\": 16, \"12\": 16, \"7\": 7, \"3\": 14, \"5\": 13, \"4\": 15, \"10\": 11, \"11\": 21, \"15\": 6, \"2\": 8, \"14\": 2, \"0\": 17, \"6\": 3, \"13\": 2}, \"13\": {\"14\": 21, \"3\": 19, \"4\": 22, \"0\": 14, \"13\": 33, \"5\": 14, \"2\": 23, \"1\": 11, \"6\": 33, \"15\": 23, \"10\": 10, \"11\": 5, \"7\": 9, \"12\": 1, \"9\": 1, \"8\": 1}, \"6\": {\"2\": 20, \"13\": 29, \"14\": 21, \"15\": 21, \"6\": 29, \"1\": 19, \"5\": 15, \"3\": 16, \"4\": 18, \"7\": 14, \"8\": 3, \"0\": 8, \"9\": 2, \"10\": 14, \"11\": 9, \"12\": 2}, \"1\": {\"0\": 14, \"5\": 27, \"1\": 29, \"14\": 16, \"7\": 16, \"8\": 23, \"2\": 14, \"9\": 4, \"3\": 13, \"15\": 19, \"10\": 13, \"11\": 7, \"4\": 17, \"6\": 14, \"13\": 13, \"12\": 1}, \"3\": {\"0\": 27, \"7\": 16, \"14\": 13, \"13\": 22, \"15\": 10, \"4\": 21, \"3\": 19, \"1\": 13, \"6\": 14, \"2\": 14, \"11\": 11, \"8\": 7, \"9\": 10, \"5\": 13, \"10\": 27, \"12\": 3}, \"9\": {\"10\": 17, \"12\": 51, \"9\": 54, \"11\": 44, \"4\": 7, \"8\": 20, \"1\": 6, \"0\": 18, \"6\": 2, \"3\": 9, \"5\": 3, \"14\": 6, \"2\": 2, \"7\": 1}, \"2\": {\"6\": 19, \"13\": 33, \"14\": 22, \"12\": 1, \"4\": 18, \"5\": 24, \"7\": 11, \"15\": 20, \"11\": 5, \"10\": 8, \"0\": 13, \"1\": 15, \"8\": 9, \"2\": 26, \"9\": 2, \"3\": 14}}, \"ORACLE.run1_20\": {\"4\": {\"1\": 16, \"14\": 23, \"2\": 14, \"15\": 10, \"4\": 23, \"8\": 17, \"5\": 17, \"0\": 19, \"6\": 17, \"10\": 12, \"9\": 23, \"3\": 15, \"12\": 8, \"13\": 7, \"11\": 8, \"7\": 11}, \"10\": {\"0\": 10, \"8\": 17, \"10\": 16, \"4\": 24, \"7\": 15, \"14\": 31, \"2\": 15, \"6\": 23, \"11\": 14, \"15\": 8, \"5\": 13, \"9\": 15, \"12\": 15, \"3\": 8, \"1\": 8, \"13\": 8}, \"15\": {\"12\": 21, \"9\": 16, \"15\": 23, \"4\": 13, \"10\": 12, \"3\": 15, \"13\": 24, \"8\": 9, \"0\": 22, \"11\": 10, \"1\": 22, \"5\": 17, \"2\": 13, \"14\": 8, \"7\": 6, \"6\": 9}, \"0\": {\"1\": 27, \"12\": 8, \"0\": 31, \"4\": 15, \"11\": 18, \"13\": 18, \"10\": 8, \"7\": 11, \"9\": 17, \"15\": 19, \"14\": 9, \"5\": 20, \"8\": 9, \"2\": 12, \"6\": 5, \"3\": 13}, \"6\": {\"12\": 12, \"14\": 32, \"10\": 23, \"5\": 8, \"6\": 36, \"8\": 25, \"9\": 23, \"11\": 10, \"1\": 5, \"7\": 9, \"3\": 9, \"15\": 10, \"4\": 18, \"0\": 7, \"13\": 4, \"2\": 9}, \"3\": {\"6\": 19, \"12\": 21, \"15\": 17, \"4\": 11, \"1\": 11, \"0\": 22, \"2\": 20, \"11\": 10, \"14\": 15, \"3\": 14, \"10\": 14, \"13\": 11, \"5\": 15, \"9\": 9, \"8\": 15, \"7\": 16}, \"7\": {\"13\": 14, \"4\": 15, \"3\": 12, \"8\": 15, \"5\": 22, \"7\": 10, \"6\": 15, \"9\": 20, \"11\": 19, \"10\": 18, \"0\": 15, \"14\": 18, \"1\": 9, \"2\": 14, \"12\": 10, \"15\": 14}, \"2\": {\"1\": 15, \"3\": 17, \"10\": 8, \"6\": 14, \"0\": 23, \"7\": 14, \"8\": 8, \"15\": 13, \"9\": 15, \"4\": 18, \"12\": 16, \"2\": 17, \"13\": 17, \"11\": 20, \"5\": 15, \"14\": 10}, \"8\": {\"1\": 14, \"13\": 17, \"0\": 16, \"7\": 12, \"15\": 13, \"10\": 27, \"8\": 12, \"3\": 10, \"12\": 19, \"11\": 12, \"4\": 17, \"14\": 21, \"6\": 19, \"9\": 10, \"5\": 12, \"2\": 9}, \"11\": {\"3\": 13, \"5\": 9, \"11\": 22, \"6\": 27, \"2\": 17, \"14\": 20, \"15\": 11, \"1\": 18, \"4\": 13, \"12\": 10, \"8\": 6, \"13\": 17, \"7\": 24, \"0\": 9, \"9\": 11, \"10\": 13}, \"14\": {\"1\": 13, \"6\": 35, \"11\": 12, \"14\": 33, \"5\": 15, \"15\": 8, \"13\": 6, \"8\": 16, \"9\": 9, \"4\": 19, \"10\": 17, \"3\": 16, \"7\": 17, \"2\": 8, \"12\": 8, \"0\": 8}, \"12\": {\"4\": 14, \"9\": 14, \"1\": 15, \"5\": 15, \"13\": 17, \"8\": 20, \"2\": 18, \"11\": 14, \"0\": 22, \"14\": 12, \"15\": 12, \"10\": 13, \"3\": 18, \"7\": 12, \"12\": 19, \"6\": 5}, \"13\": {\"5\": 21, \"0\": 16, \"8\": 12, \"13\": 21, \"2\": 19, \"15\": 23, \"6\": 11, \"7\": 6, \"1\": 24, \"11\": 15, \"3\": 15, \"4\": 10, \"12\": 14, \"14\": 9, \"10\": 5, \"9\": 19}, \"9\": {\"13\": 19, \"12\": 14, \"10\": 15, \"15\": 17, \"1\": 20, \"14\": 13, \"0\": 12, \"5\": 13, \"6\": 12, \"9\": 19, \"2\": 19, \"11\": 15, \"3\": 14, \"8\": 15, \"4\": 10, \"7\": 13}, \"5\": {\"1\": 24, \"3\": 14, \"4\": 14, \"6\": 6, \"13\": 16, \"12\": 20, \"15\": 18, \"2\": 13, \"8\": 14, \"9\": 14, \"0\": 26, \"14\": 10, \"5\": 17, \"10\": 11, \"11\": 15, \"7\": 8}, \"1\": {\"3\": 15, \"1\": 17, \"0\": 33, \"9\": 20, \"14\": 10, \"2\": 19, \"15\": 17, \"10\": 11, \"7\": 9, \"4\": 13, \"8\": 13, \"13\": 17, \"11\": 12, \"6\": 6, \"5\": 15, \"12\": 13}}, \"ORACLE.run1_50\": {\"5\": {\"10\": 23, \"14\": 9, \"15\": 15, \"6\": 22, \"2\": 6, \"13\": 27, \"7\": 28, \"4\": 18, \"5\": 29, \"1\": 22, \"0\": 10, \"11\": 10, \"3\": 8, \"12\": 3, \"8\": 7, \"9\": 3}, \"12\": {\"11\": 24, \"12\": 58, \"14\": 46, \"9\": 64, \"15\": 14, \"2\": 6, \"4\": 5, \"1\": 9, \"7\": 3, \"0\": 5, \"5\": 3, \"6\": 2, \"13\": 1}, \"14\": {\"14\": 44, \"9\": 25, \"4\": 13, \"2\": 11, \"11\": 22, \"1\": 19, \"5\": 11, \"12\": 30, \"0\": 13, \"13\": 14, \"15\": 13, \"7\": 8, \"6\": 13, \"10\": 4}, \"4\": {\"1\": 24, \"15\": 38, \"11\": 19, \"6\": 23, \"9\": 17, \"14\": 15, \"5\": 25, \"4\": 23, \"13\": 18, \"3\": 1, \"7\": 9, \"0\": 9, \"10\": 11, \"12\": 3, \"2\": 3, \"8\": 2}, \"13\": {\"5\": 30, \"11\": 7, \"6\": 25, \"4\": 18, \"14\": 15, \"13\": 27, \"3\": 7, \"7\": 32, \"8\": 7, \"10\": 19, \"15\": 13, \"0\": 14, \"2\": 10, \"1\": 13, \"12\": 1, \"9\": 2}, \"10\": {\"10\": 37, \"13\": 19, \"6\": 10, \"2\": 27, \"14\": 5, \"8\": 25, \"5\": 26, \"3\": 25, \"7\": 25, \"4\": 3, \"15\": 1, \"0\": 22, \"1\": 11, \"11\": 3, \"12\": 1}, \"9\": {\"1\": 10, \"4\": 11, \"11\": 38, \"9\": 77, \"14\": 22, \"12\": 46, \"5\": 4, \"15\": 18, \"2\": 3, \"0\": 6, \"13\": 2, \"10\": 2, \"6\": 1}, \"15\": {\"4\": 16, \"11\": 37, \"7\": 13, \"15\": 34, \"6\": 28, \"12\": 6, \"1\": 30, \"9\": 17, \"14\": 15, \"5\": 19, \"13\": 14, \"10\": 6, \"0\": 4, \"2\": 1}, \"6\": {\"12\": 5, \"2\": 5, \"0\": 13, \"6\": 26, \"11\": 14, \"14\": 12, \"15\": 19, \"10\": 7, \"5\": 26, \"1\": 18, \"7\": 32, \"3\": 6, \"13\": 30, \"4\": 18, \"9\": 2, \"8\": 7}, \"2\": {\"2\": 35, \"12\": 11, \"8\": 16, \"14\": 22, \"6\": 12, \"10\": 35, \"4\": 6, \"3\": 12, \"0\": 39, \"5\": 9, \"13\": 9, \"1\": 10, \"7\": 16, \"15\": 3, \"11\": 4, \"9\": 1}, \"0\": {\"4\": 14, \"14\": 11, \"3\": 17, \"5\": 17, \"11\": 8, \"2\": 30, \"0\": 35, \"6\": 8, \"8\": 26, \"7\": 22, \"1\": 8, \"12\": 3, \"10\": 22, \"13\": 11, \"15\": 4, \"9\": 4}, \"11\": {\"12\": 33, \"4\": 22, \"9\": 46, \"7\": 4, \"1\": 15, \"15\": 26, \"11\": 42, \"5\": 9, \"14\": 22, \"0\": 2, \"6\": 12, \"13\": 5, \"8\": 1, \"10\": 1}, \"3\": {\"3\": 99, \"10\": 28, \"8\": 59, \"6\": 5, \"0\": 11, \"13\": 8, \"7\": 16, \"5\": 6, \"2\": 6, \"1\": 1, \"4\": 1}, \"8\": {\"8\": 66, \"1\": 3, \"13\": 12, \"2\": 19, \"3\": 76, \"5\": 6, \"10\": 26, \"6\": 4, \"0\": 15, \"7\": 12, \"15\": 1}, \"7\": {\"15\": 9, \"10\": 20, \"8\": 11, \"5\": 33, \"2\": 6, \"11\": 4, \"13\": 29, \"14\": 4, \"7\": 32, \"6\": 19, \"3\": 17, \"1\": 18, \"4\": 19, \"0\": 15, \"12\": 2, \"9\": 2}, \"1\": {\"11\": 25, \"12\": 8, \"9\": 17, \"10\": 8, \"15\": 31, \"1\": 26, \"4\": 19, \"5\": 18, \"6\": 26, \"7\": 11, \"2\": 7, \"13\": 15, \"14\": 19, \"0\": 7, \"8\": 3}}, \"ORACLE.run1_26\": {\"7\": {\"2\": 23, \"13\": 13, \"7\": 26, \"14\": 18, \"1\": 13, \"15\": 16, \"8\": 18, \"9\": 12, \"5\": 15, \"10\": 15, \"4\": 14, \"11\": 2, \"0\": 17, \"3\": 23, \"12\": 8, \"6\": 7}, \"6\": {\"3\": 11, \"10\": 12, \"11\": 12, \"8\": 19, \"15\": 19, \"7\": 11, \"12\": 30, \"13\": 14, \"0\": 16, \"9\": 7, \"1\": 14, \"14\": 17, \"2\": 9, \"6\": 19, \"4\": 14, \"5\": 16}, \"14\": {\"7\": 24, \"3\": 12, \"14\": 22, \"1\": 20, \"12\": 9, \"0\": 20, \"8\": 20, \"13\": 9, \"6\": 13, \"5\": 16, \"9\": 12, \"10\": 19, \"2\": 14, \"4\": 19, \"15\": 9, \"11\": 2}, \"15\": {\"9\": 20, \"4\": 12, \"5\": 19, \"7\": 16, \"3\": 19, \"14\": 20, \"1\": 13, \"6\": 15, \"10\": 23, \"15\": 14, \"2\": 12, \"0\": 14, \"8\": 15, \"12\": 8, \"13\": 15, \"11\": 5}, \"5\": {\"15\": 15, \"13\": 27, \"12\": 13, \"8\": 17, \"0\": 16, \"5\": 14, \"14\": 13, \"7\": 15, \"9\": 21, \"1\": 12, \"2\": 19, \"3\": 14, \"4\": 12, \"6\": 13, \"11\": 8, \"10\": 11}, \"10\": {\"4\": 12, \"1\": 20, \"7\": 15, \"6\": 16, \"13\": 13, \"10\": 14, \"8\": 17, \"15\": 22, \"12\": 17, \"14\": 24, \"2\": 13, \"5\": 7, \"9\": 13, \"0\": 15, \"3\": 19, \"11\": 3}, \"4\": {\"2\": 19, \"13\": 14, \"4\": 24, \"11\": 6, \"1\": 12, \"7\": 14, \"0\": 22, \"10\": 22, \"8\": 16, \"12\": 4, \"14\": 19, \"15\": 11, \"5\": 11, \"3\": 20, \"6\": 12, \"9\": 14}, \"11\": {\"11\": 111, \"12\": 51, \"13\": 17, \"10\": 3, \"15\": 11, \"5\": 11, \"6\": 15, \"14\": 1, \"8\": 4, \"3\": 2, \"0\": 5, \"4\": 3, \"9\": 2, \"1\": 4}, \"13\": {\"13\": 26, \"2\": 20, \"0\": 13, \"14\": 10, \"6\": 18, \"9\": 19, \"5\": 26, \"3\": 15, \"15\": 16, \"11\": 10, \"12\": 24, \"10\": 11, \"8\": 10, \"7\": 7, \"4\": 8, \"1\": 7}, \"2\": {\"2\": 18, \"14\": 21, \"10\": 21, \"0\": 13, \"3\": 29, \"7\": 16, \"15\": 20, \"9\": 10, \"5\": 15, \"11\": 2, \"4\": 17, \"8\": 13, \"6\": 14, \"1\": 13, \"13\": 10, \"12\": 8}, \"0\": {\"1\": 17, \"7\": 16, \"10\": 20, \"2\": 18, \"0\": 27, \"5\": 14, \"14\": 28, \"6\": 19, \"4\": 10, \"8\": 17, \"12\": 11, \"13\": 8, \"15\": 13, \"3\": 9, \"9\": 11, \"11\": 2}, \"12\": {\"4\": 8, \"10\": 18, \"6\": 23, \"8\": 10, \"12\": 69, \"9\": 12, \"1\": 5, \"7\": 7, \"13\": 10, \"11\": 39, \"3\": 2, \"0\": 8, \"14\": 5, \"2\": 8, \"15\": 10, \"5\": 6}, \"3\": {\"14\": 17, \"9\": 12, \"0\": 13, \"7\": 23, \"6\": 7, \"3\": 26, \"1\": 17, \"2\": 23, \"8\": 13, \"10\": 12, \"13\": 15, \"5\": 16, \"12\": 4, \"4\": 26, \"15\": 16}, \"9\": {\"9\": 25, \"5\": 20, \"10\": 15, \"12\": 18, \"0\": 14, \"8\": 17, \"2\": 11, \"6\": 19, \"1\": 14, \"13\": 13, \"14\": 9, \"7\": 13, \"4\": 15, \"11\": 8, \"3\": 17, \"15\": 12}, \"8\": {\"12\": 17, \"13\": 14, \"7\": 17, \"3\": 24, \"8\": 17, \"15\": 19, \"4\": 13, \"6\": 13, \"5\": 11, \"9\": 18, \"2\": 6, \"1\": 20, \"14\": 16, \"10\": 17, \"0\": 17, \"11\": 1}, \"1\": {\"6\": 22, \"1\": 25, \"9\": 14, \"5\": 9, \"2\": 14, \"12\": 10, \"0\": 13, \"10\": 19, \"13\": 5, \"14\": 23, \"3\": 28, \"4\": 14, \"11\": 3, \"7\": 14, \"8\": 18, \"15\": 9}}, \"ORACLE.run1_32\": {\"7\": {\"12\": 1, \"13\": 25, \"3\": 14, \"14\": 18, \"4\": 28, \"11\": 22, \"0\": 28, \"2\": 29, \"8\": 21, \"7\": 24, \"5\": 22, \"15\": 6, \"9\": 2}, \"2\": {\"0\": 21, \"2\": 57, \"4\": 29, \"9\": 27, \"12\": 3, \"11\": 7, \"5\": 16, \"8\": 16, \"14\": 13, \"13\": 17, \"3\": 7, \"7\": 24, \"15\": 2, \"6\": 1}, \"5\": {\"12\": 1, \"4\": 31, \"14\": 29, \"0\": 23, \"7\": 17, \"2\": 19, \"5\": 32, \"3\": 30, \"11\": 14, \"15\": 8, \"13\": 16, \"8\": 15, \"9\": 4, \"6\": 1}, \"6\": {\"10\": 41, \"6\": 118, \"9\": 16, \"1\": 36, \"12\": 27, \"4\": 1, \"0\": 1}, \"13\": {\"13\": 24, \"7\": 26, \"4\": 19, \"5\": 22, \"14\": 27, \"3\": 35, \"8\": 24, \"0\": 16, \"11\": 19, \"15\": 13, \"2\": 15}, \"4\": {\"8\": 19, \"2\": 29, \"7\": 23, \"13\": 25, \"5\": 23, \"12\": 4, \"14\": 17, \"0\": 24, \"11\": 11, \"4\": 26, \"3\": 14, \"15\": 7, \"9\": 18}, \"3\": {\"4\": 12, \"15\": 23, \"13\": 23, \"7\": 17, \"11\": 22, \"3\": 48, \"5\": 27, \"14\": 16, \"8\": 31, \"2\": 12, \"0\": 9}, \"0\": {\"5\": 18, \"3\": 16, \"0\": 34, \"7\": 22, \"4\": 32, \"2\": 12, \"8\": 25, \"15\": 4, \"14\": 18, \"13\": 25, \"9\": 12, \"11\": 18, \"12\": 4}, \"9\": {\"9\": 92, \"8\": 1, \"6\": 13, \"12\": 77, \"4\": 7, \"2\": 22, \"10\": 6, \"0\": 9, \"14\": 1, \"13\": 3, \"7\": 4, \"5\": 3, \"3\": 1, \"1\": 1}, \"12\": {\"12\": 111, \"9\": 68, \"6\": 19, \"10\": 24, \"1\": 10, \"2\": 6, \"0\": 1, \"5\": 1}, \"8\": {\"2\": 23, \"13\": 23, \"3\": 25, \"8\": 27, \"9\": 8, \"4\": 24, \"14\": 17, \"7\": 10, \"12\": 1, \"0\": 25, \"5\": 24, \"11\": 9, \"15\": 24}, \"14\": {\"14\": 43, \"0\": 19, \"2\": 16, \"7\": 27, \"4\": 14, \"11\": 36, \"8\": 26, \"13\": 18, \"15\": 3, \"3\": 26, \"5\": 12}, \"15\": {\"15\": 84, \"3\": 40, \"7\": 5, \"8\": 30, \"11\": 13, \"13\": 25, \"0\": 11, \"5\": 14, \"4\": 10, \"14\": 6, \"2\": 2}, \"11\": {\"11\": 46, \"7\": 20, \"3\": 35, \"2\": 12, \"5\": 21, \"0\": 20, \"4\": 19, \"14\": 30, \"8\": 12, \"13\": 15, \"15\": 10}, \"10\": {\"6\": 40, \"10\": 100, \"1\": 62, \"0\": 1, \"12\": 33, \"9\": 4}, \"1\": {\"1\": 131, \"10\": 66, \"6\": 39, \"12\": 4}}, \"ORACLE.run1_44\": {\"11\": {\"6\": 38, \"9\": 21, \"11\": 56, \"13\": 28, \"4\": 16, \"10\": 9, \"2\": 13, \"12\": 5, \"7\": 19, \"1\": 8, \"14\": 12, \"3\": 6, \"5\": 2, \"0\": 3, \"15\": 2, \"8\": 2}, \"7\": {\"13\": 23, \"6\": 19, \"1\": 28, \"3\": 22, \"11\": 19, \"9\": 30, \"2\": 23, \"7\": 24, \"10\": 22, \"12\": 19, \"14\": 4, \"4\": 6, \"5\": 1}, \"6\": {\"11\": 30, \"7\": 29, \"13\": 50, \"6\": 45, \"10\": 14, \"2\": 18, \"9\": 24, \"1\": 8, \"12\": 5, \"5\": 1, \"14\": 3, \"4\": 6, \"8\": 1, \"0\": 1, \"3\": 5}, \"12\": {\"10\": 43, \"3\": 33, \"1\": 40, \"12\": 63, \"7\": 13, \"2\": 19, \"6\": 8, \"9\": 11, \"13\": 5, \"11\": 4, \"14\": 1}, \"4\": {\"14\": 37, \"8\": 11, \"9\": 16, \"5\": 33, \"3\": 7, \"1\": 4, \"4\": 48, \"13\": 15, \"15\": 28, \"0\": 15, \"2\": 6, \"10\": 1, \"6\": 5, \"7\": 9, \"11\": 4, \"12\": 1}, \"13\": {\"6\": 42, \"9\": 21, \"12\": 6, \"15\": 4, \"10\": 6, \"13\": 42, \"11\": 33, \"1\": 11, \"7\": 24, \"2\": 11, \"4\": 25, \"14\": 5, \"3\": 7, \"5\": 2, \"8\": 1}, \"8\": {\"4\": 7, \"8\": 89, \"5\": 38, \"0\": 48, \"15\": 39, \"14\": 16, \"9\": 1, \"1\": 1, \"3\": 1}, \"5\": {\"14\": 26, \"4\": 33, \"8\": 27, \"5\": 60, \"0\": 46, \"15\": 42, \"13\": 1, \"11\": 1, \"9\": 3, \"6\": 1}, \"14\": {\"8\": 13, \"9\": 15, \"15\": 43, \"14\": 39, \"4\": 46, \"5\": 40, \"0\": 16, \"6\": 5, \"13\": 12, \"7\": 3, \"3\": 2, \"11\": 4, \"2\": 1, \"10\": 1}, \"3\": {\"10\": 23, \"3\": 50, \"1\": 30, \"6\": 14, \"2\": 27, \"9\": 15, \"12\": 31, \"13\": 7, \"15\": 3, \"4\": 5, \"7\": 18, \"11\": 9, \"0\": 2, \"14\": 6}, \"10\": {\"6\": 13, \"10\": 50, \"12\": 41, \"2\": 36, \"7\": 27, \"3\": 13, \"1\": 44, \"9\": 6, \"13\": 3, \"11\": 5, \"15\": 1, \"14\": 1}, \"1\": {\"6\": 9, \"3\": 25, \"12\": 43, \"14\": 5, \"1\": 36, \"2\": 30, \"10\": 49, \"7\": 18, \"9\": 19, \"13\": 6}, \"2\": {\"1\": 32, \"7\": 28, \"12\": 31, \"10\": 39, \"9\": 15, \"6\": 18, \"13\": 17, \"3\": 14, \"4\": 5, \"2\": 31, \"11\": 6, \"14\": 2, \"15\": 2}, \"15\": {\"8\": 33, \"0\": 41, \"15\": 50, \"14\": 39, \"5\": 35, \"4\": 23, \"9\": 4, \"7\": 2, \"13\": 4, \"11\": 4, \"3\": 4, \"6\": 1}, \"9\": {\"11\": 15, \"13\": 27, \"12\": 12, \"2\": 21, \"7\": 25, \"3\": 18, \"6\": 28, \"1\": 14, \"9\": 26, \"4\": 18, \"14\": 11, \"15\": 7, \"10\": 14, \"0\": 2, \"5\": 2}, \"0\": {\"15\": 44, \"8\": 58, \"0\": 65, \"14\": 19, \"5\": 34, \"9\": 1, \"13\": 4, \"7\": 1, \"4\": 11, \"1\": 1, \"3\": 1, \"12\": 1}}, \"ORACLE.run1_8\": {\"10\": {\"12\": 4, \"10\": 25, \"2\": 10, \"5\": 18, \"14\": 24, \"13\": 12, \"1\": 25, \"9\": 7, \"11\": 22, \"3\": 11, \"15\": 12, \"6\": 17, \"4\": 20, \"0\": 19, \"7\": 9, \"8\": 5}, \"6\": {\"12\": 8, \"4\": 21, \"0\": 12, \"13\": 21, \"10\": 18, \"3\": 20, \"1\": 19, \"6\": 24, \"7\": 18, \"8\": 12, \"5\": 13, \"15\": 16, \"2\": 13, \"9\": 1, \"14\": 14, \"11\": 10}, \"13\": {\"6\": 19, \"3\": 7, \"5\": 16, \"7\": 15, \"11\": 19, \"1\": 22, \"12\": 10, \"15\": 12, \"10\": 31, \"2\": 9, \"8\": 10, \"4\": 19, \"14\": 18, \"13\": 11, \"9\": 7, \"0\": 15}, \"3\": {\"2\": 41, \"12\": 41, \"3\": 36, \"4\": 9, \"6\": 14, \"14\": 5, \"8\": 11, \"7\": 13, \"15\": 33, \"13\": 7, \"0\": 13, \"10\": 4, \"5\": 5, \"11\": 4, \"1\": 4}, \"9\": {\"5\": 23, \"9\": 144, \"13\": 16, \"14\": 11, \"10\": 20, \"0\": 5, \"6\": 3, \"4\": 8, \"11\": 4, \"1\": 2, \"7\": 3, \"15\": 1}, \"1\": {\"1\": 30, \"7\": 12, \"8\": 15, \"14\": 23, \"4\": 22, \"11\": 22, \"10\": 23, \"13\": 14, \"6\": 17, \"5\": 21, \"0\": 13, \"15\": 15, \"3\": 3, \"9\": 2, \"12\": 4, \"2\": 4}, \"5\": {\"14\": 20, \"10\": 22, \"5\": 38, \"1\": 26, \"13\": 15, \"4\": 27, \"2\": 4, \"8\": 12, \"11\": 16, \"6\": 15, \"7\": 10, \"9\": 11, \"0\": 14, \"3\": 1, \"15\": 5, \"12\": 4}, \"11\": {\"13\": 18, \"12\": 21, \"5\": 18, \"14\": 11, \"15\": 9, \"4\": 15, \"6\": 13, \"1\": 26, \"2\": 8, \"8\": 21, \"11\": 31, \"0\": 12, \"10\": 19, \"7\": 9, \"9\": 4, \"3\": 5}, \"4\": {\"9\": 2, \"15\": 7, \"2\": 10, \"11\": 18, \"8\": 17, \"4\": 16, \"3\": 13, \"14\": 18, \"5\": 17, \"13\": 20, \"12\": 12, \"6\": 18, \"0\": 21, \"7\": 10, \"10\": 16, \"1\": 25}, \"14\": {\"5\": 22, \"10\": 26, \"8\": 10, \"15\": 10, \"7\": 15, \"6\": 15, \"0\": 8, \"1\": 15, \"3\": 15, \"13\": 21, \"2\": 10, \"4\": 18, \"14\": 17, \"12\": 9, \"11\": 21, \"9\": 8}, \"12\": {\"4\": 9, \"2\": 40, \"12\": 31, \"7\": 13, \"3\": 33, \"11\": 11, \"15\": 33, \"6\": 9, \"8\": 25, \"10\": 4, \"13\": 6, \"1\": 8, \"14\": 6, \"5\": 6, \"0\": 5, \"9\": 1}, \"7\": {\"12\": 23, \"3\": 13, \"11\": 15, \"15\": 28, \"0\": 16, \"14\": 15, \"4\": 15, \"2\": 19, \"10\": 14, \"6\": 20, \"7\": 23, \"5\": 12, \"13\": 9, \"1\": 5, \"8\": 11, \"9\": 2}, \"0\": {\"6\": 12, \"7\": 27, \"3\": 13, \"4\": 19, \"10\": 17, \"13\": 17, \"1\": 18, \"2\": 14, \"12\": 7, \"15\": 16, \"8\": 14, \"5\": 17, \"14\": 14, \"11\": 12, \"0\": 18, \"9\": 5}, \"15\": {\"4\": 14, \"12\": 27, \"3\": 30, \"14\": 9, \"15\": 23, \"7\": 21, \"13\": 13, \"1\": 14, \"10\": 7, \"2\": 29, \"8\": 19, \"6\": 19, \"5\": 4, \"0\": 5, \"11\": 6}, \"2\": {\"0\": 13, \"15\": 30, \"7\": 20, \"5\": 6, \"3\": 35, \"1\": 6, \"12\": 26, \"2\": 33, \"13\": 11, \"9\": 2, \"8\": 17, \"6\": 14, \"4\": 7, \"14\": 11, \"10\": 5, \"11\": 4}, \"8\": {\"14\": 16, \"1\": 26, \"8\": 20, \"2\": 15, \"12\": 24, \"5\": 12, \"15\": 22, \"0\": 12, \"6\": 20, \"4\": 8, \"11\": 19, \"10\": 8, \"3\": 15, \"7\": 13, \"13\": 10}}, \"ORACLE.run1_38\": {\"4\": {\"4\": 88, \"12\": 46, \"1\": 1, \"3\": 14, \"8\": 8, \"7\": 30, \"10\": 15, \"11\": 8, \"2\": 3, \"5\": 6, \"0\": 12, \"14\": 2, \"15\": 2, \"6\": 1, \"13\": 3, \"9\": 1}, \"7\": {\"7\": 46, \"0\": 31, \"3\": 29, \"8\": 26, \"9\": 11, \"6\": 21, \"5\": 22, \"4\": 14, \"15\": 3, \"10\": 14, \"13\": 9, \"12\": 6, \"11\": 1, \"14\": 3, \"1\": 2, \"2\": 2}, \"12\": {\"4\": 48, \"8\": 6, \"7\": 12, \"15\": 6, \"12\": 69, \"10\": 17, \"14\": 32, \"2\": 2, \"0\": 16, \"13\": 3, \"1\": 3, \"11\": 14, \"3\": 3, \"5\": 7, \"6\": 2}, \"10\": {\"15\": 17, \"1\": 10, \"4\": 17, \"14\": 20, \"5\": 18, \"2\": 12, \"3\": 5, \"8\": 21, \"13\": 27, \"12\": 16, \"7\": 21, \"10\": 21, \"11\": 12, \"9\": 4, \"0\": 12, \"6\": 7}, \"0\": {\"4\": 8, \"6\": 20, \"9\": 19, \"5\": 18, \"0\": 34, \"15\": 12, \"12\": 13, \"7\": 28, \"13\": 9, \"8\": 22, \"3\": 23, \"1\": 10, \"10\": 13, \"2\": 3, \"14\": 5, \"11\": 3}, \"1\": {\"1\": 38, \"6\": 13, \"5\": 24, \"15\": 33, \"14\": 12, \"11\": 4, \"2\": 28, \"0\": 7, \"8\": 12, \"13\": 35, \"9\": 17, \"10\": 8, \"12\": 1, \"7\": 5, \"3\": 2, \"4\": 1}, \"5\": {\"1\": 20, \"3\": 19, \"0\": 14, \"7\": 28, \"5\": 20, \"6\": 20, \"10\": 18, \"8\": 24, \"15\": 20, \"9\": 23, \"13\": 10, \"4\": 6, \"2\": 8, \"11\": 2, \"12\": 4, \"14\": 4}, \"15\": {\"15\": 27, \"2\": 32, \"7\": 12, \"1\": 27, \"9\": 5, \"13\": 26, \"8\": 27, \"5\": 12, \"14\": 12, \"3\": 8, \"6\": 10, \"0\": 4, \"12\": 3, \"10\": 19, \"11\": 15, \"4\": 1}, \"9\": {\"3\": 54, \"5\": 21, \"9\": 45, \"13\": 7, \"6\": 33, \"7\": 11, \"8\": 20, \"15\": 12, \"0\": 11, \"2\": 1, \"1\": 14, \"12\": 1, \"10\": 9, \"4\": 1}, \"11\": {\"13\": 15, \"14\": 53, \"2\": 38, \"4\": 9, \"12\": 22, \"11\": 43, \"15\": 12, \"6\": 2, \"0\": 4, \"10\": 19, \"8\": 9, \"1\": 6, \"7\": 2, \"3\": 3, \"5\": 2, \"9\": 1}, \"14\": {\"15\": 10, \"2\": 43, \"14\": 69, \"10\": 14, \"1\": 7, \"12\": 12, \"0\": 4, \"11\": 43, \"7\": 5, \"13\": 13, \"6\": 1, \"9\": 2, \"8\": 11, \"5\": 2, \"4\": 4}, \"6\": {\"9\": 43, \"6\": 43, \"0\": 19, \"5\": 21, \"7\": 18, \"11\": 1, \"3\": 25, \"1\": 19, \"15\": 14, \"8\": 17, \"2\": 2, \"10\": 9, \"13\": 8, \"14\": 1}, \"8\": {\"4\": 5, \"15\": 22, \"1\": 15, \"11\": 8, \"2\": 13, \"6\": 21, \"9\": 9, \"10\": 26, \"0\": 29, \"8\": 20, \"3\": 10, \"13\": 17, \"7\": 15, \"5\": 13, \"14\": 11, \"12\": 6}, \"3\": {\"0\": 26, \"5\": 18, \"9\": 37, \"6\": 31, \"8\": 10, \"3\": 82, \"7\": 15, \"4\": 4, \"12\": 1, \"10\": 7, \"1\": 5, \"15\": 2, \"13\": 1, \"2\": 1}, \"2\": {\"13\": 29, \"8\": 8, \"1\": 18, \"14\": 35, \"2\": 72, \"15\": 18, \"11\": 32, \"5\": 7, \"9\": 3, \"10\": 12, \"0\": 3, \"7\": 1, \"6\": 1, \"3\": 1}, \"13\": {\"10\": 19, \"15\": 34, \"14\": 14, \"11\": 10, \"8\": 25, \"13\": 26, \"1\": 21, \"2\": 32, \"5\": 17, \"0\": 15, \"9\": 5, \"6\": 8, \"7\": 7, \"12\": 5, \"4\": 1, \"3\": 1}}}, \"per_domain_accuracy\": {\"CORES_4\": {\"accuracy\": 0.998877245508982, \"source?\": true}, \"CORES_5\": {\"accuracy\": 0.9994762569832403, \"source?\": true}, \"CORES_2\": {\"accuracy\": 0.9996428571428572, \"source?\": true}, \"CORES_1\": {\"accuracy\": 0.9984714673913043, \"source?\": true}, \"CORES_3\": {\"accuracy\": 0.9992647058823529, \"source?\": true}, \"ORACLE.run1_14\": {\"accuracy\": 0.16796875, \"source?\": false}, \"ORACLE.run1_20\": {\"accuracy\": 0.0859375, \"source?\": false}, \"ORACLE.run1_50\": {\"accuracy\": 0.1796875, \"source?\": false}, \"ORACLE.run1_26\": {\"accuracy\": 0.12421875, \"source?\": false}, \"ORACLE.run1_32\": {\"accuracy\": 0.2596354166666667, \"source?\": false}, \"ORACLE.run1_44\": {\"accuracy\": 0.2015625, \"source?\": false}, \"ORACLE.run1_8\": {\"accuracy\": 0.13541666666666666, \"source?\": false}, \"ORACLE.run1_38\": {\"accuracy\": 0.19348958333333333, \"source?\": false}}}, \"history\": {\"epoch_indices\": [1, 2, 3, 4, 5, 6, 7, 8, 9], \"train_label_loss\": [0.02499479584335536, 0.006677153839069744, 0.004666039392861062, 0.0036045054396734865, 0.0027973093977138605, 0.0028781815182938064, 0.002218368338017866, 0.002313135557083221, 0.0024997862020433494], \"source_val_label_loss\": [0.008161576464772224, 0.011500314809381962, 0.009031277149915695, 0.012437914498150349, 0.011420952156186104, 0.007976316846907139, 0.008680688217282295, 0.018318984657526016, 0.01255469024181366], \"target_val_label_loss\": [2.7271997928619385, 3.0386104583740234, 3.367764949798584, 3.4478096961975098, 3.744306802749634, 3.9729275703430176, 3.9479236602783203, 4.2671403884887695, 4.344888210296631], \"source_val_acc_label\": [0.9982142857142857, 0.9985714285714286, 0.9993928571428572, 0.9988214285714285, 0.9991428571428571, 0.9993928571428572, 0.9993571428571428, 0.999, 0.9994285714285714], \"target_val_acc_label\": [0.1322265625, 0.14173177083333333, 0.16435546875, 0.1609375, 0.16848958333333333, 0.14794921875, 0.15595703125, 0.15758463541666667, 0.15882161458333333]}, \"dataset_metrics\": {\"source\": {\"train\": {\"n_unique_x\": 175160, \"n_unique_y\": 58, \"n_batch/episode\": 6306}, \"val\": {\"n_unique_x\": 37216, \"n_unique_y\": 58, \"n_batch/episode\": 875}, \"test\": {\"n_unique_x\": 37596, \"n_unique_y\": 58, \"n_batch/episode\": 886}}, \"target\": {\"train\": {\"n_unique_x\": 179200, \"n_unique_y\": 16, \"n_batch/episode\": 6720}, \"val\": {\"n_unique_x\": 38400, \"n_unique_y\": 16, \"n_batch/episode\": 960}, \"test\": {\"n_unique_x\": 38400, \"n_unique_y\": 16, \"n_batch/episode\": 960}}}}'"
      ]
     },
     "execution_count": 29,
     "metadata": {},
     "output_type": "execute_result"
    }
   ],
   "source": [
    "json.dumps(experiment)"
   ]
  }
 ],
 "metadata": {
  "celltoolbar": "Tags",
  "kernelspec": {
   "display_name": "Python 3 (ipykernel)",
   "language": "python",
   "name": "python3"
  },
  "language_info": {
   "codemirror_mode": {
    "name": "ipython",
    "version": 3
   },
   "file_extension": ".py",
   "mimetype": "text/x-python",
   "name": "python",
   "nbconvert_exporter": "python",
   "pygments_lexer": "ipython3",
   "version": "3.8.12"
  },
  "papermill": {
   "default_parameters": {},
   "duration": 2372.134298,
   "end_time": "2022-03-22T07:34:40.744346",
   "environment_variables": {},
   "exception": null,
   "input_path": "/root/csc500-main/csc500-notebooks/templates/tl_ptn_template.ipynb",
   "output_path": "trial.ipynb",
   "parameters": {
    "parameters": {
     "BEST_MODEL_PATH": "./best_model.pth",
     "NUM_LOGS_PER_EPOCH": 10,
     "criteria_for_best": "target_accuracy",
     "dataset_seed": 420,
     "datasets": [
      {
       "domain_prefix": "CORES_",
       "domains": [
        1,
        2,
        3,
        4,
        5
       ],
       "episode_transforms": [],
       "labels": [
        "1-10.",
        "1-11.",
        "1-15.",
        "1-16.",
        "1-17.",
        "1-18.",
        "1-19.",
        "10-4.",
        "10-7.",
        "11-1.",
        "11-14.",
        "11-17.",
        "11-20.",
        "11-7.",
        "13-20.",
        "13-8.",
        "14-10.",
        "14-11.",
        "14-14.",
        "14-7.",
        "15-1.",
        "15-20.",
        "16-1.",
        "16-16.",
        "17-10.",
        "17-11.",
        "17-2.",
        "19-1.",
        "19-16.",
        "19-19.",
        "19-20.",
        "19-3.",
        "2-10.",
        "2-11.",
        "2-17.",
        "2-18.",
        "2-20.",
        "2-3.",
        "2-4.",
        "2-5.",
        "2-6.",
        "2-7.",
        "2-8.",
        "3-13.",
        "3-18.",
        "3-3.",
        "4-1.",
        "4-10.",
        "4-11.",
        "4-19.",
        "5-5.",
        "6-15.",
        "7-10.",
        "7-14.",
        "8-18.",
        "8-20.",
        "8-3.",
        "8-8."
       ],
       "num_examples_per_domain_per_label": -1,
       "pickle_path": "/root/csc500-main/datasets/cores.stratified_ds.2022A.pkl",
       "source_or_target_dataset": "source",
       "x_transforms": [
        "unit_power"
       ]
      },
      {
       "domain_prefix": "ORACLE.run1_",
       "domains": [
        32,
        38,
        8,
        44,
        14,
        50,
        20,
        26
       ],
       "episode_transforms": [],
       "labels": [
        "3123D52",
        "3123D65",
        "3123D79",
        "3123D80",
        "3123D54",
        "3123D70",
        "3123D7B",
        "3123D89",
        "3123D58",
        "3123D76",
        "3123D7D",
        "3123EFE",
        "3123D64",
        "3123D78",
        "3123D7E",
        "3124E4A"
       ],
       "num_examples_per_domain_per_label": 2000,
       "pickle_path": "/root/csc500-main/datasets/oracle.Run1_10kExamples_stratified_ds.2022A.pkl",
       "source_or_target_dataset": "target",
       "x_transforms": [
        "unit_power"
       ]
      }
     ],
     "device": "cuda",
     "experiment_name": "tl_1v2:cores-oracle.run1.limited",
     "lr": 0.0001,
     "n_epoch": 50,
     "n_query": 2,
     "n_shot": 3,
     "n_way": 16,
     "patience": 3,
     "seed": 420,
     "test_k_factor": 2,
     "torch_default_dtype": "torch.float32",
     "train_k_factor": 3,
     "val_k_factor": 2,
     "x_net": [
      {
       "class": "nnReshape",
       "kargs": {
        "shape": [
         -1,
         1,
         2,
         256
        ]
       }
      },
      {
       "class": "Conv2d",
       "kargs": {
        "bias": false,
        "in_channels": 1,
        "kernel_size": [
         1,
         7
        ],
        "out_channels": 256,
        "padding": [
         0,
         3
        ]
       }
      },
      {
       "class": "ReLU",
       "kargs": {
        "inplace": true
       }
      },
      {
       "class": "BatchNorm2d",
       "kargs": {
        "num_features": 256
       }
      },
      {
       "class": "Conv2d",
       "kargs": {
        "bias": true,
        "in_channels": 256,
        "kernel_size": [
         2,
         7
        ],
        "out_channels": 80,
        "padding": [
         0,
         3
        ]
       }
      },
      {
       "class": "ReLU",
       "kargs": {
        "inplace": true
       }
      },
      {
       "class": "BatchNorm2d",
       "kargs": {
        "num_features": 80
       }
      },
      {
       "class": "Flatten",
       "kargs": {}
      },
      {
       "class": "Linear",
       "kargs": {
        "in_features": 20480,
        "out_features": 256
       }
      },
      {
       "class": "ReLU",
       "kargs": {
        "inplace": true
       }
      },
      {
       "class": "BatchNorm1d",
       "kargs": {
        "num_features": 256
       }
      },
      {
       "class": "Linear",
       "kargs": {
        "in_features": 256,
        "out_features": 256
       }
      }
     ]
    }
   },
   "start_time": "2022-03-22T06:55:08.610048",
   "version": "2.3.4"
  }
 },
 "nbformat": 4,
 "nbformat_minor": 5
}