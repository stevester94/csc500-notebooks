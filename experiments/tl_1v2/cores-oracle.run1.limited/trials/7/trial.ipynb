{
 "cells": [
  {
   "cell_type": "markdown",
   "id": "9fea5f46",
   "metadata": {
    "papermill": {
     "duration": 0.027192,
     "end_time": "2022-03-22T07:34:41.961781",
     "exception": false,
     "start_time": "2022-03-22T07:34:41.934589",
     "status": "completed"
    },
    "tags": []
   },
   "source": [
    "# Transfer Learning Template"
   ]
  },
  {
   "cell_type": "code",
   "execution_count": 1,
   "id": "0902182a",
   "metadata": {
    "execution": {
     "iopub.execute_input": "2022-03-22T07:34:42.025114Z",
     "iopub.status.busy": "2022-03-22T07:34:42.024221Z",
     "iopub.status.idle": "2022-03-22T07:34:44.971184Z",
     "shell.execute_reply": "2022-03-22T07:34:44.970302Z"
    },
    "papermill": {
     "duration": 2.987037,
     "end_time": "2022-03-22T07:34:44.971367",
     "exception": false,
     "start_time": "2022-03-22T07:34:41.984330",
     "status": "completed"
    },
    "tags": []
   },
   "outputs": [],
   "source": [
    "%load_ext autoreload\n",
    "%autoreload 2\n",
    "%matplotlib inline\n",
    "\n",
    "    \n",
    "import os, json, sys, time, random\n",
    "import numpy as np\n",
    "import torch\n",
    "from torch.optim import Adam\n",
    "from  easydict import EasyDict\n",
    "import matplotlib.pyplot as plt\n",
    "\n",
    "from steves_models.steves_ptn import Steves_Prototypical_Network\n",
    "\n",
    "from steves_utils.lazy_iterable_wrapper import Lazy_Iterable_Wrapper\n",
    "from steves_utils.iterable_aggregator import Iterable_Aggregator\n",
    "from steves_utils.ptn_train_eval_test_jig import  PTN_Train_Eval_Test_Jig\n",
    "from steves_utils.torch_sequential_builder import build_sequential\n",
    "from steves_utils.torch_utils import get_dataset_metrics, ptn_confusion_by_domain_over_dataloader\n",
    "from steves_utils.utils_v2 import (per_domain_accuracy_from_confusion, get_datasets_base_path)\n",
    "from steves_utils.PTN.utils import independent_accuracy_assesment\n",
    "\n",
    "from torch.utils.data import DataLoader\n",
    "\n",
    "from steves_utils.stratified_dataset.episodic_accessor import Episodic_Accessor_Factory\n",
    "\n",
    "from steves_utils.ptn_do_report import (\n",
    "    get_loss_curve,\n",
    "    get_results_table,\n",
    "    get_parameters_table,\n",
    "    get_domain_accuracies,\n",
    ")\n",
    "\n",
    "from steves_utils.transforms import get_chained_transform"
   ]
  },
  {
   "cell_type": "markdown",
   "id": "41c840b4",
   "metadata": {
    "papermill": {
     "duration": 0.019495,
     "end_time": "2022-03-22T07:34:45.019630",
     "exception": false,
     "start_time": "2022-03-22T07:34:45.000135",
     "status": "completed"
    },
    "tags": []
   },
   "source": [
    "# Allowed Parameters\n",
    "These are allowed parameters, not defaults\n",
    "Each of these values need to be present in the injected parameters (the notebook will raise an exception if they are not present)\n",
    "\n",
    "Papermill uses the cell tag \"parameters\" to inject the real parameters below this cell.\n",
    "Enable tags to see what I mean"
   ]
  },
  {
   "cell_type": "code",
   "execution_count": 2,
   "id": "fd44eb83",
   "metadata": {
    "execution": {
     "iopub.execute_input": "2022-03-22T07:34:45.065075Z",
     "iopub.status.busy": "2022-03-22T07:34:45.064678Z",
     "iopub.status.idle": "2022-03-22T07:34:45.088399Z",
     "shell.execute_reply": "2022-03-22T07:34:45.087563Z"
    },
    "papermill": {
     "duration": 0.049315,
     "end_time": "2022-03-22T07:34:45.088571",
     "exception": false,
     "start_time": "2022-03-22T07:34:45.039256",
     "status": "completed"
    },
    "tags": []
   },
   "outputs": [],
   "source": [
    "required_parameters = {\n",
    "    \"experiment_name\",\n",
    "    \"lr\",\n",
    "    \"device\",\n",
    "    \"seed\",\n",
    "    \"dataset_seed\",\n",
    "    \"n_shot\",\n",
    "    \"n_query\",\n",
    "    \"n_way\",\n",
    "    \"train_k_factor\",\n",
    "    \"val_k_factor\",\n",
    "    \"test_k_factor\",\n",
    "    \"n_epoch\",\n",
    "    \"patience\",\n",
    "    \"criteria_for_best\",\n",
    "    \"x_net\",\n",
    "    \"datasets\",\n",
    "    \"torch_default_dtype\",\n",
    "    \"NUM_LOGS_PER_EPOCH\",\n",
    "    \"BEST_MODEL_PATH\",\n",
    "    \"x_shape\",\n",
    "}"
   ]
  },
  {
   "cell_type": "code",
   "execution_count": 3,
   "id": "fa3f0049",
   "metadata": {
    "execution": {
     "iopub.execute_input": "2022-03-22T07:34:45.143329Z",
     "iopub.status.busy": "2022-03-22T07:34:45.142610Z",
     "iopub.status.idle": "2022-03-22T07:34:45.165108Z",
     "shell.execute_reply": "2022-03-22T07:34:45.164281Z"
    },
    "papermill": {
     "duration": 0.052015,
     "end_time": "2022-03-22T07:34:45.165282",
     "exception": false,
     "start_time": "2022-03-22T07:34:45.113267",
     "status": "completed"
    },
    "tags": [
     "parameters"
    ]
   },
   "outputs": [],
   "source": [
    "from steves_utils.CORES.utils import (\n",
    "    ALL_NODES,\n",
    "    ALL_NODES_MINIMUM_1000_EXAMPLES,\n",
    "    ALL_DAYS\n",
    ")\n",
    "\n",
    "from steves_utils.ORACLE.utils_v2 import (\n",
    "    ALL_DISTANCES_FEET_NARROWED,\n",
    "    ALL_RUNS,\n",
    "    ALL_SERIAL_NUMBERS,\n",
    ")\n",
    "\n",
    "standalone_parameters = {}\n",
    "standalone_parameters[\"experiment_name\"] = \"STANDALONE PTN\"\n",
    "standalone_parameters[\"lr\"] = 0.001\n",
    "standalone_parameters[\"device\"] = \"cuda\"\n",
    "\n",
    "standalone_parameters[\"seed\"] = 1337\n",
    "standalone_parameters[\"dataset_seed\"] = 1337\n",
    "\n",
    "standalone_parameters[\"n_way\"] = 8\n",
    "standalone_parameters[\"n_shot\"] = 3\n",
    "standalone_parameters[\"n_query\"]  = 2\n",
    "standalone_parameters[\"train_k_factor\"] = 1\n",
    "standalone_parameters[\"val_k_factor\"] = 2\n",
    "standalone_parameters[\"test_k_factor\"] = 2\n",
    "\n",
    "\n",
    "standalone_parameters[\"n_epoch\"] = 50\n",
    "\n",
    "standalone_parameters[\"patience\"] = 10\n",
    "standalone_parameters[\"criteria_for_best\"] = \"source_loss\"\n",
    "\n",
    "standalone_parameters[\"datasets\"] = [\n",
    "    {\n",
    "        \"labels\": ALL_SERIAL_NUMBERS,\n",
    "        \"domains\": ALL_DISTANCES_FEET_NARROWED,\n",
    "        \"num_examples_per_domain_per_label\": 100,\n",
    "        \"pickle_path\": os.path.join(get_datasets_base_path(), \"oracle.Run1_framed_2000Examples_stratified_ds.2022A.pkl\"),\n",
    "        \"source_or_target_dataset\": \"source\",\n",
    "        \"x_transforms\": [\"unit_mag\", \"minus_two\"],\n",
    "        \"episode_transforms\": [],\n",
    "        \"domain_prefix\": \"ORACLE_\"\n",
    "    },\n",
    "    {\n",
    "        \"labels\": ALL_NODES,\n",
    "        \"domains\": ALL_DAYS,\n",
    "        \"num_examples_per_domain_per_label\": 100,\n",
    "        \"pickle_path\": os.path.join(get_datasets_base_path(), \"cores.stratified_ds.2022A.pkl\"),\n",
    "        \"source_or_target_dataset\": \"target\",\n",
    "        \"x_transforms\": [\"unit_power\", \"times_zero\"],\n",
    "        \"episode_transforms\": [],\n",
    "        \"domain_prefix\": \"CORES_\"\n",
    "    }   \n",
    "]\n",
    "\n",
    "standalone_parameters[\"torch_default_dtype\"] = \"torch.float32\" \n",
    "\n",
    "\n",
    "\n",
    "standalone_parameters[\"x_net\"] =     [\n",
    "    {\"class\": \"nnReshape\", \"kargs\": {\"shape\":[-1, 1, 2, 256]}},\n",
    "    {\"class\": \"Conv2d\", \"kargs\": { \"in_channels\":1, \"out_channels\":256, \"kernel_size\":(1,7), \"bias\":False, \"padding\":(0,3), },},\n",
    "    {\"class\": \"ReLU\", \"kargs\": {\"inplace\": True}},\n",
    "    {\"class\": \"BatchNorm2d\", \"kargs\": {\"num_features\":256}},\n",
    "\n",
    "    {\"class\": \"Conv2d\", \"kargs\": { \"in_channels\":256, \"out_channels\":80, \"kernel_size\":(2,7), \"bias\":True, \"padding\":(0,3), },},\n",
    "    {\"class\": \"ReLU\", \"kargs\": {\"inplace\": True}},\n",
    "    {\"class\": \"BatchNorm2d\", \"kargs\": {\"num_features\":80}},\n",
    "    {\"class\": \"Flatten\", \"kargs\": {}},\n",
    "\n",
    "    {\"class\": \"Linear\", \"kargs\": {\"in_features\": 80*256, \"out_features\": 256}}, # 80 units per IQ pair\n",
    "    {\"class\": \"ReLU\", \"kargs\": {\"inplace\": True}},\n",
    "    {\"class\": \"BatchNorm1d\", \"kargs\": {\"num_features\":256}},\n",
    "\n",
    "    {\"class\": \"Linear\", \"kargs\": {\"in_features\": 256, \"out_features\": 256}},\n",
    "]\n",
    "\n",
    "# Parameters relevant to results\n",
    "# These parameters will basically never need to change\n",
    "standalone_parameters[\"NUM_LOGS_PER_EPOCH\"] = 10\n",
    "standalone_parameters[\"BEST_MODEL_PATH\"] = \"./best_model.pth\"\n",
    "\n",
    "\n",
    "\n",
    "\n"
   ]
  },
  {
   "cell_type": "code",
   "execution_count": 4,
   "id": "6d9dc71d",
   "metadata": {
    "execution": {
     "iopub.execute_input": "2022-03-22T07:34:45.238742Z",
     "iopub.status.busy": "2022-03-22T07:34:45.237789Z",
     "iopub.status.idle": "2022-03-22T07:34:45.258883Z",
     "shell.execute_reply": "2022-03-22T07:34:45.258081Z"
    },
    "papermill": {
     "duration": 0.064623,
     "end_time": "2022-03-22T07:34:45.259043",
     "exception": false,
     "start_time": "2022-03-22T07:34:45.194420",
     "status": "completed"
    },
    "tags": [
     "injected-parameters"
    ]
   },
   "outputs": [],
   "source": [
    "# Parameters\n",
    "parameters = {\n",
    "    \"experiment_name\": \"tl_1v2:cores-oracle.run1.limited\",\n",
    "    \"device\": \"cuda\",\n",
    "    \"lr\": 0.0001,\n",
    "    \"n_shot\": 3,\n",
    "    \"n_query\": 2,\n",
    "    \"train_k_factor\": 3,\n",
    "    \"val_k_factor\": 2,\n",
    "    \"test_k_factor\": 2,\n",
    "    \"torch_default_dtype\": \"torch.float32\",\n",
    "    \"n_epoch\": 50,\n",
    "    \"patience\": 3,\n",
    "    \"criteria_for_best\": \"target_accuracy\",\n",
    "    \"x_net\": [\n",
    "        {\"class\": \"nnReshape\", \"kargs\": {\"shape\": [-1, 1, 2, 256]}},\n",
    "        {\n",
    "            \"class\": \"Conv2d\",\n",
    "            \"kargs\": {\n",
    "                \"in_channels\": 1,\n",
    "                \"out_channels\": 256,\n",
    "                \"kernel_size\": [1, 7],\n",
    "                \"bias\": False,\n",
    "                \"padding\": [0, 3],\n",
    "            },\n",
    "        },\n",
    "        {\"class\": \"ReLU\", \"kargs\": {\"inplace\": True}},\n",
    "        {\"class\": \"BatchNorm2d\", \"kargs\": {\"num_features\": 256}},\n",
    "        {\n",
    "            \"class\": \"Conv2d\",\n",
    "            \"kargs\": {\n",
    "                \"in_channels\": 256,\n",
    "                \"out_channels\": 80,\n",
    "                \"kernel_size\": [2, 7],\n",
    "                \"bias\": True,\n",
    "                \"padding\": [0, 3],\n",
    "            },\n",
    "        },\n",
    "        {\"class\": \"ReLU\", \"kargs\": {\"inplace\": True}},\n",
    "        {\"class\": \"BatchNorm2d\", \"kargs\": {\"num_features\": 80}},\n",
    "        {\"class\": \"Flatten\", \"kargs\": {}},\n",
    "        {\"class\": \"Linear\", \"kargs\": {\"in_features\": 20480, \"out_features\": 256}},\n",
    "        {\"class\": \"ReLU\", \"kargs\": {\"inplace\": True}},\n",
    "        {\"class\": \"BatchNorm1d\", \"kargs\": {\"num_features\": 256}},\n",
    "        {\"class\": \"Linear\", \"kargs\": {\"in_features\": 256, \"out_features\": 256}},\n",
    "    ],\n",
    "    \"NUM_LOGS_PER_EPOCH\": 10,\n",
    "    \"BEST_MODEL_PATH\": \"./best_model.pth\",\n",
    "    \"n_way\": 16,\n",
    "    \"datasets\": [\n",
    "        {\n",
    "            \"labels\": [\n",
    "                \"1-10.\",\n",
    "                \"1-11.\",\n",
    "                \"1-15.\",\n",
    "                \"1-16.\",\n",
    "                \"1-17.\",\n",
    "                \"1-18.\",\n",
    "                \"1-19.\",\n",
    "                \"10-4.\",\n",
    "                \"10-7.\",\n",
    "                \"11-1.\",\n",
    "                \"11-14.\",\n",
    "                \"11-17.\",\n",
    "                \"11-20.\",\n",
    "                \"11-7.\",\n",
    "                \"13-20.\",\n",
    "                \"13-8.\",\n",
    "                \"14-10.\",\n",
    "                \"14-11.\",\n",
    "                \"14-14.\",\n",
    "                \"14-7.\",\n",
    "                \"15-1.\",\n",
    "                \"15-20.\",\n",
    "                \"16-1.\",\n",
    "                \"16-16.\",\n",
    "                \"17-10.\",\n",
    "                \"17-11.\",\n",
    "                \"17-2.\",\n",
    "                \"19-1.\",\n",
    "                \"19-16.\",\n",
    "                \"19-19.\",\n",
    "                \"19-20.\",\n",
    "                \"19-3.\",\n",
    "                \"2-10.\",\n",
    "                \"2-11.\",\n",
    "                \"2-17.\",\n",
    "                \"2-18.\",\n",
    "                \"2-20.\",\n",
    "                \"2-3.\",\n",
    "                \"2-4.\",\n",
    "                \"2-5.\",\n",
    "                \"2-6.\",\n",
    "                \"2-7.\",\n",
    "                \"2-8.\",\n",
    "                \"3-13.\",\n",
    "                \"3-18.\",\n",
    "                \"3-3.\",\n",
    "                \"4-1.\",\n",
    "                \"4-10.\",\n",
    "                \"4-11.\",\n",
    "                \"4-19.\",\n",
    "                \"5-5.\",\n",
    "                \"6-15.\",\n",
    "                \"7-10.\",\n",
    "                \"7-14.\",\n",
    "                \"8-18.\",\n",
    "                \"8-20.\",\n",
    "                \"8-3.\",\n",
    "                \"8-8.\",\n",
    "            ],\n",
    "            \"domains\": [1, 2, 3, 4, 5],\n",
    "            \"num_examples_per_domain_per_label\": -1,\n",
    "            \"pickle_path\": \"/root/csc500-main/datasets/cores.stratified_ds.2022A.pkl\",\n",
    "            \"source_or_target_dataset\": \"source\",\n",
    "            \"x_transforms\": [\"unit_mag\"],\n",
    "            \"episode_transforms\": [],\n",
    "            \"domain_prefix\": \"CORES_\",\n",
    "        },\n",
    "        {\n",
    "            \"labels\": [\n",
    "                \"3123D52\",\n",
    "                \"3123D65\",\n",
    "                \"3123D79\",\n",
    "                \"3123D80\",\n",
    "                \"3123D54\",\n",
    "                \"3123D70\",\n",
    "                \"3123D7B\",\n",
    "                \"3123D89\",\n",
    "                \"3123D58\",\n",
    "                \"3123D76\",\n",
    "                \"3123D7D\",\n",
    "                \"3123EFE\",\n",
    "                \"3123D64\",\n",
    "                \"3123D78\",\n",
    "                \"3123D7E\",\n",
    "                \"3124E4A\",\n",
    "            ],\n",
    "            \"domains\": [32, 38, 8, 44, 14, 50, 20, 26],\n",
    "            \"num_examples_per_domain_per_label\": 2000,\n",
    "            \"pickle_path\": \"/root/csc500-main/datasets/oracle.Run1_10kExamples_stratified_ds.2022A.pkl\",\n",
    "            \"source_or_target_dataset\": \"target\",\n",
    "            \"x_transforms\": [\"unit_mag\"],\n",
    "            \"episode_transforms\": [],\n",
    "            \"domain_prefix\": \"ORACLE.run1_\",\n",
    "        },\n",
    "    ],\n",
    "    \"dataset_seed\": 420,\n",
    "    \"seed\": 420,\n",
    "}\n"
   ]
  },
  {
   "cell_type": "code",
   "execution_count": 5,
   "id": "8fa1cc33",
   "metadata": {
    "execution": {
     "iopub.execute_input": "2022-03-22T07:34:45.310037Z",
     "iopub.status.busy": "2022-03-22T07:34:45.309402Z",
     "iopub.status.idle": "2022-03-22T07:34:45.339208Z",
     "shell.execute_reply": "2022-03-22T07:34:45.338515Z"
    },
    "papermill": {
     "duration": 0.0551,
     "end_time": "2022-03-22T07:34:45.339360",
     "exception": false,
     "start_time": "2022-03-22T07:34:45.284260",
     "status": "completed"
    },
    "tags": []
   },
   "outputs": [],
   "source": [
    "# Set this to True if you want to run this template directly\n",
    "STANDALONE = False\n",
    "if STANDALONE:\n",
    "    print(\"parameters not injected, running with standalone_parameters\")\n",
    "    parameters = standalone_parameters\n",
    "\n",
    "if not 'parameters' in locals() and not 'parameters' in globals():\n",
    "    raise Exception(\"Parameter injection failed\")\n",
    "\n",
    "#Use an easy dict for all the parameters\n",
    "p = EasyDict(parameters)\n",
    "\n",
    "if \"x_shape\" not in p:\n",
    "    p.x_shape = [2,256] # Default to this if we dont supply x_shape\n",
    "\n",
    "\n",
    "supplied_keys = set(p.keys())\n",
    "\n",
    "if  supplied_keys != required_parameters:\n",
    "    print(\"Parameters are incorrect\")\n",
    "    if len(supplied_keys - required_parameters)>0: print(\"Shouldn't have:\", str(supplied_keys - required_parameters))\n",
    "    if len(required_parameters - supplied_keys)>0: print(\"Need to have:\", str(required_parameters - supplied_keys))\n",
    "    raise RuntimeError(\"Parameters are incorrect\")"
   ]
  },
  {
   "cell_type": "code",
   "execution_count": 6,
   "id": "3a028d58",
   "metadata": {
    "execution": {
     "iopub.execute_input": "2022-03-22T07:34:45.389886Z",
     "iopub.status.busy": "2022-03-22T07:34:45.389518Z",
     "iopub.status.idle": "2022-03-22T07:34:45.413938Z",
     "shell.execute_reply": "2022-03-22T07:34:45.413143Z"
    },
    "papermill": {
     "duration": 0.04768,
     "end_time": "2022-03-22T07:34:45.414091",
     "exception": false,
     "start_time": "2022-03-22T07:34:45.366411",
     "status": "completed"
    },
    "tags": []
   },
   "outputs": [],
   "source": [
    "###################################\n",
    "# Set the RNGs and make it all deterministic\n",
    "###################################\n",
    "np.random.seed(p.seed)\n",
    "random.seed(p.seed)\n",
    "torch.manual_seed(p.seed)\n",
    "\n",
    "torch.use_deterministic_algorithms(True) "
   ]
  },
  {
   "cell_type": "code",
   "execution_count": 7,
   "id": "b691acf6",
   "metadata": {
    "execution": {
     "iopub.execute_input": "2022-03-22T07:34:45.463787Z",
     "iopub.status.busy": "2022-03-22T07:34:45.463397Z",
     "iopub.status.idle": "2022-03-22T07:34:45.490736Z",
     "shell.execute_reply": "2022-03-22T07:34:45.491404Z"
    },
    "papermill": {
     "duration": 0.051718,
     "end_time": "2022-03-22T07:34:45.491601",
     "exception": false,
     "start_time": "2022-03-22T07:34:45.439883",
     "status": "completed"
    },
    "tags": []
   },
   "outputs": [],
   "source": [
    "###########################################\n",
    "# The stratified datasets honor this\n",
    "###########################################\n",
    "torch.set_default_dtype(eval(p.torch_default_dtype))"
   ]
  },
  {
   "cell_type": "code",
   "execution_count": 8,
   "id": "b5fba671",
   "metadata": {
    "execution": {
     "iopub.execute_input": "2022-03-22T07:34:45.546539Z",
     "iopub.status.busy": "2022-03-22T07:34:45.545915Z",
     "iopub.status.idle": "2022-03-22T07:34:45.608799Z",
     "shell.execute_reply": "2022-03-22T07:34:45.607991Z"
    },
    "papermill": {
     "duration": 0.087327,
     "end_time": "2022-03-22T07:34:45.608975",
     "exception": false,
     "start_time": "2022-03-22T07:34:45.521648",
     "status": "completed"
    },
    "tags": []
   },
   "outputs": [],
   "source": [
    "###################################\n",
    "# Build the network(s)\n",
    "# Note: It's critical to do this AFTER setting the RNG\n",
    "###################################\n",
    "x_net = build_sequential(p.x_net)"
   ]
  },
  {
   "cell_type": "code",
   "execution_count": 9,
   "id": "5d7e61cc",
   "metadata": {
    "execution": {
     "iopub.execute_input": "2022-03-22T07:34:45.658002Z",
     "iopub.status.busy": "2022-03-22T07:34:45.657627Z",
     "iopub.status.idle": "2022-03-22T07:34:45.681186Z",
     "shell.execute_reply": "2022-03-22T07:34:45.680341Z"
    },
    "papermill": {
     "duration": 0.047044,
     "end_time": "2022-03-22T07:34:45.681358",
     "exception": false,
     "start_time": "2022-03-22T07:34:45.634314",
     "status": "completed"
    },
    "tags": []
   },
   "outputs": [],
   "source": [
    "start_time_secs = time.time()"
   ]
  },
  {
   "cell_type": "code",
   "execution_count": 10,
   "id": "c6b67dfd",
   "metadata": {
    "execution": {
     "iopub.execute_input": "2022-03-22T07:34:45.735925Z",
     "iopub.status.busy": "2022-03-22T07:34:45.735548Z",
     "iopub.status.idle": "2022-03-22T07:34:45.761106Z",
     "shell.execute_reply": "2022-03-22T07:34:45.760240Z"
    },
    "papermill": {
     "duration": 0.050992,
     "end_time": "2022-03-22T07:34:45.761277",
     "exception": false,
     "start_time": "2022-03-22T07:34:45.710285",
     "status": "completed"
    },
    "tags": []
   },
   "outputs": [],
   "source": [
    "p.domains_source = []\n",
    "p.domains_target = []\n",
    "\n",
    "\n",
    "train_original_source = []\n",
    "val_original_source   = []\n",
    "test_original_source  = []\n",
    "\n",
    "train_original_target = []\n",
    "val_original_target   = []\n",
    "test_original_target  = []"
   ]
  },
  {
   "cell_type": "code",
   "execution_count": 11,
   "id": "e3d9c3d3",
   "metadata": {
    "execution": {
     "iopub.execute_input": "2022-03-22T07:34:45.809914Z",
     "iopub.status.busy": "2022-03-22T07:34:45.809546Z",
     "iopub.status.idle": "2022-03-22T07:34:45.834361Z",
     "shell.execute_reply": "2022-03-22T07:34:45.833548Z"
    },
    "papermill": {
     "duration": 0.048352,
     "end_time": "2022-03-22T07:34:45.834524",
     "exception": false,
     "start_time": "2022-03-22T07:34:45.786172",
     "status": "completed"
    },
    "tags": []
   },
   "outputs": [],
   "source": [
    "# global_x_transform_func = lambda x: normalize(x.to(torch.get_default_dtype()), \"unit_power\") # unit_power, unit_mag\n",
    "# global_x_transform_func = lambda x: normalize(x, \"unit_power\") # unit_power, unit_mag"
   ]
  },
  {
   "cell_type": "code",
   "execution_count": 12,
   "id": "acb78fd2",
   "metadata": {
    "execution": {
     "iopub.execute_input": "2022-03-22T07:34:45.888722Z",
     "iopub.status.busy": "2022-03-22T07:34:45.887783Z",
     "iopub.status.idle": "2022-03-22T07:34:45.911181Z",
     "shell.execute_reply": "2022-03-22T07:34:45.910363Z"
    },
    "papermill": {
     "duration": 0.050833,
     "end_time": "2022-03-22T07:34:45.911346",
     "exception": false,
     "start_time": "2022-03-22T07:34:45.860513",
     "status": "completed"
    },
    "tags": []
   },
   "outputs": [],
   "source": [
    "def add_dataset(\n",
    "    labels,\n",
    "    domains,\n",
    "    pickle_path,\n",
    "    x_transforms,\n",
    "    episode_transforms,\n",
    "    domain_prefix,\n",
    "    num_examples_per_domain_per_label,\n",
    "    source_or_target_dataset:str,\n",
    "    iterator_seed=p.seed,\n",
    "    dataset_seed=p.dataset_seed,\n",
    "    n_shot=p.n_shot,\n",
    "    n_way=p.n_way,\n",
    "    n_query=p.n_query,\n",
    "    train_val_test_k_factors=(p.train_k_factor,p.val_k_factor,p.test_k_factor),\n",
    "):\n",
    "   \n",
    "    if x_transforms == []: x_transform = None\n",
    "    else: x_transform = get_chained_transform(x_transforms)\n",
    "    \n",
    "    if episode_transforms == []: episode_transform = None\n",
    "    else: raise Exception(\"episode_transforms not implemented\")\n",
    "    \n",
    "    episode_transform = lambda tup, _prefix=domain_prefix: (_prefix + str(tup[0]), tup[1])\n",
    "\n",
    "\n",
    "    eaf = Episodic_Accessor_Factory(\n",
    "        labels=labels,\n",
    "        domains=domains,\n",
    "        num_examples_per_domain_per_label=num_examples_per_domain_per_label,\n",
    "        iterator_seed=iterator_seed,\n",
    "        dataset_seed=dataset_seed,\n",
    "        n_shot=n_shot,\n",
    "        n_way=n_way,\n",
    "        n_query=n_query,\n",
    "        train_val_test_k_factors=train_val_test_k_factors,\n",
    "        pickle_path=pickle_path,\n",
    "        x_transform_func=x_transform,\n",
    "    )\n",
    "\n",
    "    train, val, test = eaf.get_train(), eaf.get_val(), eaf.get_test()\n",
    "    train = Lazy_Iterable_Wrapper(train, episode_transform)\n",
    "    val = Lazy_Iterable_Wrapper(val, episode_transform)\n",
    "    test = Lazy_Iterable_Wrapper(test, episode_transform)\n",
    "\n",
    "    if source_or_target_dataset==\"source\":\n",
    "        train_original_source.append(train)\n",
    "        val_original_source.append(val)\n",
    "        test_original_source.append(test)\n",
    "\n",
    "        p.domains_source.extend(\n",
    "            [domain_prefix + str(u) for u in domains]\n",
    "        )\n",
    "    elif source_or_target_dataset==\"target\":\n",
    "        train_original_target.append(train)\n",
    "        val_original_target.append(val)\n",
    "        test_original_target.append(test)\n",
    "        p.domains_target.extend(\n",
    "            [domain_prefix + str(u) for u in domains]\n",
    "        )\n",
    "    else:\n",
    "        raise Exception(f\"invalid source_or_target_dataset: {source_or_target_dataset}\")\n",
    "    "
   ]
  },
  {
   "cell_type": "code",
   "execution_count": 13,
   "id": "fe266617",
   "metadata": {
    "execution": {
     "iopub.execute_input": "2022-03-22T07:34:45.965570Z",
     "iopub.status.busy": "2022-03-22T07:34:45.964721Z",
     "iopub.status.idle": "2022-03-22T07:35:31.033447Z",
     "shell.execute_reply": "2022-03-22T07:35:31.032721Z"
    },
    "papermill": {
     "duration": 45.094,
     "end_time": "2022-03-22T07:35:31.033632",
     "exception": false,
     "start_time": "2022-03-22T07:34:45.939632",
     "status": "completed"
    },
    "tags": []
   },
   "outputs": [],
   "source": [
    "for ds in p.datasets:\n",
    "    add_dataset(**ds)"
   ]
  },
  {
   "cell_type": "code",
   "execution_count": 14,
   "id": "b90d65ac",
   "metadata": {
    "execution": {
     "iopub.execute_input": "2022-03-22T07:35:31.082883Z",
     "iopub.status.busy": "2022-03-22T07:35:31.082501Z",
     "iopub.status.idle": "2022-03-22T07:35:31.105325Z",
     "shell.execute_reply": "2022-03-22T07:35:31.104526Z"
    },
    "papermill": {
     "duration": 0.046906,
     "end_time": "2022-03-22T07:35:31.105482",
     "exception": false,
     "start_time": "2022-03-22T07:35:31.058576",
     "status": "completed"
    },
    "tags": []
   },
   "outputs": [],
   "source": [
    "# from steves_utils.CORES.utils import (\n",
    "#     ALL_NODES,\n",
    "#     ALL_NODES_MINIMUM_1000_EXAMPLES,\n",
    "#     ALL_DAYS\n",
    "# )\n",
    "\n",
    "# add_dataset(\n",
    "#     labels=ALL_NODES,\n",
    "#     domains = ALL_DAYS,\n",
    "#     num_examples_per_domain_per_label=100,\n",
    "#     pickle_path=os.path.join(get_datasets_base_path(), \"cores.stratified_ds.2022A.pkl\"),\n",
    "#     source_or_target_dataset=\"target\",\n",
    "#     x_transform_func=global_x_transform_func,\n",
    "#     domain_modifier=lambda u: f\"cores_{u}\"\n",
    "# )"
   ]
  },
  {
   "cell_type": "code",
   "execution_count": 15,
   "id": "76db484d",
   "metadata": {
    "execution": {
     "iopub.execute_input": "2022-03-22T07:35:31.156311Z",
     "iopub.status.busy": "2022-03-22T07:35:31.155794Z",
     "iopub.status.idle": "2022-03-22T07:35:31.179016Z",
     "shell.execute_reply": "2022-03-22T07:35:31.178216Z"
    },
    "papermill": {
     "duration": 0.047215,
     "end_time": "2022-03-22T07:35:31.179172",
     "exception": false,
     "start_time": "2022-03-22T07:35:31.131957",
     "status": "completed"
    },
    "tags": []
   },
   "outputs": [],
   "source": [
    "# from steves_utils.ORACLE.utils_v2 import (\n",
    "#     ALL_DISTANCES_FEET,\n",
    "#     ALL_RUNS,\n",
    "#     ALL_SERIAL_NUMBERS,\n",
    "# )\n",
    "\n",
    "\n",
    "# add_dataset(\n",
    "#     labels=ALL_SERIAL_NUMBERS,\n",
    "#     domains = list(set(ALL_DISTANCES_FEET) - {2,62}),\n",
    "#     num_examples_per_domain_per_label=100,\n",
    "#     pickle_path=os.path.join(get_datasets_base_path(), \"oracle.Run2_framed_2000Examples_stratified_ds.2022A.pkl\"),\n",
    "#     source_or_target_dataset=\"source\",\n",
    "#     x_transform_func=global_x_transform_func,\n",
    "#     domain_modifier=lambda u: f\"oracle1_{u}\"\n",
    "# )\n"
   ]
  },
  {
   "cell_type": "code",
   "execution_count": 16,
   "id": "97dea9d2",
   "metadata": {
    "execution": {
     "iopub.execute_input": "2022-03-22T07:35:31.231883Z",
     "iopub.status.busy": "2022-03-22T07:35:31.231505Z",
     "iopub.status.idle": "2022-03-22T07:35:31.249067Z",
     "shell.execute_reply": "2022-03-22T07:35:31.248351Z"
    },
    "papermill": {
     "duration": 0.042018,
     "end_time": "2022-03-22T07:35:31.249225",
     "exception": false,
     "start_time": "2022-03-22T07:35:31.207207",
     "status": "completed"
    },
    "tags": []
   },
   "outputs": [],
   "source": [
    "# from steves_utils.ORACLE.utils_v2 import (\n",
    "#     ALL_DISTANCES_FEET,\n",
    "#     ALL_RUNS,\n",
    "#     ALL_SERIAL_NUMBERS,\n",
    "# )\n",
    "\n",
    "\n",
    "# add_dataset(\n",
    "#     labels=ALL_SERIAL_NUMBERS,\n",
    "#     domains = list(set(ALL_DISTANCES_FEET) - {2,62,56}),\n",
    "#     num_examples_per_domain_per_label=100,\n",
    "#     pickle_path=os.path.join(get_datasets_base_path(), \"oracle.Run2_framed_2000Examples_stratified_ds.2022A.pkl\"),\n",
    "#     source_or_target_dataset=\"source\",\n",
    "#     x_transform_func=global_x_transform_func,\n",
    "#     domain_modifier=lambda u: f\"oracle2_{u}\"\n",
    "# )"
   ]
  },
  {
   "cell_type": "code",
   "execution_count": 17,
   "id": "6f289866",
   "metadata": {
    "execution": {
     "iopub.execute_input": "2022-03-22T07:35:31.303221Z",
     "iopub.status.busy": "2022-03-22T07:35:31.302242Z",
     "iopub.status.idle": "2022-03-22T07:35:31.323274Z",
     "shell.execute_reply": "2022-03-22T07:35:31.322472Z"
    },
    "papermill": {
     "duration": 0.04546,
     "end_time": "2022-03-22T07:35:31.323428",
     "exception": false,
     "start_time": "2022-03-22T07:35:31.277968",
     "status": "completed"
    },
    "tags": []
   },
   "outputs": [],
   "source": [
    "# add_dataset(\n",
    "#     labels=list(range(19)),\n",
    "#     domains = [0,1,2],\n",
    "#     num_examples_per_domain_per_label=100,\n",
    "#     pickle_path=os.path.join(get_datasets_base_path(), \"metehan.stratified_ds.2022A.pkl\"),\n",
    "#     source_or_target_dataset=\"target\",\n",
    "#     x_transform_func=global_x_transform_func,\n",
    "#     domain_modifier=lambda u: f\"met_{u}\"\n",
    "# )"
   ]
  },
  {
   "cell_type": "code",
   "execution_count": 18,
   "id": "86a863c3",
   "metadata": {
    "execution": {
     "iopub.execute_input": "2022-03-22T07:35:31.377991Z",
     "iopub.status.busy": "2022-03-22T07:35:31.377620Z",
     "iopub.status.idle": "2022-03-22T07:35:31.396556Z",
     "shell.execute_reply": "2022-03-22T07:35:31.395756Z"
    },
    "papermill": {
     "duration": 0.042382,
     "end_time": "2022-03-22T07:35:31.396712",
     "exception": false,
     "start_time": "2022-03-22T07:35:31.354330",
     "status": "completed"
    },
    "tags": []
   },
   "outputs": [],
   "source": [
    "# # from steves_utils.wisig.utils import (\n",
    "# #     ALL_NODES_MINIMUM_100_EXAMPLES,\n",
    "# #     ALL_NODES_MINIMUM_500_EXAMPLES,\n",
    "# #     ALL_NODES_MINIMUM_1000_EXAMPLES,\n",
    "# #     ALL_DAYS\n",
    "# # )\n",
    "\n",
    "# import steves_utils.wisig.utils as wisig\n",
    "\n",
    "\n",
    "# add_dataset(\n",
    "#     labels=wisig.ALL_NODES_MINIMUM_100_EXAMPLES,\n",
    "#     domains = wisig.ALL_DAYS,\n",
    "#     num_examples_per_domain_per_label=100,\n",
    "#     pickle_path=os.path.join(get_datasets_base_path(), \"wisig.node3-19.stratified_ds.2022A.pkl\"),\n",
    "#     source_or_target_dataset=\"target\",\n",
    "#     x_transform_func=global_x_transform_func,\n",
    "#     domain_modifier=lambda u: f\"wisig_{u}\"\n",
    "# )"
   ]
  },
  {
   "cell_type": "code",
   "execution_count": 19,
   "id": "fd5442bc",
   "metadata": {
    "execution": {
     "iopub.execute_input": "2022-03-22T07:35:31.453742Z",
     "iopub.status.busy": "2022-03-22T07:35:31.453255Z",
     "iopub.status.idle": "2022-03-22T07:35:31.473887Z",
     "shell.execute_reply": "2022-03-22T07:35:31.473095Z"
    },
    "papermill": {
     "duration": 0.047212,
     "end_time": "2022-03-22T07:35:31.474044",
     "exception": false,
     "start_time": "2022-03-22T07:35:31.426832",
     "status": "completed"
    },
    "tags": []
   },
   "outputs": [],
   "source": [
    "###################################\n",
    "# Build the dataset\n",
    "###################################\n",
    "train_original_source = Iterable_Aggregator(train_original_source, p.seed)\n",
    "val_original_source = Iterable_Aggregator(val_original_source, p.seed)\n",
    "test_original_source = Iterable_Aggregator(test_original_source, p.seed)\n",
    "\n",
    "\n",
    "train_original_target = Iterable_Aggregator(train_original_target, p.seed)\n",
    "val_original_target = Iterable_Aggregator(val_original_target, p.seed)\n",
    "test_original_target = Iterable_Aggregator(test_original_target, p.seed)\n",
    "\n",
    "# For CNN We only use X and Y. And we only train on the source.\n",
    "# Properly form the data using a transform lambda and Lazy_Iterable_Wrapper. Finally wrap them in a dataloader\n",
    "\n",
    "transform_lambda = lambda ex: ex[1] # Original is (<domain>, <episode>) so we strip down to episode only\n",
    "\n",
    "train_processed_source = Lazy_Iterable_Wrapper(train_original_source, transform_lambda)\n",
    "val_processed_source   = Lazy_Iterable_Wrapper(val_original_source, transform_lambda)\n",
    "test_processed_source  = Lazy_Iterable_Wrapper(test_original_source, transform_lambda)\n",
    "\n",
    "train_processed_target = Lazy_Iterable_Wrapper(train_original_target, transform_lambda)\n",
    "val_processed_target   = Lazy_Iterable_Wrapper(val_original_target, transform_lambda)\n",
    "test_processed_target  = Lazy_Iterable_Wrapper(test_original_target, transform_lambda)\n",
    "\n",
    "datasets = EasyDict({\n",
    "    \"source\": {\n",
    "        \"original\": {\"train\":train_original_source, \"val\":val_original_source, \"test\":test_original_source},\n",
    "        \"processed\": {\"train\":train_processed_source, \"val\":val_processed_source, \"test\":test_processed_source}\n",
    "    },\n",
    "    \"target\": {\n",
    "        \"original\": {\"train\":train_original_target, \"val\":val_original_target, \"test\":test_original_target},\n",
    "        \"processed\": {\"train\":train_processed_target, \"val\":val_processed_target, \"test\":test_processed_target}\n",
    "    },\n",
    "})"
   ]
  },
  {
   "cell_type": "code",
   "execution_count": 20,
   "id": "5b3c01fc",
   "metadata": {
    "execution": {
     "iopub.execute_input": "2022-03-22T07:35:31.528264Z",
     "iopub.status.busy": "2022-03-22T07:35:31.527696Z",
     "iopub.status.idle": "2022-03-22T07:35:48.103482Z",
     "shell.execute_reply": "2022-03-22T07:35:48.104334Z"
    },
    "papermill": {
     "duration": 16.603683,
     "end_time": "2022-03-22T07:35:48.104579",
     "exception": false,
     "start_time": "2022-03-22T07:35:31.500896",
     "status": "completed"
    },
    "tags": []
   },
   "outputs": [
    {
     "name": "stdout",
     "output_type": "stream",
     "text": [
      "{'CORES_1', 'CORES_5', 'CORES_4', 'CORES_3', 'CORES_2'}\n"
     ]
    },
    {
     "name": "stdout",
     "output_type": "stream",
     "text": [
      "{'ORACLE.run1_50', 'ORACLE.run1_32', 'ORACLE.run1_20', 'ORACLE.run1_38', 'ORACLE.run1_44', 'ORACLE.run1_14', 'ORACLE.run1_8', 'ORACLE.run1_26'}\n"
     ]
    },
    {
     "name": "stdout",
     "output_type": "stream",
     "text": [
      "tensor([[[ 0.2207, -0.8955, -1.4148,  ...,  0.8358,  0.5855, -0.6649],\n",
      "         [ 0.5143,  0.5559, -0.0257,  ...,  0.7904,  0.6348,  0.2624]],\n",
      "\n",
      "        [[ 0.3813,  0.0901, -1.0879,  ...,  0.6459,  1.1710,  0.1941],\n",
      "         [ 0.1369,  0.6194,  0.7569,  ...,  0.3198,  0.4811,  0.3219]],\n",
      "\n",
      "        [[-0.5253, -0.1609,  0.6507,  ..., -1.0444, -1.0304,  0.0376],\n",
      "         [-0.0125, -0.7998, -1.2360,  ...,  0.1756,  0.2041, -0.5121]],\n",
      "\n",
      "        ...,\n",
      "\n",
      "        [[ 0.0857,  0.1039,  0.2637,  ...,  0.6418,  0.1429,  0.4326],\n",
      "         [-0.0091, -0.0221,  0.6678,  ...,  0.5924,  0.2858, -0.1494]],\n",
      "\n",
      "        [[-0.4718, -0.7281,  1.0813,  ..., -0.1224,  0.3392,  1.0660],\n",
      "         [ 0.1734, -0.9487, -0.8237,  ...,  0.4182, -0.0587, -0.7013]],\n",
      "\n",
      "        [[-0.8310,  0.1315,  1.4780,  ...,  0.0039,  0.8284,  0.9665],\n",
      "         [-0.2932, -1.2663,  0.2682,  ...,  0.3997, -0.6364, -0.0868]]])\n"
     ]
    }
   ],
   "source": [
    "from steves_utils.transforms import get_average_magnitude, get_average_power\n",
    "\n",
    "print(set([u for u,_ in val_original_source]))\n",
    "print(set([u for u,_ in val_original_target]))\n",
    "\n",
    "s_x, s_y, q_x, q_y, _ = next(iter(train_processed_source))\n",
    "print(s_x)\n",
    "\n",
    "# for ds in [\n",
    "#     train_processed_source,\n",
    "#     val_processed_source,\n",
    "#     test_processed_source,\n",
    "#     train_processed_target,\n",
    "#     val_processed_target,\n",
    "#     test_processed_target\n",
    "# ]:\n",
    "#     for s_x, s_y, q_x, q_y, _ in ds:\n",
    "#         for X in (s_x, q_x):\n",
    "#             for x in X:\n",
    "#                 assert np.isclose(get_average_magnitude(x.numpy()), 1.0)\n",
    "#                 assert np.isclose(get_average_power(x.numpy()), 1.0)\n",
    "                "
   ]
  },
  {
   "cell_type": "code",
   "execution_count": 21,
   "id": "bbdacba1",
   "metadata": {
    "execution": {
     "iopub.execute_input": "2022-03-22T07:35:48.160390Z",
     "iopub.status.busy": "2022-03-22T07:35:48.160009Z",
     "iopub.status.idle": "2022-03-22T07:35:48.380055Z",
     "shell.execute_reply": "2022-03-22T07:35:48.380361Z"
    },
    "papermill": {
     "duration": 0.24857,
     "end_time": "2022-03-22T07:35:48.380464",
     "exception": false,
     "start_time": "2022-03-22T07:35:48.131894",
     "status": "completed"
    },
    "tags": []
   },
   "outputs": [
    {
     "name": "stdout",
     "output_type": "stream",
     "text": [
      "(2, 256)\n"
     ]
    }
   ],
   "source": [
    "###################################\n",
    "# Build the model\n",
    "###################################\n",
    "# easfsl only wants a tuple for the shape\n",
    "model = Steves_Prototypical_Network(x_net, device=p.device, x_shape=tuple(p.x_shape))\n",
    "optimizer = Adam(params=model.parameters(), lr=p.lr)"
   ]
  },
  {
   "cell_type": "code",
   "execution_count": 22,
   "id": "22b39ac5",
   "metadata": {
    "execution": {
     "iopub.execute_input": "2022-03-22T07:35:48.430218Z",
     "iopub.status.busy": "2022-03-22T07:35:48.429853Z",
     "iopub.status.idle": "2022-03-22T08:09:02.928792Z",
     "shell.execute_reply": "2022-03-22T08:09:02.928448Z"
    },
    "papermill": {
     "duration": 1994.526126,
     "end_time": "2022-03-22T08:09:02.928874",
     "exception": false,
     "start_time": "2022-03-22T07:35:48.402748",
     "status": "completed"
    },
    "tags": []
   },
   "outputs": [
    {
     "name": "stdout",
     "output_type": "stream",
     "text": [
      "epoch: 1, [batch: 1 / 6315], examples_per_second: 33.8226, train_label_loss: 2.6447, \n"
     ]
    },
    {
     "name": "stdout",
     "output_type": "stream",
     "text": [
      "epoch: 1, [batch: 632 / 6315], examples_per_second: 2934.8696, train_label_loss: 0.0050, \n"
     ]
    },
    {
     "name": "stdout",
     "output_type": "stream",
     "text": [
      "epoch: 1, [batch: 1263 / 6315], examples_per_second: 2945.7251, train_label_loss: 0.0266, \n"
     ]
    },
    {
     "name": "stdout",
     "output_type": "stream",
     "text": [
      "epoch: 1, [batch: 1895 / 6315], examples_per_second: 3055.4662, train_label_loss: 0.0018, \n"
     ]
    },
    {
     "name": "stdout",
     "output_type": "stream",
     "text": [
      "epoch: 1, [batch: 2526 / 6315], examples_per_second: 3363.0063, train_label_loss: 0.0007, \n"
     ]
    },
    {
     "name": "stdout",
     "output_type": "stream",
     "text": [
      "epoch: 1, [batch: 3158 / 6315], examples_per_second: 3384.6865, train_label_loss: 0.0003, \n"
     ]
    },
    {
     "name": "stdout",
     "output_type": "stream",
     "text": [
      "epoch: 1, [batch: 3789 / 6315], examples_per_second: 3280.3526, train_label_loss: 0.0081, \n"
     ]
    },
    {
     "name": "stdout",
     "output_type": "stream",
     "text": [
      "epoch: 1, [batch: 4420 / 6315], examples_per_second: 2921.0975, train_label_loss: 0.0016, \n"
     ]
    },
    {
     "name": "stdout",
     "output_type": "stream",
     "text": [
      "epoch: 1, [batch: 5052 / 6315], examples_per_second: 3005.8421, train_label_loss: 0.0011, \n"
     ]
    },
    {
     "name": "stdout",
     "output_type": "stream",
     "text": [
      "epoch: 1, [batch: 5683 / 6315], examples_per_second: 3361.5747, train_label_loss: 0.0001, \n"
     ]
    },
    {
     "name": "stdout",
     "output_type": "stream",
     "text": [
      "=============================================================\n",
      "epoch: 1, source_val_acc_label: 0.9968, target_val_acc_label: 0.1457, source_val_label_loss: 0.0128, target_val_label_loss: 2.6650, \n",
      "=============================================================\n"
     ]
    },
    {
     "name": "stdout",
     "output_type": "stream",
     "text": [
      "New best\n"
     ]
    },
    {
     "name": "stdout",
     "output_type": "stream",
     "text": [
      "epoch: 2, [batch: 1 / 6307], examples_per_second: 3.2642, train_label_loss: 0.0010, \n"
     ]
    },
    {
     "name": "stdout",
     "output_type": "stream",
     "text": [
      "epoch: 2, [batch: 631 / 6307], examples_per_second: 3499.0020, train_label_loss: 0.0007, \n"
     ]
    },
    {
     "name": "stdout",
     "output_type": "stream",
     "text": [
      "epoch: 2, [batch: 1262 / 6307], examples_per_second: 3470.8640, train_label_loss: 0.0000, \n"
     ]
    },
    {
     "name": "stdout",
     "output_type": "stream",
     "text": [
      "epoch: 2, [batch: 1892 / 6307], examples_per_second: 3392.5547, train_label_loss: 0.0000, \n"
     ]
    },
    {
     "name": "stdout",
     "output_type": "stream",
     "text": [
      "epoch: 2, [batch: 2523 / 6307], examples_per_second: 3474.3219, train_label_loss: 0.0003, \n"
     ]
    },
    {
     "name": "stdout",
     "output_type": "stream",
     "text": [
      "epoch: 2, [batch: 3154 / 6307], examples_per_second: 3893.7204, train_label_loss: 0.0000, \n"
     ]
    },
    {
     "name": "stdout",
     "output_type": "stream",
     "text": [
      "epoch: 2, [batch: 3784 / 6307], examples_per_second: 3871.1331, train_label_loss: 0.0036, \n"
     ]
    },
    {
     "name": "stdout",
     "output_type": "stream",
     "text": [
      "epoch: 2, [batch: 4415 / 6307], examples_per_second: 3643.7304, train_label_loss: 0.0000, \n"
     ]
    },
    {
     "name": "stdout",
     "output_type": "stream",
     "text": [
      "epoch: 2, [batch: 5045 / 6307], examples_per_second: 3838.4929, train_label_loss: 0.0000, \n"
     ]
    },
    {
     "name": "stdout",
     "output_type": "stream",
     "text": [
      "epoch: 2, [batch: 5676 / 6307], examples_per_second: 3682.1706, train_label_loss: 0.0000, \n"
     ]
    },
    {
     "name": "stdout",
     "output_type": "stream",
     "text": [
      "=============================================================\n",
      "epoch: 2, source_val_acc_label: 0.9989, target_val_acc_label: 0.1474, source_val_label_loss: 0.0094, target_val_label_loss: 3.1492, \n",
      "=============================================================\n"
     ]
    },
    {
     "name": "stdout",
     "output_type": "stream",
     "text": [
      "New best\n"
     ]
    },
    {
     "name": "stdout",
     "output_type": "stream",
     "text": [
      "epoch: 3, [batch: 1 / 6326], examples_per_second: 3.7223, train_label_loss: 0.0000, \n"
     ]
    },
    {
     "name": "stdout",
     "output_type": "stream",
     "text": [
      "epoch: 3, [batch: 633 / 6326], examples_per_second: 3693.1054, train_label_loss: 0.0000, \n"
     ]
    },
    {
     "name": "stdout",
     "output_type": "stream",
     "text": [
      "epoch: 3, [batch: 1266 / 6326], examples_per_second: 4226.7383, train_label_loss: 0.0000, \n"
     ]
    },
    {
     "name": "stdout",
     "output_type": "stream",
     "text": [
      "epoch: 3, [batch: 1898 / 6326], examples_per_second: 4439.0879, train_label_loss: 0.0002, \n"
     ]
    },
    {
     "name": "stdout",
     "output_type": "stream",
     "text": [
      "epoch: 3, [batch: 2531 / 6326], examples_per_second: 4344.0126, train_label_loss: 0.0000, \n"
     ]
    },
    {
     "name": "stdout",
     "output_type": "stream",
     "text": [
      "epoch: 3, [batch: 3163 / 6326], examples_per_second: 4446.6120, train_label_loss: 0.0000, \n"
     ]
    },
    {
     "name": "stdout",
     "output_type": "stream",
     "text": [
      "epoch: 3, [batch: 3796 / 6326], examples_per_second: 4411.9364, train_label_loss: 0.0000, \n"
     ]
    },
    {
     "name": "stdout",
     "output_type": "stream",
     "text": [
      "epoch: 3, [batch: 4428 / 6326], examples_per_second: 4269.3206, train_label_loss: 0.0000, \n"
     ]
    },
    {
     "name": "stdout",
     "output_type": "stream",
     "text": [
      "epoch: 3, [batch: 5061 / 6326], examples_per_second: 4213.9303, train_label_loss: 0.0000, \n"
     ]
    },
    {
     "name": "stdout",
     "output_type": "stream",
     "text": [
      "epoch: 3, [batch: 5693 / 6326], examples_per_second: 4285.0402, train_label_loss: 0.0000, \n"
     ]
    },
    {
     "name": "stdout",
     "output_type": "stream",
     "text": [
      "=============================================================\n",
      "epoch: 3, source_val_acc_label: 0.9987, target_val_acc_label: 0.1604, source_val_label_loss: 0.0100, target_val_label_loss: 3.4791, \n",
      "=============================================================\n"
     ]
    },
    {
     "name": "stdout",
     "output_type": "stream",
     "text": [
      "New best\n"
     ]
    },
    {
     "name": "stdout",
     "output_type": "stream",
     "text": [
      "epoch: 4, [batch: 1 / 6302], examples_per_second: 4.5807, train_label_loss: 0.0000, \n"
     ]
    },
    {
     "name": "stdout",
     "output_type": "stream",
     "text": [
      "epoch: 4, [batch: 631 / 6302], examples_per_second: 3798.2250, train_label_loss: 0.0000, \n"
     ]
    },
    {
     "name": "stdout",
     "output_type": "stream",
     "text": [
      "epoch: 4, [batch: 1261 / 6302], examples_per_second: 3885.4543, train_label_loss: 0.0001, \n"
     ]
    },
    {
     "name": "stdout",
     "output_type": "stream",
     "text": [
      "epoch: 4, [batch: 1891 / 6302], examples_per_second: 3868.3942, train_label_loss: 0.0000, \n"
     ]
    },
    {
     "name": "stdout",
     "output_type": "stream",
     "text": [
      "epoch: 4, [batch: 2521 / 6302], examples_per_second: 3872.8165, train_label_loss: 0.0000, \n"
     ]
    },
    {
     "name": "stdout",
     "output_type": "stream",
     "text": [
      "epoch: 4, [batch: 3151 / 6302], examples_per_second: 3883.0231, train_label_loss: 0.0000, \n"
     ]
    },
    {
     "name": "stdout",
     "output_type": "stream",
     "text": [
      "epoch: 4, [batch: 3781 / 6302], examples_per_second: 3888.9979, train_label_loss: 0.0000, \n"
     ]
    },
    {
     "name": "stdout",
     "output_type": "stream",
     "text": [
      "epoch: 4, [batch: 4411 / 6302], examples_per_second: 3878.3032, train_label_loss: 0.0000, \n"
     ]
    },
    {
     "name": "stdout",
     "output_type": "stream",
     "text": [
      "epoch: 4, [batch: 5041 / 6302], examples_per_second: 3932.3453, train_label_loss: 0.0000, \n"
     ]
    },
    {
     "name": "stdout",
     "output_type": "stream",
     "text": [
      "epoch: 4, [batch: 5671 / 6302], examples_per_second: 3859.9571, train_label_loss: 0.0000, \n"
     ]
    },
    {
     "name": "stdout",
     "output_type": "stream",
     "text": [
      "=============================================================\n",
      "epoch: 4, source_val_acc_label: 0.9986, target_val_acc_label: 0.1609, source_val_label_loss: 0.0118, target_val_label_loss: 3.2928, \n",
      "=============================================================\n"
     ]
    },
    {
     "name": "stdout",
     "output_type": "stream",
     "text": [
      "New best\n"
     ]
    },
    {
     "name": "stdout",
     "output_type": "stream",
     "text": [
      "epoch: 5, [batch: 1 / 6324], examples_per_second: 4.3482, train_label_loss: 0.0000, \n"
     ]
    },
    {
     "name": "stdout",
     "output_type": "stream",
     "text": [
      "epoch: 5, [batch: 633 / 6324], examples_per_second: 4243.5369, train_label_loss: 0.0000, \n"
     ]
    },
    {
     "name": "stdout",
     "output_type": "stream",
     "text": [
      "epoch: 5, [batch: 1265 / 6324], examples_per_second: 3888.6464, train_label_loss: 0.0002, \n"
     ]
    },
    {
     "name": "stdout",
     "output_type": "stream",
     "text": [
      "epoch: 5, [batch: 1897 / 6324], examples_per_second: 3891.3505, train_label_loss: 0.0000, \n"
     ]
    },
    {
     "name": "stdout",
     "output_type": "stream",
     "text": [
      "epoch: 5, [batch: 2530 / 6324], examples_per_second: 3937.6840, train_label_loss: 0.0041, \n"
     ]
    },
    {
     "name": "stdout",
     "output_type": "stream",
     "text": [
      "epoch: 5, [batch: 3162 / 6324], examples_per_second: 3940.6641, train_label_loss: 0.0000, \n"
     ]
    },
    {
     "name": "stdout",
     "output_type": "stream",
     "text": [
      "epoch: 5, [batch: 3794 / 6324], examples_per_second: 3881.4200, train_label_loss: 0.0000, \n"
     ]
    },
    {
     "name": "stdout",
     "output_type": "stream",
     "text": [
      "epoch: 5, [batch: 4427 / 6324], examples_per_second: 3904.6029, train_label_loss: 0.0000, \n"
     ]
    },
    {
     "name": "stdout",
     "output_type": "stream",
     "text": [
      "epoch: 5, [batch: 5059 / 6324], examples_per_second: 3950.7971, train_label_loss: 0.0000, \n"
     ]
    },
    {
     "name": "stdout",
     "output_type": "stream",
     "text": [
      "epoch: 5, [batch: 5691 / 6324], examples_per_second: 3814.0713, train_label_loss: 0.0000, \n"
     ]
    },
    {
     "name": "stdout",
     "output_type": "stream",
     "text": [
      "=============================================================\n",
      "epoch: 5, source_val_acc_label: 0.9993, target_val_acc_label: 0.1685, source_val_label_loss: 0.0090, target_val_label_loss: 3.8259, \n",
      "=============================================================\n"
     ]
    },
    {
     "name": "stdout",
     "output_type": "stream",
     "text": [
      "New best\n"
     ]
    },
    {
     "name": "stdout",
     "output_type": "stream",
     "text": [
      "epoch: 6, [batch: 1 / 6313], examples_per_second: 4.1726, train_label_loss: 0.0000, \n"
     ]
    },
    {
     "name": "stdout",
     "output_type": "stream",
     "text": [
      "epoch: 6, [batch: 632 / 6313], examples_per_second: 4860.0442, train_label_loss: 0.0000, \n"
     ]
    },
    {
     "name": "stdout",
     "output_type": "stream",
     "text": [
      "epoch: 6, [batch: 1263 / 6313], examples_per_second: 3983.3807, train_label_loss: 0.0000, \n"
     ]
    },
    {
     "name": "stdout",
     "output_type": "stream",
     "text": [
      "epoch: 6, [batch: 1894 / 6313], examples_per_second: 3178.5318, train_label_loss: 0.0000, \n"
     ]
    },
    {
     "name": "stdout",
     "output_type": "stream",
     "text": [
      "epoch: 6, [batch: 2525 / 6313], examples_per_second: 2995.4126, train_label_loss: 0.0000, \n"
     ]
    },
    {
     "name": "stdout",
     "output_type": "stream",
     "text": [
      "epoch: 6, [batch: 3157 / 6313], examples_per_second: 2985.7742, train_label_loss: 0.0000, \n"
     ]
    },
    {
     "name": "stdout",
     "output_type": "stream",
     "text": [
      "epoch: 6, [batch: 3788 / 6313], examples_per_second: 2961.8348, train_label_loss: 0.0000, \n"
     ]
    },
    {
     "name": "stdout",
     "output_type": "stream",
     "text": [
      "epoch: 6, [batch: 4419 / 6313], examples_per_second: 2933.0140, train_label_loss: 0.0000, \n"
     ]
    },
    {
     "name": "stdout",
     "output_type": "stream",
     "text": [
      "epoch: 6, [batch: 5050 / 6313], examples_per_second: 2934.8103, train_label_loss: 0.0000, \n"
     ]
    },
    {
     "name": "stdout",
     "output_type": "stream",
     "text": [
      "epoch: 6, [batch: 5681 / 6313], examples_per_second: 2987.4848, train_label_loss: 0.0000, \n"
     ]
    },
    {
     "name": "stdout",
     "output_type": "stream",
     "text": [
      "=============================================================\n",
      "epoch: 6, source_val_acc_label: 0.9995, target_val_acc_label: 0.1687, source_val_label_loss: 0.0100, target_val_label_loss: 3.9384, \n",
      "=============================================================\n"
     ]
    },
    {
     "name": "stdout",
     "output_type": "stream",
     "text": [
      "New best\n"
     ]
    },
    {
     "name": "stdout",
     "output_type": "stream",
     "text": [
      "epoch: 7, [batch: 1 / 6295], examples_per_second: 2.9696, train_label_loss: 0.0000, \n"
     ]
    },
    {
     "name": "stdout",
     "output_type": "stream",
     "text": [
      "epoch: 7, [batch: 630 / 6295], examples_per_second: 3347.2948, train_label_loss: 0.0000, \n"
     ]
    },
    {
     "name": "stdout",
     "output_type": "stream",
     "text": [
      "epoch: 7, [batch: 1259 / 6295], examples_per_second: 3287.3356, train_label_loss: 0.0000, \n"
     ]
    },
    {
     "name": "stdout",
     "output_type": "stream",
     "text": [
      "epoch: 7, [batch: 1889 / 6295], examples_per_second: 2943.9042, train_label_loss: 0.0000, \n"
     ]
    },
    {
     "name": "stdout",
     "output_type": "stream",
     "text": [
      "epoch: 7, [batch: 2518 / 6295], examples_per_second: 2969.4867, train_label_loss: 0.0000, \n"
     ]
    },
    {
     "name": "stdout",
     "output_type": "stream",
     "text": [
      "epoch: 7, [batch: 3148 / 6295], examples_per_second: 2968.8090, train_label_loss: 0.0001, \n"
     ]
    },
    {
     "name": "stdout",
     "output_type": "stream",
     "text": [
      "epoch: 7, [batch: 3777 / 6295], examples_per_second: 2984.7201, train_label_loss: 0.0000, \n"
     ]
    },
    {
     "name": "stdout",
     "output_type": "stream",
     "text": [
      "epoch: 7, [batch: 4406 / 6295], examples_per_second: 2964.4759, train_label_loss: 0.0000, \n"
     ]
    },
    {
     "name": "stdout",
     "output_type": "stream",
     "text": [
      "epoch: 7, [batch: 5036 / 6295], examples_per_second: 3033.0547, train_label_loss: 0.0000, \n"
     ]
    },
    {
     "name": "stdout",
     "output_type": "stream",
     "text": [
      "epoch: 7, [batch: 5665 / 6295], examples_per_second: 2973.4384, train_label_loss: 0.0000, \n"
     ]
    },
    {
     "name": "stdout",
     "output_type": "stream",
     "text": [
      "=============================================================\n",
      "epoch: 7, source_val_acc_label: 0.9996, target_val_acc_label: 0.1721, source_val_label_loss: 0.0103, target_val_label_loss: 4.4663, \n",
      "=============================================================\n"
     ]
    },
    {
     "name": "stdout",
     "output_type": "stream",
     "text": [
      "New best\n"
     ]
    },
    {
     "name": "stdout",
     "output_type": "stream",
     "text": [
      "epoch: 8, [batch: 1 / 6293], examples_per_second: 2.8831, train_label_loss: 0.0000, \n"
     ]
    },
    {
     "name": "stdout",
     "output_type": "stream",
     "text": [
      "epoch: 8, [batch: 630 / 6293], examples_per_second: 3401.3025, train_label_loss: 0.0000, \n"
     ]
    },
    {
     "name": "stdout",
     "output_type": "stream",
     "text": [
      "epoch: 8, [batch: 1259 / 6293], examples_per_second: 3519.5065, train_label_loss: 0.0000, \n"
     ]
    },
    {
     "name": "stdout",
     "output_type": "stream",
     "text": [
      "epoch: 8, [batch: 1888 / 6293], examples_per_second: 3017.4750, train_label_loss: 0.0000, \n"
     ]
    },
    {
     "name": "stdout",
     "output_type": "stream",
     "text": [
      "epoch: 8, [batch: 2517 / 6293], examples_per_second: 2962.1322, train_label_loss: 0.0000, \n"
     ]
    },
    {
     "name": "stdout",
     "output_type": "stream",
     "text": [
      "epoch: 8, [batch: 3147 / 6293], examples_per_second: 2961.6077, train_label_loss: 0.0000, \n"
     ]
    },
    {
     "name": "stdout",
     "output_type": "stream",
     "text": [
      "epoch: 8, [batch: 3776 / 6293], examples_per_second: 3047.5367, train_label_loss: 0.0000, \n"
     ]
    },
    {
     "name": "stdout",
     "output_type": "stream",
     "text": [
      "epoch: 8, [batch: 4405 / 6293], examples_per_second: 2982.7025, train_label_loss: 0.0000, \n"
     ]
    },
    {
     "name": "stdout",
     "output_type": "stream",
     "text": [
      "epoch: 8, [batch: 5034 / 6293], examples_per_second: 3002.2501, train_label_loss: 0.0000, \n"
     ]
    },
    {
     "name": "stdout",
     "output_type": "stream",
     "text": [
      "epoch: 8, [batch: 5663 / 6293], examples_per_second: 2999.8728, train_label_loss: 0.0000, \n"
     ]
    },
    {
     "name": "stdout",
     "output_type": "stream",
     "text": [
      "=============================================================\n",
      "epoch: 8, source_val_acc_label: 0.9996, target_val_acc_label: 0.1691, source_val_label_loss: 0.0135, target_val_label_loss: 4.8625, \n",
      "=============================================================\n"
     ]
    },
    {
     "name": "stdout",
     "output_type": "stream",
     "text": [
      "epoch: 9, [batch: 1 / 6315], examples_per_second: 2.8688, train_label_loss: 0.0000, \n"
     ]
    },
    {
     "name": "stdout",
     "output_type": "stream",
     "text": [
      "epoch: 9, [batch: 632 / 6315], examples_per_second: 3338.1837, train_label_loss: 0.0000, \n"
     ]
    },
    {
     "name": "stdout",
     "output_type": "stream",
     "text": [
      "epoch: 9, [batch: 1263 / 6315], examples_per_second: 3378.6621, train_label_loss: 0.0000, \n"
     ]
    },
    {
     "name": "stdout",
     "output_type": "stream",
     "text": [
      "epoch: 9, [batch: 1895 / 6315], examples_per_second: 3436.1450, train_label_loss: 0.0000, \n"
     ]
    },
    {
     "name": "stdout",
     "output_type": "stream",
     "text": [
      "epoch: 9, [batch: 2526 / 6315], examples_per_second: 2954.1187, train_label_loss: 0.0000, \n"
     ]
    },
    {
     "name": "stdout",
     "output_type": "stream",
     "text": [
      "epoch: 9, [batch: 3158 / 6315], examples_per_second: 2955.8972, train_label_loss: 0.0000, \n"
     ]
    },
    {
     "name": "stdout",
     "output_type": "stream",
     "text": [
      "epoch: 9, [batch: 3789 / 6315], examples_per_second: 2980.8249, train_label_loss: 0.0000, \n"
     ]
    },
    {
     "name": "stdout",
     "output_type": "stream",
     "text": [
      "epoch: 9, [batch: 4420 / 6315], examples_per_second: 2933.7262, train_label_loss: 0.0000, \n"
     ]
    },
    {
     "name": "stdout",
     "output_type": "stream",
     "text": [
      "epoch: 9, [batch: 5052 / 6315], examples_per_second: 2957.2297, train_label_loss: 0.0000, \n"
     ]
    },
    {
     "name": "stdout",
     "output_type": "stream",
     "text": [
      "epoch: 9, [batch: 5683 / 6315], examples_per_second: 2955.5726, train_label_loss: 0.0000, \n"
     ]
    },
    {
     "name": "stdout",
     "output_type": "stream",
     "text": [
      "=============================================================\n",
      "epoch: 9, source_val_acc_label: 0.9991, target_val_acc_label: 0.1698, source_val_label_loss: 0.0176, target_val_label_loss: 4.7331, \n",
      "=============================================================\n"
     ]
    },
    {
     "name": "stdout",
     "output_type": "stream",
     "text": [
      "epoch: 10, [batch: 1 / 6306], examples_per_second: 2.9107, train_label_loss: 0.0000, \n"
     ]
    },
    {
     "name": "stdout",
     "output_type": "stream",
     "text": [
      "epoch: 10, [batch: 631 / 6306], examples_per_second: 3125.4382, train_label_loss: 0.0000, \n"
     ]
    },
    {
     "name": "stdout",
     "output_type": "stream",
     "text": [
      "epoch: 10, [batch: 1262 / 6306], examples_per_second: 3397.1486, train_label_loss: 0.0000, \n"
     ]
    },
    {
     "name": "stdout",
     "output_type": "stream",
     "text": [
      "epoch: 10, [batch: 1892 / 6306], examples_per_second: 3381.2287, train_label_loss: 0.0000, \n"
     ]
    },
    {
     "name": "stdout",
     "output_type": "stream",
     "text": [
      "epoch: 10, [batch: 2523 / 6306], examples_per_second: 3267.8569, train_label_loss: 0.0000, \n"
     ]
    },
    {
     "name": "stdout",
     "output_type": "stream",
     "text": [
      "epoch: 10, [batch: 3153 / 6306], examples_per_second: 2980.4607, train_label_loss: 0.0000, \n"
     ]
    },
    {
     "name": "stdout",
     "output_type": "stream",
     "text": [
      "epoch: 10, [batch: 3784 / 6306], examples_per_second: 3416.6042, train_label_loss: 0.0000, \n"
     ]
    },
    {
     "name": "stdout",
     "output_type": "stream",
     "text": [
      "epoch: 10, [batch: 4414 / 6306], examples_per_second: 3343.1428, train_label_loss: 0.0000, \n"
     ]
    },
    {
     "name": "stdout",
     "output_type": "stream",
     "text": [
      "epoch: 10, [batch: 5045 / 6306], examples_per_second: 3423.3897, train_label_loss: 0.0000, \n"
     ]
    },
    {
     "name": "stdout",
     "output_type": "stream",
     "text": [
      "epoch: 10, [batch: 5675 / 6306], examples_per_second: 3483.8837, train_label_loss: 0.0000, \n"
     ]
    },
    {
     "name": "stdout",
     "output_type": "stream",
     "text": [
      "=============================================================\n",
      "epoch: 10, source_val_acc_label: 0.9996, target_val_acc_label: 0.1663, source_val_label_loss: 0.0107, target_val_label_loss: 5.4049, \n",
      "=============================================================\n"
     ]
    },
    {
     "name": "stdout",
     "output_type": "stream",
     "text": [
      "epoch: 11, [batch: 1 / 6303], examples_per_second: 3.4582, train_label_loss: 0.0000, \n"
     ]
    },
    {
     "name": "stdout",
     "output_type": "stream",
     "text": [
      "epoch: 11, [batch: 631 / 6303], examples_per_second: 3938.1201, train_label_loss: 0.0000, \n"
     ]
    },
    {
     "name": "stdout",
     "output_type": "stream",
     "text": [
      "epoch: 11, [batch: 1261 / 6303], examples_per_second: 3431.7681, train_label_loss: 0.0000, \n"
     ]
    },
    {
     "name": "stdout",
     "output_type": "stream",
     "text": [
      "epoch: 11, [batch: 1891 / 6303], examples_per_second: 3425.2422, train_label_loss: 0.0000, \n"
     ]
    },
    {
     "name": "stdout",
     "output_type": "stream",
     "text": [
      "epoch: 11, [batch: 2521 / 6303], examples_per_second: 3509.0191, train_label_loss: 0.0000, \n"
     ]
    },
    {
     "name": "stdout",
     "output_type": "stream",
     "text": [
      "epoch: 11, [batch: 3152 / 6303], examples_per_second: 3053.8576, train_label_loss: 0.0000, \n"
     ]
    },
    {
     "name": "stdout",
     "output_type": "stream",
     "text": [
      "epoch: 11, [batch: 3782 / 6303], examples_per_second: 2967.0426, train_label_loss: 0.0000, \n"
     ]
    },
    {
     "name": "stdout",
     "output_type": "stream",
     "text": [
      "epoch: 11, [batch: 4412 / 6303], examples_per_second: 2979.0258, train_label_loss: 0.5923, \n"
     ]
    },
    {
     "name": "stdout",
     "output_type": "stream",
     "text": [
      "epoch: 11, [batch: 5042 / 6303], examples_per_second: 2991.9745, train_label_loss: 0.0000, \n"
     ]
    },
    {
     "name": "stdout",
     "output_type": "stream",
     "text": [
      "epoch: 11, [batch: 5672 / 6303], examples_per_second: 3077.5133, train_label_loss: 0.0000, \n"
     ]
    },
    {
     "name": "stdout",
     "output_type": "stream",
     "text": [
      "=============================================================\n",
      "epoch: 11, source_val_acc_label: 0.9994, target_val_acc_label: 0.1598, source_val_label_loss: 0.0202, target_val_label_loss: 6.2562, \n",
      "=============================================================\n"
     ]
    },
    {
     "name": "stdout",
     "output_type": "stream",
     "text": [
      "Patience (3) exhausted\n"
     ]
    }
   ],
   "source": [
    "###################################\n",
    "# train\n",
    "###################################\n",
    "jig = PTN_Train_Eval_Test_Jig(model, p.BEST_MODEL_PATH, p.device)\n",
    "\n",
    "jig.train(\n",
    "    train_iterable=datasets.source.processed.train,\n",
    "    source_val_iterable=datasets.source.processed.val,\n",
    "    target_val_iterable=datasets.target.processed.val,\n",
    "    num_epochs=p.n_epoch,\n",
    "    num_logs_per_epoch=p.NUM_LOGS_PER_EPOCH,\n",
    "    patience=p.patience,\n",
    "    optimizer=optimizer,\n",
    "    criteria_for_best=p.criteria_for_best,\n",
    ")"
   ]
  },
  {
   "cell_type": "code",
   "execution_count": 23,
   "id": "31e8fabf",
   "metadata": {
    "execution": {
     "iopub.execute_input": "2022-03-22T08:09:03.049650Z",
     "iopub.status.busy": "2022-03-22T08:09:03.049096Z",
     "iopub.status.idle": "2022-03-22T08:09:03.083024Z",
     "shell.execute_reply": "2022-03-22T08:09:03.082227Z"
    },
    "papermill": {
     "duration": 0.096964,
     "end_time": "2022-03-22T08:09:03.083178",
     "exception": false,
     "start_time": "2022-03-22T08:09:02.986214",
     "status": "completed"
    },
    "tags": []
   },
   "outputs": [],
   "source": [
    "total_experiment_time_secs = time.time() - start_time_secs"
   ]
  },
  {
   "cell_type": "code",
   "execution_count": 24,
   "id": "87b9595b",
   "metadata": {
    "execution": {
     "iopub.execute_input": "2022-03-22T08:09:03.211706Z",
     "iopub.status.busy": "2022-03-22T08:09:03.211112Z",
     "iopub.status.idle": "2022-03-22T08:12:28.038459Z",
     "shell.execute_reply": "2022-03-22T08:12:28.039133Z"
    },
    "papermill": {
     "duration": 204.891586,
     "end_time": "2022-03-22T08:12:28.039369",
     "exception": false,
     "start_time": "2022-03-22T08:09:03.147783",
     "status": "completed"
    },
    "tags": []
   },
   "outputs": [],
   "source": [
    "###################################\n",
    "# Evaluate the model\n",
    "###################################\n",
    "source_test_label_accuracy, source_test_label_loss = jig.test(datasets.source.processed.test)\n",
    "target_test_label_accuracy, target_test_label_loss = jig.test(datasets.target.processed.test)\n",
    "\n",
    "source_val_label_accuracy, source_val_label_loss = jig.test(datasets.source.processed.val)\n",
    "target_val_label_accuracy, target_val_label_loss = jig.test(datasets.target.processed.val)\n",
    "\n",
    "history = jig.get_history()\n",
    "\n",
    "total_epochs_trained = len(history[\"epoch_indices\"])\n",
    "\n",
    "val_dl = Iterable_Aggregator((datasets.source.original.val,datasets.target.original.val))\n",
    "\n",
    "confusion = ptn_confusion_by_domain_over_dataloader(model, p.device, val_dl)\n",
    "per_domain_accuracy = per_domain_accuracy_from_confusion(confusion)\n",
    "\n",
    "# Add a key to per_domain_accuracy for if it was a source domain\n",
    "for domain, accuracy in per_domain_accuracy.items():\n",
    "    per_domain_accuracy[domain] = {\n",
    "        \"accuracy\": accuracy,\n",
    "        \"source?\": domain in p.domains_source\n",
    "    }\n",
    "\n",
    "# Do an independent accuracy assesment JUST TO BE SURE!\n",
    "# _source_test_label_accuracy = independent_accuracy_assesment(model, datasets.source.processed.test, p.device)\n",
    "# _target_test_label_accuracy = independent_accuracy_assesment(model, datasets.target.processed.test, p.device)\n",
    "# _source_val_label_accuracy = independent_accuracy_assesment(model, datasets.source.processed.val, p.device)\n",
    "# _target_val_label_accuracy = independent_accuracy_assesment(model, datasets.target.processed.val, p.device)\n",
    "\n",
    "# assert(_source_test_label_accuracy == source_test_label_accuracy)\n",
    "# assert(_target_test_label_accuracy == target_test_label_accuracy)\n",
    "# assert(_source_val_label_accuracy == source_val_label_accuracy)\n",
    "# assert(_target_val_label_accuracy == target_val_label_accuracy)\n",
    "\n",
    "experiment = {\n",
    "    \"experiment_name\": p.experiment_name,\n",
    "    \"parameters\": dict(p),\n",
    "    \"results\": {\n",
    "        \"source_test_label_accuracy\": source_test_label_accuracy,\n",
    "        \"source_test_label_loss\": source_test_label_loss,\n",
    "        \"target_test_label_accuracy\": target_test_label_accuracy,\n",
    "        \"target_test_label_loss\": target_test_label_loss,\n",
    "        \"source_val_label_accuracy\": source_val_label_accuracy,\n",
    "        \"source_val_label_loss\": source_val_label_loss,\n",
    "        \"target_val_label_accuracy\": target_val_label_accuracy,\n",
    "        \"target_val_label_loss\": target_val_label_loss,\n",
    "        \"total_epochs_trained\": total_epochs_trained,\n",
    "        \"total_experiment_time_secs\": total_experiment_time_secs,\n",
    "        \"confusion\": confusion,\n",
    "        \"per_domain_accuracy\": per_domain_accuracy,\n",
    "    },\n",
    "    \"history\": history,\n",
    "    \"dataset_metrics\": get_dataset_metrics(datasets, \"ptn\"),\n",
    "}"
   ]
  },
  {
   "cell_type": "code",
   "execution_count": 25,
   "id": "54a21829",
   "metadata": {
    "execution": {
     "iopub.execute_input": "2022-03-22T08:12:28.167489Z",
     "iopub.status.busy": "2022-03-22T08:12:28.166919Z",
     "iopub.status.idle": "2022-03-22T08:12:28.391406Z",
     "shell.execute_reply": "2022-03-22T08:12:28.390673Z"
    },
    "papermill": {
     "duration": 0.287281,
     "end_time": "2022-03-22T08:12:28.391596",
     "exception": false,
     "start_time": "2022-03-22T08:12:28.104315",
     "status": "completed"
    },
    "tags": []
   },
   "outputs": [
    {
     "data": {
      "image/png": "[encoded data removed]",
      "text/plain": [
       "<Figure size 1080x504 with 1 Axes>"
      ]
     },
     "metadata": {
      "needs_background": "light"
     },
     "output_type": "display_data"
    }
   ],
   "source": [
    "ax = get_loss_curve(experiment)\n",
    "plt.show()"
   ]
  },
  {
   "cell_type": "code",
   "execution_count": 26,
   "id": "fd8a0f60",
   "metadata": {
    "execution": {
     "iopub.execute_input": "2022-03-22T08:12:28.517160Z",
     "iopub.status.busy": "2022-03-22T08:12:28.516314Z",
     "iopub.status.idle": "2022-03-22T08:12:28.874978Z",
     "shell.execute_reply": "2022-03-22T08:12:28.875666Z"
    },
    "papermill": {
     "duration": 0.4208,
     "end_time": "2022-03-22T08:12:28.875882",
     "exception": false,
     "start_time": "2022-03-22T08:12:28.455082",
     "status": "completed"
    },
    "tags": []
   },
   "outputs": [
    {
     "data": {
      "text/plain": [
       "<AxesSubplot:title={'center':'Results'}>"
      ]
     },
     "execution_count": 26,
     "metadata": {},
     "output_type": "execute_result"
    },
    {
     "data": {
      "image/png": "[encoded data removed]",
      "text/plain": [
       "<Figure size 1080x504 with 1 Axes>"
      ]
     },
     "metadata": {
      "needs_background": "light"
     },
     "output_type": "display_data"
    }
   ],
   "source": [
    "get_results_table(experiment)"
   ]
  },
  {
   "cell_type": "code",
   "execution_count": 27,
   "id": "cf8dc689",
   "metadata": {
    "execution": {
     "iopub.execute_input": "2022-03-22T08:12:29.002783Z",
     "iopub.status.busy": "2022-03-22T08:12:29.002408Z",
     "iopub.status.idle": "2022-03-22T08:12:29.263770Z",
     "shell.execute_reply": "2022-03-22T08:12:29.263007Z"
    },
    "papermill": {
     "duration": 0.325983,
     "end_time": "2022-03-22T08:12:29.263940",
     "exception": false,
     "start_time": "2022-03-22T08:12:28.937957",
     "status": "completed"
    },
    "tags": []
   },
   "outputs": [
    {
     "data": {
      "text/plain": [
       "<AxesSubplot:title={'center':'Per Domain Validation Accuracy'}, xlabel='domain'>"
      ]
     },
     "execution_count": 27,
     "metadata": {},
     "output_type": "execute_result"
    },
    {
     "data": {
      "image/png": "[encoded data removed]",
      "text/plain": [
       "<Figure size 1080x504 with 1 Axes>"
      ]
     },
     "metadata": {
      "needs_background": "light"
     },
     "output_type": "display_data"
    }
   ],
   "source": [
    "get_domain_accuracies(experiment)"
   ]
  },
  {
   "cell_type": "code",
   "execution_count": 28,
   "id": "a74ae082",
   "metadata": {
    "execution": {
     "iopub.execute_input": "2022-03-22T08:12:29.466648Z",
     "iopub.status.busy": "2022-03-22T08:12:29.466265Z",
     "iopub.status.idle": "2022-03-22T08:12:29.489256Z",
     "shell.execute_reply": "2022-03-22T08:12:29.489910Z"
    },
    "papermill": {
     "duration": 0.090195,
     "end_time": "2022-03-22T08:12:29.490117",
     "exception": false,
     "start_time": "2022-03-22T08:12:29.399922",
     "status": "completed"
    },
    "tags": []
   },
   "outputs": [
    {
     "name": "stdout",
     "output_type": "stream",
     "text": [
      "Source Test Label Accuracy: 0.9996120203160271 Target Test Label Accuracy: 0.16907552083333333\n",
      "Source Val Label Accuracy: 0.9996071428571428 Target Val Label Accuracy: 0.1720703125\n"
     ]
    }
   ],
   "source": [
    "print(\"Source Test Label Accuracy:\", experiment[\"results\"][\"source_test_label_accuracy\"], \"Target Test Label Accuracy:\", experiment[\"results\"][\"target_test_label_accuracy\"])\n",
    "print(\"Source Val Label Accuracy:\", experiment[\"results\"][\"source_val_label_accuracy\"], \"Target Val Label Accuracy:\", experiment[\"results\"][\"target_val_label_accuracy\"])"
   ]
  },
  {
   "cell_type": "code",
   "execution_count": 29,
   "id": "dacca602",
   "metadata": {
    "execution": {
     "iopub.execute_input": "2022-03-22T08:12:29.624929Z",
     "iopub.status.busy": "2022-03-22T08:12:29.624550Z",
     "iopub.status.idle": "2022-03-22T08:12:29.650997Z",
     "shell.execute_reply": "2022-03-22T08:12:29.651703Z"
    },
    "papermill": {
     "duration": 0.093716,
     "end_time": "2022-03-22T08:12:29.651907",
     "exception": false,
     "start_time": "2022-03-22T08:12:29.558191",
     "status": "completed"
    },
    "tags": [
     "experiment_json"
    ]
   },
   "outputs": [
    {
     "data": {
      "text/plain": [
       "'{\"experiment_name\": \"tl_1v2:cores-oracle.run1.limited\", \"parameters\": {\"experiment_name\": \"tl_1v2:cores-oracle.run1.limited\", \"device\": \"cuda\", \"lr\": 0.0001, \"n_shot\": 3, \"n_query\": 2, \"train_k_factor\": 3, \"val_k_factor\": 2, \"test_k_factor\": 2, \"torch_default_dtype\": \"torch.float32\", \"n_epoch\": 50, \"patience\": 3, \"criteria_for_best\": \"target_accuracy\", \"x_net\": [{\"class\": \"nnReshape\", \"kargs\": {\"shape\": [-1, 1, 2, 256]}}, {\"class\": \"Conv2d\", \"kargs\": {\"in_channels\": 1, \"out_channels\": 256, \"kernel_size\": [1, 7], \"bias\": false, \"padding\": [0, 3]}}, {\"class\": \"ReLU\", \"kargs\": {\"inplace\": true}}, {\"class\": \"BatchNorm2d\", \"kargs\": {\"num_features\": 256}}, {\"class\": \"Conv2d\", \"kargs\": {\"in_channels\": 256, \"out_channels\": 80, \"kernel_size\": [2, 7], \"bias\": true, \"padding\": [0, 3]}}, {\"class\": \"ReLU\", \"kargs\": {\"inplace\": true}}, {\"class\": \"BatchNorm2d\", \"kargs\": {\"num_features\": 80}}, {\"class\": \"Flatten\", \"kargs\": {}}, {\"class\": \"Linear\", \"kargs\": {\"in_features\": 20480, \"out_features\": 256}}, {\"class\": \"ReLU\", \"kargs\": {\"inplace\": true}}, {\"class\": \"BatchNorm1d\", \"kargs\": {\"num_features\": 256}}, {\"class\": \"Linear\", \"kargs\": {\"in_features\": 256, \"out_features\": 256}}], \"NUM_LOGS_PER_EPOCH\": 10, \"BEST_MODEL_PATH\": \"./best_model.pth\", \"n_way\": 16, \"datasets\": [{\"labels\": [\"1-10.\", \"1-11.\", \"1-15.\", \"1-16.\", \"1-17.\", \"1-18.\", \"1-19.\", \"10-4.\", \"10-7.\", \"11-1.\", \"11-14.\", \"11-17.\", \"11-20.\", \"11-7.\", \"13-20.\", \"13-8.\", \"14-10.\", \"14-11.\", \"14-14.\", \"14-7.\", \"15-1.\", \"15-20.\", \"16-1.\", \"16-16.\", \"17-10.\", \"17-11.\", \"17-2.\", \"19-1.\", \"19-16.\", \"19-19.\", \"19-20.\", \"19-3.\", \"2-10.\", \"2-11.\", \"2-17.\", \"2-18.\", \"2-20.\", \"2-3.\", \"2-4.\", \"2-5.\", \"2-6.\", \"2-7.\", \"2-8.\", \"3-13.\", \"3-18.\", \"3-3.\", \"4-1.\", \"4-10.\", \"4-11.\", \"4-19.\", \"5-5.\", \"6-15.\", \"7-10.\", \"7-14.\", \"8-18.\", \"8-20.\", \"8-3.\", \"8-8.\"], \"domains\": [1, 2, 3, 4, 5], \"num_examples_per_domain_per_label\": -1, \"pickle_path\": \"/root/csc500-main/datasets/cores.stratified_ds.2022A.pkl\", \"source_or_target_dataset\": \"source\", \"x_transforms\": [\"unit_mag\"], \"episode_transforms\": [], \"domain_prefix\": \"CORES_\"}, {\"labels\": [\"3123D52\", \"3123D65\", \"3123D79\", \"3123D80\", \"3123D54\", \"3123D70\", \"3123D7B\", \"3123D89\", \"3123D58\", \"3123D76\", \"3123D7D\", \"3123EFE\", \"3123D64\", \"3123D78\", \"3123D7E\", \"3124E4A\"], \"domains\": [32, 38, 8, 44, 14, 50, 20, 26], \"num_examples_per_domain_per_label\": 2000, \"pickle_path\": \"/root/csc500-main/datasets/oracle.Run1_10kExamples_stratified_ds.2022A.pkl\", \"source_or_target_dataset\": \"target\", \"x_transforms\": [\"unit_mag\"], \"episode_transforms\": [], \"domain_prefix\": \"ORACLE.run1_\"}], \"dataset_seed\": 420, \"seed\": 420, \"x_shape\": [2, 256], \"domains_source\": [\"CORES_1\", \"CORES_2\", \"CORES_3\", \"CORES_4\", \"CORES_5\"], \"domains_target\": [\"ORACLE.run1_32\", \"ORACLE.run1_38\", \"ORACLE.run1_8\", \"ORACLE.run1_44\", \"ORACLE.run1_14\", \"ORACLE.run1_50\", \"ORACLE.run1_20\", \"ORACLE.run1_26\"]}, \"results\": {\"source_test_label_accuracy\": 0.9996120203160271, \"source_test_label_loss\": 0.006644407287240028, \"target_test_label_accuracy\": 0.16907552083333333, \"target_test_label_loss\": 4.500202655792236, \"source_val_label_accuracy\": 0.9996071428571428, \"source_val_label_loss\": 0.010304952040314674, \"target_val_label_accuracy\": 0.1720703125, \"target_val_label_loss\": 4.466314315795898, \"total_epochs_trained\": 11, \"total_experiment_time_secs\": 2057.4019179344177, \"confusion\": {\"CORES_4\": {\"42\": {\"42\": 32}, \"0\": {\"0\": 80}, \"1\": {\"1\": 40}, \"39\": {\"39\": 20}, \"28\": {\"28\": 32}, \"53\": {\"53\": 124}, \"19\": {\"19\": 144}, \"34\": {\"34\": 24}, \"33\": {\"33\": 36}, \"32\": {\"32\": 24}, \"10\": {\"10\": 136}, \"46\": {\"46\": 134}, \"20\": {\"20\": 122}, \"5\": {\"5\": 108}, \"40\": {\"40\": 124}, \"51\": {\"51\": 144}, \"37\": {\"37\": 24}, \"17\": {\"17\": 80}, \"45\": {\"45\": 96}, \"13\": {\"13\": 142}, \"27\": {\"27\": 144}, \"24\": {\"24\": 56}, \"30\": {\"30\": 44}, \"31\": {\"31\": 28}, \"41\": {\"41\": 34, \"10\": 1, \"49\": 1}, \"36\": {\"36\": 92}, \"16\": {\"16\": 96}, \"22\": {\"22\": 128}, \"44\": {\"44\": 131, \"28\": 1}, \"9\": {\"9\": 140}, \"57\": {\"57\": 100}, \"8\": {\"8\": 138}, \"23\": {\"23\": 132}, \"47\": {\"47\": 120}, \"43\": {\"43\": 138}, \"49\": {\"49\": 20}, \"3\": {\"3\": 123, \"50\": 1}, \"12\": {\"12\": 92}, \"38\": {\"38\": 40}, \"7\": {\"7\": 24}, \"14\": {\"14\": 16}, \"15\": {\"15\": 146}, \"25\": {\"25\": 128}, \"26\": {\"26\": 24}, \"21\": {\"21\": 132}, \"48\": {\"48\": 144}, \"56\": {\"56\": 134}, \"11\": {\"11\": 104}, \"2\": {\"2\": 36}, \"6\": {\"6\": 111, \"3\": 1}, \"55\": {\"55\": 140}, \"54\": {\"54\": 108}, \"29\": {\"29\": 124}, \"50\": {\"50\": 122}, \"52\": {\"52\": 116}, \"35\": {\"35\": 40}, \"4\": {\"4\": 120}, \"18\": {\"18\": 108}}, \"CORES_5\": {\"43\": {\"43\": 152}, \"35\": {\"35\": 36}, \"54\": {\"54\": 112}, \"22\": {\"22\": 28}, \"16\": {\"16\": 146}, \"5\": {\"5\": 128}, \"28\": {\"28\": 32}, \"14\": {\"14\": 44}, \"51\": {\"51\": 128}, \"19\": {\"19\": 140}, \"31\": {\"31\": 36}, \"10\": {\"10\": 68}, \"21\": {\"21\": 136}, \"3\": {\"3\": 100}, \"57\": {\"57\": 132}, \"9\": {\"9\": 146}, \"8\": {\"8\": 132}, \"46\": {\"46\": 140}, \"23\": {\"23\": 124}, \"37\": {\"37\": 24}, \"34\": {\"34\": 36}, \"4\": {\"4\": 100}, \"6\": {\"6\": 127, \"18\": 1}, \"48\": {\"48\": 135, \"1\": 1}, \"44\": {\"44\": 138}, \"40\": {\"40\": 124}, \"12\": {\"12\": 96}, \"30\": {\"30\": 128}, \"39\": {\"39\": 20}, \"45\": {\"45\": 124}, \"36\": {\"36\": 92}, \"27\": {\"27\": 140}, \"32\": {\"32\": 32}, \"52\": {\"52\": 130}, \"0\": {\"0\": 124}, \"26\": {\"26\": 24}, \"1\": {\"1\": 148}, \"53\": {\"53\": 146}, \"25\": {\"25\": 144}, \"24\": {\"24\": 80}, \"7\": {\"7\": 32}, \"18\": {\"18\": 64}, \"20\": {\"20\": 144}, \"33\": {\"33\": 32}, \"55\": {\"55\": 140}, \"41\": {\"41\": 28}, \"42\": {\"42\": 39, \"11\": 1}, \"49\": {\"49\": 36}, \"13\": {\"13\": 148}, \"38\": {\"38\": 32}, \"2\": {\"2\": 28}, \"47\": {\"47\": 100}, \"17\": {\"17\": 116}, \"11\": {\"11\": 154}, \"29\": {\"29\": 132}, \"50\": {\"50\": 138}, \"56\": {\"56\": 148}, \"15\": {\"15\": 142}}, \"CORES_2\": {\"49\": {\"49\": 24}, \"13\": {\"13\": 116}, \"37\": {\"37\": 36}, \"41\": {\"41\": 20}, \"15\": {\"15\": 142}, \"56\": {\"56\": 142}, \"14\": {\"14\": 24}, \"3\": {\"3\": 92}, \"38\": {\"38\": 20}, \"43\": {\"43\": 138}, \"33\": {\"33\": 28}, \"47\": {\"47\": 138}, \"30\": {\"30\": 144}, \"39\": {\"39\": 28}, \"12\": {\"12\": 92}, \"6\": {\"6\": 124}, \"51\": {\"51\": 133, \"20\": 1}, \"5\": {\"5\": 120}, \"34\": {\"34\": 28}, \"35\": {\"35\": 32}, \"0\": {\"0\": 48}, \"7\": {\"7\": 36}, \"24\": {\"24\": 96}, \"8\": {\"8\": 136}, \"20\": {\"20\": 124}, \"36\": {\"36\": 116}, \"42\": {\"42\": 36}, \"1\": {\"1\": 112}, \"4\": {\"4\": 148}, \"28\": {\"28\": 28}, \"50\": {\"50\": 136}, \"45\": {\"45\": 128}, \"18\": {\"18\": 48}, \"57\": {\"57\": 120}, \"46\": {\"46\": 128}, \"23\": {\"23\": 148}, \"27\": {\"27\": 138}, \"19\": {\"19\": 134}, \"22\": {\"22\": 136}, \"17\": {\"17\": 104}, \"55\": {\"55\": 136}, \"44\": {\"44\": 100}, \"26\": {\"26\": 24}, \"31\": {\"31\": 28}, \"16\": {\"16\": 130}, \"11\": {\"11\": 128}, \"25\": {\"25\": 126}, \"54\": {\"54\": 108}, \"32\": {\"32\": 28}, \"52\": {\"52\": 124}, \"40\": {\"40\": 132}, \"2\": {\"2\": 32}, \"10\": {\"10\": 110}, \"53\": {\"53\": 136}, \"9\": {\"9\": 150}, \"21\": {\"21\": 120}, \"48\": {\"48\": 138}, \"29\": {\"29\": 128}}, \"CORES_1\": {\"9\": {\"9\": 142}, \"25\": {\"25\": 128}, \"41\": {\"41\": 24}, \"29\": {\"29\": 140}, \"46\": {\"46\": 128}, \"4\": {\"4\": 132}, \"31\": {\"31\": 28}, \"36\": {\"36\": 64}, \"20\": {\"20\": 128}, \"7\": {\"7\": 28}, \"6\": {\"6\": 96}, \"16\": {\"16\": 138}, \"17\": {\"17\": 64}, \"50\": {\"50\": 148}, \"57\": {\"57\": 144}, \"23\": {\"23\": 136}, \"3\": {\"3\": 126}, \"53\": {\"53\": 140}, \"49\": {\"49\": 32}, \"56\": {\"56\": 152}, \"51\": {\"51\": 142}, \"26\": {\"26\": 24}, \"43\": {\"43\": 144}, \"22\": {\"22\": 136}, \"45\": {\"45\": 146}, \"13\": {\"13\": 152}, \"12\": {\"12\": 116}, \"54\": {\"54\": 104}, \"24\": {\"24\": 108}, \"44\": {\"44\": 136}, \"28\": {\"28\": 28}, \"33\": {\"33\": 32}, \"38\": {\"38\": 24}, \"0\": {\"0\": 144}, \"47\": {\"47\": 154}, \"42\": {\"42\": 40}, \"34\": {\"34\": 24}, \"48\": {\"48\": 142}, \"35\": {\"35\": 36}, \"2\": {\"2\": 36}, \"30\": {\"30\": 120}, \"18\": {\"18\": 72}, \"37\": {\"37\": 32}, \"1\": {\"1\": 100}, \"11\": {\"11\": 138}, \"55\": {\"55\": 130}, \"15\": {\"15\": 150}, \"10\": {\"10\": 96}, \"27\": {\"27\": 160}, \"19\": {\"19\": 146}, \"14\": {\"14\": 24}, \"8\": {\"8\": 140}, \"5\": {\"5\": 136}, \"39\": {\"39\": 28}, \"52\": {\"52\": 122}, \"21\": {\"21\": 124}, \"40\": {\"40\": 152}, \"32\": {\"32\": 32}}, \"CORES_3\": {\"56\": {\"56\": 120}, \"4\": {\"4\": 146}, \"34\": {\"34\": 32}, \"52\": {\"52\": 136}, \"32\": {\"32\": 28}, \"46\": {\"46\": 136}, \"12\": {\"12\": 92}, \"20\": {\"20\": 132}, \"54\": {\"54\": 100}, \"22\": {\"22\": 140}, \"26\": {\"26\": 24}, \"31\": {\"31\": 28}, \"10\": {\"10\": 64}, \"27\": {\"27\": 144}, \"40\": {\"40\": 136}, \"28\": {\"28\": 28}, \"5\": {\"5\": 116}, \"30\": {\"30\": 120}, \"7\": {\"7\": 36}, \"18\": {\"18\": 84}, \"39\": {\"39\": 16}, \"50\": {\"50\": 136}, \"49\": {\"49\": 20}, \"43\": {\"43\": 122}, \"29\": {\"29\": 114}, \"35\": {\"35\": 28}, \"13\": {\"13\": 124}, \"36\": {\"36\": 100}, \"11\": {\"11\": 146}, \"57\": {\"57\": 124}, \"9\": {\"9\": 130}, \"25\": {\"25\": 130}, \"16\": {\"16\": 126}, \"53\": {\"53\": 118}, \"33\": {\"33\": 28}, \"51\": {\"51\": 128}, \"44\": {\"44\": 88}, \"48\": {\"48\": 114}, \"6\": {\"6\": 88}, \"23\": {\"23\": 144}, \"1\": {\"1\": 100}, \"17\": {\"17\": 107, \"38\": 1}, \"21\": {\"21\": 122}, \"14\": {\"14\": 40}, \"55\": {\"55\": 144}, \"41\": {\"41\": 28}, \"3\": {\"3\": 137, \"50\": 1}, \"38\": {\"38\": 28}, \"2\": {\"2\": 32}, \"8\": {\"8\": 142}, \"37\": {\"37\": 28}, \"45\": {\"45\": 60}, \"42\": {\"42\": 28}, \"24\": {\"24\": 104}, \"15\": {\"15\": 136}, \"0\": {\"0\": 124}, \"47\": {\"47\": 92}, \"19\": {\"19\": 120}}, \"ORACLE.run1_14\": {\"15\": {\"7\": 54, \"13\": 13, \"15\": 74, \"4\": 17, \"10\": 3, \"9\": 1, \"5\": 23, \"1\": 17, \"6\": 13, \"2\": 12, \"14\": 5, \"0\": 2, \"8\": 3, \"3\": 3}, \"5\": {\"3\": 15, \"0\": 14, \"2\": 12, \"7\": 29, \"5\": 23, \"14\": 15, \"4\": 23, \"15\": 26, \"1\": 28, \"6\": 14, \"9\": 1, \"13\": 19, \"8\": 12, \"10\": 6, \"11\": 3}, \"7\": {\"15\": 70, \"13\": 19, \"6\": 11, \"14\": 12, \"5\": 22, \"4\": 13, \"1\": 15, \"7\": 59, \"8\": 4, \"3\": 5, \"2\": 9, \"0\": 1}, \"4\": {\"6\": 17, \"8\": 9, \"10\": 11, \"3\": 20, \"5\": 24, \"14\": 24, \"13\": 23, \"7\": 18, \"11\": 10, \"1\": 23, \"15\": 15, \"9\": 3, \"4\": 20, \"2\": 12, \"0\": 11}, \"10\": {\"10\": 28, \"12\": 11, \"11\": 34, \"1\": 7, \"13\": 6, \"4\": 15, \"0\": 27, \"14\": 19, \"7\": 1, \"9\": 21, \"6\": 13, \"2\": 8, \"3\": 23, \"8\": 21, \"5\": 5, \"15\": 1}, \"11\": {\"12\": 25, \"11\": 47, \"3\": 11, \"0\": 36, \"10\": 38, \"8\": 8, \"9\": 35, \"14\": 9, \"2\": 5, \"6\": 5, \"13\": 6, \"1\": 2, \"5\": 5, \"4\": 7, \"15\": 1}, \"12\": {\"11\": 33, \"4\": 1, \"12\": 96, \"9\": 61, \"0\": 13, \"8\": 12, \"10\": 19, \"14\": 1, \"3\": 3, \"6\": 1}, \"0\": {\"12\": 10, \"5\": 5, \"8\": 18, \"9\": 21, \"2\": 13, \"0\": 27, \"10\": 32, \"4\": 11, \"14\": 17, \"13\": 15, \"6\": 8, \"3\": 19, \"11\": 33, \"15\": 3, \"1\": 7, \"7\": 1}, \"14\": {\"5\": 15, \"6\": 27, \"13\": 26, \"15\": 13, \"11\": 9, \"1\": 13, \"2\": 29, \"3\": 16, \"7\": 7, \"4\": 22, \"14\": 30, \"0\": 17, \"8\": 5, \"10\": 9, \"9\": 2}, \"8\": {\"9\": 30, \"8\": 39, \"13\": 10, \"4\": 20, \"11\": 11, \"10\": 21, \"6\": 5, \"12\": 5, \"5\": 17, \"0\": 16, \"2\": 12, \"14\": 10, \"7\": 8, \"1\": 18, \"3\": 17, \"15\": 1}, \"13\": {\"14\": 14, \"3\": 18, \"4\": 22, \"1\": 25, \"11\": 7, \"2\": 27, \"10\": 16, \"13\": 27, \"7\": 14, \"5\": 16, \"6\": 23, \"0\": 9, \"9\": 8, \"15\": 12, \"12\": 1, \"8\": 1}, \"6\": {\"10\": 21, \"13\": 24, \"0\": 18, \"15\": 14, \"11\": 10, \"6\": 29, \"7\": 12, \"14\": 24, \"2\": 23, \"4\": 18, \"5\": 14, \"3\": 15, \"1\": 11, \"8\": 5, \"9\": 2}, \"1\": {\"0\": 8, \"3\": 16, \"15\": 27, \"1\": 23, \"7\": 21, \"9\": 4, \"8\": 13, \"6\": 16, \"5\": 23, \"2\": 19, \"13\": 18, \"11\": 4, \"14\": 10, \"10\": 8, \"4\": 30}, \"3\": {\"13\": 23, \"0\": 21, \"3\": 15, \"14\": 20, \"2\": 21, \"4\": 27, \"6\": 22, \"8\": 10, \"10\": 19, \"1\": 15, \"7\": 6, \"15\": 8, \"9\": 9, \"5\": 11, \"12\": 3, \"11\": 10}, \"9\": {\"9\": 58, \"8\": 26, \"12\": 49, \"10\": 27, \"11\": 43, \"0\": 16, \"3\": 7, \"14\": 5, \"5\": 2, \"4\": 2, \"13\": 1, \"1\": 2, \"2\": 2}, \"2\": {\"3\": 16, \"13\": 22, \"15\": 18, \"5\": 28, \"10\": 7, \"11\": 10, \"8\": 10, \"0\": 10, \"14\": 16, \"6\": 32, \"4\": 16, \"1\": 16, \"7\": 14, \"9\": 4, \"2\": 21}}, \"ORACLE.run1_20\": {\"4\": {\"12\": 18, \"7\": 14, \"1\": 16, \"4\": 16, \"8\": 22, \"13\": 9, \"14\": 14, \"6\": 13, \"2\": 11, \"5\": 27, \"9\": 12, \"3\": 15, \"10\": 19, \"15\": 5, \"0\": 14, \"11\": 15}, \"10\": {\"0\": 15, \"10\": 21, \"2\": 16, \"5\": 19, \"3\": 12, \"12\": 15, \"4\": 15, \"9\": 13, \"14\": 18, \"7\": 18, \"11\": 10, \"8\": 24, \"15\": 5, \"1\": 7, \"13\": 10, \"6\": 22}, \"15\": {\"7\": 10, \"12\": 15, \"15\": 25, \"10\": 12, \"2\": 17, \"9\": 11, \"8\": 9, \"14\": 11, \"6\": 7, \"0\": 23, \"1\": 21, \"4\": 18, \"3\": 17, \"13\": 21, \"11\": 6, \"5\": 17}, \"0\": {\"1\": 19, \"2\": 18, \"13\": 24, \"12\": 16, \"15\": 23, \"6\": 13, \"3\": 21, \"11\": 10, \"4\": 16, \"10\": 5, \"14\": 6, \"8\": 14, \"5\": 17, \"0\": 21, \"7\": 10, \"9\": 7}, \"6\": {\"13\": 13, \"6\": 44, \"11\": 19, \"0\": 3, \"9\": 12, \"14\": 25, \"2\": 15, \"10\": 17, \"7\": 21, \"8\": 22, \"3\": 7, \"12\": 8, \"4\": 16, \"1\": 6, \"15\": 6, \"5\": 6}, \"3\": {\"9\": 26, \"4\": 15, \"12\": 19, \"15\": 16, \"1\": 17, \"2\": 12, \"10\": 10, \"8\": 14, \"7\": 12, \"6\": 9, \"0\": 20, \"11\": 15, \"3\": 20, \"5\": 11, \"14\": 9, \"13\": 15}, \"7\": {\"13\": 12, \"5\": 16, \"12\": 16, \"15\": 13, \"7\": 17, \"6\": 20, \"9\": 18, \"1\": 16, \"10\": 17, \"11\": 17, \"2\": 17, \"14\": 14, \"0\": 11, \"4\": 8, \"8\": 18, \"3\": 10}, \"2\": {\"1\": 17, \"8\": 15, \"10\": 12, \"4\": 13, \"13\": 17, \"5\": 15, \"9\": 15, \"6\": 10, \"7\": 19, \"12\": 13, \"11\": 18, \"15\": 15, \"0\": 18, \"2\": 19, \"14\": 11, \"3\": 13}, \"8\": {\"1\": 18, \"13\": 12, \"9\": 10, \"0\": 17, \"12\": 12, \"6\": 15, \"8\": 17, \"15\": 9, \"7\": 14, \"10\": 28, \"5\": 14, \"2\": 6, \"11\": 13, \"14\": 23, \"3\": 14, \"4\": 18}, \"11\": {\"4\": 7, \"15\": 17, \"11\": 42, \"8\": 8, \"6\": 29, \"2\": 12, \"3\": 9, \"9\": 15, \"5\": 8, \"10\": 9, \"7\": 15, \"14\": 24, \"12\": 11, \"0\": 13, \"13\": 16, \"1\": 5}, \"14\": {\"8\": 18, \"6\": 31, \"4\": 18, \"7\": 18, \"14\": 27, \"3\": 14, \"9\": 14, \"0\": 11, \"2\": 11, \"11\": 20, \"13\": 10, \"10\": 19, \"12\": 9, \"15\": 7, \"5\": 8, \"1\": 5}, \"12\": {\"2\": 14, \"10\": 10, \"12\": 22, \"13\": 9, \"8\": 11, \"15\": 19, \"4\": 14, \"7\": 7, \"11\": 9, \"5\": 25, \"0\": 18, \"3\": 24, \"6\": 10, \"9\": 19, \"14\": 10, \"1\": 19}, \"13\": {\"2\": 27, \"13\": 17, \"9\": 15, \"0\": 16, \"11\": 16, \"1\": 25, \"12\": 16, \"5\": 13, \"3\": 10, \"10\": 6, \"15\": 24, \"7\": 15, \"14\": 9, \"6\": 15, \"4\": 8, \"8\": 8}, \"9\": {\"4\": 8, \"13\": 14, \"11\": 14, \"9\": 17, \"1\": 16, \"2\": 27, \"0\": 20, \"12\": 18, \"15\": 18, \"14\": 6, \"3\": 17, \"8\": 16, \"10\": 17, \"7\": 11, \"5\": 13, \"6\": 8}, \"5\": {\"1\": 21, \"4\": 17, \"0\": 26, \"7\": 19, \"12\": 14, \"3\": 17, \"2\": 16, \"8\": 14, \"9\": 13, \"11\": 8, \"10\": 14, \"13\": 12, \"5\": 13, \"15\": 20, \"14\": 7, \"6\": 9}, \"1\": {\"3\": 23, \"10\": 4, \"0\": 20, \"15\": 36, \"7\": 13, \"13\": 13, \"5\": 23, \"11\": 7, \"2\": 17, \"1\": 15, \"14\": 6, \"8\": 13, \"4\": 18, \"9\": 11, \"6\": 8, \"12\": 13}}, \"ORACLE.run1_50\": {\"5\": {\"7\": 33, \"15\": 17, \"13\": 30, \"10\": 20, \"6\": 19, \"5\": 31, \"4\": 16, \"0\": 8, \"1\": 20, \"8\": 13, \"14\": 8, \"3\": 6, \"9\": 2, \"2\": 8, \"11\": 7, \"12\": 2}, \"12\": {\"9\": 70, \"14\": 46, \"11\": 24, \"12\": 74, \"4\": 3, \"1\": 8, \"15\": 9, \"5\": 2, \"2\": 3, \"13\": 1}, \"14\": {\"1\": 17, \"11\": 35, \"14\": 45, \"12\": 41, \"6\": 9, \"9\": 27, \"4\": 12, \"10\": 1, \"13\": 3, \"15\": 21, \"5\": 5, \"2\": 7, \"7\": 7, \"0\": 10}, \"4\": {\"14\": 15, \"11\": 24, \"15\": 35, \"6\": 22, \"12\": 5, \"1\": 29, \"2\": 5, \"7\": 19, \"13\": 12, \"0\": 9, \"5\": 25, \"4\": 26, \"9\": 4, \"10\": 7, \"3\": 1, \"8\": 2}, \"13\": {\"13\": 27, \"14\": 8, \"1\": 19, \"10\": 21, \"5\": 28, \"4\": 17, \"0\": 22, \"7\": 30, \"8\": 12, \"6\": 24, \"15\": 9, \"11\": 4, \"3\": 8, \"12\": 2, \"2\": 9}, \"10\": {\"8\": 32, \"7\": 22, \"13\": 21, \"1\": 15, \"2\": 20, \"0\": 20, \"6\": 19, \"14\": 2, \"3\": 23, \"10\": 29, \"15\": 4, \"5\": 21, \"4\": 10, \"11\": 2}, \"9\": {\"9\": 82, \"11\": 34, \"15\": 14, \"12\": 54, \"1\": 15, \"14\": 22, \"5\": 2, \"4\": 7, \"2\": 5, \"6\": 3, \"13\": 1, \"0\": 1}, \"15\": {\"11\": 33, \"15\": 48, \"4\": 27, \"12\": 10, \"6\": 25, \"13\": 20, \"1\": 28, \"14\": 13, \"7\": 8, \"9\": 12, \"5\": 10, \"2\": 3, \"8\": 1, \"10\": 1, \"0\": 1}, \"6\": {\"14\": 16, \"2\": 7, \"0\": 14, \"5\": 27, \"15\": 19, \"11\": 7, \"7\": 27, \"6\": 27, \"1\": 25, \"13\": 25, \"4\": 26, \"3\": 2, \"8\": 3, \"10\": 10, \"12\": 4, \"9\": 1}, \"2\": {\"5\": 14, \"14\": 22, \"2\": 37, \"3\": 9, \"10\": 26, \"6\": 11, \"7\": 13, \"13\": 13, \"8\": 17, \"0\": 32, \"9\": 5, \"4\": 9, \"12\": 11, \"15\": 5, \"1\": 14, \"11\": 2}, \"0\": {\"4\": 5, \"5\": 16, \"0\": 32, \"3\": 12, \"2\": 39, \"14\": 17, \"13\": 15, \"7\": 19, \"8\": 17, \"6\": 14, \"12\": 6, \"1\": 12, \"10\": 30, \"15\": 5, \"11\": 1}, \"11\": {\"14\": 21, \"5\": 6, \"15\": 31, \"12\": 40, \"1\": 21, \"7\": 5, \"9\": 43, \"13\": 6, \"11\": 35, \"6\": 13, \"4\": 11, \"0\": 3, \"2\": 5}, \"3\": {\"3\": 109, \"8\": 61, \"10\": 19, \"0\": 15, \"7\": 17, \"5\": 6, \"13\": 6, \"2\": 4, \"6\": 2, \"4\": 1}, \"8\": {\"8\": 68, \"10\": 30, \"13\": 7, \"2\": 18, \"3\": 65, \"7\": 15, \"5\": 7, \"0\": 20, \"6\": 6, \"1\": 1, \"4\": 2, \"14\": 1}, \"7\": {\"10\": 23, \"8\": 18, \"6\": 25, \"13\": 28, \"4\": 18, \"2\": 12, \"5\": 28, \"3\": 12, \"0\": 20, \"11\": 1, \"15\": 5, \"1\": 18, \"7\": 27, \"14\": 4, \"9\": 1}, \"1\": {\"11\": 27, \"4\": 18, \"6\": 21, \"15\": 36, \"1\": 34, \"9\": 12, \"7\": 16, \"0\": 14, \"13\": 9, \"14\": 18, \"5\": 19, \"12\": 7, \"10\": 3, \"2\": 5, \"8\": 1}}, \"ORACLE.run1_26\": {\"7\": {\"15\": 15, \"13\": 7, \"8\": 24, \"10\": 14, \"14\": 13, \"5\": 20, \"4\": 23, \"9\": 12, \"1\": 19, \"0\": 9, \"3\": 20, \"7\": 26, \"6\": 14, \"2\": 18, \"12\": 5, \"11\": 1}, \"6\": {\"3\": 8, \"9\": 20, \"0\": 16, \"8\": 14, \"1\": 13, \"13\": 14, \"12\": 28, \"7\": 14, \"6\": 15, \"15\": 17, \"14\": 20, \"4\": 17, \"10\": 16, \"5\": 10, \"2\": 14, \"11\": 4}, \"14\": {\"4\": 23, \"2\": 12, \"14\": 21, \"15\": 17, \"12\": 8, \"11\": 1, \"7\": 16, \"1\": 20, \"5\": 12, \"6\": 11, \"8\": 19, \"10\": 23, \"0\": 19, \"13\": 10, \"9\": 10, \"3\": 18}, \"15\": {\"9\": 13, \"2\": 21, \"14\": 16, \"8\": 19, \"7\": 23, \"10\": 17, \"12\": 8, \"4\": 13, \"0\": 10, \"1\": 14, \"6\": 13, \"5\": 16, \"13\": 11, \"3\": 20, \"15\": 21, \"11\": 5}, \"5\": {\"2\": 17, \"13\": 23, \"15\": 21, \"14\": 6, \"1\": 7, \"9\": 22, \"6\": 12, \"0\": 10, \"7\": 14, \"3\": 22, \"8\": 17, \"5\": 24, \"12\": 8, \"10\": 17, \"4\": 15, \"11\": 5}, \"10\": {\"4\": 17, \"10\": 14, \"9\": 16, \"6\": 19, \"12\": 11, \"1\": 18, \"14\": 20, \"13\": 15, \"0\": 19, \"5\": 15, \"8\": 15, \"11\": 5, \"7\": 15, \"2\": 13, \"3\": 12, \"15\": 16}, \"4\": {\"2\": 18, \"7\": 29, \"5\": 14, \"8\": 16, \"3\": 19, \"0\": 20, \"4\": 21, \"1\": 15, \"10\": 14, \"14\": 13, \"9\": 12, \"6\": 17, \"15\": 12, \"12\": 6, \"13\": 13, \"11\": 1}, \"11\": {\"11\": 98, \"12\": 70, \"6\": 12, \"13\": 15, \"5\": 6, \"10\": 5, \"15\": 8, \"1\": 2, \"4\": 5, \"2\": 3, \"14\": 3, \"7\": 1, \"0\": 7, \"8\": 2, \"9\": 3}, \"13\": {\"12\": 25, \"15\": 12, \"3\": 16, \"4\": 11, \"10\": 8, \"5\": 25, \"9\": 23, \"6\": 19, \"7\": 11, \"2\": 14, \"0\": 10, \"14\": 8, \"8\": 11, \"1\": 8, \"13\": 27, \"11\": 12}, \"2\": {\"4\": 20, \"2\": 29, \"10\": 11, \"9\": 14, \"7\": 22, \"1\": 16, \"3\": 17, \"15\": 22, \"8\": 18, \"6\": 9, \"5\": 19, \"13\": 13, \"0\": 12, \"14\": 13, \"11\": 1, \"12\": 4}, \"0\": {\"1\": 19, \"8\": 15, \"14\": 25, \"9\": 15, \"0\": 29, \"5\": 16, \"4\": 14, \"10\": 16, \"2\": 14, \"12\": 11, \"6\": 14, \"7\": 19, \"15\": 13, \"11\": 3, \"3\": 13, \"13\": 4}, \"12\": {\"10\": 11, \"15\": 15, \"9\": 16, \"11\": 36, \"0\": 15, \"12\": 72, \"1\": 9, \"13\": 10, \"8\": 11, \"5\": 8, \"14\": 8, \"3\": 2, \"6\": 19, \"7\": 5, \"4\": 2, \"2\": 1}, \"3\": {\"1\": 16, \"2\": 23, \"3\": 31, \"7\": 23, \"9\": 10, \"8\": 25, \"13\": 10, \"0\": 8, \"4\": 20, \"14\": 13, \"6\": 12, \"12\": 2, \"15\": 18, \"5\": 17, \"10\": 11, \"11\": 1}, \"9\": {\"9\": 16, \"2\": 14, \"8\": 11, \"6\": 27, \"1\": 14, \"13\": 18, \"7\": 24, \"0\": 11, \"10\": 20, \"14\": 7, \"15\": 24, \"5\": 17, \"4\": 14, \"12\": 8, \"3\": 11, \"11\": 4}, \"8\": {\"6\": 17, \"0\": 18, \"15\": 16, \"8\": 16, \"14\": 19, \"7\": 13, \"12\": 7, \"9\": 12, \"10\": 14, \"13\": 15, \"4\": 26, \"2\": 20, \"5\": 11, \"3\": 18, \"1\": 15, \"11\": 3}, \"1\": {\"5\": 16, \"1\": 16, \"0\": 24, \"9\": 17, \"13\": 9, \"6\": 13, \"4\": 25, \"8\": 18, \"12\": 8, \"7\": 17, \"3\": 18, \"2\": 13, \"14\": 22, \"15\": 12, \"10\": 10, \"11\": 2}}, \"ORACLE.run1_32\": {\"7\": {\"2\": 23, \"4\": 22, \"11\": 23, \"8\": 20, \"3\": 18, \"14\": 33, \"9\": 6, \"5\": 17, \"13\": 27, \"0\": 22, \"7\": 24, \"15\": 5}, \"2\": {\"4\": 27, \"13\": 16, \"0\": 26, \"2\": 50, \"8\": 16, \"15\": 4, \"7\": 20, \"3\": 6, \"5\": 19, \"9\": 21, \"11\": 15, \"14\": 19, \"12\": 1}, \"5\": {\"8\": 23, \"4\": 20, \"13\": 18, \"3\": 22, \"2\": 19, \"5\": 33, \"15\": 13, \"14\": 33, \"0\": 18, \"11\": 19, \"7\": 19, \"9\": 3}, \"6\": {\"6\": 111, \"1\": 44, \"9\": 16, \"10\": 42, \"12\": 27}, \"13\": {\"4\": 15, \"15\": 19, \"0\": 22, \"11\": 25, \"2\": 18, \"7\": 32, \"13\": 21, \"8\": 19, \"5\": 21, \"3\": 30, \"12\": 1, \"14\": 17}, \"4\": {\"8\": 26, \"14\": 14, \"2\": 38, \"5\": 22, \"0\": 26, \"13\": 20, \"3\": 15, \"11\": 12, \"7\": 18, \"4\": 29, \"15\": 9, \"9\": 9, \"12\": 2}, \"3\": {\"15\": 22, \"7\": 20, \"3\": 48, \"4\": 9, \"13\": 33, \"14\": 27, \"8\": 20, \"11\": 21, \"0\": 14, \"5\": 19, \"2\": 7}, \"0\": {\"5\": 26, \"15\": 15, \"3\": 10, \"13\": 20, \"0\": 35, \"8\": 24, \"11\": 16, \"2\": 26, \"14\": 19, \"9\": 11, \"7\": 14, \"4\": 23, \"12\": 1}, \"9\": {\"9\": 106, \"12\": 75, \"0\": 12, \"4\": 13, \"14\": 2, \"11\": 1, \"10\": 2, \"6\": 9, \"2\": 12, \"7\": 1, \"8\": 3, \"5\": 1, \"13\": 3}, \"12\": {\"12\": 124, \"9\": 57, \"10\": 22, \"6\": 30, \"1\": 6, \"0\": 1}, \"8\": {\"0\": 25, \"3\": 18, \"11\": 21, \"8\": 29, \"2\": 21, \"7\": 14, \"13\": 30, \"5\": 26, \"4\": 12, \"15\": 20, \"14\": 20, \"9\": 4}, \"14\": {\"14\": 43, \"15\": 4, \"11\": 36, \"3\": 25, \"5\": 20, \"8\": 14, \"7\": 23, \"0\": 23, \"13\": 19, \"2\": 15, \"4\": 16, \"9\": 2}, \"15\": {\"15\": 62, \"13\": 26, \"0\": 13, \"8\": 24, \"7\": 11, \"5\": 19, \"3\": 41, \"14\": 14, \"11\": 7, \"2\": 5, \"4\": 18}, \"11\": {\"8\": 18, \"7\": 24, \"5\": 18, \"15\": 10, \"2\": 17, \"14\": 39, \"4\": 18, \"11\": 38, \"0\": 13, \"13\": 18, \"3\": 25, \"9\": 2}, \"10\": {\"10\": 116, \"6\": 38, \"1\": 56, \"12\": 28, \"9\": 2}, \"1\": {\"1\": 119, \"10\": 88, \"6\": 28, \"9\": 1, \"12\": 4}}, \"ORACLE.run1_44\": {\"11\": {\"6\": 32, \"12\": 4, \"13\": 24, \"9\": 25, \"4\": 25, \"3\": 5, \"11\": 77, \"5\": 5, \"7\": 12, \"14\": 13, \"1\": 2, \"2\": 7, \"0\": 4, \"15\": 3, \"10\": 2}, \"7\": {\"7\": 39, \"11\": 17, \"13\": 25, \"12\": 23, \"3\": 19, \"9\": 31, \"2\": 25, \"1\": 20, \"4\": 3, \"6\": 15, \"10\": 21, \"15\": 1, \"14\": 1}, \"6\": {\"2\": 16, \"13\": 39, \"4\": 15, \"7\": 24, \"6\": 34, \"1\": 10, \"9\": 38, \"3\": 6, \"5\": 3, \"11\": 38, \"10\": 6, \"12\": 2, \"14\": 5, \"15\": 3, \"0\": 1}, \"12\": {\"10\": 43, \"2\": 24, \"3\": 31, \"1\": 47, \"12\": 71, \"9\": 9, \"7\": 7, \"6\": 2, \"13\": 3, \"11\": 2, \"14\": 1}, \"4\": {\"15\": 26, \"0\": 19, \"14\": 45, \"13\": 22, \"5\": 24, \"4\": 54, \"3\": 2, \"9\": 10, \"1\": 2, \"6\": 6, \"8\": 10, \"2\": 2, \"7\": 5, \"11\": 12, \"12\": 1}, \"13\": {\"6\": 46, \"13\": 43, \"7\": 17, \"5\": 5, \"9\": 24, \"11\": 34, \"10\": 5, \"3\": 10, \"15\": 4, \"14\": 13, \"2\": 12, \"1\": 5, \"4\": 16, \"0\": 2, \"12\": 4}, \"8\": {\"5\": 49, \"0\": 51, \"8\": 81, \"15\": 36, \"14\": 15, \"4\": 8}, \"5\": {\"4\": 32, \"5\": 60, \"8\": 49, \"0\": 39, \"15\": 28, \"14\": 28, \"13\": 2, \"7\": 1, \"6\": 1}, \"14\": {\"4\": 38, \"3\": 4, \"14\": 54, \"5\": 31, \"13\": 13, \"9\": 10, \"11\": 8, \"0\": 25, \"8\": 15, \"7\": 3, \"12\": 1, \"15\": 34, \"6\": 3, \"1\": 1}, \"3\": {\"2\": 22, \"1\": 43, \"3\": 51, \"6\": 9, \"7\": 24, \"11\": 7, \"12\": 32, \"9\": 11, \"15\": 2, \"4\": 5, \"10\": 23, \"13\": 7, \"14\": 3, \"8\": 1}, \"10\": {\"11\": 5, \"12\": 47, \"1\": 46, \"9\": 11, \"3\": 26, \"7\": 26, \"10\": 40, \"2\": 29, \"13\": 6, \"6\": 4}, \"1\": {\"1\": 45, \"12\": 64, \"7\": 12, \"2\": 29, \"9\": 11, \"3\": 32, \"10\": 33, \"13\": 4, \"11\": 2, \"6\": 6, \"14\": 1, \"4\": 1}, \"2\": {\"2\": 31, \"12\": 23, \"13\": 15, \"9\": 21, \"1\": 24, \"10\": 35, \"6\": 19, \"3\": 36, \"7\": 24, \"11\": 8, \"4\": 3, \"0\": 1}, \"15\": {\"5\": 27, \"0\": 34, \"8\": 41, \"15\": 58, \"14\": 37, \"4\": 28, \"11\": 1, \"13\": 7, \"6\": 3, \"9\": 2, \"7\": 1, \"3\": 1}, \"9\": {\"2\": 24, \"11\": 20, \"9\": 39, \"4\": 19, \"10\": 8, \"13\": 28, \"1\": 11, \"7\": 27, \"5\": 2, \"3\": 19, \"12\": 8, \"6\": 29, \"14\": 4, \"15\": 2}, \"0\": {\"8\": 69, \"0\": 56, \"15\": 37, \"5\": 47, \"4\": 14, \"14\": 14, \"13\": 2, \"7\": 1}}, \"ORACLE.run1_8\": {\"10\": {\"13\": 23, \"5\": 17, \"1\": 18, \"11\": 21, \"0\": 17, \"4\": 26, \"9\": 6, \"14\": 19, \"8\": 10, \"6\": 16, \"10\": 24, \"2\": 10, \"3\": 6, \"7\": 16, \"15\": 7, \"12\": 4}, \"6\": {\"12\": 13, \"6\": 14, \"2\": 17, \"0\": 20, \"13\": 23, \"15\": 19, \"5\": 18, \"4\": 12, \"14\": 13, \"10\": 13, \"7\": 19, \"11\": 14, \"8\": 18, \"1\": 20, \"3\": 7}, \"13\": {\"0\": 23, \"7\": 17, \"6\": 27, \"4\": 20, \"5\": 22, \"10\": 24, \"1\": 17, \"3\": 7, \"8\": 6, \"2\": 13, \"12\": 13, \"15\": 5, \"14\": 12, \"11\": 14, \"13\": 18, \"9\": 2}, \"3\": {\"3\": 43, \"13\": 7, \"15\": 27, \"2\": 40, \"7\": 13, \"8\": 20, \"10\": 7, \"4\": 8, \"5\": 4, \"12\": 30, \"6\": 11, \"14\": 8, \"0\": 13, \"1\": 7, \"11\": 2}, \"9\": {\"9\": 133, \"13\": 10, \"5\": 24, \"14\": 8, \"10\": 16, \"8\": 2, \"7\": 4, \"4\": 12, \"0\": 6, \"11\": 4, \"1\": 11, \"6\": 9, \"3\": 1}, \"1\": {\"11\": 27, \"0\": 14, \"9\": 3, \"8\": 15, \"2\": 4, \"6\": 17, \"4\": 16, \"13\": 21, \"14\": 21, \"1\": 34, \"5\": 22, \"12\": 2, \"10\": 19, \"7\": 15, \"3\": 5, \"15\": 5}, \"5\": {\"11\": 20, \"1\": 29, \"14\": 16, \"4\": 14, \"5\": 38, \"10\": 26, \"8\": 8, \"0\": 17, \"15\": 5, \"7\": 6, \"12\": 4, \"6\": 18, \"9\": 10, \"13\": 19, \"3\": 2, \"2\": 8}, \"11\": {\"5\": 26, \"12\": 10, \"6\": 13, \"15\": 13, \"4\": 9, \"10\": 22, \"1\": 28, \"7\": 12, \"11\": 34, \"9\": 2, \"0\": 13, \"2\": 6, \"8\": 18, \"14\": 10, \"13\": 18, \"3\": 6}, \"4\": {\"4\": 23, \"0\": 18, \"5\": 14, \"12\": 8, \"6\": 19, \"14\": 20, \"3\": 16, \"1\": 14, \"13\": 26, \"8\": 8, \"15\": 11, \"10\": 18, \"7\": 15, \"11\": 16, \"2\": 11, \"9\": 3}, \"14\": {\"9\": 4, \"1\": 23, \"10\": 18, \"2\": 5, \"15\": 10, \"13\": 16, \"6\": 18, \"5\": 22, \"7\": 17, \"14\": 22, \"8\": 16, \"11\": 21, \"4\": 20, \"0\": 13, \"12\": 7, \"3\": 8}, \"12\": {\"7\": 21, \"11\": 7, \"6\": 14, \"12\": 36, \"8\": 23, \"2\": 34, \"0\": 13, \"15\": 36, \"3\": 22, \"4\": 11, \"1\": 5, \"5\": 2, \"13\": 8, \"14\": 3, \"10\": 5}, \"7\": {\"6\": 18, \"7\": 21, \"12\": 12, \"15\": 21, \"2\": 25, \"13\": 17, \"0\": 19, \"3\": 17, \"10\": 17, \"5\": 12, \"14\": 16, \"4\": 13, \"8\": 9, \"1\": 12, \"11\": 11}, \"0\": {\"13\": 13, \"15\": 9, \"0\": 16, \"7\": 25, \"3\": 13, \"4\": 20, \"10\": 22, \"6\": 14, \"1\": 16, \"2\": 22, \"14\": 22, \"11\": 13, \"5\": 17, \"12\": 9, \"8\": 7, \"9\": 2}, \"15\": {\"4\": 14, \"8\": 26, \"15\": 31, \"7\": 19, \"3\": 31, \"2\": 19, \"1\": 11, \"6\": 18, \"13\": 7, \"10\": 7, \"5\": 3, \"12\": 27, \"11\": 13, \"14\": 10, \"0\": 4}, \"2\": {\"14\": 7, \"10\": 9, \"7\": 16, \"11\": 4, \"3\": 35, \"15\": 25, \"8\": 10, \"12\": 26, \"0\": 17, \"13\": 13, \"2\": 40, \"6\": 17, \"4\": 11, \"1\": 6, \"9\": 1, \"5\": 3}, \"8\": {\"10\": 11, \"8\": 33, \"12\": 16, \"15\": 28, \"7\": 9, \"1\": 18, \"6\": 13, \"13\": 6, \"11\": 27, \"14\": 18, \"3\": 15, \"5\": 11, \"2\": 15, \"4\": 11, \"0\": 9}}, \"ORACLE.run1_38\": {\"4\": {\"4\": 80, \"12\": 51, \"8\": 13, \"0\": 17, \"10\": 12, \"5\": 5, \"6\": 5, \"7\": 30, \"15\": 5, \"2\": 7, \"3\": 2, \"11\": 4, \"1\": 3, \"14\": 4, \"13\": 2}, \"7\": {\"12\": 14, \"3\": 19, \"7\": 32, \"0\": 32, \"10\": 11, \"5\": 19, \"6\": 33, \"4\": 22, \"9\": 17, \"11\": 3, \"15\": 10, \"1\": 7, \"8\": 16, \"13\": 4, \"14\": 1}, \"12\": {\"4\": 57, \"12\": 64, \"0\": 7, \"15\": 9, \"5\": 9, \"8\": 10, \"11\": 15, \"10\": 29, \"14\": 16, \"13\": 3, \"7\": 12, \"1\": 3, \"3\": 1, \"6\": 1, \"2\": 4}, \"10\": {\"2\": 17, \"11\": 24, \"8\": 18, \"13\": 20, \"12\": 14, \"15\": 30, \"5\": 15, \"10\": 21, \"7\": 12, \"1\": 15, \"6\": 3, \"14\": 20, \"4\": 11, \"9\": 4, \"0\": 14, \"3\": 2}, \"0\": {\"10\": 16, \"0\": 24, \"9\": 28, \"8\": 24, \"11\": 3, \"3\": 22, \"5\": 33, \"6\": 22, \"15\": 9, \"12\": 11, \"7\": 26, \"13\": 4, \"1\": 3, \"4\": 9, \"14\": 5, \"2\": 1}, \"1\": {\"1\": 40, \"6\": 16, \"2\": 26, \"15\": 36, \"10\": 10, \"9\": 17, \"0\": 7, \"13\": 28, \"5\": 14, \"12\": 3, \"14\": 11, \"11\": 6, \"7\": 7, \"3\": 6, \"8\": 12, \"4\": 1}, \"5\": {\"3\": 11, \"10\": 14, \"9\": 24, \"8\": 23, \"6\": 33, \"4\": 8, \"13\": 13, \"1\": 20, \"0\": 26, \"7\": 18, \"5\": 18, \"15\": 13, \"2\": 4, \"14\": 2, \"12\": 10, \"11\": 3}, \"15\": {\"8\": 24, \"14\": 13, \"11\": 14, \"0\": 18, \"5\": 23, \"2\": 25, \"1\": 24, \"7\": 10, \"10\": 24, \"4\": 4, \"13\": 27, \"15\": 15, \"6\": 7, \"9\": 7, \"12\": 5}, \"9\": {\"0\": 17, \"3\": 53, \"7\": 10, \"13\": 7, \"6\": 34, \"15\": 11, \"1\": 10, \"5\": 19, \"9\": 57, \"8\": 16, \"10\": 5, \"11\": 1}, \"11\": {\"10\": 24, \"2\": 35, \"14\": 51, \"11\": 59, \"12\": 16, \"1\": 8, \"8\": 4, \"13\": 18, \"0\": 3, \"4\": 10, \"7\": 3, \"15\": 8, \"5\": 1}, \"14\": {\"12\": 16, \"2\": 37, \"11\": 67, \"14\": 50, \"10\": 25, \"15\": 13, \"4\": 10, \"8\": 1, \"13\": 11, \"6\": 2, \"1\": 6, \"7\": 1, \"5\": 1}, \"6\": {\"0\": 20, \"10\": 5, \"3\": 36, \"9\": 38, \"1\": 13, \"11\": 2, \"6\": 45, \"5\": 22, \"13\": 9, \"8\": 23, \"15\": 10, \"7\": 12, \"4\": 4, \"12\": 1}, \"8\": {\"4\": 13, \"10\": 14, \"0\": 28, \"12\": 16, \"6\": 13, \"7\": 26, \"1\": 11, \"8\": 33, \"13\": 11, \"5\": 14, \"9\": 17, \"2\": 11, \"15\": 18, \"14\": 9, \"3\": 3, \"11\": 3}, \"3\": {\"3\": 101, \"7\": 15, \"9\": 52, \"6\": 32, \"5\": 13, \"8\": 9, \"12\": 1, \"0\": 12, \"4\": 2, \"15\": 1, \"1\": 2}, \"2\": {\"13\": 42, \"1\": 13, \"15\": 13, \"2\": 56, \"11\": 48, \"14\": 36, \"8\": 3, \"10\": 14, \"12\": 2, \"7\": 1, \"4\": 4, \"5\": 4, \"0\": 3, \"6\": 1}, \"13\": {\"2\": 30, \"0\": 9, \"10\": 21, \"1\": 22, \"9\": 6, \"13\": 34, \"4\": 2, \"14\": 21, \"8\": 18, \"15\": 27, \"11\": 21, \"6\": 11, \"7\": 6, \"5\": 11, \"12\": 1}}}, \"per_domain_accuracy\": {\"CORES_4\": {\"accuracy\": 0.999064371257485, \"source?\": true}, \"CORES_5\": {\"accuracy\": 0.9994762569832403, \"source?\": true}, \"CORES_2\": {\"accuracy\": 0.9998214285714285, \"source?\": true}, \"CORES_1\": {\"accuracy\": 1.0, \"source?\": true}, \"CORES_3\": {\"accuracy\": 0.9996323529411765, \"source?\": true}, \"ORACLE.run1_14\": {\"accuracy\": 0.16041666666666668, \"source?\": false}, \"ORACLE.run1_20\": {\"accuracy\": 0.09192708333333334, \"source?\": false}, \"ORACLE.run1_50\": {\"accuracy\": 0.19036458333333334, \"source?\": false}, \"ORACLE.run1_26\": {\"accuracy\": 0.12395833333333334, \"source?\": false}, \"ORACLE.run1_32\": {\"accuracy\": 0.25729166666666664, \"source?\": false}, \"ORACLE.run1_44\": {\"accuracy\": 0.21692708333333333, \"source?\": false}, \"ORACLE.run1_8\": {\"accuracy\": 0.14583333333333334, \"source?\": false}, \"ORACLE.run1_38\": {\"accuracy\": 0.18984375, \"source?\": false}}}, \"history\": {\"epoch_indices\": [1, 2, 3, 4, 5, 6, 7, 8, 9, 10, 11], \"train_label_loss\": [0.02491357015407087, 0.007669503319320386, 0.004054192582338426, 0.004350410219132038, 0.003105884445241124, 0.0021752740576839354, 0.0023801519717465865, 0.002260863544522499, 0.0027780374333124017, 0.001934583133974915, 0.0020920927459579038], \"source_val_label_loss\": [0.012751626782119274, 0.009407732635736465, 0.009976303204894066, 0.011819490231573582, 0.008970960043370724, 0.009976373054087162, 0.010304952040314674, 0.013511615805327892, 0.01761232130229473, 0.010667718015611172, 0.02015681006014347], \"target_val_label_loss\": [2.665039300918579, 3.149150848388672, 3.4791152477264404, 3.2927627563476562, 3.8259077072143555, 3.9383840560913086, 4.466314315795898, 4.862493515014648, 4.733053684234619, 5.404856204986572, 6.256221771240234], \"source_val_acc_label\": [0.99675, 0.9988928571428571, 0.9987142857142857, 0.9986071428571428, 0.9993214285714286, 0.9995357142857143, 0.9996071428571428, 0.9996071428571428, 0.9991428571428571, 0.9996071428571428, 0.9993928571428572], \"target_val_acc_label\": [0.14567057291666666, 0.14742838541666667, 0.16038411458333332, 0.16087239583333332, 0.16852213541666666, 0.16871744791666668, 0.1720703125, 0.16907552083333333, 0.16975911458333334, 0.16634114583333334, 0.159765625]}, \"dataset_metrics\": {\"source\": {\"train\": {\"n_unique_x\": 175190, \"n_unique_y\": 58, \"n_batch/episode\": 6313}, \"val\": {\"n_unique_x\": 37216, \"n_unique_y\": 58, \"n_batch/episode\": 875}, \"test\": {\"n_unique_x\": 37596, \"n_unique_y\": 58, \"n_batch/episode\": 886}}, \"target\": {\"train\": {\"n_unique_x\": 179200, \"n_unique_y\": 16, \"n_batch/episode\": 6720}, \"val\": {\"n_unique_x\": 38400, \"n_unique_y\": 16, \"n_batch/episode\": 960}, \"test\": {\"n_unique_x\": 38400, \"n_unique_y\": 16, \"n_batch/episode\": 960}}}}'"
      ]
     },
     "execution_count": 29,
     "metadata": {},
     "output_type": "execute_result"
    }
   ],
   "source": [
    "json.dumps(experiment)"
   ]
  }
 ],
 "metadata": {
  "celltoolbar": "Tags",
  "kernelspec": {
   "display_name": "Python 3 (ipykernel)",
   "language": "python",
   "name": "python3"
  },
  "language_info": {
   "codemirror_mode": {
    "name": "ipython",
    "version": 3
   },
   "file_extension": ".py",
   "mimetype": "text/x-python",
   "name": "python",
   "nbconvert_exporter": "python",
   "pygments_lexer": "ipython3",
   "version": "3.8.12"
  },
  "papermill": {
   "default_parameters": {},
   "duration": 2271.521817,
   "end_time": "2022-03-22T08:12:32.436561",
   "environment_variables": {},
   "exception": null,
   "input_path": "/root/csc500-main/csc500-notebooks/templates/tl_ptn_template.ipynb",
   "output_path": "trial.ipynb",
   "parameters": {
    "parameters": {
     "BEST_MODEL_PATH": "./best_model.pth",
     "NUM_LOGS_PER_EPOCH": 10,
     "criteria_for_best": "target_accuracy",
     "dataset_seed": 420,
     "datasets": [
      {
       "domain_prefix": "CORES_",
       "domains": [
        1,
        2,
        3,
        4,
        5
       ],
       "episode_transforms": [],
       "labels": [
        "1-10.",
        "1-11.",
        "1-15.",
        "1-16.",
        "1-17.",
        "1-18.",
        "1-19.",
        "10-4.",
        "10-7.",
        "11-1.",
        "11-14.",
        "11-17.",
        "11-20.",
        "11-7.",
        "13-20.",
        "13-8.",
        "14-10.",
        "14-11.",
        "14-14.",
        "14-7.",
        "15-1.",
        "15-20.",
        "16-1.",
        "16-16.",
        "17-10.",
        "17-11.",
        "17-2.",
        "19-1.",
        "19-16.",
        "19-19.",
        "19-20.",
        "19-3.",
        "2-10.",
        "2-11.",
        "2-17.",
        "2-18.",
        "2-20.",
        "2-3.",
        "2-4.",
        "2-5.",
        "2-6.",
        "2-7.",
        "2-8.",
        "3-13.",
        "3-18.",
        "3-3.",
        "4-1.",
        "4-10.",
        "4-11.",
        "4-19.",
        "5-5.",
        "6-15.",
        "7-10.",
        "7-14.",
        "8-18.",
        "8-20.",
        "8-3.",
        "8-8."
       ],
       "num_examples_per_domain_per_label": -1,
       "pickle_path": "/root/csc500-main/datasets/cores.stratified_ds.2022A.pkl",
       "source_or_target_dataset": "source",
       "x_transforms": [
        "unit_mag"
       ]
      },
      {
       "domain_prefix": "ORACLE.run1_",
       "domains": [
        32,
        38,
        8,
        44,
        14,
        50,
        20,
        26
       ],
       "episode_transforms": [],
       "labels": [
        "3123D52",
        "3123D65",
        "3123D79",
        "3123D80",
        "3123D54",
        "3123D70",
        "3123D7B",
        "3123D89",
        "3123D58",
        "3123D76",
        "3123D7D",
        "3123EFE",
        "3123D64",
        "3123D78",
        "3123D7E",
        "3124E4A"
       ],
       "num_examples_per_domain_per_label": 2000,
       "pickle_path": "/root/csc500-main/datasets/oracle.Run1_10kExamples_stratified_ds.2022A.pkl",
       "source_or_target_dataset": "target",
       "x_transforms": [
        "unit_mag"
       ]
      }
     ],
     "device": "cuda",
     "experiment_name": "tl_1v2:cores-oracle.run1.limited",
     "lr": 0.0001,
     "n_epoch": 50,
     "n_query": 2,
     "n_shot": 3,
     "n_way": 16,
     "patience": 3,
     "seed": 420,
     "test_k_factor": 2,
     "torch_default_dtype": "torch.float32",
     "train_k_factor": 3,
     "val_k_factor": 2,
     "x_net": [
      {
       "class": "nnReshape",
       "kargs": {
        "shape": [
         -1,
         1,
         2,
         256
        ]
       }
      },
      {
       "class": "Conv2d",
       "kargs": {
        "bias": false,
        "in_channels": 1,
        "kernel_size": [
         1,
         7
        ],
        "out_channels": 256,
        "padding": [
         0,
         3
        ]
       }
      },
      {
       "class": "ReLU",
       "kargs": {
        "inplace": true
       }
      },
      {
       "class": "BatchNorm2d",
       "kargs": {
        "num_features": 256
       }
      },
      {
       "class": "Conv2d",
       "kargs": {
        "bias": true,
        "in_channels": 256,
        "kernel_size": [
         2,
         7
        ],
        "out_channels": 80,
        "padding": [
         0,
         3
        ]
       }
      },
      {
       "class": "ReLU",
       "kargs": {
        "inplace": true
       }
      },
      {
       "class": "BatchNorm2d",
       "kargs": {
        "num_features": 80
       }
      },
      {
       "class": "Flatten",
       "kargs": {}
      },
      {
       "class": "Linear",
       "kargs": {
        "in_features": 20480,
        "out_features": 256
       }
      },
      {
       "class": "ReLU",
       "kargs": {
        "inplace": true
       }
      },
      {
       "class": "BatchNorm1d",
       "kargs": {
        "num_features": 256
       }
      },
      {
       "class": "Linear",
       "kargs": {
        "in_features": 256,
        "out_features": 256
       }
      }
     ]
    }
   },
   "start_time": "2022-03-22T07:34:40.914744",
   "version": "2.3.4"
  }
 },
 "nbformat": 4,
 "nbformat_minor": 5
}