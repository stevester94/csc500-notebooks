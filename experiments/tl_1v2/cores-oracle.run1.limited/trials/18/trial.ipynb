{
 "cells": [
  {
   "cell_type": "markdown",
   "id": "9fea5f46",
   "metadata": {
    "papermill": {
     "duration": 0.032403,
     "end_time": "2022-03-22T13:49:55.444918",
     "exception": false,
     "start_time": "2022-03-22T13:49:55.412515",
     "status": "completed"
    },
    "tags": []
   },
   "source": [
    "# Transfer Learning Template"
   ]
  },
  {
   "cell_type": "code",
   "execution_count": 1,
   "id": "0902182a",
   "metadata": {
    "execution": {
     "iopub.execute_input": "2022-03-22T13:49:55.511433Z",
     "iopub.status.busy": "2022-03-22T13:49:55.510573Z",
     "iopub.status.idle": "2022-03-22T13:49:57.317944Z",
     "shell.execute_reply": "2022-03-22T13:49:57.317489Z"
    },
    "papermill": {
     "duration": 1.849471,
     "end_time": "2022-03-22T13:49:57.318057",
     "exception": false,
     "start_time": "2022-03-22T13:49:55.468586",
     "status": "completed"
    },
    "tags": []
   },
   "outputs": [],
   "source": [
    "%load_ext autoreload\n",
    "%autoreload 2\n",
    "%matplotlib inline\n",
    "\n",
    "    \n",
    "import os, json, sys, time, random\n",
    "import numpy as np\n",
    "import torch\n",
    "from torch.optim import Adam\n",
    "from  easydict import EasyDict\n",
    "import matplotlib.pyplot as plt\n",
    "\n",
    "from steves_models.steves_ptn import Steves_Prototypical_Network\n",
    "\n",
    "from steves_utils.lazy_iterable_wrapper import Lazy_Iterable_Wrapper\n",
    "from steves_utils.iterable_aggregator import Iterable_Aggregator\n",
    "from steves_utils.ptn_train_eval_test_jig import  PTN_Train_Eval_Test_Jig\n",
    "from steves_utils.torch_sequential_builder import build_sequential\n",
    "from steves_utils.torch_utils import get_dataset_metrics, ptn_confusion_by_domain_over_dataloader\n",
    "from steves_utils.utils_v2 import (per_domain_accuracy_from_confusion, get_datasets_base_path)\n",
    "from steves_utils.PTN.utils import independent_accuracy_assesment\n",
    "\n",
    "from torch.utils.data import DataLoader\n",
    "\n",
    "from steves_utils.stratified_dataset.episodic_accessor import Episodic_Accessor_Factory\n",
    "\n",
    "from steves_utils.ptn_do_report import (\n",
    "    get_loss_curve,\n",
    "    get_results_table,\n",
    "    get_parameters_table,\n",
    "    get_domain_accuracies,\n",
    ")\n",
    "\n",
    "from steves_utils.transforms import get_chained_transform"
   ]
  },
  {
   "cell_type": "markdown",
   "id": "41c840b4",
   "metadata": {
    "papermill": {
     "duration": 0.018897,
     "end_time": "2022-03-22T13:49:57.357174",
     "exception": false,
     "start_time": "2022-03-22T13:49:57.338277",
     "status": "completed"
    },
    "tags": []
   },
   "source": [
    "# Allowed Parameters\n",
    "These are allowed parameters, not defaults\n",
    "Each of these values need to be present in the injected parameters (the notebook will raise an exception if they are not present)\n",
    "\n",
    "Papermill uses the cell tag \"parameters\" to inject the real parameters below this cell.\n",
    "Enable tags to see what I mean"
   ]
  },
  {
   "cell_type": "code",
   "execution_count": 2,
   "id": "fd44eb83",
   "metadata": {
    "execution": {
     "iopub.execute_input": "2022-03-22T13:49:57.401621Z",
     "iopub.status.busy": "2022-03-22T13:49:57.401047Z",
     "iopub.status.idle": "2022-03-22T13:49:57.426287Z",
     "shell.execute_reply": "2022-03-22T13:49:57.425489Z"
    },
    "papermill": {
     "duration": 0.049939,
     "end_time": "2022-03-22T13:49:57.426447",
     "exception": false,
     "start_time": "2022-03-22T13:49:57.376508",
     "status": "completed"
    },
    "tags": []
   },
   "outputs": [],
   "source": [
    "required_parameters = {\n",
    "    \"experiment_name\",\n",
    "    \"lr\",\n",
    "    \"device\",\n",
    "    \"seed\",\n",
    "    \"dataset_seed\",\n",
    "    \"n_shot\",\n",
    "    \"n_query\",\n",
    "    \"n_way\",\n",
    "    \"train_k_factor\",\n",
    "    \"val_k_factor\",\n",
    "    \"test_k_factor\",\n",
    "    \"n_epoch\",\n",
    "    \"patience\",\n",
    "    \"criteria_for_best\",\n",
    "    \"x_net\",\n",
    "    \"datasets\",\n",
    "    \"torch_default_dtype\",\n",
    "    \"NUM_LOGS_PER_EPOCH\",\n",
    "    \"BEST_MODEL_PATH\",\n",
    "    \"x_shape\",\n",
    "}"
   ]
  },
  {
   "cell_type": "code",
   "execution_count": 3,
   "id": "fa3f0049",
   "metadata": {
    "execution": {
     "iopub.execute_input": "2022-03-22T13:49:57.485740Z",
     "iopub.status.busy": "2022-03-22T13:49:57.484845Z",
     "iopub.status.idle": "2022-03-22T13:49:57.507762Z",
     "shell.execute_reply": "2022-03-22T13:49:57.506907Z"
    },
    "papermill": {
     "duration": 0.056493,
     "end_time": "2022-03-22T13:49:57.507929",
     "exception": false,
     "start_time": "2022-03-22T13:49:57.451436",
     "status": "completed"
    },
    "tags": [
     "parameters"
    ]
   },
   "outputs": [],
   "source": [
    "from steves_utils.CORES.utils import (\n",
    "    ALL_NODES,\n",
    "    ALL_NODES_MINIMUM_1000_EXAMPLES,\n",
    "    ALL_DAYS\n",
    ")\n",
    "\n",
    "from steves_utils.ORACLE.utils_v2 import (\n",
    "    ALL_DISTANCES_FEET_NARROWED,\n",
    "    ALL_RUNS,\n",
    "    ALL_SERIAL_NUMBERS,\n",
    ")\n",
    "\n",
    "standalone_parameters = {}\n",
    "standalone_parameters[\"experiment_name\"] = \"STANDALONE PTN\"\n",
    "standalone_parameters[\"lr\"] = 0.001\n",
    "standalone_parameters[\"device\"] = \"cuda\"\n",
    "\n",
    "standalone_parameters[\"seed\"] = 1337\n",
    "standalone_parameters[\"dataset_seed\"] = 1337\n",
    "\n",
    "standalone_parameters[\"n_way\"] = 8\n",
    "standalone_parameters[\"n_shot\"] = 3\n",
    "standalone_parameters[\"n_query\"]  = 2\n",
    "standalone_parameters[\"train_k_factor\"] = 1\n",
    "standalone_parameters[\"val_k_factor\"] = 2\n",
    "standalone_parameters[\"test_k_factor\"] = 2\n",
    "\n",
    "\n",
    "standalone_parameters[\"n_epoch\"] = 50\n",
    "\n",
    "standalone_parameters[\"patience\"] = 10\n",
    "standalone_parameters[\"criteria_for_best\"] = \"source_loss\"\n",
    "\n",
    "standalone_parameters[\"datasets\"] = [\n",
    "    {\n",
    "        \"labels\": ALL_SERIAL_NUMBERS,\n",
    "        \"domains\": ALL_DISTANCES_FEET_NARROWED,\n",
    "        \"num_examples_per_domain_per_label\": 100,\n",
    "        \"pickle_path\": os.path.join(get_datasets_base_path(), \"oracle.Run1_framed_2000Examples_stratified_ds.2022A.pkl\"),\n",
    "        \"source_or_target_dataset\": \"source\",\n",
    "        \"x_transforms\": [\"unit_mag\", \"minus_two\"],\n",
    "        \"episode_transforms\": [],\n",
    "        \"domain_prefix\": \"ORACLE_\"\n",
    "    },\n",
    "    {\n",
    "        \"labels\": ALL_NODES,\n",
    "        \"domains\": ALL_DAYS,\n",
    "        \"num_examples_per_domain_per_label\": 100,\n",
    "        \"pickle_path\": os.path.join(get_datasets_base_path(), \"cores.stratified_ds.2022A.pkl\"),\n",
    "        \"source_or_target_dataset\": \"target\",\n",
    "        \"x_transforms\": [\"unit_power\", \"times_zero\"],\n",
    "        \"episode_transforms\": [],\n",
    "        \"domain_prefix\": \"CORES_\"\n",
    "    }   \n",
    "]\n",
    "\n",
    "standalone_parameters[\"torch_default_dtype\"] = \"torch.float32\" \n",
    "\n",
    "\n",
    "\n",
    "standalone_parameters[\"x_net\"] =     [\n",
    "    {\"class\": \"nnReshape\", \"kargs\": {\"shape\":[-1, 1, 2, 256]}},\n",
    "    {\"class\": \"Conv2d\", \"kargs\": { \"in_channels\":1, \"out_channels\":256, \"kernel_size\":(1,7), \"bias\":False, \"padding\":(0,3), },},\n",
    "    {\"class\": \"ReLU\", \"kargs\": {\"inplace\": True}},\n",
    "    {\"class\": \"BatchNorm2d\", \"kargs\": {\"num_features\":256}},\n",
    "\n",
    "    {\"class\": \"Conv2d\", \"kargs\": { \"in_channels\":256, \"out_channels\":80, \"kernel_size\":(2,7), \"bias\":True, \"padding\":(0,3), },},\n",
    "    {\"class\": \"ReLU\", \"kargs\": {\"inplace\": True}},\n",
    "    {\"class\": \"BatchNorm2d\", \"kargs\": {\"num_features\":80}},\n",
    "    {\"class\": \"Flatten\", \"kargs\": {}},\n",
    "\n",
    "    {\"class\": \"Linear\", \"kargs\": {\"in_features\": 80*256, \"out_features\": 256}}, # 80 units per IQ pair\n",
    "    {\"class\": \"ReLU\", \"kargs\": {\"inplace\": True}},\n",
    "    {\"class\": \"BatchNorm1d\", \"kargs\": {\"num_features\":256}},\n",
    "\n",
    "    {\"class\": \"Linear\", \"kargs\": {\"in_features\": 256, \"out_features\": 256}},\n",
    "]\n",
    "\n",
    "# Parameters relevant to results\n",
    "# These parameters will basically never need to change\n",
    "standalone_parameters[\"NUM_LOGS_PER_EPOCH\"] = 10\n",
    "standalone_parameters[\"BEST_MODEL_PATH\"] = \"./best_model.pth\"\n",
    "\n",
    "\n",
    "\n",
    "\n"
   ]
  },
  {
   "cell_type": "code",
   "execution_count": 4,
   "id": "ab02c9ec",
   "metadata": {
    "execution": {
     "iopub.execute_input": "2022-03-22T13:49:57.570144Z",
     "iopub.status.busy": "2022-03-22T13:49:57.569224Z",
     "iopub.status.idle": "2022-03-22T13:49:57.591594Z",
     "shell.execute_reply": "2022-03-22T13:49:57.590885Z"
    },
    "papermill": {
     "duration": 0.056908,
     "end_time": "2022-03-22T13:49:57.591760",
     "exception": false,
     "start_time": "2022-03-22T13:49:57.534852",
     "status": "completed"
    },
    "tags": [
     "injected-parameters"
    ]
   },
   "outputs": [],
   "source": [
    "# Parameters\n",
    "parameters = {\n",
    "    \"experiment_name\": \"tl_1v2:cores-oracle.run1.limited\",\n",
    "    \"device\": \"cuda\",\n",
    "    \"lr\": 0.0001,\n",
    "    \"n_shot\": 3,\n",
    "    \"n_query\": 2,\n",
    "    \"train_k_factor\": 3,\n",
    "    \"val_k_factor\": 2,\n",
    "    \"test_k_factor\": 2,\n",
    "    \"torch_default_dtype\": \"torch.float32\",\n",
    "    \"n_epoch\": 50,\n",
    "    \"patience\": 3,\n",
    "    \"criteria_for_best\": \"target_accuracy\",\n",
    "    \"x_net\": [\n",
    "        {\"class\": \"nnReshape\", \"kargs\": {\"shape\": [-1, 1, 2, 256]}},\n",
    "        {\n",
    "            \"class\": \"Conv2d\",\n",
    "            \"kargs\": {\n",
    "                \"in_channels\": 1,\n",
    "                \"out_channels\": 256,\n",
    "                \"kernel_size\": [1, 7],\n",
    "                \"bias\": False,\n",
    "                \"padding\": [0, 3],\n",
    "            },\n",
    "        },\n",
    "        {\"class\": \"ReLU\", \"kargs\": {\"inplace\": True}},\n",
    "        {\"class\": \"BatchNorm2d\", \"kargs\": {\"num_features\": 256}},\n",
    "        {\n",
    "            \"class\": \"Conv2d\",\n",
    "            \"kargs\": {\n",
    "                \"in_channels\": 256,\n",
    "                \"out_channels\": 80,\n",
    "                \"kernel_size\": [2, 7],\n",
    "                \"bias\": True,\n",
    "                \"padding\": [0, 3],\n",
    "            },\n",
    "        },\n",
    "        {\"class\": \"ReLU\", \"kargs\": {\"inplace\": True}},\n",
    "        {\"class\": \"BatchNorm2d\", \"kargs\": {\"num_features\": 80}},\n",
    "        {\"class\": \"Flatten\", \"kargs\": {}},\n",
    "        {\"class\": \"Linear\", \"kargs\": {\"in_features\": 20480, \"out_features\": 256}},\n",
    "        {\"class\": \"ReLU\", \"kargs\": {\"inplace\": True}},\n",
    "        {\"class\": \"BatchNorm1d\", \"kargs\": {\"num_features\": 256}},\n",
    "        {\"class\": \"Linear\", \"kargs\": {\"in_features\": 256, \"out_features\": 256}},\n",
    "    ],\n",
    "    \"NUM_LOGS_PER_EPOCH\": 10,\n",
    "    \"BEST_MODEL_PATH\": \"./best_model.pth\",\n",
    "    \"n_way\": 16,\n",
    "    \"datasets\": [\n",
    "        {\n",
    "            \"labels\": [\n",
    "                \"1-10.\",\n",
    "                \"1-11.\",\n",
    "                \"1-15.\",\n",
    "                \"1-16.\",\n",
    "                \"1-17.\",\n",
    "                \"1-18.\",\n",
    "                \"1-19.\",\n",
    "                \"10-4.\",\n",
    "                \"10-7.\",\n",
    "                \"11-1.\",\n",
    "                \"11-14.\",\n",
    "                \"11-17.\",\n",
    "                \"11-20.\",\n",
    "                \"11-7.\",\n",
    "                \"13-20.\",\n",
    "                \"13-8.\",\n",
    "                \"14-10.\",\n",
    "                \"14-11.\",\n",
    "                \"14-14.\",\n",
    "                \"14-7.\",\n",
    "                \"15-1.\",\n",
    "                \"15-20.\",\n",
    "                \"16-1.\",\n",
    "                \"16-16.\",\n",
    "                \"17-10.\",\n",
    "                \"17-11.\",\n",
    "                \"17-2.\",\n",
    "                \"19-1.\",\n",
    "                \"19-16.\",\n",
    "                \"19-19.\",\n",
    "                \"19-20.\",\n",
    "                \"19-3.\",\n",
    "                \"2-10.\",\n",
    "                \"2-11.\",\n",
    "                \"2-17.\",\n",
    "                \"2-18.\",\n",
    "                \"2-20.\",\n",
    "                \"2-3.\",\n",
    "                \"2-4.\",\n",
    "                \"2-5.\",\n",
    "                \"2-6.\",\n",
    "                \"2-7.\",\n",
    "                \"2-8.\",\n",
    "                \"3-13.\",\n",
    "                \"3-18.\",\n",
    "                \"3-3.\",\n",
    "                \"4-1.\",\n",
    "                \"4-10.\",\n",
    "                \"4-11.\",\n",
    "                \"4-19.\",\n",
    "                \"5-5.\",\n",
    "                \"6-15.\",\n",
    "                \"7-10.\",\n",
    "                \"7-14.\",\n",
    "                \"8-18.\",\n",
    "                \"8-20.\",\n",
    "                \"8-3.\",\n",
    "                \"8-8.\",\n",
    "            ],\n",
    "            \"domains\": [1, 2, 3, 4, 5],\n",
    "            \"num_examples_per_domain_per_label\": -1,\n",
    "            \"pickle_path\": \"/root/csc500-main/datasets/cores.stratified_ds.2022A.pkl\",\n",
    "            \"source_or_target_dataset\": \"source\",\n",
    "            \"x_transforms\": [\"unit_power\"],\n",
    "            \"episode_transforms\": [],\n",
    "            \"domain_prefix\": \"CORES_\",\n",
    "        },\n",
    "        {\n",
    "            \"labels\": [\n",
    "                \"3123D52\",\n",
    "                \"3123D65\",\n",
    "                \"3123D79\",\n",
    "                \"3123D80\",\n",
    "                \"3123D54\",\n",
    "                \"3123D70\",\n",
    "                \"3123D7B\",\n",
    "                \"3123D89\",\n",
    "                \"3123D58\",\n",
    "                \"3123D76\",\n",
    "                \"3123D7D\",\n",
    "                \"3123EFE\",\n",
    "                \"3123D64\",\n",
    "                \"3123D78\",\n",
    "                \"3123D7E\",\n",
    "                \"3124E4A\",\n",
    "            ],\n",
    "            \"domains\": [32, 38, 8, 44, 14, 50, 20, 26],\n",
    "            \"num_examples_per_domain_per_label\": 2000,\n",
    "            \"pickle_path\": \"/root/csc500-main/datasets/oracle.Run1_10kExamples_stratified_ds.2022A.pkl\",\n",
    "            \"source_or_target_dataset\": \"target\",\n",
    "            \"x_transforms\": [\"unit_power\"],\n",
    "            \"episode_transforms\": [],\n",
    "            \"domain_prefix\": \"ORACLE.run1_\",\n",
    "        },\n",
    "    ],\n",
    "    \"dataset_seed\": 7,\n",
    "    \"seed\": 7,\n",
    "}\n"
   ]
  },
  {
   "cell_type": "code",
   "execution_count": 5,
   "id": "8fa1cc33",
   "metadata": {
    "execution": {
     "iopub.execute_input": "2022-03-22T13:49:57.644407Z",
     "iopub.status.busy": "2022-03-22T13:49:57.643841Z",
     "iopub.status.idle": "2022-03-22T13:49:57.669494Z",
     "shell.execute_reply": "2022-03-22T13:49:57.668791Z"
    },
    "papermill": {
     "duration": 0.052811,
     "end_time": "2022-03-22T13:49:57.669650",
     "exception": false,
     "start_time": "2022-03-22T13:49:57.616839",
     "status": "completed"
    },
    "tags": []
   },
   "outputs": [],
   "source": [
    "# Set this to True if you want to run this template directly\n",
    "STANDALONE = False\n",
    "if STANDALONE:\n",
    "    print(\"parameters not injected, running with standalone_parameters\")\n",
    "    parameters = standalone_parameters\n",
    "\n",
    "if not 'parameters' in locals() and not 'parameters' in globals():\n",
    "    raise Exception(\"Parameter injection failed\")\n",
    "\n",
    "#Use an easy dict for all the parameters\n",
    "p = EasyDict(parameters)\n",
    "\n",
    "if \"x_shape\" not in p:\n",
    "    p.x_shape = [2,256] # Default to this if we dont supply x_shape\n",
    "\n",
    "\n",
    "supplied_keys = set(p.keys())\n",
    "\n",
    "if  supplied_keys != required_parameters:\n",
    "    print(\"Parameters are incorrect\")\n",
    "    if len(supplied_keys - required_parameters)>0: print(\"Shouldn't have:\", str(supplied_keys - required_parameters))\n",
    "    if len(required_parameters - supplied_keys)>0: print(\"Need to have:\", str(required_parameters - supplied_keys))\n",
    "    raise RuntimeError(\"Parameters are incorrect\")"
   ]
  },
  {
   "cell_type": "code",
   "execution_count": 6,
   "id": "3a028d58",
   "metadata": {
    "execution": {
     "iopub.execute_input": "2022-03-22T13:49:57.722926Z",
     "iopub.status.busy": "2022-03-22T13:49:57.722558Z",
     "iopub.status.idle": "2022-03-22T13:49:57.746039Z",
     "shell.execute_reply": "2022-03-22T13:49:57.745242Z"
    },
    "papermill": {
     "duration": 0.048274,
     "end_time": "2022-03-22T13:49:57.746195",
     "exception": false,
     "start_time": "2022-03-22T13:49:57.697921",
     "status": "completed"
    },
    "tags": []
   },
   "outputs": [],
   "source": [
    "###################################\n",
    "# Set the RNGs and make it all deterministic\n",
    "###################################\n",
    "np.random.seed(p.seed)\n",
    "random.seed(p.seed)\n",
    "torch.manual_seed(p.seed)\n",
    "\n",
    "torch.use_deterministic_algorithms(True) "
   ]
  },
  {
   "cell_type": "code",
   "execution_count": 7,
   "id": "b691acf6",
   "metadata": {
    "execution": {
     "iopub.execute_input": "2022-03-22T13:49:57.801239Z",
     "iopub.status.busy": "2022-03-22T13:49:57.800683Z",
     "iopub.status.idle": "2022-03-22T13:49:57.824593Z",
     "shell.execute_reply": "2022-03-22T13:49:57.823772Z"
    },
    "papermill": {
     "duration": 0.04701,
     "end_time": "2022-03-22T13:49:57.824752",
     "exception": false,
     "start_time": "2022-03-22T13:49:57.777742",
     "status": "completed"
    },
    "tags": []
   },
   "outputs": [],
   "source": [
    "###########################################\n",
    "# The stratified datasets honor this\n",
    "###########################################\n",
    "torch.set_default_dtype(eval(p.torch_default_dtype))"
   ]
  },
  {
   "cell_type": "code",
   "execution_count": 8,
   "id": "b5fba671",
   "metadata": {
    "execution": {
     "iopub.execute_input": "2022-03-22T13:49:57.875045Z",
     "iopub.status.busy": "2022-03-22T13:49:57.874500Z",
     "iopub.status.idle": "2022-03-22T13:49:57.930795Z",
     "shell.execute_reply": "2022-03-22T13:49:57.930044Z"
    },
    "papermill": {
     "duration": 0.079328,
     "end_time": "2022-03-22T13:49:57.930977",
     "exception": false,
     "start_time": "2022-03-22T13:49:57.851649",
     "status": "completed"
    },
    "tags": []
   },
   "outputs": [],
   "source": [
    "###################################\n",
    "# Build the network(s)\n",
    "# Note: It's critical to do this AFTER setting the RNG\n",
    "###################################\n",
    "x_net = build_sequential(p.x_net)"
   ]
  },
  {
   "cell_type": "code",
   "execution_count": 9,
   "id": "5d7e61cc",
   "metadata": {
    "execution": {
     "iopub.execute_input": "2022-03-22T13:49:57.983290Z",
     "iopub.status.busy": "2022-03-22T13:49:57.982924Z",
     "iopub.status.idle": "2022-03-22T13:49:58.008741Z",
     "shell.execute_reply": "2022-03-22T13:49:58.007913Z"
    },
    "papermill": {
     "duration": 0.04973,
     "end_time": "2022-03-22T13:49:58.008901",
     "exception": false,
     "start_time": "2022-03-22T13:49:57.959171",
     "status": "completed"
    },
    "tags": []
   },
   "outputs": [],
   "source": [
    "start_time_secs = time.time()"
   ]
  },
  {
   "cell_type": "code",
   "execution_count": 10,
   "id": "c6b67dfd",
   "metadata": {
    "execution": {
     "iopub.execute_input": "2022-03-22T13:49:58.062437Z",
     "iopub.status.busy": "2022-03-22T13:49:58.061842Z",
     "iopub.status.idle": "2022-03-22T13:49:58.084819Z",
     "shell.execute_reply": "2022-03-22T13:49:58.084010Z"
    },
    "papermill": {
     "duration": 0.047486,
     "end_time": "2022-03-22T13:49:58.084976",
     "exception": false,
     "start_time": "2022-03-22T13:49:58.037490",
     "status": "completed"
    },
    "tags": []
   },
   "outputs": [],
   "source": [
    "p.domains_source = []\n",
    "p.domains_target = []\n",
    "\n",
    "\n",
    "train_original_source = []\n",
    "val_original_source   = []\n",
    "test_original_source  = []\n",
    "\n",
    "train_original_target = []\n",
    "val_original_target   = []\n",
    "test_original_target  = []"
   ]
  },
  {
   "cell_type": "code",
   "execution_count": 11,
   "id": "e3d9c3d3",
   "metadata": {
    "execution": {
     "iopub.execute_input": "2022-03-22T13:49:58.138124Z",
     "iopub.status.busy": "2022-03-22T13:49:58.137760Z",
     "iopub.status.idle": "2022-03-22T13:49:58.160457Z",
     "shell.execute_reply": "2022-03-22T13:49:58.159658Z"
    },
    "papermill": {
     "duration": 0.045953,
     "end_time": "2022-03-22T13:49:58.160612",
     "exception": false,
     "start_time": "2022-03-22T13:49:58.114659",
     "status": "completed"
    },
    "tags": []
   },
   "outputs": [],
   "source": [
    "# global_x_transform_func = lambda x: normalize(x.to(torch.get_default_dtype()), \"unit_power\") # unit_power, unit_mag\n",
    "# global_x_transform_func = lambda x: normalize(x, \"unit_power\") # unit_power, unit_mag"
   ]
  },
  {
   "cell_type": "code",
   "execution_count": 12,
   "id": "acb78fd2",
   "metadata": {
    "execution": {
     "iopub.execute_input": "2022-03-22T13:49:58.220996Z",
     "iopub.status.busy": "2022-03-22T13:49:58.220116Z",
     "iopub.status.idle": "2022-03-22T13:49:58.245648Z",
     "shell.execute_reply": "2022-03-22T13:49:58.244810Z"
    },
    "papermill": {
     "duration": 0.058337,
     "end_time": "2022-03-22T13:49:58.245821",
     "exception": false,
     "start_time": "2022-03-22T13:49:58.187484",
     "status": "completed"
    },
    "tags": []
   },
   "outputs": [],
   "source": [
    "def add_dataset(\n",
    "    labels,\n",
    "    domains,\n",
    "    pickle_path,\n",
    "    x_transforms,\n",
    "    episode_transforms,\n",
    "    domain_prefix,\n",
    "    num_examples_per_domain_per_label,\n",
    "    source_or_target_dataset:str,\n",
    "    iterator_seed=p.seed,\n",
    "    dataset_seed=p.dataset_seed,\n",
    "    n_shot=p.n_shot,\n",
    "    n_way=p.n_way,\n",
    "    n_query=p.n_query,\n",
    "    train_val_test_k_factors=(p.train_k_factor,p.val_k_factor,p.test_k_factor),\n",
    "):\n",
    "   \n",
    "    if x_transforms == []: x_transform = None\n",
    "    else: x_transform = get_chained_transform(x_transforms)\n",
    "    \n",
    "    if episode_transforms == []: episode_transform = None\n",
    "    else: raise Exception(\"episode_transforms not implemented\")\n",
    "    \n",
    "    episode_transform = lambda tup, _prefix=domain_prefix: (_prefix + str(tup[0]), tup[1])\n",
    "\n",
    "\n",
    "    eaf = Episodic_Accessor_Factory(\n",
    "        labels=labels,\n",
    "        domains=domains,\n",
    "        num_examples_per_domain_per_label=num_examples_per_domain_per_label,\n",
    "        iterator_seed=iterator_seed,\n",
    "        dataset_seed=dataset_seed,\n",
    "        n_shot=n_shot,\n",
    "        n_way=n_way,\n",
    "        n_query=n_query,\n",
    "        train_val_test_k_factors=train_val_test_k_factors,\n",
    "        pickle_path=pickle_path,\n",
    "        x_transform_func=x_transform,\n",
    "    )\n",
    "\n",
    "    train, val, test = eaf.get_train(), eaf.get_val(), eaf.get_test()\n",
    "    train = Lazy_Iterable_Wrapper(train, episode_transform)\n",
    "    val = Lazy_Iterable_Wrapper(val, episode_transform)\n",
    "    test = Lazy_Iterable_Wrapper(test, episode_transform)\n",
    "\n",
    "    if source_or_target_dataset==\"source\":\n",
    "        train_original_source.append(train)\n",
    "        val_original_source.append(val)\n",
    "        test_original_source.append(test)\n",
    "\n",
    "        p.domains_source.extend(\n",
    "            [domain_prefix + str(u) for u in domains]\n",
    "        )\n",
    "    elif source_or_target_dataset==\"target\":\n",
    "        train_original_target.append(train)\n",
    "        val_original_target.append(val)\n",
    "        test_original_target.append(test)\n",
    "        p.domains_target.extend(\n",
    "            [domain_prefix + str(u) for u in domains]\n",
    "        )\n",
    "    else:\n",
    "        raise Exception(f\"invalid source_or_target_dataset: {source_or_target_dataset}\")\n",
    "    "
   ]
  },
  {
   "cell_type": "code",
   "execution_count": 13,
   "id": "fe266617",
   "metadata": {
    "execution": {
     "iopub.execute_input": "2022-03-22T13:49:58.296974Z",
     "iopub.status.busy": "2022-03-22T13:49:58.296462Z",
     "iopub.status.idle": "2022-03-22T13:50:43.685056Z",
     "shell.execute_reply": "2022-03-22T13:50:43.684325Z"
    },
    "papermill": {
     "duration": 45.412627,
     "end_time": "2022-03-22T13:50:43.685249",
     "exception": false,
     "start_time": "2022-03-22T13:49:58.272622",
     "status": "completed"
    },
    "tags": []
   },
   "outputs": [],
   "source": [
    "for ds in p.datasets:\n",
    "    add_dataset(**ds)"
   ]
  },
  {
   "cell_type": "code",
   "execution_count": 14,
   "id": "b90d65ac",
   "metadata": {
    "execution": {
     "iopub.execute_input": "2022-03-22T13:50:43.734691Z",
     "iopub.status.busy": "2022-03-22T13:50:43.734317Z",
     "iopub.status.idle": "2022-03-22T13:50:43.757755Z",
     "shell.execute_reply": "2022-03-22T13:50:43.756934Z"
    },
    "papermill": {
     "duration": 0.047575,
     "end_time": "2022-03-22T13:50:43.757932",
     "exception": false,
     "start_time": "2022-03-22T13:50:43.710357",
     "status": "completed"
    },
    "tags": []
   },
   "outputs": [],
   "source": [
    "# from steves_utils.CORES.utils import (\n",
    "#     ALL_NODES,\n",
    "#     ALL_NODES_MINIMUM_1000_EXAMPLES,\n",
    "#     ALL_DAYS\n",
    "# )\n",
    "\n",
    "# add_dataset(\n",
    "#     labels=ALL_NODES,\n",
    "#     domains = ALL_DAYS,\n",
    "#     num_examples_per_domain_per_label=100,\n",
    "#     pickle_path=os.path.join(get_datasets_base_path(), \"cores.stratified_ds.2022A.pkl\"),\n",
    "#     source_or_target_dataset=\"target\",\n",
    "#     x_transform_func=global_x_transform_func,\n",
    "#     domain_modifier=lambda u: f\"cores_{u}\"\n",
    "# )"
   ]
  },
  {
   "cell_type": "code",
   "execution_count": 15,
   "id": "76db484d",
   "metadata": {
    "execution": {
     "iopub.execute_input": "2022-03-22T13:50:43.809606Z",
     "iopub.status.busy": "2022-03-22T13:50:43.809237Z",
     "iopub.status.idle": "2022-03-22T13:50:43.830434Z",
     "shell.execute_reply": "2022-03-22T13:50:43.829698Z"
    },
    "papermill": {
     "duration": 0.046523,
     "end_time": "2022-03-22T13:50:43.830590",
     "exception": false,
     "start_time": "2022-03-22T13:50:43.784067",
     "status": "completed"
    },
    "tags": []
   },
   "outputs": [],
   "source": [
    "# from steves_utils.ORACLE.utils_v2 import (\n",
    "#     ALL_DISTANCES_FEET,\n",
    "#     ALL_RUNS,\n",
    "#     ALL_SERIAL_NUMBERS,\n",
    "# )\n",
    "\n",
    "\n",
    "# add_dataset(\n",
    "#     labels=ALL_SERIAL_NUMBERS,\n",
    "#     domains = list(set(ALL_DISTANCES_FEET) - {2,62}),\n",
    "#     num_examples_per_domain_per_label=100,\n",
    "#     pickle_path=os.path.join(get_datasets_base_path(), \"oracle.Run2_framed_2000Examples_stratified_ds.2022A.pkl\"),\n",
    "#     source_or_target_dataset=\"source\",\n",
    "#     x_transform_func=global_x_transform_func,\n",
    "#     domain_modifier=lambda u: f\"oracle1_{u}\"\n",
    "# )\n"
   ]
  },
  {
   "cell_type": "code",
   "execution_count": 16,
   "id": "97dea9d2",
   "metadata": {
    "execution": {
     "iopub.execute_input": "2022-03-22T13:50:43.890355Z",
     "iopub.status.busy": "2022-03-22T13:50:43.888717Z",
     "iopub.status.idle": "2022-03-22T13:50:43.905063Z",
     "shell.execute_reply": "2022-03-22T13:50:43.904356Z"
    },
    "papermill": {
     "duration": 0.045803,
     "end_time": "2022-03-22T13:50:43.905217",
     "exception": false,
     "start_time": "2022-03-22T13:50:43.859414",
     "status": "completed"
    },
    "tags": []
   },
   "outputs": [],
   "source": [
    "# from steves_utils.ORACLE.utils_v2 import (\n",
    "#     ALL_DISTANCES_FEET,\n",
    "#     ALL_RUNS,\n",
    "#     ALL_SERIAL_NUMBERS,\n",
    "# )\n",
    "\n",
    "\n",
    "# add_dataset(\n",
    "#     labels=ALL_SERIAL_NUMBERS,\n",
    "#     domains = list(set(ALL_DISTANCES_FEET) - {2,62,56}),\n",
    "#     num_examples_per_domain_per_label=100,\n",
    "#     pickle_path=os.path.join(get_datasets_base_path(), \"oracle.Run2_framed_2000Examples_stratified_ds.2022A.pkl\"),\n",
    "#     source_or_target_dataset=\"source\",\n",
    "#     x_transform_func=global_x_transform_func,\n",
    "#     domain_modifier=lambda u: f\"oracle2_{u}\"\n",
    "# )"
   ]
  },
  {
   "cell_type": "code",
   "execution_count": 17,
   "id": "6f289866",
   "metadata": {
    "execution": {
     "iopub.execute_input": "2022-03-22T13:50:43.958835Z",
     "iopub.status.busy": "2022-03-22T13:50:43.958452Z",
     "iopub.status.idle": "2022-03-22T13:50:43.975867Z",
     "shell.execute_reply": "2022-03-22T13:50:43.975130Z"
    },
    "papermill": {
     "duration": 0.041084,
     "end_time": "2022-03-22T13:50:43.976022",
     "exception": false,
     "start_time": "2022-03-22T13:50:43.934938",
     "status": "completed"
    },
    "tags": []
   },
   "outputs": [],
   "source": [
    "# add_dataset(\n",
    "#     labels=list(range(19)),\n",
    "#     domains = [0,1,2],\n",
    "#     num_examples_per_domain_per_label=100,\n",
    "#     pickle_path=os.path.join(get_datasets_base_path(), \"metehan.stratified_ds.2022A.pkl\"),\n",
    "#     source_or_target_dataset=\"target\",\n",
    "#     x_transform_func=global_x_transform_func,\n",
    "#     domain_modifier=lambda u: f\"met_{u}\"\n",
    "# )"
   ]
  },
  {
   "cell_type": "code",
   "execution_count": 18,
   "id": "86a863c3",
   "metadata": {
    "execution": {
     "iopub.execute_input": "2022-03-22T13:50:44.028613Z",
     "iopub.status.busy": "2022-03-22T13:50:44.028159Z",
     "iopub.status.idle": "2022-03-22T13:50:44.047816Z",
     "shell.execute_reply": "2022-03-22T13:50:44.046942Z"
    },
    "papermill": {
     "duration": 0.04394,
     "end_time": "2022-03-22T13:50:44.047970",
     "exception": false,
     "start_time": "2022-03-22T13:50:44.004030",
     "status": "completed"
    },
    "tags": []
   },
   "outputs": [],
   "source": [
    "# # from steves_utils.wisig.utils import (\n",
    "# #     ALL_NODES_MINIMUM_100_EXAMPLES,\n",
    "# #     ALL_NODES_MINIMUM_500_EXAMPLES,\n",
    "# #     ALL_NODES_MINIMUM_1000_EXAMPLES,\n",
    "# #     ALL_DAYS\n",
    "# # )\n",
    "\n",
    "# import steves_utils.wisig.utils as wisig\n",
    "\n",
    "\n",
    "# add_dataset(\n",
    "#     labels=wisig.ALL_NODES_MINIMUM_100_EXAMPLES,\n",
    "#     domains = wisig.ALL_DAYS,\n",
    "#     num_examples_per_domain_per_label=100,\n",
    "#     pickle_path=os.path.join(get_datasets_base_path(), \"wisig.node3-19.stratified_ds.2022A.pkl\"),\n",
    "#     source_or_target_dataset=\"target\",\n",
    "#     x_transform_func=global_x_transform_func,\n",
    "#     domain_modifier=lambda u: f\"wisig_{u}\"\n",
    "# )"
   ]
  },
  {
   "cell_type": "code",
   "execution_count": 19,
   "id": "fd5442bc",
   "metadata": {
    "execution": {
     "iopub.execute_input": "2022-03-22T13:50:44.107566Z",
     "iopub.status.busy": "2022-03-22T13:50:44.106964Z",
     "iopub.status.idle": "2022-03-22T13:50:44.130722Z",
     "shell.execute_reply": "2022-03-22T13:50:44.130049Z"
    },
    "papermill": {
     "duration": 0.054651,
     "end_time": "2022-03-22T13:50:44.130897",
     "exception": false,
     "start_time": "2022-03-22T13:50:44.076246",
     "status": "completed"
    },
    "tags": []
   },
   "outputs": [],
   "source": [
    "###################################\n",
    "# Build the dataset\n",
    "###################################\n",
    "train_original_source = Iterable_Aggregator(train_original_source, p.seed)\n",
    "val_original_source = Iterable_Aggregator(val_original_source, p.seed)\n",
    "test_original_source = Iterable_Aggregator(test_original_source, p.seed)\n",
    "\n",
    "\n",
    "train_original_target = Iterable_Aggregator(train_original_target, p.seed)\n",
    "val_original_target = Iterable_Aggregator(val_original_target, p.seed)\n",
    "test_original_target = Iterable_Aggregator(test_original_target, p.seed)\n",
    "\n",
    "# For CNN We only use X and Y. And we only train on the source.\n",
    "# Properly form the data using a transform lambda and Lazy_Iterable_Wrapper. Finally wrap them in a dataloader\n",
    "\n",
    "transform_lambda = lambda ex: ex[1] # Original is (<domain>, <episode>) so we strip down to episode only\n",
    "\n",
    "train_processed_source = Lazy_Iterable_Wrapper(train_original_source, transform_lambda)\n",
    "val_processed_source   = Lazy_Iterable_Wrapper(val_original_source, transform_lambda)\n",
    "test_processed_source  = Lazy_Iterable_Wrapper(test_original_source, transform_lambda)\n",
    "\n",
    "train_processed_target = Lazy_Iterable_Wrapper(train_original_target, transform_lambda)\n",
    "val_processed_target   = Lazy_Iterable_Wrapper(val_original_target, transform_lambda)\n",
    "test_processed_target  = Lazy_Iterable_Wrapper(test_original_target, transform_lambda)\n",
    "\n",
    "datasets = EasyDict({\n",
    "    \"source\": {\n",
    "        \"original\": {\"train\":train_original_source, \"val\":val_original_source, \"test\":test_original_source},\n",
    "        \"processed\": {\"train\":train_processed_source, \"val\":val_processed_source, \"test\":test_processed_source}\n",
    "    },\n",
    "    \"target\": {\n",
    "        \"original\": {\"train\":train_original_target, \"val\":val_original_target, \"test\":test_original_target},\n",
    "        \"processed\": {\"train\":train_processed_target, \"val\":val_processed_target, \"test\":test_processed_target}\n",
    "    },\n",
    "})"
   ]
  },
  {
   "cell_type": "code",
   "execution_count": 20,
   "id": "5b3c01fc",
   "metadata": {
    "execution": {
     "iopub.execute_input": "2022-03-22T13:50:44.186981Z",
     "iopub.status.busy": "2022-03-22T13:50:44.185082Z",
     "iopub.status.idle": "2022-03-22T13:50:58.827551Z",
     "shell.execute_reply": "2022-03-22T13:50:58.827006Z"
    },
    "papermill": {
     "duration": 14.669875,
     "end_time": "2022-03-22T13:50:58.827705",
     "exception": false,
     "start_time": "2022-03-22T13:50:44.157830",
     "status": "completed"
    },
    "tags": []
   },
   "outputs": [
    {
     "name": "stdout",
     "output_type": "stream",
     "text": [
      "{'CORES_3', 'CORES_4', 'CORES_1', 'CORES_5', 'CORES_2'}\n"
     ]
    },
    {
     "name": "stdout",
     "output_type": "stream",
     "text": [
      "{'ORACLE.run1_50', 'ORACLE.run1_20', 'ORACLE.run1_14', 'ORACLE.run1_32', 'ORACLE.run1_38', 'ORACLE.run1_26', 'ORACLE.run1_8', 'ORACLE.run1_44'}\n"
     ]
    },
    {
     "name": "stdout",
     "output_type": "stream",
     "text": [
      "tensor([[[ 0.0524, -0.0192,  0.2434,  ..., -0.3926, -1.4305, -0.1936],\n",
      "         [ 0.3654, -0.5299, -1.1645,  ..., -0.8482,  1.2706,  0.7454]],\n",
      "\n",
      "        [[ 0.0572, -0.0221, -0.7470,  ..., -1.0398,  1.0619,  1.7274],\n",
      "         [-0.3453, -0.0358,  0.6868,  ...,  0.6540,  0.6083, -0.5443]],\n",
      "\n",
      "        [[-0.1402, -0.3477,  0.6240,  ...,  0.9844,  0.5949, -1.6548],\n",
      "         [ 0.1866,  0.1800, -0.0698,  ...,  0.4318, -0.6811, -1.0420]],\n",
      "\n",
      "        ...,\n",
      "\n",
      "        [[-0.3116, -0.1290,  0.7961,  ...,  0.8301,  0.7376, -0.0536],\n",
      "         [-0.0049, -0.6841, -0.1388,  ..., -0.6500, -1.4631, -0.4455]],\n",
      "\n",
      "        [[ 0.2958,  0.4473, -0.5699,  ..., -0.0697,  0.4448,  0.3006],\n",
      "         [-0.2116,  0.5410,  0.6444,  ...,  1.0965,  1.5077,  0.1154]],\n",
      "\n",
      "        [[-0.1283, -0.1333,  0.6886,  ...,  0.5504,  1.2341,  1.4267],\n",
      "         [ 0.0469, -0.4048, -0.2592,  ...,  0.3974,  0.0173, -0.3752]]])\n"
     ]
    }
   ],
   "source": [
    "from steves_utils.transforms import get_average_magnitude, get_average_power\n",
    "\n",
    "print(set([u for u,_ in val_original_source]))\n",
    "print(set([u for u,_ in val_original_target]))\n",
    "\n",
    "s_x, s_y, q_x, q_y, _ = next(iter(train_processed_source))\n",
    "print(s_x)\n",
    "\n",
    "# for ds in [\n",
    "#     train_processed_source,\n",
    "#     val_processed_source,\n",
    "#     test_processed_source,\n",
    "#     train_processed_target,\n",
    "#     val_processed_target,\n",
    "#     test_processed_target\n",
    "# ]:\n",
    "#     for s_x, s_y, q_x, q_y, _ in ds:\n",
    "#         for X in (s_x, q_x):\n",
    "#             for x in X:\n",
    "#                 assert np.isclose(get_average_magnitude(x.numpy()), 1.0)\n",
    "#                 assert np.isclose(get_average_power(x.numpy()), 1.0)\n",
    "                "
   ]
  },
  {
   "cell_type": "code",
   "execution_count": 21,
   "id": "bbdacba1",
   "metadata": {
    "execution": {
     "iopub.execute_input": "2022-03-22T13:50:58.881869Z",
     "iopub.status.busy": "2022-03-22T13:50:58.881098Z",
     "iopub.status.idle": "2022-03-22T13:50:59.086227Z",
     "shell.execute_reply": "2022-03-22T13:50:59.085831Z"
    },
    "papermill": {
     "duration": 0.231757,
     "end_time": "2022-03-22T13:50:59.086349",
     "exception": false,
     "start_time": "2022-03-22T13:50:58.854592",
     "status": "completed"
    },
    "tags": []
   },
   "outputs": [
    {
     "name": "stdout",
     "output_type": "stream",
     "text": [
      "(2, 256)\n"
     ]
    }
   ],
   "source": [
    "###################################\n",
    "# Build the model\n",
    "###################################\n",
    "# easfsl only wants a tuple for the shape\n",
    "model = Steves_Prototypical_Network(x_net, device=p.device, x_shape=tuple(p.x_shape))\n",
    "optimizer = Adam(params=model.parameters(), lr=p.lr)"
   ]
  },
  {
   "cell_type": "code",
   "execution_count": 22,
   "id": "22b39ac5",
   "metadata": {
    "execution": {
     "iopub.execute_input": "2022-03-22T13:50:59.137894Z",
     "iopub.status.busy": "2022-03-22T13:50:59.137342Z",
     "iopub.status.idle": "2022-03-22T14:08:57.030313Z",
     "shell.execute_reply": "2022-03-22T14:08:57.029962Z"
    },
    "papermill": {
     "duration": 1077.918674,
     "end_time": "2022-03-22T14:08:57.030400",
     "exception": false,
     "start_time": "2022-03-22T13:50:59.111726",
     "status": "completed"
    },
    "tags": []
   },
   "outputs": [
    {
     "name": "stdout",
     "output_type": "stream",
     "text": [
      "epoch: 1, [batch: 1 / 6316], examples_per_second: 34.2941, train_label_loss: 2.5510, \n"
     ]
    },
    {
     "name": "stdout",
     "output_type": "stream",
     "text": [
      "epoch: 1, [batch: 632 / 6316], examples_per_second: 3780.6850, train_label_loss: 0.0097, \n"
     ]
    },
    {
     "name": "stdout",
     "output_type": "stream",
     "text": [
      "epoch: 1, [batch: 1264 / 6316], examples_per_second: 3962.0030, train_label_loss: 0.0034, \n"
     ]
    },
    {
     "name": "stdout",
     "output_type": "stream",
     "text": [
      "epoch: 1, [batch: 1895 / 6316], examples_per_second: 3830.4266, train_label_loss: 0.0021, \n"
     ]
    },
    {
     "name": "stdout",
     "output_type": "stream",
     "text": [
      "epoch: 1, [batch: 2527 / 6316], examples_per_second: 3761.0515, train_label_loss: 0.0011, \n"
     ]
    },
    {
     "name": "stdout",
     "output_type": "stream",
     "text": [
      "epoch: 1, [batch: 3158 / 6316], examples_per_second: 3884.3034, train_label_loss: 0.0003, \n"
     ]
    },
    {
     "name": "stdout",
     "output_type": "stream",
     "text": [
      "epoch: 1, [batch: 3790 / 6316], examples_per_second: 3815.9944, train_label_loss: 0.0001, \n"
     ]
    },
    {
     "name": "stdout",
     "output_type": "stream",
     "text": [
      "epoch: 1, [batch: 4421 / 6316], examples_per_second: 3738.5206, train_label_loss: 0.0003, \n"
     ]
    },
    {
     "name": "stdout",
     "output_type": "stream",
     "text": [
      "epoch: 1, [batch: 5053 / 6316], examples_per_second: 3784.8584, train_label_loss: 0.0097, \n"
     ]
    },
    {
     "name": "stdout",
     "output_type": "stream",
     "text": [
      "epoch: 1, [batch: 5684 / 6316], examples_per_second: 3760.8916, train_label_loss: 0.0001, \n"
     ]
    },
    {
     "name": "stdout",
     "output_type": "stream",
     "text": [
      "=============================================================\n",
      "epoch: 1, source_val_acc_label: 0.9988, target_val_acc_label: 0.1406, source_val_label_loss: 0.0066, target_val_label_loss: 2.7142, \n",
      "=============================================================\n"
     ]
    },
    {
     "name": "stdout",
     "output_type": "stream",
     "text": [
      "New best\n"
     ]
    },
    {
     "name": "stdout",
     "output_type": "stream",
     "text": [
      "epoch: 2, [batch: 1 / 6296], examples_per_second: 4.1518, train_label_loss: 0.0006, \n"
     ]
    },
    {
     "name": "stdout",
     "output_type": "stream",
     "text": [
      "epoch: 2, [batch: 630 / 6296], examples_per_second: 3890.5213, train_label_loss: 0.0003, \n"
     ]
    },
    {
     "name": "stdout",
     "output_type": "stream",
     "text": [
      "epoch: 2, [batch: 1260 / 6296], examples_per_second: 3879.3158, train_label_loss: 0.0001, \n"
     ]
    },
    {
     "name": "stdout",
     "output_type": "stream",
     "text": [
      "epoch: 2, [batch: 1889 / 6296], examples_per_second: 3939.7057, train_label_loss: 0.0073, \n"
     ]
    },
    {
     "name": "stdout",
     "output_type": "stream",
     "text": [
      "epoch: 2, [batch: 2519 / 6296], examples_per_second: 3942.7053, train_label_loss: 0.0000, \n"
     ]
    },
    {
     "name": "stdout",
     "output_type": "stream",
     "text": [
      "epoch: 2, [batch: 3148 / 6296], examples_per_second: 3896.5400, train_label_loss: 0.0009, \n"
     ]
    },
    {
     "name": "stdout",
     "output_type": "stream",
     "text": [
      "epoch: 2, [batch: 3778 / 6296], examples_per_second: 3900.3523, train_label_loss: 0.0000, \n"
     ]
    },
    {
     "name": "stdout",
     "output_type": "stream",
     "text": [
      "epoch: 2, [batch: 4407 / 6296], examples_per_second: 3957.9840, train_label_loss: 0.0004, \n"
     ]
    },
    {
     "name": "stdout",
     "output_type": "stream",
     "text": [
      "epoch: 2, [batch: 5037 / 6296], examples_per_second: 4028.4523, train_label_loss: 0.0001, \n"
     ]
    },
    {
     "name": "stdout",
     "output_type": "stream",
     "text": [
      "epoch: 2, [batch: 5666 / 6296], examples_per_second: 4024.2471, train_label_loss: 0.0000, \n"
     ]
    },
    {
     "name": "stdout",
     "output_type": "stream",
     "text": [
      "=============================================================\n",
      "epoch: 2, source_val_acc_label: 0.9994, target_val_acc_label: 0.1512, source_val_label_loss: 0.0075, target_val_label_loss: 2.9842, \n",
      "=============================================================\n"
     ]
    },
    {
     "name": "stdout",
     "output_type": "stream",
     "text": [
      "New best\n"
     ]
    },
    {
     "name": "stdout",
     "output_type": "stream",
     "text": [
      "epoch: 3, [batch: 1 / 6299], examples_per_second: 4.0659, train_label_loss: 0.0013, \n"
     ]
    },
    {
     "name": "stdout",
     "output_type": "stream",
     "text": [
      "epoch: 3, [batch: 630 / 6299], examples_per_second: 3935.2363, train_label_loss: 0.0016, \n"
     ]
    },
    {
     "name": "stdout",
     "output_type": "stream",
     "text": [
      "epoch: 3, [batch: 1260 / 6299], examples_per_second: 3863.0837, train_label_loss: 0.0000, \n"
     ]
    },
    {
     "name": "stdout",
     "output_type": "stream",
     "text": [
      "epoch: 3, [batch: 1890 / 6299], examples_per_second: 3853.2697, train_label_loss: 0.0000, \n"
     ]
    },
    {
     "name": "stdout",
     "output_type": "stream",
     "text": [
      "epoch: 3, [batch: 2520 / 6299], examples_per_second: 3853.7719, train_label_loss: 0.0020, \n"
     ]
    },
    {
     "name": "stdout",
     "output_type": "stream",
     "text": [
      "epoch: 3, [batch: 3150 / 6299], examples_per_second: 3840.7430, train_label_loss: 0.0001, \n"
     ]
    },
    {
     "name": "stdout",
     "output_type": "stream",
     "text": [
      "epoch: 3, [batch: 3779 / 6299], examples_per_second: 3821.1928, train_label_loss: 0.0000, \n"
     ]
    },
    {
     "name": "stdout",
     "output_type": "stream",
     "text": [
      "epoch: 3, [batch: 4409 / 6299], examples_per_second: 3780.7457, train_label_loss: 0.0000, \n"
     ]
    },
    {
     "name": "stdout",
     "output_type": "stream",
     "text": [
      "epoch: 3, [batch: 5039 / 6299], examples_per_second: 3877.6549, train_label_loss: 0.0000, \n"
     ]
    },
    {
     "name": "stdout",
     "output_type": "stream",
     "text": [
      "epoch: 3, [batch: 5669 / 6299], examples_per_second: 3983.4206, train_label_loss: 0.0244, \n"
     ]
    },
    {
     "name": "stdout",
     "output_type": "stream",
     "text": [
      "=============================================================\n",
      "epoch: 3, source_val_acc_label: 0.9991, target_val_acc_label: 0.1664, source_val_label_loss: 0.0079, target_val_label_loss: 3.1010, \n",
      "=============================================================\n"
     ]
    },
    {
     "name": "stdout",
     "output_type": "stream",
     "text": [
      "New best\n"
     ]
    },
    {
     "name": "stdout",
     "output_type": "stream",
     "text": [
      "epoch: 4, [batch: 1 / 6316], examples_per_second: 4.0870, train_label_loss: 0.0000, \n"
     ]
    },
    {
     "name": "stdout",
     "output_type": "stream",
     "text": [
      "epoch: 4, [batch: 632 / 6316], examples_per_second: 3916.3732, train_label_loss: 0.0005, \n"
     ]
    },
    {
     "name": "stdout",
     "output_type": "stream",
     "text": [
      "epoch: 4, [batch: 1264 / 6316], examples_per_second: 4002.6113, train_label_loss: 0.0000, \n"
     ]
    },
    {
     "name": "stdout",
     "output_type": "stream",
     "text": [
      "epoch: 4, [batch: 1895 / 6316], examples_per_second: 3956.3533, train_label_loss: 0.0000, \n"
     ]
    },
    {
     "name": "stdout",
     "output_type": "stream",
     "text": [
      "epoch: 4, [batch: 2527 / 6316], examples_per_second: 3841.7975, train_label_loss: 0.0000, \n"
     ]
    },
    {
     "name": "stdout",
     "output_type": "stream",
     "text": [
      "epoch: 4, [batch: 3158 / 6316], examples_per_second: 3880.2207, train_label_loss: 0.0000, \n"
     ]
    },
    {
     "name": "stdout",
     "output_type": "stream",
     "text": [
      "epoch: 4, [batch: 3790 / 6316], examples_per_second: 3924.5059, train_label_loss: 0.0000, \n"
     ]
    },
    {
     "name": "stdout",
     "output_type": "stream",
     "text": [
      "epoch: 4, [batch: 4421 / 6316], examples_per_second: 3878.6236, train_label_loss: 0.0000, \n"
     ]
    },
    {
     "name": "stdout",
     "output_type": "stream",
     "text": [
      "epoch: 4, [batch: 5053 / 6316], examples_per_second: 4020.0390, train_label_loss: 0.0000, \n"
     ]
    },
    {
     "name": "stdout",
     "output_type": "stream",
     "text": [
      "epoch: 4, [batch: 5684 / 6316], examples_per_second: 4069.6791, train_label_loss: 0.0000, \n"
     ]
    },
    {
     "name": "stdout",
     "output_type": "stream",
     "text": [
      "=============================================================\n",
      "epoch: 4, source_val_acc_label: 0.9992, target_val_acc_label: 0.1594, source_val_label_loss: 0.0084, target_val_label_loss: 3.6831, \n",
      "=============================================================\n"
     ]
    },
    {
     "name": "stdout",
     "output_type": "stream",
     "text": [
      "epoch: 5, [batch: 1 / 6313], examples_per_second: 4.3116, train_label_loss: 0.0000, \n"
     ]
    },
    {
     "name": "stdout",
     "output_type": "stream",
     "text": [
      "epoch: 5, [batch: 632 / 6313], examples_per_second: 4234.6333, train_label_loss: 0.0000, \n"
     ]
    },
    {
     "name": "stdout",
     "output_type": "stream",
     "text": [
      "epoch: 5, [batch: 1263 / 6313], examples_per_second: 4233.5965, train_label_loss: 0.0000, \n"
     ]
    },
    {
     "name": "stdout",
     "output_type": "stream",
     "text": [
      "epoch: 5, [batch: 1894 / 6313], examples_per_second: 4501.2971, train_label_loss: 0.0000, \n"
     ]
    },
    {
     "name": "stdout",
     "output_type": "stream",
     "text": [
      "epoch: 5, [batch: 2525 / 6313], examples_per_second: 4740.0476, train_label_loss: 0.0104, \n"
     ]
    },
    {
     "name": "stdout",
     "output_type": "stream",
     "text": [
      "epoch: 5, [batch: 3157 / 6313], examples_per_second: 4939.1907, train_label_loss: 0.0000, \n"
     ]
    },
    {
     "name": "stdout",
     "output_type": "stream",
     "text": [
      "epoch: 5, [batch: 3788 / 6313], examples_per_second: 4666.4214, train_label_loss: 0.0000, \n"
     ]
    },
    {
     "name": "stdout",
     "output_type": "stream",
     "text": [
      "epoch: 5, [batch: 4419 / 6313], examples_per_second: 3751.6498, train_label_loss: 0.0000, \n"
     ]
    },
    {
     "name": "stdout",
     "output_type": "stream",
     "text": [
      "epoch: 5, [batch: 5050 / 6313], examples_per_second: 3871.1024, train_label_loss: 0.0000, \n"
     ]
    },
    {
     "name": "stdout",
     "output_type": "stream",
     "text": [
      "epoch: 5, [batch: 5681 / 6313], examples_per_second: 3842.7870, train_label_loss: 0.0000, \n"
     ]
    },
    {
     "name": "stdout",
     "output_type": "stream",
     "text": [
      "=============================================================\n",
      "epoch: 5, source_val_acc_label: 0.9995, target_val_acc_label: 0.1661, source_val_label_loss: 0.0082, target_val_label_loss: 3.8198, \n",
      "=============================================================\n"
     ]
    },
    {
     "name": "stdout",
     "output_type": "stream",
     "text": [
      "epoch: 6, [batch: 1 / 6307], examples_per_second: 4.0546, train_label_loss: 0.0000, \n"
     ]
    },
    {
     "name": "stdout",
     "output_type": "stream",
     "text": [
      "epoch: 6, [batch: 631 / 6307], examples_per_second: 3878.5983, train_label_loss: 0.0000, \n"
     ]
    },
    {
     "name": "stdout",
     "output_type": "stream",
     "text": [
      "epoch: 6, [batch: 1262 / 6307], examples_per_second: 4012.4817, train_label_loss: 0.0000, \n"
     ]
    },
    {
     "name": "stdout",
     "output_type": "stream",
     "text": [
      "epoch: 6, [batch: 1892 / 6307], examples_per_second: 4119.0686, train_label_loss: 0.0000, \n"
     ]
    },
    {
     "name": "stdout",
     "output_type": "stream",
     "text": [
      "epoch: 6, [batch: 2523 / 6307], examples_per_second: 3915.4294, train_label_loss: 0.0000, \n"
     ]
    },
    {
     "name": "stdout",
     "output_type": "stream",
     "text": [
      "epoch: 6, [batch: 3154 / 6307], examples_per_second: 3848.9688, train_label_loss: 0.0000, \n"
     ]
    },
    {
     "name": "stdout",
     "output_type": "stream",
     "text": [
      "epoch: 6, [batch: 3784 / 6307], examples_per_second: 3958.1033, train_label_loss: 0.0000, \n"
     ]
    },
    {
     "name": "stdout",
     "output_type": "stream",
     "text": [
      "epoch: 6, [batch: 4415 / 6307], examples_per_second: 3827.3445, train_label_loss: 0.0000, \n"
     ]
    },
    {
     "name": "stdout",
     "output_type": "stream",
     "text": [
      "epoch: 6, [batch: 5045 / 6307], examples_per_second: 3822.3882, train_label_loss: 0.0000, \n"
     ]
    },
    {
     "name": "stdout",
     "output_type": "stream",
     "text": [
      "epoch: 6, [batch: 5676 / 6307], examples_per_second: 3804.3419, train_label_loss: 0.0000, \n"
     ]
    },
    {
     "name": "stdout",
     "output_type": "stream",
     "text": [
      "=============================================================\n",
      "epoch: 6, source_val_acc_label: 0.9993, target_val_acc_label: 0.1589, source_val_label_loss: 0.0073, target_val_label_loss: 4.1245, \n",
      "=============================================================\n"
     ]
    },
    {
     "name": "stdout",
     "output_type": "stream",
     "text": [
      "epoch: 7, [batch: 1 / 6303], examples_per_second: 4.0508, train_label_loss: 0.0006, \n"
     ]
    },
    {
     "name": "stdout",
     "output_type": "stream",
     "text": [
      "epoch: 7, [batch: 631 / 6303], examples_per_second: 3866.2362, train_label_loss: 0.0000, \n"
     ]
    },
    {
     "name": "stdout",
     "output_type": "stream",
     "text": [
      "epoch: 7, [batch: 1261 / 6303], examples_per_second: 3971.9800, train_label_loss: 0.0000, \n"
     ]
    },
    {
     "name": "stdout",
     "output_type": "stream",
     "text": [
      "epoch: 7, [batch: 1891 / 6303], examples_per_second: 3978.5425, train_label_loss: 0.0000, \n"
     ]
    },
    {
     "name": "stdout",
     "output_type": "stream",
     "text": [
      "epoch: 7, [batch: 2521 / 6303], examples_per_second: 4020.8043, train_label_loss: 0.0000, \n"
     ]
    },
    {
     "name": "stdout",
     "output_type": "stream",
     "text": [
      "epoch: 7, [batch: 3152 / 6303], examples_per_second: 3989.6173, train_label_loss: 0.0000, \n"
     ]
    },
    {
     "name": "stdout",
     "output_type": "stream",
     "text": [
      "epoch: 7, [batch: 3782 / 6303], examples_per_second: 3855.5962, train_label_loss: 0.0000, \n"
     ]
    },
    {
     "name": "stdout",
     "output_type": "stream",
     "text": [
      "epoch: 7, [batch: 4412 / 6303], examples_per_second: 3824.3343, train_label_loss: 0.0000, \n"
     ]
    },
    {
     "name": "stdout",
     "output_type": "stream",
     "text": [
      "epoch: 7, [batch: 5042 / 6303], examples_per_second: 3958.2304, train_label_loss: 0.0000, \n"
     ]
    },
    {
     "name": "stdout",
     "output_type": "stream",
     "text": [
      "epoch: 7, [batch: 5672 / 6303], examples_per_second: 3867.6875, train_label_loss: 0.0000, \n"
     ]
    },
    {
     "name": "stdout",
     "output_type": "stream",
     "text": [
      "=============================================================\n",
      "epoch: 7, source_val_acc_label: 0.9961, target_val_acc_label: 0.1513, source_val_label_loss: 0.0278, target_val_label_loss: 3.6237, \n",
      "=============================================================\n"
     ]
    },
    {
     "name": "stdout",
     "output_type": "stream",
     "text": [
      "Patience (3) exhausted\n"
     ]
    }
   ],
   "source": [
    "###################################\n",
    "# train\n",
    "###################################\n",
    "jig = PTN_Train_Eval_Test_Jig(model, p.BEST_MODEL_PATH, p.device)\n",
    "\n",
    "jig.train(\n",
    "    train_iterable=datasets.source.processed.train,\n",
    "    source_val_iterable=datasets.source.processed.val,\n",
    "    target_val_iterable=datasets.target.processed.val,\n",
    "    num_epochs=p.n_epoch,\n",
    "    num_logs_per_epoch=p.NUM_LOGS_PER_EPOCH,\n",
    "    patience=p.patience,\n",
    "    optimizer=optimizer,\n",
    "    criteria_for_best=p.criteria_for_best,\n",
    ")"
   ]
  },
  {
   "cell_type": "code",
   "execution_count": 23,
   "id": "31e8fabf",
   "metadata": {
    "execution": {
     "iopub.execute_input": "2022-03-22T14:08:57.124773Z",
     "iopub.status.busy": "2022-03-22T14:08:57.124331Z",
     "iopub.status.idle": "2022-03-22T14:08:57.159661Z",
     "shell.execute_reply": "2022-03-22T14:08:57.158808Z"
    },
    "papermill": {
     "duration": 0.084952,
     "end_time": "2022-03-22T14:08:57.159830",
     "exception": false,
     "start_time": "2022-03-22T14:08:57.074878",
     "status": "completed"
    },
    "tags": []
   },
   "outputs": [],
   "source": [
    "total_experiment_time_secs = time.time() - start_time_secs"
   ]
  },
  {
   "cell_type": "code",
   "execution_count": 24,
   "id": "87b9595b",
   "metadata": {
    "execution": {
     "iopub.execute_input": "2022-03-22T14:08:57.264094Z",
     "iopub.status.busy": "2022-03-22T14:08:57.263442Z",
     "iopub.status.idle": "2022-03-22T14:11:43.517123Z",
     "shell.execute_reply": "2022-03-22T14:11:43.517799Z"
    },
    "papermill": {
     "duration": 166.309172,
     "end_time": "2022-03-22T14:11:43.518039",
     "exception": false,
     "start_time": "2022-03-22T14:08:57.208867",
     "status": "completed"
    },
    "tags": []
   },
   "outputs": [],
   "source": [
    "###################################\n",
    "# Evaluate the model\n",
    "###################################\n",
    "source_test_label_accuracy, source_test_label_loss = jig.test(datasets.source.processed.test)\n",
    "target_test_label_accuracy, target_test_label_loss = jig.test(datasets.target.processed.test)\n",
    "\n",
    "source_val_label_accuracy, source_val_label_loss = jig.test(datasets.source.processed.val)\n",
    "target_val_label_accuracy, target_val_label_loss = jig.test(datasets.target.processed.val)\n",
    "\n",
    "history = jig.get_history()\n",
    "\n",
    "total_epochs_trained = len(history[\"epoch_indices\"])\n",
    "\n",
    "val_dl = Iterable_Aggregator((datasets.source.original.val,datasets.target.original.val))\n",
    "\n",
    "confusion = ptn_confusion_by_domain_over_dataloader(model, p.device, val_dl)\n",
    "per_domain_accuracy = per_domain_accuracy_from_confusion(confusion)\n",
    "\n",
    "# Add a key to per_domain_accuracy for if it was a source domain\n",
    "for domain, accuracy in per_domain_accuracy.items():\n",
    "    per_domain_accuracy[domain] = {\n",
    "        \"accuracy\": accuracy,\n",
    "        \"source?\": domain in p.domains_source\n",
    "    }\n",
    "\n",
    "# Do an independent accuracy assesment JUST TO BE SURE!\n",
    "# _source_test_label_accuracy = independent_accuracy_assesment(model, datasets.source.processed.test, p.device)\n",
    "# _target_test_label_accuracy = independent_accuracy_assesment(model, datasets.target.processed.test, p.device)\n",
    "# _source_val_label_accuracy = independent_accuracy_assesment(model, datasets.source.processed.val, p.device)\n",
    "# _target_val_label_accuracy = independent_accuracy_assesment(model, datasets.target.processed.val, p.device)\n",
    "\n",
    "# assert(_source_test_label_accuracy == source_test_label_accuracy)\n",
    "# assert(_target_test_label_accuracy == target_test_label_accuracy)\n",
    "# assert(_source_val_label_accuracy == source_val_label_accuracy)\n",
    "# assert(_target_val_label_accuracy == target_val_label_accuracy)\n",
    "\n",
    "experiment = {\n",
    "    \"experiment_name\": p.experiment_name,\n",
    "    \"parameters\": dict(p),\n",
    "    \"results\": {\n",
    "        \"source_test_label_accuracy\": source_test_label_accuracy,\n",
    "        \"source_test_label_loss\": source_test_label_loss,\n",
    "        \"target_test_label_accuracy\": target_test_label_accuracy,\n",
    "        \"target_test_label_loss\": target_test_label_loss,\n",
    "        \"source_val_label_accuracy\": source_val_label_accuracy,\n",
    "        \"source_val_label_loss\": source_val_label_loss,\n",
    "        \"target_val_label_accuracy\": target_val_label_accuracy,\n",
    "        \"target_val_label_loss\": target_val_label_loss,\n",
    "        \"total_epochs_trained\": total_epochs_trained,\n",
    "        \"total_experiment_time_secs\": total_experiment_time_secs,\n",
    "        \"confusion\": confusion,\n",
    "        \"per_domain_accuracy\": per_domain_accuracy,\n",
    "    },\n",
    "    \"history\": history,\n",
    "    \"dataset_metrics\": get_dataset_metrics(datasets, \"ptn\"),\n",
    "}"
   ]
  },
  {
   "cell_type": "code",
   "execution_count": 25,
   "id": "54a21829",
   "metadata": {
    "execution": {
     "iopub.execute_input": "2022-03-22T14:11:43.618561Z",
     "iopub.status.busy": "2022-03-22T14:11:43.618188Z",
     "iopub.status.idle": "2022-03-22T14:11:43.827852Z",
     "shell.execute_reply": "2022-03-22T14:11:43.828547Z"
    },
    "papermill": {
     "duration": 0.259646,
     "end_time": "2022-03-22T14:11:43.828736",
     "exception": false,
     "start_time": "2022-03-22T14:11:43.569090",
     "status": "completed"
    },
    "tags": []
   },
   "outputs": [
    {
     "data": {
      "image/png": "[encoded data removed]",
      "text/plain": [
       "<Figure size 1080x504 with 1 Axes>"
      ]
     },
     "metadata": {
      "needs_background": "light"
     },
     "output_type": "display_data"
    }
   ],
   "source": [
    "ax = get_loss_curve(experiment)\n",
    "plt.show()"
   ]
  },
  {
   "cell_type": "code",
   "execution_count": 26,
   "id": "fd8a0f60",
   "metadata": {
    "execution": {
     "iopub.execute_input": "2022-03-22T14:11:43.927826Z",
     "iopub.status.busy": "2022-03-22T14:11:43.927438Z",
     "iopub.status.idle": "2022-03-22T14:11:44.270866Z",
     "shell.execute_reply": "2022-03-22T14:11:44.271176Z"
    },
    "papermill": {
     "duration": 0.392939,
     "end_time": "2022-03-22T14:11:44.271271",
     "exception": false,
     "start_time": "2022-03-22T14:11:43.878332",
     "status": "completed"
    },
    "tags": []
   },
   "outputs": [
    {
     "data": {
      "text/plain": [
       "<AxesSubplot:title={'center':'Results'}>"
      ]
     },
     "execution_count": 26,
     "metadata": {},
     "output_type": "execute_result"
    },
    {
     "data": {
      "image/png": "[encoded data removed]",
      "text/plain": [
       "<Figure size 1080x504 with 1 Axes>"
      ]
     },
     "metadata": {
      "needs_background": "light"
     },
     "output_type": "display_data"
    }
   ],
   "source": [
    "get_results_table(experiment)"
   ]
  },
  {
   "cell_type": "code",
   "execution_count": 27,
   "id": "cf8dc689",
   "metadata": {
    "execution": {
     "iopub.execute_input": "2022-03-22T14:11:44.369039Z",
     "iopub.status.busy": "2022-03-22T14:11:44.368547Z",
     "iopub.status.idle": "2022-03-22T14:11:44.628420Z",
     "shell.execute_reply": "2022-03-22T14:11:44.627665Z"
    },
    "papermill": {
     "duration": 0.309684,
     "end_time": "2022-03-22T14:11:44.628578",
     "exception": false,
     "start_time": "2022-03-22T14:11:44.318894",
     "status": "completed"
    },
    "tags": []
   },
   "outputs": [
    {
     "data": {
      "text/plain": [
       "<AxesSubplot:title={'center':'Per Domain Validation Accuracy'}, xlabel='domain'>"
      ]
     },
     "execution_count": 27,
     "metadata": {},
     "output_type": "execute_result"
    },
    {
     "data": {
      "image/png": "[encoded data removed]",
      "text/plain": [
       "<Figure size 1080x504 with 1 Axes>"
      ]
     },
     "metadata": {
      "needs_background": "light"
     },
     "output_type": "display_data"
    }
   ],
   "source": [
    "get_domain_accuracies(experiment)"
   ]
  },
  {
   "cell_type": "code",
   "execution_count": 28,
   "id": "a74ae082",
   "metadata": {
    "execution": {
     "iopub.execute_input": "2022-03-22T14:11:44.737259Z",
     "iopub.status.busy": "2022-03-22T14:11:44.736616Z",
     "iopub.status.idle": "2022-03-22T14:11:44.760237Z",
     "shell.execute_reply": "2022-03-22T14:11:44.759505Z"
    },
    "papermill": {
     "duration": 0.075882,
     "end_time": "2022-03-22T14:11:44.760416",
     "exception": false,
     "start_time": "2022-03-22T14:11:44.684534",
     "status": "completed"
    },
    "tags": []
   },
   "outputs": [
    {
     "name": "stdout",
     "output_type": "stream",
     "text": [
      "Source Test Label Accuracy: 0.9991525423728813 Target Test Label Accuracy: 0.16852213541666666\n",
      "Source Val Label Accuracy: 0.9991071428571429 Target Val Label Accuracy: 0.16640625\n"
     ]
    }
   ],
   "source": [
    "print(\"Source Test Label Accuracy:\", experiment[\"results\"][\"source_test_label_accuracy\"], \"Target Test Label Accuracy:\", experiment[\"results\"][\"target_test_label_accuracy\"])\n",
    "print(\"Source Val Label Accuracy:\", experiment[\"results\"][\"source_val_label_accuracy\"], \"Target Val Label Accuracy:\", experiment[\"results\"][\"target_val_label_accuracy\"])"
   ]
  },
  {
   "cell_type": "code",
   "execution_count": 29,
   "id": "dacca602",
   "metadata": {
    "execution": {
     "iopub.execute_input": "2022-03-22T14:11:44.868051Z",
     "iopub.status.busy": "2022-03-22T14:11:44.865628Z",
     "iopub.status.idle": "2022-03-22T14:11:44.887570Z",
     "shell.execute_reply": "2022-03-22T14:11:44.888253Z"
    },
    "papermill": {
     "duration": 0.074748,
     "end_time": "2022-03-22T14:11:44.888439",
     "exception": false,
     "start_time": "2022-03-22T14:11:44.813691",
     "status": "completed"
    },
    "tags": [
     "experiment_json"
    ]
   },
   "outputs": [
    {
     "data": {
      "text/plain": [
       "'{\"experiment_name\": \"tl_1v2:cores-oracle.run1.limited\", \"parameters\": {\"experiment_name\": \"tl_1v2:cores-oracle.run1.limited\", \"device\": \"cuda\", \"lr\": 0.0001, \"n_shot\": 3, \"n_query\": 2, \"train_k_factor\": 3, \"val_k_factor\": 2, \"test_k_factor\": 2, \"torch_default_dtype\": \"torch.float32\", \"n_epoch\": 50, \"patience\": 3, \"criteria_for_best\": \"target_accuracy\", \"x_net\": [{\"class\": \"nnReshape\", \"kargs\": {\"shape\": [-1, 1, 2, 256]}}, {\"class\": \"Conv2d\", \"kargs\": {\"in_channels\": 1, \"out_channels\": 256, \"kernel_size\": [1, 7], \"bias\": false, \"padding\": [0, 3]}}, {\"class\": \"ReLU\", \"kargs\": {\"inplace\": true}}, {\"class\": \"BatchNorm2d\", \"kargs\": {\"num_features\": 256}}, {\"class\": \"Conv2d\", \"kargs\": {\"in_channels\": 256, \"out_channels\": 80, \"kernel_size\": [2, 7], \"bias\": true, \"padding\": [0, 3]}}, {\"class\": \"ReLU\", \"kargs\": {\"inplace\": true}}, {\"class\": \"BatchNorm2d\", \"kargs\": {\"num_features\": 80}}, {\"class\": \"Flatten\", \"kargs\": {}}, {\"class\": \"Linear\", \"kargs\": {\"in_features\": 20480, \"out_features\": 256}}, {\"class\": \"ReLU\", \"kargs\": {\"inplace\": true}}, {\"class\": \"BatchNorm1d\", \"kargs\": {\"num_features\": 256}}, {\"class\": \"Linear\", \"kargs\": {\"in_features\": 256, \"out_features\": 256}}], \"NUM_LOGS_PER_EPOCH\": 10, \"BEST_MODEL_PATH\": \"./best_model.pth\", \"n_way\": 16, \"datasets\": [{\"labels\": [\"1-10.\", \"1-11.\", \"1-15.\", \"1-16.\", \"1-17.\", \"1-18.\", \"1-19.\", \"10-4.\", \"10-7.\", \"11-1.\", \"11-14.\", \"11-17.\", \"11-20.\", \"11-7.\", \"13-20.\", \"13-8.\", \"14-10.\", \"14-11.\", \"14-14.\", \"14-7.\", \"15-1.\", \"15-20.\", \"16-1.\", \"16-16.\", \"17-10.\", \"17-11.\", \"17-2.\", \"19-1.\", \"19-16.\", \"19-19.\", \"19-20.\", \"19-3.\", \"2-10.\", \"2-11.\", \"2-17.\", \"2-18.\", \"2-20.\", \"2-3.\", \"2-4.\", \"2-5.\", \"2-6.\", \"2-7.\", \"2-8.\", \"3-13.\", \"3-18.\", \"3-3.\", \"4-1.\", \"4-10.\", \"4-11.\", \"4-19.\", \"5-5.\", \"6-15.\", \"7-10.\", \"7-14.\", \"8-18.\", \"8-20.\", \"8-3.\", \"8-8.\"], \"domains\": [1, 2, 3, 4, 5], \"num_examples_per_domain_per_label\": -1, \"pickle_path\": \"/root/csc500-main/datasets/cores.stratified_ds.2022A.pkl\", \"source_or_target_dataset\": \"source\", \"x_transforms\": [\"unit_power\"], \"episode_transforms\": [], \"domain_prefix\": \"CORES_\"}, {\"labels\": [\"3123D52\", \"3123D65\", \"3123D79\", \"3123D80\", \"3123D54\", \"3123D70\", \"3123D7B\", \"3123D89\", \"3123D58\", \"3123D76\", \"3123D7D\", \"3123EFE\", \"3123D64\", \"3123D78\", \"3123D7E\", \"3124E4A\"], \"domains\": [32, 38, 8, 44, 14, 50, 20, 26], \"num_examples_per_domain_per_label\": 2000, \"pickle_path\": \"/root/csc500-main/datasets/oracle.Run1_10kExamples_stratified_ds.2022A.pkl\", \"source_or_target_dataset\": \"target\", \"x_transforms\": [\"unit_power\"], \"episode_transforms\": [], \"domain_prefix\": \"ORACLE.run1_\"}], \"dataset_seed\": 7, \"seed\": 7, \"x_shape\": [2, 256], \"domains_source\": [\"CORES_1\", \"CORES_2\", \"CORES_3\", \"CORES_4\", \"CORES_5\"], \"domains_target\": [\"ORACLE.run1_32\", \"ORACLE.run1_38\", \"ORACLE.run1_8\", \"ORACLE.run1_44\", \"ORACLE.run1_14\", \"ORACLE.run1_50\", \"ORACLE.run1_20\", \"ORACLE.run1_26\"]}, \"results\": {\"source_test_label_accuracy\": 0.9991525423728813, \"source_test_label_loss\": 0.005765704438090324, \"target_test_label_accuracy\": 0.16852213541666666, \"target_test_label_loss\": 3.0762295722961426, \"source_val_label_accuracy\": 0.9991071428571429, \"source_val_label_loss\": 0.007948325015604496, \"target_val_label_accuracy\": 0.16640625, \"target_val_label_loss\": 3.1010172367095947, \"total_epochs_trained\": 7, \"total_experiment_time_secs\": 1139.1507332324982, \"confusion\": {\"CORES_5\": {\"26\": {\"26\": 24}, \"7\": {\"7\": 32}, \"56\": {\"56\": 142}, \"36\": {\"36\": 92}, \"47\": {\"47\": 100}, \"2\": {\"2\": 28}, \"15\": {\"15\": 152}, \"14\": {\"14\": 43, \"46\": 1}, \"27\": {\"27\": 146}, \"40\": {\"40\": 124}, \"49\": {\"49\": 36}, \"45\": {\"45\": 123, \"17\": 1}, \"46\": {\"46\": 136}, \"11\": {\"11\": 130}, \"30\": {\"30\": 112}, \"0\": {\"0\": 124}, \"10\": {\"10\": 68}, \"1\": {\"1\": 148}, \"42\": {\"42\": 38, \"10\": 1, \"3\": 1}, \"54\": {\"54\": 112}, \"55\": {\"55\": 152}, \"23\": {\"23\": 124}, \"25\": {\"25\": 152}, \"28\": {\"28\": 32}, \"32\": {\"32\": 32}, \"9\": {\"9\": 142}, \"39\": {\"39\": 20}, \"3\": {\"3\": 100}, \"29\": {\"29\": 118}, \"17\": {\"17\": 116}, \"35\": {\"35\": 36}, \"44\": {\"44\": 152}, \"5\": {\"5\": 128}, \"33\": {\"33\": 32}, \"34\": {\"34\": 36}, \"13\": {\"13\": 138}, \"41\": {\"41\": 28}, \"6\": {\"6\": 128}, \"51\": {\"51\": 138}, \"50\": {\"50\": 144}, \"37\": {\"37\": 24}, \"19\": {\"19\": 144}, \"57\": {\"57\": 132}, \"21\": {\"21\": 144}, \"24\": {\"24\": 80}, \"8\": {\"8\": 130}, \"12\": {\"12\": 96}, \"48\": {\"48\": 132}, \"43\": {\"43\": 150}, \"53\": {\"53\": 148}, \"38\": {\"38\": 32}, \"16\": {\"16\": 142}, \"22\": {\"22\": 28}, \"4\": {\"4\": 100}, \"18\": {\"18\": 64}, \"20\": {\"20\": 144}, \"52\": {\"52\": 140}, \"31\": {\"31\": 36}}, \"CORES_1\": {\"41\": {\"41\": 24}, \"40\": {\"40\": 110}, \"45\": {\"45\": 138}, \"51\": {\"51\": 148}, \"5\": {\"5\": 154}, \"30\": {\"30\": 120}, \"42\": {\"42\": 40}, \"46\": {\"46\": 136}, \"48\": {\"48\": 134}, \"53\": {\"53\": 144}, \"47\": {\"47\": 152}, \"49\": {\"49\": 32}, \"36\": {\"36\": 64}, \"32\": {\"32\": 32}, \"34\": {\"34\": 24}, \"29\": {\"29\": 140}, \"35\": {\"35\": 36}, \"3\": {\"3\": 133, \"25\": 1}, \"16\": {\"16\": 140}, \"26\": {\"26\": 24}, \"57\": {\"57\": 144}, \"44\": {\"44\": 128}, \"0\": {\"0\": 152}, \"4\": {\"4\": 132}, \"31\": {\"31\": 28}, \"11\": {\"11\": 140}, \"6\": {\"6\": 96}, \"54\": {\"54\": 104}, \"17\": {\"17\": 64}, \"20\": {\"20\": 128}, \"13\": {\"13\": 150}, \"33\": {\"33\": 32}, \"24\": {\"24\": 106, \"22\": 2}, \"52\": {\"52\": 132}, \"2\": {\"2\": 36}, \"19\": {\"19\": 156}, \"39\": {\"39\": 28}, \"8\": {\"8\": 140}, \"21\": {\"21\": 124}, \"10\": {\"10\": 95, \"15\": 1}, \"37\": {\"37\": 32}, \"25\": {\"25\": 144}, \"27\": {\"27\": 129, \"55\": 1}, \"23\": {\"23\": 136}, \"1\": {\"1\": 100}, \"50\": {\"50\": 152}, \"12\": {\"12\": 116}, \"18\": {\"18\": 72}, \"38\": {\"38\": 24}, \"14\": {\"14\": 24}, \"56\": {\"56\": 141, \"55\": 1}, \"55\": {\"55\": 160}, \"9\": {\"9\": 138}, \"15\": {\"15\": 146}, \"28\": {\"28\": 28}, \"7\": {\"7\": 28}, \"43\": {\"43\": 136}, \"22\": {\"22\": 131, \"24\": 5}}, \"CORES_3\": {\"1\": {\"1\": 100}, \"9\": {\"9\": 124}, \"22\": {\"22\": 136}, \"43\": {\"43\": 136}, \"49\": {\"49\": 20}, \"50\": {\"50\": 138}, \"53\": {\"53\": 136}, \"10\": {\"10\": 64}, \"48\": {\"48\": 116}, \"8\": {\"8\": 138}, \"31\": {\"31\": 28}, \"56\": {\"56\": 134}, \"25\": {\"25\": 142}, \"28\": {\"28\": 28}, \"38\": {\"38\": 28}, \"5\": {\"5\": 116}, \"12\": {\"12\": 92}, \"6\": {\"6\": 88}, \"19\": {\"19\": 152}, \"26\": {\"26\": 24}, \"32\": {\"32\": 28}, \"33\": {\"33\": 28}, \"3\": {\"3\": 118}, \"51\": {\"51\": 128}, \"16\": {\"16\": 138}, \"46\": {\"46\": 140}, \"7\": {\"7\": 36}, \"47\": {\"47\": 92}, \"39\": {\"39\": 16}, \"40\": {\"40\": 136}, \"14\": {\"14\": 40}, \"37\": {\"37\": 28}, \"2\": {\"2\": 32}, \"21\": {\"21\": 120}, \"35\": {\"35\": 28}, \"54\": {\"54\": 100}, \"52\": {\"52\": 116}, \"29\": {\"29\": 118}, \"20\": {\"20\": 132}, \"18\": {\"18\": 84}, \"11\": {\"11\": 142}, \"0\": {\"0\": 124}, \"36\": {\"36\": 100}, \"17\": {\"17\": 108}, \"30\": {\"30\": 114}, \"42\": {\"42\": 28}, \"45\": {\"45\": 60}, \"4\": {\"4\": 148}, \"23\": {\"23\": 134}, \"13\": {\"13\": 128}, \"15\": {\"15\": 128}, \"57\": {\"57\": 124}, \"27\": {\"27\": 134}, \"44\": {\"44\": 88}, \"34\": {\"34\": 32}, \"41\": {\"41\": 28}, \"24\": {\"24\": 104}, \"55\": {\"55\": 118}}, \"CORES_4\": {\"52\": {\"52\": 116}, \"6\": {\"6\": 111, \"3\": 1}, \"14\": {\"14\": 16}, \"49\": {\"49\": 20}, \"0\": {\"0\": 79, \"46\": 1}, \"46\": {\"46\": 156}, \"41\": {\"41\": 36}, \"24\": {\"24\": 56}, \"25\": {\"25\": 152}, \"40\": {\"40\": 138}, \"38\": {\"38\": 40}, \"13\": {\"13\": 152}, \"9\": {\"9\": 108}, \"45\": {\"45\": 96}, \"43\": {\"43\": 144}, \"10\": {\"10\": 130}, \"15\": {\"15\": 127, \"11\": 1}, \"39\": {\"39\": 20}, \"4\": {\"4\": 132}, \"53\": {\"53\": 132}, \"1\": {\"1\": 40}, \"28\": {\"28\": 32}, \"54\": {\"54\": 108}, \"21\": {\"21\": 132}, \"7\": {\"7\": 24}, \"8\": {\"8\": 136}, \"42\": {\"42\": 32}, \"11\": {\"11\": 104}, \"33\": {\"33\": 36}, \"27\": {\"27\": 142}, \"19\": {\"19\": 144}, \"2\": {\"2\": 36}, \"3\": {\"3\": 119, \"50\": 1}, \"57\": {\"57\": 100}, \"20\": {\"20\": 112}, \"23\": {\"23\": 128}, \"22\": {\"22\": 128}, \"29\": {\"29\": 124}, \"36\": {\"36\": 92}, \"51\": {\"51\": 132}, \"31\": {\"31\": 28}, \"12\": {\"12\": 92}, \"56\": {\"56\": 138}, \"5\": {\"5\": 108}, \"35\": {\"35\": 40}, \"17\": {\"17\": 80}, \"32\": {\"32\": 24}, \"47\": {\"47\": 120}, \"18\": {\"18\": 107, \"3\": 1}, \"26\": {\"26\": 24}, \"50\": {\"50\": 122}, \"55\": {\"55\": 124}, \"34\": {\"34\": 24}, \"30\": {\"30\": 44}, \"37\": {\"37\": 24}, \"44\": {\"44\": 132}, \"48\": {\"48\": 118}, \"16\": {\"16\": 96}}, \"CORES_2\": {\"11\": {\"11\": 130}, \"21\": {\"21\": 120}, \"19\": {\"19\": 140}, \"20\": {\"20\": 126, \"21\": 2}, \"9\": {\"9\": 140}, \"10\": {\"10\": 112}, \"37\": {\"37\": 36}, \"32\": {\"32\": 28}, \"3\": {\"3\": 91, \"21\": 1}, \"39\": {\"39\": 28}, \"45\": {\"45\": 127, \"17\": 1}, \"50\": {\"50\": 136}, \"40\": {\"40\": 140}, \"46\": {\"46\": 128}, \"12\": {\"12\": 92}, \"13\": {\"13\": 116}, \"47\": {\"47\": 132}, \"15\": {\"15\": 142}, \"54\": {\"54\": 108}, \"48\": {\"48\": 148}, \"23\": {\"23\": 142}, \"29\": {\"29\": 128}, \"38\": {\"38\": 20}, \"53\": {\"53\": 136}, \"27\": {\"27\": 150}, \"43\": {\"43\": 144}, \"35\": {\"35\": 32}, \"0\": {\"0\": 48}, \"52\": {\"52\": 124}, \"8\": {\"8\": 128}, \"24\": {\"24\": 96}, \"18\": {\"18\": 48}, \"25\": {\"25\": 148}, \"57\": {\"57\": 136}, \"55\": {\"55\": 134}, \"36\": {\"36\": 116}, \"17\": {\"17\": 104}, \"2\": {\"2\": 32}, \"34\": {\"34\": 28}, \"1\": {\"1\": 112}, \"51\": {\"51\": 136}, \"31\": {\"31\": 28}, \"49\": {\"49\": 24}, \"14\": {\"14\": 24}, \"33\": {\"33\": 28}, \"41\": {\"41\": 20}, \"28\": {\"28\": 28}, \"5\": {\"5\": 119, \"31\": 1}, \"16\": {\"16\": 150}, \"4\": {\"4\": 128}, \"22\": {\"22\": 136}, \"6\": {\"6\": 118}, \"30\": {\"30\": 124}, \"26\": {\"26\": 24}, \"56\": {\"56\": 142}, \"42\": {\"42\": 36}, \"44\": {\"44\": 100}, \"7\": {\"7\": 36}}, \"ORACLE.run1_26\": {\"0\": {\"0\": 24, \"8\": 20, \"7\": 23, \"2\": 12, \"1\": 25, \"3\": 14, \"10\": 13, \"9\": 14, \"4\": 15, \"12\": 14, \"14\": 23, \"13\": 11, \"15\": 11, \"11\": 4, \"5\": 5, \"6\": 12}, \"4\": {\"15\": 20, \"6\": 20, \"14\": 20, \"1\": 23, \"2\": 18, \"4\": 25, \"3\": 12, \"9\": 8, \"10\": 22, \"0\": 14, \"8\": 16, \"7\": 17, \"12\": 8, \"13\": 12, \"5\": 5}, \"14\": {\"12\": 14, \"7\": 19, \"4\": 23, \"15\": 15, \"6\": 16, \"10\": 21, \"14\": 17, \"1\": 15, \"3\": 10, \"8\": 20, \"0\": 24, \"13\": 10, \"9\": 11, \"5\": 10, \"2\": 13, \"11\": 2}, \"12\": {\"11\": 49, \"15\": 11, \"0\": 14, \"12\": 58, \"6\": 15, \"5\": 9, \"1\": 4, \"10\": 10, \"13\": 13, \"3\": 2, \"4\": 7, \"8\": 13, \"7\": 7, \"2\": 5, \"14\": 7, \"9\": 16}, \"8\": {\"8\": 10, \"10\": 17, \"7\": 17, \"12\": 15, \"13\": 14, \"15\": 21, \"2\": 22, \"0\": 17, \"4\": 16, \"1\": 20, \"11\": 5, \"6\": 13, \"3\": 13, \"9\": 15, \"14\": 10, \"5\": 15}, \"7\": {\"4\": 19, \"7\": 27, \"2\": 22, \"8\": 21, \"15\": 13, \"3\": 26, \"9\": 11, \"14\": 14, \"6\": 18, \"1\": 18, \"0\": 13, \"10\": 8, \"5\": 15, \"13\": 11, \"11\": 2, \"12\": 2}, \"13\": {\"12\": 25, \"1\": 7, \"7\": 10, \"11\": 9, \"13\": 27, \"0\": 10, \"15\": 16, \"3\": 16, \"5\": 22, \"9\": 24, \"2\": 17, \"10\": 11, \"6\": 19, \"14\": 11, \"4\": 7, \"8\": 9}, \"5\": {\"9\": 18, \"11\": 10, \"7\": 16, \"10\": 9, \"6\": 17, \"2\": 17, \"0\": 16, \"8\": 9, \"15\": 19, \"13\": 19, \"14\": 11, \"1\": 9, \"12\": 16, \"3\": 26, \"4\": 11, \"5\": 17}, \"15\": {\"9\": 16, \"13\": 15, \"12\": 6, \"2\": 26, \"0\": 13, \"5\": 15, \"1\": 10, \"6\": 21, \"15\": 15, \"10\": 20, \"8\": 15, \"3\": 17, \"7\": 14, \"14\": 17, \"4\": 13, \"11\": 7}, \"10\": {\"11\": 6, \"4\": 18, \"14\": 19, \"12\": 14, \"10\": 16, \"9\": 17, \"8\": 13, \"3\": 21, \"15\": 19, \"0\": 19, \"13\": 9, \"2\": 16, \"6\": 10, \"1\": 16, \"7\": 16, \"5\": 11}, \"3\": {\"1\": 21, \"12\": 2, \"4\": 22, \"7\": 23, \"2\": 31, \"10\": 13, \"5\": 13, \"13\": 12, \"14\": 21, \"3\": 21, \"11\": 2, \"0\": 16, \"8\": 14, \"6\": 9, \"9\": 8, \"15\": 12}, \"9\": {\"8\": 15, \"4\": 18, \"10\": 15, \"15\": 18, \"14\": 13, \"6\": 15, \"1\": 10, \"12\": 12, \"3\": 14, \"7\": 19, \"13\": 19, \"5\": 16, \"9\": 20, \"11\": 9, \"2\": 17, \"0\": 10}, \"6\": {\"3\": 10, \"0\": 27, \"6\": 23, \"15\": 11, \"8\": 14, \"10\": 14, \"13\": 17, \"12\": 24, \"1\": 11, \"9\": 11, \"4\": 14, \"2\": 11, \"7\": 12, \"14\": 15, \"11\": 10, \"5\": 16}, \"1\": {\"7\": 23, \"5\": 10, \"9\": 15, \"2\": 16, \"3\": 19, \"8\": 12, \"6\": 18, \"1\": 23, \"0\": 14, \"15\": 16, \"14\": 18, \"11\": 4, \"4\": 18, \"10\": 18, \"12\": 7, \"13\": 9}, \"11\": {\"11\": 104, \"12\": 43, \"6\": 15, \"13\": 25, \"15\": 5, \"8\": 9, \"4\": 5, \"9\": 10, \"3\": 1, \"5\": 9, \"10\": 11, \"14\": 1, \"1\": 1, \"0\": 1}, \"2\": {\"10\": 12, \"8\": 11, \"5\": 14, \"2\": 31, \"13\": 16, \"14\": 23, \"15\": 13, \"4\": 16, \"9\": 21, \"6\": 9, \"7\": 22, \"3\": 24, \"1\": 11, \"0\": 11, \"12\": 5, \"11\": 1}}, \"ORACLE.run1_44\": {\"1\": {\"10\": 44, \"12\": 38, \"1\": 38, \"7\": 22, \"3\": 36, \"2\": 31, \"9\": 9, \"6\": 12, \"11\": 6, \"13\": 4}, \"11\": {\"4\": 16, \"9\": 36, \"7\": 19, \"13\": 40, \"14\": 9, \"6\": 42, \"2\": 6, \"11\": 54, \"1\": 5, \"12\": 3, \"0\": 1, \"10\": 4, \"3\": 3, \"5\": 1, \"15\": 1}, \"3\": {\"12\": 30, \"7\": 21, \"10\": 25, \"6\": 9, \"11\": 8, \"3\": 44, \"9\": 22, \"1\": 44, \"4\": 2, \"2\": 24, \"13\": 10, \"15\": 1}, \"6\": {\"6\": 41, \"11\": 26, \"13\": 42, \"2\": 21, \"10\": 10, \"9\": 28, \"7\": 30, \"14\": 4, \"1\": 7, \"3\": 16, \"12\": 5, \"4\": 8, \"15\": 2}, \"7\": {\"10\": 16, \"7\": 32, \"9\": 34, \"2\": 31, \"6\": 16, \"11\": 18, \"15\": 1, \"13\": 28, \"3\": 25, \"12\": 17, \"4\": 5, \"1\": 14, \"14\": 1, \"5\": 1, \"0\": 1}, \"5\": {\"14\": 36, \"15\": 37, \"5\": 55, \"13\": 6, \"0\": 34, \"4\": 24, \"11\": 3, \"8\": 42, \"9\": 3}, \"2\": {\"12\": 19, \"10\": 32, \"2\": 37, \"9\": 21, \"13\": 13, \"6\": 27, \"11\": 12, \"7\": 34, \"3\": 18, \"1\": 26, \"14\": 1}, \"15\": {\"11\": 4, \"8\": 35, \"0\": 41, \"15\": 39, \"14\": 39, \"5\": 38, \"13\": 4, \"4\": 31, \"7\": 3, \"9\": 2, \"2\": 1, \"3\": 1, \"6\": 2}, \"10\": {\"10\": 56, \"12\": 60, \"3\": 26, \"2\": 34, \"1\": 44, \"7\": 10, \"6\": 5, \"11\": 2, \"9\": 3}, \"13\": {\"2\": 17, \"0\": 2, \"6\": 33, \"11\": 40, \"3\": 9, \"9\": 34, \"4\": 22, \"13\": 37, \"7\": 32, \"14\": 8, \"5\": 1, \"1\": 1, \"15\": 2, \"12\": 2}, \"8\": {\"5\": 42, \"8\": 82, \"14\": 21, \"0\": 44, \"15\": 37, \"4\": 11, \"11\": 1, \"13\": 1, \"7\": 1}, \"4\": {\"14\": 39, \"0\": 17, \"15\": 27, \"9\": 17, \"4\": 52, \"6\": 4, \"8\": 12, \"5\": 31, \"11\": 15, \"13\": 16, \"7\": 5, \"3\": 5}, \"9\": {\"9\": 28, \"7\": 38, \"13\": 29, \"3\": 14, \"4\": 8, \"6\": 33, \"11\": 25, \"2\": 26, \"10\": 10, \"1\": 10, \"14\": 10, \"5\": 2, \"12\": 4, \"15\": 2, \"0\": 1}, \"14\": {\"14\": 52, \"4\": 43, \"15\": 41, \"9\": 8, \"5\": 35, \"13\": 9, \"0\": 18, \"11\": 11, \"6\": 4, \"8\": 14, \"7\": 3, \"1\": 1, \"3\": 1}, \"0\": {\"14\": 25, \"5\": 26, \"0\": 64, \"8\": 75, \"15\": 42, \"4\": 7, \"13\": 1}, \"12\": {\"10\": 52, \"7\": 17, \"3\": 22, \"12\": 50, \"2\": 24, \"9\": 7, \"1\": 55, \"13\": 3, \"11\": 4, \"6\": 6}}, \"ORACLE.run1_50\": {\"15\": {\"5\": 18, \"11\": 38, \"12\": 16, \"9\": 18, \"1\": 25, \"2\": 5, \"4\": 18, \"15\": 40, \"14\": 16, \"13\": 19, \"7\": 10, \"6\": 11, \"8\": 2, \"10\": 2, \"3\": 1, \"0\": 1}, \"4\": {\"15\": 25, \"6\": 25, \"7\": 20, \"11\": 27, \"12\": 12, \"1\": 25, \"4\": 20, \"0\": 4, \"14\": 17, \"13\": 16, \"2\": 10, \"5\": 13, \"10\": 9, \"8\": 4, \"9\": 12, \"3\": 1}, \"6\": {\"14\": 11, \"10\": 10, \"1\": 22, \"2\": 13, \"4\": 19, \"5\": 22, \"7\": 16, \"0\": 7, \"11\": 22, \"9\": 6, \"6\": 31, \"15\": 25, \"13\": 27, \"12\": 7, \"8\": 2}, \"2\": {\"0\": 34, \"2\": 48, \"13\": 18, \"5\": 12, \"4\": 14, \"14\": 24, \"7\": 13, \"3\": 3, \"10\": 26, \"8\": 13, \"1\": 5, \"12\": 11, \"11\": 8, \"15\": 4, \"9\": 1, \"6\": 6}, \"5\": {\"7\": 34, \"5\": 21, \"6\": 25, \"3\": 8, \"15\": 14, \"4\": 25, \"13\": 31, \"1\": 18, \"0\": 9, \"14\": 8, \"9\": 4, \"10\": 13, \"12\": 4, \"8\": 5, \"2\": 10, \"11\": 11}, \"9\": {\"14\": 22, \"12\": 62, \"11\": 41, \"4\": 10, \"9\": 65, \"5\": 4, \"15\": 23, \"2\": 3, \"6\": 3, \"7\": 2, \"1\": 5}, \"8\": {\"8\": 65, \"3\": 51, \"13\": 11, \"10\": 33, \"7\": 16, \"0\": 28, \"1\": 6, \"2\": 16, \"5\": 8, \"4\": 1, \"6\": 3, \"14\": 1, \"11\": 1}, \"12\": {\"9\": 46, \"6\": 2, \"14\": 33, \"15\": 19, \"12\": 63, \"0\": 3, \"4\": 6, \"11\": 42, \"2\": 9, \"5\": 6, \"1\": 7, \"13\": 1, \"7\": 3}, \"10\": {\"13\": 26, \"8\": 35, \"5\": 16, \"1\": 9, \"0\": 25, \"10\": 39, \"7\": 15, \"14\": 8, \"2\": 23, \"3\": 22, \"15\": 5, \"11\": 2, \"4\": 6, \"9\": 1, \"6\": 8}, \"1\": {\"11\": 18, \"6\": 24, \"2\": 12, \"1\": 30, \"5\": 13, \"14\": 20, \"4\": 35, \"0\": 8, \"15\": 23, \"7\": 14, \"10\": 8, \"13\": 13, \"9\": 10, \"8\": 2, \"12\": 10}, \"0\": {\"10\": 35, \"0\": 40, \"6\": 10, \"8\": 22, \"4\": 3, \"2\": 31, \"14\": 15, \"1\": 8, \"5\": 14, \"7\": 16, \"12\": 2, \"3\": 13, \"9\": 6, \"13\": 19, \"11\": 2, \"15\": 4}, \"3\": {\"8\": 57, \"0\": 8, \"13\": 12, \"3\": 114, \"2\": 6, \"5\": 3, \"10\": 26, \"7\": 10, \"1\": 2, \"4\": 1, \"6\": 1}, \"13\": {\"4\": 16, \"14\": 5, \"10\": 20, \"13\": 33, \"15\": 12, \"2\": 13, \"6\": 17, \"1\": 18, \"0\": 15, \"5\": 34, \"7\": 31, \"3\": 8, \"8\": 10, \"11\": 3, \"12\": 4, \"9\": 1}, \"11\": {\"11\": 46, \"5\": 11, \"14\": 34, \"6\": 4, \"15\": 24, \"9\": 40, \"4\": 19, \"12\": 37, \"2\": 4, \"1\": 14, \"0\": 2, \"8\": 1, \"13\": 2, \"7\": 1, \"10\": 1}, \"7\": {\"10\": 24, \"7\": 44, \"8\": 13, \"5\": 20, \"4\": 13, \"0\": 13, \"9\": 1, \"13\": 32, \"1\": 15, \"6\": 19, \"15\": 13, \"2\": 14, \"3\": 11, \"11\": 2, \"14\": 6}, \"14\": {\"11\": 26, \"15\": 22, \"1\": 18, \"6\": 13, \"14\": 44, \"9\": 26, \"4\": 14, \"5\": 9, \"13\": 8, \"12\": 35, \"10\": 4, \"2\": 13, \"0\": 7, \"7\": 1}}, \"ORACLE.run1_38\": {\"15\": {\"15\": 26, \"2\": 27, \"10\": 25, \"13\": 24, \"1\": 23, \"11\": 12, \"12\": 6, \"5\": 13, \"14\": 12, \"6\": 9, \"9\": 6, \"8\": 25, \"0\": 16, \"7\": 10, \"4\": 6}, \"11\": {\"8\": 5, \"11\": 62, \"14\": 49, \"2\": 38, \"10\": 21, \"15\": 13, \"12\": 20, \"13\": 14, \"4\": 4, \"1\": 5, \"5\": 3, \"7\": 2, \"0\": 3, \"6\": 1}, \"10\": {\"0\": 21, \"14\": 21, \"13\": 23, \"12\": 15, \"15\": 21, \"3\": 2, \"8\": 18, \"9\": 7, \"5\": 14, \"2\": 19, \"11\": 14, \"10\": 20, \"6\": 5, \"4\": 15, \"1\": 14, \"7\": 11}, \"14\": {\"2\": 35, \"14\": 49, \"11\": 57, \"15\": 15, \"13\": 23, \"5\": 4, \"10\": 18, \"12\": 14, \"0\": 5, \"4\": 6, \"6\": 1, \"1\": 9, \"8\": 4}, \"6\": {\"6\": 32, \"5\": 22, \"0\": 17, \"8\": 23, \"9\": 33, \"7\": 28, \"1\": 16, \"3\": 27, \"15\": 13, \"13\": 10, \"10\": 8, \"4\": 4, \"12\": 3, \"2\": 3, \"11\": 1}, \"4\": {\"10\": 14, \"14\": 9, \"4\": 75, \"3\": 8, \"15\": 7, \"8\": 10, \"7\": 18, \"0\": 18, \"12\": 55, \"9\": 2, \"2\": 2, \"13\": 5, \"6\": 3, \"5\": 7, \"11\": 6, \"1\": 1}, \"13\": {\"1\": 29, \"8\": 13, \"6\": 7, \"2\": 41, \"14\": 19, \"13\": 34, \"7\": 6, \"15\": 23, \"11\": 14, \"0\": 6, \"10\": 21, \"4\": 2, \"5\": 14, \"3\": 2, \"12\": 7, \"9\": 2}, \"3\": {\"3\": 91, \"7\": 34, \"9\": 27, \"5\": 14, \"6\": 32, \"0\": 21, \"10\": 3, \"1\": 2, \"8\": 10, \"15\": 1, \"4\": 3, \"13\": 2}, \"7\": {\"7\": 36, \"9\": 21, \"0\": 26, \"5\": 19, \"1\": 7, \"12\": 9, \"6\": 34, \"8\": 21, \"3\": 23, \"10\": 12, \"13\": 5, \"2\": 1, \"4\": 17, \"15\": 8, \"14\": 1}, \"8\": {\"6\": 22, \"12\": 19, \"8\": 25, \"1\": 22, \"10\": 21, \"11\": 5, \"5\": 19, \"0\": 22, \"13\": 14, \"7\": 28, \"4\": 5, \"15\": 17, \"3\": 6, \"9\": 11, \"2\": 2, \"14\": 2}, \"1\": {\"8\": 13, \"13\": 33, \"10\": 19, \"1\": 44, \"15\": 23, \"5\": 16, \"0\": 16, \"9\": 10, \"2\": 12, \"12\": 4, \"4\": 2, \"6\": 17, \"14\": 13, \"11\": 11, \"7\": 5, \"3\": 2}, \"5\": {\"10\": 21, \"12\": 11, \"5\": 26, \"8\": 17, \"7\": 31, \"3\": 13, \"15\": 13, \"13\": 13, \"0\": 10, \"2\": 6, \"6\": 27, \"4\": 10, \"1\": 20, \"9\": 20, \"11\": 1, \"14\": 1}, \"0\": {\"10\": 12, \"6\": 19, \"9\": 20, \"7\": 28, \"8\": 17, \"12\": 16, \"3\": 20, \"0\": 28, \"15\": 14, \"5\": 23, \"11\": 3, \"4\": 17, \"1\": 10, \"13\": 8, \"2\": 3, \"14\": 2}, \"2\": {\"8\": 5, \"1\": 14, \"15\": 21, \"2\": 68, \"14\": 26, \"10\": 13, \"11\": 36, \"13\": 40, \"0\": 4, \"9\": 3, \"5\": 5, \"12\": 5}, \"12\": {\"12\": 70, \"10\": 16, \"4\": 54, \"3\": 2, \"7\": 9, \"0\": 16, \"15\": 12, \"5\": 6, \"11\": 14, \"8\": 12, \"6\": 5, \"2\": 4, \"14\": 13, \"13\": 3, \"1\": 4}, \"9\": {\"5\": 21, \"6\": 43, \"8\": 15, \"3\": 37, \"1\": 9, \"7\": 32, \"13\": 8, \"15\": 3, \"9\": 44, \"0\": 16, \"10\": 9, \"12\": 1, \"4\": 2}}, \"ORACLE.run1_20\": {\"10\": {\"6\": 30, \"10\": 27, \"12\": 16, \"15\": 8, \"4\": 13, \"8\": 20, \"3\": 9, \"2\": 14, \"11\": 17, \"13\": 19, \"1\": 6, \"0\": 10, \"7\": 14, \"9\": 8, \"5\": 11, \"14\": 18}, \"7\": {\"5\": 10, \"6\": 18, \"7\": 22, \"8\": 15, \"13\": 14, \"1\": 12, \"4\": 16, \"12\": 15, \"10\": 23, \"3\": 16, \"11\": 16, \"0\": 16, \"9\": 6, \"14\": 18, \"15\": 10, \"2\": 13}, \"4\": {\"4\": 21, \"6\": 18, \"3\": 13, \"15\": 13, \"10\": 20, \"1\": 15, \"13\": 13, \"0\": 16, \"8\": 9, \"11\": 14, \"2\": 9, \"12\": 14, \"14\": 21, \"5\": 14, \"9\": 18, \"7\": 12}, \"13\": {\"4\": 14, \"5\": 21, \"7\": 12, \"15\": 17, \"12\": 18, \"13\": 19, \"8\": 5, \"9\": 13, \"0\": 14, \"2\": 16, \"1\": 21, \"11\": 18, \"6\": 12, \"10\": 12, \"3\": 17, \"14\": 11}, \"1\": {\"2\": 18, \"6\": 10, \"15\": 20, \"9\": 21, \"0\": 15, \"4\": 13, \"8\": 12, \"13\": 21, \"14\": 11, \"12\": 17, \"11\": 11, \"3\": 18, \"7\": 21, \"1\": 13, \"10\": 10, \"5\": 9}, \"0\": {\"2\": 11, \"14\": 6, \"11\": 8, \"10\": 14, \"1\": 27, \"0\": 20, \"15\": 16, \"9\": 14, \"4\": 22, \"8\": 15, \"13\": 19, \"12\": 14, \"5\": 11, \"7\": 14, \"6\": 9, \"3\": 20}, \"12\": {\"4\": 14, \"0\": 18, \"1\": 13, \"9\": 16, \"8\": 9, \"6\": 14, \"10\": 10, \"14\": 22, \"5\": 14, \"7\": 18, \"12\": 13, \"3\": 16, \"15\": 27, \"2\": 13, \"11\": 5, \"13\": 18}, \"5\": {\"4\": 7, \"13\": 23, \"11\": 13, \"7\": 21, \"0\": 23, \"3\": 18, \"14\": 7, \"15\": 17, \"12\": 19, \"1\": 11, \"10\": 18, \"2\": 16, \"9\": 12, \"5\": 14, \"6\": 11, \"8\": 10}, \"6\": {\"8\": 29, \"6\": 35, \"4\": 17, \"13\": 16, \"12\": 7, \"10\": 25, \"3\": 13, \"14\": 26, \"7\": 9, \"0\": 8, \"11\": 23, \"9\": 5, \"5\": 12, \"15\": 4, \"2\": 5, \"1\": 6}, \"2\": {\"12\": 18, \"7\": 23, \"8\": 10, \"11\": 19, \"15\": 11, \"10\": 16, \"14\": 20, \"2\": 15, \"9\": 21, \"0\": 11, \"4\": 8, \"3\": 17, \"13\": 15, \"5\": 14, \"6\": 13, \"1\": 9}, \"8\": {\"8\": 19, \"1\": 10, \"11\": 21, \"5\": 15, \"0\": 13, \"4\": 16, \"2\": 12, \"3\": 11, \"14\": 22, \"13\": 9, \"6\": 25, \"7\": 14, \"9\": 13, \"12\": 16, \"10\": 15, \"15\": 9}, \"11\": {\"10\": 17, \"6\": 30, \"13\": 20, \"2\": 14, \"11\": 45, \"15\": 7, \"14\": 21, \"8\": 12, \"4\": 14, \"3\": 10, \"0\": 9, \"12\": 6, \"9\": 7, \"1\": 8, \"5\": 7, \"7\": 13}, \"9\": {\"5\": 16, \"3\": 16, \"11\": 16, \"1\": 17, \"13\": 24, \"4\": 13, \"2\": 16, \"15\": 17, \"12\": 15, \"8\": 10, \"0\": 15, \"7\": 22, \"10\": 6, \"6\": 12, \"9\": 16, \"14\": 9}, \"14\": {\"6\": 31, \"10\": 28, \"14\": 23, \"13\": 11, \"0\": 5, \"4\": 15, \"8\": 12, \"15\": 15, \"1\": 8, \"5\": 11, \"7\": 14, \"11\": 19, \"9\": 13, \"12\": 13, \"2\": 13, \"3\": 9}, \"15\": {\"9\": 20, \"13\": 22, \"11\": 12, \"0\": 18, \"4\": 11, \"5\": 19, \"3\": 20, \"15\": 20, \"1\": 23, \"10\": 9, \"14\": 6, \"7\": 15, \"8\": 11, \"12\": 17, \"2\": 11, \"6\": 6}, \"3\": {\"1\": 10, \"3\": 17, \"7\": 13, \"5\": 11, \"11\": 8, \"14\": 11, \"10\": 14, \"0\": 24, \"12\": 21, \"8\": 18, \"6\": 19, \"13\": 28, \"2\": 9, \"4\": 15, \"15\": 14, \"9\": 8}}, \"ORACLE.run1_14\": {\"14\": {\"13\": 26, \"1\": 14, \"10\": 22, \"6\": 20, \"4\": 23, \"3\": 15, \"0\": 22, \"5\": 10, \"15\": 4, \"2\": 24, \"14\": 25, \"7\": 11, \"11\": 18, \"8\": 4, \"12\": 1, \"9\": 1}, \"0\": {\"9\": 25, \"10\": 27, \"3\": 9, \"14\": 9, \"11\": 37, \"4\": 15, \"12\": 12, \"13\": 13, \"8\": 16, \"5\": 7, \"0\": 30, \"1\": 15, \"2\": 11, \"7\": 3, \"6\": 11}, \"4\": {\"0\": 10, \"15\": 14, \"2\": 15, \"6\": 14, \"8\": 16, \"1\": 22, \"12\": 1, \"4\": 28, \"11\": 7, \"3\": 17, \"10\": 16, \"7\": 15, \"5\": 18, \"13\": 23, \"14\": 19, \"9\": 5}, \"11\": {\"11\": 45, \"0\": 28, \"9\": 38, \"3\": 15, \"1\": 4, \"8\": 18, \"14\": 7, \"12\": 25, \"4\": 7, \"10\": 32, \"13\": 6, \"5\": 4, \"6\": 7, \"2\": 4}, \"13\": {\"6\": 35, \"13\": 27, \"14\": 23, \"0\": 12, \"2\": 25, \"11\": 10, \"4\": 21, \"1\": 16, \"3\": 17, \"7\": 15, \"15\": 7, \"5\": 14, \"8\": 4, \"10\": 13, \"9\": 1}, \"9\": {\"12\": 55, \"10\": 18, \"9\": 61, \"3\": 17, \"11\": 30, \"0\": 28, \"8\": 15, \"5\": 3, \"1\": 5, \"14\": 4, \"13\": 1, \"4\": 2, \"2\": 1}, \"3\": {\"14\": 16, \"13\": 16, \"11\": 16, \"4\": 21, \"0\": 24, \"3\": 24, \"1\": 16, \"10\": 19, \"2\": 17, \"6\": 17, \"5\": 16, \"8\": 7, \"15\": 8, \"9\": 7, \"7\": 13, \"12\": 3}, \"6\": {\"6\": 36, \"14\": 26, \"2\": 24, \"5\": 16, \"7\": 15, \"13\": 27, \"0\": 10, \"3\": 22, \"4\": 16, \"15\": 22, \"1\": 5, \"11\": 6, \"12\": 1, \"10\": 10, \"8\": 4}, \"1\": {\"7\": 21, \"15\": 14, \"14\": 19, \"1\": 32, \"2\": 16, \"6\": 12, \"4\": 18, \"13\": 14, \"11\": 14, \"3\": 19, \"5\": 18, \"0\": 11, \"10\": 20, \"8\": 12}, \"5\": {\"5\": 28, \"7\": 22, \"6\": 20, \"4\": 27, \"11\": 8, \"14\": 20, \"13\": 18, \"9\": 1, \"10\": 9, \"3\": 15, \"0\": 8, \"15\": 17, \"8\": 7, \"1\": 29, \"2\": 10, \"12\": 1}, \"12\": {\"12\": 104, \"3\": 3, \"8\": 10, \"9\": 64, \"10\": 11, \"11\": 30, \"0\": 14, \"6\": 2, \"4\": 1, \"14\": 1}, \"10\": {\"9\": 18, \"8\": 27, \"10\": 25, \"11\": 39, \"12\": 12, \"5\": 12, \"14\": 11, \"1\": 13, \"4\": 10, \"2\": 5, \"0\": 27, \"6\": 10, \"13\": 13, \"3\": 15, \"15\": 2, \"7\": 1}, \"8\": {\"11\": 21, \"10\": 20, \"0\": 24, \"7\": 8, \"12\": 17, \"2\": 9, \"6\": 7, \"3\": 11, \"9\": 25, \"4\": 9, \"8\": 42, \"5\": 15, \"14\": 9, \"15\": 4, \"1\": 17, \"13\": 2}, \"7\": {\"7\": 51, \"13\": 25, \"5\": 18, \"1\": 20, \"3\": 8, \"15\": 56, \"2\": 20, \"6\": 13, \"14\": 8, \"4\": 15, \"10\": 3, \"0\": 2, \"8\": 1}, \"15\": {\"7\": 65, \"6\": 18, \"15\": 56, \"2\": 24, \"0\": 2, \"5\": 15, \"3\": 7, \"4\": 20, \"13\": 15, \"11\": 1, \"8\": 1, \"1\": 12, \"14\": 2, \"10\": 2}, \"2\": {\"13\": 24, \"14\": 25, \"2\": 22, \"15\": 19, \"7\": 28, \"5\": 20, \"10\": 7, \"4\": 25, \"6\": 15, \"8\": 8, \"9\": 2, \"3\": 14, \"1\": 17, \"11\": 5, \"0\": 7, \"12\": 2}}, \"ORACLE.run1_32\": {\"11\": {\"14\": 33, \"7\": 31, \"8\": 14, \"3\": 37, \"5\": 16, \"11\": 42, \"0\": 11, \"4\": 10, \"15\": 14, \"13\": 17, \"2\": 14, \"9\": 1}, \"1\": {\"10\": 77, \"6\": 38, \"1\": 117, \"9\": 1, \"12\": 7}, \"2\": {\"8\": 7, \"5\": 15, \"0\": 39, \"13\": 16, \"4\": 35, \"2\": 46, \"9\": 26, \"7\": 26, \"15\": 6, \"3\": 4, \"14\": 8, \"12\": 4, \"11\": 8}, \"0\": {\"5\": 18, \"8\": 23, \"2\": 39, \"13\": 30, \"4\": 29, \"7\": 22, \"0\": 27, \"14\": 9, \"11\": 13, \"3\": 10, \"15\": 7, \"9\": 13}, \"3\": {\"13\": 29, \"4\": 11, \"0\": 8, \"15\": 21, \"3\": 63, \"5\": 24, \"11\": 32, \"14\": 19, \"7\": 12, \"2\": 4, \"8\": 17}, \"8\": {\"3\": 24, \"15\": 22, \"14\": 15, \"7\": 23, \"8\": 33, \"5\": 24, \"0\": 24, \"11\": 18, \"13\": 22, \"4\": 16, \"2\": 14, \"9\": 5}, \"12\": {\"9\": 71, \"10\": 15, \"6\": 35, \"12\": 107, \"2\": 1, \"1\": 9, \"7\": 1, \"4\": 1}, \"5\": {\"13\": 33, \"7\": 16, \"8\": 23, \"5\": 24, \"4\": 20, \"11\": 24, \"15\": 14, \"14\": 22, \"0\": 21, \"3\": 24, \"2\": 16, \"9\": 3}, \"15\": {\"15\": 69, \"8\": 41, \"3\": 33, \"7\": 19, \"5\": 18, \"13\": 23, \"11\": 10, \"0\": 6, \"4\": 11, \"14\": 8, \"2\": 2}, \"7\": {\"5\": 13, \"3\": 32, \"13\": 23, \"4\": 33, \"15\": 9, \"14\": 24, \"7\": 16, \"2\": 28, \"11\": 19, \"8\": 15, \"0\": 24, \"9\": 4}, \"4\": {\"8\": 23, \"9\": 16, \"2\": 37, \"11\": 12, \"4\": 24, \"5\": 25, \"13\": 18, \"7\": 18, \"0\": 23, \"14\": 20, \"3\": 13, \"15\": 11}, \"14\": {\"7\": 15, \"0\": 20, \"14\": 31, \"2\": 20, \"5\": 18, \"13\": 21, \"8\": 12, \"3\": 30, \"11\": 46, \"4\": 19, \"15\": 7, \"9\": 1}, \"10\": {\"10\": 99, \"6\": 58, \"1\": 52, \"12\": 27, \"9\": 4}, \"6\": {\"6\": 96, \"10\": 51, \"1\": 31, \"9\": 15, \"12\": 46, \"2\": 1}, \"13\": {\"11\": 15, \"2\": 22, \"0\": 21, \"15\": 16, \"8\": 18, \"5\": 23, \"13\": 29, \"3\": 31, \"14\": 17, \"9\": 3, \"4\": 25, \"7\": 20}, \"9\": {\"0\": 7, \"9\": 114, \"2\": 16, \"12\": 68, \"6\": 8, \"4\": 14, \"7\": 7, \"8\": 1, \"5\": 1, \"13\": 1, \"11\": 1, \"14\": 1, \"10\": 1}}, \"ORACLE.run1_8\": {\"9\": {\"9\": 138, \"5\": 19, \"10\": 15, \"0\": 10, \"1\": 10, \"6\": 6, \"14\": 15, \"8\": 1, \"13\": 8, \"11\": 4, \"7\": 4, \"4\": 9, \"2\": 1}, \"11\": {\"5\": 23, \"14\": 18, \"10\": 16, \"4\": 13, \"11\": 36, \"1\": 23, \"7\": 14, \"15\": 7, \"9\": 5, \"0\": 13, \"3\": 5, \"6\": 17, \"13\": 18, \"2\": 7, \"8\": 17, \"12\": 8}, \"8\": {\"13\": 9, \"1\": 18, \"0\": 20, \"6\": 11, \"7\": 17, \"3\": 19, \"10\": 15, \"15\": 27, \"8\": 17, \"14\": 16, \"5\": 6, \"11\": 9, \"2\": 21, \"12\": 26, \"4\": 9}, \"4\": {\"10\": 17, \"7\": 15, \"4\": 17, \"13\": 22, \"2\": 6, \"3\": 9, \"0\": 19, \"6\": 23, \"14\": 20, \"5\": 25, \"12\": 8, \"11\": 15, \"8\": 14, \"9\": 8, \"1\": 12, \"15\": 10}, \"13\": {\"10\": 21, \"11\": 21, \"15\": 7, \"8\": 21, \"3\": 8, \"0\": 16, \"7\": 15, \"9\": 11, \"6\": 16, \"5\": 18, \"14\": 19, \"1\": 15, \"4\": 18, \"2\": 11, \"13\": 16, \"12\": 7}, \"14\": {\"12\": 5, \"11\": 12, \"0\": 23, \"3\": 10, \"6\": 21, \"13\": 26, \"15\": 11, \"10\": 13, \"2\": 10, \"9\": 13, \"5\": 23, \"14\": 14, \"1\": 25, \"4\": 17, \"8\": 10, \"7\": 7}, \"2\": {\"7\": 16, \"3\": 42, \"13\": 8, \"6\": 11, \"12\": 46, \"2\": 25, \"15\": 25, \"8\": 14, \"4\": 12, \"1\": 7, \"0\": 8, \"5\": 8, \"14\": 8, \"11\": 4, \"9\": 1, \"10\": 5}, \"3\": {\"3\": 41, \"13\": 8, \"7\": 18, \"12\": 34, \"0\": 10, \"15\": 29, \"4\": 10, \"8\": 14, \"1\": 6, \"6\": 13, \"10\": 5, \"2\": 36, \"11\": 7, \"5\": 2, \"14\": 7}, \"1\": {\"15\": 10, \"8\": 10, \"0\": 15, \"9\": 11, \"1\": 31, \"4\": 21, \"11\": 21, \"2\": 3, \"14\": 26, \"7\": 5, \"5\": 18, \"13\": 20, \"10\": 21, \"6\": 15, \"3\": 7, \"12\": 6}, \"0\": {\"11\": 17, \"8\": 11, \"0\": 27, \"6\": 25, \"4\": 13, \"2\": 22, \"14\": 17, \"5\": 12, \"7\": 18, \"1\": 15, \"10\": 13, \"13\": 14, \"9\": 6, \"3\": 10, \"15\": 13, \"12\": 7}, \"5\": {\"0\": 17, \"5\": 32, \"1\": 24, \"11\": 31, \"13\": 22, \"2\": 3, \"12\": 4, \"7\": 12, \"9\": 16, \"4\": 14, \"6\": 20, \"10\": 21, \"14\": 12, \"15\": 5, \"8\": 4, \"3\": 3}, \"15\": {\"3\": 28, \"12\": 46, \"13\": 6, \"15\": 26, \"11\": 12, \"8\": 19, \"6\": 10, \"7\": 20, \"1\": 5, \"10\": 7, \"4\": 10, \"2\": 26, \"14\": 6, \"0\": 12, \"5\": 7}, \"10\": {\"9\": 17, \"7\": 17, \"1\": 19, \"0\": 17, \"13\": 18, \"3\": 9, \"14\": 20, \"11\": 18, \"6\": 15, \"8\": 15, \"10\": 18, \"5\": 22, \"2\": 8, \"4\": 19, \"15\": 4, \"12\": 4}, \"12\": {\"7\": 11, \"3\": 37, \"2\": 21, \"6\": 14, \"15\": 35, \"4\": 12, \"8\": 27, \"1\": 8, \"12\": 35, \"14\": 5, \"13\": 3, \"10\": 9, \"0\": 9, \"5\": 4, \"11\": 10}, \"6\": {\"4\": 17, \"0\": 11, \"8\": 11, \"13\": 22, \"15\": 13, \"7\": 26, \"12\": 10, \"11\": 33, \"1\": 19, \"6\": 21, \"5\": 17, \"10\": 13, \"14\": 11, \"2\": 7, \"3\": 8, \"9\": 1}, \"7\": {\"1\": 15, \"6\": 16, \"0\": 20, \"5\": 13, \"2\": 25, \"3\": 10, \"8\": 13, \"10\": 20, \"14\": 9, \"11\": 9, \"13\": 21, \"12\": 16, \"9\": 4, \"4\": 12, \"15\": 23, \"7\": 14}}}, \"per_domain_accuracy\": {\"CORES_5\": {\"accuracy\": 0.9993016759776536, \"source?\": true}, \"CORES_1\": {\"accuracy\": 0.9981317934782609, \"source?\": true}, \"CORES_3\": {\"accuracy\": 1.0, \"source?\": true}, \"CORES_4\": {\"accuracy\": 0.999058734939759, \"source?\": true}, \"CORES_2\": {\"accuracy\": 0.9991122159090909, \"source?\": true}, \"ORACLE.run1_26\": {\"accuracy\": 0.11927083333333334, \"source?\": false}, \"ORACLE.run1_44\": {\"accuracy\": 0.19817708333333334, \"source?\": false}, \"ORACLE.run1_50\": {\"accuracy\": 0.19348958333333333, \"source?\": false}, \"ORACLE.run1_38\": {\"accuracy\": 0.19010416666666666, \"source?\": false}, \"ORACLE.run1_20\": {\"accuracy\": 0.08828125, \"source?\": false}, \"ORACLE.run1_14\": {\"accuracy\": 0.165625, \"source?\": false}, \"ORACLE.run1_32\": {\"accuracy\": 0.24401041666666667, \"source?\": false}, \"ORACLE.run1_8\": {\"accuracy\": 0.13229166666666667, \"source?\": false}}}, \"history\": {\"epoch_indices\": [1, 2, 3, 4, 5, 6, 7], \"train_label_loss\": [0.02482282913056777, 0.006964238827707394, 0.005098477220140582, 0.0035528834735699595, 0.0029362525477836412, 0.003477260956240525, 0.0033033646799947715], \"source_val_label_loss\": [0.006630427204072475, 0.007477003149688244, 0.007948325015604496, 0.008390198461711407, 0.008152246475219727, 0.00732874171808362, 0.027783887460827827], \"target_val_label_loss\": [2.714189291000366, 2.9841721057891846, 3.1010172367095947, 3.683100938796997, 3.8197855949401855, 4.124484539031982, 3.6237268447875977], \"source_val_acc_label\": [0.9988214285714285, 0.9994285714285714, 0.9991071428571429, 0.9992142857142857, 0.9995357142857143, 0.9993214285714286, 0.9961428571428571], \"target_val_acc_label\": [0.14055989583333334, 0.151171875, 0.16640625, 0.15944010416666668, 0.16608072916666666, 0.15885416666666666, 0.15126953125]}, \"dataset_metrics\": {\"source\": {\"train\": {\"n_unique_x\": 175197, \"n_unique_y\": 58, \"n_batch/episode\": 6292}, \"val\": {\"n_unique_x\": 37151, \"n_unique_y\": 58, \"n_batch/episode\": 875}, \"test\": {\"n_unique_x\": 37548, \"n_unique_y\": 58, \"n_batch/episode\": 885}}, \"target\": {\"train\": {\"n_unique_x\": 179200, \"n_unique_y\": 16, \"n_batch/episode\": 6720}, \"val\": {\"n_unique_x\": 38400, \"n_unique_y\": 16, \"n_batch/episode\": 960}, \"test\": {\"n_unique_x\": 38400, \"n_unique_y\": 16, \"n_batch/episode\": 960}}}}'"
      ]
     },
     "execution_count": 29,
     "metadata": {},
     "output_type": "execute_result"
    }
   ],
   "source": [
    "json.dumps(experiment)"
   ]
  }
 ],
 "metadata": {
  "celltoolbar": "Tags",
  "kernelspec": {
   "display_name": "Python 3 (ipykernel)",
   "language": "python",
   "name": "python3"
  },
  "language_info": {
   "codemirror_mode": {
    "name": "ipython",
    "version": 3
   },
   "file_extension": ".py",
   "mimetype": "text/x-python",
   "name": "python",
   "nbconvert_exporter": "python",
   "pygments_lexer": "ipython3",
   "version": "3.8.12"
  },
  "papermill": {
   "default_parameters": {},
   "duration": 1313.042248,
   "end_time": "2022-03-22T14:11:47.652998",
   "environment_variables": {},
   "exception": null,
   "input_path": "/root/csc500-main/csc500-notebooks/templates/tl_ptn_template.ipynb",
   "output_path": "trial.ipynb",
   "parameters": {
    "parameters": {
     "BEST_MODEL_PATH": "./best_model.pth",
     "NUM_LOGS_PER_EPOCH": 10,
     "criteria_for_best": "target_accuracy",
     "dataset_seed": 7,
     "datasets": [
      {
       "domain_prefix": "CORES_",
       "domains": [
        1,
        2,
        3,
        4,
        5
       ],
       "episode_transforms": [],
       "labels": [
        "1-10.",
        "1-11.",
        "1-15.",
        "1-16.",
        "1-17.",
        "1-18.",
        "1-19.",
        "10-4.",
        "10-7.",
        "11-1.",
        "11-14.",
        "11-17.",
        "11-20.",
        "11-7.",
        "13-20.",
        "13-8.",
        "14-10.",
        "14-11.",
        "14-14.",
        "14-7.",
        "15-1.",
        "15-20.",
        "16-1.",
        "16-16.",
        "17-10.",
        "17-11.",
        "17-2.",
        "19-1.",
        "19-16.",
        "19-19.",
        "19-20.",
        "19-3.",
        "2-10.",
        "2-11.",
        "2-17.",
        "2-18.",
        "2-20.",
        "2-3.",
        "2-4.",
        "2-5.",
        "2-6.",
        "2-7.",
        "2-8.",
        "3-13.",
        "3-18.",
        "3-3.",
        "4-1.",
        "4-10.",
        "4-11.",
        "4-19.",
        "5-5.",
        "6-15.",
        "7-10.",
        "7-14.",
        "8-18.",
        "8-20.",
        "8-3.",
        "8-8."
       ],
       "num_examples_per_domain_per_label": -1,
       "pickle_path": "/root/csc500-main/datasets/cores.stratified_ds.2022A.pkl",
       "source_or_target_dataset": "source",
       "x_transforms": [
        "unit_power"
       ]
      },
      {
       "domain_prefix": "ORACLE.run1_",
       "domains": [
        32,
        38,
        8,
        44,
        14,
        50,
        20,
        26
       ],
       "episode_transforms": [],
       "labels": [
        "3123D52",
        "3123D65",
        "3123D79",
        "3123D80",
        "3123D54",
        "3123D70",
        "3123D7B",
        "3123D89",
        "3123D58",
        "3123D76",
        "3123D7D",
        "3123EFE",
        "3123D64",
        "3123D78",
        "3123D7E",
        "3124E4A"
       ],
       "num_examples_per_domain_per_label": 2000,
       "pickle_path": "/root/csc500-main/datasets/oracle.Run1_10kExamples_stratified_ds.2022A.pkl",
       "source_or_target_dataset": "target",
       "x_transforms": [
        "unit_power"
       ]
      }
     ],
     "device": "cuda",
     "experiment_name": "tl_1v2:cores-oracle.run1.limited",
     "lr": 0.0001,
     "n_epoch": 50,
     "n_query": 2,
     "n_shot": 3,
     "n_way": 16,
     "patience": 3,
     "seed": 7,
     "test_k_factor": 2,
     "torch_default_dtype": "torch.float32",
     "train_k_factor": 3,
     "val_k_factor": 2,
     "x_net": [
      {
       "class": "nnReshape",
       "kargs": {
        "shape": [
         -1,
         1,
         2,
         256
        ]
       }
      },
      {
       "class": "Conv2d",
       "kargs": {
        "bias": false,
        "in_channels": 1,
        "kernel_size": [
         1,
         7
        ],
        "out_channels": 256,
        "padding": [
         0,
         3
        ]
       }
      },
      {
       "class": "ReLU",
       "kargs": {
        "inplace": true
       }
      },
      {
       "class": "BatchNorm2d",
       "kargs": {
        "num_features": 256
       }
      },
      {
       "class": "Conv2d",
       "kargs": {
        "bias": true,
        "in_channels": 256,
        "kernel_size": [
         2,
         7
        ],
        "out_channels": 80,
        "padding": [
         0,
         3
        ]
       }
      },
      {
       "class": "ReLU",
       "kargs": {
        "inplace": true
       }
      },
      {
       "class": "BatchNorm2d",
       "kargs": {
        "num_features": 80
       }
      },
      {
       "class": "Flatten",
       "kargs": {}
      },
      {
       "class": "Linear",
       "kargs": {
        "in_features": 20480,
        "out_features": 256
       }
      },
      {
       "class": "ReLU",
       "kargs": {
        "inplace": true
       }
      },
      {
       "class": "BatchNorm1d",
       "kargs": {
        "num_features": 256
       }
      },
      {
       "class": "Linear",
       "kargs": {
        "in_features": 256,
        "out_features": 256
       }
      }
     ]
    }
   },
   "start_time": "2022-03-22T13:49:54.610750",
   "version": "2.3.4"
  }
 },
 "nbformat": 4,
 "nbformat_minor": 5
}