{
 "cells": [
  {
   "cell_type": "markdown",
   "id": "9fea5f46",
   "metadata": {
    "papermill": {
     "duration": 0.027261,
     "end_time": "2022-03-22T09:04:12.081364",
     "exception": false,
     "start_time": "2022-03-22T09:04:12.054103",
     "status": "completed"
    },
    "tags": []
   },
   "source": [
    "# Transfer Learning Template"
   ]
  },
  {
   "cell_type": "code",
   "execution_count": 1,
   "id": "0902182a",
   "metadata": {
    "execution": {
     "iopub.execute_input": "2022-03-22T09:04:12.147487Z",
     "iopub.status.busy": "2022-03-22T09:04:12.146626Z",
     "iopub.status.idle": "2022-03-22T09:04:14.009870Z",
     "shell.execute_reply": "2022-03-22T09:04:14.009444Z"
    },
    "papermill": {
     "duration": 1.906001,
     "end_time": "2022-03-22T09:04:14.009974",
     "exception": false,
     "start_time": "2022-03-22T09:04:12.103973",
     "status": "completed"
    },
    "tags": []
   },
   "outputs": [],
   "source": [
    "%load_ext autoreload\n",
    "%autoreload 2\n",
    "%matplotlib inline\n",
    "\n",
    "    \n",
    "import os, json, sys, time, random\n",
    "import numpy as np\n",
    "import torch\n",
    "from torch.optim import Adam\n",
    "from  easydict import EasyDict\n",
    "import matplotlib.pyplot as plt\n",
    "\n",
    "from steves_models.steves_ptn import Steves_Prototypical_Network\n",
    "\n",
    "from steves_utils.lazy_iterable_wrapper import Lazy_Iterable_Wrapper\n",
    "from steves_utils.iterable_aggregator import Iterable_Aggregator\n",
    "from steves_utils.ptn_train_eval_test_jig import  PTN_Train_Eval_Test_Jig\n",
    "from steves_utils.torch_sequential_builder import build_sequential\n",
    "from steves_utils.torch_utils import get_dataset_metrics, ptn_confusion_by_domain_over_dataloader\n",
    "from steves_utils.utils_v2 import (per_domain_accuracy_from_confusion, get_datasets_base_path)\n",
    "from steves_utils.PTN.utils import independent_accuracy_assesment\n",
    "\n",
    "from torch.utils.data import DataLoader\n",
    "\n",
    "from steves_utils.stratified_dataset.episodic_accessor import Episodic_Accessor_Factory\n",
    "\n",
    "from steves_utils.ptn_do_report import (\n",
    "    get_loss_curve,\n",
    "    get_results_table,\n",
    "    get_parameters_table,\n",
    "    get_domain_accuracies,\n",
    ")\n",
    "\n",
    "from steves_utils.transforms import get_chained_transform"
   ]
  },
  {
   "cell_type": "markdown",
   "id": "41c840b4",
   "metadata": {
    "papermill": {
     "duration": 0.019261,
     "end_time": "2022-03-22T09:04:14.049196",
     "exception": false,
     "start_time": "2022-03-22T09:04:14.029935",
     "status": "completed"
    },
    "tags": []
   },
   "source": [
    "# Allowed Parameters\n",
    "These are allowed parameters, not defaults\n",
    "Each of these values need to be present in the injected parameters (the notebook will raise an exception if they are not present)\n",
    "\n",
    "Papermill uses the cell tag \"parameters\" to inject the real parameters below this cell.\n",
    "Enable tags to see what I mean"
   ]
  },
  {
   "cell_type": "code",
   "execution_count": 2,
   "id": "fd44eb83",
   "metadata": {
    "execution": {
     "iopub.execute_input": "2022-03-22T09:04:14.094730Z",
     "iopub.status.busy": "2022-03-22T09:04:14.094349Z",
     "iopub.status.idle": "2022-03-22T09:04:14.116234Z",
     "shell.execute_reply": "2022-03-22T09:04:14.115858Z"
    },
    "papermill": {
     "duration": 0.046536,
     "end_time": "2022-03-22T09:04:14.116307",
     "exception": false,
     "start_time": "2022-03-22T09:04:14.069771",
     "status": "completed"
    },
    "tags": []
   },
   "outputs": [],
   "source": [
    "required_parameters = {\n",
    "    \"experiment_name\",\n",
    "    \"lr\",\n",
    "    \"device\",\n",
    "    \"seed\",\n",
    "    \"dataset_seed\",\n",
    "    \"n_shot\",\n",
    "    \"n_query\",\n",
    "    \"n_way\",\n",
    "    \"train_k_factor\",\n",
    "    \"val_k_factor\",\n",
    "    \"test_k_factor\",\n",
    "    \"n_epoch\",\n",
    "    \"patience\",\n",
    "    \"criteria_for_best\",\n",
    "    \"x_net\",\n",
    "    \"datasets\",\n",
    "    \"torch_default_dtype\",\n",
    "    \"NUM_LOGS_PER_EPOCH\",\n",
    "    \"BEST_MODEL_PATH\",\n",
    "    \"x_shape\",\n",
    "}"
   ]
  },
  {
   "cell_type": "code",
   "execution_count": 3,
   "id": "fa3f0049",
   "metadata": {
    "execution": {
     "iopub.execute_input": "2022-03-22T09:04:14.173452Z",
     "iopub.status.busy": "2022-03-22T09:04:14.172411Z",
     "iopub.status.idle": "2022-03-22T09:04:14.194262Z",
     "shell.execute_reply": "2022-03-22T09:04:14.193895Z"
    },
    "papermill": {
     "duration": 0.058285,
     "end_time": "2022-03-22T09:04:14.194333",
     "exception": false,
     "start_time": "2022-03-22T09:04:14.136048",
     "status": "completed"
    },
    "tags": [
     "parameters"
    ]
   },
   "outputs": [],
   "source": [
    "from steves_utils.CORES.utils import (\n",
    "    ALL_NODES,\n",
    "    ALL_NODES_MINIMUM_1000_EXAMPLES,\n",
    "    ALL_DAYS\n",
    ")\n",
    "\n",
    "from steves_utils.ORACLE.utils_v2 import (\n",
    "    ALL_DISTANCES_FEET_NARROWED,\n",
    "    ALL_RUNS,\n",
    "    ALL_SERIAL_NUMBERS,\n",
    ")\n",
    "\n",
    "standalone_parameters = {}\n",
    "standalone_parameters[\"experiment_name\"] = \"STANDALONE PTN\"\n",
    "standalone_parameters[\"lr\"] = 0.001\n",
    "standalone_parameters[\"device\"] = \"cuda\"\n",
    "\n",
    "standalone_parameters[\"seed\"] = 1337\n",
    "standalone_parameters[\"dataset_seed\"] = 1337\n",
    "\n",
    "standalone_parameters[\"n_way\"] = 8\n",
    "standalone_parameters[\"n_shot\"] = 3\n",
    "standalone_parameters[\"n_query\"]  = 2\n",
    "standalone_parameters[\"train_k_factor\"] = 1\n",
    "standalone_parameters[\"val_k_factor\"] = 2\n",
    "standalone_parameters[\"test_k_factor\"] = 2\n",
    "\n",
    "\n",
    "standalone_parameters[\"n_epoch\"] = 50\n",
    "\n",
    "standalone_parameters[\"patience\"] = 10\n",
    "standalone_parameters[\"criteria_for_best\"] = \"source_loss\"\n",
    "\n",
    "standalone_parameters[\"datasets\"] = [\n",
    "    {\n",
    "        \"labels\": ALL_SERIAL_NUMBERS,\n",
    "        \"domains\": ALL_DISTANCES_FEET_NARROWED,\n",
    "        \"num_examples_per_domain_per_label\": 100,\n",
    "        \"pickle_path\": os.path.join(get_datasets_base_path(), \"oracle.Run1_framed_2000Examples_stratified_ds.2022A.pkl\"),\n",
    "        \"source_or_target_dataset\": \"source\",\n",
    "        \"x_transforms\": [\"unit_mag\", \"minus_two\"],\n",
    "        \"episode_transforms\": [],\n",
    "        \"domain_prefix\": \"ORACLE_\"\n",
    "    },\n",
    "    {\n",
    "        \"labels\": ALL_NODES,\n",
    "        \"domains\": ALL_DAYS,\n",
    "        \"num_examples_per_domain_per_label\": 100,\n",
    "        \"pickle_path\": os.path.join(get_datasets_base_path(), \"cores.stratified_ds.2022A.pkl\"),\n",
    "        \"source_or_target_dataset\": \"target\",\n",
    "        \"x_transforms\": [\"unit_power\", \"times_zero\"],\n",
    "        \"episode_transforms\": [],\n",
    "        \"domain_prefix\": \"CORES_\"\n",
    "    }   \n",
    "]\n",
    "\n",
    "standalone_parameters[\"torch_default_dtype\"] = \"torch.float32\" \n",
    "\n",
    "\n",
    "\n",
    "standalone_parameters[\"x_net\"] =     [\n",
    "    {\"class\": \"nnReshape\", \"kargs\": {\"shape\":[-1, 1, 2, 256]}},\n",
    "    {\"class\": \"Conv2d\", \"kargs\": { \"in_channels\":1, \"out_channels\":256, \"kernel_size\":(1,7), \"bias\":False, \"padding\":(0,3), },},\n",
    "    {\"class\": \"ReLU\", \"kargs\": {\"inplace\": True}},\n",
    "    {\"class\": \"BatchNorm2d\", \"kargs\": {\"num_features\":256}},\n",
    "\n",
    "    {\"class\": \"Conv2d\", \"kargs\": { \"in_channels\":256, \"out_channels\":80, \"kernel_size\":(2,7), \"bias\":True, \"padding\":(0,3), },},\n",
    "    {\"class\": \"ReLU\", \"kargs\": {\"inplace\": True}},\n",
    "    {\"class\": \"BatchNorm2d\", \"kargs\": {\"num_features\":80}},\n",
    "    {\"class\": \"Flatten\", \"kargs\": {}},\n",
    "\n",
    "    {\"class\": \"Linear\", \"kargs\": {\"in_features\": 80*256, \"out_features\": 256}}, # 80 units per IQ pair\n",
    "    {\"class\": \"ReLU\", \"kargs\": {\"inplace\": True}},\n",
    "    {\"class\": \"BatchNorm1d\", \"kargs\": {\"num_features\":256}},\n",
    "\n",
    "    {\"class\": \"Linear\", \"kargs\": {\"in_features\": 256, \"out_features\": 256}},\n",
    "]\n",
    "\n",
    "# Parameters relevant to results\n",
    "# These parameters will basically never need to change\n",
    "standalone_parameters[\"NUM_LOGS_PER_EPOCH\"] = 10\n",
    "standalone_parameters[\"BEST_MODEL_PATH\"] = \"./best_model.pth\"\n",
    "\n",
    "\n",
    "\n",
    "\n"
   ]
  },
  {
   "cell_type": "code",
   "execution_count": 4,
   "id": "9a00b284",
   "metadata": {
    "execution": {
     "iopub.execute_input": "2022-03-22T09:04:14.248437Z",
     "iopub.status.busy": "2022-03-22T09:04:14.241503Z",
     "iopub.status.idle": "2022-03-22T09:04:14.269000Z",
     "shell.execute_reply": "2022-03-22T09:04:14.268635Z"
    },
    "papermill": {
     "duration": 0.055121,
     "end_time": "2022-03-22T09:04:14.269070",
     "exception": false,
     "start_time": "2022-03-22T09:04:14.213949",
     "status": "completed"
    },
    "tags": [
     "injected-parameters"
    ]
   },
   "outputs": [],
   "source": [
    "# Parameters\n",
    "parameters = {\n",
    "    \"experiment_name\": \"tl_1v2:cores-oracle.run1.limited\",\n",
    "    \"device\": \"cuda\",\n",
    "    \"lr\": 0.0001,\n",
    "    \"n_shot\": 3,\n",
    "    \"n_query\": 2,\n",
    "    \"train_k_factor\": 3,\n",
    "    \"val_k_factor\": 2,\n",
    "    \"test_k_factor\": 2,\n",
    "    \"torch_default_dtype\": \"torch.float32\",\n",
    "    \"n_epoch\": 50,\n",
    "    \"patience\": 3,\n",
    "    \"criteria_for_best\": \"target_accuracy\",\n",
    "    \"x_net\": [\n",
    "        {\"class\": \"nnReshape\", \"kargs\": {\"shape\": [-1, 1, 2, 256]}},\n",
    "        {\n",
    "            \"class\": \"Conv2d\",\n",
    "            \"kargs\": {\n",
    "                \"in_channels\": 1,\n",
    "                \"out_channels\": 256,\n",
    "                \"kernel_size\": [1, 7],\n",
    "                \"bias\": False,\n",
    "                \"padding\": [0, 3],\n",
    "            },\n",
    "        },\n",
    "        {\"class\": \"ReLU\", \"kargs\": {\"inplace\": True}},\n",
    "        {\"class\": \"BatchNorm2d\", \"kargs\": {\"num_features\": 256}},\n",
    "        {\n",
    "            \"class\": \"Conv2d\",\n",
    "            \"kargs\": {\n",
    "                \"in_channels\": 256,\n",
    "                \"out_channels\": 80,\n",
    "                \"kernel_size\": [2, 7],\n",
    "                \"bias\": True,\n",
    "                \"padding\": [0, 3],\n",
    "            },\n",
    "        },\n",
    "        {\"class\": \"ReLU\", \"kargs\": {\"inplace\": True}},\n",
    "        {\"class\": \"BatchNorm2d\", \"kargs\": {\"num_features\": 80}},\n",
    "        {\"class\": \"Flatten\", \"kargs\": {}},\n",
    "        {\"class\": \"Linear\", \"kargs\": {\"in_features\": 20480, \"out_features\": 256}},\n",
    "        {\"class\": \"ReLU\", \"kargs\": {\"inplace\": True}},\n",
    "        {\"class\": \"BatchNorm1d\", \"kargs\": {\"num_features\": 256}},\n",
    "        {\"class\": \"Linear\", \"kargs\": {\"in_features\": 256, \"out_features\": 256}},\n",
    "    ],\n",
    "    \"NUM_LOGS_PER_EPOCH\": 10,\n",
    "    \"BEST_MODEL_PATH\": \"./best_model.pth\",\n",
    "    \"n_way\": 16,\n",
    "    \"datasets\": [\n",
    "        {\n",
    "            \"labels\": [\n",
    "                \"1-10.\",\n",
    "                \"1-11.\",\n",
    "                \"1-15.\",\n",
    "                \"1-16.\",\n",
    "                \"1-17.\",\n",
    "                \"1-18.\",\n",
    "                \"1-19.\",\n",
    "                \"10-4.\",\n",
    "                \"10-7.\",\n",
    "                \"11-1.\",\n",
    "                \"11-14.\",\n",
    "                \"11-17.\",\n",
    "                \"11-20.\",\n",
    "                \"11-7.\",\n",
    "                \"13-20.\",\n",
    "                \"13-8.\",\n",
    "                \"14-10.\",\n",
    "                \"14-11.\",\n",
    "                \"14-14.\",\n",
    "                \"14-7.\",\n",
    "                \"15-1.\",\n",
    "                \"15-20.\",\n",
    "                \"16-1.\",\n",
    "                \"16-16.\",\n",
    "                \"17-10.\",\n",
    "                \"17-11.\",\n",
    "                \"17-2.\",\n",
    "                \"19-1.\",\n",
    "                \"19-16.\",\n",
    "                \"19-19.\",\n",
    "                \"19-20.\",\n",
    "                \"19-3.\",\n",
    "                \"2-10.\",\n",
    "                \"2-11.\",\n",
    "                \"2-17.\",\n",
    "                \"2-18.\",\n",
    "                \"2-20.\",\n",
    "                \"2-3.\",\n",
    "                \"2-4.\",\n",
    "                \"2-5.\",\n",
    "                \"2-6.\",\n",
    "                \"2-7.\",\n",
    "                \"2-8.\",\n",
    "                \"3-13.\",\n",
    "                \"3-18.\",\n",
    "                \"3-3.\",\n",
    "                \"4-1.\",\n",
    "                \"4-10.\",\n",
    "                \"4-11.\",\n",
    "                \"4-19.\",\n",
    "                \"5-5.\",\n",
    "                \"6-15.\",\n",
    "                \"7-10.\",\n",
    "                \"7-14.\",\n",
    "                \"8-18.\",\n",
    "                \"8-20.\",\n",
    "                \"8-3.\",\n",
    "                \"8-8.\",\n",
    "            ],\n",
    "            \"domains\": [1, 2, 3, 4, 5],\n",
    "            \"num_examples_per_domain_per_label\": -1,\n",
    "            \"pickle_path\": \"/root/csc500-main/datasets/cores.stratified_ds.2022A.pkl\",\n",
    "            \"source_or_target_dataset\": \"target\",\n",
    "            \"x_transforms\": [\"unit_mag\"],\n",
    "            \"episode_transforms\": [],\n",
    "            \"domain_prefix\": \"CORES_\",\n",
    "        },\n",
    "        {\n",
    "            \"labels\": [\n",
    "                \"3123D52\",\n",
    "                \"3123D65\",\n",
    "                \"3123D79\",\n",
    "                \"3123D80\",\n",
    "                \"3123D54\",\n",
    "                \"3123D70\",\n",
    "                \"3123D7B\",\n",
    "                \"3123D89\",\n",
    "                \"3123D58\",\n",
    "                \"3123D76\",\n",
    "                \"3123D7D\",\n",
    "                \"3123EFE\",\n",
    "                \"3123D64\",\n",
    "                \"3123D78\",\n",
    "                \"3123D7E\",\n",
    "                \"3124E4A\",\n",
    "            ],\n",
    "            \"domains\": [32, 38, 8, 44, 14, 50, 20, 26],\n",
    "            \"num_examples_per_domain_per_label\": 2000,\n",
    "            \"pickle_path\": \"/root/csc500-main/datasets/oracle.Run1_10kExamples_stratified_ds.2022A.pkl\",\n",
    "            \"source_or_target_dataset\": \"source\",\n",
    "            \"x_transforms\": [\"unit_mag\"],\n",
    "            \"episode_transforms\": [],\n",
    "            \"domain_prefix\": \"ORACLE.run1_\",\n",
    "        },\n",
    "    ],\n",
    "    \"dataset_seed\": 420,\n",
    "    \"seed\": 420,\n",
    "}\n"
   ]
  },
  {
   "cell_type": "code",
   "execution_count": 5,
   "id": "8fa1cc33",
   "metadata": {
    "execution": {
     "iopub.execute_input": "2022-03-22T09:04:14.316180Z",
     "iopub.status.busy": "2022-03-22T09:04:14.315132Z",
     "iopub.status.idle": "2022-03-22T09:04:14.336952Z",
     "shell.execute_reply": "2022-03-22T09:04:14.336586Z"
    },
    "papermill": {
     "duration": 0.048053,
     "end_time": "2022-03-22T09:04:14.337022",
     "exception": false,
     "start_time": "2022-03-22T09:04:14.288969",
     "status": "completed"
    },
    "tags": []
   },
   "outputs": [],
   "source": [
    "# Set this to True if you want to run this template directly\n",
    "STANDALONE = False\n",
    "if STANDALONE:\n",
    "    print(\"parameters not injected, running with standalone_parameters\")\n",
    "    parameters = standalone_parameters\n",
    "\n",
    "if not 'parameters' in locals() and not 'parameters' in globals():\n",
    "    raise Exception(\"Parameter injection failed\")\n",
    "\n",
    "#Use an easy dict for all the parameters\n",
    "p = EasyDict(parameters)\n",
    "\n",
    "if \"x_shape\" not in p:\n",
    "    p.x_shape = [2,256] # Default to this if we dont supply x_shape\n",
    "\n",
    "\n",
    "supplied_keys = set(p.keys())\n",
    "\n",
    "if  supplied_keys != required_parameters:\n",
    "    print(\"Parameters are incorrect\")\n",
    "    if len(supplied_keys - required_parameters)>0: print(\"Shouldn't have:\", str(supplied_keys - required_parameters))\n",
    "    if len(required_parameters - supplied_keys)>0: print(\"Need to have:\", str(required_parameters - supplied_keys))\n",
    "    raise RuntimeError(\"Parameters are incorrect\")"
   ]
  },
  {
   "cell_type": "code",
   "execution_count": 6,
   "id": "3a028d58",
   "metadata": {
    "execution": {
     "iopub.execute_input": "2022-03-22T09:04:14.381720Z",
     "iopub.status.busy": "2022-03-22T09:04:14.380135Z",
     "iopub.status.idle": "2022-03-22T09:04:14.401750Z",
     "shell.execute_reply": "2022-03-22T09:04:14.401383Z"
    },
    "papermill": {
     "duration": 0.044904,
     "end_time": "2022-03-22T09:04:14.401820",
     "exception": false,
     "start_time": "2022-03-22T09:04:14.356916",
     "status": "completed"
    },
    "tags": []
   },
   "outputs": [],
   "source": [
    "###################################\n",
    "# Set the RNGs and make it all deterministic\n",
    "###################################\n",
    "np.random.seed(p.seed)\n",
    "random.seed(p.seed)\n",
    "torch.manual_seed(p.seed)\n",
    "\n",
    "torch.use_deterministic_algorithms(True) "
   ]
  },
  {
   "cell_type": "code",
   "execution_count": 7,
   "id": "b691acf6",
   "metadata": {
    "execution": {
     "iopub.execute_input": "2022-03-22T09:04:14.446652Z",
     "iopub.status.busy": "2022-03-22T09:04:14.445787Z",
     "iopub.status.idle": "2022-03-22T09:04:14.468451Z",
     "shell.execute_reply": "2022-03-22T09:04:14.467633Z"
    },
    "papermill": {
     "duration": 0.046546,
     "end_time": "2022-03-22T09:04:14.468607",
     "exception": false,
     "start_time": "2022-03-22T09:04:14.422061",
     "status": "completed"
    },
    "tags": []
   },
   "outputs": [],
   "source": [
    "###########################################\n",
    "# The stratified datasets honor this\n",
    "###########################################\n",
    "torch.set_default_dtype(eval(p.torch_default_dtype))"
   ]
  },
  {
   "cell_type": "code",
   "execution_count": 8,
   "id": "b5fba671",
   "metadata": {
    "execution": {
     "iopub.execute_input": "2022-03-22T09:04:14.522096Z",
     "iopub.status.busy": "2022-03-22T09:04:14.521539Z",
     "iopub.status.idle": "2022-03-22T09:04:14.577227Z",
     "shell.execute_reply": "2022-03-22T09:04:14.576419Z"
    },
    "papermill": {
     "duration": 0.080166,
     "end_time": "2022-03-22T09:04:14.577383",
     "exception": false,
     "start_time": "2022-03-22T09:04:14.497217",
     "status": "completed"
    },
    "tags": []
   },
   "outputs": [],
   "source": [
    "###################################\n",
    "# Build the network(s)\n",
    "# Note: It's critical to do this AFTER setting the RNG\n",
    "###################################\n",
    "x_net = build_sequential(p.x_net)"
   ]
  },
  {
   "cell_type": "code",
   "execution_count": 9,
   "id": "5d7e61cc",
   "metadata": {
    "execution": {
     "iopub.execute_input": "2022-03-22T09:04:14.628563Z",
     "iopub.status.busy": "2022-03-22T09:04:14.627629Z",
     "iopub.status.idle": "2022-03-22T09:04:14.650990Z",
     "shell.execute_reply": "2022-03-22T09:04:14.650176Z"
    },
    "papermill": {
     "duration": 0.047311,
     "end_time": "2022-03-22T09:04:14.651144",
     "exception": false,
     "start_time": "2022-03-22T09:04:14.603833",
     "status": "completed"
    },
    "tags": []
   },
   "outputs": [],
   "source": [
    "start_time_secs = time.time()"
   ]
  },
  {
   "cell_type": "code",
   "execution_count": 10,
   "id": "c6b67dfd",
   "metadata": {
    "execution": {
     "iopub.execute_input": "2022-03-22T09:04:14.702780Z",
     "iopub.status.busy": "2022-03-22T09:04:14.702132Z",
     "iopub.status.idle": "2022-03-22T09:04:14.721140Z",
     "shell.execute_reply": "2022-03-22T09:04:14.720336Z"
    },
    "papermill": {
     "duration": 0.042528,
     "end_time": "2022-03-22T09:04:14.721299",
     "exception": false,
     "start_time": "2022-03-22T09:04:14.678771",
     "status": "completed"
    },
    "tags": []
   },
   "outputs": [],
   "source": [
    "p.domains_source = []\n",
    "p.domains_target = []\n",
    "\n",
    "\n",
    "train_original_source = []\n",
    "val_original_source   = []\n",
    "test_original_source  = []\n",
    "\n",
    "train_original_target = []\n",
    "val_original_target   = []\n",
    "test_original_target  = []"
   ]
  },
  {
   "cell_type": "code",
   "execution_count": 11,
   "id": "e3d9c3d3",
   "metadata": {
    "execution": {
     "iopub.execute_input": "2022-03-22T09:04:14.770425Z",
     "iopub.status.busy": "2022-03-22T09:04:14.770061Z",
     "iopub.status.idle": "2022-03-22T09:04:14.788247Z",
     "shell.execute_reply": "2022-03-22T09:04:14.787396Z"
    },
    "papermill": {
     "duration": 0.040932,
     "end_time": "2022-03-22T09:04:14.788418",
     "exception": false,
     "start_time": "2022-03-22T09:04:14.747486",
     "status": "completed"
    },
    "tags": []
   },
   "outputs": [],
   "source": [
    "# global_x_transform_func = lambda x: normalize(x.to(torch.get_default_dtype()), \"unit_power\") # unit_power, unit_mag\n",
    "# global_x_transform_func = lambda x: normalize(x, \"unit_power\") # unit_power, unit_mag"
   ]
  },
  {
   "cell_type": "code",
   "execution_count": 12,
   "id": "acb78fd2",
   "metadata": {
    "execution": {
     "iopub.execute_input": "2022-03-22T09:04:14.849275Z",
     "iopub.status.busy": "2022-03-22T09:04:14.844622Z",
     "iopub.status.idle": "2022-03-22T09:04:14.866006Z",
     "shell.execute_reply": "2022-03-22T09:04:14.865189Z"
    },
    "papermill": {
     "duration": 0.050934,
     "end_time": "2022-03-22T09:04:14.866163",
     "exception": false,
     "start_time": "2022-03-22T09:04:14.815229",
     "status": "completed"
    },
    "tags": []
   },
   "outputs": [],
   "source": [
    "def add_dataset(\n",
    "    labels,\n",
    "    domains,\n",
    "    pickle_path,\n",
    "    x_transforms,\n",
    "    episode_transforms,\n",
    "    domain_prefix,\n",
    "    num_examples_per_domain_per_label,\n",
    "    source_or_target_dataset:str,\n",
    "    iterator_seed=p.seed,\n",
    "    dataset_seed=p.dataset_seed,\n",
    "    n_shot=p.n_shot,\n",
    "    n_way=p.n_way,\n",
    "    n_query=p.n_query,\n",
    "    train_val_test_k_factors=(p.train_k_factor,p.val_k_factor,p.test_k_factor),\n",
    "):\n",
    "   \n",
    "    if x_transforms == []: x_transform = None\n",
    "    else: x_transform = get_chained_transform(x_transforms)\n",
    "    \n",
    "    if episode_transforms == []: episode_transform = None\n",
    "    else: raise Exception(\"episode_transforms not implemented\")\n",
    "    \n",
    "    episode_transform = lambda tup, _prefix=domain_prefix: (_prefix + str(tup[0]), tup[1])\n",
    "\n",
    "\n",
    "    eaf = Episodic_Accessor_Factory(\n",
    "        labels=labels,\n",
    "        domains=domains,\n",
    "        num_examples_per_domain_per_label=num_examples_per_domain_per_label,\n",
    "        iterator_seed=iterator_seed,\n",
    "        dataset_seed=dataset_seed,\n",
    "        n_shot=n_shot,\n",
    "        n_way=n_way,\n",
    "        n_query=n_query,\n",
    "        train_val_test_k_factors=train_val_test_k_factors,\n",
    "        pickle_path=pickle_path,\n",
    "        x_transform_func=x_transform,\n",
    "    )\n",
    "\n",
    "    train, val, test = eaf.get_train(), eaf.get_val(), eaf.get_test()\n",
    "    train = Lazy_Iterable_Wrapper(train, episode_transform)\n",
    "    val = Lazy_Iterable_Wrapper(val, episode_transform)\n",
    "    test = Lazy_Iterable_Wrapper(test, episode_transform)\n",
    "\n",
    "    if source_or_target_dataset==\"source\":\n",
    "        train_original_source.append(train)\n",
    "        val_original_source.append(val)\n",
    "        test_original_source.append(test)\n",
    "\n",
    "        p.domains_source.extend(\n",
    "            [domain_prefix + str(u) for u in domains]\n",
    "        )\n",
    "    elif source_or_target_dataset==\"target\":\n",
    "        train_original_target.append(train)\n",
    "        val_original_target.append(val)\n",
    "        test_original_target.append(test)\n",
    "        p.domains_target.extend(\n",
    "            [domain_prefix + str(u) for u in domains]\n",
    "        )\n",
    "    else:\n",
    "        raise Exception(f\"invalid source_or_target_dataset: {source_or_target_dataset}\")\n",
    "    "
   ]
  },
  {
   "cell_type": "code",
   "execution_count": 13,
   "id": "fe266617",
   "metadata": {
    "execution": {
     "iopub.execute_input": "2022-03-22T09:04:14.916934Z",
     "iopub.status.busy": "2022-03-22T09:04:14.915935Z",
     "iopub.status.idle": "2022-03-22T09:04:59.999460Z",
     "shell.execute_reply": "2022-03-22T09:04:59.998634Z"
    },
    "papermill": {
     "duration": 45.107242,
     "end_time": "2022-03-22T09:04:59.999667",
     "exception": false,
     "start_time": "2022-03-22T09:04:14.892425",
     "status": "completed"
    },
    "tags": []
   },
   "outputs": [],
   "source": [
    "for ds in p.datasets:\n",
    "    add_dataset(**ds)"
   ]
  },
  {
   "cell_type": "code",
   "execution_count": 14,
   "id": "b90d65ac",
   "metadata": {
    "execution": {
     "iopub.execute_input": "2022-03-22T09:05:00.055213Z",
     "iopub.status.busy": "2022-03-22T09:05:00.054833Z",
     "iopub.status.idle": "2022-03-22T09:05:00.076442Z",
     "shell.execute_reply": "2022-03-22T09:05:00.075574Z"
    },
    "papermill": {
     "duration": 0.046305,
     "end_time": "2022-03-22T09:05:00.076612",
     "exception": false,
     "start_time": "2022-03-22T09:05:00.030307",
     "status": "completed"
    },
    "tags": []
   },
   "outputs": [],
   "source": [
    "# from steves_utils.CORES.utils import (\n",
    "#     ALL_NODES,\n",
    "#     ALL_NODES_MINIMUM_1000_EXAMPLES,\n",
    "#     ALL_DAYS\n",
    "# )\n",
    "\n",
    "# add_dataset(\n",
    "#     labels=ALL_NODES,\n",
    "#     domains = ALL_DAYS,\n",
    "#     num_examples_per_domain_per_label=100,\n",
    "#     pickle_path=os.path.join(get_datasets_base_path(), \"cores.stratified_ds.2022A.pkl\"),\n",
    "#     source_or_target_dataset=\"target\",\n",
    "#     x_transform_func=global_x_transform_func,\n",
    "#     domain_modifier=lambda u: f\"cores_{u}\"\n",
    "# )"
   ]
  },
  {
   "cell_type": "code",
   "execution_count": 15,
   "id": "76db484d",
   "metadata": {
    "execution": {
     "iopub.execute_input": "2022-03-22T09:05:00.129925Z",
     "iopub.status.busy": "2022-03-22T09:05:00.129355Z",
     "iopub.status.idle": "2022-03-22T09:05:00.150987Z",
     "shell.execute_reply": "2022-03-22T09:05:00.150150Z"
    },
    "papermill": {
     "duration": 0.046743,
     "end_time": "2022-03-22T09:05:00.151156",
     "exception": false,
     "start_time": "2022-03-22T09:05:00.104413",
     "status": "completed"
    },
    "tags": []
   },
   "outputs": [],
   "source": [
    "# from steves_utils.ORACLE.utils_v2 import (\n",
    "#     ALL_DISTANCES_FEET,\n",
    "#     ALL_RUNS,\n",
    "#     ALL_SERIAL_NUMBERS,\n",
    "# )\n",
    "\n",
    "\n",
    "# add_dataset(\n",
    "#     labels=ALL_SERIAL_NUMBERS,\n",
    "#     domains = list(set(ALL_DISTANCES_FEET) - {2,62}),\n",
    "#     num_examples_per_domain_per_label=100,\n",
    "#     pickle_path=os.path.join(get_datasets_base_path(), \"oracle.Run2_framed_2000Examples_stratified_ds.2022A.pkl\"),\n",
    "#     source_or_target_dataset=\"source\",\n",
    "#     x_transform_func=global_x_transform_func,\n",
    "#     domain_modifier=lambda u: f\"oracle1_{u}\"\n",
    "# )\n"
   ]
  },
  {
   "cell_type": "code",
   "execution_count": 16,
   "id": "97dea9d2",
   "metadata": {
    "execution": {
     "iopub.execute_input": "2022-03-22T09:05:00.203069Z",
     "iopub.status.busy": "2022-03-22T09:05:00.202691Z",
     "iopub.status.idle": "2022-03-22T09:05:00.219785Z",
     "shell.execute_reply": "2022-03-22T09:05:00.218932Z"
    },
    "papermill": {
     "duration": 0.041811,
     "end_time": "2022-03-22T09:05:00.219952",
     "exception": false,
     "start_time": "2022-03-22T09:05:00.178141",
     "status": "completed"
    },
    "tags": []
   },
   "outputs": [],
   "source": [
    "# from steves_utils.ORACLE.utils_v2 import (\n",
    "#     ALL_DISTANCES_FEET,\n",
    "#     ALL_RUNS,\n",
    "#     ALL_SERIAL_NUMBERS,\n",
    "# )\n",
    "\n",
    "\n",
    "# add_dataset(\n",
    "#     labels=ALL_SERIAL_NUMBERS,\n",
    "#     domains = list(set(ALL_DISTANCES_FEET) - {2,62,56}),\n",
    "#     num_examples_per_domain_per_label=100,\n",
    "#     pickle_path=os.path.join(get_datasets_base_path(), \"oracle.Run2_framed_2000Examples_stratified_ds.2022A.pkl\"),\n",
    "#     source_or_target_dataset=\"source\",\n",
    "#     x_transform_func=global_x_transform_func,\n",
    "#     domain_modifier=lambda u: f\"oracle2_{u}\"\n",
    "# )"
   ]
  },
  {
   "cell_type": "code",
   "execution_count": 17,
   "id": "6f289866",
   "metadata": {
    "execution": {
     "iopub.execute_input": "2022-03-22T09:05:00.271797Z",
     "iopub.status.busy": "2022-03-22T09:05:00.271409Z",
     "iopub.status.idle": "2022-03-22T09:05:00.293344Z",
     "shell.execute_reply": "2022-03-22T09:05:00.292580Z"
    },
    "papermill": {
     "duration": 0.047459,
     "end_time": "2022-03-22T09:05:00.293512",
     "exception": false,
     "start_time": "2022-03-22T09:05:00.246053",
     "status": "completed"
    },
    "tags": []
   },
   "outputs": [],
   "source": [
    "# add_dataset(\n",
    "#     labels=list(range(19)),\n",
    "#     domains = [0,1,2],\n",
    "#     num_examples_per_domain_per_label=100,\n",
    "#     pickle_path=os.path.join(get_datasets_base_path(), \"metehan.stratified_ds.2022A.pkl\"),\n",
    "#     source_or_target_dataset=\"target\",\n",
    "#     x_transform_func=global_x_transform_func,\n",
    "#     domain_modifier=lambda u: f\"met_{u}\"\n",
    "# )"
   ]
  },
  {
   "cell_type": "code",
   "execution_count": 18,
   "id": "86a863c3",
   "metadata": {
    "execution": {
     "iopub.execute_input": "2022-03-22T09:05:00.346080Z",
     "iopub.status.busy": "2022-03-22T09:05:00.345702Z",
     "iopub.status.idle": "2022-03-22T09:05:00.367042Z",
     "shell.execute_reply": "2022-03-22T09:05:00.366314Z"
    },
    "papermill": {
     "duration": 0.046286,
     "end_time": "2022-03-22T09:05:00.367213",
     "exception": false,
     "start_time": "2022-03-22T09:05:00.320927",
     "status": "completed"
    },
    "tags": []
   },
   "outputs": [],
   "source": [
    "# # from steves_utils.wisig.utils import (\n",
    "# #     ALL_NODES_MINIMUM_100_EXAMPLES,\n",
    "# #     ALL_NODES_MINIMUM_500_EXAMPLES,\n",
    "# #     ALL_NODES_MINIMUM_1000_EXAMPLES,\n",
    "# #     ALL_DAYS\n",
    "# # )\n",
    "\n",
    "# import steves_utils.wisig.utils as wisig\n",
    "\n",
    "\n",
    "# add_dataset(\n",
    "#     labels=wisig.ALL_NODES_MINIMUM_100_EXAMPLES,\n",
    "#     domains = wisig.ALL_DAYS,\n",
    "#     num_examples_per_domain_per_label=100,\n",
    "#     pickle_path=os.path.join(get_datasets_base_path(), \"wisig.node3-19.stratified_ds.2022A.pkl\"),\n",
    "#     source_or_target_dataset=\"target\",\n",
    "#     x_transform_func=global_x_transform_func,\n",
    "#     domain_modifier=lambda u: f\"wisig_{u}\"\n",
    "# )"
   ]
  },
  {
   "cell_type": "code",
   "execution_count": 19,
   "id": "fd5442bc",
   "metadata": {
    "execution": {
     "iopub.execute_input": "2022-03-22T09:05:00.426913Z",
     "iopub.status.busy": "2022-03-22T09:05:00.426146Z",
     "iopub.status.idle": "2022-03-22T09:05:00.445923Z",
     "shell.execute_reply": "2022-03-22T09:05:00.445097Z"
    },
    "papermill": {
     "duration": 0.049921,
     "end_time": "2022-03-22T09:05:00.446092",
     "exception": false,
     "start_time": "2022-03-22T09:05:00.396171",
     "status": "completed"
    },
    "tags": []
   },
   "outputs": [],
   "source": [
    "###################################\n",
    "# Build the dataset\n",
    "###################################\n",
    "train_original_source = Iterable_Aggregator(train_original_source, p.seed)\n",
    "val_original_source = Iterable_Aggregator(val_original_source, p.seed)\n",
    "test_original_source = Iterable_Aggregator(test_original_source, p.seed)\n",
    "\n",
    "\n",
    "train_original_target = Iterable_Aggregator(train_original_target, p.seed)\n",
    "val_original_target = Iterable_Aggregator(val_original_target, p.seed)\n",
    "test_original_target = Iterable_Aggregator(test_original_target, p.seed)\n",
    "\n",
    "# For CNN We only use X and Y. And we only train on the source.\n",
    "# Properly form the data using a transform lambda and Lazy_Iterable_Wrapper. Finally wrap them in a dataloader\n",
    "\n",
    "transform_lambda = lambda ex: ex[1] # Original is (<domain>, <episode>) so we strip down to episode only\n",
    "\n",
    "train_processed_source = Lazy_Iterable_Wrapper(train_original_source, transform_lambda)\n",
    "val_processed_source   = Lazy_Iterable_Wrapper(val_original_source, transform_lambda)\n",
    "test_processed_source  = Lazy_Iterable_Wrapper(test_original_source, transform_lambda)\n",
    "\n",
    "train_processed_target = Lazy_Iterable_Wrapper(train_original_target, transform_lambda)\n",
    "val_processed_target   = Lazy_Iterable_Wrapper(val_original_target, transform_lambda)\n",
    "test_processed_target  = Lazy_Iterable_Wrapper(test_original_target, transform_lambda)\n",
    "\n",
    "datasets = EasyDict({\n",
    "    \"source\": {\n",
    "        \"original\": {\"train\":train_original_source, \"val\":val_original_source, \"test\":test_original_source},\n",
    "        \"processed\": {\"train\":train_processed_source, \"val\":val_processed_source, \"test\":test_processed_source}\n",
    "    },\n",
    "    \"target\": {\n",
    "        \"original\": {\"train\":train_original_target, \"val\":val_original_target, \"test\":test_original_target},\n",
    "        \"processed\": {\"train\":train_processed_target, \"val\":val_processed_target, \"test\":test_processed_target}\n",
    "    },\n",
    "})"
   ]
  },
  {
   "cell_type": "code",
   "execution_count": 20,
   "id": "5b3c01fc",
   "metadata": {
    "execution": {
     "iopub.execute_input": "2022-03-22T09:05:00.501191Z",
     "iopub.status.busy": "2022-03-22T09:05:00.500808Z",
     "iopub.status.idle": "2022-03-22T09:05:15.177971Z",
     "shell.execute_reply": "2022-03-22T09:05:15.177084Z"
    },
    "papermill": {
     "duration": 14.704837,
     "end_time": "2022-03-22T09:05:15.178155",
     "exception": false,
     "start_time": "2022-03-22T09:05:00.473318",
     "status": "completed"
    },
    "tags": []
   },
   "outputs": [
    {
     "name": "stdout",
     "output_type": "stream",
     "text": [
      "{'ORACLE.run1_8', 'ORACLE.run1_38', 'ORACLE.run1_32', 'ORACLE.run1_44', 'ORACLE.run1_50', 'ORACLE.run1_20', 'ORACLE.run1_14', 'ORACLE.run1_26'}\n"
     ]
    },
    {
     "name": "stdout",
     "output_type": "stream",
     "text": [
      "{'CORES_2', 'CORES_5', 'CORES_1', 'CORES_4', 'CORES_3'}\n"
     ]
    },
    {
     "name": "stdout",
     "output_type": "stream",
     "text": [
      "tensor([[[-0.2221,  0.2554,  0.3664,  ..., -0.6884,  1.0770,  1.2103],\n",
      "         [-1.0659, -0.3109,  0.4886,  ..., -1.1659, -1.5434, -0.2332]],\n",
      "\n",
      "        [[-0.3575,  0.2418, -0.8411,  ..., -0.4206, -1.2302,  0.0841],\n",
      "         [ 0.2103, -0.5257,  0.2944,  ...,  1.1671, -0.6098, -0.5467]],\n",
      "\n",
      "        [[-1.0630, -0.8650,  0.3022,  ..., -1.0213,  0.3960,  0.0938],\n",
      "         [ 0.8025, -0.5211, -1.2402,  ...,  0.1459, -1.1360,  0.8963]],\n",
      "\n",
      "        ...,\n",
      "\n",
      "        [[-0.7518,  0.4418,  0.2713,  ..., -0.5503,  0.6976, -0.8991],\n",
      "         [-0.8603,  0.5193,  1.1781,  ...,  0.8836,  1.3564,  0.0078]],\n",
      "\n",
      "        [[-1.2636,  0.3425, -0.1446,  ..., -1.6670,  0.7383,  1.2940],\n",
      "         [ 0.9286,  0.5785,  0.1979,  ..., -1.7659, -1.1266, -0.5709]],\n",
      "\n",
      "        [[-1.6067, -0.6503, -0.2372,  ...,  0.3366,  0.9334,  1.2854],\n",
      "         [-0.7881,  0.6121,  0.0995,  ..., -0.6733,  0.0995, -0.0153]]])\n"
     ]
    }
   ],
   "source": [
    "from steves_utils.transforms import get_average_magnitude, get_average_power\n",
    "\n",
    "print(set([u for u,_ in val_original_source]))\n",
    "print(set([u for u,_ in val_original_target]))\n",
    "\n",
    "s_x, s_y, q_x, q_y, _ = next(iter(train_processed_source))\n",
    "print(s_x)\n",
    "\n",
    "# for ds in [\n",
    "#     train_processed_source,\n",
    "#     val_processed_source,\n",
    "#     test_processed_source,\n",
    "#     train_processed_target,\n",
    "#     val_processed_target,\n",
    "#     test_processed_target\n",
    "# ]:\n",
    "#     for s_x, s_y, q_x, q_y, _ in ds:\n",
    "#         for X in (s_x, q_x):\n",
    "#             for x in X:\n",
    "#                 assert np.isclose(get_average_magnitude(x.numpy()), 1.0)\n",
    "#                 assert np.isclose(get_average_power(x.numpy()), 1.0)\n",
    "                "
   ]
  },
  {
   "cell_type": "code",
   "execution_count": 21,
   "id": "bbdacba1",
   "metadata": {
    "execution": {
     "iopub.execute_input": "2022-03-22T09:05:15.235711Z",
     "iopub.status.busy": "2022-03-22T09:05:15.235017Z",
     "iopub.status.idle": "2022-03-22T09:05:15.456312Z",
     "shell.execute_reply": "2022-03-22T09:05:15.456955Z"
    },
    "papermill": {
     "duration": 0.248963,
     "end_time": "2022-03-22T09:05:15.457192",
     "exception": false,
     "start_time": "2022-03-22T09:05:15.208229",
     "status": "completed"
    },
    "tags": []
   },
   "outputs": [
    {
     "name": "stdout",
     "output_type": "stream",
     "text": [
      "(2, 256)\n"
     ]
    }
   ],
   "source": [
    "###################################\n",
    "# Build the model\n",
    "###################################\n",
    "# easfsl only wants a tuple for the shape\n",
    "model = Steves_Prototypical_Network(x_net, device=p.device, x_shape=tuple(p.x_shape))\n",
    "optimizer = Adam(params=model.parameters(), lr=p.lr)"
   ]
  },
  {
   "cell_type": "code",
   "execution_count": 22,
   "id": "22b39ac5",
   "metadata": {
    "execution": {
     "iopub.execute_input": "2022-03-22T09:05:15.508830Z",
     "iopub.status.busy": "2022-03-22T09:05:15.508451Z",
     "iopub.status.idle": "2022-03-22T09:42:44.928465Z",
     "shell.execute_reply": "2022-03-22T09:42:44.928119Z"
    },
    "papermill": {
     "duration": 2249.44514,
     "end_time": "2022-03-22T09:42:44.928552",
     "exception": false,
     "start_time": "2022-03-22T09:05:15.483412",
     "status": "completed"
    },
    "tags": []
   },
   "outputs": [
    {
     "name": "stdout",
     "output_type": "stream",
     "text": [
      "epoch: 1, [batch: 1 / 6720], examples_per_second: 32.4302, train_label_loss: 2.7851, \n"
     ]
    },
    {
     "name": "stdout",
     "output_type": "stream",
     "text": [
      "epoch: 1, [batch: 672 / 6720], examples_per_second: 3333.3045, train_label_loss: 2.7963, \n"
     ]
    },
    {
     "name": "stdout",
     "output_type": "stream",
     "text": [
      "epoch: 1, [batch: 1344 / 6720], examples_per_second: 3294.0667, train_label_loss: 1.4883, \n"
     ]
    },
    {
     "name": "stdout",
     "output_type": "stream",
     "text": [
      "epoch: 1, [batch: 2016 / 6720], examples_per_second: 3387.9726, train_label_loss: 2.1525, \n"
     ]
    },
    {
     "name": "stdout",
     "output_type": "stream",
     "text": [
      "epoch: 1, [batch: 2688 / 6720], examples_per_second: 3407.9771, train_label_loss: 1.4321, \n"
     ]
    },
    {
     "name": "stdout",
     "output_type": "stream",
     "text": [
      "epoch: 1, [batch: 3360 / 6720], examples_per_second: 3787.4116, train_label_loss: 1.4483, \n"
     ]
    },
    {
     "name": "stdout",
     "output_type": "stream",
     "text": [
      "epoch: 1, [batch: 4032 / 6720], examples_per_second: 3791.0449, train_label_loss: 1.8631, \n"
     ]
    },
    {
     "name": "stdout",
     "output_type": "stream",
     "text": [
      "epoch: 1, [batch: 4704 / 6720], examples_per_second: 3134.4393, train_label_loss: 0.9817, \n"
     ]
    },
    {
     "name": "stdout",
     "output_type": "stream",
     "text": [
      "epoch: 1, [batch: 5376 / 6720], examples_per_second: 3494.5288, train_label_loss: 1.5694, \n"
     ]
    },
    {
     "name": "stdout",
     "output_type": "stream",
     "text": [
      "epoch: 1, [batch: 6048 / 6720], examples_per_second: 3521.9656, train_label_loss: 1.0016, \n"
     ]
    },
    {
     "name": "stdout",
     "output_type": "stream",
     "text": [
      "=============================================================\n",
      "epoch: 1, source_val_acc_label: 0.5443, target_val_acc_label: 0.9566, source_val_label_loss: 1.2051, target_val_label_loss: 0.1694, \n",
      "=============================================================\n"
     ]
    },
    {
     "name": "stdout",
     "output_type": "stream",
     "text": [
      "New best\n"
     ]
    },
    {
     "name": "stdout",
     "output_type": "stream",
     "text": [
      "epoch: 2, [batch: 1 / 6720], examples_per_second: 2.8848, train_label_loss: 1.6239, \n"
     ]
    },
    {
     "name": "stdout",
     "output_type": "stream",
     "text": [
      "epoch: 2, [batch: 672 / 6720], examples_per_second: 2996.6607, train_label_loss: 1.4458, \n"
     ]
    },
    {
     "name": "stdout",
     "output_type": "stream",
     "text": [
      "epoch: 2, [batch: 1344 / 6720], examples_per_second: 2995.9815, train_label_loss: 1.0636, \n"
     ]
    },
    {
     "name": "stdout",
     "output_type": "stream",
     "text": [
      "epoch: 2, [batch: 2016 / 6720], examples_per_second: 2963.3626, train_label_loss: 1.0628, \n"
     ]
    },
    {
     "name": "stdout",
     "output_type": "stream",
     "text": [
      "epoch: 2, [batch: 2688 / 6720], examples_per_second: 2970.1116, train_label_loss: 1.1556, \n"
     ]
    },
    {
     "name": "stdout",
     "output_type": "stream",
     "text": [
      "epoch: 2, [batch: 3360 / 6720], examples_per_second: 2993.0917, train_label_loss: 0.7958, \n"
     ]
    },
    {
     "name": "stdout",
     "output_type": "stream",
     "text": [
      "epoch: 2, [batch: 4032 / 6720], examples_per_second: 2951.6996, train_label_loss: 0.7853, \n"
     ]
    },
    {
     "name": "stdout",
     "output_type": "stream",
     "text": [
      "epoch: 2, [batch: 4704 / 6720], examples_per_second: 3058.8336, train_label_loss: 0.8571, \n"
     ]
    },
    {
     "name": "stdout",
     "output_type": "stream",
     "text": [
      "epoch: 2, [batch: 5376 / 6720], examples_per_second: 3410.5679, train_label_loss: 0.8525, \n"
     ]
    },
    {
     "name": "stdout",
     "output_type": "stream",
     "text": [
      "epoch: 2, [batch: 6048 / 6720], examples_per_second: 3411.5959, train_label_loss: 0.9252, \n"
     ]
    },
    {
     "name": "stdout",
     "output_type": "stream",
     "text": [
      "=============================================================\n",
      "epoch: 2, source_val_acc_label: 0.5958, target_val_acc_label: 0.9611, source_val_label_loss: 1.0627, target_val_label_loss: 0.1804, \n",
      "=============================================================\n"
     ]
    },
    {
     "name": "stdout",
     "output_type": "stream",
     "text": [
      "New best\n"
     ]
    },
    {
     "name": "stdout",
     "output_type": "stream",
     "text": [
      "epoch: 3, [batch: 1 / 6720], examples_per_second: 2.8917, train_label_loss: 0.6843, \n"
     ]
    },
    {
     "name": "stdout",
     "output_type": "stream",
     "text": [
      "epoch: 3, [batch: 672 / 6720], examples_per_second: 3020.5598, train_label_loss: 0.7401, \n"
     ]
    },
    {
     "name": "stdout",
     "output_type": "stream",
     "text": [
      "epoch: 3, [batch: 1344 / 6720], examples_per_second: 2998.6634, train_label_loss: 1.4492, \n"
     ]
    },
    {
     "name": "stdout",
     "output_type": "stream",
     "text": [
      "epoch: 3, [batch: 2016 / 6720], examples_per_second: 3000.8166, train_label_loss: 1.0217, \n"
     ]
    },
    {
     "name": "stdout",
     "output_type": "stream",
     "text": [
      "epoch: 3, [batch: 2688 / 6720], examples_per_second: 3035.3760, train_label_loss: 0.9756, \n"
     ]
    },
    {
     "name": "stdout",
     "output_type": "stream",
     "text": [
      "epoch: 3, [batch: 3360 / 6720], examples_per_second: 2965.3473, train_label_loss: 0.6644, \n"
     ]
    },
    {
     "name": "stdout",
     "output_type": "stream",
     "text": [
      "epoch: 3, [batch: 4032 / 6720], examples_per_second: 2987.5129, train_label_loss: 0.4599, \n"
     ]
    },
    {
     "name": "stdout",
     "output_type": "stream",
     "text": [
      "epoch: 3, [batch: 4704 / 6720], examples_per_second: 3004.1671, train_label_loss: 0.8168, \n"
     ]
    },
    {
     "name": "stdout",
     "output_type": "stream",
     "text": [
      "epoch: 3, [batch: 5376 / 6720], examples_per_second: 3377.3377, train_label_loss: 0.6806, \n"
     ]
    },
    {
     "name": "stdout",
     "output_type": "stream",
     "text": [
      "epoch: 3, [batch: 6048 / 6720], examples_per_second: 3368.1534, train_label_loss: 0.5863, \n"
     ]
    },
    {
     "name": "stdout",
     "output_type": "stream",
     "text": [
      "=============================================================\n",
      "epoch: 3, source_val_acc_label: 0.6028, target_val_acc_label: 0.9594, source_val_label_loss: 1.0558, target_val_label_loss: 0.2080, \n",
      "=============================================================\n"
     ]
    },
    {
     "name": "stdout",
     "output_type": "stream",
     "text": [
      "epoch: 4, [batch: 1 / 6720], examples_per_second: 2.8652, train_label_loss: 0.9633, \n"
     ]
    },
    {
     "name": "stdout",
     "output_type": "stream",
     "text": [
      "epoch: 4, [batch: 672 / 6720], examples_per_second: 3003.2708, train_label_loss: 1.1631, \n"
     ]
    },
    {
     "name": "stdout",
     "output_type": "stream",
     "text": [
      "epoch: 4, [batch: 1344 / 6720], examples_per_second: 2999.1493, train_label_loss: 0.6885, \n"
     ]
    },
    {
     "name": "stdout",
     "output_type": "stream",
     "text": [
      "epoch: 4, [batch: 2016 / 6720], examples_per_second: 3001.5755, train_label_loss: 0.4220, \n"
     ]
    },
    {
     "name": "stdout",
     "output_type": "stream",
     "text": [
      "epoch: 4, [batch: 2688 / 6720], examples_per_second: 2946.5799, train_label_loss: 1.1003, \n"
     ]
    },
    {
     "name": "stdout",
     "output_type": "stream",
     "text": [
      "epoch: 4, [batch: 3360 / 6720], examples_per_second: 2943.5779, train_label_loss: 1.2995, \n"
     ]
    },
    {
     "name": "stdout",
     "output_type": "stream",
     "text": [
      "epoch: 4, [batch: 4032 / 6720], examples_per_second: 3036.7333, train_label_loss: 0.4534, \n"
     ]
    },
    {
     "name": "stdout",
     "output_type": "stream",
     "text": [
      "epoch: 4, [batch: 4704 / 6720], examples_per_second: 3037.1966, train_label_loss: 0.6997, \n"
     ]
    },
    {
     "name": "stdout",
     "output_type": "stream",
     "text": [
      "epoch: 4, [batch: 5376 / 6720], examples_per_second: 3479.2537, train_label_loss: 0.5779, \n"
     ]
    },
    {
     "name": "stdout",
     "output_type": "stream",
     "text": [
      "epoch: 4, [batch: 6048 / 6720], examples_per_second: 3393.0851, train_label_loss: 0.8296, \n"
     ]
    },
    {
     "name": "stdout",
     "output_type": "stream",
     "text": [
      "=============================================================\n",
      "epoch: 4, source_val_acc_label: 0.6078, target_val_acc_label: 0.9552, source_val_label_loss: 1.0745, target_val_label_loss: 0.2379, \n",
      "=============================================================\n"
     ]
    },
    {
     "name": "stdout",
     "output_type": "stream",
     "text": [
      "epoch: 5, [batch: 1 / 6720], examples_per_second: 2.8801, train_label_loss: 0.5991, \n"
     ]
    },
    {
     "name": "stdout",
     "output_type": "stream",
     "text": [
      "epoch: 5, [batch: 672 / 6720], examples_per_second: 2995.3360, train_label_loss: 0.8268, \n"
     ]
    },
    {
     "name": "stdout",
     "output_type": "stream",
     "text": [
      "epoch: 5, [batch: 1344 / 6720], examples_per_second: 2995.7850, train_label_loss: 0.5961, \n"
     ]
    },
    {
     "name": "stdout",
     "output_type": "stream",
     "text": [
      "epoch: 5, [batch: 2016 / 6720], examples_per_second: 3002.5058, train_label_loss: 0.4162, \n"
     ]
    },
    {
     "name": "stdout",
     "output_type": "stream",
     "text": [
      "epoch: 5, [batch: 2688 / 6720], examples_per_second: 2918.4990, train_label_loss: 0.8033, \n"
     ]
    },
    {
     "name": "stdout",
     "output_type": "stream",
     "text": [
      "epoch: 5, [batch: 3360 / 6720], examples_per_second: 3015.3604, train_label_loss: 0.6932, \n"
     ]
    },
    {
     "name": "stdout",
     "output_type": "stream",
     "text": [
      "epoch: 5, [batch: 4032 / 6720], examples_per_second: 3109.6239, train_label_loss: 0.4784, \n"
     ]
    },
    {
     "name": "stdout",
     "output_type": "stream",
     "text": [
      "epoch: 5, [batch: 4704 / 6720], examples_per_second: 3439.8431, train_label_loss: 0.9740, \n"
     ]
    },
    {
     "name": "stdout",
     "output_type": "stream",
     "text": [
      "epoch: 5, [batch: 5376 / 6720], examples_per_second: 3729.1118, train_label_loss: 0.9239, \n"
     ]
    },
    {
     "name": "stdout",
     "output_type": "stream",
     "text": [
      "epoch: 5, [batch: 6048 / 6720], examples_per_second: 3688.9943, train_label_loss: 0.5931, \n"
     ]
    },
    {
     "name": "stdout",
     "output_type": "stream",
     "text": [
      "=============================================================\n",
      "epoch: 5, source_val_acc_label: 0.6043, target_val_acc_label: 0.9615, source_val_label_loss: 1.1111, target_val_label_loss: 0.2397, \n",
      "=============================================================\n"
     ]
    },
    {
     "name": "stdout",
     "output_type": "stream",
     "text": [
      "New best\n"
     ]
    },
    {
     "name": "stdout",
     "output_type": "stream",
     "text": [
      "epoch: 6, [batch: 1 / 6720], examples_per_second: 3.4207, train_label_loss: 0.5254, \n"
     ]
    },
    {
     "name": "stdout",
     "output_type": "stream",
     "text": [
      "epoch: 6, [batch: 672 / 6720], examples_per_second: 3903.6702, train_label_loss: 0.4763, \n"
     ]
    },
    {
     "name": "stdout",
     "output_type": "stream",
     "text": [
      "epoch: 6, [batch: 1344 / 6720], examples_per_second: 3101.3350, train_label_loss: 0.6610, \n"
     ]
    },
    {
     "name": "stdout",
     "output_type": "stream",
     "text": [
      "epoch: 6, [batch: 2016 / 6720], examples_per_second: 2956.3947, train_label_loss: 1.0831, \n"
     ]
    },
    {
     "name": "stdout",
     "output_type": "stream",
     "text": [
      "epoch: 6, [batch: 2688 / 6720], examples_per_second: 2974.8940, train_label_loss: 0.4041, \n"
     ]
    },
    {
     "name": "stdout",
     "output_type": "stream",
     "text": [
      "epoch: 6, [batch: 3360 / 6720], examples_per_second: 2985.9452, train_label_loss: 0.4949, \n"
     ]
    },
    {
     "name": "stdout",
     "output_type": "stream",
     "text": [
      "epoch: 6, [batch: 4032 / 6720], examples_per_second: 2962.2457, train_label_loss: 0.3396, \n"
     ]
    },
    {
     "name": "stdout",
     "output_type": "stream",
     "text": [
      "epoch: 6, [batch: 4704 / 6720], examples_per_second: 3026.5101, train_label_loss: 0.1746, \n"
     ]
    },
    {
     "name": "stdout",
     "output_type": "stream",
     "text": [
      "epoch: 6, [batch: 5376 / 6720], examples_per_second: 3429.2815, train_label_loss: 1.0106, \n"
     ]
    },
    {
     "name": "stdout",
     "output_type": "stream",
     "text": [
      "epoch: 6, [batch: 6048 / 6720], examples_per_second: 3419.6544, train_label_loss: 0.1161, \n"
     ]
    },
    {
     "name": "stdout",
     "output_type": "stream",
     "text": [
      "=============================================================\n",
      "epoch: 6, source_val_acc_label: 0.6116, target_val_acc_label: 0.9590, source_val_label_loss: 1.1675, target_val_label_loss: 0.2717, \n",
      "=============================================================\n"
     ]
    },
    {
     "name": "stdout",
     "output_type": "stream",
     "text": [
      "epoch: 7, [batch: 1 / 6720], examples_per_second: 2.9107, train_label_loss: 0.8891, \n"
     ]
    },
    {
     "name": "stdout",
     "output_type": "stream",
     "text": [
      "epoch: 7, [batch: 672 / 6720], examples_per_second: 2997.1350, train_label_loss: 0.8452, \n"
     ]
    },
    {
     "name": "stdout",
     "output_type": "stream",
     "text": [
      "epoch: 7, [batch: 1344 / 6720], examples_per_second: 2999.5741, train_label_loss: 0.4392, \n"
     ]
    },
    {
     "name": "stdout",
     "output_type": "stream",
     "text": [
      "epoch: 7, [batch: 2016 / 6720], examples_per_second: 3056.7540, train_label_loss: 0.3472, \n"
     ]
    },
    {
     "name": "stdout",
     "output_type": "stream",
     "text": [
      "epoch: 7, [batch: 2688 / 6720], examples_per_second: 3030.4600, train_label_loss: 0.4690, \n"
     ]
    },
    {
     "name": "stdout",
     "output_type": "stream",
     "text": [
      "epoch: 7, [batch: 3360 / 6720], examples_per_second: 3001.5393, train_label_loss: 0.2666, \n"
     ]
    },
    {
     "name": "stdout",
     "output_type": "stream",
     "text": [
      "epoch: 7, [batch: 4032 / 6720], examples_per_second: 3005.8279, train_label_loss: 0.3749, \n"
     ]
    },
    {
     "name": "stdout",
     "output_type": "stream",
     "text": [
      "epoch: 7, [batch: 4704 / 6720], examples_per_second: 2951.6154, train_label_loss: 0.4740, \n"
     ]
    },
    {
     "name": "stdout",
     "output_type": "stream",
     "text": [
      "epoch: 7, [batch: 5376 / 6720], examples_per_second: 3380.5746, train_label_loss: 0.8245, \n"
     ]
    },
    {
     "name": "stdout",
     "output_type": "stream",
     "text": [
      "epoch: 7, [batch: 6048 / 6720], examples_per_second: 3441.7533, train_label_loss: 0.2643, \n"
     ]
    },
    {
     "name": "stdout",
     "output_type": "stream",
     "text": [
      "=============================================================\n",
      "epoch: 7, source_val_acc_label: 0.6137, target_val_acc_label: 0.9616, source_val_label_loss: 1.2475, target_val_label_loss: 0.3039, \n",
      "=============================================================\n"
     ]
    },
    {
     "name": "stdout",
     "output_type": "stream",
     "text": [
      "New best\n"
     ]
    },
    {
     "name": "stdout",
     "output_type": "stream",
     "text": [
      "epoch: 8, [batch: 1 / 6720], examples_per_second: 2.8849, train_label_loss: 0.3922, \n"
     ]
    },
    {
     "name": "stdout",
     "output_type": "stream",
     "text": [
      "epoch: 8, [batch: 672 / 6720], examples_per_second: 2934.7392, train_label_loss: 0.4503, \n"
     ]
    },
    {
     "name": "stdout",
     "output_type": "stream",
     "text": [
      "epoch: 8, [batch: 1344 / 6720], examples_per_second: 2963.7702, train_label_loss: 0.2230, \n"
     ]
    },
    {
     "name": "stdout",
     "output_type": "stream",
     "text": [
      "epoch: 8, [batch: 2016 / 6720], examples_per_second: 2963.9330, train_label_loss: 0.2291, \n"
     ]
    },
    {
     "name": "stdout",
     "output_type": "stream",
     "text": [
      "epoch: 8, [batch: 2688 / 6720], examples_per_second: 2948.4769, train_label_loss: 0.2851, \n"
     ]
    },
    {
     "name": "stdout",
     "output_type": "stream",
     "text": [
      "epoch: 8, [batch: 3360 / 6720], examples_per_second: 2947.1186, train_label_loss: 0.5174, \n"
     ]
    },
    {
     "name": "stdout",
     "output_type": "stream",
     "text": [
      "epoch: 8, [batch: 4032 / 6720], examples_per_second: 3094.2776, train_label_loss: 0.7093, \n"
     ]
    },
    {
     "name": "stdout",
     "output_type": "stream",
     "text": [
      "epoch: 8, [batch: 4704 / 6720], examples_per_second: 2954.7458, train_label_loss: 0.1485, \n"
     ]
    },
    {
     "name": "stdout",
     "output_type": "stream",
     "text": [
      "epoch: 8, [batch: 5376 / 6720], examples_per_second: 3469.1481, train_label_loss: 0.4667, \n"
     ]
    },
    {
     "name": "stdout",
     "output_type": "stream",
     "text": [
      "epoch: 8, [batch: 6048 / 6720], examples_per_second: 3366.5490, train_label_loss: 0.6848, \n"
     ]
    },
    {
     "name": "stdout",
     "output_type": "stream",
     "text": [
      "=============================================================\n",
      "epoch: 8, source_val_acc_label: 0.6070, target_val_acc_label: 0.9614, source_val_label_loss: 1.3113, target_val_label_loss: 0.3275, \n",
      "=============================================================\n"
     ]
    },
    {
     "name": "stdout",
     "output_type": "stream",
     "text": [
      "epoch: 9, [batch: 1 / 6720], examples_per_second: 2.9567, train_label_loss: 0.4193, \n"
     ]
    },
    {
     "name": "stdout",
     "output_type": "stream",
     "text": [
      "epoch: 9, [batch: 672 / 6720], examples_per_second: 3016.6217, train_label_loss: 0.7148, \n"
     ]
    },
    {
     "name": "stdout",
     "output_type": "stream",
     "text": [
      "epoch: 9, [batch: 1344 / 6720], examples_per_second: 2989.5220, train_label_loss: 0.1613, \n"
     ]
    },
    {
     "name": "stdout",
     "output_type": "stream",
     "text": [
      "epoch: 9, [batch: 2016 / 6720], examples_per_second: 3076.0919, train_label_loss: 0.3017, \n"
     ]
    },
    {
     "name": "stdout",
     "output_type": "stream",
     "text": [
      "epoch: 9, [batch: 2688 / 6720], examples_per_second: 2993.7476, train_label_loss: 0.1788, \n"
     ]
    },
    {
     "name": "stdout",
     "output_type": "stream",
     "text": [
      "epoch: 9, [batch: 3360 / 6720], examples_per_second: 2970.8226, train_label_loss: 0.9411, \n"
     ]
    },
    {
     "name": "stdout",
     "output_type": "stream",
     "text": [
      "epoch: 9, [batch: 4032 / 6720], examples_per_second: 3014.2138, train_label_loss: 0.0988, \n"
     ]
    },
    {
     "name": "stdout",
     "output_type": "stream",
     "text": [
      "epoch: 9, [batch: 4704 / 6720], examples_per_second: 2931.5866, train_label_loss: 0.3773, \n"
     ]
    },
    {
     "name": "stdout",
     "output_type": "stream",
     "text": [
      "epoch: 9, [batch: 5376 / 6720], examples_per_second: 3377.9406, train_label_loss: 0.0351, \n"
     ]
    },
    {
     "name": "stdout",
     "output_type": "stream",
     "text": [
      "epoch: 9, [batch: 6048 / 6720], examples_per_second: 3453.9849, train_label_loss: 0.1372, \n"
     ]
    },
    {
     "name": "stdout",
     "output_type": "stream",
     "text": [
      "=============================================================\n",
      "epoch: 9, source_val_acc_label: 0.6046, target_val_acc_label: 0.9591, source_val_label_loss: 1.3964, target_val_label_loss: 0.3559, \n",
      "=============================================================\n"
     ]
    },
    {
     "name": "stdout",
     "output_type": "stream",
     "text": [
      "epoch: 10, [batch: 1 / 6720], examples_per_second: 2.9230, train_label_loss: 0.1969, \n"
     ]
    },
    {
     "name": "stdout",
     "output_type": "stream",
     "text": [
      "epoch: 10, [batch: 672 / 6720], examples_per_second: 3111.3408, train_label_loss: 0.1756, \n"
     ]
    },
    {
     "name": "stdout",
     "output_type": "stream",
     "text": [
      "epoch: 10, [batch: 1344 / 6720], examples_per_second: 3379.2286, train_label_loss: 0.2031, \n"
     ]
    },
    {
     "name": "stdout",
     "output_type": "stream",
     "text": [
      "epoch: 10, [batch: 2016 / 6720], examples_per_second: 3375.5480, train_label_loss: 0.4868, \n"
     ]
    },
    {
     "name": "stdout",
     "output_type": "stream",
     "text": [
      "epoch: 10, [batch: 2688 / 6720], examples_per_second: 3356.6646, train_label_loss: 0.0720, \n"
     ]
    },
    {
     "name": "stdout",
     "output_type": "stream",
     "text": [
      "epoch: 10, [batch: 3360 / 6720], examples_per_second: 3385.4907, train_label_loss: 0.1200, \n"
     ]
    },
    {
     "name": "stdout",
     "output_type": "stream",
     "text": [
      "epoch: 10, [batch: 4032 / 6720], examples_per_second: 3471.4972, train_label_loss: 0.1222, \n"
     ]
    },
    {
     "name": "stdout",
     "output_type": "stream",
     "text": [
      "epoch: 10, [batch: 4704 / 6720], examples_per_second: 3486.0477, train_label_loss: 0.1717, \n"
     ]
    },
    {
     "name": "stdout",
     "output_type": "stream",
     "text": [
      "epoch: 10, [batch: 5376 / 6720], examples_per_second: 3745.6553, train_label_loss: 0.4281, \n"
     ]
    },
    {
     "name": "stdout",
     "output_type": "stream",
     "text": [
      "epoch: 10, [batch: 6048 / 6720], examples_per_second: 3732.3708, train_label_loss: 0.0920, \n"
     ]
    },
    {
     "name": "stdout",
     "output_type": "stream",
     "text": [
      "=============================================================\n",
      "epoch: 10, source_val_acc_label: 0.5990, target_val_acc_label: 0.9600, source_val_label_loss: 1.4878, target_val_label_loss: 0.3786, \n",
      "=============================================================\n"
     ]
    },
    {
     "name": "stdout",
     "output_type": "stream",
     "text": [
      "epoch: 11, [batch: 1 / 6720], examples_per_second: 3.3280, train_label_loss: 0.0955, \n"
     ]
    },
    {
     "name": "stdout",
     "output_type": "stream",
     "text": [
      "epoch: 11, [batch: 672 / 6720], examples_per_second: 3393.7409, train_label_loss: 0.4099, \n"
     ]
    },
    {
     "name": "stdout",
     "output_type": "stream",
     "text": [
      "epoch: 11, [batch: 1344 / 6720], examples_per_second: 3362.2441, train_label_loss: 0.5085, \n"
     ]
    },
    {
     "name": "stdout",
     "output_type": "stream",
     "text": [
      "epoch: 11, [batch: 2016 / 6720], examples_per_second: 3412.2063, train_label_loss: 0.3280, \n"
     ]
    },
    {
     "name": "stdout",
     "output_type": "stream",
     "text": [
      "epoch: 11, [batch: 2688 / 6720], examples_per_second: 3411.7439, train_label_loss: 0.1571, \n"
     ]
    },
    {
     "name": "stdout",
     "output_type": "stream",
     "text": [
      "epoch: 11, [batch: 3360 / 6720], examples_per_second: 3454.3773, train_label_loss: 0.4555, \n"
     ]
    },
    {
     "name": "stdout",
     "output_type": "stream",
     "text": [
      "epoch: 11, [batch: 4032 / 6720], examples_per_second: 3384.3472, train_label_loss: 0.4587, \n"
     ]
    },
    {
     "name": "stdout",
     "output_type": "stream",
     "text": [
      "epoch: 11, [batch: 4704 / 6720], examples_per_second: 3476.2084, train_label_loss: 0.3964, \n"
     ]
    },
    {
     "name": "stdout",
     "output_type": "stream",
     "text": [
      "epoch: 11, [batch: 5376 / 6720], examples_per_second: 3663.6579, train_label_loss: 0.3930, \n"
     ]
    },
    {
     "name": "stdout",
     "output_type": "stream",
     "text": [
      "epoch: 11, [batch: 6048 / 6720], examples_per_second: 3643.8612, train_label_loss: 0.1694, \n"
     ]
    },
    {
     "name": "stdout",
     "output_type": "stream",
     "text": [
      "=============================================================\n",
      "epoch: 11, source_val_acc_label: 0.5964, target_val_acc_label: 0.9557, source_val_label_loss: 1.6122, target_val_label_loss: 0.4357, \n",
      "=============================================================\n"
     ]
    },
    {
     "name": "stdout",
     "output_type": "stream",
     "text": [
      "Patience (3) exhausted\n"
     ]
    }
   ],
   "source": [
    "###################################\n",
    "# train\n",
    "###################################\n",
    "jig = PTN_Train_Eval_Test_Jig(model, p.BEST_MODEL_PATH, p.device)\n",
    "\n",
    "jig.train(\n",
    "    train_iterable=datasets.source.processed.train,\n",
    "    source_val_iterable=datasets.source.processed.val,\n",
    "    target_val_iterable=datasets.target.processed.val,\n",
    "    num_epochs=p.n_epoch,\n",
    "    num_logs_per_epoch=p.NUM_LOGS_PER_EPOCH,\n",
    "    patience=p.patience,\n",
    "    optimizer=optimizer,\n",
    "    criteria_for_best=p.criteria_for_best,\n",
    ")"
   ]
  },
  {
   "cell_type": "code",
   "execution_count": 23,
   "id": "31e8fabf",
   "metadata": {
    "execution": {
     "iopub.execute_input": "2022-03-22T09:42:45.046825Z",
     "iopub.status.busy": "2022-03-22T09:42:45.046440Z",
     "iopub.status.idle": "2022-03-22T09:42:45.079325Z",
     "shell.execute_reply": "2022-03-22T09:42:45.078631Z"
    },
    "papermill": {
     "duration": 0.094071,
     "end_time": "2022-03-22T09:42:45.079504",
     "exception": false,
     "start_time": "2022-03-22T09:42:44.985433",
     "status": "completed"
    },
    "tags": []
   },
   "outputs": [],
   "source": [
    "total_experiment_time_secs = time.time() - start_time_secs"
   ]
  },
  {
   "cell_type": "code",
   "execution_count": 24,
   "id": "87b9595b",
   "metadata": {
    "execution": {
     "iopub.execute_input": "2022-03-22T09:42:45.207933Z",
     "iopub.status.busy": "2022-03-22T09:42:45.207510Z",
     "iopub.status.idle": "2022-03-22T09:45:33.533110Z",
     "shell.execute_reply": "2022-03-22T09:45:33.532374Z"
    },
    "papermill": {
     "duration": 168.389107,
     "end_time": "2022-03-22T09:45:33.533300",
     "exception": false,
     "start_time": "2022-03-22T09:42:45.144193",
     "status": "completed"
    },
    "tags": []
   },
   "outputs": [],
   "source": [
    "###################################\n",
    "# Evaluate the model\n",
    "###################################\n",
    "source_test_label_accuracy, source_test_label_loss = jig.test(datasets.source.processed.test)\n",
    "target_test_label_accuracy, target_test_label_loss = jig.test(datasets.target.processed.test)\n",
    "\n",
    "source_val_label_accuracy, source_val_label_loss = jig.test(datasets.source.processed.val)\n",
    "target_val_label_accuracy, target_val_label_loss = jig.test(datasets.target.processed.val)\n",
    "\n",
    "history = jig.get_history()\n",
    "\n",
    "total_epochs_trained = len(history[\"epoch_indices\"])\n",
    "\n",
    "val_dl = Iterable_Aggregator((datasets.source.original.val,datasets.target.original.val))\n",
    "\n",
    "confusion = ptn_confusion_by_domain_over_dataloader(model, p.device, val_dl)\n",
    "per_domain_accuracy = per_domain_accuracy_from_confusion(confusion)\n",
    "\n",
    "# Add a key to per_domain_accuracy for if it was a source domain\n",
    "for domain, accuracy in per_domain_accuracy.items():\n",
    "    per_domain_accuracy[domain] = {\n",
    "        \"accuracy\": accuracy,\n",
    "        \"source?\": domain in p.domains_source\n",
    "    }\n",
    "\n",
    "# Do an independent accuracy assesment JUST TO BE SURE!\n",
    "# _source_test_label_accuracy = independent_accuracy_assesment(model, datasets.source.processed.test, p.device)\n",
    "# _target_test_label_accuracy = independent_accuracy_assesment(model, datasets.target.processed.test, p.device)\n",
    "# _source_val_label_accuracy = independent_accuracy_assesment(model, datasets.source.processed.val, p.device)\n",
    "# _target_val_label_accuracy = independent_accuracy_assesment(model, datasets.target.processed.val, p.device)\n",
    "\n",
    "# assert(_source_test_label_accuracy == source_test_label_accuracy)\n",
    "# assert(_target_test_label_accuracy == target_test_label_accuracy)\n",
    "# assert(_source_val_label_accuracy == source_val_label_accuracy)\n",
    "# assert(_target_val_label_accuracy == target_val_label_accuracy)\n",
    "\n",
    "experiment = {\n",
    "    \"experiment_name\": p.experiment_name,\n",
    "    \"parameters\": dict(p),\n",
    "    \"results\": {\n",
    "        \"source_test_label_accuracy\": source_test_label_accuracy,\n",
    "        \"source_test_label_loss\": source_test_label_loss,\n",
    "        \"target_test_label_accuracy\": target_test_label_accuracy,\n",
    "        \"target_test_label_loss\": target_test_label_loss,\n",
    "        \"source_val_label_accuracy\": source_val_label_accuracy,\n",
    "        \"source_val_label_loss\": source_val_label_loss,\n",
    "        \"target_val_label_accuracy\": target_val_label_accuracy,\n",
    "        \"target_val_label_loss\": target_val_label_loss,\n",
    "        \"total_epochs_trained\": total_epochs_trained,\n",
    "        \"total_experiment_time_secs\": total_experiment_time_secs,\n",
    "        \"confusion\": confusion,\n",
    "        \"per_domain_accuracy\": per_domain_accuracy,\n",
    "    },\n",
    "    \"history\": history,\n",
    "    \"dataset_metrics\": get_dataset_metrics(datasets, \"ptn\"),\n",
    "}"
   ]
  },
  {
   "cell_type": "code",
   "execution_count": 25,
   "id": "54a21829",
   "metadata": {
    "execution": {
     "iopub.execute_input": "2022-03-22T09:45:33.664078Z",
     "iopub.status.busy": "2022-03-22T09:45:33.663702Z",
     "iopub.status.idle": "2022-03-22T09:45:33.893959Z",
     "shell.execute_reply": "2022-03-22T09:45:33.894636Z"
    },
    "papermill": {
     "duration": 0.301387,
     "end_time": "2022-03-22T09:45:33.894832",
     "exception": false,
     "start_time": "2022-03-22T09:45:33.593445",
     "status": "completed"
    },
    "tags": []
   },
   "outputs": [
    {
     "data": {
      "image/png": "[encoded data removed]",
      "text/plain": [
       "<Figure size 1080x504 with 1 Axes>"
      ]
     },
     "metadata": {
      "needs_background": "light"
     },
     "output_type": "display_data"
    }
   ],
   "source": [
    "ax = get_loss_curve(experiment)\n",
    "plt.show()"
   ]
  },
  {
   "cell_type": "code",
   "execution_count": 26,
   "id": "fd8a0f60",
   "metadata": {
    "execution": {
     "iopub.execute_input": "2022-03-22T09:45:34.016959Z",
     "iopub.status.busy": "2022-03-22T09:45:34.016593Z",
     "iopub.status.idle": "2022-03-22T09:45:34.376213Z",
     "shell.execute_reply": "2022-03-22T09:45:34.375900Z"
    },
    "papermill": {
     "duration": 0.420625,
     "end_time": "2022-03-22T09:45:34.376290",
     "exception": false,
     "start_time": "2022-03-22T09:45:33.955665",
     "status": "completed"
    },
    "tags": []
   },
   "outputs": [
    {
     "data": {
      "text/plain": [
       "<AxesSubplot:title={'center':'Results'}>"
      ]
     },
     "execution_count": 26,
     "metadata": {},
     "output_type": "execute_result"
    },
    {
     "data": {
      "image/png": "[encoded data removed]",
      "text/plain": [
       "<Figure size 1080x504 with 1 Axes>"
      ]
     },
     "metadata": {
      "needs_background": "light"
     },
     "output_type": "display_data"
    }
   ],
   "source": [
    "get_results_table(experiment)"
   ]
  },
  {
   "cell_type": "code",
   "execution_count": 27,
   "id": "cf8dc689",
   "metadata": {
    "execution": {
     "iopub.execute_input": "2022-03-22T09:45:34.498803Z",
     "iopub.status.busy": "2022-03-22T09:45:34.498435Z",
     "iopub.status.idle": "2022-03-22T09:45:34.756700Z",
     "shell.execute_reply": "2022-03-22T09:45:34.757374Z"
    },
    "papermill": {
     "duration": 0.322044,
     "end_time": "2022-03-22T09:45:34.757560",
     "exception": false,
     "start_time": "2022-03-22T09:45:34.435516",
     "status": "completed"
    },
    "tags": []
   },
   "outputs": [
    {
     "data": {
      "text/plain": [
       "<AxesSubplot:title={'center':'Per Domain Validation Accuracy'}, xlabel='domain'>"
      ]
     },
     "execution_count": 27,
     "metadata": {},
     "output_type": "execute_result"
    },
    {
     "data": {
      "image/png": "[encoded data removed]",
      "text/plain": [
       "<Figure size 1080x504 with 1 Axes>"
      ]
     },
     "metadata": {
      "needs_background": "light"
     },
     "output_type": "display_data"
    }
   ],
   "source": [
    "get_domain_accuracies(experiment)"
   ]
  },
  {
   "cell_type": "code",
   "execution_count": 28,
   "id": "a74ae082",
   "metadata": {
    "execution": {
     "iopub.execute_input": "2022-03-22T09:45:34.887582Z",
     "iopub.status.busy": "2022-03-22T09:45:34.887189Z",
     "iopub.status.idle": "2022-03-22T09:45:34.914275Z",
     "shell.execute_reply": "2022-03-22T09:45:34.913573Z"
    },
    "papermill": {
     "duration": 0.092767,
     "end_time": "2022-03-22T09:45:34.914427",
     "exception": false,
     "start_time": "2022-03-22T09:45:34.821660",
     "status": "completed"
    },
    "tags": []
   },
   "outputs": [
    {
     "name": "stdout",
     "output_type": "stream",
     "text": [
      "Source Test Label Accuracy: 0.60888671875 Target Test Label Accuracy: 0.9613783860045146\n",
      "Source Val Label Accuracy: 0.6137369791666667 Target Val Label Accuracy: 0.9616428571428571\n"
     ]
    }
   ],
   "source": [
    "print(\"Source Test Label Accuracy:\", experiment[\"results\"][\"source_test_label_accuracy\"], \"Target Test Label Accuracy:\", experiment[\"results\"][\"target_test_label_accuracy\"])\n",
    "print(\"Source Val Label Accuracy:\", experiment[\"results\"][\"source_val_label_accuracy\"], \"Target Val Label Accuracy:\", experiment[\"results\"][\"target_val_label_accuracy\"])"
   ]
  },
  {
   "cell_type": "code",
   "execution_count": 29,
   "id": "dacca602",
   "metadata": {
    "execution": {
     "iopub.execute_input": "2022-03-22T09:45:35.045618Z",
     "iopub.status.busy": "2022-03-22T09:45:35.045060Z",
     "iopub.status.idle": "2022-03-22T09:45:35.067152Z",
     "shell.execute_reply": "2022-03-22T09:45:35.067843Z"
    },
    "papermill": {
     "duration": 0.087432,
     "end_time": "2022-03-22T09:45:35.068026",
     "exception": false,
     "start_time": "2022-03-22T09:45:34.980594",
     "status": "completed"
    },
    "tags": [
     "experiment_json"
    ]
   },
   "outputs": [
    {
     "data": {
      "text/plain": [
       "'{\"experiment_name\": \"tl_1v2:cores-oracle.run1.limited\", \"parameters\": {\"experiment_name\": \"tl_1v2:cores-oracle.run1.limited\", \"device\": \"cuda\", \"lr\": 0.0001, \"n_shot\": 3, \"n_query\": 2, \"train_k_factor\": 3, \"val_k_factor\": 2, \"test_k_factor\": 2, \"torch_default_dtype\": \"torch.float32\", \"n_epoch\": 50, \"patience\": 3, \"criteria_for_best\": \"target_accuracy\", \"x_net\": [{\"class\": \"nnReshape\", \"kargs\": {\"shape\": [-1, 1, 2, 256]}}, {\"class\": \"Conv2d\", \"kargs\": {\"in_channels\": 1, \"out_channels\": 256, \"kernel_size\": [1, 7], \"bias\": false, \"padding\": [0, 3]}}, {\"class\": \"ReLU\", \"kargs\": {\"inplace\": true}}, {\"class\": \"BatchNorm2d\", \"kargs\": {\"num_features\": 256}}, {\"class\": \"Conv2d\", \"kargs\": {\"in_channels\": 256, \"out_channels\": 80, \"kernel_size\": [2, 7], \"bias\": true, \"padding\": [0, 3]}}, {\"class\": \"ReLU\", \"kargs\": {\"inplace\": true}}, {\"class\": \"BatchNorm2d\", \"kargs\": {\"num_features\": 80}}, {\"class\": \"Flatten\", \"kargs\": {}}, {\"class\": \"Linear\", \"kargs\": {\"in_features\": 20480, \"out_features\": 256}}, {\"class\": \"ReLU\", \"kargs\": {\"inplace\": true}}, {\"class\": \"BatchNorm1d\", \"kargs\": {\"num_features\": 256}}, {\"class\": \"Linear\", \"kargs\": {\"in_features\": 256, \"out_features\": 256}}], \"NUM_LOGS_PER_EPOCH\": 10, \"BEST_MODEL_PATH\": \"./best_model.pth\", \"n_way\": 16, \"datasets\": [{\"labels\": [\"1-10.\", \"1-11.\", \"1-15.\", \"1-16.\", \"1-17.\", \"1-18.\", \"1-19.\", \"10-4.\", \"10-7.\", \"11-1.\", \"11-14.\", \"11-17.\", \"11-20.\", \"11-7.\", \"13-20.\", \"13-8.\", \"14-10.\", \"14-11.\", \"14-14.\", \"14-7.\", \"15-1.\", \"15-20.\", \"16-1.\", \"16-16.\", \"17-10.\", \"17-11.\", \"17-2.\", \"19-1.\", \"19-16.\", \"19-19.\", \"19-20.\", \"19-3.\", \"2-10.\", \"2-11.\", \"2-17.\", \"2-18.\", \"2-20.\", \"2-3.\", \"2-4.\", \"2-5.\", \"2-6.\", \"2-7.\", \"2-8.\", \"3-13.\", \"3-18.\", \"3-3.\", \"4-1.\", \"4-10.\", \"4-11.\", \"4-19.\", \"5-5.\", \"6-15.\", \"7-10.\", \"7-14.\", \"8-18.\", \"8-20.\", \"8-3.\", \"8-8.\"], \"domains\": [1, 2, 3, 4, 5], \"num_examples_per_domain_per_label\": -1, \"pickle_path\": \"/root/csc500-main/datasets/cores.stratified_ds.2022A.pkl\", \"source_or_target_dataset\": \"target\", \"x_transforms\": [\"unit_mag\"], \"episode_transforms\": [], \"domain_prefix\": \"CORES_\"}, {\"labels\": [\"3123D52\", \"3123D65\", \"3123D79\", \"3123D80\", \"3123D54\", \"3123D70\", \"3123D7B\", \"3123D89\", \"3123D58\", \"3123D76\", \"3123D7D\", \"3123EFE\", \"3123D64\", \"3123D78\", \"3123D7E\", \"3124E4A\"], \"domains\": [32, 38, 8, 44, 14, 50, 20, 26], \"num_examples_per_domain_per_label\": 2000, \"pickle_path\": \"/root/csc500-main/datasets/oracle.Run1_10kExamples_stratified_ds.2022A.pkl\", \"source_or_target_dataset\": \"source\", \"x_transforms\": [\"unit_mag\"], \"episode_transforms\": [], \"domain_prefix\": \"ORACLE.run1_\"}], \"dataset_seed\": 420, \"seed\": 420, \"x_shape\": [2, 256], \"domains_source\": [\"ORACLE.run1_32\", \"ORACLE.run1_38\", \"ORACLE.run1_8\", \"ORACLE.run1_44\", \"ORACLE.run1_14\", \"ORACLE.run1_50\", \"ORACLE.run1_20\", \"ORACLE.run1_26\"], \"domains_target\": [\"CORES_1\", \"CORES_2\", \"CORES_3\", \"CORES_4\", \"CORES_5\"]}, \"results\": {\"source_test_label_accuracy\": 0.60888671875, \"source_test_label_loss\": 1.2498565912246704, \"target_test_label_accuracy\": 0.9613783860045146, \"target_test_label_loss\": 0.34999340772628784, \"source_val_label_accuracy\": 0.6137369791666667, \"source_val_label_loss\": 1.2474744319915771, \"target_val_label_accuracy\": 0.9616428571428571, \"target_val_label_loss\": 0.3039393126964569, \"total_epochs_trained\": 11, \"total_experiment_time_secs\": 2310.4283480644226, \"confusion\": {\"ORACLE.run1_14\": {\"15\": {\"15\": 198, \"7\": 41, \"2\": 1}, \"5\": {\"5\": 132, \"2\": 16, \"4\": 54, \"1\": 29, \"15\": 1, \"7\": 4, \"3\": 4}, \"7\": {\"7\": 212, \"15\": 25, \"1\": 2, \"5\": 1}, \"4\": {\"4\": 124, \"5\": 40, \"3\": 45, \"1\": 4, \"2\": 27}, \"10\": {\"0\": 42, \"10\": 194, \"14\": 1, \"11\": 2, \"3\": 1}, \"11\": {\"11\": 189, \"9\": 13, \"10\": 25, \"0\": 13}, \"12\": {\"12\": 239, \"9\": 1}, \"0\": {\"11\": 9, \"0\": 166, \"10\": 54, \"3\": 10, \"14\": 1}, \"14\": {\"14\": 157, \"6\": 16, \"2\": 24, \"3\": 8, \"13\": 33, \"4\": 2}, \"8\": {\"8\": 240}, \"13\": {\"6\": 78, \"13\": 77, \"14\": 55, \"2\": 26, \"15\": 1, \"5\": 2, \"4\": 1}, \"6\": {\"14\": 39, \"13\": 88, \"6\": 96, \"2\": 16, \"4\": 1}, \"1\": {\"1\": 195, \"4\": 7, \"5\": 35, \"7\": 1, \"3\": 1, \"2\": 1}, \"3\": {\"3\": 175, \"4\": 51, \"2\": 3, \"5\": 2, \"14\": 5, \"0\": 3, \"10\": 1}, \"9\": {\"9\": 236, \"12\": 4}, \"2\": {\"4\": 39, \"5\": 20, \"2\": 94, \"13\": 17, \"6\": 27, \"14\": 20, \"1\": 3, \"3\": 11, \"15\": 9}}, \"ORACLE.run1_20\": {\"4\": {\"4\": 154, \"8\": 35, \"12\": 5, \"3\": 19, \"2\": 1, \"10\": 20, \"7\": 2, \"0\": 2, \"5\": 2}, \"10\": {\"10\": 134, \"14\": 50, \"8\": 35, \"6\": 9, \"4\": 11, \"7\": 1}, \"15\": {\"13\": 8, \"5\": 31, \"15\": 105, \"1\": 36, \"0\": 40, \"12\": 15, \"9\": 1, \"2\": 2, \"3\": 2}, \"0\": {\"0\": 61, \"5\": 51, \"1\": 48, \"15\": 38, \"12\": 23, \"3\": 12, \"9\": 5, \"2\": 1, \"8\": 1}, \"6\": {\"6\": 181, \"14\": 44, \"8\": 6, \"10\": 5, \"7\": 4}, \"3\": {\"8\": 13, \"3\": 66, \"9\": 42, \"7\": 12, \"4\": 19, \"2\": 16, \"12\": 35, \"5\": 17, \"0\": 7, \"1\": 10, \"15\": 2, \"13\": 1}, \"7\": {\"7\": 116, \"8\": 38, \"9\": 27, \"4\": 2, \"2\": 42, \"6\": 7, \"3\": 6, \"11\": 1, \"12\": 1}, \"2\": {\"2\": 80, \"9\": 58, \"12\": 14, \"3\": 17, \"7\": 47, \"13\": 14, \"8\": 2, \"5\": 4, \"15\": 2, \"1\": 2}, \"8\": {\"8\": 104, \"2\": 4, \"14\": 4, \"7\": 31, \"10\": 32, \"4\": 40, \"3\": 10, \"9\": 8, \"6\": 7}, \"11\": {\"11\": 238, \"6\": 1, \"7\": 1}, \"14\": {\"14\": 161, \"10\": 39, \"6\": 32, \"8\": 7, \"7\": 1}, \"12\": {\"12\": 53, \"1\": 25, \"3\": 42, \"5\": 27, \"0\": 25, \"13\": 3, \"15\": 15, \"7\": 3, \"2\": 6, \"9\": 30, \"4\": 9, \"8\": 2}, \"13\": {\"13\": 190, \"2\": 19, \"9\": 9, \"15\": 10, \"12\": 2, \"1\": 6, \"0\": 1, \"7\": 1, \"5\": 1, \"3\": 1}, \"9\": {\"12\": 32, \"9\": 68, \"7\": 18, \"3\": 42, \"13\": 6, \"4\": 6, \"2\": 45, \"0\": 2, \"1\": 5, \"8\": 8, \"15\": 4, \"5\": 3, \"10\": 1}, \"5\": {\"0\": 52, \"1\": 44, \"5\": 54, \"4\": 6, \"3\": 12, \"12\": 38, \"15\": 24, \"9\": 6, \"2\": 3, \"13\": 1}, \"1\": {\"5\": 51, \"12\": 22, \"1\": 54, \"15\": 51, \"0\": 46, \"3\": 9, \"9\": 4, \"2\": 1, \"13\": 1, \"4\": 1}}, \"ORACLE.run1_50\": {\"5\": {\"13\": 35, \"5\": 67, \"6\": 41, \"7\": 62, \"4\": 25, \"1\": 8, \"10\": 1, \"0\": 1}, \"12\": {\"12\": 204, \"9\": 21, \"14\": 13, \"11\": 2}, \"14\": {\"14\": 230, \"12\": 7, \"11\": 3}, \"4\": {\"15\": 47, \"6\": 29, \"4\": 90, \"13\": 9, \"5\": 19, \"1\": 41, \"7\": 5}, \"13\": {\"10\": 4, \"7\": 43, \"13\": 119, \"4\": 1, \"5\": 47, \"0\": 4, \"6\": 22}, \"10\": {\"10\": 200, \"7\": 15, \"0\": 14, \"8\": 6, \"13\": 5}, \"9\": {\"12\": 17, \"9\": 181, \"11\": 40, \"14\": 2}, \"15\": {\"15\": 164, \"1\": 38, \"6\": 1, \"4\": 31, \"11\": 5, \"5\": 1}, \"6\": {\"5\": 24, \"6\": 110, \"13\": 30, \"4\": 41, \"1\": 31, \"15\": 4}, \"2\": {\"2\": 219, \"0\": 21}, \"0\": {\"0\": 193, \"2\": 26, \"10\": 20, \"6\": 1}, \"11\": {\"11\": 199, \"9\": 30, \"15\": 7, \"14\": 3, \"12\": 1}, \"3\": {\"3\": 229, \"8\": 11}, \"8\": {\"8\": 225, \"10\": 6, \"3\": 9}, \"7\": {\"7\": 136, \"13\": 46, \"5\": 43, \"10\": 11, \"6\": 2, \"4\": 2}, \"1\": {\"1\": 122, \"15\": 58, \"4\": 28, \"6\": 27, \"14\": 2, \"11\": 2, \"13\": 1}}, \"ORACLE.run1_26\": {\"7\": {\"3\": 41, \"7\": 90, \"2\": 39, \"8\": 20, \"4\": 24, \"14\": 3, \"10\": 8, \"0\": 4, \"9\": 3, \"1\": 3, \"15\": 4, \"5\": 1}, \"6\": {\"10\": 28, \"6\": 139, \"9\": 34, \"8\": 6, \"13\": 7, \"15\": 14, \"5\": 7, \"0\": 5}, \"14\": {\"14\": 66, \"7\": 11, \"1\": 64, \"8\": 8, \"10\": 17, \"9\": 3, \"4\": 39, \"0\": 31, \"3\": 1}, \"15\": {\"9\": 57, \"15\": 55, \"5\": 45, \"7\": 6, \"13\": 18, \"6\": 11, \"2\": 17, \"10\": 4, \"8\": 22, \"4\": 1, \"0\": 3, \"3\": 1}, \"5\": {\"5\": 94, \"13\": 32, \"15\": 47, \"2\": 18, \"6\": 4, \"9\": 36, \"8\": 6, \"7\": 3}, \"10\": {\"10\": 65, \"8\": 34, \"15\": 5, \"0\": 48, \"6\": 22, \"14\": 31, \"4\": 13, \"1\": 14, \"9\": 7, \"7\": 1}, \"4\": {\"14\": 45, \"8\": 23, \"1\": 36, \"9\": 3, \"10\": 26, \"4\": 52, \"0\": 31, \"7\": 21, \"2\": 2, \"3\": 1}, \"11\": {\"11\": 226, \"12\": 14}, \"13\": {\"13\": 160, \"5\": 46, \"15\": 12, \"2\": 9, \"9\": 9, \"6\": 3, \"8\": 1}, \"2\": {\"15\": 20, \"7\": 35, \"2\": 84, \"5\": 16, \"3\": 65, \"9\": 9, \"8\": 7, \"10\": 3, \"14\": 1}, \"0\": {\"8\": 30, \"0\": 35, \"4\": 42, \"14\": 41, \"10\": 50, \"1\": 23, \"2\": 1, \"7\": 8, \"6\": 7, \"9\": 1, \"15\": 2}, \"12\": {\"12\": 235, \"11\": 4, \"6\": 1}, \"3\": {\"3\": 135, \"7\": 45, \"2\": 51, \"5\": 2, \"13\": 1, \"8\": 1, \"4\": 2, \"15\": 2, \"9\": 1}, \"9\": {\"2\": 7, \"9\": 73, \"10\": 6, \"5\": 25, \"6\": 36, \"7\": 2, \"15\": 58, \"8\": 25, \"13\": 6, \"0\": 2}, \"8\": {\"4\": 25, \"8\": 66, \"2\": 12, \"0\": 17, \"7\": 20, \"9\": 24, \"5\": 8, \"14\": 5, \"10\": 29, \"15\": 14, \"6\": 16, \"3\": 2, \"1\": 2}, \"1\": {\"1\": 110, \"10\": 9, \"14\": 61, \"4\": 40, \"0\": 11, \"8\": 5, \"3\": 1, \"7\": 2, \"9\": 1}}, \"ORACLE.run1_32\": {\"7\": {\"11\": 17, \"7\": 87, \"4\": 26, \"14\": 49, \"5\": 23, \"13\": 17, \"2\": 8, \"0\": 9, \"8\": 4}, \"2\": {\"2\": 185, \"4\": 41, \"0\": 7, \"5\": 2, \"7\": 4, \"14\": 1}, \"5\": {\"8\": 29, \"0\": 25, \"4\": 24, \"5\": 61, \"13\": 54, \"7\": 18, \"14\": 10, \"3\": 14, \"2\": 2, \"11\": 3}, \"6\": {\"6\": 240}, \"13\": {\"5\": 58, \"13\": 74, \"8\": 22, \"3\": 20, \"4\": 20, \"7\": 16, \"0\": 10, \"14\": 15, \"11\": 5}, \"4\": {\"4\": 93, \"7\": 29, \"2\": 40, \"0\": 42, \"5\": 20, \"13\": 10, \"14\": 4, \"8\": 2}, \"3\": {\"3\": 208, \"13\": 12, \"5\": 2, \"11\": 13, \"14\": 3, \"8\": 2}, \"0\": {\"4\": 48, \"8\": 28, \"0\": 113, \"13\": 8, \"5\": 18, \"14\": 2, \"2\": 16, \"7\": 7}, \"9\": {\"9\": 239, \"12\": 1}, \"12\": {\"12\": 240}, \"8\": {\"8\": 159, \"0\": 21, \"13\": 30, \"5\": 24, \"4\": 2, \"3\": 4}, \"14\": {\"7\": 53, \"11\": 76, \"13\": 19, \"14\": 60, \"3\": 4, \"5\": 14, \"4\": 8, \"2\": 2, \"0\": 3, \"8\": 1}, \"15\": {\"15\": 233, \"8\": 5, \"3\": 2}, \"11\": {\"14\": 57, \"11\": 154, \"13\": 5, \"7\": 11, \"5\": 8, \"3\": 5}, \"10\": {\"10\": 236, \"1\": 4}, \"1\": {\"1\": 235, \"10\": 5}}, \"ORACLE.run1_44\": {\"11\": {\"11\": 196, \"6\": 22, \"13\": 22}, \"7\": {\"7\": 143, \"2\": 41, \"9\": 44, \"1\": 3, \"6\": 8, \"13\": 1}, \"6\": {\"9\": 25, \"13\": 45, \"6\": 147, \"11\": 15, \"7\": 8}, \"12\": {\"12\": 174, \"10\": 18, \"1\": 43, \"3\": 5}, \"4\": {\"4\": 166, \"14\": 69, \"15\": 3, \"13\": 2}, \"13\": {\"13\": 149, \"9\": 33, \"11\": 13, \"6\": 42, \"4\": 2, \"7\": 1}, \"8\": {\"8\": 138, \"0\": 92, \"15\": 7, \"5\": 3}, \"5\": {\"0\": 27, \"5\": 197, \"14\": 7, \"15\": 9}, \"14\": {\"4\": 81, \"14\": 131, \"5\": 9, \"15\": 19}, \"3\": {\"3\": 195, \"1\": 38, \"12\": 5, \"7\": 1, \"2\": 1}, \"10\": {\"2\": 18, \"10\": 172, \"12\": 19, \"1\": 31}, \"1\": {\"12\": 58, \"1\": 118, \"10\": 22, \"2\": 10, \"7\": 1, \"3\": 31}, \"2\": {\"2\": 163, \"1\": 11, \"10\": 22, \"7\": 38, \"3\": 4, \"9\": 2}, \"15\": {\"15\": 183, \"0\": 19, \"4\": 4, \"5\": 7, \"14\": 24, \"8\": 3}, \"9\": {\"7\": 61, \"9\": 125, \"6\": 17, \"3\": 1, \"2\": 7, \"13\": 28, \"4\": 1}, \"0\": {\"8\": 57, \"0\": 161, \"15\": 11, \"5\": 11}}, \"ORACLE.run1_8\": {\"10\": {\"1\": 12, \"10\": 125, \"4\": 8, \"14\": 57, \"13\": 23, \"5\": 8, \"11\": 4, \"6\": 1, \"0\": 2}, \"6\": {\"6\": 109, \"7\": 65, \"4\": 27, \"0\": 14, \"13\": 11, \"14\": 5, \"8\": 7, \"15\": 1, \"11\": 1}, \"13\": {\"0\": 67, \"1\": 6, \"4\": 39, \"7\": 10, \"6\": 17, \"10\": 14, \"13\": 69, \"14\": 16, \"5\": 1, \"8\": 1}, \"3\": {\"3\": 153, \"12\": 43, \"2\": 40, \"15\": 4}, \"9\": {\"9\": 240}, \"1\": {\"11\": 70, \"1\": 131, \"5\": 9, \"14\": 21, \"10\": 8, \"4\": 1}, \"5\": {\"5\": 197, \"10\": 23, \"1\": 13, \"11\": 6, \"14\": 1}, \"11\": {\"1\": 81, \"11\": 109, \"13\": 1, \"5\": 14, \"8\": 8, \"14\": 16, \"10\": 5, \"4\": 4, \"6\": 2}, \"4\": {\"0\": 27, \"4\": 87, \"10\": 6, \"13\": 31, \"6\": 46, \"14\": 31, \"8\": 3, \"7\": 7, \"1\": 2}, \"14\": {\"1\": 19, \"10\": 66, \"13\": 25, \"4\": 36, \"5\": 1, \"14\": 82, \"0\": 3, \"6\": 6, \"11\": 2}, \"12\": {\"3\": 43, \"15\": 66, \"12\": 113, \"2\": 7, \"8\": 9, \"7\": 2}, \"7\": {\"6\": 47, \"7\": 157, \"4\": 3, \"0\": 17, \"13\": 7, \"2\": 6, \"8\": 2, \"15\": 1}, \"0\": {\"0\": 110, \"6\": 20, \"13\": 50, \"4\": 20, \"14\": 3, \"7\": 29, \"10\": 8}, \"15\": {\"12\": 43, \"15\": 160, \"8\": 20, \"3\": 11, \"2\": 6}, \"2\": {\"2\": 172, \"12\": 4, \"3\": 40, \"7\": 9, \"15\": 13, \"6\": 1, \"8\": 1}, \"8\": {\"8\": 195, \"6\": 8, \"4\": 1, \"11\": 2, \"15\": 29, \"12\": 2, \"7\": 2, \"2\": 1}}, \"ORACLE.run1_38\": {\"4\": {\"12\": 17, \"4\": 221, \"7\": 2}, \"7\": {\"7\": 160, \"0\": 63, \"5\": 6, \"3\": 3, \"8\": 7, \"10\": 1}, \"12\": {\"12\": 192, \"10\": 32, \"4\": 15, \"14\": 1}, \"10\": {\"11\": 1, \"10\": 150, \"12\": 42, \"8\": 18, \"14\": 5, \"13\": 14, \"5\": 3, \"0\": 5, \"7\": 1, \"15\": 1}, \"0\": {\"7\": 80, \"8\": 46, \"5\": 27, \"0\": 70, \"6\": 1, \"4\": 1, \"10\": 3, \"3\": 7, \"9\": 2, \"12\": 1, \"15\": 2}, \"1\": {\"1\": 224, \"15\": 15, \"13\": 1}, \"5\": {\"5\": 91, \"6\": 16, \"0\": 33, \"8\": 62, \"7\": 10, \"13\": 4, \"9\": 6, \"3\": 6, \"15\": 9, \"10\": 1, \"1\": 2}, \"15\": {\"15\": 130, \"13\": 70, \"8\": 11, \"1\": 17, \"5\": 7, \"10\": 1, \"2\": 2, \"0\": 2}, \"9\": {\"6\": 80, \"9\": 139, \"5\": 6, \"3\": 14, \"0\": 1}, \"11\": {\"11\": 164, \"14\": 64, \"12\": 7, \"10\": 4, \"2\": 1}, \"14\": {\"11\": 44, \"14\": 174, \"2\": 18, \"10\": 2, \"12\": 1, \"13\": 1}, \"6\": {\"6\": 158, \"9\": 75, \"5\": 6, \"3\": 1}, \"8\": {\"8\": 127, \"0\": 39, \"5\": 62, \"7\": 6, \"15\": 4, \"13\": 1, \"10\": 1}, \"3\": {\"3\": 203, \"9\": 17, \"0\": 6, \"7\": 10, \"5\": 4}, \"2\": {\"13\": 8, \"2\": 218, \"14\": 13, \"10\": 1}, \"13\": {\"13\": 133, \"15\": 69, \"10\": 17, \"2\": 13, \"8\": 6, \"14\": 1, \"1\": 1}}, \"CORES_4\": {\"42\": {\"42\": 32}, \"0\": {\"0\": 62, \"11\": 1, \"32\": 4, \"22\": 4, \"52\": 1, \"43\": 2, \"3\": 1, \"7\": 1, \"46\": 1, \"23\": 1, \"47\": 1, \"18\": 1}, \"1\": {\"1\": 40}, \"39\": {\"39\": 20}, \"28\": {\"28\": 27, \"33\": 5}, \"53\": {\"53\": 124}, \"19\": {\"19\": 143, \"44\": 1}, \"34\": {\"34\": 24}, \"33\": {\"33\": 33, \"28\": 3}, \"32\": {\"32\": 24}, \"10\": {\"10\": 136}, \"46\": {\"46\": 120, \"7\": 4, \"41\": 2, \"22\": 4, \"57\": 1, \"32\": 1, \"0\": 1, \"23\": 1}, \"20\": {\"20\": 120, \"3\": 2}, \"5\": {\"5\": 100, \"47\": 3, \"54\": 5}, \"40\": {\"40\": 122, \"19\": 2}, \"51\": {\"51\": 144}, \"37\": {\"37\": 24}, \"17\": {\"17\": 80}, \"45\": {\"45\": 96}, \"13\": {\"13\": 142}, \"27\": {\"27\": 144}, \"24\": {\"24\": 55, \"10\": 1}, \"30\": {\"30\": 44}, \"31\": {\"31\": 28}, \"41\": {\"41\": 34, \"10\": 1, \"13\": 1}, \"36\": {\"36\": 90, \"52\": 2}, \"16\": {\"16\": 95, \"11\": 1}, \"22\": {\"22\": 121, \"0\": 5, \"32\": 1, \"43\": 1}, \"44\": {\"44\": 126, \"19\": 6}, \"9\": {\"9\": 139, \"45\": 1}, \"57\": {\"57\": 95, \"1\": 3, \"35\": 1, \"55\": 1}, \"8\": {\"8\": 138}, \"23\": {\"23\": 132}, \"47\": {\"47\": 119, \"5\": 1}, \"43\": {\"43\": 138}, \"49\": {\"49\": 20}, \"3\": {\"3\": 97, \"36\": 2, \"20\": 9, \"25\": 9, \"50\": 4, \"8\": 2, \"52\": 1}, \"12\": {\"12\": 91, \"50\": 1}, \"38\": {\"38\": 40}, \"7\": {\"7\": 24}, \"14\": {\"38\": 1, \"14\": 10, \"55\": 3, \"29\": 1, \"56\": 1}, \"15\": {\"15\": 146}, \"25\": {\"25\": 125, \"36\": 2, \"3\": 1}, \"26\": {\"26\": 24}, \"21\": {\"21\": 132}, \"48\": {\"48\": 143, \"26\": 1}, \"56\": {\"56\": 133, \"57\": 1}, \"11\": {\"11\": 102, \"15\": 2}, \"2\": {\"2\": 35, \"22\": 1}, \"6\": {\"6\": 90, \"53\": 19, \"50\": 1, \"51\": 2}, \"55\": {\"55\": 137, \"35\": 2, \"29\": 1}, \"54\": {\"54\": 108}, \"29\": {\"29\": 123, \"35\": 1}, \"50\": {\"50\": 104, \"25\": 1, \"20\": 5, \"21\": 3, \"53\": 8, \"3\": 1}, \"52\": {\"52\": 114, \"36\": 2}, \"35\": {\"35\": 38, \"29\": 2}, \"4\": {\"4\": 119, \"9\": 1}, \"18\": {\"18\": 107, \"23\": 1}}, \"CORES_5\": {\"43\": {\"43\": 129, \"15\": 22, \"11\": 1}, \"35\": {\"35\": 34, \"56\": 2}, \"54\": {\"54\": 112}, \"22\": {\"22\": 28}, \"16\": {\"16\": 146}, \"5\": {\"5\": 127, \"44\": 1}, \"28\": {\"28\": 32}, \"14\": {\"31\": 1, \"28\": 3, \"0\": 1, \"36\": 8, \"14\": 17, \"33\": 3, \"34\": 2, \"46\": 3, \"3\": 4, \"2\": 1, \"47\": 1}, \"51\": {\"51\": 128}, \"19\": {\"19\": 140}, \"31\": {\"31\": 35, \"14\": 1}, \"10\": {\"10\": 66, \"24\": 2}, \"21\": {\"21\": 128, \"50\": 8}, \"3\": {\"3\": 84, \"31\": 1, \"38\": 1, \"47\": 7, \"39\": 1, \"23\": 1, \"46\": 3, \"42\": 1, \"48\": 1}, \"57\": {\"57\": 130, \"45\": 1, \"30\": 1}, \"9\": {\"9\": 135, \"48\": 3, \"27\": 4, \"55\": 4}, \"8\": {\"8\": 132}, \"46\": {\"46\": 137, \"3\": 3}, \"23\": {\"23\": 121, \"18\": 2, \"46\": 1}, \"37\": {\"37\": 24}, \"34\": {\"34\": 32, \"40\": 4}, \"4\": {\"4\": 100}, \"6\": {\"6\": 121, \"1\": 6, \"30\": 1}, \"48\": {\"48\": 133, \"9\": 3}, \"44\": {\"44\": 136, \"5\": 2}, \"40\": {\"40\": 116, \"34\": 3, \"29\": 4, \"44\": 1}, \"12\": {\"12\": 96}, \"30\": {\"30\": 125, \"17\": 2, \"6\": 1}, \"39\": {\"39\": 20}, \"45\": {\"45\": 112, \"4\": 1, \"27\": 6, \"9\": 1, \"55\": 2, \"32\": 2}, \"36\": {\"36\": 90, \"29\": 1, \"28\": 1}, \"27\": {\"27\": 137, \"32\": 1, \"55\": 1, \"9\": 1}, \"32\": {\"32\": 32}, \"52\": {\"52\": 130}, \"0\": {\"0\": 123, \"14\": 1}, \"26\": {\"26\": 24}, \"1\": {\"1\": 148}, \"53\": {\"53\": 140, \"20\": 6}, \"25\": {\"25\": 141, \"23\": 2, \"52\": 1}, \"24\": {\"24\": 79, \"10\": 1}, \"7\": {\"7\": 32}, \"18\": {\"18\": 64}, \"20\": {\"20\": 139, \"53\": 5}, \"33\": {\"33\": 32}, \"55\": {\"55\": 135, \"27\": 4, \"9\": 1}, \"41\": {\"41\": 25, \"9\": 1, \"54\": 2}, \"42\": {\"42\": 36, \"39\": 1, \"14\": 1, \"46\": 2}, \"49\": {\"49\": 36}, \"13\": {\"13\": 148}, \"38\": {\"38\": 32}, \"2\": {\"2\": 26, \"56\": 2}, \"47\": {\"47\": 100}, \"17\": {\"17\": 116}, \"11\": {\"11\": 151, \"15\": 2, \"43\": 1}, \"29\": {\"29\": 131, \"40\": 1}, \"50\": {\"50\": 108, \"53\": 6, \"52\": 1, \"21\": 19, \"20\": 3, \"51\": 1}, \"56\": {\"56\": 148}, \"15\": {\"15\": 136, \"11\": 3, \"43\": 3}}, \"CORES_2\": {\"49\": {\"49\": 24}, \"13\": {\"13\": 115, \"37\": 1}, \"37\": {\"37\": 34, \"13\": 2}, \"41\": {\"41\": 20}, \"15\": {\"15\": 142}, \"56\": {\"56\": 141, \"14\": 1}, \"14\": {\"56\": 7, \"55\": 2, \"22\": 1, \"14\": 10, \"31\": 2, \"42\": 1, \"29\": 1}, \"3\": {\"3\": 87, \"20\": 2, \"21\": 1, \"52\": 1, \"8\": 1}, \"38\": {\"38\": 20}, \"43\": {\"43\": 138}, \"33\": {\"33\": 25, \"57\": 2, \"32\": 1}, \"47\": {\"47\": 137, \"0\": 1}, \"30\": {\"30\": 141, \"41\": 1, \"36\": 1, \"8\": 1}, \"39\": {\"39\": 26, \"23\": 2}, \"12\": {\"12\": 92}, \"6\": {\"6\": 96, \"30\": 1, \"50\": 20, \"25\": 2, \"8\": 4, \"18\": 1}, \"51\": {\"51\": 134}, \"5\": {\"5\": 115, \"57\": 1, \"47\": 3, \"22\": 1}, \"34\": {\"34\": 28}, \"35\": {\"35\": 31, \"44\": 1}, \"0\": {\"0\": 45, \"47\": 3}, \"7\": {\"7\": 36}, \"24\": {\"24\": 94, \"10\": 2}, \"8\": {\"8\": 133, \"50\": 3}, \"20\": {\"20\": 113, \"53\": 11}, \"36\": {\"36\": 116}, \"42\": {\"42\": 35, \"57\": 1}, \"1\": {\"33\": 1, \"1\": 111}, \"4\": {\"4\": 140, \"9\": 8}, \"28\": {\"28\": 28}, \"50\": {\"50\": 116, \"6\": 16, \"8\": 4}, \"45\": {\"45\": 124, \"35\": 1, \"4\": 2, \"9\": 1}, \"18\": {\"18\": 48}, \"57\": {\"57\": 118, \"42\": 1, \"1\": 1}, \"46\": {\"46\": 115, \"16\": 5, \"53\": 1, \"11\": 2, \"52\": 3, \"6\": 1, \"15\": 1}, \"23\": {\"23\": 146, \"39\": 2}, \"27\": {\"27\": 138}, \"19\": {\"19\": 127, \"40\": 7}, \"22\": {\"22\": 136}, \"17\": {\"17\": 104}, \"55\": {\"55\": 136}, \"44\": {\"44\": 100}, \"26\": {\"26\": 24}, \"31\": {\"31\": 28}, \"16\": {\"16\": 130}, \"11\": {\"11\": 128}, \"25\": {\"25\": 118, \"52\": 8}, \"54\": {\"54\": 107, \"27\": 1}, \"32\": {\"32\": 24, \"17\": 4}, \"52\": {\"52\": 120, \"6\": 1, \"25\": 2, \"46\": 1}, \"40\": {\"40\": 108, \"19\": 24}, \"2\": {\"2\": 32}, \"10\": {\"10\": 109, \"43\": 1}, \"53\": {\"53\": 134, \"20\": 2}, \"9\": {\"9\": 147, \"4\": 3}, \"21\": {\"21\": 118, \"53\": 1, \"51\": 1}, \"48\": {\"48\": 138}, \"29\": {\"29\": 128}}, \"CORES_1\": {\"9\": {\"9\": 123, \"8\": 19}, \"25\": {\"25\": 124, \"37\": 4}, \"41\": {\"41\": 24}, \"29\": {\"29\": 139, \"35\": 1}, \"46\": {\"46\": 127, \"51\": 1}, \"4\": {\"4\": 132}, \"31\": {\"31\": 27, \"49\": 1}, \"36\": {\"36\": 64}, \"20\": {\"20\": 128}, \"7\": {\"7\": 28}, \"6\": {\"6\": 77, \"5\": 15, \"48\": 4}, \"16\": {\"16\": 138}, \"17\": {\"17\": 64}, \"50\": {\"50\": 145, \"48\": 3}, \"57\": {\"57\": 110, \"56\": 33, \"1\": 1}, \"23\": {\"23\": 131, \"15\": 5}, \"3\": {\"3\": 126}, \"53\": {\"53\": 140}, \"49\": {\"49\": 28, \"0\": 2, \"31\": 2}, \"56\": {\"57\": 22, \"56\": 111, \"19\": 4, \"34\": 1, \"44\": 1, \"1\": 13}, \"51\": {\"51\": 140, \"41\": 2}, \"26\": {\"26\": 24}, \"43\": {\"43\": 144}, \"22\": {\"22\": 120, \"24\": 8, \"10\": 6, \"21\": 2}, \"45\": {\"45\": 141, \"42\": 5}, \"13\": {\"13\": 133, \"12\": 15, \"51\": 4}, \"12\": {\"13\": 5, \"12\": 102, \"51\": 7, \"53\": 1, \"48\": 1}, \"54\": {\"33\": 1, \"54\": 103}, \"24\": {\"24\": 101, \"10\": 2, \"16\": 1, \"22\": 3, \"52\": 1}, \"44\": {\"44\": 116, \"57\": 8, \"1\": 5, \"29\": 2, \"19\": 2, \"56\": 3}, \"28\": {\"28\": 25, \"11\": 3}, \"33\": {\"33\": 32}, \"38\": {\"38\": 23, \"0\": 1}, \"0\": {\"0\": 138, \"49\": 2, \"38\": 2, \"39\": 1, \"23\": 1}, \"47\": {\"47\": 154}, \"42\": {\"42\": 39, \"55\": 1}, \"34\": {\"34\": 24}, \"48\": {\"2\": 2, \"48\": 140}, \"35\": {\"35\": 36}, \"2\": {\"2\": 36}, \"30\": {\"30\": 120}, \"18\": {\"18\": 72}, \"37\": {\"37\": 29, \"25\": 3}, \"1\": {\"1\": 81, \"19\": 7, \"57\": 7, \"56\": 3, \"34\": 2}, \"11\": {\"11\": 136, \"52\": 2}, \"55\": {\"55\": 129, \"47\": 1}, \"15\": {\"15\": 142, \"21\": 7, \"23\": 1}, \"10\": {\"10\": 87, \"24\": 1, \"52\": 1, \"11\": 1, \"22\": 6}, \"27\": {\"27\": 160}, \"19\": {\"19\": 140, \"1\": 6}, \"14\": {\"30\": 5, \"14\": 10, \"26\": 1, \"13\": 1, \"20\": 1, \"9\": 2, \"25\": 1, \"53\": 1, \"7\": 2}, \"8\": {\"8\": 108, \"9\": 32}, \"5\": {\"5\": 130, \"6\": 4, \"50\": 2}, \"39\": {\"39\": 27, \"0\": 1}, \"52\": {\"52\": 109, \"10\": 4, \"15\": 1, \"22\": 1, \"11\": 5, \"21\": 2}, \"21\": {\"21\": 113, \"15\": 8, \"23\": 2, \"0\": 1}, \"40\": {\"40\": 152}, \"32\": {\"32\": 32}}, \"CORES_3\": {\"56\": {\"56\": 120}, \"4\": {\"4\": 146}, \"34\": {\"34\": 31, \"35\": 1}, \"52\": {\"52\": 136}, \"32\": {\"32\": 28}, \"46\": {\"46\": 129, \"52\": 1, \"8\": 1, \"20\": 2, \"16\": 1, \"3\": 2}, \"12\": {\"12\": 87, \"8\": 3, \"51\": 1, \"38\": 1}, \"20\": {\"20\": 130, \"50\": 2}, \"54\": {\"54\": 100}, \"22\": {\"22\": 138, \"55\": 2}, \"26\": {\"26\": 24}, \"31\": {\"31\": 28}, \"10\": {\"10\": 64}, \"27\": {\"27\": 144}, \"40\": {\"40\": 119, \"19\": 17}, \"28\": {\"28\": 26, \"57\": 1, \"35\": 1}, \"5\": {\"5\": 114, \"47\": 2}, \"30\": {\"30\": 119, \"18\": 1}, \"7\": {\"7\": 36}, \"18\": {\"18\": 83, \"41\": 1}, \"39\": {\"39\": 16}, \"50\": {\"52\": 5, \"50\": 122, \"3\": 1, \"20\": 5, \"8\": 3}, \"49\": {\"49\": 18, \"43\": 2}, \"43\": {\"43\": 120, \"49\": 2}, \"29\": {\"29\": 114}, \"35\": {\"35\": 27, \"1\": 1}, \"13\": {\"13\": 122, \"11\": 2}, \"36\": {\"36\": 99, \"30\": 1}, \"11\": {\"11\": 146}, \"57\": {\"57\": 118, \"1\": 6}, \"9\": {\"9\": 130}, \"25\": {\"25\": 130}, \"16\": {\"16\": 125, \"15\": 1}, \"53\": {\"53\": 118}, \"33\": {\"33\": 28}, \"51\": {\"51\": 128}, \"44\": {\"44\": 88}, \"48\": {\"48\": 114}, \"6\": {\"6\": 74, \"36\": 3, \"18\": 2, \"30\": 5, \"50\": 2, \"20\": 1, \"8\": 1}, \"23\": {\"23\": 144}, \"1\": {\"28\": 2, \"1\": 89, \"57\": 9}, \"17\": {\"33\": 2, \"17\": 104, \"54\": 1, \"27\": 1}, \"21\": {\"21\": 120, \"51\": 2}, \"14\": {\"34\": 2, \"14\": 25, \"22\": 7, \"55\": 3, \"42\": 1, \"47\": 1, \"56\": 1}, \"55\": {\"14\": 1, \"55\": 140, \"22\": 3}, \"41\": {\"41\": 26, \"30\": 2}, \"3\": {\"3\": 138}, \"38\": {\"38\": 28}, \"2\": {\"2\": 32}, \"8\": {\"8\": 142}, \"37\": {\"37\": 28}, \"45\": {\"40\": 1, \"45\": 57, \"4\": 1, \"19\": 1}, \"42\": {\"42\": 24, \"28\": 4}, \"24\": {\"24\": 103, \"10\": 1}, \"15\": {\"15\": 136}, \"0\": {\"0\": 122, \"47\": 2}, \"47\": {\"47\": 90, \"42\": 1, \"55\": 1}, \"19\": {\"19\": 109, \"40\": 11}}}, \"per_domain_accuracy\": {\"ORACLE.run1_14\": {\"accuracy\": 0.709375, \"source?\": true}, \"ORACLE.run1_20\": {\"accuracy\": 0.47369791666666666, \"source?\": true}, \"ORACLE.run1_50\": {\"accuracy\": 0.7, \"source?\": true}, \"ORACLE.run1_26\": {\"accuracy\": 0.4388020833333333, \"source?\": true}, \"ORACLE.run1_32\": {\"accuracy\": 0.6815104166666667, \"source?\": true}, \"ORACLE.run1_44\": {\"accuracy\": 0.6661458333333333, \"source?\": true}, \"ORACLE.run1_8\": {\"accuracy\": 0.5752604166666667, \"source?\": true}, \"ORACLE.run1_38\": {\"accuracy\": 0.6651041666666667, \"source?\": true}, \"CORES_4\": {\"accuracy\": 0.968001497005988, \"source?\": false}, \"CORES_5\": {\"accuracy\": 0.9628142458100558, \"source?\": false}, \"CORES_2\": {\"accuracy\": 0.9657142857142857, \"source?\": false}, \"CORES_1\": {\"accuracy\": 0.9398777173913043, \"source?\": false}, \"CORES_3\": {\"accuracy\": 0.9735294117647059, \"source?\": false}}}, \"history\": {\"epoch_indices\": [1, 2, 3, 4, 5, 6, 7, 8, 9, 10, 11], \"train_label_loss\": [1.682776098042017, 1.0183577346172006, 0.8499894173793672, 0.7345871672300356, 0.6367468036112509, 0.5536221525354665, 0.48305674524994435, 0.4195522960145137, 0.3661494307159003, 0.32113952466052503, 0.28308953109954016], \"source_val_label_loss\": [1.2051142454147339, 1.062685489654541, 1.0558202266693115, 1.074453353881836, 1.1110694408416748, 1.1674727201461792, 1.2474744319915771, 1.31130051612854, 1.3964256048202515, 1.4878160953521729, 1.6121618747711182], \"target_val_label_loss\": [0.1694382280111313, 0.18036583065986633, 0.20797884464263916, 0.23793566226959229, 0.23972152173519135, 0.27169182896614075, 0.3039393126964569, 0.3275109529495239, 0.3559238910675049, 0.37858033180236816, 0.43566110730171204], \"source_val_acc_label\": [0.5443359375, 0.5957682291666667, 0.6027994791666667, 0.6078125, 0.604296875, 0.6115885416666667, 0.6137369791666667, 0.6069661458333333, 0.6046223958333333, 0.5990234375, 0.5964192708333333], \"target_val_acc_label\": [0.9566428571428571, 0.9610714285714286, 0.9594285714285714, 0.9551785714285714, 0.9615, 0.959, 0.9616428571428571, 0.9613571428571429, 0.9590714285714286, 0.96, 0.95575]}, \"dataset_metrics\": {\"source\": {\"train\": {\"n_unique_x\": 179200, \"n_unique_y\": 16, \"n_batch/episode\": 6720}, \"val\": {\"n_unique_x\": 38400, \"n_unique_y\": 16, \"n_batch/episode\": 960}, \"test\": {\"n_unique_x\": 38400, \"n_unique_y\": 16, \"n_batch/episode\": 960}}, \"target\": {\"train\": {\"n_unique_x\": 175158, \"n_unique_y\": 58, \"n_batch/episode\": 6317}, \"val\": {\"n_unique_x\": 37216, \"n_unique_y\": 58, \"n_batch/episode\": 875}, \"test\": {\"n_unique_x\": 37596, \"n_unique_y\": 58, \"n_batch/episode\": 886}}}}'"
      ]
     },
     "execution_count": 29,
     "metadata": {},
     "output_type": "execute_result"
    }
   ],
   "source": [
    "json.dumps(experiment)"
   ]
  }
 ],
 "metadata": {
  "celltoolbar": "Tags",
  "kernelspec": {
   "display_name": "Python 3 (ipykernel)",
   "language": "python",
   "name": "python3"
  },
  "language_info": {
   "codemirror_mode": {
    "name": "ipython",
    "version": 3
   },
   "file_extension": ".py",
   "mimetype": "text/x-python",
   "name": "python",
   "nbconvert_exporter": "python",
   "pygments_lexer": "ipython3",
   "version": "3.8.12"
  },
  "papermill": {
   "default_parameters": {},
   "duration": 2486.559792,
   "end_time": "2022-03-22T09:45:37.850437",
   "environment_variables": {},
   "exception": null,
   "input_path": "/root/csc500-main/csc500-notebooks/templates/tl_ptn_template.ipynb",
   "output_path": "trial.ipynb",
   "parameters": {
    "parameters": {
     "BEST_MODEL_PATH": "./best_model.pth",
     "NUM_LOGS_PER_EPOCH": 10,
     "criteria_for_best": "target_accuracy",
     "dataset_seed": 420,
     "datasets": [
      {
       "domain_prefix": "CORES_",
       "domains": [
        1,
        2,
        3,
        4,
        5
       ],
       "episode_transforms": [],
       "labels": [
        "1-10.",
        "1-11.",
        "1-15.",
        "1-16.",
        "1-17.",
        "1-18.",
        "1-19.",
        "10-4.",
        "10-7.",
        "11-1.",
        "11-14.",
        "11-17.",
        "11-20.",
        "11-7.",
        "13-20.",
        "13-8.",
        "14-10.",
        "14-11.",
        "14-14.",
        "14-7.",
        "15-1.",
        "15-20.",
        "16-1.",
        "16-16.",
        "17-10.",
        "17-11.",
        "17-2.",
        "19-1.",
        "19-16.",
        "19-19.",
        "19-20.",
        "19-3.",
        "2-10.",
        "2-11.",
        "2-17.",
        "2-18.",
        "2-20.",
        "2-3.",
        "2-4.",
        "2-5.",
        "2-6.",
        "2-7.",
        "2-8.",
        "3-13.",
        "3-18.",
        "3-3.",
        "4-1.",
        "4-10.",
        "4-11.",
        "4-19.",
        "5-5.",
        "6-15.",
        "7-10.",
        "7-14.",
        "8-18.",
        "8-20.",
        "8-3.",
        "8-8."
       ],
       "num_examples_per_domain_per_label": -1,
       "pickle_path": "/root/csc500-main/datasets/cores.stratified_ds.2022A.pkl",
       "source_or_target_dataset": "target",
       "x_transforms": [
        "unit_mag"
       ]
      },
      {
       "domain_prefix": "ORACLE.run1_",
       "domains": [
        32,
        38,
        8,
        44,
        14,
        50,
        20,
        26
       ],
       "episode_transforms": [],
       "labels": [
        "3123D52",
        "3123D65",
        "3123D79",
        "3123D80",
        "3123D54",
        "3123D70",
        "3123D7B",
        "3123D89",
        "3123D58",
        "3123D76",
        "3123D7D",
        "3123EFE",
        "3123D64",
        "3123D78",
        "3123D7E",
        "3124E4A"
       ],
       "num_examples_per_domain_per_label": 2000,
       "pickle_path": "/root/csc500-main/datasets/oracle.Run1_10kExamples_stratified_ds.2022A.pkl",
       "source_or_target_dataset": "source",
       "x_transforms": [
        "unit_mag"
       ]
      }
     ],
     "device": "cuda",
     "experiment_name": "tl_1v2:cores-oracle.run1.limited",
     "lr": 0.0001,
     "n_epoch": 50,
     "n_query": 2,
     "n_shot": 3,
     "n_way": 16,
     "patience": 3,
     "seed": 420,
     "test_k_factor": 2,
     "torch_default_dtype": "torch.float32",
     "train_k_factor": 3,
     "val_k_factor": 2,
     "x_net": [
      {
       "class": "nnReshape",
       "kargs": {
        "shape": [
         -1,
         1,
         2,
         256
        ]
       }
      },
      {
       "class": "Conv2d",
       "kargs": {
        "bias": false,
        "in_channels": 1,
        "kernel_size": [
         1,
         7
        ],
        "out_channels": 256,
        "padding": [
         0,
         3
        ]
       }
      },
      {
       "class": "ReLU",
       "kargs": {
        "inplace": true
       }
      },
      {
       "class": "BatchNorm2d",
       "kargs": {
        "num_features": 256
       }
      },
      {
       "class": "Conv2d",
       "kargs": {
        "bias": true,
        "in_channels": 256,
        "kernel_size": [
         2,
         7
        ],
        "out_channels": 80,
        "padding": [
         0,
         3
        ]
       }
      },
      {
       "class": "ReLU",
       "kargs": {
        "inplace": true
       }
      },
      {
       "class": "BatchNorm2d",
       "kargs": {
        "num_features": 80
       }
      },
      {
       "class": "Flatten",
       "kargs": {}
      },
      {
       "class": "Linear",
       "kargs": {
        "in_features": 20480,
        "out_features": 256
       }
      },
      {
       "class": "ReLU",
       "kargs": {
        "inplace": true
       }
      },
      {
       "class": "BatchNorm1d",
       "kargs": {
        "num_features": 256
       }
      },
      {
       "class": "Linear",
       "kargs": {
        "in_features": 256,
        "out_features": 256
       }
      }
     ]
    }
   },
   "start_time": "2022-03-22T09:04:11.290645",
   "version": "2.3.4"
  }
 },
 "nbformat": 4,
 "nbformat_minor": 5
}