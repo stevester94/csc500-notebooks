{
 "cells": [
  {
   "cell_type": "markdown",
   "id": "9fea5f46",
   "metadata": {
    "papermill": {
     "duration": 0.028613,
     "end_time": "2022-03-22T14:35:57.239688",
     "exception": false,
     "start_time": "2022-03-22T14:35:57.211075",
     "status": "completed"
    },
    "tags": []
   },
   "source": [
    "# Transfer Learning Template"
   ]
  },
  {
   "cell_type": "code",
   "execution_count": 1,
   "id": "0902182a",
   "metadata": {
    "execution": {
     "iopub.execute_input": "2022-03-22T14:35:57.303915Z",
     "iopub.status.busy": "2022-03-22T14:35:57.298490Z",
     "iopub.status.idle": "2022-03-22T14:35:59.116207Z",
     "shell.execute_reply": "2022-03-22T14:35:59.115372Z"
    },
    "papermill": {
     "duration": 1.850562,
     "end_time": "2022-03-22T14:35:59.116390",
     "exception": false,
     "start_time": "2022-03-22T14:35:57.265828",
     "status": "completed"
    },
    "tags": []
   },
   "outputs": [],
   "source": [
    "%load_ext autoreload\n",
    "%autoreload 2\n",
    "%matplotlib inline\n",
    "\n",
    "    \n",
    "import os, json, sys, time, random\n",
    "import numpy as np\n",
    "import torch\n",
    "from torch.optim import Adam\n",
    "from  easydict import EasyDict\n",
    "import matplotlib.pyplot as plt\n",
    "\n",
    "from steves_models.steves_ptn import Steves_Prototypical_Network\n",
    "\n",
    "from steves_utils.lazy_iterable_wrapper import Lazy_Iterable_Wrapper\n",
    "from steves_utils.iterable_aggregator import Iterable_Aggregator\n",
    "from steves_utils.ptn_train_eval_test_jig import  PTN_Train_Eval_Test_Jig\n",
    "from steves_utils.torch_sequential_builder import build_sequential\n",
    "from steves_utils.torch_utils import get_dataset_metrics, ptn_confusion_by_domain_over_dataloader\n",
    "from steves_utils.utils_v2 import (per_domain_accuracy_from_confusion, get_datasets_base_path)\n",
    "from steves_utils.PTN.utils import independent_accuracy_assesment\n",
    "\n",
    "from torch.utils.data import DataLoader\n",
    "\n",
    "from steves_utils.stratified_dataset.episodic_accessor import Episodic_Accessor_Factory\n",
    "\n",
    "from steves_utils.ptn_do_report import (\n",
    "    get_loss_curve,\n",
    "    get_results_table,\n",
    "    get_parameters_table,\n",
    "    get_domain_accuracies,\n",
    ")\n",
    "\n",
    "from steves_utils.transforms import get_chained_transform"
   ]
  },
  {
   "cell_type": "markdown",
   "id": "41c840b4",
   "metadata": {
    "papermill": {
     "duration": 0.019176,
     "end_time": "2022-03-22T14:35:59.159773",
     "exception": false,
     "start_time": "2022-03-22T14:35:59.140597",
     "status": "completed"
    },
    "tags": []
   },
   "source": [
    "# Allowed Parameters\n",
    "These are allowed parameters, not defaults\n",
    "Each of these values need to be present in the injected parameters (the notebook will raise an exception if they are not present)\n",
    "\n",
    "Papermill uses the cell tag \"parameters\" to inject the real parameters below this cell.\n",
    "Enable tags to see what I mean"
   ]
  },
  {
   "cell_type": "code",
   "execution_count": 2,
   "id": "fd44eb83",
   "metadata": {
    "execution": {
     "iopub.execute_input": "2022-03-22T14:35:59.201513Z",
     "iopub.status.busy": "2022-03-22T14:35:59.201109Z",
     "iopub.status.idle": "2022-03-22T14:35:59.220444Z",
     "shell.execute_reply": "2022-03-22T14:35:59.219730Z"
    },
    "papermill": {
     "duration": 0.041606,
     "end_time": "2022-03-22T14:35:59.220595",
     "exception": false,
     "start_time": "2022-03-22T14:35:59.178989",
     "status": "completed"
    },
    "tags": []
   },
   "outputs": [],
   "source": [
    "required_parameters = {\n",
    "    \"experiment_name\",\n",
    "    \"lr\",\n",
    "    \"device\",\n",
    "    \"seed\",\n",
    "    \"dataset_seed\",\n",
    "    \"n_shot\",\n",
    "    \"n_query\",\n",
    "    \"n_way\",\n",
    "    \"train_k_factor\",\n",
    "    \"val_k_factor\",\n",
    "    \"test_k_factor\",\n",
    "    \"n_epoch\",\n",
    "    \"patience\",\n",
    "    \"criteria_for_best\",\n",
    "    \"x_net\",\n",
    "    \"datasets\",\n",
    "    \"torch_default_dtype\",\n",
    "    \"NUM_LOGS_PER_EPOCH\",\n",
    "    \"BEST_MODEL_PATH\",\n",
    "    \"x_shape\",\n",
    "}"
   ]
  },
  {
   "cell_type": "code",
   "execution_count": 3,
   "id": "fa3f0049",
   "metadata": {
    "execution": {
     "iopub.execute_input": "2022-03-22T14:35:59.277631Z",
     "iopub.status.busy": "2022-03-22T14:35:59.276923Z",
     "iopub.status.idle": "2022-03-22T14:35:59.298084Z",
     "shell.execute_reply": "2022-03-22T14:35:59.297372Z"
    },
    "papermill": {
     "duration": 0.049702,
     "end_time": "2022-03-22T14:35:59.298236",
     "exception": false,
     "start_time": "2022-03-22T14:35:59.248534",
     "status": "completed"
    },
    "tags": [
     "parameters"
    ]
   },
   "outputs": [],
   "source": [
    "from steves_utils.CORES.utils import (\n",
    "    ALL_NODES,\n",
    "    ALL_NODES_MINIMUM_1000_EXAMPLES,\n",
    "    ALL_DAYS\n",
    ")\n",
    "\n",
    "from steves_utils.ORACLE.utils_v2 import (\n",
    "    ALL_DISTANCES_FEET_NARROWED,\n",
    "    ALL_RUNS,\n",
    "    ALL_SERIAL_NUMBERS,\n",
    ")\n",
    "\n",
    "standalone_parameters = {}\n",
    "standalone_parameters[\"experiment_name\"] = \"STANDALONE PTN\"\n",
    "standalone_parameters[\"lr\"] = 0.001\n",
    "standalone_parameters[\"device\"] = \"cuda\"\n",
    "\n",
    "standalone_parameters[\"seed\"] = 1337\n",
    "standalone_parameters[\"dataset_seed\"] = 1337\n",
    "\n",
    "standalone_parameters[\"n_way\"] = 8\n",
    "standalone_parameters[\"n_shot\"] = 3\n",
    "standalone_parameters[\"n_query\"]  = 2\n",
    "standalone_parameters[\"train_k_factor\"] = 1\n",
    "standalone_parameters[\"val_k_factor\"] = 2\n",
    "standalone_parameters[\"test_k_factor\"] = 2\n",
    "\n",
    "\n",
    "standalone_parameters[\"n_epoch\"] = 50\n",
    "\n",
    "standalone_parameters[\"patience\"] = 10\n",
    "standalone_parameters[\"criteria_for_best\"] = \"source_loss\"\n",
    "\n",
    "standalone_parameters[\"datasets\"] = [\n",
    "    {\n",
    "        \"labels\": ALL_SERIAL_NUMBERS,\n",
    "        \"domains\": ALL_DISTANCES_FEET_NARROWED,\n",
    "        \"num_examples_per_domain_per_label\": 100,\n",
    "        \"pickle_path\": os.path.join(get_datasets_base_path(), \"oracle.Run1_framed_2000Examples_stratified_ds.2022A.pkl\"),\n",
    "        \"source_or_target_dataset\": \"source\",\n",
    "        \"x_transforms\": [\"unit_mag\", \"minus_two\"],\n",
    "        \"episode_transforms\": [],\n",
    "        \"domain_prefix\": \"ORACLE_\"\n",
    "    },\n",
    "    {\n",
    "        \"labels\": ALL_NODES,\n",
    "        \"domains\": ALL_DAYS,\n",
    "        \"num_examples_per_domain_per_label\": 100,\n",
    "        \"pickle_path\": os.path.join(get_datasets_base_path(), \"cores.stratified_ds.2022A.pkl\"),\n",
    "        \"source_or_target_dataset\": \"target\",\n",
    "        \"x_transforms\": [\"unit_power\", \"times_zero\"],\n",
    "        \"episode_transforms\": [],\n",
    "        \"domain_prefix\": \"CORES_\"\n",
    "    }   \n",
    "]\n",
    "\n",
    "standalone_parameters[\"torch_default_dtype\"] = \"torch.float32\" \n",
    "\n",
    "\n",
    "\n",
    "standalone_parameters[\"x_net\"] =     [\n",
    "    {\"class\": \"nnReshape\", \"kargs\": {\"shape\":[-1, 1, 2, 256]}},\n",
    "    {\"class\": \"Conv2d\", \"kargs\": { \"in_channels\":1, \"out_channels\":256, \"kernel_size\":(1,7), \"bias\":False, \"padding\":(0,3), },},\n",
    "    {\"class\": \"ReLU\", \"kargs\": {\"inplace\": True}},\n",
    "    {\"class\": \"BatchNorm2d\", \"kargs\": {\"num_features\":256}},\n",
    "\n",
    "    {\"class\": \"Conv2d\", \"kargs\": { \"in_channels\":256, \"out_channels\":80, \"kernel_size\":(2,7), \"bias\":True, \"padding\":(0,3), },},\n",
    "    {\"class\": \"ReLU\", \"kargs\": {\"inplace\": True}},\n",
    "    {\"class\": \"BatchNorm2d\", \"kargs\": {\"num_features\":80}},\n",
    "    {\"class\": \"Flatten\", \"kargs\": {}},\n",
    "\n",
    "    {\"class\": \"Linear\", \"kargs\": {\"in_features\": 80*256, \"out_features\": 256}}, # 80 units per IQ pair\n",
    "    {\"class\": \"ReLU\", \"kargs\": {\"inplace\": True}},\n",
    "    {\"class\": \"BatchNorm1d\", \"kargs\": {\"num_features\":256}},\n",
    "\n",
    "    {\"class\": \"Linear\", \"kargs\": {\"in_features\": 256, \"out_features\": 256}},\n",
    "]\n",
    "\n",
    "# Parameters relevant to results\n",
    "# These parameters will basically never need to change\n",
    "standalone_parameters[\"NUM_LOGS_PER_EPOCH\"] = 10\n",
    "standalone_parameters[\"BEST_MODEL_PATH\"] = \"./best_model.pth\"\n",
    "\n",
    "\n",
    "\n",
    "\n"
   ]
  },
  {
   "cell_type": "code",
   "execution_count": 4,
   "id": "adafc561",
   "metadata": {
    "execution": {
     "iopub.execute_input": "2022-03-22T14:35:59.352810Z",
     "iopub.status.busy": "2022-03-22T14:35:59.352074Z",
     "iopub.status.idle": "2022-03-22T14:35:59.371499Z",
     "shell.execute_reply": "2022-03-22T14:35:59.372196Z"
    },
    "papermill": {
     "duration": 0.049157,
     "end_time": "2022-03-22T14:35:59.372374",
     "exception": false,
     "start_time": "2022-03-22T14:35:59.323217",
     "status": "completed"
    },
    "tags": [
     "injected-parameters"
    ]
   },
   "outputs": [],
   "source": [
    "# Parameters\n",
    "parameters = {\n",
    "    \"experiment_name\": \"tl_1v2:cores-oracle.run1.limited\",\n",
    "    \"device\": \"cuda\",\n",
    "    \"lr\": 0.0001,\n",
    "    \"n_shot\": 3,\n",
    "    \"n_query\": 2,\n",
    "    \"train_k_factor\": 3,\n",
    "    \"val_k_factor\": 2,\n",
    "    \"test_k_factor\": 2,\n",
    "    \"torch_default_dtype\": \"torch.float32\",\n",
    "    \"n_epoch\": 50,\n",
    "    \"patience\": 3,\n",
    "    \"criteria_for_best\": \"target_accuracy\",\n",
    "    \"x_net\": [\n",
    "        {\"class\": \"nnReshape\", \"kargs\": {\"shape\": [-1, 1, 2, 256]}},\n",
    "        {\n",
    "            \"class\": \"Conv2d\",\n",
    "            \"kargs\": {\n",
    "                \"in_channels\": 1,\n",
    "                \"out_channels\": 256,\n",
    "                \"kernel_size\": [1, 7],\n",
    "                \"bias\": False,\n",
    "                \"padding\": [0, 3],\n",
    "            },\n",
    "        },\n",
    "        {\"class\": \"ReLU\", \"kargs\": {\"inplace\": True}},\n",
    "        {\"class\": \"BatchNorm2d\", \"kargs\": {\"num_features\": 256}},\n",
    "        {\n",
    "            \"class\": \"Conv2d\",\n",
    "            \"kargs\": {\n",
    "                \"in_channels\": 256,\n",
    "                \"out_channels\": 80,\n",
    "                \"kernel_size\": [2, 7],\n",
    "                \"bias\": True,\n",
    "                \"padding\": [0, 3],\n",
    "            },\n",
    "        },\n",
    "        {\"class\": \"ReLU\", \"kargs\": {\"inplace\": True}},\n",
    "        {\"class\": \"BatchNorm2d\", \"kargs\": {\"num_features\": 80}},\n",
    "        {\"class\": \"Flatten\", \"kargs\": {}},\n",
    "        {\"class\": \"Linear\", \"kargs\": {\"in_features\": 20480, \"out_features\": 256}},\n",
    "        {\"class\": \"ReLU\", \"kargs\": {\"inplace\": True}},\n",
    "        {\"class\": \"BatchNorm1d\", \"kargs\": {\"num_features\": 256}},\n",
    "        {\"class\": \"Linear\", \"kargs\": {\"in_features\": 256, \"out_features\": 256}},\n",
    "    ],\n",
    "    \"NUM_LOGS_PER_EPOCH\": 10,\n",
    "    \"BEST_MODEL_PATH\": \"./best_model.pth\",\n",
    "    \"n_way\": 16,\n",
    "    \"datasets\": [\n",
    "        {\n",
    "            \"labels\": [\n",
    "                \"1-10.\",\n",
    "                \"1-11.\",\n",
    "                \"1-15.\",\n",
    "                \"1-16.\",\n",
    "                \"1-17.\",\n",
    "                \"1-18.\",\n",
    "                \"1-19.\",\n",
    "                \"10-4.\",\n",
    "                \"10-7.\",\n",
    "                \"11-1.\",\n",
    "                \"11-14.\",\n",
    "                \"11-17.\",\n",
    "                \"11-20.\",\n",
    "                \"11-7.\",\n",
    "                \"13-20.\",\n",
    "                \"13-8.\",\n",
    "                \"14-10.\",\n",
    "                \"14-11.\",\n",
    "                \"14-14.\",\n",
    "                \"14-7.\",\n",
    "                \"15-1.\",\n",
    "                \"15-20.\",\n",
    "                \"16-1.\",\n",
    "                \"16-16.\",\n",
    "                \"17-10.\",\n",
    "                \"17-11.\",\n",
    "                \"17-2.\",\n",
    "                \"19-1.\",\n",
    "                \"19-16.\",\n",
    "                \"19-19.\",\n",
    "                \"19-20.\",\n",
    "                \"19-3.\",\n",
    "                \"2-10.\",\n",
    "                \"2-11.\",\n",
    "                \"2-17.\",\n",
    "                \"2-18.\",\n",
    "                \"2-20.\",\n",
    "                \"2-3.\",\n",
    "                \"2-4.\",\n",
    "                \"2-5.\",\n",
    "                \"2-6.\",\n",
    "                \"2-7.\",\n",
    "                \"2-8.\",\n",
    "                \"3-13.\",\n",
    "                \"3-18.\",\n",
    "                \"3-3.\",\n",
    "                \"4-1.\",\n",
    "                \"4-10.\",\n",
    "                \"4-11.\",\n",
    "                \"4-19.\",\n",
    "                \"5-5.\",\n",
    "                \"6-15.\",\n",
    "                \"7-10.\",\n",
    "                \"7-14.\",\n",
    "                \"8-18.\",\n",
    "                \"8-20.\",\n",
    "                \"8-3.\",\n",
    "                \"8-8.\",\n",
    "            ],\n",
    "            \"domains\": [1, 2, 3, 4, 5],\n",
    "            \"num_examples_per_domain_per_label\": -1,\n",
    "            \"pickle_path\": \"/root/csc500-main/datasets/cores.stratified_ds.2022A.pkl\",\n",
    "            \"source_or_target_dataset\": \"source\",\n",
    "            \"x_transforms\": [],\n",
    "            \"episode_transforms\": [],\n",
    "            \"domain_prefix\": \"CORES_\",\n",
    "        },\n",
    "        {\n",
    "            \"labels\": [\n",
    "                \"3123D52\",\n",
    "                \"3123D65\",\n",
    "                \"3123D79\",\n",
    "                \"3123D80\",\n",
    "                \"3123D54\",\n",
    "                \"3123D70\",\n",
    "                \"3123D7B\",\n",
    "                \"3123D89\",\n",
    "                \"3123D58\",\n",
    "                \"3123D76\",\n",
    "                \"3123D7D\",\n",
    "                \"3123EFE\",\n",
    "                \"3123D64\",\n",
    "                \"3123D78\",\n",
    "                \"3123D7E\",\n",
    "                \"3124E4A\",\n",
    "            ],\n",
    "            \"domains\": [32, 38, 8, 44, 14, 50, 20, 26],\n",
    "            \"num_examples_per_domain_per_label\": 2000,\n",
    "            \"pickle_path\": \"/root/csc500-main/datasets/oracle.Run1_10kExamples_stratified_ds.2022A.pkl\",\n",
    "            \"source_or_target_dataset\": \"target\",\n",
    "            \"x_transforms\": [],\n",
    "            \"episode_transforms\": [],\n",
    "            \"domain_prefix\": \"ORACLE.run1_\",\n",
    "        },\n",
    "    ],\n",
    "    \"dataset_seed\": 7,\n",
    "    \"seed\": 7,\n",
    "}\n"
   ]
  },
  {
   "cell_type": "code",
   "execution_count": 5,
   "id": "8fa1cc33",
   "metadata": {
    "execution": {
     "iopub.execute_input": "2022-03-22T14:35:59.424785Z",
     "iopub.status.busy": "2022-03-22T14:35:59.424218Z",
     "iopub.status.idle": "2022-03-22T14:35:59.443876Z",
     "shell.execute_reply": "2022-03-22T14:35:59.443030Z"
    },
    "papermill": {
     "duration": 0.043348,
     "end_time": "2022-03-22T14:35:59.444029",
     "exception": false,
     "start_time": "2022-03-22T14:35:59.400681",
     "status": "completed"
    },
    "tags": []
   },
   "outputs": [],
   "source": [
    "# Set this to True if you want to run this template directly\n",
    "STANDALONE = False\n",
    "if STANDALONE:\n",
    "    print(\"parameters not injected, running with standalone_parameters\")\n",
    "    parameters = standalone_parameters\n",
    "\n",
    "if not 'parameters' in locals() and not 'parameters' in globals():\n",
    "    raise Exception(\"Parameter injection failed\")\n",
    "\n",
    "#Use an easy dict for all the parameters\n",
    "p = EasyDict(parameters)\n",
    "\n",
    "if \"x_shape\" not in p:\n",
    "    p.x_shape = [2,256] # Default to this if we dont supply x_shape\n",
    "\n",
    "\n",
    "supplied_keys = set(p.keys())\n",
    "\n",
    "if  supplied_keys != required_parameters:\n",
    "    print(\"Parameters are incorrect\")\n",
    "    if len(supplied_keys - required_parameters)>0: print(\"Shouldn't have:\", str(supplied_keys - required_parameters))\n",
    "    if len(required_parameters - supplied_keys)>0: print(\"Need to have:\", str(required_parameters - supplied_keys))\n",
    "    raise RuntimeError(\"Parameters are incorrect\")"
   ]
  },
  {
   "cell_type": "code",
   "execution_count": 6,
   "id": "3a028d58",
   "metadata": {
    "execution": {
     "iopub.execute_input": "2022-03-22T14:35:59.494108Z",
     "iopub.status.busy": "2022-03-22T14:35:59.493729Z",
     "iopub.status.idle": "2022-03-22T14:35:59.516427Z",
     "shell.execute_reply": "2022-03-22T14:35:59.515604Z"
    },
    "papermill": {
     "duration": 0.046079,
     "end_time": "2022-03-22T14:35:59.516584",
     "exception": false,
     "start_time": "2022-03-22T14:35:59.470505",
     "status": "completed"
    },
    "tags": []
   },
   "outputs": [],
   "source": [
    "###################################\n",
    "# Set the RNGs and make it all deterministic\n",
    "###################################\n",
    "np.random.seed(p.seed)\n",
    "random.seed(p.seed)\n",
    "torch.manual_seed(p.seed)\n",
    "\n",
    "torch.use_deterministic_algorithms(True) "
   ]
  },
  {
   "cell_type": "code",
   "execution_count": 7,
   "id": "b691acf6",
   "metadata": {
    "execution": {
     "iopub.execute_input": "2022-03-22T14:35:59.565906Z",
     "iopub.status.busy": "2022-03-22T14:35:59.565530Z",
     "iopub.status.idle": "2022-03-22T14:35:59.586901Z",
     "shell.execute_reply": "2022-03-22T14:35:59.586087Z"
    },
    "papermill": {
     "duration": 0.043862,
     "end_time": "2022-03-22T14:35:59.587058",
     "exception": false,
     "start_time": "2022-03-22T14:35:59.543196",
     "status": "completed"
    },
    "tags": []
   },
   "outputs": [],
   "source": [
    "###########################################\n",
    "# The stratified datasets honor this\n",
    "###########################################\n",
    "torch.set_default_dtype(eval(p.torch_default_dtype))"
   ]
  },
  {
   "cell_type": "code",
   "execution_count": 8,
   "id": "b5fba671",
   "metadata": {
    "execution": {
     "iopub.execute_input": "2022-03-22T14:35:59.635245Z",
     "iopub.status.busy": "2022-03-22T14:35:59.634877Z",
     "iopub.status.idle": "2022-03-22T14:35:59.686439Z",
     "shell.execute_reply": "2022-03-22T14:35:59.685621Z"
    },
    "papermill": {
     "duration": 0.074607,
     "end_time": "2022-03-22T14:35:59.686593",
     "exception": false,
     "start_time": "2022-03-22T14:35:59.611986",
     "status": "completed"
    },
    "tags": []
   },
   "outputs": [],
   "source": [
    "###################################\n",
    "# Build the network(s)\n",
    "# Note: It's critical to do this AFTER setting the RNG\n",
    "###################################\n",
    "x_net = build_sequential(p.x_net)"
   ]
  },
  {
   "cell_type": "code",
   "execution_count": 9,
   "id": "5d7e61cc",
   "metadata": {
    "execution": {
     "iopub.execute_input": "2022-03-22T14:35:59.737155Z",
     "iopub.status.busy": "2022-03-22T14:35:59.736442Z",
     "iopub.status.idle": "2022-03-22T14:35:59.757814Z",
     "shell.execute_reply": "2022-03-22T14:35:59.757004Z"
    },
    "papermill": {
     "duration": 0.043755,
     "end_time": "2022-03-22T14:35:59.757967",
     "exception": false,
     "start_time": "2022-03-22T14:35:59.714212",
     "status": "completed"
    },
    "tags": []
   },
   "outputs": [],
   "source": [
    "start_time_secs = time.time()"
   ]
  },
  {
   "cell_type": "code",
   "execution_count": 10,
   "id": "c6b67dfd",
   "metadata": {
    "execution": {
     "iopub.execute_input": "2022-03-22T14:35:59.806833Z",
     "iopub.status.busy": "2022-03-22T14:35:59.806467Z",
     "iopub.status.idle": "2022-03-22T14:35:59.824812Z",
     "shell.execute_reply": "2022-03-22T14:35:59.824104Z"
    },
    "papermill": {
     "duration": 0.041697,
     "end_time": "2022-03-22T14:35:59.824970",
     "exception": false,
     "start_time": "2022-03-22T14:35:59.783273",
     "status": "completed"
    },
    "tags": []
   },
   "outputs": [],
   "source": [
    "p.domains_source = []\n",
    "p.domains_target = []\n",
    "\n",
    "\n",
    "train_original_source = []\n",
    "val_original_source   = []\n",
    "test_original_source  = []\n",
    "\n",
    "train_original_target = []\n",
    "val_original_target   = []\n",
    "test_original_target  = []"
   ]
  },
  {
   "cell_type": "code",
   "execution_count": 11,
   "id": "e3d9c3d3",
   "metadata": {
    "execution": {
     "iopub.execute_input": "2022-03-22T14:35:59.875814Z",
     "iopub.status.busy": "2022-03-22T14:35:59.875423Z",
     "iopub.status.idle": "2022-03-22T14:35:59.899187Z",
     "shell.execute_reply": "2022-03-22T14:35:59.898374Z"
    },
    "papermill": {
     "duration": 0.047919,
     "end_time": "2022-03-22T14:35:59.899340",
     "exception": false,
     "start_time": "2022-03-22T14:35:59.851421",
     "status": "completed"
    },
    "tags": []
   },
   "outputs": [],
   "source": [
    "# global_x_transform_func = lambda x: normalize(x.to(torch.get_default_dtype()), \"unit_power\") # unit_power, unit_mag\n",
    "# global_x_transform_func = lambda x: normalize(x, \"unit_power\") # unit_power, unit_mag"
   ]
  },
  {
   "cell_type": "code",
   "execution_count": 12,
   "id": "acb78fd2",
   "metadata": {
    "execution": {
     "iopub.execute_input": "2022-03-22T14:35:59.958840Z",
     "iopub.status.busy": "2022-03-22T14:35:59.958263Z",
     "iopub.status.idle": "2022-03-22T14:35:59.978541Z",
     "shell.execute_reply": "2022-03-22T14:35:59.977729Z"
    },
    "papermill": {
     "duration": 0.051957,
     "end_time": "2022-03-22T14:35:59.978695",
     "exception": false,
     "start_time": "2022-03-22T14:35:59.926738",
     "status": "completed"
    },
    "tags": []
   },
   "outputs": [],
   "source": [
    "def add_dataset(\n",
    "    labels,\n",
    "    domains,\n",
    "    pickle_path,\n",
    "    x_transforms,\n",
    "    episode_transforms,\n",
    "    domain_prefix,\n",
    "    num_examples_per_domain_per_label,\n",
    "    source_or_target_dataset:str,\n",
    "    iterator_seed=p.seed,\n",
    "    dataset_seed=p.dataset_seed,\n",
    "    n_shot=p.n_shot,\n",
    "    n_way=p.n_way,\n",
    "    n_query=p.n_query,\n",
    "    train_val_test_k_factors=(p.train_k_factor,p.val_k_factor,p.test_k_factor),\n",
    "):\n",
    "   \n",
    "    if x_transforms == []: x_transform = None\n",
    "    else: x_transform = get_chained_transform(x_transforms)\n",
    "    \n",
    "    if episode_transforms == []: episode_transform = None\n",
    "    else: raise Exception(\"episode_transforms not implemented\")\n",
    "    \n",
    "    episode_transform = lambda tup, _prefix=domain_prefix: (_prefix + str(tup[0]), tup[1])\n",
    "\n",
    "\n",
    "    eaf = Episodic_Accessor_Factory(\n",
    "        labels=labels,\n",
    "        domains=domains,\n",
    "        num_examples_per_domain_per_label=num_examples_per_domain_per_label,\n",
    "        iterator_seed=iterator_seed,\n",
    "        dataset_seed=dataset_seed,\n",
    "        n_shot=n_shot,\n",
    "        n_way=n_way,\n",
    "        n_query=n_query,\n",
    "        train_val_test_k_factors=train_val_test_k_factors,\n",
    "        pickle_path=pickle_path,\n",
    "        x_transform_func=x_transform,\n",
    "    )\n",
    "\n",
    "    train, val, test = eaf.get_train(), eaf.get_val(), eaf.get_test()\n",
    "    train = Lazy_Iterable_Wrapper(train, episode_transform)\n",
    "    val = Lazy_Iterable_Wrapper(val, episode_transform)\n",
    "    test = Lazy_Iterable_Wrapper(test, episode_transform)\n",
    "\n",
    "    if source_or_target_dataset==\"source\":\n",
    "        train_original_source.append(train)\n",
    "        val_original_source.append(val)\n",
    "        test_original_source.append(test)\n",
    "\n",
    "        p.domains_source.extend(\n",
    "            [domain_prefix + str(u) for u in domains]\n",
    "        )\n",
    "    elif source_or_target_dataset==\"target\":\n",
    "        train_original_target.append(train)\n",
    "        val_original_target.append(val)\n",
    "        test_original_target.append(test)\n",
    "        p.domains_target.extend(\n",
    "            [domain_prefix + str(u) for u in domains]\n",
    "        )\n",
    "    else:\n",
    "        raise Exception(f\"invalid source_or_target_dataset: {source_or_target_dataset}\")\n",
    "    "
   ]
  },
  {
   "cell_type": "code",
   "execution_count": 13,
   "id": "fe266617",
   "metadata": {
    "execution": {
     "iopub.execute_input": "2022-03-22T14:36:00.031218Z",
     "iopub.status.busy": "2022-03-22T14:36:00.030850Z",
     "iopub.status.idle": "2022-03-22T14:36:06.432383Z",
     "shell.execute_reply": "2022-03-22T14:36:06.433066Z"
    },
    "papermill": {
     "duration": 6.427127,
     "end_time": "2022-03-22T14:36:06.433345",
     "exception": false,
     "start_time": "2022-03-22T14:36:00.006218",
     "status": "completed"
    },
    "tags": []
   },
   "outputs": [],
   "source": [
    "for ds in p.datasets:\n",
    "    add_dataset(**ds)"
   ]
  },
  {
   "cell_type": "code",
   "execution_count": 14,
   "id": "b90d65ac",
   "metadata": {
    "execution": {
     "iopub.execute_input": "2022-03-22T14:36:06.483153Z",
     "iopub.status.busy": "2022-03-22T14:36:06.482441Z",
     "iopub.status.idle": "2022-03-22T14:36:06.510006Z",
     "shell.execute_reply": "2022-03-22T14:36:06.509189Z"
    },
    "papermill": {
     "duration": 0.051824,
     "end_time": "2022-03-22T14:36:06.510162",
     "exception": false,
     "start_time": "2022-03-22T14:36:06.458338",
     "status": "completed"
    },
    "tags": []
   },
   "outputs": [],
   "source": [
    "# from steves_utils.CORES.utils import (\n",
    "#     ALL_NODES,\n",
    "#     ALL_NODES_MINIMUM_1000_EXAMPLES,\n",
    "#     ALL_DAYS\n",
    "# )\n",
    "\n",
    "# add_dataset(\n",
    "#     labels=ALL_NODES,\n",
    "#     domains = ALL_DAYS,\n",
    "#     num_examples_per_domain_per_label=100,\n",
    "#     pickle_path=os.path.join(get_datasets_base_path(), \"cores.stratified_ds.2022A.pkl\"),\n",
    "#     source_or_target_dataset=\"target\",\n",
    "#     x_transform_func=global_x_transform_func,\n",
    "#     domain_modifier=lambda u: f\"cores_{u}\"\n",
    "# )"
   ]
  },
  {
   "cell_type": "code",
   "execution_count": 15,
   "id": "76db484d",
   "metadata": {
    "execution": {
     "iopub.execute_input": "2022-03-22T14:36:06.564179Z",
     "iopub.status.busy": "2022-03-22T14:36:06.563778Z",
     "iopub.status.idle": "2022-03-22T14:36:06.585343Z",
     "shell.execute_reply": "2022-03-22T14:36:06.584635Z"
    },
    "papermill": {
     "duration": 0.04629,
     "end_time": "2022-03-22T14:36:06.585497",
     "exception": false,
     "start_time": "2022-03-22T14:36:06.539207",
     "status": "completed"
    },
    "tags": []
   },
   "outputs": [],
   "source": [
    "# from steves_utils.ORACLE.utils_v2 import (\n",
    "#     ALL_DISTANCES_FEET,\n",
    "#     ALL_RUNS,\n",
    "#     ALL_SERIAL_NUMBERS,\n",
    "# )\n",
    "\n",
    "\n",
    "# add_dataset(\n",
    "#     labels=ALL_SERIAL_NUMBERS,\n",
    "#     domains = list(set(ALL_DISTANCES_FEET) - {2,62}),\n",
    "#     num_examples_per_domain_per_label=100,\n",
    "#     pickle_path=os.path.join(get_datasets_base_path(), \"oracle.Run2_framed_2000Examples_stratified_ds.2022A.pkl\"),\n",
    "#     source_or_target_dataset=\"source\",\n",
    "#     x_transform_func=global_x_transform_func,\n",
    "#     domain_modifier=lambda u: f\"oracle1_{u}\"\n",
    "# )\n"
   ]
  },
  {
   "cell_type": "code",
   "execution_count": 16,
   "id": "97dea9d2",
   "metadata": {
    "execution": {
     "iopub.execute_input": "2022-03-22T14:36:06.645061Z",
     "iopub.status.busy": "2022-03-22T14:36:06.644019Z",
     "iopub.status.idle": "2022-03-22T14:36:06.658229Z",
     "shell.execute_reply": "2022-03-22T14:36:06.657557Z"
    },
    "papermill": {
     "duration": 0.046225,
     "end_time": "2022-03-22T14:36:06.658387",
     "exception": false,
     "start_time": "2022-03-22T14:36:06.612162",
     "status": "completed"
    },
    "tags": []
   },
   "outputs": [],
   "source": [
    "# from steves_utils.ORACLE.utils_v2 import (\n",
    "#     ALL_DISTANCES_FEET,\n",
    "#     ALL_RUNS,\n",
    "#     ALL_SERIAL_NUMBERS,\n",
    "# )\n",
    "\n",
    "\n",
    "# add_dataset(\n",
    "#     labels=ALL_SERIAL_NUMBERS,\n",
    "#     domains = list(set(ALL_DISTANCES_FEET) - {2,62,56}),\n",
    "#     num_examples_per_domain_per_label=100,\n",
    "#     pickle_path=os.path.join(get_datasets_base_path(), \"oracle.Run2_framed_2000Examples_stratified_ds.2022A.pkl\"),\n",
    "#     source_or_target_dataset=\"source\",\n",
    "#     x_transform_func=global_x_transform_func,\n",
    "#     domain_modifier=lambda u: f\"oracle2_{u}\"\n",
    "# )"
   ]
  },
  {
   "cell_type": "code",
   "execution_count": 17,
   "id": "6f289866",
   "metadata": {
    "execution": {
     "iopub.execute_input": "2022-03-22T14:36:06.713911Z",
     "iopub.status.busy": "2022-03-22T14:36:06.709271Z",
     "iopub.status.idle": "2022-03-22T14:36:06.733607Z",
     "shell.execute_reply": "2022-03-22T14:36:06.732799Z"
    },
    "papermill": {
     "duration": 0.049499,
     "end_time": "2022-03-22T14:36:06.733760",
     "exception": false,
     "start_time": "2022-03-22T14:36:06.684261",
     "status": "completed"
    },
    "tags": []
   },
   "outputs": [],
   "source": [
    "# add_dataset(\n",
    "#     labels=list(range(19)),\n",
    "#     domains = [0,1,2],\n",
    "#     num_examples_per_domain_per_label=100,\n",
    "#     pickle_path=os.path.join(get_datasets_base_path(), \"metehan.stratified_ds.2022A.pkl\"),\n",
    "#     source_or_target_dataset=\"target\",\n",
    "#     x_transform_func=global_x_transform_func,\n",
    "#     domain_modifier=lambda u: f\"met_{u}\"\n",
    "# )"
   ]
  },
  {
   "cell_type": "code",
   "execution_count": 18,
   "id": "86a863c3",
   "metadata": {
    "execution": {
     "iopub.execute_input": "2022-03-22T14:36:06.786818Z",
     "iopub.status.busy": "2022-03-22T14:36:06.785450Z",
     "iopub.status.idle": "2022-03-22T14:36:06.804714Z",
     "shell.execute_reply": "2022-03-22T14:36:06.803906Z"
    },
    "papermill": {
     "duration": 0.044839,
     "end_time": "2022-03-22T14:36:06.804867",
     "exception": false,
     "start_time": "2022-03-22T14:36:06.760028",
     "status": "completed"
    },
    "tags": []
   },
   "outputs": [],
   "source": [
    "# # from steves_utils.wisig.utils import (\n",
    "# #     ALL_NODES_MINIMUM_100_EXAMPLES,\n",
    "# #     ALL_NODES_MINIMUM_500_EXAMPLES,\n",
    "# #     ALL_NODES_MINIMUM_1000_EXAMPLES,\n",
    "# #     ALL_DAYS\n",
    "# # )\n",
    "\n",
    "# import steves_utils.wisig.utils as wisig\n",
    "\n",
    "\n",
    "# add_dataset(\n",
    "#     labels=wisig.ALL_NODES_MINIMUM_100_EXAMPLES,\n",
    "#     domains = wisig.ALL_DAYS,\n",
    "#     num_examples_per_domain_per_label=100,\n",
    "#     pickle_path=os.path.join(get_datasets_base_path(), \"wisig.node3-19.stratified_ds.2022A.pkl\"),\n",
    "#     source_or_target_dataset=\"target\",\n",
    "#     x_transform_func=global_x_transform_func,\n",
    "#     domain_modifier=lambda u: f\"wisig_{u}\"\n",
    "# )"
   ]
  },
  {
   "cell_type": "code",
   "execution_count": 19,
   "id": "fd5442bc",
   "metadata": {
    "execution": {
     "iopub.execute_input": "2022-03-22T14:36:06.856172Z",
     "iopub.status.busy": "2022-03-22T14:36:06.855787Z",
     "iopub.status.idle": "2022-03-22T14:36:06.875247Z",
     "shell.execute_reply": "2022-03-22T14:36:06.874542Z"
    },
    "papermill": {
     "duration": 0.045561,
     "end_time": "2022-03-22T14:36:06.875400",
     "exception": false,
     "start_time": "2022-03-22T14:36:06.829839",
     "status": "completed"
    },
    "tags": []
   },
   "outputs": [],
   "source": [
    "###################################\n",
    "# Build the dataset\n",
    "###################################\n",
    "train_original_source = Iterable_Aggregator(train_original_source, p.seed)\n",
    "val_original_source = Iterable_Aggregator(val_original_source, p.seed)\n",
    "test_original_source = Iterable_Aggregator(test_original_source, p.seed)\n",
    "\n",
    "\n",
    "train_original_target = Iterable_Aggregator(train_original_target, p.seed)\n",
    "val_original_target = Iterable_Aggregator(val_original_target, p.seed)\n",
    "test_original_target = Iterable_Aggregator(test_original_target, p.seed)\n",
    "\n",
    "# For CNN We only use X and Y. And we only train on the source.\n",
    "# Properly form the data using a transform lambda and Lazy_Iterable_Wrapper. Finally wrap them in a dataloader\n",
    "\n",
    "transform_lambda = lambda ex: ex[1] # Original is (<domain>, <episode>) so we strip down to episode only\n",
    "\n",
    "train_processed_source = Lazy_Iterable_Wrapper(train_original_source, transform_lambda)\n",
    "val_processed_source   = Lazy_Iterable_Wrapper(val_original_source, transform_lambda)\n",
    "test_processed_source  = Lazy_Iterable_Wrapper(test_original_source, transform_lambda)\n",
    "\n",
    "train_processed_target = Lazy_Iterable_Wrapper(train_original_target, transform_lambda)\n",
    "val_processed_target   = Lazy_Iterable_Wrapper(val_original_target, transform_lambda)\n",
    "test_processed_target  = Lazy_Iterable_Wrapper(test_original_target, transform_lambda)\n",
    "\n",
    "datasets = EasyDict({\n",
    "    \"source\": {\n",
    "        \"original\": {\"train\":train_original_source, \"val\":val_original_source, \"test\":test_original_source},\n",
    "        \"processed\": {\"train\":train_processed_source, \"val\":val_processed_source, \"test\":test_processed_source}\n",
    "    },\n",
    "    \"target\": {\n",
    "        \"original\": {\"train\":train_original_target, \"val\":val_original_target, \"test\":test_original_target},\n",
    "        \"processed\": {\"train\":train_processed_target, \"val\":val_processed_target, \"test\":test_processed_target}\n",
    "    },\n",
    "})"
   ]
  },
  {
   "cell_type": "code",
   "execution_count": 20,
   "id": "5b3c01fc",
   "metadata": {
    "execution": {
     "iopub.execute_input": "2022-03-22T14:36:06.931997Z",
     "iopub.status.busy": "2022-03-22T14:36:06.931427Z",
     "iopub.status.idle": "2022-03-22T14:36:21.489559Z",
     "shell.execute_reply": "2022-03-22T14:36:21.488767Z"
    },
    "papermill": {
     "duration": 14.584648,
     "end_time": "2022-03-22T14:36:21.489732",
     "exception": false,
     "start_time": "2022-03-22T14:36:06.905084",
     "status": "completed"
    },
    "tags": []
   },
   "outputs": [
    {
     "name": "stdout",
     "output_type": "stream",
     "text": [
      "{'CORES_5', 'CORES_3', 'CORES_4', 'CORES_1', 'CORES_2'}\n"
     ]
    },
    {
     "name": "stdout",
     "output_type": "stream",
     "text": [
      "{'ORACLE.run1_32', 'ORACLE.run1_14', 'ORACLE.run1_8', 'ORACLE.run1_50', 'ORACLE.run1_44', 'ORACLE.run1_20', 'ORACLE.run1_26', 'ORACLE.run1_38'}\n"
     ]
    },
    {
     "name": "stdout",
     "output_type": "stream",
     "text": [
      "tensor([[[ 2.4109e-03, -8.8503e-04,  1.1200e-02,  ..., -1.8067e-02,\n",
      "          -6.5828e-02, -8.9114e-03],\n",
      "         [ 1.6816e-02, -2.4384e-02, -5.3590e-02,  ..., -3.9033e-02,\n",
      "           5.8473e-02,  3.4303e-02]],\n",
      "\n",
      "        [[ 2.2889e-03, -8.8503e-04, -2.9908e-02,  ..., -4.1627e-02,\n",
      "           4.2512e-02,  6.9155e-02],\n",
      "         [-1.3825e-02, -1.4344e-03,  2.7497e-02,  ...,  2.6185e-02,\n",
      "           2.4354e-02, -2.1790e-02]],\n",
      "\n",
      "        [[-8.3925e-03, -2.0814e-02,  3.7354e-02,  ...,  5.8931e-02,\n",
      "           3.5615e-02, -9.9063e-02],\n",
      "         [ 1.1170e-02,  1.0773e-02, -4.1810e-03,  ...,  2.5849e-02,\n",
      "          -4.0773e-02, -6.2379e-02]],\n",
      "\n",
      "        ...,\n",
      "\n",
      "        [[-3.9063e-03, -1.6175e-03,  9.9795e-03,  ...,  1.0407e-02,\n",
      "           9.2471e-03, -6.7140e-04],\n",
      "         [-6.1037e-05, -8.5757e-03, -1.7395e-03,  ..., -8.1484e-03,\n",
      "          -1.8342e-02, -5.5849e-03]],\n",
      "\n",
      "        [[ 3.7538e-03,  5.6764e-03, -7.2328e-03,  ..., -8.8503e-04,\n",
      "           5.6459e-03,  3.8148e-03],\n",
      "         [-2.6856e-03,  6.8666e-03,  8.1789e-03,  ...,  1.3916e-02,\n",
      "           1.9135e-02,  1.4649e-03]],\n",
      "\n",
      "        [[-1.5870e-03, -1.6480e-03,  8.5146e-03,  ...,  6.8056e-03,\n",
      "           1.5259e-02,  1.7640e-02],\n",
      "         [ 5.7985e-04, -5.0050e-03, -3.2044e-03,  ...,  4.9135e-03,\n",
      "           2.1363e-04, -4.6388e-03]]])\n"
     ]
    }
   ],
   "source": [
    "from steves_utils.transforms import get_average_magnitude, get_average_power\n",
    "\n",
    "print(set([u for u,_ in val_original_source]))\n",
    "print(set([u for u,_ in val_original_target]))\n",
    "\n",
    "s_x, s_y, q_x, q_y, _ = next(iter(train_processed_source))\n",
    "print(s_x)\n",
    "\n",
    "# for ds in [\n",
    "#     train_processed_source,\n",
    "#     val_processed_source,\n",
    "#     test_processed_source,\n",
    "#     train_processed_target,\n",
    "#     val_processed_target,\n",
    "#     test_processed_target\n",
    "# ]:\n",
    "#     for s_x, s_y, q_x, q_y, _ in ds:\n",
    "#         for X in (s_x, q_x):\n",
    "#             for x in X:\n",
    "#                 assert np.isclose(get_average_magnitude(x.numpy()), 1.0)\n",
    "#                 assert np.isclose(get_average_power(x.numpy()), 1.0)\n",
    "                "
   ]
  },
  {
   "cell_type": "code",
   "execution_count": 21,
   "id": "bbdacba1",
   "metadata": {
    "execution": {
     "iopub.execute_input": "2022-03-22T14:36:21.544505Z",
     "iopub.status.busy": "2022-03-22T14:36:21.544130Z",
     "iopub.status.idle": "2022-03-22T14:36:21.767476Z",
     "shell.execute_reply": "2022-03-22T14:36:21.766715Z"
    },
    "papermill": {
     "duration": 0.251153,
     "end_time": "2022-03-22T14:36:21.767696",
     "exception": false,
     "start_time": "2022-03-22T14:36:21.516543",
     "status": "completed"
    },
    "tags": []
   },
   "outputs": [
    {
     "name": "stdout",
     "output_type": "stream",
     "text": [
      "(2, 256)\n"
     ]
    }
   ],
   "source": [
    "###################################\n",
    "# Build the model\n",
    "###################################\n",
    "# easfsl only wants a tuple for the shape\n",
    "model = Steves_Prototypical_Network(x_net, device=p.device, x_shape=tuple(p.x_shape))\n",
    "optimizer = Adam(params=model.parameters(), lr=p.lr)"
   ]
  },
  {
   "cell_type": "code",
   "execution_count": 22,
   "id": "22b39ac5",
   "metadata": {
    "execution": {
     "iopub.execute_input": "2022-03-22T14:36:21.826254Z",
     "iopub.status.busy": "2022-03-22T14:36:21.825873Z",
     "iopub.status.idle": "2022-03-22T14:51:24.542458Z",
     "shell.execute_reply": "2022-03-22T14:51:24.542109Z"
    },
    "papermill": {
     "duration": 902.744491,
     "end_time": "2022-03-22T14:51:24.542553",
     "exception": false,
     "start_time": "2022-03-22T14:36:21.798062",
     "status": "completed"
    },
    "tags": []
   },
   "outputs": [
    {
     "name": "stdout",
     "output_type": "stream",
     "text": [
      "epoch: 1, [batch: 1 / 6316], examples_per_second: 34.7761, train_label_loss: 2.0591, \n"
     ]
    },
    {
     "name": "stdout",
     "output_type": "stream",
     "text": [
      "epoch: 1, [batch: 632 / 6316], examples_per_second: 3841.8109, train_label_loss: 0.0408, \n"
     ]
    },
    {
     "name": "stdout",
     "output_type": "stream",
     "text": [
      "epoch: 1, [batch: 1264 / 6316], examples_per_second: 3872.9371, train_label_loss: 0.0142, \n"
     ]
    },
    {
     "name": "stdout",
     "output_type": "stream",
     "text": [
      "epoch: 1, [batch: 1895 / 6316], examples_per_second: 3943.5158, train_label_loss: 0.0007, \n"
     ]
    },
    {
     "name": "stdout",
     "output_type": "stream",
     "text": [
      "epoch: 1, [batch: 2527 / 6316], examples_per_second: 3772.4709, train_label_loss: 0.0341, \n"
     ]
    },
    {
     "name": "stdout",
     "output_type": "stream",
     "text": [
      "epoch: 1, [batch: 3158 / 6316], examples_per_second: 3788.3811, train_label_loss: 0.0063, \n"
     ]
    },
    {
     "name": "stdout",
     "output_type": "stream",
     "text": [
      "epoch: 1, [batch: 3790 / 6316], examples_per_second: 4233.5555, train_label_loss: 0.0001, \n"
     ]
    },
    {
     "name": "stdout",
     "output_type": "stream",
     "text": [
      "epoch: 1, [batch: 4421 / 6316], examples_per_second: 4218.7228, train_label_loss: 0.0233, \n"
     ]
    },
    {
     "name": "stdout",
     "output_type": "stream",
     "text": [
      "epoch: 1, [batch: 5053 / 6316], examples_per_second: 4357.6658, train_label_loss: 0.0224, \n"
     ]
    },
    {
     "name": "stdout",
     "output_type": "stream",
     "text": [
      "epoch: 1, [batch: 5684 / 6316], examples_per_second: 4345.4423, train_label_loss: 0.0018, \n"
     ]
    },
    {
     "name": "stdout",
     "output_type": "stream",
     "text": [
      "=============================================================\n",
      "epoch: 1, source_val_acc_label: 0.9971, target_val_acc_label: 0.3319, source_val_label_loss: 0.0130, target_val_label_loss: 2.1010, \n",
      "=============================================================\n"
     ]
    },
    {
     "name": "stdout",
     "output_type": "stream",
     "text": [
      "New best\n"
     ]
    },
    {
     "name": "stdout",
     "output_type": "stream",
     "text": [
      "epoch: 2, [batch: 1 / 6296], examples_per_second: 5.0400, train_label_loss: 0.0195, \n"
     ]
    },
    {
     "name": "stdout",
     "output_type": "stream",
     "text": [
      "epoch: 2, [batch: 630 / 6296], examples_per_second: 4914.8625, train_label_loss: 0.0010, \n"
     ]
    },
    {
     "name": "stdout",
     "output_type": "stream",
     "text": [
      "epoch: 2, [batch: 1260 / 6296], examples_per_second: 3905.1463, train_label_loss: 0.0004, \n"
     ]
    },
    {
     "name": "stdout",
     "output_type": "stream",
     "text": [
      "epoch: 2, [batch: 1889 / 6296], examples_per_second: 3826.3135, train_label_loss: 0.0548, \n"
     ]
    },
    {
     "name": "stdout",
     "output_type": "stream",
     "text": [
      "epoch: 2, [batch: 2519 / 6296], examples_per_second: 3761.3248, train_label_loss: 0.0002, \n"
     ]
    },
    {
     "name": "stdout",
     "output_type": "stream",
     "text": [
      "epoch: 2, [batch: 3148 / 6296], examples_per_second: 3887.4950, train_label_loss: 0.0006, \n"
     ]
    },
    {
     "name": "stdout",
     "output_type": "stream",
     "text": [
      "epoch: 2, [batch: 3778 / 6296], examples_per_second: 3927.5908, train_label_loss: 0.0000, \n"
     ]
    },
    {
     "name": "stdout",
     "output_type": "stream",
     "text": [
      "epoch: 2, [batch: 4407 / 6296], examples_per_second: 3998.5078, train_label_loss: 0.0000, \n"
     ]
    },
    {
     "name": "stdout",
     "output_type": "stream",
     "text": [
      "epoch: 2, [batch: 5037 / 6296], examples_per_second: 3981.0304, train_label_loss: 0.0064, \n"
     ]
    },
    {
     "name": "stdout",
     "output_type": "stream",
     "text": [
      "epoch: 2, [batch: 5666 / 6296], examples_per_second: 4039.2473, train_label_loss: 0.0000, \n"
     ]
    },
    {
     "name": "stdout",
     "output_type": "stream",
     "text": [
      "=============================================================\n",
      "epoch: 2, source_val_acc_label: 0.9966, target_val_acc_label: 0.4020, source_val_label_loss: 0.0251, target_val_label_loss: 1.7547, \n",
      "=============================================================\n"
     ]
    },
    {
     "name": "stdout",
     "output_type": "stream",
     "text": [
      "New best\n"
     ]
    },
    {
     "name": "stdout",
     "output_type": "stream",
     "text": [
      "epoch: 3, [batch: 1 / 6299], examples_per_second: 4.1882, train_label_loss: 2.5181, \n"
     ]
    },
    {
     "name": "stdout",
     "output_type": "stream",
     "text": [
      "epoch: 3, [batch: 630 / 6299], examples_per_second: 3908.6112, train_label_loss: 0.0051, \n"
     ]
    },
    {
     "name": "stdout",
     "output_type": "stream",
     "text": [
      "epoch: 3, [batch: 1260 / 6299], examples_per_second: 3947.8990, train_label_loss: 0.0000, \n"
     ]
    },
    {
     "name": "stdout",
     "output_type": "stream",
     "text": [
      "epoch: 3, [batch: 1890 / 6299], examples_per_second: 3898.6291, train_label_loss: 0.0000, \n"
     ]
    },
    {
     "name": "stdout",
     "output_type": "stream",
     "text": [
      "epoch: 3, [batch: 2520 / 6299], examples_per_second: 3909.8002, train_label_loss: 0.0000, \n"
     ]
    },
    {
     "name": "stdout",
     "output_type": "stream",
     "text": [
      "epoch: 3, [batch: 3150 / 6299], examples_per_second: 3935.9055, train_label_loss: 0.0000, \n"
     ]
    },
    {
     "name": "stdout",
     "output_type": "stream",
     "text": [
      "epoch: 3, [batch: 3779 / 6299], examples_per_second: 3904.0025, train_label_loss: 0.0001, \n"
     ]
    },
    {
     "name": "stdout",
     "output_type": "stream",
     "text": [
      "epoch: 3, [batch: 4409 / 6299], examples_per_second: 3923.0566, train_label_loss: 0.0000, \n"
     ]
    },
    {
     "name": "stdout",
     "output_type": "stream",
     "text": [
      "epoch: 3, [batch: 5039 / 6299], examples_per_second: 3898.7432, train_label_loss: 0.0000, \n"
     ]
    },
    {
     "name": "stdout",
     "output_type": "stream",
     "text": [
      "epoch: 3, [batch: 5669 / 6299], examples_per_second: 3828.7544, train_label_loss: 0.0013, \n"
     ]
    },
    {
     "name": "stdout",
     "output_type": "stream",
     "text": [
      "=============================================================\n",
      "epoch: 3, source_val_acc_label: 0.9987, target_val_acc_label: 0.4007, source_val_label_loss: 0.0103, target_val_label_loss: 1.8516, \n",
      "=============================================================\n"
     ]
    },
    {
     "name": "stdout",
     "output_type": "stream",
     "text": [
      "epoch: 4, [batch: 1 / 6316], examples_per_second: 4.0459, train_label_loss: 0.0005, \n"
     ]
    },
    {
     "name": "stdout",
     "output_type": "stream",
     "text": [
      "epoch: 4, [batch: 632 / 6316], examples_per_second: 4087.8774, train_label_loss: 0.0000, \n"
     ]
    },
    {
     "name": "stdout",
     "output_type": "stream",
     "text": [
      "epoch: 4, [batch: 1264 / 6316], examples_per_second: 4039.0809, train_label_loss: 0.0000, \n"
     ]
    },
    {
     "name": "stdout",
     "output_type": "stream",
     "text": [
      "epoch: 4, [batch: 1895 / 6316], examples_per_second: 4053.3192, train_label_loss: 0.0017, \n"
     ]
    },
    {
     "name": "stdout",
     "output_type": "stream",
     "text": [
      "epoch: 4, [batch: 2527 / 6316], examples_per_second: 4088.7300, train_label_loss: 0.0000, \n"
     ]
    },
    {
     "name": "stdout",
     "output_type": "stream",
     "text": [
      "epoch: 4, [batch: 3158 / 6316], examples_per_second: 4004.4276, train_label_loss: 0.0000, \n"
     ]
    },
    {
     "name": "stdout",
     "output_type": "stream",
     "text": [
      "epoch: 4, [batch: 3790 / 6316], examples_per_second: 4029.7217, train_label_loss: 0.0000, \n"
     ]
    },
    {
     "name": "stdout",
     "output_type": "stream",
     "text": [
      "epoch: 4, [batch: 4421 / 6316], examples_per_second: 3985.9308, train_label_loss: 0.0000, \n"
     ]
    },
    {
     "name": "stdout",
     "output_type": "stream",
     "text": [
      "epoch: 4, [batch: 5053 / 6316], examples_per_second: 4031.4833, train_label_loss: 0.0000, \n"
     ]
    },
    {
     "name": "stdout",
     "output_type": "stream",
     "text": [
      "epoch: 4, [batch: 5684 / 6316], examples_per_second: 4061.0802, train_label_loss: 0.0001, \n"
     ]
    },
    {
     "name": "stdout",
     "output_type": "stream",
     "text": [
      "=============================================================\n",
      "epoch: 4, source_val_acc_label: 0.9987, target_val_acc_label: 0.3912, source_val_label_loss: 0.0187, target_val_label_loss: 1.8712, \n",
      "=============================================================\n"
     ]
    },
    {
     "name": "stdout",
     "output_type": "stream",
     "text": [
      "epoch: 5, [batch: 1 / 6313], examples_per_second: 4.2027, train_label_loss: 0.0000, \n"
     ]
    },
    {
     "name": "stdout",
     "output_type": "stream",
     "text": [
      "epoch: 5, [batch: 632 / 6313], examples_per_second: 3853.8518, train_label_loss: 0.0012, \n"
     ]
    },
    {
     "name": "stdout",
     "output_type": "stream",
     "text": [
      "epoch: 5, [batch: 1263 / 6313], examples_per_second: 3878.2481, train_label_loss: 0.0000, \n"
     ]
    },
    {
     "name": "stdout",
     "output_type": "stream",
     "text": [
      "epoch: 5, [batch: 1894 / 6313], examples_per_second: 3856.0683, train_label_loss: 0.0000, \n"
     ]
    },
    {
     "name": "stdout",
     "output_type": "stream",
     "text": [
      "epoch: 5, [batch: 2525 / 6313], examples_per_second: 3880.8946, train_label_loss: 0.0000, \n"
     ]
    },
    {
     "name": "stdout",
     "output_type": "stream",
     "text": [
      "epoch: 5, [batch: 3157 / 6313], examples_per_second: 3929.2838, train_label_loss: 0.0000, \n"
     ]
    },
    {
     "name": "stdout",
     "output_type": "stream",
     "text": [
      "epoch: 5, [batch: 3788 / 6313], examples_per_second: 3906.9525, train_label_loss: 0.0007, \n"
     ]
    },
    {
     "name": "stdout",
     "output_type": "stream",
     "text": [
      "epoch: 5, [batch: 4419 / 6313], examples_per_second: 3878.2736, train_label_loss: 0.0000, \n"
     ]
    },
    {
     "name": "stdout",
     "output_type": "stream",
     "text": [
      "epoch: 5, [batch: 5050 / 6313], examples_per_second: 3821.1292, train_label_loss: 0.0000, \n"
     ]
    },
    {
     "name": "stdout",
     "output_type": "stream",
     "text": [
      "epoch: 5, [batch: 5681 / 6313], examples_per_second: 3829.2133, train_label_loss: 0.0002, \n"
     ]
    },
    {
     "name": "stdout",
     "output_type": "stream",
     "text": [
      "=============================================================\n",
      "epoch: 5, source_val_acc_label: 0.9995, target_val_acc_label: 0.3587, source_val_label_loss: 0.0078, target_val_label_loss: 1.9288, \n",
      "=============================================================\n"
     ]
    },
    {
     "name": "stdout",
     "output_type": "stream",
     "text": [
      "epoch: 6, [batch: 1 / 6307], examples_per_second: 4.0672, train_label_loss: 0.0000, \n"
     ]
    },
    {
     "name": "stdout",
     "output_type": "stream",
     "text": [
      "epoch: 6, [batch: 631 / 6307], examples_per_second: 3774.3812, train_label_loss: 0.0000, \n"
     ]
    },
    {
     "name": "stdout",
     "output_type": "stream",
     "text": [
      "epoch: 6, [batch: 1262 / 6307], examples_per_second: 3927.6744, train_label_loss: 0.0000, \n"
     ]
    },
    {
     "name": "stdout",
     "output_type": "stream",
     "text": [
      "epoch: 6, [batch: 1892 / 6307], examples_per_second: 3900.5554, train_label_loss: 0.0000, \n"
     ]
    },
    {
     "name": "stdout",
     "output_type": "stream",
     "text": [
      "epoch: 6, [batch: 2523 / 6307], examples_per_second: 3897.3255, train_label_loss: 0.0000, \n"
     ]
    },
    {
     "name": "stdout",
     "output_type": "stream",
     "text": [
      "epoch: 6, [batch: 3154 / 6307], examples_per_second: 4010.8746, train_label_loss: 0.0000, \n"
     ]
    },
    {
     "name": "stdout",
     "output_type": "stream",
     "text": [
      "epoch: 6, [batch: 3784 / 6307], examples_per_second: 4371.5120, train_label_loss: 0.0000, \n"
     ]
    },
    {
     "name": "stdout",
     "output_type": "stream",
     "text": [
      "epoch: 6, [batch: 4415 / 6307], examples_per_second: 4312.0261, train_label_loss: 0.0000, \n"
     ]
    },
    {
     "name": "stdout",
     "output_type": "stream",
     "text": [
      "epoch: 6, [batch: 5045 / 6307], examples_per_second: 4419.1703, train_label_loss: 0.0000, \n"
     ]
    },
    {
     "name": "stdout",
     "output_type": "stream",
     "text": [
      "epoch: 6, [batch: 5676 / 6307], examples_per_second: 4301.0388, train_label_loss: 0.0001, \n"
     ]
    },
    {
     "name": "stdout",
     "output_type": "stream",
     "text": [
      "=============================================================\n",
      "epoch: 6, source_val_acc_label: 0.9993, target_val_acc_label: 0.3593, source_val_label_loss: 0.0079, target_val_label_loss: 1.9778, \n",
      "=============================================================\n"
     ]
    },
    {
     "name": "stdout",
     "output_type": "stream",
     "text": [
      "Patience (3) exhausted\n"
     ]
    }
   ],
   "source": [
    "###################################\n",
    "# train\n",
    "###################################\n",
    "jig = PTN_Train_Eval_Test_Jig(model, p.BEST_MODEL_PATH, p.device)\n",
    "\n",
    "jig.train(\n",
    "    train_iterable=datasets.source.processed.train,\n",
    "    source_val_iterable=datasets.source.processed.val,\n",
    "    target_val_iterable=datasets.target.processed.val,\n",
    "    num_epochs=p.n_epoch,\n",
    "    num_logs_per_epoch=p.NUM_LOGS_PER_EPOCH,\n",
    "    patience=p.patience,\n",
    "    optimizer=optimizer,\n",
    "    criteria_for_best=p.criteria_for_best,\n",
    ")"
   ]
  },
  {
   "cell_type": "code",
   "execution_count": 23,
   "id": "31e8fabf",
   "metadata": {
    "execution": {
     "iopub.execute_input": "2022-03-22T14:51:24.625801Z",
     "iopub.status.busy": "2022-03-22T14:51:24.625332Z",
     "iopub.status.idle": "2022-03-22T14:51:24.659256Z",
     "shell.execute_reply": "2022-03-22T14:51:24.658569Z"
    },
    "papermill": {
     "duration": 0.077842,
     "end_time": "2022-03-22T14:51:24.659406",
     "exception": false,
     "start_time": "2022-03-22T14:51:24.581564",
     "status": "completed"
    },
    "tags": []
   },
   "outputs": [],
   "source": [
    "total_experiment_time_secs = time.time() - start_time_secs"
   ]
  },
  {
   "cell_type": "code",
   "execution_count": 24,
   "id": "87b9595b",
   "metadata": {
    "execution": {
     "iopub.execute_input": "2022-03-22T14:51:24.761832Z",
     "iopub.status.busy": "2022-03-22T14:51:24.761426Z",
     "iopub.status.idle": "2022-03-22T14:54:03.966980Z",
     "shell.execute_reply": "2022-03-22T14:54:03.966220Z"
    },
    "papermill": {
     "duration": 159.253598,
     "end_time": "2022-03-22T14:54:03.967181",
     "exception": false,
     "start_time": "2022-03-22T14:51:24.713583",
     "status": "completed"
    },
    "tags": []
   },
   "outputs": [],
   "source": [
    "###################################\n",
    "# Evaluate the model\n",
    "###################################\n",
    "source_test_label_accuracy, source_test_label_loss = jig.test(datasets.source.processed.test)\n",
    "target_test_label_accuracy, target_test_label_loss = jig.test(datasets.target.processed.test)\n",
    "\n",
    "source_val_label_accuracy, source_val_label_loss = jig.test(datasets.source.processed.val)\n",
    "target_val_label_accuracy, target_val_label_loss = jig.test(datasets.target.processed.val)\n",
    "\n",
    "history = jig.get_history()\n",
    "\n",
    "total_epochs_trained = len(history[\"epoch_indices\"])\n",
    "\n",
    "val_dl = Iterable_Aggregator((datasets.source.original.val,datasets.target.original.val))\n",
    "\n",
    "confusion = ptn_confusion_by_domain_over_dataloader(model, p.device, val_dl)\n",
    "per_domain_accuracy = per_domain_accuracy_from_confusion(confusion)\n",
    "\n",
    "# Add a key to per_domain_accuracy for if it was a source domain\n",
    "for domain, accuracy in per_domain_accuracy.items():\n",
    "    per_domain_accuracy[domain] = {\n",
    "        \"accuracy\": accuracy,\n",
    "        \"source?\": domain in p.domains_source\n",
    "    }\n",
    "\n",
    "# Do an independent accuracy assesment JUST TO BE SURE!\n",
    "# _source_test_label_accuracy = independent_accuracy_assesment(model, datasets.source.processed.test, p.device)\n",
    "# _target_test_label_accuracy = independent_accuracy_assesment(model, datasets.target.processed.test, p.device)\n",
    "# _source_val_label_accuracy = independent_accuracy_assesment(model, datasets.source.processed.val, p.device)\n",
    "# _target_val_label_accuracy = independent_accuracy_assesment(model, datasets.target.processed.val, p.device)\n",
    "\n",
    "# assert(_source_test_label_accuracy == source_test_label_accuracy)\n",
    "# assert(_target_test_label_accuracy == target_test_label_accuracy)\n",
    "# assert(_source_val_label_accuracy == source_val_label_accuracy)\n",
    "# assert(_target_val_label_accuracy == target_val_label_accuracy)\n",
    "\n",
    "experiment = {\n",
    "    \"experiment_name\": p.experiment_name,\n",
    "    \"parameters\": dict(p),\n",
    "    \"results\": {\n",
    "        \"source_test_label_accuracy\": source_test_label_accuracy,\n",
    "        \"source_test_label_loss\": source_test_label_loss,\n",
    "        \"target_test_label_accuracy\": target_test_label_accuracy,\n",
    "        \"target_test_label_loss\": target_test_label_loss,\n",
    "        \"source_val_label_accuracy\": source_val_label_accuracy,\n",
    "        \"source_val_label_loss\": source_val_label_loss,\n",
    "        \"target_val_label_accuracy\": target_val_label_accuracy,\n",
    "        \"target_val_label_loss\": target_val_label_loss,\n",
    "        \"total_epochs_trained\": total_epochs_trained,\n",
    "        \"total_experiment_time_secs\": total_experiment_time_secs,\n",
    "        \"confusion\": confusion,\n",
    "        \"per_domain_accuracy\": per_domain_accuracy,\n",
    "    },\n",
    "    \"history\": history,\n",
    "    \"dataset_metrics\": get_dataset_metrics(datasets, \"ptn\"),\n",
    "}"
   ]
  },
  {
   "cell_type": "code",
   "execution_count": 25,
   "id": "54a21829",
   "metadata": {
    "execution": {
     "iopub.execute_input": "2022-03-22T14:54:04.059822Z",
     "iopub.status.busy": "2022-03-22T14:54:04.059429Z",
     "iopub.status.idle": "2022-03-22T14:54:04.277133Z",
     "shell.execute_reply": "2022-03-22T14:54:04.278152Z"
    },
    "papermill": {
     "duration": 0.264803,
     "end_time": "2022-03-22T14:54:04.278489",
     "exception": false,
     "start_time": "2022-03-22T14:54:04.013686",
     "status": "completed"
    },
    "tags": []
   },
   "outputs": [
    {
     "data": {
      "image/png": "[encoded data removed]",
      "text/plain": [
       "<Figure size 1080x504 with 1 Axes>"
      ]
     },
     "metadata": {
      "needs_background": "light"
     },
     "output_type": "display_data"
    }
   ],
   "source": [
    "ax = get_loss_curve(experiment)\n",
    "plt.show()"
   ]
  },
  {
   "cell_type": "code",
   "execution_count": 26,
   "id": "fd8a0f60",
   "metadata": {
    "execution": {
     "iopub.execute_input": "2022-03-22T14:54:04.370819Z",
     "iopub.status.busy": "2022-03-22T14:54:04.370441Z",
     "iopub.status.idle": "2022-03-22T14:54:04.678757Z",
     "shell.execute_reply": "2022-03-22T14:54:04.679073Z"
    },
    "papermill": {
     "duration": 0.354894,
     "end_time": "2022-03-22T14:54:04.679193",
     "exception": false,
     "start_time": "2022-03-22T14:54:04.324299",
     "status": "completed"
    },
    "tags": []
   },
   "outputs": [
    {
     "data": {
      "text/plain": [
       "<AxesSubplot:title={'center':'Results'}>"
      ]
     },
     "execution_count": 26,
     "metadata": {},
     "output_type": "execute_result"
    },
    {
     "data": {
      "image/png": "[encoded data removed]",
      "text/plain": [
       "<Figure size 1080x504 with 1 Axes>"
      ]
     },
     "metadata": {
      "needs_background": "light"
     },
     "output_type": "display_data"
    }
   ],
   "source": [
    "get_results_table(experiment)"
   ]
  },
  {
   "cell_type": "code",
   "execution_count": 27,
   "id": "cf8dc689",
   "metadata": {
    "execution": {
     "iopub.execute_input": "2022-03-22T14:54:04.774761Z",
     "iopub.status.busy": "2022-03-22T14:54:04.774391Z",
     "iopub.status.idle": "2022-03-22T14:54:05.038086Z",
     "shell.execute_reply": "2022-03-22T14:54:05.037356Z"
    },
    "papermill": {
     "duration": 0.31279,
     "end_time": "2022-03-22T14:54:05.038256",
     "exception": false,
     "start_time": "2022-03-22T14:54:04.725466",
     "status": "completed"
    },
    "tags": []
   },
   "outputs": [
    {
     "data": {
      "text/plain": [
       "<AxesSubplot:title={'center':'Per Domain Validation Accuracy'}, xlabel='domain'>"
      ]
     },
     "execution_count": 27,
     "metadata": {},
     "output_type": "execute_result"
    },
    {
     "data": {
      "image/png": "[encoded data removed]",
      "text/plain": [
       "<Figure size 1080x504 with 1 Axes>"
      ]
     },
     "metadata": {
      "needs_background": "light"
     },
     "output_type": "display_data"
    }
   ],
   "source": [
    "get_domain_accuracies(experiment)"
   ]
  },
  {
   "cell_type": "code",
   "execution_count": 28,
   "id": "a74ae082",
   "metadata": {
    "execution": {
     "iopub.execute_input": "2022-03-22T14:54:05.137442Z",
     "iopub.status.busy": "2022-03-22T14:54:05.136876Z",
     "iopub.status.idle": "2022-03-22T14:54:05.164339Z",
     "shell.execute_reply": "2022-03-22T14:54:05.165023Z"
    },
    "papermill": {
     "duration": 0.07758,
     "end_time": "2022-03-22T14:54:05.165232",
     "exception": false,
     "start_time": "2022-03-22T14:54:05.087652",
     "status": "completed"
    },
    "tags": []
   },
   "outputs": [
    {
     "name": "stdout",
     "output_type": "stream",
     "text": [
      "Source Test Label Accuracy: 0.9965748587570622 Target Test Label Accuracy: 0.3995768229166667\n",
      "Source Val Label Accuracy: 0.9966428571428572 Target Val Label Accuracy: 0.4019856770833333\n"
     ]
    }
   ],
   "source": [
    "print(\"Source Test Label Accuracy:\", experiment[\"results\"][\"source_test_label_accuracy\"], \"Target Test Label Accuracy:\", experiment[\"results\"][\"target_test_label_accuracy\"])\n",
    "print(\"Source Val Label Accuracy:\", experiment[\"results\"][\"source_val_label_accuracy\"], \"Target Val Label Accuracy:\", experiment[\"results\"][\"target_val_label_accuracy\"])"
   ]
  },
  {
   "cell_type": "code",
   "execution_count": 29,
   "id": "dacca602",
   "metadata": {
    "execution": {
     "iopub.execute_input": "2022-03-22T14:54:05.268400Z",
     "iopub.status.busy": "2022-03-22T14:54:05.267834Z",
     "iopub.status.idle": "2022-03-22T14:54:05.296672Z",
     "shell.execute_reply": "2022-03-22T14:54:05.297358Z"
    },
    "papermill": {
     "duration": 0.079562,
     "end_time": "2022-03-22T14:54:05.297564",
     "exception": false,
     "start_time": "2022-03-22T14:54:05.218002",
     "status": "completed"
    },
    "tags": [
     "experiment_json"
    ]
   },
   "outputs": [
    {
     "data": {
      "text/plain": [
       "'{\"experiment_name\": \"tl_1v2:cores-oracle.run1.limited\", \"parameters\": {\"experiment_name\": \"tl_1v2:cores-oracle.run1.limited\", \"device\": \"cuda\", \"lr\": 0.0001, \"n_shot\": 3, \"n_query\": 2, \"train_k_factor\": 3, \"val_k_factor\": 2, \"test_k_factor\": 2, \"torch_default_dtype\": \"torch.float32\", \"n_epoch\": 50, \"patience\": 3, \"criteria_for_best\": \"target_accuracy\", \"x_net\": [{\"class\": \"nnReshape\", \"kargs\": {\"shape\": [-1, 1, 2, 256]}}, {\"class\": \"Conv2d\", \"kargs\": {\"in_channels\": 1, \"out_channels\": 256, \"kernel_size\": [1, 7], \"bias\": false, \"padding\": [0, 3]}}, {\"class\": \"ReLU\", \"kargs\": {\"inplace\": true}}, {\"class\": \"BatchNorm2d\", \"kargs\": {\"num_features\": 256}}, {\"class\": \"Conv2d\", \"kargs\": {\"in_channels\": 256, \"out_channels\": 80, \"kernel_size\": [2, 7], \"bias\": true, \"padding\": [0, 3]}}, {\"class\": \"ReLU\", \"kargs\": {\"inplace\": true}}, {\"class\": \"BatchNorm2d\", \"kargs\": {\"num_features\": 80}}, {\"class\": \"Flatten\", \"kargs\": {}}, {\"class\": \"Linear\", \"kargs\": {\"in_features\": 20480, \"out_features\": 256}}, {\"class\": \"ReLU\", \"kargs\": {\"inplace\": true}}, {\"class\": \"BatchNorm1d\", \"kargs\": {\"num_features\": 256}}, {\"class\": \"Linear\", \"kargs\": {\"in_features\": 256, \"out_features\": 256}}], \"NUM_LOGS_PER_EPOCH\": 10, \"BEST_MODEL_PATH\": \"./best_model.pth\", \"n_way\": 16, \"datasets\": [{\"labels\": [\"1-10.\", \"1-11.\", \"1-15.\", \"1-16.\", \"1-17.\", \"1-18.\", \"1-19.\", \"10-4.\", \"10-7.\", \"11-1.\", \"11-14.\", \"11-17.\", \"11-20.\", \"11-7.\", \"13-20.\", \"13-8.\", \"14-10.\", \"14-11.\", \"14-14.\", \"14-7.\", \"15-1.\", \"15-20.\", \"16-1.\", \"16-16.\", \"17-10.\", \"17-11.\", \"17-2.\", \"19-1.\", \"19-16.\", \"19-19.\", \"19-20.\", \"19-3.\", \"2-10.\", \"2-11.\", \"2-17.\", \"2-18.\", \"2-20.\", \"2-3.\", \"2-4.\", \"2-5.\", \"2-6.\", \"2-7.\", \"2-8.\", \"3-13.\", \"3-18.\", \"3-3.\", \"4-1.\", \"4-10.\", \"4-11.\", \"4-19.\", \"5-5.\", \"6-15.\", \"7-10.\", \"7-14.\", \"8-18.\", \"8-20.\", \"8-3.\", \"8-8.\"], \"domains\": [1, 2, 3, 4, 5], \"num_examples_per_domain_per_label\": -1, \"pickle_path\": \"/root/csc500-main/datasets/cores.stratified_ds.2022A.pkl\", \"source_or_target_dataset\": \"source\", \"x_transforms\": [], \"episode_transforms\": [], \"domain_prefix\": \"CORES_\"}, {\"labels\": [\"3123D52\", \"3123D65\", \"3123D79\", \"3123D80\", \"3123D54\", \"3123D70\", \"3123D7B\", \"3123D89\", \"3123D58\", \"3123D76\", \"3123D7D\", \"3123EFE\", \"3123D64\", \"3123D78\", \"3123D7E\", \"3124E4A\"], \"domains\": [32, 38, 8, 44, 14, 50, 20, 26], \"num_examples_per_domain_per_label\": 2000, \"pickle_path\": \"/root/csc500-main/datasets/oracle.Run1_10kExamples_stratified_ds.2022A.pkl\", \"source_or_target_dataset\": \"target\", \"x_transforms\": [], \"episode_transforms\": [], \"domain_prefix\": \"ORACLE.run1_\"}], \"dataset_seed\": 7, \"seed\": 7, \"x_shape\": [2, 256], \"domains_source\": [\"CORES_1\", \"CORES_2\", \"CORES_3\", \"CORES_4\", \"CORES_5\"], \"domains_target\": [\"ORACLE.run1_32\", \"ORACLE.run1_38\", \"ORACLE.run1_8\", \"ORACLE.run1_44\", \"ORACLE.run1_14\", \"ORACLE.run1_50\", \"ORACLE.run1_20\", \"ORACLE.run1_26\"]}, \"results\": {\"source_test_label_accuracy\": 0.9965748587570622, \"source_test_label_loss\": 0.031953364610672, \"target_test_label_accuracy\": 0.3995768229166667, \"target_test_label_loss\": 1.75739324092865, \"source_val_label_accuracy\": 0.9966428571428572, \"source_val_label_loss\": 0.025092022493481636, \"target_val_label_accuracy\": 0.4019856770833333, \"target_val_label_loss\": 1.7546730041503906, \"total_epochs_trained\": 6, \"total_experiment_time_secs\": 924.9009556770325, \"confusion\": {\"CORES_5\": {\"26\": {\"26\": 24}, \"7\": {\"7\": 32}, \"56\": {\"56\": 142}, \"36\": {\"36\": 92}, \"47\": {\"47\": 100}, \"2\": {\"2\": 28}, \"15\": {\"15\": 151, \"11\": 1}, \"14\": {\"14\": 44}, \"27\": {\"27\": 146}, \"40\": {\"40\": 124}, \"49\": {\"49\": 36}, \"45\": {\"45\": 124}, \"46\": {\"46\": 135, \"56\": 1}, \"11\": {\"11\": 130}, \"30\": {\"30\": 112}, \"0\": {\"0\": 124}, \"10\": {\"10\": 68}, \"1\": {\"1\": 148}, \"42\": {\"42\": 38, \"15\": 1, \"16\": 1}, \"54\": {\"54\": 112}, \"55\": {\"55\": 152}, \"23\": {\"23\": 124}, \"25\": {\"25\": 152}, \"28\": {\"28\": 32}, \"32\": {\"32\": 32}, \"9\": {\"9\": 142}, \"39\": {\"39\": 20}, \"3\": {\"3\": 100}, \"29\": {\"29\": 118}, \"17\": {\"17\": 116}, \"35\": {\"35\": 36}, \"44\": {\"44\": 152}, \"5\": {\"5\": 128}, \"33\": {\"33\": 30, \"36\": 2}, \"34\": {\"49\": 1, \"34\": 35}, \"13\": {\"13\": 138}, \"41\": {\"41\": 23, \"39\": 1, \"42\": 2, \"33\": 2}, \"6\": {\"6\": 127, \"50\": 1}, \"51\": {\"51\": 138}, \"50\": {\"50\": 144}, \"37\": {\"37\": 24}, \"19\": {\"19\": 143, \"55\": 1}, \"57\": {\"57\": 132}, \"21\": {\"21\": 144}, \"24\": {\"24\": 80}, \"8\": {\"8\": 130}, \"12\": {\"12\": 96}, \"48\": {\"48\": 132}, \"43\": {\"43\": 150}, \"53\": {\"53\": 148}, \"38\": {\"38\": 26, \"7\": 6}, \"16\": {\"16\": 142}, \"22\": {\"22\": 28}, \"4\": {\"4\": 100}, \"18\": {\"18\": 64}, \"20\": {\"20\": 144}, \"52\": {\"52\": 140}, \"31\": {\"31\": 36}}, \"CORES_1\": {\"41\": {\"41\": 23, \"8\": 1}, \"40\": {\"40\": 110}, \"45\": {\"45\": 138}, \"51\": {\"51\": 148}, \"5\": {\"5\": 154}, \"30\": {\"30\": 120}, \"42\": {\"42\": 39, \"19\": 1}, \"46\": {\"46\": 136}, \"48\": {\"48\": 134}, \"53\": {\"53\": 144}, \"47\": {\"47\": 152}, \"49\": {\"49\": 32}, \"36\": {\"36\": 64}, \"32\": {\"32\": 32}, \"34\": {\"34\": 24}, \"29\": {\"29\": 140}, \"35\": {\"35\": 36}, \"3\": {\"3\": 134}, \"16\": {\"16\": 140}, \"26\": {\"26\": 24}, \"57\": {\"57\": 144}, \"44\": {\"44\": 128}, \"0\": {\"0\": 152}, \"4\": {\"4\": 132}, \"31\": {\"31\": 28}, \"11\": {\"11\": 140}, \"6\": {\"6\": 96}, \"54\": {\"54\": 104}, \"17\": {\"17\": 64}, \"20\": {\"20\": 126, \"12\": 2}, \"13\": {\"13\": 150}, \"33\": {\"33\": 32}, \"24\": {\"24\": 108}, \"52\": {\"52\": 132}, \"2\": {\"2\": 36}, \"19\": {\"19\": 156}, \"39\": {\"19\": 2, \"39\": 25, \"49\": 1}, \"8\": {\"8\": 140}, \"21\": {\"21\": 124}, \"10\": {\"10\": 96}, \"37\": {\"37\": 30, \"36\": 2}, \"25\": {\"25\": 144}, \"27\": {\"27\": 130}, \"23\": {\"23\": 136}, \"1\": {\"1\": 100}, \"50\": {\"50\": 152}, \"12\": {\"12\": 114, \"20\": 1, \"13\": 1}, \"18\": {\"18\": 72}, \"38\": {\"38\": 18, \"36\": 2, \"27\": 1, \"42\": 2, \"49\": 1}, \"14\": {\"14\": 24}, \"56\": {\"56\": 141, \"45\": 1}, \"55\": {\"55\": 160}, \"9\": {\"9\": 138}, \"15\": {\"15\": 146}, \"28\": {\"28\": 28}, \"7\": {\"7\": 28}, \"43\": {\"43\": 136}, \"22\": {\"22\": 134, \"21\": 1, \"0\": 1}}, \"CORES_3\": {\"1\": {\"1\": 99, \"47\": 1}, \"9\": {\"9\": 124}, \"22\": {\"22\": 136}, \"43\": {\"43\": 136}, \"49\": {\"49\": 20}, \"50\": {\"50\": 136, \"21\": 2}, \"53\": {\"53\": 136}, \"10\": {\"10\": 64}, \"48\": {\"48\": 115, \"41\": 1}, \"8\": {\"8\": 138}, \"31\": {\"31\": 28}, \"56\": {\"56\": 133, \"22\": 1}, \"25\": {\"25\": 142}, \"28\": {\"28\": 28}, \"38\": {\"38\": 28}, \"5\": {\"5\": 116}, \"12\": {\"12\": 92}, \"6\": {\"6\": 88}, \"19\": {\"19\": 152}, \"26\": {\"26\": 24}, \"32\": {\"32\": 28}, \"33\": {\"33\": 28}, \"3\": {\"3\": 118}, \"51\": {\"51\": 128}, \"16\": {\"16\": 138}, \"46\": {\"46\": 139, \"21\": 1}, \"7\": {\"7\": 32, \"11\": 2, \"15\": 2}, \"47\": {\"47\": 90, \"1\": 1, \"52\": 1}, \"39\": {\"39\": 16}, \"40\": {\"40\": 136}, \"14\": {\"14\": 40}, \"37\": {\"37\": 28}, \"2\": {\"2\": 31, \"53\": 1}, \"21\": {\"21\": 120}, \"35\": {\"35\": 28}, \"54\": {\"54\": 100}, \"52\": {\"52\": 116}, \"29\": {\"29\": 116, \"9\": 1, \"57\": 1}, \"20\": {\"20\": 132}, \"18\": {\"18\": 84}, \"11\": {\"11\": 142}, \"0\": {\"0\": 124}, \"36\": {\"36\": 100}, \"17\": {\"17\": 108}, \"30\": {\"30\": 114}, \"42\": {\"42\": 28}, \"45\": {\"45\": 60}, \"4\": {\"4\": 148}, \"23\": {\"23\": 132, \"55\": 1, \"18\": 1}, \"13\": {\"13\": 128}, \"15\": {\"15\": 128}, \"57\": {\"57\": 122, \"29\": 2}, \"27\": {\"27\": 131, \"9\": 3}, \"44\": {\"44\": 88}, \"34\": {\"34\": 32}, \"41\": {\"41\": 22, \"48\": 6}, \"24\": {\"24\": 104}, \"55\": {\"55\": 118}}, \"CORES_4\": {\"52\": {\"52\": 116}, \"6\": {\"6\": 109, \"50\": 2, \"3\": 1}, \"14\": {\"14\": 15, \"38\": 1}, \"49\": {\"49\": 20}, \"0\": {\"0\": 80}, \"46\": {\"46\": 156}, \"41\": {\"41\": 36}, \"24\": {\"24\": 56}, \"25\": {\"25\": 152}, \"40\": {\"40\": 137, \"44\": 1}, \"38\": {\"38\": 40}, \"13\": {\"13\": 152}, \"9\": {\"9\": 107, \"4\": 1}, \"45\": {\"45\": 96}, \"43\": {\"43\": 144}, \"10\": {\"10\": 130}, \"15\": {\"15\": 128}, \"39\": {\"39\": 20}, \"4\": {\"4\": 132}, \"53\": {\"53\": 132}, \"1\": {\"1\": 39, \"56\": 1}, \"28\": {\"28\": 32}, \"54\": {\"54\": 108}, \"21\": {\"21\": 132}, \"7\": {\"7\": 23, \"16\": 1}, \"8\": {\"8\": 136}, \"42\": {\"42\": 32}, \"11\": {\"11\": 104}, \"33\": {\"33\": 36}, \"27\": {\"27\": 142}, \"19\": {\"19\": 143, \"28\": 1}, \"2\": {\"2\": 36}, \"3\": {\"3\": 118, \"50\": 2}, \"57\": {\"57\": 100}, \"20\": {\"20\": 112}, \"23\": {\"23\": 128}, \"22\": {\"22\": 128}, \"29\": {\"29\": 124}, \"36\": {\"36\": 90, \"51\": 2}, \"51\": {\"51\": 132}, \"31\": {\"31\": 28}, \"12\": {\"12\": 92}, \"56\": {\"56\": 138}, \"5\": {\"5\": 108}, \"35\": {\"35\": 40}, \"17\": {\"17\": 80}, \"32\": {\"32\": 24}, \"47\": {\"47\": 119, \"1\": 1}, \"18\": {\"18\": 105, \"47\": 1, \"53\": 2}, \"26\": {\"26\": 24}, \"50\": {\"50\": 122}, \"55\": {\"55\": 124}, \"34\": {\"34\": 24}, \"30\": {\"30\": 44}, \"37\": {\"37\": 24}, \"44\": {\"44\": 132}, \"48\": {\"48\": 118}, \"16\": {\"16\": 96}}, \"CORES_2\": {\"11\": {\"11\": 130}, \"21\": {\"21\": 120}, \"19\": {\"19\": 140}, \"20\": {\"20\": 128}, \"9\": {\"9\": 140}, \"10\": {\"10\": 112}, \"37\": {\"37\": 36}, \"32\": {\"32\": 28}, \"3\": {\"3\": 92}, \"39\": {\"39\": 28}, \"45\": {\"45\": 128}, \"50\": {\"50\": 136}, \"40\": {\"40\": 139, \"9\": 1}, \"46\": {\"46\": 127, \"21\": 1}, \"12\": {\"12\": 92}, \"13\": {\"13\": 116}, \"47\": {\"47\": 132}, \"15\": {\"15\": 142}, \"54\": {\"54\": 108}, \"48\": {\"48\": 148}, \"23\": {\"23\": 142}, \"29\": {\"29\": 126, \"23\": 1, \"19\": 1}, \"38\": {\"38\": 20}, \"53\": {\"53\": 136}, \"27\": {\"27\": 150}, \"43\": {\"43\": 144}, \"35\": {\"35\": 32}, \"0\": {\"0\": 48}, \"52\": {\"52\": 124}, \"8\": {\"8\": 128}, \"24\": {\"24\": 96}, \"18\": {\"18\": 48}, \"25\": {\"25\": 148}, \"57\": {\"57\": 136}, \"55\": {\"55\": 134}, \"36\": {\"36\": 116}, \"17\": {\"17\": 104}, \"2\": {\"2\": 32}, \"34\": {\"34\": 28}, \"1\": {\"1\": 112}, \"51\": {\"51\": 136}, \"31\": {\"31\": 28}, \"49\": {\"49\": 24}, \"14\": {\"14\": 24}, \"33\": {\"33\": 27, \"57\": 1}, \"41\": {\"41\": 17, \"9\": 1, \"4\": 1, \"52\": 1}, \"28\": {\"28\": 27, \"42\": 1}, \"5\": {\"5\": 120}, \"16\": {\"16\": 150}, \"4\": {\"4\": 128}, \"22\": {\"22\": 136}, \"6\": {\"6\": 118}, \"30\": {\"30\": 124}, \"26\": {\"26\": 24}, \"56\": {\"56\": 142}, \"42\": {\"42\": 36}, \"44\": {\"44\": 100}, \"7\": {\"7\": 36}}, \"ORACLE.run1_26\": {\"0\": {\"14\": 40, \"9\": 9, \"10\": 48, \"5\": 8, \"0\": 57, \"12\": 2, \"15\": 17, \"2\": 23, \"8\": 18, \"7\": 4, \"1\": 4, \"6\": 10}, \"4\": {\"4\": 166, \"9\": 3, \"13\": 46, \"3\": 20, \"12\": 5}, \"14\": {\"10\": 44, \"15\": 31, \"5\": 26, \"0\": 31, \"11\": 2, \"1\": 32, \"14\": 42, \"6\": 25, \"9\": 3, \"2\": 3, \"8\": 1}, \"12\": {\"13\": 24, \"12\": 61, \"8\": 35, \"9\": 38, \"7\": 27, \"3\": 34, \"2\": 15, \"0\": 3, \"4\": 3}, \"8\": {\"12\": 19, \"3\": 19, \"8\": 49, \"9\": 43, \"2\": 39, \"7\": 39, \"0\": 22, \"14\": 2, \"10\": 6, \"13\": 2}, \"7\": {\"3\": 34, \"9\": 27, \"2\": 36, \"7\": 51, \"13\": 16, \"12\": 22, \"8\": 44, \"0\": 10}, \"13\": {\"13\": 88, \"12\": 17, \"3\": 51, \"4\": 38, \"9\": 20, \"14\": 1, \"7\": 14, \"8\": 4, \"2\": 6, \"0\": 1}, \"5\": {\"10\": 29, \"5\": 46, \"14\": 15, \"6\": 44, \"11\": 13, \"0\": 17, \"15\": 39, \"1\": 36, \"2\": 1}, \"15\": {\"6\": 40, \"15\": 31, \"10\": 42, \"2\": 2, \"5\": 32, \"1\": 29, \"0\": 19, \"14\": 24, \"11\": 18, \"9\": 1, \"8\": 2}, \"10\": {\"10\": 51, \"0\": 39, \"15\": 31, \"6\": 21, \"1\": 13, \"14\": 51, \"5\": 16, \"9\": 5, \"2\": 4, \"8\": 3, \"11\": 6}, \"3\": {\"7\": 35, \"12\": 25, \"13\": 50, \"2\": 11, \"9\": 34, \"4\": 13, \"3\": 57, \"8\": 15}, \"9\": {\"3\": 33, \"8\": 34, \"7\": 30, \"9\": 34, \"13\": 29, \"2\": 40, \"12\": 33, \"4\": 2, \"10\": 1, \"0\": 3, \"14\": 1}, \"6\": {\"1\": 34, \"14\": 31, \"10\": 29, \"6\": 52, \"15\": 35, \"5\": 31, \"0\": 12, \"11\": 16}, \"1\": {\"6\": 27, \"11\": 41, \"1\": 97, \"15\": 19, \"5\": 25, \"14\": 17, \"0\": 2, \"10\": 12}, \"11\": {\"11\": 112, \"1\": 42, \"5\": 27, \"6\": 25, \"15\": 13, \"10\": 12, \"14\": 7, \"0\": 2}, \"2\": {\"2\": 59, \"14\": 2, \"8\": 55, \"13\": 11, \"0\": 20, \"9\": 32, \"7\": 27, \"3\": 20, \"12\": 12, \"10\": 1, \"6\": 1}}, \"ORACLE.run1_44\": {\"1\": {\"1\": 125, \"2\": 35, \"8\": 37, \"15\": 12, \"3\": 1, \"0\": 23, \"4\": 3, \"10\": 3, \"5\": 1}, \"11\": {\"11\": 236, \"13\": 4}, \"3\": {\"3\": 118, \"12\": 113, \"0\": 9}, \"6\": {\"6\": 132, \"13\": 83, \"7\": 3, \"9\": 19, \"4\": 2, \"10\": 1}, \"7\": {\"10\": 48, \"4\": 34, \"14\": 19, \"7\": 69, \"9\": 49, \"5\": 6, \"2\": 4, \"6\": 9, \"15\": 2}, \"5\": {\"10\": 12, \"14\": 57, \"5\": 61, \"15\": 27, \"2\": 13, \"4\": 33, \"9\": 17, \"7\": 15, \"13\": 1, \"8\": 2, \"1\": 2}, \"2\": {\"2\": 112, \"15\": 35, \"1\": 44, \"10\": 8, \"14\": 21, \"5\": 6, \"4\": 3, \"8\": 8, \"7\": 1, \"9\": 2}, \"15\": {\"5\": 35, \"2\": 27, \"15\": 74, \"14\": 31, \"8\": 31, \"1\": 20, \"0\": 10, \"4\": 8, \"7\": 3, \"10\": 1}, \"10\": {\"2\": 11, \"10\": 75, \"9\": 30, \"7\": 55, \"14\": 28, \"4\": 22, \"6\": 1, \"5\": 12, \"1\": 3, \"15\": 3}, \"13\": {\"6\": 73, \"13\": 147, \"9\": 15, \"11\": 4, \"7\": 1}, \"8\": {\"15\": 49, \"8\": 83, \"5\": 11, \"2\": 12, \"0\": 59, \"1\": 19, \"3\": 3, \"14\": 3, \"4\": 1}, \"4\": {\"7\": 43, \"5\": 23, \"2\": 17, \"9\": 35, \"10\": 10, \"4\": 42, \"14\": 24, \"15\": 28, \"8\": 5, \"6\": 9, \"1\": 4}, \"9\": {\"13\": 32, \"9\": 42, \"10\": 32, \"14\": 13, \"4\": 22, \"7\": 40, \"6\": 36, \"15\": 6, \"5\": 6, \"2\": 11}, \"14\": {\"10\": 21, \"4\": 33, \"14\": 67, \"5\": 58, \"7\": 13, \"15\": 22, \"9\": 8, \"2\": 15, \"8\": 3}, \"0\": {\"0\": 145, \"1\": 17, \"8\": 57, \"3\": 7, \"2\": 2, \"15\": 9, \"12\": 3}, \"12\": {\"12\": 125, \"3\": 114, \"0\": 1}}, \"ORACLE.run1_50\": {\"15\": {\"9\": 34, \"15\": 64, \"6\": 59, \"11\": 7, \"12\": 14, \"5\": 45, \"3\": 9, \"7\": 2, \"4\": 6}, \"4\": {\"15\": 7, \"7\": 91, \"4\": 113, \"5\": 26, \"9\": 1, \"6\": 2}, \"6\": {\"15\": 54, \"6\": 60, \"12\": 15, \"5\": 41, \"9\": 31, \"3\": 25, \"11\": 9, \"7\": 2, \"4\": 3}, \"2\": {\"2\": 103, \"14\": 79, \"0\": 54, \"10\": 4}, \"5\": {\"7\": 41, \"4\": 32, \"5\": 56, \"6\": 23, \"15\": 26, \"9\": 10, \"11\": 22, \"13\": 6, \"12\": 11, \"3\": 12, \"1\": 1}, \"9\": {\"15\": 59, \"9\": 65, \"6\": 40, \"12\": 34, \"5\": 20, \"11\": 15, \"13\": 2, \"3\": 5}, \"8\": {\"1\": 56, \"8\": 123, \"10\": 47, \"13\": 12, \"0\": 2}, \"12\": {\"9\": 36, \"12\": 84, \"11\": 70, \"6\": 15, \"5\": 5, \"13\": 9, \"15\": 15, \"3\": 5, \"1\": 1}, \"10\": {\"10\": 132, \"8\": 52, \"0\": 37, \"1\": 14, \"14\": 3, \"2\": 2}, \"1\": {\"13\": 55, \"8\": 54, \"1\": 103, \"10\": 24, \"11\": 3, \"0\": 1}, \"0\": {\"0\": 120, \"14\": 33, \"2\": 44, \"10\": 43}, \"3\": {\"5\": 23, \"12\": 8, \"3\": 106, \"15\": 24, \"9\": 5, \"13\": 16, \"11\": 16, \"6\": 39, \"7\": 2, \"4\": 1}, \"13\": {\"13\": 146, \"1\": 42, \"8\": 10, \"3\": 12, \"12\": 5, \"11\": 23, \"9\": 1, \"6\": 1}, \"11\": {\"5\": 5, \"12\": 65, \"9\": 21, \"15\": 13, \"13\": 21, \"11\": 94, \"6\": 11, \"3\": 10}, \"7\": {\"7\": 126, \"4\": 98, \"6\": 4, \"5\": 11, \"9\": 1}, \"14\": {\"14\": 104, \"2\": 88, \"0\": 46, \"10\": 2}}, \"ORACLE.run1_38\": {\"15\": {\"15\": 179, \"8\": 11, \"6\": 8, \"12\": 6, \"5\": 21, \"1\": 14, \"9\": 1}, \"11\": {\"11\": 239, \"3\": 1}, \"10\": {\"0\": 53, \"10\": 124, \"13\": 9, \"4\": 36, \"3\": 17, \"7\": 1}, \"14\": {\"14\": 104, \"13\": 25, \"7\": 54, \"2\": 39, \"4\": 9, \"0\": 8, \"8\": 1}, \"6\": {\"6\": 120, \"1\": 118, \"15\": 2}, \"4\": {\"4\": 155, \"10\": 46, \"13\": 16, \"0\": 17, \"14\": 5, \"7\": 1}, \"13\": {\"7\": 10, \"13\": 141, \"10\": 13, \"0\": 43, \"14\": 12, \"2\": 5, \"4\": 16}, \"3\": {\"3\": 231, \"10\": 7, \"11\": 2}, \"7\": {\"7\": 101, \"9\": 13, \"2\": 62, \"14\": 44, \"4\": 1, \"8\": 5, \"13\": 8, \"0\": 4, \"5\": 2}, \"8\": {\"9\": 38, \"15\": 30, \"5\": 55, \"7\": 24, \"8\": 36, \"12\": 22, \"2\": 30, \"14\": 5}, \"1\": {\"1\": 141, \"6\": 96, \"15\": 3}, \"5\": {\"8\": 48, \"15\": 36, \"5\": 53, \"7\": 17, \"9\": 46, \"12\": 17, \"2\": 20, \"14\": 2, \"13\": 1}, \"0\": {\"13\": 49, \"7\": 26, \"0\": 41, \"14\": 16, \"4\": 22, \"10\": 72, \"3\": 8, \"2\": 5, \"8\": 1}, \"2\": {\"2\": 98, \"7\": 58, \"8\": 9, \"9\": 17, \"14\": 47, \"5\": 8, \"13\": 2, \"0\": 1}, \"12\": {\"12\": 147, \"5\": 34, \"8\": 44, \"2\": 4, \"7\": 6, \"9\": 5}, \"9\": {\"5\": 39, \"9\": 128, \"2\": 13, \"8\": 49, \"15\": 1, \"7\": 8, \"14\": 2}}, \"ORACLE.run1_20\": {\"10\": {\"4\": 26, \"10\": 95, \"7\": 8, \"2\": 21, \"13\": 51, \"15\": 11, \"12\": 15, \"9\": 2, \"6\": 9, \"1\": 1, \"14\": 1}, \"7\": {\"2\": 19, \"7\": 33, \"6\": 20, \"8\": 4, \"13\": 23, \"3\": 6, \"15\": 23, \"14\": 5, \"9\": 23, \"5\": 20, \"12\": 21, \"1\": 20, \"4\": 20, \"10\": 3}, \"4\": {\"13\": 28, \"12\": 42, \"1\": 13, \"10\": 28, \"15\": 16, \"7\": 16, \"14\": 1, \"2\": 23, \"9\": 10, \"8\": 2, \"3\": 5, \"4\": 34, \"6\": 17, \"5\": 5}, \"13\": {\"1\": 5, \"4\": 32, \"14\": 3, \"13\": 72, \"15\": 22, \"2\": 28, \"6\": 12, \"10\": 39, \"7\": 5, \"12\": 15, \"5\": 2, \"9\": 5}, \"1\": {\"9\": 22, \"6\": 17, \"1\": 34, \"7\": 19, \"15\": 18, \"3\": 26, \"8\": 18, \"12\": 17, \"5\": 17, \"4\": 18, \"2\": 19, \"14\": 12, \"13\": 2, \"0\": 1}, \"0\": {\"14\": 8, \"0\": 121, \"8\": 35, \"11\": 59, \"5\": 6, \"9\": 1, \"3\": 9, \"1\": 1}, \"12\": {\"6\": 20, \"2\": 23, \"1\": 18, \"4\": 35, \"12\": 23, \"3\": 4, \"9\": 13, \"13\": 30, \"7\": 25, \"14\": 6, \"15\": 25, \"10\": 8, \"5\": 8, \"8\": 2}, \"5\": {\"5\": 35, \"7\": 16, \"1\": 29, \"9\": 32, \"3\": 29, \"0\": 7, \"8\": 27, \"2\": 7, \"14\": 24, \"13\": 1, \"6\": 12, \"12\": 6, \"15\": 14, \"11\": 1}, \"6\": {\"9\": 20, \"4\": 18, \"12\": 31, \"10\": 6, \"14\": 9, \"6\": 36, \"7\": 33, \"8\": 7, \"5\": 9, \"2\": 17, \"13\": 9, \"1\": 25, \"15\": 11, \"3\": 9}, \"2\": {\"12\": 21, \"4\": 33, \"6\": 14, \"15\": 18, \"10\": 17, \"3\": 7, \"7\": 22, \"5\": 10, \"9\": 16, \"2\": 35, \"13\": 36, \"1\": 6, \"14\": 4, \"8\": 1}, \"8\": {\"5\": 33, \"8\": 58, \"11\": 5, \"9\": 11, \"14\": 43, \"3\": 31, \"7\": 8, \"0\": 29, \"1\": 9, \"6\": 9, \"15\": 2, \"12\": 1, \"2\": 1}, \"11\": {\"0\": 67, \"11\": 152, \"8\": 12, \"14\": 3, \"3\": 4, \"1\": 1, \"5\": 1}, \"9\": {\"14\": 16, \"5\": 17, \"13\": 13, \"1\": 35, \"12\": 22, \"7\": 17, \"3\": 19, \"6\": 19, \"9\": 26, \"8\": 16, \"15\": 22, \"4\": 11, \"0\": 1, \"2\": 6}, \"14\": {\"8\": 55, \"14\": 56, \"5\": 18, \"9\": 11, \"1\": 14, \"3\": 38, \"11\": 2, \"6\": 9, \"12\": 3, \"0\": 21, \"7\": 7, \"2\": 3, \"4\": 3}, \"15\": {\"1\": 17, \"10\": 8, \"13\": 30, \"15\": 31, \"3\": 10, \"5\": 9, \"2\": 31, \"8\": 5, \"4\": 28, \"9\": 13, \"7\": 23, \"12\": 22, \"6\": 12, \"14\": 1}, \"3\": {\"3\": 40, \"14\": 29, \"2\": 4, \"1\": 31, \"6\": 19, \"0\": 13, \"5\": 27, \"8\": 31, \"9\": 25, \"4\": 4, \"12\": 2, \"7\": 9, \"15\": 5, \"11\": 1}}, \"ORACLE.run1_14\": {\"14\": {\"0\": 41, \"13\": 32, \"3\": 30, \"14\": 44, \"5\": 21, \"7\": 21, \"6\": 10, \"8\": 13, \"2\": 25, \"12\": 3}, \"0\": {\"14\": 26, \"8\": 18, \"3\": 36, \"7\": 10, \"5\": 20, \"12\": 8, \"2\": 22, \"13\": 22, \"4\": 5, \"0\": 50, \"6\": 23}, \"4\": {\"4\": 118, \"5\": 12, \"12\": 20, \"10\": 49, \"1\": 8, \"2\": 17, \"0\": 5, \"8\": 6, \"14\": 1, \"9\": 3, \"13\": 1}, \"11\": {\"11\": 233, \"9\": 4, \"1\": 3}, \"13\": {\"13\": 42, \"4\": 9, \"15\": 25, \"2\": 20, \"6\": 63, \"7\": 12, \"3\": 16, \"0\": 14, \"8\": 7, \"14\": 19, \"12\": 2, \"5\": 11}, \"9\": {\"9\": 143, \"1\": 60, \"10\": 32, \"4\": 4, \"12\": 1}, \"3\": {\"6\": 60, \"2\": 13, \"7\": 31, \"14\": 20, \"0\": 28, \"3\": 67, \"13\": 17, \"8\": 3, \"5\": 1}, \"6\": {\"13\": 48, \"6\": 85, \"3\": 50, \"14\": 13, \"7\": 15, \"15\": 2, \"0\": 20, \"2\": 5, \"12\": 1, \"5\": 1}, \"1\": {\"1\": 158, \"4\": 3, \"10\": 20, \"9\": 59}, \"5\": {\"14\": 19, \"2\": 33, \"8\": 45, \"5\": 65, \"12\": 11, \"0\": 17, \"6\": 2, \"4\": 21, \"7\": 17, \"10\": 1, \"13\": 5, \"3\": 4}, \"12\": {\"14\": 2, \"12\": 136, \"4\": 25, \"3\": 1, \"8\": 34, \"5\": 8, \"10\": 11, \"2\": 7, \"13\": 1, \"0\": 14, \"7\": 1}, \"10\": {\"9\": 28, \"4\": 67, \"10\": 111, \"12\": 15, \"1\": 16, \"5\": 2, \"2\": 1}, \"8\": {\"14\": 12, \"8\": 87, \"7\": 14, \"12\": 26, \"4\": 12, \"5\": 47, \"2\": 21, \"13\": 3, \"3\": 4, \"0\": 13, \"10\": 1}, \"7\": {\"14\": 20, \"8\": 26, \"0\": 12, \"2\": 28, \"3\": 30, \"5\": 25, \"7\": 77, \"13\": 11, \"6\": 11}, \"15\": {\"15\": 240}, \"2\": {\"14\": 29, \"0\": 18, \"7\": 14, \"8\": 16, \"3\": 23, \"5\": 40, \"2\": 35, \"12\": 8, \"13\": 13, \"4\": 25, \"6\": 17, \"10\": 2}}, \"ORACLE.run1_32\": {\"11\": {\"11\": 185, \"9\": 35, \"12\": 10, \"13\": 10}, \"1\": {\"1\": 207, \"2\": 14, \"0\": 4, \"13\": 2, \"8\": 3, \"4\": 7, \"9\": 2, \"14\": 1}, \"2\": {\"1\": 4, \"4\": 87, \"14\": 18, \"2\": 93, \"3\": 15, \"8\": 8, \"13\": 12, \"0\": 2, \"7\": 1}, \"0\": {\"0\": 47, \"7\": 56, \"14\": 35, \"15\": 6, \"5\": 41, \"8\": 50, \"2\": 5}, \"3\": {\"4\": 43, \"2\": 28, \"13\": 60, \"3\": 101, \"9\": 3, \"14\": 3, \"1\": 1, \"8\": 1}, \"8\": {\"5\": 20, \"8\": 57, \"0\": 64, \"14\": 41, \"15\": 15, \"7\": 26, \"4\": 5, \"1\": 3, \"2\": 7, \"3\": 2}, \"12\": {\"10\": 31, \"9\": 31, \"12\": 168, \"11\": 10}, \"5\": {\"0\": 31, \"15\": 54, \"5\": 68, \"7\": 55, \"8\": 14, \"14\": 16, \"2\": 2}, \"15\": {\"15\": 174, \"7\": 12, \"5\": 40, \"8\": 5, \"0\": 9}, \"7\": {\"7\": 68, \"14\": 34, \"5\": 59, \"0\": 43, \"15\": 9, \"8\": 26, \"2\": 1}, \"4\": {\"2\": 80, \"3\": 38, \"4\": 83, \"13\": 19, \"14\": 7, \"8\": 3, \"1\": 3, \"0\": 2, \"9\": 5}, \"14\": {\"14\": 77, \"7\": 45, \"2\": 25, \"8\": 28, \"0\": 41, \"5\": 13, \"3\": 2, \"4\": 7, \"15\": 2}, \"10\": {\"10\": 190, \"12\": 37, \"6\": 13}, \"6\": {\"6\": 219, \"10\": 19, \"12\": 2}, \"13\": {\"3\": 66, \"2\": 23, \"13\": 71, \"4\": 38, \"11\": 12, \"9\": 25, \"1\": 3, \"8\": 1, \"0\": 1}, \"9\": {\"12\": 46, \"13\": 38, \"11\": 28, \"4\": 19, \"2\": 7, \"9\": 88, \"3\": 10, \"10\": 2, \"1\": 2}}, \"ORACLE.run1_8\": {\"9\": {\"3\": 56, \"9\": 179, \"2\": 5}, \"11\": {\"5\": 21, \"6\": 32, \"11\": 42, \"1\": 35, \"4\": 35, \"7\": 17, \"8\": 21, \"10\": 14, \"14\": 14, \"13\": 9}, \"8\": {\"4\": 52, \"8\": 60, \"11\": 39, \"14\": 29, \"1\": 19, \"6\": 14, \"5\": 5, \"10\": 9, \"7\": 13}, \"4\": {\"14\": 39, \"4\": 90, \"8\": 50, \"11\": 38, \"10\": 3, \"7\": 5, \"1\": 8, \"6\": 5, \"5\": 2}, \"13\": {\"7\": 42, \"8\": 2, \"6\": 24, \"5\": 38, \"10\": 48, \"11\": 5, \"13\": 64, \"1\": 16, \"4\": 1}, \"14\": {\"4\": 59, \"14\": 150, \"8\": 16, \"11\": 13, \"1\": 1, \"5\": 1}, \"2\": {\"15\": 59, \"2\": 92, \"12\": 46, \"3\": 37, \"9\": 6}, \"3\": {\"3\": 199, \"9\": 26, \"2\": 15}, \"1\": {\"4\": 13, \"7\": 25, \"5\": 23, \"11\": 33, \"1\": 30, \"8\": 18, \"13\": 28, \"6\": 41, \"14\": 2, \"10\": 27}, \"0\": {\"0\": 235, \"14\": 5}, \"5\": {\"12\": 2, \"13\": 62, \"6\": 19, \"8\": 6, \"5\": 51, \"7\": 19, \"10\": 33, \"1\": 25, \"11\": 15, \"4\": 6, \"14\": 2}, \"15\": {\"15\": 112, \"2\": 47, \"12\": 78, \"3\": 3}, \"10\": {\"11\": 12, \"7\": 31, \"10\": 38, \"5\": 41, \"1\": 33, \"13\": 40, \"6\": 27, \"4\": 11, \"8\": 7}, \"12\": {\"12\": 109, \"15\": 107, \"2\": 24}, \"6\": {\"4\": 18, \"13\": 14, \"6\": 42, \"1\": 34, \"8\": 15, \"10\": 21, \"7\": 44, \"11\": 26, \"5\": 26}, \"7\": {\"11\": 16, \"7\": 45, \"5\": 27, \"13\": 40, \"10\": 35, \"1\": 23, \"6\": 42, \"8\": 7, \"4\": 5}}}, \"per_domain_accuracy\": {\"CORES_5\": {\"accuracy\": 0.9965083798882681, \"source?\": true}, \"CORES_1\": {\"accuracy\": 0.9966032608695652, \"source?\": true}, \"CORES_3\": {\"accuracy\": 0.9948529411764706, \"source?\": true}, \"CORES_4\": {\"accuracy\": 0.9967996987951807, \"source?\": true}, \"CORES_2\": {\"accuracy\": 0.9984019886363636, \"source?\": true}, \"ORACLE.run1_26\": {\"accuracy\": 0.27421875, \"source?\": false}, \"ORACLE.run1_44\": {\"accuracy\": 0.43046875, \"source?\": false}, \"ORACLE.run1_50\": {\"accuracy\": 0.41640625, \"source?\": false}, \"ORACLE.run1_38\": {\"accuracy\": 0.5307291666666667, \"source?\": false}, \"ORACLE.run1_20\": {\"accuracy\": 0.22942708333333334, \"source?\": false}, \"ORACLE.run1_14\": {\"accuracy\": 0.44036458333333334, \"source?\": false}, \"ORACLE.run1_32\": {\"accuracy\": 0.49375, \"source?\": false}, \"ORACLE.run1_8\": {\"accuracy\": 0.4005208333333333, \"source?\": false}}}, \"history\": {\"epoch_indices\": [1, 2, 3, 4, 5, 6], \"train_label_loss\": [0.025944210091891535, 0.00881474921862693, 0.006650601914348102, 0.005666992928121838, 0.004636210754664318, 0.004628838315590751], \"source_val_label_loss\": [0.012977441772818565, 0.025092022493481636, 0.010341690853238106, 0.018650008365511894, 0.007808109745383263, 0.007888241671025753], \"target_val_label_loss\": [2.1010220050811768, 1.7546730041503906, 1.851593017578125, 1.8711602687835693, 1.9287912845611572, 1.9778423309326172], \"source_val_acc_label\": [0.9971071428571429, 0.9966428571428572, 0.9987142857142857, 0.9987142857142857, 0.9995, 0.9992857142857143], \"target_val_acc_label\": [0.33193359375, 0.4019856770833333, 0.40068359375, 0.3912109375, 0.35869140625, 0.35927734375]}, \"dataset_metrics\": {\"source\": {\"train\": {\"n_unique_x\": 175142, \"n_unique_y\": 58, \"n_batch/episode\": 6303}, \"val\": {\"n_unique_x\": 37151, \"n_unique_y\": 58, \"n_batch/episode\": 875}, \"test\": {\"n_unique_x\": 37548, \"n_unique_y\": 58, \"n_batch/episode\": 885}}, \"target\": {\"train\": {\"n_unique_x\": 179200, \"n_unique_y\": 16, \"n_batch/episode\": 6720}, \"val\": {\"n_unique_x\": 38400, \"n_unique_y\": 16, \"n_batch/episode\": 960}, \"test\": {\"n_unique_x\": 38400, \"n_unique_y\": 16, \"n_batch/episode\": 960}}}}'"
      ]
     },
     "execution_count": 29,
     "metadata": {},
     "output_type": "execute_result"
    }
   ],
   "source": [
    "json.dumps(experiment)"
   ]
  }
 ],
 "metadata": {
  "celltoolbar": "Tags",
  "kernelspec": {
   "display_name": "Python 3 (ipykernel)",
   "language": "python",
   "name": "python3"
  },
  "language_info": {
   "codemirror_mode": {
    "name": "ipython",
    "version": 3
   },
   "file_extension": ".py",
   "mimetype": "text/x-python",
   "name": "python",
   "nbconvert_exporter": "python",
   "pygments_lexer": "ipython3",
   "version": "3.8.12"
  },
  "papermill": {
   "default_parameters": {},
   "duration": 1090.885015,
   "end_time": "2022-03-22T14:54:07.368333",
   "environment_variables": {},
   "exception": null,
   "input_path": "/root/csc500-main/csc500-notebooks/templates/tl_ptn_template.ipynb",
   "output_path": "trial.ipynb",
   "parameters": {
    "parameters": {
     "BEST_MODEL_PATH": "./best_model.pth",
     "NUM_LOGS_PER_EPOCH": 10,
     "criteria_for_best": "target_accuracy",
     "dataset_seed": 7,
     "datasets": [
      {
       "domain_prefix": "CORES_",
       "domains": [
        1,
        2,
        3,
        4,
        5
       ],
       "episode_transforms": [],
       "labels": [
        "1-10.",
        "1-11.",
        "1-15.",
        "1-16.",
        "1-17.",
        "1-18.",
        "1-19.",
        "10-4.",
        "10-7.",
        "11-1.",
        "11-14.",
        "11-17.",
        "11-20.",
        "11-7.",
        "13-20.",
        "13-8.",
        "14-10.",
        "14-11.",
        "14-14.",
        "14-7.",
        "15-1.",
        "15-20.",
        "16-1.",
        "16-16.",
        "17-10.",
        "17-11.",
        "17-2.",
        "19-1.",
        "19-16.",
        "19-19.",
        "19-20.",
        "19-3.",
        "2-10.",
        "2-11.",
        "2-17.",
        "2-18.",
        "2-20.",
        "2-3.",
        "2-4.",
        "2-5.",
        "2-6.",
        "2-7.",
        "2-8.",
        "3-13.",
        "3-18.",
        "3-3.",
        "4-1.",
        "4-10.",
        "4-11.",
        "4-19.",
        "5-5.",
        "6-15.",
        "7-10.",
        "7-14.",
        "8-18.",
        "8-20.",
        "8-3.",
        "8-8."
       ],
       "num_examples_per_domain_per_label": -1,
       "pickle_path": "/root/csc500-main/datasets/cores.stratified_ds.2022A.pkl",
       "source_or_target_dataset": "source",
       "x_transforms": []
      },
      {
       "domain_prefix": "ORACLE.run1_",
       "domains": [
        32,
        38,
        8,
        44,
        14,
        50,
        20,
        26
       ],
       "episode_transforms": [],
       "labels": [
        "3123D52",
        "3123D65",
        "3123D79",
        "3123D80",
        "3123D54",
        "3123D70",
        "3123D7B",
        "3123D89",
        "3123D58",
        "3123D76",
        "3123D7D",
        "3123EFE",
        "3123D64",
        "3123D78",
        "3123D7E",
        "3124E4A"
       ],
       "num_examples_per_domain_per_label": 2000,
       "pickle_path": "/root/csc500-main/datasets/oracle.Run1_10kExamples_stratified_ds.2022A.pkl",
       "source_or_target_dataset": "target",
       "x_transforms": []
      }
     ],
     "device": "cuda",
     "experiment_name": "tl_1v2:cores-oracle.run1.limited",
     "lr": 0.0001,
     "n_epoch": 50,
     "n_query": 2,
     "n_shot": 3,
     "n_way": 16,
     "patience": 3,
     "seed": 7,
     "test_k_factor": 2,
     "torch_default_dtype": "torch.float32",
     "train_k_factor": 3,
     "val_k_factor": 2,
     "x_net": [
      {
       "class": "nnReshape",
       "kargs": {
        "shape": [
         -1,
         1,
         2,
         256
        ]
       }
      },
      {
       "class": "Conv2d",
       "kargs": {
        "bias": false,
        "in_channels": 1,
        "kernel_size": [
         1,
         7
        ],
        "out_channels": 256,
        "padding": [
         0,
         3
        ]
       }
      },
      {
       "class": "ReLU",
       "kargs": {
        "inplace": true
       }
      },
      {
       "class": "BatchNorm2d",
       "kargs": {
        "num_features": 256
       }
      },
      {
       "class": "Conv2d",
       "kargs": {
        "bias": true,
        "in_channels": 256,
        "kernel_size": [
         2,
         7
        ],
        "out_channels": 80,
        "padding": [
         0,
         3
        ]
       }
      },
      {
       "class": "ReLU",
       "kargs": {
        "inplace": true
       }
      },
      {
       "class": "BatchNorm2d",
       "kargs": {
        "num_features": 80
       }
      },
      {
       "class": "Flatten",
       "kargs": {}
      },
      {
       "class": "Linear",
       "kargs": {
        "in_features": 20480,
        "out_features": 256
       }
      },
      {
       "class": "ReLU",
       "kargs": {
        "inplace": true
       }
      },
      {
       "class": "BatchNorm1d",
       "kargs": {
        "num_features": 256
       }
      },
      {
       "class": "Linear",
       "kargs": {
        "in_features": 256,
        "out_features": 256
       }
      }
     ]
    }
   },
   "start_time": "2022-03-22T14:35:56.483318",
   "version": "2.3.4"
  }
 },
 "nbformat": 4,
 "nbformat_minor": 5
}