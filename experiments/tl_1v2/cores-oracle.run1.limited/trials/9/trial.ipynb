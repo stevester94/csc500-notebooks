{
 "cells": [
  {
   "cell_type": "markdown",
   "id": "9fea5f46",
   "metadata": {
    "papermill": {
     "duration": 0.02963,
     "end_time": "2022-03-22T08:33:01.260054",
     "exception": false,
     "start_time": "2022-03-22T08:33:01.230424",
     "status": "completed"
    },
    "tags": []
   },
   "source": [
    "# Transfer Learning Template"
   ]
  },
  {
   "cell_type": "code",
   "execution_count": 1,
   "id": "0902182a",
   "metadata": {
    "execution": {
     "iopub.execute_input": "2022-03-22T08:33:01.326039Z",
     "iopub.status.busy": "2022-03-22T08:33:01.325174Z",
     "iopub.status.idle": "2022-03-22T08:33:03.222242Z",
     "shell.execute_reply": "2022-03-22T08:33:03.221782Z"
    },
    "papermill": {
     "duration": 1.936064,
     "end_time": "2022-03-22T08:33:03.222347",
     "exception": false,
     "start_time": "2022-03-22T08:33:01.286283",
     "status": "completed"
    },
    "tags": []
   },
   "outputs": [],
   "source": [
    "%load_ext autoreload\n",
    "%autoreload 2\n",
    "%matplotlib inline\n",
    "\n",
    "    \n",
    "import os, json, sys, time, random\n",
    "import numpy as np\n",
    "import torch\n",
    "from torch.optim import Adam\n",
    "from  easydict import EasyDict\n",
    "import matplotlib.pyplot as plt\n",
    "\n",
    "from steves_models.steves_ptn import Steves_Prototypical_Network\n",
    "\n",
    "from steves_utils.lazy_iterable_wrapper import Lazy_Iterable_Wrapper\n",
    "from steves_utils.iterable_aggregator import Iterable_Aggregator\n",
    "from steves_utils.ptn_train_eval_test_jig import  PTN_Train_Eval_Test_Jig\n",
    "from steves_utils.torch_sequential_builder import build_sequential\n",
    "from steves_utils.torch_utils import get_dataset_metrics, ptn_confusion_by_domain_over_dataloader\n",
    "from steves_utils.utils_v2 import (per_domain_accuracy_from_confusion, get_datasets_base_path)\n",
    "from steves_utils.PTN.utils import independent_accuracy_assesment\n",
    "\n",
    "from torch.utils.data import DataLoader\n",
    "\n",
    "from steves_utils.stratified_dataset.episodic_accessor import Episodic_Accessor_Factory\n",
    "\n",
    "from steves_utils.ptn_do_report import (\n",
    "    get_loss_curve,\n",
    "    get_results_table,\n",
    "    get_parameters_table,\n",
    "    get_domain_accuracies,\n",
    ")\n",
    "\n",
    "from steves_utils.transforms import get_chained_transform"
   ]
  },
  {
   "cell_type": "markdown",
   "id": "41c840b4",
   "metadata": {
    "papermill": {
     "duration": 0.019259,
     "end_time": "2022-03-22T08:33:03.261582",
     "exception": false,
     "start_time": "2022-03-22T08:33:03.242323",
     "status": "completed"
    },
    "tags": []
   },
   "source": [
    "# Allowed Parameters\n",
    "These are allowed parameters, not defaults\n",
    "Each of these values need to be present in the injected parameters (the notebook will raise an exception if they are not present)\n",
    "\n",
    "Papermill uses the cell tag \"parameters\" to inject the real parameters below this cell.\n",
    "Enable tags to see what I mean"
   ]
  },
  {
   "cell_type": "code",
   "execution_count": 2,
   "id": "fd44eb83",
   "metadata": {
    "execution": {
     "iopub.execute_input": "2022-03-22T08:33:03.305617Z",
     "iopub.status.busy": "2022-03-22T08:33:03.305231Z",
     "iopub.status.idle": "2022-03-22T08:33:03.330438Z",
     "shell.execute_reply": "2022-03-22T08:33:03.329734Z"
    },
    "papermill": {
     "duration": 0.049877,
     "end_time": "2022-03-22T08:33:03.330592",
     "exception": false,
     "start_time": "2022-03-22T08:33:03.280715",
     "status": "completed"
    },
    "tags": []
   },
   "outputs": [],
   "source": [
    "required_parameters = {\n",
    "    \"experiment_name\",\n",
    "    \"lr\",\n",
    "    \"device\",\n",
    "    \"seed\",\n",
    "    \"dataset_seed\",\n",
    "    \"n_shot\",\n",
    "    \"n_query\",\n",
    "    \"n_way\",\n",
    "    \"train_k_factor\",\n",
    "    \"val_k_factor\",\n",
    "    \"test_k_factor\",\n",
    "    \"n_epoch\",\n",
    "    \"patience\",\n",
    "    \"criteria_for_best\",\n",
    "    \"x_net\",\n",
    "    \"datasets\",\n",
    "    \"torch_default_dtype\",\n",
    "    \"NUM_LOGS_PER_EPOCH\",\n",
    "    \"BEST_MODEL_PATH\",\n",
    "    \"x_shape\",\n",
    "}"
   ]
  },
  {
   "cell_type": "code",
   "execution_count": 3,
   "id": "fa3f0049",
   "metadata": {
    "execution": {
     "iopub.execute_input": "2022-03-22T08:33:03.393632Z",
     "iopub.status.busy": "2022-03-22T08:33:03.392730Z",
     "iopub.status.idle": "2022-03-22T08:33:03.412105Z",
     "shell.execute_reply": "2022-03-22T08:33:03.411291Z"
    },
    "papermill": {
     "duration": 0.055176,
     "end_time": "2022-03-22T08:33:03.412257",
     "exception": false,
     "start_time": "2022-03-22T08:33:03.357081",
     "status": "completed"
    },
    "tags": [
     "parameters"
    ]
   },
   "outputs": [],
   "source": [
    "from steves_utils.CORES.utils import (\n",
    "    ALL_NODES,\n",
    "    ALL_NODES_MINIMUM_1000_EXAMPLES,\n",
    "    ALL_DAYS\n",
    ")\n",
    "\n",
    "from steves_utils.ORACLE.utils_v2 import (\n",
    "    ALL_DISTANCES_FEET_NARROWED,\n",
    "    ALL_RUNS,\n",
    "    ALL_SERIAL_NUMBERS,\n",
    ")\n",
    "\n",
    "standalone_parameters = {}\n",
    "standalone_parameters[\"experiment_name\"] = \"STANDALONE PTN\"\n",
    "standalone_parameters[\"lr\"] = 0.001\n",
    "standalone_parameters[\"device\"] = \"cuda\"\n",
    "\n",
    "standalone_parameters[\"seed\"] = 1337\n",
    "standalone_parameters[\"dataset_seed\"] = 1337\n",
    "\n",
    "standalone_parameters[\"n_way\"] = 8\n",
    "standalone_parameters[\"n_shot\"] = 3\n",
    "standalone_parameters[\"n_query\"]  = 2\n",
    "standalone_parameters[\"train_k_factor\"] = 1\n",
    "standalone_parameters[\"val_k_factor\"] = 2\n",
    "standalone_parameters[\"test_k_factor\"] = 2\n",
    "\n",
    "\n",
    "standalone_parameters[\"n_epoch\"] = 50\n",
    "\n",
    "standalone_parameters[\"patience\"] = 10\n",
    "standalone_parameters[\"criteria_for_best\"] = \"source_loss\"\n",
    "\n",
    "standalone_parameters[\"datasets\"] = [\n",
    "    {\n",
    "        \"labels\": ALL_SERIAL_NUMBERS,\n",
    "        \"domains\": ALL_DISTANCES_FEET_NARROWED,\n",
    "        \"num_examples_per_domain_per_label\": 100,\n",
    "        \"pickle_path\": os.path.join(get_datasets_base_path(), \"oracle.Run1_framed_2000Examples_stratified_ds.2022A.pkl\"),\n",
    "        \"source_or_target_dataset\": \"source\",\n",
    "        \"x_transforms\": [\"unit_mag\", \"minus_two\"],\n",
    "        \"episode_transforms\": [],\n",
    "        \"domain_prefix\": \"ORACLE_\"\n",
    "    },\n",
    "    {\n",
    "        \"labels\": ALL_NODES,\n",
    "        \"domains\": ALL_DAYS,\n",
    "        \"num_examples_per_domain_per_label\": 100,\n",
    "        \"pickle_path\": os.path.join(get_datasets_base_path(), \"cores.stratified_ds.2022A.pkl\"),\n",
    "        \"source_or_target_dataset\": \"target\",\n",
    "        \"x_transforms\": [\"unit_power\", \"times_zero\"],\n",
    "        \"episode_transforms\": [],\n",
    "        \"domain_prefix\": \"CORES_\"\n",
    "    }   \n",
    "]\n",
    "\n",
    "standalone_parameters[\"torch_default_dtype\"] = \"torch.float32\" \n",
    "\n",
    "\n",
    "\n",
    "standalone_parameters[\"x_net\"] =     [\n",
    "    {\"class\": \"nnReshape\", \"kargs\": {\"shape\":[-1, 1, 2, 256]}},\n",
    "    {\"class\": \"Conv2d\", \"kargs\": { \"in_channels\":1, \"out_channels\":256, \"kernel_size\":(1,7), \"bias\":False, \"padding\":(0,3), },},\n",
    "    {\"class\": \"ReLU\", \"kargs\": {\"inplace\": True}},\n",
    "    {\"class\": \"BatchNorm2d\", \"kargs\": {\"num_features\":256}},\n",
    "\n",
    "    {\"class\": \"Conv2d\", \"kargs\": { \"in_channels\":256, \"out_channels\":80, \"kernel_size\":(2,7), \"bias\":True, \"padding\":(0,3), },},\n",
    "    {\"class\": \"ReLU\", \"kargs\": {\"inplace\": True}},\n",
    "    {\"class\": \"BatchNorm2d\", \"kargs\": {\"num_features\":80}},\n",
    "    {\"class\": \"Flatten\", \"kargs\": {}},\n",
    "\n",
    "    {\"class\": \"Linear\", \"kargs\": {\"in_features\": 80*256, \"out_features\": 256}}, # 80 units per IQ pair\n",
    "    {\"class\": \"ReLU\", \"kargs\": {\"inplace\": True}},\n",
    "    {\"class\": \"BatchNorm1d\", \"kargs\": {\"num_features\":256}},\n",
    "\n",
    "    {\"class\": \"Linear\", \"kargs\": {\"in_features\": 256, \"out_features\": 256}},\n",
    "]\n",
    "\n",
    "# Parameters relevant to results\n",
    "# These parameters will basically never need to change\n",
    "standalone_parameters[\"NUM_LOGS_PER_EPOCH\"] = 10\n",
    "standalone_parameters[\"BEST_MODEL_PATH\"] = \"./best_model.pth\"\n",
    "\n",
    "\n",
    "\n",
    "\n"
   ]
  },
  {
   "cell_type": "code",
   "execution_count": 4,
   "id": "899f4e06",
   "metadata": {
    "execution": {
     "iopub.execute_input": "2022-03-22T08:33:03.472643Z",
     "iopub.status.busy": "2022-03-22T08:33:03.471685Z",
     "iopub.status.idle": "2022-03-22T08:33:03.492112Z",
     "shell.execute_reply": "2022-03-22T08:33:03.491274Z"
    },
    "papermill": {
     "duration": 0.055838,
     "end_time": "2022-03-22T08:33:03.492267",
     "exception": false,
     "start_time": "2022-03-22T08:33:03.436429",
     "status": "completed"
    },
    "tags": [
     "injected-parameters"
    ]
   },
   "outputs": [],
   "source": [
    "# Parameters\n",
    "parameters = {\n",
    "    \"experiment_name\": \"tl_1v2:cores-oracle.run1.limited\",\n",
    "    \"device\": \"cuda\",\n",
    "    \"lr\": 0.0001,\n",
    "    \"n_shot\": 3,\n",
    "    \"n_query\": 2,\n",
    "    \"train_k_factor\": 3,\n",
    "    \"val_k_factor\": 2,\n",
    "    \"test_k_factor\": 2,\n",
    "    \"torch_default_dtype\": \"torch.float32\",\n",
    "    \"n_epoch\": 50,\n",
    "    \"patience\": 3,\n",
    "    \"criteria_for_best\": \"target_accuracy\",\n",
    "    \"x_net\": [\n",
    "        {\"class\": \"nnReshape\", \"kargs\": {\"shape\": [-1, 1, 2, 256]}},\n",
    "        {\n",
    "            \"class\": \"Conv2d\",\n",
    "            \"kargs\": {\n",
    "                \"in_channels\": 1,\n",
    "                \"out_channels\": 256,\n",
    "                \"kernel_size\": [1, 7],\n",
    "                \"bias\": False,\n",
    "                \"padding\": [0, 3],\n",
    "            },\n",
    "        },\n",
    "        {\"class\": \"ReLU\", \"kargs\": {\"inplace\": True}},\n",
    "        {\"class\": \"BatchNorm2d\", \"kargs\": {\"num_features\": 256}},\n",
    "        {\n",
    "            \"class\": \"Conv2d\",\n",
    "            \"kargs\": {\n",
    "                \"in_channels\": 256,\n",
    "                \"out_channels\": 80,\n",
    "                \"kernel_size\": [2, 7],\n",
    "                \"bias\": True,\n",
    "                \"padding\": [0, 3],\n",
    "            },\n",
    "        },\n",
    "        {\"class\": \"ReLU\", \"kargs\": {\"inplace\": True}},\n",
    "        {\"class\": \"BatchNorm2d\", \"kargs\": {\"num_features\": 80}},\n",
    "        {\"class\": \"Flatten\", \"kargs\": {}},\n",
    "        {\"class\": \"Linear\", \"kargs\": {\"in_features\": 20480, \"out_features\": 256}},\n",
    "        {\"class\": \"ReLU\", \"kargs\": {\"inplace\": True}},\n",
    "        {\"class\": \"BatchNorm1d\", \"kargs\": {\"num_features\": 256}},\n",
    "        {\"class\": \"Linear\", \"kargs\": {\"in_features\": 256, \"out_features\": 256}},\n",
    "    ],\n",
    "    \"NUM_LOGS_PER_EPOCH\": 10,\n",
    "    \"BEST_MODEL_PATH\": \"./best_model.pth\",\n",
    "    \"n_way\": 16,\n",
    "    \"datasets\": [\n",
    "        {\n",
    "            \"labels\": [\n",
    "                \"1-10.\",\n",
    "                \"1-11.\",\n",
    "                \"1-15.\",\n",
    "                \"1-16.\",\n",
    "                \"1-17.\",\n",
    "                \"1-18.\",\n",
    "                \"1-19.\",\n",
    "                \"10-4.\",\n",
    "                \"10-7.\",\n",
    "                \"11-1.\",\n",
    "                \"11-14.\",\n",
    "                \"11-17.\",\n",
    "                \"11-20.\",\n",
    "                \"11-7.\",\n",
    "                \"13-20.\",\n",
    "                \"13-8.\",\n",
    "                \"14-10.\",\n",
    "                \"14-11.\",\n",
    "                \"14-14.\",\n",
    "                \"14-7.\",\n",
    "                \"15-1.\",\n",
    "                \"15-20.\",\n",
    "                \"16-1.\",\n",
    "                \"16-16.\",\n",
    "                \"17-10.\",\n",
    "                \"17-11.\",\n",
    "                \"17-2.\",\n",
    "                \"19-1.\",\n",
    "                \"19-16.\",\n",
    "                \"19-19.\",\n",
    "                \"19-20.\",\n",
    "                \"19-3.\",\n",
    "                \"2-10.\",\n",
    "                \"2-11.\",\n",
    "                \"2-17.\",\n",
    "                \"2-18.\",\n",
    "                \"2-20.\",\n",
    "                \"2-3.\",\n",
    "                \"2-4.\",\n",
    "                \"2-5.\",\n",
    "                \"2-6.\",\n",
    "                \"2-7.\",\n",
    "                \"2-8.\",\n",
    "                \"3-13.\",\n",
    "                \"3-18.\",\n",
    "                \"3-3.\",\n",
    "                \"4-1.\",\n",
    "                \"4-10.\",\n",
    "                \"4-11.\",\n",
    "                \"4-19.\",\n",
    "                \"5-5.\",\n",
    "                \"6-15.\",\n",
    "                \"7-10.\",\n",
    "                \"7-14.\",\n",
    "                \"8-18.\",\n",
    "                \"8-20.\",\n",
    "                \"8-3.\",\n",
    "                \"8-8.\",\n",
    "            ],\n",
    "            \"domains\": [1, 2, 3, 4, 5],\n",
    "            \"num_examples_per_domain_per_label\": -1,\n",
    "            \"pickle_path\": \"/root/csc500-main/datasets/cores.stratified_ds.2022A.pkl\",\n",
    "            \"source_or_target_dataset\": \"target\",\n",
    "            \"x_transforms\": [\"unit_power\"],\n",
    "            \"episode_transforms\": [],\n",
    "            \"domain_prefix\": \"CORES_\",\n",
    "        },\n",
    "        {\n",
    "            \"labels\": [\n",
    "                \"3123D52\",\n",
    "                \"3123D65\",\n",
    "                \"3123D79\",\n",
    "                \"3123D80\",\n",
    "                \"3123D54\",\n",
    "                \"3123D70\",\n",
    "                \"3123D7B\",\n",
    "                \"3123D89\",\n",
    "                \"3123D58\",\n",
    "                \"3123D76\",\n",
    "                \"3123D7D\",\n",
    "                \"3123EFE\",\n",
    "                \"3123D64\",\n",
    "                \"3123D78\",\n",
    "                \"3123D7E\",\n",
    "                \"3124E4A\",\n",
    "            ],\n",
    "            \"domains\": [32, 38, 8, 44, 14, 50, 20, 26],\n",
    "            \"num_examples_per_domain_per_label\": 2000,\n",
    "            \"pickle_path\": \"/root/csc500-main/datasets/oracle.Run1_10kExamples_stratified_ds.2022A.pkl\",\n",
    "            \"source_or_target_dataset\": \"source\",\n",
    "            \"x_transforms\": [\"unit_power\"],\n",
    "            \"episode_transforms\": [],\n",
    "            \"domain_prefix\": \"ORACLE.run1_\",\n",
    "        },\n",
    "    ],\n",
    "    \"dataset_seed\": 420,\n",
    "    \"seed\": 420,\n",
    "}\n"
   ]
  },
  {
   "cell_type": "code",
   "execution_count": 5,
   "id": "8fa1cc33",
   "metadata": {
    "execution": {
     "iopub.execute_input": "2022-03-22T08:33:03.544318Z",
     "iopub.status.busy": "2022-03-22T08:33:03.543751Z",
     "iopub.status.idle": "2022-03-22T08:33:03.565993Z",
     "shell.execute_reply": "2022-03-22T08:33:03.565179Z"
    },
    "papermill": {
     "duration": 0.049306,
     "end_time": "2022-03-22T08:33:03.566147",
     "exception": false,
     "start_time": "2022-03-22T08:33:03.516841",
     "status": "completed"
    },
    "tags": []
   },
   "outputs": [],
   "source": [
    "# Set this to True if you want to run this template directly\n",
    "STANDALONE = False\n",
    "if STANDALONE:\n",
    "    print(\"parameters not injected, running with standalone_parameters\")\n",
    "    parameters = standalone_parameters\n",
    "\n",
    "if not 'parameters' in locals() and not 'parameters' in globals():\n",
    "    raise Exception(\"Parameter injection failed\")\n",
    "\n",
    "#Use an easy dict for all the parameters\n",
    "p = EasyDict(parameters)\n",
    "\n",
    "if \"x_shape\" not in p:\n",
    "    p.x_shape = [2,256] # Default to this if we dont supply x_shape\n",
    "\n",
    "\n",
    "supplied_keys = set(p.keys())\n",
    "\n",
    "if  supplied_keys != required_parameters:\n",
    "    print(\"Parameters are incorrect\")\n",
    "    if len(supplied_keys - required_parameters)>0: print(\"Shouldn't have:\", str(supplied_keys - required_parameters))\n",
    "    if len(required_parameters - supplied_keys)>0: print(\"Need to have:\", str(required_parameters - supplied_keys))\n",
    "    raise RuntimeError(\"Parameters are incorrect\")"
   ]
  },
  {
   "cell_type": "code",
   "execution_count": 6,
   "id": "3a028d58",
   "metadata": {
    "execution": {
     "iopub.execute_input": "2022-03-22T08:33:03.623150Z",
     "iopub.status.busy": "2022-03-22T08:33:03.622332Z",
     "iopub.status.idle": "2022-03-22T08:33:03.643642Z",
     "shell.execute_reply": "2022-03-22T08:33:03.644310Z"
    },
    "papermill": {
     "duration": 0.053118,
     "end_time": "2022-03-22T08:33:03.644494",
     "exception": false,
     "start_time": "2022-03-22T08:33:03.591376",
     "status": "completed"
    },
    "tags": []
   },
   "outputs": [],
   "source": [
    "###################################\n",
    "# Set the RNGs and make it all deterministic\n",
    "###################################\n",
    "np.random.seed(p.seed)\n",
    "random.seed(p.seed)\n",
    "torch.manual_seed(p.seed)\n",
    "\n",
    "torch.use_deterministic_algorithms(True) "
   ]
  },
  {
   "cell_type": "code",
   "execution_count": 7,
   "id": "b691acf6",
   "metadata": {
    "execution": {
     "iopub.execute_input": "2022-03-22T08:33:03.697723Z",
     "iopub.status.busy": "2022-03-22T08:33:03.697170Z",
     "iopub.status.idle": "2022-03-22T08:33:03.719893Z",
     "shell.execute_reply": "2022-03-22T08:33:03.719045Z"
    },
    "papermill": {
     "duration": 0.046765,
     "end_time": "2022-03-22T08:33:03.720048",
     "exception": false,
     "start_time": "2022-03-22T08:33:03.673283",
     "status": "completed"
    },
    "tags": []
   },
   "outputs": [],
   "source": [
    "###########################################\n",
    "# The stratified datasets honor this\n",
    "###########################################\n",
    "torch.set_default_dtype(eval(p.torch_default_dtype))"
   ]
  },
  {
   "cell_type": "code",
   "execution_count": 8,
   "id": "b5fba671",
   "metadata": {
    "execution": {
     "iopub.execute_input": "2022-03-22T08:33:03.770515Z",
     "iopub.status.busy": "2022-03-22T08:33:03.770152Z",
     "iopub.status.idle": "2022-03-22T08:33:03.821659Z",
     "shell.execute_reply": "2022-03-22T08:33:03.820848Z"
    },
    "papermill": {
     "duration": 0.074752,
     "end_time": "2022-03-22T08:33:03.821813",
     "exception": false,
     "start_time": "2022-03-22T08:33:03.747061",
     "status": "completed"
    },
    "tags": []
   },
   "outputs": [],
   "source": [
    "###################################\n",
    "# Build the network(s)\n",
    "# Note: It's critical to do this AFTER setting the RNG\n",
    "###################################\n",
    "x_net = build_sequential(p.x_net)"
   ]
  },
  {
   "cell_type": "code",
   "execution_count": 9,
   "id": "5d7e61cc",
   "metadata": {
    "execution": {
     "iopub.execute_input": "2022-03-22T08:33:03.874137Z",
     "iopub.status.busy": "2022-03-22T08:33:03.873775Z",
     "iopub.status.idle": "2022-03-22T08:33:03.896889Z",
     "shell.execute_reply": "2022-03-22T08:33:03.896082Z"
    },
    "papermill": {
     "duration": 0.046884,
     "end_time": "2022-03-22T08:33:03.897041",
     "exception": false,
     "start_time": "2022-03-22T08:33:03.850157",
     "status": "completed"
    },
    "tags": []
   },
   "outputs": [],
   "source": [
    "start_time_secs = time.time()"
   ]
  },
  {
   "cell_type": "code",
   "execution_count": 10,
   "id": "c6b67dfd",
   "metadata": {
    "execution": {
     "iopub.execute_input": "2022-03-22T08:33:03.948254Z",
     "iopub.status.busy": "2022-03-22T08:33:03.947666Z",
     "iopub.status.idle": "2022-03-22T08:33:03.971680Z",
     "shell.execute_reply": "2022-03-22T08:33:03.970841Z"
    },
    "papermill": {
     "duration": 0.048274,
     "end_time": "2022-03-22T08:33:03.971835",
     "exception": false,
     "start_time": "2022-03-22T08:33:03.923561",
     "status": "completed"
    },
    "tags": []
   },
   "outputs": [],
   "source": [
    "p.domains_source = []\n",
    "p.domains_target = []\n",
    "\n",
    "\n",
    "train_original_source = []\n",
    "val_original_source   = []\n",
    "test_original_source  = []\n",
    "\n",
    "train_original_target = []\n",
    "val_original_target   = []\n",
    "test_original_target  = []"
   ]
  },
  {
   "cell_type": "code",
   "execution_count": 11,
   "id": "e3d9c3d3",
   "metadata": {
    "execution": {
     "iopub.execute_input": "2022-03-22T08:33:04.023165Z",
     "iopub.status.busy": "2022-03-22T08:33:04.022511Z",
     "iopub.status.idle": "2022-03-22T08:33:04.047512Z",
     "shell.execute_reply": "2022-03-22T08:33:04.046709Z"
    },
    "papermill": {
     "duration": 0.048326,
     "end_time": "2022-03-22T08:33:04.047697",
     "exception": false,
     "start_time": "2022-03-22T08:33:03.999371",
     "status": "completed"
    },
    "tags": []
   },
   "outputs": [],
   "source": [
    "# global_x_transform_func = lambda x: normalize(x.to(torch.get_default_dtype()), \"unit_power\") # unit_power, unit_mag\n",
    "# global_x_transform_func = lambda x: normalize(x, \"unit_power\") # unit_power, unit_mag"
   ]
  },
  {
   "cell_type": "code",
   "execution_count": 12,
   "id": "acb78fd2",
   "metadata": {
    "execution": {
     "iopub.execute_input": "2022-03-22T08:33:04.109698Z",
     "iopub.status.busy": "2022-03-22T08:33:04.108856Z",
     "iopub.status.idle": "2022-03-22T08:33:04.127583Z",
     "shell.execute_reply": "2022-03-22T08:33:04.126744Z"
    },
    "papermill": {
     "duration": 0.052442,
     "end_time": "2022-03-22T08:33:04.127740",
     "exception": false,
     "start_time": "2022-03-22T08:33:04.075298",
     "status": "completed"
    },
    "tags": []
   },
   "outputs": [],
   "source": [
    "def add_dataset(\n",
    "    labels,\n",
    "    domains,\n",
    "    pickle_path,\n",
    "    x_transforms,\n",
    "    episode_transforms,\n",
    "    domain_prefix,\n",
    "    num_examples_per_domain_per_label,\n",
    "    source_or_target_dataset:str,\n",
    "    iterator_seed=p.seed,\n",
    "    dataset_seed=p.dataset_seed,\n",
    "    n_shot=p.n_shot,\n",
    "    n_way=p.n_way,\n",
    "    n_query=p.n_query,\n",
    "    train_val_test_k_factors=(p.train_k_factor,p.val_k_factor,p.test_k_factor),\n",
    "):\n",
    "   \n",
    "    if x_transforms == []: x_transform = None\n",
    "    else: x_transform = get_chained_transform(x_transforms)\n",
    "    \n",
    "    if episode_transforms == []: episode_transform = None\n",
    "    else: raise Exception(\"episode_transforms not implemented\")\n",
    "    \n",
    "    episode_transform = lambda tup, _prefix=domain_prefix: (_prefix + str(tup[0]), tup[1])\n",
    "\n",
    "\n",
    "    eaf = Episodic_Accessor_Factory(\n",
    "        labels=labels,\n",
    "        domains=domains,\n",
    "        num_examples_per_domain_per_label=num_examples_per_domain_per_label,\n",
    "        iterator_seed=iterator_seed,\n",
    "        dataset_seed=dataset_seed,\n",
    "        n_shot=n_shot,\n",
    "        n_way=n_way,\n",
    "        n_query=n_query,\n",
    "        train_val_test_k_factors=train_val_test_k_factors,\n",
    "        pickle_path=pickle_path,\n",
    "        x_transform_func=x_transform,\n",
    "    )\n",
    "\n",
    "    train, val, test = eaf.get_train(), eaf.get_val(), eaf.get_test()\n",
    "    train = Lazy_Iterable_Wrapper(train, episode_transform)\n",
    "    val = Lazy_Iterable_Wrapper(val, episode_transform)\n",
    "    test = Lazy_Iterable_Wrapper(test, episode_transform)\n",
    "\n",
    "    if source_or_target_dataset==\"source\":\n",
    "        train_original_source.append(train)\n",
    "        val_original_source.append(val)\n",
    "        test_original_source.append(test)\n",
    "\n",
    "        p.domains_source.extend(\n",
    "            [domain_prefix + str(u) for u in domains]\n",
    "        )\n",
    "    elif source_or_target_dataset==\"target\":\n",
    "        train_original_target.append(train)\n",
    "        val_original_target.append(val)\n",
    "        test_original_target.append(test)\n",
    "        p.domains_target.extend(\n",
    "            [domain_prefix + str(u) for u in domains]\n",
    "        )\n",
    "    else:\n",
    "        raise Exception(f\"invalid source_or_target_dataset: {source_or_target_dataset}\")\n",
    "    "
   ]
  },
  {
   "cell_type": "code",
   "execution_count": 13,
   "id": "fe266617",
   "metadata": {
    "execution": {
     "iopub.execute_input": "2022-03-22T08:33:04.181821Z",
     "iopub.status.busy": "2022-03-22T08:33:04.181264Z",
     "iopub.status.idle": "2022-03-22T08:33:50.160577Z",
     "shell.execute_reply": "2022-03-22T08:33:50.159771Z"
    },
    "papermill": {
     "duration": 46.003351,
     "end_time": "2022-03-22T08:33:50.160768",
     "exception": false,
     "start_time": "2022-03-22T08:33:04.157417",
     "status": "completed"
    },
    "tags": []
   },
   "outputs": [],
   "source": [
    "for ds in p.datasets:\n",
    "    add_dataset(**ds)"
   ]
  },
  {
   "cell_type": "code",
   "execution_count": 14,
   "id": "b90d65ac",
   "metadata": {
    "execution": {
     "iopub.execute_input": "2022-03-22T08:33:50.214649Z",
     "iopub.status.busy": "2022-03-22T08:33:50.214119Z",
     "iopub.status.idle": "2022-03-22T08:33:50.241584Z",
     "shell.execute_reply": "2022-03-22T08:33:50.240764Z"
    },
    "papermill": {
     "duration": 0.052807,
     "end_time": "2022-03-22T08:33:50.241765",
     "exception": false,
     "start_time": "2022-03-22T08:33:50.188958",
     "status": "completed"
    },
    "tags": []
   },
   "outputs": [],
   "source": [
    "# from steves_utils.CORES.utils import (\n",
    "#     ALL_NODES,\n",
    "#     ALL_NODES_MINIMUM_1000_EXAMPLES,\n",
    "#     ALL_DAYS\n",
    "# )\n",
    "\n",
    "# add_dataset(\n",
    "#     labels=ALL_NODES,\n",
    "#     domains = ALL_DAYS,\n",
    "#     num_examples_per_domain_per_label=100,\n",
    "#     pickle_path=os.path.join(get_datasets_base_path(), \"cores.stratified_ds.2022A.pkl\"),\n",
    "#     source_or_target_dataset=\"target\",\n",
    "#     x_transform_func=global_x_transform_func,\n",
    "#     domain_modifier=lambda u: f\"cores_{u}\"\n",
    "# )"
   ]
  },
  {
   "cell_type": "code",
   "execution_count": 15,
   "id": "76db484d",
   "metadata": {
    "execution": {
     "iopub.execute_input": "2022-03-22T08:33:50.294940Z",
     "iopub.status.busy": "2022-03-22T08:33:50.294551Z",
     "iopub.status.idle": "2022-03-22T08:33:50.316940Z",
     "shell.execute_reply": "2022-03-22T08:33:50.316117Z"
    },
    "papermill": {
     "duration": 0.04793,
     "end_time": "2022-03-22T08:33:50.317173",
     "exception": false,
     "start_time": "2022-03-22T08:33:50.269243",
     "status": "completed"
    },
    "tags": []
   },
   "outputs": [],
   "source": [
    "# from steves_utils.ORACLE.utils_v2 import (\n",
    "#     ALL_DISTANCES_FEET,\n",
    "#     ALL_RUNS,\n",
    "#     ALL_SERIAL_NUMBERS,\n",
    "# )\n",
    "\n",
    "\n",
    "# add_dataset(\n",
    "#     labels=ALL_SERIAL_NUMBERS,\n",
    "#     domains = list(set(ALL_DISTANCES_FEET) - {2,62}),\n",
    "#     num_examples_per_domain_per_label=100,\n",
    "#     pickle_path=os.path.join(get_datasets_base_path(), \"oracle.Run2_framed_2000Examples_stratified_ds.2022A.pkl\"),\n",
    "#     source_or_target_dataset=\"source\",\n",
    "#     x_transform_func=global_x_transform_func,\n",
    "#     domain_modifier=lambda u: f\"oracle1_{u}\"\n",
    "# )\n"
   ]
  },
  {
   "cell_type": "code",
   "execution_count": 16,
   "id": "97dea9d2",
   "metadata": {
    "execution": {
     "iopub.execute_input": "2022-03-22T08:33:50.369145Z",
     "iopub.status.busy": "2022-03-22T08:33:50.368759Z",
     "iopub.status.idle": "2022-03-22T08:33:50.385702Z",
     "shell.execute_reply": "2022-03-22T08:33:50.384978Z"
    },
    "papermill": {
     "duration": 0.040988,
     "end_time": "2022-03-22T08:33:50.385867",
     "exception": false,
     "start_time": "2022-03-22T08:33:50.344879",
     "status": "completed"
    },
    "tags": []
   },
   "outputs": [],
   "source": [
    "# from steves_utils.ORACLE.utils_v2 import (\n",
    "#     ALL_DISTANCES_FEET,\n",
    "#     ALL_RUNS,\n",
    "#     ALL_SERIAL_NUMBERS,\n",
    "# )\n",
    "\n",
    "\n",
    "# add_dataset(\n",
    "#     labels=ALL_SERIAL_NUMBERS,\n",
    "#     domains = list(set(ALL_DISTANCES_FEET) - {2,62,56}),\n",
    "#     num_examples_per_domain_per_label=100,\n",
    "#     pickle_path=os.path.join(get_datasets_base_path(), \"oracle.Run2_framed_2000Examples_stratified_ds.2022A.pkl\"),\n",
    "#     source_or_target_dataset=\"source\",\n",
    "#     x_transform_func=global_x_transform_func,\n",
    "#     domain_modifier=lambda u: f\"oracle2_{u}\"\n",
    "# )"
   ]
  },
  {
   "cell_type": "code",
   "execution_count": 17,
   "id": "6f289866",
   "metadata": {
    "execution": {
     "iopub.execute_input": "2022-03-22T08:33:50.438317Z",
     "iopub.status.busy": "2022-03-22T08:33:50.437936Z",
     "iopub.status.idle": "2022-03-22T08:33:50.458500Z",
     "shell.execute_reply": "2022-03-22T08:33:50.457775Z"
    },
    "papermill": {
     "duration": 0.045014,
     "end_time": "2022-03-22T08:33:50.458665",
     "exception": false,
     "start_time": "2022-03-22T08:33:50.413651",
     "status": "completed"
    },
    "tags": []
   },
   "outputs": [],
   "source": [
    "# add_dataset(\n",
    "#     labels=list(range(19)),\n",
    "#     domains = [0,1,2],\n",
    "#     num_examples_per_domain_per_label=100,\n",
    "#     pickle_path=os.path.join(get_datasets_base_path(), \"metehan.stratified_ds.2022A.pkl\"),\n",
    "#     source_or_target_dataset=\"target\",\n",
    "#     x_transform_func=global_x_transform_func,\n",
    "#     domain_modifier=lambda u: f\"met_{u}\"\n",
    "# )"
   ]
  },
  {
   "cell_type": "code",
   "execution_count": 18,
   "id": "86a863c3",
   "metadata": {
    "execution": {
     "iopub.execute_input": "2022-03-22T08:33:50.511408Z",
     "iopub.status.busy": "2022-03-22T08:33:50.511024Z",
     "iopub.status.idle": "2022-03-22T08:33:50.527722Z",
     "shell.execute_reply": "2022-03-22T08:33:50.526945Z"
    },
    "papermill": {
     "duration": 0.040997,
     "end_time": "2022-03-22T08:33:50.527891",
     "exception": false,
     "start_time": "2022-03-22T08:33:50.486894",
     "status": "completed"
    },
    "tags": []
   },
   "outputs": [],
   "source": [
    "# # from steves_utils.wisig.utils import (\n",
    "# #     ALL_NODES_MINIMUM_100_EXAMPLES,\n",
    "# #     ALL_NODES_MINIMUM_500_EXAMPLES,\n",
    "# #     ALL_NODES_MINIMUM_1000_EXAMPLES,\n",
    "# #     ALL_DAYS\n",
    "# # )\n",
    "\n",
    "# import steves_utils.wisig.utils as wisig\n",
    "\n",
    "\n",
    "# add_dataset(\n",
    "#     labels=wisig.ALL_NODES_MINIMUM_100_EXAMPLES,\n",
    "#     domains = wisig.ALL_DAYS,\n",
    "#     num_examples_per_domain_per_label=100,\n",
    "#     pickle_path=os.path.join(get_datasets_base_path(), \"wisig.node3-19.stratified_ds.2022A.pkl\"),\n",
    "#     source_or_target_dataset=\"target\",\n",
    "#     x_transform_func=global_x_transform_func,\n",
    "#     domain_modifier=lambda u: f\"wisig_{u}\"\n",
    "# )"
   ]
  },
  {
   "cell_type": "code",
   "execution_count": 19,
   "id": "fd5442bc",
   "metadata": {
    "execution": {
     "iopub.execute_input": "2022-03-22T08:33:50.586622Z",
     "iopub.status.busy": "2022-03-22T08:33:50.585896Z",
     "iopub.status.idle": "2022-03-22T08:33:50.605172Z",
     "shell.execute_reply": "2022-03-22T08:33:50.605852Z"
    },
    "papermill": {
     "duration": 0.049778,
     "end_time": "2022-03-22T08:33:50.606048",
     "exception": false,
     "start_time": "2022-03-22T08:33:50.556270",
     "status": "completed"
    },
    "tags": []
   },
   "outputs": [],
   "source": [
    "###################################\n",
    "# Build the dataset\n",
    "###################################\n",
    "train_original_source = Iterable_Aggregator(train_original_source, p.seed)\n",
    "val_original_source = Iterable_Aggregator(val_original_source, p.seed)\n",
    "test_original_source = Iterable_Aggregator(test_original_source, p.seed)\n",
    "\n",
    "\n",
    "train_original_target = Iterable_Aggregator(train_original_target, p.seed)\n",
    "val_original_target = Iterable_Aggregator(val_original_target, p.seed)\n",
    "test_original_target = Iterable_Aggregator(test_original_target, p.seed)\n",
    "\n",
    "# For CNN We only use X and Y. And we only train on the source.\n",
    "# Properly form the data using a transform lambda and Lazy_Iterable_Wrapper. Finally wrap them in a dataloader\n",
    "\n",
    "transform_lambda = lambda ex: ex[1] # Original is (<domain>, <episode>) so we strip down to episode only\n",
    "\n",
    "train_processed_source = Lazy_Iterable_Wrapper(train_original_source, transform_lambda)\n",
    "val_processed_source   = Lazy_Iterable_Wrapper(val_original_source, transform_lambda)\n",
    "test_processed_source  = Lazy_Iterable_Wrapper(test_original_source, transform_lambda)\n",
    "\n",
    "train_processed_target = Lazy_Iterable_Wrapper(train_original_target, transform_lambda)\n",
    "val_processed_target   = Lazy_Iterable_Wrapper(val_original_target, transform_lambda)\n",
    "test_processed_target  = Lazy_Iterable_Wrapper(test_original_target, transform_lambda)\n",
    "\n",
    "datasets = EasyDict({\n",
    "    \"source\": {\n",
    "        \"original\": {\"train\":train_original_source, \"val\":val_original_source, \"test\":test_original_source},\n",
    "        \"processed\": {\"train\":train_processed_source, \"val\":val_processed_source, \"test\":test_processed_source}\n",
    "    },\n",
    "    \"target\": {\n",
    "        \"original\": {\"train\":train_original_target, \"val\":val_original_target, \"test\":test_original_target},\n",
    "        \"processed\": {\"train\":train_processed_target, \"val\":val_processed_target, \"test\":test_processed_target}\n",
    "    },\n",
    "})"
   ]
  },
  {
   "cell_type": "code",
   "execution_count": 20,
   "id": "5b3c01fc",
   "metadata": {
    "execution": {
     "iopub.execute_input": "2022-03-22T08:33:50.662303Z",
     "iopub.status.busy": "2022-03-22T08:33:50.661690Z",
     "iopub.status.idle": "2022-03-22T08:34:06.208165Z",
     "shell.execute_reply": "2022-03-22T08:34:06.208897Z"
    },
    "papermill": {
     "duration": 15.574689,
     "end_time": "2022-03-22T08:34:06.209123",
     "exception": false,
     "start_time": "2022-03-22T08:33:50.634434",
     "status": "completed"
    },
    "tags": []
   },
   "outputs": [
    {
     "name": "stdout",
     "output_type": "stream",
     "text": [
      "{'ORACLE.run1_44', 'ORACLE.run1_8', 'ORACLE.run1_32', 'ORACLE.run1_50', 'ORACLE.run1_14', 'ORACLE.run1_20', 'ORACLE.run1_26', 'ORACLE.run1_38'}\n"
     ]
    },
    {
     "name": "stdout",
     "output_type": "stream",
     "text": [
      "{'CORES_4', 'CORES_1', 'CORES_3', 'CORES_2', 'CORES_5'}\n"
     ]
    },
    {
     "name": "stdout",
     "output_type": "stream",
     "text": [
      "tensor([[[-0.1920,  0.2208,  0.3168,  ..., -0.5952,  0.9311,  1.0463],\n",
      "         [-0.9215, -0.2688,  0.4224,  ..., -1.0079, -1.3343, -0.2016]],\n",
      "\n",
      "        [[-0.3228,  0.2184, -0.7596,  ..., -0.3798, -1.1109,  0.0760],\n",
      "         [ 0.1899, -0.4747,  0.2659,  ...,  1.0539, -0.5507, -0.4937]],\n",
      "\n",
      "        [[-0.9435, -0.7677,  0.2682,  ..., -0.9065,  0.3515,  0.0832],\n",
      "         [ 0.7122, -0.4625, -1.1007,  ...,  0.1295, -1.0082,  0.7955]],\n",
      "\n",
      "        ...,\n",
      "\n",
      "        [[-0.6804,  0.3998,  0.2455,  ..., -0.4980,  0.6313, -0.8136],\n",
      "         [-0.7786,  0.4699,  1.0661,  ...,  0.7996,  1.2275,  0.0070]],\n",
      "\n",
      "        [[-1.1254,  0.3051, -0.1288,  ..., -1.4847,  0.6576,  1.1525],\n",
      "         [ 0.8271,  0.5152,  0.1763,  ..., -1.5728, -1.0033, -0.5084]],\n",
      "\n",
      "        [[-1.4265, -0.5774, -0.2106,  ...,  0.2989,  0.8287,  1.1412],\n",
      "         [-0.6996,  0.5434,  0.0883,  ..., -0.5978,  0.0883, -0.0136]]])\n"
     ]
    }
   ],
   "source": [
    "from steves_utils.transforms import get_average_magnitude, get_average_power\n",
    "\n",
    "print(set([u for u,_ in val_original_source]))\n",
    "print(set([u for u,_ in val_original_target]))\n",
    "\n",
    "s_x, s_y, q_x, q_y, _ = next(iter(train_processed_source))\n",
    "print(s_x)\n",
    "\n",
    "# for ds in [\n",
    "#     train_processed_source,\n",
    "#     val_processed_source,\n",
    "#     test_processed_source,\n",
    "#     train_processed_target,\n",
    "#     val_processed_target,\n",
    "#     test_processed_target\n",
    "# ]:\n",
    "#     for s_x, s_y, q_x, q_y, _ in ds:\n",
    "#         for X in (s_x, q_x):\n",
    "#             for x in X:\n",
    "#                 assert np.isclose(get_average_magnitude(x.numpy()), 1.0)\n",
    "#                 assert np.isclose(get_average_power(x.numpy()), 1.0)\n",
    "                "
   ]
  },
  {
   "cell_type": "code",
   "execution_count": 21,
   "id": "bbdacba1",
   "metadata": {
    "execution": {
     "iopub.execute_input": "2022-03-22T08:34:06.267491Z",
     "iopub.status.busy": "2022-03-22T08:34:06.267120Z",
     "iopub.status.idle": "2022-03-22T08:34:06.387386Z",
     "shell.execute_reply": "2022-03-22T08:34:06.388107Z"
    },
    "papermill": {
     "duration": 0.14831,
     "end_time": "2022-03-22T08:34:06.388297",
     "exception": false,
     "start_time": "2022-03-22T08:34:06.239987",
     "status": "completed"
    },
    "tags": []
   },
   "outputs": [
    {
     "name": "stdout",
     "output_type": "stream",
     "text": [
      "(2, 256)\n"
     ]
    }
   ],
   "source": [
    "###################################\n",
    "# Build the model\n",
    "###################################\n",
    "# easfsl only wants a tuple for the shape\n",
    "model = Steves_Prototypical_Network(x_net, device=p.device, x_shape=tuple(p.x_shape))\n",
    "optimizer = Adam(params=model.parameters(), lr=p.lr)"
   ]
  },
  {
   "cell_type": "code",
   "execution_count": 22,
   "id": "22b39ac5",
   "metadata": {
    "execution": {
     "iopub.execute_input": "2022-03-22T08:34:06.471659Z",
     "iopub.status.busy": "2022-03-22T08:34:06.471022Z",
     "iopub.status.idle": "2022-03-22T09:00:55.858217Z",
     "shell.execute_reply": "2022-03-22T09:00:55.857872Z"
    },
    "papermill": {
     "duration": 1609.414408,
     "end_time": "2022-03-22T09:00:55.858301",
     "exception": false,
     "start_time": "2022-03-22T08:34:06.443893",
     "status": "completed"
    },
    "tags": []
   },
   "outputs": [
    {
     "name": "stdout",
     "output_type": "stream",
     "text": [
      "epoch: 1, [batch: 1 / 6720], examples_per_second: 32.3184, train_label_loss: 2.7850, \n"
     ]
    },
    {
     "name": "stdout",
     "output_type": "stream",
     "text": [
      "epoch: 1, [batch: 672 / 6720], examples_per_second: 2953.5358, train_label_loss: 2.8154, \n"
     ]
    },
    {
     "name": "stdout",
     "output_type": "stream",
     "text": [
      "epoch: 1, [batch: 1344 / 6720], examples_per_second: 3106.5314, train_label_loss: 1.5034, \n"
     ]
    },
    {
     "name": "stdout",
     "output_type": "stream",
     "text": [
      "epoch: 1, [batch: 2016 / 6720], examples_per_second: 3367.9304, train_label_loss: 2.2045, \n"
     ]
    },
    {
     "name": "stdout",
     "output_type": "stream",
     "text": [
      "epoch: 1, [batch: 2688 / 6720], examples_per_second: 3370.2265, train_label_loss: 1.4265, \n"
     ]
    },
    {
     "name": "stdout",
     "output_type": "stream",
     "text": [
      "epoch: 1, [batch: 3360 / 6720], examples_per_second: 3410.8616, train_label_loss: 1.3998, \n"
     ]
    },
    {
     "name": "stdout",
     "output_type": "stream",
     "text": [
      "epoch: 1, [batch: 4032 / 6720], examples_per_second: 3636.8946, train_label_loss: 1.9135, \n"
     ]
    },
    {
     "name": "stdout",
     "output_type": "stream",
     "text": [
      "epoch: 1, [batch: 4704 / 6720], examples_per_second: 3804.9355, train_label_loss: 1.1880, \n"
     ]
    },
    {
     "name": "stdout",
     "output_type": "stream",
     "text": [
      "epoch: 1, [batch: 5376 / 6720], examples_per_second: 3909.5312, train_label_loss: 1.5621, \n"
     ]
    },
    {
     "name": "stdout",
     "output_type": "stream",
     "text": [
      "epoch: 1, [batch: 6048 / 6720], examples_per_second: 3889.6372, train_label_loss: 1.1992, \n"
     ]
    },
    {
     "name": "stdout",
     "output_type": "stream",
     "text": [
      "=============================================================\n",
      "epoch: 1, source_val_acc_label: 0.5334, target_val_acc_label: 0.9571, source_val_label_loss: 1.2253, target_val_label_loss: 0.1662, \n",
      "=============================================================\n"
     ]
    },
    {
     "name": "stdout",
     "output_type": "stream",
     "text": [
      "New best\n"
     ]
    },
    {
     "name": "stdout",
     "output_type": "stream",
     "text": [
      "epoch: 2, [batch: 1 / 6720], examples_per_second: 2.9524, train_label_loss: 1.7335, \n"
     ]
    },
    {
     "name": "stdout",
     "output_type": "stream",
     "text": [
      "epoch: 2, [batch: 672 / 6720], examples_per_second: 2971.7379, train_label_loss: 1.3584, \n"
     ]
    },
    {
     "name": "stdout",
     "output_type": "stream",
     "text": [
      "epoch: 2, [batch: 1344 / 6720], examples_per_second: 3004.0769, train_label_loss: 1.1424, \n"
     ]
    },
    {
     "name": "stdout",
     "output_type": "stream",
     "text": [
      "epoch: 2, [batch: 2016 / 6720], examples_per_second: 2993.5716, train_label_loss: 1.0826, \n"
     ]
    },
    {
     "name": "stdout",
     "output_type": "stream",
     "text": [
      "epoch: 2, [batch: 2688 / 6720], examples_per_second: 2995.5855, train_label_loss: 1.3498, \n"
     ]
    },
    {
     "name": "stdout",
     "output_type": "stream",
     "text": [
      "epoch: 2, [batch: 3360 / 6720], examples_per_second: 2994.9158, train_label_loss: 0.8281, \n"
     ]
    },
    {
     "name": "stdout",
     "output_type": "stream",
     "text": [
      "epoch: 2, [batch: 4032 / 6720], examples_per_second: 3245.7404, train_label_loss: 0.7160, \n"
     ]
    },
    {
     "name": "stdout",
     "output_type": "stream",
     "text": [
      "epoch: 2, [batch: 4704 / 6720], examples_per_second: 3394.9687, train_label_loss: 1.0021, \n"
     ]
    },
    {
     "name": "stdout",
     "output_type": "stream",
     "text": [
      "epoch: 2, [batch: 5376 / 6720], examples_per_second: 3530.1031, train_label_loss: 0.7678, \n"
     ]
    },
    {
     "name": "stdout",
     "output_type": "stream",
     "text": [
      "epoch: 2, [batch: 6048 / 6720], examples_per_second: 3005.6179, train_label_loss: 0.9183, \n"
     ]
    },
    {
     "name": "stdout",
     "output_type": "stream",
     "text": [
      "=============================================================\n",
      "epoch: 2, source_val_acc_label: 0.5932, target_val_acc_label: 0.9624, source_val_label_loss: 1.0646, target_val_label_loss: 0.1676, \n",
      "=============================================================\n"
     ]
    },
    {
     "name": "stdout",
     "output_type": "stream",
     "text": [
      "New best\n"
     ]
    },
    {
     "name": "stdout",
     "output_type": "stream",
     "text": [
      "epoch: 3, [batch: 1 / 6720], examples_per_second: 2.8348, train_label_loss: 0.6942, \n"
     ]
    },
    {
     "name": "stdout",
     "output_type": "stream",
     "text": [
      "epoch: 3, [batch: 672 / 6720], examples_per_second: 2940.2596, train_label_loss: 0.6222, \n"
     ]
    },
    {
     "name": "stdout",
     "output_type": "stream",
     "text": [
      "epoch: 3, [batch: 1344 / 6720], examples_per_second: 3073.2872, train_label_loss: 1.6279, \n"
     ]
    },
    {
     "name": "stdout",
     "output_type": "stream",
     "text": [
      "epoch: 3, [batch: 2016 / 6720], examples_per_second: 2977.8463, train_label_loss: 1.0621, \n"
     ]
    },
    {
     "name": "stdout",
     "output_type": "stream",
     "text": [
      "epoch: 3, [batch: 2688 / 6720], examples_per_second: 2982.4765, train_label_loss: 0.9570, \n"
     ]
    },
    {
     "name": "stdout",
     "output_type": "stream",
     "text": [
      "epoch: 3, [batch: 3360 / 6720], examples_per_second: 2995.8085, train_label_loss: 0.7509, \n"
     ]
    },
    {
     "name": "stdout",
     "output_type": "stream",
     "text": [
      "epoch: 3, [batch: 4032 / 6720], examples_per_second: 3221.2931, train_label_loss: 0.4305, \n"
     ]
    },
    {
     "name": "stdout",
     "output_type": "stream",
     "text": [
      "epoch: 3, [batch: 4704 / 6720], examples_per_second: 3432.0947, train_label_loss: 0.7397, \n"
     ]
    },
    {
     "name": "stdout",
     "output_type": "stream",
     "text": [
      "epoch: 3, [batch: 5376 / 6720], examples_per_second: 3526.4160, train_label_loss: 0.7965, \n"
     ]
    },
    {
     "name": "stdout",
     "output_type": "stream",
     "text": [
      "epoch: 3, [batch: 6048 / 6720], examples_per_second: 2986.7710, train_label_loss: 0.5758, \n"
     ]
    },
    {
     "name": "stdout",
     "output_type": "stream",
     "text": [
      "=============================================================\n",
      "epoch: 3, source_val_acc_label: 0.6044, target_val_acc_label: 0.9617, source_val_label_loss: 1.0464, target_val_label_loss: 0.1883, \n",
      "=============================================================\n"
     ]
    },
    {
     "name": "stdout",
     "output_type": "stream",
     "text": [
      "epoch: 4, [batch: 1 / 6720], examples_per_second: 2.8417, train_label_loss: 0.8916, \n"
     ]
    },
    {
     "name": "stdout",
     "output_type": "stream",
     "text": [
      "epoch: 4, [batch: 672 / 6720], examples_per_second: 2907.9801, train_label_loss: 1.1153, \n"
     ]
    },
    {
     "name": "stdout",
     "output_type": "stream",
     "text": [
      "epoch: 4, [batch: 1344 / 6720], examples_per_second: 2939.0786, train_label_loss: 0.6995, \n"
     ]
    },
    {
     "name": "stdout",
     "output_type": "stream",
     "text": [
      "epoch: 4, [batch: 2016 / 6720], examples_per_second: 2945.4969, train_label_loss: 0.5196, \n"
     ]
    },
    {
     "name": "stdout",
     "output_type": "stream",
     "text": [
      "epoch: 4, [batch: 2688 / 6720], examples_per_second: 2960.7262, train_label_loss: 1.0899, \n"
     ]
    },
    {
     "name": "stdout",
     "output_type": "stream",
     "text": [
      "epoch: 4, [batch: 3360 / 6720], examples_per_second: 2924.4063, train_label_loss: 1.1073, \n"
     ]
    },
    {
     "name": "stdout",
     "output_type": "stream",
     "text": [
      "epoch: 4, [batch: 4032 / 6720], examples_per_second: 3234.4047, train_label_loss: 0.5472, \n"
     ]
    },
    {
     "name": "stdout",
     "output_type": "stream",
     "text": [
      "epoch: 4, [batch: 4704 / 6720], examples_per_second: 3401.7918, train_label_loss: 0.4380, \n"
     ]
    },
    {
     "name": "stdout",
     "output_type": "stream",
     "text": [
      "epoch: 4, [batch: 5376 / 6720], examples_per_second: 3511.4490, train_label_loss: 0.6859, \n"
     ]
    },
    {
     "name": "stdout",
     "output_type": "stream",
     "text": [
      "epoch: 4, [batch: 6048 / 6720], examples_per_second: 2981.9310, train_label_loss: 0.9088, \n"
     ]
    },
    {
     "name": "stdout",
     "output_type": "stream",
     "text": [
      "=============================================================\n",
      "epoch: 4, source_val_acc_label: 0.6106, target_val_acc_label: 0.9648, source_val_label_loss: 1.0657, target_val_label_loss: 0.2037, \n",
      "=============================================================\n"
     ]
    },
    {
     "name": "stdout",
     "output_type": "stream",
     "text": [
      "New best\n"
     ]
    },
    {
     "name": "stdout",
     "output_type": "stream",
     "text": [
      "epoch: 5, [batch: 1 / 6720], examples_per_second: 2.8131, train_label_loss: 0.6955, \n"
     ]
    },
    {
     "name": "stdout",
     "output_type": "stream",
     "text": [
      "epoch: 5, [batch: 672 / 6720], examples_per_second: 3010.6045, train_label_loss: 0.7284, \n"
     ]
    },
    {
     "name": "stdout",
     "output_type": "stream",
     "text": [
      "epoch: 5, [batch: 1344 / 6720], examples_per_second: 2991.0405, train_label_loss: 0.5338, \n"
     ]
    },
    {
     "name": "stdout",
     "output_type": "stream",
     "text": [
      "epoch: 5, [batch: 2016 / 6720], examples_per_second: 2999.4542, train_label_loss: 0.3655, \n"
     ]
    },
    {
     "name": "stdout",
     "output_type": "stream",
     "text": [
      "epoch: 5, [batch: 2688 / 6720], examples_per_second: 2990.3929, train_label_loss: 0.9946, \n"
     ]
    },
    {
     "name": "stdout",
     "output_type": "stream",
     "text": [
      "epoch: 5, [batch: 3360 / 6720], examples_per_second: 2984.8719, train_label_loss: 0.8563, \n"
     ]
    },
    {
     "name": "stdout",
     "output_type": "stream",
     "text": [
      "epoch: 5, [batch: 4032 / 6720], examples_per_second: 3263.8069, train_label_loss: 0.7130, \n"
     ]
    },
    {
     "name": "stdout",
     "output_type": "stream",
     "text": [
      "epoch: 5, [batch: 4704 / 6720], examples_per_second: 3359.7240, train_label_loss: 1.0263, \n"
     ]
    },
    {
     "name": "stdout",
     "output_type": "stream",
     "text": [
      "epoch: 5, [batch: 5376 / 6720], examples_per_second: 3437.9397, train_label_loss: 0.7201, \n"
     ]
    },
    {
     "name": "stdout",
     "output_type": "stream",
     "text": [
      "epoch: 5, [batch: 6048 / 6720], examples_per_second: 2925.4891, train_label_loss: 0.6293, \n"
     ]
    },
    {
     "name": "stdout",
     "output_type": "stream",
     "text": [
      "=============================================================\n",
      "epoch: 5, source_val_acc_label: 0.6094, target_val_acc_label: 0.9636, source_val_label_loss: 1.1004, target_val_label_loss: 0.2256, \n",
      "=============================================================\n"
     ]
    },
    {
     "name": "stdout",
     "output_type": "stream",
     "text": [
      "epoch: 6, [batch: 1 / 6720], examples_per_second: 3.1531, train_label_loss: 0.4235, \n"
     ]
    },
    {
     "name": "stdout",
     "output_type": "stream",
     "text": [
      "epoch: 6, [batch: 672 / 6720], examples_per_second: 3300.0587, train_label_loss: 0.5911, \n"
     ]
    },
    {
     "name": "stdout",
     "output_type": "stream",
     "text": [
      "epoch: 6, [batch: 1344 / 6720], examples_per_second: 3495.1918, train_label_loss: 0.9262, \n"
     ]
    },
    {
     "name": "stdout",
     "output_type": "stream",
     "text": [
      "epoch: 6, [batch: 2016 / 6720], examples_per_second: 3478.9705, train_label_loss: 0.8311, \n"
     ]
    },
    {
     "name": "stdout",
     "output_type": "stream",
     "text": [
      "epoch: 6, [batch: 2688 / 6720], examples_per_second: 3924.0679, train_label_loss: 0.4297, \n"
     ]
    },
    {
     "name": "stdout",
     "output_type": "stream",
     "text": [
      "epoch: 6, [batch: 3360 / 6720], examples_per_second: 3621.5561, train_label_loss: 0.5426, \n"
     ]
    },
    {
     "name": "stdout",
     "output_type": "stream",
     "text": [
      "epoch: 6, [batch: 4032 / 6720], examples_per_second: 3195.3027, train_label_loss: 0.2545, \n"
     ]
    },
    {
     "name": "stdout",
     "output_type": "stream",
     "text": [
      "epoch: 6, [batch: 4704 / 6720], examples_per_second: 3365.4313, train_label_loss: 0.1234, \n"
     ]
    },
    {
     "name": "stdout",
     "output_type": "stream",
     "text": [
      "epoch: 6, [batch: 5376 / 6720], examples_per_second: 3521.8557, train_label_loss: 0.8293, \n"
     ]
    },
    {
     "name": "stdout",
     "output_type": "stream",
     "text": [
      "epoch: 6, [batch: 6048 / 6720], examples_per_second: 3051.7974, train_label_loss: 0.1769, \n"
     ]
    },
    {
     "name": "stdout",
     "output_type": "stream",
     "text": [
      "=============================================================\n",
      "epoch: 6, source_val_acc_label: 0.6157, target_val_acc_label: 0.9614, source_val_label_loss: 1.1502, target_val_label_loss: 0.2446, \n",
      "=============================================================\n"
     ]
    },
    {
     "name": "stdout",
     "output_type": "stream",
     "text": [
      "epoch: 7, [batch: 1 / 6720], examples_per_second: 2.8676, train_label_loss: 0.7645, \n"
     ]
    },
    {
     "name": "stdout",
     "output_type": "stream",
     "text": [
      "epoch: 7, [batch: 672 / 6720], examples_per_second: 3036.2347, train_label_loss: 0.8652, \n"
     ]
    },
    {
     "name": "stdout",
     "output_type": "stream",
     "text": [
      "epoch: 7, [batch: 1344 / 6720], examples_per_second: 3005.5610, train_label_loss: 0.6359, \n"
     ]
    },
    {
     "name": "stdout",
     "output_type": "stream",
     "text": [
      "epoch: 7, [batch: 2016 / 6720], examples_per_second: 3028.9637, train_label_loss: 0.4009, \n"
     ]
    },
    {
     "name": "stdout",
     "output_type": "stream",
     "text": [
      "epoch: 7, [batch: 2688 / 6720], examples_per_second: 2972.4258, train_label_loss: 0.3960, \n"
     ]
    },
    {
     "name": "stdout",
     "output_type": "stream",
     "text": [
      "epoch: 7, [batch: 3360 / 6720], examples_per_second: 3019.4760, train_label_loss: 0.3062, \n"
     ]
    },
    {
     "name": "stdout",
     "output_type": "stream",
     "text": [
      "epoch: 7, [batch: 4032 / 6720], examples_per_second: 3284.8243, train_label_loss: 0.5613, \n"
     ]
    },
    {
     "name": "stdout",
     "output_type": "stream",
     "text": [
      "epoch: 7, [batch: 4704 / 6720], examples_per_second: 3410.6822, train_label_loss: 0.5232, \n"
     ]
    },
    {
     "name": "stdout",
     "output_type": "stream",
     "text": [
      "epoch: 7, [batch: 5376 / 6720], examples_per_second: 3422.5164, train_label_loss: 0.5990, \n"
     ]
    },
    {
     "name": "stdout",
     "output_type": "stream",
     "text": [
      "epoch: 7, [batch: 6048 / 6720], examples_per_second: 3419.8209, train_label_loss: 0.2851, \n"
     ]
    },
    {
     "name": "stdout",
     "output_type": "stream",
     "text": [
      "=============================================================\n",
      "epoch: 7, source_val_acc_label: 0.6131, target_val_acc_label: 0.9612, source_val_label_loss: 1.2376, target_val_label_loss: 0.2774, \n",
      "=============================================================\n"
     ]
    },
    {
     "name": "stdout",
     "output_type": "stream",
     "text": [
      "epoch: 8, [batch: 1 / 6720], examples_per_second: 3.2211, train_label_loss: 0.5938, \n"
     ]
    },
    {
     "name": "stdout",
     "output_type": "stream",
     "text": [
      "epoch: 8, [batch: 672 / 6720], examples_per_second: 3371.6283, train_label_loss: 0.5096, \n"
     ]
    },
    {
     "name": "stdout",
     "output_type": "stream",
     "text": [
      "epoch: 8, [batch: 1344 / 6720], examples_per_second: 3372.2568, train_label_loss: 0.3019, \n"
     ]
    },
    {
     "name": "stdout",
     "output_type": "stream",
     "text": [
      "epoch: 8, [batch: 2016 / 6720], examples_per_second: 3403.3328, train_label_loss: 0.3287, \n"
     ]
    },
    {
     "name": "stdout",
     "output_type": "stream",
     "text": [
      "epoch: 8, [batch: 2688 / 6720], examples_per_second: 3806.1082, train_label_loss: 0.2576, \n"
     ]
    },
    {
     "name": "stdout",
     "output_type": "stream",
     "text": [
      "epoch: 8, [batch: 3360 / 6720], examples_per_second: 3878.8500, train_label_loss: 0.4693, \n"
     ]
    },
    {
     "name": "stdout",
     "output_type": "stream",
     "text": [
      "epoch: 8, [batch: 4032 / 6720], examples_per_second: 3940.1879, train_label_loss: 0.9341, \n"
     ]
    },
    {
     "name": "stdout",
     "output_type": "stream",
     "text": [
      "epoch: 8, [batch: 4704 / 6720], examples_per_second: 3868.7396, train_label_loss: 0.1783, \n"
     ]
    },
    {
     "name": "stdout",
     "output_type": "stream",
     "text": [
      "epoch: 8, [batch: 5376 / 6720], examples_per_second: 3867.8522, train_label_loss: 0.3166, \n"
     ]
    },
    {
     "name": "stdout",
     "output_type": "stream",
     "text": [
      "epoch: 8, [batch: 6048 / 6720], examples_per_second: 3877.0714, train_label_loss: 0.5948, \n"
     ]
    },
    {
     "name": "stdout",
     "output_type": "stream",
     "text": [
      "=============================================================\n",
      "epoch: 8, source_val_acc_label: 0.6065, target_val_acc_label: 0.9642, source_val_label_loss: 1.3225, target_val_label_loss: 0.2894, \n",
      "=============================================================\n"
     ]
    },
    {
     "name": "stdout",
     "output_type": "stream",
     "text": [
      "Patience (3) exhausted\n"
     ]
    }
   ],
   "source": [
    "###################################\n",
    "# train\n",
    "###################################\n",
    "jig = PTN_Train_Eval_Test_Jig(model, p.BEST_MODEL_PATH, p.device)\n",
    "\n",
    "jig.train(\n",
    "    train_iterable=datasets.source.processed.train,\n",
    "    source_val_iterable=datasets.source.processed.val,\n",
    "    target_val_iterable=datasets.target.processed.val,\n",
    "    num_epochs=p.n_epoch,\n",
    "    num_logs_per_epoch=p.NUM_LOGS_PER_EPOCH,\n",
    "    patience=p.patience,\n",
    "    optimizer=optimizer,\n",
    "    criteria_for_best=p.criteria_for_best,\n",
    ")"
   ]
  },
  {
   "cell_type": "code",
   "execution_count": 23,
   "id": "31e8fabf",
   "metadata": {
    "execution": {
     "iopub.execute_input": "2022-03-22T09:00:55.965169Z",
     "iopub.status.busy": "2022-03-22T09:00:55.964801Z",
     "iopub.status.idle": "2022-03-22T09:00:55.998449Z",
     "shell.execute_reply": "2022-03-22T09:00:55.997736Z"
    },
    "papermill": {
     "duration": 0.084126,
     "end_time": "2022-03-22T09:00:55.998615",
     "exception": false,
     "start_time": "2022-03-22T09:00:55.914489",
     "status": "completed"
    },
    "tags": []
   },
   "outputs": [],
   "source": [
    "total_experiment_time_secs = time.time() - start_time_secs"
   ]
  },
  {
   "cell_type": "code",
   "execution_count": 24,
   "id": "87b9595b",
   "metadata": {
    "execution": {
     "iopub.execute_input": "2022-03-22T09:00:56.104911Z",
     "iopub.status.busy": "2022-03-22T09:00:56.104317Z",
     "iopub.status.idle": "2022-03-22T09:04:06.748042Z",
     "shell.execute_reply": "2022-03-22T09:04:06.747281Z"
    },
    "papermill": {
     "duration": 190.699118,
     "end_time": "2022-03-22T09:04:06.748233",
     "exception": false,
     "start_time": "2022-03-22T09:00:56.049115",
     "status": "completed"
    },
    "tags": []
   },
   "outputs": [],
   "source": [
    "###################################\n",
    "# Evaluate the model\n",
    "###################################\n",
    "source_test_label_accuracy, source_test_label_loss = jig.test(datasets.source.processed.test)\n",
    "target_test_label_accuracy, target_test_label_loss = jig.test(datasets.target.processed.test)\n",
    "\n",
    "source_val_label_accuracy, source_val_label_loss = jig.test(datasets.source.processed.val)\n",
    "target_val_label_accuracy, target_val_label_loss = jig.test(datasets.target.processed.val)\n",
    "\n",
    "history = jig.get_history()\n",
    "\n",
    "total_epochs_trained = len(history[\"epoch_indices\"])\n",
    "\n",
    "val_dl = Iterable_Aggregator((datasets.source.original.val,datasets.target.original.val))\n",
    "\n",
    "confusion = ptn_confusion_by_domain_over_dataloader(model, p.device, val_dl)\n",
    "per_domain_accuracy = per_domain_accuracy_from_confusion(confusion)\n",
    "\n",
    "# Add a key to per_domain_accuracy for if it was a source domain\n",
    "for domain, accuracy in per_domain_accuracy.items():\n",
    "    per_domain_accuracy[domain] = {\n",
    "        \"accuracy\": accuracy,\n",
    "        \"source?\": domain in p.domains_source\n",
    "    }\n",
    "\n",
    "# Do an independent accuracy assesment JUST TO BE SURE!\n",
    "# _source_test_label_accuracy = independent_accuracy_assesment(model, datasets.source.processed.test, p.device)\n",
    "# _target_test_label_accuracy = independent_accuracy_assesment(model, datasets.target.processed.test, p.device)\n",
    "# _source_val_label_accuracy = independent_accuracy_assesment(model, datasets.source.processed.val, p.device)\n",
    "# _target_val_label_accuracy = independent_accuracy_assesment(model, datasets.target.processed.val, p.device)\n",
    "\n",
    "# assert(_source_test_label_accuracy == source_test_label_accuracy)\n",
    "# assert(_target_test_label_accuracy == target_test_label_accuracy)\n",
    "# assert(_source_val_label_accuracy == source_val_label_accuracy)\n",
    "# assert(_target_val_label_accuracy == target_val_label_accuracy)\n",
    "\n",
    "experiment = {\n",
    "    \"experiment_name\": p.experiment_name,\n",
    "    \"parameters\": dict(p),\n",
    "    \"results\": {\n",
    "        \"source_test_label_accuracy\": source_test_label_accuracy,\n",
    "        \"source_test_label_loss\": source_test_label_loss,\n",
    "        \"target_test_label_accuracy\": target_test_label_accuracy,\n",
    "        \"target_test_label_loss\": target_test_label_loss,\n",
    "        \"source_val_label_accuracy\": source_val_label_accuracy,\n",
    "        \"source_val_label_loss\": source_val_label_loss,\n",
    "        \"target_val_label_accuracy\": target_val_label_accuracy,\n",
    "        \"target_val_label_loss\": target_val_label_loss,\n",
    "        \"total_epochs_trained\": total_epochs_trained,\n",
    "        \"total_experiment_time_secs\": total_experiment_time_secs,\n",
    "        \"confusion\": confusion,\n",
    "        \"per_domain_accuracy\": per_domain_accuracy,\n",
    "    },\n",
    "    \"history\": history,\n",
    "    \"dataset_metrics\": get_dataset_metrics(datasets, \"ptn\"),\n",
    "}"
   ]
  },
  {
   "cell_type": "code",
   "execution_count": 25,
   "id": "54a21829",
   "metadata": {
    "execution": {
     "iopub.execute_input": "2022-03-22T09:04:06.849781Z",
     "iopub.status.busy": "2022-03-22T09:04:06.848865Z",
     "iopub.status.idle": "2022-03-22T09:04:07.078139Z",
     "shell.execute_reply": "2022-03-22T09:04:07.077314Z"
    },
    "papermill": {
     "duration": 0.280139,
     "end_time": "2022-03-22T09:04:07.078297",
     "exception": false,
     "start_time": "2022-03-22T09:04:06.798158",
     "status": "completed"
    },
    "tags": []
   },
   "outputs": [
    {
     "data": {
      "image/png": "[encoded data removed]",
      "text/plain": [
       "<Figure size 1080x504 with 1 Axes>"
      ]
     },
     "metadata": {
      "needs_background": "light"
     },
     "output_type": "display_data"
    }
   ],
   "source": [
    "ax = get_loss_curve(experiment)\n",
    "plt.show()"
   ]
  },
  {
   "cell_type": "code",
   "execution_count": 26,
   "id": "fd8a0f60",
   "metadata": {
    "execution": {
     "iopub.execute_input": "2022-03-22T09:04:07.187154Z",
     "iopub.status.busy": "2022-03-22T09:04:07.186489Z",
     "iopub.status.idle": "2022-03-22T09:04:07.566975Z",
     "shell.execute_reply": "2022-03-22T09:04:07.567285Z"
    },
    "papermill": {
     "duration": 0.432704,
     "end_time": "2022-03-22T09:04:07.567372",
     "exception": false,
     "start_time": "2022-03-22T09:04:07.134668",
     "status": "completed"
    },
    "tags": []
   },
   "outputs": [
    {
     "data": {
      "text/plain": [
       "<AxesSubplot:title={'center':'Results'}>"
      ]
     },
     "execution_count": 26,
     "metadata": {},
     "output_type": "execute_result"
    },
    {
     "data": {
      "image/png": "[encoded data removed]",
      "text/plain": [
       "<Figure size 1080x504 with 1 Axes>"
      ]
     },
     "metadata": {
      "needs_background": "light"
     },
     "output_type": "display_data"
    }
   ],
   "source": [
    "get_results_table(experiment)"
   ]
  },
  {
   "cell_type": "code",
   "execution_count": 27,
   "id": "cf8dc689",
   "metadata": {
    "execution": {
     "iopub.execute_input": "2022-03-22T09:04:07.672155Z",
     "iopub.status.busy": "2022-03-22T09:04:07.671779Z",
     "iopub.status.idle": "2022-03-22T09:04:07.930036Z",
     "shell.execute_reply": "2022-03-22T09:04:07.930720Z"
    },
    "papermill": {
     "duration": 0.312615,
     "end_time": "2022-03-22T09:04:07.930907",
     "exception": false,
     "start_time": "2022-03-22T09:04:07.618292",
     "status": "completed"
    },
    "tags": []
   },
   "outputs": [
    {
     "data": {
      "text/plain": [
       "<AxesSubplot:title={'center':'Per Domain Validation Accuracy'}, xlabel='domain'>"
      ]
     },
     "execution_count": 27,
     "metadata": {},
     "output_type": "execute_result"
    },
    {
     "data": {
      "image/png": "[encoded data removed]",
      "text/plain": [
       "<Figure size 1080x504 with 1 Axes>"
      ]
     },
     "metadata": {
      "needs_background": "light"
     },
     "output_type": "display_data"
    }
   ],
   "source": [
    "get_domain_accuracies(experiment)"
   ]
  },
  {
   "cell_type": "code",
   "execution_count": 28,
   "id": "a74ae082",
   "metadata": {
    "execution": {
     "iopub.execute_input": "2022-03-22T09:04:08.039947Z",
     "iopub.status.busy": "2022-03-22T09:04:08.039574Z",
     "iopub.status.idle": "2022-03-22T09:04:08.063356Z",
     "shell.execute_reply": "2022-03-22T09:04:08.062537Z"
    },
    "papermill": {
     "duration": 0.078205,
     "end_time": "2022-03-22T09:04:08.063513",
     "exception": false,
     "start_time": "2022-03-22T09:04:07.985308",
     "status": "completed"
    },
    "tags": []
   },
   "outputs": [
    {
     "name": "stdout",
     "output_type": "stream",
     "text": [
      "Source Test Label Accuracy: 0.6064453125 Target Test Label Accuracy: 0.9645174943566591\n",
      "Source Val Label Accuracy: 0.6105794270833333 Target Val Label Accuracy: 0.9648214285714286\n"
     ]
    }
   ],
   "source": [
    "print(\"Source Test Label Accuracy:\", experiment[\"results\"][\"source_test_label_accuracy\"], \"Target Test Label Accuracy:\", experiment[\"results\"][\"target_test_label_accuracy\"])\n",
    "print(\"Source Val Label Accuracy:\", experiment[\"results\"][\"source_val_label_accuracy\"], \"Target Val Label Accuracy:\", experiment[\"results\"][\"target_val_label_accuracy\"])"
   ]
  },
  {
   "cell_type": "code",
   "execution_count": 29,
   "id": "dacca602",
   "metadata": {
    "execution": {
     "iopub.execute_input": "2022-03-22T09:04:08.175905Z",
     "iopub.status.busy": "2022-03-22T09:04:08.175519Z",
     "iopub.status.idle": "2022-03-22T09:04:08.203724Z",
     "shell.execute_reply": "2022-03-22T09:04:08.204399Z"
    },
    "papermill": {
     "duration": 0.084469,
     "end_time": "2022-03-22T09:04:08.204583",
     "exception": false,
     "start_time": "2022-03-22T09:04:08.120114",
     "status": "completed"
    },
    "tags": [
     "experiment_json"
    ]
   },
   "outputs": [
    {
     "data": {
      "text/plain": [
       "'{\"experiment_name\": \"tl_1v2:cores-oracle.run1.limited\", \"parameters\": {\"experiment_name\": \"tl_1v2:cores-oracle.run1.limited\", \"device\": \"cuda\", \"lr\": 0.0001, \"n_shot\": 3, \"n_query\": 2, \"train_k_factor\": 3, \"val_k_factor\": 2, \"test_k_factor\": 2, \"torch_default_dtype\": \"torch.float32\", \"n_epoch\": 50, \"patience\": 3, \"criteria_for_best\": \"target_accuracy\", \"x_net\": [{\"class\": \"nnReshape\", \"kargs\": {\"shape\": [-1, 1, 2, 256]}}, {\"class\": \"Conv2d\", \"kargs\": {\"in_channels\": 1, \"out_channels\": 256, \"kernel_size\": [1, 7], \"bias\": false, \"padding\": [0, 3]}}, {\"class\": \"ReLU\", \"kargs\": {\"inplace\": true}}, {\"class\": \"BatchNorm2d\", \"kargs\": {\"num_features\": 256}}, {\"class\": \"Conv2d\", \"kargs\": {\"in_channels\": 256, \"out_channels\": 80, \"kernel_size\": [2, 7], \"bias\": true, \"padding\": [0, 3]}}, {\"class\": \"ReLU\", \"kargs\": {\"inplace\": true}}, {\"class\": \"BatchNorm2d\", \"kargs\": {\"num_features\": 80}}, {\"class\": \"Flatten\", \"kargs\": {}}, {\"class\": \"Linear\", \"kargs\": {\"in_features\": 20480, \"out_features\": 256}}, {\"class\": \"ReLU\", \"kargs\": {\"inplace\": true}}, {\"class\": \"BatchNorm1d\", \"kargs\": {\"num_features\": 256}}, {\"class\": \"Linear\", \"kargs\": {\"in_features\": 256, \"out_features\": 256}}], \"NUM_LOGS_PER_EPOCH\": 10, \"BEST_MODEL_PATH\": \"./best_model.pth\", \"n_way\": 16, \"datasets\": [{\"labels\": [\"1-10.\", \"1-11.\", \"1-15.\", \"1-16.\", \"1-17.\", \"1-18.\", \"1-19.\", \"10-4.\", \"10-7.\", \"11-1.\", \"11-14.\", \"11-17.\", \"11-20.\", \"11-7.\", \"13-20.\", \"13-8.\", \"14-10.\", \"14-11.\", \"14-14.\", \"14-7.\", \"15-1.\", \"15-20.\", \"16-1.\", \"16-16.\", \"17-10.\", \"17-11.\", \"17-2.\", \"19-1.\", \"19-16.\", \"19-19.\", \"19-20.\", \"19-3.\", \"2-10.\", \"2-11.\", \"2-17.\", \"2-18.\", \"2-20.\", \"2-3.\", \"2-4.\", \"2-5.\", \"2-6.\", \"2-7.\", \"2-8.\", \"3-13.\", \"3-18.\", \"3-3.\", \"4-1.\", \"4-10.\", \"4-11.\", \"4-19.\", \"5-5.\", \"6-15.\", \"7-10.\", \"7-14.\", \"8-18.\", \"8-20.\", \"8-3.\", \"8-8.\"], \"domains\": [1, 2, 3, 4, 5], \"num_examples_per_domain_per_label\": -1, \"pickle_path\": \"/root/csc500-main/datasets/cores.stratified_ds.2022A.pkl\", \"source_or_target_dataset\": \"target\", \"x_transforms\": [\"unit_power\"], \"episode_transforms\": [], \"domain_prefix\": \"CORES_\"}, {\"labels\": [\"3123D52\", \"3123D65\", \"3123D79\", \"3123D80\", \"3123D54\", \"3123D70\", \"3123D7B\", \"3123D89\", \"3123D58\", \"3123D76\", \"3123D7D\", \"3123EFE\", \"3123D64\", \"3123D78\", \"3123D7E\", \"3124E4A\"], \"domains\": [32, 38, 8, 44, 14, 50, 20, 26], \"num_examples_per_domain_per_label\": 2000, \"pickle_path\": \"/root/csc500-main/datasets/oracle.Run1_10kExamples_stratified_ds.2022A.pkl\", \"source_or_target_dataset\": \"source\", \"x_transforms\": [\"unit_power\"], \"episode_transforms\": [], \"domain_prefix\": \"ORACLE.run1_\"}], \"dataset_seed\": 420, \"seed\": 420, \"x_shape\": [2, 256], \"domains_source\": [\"ORACLE.run1_32\", \"ORACLE.run1_38\", \"ORACLE.run1_8\", \"ORACLE.run1_44\", \"ORACLE.run1_14\", \"ORACLE.run1_50\", \"ORACLE.run1_20\", \"ORACLE.run1_26\"], \"domains_target\": [\"CORES_1\", \"CORES_2\", \"CORES_3\", \"CORES_4\", \"CORES_5\"]}, \"results\": {\"source_test_label_accuracy\": 0.6064453125, \"source_test_label_loss\": 1.071051001548767, \"target_test_label_accuracy\": 0.9645174943566591, \"target_test_label_loss\": 0.24078090488910675, \"source_val_label_accuracy\": 0.6105794270833333, \"source_val_label_loss\": 1.0657342672348022, \"target_val_label_accuracy\": 0.9648214285714286, \"target_val_label_loss\": 0.20374099910259247, \"total_epochs_trained\": 8, \"total_experiment_time_secs\": 1672.1015808582306, \"confusion\": {\"ORACLE.run1_14\": {\"15\": {\"15\": 205, \"7\": 35}, \"5\": {\"4\": 43, \"5\": 138, \"2\": 12, \"1\": 36, \"7\": 3, \"15\": 3, \"3\": 5}, \"7\": {\"7\": 216, \"15\": 20, \"5\": 4}, \"4\": {\"3\": 40, \"14\": 3, \"4\": 128, \"5\": 41, \"1\": 7, \"2\": 21}, \"10\": {\"0\": 53, \"10\": 184, \"11\": 2, \"3\": 1}, \"11\": {\"11\": 192, \"9\": 14, \"10\": 21, \"0\": 13}, \"12\": {\"12\": 236, \"9\": 4}, \"0\": {\"0\": 165, \"10\": 60, \"3\": 7, \"11\": 6, \"14\": 1, \"9\": 1}, \"14\": {\"14\": 128, \"6\": 38, \"13\": 43, \"4\": 5, \"2\": 17, \"3\": 9}, \"8\": {\"8\": 240}, \"13\": {\"6\": 81, \"14\": 57, \"13\": 68, \"2\": 27, \"5\": 4, \"4\": 1, \"15\": 2}, \"6\": {\"13\": 63, \"6\": 122, \"14\": 30, \"2\": 25}, \"1\": {\"1\": 203, \"5\": 29, \"7\": 3, \"4\": 5}, \"3\": {\"3\": 169, \"4\": 46, \"14\": 10, \"2\": 7, \"0\": 3, \"5\": 4, \"1\": 1}, \"9\": {\"9\": 236, \"11\": 4}, \"2\": {\"4\": 38, \"2\": 92, \"13\": 23, \"6\": 21, \"3\": 10, \"14\": 21, \"5\": 27, \"15\": 6, \"1\": 2}}, \"ORACLE.run1_20\": {\"4\": {\"4\": 140, \"10\": 14, \"3\": 27, \"8\": 42, \"12\": 7, \"9\": 4, \"0\": 3, \"2\": 1, \"5\": 1, \"7\": 1}, \"10\": {\"8\": 29, \"10\": 137, \"14\": 58, \"4\": 12, \"7\": 3, \"6\": 1}, \"15\": {\"1\": 35, \"0\": 38, \"15\": 115, \"12\": 10, \"2\": 1, \"13\": 13, \"5\": 25, \"9\": 3}, \"0\": {\"1\": 49, \"0\": 58, \"15\": 41, \"5\": 49, \"3\": 10, \"12\": 19, \"9\": 8, \"2\": 4, \"8\": 1, \"4\": 1}, \"6\": {\"6\": 184, \"14\": 44, \"10\": 5, \"7\": 4, \"8\": 2, \"11\": 1}, \"3\": {\"8\": 13, \"12\": 26, \"3\": 90, \"2\": 16, \"4\": 19, \"9\": 41, \"7\": 7, \"5\": 12, \"0\": 8, \"1\": 6, \"15\": 2}, \"7\": {\"7\": 127, \"2\": 45, \"12\": 2, \"4\": 3, \"13\": 4, \"6\": 3, \"8\": 21, \"3\": 12, \"9\": 19, \"10\": 4}, \"2\": {\"9\": 50, \"7\": 48, \"2\": 81, \"12\": 11, \"13\": 20, \"4\": 3, \"3\": 17, \"0\": 2, \"5\": 2, \"1\": 2, \"15\": 2, \"8\": 2}, \"8\": {\"8\": 106, \"4\": 48, \"7\": 23, \"10\": 31, \"3\": 13, \"14\": 5, \"6\": 2, \"9\": 8, \"2\": 4}, \"11\": {\"11\": 237, \"7\": 2, \"6\": 1}, \"14\": {\"14\": 150, \"6\": 42, \"10\": 38, \"7\": 2, \"8\": 8}, \"12\": {\"5\": 36, \"12\": 53, \"1\": 24, \"4\": 6, \"3\": 50, \"0\": 22, \"2\": 15, \"9\": 23, \"15\": 5, \"13\": 5, \"8\": 1}, \"13\": {\"13\": 194, \"2\": 15, \"9\": 11, \"12\": 3, \"15\": 10, \"1\": 3, \"5\": 1, \"7\": 2, \"0\": 1}, \"9\": {\"1\": 5, \"12\": 27, \"7\": 21, \"3\": 35, \"9\": 60, \"4\": 5, \"2\": 54, \"13\": 15, \"0\": 1, \"8\": 5, \"5\": 8, \"15\": 4}, \"5\": {\"0\": 50, \"1\": 40, \"15\": 30, \"9\": 11, \"5\": 58, \"3\": 15, \"12\": 24, \"4\": 8, \"2\": 4}, \"1\": {\"0\": 57, \"15\": 45, \"12\": 20, \"5\": 48, \"1\": 53, \"3\": 10, \"13\": 3, \"9\": 3, \"4\": 1}}, \"ORACLE.run1_50\": {\"5\": {\"5\": 60, \"4\": 24, \"6\": 31, \"13\": 51, \"7\": 57, \"2\": 1, \"1\": 10, \"10\": 4, \"0\": 2}, \"12\": {\"12\": 194, \"9\": 26, \"14\": 18, \"11\": 2}, \"14\": {\"14\": 230, \"11\": 7, \"12\": 3}, \"4\": {\"4\": 85, \"15\": 42, \"6\": 30, \"1\": 46, \"5\": 24, \"13\": 8, \"7\": 5}, \"13\": {\"13\": 119, \"5\": 51, \"7\": 41, \"10\": 7, \"6\": 20, \"4\": 1, \"2\": 1}, \"10\": {\"10\": 201, \"7\": 13, \"0\": 13, \"8\": 9, \"13\": 3, \"5\": 1}, \"9\": {\"12\": 24, \"11\": 48, \"9\": 164, \"14\": 4}, \"15\": {\"15\": 166, \"6\": 4, \"1\": 42, \"4\": 23, \"11\": 5}, \"6\": {\"6\": 108, \"5\": 35, \"13\": 16, \"1\": 38, \"4\": 39, \"7\": 1, \"0\": 2, \"15\": 1}, \"2\": {\"2\": 217, \"0\": 23}, \"0\": {\"10\": 25, \"0\": 181, \"2\": 30, \"6\": 4}, \"11\": {\"11\": 205, \"14\": 3, \"9\": 26, \"15\": 5, \"12\": 1}, \"3\": {\"3\": 233, \"8\": 7}, \"8\": {\"8\": 232, \"10\": 4, \"3\": 4}, \"7\": {\"7\": 119, \"13\": 60, \"5\": 47, \"10\": 13, \"4\": 1}, \"1\": {\"4\": 27, \"1\": 108, \"15\": 63, \"6\": 38, \"5\": 1, \"2\": 1, \"11\": 2}}, \"ORACLE.run1_26\": {\"7\": {\"3\": 48, \"7\": 102, \"2\": 29, \"8\": 20, \"4\": 19, \"14\": 5, \"0\": 4, \"5\": 1, \"1\": 4, \"15\": 6, \"9\": 2}, \"6\": {\"6\": 130, \"0\": 11, \"9\": 37, \"10\": 22, \"4\": 2, \"8\": 11, \"13\": 7, \"15\": 13, \"1\": 1, \"5\": 6}, \"14\": {\"1\": 65, \"7\": 6, \"14\": 57, \"4\": 46, \"0\": 35, \"8\": 14, \"10\": 15, \"3\": 1, \"2\": 1}, \"15\": {\"5\": 57, \"9\": 52, \"15\": 61, \"6\": 14, \"2\": 17, \"8\": 10, \"13\": 10, \"4\": 4, \"7\": 5, \"14\": 2, \"10\": 5, \"0\": 2, \"3\": 1}, \"5\": {\"5\": 91, \"13\": 31, \"15\": 59, \"6\": 6, \"9\": 23, \"8\": 5, \"2\": 21, \"7\": 4}, \"10\": {\"9\": 8, \"10\": 79, \"8\": 32, \"0\": 37, \"1\": 11, \"14\": 27, \"4\": 24, \"6\": 19, \"15\": 3}, \"4\": {\"14\": 37, \"9\": 1, \"1\": 32, \"8\": 29, \"10\": 15, \"4\": 70, \"0\": 33, \"7\": 20, \"2\": 2, \"3\": 1}, \"11\": {\"11\": 228, \"12\": 12}, \"13\": {\"13\": 148, \"5\": 49, \"6\": 8, \"2\": 10, \"9\": 12, \"15\": 12, \"8\": 1}, \"2\": {\"15\": 15, \"7\": 33, \"2\": 74, \"5\": 27, \"3\": 69, \"9\": 7, \"6\": 2, \"14\": 2, \"8\": 7, \"4\": 3, \"10\": 1}, \"0\": {\"10\": 48, \"4\": 31, \"0\": 46, \"1\": 30, \"14\": 37, \"8\": 25, \"15\": 3, \"7\": 13, \"9\": 1, \"6\": 6}, \"12\": {\"12\": 235, \"11\": 5}, \"3\": {\"3\": 136, \"7\": 48, \"2\": 50, \"0\": 1, \"4\": 2, \"9\": 2, \"5\": 1}, \"9\": {\"15\": 61, \"2\": 10, \"8\": 25, \"9\": 59, \"6\": 33, \"10\": 5, \"4\": 5, \"5\": 27, \"13\": 7, \"7\": 3, \"14\": 3, \"0\": 2}, \"8\": {\"8\": 63, \"9\": 25, \"0\": 20, \"7\": 16, \"6\": 13, \"15\": 22, \"10\": 28, \"4\": 27, \"5\": 4, \"14\": 10, \"3\": 5, \"2\": 7}, \"1\": {\"1\": 97, \"14\": 63, \"4\": 32, \"8\": 8, \"0\": 23, \"3\": 4, \"10\": 9, \"7\": 4}}, \"ORACLE.run1_32\": {\"7\": {\"7\": 80, \"14\": 45, \"11\": 19, \"5\": 38, \"0\": 7, \"2\": 6, \"4\": 28, \"13\": 15, \"3\": 1, \"8\": 1}, \"2\": {\"2\": 174, \"4\": 45, \"0\": 12, \"5\": 3, \"7\": 5, \"13\": 1}, \"5\": {\"8\": 28, \"4\": 26, \"7\": 19, \"5\": 69, \"13\": 47, \"3\": 16, \"0\": 18, \"11\": 3, \"14\": 13, \"2\": 1}, \"6\": {\"6\": 240}, \"13\": {\"5\": 55, \"13\": 81, \"0\": 15, \"3\": 17, \"4\": 11, \"8\": 26, \"14\": 8, \"7\": 19, \"11\": 8}, \"4\": {\"4\": 87, \"2\": 38, \"7\": 19, \"14\": 8, \"5\": 18, \"0\": 54, \"8\": 6, \"13\": 9, \"11\": 1}, \"3\": {\"3\": 200, \"14\": 3, \"8\": 7, \"13\": 15, \"11\": 12, \"5\": 3}, \"0\": {\"4\": 52, \"8\": 26, \"0\": 121, \"2\": 13, \"14\": 5, \"5\": 11, \"7\": 6, \"13\": 6}, \"9\": {\"9\": 239, \"12\": 1}, \"12\": {\"12\": 240}, \"8\": {\"8\": 173, \"0\": 23, \"13\": 19, \"5\": 21, \"3\": 1, \"4\": 1, \"7\": 1, \"14\": 1}, \"14\": {\"7\": 57, \"11\": 68, \"5\": 18, \"14\": 64, \"3\": 4, \"13\": 10, \"4\": 9, \"2\": 6, \"0\": 4}, \"15\": {\"15\": 233, \"8\": 3, \"5\": 1, \"3\": 3}, \"11\": {\"14\": 54, \"11\": 158, \"7\": 10, \"5\": 6, \"13\": 7, \"3\": 5}, \"10\": {\"10\": 238, \"1\": 2}, \"1\": {\"1\": 238, \"10\": 2}}, \"ORACLE.run1_44\": {\"11\": {\"11\": 195, \"6\": 16, \"13\": 29}, \"7\": {\"7\": 140, \"2\": 44, \"9\": 49, \"3\": 2, \"6\": 4, \"13\": 1}, \"6\": {\"6\": 155, \"13\": 45, \"9\": 24, \"11\": 10, \"7\": 6}, \"12\": {\"12\": 181, \"1\": 36, \"10\": 19, \"3\": 4}, \"4\": {\"14\": 76, \"4\": 159, \"13\": 2, \"15\": 3}, \"13\": {\"13\": 162, \"11\": 12, \"9\": 28, \"6\": 33, \"4\": 3, \"7\": 2}, \"8\": {\"8\": 153, \"0\": 78, \"15\": 7, \"5\": 2}, \"5\": {\"5\": 189, \"15\": 16, \"0\": 23, \"14\": 8, \"4\": 2, \"8\": 2}, \"14\": {\"4\": 81, \"14\": 134, \"5\": 11, \"15\": 14}, \"3\": {\"3\": 202, \"1\": 36, \"7\": 1, \"12\": 1}, \"10\": {\"1\": 32, \"10\": 158, \"12\": 28, \"2\": 22}, \"1\": {\"1\": 138, \"12\": 46, \"10\": 19, \"2\": 11, \"3\": 26}, \"2\": {\"2\": 170, \"1\": 12, \"10\": 16, \"7\": 35, \"6\": 1, \"9\": 2, \"3\": 4}, \"15\": {\"0\": 16, \"15\": 173, \"4\": 4, \"8\": 5, \"14\": 27, \"5\": 15}, \"9\": {\"7\": 66, \"13\": 24, \"2\": 4, \"9\": 131, \"6\": 14, \"3\": 1}, \"0\": {\"8\": 66, \"0\": 147, \"15\": 12, \"5\": 15}}, \"ORACLE.run1_8\": {\"10\": {\"10\": 121, \"14\": 61, \"4\": 11, \"5\": 11, \"13\": 25, \"0\": 3, \"11\": 2, \"6\": 3, \"1\": 3}, \"6\": {\"6\": 108, \"7\": 52, \"0\": 21, \"4\": 37, \"13\": 9, \"11\": 1, \"8\": 8, \"14\": 3, \"10\": 1}, \"13\": {\"0\": 65, \"10\": 21, \"4\": 38, \"13\": 76, \"11\": 1, \"7\": 4, \"6\": 17, \"14\": 16, \"1\": 2}, \"3\": {\"12\": 37, \"2\": 36, \"3\": 162, \"15\": 5}, \"9\": {\"9\": 240}, \"1\": {\"11\": 80, \"1\": 111, \"5\": 14, \"10\": 7, \"14\": 24, \"4\": 2, \"6\": 1, \"13\": 1}, \"5\": {\"10\": 20, \"5\": 200, \"1\": 14, \"11\": 3, \"14\": 3}, \"11\": {\"11\": 114, \"1\": 96, \"5\": 13, \"8\": 1, \"14\": 6, \"10\": 7, \"0\": 1, \"13\": 1, \"6\": 1}, \"4\": {\"6\": 37, \"7\": 6, \"10\": 14, \"0\": 25, \"13\": 31, \"4\": 82, \"1\": 4, \"14\": 41}, \"14\": {\"10\": 60, \"4\": 40, \"14\": 76, \"11\": 4, \"1\": 19, \"13\": 30, \"6\": 6, \"0\": 4, \"5\": 1}, \"12\": {\"12\": 110, \"15\": 60, \"2\": 5, \"3\": 57, \"8\": 8}, \"7\": {\"6\": 75, \"7\": 128, \"0\": 25, \"2\": 3, \"8\": 6, \"13\": 1, \"4\": 1, \"15\": 1}, \"0\": {\"0\": 116, \"13\": 47, \"7\": 26, \"14\": 2, \"6\": 24, \"4\": 21, \"10\": 4}, \"15\": {\"15\": 160, \"2\": 5, \"12\": 46, \"8\": 19, \"3\": 8, \"7\": 1, \"6\": 1}, \"2\": {\"2\": 155, \"12\": 9, \"3\": 53, \"8\": 1, \"6\": 1, \"15\": 16, \"7\": 5}, \"8\": {\"8\": 206, \"6\": 9, \"15\": 23, \"7\": 2}}, \"ORACLE.run1_38\": {\"4\": {\"12\": 25, \"4\": 214, \"0\": 1}, \"7\": {\"7\": 163, \"0\": 61, \"8\": 10, \"5\": 5, \"6\": 1}, \"12\": {\"12\": 194, \"10\": 32, \"4\": 13, \"14\": 1}, \"10\": {\"11\": 1, \"10\": 147, \"12\": 41, \"8\": 18, \"13\": 16, \"15\": 4, \"0\": 7, \"14\": 3, \"7\": 1, \"5\": 2}, \"0\": {\"7\": 84, \"8\": 49, \"5\": 38, \"0\": 51, \"6\": 4, \"12\": 1, \"3\": 9, \"10\": 2, \"15\": 2}, \"1\": {\"1\": 221, \"15\": 15, \"13\": 2, \"5\": 1, \"8\": 1}, \"5\": {\"6\": 15, \"5\": 91, \"7\": 13, \"8\": 67, \"0\": 29, \"10\": 1, \"13\": 3, \"3\": 4, \"9\": 4, \"15\": 11, \"1\": 2}, \"15\": {\"15\": 132, \"13\": 75, \"8\": 7, \"1\": 18, \"5\": 3, \"10\": 4, \"0\": 1}, \"9\": {\"6\": 83, \"5\": 4, \"9\": 135, \"3\": 17, \"0\": 1}, \"11\": {\"11\": 152, \"14\": 75, \"2\": 4, \"10\": 4, \"12\": 5}, \"14\": {\"11\": 41, \"14\": 179, \"2\": 14, \"10\": 6}, \"6\": {\"6\": 153, \"9\": 79, \"5\": 5, \"3\": 1, \"8\": 1, \"0\": 1}, \"8\": {\"8\": 122, \"5\": 59, \"0\": 43, \"10\": 4, \"13\": 2, \"15\": 4, \"7\": 4, \"1\": 1, \"6\": 1}, \"3\": {\"3\": 204, \"9\": 17, \"5\": 6, \"0\": 4, \"7\": 8, \"6\": 1}, \"2\": {\"2\": 209, \"14\": 23, \"13\": 8}, \"13\": {\"15\": 68, \"13\": 140, \"10\": 11, \"2\": 12, \"14\": 2, \"8\": 4, \"1\": 3}}, \"CORES_4\": {\"42\": {\"42\": 32}, \"0\": {\"0\": 60, \"22\": 6, \"32\": 4, \"38\": 2, \"52\": 1, \"56\": 1, \"43\": 1, \"3\": 1, \"23\": 1, \"47\": 1, \"18\": 1, \"46\": 1}, \"1\": {\"1\": 40}, \"39\": {\"39\": 20}, \"28\": {\"28\": 32}, \"53\": {\"53\": 122, \"6\": 2}, \"19\": {\"19\": 143, \"44\": 1}, \"34\": {\"34\": 24}, \"33\": {\"33\": 34, \"28\": 2}, \"32\": {\"32\": 24}, \"10\": {\"10\": 136}, \"46\": {\"46\": 124, \"32\": 3, \"22\": 1, \"49\": 1, \"0\": 1, \"23\": 2, \"41\": 2}, \"20\": {\"20\": 120, \"3\": 1, \"50\": 1}, \"5\": {\"5\": 102, \"54\": 5, \"47\": 1}, \"40\": {\"40\": 124}, \"51\": {\"51\": 144}, \"37\": {\"37\": 24}, \"17\": {\"17\": 78, \"27\": 2}, \"45\": {\"45\": 96}, \"13\": {\"13\": 142}, \"27\": {\"27\": 143, \"17\": 1}, \"24\": {\"24\": 56}, \"30\": {\"30\": 44}, \"31\": {\"31\": 28}, \"41\": {\"41\": 33, \"46\": 1, \"10\": 1, \"13\": 1}, \"36\": {\"36\": 92}, \"16\": {\"16\": 94, \"15\": 2}, \"22\": {\"22\": 119, \"0\": 6, \"32\": 2, \"43\": 1}, \"44\": {\"44\": 131, \"19\": 1}, \"9\": {\"9\": 140}, \"57\": {\"57\": 99, \"55\": 1}, \"8\": {\"8\": 138}, \"23\": {\"23\": 131, \"18\": 1}, \"47\": {\"47\": 119, \"5\": 1}, \"43\": {\"43\": 138}, \"49\": {\"49\": 20}, \"3\": {\"3\": 94, \"36\": 1, \"20\": 15, \"25\": 9, \"50\": 4, \"52\": 1}, \"12\": {\"12\": 91, \"50\": 1}, \"38\": {\"38\": 40}, \"7\": {\"7\": 22, \"32\": 1, \"46\": 1}, \"14\": {\"38\": 1, \"14\": 9, \"57\": 1, \"35\": 3, \"29\": 1, \"56\": 1}, \"15\": {\"15\": 146}, \"25\": {\"25\": 125, \"3\": 2, \"36\": 1}, \"26\": {\"26\": 24}, \"21\": {\"21\": 132}, \"48\": {\"48\": 144}, \"56\": {\"56\": 133, \"57\": 1}, \"11\": {\"11\": 102, \"15\": 2}, \"2\": {\"2\": 36}, \"6\": {\"6\": 100, \"53\": 12}, \"55\": {\"55\": 138, \"57\": 2}, \"54\": {\"54\": 108}, \"29\": {\"29\": 115, \"35\": 9}, \"50\": {\"50\": 109, \"25\": 2, \"21\": 3, \"20\": 4, \"53\": 4}, \"52\": {\"52\": 116}, \"35\": {\"35\": 29, \"29\": 11}, \"4\": {\"4\": 120}, \"18\": {\"18\": 108}}, \"CORES_5\": {\"43\": {\"43\": 137, \"11\": 6, \"15\": 9}, \"35\": {\"35\": 36}, \"54\": {\"54\": 112}, \"22\": {\"22\": 28}, \"16\": {\"16\": 146}, \"5\": {\"5\": 127, \"19\": 1}, \"28\": {\"28\": 32}, \"14\": {\"31\": 1, \"28\": 1, \"3\": 5, \"36\": 10, \"14\": 14, \"33\": 1, \"40\": 3, \"35\": 1, \"46\": 4, \"57\": 2, \"2\": 1, \"47\": 1}, \"51\": {\"51\": 128}, \"19\": {\"19\": 140}, \"31\": {\"31\": 36}, \"10\": {\"10\": 67, \"13\": 1}, \"21\": {\"21\": 135, \"50\": 1}, \"3\": {\"3\": 81, \"31\": 2, \"38\": 1, \"47\": 12, \"46\": 2, \"42\": 1, \"48\": 1}, \"57\": {\"57\": 127, \"49\": 1, \"45\": 1, \"14\": 2, \"48\": 1}, \"9\": {\"9\": 131, \"48\": 6, \"55\": 8, \"27\": 1}, \"8\": {\"8\": 132}, \"46\": {\"46\": 140}, \"23\": {\"23\": 123, \"18\": 1}, \"37\": {\"37\": 24}, \"34\": {\"34\": 33, \"40\": 3}, \"4\": {\"4\": 100}, \"6\": {\"6\": 120, \"1\": 5, \"26\": 1, \"30\": 2}, \"48\": {\"48\": 132, \"17\": 1, \"9\": 3}, \"44\": {\"44\": 137, \"5\": 1}, \"40\": {\"40\": 118, \"34\": 4, \"28\": 1, \"33\": 1}, \"12\": {\"12\": 96}, \"30\": {\"30\": 126, \"17\": 2}, \"39\": {\"39\": 20}, \"45\": {\"27\": 7, \"45\": 111, \"4\": 1, \"9\": 1, \"55\": 2, \"32\": 2}, \"36\": {\"36\": 92}, \"27\": {\"32\": 4, \"27\": 136}, \"32\": {\"27\": 4, \"32\": 28}, \"52\": {\"52\": 130}, \"0\": {\"0\": 121, \"56\": 3}, \"26\": {\"26\": 24}, \"1\": {\"1\": 148}, \"53\": {\"53\": 142, \"20\": 4}, \"25\": {\"25\": 144}, \"24\": {\"24\": 80}, \"7\": {\"7\": 32}, \"18\": {\"18\": 63, \"23\": 1}, \"20\": {\"20\": 143, \"53\": 1}, \"33\": {\"33\": 32}, \"55\": {\"55\": 135, \"9\": 5}, \"41\": {\"41\": 25, \"9\": 1, \"54\": 2}, \"42\": {\"42\": 37, \"14\": 1, \"3\": 2}, \"49\": {\"49\": 36}, \"13\": {\"13\": 147, \"10\": 1}, \"38\": {\"38\": 32}, \"2\": {\"2\": 28}, \"47\": {\"47\": 95, \"3\": 5}, \"17\": {\"17\": 113, \"30\": 3}, \"11\": {\"11\": 146, \"43\": 6, \"15\": 2}, \"29\": {\"29\": 132}, \"50\": {\"50\": 113, \"53\": 6, \"52\": 1, \"20\": 4, \"21\": 14}, \"56\": {\"56\": 148}, \"15\": {\"15\": 137, \"43\": 5}}, \"CORES_2\": {\"49\": {\"49\": 24}, \"13\": {\"13\": 116}, \"37\": {\"37\": 36}, \"41\": {\"41\": 20}, \"15\": {\"15\": 142}, \"56\": {\"56\": 142}, \"14\": {\"56\": 7, \"1\": 2, \"22\": 1, \"14\": 10, \"55\": 1, \"31\": 2, \"42\": 1}, \"3\": {\"3\": 88, \"20\": 1, \"21\": 2, \"8\": 1}, \"38\": {\"38\": 20}, \"43\": {\"43\": 138}, \"33\": {\"33\": 26, \"57\": 1, \"32\": 1}, \"47\": {\"47\": 138}, \"30\": {\"30\": 143, \"36\": 1}, \"39\": {\"39\": 20, \"23\": 8}, \"12\": {\"12\": 92}, \"6\": {\"6\": 103, \"30\": 1, \"25\": 7, \"50\": 11, \"8\": 1, \"18\": 1}, \"51\": {\"51\": 134}, \"5\": {\"42\": 4, \"5\": 114, \"57\": 1, \"47\": 1}, \"34\": {\"34\": 28}, \"35\": {\"35\": 32}, \"0\": {\"0\": 47, \"5\": 1}, \"7\": {\"7\": 36}, \"24\": {\"24\": 96}, \"8\": {\"8\": 136}, \"20\": {\"20\": 116, \"53\": 8}, \"36\": {\"36\": 116}, \"42\": {\"42\": 36}, \"1\": {\"1\": 111, \"57\": 1}, \"4\": {\"4\": 127, \"9\": 21}, \"28\": {\"28\": 28}, \"50\": {\"50\": 122, \"6\": 10, \"8\": 4}, \"45\": {\"45\": 125, \"4\": 2, \"9\": 1}, \"18\": {\"18\": 48}, \"57\": {\"57\": 117, \"1\": 1, \"55\": 2}, \"46\": {\"46\": 119, \"52\": 6, \"16\": 1, \"6\": 1, \"15\": 1}, \"23\": {\"23\": 145, \"39\": 3}, \"27\": {\"27\": 138}, \"19\": {\"19\": 134}, \"22\": {\"22\": 135, \"14\": 1}, \"17\": {\"17\": 104}, \"55\": {\"55\": 134, \"57\": 2}, \"44\": {\"44\": 100}, \"26\": {\"26\": 24}, \"31\": {\"31\": 28}, \"16\": {\"16\": 130}, \"11\": {\"11\": 128}, \"25\": {\"25\": 126}, \"54\": {\"54\": 108}, \"32\": {\"32\": 28}, \"52\": {\"52\": 121, \"46\": 2, \"25\": 1}, \"40\": {\"40\": 130, \"19\": 2}, \"2\": {\"2\": 32}, \"10\": {\"10\": 110}, \"53\": {\"53\": 126, \"20\": 10}, \"9\": {\"9\": 142, \"4\": 8}, \"21\": {\"21\": 119, \"53\": 1}, \"48\": {\"48\": 138}, \"29\": {\"29\": 128}}, \"CORES_1\": {\"9\": {\"9\": 125, \"8\": 17}, \"25\": {\"25\": 124, \"37\": 4}, \"41\": {\"41\": 24}, \"29\": {\"29\": 140}, \"46\": {\"46\": 128}, \"4\": {\"4\": 132}, \"31\": {\"31\": 28}, \"36\": {\"36\": 64}, \"20\": {\"20\": 128}, \"7\": {\"7\": 28}, \"6\": {\"6\": 78, \"5\": 17, \"48\": 1}, \"16\": {\"16\": 138}, \"17\": {\"17\": 64}, \"50\": {\"50\": 148}, \"57\": {\"57\": 109, \"56\": 32, \"1\": 2, \"19\": 1}, \"23\": {\"23\": 128, \"49\": 3, \"15\": 3, \"0\": 2}, \"3\": {\"3\": 125, \"13\": 1}, \"53\": {\"53\": 140}, \"49\": {\"49\": 28, \"23\": 3, \"0\": 1}, \"56\": {\"56\": 113, \"57\": 29, \"19\": 7, \"1\": 3}, \"51\": {\"51\": 131, \"12\": 8, \"13\": 2, \"41\": 1}, \"26\": {\"26\": 24}, \"43\": {\"43\": 144}, \"22\": {\"22\": 116, \"10\": 2, \"24\": 7, \"21\": 9, \"52\": 1, \"15\": 1}, \"45\": {\"45\": 140, \"42\": 6}, \"13\": {\"13\": 143, \"12\": 4, \"51\": 5}, \"12\": {\"12\": 92, \"13\": 8, \"51\": 14, \"53\": 1, \"48\": 1}, \"54\": {\"54\": 104}, \"24\": {\"24\": 99, \"10\": 5, \"16\": 1, \"22\": 2, \"11\": 1}, \"44\": {\"44\": 123, \"1\": 1, \"57\": 3, \"29\": 6, \"35\": 1, \"56\": 1, \"19\": 1}, \"28\": {\"28\": 28}, \"33\": {\"33\": 32}, \"38\": {\"38\": 24}, \"0\": {\"0\": 132, \"38\": 1, \"23\": 8, \"49\": 3}, \"47\": {\"47\": 154}, \"42\": {\"42\": 40}, \"34\": {\"34\": 24}, \"48\": {\"48\": 141, \"2\": 1}, \"35\": {\"35\": 36}, \"2\": {\"2\": 36}, \"30\": {\"30\": 120}, \"18\": {\"18\": 72}, \"37\": {\"37\": 26, \"25\": 6}, \"1\": {\"1\": 93, \"19\": 5, \"34\": 2}, \"11\": {\"11\": 137, \"52\": 1}, \"55\": {\"55\": 130}, \"15\": {\"15\": 150}, \"10\": {\"10\": 95, \"24\": 1}, \"27\": {\"27\": 160}, \"19\": {\"19\": 131, \"1\": 11, \"57\": 4}, \"14\": {\"30\": 6, \"14\": 10, \"26\": 1, \"13\": 1, \"20\": 1, \"9\": 2, \"25\": 1, \"53\": 1, \"7\": 1}, \"8\": {\"8\": 120, \"9\": 20}, \"5\": {\"5\": 123, \"6\": 11, \"50\": 2}, \"39\": {\"39\": 27, \"31\": 1}, \"52\": {\"52\": 119, \"10\": 1, \"11\": 1, \"22\": 1}, \"21\": {\"21\": 118, \"22\": 3, \"15\": 3}, \"40\": {\"40\": 152}, \"32\": {\"32\": 32}}, \"CORES_3\": {\"56\": {\"56\": 120}, \"4\": {\"4\": 146}, \"34\": {\"34\": 32}, \"52\": {\"52\": 132, \"46\": 3, \"25\": 1}, \"32\": {\"32\": 28}, \"46\": {\"46\": 122, \"25\": 2, \"52\": 8, \"8\": 1, \"20\": 1, \"3\": 2}, \"12\": {\"12\": 87, \"8\": 4, \"38\": 1}, \"20\": {\"20\": 118, \"50\": 14}, \"54\": {\"54\": 100}, \"22\": {\"22\": 138, \"14\": 2}, \"26\": {\"26\": 24}, \"31\": {\"31\": 28}, \"10\": {\"10\": 64}, \"27\": {\"27\": 144}, \"40\": {\"40\": 118, \"19\": 18}, \"28\": {\"28\": 27, \"35\": 1}, \"5\": {\"5\": 113, \"42\": 1, \"48\": 1, \"47\": 1}, \"30\": {\"30\": 119, \"41\": 1}, \"7\": {\"7\": 35, \"15\": 1}, \"18\": {\"18\": 84}, \"39\": {\"39\": 16}, \"50\": {\"50\": 126, \"3\": 1, \"20\": 9}, \"49\": {\"49\": 20}, \"43\": {\"43\": 122}, \"29\": {\"29\": 114}, \"35\": {\"35\": 28}, \"13\": {\"13\": 122, \"11\": 2}, \"36\": {\"36\": 100}, \"11\": {\"11\": 146}, \"57\": {\"57\": 114, \"1\": 10}, \"9\": {\"9\": 130}, \"25\": {\"25\": 128, \"52\": 1, \"50\": 1}, \"16\": {\"16\": 126}, \"53\": {\"53\": 118}, \"33\": {\"33\": 28}, \"51\": {\"51\": 128}, \"44\": {\"44\": 88}, \"48\": {\"48\": 114}, \"6\": {\"6\": 75, \"18\": 1, \"30\": 6, \"50\": 2, \"36\": 1, \"20\": 1, \"8\": 1, \"25\": 1}, \"23\": {\"23\": 144}, \"1\": {\"1\": 89, \"34\": 1, \"57\": 10}, \"17\": {\"33\": 2, \"17\": 104, \"54\": 2}, \"21\": {\"21\": 121, \"51\": 1}, \"14\": {\"28\": 3, \"22\": 5, \"14\": 20, \"34\": 2, \"35\": 2, \"1\": 3, \"47\": 1, \"56\": 1, \"57\": 3}, \"55\": {\"55\": 144}, \"41\": {\"41\": 26, \"18\": 2}, \"3\": {\"3\": 135, \"50\": 1, \"52\": 1, \"20\": 1}, \"38\": {\"38\": 28}, \"2\": {\"2\": 32}, \"8\": {\"8\": 142}, \"37\": {\"37\": 28}, \"45\": {\"40\": 1, \"45\": 58, \"4\": 1}, \"42\": {\"42\": 26, \"5\": 2}, \"24\": {\"24\": 104}, \"15\": {\"15\": 136}, \"0\": {\"0\": 121, \"55\": 1, \"47\": 2}, \"47\": {\"47\": 92}, \"19\": {\"19\": 104, \"40\": 16}}}, \"per_domain_accuracy\": {\"ORACLE.run1_14\": {\"accuracy\": 0.7088541666666667, \"source?\": true}, \"ORACLE.run1_20\": {\"accuracy\": 0.47994791666666664, \"source?\": true}, \"ORACLE.run1_50\": {\"accuracy\": 0.6828125, \"source?\": true}, \"ORACLE.run1_26\": {\"accuracy\": 0.43645833333333334, \"source?\": true}, \"ORACLE.run1_32\": {\"accuracy\": 0.6861979166666666, \"source?\": true}, \"ORACLE.run1_44\": {\"accuracy\": 0.6736979166666667, \"source?\": true}, \"ORACLE.run1_8\": {\"accuracy\": 0.5638020833333334, \"source?\": true}, \"ORACLE.run1_38\": {\"accuracy\": 0.6528645833333333, \"source?\": true}, \"CORES_4\": {\"accuracy\": 0.9706212574850299, \"source?\": false}, \"CORES_5\": {\"accuracy\": 0.9650837988826816, \"source?\": false}, \"CORES_2\": {\"accuracy\": 0.9739285714285715, \"source?\": false}, \"CORES_1\": {\"accuracy\": 0.9459918478260869, \"source?\": false}, \"CORES_3\": {\"accuracy\": 0.9698529411764706, \"source?\": false}}}, \"history\": {\"epoch_indices\": [1, 2, 3, 4, 5, 6, 7, 8], \"train_label_loss\": [1.7115117441862822, 1.0268065086166773, 0.8560664211976386, 0.7396416178394464, 0.6451689712958233, 0.5607006583346187, 0.4914280262016248, 0.42424405463597004], \"source_val_label_loss\": [1.225273847579956, 1.0645865201950073, 1.0463906526565552, 1.0657342672348022, 1.1004302501678467, 1.150222897529602, 1.2376275062561035, 1.3225438594818115], \"target_val_label_loss\": [0.1662079393863678, 0.1675860434770584, 0.18825781345367432, 0.20374099910259247, 0.22557488083839417, 0.24457310140132904, 0.2774134576320648, 0.2893937826156616], \"source_val_acc_label\": [0.5333658854166666, 0.5932291666666667, 0.6043619791666667, 0.6105794270833333, 0.609375, 0.61572265625, 0.6131184895833334, 0.60654296875], \"target_val_acc_label\": [0.9570714285714286, 0.9624285714285714, 0.96175, 0.9648214285714286, 0.9635714285714285, 0.9613571428571429, 0.9611785714285714, 0.9642142857142857]}, \"dataset_metrics\": {\"source\": {\"train\": {\"n_unique_x\": 179200, \"n_unique_y\": 16, \"n_batch/episode\": 6720}, \"val\": {\"n_unique_x\": 38400, \"n_unique_y\": 16, \"n_batch/episode\": 960}, \"test\": {\"n_unique_x\": 38400, \"n_unique_y\": 16, \"n_batch/episode\": 960}}, \"target\": {\"train\": {\"n_unique_x\": 175158, \"n_unique_y\": 58, \"n_batch/episode\": 6317}, \"val\": {\"n_unique_x\": 37216, \"n_unique_y\": 58, \"n_batch/episode\": 875}, \"test\": {\"n_unique_x\": 37596, \"n_unique_y\": 58, \"n_batch/episode\": 886}}}}'"
      ]
     },
     "execution_count": 29,
     "metadata": {},
     "output_type": "execute_result"
    }
   ],
   "source": [
    "json.dumps(experiment)"
   ]
  }
 ],
 "metadata": {
  "celltoolbar": "Tags",
  "kernelspec": {
   "display_name": "Python 3 (ipykernel)",
   "language": "python",
   "name": "python3"
  },
  "language_info": {
   "codemirror_mode": {
    "name": "ipython",
    "version": 3
   },
   "file_extension": ".py",
   "mimetype": "text/x-python",
   "name": "python",
   "nbconvert_exporter": "python",
   "pygments_lexer": "ipython3",
   "version": "3.8.12"
  },
  "papermill": {
   "default_parameters": {},
   "duration": 1870.785826,
   "end_time": "2022-03-22T09:04:11.075078",
   "environment_variables": {},
   "exception": null,
   "input_path": "/root/csc500-main/csc500-notebooks/templates/tl_ptn_template.ipynb",
   "output_path": "trial.ipynb",
   "parameters": {
    "parameters": {
     "BEST_MODEL_PATH": "./best_model.pth",
     "NUM_LOGS_PER_EPOCH": 10,
     "criteria_for_best": "target_accuracy",
     "dataset_seed": 420,
     "datasets": [
      {
       "domain_prefix": "CORES_",
       "domains": [
        1,
        2,
        3,
        4,
        5
       ],
       "episode_transforms": [],
       "labels": [
        "1-10.",
        "1-11.",
        "1-15.",
        "1-16.",
        "1-17.",
        "1-18.",
        "1-19.",
        "10-4.",
        "10-7.",
        "11-1.",
        "11-14.",
        "11-17.",
        "11-20.",
        "11-7.",
        "13-20.",
        "13-8.",
        "14-10.",
        "14-11.",
        "14-14.",
        "14-7.",
        "15-1.",
        "15-20.",
        "16-1.",
        "16-16.",
        "17-10.",
        "17-11.",
        "17-2.",
        "19-1.",
        "19-16.",
        "19-19.",
        "19-20.",
        "19-3.",
        "2-10.",
        "2-11.",
        "2-17.",
        "2-18.",
        "2-20.",
        "2-3.",
        "2-4.",
        "2-5.",
        "2-6.",
        "2-7.",
        "2-8.",
        "3-13.",
        "3-18.",
        "3-3.",
        "4-1.",
        "4-10.",
        "4-11.",
        "4-19.",
        "5-5.",
        "6-15.",
        "7-10.",
        "7-14.",
        "8-18.",
        "8-20.",
        "8-3.",
        "8-8."
       ],
       "num_examples_per_domain_per_label": -1,
       "pickle_path": "/root/csc500-main/datasets/cores.stratified_ds.2022A.pkl",
       "source_or_target_dataset": "target",
       "x_transforms": [
        "unit_power"
       ]
      },
      {
       "domain_prefix": "ORACLE.run1_",
       "domains": [
        32,
        38,
        8,
        44,
        14,
        50,
        20,
        26
       ],
       "episode_transforms": [],
       "labels": [
        "3123D52",
        "3123D65",
        "3123D79",
        "3123D80",
        "3123D54",
        "3123D70",
        "3123D7B",
        "3123D89",
        "3123D58",
        "3123D76",
        "3123D7D",
        "3123EFE",
        "3123D64",
        "3123D78",
        "3123D7E",
        "3124E4A"
       ],
       "num_examples_per_domain_per_label": 2000,
       "pickle_path": "/root/csc500-main/datasets/oracle.Run1_10kExamples_stratified_ds.2022A.pkl",
       "source_or_target_dataset": "source",
       "x_transforms": [
        "unit_power"
       ]
      }
     ],
     "device": "cuda",
     "experiment_name": "tl_1v2:cores-oracle.run1.limited",
     "lr": 0.0001,
     "n_epoch": 50,
     "n_query": 2,
     "n_shot": 3,
     "n_way": 16,
     "patience": 3,
     "seed": 420,
     "test_k_factor": 2,
     "torch_default_dtype": "torch.float32",
     "train_k_factor": 3,
     "val_k_factor": 2,
     "x_net": [
      {
       "class": "nnReshape",
       "kargs": {
        "shape": [
         -1,
         1,
         2,
         256
        ]
       }
      },
      {
       "class": "Conv2d",
       "kargs": {
        "bias": false,
        "in_channels": 1,
        "kernel_size": [
         1,
         7
        ],
        "out_channels": 256,
        "padding": [
         0,
         3
        ]
       }
      },
      {
       "class": "ReLU",
       "kargs": {
        "inplace": true
       }
      },
      {
       "class": "BatchNorm2d",
       "kargs": {
        "num_features": 256
       }
      },
      {
       "class": "Conv2d",
       "kargs": {
        "bias": true,
        "in_channels": 256,
        "kernel_size": [
         2,
         7
        ],
        "out_channels": 80,
        "padding": [
         0,
         3
        ]
       }
      },
      {
       "class": "ReLU",
       "kargs": {
        "inplace": true
       }
      },
      {
       "class": "BatchNorm2d",
       "kargs": {
        "num_features": 80
       }
      },
      {
       "class": "Flatten",
       "kargs": {}
      },
      {
       "class": "Linear",
       "kargs": {
        "in_features": 20480,
        "out_features": 256
       }
      },
      {
       "class": "ReLU",
       "kargs": {
        "inplace": true
       }
      },
      {
       "class": "BatchNorm1d",
       "kargs": {
        "num_features": 256
       }
      },
      {
       "class": "Linear",
       "kargs": {
        "in_features": 256,
        "out_features": 256
       }
      }
     ]
    }
   },
   "start_time": "2022-03-22T08:33:00.289252",
   "version": "2.3.4"
  }
 },
 "nbformat": 4,
 "nbformat_minor": 5
}