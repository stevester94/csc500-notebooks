{
 "cells": [
  {
   "cell_type": "markdown",
   "id": "9fea5f46",
   "metadata": {
    "papermill": {
     "duration": 0.028993,
     "end_time": "2022-03-22T11:19:03.119396",
     "exception": false,
     "start_time": "2022-03-22T11:19:03.090403",
     "status": "completed"
    },
    "tags": []
   },
   "source": [
    "# Transfer Learning Template"
   ]
  },
  {
   "cell_type": "code",
   "execution_count": 1,
   "id": "0902182a",
   "metadata": {
    "execution": {
     "iopub.execute_input": "2022-03-22T11:19:03.182401Z",
     "iopub.status.busy": "2022-03-22T11:19:03.181538Z",
     "iopub.status.idle": "2022-03-22T11:19:05.014581Z",
     "shell.execute_reply": "2022-03-22T11:19:05.014152Z"
    },
    "papermill": {
     "duration": 1.871604,
     "end_time": "2022-03-22T11:19:05.014690",
     "exception": false,
     "start_time": "2022-03-22T11:19:03.143086",
     "status": "completed"
    },
    "tags": []
   },
   "outputs": [],
   "source": [
    "%load_ext autoreload\n",
    "%autoreload 2\n",
    "%matplotlib inline\n",
    "\n",
    "    \n",
    "import os, json, sys, time, random\n",
    "import numpy as np\n",
    "import torch\n",
    "from torch.optim import Adam\n",
    "from  easydict import EasyDict\n",
    "import matplotlib.pyplot as plt\n",
    "\n",
    "from steves_models.steves_ptn import Steves_Prototypical_Network\n",
    "\n",
    "from steves_utils.lazy_iterable_wrapper import Lazy_Iterable_Wrapper\n",
    "from steves_utils.iterable_aggregator import Iterable_Aggregator\n",
    "from steves_utils.ptn_train_eval_test_jig import  PTN_Train_Eval_Test_Jig\n",
    "from steves_utils.torch_sequential_builder import build_sequential\n",
    "from steves_utils.torch_utils import get_dataset_metrics, ptn_confusion_by_domain_over_dataloader\n",
    "from steves_utils.utils_v2 import (per_domain_accuracy_from_confusion, get_datasets_base_path)\n",
    "from steves_utils.PTN.utils import independent_accuracy_assesment\n",
    "\n",
    "from torch.utils.data import DataLoader\n",
    "\n",
    "from steves_utils.stratified_dataset.episodic_accessor import Episodic_Accessor_Factory\n",
    "\n",
    "from steves_utils.ptn_do_report import (\n",
    "    get_loss_curve,\n",
    "    get_results_table,\n",
    "    get_parameters_table,\n",
    "    get_domain_accuracies,\n",
    ")\n",
    "\n",
    "from steves_utils.transforms import get_chained_transform"
   ]
  },
  {
   "cell_type": "markdown",
   "id": "41c840b4",
   "metadata": {
    "papermill": {
     "duration": 0.019137,
     "end_time": "2022-03-22T11:19:05.053812",
     "exception": false,
     "start_time": "2022-03-22T11:19:05.034675",
     "status": "completed"
    },
    "tags": []
   },
   "source": [
    "# Allowed Parameters\n",
    "These are allowed parameters, not defaults\n",
    "Each of these values need to be present in the injected parameters (the notebook will raise an exception if they are not present)\n",
    "\n",
    "Papermill uses the cell tag \"parameters\" to inject the real parameters below this cell.\n",
    "Enable tags to see what I mean"
   ]
  },
  {
   "cell_type": "code",
   "execution_count": 2,
   "id": "fd44eb83",
   "metadata": {
    "execution": {
     "iopub.execute_input": "2022-03-22T11:19:05.097335Z",
     "iopub.status.busy": "2022-03-22T11:19:05.096944Z",
     "iopub.status.idle": "2022-03-22T11:19:05.119201Z",
     "shell.execute_reply": "2022-03-22T11:19:05.119508Z"
    },
    "papermill": {
     "duration": 0.046501,
     "end_time": "2022-03-22T11:19:05.119601",
     "exception": false,
     "start_time": "2022-03-22T11:19:05.073100",
     "status": "completed"
    },
    "tags": []
   },
   "outputs": [],
   "source": [
    "required_parameters = {\n",
    "    \"experiment_name\",\n",
    "    \"lr\",\n",
    "    \"device\",\n",
    "    \"seed\",\n",
    "    \"dataset_seed\",\n",
    "    \"n_shot\",\n",
    "    \"n_query\",\n",
    "    \"n_way\",\n",
    "    \"train_k_factor\",\n",
    "    \"val_k_factor\",\n",
    "    \"test_k_factor\",\n",
    "    \"n_epoch\",\n",
    "    \"patience\",\n",
    "    \"criteria_for_best\",\n",
    "    \"x_net\",\n",
    "    \"datasets\",\n",
    "    \"torch_default_dtype\",\n",
    "    \"NUM_LOGS_PER_EPOCH\",\n",
    "    \"BEST_MODEL_PATH\",\n",
    "    \"x_shape\",\n",
    "}"
   ]
  },
  {
   "cell_type": "code",
   "execution_count": 3,
   "id": "fa3f0049",
   "metadata": {
    "execution": {
     "iopub.execute_input": "2022-03-22T11:19:05.172770Z",
     "iopub.status.busy": "2022-03-22T11:19:05.172366Z",
     "iopub.status.idle": "2022-03-22T11:19:05.191203Z",
     "shell.execute_reply": "2022-03-22T11:19:05.191505Z"
    },
    "papermill": {
     "duration": 0.052272,
     "end_time": "2022-03-22T11:19:05.191598",
     "exception": false,
     "start_time": "2022-03-22T11:19:05.139326",
     "status": "completed"
    },
    "tags": [
     "parameters"
    ]
   },
   "outputs": [],
   "source": [
    "from steves_utils.CORES.utils import (\n",
    "    ALL_NODES,\n",
    "    ALL_NODES_MINIMUM_1000_EXAMPLES,\n",
    "    ALL_DAYS\n",
    ")\n",
    "\n",
    "from steves_utils.ORACLE.utils_v2 import (\n",
    "    ALL_DISTANCES_FEET_NARROWED,\n",
    "    ALL_RUNS,\n",
    "    ALL_SERIAL_NUMBERS,\n",
    ")\n",
    "\n",
    "standalone_parameters = {}\n",
    "standalone_parameters[\"experiment_name\"] = \"STANDALONE PTN\"\n",
    "standalone_parameters[\"lr\"] = 0.001\n",
    "standalone_parameters[\"device\"] = \"cuda\"\n",
    "\n",
    "standalone_parameters[\"seed\"] = 1337\n",
    "standalone_parameters[\"dataset_seed\"] = 1337\n",
    "\n",
    "standalone_parameters[\"n_way\"] = 8\n",
    "standalone_parameters[\"n_shot\"] = 3\n",
    "standalone_parameters[\"n_query\"]  = 2\n",
    "standalone_parameters[\"train_k_factor\"] = 1\n",
    "standalone_parameters[\"val_k_factor\"] = 2\n",
    "standalone_parameters[\"test_k_factor\"] = 2\n",
    "\n",
    "\n",
    "standalone_parameters[\"n_epoch\"] = 50\n",
    "\n",
    "standalone_parameters[\"patience\"] = 10\n",
    "standalone_parameters[\"criteria_for_best\"] = \"source_loss\"\n",
    "\n",
    "standalone_parameters[\"datasets\"] = [\n",
    "    {\n",
    "        \"labels\": ALL_SERIAL_NUMBERS,\n",
    "        \"domains\": ALL_DISTANCES_FEET_NARROWED,\n",
    "        \"num_examples_per_domain_per_label\": 100,\n",
    "        \"pickle_path\": os.path.join(get_datasets_base_path(), \"oracle.Run1_framed_2000Examples_stratified_ds.2022A.pkl\"),\n",
    "        \"source_or_target_dataset\": \"source\",\n",
    "        \"x_transforms\": [\"unit_mag\", \"minus_two\"],\n",
    "        \"episode_transforms\": [],\n",
    "        \"domain_prefix\": \"ORACLE_\"\n",
    "    },\n",
    "    {\n",
    "        \"labels\": ALL_NODES,\n",
    "        \"domains\": ALL_DAYS,\n",
    "        \"num_examples_per_domain_per_label\": 100,\n",
    "        \"pickle_path\": os.path.join(get_datasets_base_path(), \"cores.stratified_ds.2022A.pkl\"),\n",
    "        \"source_or_target_dataset\": \"target\",\n",
    "        \"x_transforms\": [\"unit_power\", \"times_zero\"],\n",
    "        \"episode_transforms\": [],\n",
    "        \"domain_prefix\": \"CORES_\"\n",
    "    }   \n",
    "]\n",
    "\n",
    "standalone_parameters[\"torch_default_dtype\"] = \"torch.float32\" \n",
    "\n",
    "\n",
    "\n",
    "standalone_parameters[\"x_net\"] =     [\n",
    "    {\"class\": \"nnReshape\", \"kargs\": {\"shape\":[-1, 1, 2, 256]}},\n",
    "    {\"class\": \"Conv2d\", \"kargs\": { \"in_channels\":1, \"out_channels\":256, \"kernel_size\":(1,7), \"bias\":False, \"padding\":(0,3), },},\n",
    "    {\"class\": \"ReLU\", \"kargs\": {\"inplace\": True}},\n",
    "    {\"class\": \"BatchNorm2d\", \"kargs\": {\"num_features\":256}},\n",
    "\n",
    "    {\"class\": \"Conv2d\", \"kargs\": { \"in_channels\":256, \"out_channels\":80, \"kernel_size\":(2,7), \"bias\":True, \"padding\":(0,3), },},\n",
    "    {\"class\": \"ReLU\", \"kargs\": {\"inplace\": True}},\n",
    "    {\"class\": \"BatchNorm2d\", \"kargs\": {\"num_features\":80}},\n",
    "    {\"class\": \"Flatten\", \"kargs\": {}},\n",
    "\n",
    "    {\"class\": \"Linear\", \"kargs\": {\"in_features\": 80*256, \"out_features\": 256}}, # 80 units per IQ pair\n",
    "    {\"class\": \"ReLU\", \"kargs\": {\"inplace\": True}},\n",
    "    {\"class\": \"BatchNorm1d\", \"kargs\": {\"num_features\":256}},\n",
    "\n",
    "    {\"class\": \"Linear\", \"kargs\": {\"in_features\": 256, \"out_features\": 256}},\n",
    "]\n",
    "\n",
    "# Parameters relevant to results\n",
    "# These parameters will basically never need to change\n",
    "standalone_parameters[\"NUM_LOGS_PER_EPOCH\"] = 10\n",
    "standalone_parameters[\"BEST_MODEL_PATH\"] = \"./best_model.pth\"\n",
    "\n",
    "\n",
    "\n",
    "\n"
   ]
  },
  {
   "cell_type": "code",
   "execution_count": 4,
   "id": "19b82d18",
   "metadata": {
    "execution": {
     "iopub.execute_input": "2022-03-22T11:19:05.246475Z",
     "iopub.status.busy": "2022-03-22T11:19:05.238974Z",
     "iopub.status.idle": "2022-03-22T11:19:05.265725Z",
     "shell.execute_reply": "2022-03-22T11:19:05.265407Z"
    },
    "papermill": {
     "duration": 0.054507,
     "end_time": "2022-03-22T11:19:05.265795",
     "exception": false,
     "start_time": "2022-03-22T11:19:05.211288",
     "status": "completed"
    },
    "tags": [
     "injected-parameters"
    ]
   },
   "outputs": [],
   "source": [
    "# Parameters\n",
    "parameters = {\n",
    "    \"experiment_name\": \"tl_1v2:cores-oracle.run1.limited\",\n",
    "    \"device\": \"cuda\",\n",
    "    \"lr\": 0.0001,\n",
    "    \"n_shot\": 3,\n",
    "    \"n_query\": 2,\n",
    "    \"train_k_factor\": 3,\n",
    "    \"val_k_factor\": 2,\n",
    "    \"test_k_factor\": 2,\n",
    "    \"torch_default_dtype\": \"torch.float32\",\n",
    "    \"n_epoch\": 50,\n",
    "    \"patience\": 3,\n",
    "    \"criteria_for_best\": \"target_accuracy\",\n",
    "    \"x_net\": [\n",
    "        {\"class\": \"nnReshape\", \"kargs\": {\"shape\": [-1, 1, 2, 256]}},\n",
    "        {\n",
    "            \"class\": \"Conv2d\",\n",
    "            \"kargs\": {\n",
    "                \"in_channels\": 1,\n",
    "                \"out_channels\": 256,\n",
    "                \"kernel_size\": [1, 7],\n",
    "                \"bias\": False,\n",
    "                \"padding\": [0, 3],\n",
    "            },\n",
    "        },\n",
    "        {\"class\": \"ReLU\", \"kargs\": {\"inplace\": True}},\n",
    "        {\"class\": \"BatchNorm2d\", \"kargs\": {\"num_features\": 256}},\n",
    "        {\n",
    "            \"class\": \"Conv2d\",\n",
    "            \"kargs\": {\n",
    "                \"in_channels\": 256,\n",
    "                \"out_channels\": 80,\n",
    "                \"kernel_size\": [2, 7],\n",
    "                \"bias\": True,\n",
    "                \"padding\": [0, 3],\n",
    "            },\n",
    "        },\n",
    "        {\"class\": \"ReLU\", \"kargs\": {\"inplace\": True}},\n",
    "        {\"class\": \"BatchNorm2d\", \"kargs\": {\"num_features\": 80}},\n",
    "        {\"class\": \"Flatten\", \"kargs\": {}},\n",
    "        {\"class\": \"Linear\", \"kargs\": {\"in_features\": 20480, \"out_features\": 256}},\n",
    "        {\"class\": \"ReLU\", \"kargs\": {\"inplace\": True}},\n",
    "        {\"class\": \"BatchNorm1d\", \"kargs\": {\"num_features\": 256}},\n",
    "        {\"class\": \"Linear\", \"kargs\": {\"in_features\": 256, \"out_features\": 256}},\n",
    "    ],\n",
    "    \"NUM_LOGS_PER_EPOCH\": 10,\n",
    "    \"BEST_MODEL_PATH\": \"./best_model.pth\",\n",
    "    \"n_way\": 16,\n",
    "    \"datasets\": [\n",
    "        {\n",
    "            \"labels\": [\n",
    "                \"1-10.\",\n",
    "                \"1-11.\",\n",
    "                \"1-15.\",\n",
    "                \"1-16.\",\n",
    "                \"1-17.\",\n",
    "                \"1-18.\",\n",
    "                \"1-19.\",\n",
    "                \"10-4.\",\n",
    "                \"10-7.\",\n",
    "                \"11-1.\",\n",
    "                \"11-14.\",\n",
    "                \"11-17.\",\n",
    "                \"11-20.\",\n",
    "                \"11-7.\",\n",
    "                \"13-20.\",\n",
    "                \"13-8.\",\n",
    "                \"14-10.\",\n",
    "                \"14-11.\",\n",
    "                \"14-14.\",\n",
    "                \"14-7.\",\n",
    "                \"15-1.\",\n",
    "                \"15-20.\",\n",
    "                \"16-1.\",\n",
    "                \"16-16.\",\n",
    "                \"17-10.\",\n",
    "                \"17-11.\",\n",
    "                \"17-2.\",\n",
    "                \"19-1.\",\n",
    "                \"19-16.\",\n",
    "                \"19-19.\",\n",
    "                \"19-20.\",\n",
    "                \"19-3.\",\n",
    "                \"2-10.\",\n",
    "                \"2-11.\",\n",
    "                \"2-17.\",\n",
    "                \"2-18.\",\n",
    "                \"2-20.\",\n",
    "                \"2-3.\",\n",
    "                \"2-4.\",\n",
    "                \"2-5.\",\n",
    "                \"2-6.\",\n",
    "                \"2-7.\",\n",
    "                \"2-8.\",\n",
    "                \"3-13.\",\n",
    "                \"3-18.\",\n",
    "                \"3-3.\",\n",
    "                \"4-1.\",\n",
    "                \"4-10.\",\n",
    "                \"4-11.\",\n",
    "                \"4-19.\",\n",
    "                \"5-5.\",\n",
    "                \"6-15.\",\n",
    "                \"7-10.\",\n",
    "                \"7-14.\",\n",
    "                \"8-18.\",\n",
    "                \"8-20.\",\n",
    "                \"8-3.\",\n",
    "                \"8-8.\",\n",
    "            ],\n",
    "            \"domains\": [1, 2, 3, 4, 5],\n",
    "            \"num_examples_per_domain_per_label\": -1,\n",
    "            \"pickle_path\": \"/root/csc500-main/datasets/cores.stratified_ds.2022A.pkl\",\n",
    "            \"source_or_target_dataset\": \"source\",\n",
    "            \"x_transforms\": [\"unit_power\"],\n",
    "            \"episode_transforms\": [],\n",
    "            \"domain_prefix\": \"CORES_\",\n",
    "        },\n",
    "        {\n",
    "            \"labels\": [\n",
    "                \"3123D52\",\n",
    "                \"3123D65\",\n",
    "                \"3123D79\",\n",
    "                \"3123D80\",\n",
    "                \"3123D54\",\n",
    "                \"3123D70\",\n",
    "                \"3123D7B\",\n",
    "                \"3123D89\",\n",
    "                \"3123D58\",\n",
    "                \"3123D76\",\n",
    "                \"3123D7D\",\n",
    "                \"3123EFE\",\n",
    "                \"3123D64\",\n",
    "                \"3123D78\",\n",
    "                \"3123D7E\",\n",
    "                \"3124E4A\",\n",
    "            ],\n",
    "            \"domains\": [32, 38, 8, 44, 14, 50, 20, 26],\n",
    "            \"num_examples_per_domain_per_label\": 2000,\n",
    "            \"pickle_path\": \"/root/csc500-main/datasets/oracle.Run1_10kExamples_stratified_ds.2022A.pkl\",\n",
    "            \"source_or_target_dataset\": \"target\",\n",
    "            \"x_transforms\": [\"unit_power\"],\n",
    "            \"episode_transforms\": [],\n",
    "            \"domain_prefix\": \"ORACLE.run1_\",\n",
    "        },\n",
    "    ],\n",
    "    \"dataset_seed\": 154325,\n",
    "    \"seed\": 154325,\n",
    "}\n"
   ]
  },
  {
   "cell_type": "code",
   "execution_count": 5,
   "id": "8fa1cc33",
   "metadata": {
    "execution": {
     "iopub.execute_input": "2022-03-22T11:19:05.313486Z",
     "iopub.status.busy": "2022-03-22T11:19:05.313115Z",
     "iopub.status.idle": "2022-03-22T11:19:05.331547Z",
     "shell.execute_reply": "2022-03-22T11:19:05.331944Z"
    },
    "papermill": {
     "duration": 0.044728,
     "end_time": "2022-03-22T11:19:05.332034",
     "exception": false,
     "start_time": "2022-03-22T11:19:05.287306",
     "status": "completed"
    },
    "tags": []
   },
   "outputs": [],
   "source": [
    "# Set this to True if you want to run this template directly\n",
    "STANDALONE = False\n",
    "if STANDALONE:\n",
    "    print(\"parameters not injected, running with standalone_parameters\")\n",
    "    parameters = standalone_parameters\n",
    "\n",
    "if not 'parameters' in locals() and not 'parameters' in globals():\n",
    "    raise Exception(\"Parameter injection failed\")\n",
    "\n",
    "#Use an easy dict for all the parameters\n",
    "p = EasyDict(parameters)\n",
    "\n",
    "if \"x_shape\" not in p:\n",
    "    p.x_shape = [2,256] # Default to this if we dont supply x_shape\n",
    "\n",
    "\n",
    "supplied_keys = set(p.keys())\n",
    "\n",
    "if  supplied_keys != required_parameters:\n",
    "    print(\"Parameters are incorrect\")\n",
    "    if len(supplied_keys - required_parameters)>0: print(\"Shouldn't have:\", str(supplied_keys - required_parameters))\n",
    "    if len(required_parameters - supplied_keys)>0: print(\"Need to have:\", str(required_parameters - supplied_keys))\n",
    "    raise RuntimeError(\"Parameters are incorrect\")"
   ]
  },
  {
   "cell_type": "code",
   "execution_count": 6,
   "id": "3a028d58",
   "metadata": {
    "execution": {
     "iopub.execute_input": "2022-03-22T11:19:05.375804Z",
     "iopub.status.busy": "2022-03-22T11:19:05.375425Z",
     "iopub.status.idle": "2022-03-22T11:19:05.396997Z",
     "shell.execute_reply": "2022-03-22T11:19:05.396635Z"
    },
    "papermill": {
     "duration": 0.044948,
     "end_time": "2022-03-22T11:19:05.397067",
     "exception": false,
     "start_time": "2022-03-22T11:19:05.352119",
     "status": "completed"
    },
    "tags": []
   },
   "outputs": [],
   "source": [
    "###################################\n",
    "# Set the RNGs and make it all deterministic\n",
    "###################################\n",
    "np.random.seed(p.seed)\n",
    "random.seed(p.seed)\n",
    "torch.manual_seed(p.seed)\n",
    "\n",
    "torch.use_deterministic_algorithms(True) "
   ]
  },
  {
   "cell_type": "code",
   "execution_count": 7,
   "id": "b691acf6",
   "metadata": {
    "execution": {
     "iopub.execute_input": "2022-03-22T11:19:05.441983Z",
     "iopub.status.busy": "2022-03-22T11:19:05.440544Z",
     "iopub.status.idle": "2022-03-22T11:19:05.461219Z",
     "shell.execute_reply": "2022-03-22T11:19:05.460856Z"
    },
    "papermill": {
     "duration": 0.044252,
     "end_time": "2022-03-22T11:19:05.461288",
     "exception": false,
     "start_time": "2022-03-22T11:19:05.417036",
     "status": "completed"
    },
    "tags": []
   },
   "outputs": [],
   "source": [
    "###########################################\n",
    "# The stratified datasets honor this\n",
    "###########################################\n",
    "torch.set_default_dtype(eval(p.torch_default_dtype))"
   ]
  },
  {
   "cell_type": "code",
   "execution_count": 8,
   "id": "b5fba671",
   "metadata": {
    "execution": {
     "iopub.execute_input": "2022-03-22T11:19:05.505133Z",
     "iopub.status.busy": "2022-03-22T11:19:05.504766Z",
     "iopub.status.idle": "2022-03-22T11:19:05.553840Z",
     "shell.execute_reply": "2022-03-22T11:19:05.554142Z"
    },
    "papermill": {
     "duration": 0.072683,
     "end_time": "2022-03-22T11:19:05.554225",
     "exception": false,
     "start_time": "2022-03-22T11:19:05.481542",
     "status": "completed"
    },
    "tags": []
   },
   "outputs": [],
   "source": [
    "###################################\n",
    "# Build the network(s)\n",
    "# Note: It's critical to do this AFTER setting the RNG\n",
    "###################################\n",
    "x_net = build_sequential(p.x_net)"
   ]
  },
  {
   "cell_type": "code",
   "execution_count": 9,
   "id": "5d7e61cc",
   "metadata": {
    "execution": {
     "iopub.execute_input": "2022-03-22T11:19:05.598715Z",
     "iopub.status.busy": "2022-03-22T11:19:05.598222Z",
     "iopub.status.idle": "2022-03-22T11:19:05.623195Z",
     "shell.execute_reply": "2022-03-22T11:19:05.622829Z"
    },
    "papermill": {
     "duration": 0.048896,
     "end_time": "2022-03-22T11:19:05.623264",
     "exception": false,
     "start_time": "2022-03-22T11:19:05.574368",
     "status": "completed"
    },
    "tags": []
   },
   "outputs": [],
   "source": [
    "start_time_secs = time.time()"
   ]
  },
  {
   "cell_type": "code",
   "execution_count": 10,
   "id": "c6b67dfd",
   "metadata": {
    "execution": {
     "iopub.execute_input": "2022-03-22T11:19:05.672287Z",
     "iopub.status.busy": "2022-03-22T11:19:05.668178Z",
     "iopub.status.idle": "2022-03-22T11:19:05.686316Z",
     "shell.execute_reply": "2022-03-22T11:19:05.685950Z"
    },
    "papermill": {
     "duration": 0.042896,
     "end_time": "2022-03-22T11:19:05.686385",
     "exception": false,
     "start_time": "2022-03-22T11:19:05.643489",
     "status": "completed"
    },
    "tags": []
   },
   "outputs": [],
   "source": [
    "p.domains_source = []\n",
    "p.domains_target = []\n",
    "\n",
    "\n",
    "train_original_source = []\n",
    "val_original_source   = []\n",
    "test_original_source  = []\n",
    "\n",
    "train_original_target = []\n",
    "val_original_target   = []\n",
    "test_original_target  = []"
   ]
  },
  {
   "cell_type": "code",
   "execution_count": 11,
   "id": "e3d9c3d3",
   "metadata": {
    "execution": {
     "iopub.execute_input": "2022-03-22T11:19:05.730175Z",
     "iopub.status.busy": "2022-03-22T11:19:05.729809Z",
     "iopub.status.idle": "2022-03-22T11:19:05.752148Z",
     "shell.execute_reply": "2022-03-22T11:19:05.751307Z"
    },
    "papermill": {
     "duration": 0.045254,
     "end_time": "2022-03-22T11:19:05.752304",
     "exception": false,
     "start_time": "2022-03-22T11:19:05.707050",
     "status": "completed"
    },
    "tags": []
   },
   "outputs": [],
   "source": [
    "# global_x_transform_func = lambda x: normalize(x.to(torch.get_default_dtype()), \"unit_power\") # unit_power, unit_mag\n",
    "# global_x_transform_func = lambda x: normalize(x, \"unit_power\") # unit_power, unit_mag"
   ]
  },
  {
   "cell_type": "code",
   "execution_count": 12,
   "id": "acb78fd2",
   "metadata": {
    "execution": {
     "iopub.execute_input": "2022-03-22T11:19:05.811590Z",
     "iopub.status.busy": "2022-03-22T11:19:05.810734Z",
     "iopub.status.idle": "2022-03-22T11:19:05.830029Z",
     "shell.execute_reply": "2022-03-22T11:19:05.829333Z"
    },
    "papermill": {
     "duration": 0.05103,
     "end_time": "2022-03-22T11:19:05.830183",
     "exception": false,
     "start_time": "2022-03-22T11:19:05.779153",
     "status": "completed"
    },
    "tags": []
   },
   "outputs": [],
   "source": [
    "def add_dataset(\n",
    "    labels,\n",
    "    domains,\n",
    "    pickle_path,\n",
    "    x_transforms,\n",
    "    episode_transforms,\n",
    "    domain_prefix,\n",
    "    num_examples_per_domain_per_label,\n",
    "    source_or_target_dataset:str,\n",
    "    iterator_seed=p.seed,\n",
    "    dataset_seed=p.dataset_seed,\n",
    "    n_shot=p.n_shot,\n",
    "    n_way=p.n_way,\n",
    "    n_query=p.n_query,\n",
    "    train_val_test_k_factors=(p.train_k_factor,p.val_k_factor,p.test_k_factor),\n",
    "):\n",
    "   \n",
    "    if x_transforms == []: x_transform = None\n",
    "    else: x_transform = get_chained_transform(x_transforms)\n",
    "    \n",
    "    if episode_transforms == []: episode_transform = None\n",
    "    else: raise Exception(\"episode_transforms not implemented\")\n",
    "    \n",
    "    episode_transform = lambda tup, _prefix=domain_prefix: (_prefix + str(tup[0]), tup[1])\n",
    "\n",
    "\n",
    "    eaf = Episodic_Accessor_Factory(\n",
    "        labels=labels,\n",
    "        domains=domains,\n",
    "        num_examples_per_domain_per_label=num_examples_per_domain_per_label,\n",
    "        iterator_seed=iterator_seed,\n",
    "        dataset_seed=dataset_seed,\n",
    "        n_shot=n_shot,\n",
    "        n_way=n_way,\n",
    "        n_query=n_query,\n",
    "        train_val_test_k_factors=train_val_test_k_factors,\n",
    "        pickle_path=pickle_path,\n",
    "        x_transform_func=x_transform,\n",
    "    )\n",
    "\n",
    "    train, val, test = eaf.get_train(), eaf.get_val(), eaf.get_test()\n",
    "    train = Lazy_Iterable_Wrapper(train, episode_transform)\n",
    "    val = Lazy_Iterable_Wrapper(val, episode_transform)\n",
    "    test = Lazy_Iterable_Wrapper(test, episode_transform)\n",
    "\n",
    "    if source_or_target_dataset==\"source\":\n",
    "        train_original_source.append(train)\n",
    "        val_original_source.append(val)\n",
    "        test_original_source.append(test)\n",
    "\n",
    "        p.domains_source.extend(\n",
    "            [domain_prefix + str(u) for u in domains]\n",
    "        )\n",
    "    elif source_or_target_dataset==\"target\":\n",
    "        train_original_target.append(train)\n",
    "        val_original_target.append(val)\n",
    "        test_original_target.append(test)\n",
    "        p.domains_target.extend(\n",
    "            [domain_prefix + str(u) for u in domains]\n",
    "        )\n",
    "    else:\n",
    "        raise Exception(f\"invalid source_or_target_dataset: {source_or_target_dataset}\")\n",
    "    "
   ]
  },
  {
   "cell_type": "code",
   "execution_count": 13,
   "id": "fe266617",
   "metadata": {
    "execution": {
     "iopub.execute_input": "2022-03-22T11:19:05.881107Z",
     "iopub.status.busy": "2022-03-22T11:19:05.880745Z",
     "iopub.status.idle": "2022-03-22T11:19:50.306063Z",
     "shell.execute_reply": "2022-03-22T11:19:50.305028Z"
    },
    "papermill": {
     "duration": 44.450083,
     "end_time": "2022-03-22T11:19:50.306274",
     "exception": false,
     "start_time": "2022-03-22T11:19:05.856191",
     "status": "completed"
    },
    "tags": []
   },
   "outputs": [],
   "source": [
    "for ds in p.datasets:\n",
    "    add_dataset(**ds)"
   ]
  },
  {
   "cell_type": "code",
   "execution_count": 14,
   "id": "b90d65ac",
   "metadata": {
    "execution": {
     "iopub.execute_input": "2022-03-22T11:19:50.358700Z",
     "iopub.status.busy": "2022-03-22T11:19:50.358298Z",
     "iopub.status.idle": "2022-03-22T11:19:50.381664Z",
     "shell.execute_reply": "2022-03-22T11:19:50.380785Z"
    },
    "papermill": {
     "duration": 0.048499,
     "end_time": "2022-03-22T11:19:50.381893",
     "exception": false,
     "start_time": "2022-03-22T11:19:50.333394",
     "status": "completed"
    },
    "tags": []
   },
   "outputs": [],
   "source": [
    "# from steves_utils.CORES.utils import (\n",
    "#     ALL_NODES,\n",
    "#     ALL_NODES_MINIMUM_1000_EXAMPLES,\n",
    "#     ALL_DAYS\n",
    "# )\n",
    "\n",
    "# add_dataset(\n",
    "#     labels=ALL_NODES,\n",
    "#     domains = ALL_DAYS,\n",
    "#     num_examples_per_domain_per_label=100,\n",
    "#     pickle_path=os.path.join(get_datasets_base_path(), \"cores.stratified_ds.2022A.pkl\"),\n",
    "#     source_or_target_dataset=\"target\",\n",
    "#     x_transform_func=global_x_transform_func,\n",
    "#     domain_modifier=lambda u: f\"cores_{u}\"\n",
    "# )"
   ]
  },
  {
   "cell_type": "code",
   "execution_count": 15,
   "id": "76db484d",
   "metadata": {
    "execution": {
     "iopub.execute_input": "2022-03-22T11:19:50.436937Z",
     "iopub.status.busy": "2022-03-22T11:19:50.435773Z",
     "iopub.status.idle": "2022-03-22T11:19:50.458447Z",
     "shell.execute_reply": "2022-03-22T11:19:50.457602Z"
    },
    "papermill": {
     "duration": 0.048983,
     "end_time": "2022-03-22T11:19:50.458651",
     "exception": false,
     "start_time": "2022-03-22T11:19:50.409668",
     "status": "completed"
    },
    "tags": []
   },
   "outputs": [],
   "source": [
    "# from steves_utils.ORACLE.utils_v2 import (\n",
    "#     ALL_DISTANCES_FEET,\n",
    "#     ALL_RUNS,\n",
    "#     ALL_SERIAL_NUMBERS,\n",
    "# )\n",
    "\n",
    "\n",
    "# add_dataset(\n",
    "#     labels=ALL_SERIAL_NUMBERS,\n",
    "#     domains = list(set(ALL_DISTANCES_FEET) - {2,62}),\n",
    "#     num_examples_per_domain_per_label=100,\n",
    "#     pickle_path=os.path.join(get_datasets_base_path(), \"oracle.Run2_framed_2000Examples_stratified_ds.2022A.pkl\"),\n",
    "#     source_or_target_dataset=\"source\",\n",
    "#     x_transform_func=global_x_transform_func,\n",
    "#     domain_modifier=lambda u: f\"oracle1_{u}\"\n",
    "# )\n"
   ]
  },
  {
   "cell_type": "code",
   "execution_count": 16,
   "id": "97dea9d2",
   "metadata": {
    "execution": {
     "iopub.execute_input": "2022-03-22T11:19:50.523674Z",
     "iopub.status.busy": "2022-03-22T11:19:50.523121Z",
     "iopub.status.idle": "2022-03-22T11:19:50.542922Z",
     "shell.execute_reply": "2022-03-22T11:19:50.542100Z"
    },
    "papermill": {
     "duration": 0.054191,
     "end_time": "2022-03-22T11:19:50.543085",
     "exception": false,
     "start_time": "2022-03-22T11:19:50.488894",
     "status": "completed"
    },
    "tags": []
   },
   "outputs": [],
   "source": [
    "# from steves_utils.ORACLE.utils_v2 import (\n",
    "#     ALL_DISTANCES_FEET,\n",
    "#     ALL_RUNS,\n",
    "#     ALL_SERIAL_NUMBERS,\n",
    "# )\n",
    "\n",
    "\n",
    "# add_dataset(\n",
    "#     labels=ALL_SERIAL_NUMBERS,\n",
    "#     domains = list(set(ALL_DISTANCES_FEET) - {2,62,56}),\n",
    "#     num_examples_per_domain_per_label=100,\n",
    "#     pickle_path=os.path.join(get_datasets_base_path(), \"oracle.Run2_framed_2000Examples_stratified_ds.2022A.pkl\"),\n",
    "#     source_or_target_dataset=\"source\",\n",
    "#     x_transform_func=global_x_transform_func,\n",
    "#     domain_modifier=lambda u: f\"oracle2_{u}\"\n",
    "# )"
   ]
  },
  {
   "cell_type": "code",
   "execution_count": 17,
   "id": "6f289866",
   "metadata": {
    "execution": {
     "iopub.execute_input": "2022-03-22T11:19:50.593826Z",
     "iopub.status.busy": "2022-03-22T11:19:50.592946Z",
     "iopub.status.idle": "2022-03-22T11:19:50.614311Z",
     "shell.execute_reply": "2022-03-22T11:19:50.613500Z"
    },
    "papermill": {
     "duration": 0.045305,
     "end_time": "2022-03-22T11:19:50.614465",
     "exception": false,
     "start_time": "2022-03-22T11:19:50.569160",
     "status": "completed"
    },
    "tags": []
   },
   "outputs": [],
   "source": [
    "# add_dataset(\n",
    "#     labels=list(range(19)),\n",
    "#     domains = [0,1,2],\n",
    "#     num_examples_per_domain_per_label=100,\n",
    "#     pickle_path=os.path.join(get_datasets_base_path(), \"metehan.stratified_ds.2022A.pkl\"),\n",
    "#     source_or_target_dataset=\"target\",\n",
    "#     x_transform_func=global_x_transform_func,\n",
    "#     domain_modifier=lambda u: f\"met_{u}\"\n",
    "# )"
   ]
  },
  {
   "cell_type": "code",
   "execution_count": 18,
   "id": "86a863c3",
   "metadata": {
    "execution": {
     "iopub.execute_input": "2022-03-22T11:19:50.663840Z",
     "iopub.status.busy": "2022-03-22T11:19:50.663107Z",
     "iopub.status.idle": "2022-03-22T11:19:50.686553Z",
     "shell.execute_reply": "2022-03-22T11:19:50.685738Z"
    },
    "papermill": {
     "duration": 0.047659,
     "end_time": "2022-03-22T11:19:50.686711",
     "exception": false,
     "start_time": "2022-03-22T11:19:50.639052",
     "status": "completed"
    },
    "tags": []
   },
   "outputs": [],
   "source": [
    "# # from steves_utils.wisig.utils import (\n",
    "# #     ALL_NODES_MINIMUM_100_EXAMPLES,\n",
    "# #     ALL_NODES_MINIMUM_500_EXAMPLES,\n",
    "# #     ALL_NODES_MINIMUM_1000_EXAMPLES,\n",
    "# #     ALL_DAYS\n",
    "# # )\n",
    "\n",
    "# import steves_utils.wisig.utils as wisig\n",
    "\n",
    "\n",
    "# add_dataset(\n",
    "#     labels=wisig.ALL_NODES_MINIMUM_100_EXAMPLES,\n",
    "#     domains = wisig.ALL_DAYS,\n",
    "#     num_examples_per_domain_per_label=100,\n",
    "#     pickle_path=os.path.join(get_datasets_base_path(), \"wisig.node3-19.stratified_ds.2022A.pkl\"),\n",
    "#     source_or_target_dataset=\"target\",\n",
    "#     x_transform_func=global_x_transform_func,\n",
    "#     domain_modifier=lambda u: f\"wisig_{u}\"\n",
    "# )"
   ]
  },
  {
   "cell_type": "code",
   "execution_count": 19,
   "id": "fd5442bc",
   "metadata": {
    "execution": {
     "iopub.execute_input": "2022-03-22T11:19:50.743376Z",
     "iopub.status.busy": "2022-03-22T11:19:50.736612Z",
     "iopub.status.idle": "2022-03-22T11:19:50.766443Z",
     "shell.execute_reply": "2022-03-22T11:19:50.767110Z"
    },
    "papermill": {
     "duration": 0.054421,
     "end_time": "2022-03-22T11:19:50.767294",
     "exception": false,
     "start_time": "2022-03-22T11:19:50.712873",
     "status": "completed"
    },
    "tags": []
   },
   "outputs": [],
   "source": [
    "###################################\n",
    "# Build the dataset\n",
    "###################################\n",
    "train_original_source = Iterable_Aggregator(train_original_source, p.seed)\n",
    "val_original_source = Iterable_Aggregator(val_original_source, p.seed)\n",
    "test_original_source = Iterable_Aggregator(test_original_source, p.seed)\n",
    "\n",
    "\n",
    "train_original_target = Iterable_Aggregator(train_original_target, p.seed)\n",
    "val_original_target = Iterable_Aggregator(val_original_target, p.seed)\n",
    "test_original_target = Iterable_Aggregator(test_original_target, p.seed)\n",
    "\n",
    "# For CNN We only use X and Y. And we only train on the source.\n",
    "# Properly form the data using a transform lambda and Lazy_Iterable_Wrapper. Finally wrap them in a dataloader\n",
    "\n",
    "transform_lambda = lambda ex: ex[1] # Original is (<domain>, <episode>) so we strip down to episode only\n",
    "\n",
    "train_processed_source = Lazy_Iterable_Wrapper(train_original_source, transform_lambda)\n",
    "val_processed_source   = Lazy_Iterable_Wrapper(val_original_source, transform_lambda)\n",
    "test_processed_source  = Lazy_Iterable_Wrapper(test_original_source, transform_lambda)\n",
    "\n",
    "train_processed_target = Lazy_Iterable_Wrapper(train_original_target, transform_lambda)\n",
    "val_processed_target   = Lazy_Iterable_Wrapper(val_original_target, transform_lambda)\n",
    "test_processed_target  = Lazy_Iterable_Wrapper(test_original_target, transform_lambda)\n",
    "\n",
    "datasets = EasyDict({\n",
    "    \"source\": {\n",
    "        \"original\": {\"train\":train_original_source, \"val\":val_original_source, \"test\":test_original_source},\n",
    "        \"processed\": {\"train\":train_processed_source, \"val\":val_processed_source, \"test\":test_processed_source}\n",
    "    },\n",
    "    \"target\": {\n",
    "        \"original\": {\"train\":train_original_target, \"val\":val_original_target, \"test\":test_original_target},\n",
    "        \"processed\": {\"train\":train_processed_target, \"val\":val_processed_target, \"test\":test_processed_target}\n",
    "    },\n",
    "})"
   ]
  },
  {
   "cell_type": "code",
   "execution_count": 20,
   "id": "5b3c01fc",
   "metadata": {
    "execution": {
     "iopub.execute_input": "2022-03-22T11:19:50.822108Z",
     "iopub.status.busy": "2022-03-22T11:19:50.821546Z",
     "iopub.status.idle": "2022-03-22T11:20:05.204832Z",
     "shell.execute_reply": "2022-03-22T11:20:05.203985Z"
    },
    "papermill": {
     "duration": 14.409609,
     "end_time": "2022-03-22T11:20:05.205081",
     "exception": false,
     "start_time": "2022-03-22T11:19:50.795472",
     "status": "completed"
    },
    "tags": []
   },
   "outputs": [
    {
     "name": "stdout",
     "output_type": "stream",
     "text": [
      "{'CORES_1', 'CORES_4', 'CORES_2', 'CORES_5', 'CORES_3'}\n"
     ]
    },
    {
     "name": "stdout",
     "output_type": "stream",
     "text": [
      "{'ORACLE.run1_50', 'ORACLE.run1_38', 'ORACLE.run1_8', 'ORACLE.run1_20', 'ORACLE.run1_26', 'ORACLE.run1_14', 'ORACLE.run1_32', 'ORACLE.run1_44'}\n"
     ]
    },
    {
     "name": "stdout",
     "output_type": "stream",
     "text": [
      "tensor([[[-0.5519, -0.3236,  1.1819,  ..., -0.0289, -0.3930,  0.3207],\n",
      "         [ 0.2543, -0.9565, -0.5432,  ...,  0.2369,  0.1734, -1.2830]],\n",
      "\n",
      "        [[-0.2484,  0.1704,  1.2448,  ...,  0.1762, -0.3697,  0.2426],\n",
      "         [ 0.0144, -0.7250,  0.2917,  ...,  0.0866, -0.1733, -0.2137]],\n",
      "\n",
      "        [[ 0.3357, -1.1851, -0.7326,  ...,  0.7793,  0.5021, -0.7589],\n",
      "         [ 1.2639,  0.2481, -0.6918,  ...,  0.4991,  1.3602,  0.2335]],\n",
      "\n",
      "        ...,\n",
      "\n",
      "        [[-0.1845,  0.2060,  0.4858,  ...,  0.2613, -0.3136,  1.0115],\n",
      "         [ 0.5042,  0.5349, -0.1199,  ...,  0.0400,  0.2613,  0.2552]],\n",
      "\n",
      "        [[-0.0033,  0.2911, -0.1701,  ..., -0.6410, -0.5560,  0.3336],\n",
      "         [-0.0425, -0.4775, -0.5331,  ..., -0.8634,  0.1014, -0.2289]],\n",
      "\n",
      "        [[-0.1189,  0.1189,  0.1940,  ...,  0.1784, -0.8732, -0.8137],\n",
      "         [-0.0438,  0.0282,  0.0156,  ..., -1.2143, -0.9890,  0.7355]]])\n"
     ]
    }
   ],
   "source": [
    "from steves_utils.transforms import get_average_magnitude, get_average_power\n",
    "\n",
    "print(set([u for u,_ in val_original_source]))\n",
    "print(set([u for u,_ in val_original_target]))\n",
    "\n",
    "s_x, s_y, q_x, q_y, _ = next(iter(train_processed_source))\n",
    "print(s_x)\n",
    "\n",
    "# for ds in [\n",
    "#     train_processed_source,\n",
    "#     val_processed_source,\n",
    "#     test_processed_source,\n",
    "#     train_processed_target,\n",
    "#     val_processed_target,\n",
    "#     test_processed_target\n",
    "# ]:\n",
    "#     for s_x, s_y, q_x, q_y, _ in ds:\n",
    "#         for X in (s_x, q_x):\n",
    "#             for x in X:\n",
    "#                 assert np.isclose(get_average_magnitude(x.numpy()), 1.0)\n",
    "#                 assert np.isclose(get_average_power(x.numpy()), 1.0)\n",
    "                "
   ]
  },
  {
   "cell_type": "code",
   "execution_count": 21,
   "id": "bbdacba1",
   "metadata": {
    "execution": {
     "iopub.execute_input": "2022-03-22T11:20:05.265952Z",
     "iopub.status.busy": "2022-03-22T11:20:05.265387Z",
     "iopub.status.idle": "2022-03-22T11:20:05.477288Z",
     "shell.execute_reply": "2022-03-22T11:20:05.477919Z"
    },
    "papermill": {
     "duration": 0.240343,
     "end_time": "2022-03-22T11:20:05.478124",
     "exception": false,
     "start_time": "2022-03-22T11:20:05.237781",
     "status": "completed"
    },
    "tags": []
   },
   "outputs": [
    {
     "name": "stdout",
     "output_type": "stream",
     "text": [
      "(2, 256)\n"
     ]
    }
   ],
   "source": [
    "###################################\n",
    "# Build the model\n",
    "###################################\n",
    "# easfsl only wants a tuple for the shape\n",
    "model = Steves_Prototypical_Network(x_net, device=p.device, x_shape=tuple(p.x_shape))\n",
    "optimizer = Adam(params=model.parameters(), lr=p.lr)"
   ]
  },
  {
   "cell_type": "code",
   "execution_count": 22,
   "id": "22b39ac5",
   "metadata": {
    "execution": {
     "iopub.execute_input": "2022-03-22T11:20:05.533617Z",
     "iopub.status.busy": "2022-03-22T11:20:05.532992Z",
     "iopub.status.idle": "2022-03-22T11:43:43.136783Z",
     "shell.execute_reply": "2022-03-22T11:43:43.136427Z"
    },
    "papermill": {
     "duration": 1417.631026,
     "end_time": "2022-03-22T11:43:43.136875",
     "exception": false,
     "start_time": "2022-03-22T11:20:05.505849",
     "status": "completed"
    },
    "tags": []
   },
   "outputs": [
    {
     "name": "stdout",
     "output_type": "stream",
     "text": [
      "epoch: 1, [batch: 1 / 6297], examples_per_second: 34.3184, train_label_loss: 2.4858, \n"
     ]
    },
    {
     "name": "stdout",
     "output_type": "stream",
     "text": [
      "epoch: 1, [batch: 630 / 6297], examples_per_second: 4044.5415, train_label_loss: 0.0828, \n"
     ]
    },
    {
     "name": "stdout",
     "output_type": "stream",
     "text": [
      "epoch: 1, [batch: 1260 / 6297], examples_per_second: 4806.6732, train_label_loss: 0.0061, \n"
     ]
    },
    {
     "name": "stdout",
     "output_type": "stream",
     "text": [
      "epoch: 1, [batch: 1889 / 6297], examples_per_second: 3783.9042, train_label_loss: 0.0044, \n"
     ]
    },
    {
     "name": "stdout",
     "output_type": "stream",
     "text": [
      "epoch: 1, [batch: 2519 / 6297], examples_per_second: 3898.5120, train_label_loss: 0.0088, \n"
     ]
    },
    {
     "name": "stdout",
     "output_type": "stream",
     "text": [
      "epoch: 1, [batch: 3149 / 6297], examples_per_second: 3989.4510, train_label_loss: 0.0317, \n"
     ]
    },
    {
     "name": "stdout",
     "output_type": "stream",
     "text": [
      "epoch: 1, [batch: 3778 / 6297], examples_per_second: 3984.6255, train_label_loss: 0.0003, \n"
     ]
    },
    {
     "name": "stdout",
     "output_type": "stream",
     "text": [
      "epoch: 1, [batch: 4408 / 6297], examples_per_second: 3890.8093, train_label_loss: 0.0002, \n"
     ]
    },
    {
     "name": "stdout",
     "output_type": "stream",
     "text": [
      "epoch: 1, [batch: 5037 / 6297], examples_per_second: 3870.3587, train_label_loss: 0.0002, \n"
     ]
    },
    {
     "name": "stdout",
     "output_type": "stream",
     "text": [
      "epoch: 1, [batch: 5667 / 6297], examples_per_second: 3828.4102, train_label_loss: 0.0004, \n"
     ]
    },
    {
     "name": "stdout",
     "output_type": "stream",
     "text": [
      "=============================================================\n",
      "epoch: 1, source_val_acc_label: 0.9982, target_val_acc_label: 0.1411, source_val_label_loss: 0.0100, target_val_label_loss: 2.7546, \n",
      "=============================================================\n"
     ]
    },
    {
     "name": "stdout",
     "output_type": "stream",
     "text": [
      "New best\n"
     ]
    },
    {
     "name": "stdout",
     "output_type": "stream",
     "text": [
      "epoch: 2, [batch: 1 / 6333], examples_per_second: 4.0459, train_label_loss: 0.0001, \n"
     ]
    },
    {
     "name": "stdout",
     "output_type": "stream",
     "text": [
      "epoch: 2, [batch: 634 / 6333], examples_per_second: 4165.8537, train_label_loss: 0.0001, \n"
     ]
    },
    {
     "name": "stdout",
     "output_type": "stream",
     "text": [
      "epoch: 2, [batch: 1267 / 6333], examples_per_second: 4288.6046, train_label_loss: 0.0006, \n"
     ]
    },
    {
     "name": "stdout",
     "output_type": "stream",
     "text": [
      "epoch: 2, [batch: 1900 / 6333], examples_per_second: 4262.2116, train_label_loss: 0.1799, \n"
     ]
    },
    {
     "name": "stdout",
     "output_type": "stream",
     "text": [
      "epoch: 2, [batch: 2533 / 6333], examples_per_second: 4193.4392, train_label_loss: 0.0002, \n"
     ]
    },
    {
     "name": "stdout",
     "output_type": "stream",
     "text": [
      "epoch: 2, [batch: 3167 / 6333], examples_per_second: 4311.7944, train_label_loss: 0.0000, \n"
     ]
    },
    {
     "name": "stdout",
     "output_type": "stream",
     "text": [
      "epoch: 2, [batch: 3800 / 6333], examples_per_second: 4335.8905, train_label_loss: 0.0000, \n"
     ]
    },
    {
     "name": "stdout",
     "output_type": "stream",
     "text": [
      "epoch: 2, [batch: 4433 / 6333], examples_per_second: 4197.4203, train_label_loss: 0.0000, \n"
     ]
    },
    {
     "name": "stdout",
     "output_type": "stream",
     "text": [
      "epoch: 2, [batch: 5066 / 6333], examples_per_second: 4152.0011, train_label_loss: 0.0011, \n"
     ]
    },
    {
     "name": "stdout",
     "output_type": "stream",
     "text": [
      "epoch: 2, [batch: 5699 / 6333], examples_per_second: 4236.5493, train_label_loss: 0.0000, \n"
     ]
    },
    {
     "name": "stdout",
     "output_type": "stream",
     "text": [
      "=============================================================\n",
      "epoch: 2, source_val_acc_label: 0.9979, target_val_acc_label: 0.1462, source_val_label_loss: 0.0131, target_val_label_loss: 3.2583, \n",
      "=============================================================\n"
     ]
    },
    {
     "name": "stdout",
     "output_type": "stream",
     "text": [
      "New best\n"
     ]
    },
    {
     "name": "stdout",
     "output_type": "stream",
     "text": [
      "epoch: 3, [batch: 1 / 6305], examples_per_second: 4.6720, train_label_loss: 0.0000, \n"
     ]
    },
    {
     "name": "stdout",
     "output_type": "stream",
     "text": [
      "epoch: 3, [batch: 631 / 6305], examples_per_second: 4186.4336, train_label_loss: 0.0000, \n"
     ]
    },
    {
     "name": "stdout",
     "output_type": "stream",
     "text": [
      "epoch: 3, [batch: 1261 / 6305], examples_per_second: 4184.6585, train_label_loss: 0.0000, \n"
     ]
    },
    {
     "name": "stdout",
     "output_type": "stream",
     "text": [
      "epoch: 3, [batch: 1892 / 6305], examples_per_second: 4213.4546, train_label_loss: 0.0000, \n"
     ]
    },
    {
     "name": "stdout",
     "output_type": "stream",
     "text": [
      "epoch: 3, [batch: 2522 / 6305], examples_per_second: 4485.8464, train_label_loss: 0.2001, \n"
     ]
    },
    {
     "name": "stdout",
     "output_type": "stream",
     "text": [
      "epoch: 3, [batch: 3153 / 6305], examples_per_second: 4198.2925, train_label_loss: 0.0000, \n"
     ]
    },
    {
     "name": "stdout",
     "output_type": "stream",
     "text": [
      "epoch: 3, [batch: 3783 / 6305], examples_per_second: 4148.2735, train_label_loss: 0.0000, \n"
     ]
    },
    {
     "name": "stdout",
     "output_type": "stream",
     "text": [
      "epoch: 3, [batch: 4413 / 6305], examples_per_second: 4167.7197, train_label_loss: 0.0000, \n"
     ]
    },
    {
     "name": "stdout",
     "output_type": "stream",
     "text": [
      "epoch: 3, [batch: 5044 / 6305], examples_per_second: 4178.1580, train_label_loss: 0.0000, \n"
     ]
    },
    {
     "name": "stdout",
     "output_type": "stream",
     "text": [
      "epoch: 3, [batch: 5674 / 6305], examples_per_second: 4167.0617, train_label_loss: 0.0000, \n"
     ]
    },
    {
     "name": "stdout",
     "output_type": "stream",
     "text": [
      "=============================================================\n",
      "epoch: 3, source_val_acc_label: 0.9991, target_val_acc_label: 0.1530, source_val_label_loss: 0.0109, target_val_label_loss: 3.3134, \n",
      "=============================================================\n"
     ]
    },
    {
     "name": "stdout",
     "output_type": "stream",
     "text": [
      "New best\n"
     ]
    },
    {
     "name": "stdout",
     "output_type": "stream",
     "text": [
      "epoch: 4, [batch: 1 / 6323], examples_per_second: 4.4206, train_label_loss: 0.0000, \n"
     ]
    },
    {
     "name": "stdout",
     "output_type": "stream",
     "text": [
      "epoch: 4, [batch: 633 / 6323], examples_per_second: 5015.0923, train_label_loss: 0.0000, \n"
     ]
    },
    {
     "name": "stdout",
     "output_type": "stream",
     "text": [
      "epoch: 4, [batch: 1265 / 6323], examples_per_second: 5048.1282, train_label_loss: 0.0000, \n"
     ]
    },
    {
     "name": "stdout",
     "output_type": "stream",
     "text": [
      "epoch: 4, [batch: 1897 / 6323], examples_per_second: 4874.0092, train_label_loss: 0.0000, \n"
     ]
    },
    {
     "name": "stdout",
     "output_type": "stream",
     "text": [
      "epoch: 4, [batch: 2529 / 6323], examples_per_second: 4810.5723, train_label_loss: 0.0000, \n"
     ]
    },
    {
     "name": "stdout",
     "output_type": "stream",
     "text": [
      "epoch: 4, [batch: 3162 / 6323], examples_per_second: 4933.9021, train_label_loss: 0.0000, \n"
     ]
    },
    {
     "name": "stdout",
     "output_type": "stream",
     "text": [
      "epoch: 4, [batch: 3794 / 6323], examples_per_second: 4945.1969, train_label_loss: 0.0000, \n"
     ]
    },
    {
     "name": "stdout",
     "output_type": "stream",
     "text": [
      "epoch: 4, [batch: 4426 / 6323], examples_per_second: 4953.8279, train_label_loss: 0.0000, \n"
     ]
    },
    {
     "name": "stdout",
     "output_type": "stream",
     "text": [
      "epoch: 4, [batch: 5058 / 6323], examples_per_second: 4923.3250, train_label_loss: 0.0000, \n"
     ]
    },
    {
     "name": "stdout",
     "output_type": "stream",
     "text": [
      "epoch: 4, [batch: 5690 / 6323], examples_per_second: 4804.6772, train_label_loss: 0.0000, \n"
     ]
    },
    {
     "name": "stdout",
     "output_type": "stream",
     "text": [
      "=============================================================\n",
      "epoch: 4, source_val_acc_label: 0.9991, target_val_acc_label: 0.1597, source_val_label_loss: 0.0113, target_val_label_loss: 3.4086, \n",
      "=============================================================\n"
     ]
    },
    {
     "name": "stdout",
     "output_type": "stream",
     "text": [
      "New best\n"
     ]
    },
    {
     "name": "stdout",
     "output_type": "stream",
     "text": [
      "epoch: 5, [batch: 1 / 6317], examples_per_second: 5.3895, train_label_loss: 0.0000, \n"
     ]
    },
    {
     "name": "stdout",
     "output_type": "stream",
     "text": [
      "epoch: 5, [batch: 632 / 6317], examples_per_second: 4704.4767, train_label_loss: 0.0000, \n"
     ]
    },
    {
     "name": "stdout",
     "output_type": "stream",
     "text": [
      "epoch: 5, [batch: 1264 / 6317], examples_per_second: 5015.0785, train_label_loss: 0.0000, \n"
     ]
    },
    {
     "name": "stdout",
     "output_type": "stream",
     "text": [
      "epoch: 5, [batch: 1895 / 6317], examples_per_second: 4909.2838, train_label_loss: 0.0002, \n"
     ]
    },
    {
     "name": "stdout",
     "output_type": "stream",
     "text": [
      "epoch: 5, [batch: 2527 / 6317], examples_per_second: 4807.1963, train_label_loss: 0.0000, \n"
     ]
    },
    {
     "name": "stdout",
     "output_type": "stream",
     "text": [
      "epoch: 5, [batch: 3159 / 6317], examples_per_second: 4807.1322, train_label_loss: 0.0181, \n"
     ]
    },
    {
     "name": "stdout",
     "output_type": "stream",
     "text": [
      "epoch: 5, [batch: 3790 / 6317], examples_per_second: 4899.8221, train_label_loss: 0.0000, \n"
     ]
    },
    {
     "name": "stdout",
     "output_type": "stream",
     "text": [
      "epoch: 5, [batch: 4422 / 6317], examples_per_second: 4832.9942, train_label_loss: 0.0000, \n"
     ]
    },
    {
     "name": "stdout",
     "output_type": "stream",
     "text": [
      "epoch: 5, [batch: 5053 / 6317], examples_per_second: 5109.8779, train_label_loss: 0.0001, \n"
     ]
    },
    {
     "name": "stdout",
     "output_type": "stream",
     "text": [
      "epoch: 5, [batch: 5685 / 6317], examples_per_second: 5015.7072, train_label_loss: 0.1023, \n"
     ]
    },
    {
     "name": "stdout",
     "output_type": "stream",
     "text": [
      "=============================================================\n",
      "epoch: 5, source_val_acc_label: 0.9992, target_val_acc_label: 0.1480, source_val_label_loss: 0.0133, target_val_label_loss: 3.6607, \n",
      "=============================================================\n"
     ]
    },
    {
     "name": "stdout",
     "output_type": "stream",
     "text": [
      "epoch: 6, [batch: 1 / 6329], examples_per_second: 5.4740, train_label_loss: 0.0001, \n"
     ]
    },
    {
     "name": "stdout",
     "output_type": "stream",
     "text": [
      "epoch: 6, [batch: 633 / 6329], examples_per_second: 4824.6461, train_label_loss: 0.0000, \n"
     ]
    },
    {
     "name": "stdout",
     "output_type": "stream",
     "text": [
      "epoch: 6, [batch: 1266 / 6329], examples_per_second: 5140.0708, train_label_loss: 0.0000, \n"
     ]
    },
    {
     "name": "stdout",
     "output_type": "stream",
     "text": [
      "epoch: 6, [batch: 1899 / 6329], examples_per_second: 4982.5736, train_label_loss: 0.0000, \n"
     ]
    },
    {
     "name": "stdout",
     "output_type": "stream",
     "text": [
      "epoch: 6, [batch: 2532 / 6329], examples_per_second: 5090.4573, train_label_loss: 0.0000, \n"
     ]
    },
    {
     "name": "stdout",
     "output_type": "stream",
     "text": [
      "epoch: 6, [batch: 3165 / 6329], examples_per_second: 5103.6340, train_label_loss: 0.0000, \n"
     ]
    },
    {
     "name": "stdout",
     "output_type": "stream",
     "text": [
      "epoch: 6, [batch: 3797 / 6329], examples_per_second: 5090.4478, train_label_loss: 0.0000, \n"
     ]
    },
    {
     "name": "stdout",
     "output_type": "stream",
     "text": [
      "epoch: 6, [batch: 4430 / 6329], examples_per_second: 5010.8895, train_label_loss: 0.0000, \n"
     ]
    },
    {
     "name": "stdout",
     "output_type": "stream",
     "text": [
      "epoch: 6, [batch: 5063 / 6329], examples_per_second: 4237.5773, train_label_loss: 0.0000, \n"
     ]
    },
    {
     "name": "stdout",
     "output_type": "stream",
     "text": [
      "epoch: 6, [batch: 5696 / 6329], examples_per_second: 3805.6648, train_label_loss: 0.0000, \n"
     ]
    },
    {
     "name": "stdout",
     "output_type": "stream",
     "text": [
      "=============================================================\n",
      "epoch: 6, source_val_acc_label: 0.9994, target_val_acc_label: 0.1764, source_val_label_loss: 0.0121, target_val_label_loss: 3.8167, \n",
      "=============================================================\n"
     ]
    },
    {
     "name": "stdout",
     "output_type": "stream",
     "text": [
      "New best\n"
     ]
    },
    {
     "name": "stdout",
     "output_type": "stream",
     "text": [
      "epoch: 7, [batch: 1 / 6316], examples_per_second: 4.0861, train_label_loss: 0.0000, \n"
     ]
    },
    {
     "name": "stdout",
     "output_type": "stream",
     "text": [
      "epoch: 7, [batch: 632 / 6316], examples_per_second: 3831.0530, train_label_loss: 0.0001, \n"
     ]
    },
    {
     "name": "stdout",
     "output_type": "stream",
     "text": [
      "epoch: 7, [batch: 1264 / 6316], examples_per_second: 3895.2421, train_label_loss: 0.0000, \n"
     ]
    },
    {
     "name": "stdout",
     "output_type": "stream",
     "text": [
      "epoch: 7, [batch: 1895 / 6316], examples_per_second: 3873.6963, train_label_loss: 0.0000, \n"
     ]
    },
    {
     "name": "stdout",
     "output_type": "stream",
     "text": [
      "epoch: 7, [batch: 2527 / 6316], examples_per_second: 3810.0629, train_label_loss: 0.0000, \n"
     ]
    },
    {
     "name": "stdout",
     "output_type": "stream",
     "text": [
      "epoch: 7, [batch: 3158 / 6316], examples_per_second: 3948.2452, train_label_loss: 0.0000, \n"
     ]
    },
    {
     "name": "stdout",
     "output_type": "stream",
     "text": [
      "epoch: 7, [batch: 3790 / 6316], examples_per_second: 4191.2163, train_label_loss: 0.4204, \n"
     ]
    },
    {
     "name": "stdout",
     "output_type": "stream",
     "text": [
      "epoch: 7, [batch: 4421 / 6316], examples_per_second: 4317.6372, train_label_loss: 0.0000, \n"
     ]
    },
    {
     "name": "stdout",
     "output_type": "stream",
     "text": [
      "epoch: 7, [batch: 5053 / 6316], examples_per_second: 4210.2267, train_label_loss: 0.0000, \n"
     ]
    },
    {
     "name": "stdout",
     "output_type": "stream",
     "text": [
      "epoch: 7, [batch: 5684 / 6316], examples_per_second: 4228.8958, train_label_loss: 0.0008, \n"
     ]
    },
    {
     "name": "stdout",
     "output_type": "stream",
     "text": [
      "=============================================================\n",
      "epoch: 7, source_val_acc_label: 0.9992, target_val_acc_label: 0.1580, source_val_label_loss: 0.0139, target_val_label_loss: 3.6069, \n",
      "=============================================================\n"
     ]
    },
    {
     "name": "stdout",
     "output_type": "stream",
     "text": [
      "epoch: 8, [batch: 1 / 6315], examples_per_second: 4.7521, train_label_loss: 0.0000, \n"
     ]
    },
    {
     "name": "stdout",
     "output_type": "stream",
     "text": [
      "epoch: 8, [batch: 632 / 6315], examples_per_second: 3846.7038, train_label_loss: 0.0000, \n"
     ]
    },
    {
     "name": "stdout",
     "output_type": "stream",
     "text": [
      "epoch: 8, [batch: 1263 / 6315], examples_per_second: 3961.2484, train_label_loss: 0.0000, \n"
     ]
    },
    {
     "name": "stdout",
     "output_type": "stream",
     "text": [
      "epoch: 8, [batch: 1895 / 6315], examples_per_second: 3910.3470, train_label_loss: 0.0001, \n"
     ]
    },
    {
     "name": "stdout",
     "output_type": "stream",
     "text": [
      "epoch: 8, [batch: 2526 / 6315], examples_per_second: 3831.5299, train_label_loss: 0.0000, \n"
     ]
    },
    {
     "name": "stdout",
     "output_type": "stream",
     "text": [
      "epoch: 8, [batch: 3158 / 6315], examples_per_second: 3901.7237, train_label_loss: 0.0000, \n"
     ]
    },
    {
     "name": "stdout",
     "output_type": "stream",
     "text": [
      "epoch: 8, [batch: 3789 / 6315], examples_per_second: 3885.2590, train_label_loss: 0.0000, \n"
     ]
    },
    {
     "name": "stdout",
     "output_type": "stream",
     "text": [
      "epoch: 8, [batch: 4420 / 6315], examples_per_second: 3847.8853, train_label_loss: 0.0000, \n"
     ]
    },
    {
     "name": "stdout",
     "output_type": "stream",
     "text": [
      "epoch: 8, [batch: 5052 / 6315], examples_per_second: 3893.2370, train_label_loss: 0.0000, \n"
     ]
    },
    {
     "name": "stdout",
     "output_type": "stream",
     "text": [
      "epoch: 8, [batch: 5683 / 6315], examples_per_second: 3907.5345, train_label_loss: 0.0000, \n"
     ]
    },
    {
     "name": "stdout",
     "output_type": "stream",
     "text": [
      "=============================================================\n",
      "epoch: 8, source_val_acc_label: 0.9994, target_val_acc_label: 0.1373, source_val_label_loss: 0.0148, target_val_label_loss: 4.0021, \n",
      "=============================================================\n"
     ]
    },
    {
     "name": "stdout",
     "output_type": "stream",
     "text": [
      "epoch: 9, [batch: 1 / 6317], examples_per_second: 4.4701, train_label_loss: 0.0000, \n"
     ]
    },
    {
     "name": "stdout",
     "output_type": "stream",
     "text": [
      "epoch: 9, [batch: 632 / 6317], examples_per_second: 4190.1733, train_label_loss: 0.0000, \n"
     ]
    },
    {
     "name": "stdout",
     "output_type": "stream",
     "text": [
      "epoch: 9, [batch: 1264 / 6317], examples_per_second: 4529.0358, train_label_loss: 0.0000, \n"
     ]
    },
    {
     "name": "stdout",
     "output_type": "stream",
     "text": [
      "epoch: 9, [batch: 1895 / 6317], examples_per_second: 4182.2994, train_label_loss: 0.0000, \n"
     ]
    },
    {
     "name": "stdout",
     "output_type": "stream",
     "text": [
      "epoch: 9, [batch: 2527 / 6317], examples_per_second: 3977.0578, train_label_loss: 0.0000, \n"
     ]
    },
    {
     "name": "stdout",
     "output_type": "stream",
     "text": [
      "epoch: 9, [batch: 3159 / 6317], examples_per_second: 3938.2915, train_label_loss: 0.0000, \n"
     ]
    },
    {
     "name": "stdout",
     "output_type": "stream",
     "text": [
      "epoch: 9, [batch: 3790 / 6317], examples_per_second: 3935.8407, train_label_loss: 0.0000, \n"
     ]
    },
    {
     "name": "stdout",
     "output_type": "stream",
     "text": [
      "epoch: 9, [batch: 4422 / 6317], examples_per_second: 3990.9066, train_label_loss: 0.0000, \n"
     ]
    },
    {
     "name": "stdout",
     "output_type": "stream",
     "text": [
      "epoch: 9, [batch: 5053 / 6317], examples_per_second: 4008.8608, train_label_loss: 0.0000, \n"
     ]
    },
    {
     "name": "stdout",
     "output_type": "stream",
     "text": [
      "epoch: 9, [batch: 5685 / 6317], examples_per_second: 3846.0733, train_label_loss: 0.0004, \n"
     ]
    },
    {
     "name": "stdout",
     "output_type": "stream",
     "text": [
      "=============================================================\n",
      "epoch: 9, source_val_acc_label: 0.9992, target_val_acc_label: 0.1527, source_val_label_loss: 0.0177, target_val_label_loss: 4.9825, \n",
      "=============================================================\n"
     ]
    },
    {
     "name": "stdout",
     "output_type": "stream",
     "text": [
      "epoch: 10, [batch: 1 / 6296], examples_per_second: 4.0844, train_label_loss: 0.0000, \n"
     ]
    },
    {
     "name": "stdout",
     "output_type": "stream",
     "text": [
      "epoch: 10, [batch: 630 / 6296], examples_per_second: 4180.2267, train_label_loss: 0.0000, \n"
     ]
    },
    {
     "name": "stdout",
     "output_type": "stream",
     "text": [
      "epoch: 10, [batch: 1260 / 6296], examples_per_second: 4117.3522, train_label_loss: 0.0000, \n"
     ]
    },
    {
     "name": "stdout",
     "output_type": "stream",
     "text": [
      "epoch: 10, [batch: 1889 / 6296], examples_per_second: 4227.8402, train_label_loss: 0.0000, \n"
     ]
    },
    {
     "name": "stdout",
     "output_type": "stream",
     "text": [
      "epoch: 10, [batch: 2519 / 6296], examples_per_second: 4197.2743, train_label_loss: 0.0000, \n"
     ]
    },
    {
     "name": "stdout",
     "output_type": "stream",
     "text": [
      "epoch: 10, [batch: 3148 / 6296], examples_per_second: 4246.0863, train_label_loss: 0.0000, \n"
     ]
    },
    {
     "name": "stdout",
     "output_type": "stream",
     "text": [
      "epoch: 10, [batch: 3778 / 6296], examples_per_second: 4701.5283, train_label_loss: 0.0000, \n"
     ]
    },
    {
     "name": "stdout",
     "output_type": "stream",
     "text": [
      "epoch: 10, [batch: 4407 / 6296], examples_per_second: 3876.7709, train_label_loss: 0.0000, \n"
     ]
    },
    {
     "name": "stdout",
     "output_type": "stream",
     "text": [
      "epoch: 10, [batch: 5037 / 6296], examples_per_second: 4012.7979, train_label_loss: 0.0000, \n"
     ]
    },
    {
     "name": "stdout",
     "output_type": "stream",
     "text": [
      "epoch: 10, [batch: 5666 / 6296], examples_per_second: 3934.2615, train_label_loss: 0.0000, \n"
     ]
    },
    {
     "name": "stdout",
     "output_type": "stream",
     "text": [
      "=============================================================\n",
      "epoch: 10, source_val_acc_label: 0.9996, target_val_acc_label: 0.1701, source_val_label_loss: 0.0158, target_val_label_loss: 4.7775, \n",
      "=============================================================\n"
     ]
    },
    {
     "name": "stdout",
     "output_type": "stream",
     "text": [
      "Patience (3) exhausted\n"
     ]
    }
   ],
   "source": [
    "###################################\n",
    "# train\n",
    "###################################\n",
    "jig = PTN_Train_Eval_Test_Jig(model, p.BEST_MODEL_PATH, p.device)\n",
    "\n",
    "jig.train(\n",
    "    train_iterable=datasets.source.processed.train,\n",
    "    source_val_iterable=datasets.source.processed.val,\n",
    "    target_val_iterable=datasets.target.processed.val,\n",
    "    num_epochs=p.n_epoch,\n",
    "    num_logs_per_epoch=p.NUM_LOGS_PER_EPOCH,\n",
    "    patience=p.patience,\n",
    "    optimizer=optimizer,\n",
    "    criteria_for_best=p.criteria_for_best,\n",
    ")"
   ]
  },
  {
   "cell_type": "code",
   "execution_count": 23,
   "id": "31e8fabf",
   "metadata": {
    "execution": {
     "iopub.execute_input": "2022-03-22T11:43:43.251898Z",
     "iopub.status.busy": "2022-03-22T11:43:43.251502Z",
     "iopub.status.idle": "2022-03-22T11:43:43.284994Z",
     "shell.execute_reply": "2022-03-22T11:43:43.284269Z"
    },
    "papermill": {
     "duration": 0.093652,
     "end_time": "2022-03-22T11:43:43.285166",
     "exception": false,
     "start_time": "2022-03-22T11:43:43.191514",
     "status": "completed"
    },
    "tags": []
   },
   "outputs": [],
   "source": [
    "total_experiment_time_secs = time.time() - start_time_secs"
   ]
  },
  {
   "cell_type": "code",
   "execution_count": 24,
   "id": "87b9595b",
   "metadata": {
    "execution": {
     "iopub.execute_input": "2022-03-22T11:43:43.420583Z",
     "iopub.status.busy": "2022-03-22T11:43:43.420015Z",
     "iopub.status.idle": "2022-03-22T11:46:26.360905Z",
     "shell.execute_reply": "2022-03-22T11:46:26.360155Z"
    },
    "papermill": {
     "duration": 163.016185,
     "end_time": "2022-03-22T11:46:26.361098",
     "exception": false,
     "start_time": "2022-03-22T11:43:43.344913",
     "status": "completed"
    },
    "tags": []
   },
   "outputs": [],
   "source": [
    "###################################\n",
    "# Evaluate the model\n",
    "###################################\n",
    "source_test_label_accuracy, source_test_label_loss = jig.test(datasets.source.processed.test)\n",
    "target_test_label_accuracy, target_test_label_loss = jig.test(datasets.target.processed.test)\n",
    "\n",
    "source_val_label_accuracy, source_val_label_loss = jig.test(datasets.source.processed.val)\n",
    "target_val_label_accuracy, target_val_label_loss = jig.test(datasets.target.processed.val)\n",
    "\n",
    "history = jig.get_history()\n",
    "\n",
    "total_epochs_trained = len(history[\"epoch_indices\"])\n",
    "\n",
    "val_dl = Iterable_Aggregator((datasets.source.original.val,datasets.target.original.val))\n",
    "\n",
    "confusion = ptn_confusion_by_domain_over_dataloader(model, p.device, val_dl)\n",
    "per_domain_accuracy = per_domain_accuracy_from_confusion(confusion)\n",
    "\n",
    "# Add a key to per_domain_accuracy for if it was a source domain\n",
    "for domain, accuracy in per_domain_accuracy.items():\n",
    "    per_domain_accuracy[domain] = {\n",
    "        \"accuracy\": accuracy,\n",
    "        \"source?\": domain in p.domains_source\n",
    "    }\n",
    "\n",
    "# Do an independent accuracy assesment JUST TO BE SURE!\n",
    "# _source_test_label_accuracy = independent_accuracy_assesment(model, datasets.source.processed.test, p.device)\n",
    "# _target_test_label_accuracy = independent_accuracy_assesment(model, datasets.target.processed.test, p.device)\n",
    "# _source_val_label_accuracy = independent_accuracy_assesment(model, datasets.source.processed.val, p.device)\n",
    "# _target_val_label_accuracy = independent_accuracy_assesment(model, datasets.target.processed.val, p.device)\n",
    "\n",
    "# assert(_source_test_label_accuracy == source_test_label_accuracy)\n",
    "# assert(_target_test_label_accuracy == target_test_label_accuracy)\n",
    "# assert(_source_val_label_accuracy == source_val_label_accuracy)\n",
    "# assert(_target_val_label_accuracy == target_val_label_accuracy)\n",
    "\n",
    "experiment = {\n",
    "    \"experiment_name\": p.experiment_name,\n",
    "    \"parameters\": dict(p),\n",
    "    \"results\": {\n",
    "        \"source_test_label_accuracy\": source_test_label_accuracy,\n",
    "        \"source_test_label_loss\": source_test_label_loss,\n",
    "        \"target_test_label_accuracy\": target_test_label_accuracy,\n",
    "        \"target_test_label_loss\": target_test_label_loss,\n",
    "        \"source_val_label_accuracy\": source_val_label_accuracy,\n",
    "        \"source_val_label_loss\": source_val_label_loss,\n",
    "        \"target_val_label_accuracy\": target_val_label_accuracy,\n",
    "        \"target_val_label_loss\": target_val_label_loss,\n",
    "        \"total_epochs_trained\": total_epochs_trained,\n",
    "        \"total_experiment_time_secs\": total_experiment_time_secs,\n",
    "        \"confusion\": confusion,\n",
    "        \"per_domain_accuracy\": per_domain_accuracy,\n",
    "    },\n",
    "    \"history\": history,\n",
    "    \"dataset_metrics\": get_dataset_metrics(datasets, \"ptn\"),\n",
    "}"
   ]
  },
  {
   "cell_type": "code",
   "execution_count": 25,
   "id": "54a21829",
   "metadata": {
    "execution": {
     "iopub.execute_input": "2022-03-22T11:46:26.475652Z",
     "iopub.status.busy": "2022-03-22T11:46:26.475269Z",
     "iopub.status.idle": "2022-03-22T11:46:26.682687Z",
     "shell.execute_reply": "2022-03-22T11:46:26.683363Z"
    },
    "papermill": {
     "duration": 0.265378,
     "end_time": "2022-03-22T11:46:26.683594",
     "exception": false,
     "start_time": "2022-03-22T11:46:26.418216",
     "status": "completed"
    },
    "tags": []
   },
   "outputs": [
    {
     "data": {
      "image/png": "[encoded data removed]",
      "text/plain": [
       "<Figure size 1080x504 with 1 Axes>"
      ]
     },
     "metadata": {
      "needs_background": "light"
     },
     "output_type": "display_data"
    }
   ],
   "source": [
    "ax = get_loss_curve(experiment)\n",
    "plt.show()"
   ]
  },
  {
   "cell_type": "code",
   "execution_count": 26,
   "id": "fd8a0f60",
   "metadata": {
    "execution": {
     "iopub.execute_input": "2022-03-22T11:46:26.799452Z",
     "iopub.status.busy": "2022-03-22T11:46:26.799083Z",
     "iopub.status.idle": "2022-03-22T11:46:27.174815Z",
     "shell.execute_reply": "2022-03-22T11:46:27.175499Z"
    },
    "papermill": {
     "duration": 0.434867,
     "end_time": "2022-03-22T11:46:27.175733",
     "exception": false,
     "start_time": "2022-03-22T11:46:26.740866",
     "status": "completed"
    },
    "tags": []
   },
   "outputs": [
    {
     "data": {
      "text/plain": [
       "<AxesSubplot:title={'center':'Results'}>"
      ]
     },
     "execution_count": 26,
     "metadata": {},
     "output_type": "execute_result"
    },
    {
     "data": {
      "image/png": "[encoded data removed]",
      "text/plain": [
       "<Figure size 1080x504 with 1 Axes>"
      ]
     },
     "metadata": {
      "needs_background": "light"
     },
     "output_type": "display_data"
    }
   ],
   "source": [
    "get_results_table(experiment)"
   ]
  },
  {
   "cell_type": "code",
   "execution_count": 27,
   "id": "cf8dc689",
   "metadata": {
    "execution": {
     "iopub.execute_input": "2022-03-22T11:46:27.295691Z",
     "iopub.status.busy": "2022-03-22T11:46:27.295314Z",
     "iopub.status.idle": "2022-03-22T11:46:27.554175Z",
     "shell.execute_reply": "2022-03-22T11:46:27.554845Z"
    },
    "papermill": {
     "duration": 0.319937,
     "end_time": "2022-03-22T11:46:27.555063",
     "exception": false,
     "start_time": "2022-03-22T11:46:27.235126",
     "status": "completed"
    },
    "tags": []
   },
   "outputs": [
    {
     "data": {
      "text/plain": [
       "<AxesSubplot:title={'center':'Per Domain Validation Accuracy'}, xlabel='domain'>"
      ]
     },
     "execution_count": 27,
     "metadata": {},
     "output_type": "execute_result"
    },
    {
     "data": {
      "image/png": "[encoded data removed]",
      "text/plain": [
       "<Figure size 1080x504 with 1 Axes>"
      ]
     },
     "metadata": {
      "needs_background": "light"
     },
     "output_type": "display_data"
    }
   ],
   "source": [
    "get_domain_accuracies(experiment)"
   ]
  },
  {
   "cell_type": "code",
   "execution_count": 28,
   "id": "a74ae082",
   "metadata": {
    "execution": {
     "iopub.execute_input": "2022-03-22T11:46:27.678884Z",
     "iopub.status.busy": "2022-03-22T11:46:27.678313Z",
     "iopub.status.idle": "2022-03-22T11:46:27.705045Z",
     "shell.execute_reply": "2022-03-22T11:46:27.704226Z"
    },
    "papermill": {
     "duration": 0.089163,
     "end_time": "2022-03-22T11:46:27.705211",
     "exception": false,
     "start_time": "2022-03-22T11:46:27.616048",
     "status": "completed"
    },
    "tags": []
   },
   "outputs": [
    {
     "name": "stdout",
     "output_type": "stream",
     "text": [
      "Source Test Label Accuracy: 0.9992301231802911 Target Test Label Accuracy: 0.17972005208333333\n",
      "Source Val Label Accuracy: 0.9994279176201373 Target Val Label Accuracy: 0.1763671875\n"
     ]
    }
   ],
   "source": [
    "print(\"Source Test Label Accuracy:\", experiment[\"results\"][\"source_test_label_accuracy\"], \"Target Test Label Accuracy:\", experiment[\"results\"][\"target_test_label_accuracy\"])\n",
    "print(\"Source Val Label Accuracy:\", experiment[\"results\"][\"source_val_label_accuracy\"], \"Target Val Label Accuracy:\", experiment[\"results\"][\"target_val_label_accuracy\"])"
   ]
  },
  {
   "cell_type": "code",
   "execution_count": 29,
   "id": "dacca602",
   "metadata": {
    "execution": {
     "iopub.execute_input": "2022-03-22T11:46:27.826284Z",
     "iopub.status.busy": "2022-03-22T11:46:27.825923Z",
     "iopub.status.idle": "2022-03-22T11:46:27.852668Z",
     "shell.execute_reply": "2022-03-22T11:46:27.853340Z"
    },
    "papermill": {
     "duration": 0.086717,
     "end_time": "2022-03-22T11:46:27.853539",
     "exception": false,
     "start_time": "2022-03-22T11:46:27.766822",
     "status": "completed"
    },
    "tags": [
     "experiment_json"
    ]
   },
   "outputs": [
    {
     "data": {
      "text/plain": [
       "'{\"experiment_name\": \"tl_1v2:cores-oracle.run1.limited\", \"parameters\": {\"experiment_name\": \"tl_1v2:cores-oracle.run1.limited\", \"device\": \"cuda\", \"lr\": 0.0001, \"n_shot\": 3, \"n_query\": 2, \"train_k_factor\": 3, \"val_k_factor\": 2, \"test_k_factor\": 2, \"torch_default_dtype\": \"torch.float32\", \"n_epoch\": 50, \"patience\": 3, \"criteria_for_best\": \"target_accuracy\", \"x_net\": [{\"class\": \"nnReshape\", \"kargs\": {\"shape\": [-1, 1, 2, 256]}}, {\"class\": \"Conv2d\", \"kargs\": {\"in_channels\": 1, \"out_channels\": 256, \"kernel_size\": [1, 7], \"bias\": false, \"padding\": [0, 3]}}, {\"class\": \"ReLU\", \"kargs\": {\"inplace\": true}}, {\"class\": \"BatchNorm2d\", \"kargs\": {\"num_features\": 256}}, {\"class\": \"Conv2d\", \"kargs\": {\"in_channels\": 256, \"out_channels\": 80, \"kernel_size\": [2, 7], \"bias\": true, \"padding\": [0, 3]}}, {\"class\": \"ReLU\", \"kargs\": {\"inplace\": true}}, {\"class\": \"BatchNorm2d\", \"kargs\": {\"num_features\": 80}}, {\"class\": \"Flatten\", \"kargs\": {}}, {\"class\": \"Linear\", \"kargs\": {\"in_features\": 20480, \"out_features\": 256}}, {\"class\": \"ReLU\", \"kargs\": {\"inplace\": true}}, {\"class\": \"BatchNorm1d\", \"kargs\": {\"num_features\": 256}}, {\"class\": \"Linear\", \"kargs\": {\"in_features\": 256, \"out_features\": 256}}], \"NUM_LOGS_PER_EPOCH\": 10, \"BEST_MODEL_PATH\": \"./best_model.pth\", \"n_way\": 16, \"datasets\": [{\"labels\": [\"1-10.\", \"1-11.\", \"1-15.\", \"1-16.\", \"1-17.\", \"1-18.\", \"1-19.\", \"10-4.\", \"10-7.\", \"11-1.\", \"11-14.\", \"11-17.\", \"11-20.\", \"11-7.\", \"13-20.\", \"13-8.\", \"14-10.\", \"14-11.\", \"14-14.\", \"14-7.\", \"15-1.\", \"15-20.\", \"16-1.\", \"16-16.\", \"17-10.\", \"17-11.\", \"17-2.\", \"19-1.\", \"19-16.\", \"19-19.\", \"19-20.\", \"19-3.\", \"2-10.\", \"2-11.\", \"2-17.\", \"2-18.\", \"2-20.\", \"2-3.\", \"2-4.\", \"2-5.\", \"2-6.\", \"2-7.\", \"2-8.\", \"3-13.\", \"3-18.\", \"3-3.\", \"4-1.\", \"4-10.\", \"4-11.\", \"4-19.\", \"5-5.\", \"6-15.\", \"7-10.\", \"7-14.\", \"8-18.\", \"8-20.\", \"8-3.\", \"8-8.\"], \"domains\": [1, 2, 3, 4, 5], \"num_examples_per_domain_per_label\": -1, \"pickle_path\": \"/root/csc500-main/datasets/cores.stratified_ds.2022A.pkl\", \"source_or_target_dataset\": \"source\", \"x_transforms\": [\"unit_power\"], \"episode_transforms\": [], \"domain_prefix\": \"CORES_\"}, {\"labels\": [\"3123D52\", \"3123D65\", \"3123D79\", \"3123D80\", \"3123D54\", \"3123D70\", \"3123D7B\", \"3123D89\", \"3123D58\", \"3123D76\", \"3123D7D\", \"3123EFE\", \"3123D64\", \"3123D78\", \"3123D7E\", \"3124E4A\"], \"domains\": [32, 38, 8, 44, 14, 50, 20, 26], \"num_examples_per_domain_per_label\": 2000, \"pickle_path\": \"/root/csc500-main/datasets/oracle.Run1_10kExamples_stratified_ds.2022A.pkl\", \"source_or_target_dataset\": \"target\", \"x_transforms\": [\"unit_power\"], \"episode_transforms\": [], \"domain_prefix\": \"ORACLE.run1_\"}], \"dataset_seed\": 154325, \"seed\": 154325, \"x_shape\": [2, 256], \"domains_source\": [\"CORES_1\", \"CORES_2\", \"CORES_3\", \"CORES_4\", \"CORES_5\"], \"domains_target\": [\"ORACLE.run1_32\", \"ORACLE.run1_38\", \"ORACLE.run1_8\", \"ORACLE.run1_44\", \"ORACLE.run1_14\", \"ORACLE.run1_50\", \"ORACLE.run1_20\", \"ORACLE.run1_26\"]}, \"results\": {\"source_test_label_accuracy\": 0.9992301231802911, \"source_test_label_loss\": 0.007237886544317007, \"target_test_label_accuracy\": 0.17972005208333333, \"target_test_label_loss\": 3.8086700439453125, \"source_val_label_accuracy\": 0.9994279176201373, \"source_val_label_loss\": 0.01209146436303854, \"target_val_label_accuracy\": 0.1763671875, \"target_val_label_loss\": 3.816716432571411, \"total_epochs_trained\": 10, \"total_experiment_time_secs\": 1477.6604619026184, \"confusion\": {\"CORES_2\": {\"21\": {\"21\": 120}, \"4\": {\"4\": 130}, \"6\": {\"6\": 124}, \"10\": {\"10\": 112}, \"33\": {\"33\": 28}, \"56\": {\"56\": 122}, \"20\": {\"20\": 132}, \"24\": {\"24\": 96}, \"45\": {\"45\": 128}, \"32\": {\"32\": 28}, \"27\": {\"27\": 148}, \"53\": {\"53\": 136}, \"8\": {\"8\": 160}, \"54\": {\"54\": 108}, \"50\": {\"50\": 134}, \"44\": {\"44\": 100}, \"5\": {\"5\": 120}, \"38\": {\"38\": 20}, \"19\": {\"19\": 132}, \"1\": {\"1\": 112}, \"30\": {\"30\": 144}, \"15\": {\"15\": 144}, \"23\": {\"23\": 146}, \"35\": {\"35\": 32}, \"22\": {\"22\": 128}, \"40\": {\"40\": 140}, \"46\": {\"46\": 126}, \"3\": {\"3\": 92}, \"48\": {\"48\": 148}, \"52\": {\"52\": 124}, \"2\": {\"2\": 32}, \"26\": {\"26\": 24}, \"17\": {\"17\": 104}, \"55\": {\"55\": 144}, \"51\": {\"51\": 122}, \"42\": {\"42\": 36}, \"41\": {\"41\": 20}, \"31\": {\"31\": 28}, \"16\": {\"16\": 138}, \"36\": {\"36\": 116}, \"49\": {\"49\": 24}, \"0\": {\"0\": 48}, \"18\": {\"18\": 48}, \"25\": {\"25\": 146}, \"9\": {\"9\": 122}, \"47\": {\"47\": 132}, \"7\": {\"7\": 36}, \"37\": {\"37\": 36}, \"13\": {\"13\": 116}, \"14\": {\"14\": 24}, \"34\": {\"34\": 28}, \"57\": {\"57\": 140}, \"11\": {\"11\": 138}, \"39\": {\"39\": 28}, \"12\": {\"12\": 92}, \"28\": {\"28\": 28}, \"29\": {\"29\": 128}, \"43\": {\"43\": 140}}, \"CORES_5\": {\"12\": {\"12\": 96}, \"8\": {\"8\": 142}, \"29\": {\"29\": 132}, \"57\": {\"57\": 126}, \"38\": {\"38\": 32}, \"23\": {\"23\": 124}, \"56\": {\"56\": 138}, \"49\": {\"49\": 36}, \"4\": {\"4\": 100}, \"48\": {\"48\": 136}, \"21\": {\"21\": 144}, \"30\": {\"30\": 128}, \"1\": {\"1\": 148}, \"34\": {\"34\": 36}, \"35\": {\"35\": 36}, \"55\": {\"55\": 152}, \"5\": {\"5\": 122}, \"52\": {\"52\": 126}, \"6\": {\"6\": 127, \"50\": 1}, \"36\": {\"36\": 92}, \"41\": {\"41\": 28}, \"3\": {\"3\": 100}, \"28\": {\"28\": 32}, \"18\": {\"18\": 64}, \"25\": {\"25\": 136}, \"47\": {\"47\": 100}, \"13\": {\"13\": 160}, \"11\": {\"11\": 144}, \"53\": {\"53\": 143, \"6\": 1}, \"33\": {\"33\": 32}, \"46\": {\"46\": 148}, \"50\": {\"50\": 148}, \"10\": {\"10\": 68}, \"15\": {\"15\": 138}, \"44\": {\"44\": 140}, \"2\": {\"2\": 28}, \"7\": {\"7\": 32}, \"43\": {\"43\": 138}, \"32\": {\"32\": 31, \"27\": 1}, \"0\": {\"0\": 124}, \"39\": {\"39\": 20}, \"26\": {\"26\": 24}, \"27\": {\"27\": 112}, \"54\": {\"54\": 112}, \"17\": {\"17\": 116}, \"14\": {\"14\": 44}, \"16\": {\"16\": 148}, \"9\": {\"9\": 148}, \"19\": {\"19\": 152}, \"20\": {\"20\": 138}, \"37\": {\"37\": 24}, \"24\": {\"24\": 80}, \"40\": {\"40\": 122}, \"45\": {\"45\": 123, \"50\": 1}, \"22\": {\"22\": 28}, \"42\": {\"42\": 38, \"56\": 2}, \"51\": {\"51\": 118}, \"31\": {\"31\": 36}}, \"CORES_1\": {\"27\": {\"27\": 142}, \"2\": {\"2\": 36}, \"33\": {\"33\": 32}, \"45\": {\"45\": 156}, \"38\": {\"38\": 24}, \"4\": {\"4\": 132}, \"31\": {\"31\": 28}, \"55\": {\"55\": 140}, \"32\": {\"32\": 32}, \"57\": {\"57\": 140}, \"14\": {\"14\": 24}, \"16\": {\"16\": 140}, \"34\": {\"34\": 24}, \"56\": {\"56\": 126}, \"24\": {\"24\": 108}, \"30\": {\"30\": 112}, \"17\": {\"17\": 64}, \"13\": {\"13\": 138}, \"39\": {\"39\": 28}, \"50\": {\"50\": 146}, \"20\": {\"20\": 140}, \"41\": {\"41\": 24}, \"53\": {\"53\": 126}, \"48\": {\"48\": 142}, \"36\": {\"36\": 64}, \"8\": {\"8\": 140}, \"15\": {\"15\": 132}, \"40\": {\"40\": 156}, \"37\": {\"37\": 32}, \"21\": {\"21\": 120}, \"35\": {\"35\": 36}, \"49\": {\"49\": 32}, \"26\": {\"26\": 24}, \"28\": {\"28\": 28}, \"12\": {\"12\": 116}, \"5\": {\"5\": 152}, \"29\": {\"29\": 140}, \"47\": {\"47\": 140}, \"10\": {\"10\": 96}, \"18\": {\"18\": 71, \"50\": 1}, \"9\": {\"9\": 126}, \"3\": {\"3\": 140}, \"52\": {\"52\": 132}, \"25\": {\"25\": 136}, \"19\": {\"19\": 156}, \"11\": {\"11\": 136}, \"7\": {\"7\": 28}, \"23\": {\"23\": 136}, \"44\": {\"44\": 132}, \"42\": {\"42\": 40}, \"54\": {\"54\": 104}, \"1\": {\"1\": 99, \"57\": 1}, \"46\": {\"46\": 128}, \"6\": {\"6\": 96}, \"43\": {\"43\": 144}, \"51\": {\"51\": 142}, \"22\": {\"22\": 136}, \"0\": {\"0\": 128}}, \"CORES_4\": {\"32\": {\"32\": 24}, \"2\": {\"2\": 36}, \"41\": {\"41\": 36}, \"11\": {\"11\": 102}, \"57\": {\"57\": 100}, \"6\": {\"6\": 112}, \"23\": {\"23\": 136}, \"52\": {\"52\": 116}, \"38\": {\"38\": 40}, \"50\": {\"50\": 132}, \"55\": {\"55\": 152}, \"46\": {\"46\": 154}, \"37\": {\"37\": 24}, \"20\": {\"20\": 118}, \"49\": {\"49\": 20}, \"45\": {\"45\": 96}, \"54\": {\"54\": 108}, \"3\": {\"3\": 124}, \"13\": {\"13\": 152}, \"18\": {\"18\": 108}, \"21\": {\"21\": 125, \"50\": 1}, \"43\": {\"43\": 144}, \"47\": {\"47\": 120}, \"4\": {\"4\": 132}, \"12\": {\"12\": 92}, \"9\": {\"9\": 128}, \"7\": {\"7\": 24}, \"56\": {\"56\": 112}, \"28\": {\"28\": 32}, \"44\": {\"44\": 132}, \"24\": {\"24\": 56}, \"33\": {\"33\": 36}, \"35\": {\"35\": 40}, \"51\": {\"51\": 138}, \"39\": {\"39\": 20}, \"36\": {\"36\": 92}, \"19\": {\"19\": 140}, \"0\": {\"0\": 79, \"46\": 1}, \"15\": {\"15\": 136}, \"29\": {\"29\": 124}, \"30\": {\"30\": 44}, \"1\": {\"1\": 40}, \"22\": {\"22\": 128}, \"40\": {\"40\": 146}, \"8\": {\"8\": 128}, \"53\": {\"53\": 138}, \"34\": {\"34\": 24}, \"10\": {\"10\": 121, \"15\": 1}, \"31\": {\"31\": 28}, \"17\": {\"17\": 80}, \"16\": {\"16\": 96}, \"42\": {\"42\": 32}, \"27\": {\"27\": 142}, \"14\": {\"14\": 16}, \"25\": {\"25\": 122}, \"48\": {\"48\": 132}, \"26\": {\"26\": 24}, \"5\": {\"5\": 108}}, \"CORES_3\": {\"14\": {\"14\": 37, \"0\": 3}, \"18\": {\"18\": 84}, \"30\": {\"30\": 120}, \"16\": {\"16\": 156}, \"1\": {\"1\": 100}, \"20\": {\"20\": 132}, \"7\": {\"7\": 36}, \"52\": {\"52\": 130}, \"9\": {\"9\": 140}, \"23\": {\"23\": 144}, \"55\": {\"55\": 164}, \"29\": {\"29\": 126}, \"56\": {\"56\": 134}, \"3\": {\"3\": 124}, \"42\": {\"42\": 28}, \"6\": {\"6\": 88}, \"5\": {\"5\": 116}, \"27\": {\"27\": 144}, \"47\": {\"47\": 92}, \"39\": {\"39\": 16}, \"34\": {\"34\": 32}, \"4\": {\"4\": 126}, \"24\": {\"24\": 104}, \"46\": {\"46\": 118}, \"50\": {\"50\": 126}, \"38\": {\"38\": 28}, \"54\": {\"54\": 100}, \"35\": {\"35\": 28}, \"2\": {\"2\": 32}, \"41\": {\"41\": 28}, \"57\": {\"57\": 118}, \"25\": {\"25\": 150}, \"48\": {\"48\": 116}, \"33\": {\"33\": 28}, \"45\": {\"45\": 60}, \"13\": {\"13\": 126}, \"36\": {\"36\": 100}, \"43\": {\"43\": 132}, \"28\": {\"28\": 28}, \"0\": {\"0\": 124}, \"12\": {\"12\": 92}, \"31\": {\"31\": 28}, \"40\": {\"40\": 116}, \"44\": {\"44\": 87, \"40\": 1}, \"32\": {\"32\": 28}, \"26\": {\"26\": 24}, \"8\": {\"8\": 116}, \"10\": {\"10\": 64}, \"15\": {\"15\": 142}, \"21\": {\"21\": 127, \"50\": 1}, \"37\": {\"37\": 28}, \"17\": {\"17\": 108}, \"51\": {\"51\": 124}, \"53\": {\"53\": 144}, \"19\": {\"19\": 136}, \"49\": {\"49\": 20}, \"11\": {\"11\": 138}, \"22\": {\"22\": 130}}, \"ORACLE.run1_8\": {\"13\": {\"6\": 18, \"10\": 20, \"14\": 18, \"3\": 12, \"7\": 18, \"5\": 18, \"0\": 22, \"2\": 19, \"15\": 7, \"13\": 27, \"1\": 18, \"4\": 10, \"9\": 8, \"8\": 11, \"11\": 10, \"12\": 4}, \"9\": {\"4\": 6, \"10\": 23, \"14\": 4, \"9\": 135, \"5\": 17, \"7\": 5, \"1\": 13, \"11\": 6, \"0\": 16, \"13\": 10, \"6\": 5}, \"15\": {\"3\": 34, \"12\": 28, \"6\": 14, \"10\": 13, \"13\": 9, \"15\": 29, \"14\": 6, \"4\": 13, \"8\": 20, \"0\": 9, \"11\": 14, \"1\": 10, \"9\": 1, \"2\": 22, \"7\": 12, \"5\": 6}, \"2\": {\"3\": 33, \"15\": 27, \"13\": 10, \"2\": 46, \"6\": 12, \"8\": 15, \"0\": 9, \"4\": 8, \"7\": 18, \"12\": 27, \"5\": 6, \"1\": 6, \"10\": 9, \"14\": 8, \"11\": 5, \"9\": 1}, \"3\": {\"12\": 43, \"8\": 15, \"7\": 8, \"4\": 9, \"6\": 6, \"3\": 50, \"0\": 9, \"2\": 36, \"15\": 27, \"13\": 14, \"14\": 9, \"11\": 6, \"10\": 2, \"9\": 2, \"1\": 4}, \"8\": {\"8\": 26, \"12\": 27, \"13\": 16, \"15\": 23, \"5\": 6, \"3\": 17, \"0\": 10, \"4\": 15, \"11\": 20, \"1\": 23, \"9\": 1, \"10\": 11, \"6\": 9, \"7\": 9, \"2\": 16, \"14\": 11}, \"5\": {\"10\": 20, \"12\": 5, \"14\": 19, \"4\": 21, \"1\": 26, \"7\": 14, \"13\": 20, \"3\": 2, \"5\": 27, \"6\": 21, \"11\": 13, \"8\": 10, \"2\": 7, \"9\": 18, \"0\": 13, \"15\": 4}, \"14\": {\"0\": 21, \"12\": 7, \"4\": 11, \"7\": 15, \"10\": 26, \"6\": 18, \"1\": 17, \"8\": 13, \"3\": 8, \"14\": 22, \"5\": 11, \"2\": 12, \"11\": 17, \"13\": 17, \"15\": 20, \"9\": 5}, \"1\": {\"13\": 17, \"11\": 26, \"14\": 19, \"15\": 11, \"1\": 28, \"10\": 20, \"5\": 24, \"8\": 15, \"7\": 12, \"4\": 9, \"9\": 7, \"3\": 3, \"6\": 20, \"12\": 11, \"0\": 11, \"2\": 7}, \"0\": {\"10\": 24, \"15\": 10, \"14\": 12, \"13\": 19, \"6\": 28, \"8\": 10, \"5\": 14, \"0\": 26, \"1\": 12, \"3\": 7, \"7\": 11, \"4\": 19, \"2\": 18, \"11\": 10, \"12\": 10, \"9\": 10}, \"10\": {\"4\": 19, \"10\": 23, \"14\": 21, \"0\": 20, \"7\": 7, \"6\": 18, \"9\": 12, \"11\": 15, \"5\": 29, \"1\": 23, \"15\": 5, \"13\": 20, \"3\": 6, \"2\": 7, \"12\": 6, \"8\": 9}, \"6\": {\"6\": 23, \"0\": 20, \"1\": 21, \"7\": 19, \"13\": 13, \"3\": 11, \"4\": 15, \"2\": 16, \"14\": 18, \"15\": 10, \"5\": 10, \"11\": 21, \"8\": 16, \"12\": 12, \"10\": 14, \"9\": 1}, \"11\": {\"4\": 16, \"8\": 19, \"10\": 25, \"11\": 26, \"12\": 9, \"5\": 18, \"0\": 10, \"6\": 16, \"1\": 26, \"14\": 19, \"15\": 10, \"13\": 19, \"3\": 4, \"2\": 9, \"7\": 10, \"9\": 4}, \"7\": {\"3\": 15, \"10\": 16, \"2\": 19, \"13\": 18, \"14\": 15, \"12\": 26, \"15\": 15, \"6\": 15, \"4\": 16, \"8\": 16, \"7\": 21, \"11\": 7, \"1\": 14, \"5\": 11, \"0\": 13, \"9\": 3}, \"4\": {\"0\": 22, \"1\": 19, \"5\": 17, \"14\": 21, \"13\": 18, \"3\": 13, \"4\": 18, \"8\": 15, \"12\": 15, \"10\": 14, \"15\": 7, \"6\": 18, \"7\": 14, \"11\": 14, \"2\": 13, \"9\": 2}, \"12\": {\"15\": 29, \"11\": 9, \"13\": 7, \"7\": 18, \"8\": 24, \"2\": 20, \"0\": 10, \"12\": 46, \"3\": 38, \"4\": 12, \"10\": 5, \"5\": 3, \"1\": 7, \"6\": 5, \"14\": 7}}, \"ORACLE.run1_38\": {\"13\": {\"1\": 25, \"5\": 15, \"13\": 52, \"14\": 20, \"15\": 24, \"2\": 33, \"8\": 19, \"4\": 2, \"10\": 15, \"0\": 2, \"6\": 11, \"11\": 12, \"9\": 4, \"7\": 2, \"12\": 3, \"3\": 1}, \"12\": {\"4\": 50, \"12\": 78, \"5\": 9, \"1\": 4, \"10\": 20, \"13\": 3, \"0\": 16, \"6\": 4, \"3\": 3, \"15\": 6, \"14\": 10, \"8\": 15, \"7\": 9, \"11\": 9, \"2\": 2, \"9\": 2}, \"2\": {\"1\": 15, \"15\": 20, \"14\": 42, \"10\": 19, \"13\": 47, \"8\": 10, \"11\": 26, \"2\": 49, \"0\": 2, \"5\": 4, \"12\": 2, \"7\": 4}, \"9\": {\"9\": 56, \"5\": 16, \"1\": 14, \"7\": 19, \"8\": 17, \"0\": 14, \"6\": 42, \"3\": 44, \"13\": 5, \"10\": 4, \"12\": 3, \"15\": 6}, \"15\": {\"15\": 19, \"1\": 39, \"2\": 19, \"10\": 20, \"14\": 27, \"11\": 17, \"8\": 16, \"6\": 8, \"0\": 9, \"9\": 7, \"12\": 9, \"13\": 24, \"3\": 2, \"4\": 4, \"5\": 12, \"7\": 8}, \"5\": {\"6\": 21, \"7\": 28, \"5\": 27, \"3\": 15, \"4\": 7, \"9\": 19, \"13\": 16, \"1\": 19, \"0\": 23, \"2\": 6, \"15\": 15, \"8\": 20, \"12\": 8, \"10\": 8, \"11\": 4, \"14\": 4}, \"14\": {\"11\": 60, \"2\": 31, \"14\": 48, \"10\": 22, \"4\": 8, \"1\": 6, \"12\": 22, \"8\": 3, \"7\": 2, \"13\": 14, \"15\": 16, \"0\": 4, \"9\": 1, \"5\": 3}, \"0\": {\"3\": 27, \"7\": 39, \"6\": 11, \"0\": 29, \"10\": 14, \"8\": 20, \"9\": 18, \"11\": 5, \"15\": 10, \"5\": 23, \"13\": 12, \"12\": 9, \"1\": 6, \"4\": 12, \"2\": 3, \"14\": 2}, \"3\": {\"7\": 22, \"3\": 102, \"9\": 47, \"0\": 14, \"5\": 12, \"6\": 30, \"1\": 3, \"12\": 2, \"8\": 5, \"15\": 2, \"13\": 1}, \"1\": {\"13\": 34, \"0\": 12, \"15\": 36, \"8\": 14, \"1\": 38, \"9\": 19, \"2\": 15, \"3\": 6, \"6\": 11, \"10\": 13, \"5\": 20, \"7\": 5, \"11\": 7, \"14\": 9, \"12\": 1}, \"11\": {\"12\": 18, \"11\": 54, \"14\": 68, \"10\": 25, \"7\": 3, \"2\": 23, \"15\": 12, \"13\": 11, \"1\": 5, \"4\": 12, \"8\": 3, \"6\": 1, \"0\": 2, \"3\": 1, \"5\": 2}, \"7\": {\"8\": 17, \"4\": 25, \"0\": 32, \"3\": 27, \"5\": 22, \"10\": 13, \"1\": 6, \"12\": 14, \"11\": 4, \"9\": 12, \"6\": 17, \"7\": 33, \"2\": 2, \"15\": 12, \"14\": 1, \"13\": 3}, \"8\": {\"0\": 30, \"4\": 8, \"10\": 23, \"6\": 18, \"8\": 26, \"1\": 18, \"5\": 22, \"14\": 4, \"7\": 13, \"9\": 12, \"12\": 6, \"3\": 16, \"15\": 16, \"13\": 14, \"2\": 9, \"11\": 5}, \"4\": {\"4\": 80, \"0\": 21, \"10\": 14, \"12\": 48, \"6\": 7, \"11\": 9, \"8\": 10, \"5\": 11, \"7\": 24, \"3\": 6, \"9\": 1, \"14\": 7, \"15\": 2}, \"10\": {\"1\": 11, \"14\": 22, \"11\": 25, \"8\": 15, \"4\": 19, \"2\": 8, \"0\": 17, \"10\": 28, \"13\": 20, \"5\": 10, \"15\": 28, \"6\": 5, \"7\": 17, \"12\": 11, \"9\": 4}, \"6\": {\"9\": 45, \"3\": 40, \"8\": 17, \"2\": 3, \"14\": 1, \"15\": 12, \"6\": 45, \"0\": 13, \"13\": 4, \"7\": 16, \"10\": 9, \"5\": 18, \"12\": 3, \"1\": 13, \"11\": 1}}, \"ORACLE.run1_26\": {\"10\": {\"15\": 11, \"10\": 10, \"14\": 21, \"3\": 17, \"5\": 14, \"12\": 8, \"1\": 25, \"9\": 18, \"6\": 13, \"4\": 28, \"8\": 19, \"13\": 10, \"11\": 3, \"7\": 15, \"2\": 14, \"0\": 14}, \"12\": {\"6\": 22, \"10\": 16, \"11\": 40, \"13\": 20, \"5\": 6, \"12\": 68, \"14\": 7, \"7\": 5, \"9\": 13, \"1\": 5, \"3\": 6, \"15\": 7, \"8\": 10, \"0\": 8, \"2\": 2, \"4\": 5}, \"1\": {\"8\": 12, \"1\": 19, \"3\": 24, \"5\": 8, \"14\": 24, \"6\": 20, \"7\": 17, \"15\": 5, \"4\": 29, \"2\": 22, \"9\": 9, \"10\": 17, \"11\": 2, \"13\": 13, \"0\": 14, \"12\": 5}, \"0\": {\"0\": 25, \"9\": 11, \"5\": 11, \"6\": 13, \"14\": 24, \"2\": 14, \"8\": 19, \"7\": 11, \"3\": 16, \"1\": 19, \"15\": 8, \"13\": 6, \"4\": 25, \"10\": 25, \"11\": 3, \"12\": 10}, \"15\": {\"1\": 12, \"10\": 14, \"8\": 20, \"2\": 18, \"6\": 16, \"5\": 23, \"12\": 21, \"7\": 23, \"11\": 8, \"0\": 15, \"4\": 12, \"15\": 14, \"3\": 5, \"13\": 17, \"9\": 12, \"14\": 10}, \"13\": {\"11\": 21, \"6\": 16, \"9\": 17, \"7\": 14, \"3\": 17, \"0\": 9, \"14\": 9, \"5\": 24, \"15\": 20, \"10\": 16, \"4\": 4, \"13\": 22, \"8\": 13, \"2\": 15, \"1\": 9, \"12\": 14}, \"8\": {\"13\": 14, \"1\": 15, \"0\": 21, \"8\": 16, \"2\": 15, \"3\": 16, \"10\": 16, \"5\": 16, \"9\": 18, \"14\": 20, \"12\": 14, \"7\": 16, \"4\": 14, \"15\": 15, \"6\": 11, \"11\": 3}, \"3\": {\"2\": 21, \"5\": 19, \"3\": 37, \"1\": 20, \"15\": 14, \"7\": 18, \"8\": 13, \"4\": 21, \"9\": 18, \"0\": 13, \"14\": 14, \"13\": 15, \"10\": 10, \"6\": 5, \"11\": 2}, \"11\": {\"13\": 15, \"6\": 10, \"12\": 39, \"11\": 128, \"5\": 12, \"15\": 5, \"14\": 5, \"7\": 1, \"8\": 5, \"1\": 4, \"3\": 1, \"2\": 1, \"0\": 5, \"10\": 3, \"9\": 6}, \"4\": {\"3\": 21, \"1\": 25, \"5\": 13, \"4\": 23, \"6\": 14, \"15\": 11, \"9\": 16, \"8\": 15, \"12\": 9, \"7\": 22, \"2\": 13, \"0\": 16, \"14\": 18, \"10\": 13, \"13\": 7, \"11\": 4}, \"6\": {\"8\": 21, \"9\": 16, \"1\": 15, \"11\": 9, \"14\": 21, \"10\": 18, \"0\": 14, \"4\": 19, \"5\": 10, \"15\": 18, \"6\": 20, \"2\": 14, \"13\": 11, \"7\": 10, \"12\": 13, \"3\": 11}, \"7\": {\"0\": 17, \"9\": 16, \"14\": 11, \"2\": 23, \"8\": 17, \"4\": 23, \"1\": 21, \"7\": 22, \"13\": 17, \"10\": 17, \"6\": 8, \"3\": 22, \"5\": 10, \"12\": 4, \"15\": 10, \"11\": 2}, \"14\": {\"1\": 19, \"7\": 23, \"6\": 23, \"14\": 24, \"3\": 12, \"4\": 19, \"8\": 17, \"15\": 15, \"9\": 10, \"10\": 18, \"5\": 4, \"12\": 9, \"2\": 12, \"0\": 19, \"13\": 14, \"11\": 2}, \"2\": {\"5\": 16, \"7\": 26, \"4\": 19, \"2\": 25, \"3\": 29, \"10\": 11, \"12\": 6, \"14\": 15, \"6\": 8, \"13\": 11, \"8\": 15, \"1\": 12, \"9\": 15, \"0\": 14, \"11\": 5, \"15\": 13}, \"5\": {\"1\": 13, \"6\": 17, \"8\": 14, \"7\": 12, \"12\": 7, \"2\": 18, \"15\": 8, \"5\": 27, \"9\": 14, \"0\": 17, \"13\": 26, \"4\": 7, \"11\": 14, \"10\": 14, \"3\": 19, \"14\": 13}, \"9\": {\"2\": 19, \"3\": 12, \"4\": 18, \"13\": 17, \"7\": 15, \"15\": 14, \"9\": 22, \"8\": 16, \"10\": 18, \"6\": 11, \"5\": 17, \"14\": 12, \"0\": 10, \"1\": 16, \"12\": 17, \"11\": 6}}, \"ORACLE.run1_20\": {\"5\": {\"0\": 24, \"10\": 13, \"6\": 11, \"5\": 17, \"3\": 16, \"4\": 14, \"2\": 10, \"1\": 21, \"9\": 20, \"13\": 15, \"7\": 13, \"8\": 14, \"11\": 9, \"15\": 16, \"12\": 20, \"14\": 7}, \"15\": {\"13\": 20, \"7\": 10, \"12\": 20, \"2\": 16, \"10\": 11, \"1\": 18, \"3\": 22, \"0\": 24, \"11\": 13, \"8\": 7, \"6\": 6, \"5\": 19, \"15\": 21, \"9\": 21, \"4\": 7, \"14\": 5}, \"9\": {\"6\": 18, \"4\": 18, \"2\": 15, \"11\": 14, \"9\": 14, \"5\": 11, \"1\": 24, \"13\": 19, \"0\": 15, \"14\": 13, \"3\": 18, \"7\": 12, \"10\": 10, \"8\": 9, \"12\": 14, \"15\": 16}, \"7\": {\"6\": 24, \"0\": 16, \"1\": 15, \"2\": 12, \"10\": 13, \"15\": 12, \"7\": 16, \"9\": 14, \"14\": 25, \"11\": 22, \"8\": 15, \"4\": 12, \"3\": 8, \"5\": 12, \"12\": 13, \"13\": 11}, \"3\": {\"7\": 10, \"11\": 17, \"15\": 14, \"6\": 19, \"0\": 13, \"2\": 14, \"10\": 15, \"5\": 17, \"14\": 15, \"12\": 14, \"4\": 15, \"1\": 18, \"9\": 12, \"3\": 24, \"8\": 9, \"13\": 14}, \"8\": {\"6\": 31, \"5\": 11, \"3\": 14, \"8\": 25, \"4\": 19, \"11\": 15, \"7\": 10, \"9\": 11, \"14\": 33, \"2\": 7, \"0\": 8, \"1\": 8, \"10\": 21, \"13\": 9, \"12\": 8, \"15\": 10}, \"4\": {\"4\": 20, \"9\": 9, \"1\": 12, \"14\": 23, \"6\": 13, \"3\": 17, \"10\": 23, \"7\": 21, \"11\": 11, \"8\": 13, \"0\": 15, \"5\": 17, \"2\": 18, \"13\": 9, \"12\": 9, \"15\": 10}, \"6\": {\"14\": 31, \"6\": 36, \"3\": 15, \"8\": 17, \"1\": 9, \"2\": 11, \"4\": 32, \"11\": 23, \"9\": 7, \"10\": 14, \"5\": 7, \"7\": 16, \"12\": 7, \"15\": 5, \"13\": 7, \"0\": 3}, \"2\": {\"4\": 17, \"3\": 18, \"15\": 21, \"14\": 8, \"8\": 10, \"1\": 18, \"2\": 12, \"11\": 13, \"12\": 16, \"13\": 20, \"9\": 16, \"10\": 13, \"0\": 16, \"6\": 19, \"5\": 14, \"7\": 9}, \"12\": {\"12\": 18, \"1\": 17, \"15\": 18, \"7\": 13, \"5\": 14, \"0\": 15, \"3\": 18, \"6\": 13, \"2\": 23, \"14\": 14, \"9\": 13, \"13\": 13, \"11\": 11, \"4\": 15, \"8\": 15, \"10\": 10}, \"0\": {\"7\": 10, \"15\": 18, \"0\": 25, \"4\": 17, \"1\": 22, \"9\": 17, \"5\": 19, \"11\": 12, \"3\": 14, \"13\": 25, \"2\": 11, \"8\": 10, \"10\": 10, \"14\": 8, \"12\": 16, \"6\": 6}, \"13\": {\"12\": 16, \"15\": 18, \"2\": 15, \"9\": 20, \"1\": 18, \"10\": 8, \"11\": 18, \"5\": 19, \"0\": 21, \"13\": 22, \"14\": 9, \"8\": 13, \"7\": 11, \"3\": 20, \"6\": 5, \"4\": 7}, \"10\": {\"9\": 13, \"10\": 21, \"0\": 10, \"6\": 32, \"13\": 10, \"3\": 18, \"14\": 26, \"8\": 14, \"5\": 9, \"7\": 19, \"12\": 13, \"2\": 12, \"4\": 17, \"11\": 14, \"15\": 5, \"1\": 7}, \"11\": {\"3\": 14, \"2\": 15, \"6\": 17, \"5\": 11, \"11\": 52, \"4\": 8, \"7\": 20, \"12\": 11, \"13\": 15, \"9\": 16, \"0\": 12, \"8\": 9, \"15\": 13, \"1\": 12, \"10\": 7, \"14\": 8}, \"14\": {\"14\": 30, \"11\": 16, \"8\": 28, \"6\": 28, \"9\": 9, \"0\": 9, \"12\": 14, \"15\": 6, \"10\": 29, \"7\": 18, \"2\": 12, \"4\": 16, \"3\": 7, \"1\": 7, \"5\": 6, \"13\": 5}, \"1\": {\"12\": 19, \"13\": 19, \"2\": 14, \"14\": 11, \"0\": 25, \"7\": 24, \"8\": 10, \"5\": 18, \"4\": 7, \"6\": 9, \"1\": 17, \"9\": 23, \"10\": 11, \"3\": 10, \"15\": 15, \"11\": 8}}, \"ORACLE.run1_50\": {\"1\": {\"14\": 14, \"4\": 35, \"6\": 21, \"1\": 24, \"5\": 17, \"8\": 6, \"15\": 26, \"7\": 8, \"9\": 17, \"11\": 19, \"12\": 9, \"13\": 19, \"2\": 9, \"3\": 2, \"0\": 9, \"10\": 5}, \"2\": {\"2\": 40, \"1\": 10, \"0\": 33, \"14\": 24, \"8\": 14, \"10\": 28, \"6\": 12, \"13\": 13, \"7\": 15, \"4\": 8, \"5\": 12, \"12\": 16, \"15\": 7, \"9\": 1, \"11\": 3, \"3\": 4}, \"8\": {\"8\": 66, \"0\": 14, \"3\": 70, \"10\": 33, \"4\": 3, \"13\": 5, \"2\": 23, \"14\": 2, \"7\": 12, \"1\": 2, \"5\": 8, \"6\": 1, \"15\": 1}, \"7\": {\"8\": 20, \"5\": 29, \"6\": 24, \"2\": 16, \"13\": 25, \"7\": 31, \"4\": 17, \"12\": 3, \"14\": 3, \"1\": 21, \"10\": 24, \"3\": 7, \"0\": 13, \"11\": 2, \"9\": 1, \"15\": 4}, \"14\": {\"11\": 25, \"14\": 43, \"15\": 24, \"5\": 8, \"9\": 37, \"4\": 10, \"7\": 6, \"12\": 27, \"2\": 10, \"13\": 5, \"6\": 15, \"1\": 15, \"0\": 11, \"10\": 4}, \"6\": {\"5\": 12, \"6\": 33, \"4\": 24, \"9\": 4, \"15\": 25, \"12\": 6, \"11\": 12, \"10\": 13, \"13\": 21, \"7\": 23, \"14\": 21, \"2\": 21, \"0\": 6, \"1\": 18, \"8\": 1}, \"3\": {\"8\": 56, \"3\": 100, \"10\": 25, \"2\": 10, \"0\": 21, \"13\": 10, \"5\": 7, \"6\": 3, \"7\": 6, \"1\": 2}, \"4\": {\"4\": 19, \"12\": 9, \"14\": 15, \"8\": 1, \"11\": 22, \"1\": 32, \"7\": 16, \"15\": 39, \"5\": 19, \"9\": 11, \"6\": 18, \"13\": 19, \"2\": 6, \"0\": 7, \"3\": 3, \"10\": 4}, \"12\": {\"9\": 62, \"1\": 12, \"12\": 66, \"15\": 11, \"14\": 43, \"11\": 23, \"2\": 6, \"13\": 3, \"6\": 5, \"0\": 5, \"4\": 3, \"7\": 1}, \"15\": {\"15\": 49, \"12\": 15, \"9\": 19, \"4\": 20, \"1\": 25, \"11\": 27, \"0\": 2, \"5\": 14, \"14\": 21, \"6\": 20, \"2\": 7, \"7\": 10, \"10\": 4, \"13\": 7}, \"11\": {\"11\": 50, \"14\": 25, \"0\": 4, \"15\": 32, \"1\": 23, \"9\": 39, \"12\": 28, \"4\": 14, \"2\": 6, \"13\": 1, \"5\": 7, \"6\": 8, \"7\": 3}, \"0\": {\"2\": 39, \"8\": 25, \"12\": 3, \"7\": 19, \"5\": 18, \"14\": 11, \"0\": 30, \"9\": 4, \"13\": 21, \"10\": 22, \"6\": 15, \"4\": 8, \"1\": 7, \"11\": 6, \"15\": 2, \"3\": 10}, \"9\": {\"11\": 38, \"9\": 63, \"12\": 61, \"0\": 1, \"1\": 15, \"15\": 27, \"14\": 17, \"5\": 3, \"4\": 8, \"2\": 2, \"6\": 3, \"13\": 1, \"7\": 1}, \"10\": {\"14\": 4, \"3\": 21, \"10\": 31, \"13\": 19, \"8\": 42, \"6\": 8, \"0\": 29, \"5\": 17, \"1\": 10, \"2\": 20, \"7\": 23, \"11\": 2, \"4\": 11, \"12\": 2, \"15\": 1}, \"5\": {\"6\": 28, \"5\": 29, \"11\": 2, \"1\": 24, \"4\": 20, \"13\": 21, \"2\": 15, \"0\": 15, \"15\": 11, \"12\": 3, \"7\": 29, \"3\": 15, \"10\": 14, \"14\": 7, \"8\": 5, \"9\": 2}, \"13\": {\"13\": 32, \"5\": 28, \"7\": 40, \"3\": 6, \"15\": 8, \"10\": 16, \"2\": 13, \"6\": 25, \"14\": 6, \"8\": 15, \"4\": 14, \"0\": 18, \"1\": 12, \"11\": 3, \"9\": 1, \"12\": 3}}, \"ORACLE.run1_32\": {\"2\": {\"0\": 33, \"12\": 5, \"7\": 15, \"2\": 55, \"5\": 10, \"13\": 17, \"14\": 22, \"8\": 16, \"11\": 15, \"9\": 15, \"4\": 30, \"15\": 4, \"3\": 3}, \"6\": {\"6\": 127, \"10\": 32, \"12\": 31, \"1\": 36, \"9\": 14}, \"5\": {\"3\": 22, \"14\": 29, \"5\": 36, \"7\": 25, \"2\": 9, \"0\": 20, \"4\": 21, \"8\": 27, \"15\": 13, \"13\": 25, \"9\": 2, \"11\": 11}, \"12\": {\"9\": 61, \"12\": 98, \"10\": 35, \"2\": 3, \"4\": 2, \"6\": 31, \"0\": 3, \"1\": 6, \"7\": 1}, \"13\": {\"5\": 38, \"11\": 23, \"7\": 16, \"4\": 16, \"14\": 17, \"3\": 31, \"0\": 16, \"8\": 34, \"13\": 26, \"9\": 2, \"15\": 15, \"2\": 6}, \"9\": {\"12\": 55, \"2\": 20, \"9\": 121, \"6\": 11, \"5\": 6, \"4\": 7, \"15\": 3, \"0\": 15, \"7\": 1, \"8\": 1}, \"11\": {\"14\": 33, \"15\": 5, \"7\": 35, \"11\": 42, \"4\": 16, \"13\": 19, \"0\": 13, \"2\": 16, \"3\": 32, \"5\": 12, \"8\": 16, \"9\": 1}, \"1\": {\"1\": 128, \"10\": 76, \"6\": 30, \"12\": 6}, \"3\": {\"3\": 60, \"11\": 33, \"2\": 4, \"15\": 24, \"8\": 20, \"4\": 10, \"7\": 21, \"14\": 24, \"13\": 19, \"5\": 20, \"0\": 5}, \"7\": {\"14\": 33, \"2\": 24, \"13\": 18, \"8\": 16, \"7\": 27, \"4\": 22, \"9\": 3, \"11\": 36, \"5\": 14, \"3\": 20, \"15\": 9, \"0\": 18}, \"14\": {\"0\": 16, \"14\": 30, \"7\": 37, \"2\": 22, \"8\": 12, \"4\": 31, \"3\": 11, \"13\": 12, \"5\": 23, \"11\": 38, \"15\": 8}, \"8\": {\"11\": 20, \"13\": 23, \"3\": 25, \"14\": 10, \"5\": 26, \"2\": 24, \"8\": 30, \"4\": 19, \"0\": 25, \"15\": 18, \"7\": 20}, \"4\": {\"3\": 8, \"8\": 33, \"4\": 23, \"0\": 39, \"13\": 21, \"2\": 27, \"11\": 17, \"7\": 14, \"14\": 22, \"5\": 16, \"9\": 6, \"15\": 13, \"12\": 1}, \"0\": {\"4\": 34, \"11\": 15, \"8\": 28, \"0\": 39, \"2\": 30, \"9\": 13, \"5\": 15, \"13\": 18, \"14\": 17, \"7\": 16, \"15\": 8, \"3\": 5, \"12\": 2}, \"10\": {\"12\": 29, \"10\": 110, \"6\": 35, \"1\": 58, \"9\": 8}, \"15\": {\"15\": 88, \"8\": 39, \"5\": 12, \"3\": 33, \"0\": 18, \"11\": 11, \"13\": 16, \"4\": 5, \"7\": 6, \"14\": 6, \"2\": 6}}, \"ORACLE.run1_44\": {\"13\": {\"2\": 13, \"11\": 53, \"6\": 27, \"14\": 9, \"13\": 34, \"4\": 22, \"9\": 35, \"7\": 17, \"5\": 2, \"1\": 8, \"3\": 12, \"10\": 5, \"12\": 1, \"15\": 2}, \"4\": {\"4\": 54, \"9\": 18, \"15\": 27, \"6\": 2, \"5\": 25, \"14\": 49, \"13\": 15, \"11\": 20, \"7\": 4, \"0\": 12, \"3\": 6, \"8\": 6, \"12\": 1, \"1\": 1}, \"6\": {\"2\": 29, \"7\": 25, \"12\": 3, \"11\": 43, \"9\": 27, \"6\": 44, \"3\": 11, \"13\": 34, \"4\": 6, \"10\": 11, \"1\": 6, \"14\": 1}, \"0\": {\"5\": 56, \"15\": 44, \"8\": 49, \"4\": 16, \"0\": 50, \"13\": 2, \"14\": 23}, \"10\": {\"1\": 35, \"7\": 18, \"10\": 51, \"12\": 57, \"3\": 23, \"2\": 31, \"9\": 10, \"6\": 11, \"13\": 3, \"11\": 1}, \"7\": {\"2\": 27, \"6\": 32, \"4\": 7, \"12\": 20, \"7\": 31, \"9\": 27, \"11\": 17, \"1\": 9, \"13\": 25, \"10\": 16, \"3\": 26, \"14\": 1, \"5\": 1, \"15\": 1}, \"14\": {\"3\": 5, \"8\": 10, \"14\": 51, \"5\": 35, \"13\": 11, \"0\": 23, \"4\": 45, \"15\": 35, \"11\": 14, \"2\": 2, \"6\": 8, \"9\": 1}, \"15\": {\"5\": 42, \"14\": 44, \"15\": 56, \"0\": 37, \"4\": 15, \"8\": 35, \"13\": 1, \"1\": 1, \"9\": 2, \"11\": 2, \"3\": 3, \"7\": 1, \"12\": 1}, \"5\": {\"0\": 54, \"5\": 66, \"4\": 23, \"14\": 29, \"15\": 40, \"8\": 24, \"13\": 3, \"11\": 1}, \"2\": {\"6\": 22, \"2\": 40, \"3\": 25, \"13\": 10, \"1\": 34, \"10\": 38, \"7\": 29, \"9\": 17, \"12\": 18, \"11\": 6, \"0\": 1}, \"9\": {\"7\": 23, \"13\": 39, \"12\": 7, \"6\": 30, \"3\": 17, \"2\": 22, \"1\": 14, \"11\": 28, \"9\": 33, \"4\": 11, \"15\": 1, \"5\": 3, \"10\": 7, \"8\": 1, \"14\": 4}, \"12\": {\"1\": 47, \"10\": 54, \"3\": 33, \"12\": 48, \"6\": 5, \"2\": 24, \"11\": 4, \"7\": 15, \"9\": 8, \"13\": 2}, \"8\": {\"15\": 41, \"0\": 57, \"8\": 73, \"5\": 39, \"14\": 16, \"3\": 2, \"4\": 11, \"9\": 1}, \"3\": {\"2\": 22, \"1\": 31, \"10\": 31, \"3\": 49, \"14\": 3, \"12\": 34, \"7\": 23, \"9\": 20, \"13\": 7, \"6\": 10, \"15\": 2, \"4\": 5, \"8\": 1, \"11\": 2}, \"1\": {\"1\": 34, \"2\": 30, \"3\": 37, \"7\": 19, \"9\": 11, \"13\": 4, \"11\": 2, \"10\": 37, \"12\": 56, \"6\": 7, \"15\": 1, \"4\": 1, \"14\": 1}, \"11\": {\"9\": 33, \"11\": 76, \"6\": 36, \"1\": 2, \"7\": 13, \"15\": 2, \"14\": 13, \"13\": 35, \"2\": 9, \"4\": 15, \"3\": 4, \"8\": 2}}, \"ORACLE.run1_14\": {\"1\": {\"3\": 16, \"6\": 16, \"1\": 30, \"11\": 4, \"8\": 16, \"0\": 16, \"13\": 14, \"7\": 25, \"2\": 15, \"10\": 12, \"14\": 13, \"4\": 16, \"5\": 20, \"9\": 4, \"15\": 22, \"12\": 1}, \"15\": {\"2\": 17, \"1\": 14, \"7\": 58, \"13\": 12, \"6\": 13, \"15\": 70, \"4\": 13, \"5\": 17, \"14\": 15, \"3\": 4, \"10\": 4, \"8\": 2, \"0\": 1}, \"10\": {\"8\": 13, \"9\": 15, \"11\": 30, \"6\": 12, \"12\": 11, \"10\": 48, \"2\": 10, \"0\": 24, \"1\": 14, \"3\": 14, \"7\": 2, \"5\": 10, \"13\": 10, \"14\": 18, \"4\": 7, \"15\": 2}, \"2\": {\"2\": 26, \"1\": 13, \"15\": 19, \"13\": 30, \"4\": 22, \"3\": 20, \"0\": 10, \"14\": 25, \"10\": 7, \"7\": 15, \"6\": 21, \"5\": 19, \"9\": 3, \"11\": 4, \"8\": 6}, \"9\": {\"0\": 14, \"8\": 39, \"3\": 10, \"10\": 33, \"1\": 6, \"12\": 40, \"11\": 43, \"9\": 50, \"4\": 2, \"2\": 2, \"14\": 1}, \"5\": {\"6\": 17, \"4\": 22, \"14\": 18, \"2\": 23, \"5\": 33, \"7\": 24, \"11\": 4, \"0\": 11, \"1\": 21, \"15\": 15, \"13\": 19, \"8\": 7, \"3\": 19, \"10\": 6, \"9\": 1}, \"7\": {\"5\": 28, \"2\": 20, \"7\": 60, \"13\": 10, \"8\": 5, \"15\": 57, \"1\": 21, \"4\": 13, \"11\": 2, \"3\": 14, \"6\": 5, \"14\": 4, \"10\": 1}, \"13\": {\"6\": 29, \"13\": 31, \"14\": 21, \"3\": 17, \"0\": 7, \"1\": 14, \"4\": 25, \"10\": 8, \"11\": 8, \"15\": 19, \"7\": 14, \"2\": 27, \"5\": 14, \"8\": 3, \"9\": 2, \"12\": 1}, \"8\": {\"10\": 17, \"8\": 45, \"0\": 20, \"3\": 20, \"13\": 4, \"11\": 17, \"9\": 33, \"5\": 13, \"1\": 21, \"6\": 8, \"7\": 11, \"12\": 7, \"15\": 5, \"4\": 8, \"2\": 5, \"14\": 6}, \"6\": {\"10\": 7, \"0\": 9, \"5\": 19, \"3\": 23, \"13\": 25, \"7\": 14, \"1\": 12, \"14\": 31, \"4\": 24, \"6\": 31, \"2\": 21, \"15\": 13, \"9\": 1, \"8\": 3, \"11\": 7}, \"3\": {\"5\": 30, \"10\": 16, \"1\": 16, \"6\": 22, \"13\": 11, \"12\": 2, \"0\": 20, \"14\": 20, \"11\": 16, \"9\": 10, \"8\": 16, \"4\": 19, \"15\": 8, \"3\": 14, \"2\": 13, \"7\": 7}, \"12\": {\"9\": 76, \"12\": 99, \"1\": 1, \"8\": 19, \"3\": 5, \"11\": 22, \"5\": 2, \"0\": 9, \"10\": 6, \"4\": 1}, \"0\": {\"8\": 20, \"12\": 12, \"13\": 11, \"10\": 28, \"4\": 11, \"0\": 32, \"9\": 12, \"1\": 17, \"3\": 23, \"11\": 17, \"2\": 15, \"15\": 4, \"5\": 6, \"6\": 11, \"14\": 20, \"7\": 1}, \"4\": {\"1\": 28, \"5\": 27, \"10\": 17, \"2\": 27, \"13\": 13, \"3\": 13, \"14\": 17, \"7\": 19, \"6\": 17, \"0\": 9, \"4\": 18, \"15\": 12, \"12\": 2, \"8\": 10, \"9\": 5, \"11\": 6}, \"14\": {\"1\": 12, \"15\": 6, \"6\": 26, \"5\": 17, \"13\": 24, \"14\": 39, \"2\": 25, \"0\": 13, \"11\": 17, \"4\": 17, \"7\": 9, \"9\": 2, \"10\": 11, \"8\": 4, \"3\": 18}, \"11\": {\"9\": 43, \"12\": 21, \"0\": 36, \"8\": 11, \"10\": 27, \"11\": 47, \"13\": 9, \"4\": 8, \"6\": 3, \"14\": 14, \"2\": 6, \"3\": 10, \"1\": 4, \"5\": 1}}}, \"per_domain_accuracy\": {\"CORES_2\": {\"accuracy\": 1.0, \"source?\": true}, \"CORES_5\": {\"accuracy\": 0.9989466292134831, \"source?\": true}, \"CORES_1\": {\"accuracy\": 0.9996565934065934, \"source?\": true}, \"CORES_4\": {\"accuracy\": 0.999438622754491, \"source?\": true}, \"CORES_3\": {\"accuracy\": 0.9990862573099415, \"source?\": true}, \"ORACLE.run1_8\": {\"accuracy\": 0.14921875, \"source?\": false}, \"ORACLE.run1_38\": {\"accuracy\": 0.19895833333333332, \"source?\": false}, \"ORACLE.run1_26\": {\"accuracy\": 0.13072916666666667, \"source?\": false}, \"ORACLE.run1_20\": {\"accuracy\": 0.09635416666666667, \"source?\": false}, \"ORACLE.run1_50\": {\"accuracy\": 0.18385416666666668, \"source?\": false}, \"ORACLE.run1_32\": {\"accuracy\": 0.2708333333333333, \"source?\": false}, \"ORACLE.run1_44\": {\"accuracy\": 0.20572916666666666, \"source?\": false}, \"ORACLE.run1_14\": {\"accuracy\": 0.17526041666666667, \"source?\": false}}}, \"history\": {\"epoch_indices\": [1, 2, 3, 4, 5, 6, 7, 8, 9, 10], \"train_label_loss\": [0.026940410567237682, 0.006680854209894517, 0.004217530230256683, 0.0037777626363175395, 0.003889920594193552, 0.002655222566324109, 0.002658728704840062, 0.0018641209667109757, 0.003009372739872, 0.0016412121017781005], \"source_val_label_loss\": [0.010011262260377407, 0.01309138722717762, 0.010913897305727005, 0.01132106315344572, 0.013330314308404922, 0.01209146436303854, 0.013883762061595917, 0.014821321703493595, 0.017711682245135307, 0.01580457016825676], \"target_val_label_loss\": [2.754575490951538, 3.258293628692627, 3.3133745193481445, 3.408581495285034, 3.660651445388794, 3.816716432571411, 3.6069376468658447, 4.002070426940918, 4.982469081878662, 4.777523517608643], \"source_val_acc_label\": [0.9982122425629291, 0.9979262013729977, 0.9991061212814645, 0.9991061212814645, 0.9991776315789473, 0.9994279176201373, 0.9992491418764302, 0.9994279176201373, 0.9991776315789473, 0.9996424485125858], \"target_val_acc_label\": [0.14111328125, 0.14615885416666666, 0.15302734375, 0.15973307291666666, 0.148046875, 0.1763671875, 0.15804036458333334, 0.13733723958333333, 0.15270182291666667, 0.17014973958333332]}, \"dataset_metrics\": {\"source\": {\"train\": {\"n_unique_x\": 175222, \"n_unique_y\": 58, \"n_batch/episode\": 6312}, \"val\": {\"n_unique_x\": 37135, \"n_unique_y\": 58, \"n_batch/episode\": 874}, \"test\": {\"n_unique_x\": 37673, \"n_unique_y\": 58, \"n_batch/episode\": 893}}, \"target\": {\"train\": {\"n_unique_x\": 179200, \"n_unique_y\": 16, \"n_batch/episode\": 6720}, \"val\": {\"n_unique_x\": 38400, \"n_unique_y\": 16, \"n_batch/episode\": 960}, \"test\": {\"n_unique_x\": 38400, \"n_unique_y\": 16, \"n_batch/episode\": 960}}}}'"
      ]
     },
     "execution_count": 29,
     "metadata": {},
     "output_type": "execute_result"
    }
   ],
   "source": [
    "json.dumps(experiment)"
   ]
  }
 ],
 "metadata": {
  "celltoolbar": "Tags",
  "kernelspec": {
   "display_name": "Python 3 (ipykernel)",
   "language": "python",
   "name": "python3"
  },
  "language_info": {
   "codemirror_mode": {
    "name": "ipython",
    "version": 3
   },
   "file_extension": ".py",
   "mimetype": "text/x-python",
   "name": "python",
   "nbconvert_exporter": "python",
   "pygments_lexer": "ipython3",
   "version": "3.8.12"
  },
  "papermill": {
   "default_parameters": {},
   "duration": 1648.135368,
   "end_time": "2022-03-22T11:46:30.425304",
   "environment_variables": {},
   "exception": null,
   "input_path": "/root/csc500-main/csc500-notebooks/templates/tl_ptn_template.ipynb",
   "output_path": "trial.ipynb",
   "parameters": {
    "parameters": {
     "BEST_MODEL_PATH": "./best_model.pth",
     "NUM_LOGS_PER_EPOCH": 10,
     "criteria_for_best": "target_accuracy",
     "dataset_seed": 154325,
     "datasets": [
      {
       "domain_prefix": "CORES_",
       "domains": [
        1,
        2,
        3,
        4,
        5
       ],
       "episode_transforms": [],
       "labels": [
        "1-10.",
        "1-11.",
        "1-15.",
        "1-16.",
        "1-17.",
        "1-18.",
        "1-19.",
        "10-4.",
        "10-7.",
        "11-1.",
        "11-14.",
        "11-17.",
        "11-20.",
        "11-7.",
        "13-20.",
        "13-8.",
        "14-10.",
        "14-11.",
        "14-14.",
        "14-7.",
        "15-1.",
        "15-20.",
        "16-1.",
        "16-16.",
        "17-10.",
        "17-11.",
        "17-2.",
        "19-1.",
        "19-16.",
        "19-19.",
        "19-20.",
        "19-3.",
        "2-10.",
        "2-11.",
        "2-17.",
        "2-18.",
        "2-20.",
        "2-3.",
        "2-4.",
        "2-5.",
        "2-6.",
        "2-7.",
        "2-8.",
        "3-13.",
        "3-18.",
        "3-3.",
        "4-1.",
        "4-10.",
        "4-11.",
        "4-19.",
        "5-5.",
        "6-15.",
        "7-10.",
        "7-14.",
        "8-18.",
        "8-20.",
        "8-3.",
        "8-8."
       ],
       "num_examples_per_domain_per_label": -1,
       "pickle_path": "/root/csc500-main/datasets/cores.stratified_ds.2022A.pkl",
       "source_or_target_dataset": "source",
       "x_transforms": [
        "unit_power"
       ]
      },
      {
       "domain_prefix": "ORACLE.run1_",
       "domains": [
        32,
        38,
        8,
        44,
        14,
        50,
        20,
        26
       ],
       "episode_transforms": [],
       "labels": [
        "3123D52",
        "3123D65",
        "3123D79",
        "3123D80",
        "3123D54",
        "3123D70",
        "3123D7B",
        "3123D89",
        "3123D58",
        "3123D76",
        "3123D7D",
        "3123EFE",
        "3123D64",
        "3123D78",
        "3123D7E",
        "3124E4A"
       ],
       "num_examples_per_domain_per_label": 2000,
       "pickle_path": "/root/csc500-main/datasets/oracle.Run1_10kExamples_stratified_ds.2022A.pkl",
       "source_or_target_dataset": "target",
       "x_transforms": [
        "unit_power"
       ]
      }
     ],
     "device": "cuda",
     "experiment_name": "tl_1v2:cores-oracle.run1.limited",
     "lr": 0.0001,
     "n_epoch": 50,
     "n_query": 2,
     "n_shot": 3,
     "n_way": 16,
     "patience": 3,
     "seed": 154325,
     "test_k_factor": 2,
     "torch_default_dtype": "torch.float32",
     "train_k_factor": 3,
     "val_k_factor": 2,
     "x_net": [
      {
       "class": "nnReshape",
       "kargs": {
        "shape": [
         -1,
         1,
         2,
         256
        ]
       }
      },
      {
       "class": "Conv2d",
       "kargs": {
        "bias": false,
        "in_channels": 1,
        "kernel_size": [
         1,
         7
        ],
        "out_channels": 256,
        "padding": [
         0,
         3
        ]
       }
      },
      {
       "class": "ReLU",
       "kargs": {
        "inplace": true
       }
      },
      {
       "class": "BatchNorm2d",
       "kargs": {
        "num_features": 256
       }
      },
      {
       "class": "Conv2d",
       "kargs": {
        "bias": true,
        "in_channels": 256,
        "kernel_size": [
         2,
         7
        ],
        "out_channels": 80,
        "padding": [
         0,
         3
        ]
       }
      },
      {
       "class": "ReLU",
       "kargs": {
        "inplace": true
       }
      },
      {
       "class": "BatchNorm2d",
       "kargs": {
        "num_features": 80
       }
      },
      {
       "class": "Flatten",
       "kargs": {}
      },
      {
       "class": "Linear",
       "kargs": {
        "in_features": 20480,
        "out_features": 256
       }
      },
      {
       "class": "ReLU",
       "kargs": {
        "inplace": true
       }
      },
      {
       "class": "BatchNorm1d",
       "kargs": {
        "num_features": 256
       }
      },
      {
       "class": "Linear",
       "kargs": {
        "in_features": 256,
        "out_features": 256
       }
      }
     ]
    }
   },
   "start_time": "2022-03-22T11:19:02.289936",
   "version": "2.3.4"
  }
 },
 "nbformat": 4,
 "nbformat_minor": 5
}