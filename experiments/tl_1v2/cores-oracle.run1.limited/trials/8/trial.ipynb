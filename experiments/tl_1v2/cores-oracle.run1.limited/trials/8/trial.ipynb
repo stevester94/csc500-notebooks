{
 "cells": [
  {
   "cell_type": "markdown",
   "id": "9fea5f46",
   "metadata": {
    "papermill": {
     "duration": 0.029739,
     "end_time": "2022-03-22T08:12:33.591299",
     "exception": false,
     "start_time": "2022-03-22T08:12:33.561560",
     "status": "completed"
    },
    "tags": []
   },
   "source": [
    "# Transfer Learning Template"
   ]
  },
  {
   "cell_type": "code",
   "execution_count": 1,
   "id": "0902182a",
   "metadata": {
    "execution": {
     "iopub.execute_input": "2022-03-22T08:12:33.657922Z",
     "iopub.status.busy": "2022-03-22T08:12:33.657075Z",
     "iopub.status.idle": "2022-03-22T08:12:35.529106Z",
     "shell.execute_reply": "2022-03-22T08:12:35.528243Z"
    },
    "papermill": {
     "duration": 1.91144,
     "end_time": "2022-03-22T08:12:35.529302",
     "exception": false,
     "start_time": "2022-03-22T08:12:33.617862",
     "status": "completed"
    },
    "tags": []
   },
   "outputs": [],
   "source": [
    "%load_ext autoreload\n",
    "%autoreload 2\n",
    "%matplotlib inline\n",
    "\n",
    "    \n",
    "import os, json, sys, time, random\n",
    "import numpy as np\n",
    "import torch\n",
    "from torch.optim import Adam\n",
    "from  easydict import EasyDict\n",
    "import matplotlib.pyplot as plt\n",
    "\n",
    "from steves_models.steves_ptn import Steves_Prototypical_Network\n",
    "\n",
    "from steves_utils.lazy_iterable_wrapper import Lazy_Iterable_Wrapper\n",
    "from steves_utils.iterable_aggregator import Iterable_Aggregator\n",
    "from steves_utils.ptn_train_eval_test_jig import  PTN_Train_Eval_Test_Jig\n",
    "from steves_utils.torch_sequential_builder import build_sequential\n",
    "from steves_utils.torch_utils import get_dataset_metrics, ptn_confusion_by_domain_over_dataloader\n",
    "from steves_utils.utils_v2 import (per_domain_accuracy_from_confusion, get_datasets_base_path)\n",
    "from steves_utils.PTN.utils import independent_accuracy_assesment\n",
    "\n",
    "from torch.utils.data import DataLoader\n",
    "\n",
    "from steves_utils.stratified_dataset.episodic_accessor import Episodic_Accessor_Factory\n",
    "\n",
    "from steves_utils.ptn_do_report import (\n",
    "    get_loss_curve,\n",
    "    get_results_table,\n",
    "    get_parameters_table,\n",
    "    get_domain_accuracies,\n",
    ")\n",
    "\n",
    "from steves_utils.transforms import get_chained_transform"
   ]
  },
  {
   "cell_type": "markdown",
   "id": "41c840b4",
   "metadata": {
    "papermill": {
     "duration": 0.01973,
     "end_time": "2022-03-22T08:12:35.575318",
     "exception": false,
     "start_time": "2022-03-22T08:12:35.555588",
     "status": "completed"
    },
    "tags": []
   },
   "source": [
    "# Allowed Parameters\n",
    "These are allowed parameters, not defaults\n",
    "Each of these values need to be present in the injected parameters (the notebook will raise an exception if they are not present)\n",
    "\n",
    "Papermill uses the cell tag \"parameters\" to inject the real parameters below this cell.\n",
    "Enable tags to see what I mean"
   ]
  },
  {
   "cell_type": "code",
   "execution_count": 2,
   "id": "fd44eb83",
   "metadata": {
    "execution": {
     "iopub.execute_input": "2022-03-22T08:12:35.620586Z",
     "iopub.status.busy": "2022-03-22T08:12:35.620191Z",
     "iopub.status.idle": "2022-03-22T08:12:35.642386Z",
     "shell.execute_reply": "2022-03-22T08:12:35.641570Z"
    },
    "papermill": {
     "duration": 0.04734,
     "end_time": "2022-03-22T08:12:35.642557",
     "exception": false,
     "start_time": "2022-03-22T08:12:35.595217",
     "status": "completed"
    },
    "tags": []
   },
   "outputs": [],
   "source": [
    "required_parameters = {\n",
    "    \"experiment_name\",\n",
    "    \"lr\",\n",
    "    \"device\",\n",
    "    \"seed\",\n",
    "    \"dataset_seed\",\n",
    "    \"n_shot\",\n",
    "    \"n_query\",\n",
    "    \"n_way\",\n",
    "    \"train_k_factor\",\n",
    "    \"val_k_factor\",\n",
    "    \"test_k_factor\",\n",
    "    \"n_epoch\",\n",
    "    \"patience\",\n",
    "    \"criteria_for_best\",\n",
    "    \"x_net\",\n",
    "    \"datasets\",\n",
    "    \"torch_default_dtype\",\n",
    "    \"NUM_LOGS_PER_EPOCH\",\n",
    "    \"BEST_MODEL_PATH\",\n",
    "    \"x_shape\",\n",
    "}"
   ]
  },
  {
   "cell_type": "code",
   "execution_count": 3,
   "id": "fa3f0049",
   "metadata": {
    "execution": {
     "iopub.execute_input": "2022-03-22T08:12:35.713553Z",
     "iopub.status.busy": "2022-03-22T08:12:35.708843Z",
     "iopub.status.idle": "2022-03-22T08:12:35.730772Z",
     "shell.execute_reply": "2022-03-22T08:12:35.729950Z"
    },
    "papermill": {
     "duration": 0.054144,
     "end_time": "2022-03-22T08:12:35.730948",
     "exception": false,
     "start_time": "2022-03-22T08:12:35.676804",
     "status": "completed"
    },
    "tags": [
     "parameters"
    ]
   },
   "outputs": [],
   "source": [
    "from steves_utils.CORES.utils import (\n",
    "    ALL_NODES,\n",
    "    ALL_NODES_MINIMUM_1000_EXAMPLES,\n",
    "    ALL_DAYS\n",
    ")\n",
    "\n",
    "from steves_utils.ORACLE.utils_v2 import (\n",
    "    ALL_DISTANCES_FEET_NARROWED,\n",
    "    ALL_RUNS,\n",
    "    ALL_SERIAL_NUMBERS,\n",
    ")\n",
    "\n",
    "standalone_parameters = {}\n",
    "standalone_parameters[\"experiment_name\"] = \"STANDALONE PTN\"\n",
    "standalone_parameters[\"lr\"] = 0.001\n",
    "standalone_parameters[\"device\"] = \"cuda\"\n",
    "\n",
    "standalone_parameters[\"seed\"] = 1337\n",
    "standalone_parameters[\"dataset_seed\"] = 1337\n",
    "\n",
    "standalone_parameters[\"n_way\"] = 8\n",
    "standalone_parameters[\"n_shot\"] = 3\n",
    "standalone_parameters[\"n_query\"]  = 2\n",
    "standalone_parameters[\"train_k_factor\"] = 1\n",
    "standalone_parameters[\"val_k_factor\"] = 2\n",
    "standalone_parameters[\"test_k_factor\"] = 2\n",
    "\n",
    "\n",
    "standalone_parameters[\"n_epoch\"] = 50\n",
    "\n",
    "standalone_parameters[\"patience\"] = 10\n",
    "standalone_parameters[\"criteria_for_best\"] = \"source_loss\"\n",
    "\n",
    "standalone_parameters[\"datasets\"] = [\n",
    "    {\n",
    "        \"labels\": ALL_SERIAL_NUMBERS,\n",
    "        \"domains\": ALL_DISTANCES_FEET_NARROWED,\n",
    "        \"num_examples_per_domain_per_label\": 100,\n",
    "        \"pickle_path\": os.path.join(get_datasets_base_path(), \"oracle.Run1_framed_2000Examples_stratified_ds.2022A.pkl\"),\n",
    "        \"source_or_target_dataset\": \"source\",\n",
    "        \"x_transforms\": [\"unit_mag\", \"minus_two\"],\n",
    "        \"episode_transforms\": [],\n",
    "        \"domain_prefix\": \"ORACLE_\"\n",
    "    },\n",
    "    {\n",
    "        \"labels\": ALL_NODES,\n",
    "        \"domains\": ALL_DAYS,\n",
    "        \"num_examples_per_domain_per_label\": 100,\n",
    "        \"pickle_path\": os.path.join(get_datasets_base_path(), \"cores.stratified_ds.2022A.pkl\"),\n",
    "        \"source_or_target_dataset\": \"target\",\n",
    "        \"x_transforms\": [\"unit_power\", \"times_zero\"],\n",
    "        \"episode_transforms\": [],\n",
    "        \"domain_prefix\": \"CORES_\"\n",
    "    }   \n",
    "]\n",
    "\n",
    "standalone_parameters[\"torch_default_dtype\"] = \"torch.float32\" \n",
    "\n",
    "\n",
    "\n",
    "standalone_parameters[\"x_net\"] =     [\n",
    "    {\"class\": \"nnReshape\", \"kargs\": {\"shape\":[-1, 1, 2, 256]}},\n",
    "    {\"class\": \"Conv2d\", \"kargs\": { \"in_channels\":1, \"out_channels\":256, \"kernel_size\":(1,7), \"bias\":False, \"padding\":(0,3), },},\n",
    "    {\"class\": \"ReLU\", \"kargs\": {\"inplace\": True}},\n",
    "    {\"class\": \"BatchNorm2d\", \"kargs\": {\"num_features\":256}},\n",
    "\n",
    "    {\"class\": \"Conv2d\", \"kargs\": { \"in_channels\":256, \"out_channels\":80, \"kernel_size\":(2,7), \"bias\":True, \"padding\":(0,3), },},\n",
    "    {\"class\": \"ReLU\", \"kargs\": {\"inplace\": True}},\n",
    "    {\"class\": \"BatchNorm2d\", \"kargs\": {\"num_features\":80}},\n",
    "    {\"class\": \"Flatten\", \"kargs\": {}},\n",
    "\n",
    "    {\"class\": \"Linear\", \"kargs\": {\"in_features\": 80*256, \"out_features\": 256}}, # 80 units per IQ pair\n",
    "    {\"class\": \"ReLU\", \"kargs\": {\"inplace\": True}},\n",
    "    {\"class\": \"BatchNorm1d\", \"kargs\": {\"num_features\":256}},\n",
    "\n",
    "    {\"class\": \"Linear\", \"kargs\": {\"in_features\": 256, \"out_features\": 256}},\n",
    "]\n",
    "\n",
    "# Parameters relevant to results\n",
    "# These parameters will basically never need to change\n",
    "standalone_parameters[\"NUM_LOGS_PER_EPOCH\"] = 10\n",
    "standalone_parameters[\"BEST_MODEL_PATH\"] = \"./best_model.pth\"\n",
    "\n",
    "\n",
    "\n",
    "\n"
   ]
  },
  {
   "cell_type": "code",
   "execution_count": 4,
   "id": "aa82dd63",
   "metadata": {
    "execution": {
     "iopub.execute_input": "2022-03-22T08:12:35.792666Z",
     "iopub.status.busy": "2022-03-22T08:12:35.790490Z",
     "iopub.status.idle": "2022-03-22T08:12:35.812015Z",
     "shell.execute_reply": "2022-03-22T08:12:35.811150Z"
    },
    "papermill": {
     "duration": 0.055994,
     "end_time": "2022-03-22T08:12:35.812191",
     "exception": false,
     "start_time": "2022-03-22T08:12:35.756197",
     "status": "completed"
    },
    "tags": [
     "injected-parameters"
    ]
   },
   "outputs": [],
   "source": [
    "# Parameters\n",
    "parameters = {\n",
    "    \"experiment_name\": \"tl_1v2:cores-oracle.run1.limited\",\n",
    "    \"device\": \"cuda\",\n",
    "    \"lr\": 0.0001,\n",
    "    \"n_shot\": 3,\n",
    "    \"n_query\": 2,\n",
    "    \"train_k_factor\": 3,\n",
    "    \"val_k_factor\": 2,\n",
    "    \"test_k_factor\": 2,\n",
    "    \"torch_default_dtype\": \"torch.float32\",\n",
    "    \"n_epoch\": 50,\n",
    "    \"patience\": 3,\n",
    "    \"criteria_for_best\": \"target_accuracy\",\n",
    "    \"x_net\": [\n",
    "        {\"class\": \"nnReshape\", \"kargs\": {\"shape\": [-1, 1, 2, 256]}},\n",
    "        {\n",
    "            \"class\": \"Conv2d\",\n",
    "            \"kargs\": {\n",
    "                \"in_channels\": 1,\n",
    "                \"out_channels\": 256,\n",
    "                \"kernel_size\": [1, 7],\n",
    "                \"bias\": False,\n",
    "                \"padding\": [0, 3],\n",
    "            },\n",
    "        },\n",
    "        {\"class\": \"ReLU\", \"kargs\": {\"inplace\": True}},\n",
    "        {\"class\": \"BatchNorm2d\", \"kargs\": {\"num_features\": 256}},\n",
    "        {\n",
    "            \"class\": \"Conv2d\",\n",
    "            \"kargs\": {\n",
    "                \"in_channels\": 256,\n",
    "                \"out_channels\": 80,\n",
    "                \"kernel_size\": [2, 7],\n",
    "                \"bias\": True,\n",
    "                \"padding\": [0, 3],\n",
    "            },\n",
    "        },\n",
    "        {\"class\": \"ReLU\", \"kargs\": {\"inplace\": True}},\n",
    "        {\"class\": \"BatchNorm2d\", \"kargs\": {\"num_features\": 80}},\n",
    "        {\"class\": \"Flatten\", \"kargs\": {}},\n",
    "        {\"class\": \"Linear\", \"kargs\": {\"in_features\": 20480, \"out_features\": 256}},\n",
    "        {\"class\": \"ReLU\", \"kargs\": {\"inplace\": True}},\n",
    "        {\"class\": \"BatchNorm1d\", \"kargs\": {\"num_features\": 256}},\n",
    "        {\"class\": \"Linear\", \"kargs\": {\"in_features\": 256, \"out_features\": 256}},\n",
    "    ],\n",
    "    \"NUM_LOGS_PER_EPOCH\": 10,\n",
    "    \"BEST_MODEL_PATH\": \"./best_model.pth\",\n",
    "    \"n_way\": 16,\n",
    "    \"datasets\": [\n",
    "        {\n",
    "            \"labels\": [\n",
    "                \"1-10.\",\n",
    "                \"1-11.\",\n",
    "                \"1-15.\",\n",
    "                \"1-16.\",\n",
    "                \"1-17.\",\n",
    "                \"1-18.\",\n",
    "                \"1-19.\",\n",
    "                \"10-4.\",\n",
    "                \"10-7.\",\n",
    "                \"11-1.\",\n",
    "                \"11-14.\",\n",
    "                \"11-17.\",\n",
    "                \"11-20.\",\n",
    "                \"11-7.\",\n",
    "                \"13-20.\",\n",
    "                \"13-8.\",\n",
    "                \"14-10.\",\n",
    "                \"14-11.\",\n",
    "                \"14-14.\",\n",
    "                \"14-7.\",\n",
    "                \"15-1.\",\n",
    "                \"15-20.\",\n",
    "                \"16-1.\",\n",
    "                \"16-16.\",\n",
    "                \"17-10.\",\n",
    "                \"17-11.\",\n",
    "                \"17-2.\",\n",
    "                \"19-1.\",\n",
    "                \"19-16.\",\n",
    "                \"19-19.\",\n",
    "                \"19-20.\",\n",
    "                \"19-3.\",\n",
    "                \"2-10.\",\n",
    "                \"2-11.\",\n",
    "                \"2-17.\",\n",
    "                \"2-18.\",\n",
    "                \"2-20.\",\n",
    "                \"2-3.\",\n",
    "                \"2-4.\",\n",
    "                \"2-5.\",\n",
    "                \"2-6.\",\n",
    "                \"2-7.\",\n",
    "                \"2-8.\",\n",
    "                \"3-13.\",\n",
    "                \"3-18.\",\n",
    "                \"3-3.\",\n",
    "                \"4-1.\",\n",
    "                \"4-10.\",\n",
    "                \"4-11.\",\n",
    "                \"4-19.\",\n",
    "                \"5-5.\",\n",
    "                \"6-15.\",\n",
    "                \"7-10.\",\n",
    "                \"7-14.\",\n",
    "                \"8-18.\",\n",
    "                \"8-20.\",\n",
    "                \"8-3.\",\n",
    "                \"8-8.\",\n",
    "            ],\n",
    "            \"domains\": [1, 2, 3, 4, 5],\n",
    "            \"num_examples_per_domain_per_label\": -1,\n",
    "            \"pickle_path\": \"/root/csc500-main/datasets/cores.stratified_ds.2022A.pkl\",\n",
    "            \"source_or_target_dataset\": \"source\",\n",
    "            \"x_transforms\": [],\n",
    "            \"episode_transforms\": [],\n",
    "            \"domain_prefix\": \"CORES_\",\n",
    "        },\n",
    "        {\n",
    "            \"labels\": [\n",
    "                \"3123D52\",\n",
    "                \"3123D65\",\n",
    "                \"3123D79\",\n",
    "                \"3123D80\",\n",
    "                \"3123D54\",\n",
    "                \"3123D70\",\n",
    "                \"3123D7B\",\n",
    "                \"3123D89\",\n",
    "                \"3123D58\",\n",
    "                \"3123D76\",\n",
    "                \"3123D7D\",\n",
    "                \"3123EFE\",\n",
    "                \"3123D64\",\n",
    "                \"3123D78\",\n",
    "                \"3123D7E\",\n",
    "                \"3124E4A\",\n",
    "            ],\n",
    "            \"domains\": [32, 38, 8, 44, 14, 50, 20, 26],\n",
    "            \"num_examples_per_domain_per_label\": 2000,\n",
    "            \"pickle_path\": \"/root/csc500-main/datasets/oracle.Run1_10kExamples_stratified_ds.2022A.pkl\",\n",
    "            \"source_or_target_dataset\": \"target\",\n",
    "            \"x_transforms\": [],\n",
    "            \"episode_transforms\": [],\n",
    "            \"domain_prefix\": \"ORACLE.run1_\",\n",
    "        },\n",
    "    ],\n",
    "    \"dataset_seed\": 420,\n",
    "    \"seed\": 420,\n",
    "}\n"
   ]
  },
  {
   "cell_type": "code",
   "execution_count": 5,
   "id": "8fa1cc33",
   "metadata": {
    "execution": {
     "iopub.execute_input": "2022-03-22T08:12:35.866718Z",
     "iopub.status.busy": "2022-03-22T08:12:35.866329Z",
     "iopub.status.idle": "2022-03-22T08:12:35.884453Z",
     "shell.execute_reply": "2022-03-22T08:12:35.885122Z"
    },
    "papermill": {
     "duration": 0.042857,
     "end_time": "2022-03-22T08:12:35.885335",
     "exception": false,
     "start_time": "2022-03-22T08:12:35.842478",
     "status": "completed"
    },
    "tags": []
   },
   "outputs": [],
   "source": [
    "# Set this to True if you want to run this template directly\n",
    "STANDALONE = False\n",
    "if STANDALONE:\n",
    "    print(\"parameters not injected, running with standalone_parameters\")\n",
    "    parameters = standalone_parameters\n",
    "\n",
    "if not 'parameters' in locals() and not 'parameters' in globals():\n",
    "    raise Exception(\"Parameter injection failed\")\n",
    "\n",
    "#Use an easy dict for all the parameters\n",
    "p = EasyDict(parameters)\n",
    "\n",
    "if \"x_shape\" not in p:\n",
    "    p.x_shape = [2,256] # Default to this if we dont supply x_shape\n",
    "\n",
    "\n",
    "supplied_keys = set(p.keys())\n",
    "\n",
    "if  supplied_keys != required_parameters:\n",
    "    print(\"Parameters are incorrect\")\n",
    "    if len(supplied_keys - required_parameters)>0: print(\"Shouldn't have:\", str(supplied_keys - required_parameters))\n",
    "    if len(required_parameters - supplied_keys)>0: print(\"Need to have:\", str(required_parameters - supplied_keys))\n",
    "    raise RuntimeError(\"Parameters are incorrect\")"
   ]
  },
  {
   "cell_type": "code",
   "execution_count": 6,
   "id": "3a028d58",
   "metadata": {
    "execution": {
     "iopub.execute_input": "2022-03-22T08:12:35.935679Z",
     "iopub.status.busy": "2022-03-22T08:12:35.935274Z",
     "iopub.status.idle": "2022-03-22T08:12:35.955024Z",
     "shell.execute_reply": "2022-03-22T08:12:35.954200Z"
    },
    "papermill": {
     "duration": 0.043263,
     "end_time": "2022-03-22T08:12:35.955199",
     "exception": false,
     "start_time": "2022-03-22T08:12:35.911936",
     "status": "completed"
    },
    "tags": []
   },
   "outputs": [],
   "source": [
    "###################################\n",
    "# Set the RNGs and make it all deterministic\n",
    "###################################\n",
    "np.random.seed(p.seed)\n",
    "random.seed(p.seed)\n",
    "torch.manual_seed(p.seed)\n",
    "\n",
    "torch.use_deterministic_algorithms(True) "
   ]
  },
  {
   "cell_type": "code",
   "execution_count": 7,
   "id": "b691acf6",
   "metadata": {
    "execution": {
     "iopub.execute_input": "2022-03-22T08:12:36.004824Z",
     "iopub.status.busy": "2022-03-22T08:12:36.004445Z",
     "iopub.status.idle": "2022-03-22T08:12:36.028854Z",
     "shell.execute_reply": "2022-03-22T08:12:36.028043Z"
    },
    "papermill": {
     "duration": 0.048107,
     "end_time": "2022-03-22T08:12:36.029026",
     "exception": false,
     "start_time": "2022-03-22T08:12:35.980919",
     "status": "completed"
    },
    "tags": []
   },
   "outputs": [],
   "source": [
    "###########################################\n",
    "# The stratified datasets honor this\n",
    "###########################################\n",
    "torch.set_default_dtype(eval(p.torch_default_dtype))"
   ]
  },
  {
   "cell_type": "code",
   "execution_count": 8,
   "id": "b5fba671",
   "metadata": {
    "execution": {
     "iopub.execute_input": "2022-03-22T08:12:36.083610Z",
     "iopub.status.busy": "2022-03-22T08:12:36.081671Z",
     "iopub.status.idle": "2022-03-22T08:12:36.139327Z",
     "shell.execute_reply": "2022-03-22T08:12:36.138576Z"
    },
    "papermill": {
     "duration": 0.080502,
     "end_time": "2022-03-22T08:12:36.139505",
     "exception": false,
     "start_time": "2022-03-22T08:12:36.059003",
     "status": "completed"
    },
    "tags": []
   },
   "outputs": [],
   "source": [
    "###################################\n",
    "# Build the network(s)\n",
    "# Note: It's critical to do this AFTER setting the RNG\n",
    "###################################\n",
    "x_net = build_sequential(p.x_net)"
   ]
  },
  {
   "cell_type": "code",
   "execution_count": 9,
   "id": "5d7e61cc",
   "metadata": {
    "execution": {
     "iopub.execute_input": "2022-03-22T08:12:36.190638Z",
     "iopub.status.busy": "2022-03-22T08:12:36.190264Z",
     "iopub.status.idle": "2022-03-22T08:12:36.216488Z",
     "shell.execute_reply": "2022-03-22T08:12:36.215708Z"
    },
    "papermill": {
     "duration": 0.049815,
     "end_time": "2022-03-22T08:12:36.216663",
     "exception": false,
     "start_time": "2022-03-22T08:12:36.166848",
     "status": "completed"
    },
    "tags": []
   },
   "outputs": [],
   "source": [
    "start_time_secs = time.time()"
   ]
  },
  {
   "cell_type": "code",
   "execution_count": 10,
   "id": "c6b67dfd",
   "metadata": {
    "execution": {
     "iopub.execute_input": "2022-03-22T08:12:36.278959Z",
     "iopub.status.busy": "2022-03-22T08:12:36.276448Z",
     "iopub.status.idle": "2022-03-22T08:12:36.291326Z",
     "shell.execute_reply": "2022-03-22T08:12:36.290508Z"
    },
    "papermill": {
     "duration": 0.044679,
     "end_time": "2022-03-22T08:12:36.291495",
     "exception": false,
     "start_time": "2022-03-22T08:12:36.246816",
     "status": "completed"
    },
    "tags": []
   },
   "outputs": [],
   "source": [
    "p.domains_source = []\n",
    "p.domains_target = []\n",
    "\n",
    "\n",
    "train_original_source = []\n",
    "val_original_source   = []\n",
    "test_original_source  = []\n",
    "\n",
    "train_original_target = []\n",
    "val_original_target   = []\n",
    "test_original_target  = []"
   ]
  },
  {
   "cell_type": "code",
   "execution_count": 11,
   "id": "e3d9c3d3",
   "metadata": {
    "execution": {
     "iopub.execute_input": "2022-03-22T08:12:36.343645Z",
     "iopub.status.busy": "2022-03-22T08:12:36.342750Z",
     "iopub.status.idle": "2022-03-22T08:12:36.365435Z",
     "shell.execute_reply": "2022-03-22T08:12:36.364723Z"
    },
    "papermill": {
     "duration": 0.045675,
     "end_time": "2022-03-22T08:12:36.365605",
     "exception": false,
     "start_time": "2022-03-22T08:12:36.319930",
     "status": "completed"
    },
    "tags": []
   },
   "outputs": [],
   "source": [
    "# global_x_transform_func = lambda x: normalize(x.to(torch.get_default_dtype()), \"unit_power\") # unit_power, unit_mag\n",
    "# global_x_transform_func = lambda x: normalize(x, \"unit_power\") # unit_power, unit_mag"
   ]
  },
  {
   "cell_type": "code",
   "execution_count": 12,
   "id": "acb78fd2",
   "metadata": {
    "execution": {
     "iopub.execute_input": "2022-03-22T08:12:36.427731Z",
     "iopub.status.busy": "2022-03-22T08:12:36.417438Z",
     "iopub.status.idle": "2022-03-22T08:12:36.448647Z",
     "shell.execute_reply": "2022-03-22T08:12:36.447912Z"
    },
    "papermill": {
     "duration": 0.056622,
     "end_time": "2022-03-22T08:12:36.448816",
     "exception": false,
     "start_time": "2022-03-22T08:12:36.392194",
     "status": "completed"
    },
    "tags": []
   },
   "outputs": [],
   "source": [
    "def add_dataset(\n",
    "    labels,\n",
    "    domains,\n",
    "    pickle_path,\n",
    "    x_transforms,\n",
    "    episode_transforms,\n",
    "    domain_prefix,\n",
    "    num_examples_per_domain_per_label,\n",
    "    source_or_target_dataset:str,\n",
    "    iterator_seed=p.seed,\n",
    "    dataset_seed=p.dataset_seed,\n",
    "    n_shot=p.n_shot,\n",
    "    n_way=p.n_way,\n",
    "    n_query=p.n_query,\n",
    "    train_val_test_k_factors=(p.train_k_factor,p.val_k_factor,p.test_k_factor),\n",
    "):\n",
    "   \n",
    "    if x_transforms == []: x_transform = None\n",
    "    else: x_transform = get_chained_transform(x_transforms)\n",
    "    \n",
    "    if episode_transforms == []: episode_transform = None\n",
    "    else: raise Exception(\"episode_transforms not implemented\")\n",
    "    \n",
    "    episode_transform = lambda tup, _prefix=domain_prefix: (_prefix + str(tup[0]), tup[1])\n",
    "\n",
    "\n",
    "    eaf = Episodic_Accessor_Factory(\n",
    "        labels=labels,\n",
    "        domains=domains,\n",
    "        num_examples_per_domain_per_label=num_examples_per_domain_per_label,\n",
    "        iterator_seed=iterator_seed,\n",
    "        dataset_seed=dataset_seed,\n",
    "        n_shot=n_shot,\n",
    "        n_way=n_way,\n",
    "        n_query=n_query,\n",
    "        train_val_test_k_factors=train_val_test_k_factors,\n",
    "        pickle_path=pickle_path,\n",
    "        x_transform_func=x_transform,\n",
    "    )\n",
    "\n",
    "    train, val, test = eaf.get_train(), eaf.get_val(), eaf.get_test()\n",
    "    train = Lazy_Iterable_Wrapper(train, episode_transform)\n",
    "    val = Lazy_Iterable_Wrapper(val, episode_transform)\n",
    "    test = Lazy_Iterable_Wrapper(test, episode_transform)\n",
    "\n",
    "    if source_or_target_dataset==\"source\":\n",
    "        train_original_source.append(train)\n",
    "        val_original_source.append(val)\n",
    "        test_original_source.append(test)\n",
    "\n",
    "        p.domains_source.extend(\n",
    "            [domain_prefix + str(u) for u in domains]\n",
    "        )\n",
    "    elif source_or_target_dataset==\"target\":\n",
    "        train_original_target.append(train)\n",
    "        val_original_target.append(val)\n",
    "        test_original_target.append(test)\n",
    "        p.domains_target.extend(\n",
    "            [domain_prefix + str(u) for u in domains]\n",
    "        )\n",
    "    else:\n",
    "        raise Exception(f\"invalid source_or_target_dataset: {source_or_target_dataset}\")\n",
    "    "
   ]
  },
  {
   "cell_type": "code",
   "execution_count": 13,
   "id": "fe266617",
   "metadata": {
    "execution": {
     "iopub.execute_input": "2022-03-22T08:12:36.500310Z",
     "iopub.status.busy": "2022-03-22T08:12:36.499748Z",
     "iopub.status.idle": "2022-03-22T08:12:43.259040Z",
     "shell.execute_reply": "2022-03-22T08:12:43.258271Z"
    },
    "papermill": {
     "duration": 6.782656,
     "end_time": "2022-03-22T08:12:43.259220",
     "exception": false,
     "start_time": "2022-03-22T08:12:36.476564",
     "status": "completed"
    },
    "tags": []
   },
   "outputs": [],
   "source": [
    "for ds in p.datasets:\n",
    "    add_dataset(**ds)"
   ]
  },
  {
   "cell_type": "code",
   "execution_count": 14,
   "id": "b90d65ac",
   "metadata": {
    "execution": {
     "iopub.execute_input": "2022-03-22T08:12:43.309594Z",
     "iopub.status.busy": "2022-03-22T08:12:43.308943Z",
     "iopub.status.idle": "2022-03-22T08:12:43.335960Z",
     "shell.execute_reply": "2022-03-22T08:12:43.335115Z"
    },
    "papermill": {
     "duration": 0.050615,
     "end_time": "2022-03-22T08:12:43.336124",
     "exception": false,
     "start_time": "2022-03-22T08:12:43.285509",
     "status": "completed"
    },
    "tags": []
   },
   "outputs": [],
   "source": [
    "# from steves_utils.CORES.utils import (\n",
    "#     ALL_NODES,\n",
    "#     ALL_NODES_MINIMUM_1000_EXAMPLES,\n",
    "#     ALL_DAYS\n",
    "# )\n",
    "\n",
    "# add_dataset(\n",
    "#     labels=ALL_NODES,\n",
    "#     domains = ALL_DAYS,\n",
    "#     num_examples_per_domain_per_label=100,\n",
    "#     pickle_path=os.path.join(get_datasets_base_path(), \"cores.stratified_ds.2022A.pkl\"),\n",
    "#     source_or_target_dataset=\"target\",\n",
    "#     x_transform_func=global_x_transform_func,\n",
    "#     domain_modifier=lambda u: f\"cores_{u}\"\n",
    "# )"
   ]
  },
  {
   "cell_type": "code",
   "execution_count": 15,
   "id": "76db484d",
   "metadata": {
    "execution": {
     "iopub.execute_input": "2022-03-22T08:12:43.388589Z",
     "iopub.status.busy": "2022-03-22T08:12:43.388215Z",
     "iopub.status.idle": "2022-03-22T08:12:43.409606Z",
     "shell.execute_reply": "2022-03-22T08:12:43.410264Z"
    },
    "papermill": {
     "duration": 0.046132,
     "end_time": "2022-03-22T08:12:43.410460",
     "exception": false,
     "start_time": "2022-03-22T08:12:43.364328",
     "status": "completed"
    },
    "tags": []
   },
   "outputs": [],
   "source": [
    "# from steves_utils.ORACLE.utils_v2 import (\n",
    "#     ALL_DISTANCES_FEET,\n",
    "#     ALL_RUNS,\n",
    "#     ALL_SERIAL_NUMBERS,\n",
    "# )\n",
    "\n",
    "\n",
    "# add_dataset(\n",
    "#     labels=ALL_SERIAL_NUMBERS,\n",
    "#     domains = list(set(ALL_DISTANCES_FEET) - {2,62}),\n",
    "#     num_examples_per_domain_per_label=100,\n",
    "#     pickle_path=os.path.join(get_datasets_base_path(), \"oracle.Run2_framed_2000Examples_stratified_ds.2022A.pkl\"),\n",
    "#     source_or_target_dataset=\"source\",\n",
    "#     x_transform_func=global_x_transform_func,\n",
    "#     domain_modifier=lambda u: f\"oracle1_{u}\"\n",
    "# )\n"
   ]
  },
  {
   "cell_type": "code",
   "execution_count": 16,
   "id": "97dea9d2",
   "metadata": {
    "execution": {
     "iopub.execute_input": "2022-03-22T08:12:43.461752Z",
     "iopub.status.busy": "2022-03-22T08:12:43.461377Z",
     "iopub.status.idle": "2022-03-22T08:12:43.482341Z",
     "shell.execute_reply": "2022-03-22T08:12:43.481643Z"
    },
    "papermill": {
     "duration": 0.044725,
     "end_time": "2022-03-22T08:12:43.482502",
     "exception": false,
     "start_time": "2022-03-22T08:12:43.437777",
     "status": "completed"
    },
    "tags": []
   },
   "outputs": [],
   "source": [
    "# from steves_utils.ORACLE.utils_v2 import (\n",
    "#     ALL_DISTANCES_FEET,\n",
    "#     ALL_RUNS,\n",
    "#     ALL_SERIAL_NUMBERS,\n",
    "# )\n",
    "\n",
    "\n",
    "# add_dataset(\n",
    "#     labels=ALL_SERIAL_NUMBERS,\n",
    "#     domains = list(set(ALL_DISTANCES_FEET) - {2,62,56}),\n",
    "#     num_examples_per_domain_per_label=100,\n",
    "#     pickle_path=os.path.join(get_datasets_base_path(), \"oracle.Run2_framed_2000Examples_stratified_ds.2022A.pkl\"),\n",
    "#     source_or_target_dataset=\"source\",\n",
    "#     x_transform_func=global_x_transform_func,\n",
    "#     domain_modifier=lambda u: f\"oracle2_{u}\"\n",
    "# )"
   ]
  },
  {
   "cell_type": "code",
   "execution_count": 17,
   "id": "6f289866",
   "metadata": {
    "execution": {
     "iopub.execute_input": "2022-03-22T08:12:43.532310Z",
     "iopub.status.busy": "2022-03-22T08:12:43.531938Z",
     "iopub.status.idle": "2022-03-22T08:12:43.547777Z",
     "shell.execute_reply": "2022-03-22T08:12:43.548438Z"
    },
    "papermill": {
     "duration": 0.03958,
     "end_time": "2022-03-22T08:12:43.548630",
     "exception": false,
     "start_time": "2022-03-22T08:12:43.509050",
     "status": "completed"
    },
    "tags": []
   },
   "outputs": [],
   "source": [
    "# add_dataset(\n",
    "#     labels=list(range(19)),\n",
    "#     domains = [0,1,2],\n",
    "#     num_examples_per_domain_per_label=100,\n",
    "#     pickle_path=os.path.join(get_datasets_base_path(), \"metehan.stratified_ds.2022A.pkl\"),\n",
    "#     source_or_target_dataset=\"target\",\n",
    "#     x_transform_func=global_x_transform_func,\n",
    "#     domain_modifier=lambda u: f\"met_{u}\"\n",
    "# )"
   ]
  },
  {
   "cell_type": "code",
   "execution_count": 18,
   "id": "86a863c3",
   "metadata": {
    "execution": {
     "iopub.execute_input": "2022-03-22T08:12:43.602925Z",
     "iopub.status.busy": "2022-03-22T08:12:43.602549Z",
     "iopub.status.idle": "2022-03-22T08:12:43.626872Z",
     "shell.execute_reply": "2022-03-22T08:12:43.626170Z"
    },
    "papermill": {
     "duration": 0.048054,
     "end_time": "2022-03-22T08:12:43.627033",
     "exception": false,
     "start_time": "2022-03-22T08:12:43.578979",
     "status": "completed"
    },
    "tags": []
   },
   "outputs": [],
   "source": [
    "# # from steves_utils.wisig.utils import (\n",
    "# #     ALL_NODES_MINIMUM_100_EXAMPLES,\n",
    "# #     ALL_NODES_MINIMUM_500_EXAMPLES,\n",
    "# #     ALL_NODES_MINIMUM_1000_EXAMPLES,\n",
    "# #     ALL_DAYS\n",
    "# # )\n",
    "\n",
    "# import steves_utils.wisig.utils as wisig\n",
    "\n",
    "\n",
    "# add_dataset(\n",
    "#     labels=wisig.ALL_NODES_MINIMUM_100_EXAMPLES,\n",
    "#     domains = wisig.ALL_DAYS,\n",
    "#     num_examples_per_domain_per_label=100,\n",
    "#     pickle_path=os.path.join(get_datasets_base_path(), \"wisig.node3-19.stratified_ds.2022A.pkl\"),\n",
    "#     source_or_target_dataset=\"target\",\n",
    "#     x_transform_func=global_x_transform_func,\n",
    "#     domain_modifier=lambda u: f\"wisig_{u}\"\n",
    "# )"
   ]
  },
  {
   "cell_type": "code",
   "execution_count": 19,
   "id": "fd5442bc",
   "metadata": {
    "execution": {
     "iopub.execute_input": "2022-03-22T08:12:43.690526Z",
     "iopub.status.busy": "2022-03-22T08:12:43.689933Z",
     "iopub.status.idle": "2022-03-22T08:12:43.707734Z",
     "shell.execute_reply": "2022-03-22T08:12:43.706985Z"
    },
    "papermill": {
     "duration": 0.050899,
     "end_time": "2022-03-22T08:12:43.707898",
     "exception": false,
     "start_time": "2022-03-22T08:12:43.656999",
     "status": "completed"
    },
    "tags": []
   },
   "outputs": [],
   "source": [
    "###################################\n",
    "# Build the dataset\n",
    "###################################\n",
    "train_original_source = Iterable_Aggregator(train_original_source, p.seed)\n",
    "val_original_source = Iterable_Aggregator(val_original_source, p.seed)\n",
    "test_original_source = Iterable_Aggregator(test_original_source, p.seed)\n",
    "\n",
    "\n",
    "train_original_target = Iterable_Aggregator(train_original_target, p.seed)\n",
    "val_original_target = Iterable_Aggregator(val_original_target, p.seed)\n",
    "test_original_target = Iterable_Aggregator(test_original_target, p.seed)\n",
    "\n",
    "# For CNN We only use X and Y. And we only train on the source.\n",
    "# Properly form the data using a transform lambda and Lazy_Iterable_Wrapper. Finally wrap them in a dataloader\n",
    "\n",
    "transform_lambda = lambda ex: ex[1] # Original is (<domain>, <episode>) so we strip down to episode only\n",
    "\n",
    "train_processed_source = Lazy_Iterable_Wrapper(train_original_source, transform_lambda)\n",
    "val_processed_source   = Lazy_Iterable_Wrapper(val_original_source, transform_lambda)\n",
    "test_processed_source  = Lazy_Iterable_Wrapper(test_original_source, transform_lambda)\n",
    "\n",
    "train_processed_target = Lazy_Iterable_Wrapper(train_original_target, transform_lambda)\n",
    "val_processed_target   = Lazy_Iterable_Wrapper(val_original_target, transform_lambda)\n",
    "test_processed_target  = Lazy_Iterable_Wrapper(test_original_target, transform_lambda)\n",
    "\n",
    "datasets = EasyDict({\n",
    "    \"source\": {\n",
    "        \"original\": {\"train\":train_original_source, \"val\":val_original_source, \"test\":test_original_source},\n",
    "        \"processed\": {\"train\":train_processed_source, \"val\":val_processed_source, \"test\":test_processed_source}\n",
    "    },\n",
    "    \"target\": {\n",
    "        \"original\": {\"train\":train_original_target, \"val\":val_original_target, \"test\":test_original_target},\n",
    "        \"processed\": {\"train\":train_processed_target, \"val\":val_processed_target, \"test\":test_processed_target}\n",
    "    },\n",
    "})"
   ]
  },
  {
   "cell_type": "code",
   "execution_count": 20,
   "id": "5b3c01fc",
   "metadata": {
    "execution": {
     "iopub.execute_input": "2022-03-22T08:12:43.762519Z",
     "iopub.status.busy": "2022-03-22T08:12:43.761952Z",
     "iopub.status.idle": "2022-03-22T08:12:58.464035Z",
     "shell.execute_reply": "2022-03-22T08:12:58.463291Z"
    },
    "papermill": {
     "duration": 14.728153,
     "end_time": "2022-03-22T08:12:58.464229",
     "exception": false,
     "start_time": "2022-03-22T08:12:43.736076",
     "status": "completed"
    },
    "tags": []
   },
   "outputs": [
    {
     "name": "stdout",
     "output_type": "stream",
     "text": [
      "{'CORES_5', 'CORES_4', 'CORES_1', 'CORES_3', 'CORES_2'}\n"
     ]
    },
    {
     "name": "stdout",
     "output_type": "stream",
     "text": [
      "{'ORACLE.run1_26', 'ORACLE.run1_50', 'ORACLE.run1_38', 'ORACLE.run1_8', 'ORACLE.run1_32', 'ORACLE.run1_14', 'ORACLE.run1_44', 'ORACLE.run1_20'}\n"
     ]
    },
    {
     "name": "stdout",
     "output_type": "stream",
     "text": [
      "tensor([[[ 1.2299e-02, -4.9897e-02, -7.8829e-02,  ...,  4.6571e-02,\n",
      "           3.2624e-02, -3.7049e-02],\n",
      "         [ 2.8657e-02,  3.0976e-02, -1.4344e-03,  ...,  4.4038e-02,\n",
      "           3.5371e-02,  1.4618e-02]],\n",
      "\n",
      "        [[ 1.6663e-02,  3.9369e-03, -4.7548e-02,  ...,  2.8229e-02,\n",
      "           5.1179e-02,  8.4841e-03],\n",
      "         [ 5.9816e-03,  2.7070e-02,  3.3082e-02,  ...,  1.3977e-02,\n",
      "           2.1027e-02,  1.4069e-02]],\n",
      "\n",
      "        [[-2.3011e-02, -7.0497e-03,  2.8504e-02,  ..., -4.5747e-02,\n",
      "          -4.5137e-02,  1.6480e-03],\n",
      "         [-5.4933e-04, -3.5035e-02, -5.4140e-02,  ...,  7.6906e-03,\n",
      "           8.9419e-03, -2.2431e-02]],\n",
      "\n",
      "        ...,\n",
      "\n",
      "        [[ 2.0142e-03,  2.4415e-03,  6.1952e-03,  ...,  1.5076e-02,\n",
      "           3.3570e-03,  1.0163e-02],\n",
      "         [-2.1363e-04, -5.1881e-04,  1.5686e-02,  ...,  1.3916e-02,\n",
      "           6.7140e-03, -3.5096e-03]],\n",
      "\n",
      "        [[-1.1292e-02, -1.7426e-02,  2.5880e-02,  ..., -2.9298e-03,\n",
      "           8.1179e-03,  2.5513e-02],\n",
      "         [ 4.1505e-03, -2.2706e-02, -1.9715e-02,  ...,  1.0010e-02,\n",
      "          -1.4038e-03, -1.6785e-02]],\n",
      "\n",
      "        [[-1.9288e-02,  3.0518e-03,  3.4303e-02,  ...,  9.1555e-05,\n",
      "           1.9227e-02,  2.2431e-02],\n",
      "         [-6.8056e-03, -2.9389e-02,  6.2257e-03,  ...,  9.2776e-03,\n",
      "          -1.4771e-02, -2.0142e-03]]])\n"
     ]
    }
   ],
   "source": [
    "from steves_utils.transforms import get_average_magnitude, get_average_power\n",
    "\n",
    "print(set([u for u,_ in val_original_source]))\n",
    "print(set([u for u,_ in val_original_target]))\n",
    "\n",
    "s_x, s_y, q_x, q_y, _ = next(iter(train_processed_source))\n",
    "print(s_x)\n",
    "\n",
    "# for ds in [\n",
    "#     train_processed_source,\n",
    "#     val_processed_source,\n",
    "#     test_processed_source,\n",
    "#     train_processed_target,\n",
    "#     val_processed_target,\n",
    "#     test_processed_target\n",
    "# ]:\n",
    "#     for s_x, s_y, q_x, q_y, _ in ds:\n",
    "#         for X in (s_x, q_x):\n",
    "#             for x in X:\n",
    "#                 assert np.isclose(get_average_magnitude(x.numpy()), 1.0)\n",
    "#                 assert np.isclose(get_average_power(x.numpy()), 1.0)\n",
    "                "
   ]
  },
  {
   "cell_type": "code",
   "execution_count": 21,
   "id": "bbdacba1",
   "metadata": {
    "execution": {
     "iopub.execute_input": "2022-03-22T08:12:58.517200Z",
     "iopub.status.busy": "2022-03-22T08:12:58.516639Z",
     "iopub.status.idle": "2022-03-22T08:12:58.777523Z",
     "shell.execute_reply": "2022-03-22T08:12:58.777845Z"
    },
    "papermill": {
     "duration": 0.286692,
     "end_time": "2022-03-22T08:12:58.777983",
     "exception": false,
     "start_time": "2022-03-22T08:12:58.491291",
     "status": "completed"
    },
    "tags": []
   },
   "outputs": [
    {
     "name": "stdout",
     "output_type": "stream",
     "text": [
      "(2, 256)\n"
     ]
    }
   ],
   "source": [
    "###################################\n",
    "# Build the model\n",
    "###################################\n",
    "# easfsl only wants a tuple for the shape\n",
    "model = Steves_Prototypical_Network(x_net, device=p.device, x_shape=tuple(p.x_shape))\n",
    "optimizer = Adam(params=model.parameters(), lr=p.lr)"
   ]
  },
  {
   "cell_type": "code",
   "execution_count": 22,
   "id": "22b39ac5",
   "metadata": {
    "execution": {
     "iopub.execute_input": "2022-03-22T08:12:58.826332Z",
     "iopub.status.busy": "2022-03-22T08:12:58.825955Z",
     "iopub.status.idle": "2022-03-22T08:29:29.288435Z",
     "shell.execute_reply": "2022-03-22T08:29:29.288094Z"
    },
    "papermill": {
     "duration": 990.487799,
     "end_time": "2022-03-22T08:29:29.288525",
     "exception": false,
     "start_time": "2022-03-22T08:12:58.800726",
     "status": "completed"
    },
    "tags": []
   },
   "outputs": [
    {
     "name": "stdout",
     "output_type": "stream",
     "text": [
      "epoch: 1, [batch: 1 / 6315], examples_per_second: 34.7694, train_label_loss: 2.1004, \n"
     ]
    },
    {
     "name": "stdout",
     "output_type": "stream",
     "text": [
      "epoch: 1, [batch: 632 / 6315], examples_per_second: 3104.1995, train_label_loss: 0.0516, \n"
     ]
    },
    {
     "name": "stdout",
     "output_type": "stream",
     "text": [
      "epoch: 1, [batch: 1263 / 6315], examples_per_second: 3021.1211, train_label_loss: 0.0598, \n"
     ]
    },
    {
     "name": "stdout",
     "output_type": "stream",
     "text": [
      "epoch: 1, [batch: 1895 / 6315], examples_per_second: 2965.4549, train_label_loss: 0.0026, \n"
     ]
    },
    {
     "name": "stdout",
     "output_type": "stream",
     "text": [
      "epoch: 1, [batch: 2526 / 6315], examples_per_second: 2962.1164, train_label_loss: 0.0007, \n"
     ]
    },
    {
     "name": "stdout",
     "output_type": "stream",
     "text": [
      "epoch: 1, [batch: 3158 / 6315], examples_per_second: 2932.6294, train_label_loss: 0.0006, \n"
     ]
    },
    {
     "name": "stdout",
     "output_type": "stream",
     "text": [
      "epoch: 1, [batch: 3789 / 6315], examples_per_second: 3031.0562, train_label_loss: 0.0355, \n"
     ]
    },
    {
     "name": "stdout",
     "output_type": "stream",
     "text": [
      "epoch: 1, [batch: 4420 / 6315], examples_per_second: 3022.4373, train_label_loss: 0.0001, \n"
     ]
    },
    {
     "name": "stdout",
     "output_type": "stream",
     "text": [
      "epoch: 1, [batch: 5052 / 6315], examples_per_second: 2991.6943, train_label_loss: 0.0001, \n"
     ]
    },
    {
     "name": "stdout",
     "output_type": "stream",
     "text": [
      "epoch: 1, [batch: 5683 / 6315], examples_per_second: 3051.1373, train_label_loss: 0.0000, \n"
     ]
    },
    {
     "name": "stdout",
     "output_type": "stream",
     "text": [
      "=============================================================\n",
      "epoch: 1, source_val_acc_label: 0.9985, target_val_acc_label: 0.4109, source_val_label_loss: 0.0133, target_val_label_loss: 2.0379, \n",
      "=============================================================\n"
     ]
    },
    {
     "name": "stdout",
     "output_type": "stream",
     "text": [
      "New best\n"
     ]
    },
    {
     "name": "stdout",
     "output_type": "stream",
     "text": [
      "epoch: 2, [batch: 1 / 6307], examples_per_second: 3.0650, train_label_loss: 0.0181, \n"
     ]
    },
    {
     "name": "stdout",
     "output_type": "stream",
     "text": [
      "epoch: 2, [batch: 631 / 6307], examples_per_second: 3448.9316, train_label_loss: 0.0319, \n"
     ]
    },
    {
     "name": "stdout",
     "output_type": "stream",
     "text": [
      "epoch: 2, [batch: 1262 / 6307], examples_per_second: 2949.1888, train_label_loss: 0.0000, \n"
     ]
    },
    {
     "name": "stdout",
     "output_type": "stream",
     "text": [
      "epoch: 2, [batch: 1892 / 6307], examples_per_second: 3001.9842, train_label_loss: 0.0001, \n"
     ]
    },
    {
     "name": "stdout",
     "output_type": "stream",
     "text": [
      "epoch: 2, [batch: 2523 / 6307], examples_per_second: 2963.4602, train_label_loss: 0.0111, \n"
     ]
    },
    {
     "name": "stdout",
     "output_type": "stream",
     "text": [
      "epoch: 2, [batch: 3154 / 6307], examples_per_second: 2978.2025, train_label_loss: 0.0003, \n"
     ]
    },
    {
     "name": "stdout",
     "output_type": "stream",
     "text": [
      "epoch: 2, [batch: 3784 / 6307], examples_per_second: 3000.9893, train_label_loss: 0.0000, \n"
     ]
    },
    {
     "name": "stdout",
     "output_type": "stream",
     "text": [
      "epoch: 2, [batch: 4415 / 6307], examples_per_second: 2997.3475, train_label_loss: 0.0019, \n"
     ]
    },
    {
     "name": "stdout",
     "output_type": "stream",
     "text": [
      "epoch: 2, [batch: 5045 / 6307], examples_per_second: 2979.0691, train_label_loss: 0.0001, \n"
     ]
    },
    {
     "name": "stdout",
     "output_type": "stream",
     "text": [
      "epoch: 2, [batch: 5676 / 6307], examples_per_second: 2982.5499, train_label_loss: 0.0014, \n"
     ]
    },
    {
     "name": "stdout",
     "output_type": "stream",
     "text": [
      "=============================================================\n",
      "epoch: 2, source_val_acc_label: 0.9990, target_val_acc_label: 0.3973, source_val_label_loss: 0.0151, target_val_label_loss: 1.9753, \n",
      "=============================================================\n"
     ]
    },
    {
     "name": "stdout",
     "output_type": "stream",
     "text": [
      "epoch: 3, [batch: 1 / 6326], examples_per_second: 3.1058, train_label_loss: 0.0000, \n"
     ]
    },
    {
     "name": "stdout",
     "output_type": "stream",
     "text": [
      "epoch: 3, [batch: 633 / 6326], examples_per_second: 3962.9919, train_label_loss: 0.0000, \n"
     ]
    },
    {
     "name": "stdout",
     "output_type": "stream",
     "text": [
      "epoch: 3, [batch: 1266 / 6326], examples_per_second: 3665.7898, train_label_loss: 0.0000, \n"
     ]
    },
    {
     "name": "stdout",
     "output_type": "stream",
     "text": [
      "epoch: 3, [batch: 1898 / 6326], examples_per_second: 3530.4703, train_label_loss: 0.0000, \n"
     ]
    },
    {
     "name": "stdout",
     "output_type": "stream",
     "text": [
      "epoch: 3, [batch: 2531 / 6326], examples_per_second: 3363.0856, train_label_loss: 0.0011, \n"
     ]
    },
    {
     "name": "stdout",
     "output_type": "stream",
     "text": [
      "epoch: 3, [batch: 3163 / 6326], examples_per_second: 3628.2596, train_label_loss: 0.0000, \n"
     ]
    },
    {
     "name": "stdout",
     "output_type": "stream",
     "text": [
      "epoch: 3, [batch: 3796 / 6326], examples_per_second: 3571.8517, train_label_loss: 0.0019, \n"
     ]
    },
    {
     "name": "stdout",
     "output_type": "stream",
     "text": [
      "epoch: 3, [batch: 4428 / 6326], examples_per_second: 3862.9525, train_label_loss: 0.0000, \n"
     ]
    },
    {
     "name": "stdout",
     "output_type": "stream",
     "text": [
      "epoch: 3, [batch: 5061 / 6326], examples_per_second: 3448.9223, train_label_loss: 0.0000, \n"
     ]
    },
    {
     "name": "stdout",
     "output_type": "stream",
     "text": [
      "epoch: 3, [batch: 5693 / 6326], examples_per_second: 2983.7396, train_label_loss: 0.0000, \n"
     ]
    },
    {
     "name": "stdout",
     "output_type": "stream",
     "text": [
      "=============================================================\n",
      "epoch: 3, source_val_acc_label: 0.9989, target_val_acc_label: 0.3017, source_val_label_loss: 0.0133, target_val_label_loss: 2.1734, \n",
      "=============================================================\n"
     ]
    },
    {
     "name": "stdout",
     "output_type": "stream",
     "text": [
      "epoch: 4, [batch: 1 / 6302], examples_per_second: 2.9708, train_label_loss: 0.0000, \n"
     ]
    },
    {
     "name": "stdout",
     "output_type": "stream",
     "text": [
      "epoch: 4, [batch: 631 / 6302], examples_per_second: 3524.4146, train_label_loss: 0.0000, \n"
     ]
    },
    {
     "name": "stdout",
     "output_type": "stream",
     "text": [
      "epoch: 4, [batch: 1261 / 6302], examples_per_second: 3569.0783, train_label_loss: 0.0000, \n"
     ]
    },
    {
     "name": "stdout",
     "output_type": "stream",
     "text": [
      "epoch: 4, [batch: 1891 / 6302], examples_per_second: 2983.5310, train_label_loss: 0.0000, \n"
     ]
    },
    {
     "name": "stdout",
     "output_type": "stream",
     "text": [
      "epoch: 4, [batch: 2521 / 6302], examples_per_second: 2950.8851, train_label_loss: 0.0000, \n"
     ]
    },
    {
     "name": "stdout",
     "output_type": "stream",
     "text": [
      "epoch: 4, [batch: 3151 / 6302], examples_per_second: 2969.8076, train_label_loss: 0.0000, \n"
     ]
    },
    {
     "name": "stdout",
     "output_type": "stream",
     "text": [
      "epoch: 4, [batch: 3781 / 6302], examples_per_second: 3001.9989, train_label_loss: 0.0006, \n"
     ]
    },
    {
     "name": "stdout",
     "output_type": "stream",
     "text": [
      "epoch: 4, [batch: 4411 / 6302], examples_per_second: 2950.1432, train_label_loss: 0.0001, \n"
     ]
    },
    {
     "name": "stdout",
     "output_type": "stream",
     "text": [
      "epoch: 4, [batch: 5041 / 6302], examples_per_second: 2987.8303, train_label_loss: 0.0002, \n"
     ]
    },
    {
     "name": "stdout",
     "output_type": "stream",
     "text": [
      "epoch: 4, [batch: 5671 / 6302], examples_per_second: 2964.3856, train_label_loss: 0.0004, \n"
     ]
    },
    {
     "name": "stdout",
     "output_type": "stream",
     "text": [
      "=============================================================\n",
      "epoch: 4, source_val_acc_label: 0.9988, target_val_acc_label: 0.3985, source_val_label_loss: 0.0180, target_val_label_loss: 1.7131, \n",
      "=============================================================\n"
     ]
    },
    {
     "name": "stdout",
     "output_type": "stream",
     "text": [
      "epoch: 5, [batch: 1 / 6324], examples_per_second: 2.8810, train_label_loss: 0.0000, \n"
     ]
    },
    {
     "name": "stdout",
     "output_type": "stream",
     "text": [
      "epoch: 5, [batch: 633 / 6324], examples_per_second: 3414.6074, train_label_loss: 0.0000, \n"
     ]
    },
    {
     "name": "stdout",
     "output_type": "stream",
     "text": [
      "epoch: 5, [batch: 1265 / 6324], examples_per_second: 3444.8196, train_label_loss: 0.0001, \n"
     ]
    },
    {
     "name": "stdout",
     "output_type": "stream",
     "text": [
      "epoch: 5, [batch: 1897 / 6324], examples_per_second: 3485.7300, train_label_loss: 0.0000, \n"
     ]
    },
    {
     "name": "stdout",
     "output_type": "stream",
     "text": [
      "epoch: 5, [batch: 2530 / 6324], examples_per_second: 2983.9966, train_label_loss: 0.0001, \n"
     ]
    },
    {
     "name": "stdout",
     "output_type": "stream",
     "text": [
      "epoch: 5, [batch: 3162 / 6324], examples_per_second: 2984.3382, train_label_loss: 0.0039, \n"
     ]
    },
    {
     "name": "stdout",
     "output_type": "stream",
     "text": [
      "epoch: 5, [batch: 3794 / 6324], examples_per_second: 2997.6528, train_label_loss: 0.0000, \n"
     ]
    },
    {
     "name": "stdout",
     "output_type": "stream",
     "text": [
      "epoch: 5, [batch: 4427 / 6324], examples_per_second: 3009.8683, train_label_loss: 0.0000, \n"
     ]
    },
    {
     "name": "stdout",
     "output_type": "stream",
     "text": [
      "epoch: 5, [batch: 5059 / 6324], examples_per_second: 2998.7013, train_label_loss: 0.0000, \n"
     ]
    },
    {
     "name": "stdout",
     "output_type": "stream",
     "text": [
      "epoch: 5, [batch: 5691 / 6324], examples_per_second: 2996.4790, train_label_loss: 0.0000, \n"
     ]
    },
    {
     "name": "stdout",
     "output_type": "stream",
     "text": [
      "=============================================================\n",
      "epoch: 5, source_val_acc_label: 0.9983, target_val_acc_label: 0.3788, source_val_label_loss: 0.0176, target_val_label_loss: 1.7238, \n",
      "=============================================================\n"
     ]
    },
    {
     "name": "stdout",
     "output_type": "stream",
     "text": [
      "Patience (3) exhausted\n"
     ]
    }
   ],
   "source": [
    "###################################\n",
    "# train\n",
    "###################################\n",
    "jig = PTN_Train_Eval_Test_Jig(model, p.BEST_MODEL_PATH, p.device)\n",
    "\n",
    "jig.train(\n",
    "    train_iterable=datasets.source.processed.train,\n",
    "    source_val_iterable=datasets.source.processed.val,\n",
    "    target_val_iterable=datasets.target.processed.val,\n",
    "    num_epochs=p.n_epoch,\n",
    "    num_logs_per_epoch=p.NUM_LOGS_PER_EPOCH,\n",
    "    patience=p.patience,\n",
    "    optimizer=optimizer,\n",
    "    criteria_for_best=p.criteria_for_best,\n",
    ")"
   ]
  },
  {
   "cell_type": "code",
   "execution_count": 23,
   "id": "31e8fabf",
   "metadata": {
    "execution": {
     "iopub.execute_input": "2022-03-22T08:29:29.367157Z",
     "iopub.status.busy": "2022-03-22T08:29:29.366664Z",
     "iopub.status.idle": "2022-03-22T08:29:29.401419Z",
     "shell.execute_reply": "2022-03-22T08:29:29.402087Z"
    },
    "papermill": {
     "duration": 0.07684,
     "end_time": "2022-03-22T08:29:29.402269",
     "exception": false,
     "start_time": "2022-03-22T08:29:29.325429",
     "status": "completed"
    },
    "tags": []
   },
   "outputs": [],
   "source": [
    "total_experiment_time_secs = time.time() - start_time_secs"
   ]
  },
  {
   "cell_type": "code",
   "execution_count": 24,
   "id": "87b9595b",
   "metadata": {
    "execution": {
     "iopub.execute_input": "2022-03-22T08:29:29.489653Z",
     "iopub.status.busy": "2022-03-22T08:29:29.488805Z",
     "iopub.status.idle": "2022-03-22T08:32:56.922578Z",
     "shell.execute_reply": "2022-03-22T08:32:56.923308Z"
    },
    "papermill": {
     "duration": 207.479138,
     "end_time": "2022-03-22T08:32:56.923580",
     "exception": false,
     "start_time": "2022-03-22T08:29:29.444442",
     "status": "completed"
    },
    "tags": []
   },
   "outputs": [],
   "source": [
    "###################################\n",
    "# Evaluate the model\n",
    "###################################\n",
    "source_test_label_accuracy, source_test_label_loss = jig.test(datasets.source.processed.test)\n",
    "target_test_label_accuracy, target_test_label_loss = jig.test(datasets.target.processed.test)\n",
    "\n",
    "source_val_label_accuracy, source_val_label_loss = jig.test(datasets.source.processed.val)\n",
    "target_val_label_accuracy, target_val_label_loss = jig.test(datasets.target.processed.val)\n",
    "\n",
    "history = jig.get_history()\n",
    "\n",
    "total_epochs_trained = len(history[\"epoch_indices\"])\n",
    "\n",
    "val_dl = Iterable_Aggregator((datasets.source.original.val,datasets.target.original.val))\n",
    "\n",
    "confusion = ptn_confusion_by_domain_over_dataloader(model, p.device, val_dl)\n",
    "per_domain_accuracy = per_domain_accuracy_from_confusion(confusion)\n",
    "\n",
    "# Add a key to per_domain_accuracy for if it was a source domain\n",
    "for domain, accuracy in per_domain_accuracy.items():\n",
    "    per_domain_accuracy[domain] = {\n",
    "        \"accuracy\": accuracy,\n",
    "        \"source?\": domain in p.domains_source\n",
    "    }\n",
    "\n",
    "# Do an independent accuracy assesment JUST TO BE SURE!\n",
    "# _source_test_label_accuracy = independent_accuracy_assesment(model, datasets.source.processed.test, p.device)\n",
    "# _target_test_label_accuracy = independent_accuracy_assesment(model, datasets.target.processed.test, p.device)\n",
    "# _source_val_label_accuracy = independent_accuracy_assesment(model, datasets.source.processed.val, p.device)\n",
    "# _target_val_label_accuracy = independent_accuracy_assesment(model, datasets.target.processed.val, p.device)\n",
    "\n",
    "# assert(_source_test_label_accuracy == source_test_label_accuracy)\n",
    "# assert(_target_test_label_accuracy == target_test_label_accuracy)\n",
    "# assert(_source_val_label_accuracy == source_val_label_accuracy)\n",
    "# assert(_target_val_label_accuracy == target_val_label_accuracy)\n",
    "\n",
    "experiment = {\n",
    "    \"experiment_name\": p.experiment_name,\n",
    "    \"parameters\": dict(p),\n",
    "    \"results\": {\n",
    "        \"source_test_label_accuracy\": source_test_label_accuracy,\n",
    "        \"source_test_label_loss\": source_test_label_loss,\n",
    "        \"target_test_label_accuracy\": target_test_label_accuracy,\n",
    "        \"target_test_label_loss\": target_test_label_loss,\n",
    "        \"source_val_label_accuracy\": source_val_label_accuracy,\n",
    "        \"source_val_label_loss\": source_val_label_loss,\n",
    "        \"target_val_label_accuracy\": target_val_label_accuracy,\n",
    "        \"target_val_label_loss\": target_val_label_loss,\n",
    "        \"total_epochs_trained\": total_epochs_trained,\n",
    "        \"total_experiment_time_secs\": total_experiment_time_secs,\n",
    "        \"confusion\": confusion,\n",
    "        \"per_domain_accuracy\": per_domain_accuracy,\n",
    "    },\n",
    "    \"history\": history,\n",
    "    \"dataset_metrics\": get_dataset_metrics(datasets, \"ptn\"),\n",
    "}"
   ]
  },
  {
   "cell_type": "code",
   "execution_count": 25,
   "id": "54a21829",
   "metadata": {
    "execution": {
     "iopub.execute_input": "2022-03-22T08:32:57.015294Z",
     "iopub.status.busy": "2022-03-22T08:32:57.014828Z",
     "iopub.status.idle": "2022-03-22T08:32:57.220280Z",
     "shell.execute_reply": "2022-03-22T08:32:57.221323Z"
    },
    "papermill": {
     "duration": 0.251244,
     "end_time": "2022-03-22T08:32:57.221647",
     "exception": false,
     "start_time": "2022-03-22T08:32:56.970403",
     "status": "completed"
    },
    "tags": []
   },
   "outputs": [
    {
     "data": {
      "image/png": "[encoded data removed]",
      "text/plain": [
       "<Figure size 1080x504 with 1 Axes>"
      ]
     },
     "metadata": {
      "needs_background": "light"
     },
     "output_type": "display_data"
    }
   ],
   "source": [
    "ax = get_loss_curve(experiment)\n",
    "plt.show()"
   ]
  },
  {
   "cell_type": "code",
   "execution_count": 26,
   "id": "fd8a0f60",
   "metadata": {
    "execution": {
     "iopub.execute_input": "2022-03-22T08:32:57.316300Z",
     "iopub.status.busy": "2022-03-22T08:32:57.315915Z",
     "iopub.status.idle": "2022-03-22T08:32:57.680276Z",
     "shell.execute_reply": "2022-03-22T08:32:57.680954Z"
    },
    "papermill": {
     "duration": 0.411125,
     "end_time": "2022-03-22T08:32:57.681149",
     "exception": false,
     "start_time": "2022-03-22T08:32:57.270024",
     "status": "completed"
    },
    "tags": []
   },
   "outputs": [
    {
     "data": {
      "text/plain": [
       "<AxesSubplot:title={'center':'Results'}>"
      ]
     },
     "execution_count": 26,
     "metadata": {},
     "output_type": "execute_result"
    },
    {
     "data": {
      "image/png": "[encoded data removed]",
      "text/plain": [
       "<Figure size 1080x504 with 1 Axes>"
      ]
     },
     "metadata": {
      "needs_background": "light"
     },
     "output_type": "display_data"
    }
   ],
   "source": [
    "get_results_table(experiment)"
   ]
  },
  {
   "cell_type": "code",
   "execution_count": 27,
   "id": "cf8dc689",
   "metadata": {
    "execution": {
     "iopub.execute_input": "2022-03-22T08:32:57.779493Z",
     "iopub.status.busy": "2022-03-22T08:32:57.779111Z",
     "iopub.status.idle": "2022-03-22T08:32:58.037347Z",
     "shell.execute_reply": "2022-03-22T08:32:58.038039Z"
    },
    "papermill": {
     "duration": 0.303167,
     "end_time": "2022-03-22T08:32:58.038275",
     "exception": false,
     "start_time": "2022-03-22T08:32:57.735108",
     "status": "completed"
    },
    "tags": []
   },
   "outputs": [
    {
     "data": {
      "text/plain": [
       "<AxesSubplot:title={'center':'Per Domain Validation Accuracy'}, xlabel='domain'>"
      ]
     },
     "execution_count": 27,
     "metadata": {},
     "output_type": "execute_result"
    },
    {
     "data": {
      "image/png": "[encoded data removed]",
      "text/plain": [
       "<Figure size 1080x504 with 1 Axes>"
      ]
     },
     "metadata": {
      "needs_background": "light"
     },
     "output_type": "display_data"
    }
   ],
   "source": [
    "get_domain_accuracies(experiment)"
   ]
  },
  {
   "cell_type": "code",
   "execution_count": 28,
   "id": "a74ae082",
   "metadata": {
    "execution": {
     "iopub.execute_input": "2022-03-22T08:32:58.132789Z",
     "iopub.status.busy": "2022-03-22T08:32:58.132410Z",
     "iopub.status.idle": "2022-03-22T08:32:58.159566Z",
     "shell.execute_reply": "2022-03-22T08:32:58.160244Z"
    },
    "papermill": {
     "duration": 0.073999,
     "end_time": "2022-03-22T08:32:58.160456",
     "exception": false,
     "start_time": "2022-03-22T08:32:58.086457",
     "status": "completed"
    },
    "tags": []
   },
   "outputs": [
    {
     "name": "stdout",
     "output_type": "stream",
     "text": [
      "Source Test Label Accuracy: 0.9986244356659142 Target Test Label Accuracy: 0.4134440104166667\n",
      "Source Val Label Accuracy: 0.9985 Target Val Label Accuracy: 0.41087239583333335\n"
     ]
    }
   ],
   "source": [
    "print(\"Source Test Label Accuracy:\", experiment[\"results\"][\"source_test_label_accuracy\"], \"Target Test Label Accuracy:\", experiment[\"results\"][\"target_test_label_accuracy\"])\n",
    "print(\"Source Val Label Accuracy:\", experiment[\"results\"][\"source_val_label_accuracy\"], \"Target Val Label Accuracy:\", experiment[\"results\"][\"target_val_label_accuracy\"])"
   ]
  },
  {
   "cell_type": "code",
   "execution_count": 29,
   "id": "dacca602",
   "metadata": {
    "execution": {
     "iopub.execute_input": "2022-03-22T08:32:58.251975Z",
     "iopub.status.busy": "2022-03-22T08:32:58.251603Z",
     "iopub.status.idle": "2022-03-22T08:32:58.276131Z",
     "shell.execute_reply": "2022-03-22T08:32:58.276808Z"
    },
    "papermill": {
     "duration": 0.069999,
     "end_time": "2022-03-22T08:32:58.277012",
     "exception": false,
     "start_time": "2022-03-22T08:32:58.207013",
     "status": "completed"
    },
    "tags": [
     "experiment_json"
    ]
   },
   "outputs": [
    {
     "data": {
      "text/plain": [
       "'{\"experiment_name\": \"tl_1v2:cores-oracle.run1.limited\", \"parameters\": {\"experiment_name\": \"tl_1v2:cores-oracle.run1.limited\", \"device\": \"cuda\", \"lr\": 0.0001, \"n_shot\": 3, \"n_query\": 2, \"train_k_factor\": 3, \"val_k_factor\": 2, \"test_k_factor\": 2, \"torch_default_dtype\": \"torch.float32\", \"n_epoch\": 50, \"patience\": 3, \"criteria_for_best\": \"target_accuracy\", \"x_net\": [{\"class\": \"nnReshape\", \"kargs\": {\"shape\": [-1, 1, 2, 256]}}, {\"class\": \"Conv2d\", \"kargs\": {\"in_channels\": 1, \"out_channels\": 256, \"kernel_size\": [1, 7], \"bias\": false, \"padding\": [0, 3]}}, {\"class\": \"ReLU\", \"kargs\": {\"inplace\": true}}, {\"class\": \"BatchNorm2d\", \"kargs\": {\"num_features\": 256}}, {\"class\": \"Conv2d\", \"kargs\": {\"in_channels\": 256, \"out_channels\": 80, \"kernel_size\": [2, 7], \"bias\": true, \"padding\": [0, 3]}}, {\"class\": \"ReLU\", \"kargs\": {\"inplace\": true}}, {\"class\": \"BatchNorm2d\", \"kargs\": {\"num_features\": 80}}, {\"class\": \"Flatten\", \"kargs\": {}}, {\"class\": \"Linear\", \"kargs\": {\"in_features\": 20480, \"out_features\": 256}}, {\"class\": \"ReLU\", \"kargs\": {\"inplace\": true}}, {\"class\": \"BatchNorm1d\", \"kargs\": {\"num_features\": 256}}, {\"class\": \"Linear\", \"kargs\": {\"in_features\": 256, \"out_features\": 256}}], \"NUM_LOGS_PER_EPOCH\": 10, \"BEST_MODEL_PATH\": \"./best_model.pth\", \"n_way\": 16, \"datasets\": [{\"labels\": [\"1-10.\", \"1-11.\", \"1-15.\", \"1-16.\", \"1-17.\", \"1-18.\", \"1-19.\", \"10-4.\", \"10-7.\", \"11-1.\", \"11-14.\", \"11-17.\", \"11-20.\", \"11-7.\", \"13-20.\", \"13-8.\", \"14-10.\", \"14-11.\", \"14-14.\", \"14-7.\", \"15-1.\", \"15-20.\", \"16-1.\", \"16-16.\", \"17-10.\", \"17-11.\", \"17-2.\", \"19-1.\", \"19-16.\", \"19-19.\", \"19-20.\", \"19-3.\", \"2-10.\", \"2-11.\", \"2-17.\", \"2-18.\", \"2-20.\", \"2-3.\", \"2-4.\", \"2-5.\", \"2-6.\", \"2-7.\", \"2-8.\", \"3-13.\", \"3-18.\", \"3-3.\", \"4-1.\", \"4-10.\", \"4-11.\", \"4-19.\", \"5-5.\", \"6-15.\", \"7-10.\", \"7-14.\", \"8-18.\", \"8-20.\", \"8-3.\", \"8-8.\"], \"domains\": [1, 2, 3, 4, 5], \"num_examples_per_domain_per_label\": -1, \"pickle_path\": \"/root/csc500-main/datasets/cores.stratified_ds.2022A.pkl\", \"source_or_target_dataset\": \"source\", \"x_transforms\": [], \"episode_transforms\": [], \"domain_prefix\": \"CORES_\"}, {\"labels\": [\"3123D52\", \"3123D65\", \"3123D79\", \"3123D80\", \"3123D54\", \"3123D70\", \"3123D7B\", \"3123D89\", \"3123D58\", \"3123D76\", \"3123D7D\", \"3123EFE\", \"3123D64\", \"3123D78\", \"3123D7E\", \"3124E4A\"], \"domains\": [32, 38, 8, 44, 14, 50, 20, 26], \"num_examples_per_domain_per_label\": 2000, \"pickle_path\": \"/root/csc500-main/datasets/oracle.Run1_10kExamples_stratified_ds.2022A.pkl\", \"source_or_target_dataset\": \"target\", \"x_transforms\": [], \"episode_transforms\": [], \"domain_prefix\": \"ORACLE.run1_\"}], \"dataset_seed\": 420, \"seed\": 420, \"x_shape\": [2, 256], \"domains_source\": [\"CORES_1\", \"CORES_2\", \"CORES_3\", \"CORES_4\", \"CORES_5\"], \"domains_target\": [\"ORACLE.run1_32\", \"ORACLE.run1_38\", \"ORACLE.run1_8\", \"ORACLE.run1_44\", \"ORACLE.run1_14\", \"ORACLE.run1_50\", \"ORACLE.run1_20\", \"ORACLE.run1_26\"]}, \"results\": {\"source_test_label_accuracy\": 0.9986244356659142, \"source_test_label_loss\": 0.006529336329549551, \"target_test_label_accuracy\": 0.4134440104166667, \"target_test_label_loss\": 2.03932785987854, \"source_val_label_accuracy\": 0.9985, \"source_val_label_loss\": 0.013254583813250065, \"target_val_label_accuracy\": 0.41087239583333335, \"target_val_label_loss\": 2.037856101989746, \"total_epochs_trained\": 5, \"total_experiment_time_secs\": 1013.1860225200653, \"confusion\": {\"CORES_4\": {\"42\": {\"42\": 32}, \"0\": {\"0\": 80}, \"1\": {\"1\": 40}, \"39\": {\"39\": 20}, \"28\": {\"28\": 32}, \"53\": {\"53\": 124}, \"19\": {\"19\": 144}, \"34\": {\"34\": 21, \"27\": 1, \"9\": 2}, \"33\": {\"33\": 36}, \"32\": {\"32\": 24}, \"10\": {\"10\": 136}, \"46\": {\"46\": 134}, \"20\": {\"20\": 122}, \"5\": {\"5\": 108}, \"40\": {\"40\": 124}, \"51\": {\"51\": 144}, \"37\": {\"37\": 24}, \"17\": {\"17\": 80}, \"45\": {\"45\": 96}, \"13\": {\"13\": 142}, \"27\": {\"27\": 144}, \"24\": {\"24\": 56}, \"30\": {\"30\": 44}, \"31\": {\"31\": 28}, \"41\": {\"41\": 34, \"10\": 1, \"13\": 1}, \"36\": {\"36\": 92}, \"16\": {\"16\": 96}, \"22\": {\"22\": 128}, \"44\": {\"44\": 132}, \"9\": {\"9\": 140}, \"57\": {\"57\": 100}, \"8\": {\"8\": 138}, \"23\": {\"23\": 132}, \"47\": {\"47\": 120}, \"43\": {\"43\": 138}, \"49\": {\"49\": 20}, \"3\": {\"3\": 124}, \"12\": {\"12\": 92}, \"38\": {\"38\": 40}, \"7\": {\"7\": 24}, \"14\": {\"14\": 13, \"38\": 2, \"47\": 1}, \"15\": {\"15\": 146}, \"25\": {\"25\": 128}, \"26\": {\"26\": 20, \"27\": 2, \"42\": 1, \"4\": 1}, \"21\": {\"21\": 132}, \"48\": {\"48\": 144}, \"56\": {\"56\": 134}, \"11\": {\"11\": 104}, \"2\": {\"2\": 36}, \"6\": {\"6\": 112}, \"55\": {\"55\": 140}, \"54\": {\"54\": 108}, \"29\": {\"29\": 124}, \"50\": {\"50\": 122}, \"52\": {\"52\": 116}, \"35\": {\"35\": 40}, \"4\": {\"4\": 120}, \"18\": {\"18\": 108}}, \"CORES_5\": {\"43\": {\"43\": 152}, \"35\": {\"35\": 36}, \"54\": {\"54\": 112}, \"22\": {\"22\": 28}, \"16\": {\"16\": 146}, \"5\": {\"5\": 128}, \"28\": {\"28\": 32}, \"14\": {\"14\": 44}, \"51\": {\"51\": 128}, \"19\": {\"19\": 140}, \"31\": {\"31\": 36}, \"10\": {\"10\": 68}, \"21\": {\"21\": 136}, \"3\": {\"3\": 100}, \"57\": {\"57\": 132}, \"9\": {\"9\": 146}, \"8\": {\"8\": 132}, \"46\": {\"46\": 140}, \"23\": {\"23\": 122, \"54\": 2}, \"37\": {\"37\": 24}, \"34\": {\"34\": 36}, \"4\": {\"4\": 100}, \"6\": {\"6\": 127, \"50\": 1}, \"48\": {\"48\": 136}, \"44\": {\"44\": 138}, \"40\": {\"40\": 124}, \"12\": {\"12\": 96}, \"30\": {\"30\": 128}, \"39\": {\"39\": 20}, \"45\": {\"45\": 122, \"50\": 2}, \"36\": {\"36\": 92}, \"27\": {\"27\": 140}, \"32\": {\"32\": 32}, \"52\": {\"52\": 130}, \"0\": {\"0\": 124}, \"26\": {\"26\": 23, \"17\": 1}, \"1\": {\"1\": 147, \"20\": 1}, \"53\": {\"53\": 146}, \"25\": {\"25\": 144}, \"24\": {\"24\": 80}, \"7\": {\"7\": 32}, \"18\": {\"18\": 64}, \"20\": {\"20\": 144}, \"33\": {\"33\": 32}, \"55\": {\"55\": 140}, \"41\": {\"41\": 28}, \"42\": {\"42\": 39, \"11\": 1}, \"49\": {\"49\": 36}, \"13\": {\"13\": 148}, \"38\": {\"38\": 32}, \"2\": {\"2\": 28}, \"47\": {\"47\": 100}, \"17\": {\"17\": 116}, \"11\": {\"11\": 154}, \"29\": {\"29\": 132}, \"50\": {\"50\": 138}, \"56\": {\"56\": 148}, \"15\": {\"15\": 142}}, \"CORES_2\": {\"49\": {\"49\": 23, \"23\": 1}, \"13\": {\"13\": 116}, \"37\": {\"37\": 36}, \"41\": {\"41\": 20}, \"15\": {\"15\": 142}, \"56\": {\"56\": 139, \"11\": 1, \"0\": 2}, \"14\": {\"14\": 23, \"47\": 1}, \"3\": {\"3\": 92}, \"38\": {\"38\": 20}, \"43\": {\"43\": 138}, \"33\": {\"33\": 28}, \"47\": {\"47\": 138}, \"30\": {\"30\": 144}, \"39\": {\"39\": 28}, \"12\": {\"12\": 92}, \"6\": {\"6\": 124}, \"51\": {\"51\": 134}, \"5\": {\"5\": 120}, \"34\": {\"34\": 27, \"19\": 1}, \"35\": {\"35\": 32}, \"0\": {\"0\": 48}, \"7\": {\"7\": 36}, \"24\": {\"24\": 96}, \"8\": {\"8\": 136}, \"20\": {\"20\": 124}, \"36\": {\"36\": 116}, \"42\": {\"42\": 36}, \"1\": {\"1\": 112}, \"4\": {\"4\": 148}, \"28\": {\"28\": 28}, \"50\": {\"50\": 136}, \"45\": {\"45\": 128}, \"18\": {\"18\": 48}, \"57\": {\"57\": 120}, \"46\": {\"46\": 128}, \"23\": {\"23\": 148}, \"27\": {\"27\": 138}, \"19\": {\"19\": 134}, \"22\": {\"22\": 136}, \"17\": {\"17\": 104}, \"55\": {\"55\": 136}, \"44\": {\"44\": 100}, \"26\": {\"26\": 22, \"34\": 2}, \"31\": {\"31\": 28}, \"16\": {\"16\": 130}, \"11\": {\"11\": 128}, \"25\": {\"25\": 126}, \"54\": {\"54\": 108}, \"32\": {\"32\": 28}, \"52\": {\"52\": 124}, \"40\": {\"40\": 131, \"29\": 1}, \"2\": {\"2\": 32}, \"10\": {\"10\": 110}, \"53\": {\"53\": 136}, \"9\": {\"9\": 150}, \"21\": {\"21\": 120}, \"48\": {\"48\": 138}, \"29\": {\"29\": 128}}, \"CORES_1\": {\"9\": {\"9\": 142}, \"25\": {\"25\": 128}, \"41\": {\"41\": 24}, \"29\": {\"29\": 140}, \"46\": {\"46\": 128}, \"4\": {\"4\": 132}, \"31\": {\"31\": 28}, \"36\": {\"36\": 64}, \"20\": {\"20\": 128}, \"7\": {\"7\": 28}, \"6\": {\"6\": 96}, \"16\": {\"16\": 138}, \"17\": {\"17\": 64}, \"50\": {\"50\": 148}, \"57\": {\"57\": 144}, \"23\": {\"23\": 136}, \"3\": {\"3\": 126}, \"53\": {\"53\": 140}, \"49\": {\"49\": 32}, \"56\": {\"56\": 152}, \"51\": {\"51\": 142}, \"26\": {\"26\": 24}, \"43\": {\"43\": 144}, \"22\": {\"22\": 136}, \"45\": {\"45\": 146}, \"13\": {\"13\": 152}, \"12\": {\"12\": 116}, \"54\": {\"54\": 104}, \"24\": {\"24\": 108}, \"44\": {\"44\": 136}, \"28\": {\"28\": 28}, \"33\": {\"33\": 32}, \"38\": {\"38\": 23, \"47\": 1}, \"0\": {\"0\": 144}, \"47\": {\"47\": 154}, \"42\": {\"42\": 40}, \"34\": {\"34\": 24}, \"48\": {\"48\": 142}, \"35\": {\"35\": 36}, \"2\": {\"2\": 36}, \"30\": {\"30\": 120}, \"18\": {\"18\": 72}, \"37\": {\"37\": 32}, \"1\": {\"1\": 100}, \"11\": {\"11\": 138}, \"55\": {\"55\": 130}, \"15\": {\"15\": 150}, \"10\": {\"10\": 96}, \"27\": {\"27\": 160}, \"19\": {\"19\": 146}, \"14\": {\"30\": 1, \"14\": 23}, \"8\": {\"8\": 140}, \"5\": {\"5\": 136}, \"39\": {\"39\": 28}, \"52\": {\"52\": 122}, \"21\": {\"21\": 124}, \"40\": {\"40\": 152}, \"32\": {\"32\": 32}}, \"CORES_3\": {\"56\": {\"56\": 120}, \"4\": {\"4\": 145, \"27\": 1}, \"34\": {\"34\": 32}, \"52\": {\"52\": 136}, \"32\": {\"32\": 28}, \"46\": {\"46\": 136}, \"12\": {\"12\": 91, \"50\": 1}, \"20\": {\"20\": 132}, \"54\": {\"54\": 100}, \"22\": {\"22\": 140}, \"26\": {\"26\": 24}, \"31\": {\"31\": 28}, \"10\": {\"10\": 64}, \"27\": {\"27\": 144}, \"40\": {\"40\": 136}, \"28\": {\"28\": 28}, \"5\": {\"5\": 116}, \"30\": {\"30\": 120}, \"7\": {\"7\": 36}, \"18\": {\"18\": 84}, \"39\": {\"39\": 16}, \"50\": {\"50\": 136}, \"49\": {\"49\": 20}, \"43\": {\"43\": 122}, \"29\": {\"29\": 114}, \"35\": {\"35\": 28}, \"13\": {\"13\": 122, \"43\": 2}, \"36\": {\"36\": 100}, \"11\": {\"11\": 146}, \"57\": {\"57\": 124}, \"9\": {\"9\": 130}, \"25\": {\"25\": 130}, \"16\": {\"16\": 126}, \"53\": {\"53\": 118}, \"33\": {\"33\": 28}, \"51\": {\"51\": 128}, \"44\": {\"44\": 88}, \"48\": {\"48\": 114}, \"6\": {\"6\": 88}, \"23\": {\"23\": 144}, \"1\": {\"1\": 100}, \"17\": {\"38\": 2, \"17\": 104, \"53\": 2}, \"21\": {\"21\": 122}, \"14\": {\"14\": 38, \"0\": 2}, \"55\": {\"55\": 144}, \"41\": {\"41\": 28}, \"3\": {\"3\": 137, \"50\": 1}, \"38\": {\"38\": 28}, \"2\": {\"2\": 32}, \"8\": {\"8\": 142}, \"37\": {\"37\": 28}, \"45\": {\"45\": 60}, \"42\": {\"42\": 28}, \"24\": {\"24\": 104}, \"15\": {\"15\": 136}, \"0\": {\"0\": 124}, \"47\": {\"47\": 92}, \"19\": {\"19\": 120}}, \"ORACLE.run1_14\": {\"15\": {\"15\": 240}, \"5\": {\"8\": 28, \"5\": 70, \"2\": 35, \"0\": 15, \"13\": 9, \"4\": 16, \"7\": 30, \"12\": 4, \"14\": 20, \"3\": 7, \"6\": 6}, \"7\": {\"7\": 132, \"3\": 9, \"14\": 13, \"6\": 8, \"8\": 20, \"2\": 18, \"13\": 7, \"5\": 32, \"0\": 1}, \"4\": {\"4\": 115, \"10\": 29, \"8\": 12, \"5\": 30, \"2\": 18, \"9\": 5, \"12\": 11, \"7\": 3, \"14\": 4, \"1\": 9, \"0\": 3, \"13\": 1}, \"10\": {\"9\": 37, \"10\": 127, \"1\": 21, \"12\": 13, \"4\": 34, \"0\": 2, \"2\": 4, \"5\": 2}, \"11\": {\"11\": 240}, \"12\": {\"12\": 136, \"9\": 4, \"5\": 8, \"10\": 14, \"0\": 23, \"8\": 18, \"2\": 4, \"4\": 17, \"14\": 9, \"13\": 2, \"3\": 2, \"7\": 3}, \"0\": {\"5\": 18, \"6\": 22, \"8\": 18, \"3\": 25, \"0\": 53, \"14\": 33, \"2\": 23, \"13\": 23, \"12\": 13, \"10\": 2, \"7\": 4, \"4\": 5, \"9\": 1}, \"14\": {\"14\": 56, \"0\": 42, \"3\": 26, \"5\": 16, \"7\": 17, \"2\": 32, \"13\": 18, \"6\": 23, \"8\": 8, \"12\": 2}, \"8\": {\"2\": 18, \"14\": 17, \"5\": 32, \"7\": 29, \"0\": 23, \"8\": 81, \"12\": 8, \"6\": 3, \"4\": 4, \"3\": 18, \"13\": 6, \"1\": 1}, \"13\": {\"2\": 21, \"0\": 25, \"13\": 41, \"3\": 32, \"15\": 24, \"6\": 44, \"12\": 1, \"7\": 14, \"14\": 16, \"10\": 5, \"4\": 5, \"5\": 8, \"8\": 4}, \"6\": {\"2\": 12, \"6\": 67, \"14\": 24, \"3\": 48, \"0\": 18, \"13\": 48, \"7\": 17, \"5\": 3, \"8\": 3}, \"1\": {\"4\": 11, \"10\": 23, \"1\": 163, \"9\": 42, \"8\": 1}, \"3\": {\"6\": 44, \"13\": 35, \"0\": 25, \"3\": 52, \"14\": 39, \"7\": 17, \"8\": 9, \"5\": 5, \"2\": 12, \"12\": 2}, \"9\": {\"9\": 142, \"1\": 37, \"5\": 1, \"10\": 56, \"4\": 3, \"12\": 1}, \"2\": {\"3\": 17, \"2\": 37, \"10\": 3, \"8\": 13, \"4\": 32, \"0\": 23, \"5\": 36, \"13\": 16, \"7\": 12, \"1\": 1, \"6\": 19, \"14\": 20, \"12\": 11}}, \"ORACLE.run1_20\": {\"4\": {\"12\": 33, \"7\": 21, \"2\": 24, \"9\": 11, \"10\": 29, \"1\": 12, \"4\": 32, \"3\": 4, \"13\": 20, \"14\": 5, \"5\": 7, \"15\": 22, \"6\": 20}, \"10\": {\"10\": 112, \"13\": 39, \"12\": 14, \"15\": 10, \"6\": 14, \"4\": 30, \"5\": 1, \"7\": 6, \"2\": 11, \"1\": 2, \"9\": 1}, \"15\": {\"2\": 31, \"12\": 24, \"15\": 21, \"13\": 23, \"1\": 19, \"7\": 24, \"8\": 5, \"3\": 11, \"9\": 15, \"5\": 11, \"10\": 9, \"6\": 19, \"14\": 6, \"4\": 21, \"0\": 1}, \"0\": {\"8\": 25, \"11\": 71, \"0\": 101, \"14\": 14, \"5\": 8, \"3\": 10, \"1\": 5, \"9\": 5, \"15\": 1}, \"6\": {\"4\": 18, \"9\": 19, \"7\": 31, \"10\": 5, \"2\": 20, \"6\": 37, \"15\": 13, \"14\": 15, \"12\": 13, \"8\": 9, \"3\": 11, \"13\": 21, \"1\": 14, \"5\": 14}, \"3\": {\"1\": 28, \"14\": 26, \"3\": 32, \"6\": 11, \"5\": 33, \"13\": 8, \"2\": 15, \"15\": 13, \"7\": 10, \"9\": 17, \"8\": 22, \"0\": 10, \"12\": 5, \"10\": 1, \"4\": 6, \"11\": 3}, \"7\": {\"14\": 9, \"5\": 20, \"15\": 16, \"7\": 24, \"12\": 11, \"9\": 23, \"0\": 2, \"2\": 30, \"6\": 32, \"4\": 21, \"10\": 4, \"1\": 17, \"13\": 14, \"8\": 11, \"3\": 6}, \"2\": {\"12\": 27, \"9\": 20, \"4\": 25, \"2\": 30, \"7\": 24, \"15\": 20, \"10\": 7, \"5\": 20, \"3\": 8, \"6\": 16, \"1\": 9, \"14\": 7, \"13\": 25, \"8\": 1, \"0\": 1}, \"8\": {\"1\": 26, \"5\": 21, \"8\": 47, \"13\": 2, \"6\": 11, \"2\": 8, \"0\": 23, \"14\": 46, \"7\": 7, \"3\": 27, \"9\": 14, \"4\": 2, \"11\": 4, \"12\": 1, \"15\": 1}, \"11\": {\"0\": 65, \"11\": 164, \"8\": 6, \"14\": 3, \"5\": 1, \"3\": 1}, \"14\": {\"8\": 48, \"6\": 16, \"9\": 22, \"0\": 21, \"3\": 18, \"11\": 9, \"1\": 14, \"15\": 4, \"12\": 6, \"4\": 5, \"14\": 43, \"7\": 12, \"5\": 17, \"10\": 1, \"2\": 1, \"13\": 3}, \"12\": {\"15\": 28, \"12\": 32, \"9\": 10, \"1\": 16, \"6\": 18, \"5\": 11, \"13\": 24, \"4\": 30, \"10\": 14, \"3\": 8, \"14\": 9, \"2\": 25, \"7\": 15}, \"13\": {\"7\": 12, \"10\": 27, \"13\": 51, \"9\": 11, \"2\": 27, \"15\": 28, \"4\": 24, \"5\": 7, \"12\": 22, \"6\": 18, \"1\": 11, \"14\": 1, \"3\": 1}, \"9\": {\"15\": 19, \"6\": 16, \"1\": 25, \"13\": 9, \"0\": 5, \"8\": 17, \"14\": 25, \"3\": 22, \"2\": 24, \"7\": 15, \"12\": 12, \"5\": 19, \"4\": 6, \"9\": 23, \"10\": 1, \"11\": 2}, \"5\": {\"14\": 17, \"15\": 17, \"1\": 39, \"7\": 13, \"9\": 25, \"6\": 10, \"8\": 17, \"2\": 18, \"3\": 19, \"5\": 29, \"0\": 10, \"12\": 7, \"4\": 9, \"13\": 4, \"10\": 3, \"11\": 3}, \"1\": {\"3\": 27, \"2\": 18, \"12\": 18, \"7\": 25, \"6\": 13, \"1\": 23, \"5\": 27, \"14\": 13, \"15\": 22, \"4\": 18, \"8\": 7, \"13\": 11, \"9\": 14, \"10\": 1, \"0\": 2, \"11\": 1}}, \"ORACLE.run1_50\": {\"5\": {\"4\": 35, \"6\": 25, \"7\": 45, \"15\": 27, \"5\": 52, \"9\": 14, \"3\": 17, \"11\": 9, \"1\": 4, \"13\": 12}, \"12\": {\"12\": 131, \"11\": 35, \"9\": 54, \"6\": 7, \"15\": 11, \"5\": 2}, \"14\": {\"2\": 69, \"14\": 123, \"0\": 39, \"10\": 8, \"8\": 1}, \"4\": {\"4\": 109, \"7\": 81, \"15\": 11, \"5\": 22, \"12\": 2, \"9\": 9, \"6\": 6}, \"13\": {\"3\": 15, \"1\": 39, \"11\": 20, \"13\": 134, \"8\": 23, \"6\": 3, \"12\": 5, \"5\": 1}, \"10\": {\"10\": 116, \"8\": 52, \"1\": 19, \"0\": 40, \"2\": 9, \"14\": 4}, \"9\": {\"9\": 75, \"6\": 23, \"15\": 46, \"12\": 69, \"5\": 8, \"3\": 1, \"11\": 17, \"4\": 1}, \"15\": {\"6\": 58, \"9\": 28, \"15\": 72, \"5\": 33, \"3\": 9, \"7\": 5, \"11\": 18, \"12\": 13, \"4\": 3, \"13\": 1}, \"6\": {\"6\": 70, \"12\": 8, \"15\": 57, \"9\": 22, \"11\": 21, \"3\": 18, \"4\": 3, \"5\": 38, \"7\": 3}, \"2\": {\"2\": 96, \"0\": 64, \"14\": 67, \"10\": 12, \"8\": 1}, \"0\": {\"14\": 36, \"0\": 97, \"2\": 55, \"8\": 4, \"10\": 47, \"1\": 1}, \"11\": {\"11\": 103, \"5\": 1, \"9\": 22, \"13\": 15, \"6\": 21, \"12\": 53, \"15\": 19, \"3\": 4, \"1\": 2}, \"3\": {\"7\": 5, \"3\": 142, \"6\": 30, \"13\": 9, \"11\": 6, \"4\": 2, \"5\": 31, \"15\": 13, \"9\": 1, \"12\": 1}, \"8\": {\"8\": 129, \"1\": 39, \"13\": 26, \"10\": 44, \"2\": 1, \"0\": 1}, \"7\": {\"7\": 115, \"4\": 81, \"5\": 34, \"9\": 1, \"3\": 3, \"15\": 2, \"6\": 4}, \"1\": {\"1\": 122, \"11\": 14, \"13\": 60, \"8\": 23, \"0\": 2, \"10\": 17, \"6\": 1, \"2\": 1}}, \"ORACLE.run1_26\": {\"7\": {\"3\": 30, \"2\": 32, \"9\": 42, \"13\": 20, \"7\": 41, \"8\": 43, \"12\": 15, \"0\": 9, \"10\": 2, \"14\": 5, \"4\": 1}, \"6\": {\"10\": 25, \"11\": 24, \"6\": 44, \"1\": 39, \"5\": 26, \"2\": 4, \"15\": 40, \"0\": 9, \"14\": 28, \"8\": 1}, \"14\": {\"5\": 20, \"6\": 27, \"15\": 22, \"0\": 29, \"14\": 38, \"10\": 53, \"2\": 15, \"1\": 29, \"8\": 1, \"11\": 5, \"9\": 1}, \"15\": {\"14\": 25, \"6\": 33, \"11\": 10, \"15\": 49, \"5\": 65, \"0\": 11, \"10\": 25, \"9\": 1, \"1\": 16, \"2\": 4, \"8\": 1}, \"5\": {\"6\": 30, \"14\": 12, \"11\": 19, \"1\": 33, \"5\": 73, \"10\": 16, \"15\": 47, \"2\": 5, \"0\": 5}, \"10\": {\"14\": 51, \"0\": 33, \"1\": 21, \"10\": 45, \"2\": 11, \"15\": 37, \"6\": 18, \"5\": 17, \"11\": 3, \"9\": 2, \"12\": 2}, \"4\": {\"3\": 25, \"4\": 163, \"13\": 37, \"12\": 7, \"8\": 3, \"9\": 3, \"7\": 2}, \"11\": {\"6\": 37, \"11\": 112, \"5\": 27, \"0\": 2, \"14\": 7, \"10\": 9, \"15\": 19, \"2\": 2, \"1\": 25}, \"13\": {\"9\": 30, \"2\": 13, \"13\": 72, \"4\": 26, \"5\": 1, \"3\": 44, \"8\": 16, \"12\": 22, \"7\": 11, \"0\": 3, \"15\": 1, \"14\": 1}, \"2\": {\"12\": 10, \"15\": 4, \"3\": 11, \"2\": 64, \"5\": 3, \"10\": 12, \"7\": 37, \"13\": 12, \"9\": 30, \"8\": 26, \"6\": 1, \"0\": 24, \"14\": 6}, \"0\": {\"7\": 6, \"0\": 75, \"8\": 16, \"6\": 9, \"2\": 20, \"14\": 41, \"10\": 44, \"1\": 8, \"15\": 13, \"5\": 3, \"12\": 1, \"3\": 1, \"11\": 2, \"9\": 1}, \"12\": {\"3\": 20, \"12\": 93, \"7\": 25, \"4\": 3, \"0\": 7, \"13\": 28, \"8\": 26, \"2\": 7, \"14\": 2, \"9\": 25, \"6\": 1, \"15\": 1, \"10\": 2}, \"3\": {\"8\": 19, \"3\": 59, \"13\": 54, \"2\": 21, \"7\": 23, \"4\": 20, \"9\": 27, \"12\": 17}, \"9\": {\"10\": 5, \"2\": 39, \"3\": 37, \"9\": 37, \"12\": 27, \"13\": 25, \"4\": 4, \"0\": 7, \"7\": 33, \"6\": 1, \"8\": 21, \"14\": 3, \"15\": 1}, \"8\": {\"12\": 27, \"2\": 38, \"3\": 32, \"14\": 3, \"0\": 16, \"15\": 3, \"8\": 49, \"7\": 38, \"9\": 22, \"13\": 8, \"4\": 2, \"10\": 2}, \"1\": {\"6\": 47, \"14\": 24, \"1\": 62, \"15\": 31, \"0\": 13, \"5\": 24, \"11\": 20, \"10\": 19}}, \"ORACLE.run1_32\": {\"7\": {\"0\": 32, \"7\": 80, \"5\": 55, \"14\": 40, \"8\": 18, \"2\": 3, \"15\": 12}, \"2\": {\"8\": 18, \"2\": 93, \"14\": 26, \"3\": 17, \"4\": 59, \"13\": 10, \"0\": 9, \"5\": 2, \"9\": 3, \"7\": 2, \"15\": 1}, \"5\": {\"5\": 63, \"8\": 30, \"0\": 31, \"14\": 25, \"7\": 58, \"15\": 30, \"4\": 1, \"2\": 2}, \"6\": {\"6\": 205, \"10\": 28, \"12\": 6, \"11\": 1}, \"13\": {\"3\": 76, \"4\": 35, \"2\": 18, \"13\": 71, \"11\": 24, \"5\": 1, \"9\": 11, \"8\": 3, \"14\": 1}, \"4\": {\"2\": 83, \"14\": 4, \"13\": 21, \"3\": 36, \"4\": 77, \"9\": 3, \"8\": 12, \"0\": 1, \"11\": 3}, \"3\": {\"4\": 34, \"3\": 92, \"13\": 69, \"11\": 9, \"2\": 25, \"9\": 4, \"14\": 2, \"15\": 1, \"8\": 3, \"0\": 1}, \"0\": {\"0\": 60, \"8\": 56, \"14\": 27, \"5\": 33, \"7\": 38, \"4\": 1, \"15\": 20, \"2\": 5}, \"9\": {\"9\": 121, \"12\": 47, \"4\": 15, \"11\": 15, \"13\": 23, \"3\": 6, \"1\": 7, \"0\": 1, \"2\": 5}, \"12\": {\"12\": 191, \"9\": 28, \"10\": 19, \"4\": 1, \"13\": 1}, \"8\": {\"0\": 47, \"14\": 40, \"7\": 25, \"2\": 19, \"8\": 59, \"15\": 22, \"4\": 11, \"13\": 1, \"5\": 15, \"3\": 1}, \"14\": {\"14\": 69, \"0\": 41, \"5\": 23, \"2\": 25, \"8\": 24, \"7\": 41, \"4\": 9, \"3\": 3, \"15\": 5}, \"15\": {\"15\": 161, \"5\": 30, \"0\": 14, \"8\": 23, \"14\": 2, \"7\": 10}, \"11\": {\"9\": 17, \"11\": 188, \"3\": 14, \"12\": 3, \"13\": 17, \"4\": 1}, \"10\": {\"12\": 27, \"10\": 193, \"6\": 20}, \"1\": {\"1\": 231, \"15\": 1, \"0\": 2, \"8\": 1, \"2\": 3, \"9\": 2}}, \"ORACLE.run1_44\": {\"11\": {\"11\": 235, \"13\": 5}, \"7\": {\"9\": 60, \"7\": 71, \"4\": 31, \"10\": 42, \"5\": 12, \"14\": 19, \"6\": 5}, \"6\": {\"6\": 114, \"13\": 71, \"9\": 32, \"5\": 2, \"10\": 5, \"7\": 13, \"4\": 1, \"14\": 2}, \"12\": {\"3\": 123, \"12\": 113, \"1\": 2, \"0\": 2}, \"4\": {\"2\": 15, \"9\": 30, \"7\": 26, \"4\": 42, \"14\": 35, \"5\": 29, \"15\": 23, \"10\": 9, \"6\": 17, \"0\": 1, \"8\": 7, \"13\": 5, \"1\": 1}, \"13\": {\"6\": 80, \"13\": 140, \"11\": 2, \"9\": 17, \"7\": 1}, \"8\": {\"5\": 19, \"8\": 82, \"15\": 49, \"0\": 64, \"1\": 8, \"10\": 1, \"14\": 7, \"4\": 6, \"2\": 4}, \"5\": {\"15\": 35, \"4\": 40, \"9\": 9, \"14\": 59, \"5\": 73, \"8\": 8, \"6\": 2, \"10\": 2, \"7\": 7, \"1\": 2, \"2\": 2, \"0\": 1}, \"14\": {\"4\": 34, \"9\": 12, \"7\": 19, \"14\": 75, \"5\": 45, \"6\": 2, \"8\": 6, \"15\": 29, \"2\": 4, \"10\": 13, \"1\": 1}, \"3\": {\"12\": 111, \"3\": 125, \"0\": 3, \"1\": 1}, \"10\": {\"9\": 32, \"10\": 89, \"2\": 19, \"7\": 65, \"5\": 5, \"15\": 6, \"14\": 7, \"6\": 3, \"4\": 9, \"1\": 5}, \"1\": {\"15\": 7, \"2\": 51, \"1\": 153, \"8\": 7, \"0\": 12, \"10\": 4, \"3\": 3, \"12\": 1, \"5\": 2}, \"2\": {\"10\": 16, \"1\": 71, \"2\": 101, \"15\": 10, \"4\": 8, \"5\": 3, \"0\": 1, \"7\": 8, \"14\": 13, \"8\": 6, \"9\": 3}, \"15\": {\"5\": 30, \"8\": 48, \"2\": 10, \"4\": 14, \"0\": 7, \"15\": 75, \"1\": 9, \"14\": 30, \"7\": 7, \"9\": 4, \"10\": 6}, \"9\": {\"7\": 38, \"10\": 33, \"14\": 14, \"6\": 38, \"13\": 19, \"9\": 43, \"5\": 14, \"2\": 12, \"15\": 4, \"4\": 24, \"8\": 1}, \"0\": {\"15\": 11, \"0\": 137, \"8\": 68, \"3\": 4, \"1\": 14, \"5\": 3, \"2\": 1, \"14\": 2}}, \"ORACLE.run1_8\": {\"10\": {\"13\": 37, \"1\": 32, \"10\": 36, \"8\": 9, \"6\": 34, \"7\": 30, \"5\": 30, \"11\": 17, \"14\": 3, \"4\": 10, \"12\": 2}, \"6\": {\"7\": 42, \"10\": 28, \"6\": 44, \"1\": 26, \"4\": 24, \"13\": 18, \"14\": 9, \"11\": 20, \"8\": 15, \"5\": 14}, \"13\": {\"7\": 39, \"12\": 4, \"5\": 42, \"10\": 45, \"13\": 59, \"1\": 16, \"6\": 28, \"4\": 3, \"15\": 1, \"11\": 3}, \"3\": {\"2\": 28, \"3\": 186, \"9\": 19, \"12\": 1, \"15\": 6}, \"9\": {\"9\": 208, \"3\": 31, \"2\": 1}, \"1\": {\"11\": 43, \"5\": 31, \"7\": 21, \"10\": 19, \"8\": 17, \"6\": 29, \"14\": 5, \"13\": 14, \"1\": 49, \"4\": 12}, \"5\": {\"13\": 37, \"7\": 17, \"5\": 41, \"1\": 40, \"10\": 43, \"11\": 17, \"6\": 23, \"8\": 3, \"4\": 13, \"12\": 5, \"14\": 1}, \"11\": {\"8\": 40, \"11\": 49, \"7\": 13, \"6\": 16, \"10\": 13, \"5\": 24, \"4\": 16, \"14\": 19, \"1\": 36, \"13\": 14}, \"4\": {\"4\": 66, \"8\": 53, \"14\": 40, \"1\": 15, \"10\": 7, \"7\": 9, \"6\": 18, \"11\": 25, \"13\": 5, \"5\": 2}, \"14\": {\"4\": 56, \"11\": 23, \"8\": 34, \"1\": 9, \"14\": 102, \"7\": 4, \"0\": 2, \"6\": 8, \"10\": 2}, \"12\": {\"12\": 112, \"15\": 101, \"2\": 27}, \"7\": {\"13\": 42, \"7\": 51, \"11\": 15, \"10\": 34, \"8\": 7, \"6\": 43, \"4\": 11, \"14\": 1, \"5\": 23, \"1\": 13}, \"0\": {\"0\": 231, \"14\": 8, \"4\": 1}, \"15\": {\"12\": 78, \"2\": 47, \"15\": 112, \"3\": 3}, \"2\": {\"12\": 37, \"3\": 43, \"2\": 111, \"15\": 46, \"13\": 1, \"9\": 2}, \"8\": {\"8\": 57, \"1\": 22, \"7\": 16, \"14\": 29, \"4\": 45, \"6\": 26, \"11\": 34, \"13\": 3, \"10\": 4, \"5\": 4}}, \"ORACLE.run1_38\": {\"4\": {\"4\": 166, \"14\": 12, \"13\": 25, \"10\": 16, \"0\": 17, \"2\": 1, \"7\": 3}, \"7\": {\"14\": 27, \"7\": 95, \"5\": 16, \"9\": 29, \"13\": 12, \"2\": 33, \"0\": 11, \"8\": 9, \"4\": 7, \"12\": 1}, \"12\": {\"12\": 188, \"5\": 9, \"8\": 31, \"15\": 8, \"14\": 2, \"9\": 1, \"7\": 1}, \"10\": {\"10\": 132, \"4\": 30, \"0\": 45, \"13\": 26, \"3\": 6, \"14\": 1}, \"0\": {\"13\": 69, \"7\": 16, \"0\": 65, \"10\": 54, \"3\": 19, \"9\": 6, \"14\": 3, \"2\": 5, \"4\": 3}, \"1\": {\"6\": 103, \"15\": 10, \"1\": 127}, \"5\": {\"9\": 37, \"5\": 69, \"15\": 22, \"14\": 6, \"7\": 21, \"2\": 13, \"8\": 51, \"12\": 20, \"0\": 1}, \"15\": {\"15\": 154, \"1\": 15, \"8\": 18, \"12\": 23, \"5\": 21, \"6\": 7, \"9\": 2}, \"9\": {\"9\": 162, \"5\": 37, \"7\": 18, \"13\": 1, \"2\": 5, \"8\": 14, \"15\": 2, \"14\": 1}, \"11\": {\"11\": 239, \"3\": 1}, \"14\": {\"0\": 2, \"2\": 46, \"14\": 131, \"4\": 24, \"13\": 14, \"8\": 3, \"7\": 18, \"5\": 1, \"12\": 1}, \"6\": {\"6\": 144, \"1\": 92, \"15\": 4}, \"8\": {\"8\": 56, \"12\": 40, \"5\": 50, \"2\": 14, \"15\": 21, \"7\": 29, \"9\": 24, \"14\": 6}, \"3\": {\"3\": 229, \"11\": 8, \"10\": 2, \"0\": 1}, \"2\": {\"7\": 31, \"13\": 10, \"2\": 101, \"14\": 57, \"9\": 17, \"5\": 7, \"8\": 13, \"0\": 2, \"12\": 2}, \"13\": {\"13\": 113, \"10\": 24, \"2\": 5, \"7\": 7, \"0\": 66, \"14\": 9, \"9\": 3, \"4\": 13}}}, \"per_domain_accuracy\": {\"CORES_4\": {\"accuracy\": 0.9977544910179641, \"source?\": true}, \"CORES_5\": {\"accuracy\": 0.9986033519553073, \"source?\": true}, \"CORES_2\": {\"accuracy\": 0.9983928571428572, \"source?\": true}, \"CORES_1\": {\"accuracy\": 0.9996603260869565, \"source?\": true}, \"CORES_3\": {\"accuracy\": 0.9979779411764705, \"source?\": true}, \"ORACLE.run1_14\": {\"accuracy\": 0.45625, \"source?\": false}, \"ORACLE.run1_20\": {\"accuracy\": 0.20859375, \"source?\": false}, \"ORACLE.run1_50\": {\"accuracy\": 0.4390625, \"source?\": false}, \"ORACLE.run1_26\": {\"accuracy\": 0.28020833333333334, \"source?\": false}, \"ORACLE.run1_32\": {\"accuracy\": 0.5088541666666667, \"source?\": false}, \"ORACLE.run1_44\": {\"accuracy\": 0.434375, \"source?\": false}, \"ORACLE.run1_8\": {\"accuracy\": 0.39427083333333335, \"source?\": false}, \"ORACLE.run1_38\": {\"accuracy\": 0.5653645833333333, \"source?\": false}}}, \"history\": {\"epoch_indices\": [1, 2, 3, 4, 5], \"train_label_loss\": [0.026227179837662793, 0.008996746720106155, 0.007352438832925778, 0.004362049425715618, 0.004131929395335238], \"source_val_label_loss\": [0.013254583813250065, 0.015139312483370304, 0.013320554047822952, 0.01799309439957142, 0.017646033316850662], \"target_val_label_loss\": [2.037856101989746, 1.9753167629241943, 2.173356056213379, 1.7130553722381592, 1.7237746715545654], \"source_val_acc_label\": [0.9985, 0.999, 0.9989285714285714, 0.9988214285714285, 0.9983214285714286], \"target_val_acc_label\": [0.41087239583333335, 0.3973307291666667, 0.30166015625, 0.39847005208333336, 0.3787760416666667]}, \"dataset_metrics\": {\"source\": {\"train\": {\"n_unique_x\": 175152, \"n_unique_y\": 58, \"n_batch/episode\": 6313}, \"val\": {\"n_unique_x\": 37216, \"n_unique_y\": 58, \"n_batch/episode\": 875}, \"test\": {\"n_unique_x\": 37596, \"n_unique_y\": 58, \"n_batch/episode\": 886}}, \"target\": {\"train\": {\"n_unique_x\": 179200, \"n_unique_y\": 16, \"n_batch/episode\": 6720}, \"val\": {\"n_unique_x\": 38400, \"n_unique_y\": 16, \"n_batch/episode\": 960}, \"test\": {\"n_unique_x\": 38400, \"n_unique_y\": 16, \"n_batch/episode\": 960}}}}'"
      ]
     },
     "execution_count": 29,
     "metadata": {},
     "output_type": "execute_result"
    }
   ],
   "source": [
    "json.dumps(experiment)"
   ]
  }
 ],
 "metadata": {
  "celltoolbar": "Tags",
  "kernelspec": {
   "display_name": "Python 3 (ipykernel)",
   "language": "python",
   "name": "python3"
  },
  "language_info": {
   "codemirror_mode": {
    "name": "ipython",
    "version": 3
   },
   "file_extension": ".py",
   "mimetype": "text/x-python",
   "name": "python",
   "nbconvert_exporter": "python",
   "pygments_lexer": "ipython3",
   "version": "3.8.12"
  },
  "papermill": {
   "default_parameters": {},
   "duration": 1227.521098,
   "end_time": "2022-03-22T08:33:00.139332",
   "environment_variables": {},
   "exception": null,
   "input_path": "/root/csc500-main/csc500-notebooks/templates/tl_ptn_template.ipynb",
   "output_path": "trial.ipynb",
   "parameters": {
    "parameters": {
     "BEST_MODEL_PATH": "./best_model.pth",
     "NUM_LOGS_PER_EPOCH": 10,
     "criteria_for_best": "target_accuracy",
     "dataset_seed": 420,
     "datasets": [
      {
       "domain_prefix": "CORES_",
       "domains": [
        1,
        2,
        3,
        4,
        5
       ],
       "episode_transforms": [],
       "labels": [
        "1-10.",
        "1-11.",
        "1-15.",
        "1-16.",
        "1-17.",
        "1-18.",
        "1-19.",
        "10-4.",
        "10-7.",
        "11-1.",
        "11-14.",
        "11-17.",
        "11-20.",
        "11-7.",
        "13-20.",
        "13-8.",
        "14-10.",
        "14-11.",
        "14-14.",
        "14-7.",
        "15-1.",
        "15-20.",
        "16-1.",
        "16-16.",
        "17-10.",
        "17-11.",
        "17-2.",
        "19-1.",
        "19-16.",
        "19-19.",
        "19-20.",
        "19-3.",
        "2-10.",
        "2-11.",
        "2-17.",
        "2-18.",
        "2-20.",
        "2-3.",
        "2-4.",
        "2-5.",
        "2-6.",
        "2-7.",
        "2-8.",
        "3-13.",
        "3-18.",
        "3-3.",
        "4-1.",
        "4-10.",
        "4-11.",
        "4-19.",
        "5-5.",
        "6-15.",
        "7-10.",
        "7-14.",
        "8-18.",
        "8-20.",
        "8-3.",
        "8-8."
       ],
       "num_examples_per_domain_per_label": -1,
       "pickle_path": "/root/csc500-main/datasets/cores.stratified_ds.2022A.pkl",
       "source_or_target_dataset": "source",
       "x_transforms": []
      },
      {
       "domain_prefix": "ORACLE.run1_",
       "domains": [
        32,
        38,
        8,
        44,
        14,
        50,
        20,
        26
       ],
       "episode_transforms": [],
       "labels": [
        "3123D52",
        "3123D65",
        "3123D79",
        "3123D80",
        "3123D54",
        "3123D70",
        "3123D7B",
        "3123D89",
        "3123D58",
        "3123D76",
        "3123D7D",
        "3123EFE",
        "3123D64",
        "3123D78",
        "3123D7E",
        "3124E4A"
       ],
       "num_examples_per_domain_per_label": 2000,
       "pickle_path": "/root/csc500-main/datasets/oracle.Run1_10kExamples_stratified_ds.2022A.pkl",
       "source_or_target_dataset": "target",
       "x_transforms": []
      }
     ],
     "device": "cuda",
     "experiment_name": "tl_1v2:cores-oracle.run1.limited",
     "lr": 0.0001,
     "n_epoch": 50,
     "n_query": 2,
     "n_shot": 3,
     "n_way": 16,
     "patience": 3,
     "seed": 420,
     "test_k_factor": 2,
     "torch_default_dtype": "torch.float32",
     "train_k_factor": 3,
     "val_k_factor": 2,
     "x_net": [
      {
       "class": "nnReshape",
       "kargs": {
        "shape": [
         -1,
         1,
         2,
         256
        ]
       }
      },
      {
       "class": "Conv2d",
       "kargs": {
        "bias": false,
        "in_channels": 1,
        "kernel_size": [
         1,
         7
        ],
        "out_channels": 256,
        "padding": [
         0,
         3
        ]
       }
      },
      {
       "class": "ReLU",
       "kargs": {
        "inplace": true
       }
      },
      {
       "class": "BatchNorm2d",
       "kargs": {
        "num_features": 256
       }
      },
      {
       "class": "Conv2d",
       "kargs": {
        "bias": true,
        "in_channels": 256,
        "kernel_size": [
         2,
         7
        ],
        "out_channels": 80,
        "padding": [
         0,
         3
        ]
       }
      },
      {
       "class": "ReLU",
       "kargs": {
        "inplace": true
       }
      },
      {
       "class": "BatchNorm2d",
       "kargs": {
        "num_features": 80
       }
      },
      {
       "class": "Flatten",
       "kargs": {}
      },
      {
       "class": "Linear",
       "kargs": {
        "in_features": 20480,
        "out_features": 256
       }
      },
      {
       "class": "ReLU",
       "kargs": {
        "inplace": true
       }
      },
      {
       "class": "BatchNorm1d",
       "kargs": {
        "num_features": 256
       }
      },
      {
       "class": "Linear",
       "kargs": {
        "in_features": 256,
        "out_features": 256
       }
      }
     ]
    }
   },
   "start_time": "2022-03-22T08:12:32.618234",
   "version": "2.3.4"
  }
 },
 "nbformat": 4,
 "nbformat_minor": 5
}