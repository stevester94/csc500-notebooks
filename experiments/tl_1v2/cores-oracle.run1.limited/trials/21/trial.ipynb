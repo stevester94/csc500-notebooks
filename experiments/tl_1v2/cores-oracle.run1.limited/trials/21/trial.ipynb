{
 "cells": [
  {
   "cell_type": "markdown",
   "id": "9fea5f46",
   "metadata": {
    "papermill": {
     "duration": 0.027596,
     "end_time": "2022-03-22T14:54:08.274211",
     "exception": false,
     "start_time": "2022-03-22T14:54:08.246615",
     "status": "completed"
    },
    "tags": []
   },
   "source": [
    "# Transfer Learning Template"
   ]
  },
  {
   "cell_type": "code",
   "execution_count": 1,
   "id": "0902182a",
   "metadata": {
    "execution": {
     "iopub.execute_input": "2022-03-22T14:54:08.335120Z",
     "iopub.status.busy": "2022-03-22T14:54:08.334274Z",
     "iopub.status.idle": "2022-03-22T14:54:10.214856Z",
     "shell.execute_reply": "2022-03-22T14:54:10.214039Z"
    },
    "papermill": {
     "duration": 1.918906,
     "end_time": "2022-03-22T14:54:10.215043",
     "exception": false,
     "start_time": "2022-03-22T14:54:08.296137",
     "status": "completed"
    },
    "tags": []
   },
   "outputs": [],
   "source": [
    "%load_ext autoreload\n",
    "%autoreload 2\n",
    "%matplotlib inline\n",
    "\n",
    "    \n",
    "import os, json, sys, time, random\n",
    "import numpy as np\n",
    "import torch\n",
    "from torch.optim import Adam\n",
    "from  easydict import EasyDict\n",
    "import matplotlib.pyplot as plt\n",
    "\n",
    "from steves_models.steves_ptn import Steves_Prototypical_Network\n",
    "\n",
    "from steves_utils.lazy_iterable_wrapper import Lazy_Iterable_Wrapper\n",
    "from steves_utils.iterable_aggregator import Iterable_Aggregator\n",
    "from steves_utils.ptn_train_eval_test_jig import  PTN_Train_Eval_Test_Jig\n",
    "from steves_utils.torch_sequential_builder import build_sequential\n",
    "from steves_utils.torch_utils import get_dataset_metrics, ptn_confusion_by_domain_over_dataloader\n",
    "from steves_utils.utils_v2 import (per_domain_accuracy_from_confusion, get_datasets_base_path)\n",
    "from steves_utils.PTN.utils import independent_accuracy_assesment\n",
    "\n",
    "from torch.utils.data import DataLoader\n",
    "\n",
    "from steves_utils.stratified_dataset.episodic_accessor import Episodic_Accessor_Factory\n",
    "\n",
    "from steves_utils.ptn_do_report import (\n",
    "    get_loss_curve,\n",
    "    get_results_table,\n",
    "    get_parameters_table,\n",
    "    get_domain_accuracies,\n",
    ")\n",
    "\n",
    "from steves_utils.transforms import get_chained_transform"
   ]
  },
  {
   "cell_type": "markdown",
   "id": "41c840b4",
   "metadata": {
    "papermill": {
     "duration": 0.019447,
     "end_time": "2022-03-22T14:54:10.259493",
     "exception": false,
     "start_time": "2022-03-22T14:54:10.240046",
     "status": "completed"
    },
    "tags": []
   },
   "source": [
    "# Allowed Parameters\n",
    "These are allowed parameters, not defaults\n",
    "Each of these values need to be present in the injected parameters (the notebook will raise an exception if they are not present)\n",
    "\n",
    "Papermill uses the cell tag \"parameters\" to inject the real parameters below this cell.\n",
    "Enable tags to see what I mean"
   ]
  },
  {
   "cell_type": "code",
   "execution_count": 2,
   "id": "fd44eb83",
   "metadata": {
    "execution": {
     "iopub.execute_input": "2022-03-22T14:54:10.302586Z",
     "iopub.status.busy": "2022-03-22T14:54:10.302103Z",
     "iopub.status.idle": "2022-03-22T14:54:10.321963Z",
     "shell.execute_reply": "2022-03-22T14:54:10.321160Z"
    },
    "papermill": {
     "duration": 0.04304,
     "end_time": "2022-03-22T14:54:10.322120",
     "exception": false,
     "start_time": "2022-03-22T14:54:10.279080",
     "status": "completed"
    },
    "tags": []
   },
   "outputs": [],
   "source": [
    "required_parameters = {\n",
    "    \"experiment_name\",\n",
    "    \"lr\",\n",
    "    \"device\",\n",
    "    \"seed\",\n",
    "    \"dataset_seed\",\n",
    "    \"n_shot\",\n",
    "    \"n_query\",\n",
    "    \"n_way\",\n",
    "    \"train_k_factor\",\n",
    "    \"val_k_factor\",\n",
    "    \"test_k_factor\",\n",
    "    \"n_epoch\",\n",
    "    \"patience\",\n",
    "    \"criteria_for_best\",\n",
    "    \"x_net\",\n",
    "    \"datasets\",\n",
    "    \"torch_default_dtype\",\n",
    "    \"NUM_LOGS_PER_EPOCH\",\n",
    "    \"BEST_MODEL_PATH\",\n",
    "    \"x_shape\",\n",
    "}"
   ]
  },
  {
   "cell_type": "code",
   "execution_count": 3,
   "id": "fa3f0049",
   "metadata": {
    "execution": {
     "iopub.execute_input": "2022-03-22T14:54:10.380927Z",
     "iopub.status.busy": "2022-03-22T14:54:10.374789Z",
     "iopub.status.idle": "2022-03-22T14:54:10.400472Z",
     "shell.execute_reply": "2022-03-22T14:54:10.399642Z"
    },
    "papermill": {
     "duration": 0.053308,
     "end_time": "2022-03-22T14:54:10.400628",
     "exception": false,
     "start_time": "2022-03-22T14:54:10.347320",
     "status": "completed"
    },
    "tags": [
     "parameters"
    ]
   },
   "outputs": [],
   "source": [
    "from steves_utils.CORES.utils import (\n",
    "    ALL_NODES,\n",
    "    ALL_NODES_MINIMUM_1000_EXAMPLES,\n",
    "    ALL_DAYS\n",
    ")\n",
    "\n",
    "from steves_utils.ORACLE.utils_v2 import (\n",
    "    ALL_DISTANCES_FEET_NARROWED,\n",
    "    ALL_RUNS,\n",
    "    ALL_SERIAL_NUMBERS,\n",
    ")\n",
    "\n",
    "standalone_parameters = {}\n",
    "standalone_parameters[\"experiment_name\"] = \"STANDALONE PTN\"\n",
    "standalone_parameters[\"lr\"] = 0.001\n",
    "standalone_parameters[\"device\"] = \"cuda\"\n",
    "\n",
    "standalone_parameters[\"seed\"] = 1337\n",
    "standalone_parameters[\"dataset_seed\"] = 1337\n",
    "\n",
    "standalone_parameters[\"n_way\"] = 8\n",
    "standalone_parameters[\"n_shot\"] = 3\n",
    "standalone_parameters[\"n_query\"]  = 2\n",
    "standalone_parameters[\"train_k_factor\"] = 1\n",
    "standalone_parameters[\"val_k_factor\"] = 2\n",
    "standalone_parameters[\"test_k_factor\"] = 2\n",
    "\n",
    "\n",
    "standalone_parameters[\"n_epoch\"] = 50\n",
    "\n",
    "standalone_parameters[\"patience\"] = 10\n",
    "standalone_parameters[\"criteria_for_best\"] = \"source_loss\"\n",
    "\n",
    "standalone_parameters[\"datasets\"] = [\n",
    "    {\n",
    "        \"labels\": ALL_SERIAL_NUMBERS,\n",
    "        \"domains\": ALL_DISTANCES_FEET_NARROWED,\n",
    "        \"num_examples_per_domain_per_label\": 100,\n",
    "        \"pickle_path\": os.path.join(get_datasets_base_path(), \"oracle.Run1_framed_2000Examples_stratified_ds.2022A.pkl\"),\n",
    "        \"source_or_target_dataset\": \"source\",\n",
    "        \"x_transforms\": [\"unit_mag\", \"minus_two\"],\n",
    "        \"episode_transforms\": [],\n",
    "        \"domain_prefix\": \"ORACLE_\"\n",
    "    },\n",
    "    {\n",
    "        \"labels\": ALL_NODES,\n",
    "        \"domains\": ALL_DAYS,\n",
    "        \"num_examples_per_domain_per_label\": 100,\n",
    "        \"pickle_path\": os.path.join(get_datasets_base_path(), \"cores.stratified_ds.2022A.pkl\"),\n",
    "        \"source_or_target_dataset\": \"target\",\n",
    "        \"x_transforms\": [\"unit_power\", \"times_zero\"],\n",
    "        \"episode_transforms\": [],\n",
    "        \"domain_prefix\": \"CORES_\"\n",
    "    }   \n",
    "]\n",
    "\n",
    "standalone_parameters[\"torch_default_dtype\"] = \"torch.float32\" \n",
    "\n",
    "\n",
    "\n",
    "standalone_parameters[\"x_net\"] =     [\n",
    "    {\"class\": \"nnReshape\", \"kargs\": {\"shape\":[-1, 1, 2, 256]}},\n",
    "    {\"class\": \"Conv2d\", \"kargs\": { \"in_channels\":1, \"out_channels\":256, \"kernel_size\":(1,7), \"bias\":False, \"padding\":(0,3), },},\n",
    "    {\"class\": \"ReLU\", \"kargs\": {\"inplace\": True}},\n",
    "    {\"class\": \"BatchNorm2d\", \"kargs\": {\"num_features\":256}},\n",
    "\n",
    "    {\"class\": \"Conv2d\", \"kargs\": { \"in_channels\":256, \"out_channels\":80, \"kernel_size\":(2,7), \"bias\":True, \"padding\":(0,3), },},\n",
    "    {\"class\": \"ReLU\", \"kargs\": {\"inplace\": True}},\n",
    "    {\"class\": \"BatchNorm2d\", \"kargs\": {\"num_features\":80}},\n",
    "    {\"class\": \"Flatten\", \"kargs\": {}},\n",
    "\n",
    "    {\"class\": \"Linear\", \"kargs\": {\"in_features\": 80*256, \"out_features\": 256}}, # 80 units per IQ pair\n",
    "    {\"class\": \"ReLU\", \"kargs\": {\"inplace\": True}},\n",
    "    {\"class\": \"BatchNorm1d\", \"kargs\": {\"num_features\":256}},\n",
    "\n",
    "    {\"class\": \"Linear\", \"kargs\": {\"in_features\": 256, \"out_features\": 256}},\n",
    "]\n",
    "\n",
    "# Parameters relevant to results\n",
    "# These parameters will basically never need to change\n",
    "standalone_parameters[\"NUM_LOGS_PER_EPOCH\"] = 10\n",
    "standalone_parameters[\"BEST_MODEL_PATH\"] = \"./best_model.pth\"\n",
    "\n",
    "\n",
    "\n",
    "\n"
   ]
  },
  {
   "cell_type": "code",
   "execution_count": 4,
   "id": "18dbceef",
   "metadata": {
    "execution": {
     "iopub.execute_input": "2022-03-22T14:54:10.465442Z",
     "iopub.status.busy": "2022-03-22T14:54:10.464481Z",
     "iopub.status.idle": "2022-03-22T14:54:10.484113Z",
     "shell.execute_reply": "2022-03-22T14:54:10.483281Z"
    },
    "papermill": {
     "duration": 0.055515,
     "end_time": "2022-03-22T14:54:10.484268",
     "exception": false,
     "start_time": "2022-03-22T14:54:10.428753",
     "status": "completed"
    },
    "tags": [
     "injected-parameters"
    ]
   },
   "outputs": [],
   "source": [
    "# Parameters\n",
    "parameters = {\n",
    "    \"experiment_name\": \"tl_1v2:cores-oracle.run1.limited\",\n",
    "    \"device\": \"cuda\",\n",
    "    \"lr\": 0.0001,\n",
    "    \"n_shot\": 3,\n",
    "    \"n_query\": 2,\n",
    "    \"train_k_factor\": 3,\n",
    "    \"val_k_factor\": 2,\n",
    "    \"test_k_factor\": 2,\n",
    "    \"torch_default_dtype\": \"torch.float32\",\n",
    "    \"n_epoch\": 50,\n",
    "    \"patience\": 3,\n",
    "    \"criteria_for_best\": \"target_accuracy\",\n",
    "    \"x_net\": [\n",
    "        {\"class\": \"nnReshape\", \"kargs\": {\"shape\": [-1, 1, 2, 256]}},\n",
    "        {\n",
    "            \"class\": \"Conv2d\",\n",
    "            \"kargs\": {\n",
    "                \"in_channels\": 1,\n",
    "                \"out_channels\": 256,\n",
    "                \"kernel_size\": [1, 7],\n",
    "                \"bias\": False,\n",
    "                \"padding\": [0, 3],\n",
    "            },\n",
    "        },\n",
    "        {\"class\": \"ReLU\", \"kargs\": {\"inplace\": True}},\n",
    "        {\"class\": \"BatchNorm2d\", \"kargs\": {\"num_features\": 256}},\n",
    "        {\n",
    "            \"class\": \"Conv2d\",\n",
    "            \"kargs\": {\n",
    "                \"in_channels\": 256,\n",
    "                \"out_channels\": 80,\n",
    "                \"kernel_size\": [2, 7],\n",
    "                \"bias\": True,\n",
    "                \"padding\": [0, 3],\n",
    "            },\n",
    "        },\n",
    "        {\"class\": \"ReLU\", \"kargs\": {\"inplace\": True}},\n",
    "        {\"class\": \"BatchNorm2d\", \"kargs\": {\"num_features\": 80}},\n",
    "        {\"class\": \"Flatten\", \"kargs\": {}},\n",
    "        {\"class\": \"Linear\", \"kargs\": {\"in_features\": 20480, \"out_features\": 256}},\n",
    "        {\"class\": \"ReLU\", \"kargs\": {\"inplace\": True}},\n",
    "        {\"class\": \"BatchNorm1d\", \"kargs\": {\"num_features\": 256}},\n",
    "        {\"class\": \"Linear\", \"kargs\": {\"in_features\": 256, \"out_features\": 256}},\n",
    "    ],\n",
    "    \"NUM_LOGS_PER_EPOCH\": 10,\n",
    "    \"BEST_MODEL_PATH\": \"./best_model.pth\",\n",
    "    \"n_way\": 16,\n",
    "    \"datasets\": [\n",
    "        {\n",
    "            \"labels\": [\n",
    "                \"1-10.\",\n",
    "                \"1-11.\",\n",
    "                \"1-15.\",\n",
    "                \"1-16.\",\n",
    "                \"1-17.\",\n",
    "                \"1-18.\",\n",
    "                \"1-19.\",\n",
    "                \"10-4.\",\n",
    "                \"10-7.\",\n",
    "                \"11-1.\",\n",
    "                \"11-14.\",\n",
    "                \"11-17.\",\n",
    "                \"11-20.\",\n",
    "                \"11-7.\",\n",
    "                \"13-20.\",\n",
    "                \"13-8.\",\n",
    "                \"14-10.\",\n",
    "                \"14-11.\",\n",
    "                \"14-14.\",\n",
    "                \"14-7.\",\n",
    "                \"15-1.\",\n",
    "                \"15-20.\",\n",
    "                \"16-1.\",\n",
    "                \"16-16.\",\n",
    "                \"17-10.\",\n",
    "                \"17-11.\",\n",
    "                \"17-2.\",\n",
    "                \"19-1.\",\n",
    "                \"19-16.\",\n",
    "                \"19-19.\",\n",
    "                \"19-20.\",\n",
    "                \"19-3.\",\n",
    "                \"2-10.\",\n",
    "                \"2-11.\",\n",
    "                \"2-17.\",\n",
    "                \"2-18.\",\n",
    "                \"2-20.\",\n",
    "                \"2-3.\",\n",
    "                \"2-4.\",\n",
    "                \"2-5.\",\n",
    "                \"2-6.\",\n",
    "                \"2-7.\",\n",
    "                \"2-8.\",\n",
    "                \"3-13.\",\n",
    "                \"3-18.\",\n",
    "                \"3-3.\",\n",
    "                \"4-1.\",\n",
    "                \"4-10.\",\n",
    "                \"4-11.\",\n",
    "                \"4-19.\",\n",
    "                \"5-5.\",\n",
    "                \"6-15.\",\n",
    "                \"7-10.\",\n",
    "                \"7-14.\",\n",
    "                \"8-18.\",\n",
    "                \"8-20.\",\n",
    "                \"8-3.\",\n",
    "                \"8-8.\",\n",
    "            ],\n",
    "            \"domains\": [1, 2, 3, 4, 5],\n",
    "            \"num_examples_per_domain_per_label\": -1,\n",
    "            \"pickle_path\": \"/root/csc500-main/datasets/cores.stratified_ds.2022A.pkl\",\n",
    "            \"source_or_target_dataset\": \"target\",\n",
    "            \"x_transforms\": [\"unit_power\"],\n",
    "            \"episode_transforms\": [],\n",
    "            \"domain_prefix\": \"CORES_\",\n",
    "        },\n",
    "        {\n",
    "            \"labels\": [\n",
    "                \"3123D52\",\n",
    "                \"3123D65\",\n",
    "                \"3123D79\",\n",
    "                \"3123D80\",\n",
    "                \"3123D54\",\n",
    "                \"3123D70\",\n",
    "                \"3123D7B\",\n",
    "                \"3123D89\",\n",
    "                \"3123D58\",\n",
    "                \"3123D76\",\n",
    "                \"3123D7D\",\n",
    "                \"3123EFE\",\n",
    "                \"3123D64\",\n",
    "                \"3123D78\",\n",
    "                \"3123D7E\",\n",
    "                \"3124E4A\",\n",
    "            ],\n",
    "            \"domains\": [32, 38, 8, 44, 14, 50, 20, 26],\n",
    "            \"num_examples_per_domain_per_label\": 2000,\n",
    "            \"pickle_path\": \"/root/csc500-main/datasets/oracle.Run1_10kExamples_stratified_ds.2022A.pkl\",\n",
    "            \"source_or_target_dataset\": \"source\",\n",
    "            \"x_transforms\": [\"unit_power\"],\n",
    "            \"episode_transforms\": [],\n",
    "            \"domain_prefix\": \"ORACLE.run1_\",\n",
    "        },\n",
    "    ],\n",
    "    \"dataset_seed\": 7,\n",
    "    \"seed\": 7,\n",
    "}\n"
   ]
  },
  {
   "cell_type": "code",
   "execution_count": 5,
   "id": "8fa1cc33",
   "metadata": {
    "execution": {
     "iopub.execute_input": "2022-03-22T14:54:10.537250Z",
     "iopub.status.busy": "2022-03-22T14:54:10.536683Z",
     "iopub.status.idle": "2022-03-22T14:54:10.554893Z",
     "shell.execute_reply": "2022-03-22T14:54:10.554066Z"
    },
    "papermill": {
     "duration": 0.042344,
     "end_time": "2022-03-22T14:54:10.555047",
     "exception": false,
     "start_time": "2022-03-22T14:54:10.512703",
     "status": "completed"
    },
    "tags": []
   },
   "outputs": [],
   "source": [
    "# Set this to True if you want to run this template directly\n",
    "STANDALONE = False\n",
    "if STANDALONE:\n",
    "    print(\"parameters not injected, running with standalone_parameters\")\n",
    "    parameters = standalone_parameters\n",
    "\n",
    "if not 'parameters' in locals() and not 'parameters' in globals():\n",
    "    raise Exception(\"Parameter injection failed\")\n",
    "\n",
    "#Use an easy dict for all the parameters\n",
    "p = EasyDict(parameters)\n",
    "\n",
    "if \"x_shape\" not in p:\n",
    "    p.x_shape = [2,256] # Default to this if we dont supply x_shape\n",
    "\n",
    "\n",
    "supplied_keys = set(p.keys())\n",
    "\n",
    "if  supplied_keys != required_parameters:\n",
    "    print(\"Parameters are incorrect\")\n",
    "    if len(supplied_keys - required_parameters)>0: print(\"Shouldn't have:\", str(supplied_keys - required_parameters))\n",
    "    if len(required_parameters - supplied_keys)>0: print(\"Need to have:\", str(required_parameters - supplied_keys))\n",
    "    raise RuntimeError(\"Parameters are incorrect\")"
   ]
  },
  {
   "cell_type": "code",
   "execution_count": 6,
   "id": "3a028d58",
   "metadata": {
    "execution": {
     "iopub.execute_input": "2022-03-22T14:54:10.608487Z",
     "iopub.status.busy": "2022-03-22T14:54:10.608116Z",
     "iopub.status.idle": "2022-03-22T14:54:10.626489Z",
     "shell.execute_reply": "2022-03-22T14:54:10.625696Z"
    },
    "papermill": {
     "duration": 0.040413,
     "end_time": "2022-03-22T14:54:10.626639",
     "exception": false,
     "start_time": "2022-03-22T14:54:10.586226",
     "status": "completed"
    },
    "tags": []
   },
   "outputs": [],
   "source": [
    "###################################\n",
    "# Set the RNGs and make it all deterministic\n",
    "###################################\n",
    "np.random.seed(p.seed)\n",
    "random.seed(p.seed)\n",
    "torch.manual_seed(p.seed)\n",
    "\n",
    "torch.use_deterministic_algorithms(True) "
   ]
  },
  {
   "cell_type": "code",
   "execution_count": 7,
   "id": "b691acf6",
   "metadata": {
    "execution": {
     "iopub.execute_input": "2022-03-22T14:54:10.676563Z",
     "iopub.status.busy": "2022-03-22T14:54:10.674279Z",
     "iopub.status.idle": "2022-03-22T14:54:10.697427Z",
     "shell.execute_reply": "2022-03-22T14:54:10.696635Z"
    },
    "papermill": {
     "duration": 0.045549,
     "end_time": "2022-03-22T14:54:10.697577",
     "exception": false,
     "start_time": "2022-03-22T14:54:10.652028",
     "status": "completed"
    },
    "tags": []
   },
   "outputs": [],
   "source": [
    "###########################################\n",
    "# The stratified datasets honor this\n",
    "###########################################\n",
    "torch.set_default_dtype(eval(p.torch_default_dtype))"
   ]
  },
  {
   "cell_type": "code",
   "execution_count": 8,
   "id": "b5fba671",
   "metadata": {
    "execution": {
     "iopub.execute_input": "2022-03-22T14:54:10.750410Z",
     "iopub.status.busy": "2022-03-22T14:54:10.749805Z",
     "iopub.status.idle": "2022-03-22T14:54:10.804582Z",
     "shell.execute_reply": "2022-03-22T14:54:10.803869Z"
    },
    "papermill": {
     "duration": 0.078957,
     "end_time": "2022-03-22T14:54:10.804737",
     "exception": false,
     "start_time": "2022-03-22T14:54:10.725780",
     "status": "completed"
    },
    "tags": []
   },
   "outputs": [],
   "source": [
    "###################################\n",
    "# Build the network(s)\n",
    "# Note: It's critical to do this AFTER setting the RNG\n",
    "###################################\n",
    "x_net = build_sequential(p.x_net)"
   ]
  },
  {
   "cell_type": "code",
   "execution_count": 9,
   "id": "5d7e61cc",
   "metadata": {
    "execution": {
     "iopub.execute_input": "2022-03-22T14:54:10.855169Z",
     "iopub.status.busy": "2022-03-22T14:54:10.854581Z",
     "iopub.status.idle": "2022-03-22T14:54:10.877804Z",
     "shell.execute_reply": "2022-03-22T14:54:10.876993Z"
    },
    "papermill": {
     "duration": 0.046296,
     "end_time": "2022-03-22T14:54:10.877957",
     "exception": false,
     "start_time": "2022-03-22T14:54:10.831661",
     "status": "completed"
    },
    "tags": []
   },
   "outputs": [],
   "source": [
    "start_time_secs = time.time()"
   ]
  },
  {
   "cell_type": "code",
   "execution_count": 10,
   "id": "c6b67dfd",
   "metadata": {
    "execution": {
     "iopub.execute_input": "2022-03-22T14:54:10.929432Z",
     "iopub.status.busy": "2022-03-22T14:54:10.928340Z",
     "iopub.status.idle": "2022-03-22T14:54:10.950656Z",
     "shell.execute_reply": "2022-03-22T14:54:10.949848Z"
    },
    "papermill": {
     "duration": 0.047167,
     "end_time": "2022-03-22T14:54:10.950810",
     "exception": false,
     "start_time": "2022-03-22T14:54:10.903643",
     "status": "completed"
    },
    "tags": []
   },
   "outputs": [],
   "source": [
    "p.domains_source = []\n",
    "p.domains_target = []\n",
    "\n",
    "\n",
    "train_original_source = []\n",
    "val_original_source   = []\n",
    "test_original_source  = []\n",
    "\n",
    "train_original_target = []\n",
    "val_original_target   = []\n",
    "test_original_target  = []"
   ]
  },
  {
   "cell_type": "code",
   "execution_count": 11,
   "id": "e3d9c3d3",
   "metadata": {
    "execution": {
     "iopub.execute_input": "2022-03-22T14:54:11.000010Z",
     "iopub.status.busy": "2022-03-22T14:54:10.999645Z",
     "iopub.status.idle": "2022-03-22T14:54:11.017307Z",
     "shell.execute_reply": "2022-03-22T14:54:11.016490Z"
    },
    "papermill": {
     "duration": 0.040641,
     "end_time": "2022-03-22T14:54:11.017463",
     "exception": false,
     "start_time": "2022-03-22T14:54:10.976822",
     "status": "completed"
    },
    "tags": []
   },
   "outputs": [],
   "source": [
    "# global_x_transform_func = lambda x: normalize(x.to(torch.get_default_dtype()), \"unit_power\") # unit_power, unit_mag\n",
    "# global_x_transform_func = lambda x: normalize(x, \"unit_power\") # unit_power, unit_mag"
   ]
  },
  {
   "cell_type": "code",
   "execution_count": 12,
   "id": "acb78fd2",
   "metadata": {
    "execution": {
     "iopub.execute_input": "2022-03-22T14:54:11.077084Z",
     "iopub.status.busy": "2022-03-22T14:54:11.073124Z",
     "iopub.status.idle": "2022-03-22T14:54:11.092506Z",
     "shell.execute_reply": "2022-03-22T14:54:11.091789Z"
    },
    "papermill": {
     "duration": 0.049333,
     "end_time": "2022-03-22T14:54:11.092661",
     "exception": false,
     "start_time": "2022-03-22T14:54:11.043328",
     "status": "completed"
    },
    "tags": []
   },
   "outputs": [],
   "source": [
    "def add_dataset(\n",
    "    labels,\n",
    "    domains,\n",
    "    pickle_path,\n",
    "    x_transforms,\n",
    "    episode_transforms,\n",
    "    domain_prefix,\n",
    "    num_examples_per_domain_per_label,\n",
    "    source_or_target_dataset:str,\n",
    "    iterator_seed=p.seed,\n",
    "    dataset_seed=p.dataset_seed,\n",
    "    n_shot=p.n_shot,\n",
    "    n_way=p.n_way,\n",
    "    n_query=p.n_query,\n",
    "    train_val_test_k_factors=(p.train_k_factor,p.val_k_factor,p.test_k_factor),\n",
    "):\n",
    "   \n",
    "    if x_transforms == []: x_transform = None\n",
    "    else: x_transform = get_chained_transform(x_transforms)\n",
    "    \n",
    "    if episode_transforms == []: episode_transform = None\n",
    "    else: raise Exception(\"episode_transforms not implemented\")\n",
    "    \n",
    "    episode_transform = lambda tup, _prefix=domain_prefix: (_prefix + str(tup[0]), tup[1])\n",
    "\n",
    "\n",
    "    eaf = Episodic_Accessor_Factory(\n",
    "        labels=labels,\n",
    "        domains=domains,\n",
    "        num_examples_per_domain_per_label=num_examples_per_domain_per_label,\n",
    "        iterator_seed=iterator_seed,\n",
    "        dataset_seed=dataset_seed,\n",
    "        n_shot=n_shot,\n",
    "        n_way=n_way,\n",
    "        n_query=n_query,\n",
    "        train_val_test_k_factors=train_val_test_k_factors,\n",
    "        pickle_path=pickle_path,\n",
    "        x_transform_func=x_transform,\n",
    "    )\n",
    "\n",
    "    train, val, test = eaf.get_train(), eaf.get_val(), eaf.get_test()\n",
    "    train = Lazy_Iterable_Wrapper(train, episode_transform)\n",
    "    val = Lazy_Iterable_Wrapper(val, episode_transform)\n",
    "    test = Lazy_Iterable_Wrapper(test, episode_transform)\n",
    "\n",
    "    if source_or_target_dataset==\"source\":\n",
    "        train_original_source.append(train)\n",
    "        val_original_source.append(val)\n",
    "        test_original_source.append(test)\n",
    "\n",
    "        p.domains_source.extend(\n",
    "            [domain_prefix + str(u) for u in domains]\n",
    "        )\n",
    "    elif source_or_target_dataset==\"target\":\n",
    "        train_original_target.append(train)\n",
    "        val_original_target.append(val)\n",
    "        test_original_target.append(test)\n",
    "        p.domains_target.extend(\n",
    "            [domain_prefix + str(u) for u in domains]\n",
    "        )\n",
    "    else:\n",
    "        raise Exception(f\"invalid source_or_target_dataset: {source_or_target_dataset}\")\n",
    "    "
   ]
  },
  {
   "cell_type": "code",
   "execution_count": 13,
   "id": "fe266617",
   "metadata": {
    "execution": {
     "iopub.execute_input": "2022-03-22T14:54:11.142696Z",
     "iopub.status.busy": "2022-03-22T14:54:11.142027Z",
     "iopub.status.idle": "2022-03-22T14:54:56.609797Z",
     "shell.execute_reply": "2022-03-22T14:54:56.609073Z"
    },
    "papermill": {
     "duration": 45.490554,
     "end_time": "2022-03-22T14:54:56.609982",
     "exception": false,
     "start_time": "2022-03-22T14:54:11.119428",
     "status": "completed"
    },
    "tags": []
   },
   "outputs": [],
   "source": [
    "for ds in p.datasets:\n",
    "    add_dataset(**ds)"
   ]
  },
  {
   "cell_type": "code",
   "execution_count": 14,
   "id": "b90d65ac",
   "metadata": {
    "execution": {
     "iopub.execute_input": "2022-03-22T14:54:56.663934Z",
     "iopub.status.busy": "2022-03-22T14:54:56.663557Z",
     "iopub.status.idle": "2022-03-22T14:54:56.690801Z",
     "shell.execute_reply": "2022-03-22T14:54:56.689997Z"
    },
    "papermill": {
     "duration": 0.051562,
     "end_time": "2022-03-22T14:54:56.690958",
     "exception": false,
     "start_time": "2022-03-22T14:54:56.639396",
     "status": "completed"
    },
    "tags": []
   },
   "outputs": [],
   "source": [
    "# from steves_utils.CORES.utils import (\n",
    "#     ALL_NODES,\n",
    "#     ALL_NODES_MINIMUM_1000_EXAMPLES,\n",
    "#     ALL_DAYS\n",
    "# )\n",
    "\n",
    "# add_dataset(\n",
    "#     labels=ALL_NODES,\n",
    "#     domains = ALL_DAYS,\n",
    "#     num_examples_per_domain_per_label=100,\n",
    "#     pickle_path=os.path.join(get_datasets_base_path(), \"cores.stratified_ds.2022A.pkl\"),\n",
    "#     source_or_target_dataset=\"target\",\n",
    "#     x_transform_func=global_x_transform_func,\n",
    "#     domain_modifier=lambda u: f\"cores_{u}\"\n",
    "# )"
   ]
  },
  {
   "cell_type": "code",
   "execution_count": 15,
   "id": "76db484d",
   "metadata": {
    "execution": {
     "iopub.execute_input": "2022-03-22T14:54:56.743488Z",
     "iopub.status.busy": "2022-03-22T14:54:56.743116Z",
     "iopub.status.idle": "2022-03-22T14:54:56.765614Z",
     "shell.execute_reply": "2022-03-22T14:54:56.764810Z"
    },
    "papermill": {
     "duration": 0.046766,
     "end_time": "2022-03-22T14:54:56.765769",
     "exception": false,
     "start_time": "2022-03-22T14:54:56.719003",
     "status": "completed"
    },
    "tags": []
   },
   "outputs": [],
   "source": [
    "# from steves_utils.ORACLE.utils_v2 import (\n",
    "#     ALL_DISTANCES_FEET,\n",
    "#     ALL_RUNS,\n",
    "#     ALL_SERIAL_NUMBERS,\n",
    "# )\n",
    "\n",
    "\n",
    "# add_dataset(\n",
    "#     labels=ALL_SERIAL_NUMBERS,\n",
    "#     domains = list(set(ALL_DISTANCES_FEET) - {2,62}),\n",
    "#     num_examples_per_domain_per_label=100,\n",
    "#     pickle_path=os.path.join(get_datasets_base_path(), \"oracle.Run2_framed_2000Examples_stratified_ds.2022A.pkl\"),\n",
    "#     source_or_target_dataset=\"source\",\n",
    "#     x_transform_func=global_x_transform_func,\n",
    "#     domain_modifier=lambda u: f\"oracle1_{u}\"\n",
    "# )\n"
   ]
  },
  {
   "cell_type": "code",
   "execution_count": 16,
   "id": "97dea9d2",
   "metadata": {
    "execution": {
     "iopub.execute_input": "2022-03-22T14:54:56.818910Z",
     "iopub.status.busy": "2022-03-22T14:54:56.818339Z",
     "iopub.status.idle": "2022-03-22T14:54:56.840833Z",
     "shell.execute_reply": "2022-03-22T14:54:56.840132Z"
    },
    "papermill": {
     "duration": 0.047898,
     "end_time": "2022-03-22T14:54:56.840987",
     "exception": false,
     "start_time": "2022-03-22T14:54:56.793089",
     "status": "completed"
    },
    "tags": []
   },
   "outputs": [],
   "source": [
    "# from steves_utils.ORACLE.utils_v2 import (\n",
    "#     ALL_DISTANCES_FEET,\n",
    "#     ALL_RUNS,\n",
    "#     ALL_SERIAL_NUMBERS,\n",
    "# )\n",
    "\n",
    "\n",
    "# add_dataset(\n",
    "#     labels=ALL_SERIAL_NUMBERS,\n",
    "#     domains = list(set(ALL_DISTANCES_FEET) - {2,62,56}),\n",
    "#     num_examples_per_domain_per_label=100,\n",
    "#     pickle_path=os.path.join(get_datasets_base_path(), \"oracle.Run2_framed_2000Examples_stratified_ds.2022A.pkl\"),\n",
    "#     source_or_target_dataset=\"source\",\n",
    "#     x_transform_func=global_x_transform_func,\n",
    "#     domain_modifier=lambda u: f\"oracle2_{u}\"\n",
    "# )"
   ]
  },
  {
   "cell_type": "code",
   "execution_count": 17,
   "id": "6f289866",
   "metadata": {
    "execution": {
     "iopub.execute_input": "2022-03-22T14:54:56.892669Z",
     "iopub.status.busy": "2022-03-22T14:54:56.892301Z",
     "iopub.status.idle": "2022-03-22T14:54:56.911644Z",
     "shell.execute_reply": "2022-03-22T14:54:56.910833Z"
    },
    "papermill": {
     "duration": 0.043248,
     "end_time": "2022-03-22T14:54:56.911799",
     "exception": false,
     "start_time": "2022-03-22T14:54:56.868551",
     "status": "completed"
    },
    "tags": []
   },
   "outputs": [],
   "source": [
    "# add_dataset(\n",
    "#     labels=list(range(19)),\n",
    "#     domains = [0,1,2],\n",
    "#     num_examples_per_domain_per_label=100,\n",
    "#     pickle_path=os.path.join(get_datasets_base_path(), \"metehan.stratified_ds.2022A.pkl\"),\n",
    "#     source_or_target_dataset=\"target\",\n",
    "#     x_transform_func=global_x_transform_func,\n",
    "#     domain_modifier=lambda u: f\"met_{u}\"\n",
    "# )"
   ]
  },
  {
   "cell_type": "code",
   "execution_count": 18,
   "id": "86a863c3",
   "metadata": {
    "execution": {
     "iopub.execute_input": "2022-03-22T14:54:56.967309Z",
     "iopub.status.busy": "2022-03-22T14:54:56.966218Z",
     "iopub.status.idle": "2022-03-22T14:54:56.986574Z",
     "shell.execute_reply": "2022-03-22T14:54:56.985779Z"
    },
    "papermill": {
     "duration": 0.043845,
     "end_time": "2022-03-22T14:54:56.986727",
     "exception": false,
     "start_time": "2022-03-22T14:54:56.942882",
     "status": "completed"
    },
    "tags": []
   },
   "outputs": [],
   "source": [
    "# # from steves_utils.wisig.utils import (\n",
    "# #     ALL_NODES_MINIMUM_100_EXAMPLES,\n",
    "# #     ALL_NODES_MINIMUM_500_EXAMPLES,\n",
    "# #     ALL_NODES_MINIMUM_1000_EXAMPLES,\n",
    "# #     ALL_DAYS\n",
    "# # )\n",
    "\n",
    "# import steves_utils.wisig.utils as wisig\n",
    "\n",
    "\n",
    "# add_dataset(\n",
    "#     labels=wisig.ALL_NODES_MINIMUM_100_EXAMPLES,\n",
    "#     domains = wisig.ALL_DAYS,\n",
    "#     num_examples_per_domain_per_label=100,\n",
    "#     pickle_path=os.path.join(get_datasets_base_path(), \"wisig.node3-19.stratified_ds.2022A.pkl\"),\n",
    "#     source_or_target_dataset=\"target\",\n",
    "#     x_transform_func=global_x_transform_func,\n",
    "#     domain_modifier=lambda u: f\"wisig_{u}\"\n",
    "# )"
   ]
  },
  {
   "cell_type": "code",
   "execution_count": 19,
   "id": "fd5442bc",
   "metadata": {
    "execution": {
     "iopub.execute_input": "2022-03-22T14:54:57.046124Z",
     "iopub.status.busy": "2022-03-22T14:54:57.045296Z",
     "iopub.status.idle": "2022-03-22T14:54:57.067385Z",
     "shell.execute_reply": "2022-03-22T14:54:57.066586Z"
    },
    "papermill": {
     "duration": 0.053959,
     "end_time": "2022-03-22T14:54:57.067559",
     "exception": false,
     "start_time": "2022-03-22T14:54:57.013600",
     "status": "completed"
    },
    "tags": []
   },
   "outputs": [],
   "source": [
    "###################################\n",
    "# Build the dataset\n",
    "###################################\n",
    "train_original_source = Iterable_Aggregator(train_original_source, p.seed)\n",
    "val_original_source = Iterable_Aggregator(val_original_source, p.seed)\n",
    "test_original_source = Iterable_Aggregator(test_original_source, p.seed)\n",
    "\n",
    "\n",
    "train_original_target = Iterable_Aggregator(train_original_target, p.seed)\n",
    "val_original_target = Iterable_Aggregator(val_original_target, p.seed)\n",
    "test_original_target = Iterable_Aggregator(test_original_target, p.seed)\n",
    "\n",
    "# For CNN We only use X and Y. And we only train on the source.\n",
    "# Properly form the data using a transform lambda and Lazy_Iterable_Wrapper. Finally wrap them in a dataloader\n",
    "\n",
    "transform_lambda = lambda ex: ex[1] # Original is (<domain>, <episode>) so we strip down to episode only\n",
    "\n",
    "train_processed_source = Lazy_Iterable_Wrapper(train_original_source, transform_lambda)\n",
    "val_processed_source   = Lazy_Iterable_Wrapper(val_original_source, transform_lambda)\n",
    "test_processed_source  = Lazy_Iterable_Wrapper(test_original_source, transform_lambda)\n",
    "\n",
    "train_processed_target = Lazy_Iterable_Wrapper(train_original_target, transform_lambda)\n",
    "val_processed_target   = Lazy_Iterable_Wrapper(val_original_target, transform_lambda)\n",
    "test_processed_target  = Lazy_Iterable_Wrapper(test_original_target, transform_lambda)\n",
    "\n",
    "datasets = EasyDict({\n",
    "    \"source\": {\n",
    "        \"original\": {\"train\":train_original_source, \"val\":val_original_source, \"test\":test_original_source},\n",
    "        \"processed\": {\"train\":train_processed_source, \"val\":val_processed_source, \"test\":test_processed_source}\n",
    "    },\n",
    "    \"target\": {\n",
    "        \"original\": {\"train\":train_original_target, \"val\":val_original_target, \"test\":test_original_target},\n",
    "        \"processed\": {\"train\":train_processed_target, \"val\":val_processed_target, \"test\":test_processed_target}\n",
    "    },\n",
    "})"
   ]
  },
  {
   "cell_type": "code",
   "execution_count": 20,
   "id": "5b3c01fc",
   "metadata": {
    "execution": {
     "iopub.execute_input": "2022-03-22T14:54:57.122965Z",
     "iopub.status.busy": "2022-03-22T14:54:57.122566Z",
     "iopub.status.idle": "2022-03-22T14:55:11.813271Z",
     "shell.execute_reply": "2022-03-22T14:55:11.814101Z"
    },
    "papermill": {
     "duration": 14.715864,
     "end_time": "2022-03-22T14:55:11.814328",
     "exception": false,
     "start_time": "2022-03-22T14:54:57.098464",
     "status": "completed"
    },
    "tags": []
   },
   "outputs": [
    {
     "name": "stdout",
     "output_type": "stream",
     "text": [
      "{'ORACLE.run1_38', 'ORACLE.run1_26', 'ORACLE.run1_32', 'ORACLE.run1_44', 'ORACLE.run1_50', 'ORACLE.run1_20', 'ORACLE.run1_14', 'ORACLE.run1_8'}\n"
     ]
    },
    {
     "name": "stdout",
     "output_type": "stream",
     "text": [
      "{'CORES_4', 'CORES_1', 'CORES_2', 'CORES_5', 'CORES_3'}\n"
     ]
    },
    {
     "name": "stdout",
     "output_type": "stream",
     "text": [
      "tensor([[[-0.5157,  1.0145,  1.3442,  ...,  0.0000, -0.4481,  1.2259],\n",
      "         [-0.0845, -0.3720, -0.9807,  ...,  0.1099, -0.7947,  0.3973]],\n",
      "\n",
      "        [[-0.5868, -0.5700,  1.8694,  ...,  0.3102,  0.1844, -0.8131],\n",
      "         [-0.1174,  0.6958, -0.5868,  ...,  0.4359,  0.2766,  0.0503]],\n",
      "\n",
      "        [[-2.2739, -0.3356,  1.0488,  ...,  0.5454, -0.8810, -0.2769],\n",
      "         [ 0.5118,  0.6041, -1.1411,  ...,  0.3524,  0.9062, -1.2502]],\n",
      "\n",
      "        ...,\n",
      "\n",
      "        [[-0.6893, -0.6220,  1.3282,  ..., -0.1597,  0.9667,  1.0423],\n",
      "         [ 0.7734, -0.2774,  0.1681,  ..., -0.4960,  0.8742,  0.9331]],\n",
      "\n",
      "        [[-0.7212,  0.3487, -0.0238,  ..., -0.2932, -0.0872,  0.1664],\n",
      "         [-1.1174, -0.7767,  0.2853,  ...,  0.4121,  0.7846,  0.2615]],\n",
      "\n",
      "        [[-0.2759,  1.1037,  0.5113,  ...,  0.2516,  0.9414,  0.5437],\n",
      "         [-0.2678,  0.0649,  1.2011,  ...,  0.5032,  0.8034,  0.3977]]])\n"
     ]
    }
   ],
   "source": [
    "from steves_utils.transforms import get_average_magnitude, get_average_power\n",
    "\n",
    "print(set([u for u,_ in val_original_source]))\n",
    "print(set([u for u,_ in val_original_target]))\n",
    "\n",
    "s_x, s_y, q_x, q_y, _ = next(iter(train_processed_source))\n",
    "print(s_x)\n",
    "\n",
    "# for ds in [\n",
    "#     train_processed_source,\n",
    "#     val_processed_source,\n",
    "#     test_processed_source,\n",
    "#     train_processed_target,\n",
    "#     val_processed_target,\n",
    "#     test_processed_target\n",
    "# ]:\n",
    "#     for s_x, s_y, q_x, q_y, _ in ds:\n",
    "#         for X in (s_x, q_x):\n",
    "#             for x in X:\n",
    "#                 assert np.isclose(get_average_magnitude(x.numpy()), 1.0)\n",
    "#                 assert np.isclose(get_average_power(x.numpy()), 1.0)\n",
    "                "
   ]
  },
  {
   "cell_type": "code",
   "execution_count": 21,
   "id": "bbdacba1",
   "metadata": {
    "execution": {
     "iopub.execute_input": "2022-03-22T14:55:11.868423Z",
     "iopub.status.busy": "2022-03-22T14:55:11.868050Z",
     "iopub.status.idle": "2022-03-22T14:55:11.989125Z",
     "shell.execute_reply": "2022-03-22T14:55:11.989459Z"
    },
    "papermill": {
     "duration": 0.148279,
     "end_time": "2022-03-22T14:55:11.989606",
     "exception": false,
     "start_time": "2022-03-22T14:55:11.841327",
     "status": "completed"
    },
    "tags": []
   },
   "outputs": [
    {
     "name": "stdout",
     "output_type": "stream",
     "text": [
      "(2, 256)\n"
     ]
    }
   ],
   "source": [
    "###################################\n",
    "# Build the model\n",
    "###################################\n",
    "# easfsl only wants a tuple for the shape\n",
    "model = Steves_Prototypical_Network(x_net, device=p.device, x_shape=tuple(p.x_shape))\n",
    "optimizer = Adam(params=model.parameters(), lr=p.lr)"
   ]
  },
  {
   "cell_type": "code",
   "execution_count": 22,
   "id": "22b39ac5",
   "metadata": {
    "execution": {
     "iopub.execute_input": "2022-03-22T14:55:12.064617Z",
     "iopub.status.busy": "2022-03-22T14:55:12.064242Z",
     "iopub.status.idle": "2022-03-22T15:27:42.416350Z",
     "shell.execute_reply": "2022-03-22T15:27:42.416003Z"
    },
    "papermill": {
     "duration": 1950.379729,
     "end_time": "2022-03-22T15:27:42.416437",
     "exception": false,
     "start_time": "2022-03-22T14:55:12.036708",
     "status": "completed"
    },
    "tags": []
   },
   "outputs": [
    {
     "name": "stdout",
     "output_type": "stream",
     "text": [
      "epoch: 1, [batch: 1 / 6720], examples_per_second: 33.0656, train_label_loss: 2.7969, \n"
     ]
    },
    {
     "name": "stdout",
     "output_type": "stream",
     "text": [
      "epoch: 1, [batch: 672 / 6720], examples_per_second: 3755.6691, train_label_loss: 2.7717, \n"
     ]
    },
    {
     "name": "stdout",
     "output_type": "stream",
     "text": [
      "epoch: 1, [batch: 1344 / 6720], examples_per_second: 3858.6333, train_label_loss: 1.6583, \n"
     ]
    },
    {
     "name": "stdout",
     "output_type": "stream",
     "text": [
      "epoch: 1, [batch: 2016 / 6720], examples_per_second: 3978.8386, train_label_loss: 1.3377, \n"
     ]
    },
    {
     "name": "stdout",
     "output_type": "stream",
     "text": [
      "epoch: 1, [batch: 2688 / 6720], examples_per_second: 3951.3587, train_label_loss: 1.2816, \n"
     ]
    },
    {
     "name": "stdout",
     "output_type": "stream",
     "text": [
      "epoch: 1, [batch: 3360 / 6720], examples_per_second: 3959.8153, train_label_loss: 1.1381, \n"
     ]
    },
    {
     "name": "stdout",
     "output_type": "stream",
     "text": [
      "epoch: 1, [batch: 4032 / 6720], examples_per_second: 3958.5240, train_label_loss: 0.8632, \n"
     ]
    },
    {
     "name": "stdout",
     "output_type": "stream",
     "text": [
      "epoch: 1, [batch: 4704 / 6720], examples_per_second: 3917.0446, train_label_loss: 1.8375, \n"
     ]
    },
    {
     "name": "stdout",
     "output_type": "stream",
     "text": [
      "epoch: 1, [batch: 5376 / 6720], examples_per_second: 3815.2303, train_label_loss: 1.4966, \n"
     ]
    },
    {
     "name": "stdout",
     "output_type": "stream",
     "text": [
      "epoch: 1, [batch: 6048 / 6720], examples_per_second: 3850.4251, train_label_loss: 0.8018, \n"
     ]
    },
    {
     "name": "stdout",
     "output_type": "stream",
     "text": [
      "=============================================================\n",
      "epoch: 1, source_val_acc_label: 0.5429, target_val_acc_label: 0.9547, source_val_label_loss: 1.2015, target_val_label_loss: 0.1533, \n",
      "=============================================================\n"
     ]
    },
    {
     "name": "stdout",
     "output_type": "stream",
     "text": [
      "New best\n"
     ]
    },
    {
     "name": "stdout",
     "output_type": "stream",
     "text": [
      "epoch: 2, [batch: 1 / 6720], examples_per_second: 3.9598, train_label_loss: 1.4609, \n"
     ]
    },
    {
     "name": "stdout",
     "output_type": "stream",
     "text": [
      "epoch: 2, [batch: 672 / 6720], examples_per_second: 3825.2654, train_label_loss: 1.6285, \n"
     ]
    },
    {
     "name": "stdout",
     "output_type": "stream",
     "text": [
      "epoch: 2, [batch: 1344 / 6720], examples_per_second: 4130.5544, train_label_loss: 0.7087, \n"
     ]
    },
    {
     "name": "stdout",
     "output_type": "stream",
     "text": [
      "epoch: 2, [batch: 2016 / 6720], examples_per_second: 3970.2697, train_label_loss: 0.6032, \n"
     ]
    },
    {
     "name": "stdout",
     "output_type": "stream",
     "text": [
      "epoch: 2, [batch: 2688 / 6720], examples_per_second: 4009.1289, train_label_loss: 0.8394, \n"
     ]
    },
    {
     "name": "stdout",
     "output_type": "stream",
     "text": [
      "epoch: 2, [batch: 3360 / 6720], examples_per_second: 4014.7509, train_label_loss: 1.1493, \n"
     ]
    },
    {
     "name": "stdout",
     "output_type": "stream",
     "text": [
      "epoch: 2, [batch: 4032 / 6720], examples_per_second: 3911.4901, train_label_loss: 0.5375, \n"
     ]
    },
    {
     "name": "stdout",
     "output_type": "stream",
     "text": [
      "epoch: 2, [batch: 4704 / 6720], examples_per_second: 3900.2877, train_label_loss: 1.4550, \n"
     ]
    },
    {
     "name": "stdout",
     "output_type": "stream",
     "text": [
      "epoch: 2, [batch: 5376 / 6720], examples_per_second: 3856.1962, train_label_loss: 0.6432, \n"
     ]
    },
    {
     "name": "stdout",
     "output_type": "stream",
     "text": [
      "epoch: 2, [batch: 6048 / 6720], examples_per_second: 3919.6059, train_label_loss: 0.4633, \n"
     ]
    },
    {
     "name": "stdout",
     "output_type": "stream",
     "text": [
      "=============================================================\n",
      "epoch: 2, source_val_acc_label: 0.5943, target_val_acc_label: 0.9645, source_val_label_loss: 1.0693, target_val_label_loss: 0.1517, \n",
      "=============================================================\n"
     ]
    },
    {
     "name": "stdout",
     "output_type": "stream",
     "text": [
      "New best\n"
     ]
    },
    {
     "name": "stdout",
     "output_type": "stream",
     "text": [
      "epoch: 3, [batch: 1 / 6720], examples_per_second: 4.0277, train_label_loss: 0.8080, \n"
     ]
    },
    {
     "name": "stdout",
     "output_type": "stream",
     "text": [
      "epoch: 3, [batch: 672 / 6720], examples_per_second: 3892.4242, train_label_loss: 1.3012, \n"
     ]
    },
    {
     "name": "stdout",
     "output_type": "stream",
     "text": [
      "epoch: 3, [batch: 1344 / 6720], examples_per_second: 3828.7563, train_label_loss: 0.5064, \n"
     ]
    },
    {
     "name": "stdout",
     "output_type": "stream",
     "text": [
      "epoch: 3, [batch: 2016 / 6720], examples_per_second: 3800.0795, train_label_loss: 1.1411, \n"
     ]
    },
    {
     "name": "stdout",
     "output_type": "stream",
     "text": [
      "epoch: 3, [batch: 2688 / 6720], examples_per_second: 3865.1427, train_label_loss: 1.2317, \n"
     ]
    },
    {
     "name": "stdout",
     "output_type": "stream",
     "text": [
      "epoch: 3, [batch: 3360 / 6720], examples_per_second: 4035.3609, train_label_loss: 1.0705, \n"
     ]
    },
    {
     "name": "stdout",
     "output_type": "stream",
     "text": [
      "epoch: 3, [batch: 4032 / 6720], examples_per_second: 4135.8820, train_label_loss: 0.5358, \n"
     ]
    },
    {
     "name": "stdout",
     "output_type": "stream",
     "text": [
      "epoch: 3, [batch: 4704 / 6720], examples_per_second: 4416.1871, train_label_loss: 0.9896, \n"
     ]
    },
    {
     "name": "stdout",
     "output_type": "stream",
     "text": [
      "epoch: 3, [batch: 5376 / 6720], examples_per_second: 4183.9246, train_label_loss: 0.9557, \n"
     ]
    },
    {
     "name": "stdout",
     "output_type": "stream",
     "text": [
      "epoch: 3, [batch: 6048 / 6720], examples_per_second: 4242.1058, train_label_loss: 0.5330, \n"
     ]
    },
    {
     "name": "stdout",
     "output_type": "stream",
     "text": [
      "=============================================================\n",
      "epoch: 3, source_val_acc_label: 0.6111, target_val_acc_label: 0.9623, source_val_label_loss: 1.0471, target_val_label_loss: 0.1746, \n",
      "=============================================================\n"
     ]
    },
    {
     "name": "stdout",
     "output_type": "stream",
     "text": [
      "epoch: 4, [batch: 1 / 6720], examples_per_second: 4.7621, train_label_loss: 0.8051, \n"
     ]
    },
    {
     "name": "stdout",
     "output_type": "stream",
     "text": [
      "epoch: 4, [batch: 672 / 6720], examples_per_second: 4802.6427, train_label_loss: 0.4578, \n"
     ]
    },
    {
     "name": "stdout",
     "output_type": "stream",
     "text": [
      "epoch: 4, [batch: 1344 / 6720], examples_per_second: 4202.3428, train_label_loss: 0.8377, \n"
     ]
    },
    {
     "name": "stdout",
     "output_type": "stream",
     "text": [
      "epoch: 4, [batch: 2016 / 6720], examples_per_second: 3976.7525, train_label_loss: 0.4639, \n"
     ]
    },
    {
     "name": "stdout",
     "output_type": "stream",
     "text": [
      "epoch: 4, [batch: 2688 / 6720], examples_per_second: 3986.9160, train_label_loss: 0.4003, \n"
     ]
    },
    {
     "name": "stdout",
     "output_type": "stream",
     "text": [
      "epoch: 4, [batch: 3360 / 6720], examples_per_second: 3936.3935, train_label_loss: 0.6000, \n"
     ]
    },
    {
     "name": "stdout",
     "output_type": "stream",
     "text": [
      "epoch: 4, [batch: 4032 / 6720], examples_per_second: 4013.8512, train_label_loss: 0.4902, \n"
     ]
    },
    {
     "name": "stdout",
     "output_type": "stream",
     "text": [
      "epoch: 4, [batch: 4704 / 6720], examples_per_second: 3815.5356, train_label_loss: 0.6392, \n"
     ]
    },
    {
     "name": "stdout",
     "output_type": "stream",
     "text": [
      "epoch: 4, [batch: 5376 / 6720], examples_per_second: 3965.3880, train_label_loss: 0.3832, \n"
     ]
    },
    {
     "name": "stdout",
     "output_type": "stream",
     "text": [
      "epoch: 4, [batch: 6048 / 6720], examples_per_second: 4052.6185, train_label_loss: 0.9311, \n"
     ]
    },
    {
     "name": "stdout",
     "output_type": "stream",
     "text": [
      "=============================================================\n",
      "epoch: 4, source_val_acc_label: 0.6113, target_val_acc_label: 0.9652, source_val_label_loss: 1.0693, target_val_label_loss: 0.1891, \n",
      "=============================================================\n"
     ]
    },
    {
     "name": "stdout",
     "output_type": "stream",
     "text": [
      "New best\n"
     ]
    },
    {
     "name": "stdout",
     "output_type": "stream",
     "text": [
      "epoch: 5, [batch: 1 / 6720], examples_per_second: 3.9954, train_label_loss: 0.8448, \n"
     ]
    },
    {
     "name": "stdout",
     "output_type": "stream",
     "text": [
      "epoch: 5, [batch: 672 / 6720], examples_per_second: 3932.4188, train_label_loss: 0.4207, \n"
     ]
    },
    {
     "name": "stdout",
     "output_type": "stream",
     "text": [
      "epoch: 5, [batch: 1344 / 6720], examples_per_second: 3808.8573, train_label_loss: 0.6313, \n"
     ]
    },
    {
     "name": "stdout",
     "output_type": "stream",
     "text": [
      "epoch: 5, [batch: 2016 / 6720], examples_per_second: 3930.3093, train_label_loss: 0.5740, \n"
     ]
    },
    {
     "name": "stdout",
     "output_type": "stream",
     "text": [
      "epoch: 5, [batch: 2688 / 6720], examples_per_second: 3919.1369, train_label_loss: 0.7566, \n"
     ]
    },
    {
     "name": "stdout",
     "output_type": "stream",
     "text": [
      "epoch: 5, [batch: 3360 / 6720], examples_per_second: 3888.6199, train_label_loss: 0.5184, \n"
     ]
    },
    {
     "name": "stdout",
     "output_type": "stream",
     "text": [
      "epoch: 5, [batch: 4032 / 6720], examples_per_second: 3899.9248, train_label_loss: 0.3371, \n"
     ]
    },
    {
     "name": "stdout",
     "output_type": "stream",
     "text": [
      "epoch: 5, [batch: 4704 / 6720], examples_per_second: 3880.4588, train_label_loss: 0.9731, \n"
     ]
    },
    {
     "name": "stdout",
     "output_type": "stream",
     "text": [
      "epoch: 5, [batch: 5376 / 6720], examples_per_second: 3958.9636, train_label_loss: 0.3801, \n"
     ]
    },
    {
     "name": "stdout",
     "output_type": "stream",
     "text": [
      "epoch: 5, [batch: 6048 / 6720], examples_per_second: 4013.5000, train_label_loss: 0.6073, \n"
     ]
    },
    {
     "name": "stdout",
     "output_type": "stream",
     "text": [
      "=============================================================\n",
      "epoch: 5, source_val_acc_label: 0.6184, target_val_acc_label: 0.9675, source_val_label_loss: 1.0838, target_val_label_loss: 0.1939, \n",
      "=============================================================\n"
     ]
    },
    {
     "name": "stdout",
     "output_type": "stream",
     "text": [
      "New best\n"
     ]
    },
    {
     "name": "stdout",
     "output_type": "stream",
     "text": [
      "epoch: 6, [batch: 1 / 6720], examples_per_second: 4.0357, train_label_loss: 0.3955, \n"
     ]
    },
    {
     "name": "stdout",
     "output_type": "stream",
     "text": [
      "epoch: 6, [batch: 672 / 6720], examples_per_second: 3761.9743, train_label_loss: 0.9072, \n"
     ]
    },
    {
     "name": "stdout",
     "output_type": "stream",
     "text": [
      "epoch: 6, [batch: 1344 / 6720], examples_per_second: 3874.0988, train_label_loss: 0.5269, \n"
     ]
    },
    {
     "name": "stdout",
     "output_type": "stream",
     "text": [
      "epoch: 6, [batch: 2016 / 6720], examples_per_second: 3881.5356, train_label_loss: 0.6621, \n"
     ]
    },
    {
     "name": "stdout",
     "output_type": "stream",
     "text": [
      "epoch: 6, [batch: 2688 / 6720], examples_per_second: 3839.1697, train_label_loss: 0.5351, \n"
     ]
    },
    {
     "name": "stdout",
     "output_type": "stream",
     "text": [
      "epoch: 6, [batch: 3360 / 6720], examples_per_second: 3875.1560, train_label_loss: 0.6579, \n"
     ]
    },
    {
     "name": "stdout",
     "output_type": "stream",
     "text": [
      "epoch: 6, [batch: 4032 / 6720], examples_per_second: 3953.6749, train_label_loss: 0.3531, \n"
     ]
    },
    {
     "name": "stdout",
     "output_type": "stream",
     "text": [
      "epoch: 6, [batch: 4704 / 6720], examples_per_second: 3981.0430, train_label_loss: 1.0287, \n"
     ]
    },
    {
     "name": "stdout",
     "output_type": "stream",
     "text": [
      "epoch: 6, [batch: 5376 / 6720], examples_per_second: 3892.5807, train_label_loss: 0.4252, \n"
     ]
    },
    {
     "name": "stdout",
     "output_type": "stream",
     "text": [
      "epoch: 6, [batch: 6048 / 6720], examples_per_second: 4012.2166, train_label_loss: 0.4100, \n"
     ]
    },
    {
     "name": "stdout",
     "output_type": "stream",
     "text": [
      "=============================================================\n",
      "epoch: 6, source_val_acc_label: 0.6002, target_val_acc_label: 0.9649, source_val_label_loss: 1.1604, target_val_label_loss: 0.2132, \n",
      "=============================================================\n"
     ]
    },
    {
     "name": "stdout",
     "output_type": "stream",
     "text": [
      "epoch: 7, [batch: 1 / 6720], examples_per_second: 3.9987, train_label_loss: 0.5701, \n"
     ]
    },
    {
     "name": "stdout",
     "output_type": "stream",
     "text": [
      "epoch: 7, [batch: 672 / 6720], examples_per_second: 3840.3939, train_label_loss: 0.3806, \n"
     ]
    },
    {
     "name": "stdout",
     "output_type": "stream",
     "text": [
      "epoch: 7, [batch: 1344 / 6720], examples_per_second: 3818.9518, train_label_loss: 0.5479, \n"
     ]
    },
    {
     "name": "stdout",
     "output_type": "stream",
     "text": [
      "epoch: 7, [batch: 2016 / 6720], examples_per_second: 3859.4125, train_label_loss: 0.3558, \n"
     ]
    },
    {
     "name": "stdout",
     "output_type": "stream",
     "text": [
      "epoch: 7, [batch: 2688 / 6720], examples_per_second: 3832.1979, train_label_loss: 0.3214, \n"
     ]
    },
    {
     "name": "stdout",
     "output_type": "stream",
     "text": [
      "epoch: 7, [batch: 3360 / 6720], examples_per_second: 3884.2116, train_label_loss: 0.1608, \n"
     ]
    },
    {
     "name": "stdout",
     "output_type": "stream",
     "text": [
      "epoch: 7, [batch: 4032 / 6720], examples_per_second: 3897.3976, train_label_loss: 0.6495, \n"
     ]
    },
    {
     "name": "stdout",
     "output_type": "stream",
     "text": [
      "epoch: 7, [batch: 4704 / 6720], examples_per_second: 3800.6673, train_label_loss: 0.6230, \n"
     ]
    },
    {
     "name": "stdout",
     "output_type": "stream",
     "text": [
      "epoch: 7, [batch: 5376 / 6720], examples_per_second: 3952.7105, train_label_loss: 0.5016, \n"
     ]
    },
    {
     "name": "stdout",
     "output_type": "stream",
     "text": [
      "epoch: 7, [batch: 6048 / 6720], examples_per_second: 4014.9742, train_label_loss: 0.8218, \n"
     ]
    },
    {
     "name": "stdout",
     "output_type": "stream",
     "text": [
      "=============================================================\n",
      "epoch: 7, source_val_acc_label: 0.6105, target_val_acc_label: 0.9678, source_val_label_loss: 1.2299, target_val_label_loss: 0.2304, \n",
      "=============================================================\n"
     ]
    },
    {
     "name": "stdout",
     "output_type": "stream",
     "text": [
      "New best\n"
     ]
    },
    {
     "name": "stdout",
     "output_type": "stream",
     "text": [
      "epoch: 8, [batch: 1 / 6720], examples_per_second: 4.0038, train_label_loss: 0.3682, \n"
     ]
    },
    {
     "name": "stdout",
     "output_type": "stream",
     "text": [
      "epoch: 8, [batch: 672 / 6720], examples_per_second: 3820.9485, train_label_loss: 0.5343, \n"
     ]
    },
    {
     "name": "stdout",
     "output_type": "stream",
     "text": [
      "epoch: 8, [batch: 1344 / 6720], examples_per_second: 3979.5137, train_label_loss: 0.8049, \n"
     ]
    },
    {
     "name": "stdout",
     "output_type": "stream",
     "text": [
      "epoch: 8, [batch: 2016 / 6720], examples_per_second: 4227.9965, train_label_loss: 0.1743, \n"
     ]
    },
    {
     "name": "stdout",
     "output_type": "stream",
     "text": [
      "epoch: 8, [batch: 2688 / 6720], examples_per_second: 4237.7850, train_label_loss: 0.3492, \n"
     ]
    },
    {
     "name": "stdout",
     "output_type": "stream",
     "text": [
      "epoch: 8, [batch: 3360 / 6720], examples_per_second: 4338.7759, train_label_loss: 0.6573, \n"
     ]
    },
    {
     "name": "stdout",
     "output_type": "stream",
     "text": [
      "epoch: 8, [batch: 4032 / 6720], examples_per_second: 4331.3723, train_label_loss: 0.3200, \n"
     ]
    },
    {
     "name": "stdout",
     "output_type": "stream",
     "text": [
      "epoch: 8, [batch: 4704 / 6720], examples_per_second: 4484.0157, train_label_loss: 0.3618, \n"
     ]
    },
    {
     "name": "stdout",
     "output_type": "stream",
     "text": [
      "epoch: 8, [batch: 5376 / 6720], examples_per_second: 4650.1407, train_label_loss: 0.5020, \n"
     ]
    },
    {
     "name": "stdout",
     "output_type": "stream",
     "text": [
      "epoch: 8, [batch: 6048 / 6720], examples_per_second: 4403.3199, train_label_loss: 0.6238, \n"
     ]
    },
    {
     "name": "stdout",
     "output_type": "stream",
     "text": [
      "=============================================================\n",
      "epoch: 8, source_val_acc_label: 0.6053, target_val_acc_label: 0.9668, source_val_label_loss: 1.2945, target_val_label_loss: 0.2401, \n",
      "=============================================================\n"
     ]
    },
    {
     "name": "stdout",
     "output_type": "stream",
     "text": [
      "epoch: 9, [batch: 1 / 6720], examples_per_second: 4.3900, train_label_loss: 0.2484, \n"
     ]
    },
    {
     "name": "stdout",
     "output_type": "stream",
     "text": [
      "epoch: 9, [batch: 672 / 6720], examples_per_second: 4190.2656, train_label_loss: 0.1551, \n"
     ]
    },
    {
     "name": "stdout",
     "output_type": "stream",
     "text": [
      "epoch: 9, [batch: 1344 / 6720], examples_per_second: 4174.4388, train_label_loss: 0.5700, \n"
     ]
    },
    {
     "name": "stdout",
     "output_type": "stream",
     "text": [
      "epoch: 9, [batch: 2016 / 6720], examples_per_second: 4326.6563, train_label_loss: 0.3533, \n"
     ]
    },
    {
     "name": "stdout",
     "output_type": "stream",
     "text": [
      "epoch: 9, [batch: 2688 / 6720], examples_per_second: 4227.5993, train_label_loss: 0.1936, \n"
     ]
    },
    {
     "name": "stdout",
     "output_type": "stream",
     "text": [
      "epoch: 9, [batch: 3360 / 6720], examples_per_second: 4283.4984, train_label_loss: 0.1342, \n"
     ]
    },
    {
     "name": "stdout",
     "output_type": "stream",
     "text": [
      "epoch: 9, [batch: 4032 / 6720], examples_per_second: 4374.2800, train_label_loss: 0.2498, \n"
     ]
    },
    {
     "name": "stdout",
     "output_type": "stream",
     "text": [
      "epoch: 9, [batch: 4704 / 6720], examples_per_second: 4166.8186, train_label_loss: 0.2524, \n"
     ]
    },
    {
     "name": "stdout",
     "output_type": "stream",
     "text": [
      "epoch: 9, [batch: 5376 / 6720], examples_per_second: 4184.4481, train_label_loss: 0.6832, \n"
     ]
    },
    {
     "name": "stdout",
     "output_type": "stream",
     "text": [
      "epoch: 9, [batch: 6048 / 6720], examples_per_second: 4174.7675, train_label_loss: 0.2641, \n"
     ]
    },
    {
     "name": "stdout",
     "output_type": "stream",
     "text": [
      "=============================================================\n",
      "epoch: 9, source_val_acc_label: 0.6085, target_val_acc_label: 0.9683, source_val_label_loss: 1.3713, target_val_label_loss: 0.2593, \n",
      "=============================================================\n"
     ]
    },
    {
     "name": "stdout",
     "output_type": "stream",
     "text": [
      "New best\n"
     ]
    },
    {
     "name": "stdout",
     "output_type": "stream",
     "text": [
      "epoch: 10, [batch: 1 / 6720], examples_per_second: 4.3340, train_label_loss: 0.6740, \n"
     ]
    },
    {
     "name": "stdout",
     "output_type": "stream",
     "text": [
      "epoch: 10, [batch: 672 / 6720], examples_per_second: 4183.0075, train_label_loss: 0.4089, \n"
     ]
    },
    {
     "name": "stdout",
     "output_type": "stream",
     "text": [
      "epoch: 10, [batch: 1344 / 6720], examples_per_second: 4443.1741, train_label_loss: 0.6041, \n"
     ]
    },
    {
     "name": "stdout",
     "output_type": "stream",
     "text": [
      "epoch: 10, [batch: 2016 / 6720], examples_per_second: 5005.1069, train_label_loss: 0.3273, \n"
     ]
    },
    {
     "name": "stdout",
     "output_type": "stream",
     "text": [
      "epoch: 10, [batch: 2688 / 6720], examples_per_second: 4808.6029, train_label_loss: 0.4742, \n"
     ]
    },
    {
     "name": "stdout",
     "output_type": "stream",
     "text": [
      "epoch: 10, [batch: 3360 / 6720], examples_per_second: 4922.1443, train_label_loss: 0.6330, \n"
     ]
    },
    {
     "name": "stdout",
     "output_type": "stream",
     "text": [
      "epoch: 10, [batch: 4032 / 6720], examples_per_second: 4914.0989, train_label_loss: 0.1833, \n"
     ]
    },
    {
     "name": "stdout",
     "output_type": "stream",
     "text": [
      "epoch: 10, [batch: 4704 / 6720], examples_per_second: 5220.5435, train_label_loss: 0.0928, \n"
     ]
    },
    {
     "name": "stdout",
     "output_type": "stream",
     "text": [
      "epoch: 10, [batch: 5376 / 6720], examples_per_second: 5390.8330, train_label_loss: 0.3954, \n"
     ]
    },
    {
     "name": "stdout",
     "output_type": "stream",
     "text": [
      "epoch: 10, [batch: 6048 / 6720], examples_per_second: 4875.4360, train_label_loss: 0.2088, \n"
     ]
    },
    {
     "name": "stdout",
     "output_type": "stream",
     "text": [
      "=============================================================\n",
      "epoch: 10, source_val_acc_label: 0.5998, target_val_acc_label: 0.9633, source_val_label_loss: 1.4823, target_val_label_loss: 0.3006, \n",
      "=============================================================\n"
     ]
    },
    {
     "name": "stdout",
     "output_type": "stream",
     "text": [
      "epoch: 11, [batch: 1 / 6720], examples_per_second: 5.2669, train_label_loss: 0.2535, \n"
     ]
    },
    {
     "name": "stdout",
     "output_type": "stream",
     "text": [
      "epoch: 11, [batch: 672 / 6720], examples_per_second: 4829.6428, train_label_loss: 0.1747, \n"
     ]
    },
    {
     "name": "stdout",
     "output_type": "stream",
     "text": [
      "epoch: 11, [batch: 1344 / 6720], examples_per_second: 4820.9312, train_label_loss: 0.5975, \n"
     ]
    },
    {
     "name": "stdout",
     "output_type": "stream",
     "text": [
      "epoch: 11, [batch: 2016 / 6720], examples_per_second: 4960.8477, train_label_loss: 0.0551, \n"
     ]
    },
    {
     "name": "stdout",
     "output_type": "stream",
     "text": [
      "epoch: 11, [batch: 2688 / 6720], examples_per_second: 4823.1354, train_label_loss: 0.2929, \n"
     ]
    },
    {
     "name": "stdout",
     "output_type": "stream",
     "text": [
      "epoch: 11, [batch: 3360 / 6720], examples_per_second: 5179.6517, train_label_loss: 0.1624, \n"
     ]
    },
    {
     "name": "stdout",
     "output_type": "stream",
     "text": [
      "epoch: 11, [batch: 4032 / 6720], examples_per_second: 4929.9236, train_label_loss: 0.3685, \n"
     ]
    },
    {
     "name": "stdout",
     "output_type": "stream",
     "text": [
      "epoch: 11, [batch: 4704 / 6720], examples_per_second: 4778.4881, train_label_loss: 0.3396, \n"
     ]
    },
    {
     "name": "stdout",
     "output_type": "stream",
     "text": [
      "epoch: 11, [batch: 5376 / 6720], examples_per_second: 4856.0463, train_label_loss: 0.1616, \n"
     ]
    },
    {
     "name": "stdout",
     "output_type": "stream",
     "text": [
      "epoch: 11, [batch: 6048 / 6720], examples_per_second: 4888.7127, train_label_loss: 0.2430, \n"
     ]
    },
    {
     "name": "stdout",
     "output_type": "stream",
     "text": [
      "=============================================================\n",
      "epoch: 11, source_val_acc_label: 0.6004, target_val_acc_label: 0.9609, source_val_label_loss: 1.4966, target_val_label_loss: 0.3111, \n",
      "=============================================================\n"
     ]
    },
    {
     "name": "stdout",
     "output_type": "stream",
     "text": [
      "epoch: 12, [batch: 1 / 6720], examples_per_second: 5.1931, train_label_loss: 0.4845, \n"
     ]
    },
    {
     "name": "stdout",
     "output_type": "stream",
     "text": [
      "epoch: 12, [batch: 672 / 6720], examples_per_second: 4718.4206, train_label_loss: 0.3204, \n"
     ]
    },
    {
     "name": "stdout",
     "output_type": "stream",
     "text": [
      "epoch: 12, [batch: 1344 / 6720], examples_per_second: 4987.9912, train_label_loss: 0.2719, \n"
     ]
    },
    {
     "name": "stdout",
     "output_type": "stream",
     "text": [
      "epoch: 12, [batch: 2016 / 6720], examples_per_second: 5382.0903, train_label_loss: 0.0930, \n"
     ]
    },
    {
     "name": "stdout",
     "output_type": "stream",
     "text": [
      "epoch: 12, [batch: 2688 / 6720], examples_per_second: 4970.5872, train_label_loss: 0.0770, \n"
     ]
    },
    {
     "name": "stdout",
     "output_type": "stream",
     "text": [
      "epoch: 12, [batch: 3360 / 6720], examples_per_second: 4909.7287, train_label_loss: 0.1839, \n"
     ]
    },
    {
     "name": "stdout",
     "output_type": "stream",
     "text": [
      "epoch: 12, [batch: 4032 / 6720], examples_per_second: 5264.2312, train_label_loss: 0.3087, \n"
     ]
    },
    {
     "name": "stdout",
     "output_type": "stream",
     "text": [
      "epoch: 12, [batch: 4704 / 6720], examples_per_second: 5125.5560, train_label_loss: 0.5155, \n"
     ]
    },
    {
     "name": "stdout",
     "output_type": "stream",
     "text": [
      "epoch: 12, [batch: 5376 / 6720], examples_per_second: 5365.8426, train_label_loss: 0.2771, \n"
     ]
    },
    {
     "name": "stdout",
     "output_type": "stream",
     "text": [
      "epoch: 12, [batch: 6048 / 6720], examples_per_second: 5392.6815, train_label_loss: 0.0082, \n"
     ]
    },
    {
     "name": "stdout",
     "output_type": "stream",
     "text": [
      "=============================================================\n",
      "epoch: 12, source_val_acc_label: 0.5921, target_val_acc_label: 0.9617, source_val_label_loss: 1.6495, target_val_label_loss: 0.3264, \n",
      "=============================================================\n"
     ]
    },
    {
     "name": "stdout",
     "output_type": "stream",
     "text": [
      "epoch: 13, [batch: 1 / 6720], examples_per_second: 5.4068, train_label_loss: 0.3731, \n"
     ]
    },
    {
     "name": "stdout",
     "output_type": "stream",
     "text": [
      "epoch: 13, [batch: 672 / 6720], examples_per_second: 5051.4762, train_label_loss: 0.5251, \n"
     ]
    },
    {
     "name": "stdout",
     "output_type": "stream",
     "text": [
      "epoch: 13, [batch: 1344 / 6720], examples_per_second: 4851.5926, train_label_loss: 0.1780, \n"
     ]
    },
    {
     "name": "stdout",
     "output_type": "stream",
     "text": [
      "epoch: 13, [batch: 2016 / 6720], examples_per_second: 4925.1865, train_label_loss: 0.0181, \n"
     ]
    },
    {
     "name": "stdout",
     "output_type": "stream",
     "text": [
      "epoch: 13, [batch: 2688 / 6720], examples_per_second: 4817.3847, train_label_loss: 0.1023, \n"
     ]
    },
    {
     "name": "stdout",
     "output_type": "stream",
     "text": [
      "epoch: 13, [batch: 3360 / 6720], examples_per_second: 5329.3685, train_label_loss: 0.4110, \n"
     ]
    },
    {
     "name": "stdout",
     "output_type": "stream",
     "text": [
      "epoch: 13, [batch: 4032 / 6720], examples_per_second: 5378.5038, train_label_loss: 0.3682, \n"
     ]
    },
    {
     "name": "stdout",
     "output_type": "stream",
     "text": [
      "epoch: 13, [batch: 4704 / 6720], examples_per_second: 5228.8599, train_label_loss: 0.1082, \n"
     ]
    },
    {
     "name": "stdout",
     "output_type": "stream",
     "text": [
      "epoch: 13, [batch: 5376 / 6720], examples_per_second: 5332.9802, train_label_loss: 0.2286, \n"
     ]
    },
    {
     "name": "stdout",
     "output_type": "stream",
     "text": [
      "epoch: 13, [batch: 6048 / 6720], examples_per_second: 5051.1042, train_label_loss: 0.0174, \n"
     ]
    },
    {
     "name": "stdout",
     "output_type": "stream",
     "text": [
      "=============================================================\n",
      "epoch: 13, source_val_acc_label: 0.5957, target_val_acc_label: 0.9626, source_val_label_loss: 1.6909, target_val_label_loss: 0.3484, \n",
      "=============================================================\n"
     ]
    },
    {
     "name": "stdout",
     "output_type": "stream",
     "text": [
      "Patience (3) exhausted\n"
     ]
    }
   ],
   "source": [
    "###################################\n",
    "# train\n",
    "###################################\n",
    "jig = PTN_Train_Eval_Test_Jig(model, p.BEST_MODEL_PATH, p.device)\n",
    "\n",
    "jig.train(\n",
    "    train_iterable=datasets.source.processed.train,\n",
    "    source_val_iterable=datasets.source.processed.val,\n",
    "    target_val_iterable=datasets.target.processed.val,\n",
    "    num_epochs=p.n_epoch,\n",
    "    num_logs_per_epoch=p.NUM_LOGS_PER_EPOCH,\n",
    "    patience=p.patience,\n",
    "    optimizer=optimizer,\n",
    "    criteria_for_best=p.criteria_for_best,\n",
    ")"
   ]
  },
  {
   "cell_type": "code",
   "execution_count": 23,
   "id": "31e8fabf",
   "metadata": {
    "execution": {
     "iopub.execute_input": "2022-03-22T15:27:42.548294Z",
     "iopub.status.busy": "2022-03-22T15:27:42.547917Z",
     "iopub.status.idle": "2022-03-22T15:27:42.580449Z",
     "shell.execute_reply": "2022-03-22T15:27:42.579459Z"
    },
    "papermill": {
     "duration": 0.100083,
     "end_time": "2022-03-22T15:27:42.580603",
     "exception": false,
     "start_time": "2022-03-22T15:27:42.480520",
     "status": "completed"
    },
    "tags": []
   },
   "outputs": [],
   "source": [
    "total_experiment_time_secs = time.time() - start_time_secs"
   ]
  },
  {
   "cell_type": "code",
   "execution_count": 24,
   "id": "87b9595b",
   "metadata": {
    "execution": {
     "iopub.execute_input": "2022-03-22T15:27:42.714717Z",
     "iopub.status.busy": "2022-03-22T15:27:42.714318Z",
     "iopub.status.idle": "2022-03-22T15:30:30.858471Z",
     "shell.execute_reply": "2022-03-22T15:30:30.859139Z"
    },
    "papermill": {
     "duration": 168.212297,
     "end_time": "2022-03-22T15:30:30.859372",
     "exception": false,
     "start_time": "2022-03-22T15:27:42.647075",
     "status": "completed"
    },
    "tags": []
   },
   "outputs": [],
   "source": [
    "###################################\n",
    "# Evaluate the model\n",
    "###################################\n",
    "source_test_label_accuracy, source_test_label_loss = jig.test(datasets.source.processed.test)\n",
    "target_test_label_accuracy, target_test_label_loss = jig.test(datasets.target.processed.test)\n",
    "\n",
    "source_val_label_accuracy, source_val_label_loss = jig.test(datasets.source.processed.val)\n",
    "target_val_label_accuracy, target_val_label_loss = jig.test(datasets.target.processed.val)\n",
    "\n",
    "history = jig.get_history()\n",
    "\n",
    "total_epochs_trained = len(history[\"epoch_indices\"])\n",
    "\n",
    "val_dl = Iterable_Aggregator((datasets.source.original.val,datasets.target.original.val))\n",
    "\n",
    "confusion = ptn_confusion_by_domain_over_dataloader(model, p.device, val_dl)\n",
    "per_domain_accuracy = per_domain_accuracy_from_confusion(confusion)\n",
    "\n",
    "# Add a key to per_domain_accuracy for if it was a source domain\n",
    "for domain, accuracy in per_domain_accuracy.items():\n",
    "    per_domain_accuracy[domain] = {\n",
    "        \"accuracy\": accuracy,\n",
    "        \"source?\": domain in p.domains_source\n",
    "    }\n",
    "\n",
    "# Do an independent accuracy assesment JUST TO BE SURE!\n",
    "# _source_test_label_accuracy = independent_accuracy_assesment(model, datasets.source.processed.test, p.device)\n",
    "# _target_test_label_accuracy = independent_accuracy_assesment(model, datasets.target.processed.test, p.device)\n",
    "# _source_val_label_accuracy = independent_accuracy_assesment(model, datasets.source.processed.val, p.device)\n",
    "# _target_val_label_accuracy = independent_accuracy_assesment(model, datasets.target.processed.val, p.device)\n",
    "\n",
    "# assert(_source_test_label_accuracy == source_test_label_accuracy)\n",
    "# assert(_target_test_label_accuracy == target_test_label_accuracy)\n",
    "# assert(_source_val_label_accuracy == source_val_label_accuracy)\n",
    "# assert(_target_val_label_accuracy == target_val_label_accuracy)\n",
    "\n",
    "experiment = {\n",
    "    \"experiment_name\": p.experiment_name,\n",
    "    \"parameters\": dict(p),\n",
    "    \"results\": {\n",
    "        \"source_test_label_accuracy\": source_test_label_accuracy,\n",
    "        \"source_test_label_loss\": source_test_label_loss,\n",
    "        \"target_test_label_accuracy\": target_test_label_accuracy,\n",
    "        \"target_test_label_loss\": target_test_label_loss,\n",
    "        \"source_val_label_accuracy\": source_val_label_accuracy,\n",
    "        \"source_val_label_loss\": source_val_label_loss,\n",
    "        \"target_val_label_accuracy\": target_val_label_accuracy,\n",
    "        \"target_val_label_loss\": target_val_label_loss,\n",
    "        \"total_epochs_trained\": total_epochs_trained,\n",
    "        \"total_experiment_time_secs\": total_experiment_time_secs,\n",
    "        \"confusion\": confusion,\n",
    "        \"per_domain_accuracy\": per_domain_accuracy,\n",
    "    },\n",
    "    \"history\": history,\n",
    "    \"dataset_metrics\": get_dataset_metrics(datasets, \"ptn\"),\n",
    "}"
   ]
  },
  {
   "cell_type": "code",
   "execution_count": 25,
   "id": "54a21829",
   "metadata": {
    "execution": {
     "iopub.execute_input": "2022-03-22T15:30:30.992922Z",
     "iopub.status.busy": "2022-03-22T15:30:30.992552Z",
     "iopub.status.idle": "2022-03-22T15:30:31.229505Z",
     "shell.execute_reply": "2022-03-22T15:30:31.230196Z"
    },
    "papermill": {
     "duration": 0.303501,
     "end_time": "2022-03-22T15:30:31.230399",
     "exception": false,
     "start_time": "2022-03-22T15:30:30.926898",
     "status": "completed"
    },
    "tags": []
   },
   "outputs": [
    {
     "data": {
      "image/png": "[encoded data removed]",
      "text/plain": [
       "<Figure size 1080x504 with 1 Axes>"
      ]
     },
     "metadata": {
      "needs_background": "light"
     },
     "output_type": "display_data"
    }
   ],
   "source": [
    "ax = get_loss_curve(experiment)\n",
    "plt.show()"
   ]
  },
  {
   "cell_type": "code",
   "execution_count": 26,
   "id": "fd8a0f60",
   "metadata": {
    "execution": {
     "iopub.execute_input": "2022-03-22T15:30:31.366956Z",
     "iopub.status.busy": "2022-03-22T15:30:31.366492Z",
     "iopub.status.idle": "2022-03-22T15:30:31.677631Z",
     "shell.execute_reply": "2022-03-22T15:30:31.677941Z"
    },
    "papermill": {
     "duration": 0.379666,
     "end_time": "2022-03-22T15:30:31.678048",
     "exception": false,
     "start_time": "2022-03-22T15:30:31.298382",
     "status": "completed"
    },
    "tags": []
   },
   "outputs": [
    {
     "data": {
      "text/plain": [
       "<AxesSubplot:title={'center':'Results'}>"
      ]
     },
     "execution_count": 26,
     "metadata": {},
     "output_type": "execute_result"
    },
    {
     "data": {
      "image/png": "[encoded data removed]",
      "text/plain": [
       "<Figure size 1080x504 with 1 Axes>"
      ]
     },
     "metadata": {
      "needs_background": "light"
     },
     "output_type": "display_data"
    }
   ],
   "source": [
    "get_results_table(experiment)"
   ]
  },
  {
   "cell_type": "code",
   "execution_count": 27,
   "id": "cf8dc689",
   "metadata": {
    "execution": {
     "iopub.execute_input": "2022-03-22T15:30:31.867744Z",
     "iopub.status.busy": "2022-03-22T15:30:31.867334Z",
     "iopub.status.idle": "2022-03-22T15:30:32.127422Z",
     "shell.execute_reply": "2022-03-22T15:30:32.128129Z"
    },
    "papermill": {
     "duration": 0.378467,
     "end_time": "2022-03-22T15:30:32.128350",
     "exception": false,
     "start_time": "2022-03-22T15:30:31.749883",
     "status": "completed"
    },
    "tags": []
   },
   "outputs": [
    {
     "data": {
      "text/plain": [
       "<AxesSubplot:title={'center':'Per Domain Validation Accuracy'}, xlabel='domain'>"
      ]
     },
     "execution_count": 27,
     "metadata": {},
     "output_type": "execute_result"
    },
    {
     "data": {
      "image/png": "[encoded data removed]",
      "text/plain": [
       "<Figure size 1080x504 with 1 Axes>"
      ]
     },
     "metadata": {
      "needs_background": "light"
     },
     "output_type": "display_data"
    }
   ],
   "source": [
    "get_domain_accuracies(experiment)"
   ]
  },
  {
   "cell_type": "code",
   "execution_count": 28,
   "id": "a74ae082",
   "metadata": {
    "execution": {
     "iopub.execute_input": "2022-03-22T15:30:32.271708Z",
     "iopub.status.busy": "2022-03-22T15:30:32.271314Z",
     "iopub.status.idle": "2022-03-22T15:30:32.295894Z",
     "shell.execute_reply": "2022-03-22T15:30:32.296575Z"
    },
    "papermill": {
     "duration": 0.098282,
     "end_time": "2022-03-22T15:30:32.296796",
     "exception": false,
     "start_time": "2022-03-22T15:30:32.198514",
     "status": "completed"
    },
    "tags": []
   },
   "outputs": [
    {
     "name": "stdout",
     "output_type": "stream",
     "text": [
      "Source Test Label Accuracy: 0.6063151041666667 Target Test Label Accuracy: 0.9658898305084745\n",
      "Source Val Label Accuracy: 0.6085286458333333 Target Val Label Accuracy: 0.96825\n"
     ]
    }
   ],
   "source": [
    "print(\"Source Test Label Accuracy:\", experiment[\"results\"][\"source_test_label_accuracy\"], \"Target Test Label Accuracy:\", experiment[\"results\"][\"target_test_label_accuracy\"])\n",
    "print(\"Source Val Label Accuracy:\", experiment[\"results\"][\"source_val_label_accuracy\"], \"Target Val Label Accuracy:\", experiment[\"results\"][\"target_val_label_accuracy\"])"
   ]
  },
  {
   "cell_type": "code",
   "execution_count": 29,
   "id": "dacca602",
   "metadata": {
    "execution": {
     "iopub.execute_input": "2022-03-22T15:30:32.441661Z",
     "iopub.status.busy": "2022-03-22T15:30:32.441289Z",
     "iopub.status.idle": "2022-03-22T15:30:32.465931Z",
     "shell.execute_reply": "2022-03-22T15:30:32.466620Z"
    },
    "papermill": {
     "duration": 0.098112,
     "end_time": "2022-03-22T15:30:32.466838",
     "exception": false,
     "start_time": "2022-03-22T15:30:32.368726",
     "status": "completed"
    },
    "tags": [
     "experiment_json"
    ]
   },
   "outputs": [
    {
     "data": {
      "text/plain": [
       "'{\"experiment_name\": \"tl_1v2:cores-oracle.run1.limited\", \"parameters\": {\"experiment_name\": \"tl_1v2:cores-oracle.run1.limited\", \"device\": \"cuda\", \"lr\": 0.0001, \"n_shot\": 3, \"n_query\": 2, \"train_k_factor\": 3, \"val_k_factor\": 2, \"test_k_factor\": 2, \"torch_default_dtype\": \"torch.float32\", \"n_epoch\": 50, \"patience\": 3, \"criteria_for_best\": \"target_accuracy\", \"x_net\": [{\"class\": \"nnReshape\", \"kargs\": {\"shape\": [-1, 1, 2, 256]}}, {\"class\": \"Conv2d\", \"kargs\": {\"in_channels\": 1, \"out_channels\": 256, \"kernel_size\": [1, 7], \"bias\": false, \"padding\": [0, 3]}}, {\"class\": \"ReLU\", \"kargs\": {\"inplace\": true}}, {\"class\": \"BatchNorm2d\", \"kargs\": {\"num_features\": 256}}, {\"class\": \"Conv2d\", \"kargs\": {\"in_channels\": 256, \"out_channels\": 80, \"kernel_size\": [2, 7], \"bias\": true, \"padding\": [0, 3]}}, {\"class\": \"ReLU\", \"kargs\": {\"inplace\": true}}, {\"class\": \"BatchNorm2d\", \"kargs\": {\"num_features\": 80}}, {\"class\": \"Flatten\", \"kargs\": {}}, {\"class\": \"Linear\", \"kargs\": {\"in_features\": 20480, \"out_features\": 256}}, {\"class\": \"ReLU\", \"kargs\": {\"inplace\": true}}, {\"class\": \"BatchNorm1d\", \"kargs\": {\"num_features\": 256}}, {\"class\": \"Linear\", \"kargs\": {\"in_features\": 256, \"out_features\": 256}}], \"NUM_LOGS_PER_EPOCH\": 10, \"BEST_MODEL_PATH\": \"./best_model.pth\", \"n_way\": 16, \"datasets\": [{\"labels\": [\"1-10.\", \"1-11.\", \"1-15.\", \"1-16.\", \"1-17.\", \"1-18.\", \"1-19.\", \"10-4.\", \"10-7.\", \"11-1.\", \"11-14.\", \"11-17.\", \"11-20.\", \"11-7.\", \"13-20.\", \"13-8.\", \"14-10.\", \"14-11.\", \"14-14.\", \"14-7.\", \"15-1.\", \"15-20.\", \"16-1.\", \"16-16.\", \"17-10.\", \"17-11.\", \"17-2.\", \"19-1.\", \"19-16.\", \"19-19.\", \"19-20.\", \"19-3.\", \"2-10.\", \"2-11.\", \"2-17.\", \"2-18.\", \"2-20.\", \"2-3.\", \"2-4.\", \"2-5.\", \"2-6.\", \"2-7.\", \"2-8.\", \"3-13.\", \"3-18.\", \"3-3.\", \"4-1.\", \"4-10.\", \"4-11.\", \"4-19.\", \"5-5.\", \"6-15.\", \"7-10.\", \"7-14.\", \"8-18.\", \"8-20.\", \"8-3.\", \"8-8.\"], \"domains\": [1, 2, 3, 4, 5], \"num_examples_per_domain_per_label\": -1, \"pickle_path\": \"/root/csc500-main/datasets/cores.stratified_ds.2022A.pkl\", \"source_or_target_dataset\": \"target\", \"x_transforms\": [\"unit_power\"], \"episode_transforms\": [], \"domain_prefix\": \"CORES_\"}, {\"labels\": [\"3123D52\", \"3123D65\", \"3123D79\", \"3123D80\", \"3123D54\", \"3123D70\", \"3123D7B\", \"3123D89\", \"3123D58\", \"3123D76\", \"3123D7D\", \"3123EFE\", \"3123D64\", \"3123D78\", \"3123D7E\", \"3124E4A\"], \"domains\": [32, 38, 8, 44, 14, 50, 20, 26], \"num_examples_per_domain_per_label\": 2000, \"pickle_path\": \"/root/csc500-main/datasets/oracle.Run1_10kExamples_stratified_ds.2022A.pkl\", \"source_or_target_dataset\": \"source\", \"x_transforms\": [\"unit_power\"], \"episode_transforms\": [], \"domain_prefix\": \"ORACLE.run1_\"}], \"dataset_seed\": 7, \"seed\": 7, \"x_shape\": [2, 256], \"domains_source\": [\"ORACLE.run1_32\", \"ORACLE.run1_38\", \"ORACLE.run1_8\", \"ORACLE.run1_44\", \"ORACLE.run1_14\", \"ORACLE.run1_50\", \"ORACLE.run1_20\", \"ORACLE.run1_26\"], \"domains_target\": [\"CORES_1\", \"CORES_2\", \"CORES_3\", \"CORES_4\", \"CORES_5\"]}, \"results\": {\"source_test_label_accuracy\": 0.6063151041666667, \"source_test_label_loss\": 1.3731038570404053, \"target_test_label_accuracy\": 0.9658898305084745, \"target_test_label_loss\": 0.35554713010787964, \"source_val_label_accuracy\": 0.6085286458333333, \"source_val_label_loss\": 1.3713124990463257, \"target_val_label_accuracy\": 0.96825, \"target_val_label_loss\": 0.2593406140804291, \"total_epochs_trained\": 13, \"total_experiment_time_secs\": 2011.701985836029, \"confusion\": {\"ORACLE.run1_26\": {\"0\": {\"4\": 28, \"8\": 24, \"10\": 53, \"14\": 49, \"1\": 26, \"0\": 46, \"9\": 4, \"6\": 4, \"7\": 5, \"15\": 1}, \"4\": {\"2\": 1, \"7\": 23, \"8\": 19, \"4\": 65, \"0\": 31, \"14\": 44, \"1\": 36, \"6\": 1, \"10\": 15, \"3\": 2, \"9\": 2, \"5\": 1}, \"14\": {\"10\": 23, \"1\": 64, \"14\": 49, \"4\": 48, \"0\": 33, \"8\": 13, \"2\": 1, \"15\": 1, \"7\": 6, \"3\": 1, \"6\": 1}, \"12\": {\"12\": 231, \"11\": 9}, \"8\": {\"15\": 16, \"0\": 20, \"6\": 17, \"9\": 29, \"8\": 64, \"10\": 33, \"7\": 22, \"14\": 9, \"2\": 3, \"5\": 6, \"4\": 15, \"1\": 4, \"3\": 2}, \"7\": {\"2\": 40, \"7\": 106, \"8\": 15, \"4\": 19, \"3\": 36, \"10\": 3, \"1\": 4, \"9\": 3, \"0\": 7, \"14\": 6, \"15\": 1}, \"13\": {\"13\": 154, \"5\": 54, \"15\": 14, \"9\": 14, \"6\": 3, \"2\": 1}, \"5\": {\"9\": 36, \"15\": 43, \"5\": 97, \"13\": 23, \"2\": 16, \"7\": 5, \"8\": 11, \"10\": 1, \"6\": 5, \"3\": 2, \"4\": 1}, \"15\": {\"9\": 48, \"15\": 59, \"5\": 56, \"8\": 20, \"2\": 19, \"6\": 9, \"3\": 4, \"7\": 7, \"13\": 13, \"10\": 4, \"0\": 1}, \"10\": {\"10\": 75, \"8\": 40, \"0\": 48, \"6\": 21, \"1\": 13, \"15\": 3, \"14\": 17, \"4\": 11, \"9\": 9, \"7\": 3}, \"3\": {\"3\": 140, \"7\": 47, \"2\": 50, \"15\": 2, \"4\": 1}, \"9\": {\"6\": 44, \"8\": 23, \"9\": 58, \"15\": 66, \"5\": 29, \"2\": 7, \"10\": 2, \"13\": 6, \"0\": 2, \"7\": 2, \"4\": 1}, \"6\": {\"6\": 145, \"15\": 12, \"9\": 30, \"5\": 10, \"10\": 18, \"8\": 15, \"13\": 6, \"14\": 1, \"0\": 3}, \"1\": {\"10\": 8, \"14\": 69, \"4\": 33, \"1\": 102, \"7\": 3, \"0\": 22, \"8\": 3}, \"11\": {\"11\": 230, \"12\": 10}, \"2\": {\"15\": 21, \"2\": 94, \"3\": 68, \"7\": 19, \"9\": 6, \"5\": 13, \"4\": 2, \"8\": 12, \"13\": 2, \"0\": 1, \"10\": 2}}, \"ORACLE.run1_44\": {\"1\": {\"10\": 20, \"1\": 143, \"12\": 43, \"3\": 24, \"7\": 4, \"2\": 6}, \"11\": {\"13\": 25, \"11\": 191, \"6\": 23, \"9\": 1}, \"3\": {\"1\": 26, \"3\": 205, \"12\": 6, \"7\": 1, \"9\": 1, \"2\": 1}, \"6\": {\"6\": 144, \"13\": 48, \"7\": 8, \"11\": 15, \"9\": 25}, \"7\": {\"7\": 155, \"2\": 34, \"9\": 45, \"6\": 5, \"3\": 1}, \"5\": {\"14\": 9, \"0\": 22, \"5\": 184, \"4\": 3, \"15\": 17, \"8\": 5}, \"2\": {\"2\": 160, \"10\": 23, \"9\": 3, \"7\": 36, \"3\": 2, \"1\": 15, \"6\": 1}, \"15\": {\"15\": 187, \"0\": 16, \"14\": 23, \"5\": 8, \"8\": 5, \"4\": 1}, \"10\": {\"10\": 168, \"2\": 12, \"1\": 30, \"12\": 27, \"7\": 1, \"3\": 2}, \"13\": {\"13\": 138, \"6\": 50, \"9\": 29, \"11\": 23}, \"8\": {\"0\": 72, \"8\": 153, \"5\": 5, \"15\": 10}, \"4\": {\"4\": 175, \"14\": 60, \"13\": 3, \"5\": 1, \"15\": 1}, \"9\": {\"13\": 25, \"9\": 127, \"6\": 21, \"7\": 61, \"2\": 6}, \"14\": {\"15\": 18, \"4\": 78, \"14\": 138, \"5\": 6}, \"0\": {\"0\": 128, \"8\": 79, \"5\": 14, \"15\": 19}, \"12\": {\"12\": 155, \"1\": 60, \"10\": 21, \"2\": 3, \"3\": 1}}, \"ORACLE.run1_50\": {\"15\": {\"15\": 146, \"4\": 30, \"1\": 51, \"11\": 9, \"6\": 3, \"14\": 1}, \"4\": {\"6\": 41, \"4\": 84, \"5\": 13, \"1\": 43, \"15\": 48, \"13\": 8, \"7\": 3}, \"6\": {\"4\": 46, \"13\": 20, \"6\": 110, \"5\": 27, \"1\": 30, \"15\": 3, \"7\": 1, \"2\": 2, \"0\": 1}, \"2\": {\"2\": 219, \"0\": 21}, \"5\": {\"13\": 46, \"5\": 63, \"7\": 49, \"6\": 46, \"4\": 27, \"1\": 6, \"10\": 3}, \"9\": {\"9\": 173, \"11\": 45, \"12\": 20, \"14\": 2}, \"8\": {\"8\": 222, \"10\": 10, \"3\": 8}, \"12\": {\"12\": 200, \"14\": 17, \"9\": 20, \"11\": 3}, \"10\": {\"10\": 200, \"8\": 10, \"7\": 8, \"0\": 18, \"13\": 4}, \"1\": {\"1\": 119, \"6\": 42, \"15\": 44, \"4\": 33, \"11\": 1, \"5\": 1}, \"0\": {\"0\": 190, \"2\": 30, \"6\": 2, \"10\": 17, \"13\": 1}, \"3\": {\"3\": 232, \"8\": 8}, \"13\": {\"13\": 122, \"5\": 54, \"7\": 44, \"10\": 5, \"6\": 12, \"4\": 2, \"0\": 1}, \"11\": {\"11\": 197, \"9\": 24, \"14\": 4, \"15\": 11, \"12\": 3, \"1\": 1}, \"7\": {\"5\": 42, \"7\": 139, \"13\": 47, \"10\": 11, \"6\": 1}, \"14\": {\"14\": 226, \"12\": 10, \"15\": 1, \"11\": 3}}, \"ORACLE.run1_38\": {\"15\": {\"13\": 51, \"15\": 146, \"1\": 17, \"10\": 5, \"5\": 7, \"8\": 13, \"2\": 1}, \"11\": {\"11\": 177, \"10\": 2, \"14\": 59, \"12\": 2}, \"10\": {\"10\": 151, \"13\": 23, \"12\": 32, \"5\": 1, \"8\": 17, \"14\": 7, \"4\": 1, \"0\": 6, \"15\": 1, \"2\": 1}, \"14\": {\"14\": 159, \"11\": 51, \"2\": 23, \"10\": 3, \"13\": 3, \"12\": 1}, \"6\": {\"6\": 178, \"9\": 59, \"5\": 3}, \"4\": {\"4\": 213, \"10\": 1, \"12\": 26}, \"13\": {\"13\": 144, \"10\": 20, \"15\": 61, \"1\": 4, \"2\": 9, \"8\": 2}, \"3\": {\"7\": 10, \"3\": 198, \"6\": 4, \"9\": 22, \"0\": 4, \"5\": 2}, \"7\": {\"0\": 55, \"7\": 162, \"5\": 14, \"8\": 6, \"3\": 3}, \"8\": {\"5\": 51, \"8\": 129, \"0\": 39, \"15\": 5, \"7\": 9, \"10\": 6, \"1\": 1}, \"1\": {\"15\": 19, \"1\": 220, \"13\": 1}, \"5\": {\"8\": 72, \"5\": 91, \"0\": 29, \"15\": 12, \"3\": 7, \"6\": 5, \"9\": 7, \"7\": 14, \"10\": 1, \"1\": 1, \"13\": 1}, \"0\": {\"8\": 55, \"0\": 57, \"9\": 1, \"5\": 39, \"3\": 15, \"7\": 64, \"10\": 5, \"12\": 2, \"6\": 2}, \"2\": {\"2\": 211, \"13\": 9, \"14\": 20}, \"12\": {\"12\": 189, \"4\": 22, \"10\": 25, \"7\": 2, \"0\": 2}, \"9\": {\"9\": 146, \"5\": 4, \"6\": 78, \"0\": 1, \"3\": 11}}, \"ORACLE.run1_20\": {\"10\": {\"4\": 7, \"14\": 69, \"10\": 128, \"8\": 34, \"7\": 1, \"6\": 1}, \"7\": {\"7\": 132, \"3\": 12, \"9\": 28, \"13\": 2, \"6\": 8, \"2\": 44, \"8\": 9, \"14\": 3, \"11\": 1, \"10\": 1}, \"4\": {\"4\": 142, \"8\": 49, \"12\": 8, \"10\": 22, \"3\": 14, \"5\": 1, \"1\": 1, \"9\": 2, \"7\": 1}, \"13\": {\"13\": 193, \"15\": 13, \"9\": 12, \"1\": 6, \"2\": 10, \"12\": 5, \"0\": 1}, \"1\": {\"12\": 24, \"5\": 49, \"15\": 46, \"1\": 44, \"0\": 48, \"3\": 13, \"2\": 7, \"4\": 2, \"9\": 6, \"13\": 1}, \"0\": {\"1\": 34, \"15\": 38, \"9\": 6, \"0\": 60, \"5\": 54, \"13\": 1, \"3\": 14, \"12\": 24, \"4\": 8, \"2\": 1}, \"12\": {\"13\": 8, \"5\": 28, \"2\": 24, \"12\": 37, \"1\": 38, \"0\": 24, \"4\": 8, \"3\": 36, \"9\": 29, \"15\": 5, \"8\": 2, \"7\": 1}, \"5\": {\"1\": 33, \"5\": 70, \"12\": 41, \"15\": 20, \"0\": 50, \"9\": 4, \"4\": 2, \"3\": 14, \"13\": 5, \"2\": 1}, \"6\": {\"6\": 184, \"14\": 37, \"10\": 5, \"8\": 6, \"7\": 8}, \"2\": {\"2\": 70, \"7\": 49, \"12\": 11, \"5\": 2, \"13\": 24, \"3\": 24, \"6\": 2, \"9\": 48, \"8\": 3, \"1\": 4, \"0\": 1, \"4\": 2}, \"8\": {\"8\": 100, \"3\": 13, \"14\": 12, \"7\": 31, \"12\": 3, \"10\": 35, \"2\": 3, \"4\": 32, \"9\": 4, \"6\": 7}, \"11\": {\"11\": 239, \"13\": 1}, \"9\": {\"3\": 40, \"13\": 14, \"7\": 28, \"12\": 27, \"9\": 55, \"5\": 4, \"2\": 49, \"0\": 6, \"15\": 3, \"8\": 2, \"4\": 7, \"1\": 5}, \"14\": {\"6\": 50, \"14\": 131, \"10\": 53, \"8\": 6}, \"15\": {\"0\": 33, \"15\": 112, \"5\": 24, \"13\": 20, \"9\": 3, \"12\": 11, \"1\": 34, \"2\": 3}, \"3\": {\"12\": 36, \"9\": 41, \"2\": 22, \"4\": 26, \"3\": 59, \"8\": 17, \"5\": 16, \"1\": 5, \"7\": 7, \"0\": 8, \"15\": 2, \"13\": 1}}, \"ORACLE.run1_14\": {\"14\": {\"14\": 141, \"6\": 29, \"13\": 40, \"2\": 20, \"3\": 10}, \"0\": {\"0\": 174, \"10\": 46, \"11\": 18, \"3\": 2}, \"4\": {\"5\": 45, \"4\": 115, \"3\": 37, \"1\": 8, \"2\": 27, \"14\": 7, \"13\": 1}, \"11\": {\"11\": 205, \"10\": 16, \"0\": 5, \"9\": 14}, \"13\": {\"6\": 80, \"14\": 51, \"2\": 31, \"13\": 69, \"5\": 4, \"15\": 2, \"3\": 2, \"4\": 1}, \"9\": {\"9\": 236, \"12\": 3, \"11\": 1}, \"3\": {\"4\": 35, \"3\": 174, \"2\": 7, \"0\": 7, \"14\": 13, \"10\": 2, \"1\": 2}, \"6\": {\"13\": 65, \"6\": 120, \"14\": 20, \"2\": 34, \"4\": 1}, \"1\": {\"1\": 193, \"5\": 34, \"4\": 12, \"7\": 1}, \"5\": {\"1\": 43, \"7\": 6, \"5\": 113, \"4\": 55, \"15\": 2, \"2\": 17, \"3\": 4}, \"12\": {\"12\": 236, \"9\": 4}, \"10\": {\"0\": 53, \"10\": 179, \"11\": 4, \"14\": 3, \"13\": 1}, \"8\": {\"8\": 240}, \"7\": {\"7\": 207, \"1\": 6, \"15\": 25, \"5\": 2}, \"15\": {\"7\": 17, \"15\": 222, \"2\": 1}, \"2\": {\"14\": 33, \"2\": 91, \"6\": 25, \"1\": 2, \"13\": 19, \"4\": 26, \"5\": 30, \"3\": 11, \"15\": 2, \"7\": 1}}, \"ORACLE.run1_32\": {\"11\": {\"11\": 154, \"14\": 59, \"7\": 12, \"5\": 4, \"3\": 6, \"13\": 5}, \"1\": {\"1\": 235, \"10\": 5}, \"2\": {\"2\": 183, \"4\": 30, \"7\": 8, \"0\": 15, \"14\": 1, \"5\": 3}, \"0\": {\"0\": 112, \"4\": 61, \"8\": 20, \"2\": 19, \"14\": 1, \"5\": 12, \"7\": 6, \"13\": 9}, \"3\": {\"3\": 213, \"11\": 4, \"8\": 7, \"7\": 1, \"14\": 2, \"13\": 12, \"5\": 1}, \"8\": {\"8\": 167, \"13\": 22, \"5\": 21, \"0\": 23, \"14\": 1, \"3\": 4, \"7\": 1, \"15\": 1}, \"12\": {\"12\": 239, \"9\": 1}, \"5\": {\"7\": 27, \"8\": 26, \"0\": 25, \"5\": 58, \"4\": 21, \"13\": 52, \"3\": 9, \"14\": 15, \"11\": 6, \"2\": 1}, \"15\": {\"15\": 233, \"8\": 6, \"3\": 1}, \"7\": {\"4\": 36, \"11\": 15, \"0\": 13, \"5\": 22, \"13\": 27, \"7\": 87, \"14\": 32, \"2\": 8}, \"4\": {\"0\": 37, \"2\": 38, \"4\": 97, \"7\": 40, \"8\": 2, \"13\": 9, \"5\": 15, \"14\": 2}, \"14\": {\"4\": 10, \"14\": 64, \"11\": 70, \"2\": 5, \"7\": 42, \"5\": 18, \"3\": 5, \"13\": 21, \"0\": 3, \"8\": 2}, \"10\": {\"10\": 235, \"1\": 5}, \"6\": {\"6\": 240}, \"13\": {\"7\": 21, \"0\": 12, \"5\": 63, \"8\": 27, \"11\": 5, \"13\": 69, \"4\": 17, \"3\": 15, \"14\": 11}, \"9\": {\"9\": 236, \"12\": 4}}, \"ORACLE.run1_8\": {\"9\": {\"9\": 240}, \"11\": {\"1\": 91, \"11\": 109, \"5\": 13, \"8\": 4, \"14\": 17, \"10\": 2, \"4\": 2, \"6\": 1, \"13\": 1}, \"8\": {\"8\": 198, \"15\": 26, \"6\": 8, \"1\": 1, \"11\": 1, \"12\": 5, \"7\": 1}, \"4\": {\"10\": 15, \"4\": 75, \"14\": 35, \"6\": 41, \"0\": 24, \"13\": 46, \"1\": 1, \"7\": 3}, \"13\": {\"10\": 29, \"13\": 59, \"0\": 64, \"4\": 38, \"14\": 29, \"6\": 15, \"7\": 4, \"1\": 2}, \"14\": {\"14\": 78, \"10\": 49, \"13\": 25, \"1\": 20, \"5\": 7, \"4\": 40, \"6\": 11, \"11\": 7, \"0\": 3}, \"2\": {\"2\": 167, \"3\": 45, \"7\": 14, \"15\": 7, \"12\": 5, \"8\": 2}, \"3\": {\"3\": 154, \"12\": 28, \"2\": 52, \"15\": 6}, \"1\": {\"1\": 114, \"10\": 8, \"11\": 76, \"5\": 12, \"14\": 26, \"4\": 4}, \"0\": {\"7\": 18, \"6\": 20, \"4\": 27, \"0\": 119, \"13\": 48, \"14\": 1, \"10\": 7}, \"5\": {\"5\": 183, \"10\": 24, \"1\": 17, \"11\": 5, \"14\": 10, \"4\": 1}, \"15\": {\"8\": 22, \"12\": 68, \"15\": 136, \"2\": 6, \"7\": 1, \"3\": 7}, \"10\": {\"10\": 128, \"4\": 16, \"13\": 21, \"14\": 56, \"5\": 11, \"1\": 7, \"0\": 1}, \"12\": {\"15\": 81, \"12\": 98, \"8\": 6, \"3\": 48, \"2\": 6, \"7\": 1}, \"6\": {\"6\": 115, \"7\": 51, \"8\": 13, \"4\": 29, \"0\": 24, \"14\": 1, \"13\": 7}, \"7\": {\"7\": 149, \"6\": 55, \"0\": 22, \"4\": 5, \"8\": 7, \"2\": 1, \"13\": 1}}, \"CORES_5\": {\"26\": {\"26\": 24}, \"7\": {\"7\": 32}, \"56\": {\"56\": 142}, \"36\": {\"36\": 89, \"57\": 2, \"40\": 1}, \"47\": {\"47\": 99, \"3\": 1}, \"2\": {\"2\": 28}, \"15\": {\"15\": 143, \"43\": 7, \"11\": 2}, \"14\": {\"36\": 6, \"14\": 17, \"33\": 2, \"24\": 2, \"57\": 4, \"47\": 6, \"3\": 1, \"46\": 3, \"31\": 1, \"49\": 2}, \"27\": {\"27\": 146}, \"40\": {\"40\": 120, \"34\": 4}, \"49\": {\"49\": 36}, \"45\": {\"27\": 4, \"45\": 110, \"17\": 1, \"9\": 6, \"48\": 2, \"4\": 1}, \"46\": {\"46\": 135, \"3\": 1}, \"11\": {\"11\": 123, \"15\": 5, \"43\": 1, \"16\": 1}, \"30\": {\"30\": 112}, \"0\": {\"0\": 124}, \"10\": {\"10\": 68}, \"1\": {\"1\": 148}, \"42\": {\"42\": 38, \"2\": 1, \"0\": 1}, \"54\": {\"54\": 112}, \"55\": {\"55\": 146, \"9\": 6}, \"23\": {\"23\": 124}, \"25\": {\"25\": 151, \"23\": 1}, \"28\": {\"28\": 32}, \"32\": {\"32\": 32}, \"9\": {\"9\": 132, \"55\": 10}, \"39\": {\"39\": 20}, \"3\": {\"3\": 86, \"14\": 1, \"39\": 1, \"47\": 7, \"46\": 2, \"42\": 2, \"23\": 1}, \"29\": {\"29\": 118}, \"17\": {\"17\": 115, \"30\": 1}, \"35\": {\"35\": 33, \"56\": 3}, \"44\": {\"44\": 151, \"5\": 1}, \"5\": {\"5\": 125, \"19\": 3}, \"33\": {\"33\": 32}, \"34\": {\"34\": 31, \"40\": 5}, \"13\": {\"13\": 138}, \"41\": {\"41\": 28}, \"6\": {\"6\": 120, \"30\": 4, \"17\": 1, \"1\": 1, \"26\": 2}, \"51\": {\"51\": 138}, \"50\": {\"50\": 126, \"53\": 5, \"25\": 2, \"21\": 8, \"20\": 3}, \"37\": {\"37\": 24}, \"19\": {\"19\": 143, \"5\": 1}, \"57\": {\"57\": 131, \"14\": 1}, \"21\": {\"21\": 142, \"50\": 2}, \"24\": {\"24\": 80}, \"8\": {\"8\": 130}, \"12\": {\"12\": 96}, \"48\": {\"48\": 130, \"9\": 1, \"55\": 1}, \"43\": {\"43\": 121, \"15\": 29}, \"53\": {\"53\": 143, \"20\": 5}, \"38\": {\"38\": 32}, \"16\": {\"16\": 141, \"11\": 1}, \"22\": {\"22\": 27, \"28\": 1}, \"4\": {\"4\": 100}, \"18\": {\"18\": 63, \"23\": 1}, \"20\": {\"20\": 141, \"53\": 3}, \"52\": {\"52\": 138, \"23\": 1, \"25\": 1}, \"31\": {\"31\": 36}}, \"CORES_1\": {\"41\": {\"41\": 24}, \"40\": {\"40\": 110}, \"45\": {\"45\": 132, \"42\": 5, \"7\": 1}, \"51\": {\"51\": 137, \"41\": 1, \"12\": 3, \"13\": 7}, \"5\": {\"5\": 136, \"6\": 13, \"50\": 1, \"48\": 4}, \"30\": {\"30\": 120}, \"42\": {\"42\": 40}, \"46\": {\"46\": 136}, \"48\": {\"48\": 132, \"50\": 2}, \"53\": {\"53\": 144}, \"47\": {\"47\": 152}, \"49\": {\"49\": 30, \"0\": 1, \"21\": 1}, \"36\": {\"36\": 64}, \"32\": {\"32\": 32}, \"34\": {\"34\": 24}, \"29\": {\"29\": 140}, \"35\": {\"35\": 36}, \"3\": {\"3\": 134}, \"16\": {\"16\": 140}, \"26\": {\"26\": 24}, \"57\": {\"57\": 139, \"56\": 2, \"1\": 1, \"19\": 2}, \"44\": {\"44\": 106, \"57\": 11, \"56\": 5, \"19\": 1, \"35\": 2, \"29\": 2, \"1\": 1}, \"0\": {\"0\": 147, \"23\": 4, \"49\": 1}, \"4\": {\"4\": 132}, \"31\": {\"31\": 26, \"39\": 2}, \"11\": {\"11\": 135, \"28\": 2, \"52\": 3}, \"6\": {\"6\": 72, \"5\": 19, \"48\": 4, \"2\": 1}, \"54\": {\"54\": 104}, \"17\": {\"17\": 64}, \"20\": {\"20\": 128}, \"13\": {\"13\": 126, \"12\": 17, \"51\": 7}, \"33\": {\"33\": 31, \"54\": 1}, \"24\": {\"24\": 100, \"22\": 3, \"15\": 1, \"10\": 3, \"37\": 1}, \"52\": {\"52\": 119, \"24\": 1, \"22\": 3, \"11\": 8, \"10\": 1}, \"2\": {\"2\": 36}, \"19\": {\"19\": 153, \"1\": 3}, \"39\": {\"39\": 24, \"31\": 4}, \"8\": {\"8\": 135, \"9\": 5}, \"21\": {\"21\": 114, \"23\": 3, \"15\": 2, \"22\": 3, \"49\": 1, \"0\": 1}, \"10\": {\"10\": 86, \"22\": 2, \"24\": 8}, \"37\": {\"37\": 31, \"25\": 1}, \"25\": {\"25\": 144}, \"27\": {\"27\": 130}, \"23\": {\"23\": 131, \"0\": 2, \"38\": 2, \"15\": 1}, \"1\": {\"1\": 95, \"19\": 2, \"57\": 3}, \"50\": {\"50\": 151, \"48\": 1}, \"12\": {\"12\": 97, \"13\": 15, \"51\": 4}, \"18\": {\"18\": 72}, \"38\": {\"38\": 24}, \"14\": {\"20\": 2, \"30\": 1, \"25\": 1, \"7\": 6, \"45\": 3, \"14\": 5, \"18\": 3, \"53\": 2, \"33\": 1}, \"56\": {\"57\": 9, \"56\": 128, \"1\": 2, \"29\": 1, \"19\": 2}, \"55\": {\"55\": 160}, \"9\": {\"9\": 129, \"8\": 9}, \"15\": {\"15\": 145, \"21\": 1}, \"28\": {\"28\": 27, \"11\": 1}, \"7\": {\"7\": 26, \"30\": 1, \"14\": 1}, \"43\": {\"43\": 136}, \"22\": {\"10\": 12, \"22\": 102, \"24\": 5, \"52\": 4, \"15\": 6, \"21\": 5, \"11\": 2}}, \"CORES_3\": {\"1\": {\"1\": 94, \"57\": 6}, \"9\": {\"9\": 124}, \"22\": {\"22\": 136}, \"43\": {\"43\": 135, \"49\": 1}, \"49\": {\"49\": 20}, \"50\": {\"50\": 126, \"52\": 3, \"25\": 1, \"20\": 7, \"8\": 1}, \"53\": {\"53\": 136}, \"10\": {\"10\": 63, \"24\": 1}, \"48\": {\"48\": 115, \"33\": 1}, \"8\": {\"8\": 138}, \"31\": {\"31\": 28}, \"56\": {\"56\": 134}, \"25\": {\"25\": 142}, \"28\": {\"28\": 28}, \"38\": {\"38\": 28}, \"5\": {\"5\": 113, \"48\": 1, \"42\": 1, \"54\": 1}, \"12\": {\"12\": 90, \"38\": 1, \"53\": 1}, \"6\": {\"6\": 72, \"18\": 5, \"8\": 2, \"25\": 1, \"30\": 2, \"36\": 3, \"41\": 1, \"50\": 1, \"23\": 1}, \"19\": {\"19\": 137, \"40\": 15}, \"26\": {\"26\": 24}, \"32\": {\"32\": 28}, \"33\": {\"33\": 28}, \"3\": {\"3\": 117, \"46\": 1}, \"51\": {\"51\": 128}, \"16\": {\"16\": 138}, \"46\": {\"46\": 138, \"3\": 1, \"16\": 1}, \"7\": {\"7\": 36}, \"47\": {\"47\": 92}, \"39\": {\"39\": 14, \"48\": 2}, \"40\": {\"19\": 27, \"40\": 109}, \"14\": {\"14\": 20, \"28\": 3, \"56\": 4, \"34\": 3, \"35\": 5, \"22\": 5}, \"37\": {\"37\": 28}, \"2\": {\"2\": 32}, \"21\": {\"21\": 119, \"51\": 1}, \"35\": {\"35\": 28}, \"54\": {\"54\": 100}, \"52\": {\"52\": 116}, \"29\": {\"29\": 118}, \"20\": {\"20\": 132}, \"18\": {\"18\": 82, \"30\": 2}, \"11\": {\"11\": 142}, \"0\": {\"0\": 124}, \"36\": {\"36\": 100}, \"17\": {\"17\": 106, \"54\": 1, \"32\": 1}, \"30\": {\"30\": 109, \"41\": 4, \"18\": 1}, \"42\": {\"42\": 25, \"5\": 3}, \"45\": {\"45\": 59, \"27\": 1}, \"4\": {\"4\": 148}, \"23\": {\"23\": 134}, \"13\": {\"13\": 128}, \"15\": {\"15\": 128}, \"57\": {\"57\": 115, \"1\": 9}, \"27\": {\"27\": 134}, \"44\": {\"44\": 88}, \"34\": {\"34\": 32}, \"41\": {\"41\": 23, \"30\": 4, \"18\": 1}, \"24\": {\"24\": 104}, \"55\": {\"55\": 117, \"57\": 1}}, \"CORES_4\": {\"52\": {\"52\": 116}, \"6\": {\"6\": 100, \"31\": 1, \"53\": 6, \"3\": 1, \"51\": 2, \"25\": 1, \"50\": 1}, \"14\": {\"14\": 12, \"29\": 2, \"33\": 1, \"35\": 1}, \"49\": {\"49\": 20}, \"0\": {\"38\": 4, \"0\": 66, \"22\": 4, \"36\": 1, \"32\": 2, \"25\": 1, \"43\": 2}, \"46\": {\"46\": 147, \"32\": 1, \"47\": 4, \"41\": 1, \"0\": 2, \"22\": 1}, \"41\": {\"41\": 33, \"46\": 3}, \"24\": {\"24\": 55, \"43\": 1}, \"25\": {\"25\": 147, \"36\": 5}, \"40\": {\"40\": 137, \"19\": 1}, \"38\": {\"38\": 40}, \"13\": {\"13\": 152}, \"9\": {\"9\": 106, \"17\": 2}, \"45\": {\"45\": 96}, \"43\": {\"43\": 144}, \"10\": {\"10\": 130}, \"15\": {\"15\": 124, \"16\": 2, \"11\": 2}, \"39\": {\"39\": 20}, \"4\": {\"4\": 132}, \"53\": {\"53\": 131, \"6\": 1}, \"1\": {\"1\": 40}, \"28\": {\"28\": 30, \"33\": 2}, \"54\": {\"54\": 108}, \"21\": {\"21\": 132}, \"7\": {\"7\": 22, \"32\": 1, \"46\": 1}, \"8\": {\"8\": 136}, \"42\": {\"42\": 32}, \"11\": {\"11\": 100, \"15\": 4}, \"33\": {\"28\": 3, \"33\": 33}, \"27\": {\"27\": 142}, \"19\": {\"19\": 142, \"44\": 2}, \"2\": {\"2\": 35, \"1\": 1}, \"3\": {\"3\": 108, \"20\": 7, \"25\": 1, \"50\": 1, \"8\": 2, \"6\": 1}, \"57\": {\"57\": 99, \"55\": 1}, \"20\": {\"20\": 112}, \"23\": {\"23\": 126, \"18\": 2}, \"22\": {\"22\": 125, \"0\": 2, \"43\": 1}, \"29\": {\"29\": 123, \"17\": 1}, \"36\": {\"36\": 79, \"25\": 12, \"8\": 1}, \"51\": {\"51\": 132}, \"31\": {\"31\": 27, \"16\": 1}, \"12\": {\"12\": 92}, \"56\": {\"56\": 137, \"14\": 1}, \"5\": {\"5\": 100, \"54\": 2, \"47\": 6}, \"35\": {\"35\": 40}, \"17\": {\"17\": 80}, \"32\": {\"32\": 24}, \"47\": {\"47\": 119, \"5\": 1}, \"18\": {\"18\": 106, \"23\": 1, \"9\": 1}, \"26\": {\"26\": 24}, \"50\": {\"50\": 100, \"21\": 3, \"53\": 9, \"3\": 1, \"20\": 8, \"6\": 1}, \"55\": {\"55\": 122, \"57\": 2}, \"34\": {\"34\": 24}, \"30\": {\"30\": 42, \"8\": 2}, \"37\": {\"37\": 24}, \"44\": {\"44\": 129, \"19\": 3}, \"48\": {\"48\": 117, \"27\": 1}, \"16\": {\"16\": 94, \"15\": 2}}, \"CORES_2\": {\"11\": {\"11\": 128, \"16\": 2}, \"21\": {\"21\": 120}, \"19\": {\"19\": 139, \"40\": 1}, \"20\": {\"20\": 125, \"53\": 3}, \"9\": {\"9\": 138, \"4\": 2}, \"10\": {\"10\": 112}, \"37\": {\"37\": 36}, \"32\": {\"32\": 28}, \"3\": {\"3\": 83, \"21\": 6, \"52\": 1, \"20\": 1, \"46\": 1}, \"39\": {\"39\": 27, \"23\": 1}, \"45\": {\"45\": 126, \"4\": 1, \"9\": 1}, \"50\": {\"50\": 116, \"6\": 15, \"8\": 5}, \"40\": {\"40\": 138, \"19\": 1, \"45\": 1}, \"46\": {\"46\": 116, \"16\": 2, \"52\": 5, \"11\": 2, \"15\": 1, \"25\": 1, \"50\": 1}, \"12\": {\"12\": 92}, \"13\": {\"13\": 116}, \"47\": {\"47\": 132}, \"15\": {\"15\": 142}, \"54\": {\"54\": 108}, \"48\": {\"48\": 148}, \"23\": {\"23\": 141, \"39\": 1}, \"29\": {\"29\": 128}, \"38\": {\"38\": 20}, \"53\": {\"53\": 126, \"20\": 10}, \"27\": {\"27\": 150}, \"43\": {\"43\": 144}, \"35\": {\"35\": 32}, \"0\": {\"0\": 48}, \"52\": {\"52\": 123, \"46\": 1}, \"8\": {\"8\": 128}, \"24\": {\"24\": 95, \"10\": 1}, \"18\": {\"18\": 48}, \"25\": {\"25\": 147, \"18\": 1}, \"57\": {\"57\": 135, \"42\": 1}, \"55\": {\"55\": 132, \"14\": 1, \"57\": 1}, \"36\": {\"36\": 116}, \"17\": {\"17\": 103, \"32\": 1}, \"2\": {\"2\": 30, \"49\": 2}, \"34\": {\"34\": 28}, \"1\": {\"1\": 108, \"57\": 1, \"17\": 1, \"42\": 1, \"55\": 1}, \"51\": {\"51\": 136}, \"31\": {\"31\": 28}, \"49\": {\"49\": 23, \"2\": 1}, \"14\": {\"31\": 1, \"14\": 12, \"22\": 1, \"33\": 1, \"0\": 1, \"56\": 3, \"1\": 1, \"55\": 4}, \"33\": {\"33\": 28}, \"41\": {\"41\": 19, \"36\": 1}, \"28\": {\"28\": 28}, \"5\": {\"5\": 113, \"47\": 6, \"42\": 1}, \"16\": {\"16\": 150}, \"4\": {\"4\": 122, \"9\": 6}, \"22\": {\"22\": 135, \"14\": 1}, \"6\": {\"50\": 12, \"6\": 102, \"25\": 1, \"8\": 3}, \"30\": {\"30\": 122, \"18\": 2}, \"26\": {\"26\": 24}, \"56\": {\"56\": 142}, \"42\": {\"42\": 35, \"57\": 1}, \"44\": {\"44\": 98, \"35\": 1, \"45\": 1}, \"7\": {\"7\": 36}}}, \"per_domain_accuracy\": {\"ORACLE.run1_26\": {\"accuracy\": 0.4466145833333333, \"source?\": true}, \"ORACLE.run1_44\": {\"accuracy\": 0.6643229166666667, \"source?\": true}, \"ORACLE.run1_50\": {\"accuracy\": 0.6880208333333333, \"source?\": true}, \"ORACLE.run1_38\": {\"accuracy\": 0.66953125, \"source?\": true}, \"ORACLE.run1_20\": {\"accuracy\": 0.45729166666666665, \"source?\": true}, \"ORACLE.run1_14\": {\"accuracy\": 0.70703125, \"source?\": true}, \"ORACLE.run1_32\": {\"accuracy\": 0.6828125, \"source?\": true}, \"ORACLE.run1_8\": {\"accuracy\": 0.5526041666666667, \"source?\": true}, \"CORES_5\": {\"accuracy\": 0.9675279329608939, \"source?\": false}, \"CORES_1\": {\"accuracy\": 0.950577445652174, \"source?\": false}, \"CORES_3\": {\"accuracy\": 0.9746323529411764, \"source?\": false}, \"CORES_4\": {\"accuracy\": 0.9723268072289156, \"source?\": false}, \"CORES_2\": {\"accuracy\": 0.9774502840909091, \"source?\": false}}}, \"history\": {\"epoch_indices\": [1, 2, 3, 4, 5, 6, 7, 8, 9, 10, 11, 12, 13], \"train_label_loss\": [1.5990667697219623, 1.0112516507328975, 0.8546900090162776, 0.7441199467118297, 0.6501147600179095, 0.5662082915454881, 0.49668406707711427, 0.43419593864015216, 0.37948423804967507, 0.33689017387687703, 0.29650304803296984, 0.26249784415905153, 0.23829532707549378], \"source_val_label_loss\": [1.201539397239685, 1.0693119764328003, 1.047145128250122, 1.069334626197815, 1.083757758140564, 1.160354495048523, 1.2299233675003052, 1.2944504022598267, 1.3713124990463257, 1.4822964668273926, 1.4966341257095337, 1.6494776010513306, 1.690915584564209], \"target_val_label_loss\": [0.15325316786766052, 0.1516980081796646, 0.1745981127023697, 0.18912248313426971, 0.19390685856342316, 0.21323776245117188, 0.23042654991149902, 0.2401241958141327, 0.2593406140804291, 0.3006448447704315, 0.3111380636692047, 0.326360285282135, 0.34840136766433716], \"source_val_acc_label\": [0.5429036458333333, 0.5943033854166667, 0.6110677083333333, 0.611328125, 0.6184244791666667, 0.6001627604166667, 0.6105143229166666, 0.6052734375, 0.6085286458333333, 0.5998372395833333, 0.6004231770833334, 0.59208984375, 0.5956705729166667], \"target_val_acc_label\": [0.95475, 0.9644642857142857, 0.9622857142857143, 0.9652142857142857, 0.9675357142857143, 0.9648928571428571, 0.9678214285714286, 0.9667857142857142, 0.96825, 0.9632857142857143, 0.9608571428571429, 0.9617142857142857, 0.9626428571428571]}, \"dataset_metrics\": {\"source\": {\"train\": {\"n_unique_x\": 179200, \"n_unique_y\": 16, \"n_batch/episode\": 6720}, \"val\": {\"n_unique_x\": 38400, \"n_unique_y\": 16, \"n_batch/episode\": 960}, \"test\": {\"n_unique_x\": 38400, \"n_unique_y\": 16, \"n_batch/episode\": 960}}, \"target\": {\"train\": {\"n_unique_x\": 175203, \"n_unique_y\": 58, \"n_batch/episode\": 6321}, \"val\": {\"n_unique_x\": 37151, \"n_unique_y\": 58, \"n_batch/episode\": 875}, \"test\": {\"n_unique_x\": 37548, \"n_unique_y\": 58, \"n_batch/episode\": 885}}}}'"
      ]
     },
     "execution_count": 29,
     "metadata": {},
     "output_type": "execute_result"
    }
   ],
   "source": [
    "json.dumps(experiment)"
   ]
  }
 ],
 "metadata": {
  "celltoolbar": "Tags",
  "kernelspec": {
   "display_name": "Python 3 (ipykernel)",
   "language": "python",
   "name": "python3"
  },
  "language_info": {
   "codemirror_mode": {
    "name": "ipython",
    "version": 3
   },
   "file_extension": ".py",
   "mimetype": "text/x-python",
   "name": "python",
   "nbconvert_exporter": "python",
   "pygments_lexer": "ipython3",
   "version": "3.8.12"
  },
  "papermill": {
   "default_parameters": {},
   "duration": 2187.833861,
   "end_time": "2022-03-22T15:30:35.353417",
   "environment_variables": {},
   "exception": null,
   "input_path": "/root/csc500-main/csc500-notebooks/templates/tl_ptn_template.ipynb",
   "output_path": "trial.ipynb",
   "parameters": {
    "parameters": {
     "BEST_MODEL_PATH": "./best_model.pth",
     "NUM_LOGS_PER_EPOCH": 10,
     "criteria_for_best": "target_accuracy",
     "dataset_seed": 7,
     "datasets": [
      {
       "domain_prefix": "CORES_",
       "domains": [
        1,
        2,
        3,
        4,
        5
       ],
       "episode_transforms": [],
       "labels": [
        "1-10.",
        "1-11.",
        "1-15.",
        "1-16.",
        "1-17.",
        "1-18.",
        "1-19.",
        "10-4.",
        "10-7.",
        "11-1.",
        "11-14.",
        "11-17.",
        "11-20.",
        "11-7.",
        "13-20.",
        "13-8.",
        "14-10.",
        "14-11.",
        "14-14.",
        "14-7.",
        "15-1.",
        "15-20.",
        "16-1.",
        "16-16.",
        "17-10.",
        "17-11.",
        "17-2.",
        "19-1.",
        "19-16.",
        "19-19.",
        "19-20.",
        "19-3.",
        "2-10.",
        "2-11.",
        "2-17.",
        "2-18.",
        "2-20.",
        "2-3.",
        "2-4.",
        "2-5.",
        "2-6.",
        "2-7.",
        "2-8.",
        "3-13.",
        "3-18.",
        "3-3.",
        "4-1.",
        "4-10.",
        "4-11.",
        "4-19.",
        "5-5.",
        "6-15.",
        "7-10.",
        "7-14.",
        "8-18.",
        "8-20.",
        "8-3.",
        "8-8."
       ],
       "num_examples_per_domain_per_label": -1,
       "pickle_path": "/root/csc500-main/datasets/cores.stratified_ds.2022A.pkl",
       "source_or_target_dataset": "target",
       "x_transforms": [
        "unit_power"
       ]
      },
      {
       "domain_prefix": "ORACLE.run1_",
       "domains": [
        32,
        38,
        8,
        44,
        14,
        50,
        20,
        26
       ],
       "episode_transforms": [],
       "labels": [
        "3123D52",
        "3123D65",
        "3123D79",
        "3123D80",
        "3123D54",
        "3123D70",
        "3123D7B",
        "3123D89",
        "3123D58",
        "3123D76",
        "3123D7D",
        "3123EFE",
        "3123D64",
        "3123D78",
        "3123D7E",
        "3124E4A"
       ],
       "num_examples_per_domain_per_label": 2000,
       "pickle_path": "/root/csc500-main/datasets/oracle.Run1_10kExamples_stratified_ds.2022A.pkl",
       "source_or_target_dataset": "source",
       "x_transforms": [
        "unit_power"
       ]
      }
     ],
     "device": "cuda",
     "experiment_name": "tl_1v2:cores-oracle.run1.limited",
     "lr": 0.0001,
     "n_epoch": 50,
     "n_query": 2,
     "n_shot": 3,
     "n_way": 16,
     "patience": 3,
     "seed": 7,
     "test_k_factor": 2,
     "torch_default_dtype": "torch.float32",
     "train_k_factor": 3,
     "val_k_factor": 2,
     "x_net": [
      {
       "class": "nnReshape",
       "kargs": {
        "shape": [
         -1,
         1,
         2,
         256
        ]
       }
      },
      {
       "class": "Conv2d",
       "kargs": {
        "bias": false,
        "in_channels": 1,
        "kernel_size": [
         1,
         7
        ],
        "out_channels": 256,
        "padding": [
         0,
         3
        ]
       }
      },
      {
       "class": "ReLU",
       "kargs": {
        "inplace": true
       }
      },
      {
       "class": "BatchNorm2d",
       "kargs": {
        "num_features": 256
       }
      },
      {
       "class": "Conv2d",
       "kargs": {
        "bias": true,
        "in_channels": 256,
        "kernel_size": [
         2,
         7
        ],
        "out_channels": 80,
        "padding": [
         0,
         3
        ]
       }
      },
      {
       "class": "ReLU",
       "kargs": {
        "inplace": true
       }
      },
      {
       "class": "BatchNorm2d",
       "kargs": {
        "num_features": 80
       }
      },
      {
       "class": "Flatten",
       "kargs": {}
      },
      {
       "class": "Linear",
       "kargs": {
        "in_features": 20480,
        "out_features": 256
       }
      },
      {
       "class": "ReLU",
       "kargs": {
        "inplace": true
       }
      },
      {
       "class": "BatchNorm1d",
       "kargs": {
        "num_features": 256
       }
      },
      {
       "class": "Linear",
       "kargs": {
        "in_features": 256,
        "out_features": 256
       }
      }
     ]
    }
   },
   "start_time": "2022-03-22T14:54:07.519556",
   "version": "2.3.4"
  }
 },
 "nbformat": 4,
 "nbformat_minor": 5
}