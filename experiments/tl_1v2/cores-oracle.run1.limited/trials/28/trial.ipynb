{
 "cells": [
  {
   "cell_type": "markdown",
   "id": "9fea5f46",
   "metadata": {
    "papermill": {
     "duration": 0.026847,
     "end_time": "2022-03-22T18:55:25.965295",
     "exception": false,
     "start_time": "2022-03-22T18:55:25.938448",
     "status": "completed"
    },
    "tags": []
   },
   "source": [
    "# Transfer Learning Template"
   ]
  },
  {
   "cell_type": "code",
   "execution_count": 1,
   "id": "0902182a",
   "metadata": {
    "execution": {
     "iopub.execute_input": "2022-03-22T18:55:26.026317Z",
     "iopub.status.busy": "2022-03-22T18:55:26.025465Z",
     "iopub.status.idle": "2022-03-22T18:55:28.046085Z",
     "shell.execute_reply": "2022-03-22T18:55:28.045644Z"
    },
    "papermill": {
     "duration": 2.058799,
     "end_time": "2022-03-22T18:55:28.046185",
     "exception": false,
     "start_time": "2022-03-22T18:55:25.987386",
     "status": "completed"
    },
    "tags": []
   },
   "outputs": [],
   "source": [
    "%load_ext autoreload\n",
    "%autoreload 2\n",
    "%matplotlib inline\n",
    "\n",
    "    \n",
    "import os, json, sys, time, random\n",
    "import numpy as np\n",
    "import torch\n",
    "from torch.optim import Adam\n",
    "from  easydict import EasyDict\n",
    "import matplotlib.pyplot as plt\n",
    "\n",
    "from steves_models.steves_ptn import Steves_Prototypical_Network\n",
    "\n",
    "from steves_utils.lazy_iterable_wrapper import Lazy_Iterable_Wrapper\n",
    "from steves_utils.iterable_aggregator import Iterable_Aggregator\n",
    "from steves_utils.ptn_train_eval_test_jig import  PTN_Train_Eval_Test_Jig\n",
    "from steves_utils.torch_sequential_builder import build_sequential\n",
    "from steves_utils.torch_utils import get_dataset_metrics, ptn_confusion_by_domain_over_dataloader\n",
    "from steves_utils.utils_v2 import (per_domain_accuracy_from_confusion, get_datasets_base_path)\n",
    "from steves_utils.PTN.utils import independent_accuracy_assesment\n",
    "\n",
    "from torch.utils.data import DataLoader\n",
    "\n",
    "from steves_utils.stratified_dataset.episodic_accessor import Episodic_Accessor_Factory\n",
    "\n",
    "from steves_utils.ptn_do_report import (\n",
    "    get_loss_curve,\n",
    "    get_results_table,\n",
    "    get_parameters_table,\n",
    "    get_domain_accuracies,\n",
    ")\n",
    "\n",
    "from steves_utils.transforms import get_chained_transform"
   ]
  },
  {
   "cell_type": "markdown",
   "id": "41c840b4",
   "metadata": {
    "papermill": {
     "duration": 0.019405,
     "end_time": "2022-03-22T18:55:28.085809",
     "exception": false,
     "start_time": "2022-03-22T18:55:28.066404",
     "status": "completed"
    },
    "tags": []
   },
   "source": [
    "# Allowed Parameters\n",
    "These are allowed parameters, not defaults\n",
    "Each of these values need to be present in the injected parameters (the notebook will raise an exception if they are not present)\n",
    "\n",
    "Papermill uses the cell tag \"parameters\" to inject the real parameters below this cell.\n",
    "Enable tags to see what I mean"
   ]
  },
  {
   "cell_type": "code",
   "execution_count": 2,
   "id": "fd44eb83",
   "metadata": {
    "execution": {
     "iopub.execute_input": "2022-03-22T18:55:28.130789Z",
     "iopub.status.busy": "2022-03-22T18:55:28.130408Z",
     "iopub.status.idle": "2022-03-22T18:55:28.156513Z",
     "shell.execute_reply": "2022-03-22T18:55:28.156049Z"
    },
    "papermill": {
     "duration": 0.051493,
     "end_time": "2022-03-22T18:55:28.156583",
     "exception": false,
     "start_time": "2022-03-22T18:55:28.105090",
     "status": "completed"
    },
    "tags": []
   },
   "outputs": [],
   "source": [
    "required_parameters = {\n",
    "    \"experiment_name\",\n",
    "    \"lr\",\n",
    "    \"device\",\n",
    "    \"seed\",\n",
    "    \"dataset_seed\",\n",
    "    \"n_shot\",\n",
    "    \"n_query\",\n",
    "    \"n_way\",\n",
    "    \"train_k_factor\",\n",
    "    \"val_k_factor\",\n",
    "    \"test_k_factor\",\n",
    "    \"n_epoch\",\n",
    "    \"patience\",\n",
    "    \"criteria_for_best\",\n",
    "    \"x_net\",\n",
    "    \"datasets\",\n",
    "    \"torch_default_dtype\",\n",
    "    \"NUM_LOGS_PER_EPOCH\",\n",
    "    \"BEST_MODEL_PATH\",\n",
    "    \"x_shape\",\n",
    "}"
   ]
  },
  {
   "cell_type": "code",
   "execution_count": 3,
   "id": "fa3f0049",
   "metadata": {
    "execution": {
     "iopub.execute_input": "2022-03-22T18:55:28.209558Z",
     "iopub.status.busy": "2022-03-22T18:55:28.208400Z",
     "iopub.status.idle": "2022-03-22T18:55:28.235001Z",
     "shell.execute_reply": "2022-03-22T18:55:28.234182Z"
    },
    "papermill": {
     "duration": 0.058863,
     "end_time": "2022-03-22T18:55:28.235155",
     "exception": false,
     "start_time": "2022-03-22T18:55:28.176292",
     "status": "completed"
    },
    "tags": [
     "parameters"
    ]
   },
   "outputs": [],
   "source": [
    "from steves_utils.CORES.utils import (\n",
    "    ALL_NODES,\n",
    "    ALL_NODES_MINIMUM_1000_EXAMPLES,\n",
    "    ALL_DAYS\n",
    ")\n",
    "\n",
    "from steves_utils.ORACLE.utils_v2 import (\n",
    "    ALL_DISTANCES_FEET_NARROWED,\n",
    "    ALL_RUNS,\n",
    "    ALL_SERIAL_NUMBERS,\n",
    ")\n",
    "\n",
    "standalone_parameters = {}\n",
    "standalone_parameters[\"experiment_name\"] = \"STANDALONE PTN\"\n",
    "standalone_parameters[\"lr\"] = 0.001\n",
    "standalone_parameters[\"device\"] = \"cuda\"\n",
    "\n",
    "standalone_parameters[\"seed\"] = 1337\n",
    "standalone_parameters[\"dataset_seed\"] = 1337\n",
    "\n",
    "standalone_parameters[\"n_way\"] = 8\n",
    "standalone_parameters[\"n_shot\"] = 3\n",
    "standalone_parameters[\"n_query\"]  = 2\n",
    "standalone_parameters[\"train_k_factor\"] = 1\n",
    "standalone_parameters[\"val_k_factor\"] = 2\n",
    "standalone_parameters[\"test_k_factor\"] = 2\n",
    "\n",
    "\n",
    "standalone_parameters[\"n_epoch\"] = 50\n",
    "\n",
    "standalone_parameters[\"patience\"] = 10\n",
    "standalone_parameters[\"criteria_for_best\"] = \"source_loss\"\n",
    "\n",
    "standalone_parameters[\"datasets\"] = [\n",
    "    {\n",
    "        \"labels\": ALL_SERIAL_NUMBERS,\n",
    "        \"domains\": ALL_DISTANCES_FEET_NARROWED,\n",
    "        \"num_examples_per_domain_per_label\": 100,\n",
    "        \"pickle_path\": os.path.join(get_datasets_base_path(), \"oracle.Run1_framed_2000Examples_stratified_ds.2022A.pkl\"),\n",
    "        \"source_or_target_dataset\": \"source\",\n",
    "        \"x_transforms\": [\"unit_mag\", \"minus_two\"],\n",
    "        \"episode_transforms\": [],\n",
    "        \"domain_prefix\": \"ORACLE_\"\n",
    "    },\n",
    "    {\n",
    "        \"labels\": ALL_NODES,\n",
    "        \"domains\": ALL_DAYS,\n",
    "        \"num_examples_per_domain_per_label\": 100,\n",
    "        \"pickle_path\": os.path.join(get_datasets_base_path(), \"cores.stratified_ds.2022A.pkl\"),\n",
    "        \"source_or_target_dataset\": \"target\",\n",
    "        \"x_transforms\": [\"unit_power\", \"times_zero\"],\n",
    "        \"episode_transforms\": [],\n",
    "        \"domain_prefix\": \"CORES_\"\n",
    "    }   \n",
    "]\n",
    "\n",
    "standalone_parameters[\"torch_default_dtype\"] = \"torch.float32\" \n",
    "\n",
    "\n",
    "\n",
    "standalone_parameters[\"x_net\"] =     [\n",
    "    {\"class\": \"nnReshape\", \"kargs\": {\"shape\":[-1, 1, 2, 256]}},\n",
    "    {\"class\": \"Conv2d\", \"kargs\": { \"in_channels\":1, \"out_channels\":256, \"kernel_size\":(1,7), \"bias\":False, \"padding\":(0,3), },},\n",
    "    {\"class\": \"ReLU\", \"kargs\": {\"inplace\": True}},\n",
    "    {\"class\": \"BatchNorm2d\", \"kargs\": {\"num_features\":256}},\n",
    "\n",
    "    {\"class\": \"Conv2d\", \"kargs\": { \"in_channels\":256, \"out_channels\":80, \"kernel_size\":(2,7), \"bias\":True, \"padding\":(0,3), },},\n",
    "    {\"class\": \"ReLU\", \"kargs\": {\"inplace\": True}},\n",
    "    {\"class\": \"BatchNorm2d\", \"kargs\": {\"num_features\":80}},\n",
    "    {\"class\": \"Flatten\", \"kargs\": {}},\n",
    "\n",
    "    {\"class\": \"Linear\", \"kargs\": {\"in_features\": 80*256, \"out_features\": 256}}, # 80 units per IQ pair\n",
    "    {\"class\": \"ReLU\", \"kargs\": {\"inplace\": True}},\n",
    "    {\"class\": \"BatchNorm1d\", \"kargs\": {\"num_features\":256}},\n",
    "\n",
    "    {\"class\": \"Linear\", \"kargs\": {\"in_features\": 256, \"out_features\": 256}},\n",
    "]\n",
    "\n",
    "# Parameters relevant to results\n",
    "# These parameters will basically never need to change\n",
    "standalone_parameters[\"NUM_LOGS_PER_EPOCH\"] = 10\n",
    "standalone_parameters[\"BEST_MODEL_PATH\"] = \"./best_model.pth\"\n",
    "\n",
    "\n",
    "\n",
    "\n"
   ]
  },
  {
   "cell_type": "code",
   "execution_count": 4,
   "id": "5e38a433",
   "metadata": {
    "execution": {
     "iopub.execute_input": "2022-03-22T18:55:28.296921Z",
     "iopub.status.busy": "2022-03-22T18:55:28.295967Z",
     "iopub.status.idle": "2022-03-22T18:55:28.318062Z",
     "shell.execute_reply": "2022-03-22T18:55:28.318731Z"
    },
    "papermill": {
     "duration": 0.058886,
     "end_time": "2022-03-22T18:55:28.318908",
     "exception": false,
     "start_time": "2022-03-22T18:55:28.260022",
     "status": "completed"
    },
    "tags": [
     "injected-parameters"
    ]
   },
   "outputs": [],
   "source": [
    "# Parameters\n",
    "parameters = {\n",
    "    \"experiment_name\": \"tl_1v2:cores-oracle.run1.limited\",\n",
    "    \"device\": \"cuda\",\n",
    "    \"lr\": 0.0001,\n",
    "    \"n_shot\": 3,\n",
    "    \"n_query\": 2,\n",
    "    \"train_k_factor\": 3,\n",
    "    \"val_k_factor\": 2,\n",
    "    \"test_k_factor\": 2,\n",
    "    \"torch_default_dtype\": \"torch.float32\",\n",
    "    \"n_epoch\": 50,\n",
    "    \"patience\": 3,\n",
    "    \"criteria_for_best\": \"target_accuracy\",\n",
    "    \"x_net\": [\n",
    "        {\"class\": \"nnReshape\", \"kargs\": {\"shape\": [-1, 1, 2, 256]}},\n",
    "        {\n",
    "            \"class\": \"Conv2d\",\n",
    "            \"kargs\": {\n",
    "                \"in_channels\": 1,\n",
    "                \"out_channels\": 256,\n",
    "                \"kernel_size\": [1, 7],\n",
    "                \"bias\": False,\n",
    "                \"padding\": [0, 3],\n",
    "            },\n",
    "        },\n",
    "        {\"class\": \"ReLU\", \"kargs\": {\"inplace\": True}},\n",
    "        {\"class\": \"BatchNorm2d\", \"kargs\": {\"num_features\": 256}},\n",
    "        {\n",
    "            \"class\": \"Conv2d\",\n",
    "            \"kargs\": {\n",
    "                \"in_channels\": 256,\n",
    "                \"out_channels\": 80,\n",
    "                \"kernel_size\": [2, 7],\n",
    "                \"bias\": True,\n",
    "                \"padding\": [0, 3],\n",
    "            },\n",
    "        },\n",
    "        {\"class\": \"ReLU\", \"kargs\": {\"inplace\": True}},\n",
    "        {\"class\": \"BatchNorm2d\", \"kargs\": {\"num_features\": 80}},\n",
    "        {\"class\": \"Flatten\", \"kargs\": {}},\n",
    "        {\"class\": \"Linear\", \"kargs\": {\"in_features\": 20480, \"out_features\": 256}},\n",
    "        {\"class\": \"ReLU\", \"kargs\": {\"inplace\": True}},\n",
    "        {\"class\": \"BatchNorm1d\", \"kargs\": {\"num_features\": 256}},\n",
    "        {\"class\": \"Linear\", \"kargs\": {\"in_features\": 256, \"out_features\": 256}},\n",
    "    ],\n",
    "    \"NUM_LOGS_PER_EPOCH\": 10,\n",
    "    \"BEST_MODEL_PATH\": \"./best_model.pth\",\n",
    "    \"n_way\": 16,\n",
    "    \"datasets\": [\n",
    "        {\n",
    "            \"labels\": [\n",
    "                \"1-10.\",\n",
    "                \"1-11.\",\n",
    "                \"1-15.\",\n",
    "                \"1-16.\",\n",
    "                \"1-17.\",\n",
    "                \"1-18.\",\n",
    "                \"1-19.\",\n",
    "                \"10-4.\",\n",
    "                \"10-7.\",\n",
    "                \"11-1.\",\n",
    "                \"11-14.\",\n",
    "                \"11-17.\",\n",
    "                \"11-20.\",\n",
    "                \"11-7.\",\n",
    "                \"13-20.\",\n",
    "                \"13-8.\",\n",
    "                \"14-10.\",\n",
    "                \"14-11.\",\n",
    "                \"14-14.\",\n",
    "                \"14-7.\",\n",
    "                \"15-1.\",\n",
    "                \"15-20.\",\n",
    "                \"16-1.\",\n",
    "                \"16-16.\",\n",
    "                \"17-10.\",\n",
    "                \"17-11.\",\n",
    "                \"17-2.\",\n",
    "                \"19-1.\",\n",
    "                \"19-16.\",\n",
    "                \"19-19.\",\n",
    "                \"19-20.\",\n",
    "                \"19-3.\",\n",
    "                \"2-10.\",\n",
    "                \"2-11.\",\n",
    "                \"2-17.\",\n",
    "                \"2-18.\",\n",
    "                \"2-20.\",\n",
    "                \"2-3.\",\n",
    "                \"2-4.\",\n",
    "                \"2-5.\",\n",
    "                \"2-6.\",\n",
    "                \"2-7.\",\n",
    "                \"2-8.\",\n",
    "                \"3-13.\",\n",
    "                \"3-18.\",\n",
    "                \"3-3.\",\n",
    "                \"4-1.\",\n",
    "                \"4-10.\",\n",
    "                \"4-11.\",\n",
    "                \"4-19.\",\n",
    "                \"5-5.\",\n",
    "                \"6-15.\",\n",
    "                \"7-10.\",\n",
    "                \"7-14.\",\n",
    "                \"8-18.\",\n",
    "                \"8-20.\",\n",
    "                \"8-3.\",\n",
    "                \"8-8.\",\n",
    "            ],\n",
    "            \"domains\": [1, 2, 3, 4, 5],\n",
    "            \"num_examples_per_domain_per_label\": -1,\n",
    "            \"pickle_path\": \"/root/csc500-main/datasets/cores.stratified_ds.2022A.pkl\",\n",
    "            \"source_or_target_dataset\": \"target\",\n",
    "            \"x_transforms\": [\"unit_mag\"],\n",
    "            \"episode_transforms\": [],\n",
    "            \"domain_prefix\": \"CORES_\",\n",
    "        },\n",
    "        {\n",
    "            \"labels\": [\n",
    "                \"3123D52\",\n",
    "                \"3123D65\",\n",
    "                \"3123D79\",\n",
    "                \"3123D80\",\n",
    "                \"3123D54\",\n",
    "                \"3123D70\",\n",
    "                \"3123D7B\",\n",
    "                \"3123D89\",\n",
    "                \"3123D58\",\n",
    "                \"3123D76\",\n",
    "                \"3123D7D\",\n",
    "                \"3123EFE\",\n",
    "                \"3123D64\",\n",
    "                \"3123D78\",\n",
    "                \"3123D7E\",\n",
    "                \"3124E4A\",\n",
    "            ],\n",
    "            \"domains\": [32, 38, 8, 44, 14, 50, 20, 26],\n",
    "            \"num_examples_per_domain_per_label\": 2000,\n",
    "            \"pickle_path\": \"/root/csc500-main/datasets/oracle.Run1_10kExamples_stratified_ds.2022A.pkl\",\n",
    "            \"source_or_target_dataset\": \"source\",\n",
    "            \"x_transforms\": [\"unit_mag\"],\n",
    "            \"episode_transforms\": [],\n",
    "            \"domain_prefix\": \"ORACLE.run1_\",\n",
    "        },\n",
    "    ],\n",
    "    \"dataset_seed\": 500,\n",
    "    \"seed\": 500,\n",
    "}\n"
   ]
  },
  {
   "cell_type": "code",
   "execution_count": 5,
   "id": "8fa1cc33",
   "metadata": {
    "execution": {
     "iopub.execute_input": "2022-03-22T18:55:28.367750Z",
     "iopub.status.busy": "2022-03-22T18:55:28.367171Z",
     "iopub.status.idle": "2022-03-22T18:55:28.389818Z",
     "shell.execute_reply": "2022-03-22T18:55:28.389120Z"
    },
    "papermill": {
     "duration": 0.046048,
     "end_time": "2022-03-22T18:55:28.389968",
     "exception": false,
     "start_time": "2022-03-22T18:55:28.343920",
     "status": "completed"
    },
    "tags": []
   },
   "outputs": [],
   "source": [
    "# Set this to True if you want to run this template directly\n",
    "STANDALONE = False\n",
    "if STANDALONE:\n",
    "    print(\"parameters not injected, running with standalone_parameters\")\n",
    "    parameters = standalone_parameters\n",
    "\n",
    "if not 'parameters' in locals() and not 'parameters' in globals():\n",
    "    raise Exception(\"Parameter injection failed\")\n",
    "\n",
    "#Use an easy dict for all the parameters\n",
    "p = EasyDict(parameters)\n",
    "\n",
    "if \"x_shape\" not in p:\n",
    "    p.x_shape = [2,256] # Default to this if we dont supply x_shape\n",
    "\n",
    "\n",
    "supplied_keys = set(p.keys())\n",
    "\n",
    "if  supplied_keys != required_parameters:\n",
    "    print(\"Parameters are incorrect\")\n",
    "    if len(supplied_keys - required_parameters)>0: print(\"Shouldn't have:\", str(supplied_keys - required_parameters))\n",
    "    if len(required_parameters - supplied_keys)>0: print(\"Need to have:\", str(required_parameters - supplied_keys))\n",
    "    raise RuntimeError(\"Parameters are incorrect\")"
   ]
  },
  {
   "cell_type": "code",
   "execution_count": 6,
   "id": "3a028d58",
   "metadata": {
    "execution": {
     "iopub.execute_input": "2022-03-22T18:55:28.441200Z",
     "iopub.status.busy": "2022-03-22T18:55:28.440740Z",
     "iopub.status.idle": "2022-03-22T18:55:28.466119Z",
     "shell.execute_reply": "2022-03-22T18:55:28.466796Z"
    },
    "papermill": {
     "duration": 0.049469,
     "end_time": "2022-03-22T18:55:28.466983",
     "exception": false,
     "start_time": "2022-03-22T18:55:28.417514",
     "status": "completed"
    },
    "tags": []
   },
   "outputs": [],
   "source": [
    "###################################\n",
    "# Set the RNGs and make it all deterministic\n",
    "###################################\n",
    "np.random.seed(p.seed)\n",
    "random.seed(p.seed)\n",
    "torch.manual_seed(p.seed)\n",
    "\n",
    "torch.use_deterministic_algorithms(True) "
   ]
  },
  {
   "cell_type": "code",
   "execution_count": 7,
   "id": "b691acf6",
   "metadata": {
    "execution": {
     "iopub.execute_input": "2022-03-22T18:55:28.517005Z",
     "iopub.status.busy": "2022-03-22T18:55:28.516447Z",
     "iopub.status.idle": "2022-03-22T18:55:28.544163Z",
     "shell.execute_reply": "2022-03-22T18:55:28.544841Z"
    },
    "papermill": {
     "duration": 0.052904,
     "end_time": "2022-03-22T18:55:28.545023",
     "exception": false,
     "start_time": "2022-03-22T18:55:28.492119",
     "status": "completed"
    },
    "tags": []
   },
   "outputs": [],
   "source": [
    "###########################################\n",
    "# The stratified datasets honor this\n",
    "###########################################\n",
    "torch.set_default_dtype(eval(p.torch_default_dtype))"
   ]
  },
  {
   "cell_type": "code",
   "execution_count": 8,
   "id": "b5fba671",
   "metadata": {
    "execution": {
     "iopub.execute_input": "2022-03-22T18:55:28.594380Z",
     "iopub.status.busy": "2022-03-22T18:55:28.594015Z",
     "iopub.status.idle": "2022-03-22T18:55:28.652574Z",
     "shell.execute_reply": "2022-03-22T18:55:28.653248Z"
    },
    "papermill": {
     "duration": 0.082259,
     "end_time": "2022-03-22T18:55:28.653429",
     "exception": false,
     "start_time": "2022-03-22T18:55:28.571170",
     "status": "completed"
    },
    "tags": []
   },
   "outputs": [],
   "source": [
    "###################################\n",
    "# Build the network(s)\n",
    "# Note: It's critical to do this AFTER setting the RNG\n",
    "###################################\n",
    "x_net = build_sequential(p.x_net)"
   ]
  },
  {
   "cell_type": "code",
   "execution_count": 9,
   "id": "5d7e61cc",
   "metadata": {
    "execution": {
     "iopub.execute_input": "2022-03-22T18:55:28.705808Z",
     "iopub.status.busy": "2022-03-22T18:55:28.705444Z",
     "iopub.status.idle": "2022-03-22T18:55:28.730749Z",
     "shell.execute_reply": "2022-03-22T18:55:28.730041Z"
    },
    "papermill": {
     "duration": 0.049052,
     "end_time": "2022-03-22T18:55:28.730903",
     "exception": false,
     "start_time": "2022-03-22T18:55:28.681851",
     "status": "completed"
    },
    "tags": []
   },
   "outputs": [],
   "source": [
    "start_time_secs = time.time()"
   ]
  },
  {
   "cell_type": "code",
   "execution_count": 10,
   "id": "c6b67dfd",
   "metadata": {
    "execution": {
     "iopub.execute_input": "2022-03-22T18:55:28.781266Z",
     "iopub.status.busy": "2022-03-22T18:55:28.780708Z",
     "iopub.status.idle": "2022-03-22T18:55:28.805016Z",
     "shell.execute_reply": "2022-03-22T18:55:28.805689Z"
    },
    "papermill": {
     "duration": 0.04964,
     "end_time": "2022-03-22T18:55:28.805869",
     "exception": false,
     "start_time": "2022-03-22T18:55:28.756229",
     "status": "completed"
    },
    "tags": []
   },
   "outputs": [],
   "source": [
    "p.domains_source = []\n",
    "p.domains_target = []\n",
    "\n",
    "\n",
    "train_original_source = []\n",
    "val_original_source   = []\n",
    "test_original_source  = []\n",
    "\n",
    "train_original_target = []\n",
    "val_original_target   = []\n",
    "test_original_target  = []"
   ]
  },
  {
   "cell_type": "code",
   "execution_count": 11,
   "id": "e3d9c3d3",
   "metadata": {
    "execution": {
     "iopub.execute_input": "2022-03-22T18:55:28.855662Z",
     "iopub.status.busy": "2022-03-22T18:55:28.855283Z",
     "iopub.status.idle": "2022-03-22T18:55:28.876607Z",
     "shell.execute_reply": "2022-03-22T18:55:28.877279Z"
    },
    "papermill": {
     "duration": 0.045736,
     "end_time": "2022-03-22T18:55:28.877460",
     "exception": false,
     "start_time": "2022-03-22T18:55:28.831724",
     "status": "completed"
    },
    "tags": []
   },
   "outputs": [],
   "source": [
    "# global_x_transform_func = lambda x: normalize(x.to(torch.get_default_dtype()), \"unit_power\") # unit_power, unit_mag\n",
    "# global_x_transform_func = lambda x: normalize(x, \"unit_power\") # unit_power, unit_mag"
   ]
  },
  {
   "cell_type": "code",
   "execution_count": 12,
   "id": "acb78fd2",
   "metadata": {
    "execution": {
     "iopub.execute_input": "2022-03-22T18:55:28.937663Z",
     "iopub.status.busy": "2022-03-22T18:55:28.936812Z",
     "iopub.status.idle": "2022-03-22T18:55:28.960080Z",
     "shell.execute_reply": "2022-03-22T18:55:28.959357Z"
    },
    "papermill": {
     "duration": 0.056499,
     "end_time": "2022-03-22T18:55:28.960234",
     "exception": false,
     "start_time": "2022-03-22T18:55:28.903735",
     "status": "completed"
    },
    "tags": []
   },
   "outputs": [],
   "source": [
    "def add_dataset(\n",
    "    labels,\n",
    "    domains,\n",
    "    pickle_path,\n",
    "    x_transforms,\n",
    "    episode_transforms,\n",
    "    domain_prefix,\n",
    "    num_examples_per_domain_per_label,\n",
    "    source_or_target_dataset:str,\n",
    "    iterator_seed=p.seed,\n",
    "    dataset_seed=p.dataset_seed,\n",
    "    n_shot=p.n_shot,\n",
    "    n_way=p.n_way,\n",
    "    n_query=p.n_query,\n",
    "    train_val_test_k_factors=(p.train_k_factor,p.val_k_factor,p.test_k_factor),\n",
    "):\n",
    "   \n",
    "    if x_transforms == []: x_transform = None\n",
    "    else: x_transform = get_chained_transform(x_transforms)\n",
    "    \n",
    "    if episode_transforms == []: episode_transform = None\n",
    "    else: raise Exception(\"episode_transforms not implemented\")\n",
    "    \n",
    "    episode_transform = lambda tup, _prefix=domain_prefix: (_prefix + str(tup[0]), tup[1])\n",
    "\n",
    "\n",
    "    eaf = Episodic_Accessor_Factory(\n",
    "        labels=labels,\n",
    "        domains=domains,\n",
    "        num_examples_per_domain_per_label=num_examples_per_domain_per_label,\n",
    "        iterator_seed=iterator_seed,\n",
    "        dataset_seed=dataset_seed,\n",
    "        n_shot=n_shot,\n",
    "        n_way=n_way,\n",
    "        n_query=n_query,\n",
    "        train_val_test_k_factors=train_val_test_k_factors,\n",
    "        pickle_path=pickle_path,\n",
    "        x_transform_func=x_transform,\n",
    "    )\n",
    "\n",
    "    train, val, test = eaf.get_train(), eaf.get_val(), eaf.get_test()\n",
    "    train = Lazy_Iterable_Wrapper(train, episode_transform)\n",
    "    val = Lazy_Iterable_Wrapper(val, episode_transform)\n",
    "    test = Lazy_Iterable_Wrapper(test, episode_transform)\n",
    "\n",
    "    if source_or_target_dataset==\"source\":\n",
    "        train_original_source.append(train)\n",
    "        val_original_source.append(val)\n",
    "        test_original_source.append(test)\n",
    "\n",
    "        p.domains_source.extend(\n",
    "            [domain_prefix + str(u) for u in domains]\n",
    "        )\n",
    "    elif source_or_target_dataset==\"target\":\n",
    "        train_original_target.append(train)\n",
    "        val_original_target.append(val)\n",
    "        test_original_target.append(test)\n",
    "        p.domains_target.extend(\n",
    "            [domain_prefix + str(u) for u in domains]\n",
    "        )\n",
    "    else:\n",
    "        raise Exception(f\"invalid source_or_target_dataset: {source_or_target_dataset}\")\n",
    "    "
   ]
  },
  {
   "cell_type": "code",
   "execution_count": 13,
   "id": "fe266617",
   "metadata": {
    "execution": {
     "iopub.execute_input": "2022-03-22T18:55:29.014327Z",
     "iopub.status.busy": "2022-03-22T18:55:29.013773Z",
     "iopub.status.idle": "2022-03-22T18:56:13.854837Z",
     "shell.execute_reply": "2022-03-22T18:56:13.854374Z"
    },
    "papermill": {
     "duration": 44.865585,
     "end_time": "2022-03-22T18:56:13.854948",
     "exception": false,
     "start_time": "2022-03-22T18:55:28.989363",
     "status": "completed"
    },
    "tags": []
   },
   "outputs": [],
   "source": [
    "for ds in p.datasets:\n",
    "    add_dataset(**ds)"
   ]
  },
  {
   "cell_type": "code",
   "execution_count": 14,
   "id": "b90d65ac",
   "metadata": {
    "execution": {
     "iopub.execute_input": "2022-03-22T18:56:13.907237Z",
     "iopub.status.busy": "2022-03-22T18:56:13.906307Z",
     "iopub.status.idle": "2022-03-22T18:56:13.930306Z",
     "shell.execute_reply": "2022-03-22T18:56:13.929434Z"
    },
    "papermill": {
     "duration": 0.049055,
     "end_time": "2022-03-22T18:56:13.930501",
     "exception": false,
     "start_time": "2022-03-22T18:56:13.881446",
     "status": "completed"
    },
    "tags": []
   },
   "outputs": [],
   "source": [
    "# from steves_utils.CORES.utils import (\n",
    "#     ALL_NODES,\n",
    "#     ALL_NODES_MINIMUM_1000_EXAMPLES,\n",
    "#     ALL_DAYS\n",
    "# )\n",
    "\n",
    "# add_dataset(\n",
    "#     labels=ALL_NODES,\n",
    "#     domains = ALL_DAYS,\n",
    "#     num_examples_per_domain_per_label=100,\n",
    "#     pickle_path=os.path.join(get_datasets_base_path(), \"cores.stratified_ds.2022A.pkl\"),\n",
    "#     source_or_target_dataset=\"target\",\n",
    "#     x_transform_func=global_x_transform_func,\n",
    "#     domain_modifier=lambda u: f\"cores_{u}\"\n",
    "# )"
   ]
  },
  {
   "cell_type": "code",
   "execution_count": 15,
   "id": "76db484d",
   "metadata": {
    "execution": {
     "iopub.execute_input": "2022-03-22T18:56:13.981744Z",
     "iopub.status.busy": "2022-03-22T18:56:13.981348Z",
     "iopub.status.idle": "2022-03-22T18:56:14.002018Z",
     "shell.execute_reply": "2022-03-22T18:56:14.001205Z"
    },
    "papermill": {
     "duration": 0.044996,
     "end_time": "2022-03-22T18:56:14.002204",
     "exception": false,
     "start_time": "2022-03-22T18:56:13.957208",
     "status": "completed"
    },
    "tags": []
   },
   "outputs": [],
   "source": [
    "# from steves_utils.ORACLE.utils_v2 import (\n",
    "#     ALL_DISTANCES_FEET,\n",
    "#     ALL_RUNS,\n",
    "#     ALL_SERIAL_NUMBERS,\n",
    "# )\n",
    "\n",
    "\n",
    "# add_dataset(\n",
    "#     labels=ALL_SERIAL_NUMBERS,\n",
    "#     domains = list(set(ALL_DISTANCES_FEET) - {2,62}),\n",
    "#     num_examples_per_domain_per_label=100,\n",
    "#     pickle_path=os.path.join(get_datasets_base_path(), \"oracle.Run2_framed_2000Examples_stratified_ds.2022A.pkl\"),\n",
    "#     source_or_target_dataset=\"source\",\n",
    "#     x_transform_func=global_x_transform_func,\n",
    "#     domain_modifier=lambda u: f\"oracle1_{u}\"\n",
    "# )\n"
   ]
  },
  {
   "cell_type": "code",
   "execution_count": 16,
   "id": "97dea9d2",
   "metadata": {
    "execution": {
     "iopub.execute_input": "2022-03-22T18:56:14.054697Z",
     "iopub.status.busy": "2022-03-22T18:56:14.054311Z",
     "iopub.status.idle": "2022-03-22T18:56:14.071909Z",
     "shell.execute_reply": "2022-03-22T18:56:14.071055Z"
    },
    "papermill": {
     "duration": 0.042775,
     "end_time": "2022-03-22T18:56:14.072097",
     "exception": false,
     "start_time": "2022-03-22T18:56:14.029322",
     "status": "completed"
    },
    "tags": []
   },
   "outputs": [],
   "source": [
    "# from steves_utils.ORACLE.utils_v2 import (\n",
    "#     ALL_DISTANCES_FEET,\n",
    "#     ALL_RUNS,\n",
    "#     ALL_SERIAL_NUMBERS,\n",
    "# )\n",
    "\n",
    "\n",
    "# add_dataset(\n",
    "#     labels=ALL_SERIAL_NUMBERS,\n",
    "#     domains = list(set(ALL_DISTANCES_FEET) - {2,62,56}),\n",
    "#     num_examples_per_domain_per_label=100,\n",
    "#     pickle_path=os.path.join(get_datasets_base_path(), \"oracle.Run2_framed_2000Examples_stratified_ds.2022A.pkl\"),\n",
    "#     source_or_target_dataset=\"source\",\n",
    "#     x_transform_func=global_x_transform_func,\n",
    "#     domain_modifier=lambda u: f\"oracle2_{u}\"\n",
    "# )"
   ]
  },
  {
   "cell_type": "code",
   "execution_count": 17,
   "id": "6f289866",
   "metadata": {
    "execution": {
     "iopub.execute_input": "2022-03-22T18:56:14.134226Z",
     "iopub.status.busy": "2022-03-22T18:56:14.133389Z",
     "iopub.status.idle": "2022-03-22T18:56:14.146126Z",
     "shell.execute_reply": "2022-03-22T18:56:14.145304Z"
    },
    "papermill": {
     "duration": 0.045556,
     "end_time": "2022-03-22T18:56:14.146317",
     "exception": false,
     "start_time": "2022-03-22T18:56:14.100761",
     "status": "completed"
    },
    "tags": []
   },
   "outputs": [],
   "source": [
    "# add_dataset(\n",
    "#     labels=list(range(19)),\n",
    "#     domains = [0,1,2],\n",
    "#     num_examples_per_domain_per_label=100,\n",
    "#     pickle_path=os.path.join(get_datasets_base_path(), \"metehan.stratified_ds.2022A.pkl\"),\n",
    "#     source_or_target_dataset=\"target\",\n",
    "#     x_transform_func=global_x_transform_func,\n",
    "#     domain_modifier=lambda u: f\"met_{u}\"\n",
    "# )"
   ]
  },
  {
   "cell_type": "code",
   "execution_count": 18,
   "id": "86a863c3",
   "metadata": {
    "execution": {
     "iopub.execute_input": "2022-03-22T18:56:14.200744Z",
     "iopub.status.busy": "2022-03-22T18:56:14.199853Z",
     "iopub.status.idle": "2022-03-22T18:56:14.222364Z",
     "shell.execute_reply": "2022-03-22T18:56:14.221559Z"
    },
    "papermill": {
     "duration": 0.048731,
     "end_time": "2022-03-22T18:56:14.222565",
     "exception": false,
     "start_time": "2022-03-22T18:56:14.173834",
     "status": "completed"
    },
    "tags": []
   },
   "outputs": [],
   "source": [
    "# # from steves_utils.wisig.utils import (\n",
    "# #     ALL_NODES_MINIMUM_100_EXAMPLES,\n",
    "# #     ALL_NODES_MINIMUM_500_EXAMPLES,\n",
    "# #     ALL_NODES_MINIMUM_1000_EXAMPLES,\n",
    "# #     ALL_DAYS\n",
    "# # )\n",
    "\n",
    "# import steves_utils.wisig.utils as wisig\n",
    "\n",
    "\n",
    "# add_dataset(\n",
    "#     labels=wisig.ALL_NODES_MINIMUM_100_EXAMPLES,\n",
    "#     domains = wisig.ALL_DAYS,\n",
    "#     num_examples_per_domain_per_label=100,\n",
    "#     pickle_path=os.path.join(get_datasets_base_path(), \"wisig.node3-19.stratified_ds.2022A.pkl\"),\n",
    "#     source_or_target_dataset=\"target\",\n",
    "#     x_transform_func=global_x_transform_func,\n",
    "#     domain_modifier=lambda u: f\"wisig_{u}\"\n",
    "# )"
   ]
  },
  {
   "cell_type": "code",
   "execution_count": 19,
   "id": "fd5442bc",
   "metadata": {
    "execution": {
     "iopub.execute_input": "2022-03-22T18:56:14.276598Z",
     "iopub.status.busy": "2022-03-22T18:56:14.276157Z",
     "iopub.status.idle": "2022-03-22T18:56:14.295818Z",
     "shell.execute_reply": "2022-03-22T18:56:14.294929Z"
    },
    "papermill": {
     "duration": 0.046357,
     "end_time": "2022-03-22T18:56:14.296016",
     "exception": false,
     "start_time": "2022-03-22T18:56:14.249659",
     "status": "completed"
    },
    "tags": []
   },
   "outputs": [],
   "source": [
    "###################################\n",
    "# Build the dataset\n",
    "###################################\n",
    "train_original_source = Iterable_Aggregator(train_original_source, p.seed)\n",
    "val_original_source = Iterable_Aggregator(val_original_source, p.seed)\n",
    "test_original_source = Iterable_Aggregator(test_original_source, p.seed)\n",
    "\n",
    "\n",
    "train_original_target = Iterable_Aggregator(train_original_target, p.seed)\n",
    "val_original_target = Iterable_Aggregator(val_original_target, p.seed)\n",
    "test_original_target = Iterable_Aggregator(test_original_target, p.seed)\n",
    "\n",
    "# For CNN We only use X and Y. And we only train on the source.\n",
    "# Properly form the data using a transform lambda and Lazy_Iterable_Wrapper. Finally wrap them in a dataloader\n",
    "\n",
    "transform_lambda = lambda ex: ex[1] # Original is (<domain>, <episode>) so we strip down to episode only\n",
    "\n",
    "train_processed_source = Lazy_Iterable_Wrapper(train_original_source, transform_lambda)\n",
    "val_processed_source   = Lazy_Iterable_Wrapper(val_original_source, transform_lambda)\n",
    "test_processed_source  = Lazy_Iterable_Wrapper(test_original_source, transform_lambda)\n",
    "\n",
    "train_processed_target = Lazy_Iterable_Wrapper(train_original_target, transform_lambda)\n",
    "val_processed_target   = Lazy_Iterable_Wrapper(val_original_target, transform_lambda)\n",
    "test_processed_target  = Lazy_Iterable_Wrapper(test_original_target, transform_lambda)\n",
    "\n",
    "datasets = EasyDict({\n",
    "    \"source\": {\n",
    "        \"original\": {\"train\":train_original_source, \"val\":val_original_source, \"test\":test_original_source},\n",
    "        \"processed\": {\"train\":train_processed_source, \"val\":val_processed_source, \"test\":test_processed_source}\n",
    "    },\n",
    "    \"target\": {\n",
    "        \"original\": {\"train\":train_original_target, \"val\":val_original_target, \"test\":test_original_target},\n",
    "        \"processed\": {\"train\":train_processed_target, \"val\":val_processed_target, \"test\":test_processed_target}\n",
    "    },\n",
    "})"
   ]
  },
  {
   "cell_type": "code",
   "execution_count": 20,
   "id": "5b3c01fc",
   "metadata": {
    "execution": {
     "iopub.execute_input": "2022-03-22T18:56:14.354712Z",
     "iopub.status.busy": "2022-03-22T18:56:14.353566Z",
     "iopub.status.idle": "2022-03-22T18:56:28.841945Z",
     "shell.execute_reply": "2022-03-22T18:56:28.841405Z"
    },
    "papermill": {
     "duration": 14.517106,
     "end_time": "2022-03-22T18:56:28.842076",
     "exception": false,
     "start_time": "2022-03-22T18:56:14.324970",
     "status": "completed"
    },
    "tags": []
   },
   "outputs": [
    {
     "name": "stdout",
     "output_type": "stream",
     "text": [
      "{'ORACLE.run1_26', 'ORACLE.run1_8', 'ORACLE.run1_14', 'ORACLE.run1_38', 'ORACLE.run1_50', 'ORACLE.run1_32', 'ORACLE.run1_44', 'ORACLE.run1_20'}\n"
     ]
    },
    {
     "name": "stdout",
     "output_type": "stream",
     "text": [
      "{'CORES_1', 'CORES_2', 'CORES_5', 'CORES_4', 'CORES_3'}\n"
     ]
    },
    {
     "name": "stdout",
     "output_type": "stream",
     "text": [
      "tensor([[[-0.8050, -0.5750, -0.4408,  ...,  0.0000, -0.0767, -0.0575],\n",
      "         [-0.0383, -0.5558,  1.2267,  ...,  0.0958,  1.2075,  1.0350]],\n",
      "\n",
      "        [[ 0.7685,  1.2103,  0.4419,  ...,  1.0758,  1.3448,  0.6340],\n",
      "         [-0.6724,  0.3650,  1.2487,  ...,  0.9029, -0.1921,  0.3458]],\n",
      "\n",
      "        [[ 0.3968, -2.0408, -0.4535,  ..., -0.1134, -0.0945,  0.4724],\n",
      "         [ 0.4157, -0.0945, -0.3590,  ..., -0.9826, -1.7007, -1.1149]],\n",
      "\n",
      "        ...,\n",
      "\n",
      "        [[ 1.2230,  0.7923, -0.1206,  ...,  0.6890, -0.2584,  0.2928],\n",
      "         [-1.1885, -0.9818,  0.2411,  ..., -1.0679, -0.2928, -1.4986]],\n",
      "\n",
      "        [[ 0.7245, -0.7076,  0.5054,  ..., -1.3816,  0.3370,  1.6174],\n",
      "         [-0.2527,  0.8593, -0.2359,  ...,  0.8087,  0.5223, -0.2190]],\n",
      "\n",
      "        [[-0.1196, -0.8200, -0.3587,  ...,  0.1025, -0.6662, -0.2904],\n",
      "         [ 0.0171,  0.3075, -0.8029,  ..., -1.9133, -0.8029,  0.7346]]])\n"
     ]
    }
   ],
   "source": [
    "from steves_utils.transforms import get_average_magnitude, get_average_power\n",
    "\n",
    "print(set([u for u,_ in val_original_source]))\n",
    "print(set([u for u,_ in val_original_target]))\n",
    "\n",
    "s_x, s_y, q_x, q_y, _ = next(iter(train_processed_source))\n",
    "print(s_x)\n",
    "\n",
    "# for ds in [\n",
    "#     train_processed_source,\n",
    "#     val_processed_source,\n",
    "#     test_processed_source,\n",
    "#     train_processed_target,\n",
    "#     val_processed_target,\n",
    "#     test_processed_target\n",
    "# ]:\n",
    "#     for s_x, s_y, q_x, q_y, _ in ds:\n",
    "#         for X in (s_x, q_x):\n",
    "#             for x in X:\n",
    "#                 assert np.isclose(get_average_magnitude(x.numpy()), 1.0)\n",
    "#                 assert np.isclose(get_average_power(x.numpy()), 1.0)\n",
    "                "
   ]
  },
  {
   "cell_type": "code",
   "execution_count": 21,
   "id": "bbdacba1",
   "metadata": {
    "execution": {
     "iopub.execute_input": "2022-03-22T18:56:28.894940Z",
     "iopub.status.busy": "2022-03-22T18:56:28.894442Z",
     "iopub.status.idle": "2022-03-22T18:56:29.164313Z",
     "shell.execute_reply": "2022-03-22T18:56:29.163931Z"
    },
    "papermill": {
     "duration": 0.298034,
     "end_time": "2022-03-22T18:56:29.164417",
     "exception": false,
     "start_time": "2022-03-22T18:56:28.866383",
     "status": "completed"
    },
    "tags": []
   },
   "outputs": [
    {
     "name": "stdout",
     "output_type": "stream",
     "text": [
      "(2, 256)\n"
     ]
    }
   ],
   "source": [
    "###################################\n",
    "# Build the model\n",
    "###################################\n",
    "# easfsl only wants a tuple for the shape\n",
    "model = Steves_Prototypical_Network(x_net, device=p.device, x_shape=tuple(p.x_shape))\n",
    "optimizer = Adam(params=model.parameters(), lr=p.lr)"
   ]
  },
  {
   "cell_type": "code",
   "execution_count": 22,
   "id": "22b39ac5",
   "metadata": {
    "execution": {
     "iopub.execute_input": "2022-03-22T18:56:29.213597Z",
     "iopub.status.busy": "2022-03-22T18:56:29.213156Z",
     "iopub.status.idle": "2022-03-22T19:24:22.664723Z",
     "shell.execute_reply": "2022-03-22T19:24:22.664379Z"
    },
    "papermill": {
     "duration": 1673.477402,
     "end_time": "2022-03-22T19:24:22.664806",
     "exception": false,
     "start_time": "2022-03-22T18:56:29.187404",
     "status": "completed"
    },
    "tags": []
   },
   "outputs": [
    {
     "name": "stdout",
     "output_type": "stream",
     "text": [
      "epoch: 1, [batch: 1 / 6720], examples_per_second: 32.3894, train_label_loss: 2.7858, \n"
     ]
    },
    {
     "name": "stdout",
     "output_type": "stream",
     "text": [
      "epoch: 1, [batch: 672 / 6720], examples_per_second: 3099.8818, train_label_loss: 2.6910, \n"
     ]
    },
    {
     "name": "stdout",
     "output_type": "stream",
     "text": [
      "epoch: 1, [batch: 1344 / 6720], examples_per_second: 3300.1548, train_label_loss: 1.6188, \n"
     ]
    },
    {
     "name": "stdout",
     "output_type": "stream",
     "text": [
      "epoch: 1, [batch: 2016 / 6720], examples_per_second: 3360.4262, train_label_loss: 1.4803, \n"
     ]
    },
    {
     "name": "stdout",
     "output_type": "stream",
     "text": [
      "epoch: 1, [batch: 2688 / 6720], examples_per_second: 3375.7221, train_label_loss: 1.3145, \n"
     ]
    },
    {
     "name": "stdout",
     "output_type": "stream",
     "text": [
      "epoch: 1, [batch: 3360 / 6720], examples_per_second: 2978.0693, train_label_loss: 1.4256, \n"
     ]
    },
    {
     "name": "stdout",
     "output_type": "stream",
     "text": [
      "epoch: 1, [batch: 4032 / 6720], examples_per_second: 2976.3068, train_label_loss: 1.0471, \n"
     ]
    },
    {
     "name": "stdout",
     "output_type": "stream",
     "text": [
      "epoch: 1, [batch: 4704 / 6720], examples_per_second: 3002.6162, train_label_loss: 1.0231, \n"
     ]
    },
    {
     "name": "stdout",
     "output_type": "stream",
     "text": [
      "epoch: 1, [batch: 5376 / 6720], examples_per_second: 2959.4235, train_label_loss: 0.8299, \n"
     ]
    },
    {
     "name": "stdout",
     "output_type": "stream",
     "text": [
      "epoch: 1, [batch: 6048 / 6720], examples_per_second: 3000.8178, train_label_loss: 0.7414, \n"
     ]
    },
    {
     "name": "stdout",
     "output_type": "stream",
     "text": [
      "=============================================================\n",
      "epoch: 1, source_val_acc_label: 0.5390, target_val_acc_label: 0.9513, source_val_label_loss: 1.1957, target_val_label_loss: 0.1599, \n",
      "=============================================================\n"
     ]
    },
    {
     "name": "stdout",
     "output_type": "stream",
     "text": [
      "New best\n"
     ]
    },
    {
     "name": "stdout",
     "output_type": "stream",
     "text": [
      "epoch: 2, [batch: 1 / 6720], examples_per_second: 2.8033, train_label_loss: 0.6198, \n"
     ]
    },
    {
     "name": "stdout",
     "output_type": "stream",
     "text": [
      "epoch: 2, [batch: 672 / 6720], examples_per_second: 2969.6408, train_label_loss: 1.7172, \n"
     ]
    },
    {
     "name": "stdout",
     "output_type": "stream",
     "text": [
      "epoch: 2, [batch: 1344 / 6720], examples_per_second: 3390.3122, train_label_loss: 1.4946, \n"
     ]
    },
    {
     "name": "stdout",
     "output_type": "stream",
     "text": [
      "epoch: 2, [batch: 2016 / 6720], examples_per_second: 3430.6224, train_label_loss: 0.8584, \n"
     ]
    },
    {
     "name": "stdout",
     "output_type": "stream",
     "text": [
      "epoch: 2, [batch: 2688 / 6720], examples_per_second: 3378.7216, train_label_loss: 0.5164, \n"
     ]
    },
    {
     "name": "stdout",
     "output_type": "stream",
     "text": [
      "epoch: 2, [batch: 3360 / 6720], examples_per_second: 3026.3017, train_label_loss: 1.2585, \n"
     ]
    },
    {
     "name": "stdout",
     "output_type": "stream",
     "text": [
      "epoch: 2, [batch: 4032 / 6720], examples_per_second: 2976.1426, train_label_loss: 1.4409, \n"
     ]
    },
    {
     "name": "stdout",
     "output_type": "stream",
     "text": [
      "epoch: 2, [batch: 4704 / 6720], examples_per_second: 2963.5164, train_label_loss: 0.6605, \n"
     ]
    },
    {
     "name": "stdout",
     "output_type": "stream",
     "text": [
      "epoch: 2, [batch: 5376 / 6720], examples_per_second: 2992.8760, train_label_loss: 0.5733, \n"
     ]
    },
    {
     "name": "stdout",
     "output_type": "stream",
     "text": [
      "epoch: 2, [batch: 6048 / 6720], examples_per_second: 3015.3916, train_label_loss: 0.8816, \n"
     ]
    },
    {
     "name": "stdout",
     "output_type": "stream",
     "text": [
      "=============================================================\n",
      "epoch: 2, source_val_acc_label: 0.5928, target_val_acc_label: 0.9643, source_val_label_loss: 1.0692, target_val_label_loss: 0.1571, \n",
      "=============================================================\n"
     ]
    },
    {
     "name": "stdout",
     "output_type": "stream",
     "text": [
      "New best\n"
     ]
    },
    {
     "name": "stdout",
     "output_type": "stream",
     "text": [
      "epoch: 3, [batch: 1 / 6720], examples_per_second: 2.8416, train_label_loss: 1.3698, \n"
     ]
    },
    {
     "name": "stdout",
     "output_type": "stream",
     "text": [
      "epoch: 3, [batch: 672 / 6720], examples_per_second: 3060.3018, train_label_loss: 0.8350, \n"
     ]
    },
    {
     "name": "stdout",
     "output_type": "stream",
     "text": [
      "epoch: 3, [batch: 1344 / 6720], examples_per_second: 3383.6599, train_label_loss: 0.6178, \n"
     ]
    },
    {
     "name": "stdout",
     "output_type": "stream",
     "text": [
      "epoch: 3, [batch: 2016 / 6720], examples_per_second: 3456.1009, train_label_loss: 0.5688, \n"
     ]
    },
    {
     "name": "stdout",
     "output_type": "stream",
     "text": [
      "epoch: 3, [batch: 2688 / 6720], examples_per_second: 3479.0275, train_label_loss: 0.6527, \n"
     ]
    },
    {
     "name": "stdout",
     "output_type": "stream",
     "text": [
      "epoch: 3, [batch: 3360 / 6720], examples_per_second: 3054.5559, train_label_loss: 1.0346, \n"
     ]
    },
    {
     "name": "stdout",
     "output_type": "stream",
     "text": [
      "epoch: 3, [batch: 4032 / 6720], examples_per_second: 3020.0019, train_label_loss: 0.6494, \n"
     ]
    },
    {
     "name": "stdout",
     "output_type": "stream",
     "text": [
      "epoch: 3, [batch: 4704 / 6720], examples_per_second: 2993.4746, train_label_loss: 0.5915, \n"
     ]
    },
    {
     "name": "stdout",
     "output_type": "stream",
     "text": [
      "epoch: 3, [batch: 5376 / 6720], examples_per_second: 3000.1212, train_label_loss: 1.0353, \n"
     ]
    },
    {
     "name": "stdout",
     "output_type": "stream",
     "text": [
      "epoch: 3, [batch: 6048 / 6720], examples_per_second: 3014.1994, train_label_loss: 0.4668, \n"
     ]
    },
    {
     "name": "stdout",
     "output_type": "stream",
     "text": [
      "=============================================================\n",
      "epoch: 3, source_val_acc_label: 0.5998, target_val_acc_label: 0.9646, source_val_label_loss: 1.0704, target_val_label_loss: 0.1778, \n",
      "=============================================================\n"
     ]
    },
    {
     "name": "stdout",
     "output_type": "stream",
     "text": [
      "New best\n"
     ]
    },
    {
     "name": "stdout",
     "output_type": "stream",
     "text": [
      "epoch: 4, [batch: 1 / 6720], examples_per_second: 2.8275, train_label_loss: 0.8691, \n"
     ]
    },
    {
     "name": "stdout",
     "output_type": "stream",
     "text": [
      "epoch: 4, [batch: 672 / 6720], examples_per_second: 2974.0773, train_label_loss: 0.7891, \n"
     ]
    },
    {
     "name": "stdout",
     "output_type": "stream",
     "text": [
      "epoch: 4, [batch: 1344 / 6720], examples_per_second: 3307.6602, train_label_loss: 0.5501, \n"
     ]
    },
    {
     "name": "stdout",
     "output_type": "stream",
     "text": [
      "epoch: 4, [batch: 2016 / 6720], examples_per_second: 3432.8542, train_label_loss: 0.7323, \n"
     ]
    },
    {
     "name": "stdout",
     "output_type": "stream",
     "text": [
      "epoch: 4, [batch: 2688 / 6720], examples_per_second: 3403.8422, train_label_loss: 0.9326, \n"
     ]
    },
    {
     "name": "stdout",
     "output_type": "stream",
     "text": [
      "epoch: 4, [batch: 3360 / 6720], examples_per_second: 2967.9253, train_label_loss: 0.8793, \n"
     ]
    },
    {
     "name": "stdout",
     "output_type": "stream",
     "text": [
      "epoch: 4, [batch: 4032 / 6720], examples_per_second: 2988.6002, train_label_loss: 1.0593, \n"
     ]
    },
    {
     "name": "stdout",
     "output_type": "stream",
     "text": [
      "epoch: 4, [batch: 4704 / 6720], examples_per_second: 2956.5937, train_label_loss: 0.7899, \n"
     ]
    },
    {
     "name": "stdout",
     "output_type": "stream",
     "text": [
      "epoch: 4, [batch: 5376 / 6720], examples_per_second: 2981.8123, train_label_loss: 0.7248, \n"
     ]
    },
    {
     "name": "stdout",
     "output_type": "stream",
     "text": [
      "epoch: 4, [batch: 6048 / 6720], examples_per_second: 2972.6656, train_label_loss: 0.8688, \n"
     ]
    },
    {
     "name": "stdout",
     "output_type": "stream",
     "text": [
      "=============================================================\n",
      "epoch: 4, source_val_acc_label: 0.6117, target_val_acc_label: 0.9651, source_val_label_loss: 1.0754, target_val_label_loss: 0.1973, \n",
      "=============================================================\n"
     ]
    },
    {
     "name": "stdout",
     "output_type": "stream",
     "text": [
      "New best\n"
     ]
    },
    {
     "name": "stdout",
     "output_type": "stream",
     "text": [
      "epoch: 5, [batch: 1 / 6720], examples_per_second: 2.8385, train_label_loss: 0.6419, \n"
     ]
    },
    {
     "name": "stdout",
     "output_type": "stream",
     "text": [
      "epoch: 5, [batch: 672 / 6720], examples_per_second: 3389.0569, train_label_loss: 0.7396, \n"
     ]
    },
    {
     "name": "stdout",
     "output_type": "stream",
     "text": [
      "epoch: 5, [batch: 1344 / 6720], examples_per_second: 3680.2607, train_label_loss: 0.5730, \n"
     ]
    },
    {
     "name": "stdout",
     "output_type": "stream",
     "text": [
      "epoch: 5, [batch: 2016 / 6720], examples_per_second: 3828.9751, train_label_loss: 0.2898, \n"
     ]
    },
    {
     "name": "stdout",
     "output_type": "stream",
     "text": [
      "epoch: 5, [batch: 2688 / 6720], examples_per_second: 3824.0644, train_label_loss: 0.6493, \n"
     ]
    },
    {
     "name": "stdout",
     "output_type": "stream",
     "text": [
      "epoch: 5, [batch: 3360 / 6720], examples_per_second: 3432.5761, train_label_loss: 0.5078, \n"
     ]
    },
    {
     "name": "stdout",
     "output_type": "stream",
     "text": [
      "epoch: 5, [batch: 4032 / 6720], examples_per_second: 3481.9409, train_label_loss: 0.5199, \n"
     ]
    },
    {
     "name": "stdout",
     "output_type": "stream",
     "text": [
      "epoch: 5, [batch: 4704 / 6720], examples_per_second: 3830.2720, train_label_loss: 0.1824, \n"
     ]
    },
    {
     "name": "stdout",
     "output_type": "stream",
     "text": [
      "epoch: 5, [batch: 5376 / 6720], examples_per_second: 3946.0972, train_label_loss: 0.4609, \n"
     ]
    },
    {
     "name": "stdout",
     "output_type": "stream",
     "text": [
      "epoch: 5, [batch: 6048 / 6720], examples_per_second: 3002.3476, train_label_loss: 0.5318, \n"
     ]
    },
    {
     "name": "stdout",
     "output_type": "stream",
     "text": [
      "=============================================================\n",
      "epoch: 5, source_val_acc_label: 0.6115, target_val_acc_label: 0.9602, source_val_label_loss: 1.1103, target_val_label_loss: 0.2404, \n",
      "=============================================================\n"
     ]
    },
    {
     "name": "stdout",
     "output_type": "stream",
     "text": [
      "epoch: 6, [batch: 1 / 6720], examples_per_second: 2.8670, train_label_loss: 0.7610, \n"
     ]
    },
    {
     "name": "stdout",
     "output_type": "stream",
     "text": [
      "epoch: 6, [batch: 672 / 6720], examples_per_second: 3023.1153, train_label_loss: 0.5865, \n"
     ]
    },
    {
     "name": "stdout",
     "output_type": "stream",
     "text": [
      "epoch: 6, [batch: 1344 / 6720], examples_per_second: 3249.5517, train_label_loss: 0.7871, \n"
     ]
    },
    {
     "name": "stdout",
     "output_type": "stream",
     "text": [
      "epoch: 6, [batch: 2016 / 6720], examples_per_second: 3438.4693, train_label_loss: 0.5306, \n"
     ]
    },
    {
     "name": "stdout",
     "output_type": "stream",
     "text": [
      "epoch: 6, [batch: 2688 / 6720], examples_per_second: 3512.1318, train_label_loss: 0.4488, \n"
     ]
    },
    {
     "name": "stdout",
     "output_type": "stream",
     "text": [
      "epoch: 6, [batch: 3360 / 6720], examples_per_second: 2980.3637, train_label_loss: 0.2662, \n"
     ]
    },
    {
     "name": "stdout",
     "output_type": "stream",
     "text": [
      "epoch: 6, [batch: 4032 / 6720], examples_per_second: 2981.3434, train_label_loss: 0.8469, \n"
     ]
    },
    {
     "name": "stdout",
     "output_type": "stream",
     "text": [
      "epoch: 6, [batch: 4704 / 6720], examples_per_second: 3007.5260, train_label_loss: 0.8568, \n"
     ]
    },
    {
     "name": "stdout",
     "output_type": "stream",
     "text": [
      "epoch: 6, [batch: 5376 / 6720], examples_per_second: 2977.5975, train_label_loss: 0.3473, \n"
     ]
    },
    {
     "name": "stdout",
     "output_type": "stream",
     "text": [
      "epoch: 6, [batch: 6048 / 6720], examples_per_second: 2996.7564, train_label_loss: 0.8565, \n"
     ]
    },
    {
     "name": "stdout",
     "output_type": "stream",
     "text": [
      "=============================================================\n",
      "epoch: 6, source_val_acc_label: 0.6032, target_val_acc_label: 0.9603, source_val_label_loss: 1.1790, target_val_label_loss: 0.2593, \n",
      "=============================================================\n"
     ]
    },
    {
     "name": "stdout",
     "output_type": "stream",
     "text": [
      "epoch: 7, [batch: 1 / 6720], examples_per_second: 2.8164, train_label_loss: 0.6124, \n"
     ]
    },
    {
     "name": "stdout",
     "output_type": "stream",
     "text": [
      "epoch: 7, [batch: 672 / 6720], examples_per_second: 2989.6390, train_label_loss: 0.3030, \n"
     ]
    },
    {
     "name": "stdout",
     "output_type": "stream",
     "text": [
      "epoch: 7, [batch: 1344 / 6720], examples_per_second: 3265.9497, train_label_loss: 0.9419, \n"
     ]
    },
    {
     "name": "stdout",
     "output_type": "stream",
     "text": [
      "epoch: 7, [batch: 2016 / 6720], examples_per_second: 3413.9936, train_label_loss: 0.4885, \n"
     ]
    },
    {
     "name": "stdout",
     "output_type": "stream",
     "text": [
      "epoch: 7, [batch: 2688 / 6720], examples_per_second: 3421.8675, train_label_loss: 0.7379, \n"
     ]
    },
    {
     "name": "stdout",
     "output_type": "stream",
     "text": [
      "epoch: 7, [batch: 3360 / 6720], examples_per_second: 2964.8210, train_label_loss: 0.8153, \n"
     ]
    },
    {
     "name": "stdout",
     "output_type": "stream",
     "text": [
      "epoch: 7, [batch: 4032 / 6720], examples_per_second: 2960.5579, train_label_loss: 0.2449, \n"
     ]
    },
    {
     "name": "stdout",
     "output_type": "stream",
     "text": [
      "epoch: 7, [batch: 4704 / 6720], examples_per_second: 3028.3127, train_label_loss: 0.6541, \n"
     ]
    },
    {
     "name": "stdout",
     "output_type": "stream",
     "text": [
      "epoch: 7, [batch: 5376 / 6720], examples_per_second: 2970.1979, train_label_loss: 0.5401, \n"
     ]
    },
    {
     "name": "stdout",
     "output_type": "stream",
     "text": [
      "epoch: 7, [batch: 6048 / 6720], examples_per_second: 2948.1088, train_label_loss: 0.6478, \n"
     ]
    },
    {
     "name": "stdout",
     "output_type": "stream",
     "text": [
      "=============================================================\n",
      "epoch: 7, source_val_acc_label: 0.6016, target_val_acc_label: 0.9591, source_val_label_loss: 1.2398, target_val_label_loss: 0.2867, \n",
      "=============================================================\n"
     ]
    },
    {
     "name": "stdout",
     "output_type": "stream",
     "text": [
      "epoch: 8, [batch: 1 / 6720], examples_per_second: 2.8393, train_label_loss: 0.3072, \n"
     ]
    },
    {
     "name": "stdout",
     "output_type": "stream",
     "text": [
      "epoch: 8, [batch: 672 / 6720], examples_per_second: 2968.5397, train_label_loss: 0.7095, \n"
     ]
    },
    {
     "name": "stdout",
     "output_type": "stream",
     "text": [
      "epoch: 8, [batch: 1344 / 6720], examples_per_second: 3318.5979, train_label_loss: 0.4279, \n"
     ]
    },
    {
     "name": "stdout",
     "output_type": "stream",
     "text": [
      "epoch: 8, [batch: 2016 / 6720], examples_per_second: 3478.0004, train_label_loss: 0.7353, \n"
     ]
    },
    {
     "name": "stdout",
     "output_type": "stream",
     "text": [
      "epoch: 8, [batch: 2688 / 6720], examples_per_second: 3501.8118, train_label_loss: 0.5256, \n"
     ]
    },
    {
     "name": "stdout",
     "output_type": "stream",
     "text": [
      "epoch: 8, [batch: 3360 / 6720], examples_per_second: 2993.6941, train_label_loss: 0.3105, \n"
     ]
    },
    {
     "name": "stdout",
     "output_type": "stream",
     "text": [
      "epoch: 8, [batch: 4032 / 6720], examples_per_second: 2972.3442, train_label_loss: 0.6141, \n"
     ]
    },
    {
     "name": "stdout",
     "output_type": "stream",
     "text": [
      "epoch: 8, [batch: 4704 / 6720], examples_per_second: 2976.1325, train_label_loss: 0.1597, \n"
     ]
    },
    {
     "name": "stdout",
     "output_type": "stream",
     "text": [
      "epoch: 8, [batch: 5376 / 6720], examples_per_second: 2991.8054, train_label_loss: 0.3771, \n"
     ]
    },
    {
     "name": "stdout",
     "output_type": "stream",
     "text": [
      "epoch: 8, [batch: 6048 / 6720], examples_per_second: 3001.5027, train_label_loss: 0.5927, \n"
     ]
    },
    {
     "name": "stdout",
     "output_type": "stream",
     "text": [
      "=============================================================\n",
      "epoch: 8, source_val_acc_label: 0.6062, target_val_acc_label: 0.9579, source_val_label_loss: 1.3262, target_val_label_loss: 0.3193, \n",
      "=============================================================\n"
     ]
    },
    {
     "name": "stdout",
     "output_type": "stream",
     "text": [
      "Patience (3) exhausted\n"
     ]
    }
   ],
   "source": [
    "###################################\n",
    "# train\n",
    "###################################\n",
    "jig = PTN_Train_Eval_Test_Jig(model, p.BEST_MODEL_PATH, p.device)\n",
    "\n",
    "jig.train(\n",
    "    train_iterable=datasets.source.processed.train,\n",
    "    source_val_iterable=datasets.source.processed.val,\n",
    "    target_val_iterable=datasets.target.processed.val,\n",
    "    num_epochs=p.n_epoch,\n",
    "    num_logs_per_epoch=p.NUM_LOGS_PER_EPOCH,\n",
    "    patience=p.patience,\n",
    "    optimizer=optimizer,\n",
    "    criteria_for_best=p.criteria_for_best,\n",
    ")"
   ]
  },
  {
   "cell_type": "code",
   "execution_count": 23,
   "id": "31e8fabf",
   "metadata": {
    "execution": {
     "iopub.execute_input": "2022-03-22T19:24:22.764680Z",
     "iopub.status.busy": "2022-03-22T19:24:22.764308Z",
     "iopub.status.idle": "2022-03-22T19:24:22.798048Z",
     "shell.execute_reply": "2022-03-22T19:24:22.798553Z"
    },
    "papermill": {
     "duration": 0.087023,
     "end_time": "2022-03-22T19:24:22.798723",
     "exception": false,
     "start_time": "2022-03-22T19:24:22.711700",
     "status": "completed"
    },
    "tags": []
   },
   "outputs": [],
   "source": [
    "total_experiment_time_secs = time.time() - start_time_secs"
   ]
  },
  {
   "cell_type": "code",
   "execution_count": 24,
   "id": "87b9595b",
   "metadata": {
    "execution": {
     "iopub.execute_input": "2022-03-22T19:24:22.912131Z",
     "iopub.status.busy": "2022-03-22T19:24:22.911521Z",
     "iopub.status.idle": "2022-03-22T19:27:52.266370Z",
     "shell.execute_reply": "2022-03-22T19:27:52.267046Z"
    },
    "papermill": {
     "duration": 209.414949,
     "end_time": "2022-03-22T19:27:52.267270",
     "exception": false,
     "start_time": "2022-03-22T19:24:22.852321",
     "status": "completed"
    },
    "tags": []
   },
   "outputs": [],
   "source": [
    "###################################\n",
    "# Evaluate the model\n",
    "###################################\n",
    "source_test_label_accuracy, source_test_label_loss = jig.test(datasets.source.processed.test)\n",
    "target_test_label_accuracy, target_test_label_loss = jig.test(datasets.target.processed.test)\n",
    "\n",
    "source_val_label_accuracy, source_val_label_loss = jig.test(datasets.source.processed.val)\n",
    "target_val_label_accuracy, target_val_label_loss = jig.test(datasets.target.processed.val)\n",
    "\n",
    "history = jig.get_history()\n",
    "\n",
    "total_epochs_trained = len(history[\"epoch_indices\"])\n",
    "\n",
    "val_dl = Iterable_Aggregator((datasets.source.original.val,datasets.target.original.val))\n",
    "\n",
    "confusion = ptn_confusion_by_domain_over_dataloader(model, p.device, val_dl)\n",
    "per_domain_accuracy = per_domain_accuracy_from_confusion(confusion)\n",
    "\n",
    "# Add a key to per_domain_accuracy for if it was a source domain\n",
    "for domain, accuracy in per_domain_accuracy.items():\n",
    "    per_domain_accuracy[domain] = {\n",
    "        \"accuracy\": accuracy,\n",
    "        \"source?\": domain in p.domains_source\n",
    "    }\n",
    "\n",
    "# Do an independent accuracy assesment JUST TO BE SURE!\n",
    "# _source_test_label_accuracy = independent_accuracy_assesment(model, datasets.source.processed.test, p.device)\n",
    "# _target_test_label_accuracy = independent_accuracy_assesment(model, datasets.target.processed.test, p.device)\n",
    "# _source_val_label_accuracy = independent_accuracy_assesment(model, datasets.source.processed.val, p.device)\n",
    "# _target_val_label_accuracy = independent_accuracy_assesment(model, datasets.target.processed.val, p.device)\n",
    "\n",
    "# assert(_source_test_label_accuracy == source_test_label_accuracy)\n",
    "# assert(_target_test_label_accuracy == target_test_label_accuracy)\n",
    "# assert(_source_val_label_accuracy == source_val_label_accuracy)\n",
    "# assert(_target_val_label_accuracy == target_val_label_accuracy)\n",
    "\n",
    "experiment = {\n",
    "    \"experiment_name\": p.experiment_name,\n",
    "    \"parameters\": dict(p),\n",
    "    \"results\": {\n",
    "        \"source_test_label_accuracy\": source_test_label_accuracy,\n",
    "        \"source_test_label_loss\": source_test_label_loss,\n",
    "        \"target_test_label_accuracy\": target_test_label_accuracy,\n",
    "        \"target_test_label_loss\": target_test_label_loss,\n",
    "        \"source_val_label_accuracy\": source_val_label_accuracy,\n",
    "        \"source_val_label_loss\": source_val_label_loss,\n",
    "        \"target_val_label_accuracy\": target_val_label_accuracy,\n",
    "        \"target_val_label_loss\": target_val_label_loss,\n",
    "        \"total_epochs_trained\": total_epochs_trained,\n",
    "        \"total_experiment_time_secs\": total_experiment_time_secs,\n",
    "        \"confusion\": confusion,\n",
    "        \"per_domain_accuracy\": per_domain_accuracy,\n",
    "    },\n",
    "    \"history\": history,\n",
    "    \"dataset_metrics\": get_dataset_metrics(datasets, \"ptn\"),\n",
    "}"
   ]
  },
  {
   "cell_type": "code",
   "execution_count": 25,
   "id": "54a21829",
   "metadata": {
    "execution": {
     "iopub.execute_input": "2022-03-22T19:27:52.370381Z",
     "iopub.status.busy": "2022-03-22T19:27:52.369823Z",
     "iopub.status.idle": "2022-03-22T19:27:52.596170Z",
     "shell.execute_reply": "2022-03-22T19:27:52.596845Z"
    },
    "papermill": {
     "duration": 0.277467,
     "end_time": "2022-03-22T19:27:52.597029",
     "exception": false,
     "start_time": "2022-03-22T19:27:52.319562",
     "status": "completed"
    },
    "tags": []
   },
   "outputs": [
    {
     "data": {
      "image/png": "[encoded data removed]",
      "text/plain": [
       "<Figure size 1080x504 with 1 Axes>"
      ]
     },
     "metadata": {
      "needs_background": "light"
     },
     "output_type": "display_data"
    }
   ],
   "source": [
    "ax = get_loss_curve(experiment)\n",
    "plt.show()"
   ]
  },
  {
   "cell_type": "code",
   "execution_count": 26,
   "id": "fd8a0f60",
   "metadata": {
    "execution": {
     "iopub.execute_input": "2022-03-22T19:27:52.699081Z",
     "iopub.status.busy": "2022-03-22T19:27:52.698719Z",
     "iopub.status.idle": "2022-03-22T19:27:53.074983Z",
     "shell.execute_reply": "2022-03-22T19:27:53.075681Z"
    },
    "papermill": {
     "duration": 0.427094,
     "end_time": "2022-03-22T19:27:53.075909",
     "exception": false,
     "start_time": "2022-03-22T19:27:52.648815",
     "status": "completed"
    },
    "tags": []
   },
   "outputs": [
    {
     "data": {
      "text/plain": [
       "<AxesSubplot:title={'center':'Results'}>"
      ]
     },
     "execution_count": 26,
     "metadata": {},
     "output_type": "execute_result"
    },
    {
     "data": {
      "image/png": "[encoded data removed]",
      "text/plain": [
       "<Figure size 1080x504 with 1 Axes>"
      ]
     },
     "metadata": {
      "needs_background": "light"
     },
     "output_type": "display_data"
    }
   ],
   "source": [
    "get_results_table(experiment)"
   ]
  },
  {
   "cell_type": "code",
   "execution_count": 27,
   "id": "cf8dc689",
   "metadata": {
    "execution": {
     "iopub.execute_input": "2022-03-22T19:27:53.182757Z",
     "iopub.status.busy": "2022-03-22T19:27:53.182275Z",
     "iopub.status.idle": "2022-03-22T19:27:53.439687Z",
     "shell.execute_reply": "2022-03-22T19:27:53.440382Z"
    },
    "papermill": {
     "duration": 0.311494,
     "end_time": "2022-03-22T19:27:53.440569",
     "exception": false,
     "start_time": "2022-03-22T19:27:53.129075",
     "status": "completed"
    },
    "tags": []
   },
   "outputs": [
    {
     "data": {
      "text/plain": [
       "<AxesSubplot:title={'center':'Per Domain Validation Accuracy'}, xlabel='domain'>"
      ]
     },
     "execution_count": 27,
     "metadata": {},
     "output_type": "execute_result"
    },
    {
     "data": {
      "image/png": "[encoded data removed]",
      "text/plain": [
       "<Figure size 1080x504 with 1 Axes>"
      ]
     },
     "metadata": {
      "needs_background": "light"
     },
     "output_type": "display_data"
    }
   ],
   "source": [
    "get_domain_accuracies(experiment)"
   ]
  },
  {
   "cell_type": "code",
   "execution_count": 28,
   "id": "a74ae082",
   "metadata": {
    "execution": {
     "iopub.execute_input": "2022-03-22T19:27:53.550935Z",
     "iopub.status.busy": "2022-03-22T19:27:53.550567Z",
     "iopub.status.idle": "2022-03-22T19:27:53.573507Z",
     "shell.execute_reply": "2022-03-22T19:27:53.572704Z"
    },
    "papermill": {
     "duration": 0.077519,
     "end_time": "2022-03-22T19:27:53.573679",
     "exception": false,
     "start_time": "2022-03-22T19:27:53.496160",
     "status": "completed"
    },
    "tags": []
   },
   "outputs": [
    {
     "name": "stdout",
     "output_type": "stream",
     "text": [
      "Source Test Label Accuracy: 0.6111979166666667 Target Test Label Accuracy: 0.9669241573033708\n",
      "Source Val Label Accuracy: 0.61171875 Target Val Label Accuracy: 0.9651428571428572\n"
     ]
    }
   ],
   "source": [
    "print(\"Source Test Label Accuracy:\", experiment[\"results\"][\"source_test_label_accuracy\"], \"Target Test Label Accuracy:\", experiment[\"results\"][\"target_test_label_accuracy\"])\n",
    "print(\"Source Val Label Accuracy:\", experiment[\"results\"][\"source_val_label_accuracy\"], \"Target Val Label Accuracy:\", experiment[\"results\"][\"target_val_label_accuracy\"])"
   ]
  },
  {
   "cell_type": "code",
   "execution_count": 29,
   "id": "dacca602",
   "metadata": {
    "execution": {
     "iopub.execute_input": "2022-03-22T19:27:53.736854Z",
     "iopub.status.busy": "2022-03-22T19:27:53.736484Z",
     "iopub.status.idle": "2022-03-22T19:27:53.766174Z",
     "shell.execute_reply": "2022-03-22T19:27:53.766951Z"
    },
    "papermill": {
     "duration": 0.136158,
     "end_time": "2022-03-22T19:27:53.767156",
     "exception": false,
     "start_time": "2022-03-22T19:27:53.630998",
     "status": "completed"
    },
    "tags": [
     "experiment_json"
    ]
   },
   "outputs": [
    {
     "data": {
      "text/plain": [
       "'{\"experiment_name\": \"tl_1v2:cores-oracle.run1.limited\", \"parameters\": {\"experiment_name\": \"tl_1v2:cores-oracle.run1.limited\", \"device\": \"cuda\", \"lr\": 0.0001, \"n_shot\": 3, \"n_query\": 2, \"train_k_factor\": 3, \"val_k_factor\": 2, \"test_k_factor\": 2, \"torch_default_dtype\": \"torch.float32\", \"n_epoch\": 50, \"patience\": 3, \"criteria_for_best\": \"target_accuracy\", \"x_net\": [{\"class\": \"nnReshape\", \"kargs\": {\"shape\": [-1, 1, 2, 256]}}, {\"class\": \"Conv2d\", \"kargs\": {\"in_channels\": 1, \"out_channels\": 256, \"kernel_size\": [1, 7], \"bias\": false, \"padding\": [0, 3]}}, {\"class\": \"ReLU\", \"kargs\": {\"inplace\": true}}, {\"class\": \"BatchNorm2d\", \"kargs\": {\"num_features\": 256}}, {\"class\": \"Conv2d\", \"kargs\": {\"in_channels\": 256, \"out_channels\": 80, \"kernel_size\": [2, 7], \"bias\": true, \"padding\": [0, 3]}}, {\"class\": \"ReLU\", \"kargs\": {\"inplace\": true}}, {\"class\": \"BatchNorm2d\", \"kargs\": {\"num_features\": 80}}, {\"class\": \"Flatten\", \"kargs\": {}}, {\"class\": \"Linear\", \"kargs\": {\"in_features\": 20480, \"out_features\": 256}}, {\"class\": \"ReLU\", \"kargs\": {\"inplace\": true}}, {\"class\": \"BatchNorm1d\", \"kargs\": {\"num_features\": 256}}, {\"class\": \"Linear\", \"kargs\": {\"in_features\": 256, \"out_features\": 256}}], \"NUM_LOGS_PER_EPOCH\": 10, \"BEST_MODEL_PATH\": \"./best_model.pth\", \"n_way\": 16, \"datasets\": [{\"labels\": [\"1-10.\", \"1-11.\", \"1-15.\", \"1-16.\", \"1-17.\", \"1-18.\", \"1-19.\", \"10-4.\", \"10-7.\", \"11-1.\", \"11-14.\", \"11-17.\", \"11-20.\", \"11-7.\", \"13-20.\", \"13-8.\", \"14-10.\", \"14-11.\", \"14-14.\", \"14-7.\", \"15-1.\", \"15-20.\", \"16-1.\", \"16-16.\", \"17-10.\", \"17-11.\", \"17-2.\", \"19-1.\", \"19-16.\", \"19-19.\", \"19-20.\", \"19-3.\", \"2-10.\", \"2-11.\", \"2-17.\", \"2-18.\", \"2-20.\", \"2-3.\", \"2-4.\", \"2-5.\", \"2-6.\", \"2-7.\", \"2-8.\", \"3-13.\", \"3-18.\", \"3-3.\", \"4-1.\", \"4-10.\", \"4-11.\", \"4-19.\", \"5-5.\", \"6-15.\", \"7-10.\", \"7-14.\", \"8-18.\", \"8-20.\", \"8-3.\", \"8-8.\"], \"domains\": [1, 2, 3, 4, 5], \"num_examples_per_domain_per_label\": -1, \"pickle_path\": \"/root/csc500-main/datasets/cores.stratified_ds.2022A.pkl\", \"source_or_target_dataset\": \"target\", \"x_transforms\": [\"unit_mag\"], \"episode_transforms\": [], \"domain_prefix\": \"CORES_\"}, {\"labels\": [\"3123D52\", \"3123D65\", \"3123D79\", \"3123D80\", \"3123D54\", \"3123D70\", \"3123D7B\", \"3123D89\", \"3123D58\", \"3123D76\", \"3123D7D\", \"3123EFE\", \"3123D64\", \"3123D78\", \"3123D7E\", \"3124E4A\"], \"domains\": [32, 38, 8, 44, 14, 50, 20, 26], \"num_examples_per_domain_per_label\": 2000, \"pickle_path\": \"/root/csc500-main/datasets/oracle.Run1_10kExamples_stratified_ds.2022A.pkl\", \"source_or_target_dataset\": \"source\", \"x_transforms\": [\"unit_mag\"], \"episode_transforms\": [], \"domain_prefix\": \"ORACLE.run1_\"}], \"dataset_seed\": 500, \"seed\": 500, \"x_shape\": [2, 256], \"domains_source\": [\"ORACLE.run1_32\", \"ORACLE.run1_38\", \"ORACLE.run1_8\", \"ORACLE.run1_44\", \"ORACLE.run1_14\", \"ORACLE.run1_50\", \"ORACLE.run1_20\", \"ORACLE.run1_26\"], \"domains_target\": [\"CORES_1\", \"CORES_2\", \"CORES_3\", \"CORES_4\", \"CORES_5\"]}, \"results\": {\"source_test_label_accuracy\": 0.6111979166666667, \"source_test_label_loss\": 1.0695205926895142, \"target_test_label_accuracy\": 0.9669241573033708, \"target_test_label_loss\": 0.2337477058172226, \"source_val_label_accuracy\": 0.61171875, \"source_val_label_loss\": 1.0754486322402954, \"target_val_label_accuracy\": 0.9651428571428572, \"target_val_label_loss\": 0.19732923805713654, \"total_epochs_trained\": 8, \"total_experiment_time_secs\": 1734.0671408176422, \"confusion\": {\"ORACLE.run1_50\": {\"7\": {\"5\": 32, \"7\": 142, \"13\": 51, \"10\": 11, \"4\": 4}, \"10\": {\"10\": 206, \"7\": 12, \"0\": 12, \"8\": 7, \"13\": 2, \"5\": 1}, \"0\": {\"0\": 194, \"2\": 31, \"10\": 12, \"5\": 2, \"1\": 1}, \"11\": {\"11\": 191, \"9\": 34, \"15\": 9, \"14\": 5, \"12\": 1}, \"2\": {\"2\": 215, \"0\": 25}, \"14\": {\"14\": 222, \"12\": 14, \"9\": 2, \"11\": 2}, \"9\": {\"9\": 184, \"11\": 37, \"14\": 1, \"12\": 18}, \"13\": {\"5\": 51, \"13\": 109, \"7\": 57, \"10\": 9, \"4\": 6, \"6\": 8}, \"8\": {\"8\": 227, \"10\": 6, \"3\": 7}, \"15\": {\"15\": 167, \"1\": 46, \"11\": 8, \"4\": 18, \"6\": 1}, \"4\": {\"6\": 49, \"1\": 48, \"4\": 69, \"5\": 24, \"15\": 38, \"13\": 7, \"7\": 5}, \"5\": {\"6\": 43, \"4\": 12, \"5\": 70, \"13\": 49, \"7\": 57, \"15\": 1, \"10\": 2, \"1\": 6}, \"3\": {\"3\": 236, \"8\": 4}, \"1\": {\"15\": 60, \"6\": 29, \"1\": 112, \"4\": 37, \"11\": 2}, \"6\": {\"6\": 108, \"4\": 49, \"7\": 3, \"1\": 28, \"13\": 16, \"5\": 30, \"15\": 4, \"0\": 2}, \"12\": {\"12\": 206, \"9\": 22, \"11\": 2, \"14\": 10}}, \"ORACLE.run1_14\": {\"14\": {\"14\": 145, \"2\": 11, \"10\": 1, \"6\": 27, \"4\": 3, \"13\": 42, \"3\": 11}, \"6\": {\"13\": 76, \"6\": 106, \"14\": 39, \"2\": 19}, \"5\": {\"5\": 141, \"3\": 5, \"2\": 16, \"4\": 43, \"1\": 32, \"7\": 3}, \"15\": {\"15\": 211, \"7\": 26, \"5\": 2, \"2\": 1}, \"11\": {\"11\": 188, \"10\": 29, \"0\": 9, \"9\": 14}, \"8\": {\"8\": 240}, \"12\": {\"12\": 234, \"9\": 6}, \"1\": {\"1\": 191, \"5\": 41, \"4\": 8}, \"2\": {\"2\": 103, \"14\": 33, \"6\": 29, \"4\": 23, \"3\": 10, \"5\": 18, \"13\": 18, \"1\": 2, \"15\": 4}, \"13\": {\"2\": 19, \"13\": 85, \"6\": 85, \"14\": 44, \"3\": 1, \"10\": 1, \"5\": 4, \"4\": 1}, \"3\": {\"3\": 160, \"4\": 48, \"5\": 3, \"0\": 7, \"14\": 13, \"2\": 6, \"1\": 2, \"10\": 1}, \"0\": {\"3\": 3, \"10\": 66, \"0\": 165, \"11\": 6}, \"9\": {\"9\": 235, \"0\": 1, \"11\": 3, \"12\": 1}, \"4\": {\"3\": 41, \"4\": 127, \"5\": 49, \"2\": 14, \"1\": 8, \"14\": 1}, \"7\": {\"7\": 208, \"1\": 2, \"15\": 27, \"5\": 3}, \"10\": {\"10\": 195, \"0\": 42, \"14\": 1, \"11\": 1, \"3\": 1}}, \"ORACLE.run1_32\": {\"4\": {\"4\": 88, \"2\": 31, \"7\": 26, \"5\": 16, \"0\": 61, \"13\": 4, \"8\": 5, \"14\": 9}, \"14\": {\"13\": 24, \"11\": 69, \"5\": 17, \"7\": 44, \"14\": 60, \"4\": 13, \"0\": 4, \"2\": 7, \"3\": 2}, \"5\": {\"4\": 19, \"13\": 71, \"5\": 43, \"7\": 18, \"8\": 32, \"0\": 20, \"14\": 17, \"11\": 10, \"3\": 10}, \"10\": {\"10\": 240}, \"13\": {\"5\": 53, \"8\": 31, \"13\": 82, \"14\": 5, \"11\": 8, \"0\": 14, \"4\": 8, \"3\": 17, \"7\": 22}, \"9\": {\"9\": 239, \"12\": 1}, \"6\": {\"6\": 240}, \"3\": {\"3\": 210, \"13\": 16, \"14\": 1, \"11\": 3, \"5\": 6, \"8\": 4}, \"15\": {\"15\": 235, \"8\": 1, \"3\": 4}, \"7\": {\"5\": 20, \"14\": 63, \"4\": 41, \"7\": 67, \"2\": 5, \"11\": 17, \"13\": 20, \"0\": 4, \"8\": 3}, \"12\": {\"12\": 240}, \"8\": {\"5\": 23, \"8\": 166, \"13\": 29, \"0\": 15, \"3\": 4, \"4\": 2, \"15\": 1}, \"11\": {\"11\": 159, \"7\": 10, \"14\": 55, \"13\": 9, \"3\": 5, \"5\": 2}, \"2\": {\"14\": 4, \"2\": 169, \"0\": 27, \"4\": 36, \"7\": 4}, \"1\": {\"1\": 236, \"10\": 4}, \"0\": {\"0\": 112, \"4\": 48, \"5\": 21, \"13\": 3, \"2\": 17, \"8\": 27, \"7\": 11, \"14\": 1}}, \"ORACLE.run1_44\": {\"8\": {\"8\": 163, \"0\": 63, \"15\": 12, \"5\": 2}, \"11\": {\"11\": 193, \"13\": 31, \"6\": 16}, \"14\": {\"4\": 92, \"14\": 136, \"15\": 7, \"5\": 5}, \"10\": {\"10\": 165, \"12\": 24, \"2\": 30, \"1\": 20, \"3\": 1}, \"3\": {\"1\": 33, \"3\": 200, \"2\": 5, \"12\": 1, \"7\": 1}, \"15\": {\"0\": 20, \"15\": 190, \"14\": 15, \"5\": 12, \"8\": 2, \"4\": 1}, \"2\": {\"2\": 167, \"7\": 38, \"10\": 18, \"1\": 15, \"3\": 2}, \"12\": {\"12\": 160, \"1\": 54, \"10\": 20, \"3\": 6}, \"4\": {\"4\": 171, \"14\": 66, \"15\": 3}, \"1\": {\"1\": 122, \"10\": 13, \"12\": 67, \"3\": 25, \"2\": 12, \"7\": 1}, \"0\": {\"0\": 129, \"8\": 74, \"15\": 17, \"5\": 20}, \"9\": {\"7\": 63, \"6\": 21, \"13\": 24, \"9\": 131, \"2\": 1}, \"5\": {\"0\": 20, \"5\": 203, \"14\": 6, \"4\": 1, \"15\": 6, \"8\": 4}, \"6\": {\"6\": 153, \"11\": 13, \"13\": 39, \"9\": 24, \"7\": 10, \"2\": 1}, \"7\": {\"7\": 155, \"9\": 37, \"2\": 40, \"6\": 7, \"1\": 1}, \"13\": {\"13\": 136, \"4\": 2, \"9\": 36, \"6\": 48, \"7\": 2, \"11\": 16}}, \"ORACLE.run1_8\": {\"13\": {\"14\": 33, \"4\": 50, \"6\": 22, \"0\": 58, \"10\": 19, \"13\": 55, \"7\": 3}, \"3\": {\"3\": 167, \"2\": 34, \"12\": 34, \"15\": 5}, \"15\": {\"12\": 61, \"15\": 153, \"2\": 4, \"8\": 14, \"3\": 7, \"7\": 1}, \"4\": {\"14\": 39, \"4\": 96, \"13\": 39, \"6\": 29, \"7\": 4, \"0\": 20, \"11\": 2, \"10\": 11}, \"7\": {\"7\": 157, \"6\": 58, \"0\": 14, \"8\": 4, \"13\": 2, \"15\": 1, \"2\": 2, \"4\": 2}, \"2\": {\"3\": 52, \"2\": 166, \"7\": 10, \"15\": 8, \"12\": 4}, \"1\": {\"1\": 103, \"11\": 96, \"5\": 12, \"8\": 1, \"10\": 7, \"4\": 1, \"14\": 20}, \"0\": {\"0\": 106, \"7\": 19, \"13\": 63, \"4\": 24, \"6\": 21, \"10\": 4, \"14\": 3}, \"12\": {\"15\": 70, \"3\": 43, \"12\": 118, \"8\": 6, \"7\": 1, \"2\": 2}, \"6\": {\"7\": 70, \"6\": 100, \"4\": 28, \"13\": 7, \"8\": 4, \"0\": 24, \"14\": 6, \"2\": 1}, \"11\": {\"11\": 99, \"1\": 99, \"14\": 13, \"5\": 20, \"8\": 5, \"10\": 2, \"4\": 2}, \"9\": {\"9\": 240}, \"5\": {\"14\": 4, \"5\": 204, \"10\": 17, \"11\": 6, \"1\": 9}, \"10\": {\"10\": 131, \"13\": 25, \"0\": 2, \"14\": 41, \"4\": 16, \"5\": 13, \"1\": 11, \"11\": 1}, \"14\": {\"10\": 53, \"14\": 82, \"0\": 3, \"13\": 16, \"4\": 44, \"1\": 20, \"11\": 10, \"5\": 6, \"6\": 5, \"7\": 1}, \"8\": {\"8\": 192, \"6\": 4, \"15\": 38, \"12\": 2, \"7\": 3, \"1\": 1}}, \"ORACLE.run1_20\": {\"6\": {\"10\": 4, \"6\": 199, \"14\": 31, \"7\": 3, \"8\": 3}, \"11\": {\"11\": 235, \"7\": 3, \"6\": 2}, \"5\": {\"15\": 28, \"1\": 38, \"0\": 64, \"12\": 30, \"5\": 51, \"3\": 16, \"4\": 5, \"9\": 6, \"2\": 1, \"13\": 1}, \"14\": {\"14\": 159, \"6\": 34, \"10\": 41, \"8\": 6}, \"2\": {\"13\": 18, \"2\": 74, \"9\": 55, \"3\": 19, \"7\": 45, \"8\": 4, \"12\": 11, \"0\": 1, \"6\": 1, \"5\": 2, \"15\": 5, \"1\": 3, \"4\": 2}, \"7\": {\"2\": 36, \"3\": 15, \"8\": 34, \"9\": 20, \"13\": 4, \"7\": 123, \"6\": 4, \"10\": 1, \"12\": 2, \"4\": 1}, \"3\": {\"3\": 65, \"4\": 13, \"7\": 17, \"5\": 11, \"9\": 42, \"1\": 7, \"12\": 43, \"2\": 13, \"0\": 10, \"8\": 15, \"15\": 2, \"13\": 2}, \"4\": {\"8\": 37, \"4\": 158, \"3\": 20, \"12\": 11, \"10\": 7, \"7\": 2, \"0\": 2, \"9\": 2, \"5\": 1}, \"9\": {\"3\": 34, \"2\": 56, \"13\": 14, \"9\": 62, \"1\": 5, \"12\": 29, \"15\": 2, \"7\": 21, \"4\": 6, \"5\": 4, \"8\": 6, \"0\": 1}, \"12\": {\"13\": 2, \"9\": 19, \"4\": 7, \"15\": 14, \"1\": 22, \"3\": 56, \"12\": 60, \"5\": 30, \"0\": 16, \"8\": 2, \"2\": 7, \"7\": 5}, \"0\": {\"0\": 49, \"15\": 34, \"12\": 22, \"5\": 50, \"1\": 49, \"9\": 9, \"3\": 16, \"4\": 4, \"7\": 1, \"13\": 4, \"2\": 2}, \"10\": {\"10\": 138, \"14\": 50, \"8\": 29, \"4\": 21, \"7\": 1, \"6\": 1}, \"8\": {\"10\": 34, \"8\": 114, \"4\": 35, \"14\": 7, \"9\": 6, \"7\": 19, \"3\": 19, \"2\": 2, \"6\": 4}, \"13\": {\"13\": 195, \"2\": 21, \"15\": 8, \"11\": 1, \"9\": 5, \"7\": 5, \"1\": 3, \"12\": 2}, \"1\": {\"1\": 50, \"0\": 38, \"12\": 33, \"15\": 52, \"5\": 45, \"13\": 6, \"2\": 4, \"9\": 5, \"3\": 6, \"4\": 1}, \"15\": {\"15\": 110, \"0\": 29, \"1\": 40, \"12\": 10, \"5\": 34, \"9\": 2, \"13\": 13, \"2\": 1, \"3\": 1}}, \"ORACLE.run1_38\": {\"3\": {\"3\": 197, \"9\": 26, \"6\": 4, \"7\": 5, \"0\": 5, \"5\": 3}, \"8\": {\"7\": 8, \"8\": 117, \"5\": 61, \"0\": 40, \"10\": 3, \"15\": 9, \"13\": 1, \"1\": 1}, \"0\": {\"5\": 36, \"0\": 60, \"8\": 62, \"7\": 66, \"3\": 10, \"12\": 1, \"9\": 2, \"15\": 1, \"6\": 1, \"10\": 1}, \"2\": {\"2\": 205, \"14\": 21, \"13\": 12, \"15\": 1, \"10\": 1}, \"4\": {\"4\": 223, \"12\": 17}, \"7\": {\"7\": 170, \"0\": 56, \"8\": 10, \"5\": 3, \"12\": 1}, \"12\": {\"10\": 21, \"12\": 205, \"4\": 12, \"11\": 1, \"7\": 1}, \"6\": {\"6\": 172, \"9\": 63, \"5\": 5}, \"15\": {\"8\": 8, \"1\": 27, \"15\": 128, \"13\": 70, \"5\": 6, \"10\": 1}, \"11\": {\"11\": 156, \"12\": 9, \"14\": 70, \"2\": 4, \"10\": 1}, \"9\": {\"6\": 84, \"9\": 131, \"3\": 21, \"5\": 3, \"8\": 1}, \"14\": {\"11\": 60, \"14\": 160, \"2\": 18, \"10\": 1, \"13\": 1}, \"10\": {\"10\": 174, \"12\": 24, \"14\": 5, \"13\": 21, \"8\": 9, \"0\": 3, \"15\": 3, \"11\": 1}, \"5\": {\"0\": 34, \"5\": 85, \"8\": 54, \"6\": 17, \"7\": 12, \"3\": 9, \"9\": 9, \"15\": 11, \"13\": 5, \"10\": 2, \"1\": 2}, \"1\": {\"1\": 221, \"15\": 17, \"5\": 1, \"13\": 1}, \"13\": {\"13\": 150, \"15\": 64, \"10\": 15, \"2\": 8, \"8\": 1, \"1\": 2}}, \"ORACLE.run1_26\": {\"5\": {\"15\": 48, \"5\": 95, \"9\": 34, \"13\": 39, \"2\": 12, \"7\": 4, \"8\": 5, \"6\": 2, \"3\": 1}, \"8\": {\"8\": 70, \"4\": 23, \"1\": 5, \"7\": 20, \"10\": 28, \"0\": 15, \"6\": 14, \"9\": 25, \"15\": 24, \"5\": 4, \"14\": 11, \"2\": 1}, \"4\": {\"8\": 15, \"14\": 52, \"1\": 41, \"7\": 39, \"4\": 48, \"0\": 25, \"10\": 13, \"3\": 5, \"2\": 2}, \"12\": {\"12\": 235, \"11\": 5}, \"6\": {\"9\": 33, \"6\": 145, \"5\": 4, \"15\": 12, \"10\": 24, \"13\": 3, \"8\": 14, \"0\": 5}, \"7\": {\"8\": 15, \"4\": 17, \"2\": 37, \"14\": 7, \"7\": 100, \"3\": 41, \"15\": 6, \"10\": 2, \"1\": 3, \"0\": 7, \"9\": 3, \"5\": 2}, \"10\": {\"0\": 43, \"9\": 7, \"1\": 9, \"10\": 71, \"6\": 21, \"8\": 43, \"14\": 29, \"4\": 16, \"7\": 1}, \"0\": {\"1\": 27, \"10\": 55, \"14\": 42, \"4\": 41, \"6\": 6, \"7\": 6, \"0\": 33, \"8\": 27, \"2\": 1, \"15\": 1, \"9\": 1}, \"15\": {\"15\": 61, \"5\": 66, \"9\": 50, \"6\": 9, \"13\": 12, \"8\": 17, \"0\": 1, \"7\": 8, \"2\": 13, \"10\": 1, \"3\": 1, \"4\": 1}, \"9\": {\"15\": 54, \"9\": 69, \"8\": 26, \"13\": 10, \"6\": 25, \"5\": 39, \"2\": 6, \"0\": 3, \"7\": 3, \"10\": 4, \"4\": 1}, \"11\": {\"11\": 230, \"12\": 10}, \"14\": {\"1\": 60, \"4\": 37, \"14\": 52, \"0\": 46, \"8\": 13, \"7\": 8, \"10\": 23, \"3\": 1}, \"2\": {\"15\": 17, \"0\": 1, \"2\": 79, \"7\": 39, \"5\": 14, \"3\": 71, \"13\": 1, \"9\": 9, \"8\": 8, \"6\": 1}, \"13\": {\"13\": 156, \"9\": 12, \"5\": 50, \"15\": 15, \"6\": 5, \"2\": 2}, \"3\": {\"2\": 65, \"15\": 3, \"3\": 129, \"7\": 41, \"4\": 1, \"9\": 1}, \"1\": {\"14\": 53, \"1\": 102, \"4\": 42, \"8\": 2, \"0\": 22, \"7\": 4, \"10\": 13, \"2\": 1, \"6\": 1}}, \"CORES_4\": {\"38\": {\"38\": 40}, \"3\": {\"3\": 113, \"52\": 1, \"20\": 4, \"25\": 2, \"50\": 2, \"6\": 1, \"21\": 1}, \"24\": {\"24\": 56}, \"49\": {\"49\": 20}, \"7\": {\"7\": 24}, \"17\": {\"17\": 80}, \"43\": {\"43\": 148}, \"30\": {\"30\": 44}, \"44\": {\"44\": 131, \"19\": 1}, \"23\": {\"23\": 143, \"18\": 1}, \"37\": {\"37\": 24}, \"4\": {\"4\": 132}, \"57\": {\"57\": 100}, \"16\": {\"16\": 95, \"15\": 1}, \"18\": {\"18\": 105, \"52\": 2, \"27\": 1}, \"20\": {\"20\": 121, \"3\": 3}, \"45\": {\"45\": 96}, \"15\": {\"15\": 129, \"11\": 3}, \"52\": {\"52\": 113, \"39\": 2, \"25\": 1}, \"19\": {\"19\": 140}, \"54\": {\"54\": 107, \"5\": 1}, \"56\": {\"56\": 128, \"14\": 2}, \"40\": {\"40\": 134}, \"28\": {\"28\": 27, \"33\": 5}, \"2\": {\"2\": 36}, \"9\": {\"9\": 119, \"4\": 1}, \"0\": {\"0\": 43, \"2\": 2, \"22\": 18, \"43\": 7, \"50\": 1, \"52\": 1, \"49\": 2, \"16\": 1, \"46\": 3, \"32\": 2}, \"36\": {\"36\": 91, \"25\": 1}, \"55\": {\"55\": 130}, \"35\": {\"35\": 40}, \"39\": {\"39\": 20}, \"31\": {\"31\": 28}, \"14\": {\"49\": 2, \"33\": 1, \"14\": 10, \"56\": 1, \"2\": 1, \"55\": 1}, \"12\": {\"12\": 91, \"21\": 1}, \"6\": {\"6\": 100, \"53\": 9, \"3\": 2, \"51\": 1}, \"26\": {\"26\": 24}, \"50\": {\"50\": 113, \"53\": 5, \"3\": 3, \"21\": 3, \"20\": 4, \"6\": 3, \"51\": 1}, \"21\": {\"21\": 122}, \"46\": {\"46\": 118, \"7\": 3, \"41\": 5, \"43\": 1, \"0\": 6, \"47\": 3, \"22\": 2, \"15\": 2}, \"51\": {\"51\": 140}, \"41\": {\"41\": 35, \"46\": 1}, \"34\": {\"34\": 24}, \"47\": {\"5\": 7, \"47\": 112, \"46\": 1}, \"5\": {\"5\": 98, \"48\": 1, \"47\": 7, \"54\": 2}, \"1\": {\"57\": 1, \"1\": 39}, \"48\": {\"48\": 134}, \"29\": {\"29\": 116, \"27\": 1, \"33\": 1}, \"22\": {\"22\": 121, \"0\": 7}, \"10\": {\"10\": 132}, \"32\": {\"7\": 1, \"32\": 22, \"0\": 1}, \"13\": {\"13\": 112}, \"42\": {\"42\": 32}, \"27\": {\"27\": 138}, \"8\": {\"8\": 142}, \"33\": {\"33\": 35, \"28\": 1}, \"25\": {\"25\": 125, \"52\": 3, \"36\": 4}, \"11\": {\"11\": 101, \"10\": 1, \"15\": 2}, \"53\": {\"53\": 112}}, \"CORES_2\": {\"32\": {\"32\": 28}, \"17\": {\"17\": 104}, \"38\": {\"38\": 20}, \"2\": {\"2\": 31, \"49\": 1}, \"43\": {\"43\": 144}, \"56\": {\"56\": 143, \"14\": 1}, \"37\": {\"37\": 36}, \"49\": {\"49\": 24}, \"0\": {\"0\": 44, \"5\": 3, \"47\": 1}, \"29\": {\"29\": 126, \"45\": 1, \"33\": 1}, \"35\": {\"35\": 32}, \"18\": {\"18\": 48}, \"25\": {\"25\": 135, \"52\": 1}, \"23\": {\"23\": 124}, \"15\": {\"15\": 146}, \"21\": {\"21\": 120}, \"51\": {\"51\": 128}, \"20\": {\"20\": 119, \"53\": 19}, \"7\": {\"7\": 36}, \"50\": {\"50\": 110, \"6\": 17, \"8\": 8, \"25\": 1}, \"31\": {\"31\": 28}, \"30\": {\"30\": 138, \"18\": 1, \"36\": 1}, \"19\": {\"19\": 146, \"44\": 1, \"40\": 9}, \"9\": {\"9\": 144}, \"52\": {\"52\": 124}, \"45\": {\"45\": 126, \"4\": 2}, \"8\": {\"8\": 154}, \"55\": {\"55\": 160}, \"12\": {\"12\": 92}, \"40\": {\"40\": 128, \"19\": 12}, \"28\": {\"28\": 28}, \"36\": {\"36\": 116}, \"39\": {\"39\": 27, \"28\": 1}, \"46\": {\"46\": 116, \"52\": 2, \"16\": 3, \"6\": 1}, \"14\": {\"56\": 2, \"14\": 15, \"55\": 4, \"57\": 1, \"42\": 1, \"1\": 1}, \"57\": {\"57\": 142}, \"34\": {\"34\": 27, \"5\": 1}, \"1\": {\"1\": 106, \"57\": 2, \"48\": 1, \"34\": 2, \"17\": 1}, \"53\": {\"20\": 8, \"53\": 128}, \"48\": {\"48\": 130}, \"3\": {\"3\": 91, \"53\": 1}, \"16\": {\"16\": 151, \"11\": 1}, \"6\": {\"6\": 89, \"50\": 29, \"52\": 2, \"8\": 3, \"36\": 1}, \"10\": {\"10\": 112}, \"13\": {\"13\": 116}, \"26\": {\"26\": 24}, \"24\": {\"24\": 95, \"10\": 1}, \"44\": {\"44\": 99, \"35\": 1}, \"27\": {\"27\": 150}, \"22\": {\"22\": 127, \"55\": 1}, \"33\": {\"33\": 28}, \"47\": {\"47\": 117, \"0\": 1}, \"5\": {\"5\": 113, \"47\": 2, \"42\": 1, \"57\": 2, \"0\": 2}, \"4\": {\"4\": 138}, \"41\": {\"41\": 20}, \"11\": {\"11\": 150}, \"54\": {\"54\": 108}, \"42\": {\"42\": 32, \"57\": 3, \"5\": 1}}, \"CORES_3\": {\"5\": {\"5\": 115, \"55\": 1}, \"32\": {\"32\": 28}, \"33\": {\"33\": 28}, \"49\": {\"49\": 20}, \"39\": {\"39\": 15, \"23\": 1}, \"11\": {\"11\": 142}, \"8\": {\"8\": 116}, \"26\": {\"26\": 24}, \"51\": {\"51\": 122}, \"4\": {\"4\": 146}, \"52\": {\"52\": 118}, \"47\": {\"39\": 2, \"47\": 85, \"0\": 3, \"5\": 1, \"42\": 1}, \"17\": {\"17\": 105, \"27\": 2, \"24\": 1}, \"53\": {\"53\": 136}, \"2\": {\"2\": 32}, \"12\": {\"12\": 89, \"38\": 3}, \"37\": {\"37\": 28}, \"9\": {\"9\": 147, \"27\": 1}, \"13\": {\"13\": 128}, \"54\": {\"54\": 100}, \"31\": {\"31\": 28}, \"34\": {\"34\": 31, \"1\": 1}, \"24\": {\"24\": 104}, \"7\": {\"7\": 36}, \"50\": {\"50\": 104, \"52\": 3, \"20\": 7, \"46\": 1, \"3\": 1, \"6\": 1, \"16\": 1}, \"46\": {\"46\": 117, \"52\": 2, \"16\": 4, \"3\": 4, \"11\": 1}, \"44\": {\"44\": 88}, \"40\": {\"40\": 100, \"19\": 16}, \"21\": {\"21\": 128}, \"45\": {\"45\": 58, \"4\": 2}, \"16\": {\"16\": 125, \"15\": 1}, \"14\": {\"14\": 24, \"56\": 6, \"55\": 2, \"22\": 6, \"57\": 1, \"31\": 1}, \"36\": {\"36\": 100}, \"56\": {\"56\": 114}, \"10\": {\"10\": 64}, \"18\": {\"18\": 82, \"6\": 2}, \"48\": {\"48\": 116}, \"38\": {\"38\": 28}, \"27\": {\"27\": 130}, \"42\": {\"42\": 27, \"28\": 1}, \"15\": {\"15\": 133, \"7\": 1}, \"1\": {\"1\": 95, \"34\": 1, \"57\": 4}, \"28\": {\"28\": 28}, \"43\": {\"43\": 136}, \"0\": {\"0\": 124}, \"57\": {\"57\": 119, \"35\": 5}, \"3\": {\"3\": 143, \"46\": 4, \"52\": 1}, \"29\": {\"29\": 124}, \"41\": {\"41\": 28}, \"25\": {\"25\": 146}, \"6\": {\"41\": 1, \"20\": 2, \"6\": 56, \"30\": 10, \"50\": 4, \"18\": 9, \"8\": 2, \"53\": 1, \"36\": 2, \"25\": 1}, \"35\": {\"35\": 24, \"1\": 1, \"57\": 1, \"34\": 2}, \"20\": {\"20\": 123, \"50\": 3}, \"23\": {\"23\": 134}, \"22\": {\"22\": 131, \"14\": 1, \"55\": 8}, \"19\": {\"19\": 103, \"40\": 13}, \"55\": {\"55\": 106, \"22\": 17, \"14\": 1}, \"30\": {\"30\": 120}}, \"CORES_1\": {\"24\": {\"24\": 100, \"22\": 8}, \"25\": {\"25\": 138, \"37\": 2}, \"45\": {\"45\": 141, \"42\": 3}, \"42\": {\"42\": 39, \"45\": 1}, \"2\": {\"2\": 36}, \"9\": {\"9\": 137, \"8\": 13}, \"21\": {\"21\": 113, \"0\": 4, \"52\": 2, \"15\": 5}, \"26\": {\"26\": 24}, \"49\": {\"39\": 4, \"49\": 26, \"31\": 2}, \"39\": {\"39\": 25, \"31\": 2, \"38\": 1}, \"46\": {\"46\": 136}, \"17\": {\"17\": 64}, \"19\": {\"19\": 141, \"1\": 14, \"56\": 1}, \"23\": {\"23\": 121, \"15\": 4, \"21\": 2, \"0\": 5}, \"1\": {\"1\": 76, \"19\": 23, \"57\": 1}, \"29\": {\"29\": 140}, \"56\": {\"56\": 117, \"1\": 2, \"57\": 27, \"19\": 4}, \"37\": {\"37\": 32}, \"33\": {\"33\": 32}, \"55\": {\"55\": 140, \"47\": 2}, \"30\": {\"30\": 120}, \"0\": {\"0\": 136, \"31\": 2, \"38\": 4, \"23\": 6, \"21\": 3, \"49\": 1}, \"36\": {\"36\": 64}, \"32\": {\"32\": 32}, \"31\": {\"49\": 1, \"31\": 25, \"39\": 2}, \"15\": {\"21\": 5, \"15\": 133}, \"12\": {\"12\": 106, \"20\": 2, \"13\": 5, \"46\": 2, \"51\": 1}, \"38\": {\"38\": 17, \"0\": 5, \"21\": 1, \"31\": 1}, \"40\": {\"40\": 146}, \"14\": {\"14\": 17, \"13\": 1, \"7\": 1, \"26\": 1, \"30\": 2, \"17\": 1, \"8\": 1}, \"13\": {\"13\": 147, \"51\": 2, \"12\": 1}, \"48\": {\"48\": 147, \"2\": 1}, \"34\": {\"34\": 24}, \"44\": {\"44\": 111, \"35\": 3, \"56\": 9, \"57\": 6, \"29\": 1}, \"5\": {\"5\": 141, \"6\": 11}, \"11\": {\"11\": 138, \"28\": 1, \"52\": 1}, \"7\": {\"7\": 28}, \"18\": {\"18\": 72}, \"52\": {\"52\": 121, \"22\": 1, \"10\": 8, \"11\": 2}, \"51\": {\"51\": 141, \"41\": 1}, \"41\": {\"41\": 23, \"51\": 1}, \"16\": {\"16\": 140}, \"22\": {\"22\": 124, \"24\": 8, \"10\": 2}, \"3\": {\"3\": 140}, \"54\": {\"54\": 104}, \"27\": {\"27\": 144}, \"20\": {\"20\": 140}, \"8\": {\"8\": 124, \"9\": 14}, \"50\": {\"50\": 144}, \"57\": {\"57\": 109, \"56\": 27, \"19\": 1, \"1\": 2, \"44\": 1}, \"4\": {\"4\": 132}, \"47\": {\"47\": 142, \"55\": 4}, \"10\": {\"22\": 2, \"10\": 92, \"52\": 2}, \"35\": {\"35\": 35, \"44\": 1}, \"53\": {\"53\": 125, \"14\": 1}, \"6\": {\"6\": 83, \"5\": 7, \"48\": 4, \"8\": 1, \"2\": 1}, \"43\": {\"43\": 140}, \"28\": {\"28\": 28}}, \"CORES_5\": {\"35\": {\"35\": 35, \"56\": 1}, \"57\": {\"57\": 131, \"47\": 1}, \"20\": {\"20\": 137, \"53\": 7}, \"12\": {\"12\": 96}, \"32\": {\"32\": 28, \"27\": 4}, \"25\": {\"25\": 137, \"23\": 1}, \"44\": {\"5\": 3, \"44\": 144, \"27\": 1}, \"31\": {\"31\": 36}, \"11\": {\"11\": 145, \"15\": 5}, \"47\": {\"47\": 93, \"3\": 7}, \"23\": {\"23\": 124}, \"43\": {\"43\": 144}, \"37\": {\"37\": 24}, \"5\": {\"5\": 125, \"44\": 2, \"19\": 1}, \"45\": {\"45\": 119, \"27\": 3, \"48\": 1, \"9\": 1}, \"7\": {\"7\": 32}, \"13\": {\"13\": 136}, \"49\": {\"49\": 35, \"2\": 1}, \"46\": {\"46\": 145, \"23\": 1, \"3\": 2}, \"16\": {\"16\": 136}, \"54\": {\"54\": 109, \"42\": 3}, \"19\": {\"19\": 151, \"5\": 1}, \"55\": {\"55\": 150}, \"30\": {\"30\": 127, \"17\": 1}, \"34\": {\"34\": 35, \"44\": 1}, \"50\": {\"50\": 115, \"21\": 13, \"51\": 1, \"20\": 4, \"53\": 1}, \"3\": {\"47\": 11, \"3\": 85, \"14\": 1, \"46\": 2, \"49\": 1}, \"10\": {\"10\": 68}, \"27\": {\"27\": 137, \"32\": 4, \"55\": 1}, \"33\": {\"33\": 32}, \"56\": {\"56\": 141, \"35\": 1}, \"9\": {\"9\": 150}, \"14\": {\"31\": 6, \"46\": 3, \"14\": 15, \"49\": 1, \"15\": 1, \"36\": 3, \"33\": 2, \"43\": 1, \"34\": 2, \"29\": 4, \"2\": 2, \"3\": 1, \"47\": 3}, \"4\": {\"4\": 100}, \"42\": {\"42\": 39, \"57\": 1}, \"24\": {\"10\": 1, \"24\": 79}, \"39\": {\"39\": 20}, \"52\": {\"52\": 130}, \"2\": {\"2\": 28}, \"28\": {\"28\": 32}, \"53\": {\"53\": 119, \"20\": 3}, \"17\": {\"17\": 115, \"30\": 1}, \"29\": {\"29\": 132}, \"38\": {\"38\": 32}, \"15\": {\"15\": 138, \"11\": 6}, \"26\": {\"26\": 23, \"6\": 1}, \"21\": {\"21\": 142, \"50\": 2}, \"41\": {\"41\": 27, \"36\": 1}, \"48\": {\"48\": 135, \"30\": 1}, \"22\": {\"22\": 28}, \"8\": {\"8\": 148}, \"18\": {\"18\": 64}, \"0\": {\"0\": 121, \"35\": 1}, \"1\": {\"1\": 138}, \"40\": {\"40\": 111, \"29\": 7, \"19\": 1, \"44\": 2, \"34\": 2, \"5\": 1}, \"6\": {\"6\": 121, \"30\": 2, \"26\": 4, \"1\": 1}, \"51\": {\"51\": 142}, \"36\": {\"36\": 91, \"14\": 1}}}, \"per_domain_accuracy\": {\"ORACLE.run1_50\": {\"accuracy\": 0.6921875, \"source?\": true}, \"ORACLE.run1_14\": {\"accuracy\": 0.7119791666666667, \"source?\": true}, \"ORACLE.run1_32\": {\"accuracy\": 0.6734375, \"source?\": true}, \"ORACLE.run1_44\": {\"accuracy\": 0.6703125, \"source?\": true}, \"ORACLE.run1_8\": {\"accuracy\": 0.56484375, \"source?\": true}, \"ORACLE.run1_20\": {\"accuracy\": 0.4796875, \"source?\": true}, \"ORACLE.run1_38\": {\"accuracy\": 0.6651041666666667, \"source?\": true}, \"ORACLE.run1_26\": {\"accuracy\": 0.4361979166666667, \"source?\": true}, \"CORES_4\": {\"accuracy\": 0.9668560606060606, \"source?\": false}, \"CORES_2\": {\"accuracy\": 0.9713834269662921, \"source?\": false}, \"CORES_3\": {\"accuracy\": 0.9674479166666666, \"source?\": false}, \"CORES_1\": {\"accuracy\": 0.9481418918918919, \"source?\": false}, \"CORES_5\": {\"accuracy\": 0.9727653631284916, \"source?\": false}}}, \"history\": {\"epoch_indices\": [1, 2, 3, 4, 5, 6, 7, 8], \"train_label_loss\": [1.6031639050071438, 1.0075134199689186, 0.851825870034684, 0.7386810331915815, 0.6455280895367087, 0.5609961678451371, 0.48959972922679124, 0.4254107332056654], \"source_val_label_loss\": [1.1956884860992432, 1.069179892539978, 1.070430040359497, 1.0754486322402954, 1.1103365421295166, 1.1790128946304321, 1.2398078441619873, 1.3261845111846924], \"target_val_label_loss\": [0.15986008942127228, 0.1570821851491928, 0.1777559220790863, 0.19732923805713654, 0.24037016928195953, 0.25927606225013733, 0.286713570356369, 0.3192683160305023], \"source_val_acc_label\": [0.5390299479166667, 0.5928059895833333, 0.5998372395833333, 0.61171875, 0.6114908854166666, 0.60322265625, 0.6015950520833333, 0.60625], \"target_val_acc_label\": [0.9513214285714285, 0.9642857142857143, 0.9646428571428571, 0.9651428571428572, 0.9602142857142857, 0.9603214285714285, 0.9590714285714286, 0.9579285714285715]}, \"dataset_metrics\": {\"source\": {\"train\": {\"n_unique_x\": 179200, \"n_unique_y\": 16, \"n_batch/episode\": 6720}, \"val\": {\"n_unique_x\": 38400, \"n_unique_y\": 16, \"n_batch/episode\": 960}, \"test\": {\"n_unique_x\": 38400, \"n_unique_y\": 16, \"n_batch/episode\": 960}}, \"target\": {\"train\": {\"n_unique_x\": 175197, \"n_unique_y\": 58, \"n_batch/episode\": 6309}, \"val\": {\"n_unique_x\": 37166, \"n_unique_y\": 58, \"n_batch/episode\": 875}, \"test\": {\"n_unique_x\": 37642, \"n_unique_y\": 58, \"n_batch/episode\": 890}}}}'"
      ]
     },
     "execution_count": 29,
     "metadata": {},
     "output_type": "execute_result"
    }
   ],
   "source": [
    "json.dumps(experiment)"
   ]
  }
 ],
 "metadata": {
  "celltoolbar": "Tags",
  "kernelspec": {
   "display_name": "Python 3 (ipykernel)",
   "language": "python",
   "name": "python3"
  },
  "language_info": {
   "codemirror_mode": {
    "name": "ipython",
    "version": 3
   },
   "file_extension": ".py",
   "mimetype": "text/x-python",
   "name": "python",
   "nbconvert_exporter": "python",
   "pygments_lexer": "ipython3",
   "version": "3.8.12"
  },
  "papermill": {
   "default_parameters": {},
   "duration": 1951.303194,
   "end_time": "2022-03-22T19:27:56.431225",
   "environment_variables": {},
   "exception": null,
   "input_path": "/root/csc500-main/csc500-notebooks/templates/tl_ptn_template.ipynb",
   "output_path": "trial.ipynb",
   "parameters": {
    "parameters": {
     "BEST_MODEL_PATH": "./best_model.pth",
     "NUM_LOGS_PER_EPOCH": 10,
     "criteria_for_best": "target_accuracy",
     "dataset_seed": 500,
     "datasets": [
      {
       "domain_prefix": "CORES_",
       "domains": [
        1,
        2,
        3,
        4,
        5
       ],
       "episode_transforms": [],
       "labels": [
        "1-10.",
        "1-11.",
        "1-15.",
        "1-16.",
        "1-17.",
        "1-18.",
        "1-19.",
        "10-4.",
        "10-7.",
        "11-1.",
        "11-14.",
        "11-17.",
        "11-20.",
        "11-7.",
        "13-20.",
        "13-8.",
        "14-10.",
        "14-11.",
        "14-14.",
        "14-7.",
        "15-1.",
        "15-20.",
        "16-1.",
        "16-16.",
        "17-10.",
        "17-11.",
        "17-2.",
        "19-1.",
        "19-16.",
        "19-19.",
        "19-20.",
        "19-3.",
        "2-10.",
        "2-11.",
        "2-17.",
        "2-18.",
        "2-20.",
        "2-3.",
        "2-4.",
        "2-5.",
        "2-6.",
        "2-7.",
        "2-8.",
        "3-13.",
        "3-18.",
        "3-3.",
        "4-1.",
        "4-10.",
        "4-11.",
        "4-19.",
        "5-5.",
        "6-15.",
        "7-10.",
        "7-14.",
        "8-18.",
        "8-20.",
        "8-3.",
        "8-8."
       ],
       "num_examples_per_domain_per_label": -1,
       "pickle_path": "/root/csc500-main/datasets/cores.stratified_ds.2022A.pkl",
       "source_or_target_dataset": "target",
       "x_transforms": [
        "unit_mag"
       ]
      },
      {
       "domain_prefix": "ORACLE.run1_",
       "domains": [
        32,
        38,
        8,
        44,
        14,
        50,
        20,
        26
       ],
       "episode_transforms": [],
       "labels": [
        "3123D52",
        "3123D65",
        "3123D79",
        "3123D80",
        "3123D54",
        "3123D70",
        "3123D7B",
        "3123D89",
        "3123D58",
        "3123D76",
        "3123D7D",
        "3123EFE",
        "3123D64",
        "3123D78",
        "3123D7E",
        "3124E4A"
       ],
       "num_examples_per_domain_per_label": 2000,
       "pickle_path": "/root/csc500-main/datasets/oracle.Run1_10kExamples_stratified_ds.2022A.pkl",
       "source_or_target_dataset": "source",
       "x_transforms": [
        "unit_mag"
       ]
      }
     ],
     "device": "cuda",
     "experiment_name": "tl_1v2:cores-oracle.run1.limited",
     "lr": 0.0001,
     "n_epoch": 50,
     "n_query": 2,
     "n_shot": 3,
     "n_way": 16,
     "patience": 3,
     "seed": 500,
     "test_k_factor": 2,
     "torch_default_dtype": "torch.float32",
     "train_k_factor": 3,
     "val_k_factor": 2,
     "x_net": [
      {
       "class": "nnReshape",
       "kargs": {
        "shape": [
         -1,
         1,
         2,
         256
        ]
       }
      },
      {
       "class": "Conv2d",
       "kargs": {
        "bias": false,
        "in_channels": 1,
        "kernel_size": [
         1,
         7
        ],
        "out_channels": 256,
        "padding": [
         0,
         3
        ]
       }
      },
      {
       "class": "ReLU",
       "kargs": {
        "inplace": true
       }
      },
      {
       "class": "BatchNorm2d",
       "kargs": {
        "num_features": 256
       }
      },
      {
       "class": "Conv2d",
       "kargs": {
        "bias": true,
        "in_channels": 256,
        "kernel_size": [
         2,
         7
        ],
        "out_channels": 80,
        "padding": [
         0,
         3
        ]
       }
      },
      {
       "class": "ReLU",
       "kargs": {
        "inplace": true
       }
      },
      {
       "class": "BatchNorm2d",
       "kargs": {
        "num_features": 80
       }
      },
      {
       "class": "Flatten",
       "kargs": {}
      },
      {
       "class": "Linear",
       "kargs": {
        "in_features": 20480,
        "out_features": 256
       }
      },
      {
       "class": "ReLU",
       "kargs": {
        "inplace": true
       }
      },
      {
       "class": "BatchNorm1d",
       "kargs": {
        "num_features": 256
       }
      },
      {
       "class": "Linear",
       "kargs": {
        "in_features": 256,
        "out_features": 256
       }
      }
     ]
    }
   },
   "start_time": "2022-03-22T18:55:25.128031",
   "version": "2.3.4"
  }
 },
 "nbformat": 4,
 "nbformat_minor": 5
}