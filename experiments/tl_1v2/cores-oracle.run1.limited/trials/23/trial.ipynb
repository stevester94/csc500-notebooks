{
 "cells": [
  {
   "cell_type": "markdown",
   "id": "9fea5f46",
   "metadata": {
    "papermill": {
     "duration": 0.02897,
     "end_time": "2022-03-22T16:12:13.547614",
     "exception": false,
     "start_time": "2022-03-22T16:12:13.518644",
     "status": "completed"
    },
    "tags": []
   },
   "source": [
    "# Transfer Learning Template"
   ]
  },
  {
   "cell_type": "code",
   "execution_count": 1,
   "id": "0902182a",
   "metadata": {
    "execution": {
     "iopub.execute_input": "2022-03-22T16:12:13.609015Z",
     "iopub.status.busy": "2022-03-22T16:12:13.598364Z",
     "iopub.status.idle": "2022-03-22T16:12:15.509564Z",
     "shell.execute_reply": "2022-03-22T16:12:15.510250Z"
    },
    "papermill": {
     "duration": 1.93921,
     "end_time": "2022-03-22T16:12:15.510593",
     "exception": false,
     "start_time": "2022-03-22T16:12:13.571383",
     "status": "completed"
    },
    "tags": []
   },
   "outputs": [],
   "source": [
    "%load_ext autoreload\n",
    "%autoreload 2\n",
    "%matplotlib inline\n",
    "\n",
    "    \n",
    "import os, json, sys, time, random\n",
    "import numpy as np\n",
    "import torch\n",
    "from torch.optim import Adam\n",
    "from  easydict import EasyDict\n",
    "import matplotlib.pyplot as plt\n",
    "\n",
    "from steves_models.steves_ptn import Steves_Prototypical_Network\n",
    "\n",
    "from steves_utils.lazy_iterable_wrapper import Lazy_Iterable_Wrapper\n",
    "from steves_utils.iterable_aggregator import Iterable_Aggregator\n",
    "from steves_utils.ptn_train_eval_test_jig import  PTN_Train_Eval_Test_Jig\n",
    "from steves_utils.torch_sequential_builder import build_sequential\n",
    "from steves_utils.torch_utils import get_dataset_metrics, ptn_confusion_by_domain_over_dataloader\n",
    "from steves_utils.utils_v2 import (per_domain_accuracy_from_confusion, get_datasets_base_path)\n",
    "from steves_utils.PTN.utils import independent_accuracy_assesment\n",
    "\n",
    "from torch.utils.data import DataLoader\n",
    "\n",
    "from steves_utils.stratified_dataset.episodic_accessor import Episodic_Accessor_Factory\n",
    "\n",
    "from steves_utils.ptn_do_report import (\n",
    "    get_loss_curve,\n",
    "    get_results_table,\n",
    "    get_parameters_table,\n",
    "    get_domain_accuracies,\n",
    ")\n",
    "\n",
    "from steves_utils.transforms import get_chained_transform"
   ]
  },
  {
   "cell_type": "markdown",
   "id": "41c840b4",
   "metadata": {
    "papermill": {
     "duration": 0.019627,
     "end_time": "2022-03-22T16:12:15.557912",
     "exception": false,
     "start_time": "2022-03-22T16:12:15.538285",
     "status": "completed"
    },
    "tags": []
   },
   "source": [
    "# Allowed Parameters\n",
    "These are allowed parameters, not defaults\n",
    "Each of these values need to be present in the injected parameters (the notebook will raise an exception if they are not present)\n",
    "\n",
    "Papermill uses the cell tag \"parameters\" to inject the real parameters below this cell.\n",
    "Enable tags to see what I mean"
   ]
  },
  {
   "cell_type": "code",
   "execution_count": 2,
   "id": "fd44eb83",
   "metadata": {
    "execution": {
     "iopub.execute_input": "2022-03-22T16:12:15.601644Z",
     "iopub.status.busy": "2022-03-22T16:12:15.601254Z",
     "iopub.status.idle": "2022-03-22T16:12:15.622655Z",
     "shell.execute_reply": "2022-03-22T16:12:15.621834Z"
    },
    "papermill": {
     "duration": 0.045441,
     "end_time": "2022-03-22T16:12:15.622815",
     "exception": false,
     "start_time": "2022-03-22T16:12:15.577374",
     "status": "completed"
    },
    "tags": []
   },
   "outputs": [],
   "source": [
    "required_parameters = {\n",
    "    \"experiment_name\",\n",
    "    \"lr\",\n",
    "    \"device\",\n",
    "    \"seed\",\n",
    "    \"dataset_seed\",\n",
    "    \"n_shot\",\n",
    "    \"n_query\",\n",
    "    \"n_way\",\n",
    "    \"train_k_factor\",\n",
    "    \"val_k_factor\",\n",
    "    \"test_k_factor\",\n",
    "    \"n_epoch\",\n",
    "    \"patience\",\n",
    "    \"criteria_for_best\",\n",
    "    \"x_net\",\n",
    "    \"datasets\",\n",
    "    \"torch_default_dtype\",\n",
    "    \"NUM_LOGS_PER_EPOCH\",\n",
    "    \"BEST_MODEL_PATH\",\n",
    "    \"x_shape\",\n",
    "}"
   ]
  },
  {
   "cell_type": "code",
   "execution_count": 3,
   "id": "fa3f0049",
   "metadata": {
    "execution": {
     "iopub.execute_input": "2022-03-22T16:12:15.683331Z",
     "iopub.status.busy": "2022-03-22T16:12:15.682419Z",
     "iopub.status.idle": "2022-03-22T16:12:15.702310Z",
     "shell.execute_reply": "2022-03-22T16:12:15.701494Z"
    },
    "papermill": {
     "duration": 0.052535,
     "end_time": "2022-03-22T16:12:15.702468",
     "exception": false,
     "start_time": "2022-03-22T16:12:15.649933",
     "status": "completed"
    },
    "tags": [
     "parameters"
    ]
   },
   "outputs": [],
   "source": [
    "from steves_utils.CORES.utils import (\n",
    "    ALL_NODES,\n",
    "    ALL_NODES_MINIMUM_1000_EXAMPLES,\n",
    "    ALL_DAYS\n",
    ")\n",
    "\n",
    "from steves_utils.ORACLE.utils_v2 import (\n",
    "    ALL_DISTANCES_FEET_NARROWED,\n",
    "    ALL_RUNS,\n",
    "    ALL_SERIAL_NUMBERS,\n",
    ")\n",
    "\n",
    "standalone_parameters = {}\n",
    "standalone_parameters[\"experiment_name\"] = \"STANDALONE PTN\"\n",
    "standalone_parameters[\"lr\"] = 0.001\n",
    "standalone_parameters[\"device\"] = \"cuda\"\n",
    "\n",
    "standalone_parameters[\"seed\"] = 1337\n",
    "standalone_parameters[\"dataset_seed\"] = 1337\n",
    "\n",
    "standalone_parameters[\"n_way\"] = 8\n",
    "standalone_parameters[\"n_shot\"] = 3\n",
    "standalone_parameters[\"n_query\"]  = 2\n",
    "standalone_parameters[\"train_k_factor\"] = 1\n",
    "standalone_parameters[\"val_k_factor\"] = 2\n",
    "standalone_parameters[\"test_k_factor\"] = 2\n",
    "\n",
    "\n",
    "standalone_parameters[\"n_epoch\"] = 50\n",
    "\n",
    "standalone_parameters[\"patience\"] = 10\n",
    "standalone_parameters[\"criteria_for_best\"] = \"source_loss\"\n",
    "\n",
    "standalone_parameters[\"datasets\"] = [\n",
    "    {\n",
    "        \"labels\": ALL_SERIAL_NUMBERS,\n",
    "        \"domains\": ALL_DISTANCES_FEET_NARROWED,\n",
    "        \"num_examples_per_domain_per_label\": 100,\n",
    "        \"pickle_path\": os.path.join(get_datasets_base_path(), \"oracle.Run1_framed_2000Examples_stratified_ds.2022A.pkl\"),\n",
    "        \"source_or_target_dataset\": \"source\",\n",
    "        \"x_transforms\": [\"unit_mag\", \"minus_two\"],\n",
    "        \"episode_transforms\": [],\n",
    "        \"domain_prefix\": \"ORACLE_\"\n",
    "    },\n",
    "    {\n",
    "        \"labels\": ALL_NODES,\n",
    "        \"domains\": ALL_DAYS,\n",
    "        \"num_examples_per_domain_per_label\": 100,\n",
    "        \"pickle_path\": os.path.join(get_datasets_base_path(), \"cores.stratified_ds.2022A.pkl\"),\n",
    "        \"source_or_target_dataset\": \"target\",\n",
    "        \"x_transforms\": [\"unit_power\", \"times_zero\"],\n",
    "        \"episode_transforms\": [],\n",
    "        \"domain_prefix\": \"CORES_\"\n",
    "    }   \n",
    "]\n",
    "\n",
    "standalone_parameters[\"torch_default_dtype\"] = \"torch.float32\" \n",
    "\n",
    "\n",
    "\n",
    "standalone_parameters[\"x_net\"] =     [\n",
    "    {\"class\": \"nnReshape\", \"kargs\": {\"shape\":[-1, 1, 2, 256]}},\n",
    "    {\"class\": \"Conv2d\", \"kargs\": { \"in_channels\":1, \"out_channels\":256, \"kernel_size\":(1,7), \"bias\":False, \"padding\":(0,3), },},\n",
    "    {\"class\": \"ReLU\", \"kargs\": {\"inplace\": True}},\n",
    "    {\"class\": \"BatchNorm2d\", \"kargs\": {\"num_features\":256}},\n",
    "\n",
    "    {\"class\": \"Conv2d\", \"kargs\": { \"in_channels\":256, \"out_channels\":80, \"kernel_size\":(2,7), \"bias\":True, \"padding\":(0,3), },},\n",
    "    {\"class\": \"ReLU\", \"kargs\": {\"inplace\": True}},\n",
    "    {\"class\": \"BatchNorm2d\", \"kargs\": {\"num_features\":80}},\n",
    "    {\"class\": \"Flatten\", \"kargs\": {}},\n",
    "\n",
    "    {\"class\": \"Linear\", \"kargs\": {\"in_features\": 80*256, \"out_features\": 256}}, # 80 units per IQ pair\n",
    "    {\"class\": \"ReLU\", \"kargs\": {\"inplace\": True}},\n",
    "    {\"class\": \"BatchNorm1d\", \"kargs\": {\"num_features\":256}},\n",
    "\n",
    "    {\"class\": \"Linear\", \"kargs\": {\"in_features\": 256, \"out_features\": 256}},\n",
    "]\n",
    "\n",
    "# Parameters relevant to results\n",
    "# These parameters will basically never need to change\n",
    "standalone_parameters[\"NUM_LOGS_PER_EPOCH\"] = 10\n",
    "standalone_parameters[\"BEST_MODEL_PATH\"] = \"./best_model.pth\"\n",
    "\n",
    "\n",
    "\n",
    "\n"
   ]
  },
  {
   "cell_type": "code",
   "execution_count": 4,
   "id": "a1fe05e7",
   "metadata": {
    "execution": {
     "iopub.execute_input": "2022-03-22T16:12:15.760404Z",
     "iopub.status.busy": "2022-03-22T16:12:15.759293Z",
     "iopub.status.idle": "2022-03-22T16:12:15.785442Z",
     "shell.execute_reply": "2022-03-22T16:12:15.784729Z"
    },
    "papermill": {
     "duration": 0.058296,
     "end_time": "2022-03-22T16:12:15.785632",
     "exception": false,
     "start_time": "2022-03-22T16:12:15.727336",
     "status": "completed"
    },
    "tags": [
     "injected-parameters"
    ]
   },
   "outputs": [],
   "source": [
    "# Parameters\n",
    "parameters = {\n",
    "    \"experiment_name\": \"tl_1v2:cores-oracle.run1.limited\",\n",
    "    \"device\": \"cuda\",\n",
    "    \"lr\": 0.0001,\n",
    "    \"n_shot\": 3,\n",
    "    \"n_query\": 2,\n",
    "    \"train_k_factor\": 3,\n",
    "    \"val_k_factor\": 2,\n",
    "    \"test_k_factor\": 2,\n",
    "    \"torch_default_dtype\": \"torch.float32\",\n",
    "    \"n_epoch\": 50,\n",
    "    \"patience\": 3,\n",
    "    \"criteria_for_best\": \"target_accuracy\",\n",
    "    \"x_net\": [\n",
    "        {\"class\": \"nnReshape\", \"kargs\": {\"shape\": [-1, 1, 2, 256]}},\n",
    "        {\n",
    "            \"class\": \"Conv2d\",\n",
    "            \"kargs\": {\n",
    "                \"in_channels\": 1,\n",
    "                \"out_channels\": 256,\n",
    "                \"kernel_size\": [1, 7],\n",
    "                \"bias\": False,\n",
    "                \"padding\": [0, 3],\n",
    "            },\n",
    "        },\n",
    "        {\"class\": \"ReLU\", \"kargs\": {\"inplace\": True}},\n",
    "        {\"class\": \"BatchNorm2d\", \"kargs\": {\"num_features\": 256}},\n",
    "        {\n",
    "            \"class\": \"Conv2d\",\n",
    "            \"kargs\": {\n",
    "                \"in_channels\": 256,\n",
    "                \"out_channels\": 80,\n",
    "                \"kernel_size\": [2, 7],\n",
    "                \"bias\": True,\n",
    "                \"padding\": [0, 3],\n",
    "            },\n",
    "        },\n",
    "        {\"class\": \"ReLU\", \"kargs\": {\"inplace\": True}},\n",
    "        {\"class\": \"BatchNorm2d\", \"kargs\": {\"num_features\": 80}},\n",
    "        {\"class\": \"Flatten\", \"kargs\": {}},\n",
    "        {\"class\": \"Linear\", \"kargs\": {\"in_features\": 20480, \"out_features\": 256}},\n",
    "        {\"class\": \"ReLU\", \"kargs\": {\"inplace\": True}},\n",
    "        {\"class\": \"BatchNorm1d\", \"kargs\": {\"num_features\": 256}},\n",
    "        {\"class\": \"Linear\", \"kargs\": {\"in_features\": 256, \"out_features\": 256}},\n",
    "    ],\n",
    "    \"NUM_LOGS_PER_EPOCH\": 10,\n",
    "    \"BEST_MODEL_PATH\": \"./best_model.pth\",\n",
    "    \"n_way\": 16,\n",
    "    \"datasets\": [\n",
    "        {\n",
    "            \"labels\": [\n",
    "                \"1-10.\",\n",
    "                \"1-11.\",\n",
    "                \"1-15.\",\n",
    "                \"1-16.\",\n",
    "                \"1-17.\",\n",
    "                \"1-18.\",\n",
    "                \"1-19.\",\n",
    "                \"10-4.\",\n",
    "                \"10-7.\",\n",
    "                \"11-1.\",\n",
    "                \"11-14.\",\n",
    "                \"11-17.\",\n",
    "                \"11-20.\",\n",
    "                \"11-7.\",\n",
    "                \"13-20.\",\n",
    "                \"13-8.\",\n",
    "                \"14-10.\",\n",
    "                \"14-11.\",\n",
    "                \"14-14.\",\n",
    "                \"14-7.\",\n",
    "                \"15-1.\",\n",
    "                \"15-20.\",\n",
    "                \"16-1.\",\n",
    "                \"16-16.\",\n",
    "                \"17-10.\",\n",
    "                \"17-11.\",\n",
    "                \"17-2.\",\n",
    "                \"19-1.\",\n",
    "                \"19-16.\",\n",
    "                \"19-19.\",\n",
    "                \"19-20.\",\n",
    "                \"19-3.\",\n",
    "                \"2-10.\",\n",
    "                \"2-11.\",\n",
    "                \"2-17.\",\n",
    "                \"2-18.\",\n",
    "                \"2-20.\",\n",
    "                \"2-3.\",\n",
    "                \"2-4.\",\n",
    "                \"2-5.\",\n",
    "                \"2-6.\",\n",
    "                \"2-7.\",\n",
    "                \"2-8.\",\n",
    "                \"3-13.\",\n",
    "                \"3-18.\",\n",
    "                \"3-3.\",\n",
    "                \"4-1.\",\n",
    "                \"4-10.\",\n",
    "                \"4-11.\",\n",
    "                \"4-19.\",\n",
    "                \"5-5.\",\n",
    "                \"6-15.\",\n",
    "                \"7-10.\",\n",
    "                \"7-14.\",\n",
    "                \"8-18.\",\n",
    "                \"8-20.\",\n",
    "                \"8-3.\",\n",
    "                \"8-8.\",\n",
    "            ],\n",
    "            \"domains\": [1, 2, 3, 4, 5],\n",
    "            \"num_examples_per_domain_per_label\": -1,\n",
    "            \"pickle_path\": \"/root/csc500-main/datasets/cores.stratified_ds.2022A.pkl\",\n",
    "            \"source_or_target_dataset\": \"target\",\n",
    "            \"x_transforms\": [],\n",
    "            \"episode_transforms\": [],\n",
    "            \"domain_prefix\": \"CORES_\",\n",
    "        },\n",
    "        {\n",
    "            \"labels\": [\n",
    "                \"3123D52\",\n",
    "                \"3123D65\",\n",
    "                \"3123D79\",\n",
    "                \"3123D80\",\n",
    "                \"3123D54\",\n",
    "                \"3123D70\",\n",
    "                \"3123D7B\",\n",
    "                \"3123D89\",\n",
    "                \"3123D58\",\n",
    "                \"3123D76\",\n",
    "                \"3123D7D\",\n",
    "                \"3123EFE\",\n",
    "                \"3123D64\",\n",
    "                \"3123D78\",\n",
    "                \"3123D7E\",\n",
    "                \"3124E4A\",\n",
    "            ],\n",
    "            \"domains\": [32, 38, 8, 44, 14, 50, 20, 26],\n",
    "            \"num_examples_per_domain_per_label\": 2000,\n",
    "            \"pickle_path\": \"/root/csc500-main/datasets/oracle.Run1_10kExamples_stratified_ds.2022A.pkl\",\n",
    "            \"source_or_target_dataset\": \"source\",\n",
    "            \"x_transforms\": [],\n",
    "            \"episode_transforms\": [],\n",
    "            \"domain_prefix\": \"ORACLE.run1_\",\n",
    "        },\n",
    "    ],\n",
    "    \"dataset_seed\": 7,\n",
    "    \"seed\": 7,\n",
    "}\n"
   ]
  },
  {
   "cell_type": "code",
   "execution_count": 5,
   "id": "8fa1cc33",
   "metadata": {
    "execution": {
     "iopub.execute_input": "2022-03-22T16:12:15.839222Z",
     "iopub.status.busy": "2022-03-22T16:12:15.838843Z",
     "iopub.status.idle": "2022-03-22T16:12:15.864635Z",
     "shell.execute_reply": "2022-03-22T16:12:15.863922Z"
    },
    "papermill": {
     "duration": 0.05052,
     "end_time": "2022-03-22T16:12:15.864790",
     "exception": false,
     "start_time": "2022-03-22T16:12:15.814270",
     "status": "completed"
    },
    "tags": []
   },
   "outputs": [],
   "source": [
    "# Set this to True if you want to run this template directly\n",
    "STANDALONE = False\n",
    "if STANDALONE:\n",
    "    print(\"parameters not injected, running with standalone_parameters\")\n",
    "    parameters = standalone_parameters\n",
    "\n",
    "if not 'parameters' in locals() and not 'parameters' in globals():\n",
    "    raise Exception(\"Parameter injection failed\")\n",
    "\n",
    "#Use an easy dict for all the parameters\n",
    "p = EasyDict(parameters)\n",
    "\n",
    "if \"x_shape\" not in p:\n",
    "    p.x_shape = [2,256] # Default to this if we dont supply x_shape\n",
    "\n",
    "\n",
    "supplied_keys = set(p.keys())\n",
    "\n",
    "if  supplied_keys != required_parameters:\n",
    "    print(\"Parameters are incorrect\")\n",
    "    if len(supplied_keys - required_parameters)>0: print(\"Shouldn't have:\", str(supplied_keys - required_parameters))\n",
    "    if len(required_parameters - supplied_keys)>0: print(\"Need to have:\", str(required_parameters - supplied_keys))\n",
    "    raise RuntimeError(\"Parameters are incorrect\")"
   ]
  },
  {
   "cell_type": "code",
   "execution_count": 6,
   "id": "3a028d58",
   "metadata": {
    "execution": {
     "iopub.execute_input": "2022-03-22T16:12:15.914647Z",
     "iopub.status.busy": "2022-03-22T16:12:15.914284Z",
     "iopub.status.idle": "2022-03-22T16:12:15.939654Z",
     "shell.execute_reply": "2022-03-22T16:12:15.940317Z"
    },
    "papermill": {
     "duration": 0.049705,
     "end_time": "2022-03-22T16:12:15.940495",
     "exception": false,
     "start_time": "2022-03-22T16:12:15.890790",
     "status": "completed"
    },
    "tags": []
   },
   "outputs": [],
   "source": [
    "###################################\n",
    "# Set the RNGs and make it all deterministic\n",
    "###################################\n",
    "np.random.seed(p.seed)\n",
    "random.seed(p.seed)\n",
    "torch.manual_seed(p.seed)\n",
    "\n",
    "torch.use_deterministic_algorithms(True) "
   ]
  },
  {
   "cell_type": "code",
   "execution_count": 7,
   "id": "b691acf6",
   "metadata": {
    "execution": {
     "iopub.execute_input": "2022-03-22T16:12:15.990158Z",
     "iopub.status.busy": "2022-03-22T16:12:15.988769Z",
     "iopub.status.idle": "2022-03-22T16:12:16.020182Z",
     "shell.execute_reply": "2022-03-22T16:12:16.019466Z"
    },
    "papermill": {
     "duration": 0.053509,
     "end_time": "2022-03-22T16:12:16.020334",
     "exception": false,
     "start_time": "2022-03-22T16:12:15.966825",
     "status": "completed"
    },
    "tags": []
   },
   "outputs": [],
   "source": [
    "###########################################\n",
    "# The stratified datasets honor this\n",
    "###########################################\n",
    "torch.set_default_dtype(eval(p.torch_default_dtype))"
   ]
  },
  {
   "cell_type": "code",
   "execution_count": 8,
   "id": "b5fba671",
   "metadata": {
    "execution": {
     "iopub.execute_input": "2022-03-22T16:12:16.072436Z",
     "iopub.status.busy": "2022-03-22T16:12:16.071934Z",
     "iopub.status.idle": "2022-03-22T16:12:16.139144Z",
     "shell.execute_reply": "2022-03-22T16:12:16.138445Z"
    },
    "papermill": {
     "duration": 0.090725,
     "end_time": "2022-03-22T16:12:16.139294",
     "exception": false,
     "start_time": "2022-03-22T16:12:16.048569",
     "status": "completed"
    },
    "tags": []
   },
   "outputs": [],
   "source": [
    "###################################\n",
    "# Build the network(s)\n",
    "# Note: It's critical to do this AFTER setting the RNG\n",
    "###################################\n",
    "x_net = build_sequential(p.x_net)"
   ]
  },
  {
   "cell_type": "code",
   "execution_count": 9,
   "id": "5d7e61cc",
   "metadata": {
    "execution": {
     "iopub.execute_input": "2022-03-22T16:12:16.192601Z",
     "iopub.status.busy": "2022-03-22T16:12:16.192050Z",
     "iopub.status.idle": "2022-03-22T16:12:16.214274Z",
     "shell.execute_reply": "2022-03-22T16:12:16.213631Z"
    },
    "papermill": {
     "duration": 0.045735,
     "end_time": "2022-03-22T16:12:16.214405",
     "exception": false,
     "start_time": "2022-03-22T16:12:16.168670",
     "status": "completed"
    },
    "tags": []
   },
   "outputs": [],
   "source": [
    "start_time_secs = time.time()"
   ]
  },
  {
   "cell_type": "code",
   "execution_count": 10,
   "id": "c6b67dfd",
   "metadata": {
    "execution": {
     "iopub.execute_input": "2022-03-22T16:12:16.266133Z",
     "iopub.status.busy": "2022-03-22T16:12:16.265754Z",
     "iopub.status.idle": "2022-03-22T16:12:16.285114Z",
     "shell.execute_reply": "2022-03-22T16:12:16.284461Z"
    },
    "papermill": {
     "duration": 0.044445,
     "end_time": "2022-03-22T16:12:16.285252",
     "exception": false,
     "start_time": "2022-03-22T16:12:16.240807",
     "status": "completed"
    },
    "tags": []
   },
   "outputs": [],
   "source": [
    "p.domains_source = []\n",
    "p.domains_target = []\n",
    "\n",
    "\n",
    "train_original_source = []\n",
    "val_original_source   = []\n",
    "test_original_source  = []\n",
    "\n",
    "train_original_target = []\n",
    "val_original_target   = []\n",
    "test_original_target  = []"
   ]
  },
  {
   "cell_type": "code",
   "execution_count": 11,
   "id": "e3d9c3d3",
   "metadata": {
    "execution": {
     "iopub.execute_input": "2022-03-22T16:12:16.333786Z",
     "iopub.status.busy": "2022-03-22T16:12:16.333311Z",
     "iopub.status.idle": "2022-03-22T16:12:16.352454Z",
     "shell.execute_reply": "2022-03-22T16:12:16.352972Z"
    },
    "papermill": {
     "duration": 0.042612,
     "end_time": "2022-03-22T16:12:16.353113",
     "exception": false,
     "start_time": "2022-03-22T16:12:16.310501",
     "status": "completed"
    },
    "tags": []
   },
   "outputs": [],
   "source": [
    "# global_x_transform_func = lambda x: normalize(x.to(torch.get_default_dtype()), \"unit_power\") # unit_power, unit_mag\n",
    "# global_x_transform_func = lambda x: normalize(x, \"unit_power\") # unit_power, unit_mag"
   ]
  },
  {
   "cell_type": "code",
   "execution_count": 12,
   "id": "acb78fd2",
   "metadata": {
    "execution": {
     "iopub.execute_input": "2022-03-22T16:12:16.407133Z",
     "iopub.status.busy": "2022-03-22T16:12:16.406484Z",
     "iopub.status.idle": "2022-03-22T16:12:16.427695Z",
     "shell.execute_reply": "2022-03-22T16:12:16.427024Z"
    },
    "papermill": {
     "duration": 0.048442,
     "end_time": "2022-03-22T16:12:16.427816",
     "exception": false,
     "start_time": "2022-03-22T16:12:16.379374",
     "status": "completed"
    },
    "tags": []
   },
   "outputs": [],
   "source": [
    "def add_dataset(\n",
    "    labels,\n",
    "    domains,\n",
    "    pickle_path,\n",
    "    x_transforms,\n",
    "    episode_transforms,\n",
    "    domain_prefix,\n",
    "    num_examples_per_domain_per_label,\n",
    "    source_or_target_dataset:str,\n",
    "    iterator_seed=p.seed,\n",
    "    dataset_seed=p.dataset_seed,\n",
    "    n_shot=p.n_shot,\n",
    "    n_way=p.n_way,\n",
    "    n_query=p.n_query,\n",
    "    train_val_test_k_factors=(p.train_k_factor,p.val_k_factor,p.test_k_factor),\n",
    "):\n",
    "   \n",
    "    if x_transforms == []: x_transform = None\n",
    "    else: x_transform = get_chained_transform(x_transforms)\n",
    "    \n",
    "    if episode_transforms == []: episode_transform = None\n",
    "    else: raise Exception(\"episode_transforms not implemented\")\n",
    "    \n",
    "    episode_transform = lambda tup, _prefix=domain_prefix: (_prefix + str(tup[0]), tup[1])\n",
    "\n",
    "\n",
    "    eaf = Episodic_Accessor_Factory(\n",
    "        labels=labels,\n",
    "        domains=domains,\n",
    "        num_examples_per_domain_per_label=num_examples_per_domain_per_label,\n",
    "        iterator_seed=iterator_seed,\n",
    "        dataset_seed=dataset_seed,\n",
    "        n_shot=n_shot,\n",
    "        n_way=n_way,\n",
    "        n_query=n_query,\n",
    "        train_val_test_k_factors=train_val_test_k_factors,\n",
    "        pickle_path=pickle_path,\n",
    "        x_transform_func=x_transform,\n",
    "    )\n",
    "\n",
    "    train, val, test = eaf.get_train(), eaf.get_val(), eaf.get_test()\n",
    "    train = Lazy_Iterable_Wrapper(train, episode_transform)\n",
    "    val = Lazy_Iterable_Wrapper(val, episode_transform)\n",
    "    test = Lazy_Iterable_Wrapper(test, episode_transform)\n",
    "\n",
    "    if source_or_target_dataset==\"source\":\n",
    "        train_original_source.append(train)\n",
    "        val_original_source.append(val)\n",
    "        test_original_source.append(test)\n",
    "\n",
    "        p.domains_source.extend(\n",
    "            [domain_prefix + str(u) for u in domains]\n",
    "        )\n",
    "    elif source_or_target_dataset==\"target\":\n",
    "        train_original_target.append(train)\n",
    "        val_original_target.append(val)\n",
    "        test_original_target.append(test)\n",
    "        p.domains_target.extend(\n",
    "            [domain_prefix + str(u) for u in domains]\n",
    "        )\n",
    "    else:\n",
    "        raise Exception(f\"invalid source_or_target_dataset: {source_or_target_dataset}\")\n",
    "    "
   ]
  },
  {
   "cell_type": "code",
   "execution_count": 13,
   "id": "fe266617",
   "metadata": {
    "execution": {
     "iopub.execute_input": "2022-03-22T16:12:16.480033Z",
     "iopub.status.busy": "2022-03-22T16:12:16.479669Z",
     "iopub.status.idle": "2022-03-22T16:12:22.848832Z",
     "shell.execute_reply": "2022-03-22T16:12:22.849515Z"
    },
    "papermill": {
     "duration": 6.393138,
     "end_time": "2022-03-22T16:12:22.849774",
     "exception": false,
     "start_time": "2022-03-22T16:12:16.456636",
     "status": "completed"
    },
    "tags": []
   },
   "outputs": [],
   "source": [
    "for ds in p.datasets:\n",
    "    add_dataset(**ds)"
   ]
  },
  {
   "cell_type": "code",
   "execution_count": 14,
   "id": "b90d65ac",
   "metadata": {
    "execution": {
     "iopub.execute_input": "2022-03-22T16:12:22.900486Z",
     "iopub.status.busy": "2022-03-22T16:12:22.900008Z",
     "iopub.status.idle": "2022-03-22T16:12:22.927315Z",
     "shell.execute_reply": "2022-03-22T16:12:22.926515Z"
    },
    "papermill": {
     "duration": 0.051085,
     "end_time": "2022-03-22T16:12:22.927465",
     "exception": false,
     "start_time": "2022-03-22T16:12:22.876380",
     "status": "completed"
    },
    "tags": []
   },
   "outputs": [],
   "source": [
    "# from steves_utils.CORES.utils import (\n",
    "#     ALL_NODES,\n",
    "#     ALL_NODES_MINIMUM_1000_EXAMPLES,\n",
    "#     ALL_DAYS\n",
    "# )\n",
    "\n",
    "# add_dataset(\n",
    "#     labels=ALL_NODES,\n",
    "#     domains = ALL_DAYS,\n",
    "#     num_examples_per_domain_per_label=100,\n",
    "#     pickle_path=os.path.join(get_datasets_base_path(), \"cores.stratified_ds.2022A.pkl\"),\n",
    "#     source_or_target_dataset=\"target\",\n",
    "#     x_transform_func=global_x_transform_func,\n",
    "#     domain_modifier=lambda u: f\"cores_{u}\"\n",
    "# )"
   ]
  },
  {
   "cell_type": "code",
   "execution_count": 15,
   "id": "76db484d",
   "metadata": {
    "execution": {
     "iopub.execute_input": "2022-03-22T16:12:22.977871Z",
     "iopub.status.busy": "2022-03-22T16:12:22.977505Z",
     "iopub.status.idle": "2022-03-22T16:12:22.995364Z",
     "shell.execute_reply": "2022-03-22T16:12:22.994562Z"
    },
    "papermill": {
     "duration": 0.040452,
     "end_time": "2022-03-22T16:12:22.995515",
     "exception": false,
     "start_time": "2022-03-22T16:12:22.955063",
     "status": "completed"
    },
    "tags": []
   },
   "outputs": [],
   "source": [
    "# from steves_utils.ORACLE.utils_v2 import (\n",
    "#     ALL_DISTANCES_FEET,\n",
    "#     ALL_RUNS,\n",
    "#     ALL_SERIAL_NUMBERS,\n",
    "# )\n",
    "\n",
    "\n",
    "# add_dataset(\n",
    "#     labels=ALL_SERIAL_NUMBERS,\n",
    "#     domains = list(set(ALL_DISTANCES_FEET) - {2,62}),\n",
    "#     num_examples_per_domain_per_label=100,\n",
    "#     pickle_path=os.path.join(get_datasets_base_path(), \"oracle.Run2_framed_2000Examples_stratified_ds.2022A.pkl\"),\n",
    "#     source_or_target_dataset=\"source\",\n",
    "#     x_transform_func=global_x_transform_func,\n",
    "#     domain_modifier=lambda u: f\"oracle1_{u}\"\n",
    "# )\n"
   ]
  },
  {
   "cell_type": "code",
   "execution_count": 16,
   "id": "97dea9d2",
   "metadata": {
    "execution": {
     "iopub.execute_input": "2022-03-22T16:12:23.047426Z",
     "iopub.status.busy": "2022-03-22T16:12:23.047066Z",
     "iopub.status.idle": "2022-03-22T16:12:23.064122Z",
     "shell.execute_reply": "2022-03-22T16:12:23.063293Z"
    },
    "papermill": {
     "duration": 0.039716,
     "end_time": "2022-03-22T16:12:23.064272",
     "exception": false,
     "start_time": "2022-03-22T16:12:23.024556",
     "status": "completed"
    },
    "tags": []
   },
   "outputs": [],
   "source": [
    "# from steves_utils.ORACLE.utils_v2 import (\n",
    "#     ALL_DISTANCES_FEET,\n",
    "#     ALL_RUNS,\n",
    "#     ALL_SERIAL_NUMBERS,\n",
    "# )\n",
    "\n",
    "\n",
    "# add_dataset(\n",
    "#     labels=ALL_SERIAL_NUMBERS,\n",
    "#     domains = list(set(ALL_DISTANCES_FEET) - {2,62,56}),\n",
    "#     num_examples_per_domain_per_label=100,\n",
    "#     pickle_path=os.path.join(get_datasets_base_path(), \"oracle.Run2_framed_2000Examples_stratified_ds.2022A.pkl\"),\n",
    "#     source_or_target_dataset=\"source\",\n",
    "#     x_transform_func=global_x_transform_func,\n",
    "#     domain_modifier=lambda u: f\"oracle2_{u}\"\n",
    "# )"
   ]
  },
  {
   "cell_type": "code",
   "execution_count": 17,
   "id": "6f289866",
   "metadata": {
    "execution": {
     "iopub.execute_input": "2022-03-22T16:12:23.115714Z",
     "iopub.status.busy": "2022-03-22T16:12:23.114575Z",
     "iopub.status.idle": "2022-03-22T16:12:23.136960Z",
     "shell.execute_reply": "2022-03-22T16:12:23.136174Z"
    },
    "papermill": {
     "duration": 0.04588,
     "end_time": "2022-03-22T16:12:23.137109",
     "exception": false,
     "start_time": "2022-03-22T16:12:23.091229",
     "status": "completed"
    },
    "tags": []
   },
   "outputs": [],
   "source": [
    "# add_dataset(\n",
    "#     labels=list(range(19)),\n",
    "#     domains = [0,1,2],\n",
    "#     num_examples_per_domain_per_label=100,\n",
    "#     pickle_path=os.path.join(get_datasets_base_path(), \"metehan.stratified_ds.2022A.pkl\"),\n",
    "#     source_or_target_dataset=\"target\",\n",
    "#     x_transform_func=global_x_transform_func,\n",
    "#     domain_modifier=lambda u: f\"met_{u}\"\n",
    "# )"
   ]
  },
  {
   "cell_type": "code",
   "execution_count": 18,
   "id": "86a863c3",
   "metadata": {
    "execution": {
     "iopub.execute_input": "2022-03-22T16:12:23.188494Z",
     "iopub.status.busy": "2022-03-22T16:12:23.188134Z",
     "iopub.status.idle": "2022-03-22T16:12:23.204868Z",
     "shell.execute_reply": "2022-03-22T16:12:23.204329Z"
    },
    "papermill": {
     "duration": 0.039131,
     "end_time": "2022-03-22T16:12:23.204970",
     "exception": false,
     "start_time": "2022-03-22T16:12:23.165839",
     "status": "completed"
    },
    "tags": []
   },
   "outputs": [],
   "source": [
    "# # from steves_utils.wisig.utils import (\n",
    "# #     ALL_NODES_MINIMUM_100_EXAMPLES,\n",
    "# #     ALL_NODES_MINIMUM_500_EXAMPLES,\n",
    "# #     ALL_NODES_MINIMUM_1000_EXAMPLES,\n",
    "# #     ALL_DAYS\n",
    "# # )\n",
    "\n",
    "# import steves_utils.wisig.utils as wisig\n",
    "\n",
    "\n",
    "# add_dataset(\n",
    "#     labels=wisig.ALL_NODES_MINIMUM_100_EXAMPLES,\n",
    "#     domains = wisig.ALL_DAYS,\n",
    "#     num_examples_per_domain_per_label=100,\n",
    "#     pickle_path=os.path.join(get_datasets_base_path(), \"wisig.node3-19.stratified_ds.2022A.pkl\"),\n",
    "#     source_or_target_dataset=\"target\",\n",
    "#     x_transform_func=global_x_transform_func,\n",
    "#     domain_modifier=lambda u: f\"wisig_{u}\"\n",
    "# )"
   ]
  },
  {
   "cell_type": "code",
   "execution_count": 19,
   "id": "fd5442bc",
   "metadata": {
    "execution": {
     "iopub.execute_input": "2022-03-22T16:12:23.258682Z",
     "iopub.status.busy": "2022-03-22T16:12:23.258313Z",
     "iopub.status.idle": "2022-03-22T16:12:23.277162Z",
     "shell.execute_reply": "2022-03-22T16:12:23.276356Z"
    },
    "papermill": {
     "duration": 0.04395,
     "end_time": "2022-03-22T16:12:23.277312",
     "exception": false,
     "start_time": "2022-03-22T16:12:23.233362",
     "status": "completed"
    },
    "tags": []
   },
   "outputs": [],
   "source": [
    "###################################\n",
    "# Build the dataset\n",
    "###################################\n",
    "train_original_source = Iterable_Aggregator(train_original_source, p.seed)\n",
    "val_original_source = Iterable_Aggregator(val_original_source, p.seed)\n",
    "test_original_source = Iterable_Aggregator(test_original_source, p.seed)\n",
    "\n",
    "\n",
    "train_original_target = Iterable_Aggregator(train_original_target, p.seed)\n",
    "val_original_target = Iterable_Aggregator(val_original_target, p.seed)\n",
    "test_original_target = Iterable_Aggregator(test_original_target, p.seed)\n",
    "\n",
    "# For CNN We only use X and Y. And we only train on the source.\n",
    "# Properly form the data using a transform lambda and Lazy_Iterable_Wrapper. Finally wrap them in a dataloader\n",
    "\n",
    "transform_lambda = lambda ex: ex[1] # Original is (<domain>, <episode>) so we strip down to episode only\n",
    "\n",
    "train_processed_source = Lazy_Iterable_Wrapper(train_original_source, transform_lambda)\n",
    "val_processed_source   = Lazy_Iterable_Wrapper(val_original_source, transform_lambda)\n",
    "test_processed_source  = Lazy_Iterable_Wrapper(test_original_source, transform_lambda)\n",
    "\n",
    "train_processed_target = Lazy_Iterable_Wrapper(train_original_target, transform_lambda)\n",
    "val_processed_target   = Lazy_Iterable_Wrapper(val_original_target, transform_lambda)\n",
    "test_processed_target  = Lazy_Iterable_Wrapper(test_original_target, transform_lambda)\n",
    "\n",
    "datasets = EasyDict({\n",
    "    \"source\": {\n",
    "        \"original\": {\"train\":train_original_source, \"val\":val_original_source, \"test\":test_original_source},\n",
    "        \"processed\": {\"train\":train_processed_source, \"val\":val_processed_source, \"test\":test_processed_source}\n",
    "    },\n",
    "    \"target\": {\n",
    "        \"original\": {\"train\":train_original_target, \"val\":val_original_target, \"test\":test_original_target},\n",
    "        \"processed\": {\"train\":train_processed_target, \"val\":val_processed_target, \"test\":test_processed_target}\n",
    "    },\n",
    "})"
   ]
  },
  {
   "cell_type": "code",
   "execution_count": 20,
   "id": "5b3c01fc",
   "metadata": {
    "execution": {
     "iopub.execute_input": "2022-03-22T16:12:23.330342Z",
     "iopub.status.busy": "2022-03-22T16:12:23.329788Z",
     "iopub.status.idle": "2022-03-22T16:12:38.420579Z",
     "shell.execute_reply": "2022-03-22T16:12:38.419867Z"
    },
    "papermill": {
     "duration": 15.116938,
     "end_time": "2022-03-22T16:12:38.420762",
     "exception": false,
     "start_time": "2022-03-22T16:12:23.303824",
     "status": "completed"
    },
    "tags": []
   },
   "outputs": [
    {
     "name": "stdout",
     "output_type": "stream",
     "text": [
      "{'ORACLE.run1_20', 'ORACLE.run1_32', 'ORACLE.run1_44', 'ORACLE.run1_14', 'ORACLE.run1_26', 'ORACLE.run1_8', 'ORACLE.run1_50', 'ORACLE.run1_38'}\n"
     ]
    },
    {
     "name": "stdout",
     "output_type": "stream",
     "text": [
      "{'CORES_5', 'CORES_3', 'CORES_1', 'CORES_2', 'CORES_4'}\n"
     ]
    },
    {
     "name": "stdout",
     "output_type": "stream",
     "text": [
      "tensor([[[-1.8616e-03,  3.6622e-03,  4.8524e-03,  ...,  0.0000e+00,\n",
      "          -1.6175e-03,  4.4252e-03],\n",
      "         [-3.0519e-04, -1.3428e-03, -3.5401e-03,  ...,  3.9674e-04,\n",
      "          -2.8687e-03,  1.4344e-03]],\n",
      "\n",
      "        [[-2.1363e-03, -2.0753e-03,  6.8056e-03,  ...,  1.1292e-03,\n",
      "           6.7141e-04, -2.9603e-03],\n",
      "         [-4.2726e-04,  2.5330e-03, -2.1363e-03,  ...,  1.5870e-03,\n",
      "           1.0071e-03,  1.8311e-04]],\n",
      "\n",
      "        [[-8.2705e-03, -1.2207e-03,  3.8148e-03,  ...,  1.9837e-03,\n",
      "          -3.2044e-03, -1.0071e-03],\n",
      "         [ 1.8616e-03,  2.1973e-03, -4.1505e-03,  ...,  1.2818e-03,\n",
      "           3.2960e-03, -4.5473e-03]],\n",
      "\n",
      "        ...,\n",
      "\n",
      "        [[-2.5025e-03, -2.2584e-03,  4.8219e-03,  ..., -5.7985e-04,\n",
      "           3.5096e-03,  3.7843e-03],\n",
      "         [ 2.8077e-03, -1.0071e-03,  6.1037e-04,  ..., -1.8006e-03,\n",
      "           3.1739e-03,  3.3876e-03]],\n",
      "\n",
      "        [[-2.7772e-03,  1.3428e-03, -9.1556e-05,  ..., -1.1292e-03,\n",
      "          -3.3570e-04,  6.4089e-04],\n",
      "         [-4.3031e-03, -2.9908e-03,  1.0987e-03,  ...,  1.5870e-03,\n",
      "           3.0213e-03,  1.0071e-03]],\n",
      "\n",
      "        [[-1.0376e-03,  4.1505e-03,  1.9227e-03,  ...,  9.4607e-04,\n",
      "           3.5401e-03,  2.0447e-03],\n",
      "         [-1.0071e-03,  2.4415e-04,  4.5167e-03,  ...,  1.8921e-03,\n",
      "           3.0213e-03,  1.4954e-03]]])\n"
     ]
    }
   ],
   "source": [
    "from steves_utils.transforms import get_average_magnitude, get_average_power\n",
    "\n",
    "print(set([u for u,_ in val_original_source]))\n",
    "print(set([u for u,_ in val_original_target]))\n",
    "\n",
    "s_x, s_y, q_x, q_y, _ = next(iter(train_processed_source))\n",
    "print(s_x)\n",
    "\n",
    "# for ds in [\n",
    "#     train_processed_source,\n",
    "#     val_processed_source,\n",
    "#     test_processed_source,\n",
    "#     train_processed_target,\n",
    "#     val_processed_target,\n",
    "#     test_processed_target\n",
    "# ]:\n",
    "#     for s_x, s_y, q_x, q_y, _ in ds:\n",
    "#         for X in (s_x, q_x):\n",
    "#             for x in X:\n",
    "#                 assert np.isclose(get_average_magnitude(x.numpy()), 1.0)\n",
    "#                 assert np.isclose(get_average_power(x.numpy()), 1.0)\n",
    "                "
   ]
  },
  {
   "cell_type": "code",
   "execution_count": 21,
   "id": "bbdacba1",
   "metadata": {
    "execution": {
     "iopub.execute_input": "2022-03-22T16:12:38.477266Z",
     "iopub.status.busy": "2022-03-22T16:12:38.476644Z",
     "iopub.status.idle": "2022-03-22T16:12:38.679659Z",
     "shell.execute_reply": "2022-03-22T16:12:38.678885Z"
    },
    "papermill": {
     "duration": 0.231469,
     "end_time": "2022-03-22T16:12:38.679861",
     "exception": false,
     "start_time": "2022-03-22T16:12:38.448392",
     "status": "completed"
    },
    "tags": []
   },
   "outputs": [
    {
     "name": "stdout",
     "output_type": "stream",
     "text": [
      "(2, 256)\n"
     ]
    }
   ],
   "source": [
    "###################################\n",
    "# Build the model\n",
    "###################################\n",
    "# easfsl only wants a tuple for the shape\n",
    "model = Steves_Prototypical_Network(x_net, device=p.device, x_shape=tuple(p.x_shape))\n",
    "optimizer = Adam(params=model.parameters(), lr=p.lr)"
   ]
  },
  {
   "cell_type": "code",
   "execution_count": 22,
   "id": "22b39ac5",
   "metadata": {
    "execution": {
     "iopub.execute_input": "2022-03-22T16:12:38.752311Z",
     "iopub.status.busy": "2022-03-22T16:12:38.751448Z",
     "iopub.status.idle": "2022-03-22T16:55:58.369167Z",
     "shell.execute_reply": "2022-03-22T16:55:58.368826Z"
    },
    "papermill": {
     "duration": 2599.658898,
     "end_time": "2022-03-22T16:55:58.369251",
     "exception": false,
     "start_time": "2022-03-22T16:12:38.710353",
     "status": "completed"
    },
    "tags": []
   },
   "outputs": [
    {
     "name": "stdout",
     "output_type": "stream",
     "text": [
      "epoch: 1, [batch: 1 / 6720], examples_per_second: 32.9540, train_label_loss: 2.7336, \n"
     ]
    },
    {
     "name": "stdout",
     "output_type": "stream",
     "text": [
      "epoch: 1, [batch: 672 / 6720], examples_per_second: 3177.0683, train_label_loss: 1.6884, \n"
     ]
    },
    {
     "name": "stdout",
     "output_type": "stream",
     "text": [
      "epoch: 1, [batch: 1344 / 6720], examples_per_second: 3439.2884, train_label_loss: 1.0448, \n"
     ]
    },
    {
     "name": "stdout",
     "output_type": "stream",
     "text": [
      "epoch: 1, [batch: 2016 / 6720], examples_per_second: 3399.5113, train_label_loss: 1.2896, \n"
     ]
    },
    {
     "name": "stdout",
     "output_type": "stream",
     "text": [
      "epoch: 1, [batch: 2688 / 6720], examples_per_second: 3446.6224, train_label_loss: 1.1098, \n"
     ]
    },
    {
     "name": "stdout",
     "output_type": "stream",
     "text": [
      "epoch: 1, [batch: 3360 / 6720], examples_per_second: 3407.8121, train_label_loss: 1.0696, \n"
     ]
    },
    {
     "name": "stdout",
     "output_type": "stream",
     "text": [
      "epoch: 1, [batch: 4032 / 6720], examples_per_second: 3463.8858, train_label_loss: 1.2295, \n"
     ]
    },
    {
     "name": "stdout",
     "output_type": "stream",
     "text": [
      "epoch: 1, [batch: 4704 / 6720], examples_per_second: 3355.0115, train_label_loss: 1.2789, \n"
     ]
    },
    {
     "name": "stdout",
     "output_type": "stream",
     "text": [
      "epoch: 1, [batch: 5376 / 6720], examples_per_second: 3367.4294, train_label_loss: 1.0824, \n"
     ]
    },
    {
     "name": "stdout",
     "output_type": "stream",
     "text": [
      "epoch: 1, [batch: 6048 / 6720], examples_per_second: 3364.2384, train_label_loss: 0.8133, \n"
     ]
    },
    {
     "name": "stdout",
     "output_type": "stream",
     "text": [
      "=============================================================\n",
      "epoch: 1, source_val_acc_label: 0.5809, target_val_acc_label: 0.8533, source_val_label_loss: 3.1560, target_val_label_loss: 31.5153, \n",
      "=============================================================\n"
     ]
    },
    {
     "name": "stdout",
     "output_type": "stream",
     "text": [
      "New best\n"
     ]
    },
    {
     "name": "stdout",
     "output_type": "stream",
     "text": [
      "epoch: 2, [batch: 1 / 6720], examples_per_second: 3.3785, train_label_loss: 2.4439, \n"
     ]
    },
    {
     "name": "stdout",
     "output_type": "stream",
     "text": [
      "epoch: 2, [batch: 672 / 6720], examples_per_second: 3892.6416, train_label_loss: 1.2353, \n"
     ]
    },
    {
     "name": "stdout",
     "output_type": "stream",
     "text": [
      "epoch: 2, [batch: 1344 / 6720], examples_per_second: 3892.9241, train_label_loss: 0.5834, \n"
     ]
    },
    {
     "name": "stdout",
     "output_type": "stream",
     "text": [
      "epoch: 2, [batch: 2016 / 6720], examples_per_second: 3915.0712, train_label_loss: 0.4922, \n"
     ]
    },
    {
     "name": "stdout",
     "output_type": "stream",
     "text": [
      "epoch: 2, [batch: 2688 / 6720], examples_per_second: 3949.3317, train_label_loss: 0.6911, \n"
     ]
    },
    {
     "name": "stdout",
     "output_type": "stream",
     "text": [
      "epoch: 2, [batch: 3360 / 6720], examples_per_second: 4053.2899, train_label_loss: 0.8999, \n"
     ]
    },
    {
     "name": "stdout",
     "output_type": "stream",
     "text": [
      "epoch: 2, [batch: 4032 / 6720], examples_per_second: 3964.8488, train_label_loss: 0.8006, \n"
     ]
    },
    {
     "name": "stdout",
     "output_type": "stream",
     "text": [
      "epoch: 2, [batch: 4704 / 6720], examples_per_second: 3876.7713, train_label_loss: 0.8452, \n"
     ]
    },
    {
     "name": "stdout",
     "output_type": "stream",
     "text": [
      "epoch: 2, [batch: 5376 / 6720], examples_per_second: 4043.3195, train_label_loss: 0.3178, \n"
     ]
    },
    {
     "name": "stdout",
     "output_type": "stream",
     "text": [
      "epoch: 2, [batch: 6048 / 6720], examples_per_second: 3131.1792, train_label_loss: 0.3489, \n"
     ]
    },
    {
     "name": "stdout",
     "output_type": "stream",
     "text": [
      "=============================================================\n",
      "epoch: 2, source_val_acc_label: 0.7541, target_val_acc_label: 0.9607, source_val_label_loss: 0.6850, target_val_label_loss: 2.1594, \n",
      "=============================================================\n"
     ]
    },
    {
     "name": "stdout",
     "output_type": "stream",
     "text": [
      "New best\n"
     ]
    },
    {
     "name": "stdout",
     "output_type": "stream",
     "text": [
      "epoch: 3, [batch: 1 / 6720], examples_per_second: 2.7837, train_label_loss: 0.3835, \n"
     ]
    },
    {
     "name": "stdout",
     "output_type": "stream",
     "text": [
      "epoch: 3, [batch: 672 / 6720], examples_per_second: 2948.9817, train_label_loss: 0.9880, \n"
     ]
    },
    {
     "name": "stdout",
     "output_type": "stream",
     "text": [
      "epoch: 3, [batch: 1344 / 6720], examples_per_second: 2969.7977, train_label_loss: 0.3732, \n"
     ]
    },
    {
     "name": "stdout",
     "output_type": "stream",
     "text": [
      "epoch: 3, [batch: 2016 / 6720], examples_per_second: 3005.3707, train_label_loss: 0.4803, \n"
     ]
    },
    {
     "name": "stdout",
     "output_type": "stream",
     "text": [
      "epoch: 3, [batch: 2688 / 6720], examples_per_second: 2954.5858, train_label_loss: 0.6382, \n"
     ]
    },
    {
     "name": "stdout",
     "output_type": "stream",
     "text": [
      "epoch: 3, [batch: 3360 / 6720], examples_per_second: 3004.7261, train_label_loss: 1.1069, \n"
     ]
    },
    {
     "name": "stdout",
     "output_type": "stream",
     "text": [
      "epoch: 3, [batch: 4032 / 6720], examples_per_second: 3066.9737, train_label_loss: 0.6085, \n"
     ]
    },
    {
     "name": "stdout",
     "output_type": "stream",
     "text": [
      "epoch: 3, [batch: 4704 / 6720], examples_per_second: 3389.1669, train_label_loss: 0.9017, \n"
     ]
    },
    {
     "name": "stdout",
     "output_type": "stream",
     "text": [
      "epoch: 3, [batch: 5376 / 6720], examples_per_second: 3384.5567, train_label_loss: 0.4773, \n"
     ]
    },
    {
     "name": "stdout",
     "output_type": "stream",
     "text": [
      "epoch: 3, [batch: 6048 / 6720], examples_per_second: 3256.3859, train_label_loss: 0.6137, \n"
     ]
    },
    {
     "name": "stdout",
     "output_type": "stream",
     "text": [
      "=============================================================\n",
      "epoch: 3, source_val_acc_label: 0.7942, target_val_acc_label: 0.9734, source_val_label_loss: 0.5953, target_val_label_loss: 2.3506, \n",
      "=============================================================\n"
     ]
    },
    {
     "name": "stdout",
     "output_type": "stream",
     "text": [
      "New best\n"
     ]
    },
    {
     "name": "stdout",
     "output_type": "stream",
     "text": [
      "epoch: 4, [batch: 1 / 6720], examples_per_second: 2.8263, train_label_loss: 1.0472, \n"
     ]
    },
    {
     "name": "stdout",
     "output_type": "stream",
     "text": [
      "epoch: 4, [batch: 672 / 6720], examples_per_second: 3115.4654, train_label_loss: 0.2620, \n"
     ]
    },
    {
     "name": "stdout",
     "output_type": "stream",
     "text": [
      "epoch: 4, [batch: 1344 / 6720], examples_per_second: 3028.7318, train_label_loss: 0.3519, \n"
     ]
    },
    {
     "name": "stdout",
     "output_type": "stream",
     "text": [
      "epoch: 4, [batch: 2016 / 6720], examples_per_second: 2966.2334, train_label_loss: 0.2649, \n"
     ]
    },
    {
     "name": "stdout",
     "output_type": "stream",
     "text": [
      "epoch: 4, [batch: 2688 / 6720], examples_per_second: 2960.0613, train_label_loss: 0.3301, \n"
     ]
    },
    {
     "name": "stdout",
     "output_type": "stream",
     "text": [
      "epoch: 4, [batch: 3360 / 6720], examples_per_second: 2961.7662, train_label_loss: 0.2977, \n"
     ]
    },
    {
     "name": "stdout",
     "output_type": "stream",
     "text": [
      "epoch: 4, [batch: 4032 / 6720], examples_per_second: 3021.3062, train_label_loss: 0.1819, \n"
     ]
    },
    {
     "name": "stdout",
     "output_type": "stream",
     "text": [
      "epoch: 4, [batch: 4704 / 6720], examples_per_second: 3387.1126, train_label_loss: 0.1342, \n"
     ]
    },
    {
     "name": "stdout",
     "output_type": "stream",
     "text": [
      "epoch: 4, [batch: 5376 / 6720], examples_per_second: 3465.8373, train_label_loss: 0.4166, \n"
     ]
    },
    {
     "name": "stdout",
     "output_type": "stream",
     "text": [
      "epoch: 4, [batch: 6048 / 6720], examples_per_second: 3560.4324, train_label_loss: 0.6065, \n"
     ]
    },
    {
     "name": "stdout",
     "output_type": "stream",
     "text": [
      "=============================================================\n",
      "epoch: 4, source_val_acc_label: 0.8046, target_val_acc_label: 0.9851, source_val_label_loss: 0.5369, target_val_label_loss: 0.7854, \n",
      "=============================================================\n"
     ]
    },
    {
     "name": "stdout",
     "output_type": "stream",
     "text": [
      "New best\n"
     ]
    },
    {
     "name": "stdout",
     "output_type": "stream",
     "text": [
      "epoch: 5, [batch: 1 / 6720], examples_per_second: 3.2226, train_label_loss: 0.2465, \n"
     ]
    },
    {
     "name": "stdout",
     "output_type": "stream",
     "text": [
      "epoch: 5, [batch: 672 / 6720], examples_per_second: 3365.3483, train_label_loss: 0.1992, \n"
     ]
    },
    {
     "name": "stdout",
     "output_type": "stream",
     "text": [
      "epoch: 5, [batch: 1344 / 6720], examples_per_second: 3553.1839, train_label_loss: 0.4800, \n"
     ]
    },
    {
     "name": "stdout",
     "output_type": "stream",
     "text": [
      "epoch: 5, [batch: 2016 / 6720], examples_per_second: 3538.8714, train_label_loss: 0.3534, \n"
     ]
    },
    {
     "name": "stdout",
     "output_type": "stream",
     "text": [
      "epoch: 5, [batch: 2688 / 6720], examples_per_second: 3933.9227, train_label_loss: 0.3441, \n"
     ]
    },
    {
     "name": "stdout",
     "output_type": "stream",
     "text": [
      "epoch: 5, [batch: 3360 / 6720], examples_per_second: 3468.5968, train_label_loss: 0.4522, \n"
     ]
    },
    {
     "name": "stdout",
     "output_type": "stream",
     "text": [
      "epoch: 5, [batch: 4032 / 6720], examples_per_second: 2986.9860, train_label_loss: 0.1854, \n"
     ]
    },
    {
     "name": "stdout",
     "output_type": "stream",
     "text": [
      "epoch: 5, [batch: 4704 / 6720], examples_per_second: 3188.6687, train_label_loss: 0.6879, \n"
     ]
    },
    {
     "name": "stdout",
     "output_type": "stream",
     "text": [
      "epoch: 5, [batch: 5376 / 6720], examples_per_second: 3365.0745, train_label_loss: 0.3526, \n"
     ]
    },
    {
     "name": "stdout",
     "output_type": "stream",
     "text": [
      "epoch: 5, [batch: 6048 / 6720], examples_per_second: 3626.9160, train_label_loss: 0.4088, \n"
     ]
    },
    {
     "name": "stdout",
     "output_type": "stream",
     "text": [
      "=============================================================\n",
      "epoch: 5, source_val_acc_label: 0.8111, target_val_acc_label: 0.9866, source_val_label_loss: 0.5392, target_val_label_loss: 0.8709, \n",
      "=============================================================\n"
     ]
    },
    {
     "name": "stdout",
     "output_type": "stream",
     "text": [
      "New best\n"
     ]
    },
    {
     "name": "stdout",
     "output_type": "stream",
     "text": [
      "epoch: 6, [batch: 1 / 6720], examples_per_second: 2.8158, train_label_loss: 0.1146, \n"
     ]
    },
    {
     "name": "stdout",
     "output_type": "stream",
     "text": [
      "epoch: 6, [batch: 672 / 6720], examples_per_second: 2955.3878, train_label_loss: 0.5291, \n"
     ]
    },
    {
     "name": "stdout",
     "output_type": "stream",
     "text": [
      "epoch: 6, [batch: 1344 / 6720], examples_per_second: 2972.4300, train_label_loss: 0.4692, \n"
     ]
    },
    {
     "name": "stdout",
     "output_type": "stream",
     "text": [
      "epoch: 6, [batch: 2016 / 6720], examples_per_second: 2980.7545, train_label_loss: 0.1478, \n"
     ]
    },
    {
     "name": "stdout",
     "output_type": "stream",
     "text": [
      "epoch: 6, [batch: 2688 / 6720], examples_per_second: 2974.8866, train_label_loss: 0.4305, \n"
     ]
    },
    {
     "name": "stdout",
     "output_type": "stream",
     "text": [
      "epoch: 6, [batch: 3360 / 6720], examples_per_second: 2974.7427, train_label_loss: 0.1868, \n"
     ]
    },
    {
     "name": "stdout",
     "output_type": "stream",
     "text": [
      "epoch: 6, [batch: 4032 / 6720], examples_per_second: 2997.4918, train_label_loss: 0.1500, \n"
     ]
    },
    {
     "name": "stdout",
     "output_type": "stream",
     "text": [
      "epoch: 6, [batch: 4704 / 6720], examples_per_second: 3116.0999, train_label_loss: 0.3786, \n"
     ]
    },
    {
     "name": "stdout",
     "output_type": "stream",
     "text": [
      "epoch: 6, [batch: 5376 / 6720], examples_per_second: 3478.6168, train_label_loss: 0.1490, \n"
     ]
    },
    {
     "name": "stdout",
     "output_type": "stream",
     "text": [
      "epoch: 6, [batch: 6048 / 6720], examples_per_second: 3530.3654, train_label_loss: 0.3996, \n"
     ]
    },
    {
     "name": "stdout",
     "output_type": "stream",
     "text": [
      "=============================================================\n",
      "epoch: 6, source_val_acc_label: 0.8146, target_val_acc_label: 0.9863, source_val_label_loss: 0.5708, target_val_label_loss: 1.4531, \n",
      "=============================================================\n"
     ]
    },
    {
     "name": "stdout",
     "output_type": "stream",
     "text": [
      "epoch: 7, [batch: 1 / 6720], examples_per_second: 2.8708, train_label_loss: 0.1810, \n"
     ]
    },
    {
     "name": "stdout",
     "output_type": "stream",
     "text": [
      "epoch: 7, [batch: 672 / 6720], examples_per_second: 3042.3989, train_label_loss: 0.1195, \n"
     ]
    },
    {
     "name": "stdout",
     "output_type": "stream",
     "text": [
      "epoch: 7, [batch: 1344 / 6720], examples_per_second: 3015.3388, train_label_loss: 0.2538, \n"
     ]
    },
    {
     "name": "stdout",
     "output_type": "stream",
     "text": [
      "epoch: 7, [batch: 2016 / 6720], examples_per_second: 2985.4037, train_label_loss: 0.3351, \n"
     ]
    },
    {
     "name": "stdout",
     "output_type": "stream",
     "text": [
      "epoch: 7, [batch: 2688 / 6720], examples_per_second: 2976.5198, train_label_loss: 0.2323, \n"
     ]
    },
    {
     "name": "stdout",
     "output_type": "stream",
     "text": [
      "epoch: 7, [batch: 3360 / 6720], examples_per_second: 2990.3926, train_label_loss: 0.1549, \n"
     ]
    },
    {
     "name": "stdout",
     "output_type": "stream",
     "text": [
      "epoch: 7, [batch: 4032 / 6720], examples_per_second: 2998.4864, train_label_loss: 0.2229, \n"
     ]
    },
    {
     "name": "stdout",
     "output_type": "stream",
     "text": [
      "epoch: 7, [batch: 4704 / 6720], examples_per_second: 3098.3411, train_label_loss: 0.2511, \n"
     ]
    },
    {
     "name": "stdout",
     "output_type": "stream",
     "text": [
      "epoch: 7, [batch: 5376 / 6720], examples_per_second: 3466.9740, train_label_loss: 0.1842, \n"
     ]
    },
    {
     "name": "stdout",
     "output_type": "stream",
     "text": [
      "epoch: 7, [batch: 6048 / 6720], examples_per_second: 3502.6462, train_label_loss: 0.1692, \n"
     ]
    },
    {
     "name": "stdout",
     "output_type": "stream",
     "text": [
      "=============================================================\n",
      "epoch: 7, source_val_acc_label: 0.8154, target_val_acc_label: 0.9883, source_val_label_loss: 0.5670, target_val_label_loss: 1.2359, \n",
      "=============================================================\n"
     ]
    },
    {
     "name": "stdout",
     "output_type": "stream",
     "text": [
      "New best\n"
     ]
    },
    {
     "name": "stdout",
     "output_type": "stream",
     "text": [
      "epoch: 8, [batch: 1 / 6720], examples_per_second: 2.9846, train_label_loss: 0.4666, \n"
     ]
    },
    {
     "name": "stdout",
     "output_type": "stream",
     "text": [
      "epoch: 8, [batch: 672 / 6720], examples_per_second: 3046.0902, train_label_loss: 0.1084, \n"
     ]
    },
    {
     "name": "stdout",
     "output_type": "stream",
     "text": [
      "epoch: 8, [batch: 1344 / 6720], examples_per_second: 3004.3333, train_label_loss: 0.2176, \n"
     ]
    },
    {
     "name": "stdout",
     "output_type": "stream",
     "text": [
      "epoch: 8, [batch: 2016 / 6720], examples_per_second: 3024.3867, train_label_loss: 0.4726, \n"
     ]
    },
    {
     "name": "stdout",
     "output_type": "stream",
     "text": [
      "epoch: 8, [batch: 2688 / 6720], examples_per_second: 3001.0573, train_label_loss: 0.5272, \n"
     ]
    },
    {
     "name": "stdout",
     "output_type": "stream",
     "text": [
      "epoch: 8, [batch: 3360 / 6720], examples_per_second: 3006.2991, train_label_loss: 0.0282, \n"
     ]
    },
    {
     "name": "stdout",
     "output_type": "stream",
     "text": [
      "epoch: 8, [batch: 4032 / 6720], examples_per_second: 3014.3844, train_label_loss: 0.2603, \n"
     ]
    },
    {
     "name": "stdout",
     "output_type": "stream",
     "text": [
      "epoch: 8, [batch: 4704 / 6720], examples_per_second: 3021.0141, train_label_loss: 0.1836, \n"
     ]
    },
    {
     "name": "stdout",
     "output_type": "stream",
     "text": [
      "epoch: 8, [batch: 5376 / 6720], examples_per_second: 3306.4708, train_label_loss: 0.2122, \n"
     ]
    },
    {
     "name": "stdout",
     "output_type": "stream",
     "text": [
      "epoch: 8, [batch: 6048 / 6720], examples_per_second: 3457.5092, train_label_loss: 0.1934, \n"
     ]
    },
    {
     "name": "stdout",
     "output_type": "stream",
     "text": [
      "=============================================================\n",
      "epoch: 8, source_val_acc_label: 0.8128, target_val_acc_label: 0.9885, source_val_label_loss: 0.5868, target_val_label_loss: 1.1596, \n",
      "=============================================================\n"
     ]
    },
    {
     "name": "stdout",
     "output_type": "stream",
     "text": [
      "New best\n"
     ]
    },
    {
     "name": "stdout",
     "output_type": "stream",
     "text": [
      "epoch: 9, [batch: 1 / 6720], examples_per_second: 3.2542, train_label_loss: 0.2558, \n"
     ]
    },
    {
     "name": "stdout",
     "output_type": "stream",
     "text": [
      "epoch: 9, [batch: 672 / 6720], examples_per_second: 3496.2496, train_label_loss: 0.1098, \n"
     ]
    },
    {
     "name": "stdout",
     "output_type": "stream",
     "text": [
      "epoch: 9, [batch: 1344 / 6720], examples_per_second: 3449.0166, train_label_loss: 0.3510, \n"
     ]
    },
    {
     "name": "stdout",
     "output_type": "stream",
     "text": [
      "epoch: 9, [batch: 2016 / 6720], examples_per_second: 3435.6953, train_label_loss: 0.0690, \n"
     ]
    },
    {
     "name": "stdout",
     "output_type": "stream",
     "text": [
      "epoch: 9, [batch: 2688 / 6720], examples_per_second: 3336.6917, train_label_loss: 0.1848, \n"
     ]
    },
    {
     "name": "stdout",
     "output_type": "stream",
     "text": [
      "epoch: 9, [batch: 3360 / 6720], examples_per_second: 3493.4866, train_label_loss: 0.4549, \n"
     ]
    },
    {
     "name": "stdout",
     "output_type": "stream",
     "text": [
      "epoch: 9, [batch: 4032 / 6720], examples_per_second: 3998.3333, train_label_loss: 0.1613, \n"
     ]
    },
    {
     "name": "stdout",
     "output_type": "stream",
     "text": [
      "epoch: 9, [batch: 4704 / 6720], examples_per_second: 4200.8567, train_label_loss: 0.1903, \n"
     ]
    },
    {
     "name": "stdout",
     "output_type": "stream",
     "text": [
      "epoch: 9, [batch: 5376 / 6720], examples_per_second: 4352.9207, train_label_loss: 0.2505, \n"
     ]
    },
    {
     "name": "stdout",
     "output_type": "stream",
     "text": [
      "epoch: 9, [batch: 6048 / 6720], examples_per_second: 4609.2074, train_label_loss: 0.1172, \n"
     ]
    },
    {
     "name": "stdout",
     "output_type": "stream",
     "text": [
      "=============================================================\n",
      "epoch: 9, source_val_acc_label: 0.8163, target_val_acc_label: 0.9904, source_val_label_loss: 0.5892, target_val_label_loss: 1.1948, \n",
      "=============================================================\n"
     ]
    },
    {
     "name": "stdout",
     "output_type": "stream",
     "text": [
      "New best\n"
     ]
    },
    {
     "name": "stdout",
     "output_type": "stream",
     "text": [
      "epoch: 10, [batch: 1 / 6720], examples_per_second: 5.0082, train_label_loss: 0.1931, \n"
     ]
    },
    {
     "name": "stdout",
     "output_type": "stream",
     "text": [
      "epoch: 10, [batch: 672 / 6720], examples_per_second: 4112.0958, train_label_loss: 0.1006, \n"
     ]
    },
    {
     "name": "stdout",
     "output_type": "stream",
     "text": [
      "epoch: 10, [batch: 1344 / 6720], examples_per_second: 3968.2479, train_label_loss: 0.1976, \n"
     ]
    },
    {
     "name": "stdout",
     "output_type": "stream",
     "text": [
      "epoch: 10, [batch: 2016 / 6720], examples_per_second: 3995.7018, train_label_loss: 0.0917, \n"
     ]
    },
    {
     "name": "stdout",
     "output_type": "stream",
     "text": [
      "epoch: 10, [batch: 2688 / 6720], examples_per_second: 4007.0829, train_label_loss: 0.0504, \n"
     ]
    },
    {
     "name": "stdout",
     "output_type": "stream",
     "text": [
      "epoch: 10, [batch: 3360 / 6720], examples_per_second: 4078.5040, train_label_loss: 0.2055, \n"
     ]
    },
    {
     "name": "stdout",
     "output_type": "stream",
     "text": [
      "epoch: 10, [batch: 4032 / 6720], examples_per_second: 3830.8718, train_label_loss: 0.3072, \n"
     ]
    },
    {
     "name": "stdout",
     "output_type": "stream",
     "text": [
      "epoch: 10, [batch: 4704 / 6720], examples_per_second: 3308.1060, train_label_loss: 0.0974, \n"
     ]
    },
    {
     "name": "stdout",
     "output_type": "stream",
     "text": [
      "epoch: 10, [batch: 5376 / 6720], examples_per_second: 2974.8309, train_label_loss: 0.0581, \n"
     ]
    },
    {
     "name": "stdout",
     "output_type": "stream",
     "text": [
      "epoch: 10, [batch: 6048 / 6720], examples_per_second: 2992.2412, train_label_loss: 0.2780, \n"
     ]
    },
    {
     "name": "stdout",
     "output_type": "stream",
     "text": [
      "=============================================================\n",
      "epoch: 10, source_val_acc_label: 0.8125, target_val_acc_label: 0.9895, source_val_label_loss: 0.6173, target_val_label_loss: 1.2316, \n",
      "=============================================================\n"
     ]
    },
    {
     "name": "stdout",
     "output_type": "stream",
     "text": [
      "epoch: 11, [batch: 1 / 6720], examples_per_second: 2.8141, train_label_loss: 0.2692, \n"
     ]
    },
    {
     "name": "stdout",
     "output_type": "stream",
     "text": [
      "epoch: 11, [batch: 672 / 6720], examples_per_second: 2992.2646, train_label_loss: 0.0427, \n"
     ]
    },
    {
     "name": "stdout",
     "output_type": "stream",
     "text": [
      "epoch: 11, [batch: 1344 / 6720], examples_per_second: 2987.8693, train_label_loss: 0.1009, \n"
     ]
    },
    {
     "name": "stdout",
     "output_type": "stream",
     "text": [
      "epoch: 11, [batch: 2016 / 6720], examples_per_second: 2970.3729, train_label_loss: 0.0497, \n"
     ]
    },
    {
     "name": "stdout",
     "output_type": "stream",
     "text": [
      "epoch: 11, [batch: 2688 / 6720], examples_per_second: 2943.0189, train_label_loss: 0.1312, \n"
     ]
    },
    {
     "name": "stdout",
     "output_type": "stream",
     "text": [
      "epoch: 11, [batch: 3360 / 6720], examples_per_second: 3376.7378, train_label_loss: 0.0296, \n"
     ]
    },
    {
     "name": "stdout",
     "output_type": "stream",
     "text": [
      "epoch: 11, [batch: 4032 / 6720], examples_per_second: 3402.7998, train_label_loss: 0.1471, \n"
     ]
    },
    {
     "name": "stdout",
     "output_type": "stream",
     "text": [
      "epoch: 11, [batch: 4704 / 6720], examples_per_second: 3312.4708, train_label_loss: 0.2298, \n"
     ]
    },
    {
     "name": "stdout",
     "output_type": "stream",
     "text": [
      "epoch: 11, [batch: 5376 / 6720], examples_per_second: 2989.6465, train_label_loss: 0.0346, \n"
     ]
    },
    {
     "name": "stdout",
     "output_type": "stream",
     "text": [
      "epoch: 11, [batch: 6048 / 6720], examples_per_second: 2981.6475, train_label_loss: 0.0530, \n"
     ]
    },
    {
     "name": "stdout",
     "output_type": "stream",
     "text": [
      "=============================================================\n",
      "epoch: 11, source_val_acc_label: 0.8126, target_val_acc_label: 0.9890, source_val_label_loss: 0.6463, target_val_label_loss: 1.4417, \n",
      "=============================================================\n"
     ]
    },
    {
     "name": "stdout",
     "output_type": "stream",
     "text": [
      "epoch: 12, [batch: 1 / 6720], examples_per_second: 2.8440, train_label_loss: 0.0925, \n"
     ]
    },
    {
     "name": "stdout",
     "output_type": "stream",
     "text": [
      "epoch: 12, [batch: 672 / 6720], examples_per_second: 2997.7795, train_label_loss: 0.1617, \n"
     ]
    },
    {
     "name": "stdout",
     "output_type": "stream",
     "text": [
      "epoch: 12, [batch: 1344 / 6720], examples_per_second: 3016.5279, train_label_loss: 0.0821, \n"
     ]
    },
    {
     "name": "stdout",
     "output_type": "stream",
     "text": [
      "epoch: 12, [batch: 2016 / 6720], examples_per_second: 3013.9474, train_label_loss: 0.3613, \n"
     ]
    },
    {
     "name": "stdout",
     "output_type": "stream",
     "text": [
      "epoch: 12, [batch: 2688 / 6720], examples_per_second: 3026.9410, train_label_loss: 0.0477, \n"
     ]
    },
    {
     "name": "stdout",
     "output_type": "stream",
     "text": [
      "epoch: 12, [batch: 3360 / 6720], examples_per_second: 3423.0486, train_label_loss: 0.1568, \n"
     ]
    },
    {
     "name": "stdout",
     "output_type": "stream",
     "text": [
      "epoch: 12, [batch: 4032 / 6720], examples_per_second: 3470.3335, train_label_loss: 0.0605, \n"
     ]
    },
    {
     "name": "stdout",
     "output_type": "stream",
     "text": [
      "epoch: 12, [batch: 4704 / 6720], examples_per_second: 3535.2664, train_label_loss: 0.0975, \n"
     ]
    },
    {
     "name": "stdout",
     "output_type": "stream",
     "text": [
      "epoch: 12, [batch: 5376 / 6720], examples_per_second: 3049.2357, train_label_loss: 0.1839, \n"
     ]
    },
    {
     "name": "stdout",
     "output_type": "stream",
     "text": [
      "epoch: 12, [batch: 6048 / 6720], examples_per_second: 3062.1599, train_label_loss: 0.0966, \n"
     ]
    },
    {
     "name": "stdout",
     "output_type": "stream",
     "text": [
      "=============================================================\n",
      "epoch: 12, source_val_acc_label: 0.8079, target_val_acc_label: 0.9875, source_val_label_loss: 0.6707, target_val_label_loss: 1.9279, \n",
      "=============================================================\n"
     ]
    },
    {
     "name": "stdout",
     "output_type": "stream",
     "text": [
      "epoch: 13, [batch: 1 / 6720], examples_per_second: 2.8278, train_label_loss: 0.1374, \n"
     ]
    },
    {
     "name": "stdout",
     "output_type": "stream",
     "text": [
      "epoch: 13, [batch: 672 / 6720], examples_per_second: 3030.1701, train_label_loss: 0.0800, \n"
     ]
    },
    {
     "name": "stdout",
     "output_type": "stream",
     "text": [
      "epoch: 13, [batch: 1344 / 6720], examples_per_second: 2967.1957, train_label_loss: 0.0603, \n"
     ]
    },
    {
     "name": "stdout",
     "output_type": "stream",
     "text": [
      "epoch: 13, [batch: 2016 / 6720], examples_per_second: 2962.2181, train_label_loss: 0.1037, \n"
     ]
    },
    {
     "name": "stdout",
     "output_type": "stream",
     "text": [
      "epoch: 13, [batch: 2688 / 6720], examples_per_second: 2980.5489, train_label_loss: 0.0853, \n"
     ]
    },
    {
     "name": "stdout",
     "output_type": "stream",
     "text": [
      "epoch: 13, [batch: 3360 / 6720], examples_per_second: 3304.5146, train_label_loss: 0.0945, \n"
     ]
    },
    {
     "name": "stdout",
     "output_type": "stream",
     "text": [
      "epoch: 13, [batch: 4032 / 6720], examples_per_second: 3432.2314, train_label_loss: 0.0438, \n"
     ]
    },
    {
     "name": "stdout",
     "output_type": "stream",
     "text": [
      "epoch: 13, [batch: 4704 / 6720], examples_per_second: 3446.2294, train_label_loss: 0.2787, \n"
     ]
    },
    {
     "name": "stdout",
     "output_type": "stream",
     "text": [
      "epoch: 13, [batch: 5376 / 6720], examples_per_second: 2986.7505, train_label_loss: 0.0599, \n"
     ]
    },
    {
     "name": "stdout",
     "output_type": "stream",
     "text": [
      "epoch: 13, [batch: 6048 / 6720], examples_per_second: 2955.6064, train_label_loss: 0.0866, \n"
     ]
    },
    {
     "name": "stdout",
     "output_type": "stream",
     "text": [
      "=============================================================\n",
      "epoch: 13, source_val_acc_label: 0.8057, target_val_acc_label: 0.9901, source_val_label_loss: 0.6974, target_val_label_loss: 1.2253, \n",
      "=============================================================\n"
     ]
    },
    {
     "name": "stdout",
     "output_type": "stream",
     "text": [
      "Patience (3) exhausted\n"
     ]
    }
   ],
   "source": [
    "###################################\n",
    "# train\n",
    "###################################\n",
    "jig = PTN_Train_Eval_Test_Jig(model, p.BEST_MODEL_PATH, p.device)\n",
    "\n",
    "jig.train(\n",
    "    train_iterable=datasets.source.processed.train,\n",
    "    source_val_iterable=datasets.source.processed.val,\n",
    "    target_val_iterable=datasets.target.processed.val,\n",
    "    num_epochs=p.n_epoch,\n",
    "    num_logs_per_epoch=p.NUM_LOGS_PER_EPOCH,\n",
    "    patience=p.patience,\n",
    "    optimizer=optimizer,\n",
    "    criteria_for_best=p.criteria_for_best,\n",
    ")"
   ]
  },
  {
   "cell_type": "code",
   "execution_count": 23,
   "id": "31e8fabf",
   "metadata": {
    "execution": {
     "iopub.execute_input": "2022-03-22T16:55:58.501663Z",
     "iopub.status.busy": "2022-03-22T16:55:58.500846Z",
     "iopub.status.idle": "2022-03-22T16:55:58.532793Z",
     "shell.execute_reply": "2022-03-22T16:55:58.532022Z"
    },
    "papermill": {
     "duration": 0.099585,
     "end_time": "2022-03-22T16:55:58.532954",
     "exception": false,
     "start_time": "2022-03-22T16:55:58.433369",
     "status": "completed"
    },
    "tags": []
   },
   "outputs": [],
   "source": [
    "total_experiment_time_secs = time.time() - start_time_secs"
   ]
  },
  {
   "cell_type": "code",
   "execution_count": 24,
   "id": "87b9595b",
   "metadata": {
    "execution": {
     "iopub.execute_input": "2022-03-22T16:55:58.680103Z",
     "iopub.status.busy": "2022-03-22T16:55:58.679203Z",
     "iopub.status.idle": "2022-03-22T16:59:01.661486Z",
     "shell.execute_reply": "2022-03-22T16:59:01.662178Z"
    },
    "papermill": {
     "duration": 183.062216,
     "end_time": "2022-03-22T16:59:01.662441",
     "exception": false,
     "start_time": "2022-03-22T16:55:58.600225",
     "status": "completed"
    },
    "tags": []
   },
   "outputs": [],
   "source": [
    "###################################\n",
    "# Evaluate the model\n",
    "###################################\n",
    "source_test_label_accuracy, source_test_label_loss = jig.test(datasets.source.processed.test)\n",
    "target_test_label_accuracy, target_test_label_loss = jig.test(datasets.target.processed.test)\n",
    "\n",
    "source_val_label_accuracy, source_val_label_loss = jig.test(datasets.source.processed.val)\n",
    "target_val_label_accuracy, target_val_label_loss = jig.test(datasets.target.processed.val)\n",
    "\n",
    "history = jig.get_history()\n",
    "\n",
    "total_epochs_trained = len(history[\"epoch_indices\"])\n",
    "\n",
    "val_dl = Iterable_Aggregator((datasets.source.original.val,datasets.target.original.val))\n",
    "\n",
    "confusion = ptn_confusion_by_domain_over_dataloader(model, p.device, val_dl)\n",
    "per_domain_accuracy = per_domain_accuracy_from_confusion(confusion)\n",
    "\n",
    "# Add a key to per_domain_accuracy for if it was a source domain\n",
    "for domain, accuracy in per_domain_accuracy.items():\n",
    "    per_domain_accuracy[domain] = {\n",
    "        \"accuracy\": accuracy,\n",
    "        \"source?\": domain in p.domains_source\n",
    "    }\n",
    "\n",
    "# Do an independent accuracy assesment JUST TO BE SURE!\n",
    "# _source_test_label_accuracy = independent_accuracy_assesment(model, datasets.source.processed.test, p.device)\n",
    "# _target_test_label_accuracy = independent_accuracy_assesment(model, datasets.target.processed.test, p.device)\n",
    "# _source_val_label_accuracy = independent_accuracy_assesment(model, datasets.source.processed.val, p.device)\n",
    "# _target_val_label_accuracy = independent_accuracy_assesment(model, datasets.target.processed.val, p.device)\n",
    "\n",
    "# assert(_source_test_label_accuracy == source_test_label_accuracy)\n",
    "# assert(_target_test_label_accuracy == target_test_label_accuracy)\n",
    "# assert(_source_val_label_accuracy == source_val_label_accuracy)\n",
    "# assert(_target_val_label_accuracy == target_val_label_accuracy)\n",
    "\n",
    "experiment = {\n",
    "    \"experiment_name\": p.experiment_name,\n",
    "    \"parameters\": dict(p),\n",
    "    \"results\": {\n",
    "        \"source_test_label_accuracy\": source_test_label_accuracy,\n",
    "        \"source_test_label_loss\": source_test_label_loss,\n",
    "        \"target_test_label_accuracy\": target_test_label_accuracy,\n",
    "        \"target_test_label_loss\": target_test_label_loss,\n",
    "        \"source_val_label_accuracy\": source_val_label_accuracy,\n",
    "        \"source_val_label_loss\": source_val_label_loss,\n",
    "        \"target_val_label_accuracy\": target_val_label_accuracy,\n",
    "        \"target_val_label_loss\": target_val_label_loss,\n",
    "        \"total_epochs_trained\": total_epochs_trained,\n",
    "        \"total_experiment_time_secs\": total_experiment_time_secs,\n",
    "        \"confusion\": confusion,\n",
    "        \"per_domain_accuracy\": per_domain_accuracy,\n",
    "    },\n",
    "    \"history\": history,\n",
    "    \"dataset_metrics\": get_dataset_metrics(datasets, \"ptn\"),\n",
    "}"
   ]
  },
  {
   "cell_type": "code",
   "execution_count": 25,
   "id": "54a21829",
   "metadata": {
    "execution": {
     "iopub.execute_input": "2022-03-22T16:59:01.799352Z",
     "iopub.status.busy": "2022-03-22T16:59:01.798962Z",
     "iopub.status.idle": "2022-03-22T16:59:02.014823Z",
     "shell.execute_reply": "2022-03-22T16:59:02.015556Z"
    },
    "papermill": {
     "duration": 0.284149,
     "end_time": "2022-03-22T16:59:02.015808",
     "exception": false,
     "start_time": "2022-03-22T16:59:01.731659",
     "status": "completed"
    },
    "tags": []
   },
   "outputs": [
    {
     "data": {
      "image/png": "[encoded data removed]",
      "text/plain": [
       "<Figure size 1080x504 with 1 Axes>"
      ]
     },
     "metadata": {
      "needs_background": "light"
     },
     "output_type": "display_data"
    }
   ],
   "source": [
    "ax = get_loss_curve(experiment)\n",
    "plt.show()"
   ]
  },
  {
   "cell_type": "code",
   "execution_count": 26,
   "id": "fd8a0f60",
   "metadata": {
    "execution": {
     "iopub.execute_input": "2022-03-22T16:59:02.150849Z",
     "iopub.status.busy": "2022-03-22T16:59:02.150460Z",
     "iopub.status.idle": "2022-03-22T16:59:02.482506Z",
     "shell.execute_reply": "2022-03-22T16:59:02.482817Z"
    },
    "papermill": {
     "duration": 0.400049,
     "end_time": "2022-03-22T16:59:02.482937",
     "exception": false,
     "start_time": "2022-03-22T16:59:02.082888",
     "status": "completed"
    },
    "tags": []
   },
   "outputs": [
    {
     "data": {
      "text/plain": [
       "<AxesSubplot:title={'center':'Results'}>"
      ]
     },
     "execution_count": 26,
     "metadata": {},
     "output_type": "execute_result"
    },
    {
     "data": {
      "image/png": "[encoded data removed]",
      "text/plain": [
       "<Figure size 1080x504 with 1 Axes>"
      ]
     },
     "metadata": {
      "needs_background": "light"
     },
     "output_type": "display_data"
    }
   ],
   "source": [
    "get_results_table(experiment)"
   ]
  },
  {
   "cell_type": "code",
   "execution_count": 27,
   "id": "cf8dc689",
   "metadata": {
    "execution": {
     "iopub.execute_input": "2022-03-22T16:59:02.617654Z",
     "iopub.status.busy": "2022-03-22T16:59:02.617286Z",
     "iopub.status.idle": "2022-03-22T16:59:02.876423Z",
     "shell.execute_reply": "2022-03-22T16:59:02.877098Z"
    },
    "papermill": {
     "duration": 0.328488,
     "end_time": "2022-03-22T16:59:02.877312",
     "exception": false,
     "start_time": "2022-03-22T16:59:02.548824",
     "status": "completed"
    },
    "tags": []
   },
   "outputs": [
    {
     "data": {
      "text/plain": [
       "<AxesSubplot:title={'center':'Per Domain Validation Accuracy'}, xlabel='domain'>"
      ]
     },
     "execution_count": 27,
     "metadata": {},
     "output_type": "execute_result"
    },
    {
     "data": {
      "image/png": "[encoded data removed]",
      "text/plain": [
       "<Figure size 1080x504 with 1 Axes>"
      ]
     },
     "metadata": {
      "needs_background": "light"
     },
     "output_type": "display_data"
    }
   ],
   "source": [
    "get_domain_accuracies(experiment)"
   ]
  },
  {
   "cell_type": "code",
   "execution_count": 28,
   "id": "a74ae082",
   "metadata": {
    "execution": {
     "iopub.execute_input": "2022-03-22T16:59:03.022036Z",
     "iopub.status.busy": "2022-03-22T16:59:03.021465Z",
     "iopub.status.idle": "2022-03-22T16:59:03.047607Z",
     "shell.execute_reply": "2022-03-22T16:59:03.046871Z"
    },
    "papermill": {
     "duration": 0.098597,
     "end_time": "2022-03-22T16:59:03.047771",
     "exception": false,
     "start_time": "2022-03-22T16:59:02.949174",
     "status": "completed"
    },
    "tags": []
   },
   "outputs": [
    {
     "name": "stdout",
     "output_type": "stream",
     "text": [
      "Source Test Label Accuracy: 0.8134440104166667 Target Test Label Accuracy: 0.9882415254237288\n",
      "Source Val Label Accuracy: 0.8163411458333333 Target Val Label Accuracy: 0.9903928571428572\n"
     ]
    }
   ],
   "source": [
    "print(\"Source Test Label Accuracy:\", experiment[\"results\"][\"source_test_label_accuracy\"], \"Target Test Label Accuracy:\", experiment[\"results\"][\"target_test_label_accuracy\"])\n",
    "print(\"Source Val Label Accuracy:\", experiment[\"results\"][\"source_val_label_accuracy\"], \"Target Val Label Accuracy:\", experiment[\"results\"][\"target_val_label_accuracy\"])"
   ]
  },
  {
   "cell_type": "code",
   "execution_count": 29,
   "id": "dacca602",
   "metadata": {
    "execution": {
     "iopub.execute_input": "2022-03-22T16:59:03.190585Z",
     "iopub.status.busy": "2022-03-22T16:59:03.190107Z",
     "iopub.status.idle": "2022-03-22T16:59:03.213488Z",
     "shell.execute_reply": "2022-03-22T16:59:03.214146Z"
    },
    "papermill": {
     "duration": 0.093179,
     "end_time": "2022-03-22T16:59:03.214339",
     "exception": false,
     "start_time": "2022-03-22T16:59:03.121160",
     "status": "completed"
    },
    "tags": [
     "experiment_json"
    ]
   },
   "outputs": [
    {
     "data": {
      "text/plain": [
       "'{\"experiment_name\": \"tl_1v2:cores-oracle.run1.limited\", \"parameters\": {\"experiment_name\": \"tl_1v2:cores-oracle.run1.limited\", \"device\": \"cuda\", \"lr\": 0.0001, \"n_shot\": 3, \"n_query\": 2, \"train_k_factor\": 3, \"val_k_factor\": 2, \"test_k_factor\": 2, \"torch_default_dtype\": \"torch.float32\", \"n_epoch\": 50, \"patience\": 3, \"criteria_for_best\": \"target_accuracy\", \"x_net\": [{\"class\": \"nnReshape\", \"kargs\": {\"shape\": [-1, 1, 2, 256]}}, {\"class\": \"Conv2d\", \"kargs\": {\"in_channels\": 1, \"out_channels\": 256, \"kernel_size\": [1, 7], \"bias\": false, \"padding\": [0, 3]}}, {\"class\": \"ReLU\", \"kargs\": {\"inplace\": true}}, {\"class\": \"BatchNorm2d\", \"kargs\": {\"num_features\": 256}}, {\"class\": \"Conv2d\", \"kargs\": {\"in_channels\": 256, \"out_channels\": 80, \"kernel_size\": [2, 7], \"bias\": true, \"padding\": [0, 3]}}, {\"class\": \"ReLU\", \"kargs\": {\"inplace\": true}}, {\"class\": \"BatchNorm2d\", \"kargs\": {\"num_features\": 80}}, {\"class\": \"Flatten\", \"kargs\": {}}, {\"class\": \"Linear\", \"kargs\": {\"in_features\": 20480, \"out_features\": 256}}, {\"class\": \"ReLU\", \"kargs\": {\"inplace\": true}}, {\"class\": \"BatchNorm1d\", \"kargs\": {\"num_features\": 256}}, {\"class\": \"Linear\", \"kargs\": {\"in_features\": 256, \"out_features\": 256}}], \"NUM_LOGS_PER_EPOCH\": 10, \"BEST_MODEL_PATH\": \"./best_model.pth\", \"n_way\": 16, \"datasets\": [{\"labels\": [\"1-10.\", \"1-11.\", \"1-15.\", \"1-16.\", \"1-17.\", \"1-18.\", \"1-19.\", \"10-4.\", \"10-7.\", \"11-1.\", \"11-14.\", \"11-17.\", \"11-20.\", \"11-7.\", \"13-20.\", \"13-8.\", \"14-10.\", \"14-11.\", \"14-14.\", \"14-7.\", \"15-1.\", \"15-20.\", \"16-1.\", \"16-16.\", \"17-10.\", \"17-11.\", \"17-2.\", \"19-1.\", \"19-16.\", \"19-19.\", \"19-20.\", \"19-3.\", \"2-10.\", \"2-11.\", \"2-17.\", \"2-18.\", \"2-20.\", \"2-3.\", \"2-4.\", \"2-5.\", \"2-6.\", \"2-7.\", \"2-8.\", \"3-13.\", \"3-18.\", \"3-3.\", \"4-1.\", \"4-10.\", \"4-11.\", \"4-19.\", \"5-5.\", \"6-15.\", \"7-10.\", \"7-14.\", \"8-18.\", \"8-20.\", \"8-3.\", \"8-8.\"], \"domains\": [1, 2, 3, 4, 5], \"num_examples_per_domain_per_label\": -1, \"pickle_path\": \"/root/csc500-main/datasets/cores.stratified_ds.2022A.pkl\", \"source_or_target_dataset\": \"target\", \"x_transforms\": [], \"episode_transforms\": [], \"domain_prefix\": \"CORES_\"}, {\"labels\": [\"3123D52\", \"3123D65\", \"3123D79\", \"3123D80\", \"3123D54\", \"3123D70\", \"3123D7B\", \"3123D89\", \"3123D58\", \"3123D76\", \"3123D7D\", \"3123EFE\", \"3123D64\", \"3123D78\", \"3123D7E\", \"3124E4A\"], \"domains\": [32, 38, 8, 44, 14, 50, 20, 26], \"num_examples_per_domain_per_label\": 2000, \"pickle_path\": \"/root/csc500-main/datasets/oracle.Run1_10kExamples_stratified_ds.2022A.pkl\", \"source_or_target_dataset\": \"source\", \"x_transforms\": [], \"episode_transforms\": [], \"domain_prefix\": \"ORACLE.run1_\"}], \"dataset_seed\": 7, \"seed\": 7, \"x_shape\": [2, 256], \"domains_source\": [\"ORACLE.run1_32\", \"ORACLE.run1_38\", \"ORACLE.run1_8\", \"ORACLE.run1_44\", \"ORACLE.run1_14\", \"ORACLE.run1_50\", \"ORACLE.run1_20\", \"ORACLE.run1_26\"], \"domains_target\": [\"CORES_1\", \"CORES_2\", \"CORES_3\", \"CORES_4\", \"CORES_5\"]}, \"results\": {\"source_test_label_accuracy\": 0.8134440104166667, \"source_test_label_loss\": 0.5909507870674133, \"target_test_label_accuracy\": 0.9882415254237288, \"target_test_label_loss\": 1.3624508380889893, \"source_val_label_accuracy\": 0.8163411458333333, \"source_val_label_loss\": 0.589184045791626, \"target_val_label_accuracy\": 0.9903928571428572, \"target_val_label_loss\": 1.194837212562561, \"total_epochs_trained\": 13, \"total_experiment_time_secs\": 2622.3180718421936, \"confusion\": {\"ORACLE.run1_26\": {\"0\": {\"0\": 155, \"10\": 27, \"14\": 29, \"8\": 18, \"2\": 6, \"15\": 2, \"6\": 1, \"9\": 2}, \"4\": {\"4\": 235, \"7\": 2, \"13\": 2, \"3\": 1}, \"14\": {\"10\": 72, \"14\": 122, \"0\": 18, \"1\": 19, \"15\": 6, \"5\": 1, \"6\": 2}, \"12\": {\"12\": 240}, \"8\": {\"7\": 28, \"8\": 140, \"9\": 56, \"2\": 12, \"3\": 2, \"0\": 2}, \"7\": {\"9\": 5, \"2\": 29, \"8\": 35, \"7\": 142, \"3\": 29}, \"13\": {\"13\": 217, \"9\": 17, \"2\": 4, \"3\": 2}, \"5\": {\"15\": 49, \"6\": 16, \"5\": 171, \"1\": 4}, \"15\": {\"15\": 134, \"5\": 63, \"10\": 15, \"6\": 19, \"9\": 1, \"0\": 2, \"14\": 3, \"1\": 3}, \"10\": {\"0\": 31, \"10\": 119, \"6\": 12, \"15\": 19, \"14\": 55, \"1\": 4}, \"3\": {\"3\": 194, \"7\": 30, \"2\": 12, \"4\": 3, \"8\": 1}, \"9\": {\"9\": 146, \"7\": 9, \"8\": 62, \"13\": 11, \"2\": 11, \"4\": 1}, \"6\": {\"6\": 167, \"10\": 14, \"15\": 38, \"1\": 7, \"5\": 12, \"14\": 1, \"0\": 1}, \"1\": {\"1\": 179, \"6\": 15, \"14\": 35, \"5\": 1, \"10\": 6, \"0\": 1, \"15\": 3}, \"11\": {\"11\": 240}, \"2\": {\"2\": 134, \"7\": 39, \"3\": 26, \"8\": 21, \"9\": 15, \"0\": 2, \"13\": 2, \"14\": 1}}, \"ORACLE.run1_44\": {\"1\": {\"1\": 226, \"2\": 14}, \"11\": {\"11\": 239, \"13\": 1}, \"3\": {\"12\": 16, \"3\": 224}, \"6\": {\"6\": 180, \"9\": 26, \"13\": 34}, \"7\": {\"10\": 7, \"7\": 190, \"9\": 39, \"2\": 2, \"6\": 2}, \"5\": {\"5\": 211, \"15\": 8, \"14\": 15, \"8\": 4, \"0\": 1, \"4\": 1}, \"2\": {\"2\": 217, \"10\": 10, \"1\": 12, \"7\": 1}, \"15\": {\"15\": 198, \"14\": 12, \"5\": 19, \"8\": 1, \"0\": 6, \"4\": 4}, \"10\": {\"2\": 10, \"10\": 219, \"1\": 4, \"7\": 7}, \"13\": {\"6\": 36, \"13\": 192, \"11\": 7, \"9\": 5}, \"8\": {\"5\": 7, \"8\": 162, \"15\": 13, \"0\": 58}, \"4\": {\"4\": 159, \"14\": 76, \"15\": 4, \"5\": 1}, \"9\": {\"13\": 20, \"9\": 112, \"7\": 74, \"6\": 32, \"2\": 1, \"4\": 1}, \"14\": {\"4\": 54, \"14\": 166, \"15\": 9, \"5\": 11}, \"0\": {\"0\": 192, \"8\": 43, \"5\": 1, \"15\": 4}, \"12\": {\"12\": 233, \"3\": 7}}, \"ORACLE.run1_50\": {\"15\": {\"15\": 214, \"6\": 20, \"11\": 2, \"4\": 3, \"9\": 1}, \"4\": {\"4\": 205, \"7\": 12, \"5\": 10, \"6\": 5, \"15\": 8}, \"6\": {\"6\": 178, \"5\": 42, \"15\": 16, \"4\": 4}, \"2\": {\"2\": 225, \"0\": 15}, \"5\": {\"7\": 69, \"6\": 59, \"5\": 85, \"4\": 13, \"15\": 5, \"1\": 1, \"13\": 8}, \"9\": {\"9\": 194, \"12\": 20, \"11\": 26}, \"8\": {\"8\": 237, \"10\": 3}, \"12\": {\"12\": 212, \"11\": 9, \"9\": 19}, \"10\": {\"10\": 238, \"0\": 2}, \"1\": {\"1\": 230, \"13\": 10}, \"0\": {\"0\": 227, \"2\": 11, \"10\": 2}, \"3\": {\"3\": 240}, \"13\": {\"13\": 240}, \"11\": {\"11\": 207, \"9\": 17, \"12\": 10, \"15\": 6}, \"7\": {\"7\": 220, \"5\": 19, \"4\": 1}, \"14\": {\"14\": 240}}, \"ORACLE.run1_38\": {\"15\": {\"15\": 220, \"8\": 9, \"1\": 7, \"5\": 2, \"12\": 1, \"2\": 1}, \"11\": {\"11\": 240}, \"10\": {\"10\": 225, \"13\": 9, \"0\": 6}, \"14\": {\"2\": 17, \"14\": 221, \"13\": 2}, \"6\": {\"6\": 240}, \"4\": {\"4\": 238, \"10\": 2}, \"13\": {\"13\": 220, \"0\": 2, \"10\": 17, \"2\": 1}, \"3\": {\"3\": 240}, \"7\": {\"7\": 233, \"0\": 4, \"9\": 1, \"5\": 1, \"4\": 1}, \"8\": {\"5\": 81, \"8\": 117, \"7\": 25, \"13\": 7, \"2\": 1, \"15\": 4, \"0\": 5}, \"1\": {\"1\": 238, \"6\": 2}, \"5\": {\"8\": 88, \"5\": 100, \"7\": 19, \"15\": 12, \"9\": 13, \"0\": 5, \"13\": 3}, \"0\": {\"10\": 26, \"0\": 155, \"7\": 32, \"3\": 19, \"13\": 7, \"8\": 1}, \"2\": {\"2\": 214, \"14\": 25, \"13\": 1}, \"12\": {\"12\": 239, \"14\": 1}, \"9\": {\"9\": 233, \"5\": 7}}, \"ORACLE.run1_20\": {\"10\": {\"10\": 238, \"4\": 2}, \"7\": {\"9\": 22, \"7\": 156, \"6\": 12, \"2\": 37, \"4\": 8, \"12\": 3, \"14\": 1, \"8\": 1}, \"4\": {\"2\": 10, \"4\": 202, \"12\": 14, \"7\": 9, \"10\": 4, \"1\": 1}, \"13\": {\"13\": 224, \"15\": 6, \"12\": 3, \"2\": 6, \"4\": 1}, \"1\": {\"1\": 141, \"5\": 64, \"3\": 11, \"15\": 15, \"9\": 8, \"12\": 1}, \"0\": {\"0\": 238, \"3\": 1, \"5\": 1}, \"12\": {\"2\": 37, \"4\": 6, \"13\": 7, \"15\": 38, \"12\": 144, \"7\": 4, \"9\": 2, \"5\": 2}, \"5\": {\"5\": 119, \"1\": 66, \"3\": 41, \"15\": 1, \"9\": 12, \"0\": 1}, \"6\": {\"6\": 233, \"7\": 5, \"14\": 2}, \"2\": {\"2\": 139, \"12\": 25, \"9\": 9, \"13\": 13, \"7\": 29, \"15\": 10, \"4\": 14, \"6\": 1}, \"8\": {\"8\": 197, \"3\": 11, \"14\": 31, \"7\": 1}, \"11\": {\"11\": 240}, \"9\": {\"9\": 141, \"7\": 24, \"5\": 6, \"3\": 30, \"1\": 28, \"2\": 6, \"15\": 1, \"12\": 4}, \"14\": {\"14\": 223, \"8\": 16, \"6\": 1}, \"15\": {\"2\": 13, \"15\": 166, \"13\": 9, \"12\": 37, \"1\": 13, \"9\": 2}, \"3\": {\"3\": 136, \"5\": 31, \"9\": 39, \"0\": 4, \"8\": 18, \"1\": 8, \"7\": 4}}, \"ORACLE.run1_14\": {\"14\": {\"14\": 175, \"6\": 12, \"2\": 15, \"13\": 23, \"3\": 13, \"5\": 2}, \"0\": {\"0\": 233, \"8\": 2, \"3\": 4, \"4\": 1}, \"4\": {\"4\": 224, \"5\": 11, \"14\": 1, \"2\": 4}, \"11\": {\"11\": 240}, \"13\": {\"6\": 100, \"14\": 54, \"2\": 22, \"13\": 60, \"5\": 2, \"15\": 1, \"4\": 1}, \"9\": {\"9\": 240}, \"3\": {\"2\": 3, \"3\": 216, \"14\": 15, \"0\": 4, \"5\": 2}, \"6\": {\"13\": 64, \"6\": 133, \"3\": 2, \"2\": 16, \"14\": 25}, \"1\": {\"1\": 240}, \"5\": {\"5\": 208, \"4\": 3, \"2\": 21, \"7\": 7, \"14\": 1}, \"12\": {\"12\": 240}, \"10\": {\"10\": 240}, \"8\": {\"8\": 239, \"0\": 1}, \"7\": {\"7\": 233, \"5\": 7}, \"15\": {\"15\": 240}, \"2\": {\"2\": 117, \"5\": 46, \"7\": 3, \"4\": 10, \"14\": 25, \"3\": 6, \"13\": 14, \"6\": 19}}, \"ORACLE.run1_32\": {\"11\": {\"11\": 237, \"13\": 3}, \"1\": {\"1\": 240}, \"2\": {\"2\": 211, \"4\": 29}, \"0\": {\"0\": 166, \"14\": 6, \"8\": 22, \"5\": 17, \"7\": 27, \"2\": 2}, \"3\": {\"3\": 220, \"13\": 20}, \"8\": {\"5\": 37, \"8\": 163, \"0\": 21, \"7\": 5, \"14\": 10, \"4\": 3, \"15\": 1}, \"12\": {\"12\": 239, \"9\": 1}, \"5\": {\"14\": 9, \"8\": 34, \"5\": 122, \"7\": 50, \"0\": 24, \"15\": 1}, \"15\": {\"15\": 237, \"5\": 2, \"8\": 1}, \"7\": {\"5\": 38, \"14\": 27, \"0\": 34, \"7\": 137, \"8\": 4}, \"4\": {\"2\": 32, \"4\": 204, \"13\": 4}, \"14\": {\"7\": 49, \"14\": 148, \"8\": 12, \"2\": 4, \"0\": 14, \"4\": 3, \"5\": 9, \"3\": 1}, \"10\": {\"10\": 240}, \"6\": {\"6\": 240}, \"13\": {\"11\": 10, \"4\": 31, \"13\": 167, \"3\": 32}, \"9\": {\"9\": 237, \"12\": 3}}, \"ORACLE.run1_8\": {\"9\": {\"9\": 240}, \"11\": {\"1\": 85, \"6\": 10, \"11\": 105, \"10\": 4, \"14\": 15, \"4\": 11, \"8\": 5, \"13\": 1, \"5\": 4}, \"8\": {\"8\": 218, \"6\": 15, \"4\": 4, \"11\": 1, \"7\": 2}, \"4\": {\"4\": 201, \"10\": 2, \"6\": 13, \"11\": 5, \"14\": 15, \"1\": 2, \"8\": 2}, \"13\": {\"13\": 185, \"6\": 9, \"10\": 29, \"7\": 13, \"5\": 3, \"1\": 1}, \"14\": {\"14\": 220, \"4\": 15, \"11\": 4, \"1\": 1}, \"2\": {\"2\": 172, \"15\": 23, \"3\": 31, \"12\": 14}, \"3\": {\"3\": 239, \"2\": 1}, \"1\": {\"1\": 146, \"11\": 51, \"10\": 19, \"6\": 6, \"4\": 3, \"5\": 11, \"13\": 4}, \"0\": {\"0\": 240}, \"5\": {\"5\": 174, \"1\": 29, \"13\": 4, \"10\": 27, \"11\": 4, \"4\": 2}, \"15\": {\"15\": 198, \"2\": 9, \"12\": 33}, \"10\": {\"10\": 145, \"11\": 2, \"5\": 24, \"13\": 36, \"1\": 29, \"6\": 3, \"4\": 1}, \"12\": {\"12\": 181, \"15\": 59}, \"6\": {\"6\": 177, \"7\": 47, \"13\": 4, \"4\": 6, \"1\": 2, \"8\": 2, \"10\": 1, \"11\": 1}, \"7\": {\"7\": 194, \"6\": 39, \"13\": 7}}, \"CORES_5\": {\"26\": {\"26\": 21, \"42\": 1, \"38\": 1, \"53\": 1}, \"7\": {\"7\": 32}, \"56\": {\"56\": 142}, \"36\": {\"36\": 92}, \"47\": {\"47\": 100}, \"2\": {\"2\": 28}, \"15\": {\"15\": 149, \"11\": 3}, \"14\": {\"14\": 35, \"2\": 3, \"41\": 2, \"39\": 3, \"36\": 1}, \"27\": {\"27\": 146}, \"40\": {\"40\": 124}, \"49\": {\"49\": 36}, \"45\": {\"45\": 124}, \"46\": {\"46\": 136}, \"11\": {\"11\": 130}, \"30\": {\"30\": 112}, \"0\": {\"0\": 124}, \"10\": {\"10\": 68}, \"1\": {\"1\": 148}, \"42\": {\"42\": 38, \"2\": 1, \"34\": 1}, \"54\": {\"54\": 111, \"42\": 1}, \"55\": {\"55\": 152}, \"23\": {\"23\": 122, \"54\": 1, \"53\": 1}, \"25\": {\"25\": 151, \"16\": 1}, \"28\": {\"28\": 32}, \"32\": {\"32\": 32}, \"9\": {\"9\": 142}, \"39\": {\"39\": 20}, \"3\": {\"3\": 100}, \"29\": {\"29\": 118}, \"17\": {\"17\": 116}, \"35\": {\"33\": 1, \"35\": 31, \"49\": 1, \"2\": 2, \"36\": 1}, \"44\": {\"44\": 151, \"5\": 1}, \"5\": {\"5\": 128}, \"33\": {\"33\": 30, \"36\": 2}, \"34\": {\"33\": 1, \"34\": 35}, \"13\": {\"13\": 138}, \"41\": {\"41\": 24, \"14\": 1, \"49\": 1, \"57\": 1, \"48\": 1}, \"6\": {\"6\": 127, \"50\": 1}, \"51\": {\"51\": 138}, \"50\": {\"50\": 144}, \"37\": {\"37\": 21, \"52\": 1, \"8\": 1, \"20\": 1}, \"19\": {\"19\": 144}, \"57\": {\"57\": 132}, \"21\": {\"21\": 144}, \"24\": {\"24\": 80}, \"8\": {\"8\": 129, \"20\": 1}, \"12\": {\"12\": 96}, \"48\": {\"48\": 132}, \"43\": {\"43\": 148, \"54\": 1, \"24\": 1}, \"53\": {\"53\": 147, \"25\": 1}, \"38\": {\"38\": 23, \"7\": 5, \"51\": 4}, \"16\": {\"16\": 140, \"11\": 2}, \"22\": {\"22\": 28}, \"4\": {\"4\": 100}, \"18\": {\"18\": 64}, \"20\": {\"20\": 144}, \"52\": {\"52\": 140}, \"31\": {\"31\": 36}}, \"CORES_1\": {\"41\": {\"41\": 21, \"2\": 1, \"8\": 2}, \"40\": {\"40\": 110}, \"45\": {\"45\": 138}, \"51\": {\"51\": 148}, \"5\": {\"5\": 154}, \"30\": {\"30\": 120}, \"42\": {\"42\": 40}, \"46\": {\"46\": 136}, \"48\": {\"48\": 134}, \"53\": {\"53\": 144}, \"47\": {\"47\": 152}, \"49\": {\"49\": 29, \"39\": 2, \"32\": 1}, \"36\": {\"36\": 64}, \"32\": {\"32\": 32}, \"34\": {\"34\": 21, \"19\": 1, \"55\": 2}, \"29\": {\"29\": 140}, \"35\": {\"35\": 36}, \"3\": {\"3\": 134}, \"16\": {\"16\": 140}, \"26\": {\"26\": 24}, \"57\": {\"57\": 144}, \"44\": {\"44\": 126, \"56\": 2}, \"0\": {\"0\": 152}, \"4\": {\"4\": 132}, \"31\": {\"31\": 27, \"39\": 1}, \"11\": {\"11\": 140}, \"6\": {\"6\": 93, \"50\": 3}, \"54\": {\"54\": 104}, \"17\": {\"17\": 64}, \"20\": {\"20\": 127, \"12\": 1}, \"13\": {\"13\": 150}, \"33\": {\"33\": 32}, \"24\": {\"24\": 108}, \"52\": {\"52\": 131, \"22\": 1}, \"2\": {\"2\": 36}, \"19\": {\"19\": 156}, \"39\": {\"52\": 1, \"39\": 20, \"49\": 2, \"31\": 3, \"21\": 1, \"36\": 1}, \"8\": {\"8\": 140}, \"21\": {\"21\": 124}, \"10\": {\"10\": 96}, \"37\": {\"37\": 30, \"36\": 2}, \"25\": {\"25\": 141, \"16\": 1, \"18\": 2}, \"27\": {\"27\": 128, \"47\": 2}, \"23\": {\"23\": 134, \"15\": 2}, \"1\": {\"1\": 100}, \"50\": {\"50\": 151, \"6\": 1}, \"12\": {\"12\": 113, \"20\": 2, \"13\": 1}, \"18\": {\"18\": 72}, \"38\": {\"38\": 20, \"36\": 2, \"32\": 1, \"49\": 1}, \"14\": {\"14\": 18, \"30\": 2, \"8\": 1, \"13\": 1, \"0\": 1, \"21\": 1}, \"56\": {\"56\": 142}, \"55\": {\"55\": 160}, \"9\": {\"9\": 138}, \"15\": {\"15\": 146}, \"28\": {\"28\": 28}, \"7\": {\"7\": 28}, \"43\": {\"43\": 136}, \"22\": {\"22\": 130, \"21\": 1, \"52\": 3, \"0\": 2}}, \"CORES_3\": {\"1\": {\"1\": 100}, \"9\": {\"9\": 124}, \"22\": {\"22\": 136}, \"43\": {\"43\": 136}, \"49\": {\"49\": 19, \"43\": 1}, \"50\": {\"50\": 130, \"21\": 1, \"46\": 3, \"3\": 4}, \"53\": {\"53\": 136}, \"10\": {\"10\": 64}, \"48\": {\"48\": 116}, \"8\": {\"8\": 136, \"20\": 2}, \"31\": {\"31\": 28}, \"56\": {\"22\": 2, \"56\": 132}, \"25\": {\"25\": 142}, \"28\": {\"28\": 28}, \"38\": {\"38\": 28}, \"5\": {\"5\": 116}, \"12\": {\"12\": 92}, \"6\": {\"6\": 88}, \"19\": {\"19\": 152}, \"26\": {\"26\": 24}, \"32\": {\"32\": 28}, \"33\": {\"33\": 28}, \"3\": {\"3\": 117, \"50\": 1}, \"51\": {\"51\": 128}, \"16\": {\"16\": 138}, \"46\": {\"46\": 136, \"50\": 4}, \"7\": {\"7\": 31, \"48\": 1, \"13\": 3, \"49\": 1}, \"47\": {\"47\": 91, \"0\": 1}, \"39\": {\"39\": 16}, \"40\": {\"40\": 136}, \"14\": {\"14\": 40}, \"37\": {\"37\": 27, \"8\": 1}, \"2\": {\"2\": 32}, \"21\": {\"21\": 120}, \"35\": {\"35\": 27, \"42\": 1}, \"54\": {\"54\": 100}, \"52\": {\"52\": 116}, \"29\": {\"29\": 118}, \"20\": {\"20\": 130, \"8\": 2}, \"18\": {\"18\": 84}, \"11\": {\"11\": 138, \"16\": 1, \"15\": 3}, \"0\": {\"0\": 124}, \"36\": {\"36\": 100}, \"17\": {\"17\": 108}, \"30\": {\"30\": 114}, \"42\": {\"42\": 28}, \"45\": {\"45\": 60}, \"4\": {\"4\": 148}, \"23\": {\"23\": 134}, \"13\": {\"13\": 128}, \"15\": {\"15\": 128}, \"57\": {\"57\": 123, \"29\": 1}, \"27\": {\"27\": 134}, \"44\": {\"44\": 88}, \"34\": {\"34\": 31, \"55\": 1}, \"41\": {\"41\": 27, \"30\": 1}, \"24\": {\"24\": 104}, \"55\": {\"55\": 118}}, \"CORES_4\": {\"52\": {\"52\": 116}, \"6\": {\"6\": 103, \"3\": 5, \"50\": 4}, \"14\": {\"14\": 16}, \"49\": {\"38\": 2, \"49\": 15, \"7\": 1, \"32\": 1, \"41\": 1}, \"0\": {\"0\": 79, \"46\": 1}, \"46\": {\"46\": 156}, \"41\": {\"41\": 33, \"7\": 1, \"32\": 1, \"37\": 1}, \"24\": {\"24\": 56}, \"25\": {\"25\": 152}, \"40\": {\"40\": 138}, \"38\": {\"38\": 38, \"13\": 1, \"57\": 1}, \"13\": {\"13\": 152}, \"9\": {\"9\": 106, \"4\": 2}, \"45\": {\"45\": 96}, \"43\": {\"43\": 144}, \"10\": {\"10\": 130}, \"15\": {\"15\": 125, \"18\": 1, \"11\": 2}, \"39\": {\"39\": 19, \"36\": 1}, \"4\": {\"4\": 132}, \"53\": {\"53\": 132}, \"1\": {\"1\": 40}, \"28\": {\"28\": 32}, \"54\": {\"54\": 108}, \"21\": {\"21\": 132}, \"7\": {\"7\": 23, \"32\": 1}, \"8\": {\"8\": 136}, \"42\": {\"42\": 31, \"26\": 1}, \"11\": {\"11\": 96, \"16\": 3, \"15\": 5}, \"33\": {\"33\": 35, \"14\": 1}, \"27\": {\"27\": 142}, \"19\": {\"19\": 144}, \"2\": {\"2\": 36}, \"3\": {\"3\": 117, \"6\": 3}, \"57\": {\"57\": 98, \"1\": 2}, \"20\": {\"20\": 112}, \"23\": {\"23\": 127, \"43\": 1}, \"22\": {\"22\": 128}, \"29\": {\"29\": 123, \"57\": 1}, \"36\": {\"36\": 92}, \"51\": {\"51\": 132}, \"31\": {\"31\": 24, \"36\": 1, \"43\": 1, \"37\": 2}, \"12\": {\"12\": 92}, \"56\": {\"56\": 138}, \"5\": {\"5\": 108}, \"35\": {\"33\": 2, \"35\": 34, \"55\": 2, \"42\": 2}, \"17\": {\"17\": 80}, \"32\": {\"32\": 19, \"14\": 1, \"7\": 2, \"49\": 1, \"54\": 1}, \"47\": {\"47\": 120}, \"18\": {\"18\": 105, \"29\": 1, \"25\": 2}, \"26\": {\"26\": 20, \"34\": 3, \"42\": 1}, \"50\": {\"50\": 110, \"6\": 7, \"3\": 5}, \"55\": {\"55\": 124}, \"34\": {\"26\": 1, \"34\": 22, \"28\": 1}, \"30\": {\"30\": 44}, \"37\": {\"37\": 22, \"52\": 1, \"13\": 1}, \"44\": {\"44\": 132}, \"48\": {\"48\": 118}, \"16\": {\"16\": 95, \"11\": 1}}, \"CORES_2\": {\"11\": {\"11\": 127, \"15\": 3}, \"21\": {\"21\": 120}, \"19\": {\"19\": 140}, \"20\": {\"20\": 128}, \"9\": {\"9\": 140}, \"10\": {\"10\": 112}, \"37\": {\"37\": 35, \"38\": 1}, \"32\": {\"32\": 28}, \"3\": {\"3\": 88, \"50\": 4}, \"39\": {\"39\": 21, \"27\": 1, \"41\": 2, \"7\": 1, \"2\": 1, \"32\": 2}, \"45\": {\"45\": 128}, \"50\": {\"50\": 130, \"46\": 6}, \"40\": {\"40\": 138, \"4\": 1, \"9\": 1}, \"46\": {\"46\": 127, \"50\": 1}, \"12\": {\"12\": 92}, \"13\": {\"13\": 116}, \"47\": {\"47\": 132}, \"15\": {\"15\": 139, \"11\": 1, \"16\": 2}, \"54\": {\"54\": 108}, \"48\": {\"48\": 148}, \"23\": {\"23\": 141, \"49\": 1}, \"29\": {\"29\": 128}, \"38\": {\"38\": 20}, \"53\": {\"53\": 136}, \"27\": {\"27\": 150}, \"43\": {\"43\": 143, \"15\": 1}, \"35\": {\"35\": 32}, \"0\": {\"0\": 48}, \"52\": {\"52\": 124}, \"8\": {\"8\": 127, \"20\": 1}, \"24\": {\"24\": 96}, \"18\": {\"18\": 47, \"25\": 1}, \"25\": {\"25\": 148}, \"57\": {\"57\": 136}, \"55\": {\"55\": 134}, \"36\": {\"36\": 115, \"54\": 1}, \"17\": {\"17\": 104}, \"2\": {\"2\": 32}, \"34\": {\"34\": 26, \"49\": 2}, \"1\": {\"1\": 112}, \"51\": {\"51\": 136}, \"31\": {\"31\": 28}, \"49\": {\"49\": 23, \"17\": 1}, \"14\": {\"14\": 24}, \"33\": {\"33\": 27, \"57\": 1}, \"41\": {\"41\": 17, \"2\": 1, \"48\": 1, \"47\": 1}, \"28\": {\"28\": 28}, \"5\": {\"5\": 120}, \"16\": {\"16\": 150}, \"4\": {\"4\": 128}, \"22\": {\"22\": 135, \"56\": 1}, \"6\": {\"6\": 118}, \"30\": {\"30\": 124}, \"26\": {\"26\": 20, \"54\": 2, \"53\": 2}, \"56\": {\"56\": 142}, \"42\": {\"42\": 36}, \"44\": {\"44\": 100}, \"7\": {\"7\": 36}}}, \"per_domain_accuracy\": {\"ORACLE.run1_26\": {\"accuracy\": 0.7122395833333334, \"source?\": true}, \"ORACLE.run1_44\": {\"accuracy\": 0.8125, \"source?\": true}, \"ORACLE.run1_50\": {\"accuracy\": 0.8833333333333333, \"source?\": true}, \"ORACLE.run1_38\": {\"accuracy\": 0.8783854166666667, \"source?\": true}, \"ORACLE.run1_20\": {\"accuracy\": 0.76484375, \"source?\": true}, \"ORACLE.run1_14\": {\"accuracy\": 0.8536458333333333, \"source?\": true}, \"ORACLE.run1_32\": {\"accuracy\": 0.8354166666666667, \"source?\": true}, \"ORACLE.run1_8\": {\"accuracy\": 0.7903645833333334, \"source?\": true}, \"CORES_5\": {\"accuracy\": 0.9907472067039106, \"source?\": false}, \"CORES_1\": {\"accuracy\": 0.990828804347826, \"source?\": false}, \"CORES_3\": {\"accuracy\": 0.9935661764705882, \"source?\": false}, \"CORES_4\": {\"accuracy\": 0.984375, \"source?\": false}, \"CORES_2\": {\"accuracy\": 0.9921875, \"source?\": false}}}, \"history\": {\"epoch_indices\": [1, 2, 3, 4, 5, 6, 7, 8, 9, 10, 11, 12, 13], \"train_label_loss\": [1.1645760289615108, 0.730426430107937, 0.5231961379836624, 0.41451176323240535, 0.34347397924395323, 0.29205296837774636, 0.2517126070837202, 0.2152249988328549, 0.19066554173727387, 0.17035640815641576, 0.15162356781972144, 0.13773718808494909, 0.1235160119901723], \"source_val_label_loss\": [3.15600848197937, 0.6849970817565918, 0.5952913761138916, 0.5369107127189636, 0.5392296314239502, 0.5708271265029907, 0.5670196413993835, 0.5868402719497681, 0.589184045791626, 0.617301344871521, 0.6463131904602051, 0.6706992387771606, 0.6973738670349121], \"target_val_label_loss\": [31.515342712402344, 2.1593563556671143, 2.350640058517456, 0.7853587865829468, 0.8708792924880981, 1.453055500984192, 1.2359493970870972, 1.1596473455429077, 1.194837212562561, 1.2316105365753174, 1.441664218902588, 1.927880883216858, 1.2253412008285522], \"source_val_acc_label\": [0.580859375, 0.7540690104166666, 0.79423828125, 0.80458984375, 0.8111002604166667, 0.81455078125, 0.8153971354166667, 0.8128255208333334, 0.8163411458333333, 0.8125, 0.8125651041666667, 0.8079427083333334, 0.8057291666666667], \"target_val_acc_label\": [0.8533214285714286, 0.96075, 0.9734285714285714, 0.9851428571428571, 0.9866428571428572, 0.9863214285714286, 0.9883214285714286, 0.9884642857142857, 0.9903928571428572, 0.9895357142857143, 0.9890357142857142, 0.9875357142857143, 0.9901071428571429]}, \"dataset_metrics\": {\"source\": {\"train\": {\"n_unique_x\": 179200, \"n_unique_y\": 16, \"n_batch/episode\": 6720}, \"val\": {\"n_unique_x\": 38400, \"n_unique_y\": 16, \"n_batch/episode\": 960}, \"test\": {\"n_unique_x\": 38400, \"n_unique_y\": 16, \"n_batch/episode\": 960}}, \"target\": {\"train\": {\"n_unique_x\": 175203, \"n_unique_y\": 58, \"n_batch/episode\": 6321}, \"val\": {\"n_unique_x\": 37151, \"n_unique_y\": 58, \"n_batch/episode\": 875}, \"test\": {\"n_unique_x\": 37548, \"n_unique_y\": 58, \"n_batch/episode\": 885}}}}'"
      ]
     },
     "execution_count": 29,
     "metadata": {},
     "output_type": "execute_result"
    }
   ],
   "source": [
    "json.dumps(experiment)"
   ]
  }
 ],
 "metadata": {
  "celltoolbar": "Tags",
  "kernelspec": {
   "display_name": "Python 3 (ipykernel)",
   "language": "python",
   "name": "python3"
  },
  "language_info": {
   "codemirror_mode": {
    "name": "ipython",
    "version": 3
   },
   "file_extension": ".py",
   "mimetype": "text/x-python",
   "name": "python",
   "nbconvert_exporter": "python",
   "pygments_lexer": "ipython3",
   "version": "3.8.12"
  },
  "papermill": {
   "default_parameters": {},
   "duration": 2813.186785,
   "end_time": "2022-03-22T16:59:05.971302",
   "environment_variables": {},
   "exception": null,
   "input_path": "/root/csc500-main/csc500-notebooks/templates/tl_ptn_template.ipynb",
   "output_path": "trial.ipynb",
   "parameters": {
    "parameters": {
     "BEST_MODEL_PATH": "./best_model.pth",
     "NUM_LOGS_PER_EPOCH": 10,
     "criteria_for_best": "target_accuracy",
     "dataset_seed": 7,
     "datasets": [
      {
       "domain_prefix": "CORES_",
       "domains": [
        1,
        2,
        3,
        4,
        5
       ],
       "episode_transforms": [],
       "labels": [
        "1-10.",
        "1-11.",
        "1-15.",
        "1-16.",
        "1-17.",
        "1-18.",
        "1-19.",
        "10-4.",
        "10-7.",
        "11-1.",
        "11-14.",
        "11-17.",
        "11-20.",
        "11-7.",
        "13-20.",
        "13-8.",
        "14-10.",
        "14-11.",
        "14-14.",
        "14-7.",
        "15-1.",
        "15-20.",
        "16-1.",
        "16-16.",
        "17-10.",
        "17-11.",
        "17-2.",
        "19-1.",
        "19-16.",
        "19-19.",
        "19-20.",
        "19-3.",
        "2-10.",
        "2-11.",
        "2-17.",
        "2-18.",
        "2-20.",
        "2-3.",
        "2-4.",
        "2-5.",
        "2-6.",
        "2-7.",
        "2-8.",
        "3-13.",
        "3-18.",
        "3-3.",
        "4-1.",
        "4-10.",
        "4-11.",
        "4-19.",
        "5-5.",
        "6-15.",
        "7-10.",
        "7-14.",
        "8-18.",
        "8-20.",
        "8-3.",
        "8-8."
       ],
       "num_examples_per_domain_per_label": -1,
       "pickle_path": "/root/csc500-main/datasets/cores.stratified_ds.2022A.pkl",
       "source_or_target_dataset": "target",
       "x_transforms": []
      },
      {
       "domain_prefix": "ORACLE.run1_",
       "domains": [
        32,
        38,
        8,
        44,
        14,
        50,
        20,
        26
       ],
       "episode_transforms": [],
       "labels": [
        "3123D52",
        "3123D65",
        "3123D79",
        "3123D80",
        "3123D54",
        "3123D70",
        "3123D7B",
        "3123D89",
        "3123D58",
        "3123D76",
        "3123D7D",
        "3123EFE",
        "3123D64",
        "3123D78",
        "3123D7E",
        "3124E4A"
       ],
       "num_examples_per_domain_per_label": 2000,
       "pickle_path": "/root/csc500-main/datasets/oracle.Run1_10kExamples_stratified_ds.2022A.pkl",
       "source_or_target_dataset": "source",
       "x_transforms": []
      }
     ],
     "device": "cuda",
     "experiment_name": "tl_1v2:cores-oracle.run1.limited",
     "lr": 0.0001,
     "n_epoch": 50,
     "n_query": 2,
     "n_shot": 3,
     "n_way": 16,
     "patience": 3,
     "seed": 7,
     "test_k_factor": 2,
     "torch_default_dtype": "torch.float32",
     "train_k_factor": 3,
     "val_k_factor": 2,
     "x_net": [
      {
       "class": "nnReshape",
       "kargs": {
        "shape": [
         -1,
         1,
         2,
         256
        ]
       }
      },
      {
       "class": "Conv2d",
       "kargs": {
        "bias": false,
        "in_channels": 1,
        "kernel_size": [
         1,
         7
        ],
        "out_channels": 256,
        "padding": [
         0,
         3
        ]
       }
      },
      {
       "class": "ReLU",
       "kargs": {
        "inplace": true
       }
      },
      {
       "class": "BatchNorm2d",
       "kargs": {
        "num_features": 256
       }
      },
      {
       "class": "Conv2d",
       "kargs": {
        "bias": true,
        "in_channels": 256,
        "kernel_size": [
         2,
         7
        ],
        "out_channels": 80,
        "padding": [
         0,
         3
        ]
       }
      },
      {
       "class": "ReLU",
       "kargs": {
        "inplace": true
       }
      },
      {
       "class": "BatchNorm2d",
       "kargs": {
        "num_features": 80
       }
      },
      {
       "class": "Flatten",
       "kargs": {}
      },
      {
       "class": "Linear",
       "kargs": {
        "in_features": 20480,
        "out_features": 256
       }
      },
      {
       "class": "ReLU",
       "kargs": {
        "inplace": true
       }
      },
      {
       "class": "BatchNorm1d",
       "kargs": {
        "num_features": 256
       }
      },
      {
       "class": "Linear",
       "kargs": {
        "in_features": 256,
        "out_features": 256
       }
      }
     ]
    }
   },
   "start_time": "2022-03-22T16:12:12.784517",
   "version": "2.3.4"
  }
 },
 "nbformat": 4,
 "nbformat_minor": 5
}