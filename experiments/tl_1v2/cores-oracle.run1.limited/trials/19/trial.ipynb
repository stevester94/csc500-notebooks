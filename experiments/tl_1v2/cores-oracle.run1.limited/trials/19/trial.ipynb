{
 "cells": [
  {
   "cell_type": "markdown",
   "id": "9fea5f46",
   "metadata": {
    "papermill": {
     "duration": 0.030533,
     "end_time": "2022-03-22T14:11:48.699985",
     "exception": false,
     "start_time": "2022-03-22T14:11:48.669452",
     "status": "completed"
    },
    "tags": []
   },
   "source": [
    "# Transfer Learning Template"
   ]
  },
  {
   "cell_type": "code",
   "execution_count": 1,
   "id": "0902182a",
   "metadata": {
    "execution": {
     "iopub.execute_input": "2022-03-22T14:11:48.762163Z",
     "iopub.status.busy": "2022-03-22T14:11:48.761301Z",
     "iopub.status.idle": "2022-03-22T14:11:50.719405Z",
     "shell.execute_reply": "2022-03-22T14:11:50.718530Z"
    },
    "papermill": {
     "duration": 1.997294,
     "end_time": "2022-03-22T14:11:50.719612",
     "exception": false,
     "start_time": "2022-03-22T14:11:48.722318",
     "status": "completed"
    },
    "tags": []
   },
   "outputs": [],
   "source": [
    "%load_ext autoreload\n",
    "%autoreload 2\n",
    "%matplotlib inline\n",
    "\n",
    "    \n",
    "import os, json, sys, time, random\n",
    "import numpy as np\n",
    "import torch\n",
    "from torch.optim import Adam\n",
    "from  easydict import EasyDict\n",
    "import matplotlib.pyplot as plt\n",
    "\n",
    "from steves_models.steves_ptn import Steves_Prototypical_Network\n",
    "\n",
    "from steves_utils.lazy_iterable_wrapper import Lazy_Iterable_Wrapper\n",
    "from steves_utils.iterable_aggregator import Iterable_Aggregator\n",
    "from steves_utils.ptn_train_eval_test_jig import  PTN_Train_Eval_Test_Jig\n",
    "from steves_utils.torch_sequential_builder import build_sequential\n",
    "from steves_utils.torch_utils import get_dataset_metrics, ptn_confusion_by_domain_over_dataloader\n",
    "from steves_utils.utils_v2 import (per_domain_accuracy_from_confusion, get_datasets_base_path)\n",
    "from steves_utils.PTN.utils import independent_accuracy_assesment\n",
    "\n",
    "from torch.utils.data import DataLoader\n",
    "\n",
    "from steves_utils.stratified_dataset.episodic_accessor import Episodic_Accessor_Factory\n",
    "\n",
    "from steves_utils.ptn_do_report import (\n",
    "    get_loss_curve,\n",
    "    get_results_table,\n",
    "    get_parameters_table,\n",
    "    get_domain_accuracies,\n",
    ")\n",
    "\n",
    "from steves_utils.transforms import get_chained_transform"
   ]
  },
  {
   "cell_type": "markdown",
   "id": "41c840b4",
   "metadata": {
    "papermill": {
     "duration": 0.019498,
     "end_time": "2022-03-22T14:11:50.763912",
     "exception": false,
     "start_time": "2022-03-22T14:11:50.744414",
     "status": "completed"
    },
    "tags": []
   },
   "source": [
    "# Allowed Parameters\n",
    "These are allowed parameters, not defaults\n",
    "Each of these values need to be present in the injected parameters (the notebook will raise an exception if they are not present)\n",
    "\n",
    "Papermill uses the cell tag \"parameters\" to inject the real parameters below this cell.\n",
    "Enable tags to see what I mean"
   ]
  },
  {
   "cell_type": "code",
   "execution_count": 2,
   "id": "fd44eb83",
   "metadata": {
    "execution": {
     "iopub.execute_input": "2022-03-22T14:11:50.808403Z",
     "iopub.status.busy": "2022-03-22T14:11:50.808002Z",
     "iopub.status.idle": "2022-03-22T14:11:50.829799Z",
     "shell.execute_reply": "2022-03-22T14:11:50.828989Z"
    },
    "papermill": {
     "duration": 0.046534,
     "end_time": "2022-03-22T14:11:50.829961",
     "exception": false,
     "start_time": "2022-03-22T14:11:50.783427",
     "status": "completed"
    },
    "tags": []
   },
   "outputs": [],
   "source": [
    "required_parameters = {\n",
    "    \"experiment_name\",\n",
    "    \"lr\",\n",
    "    \"device\",\n",
    "    \"seed\",\n",
    "    \"dataset_seed\",\n",
    "    \"n_shot\",\n",
    "    \"n_query\",\n",
    "    \"n_way\",\n",
    "    \"train_k_factor\",\n",
    "    \"val_k_factor\",\n",
    "    \"test_k_factor\",\n",
    "    \"n_epoch\",\n",
    "    \"patience\",\n",
    "    \"criteria_for_best\",\n",
    "    \"x_net\",\n",
    "    \"datasets\",\n",
    "    \"torch_default_dtype\",\n",
    "    \"NUM_LOGS_PER_EPOCH\",\n",
    "    \"BEST_MODEL_PATH\",\n",
    "    \"x_shape\",\n",
    "}"
   ]
  },
  {
   "cell_type": "code",
   "execution_count": 3,
   "id": "fa3f0049",
   "metadata": {
    "execution": {
     "iopub.execute_input": "2022-03-22T14:11:50.892078Z",
     "iopub.status.busy": "2022-03-22T14:11:50.889881Z",
     "iopub.status.idle": "2022-03-22T14:11:50.911784Z",
     "shell.execute_reply": "2022-03-22T14:11:50.910932Z"
    },
    "papermill": {
     "duration": 0.055445,
     "end_time": "2022-03-22T14:11:50.911947",
     "exception": false,
     "start_time": "2022-03-22T14:11:50.856502",
     "status": "completed"
    },
    "tags": [
     "parameters"
    ]
   },
   "outputs": [],
   "source": [
    "from steves_utils.CORES.utils import (\n",
    "    ALL_NODES,\n",
    "    ALL_NODES_MINIMUM_1000_EXAMPLES,\n",
    "    ALL_DAYS\n",
    ")\n",
    "\n",
    "from steves_utils.ORACLE.utils_v2 import (\n",
    "    ALL_DISTANCES_FEET_NARROWED,\n",
    "    ALL_RUNS,\n",
    "    ALL_SERIAL_NUMBERS,\n",
    ")\n",
    "\n",
    "standalone_parameters = {}\n",
    "standalone_parameters[\"experiment_name\"] = \"STANDALONE PTN\"\n",
    "standalone_parameters[\"lr\"] = 0.001\n",
    "standalone_parameters[\"device\"] = \"cuda\"\n",
    "\n",
    "standalone_parameters[\"seed\"] = 1337\n",
    "standalone_parameters[\"dataset_seed\"] = 1337\n",
    "\n",
    "standalone_parameters[\"n_way\"] = 8\n",
    "standalone_parameters[\"n_shot\"] = 3\n",
    "standalone_parameters[\"n_query\"]  = 2\n",
    "standalone_parameters[\"train_k_factor\"] = 1\n",
    "standalone_parameters[\"val_k_factor\"] = 2\n",
    "standalone_parameters[\"test_k_factor\"] = 2\n",
    "\n",
    "\n",
    "standalone_parameters[\"n_epoch\"] = 50\n",
    "\n",
    "standalone_parameters[\"patience\"] = 10\n",
    "standalone_parameters[\"criteria_for_best\"] = \"source_loss\"\n",
    "\n",
    "standalone_parameters[\"datasets\"] = [\n",
    "    {\n",
    "        \"labels\": ALL_SERIAL_NUMBERS,\n",
    "        \"domains\": ALL_DISTANCES_FEET_NARROWED,\n",
    "        \"num_examples_per_domain_per_label\": 100,\n",
    "        \"pickle_path\": os.path.join(get_datasets_base_path(), \"oracle.Run1_framed_2000Examples_stratified_ds.2022A.pkl\"),\n",
    "        \"source_or_target_dataset\": \"source\",\n",
    "        \"x_transforms\": [\"unit_mag\", \"minus_two\"],\n",
    "        \"episode_transforms\": [],\n",
    "        \"domain_prefix\": \"ORACLE_\"\n",
    "    },\n",
    "    {\n",
    "        \"labels\": ALL_NODES,\n",
    "        \"domains\": ALL_DAYS,\n",
    "        \"num_examples_per_domain_per_label\": 100,\n",
    "        \"pickle_path\": os.path.join(get_datasets_base_path(), \"cores.stratified_ds.2022A.pkl\"),\n",
    "        \"source_or_target_dataset\": \"target\",\n",
    "        \"x_transforms\": [\"unit_power\", \"times_zero\"],\n",
    "        \"episode_transforms\": [],\n",
    "        \"domain_prefix\": \"CORES_\"\n",
    "    }   \n",
    "]\n",
    "\n",
    "standalone_parameters[\"torch_default_dtype\"] = \"torch.float32\" \n",
    "\n",
    "\n",
    "\n",
    "standalone_parameters[\"x_net\"] =     [\n",
    "    {\"class\": \"nnReshape\", \"kargs\": {\"shape\":[-1, 1, 2, 256]}},\n",
    "    {\"class\": \"Conv2d\", \"kargs\": { \"in_channels\":1, \"out_channels\":256, \"kernel_size\":(1,7), \"bias\":False, \"padding\":(0,3), },},\n",
    "    {\"class\": \"ReLU\", \"kargs\": {\"inplace\": True}},\n",
    "    {\"class\": \"BatchNorm2d\", \"kargs\": {\"num_features\":256}},\n",
    "\n",
    "    {\"class\": \"Conv2d\", \"kargs\": { \"in_channels\":256, \"out_channels\":80, \"kernel_size\":(2,7), \"bias\":True, \"padding\":(0,3), },},\n",
    "    {\"class\": \"ReLU\", \"kargs\": {\"inplace\": True}},\n",
    "    {\"class\": \"BatchNorm2d\", \"kargs\": {\"num_features\":80}},\n",
    "    {\"class\": \"Flatten\", \"kargs\": {}},\n",
    "\n",
    "    {\"class\": \"Linear\", \"kargs\": {\"in_features\": 80*256, \"out_features\": 256}}, # 80 units per IQ pair\n",
    "    {\"class\": \"ReLU\", \"kargs\": {\"inplace\": True}},\n",
    "    {\"class\": \"BatchNorm1d\", \"kargs\": {\"num_features\":256}},\n",
    "\n",
    "    {\"class\": \"Linear\", \"kargs\": {\"in_features\": 256, \"out_features\": 256}},\n",
    "]\n",
    "\n",
    "# Parameters relevant to results\n",
    "# These parameters will basically never need to change\n",
    "standalone_parameters[\"NUM_LOGS_PER_EPOCH\"] = 10\n",
    "standalone_parameters[\"BEST_MODEL_PATH\"] = \"./best_model.pth\"\n",
    "\n",
    "\n",
    "\n",
    "\n"
   ]
  },
  {
   "cell_type": "code",
   "execution_count": 4,
   "id": "32ece30c",
   "metadata": {
    "execution": {
     "iopub.execute_input": "2022-03-22T14:11:50.973337Z",
     "iopub.status.busy": "2022-03-22T14:11:50.972382Z",
     "iopub.status.idle": "2022-03-22T14:11:50.992043Z",
     "shell.execute_reply": "2022-03-22T14:11:50.991220Z"
    },
    "papermill": {
     "duration": 0.053532,
     "end_time": "2022-03-22T14:11:50.992196",
     "exception": false,
     "start_time": "2022-03-22T14:11:50.938664",
     "status": "completed"
    },
    "tags": [
     "injected-parameters"
    ]
   },
   "outputs": [],
   "source": [
    "# Parameters\n",
    "parameters = {\n",
    "    \"experiment_name\": \"tl_1v2:cores-oracle.run1.limited\",\n",
    "    \"device\": \"cuda\",\n",
    "    \"lr\": 0.0001,\n",
    "    \"n_shot\": 3,\n",
    "    \"n_query\": 2,\n",
    "    \"train_k_factor\": 3,\n",
    "    \"val_k_factor\": 2,\n",
    "    \"test_k_factor\": 2,\n",
    "    \"torch_default_dtype\": \"torch.float32\",\n",
    "    \"n_epoch\": 50,\n",
    "    \"patience\": 3,\n",
    "    \"criteria_for_best\": \"target_accuracy\",\n",
    "    \"x_net\": [\n",
    "        {\"class\": \"nnReshape\", \"kargs\": {\"shape\": [-1, 1, 2, 256]}},\n",
    "        {\n",
    "            \"class\": \"Conv2d\",\n",
    "            \"kargs\": {\n",
    "                \"in_channels\": 1,\n",
    "                \"out_channels\": 256,\n",
    "                \"kernel_size\": [1, 7],\n",
    "                \"bias\": False,\n",
    "                \"padding\": [0, 3],\n",
    "            },\n",
    "        },\n",
    "        {\"class\": \"ReLU\", \"kargs\": {\"inplace\": True}},\n",
    "        {\"class\": \"BatchNorm2d\", \"kargs\": {\"num_features\": 256}},\n",
    "        {\n",
    "            \"class\": \"Conv2d\",\n",
    "            \"kargs\": {\n",
    "                \"in_channels\": 256,\n",
    "                \"out_channels\": 80,\n",
    "                \"kernel_size\": [2, 7],\n",
    "                \"bias\": True,\n",
    "                \"padding\": [0, 3],\n",
    "            },\n",
    "        },\n",
    "        {\"class\": \"ReLU\", \"kargs\": {\"inplace\": True}},\n",
    "        {\"class\": \"BatchNorm2d\", \"kargs\": {\"num_features\": 80}},\n",
    "        {\"class\": \"Flatten\", \"kargs\": {}},\n",
    "        {\"class\": \"Linear\", \"kargs\": {\"in_features\": 20480, \"out_features\": 256}},\n",
    "        {\"class\": \"ReLU\", \"kargs\": {\"inplace\": True}},\n",
    "        {\"class\": \"BatchNorm1d\", \"kargs\": {\"num_features\": 256}},\n",
    "        {\"class\": \"Linear\", \"kargs\": {\"in_features\": 256, \"out_features\": 256}},\n",
    "    ],\n",
    "    \"NUM_LOGS_PER_EPOCH\": 10,\n",
    "    \"BEST_MODEL_PATH\": \"./best_model.pth\",\n",
    "    \"n_way\": 16,\n",
    "    \"datasets\": [\n",
    "        {\n",
    "            \"labels\": [\n",
    "                \"1-10.\",\n",
    "                \"1-11.\",\n",
    "                \"1-15.\",\n",
    "                \"1-16.\",\n",
    "                \"1-17.\",\n",
    "                \"1-18.\",\n",
    "                \"1-19.\",\n",
    "                \"10-4.\",\n",
    "                \"10-7.\",\n",
    "                \"11-1.\",\n",
    "                \"11-14.\",\n",
    "                \"11-17.\",\n",
    "                \"11-20.\",\n",
    "                \"11-7.\",\n",
    "                \"13-20.\",\n",
    "                \"13-8.\",\n",
    "                \"14-10.\",\n",
    "                \"14-11.\",\n",
    "                \"14-14.\",\n",
    "                \"14-7.\",\n",
    "                \"15-1.\",\n",
    "                \"15-20.\",\n",
    "                \"16-1.\",\n",
    "                \"16-16.\",\n",
    "                \"17-10.\",\n",
    "                \"17-11.\",\n",
    "                \"17-2.\",\n",
    "                \"19-1.\",\n",
    "                \"19-16.\",\n",
    "                \"19-19.\",\n",
    "                \"19-20.\",\n",
    "                \"19-3.\",\n",
    "                \"2-10.\",\n",
    "                \"2-11.\",\n",
    "                \"2-17.\",\n",
    "                \"2-18.\",\n",
    "                \"2-20.\",\n",
    "                \"2-3.\",\n",
    "                \"2-4.\",\n",
    "                \"2-5.\",\n",
    "                \"2-6.\",\n",
    "                \"2-7.\",\n",
    "                \"2-8.\",\n",
    "                \"3-13.\",\n",
    "                \"3-18.\",\n",
    "                \"3-3.\",\n",
    "                \"4-1.\",\n",
    "                \"4-10.\",\n",
    "                \"4-11.\",\n",
    "                \"4-19.\",\n",
    "                \"5-5.\",\n",
    "                \"6-15.\",\n",
    "                \"7-10.\",\n",
    "                \"7-14.\",\n",
    "                \"8-18.\",\n",
    "                \"8-20.\",\n",
    "                \"8-3.\",\n",
    "                \"8-8.\",\n",
    "            ],\n",
    "            \"domains\": [1, 2, 3, 4, 5],\n",
    "            \"num_examples_per_domain_per_label\": -1,\n",
    "            \"pickle_path\": \"/root/csc500-main/datasets/cores.stratified_ds.2022A.pkl\",\n",
    "            \"source_or_target_dataset\": \"source\",\n",
    "            \"x_transforms\": [\"unit_mag\"],\n",
    "            \"episode_transforms\": [],\n",
    "            \"domain_prefix\": \"CORES_\",\n",
    "        },\n",
    "        {\n",
    "            \"labels\": [\n",
    "                \"3123D52\",\n",
    "                \"3123D65\",\n",
    "                \"3123D79\",\n",
    "                \"3123D80\",\n",
    "                \"3123D54\",\n",
    "                \"3123D70\",\n",
    "                \"3123D7B\",\n",
    "                \"3123D89\",\n",
    "                \"3123D58\",\n",
    "                \"3123D76\",\n",
    "                \"3123D7D\",\n",
    "                \"3123EFE\",\n",
    "                \"3123D64\",\n",
    "                \"3123D78\",\n",
    "                \"3123D7E\",\n",
    "                \"3124E4A\",\n",
    "            ],\n",
    "            \"domains\": [32, 38, 8, 44, 14, 50, 20, 26],\n",
    "            \"num_examples_per_domain_per_label\": 2000,\n",
    "            \"pickle_path\": \"/root/csc500-main/datasets/oracle.Run1_10kExamples_stratified_ds.2022A.pkl\",\n",
    "            \"source_or_target_dataset\": \"target\",\n",
    "            \"x_transforms\": [\"unit_mag\"],\n",
    "            \"episode_transforms\": [],\n",
    "            \"domain_prefix\": \"ORACLE.run1_\",\n",
    "        },\n",
    "    ],\n",
    "    \"dataset_seed\": 7,\n",
    "    \"seed\": 7,\n",
    "}\n"
   ]
  },
  {
   "cell_type": "code",
   "execution_count": 5,
   "id": "8fa1cc33",
   "metadata": {
    "execution": {
     "iopub.execute_input": "2022-03-22T14:11:51.040672Z",
     "iopub.status.busy": "2022-03-22T14:11:51.040173Z",
     "iopub.status.idle": "2022-03-22T14:11:51.058119Z",
     "shell.execute_reply": "2022-03-22T14:11:51.057312Z"
    },
    "papermill": {
     "duration": 0.041289,
     "end_time": "2022-03-22T14:11:51.058271",
     "exception": false,
     "start_time": "2022-03-22T14:11:51.016982",
     "status": "completed"
    },
    "tags": []
   },
   "outputs": [],
   "source": [
    "# Set this to True if you want to run this template directly\n",
    "STANDALONE = False\n",
    "if STANDALONE:\n",
    "    print(\"parameters not injected, running with standalone_parameters\")\n",
    "    parameters = standalone_parameters\n",
    "\n",
    "if not 'parameters' in locals() and not 'parameters' in globals():\n",
    "    raise Exception(\"Parameter injection failed\")\n",
    "\n",
    "#Use an easy dict for all the parameters\n",
    "p = EasyDict(parameters)\n",
    "\n",
    "if \"x_shape\" not in p:\n",
    "    p.x_shape = [2,256] # Default to this if we dont supply x_shape\n",
    "\n",
    "\n",
    "supplied_keys = set(p.keys())\n",
    "\n",
    "if  supplied_keys != required_parameters:\n",
    "    print(\"Parameters are incorrect\")\n",
    "    if len(supplied_keys - required_parameters)>0: print(\"Shouldn't have:\", str(supplied_keys - required_parameters))\n",
    "    if len(required_parameters - supplied_keys)>0: print(\"Need to have:\", str(required_parameters - supplied_keys))\n",
    "    raise RuntimeError(\"Parameters are incorrect\")"
   ]
  },
  {
   "cell_type": "code",
   "execution_count": 6,
   "id": "3a028d58",
   "metadata": {
    "execution": {
     "iopub.execute_input": "2022-03-22T14:11:51.105338Z",
     "iopub.status.busy": "2022-03-22T14:11:51.104973Z",
     "iopub.status.idle": "2022-03-22T14:11:51.123032Z",
     "shell.execute_reply": "2022-03-22T14:11:51.122234Z"
    },
    "papermill": {
     "duration": 0.03976,
     "end_time": "2022-03-22T14:11:51.123183",
     "exception": false,
     "start_time": "2022-03-22T14:11:51.083423",
     "status": "completed"
    },
    "tags": []
   },
   "outputs": [],
   "source": [
    "###################################\n",
    "# Set the RNGs and make it all deterministic\n",
    "###################################\n",
    "np.random.seed(p.seed)\n",
    "random.seed(p.seed)\n",
    "torch.manual_seed(p.seed)\n",
    "\n",
    "torch.use_deterministic_algorithms(True) "
   ]
  },
  {
   "cell_type": "code",
   "execution_count": 7,
   "id": "b691acf6",
   "metadata": {
    "execution": {
     "iopub.execute_input": "2022-03-22T14:11:51.176148Z",
     "iopub.status.busy": "2022-03-22T14:11:51.175032Z",
     "iopub.status.idle": "2022-03-22T14:11:51.197598Z",
     "shell.execute_reply": "2022-03-22T14:11:51.196798Z"
    },
    "papermill": {
     "duration": 0.045322,
     "end_time": "2022-03-22T14:11:51.197749",
     "exception": false,
     "start_time": "2022-03-22T14:11:51.152427",
     "status": "completed"
    },
    "tags": []
   },
   "outputs": [],
   "source": [
    "###########################################\n",
    "# The stratified datasets honor this\n",
    "###########################################\n",
    "torch.set_default_dtype(eval(p.torch_default_dtype))"
   ]
  },
  {
   "cell_type": "code",
   "execution_count": 8,
   "id": "b5fba671",
   "metadata": {
    "execution": {
     "iopub.execute_input": "2022-03-22T14:11:51.246626Z",
     "iopub.status.busy": "2022-03-22T14:11:51.246255Z",
     "iopub.status.idle": "2022-03-22T14:11:51.297256Z",
     "shell.execute_reply": "2022-03-22T14:11:51.296546Z"
    },
    "papermill": {
     "duration": 0.073927,
     "end_time": "2022-03-22T14:11:51.297407",
     "exception": false,
     "start_time": "2022-03-22T14:11:51.223480",
     "status": "completed"
    },
    "tags": []
   },
   "outputs": [],
   "source": [
    "###################################\n",
    "# Build the network(s)\n",
    "# Note: It's critical to do this AFTER setting the RNG\n",
    "###################################\n",
    "x_net = build_sequential(p.x_net)"
   ]
  },
  {
   "cell_type": "code",
   "execution_count": 9,
   "id": "5d7e61cc",
   "metadata": {
    "execution": {
     "iopub.execute_input": "2022-03-22T14:11:51.349631Z",
     "iopub.status.busy": "2022-03-22T14:11:51.348992Z",
     "iopub.status.idle": "2022-03-22T14:11:51.373777Z",
     "shell.execute_reply": "2022-03-22T14:11:51.372971Z"
    },
    "papermill": {
     "duration": 0.048055,
     "end_time": "2022-03-22T14:11:51.373929",
     "exception": false,
     "start_time": "2022-03-22T14:11:51.325874",
     "status": "completed"
    },
    "tags": []
   },
   "outputs": [],
   "source": [
    "start_time_secs = time.time()"
   ]
  },
  {
   "cell_type": "code",
   "execution_count": 10,
   "id": "c6b67dfd",
   "metadata": {
    "execution": {
     "iopub.execute_input": "2022-03-22T14:11:51.430473Z",
     "iopub.status.busy": "2022-03-22T14:11:51.422665Z",
     "iopub.status.idle": "2022-03-22T14:11:51.444593Z",
     "shell.execute_reply": "2022-03-22T14:11:51.443789Z"
    },
    "papermill": {
     "duration": 0.044957,
     "end_time": "2022-03-22T14:11:51.444744",
     "exception": false,
     "start_time": "2022-03-22T14:11:51.399787",
     "status": "completed"
    },
    "tags": []
   },
   "outputs": [],
   "source": [
    "p.domains_source = []\n",
    "p.domains_target = []\n",
    "\n",
    "\n",
    "train_original_source = []\n",
    "val_original_source   = []\n",
    "test_original_source  = []\n",
    "\n",
    "train_original_target = []\n",
    "val_original_target   = []\n",
    "test_original_target  = []"
   ]
  },
  {
   "cell_type": "code",
   "execution_count": 11,
   "id": "e3d9c3d3",
   "metadata": {
    "execution": {
     "iopub.execute_input": "2022-03-22T14:11:51.494554Z",
     "iopub.status.busy": "2022-03-22T14:11:51.494191Z",
     "iopub.status.idle": "2022-03-22T14:11:51.511167Z",
     "shell.execute_reply": "2022-03-22T14:11:51.510346Z"
    },
    "papermill": {
     "duration": 0.039502,
     "end_time": "2022-03-22T14:11:51.511326",
     "exception": false,
     "start_time": "2022-03-22T14:11:51.471824",
     "status": "completed"
    },
    "tags": []
   },
   "outputs": [],
   "source": [
    "# global_x_transform_func = lambda x: normalize(x.to(torch.get_default_dtype()), \"unit_power\") # unit_power, unit_mag\n",
    "# global_x_transform_func = lambda x: normalize(x, \"unit_power\") # unit_power, unit_mag"
   ]
  },
  {
   "cell_type": "code",
   "execution_count": 12,
   "id": "acb78fd2",
   "metadata": {
    "execution": {
     "iopub.execute_input": "2022-03-22T14:11:51.569171Z",
     "iopub.status.busy": "2022-03-22T14:11:51.566509Z",
     "iopub.status.idle": "2022-03-22T14:11:51.586301Z",
     "shell.execute_reply": "2022-03-22T14:11:51.585500Z"
    },
    "papermill": {
     "duration": 0.047665,
     "end_time": "2022-03-22T14:11:51.586451",
     "exception": false,
     "start_time": "2022-03-22T14:11:51.538786",
     "status": "completed"
    },
    "tags": []
   },
   "outputs": [],
   "source": [
    "def add_dataset(\n",
    "    labels,\n",
    "    domains,\n",
    "    pickle_path,\n",
    "    x_transforms,\n",
    "    episode_transforms,\n",
    "    domain_prefix,\n",
    "    num_examples_per_domain_per_label,\n",
    "    source_or_target_dataset:str,\n",
    "    iterator_seed=p.seed,\n",
    "    dataset_seed=p.dataset_seed,\n",
    "    n_shot=p.n_shot,\n",
    "    n_way=p.n_way,\n",
    "    n_query=p.n_query,\n",
    "    train_val_test_k_factors=(p.train_k_factor,p.val_k_factor,p.test_k_factor),\n",
    "):\n",
    "   \n",
    "    if x_transforms == []: x_transform = None\n",
    "    else: x_transform = get_chained_transform(x_transforms)\n",
    "    \n",
    "    if episode_transforms == []: episode_transform = None\n",
    "    else: raise Exception(\"episode_transforms not implemented\")\n",
    "    \n",
    "    episode_transform = lambda tup, _prefix=domain_prefix: (_prefix + str(tup[0]), tup[1])\n",
    "\n",
    "\n",
    "    eaf = Episodic_Accessor_Factory(\n",
    "        labels=labels,\n",
    "        domains=domains,\n",
    "        num_examples_per_domain_per_label=num_examples_per_domain_per_label,\n",
    "        iterator_seed=iterator_seed,\n",
    "        dataset_seed=dataset_seed,\n",
    "        n_shot=n_shot,\n",
    "        n_way=n_way,\n",
    "        n_query=n_query,\n",
    "        train_val_test_k_factors=train_val_test_k_factors,\n",
    "        pickle_path=pickle_path,\n",
    "        x_transform_func=x_transform,\n",
    "    )\n",
    "\n",
    "    train, val, test = eaf.get_train(), eaf.get_val(), eaf.get_test()\n",
    "    train = Lazy_Iterable_Wrapper(train, episode_transform)\n",
    "    val = Lazy_Iterable_Wrapper(val, episode_transform)\n",
    "    test = Lazy_Iterable_Wrapper(test, episode_transform)\n",
    "\n",
    "    if source_or_target_dataset==\"source\":\n",
    "        train_original_source.append(train)\n",
    "        val_original_source.append(val)\n",
    "        test_original_source.append(test)\n",
    "\n",
    "        p.domains_source.extend(\n",
    "            [domain_prefix + str(u) for u in domains]\n",
    "        )\n",
    "    elif source_or_target_dataset==\"target\":\n",
    "        train_original_target.append(train)\n",
    "        val_original_target.append(val)\n",
    "        test_original_target.append(test)\n",
    "        p.domains_target.extend(\n",
    "            [domain_prefix + str(u) for u in domains]\n",
    "        )\n",
    "    else:\n",
    "        raise Exception(f\"invalid source_or_target_dataset: {source_or_target_dataset}\")\n",
    "    "
   ]
  },
  {
   "cell_type": "code",
   "execution_count": 13,
   "id": "fe266617",
   "metadata": {
    "execution": {
     "iopub.execute_input": "2022-03-22T14:11:51.636788Z",
     "iopub.status.busy": "2022-03-22T14:11:51.636084Z",
     "iopub.status.idle": "2022-03-22T14:12:37.105500Z",
     "shell.execute_reply": "2022-03-22T14:12:37.104676Z"
    },
    "papermill": {
     "duration": 45.493463,
     "end_time": "2022-03-22T14:12:37.105684",
     "exception": false,
     "start_time": "2022-03-22T14:11:51.612221",
     "status": "completed"
    },
    "tags": []
   },
   "outputs": [],
   "source": [
    "for ds in p.datasets:\n",
    "    add_dataset(**ds)"
   ]
  },
  {
   "cell_type": "code",
   "execution_count": 14,
   "id": "b90d65ac",
   "metadata": {
    "execution": {
     "iopub.execute_input": "2022-03-22T14:12:37.157132Z",
     "iopub.status.busy": "2022-03-22T14:12:37.156460Z",
     "iopub.status.idle": "2022-03-22T14:12:37.179335Z",
     "shell.execute_reply": "2022-03-22T14:12:37.178523Z"
    },
    "papermill": {
     "duration": 0.046515,
     "end_time": "2022-03-22T14:12:37.179493",
     "exception": false,
     "start_time": "2022-03-22T14:12:37.132978",
     "status": "completed"
    },
    "tags": []
   },
   "outputs": [],
   "source": [
    "# from steves_utils.CORES.utils import (\n",
    "#     ALL_NODES,\n",
    "#     ALL_NODES_MINIMUM_1000_EXAMPLES,\n",
    "#     ALL_DAYS\n",
    "# )\n",
    "\n",
    "# add_dataset(\n",
    "#     labels=ALL_NODES,\n",
    "#     domains = ALL_DAYS,\n",
    "#     num_examples_per_domain_per_label=100,\n",
    "#     pickle_path=os.path.join(get_datasets_base_path(), \"cores.stratified_ds.2022A.pkl\"),\n",
    "#     source_or_target_dataset=\"target\",\n",
    "#     x_transform_func=global_x_transform_func,\n",
    "#     domain_modifier=lambda u: f\"cores_{u}\"\n",
    "# )"
   ]
  },
  {
   "cell_type": "code",
   "execution_count": 15,
   "id": "76db484d",
   "metadata": {
    "execution": {
     "iopub.execute_input": "2022-03-22T14:12:37.230710Z",
     "iopub.status.busy": "2022-03-22T14:12:37.230332Z",
     "iopub.status.idle": "2022-03-22T14:12:37.247982Z",
     "shell.execute_reply": "2022-03-22T14:12:37.247156Z"
    },
    "papermill": {
     "duration": 0.040589,
     "end_time": "2022-03-22T14:12:37.248137",
     "exception": false,
     "start_time": "2022-03-22T14:12:37.207548",
     "status": "completed"
    },
    "tags": []
   },
   "outputs": [],
   "source": [
    "# from steves_utils.ORACLE.utils_v2 import (\n",
    "#     ALL_DISTANCES_FEET,\n",
    "#     ALL_RUNS,\n",
    "#     ALL_SERIAL_NUMBERS,\n",
    "# )\n",
    "\n",
    "\n",
    "# add_dataset(\n",
    "#     labels=ALL_SERIAL_NUMBERS,\n",
    "#     domains = list(set(ALL_DISTANCES_FEET) - {2,62}),\n",
    "#     num_examples_per_domain_per_label=100,\n",
    "#     pickle_path=os.path.join(get_datasets_base_path(), \"oracle.Run2_framed_2000Examples_stratified_ds.2022A.pkl\"),\n",
    "#     source_or_target_dataset=\"source\",\n",
    "#     x_transform_func=global_x_transform_func,\n",
    "#     domain_modifier=lambda u: f\"oracle1_{u}\"\n",
    "# )\n"
   ]
  },
  {
   "cell_type": "code",
   "execution_count": 16,
   "id": "97dea9d2",
   "metadata": {
    "execution": {
     "iopub.execute_input": "2022-03-22T14:12:37.306064Z",
     "iopub.status.busy": "2022-03-22T14:12:37.301489Z",
     "iopub.status.idle": "2022-03-22T14:12:37.321634Z",
     "shell.execute_reply": "2022-03-22T14:12:37.320821Z"
    },
    "papermill": {
     "duration": 0.043923,
     "end_time": "2022-03-22T14:12:37.321789",
     "exception": false,
     "start_time": "2022-03-22T14:12:37.277866",
     "status": "completed"
    },
    "tags": []
   },
   "outputs": [],
   "source": [
    "# from steves_utils.ORACLE.utils_v2 import (\n",
    "#     ALL_DISTANCES_FEET,\n",
    "#     ALL_RUNS,\n",
    "#     ALL_SERIAL_NUMBERS,\n",
    "# )\n",
    "\n",
    "\n",
    "# add_dataset(\n",
    "#     labels=ALL_SERIAL_NUMBERS,\n",
    "#     domains = list(set(ALL_DISTANCES_FEET) - {2,62,56}),\n",
    "#     num_examples_per_domain_per_label=100,\n",
    "#     pickle_path=os.path.join(get_datasets_base_path(), \"oracle.Run2_framed_2000Examples_stratified_ds.2022A.pkl\"),\n",
    "#     source_or_target_dataset=\"source\",\n",
    "#     x_transform_func=global_x_transform_func,\n",
    "#     domain_modifier=lambda u: f\"oracle2_{u}\"\n",
    "# )"
   ]
  },
  {
   "cell_type": "code",
   "execution_count": 17,
   "id": "6f289866",
   "metadata": {
    "execution": {
     "iopub.execute_input": "2022-03-22T14:12:37.373232Z",
     "iopub.status.busy": "2022-03-22T14:12:37.372717Z",
     "iopub.status.idle": "2022-03-22T14:12:37.394542Z",
     "shell.execute_reply": "2022-03-22T14:12:37.393733Z"
    },
    "papermill": {
     "duration": 0.046418,
     "end_time": "2022-03-22T14:12:37.394696",
     "exception": false,
     "start_time": "2022-03-22T14:12:37.348278",
     "status": "completed"
    },
    "tags": []
   },
   "outputs": [],
   "source": [
    "# add_dataset(\n",
    "#     labels=list(range(19)),\n",
    "#     domains = [0,1,2],\n",
    "#     num_examples_per_domain_per_label=100,\n",
    "#     pickle_path=os.path.join(get_datasets_base_path(), \"metehan.stratified_ds.2022A.pkl\"),\n",
    "#     source_or_target_dataset=\"target\",\n",
    "#     x_transform_func=global_x_transform_func,\n",
    "#     domain_modifier=lambda u: f\"met_{u}\"\n",
    "# )"
   ]
  },
  {
   "cell_type": "code",
   "execution_count": 18,
   "id": "86a863c3",
   "metadata": {
    "execution": {
     "iopub.execute_input": "2022-03-22T14:12:37.449264Z",
     "iopub.status.busy": "2022-03-22T14:12:37.448702Z",
     "iopub.status.idle": "2022-03-22T14:12:37.470350Z",
     "shell.execute_reply": "2022-03-22T14:12:37.469540Z"
    },
    "papermill": {
     "duration": 0.046983,
     "end_time": "2022-03-22T14:12:37.470504",
     "exception": false,
     "start_time": "2022-03-22T14:12:37.423521",
     "status": "completed"
    },
    "tags": []
   },
   "outputs": [],
   "source": [
    "# # from steves_utils.wisig.utils import (\n",
    "# #     ALL_NODES_MINIMUM_100_EXAMPLES,\n",
    "# #     ALL_NODES_MINIMUM_500_EXAMPLES,\n",
    "# #     ALL_NODES_MINIMUM_1000_EXAMPLES,\n",
    "# #     ALL_DAYS\n",
    "# # )\n",
    "\n",
    "# import steves_utils.wisig.utils as wisig\n",
    "\n",
    "\n",
    "# add_dataset(\n",
    "#     labels=wisig.ALL_NODES_MINIMUM_100_EXAMPLES,\n",
    "#     domains = wisig.ALL_DAYS,\n",
    "#     num_examples_per_domain_per_label=100,\n",
    "#     pickle_path=os.path.join(get_datasets_base_path(), \"wisig.node3-19.stratified_ds.2022A.pkl\"),\n",
    "#     source_or_target_dataset=\"target\",\n",
    "#     x_transform_func=global_x_transform_func,\n",
    "#     domain_modifier=lambda u: f\"wisig_{u}\"\n",
    "# )"
   ]
  },
  {
   "cell_type": "code",
   "execution_count": 19,
   "id": "fd5442bc",
   "metadata": {
    "execution": {
     "iopub.execute_input": "2022-03-22T14:12:37.523713Z",
     "iopub.status.busy": "2022-03-22T14:12:37.523317Z",
     "iopub.status.idle": "2022-03-22T14:12:37.542186Z",
     "shell.execute_reply": "2022-03-22T14:12:37.541381Z"
    },
    "papermill": {
     "duration": 0.045098,
     "end_time": "2022-03-22T14:12:37.542341",
     "exception": false,
     "start_time": "2022-03-22T14:12:37.497243",
     "status": "completed"
    },
    "tags": []
   },
   "outputs": [],
   "source": [
    "###################################\n",
    "# Build the dataset\n",
    "###################################\n",
    "train_original_source = Iterable_Aggregator(train_original_source, p.seed)\n",
    "val_original_source = Iterable_Aggregator(val_original_source, p.seed)\n",
    "test_original_source = Iterable_Aggregator(test_original_source, p.seed)\n",
    "\n",
    "\n",
    "train_original_target = Iterable_Aggregator(train_original_target, p.seed)\n",
    "val_original_target = Iterable_Aggregator(val_original_target, p.seed)\n",
    "test_original_target = Iterable_Aggregator(test_original_target, p.seed)\n",
    "\n",
    "# For CNN We only use X and Y. And we only train on the source.\n",
    "# Properly form the data using a transform lambda and Lazy_Iterable_Wrapper. Finally wrap them in a dataloader\n",
    "\n",
    "transform_lambda = lambda ex: ex[1] # Original is (<domain>, <episode>) so we strip down to episode only\n",
    "\n",
    "train_processed_source = Lazy_Iterable_Wrapper(train_original_source, transform_lambda)\n",
    "val_processed_source   = Lazy_Iterable_Wrapper(val_original_source, transform_lambda)\n",
    "test_processed_source  = Lazy_Iterable_Wrapper(test_original_source, transform_lambda)\n",
    "\n",
    "train_processed_target = Lazy_Iterable_Wrapper(train_original_target, transform_lambda)\n",
    "val_processed_target   = Lazy_Iterable_Wrapper(val_original_target, transform_lambda)\n",
    "test_processed_target  = Lazy_Iterable_Wrapper(test_original_target, transform_lambda)\n",
    "\n",
    "datasets = EasyDict({\n",
    "    \"source\": {\n",
    "        \"original\": {\"train\":train_original_source, \"val\":val_original_source, \"test\":test_original_source},\n",
    "        \"processed\": {\"train\":train_processed_source, \"val\":val_processed_source, \"test\":test_processed_source}\n",
    "    },\n",
    "    \"target\": {\n",
    "        \"original\": {\"train\":train_original_target, \"val\":val_original_target, \"test\":test_original_target},\n",
    "        \"processed\": {\"train\":train_processed_target, \"val\":val_processed_target, \"test\":test_processed_target}\n",
    "    },\n",
    "})"
   ]
  },
  {
   "cell_type": "code",
   "execution_count": 20,
   "id": "5b3c01fc",
   "metadata": {
    "execution": {
     "iopub.execute_input": "2022-03-22T14:12:37.594253Z",
     "iopub.status.busy": "2022-03-22T14:12:37.593884Z",
     "iopub.status.idle": "2022-03-22T14:12:52.364025Z",
     "shell.execute_reply": "2022-03-22T14:12:52.363152Z"
    },
    "papermill": {
     "duration": 14.794868,
     "end_time": "2022-03-22T14:12:52.364201",
     "exception": false,
     "start_time": "2022-03-22T14:12:37.569333",
     "status": "completed"
    },
    "tags": []
   },
   "outputs": [
    {
     "name": "stdout",
     "output_type": "stream",
     "text": [
      "{'CORES_1', 'CORES_5', 'CORES_3', 'CORES_4', 'CORES_2'}\n"
     ]
    },
    {
     "name": "stdout",
     "output_type": "stream",
     "text": [
      "{'ORACLE.run1_26', 'ORACLE.run1_50', 'ORACLE.run1_14', 'ORACLE.run1_32', 'ORACLE.run1_44', 'ORACLE.run1_8', 'ORACLE.run1_38', 'ORACLE.run1_20'}\n"
     ]
    },
    {
     "name": "stdout",
     "output_type": "stream",
     "text": [
      "tensor([[[ 0.0577, -0.0212,  0.2682,  ..., -0.4326, -1.5763, -0.2134],\n",
      "         [ 0.4027, -0.5839, -1.2833,  ..., -0.9347,  1.4002,  0.8214]],\n",
      "\n",
      "        [[ 0.0627, -0.0242, -0.8194,  ..., -1.1404,  1.1646,  1.8945],\n",
      "         [-0.3787, -0.0393,  0.7533,  ...,  0.7174,  0.6672, -0.5970]],\n",
      "\n",
      "        [[-0.1546, -0.3833,  0.6880,  ...,  1.0854,  0.6560, -1.8245],\n",
      "         [ 0.2057,  0.1984, -0.0770,  ...,  0.4761, -0.7510, -1.1489]],\n",
      "\n",
      "        ...,\n",
      "\n",
      "        [[-0.3369, -0.1395,  0.8608,  ...,  0.8976,  0.7976, -0.0579],\n",
      "         [-0.0053, -0.7397, -0.1500,  ..., -0.7028, -1.5820, -0.4817]],\n",
      "\n",
      "        [[ 0.3192,  0.4827, -0.6150,  ..., -0.0753,  0.4801,  0.3244],\n",
      "         [-0.2284,  0.5839,  0.6954,  ...,  1.1833,  1.6270,  0.1246]],\n",
      "\n",
      "        [[-0.1375, -0.1428,  0.7377,  ...,  0.5896,  1.3220,  1.5282],\n",
      "         [ 0.0502, -0.4336, -0.2776,  ...,  0.4257,  0.0185, -0.4019]]])\n"
     ]
    }
   ],
   "source": [
    "from steves_utils.transforms import get_average_magnitude, get_average_power\n",
    "\n",
    "print(set([u for u,_ in val_original_source]))\n",
    "print(set([u for u,_ in val_original_target]))\n",
    "\n",
    "s_x, s_y, q_x, q_y, _ = next(iter(train_processed_source))\n",
    "print(s_x)\n",
    "\n",
    "# for ds in [\n",
    "#     train_processed_source,\n",
    "#     val_processed_source,\n",
    "#     test_processed_source,\n",
    "#     train_processed_target,\n",
    "#     val_processed_target,\n",
    "#     test_processed_target\n",
    "# ]:\n",
    "#     for s_x, s_y, q_x, q_y, _ in ds:\n",
    "#         for X in (s_x, q_x):\n",
    "#             for x in X:\n",
    "#                 assert np.isclose(get_average_magnitude(x.numpy()), 1.0)\n",
    "#                 assert np.isclose(get_average_power(x.numpy()), 1.0)\n",
    "                "
   ]
  },
  {
   "cell_type": "code",
   "execution_count": 21,
   "id": "bbdacba1",
   "metadata": {
    "execution": {
     "iopub.execute_input": "2022-03-22T14:12:52.421770Z",
     "iopub.status.busy": "2022-03-22T14:12:52.421205Z",
     "iopub.status.idle": "2022-03-22T14:12:52.630672Z",
     "shell.execute_reply": "2022-03-22T14:12:52.629947Z"
    },
    "papermill": {
     "duration": 0.237466,
     "end_time": "2022-03-22T14:12:52.630855",
     "exception": false,
     "start_time": "2022-03-22T14:12:52.393389",
     "status": "completed"
    },
    "tags": []
   },
   "outputs": [
    {
     "name": "stdout",
     "output_type": "stream",
     "text": [
      "(2, 256)\n"
     ]
    }
   ],
   "source": [
    "###################################\n",
    "# Build the model\n",
    "###################################\n",
    "# easfsl only wants a tuple for the shape\n",
    "model = Steves_Prototypical_Network(x_net, device=p.device, x_shape=tuple(p.x_shape))\n",
    "optimizer = Adam(params=model.parameters(), lr=p.lr)"
   ]
  },
  {
   "cell_type": "code",
   "execution_count": 22,
   "id": "22b39ac5",
   "metadata": {
    "execution": {
     "iopub.execute_input": "2022-03-22T14:12:52.686019Z",
     "iopub.status.busy": "2022-03-22T14:12:52.685642Z",
     "iopub.status.idle": "2022-03-22T14:33:04.996540Z",
     "shell.execute_reply": "2022-03-22T14:33:04.996199Z"
    },
    "papermill": {
     "duration": 1212.337254,
     "end_time": "2022-03-22T14:33:04.996623",
     "exception": false,
     "start_time": "2022-03-22T14:12:52.659369",
     "status": "completed"
    },
    "tags": []
   },
   "outputs": [
    {
     "name": "stdout",
     "output_type": "stream",
     "text": [
      "epoch: 1, [batch: 1 / 6316], examples_per_second: 33.4861, train_label_loss: 2.5490, \n"
     ]
    },
    {
     "name": "stdout",
     "output_type": "stream",
     "text": [
      "epoch: 1, [batch: 632 / 6316], examples_per_second: 4324.6542, train_label_loss: 0.0117, \n"
     ]
    },
    {
     "name": "stdout",
     "output_type": "stream",
     "text": [
      "epoch: 1, [batch: 1264 / 6316], examples_per_second: 4422.5159, train_label_loss: 0.0073, \n"
     ]
    },
    {
     "name": "stdout",
     "output_type": "stream",
     "text": [
      "epoch: 1, [batch: 1895 / 6316], examples_per_second: 4343.4304, train_label_loss: 0.0011, \n"
     ]
    },
    {
     "name": "stdout",
     "output_type": "stream",
     "text": [
      "epoch: 1, [batch: 2527 / 6316], examples_per_second: 4364.6300, train_label_loss: 0.0645, \n"
     ]
    },
    {
     "name": "stdout",
     "output_type": "stream",
     "text": [
      "epoch: 1, [batch: 3158 / 6316], examples_per_second: 4794.4971, train_label_loss: 0.0004, \n"
     ]
    },
    {
     "name": "stdout",
     "output_type": "stream",
     "text": [
      "epoch: 1, [batch: 3790 / 6316], examples_per_second: 4780.1477, train_label_loss: 0.0000, \n"
     ]
    },
    {
     "name": "stdout",
     "output_type": "stream",
     "text": [
      "epoch: 1, [batch: 4421 / 6316], examples_per_second: 5158.8818, train_label_loss: 0.0005, \n"
     ]
    },
    {
     "name": "stdout",
     "output_type": "stream",
     "text": [
      "epoch: 1, [batch: 5053 / 6316], examples_per_second: 5246.8792, train_label_loss: 0.0093, \n"
     ]
    },
    {
     "name": "stdout",
     "output_type": "stream",
     "text": [
      "epoch: 1, [batch: 5684 / 6316], examples_per_second: 4034.0860, train_label_loss: 0.0006, \n"
     ]
    },
    {
     "name": "stdout",
     "output_type": "stream",
     "text": [
      "=============================================================\n",
      "epoch: 1, source_val_acc_label: 0.9986, target_val_acc_label: 0.1490, source_val_label_loss: 0.0075, target_val_label_loss: 2.6716, \n",
      "=============================================================\n"
     ]
    },
    {
     "name": "stdout",
     "output_type": "stream",
     "text": [
      "New best\n"
     ]
    },
    {
     "name": "stdout",
     "output_type": "stream",
     "text": [
      "epoch: 2, [batch: 1 / 6296], examples_per_second: 4.1336, train_label_loss: 0.0008, \n"
     ]
    },
    {
     "name": "stdout",
     "output_type": "stream",
     "text": [
      "epoch: 2, [batch: 630 / 6296], examples_per_second: 3900.1488, train_label_loss: 0.0001, \n"
     ]
    },
    {
     "name": "stdout",
     "output_type": "stream",
     "text": [
      "epoch: 2, [batch: 1260 / 6296], examples_per_second: 3874.9131, train_label_loss: 0.0000, \n"
     ]
    },
    {
     "name": "stdout",
     "output_type": "stream",
     "text": [
      "epoch: 2, [batch: 1889 / 6296], examples_per_second: 3855.8979, train_label_loss: 0.0000, \n"
     ]
    },
    {
     "name": "stdout",
     "output_type": "stream",
     "text": [
      "epoch: 2, [batch: 2519 / 6296], examples_per_second: 3838.9650, train_label_loss: 0.0011, \n"
     ]
    },
    {
     "name": "stdout",
     "output_type": "stream",
     "text": [
      "epoch: 2, [batch: 3148 / 6296], examples_per_second: 3889.9470, train_label_loss: 0.0000, \n"
     ]
    },
    {
     "name": "stdout",
     "output_type": "stream",
     "text": [
      "epoch: 2, [batch: 3778 / 6296], examples_per_second: 3879.4947, train_label_loss: 0.0000, \n"
     ]
    },
    {
     "name": "stdout",
     "output_type": "stream",
     "text": [
      "epoch: 2, [batch: 4407 / 6296], examples_per_second: 3868.7504, train_label_loss: 0.0000, \n"
     ]
    },
    {
     "name": "stdout",
     "output_type": "stream",
     "text": [
      "epoch: 2, [batch: 5037 / 6296], examples_per_second: 3900.1999, train_label_loss: 0.0000, \n"
     ]
    },
    {
     "name": "stdout",
     "output_type": "stream",
     "text": [
      "epoch: 2, [batch: 5666 / 6296], examples_per_second: 3977.6180, train_label_loss: 0.0003, \n"
     ]
    },
    {
     "name": "stdout",
     "output_type": "stream",
     "text": [
      "=============================================================\n",
      "epoch: 2, source_val_acc_label: 0.9991, target_val_acc_label: 0.1558, source_val_label_loss: 0.0089, target_val_label_loss: 3.3170, \n",
      "=============================================================\n"
     ]
    },
    {
     "name": "stdout",
     "output_type": "stream",
     "text": [
      "New best\n"
     ]
    },
    {
     "name": "stdout",
     "output_type": "stream",
     "text": [
      "epoch: 3, [batch: 1 / 6299], examples_per_second: 4.1242, train_label_loss: 0.0010, \n"
     ]
    },
    {
     "name": "stdout",
     "output_type": "stream",
     "text": [
      "epoch: 3, [batch: 630 / 6299], examples_per_second: 3903.9365, train_label_loss: 0.0001, \n"
     ]
    },
    {
     "name": "stdout",
     "output_type": "stream",
     "text": [
      "epoch: 3, [batch: 1260 / 6299], examples_per_second: 3909.6533, train_label_loss: 0.0000, \n"
     ]
    },
    {
     "name": "stdout",
     "output_type": "stream",
     "text": [
      "epoch: 3, [batch: 1890 / 6299], examples_per_second: 3854.5164, train_label_loss: 0.0000, \n"
     ]
    },
    {
     "name": "stdout",
     "output_type": "stream",
     "text": [
      "epoch: 3, [batch: 2520 / 6299], examples_per_second: 3778.0216, train_label_loss: 0.0000, \n"
     ]
    },
    {
     "name": "stdout",
     "output_type": "stream",
     "text": [
      "epoch: 3, [batch: 3150 / 6299], examples_per_second: 3807.6905, train_label_loss: 0.0000, \n"
     ]
    },
    {
     "name": "stdout",
     "output_type": "stream",
     "text": [
      "epoch: 3, [batch: 3779 / 6299], examples_per_second: 3950.4656, train_label_loss: 0.0000, \n"
     ]
    },
    {
     "name": "stdout",
     "output_type": "stream",
     "text": [
      "epoch: 3, [batch: 4409 / 6299], examples_per_second: 3929.3890, train_label_loss: 0.0000, \n"
     ]
    },
    {
     "name": "stdout",
     "output_type": "stream",
     "text": [
      "epoch: 3, [batch: 5039 / 6299], examples_per_second: 3931.1790, train_label_loss: 0.0000, \n"
     ]
    },
    {
     "name": "stdout",
     "output_type": "stream",
     "text": [
      "epoch: 3, [batch: 5669 / 6299], examples_per_second: 3928.9031, train_label_loss: 0.0223, \n"
     ]
    },
    {
     "name": "stdout",
     "output_type": "stream",
     "text": [
      "=============================================================\n",
      "epoch: 3, source_val_acc_label: 0.9991, target_val_acc_label: 0.1483, source_val_label_loss: 0.0100, target_val_label_loss: 3.4738, \n",
      "=============================================================\n"
     ]
    },
    {
     "name": "stdout",
     "output_type": "stream",
     "text": [
      "epoch: 4, [batch: 1 / 6316], examples_per_second: 4.0268, train_label_loss: 0.0000, \n"
     ]
    },
    {
     "name": "stdout",
     "output_type": "stream",
     "text": [
      "epoch: 4, [batch: 632 / 6316], examples_per_second: 4030.1837, train_label_loss: 0.0000, \n"
     ]
    },
    {
     "name": "stdout",
     "output_type": "stream",
     "text": [
      "epoch: 4, [batch: 1264 / 6316], examples_per_second: 3986.5556, train_label_loss: 0.0000, \n"
     ]
    },
    {
     "name": "stdout",
     "output_type": "stream",
     "text": [
      "epoch: 4, [batch: 1895 / 6316], examples_per_second: 4020.1029, train_label_loss: 0.0003, \n"
     ]
    },
    {
     "name": "stdout",
     "output_type": "stream",
     "text": [
      "epoch: 4, [batch: 2527 / 6316], examples_per_second: 3971.1182, train_label_loss: 0.0003, \n"
     ]
    },
    {
     "name": "stdout",
     "output_type": "stream",
     "text": [
      "epoch: 4, [batch: 3158 / 6316], examples_per_second: 3873.6383, train_label_loss: 0.0000, \n"
     ]
    },
    {
     "name": "stdout",
     "output_type": "stream",
     "text": [
      "epoch: 4, [batch: 3790 / 6316], examples_per_second: 3870.3651, train_label_loss: 0.0000, \n"
     ]
    },
    {
     "name": "stdout",
     "output_type": "stream",
     "text": [
      "epoch: 4, [batch: 4421 / 6316], examples_per_second: 3906.9841, train_label_loss: 0.0000, \n"
     ]
    },
    {
     "name": "stdout",
     "output_type": "stream",
     "text": [
      "epoch: 4, [batch: 5053 / 6316], examples_per_second: 3872.9409, train_label_loss: 0.0000, \n"
     ]
    },
    {
     "name": "stdout",
     "output_type": "stream",
     "text": [
      "epoch: 4, [batch: 5684 / 6316], examples_per_second: 3812.9113, train_label_loss: 0.0000, \n"
     ]
    },
    {
     "name": "stdout",
     "output_type": "stream",
     "text": [
      "=============================================================\n",
      "epoch: 4, source_val_acc_label: 0.9989, target_val_acc_label: 0.1799, source_val_label_loss: 0.0097, target_val_label_loss: 3.7551, \n",
      "=============================================================\n"
     ]
    },
    {
     "name": "stdout",
     "output_type": "stream",
     "text": [
      "New best\n"
     ]
    },
    {
     "name": "stdout",
     "output_type": "stream",
     "text": [
      "epoch: 5, [batch: 1 / 6313], examples_per_second: 4.0606, train_label_loss: 0.0025, \n"
     ]
    },
    {
     "name": "stdout",
     "output_type": "stream",
     "text": [
      "epoch: 5, [batch: 632 / 6313], examples_per_second: 3964.2508, train_label_loss: 0.0000, \n"
     ]
    },
    {
     "name": "stdout",
     "output_type": "stream",
     "text": [
      "epoch: 5, [batch: 1263 / 6313], examples_per_second: 3898.7359, train_label_loss: 0.0000, \n"
     ]
    },
    {
     "name": "stdout",
     "output_type": "stream",
     "text": [
      "epoch: 5, [batch: 1894 / 6313], examples_per_second: 3910.6042, train_label_loss: 0.0000, \n"
     ]
    },
    {
     "name": "stdout",
     "output_type": "stream",
     "text": [
      "epoch: 5, [batch: 2525 / 6313], examples_per_second: 3996.8401, train_label_loss: 0.0000, \n"
     ]
    },
    {
     "name": "stdout",
     "output_type": "stream",
     "text": [
      "epoch: 5, [batch: 3157 / 6313], examples_per_second: 3974.9430, train_label_loss: 0.0000, \n"
     ]
    },
    {
     "name": "stdout",
     "output_type": "stream",
     "text": [
      "epoch: 5, [batch: 3788 / 6313], examples_per_second: 4043.2013, train_label_loss: 0.0000, \n"
     ]
    },
    {
     "name": "stdout",
     "output_type": "stream",
     "text": [
      "epoch: 5, [batch: 4419 / 6313], examples_per_second: 3948.3690, train_label_loss: 0.0000, \n"
     ]
    },
    {
     "name": "stdout",
     "output_type": "stream",
     "text": [
      "epoch: 5, [batch: 5050 / 6313], examples_per_second: 3947.5755, train_label_loss: 0.0000, \n"
     ]
    },
    {
     "name": "stdout",
     "output_type": "stream",
     "text": [
      "epoch: 5, [batch: 5681 / 6313], examples_per_second: 3978.6504, train_label_loss: 0.0000, \n"
     ]
    },
    {
     "name": "stdout",
     "output_type": "stream",
     "text": [
      "=============================================================\n",
      "epoch: 5, source_val_acc_label: 0.9992, target_val_acc_label: 0.1752, source_val_label_loss: 0.0097, target_val_label_loss: 3.6476, \n",
      "=============================================================\n"
     ]
    },
    {
     "name": "stdout",
     "output_type": "stream",
     "text": [
      "epoch: 6, [batch: 1 / 6307], examples_per_second: 4.0176, train_label_loss: 0.0000, \n"
     ]
    },
    {
     "name": "stdout",
     "output_type": "stream",
     "text": [
      "epoch: 6, [batch: 631 / 6307], examples_per_second: 4291.9396, train_label_loss: 0.0000, \n"
     ]
    },
    {
     "name": "stdout",
     "output_type": "stream",
     "text": [
      "epoch: 6, [batch: 1262 / 6307], examples_per_second: 4305.8519, train_label_loss: 0.0000, \n"
     ]
    },
    {
     "name": "stdout",
     "output_type": "stream",
     "text": [
      "epoch: 6, [batch: 1892 / 6307], examples_per_second: 4210.5590, train_label_loss: 0.0000, \n"
     ]
    },
    {
     "name": "stdout",
     "output_type": "stream",
     "text": [
      "epoch: 6, [batch: 2523 / 6307], examples_per_second: 4345.9824, train_label_loss: 0.0000, \n"
     ]
    },
    {
     "name": "stdout",
     "output_type": "stream",
     "text": [
      "epoch: 6, [batch: 3154 / 6307], examples_per_second: 4420.6537, train_label_loss: 0.0000, \n"
     ]
    },
    {
     "name": "stdout",
     "output_type": "stream",
     "text": [
      "epoch: 6, [batch: 3784 / 6307], examples_per_second: 5455.3401, train_label_loss: 0.0000, \n"
     ]
    },
    {
     "name": "stdout",
     "output_type": "stream",
     "text": [
      "epoch: 6, [batch: 4415 / 6307], examples_per_second: 4992.8131, train_label_loss: 0.0000, \n"
     ]
    },
    {
     "name": "stdout",
     "output_type": "stream",
     "text": [
      "epoch: 6, [batch: 5045 / 6307], examples_per_second: 4388.3323, train_label_loss: 0.0000, \n"
     ]
    },
    {
     "name": "stdout",
     "output_type": "stream",
     "text": [
      "epoch: 6, [batch: 5676 / 6307], examples_per_second: 3840.9501, train_label_loss: 0.0032, \n"
     ]
    },
    {
     "name": "stdout",
     "output_type": "stream",
     "text": [
      "=============================================================\n",
      "epoch: 6, source_val_acc_label: 0.9994, target_val_acc_label: 0.1751, source_val_label_loss: 0.0063, target_val_label_loss: 3.6641, \n",
      "=============================================================\n"
     ]
    },
    {
     "name": "stdout",
     "output_type": "stream",
     "text": [
      "epoch: 7, [batch: 1 / 6303], examples_per_second: 4.0254, train_label_loss: 0.0001, \n"
     ]
    },
    {
     "name": "stdout",
     "output_type": "stream",
     "text": [
      "epoch: 7, [batch: 631 / 6303], examples_per_second: 3883.5796, train_label_loss: 0.0000, \n"
     ]
    },
    {
     "name": "stdout",
     "output_type": "stream",
     "text": [
      "epoch: 7, [batch: 1261 / 6303], examples_per_second: 3920.5767, train_label_loss: 0.0001, \n"
     ]
    },
    {
     "name": "stdout",
     "output_type": "stream",
     "text": [
      "epoch: 7, [batch: 1891 / 6303], examples_per_second: 3900.2113, train_label_loss: 0.0000, \n"
     ]
    },
    {
     "name": "stdout",
     "output_type": "stream",
     "text": [
      "epoch: 7, [batch: 2521 / 6303], examples_per_second: 3965.7113, train_label_loss: 0.0000, \n"
     ]
    },
    {
     "name": "stdout",
     "output_type": "stream",
     "text": [
      "epoch: 7, [batch: 3152 / 6303], examples_per_second: 4010.0726, train_label_loss: 0.0000, \n"
     ]
    },
    {
     "name": "stdout",
     "output_type": "stream",
     "text": [
      "epoch: 7, [batch: 3782 / 6303], examples_per_second: 4013.8651, train_label_loss: 0.0000, \n"
     ]
    },
    {
     "name": "stdout",
     "output_type": "stream",
     "text": [
      "epoch: 7, [batch: 4412 / 6303], examples_per_second: 3856.7254, train_label_loss: 0.0000, \n"
     ]
    },
    {
     "name": "stdout",
     "output_type": "stream",
     "text": [
      "epoch: 7, [batch: 5042 / 6303], examples_per_second: 3875.0434, train_label_loss: 0.0000, \n"
     ]
    },
    {
     "name": "stdout",
     "output_type": "stream",
     "text": [
      "epoch: 7, [batch: 5672 / 6303], examples_per_second: 3926.9078, train_label_loss: 0.0000, \n"
     ]
    },
    {
     "name": "stdout",
     "output_type": "stream",
     "text": [
      "=============================================================\n",
      "epoch: 7, source_val_acc_label: 0.9994, target_val_acc_label: 0.1553, source_val_label_loss: 0.0086, target_val_label_loss: 3.7076, \n",
      "=============================================================\n"
     ]
    },
    {
     "name": "stdout",
     "output_type": "stream",
     "text": [
      "epoch: 8, [batch: 1 / 6292], examples_per_second: 4.1034, train_label_loss: 0.0000, \n"
     ]
    },
    {
     "name": "stdout",
     "output_type": "stream",
     "text": [
      "epoch: 8, [batch: 630 / 6292], examples_per_second: 3826.8098, train_label_loss: 0.0000, \n"
     ]
    },
    {
     "name": "stdout",
     "output_type": "stream",
     "text": [
      "epoch: 8, [batch: 1259 / 6292], examples_per_second: 3844.8184, train_label_loss: 0.0000, \n"
     ]
    },
    {
     "name": "stdout",
     "output_type": "stream",
     "text": [
      "epoch: 8, [batch: 1888 / 6292], examples_per_second: 3841.5883, train_label_loss: 0.0000, \n"
     ]
    },
    {
     "name": "stdout",
     "output_type": "stream",
     "text": [
      "epoch: 8, [batch: 2517 / 6292], examples_per_second: 3775.4945, train_label_loss: 0.0000, \n"
     ]
    },
    {
     "name": "stdout",
     "output_type": "stream",
     "text": [
      "epoch: 8, [batch: 3146 / 6292], examples_per_second: 3841.3898, train_label_loss: 0.0000, \n"
     ]
    },
    {
     "name": "stdout",
     "output_type": "stream",
     "text": [
      "epoch: 8, [batch: 3775 / 6292], examples_per_second: 3917.7713, train_label_loss: 0.0000, \n"
     ]
    },
    {
     "name": "stdout",
     "output_type": "stream",
     "text": [
      "epoch: 8, [batch: 4404 / 6292], examples_per_second: 3885.3780, train_label_loss: 0.0000, \n"
     ]
    },
    {
     "name": "stdout",
     "output_type": "stream",
     "text": [
      "epoch: 8, [batch: 5033 / 6292], examples_per_second: 3933.8316, train_label_loss: 0.0000, \n"
     ]
    },
    {
     "name": "stdout",
     "output_type": "stream",
     "text": [
      "epoch: 8, [batch: 5662 / 6292], examples_per_second: 3892.0568, train_label_loss: 0.0000, \n"
     ]
    },
    {
     "name": "stdout",
     "output_type": "stream",
     "text": [
      "=============================================================\n",
      "epoch: 8, source_val_acc_label: 0.9994, target_val_acc_label: 0.1526, source_val_label_loss: 0.0103, target_val_label_loss: 4.3795, \n",
      "=============================================================\n"
     ]
    },
    {
     "name": "stdout",
     "output_type": "stream",
     "text": [
      "Patience (3) exhausted\n"
     ]
    }
   ],
   "source": [
    "###################################\n",
    "# train\n",
    "###################################\n",
    "jig = PTN_Train_Eval_Test_Jig(model, p.BEST_MODEL_PATH, p.device)\n",
    "\n",
    "jig.train(\n",
    "    train_iterable=datasets.source.processed.train,\n",
    "    source_val_iterable=datasets.source.processed.val,\n",
    "    target_val_iterable=datasets.target.processed.val,\n",
    "    num_epochs=p.n_epoch,\n",
    "    num_logs_per_epoch=p.NUM_LOGS_PER_EPOCH,\n",
    "    patience=p.patience,\n",
    "    optimizer=optimizer,\n",
    "    criteria_for_best=p.criteria_for_best,\n",
    ")"
   ]
  },
  {
   "cell_type": "code",
   "execution_count": 23,
   "id": "31e8fabf",
   "metadata": {
    "execution": {
     "iopub.execute_input": "2022-03-22T14:33:05.095939Z",
     "iopub.status.busy": "2022-03-22T14:33:05.095508Z",
     "iopub.status.idle": "2022-03-22T14:33:05.131824Z",
     "shell.execute_reply": "2022-03-22T14:33:05.130998Z"
    },
    "papermill": {
     "duration": 0.087866,
     "end_time": "2022-03-22T14:33:05.131984",
     "exception": false,
     "start_time": "2022-03-22T14:33:05.044118",
     "status": "completed"
    },
    "tags": []
   },
   "outputs": [],
   "source": [
    "total_experiment_time_secs = time.time() - start_time_secs"
   ]
  },
  {
   "cell_type": "code",
   "execution_count": 24,
   "id": "87b9595b",
   "metadata": {
    "execution": {
     "iopub.execute_input": "2022-03-22T14:33:05.239668Z",
     "iopub.status.busy": "2022-03-22T14:33:05.236301Z",
     "iopub.status.idle": "2022-03-22T14:35:52.226840Z",
     "shell.execute_reply": "2022-03-22T14:35:52.227519Z"
    },
    "papermill": {
     "duration": 167.045238,
     "end_time": "2022-03-22T14:35:52.227766",
     "exception": false,
     "start_time": "2022-03-22T14:33:05.182528",
     "status": "completed"
    },
    "tags": []
   },
   "outputs": [],
   "source": [
    "###################################\n",
    "# Evaluate the model\n",
    "###################################\n",
    "source_test_label_accuracy, source_test_label_loss = jig.test(datasets.source.processed.test)\n",
    "target_test_label_accuracy, target_test_label_loss = jig.test(datasets.target.processed.test)\n",
    "\n",
    "source_val_label_accuracy, source_val_label_loss = jig.test(datasets.source.processed.val)\n",
    "target_val_label_accuracy, target_val_label_loss = jig.test(datasets.target.processed.val)\n",
    "\n",
    "history = jig.get_history()\n",
    "\n",
    "total_epochs_trained = len(history[\"epoch_indices\"])\n",
    "\n",
    "val_dl = Iterable_Aggregator((datasets.source.original.val,datasets.target.original.val))\n",
    "\n",
    "confusion = ptn_confusion_by_domain_over_dataloader(model, p.device, val_dl)\n",
    "per_domain_accuracy = per_domain_accuracy_from_confusion(confusion)\n",
    "\n",
    "# Add a key to per_domain_accuracy for if it was a source domain\n",
    "for domain, accuracy in per_domain_accuracy.items():\n",
    "    per_domain_accuracy[domain] = {\n",
    "        \"accuracy\": accuracy,\n",
    "        \"source?\": domain in p.domains_source\n",
    "    }\n",
    "\n",
    "# Do an independent accuracy assesment JUST TO BE SURE!\n",
    "# _source_test_label_accuracy = independent_accuracy_assesment(model, datasets.source.processed.test, p.device)\n",
    "# _target_test_label_accuracy = independent_accuracy_assesment(model, datasets.target.processed.test, p.device)\n",
    "# _source_val_label_accuracy = independent_accuracy_assesment(model, datasets.source.processed.val, p.device)\n",
    "# _target_val_label_accuracy = independent_accuracy_assesment(model, datasets.target.processed.val, p.device)\n",
    "\n",
    "# assert(_source_test_label_accuracy == source_test_label_accuracy)\n",
    "# assert(_target_test_label_accuracy == target_test_label_accuracy)\n",
    "# assert(_source_val_label_accuracy == source_val_label_accuracy)\n",
    "# assert(_target_val_label_accuracy == target_val_label_accuracy)\n",
    "\n",
    "experiment = {\n",
    "    \"experiment_name\": p.experiment_name,\n",
    "    \"parameters\": dict(p),\n",
    "    \"results\": {\n",
    "        \"source_test_label_accuracy\": source_test_label_accuracy,\n",
    "        \"source_test_label_loss\": source_test_label_loss,\n",
    "        \"target_test_label_accuracy\": target_test_label_accuracy,\n",
    "        \"target_test_label_loss\": target_test_label_loss,\n",
    "        \"source_val_label_accuracy\": source_val_label_accuracy,\n",
    "        \"source_val_label_loss\": source_val_label_loss,\n",
    "        \"target_val_label_accuracy\": target_val_label_accuracy,\n",
    "        \"target_val_label_loss\": target_val_label_loss,\n",
    "        \"total_epochs_trained\": total_epochs_trained,\n",
    "        \"total_experiment_time_secs\": total_experiment_time_secs,\n",
    "        \"confusion\": confusion,\n",
    "        \"per_domain_accuracy\": per_domain_accuracy,\n",
    "    },\n",
    "    \"history\": history,\n",
    "    \"dataset_metrics\": get_dataset_metrics(datasets, \"ptn\"),\n",
    "}"
   ]
  },
  {
   "cell_type": "code",
   "execution_count": 25,
   "id": "54a21829",
   "metadata": {
    "execution": {
     "iopub.execute_input": "2022-03-22T14:35:52.333189Z",
     "iopub.status.busy": "2022-03-22T14:35:52.332618Z",
     "iopub.status.idle": "2022-03-22T14:35:52.545519Z",
     "shell.execute_reply": "2022-03-22T14:35:52.544750Z"
    },
    "papermill": {
     "duration": 0.265307,
     "end_time": "2022-03-22T14:35:52.545681",
     "exception": false,
     "start_time": "2022-03-22T14:35:52.280374",
     "status": "completed"
    },
    "tags": []
   },
   "outputs": [
    {
     "data": {
      "image/png": "[encoded data removed]",
      "text/plain": [
       "<Figure size 1080x504 with 1 Axes>"
      ]
     },
     "metadata": {
      "needs_background": "light"
     },
     "output_type": "display_data"
    }
   ],
   "source": [
    "ax = get_loss_curve(experiment)\n",
    "plt.show()"
   ]
  },
  {
   "cell_type": "code",
   "execution_count": 26,
   "id": "fd8a0f60",
   "metadata": {
    "execution": {
     "iopub.execute_input": "2022-03-22T14:35:52.650778Z",
     "iopub.status.busy": "2022-03-22T14:35:52.650406Z",
     "iopub.status.idle": "2022-03-22T14:35:52.964605Z",
     "shell.execute_reply": "2022-03-22T14:35:52.964213Z"
    },
    "papermill": {
     "duration": 0.364818,
     "end_time": "2022-03-22T14:35:52.964690",
     "exception": false,
     "start_time": "2022-03-22T14:35:52.599872",
     "status": "completed"
    },
    "tags": []
   },
   "outputs": [
    {
     "data": {
      "text/plain": [
       "<AxesSubplot:title={'center':'Results'}>"
      ]
     },
     "execution_count": 26,
     "metadata": {},
     "output_type": "execute_result"
    },
    {
     "data": {
      "image/png": "[encoded data removed]",
      "text/plain": [
       "<Figure size 1080x504 with 1 Axes>"
      ]
     },
     "metadata": {
      "needs_background": "light"
     },
     "output_type": "display_data"
    }
   ],
   "source": [
    "get_results_table(experiment)"
   ]
  },
  {
   "cell_type": "code",
   "execution_count": 27,
   "id": "cf8dc689",
   "metadata": {
    "execution": {
     "iopub.execute_input": "2022-03-22T14:35:53.069839Z",
     "iopub.status.busy": "2022-03-22T14:35:53.069459Z",
     "iopub.status.idle": "2022-03-22T14:35:53.328886Z",
     "shell.execute_reply": "2022-03-22T14:35:53.328061Z"
    },
    "papermill": {
     "duration": 0.313613,
     "end_time": "2022-03-22T14:35:53.329054",
     "exception": false,
     "start_time": "2022-03-22T14:35:53.015441",
     "status": "completed"
    },
    "tags": []
   },
   "outputs": [
    {
     "data": {
      "text/plain": [
       "<AxesSubplot:title={'center':'Per Domain Validation Accuracy'}, xlabel='domain'>"
      ]
     },
     "execution_count": 27,
     "metadata": {},
     "output_type": "execute_result"
    },
    {
     "data": {
      "image/png": "[encoded data removed]",
      "text/plain": [
       "<Figure size 1080x504 with 1 Axes>"
      ]
     },
     "metadata": {
      "needs_background": "light"
     },
     "output_type": "display_data"
    }
   ],
   "source": [
    "get_domain_accuracies(experiment)"
   ]
  },
  {
   "cell_type": "code",
   "execution_count": 28,
   "id": "a74ae082",
   "metadata": {
    "execution": {
     "iopub.execute_input": "2022-03-22T14:35:53.439474Z",
     "iopub.status.busy": "2022-03-22T14:35:53.439091Z",
     "iopub.status.idle": "2022-03-22T14:35:53.464821Z",
     "shell.execute_reply": "2022-03-22T14:35:53.463996Z"
    },
    "papermill": {
     "duration": 0.080659,
     "end_time": "2022-03-22T14:35:53.464986",
     "exception": false,
     "start_time": "2022-03-22T14:35:53.384327",
     "status": "completed"
    },
    "tags": []
   },
   "outputs": [
    {
     "name": "stdout",
     "output_type": "stream",
     "text": [
      "Source Test Label Accuracy: 0.9987288135593221 Target Test Label Accuracy: 0.18053385416666667\n",
      "Source Val Label Accuracy: 0.9988571428571429 Target Val Label Accuracy: 0.17994791666666668\n"
     ]
    }
   ],
   "source": [
    "print(\"Source Test Label Accuracy:\", experiment[\"results\"][\"source_test_label_accuracy\"], \"Target Test Label Accuracy:\", experiment[\"results\"][\"target_test_label_accuracy\"])\n",
    "print(\"Source Val Label Accuracy:\", experiment[\"results\"][\"source_val_label_accuracy\"], \"Target Val Label Accuracy:\", experiment[\"results\"][\"target_val_label_accuracy\"])"
   ]
  },
  {
   "cell_type": "code",
   "execution_count": 29,
   "id": "dacca602",
   "metadata": {
    "execution": {
     "iopub.execute_input": "2022-03-22T14:35:53.625005Z",
     "iopub.status.busy": "2022-03-22T14:35:53.624624Z",
     "iopub.status.idle": "2022-03-22T14:35:53.650516Z",
     "shell.execute_reply": "2022-03-22T14:35:53.651210Z"
    },
    "papermill": {
     "duration": 0.130849,
     "end_time": "2022-03-22T14:35:53.651407",
     "exception": false,
     "start_time": "2022-03-22T14:35:53.520558",
     "status": "completed"
    },
    "tags": [
     "experiment_json"
    ]
   },
   "outputs": [
    {
     "data": {
      "text/plain": [
       "'{\"experiment_name\": \"tl_1v2:cores-oracle.run1.limited\", \"parameters\": {\"experiment_name\": \"tl_1v2:cores-oracle.run1.limited\", \"device\": \"cuda\", \"lr\": 0.0001, \"n_shot\": 3, \"n_query\": 2, \"train_k_factor\": 3, \"val_k_factor\": 2, \"test_k_factor\": 2, \"torch_default_dtype\": \"torch.float32\", \"n_epoch\": 50, \"patience\": 3, \"criteria_for_best\": \"target_accuracy\", \"x_net\": [{\"class\": \"nnReshape\", \"kargs\": {\"shape\": [-1, 1, 2, 256]}}, {\"class\": \"Conv2d\", \"kargs\": {\"in_channels\": 1, \"out_channels\": 256, \"kernel_size\": [1, 7], \"bias\": false, \"padding\": [0, 3]}}, {\"class\": \"ReLU\", \"kargs\": {\"inplace\": true}}, {\"class\": \"BatchNorm2d\", \"kargs\": {\"num_features\": 256}}, {\"class\": \"Conv2d\", \"kargs\": {\"in_channels\": 256, \"out_channels\": 80, \"kernel_size\": [2, 7], \"bias\": true, \"padding\": [0, 3]}}, {\"class\": \"ReLU\", \"kargs\": {\"inplace\": true}}, {\"class\": \"BatchNorm2d\", \"kargs\": {\"num_features\": 80}}, {\"class\": \"Flatten\", \"kargs\": {}}, {\"class\": \"Linear\", \"kargs\": {\"in_features\": 20480, \"out_features\": 256}}, {\"class\": \"ReLU\", \"kargs\": {\"inplace\": true}}, {\"class\": \"BatchNorm1d\", \"kargs\": {\"num_features\": 256}}, {\"class\": \"Linear\", \"kargs\": {\"in_features\": 256, \"out_features\": 256}}], \"NUM_LOGS_PER_EPOCH\": 10, \"BEST_MODEL_PATH\": \"./best_model.pth\", \"n_way\": 16, \"datasets\": [{\"labels\": [\"1-10.\", \"1-11.\", \"1-15.\", \"1-16.\", \"1-17.\", \"1-18.\", \"1-19.\", \"10-4.\", \"10-7.\", \"11-1.\", \"11-14.\", \"11-17.\", \"11-20.\", \"11-7.\", \"13-20.\", \"13-8.\", \"14-10.\", \"14-11.\", \"14-14.\", \"14-7.\", \"15-1.\", \"15-20.\", \"16-1.\", \"16-16.\", \"17-10.\", \"17-11.\", \"17-2.\", \"19-1.\", \"19-16.\", \"19-19.\", \"19-20.\", \"19-3.\", \"2-10.\", \"2-11.\", \"2-17.\", \"2-18.\", \"2-20.\", \"2-3.\", \"2-4.\", \"2-5.\", \"2-6.\", \"2-7.\", \"2-8.\", \"3-13.\", \"3-18.\", \"3-3.\", \"4-1.\", \"4-10.\", \"4-11.\", \"4-19.\", \"5-5.\", \"6-15.\", \"7-10.\", \"7-14.\", \"8-18.\", \"8-20.\", \"8-3.\", \"8-8.\"], \"domains\": [1, 2, 3, 4, 5], \"num_examples_per_domain_per_label\": -1, \"pickle_path\": \"/root/csc500-main/datasets/cores.stratified_ds.2022A.pkl\", \"source_or_target_dataset\": \"source\", \"x_transforms\": [\"unit_mag\"], \"episode_transforms\": [], \"domain_prefix\": \"CORES_\"}, {\"labels\": [\"3123D52\", \"3123D65\", \"3123D79\", \"3123D80\", \"3123D54\", \"3123D70\", \"3123D7B\", \"3123D89\", \"3123D58\", \"3123D76\", \"3123D7D\", \"3123EFE\", \"3123D64\", \"3123D78\", \"3123D7E\", \"3124E4A\"], \"domains\": [32, 38, 8, 44, 14, 50, 20, 26], \"num_examples_per_domain_per_label\": 2000, \"pickle_path\": \"/root/csc500-main/datasets/oracle.Run1_10kExamples_stratified_ds.2022A.pkl\", \"source_or_target_dataset\": \"target\", \"x_transforms\": [\"unit_mag\"], \"episode_transforms\": [], \"domain_prefix\": \"ORACLE.run1_\"}], \"dataset_seed\": 7, \"seed\": 7, \"x_shape\": [2, 256], \"domains_source\": [\"CORES_1\", \"CORES_2\", \"CORES_3\", \"CORES_4\", \"CORES_5\"], \"domains_target\": [\"ORACLE.run1_32\", \"ORACLE.run1_38\", \"ORACLE.run1_8\", \"ORACLE.run1_44\", \"ORACLE.run1_14\", \"ORACLE.run1_50\", \"ORACLE.run1_20\", \"ORACLE.run1_26\"]}, \"results\": {\"source_test_label_accuracy\": 0.9987288135593221, \"source_test_label_loss\": 0.009825323708355427, \"target_test_label_accuracy\": 0.18053385416666667, \"target_test_label_loss\": 3.7520129680633545, \"source_val_label_accuracy\": 0.9988571428571429, \"source_val_label_loss\": 0.00968735571950674, \"target_val_label_accuracy\": 0.17994791666666668, \"target_val_label_loss\": 3.7550580501556396, \"total_epochs_trained\": 8, \"total_experiment_time_secs\": 1273.7577040195465, \"confusion\": {\"CORES_5\": {\"26\": {\"26\": 24}, \"7\": {\"7\": 32}, \"56\": {\"56\": 142}, \"36\": {\"36\": 92}, \"47\": {\"47\": 100}, \"2\": {\"2\": 28}, \"15\": {\"15\": 152}, \"14\": {\"14\": 43, \"29\": 1}, \"27\": {\"27\": 146}, \"40\": {\"40\": 124}, \"49\": {\"49\": 36}, \"45\": {\"45\": 124}, \"46\": {\"46\": 136}, \"11\": {\"11\": 129, \"15\": 1}, \"30\": {\"30\": 112}, \"0\": {\"0\": 123, \"31\": 1}, \"10\": {\"10\": 68}, \"1\": {\"1\": 148}, \"42\": {\"42\": 38, \"2\": 1, \"52\": 1}, \"54\": {\"54\": 112}, \"55\": {\"55\": 152}, \"23\": {\"23\": 124}, \"25\": {\"25\": 151, \"41\": 1}, \"28\": {\"28\": 32}, \"32\": {\"32\": 32}, \"9\": {\"9\": 140, \"27\": 1, \"48\": 1}, \"39\": {\"39\": 20}, \"3\": {\"3\": 100}, \"29\": {\"29\": 118}, \"17\": {\"17\": 116}, \"35\": {\"35\": 36}, \"44\": {\"44\": 152}, \"5\": {\"5\": 128}, \"33\": {\"33\": 32}, \"34\": {\"34\": 36}, \"13\": {\"13\": 138}, \"41\": {\"41\": 28}, \"6\": {\"6\": 128}, \"51\": {\"51\": 138}, \"50\": {\"50\": 144}, \"37\": {\"37\": 24}, \"19\": {\"19\": 144}, \"57\": {\"57\": 132}, \"21\": {\"21\": 144}, \"24\": {\"24\": 80}, \"8\": {\"8\": 130}, \"12\": {\"12\": 96}, \"48\": {\"48\": 132}, \"43\": {\"43\": 150}, \"53\": {\"53\": 148}, \"38\": {\"38\": 32}, \"16\": {\"16\": 142}, \"22\": {\"22\": 27, \"3\": 1}, \"4\": {\"4\": 100}, \"18\": {\"18\": 64}, \"20\": {\"20\": 144}, \"52\": {\"52\": 140}, \"31\": {\"31\": 36}}, \"CORES_1\": {\"41\": {\"41\": 24}, \"40\": {\"40\": 110}, \"45\": {\"45\": 138}, \"51\": {\"51\": 146, \"12\": 2}, \"5\": {\"5\": 154}, \"30\": {\"30\": 120}, \"42\": {\"42\": 40}, \"46\": {\"46\": 136}, \"48\": {\"48\": 134}, \"53\": {\"53\": 144}, \"47\": {\"47\": 152}, \"49\": {\"49\": 32}, \"36\": {\"36\": 64}, \"32\": {\"32\": 32}, \"34\": {\"34\": 24}, \"29\": {\"29\": 140}, \"35\": {\"35\": 36}, \"3\": {\"3\": 134}, \"16\": {\"16\": 139, \"36\": 1}, \"26\": {\"26\": 24}, \"57\": {\"57\": 144}, \"44\": {\"44\": 128}, \"0\": {\"0\": 152}, \"4\": {\"4\": 132}, \"31\": {\"31\": 28}, \"11\": {\"11\": 140}, \"6\": {\"6\": 96}, \"54\": {\"54\": 104}, \"17\": {\"17\": 64}, \"20\": {\"20\": 128}, \"13\": {\"13\": 150}, \"33\": {\"33\": 32}, \"24\": {\"24\": 107, \"22\": 1}, \"52\": {\"52\": 132}, \"2\": {\"2\": 36}, \"19\": {\"19\": 156}, \"39\": {\"39\": 28}, \"8\": {\"8\": 140}, \"21\": {\"21\": 124}, \"10\": {\"10\": 96}, \"37\": {\"37\": 32}, \"25\": {\"25\": 144}, \"27\": {\"27\": 130}, \"23\": {\"23\": 136}, \"1\": {\"1\": 100}, \"50\": {\"50\": 152}, \"12\": {\"12\": 116}, \"18\": {\"18\": 72}, \"38\": {\"38\": 24}, \"14\": {\"14\": 24}, \"56\": {\"56\": 142}, \"55\": {\"55\": 160}, \"9\": {\"9\": 138}, \"15\": {\"15\": 146}, \"28\": {\"28\": 28}, \"7\": {\"7\": 28}, \"43\": {\"43\": 136}, \"22\": {\"22\": 135, \"24\": 1}}, \"CORES_3\": {\"1\": {\"1\": 100}, \"9\": {\"9\": 124}, \"22\": {\"22\": 136}, \"43\": {\"43\": 136}, \"49\": {\"49\": 20}, \"50\": {\"50\": 138}, \"53\": {\"53\": 136}, \"10\": {\"10\": 64}, \"48\": {\"48\": 116}, \"8\": {\"8\": 138}, \"31\": {\"31\": 28}, \"56\": {\"56\": 134}, \"25\": {\"25\": 142}, \"28\": {\"28\": 28}, \"38\": {\"38\": 28}, \"5\": {\"5\": 116}, \"12\": {\"12\": 92}, \"6\": {\"6\": 88}, \"19\": {\"19\": 152}, \"26\": {\"26\": 24}, \"32\": {\"32\": 28}, \"33\": {\"33\": 28}, \"3\": {\"3\": 118}, \"51\": {\"51\": 128}, \"16\": {\"16\": 138}, \"46\": {\"46\": 140}, \"7\": {\"7\": 36}, \"47\": {\"47\": 92}, \"39\": {\"39\": 16}, \"40\": {\"40\": 136}, \"14\": {\"14\": 39, \"29\": 1}, \"37\": {\"37\": 28}, \"2\": {\"2\": 32}, \"21\": {\"21\": 120}, \"35\": {\"35\": 28}, \"54\": {\"54\": 100}, \"52\": {\"52\": 115, \"50\": 1}, \"29\": {\"29\": 118}, \"20\": {\"20\": 132}, \"18\": {\"18\": 84}, \"11\": {\"11\": 142}, \"0\": {\"0\": 124}, \"36\": {\"36\": 100}, \"17\": {\"17\": 108}, \"30\": {\"30\": 114}, \"42\": {\"42\": 28}, \"45\": {\"45\": 60}, \"4\": {\"4\": 148}, \"23\": {\"23\": 134}, \"13\": {\"13\": 128}, \"15\": {\"15\": 125, \"11\": 3}, \"57\": {\"57\": 122, \"0\": 2}, \"27\": {\"27\": 134}, \"44\": {\"44\": 88}, \"34\": {\"34\": 32}, \"41\": {\"41\": 28}, \"24\": {\"24\": 104}, \"55\": {\"55\": 118}}, \"CORES_4\": {\"52\": {\"52\": 116}, \"6\": {\"6\": 111, \"3\": 1}, \"14\": {\"14\": 16}, \"49\": {\"49\": 20}, \"0\": {\"0\": 80}, \"46\": {\"46\": 155, \"32\": 1}, \"41\": {\"41\": 36}, \"24\": {\"24\": 56}, \"25\": {\"25\": 152}, \"40\": {\"40\": 138}, \"38\": {\"38\": 40}, \"13\": {\"13\": 152}, \"9\": {\"9\": 108}, \"45\": {\"45\": 96}, \"43\": {\"43\": 144}, \"10\": {\"10\": 130}, \"15\": {\"15\": 128}, \"39\": {\"39\": 20}, \"4\": {\"4\": 132}, \"53\": {\"53\": 132}, \"1\": {\"1\": 39, \"29\": 1}, \"28\": {\"28\": 32}, \"54\": {\"54\": 108}, \"21\": {\"21\": 132}, \"7\": {\"7\": 23, \"10\": 1}, \"8\": {\"8\": 136}, \"42\": {\"42\": 32}, \"11\": {\"11\": 103, \"15\": 1}, \"33\": {\"33\": 36}, \"27\": {\"27\": 142}, \"19\": {\"19\": 144}, \"2\": {\"2\": 36}, \"3\": {\"3\": 118, \"50\": 2}, \"57\": {\"57\": 100}, \"20\": {\"20\": 112}, \"23\": {\"23\": 128}, \"22\": {\"22\": 128}, \"29\": {\"29\": 124}, \"36\": {\"36\": 92}, \"51\": {\"51\": 132}, \"31\": {\"31\": 28}, \"12\": {\"12\": 92}, \"56\": {\"56\": 138}, \"5\": {\"5\": 108}, \"35\": {\"35\": 40}, \"17\": {\"17\": 80}, \"32\": {\"32\": 24}, \"47\": {\"47\": 120}, \"18\": {\"18\": 107, \"3\": 1}, \"26\": {\"26\": 24}, \"50\": {\"50\": 122}, \"55\": {\"55\": 124}, \"34\": {\"34\": 24}, \"30\": {\"30\": 44}, \"37\": {\"37\": 24}, \"44\": {\"44\": 132}, \"48\": {\"48\": 118}, \"16\": {\"16\": 95, \"5\": 1}}, \"CORES_2\": {\"11\": {\"11\": 130}, \"21\": {\"21\": 120}, \"19\": {\"19\": 140}, \"20\": {\"20\": 128}, \"9\": {\"9\": 140}, \"10\": {\"10\": 112}, \"37\": {\"37\": 36}, \"32\": {\"32\": 28}, \"3\": {\"3\": 92}, \"39\": {\"39\": 28}, \"45\": {\"45\": 128}, \"50\": {\"50\": 136}, \"40\": {\"40\": 140}, \"46\": {\"46\": 128}, \"12\": {\"12\": 92}, \"13\": {\"13\": 116}, \"47\": {\"47\": 132}, \"15\": {\"15\": 142}, \"54\": {\"54\": 108}, \"48\": {\"48\": 148}, \"23\": {\"23\": 142}, \"29\": {\"29\": 128}, \"38\": {\"38\": 20}, \"53\": {\"53\": 136}, \"27\": {\"27\": 150}, \"43\": {\"43\": 143, \"37\": 1}, \"35\": {\"35\": 32}, \"0\": {\"0\": 47, \"57\": 1}, \"52\": {\"52\": 124}, \"8\": {\"8\": 128}, \"24\": {\"24\": 96}, \"18\": {\"18\": 48}, \"25\": {\"25\": 148}, \"57\": {\"57\": 136}, \"55\": {\"55\": 134}, \"36\": {\"36\": 116}, \"17\": {\"17\": 104}, \"2\": {\"2\": 32}, \"34\": {\"34\": 28}, \"1\": {\"1\": 112}, \"51\": {\"51\": 136}, \"31\": {\"31\": 28}, \"49\": {\"49\": 24}, \"14\": {\"14\": 24}, \"33\": {\"33\": 28}, \"41\": {\"41\": 20}, \"28\": {\"28\": 28}, \"5\": {\"5\": 120}, \"16\": {\"16\": 150}, \"4\": {\"4\": 128}, \"22\": {\"22\": 136}, \"6\": {\"6\": 118}, \"30\": {\"30\": 124}, \"26\": {\"26\": 24}, \"56\": {\"56\": 142}, \"42\": {\"42\": 36}, \"44\": {\"44\": 100}, \"7\": {\"7\": 36}}, \"ORACLE.run1_26\": {\"0\": {\"4\": 19, \"7\": 20, \"2\": 12, \"1\": 28, \"9\": 8, \"14\": 20, \"3\": 18, \"0\": 19, \"6\": 11, \"10\": 21, \"8\": 15, \"12\": 9, \"13\": 11, \"15\": 16, \"5\": 11, \"11\": 2}, \"4\": {\"14\": 38, \"6\": 20, \"8\": 13, \"7\": 18, \"1\": 29, \"9\": 15, \"15\": 10, \"12\": 6, \"5\": 12, \"0\": 16, \"10\": 17, \"2\": 9, \"4\": 18, \"3\": 14, \"11\": 1, \"13\": 4}, \"14\": {\"12\": 10, \"15\": 8, \"11\": 2, \"3\": 14, \"9\": 11, \"8\": 19, \"6\": 25, \"10\": 17, \"7\": 24, \"0\": 10, \"1\": 28, \"13\": 12, \"4\": 20, \"14\": 21, \"5\": 4, \"2\": 15}, \"12\": {\"11\": 55, \"15\": 9, \"12\": 66, \"6\": 19, \"10\": 11, \"5\": 11, \"3\": 2, \"2\": 3, \"1\": 9, \"13\": 12, \"8\": 11, \"14\": 11, \"4\": 3, \"9\": 11, \"0\": 5, \"7\": 2}, \"8\": {\"15\": 17, \"12\": 14, \"7\": 14, \"13\": 15, \"0\": 18, \"4\": 19, \"8\": 9, \"5\": 15, \"2\": 17, \"10\": 16, \"1\": 18, \"14\": 18, \"11\": 8, \"3\": 22, \"6\": 12, \"9\": 8}, \"7\": {\"1\": 14, \"15\": 18, \"4\": 19, \"6\": 17, \"3\": 22, \"9\": 16, \"0\": 13, \"7\": 21, \"13\": 6, \"8\": 15, \"10\": 19, \"14\": 20, \"5\": 16, \"2\": 14, \"12\": 6, \"11\": 4}, \"13\": {\"5\": 23, \"1\": 6, \"3\": 14, \"7\": 11, \"13\": 40, \"0\": 14, \"8\": 12, \"11\": 20, \"15\": 15, \"2\": 14, \"9\": 21, \"4\": 7, \"10\": 14, \"12\": 14, \"6\": 10, \"14\": 5}, \"5\": {\"14\": 9, \"9\": 20, \"12\": 17, \"13\": 27, \"6\": 16, \"7\": 15, \"2\": 19, \"8\": 10, \"0\": 9, \"10\": 8, \"15\": 18, \"4\": 9, \"1\": 9, \"11\": 10, \"5\": 22, \"3\": 22}, \"15\": {\"5\": 22, \"11\": 9, \"12\": 11, \"9\": 13, \"8\": 20, \"7\": 15, \"6\": 14, \"1\": 13, \"3\": 22, \"2\": 18, \"10\": 13, \"14\": 11, \"13\": 21, \"4\": 8, \"15\": 19, \"0\": 11}, \"10\": {\"2\": 17, \"14\": 19, \"15\": 16, \"0\": 18, \"1\": 18, \"4\": 27, \"10\": 18, \"7\": 10, \"13\": 8, \"3\": 15, \"12\": 10, \"8\": 19, \"6\": 10, \"9\": 12, \"11\": 6, \"5\": 17}, \"3\": {\"4\": 10, \"13\": 16, \"0\": 8, \"6\": 16, \"2\": 31, \"7\": 24, \"3\": 30, \"14\": 15, \"12\": 1, \"15\": 15, \"10\": 16, \"5\": 13, \"8\": 11, \"9\": 15, \"1\": 19}, \"9\": {\"15\": 17, \"7\": 9, \"0\": 11, \"8\": 14, \"14\": 13, \"5\": 23, \"10\": 21, \"4\": 12, \"6\": 18, \"3\": 14, \"11\": 10, \"2\": 15, \"1\": 17, \"13\": 15, \"12\": 14, \"9\": 17}, \"6\": {\"7\": 13, \"0\": 10, \"8\": 14, \"12\": 25, \"15\": 18, \"13\": 8, \"3\": 7, \"6\": 20, \"4\": 21, \"1\": 15, \"10\": 21, \"9\": 20, \"2\": 11, \"14\": 13, \"5\": 14, \"11\": 10}, \"1\": {\"4\": 25, \"6\": 24, \"1\": 26, \"7\": 21, \"10\": 14, \"5\": 12, \"3\": 19, \"13\": 7, \"15\": 15, \"9\": 12, \"14\": 18, \"8\": 17, \"11\": 2, \"0\": 16, \"2\": 9, \"12\": 3}, \"11\": {\"11\": 105, \"6\": 14, \"12\": 51, \"2\": 3, \"5\": 11, \"14\": 4, \"13\": 18, \"10\": 4, \"15\": 7, \"8\": 6, \"4\": 4, \"9\": 4, \"0\": 3, \"3\": 1, \"1\": 4, \"7\": 1}, \"2\": {\"10\": 13, \"8\": 14, \"15\": 18, \"5\": 22, \"1\": 17, \"9\": 17, \"13\": 12, \"6\": 11, \"2\": 29, \"14\": 19, \"0\": 11, \"3\": 20, \"11\": 4, \"4\": 13, \"7\": 17, \"12\": 3}}, \"ORACLE.run1_44\": {\"1\": {\"12\": 56, \"2\": 30, \"3\": 26, \"10\": 31, \"9\": 11, \"7\": 23, \"13\": 4, \"1\": 50, \"6\": 5, \"11\": 3, \"15\": 1}, \"11\": {\"11\": 64, \"7\": 27, \"13\": 53, \"14\": 8, \"9\": 19, \"1\": 3, \"2\": 7, \"6\": 42, \"3\": 2, \"5\": 2, \"4\": 8, \"12\": 3, \"10\": 1, \"15\": 1}, \"3\": {\"3\": 52, \"10\": 36, \"1\": 41, \"2\": 23, \"12\": 40, \"13\": 5, \"6\": 4, \"15\": 1, \"9\": 13, \"14\": 3, \"7\": 16, \"5\": 1, \"4\": 2, \"11\": 2, \"0\": 1}, \"6\": {\"6\": 62, \"9\": 22, \"7\": 26, \"13\": 33, \"10\": 11, \"11\": 37, \"12\": 4, \"14\": 1, \"1\": 8, \"3\": 5, \"4\": 9, \"2\": 19, \"5\": 1, \"15\": 1, \"0\": 1}, \"7\": {\"3\": 14, \"7\": 35, \"2\": 29, \"15\": 3, \"13\": 33, \"1\": 15, \"11\": 20, \"14\": 4, \"10\": 28, \"9\": 25, \"6\": 18, \"12\": 11, \"4\": 5}, \"5\": {\"0\": 38, \"8\": 39, \"15\": 32, \"4\": 27, \"14\": 33, \"5\": 62, \"13\": 6, \"9\": 2, \"7\": 1}, \"2\": {\"2\": 50, \"7\": 27, \"1\": 25, \"11\": 10, \"3\": 17, \"9\": 15, \"6\": 18, \"12\": 28, \"10\": 36, \"13\": 10, \"4\": 4}, \"15\": {\"14\": 34, \"0\": 36, \"8\": 40, \"15\": 42, \"5\": 45, \"9\": 3, \"4\": 29, \"13\": 6, \"3\": 1, \"11\": 2, \"7\": 1, \"2\": 1}, \"10\": {\"12\": 38, \"1\": 45, \"10\": 57, \"2\": 40, \"6\": 6, \"3\": 24, \"7\": 18, \"9\": 8, \"13\": 3, \"11\": 1}, \"13\": {\"2\": 15, \"11\": 41, \"13\": 44, \"6\": 36, \"10\": 4, \"9\": 30, \"14\": 10, \"4\": 11, \"15\": 8, \"7\": 22, \"8\": 1, \"3\": 7, \"1\": 5, \"5\": 3, \"0\": 2, \"12\": 1}, \"8\": {\"5\": 27, \"8\": 79, \"4\": 11, \"0\": 54, \"14\": 17, \"15\": 49, \"1\": 1, \"13\": 1, \"6\": 1}, \"4\": {\"15\": 24, \"4\": 50, \"0\": 19, \"14\": 47, \"13\": 25, \"5\": 24, \"6\": 3, \"3\": 3, \"7\": 6, \"11\": 12, \"9\": 15, \"8\": 11, \"1\": 1}, \"9\": {\"9\": 31, \"2\": 34, \"6\": 26, \"3\": 14, \"13\": 32, \"7\": 30, \"10\": 12, \"1\": 9, \"11\": 16, \"14\": 8, \"12\": 10, \"15\": 2, \"4\": 14, \"5\": 2}, \"14\": {\"15\": 35, \"4\": 48, \"14\": 43, \"9\": 12, \"8\": 13, \"11\": 9, \"5\": 43, \"0\": 16, \"7\": 5, \"6\": 1, \"13\": 14, \"3\": 1}, \"0\": {\"0\": 64, \"8\": 58, \"5\": 30, \"15\": 46, \"14\": 25, \"7\": 1, \"4\": 16}, \"12\": {\"10\": 37, \"12\": 67, \"3\": 39, \"1\": 49, \"2\": 26, \"9\": 8, \"6\": 4, \"7\": 4, \"13\": 4, \"15\": 2}}, \"ORACLE.run1_50\": {\"15\": {\"4\": 34, \"11\": 36, \"15\": 52, \"14\": 7, \"1\": 23, \"6\": 17, \"9\": 20, \"5\": 17, \"13\": 14, \"12\": 7, \"0\": 3, \"8\": 2, \"7\": 6, \"10\": 1, \"2\": 1}, \"4\": {\"5\": 15, \"15\": 37, \"4\": 32, \"6\": 20, \"13\": 22, \"11\": 18, \"1\": 22, \"14\": 12, \"7\": 15, \"9\": 7, \"3\": 3, \"2\": 10, \"8\": 4, \"12\": 8, \"10\": 7, \"0\": 8}, \"6\": {\"6\": 27, \"13\": 23, \"4\": 26, \"10\": 7, \"7\": 18, \"15\": 35, \"0\": 10, \"1\": 27, \"11\": 9, \"5\": 26, \"14\": 14, \"12\": 3, \"2\": 9, \"3\": 3, \"8\": 2, \"9\": 1}, \"2\": {\"5\": 12, \"1\": 10, \"2\": 44, \"8\": 14, \"10\": 32, \"0\": 38, \"14\": 28, \"4\": 9, \"9\": 2, \"13\": 13, \"12\": 9, \"15\": 4, \"6\": 7, \"7\": 10, \"11\": 6, \"3\": 2}, \"5\": {\"10\": 19, \"4\": 25, \"7\": 31, \"3\": 9, \"5\": 26, \"11\": 9, \"6\": 26, \"1\": 20, \"9\": 2, \"8\": 12, \"13\": 21, \"2\": 8, \"0\": 8, \"14\": 5, \"15\": 16, \"12\": 3}, \"9\": {\"12\": 51, \"15\": 24, \"1\": 14, \"11\": 50, \"9\": 60, \"0\": 2, \"4\": 6, \"14\": 26, \"6\": 2, \"13\": 2, \"5\": 2, \"2\": 1}, \"8\": {\"8\": 62, \"3\": 57, \"7\": 20, \"2\": 18, \"10\": 39, \"0\": 23, \"5\": 8, \"13\": 10, \"6\": 2, \"4\": 1}, \"12\": {\"9\": 46, \"15\": 9, \"12\": 73, \"14\": 40, \"6\": 2, \"2\": 12, \"11\": 38, \"7\": 1, \"5\": 6, \"1\": 4, \"0\": 6, \"4\": 3}, \"10\": {\"13\": 23, \"8\": 44, \"1\": 6, \"5\": 16, \"10\": 31, \"0\": 29, \"2\": 16, \"3\": 22, \"7\": 21, \"6\": 21, \"15\": 2, \"4\": 6, \"14\": 1, \"11\": 2}, \"1\": {\"11\": 19, \"1\": 29, \"0\": 6, \"7\": 11, \"15\": 44, \"14\": 13, \"4\": 31, \"13\": 16, \"12\": 6, \"2\": 12, \"6\": 17, \"9\": 6, \"5\": 16, \"8\": 5, \"10\": 9}, \"0\": {\"14\": 12, \"6\": 12, \"10\": 27, \"0\": 43, \"15\": 7, \"5\": 12, \"8\": 24, \"3\": 14, \"7\": 15, \"2\": 37, \"13\": 19, \"12\": 2, \"4\": 5, \"1\": 8, \"9\": 1, \"11\": 2}, \"3\": {\"8\": 58, \"0\": 12, \"13\": 16, \"3\": 110, \"5\": 2, \"10\": 21, \"6\": 4, \"7\": 13, \"2\": 2, \"1\": 1, \"4\": 1}, \"13\": {\"4\": 23, \"8\": 13, \"7\": 45, \"13\": 36, \"11\": 3, \"10\": 10, \"6\": 24, \"1\": 12, \"5\": 32, \"0\": 11, \"3\": 7, \"9\": 1, \"15\": 9, \"2\": 9, \"14\": 4, \"12\": 1}, \"11\": {\"15\": 34, \"4\": 14, \"12\": 26, \"14\": 23, \"13\": 2, \"11\": 41, \"6\": 8, \"1\": 13, \"5\": 5, \"9\": 62, \"2\": 4, \"0\": 6, \"10\": 1, \"7\": 1}, \"7\": {\"6\": 38, \"0\": 13, \"8\": 18, \"13\": 29, \"7\": 44, \"10\": 17, \"5\": 18, \"4\": 17, \"15\": 10, \"2\": 8, \"1\": 13, \"3\": 8, \"14\": 3, \"11\": 2, \"9\": 1, \"12\": 1}, \"14\": {\"9\": 29, \"15\": 12, \"2\": 31, \"14\": 55, \"4\": 6, \"6\": 6, \"12\": 42, \"0\": 16, \"11\": 19, \"8\": 2, \"1\": 11, \"10\": 3, \"5\": 3, \"13\": 4, \"7\": 1}}, \"ORACLE.run1_38\": {\"15\": {\"13\": 31, \"1\": 29, \"10\": 21, \"12\": 5, \"11\": 10, \"2\": 30, \"15\": 25, \"9\": 9, \"5\": 15, \"3\": 2, \"8\": 22, \"0\": 13, \"6\": 9, \"14\": 9, \"7\": 9, \"4\": 1}, \"11\": {\"10\": 18, \"14\": 62, \"8\": 4, \"11\": 66, \"4\": 9, \"2\": 29, \"12\": 29, \"13\": 6, \"15\": 8, \"5\": 2, \"1\": 2, \"7\": 4, \"0\": 1}, \"10\": {\"10\": 29, \"1\": 16, \"12\": 17, \"0\": 17, \"15\": 21, \"7\": 19, \"14\": 17, \"6\": 2, \"11\": 21, \"13\": 19, \"4\": 16, \"9\": 6, \"5\": 11, \"8\": 19, \"2\": 10}, \"14\": {\"11\": 59, \"14\": 60, \"15\": 15, \"2\": 42, \"12\": 20, \"4\": 11, \"13\": 9, \"5\": 4, \"1\": 3, \"10\": 12, \"8\": 3, \"7\": 1, \"0\": 1}, \"6\": {\"13\": 8, \"6\": 35, \"9\": 55, \"0\": 16, \"5\": 26, \"3\": 34, \"8\": 12, \"7\": 20, \"1\": 18, \"4\": 1, \"15\": 10, \"10\": 2, \"2\": 1, \"12\": 1, \"14\": 1}, \"4\": {\"4\": 94, \"11\": 18, \"7\": 13, \"8\": 12, \"15\": 2, \"14\": 8, \"12\": 71, \"10\": 13, \"13\": 1, \"0\": 7, \"9\": 1}, \"13\": {\"2\": 36, \"14\": 15, \"1\": 34, \"15\": 24, \"11\": 10, \"7\": 5, \"13\": 40, \"3\": 1, \"10\": 18, \"8\": 18, \"5\": 9, \"6\": 8, \"0\": 12, \"12\": 4, \"4\": 2, \"9\": 4}, \"3\": {\"6\": 43, \"9\": 38, \"3\": 68, \"5\": 17, \"1\": 8, \"7\": 28, \"0\": 20, \"8\": 14, \"10\": 2, \"15\": 2}, \"7\": {\"7\": 52, \"0\": 18, \"5\": 23, \"3\": 24, \"10\": 19, \"12\": 5, \"1\": 12, \"15\": 11, \"8\": 25, \"6\": 14, \"13\": 5, \"2\": 3, \"4\": 13, \"9\": 12, \"11\": 4}, \"8\": {\"7\": 35, \"5\": 30, \"8\": 28, \"1\": 18, \"10\": 23, \"13\": 14, \"0\": 20, \"14\": 1, \"9\": 12, \"6\": 9, \"12\": 11, \"3\": 6, \"15\": 12, \"4\": 7, \"2\": 8, \"11\": 6}, \"1\": {\"1\": 51, \"15\": 29, \"2\": 12, \"11\": 5, \"13\": 35, \"8\": 18, \"5\": 23, \"9\": 21, \"6\": 10, \"10\": 11, \"12\": 1, \"3\": 4, \"0\": 14, \"14\": 3, \"7\": 3}, \"5\": {\"1\": 20, \"10\": 15, \"5\": 27, \"7\": 24, \"3\": 21, \"0\": 29, \"6\": 17, \"13\": 17, \"15\": 9, \"9\": 18, \"8\": 21, \"4\": 4, \"2\": 9, \"11\": 2, \"14\": 4, \"12\": 3}, \"0\": {\"12\": 9, \"1\": 12, \"7\": 25, \"9\": 15, \"3\": 26, \"5\": 32, \"11\": 5, \"8\": 18, \"4\": 6, \"6\": 17, \"0\": 38, \"2\": 5, \"15\": 7, \"10\": 12, \"13\": 12, \"14\": 1}, \"2\": {\"13\": 45, \"8\": 8, \"2\": 58, \"14\": 45, \"1\": 16, \"10\": 12, \"11\": 26, \"15\": 19, \"6\": 1, \"0\": 2, \"9\": 2, \"7\": 2, \"5\": 2, \"12\": 2}, \"12\": {\"12\": 88, \"4\": 64, \"8\": 13, \"11\": 15, \"7\": 11, \"10\": 13, \"0\": 9, \"14\": 17, \"13\": 2, \"15\": 3, \"2\": 3, \"5\": 2}, \"9\": {\"6\": 56, \"7\": 16, \"0\": 11, \"3\": 44, \"9\": 51, \"1\": 17, \"5\": 17, \"13\": 8, \"8\": 10, \"15\": 6, \"12\": 2, \"10\": 2}}, \"ORACLE.run1_20\": {\"10\": {\"6\": 24, \"15\": 9, \"14\": 32, \"4\": 21, \"13\": 7, \"7\": 14, \"3\": 15, \"0\": 9, \"10\": 30, \"8\": 19, \"9\": 11, \"12\": 12, \"1\": 13, \"5\": 7, \"2\": 11, \"11\": 6}, \"7\": {\"8\": 16, \"15\": 13, \"5\": 8, \"3\": 15, \"1\": 13, \"14\": 15, \"4\": 13, \"9\": 15, \"10\": 19, \"11\": 15, \"0\": 18, \"7\": 20, \"6\": 17, \"12\": 22, \"13\": 13, \"2\": 8}, \"4\": {\"7\": 15, \"1\": 16, \"14\": 20, \"3\": 13, \"9\": 14, \"13\": 10, \"8\": 13, \"4\": 20, \"2\": 16, \"5\": 18, \"10\": 20, \"0\": 11, \"12\": 20, \"11\": 14, \"6\": 13, \"15\": 7}, \"13\": {\"15\": 16, \"8\": 15, \"3\": 16, \"1\": 16, \"7\": 15, \"6\": 10, \"0\": 16, \"10\": 10, \"12\": 17, \"5\": 17, \"13\": 23, \"9\": 21, \"2\": 14, \"11\": 17, \"4\": 12, \"14\": 5}, \"1\": {\"5\": 13, \"7\": 17, \"12\": 21, \"1\": 22, \"9\": 21, \"0\": 19, \"14\": 9, \"2\": 14, \"10\": 12, \"8\": 11, \"13\": 18, \"4\": 16, \"3\": 17, \"11\": 9, \"15\": 18, \"6\": 3}, \"0\": {\"2\": 10, \"0\": 25, \"3\": 17, \"10\": 9, \"1\": 16, \"5\": 23, \"15\": 23, \"13\": 15, \"8\": 19, \"7\": 12, \"12\": 19, \"14\": 9, \"11\": 5, \"9\": 15, \"4\": 14, \"6\": 9}, \"12\": {\"7\": 20, \"0\": 20, \"5\": 14, \"12\": 15, \"13\": 13, \"15\": 24, \"2\": 10, \"4\": 14, \"1\": 17, \"3\": 21, \"10\": 17, \"9\": 14, \"14\": 16, \"11\": 10, \"8\": 10, \"6\": 5}, \"5\": {\"5\": 16, \"12\": 18, \"3\": 21, \"6\": 18, \"15\": 13, \"8\": 11, \"9\": 16, \"0\": 26, \"14\": 13, \"1\": 21, \"4\": 11, \"13\": 16, \"10\": 9, \"2\": 7, \"7\": 15, \"11\": 9}, \"6\": {\"10\": 19, \"6\": 26, \"8\": 16, \"5\": 11, \"2\": 14, \"4\": 20, \"14\": 27, \"7\": 20, \"1\": 7, \"3\": 11, \"0\": 15, \"12\": 12, \"13\": 6, \"11\": 16, \"9\": 12, \"15\": 8}, \"2\": {\"2\": 17, \"9\": 19, \"5\": 17, \"12\": 10, \"7\": 9, \"8\": 17, \"1\": 14, \"3\": 16, \"11\": 19, \"6\": 11, \"15\": 22, \"10\": 14, \"13\": 16, \"14\": 17, \"4\": 14, \"0\": 8}, \"8\": {\"2\": 11, \"3\": 9, \"8\": 31, \"5\": 15, \"7\": 17, \"10\": 16, \"11\": 16, \"0\": 10, \"4\": 16, \"6\": 21, \"15\": 7, \"14\": 24, \"9\": 14, \"12\": 14, \"13\": 9, \"1\": 10}, \"11\": {\"7\": 20, \"11\": 55, \"2\": 9, \"6\": 24, \"14\": 16, \"3\": 10, \"10\": 12, \"13\": 17, \"0\": 7, \"15\": 12, \"1\": 7, \"5\": 14, \"9\": 17, \"8\": 7, \"12\": 5, \"4\": 8}, \"9\": {\"13\": 27, \"11\": 14, \"7\": 15, \"5\": 11, \"3\": 15, \"2\": 14, \"14\": 3, \"1\": 11, \"0\": 21, \"10\": 14, \"15\": 24, \"9\": 18, \"12\": 18, \"4\": 9, \"8\": 18, \"6\": 8}, \"14\": {\"0\": 7, \"8\": 26, \"10\": 30, \"6\": 28, \"12\": 9, \"15\": 6, \"14\": 30, \"1\": 8, \"2\": 12, \"3\": 10, \"7\": 17, \"4\": 16, \"11\": 10, \"13\": 9, \"9\": 10, \"5\": 12}, \"15\": {\"1\": 37, \"3\": 18, \"12\": 17, \"11\": 4, \"4\": 13, \"0\": 22, \"8\": 12, \"5\": 17, \"13\": 18, \"9\": 12, \"15\": 26, \"2\": 18, \"14\": 4, \"6\": 4, \"10\": 5, \"7\": 13}, \"3\": {\"7\": 17, \"6\": 19, \"13\": 13, \"4\": 13, \"5\": 11, \"8\": 13, \"14\": 15, \"10\": 20, \"12\": 13, \"3\": 11, \"1\": 13, \"15\": 20, \"11\": 9, \"9\": 18, \"0\": 23, \"2\": 12}}, \"ORACLE.run1_14\": {\"14\": {\"13\": 17, \"1\": 5, \"14\": 33, \"6\": 26, \"15\": 6, \"0\": 20, \"5\": 15, \"11\": 9, \"3\": 21, \"7\": 12, \"2\": 25, \"4\": 15, \"10\": 18, \"9\": 8, \"8\": 9, \"12\": 1}, \"0\": {\"9\": 24, \"10\": 23, \"1\": 12, \"5\": 14, \"0\": 33, \"3\": 17, \"6\": 15, \"11\": 25, \"14\": 17, \"4\": 12, \"12\": 20, \"2\": 11, \"8\": 9, \"13\": 7, \"7\": 1}, \"4\": {\"5\": 28, \"4\": 18, \"6\": 23, \"3\": 16, \"8\": 16, \"13\": 18, \"10\": 16, \"1\": 23, \"2\": 16, \"14\": 18, \"0\": 11, \"9\": 7, \"7\": 14, \"15\": 13, \"11\": 3}, \"11\": {\"11\": 61, \"0\": 41, \"12\": 22, \"1\": 7, \"6\": 8, \"9\": 24, \"14\": 9, \"10\": 29, \"5\": 5, \"3\": 14, \"8\": 6, \"2\": 6, \"4\": 2, \"13\": 5, \"7\": 1}, \"13\": {\"2\": 33, \"3\": 15, \"14\": 27, \"7\": 11, \"13\": 35, \"6\": 28, \"0\": 11, \"10\": 16, \"15\": 14, \"5\": 10, \"1\": 15, \"4\": 10, \"9\": 4, \"11\": 8, \"8\": 3}, \"9\": {\"12\": 52, \"9\": 42, \"8\": 32, \"3\": 5, \"11\": 35, \"10\": 23, \"0\": 34, \"4\": 7, \"2\": 2, \"13\": 1, \"1\": 4, \"5\": 2, \"14\": 1}, \"3\": {\"13\": 21, \"7\": 12, \"1\": 15, \"5\": 19, \"6\": 19, \"15\": 8, \"10\": 19, \"11\": 14, \"3\": 20, \"2\": 19, \"8\": 12, \"14\": 25, \"0\": 20, \"4\": 11, \"9\": 6}, \"6\": {\"4\": 23, \"1\": 17, \"2\": 26, \"6\": 28, \"5\": 14, \"14\": 28, \"13\": 36, \"11\": 4, \"3\": 16, \"10\": 8, \"7\": 13, \"8\": 3, \"15\": 9, \"9\": 4, \"0\": 11}, \"1\": {\"7\": 21, \"5\": 38, \"2\": 18, \"4\": 18, \"6\": 15, \"15\": 17, \"8\": 22, \"12\": 1, \"13\": 17, \"14\": 15, \"10\": 7, \"1\": 25, \"9\": 5, \"0\": 8, \"11\": 2, \"3\": 11}, \"5\": {\"2\": 24, \"15\": 24, \"14\": 16, \"3\": 18, \"13\": 12, \"1\": 32, \"4\": 18, \"7\": 27, \"6\": 11, \"8\": 11, \"10\": 12, \"5\": 20, \"0\": 12, \"9\": 2, \"11\": 1}, \"12\": {\"11\": 27, \"9\": 65, \"12\": 102, \"10\": 16, \"8\": 11, \"0\": 15, \"13\": 3, \"4\": 1}, \"10\": {\"0\": 29, \"9\": 24, \"1\": 10, \"3\": 16, \"13\": 13, \"11\": 30, \"6\": 13, \"10\": 26, \"8\": 12, \"4\": 3, \"14\": 22, \"5\": 8, \"12\": 15, \"2\": 15, \"7\": 3, \"15\": 1}, \"8\": {\"2\": 13, \"10\": 8, \"8\": 67, \"7\": 10, \"1\": 17, \"9\": 35, \"12\": 9, \"5\": 17, \"3\": 8, \"0\": 11, \"11\": 11, \"4\": 16, \"15\": 5, \"14\": 4, \"6\": 5, \"13\": 4}, \"7\": {\"4\": 18, \"7\": 50, \"5\": 32, \"3\": 5, \"2\": 16, \"6\": 10, \"15\": 48, \"14\": 6, \"1\": 29, \"8\": 7, \"13\": 14, \"9\": 1, \"10\": 4}, \"15\": {\"4\": 14, \"14\": 6, \"15\": 65, \"6\": 7, \"7\": 58, \"13\": 18, \"5\": 22, \"1\": 26, \"3\": 4, \"2\": 15, \"0\": 1, \"8\": 1, \"10\": 2, \"11\": 1}, \"2\": {\"13\": 23, \"1\": 15, \"6\": 38, \"4\": 18, \"14\": 31, \"5\": 18, \"2\": 23, \"15\": 9, \"3\": 12, \"0\": 10, \"7\": 15, \"11\": 9, \"10\": 12, \"8\": 4, \"9\": 2, \"12\": 1}}, \"ORACLE.run1_32\": {\"11\": {\"14\": 47, \"4\": 11, \"7\": 35, \"2\": 12, \"11\": 55, \"0\": 13, \"13\": 17, \"5\": 20, \"8\": 8, \"3\": 17, \"15\": 5}, \"1\": {\"10\": 76, \"1\": 128, \"6\": 27, \"12\": 9}, \"2\": {\"0\": 29, \"8\": 11, \"2\": 43, \"14\": 13, \"13\": 14, \"4\": 29, \"7\": 25, \"3\": 5, \"5\": 28, \"11\": 15, \"9\": 20, \"15\": 8}, \"0\": {\"3\": 12, \"6\": 1, \"14\": 18, \"9\": 12, \"13\": 26, \"2\": 31, \"5\": 12, \"0\": 19, \"8\": 26, \"15\": 9, \"4\": 28, \"7\": 30, \"12\": 2, \"11\": 14}, \"3\": {\"13\": 21, \"2\": 3, \"4\": 8, \"3\": 68, \"11\": 12, \"14\": 20, \"7\": 14, \"5\": 23, \"8\": 33, \"15\": 29, \"0\": 9}, \"8\": {\"4\": 16, \"8\": 40, \"11\": 15, \"13\": 33, \"0\": 18, \"5\": 24, \"2\": 11, \"3\": 33, \"15\": 19, \"7\": 19, \"9\": 4, \"14\": 7, \"12\": 1}, \"12\": {\"9\": 53, \"6\": 40, \"10\": 21, \"0\": 1, \"12\": 110, \"1\": 11, \"2\": 3, \"5\": 1}, \"5\": {\"13\": 22, \"3\": 29, \"2\": 17, \"0\": 22, \"8\": 30, \"7\": 19, \"15\": 12, \"14\": 19, \"5\": 28, \"11\": 17, \"4\": 22, \"9\": 3}, \"15\": {\"15\": 114, \"3\": 26, \"8\": 27, \"5\": 13, \"13\": 23, \"11\": 1, \"7\": 8, \"0\": 9, \"2\": 5, \"4\": 11, \"14\": 3}, \"7\": {\"5\": 22, \"13\": 17, \"8\": 20, \"3\": 13, \"7\": 19, \"0\": 25, \"14\": 22, \"11\": 35, \"4\": 30, \"9\": 3, \"2\": 28, \"15\": 6}, \"4\": {\"4\": 31, \"2\": 37, \"9\": 13, \"7\": 21, \"0\": 33, \"3\": 9, \"8\": 18, \"11\": 12, \"15\": 6, \"13\": 22, \"14\": 20, \"5\": 18}, \"14\": {\"0\": 23, \"11\": 45, \"14\": 36, \"7\": 27, \"3\": 18, \"8\": 13, \"5\": 26, \"4\": 17, \"13\": 11, \"2\": 19, \"15\": 3, \"9\": 2}, \"10\": {\"10\": 97, \"12\": 43, \"6\": 34, \"9\": 3, \"1\": 63}, \"6\": {\"1\": 35, \"6\": 113, \"12\": 39, \"9\": 15, \"10\": 38}, \"13\": {\"11\": 17, \"7\": 24, \"14\": 10, \"15\": 23, \"8\": 26, \"13\": 36, \"3\": 28, \"2\": 10, \"5\": 27, \"4\": 20, \"0\": 16, \"9\": 2, \"12\": 1}, \"9\": {\"2\": 24, \"13\": 4, \"9\": 99, \"12\": 43, \"6\": 20, \"14\": 3, \"4\": 11, \"0\": 19, \"10\": 3, \"7\": 6, \"5\": 5, \"8\": 2, \"3\": 1}}, \"ORACLE.run1_8\": {\"9\": {\"9\": 150, \"5\": 17, \"13\": 10, \"1\": 5, \"0\": 11, \"14\": 13, \"4\": 9, \"11\": 4, \"8\": 2, \"7\": 3, \"10\": 10, \"6\": 4, \"2\": 1, \"15\": 1}, \"11\": {\"10\": 18, \"9\": 11, \"0\": 10, \"4\": 21, \"7\": 11, \"8\": 22, \"11\": 33, \"15\": 10, \"14\": 15, \"6\": 15, \"12\": 7, \"13\": 11, \"1\": 31, \"2\": 5, \"5\": 17, \"3\": 3}, \"8\": {\"5\": 16, \"14\": 16, \"2\": 19, \"6\": 16, \"12\": 23, \"7\": 11, \"10\": 14, \"3\": 15, \"15\": 26, \"4\": 17, \"13\": 11, \"8\": 20, \"11\": 16, \"0\": 6, \"1\": 12, \"9\": 2}, \"4\": {\"10\": 17, \"8\": 16, \"4\": 15, \"9\": 9, \"5\": 23, \"0\": 19, \"2\": 18, \"14\": 19, \"11\": 16, \"6\": 19, \"7\": 16, \"3\": 10, \"13\": 20, \"15\": 6, \"1\": 8, \"12\": 9}, \"13\": {\"9\": 11, \"15\": 13, \"14\": 19, \"6\": 17, \"0\": 33, \"7\": 14, \"8\": 16, \"12\": 12, \"1\": 14, \"3\": 4, \"10\": 21, \"4\": 8, \"13\": 26, \"5\": 14, \"2\": 7, \"11\": 11}, \"14\": {\"3\": 7, \"11\": 18, \"14\": 20, \"10\": 21, \"0\": 15, \"15\": 8, \"13\": 22, \"1\": 24, \"9\": 11, \"6\": 13, \"2\": 11, \"12\": 9, \"5\": 22, \"7\": 8, \"4\": 21, \"8\": 10}, \"2\": {\"12\": 30, \"3\": 33, \"2\": 40, \"5\": 3, \"14\": 10, \"1\": 1, \"15\": 33, \"0\": 15, \"8\": 11, \"10\": 6, \"7\": 25, \"6\": 9, \"13\": 7, \"9\": 1, \"4\": 11, \"11\": 5}, \"3\": {\"3\": 42, \"2\": 40, \"15\": 22, \"7\": 17, \"0\": 13, \"4\": 8, \"1\": 4, \"13\": 13, \"8\": 20, \"12\": 33, \"10\": 5, \"11\": 4, \"14\": 5, \"5\": 7, \"6\": 7}, \"1\": {\"6\": 9, \"0\": 15, \"4\": 16, \"1\": 32, \"15\": 11, \"8\": 17, \"7\": 6, \"3\": 6, \"5\": 22, \"14\": 21, \"13\": 21, \"11\": 28, \"10\": 15, \"9\": 12, \"12\": 7, \"2\": 2}, \"0\": {\"10\": 23, \"14\": 22, \"8\": 14, \"5\": 11, \"0\": 22, \"2\": 17, \"12\": 12, \"9\": 12, \"13\": 13, \"7\": 16, \"1\": 16, \"3\": 14, \"6\": 13, \"4\": 19, \"11\": 10, \"15\": 6}, \"5\": {\"9\": 32, \"11\": 27, \"13\": 13, \"10\": 16, \"1\": 26, \"12\": 5, \"8\": 11, \"7\": 9, \"4\": 20, \"6\": 11, \"5\": 28, \"14\": 18, \"0\": 15, \"15\": 7, \"3\": 1, \"2\": 1}, \"15\": {\"3\": 29, \"2\": 24, \"12\": 27, \"4\": 12, \"8\": 21, \"7\": 12, \"15\": 29, \"0\": 19, \"6\": 12, \"1\": 10, \"14\": 6, \"10\": 12, \"13\": 8, \"11\": 14, \"9\": 2, \"5\": 3}, \"10\": {\"10\": 29, \"12\": 8, \"5\": 18, \"4\": 12, \"7\": 12, \"2\": 8, \"0\": 21, \"13\": 29, \"14\": 29, \"3\": 5, \"1\": 15, \"8\": 10, \"6\": 12, \"11\": 7, \"15\": 7, \"9\": 18}, \"12\": {\"3\": 38, \"7\": 10, \"4\": 10, \"1\": 9, \"0\": 6, \"8\": 33, \"15\": 34, \"2\": 21, \"11\": 10, \"10\": 9, \"13\": 4, \"12\": 31, \"14\": 11, \"6\": 12, \"5\": 2}, \"6\": {\"5\": 10, \"6\": 16, \"8\": 21, \"0\": 15, \"7\": 23, \"11\": 15, \"12\": 17, \"10\": 15, \"2\": 14, \"15\": 16, \"1\": 17, \"13\": 27, \"4\": 12, \"9\": 5, \"14\": 16, \"3\": 1}, \"7\": {\"10\": 14, \"15\": 17, \"8\": 12, \"2\": 21, \"11\": 14, \"13\": 28, \"1\": 9, \"0\": 19, \"14\": 16, \"5\": 13, \"7\": 19, \"3\": 16, \"12\": 7, \"9\": 6, \"6\": 15, \"4\": 14}}}, \"per_domain_accuracy\": {\"CORES_5\": {\"accuracy\": 0.9984287709497207, \"source?\": true}, \"CORES_1\": {\"accuracy\": 0.9991508152173914, \"source?\": true}, \"CORES_3\": {\"accuracy\": 0.9987132352941176, \"source?\": true}, \"CORES_4\": {\"accuracy\": 0.9983057228915663, \"source?\": true}, \"CORES_2\": {\"accuracy\": 0.9996448863636364, \"source?\": true}, \"ORACLE.run1_26\": {\"accuracy\": 0.125, \"source?\": false}, \"ORACLE.run1_44\": {\"accuracy\": 0.221875, \"source?\": false}, \"ORACLE.run1_50\": {\"accuracy\": 0.19921875, \"source?\": false}, \"ORACLE.run1_38\": {\"accuracy\": 0.2109375, \"source?\": false}, \"ORACLE.run1_20\": {\"accuracy\": 0.10026041666666667, \"source?\": false}, \"ORACLE.run1_14\": {\"accuracy\": 0.16875, \"source?\": false}, \"ORACLE.run1_32\": {\"accuracy\": 0.26979166666666665, \"source?\": false}, \"ORACLE.run1_8\": {\"accuracy\": 0.14375, \"source?\": false}}}, \"history\": {\"epoch_indices\": [1, 2, 3, 4, 5, 6, 7, 8], \"train_label_loss\": [0.024766858419568865, 0.0063082994033803845, 0.005273283309540617, 0.0036354897613011567, 0.003495575537972407, 0.0036362576239992853, 0.0028350606538877546, 0.0026670312862296214], \"source_val_label_loss\": [0.007475129794329405, 0.008860417641699314, 0.010009093210101128, 0.00968735571950674, 0.009668055921792984, 0.006336130201816559, 0.008612452074885368, 0.010270399041473866], \"target_val_label_loss\": [2.6715667247772217, 3.3169591426849365, 3.473799228668213, 3.7550580501556396, 3.6475727558135986, 3.6641414165496826, 3.7075915336608887, 4.379490852355957], \"source_val_acc_label\": [0.9986428571428572, 0.9990714285714286, 0.9991071428571429, 0.9988571428571429, 0.99925, 0.9993928571428572, 0.9994285714285714, 0.9994285714285714], \"target_val_acc_label\": [0.14895833333333333, 0.15579427083333333, 0.14830729166666667, 0.17994791666666668, 0.17522786458333334, 0.17509765625, 0.15533854166666666, 0.15263671875]}, \"dataset_metrics\": {\"source\": {\"train\": {\"n_unique_x\": 175161, \"n_unique_y\": 58, \"n_batch/episode\": 6305}, \"val\": {\"n_unique_x\": 37151, \"n_unique_y\": 58, \"n_batch/episode\": 875}, \"test\": {\"n_unique_x\": 37548, \"n_unique_y\": 58, \"n_batch/episode\": 885}}, \"target\": {\"train\": {\"n_unique_x\": 179200, \"n_unique_y\": 16, \"n_batch/episode\": 6720}, \"val\": {\"n_unique_x\": 38400, \"n_unique_y\": 16, \"n_batch/episode\": 960}, \"test\": {\"n_unique_x\": 38400, \"n_unique_y\": 16, \"n_batch/episode\": 960}}}}'"
      ]
     },
     "execution_count": 29,
     "metadata": {},
     "output_type": "execute_result"
    }
   ],
   "source": [
    "json.dumps(experiment)"
   ]
  }
 ],
 "metadata": {
  "celltoolbar": "Tags",
  "kernelspec": {
   "display_name": "Python 3 (ipykernel)",
   "language": "python",
   "name": "python3"
  },
  "language_info": {
   "codemirror_mode": {
    "name": "ipython",
    "version": 3
   },
   "file_extension": ".py",
   "mimetype": "text/x-python",
   "name": "python",
   "nbconvert_exporter": "python",
   "pygments_lexer": "ipython3",
   "version": "3.8.12"
  },
  "papermill": {
   "default_parameters": {},
   "duration": 1448.51005,
   "end_time": "2022-03-22T14:35:56.321112",
   "environment_variables": {},
   "exception": null,
   "input_path": "/root/csc500-main/csc500-notebooks/templates/tl_ptn_template.ipynb",
   "output_path": "trial.ipynb",
   "parameters": {
    "parameters": {
     "BEST_MODEL_PATH": "./best_model.pth",
     "NUM_LOGS_PER_EPOCH": 10,
     "criteria_for_best": "target_accuracy",
     "dataset_seed": 7,
     "datasets": [
      {
       "domain_prefix": "CORES_",
       "domains": [
        1,
        2,
        3,
        4,
        5
       ],
       "episode_transforms": [],
       "labels": [
        "1-10.",
        "1-11.",
        "1-15.",
        "1-16.",
        "1-17.",
        "1-18.",
        "1-19.",
        "10-4.",
        "10-7.",
        "11-1.",
        "11-14.",
        "11-17.",
        "11-20.",
        "11-7.",
        "13-20.",
        "13-8.",
        "14-10.",
        "14-11.",
        "14-14.",
        "14-7.",
        "15-1.",
        "15-20.",
        "16-1.",
        "16-16.",
        "17-10.",
        "17-11.",
        "17-2.",
        "19-1.",
        "19-16.",
        "19-19.",
        "19-20.",
        "19-3.",
        "2-10.",
        "2-11.",
        "2-17.",
        "2-18.",
        "2-20.",
        "2-3.",
        "2-4.",
        "2-5.",
        "2-6.",
        "2-7.",
        "2-8.",
        "3-13.",
        "3-18.",
        "3-3.",
        "4-1.",
        "4-10.",
        "4-11.",
        "4-19.",
        "5-5.",
        "6-15.",
        "7-10.",
        "7-14.",
        "8-18.",
        "8-20.",
        "8-3.",
        "8-8."
       ],
       "num_examples_per_domain_per_label": -1,
       "pickle_path": "/root/csc500-main/datasets/cores.stratified_ds.2022A.pkl",
       "source_or_target_dataset": "source",
       "x_transforms": [
        "unit_mag"
       ]
      },
      {
       "domain_prefix": "ORACLE.run1_",
       "domains": [
        32,
        38,
        8,
        44,
        14,
        50,
        20,
        26
       ],
       "episode_transforms": [],
       "labels": [
        "3123D52",
        "3123D65",
        "3123D79",
        "3123D80",
        "3123D54",
        "3123D70",
        "3123D7B",
        "3123D89",
        "3123D58",
        "3123D76",
        "3123D7D",
        "3123EFE",
        "3123D64",
        "3123D78",
        "3123D7E",
        "3124E4A"
       ],
       "num_examples_per_domain_per_label": 2000,
       "pickle_path": "/root/csc500-main/datasets/oracle.Run1_10kExamples_stratified_ds.2022A.pkl",
       "source_or_target_dataset": "target",
       "x_transforms": [
        "unit_mag"
       ]
      }
     ],
     "device": "cuda",
     "experiment_name": "tl_1v2:cores-oracle.run1.limited",
     "lr": 0.0001,
     "n_epoch": 50,
     "n_query": 2,
     "n_shot": 3,
     "n_way": 16,
     "patience": 3,
     "seed": 7,
     "test_k_factor": 2,
     "torch_default_dtype": "torch.float32",
     "train_k_factor": 3,
     "val_k_factor": 2,
     "x_net": [
      {
       "class": "nnReshape",
       "kargs": {
        "shape": [
         -1,
         1,
         2,
         256
        ]
       }
      },
      {
       "class": "Conv2d",
       "kargs": {
        "bias": false,
        "in_channels": 1,
        "kernel_size": [
         1,
         7
        ],
        "out_channels": 256,
        "padding": [
         0,
         3
        ]
       }
      },
      {
       "class": "ReLU",
       "kargs": {
        "inplace": true
       }
      },
      {
       "class": "BatchNorm2d",
       "kargs": {
        "num_features": 256
       }
      },
      {
       "class": "Conv2d",
       "kargs": {
        "bias": true,
        "in_channels": 256,
        "kernel_size": [
         2,
         7
        ],
        "out_channels": 80,
        "padding": [
         0,
         3
        ]
       }
      },
      {
       "class": "ReLU",
       "kargs": {
        "inplace": true
       }
      },
      {
       "class": "BatchNorm2d",
       "kargs": {
        "num_features": 80
       }
      },
      {
       "class": "Flatten",
       "kargs": {}
      },
      {
       "class": "Linear",
       "kargs": {
        "in_features": 20480,
        "out_features": 256
       }
      },
      {
       "class": "ReLU",
       "kargs": {
        "inplace": true
       }
      },
      {
       "class": "BatchNorm1d",
       "kargs": {
        "num_features": 256
       }
      },
      {
       "class": "Linear",
       "kargs": {
        "in_features": 256,
        "out_features": 256
       }
      }
     ]
    }
   },
   "start_time": "2022-03-22T14:11:47.811062",
   "version": "2.3.4"
  }
 },
 "nbformat": 4,
 "nbformat_minor": 5
}