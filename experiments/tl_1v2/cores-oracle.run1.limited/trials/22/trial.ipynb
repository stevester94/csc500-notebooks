{
 "cells": [
  {
   "cell_type": "markdown",
   "id": "9fea5f46",
   "metadata": {
    "papermill": {
     "duration": 0.027833,
     "end_time": "2022-03-22T15:30:36.387611",
     "exception": false,
     "start_time": "2022-03-22T15:30:36.359778",
     "status": "completed"
    },
    "tags": []
   },
   "source": [
    "# Transfer Learning Template"
   ]
  },
  {
   "cell_type": "code",
   "execution_count": 1,
   "id": "0902182a",
   "metadata": {
    "execution": {
     "iopub.execute_input": "2022-03-22T15:30:36.455361Z",
     "iopub.status.busy": "2022-03-22T15:30:36.454479Z",
     "iopub.status.idle": "2022-03-22T15:30:38.321065Z",
     "shell.execute_reply": "2022-03-22T15:30:38.320216Z"
    },
    "papermill": {
     "duration": 1.907049,
     "end_time": "2022-03-22T15:30:38.321262",
     "exception": false,
     "start_time": "2022-03-22T15:30:36.414213",
     "status": "completed"
    },
    "tags": []
   },
   "outputs": [],
   "source": [
    "%load_ext autoreload\n",
    "%autoreload 2\n",
    "%matplotlib inline\n",
    "\n",
    "    \n",
    "import os, json, sys, time, random\n",
    "import numpy as np\n",
    "import torch\n",
    "from torch.optim import Adam\n",
    "from  easydict import EasyDict\n",
    "import matplotlib.pyplot as plt\n",
    "\n",
    "from steves_models.steves_ptn import Steves_Prototypical_Network\n",
    "\n",
    "from steves_utils.lazy_iterable_wrapper import Lazy_Iterable_Wrapper\n",
    "from steves_utils.iterable_aggregator import Iterable_Aggregator\n",
    "from steves_utils.ptn_train_eval_test_jig import  PTN_Train_Eval_Test_Jig\n",
    "from steves_utils.torch_sequential_builder import build_sequential\n",
    "from steves_utils.torch_utils import get_dataset_metrics, ptn_confusion_by_domain_over_dataloader\n",
    "from steves_utils.utils_v2 import (per_domain_accuracy_from_confusion, get_datasets_base_path)\n",
    "from steves_utils.PTN.utils import independent_accuracy_assesment\n",
    "\n",
    "from torch.utils.data import DataLoader\n",
    "\n",
    "from steves_utils.stratified_dataset.episodic_accessor import Episodic_Accessor_Factory\n",
    "\n",
    "from steves_utils.ptn_do_report import (\n",
    "    get_loss_curve,\n",
    "    get_results_table,\n",
    "    get_parameters_table,\n",
    "    get_domain_accuracies,\n",
    ")\n",
    "\n",
    "from steves_utils.transforms import get_chained_transform"
   ]
  },
  {
   "cell_type": "markdown",
   "id": "41c840b4",
   "metadata": {
    "papermill": {
     "duration": 0.019128,
     "end_time": "2022-03-22T15:30:38.364176",
     "exception": false,
     "start_time": "2022-03-22T15:30:38.345048",
     "status": "completed"
    },
    "tags": []
   },
   "source": [
    "# Allowed Parameters\n",
    "These are allowed parameters, not defaults\n",
    "Each of these values need to be present in the injected parameters (the notebook will raise an exception if they are not present)\n",
    "\n",
    "Papermill uses the cell tag \"parameters\" to inject the real parameters below this cell.\n",
    "Enable tags to see what I mean"
   ]
  },
  {
   "cell_type": "code",
   "execution_count": 2,
   "id": "fd44eb83",
   "metadata": {
    "execution": {
     "iopub.execute_input": "2022-03-22T15:30:38.407797Z",
     "iopub.status.busy": "2022-03-22T15:30:38.407405Z",
     "iopub.status.idle": "2022-03-22T15:30:38.431762Z",
     "shell.execute_reply": "2022-03-22T15:30:38.430897Z"
    },
    "papermill": {
     "duration": 0.048568,
     "end_time": "2022-03-22T15:30:38.431924",
     "exception": false,
     "start_time": "2022-03-22T15:30:38.383356",
     "status": "completed"
    },
    "tags": []
   },
   "outputs": [],
   "source": [
    "required_parameters = {\n",
    "    \"experiment_name\",\n",
    "    \"lr\",\n",
    "    \"device\",\n",
    "    \"seed\",\n",
    "    \"dataset_seed\",\n",
    "    \"n_shot\",\n",
    "    \"n_query\",\n",
    "    \"n_way\",\n",
    "    \"train_k_factor\",\n",
    "    \"val_k_factor\",\n",
    "    \"test_k_factor\",\n",
    "    \"n_epoch\",\n",
    "    \"patience\",\n",
    "    \"criteria_for_best\",\n",
    "    \"x_net\",\n",
    "    \"datasets\",\n",
    "    \"torch_default_dtype\",\n",
    "    \"NUM_LOGS_PER_EPOCH\",\n",
    "    \"BEST_MODEL_PATH\",\n",
    "    \"x_shape\",\n",
    "}"
   ]
  },
  {
   "cell_type": "code",
   "execution_count": 3,
   "id": "fa3f0049",
   "metadata": {
    "execution": {
     "iopub.execute_input": "2022-03-22T15:30:38.493001Z",
     "iopub.status.busy": "2022-03-22T15:30:38.492092Z",
     "iopub.status.idle": "2022-03-22T15:30:38.516173Z",
     "shell.execute_reply": "2022-03-22T15:30:38.515415Z"
    },
    "papermill": {
     "duration": 0.058373,
     "end_time": "2022-03-22T15:30:38.516348",
     "exception": false,
     "start_time": "2022-03-22T15:30:38.457975",
     "status": "completed"
    },
    "tags": [
     "parameters"
    ]
   },
   "outputs": [],
   "source": [
    "from steves_utils.CORES.utils import (\n",
    "    ALL_NODES,\n",
    "    ALL_NODES_MINIMUM_1000_EXAMPLES,\n",
    "    ALL_DAYS\n",
    ")\n",
    "\n",
    "from steves_utils.ORACLE.utils_v2 import (\n",
    "    ALL_DISTANCES_FEET_NARROWED,\n",
    "    ALL_RUNS,\n",
    "    ALL_SERIAL_NUMBERS,\n",
    ")\n",
    "\n",
    "standalone_parameters = {}\n",
    "standalone_parameters[\"experiment_name\"] = \"STANDALONE PTN\"\n",
    "standalone_parameters[\"lr\"] = 0.001\n",
    "standalone_parameters[\"device\"] = \"cuda\"\n",
    "\n",
    "standalone_parameters[\"seed\"] = 1337\n",
    "standalone_parameters[\"dataset_seed\"] = 1337\n",
    "\n",
    "standalone_parameters[\"n_way\"] = 8\n",
    "standalone_parameters[\"n_shot\"] = 3\n",
    "standalone_parameters[\"n_query\"]  = 2\n",
    "standalone_parameters[\"train_k_factor\"] = 1\n",
    "standalone_parameters[\"val_k_factor\"] = 2\n",
    "standalone_parameters[\"test_k_factor\"] = 2\n",
    "\n",
    "\n",
    "standalone_parameters[\"n_epoch\"] = 50\n",
    "\n",
    "standalone_parameters[\"patience\"] = 10\n",
    "standalone_parameters[\"criteria_for_best\"] = \"source_loss\"\n",
    "\n",
    "standalone_parameters[\"datasets\"] = [\n",
    "    {\n",
    "        \"labels\": ALL_SERIAL_NUMBERS,\n",
    "        \"domains\": ALL_DISTANCES_FEET_NARROWED,\n",
    "        \"num_examples_per_domain_per_label\": 100,\n",
    "        \"pickle_path\": os.path.join(get_datasets_base_path(), \"oracle.Run1_framed_2000Examples_stratified_ds.2022A.pkl\"),\n",
    "        \"source_or_target_dataset\": \"source\",\n",
    "        \"x_transforms\": [\"unit_mag\", \"minus_two\"],\n",
    "        \"episode_transforms\": [],\n",
    "        \"domain_prefix\": \"ORACLE_\"\n",
    "    },\n",
    "    {\n",
    "        \"labels\": ALL_NODES,\n",
    "        \"domains\": ALL_DAYS,\n",
    "        \"num_examples_per_domain_per_label\": 100,\n",
    "        \"pickle_path\": os.path.join(get_datasets_base_path(), \"cores.stratified_ds.2022A.pkl\"),\n",
    "        \"source_or_target_dataset\": \"target\",\n",
    "        \"x_transforms\": [\"unit_power\", \"times_zero\"],\n",
    "        \"episode_transforms\": [],\n",
    "        \"domain_prefix\": \"CORES_\"\n",
    "    }   \n",
    "]\n",
    "\n",
    "standalone_parameters[\"torch_default_dtype\"] = \"torch.float32\" \n",
    "\n",
    "\n",
    "\n",
    "standalone_parameters[\"x_net\"] =     [\n",
    "    {\"class\": \"nnReshape\", \"kargs\": {\"shape\":[-1, 1, 2, 256]}},\n",
    "    {\"class\": \"Conv2d\", \"kargs\": { \"in_channels\":1, \"out_channels\":256, \"kernel_size\":(1,7), \"bias\":False, \"padding\":(0,3), },},\n",
    "    {\"class\": \"ReLU\", \"kargs\": {\"inplace\": True}},\n",
    "    {\"class\": \"BatchNorm2d\", \"kargs\": {\"num_features\":256}},\n",
    "\n",
    "    {\"class\": \"Conv2d\", \"kargs\": { \"in_channels\":256, \"out_channels\":80, \"kernel_size\":(2,7), \"bias\":True, \"padding\":(0,3), },},\n",
    "    {\"class\": \"ReLU\", \"kargs\": {\"inplace\": True}},\n",
    "    {\"class\": \"BatchNorm2d\", \"kargs\": {\"num_features\":80}},\n",
    "    {\"class\": \"Flatten\", \"kargs\": {}},\n",
    "\n",
    "    {\"class\": \"Linear\", \"kargs\": {\"in_features\": 80*256, \"out_features\": 256}}, # 80 units per IQ pair\n",
    "    {\"class\": \"ReLU\", \"kargs\": {\"inplace\": True}},\n",
    "    {\"class\": \"BatchNorm1d\", \"kargs\": {\"num_features\":256}},\n",
    "\n",
    "    {\"class\": \"Linear\", \"kargs\": {\"in_features\": 256, \"out_features\": 256}},\n",
    "]\n",
    "\n",
    "# Parameters relevant to results\n",
    "# These parameters will basically never need to change\n",
    "standalone_parameters[\"NUM_LOGS_PER_EPOCH\"] = 10\n",
    "standalone_parameters[\"BEST_MODEL_PATH\"] = \"./best_model.pth\"\n",
    "\n",
    "\n",
    "\n",
    "\n"
   ]
  },
  {
   "cell_type": "code",
   "execution_count": 4,
   "id": "d227bebd",
   "metadata": {
    "execution": {
     "iopub.execute_input": "2022-03-22T15:30:38.578255Z",
     "iopub.status.busy": "2022-03-22T15:30:38.564656Z",
     "iopub.status.idle": "2022-03-22T15:30:38.600252Z",
     "shell.execute_reply": "2022-03-22T15:30:38.599430Z"
    },
    "papermill": {
     "duration": 0.057966,
     "end_time": "2022-03-22T15:30:38.600409",
     "exception": false,
     "start_time": "2022-03-22T15:30:38.542443",
     "status": "completed"
    },
    "tags": [
     "injected-parameters"
    ]
   },
   "outputs": [],
   "source": [
    "# Parameters\n",
    "parameters = {\n",
    "    \"experiment_name\": \"tl_1v2:cores-oracle.run1.limited\",\n",
    "    \"device\": \"cuda\",\n",
    "    \"lr\": 0.0001,\n",
    "    \"n_shot\": 3,\n",
    "    \"n_query\": 2,\n",
    "    \"train_k_factor\": 3,\n",
    "    \"val_k_factor\": 2,\n",
    "    \"test_k_factor\": 2,\n",
    "    \"torch_default_dtype\": \"torch.float32\",\n",
    "    \"n_epoch\": 50,\n",
    "    \"patience\": 3,\n",
    "    \"criteria_for_best\": \"target_accuracy\",\n",
    "    \"x_net\": [\n",
    "        {\"class\": \"nnReshape\", \"kargs\": {\"shape\": [-1, 1, 2, 256]}},\n",
    "        {\n",
    "            \"class\": \"Conv2d\",\n",
    "            \"kargs\": {\n",
    "                \"in_channels\": 1,\n",
    "                \"out_channels\": 256,\n",
    "                \"kernel_size\": [1, 7],\n",
    "                \"bias\": False,\n",
    "                \"padding\": [0, 3],\n",
    "            },\n",
    "        },\n",
    "        {\"class\": \"ReLU\", \"kargs\": {\"inplace\": True}},\n",
    "        {\"class\": \"BatchNorm2d\", \"kargs\": {\"num_features\": 256}},\n",
    "        {\n",
    "            \"class\": \"Conv2d\",\n",
    "            \"kargs\": {\n",
    "                \"in_channels\": 256,\n",
    "                \"out_channels\": 80,\n",
    "                \"kernel_size\": [2, 7],\n",
    "                \"bias\": True,\n",
    "                \"padding\": [0, 3],\n",
    "            },\n",
    "        },\n",
    "        {\"class\": \"ReLU\", \"kargs\": {\"inplace\": True}},\n",
    "        {\"class\": \"BatchNorm2d\", \"kargs\": {\"num_features\": 80}},\n",
    "        {\"class\": \"Flatten\", \"kargs\": {}},\n",
    "        {\"class\": \"Linear\", \"kargs\": {\"in_features\": 20480, \"out_features\": 256}},\n",
    "        {\"class\": \"ReLU\", \"kargs\": {\"inplace\": True}},\n",
    "        {\"class\": \"BatchNorm1d\", \"kargs\": {\"num_features\": 256}},\n",
    "        {\"class\": \"Linear\", \"kargs\": {\"in_features\": 256, \"out_features\": 256}},\n",
    "    ],\n",
    "    \"NUM_LOGS_PER_EPOCH\": 10,\n",
    "    \"BEST_MODEL_PATH\": \"./best_model.pth\",\n",
    "    \"n_way\": 16,\n",
    "    \"datasets\": [\n",
    "        {\n",
    "            \"labels\": [\n",
    "                \"1-10.\",\n",
    "                \"1-11.\",\n",
    "                \"1-15.\",\n",
    "                \"1-16.\",\n",
    "                \"1-17.\",\n",
    "                \"1-18.\",\n",
    "                \"1-19.\",\n",
    "                \"10-4.\",\n",
    "                \"10-7.\",\n",
    "                \"11-1.\",\n",
    "                \"11-14.\",\n",
    "                \"11-17.\",\n",
    "                \"11-20.\",\n",
    "                \"11-7.\",\n",
    "                \"13-20.\",\n",
    "                \"13-8.\",\n",
    "                \"14-10.\",\n",
    "                \"14-11.\",\n",
    "                \"14-14.\",\n",
    "                \"14-7.\",\n",
    "                \"15-1.\",\n",
    "                \"15-20.\",\n",
    "                \"16-1.\",\n",
    "                \"16-16.\",\n",
    "                \"17-10.\",\n",
    "                \"17-11.\",\n",
    "                \"17-2.\",\n",
    "                \"19-1.\",\n",
    "                \"19-16.\",\n",
    "                \"19-19.\",\n",
    "                \"19-20.\",\n",
    "                \"19-3.\",\n",
    "                \"2-10.\",\n",
    "                \"2-11.\",\n",
    "                \"2-17.\",\n",
    "                \"2-18.\",\n",
    "                \"2-20.\",\n",
    "                \"2-3.\",\n",
    "                \"2-4.\",\n",
    "                \"2-5.\",\n",
    "                \"2-6.\",\n",
    "                \"2-7.\",\n",
    "                \"2-8.\",\n",
    "                \"3-13.\",\n",
    "                \"3-18.\",\n",
    "                \"3-3.\",\n",
    "                \"4-1.\",\n",
    "                \"4-10.\",\n",
    "                \"4-11.\",\n",
    "                \"4-19.\",\n",
    "                \"5-5.\",\n",
    "                \"6-15.\",\n",
    "                \"7-10.\",\n",
    "                \"7-14.\",\n",
    "                \"8-18.\",\n",
    "                \"8-20.\",\n",
    "                \"8-3.\",\n",
    "                \"8-8.\",\n",
    "            ],\n",
    "            \"domains\": [1, 2, 3, 4, 5],\n",
    "            \"num_examples_per_domain_per_label\": -1,\n",
    "            \"pickle_path\": \"/root/csc500-main/datasets/cores.stratified_ds.2022A.pkl\",\n",
    "            \"source_or_target_dataset\": \"target\",\n",
    "            \"x_transforms\": [\"unit_mag\"],\n",
    "            \"episode_transforms\": [],\n",
    "            \"domain_prefix\": \"CORES_\",\n",
    "        },\n",
    "        {\n",
    "            \"labels\": [\n",
    "                \"3123D52\",\n",
    "                \"3123D65\",\n",
    "                \"3123D79\",\n",
    "                \"3123D80\",\n",
    "                \"3123D54\",\n",
    "                \"3123D70\",\n",
    "                \"3123D7B\",\n",
    "                \"3123D89\",\n",
    "                \"3123D58\",\n",
    "                \"3123D76\",\n",
    "                \"3123D7D\",\n",
    "                \"3123EFE\",\n",
    "                \"3123D64\",\n",
    "                \"3123D78\",\n",
    "                \"3123D7E\",\n",
    "                \"3124E4A\",\n",
    "            ],\n",
    "            \"domains\": [32, 38, 8, 44, 14, 50, 20, 26],\n",
    "            \"num_examples_per_domain_per_label\": 2000,\n",
    "            \"pickle_path\": \"/root/csc500-main/datasets/oracle.Run1_10kExamples_stratified_ds.2022A.pkl\",\n",
    "            \"source_or_target_dataset\": \"source\",\n",
    "            \"x_transforms\": [\"unit_mag\"],\n",
    "            \"episode_transforms\": [],\n",
    "            \"domain_prefix\": \"ORACLE.run1_\",\n",
    "        },\n",
    "    ],\n",
    "    \"dataset_seed\": 7,\n",
    "    \"seed\": 7,\n",
    "}\n"
   ]
  },
  {
   "cell_type": "code",
   "execution_count": 5,
   "id": "8fa1cc33",
   "metadata": {
    "execution": {
     "iopub.execute_input": "2022-03-22T15:30:38.652787Z",
     "iopub.status.busy": "2022-03-22T15:30:38.652213Z",
     "iopub.status.idle": "2022-03-22T15:30:38.676393Z",
     "shell.execute_reply": "2022-03-22T15:30:38.675562Z"
    },
    "papermill": {
     "duration": 0.051216,
     "end_time": "2022-03-22T15:30:38.676557",
     "exception": false,
     "start_time": "2022-03-22T15:30:38.625341",
     "status": "completed"
    },
    "tags": []
   },
   "outputs": [],
   "source": [
    "# Set this to True if you want to run this template directly\n",
    "STANDALONE = False\n",
    "if STANDALONE:\n",
    "    print(\"parameters not injected, running with standalone_parameters\")\n",
    "    parameters = standalone_parameters\n",
    "\n",
    "if not 'parameters' in locals() and not 'parameters' in globals():\n",
    "    raise Exception(\"Parameter injection failed\")\n",
    "\n",
    "#Use an easy dict for all the parameters\n",
    "p = EasyDict(parameters)\n",
    "\n",
    "if \"x_shape\" not in p:\n",
    "    p.x_shape = [2,256] # Default to this if we dont supply x_shape\n",
    "\n",
    "\n",
    "supplied_keys = set(p.keys())\n",
    "\n",
    "if  supplied_keys != required_parameters:\n",
    "    print(\"Parameters are incorrect\")\n",
    "    if len(supplied_keys - required_parameters)>0: print(\"Shouldn't have:\", str(supplied_keys - required_parameters))\n",
    "    if len(required_parameters - supplied_keys)>0: print(\"Need to have:\", str(required_parameters - supplied_keys))\n",
    "    raise RuntimeError(\"Parameters are incorrect\")"
   ]
  },
  {
   "cell_type": "code",
   "execution_count": 6,
   "id": "3a028d58",
   "metadata": {
    "execution": {
     "iopub.execute_input": "2022-03-22T15:30:38.725895Z",
     "iopub.status.busy": "2022-03-22T15:30:38.725524Z",
     "iopub.status.idle": "2022-03-22T15:30:38.749898Z",
     "shell.execute_reply": "2022-03-22T15:30:38.750557Z"
    },
    "papermill": {
     "duration": 0.048401,
     "end_time": "2022-03-22T15:30:38.750749",
     "exception": false,
     "start_time": "2022-03-22T15:30:38.702348",
     "status": "completed"
    },
    "tags": []
   },
   "outputs": [],
   "source": [
    "###################################\n",
    "# Set the RNGs and make it all deterministic\n",
    "###################################\n",
    "np.random.seed(p.seed)\n",
    "random.seed(p.seed)\n",
    "torch.manual_seed(p.seed)\n",
    "\n",
    "torch.use_deterministic_algorithms(True) "
   ]
  },
  {
   "cell_type": "code",
   "execution_count": 7,
   "id": "b691acf6",
   "metadata": {
    "execution": {
     "iopub.execute_input": "2022-03-22T15:30:38.801194Z",
     "iopub.status.busy": "2022-03-22T15:30:38.800824Z",
     "iopub.status.idle": "2022-03-22T15:30:38.826010Z",
     "shell.execute_reply": "2022-03-22T15:30:38.825213Z"
    },
    "papermill": {
     "duration": 0.048546,
     "end_time": "2022-03-22T15:30:38.826165",
     "exception": false,
     "start_time": "2022-03-22T15:30:38.777619",
     "status": "completed"
    },
    "tags": []
   },
   "outputs": [],
   "source": [
    "###########################################\n",
    "# The stratified datasets honor this\n",
    "###########################################\n",
    "torch.set_default_dtype(eval(p.torch_default_dtype))"
   ]
  },
  {
   "cell_type": "code",
   "execution_count": 8,
   "id": "b5fba671",
   "metadata": {
    "execution": {
     "iopub.execute_input": "2022-03-22T15:30:38.875403Z",
     "iopub.status.busy": "2022-03-22T15:30:38.875033Z",
     "iopub.status.idle": "2022-03-22T15:30:38.933019Z",
     "shell.execute_reply": "2022-03-22T15:30:38.932273Z"
    },
    "papermill": {
     "duration": 0.080904,
     "end_time": "2022-03-22T15:30:38.933196",
     "exception": false,
     "start_time": "2022-03-22T15:30:38.852292",
     "status": "completed"
    },
    "tags": []
   },
   "outputs": [],
   "source": [
    "###################################\n",
    "# Build the network(s)\n",
    "# Note: It's critical to do this AFTER setting the RNG\n",
    "###################################\n",
    "x_net = build_sequential(p.x_net)"
   ]
  },
  {
   "cell_type": "code",
   "execution_count": 9,
   "id": "5d7e61cc",
   "metadata": {
    "execution": {
     "iopub.execute_input": "2022-03-22T15:30:38.982116Z",
     "iopub.status.busy": "2022-03-22T15:30:38.981556Z",
     "iopub.status.idle": "2022-03-22T15:30:39.008537Z",
     "shell.execute_reply": "2022-03-22T15:30:39.007741Z"
    },
    "papermill": {
     "duration": 0.051119,
     "end_time": "2022-03-22T15:30:39.008692",
     "exception": false,
     "start_time": "2022-03-22T15:30:38.957573",
     "status": "completed"
    },
    "tags": []
   },
   "outputs": [],
   "source": [
    "start_time_secs = time.time()"
   ]
  },
  {
   "cell_type": "code",
   "execution_count": 10,
   "id": "c6b67dfd",
   "metadata": {
    "execution": {
     "iopub.execute_input": "2022-03-22T15:30:39.058142Z",
     "iopub.status.busy": "2022-03-22T15:30:39.057572Z",
     "iopub.status.idle": "2022-03-22T15:30:39.080445Z",
     "shell.execute_reply": "2022-03-22T15:30:39.081071Z"
    },
    "papermill": {
     "duration": 0.048254,
     "end_time": "2022-03-22T15:30:39.081270",
     "exception": false,
     "start_time": "2022-03-22T15:30:39.033016",
     "status": "completed"
    },
    "tags": []
   },
   "outputs": [],
   "source": [
    "p.domains_source = []\n",
    "p.domains_target = []\n",
    "\n",
    "\n",
    "train_original_source = []\n",
    "val_original_source   = []\n",
    "test_original_source  = []\n",
    "\n",
    "train_original_target = []\n",
    "val_original_target   = []\n",
    "test_original_target  = []"
   ]
  },
  {
   "cell_type": "code",
   "execution_count": 11,
   "id": "e3d9c3d3",
   "metadata": {
    "execution": {
     "iopub.execute_input": "2022-03-22T15:30:39.135224Z",
     "iopub.status.busy": "2022-03-22T15:30:39.134864Z",
     "iopub.status.idle": "2022-03-22T15:30:39.161971Z",
     "shell.execute_reply": "2022-03-22T15:30:39.162634Z"
    },
    "papermill": {
     "duration": 0.051096,
     "end_time": "2022-03-22T15:30:39.162815",
     "exception": false,
     "start_time": "2022-03-22T15:30:39.111719",
     "status": "completed"
    },
    "tags": []
   },
   "outputs": [],
   "source": [
    "# global_x_transform_func = lambda x: normalize(x.to(torch.get_default_dtype()), \"unit_power\") # unit_power, unit_mag\n",
    "# global_x_transform_func = lambda x: normalize(x, \"unit_power\") # unit_power, unit_mag"
   ]
  },
  {
   "cell_type": "code",
   "execution_count": 12,
   "id": "acb78fd2",
   "metadata": {
    "execution": {
     "iopub.execute_input": "2022-03-22T15:30:39.222676Z",
     "iopub.status.busy": "2022-03-22T15:30:39.221837Z",
     "iopub.status.idle": "2022-03-22T15:30:39.245157Z",
     "shell.execute_reply": "2022-03-22T15:30:39.244350Z"
    },
    "papermill": {
     "duration": 0.055122,
     "end_time": "2022-03-22T15:30:39.245307",
     "exception": false,
     "start_time": "2022-03-22T15:30:39.190185",
     "status": "completed"
    },
    "tags": []
   },
   "outputs": [],
   "source": [
    "def add_dataset(\n",
    "    labels,\n",
    "    domains,\n",
    "    pickle_path,\n",
    "    x_transforms,\n",
    "    episode_transforms,\n",
    "    domain_prefix,\n",
    "    num_examples_per_domain_per_label,\n",
    "    source_or_target_dataset:str,\n",
    "    iterator_seed=p.seed,\n",
    "    dataset_seed=p.dataset_seed,\n",
    "    n_shot=p.n_shot,\n",
    "    n_way=p.n_way,\n",
    "    n_query=p.n_query,\n",
    "    train_val_test_k_factors=(p.train_k_factor,p.val_k_factor,p.test_k_factor),\n",
    "):\n",
    "   \n",
    "    if x_transforms == []: x_transform = None\n",
    "    else: x_transform = get_chained_transform(x_transforms)\n",
    "    \n",
    "    if episode_transforms == []: episode_transform = None\n",
    "    else: raise Exception(\"episode_transforms not implemented\")\n",
    "    \n",
    "    episode_transform = lambda tup, _prefix=domain_prefix: (_prefix + str(tup[0]), tup[1])\n",
    "\n",
    "\n",
    "    eaf = Episodic_Accessor_Factory(\n",
    "        labels=labels,\n",
    "        domains=domains,\n",
    "        num_examples_per_domain_per_label=num_examples_per_domain_per_label,\n",
    "        iterator_seed=iterator_seed,\n",
    "        dataset_seed=dataset_seed,\n",
    "        n_shot=n_shot,\n",
    "        n_way=n_way,\n",
    "        n_query=n_query,\n",
    "        train_val_test_k_factors=train_val_test_k_factors,\n",
    "        pickle_path=pickle_path,\n",
    "        x_transform_func=x_transform,\n",
    "    )\n",
    "\n",
    "    train, val, test = eaf.get_train(), eaf.get_val(), eaf.get_test()\n",
    "    train = Lazy_Iterable_Wrapper(train, episode_transform)\n",
    "    val = Lazy_Iterable_Wrapper(val, episode_transform)\n",
    "    test = Lazy_Iterable_Wrapper(test, episode_transform)\n",
    "\n",
    "    if source_or_target_dataset==\"source\":\n",
    "        train_original_source.append(train)\n",
    "        val_original_source.append(val)\n",
    "        test_original_source.append(test)\n",
    "\n",
    "        p.domains_source.extend(\n",
    "            [domain_prefix + str(u) for u in domains]\n",
    "        )\n",
    "    elif source_or_target_dataset==\"target\":\n",
    "        train_original_target.append(train)\n",
    "        val_original_target.append(val)\n",
    "        test_original_target.append(test)\n",
    "        p.domains_target.extend(\n",
    "            [domain_prefix + str(u) for u in domains]\n",
    "        )\n",
    "    else:\n",
    "        raise Exception(f\"invalid source_or_target_dataset: {source_or_target_dataset}\")\n",
    "    "
   ]
  },
  {
   "cell_type": "code",
   "execution_count": 13,
   "id": "fe266617",
   "metadata": {
    "execution": {
     "iopub.execute_input": "2022-03-22T15:30:39.296824Z",
     "iopub.status.busy": "2022-03-22T15:30:39.296280Z",
     "iopub.status.idle": "2022-03-22T15:31:23.453465Z",
     "shell.execute_reply": "2022-03-22T15:31:23.452712Z"
    },
    "papermill": {
     "duration": 44.181231,
     "end_time": "2022-03-22T15:31:23.453658",
     "exception": false,
     "start_time": "2022-03-22T15:30:39.272427",
     "status": "completed"
    },
    "tags": []
   },
   "outputs": [],
   "source": [
    "for ds in p.datasets:\n",
    "    add_dataset(**ds)"
   ]
  },
  {
   "cell_type": "code",
   "execution_count": 14,
   "id": "b90d65ac",
   "metadata": {
    "execution": {
     "iopub.execute_input": "2022-03-22T15:31:23.508699Z",
     "iopub.status.busy": "2022-03-22T15:31:23.507375Z",
     "iopub.status.idle": "2022-03-22T15:31:23.534662Z",
     "shell.execute_reply": "2022-03-22T15:31:23.533948Z"
    },
    "papermill": {
     "duration": 0.051549,
     "end_time": "2022-03-22T15:31:23.534847",
     "exception": false,
     "start_time": "2022-03-22T15:31:23.483298",
     "status": "completed"
    },
    "tags": []
   },
   "outputs": [],
   "source": [
    "# from steves_utils.CORES.utils import (\n",
    "#     ALL_NODES,\n",
    "#     ALL_NODES_MINIMUM_1000_EXAMPLES,\n",
    "#     ALL_DAYS\n",
    "# )\n",
    "\n",
    "# add_dataset(\n",
    "#     labels=ALL_NODES,\n",
    "#     domains = ALL_DAYS,\n",
    "#     num_examples_per_domain_per_label=100,\n",
    "#     pickle_path=os.path.join(get_datasets_base_path(), \"cores.stratified_ds.2022A.pkl\"),\n",
    "#     source_or_target_dataset=\"target\",\n",
    "#     x_transform_func=global_x_transform_func,\n",
    "#     domain_modifier=lambda u: f\"cores_{u}\"\n",
    "# )"
   ]
  },
  {
   "cell_type": "code",
   "execution_count": 15,
   "id": "76db484d",
   "metadata": {
    "execution": {
     "iopub.execute_input": "2022-03-22T15:31:23.586746Z",
     "iopub.status.busy": "2022-03-22T15:31:23.586269Z",
     "iopub.status.idle": "2022-03-22T15:31:23.609334Z",
     "shell.execute_reply": "2022-03-22T15:31:23.608548Z"
    },
    "papermill": {
     "duration": 0.048035,
     "end_time": "2022-03-22T15:31:23.609510",
     "exception": false,
     "start_time": "2022-03-22T15:31:23.561475",
     "status": "completed"
    },
    "tags": []
   },
   "outputs": [],
   "source": [
    "# from steves_utils.ORACLE.utils_v2 import (\n",
    "#     ALL_DISTANCES_FEET,\n",
    "#     ALL_RUNS,\n",
    "#     ALL_SERIAL_NUMBERS,\n",
    "# )\n",
    "\n",
    "\n",
    "# add_dataset(\n",
    "#     labels=ALL_SERIAL_NUMBERS,\n",
    "#     domains = list(set(ALL_DISTANCES_FEET) - {2,62}),\n",
    "#     num_examples_per_domain_per_label=100,\n",
    "#     pickle_path=os.path.join(get_datasets_base_path(), \"oracle.Run2_framed_2000Examples_stratified_ds.2022A.pkl\"),\n",
    "#     source_or_target_dataset=\"source\",\n",
    "#     x_transform_func=global_x_transform_func,\n",
    "#     domain_modifier=lambda u: f\"oracle1_{u}\"\n",
    "# )\n"
   ]
  },
  {
   "cell_type": "code",
   "execution_count": 16,
   "id": "97dea9d2",
   "metadata": {
    "execution": {
     "iopub.execute_input": "2022-03-22T15:31:23.662071Z",
     "iopub.status.busy": "2022-03-22T15:31:23.661684Z",
     "iopub.status.idle": "2022-03-22T15:31:23.678913Z",
     "shell.execute_reply": "2022-03-22T15:31:23.678062Z"
    },
    "papermill": {
     "duration": 0.042133,
     "end_time": "2022-03-22T15:31:23.679091",
     "exception": false,
     "start_time": "2022-03-22T15:31:23.636958",
     "status": "completed"
    },
    "tags": []
   },
   "outputs": [],
   "source": [
    "# from steves_utils.ORACLE.utils_v2 import (\n",
    "#     ALL_DISTANCES_FEET,\n",
    "#     ALL_RUNS,\n",
    "#     ALL_SERIAL_NUMBERS,\n",
    "# )\n",
    "\n",
    "\n",
    "# add_dataset(\n",
    "#     labels=ALL_SERIAL_NUMBERS,\n",
    "#     domains = list(set(ALL_DISTANCES_FEET) - {2,62,56}),\n",
    "#     num_examples_per_domain_per_label=100,\n",
    "#     pickle_path=os.path.join(get_datasets_base_path(), \"oracle.Run2_framed_2000Examples_stratified_ds.2022A.pkl\"),\n",
    "#     source_or_target_dataset=\"source\",\n",
    "#     x_transform_func=global_x_transform_func,\n",
    "#     domain_modifier=lambda u: f\"oracle2_{u}\"\n",
    "# )"
   ]
  },
  {
   "cell_type": "code",
   "execution_count": 17,
   "id": "6f289866",
   "metadata": {
    "execution": {
     "iopub.execute_input": "2022-03-22T15:31:23.741146Z",
     "iopub.status.busy": "2022-03-22T15:31:23.740219Z",
     "iopub.status.idle": "2022-03-22T15:31:23.753186Z",
     "shell.execute_reply": "2022-03-22T15:31:23.752349Z"
    },
    "papermill": {
     "duration": 0.045248,
     "end_time": "2022-03-22T15:31:23.753361",
     "exception": false,
     "start_time": "2022-03-22T15:31:23.708113",
     "status": "completed"
    },
    "tags": []
   },
   "outputs": [],
   "source": [
    "# add_dataset(\n",
    "#     labels=list(range(19)),\n",
    "#     domains = [0,1,2],\n",
    "#     num_examples_per_domain_per_label=100,\n",
    "#     pickle_path=os.path.join(get_datasets_base_path(), \"metehan.stratified_ds.2022A.pkl\"),\n",
    "#     source_or_target_dataset=\"target\",\n",
    "#     x_transform_func=global_x_transform_func,\n",
    "#     domain_modifier=lambda u: f\"met_{u}\"\n",
    "# )"
   ]
  },
  {
   "cell_type": "code",
   "execution_count": 18,
   "id": "86a863c3",
   "metadata": {
    "execution": {
     "iopub.execute_input": "2022-03-22T15:31:23.807128Z",
     "iopub.status.busy": "2022-03-22T15:31:23.806729Z",
     "iopub.status.idle": "2022-03-22T15:31:23.829339Z",
     "shell.execute_reply": "2022-03-22T15:31:23.828535Z"
    },
    "papermill": {
     "duration": 0.047868,
     "end_time": "2022-03-22T15:31:23.829518",
     "exception": false,
     "start_time": "2022-03-22T15:31:23.781650",
     "status": "completed"
    },
    "tags": []
   },
   "outputs": [],
   "source": [
    "# # from steves_utils.wisig.utils import (\n",
    "# #     ALL_NODES_MINIMUM_100_EXAMPLES,\n",
    "# #     ALL_NODES_MINIMUM_500_EXAMPLES,\n",
    "# #     ALL_NODES_MINIMUM_1000_EXAMPLES,\n",
    "# #     ALL_DAYS\n",
    "# # )\n",
    "\n",
    "# import steves_utils.wisig.utils as wisig\n",
    "\n",
    "\n",
    "# add_dataset(\n",
    "#     labels=wisig.ALL_NODES_MINIMUM_100_EXAMPLES,\n",
    "#     domains = wisig.ALL_DAYS,\n",
    "#     num_examples_per_domain_per_label=100,\n",
    "#     pickle_path=os.path.join(get_datasets_base_path(), \"wisig.node3-19.stratified_ds.2022A.pkl\"),\n",
    "#     source_or_target_dataset=\"target\",\n",
    "#     x_transform_func=global_x_transform_func,\n",
    "#     domain_modifier=lambda u: f\"wisig_{u}\"\n",
    "# )"
   ]
  },
  {
   "cell_type": "code",
   "execution_count": 19,
   "id": "fd5442bc",
   "metadata": {
    "execution": {
     "iopub.execute_input": "2022-03-22T15:31:23.882320Z",
     "iopub.status.busy": "2022-03-22T15:31:23.881919Z",
     "iopub.status.idle": "2022-03-22T15:31:23.900587Z",
     "shell.execute_reply": "2022-03-22T15:31:23.899840Z"
    },
    "papermill": {
     "duration": 0.045853,
     "end_time": "2022-03-22T15:31:23.900762",
     "exception": false,
     "start_time": "2022-03-22T15:31:23.854909",
     "status": "completed"
    },
    "tags": []
   },
   "outputs": [],
   "source": [
    "###################################\n",
    "# Build the dataset\n",
    "###################################\n",
    "train_original_source = Iterable_Aggregator(train_original_source, p.seed)\n",
    "val_original_source = Iterable_Aggregator(val_original_source, p.seed)\n",
    "test_original_source = Iterable_Aggregator(test_original_source, p.seed)\n",
    "\n",
    "\n",
    "train_original_target = Iterable_Aggregator(train_original_target, p.seed)\n",
    "val_original_target = Iterable_Aggregator(val_original_target, p.seed)\n",
    "test_original_target = Iterable_Aggregator(test_original_target, p.seed)\n",
    "\n",
    "# For CNN We only use X and Y. And we only train on the source.\n",
    "# Properly form the data using a transform lambda and Lazy_Iterable_Wrapper. Finally wrap them in a dataloader\n",
    "\n",
    "transform_lambda = lambda ex: ex[1] # Original is (<domain>, <episode>) so we strip down to episode only\n",
    "\n",
    "train_processed_source = Lazy_Iterable_Wrapper(train_original_source, transform_lambda)\n",
    "val_processed_source   = Lazy_Iterable_Wrapper(val_original_source, transform_lambda)\n",
    "test_processed_source  = Lazy_Iterable_Wrapper(test_original_source, transform_lambda)\n",
    "\n",
    "train_processed_target = Lazy_Iterable_Wrapper(train_original_target, transform_lambda)\n",
    "val_processed_target   = Lazy_Iterable_Wrapper(val_original_target, transform_lambda)\n",
    "test_processed_target  = Lazy_Iterable_Wrapper(test_original_target, transform_lambda)\n",
    "\n",
    "datasets = EasyDict({\n",
    "    \"source\": {\n",
    "        \"original\": {\"train\":train_original_source, \"val\":val_original_source, \"test\":test_original_source},\n",
    "        \"processed\": {\"train\":train_processed_source, \"val\":val_processed_source, \"test\":test_processed_source}\n",
    "    },\n",
    "    \"target\": {\n",
    "        \"original\": {\"train\":train_original_target, \"val\":val_original_target, \"test\":test_original_target},\n",
    "        \"processed\": {\"train\":train_processed_target, \"val\":val_processed_target, \"test\":test_processed_target}\n",
    "    },\n",
    "})"
   ]
  },
  {
   "cell_type": "code",
   "execution_count": 20,
   "id": "5b3c01fc",
   "metadata": {
    "execution": {
     "iopub.execute_input": "2022-03-22T15:31:23.954784Z",
     "iopub.status.busy": "2022-03-22T15:31:23.953835Z",
     "iopub.status.idle": "2022-03-22T15:31:39.051941Z",
     "shell.execute_reply": "2022-03-22T15:31:39.052614Z"
    },
    "papermill": {
     "duration": 15.125811,
     "end_time": "2022-03-22T15:31:39.052842",
     "exception": false,
     "start_time": "2022-03-22T15:31:23.927031",
     "status": "completed"
    },
    "tags": []
   },
   "outputs": [
    {
     "name": "stdout",
     "output_type": "stream",
     "text": [
      "{'ORACLE.run1_26', 'ORACLE.run1_20', 'ORACLE.run1_38', 'ORACLE.run1_14', 'ORACLE.run1_44', 'ORACLE.run1_32', 'ORACLE.run1_50', 'ORACLE.run1_8'}\n"
     ]
    },
    {
     "name": "stdout",
     "output_type": "stream",
     "text": [
      "{'CORES_2', 'CORES_1', 'CORES_3', 'CORES_4', 'CORES_5'}\n"
     ]
    },
    {
     "name": "stdout",
     "output_type": "stream",
     "text": [
      "tensor([[[-0.5826,  1.1462,  1.5187,  ...,  0.0000, -0.5062,  1.3849],\n",
      "         [-0.0955, -0.4203, -1.1079,  ...,  0.1242, -0.8978,  0.4489]],\n",
      "\n",
      "        [[-0.6710, -0.6518,  2.1377,  ...,  0.3547,  0.2109, -0.9298],\n",
      "         [-0.1342,  0.7956, -0.6710,  ...,  0.4985,  0.3163,  0.0575]],\n",
      "\n",
      "        [[-2.5312, -0.3736,  1.1675,  ...,  0.6071, -0.9807, -0.3082],\n",
      "         [ 0.5698,  0.6725, -1.2703,  ...,  0.3923,  1.0088, -1.3917]],\n",
      "\n",
      "        ...,\n",
      "\n",
      "        [[-0.7807, -0.7045,  1.5042,  ..., -0.1809,  1.0948,  1.1805],\n",
      "         [ 0.8759, -0.3142,  0.1904,  ..., -0.5617,  0.9901,  1.0568]],\n",
      "\n",
      "        [[-0.8022,  0.3879, -0.0264,  ..., -0.3262, -0.0970,  0.1851],\n",
      "         [-1.2429, -0.8639,  0.3173,  ...,  0.4584,  0.8727,  0.2909]],\n",
      "\n",
      "        [[-0.3070,  1.2280,  0.5688,  ...,  0.2799,  1.0474,  0.6049],\n",
      "         [-0.2980,  0.0722,  1.3363,  ...,  0.5598,  0.8939,  0.4424]]])\n"
     ]
    }
   ],
   "source": [
    "from steves_utils.transforms import get_average_magnitude, get_average_power\n",
    "\n",
    "print(set([u for u,_ in val_original_source]))\n",
    "print(set([u for u,_ in val_original_target]))\n",
    "\n",
    "s_x, s_y, q_x, q_y, _ = next(iter(train_processed_source))\n",
    "print(s_x)\n",
    "\n",
    "# for ds in [\n",
    "#     train_processed_source,\n",
    "#     val_processed_source,\n",
    "#     test_processed_source,\n",
    "#     train_processed_target,\n",
    "#     val_processed_target,\n",
    "#     test_processed_target\n",
    "# ]:\n",
    "#     for s_x, s_y, q_x, q_y, _ in ds:\n",
    "#         for X in (s_x, q_x):\n",
    "#             for x in X:\n",
    "#                 assert np.isclose(get_average_magnitude(x.numpy()), 1.0)\n",
    "#                 assert np.isclose(get_average_power(x.numpy()), 1.0)\n",
    "                "
   ]
  },
  {
   "cell_type": "code",
   "execution_count": 21,
   "id": "bbdacba1",
   "metadata": {
    "execution": {
     "iopub.execute_input": "2022-03-22T15:31:39.109144Z",
     "iopub.status.busy": "2022-03-22T15:31:39.108465Z",
     "iopub.status.idle": "2022-03-22T15:31:39.376216Z",
     "shell.execute_reply": "2022-03-22T15:31:39.375652Z"
    },
    "papermill": {
     "duration": 0.296238,
     "end_time": "2022-03-22T15:31:39.376369",
     "exception": false,
     "start_time": "2022-03-22T15:31:39.080131",
     "status": "completed"
    },
    "tags": []
   },
   "outputs": [
    {
     "name": "stdout",
     "output_type": "stream",
     "text": [
      "(2, 256)\n"
     ]
    }
   ],
   "source": [
    "###################################\n",
    "# Build the model\n",
    "###################################\n",
    "# easfsl only wants a tuple for the shape\n",
    "model = Steves_Prototypical_Network(x_net, device=p.device, x_shape=tuple(p.x_shape))\n",
    "optimizer = Adam(params=model.parameters(), lr=p.lr)"
   ]
  },
  {
   "cell_type": "code",
   "execution_count": 22,
   "id": "22b39ac5",
   "metadata": {
    "execution": {
     "iopub.execute_input": "2022-03-22T15:31:39.440422Z",
     "iopub.status.busy": "2022-03-22T15:31:39.440040Z",
     "iopub.status.idle": "2022-03-22T16:08:41.537806Z",
     "shell.execute_reply": "2022-03-22T16:08:41.537466Z"
    },
    "papermill": {
     "duration": 2222.131199,
     "end_time": "2022-03-22T16:08:41.537890",
     "exception": false,
     "start_time": "2022-03-22T15:31:39.406691",
     "status": "completed"
    },
    "tags": []
   },
   "outputs": [
    {
     "name": "stdout",
     "output_type": "stream",
     "text": [
      "epoch: 1, [batch: 1 / 6720], examples_per_second: 32.1558, train_label_loss: 2.7959, \n"
     ]
    },
    {
     "name": "stdout",
     "output_type": "stream",
     "text": [
      "epoch: 1, [batch: 672 / 6720], examples_per_second: 2981.1980, train_label_loss: 2.8416, \n"
     ]
    },
    {
     "name": "stdout",
     "output_type": "stream",
     "text": [
      "epoch: 1, [batch: 1344 / 6720], examples_per_second: 2981.1870, train_label_loss: 1.7210, \n"
     ]
    },
    {
     "name": "stdout",
     "output_type": "stream",
     "text": [
      "epoch: 1, [batch: 2016 / 6720], examples_per_second: 2944.5332, train_label_loss: 1.3410, \n"
     ]
    },
    {
     "name": "stdout",
     "output_type": "stream",
     "text": [
      "epoch: 1, [batch: 2688 / 6720], examples_per_second: 2914.9628, train_label_loss: 1.3741, \n"
     ]
    },
    {
     "name": "stdout",
     "output_type": "stream",
     "text": [
      "epoch: 1, [batch: 3360 / 6720], examples_per_second: 2922.5356, train_label_loss: 1.4174, \n"
     ]
    },
    {
     "name": "stdout",
     "output_type": "stream",
     "text": [
      "epoch: 1, [batch: 4032 / 6720], examples_per_second: 2971.5723, train_label_loss: 1.0019, \n"
     ]
    },
    {
     "name": "stdout",
     "output_type": "stream",
     "text": [
      "epoch: 1, [batch: 4704 / 6720], examples_per_second: 3345.6951, train_label_loss: 2.1439, \n"
     ]
    },
    {
     "name": "stdout",
     "output_type": "stream",
     "text": [
      "epoch: 1, [batch: 5376 / 6720], examples_per_second: 3421.2831, train_label_loss: 1.4996, \n"
     ]
    },
    {
     "name": "stdout",
     "output_type": "stream",
     "text": [
      "epoch: 1, [batch: 6048 / 6720], examples_per_second: 3341.7813, train_label_loss: 1.1184, \n"
     ]
    },
    {
     "name": "stdout",
     "output_type": "stream",
     "text": [
      "=============================================================\n",
      "epoch: 1, source_val_acc_label: 0.5313, target_val_acc_label: 0.9487, source_val_label_loss: 1.2348, target_val_label_loss: 0.1712, \n",
      "=============================================================\n"
     ]
    },
    {
     "name": "stdout",
     "output_type": "stream",
     "text": [
      "New best\n"
     ]
    },
    {
     "name": "stdout",
     "output_type": "stream",
     "text": [
      "epoch: 2, [batch: 1 / 6720], examples_per_second: 2.8308, train_label_loss: 1.5736, \n"
     ]
    },
    {
     "name": "stdout",
     "output_type": "stream",
     "text": [
      "epoch: 2, [batch: 672 / 6720], examples_per_second: 3060.0204, train_label_loss: 1.7183, \n"
     ]
    },
    {
     "name": "stdout",
     "output_type": "stream",
     "text": [
      "epoch: 2, [batch: 1344 / 6720], examples_per_second: 3005.0333, train_label_loss: 0.8737, \n"
     ]
    },
    {
     "name": "stdout",
     "output_type": "stream",
     "text": [
      "epoch: 2, [batch: 2016 / 6720], examples_per_second: 2980.4709, train_label_loss: 0.5840, \n"
     ]
    },
    {
     "name": "stdout",
     "output_type": "stream",
     "text": [
      "epoch: 2, [batch: 2688 / 6720], examples_per_second: 2973.4377, train_label_loss: 0.7982, \n"
     ]
    },
    {
     "name": "stdout",
     "output_type": "stream",
     "text": [
      "epoch: 2, [batch: 3360 / 6720], examples_per_second: 2986.4069, train_label_loss: 1.1789, \n"
     ]
    },
    {
     "name": "stdout",
     "output_type": "stream",
     "text": [
      "epoch: 2, [batch: 4032 / 6720], examples_per_second: 2991.0196, train_label_loss: 0.6196, \n"
     ]
    },
    {
     "name": "stdout",
     "output_type": "stream",
     "text": [
      "epoch: 2, [batch: 4704 / 6720], examples_per_second: 3272.4402, train_label_loss: 1.5484, \n"
     ]
    },
    {
     "name": "stdout",
     "output_type": "stream",
     "text": [
      "epoch: 2, [batch: 5376 / 6720], examples_per_second: 3430.4655, train_label_loss: 0.7582, \n"
     ]
    },
    {
     "name": "stdout",
     "output_type": "stream",
     "text": [
      "epoch: 2, [batch: 6048 / 6720], examples_per_second: 3548.7335, train_label_loss: 0.6988, \n"
     ]
    },
    {
     "name": "stdout",
     "output_type": "stream",
     "text": [
      "=============================================================\n",
      "epoch: 2, source_val_acc_label: 0.5868, target_val_acc_label: 0.9562, source_val_label_loss: 1.0897, target_val_label_loss: 0.1686, \n",
      "=============================================================\n"
     ]
    },
    {
     "name": "stdout",
     "output_type": "stream",
     "text": [
      "New best\n"
     ]
    },
    {
     "name": "stdout",
     "output_type": "stream",
     "text": [
      "epoch: 3, [batch: 1 / 6720], examples_per_second: 2.8468, train_label_loss: 0.8464, \n"
     ]
    },
    {
     "name": "stdout",
     "output_type": "stream",
     "text": [
      "epoch: 3, [batch: 672 / 6720], examples_per_second: 3049.9391, train_label_loss: 1.4337, \n"
     ]
    },
    {
     "name": "stdout",
     "output_type": "stream",
     "text": [
      "epoch: 3, [batch: 1344 / 6720], examples_per_second: 3021.7086, train_label_loss: 0.4985, \n"
     ]
    },
    {
     "name": "stdout",
     "output_type": "stream",
     "text": [
      "epoch: 3, [batch: 2016 / 6720], examples_per_second: 3340.8646, train_label_loss: 0.7770, \n"
     ]
    },
    {
     "name": "stdout",
     "output_type": "stream",
     "text": [
      "epoch: 3, [batch: 2688 / 6720], examples_per_second: 3415.1625, train_label_loss: 1.2244, \n"
     ]
    },
    {
     "name": "stdout",
     "output_type": "stream",
     "text": [
      "epoch: 3, [batch: 3360 / 6720], examples_per_second: 3454.8156, train_label_loss: 0.9558, \n"
     ]
    },
    {
     "name": "stdout",
     "output_type": "stream",
     "text": [
      "epoch: 3, [batch: 4032 / 6720], examples_per_second: 3398.2876, train_label_loss: 0.5516, \n"
     ]
    },
    {
     "name": "stdout",
     "output_type": "stream",
     "text": [
      "epoch: 3, [batch: 4704 / 6720], examples_per_second: 3476.3429, train_label_loss: 0.9812, \n"
     ]
    },
    {
     "name": "stdout",
     "output_type": "stream",
     "text": [
      "epoch: 3, [batch: 5376 / 6720], examples_per_second: 3885.8572, train_label_loss: 0.9010, \n"
     ]
    },
    {
     "name": "stdout",
     "output_type": "stream",
     "text": [
      "epoch: 3, [batch: 6048 / 6720], examples_per_second: 3903.1874, train_label_loss: 0.6130, \n"
     ]
    },
    {
     "name": "stdout",
     "output_type": "stream",
     "text": [
      "=============================================================\n",
      "epoch: 3, source_val_acc_label: 0.6015, target_val_acc_label: 0.9614, source_val_label_loss: 1.0722, target_val_label_loss: 0.1860, \n",
      "=============================================================\n"
     ]
    },
    {
     "name": "stdout",
     "output_type": "stream",
     "text": [
      "New best\n"
     ]
    },
    {
     "name": "stdout",
     "output_type": "stream",
     "text": [
      "epoch: 4, [batch: 1 / 6720], examples_per_second: 3.5291, train_label_loss: 1.0717, \n"
     ]
    },
    {
     "name": "stdout",
     "output_type": "stream",
     "text": [
      "epoch: 4, [batch: 672 / 6720], examples_per_second: 3027.9066, train_label_loss: 0.4602, \n"
     ]
    },
    {
     "name": "stdout",
     "output_type": "stream",
     "text": [
      "epoch: 4, [batch: 1344 / 6720], examples_per_second: 2987.3355, train_label_loss: 0.6872, \n"
     ]
    },
    {
     "name": "stdout",
     "output_type": "stream",
     "text": [
      "epoch: 4, [batch: 2016 / 6720], examples_per_second: 2989.4737, train_label_loss: 0.4995, \n"
     ]
    },
    {
     "name": "stdout",
     "output_type": "stream",
     "text": [
      "epoch: 4, [batch: 2688 / 6720], examples_per_second: 2989.6017, train_label_loss: 0.4603, \n"
     ]
    },
    {
     "name": "stdout",
     "output_type": "stream",
     "text": [
      "epoch: 4, [batch: 3360 / 6720], examples_per_second: 3030.0713, train_label_loss: 0.4965, \n"
     ]
    },
    {
     "name": "stdout",
     "output_type": "stream",
     "text": [
      "epoch: 4, [batch: 4032 / 6720], examples_per_second: 2995.6233, train_label_loss: 0.7172, \n"
     ]
    },
    {
     "name": "stdout",
     "output_type": "stream",
     "text": [
      "epoch: 4, [batch: 4704 / 6720], examples_per_second: 2932.7461, train_label_loss: 0.5634, \n"
     ]
    },
    {
     "name": "stdout",
     "output_type": "stream",
     "text": [
      "epoch: 4, [batch: 5376 / 6720], examples_per_second: 3409.6163, train_label_loss: 0.4361, \n"
     ]
    },
    {
     "name": "stdout",
     "output_type": "stream",
     "text": [
      "epoch: 4, [batch: 6048 / 6720], examples_per_second: 3450.9973, train_label_loss: 0.8217, \n"
     ]
    },
    {
     "name": "stdout",
     "output_type": "stream",
     "text": [
      "=============================================================\n",
      "epoch: 4, source_val_acc_label: 0.6115, target_val_acc_label: 0.9657, source_val_label_loss: 1.0677, target_val_label_loss: 0.1922, \n",
      "=============================================================\n"
     ]
    },
    {
     "name": "stdout",
     "output_type": "stream",
     "text": [
      "New best\n"
     ]
    },
    {
     "name": "stdout",
     "output_type": "stream",
     "text": [
      "epoch: 5, [batch: 1 / 6720], examples_per_second: 2.9710, train_label_loss: 0.8414, \n"
     ]
    },
    {
     "name": "stdout",
     "output_type": "stream",
     "text": [
      "epoch: 5, [batch: 672 / 6720], examples_per_second: 2978.8022, train_label_loss: 0.2657, \n"
     ]
    },
    {
     "name": "stdout",
     "output_type": "stream",
     "text": [
      "epoch: 5, [batch: 1344 / 6720], examples_per_second: 2979.6448, train_label_loss: 0.4550, \n"
     ]
    },
    {
     "name": "stdout",
     "output_type": "stream",
     "text": [
      "epoch: 5, [batch: 2016 / 6720], examples_per_second: 3023.8532, train_label_loss: 0.4860, \n"
     ]
    },
    {
     "name": "stdout",
     "output_type": "stream",
     "text": [
      "epoch: 5, [batch: 2688 / 6720], examples_per_second: 3039.3428, train_label_loss: 0.9001, \n"
     ]
    },
    {
     "name": "stdout",
     "output_type": "stream",
     "text": [
      "epoch: 5, [batch: 3360 / 6720], examples_per_second: 3043.9277, train_label_loss: 0.4533, \n"
     ]
    },
    {
     "name": "stdout",
     "output_type": "stream",
     "text": [
      "epoch: 5, [batch: 4032 / 6720], examples_per_second: 3026.5061, train_label_loss: 0.2763, \n"
     ]
    },
    {
     "name": "stdout",
     "output_type": "stream",
     "text": [
      "epoch: 5, [batch: 4704 / 6720], examples_per_second: 3040.2720, train_label_loss: 0.7847, \n"
     ]
    },
    {
     "name": "stdout",
     "output_type": "stream",
     "text": [
      "epoch: 5, [batch: 5376 / 6720], examples_per_second: 3197.9010, train_label_loss: 0.6638, \n"
     ]
    },
    {
     "name": "stdout",
     "output_type": "stream",
     "text": [
      "epoch: 5, [batch: 6048 / 6720], examples_per_second: 3448.4209, train_label_loss: 0.4590, \n"
     ]
    },
    {
     "name": "stdout",
     "output_type": "stream",
     "text": [
      "=============================================================\n",
      "epoch: 5, source_val_acc_label: 0.6130, target_val_acc_label: 0.9636, source_val_label_loss: 1.1053, target_val_label_loss: 0.2126, \n",
      "=============================================================\n"
     ]
    },
    {
     "name": "stdout",
     "output_type": "stream",
     "text": [
      "epoch: 6, [batch: 1 / 6720], examples_per_second: 3.0631, train_label_loss: 0.3615, \n"
     ]
    },
    {
     "name": "stdout",
     "output_type": "stream",
     "text": [
      "epoch: 6, [batch: 672 / 6720], examples_per_second: 3023.9009, train_label_loss: 1.0822, \n"
     ]
    },
    {
     "name": "stdout",
     "output_type": "stream",
     "text": [
      "epoch: 6, [batch: 1344 / 6720], examples_per_second: 3018.4732, train_label_loss: 0.4497, \n"
     ]
    },
    {
     "name": "stdout",
     "output_type": "stream",
     "text": [
      "epoch: 6, [batch: 2016 / 6720], examples_per_second: 3015.1926, train_label_loss: 0.7486, \n"
     ]
    },
    {
     "name": "stdout",
     "output_type": "stream",
     "text": [
      "epoch: 6, [batch: 2688 / 6720], examples_per_second: 3008.0878, train_label_loss: 0.3593, \n"
     ]
    },
    {
     "name": "stdout",
     "output_type": "stream",
     "text": [
      "epoch: 6, [batch: 3360 / 6720], examples_per_second: 3006.0685, train_label_loss: 0.3517, \n"
     ]
    },
    {
     "name": "stdout",
     "output_type": "stream",
     "text": [
      "epoch: 6, [batch: 4032 / 6720], examples_per_second: 2990.1535, train_label_loss: 0.3898, \n"
     ]
    },
    {
     "name": "stdout",
     "output_type": "stream",
     "text": [
      "epoch: 6, [batch: 4704 / 6720], examples_per_second: 2987.2667, train_label_loss: 0.7922, \n"
     ]
    },
    {
     "name": "stdout",
     "output_type": "stream",
     "text": [
      "epoch: 6, [batch: 5376 / 6720], examples_per_second: 2990.2994, train_label_loss: 0.4622, \n"
     ]
    },
    {
     "name": "stdout",
     "output_type": "stream",
     "text": [
      "epoch: 6, [batch: 6048 / 6720], examples_per_second: 3411.0798, train_label_loss: 0.4408, \n"
     ]
    },
    {
     "name": "stdout",
     "output_type": "stream",
     "text": [
      "=============================================================\n",
      "epoch: 6, source_val_acc_label: 0.6012, target_val_acc_label: 0.9655, source_val_label_loss: 1.1591, target_val_label_loss: 0.2269, \n",
      "=============================================================\n"
     ]
    },
    {
     "name": "stdout",
     "output_type": "stream",
     "text": [
      "epoch: 7, [batch: 1 / 6720], examples_per_second: 3.2320, train_label_loss: 0.5424, \n"
     ]
    },
    {
     "name": "stdout",
     "output_type": "stream",
     "text": [
      "epoch: 7, [batch: 672 / 6720], examples_per_second: 3450.4695, train_label_loss: 0.5515, \n"
     ]
    },
    {
     "name": "stdout",
     "output_type": "stream",
     "text": [
      "epoch: 7, [batch: 1344 / 6720], examples_per_second: 3452.2451, train_label_loss: 0.2303, \n"
     ]
    },
    {
     "name": "stdout",
     "output_type": "stream",
     "text": [
      "epoch: 7, [batch: 2016 / 6720], examples_per_second: 3423.6029, train_label_loss: 0.4024, \n"
     ]
    },
    {
     "name": "stdout",
     "output_type": "stream",
     "text": [
      "epoch: 7, [batch: 2688 / 6720], examples_per_second: 3362.0974, train_label_loss: 0.4870, \n"
     ]
    },
    {
     "name": "stdout",
     "output_type": "stream",
     "text": [
      "epoch: 7, [batch: 3360 / 6720], examples_per_second: 3468.1189, train_label_loss: 0.2460, \n"
     ]
    },
    {
     "name": "stdout",
     "output_type": "stream",
     "text": [
      "epoch: 7, [batch: 4032 / 6720], examples_per_second: 3431.9912, train_label_loss: 0.5077, \n"
     ]
    },
    {
     "name": "stdout",
     "output_type": "stream",
     "text": [
      "epoch: 7, [batch: 4704 / 6720], examples_per_second: 3812.6574, train_label_loss: 0.6056, \n"
     ]
    },
    {
     "name": "stdout",
     "output_type": "stream",
     "text": [
      "epoch: 7, [batch: 5376 / 6720], examples_per_second: 3975.6097, train_label_loss: 0.5501, \n"
     ]
    },
    {
     "name": "stdout",
     "output_type": "stream",
     "text": [
      "epoch: 7, [batch: 6048 / 6720], examples_per_second: 4012.3348, train_label_loss: 0.7836, \n"
     ]
    },
    {
     "name": "stdout",
     "output_type": "stream",
     "text": [
      "=============================================================\n",
      "epoch: 7, source_val_acc_label: 0.6035, target_val_acc_label: 0.9660, source_val_label_loss: 1.2512, target_val_label_loss: 0.2438, \n",
      "=============================================================\n"
     ]
    },
    {
     "name": "stdout",
     "output_type": "stream",
     "text": [
      "New best\n"
     ]
    },
    {
     "name": "stdout",
     "output_type": "stream",
     "text": [
      "epoch: 8, [batch: 1 / 6720], examples_per_second: 4.1178, train_label_loss: 0.4642, \n"
     ]
    },
    {
     "name": "stdout",
     "output_type": "stream",
     "text": [
      "epoch: 8, [batch: 672 / 6720], examples_per_second: 4346.0368, train_label_loss: 0.5945, \n"
     ]
    },
    {
     "name": "stdout",
     "output_type": "stream",
     "text": [
      "epoch: 8, [batch: 1344 / 6720], examples_per_second: 4157.9945, train_label_loss: 0.5918, \n"
     ]
    },
    {
     "name": "stdout",
     "output_type": "stream",
     "text": [
      "epoch: 8, [batch: 2016 / 6720], examples_per_second: 4376.5738, train_label_loss: 0.2842, \n"
     ]
    },
    {
     "name": "stdout",
     "output_type": "stream",
     "text": [
      "epoch: 8, [batch: 2688 / 6720], examples_per_second: 4576.0888, train_label_loss: 0.2602, \n"
     ]
    },
    {
     "name": "stdout",
     "output_type": "stream",
     "text": [
      "epoch: 8, [batch: 3360 / 6720], examples_per_second: 5300.7054, train_label_loss: 0.5717, \n"
     ]
    },
    {
     "name": "stdout",
     "output_type": "stream",
     "text": [
      "epoch: 8, [batch: 4032 / 6720], examples_per_second: 5260.3201, train_label_loss: 0.2302, \n"
     ]
    },
    {
     "name": "stdout",
     "output_type": "stream",
     "text": [
      "epoch: 8, [batch: 4704 / 6720], examples_per_second: 4781.6821, train_label_loss: 0.3424, \n"
     ]
    },
    {
     "name": "stdout",
     "output_type": "stream",
     "text": [
      "epoch: 8, [batch: 5376 / 6720], examples_per_second: 3343.1677, train_label_loss: 0.5472, \n"
     ]
    },
    {
     "name": "stdout",
     "output_type": "stream",
     "text": [
      "epoch: 8, [batch: 6048 / 6720], examples_per_second: 2995.6045, train_label_loss: 0.4965, \n"
     ]
    },
    {
     "name": "stdout",
     "output_type": "stream",
     "text": [
      "=============================================================\n",
      "epoch: 8, source_val_acc_label: 0.6007, target_val_acc_label: 0.9631, source_val_label_loss: 1.3285, target_val_label_loss: 0.2814, \n",
      "=============================================================\n"
     ]
    },
    {
     "name": "stdout",
     "output_type": "stream",
     "text": [
      "epoch: 9, [batch: 1 / 6720], examples_per_second: 2.8157, train_label_loss: 0.2961, \n"
     ]
    },
    {
     "name": "stdout",
     "output_type": "stream",
     "text": [
      "epoch: 9, [batch: 672 / 6720], examples_per_second: 2939.1690, train_label_loss: 0.0637, \n"
     ]
    },
    {
     "name": "stdout",
     "output_type": "stream",
     "text": [
      "epoch: 9, [batch: 1344 / 6720], examples_per_second: 2957.8209, train_label_loss: 0.5774, \n"
     ]
    },
    {
     "name": "stdout",
     "output_type": "stream",
     "text": [
      "epoch: 9, [batch: 2016 / 6720], examples_per_second: 2979.3070, train_label_loss: 0.2416, \n"
     ]
    },
    {
     "name": "stdout",
     "output_type": "stream",
     "text": [
      "epoch: 9, [batch: 2688 / 6720], examples_per_second: 2964.3125, train_label_loss: 0.2660, \n"
     ]
    },
    {
     "name": "stdout",
     "output_type": "stream",
     "text": [
      "epoch: 9, [batch: 3360 / 6720], examples_per_second: 2932.4304, train_label_loss: 0.3577, \n"
     ]
    },
    {
     "name": "stdout",
     "output_type": "stream",
     "text": [
      "epoch: 9, [batch: 4032 / 6720], examples_per_second: 3343.0210, train_label_loss: 0.2452, \n"
     ]
    },
    {
     "name": "stdout",
     "output_type": "stream",
     "text": [
      "epoch: 9, [batch: 4704 / 6720], examples_per_second: 3344.9536, train_label_loss: 0.2342, \n"
     ]
    },
    {
     "name": "stdout",
     "output_type": "stream",
     "text": [
      "epoch: 9, [batch: 5376 / 6720], examples_per_second: 3335.1213, train_label_loss: 0.7559, \n"
     ]
    },
    {
     "name": "stdout",
     "output_type": "stream",
     "text": [
      "epoch: 9, [batch: 6048 / 6720], examples_per_second: 2961.5464, train_label_loss: 0.2902, \n"
     ]
    },
    {
     "name": "stdout",
     "output_type": "stream",
     "text": [
      "=============================================================\n",
      "epoch: 9, source_val_acc_label: 0.6020, target_val_acc_label: 0.9620, source_val_label_loss: 1.4019, target_val_label_loss: 0.3233, \n",
      "=============================================================\n"
     ]
    },
    {
     "name": "stdout",
     "output_type": "stream",
     "text": [
      "epoch: 10, [batch: 1 / 6720], examples_per_second: 2.8435, train_label_loss: 0.5476, \n"
     ]
    },
    {
     "name": "stdout",
     "output_type": "stream",
     "text": [
      "epoch: 10, [batch: 672 / 6720], examples_per_second: 3028.9271, train_label_loss: 0.5459, \n"
     ]
    },
    {
     "name": "stdout",
     "output_type": "stream",
     "text": [
      "epoch: 10, [batch: 1344 / 6720], examples_per_second: 3031.0329, train_label_loss: 0.5801, \n"
     ]
    },
    {
     "name": "stdout",
     "output_type": "stream",
     "text": [
      "epoch: 10, [batch: 2016 / 6720], examples_per_second: 2997.4170, train_label_loss: 0.3835, \n"
     ]
    },
    {
     "name": "stdout",
     "output_type": "stream",
     "text": [
      "epoch: 10, [batch: 2688 / 6720], examples_per_second: 3011.8773, train_label_loss: 0.4997, \n"
     ]
    },
    {
     "name": "stdout",
     "output_type": "stream",
     "text": [
      "epoch: 10, [batch: 3360 / 6720], examples_per_second: 2979.7791, train_label_loss: 0.4525, \n"
     ]
    },
    {
     "name": "stdout",
     "output_type": "stream",
     "text": [
      "epoch: 10, [batch: 4032 / 6720], examples_per_second: 3269.0709, train_label_loss: 0.1776, \n"
     ]
    },
    {
     "name": "stdout",
     "output_type": "stream",
     "text": [
      "epoch: 10, [batch: 4704 / 6720], examples_per_second: 3387.7503, train_label_loss: 0.1434, \n"
     ]
    },
    {
     "name": "stdout",
     "output_type": "stream",
     "text": [
      "epoch: 10, [batch: 5376 / 6720], examples_per_second: 3461.1771, train_label_loss: 0.2296, \n"
     ]
    },
    {
     "name": "stdout",
     "output_type": "stream",
     "text": [
      "epoch: 10, [batch: 6048 / 6720], examples_per_second: 2995.1534, train_label_loss: 0.3406, \n"
     ]
    },
    {
     "name": "stdout",
     "output_type": "stream",
     "text": [
      "=============================================================\n",
      "epoch: 10, source_val_acc_label: 0.5984, target_val_acc_label: 0.9617, source_val_label_loss: 1.4679, target_val_label_loss: 0.3374, \n",
      "=============================================================\n"
     ]
    },
    {
     "name": "stdout",
     "output_type": "stream",
     "text": [
      "epoch: 11, [batch: 1 / 6720], examples_per_second: 2.8552, train_label_loss: 0.1255, \n"
     ]
    },
    {
     "name": "stdout",
     "output_type": "stream",
     "text": [
      "epoch: 11, [batch: 672 / 6720], examples_per_second: 3017.7482, train_label_loss: 0.2073, \n"
     ]
    },
    {
     "name": "stdout",
     "output_type": "stream",
     "text": [
      "epoch: 11, [batch: 1344 / 6720], examples_per_second: 2950.8205, train_label_loss: 0.4402, \n"
     ]
    },
    {
     "name": "stdout",
     "output_type": "stream",
     "text": [
      "epoch: 11, [batch: 2016 / 6720], examples_per_second: 3005.5106, train_label_loss: 0.1034, \n"
     ]
    },
    {
     "name": "stdout",
     "output_type": "stream",
     "text": [
      "epoch: 11, [batch: 2688 / 6720], examples_per_second: 2979.0457, train_label_loss: 0.3074, \n"
     ]
    },
    {
     "name": "stdout",
     "output_type": "stream",
     "text": [
      "epoch: 11, [batch: 3360 / 6720], examples_per_second: 2949.5499, train_label_loss: 0.2199, \n"
     ]
    },
    {
     "name": "stdout",
     "output_type": "stream",
     "text": [
      "epoch: 11, [batch: 4032 / 6720], examples_per_second: 3236.0837, train_label_loss: 0.4393, \n"
     ]
    },
    {
     "name": "stdout",
     "output_type": "stream",
     "text": [
      "epoch: 11, [batch: 4704 / 6720], examples_per_second: 3403.9912, train_label_loss: 0.2034, \n"
     ]
    },
    {
     "name": "stdout",
     "output_type": "stream",
     "text": [
      "epoch: 11, [batch: 5376 / 6720], examples_per_second: 3505.1662, train_label_loss: 0.1323, \n"
     ]
    },
    {
     "name": "stdout",
     "output_type": "stream",
     "text": [
      "epoch: 11, [batch: 6048 / 6720], examples_per_second: 3027.0386, train_label_loss: 0.2522, \n"
     ]
    },
    {
     "name": "stdout",
     "output_type": "stream",
     "text": [
      "=============================================================\n",
      "epoch: 11, source_val_acc_label: 0.5934, target_val_acc_label: 0.9624, source_val_label_loss: 1.5631, target_val_label_loss: 0.3457, \n",
      "=============================================================\n"
     ]
    },
    {
     "name": "stdout",
     "output_type": "stream",
     "text": [
      "Patience (3) exhausted\n"
     ]
    }
   ],
   "source": [
    "###################################\n",
    "# train\n",
    "###################################\n",
    "jig = PTN_Train_Eval_Test_Jig(model, p.BEST_MODEL_PATH, p.device)\n",
    "\n",
    "jig.train(\n",
    "    train_iterable=datasets.source.processed.train,\n",
    "    source_val_iterable=datasets.source.processed.val,\n",
    "    target_val_iterable=datasets.target.processed.val,\n",
    "    num_epochs=p.n_epoch,\n",
    "    num_logs_per_epoch=p.NUM_LOGS_PER_EPOCH,\n",
    "    patience=p.patience,\n",
    "    optimizer=optimizer,\n",
    "    criteria_for_best=p.criteria_for_best,\n",
    ")"
   ]
  },
  {
   "cell_type": "code",
   "execution_count": 23,
   "id": "31e8fabf",
   "metadata": {
    "execution": {
     "iopub.execute_input": "2022-03-22T16:08:41.652248Z",
     "iopub.status.busy": "2022-03-22T16:08:41.651890Z",
     "iopub.status.idle": "2022-03-22T16:08:41.684079Z",
     "shell.execute_reply": "2022-03-22T16:08:41.684741Z"
    },
    "papermill": {
     "duration": 0.092861,
     "end_time": "2022-03-22T16:08:41.684927",
     "exception": false,
     "start_time": "2022-03-22T16:08:41.592066",
     "status": "completed"
    },
    "tags": []
   },
   "outputs": [],
   "source": [
    "total_experiment_time_secs = time.time() - start_time_secs"
   ]
  },
  {
   "cell_type": "code",
   "execution_count": 24,
   "id": "87b9595b",
   "metadata": {
    "execution": {
     "iopub.execute_input": "2022-03-22T16:08:41.811342Z",
     "iopub.status.busy": "2022-03-22T16:08:41.810749Z",
     "iopub.status.idle": "2022-03-22T16:12:08.491650Z",
     "shell.execute_reply": "2022-03-22T16:12:08.490851Z"
    },
    "papermill": {
     "duration": 206.745713,
     "end_time": "2022-03-22T16:12:08.491833",
     "exception": false,
     "start_time": "2022-03-22T16:08:41.746120",
     "status": "completed"
    },
    "tags": []
   },
   "outputs": [],
   "source": [
    "###################################\n",
    "# Evaluate the model\n",
    "###################################\n",
    "source_test_label_accuracy, source_test_label_loss = jig.test(datasets.source.processed.test)\n",
    "target_test_label_accuracy, target_test_label_loss = jig.test(datasets.target.processed.test)\n",
    "\n",
    "source_val_label_accuracy, source_val_label_loss = jig.test(datasets.source.processed.val)\n",
    "target_val_label_accuracy, target_val_label_loss = jig.test(datasets.target.processed.val)\n",
    "\n",
    "history = jig.get_history()\n",
    "\n",
    "total_epochs_trained = len(history[\"epoch_indices\"])\n",
    "\n",
    "val_dl = Iterable_Aggregator((datasets.source.original.val,datasets.target.original.val))\n",
    "\n",
    "confusion = ptn_confusion_by_domain_over_dataloader(model, p.device, val_dl)\n",
    "per_domain_accuracy = per_domain_accuracy_from_confusion(confusion)\n",
    "\n",
    "# Add a key to per_domain_accuracy for if it was a source domain\n",
    "for domain, accuracy in per_domain_accuracy.items():\n",
    "    per_domain_accuracy[domain] = {\n",
    "        \"accuracy\": accuracy,\n",
    "        \"source?\": domain in p.domains_source\n",
    "    }\n",
    "\n",
    "# Do an independent accuracy assesment JUST TO BE SURE!\n",
    "# _source_test_label_accuracy = independent_accuracy_assesment(model, datasets.source.processed.test, p.device)\n",
    "# _target_test_label_accuracy = independent_accuracy_assesment(model, datasets.target.processed.test, p.device)\n",
    "# _source_val_label_accuracy = independent_accuracy_assesment(model, datasets.source.processed.val, p.device)\n",
    "# _target_val_label_accuracy = independent_accuracy_assesment(model, datasets.target.processed.val, p.device)\n",
    "\n",
    "# assert(_source_test_label_accuracy == source_test_label_accuracy)\n",
    "# assert(_target_test_label_accuracy == target_test_label_accuracy)\n",
    "# assert(_source_val_label_accuracy == source_val_label_accuracy)\n",
    "# assert(_target_val_label_accuracy == target_val_label_accuracy)\n",
    "\n",
    "experiment = {\n",
    "    \"experiment_name\": p.experiment_name,\n",
    "    \"parameters\": dict(p),\n",
    "    \"results\": {\n",
    "        \"source_test_label_accuracy\": source_test_label_accuracy,\n",
    "        \"source_test_label_loss\": source_test_label_loss,\n",
    "        \"target_test_label_accuracy\": target_test_label_accuracy,\n",
    "        \"target_test_label_loss\": target_test_label_loss,\n",
    "        \"source_val_label_accuracy\": source_val_label_accuracy,\n",
    "        \"source_val_label_loss\": source_val_label_loss,\n",
    "        \"target_val_label_accuracy\": target_val_label_accuracy,\n",
    "        \"target_val_label_loss\": target_val_label_loss,\n",
    "        \"total_epochs_trained\": total_epochs_trained,\n",
    "        \"total_experiment_time_secs\": total_experiment_time_secs,\n",
    "        \"confusion\": confusion,\n",
    "        \"per_domain_accuracy\": per_domain_accuracy,\n",
    "    },\n",
    "    \"history\": history,\n",
    "    \"dataset_metrics\": get_dataset_metrics(datasets, \"ptn\"),\n",
    "}"
   ]
  },
  {
   "cell_type": "code",
   "execution_count": 25,
   "id": "54a21829",
   "metadata": {
    "execution": {
     "iopub.execute_input": "2022-03-22T16:12:08.615564Z",
     "iopub.status.busy": "2022-03-22T16:12:08.614700Z",
     "iopub.status.idle": "2022-03-22T16:12:08.846168Z",
     "shell.execute_reply": "2022-03-22T16:12:08.846871Z"
    },
    "papermill": {
     "duration": 0.292458,
     "end_time": "2022-03-22T16:12:08.847104",
     "exception": false,
     "start_time": "2022-03-22T16:12:08.554646",
     "status": "completed"
    },
    "tags": []
   },
   "outputs": [
    {
     "data": {
      "image/png": "[encoded data removed]",
      "text/plain": [
       "<Figure size 1080x504 with 1 Axes>"
      ]
     },
     "metadata": {
      "needs_background": "light"
     },
     "output_type": "display_data"
    }
   ],
   "source": [
    "ax = get_loss_curve(experiment)\n",
    "plt.show()"
   ]
  },
  {
   "cell_type": "code",
   "execution_count": 26,
   "id": "fd8a0f60",
   "metadata": {
    "execution": {
     "iopub.execute_input": "2022-03-22T16:12:08.977386Z",
     "iopub.status.busy": "2022-03-22T16:12:08.976539Z",
     "iopub.status.idle": "2022-03-22T16:12:09.294118Z",
     "shell.execute_reply": "2022-03-22T16:12:09.294797Z"
    },
    "papermill": {
     "duration": 0.382547,
     "end_time": "2022-03-22T16:12:09.295023",
     "exception": false,
     "start_time": "2022-03-22T16:12:08.912476",
     "status": "completed"
    },
    "tags": []
   },
   "outputs": [
    {
     "data": {
      "text/plain": [
       "<AxesSubplot:title={'center':'Results'}>"
      ]
     },
     "execution_count": 26,
     "metadata": {},
     "output_type": "execute_result"
    },
    {
     "data": {
      "image/png": "[encoded data removed]",
      "text/plain": [
       "<Figure size 1080x504 with 1 Axes>"
      ]
     },
     "metadata": {
      "needs_background": "light"
     },
     "output_type": "display_data"
    }
   ],
   "source": [
    "get_results_table(experiment)"
   ]
  },
  {
   "cell_type": "code",
   "execution_count": 27,
   "id": "cf8dc689",
   "metadata": {
    "execution": {
     "iopub.execute_input": "2022-03-22T16:12:09.428693Z",
     "iopub.status.busy": "2022-03-22T16:12:09.428168Z",
     "iopub.status.idle": "2022-03-22T16:12:09.687201Z",
     "shell.execute_reply": "2022-03-22T16:12:09.686370Z"
    },
    "papermill": {
     "duration": 0.323628,
     "end_time": "2022-03-22T16:12:09.687381",
     "exception": false,
     "start_time": "2022-03-22T16:12:09.363753",
     "status": "completed"
    },
    "tags": []
   },
   "outputs": [
    {
     "data": {
      "text/plain": [
       "<AxesSubplot:title={'center':'Per Domain Validation Accuracy'}, xlabel='domain'>"
      ]
     },
     "execution_count": 27,
     "metadata": {},
     "output_type": "execute_result"
    },
    {
     "data": {
      "image/png": "[encoded data removed]",
      "text/plain": [
       "<Figure size 1080x504 with 1 Axes>"
      ]
     },
     "metadata": {
      "needs_background": "light"
     },
     "output_type": "display_data"
    }
   ],
   "source": [
    "get_domain_accuracies(experiment)"
   ]
  },
  {
   "cell_type": "code",
   "execution_count": 28,
   "id": "a74ae082",
   "metadata": {
    "execution": {
     "iopub.execute_input": "2022-03-22T16:12:09.823751Z",
     "iopub.status.busy": "2022-03-22T16:12:09.823365Z",
     "iopub.status.idle": "2022-03-22T16:12:09.851163Z",
     "shell.execute_reply": "2022-03-22T16:12:09.850443Z"
    },
    "papermill": {
     "duration": 0.095626,
     "end_time": "2022-03-22T16:12:09.851334",
     "exception": false,
     "start_time": "2022-03-22T16:12:09.755708",
     "status": "completed"
    },
    "tags": []
   },
   "outputs": [
    {
     "name": "stdout",
     "output_type": "stream",
     "text": [
      "Source Test Label Accuracy: 0.6064453125 Target Test Label Accuracy: 0.9635593220338983\n",
      "Source Val Label Accuracy: 0.6034505208333333 Target Val Label Accuracy: 0.9660357142857143\n"
     ]
    }
   ],
   "source": [
    "print(\"Source Test Label Accuracy:\", experiment[\"results\"][\"source_test_label_accuracy\"], \"Target Test Label Accuracy:\", experiment[\"results\"][\"target_test_label_accuracy\"])\n",
    "print(\"Source Val Label Accuracy:\", experiment[\"results\"][\"source_val_label_accuracy\"], \"Target Val Label Accuracy:\", experiment[\"results\"][\"target_val_label_accuracy\"])"
   ]
  },
  {
   "cell_type": "code",
   "execution_count": 29,
   "id": "dacca602",
   "metadata": {
    "execution": {
     "iopub.execute_input": "2022-03-22T16:12:09.989321Z",
     "iopub.status.busy": "2022-03-22T16:12:09.988954Z",
     "iopub.status.idle": "2022-03-22T16:12:10.016326Z",
     "shell.execute_reply": "2022-03-22T16:12:10.017013Z"
    },
    "papermill": {
     "duration": 0.095151,
     "end_time": "2022-03-22T16:12:10.017227",
     "exception": false,
     "start_time": "2022-03-22T16:12:09.922076",
     "status": "completed"
    },
    "tags": [
     "experiment_json"
    ]
   },
   "outputs": [
    {
     "data": {
      "text/plain": [
       "'{\"experiment_name\": \"tl_1v2:cores-oracle.run1.limited\", \"parameters\": {\"experiment_name\": \"tl_1v2:cores-oracle.run1.limited\", \"device\": \"cuda\", \"lr\": 0.0001, \"n_shot\": 3, \"n_query\": 2, \"train_k_factor\": 3, \"val_k_factor\": 2, \"test_k_factor\": 2, \"torch_default_dtype\": \"torch.float32\", \"n_epoch\": 50, \"patience\": 3, \"criteria_for_best\": \"target_accuracy\", \"x_net\": [{\"class\": \"nnReshape\", \"kargs\": {\"shape\": [-1, 1, 2, 256]}}, {\"class\": \"Conv2d\", \"kargs\": {\"in_channels\": 1, \"out_channels\": 256, \"kernel_size\": [1, 7], \"bias\": false, \"padding\": [0, 3]}}, {\"class\": \"ReLU\", \"kargs\": {\"inplace\": true}}, {\"class\": \"BatchNorm2d\", \"kargs\": {\"num_features\": 256}}, {\"class\": \"Conv2d\", \"kargs\": {\"in_channels\": 256, \"out_channels\": 80, \"kernel_size\": [2, 7], \"bias\": true, \"padding\": [0, 3]}}, {\"class\": \"ReLU\", \"kargs\": {\"inplace\": true}}, {\"class\": \"BatchNorm2d\", \"kargs\": {\"num_features\": 80}}, {\"class\": \"Flatten\", \"kargs\": {}}, {\"class\": \"Linear\", \"kargs\": {\"in_features\": 20480, \"out_features\": 256}}, {\"class\": \"ReLU\", \"kargs\": {\"inplace\": true}}, {\"class\": \"BatchNorm1d\", \"kargs\": {\"num_features\": 256}}, {\"class\": \"Linear\", \"kargs\": {\"in_features\": 256, \"out_features\": 256}}], \"NUM_LOGS_PER_EPOCH\": 10, \"BEST_MODEL_PATH\": \"./best_model.pth\", \"n_way\": 16, \"datasets\": [{\"labels\": [\"1-10.\", \"1-11.\", \"1-15.\", \"1-16.\", \"1-17.\", \"1-18.\", \"1-19.\", \"10-4.\", \"10-7.\", \"11-1.\", \"11-14.\", \"11-17.\", \"11-20.\", \"11-7.\", \"13-20.\", \"13-8.\", \"14-10.\", \"14-11.\", \"14-14.\", \"14-7.\", \"15-1.\", \"15-20.\", \"16-1.\", \"16-16.\", \"17-10.\", \"17-11.\", \"17-2.\", \"19-1.\", \"19-16.\", \"19-19.\", \"19-20.\", \"19-3.\", \"2-10.\", \"2-11.\", \"2-17.\", \"2-18.\", \"2-20.\", \"2-3.\", \"2-4.\", \"2-5.\", \"2-6.\", \"2-7.\", \"2-8.\", \"3-13.\", \"3-18.\", \"3-3.\", \"4-1.\", \"4-10.\", \"4-11.\", \"4-19.\", \"5-5.\", \"6-15.\", \"7-10.\", \"7-14.\", \"8-18.\", \"8-20.\", \"8-3.\", \"8-8.\"], \"domains\": [1, 2, 3, 4, 5], \"num_examples_per_domain_per_label\": -1, \"pickle_path\": \"/root/csc500-main/datasets/cores.stratified_ds.2022A.pkl\", \"source_or_target_dataset\": \"target\", \"x_transforms\": [\"unit_mag\"], \"episode_transforms\": [], \"domain_prefix\": \"CORES_\"}, {\"labels\": [\"3123D52\", \"3123D65\", \"3123D79\", \"3123D80\", \"3123D54\", \"3123D70\", \"3123D7B\", \"3123D89\", \"3123D58\", \"3123D76\", \"3123D7D\", \"3123EFE\", \"3123D64\", \"3123D78\", \"3123D7E\", \"3124E4A\"], \"domains\": [32, 38, 8, 44, 14, 50, 20, 26], \"num_examples_per_domain_per_label\": 2000, \"pickle_path\": \"/root/csc500-main/datasets/oracle.Run1_10kExamples_stratified_ds.2022A.pkl\", \"source_or_target_dataset\": \"source\", \"x_transforms\": [\"unit_mag\"], \"episode_transforms\": [], \"domain_prefix\": \"ORACLE.run1_\"}], \"dataset_seed\": 7, \"seed\": 7, \"x_shape\": [2, 256], \"domains_source\": [\"ORACLE.run1_32\", \"ORACLE.run1_38\", \"ORACLE.run1_8\", \"ORACLE.run1_44\", \"ORACLE.run1_14\", \"ORACLE.run1_50\", \"ORACLE.run1_20\", \"ORACLE.run1_26\"], \"domains_target\": [\"CORES_1\", \"CORES_2\", \"CORES_3\", \"CORES_4\", \"CORES_5\"]}, \"results\": {\"source_test_label_accuracy\": 0.6064453125, \"source_test_label_loss\": 1.2457280158996582, \"target_test_label_accuracy\": 0.9635593220338983, \"target_test_label_loss\": 0.33439239859580994, \"source_val_label_accuracy\": 0.6034505208333333, \"source_val_label_loss\": 1.2511805295944214, \"target_val_label_accuracy\": 0.9660357142857143, \"target_val_label_loss\": 0.24377815425395966, \"total_epochs_trained\": 11, \"total_experiment_time_secs\": 2282.6760065555573, \"confusion\": {\"ORACLE.run1_26\": {\"0\": {\"1\": 21, \"0\": 61, \"4\": 25, \"10\": 51, \"14\": 38, \"8\": 27, \"7\": 7, \"9\": 2, \"6\": 6, \"15\": 2}, \"4\": {\"3\": 2, \"4\": 69, \"0\": 24, \"7\": 33, \"14\": 34, \"1\": 40, \"10\": 15, \"8\": 21, \"9\": 1, \"15\": 1}, \"14\": {\"14\": 62, \"1\": 56, \"0\": 40, \"4\": 35, \"10\": 23, \"9\": 1, \"3\": 1, \"7\": 8, \"8\": 13, \"6\": 1}, \"12\": {\"12\": 236, \"11\": 4}, \"8\": {\"8\": 60, \"6\": 20, \"9\": 37, \"15\": 11, \"0\": 17, \"2\": 3, \"7\": 20, \"4\": 22, \"14\": 13, \"10\": 30, \"3\": 3, \"5\": 3, \"1\": 1}, \"7\": {\"7\": 98, \"2\": 37, \"3\": 41, \"0\": 3, \"8\": 13, \"4\": 23, \"15\": 6, \"5\": 1, \"1\": 10, \"9\": 3, \"14\": 4, \"10\": 1}, \"13\": {\"13\": 159, \"5\": 50, \"15\": 12, \"9\": 9, \"6\": 7, \"2\": 2, \"3\": 1}, \"5\": {\"9\": 30, \"5\": 90, \"13\": 34, \"15\": 49, \"6\": 7, \"8\": 6, \"2\": 17, \"10\": 2, \"7\": 3, \"3\": 1, \"4\": 1}, \"15\": {\"9\": 53, \"5\": 53, \"6\": 11, \"15\": 52, \"2\": 21, \"13\": 20, \"7\": 9, \"4\": 3, \"8\": 12, \"14\": 1, \"3\": 4, \"10\": 1}, \"10\": {\"8\": 46, \"4\": 10, \"0\": 49, \"10\": 67, \"6\": 27, \"1\": 14, \"5\": 1, \"14\": 16, \"15\": 1, \"7\": 3, \"9\": 6}, \"3\": {\"3\": 133, \"2\": 50, \"7\": 50, \"15\": 1, \"5\": 2, \"14\": 1, \"4\": 2, \"8\": 1}, \"9\": {\"6\": 40, \"15\": 45, \"9\": 67, \"5\": 37, \"8\": 25, \"13\": 8, \"10\": 8, \"2\": 6, \"0\": 2, \"3\": 1, \"4\": 1}, \"6\": {\"6\": 146, \"5\": 11, \"10\": 25, \"9\": 27, \"8\": 9, \"13\": 8, \"15\": 10, \"0\": 4}, \"1\": {\"1\": 88, \"14\": 70, \"10\": 10, \"0\": 27, \"4\": 32, \"8\": 5, \"3\": 1, \"7\": 7}, \"11\": {\"11\": 230, \"12\": 10}, \"2\": {\"15\": 17, \"7\": 39, \"2\": 74, \"3\": 67, \"8\": 13, \"9\": 12, \"5\": 11, \"13\": 6, \"4\": 1}}, \"ORACLE.run1_44\": {\"1\": {\"10\": 22, \"1\": 121, \"12\": 46, \"3\": 36, \"7\": 5, \"2\": 10}, \"11\": {\"6\": 23, \"11\": 192, \"13\": 25}, \"3\": {\"1\": 36, \"3\": 192, \"7\": 2, \"12\": 9, \"2\": 1}, \"6\": {\"6\": 155, \"9\": 23, \"13\": 42, \"11\": 13, \"7\": 6, \"2\": 1}, \"7\": {\"7\": 160, \"9\": 33, \"2\": 40, \"13\": 2, \"3\": 1, \"6\": 4}, \"5\": {\"5\": 193, \"0\": 22, \"15\": 10, \"14\": 9, \"8\": 6}, \"2\": {\"2\": 165, \"10\": 21, \"7\": 35, \"3\": 4, \"1\": 11, \"6\": 2, \"9\": 2}, \"15\": {\"15\": 180, \"14\": 26, \"5\": 13, \"0\": 19, \"8\": 2}, \"10\": {\"10\": 167, \"2\": 26, \"12\": 27, \"1\": 20}, \"13\": {\"13\": 136, \"11\": 21, \"6\": 52, \"7\": 2, \"4\": 2, \"9\": 27}, \"8\": {\"0\": 76, \"8\": 150, \"15\": 13, \"5\": 1}, \"4\": {\"4\": 171, \"13\": 3, \"14\": 65, \"5\": 1}, \"9\": {\"9\": 126, \"6\": 26, \"7\": 61, \"2\": 4, \"13\": 23}, \"14\": {\"14\": 135, \"4\": 78, \"15\": 20, \"5\": 7}, \"0\": {\"0\": 138, \"8\": 66, \"15\": 22, \"5\": 14}, \"12\": {\"12\": 146, \"1\": 66, \"2\": 2, \"10\": 20, \"3\": 6}}, \"ORACLE.run1_50\": {\"15\": {\"1\": 48, \"4\": 30, \"15\": 153, \"11\": 6, \"6\": 2, \"14\": 1}, \"4\": {\"4\": 85, \"5\": 17, \"15\": 54, \"6\": 37, \"1\": 40, \"13\": 6, \"7\": 1}, \"6\": {\"4\": 49, \"13\": 16, \"6\": 107, \"1\": 38, \"5\": 25, \"7\": 1, \"0\": 1, \"2\": 2, \"15\": 1}, \"2\": {\"0\": 27, \"2\": 213}, \"5\": {\"13\": 48, \"7\": 57, \"6\": 47, \"5\": 58, \"4\": 23, \"1\": 5, \"10\": 2}, \"9\": {\"9\": 172, \"11\": 45, \"12\": 20, \"14\": 3}, \"8\": {\"8\": 222, \"10\": 13, \"3\": 5}, \"12\": {\"12\": 200, \"9\": 24, \"14\": 15, \"11\": 1}, \"10\": {\"10\": 197, \"0\": 16, \"7\": 11, \"8\": 5, \"13\": 10, \"5\": 1}, \"1\": {\"15\": 47, \"1\": 110, \"6\": 46, \"4\": 36, \"11\": 1}, \"0\": {\"0\": 196, \"2\": 27, \"10\": 12, \"6\": 2, \"13\": 3}, \"3\": {\"3\": 232, \"8\": 8}, \"13\": {\"13\": 100, \"7\": 57, \"5\": 60, \"10\": 5, \"0\": 1, \"6\": 17}, \"11\": {\"11\": 191, \"9\": 32, \"14\": 5, \"15\": 8, \"12\": 3, \"1\": 1}, \"7\": {\"13\": 55, \"7\": 136, \"5\": 35, \"10\": 14}, \"14\": {\"14\": 225, \"12\": 8, \"15\": 1, \"11\": 5, \"9\": 1}}, \"ORACLE.run1_38\": {\"15\": {\"15\": 140, \"13\": 64, \"1\": 18, \"5\": 7, \"8\": 8, \"10\": 3}, \"11\": {\"11\": 168, \"12\": 4, \"14\": 68}, \"10\": {\"10\": 158, \"13\": 25, \"12\": 32, \"14\": 5, \"8\": 7, \"15\": 3, \"11\": 1, \"4\": 2, \"0\": 6, \"5\": 1}, \"14\": {\"2\": 21, \"14\": 157, \"11\": 54, \"10\": 5, \"12\": 1, \"13\": 2}, \"6\": {\"6\": 163, \"1\": 1, \"9\": 72, \"5\": 4}, \"4\": {\"4\": 217, \"10\": 1, \"12\": 21, \"0\": 1}, \"13\": {\"13\": 139, \"15\": 72, \"10\": 16, \"2\": 9, \"8\": 1, \"1\": 3}, \"3\": {\"7\": 15, \"3\": 190, \"6\": 4, \"0\": 4, \"9\": 24, \"5\": 3}, \"7\": {\"0\": 55, \"7\": 158, \"5\": 13, \"8\": 6, \"3\": 7, \"10\": 1}, \"8\": {\"5\": 63, \"0\": 35, \"8\": 122, \"1\": 1, \"13\": 3, \"15\": 3, \"10\": 6, \"7\": 7}, \"1\": {\"15\": 16, \"1\": 220, \"13\": 2, \"5\": 1, \"8\": 1}, \"5\": {\"8\": 74, \"5\": 87, \"1\": 4, \"6\": 4, \"0\": 37, \"7\": 9, \"3\": 6, \"15\": 13, \"9\": 4, \"10\": 2}, \"0\": {\"8\": 46, \"0\": 62, \"5\": 48, \"7\": 62, \"3\": 16, \"9\": 1, \"6\": 1, \"12\": 2, \"10\": 2}, \"2\": {\"2\": 212, \"13\": 5, \"14\": 21, \"11\": 1, \"10\": 1}, \"12\": {\"12\": 189, \"4\": 21, \"10\": 28, \"11\": 1, \"0\": 1}, \"9\": {\"6\": 94, \"5\": 2, \"9\": 130, \"3\": 14}}, \"ORACLE.run1_20\": {\"10\": {\"4\": 20, \"10\": 130, \"8\": 27, \"14\": 58, \"6\": 3, \"7\": 2}, \"7\": {\"7\": 122, \"8\": 25, \"4\": 5, \"3\": 9, \"13\": 6, \"6\": 9, \"9\": 27, \"2\": 30, \"14\": 3, \"12\": 4}, \"4\": {\"4\": 147, \"8\": 47, \"10\": 16, \"14\": 2, \"3\": 14, \"12\": 6, \"0\": 2, \"7\": 1, \"9\": 2, \"5\": 2, \"6\": 1}, \"13\": {\"13\": 192, \"2\": 12, \"15\": 18, \"1\": 3, \"9\": 11, \"7\": 2, \"12\": 2}, \"1\": {\"1\": 49, \"0\": 48, \"15\": 54, \"5\": 43, \"12\": 21, \"3\": 8, \"4\": 5, \"13\": 4, \"2\": 5, \"9\": 3}, \"0\": {\"1\": 46, \"0\": 56, \"5\": 53, \"9\": 8, \"15\": 39, \"2\": 6, \"3\": 16, \"4\": 3, \"12\": 13}, \"12\": {\"0\": 20, \"3\": 43, \"12\": 48, \"5\": 27, \"2\": 19, \"15\": 9, \"1\": 28, \"9\": 21, \"8\": 2, \"7\": 5, \"4\": 12, \"13\": 6}, \"5\": {\"5\": 61, \"1\": 38, \"12\": 33, \"3\": 21, \"0\": 48, \"9\": 5, \"2\": 6, \"15\": 24, \"4\": 2, \"13\": 2}, \"6\": {\"14\": 35, \"6\": 191, \"8\": 3, \"7\": 6, \"10\": 5}, \"2\": {\"9\": 49, \"7\": 39, \"0\": 2, \"12\": 12, \"13\": 26, \"2\": 71, \"3\": 26, \"8\": 5, \"5\": 1, \"1\": 8, \"6\": 1}, \"8\": {\"10\": 38, \"8\": 95, \"3\": 9, \"7\": 28, \"2\": 4, \"4\": 42, \"14\": 14, \"9\": 4, \"6\": 6}, \"11\": {\"11\": 238, \"7\": 2}, \"9\": {\"3\": 35, \"7\": 22, \"0\": 3, \"12\": 38, \"9\": 54, \"2\": 50, \"13\": 10, \"15\": 7, \"4\": 5, \"5\": 6, \"1\": 3, \"8\": 7}, \"14\": {\"14\": 137, \"6\": 34, \"10\": 67, \"8\": 1, \"4\": 1}, \"15\": {\"0\": 32, \"1\": 45, \"15\": 106, \"9\": 6, \"5\": 12, \"13\": 16, \"12\": 12, \"3\": 4, \"2\": 7}, \"3\": {\"12\": 41, \"2\": 20, \"0\": 8, \"7\": 9, \"1\": 2, \"3\": 64, \"4\": 25, \"8\": 17, \"9\": 35, \"5\": 16, \"13\": 1, \"15\": 2}}, \"ORACLE.run1_14\": {\"14\": {\"14\": 145, \"13\": 31, \"6\": 27, \"2\": 16, \"3\": 16, \"4\": 5}, \"0\": {\"0\": 162, \"10\": 63, \"11\": 9, \"3\": 6}, \"4\": {\"4\": 107, \"2\": 33, \"3\": 50, \"5\": 44, \"14\": 3, \"1\": 3}, \"11\": {\"11\": 195, \"0\": 8, \"10\": 25, \"9\": 12}, \"13\": {\"6\": 81, \"14\": 48, \"13\": 73, \"2\": 32, \"10\": 2, \"3\": 1, \"5\": 2, \"4\": 1}, \"9\": {\"9\": 232, \"12\": 4, \"11\": 4}, \"3\": {\"2\": 6, \"4\": 43, \"3\": 166, \"14\": 17, \"13\": 1, \"5\": 1, \"0\": 6}, \"6\": {\"13\": 69, \"6\": 108, \"14\": 32, \"2\": 31}, \"1\": {\"1\": 193, \"5\": 33, \"7\": 7, \"4\": 7}, \"5\": {\"5\": 124, \"4\": 51, \"1\": 39, \"7\": 8, \"3\": 5, \"2\": 12, \"15\": 1}, \"12\": {\"12\": 236, \"9\": 4}, \"10\": {\"10\": 187, \"0\": 48, \"14\": 1, \"11\": 4}, \"8\": {\"8\": 239, \"1\": 1}, \"7\": {\"1\": 4, \"7\": 209, \"15\": 26, \"5\": 1}, \"15\": {\"7\": 27, \"15\": 212, \"2\": 1}, \"2\": {\"13\": 16, \"2\": 118, \"6\": 20, \"14\": 23, \"1\": 1, \"5\": 24, \"4\": 25, \"3\": 8, \"15\": 5}}, \"ORACLE.run1_32\": {\"11\": {\"11\": 158, \"13\": 3, \"14\": 56, \"7\": 10, \"3\": 9, \"5\": 4}, \"1\": {\"1\": 234, \"10\": 6}, \"2\": {\"2\": 175, \"4\": 46, \"7\": 4, \"0\": 14, \"14\": 1}, \"0\": {\"0\": 115, \"2\": 25, \"4\": 48, \"13\": 8, \"8\": 18, \"5\": 19, \"7\": 7}, \"3\": {\"3\": 221, \"11\": 3, \"8\": 5, \"13\": 4, \"5\": 5, \"14\": 2}, \"8\": {\"8\": 164, \"13\": 25, \"5\": 22, \"14\": 1, \"0\": 20, \"3\": 6, \"4\": 1, \"7\": 1}, \"12\": {\"12\": 239, \"9\": 1}, \"5\": {\"5\": 67, \"0\": 25, \"3\": 15, \"11\": 5, \"4\": 20, \"13\": 56, \"8\": 20, \"14\": 10, \"7\": 22}, \"15\": {\"15\": 237, \"8\": 2, \"3\": 1}, \"7\": {\"7\": 80, \"11\": 15, \"4\": 41, \"5\": 26, \"2\": 15, \"13\": 12, \"14\": 40, \"0\": 11}, \"4\": {\"0\": 46, \"7\": 44, \"4\": 85, \"2\": 45, \"5\": 9, \"13\": 7, \"14\": 4}, \"14\": {\"4\": 8, \"11\": 77, \"3\": 7, \"7\": 44, \"14\": 68, \"5\": 14, \"13\": 18, \"2\": 1, \"0\": 2, \"8\": 1}, \"10\": {\"10\": 236, \"1\": 4}, \"6\": {\"6\": 240}, \"13\": {\"14\": 5, \"3\": 24, \"0\": 11, \"5\": 53, \"13\": 71, \"8\": 33, \"4\": 15, \"11\": 6, \"7\": 22}, \"9\": {\"9\": 238, \"12\": 2}}, \"ORACLE.run1_8\": {\"9\": {\"9\": 240}, \"11\": {\"14\": 5, \"1\": 110, \"11\": 104, \"5\": 11, \"6\": 1, \"8\": 4, \"4\": 5}, \"8\": {\"8\": 209, \"7\": 2, \"15\": 22, \"6\": 5, \"12\": 2}, \"4\": {\"4\": 78, \"10\": 11, \"1\": 4, \"14\": 47, \"13\": 45, \"0\": 16, \"6\": 34, \"7\": 5}, \"13\": {\"13\": 63, \"6\": 15, \"14\": 22, \"4\": 37, \"0\": 62, \"10\": 34, \"7\": 4, \"1\": 3}, \"14\": {\"10\": 58, \"1\": 15, \"14\": 75, \"13\": 28, \"4\": 45, \"11\": 10, \"6\": 3, \"0\": 2, \"5\": 4}, \"2\": {\"2\": 178, \"15\": 15, \"3\": 38, \"7\": 2, \"12\": 6, \"8\": 1}, \"3\": {\"3\": 150, \"2\": 49, \"12\": 30, \"15\": 11}, \"1\": {\"8\": 1, \"5\": 12, \"1\": 124, \"11\": 72, \"14\": 22, \"10\": 5, \"4\": 4}, \"0\": {\"7\": 22, \"0\": 114, \"13\": 53, \"10\": 5, \"6\": 24, \"14\": 4, \"4\": 18}, \"5\": {\"5\": 183, \"10\": 27, \"1\": 16, \"14\": 9, \"11\": 5}, \"15\": {\"15\": 129, \"2\": 10, \"12\": 66, \"8\": 25, \"3\": 9, \"7\": 1}, \"10\": {\"13\": 22, \"10\": 120, \"5\": 12, \"14\": 53, \"11\": 1, \"4\": 23, \"6\": 1, \"1\": 5, \"0\": 3}, \"12\": {\"12\": 98, \"15\": 81, \"8\": 9, \"3\": 47, \"2\": 5}, \"6\": {\"6\": 104, \"7\": 69, \"13\": 9, \"0\": 23, \"8\": 7, \"4\": 21, \"14\": 6, \"1\": 1}, \"7\": {\"7\": 146, \"6\": 62, \"0\": 20, \"13\": 3, \"15\": 1, \"4\": 3, \"8\": 3, \"2\": 2}}, \"CORES_5\": {\"26\": {\"26\": 24}, \"7\": {\"7\": 32}, \"56\": {\"56\": 140, \"35\": 2}, \"36\": {\"36\": 91, \"14\": 1}, \"47\": {\"47\": 94, \"57\": 1, \"3\": 5}, \"2\": {\"2\": 28}, \"15\": {\"15\": 150, \"11\": 1, \"43\": 1}, \"14\": {\"36\": 4, \"49\": 4, \"33\": 2, \"14\": 14, \"24\": 2, \"28\": 4, \"57\": 2, \"22\": 1, \"47\": 5, \"3\": 2, \"31\": 2, \"46\": 2}, \"27\": {\"27\": 136, \"55\": 10}, \"40\": {\"40\": 116, \"44\": 1, \"29\": 4, \"34\": 3}, \"49\": {\"49\": 33, \"14\": 3}, \"45\": {\"27\": 9, \"45\": 107, \"55\": 3, \"9\": 3, \"48\": 1, \"4\": 1}, \"46\": {\"46\": 135, \"52\": 1}, \"11\": {\"11\": 127, \"15\": 3}, \"30\": {\"30\": 110, \"17\": 2}, \"0\": {\"0\": 120, \"56\": 4}, \"10\": {\"10\": 68}, \"1\": {\"1\": 148}, \"42\": {\"42\": 38, \"2\": 1, \"0\": 1}, \"54\": {\"54\": 111, \"42\": 1}, \"55\": {\"55\": 150, \"27\": 2}, \"23\": {\"23\": 123, \"18\": 1}, \"25\": {\"25\": 145, \"18\": 1, \"23\": 5, \"52\": 1}, \"28\": {\"28\": 32}, \"32\": {\"32\": 29, \"55\": 2, \"27\": 1}, \"9\": {\"9\": 142}, \"39\": {\"39\": 20}, \"3\": {\"3\": 81, \"14\": 1, \"47\": 11, \"31\": 3, \"42\": 2, \"54\": 2}, \"29\": {\"29\": 117, \"40\": 1}, \"17\": {\"17\": 115, \"30\": 1}, \"35\": {\"35\": 28, \"56\": 8}, \"44\": {\"44\": 148, \"5\": 4}, \"5\": {\"44\": 1, \"5\": 126, \"19\": 1}, \"33\": {\"33\": 32}, \"34\": {\"34\": 35, \"40\": 1}, \"13\": {\"13\": 138}, \"41\": {\"41\": 28}, \"6\": {\"6\": 118, \"30\": 5, \"17\": 1, \"8\": 1, \"1\": 1, \"26\": 2}, \"51\": {\"51\": 138}, \"50\": {\"50\": 122, \"20\": 3, \"53\": 5, \"25\": 1, \"21\": 12, \"8\": 1}, \"37\": {\"37\": 24}, \"19\": {\"19\": 144}, \"57\": {\"57\": 132}, \"21\": {\"21\": 144}, \"24\": {\"24\": 80}, \"8\": {\"8\": 130}, \"12\": {\"12\": 96}, \"48\": {\"48\": 132}, \"43\": {\"43\": 147, \"15\": 3}, \"53\": {\"53\": 139, \"20\": 9}, \"38\": {\"38\": 32}, \"16\": {\"16\": 142}, \"22\": {\"29\": 1, \"22\": 27}, \"4\": {\"4\": 100}, \"18\": {\"18\": 64}, \"20\": {\"20\": 136, \"53\": 8}, \"52\": {\"52\": 138, \"25\": 1, \"23\": 1}, \"31\": {\"31\": 36}}, \"CORES_1\": {\"41\": {\"41\": 21, \"51\": 3}, \"40\": {\"40\": 110}, \"45\": {\"45\": 131, \"42\": 6, \"7\": 1}, \"51\": {\"51\": 145, \"41\": 1, \"13\": 2}, \"5\": {\"5\": 141, \"6\": 11, \"50\": 1, \"48\": 1}, \"30\": {\"30\": 120}, \"42\": {\"42\": 38, \"45\": 2}, \"46\": {\"46\": 136}, \"48\": {\"48\": 133, \"6\": 1}, \"53\": {\"53\": 144}, \"47\": {\"47\": 152}, \"49\": {\"49\": 32}, \"36\": {\"36\": 64}, \"32\": {\"32\": 32}, \"34\": {\"34\": 24}, \"29\": {\"29\": 140}, \"35\": {\"35\": 36}, \"3\": {\"3\": 133, \"20\": 1}, \"16\": {\"16\": 140}, \"26\": {\"26\": 24}, \"57\": {\"57\": 125, \"56\": 19}, \"44\": {\"44\": 108, \"57\": 12, \"29\": 2, \"56\": 4, \"35\": 2}, \"0\": {\"0\": 146, \"21\": 1, \"23\": 2, \"38\": 1, \"31\": 2}, \"4\": {\"4\": 132}, \"31\": {\"31\": 28}, \"11\": {\"11\": 137, \"52\": 3}, \"6\": {\"6\": 75, \"5\": 16, \"2\": 2, \"48\": 3}, \"54\": {\"54\": 104}, \"17\": {\"17\": 64}, \"20\": {\"20\": 128}, \"13\": {\"13\": 138, \"12\": 5, \"51\": 7}, \"33\": {\"33\": 32}, \"24\": {\"24\": 100, \"22\": 2, \"15\": 1, \"10\": 4, \"37\": 1}, \"52\": {\"52\": 115, \"24\": 2, \"22\": 8, \"11\": 3, \"10\": 3, \"21\": 1}, \"2\": {\"2\": 36}, \"19\": {\"19\": 153, \"1\": 3}, \"39\": {\"39\": 24, \"31\": 4}, \"8\": {\"8\": 116, \"9\": 24}, \"21\": {\"21\": 115, \"23\": 3, \"15\": 5, \"22\": 1}, \"10\": {\"10\": 89, \"22\": 4, \"24\": 2, \"52\": 1}, \"37\": {\"25\": 6, \"37\": 26}, \"25\": {\"37\": 4, \"25\": 140}, \"27\": {\"27\": 130}, \"23\": {\"23\": 120, \"15\": 14, \"21\": 2}, \"1\": {\"1\": 92, \"19\": 8}, \"50\": {\"50\": 152}, \"12\": {\"12\": 109, \"13\": 6, \"51\": 1}, \"18\": {\"18\": 72}, \"38\": {\"38\": 22, \"0\": 2}, \"14\": {\"20\": 2, \"30\": 2, \"51\": 1, \"54\": 1, \"45\": 1, \"9\": 2, \"14\": 6, \"18\": 3, \"7\": 2, \"8\": 1, \"53\": 2, \"33\": 1}, \"56\": {\"57\": 15, \"56\": 124, \"19\": 2, \"1\": 1}, \"55\": {\"55\": 160}, \"9\": {\"9\": 116, \"8\": 22}, \"15\": {\"15\": 135, \"23\": 8, \"21\": 3}, \"28\": {\"28\": 27, \"11\": 1}, \"7\": {\"7\": 28}, \"43\": {\"43\": 136}, \"22\": {\"10\": 9, \"21\": 2, \"22\": 112, \"49\": 3, \"52\": 1, \"15\": 2, \"24\": 7}}, \"CORES_3\": {\"1\": {\"1\": 99, \"57\": 1}, \"9\": {\"9\": 123, \"27\": 1}, \"22\": {\"22\": 133, \"14\": 1, \"55\": 2}, \"43\": {\"43\": 136}, \"49\": {\"49\": 20}, \"50\": {\"50\": 130, \"52\": 5, \"20\": 2, \"8\": 1}, \"53\": {\"53\": 136}, \"10\": {\"10\": 64}, \"48\": {\"48\": 116}, \"8\": {\"8\": 138}, \"31\": {\"31\": 28}, \"56\": {\"56\": 134}, \"25\": {\"25\": 142}, \"28\": {\"28\": 27, \"55\": 1}, \"38\": {\"38\": 27, \"12\": 1}, \"5\": {\"5\": 112, \"48\": 1, \"47\": 2, \"54\": 1}, \"12\": {\"12\": 91, \"38\": 1}, \"6\": {\"6\": 64, \"18\": 12, \"52\": 1, \"30\": 4, \"36\": 3, \"41\": 1, \"50\": 1, \"8\": 1, \"23\": 1}, \"19\": {\"19\": 135, \"40\": 17}, \"26\": {\"26\": 24}, \"32\": {\"32\": 28}, \"33\": {\"33\": 28}, \"3\": {\"3\": 115, \"52\": 3}, \"51\": {\"51\": 124, \"21\": 4}, \"16\": {\"16\": 137, \"11\": 1}, \"46\": {\"46\": 134, \"25\": 1, \"16\": 4, \"52\": 1}, \"7\": {\"7\": 36}, \"47\": {\"47\": 89, \"5\": 2, \"0\": 1}, \"39\": {\"39\": 14, \"48\": 2}, \"40\": {\"40\": 120, \"19\": 16}, \"14\": {\"14\": 30, \"28\": 1, \"56\": 3, \"22\": 5, \"55\": 1}, \"37\": {\"37\": 28}, \"2\": {\"54\": 2, \"2\": 30}, \"21\": {\"21\": 119, \"51\": 1}, \"35\": {\"35\": 28}, \"54\": {\"54\": 100}, \"52\": {\"52\": 115, \"50\": 1}, \"29\": {\"29\": 118}, \"20\": {\"20\": 132}, \"18\": {\"18\": 83, \"6\": 1}, \"11\": {\"11\": 142}, \"0\": {\"0\": 124}, \"36\": {\"36\": 100}, \"17\": {\"17\": 107, \"32\": 1}, \"30\": {\"30\": 113, \"41\": 1}, \"42\": {\"42\": 28}, \"45\": {\"45\": 59, \"27\": 1}, \"4\": {\"4\": 148}, \"23\": {\"23\": 134}, \"13\": {\"13\": 128}, \"15\": {\"15\": 128}, \"57\": {\"57\": 124}, \"27\": {\"27\": 131, \"9\": 3}, \"44\": {\"44\": 88}, \"34\": {\"34\": 32}, \"41\": {\"41\": 25, \"30\": 2, \"18\": 1}, \"24\": {\"24\": 103, \"43\": 1}, \"55\": {\"55\": 118}}, \"CORES_4\": {\"52\": {\"52\": 112, \"39\": 1, \"25\": 3}, \"6\": {\"6\": 100, \"31\": 1, \"53\": 6, \"51\": 4, \"25\": 1}, \"14\": {\"14\": 13, \"56\": 2, \"35\": 1}, \"49\": {\"49\": 20}, \"0\": {\"49\": 2, \"0\": 64, \"22\": 6, \"36\": 1, \"32\": 2, \"25\": 1, \"46\": 2, \"43\": 2}, \"46\": {\"46\": 145, \"32\": 1, \"47\": 5, \"0\": 3, \"22\": 2}, \"41\": {\"41\": 36}, \"24\": {\"24\": 52, \"10\": 4}, \"25\": {\"25\": 148, \"36\": 4}, \"40\": {\"40\": 136, \"19\": 2}, \"38\": {\"38\": 40}, \"13\": {\"13\": 152}, \"9\": {\"9\": 106, \"17\": 2}, \"45\": {\"45\": 96}, \"43\": {\"43\": 144}, \"10\": {\"10\": 130}, \"15\": {\"15\": 126, \"11\": 2}, \"39\": {\"39\": 20}, \"4\": {\"4\": 132}, \"53\": {\"53\": 131, \"6\": 1}, \"1\": {\"1\": 37, \"57\": 2, \"55\": 1}, \"28\": {\"28\": 30, \"33\": 2}, \"54\": {\"54\": 106, \"18\": 2}, \"21\": {\"21\": 132}, \"7\": {\"7\": 22, \"32\": 1, \"0\": 1}, \"8\": {\"8\": 136}, \"42\": {\"42\": 32}, \"11\": {\"11\": 103, \"15\": 1}, \"33\": {\"28\": 5, \"33\": 31}, \"27\": {\"27\": 142}, \"19\": {\"19\": 144}, \"2\": {\"2\": 35, \"1\": 1}, \"3\": {\"3\": 104, \"53\": 1, \"20\": 8, \"25\": 4, \"8\": 2, \"6\": 1}, \"57\": {\"57\": 99, \"1\": 1}, \"20\": {\"20\": 112}, \"23\": {\"23\": 128}, \"22\": {\"22\": 124, \"0\": 4}, \"29\": {\"29\": 121, \"57\": 2, \"17\": 1}, \"36\": {\"36\": 86, \"52\": 1, \"18\": 1, \"25\": 4}, \"51\": {\"51\": 131, \"6\": 1}, \"31\": {\"31\": 27, \"16\": 1}, \"12\": {\"12\": 92}, \"56\": {\"56\": 137, \"14\": 1}, \"5\": {\"5\": 100, \"57\": 2, \"47\": 5, \"54\": 1}, \"35\": {\"35\": 40}, \"17\": {\"17\": 80}, \"32\": {\"32\": 24}, \"47\": {\"47\": 118, \"5\": 2}, \"18\": {\"18\": 105, \"23\": 2, \"9\": 1}, \"26\": {\"26\": 24}, \"50\": {\"50\": 100, \"21\": 5, \"53\": 10, \"3\": 1, \"20\": 5, \"6\": 1}, \"55\": {\"55\": 122, \"35\": 2}, \"34\": {\"34\": 24}, \"30\": {\"30\": 44}, \"37\": {\"37\": 24}, \"44\": {\"44\": 129, \"19\": 3}, \"48\": {\"48\": 118}, \"16\": {\"16\": 96}}, \"CORES_2\": {\"11\": {\"11\": 130}, \"21\": {\"21\": 119, \"51\": 1}, \"19\": {\"19\": 135, \"40\": 5}, \"20\": {\"20\": 119, \"53\": 9}, \"9\": {\"9\": 136, \"4\": 4}, \"10\": {\"10\": 112}, \"37\": {\"37\": 36}, \"32\": {\"32\": 25, \"17\": 3}, \"3\": {\"3\": 81, \"21\": 7, \"52\": 1, \"53\": 1, \"20\": 1, \"46\": 1}, \"39\": {\"39\": 28}, \"45\": {\"45\": 126, \"4\": 1, \"9\": 1}, \"50\": {\"50\": 118, \"6\": 14, \"25\": 1, \"8\": 3}, \"40\": {\"40\": 131, \"19\": 8, \"45\": 1}, \"46\": {\"46\": 110, \"16\": 3, \"52\": 10, \"11\": 2, \"25\": 1, \"15\": 1, \"50\": 1}, \"12\": {\"12\": 92}, \"13\": {\"13\": 114, \"37\": 2}, \"47\": {\"47\": 131, \"5\": 1}, \"15\": {\"15\": 142}, \"54\": {\"54\": 107, \"27\": 1}, \"48\": {\"48\": 148}, \"23\": {\"23\": 142}, \"29\": {\"29\": 128}, \"38\": {\"38\": 20}, \"53\": {\"53\": 123, \"20\": 13}, \"27\": {\"27\": 149, \"54\": 1}, \"43\": {\"43\": 144}, \"35\": {\"35\": 32}, \"0\": {\"0\": 46, \"5\": 2}, \"52\": {\"52\": 124}, \"8\": {\"8\": 126, \"6\": 1, \"50\": 1}, \"24\": {\"24\": 93, \"10\": 1, \"43\": 2}, \"18\": {\"18\": 48}, \"25\": {\"25\": 148}, \"57\": {\"57\": 133, \"42\": 3}, \"55\": {\"55\": 133, \"14\": 1}, \"36\": {\"36\": 116}, \"17\": {\"17\": 102, \"32\": 2}, \"2\": {\"2\": 31, \"49\": 1}, \"34\": {\"34\": 28}, \"1\": {\"1\": 108, \"9\": 1, \"57\": 1, \"17\": 1, \"42\": 1}, \"51\": {\"51\": 135, \"21\": 1}, \"31\": {\"31\": 28}, \"49\": {\"49\": 24}, \"14\": {\"31\": 2, \"14\": 13, \"22\": 1, \"29\": 1, \"56\": 3, \"55\": 4}, \"33\": {\"33\": 28}, \"41\": {\"41\": 19, \"36\": 1}, \"28\": {\"28\": 28}, \"5\": {\"5\": 117, \"47\": 3}, \"16\": {\"16\": 150}, \"4\": {\"4\": 123, \"9\": 5}, \"22\": {\"22\": 135, \"14\": 1}, \"6\": {\"50\": 11, \"6\": 100, \"25\": 2, \"8\": 5}, \"30\": {\"30\": 124}, \"26\": {\"26\": 24}, \"56\": {\"56\": 142}, \"42\": {\"42\": 33, \"57\": 3}, \"44\": {\"44\": 96, \"35\": 1, \"19\": 2, \"45\": 1}, \"7\": {\"7\": 35, \"15\": 1}}}, \"per_domain_accuracy\": {\"ORACLE.run1_26\": {\"accuracy\": 0.440625, \"source?\": true}, \"ORACLE.run1_44\": {\"accuracy\": 0.6580729166666667, \"source?\": true}, \"ORACLE.run1_50\": {\"accuracy\": 0.6763020833333333, \"source?\": true}, \"ORACLE.run1_38\": {\"accuracy\": 0.6541666666666667, \"source?\": true}, \"ORACLE.run1_20\": {\"accuracy\": 0.45859375, \"source?\": true}, \"ORACLE.run1_14\": {\"accuracy\": 0.7046875, \"source?\": true}, \"ORACLE.run1_32\": {\"accuracy\": 0.684375, \"source?\": true}, \"ORACLE.run1_8\": {\"accuracy\": 0.55078125, \"source?\": true}, \"CORES_5\": {\"accuracy\": 0.965782122905028, \"source?\": false}, \"CORES_1\": {\"accuracy\": 0.9456521739130435, \"source?\": false}, \"CORES_3\": {\"accuracy\": 0.9777573529411765, \"source?\": false}, \"CORES_4\": {\"accuracy\": 0.9717620481927711, \"source?\": false}, \"CORES_2\": {\"accuracy\": 0.9708806818181818, \"source?\": false}}}, \"history\": {\"epoch_indices\": [1, 2, 3, 4, 5, 6, 7, 8, 9, 10, 11], \"train_label_loss\": [1.6305153133879815, 1.028318554433506, 0.858243343850509, 0.7427020965986664, 0.6448822950267987, 0.5591539680004297, 0.48565741854863953, 0.4236158169451214, 0.3686258094496138, 0.32481372899034927, 0.28482449145591265], \"source_val_label_loss\": [1.2347608804702759, 1.0896927118301392, 1.0722025632858276, 1.067705512046814, 1.1053104400634766, 1.15912926197052, 1.2511805295944214, 1.328535556793213, 1.4019477367401123, 1.467893123626709, 1.563059687614441], \"target_val_label_loss\": [0.1712082177400589, 0.16861124336719513, 0.18595638871192932, 0.19220097362995148, 0.2126312106847763, 0.22690698504447937, 0.24377815425395966, 0.2813508212566376, 0.3233315348625183, 0.3373692035675049, 0.3457094430923462], \"source_val_acc_label\": [0.5312825520833333, 0.5867513020833334, 0.6015299479166667, 0.6114908854166666, 0.61298828125, 0.6012369791666666, 0.6034505208333333, 0.6007486979166666, 0.6020182291666667, 0.5984049479166667, 0.5933919270833333], \"target_val_acc_label\": [0.9486785714285715, 0.9562142857142857, 0.9614285714285714, 0.9657142857142857, 0.9636071428571429, 0.9655357142857143, 0.9660357142857143, 0.9631428571428572, 0.962, 0.9616785714285714, 0.9623928571428572]}, \"dataset_metrics\": {\"source\": {\"train\": {\"n_unique_x\": 179200, \"n_unique_y\": 16, \"n_batch/episode\": 6720}, \"val\": {\"n_unique_x\": 38400, \"n_unique_y\": 16, \"n_batch/episode\": 960}, \"test\": {\"n_unique_x\": 38400, \"n_unique_y\": 16, \"n_batch/episode\": 960}}, \"target\": {\"train\": {\"n_unique_x\": 175203, \"n_unique_y\": 58, \"n_batch/episode\": 6321}, \"val\": {\"n_unique_x\": 37151, \"n_unique_y\": 58, \"n_batch/episode\": 875}, \"test\": {\"n_unique_x\": 37548, \"n_unique_y\": 58, \"n_batch/episode\": 885}}}}'"
      ]
     },
     "execution_count": 29,
     "metadata": {},
     "output_type": "execute_result"
    }
   ],
   "source": [
    "json.dumps(experiment)"
   ]
  }
 ],
 "metadata": {
  "celltoolbar": "Tags",
  "kernelspec": {
   "display_name": "Python 3 (ipykernel)",
   "language": "python",
   "name": "python3"
  },
  "language_info": {
   "codemirror_mode": {
    "name": "ipython",
    "version": 3
   },
   "file_extension": ".py",
   "mimetype": "text/x-python",
   "name": "python",
   "nbconvert_exporter": "python",
   "pygments_lexer": "ipython3",
   "version": "3.8.12"
  },
  "papermill": {
   "default_parameters": {},
   "duration": 2497.055253,
   "end_time": "2022-03-22T16:12:12.602334",
   "environment_variables": {},
   "exception": null,
   "input_path": "/root/csc500-main/csc500-notebooks/templates/tl_ptn_template.ipynb",
   "output_path": "trial.ipynb",
   "parameters": {
    "parameters": {
     "BEST_MODEL_PATH": "./best_model.pth",
     "NUM_LOGS_PER_EPOCH": 10,
     "criteria_for_best": "target_accuracy",
     "dataset_seed": 7,
     "datasets": [
      {
       "domain_prefix": "CORES_",
       "domains": [
        1,
        2,
        3,
        4,
        5
       ],
       "episode_transforms": [],
       "labels": [
        "1-10.",
        "1-11.",
        "1-15.",
        "1-16.",
        "1-17.",
        "1-18.",
        "1-19.",
        "10-4.",
        "10-7.",
        "11-1.",
        "11-14.",
        "11-17.",
        "11-20.",
        "11-7.",
        "13-20.",
        "13-8.",
        "14-10.",
        "14-11.",
        "14-14.",
        "14-7.",
        "15-1.",
        "15-20.",
        "16-1.",
        "16-16.",
        "17-10.",
        "17-11.",
        "17-2.",
        "19-1.",
        "19-16.",
        "19-19.",
        "19-20.",
        "19-3.",
        "2-10.",
        "2-11.",
        "2-17.",
        "2-18.",
        "2-20.",
        "2-3.",
        "2-4.",
        "2-5.",
        "2-6.",
        "2-7.",
        "2-8.",
        "3-13.",
        "3-18.",
        "3-3.",
        "4-1.",
        "4-10.",
        "4-11.",
        "4-19.",
        "5-5.",
        "6-15.",
        "7-10.",
        "7-14.",
        "8-18.",
        "8-20.",
        "8-3.",
        "8-8."
       ],
       "num_examples_per_domain_per_label": -1,
       "pickle_path": "/root/csc500-main/datasets/cores.stratified_ds.2022A.pkl",
       "source_or_target_dataset": "target",
       "x_transforms": [
        "unit_mag"
       ]
      },
      {
       "domain_prefix": "ORACLE.run1_",
       "domains": [
        32,
        38,
        8,
        44,
        14,
        50,
        20,
        26
       ],
       "episode_transforms": [],
       "labels": [
        "3123D52",
        "3123D65",
        "3123D79",
        "3123D80",
        "3123D54",
        "3123D70",
        "3123D7B",
        "3123D89",
        "3123D58",
        "3123D76",
        "3123D7D",
        "3123EFE",
        "3123D64",
        "3123D78",
        "3123D7E",
        "3124E4A"
       ],
       "num_examples_per_domain_per_label": 2000,
       "pickle_path": "/root/csc500-main/datasets/oracle.Run1_10kExamples_stratified_ds.2022A.pkl",
       "source_or_target_dataset": "source",
       "x_transforms": [
        "unit_mag"
       ]
      }
     ],
     "device": "cuda",
     "experiment_name": "tl_1v2:cores-oracle.run1.limited",
     "lr": 0.0001,
     "n_epoch": 50,
     "n_query": 2,
     "n_shot": 3,
     "n_way": 16,
     "patience": 3,
     "seed": 7,
     "test_k_factor": 2,
     "torch_default_dtype": "torch.float32",
     "train_k_factor": 3,
     "val_k_factor": 2,
     "x_net": [
      {
       "class": "nnReshape",
       "kargs": {
        "shape": [
         -1,
         1,
         2,
         256
        ]
       }
      },
      {
       "class": "Conv2d",
       "kargs": {
        "bias": false,
        "in_channels": 1,
        "kernel_size": [
         1,
         7
        ],
        "out_channels": 256,
        "padding": [
         0,
         3
        ]
       }
      },
      {
       "class": "ReLU",
       "kargs": {
        "inplace": true
       }
      },
      {
       "class": "BatchNorm2d",
       "kargs": {
        "num_features": 256
       }
      },
      {
       "class": "Conv2d",
       "kargs": {
        "bias": true,
        "in_channels": 256,
        "kernel_size": [
         2,
         7
        ],
        "out_channels": 80,
        "padding": [
         0,
         3
        ]
       }
      },
      {
       "class": "ReLU",
       "kargs": {
        "inplace": true
       }
      },
      {
       "class": "BatchNorm2d",
       "kargs": {
        "num_features": 80
       }
      },
      {
       "class": "Flatten",
       "kargs": {}
      },
      {
       "class": "Linear",
       "kargs": {
        "in_features": 20480,
        "out_features": 256
       }
      },
      {
       "class": "ReLU",
       "kargs": {
        "inplace": true
       }
      },
      {
       "class": "BatchNorm1d",
       "kargs": {
        "num_features": 256
       }
      },
      {
       "class": "Linear",
       "kargs": {
        "in_features": 256,
        "out_features": 256
       }
      }
     ]
    }
   },
   "start_time": "2022-03-22T15:30:35.547081",
   "version": "2.3.4"
  }
 },
 "nbformat": 4,
 "nbformat_minor": 5
}